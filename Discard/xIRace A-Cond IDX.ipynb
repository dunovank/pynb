{
 "cells": [
  {
   "cell_type": "code",
   "execution_count": 1,
   "metadata": {
    "collapsed": true
   },
   "outputs": [],
   "source": [
    "from radd import build, vis\n",
    "from radd.toolbox.utils import get_default_inits"
   ]
  },
  {
   "cell_type": "code",
   "execution_count": 2,
   "metadata": {
    "collapsed": false
   },
   "outputs": [],
   "source": [
    "kind='xirace' \n",
    "dynamic='exp'\n",
    "depends_on={'a':'Cond'}\n",
    "inits = get_default_inits(kind=kind, dynamic=dynamic, depends_on=depends_on)"
   ]
  },
  {
   "cell_type": "code",
   "execution_count": 3,
   "metadata": {
    "collapsed": false
   },
   "outputs": [
    {
     "ename": "NameError",
     "evalue": "name 'data' is not defined",
     "output_type": "error",
     "traceback": [
      "\u001b[0;31m---------------------------------------------------------------------------\u001b[0m",
      "\u001b[0;31mNameError\u001b[0m                                 Traceback (most recent call last)",
      "\u001b[0;32m<ipython-input-3-b232a2fbe815>\u001b[0m in \u001b[0;36m<module>\u001b[0;34m()\u001b[0m\n\u001b[0;32m----> 1\u001b[0;31m \u001b[0mm\u001b[0m \u001b[0;34m=\u001b[0m \u001b[0mbuild\u001b[0m\u001b[0;34m.\u001b[0m\u001b[0mModel\u001b[0m\u001b[0;34m(\u001b[0m\u001b[0mdata\u001b[0m\u001b[0;34m=\u001b[0m\u001b[0mdata\u001b[0m\u001b[0;34m,\u001b[0m \u001b[0mkind\u001b[0m\u001b[0;34m=\u001b[0m\u001b[0mkind\u001b[0m\u001b[0;34m,\u001b[0m \u001b[0mdynamic\u001b[0m\u001b[0;34m=\u001b[0m\u001b[0mdynamic\u001b[0m\u001b[0;34m,\u001b[0m \u001b[0mdepends_on\u001b[0m\u001b[0;34m=\u001b[0m\u001b[0mdepends_on\u001b[0m\u001b[0;34m,\u001b[0m \u001b[0mfit_on\u001b[0m\u001b[0;34m=\u001b[0m\u001b[0;34m'average'\u001b[0m\u001b[0;34m)\u001b[0m\u001b[0;34m\u001b[0m\u001b[0m\n\u001b[0m",
      "\u001b[0;31mNameError\u001b[0m: name 'data' is not defined"
     ]
    }
   ],
   "source": [
    "m = build.Model(data=data, kind=kind, dynamic=dynamic, depends_on=depends_on, fit_on='average')"
   ]
  },
  {
   "cell_type": "code",
   "execution_count": 4,
   "metadata": {
    "collapsed": false
   },
   "outputs": [
    {
     "name": "stdout",
     "output_type": "stream",
     "text": [
      "\n",
      "      Model is prepared to fit xradd model (w/ exp dynamic bias) to average data,\n",
      "      allowing Drift-Rate to vary across levels of Cond (bsl, pnl)\n",
      "\n",
      "      Check your zoomfile before optimizing. It should be in your computer \n",
      "\n"
     ]
    }
   ],
   "source": [
    "#kind='xirace' \n",
    "data = redf_store.redata\n",
    "kind='xradd'\n",
    "dynamic='exp'\n",
    "depends_on={'v':'Cond'}\n",
    "m = build.Model(data=data, kind=kind, dynamic=dynamic, depends_on=depends_on, fit_on='average')"
   ]
  },
  {
   "cell_type": "code",
   "execution_count": 5,
   "metadata": {
    "collapsed": false
   },
   "outputs": [],
   "source": [
    "m.make_simulator()\n",
    "simulator = m.simulator"
   ]
  },
  {
   "cell_type": "code",
   "execution_count": 24,
   "metadata": {
    "collapsed": false
   },
   "outputs": [
    {
     "data": {
      "text/plain": [
       "array([ 0.9996,  0.9556,  0.7876,  0.4224,  0.0978,  0.0082,  0.4719,\n",
       "        0.4899,  0.5034,  0.5194,  0.5444,  0.4674,  0.4849,  0.4979,\n",
       "        0.5129,  0.5359,  0.9991,  0.9578,  0.7828,  0.4258,  0.1064,\n",
       "        0.0102,  0.4719,  0.4899,  0.5034,  0.5194,  0.5454,  0.4694,\n",
       "        0.4849,  0.4979,  0.5119,  0.5369])"
      ]
     },
     "execution_count": 24,
     "metadata": {},
     "output_type": "execute_result"
    }
   ],
   "source": [
    "yhat"
   ]
  },
  {
   "cell_type": "code",
   "execution_count": null,
   "metadata": {
    "collapsed": false
   },
   "outputs": [],
   "source": [
    "for i, y in enumerate(m.avg_y):\n",
    "      vis.plot_fits(y, yhat.reshape(2,16)[i], kind='radd')"
   ]
  }
 ],
 "metadata": {
  "kernelspec": {
   "display_name": "Python 2",
   "language": "python",
   "name": "python2"
  },
  "language_info": {
   "codemirror_mode": {
    "name": "ipython",
    "version": 2
   },
   "file_extension": ".py",
   "mimetype": "text/x-python",
   "name": "python",
   "nbconvert_exporter": "python",
   "pygments_lexer": "ipython2",
   "version": "2.7.10"
  }
 },
 "nbformat": 4,
 "nbformat_minor": 0
}
