{
 "metadata": {
  "name": "",
  "signature": "sha256:3d6ce5d93b0448b6df762e0b2238bda79958bab2bb89eeb53790b863afcf877b"
 },
 "nbformat": 3,
 "nbformat_minor": 0,
 "worksheets": [
  {
   "cells": [
    {
     "cell_type": "heading",
     "level": 1,
     "metadata": {},
     "source": [
      "Flat RE-PNL Data Nested Fits "
     ]
    },
    {
     "cell_type": "code",
     "collapsed": false,
     "input": [
      "from __future__ import division\n",
      "import pandas as pd\n",
      "from radd import utils\n",
      "from radd import xopt\n",
      "from lmfit import Parameters, Minimizer"
     ],
     "language": "python",
     "metadata": {},
     "outputs": [],
     "prompt_number": 24
    },
    {
     "cell_type": "heading",
     "level": 3,
     "metadata": {},
     "source": [
      "Load in data"
     ]
    },
    {
     "cell_type": "code",
     "collapsed": false,
     "input": [
      "pth=utils.find_path()\n",
      "\n",
      "#ssRe BSL Data\n",
      "redata_pnl=pd.read_csv(pth+\"DataFiles/RePNL_Data.csv\", index_col=0)\n",
      "pnl=redata_pnl.copy()\n",
      "pnl.head()"
     ],
     "language": "python",
     "metadata": {},
     "outputs": [
      {
       "html": [
        "<div style=\"max-height:1000px;max-width:1500px;overflow:auto;\">\n",
        "<table border=\"1\" class=\"dataframe\">\n",
        "  <thead>\n",
        "    <tr style=\"text-align: right;\">\n",
        "      <th></th>\n",
        "      <th>subj_idx</th>\n",
        "      <th>GoTrial</th>\n",
        "      <th>StopSignal</th>\n",
        "      <th>Cond</th>\n",
        "      <th>trial_type</th>\n",
        "      <th>choice</th>\n",
        "      <th>response</th>\n",
        "      <th>acc</th>\n",
        "      <th>rt</th>\n",
        "      <th>ssd</th>\n",
        "    </tr>\n",
        "  </thead>\n",
        "  <tbody>\n",
        "    <tr>\n",
        "      <th>221</th>\n",
        "      <td> 28</td>\n",
        "      <td> 1</td>\n",
        "      <td> 1000</td>\n",
        "      <td> pnl</td>\n",
        "      <td> go</td>\n",
        "      <td> go</td>\n",
        "      <td> 1</td>\n",
        "      <td> 1</td>\n",
        "      <td> 0.520254</td>\n",
        "      <td> 1000</td>\n",
        "    </tr>\n",
        "    <tr>\n",
        "      <th>222</th>\n",
        "      <td> 28</td>\n",
        "      <td> 1</td>\n",
        "      <td> 1000</td>\n",
        "      <td> pnl</td>\n",
        "      <td> go</td>\n",
        "      <td> go</td>\n",
        "      <td> 1</td>\n",
        "      <td> 1</td>\n",
        "      <td> 0.625376</td>\n",
        "      <td> 1000</td>\n",
        "    </tr>\n",
        "    <tr>\n",
        "      <th>223</th>\n",
        "      <td> 28</td>\n",
        "      <td> 1</td>\n",
        "      <td> 1000</td>\n",
        "      <td> pnl</td>\n",
        "      <td> go</td>\n",
        "      <td> go</td>\n",
        "      <td> 1</td>\n",
        "      <td> 1</td>\n",
        "      <td> 0.598215</td>\n",
        "      <td> 1000</td>\n",
        "    </tr>\n",
        "    <tr>\n",
        "      <th>224</th>\n",
        "      <td> 28</td>\n",
        "      <td> 1</td>\n",
        "      <td> 1000</td>\n",
        "      <td> pnl</td>\n",
        "      <td> go</td>\n",
        "      <td> go</td>\n",
        "      <td> 1</td>\n",
        "      <td> 1</td>\n",
        "      <td> 0.545094</td>\n",
        "      <td> 1000</td>\n",
        "    </tr>\n",
        "    <tr>\n",
        "      <th>225</th>\n",
        "      <td> 28</td>\n",
        "      <td> 1</td>\n",
        "      <td> 1000</td>\n",
        "      <td> pnl</td>\n",
        "      <td> go</td>\n",
        "      <td> go</td>\n",
        "      <td> 1</td>\n",
        "      <td> 1</td>\n",
        "      <td> 0.518379</td>\n",
        "      <td> 1000</td>\n",
        "    </tr>\n",
        "  </tbody>\n",
        "</table>\n",
        "</div>"
       ],
       "metadata": {},
       "output_type": "pyout",
       "prompt_number": 25,
       "text": [
        "     subj_idx  GoTrial  StopSignal Cond trial_type choice  response  acc  \\\n",
        "221        28        1        1000  pnl         go     go         1    1   \n",
        "222        28        1        1000  pnl         go     go         1    1   \n",
        "223        28        1        1000  pnl         go     go         1    1   \n",
        "224        28        1        1000  pnl         go     go         1    1   \n",
        "225        28        1        1000  pnl         go     go         1    1   \n",
        "\n",
        "           rt   ssd  \n",
        "221  0.520254  1000  \n",
        "222  0.625376  1000  \n",
        "223  0.598215  1000  \n",
        "224  0.545094  1000  \n",
        "225  0.518379  1000  "
       ]
      }
     ],
     "prompt_number": 25
    },
    {
     "cell_type": "heading",
     "level": 3,
     "metadata": {},
     "source": [
      "Get Mean Stop-Curve and RT (Across Sx)"
     ]
    },
    {
     "cell_type": "code",
     "collapsed": false,
     "input": [
      "gocor=pnl[(pnl['trial_type']=='go')&(pnl['acc']==1)&(pnl['rt']<.650)]\n",
      "meanrt=np.mean([sxdf.rt.mean() for sx, sxdf in gocor.groupby('subj_idx')])\n",
      "\n",
      "stops=pnl[pnl['trial_type']=='stop']\n",
      "accpiv=utils.makePivot(stops, cols='ssd', index='subj_idx', values='acc')\n",
      "\n",
      "ydata=list(accpiv.mean())\n",
      "ydata.append(meanrt)\n",
      "ydata=np.array(ydata)\n",
      "ydata"
     ],
     "language": "python",
     "metadata": {},
     "outputs": [
      {
       "metadata": {},
       "output_type": "pyout",
       "prompt_number": 86,
       "text": [
        "array([ 0.99344262,  0.9852459 ,  0.92540984,  0.5942623 ,  0.18114754,\n",
        "        0.56539724])"
       ]
      }
     ],
     "prompt_number": 86
    },
    {
     "cell_type": "heading",
     "level": 3,
     "metadata": {},
     "source": [
      "Load in HDDM Params and Get Average Param-Set Across Sx"
     ]
    },
    {
     "cell_type": "code",
     "collapsed": false,
     "input": [
      "#paramdf_pnl=pd.read_csv(pth+\"ParamFiles/RePNL_HDDM_Params.csv\", index_col='subj_idx')\n",
      "#paramdf_pnl.drop('Cond', axis=1, inplace=True)\n",
      "#pdf=paramdf_pnl.copy()\n",
      "#del pdf['sv']\n",
      "\n",
      "#pinit=pdf.mean()\n",
      "#pinit"
     ],
     "language": "python",
     "metadata": {},
     "outputs": [],
     "prompt_number": 87
    },
    {
     "cell_type": "heading",
     "level": 3,
     "metadata": {},
     "source": [
      "Optimize Parameters: Fitting on Average Stop-Curve and Mean RT (Collapsed Across Sx)"
     ]
    },
    {
     "cell_type": "code",
     "collapsed": false,
     "input": [
      "xopt=reload(xopt)\n",
      "\n",
      "#Use All Params from ReBSL Optimal Theta\n",
      "#Except Go Drift-Rate (V)\n",
      "pinit={'a': 0.43155063058963727,\n",
      " 'ssv': 0.96986662065537221,\n",
      " 't': 0.30656375144494813,\n",
      " 'v': 1.0366001760617101,\n",
      " 'z': 0.16611261860323445}\n",
      "\n",
      "ntrials=5000\n",
      "\n",
      "p=Parameters()\n",
      "p.add('v', value=pinit['v'], min=0.0, vary=True)\n",
      "\n",
      "popt = Minimizer(xopt.ssre_accrt_minfunc, p, fcn_args=(pinit, ydata, ntrials), method='Nelder-Mead') \n",
      "popt.fmin(maxfun=1000, ftol=5.e-2, xtol=1.e-2, full_output=True, disp=True)"
     ],
     "language": "python",
     "metadata": {},
     "outputs": [
      {
       "output_type": "stream",
       "stream": "stdout",
       "text": [
        "[ 0.00299866 -0.00108749  0.00211492 -0.1057977  -0.06552007 -0.00742912]\n",
        "[ 0.00305407 -0.00768685 -0.03090701 -0.24492256 -0.12776676 -0.02192336]"
       ]
      },
      {
       "output_type": "stream",
       "stream": "stdout",
       "text": [
        "\n",
        "[ 0.00575802  0.00638756  0.02405296  0.00589575  0.01909227  0.00558047]"
       ]
      },
      {
       "output_type": "stream",
       "stream": "stdout",
       "text": [
        "\n",
        "[ 0.00535497  0.00958306  0.05012292  0.11303522  0.15166251  0.01675474]"
       ]
      },
      {
       "output_type": "stream",
       "stream": "stdout",
       "text": [
        "\n",
        "[ 0.00533139  0.01077321  0.04962086  0.08061847  0.155125    0.01677746]"
       ]
      },
      {
       "output_type": "stream",
       "stream": "stdout",
       "text": [
        "\n",
        "[ 0.00615496  0.00396704  0.01083863 -0.05715292 -0.02488479 -0.00091995]"
       ]
      },
      {
       "output_type": "stream",
       "stream": "stdout",
       "text": [
        "\n",
        "[ 0.00538044  0.00686455  0.03517934  0.06206135  0.09904377  0.01113728]"
       ]
      },
      {
       "output_type": "stream",
       "stream": "stdout",
       "text": [
        "\n",
        "[ 0.00573365  0.00500593  0.02208515 -0.03126389 -0.00603957  0.00205253]"
       ]
      },
      {
       "output_type": "stream",
       "stream": "stdout",
       "text": [
        "\n",
        "[ 0.00615448  0.00905145  0.02867796  0.02470941  0.06398233  0.00886112]"
       ]
      },
      {
       "output_type": "stream",
       "stream": "stdout",
       "text": [
        "\n",
        "[ 0.00419796  0.00020276  0.02393119 -0.00641916  0.02133843  0.00346517]"
       ]
      },
      {
       "output_type": "stream",
       "stream": "stdout",
       "text": [
        "\n",
        "[ 0.00454287  0.00598916  0.0336033   0.02694983  0.05260808  0.00770426]"
       ]
      },
      {
       "output_type": "stream",
       "stream": "stdout",
       "text": [
        "\n",
        "[ 0.00574138  0.00720843  0.02265249 -0.03168635  0.01925487  0.00421399]"
       ]
      },
      {
       "output_type": "stream",
       "stream": "stdout",
       "text": [
        "\n",
        "[ 0.00535882  0.00643067  0.0203079  -0.01207606  0.01982491  0.00496973]"
       ]
      },
      {
       "output_type": "stream",
       "stream": "stdout",
       "text": [
        "\n",
        "Optimization terminated successfully.\n",
        "         Current function value: 0.001046\n",
        "         Iterations: 6\n",
        "         Function evaluations: 13\n",
        "[ 0.00574668  0.00318187  0.02193759 -0.01592496  0.03299707  0.00454605]"
       ]
      },
      {
       "output_type": "stream",
       "stream": "stdout",
       "text": [
        "\n"
       ]
      }
     ],
     "prompt_number": 88
    },
    {
     "cell_type": "heading",
     "level": 3,
     "metadata": {},
     "source": [
      "Print Optimized Parameters"
     ]
    },
    {
     "cell_type": "code",
     "collapsed": false,
     "input": [
      "pinit['v']=p['v'].value\n",
      "opt_theta=pinit\n",
      "opt_theta"
     ],
     "language": "python",
     "metadata": {},
     "outputs": [
      {
       "metadata": {},
       "output_type": "pyout",
       "prompt_number": 91,
       "text": [
        "{'a': 0.4315506305896373,\n",
        " 'pGo': 0.5,\n",
        " 'si': 0.01,\n",
        " 'ssd': 0.4,\n",
        " 'ssv': -0.9698666206553722,\n",
        " 't': 0.30656375144494813,\n",
        " 'v': 0.96457528429444439,\n",
        " 'z': 0.16611261860323445}"
       ]
      }
     ],
     "prompt_number": 91
    },
    {
     "cell_type": "heading",
     "level": 3,
     "metadata": {},
     "source": [
      "Import Plotting Style/Objects"
     ]
    },
    {
     "cell_type": "code",
     "collapsed": false,
     "input": [
      "import seaborn as sns\n",
      "from radd import psy\n",
      "utils=reload(utils)\n",
      "\n",
      "pth=utils.find_path()\n",
      "sparams=utils.style_params()\n",
      "colors=sparams['colors']\n",
      "sns.set_style('ticks', rc=sparams['style'])\n",
      "sns.set_context('paper', rc=sparams['context'])\n",
      "ssdlist=[.20, .25, .3, .35, .4]\n",
      "\n",
      "sns.palplot(colors)"
     ],
     "language": "python",
     "metadata": {},
     "outputs": [
      {
       "metadata": {},
       "output_type": "display_data",
       "png": "[encoded data removed]",
       "text": [
        "<matplotlib.figure.Figure at 0x7f28c702aa10>"
       ]
      }
     ],
     "prompt_number": 92
    },
    {
     "cell_type": "heading",
     "level": 3,
     "metadata": {},
     "source": [
      "Compare RADD Predictions with Data"
     ]
    },
    {
     "cell_type": "code",
     "collapsed": false,
     "input": [
      "#opt_theta={k:p[k].value for k in p.keys()}\n",
      "#params=pd.Series(opt_theta)\n",
      "\n",
      "yhat=ydata+popt.residual\n",
      "\n",
      "yd=ydata[:-1]\n",
      "yderr=list(accpiv.sem())\n",
      "rtd=ydata[-1]\n",
      "rtderr=pd.Series([sxdf.rt.mean() for sx, sxdf in gocor.groupby('subj_idx')]).sem()\n",
      "\n",
      "yhat=ydata+popt.residual\n",
      "yh=yhat[:-1]\n",
      "rth=yhat[-1]"
     ],
     "language": "python",
     "metadata": {},
     "outputs": [],
     "prompt_number": 93
    },
    {
     "cell_type": "code",
     "collapsed": false,
     "input": [
      "stopmeans=[yd[::-1], yh[::-1]]\n",
      "\n",
      "ax=psy.scurves(ysim=stopmeans, yerr=[yderr[::-1], np.zeros_like(yderr)], title='RePNL_RADD_FlatData_StopAcc', \n",
      "               colors=[colors[-5], colors[-4]], labels=['Data', 'RADD'])"
     ],
     "language": "python",
     "metadata": {},
     "outputs": [
      {
       "metadata": {},
       "output_type": "display_data",
       "png": "[encoded data removed]",
       "text": [
        "<matplotlib.figure.Figure at 0x7f28c6b2cb50>"
       ]
      }
     ],
     "prompt_number": 94
    },
    {
     "cell_type": "code",
     "collapsed": false,
     "input": [
      "#plot rt\n",
      "ff, axx=plt.subplots(1, figsize=(5, 6.5))\n",
      "rtderr=pd.Series([sxdf.rt.mean() for sx, sxdf in gocor.groupby('subj_idx')]).sem()\n",
      "\n",
      "axx.bar(0, rtd, yerr=rtderr, color=colors[-5], error_kw={\"elinewidth\":3, \"capthick\":2.5, \n",
      "        \"capsize\":3, \"ecolor\":'k'}, alpha=.9,align='center', label='Data')\n",
      "\n",
      "axx.errorbar(0, rth, marker='o', markersize=15, color=colors[-4], alpha=.95, label='RADD')   \n",
      "\n",
      "plt.setp(axx, xlim=(-.7, .7), ylim=(.5, .6), ylabel='RT (s)', xticks=[], xticklabels=[], xlabel='Penalty')\n",
      "axx.set_xlabel('Penalty', fontsize=19)\n",
      "plt.setp(axx.get_yticklabels(), fontsize=17)\n",
      "axx.set_ylabel('RT (s)', fontsize=19, labelpad=8) \n",
      "axx.legend(loc=0, fontsize=17)\n",
      "sns.despine()\n",
      "plt.tight_layout()\n",
      "ff.savefig(pth+\"RePNL_RADD_FlatData_RT.png\", dpi=600)    "
     ],
     "language": "python",
     "metadata": {},
     "outputs": [
      {
       "metadata": {},
       "output_type": "display_data",
       "png": "[encoded data removed]",
       "text": [
        "<matplotlib.figure.Figure at 0x7f28c6acc7d0>"
       ]
      }
     ],
     "prompt_number": 95
    },
    {
     "cell_type": "heading",
     "level": 3,
     "metadata": {},
     "source": [
      "Plot of BSL and PNL Mean Correct Go RT +/- SEM (Across Sx)"
     ]
    },
    {
     "cell_type": "code",
     "collapsed": false,
     "input": [
      "#print redata_pnl.rt.mean()#.subj_idx.unique())\n",
      "#print pnlc.rt.mean()#.subj_idx.unique())\n",
      "bsl=pd.read_csv(pth+\"DataFiles/ReBSL_Data.csv\", index_col=0)\n",
      "\n",
      "bslc=bsl[(bsl['trial_type']=='go')&(bsl['acc']==1)&(bsl['rt']<.650)]\n",
      "pnlc=gocor\n",
      "bslrt=bslc.groupby('subj_idx').mean().mean()['rt']\n",
      "bslerr=bslc.groupby('subj_idx').mean().sem()['rt']\n",
      "pnlrt=pnlc.groupby('subj_idx').mean().mean()['rt']\n",
      "pnlerr=pnlc.groupby('subj_idx').mean().sem()['rt']\n",
      "\n",
      "plt.bar([0,1], [bslrt, pnlrt], yerr=[bslerr, pnlerr], align='center', error_kw={'ecolor':'r'})\n",
      "prop=plt.setp(plt.gca(), ylim=(.54,.57), xlim=(-.5, 1.5), xticks=[0,1], xticklabels=['Baseline', 'Penalty'])\n",
      "sns.despine()\n",
      "plt.tight_layout()"
     ],
     "language": "python",
     "metadata": {},
     "outputs": [
      {
       "metadata": {},
       "output_type": "display_data",
       "png": "[encoded data removed]",
       "text": [
        "<matplotlib.figure.Figure at 0x7f28c6e3e8d0>"
       ]
      }
     ],
     "prompt_number": 74
    },
    {
     "cell_type": "code",
     "collapsed": false,
     "input": [],
     "language": "python",
     "metadata": {},
     "outputs": []
    }
   ],
   "metadata": {}
  }
 ]
}