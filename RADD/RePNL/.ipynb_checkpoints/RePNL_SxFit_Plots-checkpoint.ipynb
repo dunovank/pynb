{
 "metadata": {
  "name": "",
  "signature": "sha256:34451eb3958806b6166b51371059b0e9bd56e95aee320e42d8da5b327c059bb9"
 },
 "nbformat": 3,
 "nbformat_minor": 0,
 "worksheets": [
  {
   "cells": [
    {
     "cell_type": "heading",
     "level": 1,
     "metadata": {},
     "source": [
      "Single SX RE-PNL DATA NESTED FITS "
     ]
    },
    {
     "cell_type": "code",
     "collapsed": false,
     "input": [
      "from __future__ import division\n",
      "import pandas as pd\n",
      "from radd import utils, xopt, psy\n",
      "from lmfit import Parameters, Minimizer\n",
      "import seaborn as sns"
     ],
     "language": "python",
     "metadata": {},
     "outputs": [],
     "prompt_number": 1
    },
    {
     "cell_type": "heading",
     "level": 3,
     "metadata": {},
     "source": [
      "Load in data"
     ]
    },
    {
     "cell_type": "code",
     "collapsed": false,
     "input": [
      "pth=utils.find_path()\n",
      "redata_pnl=pd.read_csv(pth+\"DataFiles/RePNL_Data.csv\", index_col=0)\n",
      "pnl=redata_pnl.copy()"
     ],
     "language": "python",
     "metadata": {},
     "outputs": [],
     "prompt_number": 2
    },
    {
     "cell_type": "heading",
     "level": 3,
     "metadata": {},
     "source": [
      "Get Subject RT Vector"
     ]
    },
    {
     "cell_type": "code",
     "collapsed": false,
     "input": [
      "gocor=pnl[(pnl['trial_type']=='go')&(pnl['acc']==1)&(pnl['rt']<.650)]\n",
      "rts=np.array([sxdf.rt.mean() for sx, sxdf in gocor.groupby('subj_idx')])\n"
     ],
     "language": "python",
     "metadata": {},
     "outputs": [],
     "prompt_number": 3
    },
    {
     "cell_type": "heading",
     "level": 3,
     "metadata": {},
     "source": [
      "Get DF of Stop Curves (cols=SSD, index=sx) and Append Column w/ Mean Sx RTs"
     ]
    },
    {
     "cell_type": "code",
     "collapsed": false,
     "input": [
      "stops=pnl[pnl['trial_type']=='stop']\n",
      "stopdata=utils.makePivot(stops, cols='ssd', index='subj_idx', values='acc')\n",
      "ydata=stopdata.copy()\n",
      "\n",
      "# scale RTs to have same \n",
      "# sign digits as pstop\n",
      "ydata['rt']=rts*10"
     ],
     "language": "python",
     "metadata": {},
     "outputs": [],
     "prompt_number": 4
    },
    {
     "cell_type": "heading",
     "level": 3,
     "metadata": {},
     "source": [
      "Define Initial Parameter Values (Optimal Sx Params For ReBSL)"
     ]
    },
    {
     "cell_type": "code",
     "collapsed": false,
     "input": [
      "paramdf=pd.read_csv(pth+\"OptAccRT/ReBSL_SxFits/ReBSL_AllSxParams.csv\", index_col=0)\n"
     ],
     "language": "python",
     "metadata": {},
     "outputs": [],
     "prompt_number": 6
    },
    {
     "cell_type": "heading",
     "level": 3,
     "metadata": {},
     "source": [
      "Fit Single Sx - RePNL Nested Model (RADD)"
     ]
    },
    {
     "cell_type": "code",
     "collapsed": false,
     "input": [
      "xopt=reload(xopt)\n",
      "\n",
      "\n",
      "pb=utils.PBinJ(len(paramdf), color=\"#009B76\"); sx_n=0\n",
      "sxpred_list=[]; ssdlist=[200,250,300,350,400,'rt']\n",
      "pth=utils.find_path()\n",
      "popt_df=pd.DataFrame(columns=paramdf.columns, index=paramdf.index.unique())\n",
      "ntrials=5000; depHyper=True\n",
      "\n",
      "for sx in paramdf.index.unique():\n",
      "\n",
      "    sx_n+=1  \n",
      "    \n",
      "    y=list(ydata.loc[sx,:].values)\n",
      "    sxtheta=paramdf.loc[sx].to_dict()\n",
      "\n",
      "    p=Parameters()\n",
      "    p.add('v', value=sxtheta['v'], min=0.0, vary=True)\n",
      "    \n",
      "    popt = Minimizer(xopt.ssre_accrt_minfunc, p, fcn_args=(sxtheta, y, ntrials), method='Nelder-Mead') \n",
      "    popt.fmin(maxfun=1000, ftol=5.e-2, xtol=1.e-2, full_output=True, disp=True)\n",
      "    \n",
      "    sxpred=pd.DataFrame.from_dict({'subj_idx':[sx]*len(popt.residual),'ssdlist':ssdlist, 'ydata':y, \n",
      "            'residuals':popt.residual, 'yhat':y+popt.residual, 'chi':popt.chisqr}, orient='columns')\n",
      "    \n",
      "    for param in popt.values.keys():\n",
      "        popt_df.loc[sx, param]=popt.values[param]\n",
      "    for param in sxtheta.keys():\n",
      "        popt_df.loc[sx, param]=sxtheta[param]\n",
      "        \n",
      "    popt_df.to_csv(pth+\"OptAccRT/RePNL_SxFits/RePNL_AllSxParams.csv\")\n",
      "    sxpred.to_csv(pth+\"OptAccRT/RePNL_SxFits/RePNL_Sx\"+str(sx)+\".csv\")\n",
      "    sxpred_list.append(sxpred)\n",
      "    \n",
      "\n",
      "    pb.update_i(sx_n)\n",
      "\n",
      "allsx=pd.concat(sxpred_list)\n",
      "allsx.to_csv(pth+\"OptAccRT/RePNL_SxFits/RePNL_AllSx.csv\")\n",
      "popt_df.to_csv(pth+\"OptAccRT/RePNL_SxFits/RePNL_AllSxParams.csv\")"
     ],
     "language": "python",
     "metadata": {},
     "outputs": [
      {
       "html": [
        "\n",
        "\t    <div style=\"border: 1px solid black; width:500px\">\n",
        "\t    <div id=\"90b4e1e2-da28-42e2-a885-a064ce2a6adb\" style=\"background-color:#009B76; width:0%\">&nbsp;</div>\n",
        "\t    </div> \n",
        "\t    "
       ],
       "metadata": {},
       "output_type": "display_data",
       "text": [
        "<IPython.core.display.HTML at 0x7f31295607d0>"
       ]
      },
      {
       "output_type": "stream",
       "stream": "stdout",
       "text": [
        "[-0.00238379 -0.00744222 -0.0040977  -0.27419355  0.03621795 -0.06090047]\n",
        "[-0.00228833 -0.01680328 -0.02188498 -0.38876669 -0.03910637 -0.19808563]"
       ]
      },
      {
       "output_type": "stream",
       "stream": "stdout",
       "text": [
        "\n",
        "[-0.00040453 -0.00647249  0.02233202 -0.16819258  0.13763148  0.07353114]"
       ]
      },
      {
       "output_type": "stream",
       "stream": "stdout",
       "text": [
        "\n",
        "[ 0.         -0.00161355  0.03110932 -0.03531746  0.25897436  0.18589633]"
       ]
      },
      {
       "output_type": "stream",
       "stream": "stdout",
       "text": [
        "\n",
        "[ 0.         -0.00317839  0.03300971 -0.05591483  0.30473325  0.18552225]"
       ]
      },
      {
       "output_type": "stream",
       "stream": "stdout",
       "text": [
        "\n",
        "[-0.00119713 -0.00674068  0.00199677 -0.2084507   0.07616162  0.00312369]"
       ]
      },
      {
       "output_type": "stream",
       "stream": "stdout",
       "text": [
        "\n",
        "[-0.0004008  -0.01199835 -0.00203252 -0.28757637  0.02837838 -0.0556289 ]"
       ]
      },
      {
       "output_type": "stream",
       "stream": "stdout",
       "text": [
        "\n",
        "[-0.00079302 -0.0054816   0.01278317 -0.19379283  0.11292929  0.04090481]"
       ]
      },
      {
       "output_type": "stream",
       "stream": "stdout",
       "text": [
        "\n",
        "[-0.00283745 -0.0091053  -0.00610824 -0.254324    0.05586965 -0.02754253]"
       ]
      },
      {
       "output_type": "stream",
       "stream": "stdout",
       "text": [
        "\n",
        "[-0.00164813 -0.00760608  0.00634921 -0.2184716   0.10502593  0.02353373]"
       ]
      },
      {
       "output_type": "stream",
       "stream": "stdout",
       "text": [
        "\n",
        "[-0.000407   -0.00559776  0.01270122 -0.20952381  0.09896948  0.02338571]"
       ]
      },
      {
       "output_type": "stream",
       "stream": "stdout",
       "text": [
        "\n",
        "[-0.00079491 -0.00682457  0.00241903 -0.25666799  0.0697731  -0.0141146 ]"
       ]
      },
      {
       "output_type": "stream",
       "stream": "stdout",
       "text": [
        "\n",
        "[-0.00039262 -0.0089613   0.01026751 -0.21633146  0.08839428  0.00978717]"
       ]
      },
      {
       "output_type": "stream",
       "stream": "stdout",
       "text": [
        "\n",
        "[-0.00039651 -0.0088141   0.01143029 -0.22062853  0.08240517  0.00902244]"
       ]
      },
      {
       "output_type": "stream",
       "stream": "stdout",
       "text": [
        "\n",
        "Optimization terminated successfully.\n",
        "         Current function value: 0.049313\n",
        "         Iterations: 6\n",
        "         Function evaluations: 14\n",
        "[-0.00080096 -0.00645422 -0.00026348 -0.22551474  0.09600499  0.0120518 ]"
       ]
      },
      {
       "output_type": "stream",
       "stream": "stdout",
       "text": [
        "\n"
       ]
      },
      {
       "javascript": [
        "$('div#90b4e1e2-da28-42e2-a885-a064ce2a6adb').width('1.72%')"
       ],
       "metadata": {},
       "output_type": "display_data",
       "text": [
        "<IPython.core.display.Javascript at 0x7f31295b4c10>"
       ]
      },
      {
       "output_type": "stream",
       "stream": "stdout",
       "text": [
        "[ 0.         -0.00284091 -0.01714063 -0.0429734  -0.09210316  0.01848884]\n",
        "[-0.00040816 -0.00244598 -0.02552852 -0.1308948  -0.20024155 -0.10202626]"
       ]
      },
      {
       "output_type": "stream",
       "stream": "stdout",
       "text": [
        "\n",
        "[ 0.         -0.00119237 -0.00826772  0.06003584  0.06854935  0.13430486]"
       ]
      },
      {
       "output_type": "stream",
       "stream": "stdout",
       "text": [
        "\n",
        "[ 0.         -0.0028169  -0.01052632  0.01232821 -0.02262614  0.07556326]"
       ]
      },
      {
       "output_type": "stream",
       "stream": "stdout",
       "text": [
        "\n",
        "[-0.00039952 -0.00040258 -0.01059495  0.07187994  0.0508758   0.12967026]"
       ]
      },
      {
       "output_type": "stream",
       "stream": "stdout",
       "text": [
        "\n",
        "[ 0.         -0.00157542 -0.01109285 -0.01021242 -0.06321794  0.05459042]"
       ]
      },
      {
       "output_type": "stream",
       "stream": "stdout",
       "text": [
        "\n",
        "[-0.00039557 -0.0028169  -0.00763359  0.02991369  0.0126943   0.11143052]"
       ]
      },
      {
       "output_type": "stream",
       "stream": "stdout",
       "text": [
        "\n",
        "[-0.00040883 -0.00120822 -0.00971267  0.00625248 -0.04824418  0.06956168]"
       ]
      },
      {
       "output_type": "stream",
       "stream": "stdout",
       "text": [
        "\n",
        "[ 0.         -0.00080906 -0.01269338 -0.0052852  -0.0445913   0.06566872]"
       ]
      },
      {
       "output_type": "stream",
       "stream": "stdout",
       "text": [
        "\n",
        "[ 0.         -0.00198649 -0.00649351 -0.00091352 -0.07623723  0.05326535]"
       ]
      },
      {
       "output_type": "stream",
       "stream": "stdout",
       "text": [
        "\n",
        "[ 0.         -0.00159936 -0.00669291  0.00377884 -0.04575856  0.07228834]"
       ]
      },
      {
       "output_type": "stream",
       "stream": "stdout",
       "text": [
        "\n",
        "[-0.00039777 -0.00081037 -0.00948992 -0.00030725 -0.02145709  0.0704038 ]"
       ]
      },
      {
       "output_type": "stream",
       "stream": "stdout",
       "text": [
        "\n",
        "Optimization terminated successfully.\n",
        "         Current function value: 0.005508\n",
        "         Iterations: 5\n",
        "         Function evaluations: 12\n",
        "[ 0.         -0.00199203 -0.01114206  0.01855895 -0.02552559  0.0799286 ]"
       ]
      },
      {
       "output_type": "stream",
       "stream": "stdout",
       "text": [
        "\n"
       ]
      },
      {
       "javascript": [
        "$('div#90b4e1e2-da28-42e2-a885-a064ce2a6adb').width('3.45%')"
       ],
       "metadata": {},
       "output_type": "display_data",
       "text": [
        "<IPython.core.display.Javascript at 0x7f3129598650>"
       ]
      },
      {
       "output_type": "stream",
       "stream": "stdout",
       "text": [
        "[ 0.          0.         -0.00928168  0.13171789 -0.14076621  0.0726912 ]\n",
        "[-0.00039793 -0.00120337 -0.01520756  0.01247544 -0.25622568 -0.05239233]"
       ]
      },
      {
       "output_type": "stream",
       "stream": "stdout",
       "text": [
        "\n",
        "[-0.00040161  0.         -0.00366151  0.20472837  0.00207668  0.17134181]"
       ]
      },
      {
       "output_type": "stream",
       "stream": "stdout",
       "text": [
        "\n",
        "[-0.00039809 -0.0004029  -0.00980777  0.09011299 -0.18952342  0.01254972]"
       ]
      },
      {
       "output_type": "stream",
       "stream": "stdout",
       "text": [
        "\n",
        "[ 0.         -0.00121017 -0.00813638  0.16151832 -0.06059815  0.13231046]"
       ]
      },
      {
       "output_type": "stream",
       "stream": "stdout",
       "text": [
        "\n",
        "[-0.00039746 -0.00402576 -0.0084507   0.10059195 -0.1602502   0.04085392]"
       ]
      },
      {
       "output_type": "stream",
       "stream": "stdout",
       "text": [
        "\n",
        "[ 0.         -0.00202922 -0.01052221  0.07623274 -0.19595022  0.00805433]"
       ]
      },
      {
       "output_type": "stream",
       "stream": "stdout",
       "text": [
        "\n",
        "[-0.0003951   0.         -0.00963082  0.0993014  -0.15914902  0.06202975]"
       ]
      },
      {
       "output_type": "stream",
       "stream": "stdout",
       "text": [
        "\n",
        "[ 0.         -0.00123406 -0.00992457  0.10069693 -0.17438163  0.02320019]"
       ]
      },
      {
       "output_type": "stream",
       "stream": "stdout",
       "text": [
        "\n",
        "[ 0.         -0.0008071  -0.00967352  0.10431034 -0.16056845  0.04423251]"
       ]
      },
      {
       "output_type": "stream",
       "stream": "stdout",
       "text": [
        "\n",
        "Optimization terminated successfully.\n",
        "         Current function value: 0.037556\n",
        "         Iterations: 5\n",
        "         Function evaluations: 10\n",
        "[-0.0003888  -0.00082169 -0.01013377  0.10695284 -0.17493064  0.04393992]"
       ]
      },
      {
       "output_type": "stream",
       "stream": "stdout",
       "text": [
        "\n"
       ]
      },
      {
       "javascript": [
        "$('div#90b4e1e2-da28-42e2-a885-a064ce2a6adb').width('5.17%')"
       ],
       "metadata": {},
       "output_type": "display_data",
       "text": [
        "<IPython.core.display.Javascript at 0x7f312955c750>"
       ]
      },
      {
       "output_type": "stream",
       "stream": "stdout",
       "text": [
        "[ 0.         -0.00397931 -0.02453988 -0.2413751  -0.13035714 -0.02385852]\n",
        "[-0.00039401 -0.00516693 -0.03996803 -0.36229508 -0.21563868 -0.16079969]"
       ]
      },
      {
       "output_type": "stream",
       "stream": "stdout",
       "text": [
        "\n",
        "[-0.00081466 -0.00358709 -0.01978199 -0.1192     -0.02077922  0.09718234]"
       ]
      },
      {
       "output_type": "stream",
       "stream": "stdout",
       "text": [
        "\n",
        "[ 0.         -0.00201045 -0.00997606 -0.03762636  0.12615012  0.21358119]"
       ]
      },
      {
       "output_type": "stream",
       "stream": "stdout",
       "text": [
        "\n",
        "[-0.00040193 -0.00119665 -0.01015435 -0.0326087   0.12792046  0.21072052]"
       ]
      }
     ]
    },
    {
     "cell_type": "code",
     "collapsed": false,
     "input": [
      "xopt=reload(xopt)\n",
      "\n",
      "#sxpred=xopt.sxloop_opt_acc_rt(ydata, optmean, ntrials=1000)"
     ],
     "language": "python",
     "metadata": {},
     "outputs": [],
     "prompt_number": 7
    },
    {
     "cell_type": "heading",
     "level": 3,
     "metadata": {},
     "source": [
      "Read in Fit and Prediction Summaries for Each Subject and Concatenate"
     ]
    },
    {
     "cell_type": "code",
     "collapsed": false,
     "input": [
      "sxl=list()\n",
      "for sx in paramdf.index.unique():\n",
      "    try:\n",
      "        sxl.append(pd.read_csv(pth+\"OptAccRT/RePNL_SxFits/RePNL_Sx\"+str(sx)+\".csv\", index_col=0))\n",
      "    except:\n",
      "        pass\n",
      "df=pd.concat(sxl)"
     ],
     "language": "python",
     "metadata": {},
     "outputs": [],
     "prompt_number": 8
    },
    {
     "cell_type": "heading",
     "level": 3,
     "metadata": {},
     "source": [
      "Save Concatenated Sx-Fits-Predictions DataFrame to File"
     ]
    },
    {
     "cell_type": "code",
     "collapsed": false,
     "input": [
      "df.to_csv(pth+\"OptAccRT/RePNL_SxFits/RePNL_AllSxFits.csv\")"
     ],
     "language": "python",
     "metadata": {},
     "outputs": [],
     "prompt_number": 10
    },
    {
     "cell_type": "heading",
     "level": 3,
     "metadata": {},
     "source": [
      "Calculate Summary Stop Acc & RT Values"
     ]
    },
    {
     "cell_type": "code",
     "collapsed": false,
     "input": [
      "import seaborn as sns\n",
      "psy=reload(psy)\n",
      "utils=reload(utils)\n",
      "\n",
      "sparams=utils.style_params()\n",
      "colors=sparams['colors']\n",
      "sns.set_style('ticks', rc=sparams['style'])\n",
      "sns.set_context('paper', rc=sparams['context'])\n",
      "\n",
      "avg=df.groupby('ssdlist').mean()\n",
      "sem=df.groupby('ssdlist').sem()\n",
      "\n",
      "avg=df.groupby('ssdlist').mean()\n",
      "yd=avg['ydata'][:-1]\n",
      "yh=avg['yhat'][:-1]\n",
      "rtd=avg['ydata'][-1]/10\n",
      "rth=avg['yhat'][-1]/10\n",
      "\n",
      "sns.palplot(sparams['colors'])"
     ],
     "language": "python",
     "metadata": {},
     "outputs": [
      {
       "metadata": {},
       "output_type": "display_data",
       "png": "[encoded data removed]",
       "text": [
        "<matplotlib.figure.Figure at 0x11478fe50>"
       ]
      }
     ],
     "prompt_number": 16
    },
    {
     "cell_type": "heading",
     "level": 3,
     "metadata": {},
     "source": [
      "Plot Observed/Predicted Stop Curves/RT "
     ]
    },
    {
     "cell_type": "code",
     "collapsed": false,
     "input": [
      "import seaborn as sns\n",
      "psy=reload(psy)\n",
      "utils=reload(utils)\n",
      "\n",
      "sparams=utils.style_params()\n",
      "colors=sparams['colors']\n",
      "sns.set_style('ticks', rc=sparams['style'])\n",
      "sns.set_context('paper', rc=sparams['context'])\n",
      "\n",
      "stopmeans=[yd[::-1], yh[::-1]]\n",
      "stoperr=[sem['ydata'][:-1][::-1]*2, sem['yhat'][:-1][::-1]*2]\n",
      "\n",
      "ax=psy.scurves(ysim=stopmeans, yerr=stoperr, title='SingleSx_OptAccRT_Final_+-2SEM.png', \n",
      "               colors=[colors[-8], colors[-1]], labels=['Data', 'RADD'])\n",
      "plt.savefig(pth+\"OptAccRt/RePNL_SxFits/To44.png\")"
     ],
     "language": "python",
     "metadata": {},
     "outputs": [
      {
       "metadata": {},
       "output_type": "display_data",
       "png": "[encoded data removed]",
       "text": [
        "<matplotlib.figure.Figure at 0x1151df750>"
       ]
      }
     ],
     "prompt_number": 15
    },
    {
     "cell_type": "code",
     "collapsed": false,
     "input": [
      "#plot rt\n",
      "ff, axx=plt.subplots(1, figsize=(5, 6.5))\n",
      "\n",
      "axx.bar(0, rtd, yerr=sem['ydata'][-1]/10, color=colors[-8], error_kw={\"elinewidth\":3, \"capthick\":2.5, \n",
      "        \"capsize\":3, \"ecolor\":'k'}, alpha=.9,align='center', label='Data')\n",
      "\n",
      "axx.errorbar(0, rth, yerr=sem['yhat'][-1]/10, marker='o', markersize=15, \n",
      "             elinewidth=2, ecolor=colors[-1], color=colors[-1], alpha=.8, label='RADD')   \n",
      "\n",
      "plt.setp(axx, xlim=(-.7, .7), ylim=(.5, .6), ylabel='RT (s)', xticks=[], xticklabels=[], xlabel='ssRe BSL')\n",
      "axx.set_xlabel('Baseline', fontsize=19)\n",
      "plt.setp(axx.get_yticklabels(), fontsize=17)\n",
      "axx.set_ylabel('RT (s)', fontsize=19, labelpad=8) \n",
      "axx.legend(loc=0, fontsize=17)\n",
      "sns.despine()\n",
      "plt.tight_layout()\n",
      "ff.savefig(pth+\"OptAccRT/RePNL_RTtoSx44.png\", dpi=300)    "
     ],
     "language": "python",
     "metadata": {},
     "outputs": [
      {
       "metadata": {},
       "output_type": "display_data",
       "png": "[encoded data removed]",
       "text": [
        "<matplotlib.figure.Figure at 0x115305f90>"
       ]
      }
     ],
     "prompt_number": 17
    },
    {
     "cell_type": "code",
     "collapsed": false,
     "input": [],
     "language": "python",
     "metadata": {},
     "outputs": []
    }
   ],
   "metadata": {}
  }
 ]
}