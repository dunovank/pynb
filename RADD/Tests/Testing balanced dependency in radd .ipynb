{
 "metadata": {
  "name": "",
  "signature": "sha256:5220069aaa6c86055c830ff76e85f84a640f885cf80bee611bbe86463e5fea90"
 },
 "nbformat": 3,
 "nbformat_minor": 0,
 "worksheets": [
  {
   "cells": [
    {
     "cell_type": "code",
     "collapsed": false,
     "input": [
      "from radd import fitre, fitpro, fitfx, utils"
     ],
     "language": "python",
     "metadata": {},
     "outputs": [],
     "prompt_number": 1
    },
    {
     "cell_type": "code",
     "collapsed": false,
     "input": [
      "theta_df=pd.read_csv(\"/home/kyle/Dropbox/CoAx/SS/ParamFiles/ReBSL_AllSxParams.csv\", index_col=0)\n",
      "data=pd.read_csv(\"/home/kyle/Dropbox/CoAx/SS/DataFiles/ReBSL_Data.csv\", index_col=0)"
     ],
     "language": "python",
     "metadata": {},
     "outputs": [],
     "prompt_number": 23
    },
    {
     "cell_type": "code",
     "collapsed": false,
     "input": [
      "theta=theta_df.mean().to_dict()"
     ],
     "language": "python",
     "metadata": {},
     "outputs": [],
     "prompt_number": 25
    },
    {
     "cell_type": "code",
     "collapsed": false,
     "input": [
      "df=fitre.simConditions(theta, visual=True, ntrials=400)"
     ],
     "language": "python",
     "metadata": {},
     "outputs": [],
     "prompt_number": 38
    },
    {
     "cell_type": "code",
     "collapsed": false,
     "input": [
      "df.pivot_table('rt', 'ssd', 'trial_type')"
     ],
     "language": "python",
     "metadata": {},
     "outputs": [
      {
       "html": [
        "<div style=\"max-height:1000px;max-width:1500px;overflow:auto;\">\n",
        "<table border=\"1\" class=\"dataframe\">\n",
        "  <thead>\n",
        "    <tr style=\"text-align: right;\">\n",
        "      <th>trial_type</th>\n",
        "      <th>go</th>\n",
        "      <th>stop</th>\n",
        "    </tr>\n",
        "    <tr>\n",
        "      <th>ssd</th>\n",
        "      <th></th>\n",
        "      <th></th>\n",
        "    </tr>\n",
        "  </thead>\n",
        "  <tbody>\n",
        "    <tr>\n",
        "      <th>0.20</th>\n",
        "      <td> 0.56518</td>\n",
        "      <td> 0.37051</td>\n",
        "    </tr>\n",
        "    <tr>\n",
        "      <th>0.25</th>\n",
        "      <td> 0.56316</td>\n",
        "      <td> 0.41978</td>\n",
        "    </tr>\n",
        "    <tr>\n",
        "      <th>0.30</th>\n",
        "      <td> 0.56931</td>\n",
        "      <td> 0.47410</td>\n",
        "    </tr>\n",
        "    <tr>\n",
        "      <th>0.35</th>\n",
        "      <td> 0.56386</td>\n",
        "      <td> 0.53538</td>\n",
        "    </tr>\n",
        "    <tr>\n",
        "      <th>0.40</th>\n",
        "      <td> 0.55861</td>\n",
        "      <td> 0.56081</td>\n",
        "    </tr>\n",
        "  </tbody>\n",
        "</table>\n",
        "</div>"
       ],
       "metadata": {},
       "output_type": "pyout",
       "prompt_number": 39,
       "text": [
        "trial_type       go     stop\n",
        "ssd                         \n",
        "0.20        0.56518  0.37051\n",
        "0.25        0.56316  0.41978\n",
        "0.30        0.56931  0.47410\n",
        "0.35        0.56386  0.53538\n",
        "0.40        0.55861  0.56081"
       ]
      }
     ],
     "prompt_number": 39
    },
    {
     "cell_type": "code",
     "collapsed": false,
     "input": [
      "data.pivot_table('rt', 'ssd', 'choice')"
     ],
     "language": "python",
     "metadata": {},
     "outputs": [
      {
       "html": [
        "<div style=\"max-height:1000px;max-width:1500px;overflow:auto;\">\n",
        "<table border=\"1\" class=\"dataframe\">\n",
        "  <thead>\n",
        "    <tr style=\"text-align: right;\">\n",
        "      <th>choice</th>\n",
        "      <th>go</th>\n",
        "      <th>stop</th>\n",
        "    </tr>\n",
        "    <tr>\n",
        "      <th>ssd</th>\n",
        "      <th></th>\n",
        "      <th></th>\n",
        "    </tr>\n",
        "  </thead>\n",
        "  <tbody>\n",
        "    <tr>\n",
        "      <th>200 </th>\n",
        "      <td> 0.45370</td>\n",
        "      <td> 0.65190</td>\n",
        "    </tr>\n",
        "    <tr>\n",
        "      <th>250 </th>\n",
        "      <td> 0.46832</td>\n",
        "      <td> 0.65181</td>\n",
        "    </tr>\n",
        "    <tr>\n",
        "      <th>300 </th>\n",
        "      <td> 0.49005</td>\n",
        "      <td> 0.65191</td>\n",
        "    </tr>\n",
        "    <tr>\n",
        "      <th>350 </th>\n",
        "      <td> 0.53292</td>\n",
        "      <td> 0.65183</td>\n",
        "    </tr>\n",
        "    <tr>\n",
        "      <th>400 </th>\n",
        "      <td> 0.55509</td>\n",
        "      <td> 0.65184</td>\n",
        "    </tr>\n",
        "    <tr>\n",
        "      <th>1000</th>\n",
        "      <td> 0.56032</td>\n",
        "      <td> 0.65188</td>\n",
        "    </tr>\n",
        "  </tbody>\n",
        "</table>\n",
        "</div>"
       ],
       "metadata": {},
       "output_type": "pyout",
       "prompt_number": 30,
       "text": [
        "choice       go     stop\n",
        "ssd                     \n",
        "200     0.45370  0.65190\n",
        "250     0.46832  0.65181\n",
        "300     0.49005  0.65191\n",
        "350     0.53292  0.65183\n",
        "400     0.55509  0.65184\n",
        "1000    0.56032  0.65188"
       ]
      }
     ],
     "prompt_number": 30
    },
    {
     "cell_type": "code",
     "collapsed": false,
     "input": [
      "datac=data[data['acc']==1]"
     ],
     "language": "python",
     "metadata": {},
     "outputs": [],
     "prompt_number": 31
    },
    {
     "cell_type": "code",
     "collapsed": false,
     "input": [
      "datac.pivot_table('rt', 'ssd', 'choice')"
     ],
     "language": "python",
     "metadata": {},
     "outputs": [
      {
       "html": [
        "<div style=\"max-height:1000px;max-width:1500px;overflow:auto;\">\n",
        "<table border=\"1\" class=\"dataframe\">\n",
        "  <thead>\n",
        "    <tr style=\"text-align: right;\">\n",
        "      <th>choice</th>\n",
        "      <th>go</th>\n",
        "      <th>stop</th>\n",
        "    </tr>\n",
        "    <tr>\n",
        "      <th>ssd</th>\n",
        "      <th></th>\n",
        "      <th></th>\n",
        "    </tr>\n",
        "  </thead>\n",
        "  <tbody>\n",
        "    <tr>\n",
        "      <th>200 </th>\n",
        "      <td>     NaN</td>\n",
        "      <td> 0.65190</td>\n",
        "    </tr>\n",
        "    <tr>\n",
        "      <th>250 </th>\n",
        "      <td>     NaN</td>\n",
        "      <td> 0.65181</td>\n",
        "    </tr>\n",
        "    <tr>\n",
        "      <th>300 </th>\n",
        "      <td>     NaN</td>\n",
        "      <td> 0.65191</td>\n",
        "    </tr>\n",
        "    <tr>\n",
        "      <th>350 </th>\n",
        "      <td>     NaN</td>\n",
        "      <td> 0.65183</td>\n",
        "    </tr>\n",
        "    <tr>\n",
        "      <th>400 </th>\n",
        "      <td>     NaN</td>\n",
        "      <td> 0.65184</td>\n",
        "    </tr>\n",
        "    <tr>\n",
        "      <th>1000</th>\n",
        "      <td> 0.56032</td>\n",
        "      <td>     NaN</td>\n",
        "    </tr>\n",
        "  </tbody>\n",
        "</table>\n",
        "</div>"
       ],
       "metadata": {},
       "output_type": "pyout",
       "prompt_number": 32,
       "text": [
        "choice       go     stop\n",
        "ssd                     \n",
        "200         NaN  0.65190\n",
        "250         NaN  0.65181\n",
        "300         NaN  0.65191\n",
        "350         NaN  0.65183\n",
        "400         NaN  0.65184\n",
        "1000    0.56032      NaN"
       ]
      }
     ],
     "prompt_number": 32
    },
    {
     "cell_type": "code",
     "collapsed": false,
     "input": [],
     "language": "python",
     "metadata": {},
     "outputs": []
    }
   ],
   "metadata": {}
  }
 ]
}