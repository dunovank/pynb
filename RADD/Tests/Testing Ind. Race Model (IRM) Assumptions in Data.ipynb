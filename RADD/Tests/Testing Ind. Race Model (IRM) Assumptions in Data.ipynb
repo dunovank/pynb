{
 "metadata": {
  "name": "",
  "signature": "sha256:5220069aaa6c86055c830ff76e85f84a640f885cf80bee611bbe86463e5fea90"
 },
 "nbformat": 3,
 "nbformat_minor": 0,
 "worksheets": [
  {
   "cells": [
    {
     "cell_type": "code",
     "collapsed": false,
     "input": [
      "from radd import fitre, fitpro, fitfx, utils\n",
      "pth=utils.find_path()"
     ],
     "language": "python",
     "metadata": {},
     "outputs": [],
     "prompt_number": 3
    },
    {
     "cell_type": "code",
     "collapsed": false,
     "input": [
      "pth"
     ],
     "language": "python",
     "metadata": {},
     "outputs": [
      {
       "metadata": {},
       "output_type": "pyout",
       "prompt_number": 4,
       "text": [
        "'/Users/kyle/Dropbox/CoAx/SS/'"
       ]
      }
     ],
     "prompt_number": 4
    },
    {
     "cell_type": "code",
     "collapsed": false,
     "input": [
      "theta_df=pd.read_csv(pth+\"ParamFiles/ReBSL_AllSxParams.csv\", index_col=0)\n",
      "bsl=pd.read_csv(pth+\"DataFiles/ReBSL_Data.csv\", index_col=0)\n",
      "pnl=pd.read_csv(pth+\"DataFiles/ReBSL_Data.csv\", index_col=0)\n",
      "theta=theta_df.mean().to_dict()"
     ],
     "language": "python",
     "metadata": {},
     "outputs": [],
     "prompt_number": 14
    },
    {
     "cell_type": "code",
     "collapsed": false,
     "input": [
      "def sort_outcomes(dflist):\n",
      "    \n",
      "    if not hasattr(dflist, 'append'):\n",
      "        dflist=[dflist]\n",
      "    \n",
      "    for df in dflist:\n",
      "        df['ttype']=df.trial_type.copy()\n",
      "        df.ix[(df['trial_type']=='stop')&(df['acc']==0), 'ttype']='ssGo'\n",
      "        df.ix[(df['trial_type']=='stop')&(df['acc']==1), 'ttype']='ssStop'\n",
      "        df.ix[(df['trial_type']=='go')&(df['acc']==0), 'ttype']='goStop'\n",
      "        df.ix[(df['trial_type']=='go')&(df['acc']==1), 'ttype']='goGo'\n",
      "    \n",
      "    return dflist"
     ],
     "language": "python",
     "metadata": {},
     "outputs": [],
     "prompt_number": 13
    },
    {
     "cell_type": "heading",
     "level": 1,
     "metadata": {},
     "source": [
      "Simulate BSL Condition"
     ]
    },
    {
     "cell_type": "code",
     "collapsed": false,
     "input": [
      "simdf=fitre.simConditions(theta, visual=False, ntrials=900)"
     ],
     "language": "python",
     "metadata": {},
     "outputs": [],
     "prompt_number": 34
    },
    {
     "cell_type": "code",
     "collapsed": false,
     "input": [
      "dflist=[bsl, pnl, simdf]\n",
      "dflist=sort_outcomes(dflist)\n",
      "bsl, pnl, simdf = dflist"
     ],
     "language": "python",
     "metadata": {},
     "outputs": [],
     "prompt_number": 35
    },
    {
     "cell_type": "code",
     "collapsed": false,
     "input": [
      "#bsl_sx=bsl.pivot_table('rt', ['ttype', 'idx'], 'ssd')\n",
      "#bsl_sx.loc['ssGo', :]\n",
      "bsl.pivot_table('rt', 'ttype', 'ssd', aggfunc=np.mean)"
     ],
     "language": "python",
     "metadata": {},
     "outputs": [
      {
       "html": [
        "<div style=\"max-height:1000px;max-width:1500px;overflow:auto;\">\n",
        "<table border=\"1\" class=\"dataframe\">\n",
        "  <thead>\n",
        "    <tr style=\"text-align: right;\">\n",
        "      <th>ssd</th>\n",
        "      <th>200</th>\n",
        "      <th>250</th>\n",
        "      <th>300</th>\n",
        "      <th>350</th>\n",
        "      <th>400</th>\n",
        "      <th>1000</th>\n",
        "    </tr>\n",
        "    <tr>\n",
        "      <th>ttype</th>\n",
        "      <th></th>\n",
        "      <th></th>\n",
        "      <th></th>\n",
        "      <th></th>\n",
        "      <th></th>\n",
        "      <th></th>\n",
        "    </tr>\n",
        "  </thead>\n",
        "  <tbody>\n",
        "    <tr>\n",
        "      <th>goGo</th>\n",
        "      <td>    NaN</td>\n",
        "      <td>     NaN</td>\n",
        "      <td>     NaN</td>\n",
        "      <td>     NaN</td>\n",
        "      <td>     NaN</td>\n",
        "      <td> 0.56032</td>\n",
        "    </tr>\n",
        "    <tr>\n",
        "      <th>goStop</th>\n",
        "      <td>    NaN</td>\n",
        "      <td>     NaN</td>\n",
        "      <td>     NaN</td>\n",
        "      <td>     NaN</td>\n",
        "      <td>     NaN</td>\n",
        "      <td> 0.65188</td>\n",
        "    </tr>\n",
        "    <tr>\n",
        "      <th>ssGo</th>\n",
        "      <td> 0.4537</td>\n",
        "      <td> 0.46832</td>\n",
        "      <td> 0.49005</td>\n",
        "      <td> 0.53292</td>\n",
        "      <td> 0.55509</td>\n",
        "      <td>     NaN</td>\n",
        "    </tr>\n",
        "    <tr>\n",
        "      <th>ssStop</th>\n",
        "      <td> 0.6519</td>\n",
        "      <td> 0.65181</td>\n",
        "      <td> 0.65191</td>\n",
        "      <td> 0.65183</td>\n",
        "      <td> 0.65184</td>\n",
        "      <td>     NaN</td>\n",
        "    </tr>\n",
        "  </tbody>\n",
        "</table>\n",
        "</div>"
       ],
       "metadata": {},
       "output_type": "pyout",
       "prompt_number": 41,
       "text": [
        "ssd       200      250      300      350      400      1000\n",
        "ttype                                                      \n",
        "goGo       NaN      NaN      NaN      NaN      NaN  0.56032\n",
        "goStop     NaN      NaN      NaN      NaN      NaN  0.65188\n",
        "ssGo    0.4537  0.46832  0.49005  0.53292  0.55509      NaN\n",
        "ssStop  0.6519  0.65181  0.65191  0.65183  0.65184      NaN"
       ]
      }
     ],
     "prompt_number": 41
    },
    {
     "cell_type": "code",
     "collapsed": false,
     "input": [
      "bsl.pivot_table('rt', 'ttype', 'ssd', aggfunc=np.count_nonzero)"
     ],
     "language": "python",
     "metadata": {},
     "outputs": [
      {
       "html": [
        "<div style=\"max-height:1000px;max-width:1500px;overflow:auto;\">\n",
        "<table border=\"1\" class=\"dataframe\">\n",
        "  <thead>\n",
        "    <tr style=\"text-align: right;\">\n",
        "      <th>ssd</th>\n",
        "      <th>200</th>\n",
        "      <th>250</th>\n",
        "      <th>300</th>\n",
        "      <th>350</th>\n",
        "      <th>400</th>\n",
        "      <th>1000</th>\n",
        "    </tr>\n",
        "    <tr>\n",
        "      <th>ttype</th>\n",
        "      <th></th>\n",
        "      <th></th>\n",
        "      <th></th>\n",
        "      <th></th>\n",
        "      <th></th>\n",
        "      <th></th>\n",
        "    </tr>\n",
        "  </thead>\n",
        "  <tbody>\n",
        "    <tr>\n",
        "      <th>goGo</th>\n",
        "      <td>  NaN</td>\n",
        "      <td>  NaN</td>\n",
        "      <td>  NaN</td>\n",
        "      <td> NaN</td>\n",
        "      <td>  NaN</td>\n",
        "      <td> 6953</td>\n",
        "    </tr>\n",
        "    <tr>\n",
        "      <th>goStop</th>\n",
        "      <td>  NaN</td>\n",
        "      <td>  NaN</td>\n",
        "      <td>  NaN</td>\n",
        "      <td> NaN</td>\n",
        "      <td>  NaN</td>\n",
        "      <td>  428</td>\n",
        "    </tr>\n",
        "    <tr>\n",
        "      <th>ssGo</th>\n",
        "      <td>    7</td>\n",
        "      <td>   21</td>\n",
        "      <td>  126</td>\n",
        "      <td> 604</td>\n",
        "      <td> 1094</td>\n",
        "      <td>  NaN</td>\n",
        "    </tr>\n",
        "    <tr>\n",
        "      <th>ssStop</th>\n",
        "      <td> 1213</td>\n",
        "      <td> 1199</td>\n",
        "      <td> 1094</td>\n",
        "      <td> 616</td>\n",
        "      <td>  126</td>\n",
        "      <td>  NaN</td>\n",
        "    </tr>\n",
        "  </tbody>\n",
        "</table>\n",
        "</div>"
       ],
       "metadata": {},
       "output_type": "pyout",
       "prompt_number": 40,
       "text": [
        "ssd     200   250   300   350   400   1000\n",
        "ttype                                     \n",
        "goGo     NaN   NaN   NaN   NaN   NaN  6953\n",
        "goStop   NaN   NaN   NaN   NaN   NaN   428\n",
        "ssGo       7    21   126   604  1094   NaN\n",
        "ssStop  1213  1199  1094   616   126   NaN"
       ]
      }
     ],
     "prompt_number": 40
    },
    {
     "cell_type": "code",
     "collapsed": false,
     "input": [
      "simdf.pivot_table('rt', 'ttype', 'ssd', aggfunc=np.mean)"
     ],
     "language": "python",
     "metadata": {},
     "outputs": [
      {
       "html": [
        "<div style=\"max-height:1000px;max-width:1500px;overflow:auto;\">\n",
        "<table border=\"1\" class=\"dataframe\">\n",
        "  <thead>\n",
        "    <tr style=\"text-align: right;\">\n",
        "      <th>ssd</th>\n",
        "      <th>0.2</th>\n",
        "      <th>0.25</th>\n",
        "      <th>0.3</th>\n",
        "      <th>0.35</th>\n",
        "      <th>0.4</th>\n",
        "    </tr>\n",
        "    <tr>\n",
        "      <th>ttype</th>\n",
        "      <th></th>\n",
        "      <th></th>\n",
        "      <th></th>\n",
        "      <th></th>\n",
        "      <th></th>\n",
        "    </tr>\n",
        "  </thead>\n",
        "  <tbody>\n",
        "    <tr>\n",
        "      <th>goGo</th>\n",
        "      <td> 0.56103</td>\n",
        "      <td> 0.55613</td>\n",
        "      <td> 0.55945</td>\n",
        "      <td> 0.55928</td>\n",
        "      <td> 0.56274</td>\n",
        "    </tr>\n",
        "    <tr>\n",
        "      <th>goStop</th>\n",
        "      <td> 0.65000</td>\n",
        "      <td> 0.65000</td>\n",
        "      <td> 0.65000</td>\n",
        "      <td> 0.65000</td>\n",
        "      <td> 0.65000</td>\n",
        "    </tr>\n",
        "    <tr>\n",
        "      <th>ssGo</th>\n",
        "      <td>     NaN</td>\n",
        "      <td> 0.49400</td>\n",
        "      <td> 0.52098</td>\n",
        "      <td> 0.53762</td>\n",
        "      <td> 0.55364</td>\n",
        "    </tr>\n",
        "    <tr>\n",
        "      <th>ssStop</th>\n",
        "      <td> 0.37604</td>\n",
        "      <td> 0.42206</td>\n",
        "      <td> 0.46967</td>\n",
        "      <td> 0.53224</td>\n",
        "      <td> 0.60552</td>\n",
        "    </tr>\n",
        "  </tbody>\n",
        "</table>\n",
        "</div>"
       ],
       "metadata": {},
       "output_type": "pyout",
       "prompt_number": 36,
       "text": [
        "ssd        0.20     0.25     0.30     0.35     0.40\n",
        "ttype                                              \n",
        "goGo    0.56103  0.55613  0.55945  0.55928  0.56274\n",
        "goStop  0.65000  0.65000  0.65000  0.65000  0.65000\n",
        "ssGo        NaN  0.49400  0.52098  0.53762  0.55364\n",
        "ssStop  0.37604  0.42206  0.46967  0.53224  0.60552"
       ]
      }
     ],
     "prompt_number": 36
    },
    {
     "cell_type": "code",
     "collapsed": false,
     "input": [
      "datac=data[data['acc']==1]"
     ],
     "language": "python",
     "metadata": {},
     "outputs": [],
     "prompt_number": 31
    },
    {
     "cell_type": "code",
     "collapsed": false,
     "input": [
      "datac.pivot_table('rt', 'ssd', 'choice')"
     ],
     "language": "python",
     "metadata": {},
     "outputs": [
      {
       "html": [
        "<div style=\"max-height:1000px;max-width:1500px;overflow:auto;\">\n",
        "<table border=\"1\" class=\"dataframe\">\n",
        "  <thead>\n",
        "    <tr style=\"text-align: right;\">\n",
        "      <th>choice</th>\n",
        "      <th>go</th>\n",
        "      <th>stop</th>\n",
        "    </tr>\n",
        "    <tr>\n",
        "      <th>ssd</th>\n",
        "      <th></th>\n",
        "      <th></th>\n",
        "    </tr>\n",
        "  </thead>\n",
        "  <tbody>\n",
        "    <tr>\n",
        "      <th>200 </th>\n",
        "      <td>     NaN</td>\n",
        "      <td> 0.65190</td>\n",
        "    </tr>\n",
        "    <tr>\n",
        "      <th>250 </th>\n",
        "      <td>     NaN</td>\n",
        "      <td> 0.65181</td>\n",
        "    </tr>\n",
        "    <tr>\n",
        "      <th>300 </th>\n",
        "      <td>     NaN</td>\n",
        "      <td> 0.65191</td>\n",
        "    </tr>\n",
        "    <tr>\n",
        "      <th>350 </th>\n",
        "      <td>     NaN</td>\n",
        "      <td> 0.65183</td>\n",
        "    </tr>\n",
        "    <tr>\n",
        "      <th>400 </th>\n",
        "      <td>     NaN</td>\n",
        "      <td> 0.65184</td>\n",
        "    </tr>\n",
        "    <tr>\n",
        "      <th>1000</th>\n",
        "      <td> 0.56032</td>\n",
        "      <td>     NaN</td>\n",
        "    </tr>\n",
        "  </tbody>\n",
        "</table>\n",
        "</div>"
       ],
       "metadata": {},
       "output_type": "pyout",
       "prompt_number": 32,
       "text": [
        "choice       go     stop\n",
        "ssd                     \n",
        "200         NaN  0.65190\n",
        "250         NaN  0.65181\n",
        "300         NaN  0.65191\n",
        "350         NaN  0.65183\n",
        "400         NaN  0.65184\n",
        "1000    0.56032      NaN"
       ]
      }
     ],
     "prompt_number": 32
    },
    {
     "cell_type": "code",
     "collapsed": false,
     "input": [],
     "language": "python",
     "metadata": {},
     "outputs": []
    }
   ],
   "metadata": {}
  }
 ]
}