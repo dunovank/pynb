{
 "metadata": {
  "name": "",
  "signature": "sha256:6ca31bd664c375ce1777f311bce92e97ad91b4b15e24268177ed83c5f1966c2a"
 },
 "nbformat": 3,
 "nbformat_minor": 0,
 "worksheets": [
  {
   "cells": [
    {
     "cell_type": "heading",
     "level": 1,
     "metadata": {},
     "source": [
      "Flat ReBSL RADD Fits "
     ]
    },
    {
     "cell_type": "code",
     "collapsed": false,
     "input": [
      "from __future__ import division\n",
      "from radd import utils, fitre, vis, fitfx\n",
      "from lmfit import Parameters, Minimizer"
     ],
     "language": "python",
     "metadata": {},
     "outputs": [],
     "prompt_number": 1
    },
    {
     "cell_type": "heading",
     "level": 3,
     "metadata": {},
     "source": [
      "Load in data"
     ]
    },
    {
     "cell_type": "code",
     "collapsed": false,
     "input": [
      "#ssRe BSL Data\n",
      "redata_bsl=pd.read_csv(\"/home/kyle/Dropbox/CoAx/SS/DataFiles/ReBSL_Data.csv\", index_col=0)\n",
      "\n",
      "flatdf=redata_bsl.copy()\n",
      "\n",
      "flatdf.loc[:,'idx']=['flat']*len(flatdf)"
     ],
     "language": "python",
     "metadata": {},
     "outputs": [],
     "prompt_number": 3
    },
    {
     "cell_type": "code",
     "collapsed": false,
     "input": [
      "#get observed averages for convenience later\n",
      "y=list(utils.get_sacc_curve(flatdf))\n",
      "y.append(utils.get_rtcor(flatdf))\n",
      "y=np.array(y)\n",
      "\n",
      "df=flatdf.copy()\n",
      "stoperr=df[df['trial_type']=='stop'].sem()['acc']\n",
      "rterr=df[(df['trial_type']=='go')&(df['acc']==1)&(df['rt']<.653)].rt.sem()"
     ],
     "language": "python",
     "metadata": {},
     "outputs": [],
     "prompt_number": 8
    },
    {
     "cell_type": "heading",
     "level": 3,
     "metadata": {},
     "source": [
      "Load in HDDM Params and Get Average Param-Set Across Sx"
     ]
    },
    {
     "cell_type": "code",
     "collapsed": false,
     "input": [
      "paramdf_bsl=pd.read_csv(\"/home/kyle/Dropbox/CoAx/SS/ParamFiles/ReBSL_HDDM_Params.csv\", index_col='idx')\n",
      "paramdf_bsl.drop('Cond', axis=1, inplace=True)\n",
      "pdf=paramdf_bsl.copy(); del pdf['sv']\n",
      "\n",
      "inits=pdf.mean().to_dict()"
     ],
     "language": "python",
     "metadata": {},
     "outputs": [],
     "prompt_number": 5
    },
    {
     "cell_type": "heading",
     "level": 3,
     "metadata": {},
     "source": [
      "Optimize Parameters of RADD Model"
     ]
    },
    {
     "cell_type": "code",
     "collapsed": false,
     "input": [
      "pred=fitre.fit_reactive_sx(flatdf, inits=inits, depends=['v'], ntrials=5000, depHyper=True,\n",
      "                      save_path=\"/home/kyle/Dropbox/CoAx/SS/OptAccRT/ReBSL_Flat/RADD/\")"
     ],
     "language": "python",
     "metadata": {},
     "outputs": [
      {
       "html": [
        "\n",
        "\t    <div style=\"border: 1px solid black; width:500px\">\n",
        "\t    <div id=\"474bce37-3cac-4bab-bba0-cc91527cb2ce\" style=\"background-color:#009B76; width:0%\">&nbsp;</div>\n",
        "\t    </div> \n",
        "\t    "
       ],
       "metadata": {},
       "output_type": "display_data",
       "text": [
        "<IPython.core.display.HTML at 0x7f5a00c348d0>"
       ]
      },
      {
       "output_type": "stream",
       "stream": "stdout",
       "text": [
        "Warning: Maximum number of function evaluations has been exceeded.\n"
       ]
      },
      {
       "javascript": [
        "$('div#474bce37-3cac-4bab-bba0-cc91527cb2ce').width('100.00%')"
       ],
       "metadata": {},
       "output_type": "display_data",
       "text": [
        "<IPython.core.display.Javascript at 0x7f5a00f3f4d0>"
       ]
      }
     ],
     "prompt_number": 24
    },
    {
     "cell_type": "code",
     "collapsed": false,
     "input": [
      "stophat=pred['yhat'].values[:-1]\n",
      "rthat=pred['yhat'].values[-1]\n",
      "stop=y[:-1]\n",
      "rt=y[-1]\n",
      "ip=np.array([ 0.96732673,  0.92477432,  0.76720075,  0.47638191,  0.23387097])\n",
      "iprt=0.55597247320297338"
     ],
     "language": "python",
     "metadata": {},
     "outputs": []
    },
    {
     "cell_type": "code",
     "collapsed": false,
     "input": [
      "vis.scurves([stop, stophat, ip], yerr=[stoperr*1.96]*3, labels=['Data', 'RADD', 'IP'])"
     ],
     "language": "python",
     "metadata": {},
     "outputs": [
      {
       "metadata": {},
       "output_type": "pyout",
       "prompt_number": 13,
       "text": [
        "<matplotlib.axes._subplots.AxesSubplot at 0x7f5a012d4b50>"
       ]
      },
      {
       "metadata": {},
       "output_type": "display_data",
       "png": "[encoded data removed]",
       "text": [
        "<matplotlib.figure.Figure at 0x7f5a01028b50>"
       ]
      }
     ],
     "prompt_number": 13
    },
    {
     "cell_type": "code",
     "collapsed": false,
     "input": [
      "colors=['#5C5CE6', '#00B85C', 'r']\n",
      "\n",
      "f, ax=plt.subplots(1)\n",
      "\n",
      "colors=sns.color_palette(sns.color_palette(),3)\n",
      "ax.bar([0,0.5,1], [rt, rthat, iprt], yerr=[rterr*1.96]*3,\n",
      "        color=colors[:3], error_kw={\"elinewidth\":3, \"ecolor\":'k'},\n",
      "        width=.3, alpha=.9, align='center')  \n",
      "\n",
      "plt.setp(ax, xlim=(-.32, 1.32), ylim=(.53, .58), ylabel='RT (s)')\n",
      "ax.set_yticks([.53, .58])\n",
      "ax.set_xticks(np.array([0,.5,1]))\n",
      "ax.set_xticklabels(['Data', 'RADD', 'IP'], fontsize=25)\n",
      "plt.setp(ax.get_yticklabels(), fontsize=25)\n",
      "\n",
      "ax.set_ylabel('RT (s)', fontsize=25) \n",
      "\n",
      "sns.despine()\n",
      "plt.tight_layout()"
     ],
     "language": "python",
     "metadata": {},
     "outputs": [
      {
       "metadata": {},
       "output_type": "display_data",
       "png": "[encoded data removed]",
       "text": [
        "<matplotlib.figure.Figure at 0x7f5a00dce410>"
       ]
      }
     ],
     "prompt_number": 23
    },
    {
     "cell_type": "heading",
     "level": 1,
     "metadata": {},
     "source": [
      "OLD..."
     ]
    },
    {
     "cell_type": "code",
     "collapsed": false,
     "input": [
      "ntrials=2000\n",
      "\n",
      "p=Parameters()\n",
      "\n",
      "p.add('ssv', value=inits['ssv'], vary=True)\n",
      "p.add('a', value=inits['a'], min=0.0, vary=True)\n",
      "p.add('v', value=inits['v'], min=0.0, vary=True)\n",
      "p.add('t', value=inits['t'], min=0.0, max=.649, vary=True)\n",
      "p.add('z', value=inits['z'], min=0.0, vary=True)\n",
      "inits['pGo']=.5\n",
      "popt = Minimizer(fitre.ssre_minfunc, p, fcn_args=(ydata, ntrials), method='Nelder-Mead') \n",
      "popt.fmin(maxfun=1000, ftol=1.e-2, xtol=1.e-2, full_output=True, disp=True)"
     ],
     "language": "python",
     "metadata": {},
     "outputs": []
    },
    {
     "cell_type": "heading",
     "level": 3,
     "metadata": {},
     "source": [
      "Print Optimized Parameters"
     ]
    },
    {
     "cell_type": "code",
     "collapsed": false,
     "input": [
      "opt_theta={'a': 0.43155063058963727,\n",
      " 'ssv': -0.96986662065537221,\n",
      " 't': 0.30656375144494813,\n",
      " 'v': 1.0366001760617101,\n",
      " 'z': 0.16611261860323445}\n",
      "\n",
      "accl=[]; rtl=[]\n",
      "for ssd in np.arange(.2,.45, .05):\n",
      "    opt_theta['ssd']=ssd\n",
      "    opt_theta['pGo']=.5\n",
      "    \n",
      "    sacc, rt = fitre.simulate(opt_theta, ntrials=5000)\n",
      "    \n",
      "    accl.append(sacc); rtl.append(rt)"
     ],
     "language": "python",
     "metadata": {},
     "outputs": [],
     "prompt_number": 20
    },
    {
     "cell_type": "code",
     "collapsed": false,
     "input": [
      "params={'a': 0.43155063058963727,\n",
      " 'ssv': -0.96986662065537221,\n",
      " 't': 0.30656375144494813,\n",
      " 'v': 1.0366001760617101,\n",
      " 'z': 0.16611261860323445}\n",
      "\n",
      "df=fitre.simConditions(params, visual=False, ntrials=1500)\n",
      "sacc=utils.get_sacc_curve(df)\n",
      "rt=utils.get_rtcor(df)\n"
     ],
     "language": "python",
     "metadata": {},
     "outputs": [],
     "prompt_number": 5
    },
    {
     "cell_type": "code",
     "collapsed": false,
     "input": [
      "df.query('trial_type==\"stop\"').groupby('ssd').mean()['acc']"
     ],
     "language": "python",
     "metadata": {},
     "outputs": [
      {
       "metadata": {},
       "output_type": "pyout",
       "prompt_number": 7,
       "text": [
        "ssd\n",
        "0.20    0.99733\n",
        "0.25    0.98077\n",
        "0.30    0.92961\n",
        "0.35    0.45480\n",
        "0.40    0.12237\n",
        "Name: acc, dtype: float64"
       ]
      }
     ],
     "prompt_number": 7
    },
    {
     "cell_type": "code",
     "collapsed": false,
     "input": [
      "np.mean(rtl)\n",
      "\n",
      "# Flat ReBSL Fitts\n",
      "\n",
      "mean_rt=5.5785110987888649\n",
      "\n",
      "accl=[0.99841521394611732,\n",
      " 0.98349705304518664,\n",
      " 0.92628992628992624,\n",
      " 0.46052631578947367,\n",
      " 0.11965811965811966]"
     ],
     "language": "python",
     "metadata": {},
     "outputs": [
      {
       "metadata": {},
       "output_type": "pyout",
       "prompt_number": 26,
       "text": [
        "[0.99841521394611732,\n",
        " 0.98349705304518664,\n",
        " 0.92628992628992624,\n",
        " 0.46052631578947367,\n",
        " 0.11965811965811966]"
       ]
      }
     ],
     "prompt_number": 26
    },
    {
     "cell_type": "heading",
     "level": 3,
     "metadata": {},
     "source": [
      "Compare RADD Predictions with Data"
     ]
    }
   ],
   "metadata": {}
  }
 ]
}