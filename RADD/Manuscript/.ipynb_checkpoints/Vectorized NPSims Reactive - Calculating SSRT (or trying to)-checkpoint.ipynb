{
 "metadata": {
  "name": "",
  "signature": "sha256:4c6225e823389949902b2f7f4977afed58e4c4ed3b979dbb9bf00136697b620c"
 },
 "nbformat": 3,
 "nbformat_minor": 0,
 "worksheets": [
  {
   "cells": [
    {
     "cell_type": "code",
     "collapsed": false,
     "input": [
      "import radd\n",
      "from radd import utils, vis, pbold, final, fitre, fitfx, npsim\n",
      "import scipy.stats as stats\n",
      "csv=pd.read_csv\n",
      "from scipy.stats import ttest_rel"
     ],
     "language": "python",
     "metadata": {},
     "outputs": [],
     "prompt_number": 1
    },
    {
     "cell_type": "code",
     "collapsed": false,
     "input": [
      "#outpath\n",
      "out=\"/Users/kyle/Desktop/\""
     ],
     "language": "python",
     "metadata": {},
     "outputs": [],
     "prompt_number": 2
    },
    {
     "cell_type": "heading",
     "level": 1,
     "metadata": {},
     "source": [
      "Load Theta"
     ]
    },
    {
     "cell_type": "code",
     "collapsed": false,
     "input": [
      "thetadf=pd.read_csv('/home/kyle/Dropbox/SS_Backups/SS/Reactive/BSL/Boot/RADD/rwr_rebsl_popt_radd.csv', index_col=0)\n",
      "#inits=inits.to_dict()['mean']\n",
      "theta = thetadf.mean().to_dict()"
     ],
     "language": "python",
     "metadata": {},
     "outputs": [],
     "prompt_number": 28
    },
    {
     "cell_type": "heading",
     "level": 1,
     "metadata": {},
     "source": [
      "Modified function to return all GoRTs (including accidental Go's)"
     ]
    },
    {
     "cell_type": "code",
     "collapsed": false,
     "input": [
      "def analyze_reactive_trials(DVg, DVs, theta, tb=.650, return_all=False):\n",
      "\n",
      "    ngo_trials=len(DVg)\n",
      "    nss_trials=len(DVs)\n",
      "\n",
      "    theta=fitfx.update_params(theta)\n",
      "    tr=theta['tt'];\ta=theta['a']; ssd=theta['ssd']\n",
      "\n",
      "    #get individual trial go and ss rt's\n",
      "    gos_i = [tr + np.argmax(DVgn>=a)*.0005 if np.any(DVgn>=a) else 999 for i, DVgn in enumerate(DVg)]\n",
      "    stops_i = [ssd + np.argmax(DVsn<=0)*.0005 if np.any(DVsn<=0) else 999 for i, DVsn in enumerate(DVs)]\n",
      "\n",
      "    #calculate stop accuracy\n",
      "    stops = [1 if gos_i[i]>si else 0 for i, si in enumerate(stops_i)]\n",
      "    sacc=np.mean(stops)\n",
      "\n",
      "    #calculate mean go rt\n",
      "    go_trial_array=np.array(gos_i)\n",
      "    ss_trial_array = np.array(stops_i)\n",
      "    rt=np.mean(go_trial_array[go_trial_array<tb])\n",
      "\n",
      "    if return_all:\n",
      "        \n",
      "        return stops, np.append(ss_trial_array[ss_trial_array<tb],go_trial_array[go_trial_array<tb])\n",
      "    else:\n",
      "        return sacc, rt\n"
     ],
     "language": "python",
     "metadata": {},
     "outputs": [],
     "prompt_number": 80
    },
    {
     "cell_type": "code",
     "collapsed": false,
     "input": [
      "accs, ssrts = [], []\n",
      "theta['pGo']=.5\n",
      "for ssd in np.arange(.2, .45, .05):\n",
      "    print ssd\n",
      "    theta['ssd']=ssd\n",
      "    dvg, dvs = fitre.simulate_np(theta, return_traces=True)\n",
      "    sacc, rt = analyze_reactive_trials(dvg, dvs, theta, return_all=True)\n",
      "    accs.append(np.mean(sacc))\n",
      "    ssrts.append(np.mean(rt)-ssd)"
     ],
     "language": "python",
     "metadata": {},
     "outputs": [
      {
       "output_type": "stream",
       "stream": "stdout",
       "text": [
        "0.2\n",
        "0.5\n",
        "0.25"
       ]
      },
      {
       "output_type": "stream",
       "stream": "stdout",
       "text": [
        "\n",
        "0.5\n",
        "0.3"
       ]
      },
      {
       "output_type": "stream",
       "stream": "stdout",
       "text": [
        "\n",
        "0.5\n",
        "0.35"
       ]
      },
      {
       "output_type": "stream",
       "stream": "stdout",
       "text": [
        "\n",
        "0.5\n",
        "0.4"
       ]
      },
      {
       "output_type": "stream",
       "stream": "stdout",
       "text": [
        "\n",
        "0.5\n"
       ]
      }
     ],
     "prompt_number": 91
    },
    {
     "cell_type": "code",
     "collapsed": false,
     "input": [
      "ssrts"
     ],
     "language": "python",
     "metadata": {},
     "outputs": [
      {
       "metadata": {},
       "output_type": "pyout",
       "prompt_number": 92,
       "text": [
        "[0.29222733912698934,\n",
        " 0.25848512707616267,\n",
        " 0.22623131363203114,\n",
        " 0.20863363102052246,\n",
        " 0.16749676204583391]"
       ]
      }
     ],
     "prompt_number": 92
    },
    {
     "cell_type": "code",
     "collapsed": false,
     "input": [
      "[np.median(gort) for gort in rt]"
     ],
     "language": "python",
     "metadata": {},
     "outputs": [
      {
       "metadata": {},
       "output_type": "pyout",
       "prompt_number": 74,
       "text": [
        "[0.55837069829226693,\n",
        " 0.55637069829226693,\n",
        " 0.56037069829226693,\n",
        " 0.55637069829226693,\n",
        " 0.55837069829226693]"
       ]
      }
     ],
     "prompt_number": 74
    },
    {
     "cell_type": "code",
     "collapsed": false,
     "input": [
      "from radd import npsim\n",
      "sacc, rt =  npsim.analyze_reactive_trials(sacc, rt, inits)"
     ],
     "language": "python",
     "metadata": {},
     "outputs": [],
     "prompt_number": 49
    },
    {
     "cell_type": "code",
     "collapsed": false,
     "input": [],
     "language": "python",
     "metadata": {},
     "outputs": []
    },
    {
     "cell_type": "heading",
     "level": 1,
     "metadata": {},
     "source": [
      "Reactive Stop Curves"
     ]
    },
    {
     "cell_type": "code",
     "collapsed": false,
     "input": [
      "re_sc_means=[bsldata['sc'].mean(), pnldata['sc'].mean()]\n",
      "re_sc_ci=[bsldata['sc'].sem()*1.96, pnldata['sc'].sem()*1.96]\n",
      "re_sc_idx=[bsldata['sc'], pnldata['sc']]\n",
      "#labels=['Baseline', 'Difficult']\n",
      "#colors=['#2d2d2d','#6a6a6a']\n",
      "#vis.scurves(re_sc_means, yerr=re_sc_ci, sxdata=re_sc_idx, colors=colors, labels=labels)\n",
      "#plt.savefig(out+\"re_sc.png\", dpi=600, format='png')\n",
      "#plt.savefig(out+\"re_sc.svg\", dpi=600, format='svg')"
     ],
     "language": "python",
     "metadata": {},
     "outputs": [],
     "prompt_number": 4
    },
    {
     "cell_type": "code",
     "collapsed": false,
     "input": [
      "psebsl=vis.scurves(re_sc_idx[0].values, pse_only=True)\n",
      "psepnl=vis.scurves(re_sc_idx[1].values, pse_only=True)\n",
      "\n",
      "re_pse_means=np.array([np.mean(pse_i) for pse_i in [psebsl, psepnl]])\n",
      "re_pse_sems=np.array([stats.sem(pse_i)*1.96 for pse_i in [psebsl, psepnl]])\n",
      "sxdata=[psebsl, psepnl]"
     ],
     "language": "python",
     "metadata": {},
     "outputs": [],
     "prompt_number": 5
    },
    {
     "cell_type": "code",
     "collapsed": false,
     "input": [
      "pse_final=[re_pse_means[0], re_pse_means[1]]\n",
      "pse_final_err=[re_pse_sems[0], re_pse_sems[1]]"
     ],
     "language": "python",
     "metadata": {},
     "outputs": [],
     "prompt_number": 6
    },
    {
     "cell_type": "code",
     "collapsed": false,
     "input": [
      "psebslarray=np.array(psebsl)\n",
      "psepnlarray=np.array(psepnl)\n",
      "\n",
      "pse_bsl_trimmed=psebslarray[psebslarray>.2]\n",
      "pse_pnl_trimmed=psepnlarray[psepnlarray>.2]\n",
      "\n",
      "pse_bsl_trimmed_mu=pse_bsl_trimmed.mean()\n",
      "pse_pnl_trimmed_mu=pse_pnl_trimmed.mean()\n",
      "\n",
      "pse_bsl_trimmed_err=stats.sem(pse_bsl_trimmed)*1.96\n",
      "pse_pnl_trimmed_err=stats.sem(pse_pnl_trimmed)*1.96\n",
      "\n",
      "pse_final=[pse_bsl_trimmed_mu, pse_pnl_trimmed_mu]\n",
      "pse_final_err=[pse_bsl_trimmed_err, pse_pnl_trimmed_err]"
     ],
     "language": "python",
     "metadata": {},
     "outputs": [],
     "prompt_number": 7
    },
    {
     "cell_type": "code",
     "collapsed": false,
     "input": [
      "#pse_idxfit_means= np.array([0.3495, 0.3566])\n",
      "#pse_idxfit_err = np.array([0.0034, 0.0043])*1.96"
     ],
     "language": "python",
     "metadata": {},
     "outputs": [],
     "prompt_number": 79
    },
    {
     "cell_type": "code",
     "collapsed": false,
     "input": [
      "pse_means = np.array([.3491, .3614])\n",
      "pse_err = np.array([0.0028, 0.0027])*1.96\n",
      "\n",
      "ax=vis.plot_re_bar(pse_means, yerr=pse_err, yylim=[.32, .38], ylabel='PSE', colors=colors)\n",
      "#plt.savefig(out+'re_pse.png', dpi=600, format='png')\n",
      "plt.savefig(out+'re_pse.svg', dpi=600, format='svg')"
     ],
     "language": "python",
     "metadata": {},
     "outputs": [
      {
       "metadata": {},
       "output_type": "display_data",
       "png": "[encoded data removed]",
       "text": [
        "<matplotlib.figure.Figure at 0x10a721f10>"
       ]
      }
     ],
     "prompt_number": 82
    },
    {
     "cell_type": "heading",
     "level": 1,
     "metadata": {},
     "source": [
      "PSE Stats"
     ]
    },
    {
     "cell_type": "code",
     "collapsed": false,
     "input": [
      "print \"bsl/pnl PSE means: \", pse_final\n",
      "print \"t:%.4f\\np:%.4f\"% ttest_rel(sxdata[0], sxdata[1])"
     ],
     "language": "python",
     "metadata": {},
     "outputs": [
      {
       "output_type": "stream",
       "stream": "stdout",
       "text": [
        "bsl/pnl PSE means:  [0.34516098668690404, 0.35904527952795284]\n",
        "t:-2.1776\n",
        "p:0.0334\n"
       ]
      }
     ],
     "prompt_number": 8
    },
    {
     "cell_type": "code",
     "collapsed": false,
     "input": [
      "re_rt_means=[bsldata['rt'].mean().values*1000, pnldata['rt'].mean().values*1000]\n",
      "re_rt_ci=np.array([bsldata['rt'].sem()[0]*1.96*1000, pnldata['rt'].sem()[0]*1.96*1000])\n",
      "re_rt_idx=[bsldata['rt'].values*1000, pnldata['rt'].values*1000]\n",
      "ax=vis.plot_re_bar(re_rt_means, yerr=re_rt_ci, colors=colors, yylim=[540, 580])\n",
      "#plt.savefig(out+\"re_rt.png\", dpi=600, format='png')\n",
      "plt.savefig(out+\"re_rt.svg\", dpi=600, format='svg')"
     ],
     "language": "python",
     "metadata": {},
     "outputs": [
      {
       "metadata": {},
       "output_type": "display_data",
       "png": "[encoded data removed]",
       "text": [
        "<matplotlib.figure.Figure at 0x10a721490>"
       ]
      }
     ],
     "prompt_number": 83
    },
    {
     "cell_type": "heading",
     "level": 1,
     "metadata": {},
     "source": [
      "RT Stats"
     ]
    },
    {
     "cell_type": "code",
     "collapsed": false,
     "input": [
      "re_rt_means=[bsldata['rt'].mean().values*1000, pnldata['rt'].mean().values*1000]\n",
      "re_rt_ci=np.array([bsldata['rt'].sem()[0]*1.96*1000, pnldata['rt'].sem()[0]*1.96*1000])\n",
      "re_rt_idx=[bsldata['rt'].values*1000, pnldata['rt'].values*1000]\n",
      "ax=vis.plot_re_bar(re_rt_means, yerr=re_rt_ci, colors=colors, yylim=[540, 580])\n",
      "print \"bsl/pnl RT means: \", re_rt_means\n",
      "print \"t:%.4f\\np:%.4f\"% ttest_rel(re_rt_idx[0]*1000, re_rt_idx[1]*1000)"
     ],
     "language": "python",
     "metadata": {},
     "outputs": [
      {
       "output_type": "stream",
       "stream": "stdout",
       "text": [
        "bsl/pnl RT means:  [array([ 561.08988018]), array([ 567.78861424])]\n",
        "t:-3.5265\n",
        "p:0.0008"
       ]
      },
      {
       "output_type": "stream",
       "stream": "stdout",
       "text": [
        "\n"
       ]
      },
      {
       "metadata": {},
       "output_type": "display_data",
       "png": "[encoded data removed]",
       "text": [
        "<matplotlib.figure.Figure at 0x10ba0d490>"
       ]
      }
     ],
     "prompt_number": 9
    },
    {
     "cell_type": "code",
     "collapsed": false,
     "input": [],
     "language": "python",
     "metadata": {},
     "outputs": []
    }
   ],
   "metadata": {}
  }
 ]
}