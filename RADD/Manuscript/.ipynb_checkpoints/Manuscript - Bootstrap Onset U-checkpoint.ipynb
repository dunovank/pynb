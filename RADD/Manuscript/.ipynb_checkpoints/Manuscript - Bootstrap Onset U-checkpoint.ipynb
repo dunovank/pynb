{
 "metadata": {
  "name": "",
  "signature": "sha256:3f5945597ae0ccac82747ff3b97edfb0194cadcf9054696865ce433a9504fb12"
 },
 "nbformat": 3,
 "nbformat_minor": 0,
 "worksheets": [
  {
   "cells": [
    {
     "cell_type": "code",
     "collapsed": false,
     "input": [
      "from pandas import read_csv as csv\n",
      "from radd import proboot, utils, final, vis\n",
      "prodata=final.all_data('pro')"
     ],
     "language": "python",
     "metadata": {},
     "outputs": [],
     "prompt_number": 4
    },
    {
     "cell_type": "code",
     "collapsed": false,
     "input": [
      "os.chdir(\"/Users/kyle/Dropbox/SS_Backups/SS/Proactive/Boot/ProBootOnsetB/\")\n",
      "drift_inits=csv(\"final_opt_theta.csv\", header=None, index_col=0)\n",
      "inits=drift_inits.to_dict()[1]"
     ],
     "language": "python",
     "metadata": {},
     "outputs": [],
     "prompt_number": 5
    },
    {
     "cell_type": "code",
     "collapsed": false,
     "input": [
      "os.chdir(\"/Users/kyle/Dropbox/SS_Backups/SS/Proactive/Boot/ProBootOnsetU/\")\n",
      "rt, pstop = proboot.Proboot(prodata, inits=inits, niter=50, depends_on={'t':'pGo'}, save_path='./', simfx='vector', disp=False, filt_rts=False)"
     ],
     "language": "python",
     "metadata": {},
     "outputs": [],
     "prompt_number": 6
    },
    {
     "cell_type": "code",
     "collapsed": false,
     "input": [
      "rtdata=prodata.groupby('pGo').rt.mean().values[1:]\n",
      "rtdataerr=prodata.groupby('pGo').rt.sem().values[1:]*1.96\n",
      "rtonset=rt.mean().values[1:]\n",
      "x=np.arange(5)"
     ],
     "language": "python",
     "metadata": {},
     "outputs": [],
     "prompt_number": 7
    },
    {
     "cell_type": "code",
     "collapsed": false,
     "input": [
      "plt.errorbar(x, rtdata, yerr=rtdataerr)\n",
      "plt.plot(rtonset)\n",
      "ax=plt.gca()\n",
      "ax.set_xlim(-1, 6)"
     ],
     "language": "python",
     "metadata": {},
     "outputs": [
      {
       "metadata": {},
       "output_type": "pyout",
       "prompt_number": 8,
       "text": [
        "(-1, 6)"
       ]
      },
      {
       "metadata": {},
       "output_type": "display_data",
       "png": "[encoded data removed]",
       "text": [
        "<matplotlib.figure.Figure at 0x109ab9710>"
       ]
      }
     ],
     "prompt_number": 8
    },
    {
     "cell_type": "code",
     "collapsed": false,
     "input": [
      "pstop.mean()"
     ],
     "language": "python",
     "metadata": {},
     "outputs": [
      {
       "metadata": {},
       "output_type": "pyout",
       "prompt_number": 10,
       "text": [
        "0      0.95470\n",
        "20     0.87642\n",
        "40     0.67690\n",
        "60     0.42940\n",
        "80     0.14858\n",
        "100    0.10966\n",
        "dtype: float64"
       ]
      }
     ],
     "prompt_number": 10
    },
    {
     "cell_type": "code",
     "collapsed": false,
     "input": [
      "rtonset"
     ],
     "language": "python",
     "metadata": {},
     "outputs": [
      {
       "metadata": {},
       "output_type": "pyout",
       "prompt_number": 9,
       "text": [
        "array([ 0.53545812,  0.53118046,  0.52463258,  0.50994165,  0.50538539])"
       ]
      }
     ],
     "prompt_number": 9
    },
    {
     "cell_type": "code",
     "collapsed": false,
     "input": [],
     "language": "python",
     "metadata": {},
     "outputs": []
    }
   ],
   "metadata": {}
  }
 ]
}