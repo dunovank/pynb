{
 "metadata": {
  "name": "",
  "signature": "sha256:929d076ebf5dea44bb850b463f8b9515aeb336555978d6a1adb4655b6c8066eb"
 },
 "nbformat": 3,
 "nbformat_minor": 0,
 "worksheets": [
  {
   "cells": [
    {
     "cell_type": "code",
     "collapsed": false,
     "input": [
      "from __future__ import division\n",
      "from radd import utils, predict, fitpro, fitre, vectorize_fitfx\n",
      "from pandas import read_csv as csv\n",
      "pth=utils.find_path()\n",
      "fitpath=pth+\"FitFiles/\"\n",
      "parampath=pth+\"ParamFiles/\"\n",
      "outpath=pth+\"FinalFigures/\"\n",
      "\n",
      "#prosc_data=np.array([ 0.95280437,  0.87844952,  0.66402309,  0.40945818,  0.071913, 0.0066407 ])\n",
      "pro_sc = lambda df: 1-df.groupby('pGo').mean()['response'].values\n",
      "pro_rt = lambda df: df.query('acc==1 & choice==\"go\" & rt < .5451').groupby('pGo').mean()['rt'].values"
     ],
     "language": "python",
     "metadata": {},
     "outputs": [],
     "prompt_number": 4
    },
    {
     "cell_type": "code",
     "collapsed": false,
     "input": [
      "bxv=csv(parampath+\"rwr_pro_fitinfo.csv\")\n",
      "vvals=bxv.groupby('pGo').mean()['v'].values\n",
      "\n",
      "pro=csv(parampath+\"rwr_pro_opt_theta.csv\", header=None)\n",
      "params=['ssv', 'z', 'a', 't', 'ssd']\n",
      "theta={p:pro[pro[0]==p].values[0][1] for p in params}\n"
     ],
     "language": "python",
     "metadata": {},
     "outputs": [],
     "prompt_number": 6
    },
    {
     "cell_type": "code",
     "collapsed": false,
     "input": [
      "theta['v']=vvals[3]"
     ],
     "language": "python",
     "metadata": {},
     "outputs": [],
     "prompt_number": 13
    },
    {
     "cell_type": "code",
     "collapsed": false,
     "input": [
      "alldf=pd.DataFrame(columns=['rt', 'pstop'], index=pgo)\n",
      "\n",
      "for i, pg in enumerate(pgo):\n",
      "    \n",
      "    theta['v']=vvals[i]\n",
      "\n",
      "    go, stop = vectorize_fitfx.vectorized_proactive_radd(theta, model='radd', ntrials=500, timebound=0.560)\n",
      "    \n",
      "    rt, pstop = vectorize_fitfx.analyze_proactive_vectors(go, stop, theta)\n",
      "    \n",
      "    alldf.loc[pg, 'rt']=rt\n",
      "    alldf.loc[pg, 'pstop']=pstop"
     ],
     "language": "python",
     "metadata": {},
     "outputs": [],
     "prompt_number": 20
    },
    {
     "cell_type": "code",
     "collapsed": false,
     "input": [
      "alldf"
     ],
     "language": "python",
     "metadata": {},
     "outputs": [
      {
       "html": [
        "<div style=\"max-height:1000px;max-width:1500px;overflow:auto;\">\n",
        "<table border=\"1\" class=\"dataframe\">\n",
        "  <thead>\n",
        "    <tr style=\"text-align: right;\">\n",
        "      <th></th>\n",
        "      <th>rt</th>\n",
        "      <th>pstop</th>\n",
        "    </tr>\n",
        "  </thead>\n",
        "  <tbody>\n",
        "    <tr>\n",
        "      <th>0.0</th>\n",
        "      <td> 0.543421</td>\n",
        "      <td> 0.948</td>\n",
        "    </tr>\n",
        "    <tr>\n",
        "      <th>0.2</th>\n",
        "      <td> 0.544303</td>\n",
        "      <td>  0.88</td>\n",
        "    </tr>\n",
        "    <tr>\n",
        "      <th>0.4</th>\n",
        "      <td> 0.540285</td>\n",
        "      <td>  0.65</td>\n",
        "    </tr>\n",
        "    <tr>\n",
        "      <th>0.6</th>\n",
        "      <td> 0.535886</td>\n",
        "      <td> 0.358</td>\n",
        "    </tr>\n",
        "    <tr>\n",
        "      <th>0.8</th>\n",
        "      <td> 0.519571</td>\n",
        "      <td> 0.058</td>\n",
        "    </tr>\n",
        "    <tr>\n",
        "      <th>1.0</th>\n",
        "      <td>  0.51388</td>\n",
        "      <td> 0.034</td>\n",
        "    </tr>\n",
        "  </tbody>\n",
        "</table>\n",
        "</div>"
       ],
       "metadata": {},
       "output_type": "pyout",
       "prompt_number": 21,
       "text": [
        "           rt  pstop\n",
        "0.0  0.543421  0.948\n",
        "0.2  0.544303   0.88\n",
        "0.4  0.540285   0.65\n",
        "0.6  0.535886  0.358\n",
        "0.8  0.519571  0.058\n",
        "1.0   0.51388  0.034"
       ]
      }
     ],
     "prompt_number": 21
    },
    {
     "cell_type": "code",
     "collapsed": false,
     "input": [
      "dflist=[]\n",
      "for i in xrange(5):\n",
      "\n",
      "    dflist.append(vectorize_fitfx.vectorized_pro_bold_predictions(theta=gparams, vlist=vvals, ntrials=1000))\n",
      "\n",
      "alldf=pd.concat(dflist)\n",
      "\n",
      "alldf['pgo']=alldf.index.values"
     ],
     "language": "python",
     "metadata": {},
     "outputs": [],
     "prompt_number": 660
    },
    {
     "cell_type": "code",
     "collapsed": false,
     "input": [
      "mudf=alldf.groupby('pgo').mean()\n",
      "cidf=alldf.groupby('pgo').sem()\n",
      "\n",
      "gbold=mudf.go.values\n",
      "ngbold=mudf.nogo.values\n",
      "gbold_ci=cidf.go.values*1.96\n",
      "ngbold_ci=cidf.nogo.values*1.96\n",
      "\n",
      "xxticklabels=np.array([str(i) for i in pgo])\n",
      "x=np.arange(len(pgo))\n",
      "\n",
      "w=.45\n",
      "f, ax1 = plt.subplots(1, figsize=(6.5, 6.5))\n",
      "\n",
      "ax1.bar(x+w/2, gbold, yerr=gbold_ci, ecolor='k', color=\"#26A65B\", align='center', width=w, label='Go')\n",
      "ax1.bar(x-w/2, ngbold, yerr=ngbold_ci, ecolor='k', color=\"#D91E18\", align='center', width=w, label='NoGo')\n",
      "ax1.legend(loc=2, fontsize=24)\n",
      "sns.despine()\n",
      "\n",
      "for ax in f.axes:\n",
      "    ax.set_ylabel('BOLD A.U.',  fontsize=24)\n",
      "\n",
      "plt.setp(f.axes, ylim=(105, 190), yticklabels=[], xlim=(x[0]-.6, x[-1]+.6), xticks=x)\n",
      "ax1.set_xticklabels(xxticklabels, fontsize=20)\n",
      "ax1.set_xlabel(\"P(Go)\", fontsize=24)\n",
      "\n",
      "plt.tight_layout(h_pad=3)\n",
      "#f.savefig(\"/Users/kyle/Dropbox/CoAx/SS/Proactive/ssPro_SustainedInt.png\", format='png', dpi=600)\n",
      "#f.savefig(outpath+\"pro_bold_predictions.png\", format='png', dpi=600)\n",
      "#f.savefig(outpath+\"pro_bold_predictions.svg\", rasterized=True, format='svg', dpi=600)"
     ],
     "language": "python",
     "metadata": {},
     "outputs": [
      {
       "metadata": {},
       "output_type": "display_data",
       "png": "[encoded data removed]",
       "text": [
        "<matplotlib.figure.Figure at 0x12c1a99d0>"
       ]
      }
     ],
     "prompt_number": 662
    }
   ],
   "metadata": {}
  }
 ]
}