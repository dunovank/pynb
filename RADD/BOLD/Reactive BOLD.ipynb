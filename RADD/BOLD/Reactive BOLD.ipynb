{
 "metadata": {
  "name": "",
  "signature": "sha256:5ef838372e47e4fbbaba79a1f52a295eaa7c291cb0731c19e56335d36947ef77"
 },
 "nbformat": 3,
 "nbformat_minor": 0,
 "worksheets": [
  {
   "cells": [
    {
     "cell_type": "code",
     "collapsed": false,
     "input": [
      "from __future__ import division\n",
      "from radd import utils, predict, fitre, fitpro, pbold\n",
      "from pandas import read_csv as csv\n",
      "pth=utils.find_path()\n",
      "fitpath=pth+\"FitFiles/\"\n",
      "parampath=pth+\"ParamFiles/\"\n",
      "outpath=pth+\"FinalFigures_New\"\n",
      "    \n",
      "#prosc_data=np.array([ 0.95280437,  0.87844952,  0.66402309,  0.40945818,  0.071913, 0.0066407 ])\n",
      "re_sc = lambda df: df.query(\"trial_type=='stop'\").groupby('ssd').mean()['acc'].values\n",
      "re_rt = lambda df: df.query('acc==1 & choice==\"go\"').groupby('pGo').mean()['rt'].values"
     ],
     "language": "python",
     "metadata": {},
     "outputs": [],
     "prompt_number": 1
    },
    {
     "cell_type": "code",
     "collapsed": false,
     "input": [
      "atheta=csv(parampath+\"rwr_rebsl_popt_ipa.csv\", index_col=0)\n",
      "btheta=csv(parampath+\"rwr_rebsl_popt_ipb.csv\", index_col=0)\n",
      "rtheta=csv(parampath+\"rwr_rebsl_popt_ipb.csv\", index_col=0)\n",
      "\n",
      "params=rtheta.mean().to_dict()"
     ],
     "language": "python",
     "metadata": {},
     "outputs": [],
     "prompt_number": 2
    },
    {
     "cell_type": "code",
     "collapsed": false,
     "input": [
      "btheta.mean()"
     ],
     "language": "python",
     "metadata": {},
     "outputs": [
      {
       "metadata": {},
       "output_type": "pyout",
       "prompt_number": 3,
       "text": [
        "a      0.45612\n",
        "t      0.32055\n",
        "v      1.23765\n",
        "z      0.16191\n",
        "ssv    0.78269\n",
        "dtype: float64"
       ]
      }
     ],
     "prompt_number": 3
    },
    {
     "cell_type": "code",
     "collapsed": false,
     "input": [
      "alldf, rts, sc=[], [], []\n",
      "params['pGo']=.5\n",
      "ssdlist=np.arange(.2,.45,.05)\n",
      "\n",
      "for i, ssd in enumerate(ssdlist):\n",
      "\n",
      "        params['ssd']=ssd\n",
      "\n",
      "        df=fitre.simulate(params, model='radd', ntrials=200, return_all=True, simbold=True)\n",
      "\n",
      "        sc.append(re_sc(df))\n",
      "        rts.append(re_rt(df))\n",
      "        alldf.append(df)\n",
      "\n",
      "resims=pd.concat(alldf)    "
     ],
     "language": "python",
     "metadata": {},
     "outputs": [],
     "prompt_number": 4
    },
    {
     "cell_type": "code",
     "collapsed": false,
     "input": [
      "params['pGo']=.45\n",
      "params['ssd']=.330\n",
      "\n",
      "resims=fitre.simulate(params, model='radd', ntrials=150, return_all=True, simbold=True)\n",
      "sc=re_sc(resims)\n",
      "rts=re_rt(resims)\n",
      "#alldf.append(df)\n",
      "\n",
      "#resims=pd.concat(alldf)    "
     ],
     "language": "python",
     "metadata": {},
     "outputs": [],
     "prompt_number": 5
    },
    {
     "cell_type": "code",
     "collapsed": false,
     "input": [
      "theta=params.copy()\n",
      "tr=theta['tt']; mu=theta['vv']; \n",
      "a=theta['a']; z=theta['zz']; \n",
      "ssd=theta['ssd']; ssv=-abs(theta['ssv'])\n",
      "\n",
      "thal=resims[['thalamus', 'ssd', 'outcome']]\n",
      "gdf=thal.query(\"outcome == 'g'\").copy()\n",
      "sdf=thal.query(\"outcome == 's'\").copy()\n",
      "\n",
      "gdf['mag']=[np.cumsum(np.array(i)-z)[-1] for i in gdf.thalamus.values]\n",
      "sdf['mag']=[np.cumsum(np.array(i)-z)[-1] for i in sdf.thalamus.values]"
     ],
     "language": "python",
     "metadata": {},
     "outputs": [],
     "prompt_number": 6
    },
    {
     "cell_type": "code",
     "collapsed": false,
     "input": [
      "gbold=gdf.groupby('ssd').mean()['mag']\n",
      "gbold_ci=gdf.groupby('ssd').sem()['mag']*1.96\n",
      "\n",
      "sbold=sdf.groupby('ssd').mean()['mag']\n",
      "sbold_ci=sdf.groupby('ssd').sem()['mag']*1.96"
     ],
     "language": "python",
     "metadata": {},
     "outputs": [],
     "prompt_number": 7
    },
    {
     "cell_type": "code",
     "collapsed": false,
     "input": [
      "xxticklabels=['Stop', 'Go']\n",
      "x=np.arange(len(xxticklabels))\n",
      "\n",
      "f, ax = plt.subplots(1, figsize=(3.5, 5))\n",
      "\n",
      "ax.bar(x[0], sbold, yerr=sbold_ci, ecolor='k', color='#bd4a4c', align='center', label='Stop')\n",
      "ax.bar(x[1], gbold, yerr=gbold_ci, ecolor='k', color=\"#009B76\", align='center', label='Go')\n",
      "\n",
      "#ax1.legend(loc=2, fontsize=24)\n",
      "sns.despine()\n",
      "\n",
      "plt.setp(ax, ylim=(0, 130), xlim=(x[0]-.5, x[-1]+.5), xticks=x)\n",
      "ax.set_xticklabels(xxticklabels, fontsize=22)\n",
      "#ax.set_xlabel(\"Response\", fontsize=24)\n",
      "plt.setp(ax.get_yticklabels(), fontsize=16)\n",
      "ax.set_ylabel(r'$\\sum_{i=1}^n ( \\theta_{GO_i}\\/-\\/\\theta_{SS_i} )$', fontsize=18)\n",
      "plt.tight_layout(h_pad=3)\n",
      "\n",
      "f.savefig(outpath+\"re_bold_330ms_radd.png\", format='png', dpi=600)\n",
      "f.savefig(outpath+\"re_bold_330ms_radd.svg\", rasterized=True, format='svg', dpi=600)"
     ],
     "language": "python",
     "metadata": {},
     "outputs": [
      {
       "metadata": {},
       "output_type": "display_data",
       "png": "[encoded data removed]",
       "text": [
        "<matplotlib.figure.Figure at 0x10b03bf90>"
       ]
      }
     ],
     "prompt_number": 8
    },
    {
     "cell_type": "code",
     "collapsed": false,
     "input": [
      "xxticklabels=np.array([str(int(i*1000)) for i in ssdlist])\n",
      "xxticklabels[-1]='400'\n",
      "x=np.arange(len(ssdlist))\n",
      "\n",
      "w=.45\n",
      "f, ax1 = plt.subplots(1, figsize=(6.5, 5))\n",
      "\n",
      "ax1.bar(x+w/2, gbold, yerr=gbold_ci, ecolor='k', color=\"#26A65B\", align='center', width=w, label='Go')\n",
      "ax1.bar(x-w/2, sbold, yerr=sbold_ci, ecolor='k', color=\"#db6969\", align='center', width=w, label='Stop')\n",
      "ax1.legend(loc=2, fontsize=24)\n",
      "sns.despine()\n",
      "\n",
      "for ax in f.axes:\n",
      "        ax.set_ylabel('BOLD A.U.',  fontsize=24)\n",
      "\n",
      "plt.setp(f.axes, ylim=(-5, 115), yticklabels=[], xlim=(x[0]-.6, x[-1]+.6), xticks=x)\n",
      "ax1.set_xticklabels(xxticklabels, fontsize=22)\n",
      "ax1.set_xlabel(\"SSD (ms)\", fontsize=24)\n",
      "\n",
      "plt.tight_layout(h_pad=3)\n",
      "\n",
      "#f.savefig(outpath+\"re_bold_predictions.png\", format='png', dpi=600)\n",
      "#f.savefig(outpath+\"re_bold_predictions.svg\", rasterized=True, format='svg', dpi=600)"
     ],
     "language": "python",
     "metadata": {},
     "outputs": [
      {
       "metadata": {},
       "output_type": "display_data",
       "png": "[encoded data removed]",
       "text": [
        "<matplotlib.figure.Figure at 0x1262f9f90>"
       ]
      }
     ],
     "prompt_number": 64
    },
    {
     "cell_type": "code",
     "collapsed": false,
     "input": [],
     "language": "python",
     "metadata": {},
     "outputs": []
    }
   ],
   "metadata": {}
  }
 ]
}