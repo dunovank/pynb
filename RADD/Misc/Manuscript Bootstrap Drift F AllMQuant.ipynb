{
 "metadata": {
  "name": "",
  "signature": "sha256:848e6aad7e3effe1b300973b35911cc846d9aa7aa2c65bdbca81d11930a6d8d4"
 },
 "nbformat": 3,
 "nbformat_minor": 0,
 "worksheets": [
  {
   "cells": [
    {
     "cell_type": "code",
     "collapsed": false,
     "input": [
      "from __future__ import division\n",
      "from pandas import read_csv as csv\n",
      "from radd import proboot, utils, final, vis, fitpro, npsim\n",
      "#prodata=final.all_data('pro')\n",
      "data=final.all_data('pro')"
     ],
     "language": "python",
     "metadata": {},
     "outputs": []
    },
    {
     "cell_type": "code",
     "collapsed": false,
     "input": [
      "df=data.copy()\n",
      "df['r']=data.response.copy()\n",
      "df.ix[df['rt']>.5451, 'response']=0\n",
      "df.ix[df['rt']<=.5451, 'response']=1"
     ],
     "language": "python",
     "metadata": {},
     "outputs": []
    },
    {
     "cell_type": "code",
     "collapsed": false,
     "input": [
      "os.chdir(\"/Users/kyle/Dropbox/SS_Backups/SS/Proactive/Boot/DriftF_AllMQuant/\")\n",
      "opt=pd.read_csv(\"flat_opt_theta.csv\", header=None, names=['mean'], index_col=0)\n",
      "opt.drop(['v(Hi)', 'v(Lo)', 'v'], inplace=True)\n",
      "inits=opt.to_dict()['mean']"
     ],
     "language": "python",
     "metadata": {},
     "outputs": []
    },
    {
     "cell_type": "code",
     "collapsed": false,
     "input": [
      "bxpstop, bxrt, fitinfo = proboot.Proboot(data, inits, rtfunc='mquant', depends_on={'v': 'pGo'}, filt_rts=True, niter=10, disp=False, tb=.5451)"
     ],
     "language": "python",
     "metadata": {},
     "outputs": []
    },
    {
     "cell_type": "code",
     "collapsed": false,
     "input": [
      "bxrt.mean()"
     ],
     "language": "python",
     "metadata": {},
     "outputs": []
    },
    {
     "cell_type": "code",
     "collapsed": false,
     "input": [
      "bxpstop.mean()"
     ],
     "language": "python",
     "metadata": {},
     "outputs": []
    },
    {
     "cell_type": "code",
     "collapsed": false,
     "input": [
      "pro=final.all_data('pro')\n",
      "pstop, mquant = utils.pstop_mquant(pro, filt_rts=False)\n",
      "godf=pro.query('rt<=.5451 & response==1')\n",
      "godf.rt.sem()*1.96"
     ],
     "language": "python",
     "metadata": {},
     "outputs": []
    },
    {
     "cell_type": "code",
     "collapsed": false,
     "input": [
      "mquant"
     ],
     "language": "python",
     "metadata": {},
     "outputs": [
      {
       "ename": "NameError",
       "evalue": "name 'mquant' is not defined",
       "output_type": "pyerr",
       "traceback": [
        "\u001b[0;31m---------------------------------------------------------------------------\u001b[0m\n\u001b[0;31mNameError\u001b[0m                                 Traceback (most recent call last)",
        "\u001b[0;32m<ipython-input-1-880b9d69bd1c>\u001b[0m in \u001b[0;36m<module>\u001b[0;34m()\u001b[0m\n\u001b[0;32m----> 1\u001b[0;31m \u001b[0mmquant\u001b[0m\u001b[0;34m\u001b[0m\u001b[0m\n\u001b[0m",
        "\u001b[0;31mNameError\u001b[0m: name 'mquant' is not defined"
       ]
      }
     ],
     "prompt_number": 1
    },
    {
     "cell_type": "code",
     "collapsed": false,
     "input": [
      "pstop"
     ],
     "language": "python",
     "metadata": {},
     "outputs": []
    },
    {
     "cell_type": "code",
     "collapsed": false,
     "input": [],
     "language": "python",
     "metadata": {},
     "outputs": []
    }
   ],
   "metadata": {}
  }
 ]
}