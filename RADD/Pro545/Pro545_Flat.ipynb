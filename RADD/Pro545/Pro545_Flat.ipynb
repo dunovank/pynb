{
 "metadata": {
  "name": "",
  "signature": "sha256:709beca5ab91f8a58b02fad98ef1939adcbf6c6c3b15a8d211e9cc57e7c4dad4"
 },
 "nbformat": 3,
 "nbformat_minor": 0,
 "worksheets": [
  {
   "cells": [
    {
     "cell_type": "code",
     "collapsed": false,
     "input": [
      "from __future__ import division\n",
      "import pandas as pd\n",
      "from radd import utils, xopt, psy, ss, simfx, fitpro\n",
      "from lmfit import Parameters, Minimizer\n",
      "import seaborn as sns\n",
      "import os\n",
      "from collections import OrderedDict"
     ],
     "language": "python",
     "metadata": {},
     "outputs": [],
     "prompt_number": 2
    },
    {
     "cell_type": "code",
     "collapsed": false,
     "input": [
      "sparams=utils.style_params()\n",
      "colors=sparams['colors']\n",
      "sns.set_style('ticks', rc=sparams['style'])\n",
      "sns.set_context('paper', rc=sparams['context'])\n",
      "sns.palplot(sparams['colors'])\n",
      "\n",
      "pth=utils.find_path()\n",
      "\n",
      "\n",
      "# cutoff at .550\n",
      "#pro550=pd.read_csv(pth+\"DataFiles/Pro_Data.csv\", index_col=0)\n",
      "# cutoff at .545\n",
      "#pro545=utils.trunc_df(prodf)"
     ],
     "language": "python",
     "metadata": {},
     "outputs": [
      {
       "metadata": {},
       "output_type": "display_data",
       "png": "[encoded data removed]",
       "text": [
        "<matplotlib.figure.Figure at 0x7f87d0c53c50>"
       ]
      }
     ],
     "prompt_number": 3
    },
    {
     "cell_type": "code",
     "collapsed": false,
     "input": [
      "pstop=1-prodf.groupby('pGo').mean()['response'].values\n",
      "\n",
      "godf=prodf.query(\"choice=='go' and rt<=.545\")\n",
      "tab=utils.makePivot(godf, cols='pGo', index='subj_idx', values='rt')\n",
      "tab.mean()"
     ],
     "language": "python",
     "metadata": {},
     "outputs": [
      {
       "metadata": {},
       "output_type": "pyout",
       "prompt_number": 276,
       "text": [
        "pGo\n",
        "0.0    0.480470\n",
        "0.2    0.491538\n",
        "0.4    0.500805\n",
        "0.6    0.510605\n",
        "0.8    0.506696\n",
        "1.0    0.502726\n",
        "dtype: float64"
       ]
      }
     ],
     "prompt_number": 276
    },
    {
     "cell_type": "code",
     "collapsed": false,
     "input": [
      "# all original data - no rt cutoff (timebound=.560)\n",
      "prodf=pd.read_csv(pth+\"DataFiles/Pro_AllData.csv\", index_col=0)\n",
      "\n",
      "\n",
      "\n",
      "paramdf=pd.read_csv(pth+\"ParamFiles/ProBSL_HDDM_Params.csv\", index_col='subj_idx')\n",
      "paramdf.mean()"
     ],
     "language": "python",
     "metadata": {},
     "outputs": [
      {
       "metadata": {},
       "output_type": "pyout",
       "prompt_number": 76,
       "text": [
        "a        0.587949\n",
        "sv       0.152657\n",
        "t        0.283810\n",
        "v(Hi)    1.764527\n",
        "v(Lo)    1.694095\n",
        "z        0.171622\n",
        "ssv      0.977018\n",
        "dtype: float64"
       ]
      }
     ],
     "prompt_number": 76
    },
    {
     "cell_type": "code",
     "collapsed": false,
     "input": [
      "stopdf=prodf.query(\"choice=='stop'\")\n",
      "[sxdf.rt.min() for sx, sxdf in stopdf.groupby('subj_idx')]\n",
      "                \n"
     ],
     "language": "python",
     "metadata": {},
     "outputs": [
      {
       "metadata": {},
       "output_type": "pyout",
       "prompt_number": 114,
       "text": [
        "[0.54500280000000001,\n",
        " 0.54500290000000007,\n",
        " 0.54500919999999997,\n",
        " 0.54500280000000001,\n",
        " 0.54500969999999993,\n",
        " 0.54501199999999994,\n",
        " 0.54500219999999999,\n",
        " 0.54500550000000003,\n",
        " 0.54500719999999991,\n",
        " 0.54500430000000011,\n",
        " 0.54500369999999998,\n",
        " 0.54500059999999995,\n",
        " 0.54500670000000007,\n",
        " 0.54500130000000013,\n",
        " 0.54500530000000003,\n",
        " 0.54500599999999999,\n",
        " 0.5450045,\n",
        " 0.54501690000000003,\n",
        " 0.54500150000000003,\n",
        " 0.54501369999999993,\n",
        " 0.54500150000000003,\n",
        " 0.54500730000000008,\n",
        " 0.54500090000000001,\n",
        " 0.54500179999999998,\n",
        " 0.54500319999999991,\n",
        " 0.54500350000000009,\n",
        " 0.54500160000000009,\n",
        " 0.54500039999999994,\n",
        " 0.54500340000000003,\n",
        " 0.5450026,\n",
        " 0.54500369999999998,\n",
        " 0.54500160000000009,\n",
        " 0.54500400000000004,\n",
        " 0.54500379999999993,\n",
        " 0.54500340000000003,\n",
        " 0.54500310000000007,\n",
        " 0.54500760000000004,\n",
        " 0.54500219999999999,\n",
        " 0.5450086999999999,\n",
        " 0.54500080000000006,\n",
        " 0.54500139999999997,\n",
        " 0.5450026,\n",
        " 0.54500470000000001,\n",
        " 0.54500100000000007,\n",
        " 0.54500160000000009,\n",
        " 0.5450005,\n",
        " 0.54500190000000004,\n",
        " 0.5450045,\n",
        " 0.54500130000000013,\n",
        " 0.54500170000000003,\n",
        " 0.54500190000000004,\n",
        " 0.54500300000000002,\n",
        " 0.54500409999999999,\n",
        " 0.54500009999999999,\n",
        " 0.5450020000000001,\n",
        " 0.54500430000000011,\n",
        " 0.54500719999999991,\n",
        " 0.54503480000000004,\n",
        " 0.54500419999999994,\n",
        " 0.54500109999999991,\n",
        " 0.54500680000000001]"
       ]
      }
     ],
     "prompt_number": 114
    },
    {
     "cell_type": "code",
     "collapsed": false,
     "input": [
      "utils=reload(utils)\n",
      "\n",
      "pstop, rt=utils.pro_pstop_rt_545(prodf)\n",
      "pstop\n",
      "rt"
     ],
     "language": "python",
     "metadata": {},
     "outputs": [
      {
       "metadata": {},
       "output_type": "pyout",
       "prompt_number": 120,
       "text": [
        "array([ 5.13324587,  5.32175999,  5.33556638,  5.32397132,  5.19515334,\n",
        "        5.13667358])"
       ]
      }
     ],
     "prompt_number": 120
    },
    {
     "cell_type": "code",
     "collapsed": false,
     "input": [
      "#prodf=pd.read_csv(pth+\"DataFiles/Pro_AllData.csv\", index_col=0)\n",
      "rts=utils.sxrt_pivot(prodf)\n",
      "rts.mean()"
     ],
     "language": "python",
     "metadata": {},
     "outputs": [
      {
       "metadata": {},
       "output_type": "pyout",
       "prompt_number": 117,
       "text": [
        "pGo\n",
        "0.0    0.534378\n",
        "0.2    0.540155\n",
        "0.4    0.542990\n",
        "0.6    0.542564\n",
        "0.8    0.533544\n",
        "1.0    0.529063\n",
        "dtype: float64"
       ]
      }
     ],
     "prompt_number": 117
    },
    {
     "cell_type": "code",
     "collapsed": false,
     "input": [
      "godf.dropna().groupby('pGo').mean()"
     ],
     "language": "python",
     "metadata": {},
     "outputs": [
      {
       "html": [
        "<div style=\"max-height:1000px;max-width:1500px;overflow:auto;\">\n",
        "<table border=\"1\" class=\"dataframe\">\n",
        "  <thead>\n",
        "    <tr style=\"text-align: right;\">\n",
        "      <th></th>\n",
        "      <th>subj_idx</th>\n",
        "      <th>response</th>\n",
        "      <th>rt</th>\n",
        "    </tr>\n",
        "    <tr>\n",
        "      <th>pGo</th>\n",
        "      <th></th>\n",
        "      <th></th>\n",
        "      <th></th>\n",
        "    </tr>\n",
        "  </thead>\n",
        "  <tbody>\n",
        "    <tr>\n",
        "      <th>0.0</th>\n",
        "      <td> 65.678571</td>\n",
        "      <td> 1</td>\n",
        "      <td> 0.486505</td>\n",
        "    </tr>\n",
        "    <tr>\n",
        "      <th>0.2</th>\n",
        "      <td> 65.627451</td>\n",
        "      <td> 1</td>\n",
        "      <td> 0.498966</td>\n",
        "    </tr>\n",
        "    <tr>\n",
        "      <th>0.4</th>\n",
        "      <td> 61.679487</td>\n",
        "      <td> 1</td>\n",
        "      <td> 0.502885</td>\n",
        "    </tr>\n",
        "    <tr>\n",
        "      <th>0.6</th>\n",
        "      <td> 58.843612</td>\n",
        "      <td> 1</td>\n",
        "      <td> 0.509140</td>\n",
        "    </tr>\n",
        "    <tr>\n",
        "      <th>0.8</th>\n",
        "      <td> 59.331568</td>\n",
        "      <td> 1</td>\n",
        "      <td> 0.504758</td>\n",
        "    </tr>\n",
        "    <tr>\n",
        "      <th>1.0</th>\n",
        "      <td> 60.276658</td>\n",
        "      <td> 1</td>\n",
        "      <td> 0.501555</td>\n",
        "    </tr>\n",
        "  </tbody>\n",
        "</table>\n",
        "</div>"
       ],
       "metadata": {},
       "output_type": "pyout",
       "prompt_number": 71,
       "text": [
        "      subj_idx  response        rt\n",
        "pGo                               \n",
        "0.0  65.678571         1  0.486505\n",
        "0.2  65.627451         1  0.498966\n",
        "0.4  61.679487         1  0.502885\n",
        "0.6  58.843612         1  0.509140\n",
        "0.8  59.331568         1  0.504758\n",
        "1.0  60.276658         1  0.501555"
       ]
      }
     ],
     "prompt_number": 71
    },
    {
     "cell_type": "code",
     "collapsed": false,
     "input": [
      "godf.convert_objects(convert_numeric=True)\n",
      "\n",
      "x=utils.makePivot(godf, cols='pGo', index='subj_idx', values='rt')\n",
      "x4=x.loc[:,0.4]\n",
      "x2=x.loc[:,0.2]\n",
      "\n",
      "#x.dropna().mean()"
     ],
     "language": "python",
     "metadata": {},
     "outputs": [
      {
       "metadata": {},
       "output_type": "pyout",
       "prompt_number": 103,
       "text": [
        "0.49153767035617507"
       ]
      }
     ],
     "prompt_number": 103
    },
    {
     "cell_type": "code",
     "collapsed": false,
     "input": [
      "paramdf=pd.read_csv(pth+\"ParamFiles/ProBSL_HDDM_Params.csv\", index_col='subj_idx')\n",
      "pgo_list=[0.0, 0.2, 0.4, 0.6, 0.8, 1.0]\n",
      "inits=paramdf.mean()\n"
     ],
     "language": "python",
     "metadata": {},
     "outputs": []
    },
    {
     "cell_type": "code",
     "collapsed": false,
     "input": [
      "fitpro=reload(fitpro)\n",
      "os.chdir(utils.find_path()+\"OptAccRT/ProFlat545\")\n",
      "\n",
      "pgo_list=[0.0, 0.2, 0.4, 0.6, 0.8, 1.0]\n",
      "pb=utils.PBinJ(len(pgo_list), color=\"#009B76\"); sx_n=0\n",
      "ntrials=2000; depHyper=True; predlist=list()\n",
      "\n",
      "#get mean data points\n",
      "pstop, rt=utils.pro_pstop_rt_545(prodf)\n",
      "inits['ssd']=.450\n",
      "#inits['eta']=inits['sv']\n",
      "pred=pd.DataFrame(columns=['pGo', 'v', 'pstop_data', \n",
      "                            'pstop_radd', 'rt_data', 'rt_radd', \n",
      "                             'chi'], index=pgo_list)\n",
      "\n",
      "for i, pg in enumerate(pgo_list):\n",
      "\n",
      "    pb.update_i(sx_n)\n",
      "    sx_n +=1\n",
      "\n",
      "    inits['pGo']=pg\n",
      "\n",
      "    if pg<.5:\n",
      "        vinit=inits['v(Lo)']\n",
      "    else:    \n",
      "        vinit=inits['v(Hi)']\n",
      "\n",
      "    y=np.array([pstop[i], rt[i]])\n",
      "    \n",
      "    p=Parameters()\n",
      "    p.add('v', value=vinit, min=0.0, vary=True)\n",
      "    popt = Minimizer(fitpro.sspro_minfunc, p, fcn_args=(inits, y, ntrials), method='Nelder-Mead') \n",
      "    popt.fmin(maxfun=1000, ftol=1.e-3, xtol=1.e-3, full_output=True, disp=True)      \n",
      "    \n",
      "    if pg==0.0:\n",
      "        pstop_radd=pstop[i]+popt.residual[0][0]\n",
      "        rt_radd=0\n",
      "        chi=popt.chisqr[0]\n",
      "    if pg>0.0:\n",
      "        pstop_radd=pstop[i]+popt.residual[0][0]\n",
      "        rt_radd=rt[i]+popt.residual[1][0]\n",
      "        chi=popt.chisqr\n",
      "    pred.loc[pg,:]=pd.Series(OrderedDict([('pGo',pg), ('v',p['v'].value), ('pstop_data',y[0]), \n",
      "                                ('pstop_radd',pstop_radd), ('rt_data',y[1]), ('rt_radd',rt_radd), \n",
      "                                ('chi',chi)]))\n",
      "    #predlist.append(pg_pred)\n",
      "\n",
      "pb.update_i(sx_n)\n",
      "#sxpred.to_csv(\"ProFits_Sx\"+str(sx)+\".csv\")\n",
      "#sxfits_list.append(sxpred)\n",
      "\n",
      "print \"-\"*100\n",
      "    \n",
      "#pred=pd.concat(predlist)\n",
      "pred.to_csv(\"Pro545_FlatFits.csv\")"
     ],
     "language": "python",
     "metadata": {},
     "outputs": [
      {
       "html": [
        "\n",
        "\t    <div style=\"border: 1px solid black; width:500px\">\n",
        "\t    <div id=\"5adbaed2-8cef-4c39-b73e-3eaa5580a76d\" style=\"background-color:#009B76; width:0%\">&nbsp;</div>\n",
        "\t    </div> \n",
        "\t    "
       ],
       "metadata": {},
       "output_type": "display_data",
       "text": [
        "<IPython.core.display.HTML at 0x7f87d0cb6610>"
       ]
      },
      {
       "javascript": [
        "$('div#5adbaed2-8cef-4c39-b73e-3eaa5580a76d').width('0.00%')"
       ],
       "metadata": {},
       "output_type": "display_data",
       "text": [
        "<IPython.core.display.Javascript at 0x7f87d0cb6710>"
       ]
      },
      {
       "output_type": "stream",
       "stream": "stdout",
       "text": [
        "Optimization terminated successfully.\n",
        "         Current function value: 0.000009\n",
        "         Iterations: 11\n",
        "         Function evaluations: 25\n"
       ]
      },
      {
       "javascript": [
        "$('div#5adbaed2-8cef-4c39-b73e-3eaa5580a76d').width('16.67%')"
       ],
       "metadata": {},
       "output_type": "display_data",
       "text": [
        "<IPython.core.display.Javascript at 0x7f87d0d71890>"
       ]
      },
      {
       "output_type": "stream",
       "stream": "stdout",
       "text": [
        "Optimization terminated successfully.\n",
        "         Current function value: 0.000314\n",
        "         Iterations: 10\n",
        "         Function evaluations: 24\n"
       ]
      },
      {
       "javascript": [
        "$('div#5adbaed2-8cef-4c39-b73e-3eaa5580a76d').width('33.33%')"
       ],
       "metadata": {},
       "output_type": "display_data",
       "text": [
        "<IPython.core.display.Javascript at 0x7f87d04819d0>"
       ]
      },
      {
       "output_type": "stream",
       "stream": "stdout",
       "text": [
        "Optimization terminated successfully.\n",
        "         Current function value: 0.005779\n",
        "         Iterations: 11\n",
        "         Function evaluations: 24\n"
       ]
      },
      {
       "javascript": [
        "$('div#5adbaed2-8cef-4c39-b73e-3eaa5580a76d').width('50.00%')"
       ],
       "metadata": {},
       "output_type": "display_data",
       "text": [
        "<IPython.core.display.Javascript at 0x7f87d04929d0>"
       ]
      },
      {
       "output_type": "stream",
       "stream": "stdout",
       "text": [
        "Optimization terminated successfully.\n",
        "         Current function value: 0.010537\n",
        "         Iterations: 11\n",
        "         Function evaluations: 25\n"
       ]
      },
      {
       "javascript": [
        "$('div#5adbaed2-8cef-4c39-b73e-3eaa5580a76d').width('66.67%')"
       ],
       "metadata": {},
       "output_type": "display_data",
       "text": [
        "<IPython.core.display.Javascript at 0x7f87d0c5da90>"
       ]
      },
      {
       "output_type": "stream",
       "stream": "stdout",
       "text": [
        "Optimization terminated successfully.\n",
        "         Current function value: 0.004437\n",
        "         Iterations: 11\n",
        "         Function evaluations: 26\n"
       ]
      },
      {
       "javascript": [
        "$('div#5adbaed2-8cef-4c39-b73e-3eaa5580a76d').width('83.33%')"
       ],
       "metadata": {},
       "output_type": "display_data",
       "text": [
        "<IPython.core.display.Javascript at 0x7f87d0636d50>"
       ]
      },
      {
       "output_type": "stream",
       "stream": "stdout",
       "text": [
        "Optimization terminated successfully.\n",
        "         Current function value: 0.002415\n",
        "         Iterations: 9\n",
        "         Function evaluations: 23\n"
       ]
      },
      {
       "javascript": [
        "$('div#5adbaed2-8cef-4c39-b73e-3eaa5580a76d').width('100.00%')"
       ],
       "metadata": {},
       "output_type": "display_data",
       "text": [
        "<IPython.core.display.Javascript at 0x7f87d0c53a50>"
       ]
      },
      {
       "output_type": "stream",
       "stream": "stdout",
       "text": [
        "----------------------------------------------------------------------------------------------------\n"
       ]
      }
     ],
     "prompt_number": 122
    },
    {
     "cell_type": "code",
     "collapsed": false,
     "input": [
      "pred.convert_objects(convert_numeric=True)\n",
      "\n",
      "pred"
     ],
     "language": "python",
     "metadata": {},
     "outputs": [
      {
       "html": [
        "<div style=\"max-height:1000px;max-width:1500px;overflow:auto;\">\n",
        "<table border=\"1\" class=\"dataframe\">\n",
        "  <thead>\n",
        "    <tr style=\"text-align: right;\">\n",
        "      <th></th>\n",
        "      <th>pGo</th>\n",
        "      <th>v</th>\n",
        "      <th>pstop_data</th>\n",
        "      <th>pstop_radd</th>\n",
        "      <th>rt_data</th>\n",
        "      <th>rt_radd</th>\n",
        "      <th>chi</th>\n",
        "    </tr>\n",
        "  </thead>\n",
        "  <tbody>\n",
        "    <tr>\n",
        "      <th>0.0</th>\n",
        "      <td>   0</td>\n",
        "      <td> 1.223259</td>\n",
        "      <td>   0.9284836</td>\n",
        "      <td> 0.9395</td>\n",
        "      <td> 5.133246</td>\n",
        "      <td>        0</td>\n",
        "      <td>  0.000121361</td>\n",
        "    </tr>\n",
        "    <tr>\n",
        "      <th>0.2</th>\n",
        "      <td> 0.2</td>\n",
        "      <td> 1.378125</td>\n",
        "      <td>   0.7553279</td>\n",
        "      <td>  0.766</td>\n",
        "      <td>  5.32176</td>\n",
        "      <td> 5.310906</td>\n",
        "      <td> 0.0002316963</td>\n",
        "    </tr>\n",
        "    <tr>\n",
        "      <th>0.4</th>\n",
        "      <td> 0.4</td>\n",
        "      <td> 1.511872</td>\n",
        "      <td>   0.4780738</td>\n",
        "      <td> 0.4855</td>\n",
        "      <td> 5.335566</td>\n",
        "      <td> 5.254451</td>\n",
        "      <td>  0.006634922</td>\n",
        "    </tr>\n",
        "    <tr>\n",
        "      <th>0.6</th>\n",
        "      <td> 0.6</td>\n",
        "      <td> 1.607561</td>\n",
        "      <td>   0.2403689</td>\n",
        "      <td>  0.294</td>\n",
        "      <td> 5.323971</td>\n",
        "      <td> 5.228139</td>\n",
        "      <td>   0.01206009</td>\n",
        "    </tr>\n",
        "    <tr>\n",
        "      <th>0.8</th>\n",
        "      <td> 0.8</td>\n",
        "      <td> 1.753267</td>\n",
        "      <td>   0.0352459</td>\n",
        "      <td> 0.0835</td>\n",
        "      <td> 5.195153</td>\n",
        "      <td>  5.12903</td>\n",
        "      <td>  0.006700744</td>\n",
        "    </tr>\n",
        "    <tr>\n",
        "      <th>1.0</th>\n",
        "      <td>   1</td>\n",
        "      <td> 1.794116</td>\n",
        "      <td> 0.004889272</td>\n",
        "      <td> 0.0485</td>\n",
        "      <td> 5.136674</td>\n",
        "      <td> 5.105772</td>\n",
        "      <td>  0.002856779</td>\n",
        "    </tr>\n",
        "  </tbody>\n",
        "</table>\n",
        "</div>"
       ],
       "metadata": {},
       "output_type": "pyout",
       "prompt_number": 213,
       "text": [
        "     pGo         v   pstop_data pstop_radd   rt_data   rt_radd           chi\n",
        "0.0    0  1.223259    0.9284836     0.9395  5.133246         0   0.000121361\n",
        "0.2  0.2  1.378125    0.7553279      0.766   5.32176  5.310906  0.0002316963\n",
        "0.4  0.4  1.511872    0.4780738     0.4855  5.335566  5.254451   0.006634922\n",
        "0.6  0.6  1.607561    0.2403689      0.294  5.323971  5.228139    0.01206009\n",
        "0.8  0.8  1.753267    0.0352459     0.0835  5.195153   5.12903   0.006700744\n",
        "1.0    1  1.794116  0.004889272     0.0485  5.136674  5.105772   0.002856779"
       ]
      }
     ],
     "prompt_number": 213
    },
    {
     "cell_type": "code",
     "collapsed": false,
     "input": [
      "os.chdir(utils.find_path()+\"OptAccRT/ProFlat545\")\n",
      "\n",
      "\n",
      "prodf=pd.read_csv(pth+\"DataFiles/Pro_AllData.csv\", index_col=0)\n",
      "\n",
      "pred=pd.read_csv(\"Pro545_FlatFits.csv\")\n",
      "ysim=pred['pstop_radd'].astype('float').values\n",
      "ydat=pred['pstop_data'].astype('float').values\n",
      "\n",
      "rtsim=pred['rt_radd'].values[1:]/10\n",
      "rtdat=pred['rt_data'].values[1:]/10\n",
      "\n",
      "godf=prodf.query(\"choice=='go' & rt<.5451\")\n",
      "rts=utils.makePivot(godf, cols='pGo', index='subj_idx', values='rt')\n",
      "rterr=rts.sem().values[1:]*1.96\n",
      "\n",
      "ys=1-utils.makePivot(prodf, cols='pGo', index='subj_idx', values='response')\n",
      "\n",
      "yerr=ys.sem().values*1.96\n",
      "\n",
      "\n",
      "\n",
      "x=np.arange(.2,1.2,.2)\n",
      "plt.close('all')\n",
      "\n",
      "sparams=utils.style_params()\n",
      "colors=sparams['colors']\n",
      "\n",
      "sns.set_context('paper', rc=sparams['context'])\n",
      "\n",
      "f,ax=plt.subplots(1)\n",
      "for sx, sxvals in rts.iterrows():\n",
      "    ax.plot(x, sxvals.values[1:], color='green', marker='o', ms=3, linewidth=0, alpha=.4)\n",
      "\n",
      "\n",
      "ax.errorbar(x, rtdat, yerr=rterr, ecolor='k', linewidth=4, elinewidth=4, color='#222222', label='data')\n",
      "ax.plot(x, rtsim, color='blue',linewidth=4, marker='o', label='radd')\n",
      "props=plt.setp(plt.gca(), xlim=(.15,1.05), ylim=(.47, .57), ylabel='RT (s)', xlabel='P(Go)')\n",
      "\n",
      "ax.legend(loc=0)\n",
      "#optdf.to_csv(\"ProAll_BestFits.csv\")\n",
      "sns.despine()\n",
      "plt.savefig('ProRT_AvgDataFits.png')\n",
      "\n",
      "\n",
      "\n",
      "stopmeans=[ydat, ysim]\n",
      "stoperr=[yerr, np.zeros_like(yerr)]\n",
      "psy=reload(psy)\n",
      "ax=psy.scurves(stopmeans, yerr=stoperr, ys=ys, title='ProStops_AvgDataFits', \n",
      "               colors=['#454545', colors[4]], labels=['Data', 'RADD'], task='ssPro')"
     ],
     "language": "python",
     "metadata": {},
     "outputs": [
      {
       "ename": "NameError",
       "evalue": "name 'os' is not defined",
       "output_type": "pyerr",
       "traceback": [
        "\u001b[0;31m---------------------------------------------------------------------------\u001b[0m\n\u001b[0;31mNameError\u001b[0m                                 Traceback (most recent call last)",
        "\u001b[0;32m<ipython-input-1-892ddfe79404>\u001b[0m in \u001b[0;36m<module>\u001b[0;34m()\u001b[0m\n\u001b[0;32m----> 1\u001b[0;31m \u001b[0mos\u001b[0m\u001b[0;34m.\u001b[0m\u001b[0mchdir\u001b[0m\u001b[0;34m(\u001b[0m\u001b[0mutils\u001b[0m\u001b[0;34m.\u001b[0m\u001b[0mfind_path\u001b[0m\u001b[0;34m(\u001b[0m\u001b[0;34m)\u001b[0m\u001b[0;34m+\u001b[0m\u001b[0;34m\"OptAccRT/ProFlat545\"\u001b[0m\u001b[0;34m)\u001b[0m\u001b[0;34m\u001b[0m\u001b[0m\n\u001b[0m\u001b[1;32m      2\u001b[0m \u001b[0;34m\u001b[0m\u001b[0m\n\u001b[1;32m      3\u001b[0m \u001b[0;34m\u001b[0m\u001b[0m\n\u001b[1;32m      4\u001b[0m \u001b[0mprodf\u001b[0m\u001b[0;34m=\u001b[0m\u001b[0mpd\u001b[0m\u001b[0;34m.\u001b[0m\u001b[0mread_csv\u001b[0m\u001b[0;34m(\u001b[0m\u001b[0mpth\u001b[0m\u001b[0;34m+\u001b[0m\u001b[0;34m\"DataFiles/Pro_AllData.csv\"\u001b[0m\u001b[0;34m,\u001b[0m \u001b[0mindex_col\u001b[0m\u001b[0;34m=\u001b[0m\u001b[0;36m0\u001b[0m\u001b[0;34m)\u001b[0m\u001b[0;34m\u001b[0m\u001b[0m\n\u001b[1;32m      5\u001b[0m \u001b[0;34m\u001b[0m\u001b[0m\n",
        "\u001b[0;31mNameError\u001b[0m: name 'os' is not defined"
       ]
      }
     ],
     "prompt_number": 1
    },
    {
     "cell_type": "code",
     "collapsed": false,
     "input": [
      "x=np.arange(.2,1.2,.2)\n",
      "plt.close('all')\n",
      "\n",
      "sparams=utils.style_params()\n",
      "colors=sparams['colors']\n",
      "\n",
      "sns.set_context('paper', rc=sparams['context'])\n",
      "\n",
      "f,ax=plt.subplots(1)\n",
      "for sx, sxvals in rts.iterrows():\n",
      "    ax.plot(x, sxvals.values[1:], color='green', marker='o', ms=3, linewidth=0, alpha=.4)\n",
      "\n",
      "\n",
      "ax.errorbar(x, rtdat, yerr=rterr, ecolor='k', linewidth=4, elinewidth=4, color='#222222', label='data')\n",
      "ax.plot(x, rtsim, color='blue',linewidth=4, marker='o', label='radd')\n",
      "props=plt.setp(plt.gca(), xlim=(.15,1.05), ylim=(.47, .57), ylabel='RT (s)', xlabel='P(Go)')\n",
      "\n",
      "ax.legend(loc=0)\n",
      "#optdf.to_csv(\"ProAll_BestFits.csv\")\n",
      "sns.despine()\n",
      "plt.savefig('ProRT_AvgDataFits.png')\n",
      "\n",
      "\n",
      "\n",
      "stopmeans=[ydat, ysim]\n",
      "stoperr=[yerr, np.zeros_like(yerr)]\n",
      "psy=reload(psy)\n",
      "ax=psy.scurves(stopmeans, yerr=stoperr, ys=ys, title='ProStops_AvgDataFits', \n",
      "               colors=['#454545', colors[4]], labels=['Data', 'RADD'], task='ssPro')"
     ],
     "language": "python",
     "metadata": {},
     "outputs": [
      {
       "metadata": {},
       "output_type": "display_data",
       "png": "[encoded data removed]",
       "text": [
        "<matplotlib.figure.Figure at 0x7f87d090d710>"
       ]
      }
     ],
     "prompt_number": 259
    },
    {
     "cell_type": "code",
     "collapsed": false,
     "input": [
      "stopmeans=[ydat, ysim]\n",
      "stoperr=[yerr, np.zeros_like(yerr)]\n",
      "psy=reload(psy)\n",
      "ax=psy.scurves(stopmeans, yerr=stoperr, ys=ys, title='ProStops_AvgDataFits', \n",
      "               colors=['#454545', colors[4]], labels=['Data', 'RADD'], task='ssPro')"
     ],
     "language": "python",
     "metadata": {},
     "outputs": [
      {
       "metadata": {},
       "output_type": "display_data",
       "png": "[encoded data removed]",
       "text": [
        "<matplotlib.figure.Figure at 0x7f87d01ba690>"
       ]
      }
     ],
     "prompt_number": 257
    }
   ],
   "metadata": {}
  }
 ]
}