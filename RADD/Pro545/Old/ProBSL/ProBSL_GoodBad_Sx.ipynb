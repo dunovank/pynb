{
 "metadata": {
  "name": "",
  "signature": "sha256:f4a2ac7e02f6985b3b552e9f6ef06f161e5d848840eb7c03383f0fe1352c212d"
 },
 "nbformat": 3,
 "nbformat_minor": 0,
 "worksheets": [
  {
   "cells": [
    {
     "cell_type": "heading",
     "level": 1,
     "metadata": {},
     "source": [
      "Single SX Pro-BSL DATA NESTED FITS "
     ]
    },
    {
     "cell_type": "code",
     "collapsed": false,
     "input": [
      "from __future__ import division\n",
      "import pandas as pd\n",
      "from radd import utils, xopt, psy, ss, simfx\n",
      "from lmfit import Parameters, Minimizer\n",
      "import seaborn as sns\n",
      "import os"
     ],
     "language": "python",
     "metadata": {},
     "outputs": [],
     "prompt_number": 1
    },
    {
     "cell_type": "heading",
     "level": 3,
     "metadata": {},
     "source": [
      "Load in data"
     ]
    },
    {
     "cell_type": "code",
     "collapsed": false,
     "input": [
      "utils=reload(utils)\n",
      "pth=utils.find_path()\n",
      "\n",
      "prodf=pd.read_csv(pth+\"DataFiles/Pro_Data.csv\", index_col=0)\n",
      "\n",
      "procut=utils.trunc_df(prodf)\n",
      "\n",
      "#allgorts=utils.sxrt_pivot(prodf)\n",
      "allgorts=utils.sxrt_pivot(prodf)\n",
      "\n",
      "cutgorts=utils.sxrt_pivot(procut)\n",
      "\n",
      "prodf_stops=utils.sxstop_pivot(prodf)\n",
      "\n",
      "cutdf_stops=utils.sxstop_pivot(procut)\n",
      "\n",
      "all_stop=[0.928484,0.755328,0.478074,0.240369,0.035246,0.004889]\n",
      "all_rt=[0.534378,0.540155,0.542990,0.542564,0.533544,0.529063]\n",
      "cut_rt=[0.480469,0.491375,0.500804,0.510604,0.506695,0.502725]\n",
      "cut_go=[1.0, 1.0, 1.0, 1.0, 1.0, 1.0]"
     ],
     "language": "python",
     "metadata": {},
     "outputs": [],
     "prompt_number": 2
    },
    {
     "cell_type": "code",
     "collapsed": false,
     "input": [
      "allgorts.loc[29,:].values\n",
      "#allgorts.head()"
     ],
     "language": "python",
     "metadata": {},
     "outputs": [
      {
       "metadata": {},
       "output_type": "pyout",
       "prompt_number": 13,
       "text": [
        "array([ 0.5451838 ,  0.54377209,  0.54236641,  0.53948961,  0.51387002,\n",
        "        0.50576874])"
       ]
      }
     ],
     "prompt_number": 13
    },
    {
     "cell_type": "code",
     "collapsed": false,
     "input": [
      "print procut.rt.max()\n",
      "bsl=procut.copy()\n",
      "bsl.head()"
     ],
     "language": "python",
     "metadata": {},
     "outputs": [
      {
       "output_type": "stream",
       "stream": "stdout",
       "text": [
        "0.5473672\n"
       ]
      },
      {
       "html": [
        "<div style=\"max-height:1000px;max-width:1500px;overflow:auto;\">\n",
        "<table border=\"1\" class=\"dataframe\">\n",
        "  <thead>\n",
        "    <tr style=\"text-align: right;\">\n",
        "      <th></th>\n",
        "      <th>subj_idx</th>\n",
        "      <th>pGo</th>\n",
        "      <th>HiLo</th>\n",
        "      <th>HML</th>\n",
        "      <th>Cond</th>\n",
        "      <th>response</th>\n",
        "      <th>choice</th>\n",
        "      <th>rt</th>\n",
        "    </tr>\n",
        "  </thead>\n",
        "  <tbody>\n",
        "    <tr>\n",
        "      <th>0</th>\n",
        "      <td> 28</td>\n",
        "      <td> 1</td>\n",
        "      <td> aHi</td>\n",
        "      <td> bHi</td>\n",
        "      <td> bsl</td>\n",
        "      <td> 1</td>\n",
        "      <td> go</td>\n",
        "      <td> 0.479849</td>\n",
        "    </tr>\n",
        "    <tr>\n",
        "      <th>1</th>\n",
        "      <td> 28</td>\n",
        "      <td> 1</td>\n",
        "      <td> aHi</td>\n",
        "      <td> bHi</td>\n",
        "      <td> bsl</td>\n",
        "      <td> 1</td>\n",
        "      <td> go</td>\n",
        "      <td> 0.371613</td>\n",
        "    </tr>\n",
        "    <tr>\n",
        "      <th>2</th>\n",
        "      <td> 28</td>\n",
        "      <td> 1</td>\n",
        "      <td> aHi</td>\n",
        "      <td> bHi</td>\n",
        "      <td> bsl</td>\n",
        "      <td> 1</td>\n",
        "      <td> go</td>\n",
        "      <td> 0.504975</td>\n",
        "    </tr>\n",
        "    <tr>\n",
        "      <th>3</th>\n",
        "      <td> 28</td>\n",
        "      <td> 1</td>\n",
        "      <td> aHi</td>\n",
        "      <td> bHi</td>\n",
        "      <td> bsl</td>\n",
        "      <td> 1</td>\n",
        "      <td> go</td>\n",
        "      <td> 0.518304</td>\n",
        "    </tr>\n",
        "    <tr>\n",
        "      <th>4</th>\n",
        "      <td> 28</td>\n",
        "      <td> 1</td>\n",
        "      <td> aHi</td>\n",
        "      <td> bHi</td>\n",
        "      <td> bsl</td>\n",
        "      <td> 1</td>\n",
        "      <td> go</td>\n",
        "      <td> 0.491720</td>\n",
        "    </tr>\n",
        "  </tbody>\n",
        "</table>\n",
        "</div>"
       ],
       "metadata": {},
       "output_type": "pyout",
       "prompt_number": 3,
       "text": [
        "   subj_idx  pGo HiLo  HML Cond  response choice        rt\n",
        "0        28    1  aHi  bHi  bsl         1     go  0.479849\n",
        "1        28    1  aHi  bHi  bsl         1     go  0.371613\n",
        "2        28    1  aHi  bHi  bsl         1     go  0.504975\n",
        "3        28    1  aHi  bHi  bsl         1     go  0.518304\n",
        "4        28    1  aHi  bHi  bsl         1     go  0.491720"
       ]
      }
     ],
     "prompt_number": 3
    },
    {
     "cell_type": "code",
     "collapsed": false,
     "input": [
      "#Sx with fewer responses counted behind\n",
      "#timeboundary and less skew in rt\n",
      "#good=[28, 29, 39, 48, 54, 57, 76, 77]\n",
      "\n",
      "good=[28, 29, 39, 48, 54, 76]\n",
      "\n",
      "\n",
      "bad=[42, 60, 66, 78, 85, 86, 88]\n",
      "\n",
      "print \"Good Sx\"\n",
      "for sx in good:\n",
      "\n",
      "    new_count=len(procut[procut['subj_idx']==sx])\n",
      "    old_count=len(prodf[prodf['subj_idx']==sx])\n",
      "\n",
      "    perc_lost=(old_count-new_count)/old_count\n",
      "    \n",
      "    print \"SX %s : lost %.3f\" % (str(sx), perc_lost)\n",
      "\n",
      "print \"\\n\\nBad Sx\"\n",
      "for sx in bad:\n",
      "\n",
      "    new_count=len(procut[procut['subj_idx']==sx])\n",
      "    old_count=len(prodf[prodf['subj_idx']==sx])\n",
      "\n",
      "    perc_lost=(old_count-new_count)/old_count\n",
      "    \n",
      "    print \"SX %s : lost %.3f\" % (str(sx), perc_lost)\n"
     ],
     "language": "python",
     "metadata": {},
     "outputs": [
      {
       "output_type": "stream",
       "stream": "stdout",
       "text": [
        "Good Sx\n",
        "SX 28 : lost 0.266\n",
        "SX 29 : lost 0.214\n",
        "SX 39 : lost 0.209\n",
        "SX 48 : lost 0.288\n",
        "SX 54 : lost 0.100\n",
        "SX 57 : lost 0.411\n",
        "SX 76 : lost 0.197\n",
        "SX 77 : lost 0.350\n",
        "\n",
        "\n",
        "Bad Sx\n",
        "SX 42 : lost 0.615\n",
        "SX 60 : lost 0.496\n",
        "SX 61 : lost 0.426\n",
        "SX 66 : lost 0.475\n",
        "SX 78 : lost 0.458\n",
        "SX 85 : lost 0.433\n",
        "SX 86 : lost 0.501\n",
        "SX 88 : lost 0.497\n"
       ]
      }
     ],
     "prompt_number": 10
    },
    {
     "cell_type": "heading",
     "level": 3,
     "metadata": {},
     "source": [
      "Generate list of Arrays: Array([PStop, RT]) For each P(Go) Cond"
     ]
    },
    {
     "cell_type": "code",
     "collapsed": false,
     "input": [
      "ydata=[[ss.anl(pgdf, task='ssPro').values] for pg, pgdf in bsl.groupby('pGo')]\n",
      "ydata"
     ],
     "language": "python",
     "metadata": {},
     "outputs": [
      {
       "metadata": {},
       "output_type": "pyout",
       "prompt_number": 4,
       "text": [
        "[[array([ 0.93333333,  0.53047021])],\n",
        " [array([ 0.74377395,  0.54016022])],\n",
        " [array([ 0.47084337,  0.54063922])],\n",
        " [array([ 0.23450906,  0.54018439])],\n",
        " [array([ 0.03153153,  0.53055018])],\n",
        " [array([ 0.00438322,  0.52670961])]]"
       ]
      }
     ],
     "prompt_number": 4
    },
    {
     "cell_type": "heading",
     "level": 3,
     "metadata": {},
     "source": [
      "Define Initial Parameter Values (Optimal Sx Params For ReBSL)"
     ]
    },
    {
     "cell_type": "code",
     "collapsed": false,
     "input": [
      "paramdf=pd.read_csv(pth+\"ParamFiles/ProBSL_HDDM_Params.csv\", index_col='subj_idx')"
     ],
     "language": "python",
     "metadata": {},
     "outputs": [],
     "prompt_number": 5
    },
    {
     "cell_type": "heading",
     "level": 3,
     "metadata": {},
     "source": [
      "Fit Single Sx - RePNL Nested Model (RADD)"
     ]
    },
    {
     "cell_type": "code",
     "collapsed": false,
     "input": [
      "ydata=[ss.anl(sxdf[sxdf['pGo']==pg], task='ssPro') for pg in pgo_list]\n",
      "yd=sxdf.groupby('pGo').mean()[['response', 'rt']]\n",
      "yd['rt'][0]"
     ],
     "language": "python",
     "metadata": {},
     "outputs": [
      {
       "metadata": {},
       "output_type": "pyout",
       "prompt_number": 23,
       "text": [
        "0.54327480000000006"
       ]
      }
     ],
     "prompt_number": 23
    },
    {
     "cell_type": "code",
     "collapsed": false,
     "input": [],
     "language": "python",
     "metadata": {},
     "outputs": []
    },
    {
     "cell_type": "code",
     "collapsed": false,
     "input": [
      "y=sxdf.groupby('pGo').mean()[['response', 'rt']]\n",
      "for pg in [.0, .2, .4, .6, .8, 1.]:\n",
      "    print y.loc[pg, 'rt']"
     ],
     "language": "python",
     "metadata": {},
     "outputs": [
      {
       "output_type": "stream",
       "stream": "stdout",
       "text": [
        "0.545173378788\n",
        "0.545182768571\n",
        "0.545214448571\n",
        "0.545215997059\n",
        "0.54521068125\n",
        "0.545069904348\n"
       ]
      }
     ],
     "prompt_number": 65
    },
    {
     "cell_type": "code",
     "collapsed": false,
     "input": [
      "paramdf=pd.read_csv(utils.find_path()+\"OptAccRT/ReBSL_SxFits/ReBSL_AllSxParams.csv\", index_col=0)\n",
      "pb=utils.PBinJ(len(paramdf)*len(pgo_list), color=\"#009B76\"); sx_n=0\n",
      "os.chdir(utils.find_path()+\"OptAccRT/ProBSL_Test/\")\n",
      "\n",
      "good=[28, 29, 39, 48, 54, 76]\n",
      "\n",
      "\n",
      "bad=[42, 60, 66, 78, 85, 86, 88]\n",
      "\n",
      "\n",
      "ntrials=1000; depHyper=True\n",
      "# init sx concat list\n",
      "sxpred_list=[]\n",
      "\n",
      "for sx in good:\n",
      "    if sx<71:continue\n",
      "    pstop_residuals=[]; stoperr=[]; rt_residuals=[]\n",
      "    rterr=[]; chi_list=[]; vlist=[]\n",
      "    \n",
      "    sx_n+=1  \n",
      "    \n",
      "    sxdf=bsl[bsl['subj_idx']==sx]\n",
      "    y=sxdf.groupby('pGo').mean()[['response', 'rt']]\n",
      "    sxtheta=paramdf.loc[sx].to_dict()\n",
      "    theta=paramdf.loc[sx].to_dict()\n",
      "    \n",
      "    del theta['v']\n",
      "    theta['ssd']=.450\n",
      "    \n",
      "    for pg in [0.0, 0.2, 0.4, 0.6, 0.8, 1.0]:\n",
      "\n",
      "        pb.update_i(sx_n)\n",
      "        sx_n +=1\n",
      "        pgo=y.loc[pg, 'response']\n",
      "        rt=y.loc[pg, 'rt']*10\n",
      "                \n",
      "        theta['pGo']=pg\n",
      "        print theta\n",
      "        vID=\"v\"+str(int(pg*100))\n",
      "        p=Parameters()\n",
      "        p.add(vID, value=sxtheta['v'], min=0.0, vary=True)\n",
      "        \n",
      "        #Simplex Minimization\n",
      "        popt = Minimizer(simpro, p, fcn_args=(theta, pg, pgo, rt, ntrials), method='Nelder-Mead') \n",
      "        popt.fmin(maxfun=1000, ftol=5.e-2, xtol=1.e-2, full_output=True, disp=True)      \n",
      "        \n",
      "        #store fit results\n",
      "        chi_list.append(popt.chisqr)\n",
      "        vlist.append(p[vID].value)\n",
      "        stoperr.append(popt.residual[0])\n",
      "        rterr.append(popt.residual[1]*.1)   \n",
      "    \n",
      "    pb.update_i(sx_n)\n",
      "    \n",
      "    print \"-\"*100\n",
      "\n",
      "    sxpred=pd.DataFrame.from_dict({'subj_idx':[sx]*len(pgo_list),'pGo':pgo_list, 'v':vlist, \n",
      "            'pstop_data':y['response'].values, 'pstop_residuals':stoperr, 'rt_data':y['rt'].values, \n",
      "            'rt_residuals': rterr, 'chi':chi_list}, orient='columns')\n",
      "\n",
      "    sxpred.to_csv(\"sx\"+str(sx)+\"_pro_bsl_fits.csv\")"
     ],
     "language": "python",
     "metadata": {},
     "outputs": [
      {
       "html": [
        "\n",
        "\t    <div style=\"border: 1px solid black; width:500px\">\n",
        "\t    <div id=\"a687947f-dc4d-4fbc-accb-4c239ec24218\" style=\"background-color:#009B76; width:0%\">&nbsp;</div>\n",
        "\t    </div> \n",
        "\t    "
       ],
       "metadata": {},
       "output_type": "display_data",
       "text": [
        "<IPython.core.display.HTML at 0x7f2c6bb0ae50>"
       ]
      },
      {
       "javascript": [
        "$('div#a687947f-dc4d-4fbc-accb-4c239ec24218').width('0.29%')"
       ],
       "metadata": {},
       "output_type": "display_data",
       "text": [
        "<IPython.core.display.Javascript at 0x7f2c6b7fa0d0>"
       ]
      },
      {
       "output_type": "stream",
       "stream": "stdout",
       "text": [
        "{'a': 0.4155523148307505, 'pGo': 0.0, 'ssv': 0.94585858422590696, 't': 0.3062564419733107, 'ssd': 0.45, 'z': 0.17380984460513638}\n"
       ]
      },
      {
       "ename": "TypeError",
       "evalue": "'numpy.float64' object is not callable",
       "output_type": "pyerr",
       "traceback": [
        "\u001b[1;31m---------------------------------------------------------------------------\u001b[0m\n\u001b[1;31mTypeError\u001b[0m                                 Traceback (most recent call last)",
        "\u001b[1;32m<ipython-input-83-183af20e9dbf>\u001b[0m in \u001b[0;36m<module>\u001b[1;34m()\u001b[0m\n\u001b[0;32m     37\u001b[0m         \u001b[1;31m#Simplex Minimization\u001b[0m\u001b[1;33m\u001b[0m\u001b[1;33m\u001b[0m\u001b[0m\n\u001b[0;32m     38\u001b[0m         \u001b[0mpopt\u001b[0m \u001b[1;33m=\u001b[0m \u001b[0mMinimizer\u001b[0m\u001b[1;33m(\u001b[0m\u001b[0msimpro\u001b[0m\u001b[1;33m,\u001b[0m \u001b[0mp\u001b[0m\u001b[1;33m,\u001b[0m \u001b[0mfcn_args\u001b[0m\u001b[1;33m=\u001b[0m\u001b[1;33m(\u001b[0m\u001b[0mtheta\u001b[0m\u001b[1;33m,\u001b[0m \u001b[0mpg\u001b[0m\u001b[1;33m,\u001b[0m \u001b[0mpgo\u001b[0m\u001b[1;33m,\u001b[0m \u001b[0mrt\u001b[0m\u001b[1;33m,\u001b[0m \u001b[0mntrials\u001b[0m\u001b[1;33m)\u001b[0m\u001b[1;33m,\u001b[0m \u001b[0mmethod\u001b[0m\u001b[1;33m=\u001b[0m\u001b[1;34m'Nelder-Mead'\u001b[0m\u001b[1;33m)\u001b[0m\u001b[1;33m\u001b[0m\u001b[0m\n\u001b[1;32m---> 39\u001b[1;33m         \u001b[0mpopt\u001b[0m\u001b[1;33m.\u001b[0m\u001b[0mfmin\u001b[0m\u001b[1;33m(\u001b[0m\u001b[0mmaxfun\u001b[0m\u001b[1;33m=\u001b[0m\u001b[1;36m1000\u001b[0m\u001b[1;33m,\u001b[0m \u001b[0mftol\u001b[0m\u001b[1;33m=\u001b[0m\u001b[1;36m5.e-2\u001b[0m\u001b[1;33m,\u001b[0m \u001b[0mxtol\u001b[0m\u001b[1;33m=\u001b[0m\u001b[1;36m1.e-2\u001b[0m\u001b[1;33m,\u001b[0m \u001b[0mfull_output\u001b[0m\u001b[1;33m=\u001b[0m\u001b[0mTrue\u001b[0m\u001b[1;33m,\u001b[0m \u001b[0mdisp\u001b[0m\u001b[1;33m=\u001b[0m\u001b[0mTrue\u001b[0m\u001b[1;33m)\u001b[0m\u001b[1;33m\u001b[0m\u001b[0m\n\u001b[0m\u001b[0;32m     40\u001b[0m \u001b[1;33m\u001b[0m\u001b[0m\n\u001b[0;32m     41\u001b[0m         \u001b[1;31m#store fit results\u001b[0m\u001b[1;33m\u001b[0m\u001b[1;33m\u001b[0m\u001b[0m\n",
        "\u001b[1;32m/home/kyle/anaconda/lib/python2.7/site-packages/lmfit/minimizer.pyc\u001b[0m in \u001b[0;36mfmin\u001b[1;34m(self, **kws)\u001b[0m\n\u001b[0;32m    347\u001b[0m \u001b[1;33m\u001b[0m\u001b[0m\n\u001b[0;32m    348\u001b[0m         \u001b[0mfmin_kws\u001b[0m\u001b[1;33m.\u001b[0m\u001b[0mupdate\u001b[0m\u001b[1;33m(\u001b[0m\u001b[0mkws\u001b[0m\u001b[1;33m)\u001b[0m\u001b[1;33m\u001b[0m\u001b[0m\n\u001b[1;32m--> 349\u001b[1;33m         \u001b[0mret\u001b[0m \u001b[1;33m=\u001b[0m \u001b[0mscipy_fmin\u001b[0m\u001b[1;33m(\u001b[0m\u001b[0mself\u001b[0m\u001b[1;33m.\u001b[0m\u001b[0mpenalty\u001b[0m\u001b[1;33m,\u001b[0m \u001b[0mself\u001b[0m\u001b[1;33m.\u001b[0m\u001b[0mvars\u001b[0m\u001b[1;33m,\u001b[0m \u001b[1;33m**\u001b[0m\u001b[0mfmin_kws\u001b[0m\u001b[1;33m)\u001b[0m\u001b[1;33m\u001b[0m\u001b[0m\n\u001b[0m\u001b[0;32m    350\u001b[0m         \u001b[0mxout\u001b[0m\u001b[1;33m,\u001b[0m \u001b[0mfout\u001b[0m\u001b[1;33m,\u001b[0m \u001b[0miter\u001b[0m\u001b[1;33m,\u001b[0m \u001b[0mfunccalls\u001b[0m\u001b[1;33m,\u001b[0m \u001b[0mwarnflag\u001b[0m\u001b[1;33m,\u001b[0m \u001b[0mallvecs\u001b[0m \u001b[1;33m=\u001b[0m \u001b[0mret\u001b[0m\u001b[1;33m\u001b[0m\u001b[0m\n\u001b[0;32m    351\u001b[0m         \u001b[0mself\u001b[0m\u001b[1;33m.\u001b[0m\u001b[0mnfev\u001b[0m \u001b[1;33m=\u001b[0m \u001b[0mfunccalls\u001b[0m\u001b[1;33m\u001b[0m\u001b[0m\n",
        "\u001b[1;32m/home/kyle/anaconda/lib/python2.7/site-packages/scipy/optimize/optimize.pyc\u001b[0m in \u001b[0;36mfmin\u001b[1;34m(func, x0, args, xtol, ftol, maxiter, maxfun, full_output, disp, retall, callback)\u001b[0m\n\u001b[0;32m    371\u001b[0m             'return_all': retall}\n\u001b[0;32m    372\u001b[0m \u001b[1;33m\u001b[0m\u001b[0m\n\u001b[1;32m--> 373\u001b[1;33m     \u001b[0mres\u001b[0m \u001b[1;33m=\u001b[0m \u001b[0m_minimize_neldermead\u001b[0m\u001b[1;33m(\u001b[0m\u001b[0mfunc\u001b[0m\u001b[1;33m,\u001b[0m \u001b[0mx0\u001b[0m\u001b[1;33m,\u001b[0m \u001b[0margs\u001b[0m\u001b[1;33m,\u001b[0m \u001b[0mcallback\u001b[0m\u001b[1;33m=\u001b[0m\u001b[0mcallback\u001b[0m\u001b[1;33m,\u001b[0m \u001b[1;33m**\u001b[0m\u001b[0mopts\u001b[0m\u001b[1;33m)\u001b[0m\u001b[1;33m\u001b[0m\u001b[0m\n\u001b[0m\u001b[0;32m    374\u001b[0m     \u001b[1;32mif\u001b[0m \u001b[0mfull_output\u001b[0m\u001b[1;33m:\u001b[0m\u001b[1;33m\u001b[0m\u001b[0m\n\u001b[0;32m    375\u001b[0m         \u001b[0mretlist\u001b[0m \u001b[1;33m=\u001b[0m \u001b[0mres\u001b[0m\u001b[1;33m[\u001b[0m\u001b[1;34m'x'\u001b[0m\u001b[1;33m]\u001b[0m\u001b[1;33m,\u001b[0m \u001b[0mres\u001b[0m\u001b[1;33m[\u001b[0m\u001b[1;34m'fun'\u001b[0m\u001b[1;33m]\u001b[0m\u001b[1;33m,\u001b[0m \u001b[0mres\u001b[0m\u001b[1;33m[\u001b[0m\u001b[1;34m'nit'\u001b[0m\u001b[1;33m]\u001b[0m\u001b[1;33m,\u001b[0m \u001b[0mres\u001b[0m\u001b[1;33m[\u001b[0m\u001b[1;34m'nfev'\u001b[0m\u001b[1;33m]\u001b[0m\u001b[1;33m,\u001b[0m \u001b[0mres\u001b[0m\u001b[1;33m[\u001b[0m\u001b[1;34m'status'\u001b[0m\u001b[1;33m]\u001b[0m\u001b[1;33m\u001b[0m\u001b[0m\n",
        "\u001b[1;32m/home/kyle/anaconda/lib/python2.7/site-packages/scipy/optimize/optimize.pyc\u001b[0m in \u001b[0;36m_minimize_neldermead\u001b[1;34m(func, x0, args, callback, xtol, ftol, maxiter, maxfev, disp, return_all, **unknown_options)\u001b[0m\n\u001b[0;32m    436\u001b[0m     \u001b[1;32mif\u001b[0m \u001b[0mretall\u001b[0m\u001b[1;33m:\u001b[0m\u001b[1;33m\u001b[0m\u001b[0m\n\u001b[0;32m    437\u001b[0m         \u001b[0mallvecs\u001b[0m \u001b[1;33m=\u001b[0m \u001b[1;33m[\u001b[0m\u001b[0msim\u001b[0m\u001b[1;33m[\u001b[0m\u001b[1;36m0\u001b[0m\u001b[1;33m]\u001b[0m\u001b[1;33m]\u001b[0m\u001b[1;33m\u001b[0m\u001b[0m\n\u001b[1;32m--> 438\u001b[1;33m     \u001b[0mfsim\u001b[0m\u001b[1;33m[\u001b[0m\u001b[1;36m0\u001b[0m\u001b[1;33m]\u001b[0m \u001b[1;33m=\u001b[0m \u001b[0mfunc\u001b[0m\u001b[1;33m(\u001b[0m\u001b[0mx0\u001b[0m\u001b[1;33m)\u001b[0m\u001b[1;33m\u001b[0m\u001b[0m\n\u001b[0m\u001b[0;32m    439\u001b[0m     \u001b[0mnonzdelt\u001b[0m \u001b[1;33m=\u001b[0m \u001b[1;36m0.05\u001b[0m\u001b[1;33m\u001b[0m\u001b[0m\n\u001b[0;32m    440\u001b[0m     \u001b[0mzdelt\u001b[0m \u001b[1;33m=\u001b[0m \u001b[1;36m0.00025\u001b[0m\u001b[1;33m\u001b[0m\u001b[0m\n",
        "\u001b[1;32m/home/kyle/anaconda/lib/python2.7/site-packages/scipy/optimize/optimize.pyc\u001b[0m in \u001b[0;36mfunction_wrapper\u001b[1;34m(*wrapper_args)\u001b[0m\n\u001b[0;32m    279\u001b[0m     \u001b[1;32mdef\u001b[0m \u001b[0mfunction_wrapper\u001b[0m\u001b[1;33m(\u001b[0m\u001b[1;33m*\u001b[0m\u001b[0mwrapper_args\u001b[0m\u001b[1;33m)\u001b[0m\u001b[1;33m:\u001b[0m\u001b[1;33m\u001b[0m\u001b[0m\n\u001b[0;32m    280\u001b[0m         \u001b[0mncalls\u001b[0m\u001b[1;33m[\u001b[0m\u001b[1;36m0\u001b[0m\u001b[1;33m]\u001b[0m \u001b[1;33m+=\u001b[0m \u001b[1;36m1\u001b[0m\u001b[1;33m\u001b[0m\u001b[0m\n\u001b[1;32m--> 281\u001b[1;33m         \u001b[1;32mreturn\u001b[0m \u001b[0mfunction\u001b[0m\u001b[1;33m(\u001b[0m\u001b[1;33m*\u001b[0m\u001b[1;33m(\u001b[0m\u001b[0mwrapper_args\u001b[0m \u001b[1;33m+\u001b[0m \u001b[0margs\u001b[0m\u001b[1;33m)\u001b[0m\u001b[1;33m)\u001b[0m\u001b[1;33m\u001b[0m\u001b[0m\n\u001b[0m\u001b[0;32m    282\u001b[0m \u001b[1;33m\u001b[0m\u001b[0m\n\u001b[0;32m    283\u001b[0m     \u001b[1;32mreturn\u001b[0m \u001b[0mncalls\u001b[0m\u001b[1;33m,\u001b[0m \u001b[0mfunction_wrapper\u001b[0m\u001b[1;33m\u001b[0m\u001b[0m\n",
        "\u001b[1;32m/home/kyle/anaconda/lib/python2.7/site-packages/lmfit/minimizer.pyc\u001b[0m in \u001b[0;36mpenalty\u001b[1;34m(self, params)\u001b[0m\n\u001b[0;32m    230\u001b[0m         \u001b[1;32mif\u001b[0m \u001b[0mresult\u001b[0m \u001b[1;32mis\u001b[0m \u001b[0man\u001b[0m \u001b[0marray\u001b[0m\u001b[1;33m,\u001b[0m \u001b[1;32mreturn\u001b[0m \u001b[0marray\u001b[0m \u001b[0msum\u001b[0m\u001b[1;33m-\u001b[0m\u001b[0mof\u001b[0m\u001b[1;33m-\u001b[0m\u001b[0msquares\u001b[0m\u001b[1;33m.\u001b[0m\u001b[1;33m\u001b[0m\u001b[0m\n\u001b[0;32m    231\u001b[0m         \"\"\"\n\u001b[1;32m--> 232\u001b[1;33m         \u001b[0mr\u001b[0m \u001b[1;33m=\u001b[0m \u001b[0mself\u001b[0m\u001b[1;33m.\u001b[0m\u001b[0m__residual\u001b[0m\u001b[1;33m(\u001b[0m\u001b[0mparams\u001b[0m\u001b[1;33m)\u001b[0m\u001b[1;33m\u001b[0m\u001b[0m\n\u001b[0m\u001b[0;32m    233\u001b[0m         \u001b[1;32mif\u001b[0m \u001b[0misinstance\u001b[0m\u001b[1;33m(\u001b[0m\u001b[0mr\u001b[0m\u001b[1;33m,\u001b[0m \u001b[0mndarray\u001b[0m\u001b[1;33m)\u001b[0m\u001b[1;33m:\u001b[0m\u001b[1;33m\u001b[0m\u001b[0m\n\u001b[0;32m    234\u001b[0m             \u001b[0mr\u001b[0m \u001b[1;33m=\u001b[0m \u001b[1;33m(\u001b[0m\u001b[0mr\u001b[0m\u001b[1;33m*\u001b[0m\u001b[0mr\u001b[0m\u001b[1;33m)\u001b[0m\u001b[1;33m.\u001b[0m\u001b[0msum\u001b[0m\u001b[1;33m(\u001b[0m\u001b[1;33m)\u001b[0m\u001b[1;33m\u001b[0m\u001b[0m\n",
        "\u001b[1;32m/home/kyle/anaconda/lib/python2.7/site-packages/lmfit/minimizer.pyc\u001b[0m in \u001b[0;36m__residual\u001b[1;34m(self, fvars)\u001b[0m\n\u001b[0;32m    188\u001b[0m \u001b[1;33m\u001b[0m\u001b[0m\n\u001b[0;32m    189\u001b[0m         \u001b[0mself\u001b[0m\u001b[1;33m.\u001b[0m\u001b[0mupdate_constraints\u001b[0m\u001b[1;33m(\u001b[0m\u001b[1;33m)\u001b[0m\u001b[1;33m\u001b[0m\u001b[0m\n\u001b[1;32m--> 190\u001b[1;33m         \u001b[0mout\u001b[0m \u001b[1;33m=\u001b[0m \u001b[0mself\u001b[0m\u001b[1;33m.\u001b[0m\u001b[0muserfcn\u001b[0m\u001b[1;33m(\u001b[0m\u001b[0mself\u001b[0m\u001b[1;33m.\u001b[0m\u001b[0mparams\u001b[0m\u001b[1;33m,\u001b[0m \u001b[1;33m*\u001b[0m\u001b[0mself\u001b[0m\u001b[1;33m.\u001b[0m\u001b[0muserargs\u001b[0m\u001b[1;33m,\u001b[0m \u001b[1;33m**\u001b[0m\u001b[0mself\u001b[0m\u001b[1;33m.\u001b[0m\u001b[0muserkws\u001b[0m\u001b[1;33m)\u001b[0m\u001b[1;33m\u001b[0m\u001b[0m\n\u001b[0m\u001b[0;32m    191\u001b[0m         \u001b[1;32mif\u001b[0m \u001b[0mhasattr\u001b[0m\u001b[1;33m(\u001b[0m\u001b[0mself\u001b[0m\u001b[1;33m.\u001b[0m\u001b[0miter_cb\u001b[0m\u001b[1;33m,\u001b[0m \u001b[1;34m'__call__'\u001b[0m\u001b[1;33m)\u001b[0m\u001b[1;33m:\u001b[0m\u001b[1;33m\u001b[0m\u001b[0m\n\u001b[0;32m    192\u001b[0m             self.iter_cb(self.params, self.nfev, out,\n",
        "\u001b[1;32m<ipython-input-82-3342144fd06a>\u001b[0m in \u001b[0;36msimpro\u001b[1;34m(p, theta, pgo, rt, mfx, ntrials, timebound)\u001b[0m\n\u001b[0;32m     13\u001b[0m \u001b[1;33m\u001b[0m\u001b[0m\n\u001b[0;32m     14\u001b[0m         sim_out = mfx(theta, depHyper=depHyper, \n\u001b[1;32m---> 15\u001b[1;33m             timebound=timebound, ttype=ttype)\n\u001b[0m\u001b[0;32m     16\u001b[0m \u001b[1;33m\u001b[0m\u001b[0m\n\u001b[0;32m     17\u001b[0m         \u001b[0mdf\u001b[0m\u001b[1;33m.\u001b[0m\u001b[0mloc\u001b[0m\u001b[1;33m[\u001b[0m\u001b[0mi\u001b[0m\u001b[1;33m]\u001b[0m\u001b[1;33m=\u001b[0m\u001b[0mpd\u001b[0m\u001b[1;33m.\u001b[0m\u001b[0mSeries\u001b[0m\u001b[1;33m(\u001b[0m\u001b[1;33m{\u001b[0m\u001b[0mc\u001b[0m\u001b[1;33m:\u001b[0m\u001b[0msim_out\u001b[0m\u001b[1;33m[\u001b[0m\u001b[0mc\u001b[0m\u001b[1;33m]\u001b[0m \u001b[1;32mfor\u001b[0m \u001b[0mc\u001b[0m \u001b[1;32min\u001b[0m \u001b[0mdf\u001b[0m\u001b[1;33m.\u001b[0m\u001b[0mcolumns\u001b[0m\u001b[1;33m}\u001b[0m\u001b[1;33m)\u001b[0m\u001b[1;33m\u001b[0m\u001b[0m\n",
        "\u001b[1;31mTypeError\u001b[0m: 'numpy.float64' object is not callable"
       ]
      }
     ],
     "prompt_number": 83
    },
    {
     "cell_type": "code",
     "collapsed": false,
     "input": [
      "def radd_fitpro(theta, timebound=0.653, ttype='go', depHyper=True, tau=.0005, **kwargs):\n",
      "\n",
      "    if 'si' not in theta.keys():\n",
      "        theta['si']=.01\n",
      "\n",
      "    if ttype=='stop':sstrial=1\n",
      "    else: sstrial=0\n",
      "\n",
      "    mu=theta['v']; tr=theta['t']; a=theta['a']; si=theta['si'];\n",
      "    z=theta['z']; ssv=theta['ssv']; ssd=theta['ssd'];\n",
      "\n",
      "\n",
      "    if tr>ssd and sstrial:\n",
      "        t=ssd\t# start the time at ssd\n",
      "    else:\t\t# or\n",
      "        t=tr\t # start the time at tr\n",
      "\n",
      "    ss_started=False\n",
      "    no_choice_yet=True\n",
      "    dx=np.sqrt(si*tau)  \t\t# dx is the step size up or down.\n",
      "    e=z\t\t     \t\t# starting point\n",
      "    e_ss=z\t\t\t\t#arbitrary (positive) init value\n",
      "\n",
      "    while no_choice_yet: \n",
      "        # increment the time\n",
      "        t += tau\n",
      "        if t>=timebound and no_choice_yet:\n",
      "            choice='stop'\n",
      "            rt=timebound\n",
      "            no_choice_yet=False\n",
      "\n",
      "        if t>=tr:\n",
      "            r=np.random.random_sample()\n",
      "            p=0.5*(1 + mu*dx/si)\n",
      "            if r < p:\n",
      "                e = e + dx\n",
      "            else:\n",
      "                e = e - dx\n",
      "            if e>=a and no_choice_yet:\n",
      "                choice='go'\n",
      "                rt=t\n",
      "                no_choice_yet=False\n",
      "        if sstrial and t>=ssd:\n",
      "\n",
      "            r_ss=np.random.random_sample()\n",
      "            p_ss=0.5*(1 + ssv*dx/si)\n",
      "            if not ss_started and depHyper:\n",
      "                ss_started=True\n",
      "                e_ss=e\n",
      "            else:\n",
      "                if r_ss < p_ss:\n",
      "                    e_ss = e_ss + dx\n",
      "                else:\n",
      "                    e_ss = e_ss - dx\n",
      "            if e_ss<=0 and no_choice_yet:\n",
      "                choice='stop'\n",
      "                rt=t\n",
      "                no_choice_yet=False\n",
      "    if choice==ttype: \n",
      "        acc=1.00\n",
      "    else: \n",
      "        acc=0.00\n",
      "    if choice=='go':\n",
      "        response=1\n",
      "    return {'rt':rt, 'choice':choice, 'trial_type':ttype,\n",
      "        'acc':acc, 'ssd':ssd, 'pGo':theta['pGo'], 'response':response}\n"
     ],
     "language": "python",
     "metadata": {},
     "outputs": [],
     "prompt_number": 80
    },
    {
     "cell_type": "code",
     "collapsed": false,
     "input": [
      "def simpro(p, theta, pgo, rt, mfx=radd_fitpro, ntrials=20000, timebound=0.655):\n",
      "\n",
      "\n",
      "    pStop=1-theta['pGo']\n",
      "    columns=['rt', 'choice', 'acc', 'trial_type', 'ssd', 'pGo', 'response']\n",
      "    df = pd.DataFrame(columns=columns, index=np.arange(0,ntrials))\n",
      "\n",
      "    for i in range(ntrials):\n",
      "\n",
      "        ttype='go'\n",
      "        if np.random.random_sample()<=pStop:\n",
      "            ttype='stop'\n",
      "\n",
      "        sim_out = mfx(theta, depHyper=depHyper, \n",
      "            timebound=timebound, ttype=ttype)\n",
      "\n",
      "        df.loc[i]=pd.Series({c:sim_out[c] for c in df.columns})\n",
      "    dfgo=df[df['choice']=='go']\n",
      "    \n",
      "    \n",
      "    return [df.response.mean().values-pgo, dfgo.rt.mean().values-rt]\n"
     ],
     "language": "python",
     "metadata": {},
     "outputs": [],
     "prompt_number": 82
    },
    {
     "cell_type": "code",
     "collapsed": false,
     "input": [
      "paramdf=pd.read_csv(utils.find_path()+\"OptAccRT/ReBSL_SxFits/OptAccRT_AllSxParams.csv\", index_col=0)\n",
      "pb=utils.PBinJ(len(paramdf)*len(pgo_list), color=\"#009B76\"); sx_n=0\n",
      "os.chdir(utils.find_path()+\"OptAccRT/ProBSL_InitHDDM_550/\")\n",
      "\n",
      "ntrials=1000; depHyper=True\n",
      "# init sx concat list\n",
      "sxpred_list=[]\n",
      "\n",
      "for sx in paramdf.index.unique():\n",
      "    if sx<59:continue\n",
      "    pstop_residuals=[]; stoperr=[]; rt_residuals=[]\n",
      "    rterr=[]; chi_list=[]; vlist=[]\n",
      "    \n",
      "    sx_n+=1  \n",
      "    \n",
      "    sxdf=bsl[bsl['subj_idx']==sx]\n",
      "    y=sxdf.groupby('pGo').mean()[['response', 'rt']]\n",
      "    sxtheta=paramdf.loc[sx].to_dict()\n",
      "    constants=paramdf.loc[sx].to_dict()\n",
      "    \n",
      "    del constants['v']\n",
      "    constants['ssd']=.450\n",
      "    \n",
      "    for pg, yi in y.iterrows():    \n",
      "\n",
      "        pb.update_i(sx_n)\n",
      "        sx_n +=1\n",
      "        \n",
      "        constants['pGo']=pg\n",
      "        \n",
      "        vID=\"v\"+str(int(pg*100))\n",
      "        p=Parameters()\n",
      "        p.add(vID, value=sxtheta['v'], min=0.0, vary=True)\n",
      "        \n",
      "        #Simplex Minimization\n",
      "        popt = Minimizer(xopt.sspro_accrt_minfunc, p, fcn_args=(constants, yi, ntrials), method='Nelder-Mead') \n",
      "        popt.fmin(maxfun=1000, ftol=5.e-2, xtol=1.e-2, full_output=True, disp=True)      \n",
      "        \n",
      "        #store fit results\n",
      "        chi_list.append(popt.chisqr)\n",
      "        vlist.append(p[vID].value)\n",
      "        stoperr.append(popt.residual[0])\n",
      "        rterr.append(popt.residual[1]*.1)   \n",
      "    \n",
      "    pb.update_i(sx_n)\n",
      "    \n",
      "    print \"-\"*100\n",
      "\n",
      "    sxpred=pd.DataFrame.from_dict({'subj_idx':[sx]*len(pgo_list),'pGo':pgo_list, 'v':vlist, \n",
      "            'pstop_data':y['response'].values, 'pstop_residuals':stoperr, 'rt_data':y['rt'].values, \n",
      "            'rt_residuals': rterr, 'chi':chi_list}, orient='columns')\n",
      "\n",
      "    sxpred.to_csv(\"sx\"+str(sx)+\"_pro_bsl_fits.csv\")"
     ],
     "language": "python",
     "metadata": {},
     "outputs": [
      {
       "html": [
        "\n",
        "\t    <div style=\"border: 1px solid black; width:500px\">\n",
        "\t    <div id=\"1017f9c9-94de-47c3-8bf5-9dfa1885c6f8\" style=\"background-color:#009B76; width:0%\">&nbsp;</div>\n",
        "\t    </div> \n",
        "\t    "
       ],
       "metadata": {},
       "output_type": "display_data",
       "text": [
        "<IPython.core.display.HTML at 0x7f2c6b8fa290>"
       ]
      },
      {
       "javascript": [
        "$('div#1017f9c9-94de-47c3-8bf5-9dfa1885c6f8').width('0.29%')"
       ],
       "metadata": {},
       "output_type": "display_data",
       "text": [
        "<IPython.core.display.Javascript at 0x7f2c6bad8d50>"
       ]
      },
      {
       "ename": "KeyError",
       "evalue": "'the label [0] is not in the [index]'",
       "output_type": "pyerr",
       "traceback": [
        "\u001b[1;31m---------------------------------------------------------------------------\u001b[0m\n\u001b[1;31mKeyError\u001b[0m                                  Traceback (most recent call last)",
        "\u001b[1;32m<ipython-input-43-e5359c6b88d5>\u001b[0m in \u001b[0;36m<module>\u001b[1;34m()\u001b[0m\n\u001b[0;32m     35\u001b[0m         \u001b[1;31m#Simplex Minimization\u001b[0m\u001b[1;33m\u001b[0m\u001b[1;33m\u001b[0m\u001b[0m\n\u001b[0;32m     36\u001b[0m         \u001b[0mpopt\u001b[0m \u001b[1;33m=\u001b[0m \u001b[0mMinimizer\u001b[0m\u001b[1;33m(\u001b[0m\u001b[0mxopt\u001b[0m\u001b[1;33m.\u001b[0m\u001b[0msspro_accrt_minfunc\u001b[0m\u001b[1;33m,\u001b[0m \u001b[0mp\u001b[0m\u001b[1;33m,\u001b[0m \u001b[0mfcn_args\u001b[0m\u001b[1;33m=\u001b[0m\u001b[1;33m(\u001b[0m\u001b[0mconstants\u001b[0m\u001b[1;33m,\u001b[0m \u001b[0myi\u001b[0m\u001b[1;33m,\u001b[0m \u001b[0mntrials\u001b[0m\u001b[1;33m)\u001b[0m\u001b[1;33m,\u001b[0m \u001b[0mmethod\u001b[0m\u001b[1;33m=\u001b[0m\u001b[1;34m'Nelder-Mead'\u001b[0m\u001b[1;33m)\u001b[0m\u001b[1;33m\u001b[0m\u001b[0m\n\u001b[1;32m---> 37\u001b[1;33m         \u001b[0mpopt\u001b[0m\u001b[1;33m.\u001b[0m\u001b[0mfmin\u001b[0m\u001b[1;33m(\u001b[0m\u001b[0mmaxfun\u001b[0m\u001b[1;33m=\u001b[0m\u001b[1;36m1000\u001b[0m\u001b[1;33m,\u001b[0m \u001b[0mftol\u001b[0m\u001b[1;33m=\u001b[0m\u001b[1;36m5.e-2\u001b[0m\u001b[1;33m,\u001b[0m \u001b[0mxtol\u001b[0m\u001b[1;33m=\u001b[0m\u001b[1;36m1.e-2\u001b[0m\u001b[1;33m,\u001b[0m \u001b[0mfull_output\u001b[0m\u001b[1;33m=\u001b[0m\u001b[0mTrue\u001b[0m\u001b[1;33m,\u001b[0m \u001b[0mdisp\u001b[0m\u001b[1;33m=\u001b[0m\u001b[0mTrue\u001b[0m\u001b[1;33m)\u001b[0m\u001b[1;33m\u001b[0m\u001b[0m\n\u001b[0m\u001b[0;32m     38\u001b[0m \u001b[1;33m\u001b[0m\u001b[0m\n\u001b[0;32m     39\u001b[0m         \u001b[1;31m#store fit results\u001b[0m\u001b[1;33m\u001b[0m\u001b[1;33m\u001b[0m\u001b[0m\n",
        "\u001b[1;32m/home/kyle/anaconda/lib/python2.7/site-packages/lmfit/minimizer.pyc\u001b[0m in \u001b[0;36mfmin\u001b[1;34m(self, **kws)\u001b[0m\n\u001b[0;32m    347\u001b[0m \u001b[1;33m\u001b[0m\u001b[0m\n\u001b[0;32m    348\u001b[0m         \u001b[0mfmin_kws\u001b[0m\u001b[1;33m.\u001b[0m\u001b[0mupdate\u001b[0m\u001b[1;33m(\u001b[0m\u001b[0mkws\u001b[0m\u001b[1;33m)\u001b[0m\u001b[1;33m\u001b[0m\u001b[0m\n\u001b[1;32m--> 349\u001b[1;33m         \u001b[0mret\u001b[0m \u001b[1;33m=\u001b[0m \u001b[0mscipy_fmin\u001b[0m\u001b[1;33m(\u001b[0m\u001b[0mself\u001b[0m\u001b[1;33m.\u001b[0m\u001b[0mpenalty\u001b[0m\u001b[1;33m,\u001b[0m \u001b[0mself\u001b[0m\u001b[1;33m.\u001b[0m\u001b[0mvars\u001b[0m\u001b[1;33m,\u001b[0m \u001b[1;33m**\u001b[0m\u001b[0mfmin_kws\u001b[0m\u001b[1;33m)\u001b[0m\u001b[1;33m\u001b[0m\u001b[0m\n\u001b[0m\u001b[0;32m    350\u001b[0m         \u001b[0mxout\u001b[0m\u001b[1;33m,\u001b[0m \u001b[0mfout\u001b[0m\u001b[1;33m,\u001b[0m \u001b[0miter\u001b[0m\u001b[1;33m,\u001b[0m \u001b[0mfunccalls\u001b[0m\u001b[1;33m,\u001b[0m \u001b[0mwarnflag\u001b[0m\u001b[1;33m,\u001b[0m \u001b[0mallvecs\u001b[0m \u001b[1;33m=\u001b[0m \u001b[0mret\u001b[0m\u001b[1;33m\u001b[0m\u001b[0m\n\u001b[0;32m    351\u001b[0m         \u001b[0mself\u001b[0m\u001b[1;33m.\u001b[0m\u001b[0mnfev\u001b[0m \u001b[1;33m=\u001b[0m \u001b[0mfunccalls\u001b[0m\u001b[1;33m\u001b[0m\u001b[0m\n",
        "\u001b[1;32m/home/kyle/anaconda/lib/python2.7/site-packages/scipy/optimize/optimize.pyc\u001b[0m in \u001b[0;36mfmin\u001b[1;34m(func, x0, args, xtol, ftol, maxiter, maxfun, full_output, disp, retall, callback)\u001b[0m\n\u001b[0;32m    371\u001b[0m             'return_all': retall}\n\u001b[0;32m    372\u001b[0m \u001b[1;33m\u001b[0m\u001b[0m\n\u001b[1;32m--> 373\u001b[1;33m     \u001b[0mres\u001b[0m \u001b[1;33m=\u001b[0m \u001b[0m_minimize_neldermead\u001b[0m\u001b[1;33m(\u001b[0m\u001b[0mfunc\u001b[0m\u001b[1;33m,\u001b[0m \u001b[0mx0\u001b[0m\u001b[1;33m,\u001b[0m \u001b[0margs\u001b[0m\u001b[1;33m,\u001b[0m \u001b[0mcallback\u001b[0m\u001b[1;33m=\u001b[0m\u001b[0mcallback\u001b[0m\u001b[1;33m,\u001b[0m \u001b[1;33m**\u001b[0m\u001b[0mopts\u001b[0m\u001b[1;33m)\u001b[0m\u001b[1;33m\u001b[0m\u001b[0m\n\u001b[0m\u001b[0;32m    374\u001b[0m     \u001b[1;32mif\u001b[0m \u001b[0mfull_output\u001b[0m\u001b[1;33m:\u001b[0m\u001b[1;33m\u001b[0m\u001b[0m\n\u001b[0;32m    375\u001b[0m         \u001b[0mretlist\u001b[0m \u001b[1;33m=\u001b[0m \u001b[0mres\u001b[0m\u001b[1;33m[\u001b[0m\u001b[1;34m'x'\u001b[0m\u001b[1;33m]\u001b[0m\u001b[1;33m,\u001b[0m \u001b[0mres\u001b[0m\u001b[1;33m[\u001b[0m\u001b[1;34m'fun'\u001b[0m\u001b[1;33m]\u001b[0m\u001b[1;33m,\u001b[0m \u001b[0mres\u001b[0m\u001b[1;33m[\u001b[0m\u001b[1;34m'nit'\u001b[0m\u001b[1;33m]\u001b[0m\u001b[1;33m,\u001b[0m \u001b[0mres\u001b[0m\u001b[1;33m[\u001b[0m\u001b[1;34m'nfev'\u001b[0m\u001b[1;33m]\u001b[0m\u001b[1;33m,\u001b[0m \u001b[0mres\u001b[0m\u001b[1;33m[\u001b[0m\u001b[1;34m'status'\u001b[0m\u001b[1;33m]\u001b[0m\u001b[1;33m\u001b[0m\u001b[0m\n",
        "\u001b[1;32m/home/kyle/anaconda/lib/python2.7/site-packages/scipy/optimize/optimize.pyc\u001b[0m in \u001b[0;36m_minimize_neldermead\u001b[1;34m(func, x0, args, callback, xtol, ftol, maxiter, maxfev, disp, return_all, **unknown_options)\u001b[0m\n\u001b[0;32m    436\u001b[0m     \u001b[1;32mif\u001b[0m \u001b[0mretall\u001b[0m\u001b[1;33m:\u001b[0m\u001b[1;33m\u001b[0m\u001b[0m\n\u001b[0;32m    437\u001b[0m         \u001b[0mallvecs\u001b[0m \u001b[1;33m=\u001b[0m \u001b[1;33m[\u001b[0m\u001b[0msim\u001b[0m\u001b[1;33m[\u001b[0m\u001b[1;36m0\u001b[0m\u001b[1;33m]\u001b[0m\u001b[1;33m]\u001b[0m\u001b[1;33m\u001b[0m\u001b[0m\n\u001b[1;32m--> 438\u001b[1;33m     \u001b[0mfsim\u001b[0m\u001b[1;33m[\u001b[0m\u001b[1;36m0\u001b[0m\u001b[1;33m]\u001b[0m \u001b[1;33m=\u001b[0m \u001b[0mfunc\u001b[0m\u001b[1;33m(\u001b[0m\u001b[0mx0\u001b[0m\u001b[1;33m)\u001b[0m\u001b[1;33m\u001b[0m\u001b[0m\n\u001b[0m\u001b[0;32m    439\u001b[0m     \u001b[0mnonzdelt\u001b[0m \u001b[1;33m=\u001b[0m \u001b[1;36m0.05\u001b[0m\u001b[1;33m\u001b[0m\u001b[0m\n\u001b[0;32m    440\u001b[0m     \u001b[0mzdelt\u001b[0m \u001b[1;33m=\u001b[0m \u001b[1;36m0.00025\u001b[0m\u001b[1;33m\u001b[0m\u001b[0m\n",
        "\u001b[1;32m/home/kyle/anaconda/lib/python2.7/site-packages/scipy/optimize/optimize.pyc\u001b[0m in \u001b[0;36mfunction_wrapper\u001b[1;34m(*wrapper_args)\u001b[0m\n\u001b[0;32m    279\u001b[0m     \u001b[1;32mdef\u001b[0m \u001b[0mfunction_wrapper\u001b[0m\u001b[1;33m(\u001b[0m\u001b[1;33m*\u001b[0m\u001b[0mwrapper_args\u001b[0m\u001b[1;33m)\u001b[0m\u001b[1;33m:\u001b[0m\u001b[1;33m\u001b[0m\u001b[0m\n\u001b[0;32m    280\u001b[0m         \u001b[0mncalls\u001b[0m\u001b[1;33m[\u001b[0m\u001b[1;36m0\u001b[0m\u001b[1;33m]\u001b[0m \u001b[1;33m+=\u001b[0m \u001b[1;36m1\u001b[0m\u001b[1;33m\u001b[0m\u001b[0m\n\u001b[1;32m--> 281\u001b[1;33m         \u001b[1;32mreturn\u001b[0m \u001b[0mfunction\u001b[0m\u001b[1;33m(\u001b[0m\u001b[1;33m*\u001b[0m\u001b[1;33m(\u001b[0m\u001b[0mwrapper_args\u001b[0m \u001b[1;33m+\u001b[0m \u001b[0margs\u001b[0m\u001b[1;33m)\u001b[0m\u001b[1;33m)\u001b[0m\u001b[1;33m\u001b[0m\u001b[0m\n\u001b[0m\u001b[0;32m    282\u001b[0m \u001b[1;33m\u001b[0m\u001b[0m\n\u001b[0;32m    283\u001b[0m     \u001b[1;32mreturn\u001b[0m \u001b[0mncalls\u001b[0m\u001b[1;33m,\u001b[0m \u001b[0mfunction_wrapper\u001b[0m\u001b[1;33m\u001b[0m\u001b[0m\n",
        "\u001b[1;32m/home/kyle/anaconda/lib/python2.7/site-packages/lmfit/minimizer.pyc\u001b[0m in \u001b[0;36mpenalty\u001b[1;34m(self, params)\u001b[0m\n\u001b[0;32m    230\u001b[0m         \u001b[1;32mif\u001b[0m \u001b[0mresult\u001b[0m \u001b[1;32mis\u001b[0m \u001b[0man\u001b[0m \u001b[0marray\u001b[0m\u001b[1;33m,\u001b[0m \u001b[1;32mreturn\u001b[0m \u001b[0marray\u001b[0m \u001b[0msum\u001b[0m\u001b[1;33m-\u001b[0m\u001b[0mof\u001b[0m\u001b[1;33m-\u001b[0m\u001b[0msquares\u001b[0m\u001b[1;33m.\u001b[0m\u001b[1;33m\u001b[0m\u001b[0m\n\u001b[0;32m    231\u001b[0m         \"\"\"\n\u001b[1;32m--> 232\u001b[1;33m         \u001b[0mr\u001b[0m \u001b[1;33m=\u001b[0m \u001b[0mself\u001b[0m\u001b[1;33m.\u001b[0m\u001b[0m__residual\u001b[0m\u001b[1;33m(\u001b[0m\u001b[0mparams\u001b[0m\u001b[1;33m)\u001b[0m\u001b[1;33m\u001b[0m\u001b[0m\n\u001b[0m\u001b[0;32m    233\u001b[0m         \u001b[1;32mif\u001b[0m \u001b[0misinstance\u001b[0m\u001b[1;33m(\u001b[0m\u001b[0mr\u001b[0m\u001b[1;33m,\u001b[0m \u001b[0mndarray\u001b[0m\u001b[1;33m)\u001b[0m\u001b[1;33m:\u001b[0m\u001b[1;33m\u001b[0m\u001b[0m\n\u001b[0;32m    234\u001b[0m             \u001b[0mr\u001b[0m \u001b[1;33m=\u001b[0m \u001b[1;33m(\u001b[0m\u001b[0mr\u001b[0m\u001b[1;33m*\u001b[0m\u001b[0mr\u001b[0m\u001b[1;33m)\u001b[0m\u001b[1;33m.\u001b[0m\u001b[0msum\u001b[0m\u001b[1;33m(\u001b[0m\u001b[1;33m)\u001b[0m\u001b[1;33m\u001b[0m\u001b[0m\n",
        "\u001b[1;32m/home/kyle/anaconda/lib/python2.7/site-packages/lmfit/minimizer.pyc\u001b[0m in \u001b[0;36m__residual\u001b[1;34m(self, fvars)\u001b[0m\n\u001b[0;32m    188\u001b[0m \u001b[1;33m\u001b[0m\u001b[0m\n\u001b[0;32m    189\u001b[0m         \u001b[0mself\u001b[0m\u001b[1;33m.\u001b[0m\u001b[0mupdate_constraints\u001b[0m\u001b[1;33m(\u001b[0m\u001b[1;33m)\u001b[0m\u001b[1;33m\u001b[0m\u001b[0m\n\u001b[1;32m--> 190\u001b[1;33m         \u001b[0mout\u001b[0m \u001b[1;33m=\u001b[0m \u001b[0mself\u001b[0m\u001b[1;33m.\u001b[0m\u001b[0muserfcn\u001b[0m\u001b[1;33m(\u001b[0m\u001b[0mself\u001b[0m\u001b[1;33m.\u001b[0m\u001b[0mparams\u001b[0m\u001b[1;33m,\u001b[0m \u001b[1;33m*\u001b[0m\u001b[0mself\u001b[0m\u001b[1;33m.\u001b[0m\u001b[0muserargs\u001b[0m\u001b[1;33m,\u001b[0m \u001b[1;33m**\u001b[0m\u001b[0mself\u001b[0m\u001b[1;33m.\u001b[0m\u001b[0muserkws\u001b[0m\u001b[1;33m)\u001b[0m\u001b[1;33m\u001b[0m\u001b[0m\n\u001b[0m\u001b[0;32m    191\u001b[0m         \u001b[1;32mif\u001b[0m \u001b[0mhasattr\u001b[0m\u001b[1;33m(\u001b[0m\u001b[0mself\u001b[0m\u001b[1;33m.\u001b[0m\u001b[0miter_cb\u001b[0m\u001b[1;33m,\u001b[0m \u001b[1;34m'__call__'\u001b[0m\u001b[1;33m)\u001b[0m\u001b[1;33m:\u001b[0m\u001b[1;33m\u001b[0m\u001b[0m\n\u001b[0;32m    192\u001b[0m             self.iter_cb(self.params, self.nfev, out,\n",
        "\u001b[1;32m/home/kyle/Dropbox/Git/radd/xopt.pyc\u001b[0m in \u001b[0;36msspro_accrt_minfunc\u001b[1;34m(p, theta, ydata, ntrials, fitting, depHyper)\u001b[0m\n\u001b[0;32m     98\u001b[0m         \u001b[1;31m#residuals have appropriate sig digits\u001b[0m\u001b[1;33m\u001b[0m\u001b[1;33m\u001b[0m\u001b[0m\n\u001b[0;32m     99\u001b[0m         \u001b[0mrtdata\u001b[0m \u001b[1;33m=\u001b[0m \u001b[0mydata\u001b[0m\u001b[1;33m[\u001b[0m\u001b[1;34m'rt'\u001b[0m\u001b[1;33m]\u001b[0m\u001b[1;33m*\u001b[0m\u001b[1;36m10\u001b[0m\u001b[1;33m\u001b[0m\u001b[0m\n\u001b[1;32m--> 100\u001b[1;33m         \u001b[0mrtradd\u001b[0m \u001b[1;33m=\u001b[0m \u001b[0mout\u001b[0m\u001b[1;33m[\u001b[0m\u001b[1;34m'rt'\u001b[0m\u001b[1;33m]\u001b[0m\u001b[1;33m*\u001b[0m\u001b[1;36m10\u001b[0m\u001b[1;33m\u001b[0m\u001b[0m\n\u001b[0m\u001b[0;32m    101\u001b[0m \u001b[1;33m\u001b[0m\u001b[0m\n\u001b[0;32m    102\u001b[0m         \u001b[0mpstop_data\u001b[0m \u001b[1;33m=\u001b[0m \u001b[0mydata\u001b[0m\u001b[1;33m[\u001b[0m\u001b[1;34m'response'\u001b[0m\u001b[1;33m]\u001b[0m\u001b[1;33m\u001b[0m\u001b[0m\n",
        "\u001b[1;32m/home/kyle/anaconda/lib/python2.7/site-packages/pandas/core/indexing.pyc\u001b[0m in \u001b[0;36m__getitem__\u001b[1;34m(self, key)\u001b[0m\n\u001b[0;32m   1140\u001b[0m     \u001b[1;32mdef\u001b[0m \u001b[0m__getitem__\u001b[0m\u001b[1;33m(\u001b[0m\u001b[0mself\u001b[0m\u001b[1;33m,\u001b[0m \u001b[0mkey\u001b[0m\u001b[1;33m)\u001b[0m\u001b[1;33m:\u001b[0m\u001b[1;33m\u001b[0m\u001b[0m\n\u001b[0;32m   1141\u001b[0m         \u001b[1;32mif\u001b[0m \u001b[0mtype\u001b[0m\u001b[1;33m(\u001b[0m\u001b[0mkey\u001b[0m\u001b[1;33m)\u001b[0m \u001b[1;32mis\u001b[0m \u001b[0mtuple\u001b[0m\u001b[1;33m:\u001b[0m\u001b[1;33m\u001b[0m\u001b[0m\n\u001b[1;32m-> 1142\u001b[1;33m             \u001b[1;32mreturn\u001b[0m \u001b[0mself\u001b[0m\u001b[1;33m.\u001b[0m\u001b[0m_getitem_tuple\u001b[0m\u001b[1;33m(\u001b[0m\u001b[0mkey\u001b[0m\u001b[1;33m)\u001b[0m\u001b[1;33m\u001b[0m\u001b[0m\n\u001b[0m\u001b[0;32m   1143\u001b[0m         \u001b[1;32melse\u001b[0m\u001b[1;33m:\u001b[0m\u001b[1;33m\u001b[0m\u001b[0m\n\u001b[0;32m   1144\u001b[0m             \u001b[1;32mreturn\u001b[0m \u001b[0mself\u001b[0m\u001b[1;33m.\u001b[0m\u001b[0m_getitem_axis\u001b[0m\u001b[1;33m(\u001b[0m\u001b[0mkey\u001b[0m\u001b[1;33m,\u001b[0m \u001b[0maxis\u001b[0m\u001b[1;33m=\u001b[0m\u001b[1;36m0\u001b[0m\u001b[1;33m)\u001b[0m\u001b[1;33m\u001b[0m\u001b[0m\n",
        "\u001b[1;32m/home/kyle/anaconda/lib/python2.7/site-packages/pandas/core/indexing.pyc\u001b[0m in \u001b[0;36m_getitem_tuple\u001b[1;34m(self, tup)\u001b[0m\n\u001b[0;32m    658\u001b[0m \u001b[1;33m\u001b[0m\u001b[0m\n\u001b[0;32m    659\u001b[0m         \u001b[1;31m# no multi-index, so validate all of the indexers\u001b[0m\u001b[1;33m\u001b[0m\u001b[1;33m\u001b[0m\u001b[0m\n\u001b[1;32m--> 660\u001b[1;33m         \u001b[0mself\u001b[0m\u001b[1;33m.\u001b[0m\u001b[0m_has_valid_tuple\u001b[0m\u001b[1;33m(\u001b[0m\u001b[0mtup\u001b[0m\u001b[1;33m)\u001b[0m\u001b[1;33m\u001b[0m\u001b[0m\n\u001b[0m\u001b[0;32m    661\u001b[0m \u001b[1;33m\u001b[0m\u001b[0m\n\u001b[0;32m    662\u001b[0m         \u001b[1;31m# ugly hack for GH #836\u001b[0m\u001b[1;33m\u001b[0m\u001b[1;33m\u001b[0m\u001b[0m\n",
        "\u001b[1;32m/home/kyle/anaconda/lib/python2.7/site-packages/pandas/core/indexing.pyc\u001b[0m in \u001b[0;36m_has_valid_tuple\u001b[1;34m(self, key)\u001b[0m\n\u001b[0;32m    128\u001b[0m             \u001b[1;32mif\u001b[0m \u001b[0mi\u001b[0m \u001b[1;33m>=\u001b[0m \u001b[0mself\u001b[0m\u001b[1;33m.\u001b[0m\u001b[0mobj\u001b[0m\u001b[1;33m.\u001b[0m\u001b[0mndim\u001b[0m\u001b[1;33m:\u001b[0m\u001b[1;33m\u001b[0m\u001b[0m\n\u001b[0;32m    129\u001b[0m                 \u001b[1;32mraise\u001b[0m \u001b[0mIndexingError\u001b[0m\u001b[1;33m(\u001b[0m\u001b[1;34m'Too many indexers'\u001b[0m\u001b[1;33m)\u001b[0m\u001b[1;33m\u001b[0m\u001b[0m\n\u001b[1;32m--> 130\u001b[1;33m             \u001b[1;32mif\u001b[0m \u001b[1;32mnot\u001b[0m \u001b[0mself\u001b[0m\u001b[1;33m.\u001b[0m\u001b[0m_has_valid_type\u001b[0m\u001b[1;33m(\u001b[0m\u001b[0mk\u001b[0m\u001b[1;33m,\u001b[0m \u001b[0mi\u001b[0m\u001b[1;33m)\u001b[0m\u001b[1;33m:\u001b[0m\u001b[1;33m\u001b[0m\u001b[0m\n\u001b[0m\u001b[0;32m    131\u001b[0m                 raise ValueError(\"Location based indexing can only have [%s] \"\n\u001b[0;32m    132\u001b[0m                                  \"types\" % self._valid_types)\n",
        "\u001b[1;32m/home/kyle/anaconda/lib/python2.7/site-packages/pandas/core/indexing.pyc\u001b[0m in \u001b[0;36m_has_valid_type\u001b[1;34m(self, key, axis)\u001b[0m\n\u001b[0;32m   1247\u001b[0m                 \u001b[1;32mraise\u001b[0m\u001b[1;33m\u001b[0m\u001b[0m\n\u001b[0;32m   1248\u001b[0m             \u001b[1;32mexcept\u001b[0m\u001b[1;33m:\u001b[0m\u001b[1;33m\u001b[0m\u001b[0m\n\u001b[1;32m-> 1249\u001b[1;33m                 \u001b[0merror\u001b[0m\u001b[1;33m(\u001b[0m\u001b[1;33m)\u001b[0m\u001b[1;33m\u001b[0m\u001b[0m\n\u001b[0m\u001b[0;32m   1250\u001b[0m \u001b[1;33m\u001b[0m\u001b[0m\n\u001b[0;32m   1251\u001b[0m         \u001b[1;32mreturn\u001b[0m \u001b[0mTrue\u001b[0m\u001b[1;33m\u001b[0m\u001b[0m\n",
        "\u001b[1;32m/home/kyle/anaconda/lib/python2.7/site-packages/pandas/core/indexing.pyc\u001b[0m in \u001b[0;36merror\u001b[1;34m()\u001b[0m\n\u001b[0;32m   1234\u001b[0m                         \"cannot use label indexing with a null key\")\n\u001b[0;32m   1235\u001b[0m                 raise KeyError(\"the label [%s] is not in the [%s]\" %\n\u001b[1;32m-> 1236\u001b[1;33m                                (key, self.obj._get_axis_name(axis)))\n\u001b[0m\u001b[0;32m   1237\u001b[0m \u001b[1;33m\u001b[0m\u001b[0m\n\u001b[0;32m   1238\u001b[0m             \u001b[1;32mtry\u001b[0m\u001b[1;33m:\u001b[0m\u001b[1;33m\u001b[0m\u001b[0m\n",
        "\u001b[1;31mKeyError\u001b[0m: 'the label [0] is not in the [index]'"
       ]
      }
     ],
     "prompt_number": 43
    },
    {
     "cell_type": "code",
     "collapsed": false,
     "input": [
      "\n",
      "def proactive_scipy_optimize(data, paramsdf, nsims=1000):\n",
      "\n",
      "    # get list of subjects in \n",
      "    # the passed parameter df\n",
      "    allsx=paramsdf.index.unique()\n",
      "    # init progressbar\n",
      "    pb=utils.PBinJ(len(allsx), color=\"#4168B7\"); sx_n=0\n",
      "\n",
      "    sxdict={}\n",
      "\n",
      "    for sx, theta in paramsdf.iterrows():\n",
      "\n",
      "        sx_n +=1\n",
      "        # init sx lists\n",
      "        param_ids=[]\n",
      "        param_vals=[]\n",
      "\n",
      "        #slice subject date for current sx\n",
      "        sxrts=data[data['subj_idx']==sx]['rt']\n",
      "        ydata=mquantiles(sxrts.values, prob=quant_list)\n",
      "        \n",
      "        p=theta['v']\n",
      "        \n",
      "        popt = minimize(simfx.radd_fitfx, p, args=(theta, nsims, ydata), \n",
      "                        method='Nelder-Mead', options={'ftol':1.e-2, 'xtol':1.e-2}) \n",
      "\n",
      "        pb.update_i(sx_n)\n",
      "\n",
      "        sxdict[sx]=popt\n",
      "\n",
      "    return sxdict"
     ],
     "language": "python",
     "metadata": {},
     "outputs": []
    },
    {
     "cell_type": "code",
     "collapsed": false,
     "input": [
      "# append prediction df's in a\n",
      "# list (concatenated below)\n",
      "sxpred_list.append(sxpred)\n",
      "\n",
      "allsx_pred=pd.concat(sxpred_list)\n",
      "\n",
      "# make a save string with the range of subject ID's \n",
      "savestr=\"PredictSx_ProBSL.csv\"\n",
      "allsx_pred.to_csv(savestr, index=False)"
     ],
     "language": "python",
     "metadata": {},
     "outputs": []
    },
    {
     "cell_type": "heading",
     "level": 3,
     "metadata": {},
     "source": [
      "Read in Fit and Prediction Summaries for Each Subject and Concatenate"
     ]
    },
    {
     "cell_type": "code",
     "collapsed": false,
     "input": [
      "sxl=list()\n",
      "for sx in paramdf.index.unique():\n",
      "    try:\n",
      "        sxl.append(pd.read_csv(pth+\"OptAccRT/SxFits/OptAccRT_Sx\"+str(sx)+\".csv\", index_col=0))\n",
      "    except:\n",
      "        pass\n",
      "df=pd.concat(sxl)"
     ],
     "language": "python",
     "metadata": {},
     "outputs": [],
     "prompt_number": 18
    },
    {
     "cell_type": "heading",
     "level": 3,
     "metadata": {},
     "source": [
      "Save Concatenated Sx-Fits-Predictions DataFrame to File"
     ]
    },
    {
     "cell_type": "code",
     "collapsed": false,
     "input": [
      "df.to_csv(pth+\"OptAccRT/SxFits/RePNL_AllSx_OptAccRT.csv\")"
     ],
     "language": "python",
     "metadata": {},
     "outputs": []
    },
    {
     "cell_type": "code",
     "collapsed": false,
     "input": [
      "       if not hasattr(y, 'insert'):\n",
      "\n",
      "            pstop_residuals.append(popt.residual)\n",
      "            pstop_radd.append(pstop+popt.residual)\n",
      "            \n",
      "            rt_residuals.append(\"na\")\n",
      "            rt_radd.append(\"na\")\n",
      "            \n",
      "        else:\n",
      "            \n",
      "            pstop_residuals.append(popt.residual[0])\n",
      "            pstop_radd.append(pstop+popt.residual[0])\n",
      "            \n",
      "            rtscaled=rt_data[i]*10\n",
      "            rt_pred=(rtscaled+popt.residual[1])/10\n",
      "            rt_residuals.append(popt.residual[1])\n",
      "            rt_radd.append(rt_pred)        \n",
      "    "
     ],
     "language": "python",
     "metadata": {},
     "outputs": []
    },
    {
     "cell_type": "heading",
     "level": 3,
     "metadata": {},
     "source": [
      "Calculate Summary Stop Acc & RT Values"
     ]
    },
    {
     "cell_type": "code",
     "collapsed": false,
     "input": [
      "avg=df.groupby('ssdlist').mean()\n",
      "sem=df.groupby('ssdlist').sem()\n",
      "\n",
      "avg=df.groupby('ssdlist').mean()\n",
      "yd=avg['ydata'][:-1]\n",
      "yh=avg['yhat'][:-1]\n",
      "rtd=avg['ydata'][-1]\n",
      "rth=avg['yhat'][-1]\n",
      "\n",
      "sns.palplot(sparams['colors'])"
     ],
     "language": "python",
     "metadata": {},
     "outputs": [
      {
       "metadata": {},
       "output_type": "display_data",
       "png": "[encoded data removed]",
       "text": [
        "<matplotlib.figure.Figure at 0x7f7b58439ed0>"
       ]
      }
     ],
     "prompt_number": 47
    },
    {
     "cell_type": "heading",
     "level": 3,
     "metadata": {},
     "source": [
      "Plot Observed/Predicted Stop Curves/RT "
     ]
    },
    {
     "cell_type": "code",
     "collapsed": false,
     "input": [
      "import seaborn as sns\n",
      "psy=reload(psy)\n",
      "utils=reload(utils)\n",
      "\n",
      "sparams=utils.style_params()\n",
      "colors=sparams['colors']\n",
      "sns.set_style('ticks', rc=sparams['style'])\n",
      "sns.set_context('paper', rc=sparams['context'])\n",
      "\n",
      "stopmeans=[yd[::-1], yh[::-1]]\n",
      "stoperr=[sem['ydata'][:-1][::-1]*2, sem['yhat'][:-1][::-1]*2]\n",
      "\n",
      "ax=psy.scurves(ysim=stopmeans, yerr=stoperr, title='SingleSx_OptAccRT_Final_+-2SEM.png', \n",
      "               colors=[colors[-8], colors[-1]], labels=['Data', 'RADD'])"
     ],
     "language": "python",
     "metadata": {},
     "outputs": []
    },
    {
     "cell_type": "code",
     "collapsed": false,
     "input": [
      "#plot rt\n",
      "ff, axx=plt.subplots(1, figsize=(5, 6.5))\n",
      "\n",
      "axx.bar(0, rtd, yerr=sem['ydata'][-1], color=colors[-8], error_kw={\"elinewidth\":3, \"capthick\":2.5, \n",
      "        \"capsize\":3, \"ecolor\":'k'}, alpha=.9,align='center', label='Data')\n",
      "\n",
      "axx.errorbar(0, rth, yerr=sem['yhat'][-1], marker='o', markersize=15, \n",
      "             elinewidth=2, ecolor=colors[-1], color=colors[-1], alpha=.8, label='RADD')   \n",
      "\n",
      "plt.setp(axx, xlim=(-.7, .7), ylim=(.5, .6), ylabel='RT (s)', xticks=[], xticklabels=[], xlabel='ssRe BSL')\n",
      "axx.set_xlabel('Baseline', fontsize=19)\n",
      "plt.setp(axx.get_yticklabels(), fontsize=17)\n",
      "axx.set_ylabel('RT (s)', fontsize=19, labelpad=8) \n",
      "axx.legend(loc=0, fontsize=17)\n",
      "sns.despine()\n",
      "plt.tight_layout()\n",
      "ff.savefig(pth+\"SingleSxReBSL_OptRT_Final.png\", dpi=600)    "
     ],
     "language": "python",
     "metadata": {},
     "outputs": []
    },
    {
     "cell_type": "code",
     "collapsed": false,
     "input": [
      "pth=utils.find_path()\n",
      "pro=pd.read_csv(pth+\"Proactive/SS_v2p3_fullsummary.dat\", sep=\"\\t\")\n",
      "pro['RT_sec']=pro['RT'].copy()*.001\n",
      "pro=pro.rename(columns={'RT':'rt_msec', 'RT_sec':'rt', 'Keypress':'response'}, axis=1)\n",
      "\n",
      "pro.ix[pro['Cond']==1, 'Cond']='bsl'\n",
      "pro.ix[pro['Cond']==2, 'Cond']='pnl'\n",
      "pro_df=pro.copy()\n",
      "\n",
      "#pro_df=pro_df.query(\"rt < .550\")\n",
      "\n",
      "pro_sx=pro_df['SubID']\n",
      "pro_df['subj_idx']=[int(subj[1:]) for subj in pro_sx]\n",
      "\n",
      "pro_df['pGo']=1-pro_df['StopProb']\n",
      "pro_df['HiLo']=['x']*len(pro_df)\n",
      "pro_df['HML']=['x']*len(pro_df)\n",
      "pro_df['choice']=['x']*len(pro_df)\n",
      "\n",
      "pro_df.ix[(pro_df['response']==1), 'choice']='go'\n",
      "pro_df.ix[(pro_df['response']==0), 'choice']='stop'\n",
      "\n",
      "pro_df.ix[(pro_df['StopProb']==0.0)|(pro_df['StopProb']==0.2)|(pro_df['StopProb']==0.4), 'HiLo']='aHi'\n",
      "pro_df.ix[(pro_df['StopProb']==0.6)|(pro_df['StopProb']==0.8)|(pro_df['StopProb']==1.0), 'HiLo']='bLo'\n",
      "\n",
      "pro_df.ix[(pro_df['StopProb']==0.0)|(pro_df['StopProb']==0.2), 'HML']='bHi'\n",
      "pro_df.ix[(pro_df['StopProb']==0.4)|(pro_df['StopProb']==0.6), 'HML']='bMed'\n",
      "pro_df.ix[(pro_df['StopProb']==0.8)|(pro_df['StopProb']==1.0), 'HML']='cLo'\n",
      "\n",
      "pro_df=pro_df[['subj_idx', 'pGo', 'HiLo', 'HML', 'Cond', 'response', 'choice', 'rt']]\n",
      "bsl_df=pro_df.query('Cond==\"bsl\"')\n",
      "pnl_df=pro_df.query('Cond==\"pnl\"')\n",
      "pro_df.to_csv(pth+\"Proactive/Pro_AllData.csv\", index=False)"
     ],
     "language": "python",
     "metadata": {},
     "outputs": [],
     "prompt_number": 24
    }
   ],
   "metadata": {}
  }
 ]
}