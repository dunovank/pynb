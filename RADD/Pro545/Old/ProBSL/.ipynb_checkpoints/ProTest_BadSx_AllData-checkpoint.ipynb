{
 "metadata": {
  "name": "",
  "signature": "sha256:4b51bbd980f33b0fd3b3f16f3e66a80141599628416dc7ec13ec475033f487b4"
 },
 "nbformat": 3,
 "nbformat_minor": 0,
 "worksheets": [
  {
   "cells": [
    {
     "cell_type": "code",
     "collapsed": false,
     "input": [
      "from __future__ import division\n",
      "import pandas as pd\n",
      "from radd import utils, xopt, psy, ss, simfx\n",
      "from lmfit import Parameters, Minimizer\n",
      "import seaborn as sns\n",
      "import os\n",
      "from collections import OrderedDict\n"
     ],
     "language": "python",
     "metadata": {},
     "outputs": [],
     "prompt_number": 1
    },
    {
     "cell_type": "code",
     "collapsed": false,
     "input": [
      "pth=utils.find_path()\n",
      "#no rt cutoff applied\n",
      "pro_bsl=pd.read_csv(pth+\"DataFiles/Pro_AllData.csv\", index_col=0)\n",
      "\n",
      "#cutoff all at .550\n",
      "#pro_bsl=pd.read_csv(pth+\"DataFiles/ProBSL_Data.csv\", index_col=0)\n",
      "bsl=pro_bsl.copy()\n",
      "bsl['pGo']=bsl['pGo']*100*.01\n",
      "bsl['pGo'].unique()\n",
      "print bsl[bsl['choice']=='go'].rt.max()\n"
     ],
     "language": "python",
     "metadata": {},
     "outputs": [
      {
       "output_type": "stream",
       "stream": "stdout",
       "text": [
        "0.5599846\n"
       ]
      }
     ],
     "prompt_number": 2
    },
    {
     "cell_type": "code",
     "collapsed": false,
     "input": [
      "utils=reload(utils); ss=reload(ss)\n",
      "pth=utils.find_path()\n",
      "# all original data - no rt cutoff (timebound=.560)\n",
      "prodf=pd.read_csv(pth+\"DataFiles/Pro_AllData.csv\", index_col=0)\n",
      "\n",
      "# cutoff at .550\n",
      "pro550=pd.read_csv(pth+\"DataFiles/Pro_Data.csv\", index_col=0)\n",
      "\n",
      "# cutoff at .545\n",
      "pro545=utils.trunc_df(prodf)\n",
      "\n",
      "# load params\n",
      "paramdf=pd.read_csv(pth+\"ParamFiles/ProBSL_HDDM_Params.csv\", index_col='subj_idx')\n",
      "backup_params=pd.read_csv(pth+\"ParamFiles/ReBSL_HDDM_Params.csv\", index_col='subj_idx')\n",
      "allgorts=utils.sxrt_pivot(prodf)\n",
      "cutgorts=utils.sxrt_pivot(pro545)\n",
      "prodf_stops=utils.sxstop_pivot(prodf)\n",
      "cutdf_stops=utils.sxstop_pivot(pro545)\n",
      "\n",
      "all_stop=[0.928484,0.755328,0.478074,0.240369,0.035246,0.004889]\n",
      "all_rt=[0.534378,0.540155,0.542990,0.542564,0.533544,0.529063]\n",
      "cut_rt=[0.480469,0.491375,0.500804,0.510604,0.506695,0.502725]\n",
      "cut_go=[1.0, 1.0, 1.0, 1.0, 1.0, 1.0]"
     ],
     "language": "python",
     "metadata": {},
     "outputs": [],
     "prompt_number": 16
    },
    {
     "cell_type": "code",
     "collapsed": false,
     "input": [
      "print prodf[prodf['choice']=='go'].rt.max()"
     ],
     "language": "python",
     "metadata": {},
     "outputs": [
      {
       "output_type": "stream",
       "stream": "stdout",
       "text": [
        "0.5599846\n"
       ]
      }
     ],
     "prompt_number": 17
    },
    {
     "cell_type": "code",
     "collapsed": false,
     "input": [
      "goodsx=[28, 29, 48, 54, 76]\n",
      "badsx=[42, 60, 78, 85, 86, 88]\n",
      "\n",
      "goodrts=allgorts[allgorts.index.isin(goodsx)]\n",
      "goodstops=prodf_stops[prodf_stops.index.isin(goodsx)]\n",
      "\n",
      "badrts=allgorts[allgorts.index.isin(badsx)]\n",
      "badstops=prodf_stops[prodf_stops.index.isin(badsx)]\n",
      "\n",
      "badrts_scaled=badrts*10\n",
      "badrts"
     ],
     "language": "python",
     "metadata": {},
     "outputs": [
      {
       "html": [
        "<div style=\"max-height:1000px;max-width:1500px;overflow:auto;\">\n",
        "<table border=\"1\" class=\"dataframe\">\n",
        "  <thead>\n",
        "    <tr style=\"text-align: right;\">\n",
        "      <th>pGo</th>\n",
        "      <th>0.0</th>\n",
        "      <th>0.2</th>\n",
        "      <th>0.4</th>\n",
        "      <th>0.6</th>\n",
        "      <th>0.8</th>\n",
        "      <th>1.0</th>\n",
        "    </tr>\n",
        "    <tr>\n",
        "      <th>subj_idx</th>\n",
        "      <th></th>\n",
        "      <th></th>\n",
        "      <th></th>\n",
        "      <th></th>\n",
        "      <th></th>\n",
        "      <th></th>\n",
        "    </tr>\n",
        "  </thead>\n",
        "  <tbody>\n",
        "    <tr>\n",
        "      <th>42</th>\n",
        "      <td> 0.486169</td>\n",
        "      <td> 0.528373</td>\n",
        "      <td> 0.546690</td>\n",
        "      <td> 0.547082</td>\n",
        "      <td> 0.547322</td>\n",
        "      <td> 0.546146</td>\n",
        "    </tr>\n",
        "    <tr>\n",
        "      <th>60</th>\n",
        "      <td> 0.549588</td>\n",
        "      <td> 0.547301</td>\n",
        "      <td> 0.545991</td>\n",
        "      <td> 0.546381</td>\n",
        "      <td> 0.531671</td>\n",
        "      <td> 0.530593</td>\n",
        "    </tr>\n",
        "    <tr>\n",
        "      <th>66</th>\n",
        "      <td> 0.531697</td>\n",
        "      <td> 0.371884</td>\n",
        "      <td> 0.542756</td>\n",
        "      <td> 0.539579</td>\n",
        "      <td> 0.530155</td>\n",
        "      <td> 0.520276</td>\n",
        "    </tr>\n",
        "    <tr>\n",
        "      <th>78</th>\n",
        "      <td> 0.545049</td>\n",
        "      <td> 0.542721</td>\n",
        "      <td> 0.547206</td>\n",
        "      <td> 0.546832</td>\n",
        "      <td> 0.530055</td>\n",
        "      <td> 0.526187</td>\n",
        "    </tr>\n",
        "    <tr>\n",
        "      <th>85</th>\n",
        "      <td> 0.536535</td>\n",
        "      <td> 0.540191</td>\n",
        "      <td> 0.538788</td>\n",
        "      <td> 0.536859</td>\n",
        "      <td> 0.531892</td>\n",
        "      <td> 0.515501</td>\n",
        "    </tr>\n",
        "    <tr>\n",
        "      <th>86</th>\n",
        "      <td> 0.528896</td>\n",
        "      <td> 0.543067</td>\n",
        "      <td> 0.545976</td>\n",
        "      <td> 0.547827</td>\n",
        "      <td> 0.541030</td>\n",
        "      <td> 0.534318</td>\n",
        "    </tr>\n",
        "    <tr>\n",
        "      <th>88</th>\n",
        "      <td> 0.545979</td>\n",
        "      <td> 0.541805</td>\n",
        "      <td> 0.545903</td>\n",
        "      <td> 0.544032</td>\n",
        "      <td> 0.544483</td>\n",
        "      <td> 0.536877</td>\n",
        "    </tr>\n",
        "  </tbody>\n",
        "</table>\n",
        "</div>"
       ],
       "metadata": {},
       "output_type": "pyout",
       "prompt_number": 18,
       "text": [
        "pGo            0.0       0.2       0.4       0.6       0.8       1.0\n",
        "subj_idx                                                            \n",
        "42        0.486169  0.528373  0.546690  0.547082  0.547322  0.546146\n",
        "60        0.549588  0.547301  0.545991  0.546381  0.531671  0.530593\n",
        "66        0.531697  0.371884  0.542756  0.539579  0.530155  0.520276\n",
        "78        0.545049  0.542721  0.547206  0.546832  0.530055  0.526187\n",
        "85        0.536535  0.540191  0.538788  0.536859  0.531892  0.515501\n",
        "86        0.528896  0.543067  0.545976  0.547827  0.541030  0.534318\n",
        "88        0.545979  0.541805  0.545903  0.544032  0.544483  0.536877"
       ]
      }
     ],
     "prompt_number": 18
    },
    {
     "cell_type": "code",
     "collapsed": false,
     "input": [
      "pgo_list=[0.0, 0.2, 0.4, 0.6, 0.8, 1.0]\n",
      "\n",
      "ntrials=1000; depHyper=True\n",
      "\n",
      "# init sx concat list\n",
      "sxfits_list=[]"
     ],
     "language": "python",
     "metadata": {},
     "outputs": [],
     "prompt_number": 19
    },
    {
     "cell_type": "code",
     "collapsed": false,
     "input": [
      "ss=reload(ss)\n",
      "pb=utils.PBinJ(len(goodsx)*len(pgo_list), color=\"#95a5a6\"); sx_n=0\n",
      "os.chdir(utils.find_path()+\"OptAccRT/ProBSL_GoodSx_AllData\")\n",
      "ntrials=1000; depHyper=True\n",
      "pgo_list=[0.0, 0.2, 0.4, 0.6, 0.8, 1.0]\n",
      "badsx=[42, 60, 66, 78, 85, 86, 88]\n",
      "badsx=[78, 85, 86, 88]\n",
      "# init sx concat list\n",
      "sxfits_list=[]\n",
      "\n",
      "for sx in badsx:\n",
      "    \n",
      "    sx_rt=np.array(badrts_scaled.loc[sx,:].values)\n",
      "    sx_pstop=np.array(badstops.loc[sx,:].values)\n",
      "    \n",
      "    try:\n",
      "        sxinits=paramdf.loc[sx,:].to_dict()\n",
      "    except Exception:\n",
      "        sxinits=paramdf.mean().to_dict()\n",
      "\n",
      "\n",
      "    sxinits['ssd']=.450\n",
      "    \n",
      "    sxpred=pd.DataFrame(columns=['subj_idx','pGo', 'v', 'pstop_data', \n",
      "                                 'pstop_radd', 'rt_data', 'rt_radd', \n",
      "                                 'chi'], index=pgo_list)\n",
      "    \n",
      "    for i, pg in enumerate(pgo_list):\n",
      "        \n",
      "        \n",
      "        pb.update_i(sx_n)\n",
      "        sx_n +=1\n",
      "        \n",
      "        sxinits['pGo']=pg\n",
      "        \n",
      "        if pg<.5:\n",
      "            \n",
      "            vinit=sxinits['v(Lo)']\n",
      "            \n",
      "        else:\n",
      "            \n",
      "            vinit=sxinits['v(Hi)']\n",
      "        \n",
      "        y=np.array([sx_pstop[i], sx_rt[i]])\n",
      "        \n",
      "        p=Parameters()\n",
      "        p.add('v', value=vinit, min=0.0, vary=True)\n",
      "        \n",
      "        popt = Minimizer(sspro_accrt_minfunc, p, fcn_args=(sxinits, y, ntrials), method='Nelder-Mead') \n",
      "        popt.fmin(maxfun=1000, ftol=1.e-3, xtol=1.e-3, full_output=True, disp=True)      \n",
      "        \n",
      "        pstop_radd=y[0]+popt.residual[0]\n",
      "        rt_radd=y[1]+popt.residual[1]\n",
      "        \n",
      "        sxpred.loc[pg,:]=pd.Series(OrderedDict([('subj_idx',int(sx)), ('pGo',pg), ('v',p['v'].value), \n",
      "                                    ('pstop_data',y[0]), ('pstop_radd',pstop_radd), ('rt_data',y[1]), \n",
      "                                    ('rt_radd',rt_radd), ('chi',popt.chisqr)]))\n",
      "    pb.update_i(sx_n)\n",
      "    \n",
      "    sxpred.to_csv(\"ProFits_BadSx\"+str(sx)+\".csv\")\n",
      "    \n",
      "    sxfits_list.append(sxpred)\n",
      "\n",
      "    print \"-\"*100\n",
      "    \n",
      "    \n",
      "allsx_fits=pd.concat(sxfits_list)\n",
      "allsx_fits.to_csv(\"ProFits_BadSx.csv\")"
     ],
     "language": "python",
     "metadata": {},
     "outputs": [
      {
       "html": [
        "\n",
        "\t    <div style=\"border: 1px solid black; width:500px\">\n",
        "\t    <div id=\"ddf02807-a660-4a8a-9dba-e60b669f2f08\" style=\"background-color:#95a5a6; width:0%\">&nbsp;</div>\n",
        "\t    </div> \n",
        "\t    "
       ],
       "metadata": {},
       "output_type": "display_data",
       "text": [
        "<IPython.core.display.HTML at 0x7fe3fd619cd0>"
       ]
      },
      {
       "javascript": [
        "$('div#ddf02807-a660-4a8a-9dba-e60b669f2f08').width('0.00%')"
       ],
       "metadata": {},
       "output_type": "display_data",
       "text": [
        "<IPython.core.display.Javascript at 0x7fe3fd435590>"
       ]
      },
      {
       "output_type": "stream",
       "stream": "stdout",
       "text": [
        "Optimization terminated successfully.\n",
        "         Current function value: 0.000051\n",
        "         Iterations: 12\n",
        "         Function evaluations: 31\n"
       ]
      },
      {
       "javascript": [
        "$('div#ddf02807-a660-4a8a-9dba-e60b669f2f08').width('3.33%')"
       ],
       "metadata": {},
       "output_type": "display_data",
       "text": [
        "<IPython.core.display.Javascript at 0x7fe3fd37cf50>"
       ]
      },
      {
       "output_type": "stream",
       "stream": "stdout",
       "text": [
        "Optimization terminated successfully.\n",
        "         Current function value: 0.002799\n",
        "         Iterations: 14\n",
        "         Function evaluations: 32\n"
       ]
      },
      {
       "javascript": [
        "$('div#ddf02807-a660-4a8a-9dba-e60b669f2f08').width('6.67%')"
       ],
       "metadata": {},
       "output_type": "display_data",
       "text": [
        "<IPython.core.display.Javascript at 0x7fe3fd392510>"
       ]
      },
      {
       "output_type": "stream",
       "stream": "stdout",
       "text": [
        "Optimization terminated successfully.\n",
        "         Current function value: 0.017342\n",
        "         Iterations: 12\n",
        "         Function evaluations: 29\n"
       ]
      },
      {
       "javascript": [
        "$('div#ddf02807-a660-4a8a-9dba-e60b669f2f08').width('10.00%')"
       ],
       "metadata": {},
       "output_type": "display_data",
       "text": [
        "<IPython.core.display.Javascript at 0x7fe3fd622910>"
       ]
      },
      {
       "output_type": "stream",
       "stream": "stdout",
       "text": [
        "Warning: Maximum number of iterations has been exceeded.\n"
       ]
      },
      {
       "javascript": [
        "$('div#ddf02807-a660-4a8a-9dba-e60b669f2f08').width('13.33%')"
       ],
       "metadata": {},
       "output_type": "display_data",
       "text": [
        "<IPython.core.display.Javascript at 0x7fe3fd754390>"
       ]
      },
      {
       "output_type": "stream",
       "stream": "stdout",
       "text": [
        "Optimization terminated successfully.\n",
        "         Current function value: 0.026684\n",
        "         Iterations: 20\n",
        "         Function evaluations: 56\n"
       ]
      },
      {
       "javascript": [
        "$('div#ddf02807-a660-4a8a-9dba-e60b669f2f08').width('16.67%')"
       ],
       "metadata": {},
       "output_type": "display_data",
       "text": [
        "<IPython.core.display.Javascript at 0x7fe3fd636f50>"
       ]
      },
      {
       "output_type": "stream",
       "stream": "stdout",
       "text": [
        "Optimization terminated successfully.\n",
        "         Current function value: 0.029392\n",
        "         Iterations: 13\n",
        "         Function evaluations: 31\n"
       ]
      },
      {
       "javascript": [
        "$('div#ddf02807-a660-4a8a-9dba-e60b669f2f08').width('20.00%')"
       ],
       "metadata": {},
       "output_type": "display_data",
       "text": [
        "<IPython.core.display.Javascript at 0x7fe3fd41d550>"
       ]
      },
      {
       "output_type": "stream",
       "stream": "stdout",
       "text": [
        "----------------------------------------------------------------------------------------------------\n"
       ]
      },
      {
       "javascript": [
        "$('div#ddf02807-a660-4a8a-9dba-e60b669f2f08').width('20.00%')"
       ],
       "metadata": {},
       "output_type": "display_data",
       "text": [
        "<IPython.core.display.Javascript at 0x7fe3fd6d94d0>"
       ]
      },
      {
       "output_type": "stream",
       "stream": "stdout",
       "text": [
        "Optimization terminated successfully.\n",
        "         Current function value: 0.000003\n",
        "         Iterations: 16\n",
        "         Function evaluations: 37\n"
       ]
      },
      {
       "javascript": [
        "$('div#ddf02807-a660-4a8a-9dba-e60b669f2f08').width('23.33%')"
       ],
       "metadata": {},
       "output_type": "display_data",
       "text": [
        "<IPython.core.display.Javascript at 0x7fe3fd6e27d0>"
       ]
      },
      {
       "output_type": "stream",
       "stream": "stdout",
       "text": [
        "Optimization terminated successfully.\n",
        "         Current function value: 0.003473\n",
        "         Iterations: 10\n",
        "         Function evaluations: 23\n"
       ]
      },
      {
       "javascript": [
        "$('div#ddf02807-a660-4a8a-9dba-e60b669f2f08').width('26.67%')"
       ],
       "metadata": {},
       "output_type": "display_data",
       "text": [
        "<IPython.core.display.Javascript at 0x7fe3fd6d4ad0>"
       ]
      },
      {
       "output_type": "stream",
       "stream": "stdout",
       "text": [
        "Optimization terminated successfully.\n",
        "         Current function value: 0.020499\n",
        "         Iterations: 11\n",
        "         Function evaluations: 28\n"
       ]
      },
      {
       "javascript": [
        "$('div#ddf02807-a660-4a8a-9dba-e60b669f2f08').width('30.00%')"
       ],
       "metadata": {},
       "output_type": "display_data",
       "text": [
        "<IPython.core.display.Javascript at 0x7fe3fd385990>"
       ]
      },
      {
       "output_type": "stream",
       "stream": "stdout",
       "text": [
        "Optimization terminated successfully.\n",
        "         Current function value: 0.034237\n",
        "         Iterations: 37\n",
        "         Function evaluations: 95\n"
       ]
      },
      {
       "javascript": [
        "$('div#ddf02807-a660-4a8a-9dba-e60b669f2f08').width('33.33%')"
       ],
       "metadata": {},
       "output_type": "display_data",
       "text": [
        "<IPython.core.display.Javascript at 0x7fe3fd7bf610>"
       ]
      },
      {
       "output_type": "stream",
       "stream": "stdout",
       "text": [
        "Optimization terminated successfully.\n",
        "         Current function value: 0.042012\n",
        "         Iterations: 13\n",
        "         Function evaluations: 36\n"
       ]
      },
      {
       "javascript": [
        "$('div#ddf02807-a660-4a8a-9dba-e60b669f2f08').width('36.67%')"
       ],
       "metadata": {},
       "output_type": "display_data",
       "text": [
        "<IPython.core.display.Javascript at 0x7fe3fd46d6d0>"
       ]
      },
      {
       "output_type": "stream",
       "stream": "stdout",
       "text": [
        "Optimization terminated successfully.\n",
        "         Current function value: 0.009330\n",
        "         Iterations: 8\n",
        "         Function evaluations: 18\n"
       ]
      },
      {
       "javascript": [
        "$('div#ddf02807-a660-4a8a-9dba-e60b669f2f08').width('40.00%')"
       ],
       "metadata": {},
       "output_type": "display_data",
       "text": [
        "<IPython.core.display.Javascript at 0x7fe3fd6d9690>"
       ]
      },
      {
       "output_type": "stream",
       "stream": "stdout",
       "text": [
        "----------------------------------------------------------------------------------------------------\n"
       ]
      },
      {
       "javascript": [
        "$('div#ddf02807-a660-4a8a-9dba-e60b669f2f08').width('40.00%')"
       ],
       "metadata": {},
       "output_type": "display_data",
       "text": [
        "<IPython.core.display.Javascript at 0x7fe3fd46dc50>"
       ]
      },
      {
       "output_type": "stream",
       "stream": "stdout",
       "text": [
        "Optimization terminated successfully.\n",
        "         Current function value: 0.000000\n",
        "         Iterations: 13\n",
        "         Function evaluations: 28\n"
       ]
      },
      {
       "javascript": [
        "$('div#ddf02807-a660-4a8a-9dba-e60b669f2f08').width('43.33%')"
       ],
       "metadata": {},
       "output_type": "display_data",
       "text": [
        "<IPython.core.display.Javascript at 0x7fe3fd7aaf90>"
       ]
      },
      {
       "output_type": "stream",
       "stream": "stdout",
       "text": [
        "Optimization terminated successfully.\n",
        "         Current function value: 0.000052\n",
        "         Iterations: 12\n",
        "         Function evaluations: 26\n"
       ]
      },
      {
       "javascript": [
        "$('div#ddf02807-a660-4a8a-9dba-e60b669f2f08').width('46.67%')"
       ],
       "metadata": {},
       "output_type": "display_data",
       "text": [
        "<IPython.core.display.Javascript at 0x7fe3fd418590>"
       ]
      },
      {
       "output_type": "stream",
       "stream": "stdout",
       "text": [
        "Optimization terminated successfully.\n",
        "         Current function value: 0.008316\n",
        "         Iterations: 28\n",
        "         Function evaluations: 68\n"
       ]
      },
      {
       "javascript": [
        "$('div#ddf02807-a660-4a8a-9dba-e60b669f2f08').width('50.00%')"
       ],
       "metadata": {},
       "output_type": "display_data",
       "text": [
        "<IPython.core.display.Javascript at 0x7fe3fd67a9d0>"
       ]
      },
      {
       "output_type": "stream",
       "stream": "stdout",
       "text": [
        "Optimization terminated successfully.\n",
        "         Current function value: 0.035710\n",
        "         Iterations: 31\n",
        "         Function evaluations: 85\n"
       ]
      },
      {
       "javascript": [
        "$('div#ddf02807-a660-4a8a-9dba-e60b669f2f08').width('53.33%')"
       ],
       "metadata": {},
       "output_type": "display_data",
       "text": [
        "<IPython.core.display.Javascript at 0x7fe3fd412750>"
       ]
      },
      {
       "output_type": "stream",
       "stream": "stdout",
       "text": [
        "Warning: Maximum number of iterations has been exceeded.\n"
       ]
      },
      {
       "javascript": [
        "$('div#ddf02807-a660-4a8a-9dba-e60b669f2f08').width('56.67%')"
       ],
       "metadata": {},
       "output_type": "display_data",
       "text": [
        "<IPython.core.display.Javascript at 0x7fe3fd757e90>"
       ]
      },
      {
       "output_type": "stream",
       "stream": "stdout",
       "text": [
        "Optimization terminated successfully.\n",
        "         Current function value: 0.030432\n",
        "         Iterations: 9\n",
        "         Function evaluations: 21\n"
       ]
      },
      {
       "javascript": [
        "$('div#ddf02807-a660-4a8a-9dba-e60b669f2f08').width('60.00%')"
       ],
       "metadata": {},
       "output_type": "display_data",
       "text": [
        "<IPython.core.display.Javascript at 0x7fe3fd46d790>"
       ]
      },
      {
       "output_type": "stream",
       "stream": "stdout",
       "text": [
        "----------------------------------------------------------------------------------------------------\n"
       ]
      },
      {
       "javascript": [
        "$('div#ddf02807-a660-4a8a-9dba-e60b669f2f08').width('60.00%')"
       ],
       "metadata": {},
       "output_type": "display_data",
       "text": [
        "<IPython.core.display.Javascript at 0x7fe3fd60bb90>"
       ]
      },
      {
       "output_type": "stream",
       "stream": "stdout",
       "text": [
        "Optimization terminated successfully.\n",
        "         Current function value: 0.000003\n",
        "         Iterations: 16\n",
        "         Function evaluations: 43\n"
       ]
      },
      {
       "javascript": [
        "$('div#ddf02807-a660-4a8a-9dba-e60b669f2f08').width('63.33%')"
       ],
       "metadata": {},
       "output_type": "display_data",
       "text": [
        "<IPython.core.display.Javascript at 0x7fe3fd539550>"
       ]
      },
      {
       "output_type": "stream",
       "stream": "stdout",
       "text": [
        "Optimization terminated successfully.\n",
        "         Current function value: 0.000792\n",
        "         Iterations: 13\n",
        "         Function evaluations: 30\n"
       ]
      },
      {
       "javascript": [
        "$('div#ddf02807-a660-4a8a-9dba-e60b669f2f08').width('66.67%')"
       ],
       "metadata": {},
       "output_type": "display_data",
       "text": [
        "<IPython.core.display.Javascript at 0x7fe3fd418d90>"
       ]
      },
      {
       "output_type": "stream",
       "stream": "stdout",
       "text": [
        "Optimization terminated successfully.\n",
        "         Current function value: 0.012428\n",
        "         Iterations: 33\n",
        "         Function evaluations: 84\n"
       ]
      },
      {
       "javascript": [
        "$('div#ddf02807-a660-4a8a-9dba-e60b669f2f08').width('70.00%')"
       ],
       "metadata": {},
       "output_type": "display_data",
       "text": [
        "<IPython.core.display.Javascript at 0x7fe3fd501a50>"
       ]
      },
      {
       "output_type": "stream",
       "stream": "stdout",
       "text": [
        "Optimization terminated successfully.\n",
        "         Current function value: 0.017324\n",
        "         Iterations: 27\n",
        "         Function evaluations: 68\n"
       ]
      },
      {
       "javascript": [
        "$('div#ddf02807-a660-4a8a-9dba-e60b669f2f08').width('73.33%')"
       ],
       "metadata": {},
       "output_type": "display_data",
       "text": [
        "<IPython.core.display.Javascript at 0x7fe3fd52ead0>"
       ]
      },
      {
       "output_type": "stream",
       "stream": "stdout",
       "text": [
        "Optimization terminated successfully.\n",
        "         Current function value: 0.068205\n",
        "         Iterations: 10\n",
        "         Function evaluations: 23\n"
       ]
      },
      {
       "javascript": [
        "$('div#ddf02807-a660-4a8a-9dba-e60b669f2f08').width('76.67%')"
       ],
       "metadata": {},
       "output_type": "display_data",
       "text": [
        "<IPython.core.display.Javascript at 0x7fe3fd618250>"
       ]
      },
      {
       "output_type": "stream",
       "stream": "stdout",
       "text": [
        "Optimization terminated successfully.\n",
        "         Current function value: 0.052368\n",
        "         Iterations: 17\n",
        "         Function evaluations: 43\n"
       ]
      },
      {
       "javascript": [
        "$('div#ddf02807-a660-4a8a-9dba-e60b669f2f08').width('80.00%')"
       ],
       "metadata": {},
       "output_type": "display_data",
       "text": [
        "<IPython.core.display.Javascript at 0x7fe3fd60bd10>"
       ]
      },
      {
       "output_type": "stream",
       "stream": "stdout",
       "text": [
        "----------------------------------------------------------------------------------------------------\n"
       ]
      }
     ],
     "prompt_number": 36
    },
    {
     "cell_type": "code",
     "collapsed": false,
     "input": [
      "def sspro_accrt_minfunc(p, theta, ydata, ntrials, fitting=True, depHyper=True):\n",
      "\n",
      "    theta['v']=p['v'].value\n",
      "    theta['ssv'] = -abs(theta['ssv'])\n",
      "\n",
      "    yhat=simulate(theta, mfx=radd_fitfx, ntrials=ntrials, timebound=.560, \n",
      "            depHyper=depHyper, task='ssPro', condition_str='bsl') \n",
      "    \n",
      "    if theta['pGo']==0.0:\n",
      "        return np.array([0, yhat[1]-ydata[1]])\n",
      "        \n",
      "    else:\n",
      "        return np.array([yhat[0]-ydata[0], yhat[1]-ydata[1]])"
     ],
     "language": "python",
     "metadata": {},
     "outputs": [],
     "prompt_number": 22
    },
    {
     "cell_type": "code",
     "collapsed": false,
     "input": [
      "def radd_fitfx(theta, timebound=.560, ttype='go', depHyper=True, tau=.0005, si=.01, **kwargs):\n",
      "\n",
      "    if ttype=='stop':sstrial=1\n",
      "    else: sstrial=0\n",
      "\n",
      "    mu=theta['v']; tr=theta['t']; a=theta['a']\n",
      "    z=theta['z']; ssv=theta['ssv']; ssd=theta['ssd']\n",
      "\n",
      "\n",
      "    if tr>ssd and sstrial:\n",
      "        t=ssd # start the time at ssd\n",
      "    else:\n",
      "        t=tr  # start the time at tr\n",
      "\n",
      "    ss_started=False\n",
      "    no_choice_yet=True\n",
      "    dx=np.sqrt(si*tau)  # dx is the step size up or down.\n",
      "    e=z\t                # starting point\n",
      "    e_ss=z              #arbitrary (positive) init value\n",
      "    response=0\n",
      "    \n",
      "    while no_choice_yet: \n",
      "        \n",
      "        t += tau\n",
      "        \n",
      "        if t>=timebound and no_choice_yet:\n",
      "            choice='stop'\n",
      "            rt=timebound\n",
      "            no_choice_yet=False\n",
      "\n",
      "        if t>=tr:\n",
      "            r=np.random.random_sample()\n",
      "            p=0.5*(1 + mu*dx/si)\n",
      "            \n",
      "            if r < p:\n",
      "                e = e + dx\n",
      "            else:\n",
      "                e = e - dx\n",
      "                \n",
      "            if e>=a and no_choice_yet:\n",
      "                choice='go'\n",
      "                response=1\n",
      "                rt=t\n",
      "                no_choice_yet=False\n",
      "        \n",
      "        if sstrial and t>=ssd:\n",
      "            r_ss=np.random.random_sample()\n",
      "            p_ss=0.5*(1 + ssv*dx/si)\n",
      "            if not ss_started and depHyper:\n",
      "                ss_started=True\n",
      "                e_ss=e\n",
      "            else:\n",
      "            \n",
      "                if r_ss < p_ss:\n",
      "                    e_ss = e_ss + dx\n",
      "                else:\n",
      "                    e_ss = e_ss - dx\n",
      "            \n",
      "            if e_ss<=0 and no_choice_yet:\n",
      "                choice='stop'\n",
      "                rt=t\n",
      "                no_choice_yet=False\n",
      "                response=0\n",
      "    \n",
      "    if choice==ttype: \n",
      "        acc=1.00\n",
      "    else: \n",
      "        acc=0.00\n",
      "\n",
      "    return {'rt':rt, 'choice':choice, 'trial_type':ttype,\n",
      "        'acc':acc, 'ssd':ssd, 'pGo':theta['pGo'], 'response':response}"
     ],
     "language": "python",
     "metadata": {},
     "outputs": [],
     "prompt_number": 23
    },
    {
     "cell_type": "code",
     "collapsed": false,
     "input": [
      "def simulate(theta, mfx=radd_fitfx, ntrials=20000, timebound=0.650, intervar=False,\n",
      "    task='ssRe', depHyper=True, condition_str=None, return_all=False):\n",
      "\n",
      "\n",
      "    pStop=1-theta['pGo']\n",
      "    columns=['rt', 'choice', 'response', 'acc', 'trial_type', 'ssd', 'pGo']\n",
      "    df = pd.DataFrame(columns=columns, index=np.arange(0,ntrials))\n",
      "\n",
      "    for i in range(ntrials):\n",
      "\n",
      "        ttype='go'\n",
      "        if np.random.random_sample()<=pStop:\n",
      "            ttype='stop'\n",
      "        \n",
      "        sim_out = mfx(theta, depHyper=depHyper, \n",
      "            timebound=timebound, ttype=ttype)\t\n",
      "\n",
      "        df.loc[i]=pd.Series({c:sim_out[c] for c in df.columns})\n",
      "\n",
      "    if condition_str:\n",
      "        df['condition']=[condition_str]*len(df)\n",
      "\n",
      "    df[['rt', 'acc', 'response']]=df[['rt', 'acc', 'response']].astype(float)\n",
      "    summary=ss.anl(df, task=task)\n",
      "    pstop=summary['pstop']\n",
      "    rt=summary['rt']*10\n",
      "\n",
      "    return [pstop, rt]\n"
     ],
     "language": "python",
     "metadata": {},
     "outputs": [],
     "prompt_number": 24
    },
    {
     "cell_type": "code",
     "collapsed": false,
     "input": [
      "sxl=list()\n",
      "pth=utils.find_path()\n",
      "badsx=[42, 60, 66, 78, 85, 86, 88]\n",
      "for sx in badsx:\n",
      "    try:\n",
      "        sxl.append(pd.read_csv(\"ProFits_BadSx\"+str(sx)+\".csv\", index_col=0))\n",
      "    except:\n",
      "        pass\n",
      "df=pd.concat(sxl)\n",
      "\n",
      "\n",
      "stops_avg=df.groupby('pGo').mean()\n",
      "stops_sem=df.groupby('pGo').sem()\n",
      "\n",
      "dfrt=df.query('pGo>0')\n",
      "dfrt['rt_radd']=dfrt.loc[:,'rt_radd'].astype('float')\n",
      "rts_avg=dfrt.groupby('pGo').mean()\n",
      "rts_sem=dfrt.groupby('pGo').sem()\n",
      "\n",
      "yd=stops_avg['pstop_data']\n",
      "yh=stops_avg['pstop_radd']\n",
      "yderr=stops_sem['pstop_data']\n",
      "yherr=stops_sem['pstop_radd']\n",
      "\n",
      "\n",
      "rtd=rts_avg['rt_data']/10\n",
      "rth=rts_avg['rt_radd']/10\n",
      "rtderr=rts_sem['rt_data']/10\n",
      "rtherr=rts_sem['rt_radd']/10\n",
      "\n",
      "\n",
      "yd=yd.sort_index()\n",
      "yh=yh.sort_index()\n",
      "yderr=yderr.sort_index()\n",
      "yherr=yherr.sort_index()"
     ],
     "language": "python",
     "metadata": {},
     "outputs": [],
     "prompt_number": 39
    },
    {
     "cell_type": "code",
     "collapsed": false,
     "input": [
      "psy=reload(psy)\n",
      "utils=reload(utils)\n",
      "\n",
      "sparams=utils.style_params()\n",
      "colors=sparams['colors']\n",
      "sns.set_style('ticks', rc=sparams['style'])\n",
      "sns.set_context('paper', rc=sparams['context'])\n",
      "\n",
      "sns.palplot(sparams['colors'])"
     ],
     "language": "python",
     "metadata": {},
     "outputs": [
      {
       "metadata": {},
       "output_type": "display_data",
       "png": "[encoded data removed]",
       "text": [
        "<matplotlib.figure.Figure at 0x7fe3fd9a3410>"
       ]
      }
     ],
     "prompt_number": 40
    },
    {
     "cell_type": "code",
     "collapsed": false,
     "input": [
      "psy=reload(psy)\n",
      "\n",
      "stopmeans=[yd.values, yh.values]\n",
      "stoperr=[yderr.values, yherr.values]\n",
      "\n",
      "ax=psy.scurves(ysim=stopmeans, yerr=stoperr, title='ProAllData_BadSx_StopFits', \n",
      "               colors=[colors[-8], colors[-1]], labels=['Data', 'RADD'], task='ssPro')"
     ],
     "language": "python",
     "metadata": {},
     "outputs": [
      {
       "metadata": {},
       "output_type": "display_data",
       "png": "[encoded data removed]",
       "text": [
        "<matplotlib.figure.Figure at 0x7fe3fd2c7790>"
       ]
      }
     ],
     "prompt_number": 42
    },
    {
     "cell_type": "code",
     "collapsed": false,
     "input": [
      "#plot rt\n",
      "plt.close('all')\n",
      "f, ax=plt.subplots(1, figsize=(6, 4))\n",
      "\n",
      "ax.errorbar(rtd.keys(), rtd, yerr=rtderr, color=colors[-8], label='Data')\n",
      "ax.errorbar(rtd.keys(), rth, yerr=rtherr, color=colors[-1], label='RADD')\n",
      "plt.setp(ax, xlim=(.1, 1.1), ylim=(.5, .55), xticks=rtd.keys(), \n",
      "         xticklabels=rtd.keys(), xlabel='P(Go)')\n",
      "plt.setp(ax.get_yticklabels(), fontsize=17)\n",
      "ax.set_ylabel('RT (s)', fontsize=19, labelpad=8) \n",
      "ax.legend(loc=0, fontsize=17)\n",
      "plt.tight_layout()\n",
      "sns.despine()\n",
      "f.savefig(\"ProAllData_BadSx_PGoRT.png\", dpi=600)    \n",
      "\n",
      "\n",
      "\n",
      "ff, axx=plt.subplots(1, figsize=(5, 5))\n",
      "\n",
      "axx.bar(0, rtd.mean(), yerr=rtderr.mean(), color=colors[-8], error_kw={\"elinewidth\":3,\"ecolor\":'k'},\n",
      "        alpha=.9,align='center', label='Data')\n",
      "\n",
      "axx.errorbar(0, rth.mean(), yerr=rtherr.mean(), marker='o', markersize=10, \n",
      "             elinewidth=3, ecolor='k', color=colors[-1], alpha=1, label='RADD')   \n",
      "\n",
      "plt.setp(axx, xlim=(-.7, .7), ylim=(.5, .56), xticks=[], xticklabels=[], xlabel='ssRe BSL')\n",
      "axx.set_xlabel('Proactive BSL', fontsize=19)\n",
      "plt.setp(axx.get_yticklabels(), fontsize=17)\n",
      "axx.set_ylabel('RT (s)', fontsize=19, labelpad=8) \n",
      "axx.legend(loc=0, fontsize=17)\n",
      "sns.despine()\n",
      "plt.tight_layout()\n",
      "\n",
      "ff.savefig(\"ProAllData_BadSx_MeanRT.png\", dpi=600)    "
     ],
     "language": "python",
     "metadata": {},
     "outputs": [
      {
       "metadata": {},
       "output_type": "display_data",
       "png": "[encoded data removed]",
       "text": [
        "<matplotlib.figure.Figure at 0x7fe3fd079990>"
       ]
      },
      {
       "metadata": {},
       "output_type": "display_data",
       "png": "[encoded data removed]",
       "text": [
        "<matplotlib.figure.Figure at 0x7fe3fcfd5e10>"
       ]
      }
     ],
     "prompt_number": 43
    },
    {
     "cell_type": "code",
     "collapsed": false,
     "input": [],
     "language": "python",
     "metadata": {},
     "outputs": []
    }
   ],
   "metadata": {}
  }
 ]
}