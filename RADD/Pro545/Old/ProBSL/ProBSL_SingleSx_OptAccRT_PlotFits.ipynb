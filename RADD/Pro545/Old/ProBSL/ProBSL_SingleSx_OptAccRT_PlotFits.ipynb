{
 "metadata": {
  "name": "",
  "signature": "sha256:f65820df43700b67e405908142608c8b3dbc8220c45d7c22cf13fd2d825ada85"
 },
 "nbformat": 3,
 "nbformat_minor": 0,
 "worksheets": [
  {
   "cells": [
    {
     "cell_type": "heading",
     "level": 1,
     "metadata": {},
     "source": [
      "Single SX Pro-BSL DATA NESTED FITS "
     ]
    },
    {
     "cell_type": "code",
     "collapsed": false,
     "input": [
      "from __future__ import division\n",
      "import pandas as pd\n",
      "from radd import utils, xopt, psy, ss, simfx\n",
      "from lmfit import Parameters, Minimizer\n",
      "import seaborn as sns\n",
      "import os\n"
     ],
     "language": "python",
     "metadata": {},
     "outputs": [],
     "prompt_number": 2
    },
    {
     "cell_type": "code",
     "collapsed": false,
     "input": [
      "psy=reload(psy)\n",
      "utils=reload(utils)\n",
      "\n",
      "sparams=utils.style_params()\n",
      "colors=sparams['colors']\n",
      "sns.set_style('ticks', rc=sparams['style'])\n",
      "sns.set_context('paper', rc=sparams['context'])\n",
      "\n",
      "sns.palplot(sparams['colors'])"
     ],
     "language": "python",
     "metadata": {},
     "outputs": [
      {
       "metadata": {},
       "output_type": "display_data",
       "png": "[encoded data removed]",
       "text": [
        "<matplotlib.figure.Figure at 0x7f783b28d890>"
       ]
      }
     ],
     "prompt_number": 3
    },
    {
     "cell_type": "heading",
     "level": 3,
     "metadata": {},
     "source": [
      "Read in Fit and Prediction Summaries for Each Subject and Concatenate"
     ]
    },
    {
     "cell_type": "code",
     "collapsed": false,
     "input": [
      "sxl=list()\n",
      "pth=utils.find_path()\n",
      "paramdf=pd.read_csv(utils.find_path()+\"OptAccRT/ReBSL_SxFits/OptAccRT_AllSxParams.csv\", index_col=0)\n",
      "\n",
      "for sx in paramdf.index.unique():\n",
      "    try:\n",
      "        sxl.append(pd.read_csv(pth+\"OptAccRT/ProBSL_InitHDDM_550/sx\"+str(sx)+\"_pro_bsl_fits.csv\", index_col=0))\n",
      "    except:\n",
      "        pass\n",
      "df=pd.concat(sxl)"
     ],
     "language": "python",
     "metadata": {},
     "outputs": [],
     "prompt_number": 13
    },
    {
     "cell_type": "heading",
     "level": 3,
     "metadata": {},
     "source": [
      "Calculate Summary Stop Acc & RT Values"
     ]
    },
    {
     "cell_type": "code",
     "collapsed": false,
     "input": [
      "sxl=list()\n",
      "pth=utils.find_path()\n",
      "paramdf=pd.read_csv(utils.find_path()+\"OptAccRT/ReBSL_SxFits/OptAccRT_AllSxParams.csv\", index_col=0)\n",
      "\n",
      "for sx in paramdf.index.unique():\n",
      "    try:\n",
      "        sxl.append(pd.read_csv(pth+\"OptAccRT/ProBSL_InitHDDM_550/sx\"+str(sx)+\"_pro_bsl_fits.csv\", index_col=0))\n",
      "    except:\n",
      "        pass\n",
      "df=pd.concat(sxl)\n",
      "\n",
      "\n",
      "stops_avg=df.groupby('pGo').mean()\n",
      "stops_sem=df.groupby('pGo').sem()\n",
      "\n",
      "dfrt=df.query('pGo>0')\n",
      "dfrt['rt_radd']=dfrt.loc[:,'rt_radd'].astype('float')\n",
      "rts_avg=dfrt.groupby('pGo').mean()\n",
      "rts_sem=dfrt.groupby('pGo').sem()\n",
      "\n",
      "yd=stops_avg['pstop_data']\n",
      "yh=stops_avg['pstop_radd']\n",
      "yderr=stops_sem['pstop_data']\n",
      "yherr=stops_sem['pstop_radd']\n",
      "\n",
      "\n",
      "rtd=rts_avg['rt_data']\n",
      "rth=rts_avg['rt_radd']\n",
      "rtderr=rts_sem['rt_data']\n",
      "rtherr=rts_sem['rt_radd']"
     ],
     "language": "python",
     "metadata": {},
     "outputs": [],
     "prompt_number": 34
    },
    {
     "cell_type": "code",
     "collapsed": false,
     "input": [
      "nu=df[df.subj_idx>57]\n",
      "nu['rt_radd']=nu['rt_data']+nu['rt_residuals']\n",
      "nu['pstop_radd']=nu['pstop_data']+nu['pstop_residuals']\n",
      "nu.head()"
     ],
     "language": "python",
     "metadata": {},
     "outputs": [
      {
       "html": [
        "<div style=\"max-height:1000px;max-width:1500px;overflow:auto;\">\n",
        "<table border=\"1\" class=\"dataframe\">\n",
        "  <thead>\n",
        "    <tr style=\"text-align: right;\">\n",
        "      <th></th>\n",
        "      <th>chi</th>\n",
        "      <th>pGo</th>\n",
        "      <th>pstop_data</th>\n",
        "      <th>pstop_radd</th>\n",
        "      <th>pstop_residuals</th>\n",
        "      <th>rt_data</th>\n",
        "      <th>rt_radd</th>\n",
        "      <th>rt_residuals</th>\n",
        "      <th>subj_idx</th>\n",
        "      <th>v</th>\n",
        "    </tr>\n",
        "  </thead>\n",
        "  <tbody>\n",
        "    <tr>\n",
        "      <th>0</th>\n",
        "      <td> 0.106492</td>\n",
        "      <td> 0.0</td>\n",
        "      <td> 0.060606</td>\n",
        "      <td> 0.223</td>\n",
        "      <td> 0.162394</td>\n",
        "      <td> 0.545305</td>\n",
        "      <td> 0.5169992</td>\n",
        "      <td>  -0.02830546</td>\n",
        "      <td> 59</td>\n",
        "      <td> 1.224059</td>\n",
        "    </tr>\n",
        "    <tr>\n",
        "      <th>1</th>\n",
        "      <td> 0.052448</td>\n",
        "      <td> 0.2</td>\n",
        "      <td> 0.277778</td>\n",
        "      <td> 0.375</td>\n",
        "      <td> 0.097222</td>\n",
        "      <td> 0.545145</td>\n",
        "      <td> 0.5244101</td>\n",
        "      <td>  -0.02073541</td>\n",
        "      <td> 59</td>\n",
        "      <td> 1.130930</td>\n",
        "    </tr>\n",
        "    <tr>\n",
        "      <th>2</th>\n",
        "      <td> 0.021253</td>\n",
        "      <td> 0.4</td>\n",
        "      <td> 0.600000</td>\n",
        "      <td> 0.670</td>\n",
        "      <td> 0.070000</td>\n",
        "      <td> 0.545149</td>\n",
        "      <td> 0.5323612</td>\n",
        "      <td>  -0.01278806</td>\n",
        "      <td> 59</td>\n",
        "      <td> 0.981498</td>\n",
        "    </tr>\n",
        "    <tr>\n",
        "      <th>3</th>\n",
        "      <td> 0.012576</td>\n",
        "      <td> 0.6</td>\n",
        "      <td> 0.833333</td>\n",
        "      <td> 0.893</td>\n",
        "      <td> 0.059667</td>\n",
        "      <td> 0.545221</td>\n",
        "      <td> 0.5357262</td>\n",
        "      <td> -0.009495068</td>\n",
        "      <td> 59</td>\n",
        "      <td> 0.821985</td>\n",
        "    </tr>\n",
        "    <tr>\n",
        "      <th>4</th>\n",
        "      <td> 0.000009</td>\n",
        "      <td> 0.8</td>\n",
        "      <td> 0.972973</td>\n",
        "      <td> 0.974</td>\n",
        "      <td> 0.001027</td>\n",
        "      <td> 0.543058</td>\n",
        "      <td> 0.5427693</td>\n",
        "      <td>-0.0002884424</td>\n",
        "      <td> 59</td>\n",
        "      <td> 0.703873</td>\n",
        "    </tr>\n",
        "  </tbody>\n",
        "</table>\n",
        "</div>"
       ],
       "metadata": {},
       "output_type": "pyout",
       "prompt_number": 35,
       "text": [
        "        chi  pGo  pstop_data  pstop_radd  pstop_residuals   rt_data  \\\n",
        "0  0.106492  0.0    0.060606       0.223         0.162394  0.545305   \n",
        "1  0.052448  0.2    0.277778       0.375         0.097222  0.545145   \n",
        "2  0.021253  0.4    0.600000       0.670         0.070000  0.545149   \n",
        "3  0.012576  0.6    0.833333       0.893         0.059667  0.545221   \n",
        "4  0.000009  0.8    0.972973       0.974         0.001027  0.543058   \n",
        "\n",
        "     rt_radd  rt_residuals  subj_idx         v  \n",
        "0  0.5169992   -0.02830546        59  1.224059  \n",
        "1  0.5244101   -0.02073541        59  1.130930  \n",
        "2  0.5323612   -0.01278806        59  0.981498  \n",
        "3  0.5357262  -0.009495068        59  0.821985  \n",
        "4  0.5427693 -0.0002884424        59  0.703873  "
       ]
      }
     ],
     "prompt_number": 35
    },
    {
     "cell_type": "code",
     "collapsed": false,
     "input": [
      "#old=df[df.subj_idx<59]\n",
      "x=pd.concat([old, nu], ignore_index=True)\n",
      "x.groupby('pGo').mean()"
     ],
     "language": "python",
     "metadata": {},
     "outputs": [
      {
       "html": [
        "<div style=\"max-height:1000px;max-width:1500px;overflow:auto;\">\n",
        "<table border=\"1\" class=\"dataframe\">\n",
        "  <thead>\n",
        "    <tr style=\"text-align: right;\">\n",
        "      <th></th>\n",
        "      <th>chi</th>\n",
        "      <th>pstop_data</th>\n",
        "      <th>pstop_radd</th>\n",
        "      <th>pstop_residuals</th>\n",
        "      <th>rt_data</th>\n",
        "      <th>subj_idx</th>\n",
        "      <th>v</th>\n",
        "    </tr>\n",
        "    <tr>\n",
        "      <th>pGo</th>\n",
        "      <th></th>\n",
        "      <th></th>\n",
        "      <th></th>\n",
        "      <th></th>\n",
        "      <th></th>\n",
        "      <th></th>\n",
        "      <th></th>\n",
        "    </tr>\n",
        "  </thead>\n",
        "  <tbody>\n",
        "    <tr>\n",
        "      <th>0.0</th>\n",
        "      <td> 0.031068</td>\n",
        "      <td> 0.680698</td>\n",
        "      <td> 0.729595</td>\n",
        "      <td> 0.048896</td>\n",
        "      <td> 0.531837</td>\n",
        "      <td> 48.342857</td>\n",
        "      <td> 1.126153</td>\n",
        "    </tr>\n",
        "    <tr>\n",
        "      <th>0.2</th>\n",
        "      <td> 0.032126</td>\n",
        "      <td> 0.580051</td>\n",
        "      <td> 0.623989</td>\n",
        "      <td> 0.043938</td>\n",
        "      <td> 0.542056</td>\n",
        "      <td> 48.342857</td>\n",
        "      <td> 1.387627</td>\n",
        "    </tr>\n",
        "    <tr>\n",
        "      <th>0.4</th>\n",
        "      <td> 0.021342</td>\n",
        "      <td> 0.502375</td>\n",
        "      <td> 0.534651</td>\n",
        "      <td> 0.032277</td>\n",
        "      <td> 0.540680</td>\n",
        "      <td> 48.342857</td>\n",
        "      <td> 1.441663</td>\n",
        "    </tr>\n",
        "    <tr>\n",
        "      <th>0.6</th>\n",
        "      <td> 0.030316</td>\n",
        "      <td> 0.398577</td>\n",
        "      <td> 0.448743</td>\n",
        "      <td> 0.050166</td>\n",
        "      <td> 0.540492</td>\n",
        "      <td> 48.342857</td>\n",
        "      <td> 1.480473</td>\n",
        "    </tr>\n",
        "    <tr>\n",
        "      <th>0.8</th>\n",
        "      <td> 0.030531</td>\n",
        "      <td> 0.304478</td>\n",
        "      <td> 0.369566</td>\n",
        "      <td> 0.065088</td>\n",
        "      <td> 0.531884</td>\n",
        "      <td> 48.342857</td>\n",
        "      <td> 1.501728</td>\n",
        "    </tr>\n",
        "    <tr>\n",
        "      <th>1.0</th>\n",
        "      <td> 0.028531</td>\n",
        "      <td> 0.290404</td>\n",
        "      <td> 0.347160</td>\n",
        "      <td> 0.056756</td>\n",
        "      <td> 0.528983</td>\n",
        "      <td> 48.342857</td>\n",
        "      <td> 1.516359</td>\n",
        "    </tr>\n",
        "  </tbody>\n",
        "</table>\n",
        "</div>"
       ],
       "metadata": {},
       "output_type": "pyout",
       "prompt_number": 40,
       "text": [
        "          chi  pstop_data  pstop_radd  pstop_residuals   rt_data   subj_idx  \\\n",
        "pGo                                                                           \n",
        "0.0  0.031068    0.680698    0.729595         0.048896  0.531837  48.342857   \n",
        "0.2  0.032126    0.580051    0.623989         0.043938  0.542056  48.342857   \n",
        "0.4  0.021342    0.502375    0.534651         0.032277  0.540680  48.342857   \n",
        "0.6  0.030316    0.398577    0.448743         0.050166  0.540492  48.342857   \n",
        "0.8  0.030531    0.304478    0.369566         0.065088  0.531884  48.342857   \n",
        "1.0  0.028531    0.290404    0.347160         0.056756  0.528983  48.342857   \n",
        "\n",
        "            v  \n",
        "pGo            \n",
        "0.0  1.126153  \n",
        "0.2  1.387627  \n",
        "0.4  1.441663  \n",
        "0.6  1.480473  \n",
        "0.8  1.501728  \n",
        "1.0  1.516359  "
       ]
      }
     ],
     "prompt_number": 40
    },
    {
     "cell_type": "code",
     "collapsed": false,
     "input": [
      "stopmeans"
     ],
     "language": "python",
     "metadata": {},
     "outputs": [
      {
       "metadata": {},
       "output_type": "pyout",
       "prompt_number": 37,
       "text": [
        "[array([ 0.68069849,  0.58005064,  0.5023748 ,  0.3985767 ,  0.30447791,\n",
        "         0.29040415]),\n",
        " array([ 0.93391251,  0.747744  ,  0.507752  ,  0.30772   ,  0.125752  ,\n",
        "         0.096984  ])]"
       ]
      }
     ],
     "prompt_number": 37
    },
    {
     "cell_type": "heading",
     "level": 3,
     "metadata": {},
     "source": [
      "Plot Observed/Predicted Stop Curves/RT "
     ]
    },
    {
     "cell_type": "code",
     "collapsed": false,
     "input": [
      "psy=reload(psy)\n",
      "stopmeans=[yd.values, yh.values]\n",
      "stoperr=[yderr.values, yherr.values]\n",
      "\n",
      "ax=psy.scurves(ysim=stopmeans, yerr=stoperr, title='ProBSL_OptAccRT_+-SEM_4sx.png', \n",
      "               colors=[colors[-8], colors[-1]], labels=['Data', 'RADD'], task='ssPro')"
     ],
     "language": "python",
     "metadata": {},
     "outputs": [
      {
       "metadata": {},
       "output_type": "display_data",
       "png": "[encoded data removed]",
       "text": [
        "<matplotlib.figure.Figure at 0x7f783b0e0990>"
       ]
      }
     ],
     "prompt_number": 38
    },
    {
     "cell_type": "code",
     "collapsed": false,
     "input": [
      "#plot rt\n",
      "plt.close('all')\n",
      "f, ax=plt.subplots(1, figsize=(5, 3))\n",
      "\n",
      "ax.errorbar(rtd.keys(), rtd, yerr=rtderr, color=colors[-8], label='Data')\n",
      "ax.errorbar(rtd.keys(), rth, yerr=rtherr, color=colors[-1], label='RADD')\n",
      "plt.setp(ax, xlim=(.1, 1.1), ylim=(.5, .55), xticks=rtd.keys(), \n",
      "         xticklabels=rtd.keys(), xlabel='P(Go)')\n",
      "plt.setp(ax.get_yticklabels(), fontsize=17)\n",
      "ax.set_ylabel('RT (s)', fontsize=19, labelpad=8) \n",
      "ax.legend(loc=0, fontsize=17)\n",
      "plt.tight_layout()\n",
      "sns.despine()\n",
      "#f.savefig(pth+\"ProBSL_RT.png\", dpi=600)    \n",
      "\n",
      "\n",
      "\n",
      "\n",
      "ff, axx=plt.subplots(1, figsize=(4, 4))\n",
      "\n",
      "axx.bar(0, rtd.mean(), yerr=rtderr.mean(), color=colors[-8], error_kw={\"elinewidth\":3, \"capthick\":2.5, \n",
      "        \"capsize\":3, \"ecolor\":'k'}, alpha=.9,align='center', label='Data')\n",
      "\n",
      "axx.errorbar(0, rth.mean(), yerr=rtherr.mean(), marker='o', markersize=10, \n",
      "             elinewidth=3, ecolor='k', color=colors[-1], alpha=1, label='RADD')   \n",
      "\n",
      "plt.setp(axx, xlim=(-.7, .7), ylim=(.5, .56), xticks=[], xticklabels=[], xlabel='ssRe BSL')\n",
      "axx.set_xlabel('Proactive BSL', fontsize=19)\n",
      "plt.setp(axx.get_yticklabels(), fontsize=17)\n",
      "axx.set_ylabel('RT (s)', fontsize=19, labelpad=8) \n",
      "axx.legend(loc=0, fontsize=17)\n",
      "sns.despine()\n",
      "plt.tight_layout()\n",
      "#f.savefig(pth+\"ProBSL_RT.png\", dpi=600)    \n",
      "#ff.savefig(pth+\"ProBSL_RT.png\", dpi=600)    "
     ],
     "language": "python",
     "metadata": {},
     "outputs": [
      {
       "metadata": {},
       "output_type": "display_data",
       "png": "[encoded data removed]",
       "text": [
        "<matplotlib.figure.Figure at 0x7f52372c36d0>"
       ]
      },
      {
       "metadata": {},
       "output_type": "display_data",
       "png": "[encoded data removed]",
       "text": [
        "<matplotlib.figure.Figure at 0x7f52370671d0>"
       ]
      }
     ],
     "prompt_number": 215
    },
    {
     "cell_type": "code",
     "collapsed": false,
     "input": [],
     "language": "python",
     "metadata": {},
     "outputs": [],
     "prompt_number": 197
    },
    {
     "cell_type": "code",
     "collapsed": false,
     "input": [],
     "language": "python",
     "metadata": {},
     "outputs": []
    }
   ],
   "metadata": {}
  }
 ]
}