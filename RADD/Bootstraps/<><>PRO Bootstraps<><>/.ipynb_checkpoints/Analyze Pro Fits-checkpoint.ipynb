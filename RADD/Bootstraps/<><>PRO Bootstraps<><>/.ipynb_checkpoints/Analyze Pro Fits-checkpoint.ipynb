{
 "cells": [
  {
   "cell_type": "code",
   "execution_count": 1,
   "metadata": {
    "collapsed": false
   },
   "outputs": [
    {
     "name": "stdout",
     "output_type": "stream",
     "text": [
      "/Users/kyle/Dropbox/FinalPro\n"
     ]
    }
   ],
   "source": [
    "cd FinalPro/"
   ]
  },
  {
   "cell_type": "code",
   "execution_count": 2,
   "metadata": {
    "collapsed": true
   },
   "outputs": [],
   "source": [
    "\n",
    "a = pd.read_csv('a/xpro_a_bootinfo.csv')\n",
    "#a = pd.read_csv('a/xpro_a_bootinfo.csv')\n",
    "tr = pd.read_csv('tr/xpro_tr_bootinfo.csv')\n",
    "v = pd.read_csv('v/xpro_v_bootinfo.csv')"
   ]
  },
  {
   "cell_type": "code",
   "execution_count": 3,
   "metadata": {
    "collapsed": false
   },
   "outputs": [
    {
     "data": {
      "text/plain": [
       "cnvrg     0.1863\n",
       "logp    -81.7610\n",
       "chi       0.3750\n",
       "rchi      0.0375\n",
       "AIC     -69.7610\n",
       "BIC     -77.1967\n",
       "a_0       0.4457\n",
       "a_20      0.4225\n",
       "a_40      0.4025\n",
       "a_60      0.3871\n",
       "a_80      0.3638\n",
       "a_100     0.3593\n",
       "v         1.3555\n",
       "tr        0.2937\n",
       "xb        1.0418\n",
       "dtype: float64"
      ]
     },
     "execution_count": 3,
     "metadata": {},
     "output_type": "execute_result"
    }
   ],
   "source": [
    "a.mean()"
   ]
  },
  {
   "cell_type": "code",
   "execution_count": 4,
   "metadata": {
    "collapsed": false
   },
   "outputs": [
    {
     "data": {
      "text/plain": [
       "cnvrg      0.0800\n",
       "logp     -66.1087\n",
       "chi        0.6279\n",
       "rchi       0.0628\n",
       "AIC      -54.1087\n",
       "BIC      -61.5443\n",
       "a          0.3926\n",
       "v          1.3514\n",
       "tr_0       0.3181\n",
       "tr_20      0.3065\n",
       "tr_40      0.2986\n",
       "tr_60      0.2919\n",
       "tr_80      0.2817\n",
       "tr_100     0.2785\n",
       "xb         1.0406\n",
       "dtype: float64"
      ]
     },
     "execution_count": 4,
     "metadata": {},
     "output_type": "execute_result"
    }
   ],
   "source": [
    "tr.mean()"
   ]
  },
  {
   "cell_type": "code",
   "execution_count": 5,
   "metadata": {
    "collapsed": false
   },
   "outputs": [
    {
     "data": {
      "text/plain": [
       "cnvrg      0.1584\n",
       "logp    -101.4092\n",
       "chi        0.0809\n",
       "rchi       0.0081\n",
       "AIC      -89.4092\n",
       "BIC      -96.8449\n",
       "a          0.3936\n",
       "v_0        1.0250\n",
       "v_20       1.1594\n",
       "v_40       1.3040\n",
       "v_60       1.4378\n",
       "v_80       1.5959\n",
       "v_100      1.6563\n",
       "tr         0.2954\n",
       "xb         1.0457\n",
       "dtype: float64"
      ]
     },
     "execution_count": 5,
     "metadata": {},
     "output_type": "execute_result"
    }
   ],
   "source": [
    "v.mean()"
   ]
  },
  {
   "cell_type": "code",
   "execution_count": null,
   "metadata": {
    "collapsed": true
   },
   "outputs": [],
   "source": []
  }
 ],
 "metadata": {
  "kernelspec": {
   "display_name": "Python 2",
   "language": "python",
   "name": "python2"
  },
  "language_info": {
   "codemirror_mode": {
    "name": "ipython",
    "version": 2
   },
   "file_extension": ".py",
   "mimetype": "text/x-python",
   "name": "python",
   "nbconvert_exporter": "python",
   "pygments_lexer": "ipython2",
   "version": "2.7.10"
  }
 },
 "nbformat": 4,
 "nbformat_minor": 0
}
