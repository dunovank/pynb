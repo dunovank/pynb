{
 "metadata": {
  "name": "",
  "signature": "sha256:d3c772461932747ffac6ab24d4403ad65b1a11c0a398c05b863a3a427b4d9f42"
 },
 "nbformat": 3,
 "nbformat_minor": 0,
 "worksheets": [
  {
   "cells": [
    {
     "cell_type": "code",
     "collapsed": false,
     "input": [
      "from __future__ import division\n",
      "import numpy as np\n",
      "import scipy.stats as stats\n",
      "import pandas as pd\n",
      "import matplotlib.pyplot as plt\n",
      "%matplotlib inline\n",
      "import os\n",
      "from radd import utils, fitpro\n",
      "from lmfit import Minimizer, Parameters\n",
      "from collections import OrderedDict\n",
      "pth=utils.find_path()"
     ],
     "language": "python",
     "metadata": {},
     "outputs": [],
     "prompt_number": 5
    },
    {
     "cell_type": "heading",
     "level": 1,
     "metadata": {},
     "source": [
      "Read DFs"
     ]
    },
    {
     "cell_type": "code",
     "collapsed": false,
     "input": [
      "utils=reload(utils); \n",
      "\n",
      "#df to resample for pstop\n",
      "origdf=pd.read_csv(pth+\"DataFiles/Pro_AllData.csv\", index_col=0)\n",
      "\n",
      "#init params df\n",
      "paramdf=pd.read_csv(pth+\"ParamFiles/ProBSL_HDDM_Params.csv\", index_col='subj_idx')\n",
      "\n",
      "#go to proactive bootstrap directory\n",
      "os.chdir(utils.find_path()+\"OptAccRT/proboot/\")\n"
     ],
     "language": "python",
     "metadata": {},
     "outputs": [],
     "prompt_number": 6
    },
    {
     "cell_type": "heading",
     "level": 1,
     "metadata": {},
     "source": [
      "Run Main Bootstrapping function here"
     ]
    },
    {
     "cell_type": "code",
     "collapsed": false,
     "input": [
      "fitpro=reload(fitpro); utils=reload(utils)\n",
      "\n",
      "#testdf=origdf[origdf.subj_idx.isin([28,29,30,31])]\n",
      "rtpred, pspred=main_proboot(origdf, paramdf, niter=50, ntrials=2000)\n"
     ],
     "language": "python",
     "metadata": {},
     "outputs": [
      {
       "output_type": "stream",
       "stream": "stdout",
       "text": [
        "Optimization terminated successfully.\n",
        "         Current function value: 0.021944\n",
        "         Iterations: 15\n",
        "         Function evaluations: 38\n",
        "Optimization terminated successfully."
       ]
      },
      {
       "output_type": "stream",
       "stream": "stdout",
       "text": [
        "\n",
        "         Current function value: 0.000022\n",
        "         Iterations: 7\n",
        "         Function evaluations: 14\n",
        "Optimization terminated successfully."
       ]
      },
      {
       "output_type": "stream",
       "stream": "stdout",
       "text": [
        "\n",
        "         Current function value: 0.004234\n",
        "         Iterations: 7\n",
        "         Function evaluations: 15\n",
        "Optimization terminated successfully."
       ]
      },
      {
       "output_type": "stream",
       "stream": "stdout",
       "text": [
        "\n",
        "         Current function value: 0.011256\n",
        "         Iterations: 6\n",
        "         Function evaluations: 12\n",
        "Optimization terminated successfully."
       ]
      },
      {
       "output_type": "stream",
       "stream": "stdout",
       "text": [
        "\n",
        "         Current function value: 0.004707\n",
        "         Iterations: 5\n",
        "         Function evaluations: 10\n",
        "Optimization terminated successfully."
       ]
      },
      {
       "output_type": "stream",
       "stream": "stdout",
       "text": [
        "\n",
        "         Current function value: 0.002495\n",
        "         Iterations: 5\n",
        "         Function evaluations: 11\n",
        "Optimization terminated successfully."
       ]
      },
      {
       "output_type": "stream",
       "stream": "stdout",
       "text": [
        "\n",
        "         Current function value: 0.021188\n",
        "         Iterations: 10\n",
        "         Function evaluations: 23\n",
        "Optimization terminated successfully."
       ]
      },
      {
       "output_type": "stream",
       "stream": "stdout",
       "text": [
        "\n",
        "         Current function value: 0.000284\n",
        "         Iterations: 7\n",
        "         Function evaluations: 14\n",
        "Optimization terminated successfully."
       ]
      },
      {
       "output_type": "stream",
       "stream": "stdout",
       "text": [
        "\n",
        "         Current function value: 0.006615\n",
        "         Iterations: 8\n",
        "         Function evaluations: 16\n",
        "Optimization terminated successfully."
       ]
      },
      {
       "output_type": "stream",
       "stream": "stdout",
       "text": [
        "\n",
        "         Current function value: 0.011783\n",
        "         Iterations: 6\n",
        "         Function evaluations: 12\n",
        "Optimization terminated successfully."
       ]
      },
      {
       "output_type": "stream",
       "stream": "stdout",
       "text": [
        "\n",
        "         Current function value: 0.003882\n",
        "         Iterations: 5\n",
        "         Function evaluations: 11\n",
        "Optimization terminated successfully."
       ]
      },
      {
       "output_type": "stream",
       "stream": "stdout",
       "text": [
        "\n",
        "         Current function value: 0.002753\n",
        "         Iterations: 5\n",
        "         Function evaluations: 11\n",
        "Optimization terminated successfully."
       ]
      },
      {
       "output_type": "stream",
       "stream": "stdout",
       "text": [
        "\n",
        "         Current function value: 0.007371\n",
        "         Iterations: 37\n",
        "         Function evaluations: 95\n",
        "Optimization terminated successfully."
       ]
      },
      {
       "output_type": "stream",
       "stream": "stdout",
       "text": [
        "\n",
        "         Current function value: 0.000372\n",
        "         Iterations: 8\n",
        "         Function evaluations: 17\n",
        "Optimization terminated successfully."
       ]
      },
      {
       "output_type": "stream",
       "stream": "stdout",
       "text": [
        "\n",
        "         Current function value: 0.004396\n",
        "         Iterations: 7\n",
        "         Function evaluations: 14\n",
        "Optimization terminated successfully."
       ]
      },
      {
       "output_type": "stream",
       "stream": "stdout",
       "text": [
        "\n",
        "         Current function value: 0.011961\n",
        "         Iterations: 6\n",
        "         Function evaluations: 12\n",
        "Optimization terminated successfully."
       ]
      },
      {
       "output_type": "stream",
       "stream": "stdout",
       "text": [
        "\n",
        "         Current function value: 0.005563\n",
        "         Iterations: 5\n",
        "         Function evaluations: 11\n",
        "Optimization terminated successfully."
       ]
      },
      {
       "output_type": "stream",
       "stream": "stdout",
       "text": [
        "\n",
        "         Current function value: 0.002929\n",
        "         Iterations: 5\n",
        "         Function evaluations: 11\n",
        "Optimization terminated successfully."
       ]
      },
      {
       "output_type": "stream",
       "stream": "stdout",
       "text": [
        "\n",
        "         Current function value: 0.028164\n",
        "         Iterations: 8\n",
        "         Function evaluations: 18\n",
        "Optimization terminated successfully."
       ]
      },
      {
       "output_type": "stream",
       "stream": "stdout",
       "text": [
        "\n",
        "         Current function value: 0.000083\n",
        "         Iterations: 8\n",
        "         Function evaluations: 17\n",
        "Optimization terminated successfully."
       ]
      },
      {
       "output_type": "stream",
       "stream": "stdout",
       "text": [
        "\n",
        "         Current function value: 0.005081\n",
        "         Iterations: 7\n",
        "         Function evaluations: 14\n",
        "Optimization terminated successfully."
       ]
      },
      {
       "output_type": "stream",
       "stream": "stdout",
       "text": [
        "\n",
        "         Current function value: 0.011594\n",
        "         Iterations: 6\n",
        "         Function evaluations: 12\n",
        "Optimization terminated successfully."
       ]
      },
      {
       "output_type": "stream",
       "stream": "stdout",
       "text": [
        "\n",
        "         Current function value: 0.004401\n",
        "         Iterations: 5\n",
        "         Function evaluations: 11\n",
        "Optimization terminated successfully."
       ]
      },
      {
       "output_type": "stream",
       "stream": "stdout",
       "text": [
        "\n",
        "         Current function value: 0.002104\n",
        "         Iterations: 6\n",
        "         Function evaluations: 12\n",
        "Optimization terminated successfully."
       ]
      },
      {
       "output_type": "stream",
       "stream": "stdout",
       "text": [
        "\n",
        "         Current function value: 0.021724\n",
        "         Iterations: 13\n",
        "         Function evaluations: 30\n",
        "Optimization terminated successfully."
       ]
      },
      {
       "output_type": "stream",
       "stream": "stdout",
       "text": [
        "\n",
        "         Current function value: 0.000513\n",
        "         Iterations: 8\n",
        "         Function evaluations: 17\n",
        "Optimization terminated successfully."
       ]
      },
      {
       "output_type": "stream",
       "stream": "stdout",
       "text": [
        "\n",
        "         Current function value: 0.003419\n",
        "         Iterations: 7\n",
        "         Function evaluations: 15\n",
        "Optimization terminated successfully."
       ]
      },
      {
       "output_type": "stream",
       "stream": "stdout",
       "text": [
        "\n",
        "         Current function value: 0.012036\n",
        "         Iterations: 6\n",
        "         Function evaluations: 12\n",
        "Optimization terminated successfully."
       ]
      },
      {
       "output_type": "stream",
       "stream": "stdout",
       "text": [
        "\n",
        "         Current function value: 0.005065\n",
        "         Iterations: 5\n",
        "         Function evaluations: 10\n",
        "Optimization terminated successfully."
       ]
      },
      {
       "output_type": "stream",
       "stream": "stdout",
       "text": [
        "\n",
        "         Current function value: 0.002343\n",
        "         Iterations: 5\n",
        "         Function evaluations: 12\n",
        "Optimization terminated successfully."
       ]
      },
      {
       "output_type": "stream",
       "stream": "stdout",
       "text": [
        "\n",
        "         Current function value: 0.033999\n",
        "         Iterations: 8\n",
        "         Function evaluations: 18\n",
        "Optimization terminated successfully."
       ]
      },
      {
       "output_type": "stream",
       "stream": "stdout",
       "text": [
        "\n",
        "         Current function value: 0.000782\n",
        "         Iterations: 8\n",
        "         Function evaluations: 17\n",
        "Optimization terminated successfully."
       ]
      },
      {
       "output_type": "stream",
       "stream": "stdout",
       "text": [
        "\n",
        "         Current function value: 0.003796\n",
        "         Iterations: 7\n",
        "         Function evaluations: 15\n",
        "Optimization terminated successfully."
       ]
      },
      {
       "output_type": "stream",
       "stream": "stdout",
       "text": [
        "\n",
        "         Current function value: 0.011009\n",
        "         Iterations: 6\n",
        "         Function evaluations: 12\n",
        "Optimization terminated successfully."
       ]
      },
      {
       "output_type": "stream",
       "stream": "stdout",
       "text": [
        "\n",
        "         Current function value: 0.004856\n",
        "         Iterations: 5\n",
        "         Function evaluations: 10\n",
        "Optimization terminated successfully."
       ]
      },
      {
       "output_type": "stream",
       "stream": "stdout",
       "text": [
        "\n",
        "         Current function value: 0.002565\n",
        "         Iterations: 5\n",
        "         Function evaluations: 11\n",
        "Optimization terminated successfully."
       ]
      },
      {
       "output_type": "stream",
       "stream": "stdout",
       "text": [
        "\n",
        "         Current function value: 0.005586\n",
        "         Iterations: 16\n",
        "         Function evaluations: 40\n",
        "Optimization terminated successfully."
       ]
      },
      {
       "output_type": "stream",
       "stream": "stdout",
       "text": [
        "\n",
        "         Current function value: 0.000563\n",
        "         Iterations: 8\n",
        "         Function evaluations: 16\n",
        "Optimization terminated successfully."
       ]
      },
      {
       "output_type": "stream",
       "stream": "stdout",
       "text": [
        "\n",
        "         Current function value: 0.005727\n",
        "         Iterations: 7\n",
        "         Function evaluations: 14\n",
        "Optimization terminated successfully."
       ]
      },
      {
       "output_type": "stream",
       "stream": "stdout",
       "text": [
        "\n",
        "         Current function value: 0.010307\n",
        "         Iterations: 6\n",
        "         Function evaluations: 12\n",
        "Optimization terminated successfully."
       ]
      },
      {
       "output_type": "stream",
       "stream": "stdout",
       "text": [
        "\n",
        "         Current function value: 0.004765\n",
        "         Iterations: 5\n",
        "         Function evaluations: 10\n",
        "Optimization terminated successfully."
       ]
      },
      {
       "output_type": "stream",
       "stream": "stdout",
       "text": [
        "\n",
        "         Current function value: 0.002262\n",
        "         Iterations: 5\n",
        "         Function evaluations: 11\n",
        "Optimization terminated successfully."
       ]
      },
      {
       "output_type": "stream",
       "stream": "stdout",
       "text": [
        "\n",
        "         Current function value: 0.025176\n",
        "         Iterations: 12\n",
        "         Function evaluations: 29\n",
        "Optimization terminated successfully."
       ]
      },
      {
       "output_type": "stream",
       "stream": "stdout",
       "text": [
        "\n",
        "         Current function value: 0.000606\n",
        "         Iterations: 8\n",
        "         Function evaluations: 16\n",
        "Optimization terminated successfully."
       ]
      },
      {
       "output_type": "stream",
       "stream": "stdout",
       "text": [
        "\n",
        "         Current function value: 0.006387\n",
        "         Iterations: 7\n",
        "         Function evaluations: 14\n",
        "Optimization terminated successfully."
       ]
      },
      {
       "output_type": "stream",
       "stream": "stdout",
       "text": [
        "\n",
        "         Current function value: 0.012233\n",
        "         Iterations: 6\n",
        "         Function evaluations: 13\n",
        "Optimization terminated successfully."
       ]
      },
      {
       "output_type": "stream",
       "stream": "stdout",
       "text": [
        "\n",
        "         Current function value: 0.004712\n",
        "         Iterations: 5\n",
        "         Function evaluations: 11\n",
        "Optimization terminated successfully."
       ]
      },
      {
       "output_type": "stream",
       "stream": "stdout",
       "text": [
        "\n",
        "         Current function value: 0.002720\n",
        "         Iterations: 5\n",
        "         Function evaluations: 10\n",
        "Optimization terminated successfully."
       ]
      },
      {
       "output_type": "stream",
       "stream": "stdout",
       "text": [
        "\n",
        "         Current function value: 0.025051\n",
        "         Iterations: 14\n",
        "         Function evaluations: 35\n",
        "Optimization terminated successfully."
       ]
      },
      {
       "output_type": "stream",
       "stream": "stdout",
       "text": [
        "\n",
        "         Current function value: 0.000669\n",
        "         Iterations: 8\n",
        "         Function evaluations: 17\n",
        "Optimization terminated successfully."
       ]
      },
      {
       "output_type": "stream",
       "stream": "stdout",
       "text": [
        "\n",
        "         Current function value: 0.004756\n",
        "         Iterations: 7\n",
        "         Function evaluations: 15\n",
        "Optimization terminated successfully."
       ]
      },
      {
       "output_type": "stream",
       "stream": "stdout",
       "text": [
        "\n",
        "         Current function value: 0.010028\n",
        "         Iterations: 6\n",
        "         Function evaluations: 13\n",
        "Optimization terminated successfully."
       ]
      },
      {
       "output_type": "stream",
       "stream": "stdout",
       "text": [
        "\n",
        "         Current function value: 0.004571\n",
        "         Iterations: 5\n",
        "         Function evaluations: 11\n",
        "Optimization terminated successfully."
       ]
      },
      {
       "output_type": "stream",
       "stream": "stdout",
       "text": [
        "\n",
        "         Current function value: 0.002144\n",
        "         Iterations: 5\n",
        "         Function evaluations: 11\n",
        "Optimization terminated successfully."
       ]
      },
      {
       "output_type": "stream",
       "stream": "stdout",
       "text": [
        "\n",
        "         Current function value: 0.024298\n",
        "         Iterations: 35\n",
        "         Function evaluations: 91\n",
        "Optimization terminated successfully."
       ]
      },
      {
       "output_type": "stream",
       "stream": "stdout",
       "text": [
        "\n",
        "         Current function value: 0.001141\n",
        "         Iterations: 9\n",
        "         Function evaluations: 19\n",
        "Optimization terminated successfully."
       ]
      },
      {
       "output_type": "stream",
       "stream": "stdout",
       "text": [
        "\n",
        "         Current function value: 0.005576\n",
        "         Iterations: 7\n",
        "         Function evaluations: 14\n",
        "Optimization terminated successfully."
       ]
      },
      {
       "output_type": "stream",
       "stream": "stdout",
       "text": [
        "\n",
        "         Current function value: 0.012377\n",
        "         Iterations: 6\n",
        "         Function evaluations: 12\n",
        "Optimization terminated successfully."
       ]
      },
      {
       "output_type": "stream",
       "stream": "stdout",
       "text": [
        "\n",
        "         Current function value: 0.005006\n",
        "         Iterations: 5\n",
        "         Function evaluations: 11\n",
        "Optimization terminated successfully."
       ]
      },
      {
       "output_type": "stream",
       "stream": "stdout",
       "text": [
        "\n",
        "         Current function value: 0.001987\n",
        "         Iterations: 5\n",
        "         Function evaluations: 10\n",
        "Optimization terminated successfully."
       ]
      },
      {
       "output_type": "stream",
       "stream": "stdout",
       "text": [
        "\n",
        "         Current function value: 0.004827\n",
        "         Iterations: 10\n",
        "         Function evaluations: 23\n",
        "Optimization terminated successfully."
       ]
      },
      {
       "output_type": "stream",
       "stream": "stdout",
       "text": [
        "\n",
        "         Current function value: 0.000769\n",
        "         Iterations: 9\n",
        "         Function evaluations: 19\n",
        "Optimization terminated successfully."
       ]
      },
      {
       "output_type": "stream",
       "stream": "stdout",
       "text": [
        "\n",
        "         Current function value: 0.005433\n",
        "         Iterations: 7\n",
        "         Function evaluations: 15\n",
        "Optimization terminated successfully."
       ]
      },
      {
       "output_type": "stream",
       "stream": "stdout",
       "text": [
        "\n",
        "         Current function value: 0.011348\n",
        "         Iterations: 6\n",
        "         Function evaluations: 13\n",
        "Optimization terminated successfully."
       ]
      },
      {
       "output_type": "stream",
       "stream": "stdout",
       "text": [
        "\n",
        "         Current function value: 0.004573\n",
        "         Iterations: 5\n",
        "         Function evaluations: 11\n",
        "Optimization terminated successfully."
       ]
      },
      {
       "output_type": "stream",
       "stream": "stdout",
       "text": [
        "\n",
        "         Current function value: 0.002641\n",
        "         Iterations: 5\n",
        "         Function evaluations: 10\n",
        "Optimization terminated successfully."
       ]
      },
      {
       "output_type": "stream",
       "stream": "stdout",
       "text": [
        "\n",
        "         Current function value: 0.013173\n",
        "         Iterations: 13\n",
        "         Function evaluations: 30\n",
        "Optimization terminated successfully."
       ]
      },
      {
       "output_type": "stream",
       "stream": "stdout",
       "text": [
        "\n",
        "         Current function value: 0.000226\n",
        "         Iterations: 8\n",
        "         Function evaluations: 17\n",
        "Optimization terminated successfully."
       ]
      },
      {
       "output_type": "stream",
       "stream": "stdout",
       "text": [
        "\n",
        "         Current function value: 0.004521\n",
        "         Iterations: 7\n",
        "         Function evaluations: 15\n",
        "Optimization terminated successfully."
       ]
      },
      {
       "output_type": "stream",
       "stream": "stdout",
       "text": [
        "\n",
        "         Current function value: 0.011905\n",
        "         Iterations: 6\n",
        "         Function evaluations: 13\n",
        "Optimization terminated successfully."
       ]
      },
      {
       "output_type": "stream",
       "stream": "stdout",
       "text": [
        "\n",
        "         Current function value: 0.004753\n",
        "         Iterations: 5\n",
        "         Function evaluations: 10\n",
        "Optimization terminated successfully."
       ]
      },
      {
       "output_type": "stream",
       "stream": "stdout",
       "text": [
        "\n",
        "         Current function value: 0.002445\n",
        "         Iterations: 5\n",
        "         Function evaluations: 10\n",
        "Optimization terminated successfully."
       ]
      },
      {
       "output_type": "stream",
       "stream": "stdout",
       "text": [
        "\n",
        "         Current function value: 0.021322\n",
        "         Iterations: 17\n",
        "         Function evaluations: 44\n",
        "Optimization terminated successfully."
       ]
      },
      {
       "output_type": "stream",
       "stream": "stdout",
       "text": [
        "\n",
        "         Current function value: 0.000201\n",
        "         Iterations: 8\n",
        "         Function evaluations: 16\n",
        "Optimization terminated successfully."
       ]
      },
      {
       "output_type": "stream",
       "stream": "stdout",
       "text": [
        "\n",
        "         Current function value: 0.004571\n",
        "         Iterations: 7\n",
        "         Function evaluations: 14\n",
        "Optimization terminated successfully."
       ]
      },
      {
       "output_type": "stream",
       "stream": "stdout",
       "text": [
        "\n",
        "         Current function value: 0.009843\n",
        "         Iterations: 6\n",
        "         Function evaluations: 12\n",
        "Optimization terminated successfully."
       ]
      },
      {
       "output_type": "stream",
       "stream": "stdout",
       "text": [
        "\n",
        "         Current function value: 0.004941\n",
        "         Iterations: 5\n",
        "         Function evaluations: 10\n",
        "Optimization terminated successfully."
       ]
      },
      {
       "output_type": "stream",
       "stream": "stdout",
       "text": [
        "\n",
        "         Current function value: 0.002902\n",
        "         Iterations: 5\n",
        "         Function evaluations: 10\n",
        "Optimization terminated successfully."
       ]
      },
      {
       "output_type": "stream",
       "stream": "stdout",
       "text": [
        "\n",
        "         Current function value: 0.006496\n",
        "         Iterations: 27\n",
        "         Function evaluations: 72\n",
        "Optimization terminated successfully."
       ]
      },
      {
       "output_type": "stream",
       "stream": "stdout",
       "text": [
        "\n",
        "         Current function value: 0.000107\n",
        "         Iterations: 8\n",
        "         Function evaluations: 16\n",
        "Optimization terminated successfully."
       ]
      },
      {
       "output_type": "stream",
       "stream": "stdout",
       "text": [
        "\n",
        "         Current function value: 0.004850\n",
        "         Iterations: 7\n",
        "         Function evaluations: 14\n",
        "Optimization terminated successfully."
       ]
      },
      {
       "output_type": "stream",
       "stream": "stdout",
       "text": [
        "\n",
        "         Current function value: 0.009512\n",
        "         Iterations: 7\n",
        "         Function evaluations: 14\n",
        "Optimization terminated successfully."
       ]
      },
      {
       "output_type": "stream",
       "stream": "stdout",
       "text": [
        "\n",
        "         Current function value: 0.004383\n",
        "         Iterations: 5\n",
        "         Function evaluations: 11\n",
        "Optimization terminated successfully."
       ]
      },
      {
       "output_type": "stream",
       "stream": "stdout",
       "text": [
        "\n",
        "         Current function value: 0.002779\n",
        "         Iterations: 5\n",
        "         Function evaluations: 10\n",
        "Optimization terminated successfully."
       ]
      },
      {
       "output_type": "stream",
       "stream": "stdout",
       "text": [
        "\n",
        "         Current function value: 0.020693\n",
        "         Iterations: 9\n",
        "         Function evaluations: 22\n",
        "Optimization terminated successfully."
       ]
      },
      {
       "output_type": "stream",
       "stream": "stdout",
       "text": [
        "\n",
        "         Current function value: 0.000282\n",
        "         Iterations: 8\n",
        "         Function evaluations: 17\n",
        "Optimization terminated successfully."
       ]
      },
      {
       "output_type": "stream",
       "stream": "stdout",
       "text": [
        "\n",
        "         Current function value: 0.005337\n",
        "         Iterations: 7\n",
        "         Function evaluations: 15\n",
        "Optimization terminated successfully."
       ]
      },
      {
       "output_type": "stream",
       "stream": "stdout",
       "text": [
        "\n",
        "         Current function value: 0.011508\n",
        "         Iterations: 6\n",
        "         Function evaluations: 14\n",
        "Optimization terminated successfully."
       ]
      },
      {
       "output_type": "stream",
       "stream": "stdout",
       "text": [
        "\n",
        "         Current function value: 0.004125\n",
        "         Iterations: 5\n",
        "         Function evaluations: 10\n",
        "Optimization terminated successfully."
       ]
      },
      {
       "output_type": "stream",
       "stream": "stdout",
       "text": [
        "\n",
        "         Current function value: 0.003025\n",
        "         Iterations: 6\n",
        "         Function evaluations: 14\n",
        "Optimization terminated successfully."
       ]
      },
      {
       "output_type": "stream",
       "stream": "stdout",
       "text": [
        "\n",
        "         Current function value: 0.022567\n",
        "         Iterations: 11\n",
        "         Function evaluations: 26\n",
        "Optimization terminated successfully."
       ]
      },
      {
       "output_type": "stream",
       "stream": "stdout",
       "text": [
        "\n",
        "         Current function value: 0.000988\n",
        "         Iterations: 7\n",
        "         Function evaluations: 14\n",
        "Optimization terminated successfully."
       ]
      },
      {
       "output_type": "stream",
       "stream": "stdout",
       "text": [
        "\n",
        "         Current function value: 0.005848\n",
        "         Iterations: 7\n",
        "         Function evaluations: 15\n",
        "Optimization terminated successfully."
       ]
      },
      {
       "output_type": "stream",
       "stream": "stdout",
       "text": [
        "\n",
        "         Current function value: 0.010956\n",
        "         Iterations: 6\n",
        "         Function evaluations: 12\n",
        "Optimization terminated successfully."
       ]
      },
      {
       "output_type": "stream",
       "stream": "stdout",
       "text": [
        "\n",
        "         Current function value: 0.005187\n",
        "         Iterations: 5\n",
        "         Function evaluations: 10\n",
        "Optimization terminated successfully."
       ]
      },
      {
       "output_type": "stream",
       "stream": "stdout",
       "text": [
        "\n",
        "         Current function value: 0.002421\n",
        "         Iterations: 5\n",
        "         Function evaluations: 11\n",
        "Optimization terminated successfully."
       ]
      },
      {
       "output_type": "stream",
       "stream": "stdout",
       "text": [
        "\n",
        "         Current function value: 0.009246\n",
        "         Iterations: 25\n",
        "         Function evaluations: 69\n",
        "Optimization terminated successfully."
       ]
      },
      {
       "output_type": "stream",
       "stream": "stdout",
       "text": [
        "\n",
        "         Current function value: 0.000002\n",
        "         Iterations: 8\n",
        "         Function evaluations: 16\n",
        "Optimization terminated successfully."
       ]
      },
      {
       "output_type": "stream",
       "stream": "stdout",
       "text": [
        "\n",
        "         Current function value: 0.004558\n",
        "         Iterations: 7\n",
        "         Function evaluations: 14\n",
        "Optimization terminated successfully."
       ]
      },
      {
       "output_type": "stream",
       "stream": "stdout",
       "text": [
        "\n",
        "         Current function value: 0.011275\n",
        "         Iterations: 6\n",
        "         Function evaluations: 13\n",
        "Optimization terminated successfully."
       ]
      },
      {
       "output_type": "stream",
       "stream": "stdout",
       "text": [
        "\n",
        "         Current function value: 0.004245\n",
        "         Iterations: 5\n",
        "         Function evaluations: 11\n",
        "Optimization terminated successfully."
       ]
      },
      {
       "output_type": "stream",
       "stream": "stdout",
       "text": [
        "\n",
        "         Current function value: 0.002714\n",
        "         Iterations: 5\n",
        "         Function evaluations: 11\n",
        "Optimization terminated successfully."
       ]
      },
      {
       "output_type": "stream",
       "stream": "stdout",
       "text": [
        "\n",
        "         Current function value: 0.007609\n",
        "         Iterations: 17\n",
        "         Function evaluations: 44\n",
        "Optimization terminated successfully."
       ]
      },
      {
       "output_type": "stream",
       "stream": "stdout",
       "text": [
        "\n",
        "         Current function value: 0.000213\n",
        "         Iterations: 7\n",
        "         Function evaluations: 14\n",
        "Optimization terminated successfully."
       ]
      },
      {
       "output_type": "stream",
       "stream": "stdout",
       "text": [
        "\n",
        "         Current function value: 0.005214\n",
        "         Iterations: 7\n",
        "         Function evaluations: 15\n",
        "Optimization terminated successfully."
       ]
      },
      {
       "output_type": "stream",
       "stream": "stdout",
       "text": [
        "\n",
        "         Current function value: 0.011270\n",
        "         Iterations: 6\n",
        "         Function evaluations: 12\n",
        "Optimization terminated successfully."
       ]
      },
      {
       "output_type": "stream",
       "stream": "stdout",
       "text": [
        "\n",
        "         Current function value: 0.004595\n",
        "         Iterations: 5\n",
        "         Function evaluations: 11\n",
        "Optimization terminated successfully."
       ]
      },
      {
       "output_type": "stream",
       "stream": "stdout",
       "text": [
        "\n",
        "         Current function value: 0.002907\n",
        "         Iterations: 6\n",
        "         Function evaluations: 12\n",
        "Optimization terminated successfully."
       ]
      },
      {
       "output_type": "stream",
       "stream": "stdout",
       "text": [
        "\n",
        "         Current function value: 0.025169\n",
        "         Iterations: 9\n",
        "         Function evaluations: 22\n",
        "Optimization terminated successfully."
       ]
      },
      {
       "output_type": "stream",
       "stream": "stdout",
       "text": [
        "\n",
        "         Current function value: 0.000299\n",
        "         Iterations: 8\n",
        "         Function evaluations: 18\n",
        "Optimization terminated successfully."
       ]
      },
      {
       "output_type": "stream",
       "stream": "stdout",
       "text": [
        "\n",
        "         Current function value: 0.004725\n",
        "         Iterations: 7\n",
        "         Function evaluations: 14\n",
        "Optimization terminated successfully."
       ]
      },
      {
       "output_type": "stream",
       "stream": "stdout",
       "text": [
        "\n",
        "         Current function value: 0.013418\n",
        "         Iterations: 6\n",
        "         Function evaluations: 12\n",
        "Optimization terminated successfully."
       ]
      },
      {
       "output_type": "stream",
       "stream": "stdout",
       "text": [
        "\n",
        "         Current function value: 0.004648\n",
        "         Iterations: 6\n",
        "         Function evaluations: 14\n",
        "Optimization terminated successfully."
       ]
      },
      {
       "output_type": "stream",
       "stream": "stdout",
       "text": [
        "\n",
        "         Current function value: 0.002712\n",
        "         Iterations: 5\n",
        "         Function evaluations: 11\n",
        "Optimization terminated successfully."
       ]
      },
      {
       "output_type": "stream",
       "stream": "stdout",
       "text": [
        "\n",
        "         Current function value: 0.017533\n",
        "         Iterations: 10\n",
        "         Function evaluations: 25\n",
        "Optimization terminated successfully."
       ]
      },
      {
       "output_type": "stream",
       "stream": "stdout",
       "text": [
        "\n",
        "         Current function value: 0.000901\n",
        "         Iterations: 7\n",
        "         Function evaluations: 16\n",
        "Optimization terminated successfully."
       ]
      },
      {
       "output_type": "stream",
       "stream": "stdout",
       "text": [
        "\n",
        "         Current function value: 0.005391\n",
        "         Iterations: 7\n",
        "         Function evaluations: 14\n",
        "Optimization terminated successfully."
       ]
      },
      {
       "output_type": "stream",
       "stream": "stdout",
       "text": [
        "\n",
        "         Current function value: 0.010967\n",
        "         Iterations: 6\n",
        "         Function evaluations: 12\n",
        "Optimization terminated successfully."
       ]
      },
      {
       "output_type": "stream",
       "stream": "stdout",
       "text": [
        "\n",
        "         Current function value: 0.004549\n",
        "         Iterations: 5\n",
        "         Function evaluations: 11\n",
        "Optimization terminated successfully."
       ]
      },
      {
       "output_type": "stream",
       "stream": "stdout",
       "text": [
        "\n",
        "         Current function value: 0.002787\n",
        "         Iterations: 5\n",
        "         Function evaluations: 12\n",
        "Optimization terminated successfully."
       ]
      },
      {
       "output_type": "stream",
       "stream": "stdout",
       "text": [
        "\n",
        "         Current function value: 0.004342\n",
        "         Iterations: 36\n",
        "         Function evaluations: 94\n",
        "Optimization terminated successfully."
       ]
      },
      {
       "output_type": "stream",
       "stream": "stdout",
       "text": [
        "\n",
        "         Current function value: 0.000156\n",
        "         Iterations: 8\n",
        "         Function evaluations: 17\n",
        "Optimization terminated successfully."
       ]
      },
      {
       "output_type": "stream",
       "stream": "stdout",
       "text": [
        "\n",
        "         Current function value: 0.004872\n",
        "         Iterations: 7\n",
        "         Function evaluations: 15\n",
        "Optimization terminated successfully."
       ]
      },
      {
       "output_type": "stream",
       "stream": "stdout",
       "text": [
        "\n",
        "         Current function value: 0.012530\n",
        "         Iterations: 6\n",
        "         Function evaluations: 12\n",
        "Optimization terminated successfully."
       ]
      },
      {
       "output_type": "stream",
       "stream": "stdout",
       "text": [
        "\n",
        "         Current function value: 0.004480\n",
        "         Iterations: 5\n",
        "         Function evaluations: 11\n",
        "Optimization terminated successfully."
       ]
      },
      {
       "output_type": "stream",
       "stream": "stdout",
       "text": [
        "\n",
        "         Current function value: 0.001792\n",
        "         Iterations: 5\n",
        "         Function evaluations: 11\n",
        "Optimization terminated successfully."
       ]
      },
      {
       "output_type": "stream",
       "stream": "stdout",
       "text": [
        "\n",
        "         Current function value: 0.013851\n",
        "         Iterations: 10\n",
        "         Function evaluations: 21\n",
        "Optimization terminated successfully."
       ]
      },
      {
       "output_type": "stream",
       "stream": "stdout",
       "text": [
        "\n",
        "         Current function value: 0.000597\n",
        "         Iterations: 7\n",
        "         Function evaluations: 15\n",
        "Optimization terminated successfully."
       ]
      },
      {
       "output_type": "stream",
       "stream": "stdout",
       "text": [
        "\n",
        "         Current function value: 0.006356\n",
        "         Iterations: 7\n",
        "         Function evaluations: 15\n",
        "Optimization terminated successfully."
       ]
      },
      {
       "output_type": "stream",
       "stream": "stdout",
       "text": [
        "\n",
        "         Current function value: 0.011441\n",
        "         Iterations: 6\n",
        "         Function evaluations: 13\n",
        "Optimization terminated successfully."
       ]
      },
      {
       "output_type": "stream",
       "stream": "stdout",
       "text": [
        "\n",
        "         Current function value: 0.005075\n",
        "         Iterations: 5\n",
        "         Function evaluations: 11\n",
        "Optimization terminated successfully."
       ]
      },
      {
       "output_type": "stream",
       "stream": "stdout",
       "text": [
        "\n",
        "         Current function value: 0.002884\n",
        "         Iterations: 6\n",
        "         Function evaluations: 13\n",
        "Optimization terminated successfully."
       ]
      },
      {
       "output_type": "stream",
       "stream": "stdout",
       "text": [
        "\n",
        "         Current function value: 0.010156\n",
        "         Iterations: 21\n",
        "         Function evaluations: 53\n",
        "Optimization terminated successfully."
       ]
      },
      {
       "output_type": "stream",
       "stream": "stdout",
       "text": [
        "\n",
        "         Current function value: 0.000398\n",
        "         Iterations: 7\n",
        "         Function evaluations: 14\n",
        "Optimization terminated successfully."
       ]
      },
      {
       "output_type": "stream",
       "stream": "stdout",
       "text": [
        "\n",
        "         Current function value: 0.004901\n",
        "         Iterations: 7\n",
        "         Function evaluations: 14\n",
        "Optimization terminated successfully."
       ]
      },
      {
       "output_type": "stream",
       "stream": "stdout",
       "text": [
        "\n",
        "         Current function value: 0.011449\n",
        "         Iterations: 6\n",
        "         Function evaluations: 13\n",
        "Optimization terminated successfully."
       ]
      },
      {
       "output_type": "stream",
       "stream": "stdout",
       "text": [
        "\n",
        "         Current function value: 0.005243\n",
        "         Iterations: 5\n",
        "         Function evaluations: 10\n",
        "Optimization terminated successfully."
       ]
      },
      {
       "output_type": "stream",
       "stream": "stdout",
       "text": [
        "\n",
        "         Current function value: 0.002853\n",
        "         Iterations: 5\n",
        "         Function evaluations: 11\n",
        "Optimization terminated successfully."
       ]
      },
      {
       "output_type": "stream",
       "stream": "stdout",
       "text": [
        "\n",
        "         Current function value: 0.034735\n",
        "         Iterations: 9\n",
        "         Function evaluations: 21\n",
        "Optimization terminated successfully."
       ]
      },
      {
       "output_type": "stream",
       "stream": "stdout",
       "text": [
        "\n",
        "         Current function value: 0.000428\n",
        "         Iterations: 9\n",
        "         Function evaluations: 18\n",
        "Optimization terminated successfully."
       ]
      },
      {
       "output_type": "stream",
       "stream": "stdout",
       "text": [
        "\n",
        "         Current function value: 0.007245\n",
        "         Iterations: 7\n",
        "         Function evaluations: 15\n",
        "Optimization terminated successfully."
       ]
      },
      {
       "output_type": "stream",
       "stream": "stdout",
       "text": [
        "\n",
        "         Current function value: 0.011222\n",
        "         Iterations: 6\n",
        "         Function evaluations: 12\n",
        "Optimization terminated successfully."
       ]
      },
      {
       "output_type": "stream",
       "stream": "stdout",
       "text": [
        "\n",
        "         Current function value: 0.005112\n",
        "         Iterations: 5\n",
        "         Function evaluations: 11\n",
        "Optimization terminated successfully."
       ]
      },
      {
       "output_type": "stream",
       "stream": "stdout",
       "text": [
        "\n",
        "         Current function value: 0.003604\n",
        "         Iterations: 5\n",
        "         Function evaluations: 10\n",
        "Optimization terminated successfully."
       ]
      },
      {
       "output_type": "stream",
       "stream": "stdout",
       "text": [
        "\n",
        "         Current function value: 0.023590\n",
        "         Iterations: 19\n",
        "         Function evaluations: 47\n",
        "Optimization terminated successfully."
       ]
      },
      {
       "output_type": "stream",
       "stream": "stdout",
       "text": [
        "\n",
        "         Current function value: 0.001058\n",
        "         Iterations: 8\n",
        "         Function evaluations: 17\n",
        "Optimization terminated successfully."
       ]
      },
      {
       "output_type": "stream",
       "stream": "stdout",
       "text": [
        "\n",
        "         Current function value: 0.005732\n",
        "         Iterations: 7\n",
        "         Function evaluations: 14\n",
        "Optimization terminated successfully."
       ]
      },
      {
       "output_type": "stream",
       "stream": "stdout",
       "text": [
        "\n",
        "         Current function value: 0.011352\n",
        "         Iterations: 6\n",
        "         Function evaluations: 12\n",
        "Optimization terminated successfully."
       ]
      },
      {
       "output_type": "stream",
       "stream": "stdout",
       "text": [
        "\n",
        "         Current function value: 0.005315\n",
        "         Iterations: 5\n",
        "         Function evaluations: 10\n",
        "Optimization terminated successfully."
       ]
      },
      {
       "output_type": "stream",
       "stream": "stdout",
       "text": [
        "\n",
        "         Current function value: 0.003035\n",
        "         Iterations: 5\n",
        "         Function evaluations: 12\n",
        "Optimization terminated successfully."
       ]
      },
      {
       "output_type": "stream",
       "stream": "stdout",
       "text": [
        "\n",
        "         Current function value: 0.029904\n",
        "         Iterations: 10\n",
        "         Function evaluations: 23\n",
        "Optimization terminated successfully."
       ]
      },
      {
       "output_type": "stream",
       "stream": "stdout",
       "text": [
        "\n",
        "         Current function value: 0.000598\n",
        "         Iterations: 8\n",
        "         Function evaluations: 16\n",
        "Optimization terminated successfully."
       ]
      },
      {
       "output_type": "stream",
       "stream": "stdout",
       "text": [
        "\n",
        "         Current function value: 0.004144\n",
        "         Iterations: 7\n",
        "         Function evaluations: 15\n",
        "Optimization terminated successfully."
       ]
      },
      {
       "output_type": "stream",
       "stream": "stdout",
       "text": [
        "\n",
        "         Current function value: 0.009401\n",
        "         Iterations: 6\n",
        "         Function evaluations: 14\n",
        "Optimization terminated successfully."
       ]
      },
      {
       "output_type": "stream",
       "stream": "stdout",
       "text": [
        "\n",
        "         Current function value: 0.004766\n",
        "         Iterations: 6\n",
        "         Function evaluations: 13\n",
        "Optimization terminated successfully."
       ]
      },
      {
       "output_type": "stream",
       "stream": "stdout",
       "text": [
        "\n",
        "         Current function value: 0.001802\n",
        "         Iterations: 5\n",
        "         Function evaluations: 11\n",
        "Optimization terminated successfully."
       ]
      },
      {
       "output_type": "stream",
       "stream": "stdout",
       "text": [
        "\n",
        "         Current function value: 0.024495\n",
        "         Iterations: 16\n",
        "         Function evaluations: 40\n",
        "Optimization terminated successfully."
       ]
      },
      {
       "output_type": "stream",
       "stream": "stdout",
       "text": [
        "\n",
        "         Current function value: 0.000298\n",
        "         Iterations: 7\n",
        "         Function evaluations: 14\n",
        "Optimization terminated successfully."
       ]
      },
      {
       "output_type": "stream",
       "stream": "stdout",
       "text": [
        "\n",
        "         Current function value: 0.005023\n",
        "         Iterations: 7\n",
        "         Function evaluations: 14\n",
        "Optimization terminated successfully."
       ]
      },
      {
       "output_type": "stream",
       "stream": "stdout",
       "text": [
        "\n",
        "         Current function value: 0.010375\n",
        "         Iterations: 6\n",
        "         Function evaluations: 13\n",
        "Optimization terminated successfully."
       ]
      },
      {
       "output_type": "stream",
       "stream": "stdout",
       "text": [
        "\n",
        "         Current function value: 0.003990\n",
        "         Iterations: 5\n",
        "         Function evaluations: 11\n",
        "Optimization terminated successfully."
       ]
      },
      {
       "output_type": "stream",
       "stream": "stdout",
       "text": [
        "\n",
        "         Current function value: 0.002365\n",
        "         Iterations: 5\n",
        "         Function evaluations: 11\n",
        "Optimization terminated successfully."
       ]
      },
      {
       "output_type": "stream",
       "stream": "stdout",
       "text": [
        "\n",
        "         Current function value: 0.014964\n",
        "         Iterations: 9\n",
        "         Function evaluations: 22\n",
        "Optimization terminated successfully."
       ]
      },
      {
       "output_type": "stream",
       "stream": "stdout",
       "text": [
        "\n",
        "         Current function value: 0.000574\n",
        "         Iterations: 7\n",
        "         Function evaluations: 14\n",
        "Optimization terminated successfully."
       ]
      },
      {
       "output_type": "stream",
       "stream": "stdout",
       "text": [
        "\n",
        "         Current function value: 0.006326\n",
        "         Iterations: 7\n",
        "         Function evaluations: 15\n",
        "Optimization terminated successfully."
       ]
      },
      {
       "output_type": "stream",
       "stream": "stdout",
       "text": [
        "\n",
        "         Current function value: 0.011411\n",
        "         Iterations: 6\n",
        "         Function evaluations: 13\n",
        "Optimization terminated successfully."
       ]
      },
      {
       "output_type": "stream",
       "stream": "stdout",
       "text": [
        "\n",
        "         Current function value: 0.004351\n",
        "         Iterations: 5\n",
        "         Function evaluations: 10\n",
        "Optimization terminated successfully."
       ]
      },
      {
       "output_type": "stream",
       "stream": "stdout",
       "text": [
        "\n",
        "         Current function value: 0.002685\n",
        "         Iterations: 5\n",
        "         Function evaluations: 10\n",
        "Optimization terminated successfully."
       ]
      },
      {
       "output_type": "stream",
       "stream": "stdout",
       "text": [
        "\n",
        "         Current function value: 0.031456\n",
        "         Iterations: 9\n",
        "         Function evaluations: 19\n",
        "Optimization terminated successfully."
       ]
      },
      {
       "output_type": "stream",
       "stream": "stdout",
       "text": [
        "\n",
        "         Current function value: 0.000796\n",
        "         Iterations: 8\n",
        "         Function evaluations: 16\n",
        "Optimization terminated successfully."
       ]
      },
      {
       "output_type": "stream",
       "stream": "stdout",
       "text": [
        "\n",
        "         Current function value: 0.005781\n",
        "         Iterations: 7\n",
        "         Function evaluations: 14\n",
        "Optimization terminated successfully."
       ]
      },
      {
       "output_type": "stream",
       "stream": "stdout",
       "text": [
        "\n",
        "         Current function value: 0.011320\n",
        "         Iterations: 6\n",
        "         Function evaluations: 13\n",
        "Optimization terminated successfully."
       ]
      },
      {
       "output_type": "stream",
       "stream": "stdout",
       "text": [
        "\n",
        "         Current function value: 0.004220\n",
        "         Iterations: 5\n",
        "         Function evaluations: 11\n",
        "Optimization terminated successfully."
       ]
      },
      {
       "output_type": "stream",
       "stream": "stdout",
       "text": [
        "\n",
        "         Current function value: 0.001799\n",
        "         Iterations: 5\n",
        "         Function evaluations: 11\n",
        "Optimization terminated successfully."
       ]
      },
      {
       "output_type": "stream",
       "stream": "stdout",
       "text": [
        "\n",
        "         Current function value: 0.032954\n",
        "         Iterations: 8\n",
        "         Function evaluations: 18\n",
        "Optimization terminated successfully."
       ]
      },
      {
       "output_type": "stream",
       "stream": "stdout",
       "text": [
        "\n",
        "         Current function value: 0.000276\n",
        "         Iterations: 8\n",
        "         Function evaluations: 17\n",
        "Optimization terminated successfully."
       ]
      },
      {
       "output_type": "stream",
       "stream": "stdout",
       "text": [
        "\n",
        "         Current function value: 0.005258\n",
        "         Iterations: 7\n",
        "         Function evaluations: 15\n",
        "Optimization terminated successfully."
       ]
      },
      {
       "output_type": "stream",
       "stream": "stdout",
       "text": [
        "\n",
        "         Current function value: 0.011677\n",
        "         Iterations: 7\n",
        "         Function evaluations: 14\n",
        "Optimization terminated successfully."
       ]
      },
      {
       "output_type": "stream",
       "stream": "stdout",
       "text": [
        "\n",
        "         Current function value: 0.004145\n",
        "         Iterations: 5\n",
        "         Function evaluations: 11\n",
        "Optimization terminated successfully."
       ]
      },
      {
       "output_type": "stream",
       "stream": "stdout",
       "text": [
        "\n",
        "         Current function value: 0.003071\n",
        "         Iterations: 5\n",
        "         Function evaluations: 10\n",
        "Optimization terminated successfully."
       ]
      },
      {
       "output_type": "stream",
       "stream": "stdout",
       "text": [
        "\n",
        "         Current function value: 0.018225\n",
        "         Iterations: 9\n",
        "         Function evaluations: 21\n",
        "Optimization terminated successfully."
       ]
      },
      {
       "output_type": "stream",
       "stream": "stdout",
       "text": [
        "\n",
        "         Current function value: 0.000801\n",
        "         Iterations: 8\n",
        "         Function evaluations: 16\n",
        "Optimization terminated successfully."
       ]
      },
      {
       "output_type": "stream",
       "stream": "stdout",
       "text": [
        "\n",
        "         Current function value: 0.005715\n",
        "         Iterations: 7\n",
        "         Function evaluations: 14\n",
        "Optimization terminated successfully."
       ]
      },
      {
       "output_type": "stream",
       "stream": "stdout",
       "text": [
        "\n",
        "         Current function value: 0.012258\n",
        "         Iterations: 6\n",
        "         Function evaluations: 12\n",
        "Optimization terminated successfully."
       ]
      },
      {
       "output_type": "stream",
       "stream": "stdout",
       "text": [
        "\n",
        "         Current function value: 0.005283\n",
        "         Iterations: 6\n",
        "         Function evaluations: 13\n",
        "Optimization terminated successfully."
       ]
      },
      {
       "output_type": "stream",
       "stream": "stdout",
       "text": [
        "\n",
        "         Current function value: 0.002607\n",
        "         Iterations: 5\n",
        "         Function evaluations: 11\n",
        "Optimization terminated successfully."
       ]
      },
      {
       "output_type": "stream",
       "stream": "stdout",
       "text": [
        "\n",
        "         Current function value: 0.033214\n",
        "         Iterations: 8\n",
        "         Function evaluations: 19\n",
        "Optimization terminated successfully."
       ]
      },
      {
       "output_type": "stream",
       "stream": "stdout",
       "text": [
        "\n",
        "         Current function value: 0.000832\n",
        "         Iterations: 8\n",
        "         Function evaluations: 17\n",
        "Optimization terminated successfully."
       ]
      },
      {
       "output_type": "stream",
       "stream": "stdout",
       "text": [
        "\n",
        "         Current function value: 0.004963\n",
        "         Iterations: 7\n",
        "         Function evaluations: 14\n",
        "Optimization terminated successfully."
       ]
      },
      {
       "output_type": "stream",
       "stream": "stdout",
       "text": [
        "\n",
        "         Current function value: 0.013026\n",
        "         Iterations: 7\n",
        "         Function evaluations: 15\n",
        "Optimization terminated successfully."
       ]
      },
      {
       "output_type": "stream",
       "stream": "stdout",
       "text": [
        "\n",
        "         Current function value: 0.004299\n",
        "         Iterations: 5\n",
        "         Function evaluations: 10\n",
        "Optimization terminated successfully."
       ]
      },
      {
       "output_type": "stream",
       "stream": "stdout",
       "text": [
        "\n",
        "         Current function value: 0.003075\n",
        "         Iterations: 5\n",
        "         Function evaluations: 12\n",
        "Optimization terminated successfully."
       ]
      },
      {
       "output_type": "stream",
       "stream": "stdout",
       "text": [
        "\n",
        "         Current function value: 0.024672\n",
        "         Iterations: 9\n",
        "         Function evaluations: 19\n",
        "Optimization terminated successfully."
       ]
      },
      {
       "output_type": "stream",
       "stream": "stdout",
       "text": [
        "\n",
        "         Current function value: 0.000876\n",
        "         Iterations: 7\n",
        "         Function evaluations: 15\n",
        "Optimization terminated successfully."
       ]
      },
      {
       "output_type": "stream",
       "stream": "stdout",
       "text": [
        "\n",
        "         Current function value: 0.005801\n",
        "         Iterations: 7\n",
        "         Function evaluations: 14\n",
        "Optimization terminated successfully."
       ]
      },
      {
       "output_type": "stream",
       "stream": "stdout",
       "text": [
        "\n",
        "         Current function value: 0.012677\n",
        "         Iterations: 6\n",
        "         Function evaluations: 13\n",
        "Optimization terminated successfully."
       ]
      },
      {
       "output_type": "stream",
       "stream": "stdout",
       "text": [
        "\n",
        "         Current function value: 0.005449\n",
        "         Iterations: 5\n",
        "         Function evaluations: 11\n",
        "Optimization terminated successfully."
       ]
      },
      {
       "output_type": "stream",
       "stream": "stdout",
       "text": [
        "\n",
        "         Current function value: 0.003202\n",
        "         Iterations: 6\n",
        "         Function evaluations: 12\n",
        "Optimization terminated successfully."
       ]
      },
      {
       "output_type": "stream",
       "stream": "stdout",
       "text": [
        "\n",
        "         Current function value: 0.004285\n",
        "         Iterations: 34\n",
        "         Function evaluations: 89\n",
        "Optimization terminated successfully."
       ]
      },
      {
       "output_type": "stream",
       "stream": "stdout",
       "text": [
        "\n",
        "         Current function value: 0.000333\n",
        "         Iterations: 8\n",
        "         Function evaluations: 17\n",
        "Optimization terminated successfully."
       ]
      },
      {
       "output_type": "stream",
       "stream": "stdout",
       "text": [
        "\n",
        "         Current function value: 0.004871\n",
        "         Iterations: 7\n",
        "         Function evaluations: 14\n",
        "Optimization terminated successfully."
       ]
      },
      {
       "output_type": "stream",
       "stream": "stdout",
       "text": [
        "\n",
        "         Current function value: 0.010299\n",
        "         Iterations: 6\n",
        "         Function evaluations: 14\n",
        "Optimization terminated successfully."
       ]
      },
      {
       "output_type": "stream",
       "stream": "stdout",
       "text": [
        "\n",
        "         Current function value: 0.004546\n",
        "         Iterations: 5\n",
        "         Function evaluations: 11\n",
        "Optimization terminated successfully."
       ]
      },
      {
       "output_type": "stream",
       "stream": "stdout",
       "text": [
        "\n",
        "         Current function value: 0.002154\n",
        "         Iterations: 5\n",
        "         Function evaluations: 12\n",
        "Optimization terminated successfully."
       ]
      },
      {
       "output_type": "stream",
       "stream": "stdout",
       "text": [
        "\n",
        "         Current function value: 0.035985\n",
        "         Iterations: 8\n",
        "         Function evaluations: 17\n",
        "Optimization terminated successfully."
       ]
      },
      {
       "output_type": "stream",
       "stream": "stdout",
       "text": [
        "\n",
        "         Current function value: 0.000382\n",
        "         Iterations: 8\n",
        "         Function evaluations: 16\n",
        "Optimization terminated successfully."
       ]
      },
      {
       "output_type": "stream",
       "stream": "stdout",
       "text": [
        "\n",
        "         Current function value: 0.005353\n",
        "         Iterations: 7\n",
        "         Function evaluations: 15\n",
        "Optimization terminated successfully."
       ]
      },
      {
       "output_type": "stream",
       "stream": "stdout",
       "text": [
        "\n",
        "         Current function value: 0.012596\n",
        "         Iterations: 6\n",
        "         Function evaluations: 13\n",
        "Optimization terminated successfully."
       ]
      },
      {
       "output_type": "stream",
       "stream": "stdout",
       "text": [
        "\n",
        "         Current function value: 0.004452\n",
        "         Iterations: 5\n",
        "         Function evaluations: 11\n",
        "Optimization terminated successfully."
       ]
      },
      {
       "output_type": "stream",
       "stream": "stdout",
       "text": [
        "\n",
        "         Current function value: 0.003053\n",
        "         Iterations: 6\n",
        "         Function evaluations: 12\n",
        "Optimization terminated successfully."
       ]
      },
      {
       "output_type": "stream",
       "stream": "stdout",
       "text": [
        "\n",
        "         Current function value: 0.026650\n",
        "         Iterations: 9\n",
        "         Function evaluations: 20\n",
        "Optimization terminated successfully."
       ]
      },
      {
       "output_type": "stream",
       "stream": "stdout",
       "text": [
        "\n",
        "         Current function value: 0.000628\n",
        "         Iterations: 8\n",
        "         Function evaluations: 16\n",
        "Optimization terminated successfully."
       ]
      },
      {
       "output_type": "stream",
       "stream": "stdout",
       "text": [
        "\n",
        "         Current function value: 0.004910\n",
        "         Iterations: 7\n",
        "         Function evaluations: 16\n",
        "Optimization terminated successfully."
       ]
      },
      {
       "output_type": "stream",
       "stream": "stdout",
       "text": [
        "\n",
        "         Current function value: 0.009508\n",
        "         Iterations: 6\n",
        "         Function evaluations: 13\n",
        "Optimization terminated successfully."
       ]
      },
      {
       "output_type": "stream",
       "stream": "stdout",
       "text": [
        "\n",
        "         Current function value: 0.005399\n",
        "         Iterations: 5\n",
        "         Function evaluations: 10\n",
        "Optimization terminated successfully."
       ]
      },
      {
       "output_type": "stream",
       "stream": "stdout",
       "text": [
        "\n",
        "         Current function value: 0.002644\n",
        "         Iterations: 6\n",
        "         Function evaluations: 12\n",
        "Optimization terminated successfully."
       ]
      },
      {
       "output_type": "stream",
       "stream": "stdout",
       "text": [
        "\n",
        "         Current function value: 0.025643\n",
        "         Iterations: 12\n",
        "         Function evaluations: 29\n",
        "Optimization terminated successfully."
       ]
      },
      {
       "output_type": "stream",
       "stream": "stdout",
       "text": [
        "\n",
        "         Current function value: 0.000683\n",
        "         Iterations: 8\n",
        "         Function evaluations: 16\n",
        "Optimization terminated successfully."
       ]
      },
      {
       "output_type": "stream",
       "stream": "stdout",
       "text": [
        "\n",
        "         Current function value: 0.006182\n",
        "         Iterations: 7\n",
        "         Function evaluations: 15\n",
        "Optimization terminated successfully."
       ]
      },
      {
       "output_type": "stream",
       "stream": "stdout",
       "text": [
        "\n",
        "         Current function value: 0.011464\n",
        "         Iterations: 6\n",
        "         Function evaluations: 12\n",
        "Optimization terminated successfully."
       ]
      },
      {
       "output_type": "stream",
       "stream": "stdout",
       "text": [
        "\n",
        "         Current function value: 0.004997\n",
        "         Iterations: 5\n",
        "         Function evaluations: 10\n",
        "Optimization terminated successfully."
       ]
      },
      {
       "output_type": "stream",
       "stream": "stdout",
       "text": [
        "\n",
        "         Current function value: 0.002397\n",
        "         Iterations: 6\n",
        "         Function evaluations: 13\n",
        "Optimization terminated successfully."
       ]
      },
      {
       "output_type": "stream",
       "stream": "stdout",
       "text": [
        "\n",
        "         Current function value: 0.025359\n",
        "         Iterations: 19\n",
        "         Function evaluations: 50\n",
        "Optimization terminated successfully."
       ]
      },
      {
       "output_type": "stream",
       "stream": "stdout",
       "text": [
        "\n",
        "         Current function value: 0.000456\n",
        "         Iterations: 7\n",
        "         Function evaluations: 14\n",
        "Optimization terminated successfully."
       ]
      },
      {
       "output_type": "stream",
       "stream": "stdout",
       "text": [
        "\n",
        "         Current function value: 0.005448\n",
        "         Iterations: 7\n",
        "         Function evaluations: 16\n",
        "Optimization terminated successfully."
       ]
      },
      {
       "output_type": "stream",
       "stream": "stdout",
       "text": [
        "\n",
        "         Current function value: 0.010851\n",
        "         Iterations: 6\n",
        "         Function evaluations: 14\n",
        "Optimization terminated successfully."
       ]
      },
      {
       "output_type": "stream",
       "stream": "stdout",
       "text": [
        "\n",
        "         Current function value: 0.004767\n",
        "         Iterations: 5\n",
        "         Function evaluations: 10\n",
        "Optimization terminated successfully."
       ]
      },
      {
       "output_type": "stream",
       "stream": "stdout",
       "text": [
        "\n",
        "         Current function value: 0.003055\n",
        "         Iterations: 5\n",
        "         Function evaluations: 11\n",
        "Optimization terminated successfully."
       ]
      },
      {
       "output_type": "stream",
       "stream": "stdout",
       "text": [
        "\n",
        "         Current function value: 0.036893\n",
        "         Iterations: 11\n",
        "         Function evaluations: 24\n",
        "Optimization terminated successfully."
       ]
      },
      {
       "output_type": "stream",
       "stream": "stdout",
       "text": [
        "\n",
        "         Current function value: 0.000720\n",
        "         Iterations: 7\n",
        "         Function evaluations: 14\n",
        "Optimization terminated successfully."
       ]
      },
      {
       "output_type": "stream",
       "stream": "stdout",
       "text": [
        "\n",
        "         Current function value: 0.004519\n",
        "         Iterations: 7\n",
        "         Function evaluations: 14\n",
        "Optimization terminated successfully."
       ]
      },
      {
       "output_type": "stream",
       "stream": "stdout",
       "text": [
        "\n",
        "         Current function value: 0.012567\n",
        "         Iterations: 6\n",
        "         Function evaluations: 12\n",
        "Optimization terminated successfully."
       ]
      },
      {
       "output_type": "stream",
       "stream": "stdout",
       "text": [
        "\n",
        "         Current function value: 0.004126\n",
        "         Iterations: 5\n",
        "         Function evaluations: 11\n",
        "Optimization terminated successfully."
       ]
      },
      {
       "output_type": "stream",
       "stream": "stdout",
       "text": [
        "\n",
        "         Current function value: 0.003414\n",
        "         Iterations: 5\n",
        "         Function evaluations: 11\n",
        "Optimization terminated successfully."
       ]
      },
      {
       "output_type": "stream",
       "stream": "stdout",
       "text": [
        "\n",
        "         Current function value: 0.022058\n",
        "         Iterations: 8\n",
        "         Function evaluations: 20\n",
        "Optimization terminated successfully."
       ]
      },
      {
       "output_type": "stream",
       "stream": "stdout",
       "text": [
        "\n",
        "         Current function value: 0.000207\n",
        "         Iterations: 7\n",
        "         Function evaluations: 14\n",
        "Optimization terminated successfully."
       ]
      },
      {
       "output_type": "stream",
       "stream": "stdout",
       "text": [
        "\n",
        "         Current function value: 0.005794\n",
        "         Iterations: 7\n",
        "         Function evaluations: 15\n",
        "Optimization terminated successfully."
       ]
      },
      {
       "output_type": "stream",
       "stream": "stdout",
       "text": [
        "\n",
        "         Current function value: 0.011971\n",
        "         Iterations: 7\n",
        "         Function evaluations: 15\n",
        "Optimization terminated successfully."
       ]
      },
      {
       "output_type": "stream",
       "stream": "stdout",
       "text": [
        "\n",
        "         Current function value: 0.004193\n",
        "         Iterations: 6\n",
        "         Function evaluations: 14\n",
        "Optimization terminated successfully."
       ]
      },
      {
       "output_type": "stream",
       "stream": "stdout",
       "text": [
        "\n",
        "         Current function value: 0.003797\n",
        "         Iterations: 5\n",
        "         Function evaluations: 11\n",
        "Optimization terminated successfully."
       ]
      },
      {
       "output_type": "stream",
       "stream": "stdout",
       "text": [
        "\n",
        "         Current function value: 0.021700\n",
        "         Iterations: 10\n",
        "         Function evaluations: 25\n",
        "Optimization terminated successfully."
       ]
      },
      {
       "output_type": "stream",
       "stream": "stdout",
       "text": [
        "\n",
        "         Current function value: 0.000433\n",
        "         Iterations: 8\n",
        "         Function evaluations: 16\n",
        "Optimization terminated successfully."
       ]
      },
      {
       "output_type": "stream",
       "stream": "stdout",
       "text": [
        "\n",
        "         Current function value: 0.005204\n",
        "         Iterations: 7\n",
        "         Function evaluations: 14\n",
        "Optimization terminated successfully."
       ]
      },
      {
       "output_type": "stream",
       "stream": "stdout",
       "text": [
        "\n",
        "         Current function value: 0.012575\n",
        "         Iterations: 6\n",
        "         Function evaluations: 12\n",
        "Optimization terminated successfully."
       ]
      },
      {
       "output_type": "stream",
       "stream": "stdout",
       "text": [
        "\n",
        "         Current function value: 0.004230\n",
        "         Iterations: 5\n",
        "         Function evaluations: 11\n",
        "Optimization terminated successfully."
       ]
      },
      {
       "output_type": "stream",
       "stream": "stdout",
       "text": [
        "\n",
        "         Current function value: 0.002567\n",
        "         Iterations: 5\n",
        "         Function evaluations: 11\n",
        "Optimization terminated successfully."
       ]
      },
      {
       "output_type": "stream",
       "stream": "stdout",
       "text": [
        "\n",
        "         Current function value: 0.012882\n",
        "         Iterations: 9\n",
        "         Function evaluations: 22\n",
        "Optimization terminated successfully."
       ]
      },
      {
       "output_type": "stream",
       "stream": "stdout",
       "text": [
        "\n",
        "         Current function value: 0.000658\n",
        "         Iterations: 8\n",
        "         Function evaluations: 16\n",
        "Optimization terminated successfully."
       ]
      },
      {
       "output_type": "stream",
       "stream": "stdout",
       "text": [
        "\n",
        "         Current function value: 0.003934\n",
        "         Iterations: 7\n",
        "         Function evaluations: 14\n",
        "Optimization terminated successfully."
       ]
      },
      {
       "output_type": "stream",
       "stream": "stdout",
       "text": [
        "\n",
        "         Current function value: 0.011413\n",
        "         Iterations: 6\n",
        "         Function evaluations: 12\n",
        "Optimization terminated successfully."
       ]
      },
      {
       "output_type": "stream",
       "stream": "stdout",
       "text": [
        "\n",
        "         Current function value: 0.005529\n",
        "         Iterations: 5\n",
        "         Function evaluations: 10\n",
        "Optimization terminated successfully."
       ]
      },
      {
       "output_type": "stream",
       "stream": "stdout",
       "text": [
        "\n",
        "         Current function value: 0.002634\n",
        "         Iterations: 5\n",
        "         Function evaluations: 11\n",
        "Optimization terminated successfully."
       ]
      },
      {
       "output_type": "stream",
       "stream": "stdout",
       "text": [
        "\n",
        "         Current function value: 0.026657\n",
        "         Iterations: 8\n",
        "         Function evaluations: 18\n",
        "Optimization terminated successfully."
       ]
      },
      {
       "output_type": "stream",
       "stream": "stdout",
       "text": [
        "\n",
        "         Current function value: 0.000614\n",
        "         Iterations: 8\n",
        "         Function evaluations: 17\n",
        "Optimization terminated successfully."
       ]
      },
      {
       "output_type": "stream",
       "stream": "stdout",
       "text": [
        "\n",
        "         Current function value: 0.005537\n",
        "         Iterations: 8\n",
        "         Function evaluations: 16\n",
        "Optimization terminated successfully."
       ]
      },
      {
       "output_type": "stream",
       "stream": "stdout",
       "text": [
        "\n",
        "         Current function value: 0.011451\n",
        "         Iterations: 6\n",
        "         Function evaluations: 13\n",
        "Optimization terminated successfully."
       ]
      },
      {
       "output_type": "stream",
       "stream": "stdout",
       "text": [
        "\n",
        "         Current function value: 0.004242\n",
        "         Iterations: 5\n",
        "         Function evaluations: 10\n",
        "Optimization terminated successfully."
       ]
      },
      {
       "output_type": "stream",
       "stream": "stdout",
       "text": [
        "\n",
        "         Current function value: 0.002863\n",
        "         Iterations: 5\n",
        "         Function evaluations: 12\n",
        "Optimization terminated successfully."
       ]
      },
      {
       "output_type": "stream",
       "stream": "stdout",
       "text": [
        "\n",
        "         Current function value: 0.025025\n",
        "         Iterations: 9\n",
        "         Function evaluations: 20\n",
        "Optimization terminated successfully."
       ]
      },
      {
       "output_type": "stream",
       "stream": "stdout",
       "text": [
        "\n",
        "         Current function value: 0.001043\n",
        "         Iterations: 7\n",
        "         Function evaluations: 14\n",
        "Optimization terminated successfully."
       ]
      },
      {
       "output_type": "stream",
       "stream": "stdout",
       "text": [
        "\n",
        "         Current function value: 0.005071\n",
        "         Iterations: 7\n",
        "         Function evaluations: 14\n",
        "Optimization terminated successfully."
       ]
      },
      {
       "output_type": "stream",
       "stream": "stdout",
       "text": [
        "\n",
        "         Current function value: 0.011025\n",
        "         Iterations: 6\n",
        "         Function evaluations: 13\n",
        "Optimization terminated successfully."
       ]
      },
      {
       "output_type": "stream",
       "stream": "stdout",
       "text": [
        "\n",
        "         Current function value: 0.004800\n",
        "         Iterations: 5\n",
        "         Function evaluations: 11\n",
        "Optimization terminated successfully."
       ]
      },
      {
       "output_type": "stream",
       "stream": "stdout",
       "text": [
        "\n",
        "         Current function value: 0.002951\n",
        "         Iterations: 6\n",
        "         Function evaluations: 13\n",
        "Optimization terminated successfully."
       ]
      },
      {
       "output_type": "stream",
       "stream": "stdout",
       "text": [
        "\n",
        "         Current function value: 0.013281\n",
        "         Iterations: 19\n",
        "         Function evaluations: 47\n",
        "Optimization terminated successfully."
       ]
      },
      {
       "output_type": "stream",
       "stream": "stdout",
       "text": [
        "\n",
        "         Current function value: 0.000836\n",
        "         Iterations: 8\n",
        "         Function evaluations: 17\n",
        "Optimization terminated successfully."
       ]
      },
      {
       "output_type": "stream",
       "stream": "stdout",
       "text": [
        "\n",
        "         Current function value: 0.004895\n",
        "         Iterations: 7\n",
        "         Function evaluations: 14\n",
        "Optimization terminated successfully."
       ]
      },
      {
       "output_type": "stream",
       "stream": "stdout",
       "text": [
        "\n",
        "         Current function value: 0.010643\n",
        "         Iterations: 6\n",
        "         Function evaluations: 14\n",
        "Optimization terminated successfully."
       ]
      },
      {
       "output_type": "stream",
       "stream": "stdout",
       "text": [
        "\n",
        "         Current function value: 0.004920\n",
        "         Iterations: 5\n",
        "         Function evaluations: 10\n",
        "Optimization terminated successfully."
       ]
      },
      {
       "output_type": "stream",
       "stream": "stdout",
       "text": [
        "\n",
        "         Current function value: 0.001815\n",
        "         Iterations: 5\n",
        "         Function evaluations: 11\n",
        "Optimization terminated successfully."
       ]
      },
      {
       "output_type": "stream",
       "stream": "stdout",
       "text": [
        "\n",
        "         Current function value: 0.030356\n",
        "         Iterations: 12\n",
        "         Function evaluations: 30\n",
        "Optimization terminated successfully."
       ]
      },
      {
       "output_type": "stream",
       "stream": "stdout",
       "text": [
        "\n",
        "         Current function value: 0.000962\n",
        "         Iterations: 8\n",
        "         Function evaluations: 16\n",
        "Optimization terminated successfully."
       ]
      },
      {
       "output_type": "stream",
       "stream": "stdout",
       "text": [
        "\n",
        "         Current function value: 0.004459\n",
        "         Iterations: 7\n",
        "         Function evaluations: 15\n",
        "Optimization terminated successfully."
       ]
      },
      {
       "output_type": "stream",
       "stream": "stdout",
       "text": [
        "\n",
        "         Current function value: 0.011349\n",
        "         Iterations: 6\n",
        "         Function evaluations: 13\n",
        "Optimization terminated successfully."
       ]
      },
      {
       "output_type": "stream",
       "stream": "stdout",
       "text": [
        "\n",
        "         Current function value: 0.004356\n",
        "         Iterations: 5\n",
        "         Function evaluations: 10\n",
        "Optimization terminated successfully."
       ]
      },
      {
       "output_type": "stream",
       "stream": "stdout",
       "text": [
        "\n",
        "         Current function value: 0.002395\n",
        "         Iterations: 5\n",
        "         Function evaluations: 10\n",
        "Optimization terminated successfully."
       ]
      },
      {
       "output_type": "stream",
       "stream": "stdout",
       "text": [
        "\n",
        "         Current function value: 0.027883\n",
        "         Iterations: 8\n",
        "         Function evaluations: 18\n",
        "Optimization terminated successfully."
       ]
      },
      {
       "output_type": "stream",
       "stream": "stdout",
       "text": [
        "\n",
        "         Current function value: 0.000499\n",
        "         Iterations: 7\n",
        "         Function evaluations: 14\n",
        "Optimization terminated successfully."
       ]
      },
      {
       "output_type": "stream",
       "stream": "stdout",
       "text": [
        "\n",
        "         Current function value: 0.006008\n",
        "         Iterations: 8\n",
        "         Function evaluations: 17\n",
        "Optimization terminated successfully."
       ]
      },
      {
       "output_type": "stream",
       "stream": "stdout",
       "text": [
        "\n",
        "         Current function value: 0.009934\n",
        "         Iterations: 6\n",
        "         Function evaluations: 13\n",
        "Optimization terminated successfully."
       ]
      },
      {
       "output_type": "stream",
       "stream": "stdout",
       "text": [
        "\n",
        "         Current function value: 0.004099\n",
        "         Iterations: 5\n",
        "         Function evaluations: 11\n",
        "Optimization terminated successfully."
       ]
      },
      {
       "output_type": "stream",
       "stream": "stdout",
       "text": [
        "\n",
        "         Current function value: 0.002658\n",
        "         Iterations: 5\n",
        "         Function evaluations: 12\n",
        "Optimization terminated successfully."
       ]
      },
      {
       "output_type": "stream",
       "stream": "stdout",
       "text": [
        "\n",
        "         Current function value: 0.022006\n",
        "         Iterations: 12\n",
        "         Function evaluations: 27\n",
        "Optimization terminated successfully."
       ]
      },
      {
       "output_type": "stream",
       "stream": "stdout",
       "text": [
        "\n",
        "         Current function value: 0.000450\n",
        "         Iterations: 7\n",
        "         Function evaluations: 14\n",
        "Optimization terminated successfully."
       ]
      },
      {
       "output_type": "stream",
       "stream": "stdout",
       "text": [
        "\n",
        "         Current function value: 0.004528\n",
        "         Iterations: 7\n",
        "         Function evaluations: 14\n",
        "Optimization terminated successfully."
       ]
      },
      {
       "output_type": "stream",
       "stream": "stdout",
       "text": [
        "\n",
        "         Current function value: 0.011021\n",
        "         Iterations: 6\n",
        "         Function evaluations: 13\n",
        "Optimization terminated successfully."
       ]
      },
      {
       "output_type": "stream",
       "stream": "stdout",
       "text": [
        "\n",
        "         Current function value: 0.005312\n",
        "         Iterations: 5\n",
        "         Function evaluations: 11\n",
        "Optimization terminated successfully."
       ]
      },
      {
       "output_type": "stream",
       "stream": "stdout",
       "text": [
        "\n",
        "         Current function value: 0.002637\n",
        "         Iterations: 5\n",
        "         Function evaluations: 11\n",
        "Optimization terminated successfully."
       ]
      },
      {
       "output_type": "stream",
       "stream": "stdout",
       "text": [
        "\n",
        "         Current function value: 0.022588\n",
        "         Iterations: 10\n",
        "         Function evaluations: 22\n",
        "Optimization terminated successfully."
       ]
      },
      {
       "output_type": "stream",
       "stream": "stdout",
       "text": [
        "\n",
        "         Current function value: 0.000087\n",
        "         Iterations: 8\n",
        "         Function evaluations: 16\n",
        "Optimization terminated successfully."
       ]
      },
      {
       "output_type": "stream",
       "stream": "stdout",
       "text": [
        "\n",
        "         Current function value: 0.004971\n",
        "         Iterations: 8\n",
        "         Function evaluations: 17\n",
        "Optimization terminated successfully."
       ]
      },
      {
       "output_type": "stream",
       "stream": "stdout",
       "text": [
        "\n",
        "         Current function value: 0.011548\n",
        "         Iterations: 6\n",
        "         Function evaluations: 12\n",
        "Optimization terminated successfully."
       ]
      },
      {
       "output_type": "stream",
       "stream": "stdout",
       "text": [
        "\n",
        "         Current function value: 0.004229\n",
        "         Iterations: 6\n",
        "         Function evaluations: 13\n",
        "Optimization terminated successfully."
       ]
      },
      {
       "output_type": "stream",
       "stream": "stdout",
       "text": [
        "\n",
        "         Current function value: 0.002747\n",
        "         Iterations: 5\n",
        "         Function evaluations: 11\n",
        "Optimization terminated successfully."
       ]
      },
      {
       "output_type": "stream",
       "stream": "stdout",
       "text": [
        "\n",
        "         Current function value: 0.041123\n",
        "         Iterations: 9\n",
        "         Function evaluations: 20\n",
        "Optimization terminated successfully."
       ]
      },
      {
       "output_type": "stream",
       "stream": "stdout",
       "text": [
        "\n",
        "         Current function value: 0.000729\n",
        "         Iterations: 8\n",
        "         Function evaluations: 17\n",
        "Optimization terminated successfully."
       ]
      },
      {
       "output_type": "stream",
       "stream": "stdout",
       "text": [
        "\n",
        "         Current function value: 0.004676\n",
        "         Iterations: 7\n",
        "         Function evaluations: 15\n",
        "Optimization terminated successfully."
       ]
      },
      {
       "output_type": "stream",
       "stream": "stdout",
       "text": [
        "\n",
        "         Current function value: 0.012016\n",
        "         Iterations: 6\n",
        "         Function evaluations: 13\n",
        "Optimization terminated successfully."
       ]
      },
      {
       "output_type": "stream",
       "stream": "stdout",
       "text": [
        "\n",
        "         Current function value: 0.005204\n",
        "         Iterations: 5\n",
        "         Function evaluations: 11\n",
        "Optimization terminated successfully."
       ]
      },
      {
       "output_type": "stream",
       "stream": "stdout",
       "text": [
        "\n",
        "         Current function value: 0.002390\n",
        "         Iterations: 5\n",
        "         Function evaluations: 10\n"
       ]
      }
     ],
     "prompt_number": 7
    },
    {
     "cell_type": "heading",
     "level": 1,
     "metadata": {},
     "source": [
      "Main Bootstrapping Function"
     ]
    },
    {
     "cell_type": "code",
     "collapsed": false,
     "input": [
      "def main_proboot(data, params, niter=150, ntrials=2000):\n",
      "\n",
      "    pth=utils.find_path()+\"OptAccRT/proboot/\"\n",
      "\n",
      "    inits=params.mean()\n",
      "    fit_results=list()\n",
      "    pgolist=[0,20,40,60,80,100]\n",
      "    ps_pred=pd.DataFrame(columns=pgolist, index=np.arange(niter))\n",
      "    rt_pred=pd.DataFrame(columns=pgolist, index=np.arange(niter))\n",
      "    \n",
      "    for i in range(niter):\n",
      "        \n",
      "        samplep, samplert = resample_proactive(data)        \n",
      "        fits_i, rts_i, ps_i = fit_proactive(samplep, samplert, inits, \n",
      "                                ntrials=ntrials, nx=i, pgolist=pgolist)\n",
      "        \n",
      "        fit_results.append(fits_i)   \n",
      "        rt_pred.loc[i,:]=np.array(rts_i)\n",
      "        ps_pred.loc[i,:]=np.array(ps_i)\n",
      "        \n",
      "        rt_pred.to_csv(pth+\"rwr_rts_proboot_set2.csv\", index=False)\n",
      "        ps_pred.to_csv(pth+\"rwr_ps_proboot_set2.csv\", index=False)\n",
      "    \n",
      "    fit_df=pd.concat(fit_results)    \n",
      "    fit_df.to_csv(pth+\"rwr_fits_proboot_set2.csv\", index=False)\n",
      "    \n",
      "    return rt_pred, ps_pred"
     ],
     "language": "python",
     "metadata": {},
     "outputs": [],
     "prompt_number": 4
    },
    {
     "cell_type": "heading",
     "level": 1,
     "metadata": {},
     "source": [
      "Fit single proactive dataset"
     ]
    },
    {
     "cell_type": "code",
     "collapsed": false,
     "input": [
      "def fit_proactive(xP, xRT, inits={}, ntrials=2000, nx=0, **kwargs):\n",
      "    \n",
      "    if 'pgo' not in kwargs.keys():\n",
      "        pgo=[0.0,0.2,0.4,0.6,0.8,1.0]\n",
      "    rts_i=[]; ps_i=[]\n",
      "    inits['ssd']=.450\n",
      "    fit_results=pd.DataFrame(columns=['n','pGo', 'v', 'bxp', 'pfit', 'bxrt', 'rtfit', 'chi'], index=pgo)\n",
      "    \n",
      "    for i, pg in enumerate(pgo):\n",
      "        \n",
      "        if pg<.5:\n",
      "            vinit=inits['v(Lo)']\n",
      "        else:    \n",
      "            vinit=inits['v(Hi)']\n",
      "        \n",
      "        inits['pGo']=pg\n",
      "        y=np.array([xP[i], xRT[i]*10])\n",
      "        \n",
      "        p=Parameters()\n",
      "        p.add('v', value=vinit, min=0.0, vary=True)\n",
      "        popt = Minimizer(fitpro.sspro_minfunc, p, fcn_args=(inits, y, ntrials), method='Nelder-Mead') \n",
      "        popt.fmin(maxfun=1000, ftol=1.e-2, xtol=1.e-2, full_output=True, disp=True)\n",
      "        \n",
      "        x2=popt.chisqr\n",
      "        psim=y[0]+popt.residual[0]\n",
      "        rtsim=y[1]+popt.residual[1]\n",
      "        \n",
      "        fit_results.loc[pg,:]=pd.Series(OrderedDict([('n',int(nx)),('pGo',i*20), \n",
      "                            ('v',p['v'].value), ('bxp',y[0]), ('pfit',psim), ('bxrt',y[1]), \n",
      "                            ('rtfit',rtsim), ('chi',x2)]))\n",
      "        \n",
      "        rts_i.append(rtsim); ps_i.append(psim)\n",
      "    \n",
      "    return fit_results, rts_i, ps_i"
     ],
     "language": "python",
     "metadata": {},
     "outputs": [],
     "prompt_number": 3
    },
    {
     "cell_type": "heading",
     "level": 1,
     "metadata": {},
     "source": [
      "Resample proactive dataset"
     ]
    },
    {
     "cell_type": "code",
     "collapsed": false,
     "input": [
      "def resample_proactive(df, n=None):\n",
      "    \n",
      "    pvec=list(); rtvec=list()\n",
      "    \n",
      "    if n==None:\n",
      "        n=len(df)\n",
      "    \n",
      "    df=df.copy()\n",
      "    \n",
      "    for pg, pgdf in df.groupby('pGo'):            \n",
      "        boots = pgdf.reset_index(drop=True)\n",
      "        orig_ix=np.asarray(boots.index[:])\n",
      "        \n",
      "        resampled_ix=rwr(orig_ix, get_index=True, n=n)\n",
      "        bootdf=pgdf.irow(resampled_ix)\n",
      "        \n",
      "        pvec.append(1 - bootdf.response.mean())\n",
      "        bootgo=bootdf.ix[(bootdf['response']==1)&(bootdf['rt']<=.5451)]\n",
      "        rtvec.append(bootgo.rt.mean())\n",
      "        \n",
      "    return pvec, rtvec"
     ],
     "language": "python",
     "metadata": {},
     "outputs": [],
     "prompt_number": 2
    },
    {
     "cell_type": "heading",
     "level": 1,
     "metadata": {},
     "source": [
      "Generic resample with replacement algorithm"
     ]
    },
    {
     "cell_type": "code",
     "collapsed": false,
     "input": [
      "def rwr(X, get_index=False, n=None):\n",
      "    \n",
      "    \"\"\"\n",
      "    Modified from http://nbviewer.ipython.org/gist/aflaxman/6871948\n",
      "    \"\"\"\n",
      "    #np.random.seed(123456)\n",
      "\n",
      "    if isinstance(X, pd.Series):\n",
      "        X = X.copy()\n",
      "        X.index = range(len(X.index))\n",
      "    if n == None:\n",
      "        n = len(X)\n",
      "    \n",
      "    \n",
      "    resample_i = np.floor(np.random.rand(n)*len(X)).astype(int)\n",
      "    X_resample = np.array(X[resample_i])\n",
      "    \n",
      "    if get_index:\n",
      "        return resample_i\n",
      "    else:\n",
      "        return X_resample"
     ],
     "language": "python",
     "metadata": {},
     "outputs": [],
     "prompt_number": 1
    },
    {
     "cell_type": "heading",
     "level": 1,
     "metadata": {},
     "source": [
      "Old..."
     ]
    },
    {
     "cell_type": "heading",
     "level": 1,
     "metadata": {},
     "source": [
      "Old..."
     ]
    },
    {
     "cell_type": "heading",
     "level": 1,
     "metadata": {},
     "source": [
      "Old..."
     ]
    },
    {
     "cell_type": "heading",
     "level": 1,
     "metadata": {},
     "source": [
      "Old..."
     ]
    },
    {
     "cell_type": "code",
     "collapsed": false,
     "input": [
      "def rwr_old(X, n=None):\n",
      "    \n",
      "    if isinstance(X, pd.Series):\n",
      "        X = X.copy()\n",
      "        X.index = range(len(X.index))\n",
      "    if n == None:\n",
      "        n = len(X)\n",
      "        \n",
      "    resample_i = np.floor(np.random.rand(n)*len(X)).astype(int)\n",
      "    X_resample = np.array(X[resample_i])\n",
      "\n",
      "    return X_resample\n"
     ],
     "language": "python",
     "metadata": {},
     "outputs": [],
     "prompt_number": 366
    },
    {
     "cell_type": "code",
     "collapsed": false,
     "input": [
      "def resample_proactive_old(df):\n",
      "    \n",
      "    bootlist=list()\n",
      "    for pg, pgdf in df.groupby('pGo'):\n",
      "        \n",
      "        pgdf_boot = pgdf.copy()\n",
      "        \n",
      "        #get response/rt vectors\n",
      "        pvec=pgdf['response'].values\n",
      "        rtvec=pgdf['rt'].values\n",
      "\n",
      "        #resample data for condition pg\n",
      "        xP=rwr(pvec)\n",
      "        xRT=rwr(rtvec)\n",
      "        xRT=xRT\n",
      "        \n",
      "        #fill bootstrap df with resampled trials\n",
      "        pgdf_boot['response']=xP\n",
      "        pgdf_boot['rt']=xRT\n",
      "\n",
      "        bootlist.append(pgdf_boot)\n",
      "    \n",
      "    #concatenate all resampled conditions\n",
      "    bootdf=pd.concat(bootlist)\n",
      "    pvec = 1 - bootdf.groupby('pGo').mean()['response'].values\n",
      "    \n",
      "    boot_godf=bootdf.ix[(bootdf['response']==1)&(bootdf['rt']<=.5451)]\n",
      "    rtvec = boot_godf.groupby('pGo').mean()['rt']\n",
      "    \n",
      "    return pvec, rtvec"
     ],
     "language": "python",
     "metadata": {},
     "outputs": [],
     "prompt_number": 367
    },
    {
     "cell_type": "code",
     "collapsed": false,
     "input": [
      "def bootstrap_resample(X, n=None):\n",
      "    \n",
      "    \n",
      "    \"\"\"\n",
      "    CODE WAS COPIED FROM \n",
      "    http://nbviewer.ipython.org/gist/aflaxman/6871948\n",
      "    \"\"\"\n",
      "    \n",
      "    \n",
      "    \n",
      "    \"\"\" Bootstrap resample an array_like\n",
      "    Parameters\n",
      "    ----------\n",
      "    X : array_like\n",
      "      data to resample\n",
      "    n : int, optional\n",
      "      length of resampled array, equal to len(X) if n==None\n",
      "    Results\n",
      "    -------\n",
      "    returns X_resamples\n",
      "    \"\"\"\n",
      "    if n == None:\n",
      "        n = len(X)\n",
      "        \n",
      "    resample_i = np.floor(np.random.rand(n)*len(X)).astype(int)\n",
      "    X_resample = X[resample_i]\n",
      "    return X_resample"
     ],
     "language": "python",
     "metadata": {},
     "outputs": [],
     "prompt_number": 17
    },
    {
     "cell_type": "code",
     "collapsed": false,
     "input": [
      "def test_bsr_on_df():\n",
      "\n",
      "    \"\"\"\n",
      "    CODE WAS COPIED FROM \n",
      "    http://nbviewer.ipython.org/gist/aflaxman/6871948\n",
      "    \"\"\"\n",
      "    \n",
      "    \n",
      "    # test that means are close for pd.DataFrame with unusual index\n",
      "    np.random.seed(123456)  # set seed so that randomness does not lead to failed test\n",
      "    X = pd.Series(arange(10000), index=arange(10000)*10)\n",
      "    \n",
      "    X_resample = bootstrap_resample(X, 5000)\n",
      "    print X_resample.mean(), X.mean()\n",
      "    assert abs(X_resample.mean() - X.mean()) / X.mean() < 1e-2, 'means should be approximately equal'\n",
      "    \n",
      "    test_bsr_on_df()"
     ],
     "language": "python",
     "metadata": {},
     "outputs": [
      {
       "output_type": "stream",
       "stream": "stdout",
       "text": [
        "5035.0484 4999.5\n"
       ]
      }
     ],
     "prompt_number": 24
    },
    {
     "cell_type": "code",
     "collapsed": false,
     "input": [
      "xRT = bootstrap_resample(x_rt, n=5000)\n",
      "print 'original rt:', x_rt.mean()\n",
      "print 'resampled rt:', xRT.mean(),'\\n'\n",
      "\n",
      "xP = bootstrap_resample(x_p, n=5000)\n",
      "print 'original p(response):', x_p.mean()\n",
      "print 'resampled p(response):', xP.mean()"
     ],
     "language": "python",
     "metadata": {},
     "outputs": []
    },
    {
     "cell_type": "code",
     "collapsed": false,
     "input": [
      "def fit_proactive(xP, xRT, inits={}, ntrials=2000, **kwargs):\n",
      "    \n",
      "    if 'pgo' not in kwargs.keys():\n",
      "        pgo=list(np.arange(0,1.2,.2))\n",
      "    \n",
      "    inits['ssd']=.450; x2fits=list()\n",
      "    \n",
      "    fit_results=pd.DataFrame(columns=['pGo', 'v', 'xp', \n",
      "                            'psim', 'xrt', 'rtsim', \n",
      "                             'chi'], index=pgo)\n",
      "    \n",
      "    for i, pg in enumerate(pgo):\n",
      "        if pg<.5:\n",
      "            vinit=inits['v(Lo)']\n",
      "        else:    \n",
      "            vinit=inits['v(Hi)']\n",
      "        \n",
      "        inits['pGo']=pg\n",
      "        y=np.array([xP[i], xRT[i]*10])\n",
      "        \n",
      "        p=Parameters()\n",
      "        p.add('v', value=vinit, min=0.0, vary=True)\n",
      "        popt = Minimizer(fitpro.sspro_minfunc, p, fcn_args=(inits, y, ntrials), method='Nelder-Mead') \n",
      "        popt.fmin(maxfun=10, ftol=1.e-3, xtol=1.e-3, full_output=True, disp=True)\n",
      "        \n",
      "        print popt.residual\n",
      "        psim=y[0]+popt.residual\n",
      "        #if hasattr(popt, 'chisqr'):\n",
      "        try:\n",
      "            x2=popt.chisqr[0]\n",
      "        except Exception:\n",
      "            x2=popt.chisqr\n",
      "        \n",
      "        try:\n",
      "            psim=xP[i]+popt.residual[0][0]\n",
      "        except Exception:\n",
      "            psim=xRT[i]+popt.residual[0]\n",
      "        except:\n",
      "            psim=-999\n",
      "        \n",
      "        try:\n",
      "            rtsim=xRT[i]+popt.residual[1][0]\n",
      "        except Exception:\n",
      "            rtsim=xRT[i]+popt.residual[1]\n",
      "        except:\n",
      "            rtsim=-999\n",
      "            \n",
      "            \n",
      "        fit_results.loc[pg,:]=pd.Series(OrderedDict([('pGo',pg), ('v',p['v'].value), \n",
      "                                        ('xp',xP[i]), ('psim',psim), ('xrt',xRT[i]), \n",
      "                                        ('rtsim',rtsim), ('chi',x2)]))\n",
      "    \n",
      "    return fit_results"
     ],
     "language": "python",
     "metadata": {},
     "outputs": [],
     "prompt_number": 103
    }
   ],
   "metadata": {}
  }
 ]
}