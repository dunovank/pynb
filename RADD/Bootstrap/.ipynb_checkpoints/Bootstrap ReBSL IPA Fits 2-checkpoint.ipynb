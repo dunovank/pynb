{
 "metadata": {
  "name": "",
  "signature": "sha256:61142ffac6f5424b7172029aa26b238550904831b92eb98e0ea73815f1038acc"
 },
 "nbformat": 3,
 "nbformat_minor": 0,
 "worksheets": [
  {
   "cells": [
    {
     "cell_type": "code",
     "collapsed": false,
     "input": [
      "import scipy.stats as stats\n",
      "import matplotlib.pyplot as plt\n",
      "from radd import utils, vis, reboot\n",
      "from lmfit import Minimizer, Parameters\n",
      "from collections import OrderedDict\n",
      "from IPython import parallel\n",
      "import time\n",
      "pth=utils.find_path()"
     ],
     "language": "python",
     "metadata": {},
     "outputs": [],
     "prompt_number": 50
    },
    {
     "cell_type": "heading",
     "level": 2,
     "metadata": {},
     "source": [
      "Read DFs"
     ]
    },
    {
     "cell_type": "code",
     "collapsed": false,
     "input": [
      "pth=utils.find_path()\n",
      "#df to resample for pstop\n",
      "rebsl=pd.read_csv(pth+\"DataFiles/ReBSL_Data.csv\", index_col=0)\n",
      "\n",
      "#init params df\n",
      "ipa_inits=pd.read_csv(pth+\"OptAccRT/race_model/popt_all.csv\", index_col=0)\n",
      "#go to proactive bootstrap directory\n",
      "os.chdir(pth+\"OptAccRT/Reboot/ipa/\")"
     ],
     "language": "python",
     "metadata": {},
     "outputs": [],
     "prompt_number": 51
    },
    {
     "cell_type": "code",
     "collapsed": false,
     "input": [
      "ipa_inits={name:ipa_inits[name].values[0] for name in ipa_inits.columns}"
     ],
     "language": "python",
     "metadata": {},
     "outputs": [],
     "prompt_number": 52
    },
    {
     "cell_type": "code",
     "collapsed": false,
     "input": [
      "def multiproc_bootstrap(n):\n",
      "\n",
      "    from radd import utils, reboot\n",
      "    import pandas as pd\n",
      "    reboot=reload(reboot)\n",
      "    pth=utils.find_path()\n",
      "    savepath=\"OptAccRT/Reboot/ipa/\"\n",
      "    \n",
      "    rebsl=pd.read_csv(pth+\"DataFiles/ReBSL_Data.csv\", index_col=0)\n",
      "    \n",
      "    #init params df\n",
      "    ipa_inits=pd.read_csv(pth+\"OptAccRT/race_model/popt_all.csv\", index_col=0)\n",
      "    ipa_inits={name:ipa_inits[name].values[0] for name in ipa_inits.columns}\n",
      "    \n",
      "    ipa_fits=reboot.Reboot(rebsl, ipa_inits, model=\"ipa\", save_path=savepath, niter=25, fname=str(n), ntrials=2000, maxfun=100)\n",
      "    \n",
      "    return ipa_fits"
     ],
     "language": "python",
     "metadata": {},
     "outputs": [],
     "prompt_number": 53
    },
    {
     "cell_type": "code",
     "collapsed": false,
     "input": [
      "# initialize IPython clusters \n",
      "# (ipynb home --> clusters)\n",
      "clients = parallel.Client()\n",
      "clients.block = True  # use synchronous computations\n",
      "\n",
      "allproc = clients.load_balanced_view()"
     ],
     "language": "python",
     "metadata": {},
     "outputs": [],
     "prompt_number": 54
    },
    {
     "cell_type": "heading",
     "level": 3,
     "metadata": {},
     "source": [
      "Run Main Bootstrapping function here"
     ]
    },
    {
     "cell_type": "code",
     "collapsed": false,
     "input": [
      "pth=utils.find_path()\n",
      "savepath=pth+\"OptAccRT/Reboot/ipa/\"\n",
      "\n",
      "all_proc_stats = allproc.map(multiproc_bootstrap, np.arange(len(clients)))\n",
      "\n",
      "allresults=pd.concat(all_proc_stats)\n",
      "allresults.to_csv(savepath+\"ipa_all_fits.csv\")"
     ],
     "language": "python",
     "metadata": {},
     "outputs": []
    },
    {
     "cell_type": "code",
     "collapsed": false,
     "input": [
      "allresults=pd.read_csv(savepath+\"ipa_all_fits.csv\", index_col=0)\n",
      "ipacurve=allresults.mean().values[:-1]\n",
      "ipaerr=allresults.std().values[:-1]\n",
      "\n",
      "stopdf=rebsl.query('trial_type==\"stop\"')\n",
      "saccpivot=utils.makePivot(stopdf, index='idx', cols='ssd', values='acc')\n",
      "datcurve=saccpivot.mean().values\n",
      "daterr=saccpivot.sem()*1.96\n",
      "\n",
      "\n",
      "sc=[datcurve, ipacurve]\n",
      "err=[daterr, ipaerr]\n",
      "colors=['#545454', \"#E74C3C\"]\n",
      "labels=['Data', 'IPA']\n",
      "vis.scurves(sc, yerr=err, colors=colors, labels=labels)"
     ],
     "language": "python",
     "metadata": {},
     "outputs": []
    },
    {
     "cell_type": "heading",
     "level": 1,
     "metadata": {},
     "source": [
      "Old...."
     ]
    },
    {
     "cell_type": "code",
     "collapsed": false,
     "input": [
      "ipa_df=pd.read_csv(\"rwr_rebsl_fits_ipa.csv\")\n",
      "\n",
      "sc_ipa=ipa_df.iloc[:,:-1].mean().values\n",
      "rt_ipa=ipa_df.iloc[:,-1].mean()\n",
      "sc_ipa_ci=ipa_df.iloc[:,:-1].std().values*1.96\n",
      "rt_ipa_ci=ipa_df.iloc[:,-1].std()*1.96"
     ],
     "language": "python",
     "metadata": {},
     "outputs": [],
     "prompt_number": 9
    },
    {
     "cell_type": "code",
     "collapsed": false,
     "input": [
      "ipb_df=pd.read_csv(\"rwr_rebsl_fits_ipb.csv\")\n",
      "\n",
      "sc_ipb=ipb_df.iloc[:,:-1].mean().values\n",
      "rt_ipb=ipb_df.iloc[:,-1].mean()\n",
      "sc_ipb_ci=ipb_df.iloc[:,:-1].std().values*1.96\n",
      "rt_ipb_ci=ipb_df.iloc[:,-1].std()*1.96"
     ],
     "language": "python",
     "metadata": {},
     "outputs": [],
     "prompt_number": 15
    },
    {
     "cell_type": "code",
     "collapsed": false,
     "input": [
      "bxdf=pd.read_csv(\"rwr_rebsl_fitinfo_radd.csv\", index_col=0)\n",
      "\n",
      "bxdata=bxdf.groupby('ssdlist').mean()['ydata'].values\n",
      "bxerr=bxdf.groupby('ssdlist')['ydata'].std().values*1.96\n",
      "scbx=bxdata[:-1]\n",
      "rtbx=bxdata[-1]\n",
      "scbx_ci=bxerr[:-1]\n",
      "rtbx_ci=bxerr[-1]\n"
     ],
     "language": "python",
     "metadata": {},
     "outputs": [],
     "prompt_number": 14
    },
    {
     "cell_type": "code",
     "collapsed": false,
     "input": [
      "sc=[scbx, scradd, sc_ip]\n",
      "scerr=[scbx_ci, scradd_ci, sc_ip_ci]\n",
      "\n",
      "colors=['#34495E','#1ABC9C', \"#E74C3C\"]\n",
      "labels=['Data', 'RADD', 'IP']\n",
      "\n",
      "ax=vis.scurves(sc, yerr=scerr, colors=colors, labels=labels)\n",
      "\n",
      "plt.savefig(\"Reboot_SCurves_RADDvIP_95CI.png\", format='png', dpi=600)\n",
      "plt.savefig(\"Reboot_SCurves_RADDvIP_95CI.svg\", rasterized=True, dpi=600)\n",
      "plt.savefig(\"Reboot_SCurves_RADDvIP_95CI.pdf\", rasterized=True, dpi=600)"
     ],
     "language": "python",
     "metadata": {},
     "outputs": []
    },
    {
     "cell_type": "code",
     "collapsed": false,
     "input": [
      "rtvec=[rtbx,rtradd,rt_ip]\n",
      "rterr=[rtbx_ci,rtradd_ci,rt_ip_ci]\n",
      "\n",
      "colors=['#34495E','#1ABC9C', \"#E74C3C\"]\n",
      "labels=['Data', 'RADD', 'IP']\n",
      "\n",
      "f, ax=plt.subplots(1, figsize=(5, 5))\n",
      "\n",
      "x=[0,1,2]; ylim=(.55, .57)\n",
      "\n",
      "ax.bar(x, rtvec, yerr=rterr, color=colors, error_kw={\"elinewidth\":2.5, \"ecolor\":'k'}, width=.63, align='center', edgecolor=colors)  \n",
      "\n",
      "plt.setp(ax, xlim=(-.5, 2.5), ylim=ylim, yticks=ylim, xticks=x)\n",
      "ax.set_xticklabels(labels, fontsize=25)\n",
      "plt.setp(ax.get_yticklabels(), fontsize=25)\n",
      "ax.set_ylabel('RT (s)', fontsize=25) \n",
      "\n",
      "sns.despine()\n",
      "plt.tight_layout()\n",
      "plt.savefig(\"Reboot_RT_RADDvIP_95CI.png\", format='png', dpi=600)\n",
      "plt.savefig(\"Reboot_RT_RADDvIP_95CI.svg\", rasterized=True, dpi=600)\n",
      "plt.savefig(\"Reboot_RT_RADDvIP_95CI.pdf\", rasterized=True, dpi=600)"
     ],
     "language": "python",
     "metadata": {},
     "outputs": []
    },
    {
     "cell_type": "code",
     "collapsed": false,
     "input": [],
     "language": "python",
     "metadata": {},
     "outputs": []
    }
   ],
   "metadata": {}
  }
 ]
}