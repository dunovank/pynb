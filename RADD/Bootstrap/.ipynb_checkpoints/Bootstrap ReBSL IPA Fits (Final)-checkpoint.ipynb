{
 "metadata": {
  "name": "",
  "signature": "sha256:8fbc2647c8e3df614b5222f641fbd90d5a4b6a364380ffc2dd50716888159761"
 },
 "nbformat": 3,
 "nbformat_minor": 0,
 "worksheets": [
  {
   "cells": [
    {
     "cell_type": "code",
     "collapsed": false,
     "input": [
      "import scipy.stats as stats\n",
      "import matplotlib.pyplot as plt\n",
      "from radd import utils, vis, reboot\n",
      "from lmfit import Minimizer, Parameters\n",
      "from collections import OrderedDict\n",
      "pth=utils.find_path()"
     ],
     "language": "python",
     "metadata": {},
     "outputs": [],
     "prompt_number": 6
    },
    {
     "cell_type": "heading",
     "level": 2,
     "metadata": {},
     "source": [
      "Read DFs"
     ]
    },
    {
     "cell_type": "code",
     "collapsed": false,
     "input": [
      "utils=reload(utils); \n",
      "\n",
      "#df to resample for pstop\n",
      "rebsl=pd.read_csv(pth+\"DataFiles/ReBSL_Data.csv\", index_col=0)\n",
      "\n",
      "#init params df\n",
      "ipa_inits=pd.read_csv(pth+\"OptAccRT/race_model/popt_all.csv\", index_col=0)\n",
      "\n",
      "#go to proactive bootstrap directory\n",
      "os.chdir(pth+\"OptAccRT/Reboot/ipa/\")"
     ],
     "language": "python",
     "metadata": {},
     "outputs": [],
     "prompt_number": 7
    },
    {
     "cell_type": "code",
     "collapsed": false,
     "input": [
      "ipa_inits={name:ipa_inits[name].values[0] for name in ipa_inits.columns}"
     ],
     "language": "python",
     "metadata": {},
     "outputs": [],
     "prompt_number": 8
    },
    {
     "cell_type": "heading",
     "level": 3,
     "metadata": {},
     "source": [
      "Run Main Bootstrapping function here"
     ]
    },
    {
     "cell_type": "code",
     "collapsed": false,
     "input": [
      "ipa_fits=reboot.Reboot(rebsl, ipa_inits, model=\"OptAccRT/Reboot/ipa1\", niter=150, ntrials=2000)"
     ],
     "language": "python",
     "metadata": {},
     "outputs": [
      {
       "output_type": "stream",
       "stream": "stdout",
       "text": [
        "Optimization terminated successfully.\n",
        "         Current function value: 0.050586\n",
        "         Iterations: 21\n",
        "         Function evaluations: 63\n",
        "Optimization terminated successfully."
       ]
      },
      {
       "output_type": "stream",
       "stream": "stdout",
       "text": [
        "\n",
        "         Current function value: 0.046292\n",
        "         Iterations: 15\n",
        "         Function evaluations: 41\n",
        "Optimization terminated successfully."
       ]
      },
      {
       "output_type": "stream",
       "stream": "stdout",
       "text": [
        "\n",
        "         Current function value: 0.047359\n",
        "         Iterations: 26\n",
        "         Function evaluations: 64\n",
        "Optimization terminated successfully."
       ]
      },
      {
       "output_type": "stream",
       "stream": "stdout",
       "text": [
        "\n",
        "         Current function value: 0.037979\n",
        "         Iterations: 47\n",
        "         Function evaluations: 115\n",
        "Optimization terminated successfully."
       ]
      },
      {
       "output_type": "stream",
       "stream": "stdout",
       "text": [
        "\n",
        "         Current function value: 0.050964\n",
        "         Iterations: 12\n",
        "         Function evaluations: 38\n",
        "Warning: Maximum number of function evaluations has been exceeded."
       ]
      },
      {
       "output_type": "stream",
       "stream": "stdout",
       "text": [
        "\n",
        "Optimization terminated successfully."
       ]
      },
      {
       "output_type": "stream",
       "stream": "stdout",
       "text": [
        "\n",
        "         Current function value: 0.043656\n",
        "         Iterations: 33\n",
        "         Function evaluations: 78\n",
        "Optimization terminated successfully."
       ]
      },
      {
       "output_type": "stream",
       "stream": "stdout",
       "text": [
        "\n",
        "         Current function value: 0.052563\n",
        "         Iterations: 13\n",
        "         Function evaluations: 39\n",
        "Optimization terminated successfully."
       ]
      },
      {
       "output_type": "stream",
       "stream": "stdout",
       "text": [
        "\n",
        "         Current function value: 0.038336\n",
        "         Iterations: 53\n",
        "         Function evaluations: 128\n",
        "Warning: Maximum number of function evaluations has been exceeded."
       ]
      },
      {
       "output_type": "stream",
       "stream": "stdout",
       "text": [
        "\n",
        "Optimization terminated successfully."
       ]
      },
      {
       "output_type": "stream",
       "stream": "stdout",
       "text": [
        "\n",
        "         Current function value: 0.044245\n",
        "         Iterations: 17\n",
        "         Function evaluations: 44\n",
        "Warning: Maximum number of function evaluations has been exceeded."
       ]
      }
     ]
    },
    {
     "cell_type": "code",
     "collapsed": false,
     "input": [
      "ipa_df=pd.read_csv(\"rwr_rebsl_fits_ipa.csv\")\n",
      "\n",
      "sc_ipa=ipa_df.iloc[:,:-1].mean().values\n",
      "rt_ipa=ipa_df.iloc[:,-1].mean()\n",
      "sc_ipa_ci=ipa_df.iloc[:,:-1].std().values*1.96\n",
      "rt_ipa_ci=ipa_df.iloc[:,-1].std()*1.96"
     ],
     "language": "python",
     "metadata": {},
     "outputs": [],
     "prompt_number": 9
    },
    {
     "cell_type": "code",
     "collapsed": false,
     "input": [
      "ipb_df=pd.read_csv(\"rwr_rebsl_fits_ipb.csv\")\n",
      "\n",
      "sc_ipb=ipb_df.iloc[:,:-1].mean().values\n",
      "rt_ipb=ipb_df.iloc[:,-1].mean()\n",
      "sc_ipb_ci=ipb_df.iloc[:,:-1].std().values*1.96\n",
      "rt_ipb_ci=ipb_df.iloc[:,-1].std()*1.96"
     ],
     "language": "python",
     "metadata": {},
     "outputs": [],
     "prompt_number": 15
    },
    {
     "cell_type": "code",
     "collapsed": false,
     "input": [
      "bxdf=pd.read_csv(\"rwr_rebsl_fitinfo_radd.csv\", index_col=0)\n",
      "\n",
      "bxdata=bxdf.groupby('ssdlist').mean()['ydata'].values\n",
      "bxerr=bxdf.groupby('ssdlist')['ydata'].std().values*1.96\n",
      "scbx=bxdata[:-1]\n",
      "rtbx=bxdata[-1]\n",
      "scbx_ci=bxerr[:-1]\n",
      "rtbx_ci=bxerr[-1]\n"
     ],
     "language": "python",
     "metadata": {},
     "outputs": [],
     "prompt_number": 14
    },
    {
     "cell_type": "code",
     "collapsed": false,
     "input": [
      "sc=[scbx, scradd, sc_ip]\n",
      "scerr=[scbx_ci, scradd_ci, sc_ip_ci]\n",
      "\n",
      "colors=['#34495E','#1ABC9C', \"#E74C3C\"]\n",
      "labels=['Data', 'RADD', 'IP']\n",
      "\n",
      "ax=vis.scurves(sc, yerr=scerr, colors=colors, labels=labels)\n",
      "\n",
      "plt.savefig(\"Reboot_SCurves_RADDvIP_95CI.png\", format='png', dpi=600)\n",
      "plt.savefig(\"Reboot_SCurves_RADDvIP_95CI.svg\", rasterized=True, dpi=600)\n",
      "plt.savefig(\"Reboot_SCurves_RADDvIP_95CI.pdf\", rasterized=True, dpi=600)"
     ],
     "language": "python",
     "metadata": {},
     "outputs": []
    },
    {
     "cell_type": "code",
     "collapsed": false,
     "input": [
      "rtvec=[rtbx,rtradd,rt_ip]\n",
      "rterr=[rtbx_ci,rtradd_ci,rt_ip_ci]\n",
      "\n",
      "colors=['#34495E','#1ABC9C', \"#E74C3C\"]\n",
      "labels=['Data', 'RADD', 'IP']\n",
      "\n",
      "f, ax=plt.subplots(1, figsize=(5, 5))\n",
      "\n",
      "x=[0,1,2]; ylim=(.55, .57)\n",
      "\n",
      "ax.bar(x, rtvec, yerr=rterr, color=colors, error_kw={\"elinewidth\":2.5, \"ecolor\":'k'}, width=.63, align='center', edgecolor=colors)  \n",
      "\n",
      "plt.setp(ax, xlim=(-.5, 2.5), ylim=ylim, yticks=ylim, xticks=x)\n",
      "ax.set_xticklabels(labels, fontsize=25)\n",
      "plt.setp(ax.get_yticklabels(), fontsize=25)\n",
      "ax.set_ylabel('RT (s)', fontsize=25) \n",
      "\n",
      "sns.despine()\n",
      "plt.tight_layout()\n",
      "plt.savefig(\"Reboot_RT_RADDvIP_95CI.png\", format='png', dpi=600)\n",
      "plt.savefig(\"Reboot_RT_RADDvIP_95CI.svg\", rasterized=True, dpi=600)\n",
      "plt.savefig(\"Reboot_RT_RADDvIP_95CI.pdf\", rasterized=True, dpi=600)"
     ],
     "language": "python",
     "metadata": {},
     "outputs": []
    },
    {
     "cell_type": "code",
     "collapsed": false,
     "input": [],
     "language": "python",
     "metadata": {},
     "outputs": []
    }
   ],
   "metadata": {}
  }
 ]
}