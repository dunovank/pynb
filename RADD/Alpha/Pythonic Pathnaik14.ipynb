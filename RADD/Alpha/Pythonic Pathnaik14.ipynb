{
 "metadata": {
  "css": [
   ""
  ],
  "name": "",
  "notify_time": "5",
  "signature": "sha256:e8796f5e50e32389e1d4a8a7c2687946e2dc667b50f559d67d80a65d8d70a77b"
 },
 "nbformat": 3,
 "nbformat_minor": 0,
 "worksheets": [
  {
   "cells": [
    {
     "cell_type": "code",
     "collapsed": false,
     "input": [
      "import numpy as np\n",
      "from scipy.stats import stats, norm\n",
      "from scipy.stats.mstats import mquantiles\n",
      "from radd import utils\n",
      "\n",
      "sparams=utils.style_params()\n",
      "style=sparams['style']\n",
      "context=sparams['context']\n",
      "\n",
      "data=pd.read_csv(\"/Users/kyle/Dropbox/CoAx/SS/DataFiles/ReBSL_Data.csv\", index_col=0)\n",
      "dcor=data.query(\"choice=='go' & acc==1\")\n",
      "rts=dcor.rt.values\n",
      "\n",
      "inits=pd.read_csv(\"/Users/kyle/Dropbox/CoAx/radd_SFN14/ReBSL_AllSxParams.csv\", index_col=0)\n",
      "params=inits.mean().to_dict()\n",
      "\n",
      "params['a']=params['a']-params['z']\n",
      "params['st']=.05\n",
      "params['sv']=.25"
     ],
     "language": "python",
     "metadata": {},
     "outputs": []
    },
    {
     "cell_type": "code",
     "collapsed": false,
     "input": [
      "#r(rts, theta)\n",
      "nsamples = len(rts)\n",
      "\n",
      "\n",
      "\n",
      "theta['a']=theta['a']-theta['z']\n",
      "\n",
      "theta['st']=.05\n",
      "theta['sv']=.25\n",
      "\n",
      "nsamples = len(rts)\n",
      "t1 = rts - np.ones(nsamples)*(theta['t']+theta['st']/2)\n",
      "t2 = rts - np.ones(nsamples)*(theta['t']-theta['st']/2)\n",
      "\n",
      "S1 = np.ones(nsamples)\n",
      "S2 = np.ones(nsamples)\n",
      "\n",
      "t1v = t1[t1>0]\n",
      "t2v = t2[t2>0]\n",
      "\n",
      "samples1 = len(t1v)\n",
      "\n",
      "a,t,sv,st,v = init_params(theta, samples1)"
     ],
     "language": "python",
     "metadata": {},
     "outputs": [],
     "prompt_number": 45
    },
    {
     "cell_type": "code",
     "collapsed": false,
     "input": [
      "params"
     ],
     "language": "python",
     "metadata": {},
     "outputs": [
      {
       "metadata": {},
       "output_type": "pyout",
       "prompt_number": 3,
       "text": [
        "{'a': 0.27163972867241376,\n",
        " 'ssv': 0.9784438747586206,\n",
        " 'st': 0.05,\n",
        " 'sv': 0.25,\n",
        " 't': 0.30635776179310348,\n",
        " 'v': 1.0515686028620685,\n",
        " 'z': 0.16640761393103448}"
       ]
      }
     ],
     "prompt_number": 3
    },
    {
     "cell_type": "code",
     "collapsed": false,
     "input": [
      "sns.set_context('paper', rc=context)\n",
      "sns.set_style('ticks', rc=style)\n",
      "\n",
      "density=r(rts, theta=params)\n",
      "x=np.arange(len(density))\n",
      "plt.plot(x[:15], density[:15])\n",
      "sns.despine()"
     ],
     "language": "python",
     "metadata": {},
     "outputs": [
      {
       "metadata": {},
       "output_type": "display_data",
       "png": "[encoded data removed]",
       "text": [
        "<matplotlib.figure.Figure at 0x113b24f10>"
       ]
      }
     ],
     "prompt_number": 9
    },
    {
     "cell_type": "code",
     "collapsed": false,
     "input": [
      "params"
     ],
     "language": "python",
     "metadata": {},
     "outputs": [
      {
       "metadata": {},
       "output_type": "pyout",
       "prompt_number": 5,
       "text": [
        "{'a': 0.27163972867241376,\n",
        " 'ssv': 0.9784438747586206,\n",
        " 'st': 0.05,\n",
        " 'sv': 0.25,\n",
        " 't': 0.30635776179310348,\n",
        " 'v': 1.0515686028620685,\n",
        " 'z': 0.16640761393103448}"
       ]
      }
     ],
     "prompt_number": 5
    },
    {
     "cell_type": "code",
     "collapsed": false,
     "input": [
      "def r(RT,theta):\n",
      "    \n",
      "    \"\"\"\n",
      "    \n",
      "    theta (dict):     keys=[a, t, sv, st, v]\n",
      "            example theta: {\"a\":0.1, \"t\":0.160, \"sv\":0.25, \"st\":0.050, \"v\":1.0}\n",
      "    \"\"\"\n",
      "    \n",
      "    #theta['a']=theta['a']-theta['z']\n",
      "    #theta['st']=.05\n",
      "    #theta['sv']=.25\n",
      "    \n",
      "    if theta['st'] == 0:\n",
      "        p=0;\n",
      "        return;\n",
      "\n",
      "    nsamples = len(RT)\n",
      "    t1 = RT - np.ones(nsamples)*(theta['t']+theta['st']/2)\n",
      "    t2 = RT - np.ones(nsamples)*(theta['t']-theta['st']/2)\n",
      "\n",
      "    S1 = np.ones(nsamples)\n",
      "    S2 = np.ones(nsamples)\n",
      "\n",
      "    t1v = t1[t1>0]\n",
      "    t2v = t2[t2>0]\n",
      "\n",
      "    samples1 = len(t1v)\n",
      "    samples2 = len(t2v)\n",
      "    \n",
      "    #s squared\n",
      "    s = 0.01\n",
      "    \n",
      "    #eta squared\n",
      "    theta['sv'] = theta['sv']*theta['sv']\n",
      "\n",
      "    if samples1 != 0:\n",
      "        \n",
      "        a,t,sv,st,v = init_params(theta, samples1)\n",
      "\n",
      "        S1[t1>0]=norm.cdf((a-v*t1v)/np.sqrt(sv*(t1v**2)+t1v*s),0,1)-exp((2*a*v+2*a*a*sv)/s)*norm.cdf(-(a*s+2*a*sv*t1v+ v*t1v*s)/(np.sqrt(sv*t1v**2+t1v*s)*s),0,1)\n",
      "\n",
      "    if samples2 != 0:\n",
      "    \n",
      "        a,t,sv,st,v = init_params(theta, samples2)\n",
      "        \n",
      "        S2[t2>0] = norm.cdf((a-v*t2v)/np.sqrt(sv*t2v**2+t2v*s),0,1)-exp((2*a*v+2*a*a*sv)/s)*norm.cdf(-(a*s+2*a*sv*t2v+ v*t2v*s)/(np.sqrt(sv*t2v**2+t2v*s)*s),0,1)\n",
      "    \n",
      "    s1=S1>0\n",
      "    s2=S2>0\n",
      "    \n",
      "    p = (1/theta['st'])*(S1-S2)\n",
      "\n",
      "    return p"
     ],
     "language": "python",
     "metadata": {},
     "outputs": [],
     "prompt_number": 4
    },
    {
     "cell_type": "code",
     "collapsed": false,
     "input": [
      "def loglikelihood(RT,tcensor,theta):\n",
      "\n",
      "    count =  np.sum(RT>=tcensor)\n",
      "    R = ddmCDF(tcensor,theta)\n",
      "    RT[RT>=tcensor] = tcensor\n",
      "\n",
      "    logl = -np.sum(log(r(RT,theta)))-count*log(1-R)\n",
      "\n",
      "    if isinf(logl) or isnan(logl):\n",
      "        logl = realmin\n",
      "\n",
      "    return logl"
     ],
     "language": "python",
     "metadata": {},
     "outputs": [],
     "prompt_number": 3
    },
    {
     "cell_type": "code",
     "collapsed": false,
     "input": [
      "def init_params(theta, nsamples):\n",
      "    \n",
      "    \"\"\"\n",
      "    \n",
      "    theta (dict):     keys=[a, t, sv, st, v]\n",
      "            example theta: {\"a\":0.1, \"t\":0.160, \"sv\":0.25, \"st\":0.050, \"v\":1.0}\n",
      "    \"\"\"\n",
      "    \n",
      "    a=np.ones(nsamples)*theta['a']\n",
      "    t=np.ones(nsamples)*theta['t']\n",
      "    sv=np.ones(nsamples)*theta['sv']\n",
      "    st=np.ones(nsamples)*theta['st']\n",
      "    v=np.ones(nsamples)*theta['v']\n",
      "    \n",
      "    return a,t,sv,st,v"
     ],
     "language": "python",
     "metadata": {},
     "outputs": [],
     "prompt_number": 7
    },
    {
     "cell_type": "code",
     "collapsed": true,
     "input": [
      "def ddmCDF(tcensor,theta):\n",
      "\n",
      "    RTmin = theta['t']-theta['st']/2\n",
      "    RTmax = tcensor\n",
      "    RTs = (RTmin:0.001:RTmax)\n",
      "\n",
      "    p = [0, r(rts[2:],theta)]\n",
      "    blank = np.ceil(RTmin*1000)-1\n",
      "    cdf = [zeros(blank,1);cumtrapz(p)*0.001]\n",
      "    cdf = cdf(end)\n",
      "\n",
      "    return cdf"
     ],
     "language": "python",
     "metadata": {},
     "outputs": [
      {
       "ename": "SyntaxError",
       "evalue": "invalid syntax (<ipython-input-10-3bc73e5b75fb>, line 5)",
       "output_type": "pyerr",
       "traceback": [
        "\u001b[1;36m  File \u001b[1;32m\"<ipython-input-10-3bc73e5b75fb>\"\u001b[1;36m, line \u001b[1;32m5\u001b[0m\n\u001b[1;33m    RTs = (RTmin:0.001:RTmax)\u001b[0m\n\u001b[1;37m                ^\u001b[0m\n\u001b[1;31mSyntaxError\u001b[0m\u001b[1;31m:\u001b[0m invalid syntax\n"
       ]
      }
     ],
     "prompt_number": 10
    },
    {
     "cell_type": "code",
     "collapsed": true,
     "input": [
      "def shiftedWald(Ter,mu,lam):\n",
      "    \n",
      "    #sample from a normal distribution with a mean of 0 and 1 standard deviation\n",
      "    sampleSize = len(mu); \n",
      "    v = np.random.randn(sampleSize,1)\n",
      "    y = v*v\n",
      "    samples = mu + (mu*mu*y)/(2*lam) - (mu/(2*lam)) * sqrt(4*mu*lam*y + mu*mu*y*y);\n",
      "    test = rand(sampleSize,1);\n",
      "    alternate = (mu*mu)/samples\n",
      "    altIndex = test > mu/(mu+samples)\n",
      "    samples(altIndex) = alternate[altIndex]\n",
      "    \n",
      "    return samples + Ter"
     ],
     "language": "python",
     "metadata": {},
     "outputs": [
      {
       "ename": "SyntaxError",
       "evalue": "can't assign to function call (<ipython-input-5-4e74095d09a7>, line 11)",
       "output_type": "pyerr",
       "traceback": [
        "\u001b[1;36m  File \u001b[1;32m\"<ipython-input-5-4e74095d09a7>\"\u001b[1;36m, line \u001b[1;32m11\u001b[0m\n\u001b[1;33m    samples(altIndex) = alternate[altIndex]\u001b[0m\n\u001b[1;31mSyntaxError\u001b[0m\u001b[1;31m:\u001b[0m can't assign to function call\n"
       ]
      }
     ],
     "prompt_number": 5
    },
    {
     "cell_type": "code",
     "collapsed": true,
     "input": [
      "def mixedEstimator(RTObs,tcensor,renormalization=.1):\n",
      "    \n",
      "    censor=RTObs.max()\n",
      "    \n",
      "    initGuess = estimateMLE(RTObs,tcensor,renormalization);\n",
      "\n",
      "    minVal = [renormalization;0.11;0.01;0.01;0.2]\n",
      "    maxVal = [renormalization;0.30;0.8;0.15;2.0]\n",
      "\n",
      "    loss = @(p)modelFit(RTObs,p.T,tcensor);\n",
      "\n",
      "    theta, chiSq =fminsearchbnd(loss,initGuess,minVal,maxVal,optimset('TolFun',0.5,'TolX',0.05,\n",
      "                                                                    'MaxFunEvals',100,'Display','iter'))\n",
      "\n",
      "    return theta, chiSq"
     ],
     "language": "python",
     "metadata": {},
     "outputs": [
      {
       "ename": "SyntaxError",
       "evalue": "invalid syntax (<ipython-input-6-47cf12b57cb1>, line 7)",
       "output_type": "pyerr",
       "traceback": [
        "\u001b[1;36m  File \u001b[1;32m\"<ipython-input-6-47cf12b57cb1>\"\u001b[1;36m, line \u001b[1;32m7\u001b[0m\n\u001b[1;33m    minVal = [renormalization;0.11;0.01;0.01;0.2]\u001b[0m\n\u001b[1;37m                             ^\u001b[0m\n\u001b[1;31mSyntaxError\u001b[0m\u001b[1;31m:\u001b[0m invalid syntax\n"
       ]
      }
     ],
     "prompt_number": 6
    },
    {
     "cell_type": "code",
     "collapsed": true,
     "input": [
      "def modelFit(RTObs,theta,maxRT):\n",
      "\n",
      "    quants = 0:0.05:1\n",
      "    iterations = 20000\n",
      "    tau=0.0005\n",
      "\n",
      "    if(nargin < 3):\n",
      "        maxRT = max(RTObs)\n",
      "\n",
      "    RTObs(RTObs > maxRT) = maxRT\n",
      "    bins = size(quants,2)\n",
      "    #Simulate process and obtain RTs\n",
      "    RT = simulateProcess(theta,iterations,maxRT)\n",
      "    observations = size(RTObs,1)\n",
      "\n",
      "    #Split data into bins\n",
      "    Quartiles = mquantile(RTObs,quants)\n",
      "    chiStat = 0\n",
      "\n",
      "    for i in bins[:, 2]:\n",
      "        if(i==2):\n",
      "            E(i-1) = (sum(RT < Quartiles(i))/size(RT,1))*observations\n",
      "            O(i-1) = (sum(RTObs < Quartiles(i))/size(RTObs,1))*observations\n",
      "\n",
      "        elif i==bins:\n",
      "            E(i-1) = (sum(RT >= Quartiles(i-1))/size(RT,1))*observations\n",
      "            O(i-1) = (sum(RTObs >= Quartiles(i-1))/size(RTObs,1))*observations\n",
      "\n",
      "        else:\n",
      "            E(i-1) = (sum(RT < Quartiles(i) & RT >= Quartiles(i-1))/size(RT,1))*observations\n",
      "            O(i-1) = (sum(RTObs < Quartiles(i) & RTObs >= Quartiles(i-1))/size(RTObs,1))*observations\n",
      "\n",
      "        if E[i-1] == 0:\n",
      "        chiStat = realmax;\n",
      "        return\n",
      "\n",
      "        chiStat = chiStat + ((O[i-1]-E[i-1])^2)/E[i-1]\n",
      "\n",
      "    return chiStat,E,O"
     ],
     "language": "python",
     "metadata": {},
     "outputs": [
      {
       "ename": "SyntaxError",
       "evalue": "invalid syntax (<ipython-input-7-6e7e95dd9ce4>, line 3)",
       "output_type": "pyerr",
       "traceback": [
        "\u001b[1;36m  File \u001b[1;32m\"<ipython-input-7-6e7e95dd9ce4>\"\u001b[1;36m, line \u001b[1;32m3\u001b[0m\n\u001b[1;33m    quants = 0:0.05:1\u001b[0m\n\u001b[1;37m              ^\u001b[0m\n\u001b[1;31mSyntaxError\u001b[0m\u001b[1;31m:\u001b[0m invalid syntax\n"
       ]
      }
     ],
     "prompt_number": 7
    },
    {
     "cell_type": "code",
     "collapsed": true,
     "input": [
      "function [theta, logl] = estimateMLE(RTObs,tcensor,renormalization)\n",
      "\n",
      "    if (nargin<3)\n",
      "        renormalization = 0.1; #boundary for normalization\n",
      "    end \n",
      "\n",
      "    RTObs = sort(RTObs);\n",
      "    eDrift = (renormalization*(0.1/std(RTObs))^2)^(1/3);\n",
      "    eTer = mean(RTObs) - renormalization/eDrift;\n",
      "\n",
      "    loss = @(p)loglikelihood(RTObs,tcensor,p');\n",
      "\n",
      "    minVal = [0.05;0.11;0.01;0.01;0.2];\n",
      "    maxVal = [0.12;0.30;0.8;0.15;2.0];\n",
      "\n",
      "    initGuess = [renormalization,eTer,eDrift*0.5,eTer*0.25,eDrift];\n",
      "\n",
      "    #check for bounds\n",
      "    ubound = initGuess > maxVal';\n",
      "    lbound = initGuess < minVal';\n",
      "\n",
      "    initGuess(ubound) = maxVal(ubound')';\n",
      "    initGuess(lbound) = minVal(lbound')';\n",
      "\n",
      "    b = min(RTObs) - 0.001;\n",
      "    a = [0,1,0,0.5,0];\n",
      "\n",
      "    options = optimset('Algorithm','interior-point','TolCon',1e-15,'TolX',1e-15,'TolFun',1e-15,'FunValCheck','on','FinDiffType','central');\n",
      "    [theta, logl] = fmincon(loss,initGuess,[],[],a,b,minVal,maxVal,[],options); \n",
      "\n",
      "    theta(5) = theta(5)*renormalization/theta(1);\n",
      "    theta(3) = theta(3)*renormalization/theta(1);\n",
      "    theta(1) = renormalization;"
     ],
     "language": "python",
     "metadata": {},
     "outputs": [
      {
       "ename": "IndentationError",
       "evalue": "unexpected indent (<ipython-input-8-37984bb17185>, line 3)",
       "output_type": "pyerr",
       "traceback": [
        "\u001b[1;36m  File \u001b[1;32m\"<ipython-input-8-37984bb17185>\"\u001b[1;36m, line \u001b[1;32m3\u001b[0m\n\u001b[1;33m    if (nargin<3)\u001b[0m\n\u001b[1;37m    ^\u001b[0m\n\u001b[1;31mIndentationError\u001b[0m\u001b[1;31m:\u001b[0m unexpected indent\n"
       ]
      }
     ],
     "prompt_number": 8
    }
   ],
   "metadata": {}
  }
 ]
}