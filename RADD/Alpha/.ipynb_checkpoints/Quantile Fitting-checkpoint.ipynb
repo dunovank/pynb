{
 "metadata": {
  "name": "",
  "signature": "sha256:71c46005b27cdcc75d51f56acb6bb26616f05b6a3390b0c9a15575aaa5574f13"
 },
 "nbformat": 3,
 "nbformat_minor": 0,
 "worksheets": [
  {
   "cells": [
    {
     "cell_type": "code",
     "collapsed": false,
     "input": [
      "from scipy.stats.mstats import mquantiles, scoreatpercentile\n",
      "from radd.fitre import simConditions\n",
      "from hddm.utils import qp_plot, data_quantiles"
     ],
     "language": "python",
     "metadata": {},
     "outputs": [],
     "prompt_number": 49
    },
    {
     "cell_type": "heading",
     "level": 1,
     "metadata": {},
     "source": [
      "Load Data"
     ]
    },
    {
     "cell_type": "code",
     "collapsed": false,
     "input": [
      "os.chdir('/home/kyle/Desktop/SS_Backups/SS/Reactive/BSL/')\n",
      "data=pd.read_csv(\"ReBSL_Data.csv\")"
     ],
     "language": "python",
     "metadata": {},
     "outputs": [],
     "prompt_number": 159
    },
    {
     "cell_type": "heading",
     "level": 1,
     "metadata": {},
     "source": [
      "Simulate with Bootstrapped RADD Parameters"
     ]
    },
    {
     "cell_type": "code",
     "collapsed": false,
     "input": [
      "siminits=pd.read_csv('/home/kyle/Desktop/SS_Backups/SS/QuickAccess/Boot_Params/bsl_rwr_popt_radd.csv').mean()\n",
      "siminits=dict(siminits)\n",
      "sims=simConditions(siminits, return_all=True, simfx='standard')"
     ],
     "language": "python",
     "metadata": {},
     "outputs": [],
     "prompt_number": 69
    },
    {
     "cell_type": "heading",
     "level": 1,
     "metadata": {},
     "source": [
      "Only use correct RTs"
     ]
    },
    {
     "cell_type": "code",
     "collapsed": false,
     "input": [
      "corsims=sims.query('trial_type==\"go\" & acc==1')\n",
      "cordf=data.query('trial_type==\"go\" & acc==1')"
     ],
     "language": "python",
     "metadata": {},
     "outputs": []
    },
    {
     "cell_type": "heading",
     "level": 1,
     "metadata": {},
     "source": [
      "Get Quantiles"
     ]
    },
    {
     "cell_type": "code",
     "collapsed": false,
     "input": [
      "quantiles=np.array([.10, .20, .50, .70, .90])\n",
      "simq=mquantiles(corsims.rt, prob=quantiles)\n",
      "empq=[mquantiles(idxdf.rt, prob=quantiles) for idx, idxdf in cordf.groupby('idx')]\n",
      "empq_idx=pd.DataFrame(empq, columns=quantiles, index=np.arange(len(cordf.idx.unique())))"
     ],
     "language": "python",
     "metadata": {},
     "outputs": [],
     "prompt_number": 193
    },
    {
     "cell_type": "heading",
     "level": 1,
     "metadata": {},
     "source": [
      "Get Probability at each Quantile"
     ]
    },
    {
     "cell_type": "code",
     "collapsed": false,
     "input": [
      "probs = [10.0, 30.0, 50.0, 70.0, 90.0]\n",
      "empp=[scoreatpercentile(cordf.rt, p).flatten().data[0] for p in probs]\n",
      "simp=[scoreatpercentile(corsims.rt, p).flatten().data[0] for p in probs]"
     ],
     "language": "python",
     "metadata": {},
     "outputs": [],
     "prompt_number": 194
    },
    {
     "cell_type": "code",
     "collapsed": false,
     "input": [
      "empq=[mquantiles(idxdf.rt, prob=quantiles) for idx, idxdf in cordf.groupby('idx')]\n",
      "emp_idx_quant=pd.DataFrame(empq, columns=quantiles, index=np.arange(len(cordf.idx.unique())))\n",
      "plt.errorbar(empp, empq_idx.mean(), yerr=empq_idx.sem()*1.96, color='k')\n",
      "plt.gca().errorbar(simp, simq, yerr=corsims.rt.sem()*1.96, color='RoyalBlue')\n",
      "sns.despine()\n",
      "plt.setp(plt.gca(), xticks=empp, xticklabels=probs, ylabel='RT', xlabel='P(RT at Quantile)')"
     ],
     "language": "python",
     "metadata": {},
     "outputs": [
      {
       "metadata": {},
       "output_type": "pyout",
       "prompt_number": 197,
       "text": [
        "[<matplotlib.axis.XTick at 0x7f7c6f1e2250>,\n",
        " <matplotlib.axis.XTick at 0x7f7c577836d0>,\n",
        " <matplotlib.axis.XTick at 0x7f7c6ef925d0>,\n",
        " <matplotlib.axis.XTick at 0x7f7c6ef92cd0>,\n",
        " <matplotlib.axis.XTick at 0x7f7c6faf4410>,\n",
        " <matplotlib.text.Text at 0x7f7c6f1c0410>,\n",
        " <matplotlib.text.Text at 0x7f7c6f3ae490>,\n",
        " <matplotlib.text.Text at 0x7f7c6e506410>,\n",
        " <matplotlib.text.Text at 0x7f7c6ef92b50>,\n",
        " <matplotlib.text.Text at 0x7f7c6faf4290>,\n",
        " <matplotlib.text.Text at 0x7f7c6faf4990>,\n",
        " <matplotlib.text.Text at 0x7f7c6f38f850>]"
       ]
      },
      {
       "metadata": {},
       "output_type": "display_data",
       "png": "[encoded data removed]",
       "text": [
        "<matplotlib.figure.Figure at 0x7f7c6f1e2510>"
       ]
      }
     ],
     "prompt_number": 197
    },
    {
     "cell_type": "code",
     "collapsed": false,
     "input": [],
     "language": "python",
     "metadata": {},
     "outputs": []
    }
   ],
   "metadata": {}
  }
 ]
}