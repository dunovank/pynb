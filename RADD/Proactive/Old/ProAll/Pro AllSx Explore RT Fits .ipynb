{
 "metadata": {
  "name": "",
  "signature": "sha256:c196afa6ef9b8ff9bcbefcb7ebece6197367279e02be6d25fb231401a8fea837"
 },
 "nbformat": 3,
 "nbformat_minor": 0,
 "worksheets": [
  {
   "cells": [
    {
     "cell_type": "code",
     "collapsed": false,
     "input": [
      "from __future__ import division\n",
      "from radd import xopt, psy, ss, fitpro, simfx, utils\n",
      "from scipy.stats import stats\n",
      "import pandas as pd \n",
      "import seaborn as sns\n",
      "import os\n",
      "\n"
     ],
     "language": "python",
     "metadata": {},
     "outputs": [],
     "prompt_number": 210
    },
    {
     "cell_type": "code",
     "collapsed": false,
     "input": [
      "pth=utils.find_path()\n",
      "sparams=utils.style_params()\n",
      "colors=sparams['colors']\n",
      "sns.set(style='ticks', context='paper', rc=sparams['style'])\n",
      "sns.set_context(rc=sparams['context'])\n"
     ],
     "language": "python",
     "metadata": {},
     "outputs": [],
     "prompt_number": 211
    },
    {
     "cell_type": "code",
     "collapsed": false,
     "input": [
      "pgcut=counts545.query('pGo==.2').set_index('subj_idx')\n",
      "pgall=counts560.query('pGo==.2').set_index('subj_idx')\n",
      "\n",
      "sxchi=utils.makePivot(rtdf, cols='pGo', index='subj_idx', values='chi')[.2]\n",
      "diff=pgall.n-pgcut.n\n",
      "diff.corr(sxchi)\n"
     ],
     "language": "python",
     "metadata": {},
     "outputs": [
      {
       "metadata": {},
       "output_type": "pyout",
       "prompt_number": 212,
       "text": [
        "-0.38999602595832727"
       ]
      }
     ],
     "prompt_number": 212
    },
    {
     "cell_type": "code",
     "collapsed": false,
     "input": [
      "psy=reload(psy)\n",
      "\n",
      "os.chdir(pth+\"OptAccRT/ProAllSx_AllData\")\n",
      "simdf=pd.read_csv(\"ProAllSx_AllData_BestFits.csv\")\n",
      "sxchi=utils.makePivot(simdf, cols='pGo', index='subj_idx', values='chi')\n",
      "prodf=pd.read_csv(pth+\"DataFiles/Pro_AllData.csv\", index_col=0)\n",
      "\n",
      "rtdf=simdf[simdf['pGo']>0.0]\n",
      "rt_data=utils.makePivot(rtdf, cols='pGo', index='subj_idx', values='rt_data')\n",
      "rt_radd=utils.makePivot(rtdf, cols='pGo', index='subj_idx', values='rt_radd')\n",
      "sxchi=utils.makePivot(rtdf, cols='pGo', index='subj_idx', values='chi')\n",
      "\n",
      "\n",
      "cut=sxchi.mean()+sxchi.sem()*1.96\n",
      "\n",
      "sxlist=rt_data.where(sxchi<cut)\n",
      "print sxlist.count(numeric_only=True)\n",
      "dmean=rt_data.where(sxchi<cut).mean()\n",
      "rmean=rt_radd.where(sxchi<cut).mean()\n",
      "rsem=rt_radd.where(sxchi<cut).sem()*1.96\n",
      "dsem=rt_data.where(sxchi<cut).sem()*1.96\n",
      "\n",
      "sns.set_style(rc=sparams['style'])\n",
      "sns.set_context(rc=sparams['context'])\n",
      "\n",
      "x=np.arange(.2,1.2,.2)\n",
      "ax=plt.errorbar(x, dmean.values, yerr=dsem.values, color='#444444', marker='o', label='data')\n",
      "ax=plt.errorbar(x, rmean.values, yerr=rsem.values, color='blue', marker='o', label='radd')\n",
      "props=plt.setp(plt.gca(), xlim=(.15,1.05), ylim=(5., 5.6), ylabel='RT (s)')\n",
      "#optdf.to_csv(\"ProAll_BestFits.csv\")\n",
      "sns.despine()"
     ],
     "language": "python",
     "metadata": {},
     "outputs": [
      {
       "output_type": "stream",
       "stream": "stdout",
       "text": [
        "pGo\n",
        "0.2    58\n",
        "0.4    44\n",
        "0.6    47\n",
        "0.8    47\n",
        "1.0    51\n",
        "dtype: int64\n"
       ]
      },
      {
       "metadata": {},
       "output_type": "display_data",
       "png": "[encoded data removed]",
       "text": [
        "<matplotlib.figure.Figure at 0x7f3329706610>"
       ]
      }
     ],
     "prompt_number": 217
    },
    {
     "cell_type": "code",
     "collapsed": false,
     "input": [
      "#prodf=pd.read_csv(pth+\"DataFiles/Pro_AllData.csv\", index_col=0)\n",
      "sxchi.sem()*2\n",
      "cut"
     ],
     "language": "python",
     "metadata": {},
     "outputs": [
      {
       "metadata": {},
       "output_type": "pyout",
       "prompt_number": 216,
       "text": [
        "pGo\n",
        "0.2    0.055320\n",
        "0.4    0.015027\n",
        "0.6    0.036055\n",
        "0.8    0.039541\n",
        "1.0    0.033135\n",
        "dtype: float64"
       ]
      }
     ],
     "prompt_number": 216
    },
    {
     "cell_type": "code",
     "collapsed": false,
     "input": [
      "prodf.convert_objects(convert_numeric=True)\n",
      "sxchi=utils.makePivot(simdf, cols='pGo', index='subj_idx', values='chi')\n",
      "cut=10000\n",
      "sxlist=rt_data.where(sxchi<cut)\n",
      "\n",
      "prodf=prodf.convert_objects(convert_numeric=True)\n",
      "\n",
      "pstop_data=utils.makePivot(simdf, cols='pGo', index='subj_idx', values='pstop_data')\n",
      "pstop_radd=utils.makePivot(simdf, cols='pGo', index='subj_idx', values='pstop_radd')\n",
      "\n",
      "yd=pstop_data.where(sxchi<cut).mean()\n",
      "yh=pstop_radd.where(sxchi<cut).mean()\n",
      "yderr=pstop_data.where(sxchi<cut).sem()\n",
      "yherr=pstop_radd.where(sxchi<cut).sem()\n",
      "\n",
      "stopmeans=[yd.values, yh.values]\n",
      "stoperr=[yderr.values, yherr.values]\n",
      "\n",
      "\n",
      "ax=psy.scurves(ysim=stopmeans, yerr=stoperr, title='ProAllSx_StopFits.png', \n",
      "               colors=['#444444', 'RoyalBlue'], labels=['Data', 'RADD'], task='ssPro')"
     ],
     "language": "python",
     "metadata": {},
     "outputs": [
      {
       "metadata": {},
       "output_type": "display_data",
       "png": "[encoded data removed]",
       "text": [
        "<matplotlib.figure.Figure at 0x7f332a988490>"
       ]
      }
     ],
     "prompt_number": 160
    },
    {
     "cell_type": "code",
     "collapsed": false,
     "input": [
      "psy=reload(psy)\n",
      "\n",
      "godf=prodf[prodf['response']==1]\n",
      "\n",
      "\n",
      "\n",
      "emp_rt=utils.makePivot(godf, cols='HiLo', index='subj_idx', values='rt')\n",
      "emp_rt_err=utils.makePivot(godf, cols='HiLo', index='subj_idx', values='rt', func=stats.sem)\n",
      "print emp_rt.mean()\n",
      "print emp_rt_err.mean()\n",
      "np.sum(emp_rt/emp_rt_err)/(np.sum(1/emp_rt_err)).head()"
     ],
     "language": "python",
     "metadata": {},
     "outputs": [
      {
       "output_type": "stream",
       "stream": "stdout",
       "text": [
        "HiLo\n",
        "aHi     0.530857\n",
        "bLo     0.539612\n",
        "dtype: float64\n",
        "HiLo\n",
        "aHi     0.001573\n",
        "bLo     0.002158\n",
        "dtype: float64\n"
       ]
      },
      {
       "metadata": {},
       "output_type": "pyout",
       "prompt_number": 26,
       "text": [
        "HiLo\n",
        "aHi     0.536989\n",
        "bLo     0.545000\n",
        "dtype: float64"
       ]
      }
     ],
     "prompt_number": 26
    },
    {
     "cell_type": "code",
     "collapsed": false,
     "input": [
      "emp_rt.head()\n",
      "\n",
      "#os.chdir(utils.find_path()+\"OptAccRT/OptProSims\")\n",
      "optdf=pd.read_csv(pth+\"OptAccRT/ProAllSx_AllData/ProAllSx_AllData_BestFits.csv\")\n",
      "optdf['HiLo']=optdf.pGo.copy()\n",
      "optdf.ix[optdf['pGo']<.5, 'HiLo']='Lo'\n",
      "optdf.ix[optdf['pGo']>.5, 'HiLo']='Hi'\n",
      "optdf=optdf.convert_objects(convert_numeric=True)\n",
      "sim_rt=utils.makePivot(optdf, cols='HiLo', index='subj_idx', values='rt_radd')/10\n",
      "\n",
      "sns.set_style(rc=sparams['style'])\n",
      "sns.set_context(rc=sparams['context'])\n",
      "ax=plt.errorbar([1,2], emp_rt.mean(), yerr=emp_rt.sem(), color='k', marker='o', label='data')\n",
      "ax=plt.errorbar([1,2], sim_rt.mean(), yerr=sim_rt.sem(), color='blue', marker='o', label='radd')\n",
      "props=plt.setp(plt.gca(), xlim=(0.8,2.2), ylim=(.48, .56), xticks=[1,2], xticklabels=['Hi PGo', 'Lo PGo'], ylabel='RT (s)')\n",
      "optdf.to_csv(\"ProAll_BestFits.csv\")\n",
      "sns.despine()"
     ],
     "language": "python",
     "metadata": {},
     "outputs": []
    },
    {
     "cell_type": "code",
     "collapsed": false,
     "input": [
      "#plot rt\n",
      "plt.close('all')\n",
      "f, ax=plt.subplots(1, figsize=(5, 3))\n",
      "\n",
      "ax.errorbar(rtd.keys(), rtd, yerr=rtderr, color=colors[-8], ecolor='k', label='Data')\n",
      "ax.errorbar(rtd.keys(), rth, yerr=rtherr, color=colors[-1], ecolor='k', label='RADD')\n",
      "plt.setp(ax, xlim=(.1, 1.1), ylim=(.5, .57), xticks=rtd.keys(), \n",
      "         xticklabels=rtd.keys(), xlabel='P(Go)')\n",
      "plt.setp(ax.get_yticklabels(), fontsize=17)\n",
      "ax.set_ylabel('RT (s)', fontsize=19, labelpad=8) \n",
      "ax.legend(loc=0, fontsize=17)\n",
      "plt.tight_layout()\n",
      "sns.despine()\n",
      "f.savefig(\"ProPGoRT_AllSx.png\", dpi=600)    \n",
      "\n",
      "\n",
      "\n",
      "\n",
      "ff, axx=plt.subplots(1, figsize=(4, 4))\n",
      "\n",
      "axx.bar(0, rtd.mean(), yerr=rtderr.mean(), color=colors[-8], error_kw={\"elinewidth\":3,\"ecolor\":'k'},\n",
      "        alpha=.9,align='center', label='Data')\n",
      "\n",
      "axx.errorbar(0, rth.mean(), yerr=rtherr.mean(), marker='o', markersize=10, \n",
      "             elinewidth=3, ecolor='k', color=colors[-1], alpha=1, label='RADD')   \n",
      "\n",
      "plt.setp(axx, xlim=(-.7, .7), ylim=(.5, .56), xticks=[], xticklabels=[], xlabel='ssRe BSL')\n",
      "axx.set_xlabel('Proactive BSL', fontsize=19)\n",
      "plt.setp(axx.get_yticklabels(), fontsize=17)\n",
      "axx.set_ylabel('RT (s)', fontsize=19, labelpad=8) \n",
      "axx.legend(loc=0, fontsize=17)\n",
      "sns.despine()\n",
      "plt.tight_layout()\n",
      "\n",
      "ff.savefig(\"ProAvgRT_AllSx.png\", dpi=600)    "
     ],
     "language": "python",
     "metadata": {},
     "outputs": []
    }
   ],
   "metadata": {}
  }
 ]
}