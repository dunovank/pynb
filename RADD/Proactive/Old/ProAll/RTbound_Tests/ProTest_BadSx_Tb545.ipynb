{
 "metadata": {
  "name": "",
  "signature": "sha256:2262e6dc2ddc964dc6769e7cbb54e9118a3496bb3d48ea0233e6a8712f050d14"
 },
 "nbformat": 3,
 "nbformat_minor": 0,
 "worksheets": [
  {
   "cells": [
    {
     "cell_type": "code",
     "collapsed": false,
     "input": [
      "from __future__ import division\n",
      "import pandas as pd\n",
      "from radd import utils, xopt, psy, ss, simfx\n",
      "from lmfit import Parameters, Minimizer\n",
      "import seaborn as sns\n",
      "import os\n",
      "from collections import OrderedDict\n"
     ],
     "language": "python",
     "metadata": {},
     "outputs": [],
     "prompt_number": 7
    },
    {
     "cell_type": "code",
     "collapsed": false,
     "input": [
      "pth=utils.find_path()\n",
      "#no rt cutoff applied\n",
      "pro_bsl=pd.read_csv(pth+\"DataFiles/Pro_AllData.csv\", index_col=0)\n",
      "\n",
      "#cutoff all at .550\n",
      "#pro_bsl=pd.read_csv(pth+\"DataFiles/ProBSL_Data.csv\", index_col=0)\n",
      "bsl=pro_bsl.copy()\n",
      "bsl['pGo']=bsl['pGo']*100*.01\n",
      "bsl['pGo'].unique()\n",
      "print bsl[bsl['choice']=='go'].rt.max()\n"
     ],
     "language": "python",
     "metadata": {},
     "outputs": [
      {
       "output_type": "stream",
       "stream": "stdout",
       "text": [
        "0.5599846\n"
       ]
      }
     ],
     "prompt_number": 9
    },
    {
     "cell_type": "code",
     "collapsed": false,
     "input": [
      "utils=reload(utils); ss=reload(ss)\n",
      "pth=utils.find_path()\n",
      "# all original data - no rt cutoff (timebound=.560)\n",
      "alldata=pd.read_csv(pth+\"DataFiles/Pro_AllData.csv\", index_col=0)\n",
      "\n",
      "# cutoff at .550\n",
      "#pro550=pd.read_csv(pth+\"DataFiles/Pro_Data.csv\", index_col=0)\n",
      "\n",
      "# cutoff at .545\n",
      "prodf=utils.trunc_df(alldata)\n",
      "\n",
      "# load params\n",
      "paramdf=pd.read_csv(pth+\"ParamFiles/ProBSL_HDDM_Params.csv\", index_col='subj_idx')\n",
      "\n",
      "allgorts=utils.sxrt_pivot(prodf)\n",
      "#cutgorts=utils.sxrt_pivot(pro545)\n",
      "prodf_stops=utils.sxstop_pivot(prodf)\n",
      "#cutdf_stops=utils.sxstop_pivot(pro545)\n",
      "\n",
      "all_stop=[0.928484,0.755328,0.478074,0.240369,0.035246,0.004889]\n",
      "all_rt=[0.534378,0.540155,0.542990,0.542564,0.533544,0.529063]\n",
      "cut_rt=[0.480469,0.491375,0.500804,0.510604,0.506695,0.502725]\n",
      "cut_go=[1.0, 1.0, 1.0, 1.0, 1.0, 1.0]"
     ],
     "language": "python",
     "metadata": {},
     "outputs": [],
     "prompt_number": 10
    },
    {
     "cell_type": "code",
     "collapsed": false,
     "input": [
      "print prodf[prodf['choice']=='go'].rt.max()"
     ],
     "language": "python",
     "metadata": {},
     "outputs": [
      {
       "output_type": "stream",
       "stream": "stdout",
       "text": [
        "0.545\n"
       ]
      }
     ],
     "prompt_number": 11
    },
    {
     "cell_type": "code",
     "collapsed": false,
     "input": [
      "goodsx=[28, 29, 48, 54, 76]\n",
      "badsx=[42, 60, 66, 78, 85, 86, 88]\n",
      "\n",
      "goodrts=allgorts[allgorts.index.isin(goodsx)]\n",
      "goodstops=prodf_stops[prodf_stops.index.isin(goodsx)]\n",
      "\n",
      "badrts=allgorts[allgorts.index.isin(badsx)]\n",
      "badstops=prodf_stops[prodf_stops.index.isin(badsx)]\n",
      "\n",
      "badrts_scaled=badrts*10\n",
      "badrts_scaled"
     ],
     "language": "python",
     "metadata": {},
     "outputs": [
      {
       "html": [
        "<div style=\"max-height:1000px;max-width:1500px;overflow:auto;\">\n",
        "<table border=\"1\" class=\"dataframe\">\n",
        "  <thead>\n",
        "    <tr style=\"text-align: right;\">\n",
        "      <th>pGo</th>\n",
        "      <th>0.0</th>\n",
        "      <th>0.2</th>\n",
        "      <th>0.4</th>\n",
        "      <th>0.6</th>\n",
        "      <th>0.8</th>\n",
        "      <th>1.0</th>\n",
        "    </tr>\n",
        "    <tr>\n",
        "      <th>subj_idx</th>\n",
        "      <th></th>\n",
        "      <th></th>\n",
        "      <th></th>\n",
        "      <th></th>\n",
        "      <th></th>\n",
        "      <th></th>\n",
        "    </tr>\n",
        "  </thead>\n",
        "  <tbody>\n",
        "    <tr>\n",
        "      <th>42</th>\n",
        "      <td> 0.010000</td>\n",
        "      <td> 0.010000</td>\n",
        "      <td>      NaN</td>\n",
        "      <td> 5.318068</td>\n",
        "      <td>      NaN</td>\n",
        "      <td> 5.337068</td>\n",
        "    </tr>\n",
        "    <tr>\n",
        "      <th>60</th>\n",
        "      <td>      NaN</td>\n",
        "      <td> 5.442478</td>\n",
        "      <td> 5.148331</td>\n",
        "      <td> 5.293525</td>\n",
        "      <td> 4.944254</td>\n",
        "      <td> 5.056606</td>\n",
        "    </tr>\n",
        "    <tr>\n",
        "      <th>66</th>\n",
        "      <td> 5.117724</td>\n",
        "      <td> 3.718843</td>\n",
        "      <td> 5.066926</td>\n",
        "      <td> 5.117962</td>\n",
        "      <td> 4.849035</td>\n",
        "      <td> 4.707372</td>\n",
        "    </tr>\n",
        "    <tr>\n",
        "      <th>78</th>\n",
        "      <td> 5.317314</td>\n",
        "      <td> 4.651090</td>\n",
        "      <td>      NaN</td>\n",
        "      <td> 5.316986</td>\n",
        "      <td> 4.866962</td>\n",
        "      <td> 4.898733</td>\n",
        "    </tr>\n",
        "    <tr>\n",
        "      <th>85</th>\n",
        "      <td> 4.935276</td>\n",
        "      <td> 5.075091</td>\n",
        "      <td> 5.118156</td>\n",
        "      <td> 4.990486</td>\n",
        "      <td> 5.028192</td>\n",
        "      <td> 4.979122</td>\n",
        "    </tr>\n",
        "    <tr>\n",
        "      <th>86</th>\n",
        "      <td> 4.655734</td>\n",
        "      <td> 5.090468</td>\n",
        "      <td> 5.315120</td>\n",
        "      <td> 5.369592</td>\n",
        "      <td> 5.115188</td>\n",
        "      <td> 5.041441</td>\n",
        "    </tr>\n",
        "    <tr>\n",
        "      <th>88</th>\n",
        "      <td> 5.119720</td>\n",
        "      <td> 5.013936</td>\n",
        "      <td> 4.839944</td>\n",
        "      <td> 4.940050</td>\n",
        "      <td> 5.108328</td>\n",
        "      <td> 5.027727</td>\n",
        "    </tr>\n",
        "  </tbody>\n",
        "</table>\n",
        "</div>"
       ],
       "metadata": {},
       "output_type": "pyout",
       "prompt_number": 48,
       "text": [
        "pGo            0.0       0.2       0.4       0.6       0.8       1.0\n",
        "subj_idx                                                            \n",
        "42        0.010000  0.010000       NaN  5.318068       NaN  5.337068\n",
        "60             NaN  5.442478  5.148331  5.293525  4.944254  5.056606\n",
        "66        5.117724  3.718843  5.066926  5.117962  4.849035  4.707372\n",
        "78        5.317314  4.651090       NaN  5.316986  4.866962  4.898733\n",
        "85        4.935276  5.075091  5.118156  4.990486  5.028192  4.979122\n",
        "86        4.655734  5.090468  5.315120  5.369592  5.115188  5.041441\n",
        "88        5.119720  5.013936  4.839944  4.940050  5.108328  5.027727"
       ]
      }
     ],
     "prompt_number": 48
    },
    {
     "cell_type": "code",
     "collapsed": false,
     "input": [
      "ss=reload(ss)\n",
      "pb=utils.PBinJ(len(goodsx)*len(pgo_list), color=\"#95a5a6\"); sx_n=0\n",
      "os.chdir(utils.find_path()+\"OptAccRT/ProBSL_GoodSx_AllData\")\n",
      "ntrials=1000; depHyper=True\n",
      "\n",
      "pgo_list=[0.0, 0.2, 0.4, 0.6, 0.8, 1.0]\n",
      "\n",
      "badsx=[42, 60, 66, 78, 85, 86, 88]\n",
      "\n",
      "# init sx concat list\n",
      "sxfits_list=[]\n",
      "\n",
      "for sx in badsx:\n",
      "    \n",
      "    sx_rt=np.array(badrts_scaled.loc[sx,:].values)\n",
      "    sx_pstop=np.array(badstops.loc[sx,:].values)\n",
      "    \n",
      "    try:\n",
      "        sxinits=paramdf.loc[sx,:].to_dict()\n",
      "    except Exception:\n",
      "        sxinits=paramdf.mean().to_dict()\n",
      "\n",
      "\n",
      "    sxinits['ssd']=.450\n",
      "    \n",
      "    sxpred=pd.DataFrame(columns=['subj_idx','pGo', 'v', 'pstop_data', \n",
      "                                 'pstop_radd', 'rt_data', 'rt_radd', \n",
      "                                 'chi'], index=pgo_list)\n",
      "    \n",
      "    for i, pg in enumerate(pgo_list):\n",
      "        \n",
      "        \n",
      "        pb.update_i(sx_n)\n",
      "        sx_n +=1\n",
      "        \n",
      "        sxinits['pGo']=pg\n",
      "        \n",
      "        if pg<.5:\n",
      "            \n",
      "            vinit=sxinits['v(Lo)']\n",
      "            \n",
      "        else:\n",
      "            \n",
      "            vinit=sxinits['v(Hi)']\n",
      "        \n",
      "        y=np.array([sx_pstop[i], sx_rt[i]])\n",
      "        \n",
      "        p=Parameters()\n",
      "        p.add('v', value=vinit, min=0.0, vary=True)\n",
      "        \n",
      "        popt = Minimizer(sspro_accrt_minfunc, p, fcn_args=(sxinits, y, ntrials), method='Nelder-Mead') \n",
      "        popt.fmin(maxfun=1000, ftol=1.e-3, xtol=1.e-3, full_output=True, disp=True)      \n",
      "        \n",
      "        pstop_radd=y[0]+popt.residual[0]\n",
      "        rt_radd=y[1]+popt.residual[1]\n",
      "        \n",
      "        sxpred.loc[pg,:]=pd.Series(OrderedDict([('subj_idx',int(sx)), ('pGo',pg), ('v',p['v'].value), \n",
      "                                    ('pstop_data',y[0]), ('pstop_radd',pstop_radd), ('rt_data',y[1]), \n",
      "                                    ('rt_radd',rt_radd), ('chi',popt.chisqr)]))\n",
      "    pb.update_i(sx_n)\n",
      "    \n",
      "    sxpred.to_csv(\"ProFits_BadSx\"+str(sx)+\"_tb545.csv\")\n",
      "    \n",
      "    sxfits_list.append(sxpred)\n",
      "\n",
      "    print \"-\"*100\n",
      "    \n",
      "    \n",
      "allsx_fits=pd.concat(sxfits_list)\n",
      "allsx_fits.to_csv(\"ProFits_BadSx_tb545.csv\")"
     ],
     "language": "python",
     "metadata": {},
     "outputs": [
      {
       "html": [
        "\n",
        "\t    <div style=\"border: 1px solid black; width:500px\">\n",
        "\t    <div id=\"f02e4e65-7541-4eb7-b171-69c17acdf3ae\" style=\"background-color:#95a5a6; width:0%\">&nbsp;</div>\n",
        "\t    </div> \n",
        "\t    "
       ],
       "metadata": {},
       "output_type": "display_data",
       "text": [
        "<IPython.core.display.HTML at 0x7fb6d9d4b910>"
       ]
      },
      {
       "javascript": [
        "$('div#f02e4e65-7541-4eb7-b171-69c17acdf3ae').width('0.00%')"
       ],
       "metadata": {},
       "output_type": "display_data",
       "text": [
        "<IPython.core.display.Javascript at 0x7fb6d9d28b90>"
       ]
      },
      {
       "output_type": "stream",
       "stream": "stdout",
       "text": [
        "Optimization terminated successfully.\n",
        "         Current function value: 14.160895\n",
        "         Iterations: 16\n",
        "         Function evaluations: 42\n"
       ]
      },
      {
       "javascript": [
        "$('div#f02e4e65-7541-4eb7-b171-69c17acdf3ae').width('3.33%')"
       ],
       "metadata": {},
       "output_type": "display_data",
       "text": [
        "<IPython.core.display.Javascript at 0x7fb6d9d4b850>"
       ]
      },
      {
       "output_type": "stream",
       "stream": "stdout",
       "text": [
        "Optimization terminated successfully.\n",
        "         Current function value: 15.122063\n",
        "         Iterations: 16\n",
        "         Function evaluations: 42\n"
       ]
      },
      {
       "javascript": [
        "$('div#f02e4e65-7541-4eb7-b171-69c17acdf3ae').width('6.67%')"
       ],
       "metadata": {},
       "output_type": "display_data",
       "text": [
        "<IPython.core.display.Javascript at 0x7fb6d9e12a90>"
       ]
      },
      {
       "output_type": "stream",
       "stream": "stdout",
       "text": [
        "Warning: Maximum number of iterations has been exceeded.\n"
       ]
      },
      {
       "javascript": [
        "$('div#f02e4e65-7541-4eb7-b171-69c17acdf3ae').width('10.00%')"
       ],
       "metadata": {},
       "output_type": "display_data",
       "text": [
        "<IPython.core.display.Javascript at 0x7fb6d9de4a50>"
       ]
      },
      {
       "output_type": "stream",
       "stream": "stdout",
       "text": [
        "Optimization terminated successfully.\n",
        "         Current function value: 0.000036\n",
        "         Iterations: 13\n",
        "         Function evaluations: 30\n"
       ]
      },
      {
       "javascript": [
        "$('div#f02e4e65-7541-4eb7-b171-69c17acdf3ae').width('13.33%')"
       ],
       "metadata": {},
       "output_type": "display_data",
       "text": [
        "<IPython.core.display.Javascript at 0x7fb6d9cf9fd0>"
       ]
      },
      {
       "output_type": "stream",
       "stream": "stdout",
       "text": [
        "Warning: Maximum number of iterations has been exceeded.\n"
       ]
      },
      {
       "javascript": [
        "$('div#f02e4e65-7541-4eb7-b171-69c17acdf3ae').width('16.67%')"
       ],
       "metadata": {},
       "output_type": "display_data",
       "text": [
        "<IPython.core.display.Javascript at 0x7fb6d9dc9b50>"
       ]
      },
      {
       "output_type": "stream",
       "stream": "stdout",
       "text": [
        "Optimization terminated successfully.\n",
        "         Current function value: 0.015133\n",
        "         Iterations: 84\n",
        "         Function evaluations: 227\n"
       ]
      },
      {
       "javascript": [
        "$('div#f02e4e65-7541-4eb7-b171-69c17acdf3ae').width('20.00%')"
       ],
       "metadata": {},
       "output_type": "display_data",
       "text": [
        "<IPython.core.display.Javascript at 0x7fb6d9d4ba90>"
       ]
      },
      {
       "output_type": "stream",
       "stream": "stdout",
       "text": [
        "----------------------------------------------------------------------------------------------------\n"
       ]
      },
      {
       "javascript": [
        "$('div#f02e4e65-7541-4eb7-b171-69c17acdf3ae').width('20.00%')"
       ],
       "metadata": {},
       "output_type": "display_data",
       "text": [
        "<IPython.core.display.Javascript at 0x7fb6d9d8d690>"
       ]
      },
      {
       "output_type": "stream",
       "stream": "stdout",
       "text": [
        "Warning: Maximum number of iterations has been exceeded.\n"
       ]
      },
      {
       "javascript": [
        "$('div#f02e4e65-7541-4eb7-b171-69c17acdf3ae').width('23.33%')"
       ],
       "metadata": {},
       "output_type": "display_data",
       "text": [
        "<IPython.core.display.Javascript at 0x7fb6d9d99e90>"
       ]
      },
      {
       "output_type": "stream",
       "stream": "stdout",
       "text": [
        "Optimization terminated successfully.\n",
        "         Current function value: 0.000287\n",
        "         Iterations: 13\n",
        "         Function evaluations: 33\n"
       ]
      },
      {
       "javascript": [
        "$('div#f02e4e65-7541-4eb7-b171-69c17acdf3ae').width('26.67%')"
       ],
       "metadata": {},
       "output_type": "display_data",
       "text": [
        "<IPython.core.display.Javascript at 0x7fb6d9caea50>"
       ]
      },
      {
       "output_type": "stream",
       "stream": "stdout",
       "text": [
        "Optimization terminated successfully.\n",
        "         Current function value: 0.012507\n",
        "         Iterations: 11\n",
        "         Function evaluations: 27\n"
       ]
      },
      {
       "javascript": [
        "$('div#f02e4e65-7541-4eb7-b171-69c17acdf3ae').width('30.00%')"
       ],
       "metadata": {},
       "output_type": "display_data",
       "text": [
        "<IPython.core.display.Javascript at 0x7fb6d9da17d0>"
       ]
      },
      {
       "output_type": "stream",
       "stream": "stdout",
       "text": [
        "Optimization terminated successfully.\n",
        "         Current function value: 0.000285\n",
        "         Iterations: 12\n",
        "         Function evaluations: 27\n"
       ]
      },
      {
       "javascript": [
        "$('div#f02e4e65-7541-4eb7-b171-69c17acdf3ae').width('33.33%')"
       ],
       "metadata": {},
       "output_type": "display_data",
       "text": [
        "<IPython.core.display.Javascript at 0x7fb6d9df7510>"
       ]
      },
      {
       "output_type": "stream",
       "stream": "stdout",
       "text": [
        "Optimization terminated successfully.\n",
        "         Current function value: 0.000657\n",
        "         Iterations: 9\n",
        "         Function evaluations: 20\n"
       ]
      },
      {
       "javascript": [
        "$('div#f02e4e65-7541-4eb7-b171-69c17acdf3ae').width('36.67%')"
       ],
       "metadata": {},
       "output_type": "display_data",
       "text": [
        "<IPython.core.display.Javascript at 0x7fb6d9ca9a10>"
       ]
      },
      {
       "output_type": "stream",
       "stream": "stdout",
       "text": [
        "Optimization terminated successfully.\n",
        "         Current function value: 0.005182\n",
        "         Iterations: 13\n",
        "         Function evaluations: 31\n"
       ]
      },
      {
       "javascript": [
        "$('div#f02e4e65-7541-4eb7-b171-69c17acdf3ae').width('40.00%')"
       ],
       "metadata": {},
       "output_type": "display_data",
       "text": [
        "<IPython.core.display.Javascript at 0x7fb6d9d8dad0>"
       ]
      },
      {
       "output_type": "stream",
       "stream": "stdout",
       "text": [
        "----------------------------------------------------------------------------------------------------\n"
       ]
      },
      {
       "javascript": [
        "$('div#f02e4e65-7541-4eb7-b171-69c17acdf3ae').width('40.00%')"
       ],
       "metadata": {},
       "output_type": "display_data",
       "text": [
        "<IPython.core.display.Javascript at 0x7fb6d9ee6910>"
       ]
      },
      {
       "output_type": "stream",
       "stream": "stdout",
       "text": [
        "Optimization terminated successfully.\n",
        "         Current function value: 0.000003\n",
        "         Iterations: 8\n",
        "         Function evaluations: 20\n"
       ]
      },
      {
       "javascript": [
        "$('div#f02e4e65-7541-4eb7-b171-69c17acdf3ae').width('43.33%')"
       ],
       "metadata": {},
       "output_type": "display_data",
       "text": [
        "<IPython.core.display.Javascript at 0x7fb6d9db3d90>"
       ]
      },
      {
       "output_type": "stream",
       "stream": "stdout",
       "text": [
        "Warning: Maximum number of iterations has been exceeded.\n"
       ]
      },
      {
       "javascript": [
        "$('div#f02e4e65-7541-4eb7-b171-69c17acdf3ae').width('46.67%')"
       ],
       "metadata": {},
       "output_type": "display_data",
       "text": [
        "<IPython.core.display.Javascript at 0x7fb6d9cd0750>"
       ]
      },
      {
       "output_type": "stream",
       "stream": "stdout",
       "text": [
        "Optimization terminated successfully.\n",
        "         Current function value: 0.032523\n",
        "         Iterations: 9\n",
        "         Function evaluations: 21\n"
       ]
      },
      {
       "javascript": [
        "$('div#f02e4e65-7541-4eb7-b171-69c17acdf3ae').width('50.00%')"
       ],
       "metadata": {},
       "output_type": "display_data",
       "text": [
        "<IPython.core.display.Javascript at 0x7fb6d9e00990>"
       ]
      },
      {
       "output_type": "stream",
       "stream": "stdout",
       "text": [
        "Optimization terminated successfully.\n",
        "         Current function value: 0.000010\n",
        "         Iterations: 9\n",
        "         Function evaluations: 23\n"
       ]
      },
      {
       "javascript": [
        "$('div#f02e4e65-7541-4eb7-b171-69c17acdf3ae').width('53.33%')"
       ],
       "metadata": {},
       "output_type": "display_data",
       "text": [
        "<IPython.core.display.Javascript at 0x7fb6d9dc5e50>"
       ]
      },
      {
       "output_type": "stream",
       "stream": "stdout",
       "text": [
        "Optimization terminated successfully.\n",
        "         Current function value: 0.000010\n",
        "         Iterations: 11\n",
        "         Function evaluations: 26\n"
       ]
      },
      {
       "javascript": [
        "$('div#f02e4e65-7541-4eb7-b171-69c17acdf3ae').width('56.67%')"
       ],
       "metadata": {},
       "output_type": "display_data",
       "text": [
        "<IPython.core.display.Javascript at 0x7fb6d9ce4390>"
       ]
      },
      {
       "output_type": "stream",
       "stream": "stdout",
       "text": [
        "Optimization terminated successfully.\n",
        "         Current function value: 0.000001\n",
        "         Iterations: 11\n",
        "         Function evaluations: 25\n"
       ]
      },
      {
       "javascript": [
        "$('div#f02e4e65-7541-4eb7-b171-69c17acdf3ae').width('60.00%')"
       ],
       "metadata": {},
       "output_type": "display_data",
       "text": [
        "<IPython.core.display.Javascript at 0x7fb6d9ee6190>"
       ]
      },
      {
       "output_type": "stream",
       "stream": "stdout",
       "text": [
        "----------------------------------------------------------------------------------------------------\n"
       ]
      },
      {
       "javascript": [
        "$('div#f02e4e65-7541-4eb7-b171-69c17acdf3ae').width('60.00%')"
       ],
       "metadata": {},
       "output_type": "display_data",
       "text": [
        "<IPython.core.display.Javascript at 0x7fb6d9ceb510>"
       ]
      },
      {
       "output_type": "stream",
       "stream": "stdout",
       "text": [
        "Optimization terminated successfully.\n",
        "         Current function value: 0.000001\n",
        "         Iterations: 11\n",
        "         Function evaluations: 26\n"
       ]
      },
      {
       "javascript": [
        "$('div#f02e4e65-7541-4eb7-b171-69c17acdf3ae').width('63.33%')"
       ],
       "metadata": {},
       "output_type": "display_data",
       "text": [
        "<IPython.core.display.Javascript at 0x7fb6d9ecee10>"
       ]
      },
      {
       "output_type": "stream",
       "stream": "stdout",
       "text": [
        "Warning: Maximum number of iterations has been exceeded.\n"
       ]
      },
      {
       "javascript": [
        "$('div#f02e4e65-7541-4eb7-b171-69c17acdf3ae').width('66.67%')"
       ],
       "metadata": {},
       "output_type": "display_data",
       "text": [
        "<IPython.core.display.Javascript at 0x7fb6d9f0a0d0>"
       ]
      },
      {
       "output_type": "stream",
       "stream": "stdout",
       "text": [
        "Warning: Maximum number of iterations has been exceeded.\n"
       ]
      },
      {
       "javascript": [
        "$('div#f02e4e65-7541-4eb7-b171-69c17acdf3ae').width('70.00%')"
       ],
       "metadata": {},
       "output_type": "display_data",
       "text": [
        "<IPython.core.display.Javascript at 0x7fb6d9dc3bd0>"
       ]
      },
      {
       "output_type": "stream",
       "stream": "stdout",
       "text": [
        "Optimization terminated successfully.\n",
        "         Current function value: 0.000371\n",
        "         Iterations: 12\n",
        "         Function evaluations: 28\n"
       ]
      },
      {
       "javascript": [
        "$('div#f02e4e65-7541-4eb7-b171-69c17acdf3ae').width('73.33%')"
       ],
       "metadata": {},
       "output_type": "display_data",
       "text": [
        "<IPython.core.display.Javascript at 0x7fb6d9ef4250>"
       ]
      },
      {
       "output_type": "stream",
       "stream": "stdout",
       "text": [
        "Optimization terminated successfully.\n",
        "         Current function value: 0.009626\n",
        "         Iterations: 17\n",
        "         Function evaluations: 41\n"
       ]
      },
      {
       "javascript": [
        "$('div#f02e4e65-7541-4eb7-b171-69c17acdf3ae').width('76.67%')"
       ],
       "metadata": {},
       "output_type": "display_data",
       "text": [
        "<IPython.core.display.Javascript at 0x7fb6d9ed7850>"
       ]
      },
      {
       "output_type": "stream",
       "stream": "stdout",
       "text": [
        "Optimization terminated successfully.\n",
        "         Current function value: 0.001102\n",
        "         Iterations: 10\n",
        "         Function evaluations: 22\n"
       ]
      },
      {
       "javascript": [
        "$('div#f02e4e65-7541-4eb7-b171-69c17acdf3ae').width('80.00%')"
       ],
       "metadata": {},
       "output_type": "display_data",
       "text": [
        "<IPython.core.display.Javascript at 0x7fb6d9ceb0d0>"
       ]
      },
      {
       "output_type": "stream",
       "stream": "stdout",
       "text": [
        "----------------------------------------------------------------------------------------------------\n"
       ]
      },
      {
       "javascript": [
        "$('div#f02e4e65-7541-4eb7-b171-69c17acdf3ae').width('80.00%')"
       ],
       "metadata": {},
       "output_type": "display_data",
       "text": [
        "<IPython.core.display.Javascript at 0x7fb6d9f17850>"
       ]
      },
      {
       "output_type": "stream",
       "stream": "stdout",
       "text": [
        "Optimization terminated successfully.\n",
        "         Current function value: 0.000000\n",
        "         Iterations: 10\n",
        "         Function evaluations: 23\n"
       ]
      },
      {
       "javascript": [
        "$('div#f02e4e65-7541-4eb7-b171-69c17acdf3ae').width('83.33%')"
       ],
       "metadata": {},
       "output_type": "display_data",
       "text": [
        "<IPython.core.display.Javascript at 0x7fb6d9d12650>"
       ]
      },
      {
       "output_type": "stream",
       "stream": "stdout",
       "text": [
        "Warning: Maximum number of iterations has been exceeded.\n"
       ]
      },
      {
       "javascript": [
        "$('div#f02e4e65-7541-4eb7-b171-69c17acdf3ae').width('86.67%')"
       ],
       "metadata": {},
       "output_type": "display_data",
       "text": [
        "<IPython.core.display.Javascript at 0x7fb6d9e11b10>"
       ]
      },
      {
       "output_type": "stream",
       "stream": "stdout",
       "text": [
        "Optimization terminated successfully.\n",
        "         Current function value: 0.002756\n",
        "         Iterations: 16\n",
        "         Function evaluations: 38\n"
       ]
      },
      {
       "javascript": [
        "$('div#f02e4e65-7541-4eb7-b171-69c17acdf3ae').width('90.00%')"
       ],
       "metadata": {},
       "output_type": "display_data",
       "text": [
        "<IPython.core.display.Javascript at 0x7fb6d9deecd0>"
       ]
      },
      {
       "output_type": "stream",
       "stream": "stdout",
       "text": [
        "Optimization terminated successfully.\n",
        "         Current function value: 0.016754\n",
        "         Iterations: 26\n",
        "         Function evaluations: 68\n"
       ]
      },
      {
       "javascript": [
        "$('div#f02e4e65-7541-4eb7-b171-69c17acdf3ae').width('93.33%')"
       ],
       "metadata": {},
       "output_type": "display_data",
       "text": [
        "<IPython.core.display.Javascript at 0x7fb6d9cc8810>"
       ]
      },
      {
       "output_type": "stream",
       "stream": "stdout",
       "text": [
        "Optimization terminated successfully.\n",
        "         Current function value: 0.007239\n",
        "         Iterations: 20\n",
        "         Function evaluations: 52\n"
       ]
      },
      {
       "javascript": [
        "$('div#f02e4e65-7541-4eb7-b171-69c17acdf3ae').width('96.67%')"
       ],
       "metadata": {},
       "output_type": "display_data",
       "text": [
        "<IPython.core.display.Javascript at 0x7fb6d9e0ea10>"
       ]
      },
      {
       "output_type": "stream",
       "stream": "stdout",
       "text": [
        "Optimization terminated successfully.\n",
        "         Current function value: 0.004145\n",
        "         Iterations: 9\n",
        "         Function evaluations: 23\n"
       ]
      },
      {
       "javascript": [
        "$('div#f02e4e65-7541-4eb7-b171-69c17acdf3ae').width('100.00%')"
       ],
       "metadata": {},
       "output_type": "display_data",
       "text": [
        "<IPython.core.display.Javascript at 0x7fb6d9f177d0>"
       ]
      },
      {
       "output_type": "stream",
       "stream": "stdout",
       "text": [
        "----------------------------------------------------------------------------------------------------\n"
       ]
      },
      {
       "javascript": [
        "$('div#f02e4e65-7541-4eb7-b171-69c17acdf3ae').width('100.00%')"
       ],
       "metadata": {},
       "output_type": "display_data",
       "text": [
        "<IPython.core.display.Javascript at 0x7fb6d9f12a50>"
       ]
      },
      {
       "output_type": "stream",
       "stream": "stdout",
       "text": [
        "Optimization terminated successfully.\n",
        "         Current function value: 0.000018\n",
        "         Iterations: 12\n",
        "         Function evaluations: 29\n"
       ]
      },
      {
       "javascript": [
        "$('div#f02e4e65-7541-4eb7-b171-69c17acdf3ae').width('103.33%')"
       ],
       "metadata": {},
       "output_type": "display_data",
       "text": [
        "<IPython.core.display.Javascript at 0x7fb6d9ee0ed0>"
       ]
      },
      {
       "output_type": "stream",
       "stream": "stdout",
       "text": [
        "Warning: Maximum number of iterations has been exceeded.\n"
       ]
      },
      {
       "javascript": [
        "$('div#f02e4e65-7541-4eb7-b171-69c17acdf3ae').width('106.67%')"
       ],
       "metadata": {},
       "output_type": "display_data",
       "text": [
        "<IPython.core.display.Javascript at 0x7fb6d9f0e310>"
       ]
      },
      {
       "output_type": "stream",
       "stream": "stdout",
       "text": [
        "Optimization terminated successfully.\n",
        "         Current function value: 0.000036\n",
        "         Iterations: 14\n",
        "         Function evaluations: 32\n"
       ]
      },
      {
       "javascript": [
        "$('div#f02e4e65-7541-4eb7-b171-69c17acdf3ae').width('110.00%')"
       ],
       "metadata": {},
       "output_type": "display_data",
       "text": [
        "<IPython.core.display.Javascript at 0x7fb6d9ca22d0>"
       ]
      },
      {
       "output_type": "stream",
       "stream": "stdout",
       "text": [
        "Optimization terminated successfully.\n",
        "         Current function value: 0.009000\n",
        "         Iterations: 12\n",
        "         Function evaluations: 29\n"
       ]
      },
      {
       "javascript": [
        "$('div#f02e4e65-7541-4eb7-b171-69c17acdf3ae').width('113.33%')"
       ],
       "metadata": {},
       "output_type": "display_data",
       "text": [
        "<IPython.core.display.Javascript at 0x7fb6d9ce2650>"
       ]
      },
      {
       "output_type": "stream",
       "stream": "stdout",
       "text": [
        "Optimization terminated successfully.\n",
        "         Current function value: 0.007303\n",
        "         Iterations: 24\n",
        "         Function evaluations: 60\n"
       ]
      },
      {
       "javascript": [
        "$('div#f02e4e65-7541-4eb7-b171-69c17acdf3ae').width('116.67%')"
       ],
       "metadata": {},
       "output_type": "display_data",
       "text": [
        "<IPython.core.display.Javascript at 0x7fb6d9ed7c10>"
       ]
      },
      {
       "output_type": "stream",
       "stream": "stdout",
       "text": [
        "Optimization terminated successfully.\n",
        "         Current function value: 0.001997\n",
        "         Iterations: 14\n",
        "         Function evaluations: 34\n"
       ]
      },
      {
       "javascript": [
        "$('div#f02e4e65-7541-4eb7-b171-69c17acdf3ae').width('120.00%')"
       ],
       "metadata": {},
       "output_type": "display_data",
       "text": [
        "<IPython.core.display.Javascript at 0x7fb6d9f12250>"
       ]
      },
      {
       "output_type": "stream",
       "stream": "stdout",
       "text": [
        "----------------------------------------------------------------------------------------------------\n"
       ]
      },
      {
       "javascript": [
        "$('div#f02e4e65-7541-4eb7-b171-69c17acdf3ae').width('120.00%')"
       ],
       "metadata": {},
       "output_type": "display_data",
       "text": [
        "<IPython.core.display.Javascript at 0x7fb6d9dd6390>"
       ]
      },
      {
       "output_type": "stream",
       "stream": "stdout",
       "text": [
        "Optimization terminated successfully.\n",
        "         Current function value: 0.000017\n",
        "         Iterations: 8\n",
        "         Function evaluations: 19\n"
       ]
      },
      {
       "javascript": [
        "$('div#f02e4e65-7541-4eb7-b171-69c17acdf3ae').width('123.33%')"
       ],
       "metadata": {},
       "output_type": "display_data",
       "text": [
        "<IPython.core.display.Javascript at 0x7fb6d9f0a090>"
       ]
      },
      {
       "output_type": "stream",
       "stream": "stdout",
       "text": [
        "Optimization terminated successfully.\n",
        "         Current function value: 0.062716\n",
        "         Iterations: 16\n",
        "         Function evaluations: 40\n"
       ]
      },
      {
       "javascript": [
        "$('div#f02e4e65-7541-4eb7-b171-69c17acdf3ae').width('126.67%')"
       ],
       "metadata": {},
       "output_type": "display_data",
       "text": [
        "<IPython.core.display.Javascript at 0x7fb6d9dbbed0>"
       ]
      },
      {
       "output_type": "stream",
       "stream": "stdout",
       "text": [
        "Optimization terminated successfully.\n",
        "         Current function value: 0.162107\n",
        "         Iterations: 168\n",
        "         Function evaluations: 456\n"
       ]
      },
      {
       "javascript": [
        "$('div#f02e4e65-7541-4eb7-b171-69c17acdf3ae').width('130.00%')"
       ],
       "metadata": {},
       "output_type": "display_data",
       "text": [
        "<IPython.core.display.Javascript at 0x7fb6d9f0d7d0>"
       ]
      },
      {
       "output_type": "stream",
       "stream": "stdout",
       "text": [
        "Warning: Maximum number of iterations has been exceeded.\n"
       ]
      },
      {
       "javascript": [
        "$('div#f02e4e65-7541-4eb7-b171-69c17acdf3ae').width('133.33%')"
       ],
       "metadata": {},
       "output_type": "display_data",
       "text": [
        "<IPython.core.display.Javascript at 0x7fb6d9edde90>"
       ]
      },
      {
       "output_type": "stream",
       "stream": "stdout",
       "text": [
        "Optimization terminated successfully.\n",
        "         Current function value: 0.000024\n",
        "         Iterations: 10\n",
        "         Function evaluations: 22\n"
       ]
      },
      {
       "javascript": [
        "$('div#f02e4e65-7541-4eb7-b171-69c17acdf3ae').width('136.67%')"
       ],
       "metadata": {},
       "output_type": "display_data",
       "text": [
        "<IPython.core.display.Javascript at 0x7fb6d9e19d50>"
       ]
      },
      {
       "output_type": "stream",
       "stream": "stdout",
       "text": [
        "Optimization terminated successfully.\n",
        "         Current function value: 0.003954\n",
        "         Iterations: 11\n",
        "         Function evaluations: 27\n"
       ]
      },
      {
       "javascript": [
        "$('div#f02e4e65-7541-4eb7-b171-69c17acdf3ae').width('140.00%')"
       ],
       "metadata": {},
       "output_type": "display_data",
       "text": [
        "<IPython.core.display.Javascript at 0x7fb6d9e0d810>"
       ]
      },
      {
       "output_type": "stream",
       "stream": "stdout",
       "text": [
        "----------------------------------------------------------------------------------------------------\n"
       ]
      }
     ],
     "prompt_number": 18
    },
    {
     "cell_type": "code",
     "collapsed": false,
     "input": [
      "def sspro_accrt_minfunc(p, theta, ydata, ntrials, fitting=True, depHyper=True):\n",
      "\n",
      "    theta['v']=p['v'].value\n",
      "    theta['ssv'] = -abs(theta['ssv'])\n",
      "\n",
      "    yhat=simulate(theta, mfx=radd_fitfx, ntrials=ntrials, timebound=.545, \n",
      "            depHyper=depHyper, task='ssPro', condition_str='bsl') \n",
      "    \n",
      "    if theta['pGo']==0.0:\n",
      "        return np.array([0, yhat[1]-ydata[1]])\n",
      "        \n",
      "    else:\n",
      "        return np.array([yhat[0]-ydata[0], yhat[1]-ydata[1]])"
     ],
     "language": "python",
     "metadata": {},
     "outputs": [],
     "prompt_number": 15
    },
    {
     "cell_type": "code",
     "collapsed": false,
     "input": [
      "def radd_fitfx(theta, timebound=.545, ttype='go', depHyper=True, tau=.0005, si=.01, **kwargs):\n",
      "\n",
      "    if ttype=='stop':sstrial=1\n",
      "    else: sstrial=0\n",
      "\n",
      "    mu=theta['v']; tr=theta['t']; a=theta['a']\n",
      "    z=theta['z']; ssv=theta['ssv']; ssd=theta['ssd']\n",
      "\n",
      "\n",
      "    if tr>ssd and sstrial:\n",
      "        t=ssd # start the time at ssd\n",
      "    else:\n",
      "        t=tr  # start the time at tr\n",
      "\n",
      "    ss_started=False\n",
      "    no_choice_yet=True\n",
      "    dx=np.sqrt(si*tau)  # dx is the step size up or down.\n",
      "    e=z\t                # starting point\n",
      "    e_ss=z              #arbitrary (positive) init value\n",
      "    response=0\n",
      "    \n",
      "    while no_choice_yet: \n",
      "        \n",
      "        t += tau\n",
      "        \n",
      "        if t>=timebound and no_choice_yet:\n",
      "            choice='stop'\n",
      "            rt=timebound\n",
      "            no_choice_yet=False\n",
      "\n",
      "        if t>=tr:\n",
      "            r=np.random.random_sample()\n",
      "            p=0.5*(1 + mu*dx/si)\n",
      "            \n",
      "            if r < p:\n",
      "                e = e + dx\n",
      "            else:\n",
      "                e = e - dx\n",
      "                \n",
      "            if e>=a and no_choice_yet:\n",
      "                choice='go'\n",
      "                response=1\n",
      "                rt=t\n",
      "                no_choice_yet=False\n",
      "        \n",
      "        if sstrial and t>=ssd:\n",
      "            r_ss=np.random.random_sample()\n",
      "            p_ss=0.5*(1 + ssv*dx/si)\n",
      "            if not ss_started and depHyper:\n",
      "                ss_started=True\n",
      "                e_ss=e\n",
      "            else:\n",
      "            \n",
      "                if r_ss < p_ss:\n",
      "                    e_ss = e_ss + dx\n",
      "                else:\n",
      "                    e_ss = e_ss - dx\n",
      "            \n",
      "            if e_ss<=0 and no_choice_yet:\n",
      "                choice='stop'\n",
      "                rt=t\n",
      "                no_choice_yet=False\n",
      "                response=0\n",
      "    \n",
      "    if choice==ttype: \n",
      "        acc=1.00\n",
      "    else: \n",
      "        acc=0.00\n",
      "\n",
      "    return {'rt':rt, 'choice':choice, 'trial_type':ttype,\n",
      "        'acc':acc, 'ssd':ssd, 'pGo':theta['pGo'], 'response':response}"
     ],
     "language": "python",
     "metadata": {},
     "outputs": [],
     "prompt_number": 16
    },
    {
     "cell_type": "code",
     "collapsed": false,
     "input": [
      "def simulate(theta, mfx=radd_fitfx, ntrials=20000, timebound=0.545, intervar=False,\n",
      "    task='ssRe', depHyper=True, condition_str=None, return_all=False):\n",
      "\n",
      "\n",
      "    pStop=1-theta['pGo']\n",
      "    columns=['rt', 'choice', 'response', 'acc', 'trial_type', 'ssd', 'pGo']\n",
      "    df = pd.DataFrame(columns=columns, index=np.arange(0,ntrials))\n",
      "\n",
      "    for i in range(ntrials):\n",
      "\n",
      "        ttype='go'\n",
      "        if np.random.random_sample()<=pStop:\n",
      "            ttype='stop'\n",
      "        \n",
      "        sim_out = mfx(theta, depHyper=depHyper, \n",
      "            timebound=timebound, ttype=ttype)\t\n",
      "\n",
      "        df.loc[i]=pd.Series({c:sim_out[c] for c in df.columns})\n",
      "\n",
      "    if condition_str:\n",
      "        df['condition']=[condition_str]*len(df)\n",
      "\n",
      "    df[['rt', 'acc', 'response']]=df[['rt', 'acc', 'response']].astype(float)\n",
      "    summary=ss.anl(df, task=task)\n",
      "    pstop=summary['pstop']\n",
      "    rt=summary['rt']*10\n",
      "\n",
      "    return [pstop, rt]\n"
     ],
     "language": "python",
     "metadata": {},
     "outputs": [],
     "prompt_number": 17
    },
    {
     "cell_type": "code",
     "collapsed": false,
     "input": [
      "sxl=list()\n",
      "pth=utils.find_path()\n",
      "badsx=[42, 60, 66, 78, 85, 86, 88]\n",
      "for sx in badsx:\n",
      "    try:\n",
      "        sxl.append(pd.read_csv(\"ProFits_BadSx\"+str(sx)+\"_tb545.csv\", index_col=0))\n",
      "    except:\n",
      "        pass\n",
      "\n",
      "df=pd.concat(sxl)\n",
      "stops_avg=df.groupby('pGo').mean()\n",
      "stops_sem=df.groupby('pGo').sem()\n",
      "\n",
      "dfrt=df.query('pGo>0')\n",
      "dfrt['rt_radd']=dfrt.loc[:,'rt_radd'].astype('float')\n",
      "rts_avg=dfrt.groupby('pGo').mean()\n",
      "rts_sem=dfrt.groupby('pGo').sem()\n",
      "\n",
      "yd=stops_avg['pstop_data']\n",
      "yh=stops_avg['pstop_radd']\n",
      "yderr=stops_sem['pstop_data']\n",
      "yherr=stops_sem['pstop_radd']\n",
      "\n",
      "\n",
      "rtd=rts_avg['rt_data']/10\n",
      "rth=rts_avg['rt_radd']/10\n",
      "rtderr=rts_sem['rt_data']/10\n",
      "rtherr=rts_sem['rt_radd']/10\n",
      "\n",
      "\n",
      "yd=yd.sort_index()\n",
      "yh=yh.sort_index()\n",
      "yderr=yderr.sort_index()\n",
      "yherr=yherr.sort_index()"
     ],
     "language": "python",
     "metadata": {},
     "outputs": [],
     "prompt_number": 44
    },
    {
     "cell_type": "code",
     "collapsed": false,
     "input": [
      "df"
     ],
     "language": "python",
     "metadata": {},
     "outputs": [
      {
       "html": [
        "<div style=\"max-height:1000px;max-width:1500px;overflow:auto;\">\n",
        "<table border=\"1\" class=\"dataframe\">\n",
        "  <thead>\n",
        "    <tr style=\"text-align: right;\">\n",
        "      <th></th>\n",
        "      <th>subj_idx</th>\n",
        "      <th>pGo</th>\n",
        "      <th>v</th>\n",
        "      <th>pstop_data</th>\n",
        "      <th>pstop_radd</th>\n",
        "      <th>rt_data</th>\n",
        "      <th>rt_radd</th>\n",
        "      <th>chi</th>\n",
        "    </tr>\n",
        "  </thead>\n",
        "  <tbody>\n",
        "    <tr>\n",
        "      <th>0.0</th>\n",
        "      <td> 42</td>\n",
        "      <td> 0.0</td>\n",
        "      <td> 5.457059</td>\n",
        "      <td> 0.986111</td>\n",
        "      <td> 0.986111</td>\n",
        "      <td> 0.010000</td>\n",
        "      <td> 3.773096</td>\n",
        "      <td> 14.160895</td>\n",
        "    </tr>\n",
        "    <tr>\n",
        "      <th>0.2</th>\n",
        "      <td> 42</td>\n",
        "      <td> 0.2</td>\n",
        "      <td> 5.457059</td>\n",
        "      <td> 0.980392</td>\n",
        "      <td> 0.000000</td>\n",
        "      <td> 0.010000</td>\n",
        "      <td> 3.773096</td>\n",
        "      <td> 15.122063</td>\n",
        "    </tr>\n",
        "    <tr>\n",
        "      <th>0.4</th>\n",
        "      <td> 42</td>\n",
        "      <td> 0.4</td>\n",
        "      <td> 1.694095</td>\n",
        "      <td> 1.000000</td>\n",
        "      <td> 0.287000</td>\n",
        "      <td>      NaN</td>\n",
        "      <td>      NaN</td>\n",
        "      <td>       NaN</td>\n",
        "    </tr>\n",
        "    <tr>\n",
        "      <th>0.6</th>\n",
        "      <td> 42</td>\n",
        "      <td> 0.6</td>\n",
        "      <td> 1.292471</td>\n",
        "      <td> 0.947368</td>\n",
        "      <td> 0.947000</td>\n",
        "      <td> 5.318068</td>\n",
        "      <td> 5.315549</td>\n",
        "      <td>  0.000006</td>\n",
        "    </tr>\n",
        "    <tr>\n",
        "      <th>0.8</th>\n",
        "      <td> 42</td>\n",
        "      <td> 0.8</td>\n",
        "      <td> 1.764527</td>\n",
        "      <td> 1.000000</td>\n",
        "      <td> 0.183000</td>\n",
        "      <td>      NaN</td>\n",
        "      <td>      NaN</td>\n",
        "      <td>       NaN</td>\n",
        "    </tr>\n",
        "    <tr>\n",
        "      <th>1.0</th>\n",
        "      <td> 42</td>\n",
        "      <td> 1.0</td>\n",
        "      <td> 1.633617</td>\n",
        "      <td> 0.333333</td>\n",
        "      <td> 0.403000</td>\n",
        "      <td> 5.337068</td>\n",
        "      <td> 5.208339</td>\n",
        "      <td>  0.021424</td>\n",
        "    </tr>\n",
        "    <tr>\n",
        "      <th>0.0</th>\n",
        "      <td> 60</td>\n",
        "      <td> 0.0</td>\n",
        "      <td> 1.638924</td>\n",
        "      <td> 1.000000</td>\n",
        "      <td> 1.000000</td>\n",
        "      <td>      NaN</td>\n",
        "      <td>      NaN</td>\n",
        "      <td>       NaN</td>\n",
        "    </tr>\n",
        "    <tr>\n",
        "      <th>0.2</th>\n",
        "      <td> 60</td>\n",
        "      <td> 0.2</td>\n",
        "      <td> 1.140579</td>\n",
        "      <td> 0.982143</td>\n",
        "      <td> 0.998000</td>\n",
        "      <td> 5.442478</td>\n",
        "      <td> 5.354084</td>\n",
        "      <td>  0.008065</td>\n",
        "    </tr>\n",
        "    <tr>\n",
        "      <th>0.4</th>\n",
        "      <td> 60</td>\n",
        "      <td> 0.4</td>\n",
        "      <td> 1.484365</td>\n",
        "      <td> 0.866667</td>\n",
        "      <td> 0.840000</td>\n",
        "      <td> 5.148331</td>\n",
        "      <td> 5.286459</td>\n",
        "      <td>  0.019790</td>\n",
        "    </tr>\n",
        "    <tr>\n",
        "      <th>0.6</th>\n",
        "      <td> 60</td>\n",
        "      <td> 0.6</td>\n",
        "      <td> 1.525522</td>\n",
        "      <td> 0.769231</td>\n",
        "      <td> 0.769000</td>\n",
        "      <td> 5.293525</td>\n",
        "      <td> 5.257071</td>\n",
        "      <td>  0.001329</td>\n",
        "    </tr>\n",
        "    <tr>\n",
        "      <th>0.8</th>\n",
        "      <td> 60</td>\n",
        "      <td> 0.8</td>\n",
        "      <td> 1.954180</td>\n",
        "      <td> 0.000000</td>\n",
        "      <td> 0.027000</td>\n",
        "      <td> 4.944254</td>\n",
        "      <td> 4.928821</td>\n",
        "      <td>  0.000967</td>\n",
        "    </tr>\n",
        "    <tr>\n",
        "      <th>1.0</th>\n",
        "      <td> 60</td>\n",
        "      <td> 1.0</td>\n",
        "      <td> 1.880204</td>\n",
        "      <td> 0.000000</td>\n",
        "      <td> 0.062000</td>\n",
        "      <td> 5.056606</td>\n",
        "      <td> 5.013742</td>\n",
        "      <td>  0.005681</td>\n",
        "    </tr>\n",
        "    <tr>\n",
        "      <th>0.0</th>\n",
        "      <td> 66</td>\n",
        "      <td> 0.0</td>\n",
        "      <td> 1.783246</td>\n",
        "      <td> 0.974359</td>\n",
        "      <td> 0.974359</td>\n",
        "      <td> 5.117724</td>\n",
        "      <td> 5.110530</td>\n",
        "      <td>  0.000052</td>\n",
        "    </tr>\n",
        "    <tr>\n",
        "      <th>0.2</th>\n",
        "      <td> 66</td>\n",
        "      <td> 0.2</td>\n",
        "      <td> 1.427883</td>\n",
        "      <td> 0.987500</td>\n",
        "      <td> 0.812000</td>\n",
        "      <td> 3.718843</td>\n",
        "      <td> 5.282299</td>\n",
        "      <td>  2.475193</td>\n",
        "    </tr>\n",
        "    <tr>\n",
        "      <th>0.4</th>\n",
        "      <td> 66</td>\n",
        "      <td> 0.4</td>\n",
        "      <td> 1.520839</td>\n",
        "      <td> 0.666667</td>\n",
        "      <td> 0.639000</td>\n",
        "      <td> 5.066926</td>\n",
        "      <td> 5.261573</td>\n",
        "      <td>  0.038653</td>\n",
        "    </tr>\n",
        "    <tr>\n",
        "      <th>0.6</th>\n",
        "      <td> 66</td>\n",
        "      <td> 0.6</td>\n",
        "      <td> 1.779551</td>\n",
        "      <td> 0.157895</td>\n",
        "      <td> 0.151000</td>\n",
        "      <td> 5.117962</td>\n",
        "      <td> 5.124416</td>\n",
        "      <td>  0.000089</td>\n",
        "    </tr>\n",
        "    <tr>\n",
        "      <th>0.8</th>\n",
        "      <td> 66</td>\n",
        "      <td> 0.8</td>\n",
        "      <td> 2.067092</td>\n",
        "      <td> 0.000000</td>\n",
        "      <td> 0.003000</td>\n",
        "      <td> 4.849035</td>\n",
        "      <td> 4.857921</td>\n",
        "      <td>  0.000088</td>\n",
        "    </tr>\n",
        "    <tr>\n",
        "      <th>1.0</th>\n",
        "      <td> 66</td>\n",
        "      <td> 1.0</td>\n",
        "      <td> 2.242777</td>\n",
        "      <td> 0.000000</td>\n",
        "      <td> 0.000000</td>\n",
        "      <td> 4.707372</td>\n",
        "      <td> 4.708646</td>\n",
        "      <td>  0.000002</td>\n",
        "    </tr>\n",
        "    <tr>\n",
        "      <th>0.0</th>\n",
        "      <td> 78</td>\n",
        "      <td> 0.0</td>\n",
        "      <td> 1.077265</td>\n",
        "      <td> 0.987179</td>\n",
        "      <td> 0.987179</td>\n",
        "      <td> 5.317314</td>\n",
        "      <td> 5.312623</td>\n",
        "      <td>  0.000022</td>\n",
        "    </tr>\n",
        "    <tr>\n",
        "      <th>0.2</th>\n",
        "      <td> 78</td>\n",
        "      <td> 0.2</td>\n",
        "      <td> 1.208398</td>\n",
        "      <td> 0.983051</td>\n",
        "      <td> 0.912000</td>\n",
        "      <td> 4.651090</td>\n",
        "      <td> 5.320610</td>\n",
        "      <td>  0.453305</td>\n",
        "    </tr>\n",
        "    <tr>\n",
        "      <th>0.4</th>\n",
        "      <td> 78</td>\n",
        "      <td> 0.4</td>\n",
        "      <td> 1.422926</td>\n",
        "      <td> 1.000000</td>\n",
        "      <td> 0.489000</td>\n",
        "      <td>      NaN</td>\n",
        "      <td>      NaN</td>\n",
        "      <td>       NaN</td>\n",
        "    </tr>\n",
        "    <tr>\n",
        "      <th>0.6</th>\n",
        "      <td> 78</td>\n",
        "      <td> 0.6</td>\n",
        "      <td> 1.078976</td>\n",
        "      <td> 0.960000</td>\n",
        "      <td> 0.983000</td>\n",
        "      <td> 5.316986</td>\n",
        "      <td> 5.291278</td>\n",
        "      <td>  0.001190</td>\n",
        "    </tr>\n",
        "    <tr>\n",
        "      <th>0.8</th>\n",
        "      <td> 78</td>\n",
        "      <td> 0.8</td>\n",
        "      <td> 1.658688</td>\n",
        "      <td> 0.160000</td>\n",
        "      <td> 0.083000</td>\n",
        "      <td> 4.866962</td>\n",
        "      <td> 4.938163</td>\n",
        "      <td>  0.010999</td>\n",
        "    </tr>\n",
        "    <tr>\n",
        "      <th>1.0</th>\n",
        "      <td> 78</td>\n",
        "      <td> 1.0</td>\n",
        "      <td> 1.713204</td>\n",
        "      <td> 0.000000</td>\n",
        "      <td> 0.041000</td>\n",
        "      <td> 4.898733</td>\n",
        "      <td> 4.852289</td>\n",
        "      <td>  0.003838</td>\n",
        "    </tr>\n",
        "    <tr>\n",
        "      <th>0.0</th>\n",
        "      <td> 85</td>\n",
        "      <td> 0.0</td>\n",
        "      <td> 1.745642</td>\n",
        "      <td> 0.986667</td>\n",
        "      <td> 0.986667</td>\n",
        "      <td> 4.935276</td>\n",
        "      <td> 4.928638</td>\n",
        "      <td>  0.000044</td>\n",
        "    </tr>\n",
        "    <tr>\n",
        "      <th>0.2</th>\n",
        "      <td> 85</td>\n",
        "      <td> 0.2</td>\n",
        "      <td> 1.334690</td>\n",
        "      <td> 0.888889</td>\n",
        "      <td> 0.829000</td>\n",
        "      <td> 5.075091</td>\n",
        "      <td> 5.238088</td>\n",
        "      <td>  0.030155</td>\n",
        "    </tr>\n",
        "    <tr>\n",
        "      <th>0.4</th>\n",
        "      <td> 85</td>\n",
        "      <td> 0.4</td>\n",
        "      <td> 1.468691</td>\n",
        "      <td> 0.575758</td>\n",
        "      <td> 0.563000</td>\n",
        "      <td> 5.118156</td>\n",
        "      <td> 5.203519</td>\n",
        "      <td>  0.007450</td>\n",
        "    </tr>\n",
        "    <tr>\n",
        "      <th>0.6</th>\n",
        "      <td> 85</td>\n",
        "      <td> 0.6</td>\n",
        "      <td> 1.552687</td>\n",
        "      <td> 0.347826</td>\n",
        "      <td> 0.367000</td>\n",
        "      <td> 4.990486</td>\n",
        "      <td> 5.141269</td>\n",
        "      <td>  0.023103</td>\n",
        "    </tr>\n",
        "    <tr>\n",
        "      <th>0.8</th>\n",
        "      <td> 85</td>\n",
        "      <td> 0.8</td>\n",
        "      <td> 1.714032</td>\n",
        "      <td> 0.000000</td>\n",
        "      <td> 0.084000</td>\n",
        "      <td> 5.028192</td>\n",
        "      <td> 4.971431</td>\n",
        "      <td>  0.010278</td>\n",
        "    </tr>\n",
        "    <tr>\n",
        "      <th>1.0</th>\n",
        "      <td> 85</td>\n",
        "      <td> 1.0</td>\n",
        "      <td> 1.720966</td>\n",
        "      <td> 0.000000</td>\n",
        "      <td> 0.095000</td>\n",
        "      <td> 4.979122</td>\n",
        "      <td> 4.961006</td>\n",
        "      <td>  0.009353</td>\n",
        "    </tr>\n",
        "    <tr>\n",
        "      <th>0.0</th>\n",
        "      <td> 86</td>\n",
        "      <td> 0.0</td>\n",
        "      <td> 2.291608</td>\n",
        "      <td> 0.972603</td>\n",
        "      <td> 0.972603</td>\n",
        "      <td> 4.655734</td>\n",
        "      <td> 4.663436</td>\n",
        "      <td>  0.000059</td>\n",
        "    </tr>\n",
        "    <tr>\n",
        "      <th>0.2</th>\n",
        "      <td> 86</td>\n",
        "      <td> 0.2</td>\n",
        "      <td> 1.456295</td>\n",
        "      <td> 0.951613</td>\n",
        "      <td> 0.967000</td>\n",
        "      <td> 5.090468</td>\n",
        "      <td> 5.325344</td>\n",
        "      <td>  0.055404</td>\n",
        "    </tr>\n",
        "    <tr>\n",
        "      <th>0.4</th>\n",
        "      <td> 86</td>\n",
        "      <td> 0.4</td>\n",
        "      <td> 1.538305</td>\n",
        "      <td> 0.875000</td>\n",
        "      <td> 0.899000</td>\n",
        "      <td> 5.315120</td>\n",
        "      <td> 5.287744</td>\n",
        "      <td>  0.001325</td>\n",
        "    </tr>\n",
        "    <tr>\n",
        "      <th>0.6</th>\n",
        "      <td> 86</td>\n",
        "      <td> 0.6</td>\n",
        "      <td> 1.654593</td>\n",
        "      <td> 0.681818</td>\n",
        "      <td> 0.684000</td>\n",
        "      <td> 5.369592</td>\n",
        "      <td> 5.269120</td>\n",
        "      <td>  0.010099</td>\n",
        "    </tr>\n",
        "    <tr>\n",
        "      <th>0.8</th>\n",
        "      <td> 86</td>\n",
        "      <td> 0.8</td>\n",
        "      <td> 1.947180</td>\n",
        "      <td> 0.000000</td>\n",
        "      <td> 0.093000</td>\n",
        "      <td> 5.115188</td>\n",
        "      <td> 5.066248</td>\n",
        "      <td>  0.011044</td>\n",
        "    </tr>\n",
        "    <tr>\n",
        "      <th>1.0</th>\n",
        "      <td> 86</td>\n",
        "      <td> 1.0</td>\n",
        "      <td> 1.985255</td>\n",
        "      <td> 0.000000</td>\n",
        "      <td> 0.052000</td>\n",
        "      <td> 5.041441</td>\n",
        "      <td> 5.013487</td>\n",
        "      <td>  0.003485</td>\n",
        "    </tr>\n",
        "    <tr>\n",
        "      <th>0.0</th>\n",
        "      <td> 88</td>\n",
        "      <td> 0.0</td>\n",
        "      <td> 1.651804</td>\n",
        "      <td> 0.971831</td>\n",
        "      <td> 0.971831</td>\n",
        "      <td> 5.119721</td>\n",
        "      <td> 5.123670</td>\n",
        "      <td>  0.000016</td>\n",
        "    </tr>\n",
        "    <tr>\n",
        "      <th>0.2</th>\n",
        "      <td> 88</td>\n",
        "      <td> 0.2</td>\n",
        "      <td> 1.340309</td>\n",
        "      <td> 0.935484</td>\n",
        "      <td> 0.898000</td>\n",
        "      <td> 5.013936</td>\n",
        "      <td> 5.262211</td>\n",
        "      <td>  0.063046</td>\n",
        "    </tr>\n",
        "    <tr>\n",
        "      <th>0.4</th>\n",
        "      <td> 88</td>\n",
        "      <td> 0.4</td>\n",
        "      <td> 1.350378</td>\n",
        "      <td> 0.952381</td>\n",
        "      <td> 0.877000</td>\n",
        "      <td> 4.839944</td>\n",
        "      <td> 5.274841</td>\n",
        "      <td>  0.194818</td>\n",
        "    </tr>\n",
        "    <tr>\n",
        "      <th>0.6</th>\n",
        "      <td> 88</td>\n",
        "      <td> 0.6</td>\n",
        "      <td> 1.146077</td>\n",
        "      <td> 0.848485</td>\n",
        "      <td> 0.991000</td>\n",
        "      <td> 4.940050</td>\n",
        "      <td> 5.372538</td>\n",
        "      <td>  0.207356</td>\n",
        "    </tr>\n",
        "    <tr>\n",
        "      <th>0.8</th>\n",
        "      <td> 88</td>\n",
        "      <td> 0.8</td>\n",
        "      <td> 1.650966</td>\n",
        "      <td> 0.250000</td>\n",
        "      <td> 0.242000</td>\n",
        "      <td> 5.108328</td>\n",
        "      <td> 5.105820</td>\n",
        "      <td>  0.000070</td>\n",
        "    </tr>\n",
        "    <tr>\n",
        "      <th>1.0</th>\n",
        "      <td> 88</td>\n",
        "      <td> 1.0</td>\n",
        "      <td> 1.789347</td>\n",
        "      <td> 0.000000</td>\n",
        "      <td> 0.063000</td>\n",
        "      <td> 5.027727</td>\n",
        "      <td> 4.988919</td>\n",
        "      <td>  0.005475</td>\n",
        "    </tr>\n",
        "  </tbody>\n",
        "</table>\n",
        "</div>"
       ],
       "metadata": {},
       "output_type": "pyout",
       "prompt_number": 47,
       "text": [
        "     subj_idx  pGo         v  pstop_data  pstop_radd   rt_data   rt_radd  \\\n",
        "0.0        42  0.0  5.457059    0.986111    0.986111  0.010000  3.773096   \n",
        "0.2        42  0.2  5.457059    0.980392    0.000000  0.010000  3.773096   \n",
        "0.4        42  0.4  1.694095    1.000000    0.287000       NaN       NaN   \n",
        "0.6        42  0.6  1.292471    0.947368    0.947000  5.318068  5.315549   \n",
        "0.8        42  0.8  1.764527    1.000000    0.183000       NaN       NaN   \n",
        "1.0        42  1.0  1.633617    0.333333    0.403000  5.337068  5.208339   \n",
        "0.0        60  0.0  1.638924    1.000000    1.000000       NaN       NaN   \n",
        "0.2        60  0.2  1.140579    0.982143    0.998000  5.442478  5.354084   \n",
        "0.4        60  0.4  1.484365    0.866667    0.840000  5.148331  5.286459   \n",
        "0.6        60  0.6  1.525522    0.769231    0.769000  5.293525  5.257071   \n",
        "0.8        60  0.8  1.954180    0.000000    0.027000  4.944254  4.928821   \n",
        "1.0        60  1.0  1.880204    0.000000    0.062000  5.056606  5.013742   \n",
        "0.0        66  0.0  1.783246    0.974359    0.974359  5.117724  5.110530   \n",
        "0.2        66  0.2  1.427883    0.987500    0.812000  3.718843  5.282299   \n",
        "0.4        66  0.4  1.520839    0.666667    0.639000  5.066926  5.261573   \n",
        "0.6        66  0.6  1.779551    0.157895    0.151000  5.117962  5.124416   \n",
        "0.8        66  0.8  2.067092    0.000000    0.003000  4.849035  4.857921   \n",
        "1.0        66  1.0  2.242777    0.000000    0.000000  4.707372  4.708646   \n",
        "0.0        78  0.0  1.077265    0.987179    0.987179  5.317314  5.312623   \n",
        "0.2        78  0.2  1.208398    0.983051    0.912000  4.651090  5.320610   \n",
        "0.4        78  0.4  1.422926    1.000000    0.489000       NaN       NaN   \n",
        "0.6        78  0.6  1.078976    0.960000    0.983000  5.316986  5.291278   \n",
        "0.8        78  0.8  1.658688    0.160000    0.083000  4.866962  4.938163   \n",
        "1.0        78  1.0  1.713204    0.000000    0.041000  4.898733  4.852289   \n",
        "0.0        85  0.0  1.745642    0.986667    0.986667  4.935276  4.928638   \n",
        "0.2        85  0.2  1.334690    0.888889    0.829000  5.075091  5.238088   \n",
        "0.4        85  0.4  1.468691    0.575758    0.563000  5.118156  5.203519   \n",
        "0.6        85  0.6  1.552687    0.347826    0.367000  4.990486  5.141269   \n",
        "0.8        85  0.8  1.714032    0.000000    0.084000  5.028192  4.971431   \n",
        "1.0        85  1.0  1.720966    0.000000    0.095000  4.979122  4.961006   \n",
        "0.0        86  0.0  2.291608    0.972603    0.972603  4.655734  4.663436   \n",
        "0.2        86  0.2  1.456295    0.951613    0.967000  5.090468  5.325344   \n",
        "0.4        86  0.4  1.538305    0.875000    0.899000  5.315120  5.287744   \n",
        "0.6        86  0.6  1.654593    0.681818    0.684000  5.369592  5.269120   \n",
        "0.8        86  0.8  1.947180    0.000000    0.093000  5.115188  5.066248   \n",
        "1.0        86  1.0  1.985255    0.000000    0.052000  5.041441  5.013487   \n",
        "0.0        88  0.0  1.651804    0.971831    0.971831  5.119721  5.123670   \n",
        "0.2        88  0.2  1.340309    0.935484    0.898000  5.013936  5.262211   \n",
        "0.4        88  0.4  1.350378    0.952381    0.877000  4.839944  5.274841   \n",
        "0.6        88  0.6  1.146077    0.848485    0.991000  4.940050  5.372538   \n",
        "0.8        88  0.8  1.650966    0.250000    0.242000  5.108328  5.105820   \n",
        "1.0        88  1.0  1.789347    0.000000    0.063000  5.027727  4.988919   \n",
        "\n",
        "           chi  \n",
        "0.0  14.160895  \n",
        "0.2  15.122063  \n",
        "0.4        NaN  \n",
        "0.6   0.000006  \n",
        "0.8        NaN  \n",
        "1.0   0.021424  \n",
        "0.0        NaN  \n",
        "0.2   0.008065  \n",
        "0.4   0.019790  \n",
        "0.6   0.001329  \n",
        "0.8   0.000967  \n",
        "1.0   0.005681  \n",
        "0.0   0.000052  \n",
        "0.2   2.475193  \n",
        "0.4   0.038653  \n",
        "0.6   0.000089  \n",
        "0.8   0.000088  \n",
        "1.0   0.000002  \n",
        "0.0   0.000022  \n",
        "0.2   0.453305  \n",
        "0.4        NaN  \n",
        "0.6   0.001190  \n",
        "0.8   0.010999  \n",
        "1.0   0.003838  \n",
        "0.0   0.000044  \n",
        "0.2   0.030155  \n",
        "0.4   0.007450  \n",
        "0.6   0.023103  \n",
        "0.8   0.010278  \n",
        "1.0   0.009353  \n",
        "0.0   0.000059  \n",
        "0.2   0.055404  \n",
        "0.4   0.001325  \n",
        "0.6   0.010099  \n",
        "0.8   0.011044  \n",
        "1.0   0.003485  \n",
        "0.0   0.000016  \n",
        "0.2   0.063046  \n",
        "0.4   0.194818  \n",
        "0.6   0.207356  \n",
        "0.8   0.000070  \n",
        "1.0   0.005475  "
       ]
      }
     ],
     "prompt_number": 47
    },
    {
     "cell_type": "code",
     "collapsed": false,
     "input": [
      "psy=reload(psy)\n",
      "utils=reload(utils)\n",
      "\n",
      "sparams=utils.style_params()\n",
      "colors=sparams['colors']\n",
      "sns.set_style('ticks', rc=sparams['style'])\n",
      "sns.set_context('paper', rc=sparams['context'])\n",
      "\n",
      "sns.palplot(sparams['colors'])"
     ],
     "language": "python",
     "metadata": {},
     "outputs": [
      {
       "metadata": {},
       "output_type": "display_data",
       "png": "[encoded data removed]",
       "text": [
        "<matplotlib.figure.Figure at 0x7fb6d98892d0>"
       ]
      }
     ],
     "prompt_number": 40
    },
    {
     "cell_type": "code",
     "collapsed": false,
     "input": [
      "psy=reload(psy)\n",
      "\n",
      "stopmeans=[yd.values, yh.values]\n",
      "stoperr=[yderr.values, yherr.values]\n",
      "\n",
      "ax=psy.scurves(ysim=stopmeans, yerr=stoperr, title='ProTb545_BadSx_StopFits', \n",
      "               colors=[colors[-8], colors[-1]], labels=['Data', 'RADD'], task='ssPro')"
     ],
     "language": "python",
     "metadata": {},
     "outputs": [
      {
       "metadata": {},
       "output_type": "display_data",
       "png": "[encoded data removed]",
       "text": [
        "<matplotlib.figure.Figure at 0x7fb6d9ed9290>"
       ]
      }
     ],
     "prompt_number": 33
    },
    {
     "cell_type": "code",
     "collapsed": false,
     "input": [
      "#plot rt\n",
      "plt.close('all')\n",
      "f, ax=plt.subplots(1, figsize=(6, 4))\n",
      "\n",
      "ax.errorbar(rtd.keys(), rtd, yerr=rtderr, color=colors[-8], label='Data')\n",
      "ax.errorbar(rtd.keys(), rth, yerr=rtherr, color=colors[-1], label='RADD')\n",
      "plt.setp(ax, xlim=(.1, 1.1), ylim=(.20, .56), xticks=rtd.keys(), \n",
      "         xticklabels=rtd.keys(), xlabel='P(Go)')\n",
      "plt.setp(ax.get_yticklabels(), fontsize=17)\n",
      "ax.set_ylabel('RT (s)', fontsize=19, labelpad=8) \n",
      "ax.legend(loc=0, fontsize=17)\n",
      "plt.tight_layout()\n",
      "sns.despine()\n",
      "f.savefig(\"ProTb545_BadSx_PGoRT.png\", dpi=600)    \n",
      "\n",
      "\n",
      "\n",
      "ff, axx=plt.subplots(1, figsize=(5, 5))\n",
      "\n",
      "axx.bar(0, rtd.mean(), yerr=rtderr.mean(), color=colors[-8], error_kw={\"elinewidth\":3,\"ecolor\":'k'},\n",
      "        alpha=.9,align='center', label='Data')\n",
      "\n",
      "axx.errorbar(0, rth.mean(), yerr=rtherr.mean(), marker='o', markersize=10, \n",
      "             elinewidth=3, ecolor='k', color=colors[-1], alpha=1, label='RADD')   \n",
      "\n",
      "plt.setp(axx, xlim=(-.7, .7), ylim=(.45, .53), xticks=[], xticklabels=[], xlabel='ssRe BSL')\n",
      "axx.set_xlabel('Proactive BSL', fontsize=19)\n",
      "plt.setp(axx.get_yticklabels(), fontsize=17)\n",
      "axx.set_ylabel('RT (s)', fontsize=19, labelpad=8) \n",
      "axx.legend(loc=0, fontsize=17)\n",
      "sns.despine()\n",
      "plt.tight_layout()\n",
      "\n",
      "ff.savefig(\"ProTb545_BadSx_MeanRT.png\", dpi=600)    "
     ],
     "language": "python",
     "metadata": {},
     "outputs": [
      {
       "ename": "IndexError",
       "evalue": "tuple index out of range",
       "output_type": "pyerr",
       "traceback": [
        "\u001b[1;31m---------------------------------------------------------------------------\u001b[0m\n\u001b[1;31mIndexError\u001b[0m                                Traceback (most recent call last)",
        "\u001b[1;32m<ipython-input-41-365ab46695a9>\u001b[0m in \u001b[0;36m<module>\u001b[1;34m()\u001b[0m\n\u001b[0;32m      9\u001b[0m \u001b[0mplt\u001b[0m\u001b[1;33m.\u001b[0m\u001b[0msetp\u001b[0m\u001b[1;33m(\u001b[0m\u001b[0max\u001b[0m\u001b[1;33m.\u001b[0m\u001b[0mget_yticklabels\u001b[0m\u001b[1;33m(\u001b[0m\u001b[1;33m)\u001b[0m\u001b[1;33m,\u001b[0m \u001b[0mfontsize\u001b[0m\u001b[1;33m=\u001b[0m\u001b[1;36m17\u001b[0m\u001b[1;33m)\u001b[0m\u001b[1;33m\u001b[0m\u001b[0m\n\u001b[0;32m     10\u001b[0m \u001b[0max\u001b[0m\u001b[1;33m.\u001b[0m\u001b[0mset_ylabel\u001b[0m\u001b[1;33m(\u001b[0m\u001b[1;34m'RT (s)'\u001b[0m\u001b[1;33m,\u001b[0m \u001b[0mfontsize\u001b[0m\u001b[1;33m=\u001b[0m\u001b[1;36m19\u001b[0m\u001b[1;33m,\u001b[0m \u001b[0mlabelpad\u001b[0m\u001b[1;33m=\u001b[0m\u001b[1;36m8\u001b[0m\u001b[1;33m)\u001b[0m\u001b[1;33m\u001b[0m\u001b[0m\n\u001b[1;32m---> 11\u001b[1;33m \u001b[0max\u001b[0m\u001b[1;33m.\u001b[0m\u001b[0mlegend\u001b[0m\u001b[1;33m(\u001b[0m\u001b[0mloc\u001b[0m\u001b[1;33m=\u001b[0m\u001b[1;36m0\u001b[0m\u001b[1;33m,\u001b[0m \u001b[0mfontsize\u001b[0m\u001b[1;33m=\u001b[0m\u001b[1;36m17\u001b[0m\u001b[1;33m)\u001b[0m\u001b[1;33m\u001b[0m\u001b[0m\n\u001b[0m\u001b[0;32m     12\u001b[0m \u001b[0mplt\u001b[0m\u001b[1;33m.\u001b[0m\u001b[0mtight_layout\u001b[0m\u001b[1;33m(\u001b[0m\u001b[1;33m)\u001b[0m\u001b[1;33m\u001b[0m\u001b[0m\n\u001b[0;32m     13\u001b[0m \u001b[0msns\u001b[0m\u001b[1;33m.\u001b[0m\u001b[0mdespine\u001b[0m\u001b[1;33m(\u001b[0m\u001b[1;33m)\u001b[0m\u001b[1;33m\u001b[0m\u001b[0m\n",
        "\u001b[1;32m/home/kyle/anaconda/lib/python2.7/site-packages/matplotlib/axes/_axes.pyc\u001b[0m in \u001b[0;36mlegend\u001b[1;34m(self, *args, **kwargs)\u001b[0m\n\u001b[0;32m    511\u001b[0m             \u001b[1;32mraise\u001b[0m \u001b[0mTypeError\u001b[0m\u001b[1;33m(\u001b[0m\u001b[1;34m'Invalid arguments to legend.'\u001b[0m\u001b[1;33m)\u001b[0m\u001b[1;33m\u001b[0m\u001b[0m\n\u001b[0;32m    512\u001b[0m \u001b[1;33m\u001b[0m\u001b[0m\n\u001b[1;32m--> 513\u001b[1;33m         \u001b[0mself\u001b[0m\u001b[1;33m.\u001b[0m\u001b[0mlegend_\u001b[0m \u001b[1;33m=\u001b[0m \u001b[0mmlegend\u001b[0m\u001b[1;33m.\u001b[0m\u001b[0mLegend\u001b[0m\u001b[1;33m(\u001b[0m\u001b[0mself\u001b[0m\u001b[1;33m,\u001b[0m \u001b[0mhandles\u001b[0m\u001b[1;33m,\u001b[0m \u001b[0mlabels\u001b[0m\u001b[1;33m,\u001b[0m \u001b[1;33m**\u001b[0m\u001b[0mkwargs\u001b[0m\u001b[1;33m)\u001b[0m\u001b[1;33m\u001b[0m\u001b[0m\n\u001b[0m\u001b[0;32m    514\u001b[0m         \u001b[0mself\u001b[0m\u001b[1;33m.\u001b[0m\u001b[0mlegend_\u001b[0m\u001b[1;33m.\u001b[0m\u001b[0m_remove_method\u001b[0m \u001b[1;33m=\u001b[0m \u001b[1;32mlambda\u001b[0m \u001b[0mh\u001b[0m\u001b[1;33m:\u001b[0m \u001b[0msetattr\u001b[0m\u001b[1;33m(\u001b[0m\u001b[0mself\u001b[0m\u001b[1;33m,\u001b[0m \u001b[1;34m'legend_'\u001b[0m\u001b[1;33m,\u001b[0m \u001b[0mNone\u001b[0m\u001b[1;33m)\u001b[0m\u001b[1;33m\u001b[0m\u001b[0m\n\u001b[0;32m    515\u001b[0m         \u001b[1;32mreturn\u001b[0m \u001b[0mself\u001b[0m\u001b[1;33m.\u001b[0m\u001b[0mlegend_\u001b[0m\u001b[1;33m\u001b[0m\u001b[0m\n",
        "\u001b[1;32m/home/kyle/anaconda/lib/python2.7/site-packages/matplotlib/legend.pyc\u001b[0m in \u001b[0;36m__init__\u001b[1;34m(self, parent, handles, labels, loc, numpoints, markerscale, scatterpoints, scatteryoffsets, prop, fontsize, borderpad, labelspacing, handlelength, handleheight, handletextpad, borderaxespad, columnspacing, ncol, mode, fancybox, shadow, title, framealpha, bbox_to_anchor, bbox_transform, frameon, handler_map)\u001b[0m\n\u001b[0;32m    366\u001b[0m \u001b[1;33m\u001b[0m\u001b[0m\n\u001b[0;32m    367\u001b[0m         \u001b[1;31m# init with null renderer\u001b[0m\u001b[1;33m\u001b[0m\u001b[1;33m\u001b[0m\u001b[0m\n\u001b[1;32m--> 368\u001b[1;33m         \u001b[0mself\u001b[0m\u001b[1;33m.\u001b[0m\u001b[0m_init_legend_box\u001b[0m\u001b[1;33m(\u001b[0m\u001b[0mhandles\u001b[0m\u001b[1;33m,\u001b[0m \u001b[0mlabels\u001b[0m\u001b[1;33m)\u001b[0m\u001b[1;33m\u001b[0m\u001b[0m\n\u001b[0m\u001b[0;32m    369\u001b[0m \u001b[1;33m\u001b[0m\u001b[0m\n\u001b[0;32m    370\u001b[0m         \u001b[1;32mif\u001b[0m \u001b[0mframealpha\u001b[0m \u001b[1;32mis\u001b[0m \u001b[1;32mnot\u001b[0m \u001b[0mNone\u001b[0m\u001b[1;33m:\u001b[0m\u001b[1;33m\u001b[0m\u001b[0m\n",
        "\u001b[1;32m/home/kyle/anaconda/lib/python2.7/site-packages/matplotlib/legend.pyc\u001b[0m in \u001b[0;36m_init_legend_box\u001b[1;34m(self, handles, labels)\u001b[0m\n\u001b[0;32m    638\u001b[0m                 \u001b[1;31m# original artist/handle.\u001b[0m\u001b[1;33m\u001b[0m\u001b[1;33m\u001b[0m\u001b[0m\n\u001b[0;32m    639\u001b[0m                 handle_list.append(handler.legend_artist(self, orig_handle,\n\u001b[1;32m--> 640\u001b[1;33m                                                          fontsize, handlebox))\n\u001b[0m\u001b[0;32m    641\u001b[0m \u001b[1;33m\u001b[0m\u001b[0m\n\u001b[0;32m    642\u001b[0m         \u001b[1;32mif\u001b[0m \u001b[0mlen\u001b[0m\u001b[1;33m(\u001b[0m\u001b[0mhandleboxes\u001b[0m\u001b[1;33m)\u001b[0m \u001b[1;33m>\u001b[0m \u001b[1;36m0\u001b[0m\u001b[1;33m:\u001b[0m\u001b[1;33m\u001b[0m\u001b[0m\n",
        "\u001b[1;32m/home/kyle/anaconda/lib/python2.7/site-packages/matplotlib/legend_handler.pyc\u001b[0m in \u001b[0;36mlegend_artist\u001b[1;34m(self, legend, orig_handle, fontsize, handlebox)\u001b[0m\n\u001b[0;32m    116\u001b[0m         artists = self.create_artists(legend, orig_handle,\n\u001b[0;32m    117\u001b[0m                                       \u001b[0mxdescent\u001b[0m\u001b[1;33m,\u001b[0m \u001b[0mydescent\u001b[0m\u001b[1;33m,\u001b[0m \u001b[0mwidth\u001b[0m\u001b[1;33m,\u001b[0m \u001b[0mheight\u001b[0m\u001b[1;33m,\u001b[0m\u001b[1;33m\u001b[0m\u001b[0m\n\u001b[1;32m--> 118\u001b[1;33m                                       fontsize, handlebox.get_transform())\n\u001b[0m\u001b[0;32m    119\u001b[0m \u001b[1;33m\u001b[0m\u001b[0m\n\u001b[0;32m    120\u001b[0m         \u001b[1;31m# create_artists will return a list of artists.\u001b[0m\u001b[1;33m\u001b[0m\u001b[1;33m\u001b[0m\u001b[0m\n",
        "\u001b[1;32m/home/kyle/anaconda/lib/python2.7/site-packages/matplotlib/legend_handler.pyc\u001b[0m in \u001b[0;36mcreate_artists\u001b[1;34m(self, legend, orig_handle, xdescent, ydescent, width, height, fontsize, trans)\u001b[0m\n\u001b[0;32m    471\u001b[0m                       for x, y in zip(xdata_marker, ydata_marker)]\n\u001b[0;32m    472\u001b[0m             \u001b[0mcoll\u001b[0m \u001b[1;33m=\u001b[0m \u001b[0mmcoll\u001b[0m\u001b[1;33m.\u001b[0m\u001b[0mLineCollection\u001b[0m\u001b[1;33m(\u001b[0m\u001b[0mverts\u001b[0m\u001b[1;33m)\u001b[0m\u001b[1;33m\u001b[0m\u001b[0m\n\u001b[1;32m--> 473\u001b[1;33m             \u001b[0mself\u001b[0m\u001b[1;33m.\u001b[0m\u001b[0mupdate_prop\u001b[0m\u001b[1;33m(\u001b[0m\u001b[0mcoll\u001b[0m\u001b[1;33m,\u001b[0m \u001b[0mbarlinecols\u001b[0m\u001b[1;33m[\u001b[0m\u001b[1;36m0\u001b[0m\u001b[1;33m]\u001b[0m\u001b[1;33m,\u001b[0m \u001b[0mlegend\u001b[0m\u001b[1;33m)\u001b[0m\u001b[1;33m\u001b[0m\u001b[0m\n\u001b[0m\u001b[0;32m    474\u001b[0m             \u001b[0mhandle_barlinecols\u001b[0m\u001b[1;33m.\u001b[0m\u001b[0mappend\u001b[0m\u001b[1;33m(\u001b[0m\u001b[0mcoll\u001b[0m\u001b[1;33m)\u001b[0m\u001b[1;33m\u001b[0m\u001b[0m\n\u001b[0;32m    475\u001b[0m \u001b[1;33m\u001b[0m\u001b[0m\n",
        "\u001b[1;31mIndexError\u001b[0m: tuple index out of range"
       ]
      },
      {
       "metadata": {},
       "output_type": "display_data",
       "png": "[encoded data removed]",
       "text": [
        "<matplotlib.figure.Figure at 0x7fb6d9ca0f90>"
       ]
      }
     ],
     "prompt_number": 41
    },
    {
     "cell_type": "code",
     "collapsed": false,
     "input": [],
     "language": "python",
     "metadata": {},
     "outputs": []
    }
   ],
   "metadata": {}
  }
 ]
}