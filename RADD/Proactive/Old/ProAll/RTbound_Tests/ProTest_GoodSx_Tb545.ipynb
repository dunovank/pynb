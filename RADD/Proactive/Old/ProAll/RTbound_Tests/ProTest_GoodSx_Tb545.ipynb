{
 "metadata": {
  "name": "",
  "signature": "sha256:f0ce00ce0a6b93a9d6b33494efb836a9331988dd15d6a18061c21ed082c0856b"
 },
 "nbformat": 3,
 "nbformat_minor": 0,
 "worksheets": [
  {
   "cells": [
    {
     "cell_type": "code",
     "collapsed": false,
     "input": [
      "from __future__ import division\n",
      "import pandas as pd\n",
      "from radd import utils, xopt, psy, ss, simfx\n",
      "from lmfit import Parameters, Minimizer\n",
      "import seaborn as sns\n",
      "import os\n",
      "from collections import OrderedDict"
     ],
     "language": "python",
     "metadata": {},
     "outputs": [],
     "prompt_number": 1
    },
    {
     "cell_type": "code",
     "collapsed": false,
     "input": [
      "pth=utils.find_path()\n",
      "#no rt cutoff applied\n",
      "pro_bsl=pd.read_csv(pth+\"DataFiles/Pro_Data.csv\", index_col=0)\n",
      "\n",
      "pro_bsl=utils.trunc_df(prodf)\n",
      "#cutoff all at .550\n",
      "#pro_bsl=pd.read_csv(pth+\"DataFiles/ProBSL_Data.csv\", index_col=0)\n",
      "bsl=pro_bsl.copy()\n",
      "bsl['pGo']=bsl['pGo']*100*.01\n",
      "bsl['pGo'].unique()\n",
      "print bsl[bsl['choice']=='go'].rt.max()"
     ],
     "language": "python",
     "metadata": {},
     "outputs": [
      {
       "output_type": "stream",
       "stream": "stdout",
       "text": [
        "0.545\n"
       ]
      }
     ],
     "prompt_number": 3
    },
    {
     "cell_type": "code",
     "collapsed": false,
     "input": [
      "utils=reload(utils); ss=reload(ss)\n",
      "pth=utils.find_path()\n",
      "# all original data - no rt cutoff (timebound=.560)\n",
      "alldata=pd.read_csv(pth+\"DataFiles/Pro_AllData.csv\", index_col=0)\n",
      "\n",
      "# cutoff at .550\n",
      "#pro550=pd.read_csv(pth+\"DataFiles/Pro_Data.csv\", index_col=0)\n",
      "\n",
      "# cutoff at .545\n",
      "prodf=utils.trunc_df(alldata)\n",
      "\n",
      "# load params\n",
      "paramdf=pd.read_csv(pth+\"ParamFiles/ProBSL_HDDM_Params.csv\", index_col='subj_idx')\n",
      "\n",
      "allgorts=utils.sxrt_pivot(prodf)\n",
      "#cutgorts=utils.sxrt_pivot(prodf)\n",
      "prodf_stops=utils.sxstop_pivot(prodf)\n",
      "#cutdf_stops=utils.sxstop_pivot(prodf)\n",
      "\n",
      "all_stop=[0.928484,0.755328,0.478074,0.240369,0.035246,0.004889]\n",
      "all_rt=[0.534378,0.540155,0.542990,0.542564,0.533544,0.529063]\n",
      "cut_rt=[0.480469,0.491375,0.500804,0.510604,0.506695,0.502725]\n",
      "cut_go=[1.0, 1.0, 1.0, 1.0, 1.0, 1.0]"
     ],
     "language": "python",
     "metadata": {},
     "outputs": [],
     "prompt_number": 5
    },
    {
     "cell_type": "code",
     "collapsed": false,
     "input": [
      "print prodf[prodf['choice']=='go'].rt.max()"
     ],
     "language": "python",
     "metadata": {},
     "outputs": [
      {
       "output_type": "stream",
       "stream": "stdout",
       "text": [
        "0.545\n"
       ]
      }
     ],
     "prompt_number": 12
    },
    {
     "cell_type": "code",
     "collapsed": false,
     "input": [
      "allgorts.mean()"
     ],
     "language": "python",
     "metadata": {},
     "outputs": [
      {
       "metadata": {},
       "output_type": "pyout",
       "prompt_number": 13,
       "text": [
        "pGo\n",
        "0.0    0.480470\n",
        "0.2    0.491538\n",
        "0.4    0.500805\n",
        "0.6    0.510605\n",
        "0.8    0.506696\n",
        "1.0    0.502726\n",
        "dtype: float64"
       ]
      }
     ],
     "prompt_number": 13
    },
    {
     "cell_type": "code",
     "collapsed": false,
     "input": [
      "goodsx=[28, 29, 48, 54, 76]\n",
      "badsx=[42, 60, 66, 78, 85, 86, 88]\n",
      "goodrts=allgorts[allgorts.index.isin(goodsx)]\n",
      "goodstops=prodf_stops[prodf_stops.index.isin(goodsx)]\n",
      "\n",
      "goodrts_scaled=goodrts*10"
     ],
     "language": "python",
     "metadata": {},
     "outputs": [],
     "prompt_number": 22
    },
    {
     "cell_type": "code",
     "collapsed": false,
     "input": [
      "ntrials=1000; depHyper=True\n",
      "goodsx=[28, 29, 48, 54, 76]\n",
      "pgo_list=[0.0, 0.2, 0.4, 0.6, 0.8, 1.0]\n",
      "\n",
      "# init sx concat list\n",
      "sxfits_list=[]"
     ],
     "language": "python",
     "metadata": {},
     "outputs": [],
     "prompt_number": 21
    },
    {
     "cell_type": "code",
     "collapsed": false,
     "input": [
      "ss=reload(ss)\n",
      "pb=utils.PBinJ(len(goodsx)*len(pgo_list), color=\"#009B76\"); sx_n=0\n",
      "os.chdir(utils.find_path()+\"OptAccRT/ProBSL_GoodSx_AllData\")\n",
      "ntrials=1000;\n",
      "\n",
      "for sx in goodsx:\n",
      "    \n",
      "    sx_rt=np.array(goodrts_scaled.loc[sx,:].values)\n",
      "    sx_pstop=np.array(goodstops.loc[sx,:].values)\n",
      "    \n",
      "        \n",
      "    try:\n",
      "        sxinits=paramdf.loc[sx,:].to_dict()\n",
      "    except Exception:\n",
      "        sxinits=paramdf.mean().to_dict()\n",
      "\n",
      "    sxinits['ssd']=.450\n",
      "    \n",
      "    sxpred=pd.DataFrame(columns=['subj_idx','pGo', 'v', 'pstop_data', \n",
      "                                 'pstop_radd', 'rt_data', 'rt_radd', \n",
      "                                 'chi'], index=pgo_list)\n",
      "\n",
      "    for i, pg in enumerate(pgo_list):\n",
      "        \n",
      "        \n",
      "        pb.update_i(sx_n)\n",
      "        sx_n +=1\n",
      "        \n",
      "        sxinits['pGo']=pg\n",
      "        \n",
      "        if pg<.5:\n",
      "            \n",
      "            vinit=sxinits['v(Lo)']\n",
      "            \n",
      "        else:\n",
      "            \n",
      "            vinit=sxinits['v(Hi)']\n",
      "        \n",
      "        y=np.array([sx_pstop[i], sx_rt[i]])\n",
      "        \n",
      "        p=Parameters()\n",
      "        p.add('v', value=vinit, min=0.0, vary=True)\n",
      "        \n",
      "        popt = Minimizer(sspro_accrt_minfunc, p, fcn_args=(sxinits, y, ntrials), method='Nelder-Mead') \n",
      "        popt.fmin(maxfun=1000, ftol=1.e-3, xtol=1.e-3, full_output=True, disp=True)      \n",
      "        \n",
      "        pstop_radd=y[0]+popt.residual[0]\n",
      "        rt_radd=y[1]+popt.residual[1]\n",
      "        \n",
      "        sxpred.loc[pg,:]=pd.Series(OrderedDict([('subj_idx',int(sx)), ('pGo',pg), ('v',p['v'].value), \n",
      "                                    ('pstop_data',y[0]), ('pstop_radd',pstop_radd), ('rt_data',y[1]), \n",
      "                                    ('rt_radd',rt_radd), ('chi',popt.chisqr)]))\n",
      "    pb.update_i(sx_n)\n",
      "    \n",
      "    sxpred.to_csv(\"ProFits_GoodSx\"+str(sx)+\"_tb545.csv\")\n",
      "    \n",
      "    sxfits_list.append(sxpred)\n",
      "\n",
      "    print \"-\"*100\n",
      "    \n",
      "    \n",
      "allsx_fits=pd.concat(sxfits_list)\n",
      "allsx_fits.to_csv(\"ProFits_GoodSx_tb545.csv\")\n",
      "    "
     ],
     "language": "python",
     "metadata": {},
     "outputs": [
      {
       "html": [
        "\n",
        "\t    <div style=\"border: 1px solid black; width:500px\">\n",
        "\t    <div id=\"302142c2-fb10-4a2b-8d67-50d3add51e52\" style=\"background-color:#009B76; width:0%\">&nbsp;</div>\n",
        "\t    </div> \n",
        "\t    "
       ],
       "metadata": {},
       "output_type": "display_data",
       "text": [
        "<IPython.core.display.HTML at 0x7ff5e1bb7d50>"
       ]
      },
      {
       "javascript": [
        "$('div#302142c2-fb10-4a2b-8d67-50d3add51e52').width('0.00%')"
       ],
       "metadata": {},
       "output_type": "display_data",
       "text": [
        "<IPython.core.display.Javascript at 0x7ff5e1bb7f50>"
       ]
      },
      {
       "output_type": "stream",
       "stream": "stdout",
       "text": [
        "Optimization terminated successfully.\n",
        "         Current function value: 0.000003\n",
        "         Iterations: 11\n",
        "         Function evaluations: 23\n"
       ]
      },
      {
       "javascript": [
        "$('div#302142c2-fb10-4a2b-8d67-50d3add51e52').width('3.33%')"
       ],
       "metadata": {},
       "output_type": "display_data",
       "text": [
        "<IPython.core.display.Javascript at 0x7ff5e1bc9a10>"
       ]
      },
      {
       "output_type": "stream",
       "stream": "stdout",
       "text": [
        "Optimization terminated successfully.\n",
        "         Current function value: 0.004857\n",
        "         Iterations: 24\n",
        "         Function evaluations: 61\n"
       ]
      },
      {
       "javascript": [
        "$('div#302142c2-fb10-4a2b-8d67-50d3add51e52').width('6.67%')"
       ],
       "metadata": {},
       "output_type": "display_data",
       "text": [
        "<IPython.core.display.Javascript at 0x7ff5e1cc4bd0>"
       ]
      },
      {
       "output_type": "stream",
       "stream": "stdout",
       "text": [
        "Optimization terminated successfully.\n",
        "         Current function value: 0.017642\n",
        "         Iterations: 60\n",
        "         Function evaluations: 165\n"
       ]
      },
      {
       "javascript": [
        "$('div#302142c2-fb10-4a2b-8d67-50d3add51e52').width('10.00%')"
       ],
       "metadata": {},
       "output_type": "display_data",
       "text": [
        "<IPython.core.display.Javascript at 0x7ff5e1cb73d0>"
       ]
      },
      {
       "output_type": "stream",
       "stream": "stdout",
       "text": [
        "Optimization terminated successfully.\n",
        "         Current function value: 0.000198\n",
        "         Iterations: 10\n",
        "         Function evaluations: 20\n"
       ]
      },
      {
       "javascript": [
        "$('div#302142c2-fb10-4a2b-8d67-50d3add51e52').width('13.33%')"
       ],
       "metadata": {},
       "output_type": "display_data",
       "text": [
        "<IPython.core.display.Javascript at 0x7ff5e1abb650>"
       ]
      },
      {
       "output_type": "stream",
       "stream": "stdout",
       "text": [
        "Optimization terminated successfully.\n",
        "         Current function value: 0.007555\n",
        "         Iterations: 10\n",
        "         Function evaluations: 24\n"
       ]
      },
      {
       "javascript": [
        "$('div#302142c2-fb10-4a2b-8d67-50d3add51e52').width('16.67%')"
       ],
       "metadata": {},
       "output_type": "display_data",
       "text": [
        "<IPython.core.display.Javascript at 0x7ff5e19e22d0>"
       ]
      },
      {
       "output_type": "stream",
       "stream": "stdout",
       "text": [
        "Optimization terminated successfully.\n",
        "         Current function value: 0.007768\n",
        "         Iterations: 8\n",
        "         Function evaluations: 19\n"
       ]
      },
      {
       "javascript": [
        "$('div#302142c2-fb10-4a2b-8d67-50d3add51e52').width('20.00%')"
       ],
       "metadata": {},
       "output_type": "display_data",
       "text": [
        "<IPython.core.display.Javascript at 0x7ff5e1c8fc50>"
       ]
      },
      {
       "output_type": "stream",
       "stream": "stdout",
       "text": [
        "----------------------------------------------------------------------------------------------------\n"
       ]
      },
      {
       "javascript": [
        "$('div#302142c2-fb10-4a2b-8d67-50d3add51e52').width('20.00%')"
       ],
       "metadata": {},
       "output_type": "display_data",
       "text": [
        "<IPython.core.display.Javascript at 0x7ff5e1c89f90>"
       ]
      },
      {
       "output_type": "stream",
       "stream": "stdout",
       "text": [
        "Warning: Maximum number of iterations has been exceeded.\n"
       ]
      },
      {
       "javascript": [
        "$('div#302142c2-fb10-4a2b-8d67-50d3add51e52').width('23.33%')"
       ],
       "metadata": {},
       "output_type": "display_data",
       "text": [
        "<IPython.core.display.Javascript at 0x7ff5e1c75110>"
       ]
      },
      {
       "output_type": "stream",
       "stream": "stdout",
       "text": [
        "Warning: Maximum number of iterations has been exceeded.\n"
       ]
      },
      {
       "javascript": [
        "$('div#302142c2-fb10-4a2b-8d67-50d3add51e52').width('26.67%')"
       ],
       "metadata": {},
       "output_type": "display_data",
       "text": [
        "<IPython.core.display.Javascript at 0x7ff5e1a43a50>"
       ]
      },
      {
       "output_type": "stream",
       "stream": "stdout",
       "text": [
        "Warning: Maximum number of iterations has been exceeded.\n"
       ]
      },
      {
       "javascript": [
        "$('div#302142c2-fb10-4a2b-8d67-50d3add51e52').width('30.00%')"
       ],
       "metadata": {},
       "output_type": "display_data",
       "text": [
        "<IPython.core.display.Javascript at 0x7ff5e1ce1c50>"
       ]
      },
      {
       "output_type": "stream",
       "stream": "stdout",
       "text": [
        "Optimization terminated successfully.\n",
        "         Current function value: 0.035240\n",
        "         Iterations: 18\n",
        "         Function evaluations: 44\n"
       ]
      },
      {
       "javascript": [
        "$('div#302142c2-fb10-4a2b-8d67-50d3add51e52').width('33.33%')"
       ],
       "metadata": {},
       "output_type": "display_data",
       "text": [
        "<IPython.core.display.Javascript at 0x7ff5e1acf590>"
       ]
      },
      {
       "output_type": "stream",
       "stream": "stdout",
       "text": [
        "Optimization terminated successfully.\n",
        "         Current function value: 0.005117\n",
        "         Iterations: 8\n",
        "         Function evaluations: 18\n"
       ]
      },
      {
       "javascript": [
        "$('div#302142c2-fb10-4a2b-8d67-50d3add51e52').width('36.67%')"
       ],
       "metadata": {},
       "output_type": "display_data",
       "text": [
        "<IPython.core.display.Javascript at 0x7ff5e1bd1150>"
       ]
      },
      {
       "output_type": "stream",
       "stream": "stdout",
       "text": [
        "Optimization terminated successfully.\n",
        "         Current function value: 0.001110\n",
        "         Iterations: 9\n",
        "         Function evaluations: 22\n"
       ]
      },
      {
       "javascript": [
        "$('div#302142c2-fb10-4a2b-8d67-50d3add51e52').width('40.00%')"
       ],
       "metadata": {},
       "output_type": "display_data",
       "text": [
        "<IPython.core.display.Javascript at 0x7ff5e1c89950>"
       ]
      },
      {
       "output_type": "stream",
       "stream": "stdout",
       "text": [
        "----------------------------------------------------------------------------------------------------\n"
       ]
      },
      {
       "javascript": [
        "$('div#302142c2-fb10-4a2b-8d67-50d3add51e52').width('40.00%')"
       ],
       "metadata": {},
       "output_type": "display_data",
       "text": [
        "<IPython.core.display.Javascript at 0x7ff5e1bd1190>"
       ]
      },
      {
       "output_type": "stream",
       "stream": "stdout",
       "text": [
        "Optimization terminated successfully.\n",
        "         Current function value: 0.000058\n",
        "         Iterations: 8\n",
        "         Function evaluations: 20\n"
       ]
      },
      {
       "javascript": [
        "$('div#302142c2-fb10-4a2b-8d67-50d3add51e52').width('43.33%')"
       ],
       "metadata": {},
       "output_type": "display_data",
       "text": [
        "<IPython.core.display.Javascript at 0x7ff5e1a9e150>"
       ]
      },
      {
       "output_type": "stream",
       "stream": "stdout",
       "text": [
        "Optimization terminated successfully.\n",
        "         Current function value: 0.001507\n",
        "         Iterations: 24\n",
        "         Function evaluations: 58\n"
       ]
      },
      {
       "javascript": [
        "$('div#302142c2-fb10-4a2b-8d67-50d3add51e52').width('46.67%')"
       ],
       "metadata": {},
       "output_type": "display_data",
       "text": [
        "<IPython.core.display.Javascript at 0x7ff5e1bb3150>"
       ]
      },
      {
       "output_type": "stream",
       "stream": "stdout",
       "text": [
        "Optimization terminated successfully.\n",
        "         Current function value: 0.035652\n",
        "         Iterations: 26\n",
        "         Function evaluations: 66\n"
       ]
      },
      {
       "javascript": [
        "$('div#302142c2-fb10-4a2b-8d67-50d3add51e52').width('50.00%')"
       ],
       "metadata": {},
       "output_type": "display_data",
       "text": [
        "<IPython.core.display.Javascript at 0x7ff5e1bb5f50>"
       ]
      },
      {
       "output_type": "stream",
       "stream": "stdout",
       "text": [
        "Optimization terminated successfully.\n",
        "         Current function value: 0.009978\n",
        "         Iterations: 14\n",
        "         Function evaluations: 33\n"
       ]
      },
      {
       "javascript": [
        "$('div#302142c2-fb10-4a2b-8d67-50d3add51e52').width('53.33%')"
       ],
       "metadata": {},
       "output_type": "display_data",
       "text": [
        "<IPython.core.display.Javascript at 0x7ff5e1ac0790>"
       ]
      },
      {
       "output_type": "stream",
       "stream": "stdout",
       "text": [
        "Optimization terminated successfully.\n",
        "         Current function value: 0.002079\n",
        "         Iterations: 9\n",
        "         Function evaluations: 20\n"
       ]
      },
      {
       "javascript": [
        "$('div#302142c2-fb10-4a2b-8d67-50d3add51e52').width('56.67%')"
       ],
       "metadata": {},
       "output_type": "display_data",
       "text": [
        "<IPython.core.display.Javascript at 0x7ff5e1af2b90>"
       ]
      },
      {
       "output_type": "stream",
       "stream": "stdout",
       "text": [
        "Optimization terminated successfully.\n",
        "         Current function value: 0.001408\n",
        "         Iterations: 9\n",
        "         Function evaluations: 23\n"
       ]
      },
      {
       "javascript": [
        "$('div#302142c2-fb10-4a2b-8d67-50d3add51e52').width('60.00%')"
       ],
       "metadata": {},
       "output_type": "display_data",
       "text": [
        "<IPython.core.display.Javascript at 0x7ff5e1bd1c10>"
       ]
      },
      {
       "output_type": "stream",
       "stream": "stdout",
       "text": [
        "----------------------------------------------------------------------------------------------------\n"
       ]
      },
      {
       "javascript": [
        "$('div#302142c2-fb10-4a2b-8d67-50d3add51e52').width('60.00%')"
       ],
       "metadata": {},
       "output_type": "display_data",
       "text": [
        "<IPython.core.display.Javascript at 0x7ff5e1c98bd0>"
       ]
      },
      {
       "output_type": "stream",
       "stream": "stdout",
       "text": [
        "Optimization terminated successfully.\n",
        "         Current function value: 0.000000\n",
        "         Iterations: 10\n",
        "         Function evaluations: 21\n"
       ]
      },
      {
       "javascript": [
        "$('div#302142c2-fb10-4a2b-8d67-50d3add51e52').width('63.33%')"
       ],
       "metadata": {},
       "output_type": "display_data",
       "text": [
        "<IPython.core.display.Javascript at 0x7ff5e1bb3e10>"
       ]
      },
      {
       "output_type": "stream",
       "stream": "stdout",
       "text": [
        "Optimization terminated successfully.\n",
        "         Current function value: 0.080051\n",
        "         Iterations: 102\n",
        "         Function evaluations: 273\n"
       ]
      },
      {
       "javascript": [
        "$('div#302142c2-fb10-4a2b-8d67-50d3add51e52').width('66.67%')"
       ],
       "metadata": {},
       "output_type": "display_data",
       "text": [
        "<IPython.core.display.Javascript at 0x7ff5e1ccbe10>"
       ]
      },
      {
       "output_type": "stream",
       "stream": "stdout",
       "text": [
        "Optimization terminated successfully.\n",
        "         Current function value: 0.007950\n",
        "         Iterations: 13\n",
        "         Function evaluations: 31\n"
       ]
      },
      {
       "javascript": [
        "$('div#302142c2-fb10-4a2b-8d67-50d3add51e52').width('70.00%')"
       ],
       "metadata": {},
       "output_type": "display_data",
       "text": [
        "<IPython.core.display.Javascript at 0x7ff5e19e30d0>"
       ]
      },
      {
       "output_type": "stream",
       "stream": "stdout",
       "text": [
        "Optimization terminated successfully.\n",
        "         Current function value: 0.001851\n",
        "         Iterations: 16\n",
        "         Function evaluations: 37\n"
       ]
      },
      {
       "javascript": [
        "$('div#302142c2-fb10-4a2b-8d67-50d3add51e52').width('73.33%')"
       ],
       "metadata": {},
       "output_type": "display_data",
       "text": [
        "<IPython.core.display.Javascript at 0x7ff5e1bb2b50>"
       ]
      },
      {
       "output_type": "stream",
       "stream": "stdout",
       "text": [
        "Optimization terminated successfully.\n",
        "         Current function value: 0.001857\n",
        "         Iterations: 11\n",
        "         Function evaluations: 29\n"
       ]
      },
      {
       "javascript": [
        "$('div#302142c2-fb10-4a2b-8d67-50d3add51e52').width('76.67%')"
       ],
       "metadata": {},
       "output_type": "display_data",
       "text": [
        "<IPython.core.display.Javascript at 0x7ff5e1aebf10>"
       ]
      },
      {
       "output_type": "stream",
       "stream": "stdout",
       "text": [
        "Optimization terminated successfully.\n",
        "         Current function value: 0.001047\n",
        "         Iterations: 10\n",
        "         Function evaluations: 24\n"
       ]
      },
      {
       "javascript": [
        "$('div#302142c2-fb10-4a2b-8d67-50d3add51e52').width('80.00%')"
       ],
       "metadata": {},
       "output_type": "display_data",
       "text": [
        "<IPython.core.display.Javascript at 0x7ff5e1c98a90>"
       ]
      },
      {
       "output_type": "stream",
       "stream": "stdout",
       "text": [
        "----------------------------------------------------------------------------------------------------\n"
       ]
      },
      {
       "javascript": [
        "$('div#302142c2-fb10-4a2b-8d67-50d3add51e52').width('80.00%')"
       ],
       "metadata": {},
       "output_type": "display_data",
       "text": [
        "<IPython.core.display.Javascript at 0x7ff5e1c094d0>"
       ]
      },
      {
       "output_type": "stream",
       "stream": "stdout",
       "text": [
        "Optimization terminated successfully.\n",
        "         Current function value: 0.000000\n",
        "         Iterations: 9\n",
        "         Function evaluations: 22\n"
       ]
      },
      {
       "javascript": [
        "$('div#302142c2-fb10-4a2b-8d67-50d3add51e52').width('83.33%')"
       ],
       "metadata": {},
       "output_type": "display_data",
       "text": [
        "<IPython.core.display.Javascript at 0x7ff5e1bd1e90>"
       ]
      },
      {
       "output_type": "stream",
       "stream": "stdout",
       "text": [
        "Optimization terminated successfully.\n",
        "         Current function value: 0.086155\n",
        "         Iterations: 28\n",
        "         Function evaluations: 72\n"
       ]
      },
      {
       "javascript": [
        "$('div#302142c2-fb10-4a2b-8d67-50d3add51e52').width('86.67%')"
       ],
       "metadata": {},
       "output_type": "display_data",
       "text": [
        "<IPython.core.display.Javascript at 0x7ff5e1bb2890>"
       ]
      },
      {
       "output_type": "stream",
       "stream": "stdout",
       "text": [
        "Optimization terminated successfully.\n",
        "         Current function value: 0.008699\n",
        "         Iterations: 11\n",
        "         Function evaluations: 24\n"
       ]
      },
      {
       "javascript": [
        "$('div#302142c2-fb10-4a2b-8d67-50d3add51e52').width('90.00%')"
       ],
       "metadata": {},
       "output_type": "display_data",
       "text": [
        "<IPython.core.display.Javascript at 0x7ff5e1a01090>"
       ]
      },
      {
       "output_type": "stream",
       "stream": "stdout",
       "text": [
        "Optimization terminated successfully.\n",
        "         Current function value: 0.012732\n",
        "         Iterations: 13\n",
        "         Function evaluations: 33\n"
       ]
      },
      {
       "javascript": [
        "$('div#302142c2-fb10-4a2b-8d67-50d3add51e52').width('93.33%')"
       ],
       "metadata": {},
       "output_type": "display_data",
       "text": [
        "<IPython.core.display.Javascript at 0x7ff5e1a6fb90>"
       ]
      },
      {
       "output_type": "stream",
       "stream": "stdout",
       "text": [
        "Optimization terminated successfully.\n",
        "         Current function value: 0.013964\n",
        "         Iterations: 8\n",
        "         Function evaluations: 19\n"
       ]
      },
      {
       "javascript": [
        "$('div#302142c2-fb10-4a2b-8d67-50d3add51e52').width('96.67%')"
       ],
       "metadata": {},
       "output_type": "display_data",
       "text": [
        "<IPython.core.display.Javascript at 0x7ff5e1bc4990>"
       ]
      },
      {
       "output_type": "stream",
       "stream": "stdout",
       "text": [
        "Optimization terminated successfully.\n",
        "         Current function value: 0.006479\n",
        "         Iterations: 20\n",
        "         Function evaluations: 53\n"
       ]
      },
      {
       "javascript": [
        "$('div#302142c2-fb10-4a2b-8d67-50d3add51e52').width('100.00%')"
       ],
       "metadata": {},
       "output_type": "display_data",
       "text": [
        "<IPython.core.display.Javascript at 0x7ff5e1c09550>"
       ]
      },
      {
       "output_type": "stream",
       "stream": "stdout",
       "text": [
        "----------------------------------------------------------------------------------------------------\n"
       ]
      }
     ],
     "prompt_number": 30
    },
    {
     "cell_type": "code",
     "collapsed": false,
     "input": [
      "print len(y)"
     ],
     "language": "python",
     "metadata": {},
     "outputs": []
    },
    {
     "cell_type": "code",
     "collapsed": false,
     "input": [
      "def sspro_accrt_minfunc(p, theta, ydata, ntrials, fitting=True, depHyper=True):\n",
      "\n",
      "    theta['v']=p['v'].value\n",
      "    theta['ssv'] = -abs(theta['ssv'])\n",
      "\n",
      "    yhat=simulate(theta, mfx=radd_fitfx, ntrials=ntrials, timebound=.545, \n",
      "            depHyper=depHyper, task='ssPro', condition_str='bsl') \n",
      "    \n",
      "    if theta['pGo']==0.0:\n",
      "        return np.array([0, yhat[1]-ydata[1]])\n",
      "        \n",
      "    else:\n",
      "        return np.array([yhat[0]-ydata[0], yhat[1]-ydata[1]])"
     ],
     "language": "python",
     "metadata": {},
     "outputs": [],
     "prompt_number": 29
    },
    {
     "cell_type": "code",
     "collapsed": false,
     "input": [
      "def radd_fitfx(theta, timebound=.545, ttype='go', depHyper=True, tau=.0005, si=.01, **kwargs):\n",
      "\n",
      "    if ttype=='stop':sstrial=1\n",
      "    else: sstrial=0\n",
      "        \n",
      "    mu=theta['v']; tr=theta['t']; a=theta['a']\n",
      "    z=theta['z']; ssv=theta['ssv']; ssd=theta['ssd']\n",
      "\n",
      "\n",
      "    if tr>ssd and sstrial:\n",
      "        t=ssd # start the time at ssd\n",
      "    else:\n",
      "        t=tr  # start the time at tr\n",
      "\n",
      "    ss_started=False\n",
      "    no_choice_yet=True\n",
      "    dx=np.sqrt(si*tau)  # dx is the step size up or down.\n",
      "    e=z\t                # starting point\n",
      "    e_ss=z              #arbitrary (positive) init value\n",
      "    response=0\n",
      "    \n",
      "    while no_choice_yet: \n",
      "        \n",
      "        t += tau\n",
      "        \n",
      "        if t>=timebound and no_choice_yet:\n",
      "            choice='stop'\n",
      "            rt=timebound\n",
      "            no_choice_yet=False\n",
      "\n",
      "        if t>=tr:\n",
      "            r=np.random.random_sample()\n",
      "            p=0.5*(1 + mu*dx/si)\n",
      "            \n",
      "            if r < p:\n",
      "                e = e + dx\n",
      "            else:\n",
      "                e = e - dx\n",
      "                \n",
      "            if e>=a and no_choice_yet:\n",
      "                choice='go'\n",
      "                response=1\n",
      "                rt=t\n",
      "                no_choice_yet=False\n",
      "        \n",
      "        if sstrial and t>=ssd:\n",
      "            r_ss=np.random.random_sample()\n",
      "            p_ss=0.5*(1 + ssv*dx/si)\n",
      "            if not ss_started and depHyper:\n",
      "                ss_started=True\n",
      "                e_ss=e\n",
      "            else:\n",
      "            \n",
      "                if r_ss < p_ss:\n",
      "                    e_ss = e_ss + dx\n",
      "                else:\n",
      "                    e_ss = e_ss - dx\n",
      "            \n",
      "            if e_ss<=0 and no_choice_yet:\n",
      "                choice='stop'\n",
      "                rt=t\n",
      "                no_choice_yet=False\n",
      "                response=0\n",
      "    \n",
      "    if choice==ttype: \n",
      "        acc=1.00\n",
      "    else: \n",
      "        acc=0.00\n",
      "\n",
      "    return {'rt':rt, 'choice':choice, 'trial_type':ttype,\n",
      "        'acc':acc, 'ssd':ssd, 'pGo':theta['pGo'], 'response':response}"
     ],
     "language": "python",
     "metadata": {},
     "outputs": [],
     "prompt_number": 26
    },
    {
     "cell_type": "code",
     "collapsed": false,
     "input": [
      "def simulate(theta, mfx=radd_fitfx, ntrials=20000, timebound=0.545, intervar=False,\n",
      "    task='ssRe', depHyper=True, condition_str=None, return_all=False):\n",
      "\n",
      "\n",
      "    pStop=1-theta['pGo']\n",
      "    columns=['rt', 'choice', 'response', 'acc', 'trial_type', 'ssd', 'pGo']\n",
      "    df = pd.DataFrame(columns=columns, index=np.arange(0,ntrials))\n",
      "\n",
      "    for i in range(ntrials):\n",
      "\n",
      "        ttype='go'\n",
      "        if np.random.random_sample()<=pStop:\n",
      "            ttype='stop'\n",
      "        \n",
      "        sim_out = mfx(theta, depHyper=depHyper, \n",
      "            timebound=timebound, ttype=ttype)\t\n",
      "\n",
      "        df.loc[i]=pd.Series({c:sim_out[c] for c in df.columns})\n",
      "\n",
      "    if condition_str:\n",
      "        df['condition']=[condition_str]*len(df)\n",
      "\n",
      "    df[['rt', 'acc', 'response']]=df[['rt', 'acc', 'response']].astype(float)\n",
      "    summary=ss.anl(df, task=task)\n",
      "    pstop=summary['pstop']\n",
      "    rt=summary['rt']*10\n",
      "\n",
      "    return [pstop, rt]"
     ],
     "language": "python",
     "metadata": {},
     "outputs": [],
     "prompt_number": 28
    },
    {
     "cell_type": "heading",
     "level": 2,
     "metadata": {},
     "source": [
      "Read in Fit and Prediction Summaries for Each Subject and Concatenate"
     ]
    },
    {
     "cell_type": "code",
     "collapsed": false,
     "input": [
      "sxl=list()\n",
      "pth=utils.find_path()\n",
      "\n",
      "#for sx in paramdf.index.unique():\n",
      "#    try:\n",
      "#        sxl.append(pd.read_csv(pth+\"OptAccRT/ProBSL_InitHDDM_550/sx\"+str(sx)+\"_pro_bsl_fits.csv\", index_col=0))\n",
      "#    except:\n",
      "#        pass\n",
      "#df=pd.concat(sxl)\n",
      "\n",
      "df=pd.read_csv(\"ProFits_AllSx_tb545.csv\")\n",
      "stops_avg=df.groupby('pGo').mean()\n",
      "stops_sem=df.groupby('pGo').sem()\n",
      "\n",
      "dfrt=df.query('pGo>0')\n",
      "dfrt['rt_radd']=dfrt.loc[:,'rt_radd'].astype('float')\n",
      "rts_avg=dfrt.groupby('pGo').mean()\n",
      "rts_sem=dfrt.groupby('pGo').sem()\n",
      "\n",
      "yd=stops_avg['pstop_data']\n",
      "yh=stops_avg['pstop_radd']\n",
      "yderr=stops_sem['pstop_data']\n",
      "yherr=stops_sem['pstop_radd']\n",
      "\n",
      "\n",
      "rtd=rts_avg['rt_data']/10\n",
      "rth=rts_avg['rt_radd']/10\n",
      "rtderr=rts_sem['rt_data']/10\n",
      "rtherr=rts_sem['rt_radd']/10"
     ],
     "language": "python",
     "metadata": {},
     "outputs": [],
     "prompt_number": 32
    },
    {
     "cell_type": "code",
     "collapsed": false,
     "input": [
      "#yd[0.0]=0.931\n",
      "#yh[0.0]=0.931\n",
      "#yderr[0.0]=.01\n",
      "#yherr[0.0]=.01\n",
      "yd=yd.sort_index()\n",
      "yh=yh.sort_index()\n",
      "yderr=yderr.sort_index()\n",
      "yherr=yherr.sort_index()"
     ],
     "language": "python",
     "metadata": {},
     "outputs": [],
     "prompt_number": 33
    },
    {
     "cell_type": "code",
     "collapsed": false,
     "input": [
      "psy=reload(psy)\n",
      "utils=reload(utils)\n",
      "\n",
      "sparams=utils.style_params()\n",
      "colors=sparams['colors']\n",
      "sns.set_style('ticks', rc=sparams['style'])\n",
      "sns.set_context('paper', rc=sparams['context'])\n",
      "\n",
      "sns.palplot(sparams['colors'])"
     ],
     "language": "python",
     "metadata": {},
     "outputs": [
      {
       "metadata": {},
       "output_type": "display_data",
       "png": "[encoded data removed]",
       "text": [
        "<matplotlib.figure.Figure at 0x7ff5e1dcc410>"
       ]
      }
     ],
     "prompt_number": 34
    },
    {
     "cell_type": "code",
     "collapsed": false,
     "input": [
      "psy=reload(psy)\n",
      "\n",
      "stopmeans=[yd.values, yh.values]\n",
      "stoperr=[yderr.values, yherr.values]\n",
      "\n",
      "ax=psy.scurves(ysim=stopmeans, yerr=stoperr, title='ProTb545_GoodSx_StopFits', \n",
      "               colors=[colors[-8], colors[-1]], labels=['Data', 'RADD'], task='ssPro')"
     ],
     "language": "python",
     "metadata": {},
     "outputs": [
      {
       "metadata": {},
       "output_type": "display_data",
       "png": "[encoded data removed]",
       "text": [
        "<matplotlib.figure.Figure at 0x7ff5e1c89050>"
       ]
      }
     ],
     "prompt_number": 35
    },
    {
     "cell_type": "code",
     "collapsed": false,
     "input": [
      "#plot rt\n",
      "plt.close('all')\n",
      "f, ax=plt.subplots(1, figsize=(6, 4))\n",
      "\n",
      "ax.errorbar(rtd.keys(), rtd, yerr=rtderr, color=colors[-8], label='Data')\n",
      "ax.errorbar(rtd.keys(), rth, yerr=rtherr, color=colors[-1], label='RADD')\n",
      "plt.setp(ax, xlim=(.1, 1.1), ylim=(.45, .55), xticks=rtd.keys(), \n",
      "         xticklabels=rtd.keys(), xlabel='P(Go)')\n",
      "plt.setp(ax.get_yticklabels(), fontsize=17)\n",
      "ax.set_ylabel('RT (s)', fontsize=19, labelpad=8) \n",
      "ax.legend(loc=0, fontsize=17)\n",
      "plt.tight_layout()\n",
      "sns.despine()\n",
      "f.savefig(\"ProTb545_GoodSx_PGoRT.png\", dpi=600)    \n",
      "\n",
      "\n",
      "\n",
      "ff, axx=plt.subplots(1, figsize=(5, 5))\n",
      "\n",
      "axx.bar(0, rtd.mean(), yerr=rtderr.mean(), color=colors[-8], error_kw={\"elinewidth\":3,\"ecolor\":'k'},\n",
      "        alpha=.9,align='center', label='Data')\n",
      "\n",
      "axx.errorbar(0, rth.mean(), yerr=rtherr.mean(), marker='o', markersize=10, \n",
      "             elinewidth=3, ecolor='k', color=colors[-1], alpha=1, label='RADD')   \n",
      "\n",
      "plt.setp(axx, xlim=(-.7, .7), ylim=(.45, .54), xticks=[], xticklabels=[], xlabel='ssRe BSL')\n",
      "axx.set_xlabel('Proactive BSL', fontsize=19)\n",
      "plt.setp(axx.get_yticklabels(), fontsize=17)\n",
      "axx.set_ylabel('RT (s)', fontsize=19, labelpad=8) \n",
      "axx.legend(loc=0, fontsize=17)\n",
      "sns.despine()\n",
      "plt.tight_layout()\n",
      "\n",
      "ff.savefig(\"ProTb545_GoodSx_MeanRT.png\", dpi=600)    "
     ],
     "language": "python",
     "metadata": {},
     "outputs": [
      {
       "metadata": {},
       "output_type": "display_data",
       "png": "[encoded data removed]",
       "text": [
        "<matplotlib.figure.Figure at 0x7ff5e15893d0>"
       ]
      },
      {
       "metadata": {},
       "output_type": "display_data",
       "png": "[encoded data removed]",
       "text": [
        "<matplotlib.figure.Figure at 0x7ff5e1413f50>"
       ]
      }
     ],
     "prompt_number": 38
    },
    {
     "cell_type": "code",
     "collapsed": false,
     "input": [],
     "language": "python",
     "metadata": {},
     "outputs": []
    }
   ],
   "metadata": {}
  }
 ]
}