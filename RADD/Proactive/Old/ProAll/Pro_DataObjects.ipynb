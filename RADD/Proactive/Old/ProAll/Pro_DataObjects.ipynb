{
 "metadata": {
  "name": "",
  "signature": "sha256:3b0c249e1c25a377f5932afa5110dcf74fa65a6ca9903041de069cb05caf135f"
 },
 "nbformat": 3,
 "nbformat_minor": 0,
 "worksheets": [
  {
   "cells": [
    {
     "cell_type": "code",
     "collapsed": false,
     "input": [
      "from __future__ import division\n",
      "from radd import xopt, psy, simfx, ss, utils\n",
      "import pandas as pd\n",
      "import seaborn as sns\n",
      "\n",
      "pth=utils.find_path()\n",
      "\n",
      "\n",
      "vis=utils.style_params()\n",
      "st=vis['style']\n",
      "ctx=vis['context']\n",
      "colors=vis['colors']\n",
      "sns.plotting_context(rc=ctx)\n",
      "sns.set_context(context='paper', rc=ctx)"
     ],
     "language": "python",
     "metadata": {},
     "outputs": [],
     "prompt_number": 1
    },
    {
     "cell_type": "markdown",
     "metadata": {},
     "source": [
      "#propanel\n",
      "\n",
      "*Each Item is a dataframe containing all\n",
      "data for each subject in that PGo Condition\n",
      "    \n",
      "*Dataframes are accessed via the major index\n",
      "\n",
      "*Major Index: P(Go) Levels= [0,20,40,60,80,100]"
     ]
    },
    {
     "cell_type": "code",
     "collapsed": false,
     "input": [
      "prodf=pd.read_csv(pth+\"DataFiles/Pro_AllData.csv\", index_col=0)\n",
      "\n",
      "alldata_pgdf_dict={int(pg*100):pgdf for pg, pgdf in prodf.groupby('pGo')}\n",
      "                       \n",
      "allpanel=pd.Panel.from_dict(alldata_pgdf_dict)\n",
      "    "
     ],
     "language": "python",
     "metadata": {},
     "outputs": [],
     "prompt_number": 2
    },
    {
     "cell_type": "markdown",
     "metadata": {},
     "source": [
      "#cutpanel\n",
      "\n",
      "*Each Item is a dataframe containing the the rt-truncated\n",
      "data for each subject in that PGo Condition\n",
      "    \n",
      "*Dataframes are accessed via the major index\n",
      "\n",
      "*Major Index: P(Go) Levels= [0,20,40,60,80,100]"
     ]
    },
    {
     "cell_type": "code",
     "collapsed": false,
     "input": [
      "cdict={int(pg*100):pgdf for pg, pgdf in cutdf.groupby('pGo')}\n",
      "\n",
      "cutpanel=pd.Panel.fromDict(cdict)"
     ],
     "language": "python",
     "metadata": {},
     "outputs": [
      {
       "ename": "NameError",
       "evalue": "name 'cutdf' is not defined",
       "output_type": "pyerr",
       "traceback": [
        "\u001b[1;31m---------------------------------------------------------------------------\u001b[0m\n\u001b[1;31mNameError\u001b[0m                                 Traceback (most recent call last)",
        "\u001b[1;32m<ipython-input-3-1bca7a8a771f>\u001b[0m in \u001b[0;36m<module>\u001b[1;34m()\u001b[0m\n\u001b[1;32m----> 1\u001b[1;33m \u001b[0mcdict\u001b[0m\u001b[1;33m=\u001b[0m\u001b[1;33m{\u001b[0m\u001b[0mint\u001b[0m\u001b[1;33m(\u001b[0m\u001b[0mpg\u001b[0m\u001b[1;33m*\u001b[0m\u001b[1;36m100\u001b[0m\u001b[1;33m)\u001b[0m\u001b[1;33m:\u001b[0m\u001b[0mpgdf\u001b[0m \u001b[1;32mfor\u001b[0m \u001b[0mpg\u001b[0m\u001b[1;33m,\u001b[0m \u001b[0mpgdf\u001b[0m \u001b[1;32min\u001b[0m \u001b[0mcutdf\u001b[0m\u001b[1;33m.\u001b[0m\u001b[0mgroupby\u001b[0m\u001b[1;33m(\u001b[0m\u001b[1;34m'pGo'\u001b[0m\u001b[1;33m)\u001b[0m\u001b[1;33m}\u001b[0m\u001b[1;33m\u001b[0m\u001b[0m\n\u001b[0m\u001b[0;32m      2\u001b[0m \u001b[1;33m\u001b[0m\u001b[0m\n\u001b[0;32m      3\u001b[0m \u001b[0mcutpanel\u001b[0m\u001b[1;33m=\u001b[0m\u001b[0mpd\u001b[0m\u001b[1;33m.\u001b[0m\u001b[0mPanel\u001b[0m\u001b[1;33m.\u001b[0m\u001b[0mfromDict\u001b[0m\u001b[1;33m(\u001b[0m\u001b[0mcdict\u001b[0m\u001b[1;33m)\u001b[0m\u001b[1;33m\u001b[0m\u001b[0m\n",
        "\u001b[1;31mNameError\u001b[0m: name 'cutdf' is not defined"
       ]
      }
     ],
     "prompt_number": 3
    },
    {
     "cell_type": "heading",
     "level": 1,
     "metadata": {},
     "source": [
      "Get Pivots "
     ]
    },
    {
     "cell_type": "code",
     "collapsed": false,
     "input": [
      "def sxgo_pivot(df):\n",
      "    return utils.makePivot(df, cols='pGo', index='subj_idx', values='response')\n",
      "\n",
      "def sxstop_pivot(df):\n",
      "    return 1-utils.makePivot(df, cols='pGo', index='subj_idx', values='response')\n",
      "\n",
      "def sxrt_pivot(df):\n",
      "    return utils.makePivot(df, cols='pGo', index='subj_idx', values='rt')\n",
      "\n",
      "def trunc_df(df):\n",
      "    godf=df.query(\"choice=='go' and rt<=.545\")\n",
      "    stopdf=df.query(\"choice=='stop' and rt>.545\")\n",
      "    return pd.concat([godf, stopdf])\n",
      "\n",
      "def pro_pstop_rt_545(df):\n",
      "\n",
      "    pstop=1-df.groupby('pGo').mean()['response'].values\n",
      "\n",
      "    godf=df.query(\"choice=='go' and rt<=.545\")\n",
      "    go_rt=godf.groupby('pGo').mean()['rt'].values\n",
      "\n",
      "    return [pstop, go_rt*10]"
     ],
     "language": "python",
     "metadata": {},
     "outputs": [],
     "prompt_number": 6
    },
    {
     "cell_type": "heading",
     "level": 1,
     "metadata": {},
     "source": [
      "\n",
      "Summary Arrays"
     ]
    },
    {
     "cell_type": "code",
     "collapsed": false,
     "input": [
      "prodf=pd.read_csv(pth+\"DataFiles/Pro_AllData.csv\", index_col=0)\n",
      "print prodf.rt.mean()\n",
      "godf=prodf[prodf['choice']=='go']\n",
      "\n",
      "cutdf=prodf[prodf['rt']<=.545]\n",
      "\n",
      "\n",
      "all_stop=[0.928484,0.755328,0.478074,0.240369,0.035246,0.004889]\n",
      "all_rt=[0.534378,0.540155,0.542990,0.542564,0.533544,0.529063]\n",
      "cut_rt=[0.480469,0.491375,0.500804,0.510604,0.506695,0.502725]\n",
      "cut_go=[1.0, 1.0, 1.0, 1.0, 1.0, 1.0]\n",
      "\n"
     ],
     "language": "python",
     "metadata": {},
     "outputs": [
      {
       "output_type": "stream",
       "stream": "stdout",
       "text": [
        "0.539889708815\n"
       ]
      }
     ],
     "prompt_number": 7
    },
    {
     "cell_type": "code",
     "collapsed": false,
     "input": [
      "allgorts=sxrt_pivot(godf)\n",
      "cutgorts=sxrt_pivot(prodf)\n",
      "\n",
      "sxstops=sxstop_pivot(prodf)\n",
      "\n",
      "newdf=trunc_df(prodf)"
     ],
     "language": "python",
     "metadata": {},
     "outputs": [],
     "prompt_number": 16
    },
    {
     "cell_type": "code",
     "collapsed": false,
     "input": [
      "allgorts.loc[[28, 29, 48, 54, 76]].mean()\n",
      "\n",
      "sd=allgorts.std()*1.96\n",
      "sxmeans=allgorts.mean(axis=1)\n",
      "se=sxmeans.std()*1.5\n",
      "outliers=sxmeans[sxmeans>sxmeans.mean()-se]"
     ],
     "language": "python",
     "metadata": {},
     "outputs": [],
     "prompt_number": 43
    },
    {
     "cell_type": "code",
     "collapsed": false,
     "input": [
      "upper=sxmeans.mean()+se\n",
      "lower=sxmeans.mean()-se\n",
      "sxmeans[sxmeans<lower]\n",
      "#sxmeans[sxmeans>upper]"
     ],
     "language": "python",
     "metadata": {},
     "outputs": [
      {
       "metadata": {},
       "output_type": "pyout",
       "prompt_number": 45,
       "text": [
        "subj_idx\n",
        "28          0.523597\n",
        "54          0.510519\n",
        "58          0.516581\n",
        "66          0.506058\n",
        "76          0.519172\n",
        "84          0.520981\n",
        "dtype: float64"
       ]
      }
     ],
     "prompt_number": 45
    },
    {
     "cell_type": "code",
     "collapsed": true,
     "input": [
      "newrts=sxrt_pivot(newdf)\n",
      "newstops=sxstop_pivot(newdf)\n",
      "\n",
      "newstops.mean()\n",
      "newrts.mean()"
     ],
     "language": "python",
     "metadata": {},
     "outputs": [
      {
       "metadata": {},
       "output_type": "pyout",
       "prompt_number": 18,
       "text": [
        "pGo\n",
        "0.0    0.546036\n",
        "0.2    0.545781\n",
        "0.4    0.543011\n",
        "0.6    0.537057\n",
        "0.8    0.514067\n",
        "1.0    0.503623\n",
        "dtype: float64"
       ]
      }
     ],
     "prompt_number": 18
    },
    {
     "cell_type": "code",
     "collapsed": true,
     "input": [
      "#Sx with fewer responses counted behind\n",
      "#timeboundary and less skew in rt\n",
      "good=[28, 29, 39, 48, 54, 57, 76, 77]\n",
      "bad=[42, 60, 61, 66, 78, 85, 86, 88]\n",
      "\n",
      "print \"Good Sx\"\n",
      "for sx in good:\n",
      "\n",
      "    new_count=len(newdf[newdf['subj_idx']==sx])\n",
      "    old_count=len(prodf[prodf['subj_idx']==sx])\n",
      "\n",
      "    perc_lost=(old_count-new_count)/old_count\n",
      "    \n",
      "    print \"SX %s : lost %.3f\" % (str(sx), perc_lost)\n",
      "\n",
      "print \"\\n\\nBad Sx\"\n",
      "for sx in bad:\n",
      "\n",
      "    new_count=len(newdf[newdf['subj_idx']==sx])\n",
      "    old_count=len(prodf[prodf['subj_idx']==sx])\n",
      "\n",
      "    perc_lost=(old_count-new_count)/old_count\n",
      "    \n",
      "    print \"SX %s : lost %.3f\" % (str(sx), perc_lost)\n"
     ],
     "language": "python",
     "metadata": {},
     "outputs": [
      {
       "output_type": "stream",
       "stream": "stdout",
       "text": [
        "Good Sx\n",
        "SX 28 : lost 0.274\n",
        "SX 29 : lost 0.220\n",
        "SX 39 : lost 0.216\n",
        "SX 48 : lost 0.286\n",
        "SX 54 : lost 0.103\n",
        "SX 57 : lost 0.418\n",
        "SX 76 : lost 0.196\n",
        "SX 77 : lost 0.360\n",
        "\n",
        "\n",
        "Bad Sx\n",
        "SX 42 : lost 0.626\n",
        "SX 60 : lost 0.518\n",
        "SX 61 : lost 0.430\n",
        "SX 66 : lost 0.490\n",
        "SX 78 : lost 0.465\n",
        "SX 85 : lost 0.446\n",
        "SX 86 : lost 0.521\n",
        "SX 88 : lost 0.519\n"
       ]
      }
     ],
     "prompt_number": 50
    },
    {
     "cell_type": "code",
     "collapsed": false,
     "input": [
      "prodf.groupby('pGo').rt.mean\n",
      "godf=prodf[prodf['choice']=='go']\n"
     ],
     "language": "python",
     "metadata": {},
     "outputs": []
    },
    {
     "cell_type": "code",
     "collapsed": false,
     "input": [
      "pth=utils.find_path()\n",
      "pro=pd.read_csv(pth+\"Proactive/SS_v2p3_fullsummary.dat\", sep=\"\\t\")\n",
      "pro['RT_sec']=pro['RT'].copy()*.001\n",
      "pro=pro.rename(columns={'RT':'rtmsec', 'RT_sec':'rt', 'Keypress':'response'}, axis=1)\n",
      "\n",
      "pro['pGo']=1-pro['StopProb']\n",
      "\n",
      "stops=pro[pro['response']==0]\n",
      "gos=pro[(pro['response']==1)&(pro['rt']<=.5451)]\n",
      "all545=pro[pro['rt']<=.547]\n",
      "\n",
      "\n",
      "gos.groupby(['pGo']).mean()\n",
      "#utils.makePivot(gos, cols='pGo', index='SubID', values='rt').mean()\n"
     ],
     "language": "python",
     "metadata": {},
     "outputs": [
      {
       "html": [
        "<div style=\"max-height:1000px;max-width:1500px;overflow:auto;\">\n",
        "<table border=\"1\" class=\"dataframe\">\n",
        "  <thead>\n",
        "    <tr style=\"text-align: right;\">\n",
        "      <th></th>\n",
        "      <th>Cond</th>\n",
        "      <th>StopProb</th>\n",
        "      <th>rtmsec</th>\n",
        "      <th>response</th>\n",
        "      <th>rt</th>\n",
        "    </tr>\n",
        "    <tr>\n",
        "      <th>pGo</th>\n",
        "      <th></th>\n",
        "      <th></th>\n",
        "      <th></th>\n",
        "      <th></th>\n",
        "      <th></th>\n",
        "    </tr>\n",
        "  </thead>\n",
        "  <tbody>\n",
        "    <tr>\n",
        "      <th>0.0</th>\n",
        "      <td> 1.574194</td>\n",
        "      <td> 1.0</td>\n",
        "      <td> 513.324587</td>\n",
        "      <td> 1</td>\n",
        "      <td> 0.513325</td>\n",
        "    </tr>\n",
        "    <tr>\n",
        "      <th>0.2</th>\n",
        "      <td> 1.482192</td>\n",
        "      <td> 0.8</td>\n",
        "      <td> 532.175999</td>\n",
        "      <td> 1</td>\n",
        "      <td> 0.532176</td>\n",
        "    </tr>\n",
        "    <tr>\n",
        "      <th>0.4</th>\n",
        "      <td> 1.510490</td>\n",
        "      <td> 0.6</td>\n",
        "      <td> 533.556638</td>\n",
        "      <td> 1</td>\n",
        "      <td> 0.533557</td>\n",
        "    </tr>\n",
        "    <tr>\n",
        "      <th>0.6</th>\n",
        "      <td> 1.496118</td>\n",
        "      <td> 0.4</td>\n",
        "      <td> 532.397132</td>\n",
        "      <td> 1</td>\n",
        "      <td> 0.532397</td>\n",
        "    </tr>\n",
        "    <tr>\n",
        "      <th>0.8</th>\n",
        "      <td> 1.493289</td>\n",
        "      <td> 0.2</td>\n",
        "      <td> 519.515334</td>\n",
        "      <td> 1</td>\n",
        "      <td> 0.519515</td>\n",
        "    </tr>\n",
        "    <tr>\n",
        "      <th>1.0</th>\n",
        "      <td> 1.501586</td>\n",
        "      <td> 0.0</td>\n",
        "      <td> 513.667358</td>\n",
        "      <td> 1</td>\n",
        "      <td> 0.513667</td>\n",
        "    </tr>\n",
        "  </tbody>\n",
        "</table>\n",
        "</div>"
       ],
       "metadata": {},
       "output_type": "pyout",
       "prompt_number": 24,
       "text": [
        "         Cond  StopProb      rtmsec  response        rt\n",
        "pGo                                                    \n",
        "0.0  1.574194       1.0  513.324587         1  0.513325\n",
        "0.2  1.482192       0.8  532.175999         1  0.532176\n",
        "0.4  1.510490       0.6  533.556638         1  0.533557\n",
        "0.6  1.496118       0.4  532.397132         1  0.532397\n",
        "0.8  1.493289       0.2  519.515334         1  0.519515\n",
        "1.0  1.501586       0.0  513.667358         1  0.513667"
       ]
      }
     ],
     "prompt_number": 24
    },
    {
     "cell_type": "code",
     "collapsed": false,
     "input": [
      "sns.set_style(\"ticks\", {\"axes.grid\":False, 'grid.color': 'white', \"axes.facecolor\": \"white\"})\n",
      "f,axes=plt.subplots(8,8,figsize=(25,18), sharex=True, sharey=True)\n",
      "i=0\n",
      "cp=sns.color_palette(n_colors=6)\n",
      "for sx, sxdf in stops.groupby('SubID'):\n",
      "    \n",
      "    ax=f.axes[i]\n",
      "    sxgo=gos[gos['SubID']==sx]\n",
      "    \n",
      "    sxgo.rt.hist(bins=12, histtype='stepfilled', ax=ax, color=cp[1], label='go', edgecolor=cp[1])\n",
      "    sxdf.rt.hist(bins=3, histtype='stepfilled', ax=ax, color=cp[2], label='bound', edgecolor=cp[2])\n",
      "       \n",
      "    ax.set_title(\"Sx \"+str(sx), fontsize=13, loc='center', fontdict={'fontweight' : 'bold'})\n",
      "    \n",
      "    plt.setp(ax, xlim=(.4, .56))\n",
      "    plt.setp(ax, xticks = ([.405, .555]))\n",
      "    ax.set_xticklabels([\"400\", \"560\"], fontsize=14)\n",
      "    \n",
      "    if ax.is_first_col():\n",
      "        plt.setp(ax.get_yticklabels(), fontsize=14)\n",
      "        ax.set_ylabel(\"Count\", fontsize=17)\n",
      "        ax.legend(loc=2, fontsize=12)\n",
      "    \n",
      "    if ax.is_last_row():\n",
      "        ax.set_xlabel(\"RT (sec)\", fontsize=17)\n",
      "    \n",
      "        \n",
      "    sns.despine()\n",
      "    i+=1   \n",
      "\n",
      "plt.tight_layout()\n",
      "f.subplots_adjust(top=.95, wspace=.14, hspace=.24)\n",
      "f.suptitle(\"Sx Go & Boundary Times\", fontsize=22)\n",
      "f.savefig(\"SingleSx Go and Boundary RTs (All Data).png\", dpi=300)"
     ],
     "language": "python",
     "metadata": {},
     "outputs": []
    }
   ],
   "metadata": {}
  }
 ]
}