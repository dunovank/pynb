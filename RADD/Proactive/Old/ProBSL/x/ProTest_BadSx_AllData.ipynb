{
 "metadata": {
  "name": "",
  "signature": "sha256:5d89343c6aa09489dc0f5bdc1f435796ae1e3bcb7ae17465cb5fc88bdf5cd5cf"
 },
 "nbformat": 3,
 "nbformat_minor": 0,
 "worksheets": [
  {
   "cells": [
    {
     "cell_type": "code",
     "collapsed": false,
     "input": [
      "from __future__ import division\n",
      "import pandas as pd\n",
      "from radd import utils, xopt, psy, ss, simfx\n",
      "from lmfit import Parameters, Minimizer\n",
      "import seaborn as sns\n",
      "import os\n",
      "from collections import OrderedDict"
     ],
     "language": "python",
     "metadata": {},
     "outputs": [],
     "prompt_number": 2
    },
    {
     "cell_type": "code",
     "collapsed": false,
     "input": [
      "utils=reload(utils); ss=reload(ss)\n",
      "pth=utils.find_path()\n",
      "#load data\n",
      "prodf=pd.read_csv(pth+\"DataFiles/Pro_Data.csv\", index_col=0)\n",
      "\n",
      "#load params\n",
      "paramdf=pd.read_csv(pth+\"ParamFiles/ProBSL_HDDM_Params.csv\", index_col='subj_idx')\n",
      "\n",
      "procut=utils.trunc_df(prodf)\n",
      "\n",
      "\n",
      "#allgorts=utils.sxrt_pivot(prodf)\n",
      "allgorts=utils.sxrt_pivot(prodf)\n",
      "cutgorts=utils.sxrt_pivot(procut)\n",
      "prodf_stops=utils.sxstop_pivot(prodf)\n",
      "cutdf_stops=utils.sxstop_pivot(procut)\n",
      "\n",
      "all_stop=[0.928484,0.755328,0.478074,0.240369,0.035246,0.004889]\n",
      "all_rt=[0.534378,0.540155,0.542990,0.542564,0.533544,0.529063]\n",
      "cut_rt=[0.480469,0.491375,0.500804,0.510604,0.506695,0.502725]\n",
      "cut_go=[1.0, 1.0, 1.0, 1.0, 1.0, 1.0]"
     ],
     "language": "python",
     "metadata": {},
     "outputs": [],
     "prompt_number": 3
    },
    {
     "cell_type": "code",
     "collapsed": false,
     "input": [
      "pth=utils.find_path()\n",
      "#no rt cutoff applied\n",
      "pro_bsl=pd.read_csv(pth+\"DataFiles/Pro_Data.csv\", index_col=0)\n",
      "\n",
      "#cutoff all at .550\n",
      "#pro_bsl=pd.read_csv(pth+\"DataFiles/ProBSL_Data.csv\", index_col=0)\n",
      "bsl=pro_bsl.copy()\n",
      "bsl['pGo']=bsl['pGo']*100*.01\n",
      "bsl['pGo'].unique()\n",
      "print bsl[bsl['choice']=='go'].rt.max()\n"
     ],
     "language": "python",
     "metadata": {},
     "outputs": [
      {
       "output_type": "stream",
       "stream": "stdout",
       "text": [
        "0.5472478\n"
       ]
      }
     ],
     "prompt_number": 4
    },
    {
     "cell_type": "code",
     "collapsed": false,
     "input": [
      "goodsx=[28, 29, 48, 54, 76]\n",
      "badsx=[42, 60, 66, 78, 85, 86, 88]\n",
      "\n",
      "goodrts=allgorts[allgorts.index.isin(goodsx)]\n",
      "goodstops=prodf_stops[prodf_stops.index.isin(goodsx)]\n",
      "\n",
      "badrts=allgorts[allgorts.index.isin(badsx)]\n",
      "badstops=prodf_stops[prodf_stops.index.isin(badsx)]\n",
      "\n",
      "goodrts_scaled=goodrts*10\n",
      "badrts_scaled=badrts*10"
     ],
     "language": "python",
     "metadata": {},
     "outputs": [],
     "prompt_number": 3
    },
    {
     "cell_type": "code",
     "collapsed": false,
     "input": [
      "ntrials=1000; depHyper=True\n",
      "pgo_list=[0.0, 0.2, 0.4, 0.6, 0.8, 1.0]\n",
      "\n",
      "# init sx concat list\n",
      "sxfits_list=[]"
     ],
     "language": "python",
     "metadata": {},
     "outputs": [],
     "prompt_number": 4
    },
    {
     "cell_type": "code",
     "collapsed": false,
     "input": [
      "ss=reload(ss)\n",
      "pb=utils.PBinJ(len(badsx)*len(pgo_list), color=\"#009B76\"); sx_n=0\n",
      "os.chdir(utils.find_path()+\"OptAccRT/ProBSL_BadSx_AllData\")\n",
      "ntrials=1000;\n",
      "\n",
      "for sx in badsx:\n",
      "    \n",
      "    sx_rt=np.array(goodrts_scaled.loc[sx,:].values)\n",
      "    sx_pstop=np.array(goodstops.loc[sx,:].values)\n",
      "    sxinits=paramdf.loc[sx,:].to_dict()\n",
      "    sxinits['ssd']=.450\n",
      "    \n",
      "    sxpred=pd.DataFrame(columns=['subj_idx','pGo', 'v', 'pstop_data', \n",
      "                                 'pstop_radd', 'rt_data', 'rt_radd', \n",
      "                                 'chi'], index=pgo_list)\n",
      "\n",
      "    for i, pg in enumerate(pgo_list):\n",
      "        \n",
      "        \n",
      "        pb.update_i(sx_n)\n",
      "        sx_n +=1\n",
      "        \n",
      "        sxinits['pGo']=pg\n",
      "        \n",
      "        if pg<.5:\n",
      "            \n",
      "            vinit=sxinits['v(Lo)']\n",
      "            \n",
      "        else:\n",
      "            \n",
      "            vinit=sxinits['v(Hi)']\n",
      "            \n",
      "        y=np.array([sx_pstop[i], sx_rt[i]])\n",
      "        \n",
      "        p=Parameters()\n",
      "        p.add('v', value=vinit, min=0.0, vary=True)\n",
      "        \n",
      "        popt = Minimizer(sspro_accrt_minfunc, p, fcn_args=(sxinits, y, ntrials), method='Nelder-Mead') \n",
      "        popt.fmin(maxfun=1000, ftol=1.e-3, xtol=1.e-3, full_output=True, disp=True)      \n",
      "        \n",
      "        pstop_radd=y[0]+popt.residual[0]\n",
      "        rt_radd=y[1]+popt.residual[1]\n",
      "        \n",
      "        sxpred.loc[pg,:]=pd.Series(OrderedDict([('subj_idx',int(sx)), ('pGo',pg), ('v',p['v'].value), \n",
      "                                    ('pstop_data',y[0]), ('pstop_radd',pstop_radd), ('rt_data',y[1]), \n",
      "                                    ('rt_radd',rt_radd), ('chi',popt.chisqr)]))\n",
      "    pb.update_i(sx_n)\n",
      "    \n",
      "    sxpred.to_csv(\"ProFits_Sx\"+str(sx)+\".csv\")\n",
      "    \n",
      "    sxfits_list.append(sxpred)\n",
      "\n",
      "    print \"-\"*100\n",
      "    \n",
      "    \n",
      "allsx_fits=pd.concat(sxfits_list)\n",
      "allsx_fits.to_csv(\"ProFits_AllSx.csv\")\n",
      "    "
     ],
     "language": "python",
     "metadata": {},
     "outputs": [
      {
       "html": [
        "\n",
        "\t    <div style=\"border: 1px solid black; width:500px\">\n",
        "\t    <div id=\"aae55bbf-95d5-4324-b16c-2afed428c9c2\" style=\"background-color:#009B76; width:0%\">&nbsp;</div>\n",
        "\t    </div> \n",
        "\t    "
       ],
       "metadata": {},
       "output_type": "display_data",
       "text": [
        "<IPython.core.display.HTML at 0x7f5fd4aa3e90>"
       ]
      },
      {
       "javascript": [
        "$('div#aae55bbf-95d5-4324-b16c-2afed428c9c2').width('0.00%')"
       ],
       "metadata": {},
       "output_type": "display_data",
       "text": [
        "<IPython.core.display.Javascript at 0x7f5fd47298d0>"
       ]
      },
      {
       "output_type": "stream",
       "stream": "stdout",
       "text": [
        "Optimization terminated successfully.\n",
        "         Current function value: 0.000174\n",
        "         Iterations: 16\n",
        "         Function evaluations: 39\n"
       ]
      },
      {
       "javascript": [
        "$('div#aae55bbf-95d5-4324-b16c-2afed428c9c2').width('3.33%')"
       ],
       "metadata": {},
       "output_type": "display_data",
       "text": [
        "<IPython.core.display.Javascript at 0x7f5fd46b6210>"
       ]
      }
     ]
    },
    {
     "cell_type": "code",
     "collapsed": false,
     "input": [
      "def sspro_accrt_minfunc(p, theta, ydata, ntrials, fitting=True, depHyper=True):\n",
      "\n",
      "    theta['v']=p['v'].value\n",
      "    theta['ssv'] = -abs(theta['ssv'])\n",
      "\n",
      "    yhat=simulate(theta, mfx=radd_fitfx, ntrials=ntrials, timebound=.545, \n",
      "            depHyper=depHyper, task='ssPro', condition_str='bsl') \n",
      "\n",
      "    #scale response times so that \n",
      "    #residuals have appropriate sig digits\n",
      "    [yhat[0]-ydata[0], yhat[1]-ydata[1]]\n",
      "\n",
      "    return np.array([yhat[0]-ydata[0], yhat[1]-ydata[1]])"
     ],
     "language": "python",
     "metadata": {},
     "outputs": [],
     "prompt_number": 5
    },
    {
     "cell_type": "code",
     "collapsed": false,
     "input": [
      "def radd_fitfx(theta, timebound=.545, ttype='go', depHyper=True, tau=.0005, si=.01, **kwargs):\n",
      "\n",
      "    if ttype=='stop':sstrial=1\n",
      "    else: sstrial=0\n",
      "\n",
      "    mu=theta['v']; tr=theta['t']; a=theta['a']\n",
      "    z=theta['z']; ssv=theta['ssv']; ssd=theta['ssd']\n",
      "\n",
      "\n",
      "    if tr>ssd and sstrial:\n",
      "        t=ssd # start the time at ssd\n",
      "    else:\n",
      "        t=tr  # start the time at tr\n",
      "\n",
      "    ss_started=False\n",
      "    no_choice_yet=True\n",
      "    dx=np.sqrt(si*tau)  # dx is the step size up or down.\n",
      "    e=z\t                # starting point\n",
      "    e_ss=z              #arbitrary (positive) init value\n",
      "    response=0\n",
      "    \n",
      "    while no_choice_yet: \n",
      "        \n",
      "        t += tau\n",
      "        \n",
      "        if t>=timebound and no_choice_yet:\n",
      "            choice='stop'\n",
      "            rt=timebound\n",
      "            no_choice_yet=False\n",
      "\n",
      "        if t>=tr:\n",
      "            r=np.random.random_sample()\n",
      "            p=0.5*(1 + mu*dx/si)\n",
      "            \n",
      "            if r < p:\n",
      "                e = e + dx\n",
      "            else:\n",
      "                e = e - dx\n",
      "                \n",
      "            if e>=a and no_choice_yet:\n",
      "                choice='go'\n",
      "                response=1\n",
      "                rt=t\n",
      "                no_choice_yet=False\n",
      "        \n",
      "        if sstrial and t>=ssd:\n",
      "            r_ss=np.random.random_sample()\n",
      "            p_ss=0.5*(1 + ssv*dx/si)\n",
      "            if not ss_started and depHyper:\n",
      "                ss_started=True\n",
      "                e_ss=e\n",
      "            else:\n",
      "            \n",
      "                if r_ss < p_ss:\n",
      "                    e_ss = e_ss + dx\n",
      "                else:\n",
      "                    e_ss = e_ss - dx\n",
      "            \n",
      "            if e_ss<=0 and no_choice_yet:\n",
      "                choice='stop'\n",
      "                rt=t\n",
      "                no_choice_yet=False\n",
      "                response=0\n",
      "    \n",
      "    if choice==ttype: \n",
      "        acc=1.00\n",
      "    else: \n",
      "        acc=0.00\n",
      "\n",
      "    return {'rt':rt, 'choice':choice, 'trial_type':ttype,\n",
      "        'acc':acc, 'ssd':ssd, 'pGo':theta['pGo'], 'response':response}"
     ],
     "language": "python",
     "metadata": {},
     "outputs": [],
     "prompt_number": 6
    },
    {
     "cell_type": "code",
     "collapsed": false,
     "input": [
      "def simulate(theta, mfx=radd_fitfx, ntrials=20000, timebound=0.650, intervar=False,\n",
      "    task='ssRe', depHyper=True, condition_str=None, return_all=False):\n",
      "\n",
      "\n",
      "    pStop=1-theta['pGo']\n",
      "    columns=['rt', 'choice', 'response', 'acc', 'trial_type', 'ssd', 'pGo']\n",
      "    df = pd.DataFrame(columns=columns, index=np.arange(0,ntrials))\n",
      "    \n",
      "    timebound=.545\n",
      "\n",
      "    for i in range(ntrials):\n",
      "\n",
      "        ttype='go'\n",
      "        if np.random.random_sample()<=pStop:\n",
      "            ttype='stop'\n",
      "        \n",
      "        sim_out = mfx(theta, depHyper=depHyper, \n",
      "            timebound=timebound, ttype=ttype)\t\n",
      "\n",
      "        df.loc[i]=pd.Series({c:sim_out[c] for c in df.columns})\n",
      "\n",
      "    if condition_str:\n",
      "        df['condition']=[condition_str]*len(df)\n",
      "\n",
      "    df[['rt', 'acc', 'response']]=df[['rt', 'acc', 'response']].astype(float)\n",
      "    summary=ss.anl(df, task=task)\n",
      "    pstop=summary['pstop']\n",
      "    rt=summary['rt']*10\n",
      "\n",
      "    return [pstop, rt]\n"
     ],
     "language": "python",
     "metadata": {},
     "outputs": [],
     "prompt_number": 7
    }
   ],
   "metadata": {}
  }
 ]
}