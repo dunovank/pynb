{
 "metadata": {
  "name": "",
  "signature": "sha256:2a092c653cacae9bc834d7ea9699827071d7b08825be986c389e47304b388e5c"
 },
 "nbformat": 3,
 "nbformat_minor": 0,
 "worksheets": [
  {
   "cells": [
    {
     "cell_type": "code",
     "collapsed": false,
     "input": [
      "from __future__ import division\n",
      "import pandas as pd\n",
      "import hddm\n",
      "import seaborn as sns\n",
      "from radd import utils, ft, ss, psy, simfx, qsim\n",
      "from radd.simfx import *\n",
      "import os"
     ],
     "language": "python",
     "metadata": {},
     "outputs": []
    },
    {
     "cell_type": "code",
     "collapsed": false,
     "input": [
      "simfx=reload(simfx); utils=reload(utils); ss=reload(ss); qsim=reload(qsim); ft=reload(ft); psy=reload(psy)\n",
      "\n",
      "pth=utils.find_path()\n",
      "\n",
      "proDF=pd.read_csv(pth+\"CoAx/SS/Proactive/Pro_AllData.csv\")\n",
      "reDF=pd.read_csv(pth+\"CoAx/SS/Reactive/Re_AllData.csv\")\n",
      "\n",
      "rePar=pd.read_csv(pth+\"CoAx/SS/HDDM/Reactive/vbias_full/vBP_SxStats.csv\")\n",
      "proPar=pd.read_csv(pth+\"CoAx/SS/HDDM/Proactive/vfull_sx/vfull_HiLo_550_SxStats.csv\")"
     ],
     "language": "python",
     "metadata": {},
     "outputs": []
    },
    {
     "cell_type": "code",
     "collapsed": false,
     "input": [
      "#p=ft.stats_summary(rePar)['mean'].to_dict()\n",
      "#rePar.index=rePar['param']\n",
      "re_v=rePar[rePar['param']=='v(bsl)']['mean']\n",
      "\n",
      "re_v_pnl=rePar.query(\"param=='v(pnl)'\")[['mean', 'subj_idx']]\n",
      "re_v_pnl['bsl']=re_v.values\n",
      "#re_v_pnl.rename(columns={'v_pnl':'re_vPNL', 'v_bsl':'re_vPNL'}, inplace=True)\n",
      "re_v_pnl.index=re_v_pnl['subj_idx']\n",
      "re_v=re_v_pnl.rename(columns={'mean':'re_vPNL', 'bsl':'re_vBSL'})\n",
      "re_v.drop('subj_idx', axis=1, inplace=True)\n",
      "re_v"
     ],
     "language": "python",
     "metadata": {},
     "outputs": []
    },
    {
     "cell_type": "code",
     "collapsed": false,
     "input": [
      "p=ft.stats_summary(proPar)['mean'].to_dict()\n",
      "proPar.index=proPar['param']\n",
      "pro_vhi=proPar[proPar['param']=='v(Hi)'][['mean','subj_idx']]\n",
      "pro_vlo=proPar.query(\"param=='v(Lo)'\")[['mean', 'subj_idx']]\n",
      "\n",
      "pro_vhi['Lo']=pro_vlo['mean'].values\n",
      "pro_vhi.rename(columns={'mean':'pro_vHi', 'Lo':'pro_vLo'}, inplace=True)\n",
      "pro_vhi.index=pro_vhi['subj_idx']\n",
      "pro_v=pro_vhi\n",
      "pro_v.drop('subj_idx', axis=1, inplace=True)\n",
      "#re_v\n",
      "pro_v"
     ],
     "language": "python",
     "metadata": {},
     "outputs": []
    },
    {
     "cell_type": "code",
     "collapsed": false,
     "input": [
      "x=pd.concat([pro_v, re_v], axis=1)\n",
      "sx_vdf=x/10\n",
      "sx_vdf=sx_vdf.fillna('nan')\n",
      "sx_vdf.to_csv(pth+\"sx_mean_drifts.csv\")"
     ],
     "language": "python",
     "metadata": {},
     "outputs": []
    }
   ],
   "metadata": {}
  }
 ]
}