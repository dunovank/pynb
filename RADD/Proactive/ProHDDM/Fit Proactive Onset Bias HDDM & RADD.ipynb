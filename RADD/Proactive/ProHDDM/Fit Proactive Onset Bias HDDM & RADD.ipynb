{
 "metadata": {
  "name": "",
  "signature": "sha256:84f58674e2bed20ae023258b91d83f7e7340ca14d4b75aebae3314f6a0226f0c"
 },
 "nbformat": 3,
 "nbformat_minor": 0,
 "worksheets": [
  {
   "cells": [
    {
     "cell_type": "code",
     "collapsed": false,
     "input": [
      "import pandas as pd\n",
      "import hddm\n",
      "import seaborn as sns\n",
      "from radd import utils, hd\n",
      "import os\n",
      "\n",
      "pth=utils.find_path()"
     ],
     "language": "python",
     "metadata": {},
     "outputs": [],
     "prompt_number": 5
    },
    {
     "cell_type": "code",
     "collapsed": false,
     "input": [
      "prodf=pd.read_csv(pth+\"DataFiles/Pro_AllData.csv\", index_col=0)\n",
      "godf=prodf.query('choice==\"go\" & rt<.5451')\n",
      "godf=godf.replace(to_replace={'HiLo':{'aHi':'Hi', 'bLo':'Lo'}}).copy()\n",
      "os.chdir(pth+\"FitFiles/ProHDDM_tBias\")"
     ],
     "language": "python",
     "metadata": {},
     "outputs": [],
     "prompt_number": 18
    },
    {
     "cell_type": "heading",
     "level": 1,
     "metadata": {},
     "source": [
      "Fit individual idx, Onset depends on PGo(Hi/Lo)"
     ]
    },
    {
     "cell_type": "code",
     "collapsed": false,
     "input": [
      "tbias_stats=hd.fit_sxhddm(godf, depends_on={'t':'HiLo'}, bias=True, informative=True, include=['a', 't', 'v', 'z'], task='ssPro', save_str=\"tHiLo_tb5451\")"
     ],
     "language": "python",
     "metadata": {},
     "outputs": []
    },
    {
     "cell_type": "heading",
     "level": 1,
     "metadata": {},
     "source": [
      "scale hddm parameters"
     ]
    },
    {
     "cell_type": "code",
     "collapsed": false,
     "input": [
      "#init hddm df\n",
      "paramdf=pd.read_csv(pth+\"FitFiles/ProHDDM_tBias/all_sxfits.csv\", index_col='idx')\n",
      "\n",
      "hddm_inits= paramdf[['param', 'mean']].groupby('param').mean().to_dict()['mean']\n",
      "\n",
      "for p in ['a', 'v']: \n",
      "    hddm_inits[p]=hddm_inits[p]/10\n",
      "hddm_inits['z']=hddm_inits['a']*hddm_inits['z']"
     ],
     "language": "python",
     "metadata": {},
     "outputs": []
    },
    {
     "cell_type": "heading",
     "level": 1,
     "metadata": {},
     "source": [
      "fit flat data"
     ]
    },
    {
     "cell_type": "code",
     "collapsed": false,
     "input": [
      "os.chdir(pth+\"FitFiles/ProRADD_tBias_Flat\")\n",
      "\n",
      "fits, fits_all, popt = fitpro.fit_proactive_data(pro_all_data, inits=hddm_inits, depends_on={'t':'pGo'}, simfx='vector', ntrials=2000, maxfun=500, ftol=1e-3, xtol=1e-3)\n",
      "popt.to_csv(pth+\"FitFiles/ProRADD_tBias_Flat/flat_opt_theta.csv\")"
     ],
     "language": "python",
     "metadata": {},
     "outputs": []
    },
    {
     "cell_type": "heading",
     "level": 1,
     "metadata": {},
     "source": [
      "bootstrap fits initialized at optimal from flat fits"
     ]
    },
    {
     "cell_type": "code",
     "collapsed": false,
     "input": [
      "#go to proactive bootstrap directory\n",
      "os.chdir(\"/home/kyle/Dropbox/CoAx/SS/FitFiles/ProRADD_tBias_Boot\")\n",
      "\n",
      "# init models with best fit parameters (estimated by fitting model to flattend data)\n",
      "opt_params=pd.read_csv(pth+\"FitFiles/ProRADD_tBias_Flat/flat_opt_theta.csv\", index_col=0, names=['val'])\n",
      "inits=opt_params['val'].to_dict()"
     ],
     "language": "python",
     "metadata": {},
     "outputs": [],
     "prompt_number": 105
    },
    {
     "cell_type": "code",
     "collapsed": false,
     "input": [
      "rt, pstop=proboot.Proboot(prodf, inits, depends_on={'t':'pGo'}, niter=150, ntrials=2000, maxfun=500, method='rwr', simfx='vector', ftol=1e-3, xtol=1e-3)"
     ],
     "language": "python",
     "metadata": {},
     "outputs": []
    },
    {
     "cell_type": "code",
     "collapsed": false,
     "input": [],
     "language": "python",
     "metadata": {},
     "outputs": []
    }
   ],
   "metadata": {}
  }
 ]
}