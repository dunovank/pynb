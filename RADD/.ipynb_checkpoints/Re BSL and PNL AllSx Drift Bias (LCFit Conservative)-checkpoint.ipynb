{
 "metadata": {
  "name": "",
  "signature": "sha256:f5a3e1000c0aa4743beeb5c35f504983329a5a3773cd30906fbf7b69a525cecc"
 },
 "nbformat": 3,
 "nbformat_minor": 0,
 "worksheets": [
  {
   "cells": [
    {
     "cell_type": "code",
     "collapsed": false,
     "input": [
      "from __future__ import division\n",
      "import pandas as pd\n",
      "from radd import fitre, utils, vis, lcfit\n",
      "from lmfit import Parameters, Minimizer\n",
      "import seaborn as sns"
     ],
     "language": "python",
     "metadata": {},
     "outputs": [],
     "prompt_number": 2
    },
    {
     "cell_type": "code",
     "collapsed": false,
     "input": [
      "pth=utils.find_path()\n",
      "redata_bsl=pd.read_csv(pth+\"DataFiles/ReBSL_Data.csv\", index_col=0)\n",
      "redata_pnl=pd.read_csv(pth+\"DataFiles/RePNL_Data.csv\", index_col=0)"
     ],
     "language": "python",
     "metadata": {},
     "outputs": [],
     "prompt_number": 3
    },
    {
     "cell_type": "code",
     "collapsed": false,
     "input": [
      "bsl_inits=pd.read_csv(pth+\"FitFiles/Inits/ReBSL_HDDM-vBias_Inits.csv\", index_col=0, names=['mean']).to_dict()['mean']\n",
      "pnl_inits=pd.read_csv(pth+\"FitFiles/Inits/RePNL_HDDM-vBias_Inits.csv\", index_col=0, names=['mean']).to_dict()['mean']"
     ],
     "language": "python",
     "metadata": {},
     "outputs": [],
     "prompt_number": 4
    },
    {
     "cell_type": "heading",
     "level": 1,
     "metadata": {},
     "source": [
      "Load Flat Optimized Inits"
     ]
    },
    {
     "cell_type": "code",
     "collapsed": false,
     "input": [
      "flat_inits=pd.read_csv(pth+\"FitFiles/Inits/ReBSL_FlatOptRADD_AvgTV_Inits.csv\", index_col=0, names=['mean']).to_dict()['mean']"
     ],
     "language": "python",
     "metadata": {},
     "outputs": [],
     "prompt_number": 7
    },
    {
     "cell_type": "heading",
     "level": 1,
     "metadata": {},
     "source": [
      "ReBSL Drift Bias Model"
     ]
    },
    {
     "cell_type": "code",
     "collapsed": false,
     "input": [
      "#os.mkdir(pth+\"FitFiles/Re_AllSx_DriftBiasLC_Con\")\n",
      "if not os.path.isdir(pth+\"FitFiles/Re_AllSx_DriftBiasLC_Con/bsl\"):\n",
      "    os.mkdir(\"/home/kyle/Dropbox/CoAx/SS/FitFiles/Re_AllSx_DriftBiasLC_Con/bsl\")\n",
      "os.chdir(pth+\"FitFiles/Re_AllSx_DriftBiasLC_Con/bsl\")"
     ],
     "language": "python",
     "metadata": {},
     "outputs": [],
     "prompt_number": 8
    },
    {
     "cell_type": "code",
     "collapsed": true,
     "input": [
      "bsl_fits=fitre.fit_reactive_data(data=redata_bsl, inits=flat_inits, simfx='lc', save_path = \"./rebsl_v_con_\", ftol=1.e-3, xtol=1.e-3)"
     ],
     "language": "python",
     "metadata": {},
     "outputs": [
      {
       "html": [
        "\n",
        "\t\t\t<div style=\"border: 1px solid black; width:500px\">\n",
        "\t\t\t<div id=\"18964d6f-8f41-4f33-ad84-89e3147cdb4e\" style=\"background-color:#009B76; width:0%\">&nbsp;</div>\n",
        "\t\t\t</div> \n",
        "\t\t\t"
       ],
       "metadata": {},
       "output_type": "display_data",
       "text": [
        "<IPython.core.display.HTML at 0x7fda73ded2d0>"
       ]
      }
     ]
    },
    {
     "cell_type": "heading",
     "level": 1,
     "metadata": {},
     "source": [
      "RePNL Drift Bias Model (V Free, A,T,Z Fixed at Opt BSL Values)"
     ]
    },
    {
     "cell_type": "code",
     "collapsed": false,
     "input": [
      "if not os.path.isdir(pth+\"FitFiles/Re_AllSx_DriftBiasLC_Con/pnl_v\"):\n",
      "    os.mkdir(pth+\"FitFiles/Re_AllSx_DriftBiasLC_Con/pnl_v\")\n",
      "os.chdir(pth+\"FitFiles/Re_AllSx_DriftBiasLC_Con/pnl_v\")"
     ],
     "language": "python",
     "metadata": {},
     "outputs": []
    },
    {
     "cell_type": "code",
     "collapsed": true,
     "input": [
      "# init each subject at opt bsl values, \n",
      "# pass to init arg as nested dictionary {sx:{a:###, 'v':###, 't': ###, 'z':###}}\n",
      "bsl_popt=pd.read_csv(pth+\"FitFiles/Re_AllSx_DriftBiasLC_Con/bsl/rebsl_v_con_popt_all.csv\", index_col=0)\n",
      "nested_pnl_inits=bsl_popt.T.to_dict()\n",
      "\n",
      "# fit model holding all parameters constant except for onset time (t)\n",
      "pnl_fits=fitre.fit_reactive_data(data=redata_pnl, inits=nested_pnl_inits, all_params=0, depends=['v'], simfx='lc', ntrials=2000, save_path=\"./repnl_v_con_\", ftol=1.e-3, xtol=1.e-3)"
     ],
     "language": "python",
     "metadata": {},
     "outputs": []
    },
    {
     "cell_type": "heading",
     "level": 1,
     "metadata": {},
     "source": [
      "RePNL Inits All Free Model"
     ]
    },
    {
     "cell_type": "code",
     "collapsed": false,
     "input": [
      "if not os.path.isdir(pth+\"FitFiles/Re_AllSx_DriftBiasLC_Con/pnl_free\"):\n",
      "    os.mkdir(pth+\"FitFiles/Re_AllSx_DriftBiasLC_Con/pnl_free\")\n",
      "os.chdir(pth+\"FitFiles/Re_AllSx_DriftBiasLC_Con/pnl_free\")"
     ],
     "language": "python",
     "metadata": {},
     "outputs": []
    },
    {
     "cell_type": "code",
     "collapsed": false,
     "input": [
      "# fit model initialized at hddm pnl inits with all parameters free\n",
      "pnl_fits=fitre.fit_reactive_data(data=redata_pnl, inits=pnl_inits, all_params=1, simfx='lc', ntrials = 2000, save_path=\"./repnl_free_con_\", ftol=1.e-3, xtol=1.e-3)"
     ],
     "language": "python",
     "metadata": {},
     "outputs": []
    },
    {
     "cell_type": "heading",
     "level": 1,
     "metadata": {},
     "source": [
      "RePNL Onset/Drift Bias Model (TR, V Free; A, Z Fixed) "
     ]
    },
    {
     "cell_type": "code",
     "collapsed": false,
     "input": [
      "if not os.path.isdir(pth+\"FitFiles/Re_AllSx_DriftBiasLC_Con/pnl_tv\"):\n",
      "    os.mkdir(pth+\"FitFiles/Re_AllSx_DriftBiasLC_Con/pnl_tv\")\n",
      "os.chdir(pth+\"FitFiles/Re_AllSx_DriftBiasLC_Con/pnl_tv\")"
     ],
     "language": "python",
     "metadata": {},
     "outputs": []
    },
    {
     "cell_type": "code",
     "collapsed": true,
     "input": [
      "# init each subject at opt bsl values, \n",
      "# pass to init arg as nested dictionary {sx:{a:###, 'v':###, 't': ###, 'z':###}}\n",
      "bsl_popt=pd.read_csv(pth+\"FitFiles/Re_AllSx_DriftBiasLC_Con/bsl/rebsl_v_con_popt_all.csv\", index_col=0)\n",
      "nested_pnl_inits=bsl_popt.T.to_dict()\n",
      "\n",
      "# fit model holding all parameters constant except for onset time (t)\n",
      "pnl_fits=fitre.fit_reactive_data(data=redata_pnl, inits=nested_pnl_inits, all_params=0, depends=['t','v'], simfx='lc', ntrials=2000, save_path=\"./repnl_tv_con_\")"
     ],
     "language": "python",
     "metadata": {},
     "outputs": []
    },
    {
     "cell_type": "heading",
     "level": 3,
     "metadata": {},
     "source": [
      "OLD Re Flat & IDX Fitted Parameters (BSL)"
     ]
    },
    {
     "cell_type": "code",
     "collapsed": false,
     "input": [
      "# optimized parameters fit to flat group data using RaDD \n",
      "# passed to sx fitting function as initial params for each sx\n",
      "inits={'a': 0.43155063058963727, 'ssv': -0.96986662065537221, \n",
      "         't': 0.30656375144494813, 'v': 1.0366001760617101, 'z': 0.16611261860323445}\n",
      "\n",
      "#ReBSL Avg of Individual Sx Optimized RADD Parameters\n",
      "inits_opt={'a':0.4380473426, 'ssv':-0.9784438748, 't':0.3063577618, 'z':0.1664076139,'v': 1.0515686029}"
     ],
     "language": "python",
     "metadata": {},
     "outputs": []
    },
    {
     "cell_type": "heading",
     "level": 3,
     "metadata": {},
     "source": [
      "Reactive Empirical Data "
     ]
    },
    {
     "cell_type": "code",
     "collapsed": false,
     "input": [
      "#Reactive Emprical Data for BSL, PNL Conditions\n",
      "reSC=[np.array([ 0.99482759,  0.98362069,  0.89913793,  0.5137931 ,  0.09913793]),np.array([ 0.99310345,  0.98534483,  0.92672414,  0.6       ,  0.17758621])]\n",
      "reSC_err=[np.array([ 0.00463002,  0.01061342,  0.02947119,  0.06475839,  0.0300568 ]), np.array([ 0.00657836,  0.00902168,  0.0244885 ,  0.05038838,  0.03991182])]\n",
      "\n",
      "reRT=[560.06155060636706, 566.04816069768106]\n",
      "reRT_err=[5.0285142629924566, 4.1756849148121304]"
     ],
     "language": "python",
     "metadata": {},
     "outputs": []
    }
   ],
   "metadata": {}
  }
 ]
}