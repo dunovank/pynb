{
 "metadata": {
  "name": "",
  "signature": "sha256:4fc1d9f00b584b2c0c23501777eca6bde61a7cc180573ced7638660681a28cf4"
 },
 "nbformat": 3,
 "nbformat_minor": 0,
 "worksheets": [
  {
   "cells": [
    {
     "cell_type": "code",
     "collapsed": false,
     "input": [
      "import radd\n",
      "from radd import utils, vis, pbold, final\n",
      "\n",
      "import scipy.stats as stats\n",
      "\n",
      "csv=pd.read_csv"
     ],
     "language": "python",
     "metadata": {},
     "outputs": [],
     "prompt_number": 8
    },
    {
     "cell_type": "heading",
     "level": 1,
     "metadata": {},
     "source": [
      "Load Idx Data"
     ]
    },
    {
     "cell_type": "markdown",
     "metadata": {},
     "source": [
      "##format\n",
      "\n",
      "        {'rt':idx_rt_df, 'sc':idx_sc_df}"
     ]
    },
    {
     "cell_type": "code",
     "collapsed": false,
     "input": [
      "#utils.find_path()\n",
      "bsldata=final.idx_data()\n",
      "pnldata=final.idx_data(task='pnl')\n",
      "prodata=final.idx_data(task='pro')\n",
      "\n"
     ],
     "language": "python",
     "metadata": {},
     "outputs": [],
     "prompt_number": 20
    },
    {
     "cell_type": "code",
     "collapsed": false,
     "input": [],
     "language": "python",
     "metadata": {},
     "outputs": []
    }
   ],
   "metadata": {}
  }
 ]
}