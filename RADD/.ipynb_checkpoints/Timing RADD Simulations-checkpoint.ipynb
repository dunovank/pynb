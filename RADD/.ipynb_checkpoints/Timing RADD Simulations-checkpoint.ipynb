{
 "metadata": {
  "name": "",
  "signature": "sha256:dccc13cc6f2ed389b029fb05012382cf4648bdcc092851ed5e303f5f8a724f3e"
 },
 "nbformat": 3,
 "nbformat_minor": 0,
 "worksheets": [
  {
   "cells": [
    {
     "cell_type": "code",
     "collapsed": false,
     "input": [
      "from __future__ import division\n",
      "from radd import utils, predict, fitpro, fitre, fitfx, lcfit, npsim\n",
      "from pandas import read_csv as csv\n",
      "\n",
      "parampath=utils.find_path()+\"ParamFiles/\"\n",
      "bxv=csv(parampath+\"rwr_pro_fitinfo.csv\")\n",
      "pro=csv(parampath+\"rwr_pro_opt_theta.csv\")"
     ],
     "language": "python",
     "metadata": {},
     "outputs": [],
     "prompt_number": 44
    },
    {
     "cell_type": "code",
     "collapsed": false,
     "input": [
      "pro_params=dict(pro.iloc[0:, :].values)\n",
      "\n",
      "theta_params=['ssv', 'z', 'a', 't', 'ssd']\n",
      "theta={p:pro_params[p] for p in theta_params}\n",
      "theta_fresh=theta.copy()\n",
      "pgo = np.arange(.2, 1.20, .2)\n",
      "vlist = bxv.groupby('pGo').mean()['v'].values\n",
      "rtvec, psvec = [], []"
     ],
     "language": "python",
     "metadata": {},
     "outputs": [],
     "prompt_number": 19
    },
    {
     "cell_type": "heading",
     "level": 1,
     "metadata": {},
     "source": [
      "Simulating a single condition"
     ]
    },
    {
     "cell_type": "code",
     "collapsed": false,
     "input": [
      "bxv=csv(parampath+\"rwr_pro_fitinfo.csv\")\n",
      "pro=csv(parampath+\"rwr_pro_opt_theta.csv\")\n",
      "theta['v']=np.mean(vlist)\n",
      "theta['pGo']=.5"
     ],
     "language": "python",
     "metadata": {},
     "outputs": [],
     "prompt_number": 20
    },
    {
     "cell_type": "code",
     "collapsed": false,
     "input": [
      "%timeit lcfit.proactive_radd(theta, ntrials=20000)"
     ],
     "language": "python",
     "metadata": {},
     "outputs": [
      {
       "output_type": "stream",
       "stream": "stdout",
       "text": [
        "1 loops, best of 3: 3.42 s per loop\n"
       ]
      }
     ],
     "prompt_number": 67
    },
    {
     "cell_type": "code",
     "collapsed": false,
     "input": [
      "%timeit fitpro.simulate(theta, ntrials=20000)"
     ],
     "language": "python",
     "metadata": {},
     "outputs": [
      {
       "output_type": "stream",
       "stream": "stdout",
       "text": [
        "1 loops, best of 3: 19.9 s per loop\n"
       ]
      }
     ],
     "prompt_number": 68
    },
    {
     "cell_type": "code",
     "collapsed": false,
     "input": [
      "%timeit fitpro.simulate(theta, ntrials=20000, return_all=True)"
     ],
     "language": "python",
     "metadata": {},
     "outputs": [
      {
       "output_type": "stream",
       "stream": "stdout",
       "text": [
        "1 loops, best of 3: 57.9 s per loop\n"
       ]
      }
     ],
     "prompt_number": 64
    },
    {
     "cell_type": "code",
     "collapsed": false,
     "input": [
      "pgo = np.arange(.2, 1.20, .2)\n",
      "vlist = bxv.groupby('pGo').mean()['v'].values\n",
      "rtvec, psvec = [], []"
     ],
     "language": "python",
     "metadata": {},
     "outputs": [],
     "prompt_number": 30
    },
    {
     "cell_type": "heading",
     "level": 1,
     "metadata": {},
     "source": [
      "Simulating all P(Go) Conditions"
     ]
    },
    {
     "cell_type": "code",
     "collapsed": false,
     "input": [
      "%%timeit\n",
      "#--------------------------------------------------------------#\n",
      "pgo = np.arange(0., 1.2, .2)\n",
      "vlist = bxv.groupby('pGo').mean()['v'].values\n",
      "rtvec, psvec = [], []\n",
      "\n",
      "for i, pg in enumerate(pgo):\n",
      "    \n",
      "    theta['v']=vlist[i]\n",
      "    theta['pGo']=pgo[i]\n",
      "    \n",
      "    g, ng = npsim.radd(theta, ntrials=2000)\n",
      "    pstop, rt = npsim.analyze_proactive_trials(g, ng, theta, timebound=.5451)\n",
      "    \n",
      "    rtvec.append(rt); psvec.append(pstop)"
     ],
     "language": "python",
     "metadata": {},
     "outputs": [],
     "prompt_number": 109
    }
   ],
   "metadata": {}
  }
 ]
}