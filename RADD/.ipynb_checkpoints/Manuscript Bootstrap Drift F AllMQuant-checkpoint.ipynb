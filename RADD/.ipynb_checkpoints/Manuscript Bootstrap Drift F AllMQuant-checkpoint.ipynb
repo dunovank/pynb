{
 "metadata": {
  "name": "",
  "signature": "sha256:0cd26ff1c9cd533ed2b3f0f553ecf4fe63dfefdf87de5a0b1478cb2c7651c6ce"
 },
 "nbformat": 3,
 "nbformat_minor": 0,
 "worksheets": [
  {
   "cells": [
    {
     "cell_type": "code",
     "collapsed": false,
     "input": [
      "from __future__ import division\n",
      "from pandas import read_csv as csv\n",
      "from radd import proboot, utils, final, vis, fitpro, npsim\n",
      "#prodata=final.all_data('pro')\n",
      "data=final.all_data('pro')"
     ],
     "language": "python",
     "metadata": {},
     "outputs": []
    },
    {
     "cell_type": "code",
     "collapsed": false,
     "input": [
      "df=data.copy()\n",
      "df['r']=data.response.copy()\n",
      "df.ix[df['rt']>.5451, 'response']=0\n",
      "df.ix[df['rt']<=.5451, 'response']=1"
     ],
     "language": "python",
     "metadata": {},
     "outputs": []
    },
    {
     "cell_type": "code",
     "collapsed": false,
     "input": [
      "os.chdir(\"/Users/kyle/Dropbox/SS_Backups/SS/Proactive/Boot/DriftF_AllMQuant/\")\n",
      "opt=pd.read_csv(\"flat_opt_theta.csv\", header=None, names=['mean'], index_col=0)\n",
      "opt.drop(['v(Hi)', 'v(Lo)', 'v'], inplace=True)\n",
      "inits=opt.to_dict()['mean']"
     ],
     "language": "python",
     "metadata": {},
     "outputs": []
    },
    {
     "cell_type": "code",
     "collapsed": false,
     "input": [
      "bxpstop, bxrt, fitinfo = proboot.Proboot(data, inits, rtfunc='mquant', depends_on={'v': 'pGo'}, filt_rts=True, niter=10, disp=False, tb=.5451)"
     ],
     "language": "python",
     "metadata": {},
     "outputs": []
    },
    {
     "cell_type": "code",
     "collapsed": false,
     "input": [
      "bxrt.mean()"
     ],
     "language": "python",
     "metadata": {},
     "outputs": []
    },
    {
     "cell_type": "code",
     "collapsed": false,
     "input": [
      "bxpstop.mean()"
     ],
     "language": "python",
     "metadata": {},
     "outputs": []
    },
    {
     "cell_type": "code",
     "collapsed": false,
     "input": [
      "pro=final.all_data('pro')\n",
      "pstop, mquant = utils.pstop_mquant(pro, filt_rts=False)\n",
      "godf=pro.query('rt<=.5451 & response==1')\n",
      "godf.rt.sem()*1.96"
     ],
     "language": "python",
     "metadata": {},
     "outputs": []
    },
    {
     "cell_type": "code",
     "collapsed": false,
     "input": [
      "mquant"
     ],
     "language": "python",
     "metadata": {},
     "outputs": []
    },
    {
     "cell_type": "code",
     "collapsed": false,
     "input": [
      "pstop"
     ],
     "language": "python",
     "metadata": {},
     "outputs": []
    },
    {
     "cell_type": "code",
     "collapsed": false,
     "input": [],
     "language": "python",
     "metadata": {},
     "outputs": []
    }
   ],
   "metadata": {}
  }
 ]
}