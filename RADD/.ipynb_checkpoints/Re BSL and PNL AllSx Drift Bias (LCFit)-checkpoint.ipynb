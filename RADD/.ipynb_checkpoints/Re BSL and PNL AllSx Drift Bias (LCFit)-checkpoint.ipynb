{
 "metadata": {
  "name": "",
  "signature": "sha256:a2e0daadf8cd929bdb170c1408f556b91cd19314ee104938e3a5f87081dcb23c"
 },
 "nbformat": 3,
 "nbformat_minor": 0,
 "worksheets": [
  {
   "cells": [
    {
     "cell_type": "code",
     "collapsed": false,
     "input": [
      "from __future__ import division\n",
      "import pandas as pd\n",
      "from radd import fitre, utils, vis, lcfit\n",
      "from lmfit import Parameters, Minimizer\n",
      "import seaborn as sns"
     ],
     "language": "python",
     "metadata": {},
     "outputs": [],
     "prompt_number": 1
    },
    {
     "cell_type": "code",
     "collapsed": false,
     "input": [
      "pth=utils.find_path()\n",
      "redata_bsl=pd.read_csv(pth+\"DataFiles/ReBSL_Data.csv\", index_col=0)\n",
      "redata_pnl=pd.read_csv(pth+\"DataFiles/RePNL_Data.csv\", index_col=0)"
     ],
     "language": "python",
     "metadata": {},
     "outputs": [],
     "prompt_number": 2
    },
    {
     "cell_type": "heading",
     "level": 1,
     "metadata": {},
     "source": [
      "Load and Format Init Parameters from HDDM V-Bias Models"
     ]
    },
    {
     "cell_type": "code",
     "collapsed": false,
     "input": [
      "vbias_sxparams=pd.read_csv(\"/home/kyle/Dropbox/CoAx/SS/ParamFiles/ReHDDM_vbias_params.csv\", index_col=0)\n",
      "\n",
      "bsl_inits=vbias_sxparams.mean().to_dict()\n",
      "pnl_inits=vbias_sxparams.mean().to_dict()\n",
      "\n",
      "tlist=['v(bsl)', 'v(pnl)']\n",
      "\n",
      "for i, inits in enumerate([bsl_inits, pnl_inits]):\n",
      "    \n",
      "    del inits['vdiff']\n",
      "    \n",
      "    for param in inits.keys():\n",
      "        if param==tlist[i]:\n",
      "            inits['v']=inits[param]\n",
      "    \n",
      "    for param in inits.keys():\n",
      "        if '(' in param:\n",
      "            del inits[param]\n",
      "\n",
      "    inits['ssv']=-1"
     ],
     "language": "python",
     "metadata": {},
     "outputs": [],
     "prompt_number": 3
    },
    {
     "cell_type": "heading",
     "level": 1,
     "metadata": {},
     "source": [
      "ReBSL Drift Bias Model"
     ]
    },
    {
     "cell_type": "code",
     "collapsed": false,
     "input": [
      "#os.mkdir(pth+\"FitFiles/Re_AllSx_DriftBiasLC\")\n",
      "if not os.path.isdir(pth+\"FitFiles/Re_AllSx_DriftBiasLC/bsl\"):\n",
      "    os.mkdir(pth+\"FitFiles/Re_AllSx_DriftBiasLC/bsl\")\n",
      "os.chdir(pth+\"FitFiles/Re_AllSx_DriftBiasLC/bsl\")"
     ],
     "language": "python",
     "metadata": {},
     "outputs": [],
     "prompt_number": 4
    },
    {
     "cell_type": "code",
     "collapsed": true,
     "input": [
      "bsl_fits=fitre.fit_reactive_data(data=redata_bsl, inits=bsl_inits, simfx='lc', save_path = \"./rebsl_v_\")"
     ],
     "language": "python",
     "metadata": {},
     "outputs": [
      {
       "html": [
        "\n",
        "\t\t\t<div style=\"border: 1px solid black; width:500px\">\n",
        "\t\t\t<div id=\"37f65fc0-ec6a-4b47-8bad-fc716c4541b5\" style=\"background-color:#009B76; width:0%\">&nbsp;</div>\n",
        "\t\t\t</div> \n",
        "\t\t\t"
       ],
       "metadata": {},
       "output_type": "display_data",
       "text": [
        "<IPython.core.display.HTML at 0x7fe63506b590>"
       ]
      },
      {
       "javascript": [
        "$('div#37f65fc0-ec6a-4b47-8bad-fc716c4541b5').width('1.64%')"
       ],
       "metadata": {},
       "output_type": "display_data",
       "text": [
        "<IPython.core.display.Javascript at 0x7fe660f4e650>"
       ]
      },
      {
       "javascript": [
        "$('div#37f65fc0-ec6a-4b47-8bad-fc716c4541b5').width('3.28%')"
       ],
       "metadata": {},
       "output_type": "display_data",
       "text": [
        "<IPython.core.display.Javascript at 0x7fe63506bcd0>"
       ]
      },
      {
       "javascript": [
        "$('div#37f65fc0-ec6a-4b47-8bad-fc716c4541b5').width('4.92%')"
       ],
       "metadata": {},
       "output_type": "display_data",
       "text": [
        "<IPython.core.display.Javascript at 0x7fe63506be50>"
       ]
      },
      {
       "javascript": [
        "$('div#37f65fc0-ec6a-4b47-8bad-fc716c4541b5').width('6.56%')"
       ],
       "metadata": {},
       "output_type": "display_data",
       "text": [
        "<IPython.core.display.Javascript at 0x7fe63506bdd0>"
       ]
      },
      {
       "javascript": [
        "$('div#37f65fc0-ec6a-4b47-8bad-fc716c4541b5').width('8.20%')"
       ],
       "metadata": {},
       "output_type": "display_data",
       "text": [
        "<IPython.core.display.Javascript at 0x7fe635082c10>"
       ]
      },
      {
       "javascript": [
        "$('div#37f65fc0-ec6a-4b47-8bad-fc716c4541b5').width('9.84%')"
       ],
       "metadata": {},
       "output_type": "display_data",
       "text": [
        "<IPython.core.display.Javascript at 0x7fe635082bd0>"
       ]
      },
      {
       "javascript": [
        "$('div#37f65fc0-ec6a-4b47-8bad-fc716c4541b5').width('11.48%')"
       ],
       "metadata": {},
       "output_type": "display_data",
       "text": [
        "<IPython.core.display.Javascript at 0x7fe635082d90>"
       ]
      },
      {
       "javascript": [
        "$('div#37f65fc0-ec6a-4b47-8bad-fc716c4541b5').width('13.11%')"
       ],
       "metadata": {},
       "output_type": "display_data",
       "text": [
        "<IPython.core.display.Javascript at 0x7fe635082f10>"
       ]
      },
      {
       "javascript": [
        "$('div#37f65fc0-ec6a-4b47-8bad-fc716c4541b5').width('14.75%')"
       ],
       "metadata": {},
       "output_type": "display_data",
       "text": [
        "<IPython.core.display.Javascript at 0x7fe635082fd0>"
       ]
      },
      {
       "javascript": [
        "$('div#37f65fc0-ec6a-4b47-8bad-fc716c4541b5').width('16.39%')"
       ],
       "metadata": {},
       "output_type": "display_data",
       "text": [
        "<IPython.core.display.Javascript at 0x7fe635082f10>"
       ]
      },
      {
       "javascript": [
        "$('div#37f65fc0-ec6a-4b47-8bad-fc716c4541b5').width('18.03%')"
       ],
       "metadata": {},
       "output_type": "display_data",
       "text": [
        "<IPython.core.display.Javascript at 0x7fe635082310>"
       ]
      },
      {
       "javascript": [
        "$('div#37f65fc0-ec6a-4b47-8bad-fc716c4541b5').width('19.67%')"
       ],
       "metadata": {},
       "output_type": "display_data",
       "text": [
        "<IPython.core.display.Javascript at 0x7fe635082610>"
       ]
      },
      {
       "javascript": [
        "$('div#37f65fc0-ec6a-4b47-8bad-fc716c4541b5').width('21.31%')"
       ],
       "metadata": {},
       "output_type": "display_data",
       "text": [
        "<IPython.core.display.Javascript at 0x7fe635082bd0>"
       ]
      },
      {
       "javascript": [
        "$('div#37f65fc0-ec6a-4b47-8bad-fc716c4541b5').width('22.95%')"
       ],
       "metadata": {},
       "output_type": "display_data",
       "text": [
        "<IPython.core.display.Javascript at 0x7fe635082790>"
       ]
      },
      {
       "javascript": [
        "$('div#37f65fc0-ec6a-4b47-8bad-fc716c4541b5').width('24.59%')"
       ],
       "metadata": {},
       "output_type": "display_data",
       "text": [
        "<IPython.core.display.Javascript at 0x7fe635082990>"
       ]
      },
      {
       "javascript": [
        "$('div#37f65fc0-ec6a-4b47-8bad-fc716c4541b5').width('26.23%')"
       ],
       "metadata": {},
       "output_type": "display_data",
       "text": [
        "<IPython.core.display.Javascript at 0x7fe63506bbd0>"
       ]
      },
      {
       "javascript": [
        "$('div#37f65fc0-ec6a-4b47-8bad-fc716c4541b5').width('27.87%')"
       ],
       "metadata": {},
       "output_type": "display_data",
       "text": [
        "<IPython.core.display.Javascript at 0x7fe6350826d0>"
       ]
      },
      {
       "javascript": [
        "$('div#37f65fc0-ec6a-4b47-8bad-fc716c4541b5').width('29.51%')"
       ],
       "metadata": {},
       "output_type": "display_data",
       "text": [
        "<IPython.core.display.Javascript at 0x7fe6350824d0>"
       ]
      },
      {
       "javascript": [
        "$('div#37f65fc0-ec6a-4b47-8bad-fc716c4541b5').width('31.15%')"
       ],
       "metadata": {},
       "output_type": "display_data",
       "text": [
        "<IPython.core.display.Javascript at 0x7fe63504ebd0>"
       ]
      },
      {
       "javascript": [
        "$('div#37f65fc0-ec6a-4b47-8bad-fc716c4541b5').width('32.79%')"
       ],
       "metadata": {},
       "output_type": "display_data",
       "text": [
        "<IPython.core.display.Javascript at 0x7fe63504ed50>"
       ]
      },
      {
       "javascript": [
        "$('div#37f65fc0-ec6a-4b47-8bad-fc716c4541b5').width('34.43%')"
       ],
       "metadata": {},
       "output_type": "display_data",
       "text": [
        "<IPython.core.display.Javascript at 0x7fe63504ee10>"
       ]
      },
      {
       "javascript": [
        "$('div#37f65fc0-ec6a-4b47-8bad-fc716c4541b5').width('36.07%')"
       ],
       "metadata": {},
       "output_type": "display_data",
       "text": [
        "<IPython.core.display.Javascript at 0x7fe63504ef50>"
       ]
      },
      {
       "javascript": [
        "$('div#37f65fc0-ec6a-4b47-8bad-fc716c4541b5').width('37.70%')"
       ],
       "metadata": {},
       "output_type": "display_data",
       "text": [
        "<IPython.core.display.Javascript at 0x7fe63504ee10>"
       ]
      },
      {
       "javascript": [
        "$('div#37f65fc0-ec6a-4b47-8bad-fc716c4541b5').width('39.34%')"
       ],
       "metadata": {},
       "output_type": "display_data",
       "text": [
        "<IPython.core.display.Javascript at 0x7fe63504ea90>"
       ]
      },
      {
       "javascript": [
        "$('div#37f65fc0-ec6a-4b47-8bad-fc716c4541b5').width('40.98%')"
       ],
       "metadata": {},
       "output_type": "display_data",
       "text": [
        "<IPython.core.display.Javascript at 0x7fe63504e310>"
       ]
      },
      {
       "javascript": [
        "$('div#37f65fc0-ec6a-4b47-8bad-fc716c4541b5').width('42.62%')"
       ],
       "metadata": {},
       "output_type": "display_data",
       "text": [
        "<IPython.core.display.Javascript at 0x7fe63504ef10>"
       ]
      },
      {
       "javascript": [
        "$('div#37f65fc0-ec6a-4b47-8bad-fc716c4541b5').width('44.26%')"
       ],
       "metadata": {},
       "output_type": "display_data",
       "text": [
        "<IPython.core.display.Javascript at 0x7fe63504ed50>"
       ]
      },
      {
       "javascript": [
        "$('div#37f65fc0-ec6a-4b47-8bad-fc716c4541b5').width('45.90%')"
       ],
       "metadata": {},
       "output_type": "display_data",
       "text": [
        "<IPython.core.display.Javascript at 0x7fe63504e790>"
       ]
      },
      {
       "javascript": [
        "$('div#37f65fc0-ec6a-4b47-8bad-fc716c4541b5').width('47.54%')"
       ],
       "metadata": {},
       "output_type": "display_data",
       "text": [
        "<IPython.core.display.Javascript at 0x7fe63504e850>"
       ]
      },
      {
       "javascript": [
        "$('div#37f65fc0-ec6a-4b47-8bad-fc716c4541b5').width('49.18%')"
       ],
       "metadata": {},
       "output_type": "display_data",
       "text": [
        "<IPython.core.display.Javascript at 0x7fe63506bd10>"
       ]
      },
      {
       "javascript": [
        "$('div#37f65fc0-ec6a-4b47-8bad-fc716c4541b5').width('50.82%')"
       ],
       "metadata": {},
       "output_type": "display_data",
       "text": [
        "<IPython.core.display.Javascript at 0x7fe63504eb10>"
       ]
      },
      {
       "javascript": [
        "$('div#37f65fc0-ec6a-4b47-8bad-fc716c4541b5').width('52.46%')"
       ],
       "metadata": {},
       "output_type": "display_data",
       "text": [
        "<IPython.core.display.Javascript at 0x7fe63504e590>"
       ]
      },
      {
       "javascript": [
        "$('div#37f65fc0-ec6a-4b47-8bad-fc716c4541b5').width('54.10%')"
       ],
       "metadata": {},
       "output_type": "display_data",
       "text": [
        "<IPython.core.display.Javascript at 0x7fe6350824d0>"
       ]
      },
      {
       "javascript": [
        "$('div#37f65fc0-ec6a-4b47-8bad-fc716c4541b5').width('55.74%')"
       ],
       "metadata": {},
       "output_type": "display_data",
       "text": [
        "<IPython.core.display.Javascript at 0x7fe63504e3d0>"
       ]
      },
      {
       "javascript": [
        "$('div#37f65fc0-ec6a-4b47-8bad-fc716c4541b5').width('57.38%')"
       ],
       "metadata": {},
       "output_type": "display_data",
       "text": [
        "<IPython.core.display.Javascript at 0x7fe635082850>"
       ]
      },
      {
       "javascript": [
        "$('div#37f65fc0-ec6a-4b47-8bad-fc716c4541b5').width('59.02%')"
       ],
       "metadata": {},
       "output_type": "display_data",
       "text": [
        "<IPython.core.display.Javascript at 0x7fe635082410>"
       ]
      },
      {
       "javascript": [
        "$('div#37f65fc0-ec6a-4b47-8bad-fc716c4541b5').width('60.66%')"
       ],
       "metadata": {},
       "output_type": "display_data",
       "text": [
        "<IPython.core.display.Javascript at 0x7fe635082a10>"
       ]
      },
      {
       "javascript": [
        "$('div#37f65fc0-ec6a-4b47-8bad-fc716c4541b5').width('62.30%')"
       ],
       "metadata": {},
       "output_type": "display_data",
       "text": [
        "<IPython.core.display.Javascript at 0x7fe63504ef50>"
       ]
      },
      {
       "javascript": [
        "$('div#37f65fc0-ec6a-4b47-8bad-fc716c4541b5').width('63.93%')"
       ],
       "metadata": {},
       "output_type": "display_data",
       "text": [
        "<IPython.core.display.Javascript at 0x7fe635082250>"
       ]
      },
      {
       "javascript": [
        "$('div#37f65fc0-ec6a-4b47-8bad-fc716c4541b5').width('65.57%')"
       ],
       "metadata": {},
       "output_type": "display_data",
       "text": [
        "<IPython.core.display.Javascript at 0x7fe63505bf90>"
       ]
      },
      {
       "javascript": [
        "$('div#37f65fc0-ec6a-4b47-8bad-fc716c4541b5').width('67.21%')"
       ],
       "metadata": {},
       "output_type": "display_data",
       "text": [
        "<IPython.core.display.Javascript at 0x7fe63505bdd0>"
       ]
      },
      {
       "javascript": [
        "$('div#37f65fc0-ec6a-4b47-8bad-fc716c4541b5').width('68.85%')"
       ],
       "metadata": {},
       "output_type": "display_data",
       "text": [
        "<IPython.core.display.Javascript at 0x7fe63505bf90>"
       ]
      },
      {
       "javascript": [
        "$('div#37f65fc0-ec6a-4b47-8bad-fc716c4541b5').width('70.49%')"
       ],
       "metadata": {},
       "output_type": "display_data",
       "text": [
        "<IPython.core.display.Javascript at 0x7fe63505b390>"
       ]
      },
      {
       "javascript": [
        "$('div#37f65fc0-ec6a-4b47-8bad-fc716c4541b5').width('72.13%')"
       ],
       "metadata": {},
       "output_type": "display_data",
       "text": [
        "<IPython.core.display.Javascript at 0x7fe63505b490>"
       ]
      },
      {
       "javascript": [
        "$('div#37f65fc0-ec6a-4b47-8bad-fc716c4541b5').width('73.77%')"
       ],
       "metadata": {},
       "output_type": "display_data",
       "text": [
        "<IPython.core.display.Javascript at 0x7fe63505b8d0>"
       ]
      },
      {
       "javascript": [
        "$('div#37f65fc0-ec6a-4b47-8bad-fc716c4541b5').width('75.41%')"
       ],
       "metadata": {},
       "output_type": "display_data",
       "text": [
        "<IPython.core.display.Javascript at 0x7fe63505bc90>"
       ]
      },
      {
       "output_type": "stream",
       "stream": "stderr",
       "text": [
        "/home/kyle/anaconda/lib/python2.7/site-packages/numpy/core/_methods.py:59: RuntimeWarning: Mean of empty slice.\n",
        "  warnings.warn(\"Mean of empty slice.\", RuntimeWarning)\n"
       ]
      },
      {
       "javascript": [
        "$('div#37f65fc0-ec6a-4b47-8bad-fc716c4541b5').width('77.05%')"
       ],
       "metadata": {},
       "output_type": "display_data",
       "text": [
        "<IPython.core.display.Javascript at 0x7fe63505be50>"
       ]
      },
      {
       "javascript": [
        "$('div#37f65fc0-ec6a-4b47-8bad-fc716c4541b5').width('78.69%')"
       ],
       "metadata": {},
       "output_type": "display_data",
       "text": [
        "<IPython.core.display.Javascript at 0x7fe635082150>"
       ]
      },
      {
       "javascript": [
        "$('div#37f65fc0-ec6a-4b47-8bad-fc716c4541b5').width('80.33%')"
       ],
       "metadata": {},
       "output_type": "display_data",
       "text": [
        "<IPython.core.display.Javascript at 0x7fe63505bd90>"
       ]
      },
      {
       "javascript": [
        "$('div#37f65fc0-ec6a-4b47-8bad-fc716c4541b5').width('81.97%')"
       ],
       "metadata": {},
       "output_type": "display_data",
       "text": [
        "<IPython.core.display.Javascript at 0x7fe63500ec10>"
       ]
      },
      {
       "javascript": [
        "$('div#37f65fc0-ec6a-4b47-8bad-fc716c4541b5').width('83.61%')"
       ],
       "metadata": {},
       "output_type": "display_data",
       "text": [
        "<IPython.core.display.Javascript at 0x7fe63500efd0>"
       ]
      },
      {
       "javascript": [
        "$('div#37f65fc0-ec6a-4b47-8bad-fc716c4541b5').width('85.25%')"
       ],
       "metadata": {},
       "output_type": "display_data",
       "text": [
        "<IPython.core.display.Javascript at 0x7fe63500ec10>"
       ]
      },
      {
       "javascript": [
        "$('div#37f65fc0-ec6a-4b47-8bad-fc716c4541b5').width('86.89%')"
       ],
       "metadata": {},
       "output_type": "display_data",
       "text": [
        "<IPython.core.display.Javascript at 0x7fe63500edd0>"
       ]
      },
      {
       "javascript": [
        "$('div#37f65fc0-ec6a-4b47-8bad-fc716c4541b5').width('88.52%')"
       ],
       "metadata": {},
       "output_type": "display_data",
       "text": [
        "<IPython.core.display.Javascript at 0x7fe63500ea50>"
       ]
      },
      {
       "javascript": [
        "$('div#37f65fc0-ec6a-4b47-8bad-fc716c4541b5').width('90.16%')"
       ],
       "metadata": {},
       "output_type": "display_data",
       "text": [
        "<IPython.core.display.Javascript at 0x7fe63500ebd0>"
       ]
      },
      {
       "javascript": [
        "$('div#37f65fc0-ec6a-4b47-8bad-fc716c4541b5').width('91.80%')"
       ],
       "metadata": {},
       "output_type": "display_data",
       "text": [
        "<IPython.core.display.Javascript at 0x7fe63500ef90>"
       ]
      },
      {
       "javascript": [
        "$('div#37f65fc0-ec6a-4b47-8bad-fc716c4541b5').width('93.44%')"
       ],
       "metadata": {},
       "output_type": "display_data",
       "text": [
        "<IPython.core.display.Javascript at 0x7fe63500ed50>"
       ]
      },
      {
       "javascript": [
        "$('div#37f65fc0-ec6a-4b47-8bad-fc716c4541b5').width('95.08%')"
       ],
       "metadata": {},
       "output_type": "display_data",
       "text": [
        "<IPython.core.display.Javascript at 0x7fe63500ef90>"
       ]
      },
      {
       "javascript": [
        "$('div#37f65fc0-ec6a-4b47-8bad-fc716c4541b5').width('96.72%')"
       ],
       "metadata": {},
       "output_type": "display_data",
       "text": [
        "<IPython.core.display.Javascript at 0x7fe63500ec50>"
       ]
      },
      {
       "javascript": [
        "$('div#37f65fc0-ec6a-4b47-8bad-fc716c4541b5').width('98.36%')"
       ],
       "metadata": {},
       "output_type": "display_data",
       "text": [
        "<IPython.core.display.Javascript at 0x7fe63506bc90>"
       ]
      },
      {
       "javascript": [
        "$('div#37f65fc0-ec6a-4b47-8bad-fc716c4541b5').width('100.00%')"
       ],
       "metadata": {},
       "output_type": "display_data",
       "text": [
        "<IPython.core.display.Javascript at 0x7fe635005bd0>"
       ]
      }
     ],
     "prompt_number": 5
    },
    {
     "cell_type": "heading",
     "level": 1,
     "metadata": {},
     "source": [
      "RePNL Drift Bias Model (V Free, A,T,Z Fixed at Opt BSL Values)"
     ]
    },
    {
     "cell_type": "code",
     "collapsed": false,
     "input": [
      "if not os.path.isdir(pth+\"FitFiles/Re_AllSx_DriftBiasLC/pnl_v\"):\n",
      "    os.mkdir(pth+\"FitFiles/Re_AllSx_DriftBiasLC/pnl_v\")\n",
      "os.chdir(pth+\"FitFiles/Re_AllSx_DriftBiasLC/pnl_v\")"
     ],
     "language": "python",
     "metadata": {},
     "outputs": [],
     "prompt_number": 6
    },
    {
     "cell_type": "code",
     "collapsed": true,
     "input": [
      "# init each subject at opt bsl values, \n",
      "# pass to init arg as nested dictionary {sx:{a:###, 'v':###, 't': ###, 'z':###}}\n",
      "bsl_popt=pd.read_csv(pth+\"FitFiles/Re_AllSx_DriftBiasLC/bsl/rebsl_v_popt_all.csv\", index_col=0)\n",
      "nested_pnl_inits=bsl_popt.T.to_dict()\n",
      "\n",
      "# fit model holding all parameters constant except for onset time (t)\n",
      "pnl_fits=fitre.fit_reactive_data(data=redata_pnl, inits=nested_pnl_inits, all_params=0, depends=['v'], simfx='lc', ntrials=2000, save_path=\"./repnl_v_\")"
     ],
     "language": "python",
     "metadata": {},
     "outputs": [
      {
       "html": [
        "\n",
        "\t\t\t<div style=\"border: 1px solid black; width:500px\">\n",
        "\t\t\t<div id=\"ecf94f3f-bafd-4df8-b98d-1370062b0a70\" style=\"background-color:#009B76; width:0%\">&nbsp;</div>\n",
        "\t\t\t</div> \n",
        "\t\t\t"
       ],
       "metadata": {},
       "output_type": "display_data",
       "text": [
        "<IPython.core.display.HTML at 0x7fe63505bf10>"
       ]
      },
      {
       "javascript": [
        "$('div#ecf94f3f-bafd-4df8-b98d-1370062b0a70').width('1.64%')"
       ],
       "metadata": {},
       "output_type": "display_data",
       "text": [
        "<IPython.core.display.Javascript at 0x7fe660f646d0>"
       ]
      },
      {
       "javascript": [
        "$('div#ecf94f3f-bafd-4df8-b98d-1370062b0a70').width('3.28%')"
       ],
       "metadata": {},
       "output_type": "display_data",
       "text": [
        "<IPython.core.display.Javascript at 0x7fe63505bb90>"
       ]
      },
      {
       "javascript": [
        "$('div#ecf94f3f-bafd-4df8-b98d-1370062b0a70').width('4.92%')"
       ],
       "metadata": {},
       "output_type": "display_data",
       "text": [
        "<IPython.core.display.Javascript at 0x7fe63505b650>"
       ]
      },
      {
       "javascript": [
        "$('div#ecf94f3f-bafd-4df8-b98d-1370062b0a70').width('6.56%')"
       ],
       "metadata": {},
       "output_type": "display_data",
       "text": [
        "<IPython.core.display.Javascript at 0x7fe63505b350>"
       ]
      },
      {
       "javascript": [
        "$('div#ecf94f3f-bafd-4df8-b98d-1370062b0a70').width('8.20%')"
       ],
       "metadata": {},
       "output_type": "display_data",
       "text": [
        "<IPython.core.display.Javascript at 0x7fe635082fd0>"
       ]
      },
      {
       "javascript": [
        "$('div#ecf94f3f-bafd-4df8-b98d-1370062b0a70').width('9.84%')"
       ],
       "metadata": {},
       "output_type": "display_data",
       "text": [
        "<IPython.core.display.Javascript at 0x7fe63505b810>"
       ]
      },
      {
       "javascript": [
        "$('div#ecf94f3f-bafd-4df8-b98d-1370062b0a70').width('11.48%')"
       ],
       "metadata": {},
       "output_type": "display_data",
       "text": [
        "<IPython.core.display.Javascript at 0x7fe63506b590>"
       ]
      },
      {
       "javascript": [
        "$('div#ecf94f3f-bafd-4df8-b98d-1370062b0a70').width('13.11%')"
       ],
       "metadata": {},
       "output_type": "display_data",
       "text": [
        "<IPython.core.display.Javascript at 0x7fe635082210>"
       ]
      },
      {
       "javascript": [
        "$('div#ecf94f3f-bafd-4df8-b98d-1370062b0a70').width('14.75%')"
       ],
       "metadata": {},
       "output_type": "display_data",
       "text": [
        "<IPython.core.display.Javascript at 0x7fe6350827d0>"
       ]
      },
      {
       "javascript": [
        "$('div#ecf94f3f-bafd-4df8-b98d-1370062b0a70').width('16.39%')"
       ],
       "metadata": {},
       "output_type": "display_data",
       "text": [
        "<IPython.core.display.Javascript at 0x7fe63505b650>"
       ]
      },
      {
       "javascript": [
        "$('div#ecf94f3f-bafd-4df8-b98d-1370062b0a70').width('18.03%')"
       ],
       "metadata": {},
       "output_type": "display_data",
       "text": [
        "<IPython.core.display.Javascript at 0x7fe63506b8d0>"
       ]
      },
      {
       "javascript": [
        "$('div#ecf94f3f-bafd-4df8-b98d-1370062b0a70').width('19.67%')"
       ],
       "metadata": {},
       "output_type": "display_data",
       "text": [
        "<IPython.core.display.Javascript at 0x7fe63500eed0>"
       ]
      },
      {
       "javascript": [
        "$('div#ecf94f3f-bafd-4df8-b98d-1370062b0a70').width('21.31%')"
       ],
       "metadata": {},
       "output_type": "display_data",
       "text": [
        "<IPython.core.display.Javascript at 0x7fe635082590>"
       ]
      },
      {
       "javascript": [
        "$('div#ecf94f3f-bafd-4df8-b98d-1370062b0a70').width('22.95%')"
       ],
       "metadata": {},
       "output_type": "display_data",
       "text": [
        "<IPython.core.display.Javascript at 0x7fe63500e6d0>"
       ]
      },
      {
       "javascript": [
        "$('div#ecf94f3f-bafd-4df8-b98d-1370062b0a70').width('24.59%')"
       ],
       "metadata": {},
       "output_type": "display_data",
       "text": [
        "<IPython.core.display.Javascript at 0x7fe63505bb90>"
       ]
      },
      {
       "javascript": [
        "$('div#ecf94f3f-bafd-4df8-b98d-1370062b0a70').width('26.23%')"
       ],
       "metadata": {},
       "output_type": "display_data",
       "text": [
        "<IPython.core.display.Javascript at 0x7fe63500ec50>"
       ]
      },
      {
       "javascript": [
        "$('div#ecf94f3f-bafd-4df8-b98d-1370062b0a70').width('27.87%')"
       ],
       "metadata": {},
       "output_type": "display_data",
       "text": [
        "<IPython.core.display.Javascript at 0x7fe63500eed0>"
       ]
      },
      {
       "javascript": [
        "$('div#ecf94f3f-bafd-4df8-b98d-1370062b0a70').width('29.51%')"
       ],
       "metadata": {},
       "output_type": "display_data",
       "text": [
        "<IPython.core.display.Javascript at 0x7fe63505b650>"
       ]
      },
      {
       "javascript": [
        "$('div#ecf94f3f-bafd-4df8-b98d-1370062b0a70').width('31.15%')"
       ],
       "metadata": {},
       "output_type": "display_data",
       "text": [
        "<IPython.core.display.Javascript at 0x7fe635005790>"
       ]
      },
      {
       "javascript": [
        "$('div#ecf94f3f-bafd-4df8-b98d-1370062b0a70').width('32.79%')"
       ],
       "metadata": {},
       "output_type": "display_data",
       "text": [
        "<IPython.core.display.Javascript at 0x7fe63505b650>"
       ]
      },
      {
       "javascript": [
        "$('div#ecf94f3f-bafd-4df8-b98d-1370062b0a70').width('34.43%')"
       ],
       "metadata": {},
       "output_type": "display_data",
       "text": [
        "<IPython.core.display.Javascript at 0x7fe635005cd0>"
       ]
      },
      {
       "javascript": [
        "$('div#ecf94f3f-bafd-4df8-b98d-1370062b0a70').width('36.07%')"
       ],
       "metadata": {},
       "output_type": "display_data",
       "text": [
        "<IPython.core.display.Javascript at 0x7fe635005690>"
       ]
      },
      {
       "javascript": [
        "$('div#ecf94f3f-bafd-4df8-b98d-1370062b0a70').width('37.70%')"
       ],
       "metadata": {},
       "output_type": "display_data",
       "text": [
        "<IPython.core.display.Javascript at 0x7fe635005950>"
       ]
      },
      {
       "javascript": [
        "$('div#ecf94f3f-bafd-4df8-b98d-1370062b0a70').width('39.34%')"
       ],
       "metadata": {},
       "output_type": "display_data",
       "text": [
        "<IPython.core.display.Javascript at 0x7fe6350051d0>"
       ]
      },
      {
       "javascript": [
        "$('div#ecf94f3f-bafd-4df8-b98d-1370062b0a70').width('40.98%')"
       ],
       "metadata": {},
       "output_type": "display_data",
       "text": [
        "<IPython.core.display.Javascript at 0x7fe635005e90>"
       ]
      },
      {
       "javascript": [
        "$('div#ecf94f3f-bafd-4df8-b98d-1370062b0a70').width('42.62%')"
       ],
       "metadata": {},
       "output_type": "display_data",
       "text": [
        "<IPython.core.display.Javascript at 0x7fe635005f90>"
       ]
      },
      {
       "javascript": [
        "$('div#ecf94f3f-bafd-4df8-b98d-1370062b0a70').width('44.26%')"
       ],
       "metadata": {},
       "output_type": "display_data",
       "text": [
        "<IPython.core.display.Javascript at 0x7fe635005610>"
       ]
      },
      {
       "javascript": [
        "$('div#ecf94f3f-bafd-4df8-b98d-1370062b0a70').width('45.90%')"
       ],
       "metadata": {},
       "output_type": "display_data",
       "text": [
        "<IPython.core.display.Javascript at 0x7fe635005850>"
       ]
      },
      {
       "javascript": [
        "$('div#ecf94f3f-bafd-4df8-b98d-1370062b0a70').width('47.54%')"
       ],
       "metadata": {},
       "output_type": "display_data",
       "text": [
        "<IPython.core.display.Javascript at 0x7fe6350051d0>"
       ]
      },
      {
       "javascript": [
        "$('div#ecf94f3f-bafd-4df8-b98d-1370062b0a70').width('49.18%')"
       ],
       "metadata": {},
       "output_type": "display_data",
       "text": [
        "<IPython.core.display.Javascript at 0x7fe635005e90>"
       ]
      },
      {
       "javascript": [
        "$('div#ecf94f3f-bafd-4df8-b98d-1370062b0a70').width('50.82%')"
       ],
       "metadata": {},
       "output_type": "display_data",
       "text": [
        "<IPython.core.display.Javascript at 0x7fe635005690>"
       ]
      },
      {
       "javascript": [
        "$('div#ecf94f3f-bafd-4df8-b98d-1370062b0a70').width('52.46%')"
       ],
       "metadata": {},
       "output_type": "display_data",
       "text": [
        "<IPython.core.display.Javascript at 0x7fe634ffc410>"
       ]
      },
      {
       "javascript": [
        "$('div#ecf94f3f-bafd-4df8-b98d-1370062b0a70').width('54.10%')"
       ],
       "metadata": {},
       "output_type": "display_data",
       "text": [
        "<IPython.core.display.Javascript at 0x7fe634ffc510>"
       ]
      },
      {
       "javascript": [
        "$('div#ecf94f3f-bafd-4df8-b98d-1370062b0a70').width('55.74%')"
       ],
       "metadata": {},
       "output_type": "display_data",
       "text": [
        "<IPython.core.display.Javascript at 0x7fe634ffcb90>"
       ]
      },
      {
       "javascript": [
        "$('div#ecf94f3f-bafd-4df8-b98d-1370062b0a70').width('57.38%')"
       ],
       "metadata": {},
       "output_type": "display_data",
       "text": [
        "<IPython.core.display.Javascript at 0x7fe634ffc8d0>"
       ]
      },
      {
       "javascript": [
        "$('div#ecf94f3f-bafd-4df8-b98d-1370062b0a70').width('59.02%')"
       ],
       "metadata": {},
       "output_type": "display_data",
       "text": [
        "<IPython.core.display.Javascript at 0x7fe634ffce10>"
       ]
      },
      {
       "javascript": [
        "$('div#ecf94f3f-bafd-4df8-b98d-1370062b0a70').width('60.66%')"
       ],
       "metadata": {},
       "output_type": "display_data",
       "text": [
        "<IPython.core.display.Javascript at 0x7fe634ffc690>"
       ]
      },
      {
       "javascript": [
        "$('div#ecf94f3f-bafd-4df8-b98d-1370062b0a70').width('62.30%')"
       ],
       "metadata": {},
       "output_type": "display_data",
       "text": [
        "<IPython.core.display.Javascript at 0x7fe635005d10>"
       ]
      },
      {
       "javascript": [
        "$('div#ecf94f3f-bafd-4df8-b98d-1370062b0a70').width('63.93%')"
       ],
       "metadata": {},
       "output_type": "display_data",
       "text": [
        "<IPython.core.display.Javascript at 0x7fe634ffc350>"
       ]
      },
      {
       "javascript": [
        "$('div#ecf94f3f-bafd-4df8-b98d-1370062b0a70').width('65.57%')"
       ],
       "metadata": {},
       "output_type": "display_data",
       "text": [
        "<IPython.core.display.Javascript at 0x7fe634ffc410>"
       ]
      },
      {
       "javascript": [
        "$('div#ecf94f3f-bafd-4df8-b98d-1370062b0a70').width('67.21%')"
       ],
       "metadata": {},
       "output_type": "display_data",
       "text": [
        "<IPython.core.display.Javascript at 0x7fe634ffc050>"
       ]
      },
      {
       "javascript": [
        "$('div#ecf94f3f-bafd-4df8-b98d-1370062b0a70').width('68.85%')"
       ],
       "metadata": {},
       "output_type": "display_data",
       "text": [
        "<IPython.core.display.Javascript at 0x7fe634fb0b50>"
       ]
      },
      {
       "javascript": [
        "$('div#ecf94f3f-bafd-4df8-b98d-1370062b0a70').width('70.49%')"
       ],
       "metadata": {},
       "output_type": "display_data",
       "text": [
        "<IPython.core.display.Javascript at 0x7fe634ffc510>"
       ]
      },
      {
       "javascript": [
        "$('div#ecf94f3f-bafd-4df8-b98d-1370062b0a70').width('72.13%')"
       ],
       "metadata": {},
       "output_type": "display_data",
       "text": [
        "<IPython.core.display.Javascript at 0x7fe634ffc350>"
       ]
      },
      {
       "javascript": [
        "$('div#ecf94f3f-bafd-4df8-b98d-1370062b0a70').width('73.77%')"
       ],
       "metadata": {},
       "output_type": "display_data",
       "text": [
        "<IPython.core.display.Javascript at 0x7fe635005610>"
       ]
      },
      {
       "javascript": [
        "$('div#ecf94f3f-bafd-4df8-b98d-1370062b0a70').width('75.41%')"
       ],
       "metadata": {},
       "output_type": "display_data",
       "text": [
        "<IPython.core.display.Javascript at 0x7fe634ffc410>"
       ]
      },
      {
       "javascript": [
        "$('div#ecf94f3f-bafd-4df8-b98d-1370062b0a70').width('77.05%')"
       ],
       "metadata": {},
       "output_type": "display_data",
       "text": [
        "<IPython.core.display.Javascript at 0x7fe634ffc050>"
       ]
      },
      {
       "javascript": [
        "$('div#ecf94f3f-bafd-4df8-b98d-1370062b0a70').width('78.69%')"
       ],
       "metadata": {},
       "output_type": "display_data",
       "text": [
        "<IPython.core.display.Javascript at 0x7fe634fb0bd0>"
       ]
      },
      {
       "javascript": [
        "$('div#ecf94f3f-bafd-4df8-b98d-1370062b0a70').width('80.33%')"
       ],
       "metadata": {},
       "output_type": "display_data",
       "text": [
        "<IPython.core.display.Javascript at 0x7fe634fb0610>"
       ]
      },
      {
       "javascript": [
        "$('div#ecf94f3f-bafd-4df8-b98d-1370062b0a70').width('81.97%')"
       ],
       "metadata": {},
       "output_type": "display_data",
       "text": [
        "<IPython.core.display.Javascript at 0x7fe634fb0250>"
       ]
      },
      {
       "javascript": [
        "$('div#ecf94f3f-bafd-4df8-b98d-1370062b0a70').width('83.61%')"
       ],
       "metadata": {},
       "output_type": "display_data",
       "text": [
        "<IPython.core.display.Javascript at 0x7fe634ffc710>"
       ]
      },
      {
       "javascript": [
        "$('div#ecf94f3f-bafd-4df8-b98d-1370062b0a70').width('85.25%')"
       ],
       "metadata": {},
       "output_type": "display_data",
       "text": [
        "<IPython.core.display.Javascript at 0x7fe634fb0f50>"
       ]
      },
      {
       "javascript": [
        "$('div#ecf94f3f-bafd-4df8-b98d-1370062b0a70').width('86.89%')"
       ],
       "metadata": {},
       "output_type": "display_data",
       "text": [
        "<IPython.core.display.Javascript at 0x7fe634fb03d0>"
       ]
      },
      {
       "javascript": [
        "$('div#ecf94f3f-bafd-4df8-b98d-1370062b0a70').width('88.52%')"
       ],
       "metadata": {},
       "output_type": "display_data",
       "text": [
        "<IPython.core.display.Javascript at 0x7fe634fb0cd0>"
       ]
      },
      {
       "javascript": [
        "$('div#ecf94f3f-bafd-4df8-b98d-1370062b0a70').width('90.16%')"
       ],
       "metadata": {},
       "output_type": "display_data",
       "text": [
        "<IPython.core.display.Javascript at 0x7fe634ffcf90>"
       ]
      },
      {
       "javascript": [
        "$('div#ecf94f3f-bafd-4df8-b98d-1370062b0a70').width('91.80%')"
       ],
       "metadata": {},
       "output_type": "display_data",
       "text": [
        "<IPython.core.display.Javascript at 0x7fe634fb0610>"
       ]
      },
      {
       "javascript": [
        "$('div#ecf94f3f-bafd-4df8-b98d-1370062b0a70').width('93.44%')"
       ],
       "metadata": {},
       "output_type": "display_data",
       "text": [
        "<IPython.core.display.Javascript at 0x7fe634fb7390>"
       ]
      },
      {
       "javascript": [
        "$('div#ecf94f3f-bafd-4df8-b98d-1370062b0a70').width('95.08%')"
       ],
       "metadata": {},
       "output_type": "display_data",
       "text": [
        "<IPython.core.display.Javascript at 0x7fe634fb7810>"
       ]
      },
      {
       "javascript": [
        "$('div#ecf94f3f-bafd-4df8-b98d-1370062b0a70').width('96.72%')"
       ],
       "metadata": {},
       "output_type": "display_data",
       "text": [
        "<IPython.core.display.Javascript at 0x7fe634fb7c90>"
       ]
      },
      {
       "javascript": [
        "$('div#ecf94f3f-bafd-4df8-b98d-1370062b0a70').width('98.36%')"
       ],
       "metadata": {},
       "output_type": "display_data",
       "text": [
        "<IPython.core.display.Javascript at 0x7fe634ffc510>"
       ]
      },
      {
       "javascript": [
        "$('div#ecf94f3f-bafd-4df8-b98d-1370062b0a70').width('100.00%')"
       ],
       "metadata": {},
       "output_type": "display_data",
       "text": [
        "<IPython.core.display.Javascript at 0x7fe634fb7d50>"
       ]
      }
     ],
     "prompt_number": 7
    },
    {
     "cell_type": "heading",
     "level": 1,
     "metadata": {},
     "source": [
      "RePNL Inits All Free Model"
     ]
    },
    {
     "cell_type": "code",
     "collapsed": false,
     "input": [
      "if not os.path.isdir(pth+\"FitFiles/Re_AllSx_DriftBiasLC/pnl_free\"):\n",
      "    os.mkdir(pth+\"FitFiles/Re_AllSx_DriftBiasLC/pnl_free\")\n",
      "os.chdir(pth+\"FitFiles/Re_AllSx_DriftBiasLC/pnl_free\")"
     ],
     "language": "python",
     "metadata": {},
     "outputs": [],
     "prompt_number": 8
    },
    {
     "cell_type": "code",
     "collapsed": false,
     "input": [
      "# fit model initialized at hddm pnl inits with all parameters free\n",
      "pnl_fits=fitre.fit_reactive_data(data=redata_pnl, inits=pnl_inits, all_params=1, simfx='lc', ntrials = 2000, save_path=\"./repnl_free_\")"
     ],
     "language": "python",
     "metadata": {},
     "outputs": [
      {
       "html": [
        "\n",
        "\t\t\t<div style=\"border: 1px solid black; width:500px\">\n",
        "\t\t\t<div id=\"30c1afd5-d205-4097-a85f-a824672893bc\" style=\"background-color:#009B76; width:0%\">&nbsp;</div>\n",
        "\t\t\t</div> \n",
        "\t\t\t"
       ],
       "metadata": {},
       "output_type": "display_data",
       "text": [
        "<IPython.core.display.HTML at 0x7fe63504eb50>"
       ]
      },
      {
       "javascript": [
        "$('div#30c1afd5-d205-4097-a85f-a824672893bc').width('1.64%')"
       ],
       "metadata": {},
       "output_type": "display_data",
       "text": [
        "<IPython.core.display.Javascript at 0x7fe635082ed0>"
       ]
      },
      {
       "javascript": [
        "$('div#30c1afd5-d205-4097-a85f-a824672893bc').width('3.28%')"
       ],
       "metadata": {},
       "output_type": "display_data",
       "text": [
        "<IPython.core.display.Javascript at 0x7fe635082d10>"
       ]
      },
      {
       "javascript": [
        "$('div#30c1afd5-d205-4097-a85f-a824672893bc').width('4.92%')"
       ],
       "metadata": {},
       "output_type": "display_data",
       "text": [
        "<IPython.core.display.Javascript at 0x7fe660f646d0>"
       ]
      },
      {
       "javascript": [
        "$('div#30c1afd5-d205-4097-a85f-a824672893bc').width('6.56%')"
       ],
       "metadata": {},
       "output_type": "display_data",
       "text": [
        "<IPython.core.display.Javascript at 0x7fe63506b710>"
       ]
      },
      {
       "javascript": [
        "$('div#30c1afd5-d205-4097-a85f-a824672893bc').width('8.20%')"
       ],
       "metadata": {},
       "output_type": "display_data",
       "text": [
        "<IPython.core.display.Javascript at 0x7fe635082210>"
       ]
      },
      {
       "javascript": [
        "$('div#30c1afd5-d205-4097-a85f-a824672893bc').width('9.84%')"
       ],
       "metadata": {},
       "output_type": "display_data",
       "text": [
        "<IPython.core.display.Javascript at 0x7fe635082f10>"
       ]
      },
      {
       "javascript": [
        "$('div#30c1afd5-d205-4097-a85f-a824672893bc').width('11.48%')"
       ],
       "metadata": {},
       "output_type": "display_data",
       "text": [
        "<IPython.core.display.Javascript at 0x7fe63500e150>"
       ]
      },
      {
       "javascript": [
        "$('div#30c1afd5-d205-4097-a85f-a824672893bc').width('13.11%')"
       ],
       "metadata": {},
       "output_type": "display_data",
       "text": [
        "<IPython.core.display.Javascript at 0x7fe63506b850>"
       ]
      },
      {
       "javascript": [
        "$('div#30c1afd5-d205-4097-a85f-a824672893bc').width('14.75%')"
       ],
       "metadata": {},
       "output_type": "display_data",
       "text": [
        "<IPython.core.display.Javascript at 0x7fe635082f10>"
       ]
      },
      {
       "javascript": [
        "$('div#30c1afd5-d205-4097-a85f-a824672893bc').width('16.39%')"
       ],
       "metadata": {},
       "output_type": "display_data",
       "text": [
        "<IPython.core.display.Javascript at 0x7fe6350827d0>"
       ]
      },
      {
       "javascript": [
        "$('div#30c1afd5-d205-4097-a85f-a824672893bc').width('18.03%')"
       ],
       "metadata": {},
       "output_type": "display_data",
       "text": [
        "<IPython.core.display.Javascript at 0x7fe63504e110>"
       ]
      },
      {
       "javascript": [
        "$('div#30c1afd5-d205-4097-a85f-a824672893bc').width('19.67%')"
       ],
       "metadata": {},
       "output_type": "display_data",
       "text": [
        "<IPython.core.display.Javascript at 0x7fe635082590>"
       ]
      },
      {
       "javascript": [
        "$('div#30c1afd5-d205-4097-a85f-a824672893bc').width('21.31%')"
       ],
       "metadata": {},
       "output_type": "display_data",
       "text": [
        "<IPython.core.display.Javascript at 0x7fe635082750>"
       ]
      },
      {
       "javascript": [
        "$('div#30c1afd5-d205-4097-a85f-a824672893bc').width('22.95%')"
       ],
       "metadata": {},
       "output_type": "display_data",
       "text": [
        "<IPython.core.display.Javascript at 0x7fe63500ee10>"
       ]
      },
      {
       "javascript": [
        "$('div#30c1afd5-d205-4097-a85f-a824672893bc').width('24.59%')"
       ],
       "metadata": {},
       "output_type": "display_data",
       "text": [
        "<IPython.core.display.Javascript at 0x7fe63504e610>"
       ]
      },
      {
       "javascript": [
        "$('div#30c1afd5-d205-4097-a85f-a824672893bc').width('26.23%')"
       ],
       "metadata": {},
       "output_type": "display_data",
       "text": [
        "<IPython.core.display.Javascript at 0x7fe635005b50>"
       ]
      },
      {
       "javascript": [
        "$('div#30c1afd5-d205-4097-a85f-a824672893bc').width('27.87%')"
       ],
       "metadata": {},
       "output_type": "display_data",
       "text": [
        "<IPython.core.display.Javascript at 0x7fe63500ee10>"
       ]
      },
      {
       "javascript": [
        "$('div#30c1afd5-d205-4097-a85f-a824672893bc').width('29.51%')"
       ],
       "metadata": {},
       "output_type": "display_data",
       "text": [
        "<IPython.core.display.Javascript at 0x7fe635005fd0>"
       ]
      },
      {
       "javascript": [
        "$('div#30c1afd5-d205-4097-a85f-a824672893bc').width('31.15%')"
       ],
       "metadata": {},
       "output_type": "display_data",
       "text": [
        "<IPython.core.display.Javascript at 0x7fe6350051d0>"
       ]
      },
      {
       "javascript": [
        "$('div#30c1afd5-d205-4097-a85f-a824672893bc').width('32.79%')"
       ],
       "metadata": {},
       "output_type": "display_data",
       "text": [
        "<IPython.core.display.Javascript at 0x7fe635005c90>"
       ]
      },
      {
       "javascript": [
        "$('div#30c1afd5-d205-4097-a85f-a824672893bc').width('34.43%')"
       ],
       "metadata": {},
       "output_type": "display_data",
       "text": [
        "<IPython.core.display.Javascript at 0x7fe635082e90>"
       ]
      },
      {
       "javascript": [
        "$('div#30c1afd5-d205-4097-a85f-a824672893bc').width('36.07%')"
       ],
       "metadata": {},
       "output_type": "display_data",
       "text": [
        "<IPython.core.display.Javascript at 0x7fe635005e90>"
       ]
      },
      {
       "javascript": [
        "$('div#30c1afd5-d205-4097-a85f-a824672893bc').width('37.70%')"
       ],
       "metadata": {},
       "output_type": "display_data",
       "text": [
        "<IPython.core.display.Javascript at 0x7fe635005810>"
       ]
      },
      {
       "javascript": [
        "$('div#30c1afd5-d205-4097-a85f-a824672893bc').width('39.34%')"
       ],
       "metadata": {},
       "output_type": "display_data",
       "text": [
        "<IPython.core.display.Javascript at 0x7fe63500eb50>"
       ]
      },
      {
       "javascript": [
        "$('div#30c1afd5-d205-4097-a85f-a824672893bc').width('40.98%')"
       ],
       "metadata": {},
       "output_type": "display_data",
       "text": [
        "<IPython.core.display.Javascript at 0x7fe634ffca90>"
       ]
      },
      {
       "javascript": [
        "$('div#30c1afd5-d205-4097-a85f-a824672893bc').width('42.62%')"
       ],
       "metadata": {},
       "output_type": "display_data",
       "text": [
        "<IPython.core.display.Javascript at 0x7fe634ffc6d0>"
       ]
      },
      {
       "javascript": [
        "$('div#30c1afd5-d205-4097-a85f-a824672893bc').width('44.26%')"
       ],
       "metadata": {},
       "output_type": "display_data",
       "text": [
        "<IPython.core.display.Javascript at 0x7fe634ffca90>"
       ]
      },
      {
       "javascript": [
        "$('div#30c1afd5-d205-4097-a85f-a824672893bc').width('45.90%')"
       ],
       "metadata": {},
       "output_type": "display_data",
       "text": [
        "<IPython.core.display.Javascript at 0x7fe634ffc4d0>"
       ]
      },
      {
       "javascript": [
        "$('div#30c1afd5-d205-4097-a85f-a824672893bc').width('47.54%')"
       ],
       "metadata": {},
       "output_type": "display_data",
       "text": [
        "<IPython.core.display.Javascript at 0x7fe634ffca10>"
       ]
      },
      {
       "javascript": [
        "$('div#30c1afd5-d205-4097-a85f-a824672893bc').width('49.18%')"
       ],
       "metadata": {},
       "output_type": "display_data",
       "text": [
        "<IPython.core.display.Javascript at 0x7fe634ffcb50>"
       ]
      },
      {
       "javascript": [
        "$('div#30c1afd5-d205-4097-a85f-a824672893bc').width('50.82%')"
       ],
       "metadata": {},
       "output_type": "display_data",
       "text": [
        "<IPython.core.display.Javascript at 0x7fe635005410>"
       ]
      },
      {
       "javascript": [
        "$('div#30c1afd5-d205-4097-a85f-a824672893bc').width('52.46%')"
       ],
       "metadata": {},
       "output_type": "display_data",
       "text": [
        "<IPython.core.display.Javascript at 0x7fe634ffcb90>"
       ]
      },
      {
       "javascript": [
        "$('div#30c1afd5-d205-4097-a85f-a824672893bc').width('54.10%')"
       ],
       "metadata": {},
       "output_type": "display_data",
       "text": [
        "<IPython.core.display.Javascript at 0x7fe634ffcd90>"
       ]
      },
      {
       "javascript": [
        "$('div#30c1afd5-d205-4097-a85f-a824672893bc').width('55.74%')"
       ],
       "metadata": {},
       "output_type": "display_data",
       "text": [
        "<IPython.core.display.Javascript at 0x7fe635082ed0>"
       ]
      },
      {
       "javascript": [
        "$('div#30c1afd5-d205-4097-a85f-a824672893bc').width('57.38%')"
       ],
       "metadata": {},
       "output_type": "display_data",
       "text": [
        "<IPython.core.display.Javascript at 0x7fe634fca290>"
       ]
      },
      {
       "javascript": [
        "$('div#30c1afd5-d205-4097-a85f-a824672893bc').width('59.02%')"
       ],
       "metadata": {},
       "output_type": "display_data",
       "text": [
        "<IPython.core.display.Javascript at 0x7fe634fca510>"
       ]
      },
      {
       "javascript": [
        "$('div#30c1afd5-d205-4097-a85f-a824672893bc').width('60.66%')"
       ],
       "metadata": {},
       "output_type": "display_data",
       "text": [
        "<IPython.core.display.Javascript at 0x7fe634fca290>"
       ]
      },
      {
       "javascript": [
        "$('div#30c1afd5-d205-4097-a85f-a824672893bc').width('62.30%')"
       ],
       "metadata": {},
       "output_type": "display_data",
       "text": [
        "<IPython.core.display.Javascript at 0x7fe634fca610>"
       ]
      },
      {
       "javascript": [
        "$('div#30c1afd5-d205-4097-a85f-a824672893bc').width('63.93%')"
       ],
       "metadata": {},
       "output_type": "display_data",
       "text": [
        "<IPython.core.display.Javascript at 0x7fe634fcae90>"
       ]
      },
      {
       "javascript": [
        "$('div#30c1afd5-d205-4097-a85f-a824672893bc').width('65.57%')"
       ],
       "metadata": {},
       "output_type": "display_data",
       "text": [
        "<IPython.core.display.Javascript at 0x7fe634fca550>"
       ]
      },
      {
       "javascript": [
        "$('div#30c1afd5-d205-4097-a85f-a824672893bc').width('67.21%')"
       ],
       "metadata": {},
       "output_type": "display_data",
       "text": [
        "<IPython.core.display.Javascript at 0x7fe634fcaa50>"
       ]
      },
      {
       "javascript": [
        "$('div#30c1afd5-d205-4097-a85f-a824672893bc').width('68.85%')"
       ],
       "metadata": {},
       "output_type": "display_data",
       "text": [
        "<IPython.core.display.Javascript at 0x7fe634fca710>"
       ]
      },
      {
       "javascript": [
        "$('div#30c1afd5-d205-4097-a85f-a824672893bc').width('70.49%')"
       ],
       "metadata": {},
       "output_type": "display_data",
       "text": [
        "<IPython.core.display.Javascript at 0x7fe634fca690>"
       ]
      },
      {
       "javascript": [
        "$('div#30c1afd5-d205-4097-a85f-a824672893bc').width('72.13%')"
       ],
       "metadata": {},
       "output_type": "display_data",
       "text": [
        "<IPython.core.display.Javascript at 0x7fe634ffc290>"
       ]
      },
      {
       "javascript": [
        "$('div#30c1afd5-d205-4097-a85f-a824672893bc').width('73.77%')"
       ],
       "metadata": {},
       "output_type": "display_data",
       "text": [
        "<IPython.core.display.Javascript at 0x7fe634fca4d0>"
       ]
      },
      {
       "javascript": [
        "$('div#30c1afd5-d205-4097-a85f-a824672893bc').width('75.41%')"
       ],
       "metadata": {},
       "output_type": "display_data",
       "text": [
        "<IPython.core.display.Javascript at 0x7fe634fca190>"
       ]
      },
      {
       "javascript": [
        "$('div#30c1afd5-d205-4097-a85f-a824672893bc').width('77.05%')"
       ],
       "metadata": {},
       "output_type": "display_data",
       "text": [
        "<IPython.core.display.Javascript at 0x7fe635005950>"
       ]
      },
      {
       "javascript": [
        "$('div#30c1afd5-d205-4097-a85f-a824672893bc').width('78.69%')"
       ],
       "metadata": {},
       "output_type": "display_data",
       "text": [
        "<IPython.core.display.Javascript at 0x7fe634fb0a50>"
       ]
      },
      {
       "javascript": [
        "$('div#30c1afd5-d205-4097-a85f-a824672893bc').width('80.33%')"
       ],
       "metadata": {},
       "output_type": "display_data",
       "text": [
        "<IPython.core.display.Javascript at 0x7fe634fb0fd0>"
       ]
      },
      {
       "javascript": [
        "$('div#30c1afd5-d205-4097-a85f-a824672893bc').width('81.97%')"
       ],
       "metadata": {},
       "output_type": "display_data",
       "text": [
        "<IPython.core.display.Javascript at 0x7fe634fb0350>"
       ]
      },
      {
       "javascript": [
        "$('div#30c1afd5-d205-4097-a85f-a824672893bc').width('83.61%')"
       ],
       "metadata": {},
       "output_type": "display_data",
       "text": [
        "<IPython.core.display.Javascript at 0x7fe634fb03d0>"
       ]
      },
      {
       "javascript": [
        "$('div#30c1afd5-d205-4097-a85f-a824672893bc').width('85.25%')"
       ],
       "metadata": {},
       "output_type": "display_data",
       "text": [
        "<IPython.core.display.Javascript at 0x7fe634fb0050>"
       ]
      },
      {
       "javascript": [
        "$('div#30c1afd5-d205-4097-a85f-a824672893bc').width('86.89%')"
       ],
       "metadata": {},
       "output_type": "display_data",
       "text": [
        "<IPython.core.display.Javascript at 0x7fe634fca410>"
       ]
      },
      {
       "javascript": [
        "$('div#30c1afd5-d205-4097-a85f-a824672893bc').width('88.52%')"
       ],
       "metadata": {},
       "output_type": "display_data",
       "text": [
        "<IPython.core.display.Javascript at 0x7fe634fb0250>"
       ]
      },
      {
       "javascript": [
        "$('div#30c1afd5-d205-4097-a85f-a824672893bc').width('90.16%')"
       ],
       "metadata": {},
       "output_type": "display_data",
       "text": [
        "<IPython.core.display.Javascript at 0x7fe634fb0610>"
       ]
      },
      {
       "javascript": [
        "$('div#30c1afd5-d205-4097-a85f-a824672893bc').width('91.80%')"
       ],
       "metadata": {},
       "output_type": "display_data",
       "text": [
        "<IPython.core.display.Javascript at 0x7fe634fcac10>"
       ]
      },
      {
       "javascript": [
        "$('div#30c1afd5-d205-4097-a85f-a824672893bc').width('93.44%')"
       ],
       "metadata": {},
       "output_type": "display_data",
       "text": [
        "<IPython.core.display.Javascript at 0x7fe634ffc410>"
       ]
      },
      {
       "javascript": [
        "$('div#30c1afd5-d205-4097-a85f-a824672893bc').width('95.08%')"
       ],
       "metadata": {},
       "output_type": "display_data",
       "text": [
        "<IPython.core.display.Javascript at 0x7fe6505b8210>"
       ]
      },
      {
       "javascript": [
        "$('div#30c1afd5-d205-4097-a85f-a824672893bc').width('96.72%')"
       ],
       "metadata": {},
       "output_type": "display_data",
       "text": [
        "<IPython.core.display.Javascript at 0x7fe634fb0110>"
       ]
      },
      {
       "javascript": [
        "$('div#30c1afd5-d205-4097-a85f-a824672893bc').width('98.36%')"
       ],
       "metadata": {},
       "output_type": "display_data",
       "text": [
        "<IPython.core.display.Javascript at 0x7fe634fb0d10>"
       ]
      },
      {
       "javascript": [
        "$('div#30c1afd5-d205-4097-a85f-a824672893bc').width('100.00%')"
       ],
       "metadata": {},
       "output_type": "display_data",
       "text": [
        "<IPython.core.display.Javascript at 0x7fe634fb0bd0>"
       ]
      }
     ],
     "prompt_number": 9
    },
    {
     "cell_type": "heading",
     "level": 1,
     "metadata": {},
     "source": [
      "RePNL Onset/Drift Bias Model (TR, V Free; A, Z Fixed) "
     ]
    },
    {
     "cell_type": "code",
     "collapsed": false,
     "input": [
      "if not os.path.isdir(pth+\"FitFiles/Re_AllSx_DriftBiasLC/pnl_tv\"):\n",
      "    os.mkdir(pth+\"FitFiles/Re_AllSx_DriftBiasLC/pnl_tv\")\n",
      "os.chdir(pth+\"FitFiles/Re_AllSx_DriftBiasLC/pnl_tv\")"
     ],
     "language": "python",
     "metadata": {},
     "outputs": [],
     "prompt_number": 10
    },
    {
     "cell_type": "code",
     "collapsed": true,
     "input": [
      "# init each subject at opt bsl values, \n",
      "# pass to init arg as nested dictionary {sx:{a:###, 'v':###, 't': ###, 'z':###}}\n",
      "bsl_popt=pd.read_csv(pth+\"FitFiles/Re_AllSx_DriftBiasLC/bsl/rebsl_v_popt_all.csv\", index_col=0)\n",
      "nested_pnl_inits=bsl_popt.T.to_dict()\n",
      "\n",
      "# fit model holding all parameters constant except for onset time (t)\n",
      "pnl_fits=fitre.fit_reactive_data(data=redata_pnl, inits=nested_pnl_inits, all_params=0, depends=['t','v'], simfx='lc', ntrials=2000, save_path=\"./repnl_tv_\")"
     ],
     "language": "python",
     "metadata": {},
     "outputs": [
      {
       "html": [
        "\n",
        "\t\t\t<div style=\"border: 1px solid black; width:500px\">\n",
        "\t\t\t<div id=\"0f533162-eac8-40ae-b08b-b4d856dc148e\" style=\"background-color:#009B76; width:0%\">&nbsp;</div>\n",
        "\t\t\t</div> \n",
        "\t\t\t"
       ],
       "metadata": {},
       "output_type": "display_data",
       "text": [
        "<IPython.core.display.HTML at 0x7fe634fb7950>"
       ]
      },
      {
       "javascript": [
        "$('div#0f533162-eac8-40ae-b08b-b4d856dc148e').width('1.64%')"
       ],
       "metadata": {},
       "output_type": "display_data",
       "text": [
        "<IPython.core.display.Javascript at 0x7fe634fb7390>"
       ]
      },
      {
       "javascript": [
        "$('div#0f533162-eac8-40ae-b08b-b4d856dc148e').width('3.28%')"
       ],
       "metadata": {},
       "output_type": "display_data",
       "text": [
        "<IPython.core.display.Javascript at 0x7fe634fb7b50>"
       ]
      },
      {
       "javascript": [
        "$('div#0f533162-eac8-40ae-b08b-b4d856dc148e').width('4.92%')"
       ],
       "metadata": {},
       "output_type": "display_data",
       "text": [
        "<IPython.core.display.Javascript at 0x7fe63505b1d0>"
       ]
      },
      {
       "javascript": [
        "$('div#0f533162-eac8-40ae-b08b-b4d856dc148e').width('6.56%')"
       ],
       "metadata": {},
       "output_type": "display_data",
       "text": [
        "<IPython.core.display.Javascript at 0x7fe634fb7250>"
       ]
      },
      {
       "javascript": [
        "$('div#0f533162-eac8-40ae-b08b-b4d856dc148e').width('8.20%')"
       ],
       "metadata": {},
       "output_type": "display_data",
       "text": [
        "<IPython.core.display.Javascript at 0x7fe63505ba10>"
       ]
      },
      {
       "javascript": [
        "$('div#0f533162-eac8-40ae-b08b-b4d856dc148e').width('9.84%')"
       ],
       "metadata": {},
       "output_type": "display_data",
       "text": [
        "<IPython.core.display.Javascript at 0x7fe634fb7350>"
       ]
      },
      {
       "javascript": [
        "$('div#0f533162-eac8-40ae-b08b-b4d856dc148e').width('11.48%')"
       ],
       "metadata": {},
       "output_type": "display_data",
       "text": [
        "<IPython.core.display.Javascript at 0x7fe634fb7610>"
       ]
      },
      {
       "javascript": [
        "$('div#0f533162-eac8-40ae-b08b-b4d856dc148e').width('13.11%')"
       ],
       "metadata": {},
       "output_type": "display_data",
       "text": [
        "<IPython.core.display.Javascript at 0x7fe63506b550>"
       ]
      },
      {
       "javascript": [
        "$('div#0f533162-eac8-40ae-b08b-b4d856dc148e').width('14.75%')"
       ],
       "metadata": {},
       "output_type": "display_data",
       "text": [
        "<IPython.core.display.Javascript at 0x7fe634fb7a90>"
       ]
      },
      {
       "javascript": [
        "$('div#0f533162-eac8-40ae-b08b-b4d856dc148e').width('16.39%')"
       ],
       "metadata": {},
       "output_type": "display_data",
       "text": [
        "<IPython.core.display.Javascript at 0x7fe634fb7110>"
       ]
      },
      {
       "javascript": [
        "$('div#0f533162-eac8-40ae-b08b-b4d856dc148e').width('18.03%')"
       ],
       "metadata": {},
       "output_type": "display_data",
       "text": [
        "<IPython.core.display.Javascript at 0x7fe63505b1d0>"
       ]
      },
      {
       "javascript": [
        "$('div#0f533162-eac8-40ae-b08b-b4d856dc148e').width('19.67%')"
       ],
       "metadata": {},
       "output_type": "display_data",
       "text": [
        "<IPython.core.display.Javascript at 0x7fe634fb7290>"
       ]
      },
      {
       "javascript": [
        "$('div#0f533162-eac8-40ae-b08b-b4d856dc148e').width('21.31%')"
       ],
       "metadata": {},
       "output_type": "display_data",
       "text": [
        "<IPython.core.display.Javascript at 0x7fe63506b810>"
       ]
      },
      {
       "javascript": [
        "$('div#0f533162-eac8-40ae-b08b-b4d856dc148e').width('22.95%')"
       ],
       "metadata": {},
       "output_type": "display_data",
       "text": [
        "<IPython.core.display.Javascript at 0x7fe635082150>"
       ]
      },
      {
       "javascript": [
        "$('div#0f533162-eac8-40ae-b08b-b4d856dc148e').width('24.59%')"
       ],
       "metadata": {},
       "output_type": "display_data",
       "text": [
        "<IPython.core.display.Javascript at 0x7fe635082490>"
       ]
      },
      {
       "javascript": [
        "$('div#0f533162-eac8-40ae-b08b-b4d856dc148e').width('26.23%')"
       ],
       "metadata": {},
       "output_type": "display_data",
       "text": [
        "<IPython.core.display.Javascript at 0x7fe6350824d0>"
       ]
      },
      {
       "javascript": [
        "$('div#0f533162-eac8-40ae-b08b-b4d856dc148e').width('27.87%')"
       ],
       "metadata": {},
       "output_type": "display_data",
       "text": [
        "<IPython.core.display.Javascript at 0x7fe634fb7a90>"
       ]
      },
      {
       "javascript": [
        "$('div#0f533162-eac8-40ae-b08b-b4d856dc148e').width('29.51%')"
       ],
       "metadata": {},
       "output_type": "display_data",
       "text": [
        "<IPython.core.display.Javascript at 0x7fe63506bcd0>"
       ]
      },
      {
       "javascript": [
        "$('div#0f533162-eac8-40ae-b08b-b4d856dc148e').width('31.15%')"
       ],
       "metadata": {},
       "output_type": "display_data",
       "text": [
        "<IPython.core.display.Javascript at 0x7fe635082e10>"
       ]
      },
      {
       "javascript": [
        "$('div#0f533162-eac8-40ae-b08b-b4d856dc148e').width('32.79%')"
       ],
       "metadata": {},
       "output_type": "display_data",
       "text": [
        "<IPython.core.display.Javascript at 0x7fe634fb7810>"
       ]
      },
      {
       "javascript": [
        "$('div#0f533162-eac8-40ae-b08b-b4d856dc148e').width('34.43%')"
       ],
       "metadata": {},
       "output_type": "display_data",
       "text": [
        "<IPython.core.display.Javascript at 0x7fe634fb7a90>"
       ]
      },
      {
       "javascript": [
        "$('div#0f533162-eac8-40ae-b08b-b4d856dc148e').width('36.07%')"
       ],
       "metadata": {},
       "output_type": "display_data",
       "text": [
        "<IPython.core.display.Javascript at 0x7fe635082e10>"
       ]
      },
      {
       "javascript": [
        "$('div#0f533162-eac8-40ae-b08b-b4d856dc148e').width('37.70%')"
       ],
       "metadata": {},
       "output_type": "display_data",
       "text": [
        "<IPython.core.display.Javascript at 0x7fe635082490>"
       ]
      },
      {
       "javascript": [
        "$('div#0f533162-eac8-40ae-b08b-b4d856dc148e').width('39.34%')"
       ],
       "metadata": {},
       "output_type": "display_data",
       "text": [
        "<IPython.core.display.Javascript at 0x7fe635082410>"
       ]
      },
      {
       "javascript": [
        "$('div#0f533162-eac8-40ae-b08b-b4d856dc148e').width('40.98%')"
       ],
       "metadata": {},
       "output_type": "display_data",
       "text": [
        "<IPython.core.display.Javascript at 0x7fe63506b810>"
       ]
      },
      {
       "javascript": [
        "$('div#0f533162-eac8-40ae-b08b-b4d856dc148e').width('42.62%')"
       ],
       "metadata": {},
       "output_type": "display_data",
       "text": [
        "<IPython.core.display.Javascript at 0x7fe6350821d0>"
       ]
      },
      {
       "javascript": [
        "$('div#0f533162-eac8-40ae-b08b-b4d856dc148e').width('44.26%')"
       ],
       "metadata": {},
       "output_type": "display_data",
       "text": [
        "<IPython.core.display.Javascript at 0x7fe635082e10>"
       ]
      },
      {
       "javascript": [
        "$('div#0f533162-eac8-40ae-b08b-b4d856dc148e').width('45.90%')"
       ],
       "metadata": {},
       "output_type": "display_data",
       "text": [
        "<IPython.core.display.Javascript at 0x7fe635082410>"
       ]
      },
      {
       "javascript": [
        "$('div#0f533162-eac8-40ae-b08b-b4d856dc148e').width('47.54%')"
       ],
       "metadata": {},
       "output_type": "display_data",
       "text": [
        "<IPython.core.display.Javascript at 0x7fe634fb7810>"
       ]
      },
      {
       "javascript": [
        "$('div#0f533162-eac8-40ae-b08b-b4d856dc148e').width('49.18%')"
       ],
       "metadata": {},
       "output_type": "display_data",
       "text": [
        "<IPython.core.display.Javascript at 0x7fe635082a50>"
       ]
      },
      {
       "javascript": [
        "$('div#0f533162-eac8-40ae-b08b-b4d856dc148e').width('50.82%')"
       ],
       "metadata": {},
       "output_type": "display_data",
       "text": [
        "<IPython.core.display.Javascript at 0x7fe63504e190>"
       ]
      },
      {
       "javascript": [
        "$('div#0f533162-eac8-40ae-b08b-b4d856dc148e').width('52.46%')"
       ],
       "metadata": {},
       "output_type": "display_data",
       "text": [
        "<IPython.core.display.Javascript at 0x7fe635082e10>"
       ]
      },
      {
       "javascript": [
        "$('div#0f533162-eac8-40ae-b08b-b4d856dc148e').width('54.10%')"
       ],
       "metadata": {},
       "output_type": "display_data",
       "text": [
        "<IPython.core.display.Javascript at 0x7fe635082a50>"
       ]
      },
      {
       "javascript": [
        "$('div#0f533162-eac8-40ae-b08b-b4d856dc148e').width('55.74%')"
       ],
       "metadata": {},
       "output_type": "display_data",
       "text": [
        "<IPython.core.display.Javascript at 0x7fe635082650>"
       ]
      },
      {
       "javascript": [
        "$('div#0f533162-eac8-40ae-b08b-b4d856dc148e').width('57.38%')"
       ],
       "metadata": {},
       "output_type": "display_data",
       "text": [
        "<IPython.core.display.Javascript at 0x7fe63504eb90>"
       ]
      },
      {
       "javascript": [
        "$('div#0f533162-eac8-40ae-b08b-b4d856dc148e').width('59.02%')"
       ],
       "metadata": {},
       "output_type": "display_data",
       "text": [
        "<IPython.core.display.Javascript at 0x7fe63504ee50>"
       ]
      },
      {
       "javascript": [
        "$('div#0f533162-eac8-40ae-b08b-b4d856dc148e').width('60.66%')"
       ],
       "metadata": {},
       "output_type": "display_data",
       "text": [
        "<IPython.core.display.Javascript at 0x7fe63504e0d0>"
       ]
      },
      {
       "javascript": [
        "$('div#0f533162-eac8-40ae-b08b-b4d856dc148e').width('62.30%')"
       ],
       "metadata": {},
       "output_type": "display_data",
       "text": [
        "<IPython.core.display.Javascript at 0x7fe63504eed0>"
       ]
      },
      {
       "javascript": [
        "$('div#0f533162-eac8-40ae-b08b-b4d856dc148e').width('63.93%')"
       ],
       "metadata": {},
       "output_type": "display_data",
       "text": [
        "<IPython.core.display.Javascript at 0x7fe63504ee50>"
       ]
      },
      {
       "javascript": [
        "$('div#0f533162-eac8-40ae-b08b-b4d856dc148e').width('65.57%')"
       ],
       "metadata": {},
       "output_type": "display_data",
       "text": [
        "<IPython.core.display.Javascript at 0x7fe635082410>"
       ]
      },
      {
       "javascript": [
        "$('div#0f533162-eac8-40ae-b08b-b4d856dc148e').width('67.21%')"
       ],
       "metadata": {},
       "output_type": "display_data",
       "text": [
        "<IPython.core.display.Javascript at 0x7fe63504e0d0>"
       ]
      },
      {
       "javascript": [
        "$('div#0f533162-eac8-40ae-b08b-b4d856dc148e').width('68.85%')"
       ],
       "metadata": {},
       "output_type": "display_data",
       "text": [
        "<IPython.core.display.Javascript at 0x7fe63500ea50>"
       ]
      },
      {
       "javascript": [
        "$('div#0f533162-eac8-40ae-b08b-b4d856dc148e').width('70.49%')"
       ],
       "metadata": {},
       "output_type": "display_data",
       "text": [
        "<IPython.core.display.Javascript at 0x7fe63504e890>"
       ]
      },
      {
       "javascript": [
        "$('div#0f533162-eac8-40ae-b08b-b4d856dc148e').width('72.13%')"
       ],
       "metadata": {},
       "output_type": "display_data",
       "text": [
        "<IPython.core.display.Javascript at 0x7fe63500e510>"
       ]
      },
      {
       "javascript": [
        "$('div#0f533162-eac8-40ae-b08b-b4d856dc148e').width('73.77%')"
       ],
       "metadata": {},
       "output_type": "display_data",
       "text": [
        "<IPython.core.display.Javascript at 0x7fe63504eed0>"
       ]
      },
      {
       "javascript": [
        "$('div#0f533162-eac8-40ae-b08b-b4d856dc148e').width('75.41%')"
       ],
       "metadata": {},
       "output_type": "display_data",
       "text": [
        "<IPython.core.display.Javascript at 0x7fe63500e510>"
       ]
      },
      {
       "javascript": [
        "$('div#0f533162-eac8-40ae-b08b-b4d856dc148e').width('77.05%')"
       ],
       "metadata": {},
       "output_type": "display_data",
       "text": [
        "<IPython.core.display.Javascript at 0x7fe63500e8d0>"
       ]
      },
      {
       "javascript": [
        "$('div#0f533162-eac8-40ae-b08b-b4d856dc148e').width('78.69%')"
       ],
       "metadata": {},
       "output_type": "display_data",
       "text": [
        "<IPython.core.display.Javascript at 0x7fe635082650>"
       ]
      },
      {
       "javascript": [
        "$('div#0f533162-eac8-40ae-b08b-b4d856dc148e').width('80.33%')"
       ],
       "metadata": {},
       "output_type": "display_data",
       "text": [
        "<IPython.core.display.Javascript at 0x7fe63500e210>"
       ]
      },
      {
       "javascript": [
        "$('div#0f533162-eac8-40ae-b08b-b4d856dc148e').width('81.97%')"
       ],
       "metadata": {},
       "output_type": "display_data",
       "text": [
        "<IPython.core.display.Javascript at 0x7fe635005ed0>"
       ]
      },
      {
       "javascript": [
        "$('div#0f533162-eac8-40ae-b08b-b4d856dc148e').width('83.61%')"
       ],
       "metadata": {},
       "output_type": "display_data",
       "text": [
        "<IPython.core.display.Javascript at 0x7fe660f64650>"
       ]
      },
      {
       "javascript": [
        "$('div#0f533162-eac8-40ae-b08b-b4d856dc148e').width('85.25%')"
       ],
       "metadata": {},
       "output_type": "display_data",
       "text": [
        "<IPython.core.display.Javascript at 0x7fe635005190>"
       ]
      },
      {
       "javascript": [
        "$('div#0f533162-eac8-40ae-b08b-b4d856dc148e').width('86.89%')"
       ],
       "metadata": {},
       "output_type": "display_data",
       "text": [
        "<IPython.core.display.Javascript at 0x7fe634ffc810>"
       ]
      },
      {
       "javascript": [
        "$('div#0f533162-eac8-40ae-b08b-b4d856dc148e').width('88.52%')"
       ],
       "metadata": {},
       "output_type": "display_data",
       "text": [
        "<IPython.core.display.Javascript at 0x7fe660f648d0>"
       ]
      },
      {
       "javascript": [
        "$('div#0f533162-eac8-40ae-b08b-b4d856dc148e').width('90.16%')"
       ],
       "metadata": {},
       "output_type": "display_data",
       "text": [
        "<IPython.core.display.Javascript at 0x7fe634ffcb10>"
       ]
      },
      {
       "javascript": [
        "$('div#0f533162-eac8-40ae-b08b-b4d856dc148e').width('91.80%')"
       ],
       "metadata": {},
       "output_type": "display_data",
       "text": [
        "<IPython.core.display.Javascript at 0x7fe634ffc910>"
       ]
      },
      {
       "javascript": [
        "$('div#0f533162-eac8-40ae-b08b-b4d856dc148e').width('93.44%')"
       ],
       "metadata": {},
       "output_type": "display_data",
       "text": [
        "<IPython.core.display.Javascript at 0x7fe634ffc8d0>"
       ]
      },
      {
       "javascript": [
        "$('div#0f533162-eac8-40ae-b08b-b4d856dc148e').width('95.08%')"
       ],
       "metadata": {},
       "output_type": "display_data",
       "text": [
        "<IPython.core.display.Javascript at 0x7fe634ffc150>"
       ]
      },
      {
       "javascript": [
        "$('div#0f533162-eac8-40ae-b08b-b4d856dc148e').width('96.72%')"
       ],
       "metadata": {},
       "output_type": "display_data",
       "text": [
        "<IPython.core.display.Javascript at 0x7fe63500e210>"
       ]
      },
      {
       "javascript": [
        "$('div#0f533162-eac8-40ae-b08b-b4d856dc148e').width('98.36%')"
       ],
       "metadata": {},
       "output_type": "display_data",
       "text": [
        "<IPython.core.display.Javascript at 0x7fe63504eed0>"
       ]
      },
      {
       "javascript": [
        "$('div#0f533162-eac8-40ae-b08b-b4d856dc148e').width('100.00%')"
       ],
       "metadata": {},
       "output_type": "display_data",
       "text": [
        "<IPython.core.display.Javascript at 0x7fe634ffcfd0>"
       ]
      }
     ],
     "prompt_number": 11
    },
    {
     "cell_type": "heading",
     "level": 1,
     "metadata": {},
     "source": [
      "Reactive Sx-Fitted Parameters (BSL)"
     ]
    },
    {
     "cell_type": "code",
     "collapsed": false,
     "input": [
      "# optimized parameters fit to flat group data using RaDD \n",
      "# passed to sx fitting function as initial params for each sx\n",
      "inits={'a': 0.43155063058963727, 'ssv': -0.96986662065537221, \n",
      "         't': 0.30656375144494813, 'v': 1.0366001760617101, 'z': 0.16611261860323445}\n",
      "\n",
      "#ReBSL Avg of Individual Sx Optimized RADD Parameters\n",
      "inits_opt={'a':0.4380473426, 'ssv':-0.9784438748, 't':0.3063577618, 'z':0.1664076139,'v': 1.0515686029}"
     ],
     "language": "python",
     "metadata": {},
     "outputs": []
    },
    {
     "cell_type": "code",
     "collapsed": false,
     "input": [
      "#ReBSL Avg of Individual Sx Optimized RADD Parameters\n",
      "opt={'a':0.4380473426, 'ssv':-0.9784438748, 't':0.3063577618, 'z':0.1664076139,'v': 1.0515686029}\n",
      "bsl_test=redata_bsl[redata_bsl['idx'].isin([28,29,30])]\n",
      "\n",
      "#testing out sx fitting routing with lcfit.radd for first time\n",
      "fitdf=fitre.fit_reactive_data(bsl_test, inits=opt, simfx='lc', ntrials=2000, ftol=1.e-2, xtol=1.e-2)"
     ],
     "language": "python",
     "metadata": {},
     "outputs": [],
     "prompt_number": 15
    },
    {
     "cell_type": "heading",
     "level": 1,
     "metadata": {},
     "source": [
      "Reactive Empirical Data "
     ]
    },
    {
     "cell_type": "code",
     "collapsed": false,
     "input": [
      "#Reactive Emprical Data for BSL, PNL Conditions\n",
      "reSC=[np.array([ 0.99482759,  0.98362069,  0.89913793,  0.5137931 ,  0.09913793]),np.array([ 0.99310345,  0.98534483,  0.92672414,  0.6       ,  0.17758621])]\n",
      "reSC_err=[np.array([ 0.00463002,  0.01061342,  0.02947119,  0.06475839,  0.0300568 ]), np.array([ 0.00657836,  0.00902168,  0.0244885 ,  0.05038838,  0.03991182])]\n",
      "\n",
      "reRT=[560.06155060636706, 566.04816069768106]\n",
      "reRT_err=[5.0285142629924566, 4.1756849148121304]"
     ],
     "language": "python",
     "metadata": {},
     "outputs": []
    }
   ],
   "metadata": {}
  }
 ]
}