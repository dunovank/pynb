{
 "metadata": {
  "name": "",
  "signature": "sha256:7989da06c6ddba1d854d2ad6bd4e9ecdf3fbc4371b79546b4278be270ada7d12"
 },
 "nbformat": 3,
 "nbformat_minor": 0,
 "worksheets": [
  {
   "cells": [
    {
     "cell_type": "code",
     "collapsed": false,
     "input": [
      "import radd\n",
      "from radd import utils, vis, pbold, final\n",
      "import scipy.stats as stats\n",
      "csv=pd.read_csv\n",
      "from scipy.stats import ttest_rel\n",
      "out=\"/Users/kyle/Desktop/\""
     ],
     "language": "python",
     "metadata": {},
     "outputs": [],
     "prompt_number": 203
    },
    {
     "cell_type": "heading",
     "level": 1,
     "metadata": {},
     "source": [
      "Load Idx Data"
     ]
    },
    {
     "cell_type": "code",
     "collapsed": false,
     "input": [
      "sns.palplot(purples)"
     ],
     "language": "python",
     "metadata": {},
     "outputs": [
      {
       "metadata": {},
       "output_type": "display_data",
       "png": "[encoded data removed]",
       "text": [
        "<matplotlib.figure.Figure at 0x11085bdd0>"
       ]
      }
     ],
     "prompt_number": 145
    },
    {
     "cell_type": "code",
     "collapsed": false,
     "input": [
      "bx_chi_path=\"/Users/kyle/Dropbox/SS_Backups/SS/QuickAccess/Boot_Chi/\"\n",
      "idx_chi_path=\"/Users/kyle/Dropbox/SS_Backups/SS/QuickAccess/Idx_Chi/\"\n",
      "colors=['#1abd80', purples[-2]]"
     ],
     "language": "python",
     "metadata": {},
     "outputs": [],
     "prompt_number": 8
    },
    {
     "cell_type": "code",
     "collapsed": false,
     "input": [
      "os.chdir(bx_chi_path)\n",
      "raddchi=csv(\"bsl_rwr_fitinfo_radd.csv\", index_col=0).chi.unique()\n",
      "onsetchi=csv(\"bsl_rwr_fitinfo_onset.csv\", index_col=0).chi.unique()\n",
      "pnlchi=csv(\"pnl_rwr_fitinfo_radd.csv\", index_col=0).chi.unique()\n",
      "pnlonset=csv(\"pnl_rwr_fitinfo_onset.csv\", index_col=0).chi.unique()\n",
      "\n",
      "chi_means=[raddchi.mean(), pnlchi.mean(), onsetchi.mean(), pnlonset.mean()]\n",
      "chi_ci=[stats.sem(raddchi)*1.96, stats.sem(pnlchi)*1.96, stats.sem(onsetchi)*1.96, stats.sem(pnlonset)*1.96]\n",
      "#chi_dists=[raddchi, pnlchi, onsetchi, pnlonset]\n",
      "chi_dists=[raddchi, onsetchi]"
     ],
     "language": "python",
     "metadata": {},
     "outputs": [],
     "prompt_number": 75
    },
    {
     "cell_type": "code",
     "collapsed": false,
     "input": [
      "plot_chi_dist(chi_dists)"
     ],
     "language": "python",
     "metadata": {},
     "outputs": [
      {
       "metadata": {},
       "output_type": "pyout",
       "prompt_number": 76,
       "text": [
        "<matplotlib.axes._subplots.AxesSubplot at 0x10d73cfd0>"
       ]
      },
      {
       "metadata": {},
       "output_type": "display_data",
       "png": "[encoded data removed]",
       "text": [
        "<matplotlib.figure.Figure at 0x10d777910>"
       ]
      }
     ],
     "prompt_number": 76
    },
    {
     "cell_type": "code",
     "collapsed": false,
     "input": [
      "plot_chi_bar(chi_means, chi_ci, ylim=[0,.01], labels=['Baseline\\nDrift', 'Difficult\\nDrift', 'Baseline\\nOnset', 'Difficult\\nOnset'])"
     ],
     "language": "python",
     "metadata": {},
     "outputs": [
      {
       "metadata": {},
       "output_type": "pyout",
       "prompt_number": 83,
       "text": [
        "<matplotlib.axes._subplots.AxesSubplot at 0x10e9b5610>"
       ]
      },
      {
       "metadata": {},
       "output_type": "display_data",
       "png": "[encoded data removed]",
       "text": [
        "<matplotlib.figure.Figure at 0x10e9b6910>"
       ]
      }
     ],
     "prompt_number": 83
    },
    {
     "cell_type": "code",
     "collapsed": false,
     "input": [
      "os.chdir(idx_chis_path)\n",
      "bslradd=csv(\"bsl_allsx_fits_radd.csv\", index_col=0).chi.unique()\n",
      "pnlradd=csv(\"pnl_allsx_fits_radd.csv\", index_col=0).chi.unique()\n",
      "bslonset=csv(\"bsl_allsx_fits_onset.csv\", index_col=0).chi.unique()\n",
      "pnlonset=csv(\"pnl_allsx_fits_onset.csv\", index_col=0).chi.unique()\n",
      "\n",
      "dflist = [bslradd, bslonset, pnlradd, pnlonset]\n",
      "chi_means=[df.mean() for df in dflist] \n",
      "chi_ci=[stats.sem(df)*1.96 for df in dflist] \n",
      "#chi_ci=[stats.sem(raddchi)*1.96, stats.sem(onsetchi)*1.96]\n",
      "chi_dists=[bslradd, bslonset, pnlradd, pnlonset]"
     ],
     "language": "python",
     "metadata": {},
     "outputs": [],
     "prompt_number": 138
    },
    {
     "cell_type": "code",
     "collapsed": false,
     "input": [
      "dfbsl = [bslradd, bslonset]\n",
      "dfpnl = [pnlradd, pnlonset]\n",
      "\n",
      "chi_bsl=[df.mean() for df in dfbsl] \n",
      "chi_pnl=[df.mean() for df in dfpnl] \n",
      "\n",
      "bsl_ci=[stats.sem(df)*1.96 for df in dfbsl]\n",
      "pnl_ci=[stats.sem(df)*1.96 for df in dfbsl]\n",
      "\n",
      "bsl_dists=[bslradd, bslonset]\n",
      "pnl_dists=[pnlradd, pnlonset]\n",
      "\n",
      "c=[greens[1], purples[1]]\n",
      "cdist=['#1abd80', purples[-2]]\n",
      "lbsl=['Baseline\\nDrift', 'Baseline\\nOnset']\n",
      "lpnl=['Difficult\\nDrift', 'Difficult\\nOnset']"
     ],
     "language": "python",
     "metadata": {},
     "outputs": [],
     "prompt_number": 204
    },
    {
     "cell_type": "code",
     "collapsed": false,
     "input": [
      "bsl_ax=plot_chi_dist(bsl_dists, colors=cdist, kde=False, norm=True, labels=['Drift', 'Onset'])\n",
      "#xx=[0,.3]\n",
      "#bsl_ax.set_xlim(xx[0], xx[1])\n",
      "#bsl_ax.set_xticks(xx)\n",
      "#bsl_ax.set_xticklabels(xx, fontsize=20)\n",
      "#plt.savefig(out+'bsl_drift_onset_IDXchi_kde_labels.png', format='png', dpi=600)\n",
      "plt.savefig(out+'bsl_drift_onset_IDXchi_hist.svg', format='svg', dpi=600)"
     ],
     "language": "python",
     "metadata": {},
     "outputs": [
      {
       "metadata": {},
       "output_type": "display_data",
       "png": "[encoded data removed]",
       "text": [
        "<matplotlib.figure.Figure at 0x11bd57410>"
       ]
      }
     ],
     "prompt_number": 266
    },
    {
     "cell_type": "code",
     "collapsed": false,
     "input": [
      "pnl_ax=plot_chi_dist(pnl_dists, colors=cdist, labels=[], kde=False, norm=True)\n",
      "xx=[0,.3]\n",
      "pnl_ax.set_xlim(xx[0], xx[1])\n",
      "pnl_ax.set_xticks(xx)\n",
      "pnl_ax.set_xticklabels(xx, fontsize=22)\n",
      "#plt.savefig(out+'pnl_drift_onset_IDXchi_kde.png', format='png', dpi=600)\n",
      "plt.savefig(out+'pnl_drift_onset_IDXchi_hist.svg', format='svg', dpi=600)"
     ],
     "language": "python",
     "metadata": {},
     "outputs": [
      {
       "metadata": {},
       "output_type": "display_data",
       "png": "[encoded data removed]",
       "text": [
        "<matplotlib.figure.Figure at 0x11bc37890>"
       ]
      }
     ],
     "prompt_number": 265
    },
    {
     "cell_type": "code",
     "collapsed": false,
     "input": [
      "c=[greens[1], purples[1]]*2\n",
      "l=['Baseline\\nDrift', 'Baseline\\nOnset', 'Difficult\\nDrift', 'Difficult\\nOnset']\n",
      "\n",
      "dflist = [bslradd, bslonset, pnlradd, pnlonset]\n",
      "chi_means=[df.mean() for df in dflist] \n",
      "chi_ci=[stats.sem(df)*1.96 for df in dflist] \n",
      "chi_dists=[bslradd, bslonset, pnlradd, pnlonset]\n",
      "\n",
      "plot_chi_bar(chi_means, chi_ci, ylim=[0, .05], labels=l, colors=c) \n",
      "plt.savefig(out+\"re_drift_onset_IDXchi_BAR.png\", format='png', dpi=600)\n",
      "plt.savefig(out+\"re_drift_onset_IDXchi_BAR.svg\", format='svg', dpi=600)"
     ],
     "language": "python",
     "metadata": {},
     "outputs": [
      {
       "metadata": {},
       "output_type": "display_data",
       "png": "[encoded data removed]",
       "text": [
        "<matplotlib.figure.Figure at 0x11678cdd0>"
       ]
      }
     ],
     "prompt_number": 253
    },
    {
     "cell_type": "heading",
     "level": 1,
     "metadata": {},
     "source": [
      "Functions"
     ]
    },
    {
     "cell_type": "code",
     "collapsed": false,
     "input": [
      "def plot_chi_dist(chi, bins=15, labels=['Drift', 'Onset'], rug=False, norm=False, colors=['#1abd80', 'Purple'], hist=True, kde=False, hist_kws=None, kde_kws=None):\n",
      "\n",
      "    f,ax=plt.subplots(1, figsize=(4.5, 4.5))\n",
      "    if kde==True:\n",
      "        kde_kws={'shade':True, 'alpha':.6}\n",
      "        hist=False\n",
      "    if hist:\n",
      "        hist_kws={'alpha':.8}\n",
      "    if labels==[]:\n",
      "        labels=[None, None]\n",
      "        \n",
      "        \n",
      "    for i, ichi in enumerate(chi):\n",
      "        ax=sns.distplot(ichi, bins=bins, rug=rug, color=colors[i], label=labels[i], kde=kde, hist=hist, \n",
      "                        ax=ax, hist_kws=hist_kws, kde_kws=kde_kws, norm_hist=norm)\n",
      "    if labels[0]:\n",
      "        ax.legend(fontsize=20)\n",
      "\n",
      "    \n",
      "    ax.set_xlabel('$\\chi^2$', fontsize=28)\n",
      "    ylim=[0, int(ax.get_yticks()[-1])]\n",
      "    xlim=[0, ax.get_xticks()[-1]]\n",
      "    plt.setp(ax, xlim=xlim, xticks=xlim, ylim=ylim, yticks=ylim)\n",
      "    \n",
      "    if norm:\n",
      "        ytl=[0,1]\n",
      "        yl='Probability'\n",
      "    else:\n",
      "        ytl=ylim\n",
      "        yl='Count'\n",
      "    \n",
      "    ax.set_ylabel(yl, fontsize=24)\n",
      "    ax.set_yticklabels(ytl, fontsize=22)\n",
      "    ax.set_xticklabels(xlim, fontsize=22)\n",
      "\n",
      "    plt.tight_layout()\n",
      "    \n",
      "    sns.despine()\n",
      "    \n",
      "    return ax"
     ],
     "language": "python",
     "metadata": {},
     "outputs": [],
     "prompt_number": 264
    },
    {
     "cell_type": "code",
     "collapsed": false,
     "input": [
      "def plot_chi_bar(means, ci, ylim=[], labels=['Drift', 'Onset'], colors=['#1abd80', 'Purple']):\n",
      "    \n",
      "    f, ax=plt.subplots(1, figsize=(7,5))\n",
      "    x=np.arange(len(means))\n",
      "    for i, m in enumerate(means):\n",
      "        ax.bar(x[i], m, yerr=ci[i], width=.5, align='center', color=colors[i], \n",
      "           error_kw=dict(elinewidth=3, ecolor='k'))\n",
      "\n",
      "    if ylim==[]:\n",
      "            ymax=np.array(means).max() + np.array(ci).max()\n",
      "            ylim=[0, ymax]\n",
      "    \n",
      "\n",
      "    ax.set_xlim(x[0]-.6, x[-1]+.4)\n",
      "    ax.set_ylim(ylim[0], ylim[1])\n",
      "    ax.set_yticks(ylim)\n",
      "    ax.set_yticklabels(ylim, fontsize=22)\n",
      "    xt=ax.set_xticks(x)\n",
      "    ax.set_xticklabels(labels, fontsize=22)\n",
      "    ax.set_ylabel('$\\chi^2$', fontsize=28)\n",
      "    sns.despine()\n",
      "    \n",
      "    return ax"
     ],
     "language": "python",
     "metadata": {},
     "outputs": [],
     "prompt_number": 134
    },
    {
     "cell_type": "code",
     "collapsed": false,
     "input": [],
     "language": "python",
     "metadata": {},
     "outputs": []
    }
   ],
   "metadata": {}
  }
 ]
}