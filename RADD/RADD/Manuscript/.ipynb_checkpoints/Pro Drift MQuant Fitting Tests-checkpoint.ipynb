{
 "metadata": {
  "name": "",
  "signature": "sha256:adeb143c4e1b6ff55881aaded5cfe59f9f9d874f1bc28de553b506acc891cc06"
 },
 "nbformat": 3,
 "nbformat_minor": 0,
 "worksheets": [
  {
   "cells": [
    {
     "cell_type": "code",
     "collapsed": false,
     "input": [
      "from radd import final, vis, fitpro, utils, npsim, proboot\n",
      "from scipy.stats.mstats import mquantiles\n",
      "from lmfit import Parameters, Minimizer\n",
      "from collections import OrderedDict\n",
      "from scipy.stats import sem"
     ],
     "language": "python",
     "metadata": {},
     "outputs": [],
     "prompt_number": 296
    },
    {
     "cell_type": "code",
     "collapsed": false,
     "input": [
      "proboot.Proboot(pro, inits, rtfunc='mquant', filt_rts=True, niter=20)"
     ],
     "language": "python",
     "metadata": {},
     "outputs": []
    },
    {
     "cell_type": "code",
     "collapsed": false,
     "input": [
      "opt=pd.read_csv(\"/Users/kyle/Dropbox/SS_Backups/SS/Proactive/Boot/ProBootDriftF/flat_opt_theta.csv\", header=None, names=['mean'], index_col=0)\n",
      "\n",
      "opt.drop(['v(Hi)', 'v(Lo)', 'v'], inplace=True)\n",
      "inits=opt.to_dict()['mean']\n",
      "init_list=[inits[dep + str(pg_i)] for pg_i in pgo]\n",
      "#inits['si']=.01"
     ],
     "language": "python",
     "metadata": {},
     "outputs": [],
     "prompt_number": 262
    },
    {
     "cell_type": "code",
     "collapsed": false,
     "input": [
      "depends_on={'v':'pGo'}; ntrials=5000; nx=0; simfx='vector'; maxfun=500\n",
      "simfx='vector'; filt_rts=True; disp=True; ftol=1e-3; xtol=1e-3; \n",
      "pgo=[0,20,40,60,80,100]; quantp=[.1,.3,.5,.7,.9]; rts_i=[]; ps_i=[]; pnames=['a', 't', 'z', 'v', 'ssv', 'ssd', 'pGo']\n",
      "dep=pnames.pop(pnames.index(depends_on.keys()[0]))"
     ],
     "language": "python",
     "metadata": {},
     "outputs": [],
     "prompt_number": 292
    },
    {
     "cell_type": "code",
     "collapsed": false,
     "input": [
      "fit_results=pd.DataFrame(columns=['n','pGo', dep, 'psdata', 'psradd', 'rtdata', 'rtradd', 'chi', 'redchi'], index=pgo)\n",
      "#if 'si' in inits.keys():\n",
      "#    fit_results['si']=[np.nan]*len(pgo)"
     ],
     "language": "python",
     "metadata": {},
     "outputs": [],
     "prompt_number": 293
    },
    {
     "cell_type": "code",
     "collapsed": false,
     "input": [
      "pro=final.all_data('pro')\n",
      "#pstop, rt = pstop_quants(pro, filt_rts=filt_rts)\n",
      "pstop, rt = pstop_mquant(pro, filt_rts=filt_rts)\n",
      "rtfunc='mquant'"
     ],
     "language": "python",
     "metadata": {},
     "outputs": [],
     "prompt_number": 294
    },
    {
     "cell_type": "code",
     "collapsed": false,
     "input": [
      "fit_results=pd.DataFrame(columns=['n','pGo', dep, 'psdata', 'psradd', 'rtdata', 'rtradd', 'chi', 'redchi'], index=pgo)\n",
      "for i, pg in enumerate(pgo):\n",
      "\n",
      "    inits['pGo']=pg*.01\n",
      "    dep_init = init_list[i]\n",
      "    if rtfunc=='quants':\n",
      "        y=np.append(pstop[i], rt[i])\n",
      "    else:\n",
      "        y=np.array([pstop[i], rt[i]])\n",
      "\n",
      "    p=Parameters()\n",
      "    for param in pnames:\n",
      "        p.add(param, value=inits[param], vary=0)\n",
      "    p.add(dep, value=dep_init, min=0.0, vary=1)\n",
      "\n",
      "    popt = Minimizer(sspro_minfunc, p, fcn_args=(y, ntrials), fcn_kws={'simfx':simfx, 'rtfunc':rtfunc, 'filt_rts':filt_rts}, method='Nelder-Mead')\n",
      "    popt.fmin(maxfun=maxfun, ftol=ftol, xtol=xtol, full_output=True, disp=disp)\n",
      "    \n",
      "    if rtfunc==\"quants\":\n",
      "        rtsim=(y[1:]+popt.residual[1:])/10\n",
      "        rtdata=y[1:]/10\n",
      "    else:\n",
      "        rtsim=(y[1]+popt.residual[1])/10\n",
      "        rtdata=y[1]/10\n",
      "    \n",
      "    psim=y[0]+popt.residual[0]\n",
      "    psdata=y[0]\n",
      "\n",
      "    x2=popt.chisqr\n",
      "    redx2=popt.redchi\n",
      "\n",
      "    fit_results.loc[pg,:]=pd.Series(OrderedDict([('n',int(nx)),('pGo',int(pg)),\n",
      "        (dep,p[dep].value), ('psdata',psdata), ('psradd',psim), ('rtdata',rtdata),\n",
      "        ('rtradd',rtsim), ('chi',x2), ('redchi',redx2)]))\n",
      "\n",
      "    rts_i.append(rtsim); ps_i.append(psim)"
     ],
     "language": "python",
     "metadata": {},
     "outputs": [
      {
       "output_type": "stream",
       "stream": "stdout",
       "text": [
        "Optimization terminated successfully.\n",
        "         Current function value: 0.000001\n",
        "         Iterations: 9\n",
        "         Function evaluations: 18\n",
        "Optimization terminated successfully."
       ]
      },
      {
       "output_type": "stream",
       "stream": "stdout",
       "text": [
        "\n",
        "         Current function value: 0.001407\n",
        "         Iterations: 10\n",
        "         Function evaluations: 22\n",
        "Optimization terminated successfully."
       ]
      },
      {
       "output_type": "stream",
       "stream": "stdout",
       "text": [
        "\n",
        "         Current function value: 0.008374\n",
        "         Iterations: 9\n",
        "         Function evaluations: 19\n",
        "Optimization terminated successfully."
       ]
      },
      {
       "output_type": "stream",
       "stream": "stdout",
       "text": [
        "\n",
        "         Current function value: 0.016696\n",
        "         Iterations: 11\n",
        "         Function evaluations: 24\n",
        "Optimization terminated successfully."
       ]
      },
      {
       "output_type": "stream",
       "stream": "stdout",
       "text": [
        "\n",
        "         Current function value: 0.011138\n",
        "         Iterations: 11\n",
        "         Function evaluations: 26\n",
        "Optimization terminated successfully."
       ]
      },
      {
       "output_type": "stream",
       "stream": "stdout",
       "text": [
        "\n",
        "         Current function value: 0.016434\n",
        "         Iterations: 10\n",
        "         Function evaluations: 24\n"
       ]
      }
     ],
     "prompt_number": 295
    },
    {
     "cell_type": "code",
     "collapsed": false,
     "input": [
      "fit_results"
     ],
     "language": "python",
     "metadata": {},
     "outputs": [
      {
       "html": [
        "<div style=\"max-height:1000px;max-width:1500px;overflow:auto;\">\n",
        "<table border=\"1\" class=\"dataframe\">\n",
        "  <thead>\n",
        "    <tr style=\"text-align: right;\">\n",
        "      <th></th>\n",
        "      <th>n</th>\n",
        "      <th>pGo</th>\n",
        "      <th>v</th>\n",
        "      <th>psdata</th>\n",
        "      <th>psradd</th>\n",
        "      <th>rtdata</th>\n",
        "      <th>rtradd</th>\n",
        "      <th>chi</th>\n",
        "      <th>redchi</th>\n",
        "    </tr>\n",
        "  </thead>\n",
        "  <tbody>\n",
        "    <tr>\n",
        "      <th>0  </th>\n",
        "      <td> 0</td>\n",
        "      <td>   0</td>\n",
        "      <td> 1.38164</td>\n",
        "      <td>   0.928484</td>\n",
        "      <td>  0.928214</td>\n",
        "      <td> 0.516132</td>\n",
        "      <td> 0.516133</td>\n",
        "      <td> 7.25953e-08</td>\n",
        "      <td> 7.25953e-08</td>\n",
        "    </tr>\n",
        "    <tr>\n",
        "      <th>20 </th>\n",
        "      <td> 0</td>\n",
        "      <td>  20</td>\n",
        "      <td> 1.52416</td>\n",
        "      <td>   0.755328</td>\n",
        "      <td>   0.74785</td>\n",
        "      <td>  0.53704</td>\n",
        "      <td> 0.543537</td>\n",
        "      <td>  0.00427636</td>\n",
        "      <td>  0.00427636</td>\n",
        "    </tr>\n",
        "    <tr>\n",
        "      <th>40 </th>\n",
        "      <td> 0</td>\n",
        "      <td>  40</td>\n",
        "      <td> 1.65518</td>\n",
        "      <td>   0.478074</td>\n",
        "      <td>  0.467107</td>\n",
        "      <td>  0.53705</td>\n",
        "      <td> 0.537937</td>\n",
        "      <td> 0.000198885</td>\n",
        "      <td> 0.000198885</td>\n",
        "    </tr>\n",
        "    <tr>\n",
        "      <th>60 </th>\n",
        "      <td> 0</td>\n",
        "      <td>  60</td>\n",
        "      <td> 1.75702</td>\n",
        "      <td>   0.240369</td>\n",
        "      <td>  0.263147</td>\n",
        "      <td> 0.534385</td>\n",
        "      <td> 0.531337</td>\n",
        "      <td>  0.00144817</td>\n",
        "      <td>  0.00144817</td>\n",
        "    </tr>\n",
        "    <tr>\n",
        "      <th>80 </th>\n",
        "      <td> 0</td>\n",
        "      <td>  80</td>\n",
        "      <td> 1.90131</td>\n",
        "      <td>  0.0352459</td>\n",
        "      <td>  0.069786</td>\n",
        "      <td>  0.52111</td>\n",
        "      <td> 0.519137</td>\n",
        "      <td>  0.00158257</td>\n",
        "      <td>  0.00158257</td>\n",
        "    </tr>\n",
        "    <tr>\n",
        "      <th>100</th>\n",
        "      <td> 0</td>\n",
        "      <td> 100</td>\n",
        "      <td>  1.9249</td>\n",
        "      <td> 0.00488927</td>\n",
        "      <td> 0.0453909</td>\n",
        "      <td> 0.518165</td>\n",
        "      <td> 0.516737</td>\n",
        "      <td>  0.00184444</td>\n",
        "      <td>  0.00184444</td>\n",
        "    </tr>\n",
        "  </tbody>\n",
        "</table>\n",
        "</div>"
       ],
       "metadata": {},
       "output_type": "pyout",
       "prompt_number": 267,
       "text": [
        "     n  pGo        v      psdata     psradd    rtdata    rtradd          chi  \\\n",
        "0    0    0  1.38164    0.928484   0.928214  0.516132  0.516133  7.25953e-08   \n",
        "20   0   20  1.52416    0.755328    0.74785   0.53704  0.543537   0.00427636   \n",
        "40   0   40  1.65518    0.478074   0.467107   0.53705  0.537937  0.000198885   \n",
        "60   0   60  1.75702    0.240369   0.263147  0.534385  0.531337   0.00144817   \n",
        "80   0   80  1.90131   0.0352459   0.069786   0.52111  0.519137   0.00158257   \n",
        "100  0  100   1.9249  0.00488927  0.0453909  0.518165  0.516737   0.00184444   \n",
        "\n",
        "          redchi  \n",
        "0    7.25953e-08  \n",
        "20    0.00427636  \n",
        "40   0.000198885  \n",
        "60    0.00144817  \n",
        "80    0.00158257  \n",
        "100   0.00184444  "
       ]
      }
     ],
     "prompt_number": 267
    },
    {
     "cell_type": "code",
     "collapsed": false,
     "input": [
      "def get_quantiles_error(df):\n",
      "    \n",
      "    godf=df.query('choice==\"go\"')\n",
      "    ixlist, quant_errs=[], []\n",
      "    for pg, pgdata in godf.groupby('pGo'):\n",
      "        for sx, sxdata in pgdata.groupby('idx'):\n",
      "            ixq=np.mean(mquantiles(sxdata.rt.values, prob=quantp))\n",
      "            ixlist.append(ixq)\n",
      "        quant_errs.append(sem(ixlist))\n",
      "        \n",
      "    return quant_errs"
     ],
     "language": "python",
     "metadata": {},
     "outputs": [],
     "prompt_number": 268
    },
    {
     "cell_type": "code",
     "collapsed": false,
     "input": [
      "qerr=get_quantiles_error(pro)"
     ],
     "language": "python",
     "metadata": {},
     "outputs": [],
     "prompt_number": 269
    },
    {
     "cell_type": "code",
     "collapsed": false,
     "input": [
      "flatui=utils.flatui()\n",
      "colors=sns.color_palette(n_colors=len(pgo))\n",
      "dat=[fit_results.rtdata.values[i] for i in np.arange(len(pgo))]\n",
      "sim=[fit_results.rtradd.values[i] for i in np.arange(len(pgo))]\n",
      "err=[np.mean(i)*1.96 for i in pglist]"
     ],
     "language": "python",
     "metadata": {},
     "outputs": [],
     "prompt_number": 270
    },
    {
     "cell_type": "code",
     "collapsed": false,
     "input": [
      "f,ax=plt.subplots(1, figsize=(8,5))\n",
      "for i, pg in enumerate(pgo):\n",
      "    if i<1: continue\n",
      "    ax.errorbar(pg, dat[i], yerr=qerr[i]*1.96, ecolor=colors[i], elinewidth=.8, marker='o', lw=0, markersize=6, color=colors[i])\n",
      "    ax.plot(pg, sim[i], marker='o', lw=0, markersize=6, color=colors[i])\n",
      "\n",
      "ax.set_xlim(15,105)"
     ],
     "language": "python",
     "metadata": {},
     "outputs": [
      {
       "metadata": {},
       "output_type": "pyout",
       "prompt_number": 279,
       "text": [
        "(15, 105)"
       ]
      },
      {
       "metadata": {},
       "output_type": "display_data",
       "png": "[encoded data removed]",
       "text": [
        "<matplotlib.figure.Figure at 0x10aa90350>"
       ]
      }
     ],
     "prompt_number": 279
    },
    {
     "cell_type": "code",
     "collapsed": false,
     "input": [
      "scerr=pro.pivot_table('response', 'idx', 'pGo').sem().values*1.96\n",
      "fits=fit_results.convert_objects(convert_numeric=True)\n",
      "sc=[fits.psdata.values, fits.psradd.values]\n",
      "flatui"
     ],
     "language": "python",
     "metadata": {},
     "outputs": [
      {
       "metadata": {},
       "output_type": "pyout",
       "prompt_number": 288,
       "text": [
        "[array([ 0.92848361,  0.75532787,  0.47807377,  0.24036885,  0.0352459 ,\n",
        "         0.00488927]),\n",
        " array([ 0.92821436,  0.74785043,  0.46710658,  0.26314737,  0.06978604,\n",
        "         0.04539092])]"
       ]
      }
     ],
     "prompt_number": 288
    },
    {
     "cell_type": "code",
     "collapsed": false,
     "input": [
      "fits=fit_results.convert_objects(convert_numeric=True)\n",
      "sc=[fits.psdata.values, fits.psradd.values]\n",
      "scerr=pro.pivot_table('response', 'idx', 'pGo').sem().values*1.96\n",
      "colors=['k', flatui['r1']]\n",
      "vis.scurves(sc, yerr=[scerr, scerr], labels=['data', 'radd'], task='pro', colors=colors, all_solid=True)"
     ],
     "language": "python",
     "metadata": {},
     "outputs": [
      {
       "metadata": {},
       "output_type": "pyout",
       "prompt_number": 291,
       "text": [
        "<matplotlib.axes._subplots.AxesSubplot at 0x10aaf9410>"
       ]
      },
      {
       "metadata": {},
       "output_type": "display_data",
       "png": "[encoded data removed]",
       "text": [
        "<matplotlib.figure.Figure at 0x10a703a90>"
       ]
      }
     ],
     "prompt_number": 291
    },
    {
     "cell_type": "code",
     "collapsed": false,
     "input": [
      "def sspro_minfunc(p, ydata, ntrials, theta={}, filt_rts=True, rtfunc='mean', simfx='vector', model='radd', tb=.560):\n",
      "\n",
      "    theta={k:p[k].value for k in p.keys()}\n",
      "\n",
      "    if simfx=='standard':\n",
      "        psim, rtsim = simulate(theta, ntrials=ntrials, timebound=tb, model=model, filt_rts=filt_rts)\n",
      "    elif simfx=='lc':\n",
      "        psim, rtsim = simulate_lc(theta, ntrials=ntrials, filt_rts=filt_rts, timebound=tb)\n",
      "    elif simfx=='vector':\n",
      "        psim, rtsim = simulate_np(theta, ntrials=ntrials, filt_rts=filt_rts, rtfunc=rtfunc, timebound=tb)\n",
      "    else:\n",
      "        print \"simfx method not understood\\n\\n\\tpass 'standard', 'lc', or 'vector'\"\n",
      "\n",
      "\n",
      "    for i, val in enumerate(ydata):\n",
      "        if hasattr(val, 'append'):\n",
      "            ydata[i]=val[0]\n",
      "    \n",
      "    pres=psim-ydata[0]\n",
      "    \n",
      "    if rtfunc=='quants':\n",
      "        rtres=rtsim-ydata[1:]\n",
      "        if theta['pGo']==0.0:\n",
      "            residuals=np.append(pres, np.zeros_like(rtres))\n",
      "        else:\n",
      "            residuals=np.append(pres, rtres)\n",
      "        return residuals\n",
      "    \n",
      "    else:\n",
      "        rtres=rtsim-ydata[1]\n",
      "\n",
      "    if theta['pGo']==0.0:\n",
      "        residuals=np.array([pres, 0.00001])\n",
      "    else:\n",
      "        residuals=np.array([pres, rtres])\n",
      "    \n",
      "    return residuals"
     ],
     "language": "python",
     "metadata": {},
     "outputs": [],
     "prompt_number": 237
    },
    {
     "cell_type": "code",
     "collapsed": false,
     "input": [
      "def simulate_np(theta, ntrials=2000, timebound=.560, filt_rts=True, rtfunc='mean', intervar=False, **kwargs):\n",
      "\n",
      "    if intervar:\n",
      "        theta=fitfx.get_intervar_ranges(theta)\n",
      "\n",
      "    dvg, dvs = npsim.radd(theta, ntrials=ntrials, no_ss=True)\n",
      "        \n",
      "    responses, rt = npsim.analyze_proactive_trials(dvg, dvs, theta, filt_rts=filt_rts, timebound=timebound, return_all=True)\n",
      "\n",
      "    if rtfunc=='quants':\n",
      "        rt=mquantiles(rt, prob=[.1,.3,.5,.7,.9])*10\n",
      "\n",
      "    elif rtfunc=='mquant':\n",
      "        rt=np.mean(mquantiles(rt, prob=[.1,.3,.5,.7,.9]))*10\n",
      "\n",
      "    else:\n",
      "        rt=np.mean(rt)*10\n",
      "    \n",
      "    pstop=1-np.mean(responses)\n",
      "        \n",
      "    return pstop, rt\n"
     ],
     "language": "python",
     "metadata": {},
     "outputs": [],
     "prompt_number": 239
    },
    {
     "cell_type": "code",
     "collapsed": false,
     "input": [
      "def pstop_quants(df, filt_rts=False, quantp=[.1,.3,.5,.7,.9]):\n",
      "    \n",
      "    pstop=1-df.groupby('pGo').mean()['response'].values\n",
      "    \n",
      "    if filt_rts:\n",
      "        godf=df.query('choice==\"go\" and rt<=.5451')\n",
      "    else:\n",
      "        godf=df.query('choice==\"go\"')\n",
      "        \n",
      "    rtquants=[mquantiles(pgdf.rt.values, prob=quantp)*10 for pg, pgdf in godf.groupby('pGo')]\n",
      "    \n",
      "    return pstop, rtquants"
     ],
     "language": "python",
     "metadata": {},
     "outputs": [],
     "prompt_number": 249
    },
    {
     "cell_type": "code",
     "collapsed": false,
     "input": [
      "def pstop_mquant(df, filt_rts=True, quantp=[.1,.3,.5,.7,.9]):\n",
      "    \n",
      "    pstop=1-df.groupby('pGo').mean()['response'].values\n",
      "    \n",
      "    if filt_rts:\n",
      "        godf=df.query('choice==\"go\" and rt<=.5451')\n",
      "    else:\n",
      "        godf=df.query('choice==\"go\"')\n",
      "        \n",
      "    mquant=[np.mean(mquantiles(pgdf.rt.values, prob=quantp))*10 for pg, pgdf in godf.groupby('pGo')]\n",
      "    \n",
      "    return pstop, mquant"
     ],
     "language": "python",
     "metadata": {},
     "outputs": [],
     "prompt_number": 250
    },
    {
     "cell_type": "code",
     "collapsed": false,
     "input": [],
     "language": "python",
     "metadata": {},
     "outputs": []
    }
   ],
   "metadata": {}
  }
 ]
}