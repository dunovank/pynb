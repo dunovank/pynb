{
 "metadata": {
  "name": "",
  "signature": "sha256:282a73404ffde7faf505e5d7ad8511216f8b55650b1a57b05419c61aedca1b7a"
 },
 "nbformat": 3,
 "nbformat_minor": 0,
 "worksheets": [
  {
   "cells": [
    {
     "cell_type": "code",
     "collapsed": false,
     "input": [
      "from radd_demo import vis\n",
      "from pandas import read_csv as csv\n",
      "from scipy import stats"
     ],
     "language": "python",
     "metadata": {},
     "outputs": [],
     "prompt_number": 34
    },
    {
     "cell_type": "code",
     "collapsed": false,
     "input": [
      "bx_chi_path=\"/home/kyle/Dropbox/CoAx/SS/Reactive/\"\n",
      "#idx_chi_path=\"/Users/kyle/Dropbox/SS_Backups/SS/QuickAccess/Idx_Chi/\"\n",
      "colors=['#1abd80', purples[-2]]\n",
      "os.chdir(bx_chi_path)\n",
      "bslradd=csv(\"BSL/Boot/RADD/rwr_rebsl_fitinfo_radd.csv\", index_col=0).chi.unique()\n",
      "bslonset=csv(\"BSL/Boot/Onset/bsl_rwr_fitinfo_onset.csv\", index_col=0).chi.unique()\n",
      "pnlradd=csv(\"PNL/Boot/RADD/pnl_rwr_radd_fitinfo_radd.csv\", index_col=0).chi.unique()\n",
      "pnlonset=csv(\"PNL/Boot/Onset/InitsFromBSLOnsetFolder/pnl_rwr_radd_fitinfo_onset.csv\", index_col=0).chi.unique()"
     ],
     "language": "python",
     "metadata": {},
     "outputs": [],
     "prompt_number": 35
    },
    {
     "cell_type": "code",
     "collapsed": false,
     "input": [
      "dflist = [bslradd, bslonset, pnlradd, pnlonset]\n",
      "chi_means=[df.mean() for df in dflist] \n",
      "chi_ci=[stats.sem(df)*1.96 for df in dflist] \n",
      "\n",
      "c=[greens[1], purples[1]]*2\n",
      "furry=[\"#117a52\",purples[5],\"#117a52\",purples[5]]"
     ],
     "language": "python",
     "metadata": {},
     "outputs": [],
     "prompt_number": 4
    },
    {
     "cell_type": "code",
     "collapsed": false,
     "input": [
      "stats.ttest_rel(np.append(dflist[0], dflist[1]), np.append(dflist[2], dflist[3]))\n",
      "l = [np.append(dflist[0], dflist[1]), np.append(dflist[2], dflist[3])]"
     ],
     "language": "python",
     "metadata": {},
     "outputs": [],
     "prompt_number": 22
    },
    {
     "cell_type": "code",
     "collapsed": false,
     "input": [
      "print \"Onset-Bias: X2 = \", np.mean(np.append(dflist[0], dflist[2]))\n",
      "print \"Drift-Bias: X2 = \", np.mean(np.append(dflist[1], dflist[3]))\n"
     ],
     "language": "python",
     "metadata": {},
     "outputs": [
      {
       "output_type": "stream",
       "stream": "stdout",
       "text": [
        "Onset-Bias: X2 =  0.00453224126137\n",
        "Drift-Bias: X2 =  0.00638442174723\n"
       ]
      }
     ],
     "prompt_number": 37
    },
    {
     "cell_type": "code",
     "collapsed": false,
     "input": [
      "from scipy.stats import ttest_rel as tt\n",
      "tt(np.append(dflist[0], dflist[2]), np.append(dflist[1], dflist[3]))"
     ],
     "language": "python",
     "metadata": {},
     "outputs": [
      {
       "metadata": {},
       "output_type": "pyout",
       "prompt_number": 38,
       "text": [
        "(-15.100064726533367, 1.1078567474379951e-38)"
       ]
      }
     ],
     "prompt_number": 38
    },
    {
     "cell_type": "code",
     "collapsed": false,
     "input": [
      "plot_chi_bar(chi_means, chi_ci, ylim=[0, .015], chilist=dflist, colors=c, furry=furry) \n",
      "#plt.savefig(\"/home/kyle/Dropbox/f3D.svg\", format='svg', dpi=600)\n",
      "#plt.savefig(\"/home/kyle/Dropbox/f3D.png\", format='png', dpi=600)"
     ],
     "language": "python",
     "metadata": {},
     "outputs": [
      {
       "metadata": {},
       "output_type": "pyout",
       "prompt_number": 33,
       "text": [
        "<matplotlib.axes._subplots.AxesSubplot at 0x7fea58931e10>"
       ]
      },
      {
       "metadata": {},
       "output_type": "display_data",
       "png": "[encoded data removed]",
       "text": [
        "<matplotlib.figure.Figure at 0x7fea5893efd0>"
       ]
      }
     ],
     "prompt_number": 33
    },
    {
     "cell_type": "code",
     "collapsed": false,
     "input": [
      "def plot_chi_bar(means, ci, ylim=[], chilist=[], labels=['Drift Bias', 'Onset Bias'], colors=['#1abd80', 'Purple'], furry=True):\n",
      "    \n",
      "    f, ax=plt.subplots(1, figsize=(6.5,6.5))\n",
      "    #x=np.array([0,1,2.5,3.5])\n",
      "    x=np.array([0,1,2.5,3.5])\n",
      "    for i, m in enumerate(means):\n",
      "        if i<2:\n",
      "            #ax.bar(x[i], m, yerr=ci[i], width=.5, align='center', color=colors[i], \n",
      "            #   error_kw=dict(elinewidth=3, ecolor='k'), label=labels[i], alpha=.8)\n",
      "            ax.bar(x[i], m, width=.85, align='center', color=colors[i], label=labels[i], alpha=.8)\n",
      "        else:\n",
      "            ax.bar(x[i], m, width=.85, align='center', color=colors[i], alpha=.8)\n",
      "            #ax.bar(x[i], m, yerr=ci[i], width=.5, align='center', color=colors[i], \n",
      "            #   error_kw=dict(elinewidth=3, ecolor='k'), alpha=.8)\n",
      "    \n",
      "    \n",
      "    for i, chidist in enumerate(chilist):\n",
      "        for n in xrange(len(chidist)):\n",
      "            plt.plot(x[i], chidist[n], color=furry[i], lw=0, marker='o', ms=4, alpha=.25)\n",
      "            #plt.plot(xxticks, tchi_table.iloc[n, :], color=colors[1], lw=0, marker='o', ms=4, alpha=.25)\n",
      "\n",
      "    if ylim==[]:\n",
      "            ymax=np.array(means).max() + np.array(ci).max()\n",
      "            ylim=[0, ymax]\n",
      "    \n",
      "\n",
      "    ax.set_xlim(x[0]-.6, x[-1]+.6)\n",
      "    ax.set_ylim(ylim[0], ylim[1])\n",
      "    ax.set_yticks(ylim)\n",
      "    ax.set_yticklabels(ylim, fontsize=24)\n",
      "    xt=ax.set_xticks([0.5,3.])\n",
      "    ax.set_xticklabels(['Baseline','Caution'], fontsize=24)\n",
      "    ax.set_ylabel('$\\chi^2$', fontsize=28)\n",
      "    sns.despine()\n",
      "    ax.legend(loc=0, fontsize=22)\n",
      "    \n",
      "    return ax"
     ],
     "language": "python",
     "metadata": {},
     "outputs": [],
     "prompt_number": 32
    },
    {
     "cell_type": "code",
     "collapsed": false,
     "input": [],
     "language": "python",
     "metadata": {},
     "outputs": []
    }
   ],
   "metadata": {}
  }
 ]
}