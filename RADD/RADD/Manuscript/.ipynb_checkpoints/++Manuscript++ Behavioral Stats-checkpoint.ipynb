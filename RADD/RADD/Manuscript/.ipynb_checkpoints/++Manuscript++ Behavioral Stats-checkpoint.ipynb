{
 "metadata": {
  "name": "",
  "signature": "sha256:9db83064aafaaf6b76d5e423ca13d000b0a1cbd4e89b6373bd9821fd2fb93372"
 },
 "nbformat": 3,
 "nbformat_minor": 0,
 "worksheets": [
  {
   "cells": [
    {
     "cell_type": "code",
     "collapsed": false,
     "input": [
      "import radd\n",
      "from radd import utils, vis, pbold, final\n",
      "import scipy.stats as stats\n",
      "csv=pd.read_csv\n",
      "from scipy.stats import ttest_rel\n",
      "anova_df_names=['bsl'+str(pg) for pg in range(0,120,20)]+['pnl'+str(pg) for pg in range(0,120,20)]"
     ],
     "language": "python",
     "metadata": {},
     "outputs": [],
     "prompt_number": 6
    },
    {
     "cell_type": "heading",
     "level": 1,
     "metadata": {},
     "source": [
      "PRO SC ANOVA DF"
     ]
    },
    {
     "cell_type": "code",
     "collapsed": false,
     "input": [
      "pro_all=final.all_data('pro')\n",
      "probsl=pro_all.query('Cond==\"bsl\"')\n",
      "propnl=pro_all.query('Cond==\"pnl\"')"
     ],
     "language": "python",
     "metadata": {},
     "outputs": [],
     "prompt_number": 11
    },
    {
     "cell_type": "code",
     "collapsed": false,
     "input": [
      "anova_df_names=['bsl'+str(pg) for pg in range(0,120,20)]+['pnl'+str(pg) for pg in range(0,120,20)]\n",
      "probsl_pstop_idx=1-probsl.pivot_table('response', 'idx', 'pGo')\n",
      "propnl_pstop_idx=1-propnl.pivot_table('response', 'idx', 'pGo')\n",
      "\n",
      "proSC_anova_df=pd.concat([probsl_pstop_idx, propnl_pstop_idx], axis=1)\n",
      "proSC_anova_df.columns=anova_df_names\n",
      "proSC_anova_df.to_csv(\"/Users/kyle/Desktop/proSC_anova_df.csv\", index=False)"
     ],
     "language": "python",
     "metadata": {},
     "outputs": [],
     "prompt_number": 17
    },
    {
     "cell_type": "heading",
     "level": 1,
     "metadata": {},
     "source": [
      "PRO RT ANOVA DF"
     ]
    },
    {
     "cell_type": "code",
     "collapsed": false,
     "input": [
      "#collapse lower pgo conditions for RT anova (too many idx with missing data otherwise)\n",
      "pro_all['probgo']=pro_all.loc[:, 'pGo'].copy()\n",
      "pro_all.ix[pro_all.pGo.isin([.0, .20, .40]), 'probgo']=.40\n",
      "\n",
      "probsl=pro_all.query('Cond==\"bsl\"')\n",
      "propnl=pro_all.query('Cond==\"pnl\"')\n",
      "\n",
      "probsl_rt_idx=probsl.query(\"choice=='go'&rt<=.5451\").pivot_table('rt', 'idx', 'probgo')\n",
      "propnl_rt_idx=propnl.query(\"choice=='go'&rt<=.5451\").pivot_table('rt', 'idx', 'probgo')\n",
      "\n",
      "\n",
      "proRT_anova_df = pd.concat([probsl_rt_idx, propnl_rt_idx], axis=1)\n",
      "proRT_anova_df.columns=anova_df_names[2:6] + anova_df_names[8:]\n",
      "proRT_anova_df.to_csv(\"/Users/kyle/Desktop/proRT_anova_df.csv\", index=False)\n",
      "proRT_anova_df_trimmed=proRT_anova_df.dropna()\n",
      "proRT_anova_df_trimmed.to_csv(\"/Users/kyle/Desktop/proRT_anova_df_trimmed.csv\", index=False)"
     ],
     "language": "python",
     "metadata": {},
     "outputs": [],
     "prompt_number": 27
    },
    {
     "cell_type": "heading",
     "level": 1,
     "metadata": {},
     "source": [
      "RE RT T-Test"
     ]
    },
    {
     "cell_type": "code",
     "collapsed": false,
     "input": [
      "rebsl=final.idx_data(task='bsl')\n",
      "repnl=final.idx_data(task='pnl')"
     ],
     "language": "python",
     "metadata": {},
     "outputs": [],
     "prompt_number": 31
    },
    {
     "cell_type": "code",
     "collapsed": false,
     "input": [
      "re_rt_idx=[rebsl['rt'], repnl['rt']]\n",
      "print \"bsl/pnl RT means: \", [np.mean(rebsl['rt'].values), np.mean(repnl['rt'].values)]\n",
      "print \"t:%.4f\\np:%.4f\"% ttest_rel(re_rt_idx[0], re_rt_idx[1])"
     ],
     "language": "python",
     "metadata": {},
     "outputs": [
      {
       "output_type": "stream",
       "stream": "stdout",
       "text": [
        "bsl/pnl RT means:  [0.56108988017685901, 0.56778861424153704]\n",
        "t:-3.5265\n",
        "p:0.0008\n"
       ]
      }
     ],
     "prompt_number": 38
    },
    {
     "cell_type": "heading",
     "level": 1,
     "metadata": {},
     "source": [
      "RE PSE T-Test"
     ]
    },
    {
     "cell_type": "code",
     "collapsed": false,
     "input": [
      "psebsl=vis.scurves(rebsl['sc'].values, pse_only=True)\n",
      "psepnl=vis.scurves(repnl['sc'].values, pse_only=True)\n",
      "re_pse_idx=[psebsl, psepnl]\n",
      "print \"bsl/pnl PSE means: \", [np.mean(psebsl), np.mean(psepnl)]\n",
      "print \"t:%.4f\\np:%.4f\"% ttest_rel(re_pse_idx[0], re_pse_idx[1])"
     ],
     "language": "python",
     "metadata": {},
     "outputs": [
      {
       "output_type": "stream",
       "stream": "stdout",
       "text": [
        "bsl/pnl PSE means:  [0.31316738231200164, 0.34191042055025178]\n",
        "t:-2.1776\n",
        "p:0.0334\n"
       ]
      }
     ],
     "prompt_number": 39
    },
    {
     "cell_type": "code",
     "collapsed": false,
     "input": [],
     "language": "python",
     "metadata": {},
     "outputs": []
    }
   ],
   "metadata": {}
  }
 ]
}