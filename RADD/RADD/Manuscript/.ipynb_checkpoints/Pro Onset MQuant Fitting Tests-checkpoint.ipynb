{
 "metadata": {
  "name": "",
  "signature": "sha256:2721b99313f353db5f9123cf5bdc46096591dc6de84f230804daadc0a27b921a"
 },
 "nbformat": 3,
 "nbformat_minor": 0,
 "worksheets": [
  {
   "cells": [
    {
     "cell_type": "code",
     "collapsed": false,
     "input": [
      "from radd import final, vis, fitpro, utils, npsim\n",
      "from scipy.stats.mstats import mquantiles\n",
      "from lmfit import Parameters, Minimizer\n",
      "from collections import OrderedDict\n",
      "from scipy.stats import sem"
     ],
     "language": "python",
     "metadata": {},
     "outputs": [],
     "prompt_number": 1
    },
    {
     "cell_type": "code",
     "collapsed": false,
     "input": [
      "opt=pd.read_csv(\"/Users/kyle/Dropbox/SS_Backups/SS/Proactive/Boot/ProBootOnsetF/flat_opt_theta.csv\", header=None, names=['mean'], index_col=0)\n",
      "\n",
      "opt.drop(['t(Hi)', 't(Lo)', 't'], inplace=True)\n",
      "inits=opt.to_dict()['mean']"
     ],
     "language": "python",
     "metadata": {},
     "outputs": [],
     "prompt_number": 16
    },
    {
     "cell_type": "code",
     "collapsed": false,
     "input": [
      "depends_on={'t':'pGo'}; ntrials=5000; nx=0; simfx='vector'; maxfun=500\n",
      "simfx='vector'; filt_rts=True; disp=True; ftol=1e-3; xtol=1e-3; quants=True;\n",
      "pgo=[0,20,40,60,80,100]; quantp=[.1,.3,.5,.7,.9]; rts_i=[]; ps_i=[]; pnames=['a', 't', 'z', 'v', 'ssv', 'ssd', 'pGo']\n",
      "dep=pnames.pop(pnames.index(depends_on.keys()[0])); init_list=[inits[dep + str(pg_i)] for pg_i in pgo]\n",
      "#inits['si']=.01"
     ],
     "language": "python",
     "metadata": {},
     "outputs": [],
     "prompt_number": 17
    },
    {
     "cell_type": "code",
     "collapsed": false,
     "input": [
      "fit_results=pd.DataFrame(columns=['n','pGo', dep, 'psdata', 'psradd', 'rtdata', 'rtradd', 'chi', 'redchi'], index=pgo)\n",
      "#if 'si' in inits.keys():\n",
      "#    fit_results['si']=[np.nan]*len(pgo)"
     ],
     "language": "python",
     "metadata": {},
     "outputs": [],
     "prompt_number": 18
    },
    {
     "cell_type": "code",
     "collapsed": false,
     "input": [
      "pro=final.all_data('pro')\n",
      "#pstop, rt = pstop_quants(pro, filt_rts=filt_rts)\n",
      "pstop, rt = pstop_mquant(pro, filt_rts=filt_rts)\n",
      "rtfunc='mquant'"
     ],
     "language": "python",
     "metadata": {},
     "outputs": [],
     "prompt_number": 19
    },
    {
     "cell_type": "code",
     "collapsed": false,
     "input": [
      "for i, pg in enumerate(pgo):\n",
      "\n",
      "    inits['pGo']=pg*.01\n",
      "\n",
      "    dep_init = init_list[i]\n",
      "    \n",
      "    if quants:\n",
      "        y=np.append(pstop[i], rt[i])\n",
      "    else:\n",
      "        y=np.array([pstop[i], rt[i]])\n",
      "\n",
      "    p=Parameters()\n",
      "    for param in pnames:\n",
      "        p.add(param, value=inits[param], vary=0)\n",
      "    \n",
      "    p.add(dep, value=dep_init, min=0.0, vary=1)\n",
      "    if 'si' in inits.keys():\n",
      "        p.add('si', value=inits['si'], vary=1)\n",
      "\n",
      "    popt = Minimizer(sspro_minfunc, p, fcn_args=(y, ntrials), fcn_kws={'simfx':simfx, 'rtfunc':rtfunc, 'filt_rts':filt_rts}, method='Nelder-Mead')\n",
      "    popt.fmin(maxfun=maxfun, ftol=ftol, xtol=xtol, full_output=True, disp=disp)\n",
      "\n",
      "    x2=popt.chisqr\n",
      "    redx2=popt.redchi\n",
      "    \n",
      "    psim=y[0]+popt.residual[0]\n",
      "    psdata=y[0]\n",
      "    \n",
      "    if rtfunc==\"quants\":\n",
      "        rtsim=(y[1:]+popt.residual[1:])/10\n",
      "        rtdata=y[1:]/10\n",
      "    else:\n",
      "        rtsim=(y[1]+popt.residual[1])/10\n",
      "        rtdata=y[1]/10\n",
      "    \n",
      "    fit_results.loc[pg,:]=pd.Series(OrderedDict([('n',int(nx)),('pGo',int(pg)),\n",
      "        (dep,p[dep].value), ('psdata',psdata), ('psradd',psim), ('rtdata',rtdata),\n",
      "        ('rtradd',rtsim), ('chi',x2), ('redchi',redx2)]))\n",
      "    \n",
      "    if 'si' in inits.keys():\n",
      "        fit_results.loc[pg, 'si']=p['si'].value\n",
      "\n",
      "    rts_i.append(rtsim); ps_i.append(psim)\n"
     ],
     "language": "python",
     "metadata": {},
     "outputs": [
      {
       "output_type": "stream",
       "stream": "stdout",
       "text": [
        "Optimization terminated successfully.\n",
        "         Current function value: 0.000010\n",
        "         Iterations: 7\n",
        "         Function evaluations: 15\n",
        "Optimization terminated successfully."
       ]
      },
      {
       "output_type": "stream",
       "stream": "stdout",
       "text": [
        "\n",
        "         Current function value: 0.004870\n",
        "         Iterations: 8\n",
        "         Function evaluations: 18\n",
        "Optimization terminated successfully."
       ]
      },
      {
       "output_type": "stream",
       "stream": "stdout",
       "text": [
        "\n",
        "         Current function value: 0.000103\n",
        "         Iterations: 7\n",
        "         Function evaluations: 14\n",
        "Optimization terminated successfully."
       ]
      },
      {
       "output_type": "stream",
       "stream": "stdout",
       "text": [
        "\n",
        "         Current function value: 0.006367\n",
        "         Iterations: 9\n",
        "         Function evaluations: 20\n",
        "Optimization terminated successfully."
       ]
      },
      {
       "output_type": "stream",
       "stream": "stdout",
       "text": [
        "\n",
        "         Current function value: 0.012326\n",
        "         Iterations: 13\n",
        "         Function evaluations: 30\n",
        "Optimization terminated successfully."
       ]
      },
      {
       "output_type": "stream",
       "stream": "stdout",
       "text": [
        "\n",
        "         Current function value: 0.015454\n",
        "         Iterations: 7\n",
        "         Function evaluations: 16\n"
       ]
      }
     ],
     "prompt_number": 20
    },
    {
     "cell_type": "code",
     "collapsed": false,
     "input": [
      "fit_results"
     ],
     "language": "python",
     "metadata": {},
     "outputs": [
      {
       "html": [
        "<div style=\"max-height:1000px;max-width:1500px;overflow:auto;\">\n",
        "<table border=\"1\" class=\"dataframe\">\n",
        "  <thead>\n",
        "    <tr style=\"text-align: right;\">\n",
        "      <th></th>\n",
        "      <th>n</th>\n",
        "      <th>pGo</th>\n",
        "      <th>t</th>\n",
        "      <th>psdata</th>\n",
        "      <th>psradd</th>\n",
        "      <th>rtdata</th>\n",
        "      <th>rtradd</th>\n",
        "      <th>chi</th>\n",
        "      <th>redchi</th>\n",
        "    </tr>\n",
        "  </thead>\n",
        "  <tbody>\n",
        "    <tr>\n",
        "      <th>0  </th>\n",
        "      <td> 0</td>\n",
        "      <td>   0</td>\n",
        "      <td> 0.368525</td>\n",
        "      <td>   0.928484</td>\n",
        "      <td> 0.932813</td>\n",
        "      <td> 0.516132</td>\n",
        "      <td> 0.516133</td>\n",
        "      <td> 1.87475e-05</td>\n",
        "      <td> 1.87475e-05</td>\n",
        "    </tr>\n",
        "    <tr>\n",
        "      <th>20 </th>\n",
        "      <td> 0</td>\n",
        "      <td>  20</td>\n",
        "      <td> 0.343863</td>\n",
        "      <td>   0.755328</td>\n",
        "      <td> 0.719856</td>\n",
        "      <td>  0.53704</td>\n",
        "      <td> 0.543163</td>\n",
        "      <td>    0.005007</td>\n",
        "      <td>    0.005007</td>\n",
        "    </tr>\n",
        "    <tr>\n",
        "      <th>40 </th>\n",
        "      <td> 0</td>\n",
        "      <td>  40</td>\n",
        "      <td> 0.322428</td>\n",
        "      <td>   0.478074</td>\n",
        "      <td> 0.464107</td>\n",
        "      <td>  0.53705</td>\n",
        "      <td> 0.535628</td>\n",
        "      <td> 0.000397279</td>\n",
        "      <td> 0.000397279</td>\n",
        "    </tr>\n",
        "    <tr>\n",
        "      <th>60 </th>\n",
        "      <td> 0</td>\n",
        "      <td>  60</td>\n",
        "      <td> 0.303662</td>\n",
        "      <td>   0.240369</td>\n",
        "      <td> 0.263147</td>\n",
        "      <td> 0.534385</td>\n",
        "      <td> 0.525662</td>\n",
        "      <td>   0.0081287</td>\n",
        "      <td>   0.0081287</td>\n",
        "    </tr>\n",
        "    <tr>\n",
        "      <th>80 </th>\n",
        "      <td> 0</td>\n",
        "      <td>  80</td>\n",
        "      <td> 0.284554</td>\n",
        "      <td>  0.0352459</td>\n",
        "      <td> 0.131574</td>\n",
        "      <td>  0.52111</td>\n",
        "      <td> 0.513954</td>\n",
        "      <td>   0.0144002</td>\n",
        "      <td>   0.0144002</td>\n",
        "    </tr>\n",
        "    <tr>\n",
        "      <th>100</th>\n",
        "      <td> 0</td>\n",
        "      <td> 100</td>\n",
        "      <td> 0.281215</td>\n",
        "      <td> 0.00488927</td>\n",
        "      <td> 0.109778</td>\n",
        "      <td> 0.518165</td>\n",
        "      <td> 0.511815</td>\n",
        "      <td>   0.0150347</td>\n",
        "      <td>   0.0150347</td>\n",
        "    </tr>\n",
        "  </tbody>\n",
        "</table>\n",
        "</div>"
       ],
       "metadata": {},
       "output_type": "pyout",
       "prompt_number": 21,
       "text": [
        "     n  pGo         t      psdata    psradd    rtdata    rtradd          chi  \\\n",
        "0    0    0  0.368525    0.928484  0.932813  0.516132  0.516133  1.87475e-05   \n",
        "20   0   20  0.343863    0.755328  0.719856   0.53704  0.543163     0.005007   \n",
        "40   0   40  0.322428    0.478074  0.464107   0.53705  0.535628  0.000397279   \n",
        "60   0   60  0.303662    0.240369  0.263147  0.534385  0.525662    0.0081287   \n",
        "80   0   80  0.284554   0.0352459  0.131574   0.52111  0.513954    0.0144002   \n",
        "100  0  100  0.281215  0.00488927  0.109778  0.518165  0.511815    0.0150347   \n",
        "\n",
        "          redchi  \n",
        "0    1.87475e-05  \n",
        "20      0.005007  \n",
        "40   0.000397279  \n",
        "60     0.0081287  \n",
        "80     0.0144002  \n",
        "100    0.0150347  "
       ]
      }
     ],
     "prompt_number": 21
    },
    {
     "cell_type": "code",
     "collapsed": false,
     "input": [
      "def get_quantiles_error(df):\n",
      "    \n",
      "    godf=df.query('choice==\"go\"')\n",
      "    ixlist, quant_errs=[], []\n",
      "    for pg, pgdata in godf.groupby('pGo'):\n",
      "        for sx, sxdata in pgdata.groupby('idx'):\n",
      "            ixq=np.mean(mquantiles(sxdata.rt.values, prob=quantp))\n",
      "            ixlist.append(ixq)\n",
      "        quant_errs.append(sem(ixlist))\n",
      "        \n",
      "    return quant_errs"
     ],
     "language": "python",
     "metadata": {},
     "outputs": [],
     "prompt_number": 22
    },
    {
     "cell_type": "code",
     "collapsed": false,
     "input": [
      "qerr=get_quantiles_error(pro)"
     ],
     "language": "python",
     "metadata": {},
     "outputs": [],
     "prompt_number": 23
    },
    {
     "cell_type": "code",
     "collapsed": false,
     "input": [
      "flatui=utils.flatui()\n",
      "colors=sns.color_palette(n_colors=len(pgo))\n",
      "dat=[fit_results.rtdata.values[i] for i in np.arange(len(pgo))]\n",
      "sim=[fit_results.rtradd.values[i] for i in np.arange(len(pgo))]\n",
      "err=[np.mean(i)*1.96 for i in pglist]"
     ],
     "language": "python",
     "metadata": {},
     "outputs": [
      {
       "ename": "NameError",
       "evalue": "name 'pglist' is not defined",
       "output_type": "pyerr",
       "traceback": [
        "\u001b[0;31m---------------------------------------------------------------------------\u001b[0m\n\u001b[0;31mNameError\u001b[0m                                 Traceback (most recent call last)",
        "\u001b[0;32m<ipython-input-24-58c048479707>\u001b[0m in \u001b[0;36m<module>\u001b[0;34m()\u001b[0m\n\u001b[1;32m      3\u001b[0m \u001b[0mdat\u001b[0m\u001b[0;34m=\u001b[0m\u001b[0;34m[\u001b[0m\u001b[0mfit_results\u001b[0m\u001b[0;34m.\u001b[0m\u001b[0mrtdata\u001b[0m\u001b[0;34m.\u001b[0m\u001b[0mvalues\u001b[0m\u001b[0;34m[\u001b[0m\u001b[0mi\u001b[0m\u001b[0;34m]\u001b[0m \u001b[0;32mfor\u001b[0m \u001b[0mi\u001b[0m \u001b[0;32min\u001b[0m \u001b[0mnp\u001b[0m\u001b[0;34m.\u001b[0m\u001b[0marange\u001b[0m\u001b[0;34m(\u001b[0m\u001b[0mlen\u001b[0m\u001b[0;34m(\u001b[0m\u001b[0mpgo\u001b[0m\u001b[0;34m)\u001b[0m\u001b[0;34m)\u001b[0m\u001b[0;34m]\u001b[0m\u001b[0;34m\u001b[0m\u001b[0m\n\u001b[1;32m      4\u001b[0m \u001b[0msim\u001b[0m\u001b[0;34m=\u001b[0m\u001b[0;34m[\u001b[0m\u001b[0mfit_results\u001b[0m\u001b[0;34m.\u001b[0m\u001b[0mrtradd\u001b[0m\u001b[0;34m.\u001b[0m\u001b[0mvalues\u001b[0m\u001b[0;34m[\u001b[0m\u001b[0mi\u001b[0m\u001b[0;34m]\u001b[0m \u001b[0;32mfor\u001b[0m \u001b[0mi\u001b[0m \u001b[0;32min\u001b[0m \u001b[0mnp\u001b[0m\u001b[0;34m.\u001b[0m\u001b[0marange\u001b[0m\u001b[0;34m(\u001b[0m\u001b[0mlen\u001b[0m\u001b[0;34m(\u001b[0m\u001b[0mpgo\u001b[0m\u001b[0;34m)\u001b[0m\u001b[0;34m)\u001b[0m\u001b[0;34m]\u001b[0m\u001b[0;34m\u001b[0m\u001b[0m\n\u001b[0;32m----> 5\u001b[0;31m \u001b[0merr\u001b[0m\u001b[0;34m=\u001b[0m\u001b[0;34m[\u001b[0m\u001b[0mnp\u001b[0m\u001b[0;34m.\u001b[0m\u001b[0mmean\u001b[0m\u001b[0;34m(\u001b[0m\u001b[0mi\u001b[0m\u001b[0;34m)\u001b[0m\u001b[0;34m*\u001b[0m\u001b[0;36m1.96\u001b[0m \u001b[0;32mfor\u001b[0m \u001b[0mi\u001b[0m \u001b[0;32min\u001b[0m \u001b[0mpglist\u001b[0m\u001b[0;34m]\u001b[0m\u001b[0;34m\u001b[0m\u001b[0m\n\u001b[0m",
        "\u001b[0;31mNameError\u001b[0m: name 'pglist' is not defined"
       ]
      }
     ],
     "prompt_number": 24
    },
    {
     "cell_type": "code",
     "collapsed": false,
     "input": [
      "f,ax=plt.subplots(1, figsize=(8,5))\n",
      "for i, pg in enumerate(pgo):\n",
      "    if i<1: continue\n",
      "    ax.errorbar(pg, dat[i], yerr=qerr[i]*1.96, ecolor=colors[i], elinewidth=.8, marker='o', lw=0, markersize=6, color=colors[i])\n",
      "    ax.plot(pg, sim[i], marker='o', lw=0, markersize=6, color=colors[i])\n",
      "\n",
      "ax.set_xlim(15,105)"
     ],
     "language": "python",
     "metadata": {},
     "outputs": [
      {
       "metadata": {},
       "output_type": "pyout",
       "prompt_number": 32,
       "text": [
        "(15, 105)"
       ]
      },
      {
       "metadata": {},
       "output_type": "display_data",
       "png": "[encoded data removed]",
       "text": [
        "<matplotlib.figure.Figure at 0x10a0da9d0>"
       ]
      }
     ],
     "prompt_number": 32
    },
    {
     "cell_type": "code",
     "collapsed": false,
     "input": [
      "fits=fit_results.convert_objects(convert_numeric=True)\n",
      "sc=[fits.psdata.values, fits.psradd.values]\n",
      "scerr=pro.pivot_table('response', 'idx', 'pGo').sem().values*1.96\n",
      "vis.scurves(sc, yerr=[scerr, scerr], labels=['data', 'onset'], task='pro', colors=['k', flatui['b1']], all_solid=True)"
     ],
     "language": "python",
     "metadata": {},
     "outputs": [
      {
       "metadata": {},
       "output_type": "pyout",
       "prompt_number": 36,
       "text": [
        "<matplotlib.axes._subplots.AxesSubplot at 0x10a1d1310>"
       ]
      },
      {
       "metadata": {},
       "output_type": "display_data",
       "png": "[encoded data removed]",
       "text": [
        "<matplotlib.figure.Figure at 0x10a37f950>"
       ]
      }
     ],
     "prompt_number": 36
    },
    {
     "cell_type": "code",
     "collapsed": false,
     "input": [
      "def sspro_minfunc(p, ydata, ntrials, theta={}, filt_rts=True, rtfunc='mean', simfx='vector', model='radd', tb=.560):\n",
      "\n",
      "    theta={k:p[k].value for k in p.keys()}\n",
      "\n",
      "    if simfx=='standard':\n",
      "        psim, rtsim = simulate(theta, ntrials=ntrials, timebound=tb, model=model, filt_rts=filt_rts)\n",
      "    elif simfx=='lc':\n",
      "        psim, rtsim = simulate_lc(theta, ntrials=ntrials, filt_rts=filt_rts, timebound=tb)\n",
      "    elif simfx=='vector':\n",
      "        psim, rtsim = simulate_np(theta, ntrials=ntrials, filt_rts=filt_rts, rtfunc=rtfunc, timebound=tb)\n",
      "    else:\n",
      "        print \"simfx method not understood\\n\\n\\tpass 'standard', 'lc', or 'vector'\"\n",
      "\n",
      "\n",
      "    for i, val in enumerate(ydata):\n",
      "        if hasattr(val, 'append'):\n",
      "            ydata[i]=val[0]\n",
      "    \n",
      "    pres=psim-ydata[0]\n",
      "    \n",
      "    if rtfunc=='quants':\n",
      "        rtres=rtsim-ydata[1:]\n",
      "        if theta['pGo']==0.0:\n",
      "            residuals=np.append(pres, np.zeros_like(rtres))\n",
      "        else:\n",
      "            residuals=np.append(pres, rtres)\n",
      "        return residuals\n",
      "    \n",
      "    else:\n",
      "        rtres=rtsim-ydata[1]\n",
      "\n",
      "    if theta['pGo']==0.0:\n",
      "        residuals=np.array([pres, 0.00001])\n",
      "    else:\n",
      "        residuals=np.array([pres, rtres])\n",
      "    \n",
      "    return residuals"
     ],
     "language": "python",
     "metadata": {},
     "outputs": [],
     "prompt_number": 10
    },
    {
     "cell_type": "code",
     "collapsed": false,
     "input": [
      "def simulate_np(theta, ntrials=2000, timebound=.560, filt_rts=True, rtfunc='mean', intervar=False, **kwargs):\n",
      "\n",
      "    if intervar:\n",
      "        theta=fitfx.get_intervar_ranges(theta)\n",
      "\n",
      "    dvg, dvs = npsim.radd(theta, ntrials=ntrials, no_ss=True)\n",
      "        \n",
      "    responses, rt = npsim.analyze_proactive_trials(dvg, dvs, theta, filt_rts=filt_rts, timebound=timebound, return_all=True)\n",
      "\n",
      "    if rtfunc=='quants':\n",
      "        rt=mquantiles(rt, prob=[.1,.3,.5,.7,.9])*10\n",
      "\n",
      "    elif rtfunc=='mquant':\n",
      "        rt=np.mean(mquantiles(rt, prob=[.1,.3,.5,.7,.9]))*10\n",
      "\n",
      "    else:\n",
      "        rt=np.mean(rt)*10\n",
      "    \n",
      "    pstop=1-np.mean(responses)\n",
      "        \n",
      "    return pstop, rt\n"
     ],
     "language": "python",
     "metadata": {},
     "outputs": [],
     "prompt_number": 9
    },
    {
     "cell_type": "code",
     "collapsed": false,
     "input": [
      "def pstop_quants(df, filt_rts=False, quantp=[.1,.3,.5,.7,.9]):\n",
      "    \n",
      "    pstop=1-df.groupby('pGo').mean()['response'].values\n",
      "    \n",
      "    if filt_rts:\n",
      "        godf=df.query('choice==\"go\" and rt<=.5451')\n",
      "    else:\n",
      "        godf=df.query('choice==\"go\"')\n",
      "        \n",
      "    rtquants=[mquantiles(pgdf.rt.values, prob=quantp)*10 for pg, pgdf in godf.groupby('pGo')]\n",
      "    \n",
      "    return pstop, rtquants"
     ],
     "language": "python",
     "metadata": {},
     "outputs": [],
     "prompt_number": 8
    },
    {
     "cell_type": "code",
     "collapsed": false,
     "input": [
      "def pstop_mquant(df, filt_rts=True, quantp=[.1,.3,.5,.7,.9]):\n",
      "    \n",
      "    pstop=1-df.groupby('pGo').mean()['response'].values\n",
      "    \n",
      "    if filt_rts:\n",
      "        godf=df.query('choice==\"go\" and rt<=.5451')\n",
      "    else:\n",
      "        godf=df.query('choice==\"go\"')\n",
      "        \n",
      "    mquant=[np.mean(mquantiles(pgdf.rt.values, prob=quantp))*10 for pg, pgdf in godf.groupby('pGo')]\n",
      "    \n",
      "    return pstop, mquant"
     ],
     "language": "python",
     "metadata": {},
     "outputs": [],
     "prompt_number": 7
    },
    {
     "cell_type": "code",
     "collapsed": false,
     "input": [],
     "language": "python",
     "metadata": {},
     "outputs": []
    }
   ],
   "metadata": {}
  }
 ]
}