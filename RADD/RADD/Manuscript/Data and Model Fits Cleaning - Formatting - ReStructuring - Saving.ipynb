{
 "metadata": {
  "name": "",
  "signature": "sha256:efcc2906fde16141fdc91937e051e9fe780d6efe9bd0bd0311f0ab1ef44e68bd"
 },
 "nbformat": 3,
 "nbformat_minor": 0,
 "worksheets": [
  {
   "cells": [
    {
     "cell_type": "code",
     "collapsed": false,
     "input": [
      "bsl=pd.read_csv(\"/home/kyle/Desktop/Reactive/BSL/ReBSL_Data.csv\")\n",
      "pnl=pd.read_csv(\"/home/kyle/Desktop/Reactive/PNL/RePNL_Data.csv\")"
     ],
     "language": "python",
     "metadata": {},
     "outputs": [],
     "prompt_number": 1
    },
    {
     "cell_type": "code",
     "collapsed": false,
     "input": [
      "bsldf_cor=bsl.query(\"acc==1&trial_type=='go'\")\n",
      "pnl_cor=pnl.query(\"acc==1&trial_type=='go'\")"
     ],
     "language": "python",
     "metadata": {},
     "outputs": []
    },
    {
     "cell_type": "code",
     "collapsed": false,
     "input": [
      "x=bsl_cor.pivot_table('rt', 'idx')\n",
      "x.head()"
     ],
     "language": "python",
     "metadata": {},
     "outputs": [
      {
       "metadata": {},
       "output_type": "pyout",
       "prompt_number": 23,
       "text": [
        "idx\n",
        "28     0.55037\n",
        "29     0.56221\n",
        "30     0.58927\n",
        "31     0.56155\n",
        "32     0.58443\n",
        "Name: rt, dtype: float64"
       ]
      }
     ],
     "prompt_number": 23
    },
    {
     "cell_type": "code",
     "collapsed": false,
     "input": [
      "x.rename(columns={1000:\"rt\"}, axis=1, inplace=True)\n",
      "x.head()"
     ],
     "language": "python",
     "metadata": {},
     "outputs": [
      {
       "html": [
        "<div style=\"max-height:1000px;max-width:1500px;overflow:auto;\">\n",
        "<table border=\"1\" class=\"dataframe\">\n",
        "  <thead>\n",
        "    <tr style=\"text-align: right;\">\n",
        "      <th>ssd</th>\n",
        "      <th>rt</th>\n",
        "    </tr>\n",
        "    <tr>\n",
        "      <th>idx</th>\n",
        "      <th></th>\n",
        "    </tr>\n",
        "  </thead>\n",
        "  <tbody>\n",
        "    <tr>\n",
        "      <th>28</th>\n",
        "      <td> 0.55037</td>\n",
        "    </tr>\n",
        "    <tr>\n",
        "      <th>29</th>\n",
        "      <td> 0.56221</td>\n",
        "    </tr>\n",
        "    <tr>\n",
        "      <th>30</th>\n",
        "      <td> 0.58927</td>\n",
        "    </tr>\n",
        "    <tr>\n",
        "      <th>31</th>\n",
        "      <td> 0.56155</td>\n",
        "    </tr>\n",
        "    <tr>\n",
        "      <th>32</th>\n",
        "      <td> 0.58443</td>\n",
        "    </tr>\n",
        "  </tbody>\n",
        "</table>\n",
        "</div>"
       ],
       "metadata": {},
       "output_type": "pyout",
       "prompt_number": 22,
       "text": [
        "ssd       rt\n",
        "idx         \n",
        "28   0.55037\n",
        "29   0.56221\n",
        "30   0.58927\n",
        "31   0.56155\n",
        "32   0.58443"
       ]
      }
     ],
     "prompt_number": 22
    },
    {
     "cell_type": "code",
     "collapsed": false,
     "input": [
      "task=['BSL', 'PNL']\n",
      "for i, df in enumerate([bsl, pnl]):\n",
      "    \n",
      "    df_cor=df.query(\"acc==1&trial_type=='go'\")\n",
      "    df_rt_idx=df_cor.pivot_table('rt', 'idx', 'ssd')\n",
      "    df_rt_idx.rename(columns={1000:\"rt\"}, axis=1, inplace=True)\n",
      "    \n",
      "    df_stops=df.query(\"trial_type=='stop'\")\n",
      "    df_sacc_idx=df_stops.pivot_table('acc', 'idx', 'ssd')\n",
      "    \n",
      "    df_rt_idx.to_csv(\"/home/kyle/Desktop/Reactive/\"+task[i]+'/'+task[i]+\"_rt.csv\")\n",
      "    df_sacc_idx.to_csv(\"/home/kyle/Desktop/Reactive/\"+task[i]+'/'+task[i]+\"_sacc.csv\")\n",
      "    \n",
      "    df_rt_idx.to_csv(\"/home/kyle/Desktop/Idx_Data/\"+task[i]+\"_rt.csv\")\n",
      "    df_sacc_idx.to_csv(\"/home/kyle/Desktop/Idx_Data/\"+task[i]+\"_sacc.csv\")"
     ],
     "language": "python",
     "metadata": {},
     "outputs": [],
     "prompt_number": 25
    },
    {
     "cell_type": "code",
     "collapsed": false,
     "input": [
      "bootdf=bsl.copy()\n",
      "\n",
      "mrt=bootdf[(bootdf['acc']==1)&(bootdf['response']==1)].groupby('ssd').sem()['rt'].mean()*10"
     ],
     "language": "python",
     "metadata": {},
     "outputs": [],
     "prompt_number": 16
    },
    {
     "cell_type": "code",
     "collapsed": false,
     "input": [
      "p=\"/home/kyle/Desktop/\"\n",
      "os.chdir(p+'Idx_Fits')"
     ],
     "language": "python",
     "metadata": {},
     "outputs": [],
     "prompt_number": 27
    },
    {
     "cell_type": "code",
     "collapsed": false,
     "input": [
      "pro_fits=pd.read_csv(p+\"Proactive/IdxPred/ProAll_AllSxFits.csv\")\n",
      "pro_fits.drop('Unnamed: 0', axis=1, inplace=True)"
     ],
     "language": "python",
     "metadata": {},
     "outputs": [],
     "prompt_number": 42
    },
    {
     "cell_type": "code",
     "collapsed": false,
     "input": [
      "pro_pstop_fits=pro_fits.pivot_table('pstop_radd', 'subj_idx', 'pGo').reset_index()\n",
      "pro_pstop_fits.rename(columns={'subj_idx':'idx'}, axis=1, inplace=True)\n",
      "idx=pro_pstop_fits.idx.astype(int)\n",
      "pro_pstop_fits['idx']=idx\n",
      "pro_pstop_fits.to_csv(\"pro_idx_pstop_fits.csv\", index=False)"
     ],
     "language": "python",
     "metadata": {},
     "outputs": [],
     "prompt_number": 52
    },
    {
     "cell_type": "code",
     "collapsed": false,
     "input": [
      "pro_rt_fits=pro_fits.pivot_table('rt_radd', 'subj_idx', 'pGo').reset_index()\n"
     ],
     "language": "python",
     "metadata": {},
     "outputs": [],
     "prompt_number": 53
    },
    {
     "cell_type": "code",
     "collapsed": false,
     "input": [
      "pro_rt_fits.rename(columns={'subj_idx':'idx'}, axis=1, inplace=True)\n",
      "pro_rt_fits.to_csv(\"pro_idx_rt_fits.csv\", index=False)"
     ],
     "language": "python",
     "metadata": {},
     "outputs": [],
     "prompt_number": 56
    },
    {
     "cell_type": "code",
     "collapsed": false,
     "input": [
      "bsl_fits=pd.read_csv(p+\"Reactive/BSL/IdxPred/RADD/rebsl_v_allsx_fits.csv\", index_col=0)\n",
      "#bsl_fits.rename(columns={'subj_idx':'idx'}, axis=1, inplace=True)\n",
      "#bsl_fits.to_csv(p+\"Reactive/BSL/IdxPred/Drift/rebsl_v_allsx_fits.csv\", index_col=0)\n",
      "pnl_fits=pd.read_csv(p+\"Reactive/PNL/IdxPred/RADD/repnl_v_allsx_fits.csv\", index_col=0)\n",
      "pnl_fits.rename(columns={'subj_idx':'idx'}, axis=1, inplace=True)\n",
      "pnl_fits.to_csv(p+\"Reactive/PNL/IdxPred/Drift/repnl_v_allsx_fits.csv\", index_col=0)"
     ],
     "language": "python",
     "metadata": {},
     "outputs": [],
     "prompt_number": 80
    },
    {
     "cell_type": "code",
     "collapsed": false,
     "input": [
      "bsl_pred=bsl_fits.pivot_table('yhat', 'idx', 'ssdlist')\n",
      "pnl_pred=pnl_fits.pivot_table('yhat', 'idx', 'ssdlist')\n",
      "\n",
      "bslpredrt=bsl_pred.rt\n",
      "pnlpredrt=pnl_pred.rt\n",
      "\n",
      "bslpredsacc=bsl_pred.iloc[:,:-1]\n",
      "pnlpredsacc=pnl_pred.iloc[:,:-1]"
     ],
     "language": "python",
     "metadata": {},
     "outputs": [],
     "prompt_number": 81
    },
    {
     "cell_type": "code",
     "collapsed": false,
     "input": [
      "bslpredrt.to_csv(\"bsl_idx_rt_fits.csv\")\n",
      "pnlpredrt.to_csv(\"pnl_idx_rt_fits.csv\")\n",
      "bslpredsacc.to_csv(\"bsl_idx_sacc_fits.csv\")\n",
      "pnlpredsacc.to_csv(\"pnl_idx_sacc_fits.csv\")"
     ],
     "language": "python",
     "metadata": {},
     "outputs": [],
     "prompt_number": 82
    },
    {
     "cell_type": "code",
     "collapsed": false,
     "input": [
      "bsl_tr=pd.read_csv(p+\"Reactive/BSL/IdxPred/Onset/rebsl_tr_allsx_fits.csv\", index_col=0)\n",
      "pnl_tr=pd.read_csv(p+\"Reactive/PNL/IdxPred/Onset/repnl_tr_allsx_fits.csv\", index_col=0)\n",
      "\n",
      "bsl_pred=bsl_tr.pivot_table('yhat', 'idx', 'ssdlist')\n",
      "pnl_pred=pnl_tr.pivot_table('yhat', 'idx', 'ssdlist')\n",
      "\n",
      "bslpredrt=bsl_pred.rt\n",
      "pnlpredrt=pnl_pred.rt\n",
      "\n",
      "bslpredsacc=bsl_pred.iloc[:,:-1]\n",
      "pnlpredsacc=pnl_pred.iloc[:,:-1]"
     ],
     "language": "python",
     "metadata": {},
     "outputs": [],
     "prompt_number": 133
    },
    {
     "cell_type": "code",
     "collapsed": false,
     "input": [
      "bslpredsacc.mean()"
     ],
     "language": "python",
     "metadata": {},
     "outputs": [
      {
       "metadata": {},
       "output_type": "pyout",
       "prompt_number": 132,
       "text": [
        "ssdlist\n",
        "200        0.99887\n",
        "250        0.99116\n",
        "300        0.91362\n",
        "350        0.49308\n",
        "400        0.11430\n",
        "dtype: float64"
       ]
      }
     ],
     "prompt_number": 132
    },
    {
     "cell_type": "code",
     "collapsed": false,
     "input": [
      "bslpredrt.to_csv(\"bsl_idx_rt_fits_onset.csv\")\n",
      "pnlpredrt.to_csv(\"pnl_idx_rt_fits_onset.csv\")\n",
      "bslpredsacc.to_csv(\"bsl_idx_sacc_fits_onset.csv\")\n",
      "pnlpredsacc.to_csv(\"pnl_idx_sacc_fits_onset.csv\")"
     ],
     "language": "python",
     "metadata": {},
     "outputs": [],
     "prompt_number": 134
    },
    {
     "cell_type": "code",
     "collapsed": false,
     "input": [
      "os.chdir(p+'Boot_Fits')"
     ],
     "language": "python",
     "metadata": {},
     "outputs": [],
     "prompt_number": 125
    },
    {
     "cell_type": "code",
     "collapsed": false,
     "input": [
      "%pwd"
     ],
     "language": "python",
     "metadata": {},
     "outputs": [
      {
       "metadata": {},
       "output_type": "pyout",
       "prompt_number": 135,
       "text": [
        "u'/home/kyle/Desktop/QuickAccess/Boot_Fits'"
       ]
      }
     ],
     "prompt_number": 135
    },
    {
     "cell_type": "code",
     "collapsed": false,
     "input": [
      "fpaths=[p+'Reactive/BSL/BootPred/RADD/rwr_rebsl_fits_radd.csv', p+'Reactive/PNL/BootPred/RADD/subsample_reboot_yhat_pnl.csv']\n",
      "task=['bsl', 'pnl']\n",
      "for i, dfi in enumerate(fpaths):\n",
      "    df=pd.read_csv(dfi)\n",
      "    \n",
      "    df_sacc=df.iloc[:,:-1]\n",
      "    df_rt=pd.DataFrame({'rt':df.rt, 'n':df.index.values})\n",
      "    \n",
      "    df_sacc.to_csv(task[i]+\"_rwr_sacc_fits_radd.csv\", index=False)\n",
      "    df_rt.to_csv(task[i]+\"_rwr_rt_fits_radd.csv\", index=False)"
     ],
     "language": "python",
     "metadata": {},
     "outputs": [],
     "prompt_number": 126
    },
    {
     "cell_type": "code",
     "collapsed": false,
     "input": [
      "fpaths=[p+'Reactive/BSL/BootPred/IPB/rwr_rebsl_fits_ipb.csv', p+'Reactive/BSL/BootPred/IPA/rwr_rebsl_fits_ipa.csv']\n",
      "altm=['ipb', 'ipa']\n",
      "for i, dfi in enumerate(fpaths):\n",
      "    df=pd.read_csv(dfi)\n",
      "    \n",
      "    df_sacc=df.iloc[:,:-1]\n",
      "    df_rt=pd.DataFrame({'rt':df.rt, 'n':df.index.values})\n",
      "    \n",
      "    df_sacc.to_csv(\"bsl_rwr_sacc_fits_\"+altm[i]+\".csv\", index=False)\n",
      "    df_rt.to_csv(\"bsl_rwr_rt_fits_\"+altm[i]+\".csv\", index=False)"
     ],
     "language": "python",
     "metadata": {},
     "outputs": [],
     "prompt_number": 127
    },
    {
     "cell_type": "code",
     "collapsed": false,
     "input": [
      "os.chdir(p+'Boot_Params')"
     ],
     "language": "python",
     "metadata": {},
     "outputs": [],
     "prompt_number": 96
    },
    {
     "cell_type": "code",
     "collapsed": false,
     "input": [
      "fpaths=[p+'Reactive/BSL/BootParams/RADD/rwr_rebsl_popt_radd.csv', p+'Reactive/BSL/BootParams/IPA/rwr_rebsl_popt_ipa.csv', p+'Reactive/BSL/BootParams/IPB/rwr_rebsl_popt_ipb.csv']\n",
      "\n",
      "model=['radd', 'ipa', 'ipb']\n",
      "for i, dfi in enumerate(fpaths):\n",
      "    df=pd.read_csv(dfi, index_col=0)\n",
      "    df['n']=[np.ones(len(ssdlist))*i for i in xrange(10)\n",
      "    df.to_csv(\"bsl_rwr_popt_\"+model[i]+\".csv\", index=False)\n",
      "    "
     ],
     "language": "python",
     "metadata": {},
     "outputs": [],
     "prompt_number": 97
    },
    {
     "cell_type": "code",
     "collapsed": false,
     "input": [
      "ssdlist=np.arange(200, 450, 50)\n",
      "df['ssd']=np.array(ssdlist.tolist()*30).flatten()\n",
      "df['n']=np.array([np.ones(len(ssdlist))*i for i in xrange(30)]).flatten()"
     ],
     "language": "python",
     "metadata": {},
     "outputs": [],
     "prompt_number": 114
    }
   ],
   "metadata": {}
  }
 ]
}