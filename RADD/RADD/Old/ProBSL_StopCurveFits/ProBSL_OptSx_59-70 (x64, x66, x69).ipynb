{
 "metadata": {
  "name": "",
  "signature": "sha256:78c7ee4fd363cdefa4daf872d34b75affb2112f0786a2652cd4bec0a7e8b249a"
 },
 "nbformat": 3,
 "nbformat_minor": 0,
 "worksheets": [
  {
   "cells": [
    {
     "cell_type": "code",
     "collapsed": false,
     "input": [
      "from __future__ import division\n",
      "import pandas as pd\n",
      "from radd import utils, simfx, ss, qsim, opt, psy, hd\n",
      "import os\n",
      "import seaborn as sns"
     ],
     "language": "python",
     "metadata": {},
     "outputs": [],
     "prompt_number": 1
    },
    {
     "cell_type": "code",
     "collapsed": false,
     "input": [
      "pth=utils.find_path()\n",
      "data=pd.read_csv(pth+\"Proactive/Pro_AllSx_tb550.csv\")"
     ],
     "language": "python",
     "metadata": {},
     "outputs": [],
     "prompt_number": 2
    },
    {
     "cell_type": "code",
     "collapsed": false,
     "input": [
      "bsl_data=data[data.Cond=='bsl']\n",
      "paramdf=pd.read_csv(pth+\"fullRaDD/ReBSL/kdfitted_sxparameters.csv\", index_col='subj_idx')\n",
      "paramdf['subj_idx']=paramdf.index.values\n",
      "paramdf.index=np.arange(len(paramdf))\n",
      "\n",
      "sxparams1=paramdf.iloc[:9,:]\n",
      "sxparams2=paramdf.iloc[9:18,:]\n",
      "sxparams3=paramdf.iloc[18:27,:]\n",
      "\n",
      "sxparams4=paramdf.iloc[27:36,:]\n",
      "sxparams5=paramdf.iloc[36:45,:]\n",
      "sxparams6=paramdf.iloc[45:,:]\n"
     ],
     "language": "python",
     "metadata": {},
     "outputs": [],
     "prompt_number": 14
    },
    {
     "cell_type": "code",
     "collapsed": false,
     "input": [
      "ss=reload(ss); opt=reload(opt);ss=reload(ss); opt=reload(opt);\n",
      "\n",
      "sxdata4=bsl_data[bsl_data['subj_idx'].isin(sxparams4.subj_idx.unique())]\n",
      "sxdata4.subj_idx.unique()"
     ],
     "language": "python",
     "metadata": {},
     "outputs": [
      {
       "metadata": {},
       "output_type": "pyout",
       "prompt_number": 15,
       "text": [
        "array([59, 60, 61, 62, 63, 65, 67, 68, 70])"
       ]
      }
     ],
     "prompt_number": 15
    },
    {
     "cell_type": "markdown",
     "metadata": {},
     "source": [
      "* sx 59-61 successfully finshed\n",
      "* got hung up on 62 (need to refit)\n",
      "* restarted from Sx63\n",
      "* sx 63-70 finished successfully"
     ]
    },
    {
     "cell_type": "code",
     "collapsed": false,
     "input": [
      "sxparams4=paramdf.iloc[31:36,:]\n",
      "sxparams4\n"
     ],
     "language": "python",
     "metadata": {},
     "outputs": [
      {
       "html": [
        "<div style=\"max-height:1000px;max-width:1500px;overflow:auto;\">\n",
        "<table border=\"1\" class=\"dataframe\">\n",
        "  <thead>\n",
        "    <tr style=\"text-align: right;\">\n",
        "      <th></th>\n",
        "      <th>Ter</th>\n",
        "      <th>a</th>\n",
        "      <th>mu_ss</th>\n",
        "      <th>v</th>\n",
        "      <th>z</th>\n",
        "      <th>sv</th>\n",
        "      <th>subj_idx</th>\n",
        "    </tr>\n",
        "  </thead>\n",
        "  <tbody>\n",
        "    <tr>\n",
        "      <th>31</th>\n",
        "      <td> 0.219936</td>\n",
        "      <td> 0.576809</td>\n",
        "      <td> 1.765294</td>\n",
        "      <td> 1.798012</td>\n",
        "      <td> 0.104962</td>\n",
        "      <td> 0.154359</td>\n",
        "      <td> 63</td>\n",
        "    </tr>\n",
        "    <tr>\n",
        "      <th>32</th>\n",
        "      <td> 0.198668</td>\n",
        "      <td> 0.556533</td>\n",
        "      <td> 1.471035</td>\n",
        "      <td> 1.346542</td>\n",
        "      <td> 0.094123</td>\n",
        "      <td> 0.160119</td>\n",
        "      <td> 65</td>\n",
        "    </tr>\n",
        "    <tr>\n",
        "      <th>33</th>\n",
        "      <td> 0.235552</td>\n",
        "      <td> 0.519335</td>\n",
        "      <td> 1.485260</td>\n",
        "      <td> 1.071883</td>\n",
        "      <td> 0.162196</td>\n",
        "      <td> 0.185738</td>\n",
        "      <td> 67</td>\n",
        "    </tr>\n",
        "    <tr>\n",
        "      <th>34</th>\n",
        "      <td> 0.286779</td>\n",
        "      <td> 0.407060</td>\n",
        "      <td> 0.655981</td>\n",
        "      <td> 0.814063</td>\n",
        "      <td> 0.159748</td>\n",
        "      <td> 0.244785</td>\n",
        "      <td> 68</td>\n",
        "    </tr>\n",
        "    <tr>\n",
        "      <th>35</th>\n",
        "      <td> 0.341465</td>\n",
        "      <td> 0.428827</td>\n",
        "      <td> 0.783618</td>\n",
        "      <td> 1.093736</td>\n",
        "      <td> 0.150106</td>\n",
        "      <td> 0.238497</td>\n",
        "      <td> 70</td>\n",
        "    </tr>\n",
        "  </tbody>\n",
        "</table>\n",
        "</div>"
       ],
       "metadata": {},
       "output_type": "pyout",
       "prompt_number": 17,
       "text": [
        "         Ter         a     mu_ss         v         z        sv  subj_idx\n",
        "31  0.219936  0.576809  1.765294  1.798012  0.104962  0.154359        63\n",
        "32  0.198668  0.556533  1.471035  1.346542  0.094123  0.160119        65\n",
        "33  0.235552  0.519335  1.485260  1.071883  0.162196  0.185738        67\n",
        "34  0.286779  0.407060  0.655981  0.814063  0.159748  0.244785        68\n",
        "35  0.341465  0.428827  0.783618  1.093736  0.150106  0.238497        70"
       ]
      }
     ],
     "prompt_number": 17
    },
    {
     "cell_type": "code",
     "collapsed": true,
     "input": [
      "opt.opt_sx_proactive(sxdata4, sxparams4, nsims=500)"
     ],
     "language": "python",
     "metadata": {},
     "outputs": [
      {
       "html": [
        "\n",
        "\t    <div style=\"border: 1px solid black; width:500px\">\n",
        "\t    <div id=\"fe54dfa4-79dd-404f-90ae-28d020871ff6\" style=\"background-color:#4168B7; width:0%\">&nbsp;</div>\n",
        "\t    </div> \n",
        "\t    "
       ],
       "metadata": {},
       "output_type": "display_data",
       "text": [
        "<IPython.core.display.HTML at 0x7f82b26e0d90>"
       ]
      },
      {
       "output_type": "stream",
       "stream": "stdout",
       "text": [
        "Subject 63 P(Go=0.0): Converged\n"
       ]
      },
      {
       "javascript": [
        "$('div#fe54dfa4-79dd-404f-90ae-28d020871ff6').width('3.33%')"
       ],
       "metadata": {},
       "output_type": "display_data",
       "text": [
        "<IPython.core.display.Javascript at 0x7f82b1e33e10>"
       ]
      },
      {
       "output_type": "stream",
       "stream": "stdout",
       "text": [
        "Subject 63 P(Go=0.2): Converged\n"
       ]
      },
      {
       "javascript": [
        "$('div#fe54dfa4-79dd-404f-90ae-28d020871ff6').width('6.67%')"
       ],
       "metadata": {},
       "output_type": "display_data",
       "text": [
        "<IPython.core.display.Javascript at 0x7f82b1f20310>"
       ]
      },
      {
       "output_type": "stream",
       "stream": "stdout",
       "text": [
        "Subject 63 P(Go=0.4): Converged\n"
       ]
      },
      {
       "javascript": [
        "$('div#fe54dfa4-79dd-404f-90ae-28d020871ff6').width('10.00%')"
       ],
       "metadata": {},
       "output_type": "display_data",
       "text": [
        "<IPython.core.display.Javascript at 0x7f82b1f20510>"
       ]
      },
      {
       "output_type": "stream",
       "stream": "stdout",
       "text": [
        "Subject 63 P(Go=0.6): Converged\n"
       ]
      },
      {
       "javascript": [
        "$('div#fe54dfa4-79dd-404f-90ae-28d020871ff6').width('13.33%')"
       ],
       "metadata": {},
       "output_type": "display_data",
       "text": [
        "<IPython.core.display.Javascript at 0x7f82b1e9a6d0>"
       ]
      },
      {
       "output_type": "stream",
       "stream": "stdout",
       "text": [
        "Subject 63 P(Go=0.8): Converged\n"
       ]
      },
      {
       "javascript": [
        "$('div#fe54dfa4-79dd-404f-90ae-28d020871ff6').width('16.67%')"
       ],
       "metadata": {},
       "output_type": "display_data",
       "text": [
        "<IPython.core.display.Javascript at 0x7f82b1ea4c50>"
       ]
      },
      {
       "output_type": "stream",
       "stream": "stdout",
       "text": [
        "Subject 63 P(Go=1.0): Converged\n"
       ]
      },
      {
       "javascript": [
        "$('div#fe54dfa4-79dd-404f-90ae-28d020871ff6').width('20.00%')"
       ],
       "metadata": {},
       "output_type": "display_data",
       "text": [
        "<IPython.core.display.Javascript at 0x7f82b1dba6d0>"
       ]
      },
      {
       "output_type": "stream",
       "stream": "stdout",
       "text": [
        "----------------------------------------------------------------------------------------------------\n",
        "Subject 65 P(Go=0.0): Converged"
       ]
      },
      {
       "output_type": "stream",
       "stream": "stdout",
       "text": [
        "\n"
       ]
      },
      {
       "javascript": [
        "$('div#fe54dfa4-79dd-404f-90ae-28d020871ff6').width('23.33%')"
       ],
       "metadata": {},
       "output_type": "display_data",
       "text": [
        "<IPython.core.display.Javascript at 0x7f82b2140a10>"
       ]
      },
      {
       "output_type": "stream",
       "stream": "stdout",
       "text": [
        "Subject 65 P(Go=0.2): Converged\n"
       ]
      },
      {
       "javascript": [
        "$('div#fe54dfa4-79dd-404f-90ae-28d020871ff6').width('26.67%')"
       ],
       "metadata": {},
       "output_type": "display_data",
       "text": [
        "<IPython.core.display.Javascript at 0x7f82b213f590>"
       ]
      },
      {
       "output_type": "stream",
       "stream": "stdout",
       "text": [
        "Subject 65 P(Go=0.4): Converged\n"
       ]
      },
      {
       "javascript": [
        "$('div#fe54dfa4-79dd-404f-90ae-28d020871ff6').width('30.00%')"
       ],
       "metadata": {},
       "output_type": "display_data",
       "text": [
        "<IPython.core.display.Javascript at 0x7f82b2034c90>"
       ]
      },
      {
       "output_type": "stream",
       "stream": "stdout",
       "text": [
        "Subject 65 P(Go=0.6): Converged\n"
       ]
      },
      {
       "javascript": [
        "$('div#fe54dfa4-79dd-404f-90ae-28d020871ff6').width('33.33%')"
       ],
       "metadata": {},
       "output_type": "display_data",
       "text": [
        "<IPython.core.display.Javascript at 0x7f82b1dd3fd0>"
       ]
      },
      {
       "output_type": "stream",
       "stream": "stdout",
       "text": [
        "Subject 65 P(Go=0.8): Converged\n"
       ]
      },
      {
       "javascript": [
        "$('div#fe54dfa4-79dd-404f-90ae-28d020871ff6').width('36.67%')"
       ],
       "metadata": {},
       "output_type": "display_data",
       "text": [
        "<IPython.core.display.Javascript at 0x7f82b1dd32d0>"
       ]
      },
      {
       "output_type": "stream",
       "stream": "stdout",
       "text": [
        "Subject 65 P(Go=1.0): Converged\n"
       ]
      },
      {
       "javascript": [
        "$('div#fe54dfa4-79dd-404f-90ae-28d020871ff6').width('40.00%')"
       ],
       "metadata": {},
       "output_type": "display_data",
       "text": [
        "<IPython.core.display.Javascript at 0x7f82b1e16310>"
       ]
      },
      {
       "output_type": "stream",
       "stream": "stdout",
       "text": [
        "----------------------------------------------------------------------------------------------------\n",
        "Subject 67 P(Go=0.0): Converged"
       ]
      },
      {
       "output_type": "stream",
       "stream": "stdout",
       "text": [
        "\n"
       ]
      },
      {
       "javascript": [
        "$('div#fe54dfa4-79dd-404f-90ae-28d020871ff6').width('43.33%')"
       ],
       "metadata": {},
       "output_type": "display_data",
       "text": [
        "<IPython.core.display.Javascript at 0x7f82b1dbe910>"
       ]
      },
      {
       "output_type": "stream",
       "stream": "stdout",
       "text": [
        "Subject 67 P(Go=0.2): Converged\n"
       ]
      },
      {
       "javascript": [
        "$('div#fe54dfa4-79dd-404f-90ae-28d020871ff6').width('46.67%')"
       ],
       "metadata": {},
       "output_type": "display_data",
       "text": [
        "<IPython.core.display.Javascript at 0x7f82b210f1d0>"
       ]
      },
      {
       "output_type": "stream",
       "stream": "stdout",
       "text": [
        "Subject 67 P(Go=0.4): Converged\n"
       ]
      },
      {
       "javascript": [
        "$('div#fe54dfa4-79dd-404f-90ae-28d020871ff6').width('50.00%')"
       ],
       "metadata": {},
       "output_type": "display_data",
       "text": [
        "<IPython.core.display.Javascript at 0x7f82b1eca910>"
       ]
      },
      {
       "output_type": "stream",
       "stream": "stdout",
       "text": [
        "Subject 67 P(Go=0.6): Converged\n"
       ]
      },
      {
       "javascript": [
        "$('div#fe54dfa4-79dd-404f-90ae-28d020871ff6').width('53.33%')"
       ],
       "metadata": {},
       "output_type": "display_data",
       "text": [
        "<IPython.core.display.Javascript at 0x7f82b1ecaf10>"
       ]
      },
      {
       "output_type": "stream",
       "stream": "stdout",
       "text": [
        "Subject 67 P(Go=0.8): Converged\n"
       ]
      },
      {
       "javascript": [
        "$('div#fe54dfa4-79dd-404f-90ae-28d020871ff6').width('56.67%')"
       ],
       "metadata": {},
       "output_type": "display_data",
       "text": [
        "<IPython.core.display.Javascript at 0x7f82b2027090>"
       ]
      },
      {
       "output_type": "stream",
       "stream": "stdout",
       "text": [
        "Subject 67 P(Go=1.0): Converged\n"
       ]
      },
      {
       "javascript": [
        "$('div#fe54dfa4-79dd-404f-90ae-28d020871ff6').width('60.00%')"
       ],
       "metadata": {},
       "output_type": "display_data",
       "text": [
        "<IPython.core.display.Javascript at 0x7f82b2027d90>"
       ]
      },
      {
       "output_type": "stream",
       "stream": "stdout",
       "text": [
        "----------------------------------------------------------------------------------------------------\n",
        "Subject 68 P(Go=0.0): Converged"
       ]
      },
      {
       "output_type": "stream",
       "stream": "stdout",
       "text": [
        "\n"
       ]
      },
      {
       "javascript": [
        "$('div#fe54dfa4-79dd-404f-90ae-28d020871ff6').width('63.33%')"
       ],
       "metadata": {},
       "output_type": "display_data",
       "text": [
        "<IPython.core.display.Javascript at 0x7f82b1efbed0>"
       ]
      },
      {
       "output_type": "stream",
       "stream": "stdout",
       "text": [
        "Subject 68 P(Go=0.2): Converged\n"
       ]
      },
      {
       "javascript": [
        "$('div#fe54dfa4-79dd-404f-90ae-28d020871ff6').width('66.67%')"
       ],
       "metadata": {},
       "output_type": "display_data",
       "text": [
        "<IPython.core.display.Javascript at 0x7f82b1e14f10>"
       ]
      },
      {
       "output_type": "stream",
       "stream": "stdout",
       "text": [
        "Subject 68 P(Go=0.4): Converged\n"
       ]
      },
      {
       "javascript": [
        "$('div#fe54dfa4-79dd-404f-90ae-28d020871ff6').width('70.00%')"
       ],
       "metadata": {},
       "output_type": "display_data",
       "text": [
        "<IPython.core.display.Javascript at 0x7f82b1e1b5d0>"
       ]
      },
      {
       "output_type": "stream",
       "stream": "stdout",
       "text": [
        "Subject 68 P(Go=0.6): Converged\n"
       ]
      },
      {
       "javascript": [
        "$('div#fe54dfa4-79dd-404f-90ae-28d020871ff6').width('73.33%')"
       ],
       "metadata": {},
       "output_type": "display_data",
       "text": [
        "<IPython.core.display.Javascript at 0x7f82b1eb3890>"
       ]
      },
      {
       "output_type": "stream",
       "stream": "stdout",
       "text": [
        "Subject 68 P(Go=0.8): Converged\n"
       ]
      },
      {
       "javascript": [
        "$('div#fe54dfa4-79dd-404f-90ae-28d020871ff6').width('76.67%')"
       ],
       "metadata": {},
       "output_type": "display_data",
       "text": [
        "<IPython.core.display.Javascript at 0x7f82b26e23d0>"
       ]
      },
      {
       "output_type": "stream",
       "stream": "stdout",
       "text": [
        "Subject 68 P(Go=1.0): Converged\n"
       ]
      },
      {
       "javascript": [
        "$('div#fe54dfa4-79dd-404f-90ae-28d020871ff6').width('80.00%')"
       ],
       "metadata": {},
       "output_type": "display_data",
       "text": [
        "<IPython.core.display.Javascript at 0x7f82b210ff90>"
       ]
      },
      {
       "output_type": "stream",
       "stream": "stdout",
       "text": [
        "----------------------------------------------------------------------------------------------------\n",
        "Subject 70 P(Go=0.0): Converged"
       ]
      },
      {
       "output_type": "stream",
       "stream": "stdout",
       "text": [
        "\n"
       ]
      },
      {
       "javascript": [
        "$('div#fe54dfa4-79dd-404f-90ae-28d020871ff6').width('83.33%')"
       ],
       "metadata": {},
       "output_type": "display_data",
       "text": [
        "<IPython.core.display.Javascript at 0x7f82b20322d0>"
       ]
      },
      {
       "output_type": "stream",
       "stream": "stdout",
       "text": [
        "Subject 70 P(Go=0.2): Converged\n"
       ]
      },
      {
       "javascript": [
        "$('div#fe54dfa4-79dd-404f-90ae-28d020871ff6').width('86.67%')"
       ],
       "metadata": {},
       "output_type": "display_data",
       "text": [
        "<IPython.core.display.Javascript at 0x7f82b20695d0>"
       ]
      },
      {
       "output_type": "stream",
       "stream": "stdout",
       "text": [
        "Subject 70 P(Go=0.4): Converged\n"
       ]
      },
      {
       "javascript": [
        "$('div#fe54dfa4-79dd-404f-90ae-28d020871ff6').width('90.00%')"
       ],
       "metadata": {},
       "output_type": "display_data",
       "text": [
        "<IPython.core.display.Javascript at 0x7f82b1ef8850>"
       ]
      },
      {
       "output_type": "stream",
       "stream": "stdout",
       "text": [
        "Subject 70 P(Go=0.6): Converged\n"
       ]
      },
      {
       "javascript": [
        "$('div#fe54dfa4-79dd-404f-90ae-28d020871ff6').width('93.33%')"
       ],
       "metadata": {},
       "output_type": "display_data",
       "text": [
        "<IPython.core.display.Javascript at 0x7f82b1e19550>"
       ]
      },
      {
       "output_type": "stream",
       "stream": "stdout",
       "text": [
        "Subject 70 P(Go=0.8): Converged\n"
       ]
      },
      {
       "javascript": [
        "$('div#fe54dfa4-79dd-404f-90ae-28d020871ff6').width('96.67%')"
       ],
       "metadata": {},
       "output_type": "display_data",
       "text": [
        "<IPython.core.display.Javascript at 0x7f82b1e2a350>"
       ]
      },
      {
       "output_type": "stream",
       "stream": "stdout",
       "text": [
        "Subject 70 P(Go=1.0): Converged\n"
       ]
      },
      {
       "javascript": [
        "$('div#fe54dfa4-79dd-404f-90ae-28d020871ff6').width('100.00%')"
       ],
       "metadata": {},
       "output_type": "display_data",
       "text": [
        "<IPython.core.display.Javascript at 0x7f82b1db3510>"
       ]
      },
      {
       "output_type": "stream",
       "stream": "stdout",
       "text": [
        "----------------------------------------------------------------------------------------------------\n"
       ]
      }
     ],
     "prompt_number": 13
    }
   ],
   "metadata": {}
  }
 ]
}