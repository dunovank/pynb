{
 "metadata": {
  "name": "",
  "signature": "sha256:0aaa8041060b1350ec1c9cd9e53d8f9be3512f3bba160ef8ee4475abb7995c2e"
 },
 "nbformat": 3,
 "nbformat_minor": 0,
 "worksheets": [
  {
   "cells": [
    {
     "cell_type": "code",
     "collapsed": false,
     "input": [
      "from __future__ import division\n",
      "from radd import utils, predict, fitpro, fitre\n",
      "from pandas import read_csv as csv\n",
      "pth=utils.find_path()\n",
      "fitpath=pth+\"FitFiles/\"\n",
      "parampath=pth+\"ParamFiles/\"\n",
      "outpath=pth+\"FinalFigures/\"\n",
      "    \n",
      "#prosc_data=np.array([ 0.95280437,  0.87844952,  0.66402309,  0.40945818,  0.071913, 0.0066407 ])\n",
      "re_sc = lambda df: df.query(\"trial_type=='stop'\").groupby('ssd').mean()['acc'].values\n",
      "re_rt = lambda df: df.query('acc==1 & choice==\"go\"').groupby('pGo').mean()['rt'].values"
     ],
     "language": "python",
     "metadata": {},
     "outputs": [],
     "prompt_number": 1
    },
    {
     "cell_type": "code",
     "collapsed": false,
     "input": [
      "atheta=csv(parampath+\"rwr_rebsl_popt_ipa.csv\", index_col=0)\n",
      "btheta=csv(parampath+\"rwr_rebsl_popt_ipb.csv\", index_col=0)\n",
      "rtheta=csv(parampath+\"rwr_rebsl_popt_ipb.csv\", index_col=0)\n",
      "\n",
      "params=rtheta.mean().to_dict()"
     ],
     "language": "python",
     "metadata": {},
     "outputs": []
    },
    {
     "cell_type": "code",
     "collapsed": false,
     "input": [
      "alldf, rts, sc=[], [], []\n",
      "params['pGo']=.5\n",
      "ssdlist=np.arange(.2,.45,.05)\n",
      "\n",
      "for i, ssd in enumerate(ssdlist):\n",
      "    \n",
      "    params['ssd']=ssd\n",
      "    \n",
      "    df=fitpro.simulate(params, model='radd', ntrials=2000, return_all=True, bold=True)\n",
      "    \n",
      "    sc.append(re_sc(df))\n",
      "    rts.append(re_rt(df))\n",
      "    alldf.append(df)\n",
      "    \n",
      "resims=pd.concat(alldf)    "
     ],
     "language": "python",
     "metadata": {},
     "outputs": [],
     "prompt_number": 12
    },
    {
     "cell_type": "code",
     "collapsed": false,
     "input": [
      "theta=params.copy()\n",
      "tr=theta['tt']; mu=theta['vv']; \n",
      "a=theta['a']; z=theta['zz']; \n",
      "ssd=theta['ssd']; ssv=-abs(theta['ssv'])\n",
      "\n",
      "thal=resims[['thalamus', 'ssd', 'outcome']]\n",
      "gdf=thal.query(\"outcome == 'g'\")\n",
      "sdf=thal.query(\"outcome == 's'\")\n",
      "\n",
      "gmag=[np.cumsum(np.array(i)-z)[-1] for i in gdf.thalamus.values]\n",
      "smag=[np.cumsum(np.array(i)-z)[-1] for i in sdf.thalamus.values]"
     ],
     "language": "python",
     "metadata": {},
     "outputs": [],
     "prompt_number": 32
    },
    {
     "cell_type": "code",
     "collapsed": false,
     "input": [
      "gdf['mag']=gmag\n",
      "sdf['mag']=smag"
     ],
     "language": "python",
     "metadata": {},
     "outputs": [],
     "prompt_number": 33
    },
    {
     "cell_type": "code",
     "collapsed": false,
     "input": [
      "gbold=gdf.groupby('ssd').mean()['mag']\n",
      "gbold_ci=gdf.groupby('ssd').sem()['mag']*1.96\n",
      "\n",
      "sbold=sdf.groupby('ssd').mean()['mag']\n",
      "sbold_ci=sdf.groupby('ssd').sem()['mag']*1.96"
     ],
     "language": "python",
     "metadata": {},
     "outputs": [],
     "prompt_number": 34
    },
    {
     "cell_type": "code",
     "collapsed": false,
     "input": [
      "xxticklabels=np.array([str(int(i*1000)) for i in ssdlist])\n",
      "xxticklabels[-1]='400'\n",
      "x=np.arange(len(ssdlist))\n",
      "\n",
      "w=.45\n",
      "f, ax1 = plt.subplots(1, figsize=(6.5, 5))\n",
      "\n",
      "ax1.bar(x+w/2, gbold, yerr=gbold_ci, ecolor='k', color=\"#26A65B\", align='center', width=w, label='Go')\n",
      "ax1.bar(x-w/2, sbold, yerr=sbold_ci, ecolor='k', color=\"#db6969\", align='center', width=w, label='Stop')\n",
      "ax1.legend(loc=2, fontsize=24)\n",
      "sns.despine()\n",
      "\n",
      "for ax in f.axes:\n",
      "    ax.set_ylabel('BOLD A.U.',  fontsize=24)\n",
      "\n",
      "plt.setp(f.axes, ylim=(-5, 115), yticklabels=[], xlim=(x[0]-.6, x[-1]+.6), xticks=x)\n",
      "ax1.set_xticklabels(xxticklabels, fontsize=22)\n",
      "ax1.set_xlabel(\"SSD (ms)\", fontsize=24)\n",
      "\n",
      "plt.tight_layout(h_pad=3)\n",
      "\n",
      "f.savefig(outpath+\"re_bold_predictions.png\", format='png', dpi=600)\n",
      "f.savefig(outpath+\"re_bold_predictions.svg\", rasterized=True, format='svg', dpi=600)"
     ],
     "language": "python",
     "metadata": {},
     "outputs": [
      {
       "metadata": {},
       "output_type": "display_data",
       "png": "[encoded data removed]",
       "text": [
        "<matplotlib.figure.Figure at 0x10f8d5790>"
       ]
      }
     ],
     "prompt_number": 39
    },
    {
     "cell_type": "code",
     "collapsed": false,
     "input": [],
     "language": "python",
     "metadata": {},
     "outputs": []
    }
   ],
   "metadata": {}
  }
 ]
}