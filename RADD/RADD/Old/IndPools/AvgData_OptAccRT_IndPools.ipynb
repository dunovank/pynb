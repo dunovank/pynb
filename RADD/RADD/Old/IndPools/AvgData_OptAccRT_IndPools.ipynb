{
 "metadata": {
  "name": "",
  "signature": "sha256:2cb6fd0ef6aa75a184793482767f6ce27b572c7f102fdcc30b0d615a66e23609"
 },
 "nbformat": 3,
 "nbformat_minor": 0,
 "worksheets": [
  {
   "cells": [
    {
     "cell_type": "code",
     "collapsed": false,
     "input": [
      "from __future__ import division\n",
      "import pandas as pd\n",
      "from radd import utils\n",
      "from radd import xopt\n",
      "from lmfit import Parameters, Minimizer"
     ],
     "language": "python",
     "metadata": {},
     "outputs": [],
     "prompt_number": 1
    },
    {
     "cell_type": "heading",
     "level": 1,
     "metadata": {},
     "source": [
      "FLAT RE-BSL DATA INDEPENDENT POOLS FITS "
     ]
    },
    {
     "cell_type": "code",
     "collapsed": false,
     "input": [
      "pth=utils.find_path()\n",
      "\n",
      "#ssRe BSL Data\n",
      "redata_bsl=pd.read_csv(pth+\"DataFiles/ReBSL_Data.csv\", index_col=0)\n",
      "bsl=redata_bsl.copy()\n",
      "bsl.head()"
     ],
     "language": "python",
     "metadata": {},
     "outputs": [
      {
       "html": [
        "<div style=\"max-height:1000px;max-width:1500px;overflow:auto;\">\n",
        "<table border=\"1\" class=\"dataframe\">\n",
        "  <thead>\n",
        "    <tr style=\"text-align: right;\">\n",
        "      <th></th>\n",
        "      <th>subj_idx</th>\n",
        "      <th>GoTrial</th>\n",
        "      <th>StopSignal</th>\n",
        "      <th>Cond</th>\n",
        "      <th>trial_type</th>\n",
        "      <th>choice</th>\n",
        "      <th>response</th>\n",
        "      <th>acc</th>\n",
        "      <th>rt</th>\n",
        "      <th>ssd</th>\n",
        "    </tr>\n",
        "  </thead>\n",
        "  <tbody>\n",
        "    <tr>\n",
        "      <th>0</th>\n",
        "      <td> 28</td>\n",
        "      <td> 1</td>\n",
        "      <td> 1000</td>\n",
        "      <td> bsl</td>\n",
        "      <td> go</td>\n",
        "      <td> go</td>\n",
        "      <td> 1</td>\n",
        "      <td> 1</td>\n",
        "      <td> 0.598535</td>\n",
        "      <td> 1000</td>\n",
        "    </tr>\n",
        "    <tr>\n",
        "      <th>1</th>\n",
        "      <td> 28</td>\n",
        "      <td> 1</td>\n",
        "      <td> 1000</td>\n",
        "      <td> bsl</td>\n",
        "      <td> go</td>\n",
        "      <td> go</td>\n",
        "      <td> 1</td>\n",
        "      <td> 1</td>\n",
        "      <td> 0.520169</td>\n",
        "      <td> 1000</td>\n",
        "    </tr>\n",
        "    <tr>\n",
        "      <th>2</th>\n",
        "      <td> 28</td>\n",
        "      <td> 1</td>\n",
        "      <td> 1000</td>\n",
        "      <td> bsl</td>\n",
        "      <td> go</td>\n",
        "      <td> go</td>\n",
        "      <td> 1</td>\n",
        "      <td> 1</td>\n",
        "      <td> 0.545129</td>\n",
        "      <td> 1000</td>\n",
        "    </tr>\n",
        "    <tr>\n",
        "      <th>3</th>\n",
        "      <td> 28</td>\n",
        "      <td> 1</td>\n",
        "      <td> 1000</td>\n",
        "      <td> bsl</td>\n",
        "      <td> go</td>\n",
        "      <td> go</td>\n",
        "      <td> 1</td>\n",
        "      <td> 1</td>\n",
        "      <td> 0.571587</td>\n",
        "      <td> 1000</td>\n",
        "    </tr>\n",
        "    <tr>\n",
        "      <th>4</th>\n",
        "      <td> 28</td>\n",
        "      <td> 1</td>\n",
        "      <td> 1000</td>\n",
        "      <td> bsl</td>\n",
        "      <td> go</td>\n",
        "      <td> go</td>\n",
        "      <td> 1</td>\n",
        "      <td> 1</td>\n",
        "      <td> 0.505221</td>\n",
        "      <td> 1000</td>\n",
        "    </tr>\n",
        "  </tbody>\n",
        "</table>\n",
        "</div>"
       ],
       "metadata": {},
       "output_type": "pyout",
       "prompt_number": 2,
       "text": [
        "   subj_idx  GoTrial  StopSignal Cond trial_type choice  response  acc  \\\n",
        "0        28        1        1000  bsl         go     go         1    1   \n",
        "1        28        1        1000  bsl         go     go         1    1   \n",
        "2        28        1        1000  bsl         go     go         1    1   \n",
        "3        28        1        1000  bsl         go     go         1    1   \n",
        "4        28        1        1000  bsl         go     go         1    1   \n",
        "\n",
        "         rt   ssd  \n",
        "0  0.598535  1000  \n",
        "1  0.520169  1000  \n",
        "2  0.545129  1000  \n",
        "3  0.571587  1000  \n",
        "4  0.505221  1000  "
       ]
      }
     ],
     "prompt_number": 2
    },
    {
     "cell_type": "code",
     "collapsed": false,
     "input": [
      "gocor=bsl[(bsl['trial_type']=='go')&(bsl['acc']==1)&(bsl['rt']<.650)]\n",
      "rtvec=[sxdf.rt.mean() for sx, sxdf in gocor.groupby('subj_idx')]\n",
      "meanrt=np.mean(rtvec)\n",
      "stops=bsl[bsl['trial_type']=='stop']\n",
      "accpiv=utils.makePivot(stops, cols='ssd', index='subj_idx', values='acc')\n",
      "\n",
      "ydata=list(accpiv.mean())\n",
      "ydata.append(meanrt)\n",
      "ydata=np.array(ydata)"
     ],
     "language": "python",
     "metadata": {},
     "outputs": [],
     "prompt_number": 3
    },
    {
     "cell_type": "code",
     "collapsed": false,
     "input": [
      "paramdf_bsl_ind=pd.read_csv(pth+\"ParamFiles/ReHDDM_Params.csv\", index_col='subj_idx')\n",
      "\n",
      "paramdf_bsl_ind.drop('Cond', axis=1, inplace=True)\n",
      "pdf_ind=paramdf_bsl_ind.copy()\n",
      "del pdf_ind['sv']\n",
      "pinit_ind=pdf_ind.mean()\n",
      "\n",
      "\n",
      "#Change ssv parameter value to\n",
      "#best starting-point for 'ssv' in the\n",
      "#Indpendent pools model (estimated from \n",
      "#early fits to be -0.931945788391)\n",
      "#pinit_ind['ssv']=0.931945788391\n",
      "pinit_ind['ssv']=0.70\n",
      "pinit_ind"
     ],
     "language": "python",
     "metadata": {},
     "outputs": [
      {
       "metadata": {},
       "output_type": "pyout",
       "prompt_number": 24,
       "text": [
        "a      0.434914\n",
        "t      0.306783\n",
        "z      0.147018\n",
        "v      1.100021\n",
        "ssv    0.700000\n",
        "dtype: float64"
       ]
      }
     ],
     "prompt_number": 24
    },
    {
     "cell_type": "code",
     "collapsed": false,
     "input": [
      "popt93=popt\n",
      "p93=p\n",
      "\n",
      "chi93=popt93.chisqr\n",
      "res93=popt93.residual\n",
      "opt_theta93={k:p93[k].value for k in p93.keys()}\n",
      "opt_theta93['chi']=chi93\n",
      "opt_theta93['residuals']=res93\n",
      "print opt_theta93"
     ],
     "language": "python",
     "metadata": {},
     "outputs": [
      {
       "output_type": "stream",
       "stream": "stdout",
       "text": [
        "{'a': 0.40512317922263485, 'chi': 0.019828330467126634, 'ssv': 0.9183275685597827, 't': 0.30657159902952763, 'v': 1.1728216612321987, 'z': 0.15528003624976106, 'residuals': array([-0.00069575, -0.030581  , -0.08937437, -0.00030881,  0.0964816 ,\n",
        "       -0.03995092])}\n"
       ]
      }
     ],
     "prompt_number": 20
    },
    {
     "cell_type": "code",
     "collapsed": false,
     "input": [
      "xopt=reload(xopt)\n",
      "\n",
      "ntrials=5000\n",
      "\n",
      "p=Parameters()\n",
      "\n",
      "p.add('ssv', value=pinit_ind['ssv'], vary=True)\n",
      "p.add('a', value=pinit_ind['a'], min=0.0, vary=True)\n",
      "p.add('v', value=pinit_ind['v'], min=0.0, vary=True)\n",
      "p.add('t', value=pinit_ind['t'], min=0.0, max=.649, vary=True)\n",
      "p.add('z', value=pinit_ind['z'], min=0.0, vary=True)\n",
      "\n",
      "popt70 = Minimizer(xopt.ssre_accrt_minfunc, p, fcn_args=(ntrials, ydata), \n",
      "                 fcn_kws={'depHyper':False}, method='Nelder-Mead') \n",
      "popt70.fmin(maxfun=1000, ftol=5.e-2, xtol=1.e-2, full_output=True, disp=True)"
     ],
     "language": "python",
     "metadata": {},
     "outputs": [
      {
       "output_type": "stream",
       "stream": "stdout",
       "text": [
        "[-0.02630343 -0.0767385  -0.11380316  0.07070722  0.21194305  0.00455526]\n",
        "[-0.0118412  -0.04669221 -0.08033713  0.11004476  0.25267418  0.00490267]"
       ]
      },
      {
       "output_type": "stream",
       "stream": "stdout",
       "text": [
        "\n",
        "[-0.0111637  -0.02722243 -0.01971811  0.22490935  0.37393098  0.02910398]"
       ]
      },
      {
       "output_type": "stream",
       "stream": "stdout",
       "text": [
        "\n",
        "[-0.03917485 -0.10695453 -0.1562633  -0.02627532  0.11288293 -0.00974654]"
       ]
      },
      {
       "output_type": "stream",
       "stream": "stdout",
       "text": [
        "\n",
        "[-0.02713358 -0.07476419 -0.1240663   0.06367768  0.21075779  0.00339134]"
       ]
      },
      {
       "output_type": "stream",
       "stream": "stdout",
       "text": [
        "\n",
        "[-0.06892473 -0.16014838 -0.26598279 -0.10886281  0.07415962 -0.00524942]"
       ]
      },
      {
       "output_type": "stream",
       "stream": "stdout",
       "text": [
        "\n",
        "[-0.08343675 -0.18811161 -0.3263017  -0.20611803 -0.00891643 -0.03608113]"
       ]
      },
      {
       "output_type": "stream",
       "stream": "stdout",
       "text": [
        "\n",
        "[-0.01880958 -0.05297648 -0.06224412  0.13848968  0.28772617  0.01554558]"
       ]
      },
      {
       "output_type": "stream",
       "stream": "stdout",
       "text": [
        "\n",
        "[-0.00795541 -0.02906043 -0.00524538  0.2245079   0.37161083  0.01235718]"
       ]
      },
      {
       "output_type": "stream",
       "stream": "stdout",
       "text": [
        "\n",
        "[-0.0358956  -0.09922253 -0.18170155 -0.00573905  0.14237788 -0.00098287]"
       ]
      },
      {
       "output_type": "stream",
       "stream": "stdout",
       "text": [
        "\n",
        "[-0.03819201 -0.11701781 -0.17975557 -0.04194     0.09388219 -0.01490262]"
       ]
      },
      {
       "output_type": "stream",
       "stream": "stdout",
       "text": [
        "\n",
        "[-0.06515635 -0.16334244 -0.24985133 -0.08768082  0.07121524 -0.01165557]"
       ]
      },
      {
       "output_type": "stream",
       "stream": "stdout",
       "text": [
        "\n",
        "[-0.02820169 -0.07213817 -0.11394245  0.07092581  0.17148169  0.00040364]"
       ]
      },
      {
       "output_type": "stream",
       "stream": "stdout",
       "text": [
        "\n",
        "[-0.04052853 -0.12386572 -0.1933281  -0.05161596  0.08753683 -0.0133926 ]"
       ]
      },
      {
       "output_type": "stream",
       "stream": "stdout",
       "text": [
        "\n",
        "[-0.04821913 -0.11868537 -0.23058649 -0.11361368  0.05745702 -0.0191214 ]"
       ]
      },
      {
       "output_type": "stream",
       "stream": "stdout",
       "text": [
        "\n",
        "[ -3.36672006e-02  -8.17767842e-02  -1.38532876e-01   1.37901200e-02\n",
        "   1.65999157e-01  -1.31635419e-04]"
       ]
      },
      {
       "output_type": "stream",
       "stream": "stdout",
       "text": [
        "\n",
        "[-0.02833454 -0.06791019 -0.11061671  0.06288205  0.21206222  0.00222731]"
       ]
      },
      {
       "output_type": "stream",
       "stream": "stdout",
       "text": [
        "\n",
        "[-0.04412042 -0.10260817 -0.17582754 -0.05052198  0.10827542 -0.00940037]"
       ]
      },
      {
       "output_type": "stream",
       "stream": "stdout",
       "text": [
        "\n",
        "[-0.02971462 -0.07794945 -0.11947772  0.00428197  0.15053657 -0.01129122]"
       ]
      },
      {
       "output_type": "stream",
       "stream": "stdout",
       "text": [
        "\n",
        "[-0.02062077 -0.06157718 -0.12834349  0.01342135  0.13286094 -0.01827391]"
       ]
      },
      {
       "output_type": "stream",
       "stream": "stdout",
       "text": [
        "\n",
        "[-0.02616462 -0.06588828 -0.10709943  0.05666613  0.21253191 -0.00031329]"
       ]
      },
      {
       "output_type": "stream",
       "stream": "stdout",
       "text": [
        "\n",
        "[-0.0327081  -0.10090341 -0.15964716 -0.01292444  0.12463374 -0.01094667]"
       ]
      },
      {
       "output_type": "stream",
       "stream": "stdout",
       "text": [
        "\n",
        "[-0.02920205 -0.07303959 -0.11516791  0.03750255  0.16314614 -0.00713223]"
       ]
      },
      {
       "output_type": "stream",
       "stream": "stdout",
       "text": [
        "\n",
        "[-0.02788571 -0.0761641  -0.14168378 -0.00212027  0.13776759 -0.01774217]"
       ]
      },
      {
       "output_type": "stream",
       "stream": "stdout",
       "text": [
        "\n",
        "[-0.04312093 -0.10008779 -0.16581222 -0.01951657  0.07192989 -0.02612246]"
       ]
      },
      {
       "output_type": "stream",
       "stream": "stdout",
       "text": [
        "\n",
        "[-0.02482998 -0.06103729 -0.12315901  0.02730734  0.1332761  -0.02101592]"
       ]
      },
      {
       "output_type": "stream",
       "stream": "stdout",
       "text": [
        "\n",
        "[-0.02350681 -0.05296232 -0.09006006  0.05709588  0.15257216 -0.02476046]"
       ]
      },
      {
       "output_type": "stream",
       "stream": "stdout",
       "text": [
        "\n",
        "[-0.0246623  -0.05526797 -0.09936979  0.05590922  0.15638551 -0.02626513]"
       ]
      },
      {
       "output_type": "stream",
       "stream": "stdout",
       "text": [
        "\n",
        "[-0.02777057 -0.07630358 -0.13405677 -0.00113468  0.07355058 -0.03731431]"
       ]
      },
      {
       "output_type": "stream",
       "stream": "stdout",
       "text": [
        "\n",
        "[-0.02317796 -0.08574594 -0.15265486 -0.04921173  0.05811372 -0.04938826]"
       ]
      },
      {
       "output_type": "stream",
       "stream": "stdout",
       "text": [
        "\n",
        "[-0.02030396 -0.06030627 -0.12268095  0.03057892  0.10716372 -0.03484208]"
       ]
      },
      {
       "output_type": "stream",
       "stream": "stdout",
       "text": [
        "\n",
        "[-0.01413253 -0.03991833 -0.07713368  0.08060562  0.1718621  -0.02908744]"
       ]
      },
      {
       "output_type": "stream",
       "stream": "stdout",
       "text": [
        "\n",
        "[-0.01407997 -0.05759481 -0.09792372  0.0464421   0.15510234 -0.02859568]"
       ]
      },
      {
       "output_type": "stream",
       "stream": "stdout",
       "text": [
        "\n",
        "[-0.03009291 -0.08573384 -0.15094496 -0.01602033  0.0904004  -0.02847535]"
       ]
      },
      {
       "output_type": "stream",
       "stream": "stdout",
       "text": [
        "\n",
        "[-0.02532562 -0.07885675 -0.13818279  0.00489391  0.10490566 -0.02846966]"
       ]
      },
      {
       "output_type": "stream",
       "stream": "stdout",
       "text": [
        "\n",
        "[-0.03887644 -0.09007271 -0.14862665 -0.04776363  0.0749966  -0.02700497]"
       ]
      },
      {
       "output_type": "stream",
       "stream": "stdout",
       "text": [
        "\n",
        "[-0.01914191 -0.07084718 -0.11610493  0.01891089  0.11764686 -0.0288424 ]"
       ]
      },
      {
       "output_type": "stream",
       "stream": "stdout",
       "text": [
        "\n",
        "[-0.02055712 -0.07254568 -0.12884277  0.00383248  0.09313565 -0.04099113]"
       ]
      },
      {
       "output_type": "stream",
       "stream": "stdout",
       "text": [
        "\n",
        "[-0.01980974 -0.0723811  -0.13532066 -0.03920261  0.0602058  -0.04568379]"
       ]
      },
      {
       "output_type": "stream",
       "stream": "stdout",
       "text": [
        "\n",
        "[-0.02186482 -0.0695719  -0.13930145 -0.02478957  0.05379565 -0.05760361]"
       ]
      },
      {
       "output_type": "stream",
       "stream": "stdout",
       "text": [
        "\n",
        "[-0.02920018 -0.0695504  -0.1392292   0.01472555  0.09143285 -0.04537577]"
       ]
      },
      {
       "output_type": "stream",
       "stream": "stdout",
       "text": [
        "\n",
        "[-0.0226623  -0.06743878 -0.14497736  0.00906385  0.07786885 -0.04126366]"
       ]
      },
      {
       "output_type": "stream",
       "stream": "stdout",
       "text": [
        "\n",
        "[-0.02356923 -0.07027699 -0.11943756  0.00880746  0.11080806 -0.03250297]"
       ]
      },
      {
       "output_type": "stream",
       "stream": "stdout",
       "text": [
        "\n",
        "[-0.02558664 -0.0723811  -0.13522355 -0.01749288  0.07646918 -0.04701895]"
       ]
      },
      {
       "output_type": "stream",
       "stream": "stdout",
       "text": [
        "\n",
        "[-0.02403601 -0.06768484 -0.14592259 -0.03071168  0.05206112 -0.0486342 ]"
       ]
      },
      {
       "output_type": "stream",
       "stream": "stdout",
       "text": [
        "\n",
        "[-0.02402177 -0.07514357 -0.15013497 -0.0432554   0.04092194 -0.05206367]"
       ]
      },
      {
       "output_type": "stream",
       "stream": "stdout",
       "text": [
        "\n",
        "[-0.0245892  -0.07648767 -0.13443605  0.00152838  0.08995409 -0.03908095]"
       ]
      },
      {
       "output_type": "stream",
       "stream": "stdout",
       "text": [
        "\n",
        "[-0.02787574 -0.0675739  -0.13397543 -0.03219816  0.07557664 -0.04179565]"
       ]
      },
      {
       "output_type": "stream",
       "stream": "stdout",
       "text": [
        "\n",
        "[-0.02231108 -0.06761179 -0.13119272 -0.01415182  0.08235489 -0.0466682 ]"
       ]
      },
      {
       "output_type": "stream",
       "stream": "stdout",
       "text": [
        "\n",
        "[-0.02608604 -0.07435901 -0.1429723  -0.03411803  0.0628593  -0.04610732]"
       ]
      },
      {
       "output_type": "stream",
       "stream": "stdout",
       "text": [
        "\n",
        "[-0.02235885 -0.06668351 -0.13043008 -0.01593125  0.09254796 -0.04201897]"
       ]
      },
      {
       "output_type": "stream",
       "stream": "stdout",
       "text": [
        "\n",
        "[-0.01593164 -0.05453215 -0.11889984  0.00374085  0.11647938 -0.03979618]"
       ]
      },
      {
       "output_type": "stream",
       "stream": "stdout",
       "text": [
        "\n",
        "[-0.01430319 -0.05844081 -0.11973156  0.01575327  0.09378713 -0.03963598]"
       ]
      },
      {
       "output_type": "stream",
       "stream": "stdout",
       "text": [
        "\n",
        "[-0.02239734 -0.07757733 -0.10482517  0.00317514  0.10109201 -0.03667559]"
       ]
      },
      {
       "output_type": "stream",
       "stream": "stdout",
       "text": [
        "\n",
        "[-0.02236346 -0.06062873 -0.13953281 -0.02735393  0.09252268 -0.04391107]"
       ]
      },
      {
       "output_type": "stream",
       "stream": "stdout",
       "text": [
        "\n",
        "[-0.02302778 -0.06983142 -0.12414067 -0.01137485  0.09097182 -0.04255397]"
       ]
      },
      {
       "output_type": "stream",
       "stream": "stdout",
       "text": [
        "\n",
        "[-0.0218709  -0.06579239 -0.13907332 -0.03010949  0.07677671 -0.04595175]"
       ]
      },
      {
       "output_type": "stream",
       "stream": "stdout",
       "text": [
        "\n",
        "[-0.02163239 -0.0767493  -0.11152421 -0.00731611  0.08280481 -0.04242917]"
       ]
      },
      {
       "output_type": "stream",
       "stream": "stdout",
       "text": [
        "\n",
        "[-0.02020958 -0.06771171 -0.12764501 -0.00631301  0.07749207 -0.04588951]"
       ]
      },
      {
       "output_type": "stream",
       "stream": "stdout",
       "text": [
        "\n",
        "[-0.01809073 -0.06055593 -0.10401422  0.02208688  0.09872131 -0.0384871 ]"
       ]
      },
      {
       "output_type": "stream",
       "stream": "stdout",
       "text": [
        "\n",
        "[-0.01998577 -0.06661684 -0.10426848  0.01923656  0.12801112 -0.03453709]"
       ]
      },
      {
       "output_type": "stream",
       "stream": "stdout",
       "text": [
        "\n",
        "[-0.02302154 -0.06239085 -0.13576669  0.00390314  0.11219316 -0.03836161]"
       ]
      },
      {
       "output_type": "stream",
       "stream": "stdout",
       "text": [
        "\n",
        "[-0.02419757 -0.07203638 -0.12678875 -0.02892129  0.08834772 -0.04311301]"
       ]
      },
      {
       "output_type": "stream",
       "stream": "stdout",
       "text": [
        "\n",
        "[-0.01919078 -0.06451765 -0.12335021 -0.00531612  0.09703553 -0.04052618]"
       ]
      },
      {
       "output_type": "stream",
       "stream": "stdout",
       "text": [
        "\n",
        "[-0.02294916 -0.06476078 -0.12024597  0.00714741  0.09484987 -0.03939137]"
       ]
      },
      {
       "output_type": "stream",
       "stream": "stdout",
       "text": [
        "\n",
        "[-0.0172508  -0.06161663 -0.09247988  0.0014527   0.08948292 -0.04297852]"
       ]
      },
      {
       "output_type": "stream",
       "stream": "stdout",
       "text": [
        "\n",
        "[-0.02363903 -0.06414961 -0.11083709  0.01910477  0.10347916 -0.04084184]"
       ]
      },
      {
       "output_type": "stream",
       "stream": "stdout",
       "text": [
        "\n",
        "[-0.01913598 -0.06981413 -0.13146501  0.01080267  0.09014025 -0.04273   ]"
       ]
      },
      {
       "output_type": "stream",
       "stream": "stdout",
       "text": [
        "\n",
        "[-0.02040609 -0.06328348 -0.12447513 -0.00156233  0.10212457 -0.03914958]"
       ]
      },
      {
       "output_type": "stream",
       "stream": "stdout",
       "text": [
        "\n",
        "[-0.0182071  -0.06215196 -0.12664386 -0.00133238  0.10272131 -0.03938445]"
       ]
      },
      {
       "output_type": "stream",
       "stream": "stdout",
       "text": [
        "\n",
        "[-0.02296076 -0.05594792 -0.13307013  0.00547365  0.11152131 -0.04084372]"
       ]
      },
      {
       "output_type": "stream",
       "stream": "stdout",
       "text": [
        "\n",
        "[-0.02538759 -0.06786847 -0.11650591 -0.00894704  0.08516153 -0.04113785]"
       ]
      },
      {
       "output_type": "stream",
       "stream": "stdout",
       "text": [
        "\n",
        "[-0.02493959 -0.06796165 -0.11438944  0.00391879  0.093502   -0.04047127]"
       ]
      },
      {
       "output_type": "stream",
       "stream": "stdout",
       "text": [
        "\n",
        "[-0.01711715 -0.07689982 -0.1242494  -0.01199446  0.09648255 -0.04050015]"
       ]
      },
      {
       "output_type": "stream",
       "stream": "stdout",
       "text": [
        "\n",
        "[-0.02515033 -0.06351502 -0.12135613 -0.00179059  0.08313457 -0.04243941]"
       ]
      },
      {
       "output_type": "stream",
       "stream": "stdout",
       "text": [
        "\n",
        "Optimization terminated successfully.\n",
        "         Current function value: 0.022503\n",
        "         Iterations: 34\n",
        "         Function evaluations: 75\n",
        "[-0.02392503 -0.06155262 -0.1151924  -0.00066436  0.10097492 -0.04317258]"
       ]
      },
      {
       "output_type": "stream",
       "stream": "stdout",
       "text": [
        "\n"
       ]
      }
     ],
     "prompt_number": 25
    },
    {
     "cell_type": "code",
     "collapsed": false,
     "input": [
      "#individual sx RaDD fits for comparison\n",
      "pth=utils.find_path()\n",
      "paramdf=pd.read_csv(pth+\"ParamFiles/ReBSL_HDDM_Params.csv\", index_col='subj_idx')\n",
      "sxl=list()\n",
      "for sx in paramdf.index.unique():\n",
      "    try:\n",
      "        sxl.append(pd.read_csv(pth+\"OptAccRT/SxFits/OptAccRT_Sx\"+str(sx)+\".csv\", index_col=0))\n",
      "    except:\n",
      "        pass\n",
      "df=pd.concat(sxl)\n",
      "\n",
      "\n",
      "avg=df.groupby('ssdlist').mean()\n",
      "sem=df.groupby('ssdlist').sem()\n",
      "\n",
      "avg=df.groupby('ssdlist').mean()\n",
      "yd=avg['ydata'][:-1]\n",
      "yh=avg['yhat'][:-1]\n",
      "rtd=avg['ydata'][-1]\n",
      "rth=avg['yhat'][-1]\n",
      "\n",
      "residual=np.array([-0.02392503, -0.06155262, -0.1151924,  -0.00066436,  0.10097492, -0.04317258])\n",
      "yh_ind=yd+residual[:-1]\n",
      "rth_ind=rtd+residual[-1]"
     ],
     "language": "python",
     "metadata": {},
     "outputs": [],
     "prompt_number": 11
    },
    {
     "cell_type": "code",
     "collapsed": false,
     "input": [
      "import seaborn as sns\n",
      "from radd import psy\n",
      "psy=reload(psy)\n",
      "utils=reload(utils)\n",
      "\n",
      "sparams=utils.style_params()\n",
      "colors=sparams['colors']\n",
      "\n",
      "sns.set_style('ticks', rc=sparams['style'])\n",
      "sns.set_context('paper', rc=sparams['context'])\n",
      "\n",
      "stopmeans=[yd[::-1], yh[::-1], yh_ind[::-1]]\n",
      "stoperr=[sem['ydata'][:-1][::-1], sem['yhat'][:-1][::-1], sem['yhat'][:-1][::-1]]\n",
      "\n",
      "\n",
      "\n",
      "ax=psy.scurves(ysim=stopmeans, yerr=stoperr, title='RaDD_IndPools_Data.png', \n",
      "               colors=[colors[-8], colors[-1], colors[3]], labels=['Data', 'RADD', 'IndPools'])"
     ],
     "language": "python",
     "metadata": {},
     "outputs": [
      {
       "metadata": {},
       "output_type": "display_data",
       "png": "[encoded data removed]",
       "text": [
        "<matplotlib.figure.Figure at 0x7ff68854f350>"
       ]
      }
     ],
     "prompt_number": 10
    },
    {
     "cell_type": "code",
     "collapsed": false,
     "input": [
      "ff, axx=plt.subplots(1, figsize=(5, 6.5))\n",
      "\n",
      "axx.bar(0, rtd, yerr=sem['ydata'][-1], color=colors[-7], error_kw={\"elinewidth\":3, \"capthick\":2.5, \n",
      "        \"capsize\":3, \"ecolor\":'k'}, alpha=.9,align='center', label='Data')\n",
      "\n",
      "axx.errorbar(0, rth, yerr=sem['yhat'][-1], marker='o', markersize=15, \n",
      "             elinewidth=3, ecolor=colors[-1], color=colors[0], alpha=.95, label='RADD')  \n",
      "\n",
      "axx.errorbar(0, rth_ind, yerr=sem['yhat'][-1], marker='o', markersize=15, \n",
      "             elinewidth=3, ecolor=colors[-5], color=colors[-5], alpha=.95, label='IndPools')   \n",
      "\n",
      "plt.setp(axx, xlim=(-.7, .7), ylim=(.5, .6), ylabel='RT (s)', xticks=[], xticklabels=[], xlabel='ssRe BSL')\n",
      "axx.set_xlabel('Baseline', fontsize=19)\n",
      "plt.setp(axx.get_yticklabels(), fontsize=17)\n",
      "axx.set_ylabel('RT (s)', fontsize=19, labelpad=8) \n",
      "axx.legend(loc=0, fontsize=17)\n",
      "sns.despine()\n",
      "plt.tight_layout()\n",
      "ff.savefig(pth+\"RaDD_AvgIndPools_RTData.png\", dpi=600)    "
     ],
     "language": "python",
     "metadata": {},
     "outputs": [
      {
       "metadata": {},
       "output_type": "display_data",
       "png": "[encoded data removed]",
       "text": [
        "<matplotlib.figure.Figure at 0x7ff6883b0650>"
       ]
      }
     ],
     "prompt_number": 21
    }
   ],
   "metadata": {}
  }
 ]
}