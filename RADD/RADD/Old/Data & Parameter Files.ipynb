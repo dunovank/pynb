{
 "metadata": {
  "name": "",
  "signature": "sha256:25c2afb7bc1cc0ff809ec8b9e0802bf2ae463ddbcb4a99f239b62993bc0611af"
 },
 "nbformat": 3,
 "nbformat_minor": 0,
 "worksheets": [
  {
   "cells": [
    {
     "cell_type": "code",
     "collapsed": false,
     "input": [
      "from __future__ import division\n",
      "import pandas as pd\n",
      "from radd import utils\n",
      "pth=utils.find_path()"
     ],
     "language": "python",
     "metadata": {},
     "outputs": [],
     "prompt_number": 1
    },
    {
     "cell_type": "heading",
     "level": 1,
     "metadata": {},
     "source": [
      "\n",
      "Data & Parameter Files\n"
     ]
    },
    {
     "cell_type": "heading",
     "level": 2,
     "metadata": {},
     "source": [
      "ssPro Data Files"
     ]
    },
    {
     "cell_type": "code",
     "collapsed": false,
     "input": [
      "#ssPro Data\n",
      "prodata=pd.read_csv(pth+\"DataFiles/Pro_AllData.csv\", index_col=0)\n",
      "\n",
      "#ssPro BSL Data\n",
      "probsl=pd.read_csv(pth+\"DataFiles/ProBSL_Data.csv\", index_col=0)\n",
      "\n",
      "#ssPro PNL Data\n",
      "propnl=pd.read_csv(pth+\"DataFiles/ProPNL_Data.csv\", index_col=0)"
     ],
     "language": "python",
     "metadata": {},
     "outputs": [],
     "prompt_number": 7
    },
    {
     "cell_type": "heading",
     "level": 2,
     "metadata": {},
     "source": [
      "ssRe Data Files"
     ]
    },
    {
     "cell_type": "code",
     "collapsed": false,
     "input": [
      "#ssRe Data\n",
      "redata=pd.read_csv(pth+\"DataFiles/Re_Data.csv\", index_col=0)\n",
      "\n",
      "#ssRe BSL Data\n",
      "rebsl=pd.read_csv(pth+\"DataFiles/ReBSL_Data.csv\", index_col=0)\n",
      "\n",
      "#ssRe PNL Data\n",
      "repnl=pd.read_csv(pth+\"DataFiles/RePNL_Data.csv\", index_col=0)"
     ],
     "language": "python",
     "metadata": {},
     "outputs": [],
     "prompt_number": 9
    },
    {
     "cell_type": "heading",
     "level": 2,
     "metadata": {},
     "source": [
      "ssRe HDDM Parameter Files"
     ]
    },
    {
     "cell_type": "code",
     "collapsed": false,
     "input": [
      "#ReBSL HDDM Params\n",
      "rebsl_hddm=pd.read_csv(pth+\"ParamFiles/ReBSL_HDDM_Params.csv\", index_col='subj_idx')\n",
      "\n",
      "#RePNL HDDM Params\n",
      "repnl_hddm=pd.read_csv(pth+\"ParamFiles/RePNL_HDDM_Params.csv\", index_col='subj_idx')\n",
      "\n",
      "#ssRe HDDM Params\n",
      "rehddm=pd.read_csv(pth+\"ParamFiles/ReHDDM_Params.csv\", index_col='subj_idx')"
     ],
     "language": "python",
     "metadata": {},
     "outputs": [],
     "prompt_number": 11
    },
    {
     "cell_type": "heading",
     "level": 2,
     "metadata": {},
     "source": [
      "ssRe & ssPro BSL RaDD Parameter Files"
     ]
    },
    {
     "cell_type": "code",
     "collapsed": false,
     "input": [
      "#ReBSL RaDD Params\n",
      "rebsl_radd=pd.read_csv(pth+\"ParamFiles/ReBSL_RaDD_Params.csv\", index_col='subj_idx')\n",
      "\n",
      "#ProBSL RaDD params\n",
      "probsl_radd=pd.read_csv(pth+\"ParamFiles/ProBSL_RaDD_Params.csv\", index_col='subj_idx')"
     ],
     "language": "python",
     "metadata": {},
     "outputs": [],
     "prompt_number": 2
    },
    {
     "cell_type": "code",
     "collapsed": false,
     "input": [],
     "language": "python",
     "metadata": {},
     "outputs": []
    }
   ],
   "metadata": {}
  }
 ]
}