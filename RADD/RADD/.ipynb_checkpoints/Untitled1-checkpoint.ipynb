{
 "metadata": {
  "name": "",
  "signature": "sha256:437b29a4bb532ca387f5212ca56d326fd98269adde1fb652137c417d52c26077"
 },
 "nbformat": 3,
 "nbformat_minor": 0,
 "worksheets": []
}