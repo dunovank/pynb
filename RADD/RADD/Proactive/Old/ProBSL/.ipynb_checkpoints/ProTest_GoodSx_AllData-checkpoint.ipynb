{
 "metadata": {
  "name": "",
  "signature": "sha256:9e2fb7bc027e5d53509deeb37be985d7741e8e21ac4fe885b992f2a48690c368"
 },
 "nbformat": 3,
 "nbformat_minor": 0,
 "worksheets": [
  {
   "cells": [
    {
     "cell_type": "code",
     "collapsed": false,
     "input": [
      "from __future__ import division\n",
      "import pandas as pd\n",
      "from radd import utils, xopt, psy, ss, simfx\n",
      "from lmfit import Parameters, Minimizer\n",
      "import seaborn as sns\n",
      "import os\n",
      "from collections import OrderedDict"
     ],
     "language": "python",
     "metadata": {},
     "outputs": [],
     "prompt_number": 1
    },
    {
     "cell_type": "code",
     "collapsed": false,
     "input": [
      "pth=utils.find_path()\n",
      "#no rt cutoff applied\n",
      "pro_bsl=pd.read_csv(pth+\"DataFiles/Pro_AllData.csv\", index_col=0)\n",
      "\n",
      "#cutoff all at .550\n",
      "#pro_bsl=pd.read_csv(pth+\"DataFiles/ProBSL_Data.csv\", index_col=0)\n",
      "bsl=pro_bsl[pro_bsl['Cond']=='bsl']\n",
      "bsl['pGo']=bsl['pGo']*100*.01\n",
      "bsl['pGo'].unique()\n",
      "print bsl[bsl['choice']=='go'].rt.max()\n",
      "allgorts=utils.sxrt_pivot(bsl)\n",
      "allgorts.mean()"
     ],
     "language": "python",
     "metadata": {},
     "outputs": [
      {
       "output_type": "stream",
       "stream": "stdout",
       "text": [
        "0.5599846\n"
       ]
      },
      {
       "metadata": {},
       "output_type": "pyout",
       "prompt_number": 7,
       "text": [
        "pGo\n",
        "0.0    0.533212\n",
        "0.2    0.540327\n",
        "0.4    0.543037\n",
        "0.6    0.542562\n",
        "0.8    0.533162\n",
        "1.0    0.529283\n",
        "dtype: float64"
       ]
      }
     ],
     "prompt_number": 7
    },
    {
     "cell_type": "code",
     "collapsed": false,
     "input": [
      "utils=reload(utils); ss=reload(ss)\n",
      "pth=utils.find_path()\n",
      "# all original data - no rt cutoff (timebound=.560)\n",
      "prodf=pd.read_csv(pth+\"DataFiles/Pro_AllData.csv\", index_col=0)\n",
      "\n",
      "# cutoff at .550\n",
      "pro550=pd.read_csv(pth+\"DataFiles/Pro_Data.csv\", index_col=0)\n",
      "\n",
      "# cutoff at .545\n",
      "pro545=utils.trunc_df(prodf)\n",
      "\n",
      "# load params\n",
      "paramdf=pd.read_csv(pth+\"ParamFiles/ProBSL_HDDM_Params.csv\", index_col='subj_idx')\n",
      "\n",
      "allgorts=utils.sxrt_pivot(prodf)\n",
      "cutgorts=utils.sxrt_pivot(pro545)\n",
      "prodf_stops=utils.sxstop_pivot(prodf)\n",
      "cutdf_stops=utils.sxstop_pivot(pro545)\n",
      "\n",
      "all_stop=[0.928484,0.755328,0.478074,0.240369,0.035246,0.004889]\n",
      "all_rt=[0.534378,0.540155,0.542990,0.542564,0.533544,0.529063]\n",
      "cut_rt=[0.480469,0.491375,0.500804,0.510604,0.506695,0.502725]\n",
      "cut_go=[1.0, 1.0, 1.0, 1.0, 1.0, 1.0]"
     ],
     "language": "python",
     "metadata": {},
     "outputs": [],
     "prompt_number": 3
    },
    {
     "cell_type": "code",
     "collapsed": false,
     "input": [
      "print prodf[prodf['choice']=='go'].rt.max()\n",
      "print allgorts.mean()"
     ],
     "language": "python",
     "metadata": {},
     "outputs": [
      {
       "output_type": "stream",
       "stream": "stdout",
       "text": [
        "0.5599846\n",
        "pGo\n",
        "0.0    0.534378\n",
        "0.2    0.540155\n",
        "0.4    0.542990\n",
        "0.6    0.542564\n",
        "0.8    0.533544\n",
        "1.0    0.529063\n",
        "dtype: float64\n"
       ]
      }
     ],
     "prompt_number": 4
    },
    {
     "cell_type": "code",
     "collapsed": false,
     "input": [
      "allgorts.mean()"
     ],
     "language": "python",
     "metadata": {},
     "outputs": [
      {
       "metadata": {},
       "output_type": "pyout",
       "prompt_number": 62,
       "text": [
        "pGo\n",
        "0.0    0.534378\n",
        "0.2    0.540155\n",
        "0.4    0.542990\n",
        "0.6    0.542564\n",
        "0.8    0.533544\n",
        "1.0    0.529063\n",
        "dtype: float64"
       ]
      }
     ],
     "prompt_number": 62
    },
    {
     "cell_type": "code",
     "collapsed": false,
     "input": [
      "goodsx=[28, 29, 48, 54, 76]\n",
      "badsx=[42, 60, 66, 78, 85, 86, 88]\n",
      "goodrts=allgorts[allgorts.index.isin(goodsx)]\n",
      "goodstops=prodf_stops[prodf_stops.index.isin(goodsx)]\n",
      "\n",
      "goodrts_scaled=goodrts*10"
     ],
     "language": "python",
     "metadata": {},
     "outputs": [],
     "prompt_number": 69
    },
    {
     "cell_type": "code",
     "collapsed": false,
     "input": [
      "ntrials=1000; depHyper=True\n",
      "goodsx=[28, 29, 48, 54, 76]\n",
      "pgo_list=[0.0, 0.2, 0.4, 0.6, 0.8, 1.0]\n",
      "\n",
      "# init sx concat list\n",
      "sxfits_list=[]"
     ],
     "language": "python",
     "metadata": {},
     "outputs": [],
     "prompt_number": 73
    },
    {
     "cell_type": "code",
     "collapsed": false,
     "input": [
      "ss=reload(ss)\n",
      "pb=utils.PBinJ(len(goodsx)*len(pgo_list), color=\"#009B76\"); sx_n=0\n",
      "os.chdir(utils.find_path()+\"OptAccRT/ProBSL_GoodSx_AllData\")\n",
      "ntrials=1000;\n",
      "\n",
      "for sx in goodsx:\n",
      "    \n",
      "    sx_rt=np.array(goodrts_scaled.loc[sx,:].values)\n",
      "    sx_pstop=np.array(goodstops.loc[sx,:].values)\n",
      "    \n",
      "        \n",
      "    try:\n",
      "        sxinits=paramdf.loc[sx,:].to_dict()\n",
      "    except Exception:\n",
      "        sxinits=paramdf.mean().to_dict()\n",
      "\n",
      "    sxinits['ssd']=.450\n",
      "    \n",
      "    sxpred=pd.DataFrame(columns=['subj_idx','pGo', 'v', 'pstop_data', \n",
      "                                 'pstop_radd', 'rt_data', 'rt_radd', \n",
      "                                 'chi'], index=pgo_list)\n",
      "\n",
      "    for i, pg in enumerate(pgo_list):\n",
      "        \n",
      "        \n",
      "        pb.update_i(sx_n)\n",
      "        sx_n +=1\n",
      "        \n",
      "        sxinits['pGo']=pg\n",
      "        \n",
      "        if pg<.5:\n",
      "            \n",
      "            vinit=sxinits['v(Lo)']\n",
      "            \n",
      "        else:\n",
      "            \n",
      "            vinit=sxinits['v(Hi)']\n",
      "        \n",
      "        y=np.array([sx_pstop[i], sx_rt[i]])\n",
      "        \n",
      "        p=Parameters()\n",
      "        p.add('v', value=vinit, min=0.0, vary=True)\n",
      "        \n",
      "        popt = Minimizer(sspro_accrt_minfunc, p, fcn_args=(sxinits, y, ntrials), method='Nelder-Mead') \n",
      "        popt.fmin(maxfun=1000, ftol=1.e-3, xtol=1.e-3, full_output=True, disp=True)      \n",
      "        \n",
      "        pstop_radd=y[0]+popt.residual[0]\n",
      "        rt_radd=y[1]+popt.residual[1]\n",
      "        \n",
      "        sxpred.loc[pg,:]=pd.Series(OrderedDict([('subj_idx',int(sx)), ('pGo',pg), ('v',p['v'].value), \n",
      "                                    ('pstop_data',y[0]), ('pstop_radd',pstop_radd), ('rt_data',y[1]), \n",
      "                                    ('rt_radd',rt_radd), ('chi',popt.chisqr)]))\n",
      "    pb.update_i(sx_n)\n",
      "    \n",
      "    sxpred.to_csv(\"ProFits_GoodSx\"+str(sx)+\"_AllData.csv\")\n",
      "    \n",
      "    sxfits_list.append(sxpred)\n",
      "\n",
      "    print \"-\"*100\n",
      "    \n",
      "    \n",
      "allsx_fits=pd.concat(sxfits_list)\n",
      "allsx_fits.to_csv(\"ProFits_GoodSx_AllData.csv\")\n",
      "    "
     ],
     "language": "python",
     "metadata": {},
     "outputs": [
      {
       "html": [
        "\n",
        "\t    <div style=\"border: 1px solid black; width:500px\">\n",
        "\t    <div id=\"c39ad371-227b-4174-830f-700ec9eb05a3\" style=\"background-color:#009B76; width:0%\">&nbsp;</div>\n",
        "\t    </div> \n",
        "\t    "
       ],
       "metadata": {},
       "output_type": "display_data",
       "text": [
        "<IPython.core.display.HTML at 0x7f5fd4bcbe50>"
       ]
      },
      {
       "javascript": [
        "$('div#c39ad371-227b-4174-830f-700ec9eb05a3').width('0.00%')"
       ],
       "metadata": {},
       "output_type": "display_data",
       "text": [
        "<IPython.core.display.Javascript at 0x7f5fd48a0b90>"
       ]
      },
      {
       "output_type": "stream",
       "stream": "stdout",
       "text": [
        "Optimization terminated successfully.\n",
        "         Current function value: 0.000001\n",
        "         Iterations: 13\n",
        "         Function evaluations: 27\n"
       ]
      },
      {
       "javascript": [
        "$('div#c39ad371-227b-4174-830f-700ec9eb05a3').width('3.33%')"
       ],
       "metadata": {},
       "output_type": "display_data",
       "text": [
        "<IPython.core.display.Javascript at 0x7f5fd497e350>"
       ]
      },
      {
       "output_type": "stream",
       "stream": "stdout",
       "text": [
        "Optimization terminated successfully.\n",
        "         Current function value: 0.004111\n",
        "         Iterations: 10\n",
        "         Function evaluations: 22\n"
       ]
      },
      {
       "javascript": [
        "$('div#c39ad371-227b-4174-830f-700ec9eb05a3').width('6.67%')"
       ],
       "metadata": {},
       "output_type": "display_data",
       "text": [
        "<IPython.core.display.Javascript at 0x7f5fd468a590>"
       ]
      },
      {
       "output_type": "stream",
       "stream": "stdout",
       "text": [
        "Optimization terminated successfully.\n",
        "         Current function value: 0.006856\n",
        "         Iterations: 11\n",
        "         Function evaluations: 26\n"
       ]
      },
      {
       "javascript": [
        "$('div#c39ad371-227b-4174-830f-700ec9eb05a3').width('10.00%')"
       ],
       "metadata": {},
       "output_type": "display_data",
       "text": [
        "<IPython.core.display.Javascript at 0x7f5fd489e490>"
       ]
      },
      {
       "output_type": "stream",
       "stream": "stdout",
       "text": [
        "Optimization terminated successfully.\n",
        "         Current function value: 0.020887\n",
        "         Iterations: 17\n",
        "         Function evaluations: 42\n"
       ]
      },
      {
       "javascript": [
        "$('div#c39ad371-227b-4174-830f-700ec9eb05a3').width('13.33%')"
       ],
       "metadata": {},
       "output_type": "display_data",
       "text": [
        "<IPython.core.display.Javascript at 0x7f5fd4b80a10>"
       ]
      },
      {
       "output_type": "stream",
       "stream": "stdout",
       "text": [
        "Optimization terminated successfully.\n",
        "         Current function value: 0.005729\n",
        "         Iterations: 10\n",
        "         Function evaluations: 24\n"
       ]
      },
      {
       "javascript": [
        "$('div#c39ad371-227b-4174-830f-700ec9eb05a3').width('16.67%')"
       ],
       "metadata": {},
       "output_type": "display_data",
       "text": [
        "<IPython.core.display.Javascript at 0x7f5fd4909290>"
       ]
      },
      {
       "output_type": "stream",
       "stream": "stdout",
       "text": [
        "Optimization terminated successfully.\n",
        "         Current function value: 0.002394\n",
        "         Iterations: 8\n",
        "         Function evaluations: 20\n"
       ]
      },
      {
       "javascript": [
        "$('div#c39ad371-227b-4174-830f-700ec9eb05a3').width('20.00%')"
       ],
       "metadata": {},
       "output_type": "display_data",
       "text": [
        "<IPython.core.display.Javascript at 0x7f5fd4bcb550>"
       ]
      },
      {
       "output_type": "stream",
       "stream": "stdout",
       "text": [
        "----------------------------------------------------------------------------------------------------\n"
       ]
      },
      {
       "javascript": [
        "$('div#c39ad371-227b-4174-830f-700ec9eb05a3').width('20.00%')"
       ],
       "metadata": {},
       "output_type": "display_data",
       "text": [
        "<IPython.core.display.Javascript at 0x7f5fd4721850>"
       ]
      },
      {
       "output_type": "stream",
       "stream": "stdout",
       "text": [
        "Warning: Maximum number of iterations has been exceeded.\n"
       ]
      },
      {
       "javascript": [
        "$('div#c39ad371-227b-4174-830f-700ec9eb05a3').width('23.33%')"
       ],
       "metadata": {},
       "output_type": "display_data",
       "text": [
        "<IPython.core.display.Javascript at 0x7f5fd4aadcd0>"
       ]
      },
      {
       "output_type": "stream",
       "stream": "stdout",
       "text": [
        "Optimization terminated successfully.\n",
        "         Current function value: 0.000211\n",
        "         Iterations: 11\n",
        "         Function evaluations: 24\n"
       ]
      },
      {
       "javascript": [
        "$('div#c39ad371-227b-4174-830f-700ec9eb05a3').width('26.67%')"
       ],
       "metadata": {},
       "output_type": "display_data",
       "text": [
        "<IPython.core.display.Javascript at 0x7f5fd4928e90>"
       ]
      },
      {
       "output_type": "stream",
       "stream": "stdout",
       "text": [
        "Optimization terminated successfully.\n",
        "         Current function value: 0.001609\n",
        "         Iterations: 10\n",
        "         Function evaluations: 23\n"
       ]
      },
      {
       "javascript": [
        "$('div#c39ad371-227b-4174-830f-700ec9eb05a3').width('30.00%')"
       ],
       "metadata": {},
       "output_type": "display_data",
       "text": [
        "<IPython.core.display.Javascript at 0x7f5fd4aaa090>"
       ]
      },
      {
       "output_type": "stream",
       "stream": "stdout",
       "text": [
        "Optimization terminated successfully.\n",
        "         Current function value: 0.003333\n",
        "         Iterations: 24\n",
        "         Function evaluations: 57\n"
       ]
      },
      {
       "javascript": [
        "$('div#c39ad371-227b-4174-830f-700ec9eb05a3').width('33.33%')"
       ],
       "metadata": {},
       "output_type": "display_data",
       "text": [
        "<IPython.core.display.Javascript at 0x7f5fd4727c50>"
       ]
      },
      {
       "output_type": "stream",
       "stream": "stdout",
       "text": [
        "Optimization terminated successfully.\n",
        "         Current function value: 0.003199\n",
        "         Iterations: 9\n",
        "         Function evaluations: 20\n"
       ]
      },
      {
       "javascript": [
        "$('div#c39ad371-227b-4174-830f-700ec9eb05a3').width('36.67%')"
       ],
       "metadata": {},
       "output_type": "display_data",
       "text": [
        "<IPython.core.display.Javascript at 0x7f5fd4983410>"
       ]
      },
      {
       "output_type": "stream",
       "stream": "stdout",
       "text": [
        "Optimization terminated successfully.\n",
        "         Current function value: 0.000639\n",
        "         Iterations: 11\n",
        "         Function evaluations: 26\n"
       ]
      },
      {
       "javascript": [
        "$('div#c39ad371-227b-4174-830f-700ec9eb05a3').width('40.00%')"
       ],
       "metadata": {},
       "output_type": "display_data",
       "text": [
        "<IPython.core.display.Javascript at 0x7f5fd4721a10>"
       ]
      },
      {
       "output_type": "stream",
       "stream": "stdout",
       "text": [
        "----------------------------------------------------------------------------------------------------\n"
       ]
      },
      {
       "javascript": [
        "$('div#c39ad371-227b-4174-830f-700ec9eb05a3').width('40.00%')"
       ],
       "metadata": {},
       "output_type": "display_data",
       "text": [
        "<IPython.core.display.Javascript at 0x7f5fd474d8d0>"
       ]
      },
      {
       "output_type": "stream",
       "stream": "stdout",
       "text": [
        "Optimization terminated successfully.\n",
        "         Current function value: 0.000009\n",
        "         Iterations: 11\n",
        "         Function evaluations: 24\n"
       ]
      },
      {
       "javascript": [
        "$('div#c39ad371-227b-4174-830f-700ec9eb05a3').width('43.33%')"
       ],
       "metadata": {},
       "output_type": "display_data",
       "text": [
        "<IPython.core.display.Javascript at 0x7f5fd497b890>"
       ]
      },
      {
       "output_type": "stream",
       "stream": "stdout",
       "text": [
        "Optimization terminated successfully.\n",
        "         Current function value: 0.002230\n",
        "         Iterations: 15\n",
        "         Function evaluations: 36\n"
       ]
      },
      {
       "javascript": [
        "$('div#c39ad371-227b-4174-830f-700ec9eb05a3').width('46.67%')"
       ],
       "metadata": {},
       "output_type": "display_data",
       "text": [
        "<IPython.core.display.Javascript at 0x7f5fd48d2950>"
       ]
      },
      {
       "output_type": "stream",
       "stream": "stdout",
       "text": [
        "Optimization terminated successfully.\n",
        "         Current function value: 0.005664\n",
        "         Iterations: 11\n",
        "         Function evaluations: 26\n"
       ]
      },
      {
       "javascript": [
        "$('div#c39ad371-227b-4174-830f-700ec9eb05a3').width('50.00%')"
       ],
       "metadata": {},
       "output_type": "display_data",
       "text": [
        "<IPython.core.display.Javascript at 0x7f5fd4983f10>"
       ]
      },
      {
       "output_type": "stream",
       "stream": "stdout",
       "text": [
        "Optimization terminated successfully.\n",
        "         Current function value: 0.026149\n",
        "         Iterations: 10\n",
        "         Function evaluations: 25\n"
       ]
      },
      {
       "javascript": [
        "$('div#c39ad371-227b-4174-830f-700ec9eb05a3').width('53.33%')"
       ],
       "metadata": {},
       "output_type": "display_data",
       "text": [
        "<IPython.core.display.Javascript at 0x7f5fd46f6c10>"
       ]
      },
      {
       "output_type": "stream",
       "stream": "stdout",
       "text": [
        "Optimization terminated successfully.\n",
        "         Current function value: 0.000229\n",
        "         Iterations: 8\n",
        "         Function evaluations: 19\n"
       ]
      },
      {
       "javascript": [
        "$('div#c39ad371-227b-4174-830f-700ec9eb05a3').width('56.67%')"
       ],
       "metadata": {},
       "output_type": "display_data",
       "text": [
        "<IPython.core.display.Javascript at 0x7f5fd45e4fd0>"
       ]
      },
      {
       "output_type": "stream",
       "stream": "stdout",
       "text": [
        "Optimization terminated successfully.\n",
        "         Current function value: 0.000389\n",
        "         Iterations: 9\n",
        "         Function evaluations: 20\n"
       ]
      },
      {
       "javascript": [
        "$('div#c39ad371-227b-4174-830f-700ec9eb05a3').width('60.00%')"
       ],
       "metadata": {},
       "output_type": "display_data",
       "text": [
        "<IPython.core.display.Javascript at 0x7f5fd474df10>"
       ]
      },
      {
       "output_type": "stream",
       "stream": "stdout",
       "text": [
        "----------------------------------------------------------------------------------------------------\n"
       ]
      },
      {
       "javascript": [
        "$('div#c39ad371-227b-4174-830f-700ec9eb05a3').width('60.00%')"
       ],
       "metadata": {},
       "output_type": "display_data",
       "text": [
        "<IPython.core.display.Javascript at 0x7f5fd494c190>"
       ]
      },
      {
       "output_type": "stream",
       "stream": "stdout",
       "text": [
        "Optimization terminated successfully.\n",
        "         Current function value: 0.000000\n",
        "         Iterations: 9\n",
        "         Function evaluations: 22\n"
       ]
      },
      {
       "javascript": [
        "$('div#c39ad371-227b-4174-830f-700ec9eb05a3').width('63.33%')"
       ],
       "metadata": {},
       "output_type": "display_data",
       "text": [
        "<IPython.core.display.Javascript at 0x7f5fd45df190>"
       ]
      },
      {
       "output_type": "stream",
       "stream": "stdout",
       "text": [
        "Optimization terminated successfully.\n",
        "         Current function value: 0.033529\n",
        "         Iterations: 15\n",
        "         Function evaluations: 35\n"
       ]
      },
      {
       "javascript": [
        "$('div#c39ad371-227b-4174-830f-700ec9eb05a3').width('66.67%')"
       ],
       "metadata": {},
       "output_type": "display_data",
       "text": [
        "<IPython.core.display.Javascript at 0x7f5fd45e6190>"
       ]
      },
      {
       "output_type": "stream",
       "stream": "stdout",
       "text": [
        "Optimization terminated successfully.\n",
        "         Current function value: 0.001811\n",
        "         Iterations: 20\n",
        "         Function evaluations: 48\n"
       ]
      },
      {
       "javascript": [
        "$('div#c39ad371-227b-4174-830f-700ec9eb05a3').width('70.00%')"
       ],
       "metadata": {},
       "output_type": "display_data",
       "text": [
        "<IPython.core.display.Javascript at 0x7f5fd48d2b50>"
       ]
      },
      {
       "output_type": "stream",
       "stream": "stdout",
       "text": [
        "Optimization terminated successfully.\n",
        "         Current function value: 0.000094\n",
        "         Iterations: 10\n",
        "         Function evaluations: 22\n"
       ]
      },
      {
       "javascript": [
        "$('div#c39ad371-227b-4174-830f-700ec9eb05a3').width('73.33%')"
       ],
       "metadata": {},
       "output_type": "display_data",
       "text": [
        "<IPython.core.display.Javascript at 0x7f5fd48e7290>"
       ]
      },
      {
       "output_type": "stream",
       "stream": "stdout",
       "text": [
        "Optimization terminated successfully.\n",
        "         Current function value: 0.000359\n",
        "         Iterations: 8\n",
        "         Function evaluations: 19\n"
       ]
      },
      {
       "javascript": [
        "$('div#c39ad371-227b-4174-830f-700ec9eb05a3').width('76.67%')"
       ],
       "metadata": {},
       "output_type": "display_data",
       "text": [
        "<IPython.core.display.Javascript at 0x7f5fd48d2d10>"
       ]
      },
      {
       "output_type": "stream",
       "stream": "stdout",
       "text": [
        "Optimization terminated successfully.\n",
        "         Current function value: 0.000274\n",
        "         Iterations: 9\n",
        "         Function evaluations: 22\n"
       ]
      },
      {
       "javascript": [
        "$('div#c39ad371-227b-4174-830f-700ec9eb05a3').width('80.00%')"
       ],
       "metadata": {},
       "output_type": "display_data",
       "text": [
        "<IPython.core.display.Javascript at 0x7f5fd4816750>"
       ]
      },
      {
       "output_type": "stream",
       "stream": "stdout",
       "text": [
        "----------------------------------------------------------------------------------------------------\n"
       ]
      },
      {
       "javascript": [
        "$('div#c39ad371-227b-4174-830f-700ec9eb05a3').width('80.00%')"
       ],
       "metadata": {},
       "output_type": "display_data",
       "text": [
        "<IPython.core.display.Javascript at 0x7f5fd4aaa350>"
       ]
      },
      {
       "output_type": "stream",
       "stream": "stdout",
       "text": [
        "Optimization terminated successfully.\n",
        "         Current function value: 0.000000\n",
        "         Iterations: 12\n",
        "         Function evaluations: 27\n"
       ]
      },
      {
       "javascript": [
        "$('div#c39ad371-227b-4174-830f-700ec9eb05a3').width('83.33%')"
       ],
       "metadata": {},
       "output_type": "display_data",
       "text": [
        "<IPython.core.display.Javascript at 0x7f5fd49502d0>"
       ]
      },
      {
       "output_type": "stream",
       "stream": "stdout",
       "text": [
        "Optimization terminated successfully.\n",
        "         Current function value: 0.059702\n",
        "         Iterations: 29\n",
        "         Function evaluations: 76\n"
       ]
      },
      {
       "javascript": [
        "$('div#c39ad371-227b-4174-830f-700ec9eb05a3').width('86.67%')"
       ],
       "metadata": {},
       "output_type": "display_data",
       "text": [
        "<IPython.core.display.Javascript at 0x7f5fd4963a90>"
       ]
      },
      {
       "output_type": "stream",
       "stream": "stdout",
       "text": [
        "Optimization terminated successfully.\n",
        "         Current function value: 0.000112\n",
        "         Iterations: 12\n",
        "         Function evaluations: 28\n"
       ]
      },
      {
       "javascript": [
        "$('div#c39ad371-227b-4174-830f-700ec9eb05a3').width('90.00%')"
       ],
       "metadata": {},
       "output_type": "display_data",
       "text": [
        "<IPython.core.display.Javascript at 0x7f5fd48fa650>"
       ]
      },
      {
       "output_type": "stream",
       "stream": "stdout",
       "text": [
        "Optimization terminated successfully.\n",
        "         Current function value: 0.000137\n",
        "         Iterations: 10\n",
        "         Function evaluations: 24\n"
       ]
      },
      {
       "javascript": [
        "$('div#c39ad371-227b-4174-830f-700ec9eb05a3').width('93.33%')"
       ],
       "metadata": {},
       "output_type": "display_data",
       "text": [
        "<IPython.core.display.Javascript at 0x7f5fd4816710>"
       ]
      },
      {
       "output_type": "stream",
       "stream": "stdout",
       "text": [
        "Optimization terminated successfully.\n",
        "         Current function value: 0.015344\n",
        "         Iterations: 116\n",
        "         Function evaluations: 313\n"
       ]
      },
      {
       "javascript": [
        "$('div#c39ad371-227b-4174-830f-700ec9eb05a3').width('96.67%')"
       ],
       "metadata": {},
       "output_type": "display_data",
       "text": [
        "<IPython.core.display.Javascript at 0x7f5fd45f3a50>"
       ]
      },
      {
       "output_type": "stream",
       "stream": "stdout",
       "text": [
        "Optimization terminated successfully.\n",
        "         Current function value: 0.007996\n",
        "         Iterations: 24\n",
        "         Function evaluations: 61\n"
       ]
      },
      {
       "javascript": [
        "$('div#c39ad371-227b-4174-830f-700ec9eb05a3').width('100.00%')"
       ],
       "metadata": {},
       "output_type": "display_data",
       "text": [
        "<IPython.core.display.Javascript at 0x7f5fd4aaae10>"
       ]
      },
      {
       "output_type": "stream",
       "stream": "stdout",
       "text": [
        "----------------------------------------------------------------------------------------------------\n"
       ]
      }
     ],
     "prompt_number": 74
    },
    {
     "cell_type": "code",
     "collapsed": false,
     "input": [
      "print len(y)"
     ],
     "language": "python",
     "metadata": {},
     "outputs": []
    },
    {
     "cell_type": "code",
     "collapsed": false,
     "input": [
      "def sspro_accrt_minfunc(p, theta, ydata, ntrials, fitting=True, depHyper=True):\n",
      "\n",
      "    theta['v']=p['v'].value\n",
      "    theta['ssv'] = -abs(theta['ssv'])\n",
      "\n",
      "    yhat=simulate(theta, mfx=radd_fitfx, ntrials=ntrials, timebound=.560, \n",
      "            depHyper=depHyper, task='ssPro', condition_str='bsl') \n",
      "    \n",
      "    if theta['pGo']==0.0:\n",
      "        return np.array([0, yhat[1]-ydata[1]])\n",
      "        \n",
      "    else:\n",
      "        return np.array([yhat[0]-ydata[0], yhat[1]-ydata[1]])"
     ],
     "language": "python",
     "metadata": {},
     "outputs": [],
     "prompt_number": 72
    },
    {
     "cell_type": "code",
     "collapsed": false,
     "input": [
      "def radd_fitfx(theta, timebound=.560, ttype='go', depHyper=True, tau=.0005, si=.01, **kwargs):\n",
      "\n",
      "    if ttype=='stop':sstrial=1\n",
      "    else: sstrial=0\n",
      "\n",
      "    mu=theta['v']; tr=theta['t']; a=theta['a']\n",
      "    z=theta['z']; ssv=theta['ssv']; ssd=theta['ssd']\n",
      "\n",
      "\n",
      "    if tr>ssd and sstrial:\n",
      "        t=ssd # start the time at ssd\n",
      "    else:\n",
      "        t=tr  # start the time at tr\n",
      "\n",
      "    ss_started=False\n",
      "    no_choice_yet=True\n",
      "    dx=np.sqrt(si*tau)  # dx is the step size up or down.\n",
      "    e=z\t                # starting point\n",
      "    e_ss=z              #arbitrary (positive) init value\n",
      "    response=0\n",
      "    \n",
      "    while no_choice_yet: \n",
      "        \n",
      "        t += tau\n",
      "        \n",
      "        if t>=timebound and no_choice_yet:\n",
      "            choice='stop'\n",
      "            rt=timebound\n",
      "            no_choice_yet=False\n",
      "\n",
      "        if t>=tr:\n",
      "            r=np.random.random_sample()\n",
      "            p=0.5*(1 + mu*dx/si)\n",
      "            \n",
      "            if r < p:\n",
      "                e = e + dx\n",
      "            else:\n",
      "                e = e - dx\n",
      "                \n",
      "            if e>=a and no_choice_yet:\n",
      "                choice='go'\n",
      "                response=1\n",
      "                rt=t\n",
      "                no_choice_yet=False\n",
      "        \n",
      "        if sstrial and t>=ssd:\n",
      "            r_ss=np.random.random_sample()\n",
      "            p_ss=0.5*(1 + ssv*dx/si)\n",
      "            if not ss_started and depHyper:\n",
      "                ss_started=True\n",
      "                e_ss=e\n",
      "            else:\n",
      "            \n",
      "                if r_ss < p_ss:\n",
      "                    e_ss = e_ss + dx\n",
      "                else:\n",
      "                    e_ss = e_ss - dx\n",
      "            \n",
      "            if e_ss<=0 and no_choice_yet:\n",
      "                choice='stop'\n",
      "                rt=t\n",
      "                no_choice_yet=False\n",
      "                response=0\n",
      "    \n",
      "    if choice==ttype: \n",
      "        acc=1.00\n",
      "    else: \n",
      "        acc=0.00\n",
      "\n",
      "    return {'rt':rt, 'choice':choice, 'trial_type':ttype,\n",
      "        'acc':acc, 'ssd':ssd, 'pGo':theta['pGo'], 'response':response}"
     ],
     "language": "python",
     "metadata": {},
     "outputs": [],
     "prompt_number": 67
    },
    {
     "cell_type": "code",
     "collapsed": false,
     "input": [
      "def simulate(theta, mfx=radd_fitfx, ntrials=20000, timebound=0.650, intervar=False,\n",
      "    task='ssRe', depHyper=True, condition_str=None, return_all=False):\n",
      "\n",
      "\n",
      "    pStop=1-theta['pGo']\n",
      "    columns=['rt', 'choice', 'response', 'acc', 'trial_type', 'ssd', 'pGo']\n",
      "    df = pd.DataFrame(columns=columns, index=np.arange(0,ntrials))\n",
      "\n",
      "    for i in range(ntrials):\n",
      "\n",
      "        ttype='go'\n",
      "        if np.random.random_sample()<=pStop:\n",
      "            ttype='stop'\n",
      "        \n",
      "        sim_out = mfx(theta, depHyper=depHyper, \n",
      "            timebound=timebound, ttype=ttype)\t\n",
      "\n",
      "        df.loc[i]=pd.Series({c:sim_out[c] for c in df.columns})\n",
      "\n",
      "    if condition_str:\n",
      "        df['condition']=[condition_str]*len(df)\n",
      "\n",
      "    df[['rt', 'acc', 'response']]=df[['rt', 'acc', 'response']].astype(float)\n",
      "    summary=ss.anl(df, task=task)\n",
      "    pstop=summary['pstop']\n",
      "    rt=summary['rt']*10\n",
      "\n",
      "    return [pstop, rt]\n"
     ],
     "language": "python",
     "metadata": {},
     "outputs": [],
     "prompt_number": 68
    },
    {
     "cell_type": "heading",
     "level": 2,
     "metadata": {},
     "source": [
      "Read in Fit and Prediction Summaries for Each Subject and Concatenate"
     ]
    },
    {
     "cell_type": "code",
     "collapsed": false,
     "input": [
      "sxl=list()\n",
      "pth=utils.find_path()\n",
      "\n",
      "#for sx in paramdf.index.unique():\n",
      "#    try:\n",
      "#        sxl.append(pd.read_csv(pth+\"OptAccRT/ProBSL_InitHDDM_550/sx\"+str(sx)+\"_pro_bsl_fits.csv\", index_col=0))\n",
      "#    except:\n",
      "#        pass\n",
      "#df=pd.concat(sxl)\n",
      "\n",
      "df=pd.read_csv(\"ProFits_AllSx.csv\")\n",
      "stops_avg=df.groupby('pGo').mean()\n",
      "stops_sem=df.groupby('pGo').sem()\n",
      "\n",
      "dfrt=df.query('pGo>0')\n",
      "dfrt['rt_radd']=dfrt.loc[:,'rt_radd'].astype('float')\n",
      "rts_avg=dfrt.groupby('pGo').mean()\n",
      "rts_sem=dfrt.groupby('pGo').sem()\n",
      "\n",
      "yd=stops_avg['pstop_data']\n",
      "yh=stops_avg['pstop_radd']\n",
      "yderr=stops_sem['pstop_data']\n",
      "yherr=stops_sem['pstop_radd']\n",
      "\n",
      "\n",
      "rtd=rts_avg['rt_data']/10\n",
      "rth=rts_avg['rt_radd']/10\n",
      "rtderr=rts_sem['rt_data']/10\n",
      "rtherr=rts_sem['rt_radd']/10"
     ],
     "language": "python",
     "metadata": {},
     "outputs": [],
     "prompt_number": 90
    },
    {
     "cell_type": "code",
     "collapsed": false,
     "input": [
      "#yd[0.0]=0.931\n",
      "#yh[0.0]=0.931\n",
      "#yderr[0.0]=.01\n",
      "#yherr[0.0]=.01\n",
      "yd=yd.sort_index()\n",
      "yh=yh.sort_index()\n",
      "yderr=yderr.sort_index()\n",
      "yherr=yherr.sort_index()"
     ],
     "language": "python",
     "metadata": {},
     "outputs": [],
     "prompt_number": 79
    },
    {
     "cell_type": "code",
     "collapsed": false,
     "input": [
      "psy=reload(psy)\n",
      "utils=reload(utils)\n",
      "\n",
      "sparams=utils.style_params()\n",
      "colors=sparams['colors']\n",
      "sns.set_style('ticks', rc=sparams['style'])\n",
      "sns.set_context('paper', rc=sparams['context'])\n",
      "\n",
      "sns.palplot(sparams['colors'])"
     ],
     "language": "python",
     "metadata": {},
     "outputs": [
      {
       "metadata": {},
       "output_type": "display_data",
       "png": "[encoded data removed]",
       "text": [
        "<matplotlib.figure.Figure at 0x7f5fd46b6310>"
       ]
      }
     ],
     "prompt_number": 84
    },
    {
     "cell_type": "code",
     "collapsed": false,
     "input": [
      "psy=reload(psy)\n",
      "\n",
      "stopmeans=[yd.values, yh.values]\n",
      "stoperr=[yderr.values, yherr.values]\n",
      "\n",
      "ax=psy.scurves(ysim=stopmeans, yerr=stoperr, title='ProAllData_GoodSx_StopFits', \n",
      "               colors=[colors[-8], colors[-1]], labels=['Data', 'RADD'], task='ssPro')"
     ],
     "language": "python",
     "metadata": {},
     "outputs": [
      {
       "metadata": {},
       "output_type": "display_data",
       "png": "[encoded data removed]",
       "text": [
        "<matplotlib.figure.Figure at 0x7f5fcfe71210>"
       ]
      }
     ],
     "prompt_number": 95
    },
    {
     "cell_type": "code",
     "collapsed": false,
     "input": [
      "#plot rt\n",
      "plt.close('all')\n",
      "f, ax=plt.subplots(1, figsize=(6, 4))\n",
      "\n",
      "ax.errorbar(rtd.keys(), rtd, yerr=rtderr, color=colors[-8], label='Data')\n",
      "ax.errorbar(rtd.keys(), rth, yerr=rtherr, color=colors[-1], label='RADD')\n",
      "plt.setp(ax, xlim=(.1, 1.1), ylim=(.5, .55), xticks=rtd.keys(), \n",
      "         xticklabels=rtd.keys(), xlabel='P(Go)')\n",
      "plt.setp(ax.get_yticklabels(), fontsize=17)\n",
      "ax.set_ylabel('RT (s)', fontsize=19, labelpad=8) \n",
      "ax.legend(loc=0, fontsize=17)\n",
      "plt.tight_layout()\n",
      "sns.despine()\n",
      "f.savefig(\"ProAllData_GoodSx_PGoRT.png\", dpi=600)    \n",
      "\n",
      "\n",
      "\n",
      "ff, axx=plt.subplots(1, figsize=(5, 5))\n",
      "\n",
      "axx.bar(0, rtd.mean(), yerr=rtderr.mean(), color=colors[-8], error_kw={\"elinewidth\":3,\"ecolor\":'k'},\n",
      "        alpha=.9,align='center', label='Data')\n",
      "\n",
      "axx.errorbar(0, rth.mean(), yerr=rtherr.mean(), marker='o', markersize=10, \n",
      "             elinewidth=3, ecolor='k', color=colors[-1], alpha=1, label='RADD')   \n",
      "\n",
      "plt.setp(axx, xlim=(-.7, .7), ylim=(.5, .56), xticks=[], xticklabels=[], xlabel='ssRe BSL')\n",
      "axx.set_xlabel('Proactive', fontsize=19)\n",
      "plt.setp(axx.get_yticklabels(), fontsize=17)\n",
      "axx.set_ylabel('RT (s)', fontsize=19, labelpad=8) \n",
      "axx.legend(loc=0, fontsize=17)\n",
      "sns.despine()\n",
      "plt.tight_layout()\n",
      "\n",
      "ff.savefig(\"ProAllData_GoodSx_MeanRT.png\", dpi=600)    "
     ],
     "language": "python",
     "metadata": {},
     "outputs": [
      {
       "metadata": {},
       "output_type": "display_data",
       "png": "[encoded data removed]",
       "text": [
        "<matplotlib.figure.Figure at 0x7f5fcfeae650>"
       ]
      },
      {
       "metadata": {},
       "output_type": "display_data",
       "png": "[encoded data removed]",
       "text": [
        "<matplotlib.figure.Figure at 0x7f5fd409f290>"
       ]
      }
     ],
     "prompt_number": 96
    },
    {
     "cell_type": "code",
     "collapsed": false,
     "input": [],
     "language": "python",
     "metadata": {},
     "outputs": []
    }
   ],
   "metadata": {}
  }
 ]
}