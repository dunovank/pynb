{
 "metadata": {
  "name": "",
  "signature": "sha256:bb6d96763fd2c8cfe0f69f1834f1b78686b330bd4870cd8a33d18db2dca7f56d"
 },
 "nbformat": 3,
 "nbformat_minor": 0,
 "worksheets": [
  {
   "cells": [
    {
     "cell_type": "code",
     "collapsed": false,
     "input": [
      "import scipy.stats as stats\n",
      "import matplotlib.pyplot as plt\n",
      "from radd import utils, fitpro, vis, proboot\n",
      "from lmfit import Minimizer, Parameters\n",
      "from collections import OrderedDict\n",
      "pth=utils.find_path()"
     ],
     "language": "python",
     "metadata": {},
     "outputs": []
    },
    {
     "cell_type": "heading",
     "level": 1,
     "metadata": {},
     "source": [
      "Read DFs"
     ]
    },
    {
     "cell_type": "code",
     "collapsed": false,
     "input": [
      "utils=reload(utils); \n",
      "\n",
      "#df to resample for pstop\n",
      "prodf=pd.read_csv(pth+\"DataFiles/Pro_AllData.csv\", index_col=0)\n",
      "\n",
      "#go to proactive bootstrap directory\n",
      "os.chdir(utils.find_path()+\"OptAccRT/Proboot545/\")\n",
      "\n",
      "# init models with best fit parameters (estimated by fitting model to flattend data)\n",
      "opt_params=pd.read_csv(\"final_opt_theta.csv\", index_col=0, names=['val'])\n",
      "inits=opt_params['val'].to_dict()\n",
      "\n"
     ],
     "language": "python",
     "metadata": {},
     "outputs": []
    },
    {
     "cell_type": "heading",
     "level": 1,
     "metadata": {},
     "source": [
      "Run Main Bootstrapping function here"
     ]
    },
    {
     "cell_type": "code",
     "collapsed": false,
     "input": [
      "rt, pstop=proboot.Proboot(prodf, inits, niter=150, ntrials=2000, maxfun=500, method='rwr')"
     ],
     "language": "python",
     "metadata": {},
     "outputs": []
    }
   ],
   "metadata": {}
  }
 ]
}