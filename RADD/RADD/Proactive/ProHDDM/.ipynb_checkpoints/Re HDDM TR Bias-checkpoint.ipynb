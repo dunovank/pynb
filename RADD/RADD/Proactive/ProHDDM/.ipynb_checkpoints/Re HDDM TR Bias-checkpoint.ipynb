{
 "metadata": {
  "name": "",
  "signature": "sha256:872e091a2822b0c53a8d268dbcd18bee753f870238d828448c86a44a3439ab3b"
 },
 "nbformat": 3,
 "nbformat_minor": 0,
 "worksheets": [
  {
   "cells": [
    {
     "cell_type": "code",
     "collapsed": false,
     "input": [
      "from __future__ import division\n",
      "import pandas as pd\n",
      "import hddm\n",
      "import seaborn as sns\n",
      "import os\n",
      "from IPython import parallel\n",
      "from radd import fitfx, hd, fitre, utils, vis"
     ],
     "language": "python",
     "metadata": {},
     "outputs": [],
     "prompt_number": 1
    },
    {
     "cell_type": "code",
     "collapsed": false,
     "input": [
      "pth=utils.find_path()\n",
      "os.chdir(\"/home/kyle/Dropbox/CoAx/SS/tbias/\")\n",
      "data=pd.read_csv(pth+\"DataFiles/Re_Data.csv\",index_col=0)\n",
      "cgo=data.query(\"choice=='go' & acc==1\")"
     ],
     "language": "python",
     "metadata": {},
     "outputs": [],
     "prompt_number": 2
    },
    {
     "cell_type": "code",
     "collapsed": false,
     "input": [
      "hd=reload(hd)\n",
      "chunk_list = lambda lst, siz: [lst[i:i+siz] for i in range(0, len(lst), siz)]\n",
      "chunk_df = lambda lol, df: [df[df['idx'].isin(l)] for l in lol]\n",
      "idxmean = lambda df: df.groupby('idx').rt.mean().values\n",
      "\n",
      "def fit_hddm_parallel(df):\n",
      "    df['subj_idx']=df['idx']\n",
      "    from radd import hd\n",
      "    hd=reload(hd)\n",
      "    stats = hd.fit_sxhddm(df, depends_on={'t':'Cond'}, bias=True, informative=True,\n",
      "                include= ['a', 't', 'v', 'z', 'sv', 'st'], task='ssRe', save_str=\"tbias\")\n",
      "    \n",
      "    return stats"
     ],
     "language": "python",
     "metadata": {},
     "outputs": [],
     "prompt_number": 3
    },
    {
     "cell_type": "code",
     "collapsed": false,
     "input": [
      "sxlist=list(cgo.idx.unique())\n",
      "idchunks=chunk_list(sxlist, 12)\n",
      "idchunks[-2].append(idchunks.pop(-1)[0])\n",
      "\n",
      "dflist=chunk_df(idchunks, cgo)"
     ],
     "language": "python",
     "metadata": {},
     "outputs": [],
     "prompt_number": 4
    },
    {
     "cell_type": "code",
     "collapsed": false,
     "input": [
      "# initialize IPython clusters \n",
      "# (ipynb home --> clusters)\n",
      "clients = parallel.Client()\n",
      "clients.block = True  # use synchronous computations\n",
      "\n",
      "allproc = clients.load_balanced_view()"
     ],
     "language": "python",
     "metadata": {},
     "outputs": [],
     "prompt_number": 5
    },
    {
     "cell_type": "heading",
     "level": 2,
     "metadata": {},
     "source": [
      "Individual Sx Fits: TR Bias model (BSL vs. PNL)"
     ]
    },
    {
     "cell_type": "code",
     "collapsed": true,
     "input": [
      "all_proc_stats = allproc.map(fit_hddm_parallel, dflist[:])"
     ],
     "language": "python",
     "metadata": {},
     "outputs": [],
     "prompt_number": 6
    },
    {
     "cell_type": "code",
     "collapsed": false,
     "input": [
      "dfall=pd.concat(all_proc_stats).reset_index(drop=True)\n",
      "\n",
      "dfall.to_csv(\"ReHDDM_TBias_FitStats.csv\")"
     ],
     "language": "python",
     "metadata": {},
     "outputs": [],
     "prompt_number": 51
    },
    {
     "cell_type": "code",
     "collapsed": false,
     "input": [
      "params=pd.concat([df.reset_index(drop=True).pivot('idx', 'param', 'mean') for df in all_proc_stats])\n",
      "params['a']=params['a']/10\n",
      "params['v']=params['v']/10\n",
      "params['z']=params['a']*params['z']\n",
      "\n",
      "params.to_csv(\"ReHDDM_tbias_params.csv\") "
     ],
     "language": "python",
     "metadata": {},
     "outputs": [],
     "prompt_number": 68
    },
    {
     "cell_type": "code",
     "collapsed": false,
     "input": [
      "sp=utils.style_params()\n",
      "x=np.arange(len(alldf.columns))\n",
      "xnames=alldf.columns\n",
      "mu=alldf.mean()\n",
      "err=alldf.sem()*1.96\n",
      "sns.set_style('ticks', rc=sp['style'])\n",
      "\n",
      "c=sns.color_palette('husl', n_colors=len(x))\n",
      "for xx in x:\n",
      "    plt.errorbar(xx, mu[xx], yerr=err[xx], lw=0, elinewidth=2, marker='o', ms=8, color=c[xx])\n",
      "sns.despine()\n",
      "\n",
      "f=plt.gcf()\n",
      "ax=plt.gca()\n",
      "\n",
      "ax.set_xlabel(\"Parameter %s\"%'$\\\\theta$', fontsize=22)\n",
      "ax.set_ylabel('$\\\\theta$'+\" Units\", fontsize=22)\n",
      "plt.setp(ax, xticks=x, xticklabels=xnames, xlim=(-.5,x[-1]+.5))\n",
      "\n",
      "plt.setp(ax.get_yticklabels(), fontsize=16)\n",
      "plt.setp(ax.get_xticklabels(), fontsize=20)\n",
      "\n",
      "plt.tight_layout()\n",
      "f.savefig(\"rehddm_tbias_params.png\", dpi=600)"
     ],
     "language": "python",
     "metadata": {},
     "outputs": [
      {
       "metadata": {},
       "output_type": "display_data",
       "png": "[encoded data removed]",
       "text": [
        "<matplotlib.figure.Figure at 0x7f6e6b6d03d0>"
       ]
      }
     ],
     "prompt_number": 66
    },
    {
     "cell_type": "heading",
     "level": 2,
     "metadata": {},
     "source": [
      "Simulations (BSL vs. PNL)"
     ]
    },
    {
     "cell_type": "code",
     "collapsed": false,
     "input": [
      "#EmpBSL_RT=data.query('Cond==\"bsl\"').describe().ix['mean', 'rt']\n",
      "#EmpPNL_RT=data.query('Cond==\"pnl\"').describe().ix['mean', 'rt']\n",
      "#estd1=data.query('Cond==\"bsl\"').describe().ix['std', 'rt']\n",
      "#estd2=data.query('Cond==\"pnl\"').describe().ix['std', 'rt']\n",
      "\n",
      "SimBSL_RT=sxdf.query('condition==\"bsl\"').describe().ix['mean', 'go_rt_all']\n",
      "SimPNL_RT=sxdf.query('condition==\"pnl\"').describe().ix['mean', 'go_rt_all']\n",
      "sstd1=sxdf.query('condition==\"bsl\"').describe().ix['std', 'go_rt_cor']\n",
      "sstd2=sxdf.query('condition==\"pnl\"').describe().ix['std', 'go_rt_cor']\n",
      "\n",
      "sim_rt=np.array([SimBSL_RT, SimPNL_RT]) \n",
      "emp_rt=np.array([.565625, .573415]) #np.array([EmpBSL_RT, EmpPNL_RT])\n",
      "sim_err=np.array([sstd1, sstd2])/sqrt(len(sxdf)/2) \n",
      "emp_err=emp_err = np.array([.0029, .0024]) #np.array([estd1, estd2])/sqrt(60)"
     ],
     "language": "python",
     "metadata": {},
     "outputs": [],
     "prompt_number": 89
    },
    {
     "cell_type": "code",
     "collapsed": false,
     "input": [
      "print \"P(vbsl > vpnl) = \", (bsl.trace() > pnl.trace()).mean()"
     ],
     "language": "python",
     "metadata": {},
     "outputs": [
      {
       "output_type": "stream",
       "stream": "stdout",
       "text": [
        "P(vbsl > vpnl) =  0.883866666667\n"
       ]
      }
     ],
     "prompt_number": 14
    }
   ],
   "metadata": {}
  }
 ]
}