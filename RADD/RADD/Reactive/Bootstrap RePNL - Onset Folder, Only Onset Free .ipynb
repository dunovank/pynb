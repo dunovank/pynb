{
 "metadata": {
  "name": "",
  "signature": "sha256:731860ec07cf1d5de02fca10851d344ed316218418d113c586b20d828bc2a645"
 },
 "nbformat": 3,
 "nbformat_minor": 0,
 "worksheets": [
  {
   "cells": [
    {
     "cell_type": "code",
     "collapsed": false,
     "input": [
      "from radd_demo import reboot"
     ],
     "language": "python",
     "metadata": {},
     "outputs": [],
     "prompt_number": 9
    },
    {
     "cell_type": "code",
     "collapsed": false,
     "input": [
      "os.chdir('\"/home/kyle/Dropbox/CoAx/SS/Reactive/PNL/Boot/RADD/')\n",
      "data=pd.read_csv(\"/home/kyle/Dropbox/CoAx/SS/Reactive/PNL/pnl_data.csv\")\n",
      "#read in reactive parameters to pandas df & convert to dict\n",
      "inits=pd.read_csv(\"/home/kyle/Dropbox/CoAx/SS/Reactive/BSL/Boot/Onset/bsl_rwr_popt_onset.csv\", index_col=0).mean().to_dict()"
     ],
     "language": "python",
     "metadata": {},
     "outputs": [],
     "prompt_number": 12
    },
    {
     "cell_type": "code",
     "collapsed": false,
     "input": [
      "reboot.Reboot(data, inits, 'pnl', depends=['t'])"
     ],
     "language": "python",
     "metadata": {},
     "outputs": []
    },
    {
     "cell_type": "code",
     "collapsed": false,
     "input": [
      "p = pd.read_csv(\"pnl_rwr_radd_fitinfo.csv\", index_col=0)\n",
      "p.mean()"
     ],
     "language": "python",
     "metadata": {},
     "outputs": [
      {
       "metadata": {},
       "output_type": "pyout",
       "prompt_number": 15,
       "text": [
        "chi          0.00725\n",
        "residuals    0.00383\n",
        "ydata        0.70774\n",
        "yhat         0.71156\n",
        "dtype: float64"
       ]
      }
     ],
     "prompt_number": 15
    },
    {
     "cell_type": "code",
     "collapsed": false,
     "input": [],
     "language": "python",
     "metadata": {},
     "outputs": []
    }
   ],
   "metadata": {}
  }
 ]
}