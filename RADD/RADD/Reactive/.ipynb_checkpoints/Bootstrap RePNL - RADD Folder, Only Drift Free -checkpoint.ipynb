{
 "metadata": {
  "name": "",
  "signature": "sha256:bd55c70686a74616ec2c47b2550789028d8b592e061e5c7810ce613d1fca7d55"
 },
 "nbformat": 3,
 "nbformat_minor": 0,
 "worksheets": [
  {
   "cells": [
    {
     "cell_type": "code",
     "collapsed": false,
     "input": [
      "from radd_demo import reboot\n",
      "from scipy.stats import ttest_rel"
     ],
     "language": "python",
     "metadata": {},
     "outputs": [],
     "prompt_number": 5
    },
    {
     "cell_type": "code",
     "collapsed": false,
     "input": [
      "os.chdir('\"/home/kyle/Dropbox/CoAx/SS/Reactive/PNL/Boot/RADD/')\n",
      "data=pd.read_csv(\"/home/kyle/Dropbox/CoAx/SS/Reactive/PNL/pnl_data.csv\")\n",
      "#read in reactive parameters to pandas df & convert to dict\n",
      "inits=pd.read_csv(\"/home/kyle/Dropbox/Git/radd_demo/demo/reB_theta.csv\", index_col=0).to_dict()['mean']"
     ],
     "language": "python",
     "metadata": {},
     "outputs": [],
     "prompt_number": 1
    },
    {
     "cell_type": "code",
     "collapsed": false,
     "input": [
      "fits = reboot.Reboot(data, inits, 'pnl')"
     ],
     "language": "python",
     "metadata": {},
     "outputs": []
    },
    {
     "cell_type": "code",
     "collapsed": false,
     "input": [
      "drift_popt = pd.read_csv(\"/home/kyle/Dropbox/CoAx/SS/Reactive/PNL/Boot/RADD/pnl_rwr_radd_fitinfo_radd.csv\",index_col=0)\n",
      "onset_popt = pd.read_csv(\"/home/kyle/Dropbox/CoAx/SS/Reactive/PNL/Boot/Onset/pnl_rwr_radd_fitinfo_onset.csv\",index_col=0)"
     ],
     "language": "python",
     "metadata": {},
     "outputs": [],
     "prompt_number": 4
    },
    {
     "cell_type": "code",
     "collapsed": false,
     "input": [
      "from scipy.stats import ttest_rel\n",
      "ttest_rel(drift_popt.chi.values, onset_popt.chi.values)"
     ],
     "language": "python",
     "metadata": {},
     "outputs": [
      {
       "metadata": {},
       "output_type": "pyout",
       "prompt_number": 6,
       "text": [
        "(-29.338445673367303, 2.9182040838756394e-133)"
       ]
      }
     ],
     "prompt_number": 6
    }
   ],
   "metadata": {}
  }
 ]
}