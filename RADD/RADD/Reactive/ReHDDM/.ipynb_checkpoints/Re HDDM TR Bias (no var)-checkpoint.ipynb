{
 "metadata": {
  "name": "",
  "signature": "sha256:4e2ba0dc586607e14d115a80575a806631e9123db04c16b093b509951631cad8"
 },
 "nbformat": 3,
 "nbformat_minor": 0,
 "worksheets": [
  {
   "cells": [
    {
     "cell_type": "code",
     "collapsed": false,
     "input": [
      "import hddm\n",
      "from IPython import parallel\n",
      "from radd import fitfx, hd, fitre, utils, vis"
     ],
     "language": "python",
     "metadata": {},
     "outputs": [],
     "prompt_number": 16
    },
    {
     "cell_type": "code",
     "collapsed": false,
     "input": [
      "pth=utils.find_path()\n",
      "\n",
      "savepath=pth+\"tbias/novar/\"\n",
      "\n",
      "os.chdir(savepath)\n",
      "data=pd.read_csv(pth+\"DataFiles/Re_Data.csv\",index_col=0)\n",
      "cgo=data.query(\"choice=='go' & acc==1\")"
     ],
     "language": "python",
     "metadata": {},
     "outputs": [],
     "prompt_number": 17
    },
    {
     "cell_type": "code",
     "collapsed": false,
     "input": [
      "chunk_list = lambda lst, siz: [lst[i:i+siz] for i in range(0, len(lst), siz)]\n",
      "chunk_df = lambda lol, df: [df[df['idx'].isin(l)] for l in lol]\n",
      "idxmean = lambda df: df.groupby('idx').rt.mean().values\n",
      "\n",
      "def fit_hddm_parallel(df):\n",
      "    from radd import hd, utils\n",
      "    pth=utils.find_path()\n",
      "    \n",
      "    savepath=pth+\"tbias/novar/\"\n",
      "    df['subj_idx']=df['idx']\n",
      "    stats = hd.fit_sxhddm(df, depends_on={'t':'Cond'}, bias=True, informative=True,\n",
      "                include= ['a', 't', 'v', 'z'], task='ssRe', save_str=\"tbias\", savepath=savepath)\n",
      "    \n",
      "    return stats"
     ],
     "language": "python",
     "metadata": {},
     "outputs": [],
     "prompt_number": 18
    },
    {
     "cell_type": "code",
     "collapsed": false,
     "input": [
      "sxlist=list(cgo.idx.unique())\n",
      "idchunks=chunk_list(sxlist, 12)\n",
      "idchunks[-2].append(idchunks.pop(-1)[0])\n",
      "\n",
      "dflist=chunk_df(idchunks, cgo)"
     ],
     "language": "python",
     "metadata": {},
     "outputs": [],
     "prompt_number": 19
    },
    {
     "cell_type": "code",
     "collapsed": false,
     "input": [
      "# initialize IPython clusters \n",
      "# (ipynb home --> clusters)\n",
      "clients = parallel.Client()\n",
      "clients.block = True  # use synchronous computations\n",
      "\n",
      "allproc = clients.load_balanced_view()"
     ],
     "language": "python",
     "metadata": {},
     "outputs": [],
     "prompt_number": 20
    },
    {
     "cell_type": "heading",
     "level": 2,
     "metadata": {},
     "source": [
      "Individual Sx Fits: TR Bias model (BSL vs. PNL)"
     ]
    },
    {
     "cell_type": "code",
     "collapsed": true,
     "input": [
      "all_proc_stats = allproc.map(fit_hddm_parallel, dflist[:])"
     ],
     "language": "python",
     "metadata": {},
     "outputs": [
      {
       "ename": "CompositeError",
       "evalue": "one or more exceptions from call to method: fit_hddm_parallel\n[2:apply]: NameError: global name 'allsx' is not defined\n[3:apply]: NameError: global name 'allsx' is not defined\n[1:apply]: NameError: global name 'allsx' is not defined\n[4:apply]: NameError: global name 'allsx' is not defined\n.... 1 more exceptions ...",
       "output_type": "pyerr",
       "traceback": [
        "[2:apply]: ",
        "\u001b[1;31m---------------------------------------------------------------------------\u001b[0m",
        "\u001b[1;31mNameError\u001b[0m                                 Traceback (most recent call last)\u001b[1;32m<string>\u001b[0m in \u001b[0;36m<module>\u001b[1;34m()\u001b[0m",
        "\u001b[1;32m<ipython-input-18-e5e45153b2c9>\u001b[0m in \u001b[0;36mfit_hddm_parallel\u001b[1;34m(df)\u001b[0m",
        "\u001b[1;32m/home/kyle/Dropbox/Git/radd/hd.pyc\u001b[0m in \u001b[0;36mfit_sxhddm\u001b[1;34m(data, depends_on, include, bias, informative, task, save_str, **kwargs)\u001b[0m",
        "\u001b[0;32m     63\u001b[0m                 \u001b[1;31m#aic_list.append(aic(m_sx))\u001b[0m\u001b[1;33m\u001b[0m\u001b[1;33m\u001b[0m\u001b[0m",
        "\u001b[0;32m     64\u001b[0m                 \u001b[1;31m#bic_list.append(bic(m_sx))\u001b[0m\u001b[1;33m\u001b[0m\u001b[1;33m\u001b[0m\u001b[0m",
        "\u001b[1;32m---> 65\u001b[1;33m                 \u001b[1;31m#dic_list.append(m_sx.dic)\u001b[0m\u001b[1;33m\u001b[0m\u001b[1;33m\u001b[0m\u001b[0m",
        "\u001b[0m\u001b[0;32m     66\u001b[0m \u001b[1;33m\u001b[0m\u001b[0m",
        "\u001b[0;32m     67\u001b[0m         \u001b[0mallsx_df\u001b[0m\u001b[1;33m=\u001b[0m\u001b[0mpd\u001b[0m\u001b[1;33m.\u001b[0m\u001b[0mconcat\u001b[0m\u001b[1;33m(\u001b[0m\u001b[0msxparams\u001b[0m\u001b[1;33m)\u001b[0m\u001b[1;33m\u001b[0m\u001b[0m",
        "\u001b[1;31mNameError\u001b[0m: global name 'allsx' is not defined",
        "",
        "[3:apply]: ",
        "\u001b[1;31m---------------------------------------------------------------------------\u001b[0m",
        "\u001b[1;31mNameError\u001b[0m                                 Traceback (most recent call last)\u001b[1;32m<string>\u001b[0m in \u001b[0;36m<module>\u001b[1;34m()\u001b[0m",
        "\u001b[1;32m<ipython-input-18-e5e45153b2c9>\u001b[0m in \u001b[0;36mfit_hddm_parallel\u001b[1;34m(df)\u001b[0m",
        "\u001b[1;32m/home/kyle/Dropbox/Git/radd/hd.pyc\u001b[0m in \u001b[0;36mfit_sxhddm\u001b[1;34m(data, depends_on, include, bias, informative, task, save_str, **kwargs)\u001b[0m",
        "\u001b[0;32m     63\u001b[0m                 \u001b[1;31m#aic_list.append(aic(m_sx))\u001b[0m\u001b[1;33m\u001b[0m\u001b[1;33m\u001b[0m\u001b[0m",
        "\u001b[0;32m     64\u001b[0m                 \u001b[1;31m#bic_list.append(bic(m_sx))\u001b[0m\u001b[1;33m\u001b[0m\u001b[1;33m\u001b[0m\u001b[0m",
        "\u001b[1;32m---> 65\u001b[1;33m                 \u001b[1;31m#dic_list.append(m_sx.dic)\u001b[0m\u001b[1;33m\u001b[0m\u001b[1;33m\u001b[0m\u001b[0m",
        "\u001b[0m\u001b[0;32m     66\u001b[0m \u001b[1;33m\u001b[0m\u001b[0m",
        "\u001b[0;32m     67\u001b[0m         \u001b[0mallsx_df\u001b[0m\u001b[1;33m=\u001b[0m\u001b[0mpd\u001b[0m\u001b[1;33m.\u001b[0m\u001b[0mconcat\u001b[0m\u001b[1;33m(\u001b[0m\u001b[0msxparams\u001b[0m\u001b[1;33m)\u001b[0m\u001b[1;33m\u001b[0m\u001b[0m",
        "\u001b[1;31mNameError\u001b[0m: global name 'allsx' is not defined",
        "",
        "[1:apply]: ",
        "\u001b[1;31m---------------------------------------------------------------------------\u001b[0m",
        "\u001b[1;31mNameError\u001b[0m                                 Traceback (most recent call last)\u001b[1;32m<string>\u001b[0m in \u001b[0;36m<module>\u001b[1;34m()\u001b[0m",
        "\u001b[1;32m<ipython-input-18-e5e45153b2c9>\u001b[0m in \u001b[0;36mfit_hddm_parallel\u001b[1;34m(df)\u001b[0m",
        "\u001b[1;32m/home/kyle/Dropbox/Git/radd/hd.pyc\u001b[0m in \u001b[0;36mfit_sxhddm\u001b[1;34m(data, depends_on, include, bias, informative, task, save_str, **kwargs)\u001b[0m",
        "\u001b[0;32m     63\u001b[0m                 \u001b[1;31m#aic_list.append(aic(m_sx))\u001b[0m\u001b[1;33m\u001b[0m\u001b[1;33m\u001b[0m\u001b[0m",
        "\u001b[0;32m     64\u001b[0m                 \u001b[1;31m#bic_list.append(bic(m_sx))\u001b[0m\u001b[1;33m\u001b[0m\u001b[1;33m\u001b[0m\u001b[0m",
        "\u001b[1;32m---> 65\u001b[1;33m                 \u001b[1;31m#dic_list.append(m_sx.dic)\u001b[0m\u001b[1;33m\u001b[0m\u001b[1;33m\u001b[0m\u001b[0m",
        "\u001b[0m\u001b[0;32m     66\u001b[0m \u001b[1;33m\u001b[0m\u001b[0m",
        "\u001b[0;32m     67\u001b[0m         \u001b[0mallsx_df\u001b[0m\u001b[1;33m=\u001b[0m\u001b[0mpd\u001b[0m\u001b[1;33m.\u001b[0m\u001b[0mconcat\u001b[0m\u001b[1;33m(\u001b[0m\u001b[0msxparams\u001b[0m\u001b[1;33m)\u001b[0m\u001b[1;33m\u001b[0m\u001b[0m",
        "\u001b[1;31mNameError\u001b[0m: global name 'allsx' is not defined",
        "",
        "[4:apply]: ",
        "\u001b[1;31m---------------------------------------------------------------------------\u001b[0m",
        "\u001b[1;31mNameError\u001b[0m                                 Traceback (most recent call last)\u001b[1;32m<string>\u001b[0m in \u001b[0;36m<module>\u001b[1;34m()\u001b[0m",
        "\u001b[1;32m<ipython-input-18-e5e45153b2c9>\u001b[0m in \u001b[0;36mfit_hddm_parallel\u001b[1;34m(df)\u001b[0m",
        "\u001b[1;32m/home/kyle/Dropbox/Git/radd/hd.pyc\u001b[0m in \u001b[0;36mfit_sxhddm\u001b[1;34m(data, depends_on, include, bias, informative, task, save_str, **kwargs)\u001b[0m",
        "\u001b[0;32m     63\u001b[0m                 \u001b[1;31m#aic_list.append(aic(m_sx))\u001b[0m\u001b[1;33m\u001b[0m\u001b[1;33m\u001b[0m\u001b[0m",
        "\u001b[0;32m     64\u001b[0m                 \u001b[1;31m#bic_list.append(bic(m_sx))\u001b[0m\u001b[1;33m\u001b[0m\u001b[1;33m\u001b[0m\u001b[0m",
        "\u001b[1;32m---> 65\u001b[1;33m                 \u001b[1;31m#dic_list.append(m_sx.dic)\u001b[0m\u001b[1;33m\u001b[0m\u001b[1;33m\u001b[0m\u001b[0m",
        "\u001b[0m\u001b[0;32m     66\u001b[0m \u001b[1;33m\u001b[0m\u001b[0m",
        "\u001b[0;32m     67\u001b[0m         \u001b[0mallsx_df\u001b[0m\u001b[1;33m=\u001b[0m\u001b[0mpd\u001b[0m\u001b[1;33m.\u001b[0m\u001b[0mconcat\u001b[0m\u001b[1;33m(\u001b[0m\u001b[0msxparams\u001b[0m\u001b[1;33m)\u001b[0m\u001b[1;33m\u001b[0m\u001b[0m",
        "\u001b[1;31mNameError\u001b[0m: global name 'allsx' is not defined",
        "",
        "... 1 more exceptions ..."
       ]
      }
     ],
     "prompt_number": 21
    },
    {
     "cell_type": "code",
     "collapsed": false,
     "input": [
      "pth=utils.find_path()\n",
      "rebsl=data.copy()\n",
      "\n",
      "\n",
      "os.chdir(pth+\"tbias/novar\")\n",
      "dic_df=pd.DataFrame(columns=['DIC', 'deviance', 'pD'], index=rebsl.idx.unique())\n",
      "theta=pd.DataFrame(columns=['a','v', 't(bsl)','t(pnl)', 'z'], index=rebsl.idx.unique())\n",
      "sxlist=rebsl.idx.unique()\n",
      "sxdfs=[]\n",
      "\n",
      "for i in sxlist:\n",
      "    try:\n",
      "        sxdf=pd.read_csv(str(i)+\"_tbias.txt\", sep='\\s*')\n",
      "        theta.loc[i, :]=sxdf.iloc[:-3, 1].values\n",
      "        dic_df.loc[i, :]=sxdf.iloc[-3:, 1].values\n",
      "        \n",
      "    except Exception:\n",
      "        continue"
     ],
     "language": "python",
     "metadata": {},
     "outputs": [],
     "prompt_number": 38
    },
    {
     "cell_type": "code",
     "collapsed": false,
     "input": [
      "theta.loc[:,'a']=theta.loc[:,'a']/10\n",
      "theta.loc[:,'v']=theta.loc[:,'v']/10\n",
      "theta.loc[:,'z']=theta['a']*theta['z']\n",
      "theta['tdiff']=theta['t(bsl)']-theta['t(pnl)']\n",
      "\n",
      "theta.to_csv(\"ReHDDM_tbias_params.csv\")\n",
      "\n",
      "dic_df.dropna(inplace=True)\n",
      "dic_df.to_csv(\"ReHDDM_tbias_DIC.csv\")\n",
      "#sxdfs.append(params)\n",
      "#param_df=pd.concat(sxdfs)"
     ],
     "language": "python",
     "metadata": {},
     "outputs": [],
     "prompt_number": 39
    },
    {
     "cell_type": "code",
     "collapsed": false,
     "input": [
      "params=pd.read_csv(pth+\"tbias/ReHDDM_tbias_params.csv\")\n",
      "params['tdiff']=params['t(bsl)']-params['t(pnl)']\n",
      "params=params.loc[:,'a':]\n",
      "params['tdiff'].mean()\n"
     ],
     "language": "python",
     "metadata": {},
     "outputs": []
    },
    {
     "cell_type": "code",
     "collapsed": false,
     "input": [
      "os.chdir(pth+\"tbias/novar\")\n",
      "params=pd.read_csv(\"ReHDDM_tbias_params.csv\")\n",
      "params=params.loc[:,'a':]\n",
      "params['tdiff']=params['t(bsl)']-params['t(pnl)']\n",
      "tdiff=params['tdiff'].mean()\n",
      "tdiff_err=params['tdiff'].sem()*1.96\n",
      "\n",
      "x=np.arange(len(params.columns))\n",
      "xnames=list(params.columns)\n",
      "xnames[-1]='$\\Delta$'+'t'\n",
      "mu=params.mean()\n",
      "err=params.sem()*1.96\n",
      "sns.set_style('ticks', rc=sp['style'])\n",
      "f, ax = plt.subplots(1, figsize=(7.5, 5))\n",
      "c=sns.color_palette('hls', n_colors=len(x))\n",
      "for xx in x:\n",
      "    ax.bar(xx, mu[xx], yerr=err[xx], color=c[xx], ecolor='k', align='center')\n",
      "sns.despine()\n",
      "\n",
      "ax.set_xlabel(\"Parameter %s\"%'$\\\\theta$', fontsize=22)\n",
      "ax.set_ylabel('$\\\\theta$'+\" Units\", fontsize=22)\n",
      "plt.setp(ax, xticks=x, xticklabels=xnames, xlim=(-.8,x[-1]+.8), ylim=(-.2, 1.2))\n",
      "\n",
      "plt.setp(ax.get_yticklabels(), fontsize=16)\n",
      "plt.setp(ax.get_xticklabels(), fontsize=20)\n",
      "plt.hlines(y=0, xmin=-2, xmax=x[-1]+3, alpha=.4, linestyle='--')\n",
      "plt.tight_layout()\n",
      "\n",
      "\n",
      "f.savefig(\"rehddm_tbias_novar_params.png\", dpi=600)"
     ],
     "language": "python",
     "metadata": {},
     "outputs": [
      {
       "metadata": {},
       "output_type": "display_data",
       "png": "[encoded data removed]",
       "text": [
        "<matplotlib.figure.Figure at 0x7f1593eebb90>"
       ]
      }
     ],
     "prompt_number": 42
    },
    {
     "cell_type": "heading",
     "level": 2,
     "metadata": {},
     "source": [
      "Flat Fits No Inter-Trial Var"
     ]
    },
    {
     "cell_type": "code",
     "collapsed": false,
     "input": [
      "pth=utils.find_path()\n",
      "os.chdir(\"/home/kyle/Dropbox/CoAx/SS/tbias/\")\n",
      "data=pd.read_csv(pth+\"DataFiles/Re_Data.csv\",index_col=0)\n",
      "datac=data.query(\"choice=='go' & acc==1\")\n",
      "\n",
      "os.chdir()\n",
      "\n",
      "mflat=hddm.HDDM(datac, depends_on={'t':'Cond'}, bias=True, include= ['a', 't', 'v', 'z'])\n",
      "mflat.sample(60000, burn=20000, thin=3)\n",
      "\n",
      "statsdf=mflat.gen_stats()\n",
      "statsdf['idx']=[idx]*len(statsdf)\n",
      "mflat.plot_posteriors(save=True)\n",
      "\n",
      "mflat.print_stats(\"reflat_tbias_params.txt\")"
     ],
     "language": "python",
     "metadata": {},
     "outputs": []
    },
    {
     "cell_type": "code",
     "collapsed": false,
     "input": [
      "os.chdir()\n",
      "\n",
      "mflat=hddm.HDDM(datac, depends_on={'t':'Cond'}, bias=True, include= ['a', 't', 'v', 'z'])\n",
      "mflat.sample(60000, burn=20000, thin=3)\n",
      "\n",
      "statsdf=mflat.gen_stats()\n",
      "statsdf['idx']=[idx]*len(statsdf)\n",
      "mflat.plot_posteriors(save=True)\n",
      "\n",
      "mflat.print_stats(\"reflat_tbias_params.txt\")"
     ],
     "language": "python",
     "metadata": {},
     "outputs": []
    },
    {
     "cell_type": "heading",
     "level": 2,
     "metadata": {},
     "source": [
      "Simulations (BSL vs. PNL)"
     ]
    },
    {
     "cell_type": "code",
     "collapsed": false,
     "input": [
      "#EmpBSL_RT=data.query('Cond==\"bsl\"').describe().ix['mean', 'rt']\n",
      "#EmpPNL_RT=data.query('Cond==\"pnl\"').describe().ix['mean', 'rt']\n",
      "#estd1=data.query('Cond==\"bsl\"').describe().ix['std', 'rt']\n",
      "#estd2=data.query('Cond==\"pnl\"').describe().ix['std', 'rt']\n",
      "\n",
      "SimBSL_RT=sxdf.query('condition==\"bsl\"').describe().ix['mean', 'go_rt_all']\n",
      "SimPNL_RT=sxdf.query('condition==\"pnl\"').describe().ix['mean', 'go_rt_all']\n",
      "sstd1=sxdf.query('condition==\"bsl\"').describe().ix['std', 'go_rt_cor']\n",
      "sstd2=sxdf.query('condition==\"pnl\"').describe().ix['std', 'go_rt_cor']\n",
      "\n",
      "sim_rt=np.array([SimBSL_RT, SimPNL_RT]) \n",
      "emp_rt=np.array([.565625, .573415]) #np.array([EmpBSL_RT, EmpPNL_RT])\n",
      "sim_err=np.array([sstd1, sstd2])/sqrt(len(sxdf)/2) \n",
      "emp_err=emp_err = np.array([.0029, .0024]) #np.array([estd1, estd2])/sqrt(60)"
     ],
     "language": "python",
     "metadata": {},
     "outputs": [],
     "prompt_number": 89
    },
    {
     "cell_type": "code",
     "collapsed": false,
     "input": [
      "print \"P(vbsl > vpnl) = \", (bsl.trace() > pnl.trace()).mean()"
     ],
     "language": "python",
     "metadata": {},
     "outputs": [
      {
       "output_type": "stream",
       "stream": "stdout",
       "text": [
        "P(vbsl > vpnl) =  0.883866666667\n"
       ]
      }
     ],
     "prompt_number": 14
    }
   ],
   "metadata": {}
  }
 ]
}