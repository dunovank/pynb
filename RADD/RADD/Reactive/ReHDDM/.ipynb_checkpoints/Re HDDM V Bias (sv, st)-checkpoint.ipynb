{
 "metadata": {
  "name": "",
  "signature": "sha256:c08e505cf2a472575f305010151bed5c11bbd0cabc4e5ae7f619237c0ab5158b"
 },
 "nbformat": 3,
 "nbformat_minor": 0,
 "worksheets": [
  {
   "cells": [
    {
     "cell_type": "code",
     "collapsed": false,
     "input": [
      "import hddm\n",
      "from IPython import parallel\n",
      "from radd import fitfx, hd, fitre, utils, vis"
     ],
     "language": "python",
     "metadata": {},
     "outputs": [],
     "prompt_number": 23
    },
    {
     "cell_type": "code",
     "collapsed": false,
     "input": [
      "pth=utils.find_path()\n",
      "\n",
      "os.chdir(\"/home/kyle/Dropbox/CoAx/SS/vbias/svst\")\n",
      "\n",
      "data=pd.read_csv(pth+\"DataFiles/Re_Data.csv\",index_col=0)\n",
      "cgo=data.query(\"choice=='go' & acc==1\")"
     ],
     "language": "python",
     "metadata": {},
     "outputs": [],
     "prompt_number": 24
    },
    {
     "cell_type": "code",
     "collapsed": false,
     "input": [
      "hd=reload(hd)\n",
      "chunk_list = lambda lst, siz: [lst[i:i+siz] for i in range(0, len(lst), siz)]\n",
      "chunk_df = lambda lol, df: [df[df['idx'].isin(l)] for l in lol]\n",
      "idxmean = lambda df: df.groupby('idx').rt.mean().values\n",
      "\n",
      "def fit_hddm_parallel(df):\n",
      "    df['subj_idx']=df['idx']\n",
      "    from radd import hd\n",
      "    hd=reload(hd)\n",
      "    stats = hd.fit_sxhddm(df, depends_on={'v':'Cond'}, bias=True, informative=True,\n",
      "                include= ['a', 't', 'v', 'z', 'sv', 'st'], task='ssRe', save_str=\"vbias\")\n",
      "    \n",
      "    return stats"
     ],
     "language": "python",
     "metadata": {},
     "outputs": [],
     "prompt_number": 4
    },
    {
     "cell_type": "code",
     "collapsed": false,
     "input": [
      "sxlist=list(cgo.idx.unique())\n",
      "idchunks=chunk_list(sxlist, 12)\n",
      "idchunks[-2].append(idchunks.pop(-1)[0])\n",
      "\n",
      "dflist=chunk_df(idchunks, cgo)"
     ],
     "language": "python",
     "metadata": {},
     "outputs": [],
     "prompt_number": 5
    },
    {
     "cell_type": "code",
     "collapsed": false,
     "input": [
      "# initialize IPython clusters \n",
      "# (ipynb home --> clusters)\n",
      "clients = parallel.Client()\n",
      "clients.block = True  # use synchronous computations\n",
      "\n",
      "allproc = clients.load_balanced_view()"
     ],
     "language": "python",
     "metadata": {},
     "outputs": [],
     "prompt_number": 13
    },
    {
     "cell_type": "heading",
     "level": 2,
     "metadata": {},
     "source": [
      "Individual Sx Fits: V Bias model (BSL vs. PNL) with sv, st"
     ]
    },
    {
     "cell_type": "code",
     "collapsed": true,
     "input": [
      "all_proc_stats = allproc.map(fit_hddm_parallel, dflist[:])"
     ],
     "language": "python",
     "metadata": {},
     "outputs": [],
     "prompt_number": 14
    },
    {
     "cell_type": "code",
     "collapsed": false,
     "input": [
      "dfall=pd.concat(all_proc_stats).reset_index(drop=True)\n",
      "\n",
      "dfall.to_csv(\"ReHDDM_VBias_FitStats.csv\")"
     ],
     "language": "python",
     "metadata": {},
     "outputs": [],
     "prompt_number": 15
    },
    {
     "cell_type": "code",
     "collapsed": false,
     "input": [
      "params=pd.concat([df.reset_index(drop=True).pivot('idx', 'param', 'mean') for df in all_proc_stats])\n",
      "params['a']=params['a']/10\n",
      "params['v(bsl)']=params['v(bsl)']/10\n",
      "params['v(pnl)']=params['v(pnl)']/10\n",
      "params['vdiff']=params['v(bsl)']-params['v(pnl)']\n",
      "params['z']=params['a']*params['z']    \n",
      "\n",
      "#params.to_csv(\"ReHDDM_vbias_params.csv\")"
     ],
     "language": "python",
     "metadata": {},
     "outputs": [],
     "prompt_number": 24
    },
    {
     "cell_type": "code",
     "collapsed": false,
     "input": [
      "os.chdir(\"/home/kyle/Dropbox/CoAx/SS/vbias/svst\")\n",
      "params=pd.read_csv(\"ReHDDM_vbias_params.csv\")\n",
      "params=params.loc[:,'a':]\n",
      "sp=utils.style_params()\n",
      "x=np.arange(len(params.columns))\n",
      "xnames=params.columns\n",
      "mu=params.mean()\n",
      "err=params.sem()*1.96\n",
      "sns.set_style('ticks', rc=sp['style'])\n",
      "\n",
      "c=sns.color_palette('hls', n_colors=len(x))\n",
      "for xx in x:\n",
      "    plt.bar(xx, mu[xx], yerr=err[xx], color='gray', ecolor='k', align='center')\n",
      "sns.despine()\n",
      "\n",
      "f=plt.gcf()\n",
      "ax=plt.gca()\n",
      "\n",
      "ax.set_xlabel(\"Parameter %s\"%'$\\\\theta$', fontsize=22)\n",
      "ax.set_ylabel('$\\\\theta$'+\" Units\", fontsize=22)\n",
      "plt.setp(ax, xticks=x, xticklabels=xnames, xlim=(-.5,x[-1]+.5), ylim=(-.2, 1.2))\n",
      "\n",
      "plt.setp(ax.get_yticklabels(), fontsize=16)\n",
      "plt.setp(ax.get_xticklabels(), fontsize=20)\n",
      "plt.hlines(y=0, xmin=-2, xmax=x[-1]+3, alpha=.4, linestyle='--')\n",
      "plt.tight_layout()\n",
      "f.savefig(\"rehddm_vbias_svst_params_gray.png\", dpi=600)"
     ],
     "language": "python",
     "metadata": {},
     "outputs": [
      {
       "metadata": {},
       "output_type": "display_data",
       "png": "[encoded data removed]",
       "text": [
        "<matplotlib.figure.Figure at 0x7fe472121f50>"
       ]
      }
     ],
     "prompt_number": 50
    },
    {
     "cell_type": "code",
     "collapsed": false,
     "input": [
      "params=pd.read_csv(\"ReHDDM_vbias_params.csv\")\n",
      "\n",
      "tdiff=-0.016803212141143411\n",
      "tdiff_ci=0.019846028560147055\n",
      "vdiff=0.05036075005882245\n",
      "vdiff_ci=0.023917153827728129\n",
      "\n",
      "f, ax = plt.subplots(1, figsize=(5,6))\n",
      "\n",
      "x=['$\\Delta tr$', '$\\Delta v$']\n",
      "mu=[tdiff, vdiff]\n",
      "ci=[tdiff_ci, vdiff_ci]\n",
      "\n",
      "plt.bar([1], mu[0], yerr=ci[0], color='SeaGreen', ecolor='k', align='center')\n",
      "plt.bar([2], mu[1], yerr=ci[1], color='SeaGreen', ecolor='k', align='center')\n",
      "sns.despine()\n",
      "\n",
      "ax.set_xlabel(\"Baseline - Penalty\", fontsize=22)\n",
      "ax.set_ylabel('$\\\\theta$'+\" Units\", fontsize=22)\n",
      "plt.setp(ax, xticks=[1,2], xticklabels=x, xlim=(.5,2.5), ylim=(-.05, .1))\n",
      "\n",
      "plt.setp(ax.get_yticklabels(), fontsize=16)\n",
      "plt.setp(ax.get_xticklabels(), fontsize=20)\n",
      "plt.hlines(y=0, xmin=-.5, xmax=2.5, alpha=.6, linestyle='--')\n",
      "plt.tight_layout()\n",
      "f.savefig(\"rehddm_pnleffect_v_t.png\", dpi=600)\n"
     ],
     "language": "python",
     "metadata": {},
     "outputs": [
      {
       "metadata": {},
       "output_type": "display_data",
       "png": "[encoded data removed]",
       "text": [
        "<matplotlib.figure.Figure at 0x7fe47266a490>"
       ]
      }
     ],
     "prompt_number": 49
    },
    {
     "cell_type": "code",
     "collapsed": false,
     "input": [
      "print \"P(vbsl > vpnl) = \", (bsl.trace() > pnl.trace()).mean()"
     ],
     "language": "python",
     "metadata": {},
     "outputs": [
      {
       "output_type": "stream",
       "stream": "stdout",
       "text": [
        "P(vbsl > vpnl) =  0.883866666667\n"
       ]
      }
     ],
     "prompt_number": 14
    }
   ],
   "metadata": {}
  }
 ]
}