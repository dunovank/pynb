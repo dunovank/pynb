{
 "metadata": {
  "name": "",
  "signature": "sha256:c7ed427d80af9fa93fa86d86f3e93a2d01eb1268a29815970b66a30657db940f"
 },
 "nbformat": 3,
 "nbformat_minor": 0,
 "worksheets": [
  {
   "cells": [
    {
     "cell_type": "code",
     "collapsed": false,
     "input": [
      "import os\n",
      "from scipy.stats.mstats import mquantiles\n",
      "from radd import utils, lcfit, fitre\n",
      "pth=utils.find_path()"
     ],
     "language": "python",
     "metadata": {},
     "outputs": [],
     "prompt_number": 1
    },
    {
     "cell_type": "code",
     "collapsed": false,
     "input": [
      "vbsl=pd.read_csv(pth+\"FitFiles/Re_AllSx_DriftBiasLC_Con/bsl/rebsl_v_con_popt_all.csv\", index_col=0)\n",
      "vpnl=pd.read_csv(pth+\"FitFiles/Re_AllSx_DriftBiasLC_Con/pnl_v/repnl_v_con_popt_all.csv\", index_col=0)\n",
      "#vpnl_free=pd.read_csv(pth+\"FitFiles/Re_AllSx_DriftBiasLC_Con/pnl_free/repnl_free_con_popt_all.csv\", index_col=0)\n",
      "#vpnl_tv=pd.read_csv(pth+\"FitFiles/Re_AllSx_DriftBiasLC_Con/pnl_tv/repnl_tv_con_popt_all.csv\", index_col=0)\n",
      "\n",
      "tbsl=pd.read_csv(pth+\"FitFiles/Re_AllSx_OnsetBiasLC_Con/bsl/rebsl_tr_con_popt_all.csv\", index_col=0)\n",
      "tpnl=pd.read_csv(pth+\"FitFiles/Re_AllSx_OnsetBiasLC_Con/pnl/repnl_tr_con_popt_all.csv\", index_col=0)\n",
      "#tpnl_free=pd.read_csv(pth+\"FitFiles/Re_AllSx_OnsetBiasLC_Con/pnl_free/repnl_free_con_popt_all.csv\", index_col=0)\n",
      "#tpnl_tv=pd.read_csv(pth+\"FitFiles/Re_AllSx_OnsetBias_Con/pnl_tv/repnl_tv_con_popt_all.csv\", index_col=0)\n",
      "\n",
      "redata=pd.read_csv(pth+\"DataFiles/Re_Data.csv\", index_col=0)\n",
      "rebsl=pd.read_csv(pth+\"DataFiles/ReBSL_Data.csv\", index_col=0)\n",
      "repnl=pd.read_csv(pth+\"DataFiles/RePNL_Data.csv\", index_col=0)"
     ],
     "language": "python",
     "metadata": {},
     "outputs": [],
     "prompt_number": 2
    },
    {
     "cell_type": "code",
     "collapsed": false,
     "input": [
      "theta=vpnl.mean().to_dict()\n",
      "theta['pGo']=.5\n",
      "rtvec, pvec = [], []\n",
      "delays=np.arange(0.200, 0.450, .05)    \n",
      "for ssd in delays:\n",
      "    theta['ssd']=ssd\n",
      "    \n",
      "    sacc, rt = fitre.simulate_np(theta, ntrials=2000)\n",
      "    pvec.append(sacc); rtvec.append(rt)"
     ],
     "language": "python",
     "metadata": {},
     "outputs": [],
     "prompt_number": 26
    },
    {
     "cell_type": "code",
     "collapsed": false,
     "input": [
      "sacc"
     ],
     "language": "python",
     "metadata": {},
     "outputs": [
      {
       "metadata": {},
       "output_type": "pyout",
       "prompt_number": 28,
       "text": [
        "0.124"
       ]
      }
     ],
     "prompt_number": 28
    },
    {
     "cell_type": "code",
     "collapsed": false,
     "input": [
      "data=rebsl.copy()\n",
      "gocor=data[(data['trial_type']=='go')&(data['acc']==1)&(data['rt']<.650)]\n",
      "exsx=gocor[(gocor.idx.isin([28]))]\n",
      "mquantiles(exsx.rt, prob=np.array([.025,.25,.5,.75,.975]))"
     ],
     "language": "python",
     "metadata": {},
     "outputs": [
      {
       "metadata": {},
       "output_type": "pyout",
       "prompt_number": 46,
       "text": [
        "array([ 0.48383676,  0.53180314,  0.5581222 ,  0.57176172,  0.61170647])"
       ]
      }
     ],
     "prompt_number": 46
    },
    {
     "cell_type": "code",
     "collapsed": false,
     "input": [
      "def emp_qp(data):\n",
      "    \n",
      "    qlist, plist = [], []\n",
      "    prob=np.array([.025,.25,.5,.75,.975])\n",
      "    \n",
      "    for sx, sxdata in data.groupby('idx'):\n",
      "        sxcor=sxdata[(sxdata['trial_type']=='go')&(sxdata['acc']==1)&(sxdata['rt']<.650)]\n",
      "        qlist.append(mquantiles(sxcor.rt, prob=prob))\n",
      "        plist.append(sxdata[sxdata['trial_type']=='stop'].groupby('ssd').mean()['acc'].values)\n",
      "        \n",
      "    return qlist, plist\n",
      "\n",
      "def eval_qp(theta_df, delays=np.arange(0.200, 0.450, .05), ntrials=500):\n",
      "    \n",
      "    simqlist, simplist = [], []\n",
      "    prob=np.array([.025,.25,.5,.75,.975])\n",
      "    \n",
      "    for sx, sxtheta in theta_df.iterrows():\n",
      "\n",
      "        sxqlist, sxplist = [], []\n",
      "        for ssd in delays:\n",
      "            sxtheta['ssd']=ssd; sxtheta['pGo']=.5\n",
      "            stops, rts = fitre.simulate_np(sxtheta.to_dict(), return_all=True)\n",
      "            sxqlist.append(mquantiles(rts, prob=prob))\n",
      "            sxplist.append(np.mean(stops))\n",
      "            \n",
      "        simqlist.append(np.mean(np.array(sxqlist), axis=0))\n",
      "        simplist.append(sxplist)\n",
      "    \n",
      "    return simqlist, simplist\n"
     ],
     "language": "python",
     "metadata": {},
     "outputs": [],
     "prompt_number": 106
    },
    {
     "cell_type": "heading",
     "level": 1,
     "metadata": {},
     "source": [
      "BSL Data"
     ]
    },
    {
     "cell_type": "code",
     "collapsed": false,
     "input": [
      "qbsl, pbsl = emp_qp(rebsl)\n",
      "qbsl_mu = np.mean(qbsl, axis=0)\n",
      "pbsl_mu = np.mean(pbsl, axis=0)"
     ],
     "language": "python",
     "metadata": {},
     "outputs": [],
     "prompt_number": 113
    },
    {
     "cell_type": "heading",
     "level": 1,
     "metadata": {},
     "source": [
      "PNL Data"
     ]
    },
    {
     "cell_type": "code",
     "collapsed": false,
     "input": [
      "qpnl, ppnl = emp_qp(repnl)\n",
      "qpnl_mu = np.mean(qpnl, axis=0)\n",
      "ppnl_mu = np.mean(ppnl, axis=0)"
     ],
     "language": "python",
     "metadata": {},
     "outputs": [],
     "prompt_number": 117
    },
    {
     "cell_type": "heading",
     "level": 1,
     "metadata": {},
     "source": [
      "BSL Sims"
     ]
    },
    {
     "cell_type": "code",
     "collapsed": false,
     "input": [
      "bsl_simq, bsl_simp = eval_qp(vbsl, ntrials=500)\n",
      "bsl_simq_mu = np.mean(bsl_simq, axis=0)\n",
      "bsl_simp_mu = np.mean(bsl_simp, axis=0)"
     ],
     "language": "python",
     "metadata": {},
     "outputs": [],
     "prompt_number": 118
    },
    {
     "cell_type": "heading",
     "level": 1,
     "metadata": {},
     "source": [
      "Drift Model PNL "
     ]
    },
    {
     "cell_type": "code",
     "collapsed": false,
     "input": [
      "vpnl_simq, vpnl_simp = eval_qp(vpnl, ntrials=500)\n",
      "vpnl_simq_mu = np.mean(vpnl_simq, axis=0)\n",
      "vpnl_simp_mu = np.mean(vpnl_simp, axis=0)"
     ],
     "language": "python",
     "metadata": {},
     "outputs": [],
     "prompt_number": 119
    },
    {
     "cell_type": "heading",
     "level": 1,
     "metadata": {},
     "source": [
      "Onset Model PNL "
     ]
    },
    {
     "cell_type": "code",
     "collapsed": false,
     "input": [
      "tpnl_simq, tpnl_simp = eval_qp(tpnl, ntrials=500)\n",
      "tpnl_simq_mu = np.mean(tpnl_simq, axis=0)\n",
      "tpnl_simp_mu = np.mean(tpnl_simp, axis=0)"
     ],
     "language": "python",
     "metadata": {},
     "outputs": [],
     "prompt_number": 120
    },
    {
     "cell_type": "code",
     "collapsed": false,
     "input": [
      "print \"PNL Data: \", qpnl_mu\n",
      "print \"PNL Drift: \", vpnl_simq_mu\n",
      "print \"PNL Onset: \", tpnl_simq_mu"
     ],
     "language": "python",
     "metadata": {},
     "outputs": [
      {
       "output_type": "stream",
       "stream": "stdout",
       "text": [
        "PNL Data:  [ 0.47682121  0.54167144  0.56825377  0.59308924  0.63155717]\n",
        "PNL Drift:  [ 0.49989567  0.54239616  0.56821633  0.59524256  0.6378358 ]\n",
        "PNL Onset:  [ 0.50301731  0.54230942  0.56656336  0.59251287  0.63629092]\n"
       ]
      }
     ],
     "prompt_number": 121
    },
    {
     "cell_type": "code",
     "collapsed": false,
     "input": [
      "len(vec)"
     ],
     "language": "python",
     "metadata": {},
     "outputs": [
      {
       "metadata": {},
       "output_type": "pyout",
       "prompt_number": 127,
       "text": [
        "61"
       ]
      }
     ],
     "prompt_number": 127
    },
    {
     "cell_type": "code",
     "collapsed": false,
     "input": [
      "colors=sns.color_palette('Set1', n_colors=3)\n",
      "prob=np.array([.025,.25,.5,.75,.975])\n",
      "for i, vec in enumerate([qpnl_mu, vpnl_simq_mu, tpnl_simq_mu]):\n",
      "    labels=['data', 'drift', 'onset']\n",
      "    plt.plot(prob, vec, color=colors[i], label=labels[i])\n",
      "plt.legend(loc=0)"
     ],
     "language": "python",
     "metadata": {},
     "outputs": [
      {
       "metadata": {},
       "output_type": "pyout",
       "prompt_number": 134,
       "text": [
        "<matplotlib.legend.Legend at 0x7f64f0869050>"
       ]
      },
      {
       "metadata": {},
       "output_type": "display_data",
       "png": "[encoded data removed]",
       "text": [
        "<matplotlib.figure.Figure at 0x7f64f0869190>"
       ]
      }
     ],
     "prompt_number": 134
    },
    {
     "cell_type": "code",
     "collapsed": false,
     "input": [
      "tpnl.mean()"
     ],
     "language": "python",
     "metadata": {},
     "outputs": [
      {
       "metadata": {},
       "output_type": "pyout",
       "prompt_number": 135,
       "text": [
        "a      0.48040\n",
        "t      0.33986\n",
        "v      1.13700\n",
        "z      0.21548\n",
        "ssv   -1.12099\n",
        "dtype: float64"
       ]
      }
     ],
     "prompt_number": 135
    },
    {
     "cell_type": "code",
     "collapsed": false,
     "input": [
      "vpnl.mean()"
     ],
     "language": "python",
     "metadata": {},
     "outputs": [
      {
       "metadata": {},
       "output_type": "pyout",
       "prompt_number": 136,
       "text": [
        "a      0.48035\n",
        "t      0.32897\n",
        "v      1.07492\n",
        "z      0.21479\n",
        "ssv   -1.12849\n",
        "dtype: float64"
       ]
      }
     ],
     "prompt_number": 136
    },
    {
     "cell_type": "code",
     "collapsed": false,
     "input": [],
     "language": "python",
     "metadata": {},
     "outputs": []
    }
   ],
   "metadata": {}
  }
 ]
}