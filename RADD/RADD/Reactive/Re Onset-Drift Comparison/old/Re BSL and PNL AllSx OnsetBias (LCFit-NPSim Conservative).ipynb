{
 "metadata": {
  "name": "",
  "signature": "sha256:5da5f3fc06f3312a4da9c81bf9fab91401524e466dd8cd7d86887daf6bad7f6e"
 },
 "nbformat": 3,
 "nbformat_minor": 0,
 "worksheets": [
  {
   "cells": [
    {
     "cell_type": "code",
     "collapsed": false,
     "input": [
      "from __future__ import division\n",
      "import pandas as pd\n",
      "from radd import fitre, utils, vis, lcfit\n",
      "from lmfit import Parameters, Minimizer\n",
      "import seaborn as sns"
     ],
     "language": "python",
     "metadata": {},
     "outputs": [],
     "prompt_number": 1
    },
    {
     "cell_type": "code",
     "collapsed": false,
     "input": [
      "pth=utils.find_path()\n",
      "redata_bsl=pd.read_csv(pth+\"DataFiles/ReBSL_Data.csv\", index_col=0)\n",
      "redata_pnl=pd.read_csv(pth+\"DataFiles/RePNL_Data.csv\", index_col=0)"
     ],
     "language": "python",
     "metadata": {},
     "outputs": [],
     "prompt_number": 2
    },
    {
     "cell_type": "code",
     "collapsed": false,
     "input": [
      "bsl_inits=pd.read_csv(pth+\"FitFiles/Inits/ReBSL_HDDM-tBias_Inits.csv\", index_col=0, names=['mean']).to_dict()['mean']\n",
      "pnl_inits=pd.read_csv(pth+\"FitFiles/Inits/RePNL_HDDM-tBias_Inits.csv\", index_col=0, names=['mean']).to_dict()['mean']"
     ],
     "language": "python",
     "metadata": {},
     "outputs": [],
     "prompt_number": 3
    },
    {
     "cell_type": "heading",
     "level": 1,
     "metadata": {},
     "source": [
      "Load Flat Optimized Inits"
     ]
    },
    {
     "cell_type": "code",
     "collapsed": false,
     "input": [
      "flat_inits=pd.read_csv(pth+\"FitFiles/Inits/ReBSL_FlatOptRADD_AvgTV_Inits.csv\", index_col=0, names=['mean']).to_dict()['mean']"
     ],
     "language": "python",
     "metadata": {},
     "outputs": [],
     "prompt_number": 4
    },
    {
     "cell_type": "heading",
     "level": 1,
     "metadata": {},
     "source": [
      "ReBSL Onset Bias Model"
     ]
    },
    {
     "cell_type": "code",
     "collapsed": false,
     "input": [
      "#os.mkdir(\"/home/kyle/Dropbox/CoAx/SS/FitFiles/Re_AllSx_OnsetBiasLC_Con\")\n",
      "if not os.path.isdir(pth+\"FitFiles/Re_AllSx_OnsetBiasLC_Con/bsl\"):\n",
      "    os.mkdir(\"/home/kyle/Dropbox/CoAx/SS/FitFiles/Re_AllSx_OnsetBiasLC_Con/bsl\")\n",
      "os.chdir(pth+\"FitFiles/Re_AllSx_OnsetBiasLC_Con/bsl\")"
     ],
     "language": "python",
     "metadata": {},
     "outputs": [],
     "prompt_number": 5
    },
    {
     "cell_type": "code",
     "collapsed": false,
     "input": [
      "bsl_fits=fitre.fit_reactive_data(data=redata_bsl, inits=flat_inits, simfx='lc', save_path = \"./rebsl_tr_con_\", ftol=1.e-3, xtol=1.e-3)"
     ],
     "language": "python",
     "metadata": {},
     "outputs": [
      {
       "html": [
        "\n",
        "\t\t\t<div style=\"border: 1px solid black; width:500px\">\n",
        "\t\t\t<div id=\"9d302e68-ed23-4f37-bdd3-dc24c0081962\" style=\"background-color:#009B76; width:0%\">&nbsp;</div>\n",
        "\t\t\t</div> \n",
        "\t\t\t"
       ],
       "metadata": {},
       "output_type": "display_data",
       "text": [
        "<IPython.core.display.HTML at 0x7fc4cf2a0890>"
       ]
      },
      {
       "javascript": [
        "$('div#9d302e68-ed23-4f37-bdd3-dc24c0081962').width('1.64%')"
       ],
       "metadata": {},
       "output_type": "display_data",
       "text": [
        "<IPython.core.display.Javascript at 0x7fc502412d90>"
       ]
      },
      {
       "javascript": [
        "$('div#9d302e68-ed23-4f37-bdd3-dc24c0081962').width('3.28%')"
       ],
       "metadata": {},
       "output_type": "display_data",
       "text": [
        "<IPython.core.display.Javascript at 0x7fc4cf2a0e90>"
       ]
      },
      {
       "javascript": [
        "$('div#9d302e68-ed23-4f37-bdd3-dc24c0081962').width('4.92%')"
       ],
       "metadata": {},
       "output_type": "display_data",
       "text": [
        "<IPython.core.display.Javascript at 0x7fc4cf2b5810>"
       ]
      },
      {
       "javascript": [
        "$('div#9d302e68-ed23-4f37-bdd3-dc24c0081962').width('6.56%')"
       ],
       "metadata": {},
       "output_type": "display_data",
       "text": [
        "<IPython.core.display.Javascript at 0x7fc4cf2a0e90>"
       ]
      },
      {
       "javascript": [
        "$('div#9d302e68-ed23-4f37-bdd3-dc24c0081962').width('8.20%')"
       ],
       "metadata": {},
       "output_type": "display_data",
       "text": [
        "<IPython.core.display.Javascript at 0x7fc4cf2b5d50>"
       ]
      },
      {
       "javascript": [
        "$('div#9d302e68-ed23-4f37-bdd3-dc24c0081962').width('9.84%')"
       ],
       "metadata": {},
       "output_type": "display_data",
       "text": [
        "<IPython.core.display.Javascript at 0x7fc4cf2b5fd0>"
       ]
      },
      {
       "javascript": [
        "$('div#9d302e68-ed23-4f37-bdd3-dc24c0081962').width('11.48%')"
       ],
       "metadata": {},
       "output_type": "display_data",
       "text": [
        "<IPython.core.display.Javascript at 0x7fc4cf2b5c90>"
       ]
      },
      {
       "javascript": [
        "$('div#9d302e68-ed23-4f37-bdd3-dc24c0081962').width('13.11%')"
       ],
       "metadata": {},
       "output_type": "display_data",
       "text": [
        "<IPython.core.display.Javascript at 0x7fc4cf2b5690>"
       ]
      },
      {
       "javascript": [
        "$('div#9d302e68-ed23-4f37-bdd3-dc24c0081962').width('14.75%')"
       ],
       "metadata": {},
       "output_type": "display_data",
       "text": [
        "<IPython.core.display.Javascript at 0x7fc4cf2b5f90>"
       ]
      },
      {
       "javascript": [
        "$('div#9d302e68-ed23-4f37-bdd3-dc24c0081962').width('16.39%')"
       ],
       "metadata": {},
       "output_type": "display_data",
       "text": [
        "<IPython.core.display.Javascript at 0x7fc4cf2b5d50>"
       ]
      },
      {
       "javascript": [
        "$('div#9d302e68-ed23-4f37-bdd3-dc24c0081962').width('18.03%')"
       ],
       "metadata": {},
       "output_type": "display_data",
       "text": [
        "<IPython.core.display.Javascript at 0x7fc4cf2b5150>"
       ]
      },
      {
       "javascript": [
        "$('div#9d302e68-ed23-4f37-bdd3-dc24c0081962').width('19.67%')"
       ],
       "metadata": {},
       "output_type": "display_data",
       "text": [
        "<IPython.core.display.Javascript at 0x7fc4cf2b5750>"
       ]
      },
      {
       "javascript": [
        "$('div#9d302e68-ed23-4f37-bdd3-dc24c0081962').width('21.31%')"
       ],
       "metadata": {},
       "output_type": "display_data",
       "text": [
        "<IPython.core.display.Javascript at 0x7fc4cf2b5550>"
       ]
      },
      {
       "javascript": [
        "$('div#9d302e68-ed23-4f37-bdd3-dc24c0081962').width('22.95%')"
       ],
       "metadata": {},
       "output_type": "display_data",
       "text": [
        "<IPython.core.display.Javascript at 0x7fc4cf2b5590>"
       ]
      },
      {
       "javascript": [
        "$('div#9d302e68-ed23-4f37-bdd3-dc24c0081962').width('24.59%')"
       ],
       "metadata": {},
       "output_type": "display_data",
       "text": [
        "<IPython.core.display.Javascript at 0x7fc4cf2a0790>"
       ]
      },
      {
       "javascript": [
        "$('div#9d302e68-ed23-4f37-bdd3-dc24c0081962').width('26.23%')"
       ],
       "metadata": {},
       "output_type": "display_data",
       "text": [
        "<IPython.core.display.Javascript at 0x7fc4cf2b5a90>"
       ]
      },
      {
       "javascript": [
        "$('div#9d302e68-ed23-4f37-bdd3-dc24c0081962').width('27.87%')"
       ],
       "metadata": {},
       "output_type": "display_data",
       "text": [
        "<IPython.core.display.Javascript at 0x7fc4cf2b5cd0>"
       ]
      },
      {
       "javascript": [
        "$('div#9d302e68-ed23-4f37-bdd3-dc24c0081962').width('29.51%')"
       ],
       "metadata": {},
       "output_type": "display_data",
       "text": [
        "<IPython.core.display.Javascript at 0x7fc4cf27d850>"
       ]
      },
      {
       "javascript": [
        "$('div#9d302e68-ed23-4f37-bdd3-dc24c0081962').width('31.15%')"
       ],
       "metadata": {},
       "output_type": "display_data",
       "text": [
        "<IPython.core.display.Javascript at 0x7fc4cf2b5510>"
       ]
      },
      {
       "javascript": [
        "$('div#9d302e68-ed23-4f37-bdd3-dc24c0081962').width('32.79%')"
       ],
       "metadata": {},
       "output_type": "display_data",
       "text": [
        "<IPython.core.display.Javascript at 0x7fc4cf2b5150>"
       ]
      },
      {
       "javascript": [
        "$('div#9d302e68-ed23-4f37-bdd3-dc24c0081962').width('34.43%')"
       ],
       "metadata": {},
       "output_type": "display_data",
       "text": [
        "<IPython.core.display.Javascript at 0x7fc4cf2b5b50>"
       ]
      },
      {
       "javascript": [
        "$('div#9d302e68-ed23-4f37-bdd3-dc24c0081962').width('36.07%')"
       ],
       "metadata": {},
       "output_type": "display_data",
       "text": [
        "<IPython.core.display.Javascript at 0x7fc4cf27d790>"
       ]
      },
      {
       "javascript": [
        "$('div#9d302e68-ed23-4f37-bdd3-dc24c0081962').width('37.70%')"
       ],
       "metadata": {},
       "output_type": "display_data",
       "text": [
        "<IPython.core.display.Javascript at 0x7fc4cf27dd10>"
       ]
      },
      {
       "javascript": [
        "$('div#9d302e68-ed23-4f37-bdd3-dc24c0081962').width('39.34%')"
       ],
       "metadata": {},
       "output_type": "display_data",
       "text": [
        "<IPython.core.display.Javascript at 0x7fc4cf27dd50>"
       ]
      },
      {
       "javascript": [
        "$('div#9d302e68-ed23-4f37-bdd3-dc24c0081962').width('40.98%')"
       ],
       "metadata": {},
       "output_type": "display_data",
       "text": [
        "<IPython.core.display.Javascript at 0x7fc4cf2b5510>"
       ]
      },
      {
       "javascript": [
        "$('div#9d302e68-ed23-4f37-bdd3-dc24c0081962').width('42.62%')"
       ],
       "metadata": {},
       "output_type": "display_data",
       "text": [
        "<IPython.core.display.Javascript at 0x7fc4cf27dbd0>"
       ]
      },
      {
       "javascript": [
        "$('div#9d302e68-ed23-4f37-bdd3-dc24c0081962').width('44.26%')"
       ],
       "metadata": {},
       "output_type": "display_data",
       "text": [
        "<IPython.core.display.Javascript at 0x7fc4cf27da90>"
       ]
      },
      {
       "javascript": [
        "$('div#9d302e68-ed23-4f37-bdd3-dc24c0081962').width('45.90%')"
       ],
       "metadata": {},
       "output_type": "display_data",
       "text": [
        "<IPython.core.display.Javascript at 0x7fc4cf27d790>"
       ]
      },
      {
       "javascript": [
        "$('div#9d302e68-ed23-4f37-bdd3-dc24c0081962').width('47.54%')"
       ],
       "metadata": {},
       "output_type": "display_data",
       "text": [
        "<IPython.core.display.Javascript at 0x7fc4cf27d850>"
       ]
      },
      {
       "javascript": [
        "$('div#9d302e68-ed23-4f37-bdd3-dc24c0081962').width('49.18%')"
       ],
       "metadata": {},
       "output_type": "display_data",
       "text": [
        "<IPython.core.display.Javascript at 0x7fc4cf2b5510>"
       ]
      },
      {
       "javascript": [
        "$('div#9d302e68-ed23-4f37-bdd3-dc24c0081962').width('50.82%')"
       ],
       "metadata": {},
       "output_type": "display_data",
       "text": [
        "<IPython.core.display.Javascript at 0x7fc4cf27d350>"
       ]
      },
      {
       "javascript": [
        "$('div#9d302e68-ed23-4f37-bdd3-dc24c0081962').width('52.46%')"
       ],
       "metadata": {},
       "output_type": "display_data",
       "text": [
        "<IPython.core.display.Javascript at 0x7fc4cf27d8d0>"
       ]
      },
      {
       "javascript": [
        "$('div#9d302e68-ed23-4f37-bdd3-dc24c0081962').width('54.10%')"
       ],
       "metadata": {},
       "output_type": "display_data",
       "text": [
        "<IPython.core.display.Javascript at 0x7fc4cf27dd10>"
       ]
      },
      {
       "javascript": [
        "$('div#9d302e68-ed23-4f37-bdd3-dc24c0081962').width('55.74%')"
       ],
       "metadata": {},
       "output_type": "display_data",
       "text": [
        "<IPython.core.display.Javascript at 0x7fc4cf27dbd0>"
       ]
      },
      {
       "javascript": [
        "$('div#9d302e68-ed23-4f37-bdd3-dc24c0081962').width('57.38%')"
       ],
       "metadata": {},
       "output_type": "display_data",
       "text": [
        "<IPython.core.display.Javascript at 0x7fc4cf27d790>"
       ]
      },
      {
       "javascript": [
        "$('div#9d302e68-ed23-4f37-bdd3-dc24c0081962').width('59.02%')"
       ],
       "metadata": {},
       "output_type": "display_data",
       "text": [
        "<IPython.core.display.Javascript at 0x7fc4cf27d350>"
       ]
      },
      {
       "javascript": [
        "$('div#9d302e68-ed23-4f37-bdd3-dc24c0081962').width('60.66%')"
       ],
       "metadata": {},
       "output_type": "display_data",
       "text": [
        "<IPython.core.display.Javascript at 0x7fc4cf2b5510>"
       ]
      },
      {
       "javascript": [
        "$('div#9d302e68-ed23-4f37-bdd3-dc24c0081962').width('62.30%')"
       ],
       "metadata": {},
       "output_type": "display_data",
       "text": [
        "<IPython.core.display.Javascript at 0x7fc4cf2675d0>"
       ]
      },
      {
       "javascript": [
        "$('div#9d302e68-ed23-4f37-bdd3-dc24c0081962').width('63.93%')"
       ],
       "metadata": {},
       "output_type": "display_data",
       "text": [
        "<IPython.core.display.Javascript at 0x7fc4cf267dd0>"
       ]
      },
      {
       "javascript": [
        "$('div#9d302e68-ed23-4f37-bdd3-dc24c0081962').width('65.57%')"
       ],
       "metadata": {},
       "output_type": "display_data",
       "text": [
        "<IPython.core.display.Javascript at 0x7fc4cf267990>"
       ]
      },
      {
       "javascript": [
        "$('div#9d302e68-ed23-4f37-bdd3-dc24c0081962').width('67.21%')"
       ],
       "metadata": {},
       "output_type": "display_data",
       "text": [
        "<IPython.core.display.Javascript at 0x7fc4cf267f50>"
       ]
      },
      {
       "javascript": [
        "$('div#9d302e68-ed23-4f37-bdd3-dc24c0081962').width('68.85%')"
       ],
       "metadata": {},
       "output_type": "display_data",
       "text": [
        "<IPython.core.display.Javascript at 0x7fc4cf267fd0>"
       ]
      },
      {
       "javascript": [
        "$('div#9d302e68-ed23-4f37-bdd3-dc24c0081962').width('70.49%')"
       ],
       "metadata": {},
       "output_type": "display_data",
       "text": [
        "<IPython.core.display.Javascript at 0x7fc4cf267990>"
       ]
      },
      {
       "javascript": [
        "$('div#9d302e68-ed23-4f37-bdd3-dc24c0081962').width('72.13%')"
       ],
       "metadata": {},
       "output_type": "display_data",
       "text": [
        "<IPython.core.display.Javascript at 0x7fc4cf27dbd0>"
       ]
      },
      {
       "javascript": [
        "$('div#9d302e68-ed23-4f37-bdd3-dc24c0081962').width('73.77%')"
       ],
       "metadata": {},
       "output_type": "display_data",
       "text": [
        "<IPython.core.display.Javascript at 0x7fc4cf267f50>"
       ]
      },
      {
       "javascript": [
        "$('div#9d302e68-ed23-4f37-bdd3-dc24c0081962').width('75.41%')"
       ],
       "metadata": {},
       "output_type": "display_data",
       "text": [
        "<IPython.core.display.Javascript at 0x7fc4cf2675d0>"
       ]
      },
      {
       "javascript": [
        "$('div#9d302e68-ed23-4f37-bdd3-dc24c0081962').width('77.05%')"
       ],
       "metadata": {},
       "output_type": "display_data",
       "text": [
        "<IPython.core.display.Javascript at 0x7fc4cf267190>"
       ]
      },
      {
       "javascript": [
        "$('div#9d302e68-ed23-4f37-bdd3-dc24c0081962').width('78.69%')"
       ],
       "metadata": {},
       "output_type": "display_data",
       "text": [
        "<IPython.core.display.Javascript at 0x7fc4cf267c10>"
       ]
      },
      {
       "javascript": [
        "$('div#9d302e68-ed23-4f37-bdd3-dc24c0081962').width('80.33%')"
       ],
       "metadata": {},
       "output_type": "display_data",
       "text": [
        "<IPython.core.display.Javascript at 0x7fc4cf267690>"
       ]
      },
      {
       "javascript": [
        "$('div#9d302e68-ed23-4f37-bdd3-dc24c0081962').width('81.97%')"
       ],
       "metadata": {},
       "output_type": "display_data",
       "text": [
        "<IPython.core.display.Javascript at 0x7fc4cf267fd0>"
       ]
      },
      {
       "javascript": [
        "$('div#9d302e68-ed23-4f37-bdd3-dc24c0081962').width('83.61%')"
       ],
       "metadata": {},
       "output_type": "display_data",
       "text": [
        "<IPython.core.display.Javascript at 0x7fc4cf2445d0>"
       ]
      },
      {
       "javascript": [
        "$('div#9d302e68-ed23-4f37-bdd3-dc24c0081962').width('85.25%')"
       ],
       "metadata": {},
       "output_type": "display_data",
       "text": [
        "<IPython.core.display.Javascript at 0x7fc4cf244bd0>"
       ]
      },
      {
       "javascript": [
        "$('div#9d302e68-ed23-4f37-bdd3-dc24c0081962').width('86.89%')"
       ],
       "metadata": {},
       "output_type": "display_data",
       "text": [
        "<IPython.core.display.Javascript at 0x7fc4cf244c10>"
       ]
      },
      {
       "javascript": [
        "$('div#9d302e68-ed23-4f37-bdd3-dc24c0081962').width('88.52%')"
       ],
       "metadata": {},
       "output_type": "display_data",
       "text": [
        "<IPython.core.display.Javascript at 0x7fc4cf267690>"
       ]
      },
      {
       "javascript": [
        "$('div#9d302e68-ed23-4f37-bdd3-dc24c0081962').width('90.16%')"
       ],
       "metadata": {},
       "output_type": "display_data",
       "text": [
        "<IPython.core.display.Javascript at 0x7fc4cf244650>"
       ]
      },
      {
       "javascript": [
        "$('div#9d302e68-ed23-4f37-bdd3-dc24c0081962').width('91.80%')"
       ],
       "metadata": {},
       "output_type": "display_data",
       "text": [
        "<IPython.core.display.Javascript at 0x7fc4cf244150>"
       ]
      },
      {
       "javascript": [
        "$('div#9d302e68-ed23-4f37-bdd3-dc24c0081962').width('93.44%')"
       ],
       "metadata": {},
       "output_type": "display_data",
       "text": [
        "<IPython.core.display.Javascript at 0x7fc4cf244e90>"
       ]
      },
      {
       "javascript": [
        "$('div#9d302e68-ed23-4f37-bdd3-dc24c0081962').width('95.08%')"
       ],
       "metadata": {},
       "output_type": "display_data",
       "text": [
        "<IPython.core.display.Javascript at 0x7fc4cf244c10>"
       ]
      },
      {
       "javascript": [
        "$('div#9d302e68-ed23-4f37-bdd3-dc24c0081962').width('96.72%')"
       ],
       "metadata": {},
       "output_type": "display_data",
       "text": [
        "<IPython.core.display.Javascript at 0x7fc4cf267f50>"
       ]
      },
      {
       "javascript": [
        "$('div#9d302e68-ed23-4f37-bdd3-dc24c0081962').width('98.36%')"
       ],
       "metadata": {},
       "output_type": "display_data",
       "text": [
        "<IPython.core.display.Javascript at 0x7fc4cf235250>"
       ]
      },
      {
       "javascript": [
        "$('div#9d302e68-ed23-4f37-bdd3-dc24c0081962').width('100.00%')"
       ],
       "metadata": {},
       "output_type": "display_data",
       "text": [
        "<IPython.core.display.Javascript at 0x7fc4cf235c50>"
       ]
      }
     ],
     "prompt_number": 6
    },
    {
     "cell_type": "heading",
     "level": 1,
     "metadata": {},
     "source": [
      "RePNL Onset Bias Model (TR Free, A,V,Z Fixed at Opt BSL Values)"
     ]
    },
    {
     "cell_type": "code",
     "collapsed": false,
     "input": [
      "if not os.path.isdir(pth+\"FitFiles/Re_AllSx_OnsetBiasLC_Con/pnl\"):\n",
      "    os.mkdir(pth+\"FitFiles/Re_AllSx_OnsetBiasLC_Con/pnl\")\n",
      "os.chdir(pth+\"FitFiles/Re_AllSx_OnsetBiasLC_Con/pnl\")\n",
      "# init each subject at opt bsl values, \n",
      "# pass to init arg as nested dictionary {sx:{a:###, 'v':###, 't': ###, 'z':###}}\n",
      "bsl_popt=pd.read_csv(pth+\"FitFiles/Re_AllSx_OnsetBiasLC_Con/bsl/rebsl_tr_con_popt_all.csv\", index_col=0)\n",
      "nested_pnl_inits=bsl_popt.T.to_dict()\n",
      "\n",
      "# fit model holding all parameters constant except for onset time (t)\n",
      "pnl_fits=fitre.fit_reactive_data(data=redata_pnl, inits=nested_pnl_inits, all_params=0, depends=['t'], simfx='vector', ntrials=2000, save_path=\"./repnl_tr_con_\", ftol=1.e-3, xtol=1.e-3)"
     ],
     "language": "python",
     "metadata": {},
     "outputs": [
      {
       "html": [
        "\n",
        "\t\t\t<div style=\"border: 1px solid black; width:500px\">\n",
        "\t\t\t<div id=\"074cd0df-0ccb-4820-9d5a-db4cf17a8816\" style=\"background-color:#009B76; width:0%\">&nbsp;</div>\n",
        "\t\t\t</div> \n",
        "\t\t\t"
       ],
       "metadata": {},
       "output_type": "display_data",
       "text": [
        "<IPython.core.display.HTML at 0x7fdf11c73fd0>"
       ]
      },
      {
       "javascript": [
        "$('div#074cd0df-0ccb-4820-9d5a-db4cf17a8816').width('1.64%')"
       ],
       "metadata": {},
       "output_type": "display_data",
       "text": [
        "<IPython.core.display.Javascript at 0x7fdf44da4d90>"
       ]
      },
      {
       "javascript": [
        "$('div#074cd0df-0ccb-4820-9d5a-db4cf17a8816').width('3.28%')"
       ],
       "metadata": {},
       "output_type": "display_data",
       "text": [
        "<IPython.core.display.Javascript at 0x7fdf11c73b50>"
       ]
      },
      {
       "javascript": [
        "$('div#074cd0df-0ccb-4820-9d5a-db4cf17a8816').width('4.92%')"
       ],
       "metadata": {},
       "output_type": "display_data",
       "text": [
        "<IPython.core.display.Javascript at 0x7fdf11c73850>"
       ]
      },
      {
       "javascript": [
        "$('div#074cd0df-0ccb-4820-9d5a-db4cf17a8816').width('6.56%')"
       ],
       "metadata": {},
       "output_type": "display_data",
       "text": [
        "<IPython.core.display.Javascript at 0x7fdf11c26810>"
       ]
      },
      {
       "javascript": [
        "$('div#074cd0df-0ccb-4820-9d5a-db4cf17a8816').width('8.20%')"
       ],
       "metadata": {},
       "output_type": "display_data",
       "text": [
        "<IPython.core.display.Javascript at 0x7fdf11c26d50>"
       ]
      },
      {
       "javascript": [
        "$('div#074cd0df-0ccb-4820-9d5a-db4cf17a8816').width('9.84%')"
       ],
       "metadata": {},
       "output_type": "display_data",
       "text": [
        "<IPython.core.display.Javascript at 0x7fdf11c263d0>"
       ]
      },
      {
       "javascript": [
        "$('div#074cd0df-0ccb-4820-9d5a-db4cf17a8816').width('11.48%')"
       ],
       "metadata": {},
       "output_type": "display_data",
       "text": [
        "<IPython.core.display.Javascript at 0x7fdf11c26d90>"
       ]
      },
      {
       "javascript": [
        "$('div#074cd0df-0ccb-4820-9d5a-db4cf17a8816').width('13.11%')"
       ],
       "metadata": {},
       "output_type": "display_data",
       "text": [
        "<IPython.core.display.Javascript at 0x7fdf11c26fd0>"
       ]
      },
      {
       "javascript": [
        "$('div#074cd0df-0ccb-4820-9d5a-db4cf17a8816').width('14.75%')"
       ],
       "metadata": {},
       "output_type": "display_data",
       "text": [
        "<IPython.core.display.Javascript at 0x7fdf11c26a10>"
       ]
      },
      {
       "javascript": [
        "$('div#074cd0df-0ccb-4820-9d5a-db4cf17a8816').width('16.39%')"
       ],
       "metadata": {},
       "output_type": "display_data",
       "text": [
        "<IPython.core.display.Javascript at 0x7fdf11c26110>"
       ]
      },
      {
       "javascript": [
        "$('div#074cd0df-0ccb-4820-9d5a-db4cf17a8816').width('18.03%')"
       ],
       "metadata": {},
       "output_type": "display_data",
       "text": [
        "<IPython.core.display.Javascript at 0x7fdf11c26550>"
       ]
      },
      {
       "javascript": [
        "$('div#074cd0df-0ccb-4820-9d5a-db4cf17a8816').width('19.67%')"
       ],
       "metadata": {},
       "output_type": "display_data",
       "text": [
        "<IPython.core.display.Javascript at 0x7fdf11c26d90>"
       ]
      },
      {
       "javascript": [
        "$('div#074cd0df-0ccb-4820-9d5a-db4cf17a8816').width('21.31%')"
       ],
       "metadata": {},
       "output_type": "display_data",
       "text": [
        "<IPython.core.display.Javascript at 0x7fdf11c26a10>"
       ]
      },
      {
       "javascript": [
        "$('div#074cd0df-0ccb-4820-9d5a-db4cf17a8816').width('22.95%')"
       ],
       "metadata": {},
       "output_type": "display_data",
       "text": [
        "<IPython.core.display.Javascript at 0x7fdf11c26590>"
       ]
      },
      {
       "javascript": [
        "$('div#074cd0df-0ccb-4820-9d5a-db4cf17a8816').width('24.59%')"
       ],
       "metadata": {},
       "output_type": "display_data",
       "text": [
        "<IPython.core.display.Javascript at 0x7fdf11c26110>"
       ]
      },
      {
       "javascript": [
        "$('div#074cd0df-0ccb-4820-9d5a-db4cf17a8816').width('26.23%')"
       ],
       "metadata": {},
       "output_type": "display_data",
       "text": [
        "<IPython.core.display.Javascript at 0x7fdf11c73c90>"
       ]
      },
      {
       "javascript": [
        "$('div#074cd0df-0ccb-4820-9d5a-db4cf17a8816').width('27.87%')"
       ],
       "metadata": {},
       "output_type": "display_data",
       "text": [
        "<IPython.core.display.Javascript at 0x7fdf11c26f50>"
       ]
      },
      {
       "javascript": [
        "$('div#074cd0df-0ccb-4820-9d5a-db4cf17a8816').width('29.51%')"
       ],
       "metadata": {},
       "output_type": "display_data",
       "text": [
        "<IPython.core.display.Javascript at 0x7fdf11c26190>"
       ]
      },
      {
       "javascript": [
        "$('div#074cd0df-0ccb-4820-9d5a-db4cf17a8816').width('31.15%')"
       ],
       "metadata": {},
       "output_type": "display_data",
       "text": [
        "<IPython.core.display.Javascript at 0x7fdf11c26a90>"
       ]
      },
      {
       "javascript": [
        "$('div#074cd0df-0ccb-4820-9d5a-db4cf17a8816').width('32.79%')"
       ],
       "metadata": {},
       "output_type": "display_data",
       "text": [
        "<IPython.core.display.Javascript at 0x7fdf11c4db10>"
       ]
      },
      {
       "javascript": [
        "$('div#074cd0df-0ccb-4820-9d5a-db4cf17a8816').width('34.43%')"
       ],
       "metadata": {},
       "output_type": "display_data",
       "text": [
        "<IPython.core.display.Javascript at 0x7fdf11c4dd50>"
       ]
      },
      {
       "javascript": [
        "$('div#074cd0df-0ccb-4820-9d5a-db4cf17a8816').width('36.07%')"
       ],
       "metadata": {},
       "output_type": "display_data",
       "text": [
        "<IPython.core.display.Javascript at 0x7fdf11c4d690>"
       ]
      },
      {
       "javascript": [
        "$('div#074cd0df-0ccb-4820-9d5a-db4cf17a8816').width('37.70%')"
       ],
       "metadata": {},
       "output_type": "display_data",
       "text": [
        "<IPython.core.display.Javascript at 0x7fdf11c4da90>"
       ]
      },
      {
       "javascript": [
        "$('div#074cd0df-0ccb-4820-9d5a-db4cf17a8816').width('39.34%')"
       ],
       "metadata": {},
       "output_type": "display_data",
       "text": [
        "<IPython.core.display.Javascript at 0x7fdf11c4dd90>"
       ]
      },
      {
       "javascript": [
        "$('div#074cd0df-0ccb-4820-9d5a-db4cf17a8816').width('40.98%')"
       ],
       "metadata": {},
       "output_type": "display_data",
       "text": [
        "<IPython.core.display.Javascript at 0x7fdf11c4de90>"
       ]
      },
      {
       "javascript": [
        "$('div#074cd0df-0ccb-4820-9d5a-db4cf17a8816').width('42.62%')"
       ],
       "metadata": {},
       "output_type": "display_data",
       "text": [
        "<IPython.core.display.Javascript at 0x7fdf11c26b50>"
       ]
      },
      {
       "javascript": [
        "$('div#074cd0df-0ccb-4820-9d5a-db4cf17a8816').width('44.26%')"
       ],
       "metadata": {},
       "output_type": "display_data",
       "text": [
        "<IPython.core.display.Javascript at 0x7fdf11c4dfd0>"
       ]
      },
      {
       "javascript": [
        "$('div#074cd0df-0ccb-4820-9d5a-db4cf17a8816').width('45.90%')"
       ],
       "metadata": {},
       "output_type": "display_data",
       "text": [
        "<IPython.core.display.Javascript at 0x7fdf11c26b50>"
       ]
      },
      {
       "javascript": [
        "$('div#074cd0df-0ccb-4820-9d5a-db4cf17a8816').width('47.54%')"
       ],
       "metadata": {},
       "output_type": "display_data",
       "text": [
        "<IPython.core.display.Javascript at 0x7fdf11c4dd50>"
       ]
      },
      {
       "javascript": [
        "$('div#074cd0df-0ccb-4820-9d5a-db4cf17a8816').width('49.18%')"
       ],
       "metadata": {},
       "output_type": "display_data",
       "text": [
        "<IPython.core.display.Javascript at 0x7fdf11c4d850>"
       ]
      },
      {
       "javascript": [
        "$('div#074cd0df-0ccb-4820-9d5a-db4cf17a8816').width('50.82%')"
       ],
       "metadata": {},
       "output_type": "display_data",
       "text": [
        "<IPython.core.display.Javascript at 0x7fdf11c4d310>"
       ]
      },
      {
       "javascript": [
        "$('div#074cd0df-0ccb-4820-9d5a-db4cf17a8816').width('52.46%')"
       ],
       "metadata": {},
       "output_type": "display_data",
       "text": [
        "<IPython.core.display.Javascript at 0x7fdf11c4d990>"
       ]
      },
      {
       "javascript": [
        "$('div#074cd0df-0ccb-4820-9d5a-db4cf17a8816').width('54.10%')"
       ],
       "metadata": {},
       "output_type": "display_data",
       "text": [
        "<IPython.core.display.Javascript at 0x7fdf11c4d8d0>"
       ]
      },
      {
       "javascript": [
        "$('div#074cd0df-0ccb-4820-9d5a-db4cf17a8816').width('55.74%')"
       ],
       "metadata": {},
       "output_type": "display_data",
       "text": [
        "<IPython.core.display.Javascript at 0x7fdf11c4dd90>"
       ]
      },
      {
       "javascript": [
        "$('div#074cd0df-0ccb-4820-9d5a-db4cf17a8816').width('57.38%')"
       ],
       "metadata": {},
       "output_type": "display_data",
       "text": [
        "<IPython.core.display.Javascript at 0x7fdf11c4d310>"
       ]
      },
      {
       "javascript": [
        "$('div#074cd0df-0ccb-4820-9d5a-db4cf17a8816').width('59.02%')"
       ],
       "metadata": {},
       "output_type": "display_data",
       "text": [
        "<IPython.core.display.Javascript at 0x7fdf11c4da50>"
       ]
      },
      {
       "javascript": [
        "$('div#074cd0df-0ccb-4820-9d5a-db4cf17a8816').width('60.66%')"
       ],
       "metadata": {},
       "output_type": "display_data",
       "text": [
        "<IPython.core.display.Javascript at 0x7fdf11c4df10>"
       ]
      },
      {
       "javascript": [
        "$('div#074cd0df-0ccb-4820-9d5a-db4cf17a8816').width('62.30%')"
       ],
       "metadata": {},
       "output_type": "display_data",
       "text": [
        "<IPython.core.display.Javascript at 0x7fdf11beb150>"
       ]
      },
      {
       "javascript": [
        "$('div#074cd0df-0ccb-4820-9d5a-db4cf17a8816').width('63.93%')"
       ],
       "metadata": {},
       "output_type": "display_data",
       "text": [
        "<IPython.core.display.Javascript at 0x7fdf11bebd50>"
       ]
      },
      {
       "javascript": [
        "$('div#074cd0df-0ccb-4820-9d5a-db4cf17a8816').width('65.57%')"
       ],
       "metadata": {},
       "output_type": "display_data",
       "text": [
        "<IPython.core.display.Javascript at 0x7fdf11bebc90>"
       ]
      },
      {
       "javascript": [
        "$('div#074cd0df-0ccb-4820-9d5a-db4cf17a8816').width('67.21%')"
       ],
       "metadata": {},
       "output_type": "display_data",
       "text": [
        "<IPython.core.display.Javascript at 0x7fdf11beb0d0>"
       ]
      },
      {
       "javascript": [
        "$('div#074cd0df-0ccb-4820-9d5a-db4cf17a8816').width('68.85%')"
       ],
       "metadata": {},
       "output_type": "display_data",
       "text": [
        "<IPython.core.display.Javascript at 0x7fdf11c4d350>"
       ]
      },
      {
       "javascript": [
        "$('div#074cd0df-0ccb-4820-9d5a-db4cf17a8816').width('70.49%')"
       ],
       "metadata": {},
       "output_type": "display_data",
       "text": [
        "<IPython.core.display.Javascript at 0x7fdf11bebd50>"
       ]
      },
      {
       "javascript": [
        "$('div#074cd0df-0ccb-4820-9d5a-db4cf17a8816').width('72.13%')"
       ],
       "metadata": {},
       "output_type": "display_data",
       "text": [
        "<IPython.core.display.Javascript at 0x7fdf11beba50>"
       ]
      },
      {
       "javascript": [
        "$('div#074cd0df-0ccb-4820-9d5a-db4cf17a8816').width('73.77%')"
       ],
       "metadata": {},
       "output_type": "display_data",
       "text": [
        "<IPython.core.display.Javascript at 0x7fdf11bebc50>"
       ]
      },
      {
       "javascript": [
        "$('div#074cd0df-0ccb-4820-9d5a-db4cf17a8816').width('75.41%')"
       ],
       "metadata": {},
       "output_type": "display_data",
       "text": [
        "<IPython.core.display.Javascript at 0x7fdf11c4d350>"
       ]
      },
      {
       "javascript": [
        "$('div#074cd0df-0ccb-4820-9d5a-db4cf17a8816').width('77.05%')"
       ],
       "metadata": {},
       "output_type": "display_data",
       "text": [
        "<IPython.core.display.Javascript at 0x7fdf11beb0d0>"
       ]
      },
      {
       "javascript": [
        "$('div#074cd0df-0ccb-4820-9d5a-db4cf17a8816').width('78.69%')"
       ],
       "metadata": {},
       "output_type": "display_data",
       "text": [
        "<IPython.core.display.Javascript at 0x7fdf11bebc50>"
       ]
      },
      {
       "javascript": [
        "$('div#074cd0df-0ccb-4820-9d5a-db4cf17a8816').width('80.33%')"
       ],
       "metadata": {},
       "output_type": "display_data",
       "text": [
        "<IPython.core.display.Javascript at 0x7fdf11bebe50>"
       ]
      },
      {
       "javascript": [
        "$('div#074cd0df-0ccb-4820-9d5a-db4cf17a8816').width('81.97%')"
       ],
       "metadata": {},
       "output_type": "display_data",
       "text": [
        "<IPython.core.display.Javascript at 0x7fdf11beba50>"
       ]
      },
      {
       "javascript": [
        "$('div#074cd0df-0ccb-4820-9d5a-db4cf17a8816').width('83.61%')"
       ],
       "metadata": {},
       "output_type": "display_data",
       "text": [
        "<IPython.core.display.Javascript at 0x7fdf11c0ad50>"
       ]
      },
      {
       "javascript": [
        "$('div#074cd0df-0ccb-4820-9d5a-db4cf17a8816').width('85.25%')"
       ],
       "metadata": {},
       "output_type": "display_data",
       "text": [
        "<IPython.core.display.Javascript at 0x7fdf11c0afd0>"
       ]
      },
      {
       "javascript": [
        "$('div#074cd0df-0ccb-4820-9d5a-db4cf17a8816').width('86.89%')"
       ],
       "metadata": {},
       "output_type": "display_data",
       "text": [
        "<IPython.core.display.Javascript at 0x7fdf11bebc90>"
       ]
      },
      {
       "javascript": [
        "$('div#074cd0df-0ccb-4820-9d5a-db4cf17a8816').width('88.52%')"
       ],
       "metadata": {},
       "output_type": "display_data",
       "text": [
        "<IPython.core.display.Javascript at 0x7fdf11c0a9d0>"
       ]
      },
      {
       "javascript": [
        "$('div#074cd0df-0ccb-4820-9d5a-db4cf17a8816').width('90.16%')"
       ],
       "metadata": {},
       "output_type": "display_data",
       "text": [
        "<IPython.core.display.Javascript at 0x7fdf11c0ad10>"
       ]
      },
      {
       "javascript": [
        "$('div#074cd0df-0ccb-4820-9d5a-db4cf17a8816').width('91.80%')"
       ],
       "metadata": {},
       "output_type": "display_data",
       "text": [
        "<IPython.core.display.Javascript at 0x7fdf11c0ad50>"
       ]
      },
      {
       "javascript": [
        "$('div#074cd0df-0ccb-4820-9d5a-db4cf17a8816').width('93.44%')"
       ],
       "metadata": {},
       "output_type": "display_data",
       "text": [
        "<IPython.core.display.Javascript at 0x7fdf11c0ae50>"
       ]
      },
      {
       "javascript": [
        "$('div#074cd0df-0ccb-4820-9d5a-db4cf17a8816').width('95.08%')"
       ],
       "metadata": {},
       "output_type": "display_data",
       "text": [
        "<IPython.core.display.Javascript at 0x7fdf11bebc50>"
       ]
      },
      {
       "javascript": [
        "$('div#074cd0df-0ccb-4820-9d5a-db4cf17a8816').width('96.72%')"
       ],
       "metadata": {},
       "output_type": "display_data",
       "text": [
        "<IPython.core.display.Javascript at 0x7fdf11c0a250>"
       ]
      },
      {
       "javascript": [
        "$('div#074cd0df-0ccb-4820-9d5a-db4cf17a8816').width('98.36%')"
       ],
       "metadata": {},
       "output_type": "display_data",
       "text": [
        "<IPython.core.display.Javascript at 0x7fdf11c0dfd0>"
       ]
      },
      {
       "javascript": [
        "$('div#074cd0df-0ccb-4820-9d5a-db4cf17a8816').width('100.00%')"
       ],
       "metadata": {},
       "output_type": "display_data",
       "text": [
        "<IPython.core.display.Javascript at 0x7fdf11c0dad0>"
       ]
      }
     ],
     "prompt_number": 5
    },
    {
     "cell_type": "heading",
     "level": 1,
     "metadata": {},
     "source": [
      "RePNL Inits All Free Model"
     ]
    },
    {
     "cell_type": "code",
     "collapsed": false,
     "input": [
      "if not os.path.isdir(pth+\"FitFiles/Re_AllSx_OnsetBiasLC_Con/pnl_free\"):\n",
      "    os.mkdir(pth+\"FitFiles/Re_AllSx_OnsetBiasLC_Con/pnl_free\")\n",
      "os.chdir(pth+\"FitFiles/Re_AllSx_OnsetBiasLC_Con/pnl_free\")\n",
      "\n",
      "bsl_popt=pd.read_csv(pth+\"FitFiles/Re_AllSx_OnsetBiasLC_Con/bsl/rebsl_tr_con_popt_all.csv\", index_col=0)\n",
      "nested_pnl_inits=bsl_popt.T.to_dict()\n",
      "\n",
      "# fit model holding all parameters constant except for onset time (t)\n",
      "pnl_fits=fitre.fit_reactive_data(data=redata_pnl, inits=nested_pnl_inits, all_params=1, simfx='vector', ntrials=2000, save_path=\"./repnl_free_con_\", ftol=1.e-3, xtol=1.e-3)"
     ],
     "language": "python",
     "metadata": {},
     "outputs": [
      {
       "html": [
        "\n",
        "\t\t\t<div style=\"border: 1px solid black; width:500px\">\n",
        "\t\t\t<div id=\"bc20f496-ca77-4e8b-bb59-8a9c48bd80b6\" style=\"background-color:#009B76; width:0%\">&nbsp;</div>\n",
        "\t\t\t</div> \n",
        "\t\t\t"
       ],
       "metadata": {},
       "output_type": "display_data",
       "text": [
        "<IPython.core.display.HTML at 0x7fdf3db50710>"
       ]
      },
      {
       "javascript": [
        "$('div#bc20f496-ca77-4e8b-bb59-8a9c48bd80b6').width('1.64%')"
       ],
       "metadata": {},
       "output_type": "display_data",
       "text": [
        "<IPython.core.display.Javascript at 0x7fdf11c4d6d0>"
       ]
      },
      {
       "javascript": [
        "$('div#bc20f496-ca77-4e8b-bb59-8a9c48bd80b6').width('3.28%')"
       ],
       "metadata": {},
       "output_type": "display_data",
       "text": [
        "<IPython.core.display.Javascript at 0x7fdf11c4d790>"
       ]
      },
      {
       "javascript": [
        "$('div#bc20f496-ca77-4e8b-bb59-8a9c48bd80b6').width('4.92%')"
       ],
       "metadata": {},
       "output_type": "display_data",
       "text": [
        "<IPython.core.display.Javascript at 0x7fdf11c4d150>"
       ]
      },
      {
       "javascript": [
        "$('div#bc20f496-ca77-4e8b-bb59-8a9c48bd80b6').width('6.56%')"
       ],
       "metadata": {},
       "output_type": "display_data",
       "text": [
        "<IPython.core.display.Javascript at 0x7fdf11c4d590>"
       ]
      },
      {
       "javascript": [
        "$('div#bc20f496-ca77-4e8b-bb59-8a9c48bd80b6').width('8.20%')"
       ],
       "metadata": {},
       "output_type": "display_data",
       "text": [
        "<IPython.core.display.Javascript at 0x7fdf11c4d0d0>"
       ]
      },
      {
       "javascript": [
        "$('div#bc20f496-ca77-4e8b-bb59-8a9c48bd80b6').width('9.84%')"
       ],
       "metadata": {},
       "output_type": "display_data",
       "text": [
        "<IPython.core.display.Javascript at 0x7fdf11c4d650>"
       ]
      },
      {
       "javascript": [
        "$('div#bc20f496-ca77-4e8b-bb59-8a9c48bd80b6').width('11.48%')"
       ],
       "metadata": {},
       "output_type": "display_data",
       "text": [
        "<IPython.core.display.Javascript at 0x7fdf11c4d590>"
       ]
      },
      {
       "javascript": [
        "$('div#bc20f496-ca77-4e8b-bb59-8a9c48bd80b6').width('13.11%')"
       ],
       "metadata": {},
       "output_type": "display_data",
       "text": [
        "<IPython.core.display.Javascript at 0x7fdf11c0ab90>"
       ]
      },
      {
       "javascript": [
        "$('div#bc20f496-ca77-4e8b-bb59-8a9c48bd80b6').width('14.75%')"
       ],
       "metadata": {},
       "output_type": "display_data",
       "text": [
        "<IPython.core.display.Javascript at 0x7fdf11c0ae90>"
       ]
      },
      {
       "javascript": [
        "$('div#bc20f496-ca77-4e8b-bb59-8a9c48bd80b6').width('16.39%')"
       ],
       "metadata": {},
       "output_type": "display_data",
       "text": [
        "<IPython.core.display.Javascript at 0x7fdf11c0a910>"
       ]
      },
      {
       "javascript": [
        "$('div#bc20f496-ca77-4e8b-bb59-8a9c48bd80b6').width('18.03%')"
       ],
       "metadata": {},
       "output_type": "display_data",
       "text": [
        "<IPython.core.display.Javascript at 0x7fdf11c4dd10>"
       ]
      },
      {
       "javascript": [
        "$('div#bc20f496-ca77-4e8b-bb59-8a9c48bd80b6').width('19.67%')"
       ],
       "metadata": {},
       "output_type": "display_data",
       "text": [
        "<IPython.core.display.Javascript at 0x7fdf11c0ab10>"
       ]
      },
      {
       "javascript": [
        "$('div#bc20f496-ca77-4e8b-bb59-8a9c48bd80b6').width('21.31%')"
       ],
       "metadata": {},
       "output_type": "display_data",
       "text": [
        "<IPython.core.display.Javascript at 0x7fdf11beb290>"
       ]
      },
      {
       "javascript": [
        "$('div#bc20f496-ca77-4e8b-bb59-8a9c48bd80b6').width('22.95%')"
       ],
       "metadata": {},
       "output_type": "display_data",
       "text": [
        "<IPython.core.display.Javascript at 0x7fdf11beb250>"
       ]
      },
      {
       "javascript": [
        "$('div#bc20f496-ca77-4e8b-bb59-8a9c48bd80b6').width('24.59%')"
       ],
       "metadata": {},
       "output_type": "display_data",
       "text": [
        "<IPython.core.display.Javascript at 0x7fdf11beb1d0>"
       ]
      },
      {
       "javascript": [
        "$('div#bc20f496-ca77-4e8b-bb59-8a9c48bd80b6').width('26.23%')"
       ],
       "metadata": {},
       "output_type": "display_data",
       "text": [
        "<IPython.core.display.Javascript at 0x7fdf11beb2d0>"
       ]
      },
      {
       "javascript": [
        "$('div#bc20f496-ca77-4e8b-bb59-8a9c48bd80b6').width('27.87%')"
       ],
       "metadata": {},
       "output_type": "display_data",
       "text": [
        "<IPython.core.display.Javascript at 0x7fdf11c4d150>"
       ]
      },
      {
       "javascript": [
        "$('div#bc20f496-ca77-4e8b-bb59-8a9c48bd80b6').width('29.51%')"
       ],
       "metadata": {},
       "output_type": "display_data",
       "text": [
        "<IPython.core.display.Javascript at 0x7fdf11bebf10>"
       ]
      },
      {
       "javascript": [
        "$('div#bc20f496-ca77-4e8b-bb59-8a9c48bd80b6').width('31.15%')"
       ],
       "metadata": {},
       "output_type": "display_data",
       "text": [
        "<IPython.core.display.Javascript at 0x7fdf11beb3d0>"
       ]
      },
      {
       "javascript": [
        "$('div#bc20f496-ca77-4e8b-bb59-8a9c48bd80b6').width('32.79%')"
       ],
       "metadata": {},
       "output_type": "display_data",
       "text": [
        "<IPython.core.display.Javascript at 0x7fdf11c73fd0>"
       ]
      },
      {
       "javascript": [
        "$('div#bc20f496-ca77-4e8b-bb59-8a9c48bd80b6').width('34.43%')"
       ],
       "metadata": {},
       "output_type": "display_data",
       "text": [
        "<IPython.core.display.Javascript at 0x7fdf11c737d0>"
       ]
      },
      {
       "javascript": [
        "$('div#bc20f496-ca77-4e8b-bb59-8a9c48bd80b6').width('36.07%')"
       ],
       "metadata": {},
       "output_type": "display_data",
       "text": [
        "<IPython.core.display.Javascript at 0x7fdf11c73650>"
       ]
      },
      {
       "javascript": [
        "$('div#bc20f496-ca77-4e8b-bb59-8a9c48bd80b6').width('37.70%')"
       ],
       "metadata": {},
       "output_type": "display_data",
       "text": [
        "<IPython.core.display.Javascript at 0x7fdf11c0a350>"
       ]
      },
      {
       "javascript": [
        "$('div#bc20f496-ca77-4e8b-bb59-8a9c48bd80b6').width('39.34%')"
       ],
       "metadata": {},
       "output_type": "display_data",
       "text": [
        "<IPython.core.display.Javascript at 0x7fdf11c73fd0>"
       ]
      },
      {
       "javascript": [
        "$('div#bc20f496-ca77-4e8b-bb59-8a9c48bd80b6').width('40.98%')"
       ],
       "metadata": {},
       "output_type": "display_data",
       "text": [
        "<IPython.core.display.Javascript at 0x7fdf11beb1d0>"
       ]
      },
      {
       "javascript": [
        "$('div#bc20f496-ca77-4e8b-bb59-8a9c48bd80b6').width('42.62%')"
       ],
       "metadata": {},
       "output_type": "display_data",
       "text": [
        "<IPython.core.display.Javascript at 0x7fdf11c73dd0>"
       ]
      },
      {
       "javascript": [
        "$('div#bc20f496-ca77-4e8b-bb59-8a9c48bd80b6').width('44.26%')"
       ],
       "metadata": {},
       "output_type": "display_data",
       "text": [
        "<IPython.core.display.Javascript at 0x7fdf11c0a610>"
       ]
      },
      {
       "javascript": [
        "$('div#bc20f496-ca77-4e8b-bb59-8a9c48bd80b6').width('45.90%')"
       ],
       "metadata": {},
       "output_type": "display_data",
       "text": [
        "<IPython.core.display.Javascript at 0x7fdf11c73350>"
       ]
      },
      {
       "javascript": [
        "$('div#bc20f496-ca77-4e8b-bb59-8a9c48bd80b6').width('47.54%')"
       ],
       "metadata": {},
       "output_type": "display_data",
       "text": [
        "<IPython.core.display.Javascript at 0x7fdf11c0de10>"
       ]
      },
      {
       "javascript": [
        "$('div#bc20f496-ca77-4e8b-bb59-8a9c48bd80b6').width('49.18%')"
       ],
       "metadata": {},
       "output_type": "display_data",
       "text": [
        "<IPython.core.display.Javascript at 0x7fdf11c0d550>"
       ]
      },
      {
       "javascript": [
        "$('div#bc20f496-ca77-4e8b-bb59-8a9c48bd80b6').width('50.82%')"
       ],
       "metadata": {},
       "output_type": "display_data",
       "text": [
        "<IPython.core.display.Javascript at 0x7fdf11c0df50>"
       ]
      },
      {
       "javascript": [
        "$('div#bc20f496-ca77-4e8b-bb59-8a9c48bd80b6').width('52.46%')"
       ],
       "metadata": {},
       "output_type": "display_data",
       "text": [
        "<IPython.core.display.Javascript at 0x7fdf11c0de90>"
       ]
      },
      {
       "javascript": [
        "$('div#bc20f496-ca77-4e8b-bb59-8a9c48bd80b6').width('54.10%')"
       ],
       "metadata": {},
       "output_type": "display_data",
       "text": [
        "<IPython.core.display.Javascript at 0x7fdf11c0d750>"
       ]
      },
      {
       "javascript": [
        "$('div#bc20f496-ca77-4e8b-bb59-8a9c48bd80b6').width('55.74%')"
       ],
       "metadata": {},
       "output_type": "display_data",
       "text": [
        "<IPython.core.display.Javascript at 0x7fdf11c0a350>"
       ]
      },
      {
       "javascript": [
        "$('div#bc20f496-ca77-4e8b-bb59-8a9c48bd80b6').width('57.38%')"
       ],
       "metadata": {},
       "output_type": "display_data",
       "text": [
        "<IPython.core.display.Javascript at 0x7fdf11c0da10>"
       ]
      },
      {
       "javascript": [
        "$('div#bc20f496-ca77-4e8b-bb59-8a9c48bd80b6').width('59.02%')"
       ],
       "metadata": {},
       "output_type": "display_data",
       "text": [
        "<IPython.core.display.Javascript at 0x7fdf11c73c90>"
       ]
      },
      {
       "javascript": [
        "$('div#bc20f496-ca77-4e8b-bb59-8a9c48bd80b6').width('60.66%')"
       ],
       "metadata": {},
       "output_type": "display_data",
       "text": [
        "<IPython.core.display.Javascript at 0x7fdf11c73c90>"
       ]
      },
      {
       "javascript": [
        "$('div#bc20f496-ca77-4e8b-bb59-8a9c48bd80b6').width('62.30%')"
       ],
       "metadata": {},
       "output_type": "display_data",
       "text": [
        "<IPython.core.display.Javascript at 0x7fdf11c26b50>"
       ]
      },
      {
       "javascript": [
        "$('div#bc20f496-ca77-4e8b-bb59-8a9c48bd80b6').width('63.93%')"
       ],
       "metadata": {},
       "output_type": "display_data",
       "text": [
        "<IPython.core.display.Javascript at 0x7fdf11c4d190>"
       ]
      },
      {
       "javascript": [
        "$('div#bc20f496-ca77-4e8b-bb59-8a9c48bd80b6').width('65.57%')"
       ],
       "metadata": {},
       "output_type": "display_data",
       "text": [
        "<IPython.core.display.Javascript at 0x7fdf11c0a150>"
       ]
      },
      {
       "javascript": [
        "$('div#bc20f496-ca77-4e8b-bb59-8a9c48bd80b6').width('67.21%')"
       ],
       "metadata": {},
       "output_type": "display_data",
       "text": [
        "<IPython.core.display.Javascript at 0x7fdf11c4d150>"
       ]
      },
      {
       "javascript": [
        "$('div#bc20f496-ca77-4e8b-bb59-8a9c48bd80b6').width('68.85%')"
       ],
       "metadata": {},
       "output_type": "display_data",
       "text": [
        "<IPython.core.display.Javascript at 0x7fdf11c0d6d0>"
       ]
      },
      {
       "javascript": [
        "$('div#bc20f496-ca77-4e8b-bb59-8a9c48bd80b6').width('70.49%')"
       ],
       "metadata": {},
       "output_type": "display_data",
       "text": [
        "<IPython.core.display.Javascript at 0x7fdf11bebc10>"
       ]
      },
      {
       "javascript": [
        "$('div#bc20f496-ca77-4e8b-bb59-8a9c48bd80b6').width('72.13%')"
       ],
       "metadata": {},
       "output_type": "display_data",
       "text": [
        "<IPython.core.display.Javascript at 0x7fdf11c4dfd0>"
       ]
      },
      {
       "javascript": [
        "$('div#bc20f496-ca77-4e8b-bb59-8a9c48bd80b6').width('73.77%')"
       ],
       "metadata": {},
       "output_type": "display_data",
       "text": [
        "<IPython.core.display.Javascript at 0x7fdf11bebf10>"
       ]
      },
      {
       "javascript": [
        "$('div#bc20f496-ca77-4e8b-bb59-8a9c48bd80b6').width('75.41%')"
       ],
       "metadata": {},
       "output_type": "display_data",
       "text": [
        "<IPython.core.display.Javascript at 0x7fdf11c0df50>"
       ]
      },
      {
       "javascript": [
        "$('div#bc20f496-ca77-4e8b-bb59-8a9c48bd80b6').width('77.05%')"
       ],
       "metadata": {},
       "output_type": "display_data",
       "text": [
        "<IPython.core.display.Javascript at 0x7fdf11c0a0d0>"
       ]
      },
      {
       "javascript": [
        "$('div#bc20f496-ca77-4e8b-bb59-8a9c48bd80b6').width('78.69%')"
       ],
       "metadata": {},
       "output_type": "display_data",
       "text": [
        "<IPython.core.display.Javascript at 0x7fdf11c26f50>"
       ]
      },
      {
       "javascript": [
        "$('div#bc20f496-ca77-4e8b-bb59-8a9c48bd80b6').width('80.33%')"
       ],
       "metadata": {},
       "output_type": "display_data",
       "text": [
        "<IPython.core.display.Javascript at 0x7fdf11c73dd0>"
       ]
      },
      {
       "javascript": [
        "$('div#bc20f496-ca77-4e8b-bb59-8a9c48bd80b6').width('81.97%')"
       ],
       "metadata": {},
       "output_type": "display_data",
       "text": [
        "<IPython.core.display.Javascript at 0x7fdf11bebc10>"
       ]
      },
      {
       "javascript": [
        "$('div#bc20f496-ca77-4e8b-bb59-8a9c48bd80b6').width('83.61%')"
       ],
       "metadata": {},
       "output_type": "display_data",
       "text": [
        "<IPython.core.display.Javascript at 0x7fdf11c0d090>"
       ]
      },
      {
       "javascript": [
        "$('div#bc20f496-ca77-4e8b-bb59-8a9c48bd80b6').width('85.25%')"
       ],
       "metadata": {},
       "output_type": "display_data",
       "text": [
        "<IPython.core.display.Javascript at 0x7fdf11c0d3d0>"
       ]
      },
      {
       "javascript": [
        "$('div#bc20f496-ca77-4e8b-bb59-8a9c48bd80b6').width('86.89%')"
       ],
       "metadata": {},
       "output_type": "display_data",
       "text": [
        "<IPython.core.display.Javascript at 0x7fdf11bc4c10>"
       ]
      },
      {
       "javascript": [
        "$('div#bc20f496-ca77-4e8b-bb59-8a9c48bd80b6').width('88.52%')"
       ],
       "metadata": {},
       "output_type": "display_data",
       "text": [
        "<IPython.core.display.Javascript at 0x7fdf11bc4e10>"
       ]
      },
      {
       "javascript": [
        "$('div#bc20f496-ca77-4e8b-bb59-8a9c48bd80b6').width('90.16%')"
       ],
       "metadata": {},
       "output_type": "display_data",
       "text": [
        "<IPython.core.display.Javascript at 0x7fdf11c0d090>"
       ]
      },
      {
       "javascript": [
        "$('div#bc20f496-ca77-4e8b-bb59-8a9c48bd80b6').width('91.80%')"
       ],
       "metadata": {},
       "output_type": "display_data",
       "text": [
        "<IPython.core.display.Javascript at 0x7fdf11bc4d10>"
       ]
      },
      {
       "javascript": [
        "$('div#bc20f496-ca77-4e8b-bb59-8a9c48bd80b6').width('93.44%')"
       ],
       "metadata": {},
       "output_type": "display_data",
       "text": [
        "<IPython.core.display.Javascript at 0x7fdf11bc4cd0>"
       ]
      },
      {
       "javascript": [
        "$('div#bc20f496-ca77-4e8b-bb59-8a9c48bd80b6').width('95.08%')"
       ],
       "metadata": {},
       "output_type": "display_data",
       "text": [
        "<IPython.core.display.Javascript at 0x7fdf11bc4d90>"
       ]
      },
      {
       "javascript": [
        "$('div#bc20f496-ca77-4e8b-bb59-8a9c48bd80b6').width('96.72%')"
       ],
       "metadata": {},
       "output_type": "display_data",
       "text": [
        "<IPython.core.display.Javascript at 0x7fdf11bc4a50>"
       ]
      },
      {
       "javascript": [
        "$('div#bc20f496-ca77-4e8b-bb59-8a9c48bd80b6').width('98.36%')"
       ],
       "metadata": {},
       "output_type": "display_data",
       "text": [
        "<IPython.core.display.Javascript at 0x7fdf11bc4650>"
       ]
      },
      {
       "javascript": [
        "$('div#bc20f496-ca77-4e8b-bb59-8a9c48bd80b6').width('100.00%')"
       ],
       "metadata": {},
       "output_type": "display_data",
       "text": [
        "<IPython.core.display.Javascript at 0x7fdf11c0d3d0>"
       ]
      }
     ],
     "prompt_number": 6
    },
    {
     "cell_type": "heading",
     "level": 1,
     "metadata": {},
     "source": [
      "RePNL Onset/Drift Bias Model (TR, V Free; A, Z Fixed) "
     ]
    },
    {
     "cell_type": "code",
     "collapsed": false,
     "input": [
      "if not os.path.isdir(pth+\"FitFiles/Re_AllSx_OnsetBiasLC_Con/pnl_tv\"):\n",
      "    os.mkdir(pth+\"FitFiles/Re_AllSx_OnsetBiasLC_Con/pnl_tv\")\n",
      "os.chdir(pth+\"FitFiles/Re_AllSx_OnsetBiasLC_Con/pnl_tv\")\n",
      "\n",
      "# init each subject at opt bsl values, \n",
      "# pass to init arg as nested dictionary {sx:{a:###, 'v':###, 't': ###, 'z':###}}\n",
      "bsl_popt=pd.read_csv(pth+\"FitFiles/Re_AllSx_OnsetBiasLC_Con/bsl/rebsl_tr_con_popt_all.csv\", index_col=0)\n",
      "nested_pnl_inits=bsl_popt.T.to_dict()\n",
      "\n",
      "# fit model holding all parameters constant except for onset time (t)\n",
      "pnl_fits=fitre.fit_reactive_data(data=redata_pnl, inits=nested_pnl_inits, all_params=0, depends=['t','v'], simfx='vector', ntrials=2000, save_path=\"./repnl_tv_\", ftol=1.e-3, xtol=1.e-3)"
     ],
     "language": "python",
     "metadata": {},
     "outputs": [
      {
       "html": [
        "\n",
        "\t\t\t<div style=\"border: 1px solid black; width:500px\">\n",
        "\t\t\t<div id=\"a74f512b-8f43-4304-a9a0-25dc3c151fc4\" style=\"background-color:#009B76; width:0%\">&nbsp;</div>\n",
        "\t\t\t</div> \n",
        "\t\t\t"
       ],
       "metadata": {},
       "output_type": "display_data",
       "text": [
        "<IPython.core.display.HTML at 0x7fdf11c0de90>"
       ]
      },
      {
       "javascript": [
        "$('div#a74f512b-8f43-4304-a9a0-25dc3c151fc4').width('1.64%')"
       ],
       "metadata": {},
       "output_type": "display_data",
       "text": [
        "<IPython.core.display.Javascript at 0x7fdf11c0a7d0>"
       ]
      },
      {
       "javascript": [
        "$('div#a74f512b-8f43-4304-a9a0-25dc3c151fc4').width('3.28%')"
       ],
       "metadata": {},
       "output_type": "display_data",
       "text": [
        "<IPython.core.display.Javascript at 0x7fdf11c0a3d0>"
       ]
      },
      {
       "javascript": [
        "$('div#a74f512b-8f43-4304-a9a0-25dc3c151fc4').width('4.92%')"
       ],
       "metadata": {},
       "output_type": "display_data",
       "text": [
        "<IPython.core.display.Javascript at 0x7fdf11c0db10>"
       ]
      },
      {
       "javascript": [
        "$('div#a74f512b-8f43-4304-a9a0-25dc3c151fc4').width('6.56%')"
       ],
       "metadata": {},
       "output_type": "display_data",
       "text": [
        "<IPython.core.display.Javascript at 0x7fdf11c0a710>"
       ]
      },
      {
       "javascript": [
        "$('div#a74f512b-8f43-4304-a9a0-25dc3c151fc4').width('8.20%')"
       ],
       "metadata": {},
       "output_type": "display_data",
       "text": [
        "<IPython.core.display.Javascript at 0x7fdf11c0add0>"
       ]
      },
      {
       "javascript": [
        "$('div#a74f512b-8f43-4304-a9a0-25dc3c151fc4').width('9.84%')"
       ],
       "metadata": {},
       "output_type": "display_data",
       "text": [
        "<IPython.core.display.Javascript at 0x7fdf11c0ad10>"
       ]
      },
      {
       "javascript": [
        "$('div#a74f512b-8f43-4304-a9a0-25dc3c151fc4').width('11.48%')"
       ],
       "metadata": {},
       "output_type": "display_data",
       "text": [
        "<IPython.core.display.Javascript at 0x7fdf11c0d290>"
       ]
      },
      {
       "javascript": [
        "$('div#a74f512b-8f43-4304-a9a0-25dc3c151fc4').width('13.11%')"
       ],
       "metadata": {},
       "output_type": "display_data",
       "text": [
        "<IPython.core.display.Javascript at 0x7fdf11bb9c90>"
       ]
      },
      {
       "javascript": [
        "$('div#a74f512b-8f43-4304-a9a0-25dc3c151fc4').width('14.75%')"
       ],
       "metadata": {},
       "output_type": "display_data",
       "text": [
        "<IPython.core.display.Javascript at 0x7fdf11bb9590>"
       ]
      },
      {
       "javascript": [
        "$('div#a74f512b-8f43-4304-a9a0-25dc3c151fc4').width('16.39%')"
       ],
       "metadata": {},
       "output_type": "display_data",
       "text": [
        "<IPython.core.display.Javascript at 0x7fdf11bb94d0>"
       ]
      },
      {
       "javascript": [
        "$('div#a74f512b-8f43-4304-a9a0-25dc3c151fc4').width('18.03%')"
       ],
       "metadata": {},
       "output_type": "display_data",
       "text": [
        "<IPython.core.display.Javascript at 0x7fdf11bb9610>"
       ]
      },
      {
       "javascript": [
        "$('div#a74f512b-8f43-4304-a9a0-25dc3c151fc4').width('19.67%')"
       ],
       "metadata": {},
       "output_type": "display_data",
       "text": [
        "<IPython.core.display.Javascript at 0x7fdf11bb9a50>"
       ]
      },
      {
       "javascript": [
        "$('div#a74f512b-8f43-4304-a9a0-25dc3c151fc4').width('21.31%')"
       ],
       "metadata": {},
       "output_type": "display_data",
       "text": [
        "<IPython.core.display.Javascript at 0x7fdf11c0add0>"
       ]
      },
      {
       "javascript": [
        "$('div#a74f512b-8f43-4304-a9a0-25dc3c151fc4').width('22.95%')"
       ],
       "metadata": {},
       "output_type": "display_data",
       "text": [
        "<IPython.core.display.Javascript at 0x7fdf11c26a10>"
       ]
      },
      {
       "javascript": [
        "$('div#a74f512b-8f43-4304-a9a0-25dc3c151fc4').width('24.59%')"
       ],
       "metadata": {},
       "output_type": "display_data",
       "text": [
        "<IPython.core.display.Javascript at 0x7fdf11c26b50>"
       ]
      },
      {
       "javascript": [
        "$('div#a74f512b-8f43-4304-a9a0-25dc3c151fc4').width('26.23%')"
       ],
       "metadata": {},
       "output_type": "display_data",
       "text": [
        "<IPython.core.display.Javascript at 0x7fdf11c26810>"
       ]
      },
      {
       "javascript": [
        "$('div#a74f512b-8f43-4304-a9a0-25dc3c151fc4').width('27.87%')"
       ],
       "metadata": {},
       "output_type": "display_data",
       "text": [
        "<IPython.core.display.Javascript at 0x7fdf11c26890>"
       ]
      },
      {
       "javascript": [
        "$('div#a74f512b-8f43-4304-a9a0-25dc3c151fc4').width('29.51%')"
       ],
       "metadata": {},
       "output_type": "display_data",
       "text": [
        "<IPython.core.display.Javascript at 0x7fdf11bb9550>"
       ]
      },
      {
       "javascript": [
        "$('div#a74f512b-8f43-4304-a9a0-25dc3c151fc4').width('31.15%')"
       ],
       "metadata": {},
       "output_type": "display_data",
       "text": [
        "<IPython.core.display.Javascript at 0x7fdf11bb9ed0>"
       ]
      },
      {
       "javascript": [
        "$('div#a74f512b-8f43-4304-a9a0-25dc3c151fc4').width('32.79%')"
       ],
       "metadata": {},
       "output_type": "display_data",
       "text": [
        "<IPython.core.display.Javascript at 0x7fdf11c26f50>"
       ]
      },
      {
       "javascript": [
        "$('div#a74f512b-8f43-4304-a9a0-25dc3c151fc4').width('34.43%')"
       ],
       "metadata": {},
       "output_type": "display_data",
       "text": [
        "<IPython.core.display.Javascript at 0x7fdf11bebc90>"
       ]
      },
      {
       "javascript": [
        "$('div#a74f512b-8f43-4304-a9a0-25dc3c151fc4').width('36.07%')"
       ],
       "metadata": {},
       "output_type": "display_data",
       "text": [
        "<IPython.core.display.Javascript at 0x7fdf11bebdd0>"
       ]
      },
      {
       "javascript": [
        "$('div#a74f512b-8f43-4304-a9a0-25dc3c151fc4').width('37.70%')"
       ],
       "metadata": {},
       "output_type": "display_data",
       "text": [
        "<IPython.core.display.Javascript at 0x7fdf11beb0d0>"
       ]
      },
      {
       "javascript": [
        "$('div#a74f512b-8f43-4304-a9a0-25dc3c151fc4').width('39.34%')"
       ],
       "metadata": {},
       "output_type": "display_data",
       "text": [
        "<IPython.core.display.Javascript at 0x7fdf11bb9490>"
       ]
      },
      {
       "javascript": [
        "$('div#a74f512b-8f43-4304-a9a0-25dc3c151fc4').width('40.98%')"
       ],
       "metadata": {},
       "output_type": "display_data",
       "text": [
        "<IPython.core.display.Javascript at 0x7fdf11bb9750>"
       ]
      },
      {
       "javascript": [
        "$('div#a74f512b-8f43-4304-a9a0-25dc3c151fc4').width('42.62%')"
       ],
       "metadata": {},
       "output_type": "display_data",
       "text": [
        "<IPython.core.display.Javascript at 0x7fdf11bebbd0>"
       ]
      },
      {
       "javascript": [
        "$('div#a74f512b-8f43-4304-a9a0-25dc3c151fc4').width('44.26%')"
       ],
       "metadata": {},
       "output_type": "display_data",
       "text": [
        "<IPython.core.display.Javascript at 0x7fdf11bb9590>"
       ]
      },
      {
       "javascript": [
        "$('div#a74f512b-8f43-4304-a9a0-25dc3c151fc4').width('45.90%')"
       ],
       "metadata": {},
       "output_type": "display_data",
       "text": [
        "<IPython.core.display.Javascript at 0x7fdf11c26a10>"
       ]
      },
      {
       "javascript": [
        "$('div#a74f512b-8f43-4304-a9a0-25dc3c151fc4').width('47.54%')"
       ],
       "metadata": {},
       "output_type": "display_data",
       "text": [
        "<IPython.core.display.Javascript at 0x7fdf11bc4fd0>"
       ]
      },
      {
       "javascript": [
        "$('div#a74f512b-8f43-4304-a9a0-25dc3c151fc4').width('49.18%')"
       ],
       "metadata": {},
       "output_type": "display_data",
       "text": [
        "<IPython.core.display.Javascript at 0x7fdf11c26910>"
       ]
      },
      {
       "javascript": [
        "$('div#a74f512b-8f43-4304-a9a0-25dc3c151fc4').width('50.82%')"
       ],
       "metadata": {},
       "output_type": "display_data",
       "text": [
        "<IPython.core.display.Javascript at 0x7fdf11bc4710>"
       ]
      },
      {
       "javascript": [
        "$('div#a74f512b-8f43-4304-a9a0-25dc3c151fc4').width('52.46%')"
       ],
       "metadata": {},
       "output_type": "display_data",
       "text": [
        "<IPython.core.display.Javascript at 0x7fdf11bb9590>"
       ]
      },
      {
       "javascript": [
        "$('div#a74f512b-8f43-4304-a9a0-25dc3c151fc4').width('54.10%')"
       ],
       "metadata": {},
       "output_type": "display_data",
       "text": [
        "<IPython.core.display.Javascript at 0x7fdf11bebdd0>"
       ]
      },
      {
       "javascript": [
        "$('div#a74f512b-8f43-4304-a9a0-25dc3c151fc4').width('55.74%')"
       ],
       "metadata": {},
       "output_type": "display_data",
       "text": [
        "<IPython.core.display.Javascript at 0x7fdf11bc4350>"
       ]
      },
      {
       "javascript": [
        "$('div#a74f512b-8f43-4304-a9a0-25dc3c151fc4').width('57.38%')"
       ],
       "metadata": {},
       "output_type": "display_data",
       "text": [
        "<IPython.core.display.Javascript at 0x7fdf11bc4750>"
       ]
      },
      {
       "javascript": [
        "$('div#a74f512b-8f43-4304-a9a0-25dc3c151fc4').width('59.02%')"
       ],
       "metadata": {},
       "output_type": "display_data",
       "text": [
        "<IPython.core.display.Javascript at 0x7fdf11c4d150>"
       ]
      },
      {
       "javascript": [
        "$('div#a74f512b-8f43-4304-a9a0-25dc3c151fc4').width('60.66%')"
       ],
       "metadata": {},
       "output_type": "display_data",
       "text": [
        "<IPython.core.display.Javascript at 0x7fdf11c4d750>"
       ]
      },
      {
       "javascript": [
        "$('div#a74f512b-8f43-4304-a9a0-25dc3c151fc4').width('62.30%')"
       ],
       "metadata": {},
       "output_type": "display_data",
       "text": [
        "<IPython.core.display.Javascript at 0x7fdf11bebdd0>"
       ]
      },
      {
       "javascript": [
        "$('div#a74f512b-8f43-4304-a9a0-25dc3c151fc4').width('63.93%')"
       ],
       "metadata": {},
       "output_type": "display_data",
       "text": [
        "<IPython.core.display.Javascript at 0x7fdf11bb9750>"
       ]
      },
      {
       "javascript": [
        "$('div#a74f512b-8f43-4304-a9a0-25dc3c151fc4').width('65.57%')"
       ],
       "metadata": {},
       "output_type": "display_data",
       "text": [
        "<IPython.core.display.Javascript at 0x7fdf11c4d150>"
       ]
      },
      {
       "javascript": [
        "$('div#a74f512b-8f43-4304-a9a0-25dc3c151fc4').width('67.21%')"
       ],
       "metadata": {},
       "output_type": "display_data",
       "text": [
        "<IPython.core.display.Javascript at 0x7fdf11bc4750>"
       ]
      },
      {
       "javascript": [
        "$('div#a74f512b-8f43-4304-a9a0-25dc3c151fc4').width('68.85%')"
       ],
       "metadata": {},
       "output_type": "display_data",
       "text": [
        "<IPython.core.display.Javascript at 0x7fdf11c261d0>"
       ]
      },
      {
       "javascript": [
        "$('div#a74f512b-8f43-4304-a9a0-25dc3c151fc4').width('70.49%')"
       ],
       "metadata": {},
       "output_type": "display_data",
       "text": [
        "<IPython.core.display.Javascript at 0x7fdf11bc4b90>"
       ]
      },
      {
       "javascript": [
        "$('div#a74f512b-8f43-4304-a9a0-25dc3c151fc4').width('72.13%')"
       ],
       "metadata": {},
       "output_type": "display_data",
       "text": [
        "<IPython.core.display.Javascript at 0x7fdf11c4d810>"
       ]
      },
      {
       "javascript": [
        "$('div#a74f512b-8f43-4304-a9a0-25dc3c151fc4').width('73.77%')"
       ],
       "metadata": {},
       "output_type": "display_data",
       "text": [
        "<IPython.core.display.Javascript at 0x7fdf11bb9750>"
       ]
      },
      {
       "javascript": [
        "$('div#a74f512b-8f43-4304-a9a0-25dc3c151fc4').width('75.41%')"
       ],
       "metadata": {},
       "output_type": "display_data",
       "text": [
        "<IPython.core.display.Javascript at 0x7fdf11c4d150>"
       ]
      },
      {
       "javascript": [
        "$('div#a74f512b-8f43-4304-a9a0-25dc3c151fc4').width('77.05%')"
       ],
       "metadata": {},
       "output_type": "display_data",
       "text": [
        "<IPython.core.display.Javascript at 0x7fdf11c4d750>"
       ]
      },
      {
       "javascript": [
        "$('div#a74f512b-8f43-4304-a9a0-25dc3c151fc4').width('78.69%')"
       ],
       "metadata": {},
       "output_type": "display_data",
       "text": [
        "<IPython.core.display.Javascript at 0x7fdf11c73c90>"
       ]
      },
      {
       "javascript": [
        "$('div#a74f512b-8f43-4304-a9a0-25dc3c151fc4').width('80.33%')"
       ],
       "metadata": {},
       "output_type": "display_data",
       "text": [
        "<IPython.core.display.Javascript at 0x7fdf11c26590>"
       ]
      },
      {
       "javascript": [
        "$('div#a74f512b-8f43-4304-a9a0-25dc3c151fc4').width('81.97%')"
       ],
       "metadata": {},
       "output_type": "display_data",
       "text": [
        "<IPython.core.display.Javascript at 0x7fdf11bc4a90>"
       ]
      },
      {
       "javascript": [
        "$('div#a74f512b-8f43-4304-a9a0-25dc3c151fc4').width('83.61%')"
       ],
       "metadata": {},
       "output_type": "display_data",
       "text": [
        "<IPython.core.display.Javascript at 0x7fdf11c0de10>"
       ]
      },
      {
       "javascript": [
        "$('div#a74f512b-8f43-4304-a9a0-25dc3c151fc4').width('85.25%')"
       ],
       "metadata": {},
       "output_type": "display_data",
       "text": [
        "<IPython.core.display.Javascript at 0x7fdf11bebd50>"
       ]
      },
      {
       "javascript": [
        "$('div#a74f512b-8f43-4304-a9a0-25dc3c151fc4').width('86.89%')"
       ],
       "metadata": {},
       "output_type": "display_data",
       "text": [
        "<IPython.core.display.Javascript at 0x7fdf11bebdd0>"
       ]
      },
      {
       "javascript": [
        "$('div#a74f512b-8f43-4304-a9a0-25dc3c151fc4').width('88.52%')"
       ],
       "metadata": {},
       "output_type": "display_data",
       "text": [
        "<IPython.core.display.Javascript at 0x7fdf11c73c90>"
       ]
      },
      {
       "javascript": [
        "$('div#a74f512b-8f43-4304-a9a0-25dc3c151fc4').width('90.16%')"
       ],
       "metadata": {},
       "output_type": "display_data",
       "text": [
        "<IPython.core.display.Javascript at 0x7fdf11c0dc10>"
       ]
      },
      {
       "javascript": [
        "$('div#a74f512b-8f43-4304-a9a0-25dc3c151fc4').width('91.80%')"
       ],
       "metadata": {},
       "output_type": "display_data",
       "text": [
        "<IPython.core.display.Javascript at 0x7fdf11c4d750>"
       ]
      },
      {
       "javascript": [
        "$('div#a74f512b-8f43-4304-a9a0-25dc3c151fc4').width('93.44%')"
       ],
       "metadata": {},
       "output_type": "display_data",
       "text": [
        "<IPython.core.display.Javascript at 0x7fdf11bc4590>"
       ]
      },
      {
       "javascript": [
        "$('div#a74f512b-8f43-4304-a9a0-25dc3c151fc4').width('95.08%')"
       ],
       "metadata": {},
       "output_type": "display_data",
       "text": [
        "<IPython.core.display.Javascript at 0x7fdf11bc4fd0>"
       ]
      },
      {
       "javascript": [
        "$('div#a74f512b-8f43-4304-a9a0-25dc3c151fc4').width('96.72%')"
       ],
       "metadata": {},
       "output_type": "display_data",
       "text": [
        "<IPython.core.display.Javascript at 0x7fdf11c26590>"
       ]
      },
      {
       "javascript": [
        "$('div#a74f512b-8f43-4304-a9a0-25dc3c151fc4').width('98.36%')"
       ],
       "metadata": {},
       "output_type": "display_data",
       "text": [
        "<IPython.core.display.Javascript at 0x7fdf11bc4d50>"
       ]
      },
      {
       "javascript": [
        "$('div#a74f512b-8f43-4304-a9a0-25dc3c151fc4').width('100.00%')"
       ],
       "metadata": {},
       "output_type": "display_data",
       "text": [
        "<IPython.core.display.Javascript at 0x7fdf11bb8790>"
       ]
      }
     ],
     "prompt_number": 7
    },
    {
     "cell_type": "heading",
     "level": 3,
     "metadata": {},
     "source": [
      "OLD Re Flat & IDX Fitted Parameters (BSL)"
     ]
    },
    {
     "cell_type": "code",
     "collapsed": false,
     "input": [
      "# optimized parameters fit to flat group data using RaDD \n",
      "# passed to sx fitting function as initial params for each sx\n",
      "inits={'a': 0.43155063058963727, 'ssv': -0.96986662065537221, \n",
      "         't': 0.30656375144494813, 'v': 1.0366001760617101, 'z': 0.16611261860323445}\n",
      "\n",
      "#ReBSL Avg of Individual Sx Optimized RADD Parameters\n",
      "inits_opt={'a':0.4380473426, 'ssv':-0.9784438748, 't':0.3063577618, 'z':0.1664076139,'v': 1.0515686029}"
     ],
     "language": "python",
     "metadata": {},
     "outputs": []
    },
    {
     "cell_type": "heading",
     "level": 3,
     "metadata": {},
     "source": [
      "Reactive Empirical Data "
     ]
    },
    {
     "cell_type": "code",
     "collapsed": false,
     "input": [
      "#Reactive Emprical Data for BSL, PNL Conditions\n",
      "reSC=[np.array([ 0.99482759,  0.98362069,  0.89913793,  0.5137931 ,  0.09913793]),np.array([ 0.99310345,  0.98534483,  0.92672414,  0.6       ,  0.17758621])]\n",
      "reSC_err=[np.array([ 0.00463002,  0.01061342,  0.02947119,  0.06475839,  0.0300568 ]), np.array([ 0.00657836,  0.00902168,  0.0244885 ,  0.05038838,  0.03991182])]\n",
      "\n",
      "reRT=[560.06155060636706, 566.04816069768106]\n",
      "reRT_err=[5.0285142629924566, 4.1756849148121304]"
     ],
     "language": "python",
     "metadata": {},
     "outputs": []
    }
   ],
   "metadata": {}
  }
 ]
}