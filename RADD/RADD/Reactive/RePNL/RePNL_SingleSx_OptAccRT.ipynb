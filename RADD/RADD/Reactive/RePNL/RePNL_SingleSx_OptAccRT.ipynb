{
 "metadata": {
  "name": "",
  "signature": "sha256:5ee2a3206b83c685980c4c82c34cb17709cdf1821428a802afe362f68b76bd37"
 },
 "nbformat": 3,
 "nbformat_minor": 0,
 "worksheets": [
  {
   "cells": [
    {
     "cell_type": "heading",
     "level": 1,
     "metadata": {},
     "source": [
      "Single SX RE-PNL DATA NESTED FITS "
     ]
    },
    {
     "cell_type": "code",
     "collapsed": false,
     "input": [
      "from __future__ import division\n",
      "import pandas as pd\n",
      "from radd import utils, xopt, psy\n",
      "from lmfit import Parameters, Minimizer\n",
      "import seaborn as sns"
     ],
     "language": "python",
     "metadata": {},
     "outputs": [],
     "prompt_number": 13
    },
    {
     "cell_type": "heading",
     "level": 3,
     "metadata": {},
     "source": [
      "Load in data"
     ]
    },
    {
     "cell_type": "code",
     "collapsed": false,
     "input": [
      "pth=utils.find_path()\n",
      "redata_pnl=pd.read_csv(pth+\"DataFiles/RePNL_Data.csv\", index_col=0)\n",
      "pnl=redata_pnl.copy()"
     ],
     "language": "python",
     "metadata": {},
     "outputs": [],
     "prompt_number": 14
    },
    {
     "cell_type": "heading",
     "level": 3,
     "metadata": {},
     "source": [
      "Get Subject RT Vector"
     ]
    },
    {
     "cell_type": "code",
     "collapsed": false,
     "input": [
      "gocor=pnl[(pnl['trial_type']=='go')&(pnl['acc']==1)&(pnl['rt']<.650)]\n",
      "rts=np.array([sxdf.rt.mean() for sx, sxdf in gocor.groupby('subj_idx')])\n"
     ],
     "language": "python",
     "metadata": {},
     "outputs": [],
     "prompt_number": 15
    },
    {
     "cell_type": "heading",
     "level": 3,
     "metadata": {},
     "source": [
      "Get DF of Stop Curves (cols=SSD, index=sx) and Append Column w/ Mean Sx RTs"
     ]
    },
    {
     "cell_type": "code",
     "collapsed": false,
     "input": [
      "stops=pnl[pnl['trial_type']=='stop']\n",
      "stopdata=utils.makePivot(stops, cols='ssd', index='subj_idx', values='acc')\n",
      "ydata=stopdata.copy()\n",
      "\n",
      "# scale RTs to have same \n",
      "# sign digits as pstop\n",
      "ydata['rt']=rts*10"
     ],
     "language": "python",
     "metadata": {},
     "outputs": [],
     "prompt_number": 17
    },
    {
     "cell_type": "heading",
     "level": 3,
     "metadata": {},
     "source": [
      "Define Initial Parameter Values (Optimal Sx Params For ReBSL)"
     ]
    },
    {
     "cell_type": "code",
     "collapsed": false,
     "input": [
      "paramdf=pd.read_csv(pth+\"OptAccRT/ReBSL_SxFits/ReBSL_AllSxParams.csv\", index_col=0)\n"
     ],
     "language": "python",
     "metadata": {},
     "outputs": [],
     "prompt_number": 39
    },
    {
     "cell_type": "heading",
     "level": 3,
     "metadata": {},
     "source": [
      "Fit Single Sx - RePNL Nested Model (RADD)"
     ]
    },
    {
     "cell_type": "code",
     "collapsed": false,
     "input": [
      "xopt=reload(xopt)\n",
      "\n",
      "\n",
      "pb=utils.PBinJ(len(paramdf), color=\"#009B76\"); sx_n=0\n",
      "sxpred_list=[]; ssdlist=[200,250,300,350,400,'rt']\n",
      "pth=utils.find_path()\n",
      "popt_df=pd.DataFrame(columns=paramdf.columns, index=paramdf.index.unique())\n",
      "ntrials=5000; depHyper=True\n",
      "\n",
      "for sx in paramdf.index.unique():\n",
      "\n",
      "    sx_n+=1  \n",
      "    \n",
      "    y=list(ydata.loc[sx,:].values)\n",
      "    sxtheta=paramdf.loc[sx].to_dict()\n",
      "\n",
      "    p=Parameters()\n",
      "    p.add('v', value=sxtheta['v'], min=0.0, vary=True)\n",
      "    \n",
      "    popt = Minimizer(xopt.ssre_accrt_minfunc, p, fcn_args=(sxtheta, y, ntrials), method='Nelder-Mead') \n",
      "    popt.fmin(maxfun=1000, ftol=5.e-2, xtol=1.e-2, full_output=True, disp=True)\n",
      "    \n",
      "    sxpred=pd.DataFrame.from_dict({'subj_idx':[sx]*len(popt.residual),'ssdlist':ssdlist, 'ydata':y, \n",
      "            'residuals':popt.residual, 'yhat':y+popt.residual, 'chi':popt.chisqr}, orient='columns')\n",
      "    \n",
      "    for param in popt.values.keys():\n",
      "        popt_df.loc[sx, param]=popt.values[param]\n",
      "    for param in sxtheta.keys():\n",
      "        popt_df.loc[sx, param]=sxtheta[param]\n",
      "        \n",
      "    popt_df.to_csv(pth+\"OptAccRT/RePNL_SxFits/RePNL_AllSxParams.csv\")\n",
      "    sxpred.to_csv(pth+\"OptAccRT/RePNL_SxFits/RePNL_Sx\"+str(sx)+\".csv\")\n",
      "    sxpred_list.append(sxpred)\n",
      "    \n",
      "\n",
      "    pb.update_i(sx_n)\n",
      "\n",
      "allsx=pd.concat(sxpred_list)\n",
      "allsx.to_csv(pth+\"OptAccRT/RePNL_SxFits/RePNL_AllSx.csv\")\n",
      "popt_df.to_csv(pth+\"OptAccRT/RePNL_SxFits/RePNL_AllSxParams.csv\")"
     ],
     "language": "python",
     "metadata": {},
     "outputs": []
    },
    {
     "cell_type": "code",
     "collapsed": false,
     "input": [
      "xopt=reload(xopt)\n",
      "\n",
      "#sxpred=xopt.sxloop_opt_acc_rt(ydata, optmean, ntrials=1000)"
     ],
     "language": "python",
     "metadata": {},
     "outputs": []
    },
    {
     "cell_type": "heading",
     "level": 3,
     "metadata": {},
     "source": [
      "Read in Fit and Prediction Summaries for Each Subject and Concatenate"
     ]
    },
    {
     "cell_type": "code",
     "collapsed": false,
     "input": [
      "sxl=list()\n",
      "for sx in paramdf.index.unique():\n",
      "    try:\n",
      "        sxl.append(pd.read_csv(pth+\"OptAccRT/RePNL_SxFits/RePNL_Sx\"+str(sx)+\".csv\", index_col=0))\n",
      "    except:\n",
      "        pass\n",
      "df=pd.concat(sxl)"
     ],
     "language": "python",
     "metadata": {},
     "outputs": [],
     "prompt_number": 47
    },
    {
     "cell_type": "heading",
     "level": 3,
     "metadata": {},
     "source": [
      "Save Concatenated Sx-Fits-Predictions DataFrame to File"
     ]
    },
    {
     "cell_type": "code",
     "collapsed": false,
     "input": [
      "df.to_csv(pth+\"OptAccRT/RePNL_SxFits/RePNL_AllSx_OptAccRT.csv\")"
     ],
     "language": "python",
     "metadata": {},
     "outputs": [],
     "prompt_number": 49
    },
    {
     "cell_type": "heading",
     "level": 3,
     "metadata": {},
     "source": [
      "Calculate Summary Stop Acc & RT Values"
     ]
    },
    {
     "cell_type": "code",
     "collapsed": false,
     "input": [
      "import seaborn as sns\n",
      "psy=reload(psy)\n",
      "utils=reload(utils)\n",
      "\n",
      "sparams=utils.style_params()\n",
      "colors=sparams['colors']\n",
      "sns.set_style('ticks', rc=sparams['style'])\n",
      "sns.set_context('paper', rc=sparams['context'])\n",
      "\n",
      "avg=df.groupby('ssdlist').mean()\n",
      "sem=df.groupby('ssdlist').sem()\n",
      "\n",
      "avg=df.groupby('ssdlist').mean()\n",
      "yd=avg['ydata'][:-1]\n",
      "yh=avg['yhat'][:-1]\n",
      "rtd=avg['ydata'][-1]/10\n",
      "rth=avg['yhat'][-1]/10\n",
      "\n",
      "sns.palplot(sparams['colors'])"
     ],
     "language": "python",
     "metadata": {},
     "outputs": [
      {
       "metadata": {},
       "output_type": "display_data",
       "png": "[encoded data removed]",
       "text": [
        "<matplotlib.figure.Figure at 0x7f31295a1dd0>"
       ]
      }
     ],
     "prompt_number": 54
    },
    {
     "cell_type": "heading",
     "level": 3,
     "metadata": {},
     "source": [
      "Plot Observed/Predicted Stop Curves/RT "
     ]
    },
    {
     "cell_type": "code",
     "collapsed": false,
     "input": [
      "import seaborn as sns\n",
      "psy=reload(psy)\n",
      "utils=reload(utils)\n",
      "\n",
      "sparams=utils.style_params()\n",
      "colors=sparams['colors']\n",
      "sns.set_style('ticks', rc=sparams['style'])\n",
      "sns.set_context('paper', rc=sparams['context'])\n",
      "\n",
      "stopmeans=[yd[::-1], yh[::-1]]\n",
      "stoperr=[sem['ydata'][:-1][::-1], sem['yhat'][:-1][::-1]]\n",
      "\n",
      "ax=psy.scurves(ysim=stopmeans, yerr=stoperr, title='SingleSx_OptAccRT_Final_+-2SEM.png', \n",
      "               colors=[colors[-5], 'Gray'], labels=['Data', 'RADD'])\n",
      "plt.tight_layout()\n",
      "plt.savefig(pth+\"OptAccRT/RePNL_SxFits/RePNL_SxFits_PStop.png\", dpi=600)    "
     ],
     "language": "python",
     "metadata": {},
     "outputs": [
      {
       "metadata": {},
       "output_type": "display_data",
       "png": "[encoded data removed]",
       "text": [
        "<matplotlib.figure.Figure at 0x7f31292e9c50>"
       ]
      }
     ],
     "prompt_number": 83
    },
    {
     "cell_type": "code",
     "collapsed": false,
     "input": [
      "#plot rt\n",
      "ff, axx=plt.subplots(1, figsize=(4, 5.5))\n",
      "\n",
      "axx.bar(0, rtd, yerr=sem['ydata'][-1]/10, color=colors[-5], error_kw={\"elinewidth\":3, \"ecolor\":'k'}, \n",
      "        alpha=1,align='center', edgecolor=colors[-7], label='Data')\n",
      "\n",
      "axx.errorbar(0.05, rth, yerr=sem['yhat'][-1]/10, marker='o', markersize=10, \n",
      "             elinewidth=3, ecolor='k', color='Gray', linewidth=0, alpha=1, label='RADD')   \n",
      "\n",
      "plt.setp(axx, xlim=(-.7, .7), ylim=(.5, .6), ylabel='RT (s)', \n",
      "         xticks=[], xticklabels=[], xlabel='ssRe PNL')\n",
      "axx.set_xlabel('Reactive Penalty', fontsize=19)\n",
      "plt.setp(axx.get_yticklabels(), fontsize=17)\n",
      "axx.set_ylabel('RT (s)', fontsize=19, labelpad=8) \n",
      "axx.legend(loc=0, fontsize=17)\n",
      "sns.despine()\n",
      "plt.tight_layout()\n",
      "ff.savefig(pth+\"OptAccRT/RePNL_SxFits/RePNL_SxFits_RT.png\", dpi=600)    "
     ],
     "language": "python",
     "metadata": {},
     "outputs": [
      {
       "metadata": {},
       "output_type": "display_data",
       "png": "[encoded data removed]",
       "text": [
        "<matplotlib.figure.Figure at 0x7f312958d290>"
       ]
      }
     ],
     "prompt_number": 85
    },
    {
     "cell_type": "code",
     "collapsed": false,
     "input": [],
     "language": "python",
     "metadata": {},
     "outputs": []
    }
   ],
   "metadata": {}
  }
 ]
}