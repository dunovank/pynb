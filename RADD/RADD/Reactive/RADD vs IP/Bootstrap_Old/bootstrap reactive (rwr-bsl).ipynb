{
 "metadata": {
  "name": "",
  "signature": "sha256:85bafae1620b7765e72b86fc55ab7e2b98c94f5f6235b1093ea23c6b5b784f47"
 },
 "nbformat": 3,
 "nbformat_minor": 0,
 "worksheets": [
  {
   "cells": [
    {
     "cell_type": "code",
     "collapsed": false,
     "input": [
      "from __future__ import division\n",
      "import os\n",
      "import numpy as np\n",
      "import scipy.stats as stats\n",
      "import pandas as pd\n",
      "import matplotlib.pyplot as plt\n",
      "\n",
      "from radd import utils, fitre\n",
      "from lmfit import Minimizer, Parameters\n",
      "from collections import OrderedDict\n",
      "\n",
      "%matplotlib inline\n",
      "pth=utils.find_path()"
     ],
     "language": "python",
     "metadata": {},
     "outputs": [],
     "prompt_number": 7
    },
    {
     "cell_type": "heading",
     "level": 1,
     "metadata": {},
     "source": [
      "Read DFs"
     ]
    },
    {
     "cell_type": "code",
     "collapsed": false,
     "input": [
      "utils=reload(utils); \n",
      "\n",
      "#df to resample for pstop\n",
      "origdf=pd.read_csv(pth+\"DataFiles/ReBSL_Data.csv\", index_col=0)\n",
      "\n",
      "#init params df\n",
      "paramdf=pd.read_csv(pth+\"ParamFiles/ReBSL_HDDM_Params.csv\", index_col='subj_idx')\n",
      "\n",
      "#go to proactive bootstrap directory\n",
      "os.chdir(utils.find_path()+\"OptAccRT/reboot/\")"
     ],
     "language": "python",
     "metadata": {},
     "outputs": [],
     "prompt_number": 8
    },
    {
     "cell_type": "heading",
     "level": 1,
     "metadata": {},
     "source": [
      "Run main bootstrapping function here"
     ]
    },
    {
     "cell_type": "code",
     "collapsed": false,
     "input": [
      "fitre=reload(fitre); utils=reload(utils); fitre=reload(fitre)\n",
      "\n",
      "ypred=main_reboot(origdf, paramdf, niter=150, ntrials=2000)"
     ],
     "language": "python",
     "metadata": {},
     "outputs": [
      {
       "output_type": "stream",
       "stream": "stdout",
       "text": [
        "Optimization terminated successfully.\n",
        "         Current function value: 0.006502\n",
        "         Iterations: 9\n",
        "         Function evaluations: 29\n",
        "Optimization terminated successfully."
       ]
      },
      {
       "output_type": "stream",
       "stream": "stdout",
       "text": [
        "\n",
        "         Current function value: 0.005162\n",
        "         Iterations: 16\n",
        "         Function evaluations: 46\n",
        "Optimization terminated successfully."
       ]
      },
      {
       "output_type": "stream",
       "stream": "stdout",
       "text": [
        "\n",
        "         Current function value: 0.004767\n",
        "         Iterations: 15\n",
        "         Function evaluations: 39\n",
        "Optimization terminated successfully."
       ]
      },
      {
       "output_type": "stream",
       "stream": "stdout",
       "text": [
        "\n",
        "         Current function value: 0.006447\n",
        "         Iterations: 12\n",
        "         Function evaluations: 37\n",
        "Optimization terminated successfully."
       ]
      },
      {
       "output_type": "stream",
       "stream": "stdout",
       "text": [
        "\n",
        "         Current function value: 0.006152\n",
        "         Iterations: 15\n",
        "         Function evaluations: 40\n",
        "Optimization terminated successfully."
       ]
      },
      {
       "output_type": "stream",
       "stream": "stdout",
       "text": [
        "\n",
        "         Current function value: 0.006375\n",
        "         Iterations: 14\n",
        "         Function evaluations: 35\n",
        "Optimization terminated successfully."
       ]
      },
      {
       "output_type": "stream",
       "stream": "stdout",
       "text": [
        "\n",
        "         Current function value: 0.006460\n",
        "         Iterations: 13\n",
        "         Function evaluations: 36\n",
        "Optimization terminated successfully."
       ]
      },
      {
       "output_type": "stream",
       "stream": "stdout",
       "text": [
        "\n",
        "         Current function value: 0.005262\n",
        "         Iterations: 12\n",
        "         Function evaluations: 38\n",
        "Optimization terminated successfully."
       ]
      },
      {
       "output_type": "stream",
       "stream": "stdout",
       "text": [
        "\n",
        "         Current function value: 0.005411\n",
        "         Iterations: 18\n",
        "         Function evaluations: 42\n",
        "Optimization terminated successfully."
       ]
      },
      {
       "output_type": "stream",
       "stream": "stdout",
       "text": [
        "\n",
        "         Current function value: 0.006700\n",
        "         Iterations: 12\n",
        "         Function evaluations: 41\n",
        "Optimization terminated successfully."
       ]
      },
      {
       "output_type": "stream",
       "stream": "stdout",
       "text": [
        "\n",
        "         Current function value: 0.005671\n",
        "         Iterations: 9\n",
        "         Function evaluations: 35\n",
        "Optimization terminated successfully."
       ]
      },
      {
       "output_type": "stream",
       "stream": "stdout",
       "text": [
        "\n",
        "         Current function value: 0.005146\n",
        "         Iterations: 10\n",
        "         Function evaluations: 33\n",
        "Optimization terminated successfully."
       ]
      },
      {
       "output_type": "stream",
       "stream": "stdout",
       "text": [
        "\n",
        "         Current function value: 0.006672\n",
        "         Iterations: 16\n",
        "         Function evaluations: 40\n",
        "Optimization terminated successfully."
       ]
      },
      {
       "output_type": "stream",
       "stream": "stdout",
       "text": [
        "\n",
        "         Current function value: 0.005681\n",
        "         Iterations: 19\n",
        "         Function evaluations: 44\n",
        "Optimization terminated successfully."
       ]
      },
      {
       "output_type": "stream",
       "stream": "stdout",
       "text": [
        "\n",
        "         Current function value: 0.006025\n",
        "         Iterations: 23\n",
        "         Function evaluations: 52\n",
        "Optimization terminated successfully."
       ]
      },
      {
       "output_type": "stream",
       "stream": "stdout",
       "text": [
        "\n",
        "         Current function value: 0.006269\n",
        "         Iterations: 18\n",
        "         Function evaluations: 45\n",
        "Optimization terminated successfully."
       ]
      },
      {
       "output_type": "stream",
       "stream": "stdout",
       "text": [
        "\n",
        "         Current function value: 0.006178\n",
        "         Iterations: 15\n",
        "         Function evaluations: 37\n",
        "Optimization terminated successfully."
       ]
      },
      {
       "output_type": "stream",
       "stream": "stdout",
       "text": [
        "\n",
        "         Current function value: 0.004368\n",
        "         Iterations: 13\n",
        "         Function evaluations: 43\n",
        "Optimization terminated successfully."
       ]
      },
      {
       "output_type": "stream",
       "stream": "stdout",
       "text": [
        "\n",
        "         Current function value: 0.007139\n",
        "         Iterations: 17\n",
        "         Function evaluations: 48\n",
        "Optimization terminated successfully."
       ]
      },
      {
       "output_type": "stream",
       "stream": "stdout",
       "text": [
        "\n",
        "         Current function value: 0.007569\n",
        "         Iterations: 19\n",
        "         Function evaluations: 41\n",
        "Optimization terminated successfully."
       ]
      },
      {
       "output_type": "stream",
       "stream": "stdout",
       "text": [
        "\n",
        "         Current function value: 0.006537\n",
        "         Iterations: 12\n",
        "         Function evaluations: 34\n",
        "Optimization terminated successfully."
       ]
      },
      {
       "output_type": "stream",
       "stream": "stdout",
       "text": [
        "\n",
        "         Current function value: 0.005251\n",
        "         Iterations: 11\n",
        "         Function evaluations: 38\n",
        "Optimization terminated successfully."
       ]
      },
      {
       "output_type": "stream",
       "stream": "stdout",
       "text": [
        "\n",
        "         Current function value: 0.004775\n",
        "         Iterations: 12\n",
        "         Function evaluations: 32\n",
        "Optimization terminated successfully."
       ]
      },
      {
       "output_type": "stream",
       "stream": "stdout",
       "text": [
        "\n",
        "         Current function value: 0.006204\n",
        "         Iterations: 16\n",
        "         Function evaluations: 46\n",
        "Optimization terminated successfully."
       ]
      },
      {
       "output_type": "stream",
       "stream": "stdout",
       "text": [
        "\n",
        "         Current function value: 0.005515\n",
        "         Iterations: 8\n",
        "         Function evaluations: 34\n",
        "Optimization terminated successfully."
       ]
      },
      {
       "output_type": "stream",
       "stream": "stdout",
       "text": [
        "\n",
        "         Current function value: 0.005826\n",
        "         Iterations: 16\n",
        "         Function evaluations: 39\n",
        "Optimization terminated successfully."
       ]
      },
      {
       "output_type": "stream",
       "stream": "stdout",
       "text": [
        "\n",
        "         Current function value: 0.006408\n",
        "         Iterations: 12\n",
        "         Function evaluations: 35\n",
        "Optimization terminated successfully."
       ]
      },
      {
       "output_type": "stream",
       "stream": "stdout",
       "text": [
        "\n",
        "         Current function value: 0.006656\n",
        "         Iterations: 19\n",
        "         Function evaluations: 49\n",
        "Optimization terminated successfully."
       ]
      },
      {
       "output_type": "stream",
       "stream": "stdout",
       "text": [
        "\n",
        "         Current function value: 0.005760\n",
        "         Iterations: 15\n",
        "         Function evaluations: 39\n",
        "Optimization terminated successfully."
       ]
      },
      {
       "output_type": "stream",
       "stream": "stdout",
       "text": [
        "\n",
        "         Current function value: 0.005969\n",
        "         Iterations: 14\n",
        "         Function evaluations: 38\n",
        "Optimization terminated successfully."
       ]
      },
      {
       "output_type": "stream",
       "stream": "stdout",
       "text": [
        "\n",
        "         Current function value: 0.005087\n",
        "         Iterations: 9\n",
        "         Function evaluations: 35\n",
        "Optimization terminated successfully."
       ]
      },
      {
       "output_type": "stream",
       "stream": "stdout",
       "text": [
        "\n",
        "         Current function value: 0.006733\n",
        "         Iterations: 16\n",
        "         Function evaluations: 38\n",
        "Optimization terminated successfully."
       ]
      },
      {
       "output_type": "stream",
       "stream": "stdout",
       "text": [
        "\n",
        "         Current function value: 0.006348\n",
        "         Iterations: 16\n",
        "         Function evaluations: 44\n",
        "Optimization terminated successfully."
       ]
      },
      {
       "output_type": "stream",
       "stream": "stdout",
       "text": [
        "\n",
        "         Current function value: 0.005872\n",
        "         Iterations: 10\n",
        "         Function evaluations: 30\n",
        "Optimization terminated successfully."
       ]
      },
      {
       "output_type": "stream",
       "stream": "stdout",
       "text": [
        "\n",
        "         Current function value: 0.005744\n",
        "         Iterations: 11\n",
        "         Function evaluations: 32\n",
        "Optimization terminated successfully."
       ]
      },
      {
       "output_type": "stream",
       "stream": "stdout",
       "text": [
        "\n",
        "         Current function value: 0.006862\n",
        "         Iterations: 23\n",
        "         Function evaluations: 56\n",
        "Optimization terminated successfully."
       ]
      },
      {
       "output_type": "stream",
       "stream": "stdout",
       "text": [
        "\n",
        "         Current function value: 0.005040\n",
        "         Iterations: 14\n",
        "         Function evaluations: 36\n",
        "Optimization terminated successfully."
       ]
      },
      {
       "output_type": "stream",
       "stream": "stdout",
       "text": [
        "\n",
        "         Current function value: 0.005713\n",
        "         Iterations: 13\n",
        "         Function evaluations: 37\n",
        "Optimization terminated successfully."
       ]
      },
      {
       "output_type": "stream",
       "stream": "stdout",
       "text": [
        "\n",
        "         Current function value: 0.005480\n",
        "         Iterations: 10\n",
        "         Function evaluations: 30\n",
        "Optimization terminated successfully."
       ]
      },
      {
       "output_type": "stream",
       "stream": "stdout",
       "text": [
        "\n",
        "         Current function value: 0.005235\n",
        "         Iterations: 13\n",
        "         Function evaluations: 36\n",
        "Optimization terminated successfully."
       ]
      },
      {
       "output_type": "stream",
       "stream": "stdout",
       "text": [
        "\n",
        "         Current function value: 0.005540\n",
        "         Iterations: 12\n",
        "         Function evaluations: 35\n",
        "Optimization terminated successfully."
       ]
      },
      {
       "output_type": "stream",
       "stream": "stdout",
       "text": [
        "\n",
        "         Current function value: 0.005483\n",
        "         Iterations: 8\n",
        "         Function evaluations: 34\n",
        "Optimization terminated successfully."
       ]
      },
      {
       "output_type": "stream",
       "stream": "stdout",
       "text": [
        "\n",
        "         Current function value: 0.006385\n",
        "         Iterations: 15\n",
        "         Function evaluations: 38\n",
        "Optimization terminated successfully."
       ]
      },
      {
       "output_type": "stream",
       "stream": "stdout",
       "text": [
        "\n",
        "         Current function value: 0.003992\n",
        "         Iterations: 20\n",
        "         Function evaluations: 52\n",
        "Optimization terminated successfully."
       ]
      },
      {
       "output_type": "stream",
       "stream": "stdout",
       "text": [
        "\n",
        "         Current function value: 0.005597\n",
        "         Iterations: 13\n",
        "         Function evaluations: 34\n",
        "Optimization terminated successfully."
       ]
      },
      {
       "output_type": "stream",
       "stream": "stdout",
       "text": [
        "\n",
        "         Current function value: 0.005455\n",
        "         Iterations: 19\n",
        "         Function evaluations: 43\n",
        "Optimization terminated successfully."
       ]
      },
      {
       "output_type": "stream",
       "stream": "stdout",
       "text": [
        "\n",
        "         Current function value: 0.005113\n",
        "         Iterations: 13\n",
        "         Function evaluations: 41\n",
        "Optimization terminated successfully."
       ]
      },
      {
       "output_type": "stream",
       "stream": "stdout",
       "text": [
        "\n",
        "         Current function value: 0.006312\n",
        "         Iterations: 8\n",
        "         Function evaluations: 28\n",
        "Optimization terminated successfully."
       ]
      },
      {
       "output_type": "stream",
       "stream": "stdout",
       "text": [
        "\n",
        "         Current function value: 0.004984\n",
        "         Iterations: 18\n",
        "         Function evaluations: 51\n",
        "Optimization terminated successfully."
       ]
      },
      {
       "output_type": "stream",
       "stream": "stdout",
       "text": [
        "\n",
        "         Current function value: 0.005770\n",
        "         Iterations: 12\n",
        "         Function evaluations: 36\n",
        "Optimization terminated successfully."
       ]
      },
      {
       "output_type": "stream",
       "stream": "stdout",
       "text": [
        "\n",
        "         Current function value: 0.006370\n",
        "         Iterations: 17\n",
        "         Function evaluations: 45\n",
        "Optimization terminated successfully."
       ]
      },
      {
       "output_type": "stream",
       "stream": "stdout",
       "text": [
        "\n",
        "         Current function value: 0.005915\n",
        "         Iterations: 8\n",
        "         Function evaluations: 34\n",
        "Optimization terminated successfully."
       ]
      },
      {
       "output_type": "stream",
       "stream": "stdout",
       "text": [
        "\n",
        "         Current function value: 0.005842\n",
        "         Iterations: 22\n",
        "         Function evaluations: 55\n",
        "Optimization terminated successfully."
       ]
      },
      {
       "output_type": "stream",
       "stream": "stdout",
       "text": [
        "\n",
        "         Current function value: 0.005293\n",
        "         Iterations: 18\n",
        "         Function evaluations: 50\n",
        "Optimization terminated successfully."
       ]
      },
      {
       "output_type": "stream",
       "stream": "stdout",
       "text": [
        "\n",
        "         Current function value: 0.007453\n",
        "         Iterations: 10\n",
        "         Function evaluations: 32\n",
        "Optimization terminated successfully."
       ]
      },
      {
       "output_type": "stream",
       "stream": "stdout",
       "text": [
        "\n",
        "         Current function value: 0.005243\n",
        "         Iterations: 22\n",
        "         Function evaluations: 53\n",
        "Optimization terminated successfully."
       ]
      },
      {
       "output_type": "stream",
       "stream": "stdout",
       "text": [
        "\n",
        "         Current function value: 0.004580\n",
        "         Iterations: 20\n",
        "         Function evaluations: 46\n",
        "Optimization terminated successfully."
       ]
      },
      {
       "output_type": "stream",
       "stream": "stdout",
       "text": [
        "\n",
        "         Current function value: 0.005872\n",
        "         Iterations: 12\n",
        "         Function evaluations: 39\n",
        "Optimization terminated successfully."
       ]
      },
      {
       "output_type": "stream",
       "stream": "stdout",
       "text": [
        "\n",
        "         Current function value: 0.005406\n",
        "         Iterations: 20\n",
        "         Function evaluations: 46\n",
        "Optimization terminated successfully."
       ]
      },
      {
       "output_type": "stream",
       "stream": "stdout",
       "text": [
        "\n",
        "         Current function value: 0.005855\n",
        "         Iterations: 20\n",
        "         Function evaluations: 53\n",
        "Optimization terminated successfully."
       ]
      },
      {
       "output_type": "stream",
       "stream": "stdout",
       "text": [
        "\n",
        "         Current function value: 0.006859\n",
        "         Iterations: 13\n",
        "         Function evaluations: 41\n",
        "Optimization terminated successfully."
       ]
      },
      {
       "output_type": "stream",
       "stream": "stdout",
       "text": [
        "\n",
        "         Current function value: 0.005620\n",
        "         Iterations: 10\n",
        "         Function evaluations: 33\n",
        "Optimization terminated successfully."
       ]
      },
      {
       "output_type": "stream",
       "stream": "stdout",
       "text": [
        "\n",
        "         Current function value: 0.005910\n",
        "         Iterations: 8\n",
        "         Function evaluations: 29\n",
        "Optimization terminated successfully."
       ]
      },
      {
       "output_type": "stream",
       "stream": "stdout",
       "text": [
        "\n",
        "         Current function value: 0.005865\n",
        "         Iterations: 16\n",
        "         Function evaluations: 44\n",
        "Optimization terminated successfully."
       ]
      },
      {
       "output_type": "stream",
       "stream": "stdout",
       "text": [
        "\n",
        "         Current function value: 0.006409\n",
        "         Iterations: 20\n",
        "         Function evaluations: 51\n",
        "Optimization terminated successfully."
       ]
      },
      {
       "output_type": "stream",
       "stream": "stdout",
       "text": [
        "\n",
        "         Current function value: 0.005974\n",
        "         Iterations: 20\n",
        "         Function evaluations: 50\n",
        "Optimization terminated successfully."
       ]
      },
      {
       "output_type": "stream",
       "stream": "stdout",
       "text": [
        "\n",
        "         Current function value: 0.006606\n",
        "         Iterations: 14\n",
        "         Function evaluations: 38\n",
        "Optimization terminated successfully."
       ]
      },
      {
       "output_type": "stream",
       "stream": "stdout",
       "text": [
        "\n",
        "         Current function value: 0.004994\n",
        "         Iterations: 16\n",
        "         Function evaluations: 47\n",
        "Optimization terminated successfully."
       ]
      },
      {
       "output_type": "stream",
       "stream": "stdout",
       "text": [
        "\n",
        "         Current function value: 0.005199\n",
        "         Iterations: 10\n",
        "         Function evaluations: 37\n",
        "Optimization terminated successfully."
       ]
      },
      {
       "output_type": "stream",
       "stream": "stdout",
       "text": [
        "\n",
        "         Current function value: 0.006321\n",
        "         Iterations: 8\n",
        "         Function evaluations: 29\n",
        "Optimization terminated successfully."
       ]
      },
      {
       "output_type": "stream",
       "stream": "stdout",
       "text": [
        "\n",
        "         Current function value: 0.006306\n",
        "         Iterations: 14\n",
        "         Function evaluations: 41\n",
        "Optimization terminated successfully."
       ]
      },
      {
       "output_type": "stream",
       "stream": "stdout",
       "text": [
        "\n",
        "         Current function value: 0.005684\n",
        "         Iterations: 11\n",
        "         Function evaluations: 39\n",
        "Optimization terminated successfully."
       ]
      },
      {
       "output_type": "stream",
       "stream": "stdout",
       "text": [
        "\n",
        "         Current function value: 0.005489\n",
        "         Iterations: 13\n",
        "         Function evaluations: 38\n",
        "Optimization terminated successfully."
       ]
      },
      {
       "output_type": "stream",
       "stream": "stdout",
       "text": [
        "\n",
        "         Current function value: 0.006071\n",
        "         Iterations: 13\n",
        "         Function evaluations: 41\n",
        "Optimization terminated successfully."
       ]
      },
      {
       "output_type": "stream",
       "stream": "stdout",
       "text": [
        "\n",
        "         Current function value: 0.004154\n",
        "         Iterations: 15\n",
        "         Function evaluations: 42\n",
        "Optimization terminated successfully."
       ]
      },
      {
       "output_type": "stream",
       "stream": "stdout",
       "text": [
        "\n",
        "         Current function value: 0.005614\n",
        "         Iterations: 12\n",
        "         Function evaluations: 33\n",
        "Optimization terminated successfully."
       ]
      },
      {
       "output_type": "stream",
       "stream": "stdout",
       "text": [
        "\n",
        "         Current function value: 0.005640\n",
        "         Iterations: 11\n",
        "         Function evaluations: 39\n",
        "Optimization terminated successfully."
       ]
      },
      {
       "output_type": "stream",
       "stream": "stdout",
       "text": [
        "\n",
        "         Current function value: 0.004942\n",
        "         Iterations: 15\n",
        "         Function evaluations: 40\n",
        "Optimization terminated successfully."
       ]
      },
      {
       "output_type": "stream",
       "stream": "stdout",
       "text": [
        "\n",
        "         Current function value: 0.004720\n",
        "         Iterations: 13\n",
        "         Function evaluations: 36\n",
        "Optimization terminated successfully."
       ]
      },
      {
       "output_type": "stream",
       "stream": "stdout",
       "text": [
        "\n",
        "         Current function value: 0.005686\n",
        "         Iterations: 12\n",
        "         Function evaluations: 39\n",
        "Optimization terminated successfully."
       ]
      },
      {
       "output_type": "stream",
       "stream": "stdout",
       "text": [
        "\n",
        "         Current function value: 0.007223\n",
        "         Iterations: 23\n",
        "         Function evaluations: 56\n",
        "Optimization terminated successfully."
       ]
      },
      {
       "output_type": "stream",
       "stream": "stdout",
       "text": [
        "\n",
        "         Current function value: 0.005139\n",
        "         Iterations: 18\n",
        "         Function evaluations: 43\n",
        "Optimization terminated successfully."
       ]
      },
      {
       "output_type": "stream",
       "stream": "stdout",
       "text": [
        "\n",
        "         Current function value: 0.006229\n",
        "         Iterations: 11\n",
        "         Function evaluations: 33\n",
        "Optimization terminated successfully."
       ]
      },
      {
       "output_type": "stream",
       "stream": "stdout",
       "text": [
        "\n",
        "         Current function value: 0.005597\n",
        "         Iterations: 13\n",
        "         Function evaluations: 40\n",
        "Optimization terminated successfully."
       ]
      },
      {
       "output_type": "stream",
       "stream": "stdout",
       "text": [
        "\n",
        "         Current function value: 0.006525\n",
        "         Iterations: 13\n",
        "         Function evaluations: 34\n",
        "Optimization terminated successfully."
       ]
      },
      {
       "output_type": "stream",
       "stream": "stdout",
       "text": [
        "\n",
        "         Current function value: 0.006418\n",
        "         Iterations: 12\n",
        "         Function evaluations: 42\n",
        "Optimization terminated successfully."
       ]
      },
      {
       "output_type": "stream",
       "stream": "stdout",
       "text": [
        "\n",
        "         Current function value: 0.005879\n",
        "         Iterations: 18\n",
        "         Function evaluations: 46\n",
        "Optimization terminated successfully."
       ]
      },
      {
       "output_type": "stream",
       "stream": "stdout",
       "text": [
        "\n",
        "         Current function value: 0.005606\n",
        "         Iterations: 14\n",
        "         Function evaluations: 35\n",
        "Optimization terminated successfully."
       ]
      },
      {
       "output_type": "stream",
       "stream": "stdout",
       "text": [
        "\n",
        "         Current function value: 0.004359\n",
        "         Iterations: 18\n",
        "         Function evaluations: 42\n",
        "Optimization terminated successfully."
       ]
      },
      {
       "output_type": "stream",
       "stream": "stdout",
       "text": [
        "\n",
        "         Current function value: 0.006167\n",
        "         Iterations: 14\n",
        "         Function evaluations: 44\n",
        "Optimization terminated successfully."
       ]
      },
      {
       "output_type": "stream",
       "stream": "stdout",
       "text": [
        "\n",
        "         Current function value: 0.003873\n",
        "         Iterations: 18\n",
        "         Function evaluations: 48\n",
        "Optimization terminated successfully."
       ]
      },
      {
       "output_type": "stream",
       "stream": "stdout",
       "text": [
        "\n",
        "         Current function value: 0.006214\n",
        "         Iterations: 8\n",
        "         Function evaluations: 28\n",
        "Optimization terminated successfully."
       ]
      },
      {
       "output_type": "stream",
       "stream": "stdout",
       "text": [
        "\n",
        "         Current function value: 0.004810\n",
        "         Iterations: 17\n",
        "         Function evaluations: 47\n",
        "Optimization terminated successfully."
       ]
      },
      {
       "output_type": "stream",
       "stream": "stdout",
       "text": [
        "\n",
        "         Current function value: 0.005554\n",
        "         Iterations: 12\n",
        "         Function evaluations: 41\n",
        "Optimization terminated successfully."
       ]
      },
      {
       "output_type": "stream",
       "stream": "stdout",
       "text": [
        "\n",
        "         Current function value: 0.005182\n",
        "         Iterations: 12\n",
        "         Function evaluations: 35\n",
        "Optimization terminated successfully."
       ]
      },
      {
       "output_type": "stream",
       "stream": "stdout",
       "text": [
        "\n",
        "         Current function value: 0.005900\n",
        "         Iterations: 10\n",
        "         Function evaluations: 33\n",
        "Optimization terminated successfully."
       ]
      },
      {
       "output_type": "stream",
       "stream": "stdout",
       "text": [
        "\n",
        "         Current function value: 0.006403\n",
        "         Iterations: 15\n",
        "         Function evaluations: 42\n",
        "Optimization terminated successfully."
       ]
      },
      {
       "output_type": "stream",
       "stream": "stdout",
       "text": [
        "\n",
        "         Current function value: 0.004840\n",
        "         Iterations: 12\n",
        "         Function evaluations: 36\n",
        "Optimization terminated successfully."
       ]
      },
      {
       "output_type": "stream",
       "stream": "stdout",
       "text": [
        "\n",
        "         Current function value: 0.005363\n",
        "         Iterations: 20\n",
        "         Function evaluations: 44\n",
        "Optimization terminated successfully."
       ]
      },
      {
       "output_type": "stream",
       "stream": "stdout",
       "text": [
        "\n",
        "         Current function value: 0.006129\n",
        "         Iterations: 12\n",
        "         Function evaluations: 40\n",
        "Optimization terminated successfully."
       ]
      },
      {
       "output_type": "stream",
       "stream": "stdout",
       "text": [
        "\n",
        "         Current function value: 0.008159\n",
        "         Iterations: 15\n",
        "         Function evaluations: 44\n",
        "Optimization terminated successfully."
       ]
      },
      {
       "output_type": "stream",
       "stream": "stdout",
       "text": [
        "\n",
        "         Current function value: 0.005247\n",
        "         Iterations: 13\n",
        "         Function evaluations: 40\n",
        "Optimization terminated successfully."
       ]
      },
      {
       "output_type": "stream",
       "stream": "stdout",
       "text": [
        "\n",
        "         Current function value: 0.006484\n",
        "         Iterations: 16\n",
        "         Function evaluations: 45\n",
        "Optimization terminated successfully."
       ]
      },
      {
       "output_type": "stream",
       "stream": "stdout",
       "text": [
        "\n",
        "         Current function value: 0.007759\n",
        "         Iterations: 13\n",
        "         Function evaluations: 36\n",
        "Optimization terminated successfully."
       ]
      },
      {
       "output_type": "stream",
       "stream": "stdout",
       "text": [
        "\n",
        "         Current function value: 0.005251\n",
        "         Iterations: 24\n",
        "         Function evaluations: 52\n",
        "Optimization terminated successfully."
       ]
      },
      {
       "output_type": "stream",
       "stream": "stdout",
       "text": [
        "\n",
        "         Current function value: 0.006273\n",
        "         Iterations: 20\n",
        "         Function evaluations: 45\n",
        "Optimization terminated successfully."
       ]
      },
      {
       "output_type": "stream",
       "stream": "stdout",
       "text": [
        "\n",
        "         Current function value: 0.005545\n",
        "         Iterations: 12\n",
        "         Function evaluations: 37\n",
        "Optimization terminated successfully."
       ]
      },
      {
       "output_type": "stream",
       "stream": "stdout",
       "text": [
        "\n",
        "         Current function value: 0.006207\n",
        "         Iterations: 12\n",
        "         Function evaluations: 36\n",
        "Optimization terminated successfully."
       ]
      },
      {
       "output_type": "stream",
       "stream": "stdout",
       "text": [
        "\n",
        "         Current function value: 0.005438\n",
        "         Iterations: 21\n",
        "         Function evaluations: 51\n",
        "Optimization terminated successfully."
       ]
      },
      {
       "output_type": "stream",
       "stream": "stdout",
       "text": [
        "\n",
        "         Current function value: 0.006131\n",
        "         Iterations: 14\n",
        "         Function evaluations: 42\n",
        "Optimization terminated successfully."
       ]
      },
      {
       "output_type": "stream",
       "stream": "stdout",
       "text": [
        "\n",
        "         Current function value: 0.006053\n",
        "         Iterations: 19\n",
        "         Function evaluations: 43\n",
        "Optimization terminated successfully."
       ]
      },
      {
       "output_type": "stream",
       "stream": "stdout",
       "text": [
        "\n",
        "         Current function value: 0.006127\n",
        "         Iterations: 20\n",
        "         Function evaluations: 49\n",
        "Optimization terminated successfully."
       ]
      },
      {
       "output_type": "stream",
       "stream": "stdout",
       "text": [
        "\n",
        "         Current function value: 0.004731\n",
        "         Iterations: 15\n",
        "         Function evaluations: 39\n",
        "Optimization terminated successfully."
       ]
      },
      {
       "output_type": "stream",
       "stream": "stdout",
       "text": [
        "\n",
        "         Current function value: 0.006332\n",
        "         Iterations: 15\n",
        "         Function evaluations: 42\n",
        "Optimization terminated successfully."
       ]
      },
      {
       "output_type": "stream",
       "stream": "stdout",
       "text": [
        "\n",
        "         Current function value: 0.005054\n",
        "         Iterations: 16\n",
        "         Function evaluations: 44\n",
        "Optimization terminated successfully."
       ]
      },
      {
       "output_type": "stream",
       "stream": "stdout",
       "text": [
        "\n",
        "         Current function value: 0.004888\n",
        "         Iterations: 14\n",
        "         Function evaluations: 36\n",
        "Optimization terminated successfully."
       ]
      },
      {
       "output_type": "stream",
       "stream": "stdout",
       "text": [
        "\n",
        "         Current function value: 0.006923\n",
        "         Iterations: 15\n",
        "         Function evaluations: 37\n",
        "Optimization terminated successfully."
       ]
      },
      {
       "output_type": "stream",
       "stream": "stdout",
       "text": [
        "\n",
        "         Current function value: 0.005831\n",
        "         Iterations: 11\n",
        "         Function evaluations: 33\n",
        "Optimization terminated successfully."
       ]
      },
      {
       "output_type": "stream",
       "stream": "stdout",
       "text": [
        "\n",
        "         Current function value: 0.006915\n",
        "         Iterations: 16\n",
        "         Function evaluations: 44\n",
        "Optimization terminated successfully."
       ]
      },
      {
       "output_type": "stream",
       "stream": "stdout",
       "text": [
        "\n",
        "         Current function value: 0.007335\n",
        "         Iterations: 19\n",
        "         Function evaluations: 47\n",
        "Optimization terminated successfully."
       ]
      },
      {
       "output_type": "stream",
       "stream": "stdout",
       "text": [
        "\n",
        "         Current function value: 0.006332\n",
        "         Iterations: 10\n",
        "         Function evaluations: 32\n",
        "Optimization terminated successfully."
       ]
      },
      {
       "output_type": "stream",
       "stream": "stdout",
       "text": [
        "\n",
        "         Current function value: 0.005696\n",
        "         Iterations: 19\n",
        "         Function evaluations: 41\n",
        "Optimization terminated successfully."
       ]
      },
      {
       "output_type": "stream",
       "stream": "stdout",
       "text": [
        "\n",
        "         Current function value: 0.005868\n",
        "         Iterations: 17\n",
        "         Function evaluations: 42\n",
        "Optimization terminated successfully."
       ]
      },
      {
       "output_type": "stream",
       "stream": "stdout",
       "text": [
        "\n",
        "         Current function value: 0.005224\n",
        "         Iterations: 13\n",
        "         Function evaluations: 37\n",
        "Optimization terminated successfully."
       ]
      },
      {
       "output_type": "stream",
       "stream": "stdout",
       "text": [
        "\n",
        "         Current function value: 0.006384\n",
        "         Iterations: 13\n",
        "         Function evaluations: 35\n",
        "Optimization terminated successfully."
       ]
      },
      {
       "output_type": "stream",
       "stream": "stdout",
       "text": [
        "\n",
        "         Current function value: 0.007605\n",
        "         Iterations: 9\n",
        "         Function evaluations: 36\n",
        "Optimization terminated successfully."
       ]
      },
      {
       "output_type": "stream",
       "stream": "stdout",
       "text": [
        "\n",
        "         Current function value: 0.006536\n",
        "         Iterations: 10\n",
        "         Function evaluations: 32\n",
        "Optimization terminated successfully."
       ]
      },
      {
       "output_type": "stream",
       "stream": "stdout",
       "text": [
        "\n",
        "         Current function value: 0.005274\n",
        "         Iterations: 20\n",
        "         Function evaluations: 50\n",
        "Optimization terminated successfully."
       ]
      },
      {
       "output_type": "stream",
       "stream": "stdout",
       "text": [
        "\n",
        "         Current function value: 0.005361\n",
        "         Iterations: 13\n",
        "         Function evaluations: 34\n",
        "Optimization terminated successfully."
       ]
      },
      {
       "output_type": "stream",
       "stream": "stdout",
       "text": [
        "\n",
        "         Current function value: 0.005701\n",
        "         Iterations: 12\n",
        "         Function evaluations: 40\n",
        "Optimization terminated successfully."
       ]
      },
      {
       "output_type": "stream",
       "stream": "stdout",
       "text": [
        "\n",
        "         Current function value: 0.006492\n",
        "         Iterations: 11\n",
        "         Function evaluations: 31\n",
        "Optimization terminated successfully."
       ]
      },
      {
       "output_type": "stream",
       "stream": "stdout",
       "text": [
        "\n",
        "         Current function value: 0.006734\n",
        "         Iterations: 18\n",
        "         Function evaluations: 47\n",
        "Optimization terminated successfully."
       ]
      },
      {
       "output_type": "stream",
       "stream": "stdout",
       "text": [
        "\n",
        "         Current function value: 0.004448\n",
        "         Iterations: 15\n",
        "         Function evaluations: 43\n",
        "Optimization terminated successfully."
       ]
      },
      {
       "output_type": "stream",
       "stream": "stdout",
       "text": [
        "\n",
        "         Current function value: 0.005126\n",
        "         Iterations: 11\n",
        "         Function evaluations: 33\n",
        "Optimization terminated successfully."
       ]
      },
      {
       "output_type": "stream",
       "stream": "stdout",
       "text": [
        "\n",
        "         Current function value: 0.005348\n",
        "         Iterations: 15\n",
        "         Function evaluations: 38\n",
        "Optimization terminated successfully."
       ]
      },
      {
       "output_type": "stream",
       "stream": "stdout",
       "text": [
        "\n",
        "         Current function value: 0.006581\n",
        "         Iterations: 9\n",
        "         Function evaluations: 30\n",
        "Optimization terminated successfully."
       ]
      },
      {
       "output_type": "stream",
       "stream": "stdout",
       "text": [
        "\n",
        "         Current function value: 0.005976\n",
        "         Iterations: 21\n",
        "         Function evaluations: 48\n",
        "Optimization terminated successfully."
       ]
      },
      {
       "output_type": "stream",
       "stream": "stdout",
       "text": [
        "\n",
        "         Current function value: 0.005421\n",
        "         Iterations: 8\n",
        "         Function evaluations: 29\n",
        "Optimization terminated successfully."
       ]
      },
      {
       "output_type": "stream",
       "stream": "stdout",
       "text": [
        "\n",
        "         Current function value: 0.006275\n",
        "         Iterations: 17\n",
        "         Function evaluations: 47\n",
        "Optimization terminated successfully."
       ]
      },
      {
       "output_type": "stream",
       "stream": "stdout",
       "text": [
        "\n",
        "         Current function value: 0.005789\n",
        "         Iterations: 16\n",
        "         Function evaluations: 40\n",
        "Optimization terminated successfully."
       ]
      },
      {
       "output_type": "stream",
       "stream": "stdout",
       "text": [
        "\n",
        "         Current function value: 0.005580\n",
        "         Iterations: 12\n",
        "         Function evaluations: 32\n",
        "Optimization terminated successfully."
       ]
      },
      {
       "output_type": "stream",
       "stream": "stdout",
       "text": [
        "\n",
        "         Current function value: 0.005667\n",
        "         Iterations: 18\n",
        "         Function evaluations: 45\n",
        "Optimization terminated successfully."
       ]
      },
      {
       "output_type": "stream",
       "stream": "stdout",
       "text": [
        "\n",
        "         Current function value: 0.003997\n",
        "         Iterations: 20\n",
        "         Function evaluations: 53\n",
        "Optimization terminated successfully."
       ]
      },
      {
       "output_type": "stream",
       "stream": "stdout",
       "text": [
        "\n",
        "         Current function value: 0.006482\n",
        "         Iterations: 18\n",
        "         Function evaluations: 39\n",
        "Optimization terminated successfully."
       ]
      },
      {
       "output_type": "stream",
       "stream": "stdout",
       "text": [
        "\n",
        "         Current function value: 0.005768\n",
        "         Iterations: 16\n",
        "         Function evaluations: 43\n",
        "Optimization terminated successfully."
       ]
      },
      {
       "output_type": "stream",
       "stream": "stdout",
       "text": [
        "\n",
        "         Current function value: 0.006135\n",
        "         Iterations: 10\n",
        "         Function evaluations: 32\n",
        "Optimization terminated successfully."
       ]
      },
      {
       "output_type": "stream",
       "stream": "stdout",
       "text": [
        "\n",
        "         Current function value: 0.005696\n",
        "         Iterations: 12\n",
        "         Function evaluations: 40\n",
        "Optimization terminated successfully."
       ]
      },
      {
       "output_type": "stream",
       "stream": "stdout",
       "text": [
        "\n",
        "         Current function value: 0.006285\n",
        "         Iterations: 19\n",
        "         Function evaluations: 45\n",
        "Optimization terminated successfully."
       ]
      },
      {
       "output_type": "stream",
       "stream": "stdout",
       "text": [
        "\n",
        "         Current function value: 0.005313\n",
        "         Iterations: 15\n",
        "         Function evaluations: 46\n",
        "Optimization terminated successfully."
       ]
      },
      {
       "output_type": "stream",
       "stream": "stdout",
       "text": [
        "\n",
        "         Current function value: 0.005042\n",
        "         Iterations: 16\n",
        "         Function evaluations: 47\n"
       ]
      }
     ],
     "prompt_number": 12
    },
    {
     "cell_type": "heading",
     "level": 1,
     "metadata": {},
     "source": [
      "Main bootstrapping function"
     ]
    },
    {
     "cell_type": "code",
     "collapsed": false,
     "input": [
      "def main_reboot(data, params, niter=200, ntrials=2000):\n",
      "    \n",
      "    pth=utils.find_path()+\"OptAccRT/reboot/\"\n",
      "    \n",
      "    inits=params.mean()\n",
      "    fit_results=list()\n",
      "    cols=[200, 250, 300, 350, 400, 'rt']\n",
      "    y_pred=pd.DataFrame(columns=cols, index=np.arange(niter))\n",
      "    \n",
      "    for i in range(niter):\n",
      "        \n",
      "        sample_y = resample_reactive(data)\n",
      "        \n",
      "        fits_i, yhat_i = fit_reactive(sample_y, inits=inits, nx=i, ntrials=ntrials, names=cols)\n",
      "\n",
      "        fit_results.append(fits_i)   \n",
      "        y_pred.loc[i,:]=np.array(yhat_i)\n",
      "        y_pred.to_csv(pth+\"rwr_reboot_yhat_bsl.csv\", index=False)\n",
      "        \n",
      "    fit_df=pd.concat(fit_results)\n",
      "    fit_df.to_csv(pth+\"rwr_reboot_fits_bsl.csv\")\n",
      "    \n",
      "    return y_pred"
     ],
     "language": "python",
     "metadata": {},
     "outputs": [],
     "prompt_number": 5
    },
    {
     "cell_type": "heading",
     "level": 1,
     "metadata": {},
     "source": [
      "Fit single reactive dataset"
     ]
    },
    {
     "cell_type": "code",
     "collapsed": false,
     "input": [
      "def fit_reactive(y, inits={}, names=[], nx=0, ntrials=2000, **kwargs):\n",
      "    \n",
      "    inits['pGo']=.50\n",
      "    \n",
      "    p=Parameters()\n",
      "    p.add('ssv', value=inits['ssv'], vary=True)\n",
      "    p.add('a', value=inits['a'], min=0.0, vary=True)\n",
      "    p.add('v', value=inits['v'], min=0.0, vary=True)\n",
      "    p.add('t', value=inits['t'], min=0.0, max=.649, vary=True)\n",
      "    p.add('z', value=inits['z'], min=0.0, vary=True)\n",
      "\n",
      "    popt = Minimizer(fitre.ssre_minfunc, p, fcn_args=(inits, y, ntrials), method='Nelder-Mead') \n",
      "    popt.fmin(maxfun=200, ftol=5.e-2, xtol=1.e-2, full_output=True, disp=True)\n",
      "    yhat_i=y+popt.residual\n",
      "    \n",
      "    fit_results=pd.DataFrame.from_dict(OrderedDict([('niter',nx), ('names',names), \n",
      "                                    ('y',y), ('yhat',yhat_i), ('resid',popt.residual), \n",
      "                                    ('chi',[popt.chisqr]*len(names))]), orient='columns')\n",
      "\n",
      "    return fit_results, yhat_i"
     ],
     "language": "python",
     "metadata": {},
     "outputs": [],
     "prompt_number": 2
    },
    {
     "cell_type": "heading",
     "level": 1,
     "metadata": {},
     "source": [
      "Resample index for reactive DF"
     ]
    },
    {
     "cell_type": "code",
     "collapsed": false,
     "input": [
      "def resample_reactive(df, n=None):\n",
      "    \n",
      "    bootlist=list()\n",
      "    df=df.copy()\n",
      "    \n",
      "    if n == None:\n",
      "        n = len(df)\n",
      "\n",
      "    for ssd, ssdf in df.groupby('ssd'):\n",
      "\n",
      "        boots = ssdf.reset_index(drop=True)\n",
      "        orig_ix=np.asarray(boots.index[:])\n",
      "        \n",
      "        resampled_ix=rwr(orig_ix, get_index=True, n=n)\n",
      "        bootdf=ssdf.irow(resampled_ix)\n",
      "\n",
      "        bootlist.append(bootdf)\n",
      "\n",
      "    #concatenate all resampled conditions\n",
      "    bootdf=pd.concat(bootlist)\n",
      "\n",
      "    sample_y=list(bootdf[bootdf['trial_type']=='stop'].groupby('ssd').mean()['acc'].values)\t\n",
      "    mrt=bootdf[(bootdf['acc']==1)&(bootdf['response']==1)].groupby('ssd').mean()['rt'].mean()*10\n",
      "    sample_y.append(mrt)\n",
      "    \n",
      "    return sample_y"
     ],
     "language": "python",
     "metadata": {},
     "outputs": [],
     "prompt_number": 11
    },
    {
     "cell_type": "heading",
     "level": 1,
     "metadata": {},
     "source": [
      "Generic resample with replacement algorithm"
     ]
    },
    {
     "cell_type": "code",
     "collapsed": false,
     "input": [
      "def rwr(X, get_index=False, n=None):\n",
      "    \n",
      "    \"\"\"\n",
      "    Modified from http://nbviewer.ipython.org/gist/aflaxman/6871948\n",
      "    \"\"\"\n",
      "\n",
      "    if isinstance(X, pd.Series):\n",
      "        X = X.copy()\n",
      "        X.index = range(len(X.index))\n",
      "    if n == None:\n",
      "        n = len(X)\n",
      "    \n",
      "    \n",
      "    resample_i = np.floor(np.random.rand(n)*len(X)).astype(int)\n",
      "    X_resample = np.array(X[resample_i])\n",
      "    \n",
      "    if get_index:\n",
      "        return resample_i\n",
      "    else:\n",
      "        return X_resample"
     ],
     "language": "python",
     "metadata": {},
     "outputs": [],
     "prompt_number": 10
    },
    {
     "cell_type": "code",
     "collapsed": false,
     "input": [],
     "language": "python",
     "metadata": {},
     "outputs": []
    }
   ],
   "metadata": {}
  }
 ]
}