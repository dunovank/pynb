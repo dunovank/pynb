{
 "metadata": {
  "name": "",
  "signature": "sha256:155bc38c7969e306e963be29cdd77c37d42fc2692a1e827a57c1bdd029c79206"
 },
 "nbformat": 3,
 "nbformat_minor": 0,
 "worksheets": [
  {
   "cells": [
    {
     "cell_type": "code",
     "collapsed": false,
     "input": [
      "from itertools import takewhile\n",
      "\n",
      "timebound=.560;\n",
      "tr=.33; mu=2.1; \n",
      "a=3.0; z=.5*a; \n",
      "ssv=-.99; ssd=.35;\n",
      "t=tr; si=.01; tau=.0005\n",
      "dx=np.sqrt(si*tau)        # dx is the step size up or down.\n",
      "e=z                       # starting point\n",
      "e_ss=z                    #arbitrary (positive) init value\n",
      "tsteps=np.arange(tr, timebound, tau)\n",
      "e=z"
     ],
     "language": "python",
     "metadata": {},
     "outputs": [],
     "prompt_number": 51
    },
    {
     "cell_type": "code",
     "collapsed": false,
     "input": [
      "#xx=[i for i in takewhile(lambda e: e<a, range(10))]"
     ],
     "language": "python",
     "metadata": {},
     "outputs": [],
     "prompt_number": 36
    },
    {
     "cell_type": "code",
     "collapsed": false,
     "input": [
      "#dv=[e+dx if pp[i] < ll else e-dx for i, t in enumerate(tsteps)]\n"
     ],
     "language": "python",
     "metadata": {},
     "outputs": [
      {
       "metadata": {},
       "output_type": "pyout",
       "prompt_number": 38,
       "text": [
        "461"
       ]
      }
     ],
     "prompt_number": 38
    },
    {
     "cell_type": "code",
     "collapsed": false,
     "input": [
      "#if np.random.random_sample()<0.5*(1 + mu*dx/si) else e-dx\n",
      "pp=[np.random.random_sample() for t in tsteps]\n",
      "ll=0.5*(1 + mu*dx/si)\n",
      "\n",
      "dv=np.sum([dx if pp[i] < ll else -dx for i, t in enumerate(tsteps)])\n",
      "\n",
      "#x=[e.cumsum() for t in tsteps]\n"
     ],
     "language": "python",
     "metadata": {},
     "outputs": [],
     "prompt_number": 61
    },
    {
     "cell_type": "code",
     "collapsed": false,
     "input": [
      "dv"
     ],
     "language": "python",
     "metadata": {},
     "outputs": [
      {
       "metadata": {},
       "output_type": "pyout",
       "prompt_number": 62,
       "text": [
        "0.5075874308924524"
       ]
      }
     ],
     "prompt_number": 62
    },
    {
     "cell_type": "code",
     "collapsed": false,
     "input": [],
     "language": "python",
     "metadata": {},
     "outputs": []
    }
   ],
   "metadata": {}
  }
 ]
}