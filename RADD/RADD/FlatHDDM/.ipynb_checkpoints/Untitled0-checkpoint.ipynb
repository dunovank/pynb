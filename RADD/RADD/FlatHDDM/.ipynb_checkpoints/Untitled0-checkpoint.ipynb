{
 "metadata": {
  "name": "",
  "signature": "sha256:b8197bc31b87f4504de30e485ade9452d4d8ec5bf9f11bebf5ab83f82c8d22f5"
 },
 "nbformat": 3,
 "nbformat_minor": 0,
 "worksheets": [
  {
   "cells": [
    {
     "cell_type": "code",
     "collapsed": false,
     "input": [
      "from radd import hd, utils, final, fitpro\n",
      "import hddm\n",
      "from radd.utils import get_params_from_flatp as getp\n",
      "data=final.all_data('pro')\n",
      "godf=data.query('response==1 & rt<=.5451 & idx!=42')"
     ],
     "language": "python",
     "metadata": {},
     "outputs": [],
     "prompt_number": 22
    },
    {
     "cell_type": "code",
     "collapsed": false,
     "input": [
      "os.chdir('/Users/kyle/Dropbox/SS_Backups/SS/Proactive/Boot/ProBootDriftF/')\n",
      "theta_all=pd.read_csv(\"flat_opt_theta.csv\", index_col=0, names=['mean'], header=None)\n",
      "thetax=theta_all.to_dict()['mean']\n",
      "theta, vlist = getp(theta_all)"
     ],
     "language": "python",
     "metadata": {},
     "outputs": [],
     "prompt_number": 21
    },
    {
     "cell_type": "code",
     "collapsed": false,
     "input": [
      "fits, fits_all, popt = fitpro.fit_proactive_data(data, inits=theta, filt_rts=True)"
     ],
     "language": "python",
     "metadata": {},
     "outputs": []
    },
    {
     "cell_type": "code",
     "collapsed": false,
     "input": [
      "m.plot_posteriors()"
     ],
     "language": "python",
     "metadata": {},
     "outputs": []
    },
    {
     "cell_type": "code",
     "collapsed": false,
     "input": [],
     "language": "python",
     "metadata": {},
     "outputs": []
    },
    {
     "cell_type": "code",
     "collapsed": false,
     "input": [
      "m=hddm.HDDM(godf, bias=True, informative=True)\n",
      "m.sample(50000, thin=2, burn=10000)"
     ],
     "language": "python",
     "metadata": {},
     "outputs": []
    },
    {
     "cell_type": "code",
     "collapsed": false,
     "input": [
      "plist=['a', 'v', 't', 'z']\n",
      "statdf=m.gen_stats()\n",
      "params={p:statdf.loc[p, 'mean'] for p in plist}"
     ],
     "language": "python",
     "metadata": {},
     "outputs": []
    },
    {
     "cell_type": "code",
     "collapsed": false,
     "input": [
      "theta={'a': params['a']/10, 'v':params['v']/10, 't':params['t'], 'z':(params['a']/10)*params['z'], 'pGo':.5, 'ssd':.450, 'ssv':params['v']}"
     ],
     "language": "python",
     "metadata": {},
     "outputs": []
    }
   ],
   "metadata": {}
  }
 ]
}