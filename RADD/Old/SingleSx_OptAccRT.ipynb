{
 "metadata": {
  "name": "",
  "signature": "sha256:f35bbc3362d209018df472d2d611815f14e5f4492b54593395d82b5618b4e766"
 },
 "nbformat": 3,
 "nbformat_minor": 0,
 "worksheets": [
  {
   "cells": [
    {
     "cell_type": "code",
     "collapsed": false,
     "input": [
      "from __future__ import division\n",
      "import pandas as pd\n",
      "from radd import utils\n",
      "from radd import xopt\n",
      "from lmfit import Parameters, Minimizer"
     ],
     "language": "python",
     "metadata": {},
     "outputs": [],
     "prompt_number": 16
    },
    {
     "cell_type": "heading",
     "level": 1,
     "metadata": {},
     "source": [
      "Single SX RE-BSL DATA NESTED FITS "
     ]
    },
    {
     "cell_type": "code",
     "collapsed": false,
     "input": [
      "pth=utils.find_path()\n",
      "\n",
      "#ssRe BSL Data\n",
      "redata_bsl=pd.read_csv(pth+\"DataFiles/ReBSL_Data.csv\", index_col=0)\n",
      "bsl=redata_bsl.copy()"
     ],
     "language": "python",
     "metadata": {},
     "outputs": [],
     "prompt_number": 17
    },
    {
     "cell_type": "code",
     "collapsed": false,
     "input": [
      "gocor=bsl[(bsl['trial_type']=='go')&(bsl['acc']==1)&(bsl['rt']<.650)]\n",
      "rtdata=[sxdf.rt.mean() for sx, sxdf in gocor.groupby('subj_idx')]\n",
      "rts=np.array(rtdata)"
     ],
     "language": "python",
     "metadata": {},
     "outputs": [],
     "prompt_number": 9
    },
    {
     "cell_type": "code",
     "collapsed": false,
     "input": [
      "stops=bsl[bsl['trial_type']=='stop']\n",
      "stopdata=utils.makePivot(stops, cols='ssd', index='subj_idx', values='acc')\n",
      "ydata=stopdata.copy()\n",
      "ydata['rt']=rts"
     ],
     "language": "python",
     "metadata": {},
     "outputs": [],
     "prompt_number": 10
    },
    {
     "cell_type": "code",
     "collapsed": false,
     "input": [
      "paramdf_bsl=pd.read_csv(pth+\"ParamFiles/ReBSL_HDDM_Params.csv\", index_col='subj_idx')\n",
      "paramdf_bsl.drop('Cond', axis=1, inplace=True)\n",
      "pdf=paramdf_bsl.copy()\n",
      "del pdf['sv']\n",
      "paramdf=pdf.copy()\n",
      "optmean={'a': 0.43155063058963727,\n",
      " 'ssv': 0.96986662065537221,\n",
      " 't': 0.30656375144494813,\n",
      " 'v': 1.0366001760617101,\n",
      " 'z': 0.16611261860323445}\n"
     ],
     "language": "python",
     "metadata": {},
     "outputs": [],
     "prompt_number": 11
    },
    {
     "cell_type": "code",
     "collapsed": false,
     "input": [
      "xopt=reload(xopt)\n",
      "\n",
      "\n",
      "sxpred=xopt.single_sx_opt_acc_rt(ydata, paramdf, optmean, ntrials=1000)"
     ],
     "language": "python",
     "metadata": {},
     "outputs": [
      {
       "html": [
        "\n",
        "\t    <div style=\"border: 1px solid black; width:500px\">\n",
        "\t    <div id=\"908560c4-039d-49dd-b4bf-bdee5201320f\" style=\"background-color:#009B76; width:0%\">&nbsp;</div>\n",
        "\t    </div> \n",
        "\t    "
       ],
       "metadata": {},
       "output_type": "display_data",
       "text": [
        "<IPython.core.display.HTML at 0x7f7b588ca390>"
       ]
      },
      {
       "output_type": "stream",
       "stream": "stdout",
       "text": [
        "[-0.00395257 -0.01006036 -0.026      -0.1233463   0.10683761  0.00771076]\n",
        "[ 0.         -0.0039604  -0.01903766 -0.05576923  0.15481172  0.00602465]"
       ]
      },
      {
       "output_type": "stream",
       "stream": "stdout",
       "text": [
        "\n",
        "[ 0.          0.          0.03664122  0.01336032  0.25050916  0.03339964]"
       ]
      },
      {
       "output_type": "stream",
       "stream": "stdout",
       "text": [
        "\n",
        "[ 0.         -0.01996008 -0.05079051 -0.23636364  0.06530612 -0.00733184]"
       ]
      },
      {
       "output_type": "stream",
       "stream": "stdout",
       "text": [
        "\n",
        "[-0.002079   -0.00972763 -0.02142857 -0.14325956  0.11439842  0.00606172]"
       ]
      },
      {
       "output_type": "stream",
       "stream": "stdout",
       "text": [
        "\n",
        "[-0.00390625 -0.03151261 -0.12741935 -0.31399594  0.07647059 -0.00497646]"
       ]
      },
      {
       "output_type": "stream",
       "stream": "stdout",
       "text": [
        "\n",
        "[ 0.         -0.00207039  0.03562628  0.06317992  0.16932271  0.02585788]"
       ]
      },
      {
       "output_type": "stream",
       "stream": "stdout",
       "text": [
        "\n",
        "[ 0.         -0.02016129 -0.08692946 -0.26735967  0.05590062 -0.02305249]"
       ]
      },
      {
       "output_type": "stream",
       "stream": "stdout",
       "text": [
        "\n",
        "[ 0.         -0.00803213  0.01356275 -0.00280561  0.17206478  0.02174526]"
       ]
      },
      {
       "output_type": "stream",
       "stream": "stdout",
       "text": [
        "\n",
        "[ 0.         -0.0040568   0.03228346  0.11809524  0.27530364  0.03102495]"
       ]
      },
      {
       "output_type": "stream",
       "stream": "stdout",
       "text": [
        "\n",
        "[-0.00393701 -0.01428571 -0.0147619  -0.16343284  0.07307692  0.00416945]"
       ]
      },
      {
       "output_type": "stream",
       "stream": "stdout",
       "text": [
        "\n",
        "[-0.00209644 -0.05252525 -0.12087379 -0.27241379  0.08366534 -0.00803043]"
       ]
      },
      {
       "output_type": "stream",
       "stream": "stdout",
       "text": [
        "\n",
        "[-0.00195312 -0.00383877  0.01565657  0.01822126  0.19277108  0.01695815]"
       ]
      },
      {
       "output_type": "stream",
       "stream": "stdout",
       "text": [
        "\n",
        "[ 0.         -0.0060241  -0.01508876 -0.11093439  0.12877264  0.00744138]"
       ]
      },
      {
       "output_type": "stream",
       "stream": "stdout",
       "text": [
        "\n",
        "[-0.002      -0.00875274 -0.01185567 -0.06317829  0.1375969   0.01308581]"
       ]
      },
      {
       "output_type": "stream",
       "stream": "stdout",
       "text": [
        "\n",
        "[-0.00414938 -0.01506591 -0.01237425 -0.12766798  0.09255533  0.00439929]"
       ]
      },
      {
       "output_type": "stream",
       "stream": "stdout",
       "text": [
        "\n",
        "[-0.00201207 -0.00835073 -0.04580838 -0.12410901  0.11642412  0.00622445]"
       ]
      },
      {
       "output_type": "stream",
       "stream": "stdout",
       "text": [
        "\n",
        "[-0.00207039 -0.01219512  0.01267191 -0.01176471  0.13888889  0.01571637]"
       ]
      },
      {
       "output_type": "stream",
       "stream": "stdout",
       "text": [
        "\n",
        "[ 0.         -0.01405622  0.00330739 -0.0800759   0.11111111  0.01343015]"
       ]
      },
      {
       "output_type": "stream",
       "stream": "stdout",
       "text": [
        "\n",
        "[ 0.         -0.00814664  0.02515528  0.0092437   0.16770186  0.01719627]"
       ]
      },
      {
       "output_type": "stream",
       "stream": "stdout",
       "text": [
        "\n",
        "[ 0.         -0.00414079 -0.0029661  -0.048       0.14314115  0.01417652]"
       ]
      },
      {
       "output_type": "stream",
       "stream": "stdout",
       "text": [
        "\n",
        "[-0.00390625 -0.01698514 -0.00304519  0.00991379  0.16530612  0.01833113]"
       ]
      },
      {
       "output_type": "stream",
       "stream": "stdout",
       "text": [
        "\n",
        "[ 0.         -0.01771654 -0.01012024 -0.09301397  0.12596899  0.01051187]"
       ]
      },
      {
       "output_type": "stream",
       "stream": "stdout",
       "text": [
        "\n",
        "[ 0.         -0.00619835  0.0287234  -0.01732283  0.18252427  0.02403304]"
       ]
      },
      {
       "output_type": "stream",
       "stream": "stdout",
       "text": [
        "\n",
        "[ 0.         -0.00392157 -0.0255102  -0.09287169  0.13319672  0.01070242]"
       ]
      },
      {
       "output_type": "stream",
       "stream": "stdout",
       "text": [
        "\n",
        "[-0.00204082 -0.00618557 -0.01097561 -0.04265594  0.17052632  0.01445417]"
       ]
      },
      {
       "output_type": "stream",
       "stream": "stdout",
       "text": [
        "\n",
        "[ 0.         -0.00204918 -0.00845511 -0.08453608  0.13539652  0.01467891]"
       ]
      },
      {
       "output_type": "stream",
       "stream": "stdout",
       "text": [
        "\n",
        "[-0.00204499 -0.01226994 -0.00040323 -0.09209486  0.1557377   0.01350738]"
       ]
      },
      {
       "output_type": "stream",
       "stream": "stdout",
       "text": [
        "\n",
        "[-0.00196464 -0.00621118 -0.00918367 -0.07346939  0.1122449   0.01166297]"
       ]
      },
      {
       "output_type": "stream",
       "stream": "stdout",
       "text": [
        "\n",
        "[ 0.         -0.00851064 -0.00186722 -0.13187251  0.13533835  0.00897969]"
       ]
      },
      {
       "output_type": "stream",
       "stream": "stdout",
       "text": [
        "\n",
        "Optimization terminated successfully.\n",
        "         Current function value: 0.018259\n",
        "         Iterations: 9\n",
        "         Function evaluations: 30\n",
        "[-0.00201207 -0.00943396 -0.00394191 -0.07358121  0.14285714  0.01204833]"
       ]
      },
      {
       "output_type": "stream",
       "stream": "stdout",
       "text": [
        "\n",
        "[-0.00582524 -0.01       -0.09218437 -0.40803213  0.12955466 -0.00344654]"
       ]
      },
      {
       "output_type": "stream",
       "stream": "stdout",
       "text": [
        "\n",
        "[ 0.         -0.00646552 -0.03543307 -0.37022587  0.14489796 -0.00399487]"
       ]
      },
      {
       "output_type": "stream",
       "stream": "stdout",
       "text": [
        "\n",
        "[-0.00217865 -0.00613497 -0.02165354 -0.20174081  0.23856859  0.02502619]"
       ]
      },
      {
       "output_type": "stream",
       "stream": "stdout",
       "text": [
        "\n",
        "[-0.01140684 -0.02736842 -0.09939148 -0.56283525  0.05231388 -0.01712856]"
       ]
      },
      {
       "output_type": "stream",
       "stream": "stdout",
       "text": [
        "\n",
        "[ 0.         -0.01914894 -0.08668076 -0.40393701  0.09751037 -0.0047503 ]"
       ]
      },
      {
       "output_type": "stream",
       "stream": "stdout",
       "text": [
        "\n",
        "[-0.01014199 -0.02766798 -0.15811088 -0.54770241  0.04417671 -0.01618774]"
       ]
      },
      {
       "output_type": "stream",
       "stream": "stdout",
       "text": [
        "\n",
        "[-0.00211864 -0.00617284 -0.04661017 -0.31649899  0.20806794  0.01740272]"
       ]
      },
      {
       "output_type": "stream",
       "stream": "stdout",
       "text": [
        "\n",
        "[ 0.         -0.00631579 -0.00198413 -0.15766871  0.28313253  0.02601314]"
       ]
      },
      {
       "output_type": "stream",
       "stream": "stdout",
       "text": [
        "\n",
        "[ 0.          0.         -0.00790514 -0.2030303   0.31422505  0.02451163]"
       ]
      },
      {
       "output_type": "stream",
       "stream": "stdout",
       "text": [
        "\n",
        "[ 0.         -0.00197628 -0.01473684 -0.08940937  0.42802303  0.0350814 ]"
       ]
      },
      {
       "output_type": "stream",
       "stream": "stdout",
       "text": [
        "\n",
        "[-0.00200401 -0.0040404  -0.04878049 -0.31814596  0.16869919  0.0066504 ]"
       ]
      },
      {
       "output_type": "stream",
       "stream": "stdout",
       "text": [
        "\n",
        "[ 0.         -0.0019802  -0.00395257 -0.10769231  0.45306122  0.03807402]"
       ]
      },
      {
       "output_type": "stream",
       "stream": "stdout",
       "text": [
        "\n",
        "[ 0.         -0.00198807 -0.026      -0.30277778  0.19556452  0.01148941]"
       ]
      },
      {
       "output_type": "stream",
       "stream": "stdout",
       "text": [
        "\n",
        "[ 0.          0.         -0.01871102 -0.14843424  0.24554455  0.01912485]"
       ]
      },
      {
       "output_type": "stream",
       "stream": "stdout",
       "text": [
        "\n",
        "[ 0.          0.         -0.00398406 -0.14448898  0.31137725  0.02308718]"
       ]
      },
      {
       "output_type": "stream",
       "stream": "stdout",
       "text": [
        "\n",
        "[ 0.         -0.00423729 -0.02087683 -0.30980392  0.184       0.0076158 ]"
       ]
      },
      {
       "output_type": "stream",
       "stream": "stdout",
       "text": [
        "\n",
        "[ 0.         -0.00186916 -0.00817996 -0.13232323  0.30208333  0.02639069]"
       ]
      },
      {
       "output_type": "stream",
       "stream": "stdout",
       "text": [
        "\n",
        "[ 0.         -0.00201613 -0.00795229 -0.12807018  0.31456311  0.03103579]"
       ]
      },
      {
       "output_type": "stream",
       "stream": "stdout",
       "text": [
        "\n",
        "[ 0.          0.         -0.0040568  -0.05139442  0.51093439  0.03789967]"
       ]
      },
      {
       "output_type": "stream",
       "stream": "stdout",
       "text": [
        "\n",
        "[-0.00190114 -0.00603622 -0.01626016 -0.20549898  0.21807466  0.01661195]"
       ]
      },
      {
       "output_type": "stream",
       "stream": "stdout",
       "text": [
        "\n",
        "[ 0.         -0.00408998 -0.03137255 -0.27695313  0.23298969  0.012309  ]"
       ]
      },
      {
       "output_type": "stream",
       "stream": "stdout",
       "text": [
        "\n",
        "[ 0.          0.         -0.00782779 -0.14752475  0.28994083  0.02682557]"
       ]
      },
      {
       "output_type": "stream",
       "stream": "stdout",
       "text": [
        "\n",
        "[ 0.         -0.00607287 -0.00601202 -0.2360161   0.21230159  0.02031495]"
       ]
      },
      {
       "output_type": "stream",
       "stream": "stdout",
       "text": [
        "\n",
        "[-0.00198413 -0.0041841  -0.03703704 -0.25783366  0.2494929   0.01486879]"
       ]
      },
      {
       "output_type": "stream",
       "stream": "stdout",
       "text": [
        "\n",
        "[ 0.         -0.00409836 -0.01656315 -0.17741935  0.26653696  0.02419852]"
       ]
      },
      {
       "output_type": "stream",
       "stream": "stdout",
       "text": [
        "\n",
        "[ 0.         -0.00612245 -0.0310559  -0.32650104  0.19083969  0.01508517]"
       ]
      },
      {
       "output_type": "stream",
       "stream": "stdout",
       "text": [
        "\n",
        "[ 0.         -0.00199203 -0.01890756 -0.2138833   0.318       0.0232694 ]"
       ]
      },
      {
       "output_type": "stream",
       "stream": "stdout",
       "text": [
        "\n",
        "[ 0.          0.         -0.00965251 -0.23066132  0.23962264  0.01871306]"
       ]
      },
      {
       "output_type": "stream",
       "stream": "stdout",
       "text": [
        "\n",
        "[ 0.         -0.00200401 -0.01886792 -0.2081761   0.23224568  0.02310143]"
       ]
      },
      {
       "output_type": "stream",
       "stream": "stdout",
       "text": [
        "\n",
        "[ 0.         -0.00208333 -0.02008032 -0.13877551  0.25195312  0.02068856]"
       ]
      },
      {
       "output_type": "stream",
       "stream": "stdout",
       "text": [
        "\n",
        "[ 0.         -0.00400802 -0.01142857 -0.17442827  0.2751004   0.02272787]"
       ]
      },
      {
       "output_type": "stream",
       "stream": "stdout",
       "text": [
        "\n",
        "[ 0.         -0.00200803 -0.00787402 -0.15502008  0.29243354  0.02273271]"
       ]
      },
      {
       "output_type": "stream",
       "stream": "stdout",
       "text": [
        "\n",
        "[ 0.          0.         -0.01006036 -0.15210084  0.25406504  0.02481119]"
       ]
      },
      {
       "output_type": "stream",
       "stream": "stdout",
       "text": [
        "\n",
        "[ 0.         -0.00422833 -0.02559055 -0.20505051  0.20038168  0.02040012]"
       ]
      },
      {
       "output_type": "stream",
       "stream": "stdout",
       "text": [
        "\n",
        "[ 0.         -0.00798403 -0.02982107 -0.27525355  0.19385797  0.02065892]"
       ]
      },
      {
       "output_type": "stream",
       "stream": "stdout",
       "text": [
        "\n",
        "[ 0.         -0.00621118 -0.02656546 -0.16150628  0.26629423  0.02238124]"
       ]
      },
      {
       "output_type": "stream",
       "stream": "stdout",
       "text": [
        "\n",
        "[ 0.         -0.00389105 -0.00998004 -0.22377049  0.26614481  0.02042885]"
       ]
      },
      {
       "output_type": "stream",
       "stream": "stdout",
       "text": [
        "\n",
        "[ 0.          0.         -0.01596806 -0.14497992  0.24137931  0.01933603]"
       ]
      },
      {
       "output_type": "stream",
       "stream": "stdout",
       "text": [
        "\n",
        "[ 0.         -0.00204082 -0.01606426 -0.18488372  0.26626016  0.02064703]"
       ]
      },
      {
       "output_type": "stream",
       "stream": "stdout",
       "text": [
        "\n",
        "[ 0.          0.         -0.01002004 -0.21845842  0.21868787  0.02173849]"
       ]
      },
      {
       "output_type": "stream",
       "stream": "stdout",
       "text": [
        "\n",
        "[-0.00205339  0.         -0.01863354 -0.1769556   0.2168906   0.01987071]"
       ]
      },
      {
       "output_type": "stream",
       "stream": "stdout",
       "text": [
        "\n",
        "[-0.00206186  0.         -0.01782178 -0.14032587  0.23800384  0.02154756]"
       ]
      },
      {
       "output_type": "stream",
       "stream": "stdout",
       "text": [
        "\n",
        "[ 0.         -0.00595238 -0.0155642  -0.21712062  0.22222222  0.01803936]"
       ]
      },
      {
       "output_type": "stream",
       "stream": "stdout",
       "text": [
        "\n",
        "[ 0.         -0.00206186 -0.01603206 -0.17290448  0.24951644  0.02167727]"
       ]
      },
      {
       "output_type": "stream",
       "stream": "stdout",
       "text": [
        "\n",
        "[ 0.         -0.00205761 -0.00968992 -0.1690678   0.23106796  0.0196369 ]"
       ]
      },
      {
       "output_type": "stream",
       "stream": "stdout",
       "text": [
        "\n",
        "[ 0.          0.         -0.01541426 -0.17626459  0.24849699  0.02150183]"
       ]
      },
      {
       "output_type": "stream",
       "stream": "stdout",
       "text": [
        "\n",
        "[-0.00194553  0.         -0.02589641 -0.19158513  0.24457594  0.0198058 ]"
       ]
      },
      {
       "output_type": "stream",
       "stream": "stdout",
       "text": [
        "\n",
        "[-0.0040404  -0.00198413 -0.01596806 -0.20019881  0.27572816  0.02050017]"
       ]
      },
      {
       "output_type": "stream",
       "stream": "stdout",
       "text": [
        "\n",
        "[ 0.         -0.00416667 -0.00793651 -0.15976563  0.30443548  0.02294141]"
       ]
      },
      {
       "output_type": "stream",
       "stream": "stdout",
       "text": [
        "\n",
        "[-0.00198413  0.         -0.01204819 -0.23005894  0.26209677  0.01803788]"
       ]
      },
      {
       "output_type": "stream",
       "stream": "stdout",
       "text": [
        "\n",
        "[ 0.          0.         -0.00813008 -0.16534653  0.28136882  0.02276555]"
       ]
      },
      {
       "output_type": "stream",
       "stream": "stdout",
       "text": [
        "\n",
        "Optimization terminated successfully.\n",
        "         Current function value: 0.077123\n",
        "         Iterations: 23\n",
        "         Function evaluations: 51\n",
        "[ 0.         -0.00209205 -0.01008065 -0.1611336   0.25918367  0.02272134]"
       ]
      },
      {
       "output_type": "stream",
       "stream": "stdout",
       "text": [
        "\n",
        "[-0.00392927 -0.01014199 -0.08433735 -0.3523614  -0.12376726 -0.02789762]"
       ]
      },
      {
       "output_type": "stream",
       "stream": "stdout",
       "text": [
        "\n",
        "[ 0.         -0.00924214 -0.05128205 -0.29609375 -0.09100418 -0.02664797]"
       ]
      },
      {
       "output_type": "stream",
       "stream": "stdout",
       "text": [
        "\n",
        "[ 0.          0.         -0.0251938  -0.15396518  0.02       -0.00237312]"
       ]
      },
      {
       "output_type": "stream",
       "stream": "stdout",
       "text": [
        "\n",
        "[-0.00197628 -0.03006012 -0.12820513 -0.46666667 -0.21207585 -0.04264789]"
       ]
      },
      {
       "output_type": "stream",
       "stream": "stdout",
       "text": [
        "\n",
        "[-0.00197239 -0.01239669 -0.07157464 -0.33156823 -0.15354331 -0.02808928]"
       ]
      },
      {
       "output_type": "stream",
       "stream": "stdout",
       "text": [
        "\n",
        "[-0.00792079 -0.05230126 -0.16865079 -0.49838057 -0.1714876  -0.04093969]"
       ]
      },
      {
       "output_type": "stream",
       "stream": "stdout",
       "text": [
        "\n",
        "[-0.00203252 -0.00383142 -0.01364522 -0.10040323 -0.05492424 -0.01027589]"
       ]
      },
      {
       "output_type": "stream",
       "stream": "stdout",
       "text": [
        "\n",
        "[  0.00000000e+00   0.00000000e+00  -7.69230769e-03   1.25000000e-02\n",
        "   9.36213992e-02   4.48391076e-07]"
       ]
      },
      {
       "output_type": "stream",
       "stream": "stdout",
       "text": [
        "\n",
        "[ 0.          0.         -0.0060241  -0.00572451  0.1462963   0.00506475]"
       ]
      },
      {
       "output_type": "stream",
       "stream": "stdout",
       "text": [
        "\n",
        "[ 0.          0.         -0.0102459   0.01132075  0.15169133  0.0078563 ]"
       ]
      },
      {
       "output_type": "stream",
       "stream": "stdout",
       "text": [
        "\n",
        "[ 0.          0.         -0.00394477  0.11913215  0.28        0.01781296]"
       ]
      },
      {
       "output_type": "stream",
       "stream": "stdout",
       "text": [
        "\n",
        "[ 0.          0.         -0.00204082  0.13360161  0.4507874   0.02715485]"
       ]
      },
      {
       "output_type": "stream",
       "stream": "stdout",
       "text": [
        "\n",
        "[ 0.         -0.00205339 -0.01775148 -0.10273438  0.         -0.0091163 ]"
       ]
      },
      {
       "output_type": "stream",
       "stream": "stdout",
       "text": [
        "\n",
        "[-0.0019305  -0.01070664 -0.04191617 -0.277842   -0.0859375  -0.0219833 ]"
       ]
      },
      {
       "output_type": "stream",
       "stream": "stdout",
       "text": [
        "\n",
        "[-0.00207039 -0.00594059 -0.03740157 -0.16082474 -0.03672032 -0.00820964]"
       ]
      },
      {
       "output_type": "stream",
       "stream": "stdout",
       "text": [
        "\n",
        "[ 0.          0.         -0.00412371  0.08994307  0.18650794  0.00972564]"
       ]
      },
      {
       "output_type": "stream",
       "stream": "stdout",
       "text": [
        "\n",
        "[-0.00190114  0.         -0.02020202 -0.10985915  0.04659319 -0.00332439]"
       ]
      },
      {
       "output_type": "stream",
       "stream": "stdout",
       "text": [
        "\n",
        "[ 0.          0.         -0.00403226  0.04434968  0.14717742  0.00197372]"
       ]
      },
      {
       "output_type": "stream",
       "stream": "stdout",
       "text": [
        "\n",
        "[ 0.          0.          0.          0.03653846  0.12979798  0.00062669]"
       ]
      },
      {
       "output_type": "stream",
       "stream": "stdout",
       "text": [
        "\n",
        "[ 0.         -0.00207039 -0.01008065 -0.06494024 -0.0092955  -0.00839364]"
       ]
      },
      {
       "output_type": "stream",
       "stream": "stdout",
       "text": [
        "\n",
        "[ 0.         -0.0020202  -0.02742616 -0.13918129 -0.03346457 -0.01803794]"
       ]
      },
      {
       "output_type": "stream",
       "stream": "stdout",
       "text": [
        "\n",
        "[ 0.         -0.00204499 -0.0125261  -0.09205176 -0.01447876 -0.01634318]"
       ]
      },
      {
       "output_type": "stream",
       "stream": "stdout",
       "text": [
        "\n",
        "[ 0.         -0.00622407 -0.01968504 -0.1972332  -0.0744898  -0.01631171]"
       ]
      },
      {
       "output_type": "stream",
       "stream": "stdout",
       "text": [
        "\n",
        "[ 0.          0.         -0.01165049  0.00371901  0.05754352 -0.00241264]"
       ]
      },
      {
       "output_type": "stream",
       "stream": "stdout",
       "text": [
        "\n",
        "[ 0.          0.         -0.00829876 -0.00866142  0.0620155  -0.01065087]"
       ]
      },
      {
       "output_type": "stream",
       "stream": "stdout",
       "text": [
        "\n",
        "[-0.0020202  -0.00199601 -0.0040404   0.0111332   0.06376518 -0.00706128]"
       ]
      },
      {
       "output_type": "stream",
       "stream": "stdout",
       "text": [
        "\n",
        "[ 0.          0.         -0.01188119  0.05245902  0.13522954  0.00306964]"
       ]
      },
      {
       "output_type": "stream",
       "stream": "stdout",
       "text": [
        "\n",
        "[ 0.          0.         -0.00392157 -0.06996198 -0.016      -0.01103024]"
       ]
      },
      {
       "output_type": "stream",
       "stream": "stdout",
       "text": [
        "\n",
        "[ 0.         -0.00193424 -0.00772201 -0.07777778 -0.01315789 -0.01723063]"
       ]
      },
      {
       "output_type": "stream",
       "stream": "stdout",
       "text": [
        "\n",
        "[ 0.          0.         -0.00929368 -0.05316456 -0.03192534 -0.01180874]"
       ]
      },
      {
       "output_type": "stream",
       "stream": "stdout",
       "text": [
        "\n",
        "[ 0.         -0.00200401 -0.00208333 -0.01341463  0.06021195 -0.0056774 ]"
       ]
      },
      {
       "output_type": "stream",
       "stream": "stdout",
       "text": [
        "\n",
        "[ 0.          0.          0.          0.03503055  0.06349206 -0.00500357]"
       ]
      },
      {
       "output_type": "stream",
       "stream": "stdout",
       "text": [
        "\n",
        "[ 0.         -0.00208333 -0.00579151 -0.05849057  0.00670498 -0.00769783]"
       ]
      },
      {
       "output_type": "stream",
       "stream": "stdout",
       "text": [
        "\n",
        "[ 0.         -0.00585938 -0.01214575 -0.09124236  0.0234375  -0.00791113]"
       ]
      },
      {
       "output_type": "stream",
       "stream": "stdout",
       "text": [
        "\n",
        "[ 0.         -0.004      -0.00988142 -0.00940171  0.05390144 -0.00686862]"
       ]
      },
      {
       "output_type": "stream",
       "stream": "stdout",
       "text": [
        "\n",
        "[ 0.         -0.00408998 -0.01616162 -0.01875     0.03514056 -0.00511849]"
       ]
      },
      {
       "output_type": "stream",
       "stream": "stdout",
       "text": [
        "\n",
        "[ 0.         -0.00200803 -0.01232033 -0.0597137   0.05879346 -0.00072356]"
       ]
      },
      {
       "output_type": "stream",
       "stream": "stdout",
       "text": [
        "\n",
        "[ 0.          0.         -0.00398406  0.00816327  0.10129741 -0.00050101]"
       ]
      },
      {
       "output_type": "stream",
       "stream": "stdout",
       "text": [
        "\n",
        "[ 0.         -0.00191571 -0.00616016 -0.02612086  0.03810021 -0.00863596]"
       ]
      },
      {
       "output_type": "stream",
       "stream": "stdout",
       "text": [
        "\n",
        "[ 0.         -0.00195312 -0.00618557 -0.07125506  0.04273084 -0.00604159]"
       ]
      },
      {
       "output_type": "stream",
       "stream": "stdout",
       "text": [
        "\n",
        "[ 0.         -0.00198807 -0.00400802  0.00426357  0.05019493 -0.00671037]"
       ]
      },
      {
       "output_type": "stream",
       "stream": "stdout",
       "text": [
        "\n",
        "[ 0.          0.         -0.01388889 -0.01868787  0.04132231 -0.00312334]"
       ]
      },
      {
       "output_type": "stream",
       "stream": "stdout",
       "text": [
        "\n",
        "[-0.00192678  0.          0.         -0.03828921  0.04841897 -0.00743917]"
       ]
      },
      {
       "output_type": "stream",
       "stream": "stdout",
       "text": [
        "\n",
        "[ 0.          0.         -0.00583658 -0.06239669  0.0278865  -0.00495484]"
       ]
      },
      {
       "output_type": "stream",
       "stream": "stdout",
       "text": [
        "\n",
        "[ 0.          0.         -0.00828157 -0.04593496  0.04306931 -0.00737071]"
       ]
      },
      {
       "output_type": "stream",
       "stream": "stdout",
       "text": [
        "\n",
        "[ 0.          0.         -0.02222222  0.028       0.03571429 -0.00136084]"
       ]
      },
      {
       "output_type": "stream",
       "stream": "stdout",
       "text": [
        "\n",
        "[ 0.          0.          0.         -0.05833333  0.08126294 -0.00451395]"
       ]
      },
      {
       "output_type": "stream",
       "stream": "stdout",
       "text": [
        "\n",
        "[ 0.          0.         -0.00998004  0.02150101  0.12254902 -0.00332412]"
       ]
      },
      {
       "output_type": "stream",
       "stream": "stdout",
       "text": [
        "\n",
        "[ 0.         -0.0040568  -0.00779727 -0.01472393  0.05912863 -0.00401452]"
       ]
      },
      {
       "output_type": "stream",
       "stream": "stdout",
       "text": [
        "\n",
        "[ 0.          0.         -0.00203666 -0.03619048  0.0944227  -0.00330441]"
       ]
      },
      {
       "output_type": "stream",
       "stream": "stdout",
       "text": [
        "\n",
        "[ 0.         -0.00192678 -0.004158   -0.03809524  0.03514056 -0.00222801]"
       ]
      },
      {
       "output_type": "stream",
       "stream": "stdout",
       "text": [
        "\n",
        "[ 0.          0.         -0.0060241  -0.00081136  0.05       -0.00389145]"
       ]
      },
      {
       "output_type": "stream",
       "stream": "stdout",
       "text": [
        "\n",
        "[ 0.         -0.00206186 -0.00632911 -0.034714    0.10129741 -0.00068948]"
       ]
      },
      {
       "output_type": "stream",
       "stream": "stdout",
       "text": [
        "\n",
        "[ 0.         -0.00191571 -0.00204499 -0.07066116  0.03690229 -0.00357929]"
       ]
      },
      {
       "output_type": "stream",
       "stream": "stdout",
       "text": [
        "\n",
        "[ 0.          0.         -0.00206612 -0.00242915  0.02216495 -0.00308265]"
       ]
      },
      {
       "output_type": "stream",
       "stream": "stdout",
       "text": [
        "\n",
        "[ 0.          0.         -0.00385356 -0.02243346  0.04961832 -0.00461893]"
       ]
      },
      {
       "output_type": "stream",
       "stream": "stdout",
       "text": [
        "\n",
        "[ 0.         -0.00209644 -0.00601202 -0.04710425  0.01705653 -0.00355948]"
       ]
      },
      {
       "output_type": "stream",
       "stream": "stdout",
       "text": [
        "\n",
        "[ 0.         -0.00200803 -0.01364522 -0.03446894  0.04399142 -0.00244786]"
       ]
      },
      {
       "output_type": "stream",
       "stream": "stdout",
       "text": [
        "\n",
        "[ 0.          0.         -0.00399202 -0.05242718  0.03429423 -0.0046959 ]"
       ]
      },
      {
       "output_type": "stream",
       "stream": "stdout",
       "text": [
        "\n",
        "Optimization terminated successfully.\n",
        "         Current function value: 0.000511\n",
        "         Iterations: 27\n",
        "         Function evaluations: 59\n",
        "[ 0.          0.         -0.00821355  0.          0.07803181 -0.00259951]"
       ]
      },
      {
       "output_type": "stream",
       "stream": "stdout",
       "text": [
        "\n",
        "[-0.00204499 -0.00589391 -0.0761523  -0.17749491  0.0887574   0.00054413]"
       ]
      },
      {
       "output_type": "stream",
       "stream": "stdout",
       "text": [
        "\n",
        "[ 0.         -0.00968992 -0.0696325  -0.10398773  0.12929293 -0.00227985]"
       ]
      },
      {
       "output_type": "stream",
       "stream": "stdout",
       "text": [
        "\n",
        "[ 0.         -0.00408163 -0.01972387  0.02714885  0.23943662  0.0260752 ]"
       ]
      },
      {
       "output_type": "stream",
       "stream": "stdout",
       "text": [
        "\n",
        "[-0.00804829 -0.01626016 -0.10412574 -0.30778689  0.0443038  -0.01559031]"
       ]
      },
      {
       "output_type": "stream",
       "stream": "stdout",
       "text": [
        "\n",
        "[-0.00191939 -0.02680412 -0.07157464 -0.24349593  0.12175649 -0.0021467 ]"
       ]
      },
      {
       "output_type": "stream",
       "stream": "stdout",
       "text": [
        "\n",
        "[-0.00754717 -0.05304519 -0.15555556 -0.34070209  0.06589147 -0.01336239]"
       ]
      },
      {
       "output_type": "stream",
       "stream": "stdout",
       "text": [
        "\n",
        "[ 0.         -0.00393701 -0.01364522  0.0115087   0.22265625  0.01889554]"
       ]
      },
      {
       "output_type": "stream",
       "stream": "stdout",
       "text": [
        "\n",
        "[ 0.          0.         -0.0102459   0.1141129   0.33121019  0.02674455]"
       ]
      },
      {
       "output_type": "stream",
       "stream": "stdout",
       "text": [
        "\n",
        "[-0.00399202 -0.01988072 -0.05263158 -0.1998008   0.09394572 -0.00409362]"
       ]
      },
      {
       "output_type": "stream",
       "stream": "stdout",
       "text": [
        "\n",
        "[ 0.         -0.00421053 -0.02020202 -0.04626556  0.17254902  0.01663038]"
       ]
      },
      {
       "output_type": "stream",
       "stream": "stdout",
       "text": [
        "\n",
        "[-0.00198413 -0.00787402 -0.06024096 -0.19669261  0.0831643  -0.01663604]"
       ]
      },
      {
       "output_type": "stream",
       "stream": "stdout",
       "text": [
        "\n",
        "[ 0.         -0.00407332 -0.02105263  0.03902439  0.22417154  0.01006819]"
       ]
      },
      {
       "output_type": "stream",
       "stream": "stdout",
       "text": [
        "\n",
        "[ 0.         -0.01369863 -0.07480315 -0.14320388  0.12757202  0.00108565]"
       ]
      },
      {
       "output_type": "stream",
       "stream": "stdout",
       "text": [
        "\n",
        "[-0.00199601 -0.02996255 -0.13173653 -0.2527668   0.07738095 -0.01685205]"
       ]
      },
      {
       "output_type": "stream",
       "stream": "stdout",
       "text": [
        "\n",
        "[ 0.          0.         -0.0373444  -0.04038462  0.1322314   0.00943488]"
       ]
      },
      {
       "output_type": "stream",
       "stream": "stdout",
       "text": [
        "\n",
        "[ 0.         -0.00824742 -0.02839757 -0.02820513  0.25825243  0.02372743]"
       ]
      },
      {
       "output_type": "stream",
       "stream": "stdout",
       "text": [
        "\n",
        "[-0.00411523 -0.01273885 -0.04032258 -0.10736434  0.10444874 -0.00446183]"
       ]
      },
      {
       "output_type": "stream",
       "stream": "stdout",
       "text": [
        "\n",
        "[ 0.          0.         -0.01926782 -0.03943249  0.18091451  0.00857834]"
       ]
      },
      {
       "output_type": "stream",
       "stream": "stdout",
       "text": [
        "\n",
        "[ 0.          0.         -0.01162791  0.00692008  0.20824742  0.00980689]"
       ]
      },
      {
       "output_type": "stream",
       "stream": "stdout",
       "text": [
        "\n",
        "[ 0.         -0.00835073 -0.04716981 -0.09840525  0.14669421  0.00288044]"
       ]
      },
      {
       "output_type": "stream",
       "stream": "stdout",
       "text": [
        "\n",
        "[ 0.         -0.01408451 -0.05776892 -0.12580645  0.1049505   0.00075021]"
       ]
      },
      {
       "output_type": "stream",
       "stream": "stdout",
       "text": [
        "\n",
        "[ 0.         -0.0078125  -0.03375527 -0.10930233  0.15138593  0.00623794]"
       ]
      },
      {
       "output_type": "stream",
       "stream": "stdout",
       "text": [
        "\n",
        "[-0.00186567 -0.00924214 -0.04545455 -0.08835616  0.18110236  0.00443111]"
       ]
      },
      {
       "output_type": "stream",
       "stream": "stdout",
       "text": [
        "\n",
        "[ 0.         -0.00572519 -0.0408998  -0.07196532  0.15841584  0.00167997]"
       ]
      },
      {
       "output_type": "stream",
       "stream": "stdout",
       "text": [
        "\n",
        "[ 0.         -0.01041667 -0.04426559 -0.05778689  0.13061224  0.00378735]"
       ]
      },
      {
       "output_type": "stream",
       "stream": "stdout",
       "text": [
        "\n",
        "[ 0.         -0.00379507 -0.03497942 -0.05625     0.13972056  0.00513844]"
       ]
      },
      {
       "output_type": "stream",
       "stream": "stdout",
       "text": [
        "\n",
        "[ 0.          0.         -0.03469388  0.02686424  0.18677043  0.0137484 ]"
       ]
      },
      {
       "output_type": "stream",
       "stream": "stdout",
       "text": [
        "\n",
        "[ 0.         -0.00191205 -0.03012048 -0.04787234  0.14947368  0.00539605]"
       ]
      },
      {
       "output_type": "stream",
       "stream": "stdout",
       "text": [
        "\n",
        "[ 0.         -0.00792079 -0.05415861 -0.18375527  0.13438735 -0.00341674]"
       ]
      },
      {
       "output_type": "stream",
       "stream": "stdout",
       "text": [
        "\n",
        "[ 0.         -0.01035197 -0.03065134 -0.02164751  0.17669173  0.00844044]"
       ]
      },
      {
       "output_type": "stream",
       "stream": "stdout",
       "text": [
        "\n",
        "[-0.00199601 -0.01059322 -0.02004008 -0.11706587  0.11857708  0.00154116]"
       ]
      },
      {
       "output_type": "stream",
       "stream": "stdout",
       "text": [
        "\n",
        "[ 0.         -0.00994036 -0.03036053 -0.07063492  0.18198874  0.00705002]"
       ]
      },
      {
       "output_type": "stream",
       "stream": "stdout",
       "text": [
        "\n",
        "[ 0.         -0.01004016 -0.04724409 -0.04959839  0.144       0.00351909]"
       ]
      },
      {
       "output_type": "stream",
       "stream": "stdout",
       "text": [
        "\n",
        "[ 0.         -0.00192678 -0.04085603 -0.06747573  0.1902834   0.00819973]"
       ]
      },
      {
       "output_type": "stream",
       "stream": "stdout",
       "text": [
        "\n",
        "[ 0.         -0.00407332 -0.03784861 -0.12808765  0.14174757  0.00193245]"
       ]
      },
      {
       "output_type": "stream",
       "stream": "stdout",
       "text": [
        "\n",
        "[ 0.         -0.00767754 -0.03543307 -0.0698783   0.14401623  0.0048182 ]"
       ]
      },
      {
       "output_type": "stream",
       "stream": "stdout",
       "text": [
        "\n",
        "[-0.0020284  -0.00601202 -0.04646018 -0.08469388  0.16116505  0.00520688]"
       ]
      },
      {
       "output_type": "stream",
       "stream": "stdout",
       "text": [
        "\n",
        "[ 0.         -0.00398406 -0.04960317 -0.06481481  0.14583333  0.00547635]"
       ]
      },
      {
       "output_type": "stream",
       "stream": "stdout",
       "text": [
        "\n",
        "[ 0.         -0.01219512 -0.02736842 -0.04539347  0.16338583  0.00701144]"
       ]
      },
      {
       "output_type": "stream",
       "stream": "stdout",
       "text": [
        "\n",
        "[ 0.         -0.00591716 -0.04807692 -0.08991853  0.14837398  0.00497808]"
       ]
      },
      {
       "output_type": "stream",
       "stream": "stdout",
       "text": [
        "\n",
        "Optimization terminated successfully.\n",
        "         Current function value: 0.020600\n",
        "         Iterations: 16\n",
        "         Function evaluations: 40\n",
        "[-0.00210526 -0.00204918 -0.03476483 -0.04300412  0.13921569  0.0073603 ]"
       ]
      },
      {
       "output_type": "stream",
       "stream": "stdout",
       "text": [
        "\n",
        "[ 0.         -0.01232033 -0.07352941 -0.27046784 -0.00138067 -0.02445393]"
       ]
      },
      {
       "output_type": "stream",
       "stream": "stdout",
       "text": [
        "\n",
        "[-0.00588235 -0.00574713 -0.06508876 -0.24083503  0.03127413 -0.02532256]"
       ]
      },
      {
       "output_type": "stream",
       "stream": "stdout",
       "text": [
        "\n",
        "[ 0.         -0.00204082 -0.02892562 -0.06893004  0.14291498  0.00126649]"
       ]
      },
      {
       "output_type": "stream",
       "stream": "stdout",
       "text": [
        "\n",
        "[-0.00623701 -0.02692308 -0.12769784 -0.41868687 -0.03987976 -0.04224079]"
       ]
      },
      {
       "output_type": "stream",
       "stream": "stdout",
       "text": [
        "\n",
        "[ 0.         -0.02529183 -0.055666   -0.29674797  0.00707071 -0.02769821]"
       ]
      },
      {
       "output_type": "stream",
       "stream": "stdout",
       "text": [
        "\n",
        "[-0.01361868 -0.04216867 -0.18843284 -0.43888889 -0.03839836 -0.03843439]"
       ]
      },
      {
       "output_type": "stream",
       "stream": "stdout",
       "text": [
        "\n",
        "[ 0.         -0.00206186 -0.01810865 -0.06578947  0.10724346 -0.00890243]"
       ]
      },
      {
       "output_type": "stream",
       "stream": "stdout",
       "text": [
        "\n",
        "[ 0.          0.          0.          0.06349206  0.22712215  0.00096983]"
       ]
      },
      {
       "output_type": "stream",
       "stream": "stdout",
       "text": [
        "\n",
        "[ 0.         -0.00194553 -0.0059761  -0.00352113  0.26734694  0.00305103]"
       ]
      },
      {
       "output_type": "stream",
       "stream": "stdout",
       "text": [
        "\n",
        "[ 0.          0.         -0.02509653  0.02192982  0.23201581  0.00108485]"
       ]
      },
      {
       "output_type": "stream",
       "stream": "stdout",
       "text": [
        "\n",
        "[ 0.          0.         -0.00835073  0.07936508  0.31386139  0.01235059]"
       ]
      },
      {
       "output_type": "stream",
       "stream": "stdout",
       "text": [
        "\n",
        "[ 0.         -0.00613497 -0.04373757 -0.192       0.07382413 -0.01467171]"
       ]
      },
      {
       "output_type": "stream",
       "stream": "stdout",
       "text": [
        "\n",
        "[ 0.         -0.00199203 -0.05642023 -0.25392157  0.00980392 -0.02269339]"
       ]
      },
      {
       "output_type": "stream",
       "stream": "stdout",
       "text": [
        "\n",
        "[ 0.         -0.00804829 -0.03822938 -0.20338983  0.05415822 -0.01577919]"
       ]
      },
      {
       "output_type": "stream",
       "stream": "stdout",
       "text": [
        "\n",
        "[-0.00197239 -0.00402414 -0.01691729  0.042       0.20753968  0.00871747]"
       ]
      },
      {
       "output_type": "stream",
       "stream": "stdout",
       "text": [
        "\n",
        "[-0.00396825 -0.00588235 -0.05749487 -0.22718631  0.03829787 -0.01466855]"
       ]
      },
      {
       "output_type": "stream",
       "stream": "stdout",
       "text": [
        "\n",
        "[ 0.         -0.00194932 -0.00773694 -0.04518072  0.18336756 -0.00046938]"
       ]
      },
      {
       "output_type": "stream",
       "stream": "stdout",
       "text": [
        "\n",
        "[ 0.          0.         -0.01440329  0.0189243   0.22064128  0.00820858]"
       ]
      },
      {
       "output_type": "stream",
       "stream": "stdout",
       "text": [
        "\n",
        "[ 0.         -0.00582524 -0.01984127 -0.11127745  0.09047619 -0.00771656]"
       ]
      },
      {
       "output_type": "stream",
       "stream": "stdout",
       "text": [
        "\n",
        "[ 0.         -0.01512287 -0.0473251  -0.21707819  0.03496933 -0.02359652]"
       ]
      },
      {
       "output_type": "stream",
       "stream": "stdout",
       "text": [
        "\n",
        "[ 0.          0.         -0.0125     -0.06599229  0.1597137   0.00176067]"
       ]
      },
      {
       "output_type": "stream",
       "stream": "stdout",
       "text": [
        "\n",
        "[ 0.         -0.00188324 -0.01380671  0.01908023  0.26072144  0.00659035]"
       ]
      },
      {
       "output_type": "stream",
       "stream": "stdout",
       "text": [
        "\n",
        "[ 0.         -0.00833333 -0.03320312 -0.13461538  0.11335807 -0.01051681]"
       ]
      },
      {
       "output_type": "stream",
       "stream": "stdout",
       "text": [
        "\n",
        "[ 0.         -0.00793651 -0.03747535 -0.13953488  0.09712526 -0.00778498]"
       ]
      },
      {
       "output_type": "stream",
       "stream": "stdout",
       "text": [
        "\n",
        "[ 0.         -0.0040404  -0.00793651 -0.06055901  0.09959677 -0.00062274]"
       ]
      },
      {
       "output_type": "stream",
       "stream": "stdout",
       "text": [
        "\n",
        "[ 0.         -0.00194932 -0.01803607 -0.03194726  0.19445507  0.00370933]"
       ]
      },
      {
       "output_type": "stream",
       "stream": "stdout",
       "text": [
        "\n",
        "[ 0.          0.         -0.01014199 -0.00338491  0.21485149  0.00185389]"
       ]
      },
      {
       "output_type": "stream",
       "stream": "stdout",
       "text": [
        "\n",
        "[ 0.         -0.00211416 -0.02745098 -0.09782609  0.08448637 -0.0044975 ]"
       ]
      },
      {
       "output_type": "stream",
       "stream": "stdout",
       "text": [
        "\n",
        "[ 0.         -0.00821355 -0.02169625 -0.12960954  0.07296223 -0.01128625]"
       ]
      },
      {
       "output_type": "stream",
       "stream": "stdout",
       "text": [
        "\n",
        "[-0.00204918 -0.00400802 -0.01747573 -0.09205231  0.06403162 -0.01603221]"
       ]
      },
      {
       "output_type": "stream",
       "stream": "stdout",
       "text": [
        "\n",
        "[ 0.         -0.00402414 -0.0167364  -0.10728953  0.06149068 -0.02535292]"
       ]
      },
      {
       "output_type": "stream",
       "stream": "stdout",
       "text": [
        "\n",
        "[ 0.         -0.00200803 -0.01593625 -0.00725338  0.16946108 -0.00457257]"
       ]
      },
      {
       "output_type": "stream",
       "stream": "stdout",
       "text": [
        "\n",
        "[ 0.         -0.00205339 -0.03036437 -0.12424547  0.10528455 -0.0115804 ]"
       ]
      },
      {
       "output_type": "stream",
       "stream": "stdout",
       "text": [
        "\n",
        "[ 0.         -0.0041841  -0.01956947 -0.09291581  0.09512195 -0.00769667]"
       ]
      },
      {
       "output_type": "stream",
       "stream": "stdout",
       "text": [
        "\n",
        "[ 0.         -0.00198413 -0.02380952 -0.06726908  0.08253968 -0.01266807]"
       ]
      },
      {
       "output_type": "stream",
       "stream": "stdout",
       "text": [
        "\n",
        "[ 0.         -0.00392157 -0.0248566  -0.0873494   0.09675456 -0.01050421]"
       ]
      },
      {
       "output_type": "stream",
       "stream": "stdout",
       "text": [
        "\n",
        "[ 0.         -0.00379507 -0.02119461 -0.12184874  0.07281553 -0.01284615]"
       ]
      },
      {
       "output_type": "stream",
       "stream": "stdout",
       "text": [
        "\n",
        "[ 0.         -0.00209644 -0.02772277 -0.1520202   0.08647541 -0.01378637]"
       ]
      },
      {
       "output_type": "stream",
       "stream": "stdout",
       "text": [
        "\n",
        "[ 0.         -0.00394477 -0.01502146 -0.1072744   0.10118343 -0.01002882]"
       ]
      },
      {
       "output_type": "stream",
       "stream": "stdout",
       "text": [
        "\n",
        "[ 0.          0.         -0.02066116 -0.05882353  0.096      -0.01087453]"
       ]
      },
      {
       "output_type": "stream",
       "stream": "stdout",
       "text": [
        "\n",
        "[ 0.         -0.00386847 -0.02366864 -0.05382294  0.07612524 -0.01120635]"
       ]
      },
      {
       "output_type": "stream",
       "stream": "stdout",
       "text": [
        "\n",
        "[ 0.         -0.00201613 -0.02731092 -0.09693878  0.08315789 -0.01087494]"
       ]
      },
      {
       "output_type": "stream",
       "stream": "stdout",
       "text": [
        "\n",
        "[ 0.          0.         -0.01744186 -0.10700197  0.12672065 -0.01534898]"
       ]
      },
      {
       "output_type": "stream",
       "stream": "stdout",
       "text": [
        "\n",
        "[ 0.          0.         -0.01153846 -0.12425743  0.09186047 -0.01007018]"
       ]
      },
      {
       "output_type": "stream",
       "stream": "stdout",
       "text": [
        "\n",
        "[ 0.         -0.00203666 -0.022      -0.05784708  0.12437137 -0.0112022 ]"
       ]
      },
      {
       "output_type": "stream",
       "stream": "stdout",
       "text": [
        "\n",
        "[ 0.         -0.00788955 -0.01825558 -0.08009709  0.09277108 -0.01317637]"
       ]
      },
      {
       "output_type": "stream",
       "stream": "stdout",
       "text": [
        "\n",
        "[-0.00194932 -0.00199203 -0.01232033 -0.05079681  0.1231405  -0.01066189]"
       ]
      },
      {
       "output_type": "stream",
       "stream": "stdout",
       "text": [
        "\n",
        "[ 0.          0.         -0.0185567  -0.09851485  0.08619247 -0.01115494]"
       ]
      },
      {
       "output_type": "stream",
       "stream": "stdout",
       "text": [
        "\n",
        "[ 0.         -0.00606061 -0.01886792 -0.11666667  0.11104536 -0.01033537]"
       ]
      },
      {
       "output_type": "stream",
       "stream": "stdout",
       "text": [
        "\n",
        "Optimization terminated successfully.\n",
        "         Current function value: 0.009393\n",
        "         Iterations: 20\n",
        "         Function evaluations: 49\n",
        "[ 0.         -0.0038835  -0.01425662 -0.05278884  0.09067797 -0.01005914]"
       ]
      },
      {
       "output_type": "stream",
       "stream": "stdout",
       "text": [
        "\n",
        "[-0.00402414 -0.00606061  0.05457256  0.1871134  -0.03486141  0.0044977 ]"
       ]
      },
      {
       "output_type": "stream",
       "stream": "stdout",
       "text": [
        "\n",
        "[-0.00206186 -0.01356589  0.0990835   0.23739496 -0.03367347  0.00587168]"
       ]
      },
      {
       "output_type": "stream",
       "stream": "stdout",
       "text": [
        "\n",
        "[-0.00395257 -0.00203666  0.12160243  0.42676768  0.09098672  0.03122725]"
       ]
      },
      {
       "output_type": "stream",
       "stream": "stdout",
       "text": [
        "\n",
        "[ 0.         -0.02391304  0.03372093  0.13606403 -0.10266272 -0.0084228 ]"
       ]
      },
      {
       "output_type": "stream",
       "stream": "stdout",
       "text": [
        "\n",
        "[ 0.         -0.02066116  0.07168675  0.18604651 -0.05283401  0.00523966]"
       ]
      },
      {
       "output_type": "stream",
       "stream": "stdout",
       "text": [
        "\n",
        "[-0.00591716 -0.0308642  -0.03240343  0.08403361 -0.09105263 -0.00751976]"
       ]
      },
      {
       "output_type": "stream",
       "stream": "stdout",
       "text": [
        "\n",
        "[-0.01616162 -0.06924644 -0.0834004  -0.0444664  -0.12389558 -0.03611213]"
       ]
      },
      {
       "output_type": "stream",
       "stream": "stdout",
       "text": [
        "\n",
        "[-0.01054852 -0.09073724 -0.11229508 -0.06213307 -0.11518375 -0.02269919]"
       ]
      },
      {
       "output_type": "stream",
       "stream": "stdout",
       "text": [
        "\n",
        "[-0.01242236 -0.07283465 -0.10447316 -0.04371316 -0.13097252 -0.03202393]"
       ]
      },
      {
       "output_type": "stream",
       "stream": "stdout",
       "text": [
        "\n",
        "[-0.03252033 -0.13051823 -0.2511976  -0.15224033 -0.13664122 -0.04940361]"
       ]
      },
      {
       "output_type": "stream",
       "stream": "stdout",
       "text": [
        "\n",
        "[-0.00567108 -0.02929688  0.026       0.08970276 -0.08877551 -0.00764255]"
       ]
      },
      {
       "output_type": "stream",
       "stream": "stdout",
       "text": [
        "\n",
        "[-0.00595238 -0.03462322  0.01226415  0.08797217 -0.101417   -0.01478046]"
       ]
      },
      {
       "output_type": "stream",
       "stream": "stdout",
       "text": [
        "\n",
        "[-0.0020202  -0.016       0.10247525  0.22826087 -0.03631985  0.00290599]"
       ]
      },
      {
       "output_type": "stream",
       "stream": "stdout",
       "text": [
        "\n",
        "[-0.00387597 -0.04247104 -0.06031746 -0.012      -0.11819085 -0.02220155]"
       ]
      },
      {
       "output_type": "stream",
       "stream": "stdout",
       "text": [
        "\n",
        "[-0.00982318 -0.0945674  -0.11166329 -0.02330508 -0.12319588 -0.02736245]"
       ]
      },
      {
       "output_type": "stream",
       "stream": "stdout",
       "text": [
        "\n",
        "[-0.00604839 -0.03006012  0.01270492  0.06599229 -0.10155039 -0.0126399 ]"
       ]
      },
      {
       "output_type": "stream",
       "stream": "stdout",
       "text": [
        "\n",
        "[-0.00798403 -0.01750973  0.06702128  0.19190476 -0.02975952  0.01028071]"
       ]
      },
      {
       "output_type": "stream",
       "stream": "stdout",
       "text": [
        "\n",
        "[-0.00976562 -0.04414587 -0.03875502  0.00357873 -0.10437262 -0.02482912]"
       ]
      },
      {
       "output_type": "stream",
       "stream": "stdout",
       "text": [
        "\n",
        "[-0.00201613 -0.02291667  0.04852008  0.1875     -0.07125984 -0.00124229]"
       ]
      },
      {
       "output_type": "stream",
       "stream": "stdout",
       "text": [
        "\n",
        "[-0.00572519 -0.03386454 -0.03379447  0.02254902 -0.11370968 -0.01807696]"
       ]
      },
      {
       "output_type": "stream",
       "stream": "stdout",
       "text": [
        "\n",
        "[-0.02040816 -0.0734127  -0.05366599  0.03942116 -0.11106557 -0.01418357]"
       ]
      },
      {
       "output_type": "stream",
       "stream": "stdout",
       "text": [
        "\n",
        "[-0.0020202  -0.02514507  0.00135135  0.06288344 -0.09941634 -0.01376788]"
       ]
      },
      {
       "output_type": "stream",
       "stream": "stdout",
       "text": [
        "\n",
        "[-0.00796813 -0.03682171 -0.04805825  0.01838966 -0.11963947 -0.02450316]"
       ]
      },
      {
       "output_type": "stream",
       "stream": "stdout",
       "text": [
        "\n",
        "[-0.00609756 -0.03838772  0.002       0.06526104 -0.10859213 -0.01232355]"
       ]
      },
      {
       "output_type": "stream",
       "stream": "stdout",
       "text": [
        "\n",
        "[-0.00403226 -0.03937008  0.00319149  0.08196721 -0.10568401 -0.01868334]"
       ]
      },
      {
       "output_type": "stream",
       "stream": "stdout",
       "text": [
        "\n",
        "[-0.00617284 -0.02095238  0.0177686   0.09419552 -0.08822394 -0.01228021]"
       ]
      },
      {
       "output_type": "stream",
       "stream": "stdout",
       "text": [
        "\n",
        "[-0.00191205 -0.04466019 -0.01078431  0.05942623 -0.104      -0.01544472]"
       ]
      },
      {
       "output_type": "stream",
       "stream": "stdout",
       "text": [
        "\n",
        "[-0.0041841  -0.02788845 -0.00811088  0.07365145 -0.09628099 -0.01090279]"
       ]
      },
      {
       "output_type": "stream",
       "stream": "stdout",
       "text": [
        "\n",
        "[-0.00795229 -0.03125     0.00947047  0.09980237 -0.08957115 -0.01030528]"
       ]
      },
      {
       "output_type": "stream",
       "stream": "stdout",
       "text": [
        "\n",
        "[ 0.         -0.02584493  0.04873418  0.14388145 -0.08710692 -0.00674631]"
       ]
      },
      {
       "output_type": "stream",
       "stream": "stdout",
       "text": [
        "\n",
        "[-0.00408998 -0.03138075 -0.00991903  0.00102041 -0.10427435 -0.01659134]"
       ]
      },
      {
       "output_type": "stream",
       "stream": "stdout",
       "text": [
        "\n",
        "[ -5.83657588e-03  -5.43259557e-02  -9.74658869e-05   2.68924303e-02\n",
        "  -1.10396040e-01  -1.55639141e-02]"
       ]
      },
      {
       "output_type": "stream",
       "stream": "stdout",
       "text": [
        "\n",
        "[-0.00404858 -0.04        0.0003937   0.05019493 -0.09486692 -0.01540198]"
       ]
      },
      {
       "output_type": "stream",
       "stream": "stdout",
       "text": [
        "\n",
        "[-0.00383877 -0.0483871  -0.01766467  0.07056452 -0.12373737 -0.01470899]"
       ]
      },
      {
       "output_type": "stream",
       "stream": "stdout",
       "text": [
        "\n",
        "[-0.006      -0.0244898  -0.04385797  0.0785124  -0.10190381 -0.01658179]"
       ]
      },
      {
       "output_type": "stream",
       "stream": "stdout",
       "text": [
        "\n",
        "[-0.00798403 -0.02857143 -0.02659138  0.05923695 -0.12363083 -0.01671989]"
       ]
      },
      {
       "output_type": "stream",
       "stream": "stdout",
       "text": [
        "\n",
        "[ 0.         -0.04056795  0.03160677  0.0967433  -0.10038168 -0.0136861 ]"
       ]
      },
      {
       "output_type": "stream",
       "stream": "stdout",
       "text": [
        "\n",
        "[-0.00978474 -0.04356846  0.00252525  0.08470226 -0.09188377 -0.01237302]"
       ]
      },
      {
       "output_type": "stream",
       "stream": "stdout",
       "text": [
        "\n",
        "[-0.01217039 -0.03373016 -0.01468254  0.05384615 -0.09499018 -0.01730433]"
       ]
      },
      {
       "output_type": "stream",
       "stream": "stdout",
       "text": [
        "\n",
        "[-0.0019802  -0.03696099 -0.01091954  0.05708661 -0.09488189 -0.01647349]"
       ]
      },
      {
       "output_type": "stream",
       "stream": "stdout",
       "text": [
        "\n",
        "Optimization terminated successfully.\n",
        "         Current function value: 0.012249\n",
        "         Iterations: 16\n",
        "         Function evaluations: 40\n",
        "[ 0.         -0.03891051 -0.00959596  0.05628803 -0.1107438  -0.01649549]"
       ]
      },
      {
       "output_type": "stream",
       "stream": "stdout",
       "text": [
        "\n",
        "[-0.00190476 -0.01848049 -0.08598131 -0.00195312  0.06706349  0.00671697]"
       ]
      },
      {
       "output_type": "stream",
       "stream": "stdout",
       "text": [
        "\n",
        "[ 0.         -0.01014199 -0.05357143  0.06039604  0.06764706  0.00813362]"
       ]
      },
      {
       "output_type": "stream",
       "stream": "stdout",
       "text": [
        "\n",
        "[ 0.         -0.00628931 -0.02020202  0.17223382  0.16357285  0.03299309]"
       ]
      },
      {
       "output_type": "stream",
       "stream": "stdout",
       "text": [
        "\n",
        "[-0.00604839 -0.01541426 -0.12605042 -0.16470588  0.0034188  -0.00831588]"
       ]
      },
      {
       "output_type": "stream",
       "stream": "stdout",
       "text": [
        "\n",
        "[-0.00212314 -0.02376238 -0.08477842 -0.02777778  0.07307692  0.0058495 ]"
       ]
      },
      {
       "output_type": "stream",
       "stream": "stdout",
       "text": [
        "\n",
        "[-0.00835073 -0.03549061 -0.20901639 -0.12880325 -0.00192308 -0.00586658]"
       ]
      },
      {
       "output_type": "stream",
       "stream": "stdout",
       "text": [
        "\n",
        "[ 0.          0.         -0.02152642  0.18788501  0.19748491  0.02393081]"
       ]
      },
      {
       "output_type": "stream",
       "stream": "stdout",
       "text": [
        "\n",
        "[-0.00207039 -0.04133858 -0.11089494 -0.11538462  0.04108911  0.00212978]"
       ]
      },
      {
       "output_type": "stream",
       "stream": "stdout",
       "text": [
        "\n",
        "[-0.00197239 -0.05052632 -0.17092338 -0.25393701 -0.03027613 -0.03198691]"
       ]
      },
      {
       "output_type": "stream",
       "stream": "stdout",
       "text": [
        "\n",
        "[ 0.         -0.0075188  -0.05112474  0.04007634  0.09880952  0.01820819]"
       ]
      },
      {
       "output_type": "stream",
       "stream": "stdout",
       "text": [
        "\n",
        "[ 0.         -0.00408163 -0.04312115  0.14147287  0.18984526  0.02244919]"
       ]
      },
      {
       "output_type": "stream",
       "stream": "stdout",
       "text": [
        "\n",
        "[-0.00412371 -0.02235772 -0.10079051 -0.07505285  0.03514851  0.00025524]"
       ]
      },
      {
       "output_type": "stream",
       "stream": "stdout",
       "text": [
        "\n",
        "[ 0.         -0.00400802 -0.04216867  0.07056452  0.09285714  0.01141546]"
       ]
      },
      {
       "output_type": "stream",
       "stream": "stdout",
       "text": [
        "\n",
        "[-0.00205339 -0.00588235 -0.04901961  0.14811133  0.16880998  0.01998604]"
       ]
      },
      {
       "output_type": "stream",
       "stream": "stdout",
       "text": [
        "\n",
        "[-0.00406504 -0.00992063 -0.06589147 -0.03265306  0.06132438  0.00541091]"
       ]
      },
      {
       "output_type": "stream",
       "stream": "stdout",
       "text": [
        "\n",
        "[-0.00194175 -0.01734104 -0.06420233 -0.08870968  0.04677419  0.00446801]"
       ]
      },
      {
       "output_type": "stream",
       "stream": "stdout",
       "text": [
        "\n",
        "[-0.0060241  -0.01687764 -0.05492424 -0.07057654  0.05365854  0.00644275]"
       ]
      },
      {
       "output_type": "stream",
       "stream": "stdout",
       "text": [
        "\n",
        "[ 0.         -0.01178782 -0.10931174 -0.08939096  0.03007812 -0.00534492]"
       ]
      },
      {
       "output_type": "stream",
       "stream": "stdout",
       "text": [
        "\n",
        "[ 0.         -0.00410678 -0.04233871  0.03361345  0.08387424  0.01202646]"
       ]
      },
      {
       "output_type": "stream",
       "stream": "stdout",
       "text": [
        "\n",
        "[ 0.         -0.00959693 -0.03549061  0.01896208  0.08052209  0.0119808 ]"
       ]
      },
      {
       "output_type": "stream",
       "stream": "stdout",
       "text": [
        "\n",
        "[ 0.         -0.00205761 -0.03822938  0.08089669  0.07698413  0.0120653 ]"
       ]
      },
      {
       "output_type": "stream",
       "stream": "stdout",
       "text": [
        "\n",
        "[ 0.         -0.0059761  -0.06150794  0.03752535  0.07653061  0.01097955]"
       ]
      },
      {
       "output_type": "stream",
       "stream": "stdout",
       "text": [
        "\n",
        "[-0.00397614 -0.0206379  -0.05230126 -0.0626327   0.04021113  0.01043345]"
       ]
      },
      {
       "output_type": "stream",
       "stream": "stdout",
       "text": [
        "\n",
        "[-0.00200401 -0.01237113 -0.04780115  0.05828221  0.0683432   0.01321883]"
       ]
      },
      {
       "output_type": "stream",
       "stream": "stdout",
       "text": [
        "\n",
        "[ 0.         -0.01048218 -0.06640625 -0.02040816  0.05438413  0.01128303]"
       ]
      },
      {
       "output_type": "stream",
       "stream": "stdout",
       "text": [
        "\n",
        "[-0.00206612 -0.01730769 -0.07647059 -0.08037578  0.05272537  0.01147085]"
       ]
      },
      {
       "output_type": "stream",
       "stream": "stdout",
       "text": [
        "\n",
        "[-0.0019802  -0.01740812 -0.08924949 -0.09710744  0.0523622   0.0083251 ]"
       ]
      },
      {
       "output_type": "stream",
       "stream": "stdout",
       "text": [
        "\n",
        "[-0.0020284  -0.0083682  -0.05220884 -0.00625     0.08306452  0.01196286]"
       ]
      },
      {
       "output_type": "stream",
       "stream": "stdout",
       "text": [
        "\n",
        "[-0.00191939 -0.02012072 -0.0589391  -0.00306748  0.0393617   0.00358638]"
       ]
      },
      {
       "output_type": "stream",
       "stream": "stdout",
       "text": [
        "\n",
        "[-0.00203252 -0.01188119 -0.08823529 -0.06054688  0.03416834  0.0045845 ]"
       ]
      },
      {
       "output_type": "stream",
       "stream": "stdout",
       "text": [
        "\n",
        "[ 0.         -0.0295858  -0.08050847 -0.04453441  0.06389961  0.00676668]"
       ]
      },
      {
       "output_type": "stream",
       "stream": "stdout",
       "text": [
        "\n",
        "[ 0.         -0.0185567  -0.06962025 -0.00733753  0.06931818  0.0086804 ]"
       ]
      },
      {
       "output_type": "stream",
       "stream": "stdout",
       "text": [
        "\n",
        "[-0.00197628 -0.00974659 -0.06857143 -0.03069307  0.05934394  0.00793767]"
       ]
      },
      {
       "output_type": "stream",
       "stream": "stdout",
       "text": [
        "\n",
        "[ 0.         -0.01167315 -0.07042254  0.00395257  0.03349515  0.0094792 ]"
       ]
      },
      {
       "output_type": "stream",
       "stream": "stdout",
       "text": [
        "\n",
        "[-0.0019802  -0.0094697  -0.07287449 -0.04618474  0.06111111  0.00977208]"
       ]
      },
      {
       "output_type": "stream",
       "stream": "stdout",
       "text": [
        "\n",
        "[ 0.         -0.00824742 -0.07930368  0.03606238  0.05245902  0.00825763]"
       ]
      },
      {
       "output_type": "stream",
       "stream": "stdout",
       "text": [
        "\n",
        "[-0.00207039 -0.01626016 -0.06138614 -0.01764706  0.0510101   0.0062343 ]"
       ]
      },
      {
       "output_type": "stream",
       "stream": "stdout",
       "text": [
        "\n",
        "[ 0.         -0.012      -0.0665362  -0.0272045   0.04475806  0.00761523]"
       ]
      },
      {
       "output_type": "stream",
       "stream": "stdout",
       "text": [
        "\n",
        "[ 0.         -0.01709402 -0.06349206  0.0256917   0.07159329  0.00803179]"
       ]
      },
      {
       "output_type": "stream",
       "stream": "stdout",
       "text": [
        "\n",
        "[-0.00192678 -0.01532567 -0.07590133 -0.02040816  0.09623656  0.00811683]"
       ]
      },
      {
       "output_type": "stream",
       "stream": "stdout",
       "text": [
        "\n",
        "[ 0.         -0.00420168 -0.0738523   0.01683168  0.05344828  0.00697213]"
       ]
      },
      {
       "output_type": "stream",
       "stream": "stdout",
       "text": [
        "\n",
        "[ 0.         -0.01775148 -0.09263158 -0.05363985  0.08195876  0.00802566]"
       ]
      },
      {
       "output_type": "stream",
       "stream": "stdout",
       "text": [
        "\n",
        "[ 0.         -0.00760456 -0.06163022 -0.04043393  0.056       0.00571678]"
       ]
      },
      {
       "output_type": "stream",
       "stream": "stdout",
       "text": [
        "\n",
        "[-0.00203666 -0.00808081 -0.07436399 -0.03252033  0.0621673   0.0077164 ]"
       ]
      },
      {
       "output_type": "stream",
       "stream": "stdout",
       "text": [
        "\n",
        "[ 0.         -0.01361868 -0.07003891 -0.04564315  0.04129512  0.00661207]"
       ]
      },
      {
       "output_type": "stream",
       "stream": "stdout",
       "text": [
        "\n",
        "Optimization terminated successfully.\n",
        "         Current function value: 0.005454\n",
        "         Iterations: 18\n",
        "         Function evaluations: 45\n",
        "[ 0.         -0.0203666  -0.0766129  -0.02749491  0.04421842  0.00714878]"
       ]
      },
      {
       "output_type": "stream",
       "stream": "stdout",
       "text": [
        "\n",
        "[-0.00197628 -0.01330798  0.03013972  0.0226477   0.12883436  0.00986335]"
       ]
      },
      {
       "output_type": "stream",
       "stream": "stdout",
       "text": [
        "\n",
        "[ 0.         -0.00589391  0.044334    0.07727273  0.13307985  0.0090428 ]"
       ]
      },
      {
       "output_type": "stream",
       "stream": "stdout",
       "text": [
        "\n",
        "[-0.0040404  -0.00784314  0.07154472  0.21324435  0.2593361   0.03512519]"
       ]
      },
      {
       "output_type": "stream",
       "stream": "stdout",
       "text": [
        "\n",
        "[-0.00401606 -0.04135338  0.01876209 -0.07732919  0.05905512 -0.00543139]"
       ]
      },
      {
       "output_type": "stream",
       "stream": "stdout",
       "text": [
        "\n",
        "[-0.00409836 -0.02626263  0.03209877  0.02024952  0.11344538  0.00728477]"
       ]
      },
      {
       "output_type": "stream",
       "stream": "stdout",
       "text": [
        "\n",
        "[-0.00215517 -0.05323194 -0.10517928 -0.13623482  0.04508197 -0.00303819]"
       ]
      },
      {
       "output_type": "stream",
       "stream": "stdout",
       "text": [
        "\n",
        "[-0.01367188 -0.05967078 -0.16706827 -0.22131783  0.02409639 -0.03420036]"
       ]
      },
      {
       "output_type": "stream",
       "stream": "stdout",
       "text": [
        "\n",
        "[-0.00587084 -0.0244898  -0.04031621 -0.10637066  0.06349206 -0.01361852]"
       ]
      },
      {
       "output_type": "stream",
       "stream": "stdout",
       "text": [
        "\n",
        "[ 0.         -0.00398406  0.06504854  0.09075547  0.11909263  0.00612853]"
       ]
      },
      {
       "output_type": "stream",
       "stream": "stdout",
       "text": [
        "\n",
        "[-0.00195312 -0.01167315  0.05744681  0.04896907  0.09270217  0.00574211]"
       ]
      },
      {
       "output_type": "stream",
       "stream": "stdout",
       "text": [
        "\n",
        "[-0.00413223 -0.03703704 -0.04168378 -0.14153226  0.04896422 -0.00762487]"
       ]
      },
      {
       "output_type": "stream",
       "stream": "stdout",
       "text": [
        "\n",
        "[-0.0019802  -0.03143418 -0.02778905 -0.09128257  0.05443548 -0.00249508]"
       ]
      },
      {
       "output_type": "stream",
       "stream": "stdout",
       "text": [
        "\n",
        "[-0.00420168 -0.03830645 -0.02631579 -0.11064257  0.03853955 -0.01323401]"
       ]
      },
      {
       "output_type": "stream",
       "stream": "stdout",
       "text": [
        "\n",
        "[-0.00201207 -0.00814664  0.03670886  0.01169772  0.0944206   0.01029983]"
       ]
      },
      {
       "output_type": "stream",
       "stream": "stdout",
       "text": [
        "\n",
        "[-0.00198807 -0.006       0.05906433  0.12684631  0.16216216  0.02005938]"
       ]
      },
      {
       "output_type": "stream",
       "stream": "stdout",
       "text": [
        "\n",
        "[ 0.         -0.01303538  0.05051546  0.11237219  0.14398422  0.01744867]"
       ]
      },
      {
       "output_type": "stream",
       "stream": "stdout",
       "text": [
        "\n",
        "[-0.00779727 -0.02321083  0.008      -0.08564356  0.05498982 -0.00541375]"
       ]
      },
      {
       "output_type": "stream",
       "stream": "stdout",
       "text": [
        "\n",
        "[-0.00813008 -0.01639344 -0.00377358 -0.10306122  0.04462475 -0.00799849]"
       ]
      },
      {
       "output_type": "stream",
       "stream": "stdout",
       "text": [
        "\n",
        "[-0.00414079 -0.03307393 -0.04723926 -0.13421053  0.04219409 -0.00974418]"
       ]
      },
      {
       "output_type": "stream",
       "stream": "stdout",
       "text": [
        "\n",
        "[ 0.         -0.02231237  0.01650099 -0.03350951  0.10721248  0.0014148 ]"
       ]
      },
      {
       "output_type": "stream",
       "stream": "stdout",
       "text": [
        "\n",
        "[-0.00398406 -0.02296451 -0.00472279 -0.08937622  0.05458515 -0.00506095]"
       ]
      },
      {
       "output_type": "stream",
       "stream": "stdout",
       "text": [
        "\n",
        "[-0.00412371 -0.00811359  0.02898273 -0.05        0.06949807 -0.00215238]"
       ]
      },
      {
       "output_type": "stream",
       "stream": "stdout",
       "text": [
        "\n",
        "[-0.00204499 -0.01197605  0.04057377  0.00454545  0.0662768  -0.00206148]"
       ]
      },
      {
       "output_type": "stream",
       "stream": "stdout",
       "text": [
        "\n",
        "[-0.00200803 -0.01859504  0.01563786 -0.00029586  0.06941432  0.00600087]"
       ]
      },
      {
       "output_type": "stream",
       "stream": "stdout",
       "text": [
        "\n",
        "[ 0.         -0.00986193  0.02528736 -0.01087824  0.10580913  0.0125607 ]"
       ]
      },
      {
       "output_type": "stream",
       "stream": "stdout",
       "text": [
        "\n",
        "[ 0.         -0.01209677  0.04117647  0.01718147  0.11134021  0.00789175]"
       ]
      },
      {
       "output_type": "stream",
       "stream": "stdout",
       "text": [
        "\n",
        "[ 0.         -0.01010101 -0.02273642 -0.07135922  0.06465517 -0.0028169 ]"
       ]
      },
      {
       "output_type": "stream",
       "stream": "stdout",
       "text": [
        "\n",
        "[ 0.         -0.00208768  0.05338983  0.05612245  0.08810573  0.00739538]"
       ]
      },
      {
       "output_type": "stream",
       "stream": "stdout",
       "text": [
        "\n",
        "[ 0.         -0.01626016  0.02678227 -0.07781186  0.06928839 -0.00338006]"
       ]
      },
      {
       "output_type": "stream",
       "stream": "stdout",
       "text": [
        "\n",
        "[-0.00200401 -0.01535509  0.05102041 -0.01275304  0.07272727  0.00292733]"
       ]
      },
      {
       "output_type": "stream",
       "stream": "stdout",
       "text": [
        "\n",
        "[-0.00746269 -0.01825558  0.0005848  -0.02464213  0.07302231  0.00249813]"
       ]
      },
      {
       "output_type": "stream",
       "stream": "stdout",
       "text": [
        "\n",
        "[ 0.         -0.01054852  0.01733871 -0.00976096  0.07936508  0.00714089]"
       ]
      },
      {
       "output_type": "stream",
       "stream": "stdout",
       "text": [
        "\n",
        "[-0.00389105 -0.02575107  0.01518738 -0.07955466  0.08793456 -0.00034586]"
       ]
      },
      {
       "output_type": "stream",
       "stream": "stdout",
       "text": [
        "\n",
        "[ 0.         -0.00994036 -0.00794297 -0.01761905  0.06786427 -0.00166387]"
       ]
      },
      {
       "output_type": "stream",
       "stream": "stdout",
       "text": [
        "\n",
        "[-0.00204499 -0.01596806  0.04594595  0.00379877  0.06547619  0.00742573]"
       ]
      },
      {
       "output_type": "stream",
       "stream": "stdout",
       "text": [
        "\n",
        "[-0.00412371 -0.01789264  0.02801556 -0.05995851  0.0661157   0.00499372]"
       ]
      },
      {
       "output_type": "stream",
       "stream": "stdout",
       "text": [
        "\n",
        "[-0.00204499 -0.01375246  0.02813142  0.02248577  0.0887574   0.003825  ]"
       ]
      },
      {
       "output_type": "stream",
       "stream": "stdout",
       "text": [
        "\n",
        "[-0.00380228 -0.01609658  0.0168357  -0.02202505  0.08333333  0.0041331 ]"
       ]
      },
      {
       "output_type": "stream",
       "stream": "stdout",
       "text": [
        "\n",
        "[ 0.         -0.0155642   0.01382766 -0.05479042  0.06415094  0.00123245]"
       ]
      },
      {
       "output_type": "stream",
       "stream": "stdout",
       "text": [
        "\n",
        "[-0.00423729 -0.01550388 -0.00080645 -0.03953722  0.08366534  0.00220228]"
       ]
      },
      {
       "output_type": "stream",
       "stream": "stdout",
       "text": [
        "\n",
        "[ 0.         -0.02380952  0.01097308 -0.07244898  0.06827309  0.00718374]"
       ]
      },
      {
       "output_type": "stream",
       "stream": "stdout",
       "text": [
        "\n",
        "[ 0.         -0.01926782  0.01812865 -0.06077844  0.08474576  0.00119239]"
       ]
      },
      {
       "output_type": "stream",
       "stream": "stdout",
       "text": [
        "\n",
        "[-0.00196464 -0.02074689  0.012      -0.04713701  0.07114625  0.00423174]"
       ]
      },
      {
       "output_type": "stream",
       "stream": "stdout",
       "text": [
        "\n",
        "[-0.00419287 -0.01844262 -0.01706349 -0.05334029  0.0583501  -0.00072287]"
       ]
      },
      {
       "output_type": "stream",
       "stream": "stdout",
       "text": [
        "\n",
        "[ -1.98412698e-03  -1.95312500e-02  -1.81262729e-02  -6.44329897e-02\n",
        "   6.83111954e-02   5.14489870e-05]"
       ]
      },
      {
       "output_type": "stream",
       "stream": "stdout",
       "text": [
        "\n",
        "[ 0.         -0.02148438  0.02842942 -0.06247637  0.05893536  0.00291347]"
       ]
      },
      {
       "output_type": "stream",
       "stream": "stdout",
       "text": [
        "\n",
        "[ 0.         -0.02008032 -0.01952191 -0.08116371  0.06288032  0.00056953]"
       ]
      },
      {
       "output_type": "stream",
       "stream": "stdout",
       "text": [
        "\n",
        "[-0.00188324 -0.01923077  0.01170431 -0.06649485  0.06019417  0.0015842 ]"
       ]
      },
      {
       "output_type": "stream",
       "stream": "stdout",
       "text": [
        "\n",
        "[ 0.         -0.02148438  0.01102515 -0.08582677  0.06813627  0.00101889]"
       ]
      },
      {
       "output_type": "stream",
       "stream": "stdout",
       "text": [
        "\n",
        "[-0.00188324 -0.02        0.02083333 -0.08488844  0.05283757  0.00122089]"
       ]
      },
      {
       "output_type": "stream",
       "stream": "stdout",
       "text": [
        "\n",
        "[-0.00595238 -0.01646091  0.0059501  -0.0777666   0.066      -0.00076725]"
       ]
      },
      {
       "output_type": "stream",
       "stream": "stdout",
       "text": [
        "\n",
        "[ 0.         -0.01214575 -0.0045082  -0.07874251  0.06932773  0.00069981]"
       ]
      },
      {
       "output_type": "stream",
       "stream": "stdout",
       "text": [
        "\n",
        "[-0.00203252 -0.01910828  0.00243902 -0.04882583  0.07243461  0.00125986]"
       ]
      },
      {
       "output_type": "stream",
       "stream": "stdout",
       "text": [
        "\n",
        "[ 0.         -0.01414141  0.01304348 -0.00066922  0.08413002  0.0012341 ]"
       ]
      },
      {
       "output_type": "stream",
       "stream": "stdout",
       "text": [
        "\n",
        "[-0.00200401 -0.01594533  0.026      -0.06020408  0.08333333  0.0020699 ]"
       ]
      },
      {
       "output_type": "stream",
       "stream": "stdout",
       "text": [
        "\n",
        "[-0.00416667 -0.00814664  0.004      -0.06181435  0.06134969  0.0009298 ]"
       ]
      },
      {
       "output_type": "stream",
       "stream": "stdout",
       "text": [
        "\n",
        "[-0.00194553 -0.01886792 -0.00629921 -0.06188119  0.05823293  0.00095166]"
       ]
      },
      {
       "output_type": "stream",
       "stream": "stdout",
       "text": [
        "\n",
        "[-0.00413223 -0.01757812 -0.00379242 -0.06758242  0.06679764  0.00028251]"
       ]
      },
      {
       "output_type": "stream",
       "stream": "stdout",
       "text": [
        "\n",
        "[ 0.         -0.02424242  0.00486258 -0.04504132  0.06060606  0.00122395]"
       ]
      },
      {
       "output_type": "stream",
       "stream": "stdout",
       "text": [
        "\n",
        "[-0.00982318 -0.01380671  0.00751445 -0.04207921  0.0661157  -0.0004024 ]"
       ]
      },
      {
       "output_type": "stream",
       "stream": "stdout",
       "text": [
        "\n",
        "Optimization terminated successfully.\n",
        "         Current function value: 0.005081\n",
        "         Iterations: 25\n",
        "         Function evaluations: 60\n",
        "[ -1.98412698e-03  -1.76817289e-02  -1.41199226e-02  -7.87425150e-02\n",
        "   5.97938144e-02   1.64218411e-05]"
       ]
      },
      {
       "output_type": "stream",
       "stream": "stdout",
       "text": [
        "\n",
        "[ 0.          0.03938429  0.02706334 -0.00392157  0.1242236   0.00424703]"
       ]
      },
      {
       "output_type": "stream",
       "stream": "stdout",
       "text": [
        "\n",
        "[-0.0020284   0.04389002  0.03439364  0.01260504  0.14095238  0.00503312]"
       ]
      },
      {
       "output_type": "stream",
       "stream": "stdout",
       "text": [
        "\n",
        "[ 0.          0.0461165   0.05918367  0.15        0.26262626  0.02922674]"
       ]
      },
      {
       "output_type": "stream",
       "stream": "stdout",
       "text": [
        "\n",
        "[-0.00616016  0.03308668 -0.00953347 -0.12068966  0.05823293 -0.01048364]"
       ]
      },
      {
       "output_type": "stream",
       "stream": "stdout",
       "text": [
        "\n",
        "[ 0.          0.03627451  0.01365462 -0.02        0.11340206  0.00387048]"
       ]
      },
      {
       "output_type": "stream",
       "stream": "stdout",
       "text": [
        "\n",
        "[-0.00790514 -0.00513308 -0.0369863  -0.20841487  0.05954825 -0.00857422]"
       ]
      },
      {
       "output_type": "stream",
       "stream": "stdout",
       "text": [
        "\n",
        "[-0.00821355 -0.00811623 -0.15730994 -0.28757515  0.01897533 -0.03709378]"
       ]
      },
      {
       "output_type": "stream",
       "stream": "stdout",
       "text": [
        "\n",
        "[ 0.          0.03602794  0.06245059  0.07965451  0.12022901  0.01792734]"
       ]
      },
      {
       "output_type": "stream",
       "stream": "stdout",
       "text": [
        "\n",
        "[-0.00188679  0.04593496  0.07727273  0.15125241  0.17721519  0.01484485]"
       ]
      },
      {
       "output_type": "stream",
       "stream": "stdout",
       "text": [
        "\n",
        "[-0.00604839  0.01793587 -0.03513514 -0.12195122  0.09055118 -0.00123368]"
       ]
      },
      {
       "output_type": "stream",
       "stream": "stdout",
       "text": [
        "\n",
        "[-0.00195312  0.01491228 -0.01729622 -0.16202783  0.04637097 -0.01462128]"
       ]
      },
      {
       "output_type": "stream",
       "stream": "stdout",
       "text": [
        "\n",
        "[ 0.          0.04023438  0.02678227 -0.01581028  0.12138728  0.0087578 ]"
       ]
      },
      {
       "output_type": "stream",
       "stream": "stdout",
       "text": [
        "\n",
        "[ 0.          0.04198397  0.05533981  0.02173913  0.11614173  0.00680583]"
       ]
      },
      {
       "output_type": "stream",
       "stream": "stdout",
       "text": [
        "\n",
        "[-0.00411523  0.026      -0.0369863  -0.08560311  0.06776181 -0.00151356]"
       ]
      },
      {
       "output_type": "stream",
       "stream": "stdout",
       "text": [
        "\n",
        "[-0.00833333  0.00429616 -0.03827655 -0.17382812  0.06288032 -0.00167446]"
       ]
      },
      {
       "output_type": "stream",
       "stream": "stdout",
       "text": [
        "\n",
        "[-0.00196078  0.04204771  0.06502058  0.1045082   0.18604651  0.01809   ]"
       ]
      },
      {
       "output_type": "stream",
       "stream": "stdout",
       "text": [
        "\n",
        "[ 0.          0.02379032  0.00120968 -0.10294118  0.06275304 -0.00202886]"
       ]
      },
      {
       "output_type": "stream",
       "stream": "stdout",
       "text": [
        "\n",
        "[-0.00398406  0.01923077 -0.0369863  -0.17178503  0.07058824 -0.00094806]"
       ]
      },
      {
       "output_type": "stream",
       "stream": "stdout",
       "text": [
        "\n",
        "[-0.00210526  0.03947368  0.0447619  -0.05928854  0.11368421  0.00479147]"
       ]
      },
      {
       "output_type": "stream",
       "stream": "stdout",
       "text": [
        "\n",
        "[-0.00409836  0.0335729   0.01614256 -0.03638254  0.11808118  0.00299032]"
       ]
      },
      {
       "output_type": "stream",
       "stream": "stdout",
       "text": [
        "\n",
        "[-0.00804829  0.03046875  0.01702128 -0.12745098  0.06849315 -0.00050318]"
       ]
      },
      {
       "output_type": "stream",
       "stream": "stdout",
       "text": [
        "\n",
        "[-0.00194175  0.01911197  0.02045455 -0.07114228  0.10119048  0.00354318]"
       ]
      },
      {
       "output_type": "stream",
       "stream": "stdout",
       "text": [
        "\n",
        "[ 0.          0.03174442  0.00872211 -0.09363296  0.08997955  0.00243423]"
       ]
      },
      {
       "output_type": "stream",
       "stream": "stdout",
       "text": [
        "\n",
        "[ 0.          0.03087954  0.01743119 -0.03638254  0.09055118  0.00397748]"
       ]
      },
      {
       "output_type": "stream",
       "stream": "stdout",
       "text": [
        "\n",
        "[ 0.          0.02843137  0.01891892 -0.04677755  0.12348178  0.0062474 ]"
       ]
      },
      {
       "output_type": "stream",
       "stream": "stdout",
       "text": [
        "\n",
        "[-0.00389864  0.03809524  0.0287169  -0.08502024  0.11608961  0.00522047]"
       ]
      },
      {
       "output_type": "stream",
       "stream": "stdout",
       "text": [
        "\n",
        "[ 0.          0.04585921  0.00674603 -0.12927757  0.08282828  0.00227902]"
       ]
      },
      {
       "output_type": "stream",
       "stream": "stdout",
       "text": [
        "\n",
        "[ 0.          0.03117155  0.03839836 -0.05397149  0.07604563  0.00575848]"
       ]
      },
      {
       "output_type": "stream",
       "stream": "stdout",
       "text": [
        "\n",
        "[-0.00198807  0.0313278   0.03995859 -0.06653226  0.12284069  0.00323054]"
       ]
      },
      {
       "output_type": "stream",
       "stream": "stdout",
       "text": [
        "\n",
        "[-0.00410678  0.04601594 -0.00159363 -0.04929577  0.11218569  0.00412466]"
       ]
      },
      {
       "output_type": "stream",
       "stream": "stdout",
       "text": [
        "\n",
        "[-0.00194175  0.036       0.01231733 -0.08799172  0.08730159  0.00076765]"
       ]
      },
      {
       "output_type": "stream",
       "stream": "stdout",
       "text": [
        "\n",
        "[-0.00205339  0.04        0.04274029 -0.00612245  0.12295082  0.00515614]"
       ]
      },
      {
       "output_type": "stream",
       "stream": "stdout",
       "text": [
        "\n",
        "[-0.00199601  0.03989899  0.00729783 -0.01552795  0.12896406  0.00541361]"
       ]
      },
      {
       "output_type": "stream",
       "stream": "stdout",
       "text": [
        "\n",
        "[-0.00213675  0.04207921 -0.00772358 -0.05602537  0.07884615  0.00301365]"
       ]
      },
      {
       "output_type": "stream",
       "stream": "stdout",
       "text": [
        "\n",
        "[-0.00564972  0.03804781  0.04078947 -0.08789062  0.09683794  0.00196119]"
       ]
      },
      {
       "output_type": "stream",
       "stream": "stdout",
       "text": [
        "\n",
        "[-0.0019685   0.03760331  0.03963783 -0.04059406  0.09736308  0.0039831 ]"
       ]
      },
      {
       "output_type": "stream",
       "stream": "stdout",
       "text": [
        "\n",
        "[-0.00193424  0.03591549  0.01633466 -0.0639413   0.08817635  0.00155213]"
       ]
      },
      {
       "output_type": "stream",
       "stream": "stdout",
       "text": [
        "\n",
        "[-0.00197628  0.034375    0.0245283  -0.00790514  0.08481262  0.00520548]"
       ]
      },
      {
       "output_type": "stream",
       "stream": "stdout",
       "text": [
        "\n",
        "[-0.00392157  0.0460396   0.04071146 -0.00909091  0.13709677  0.00599198]"
       ]
      },
      {
       "output_type": "stream",
       "stream": "stdout",
       "text": [
        "\n",
        "[ 0.          0.0289675   0.0254902  -0.02610442  0.09722222  0.00550842]"
       ]
      },
      {
       "output_type": "stream",
       "stream": "stdout",
       "text": [
        "\n",
        "[-0.00414079  0.02864078  0.04499018 -0.05864811  0.10323887  0.00427784]"
       ]
      },
      {
       "output_type": "stream",
       "stream": "stdout",
       "text": [
        "\n",
        "[-0.00603622  0.03611111  0.02975207 -0.01515152  0.08553971  0.00305302]"
       ]
      },
      {
       "output_type": "stream",
       "stream": "stdout",
       "text": [
        "\n",
        "Optimization terminated successfully.\n",
        "         Current function value: 0.009070\n",
        "         Iterations: 17\n",
        "         Function evaluations: 42\n",
        "[ 0.          0.03818898  0.04188377  0.00099404  0.11715481  0.00579276]"
       ]
      },
      {
       "output_type": "stream",
       "stream": "stdout",
       "text": [
        "\n",
        "[-0.00571429 -0.01584158 -0.0610998  -0.2380117   0.13717694 -0.01225443]"
       ]
      },
      {
       "output_type": "stream",
       "stream": "stdout",
       "text": [
        "\n",
        "[ 0.         -0.00816327 -0.04809619 -0.18692153  0.15354331 -0.01244646]"
       ]
      },
      {
       "output_type": "stream",
       "stream": "stdout",
       "text": [
        "\n",
        "[ 0.         -0.00194553 -0.0349076  -0.00891089  0.25352113  0.01478378]"
       ]
      },
      {
       "output_type": "stream",
       "stream": "stdout",
       "text": [
        "\n",
        "[-0.00603622 -0.03144654 -0.10887097 -0.33372093  0.06288032 -0.02640366]"
       ]
      },
      {
       "output_type": "stream",
       "stream": "stdout",
       "text": [
        "\n",
        "[ 0.         -0.01443299 -0.08163265 -0.24951456  0.1074856  -0.01307693]"
       ]
      },
      {
       "output_type": "stream",
       "stream": "stdout",
       "text": [
        "\n",
        "[-0.00626305 -0.05283757 -0.17671518 -0.40378151  0.04752475 -0.02584047]"
       ]
      },
      {
       "output_type": "stream",
       "stream": "stdout",
       "text": [
        "\n",
        "[ 0.         -0.0019802  -0.01840491  0.0027027   0.203125    0.00538767]"
       ]
      },
      {
       "output_type": "stream",
       "stream": "stdout",
       "text": [
        "\n",
        "[ 0.          0.         -0.00630252  0.10885312  0.35396518  0.01633616]"
       ]
      },
      {
       "output_type": "stream",
       "stream": "stdout",
       "text": [
        "\n",
        "[ 0.         -0.00408998 -0.01414141  0.08873239  0.36798337  0.01617251]"
       ]
      },
      {
       "output_type": "stream",
       "stream": "stdout",
       "text": [
        "\n",
        "[-0.00396825 -0.00823045 -0.05576923 -0.2233463   0.10392157 -0.01406051]"
       ]
      },
      {
       "output_type": "stream",
       "stream": "stdout",
       "text": [
        "\n",
        "[ 0.         -0.00196078 -0.01893939 -0.02644628  0.20158103  0.00479732]"
       ]
      },
      {
       "output_type": "stream",
       "stream": "stdout",
       "text": [
        "\n",
        "[-0.00190476 -0.00204499 -0.01984127  0.01084337  0.250501    0.01071494]"
       ]
      },
      {
       "output_type": "stream",
       "stream": "stdout",
       "text": [
        "\n",
        "[ 0.         -0.00643777 -0.03870968 -0.1497992   0.11798839 -0.01738571]"
       ]
      },
      {
       "output_type": "stream",
       "stream": "stdout",
       "text": [
        "\n",
        "[-0.00199203 -0.00625    -0.03512397 -0.20474383  0.07572816 -0.03580673]"
       ]
      },
      {
       "output_type": "stream",
       "stream": "stdout",
       "text": [
        "\n",
        "[ 0.         -0.00202429 -0.00811359  0.06008065  0.29460581  0.01094917]"
       ]
      },
      {
       "output_type": "stream",
       "stream": "stdout",
       "text": [
        "\n",
        "[ 0.         -0.00614754 -0.04448743 -0.15224172  0.13714286 -0.0100677 ]"
       ]
      },
      {
       "output_type": "stream",
       "stream": "stdout",
       "text": [
        "\n",
        "[-0.00199203 -0.00785855 -0.07708333 -0.23688525  0.08997955 -0.02351351]"
       ]
      },
      {
       "output_type": "stream",
       "stream": "stdout",
       "text": [
        "\n",
        "[ 0.          0.         -0.02294455 -0.05826772  0.20272904  0.0040467 ]"
       ]
      },
      {
       "output_type": "stream",
       "stream": "stdout",
       "text": [
        "\n",
        "[ 0.          0.         -0.00801603 -0.04482759  0.20582878  0.0057796 ]"
       ]
      },
      {
       "output_type": "stream",
       "stream": "stdout",
       "text": [
        "\n",
        "[-0.00203252 -0.00408998 -0.02857143 -0.1148728   0.18252427 -0.00705371]"
       ]
      },
      {
       "output_type": "stream",
       "stream": "stdout",
       "text": [
        "\n",
        "[ 0.         -0.00203666 -0.02912621 -0.0562753   0.17964072  0.00028415]"
       ]
      },
      {
       "output_type": "stream",
       "stream": "stdout",
       "text": [
        "\n",
        "[ 0.         -0.00803213 -0.04528302 -0.15491803  0.12997904 -0.0118299 ]"
       ]
      },
      {
       "output_type": "stream",
       "stream": "stdout",
       "text": [
        "\n",
        "[ 0.         -0.00584795 -0.01276596  0.00333988  0.18982387 -0.00100373]"
       ]
      },
      {
       "output_type": "stream",
       "stream": "stdout",
       "text": [
        "\n",
        "[ 0.          0.         -0.01214575  0.06748582  0.25490196  0.00301529]"
       ]
      },
      {
       "output_type": "stream",
       "stream": "stdout",
       "text": [
        "\n",
        "[ 0.          0.         -0.00806452  0.04034335  0.25        0.00993102]"
       ]
      },
      {
       "output_type": "stream",
       "stream": "stdout",
       "text": [
        "\n",
        "[ 0.         -0.00814664 -0.02636917 -0.10534979  0.12024048 -0.00666349]"
       ]
      },
      {
       "output_type": "stream",
       "stream": "stdout",
       "text": [
        "\n",
        "[ 0.         -0.0019802  -0.04255319 -0.07398374  0.14078675 -0.01408414]"
       ]
      },
      {
       "output_type": "stream",
       "stream": "stdout",
       "text": [
        "\n",
        "[ 0.         -0.00189394 -0.03018868 -0.18023715  0.11764706 -0.02157787]"
       ]
      },
      {
       "output_type": "stream",
       "stream": "stdout",
       "text": [
        "\n",
        "[ 0.         -0.00379507 -0.03125    -0.04108527  0.19126819 -0.00120255]"
       ]
      },
      {
       "output_type": "stream",
       "stream": "stdout",
       "text": [
        "\n",
        "[ 0.         -0.00199601 -0.02173913 -0.14333996  0.14035088 -0.01182282]"
       ]
      },
      {
       "output_type": "stream",
       "stream": "stdout",
       "text": [
        "\n",
        "[ 0.         -0.00585938 -0.01012146 -0.08342967  0.17418033 -0.00303177]"
       ]
      },
      {
       "output_type": "stream",
       "stream": "stdout",
       "text": [
        "\n",
        "[-0.0019084  -0.00204918 -0.01388889 -0.01853282  0.2754491   0.00607629]"
       ]
      },
      {
       "output_type": "stream",
       "stream": "stdout",
       "text": [
        "\n",
        "[ 0.          0.         -0.02988048 -0.12040816  0.15163934 -0.0110771 ]"
       ]
      },
      {
       "output_type": "stream",
       "stream": "stdout",
       "text": [
        "\n",
        "[ 0.         -0.00395257 -0.03006012 -0.06947791  0.14851485 -0.00868434]"
       ]
      },
      {
       "output_type": "stream",
       "stream": "stdout",
       "text": [
        "\n",
        "[ 0.          0.         -0.03402647 -0.08095238  0.16424116 -0.00306198]"
       ]
      },
      {
       "output_type": "stream",
       "stream": "stdout",
       "text": [
        "\n",
        "[ 0.         -0.00391389 -0.02941176 -0.05860656  0.16565657 -0.00210452]"
       ]
      },
      {
       "output_type": "stream",
       "stream": "stdout",
       "text": [
        "\n",
        "[ 0.         -0.00392927 -0.0256917  -0.11473684  0.19498069 -0.00353388]"
       ]
      },
      {
       "output_type": "stream",
       "stream": "stdout",
       "text": [
        "\n",
        "[ 0.          0.         -0.02357564 -0.13421053  0.13263158 -0.01166734]"
       ]
      },
      {
       "output_type": "stream",
       "stream": "stdout",
       "text": [
        "\n",
        "[ 0.         -0.0059761  -0.03225806 -0.09494163  0.13114754 -0.00962944]"
       ]
      },
      {
       "output_type": "stream",
       "stream": "stdout",
       "text": [
        "\n",
        "[-0.002079   -0.00814664 -0.0260521  -0.0706721   0.20675105 -0.00029202]"
       ]
      },
      {
       "output_type": "stream",
       "stream": "stdout",
       "text": [
        "\n",
        "[ 0.         -0.00610998 -0.03131115 -0.11942149  0.14031621 -0.00880542]"
       ]
      },
      {
       "output_type": "stream",
       "stream": "stdout",
       "text": [
        "\n",
        "[-0.00587084 -0.00197239 -0.02988048 -0.08910506  0.2        -0.00170335]"
       ]
      },
      {
       "output_type": "stream",
       "stream": "stdout",
       "text": [
        "\n",
        "[ 0.         -0.00201613 -0.00990099 -0.04541578  0.16666667 -0.00667562]"
       ]
      },
      {
       "output_type": "stream",
       "stream": "stdout",
       "text": [
        "\n",
        "[ 0.          0.         -0.03976143 -0.14223108  0.12548263 -0.00869971]"
       ]
      },
      {
       "output_type": "stream",
       "stream": "stdout",
       "text": [
        "\n",
        "[ 0.          0.         -0.02631579 -0.08123752  0.16875    -0.00396229]"
       ]
      },
      {
       "output_type": "stream",
       "stream": "stdout",
       "text": [
        "\n",
        "[-0.00192678 -0.00998004 -0.0331384  -0.11547862  0.15163148 -0.00850752]"
       ]
      },
      {
       "output_type": "stream",
       "stream": "stdout",
       "text": [
        "\n",
        "[ 0.         -0.00400802 -0.02004008 -0.13763214  0.15414258 -0.00816522]"
       ]
      },
      {
       "output_type": "stream",
       "stream": "stdout",
       "text": [
        "\n",
        "[-0.00197239 -0.00393701 -0.02725367 -0.12190669  0.18125    -0.00658369]"
       ]
      },
      {
       "output_type": "stream",
       "stream": "stdout",
       "text": [
        "\n",
        "[-0.00203666 -0.00992063 -0.02713987 -0.13512974  0.14872798 -0.0035114 ]"
       ]
      },
      {
       "output_type": "stream",
       "stream": "stdout",
       "text": [
        "\n",
        "[ 0.         -0.00610998 -0.03629032 -0.13117409  0.18590998 -0.00735287]"
       ]
      },
      {
       "output_type": "stream",
       "stream": "stdout",
       "text": [
        "\n",
        "Optimization terminated successfully.\n",
        "         Current function value: 0.026362\n",
        "         Iterations: 21\n",
        "         Function evaluations: 50\n",
        "[ 0.         -0.00970874 -0.04042553 -0.11619586  0.1611002  -0.0079156 ]"
       ]
      },
      {
       "output_type": "stream",
       "stream": "stdout",
       "text": [
        "\n",
        "[-0.00204918  0.03467433  0.08909627  0.13571429  0.03514851  0.00375313]"
       ]
      },
      {
       "output_type": "stream",
       "stream": "stdout",
       "text": [
        "\n",
        "[-0.00203666  0.04395161  0.10126706  0.19453441  0.09087302  0.00516063]"
       ]
      },
      {
       "output_type": "stream",
       "stream": "stdout",
       "text": [
        "\n",
        "[-0.00381679  0.04800399  0.12341513  0.32878788  0.18921569  0.03279154]"
       ]
      },
      {
       "output_type": "stream",
       "stream": "stdout",
       "text": [
        "\n",
        "[ 0.          0.026       0.03187373 -0.05043103 -0.00791583 -0.00798741]"
       ]
      },
      {
       "output_type": "stream",
       "stream": "stdout",
       "text": [
        "\n",
        "[-0.00208768  0.03757764  0.07277992  0.11534653  0.08752456  0.00468334]"
       ]
      },
      {
       "output_type": "stream",
       "stream": "stdout",
       "text": [
        "\n",
        "[-0.01247401  0.00608782 -0.0389117  -0.03322981  0.01818182 -0.00859649]"
       ]
      },
      {
       "output_type": "stream",
       "stream": "stdout",
       "text": [
        "\n",
        "[-0.02195609 -0.01573705 -0.11242545 -0.14439252 -0.02705545 -0.03651295]"
       ]
      },
      {
       "output_type": "stream",
       "stream": "stdout",
       "text": [
        "\n",
        "[-0.018      -0.02070707 -0.10341131 -0.1297271  -0.01463654 -0.02122085]"
       ]
      },
      {
       "output_type": "stream",
       "stream": "stdout",
       "text": [
        "\n",
        "[ 0.          0.03752599  0.08548387  0.18648915  0.10576923  0.02259218]"
       ]
      },
      {
       "output_type": "stream",
       "stream": "stdout",
       "text": [
        "\n",
        "[-0.00591716  0.00731707 -0.01770186 -0.04921875 -0.01987952 -0.01932678]"
       ]
      },
      {
       "output_type": "stream",
       "stream": "stdout",
       "text": [
        "\n",
        "[-0.00199601  0.04233716  0.1182243   0.1890625   0.13363273  0.01140356]"
       ]
      },
      {
       "output_type": "stream",
       "stream": "stdout",
       "text": [
        "\n",
        "[-0.00984252  0.00303327 -0.01732283 -0.08076923 -0.00275591 -0.01383204]"
       ]
      },
      {
       "output_type": "stream",
       "stream": "stdout",
       "text": [
        "\n",
        "[-0.01434426 -0.00747126 -0.06881391 -0.12038627 -0.03347107 -0.02512372]"
       ]
      },
      {
       "output_type": "stream",
       "stream": "stdout",
       "text": [
        "\n",
        "[-0.01912046 -0.03414873 -0.18133733 -0.19830339 -0.04168399 -0.03456941]"
       ]
      },
      {
       "output_type": "stream",
       "stream": "stdout",
       "text": [
        "\n",
        "[-0.0018797   0.00876289  0.04189189  0.00166994  0.03       -0.00293017]"
       ]
      },
      {
       "output_type": "stream",
       "stream": "stdout",
       "text": [
        "\n",
        "[-0.00194553  0.04230769  0.07687747  0.09918699  0.05580913  0.00287119]"
       ]
      },
      {
       "output_type": "stream",
       "stream": "stdout",
       "text": [
        "\n",
        "[-0.00764818  0.02654584  0.01788618  0.09421488  0.01693712 -0.00337972]"
       ]
      },
      {
       "output_type": "stream",
       "stream": "stdout",
       "text": [
        "\n",
        "[-0.00954198  0.00490196 -0.04960861 -0.06138211 -0.00652174 -0.01800382]"
       ]
      },
      {
       "output_type": "stream",
       "stream": "stdout",
       "text": [
        "\n",
        "[-0.0056926   0.02046414  0.03353414 -0.02545639  0.00587669 -0.0106966 ]"
       ]
      },
      {
       "output_type": "stream",
       "stream": "stdout",
       "text": [
        "\n",
        "[-0.0040404   0.03031496  0.03381743  0.04648438  0.03510638 -0.00769228]"
       ]
      },
      {
       "output_type": "stream",
       "stream": "stdout",
       "text": [
        "\n",
        "[-0.0039604   0.02740113  0.05342052  0.02884615  0.03995816 -0.00140167]"
       ]
      },
      {
       "output_type": "stream",
       "stream": "stdout",
       "text": [
        "\n",
        "[-0.00604839  0.02205589  0.03577154  0.02937743  0.03216433 -0.00711664]"
       ]
      },
      {
       "output_type": "stream",
       "stream": "stdout",
       "text": [
        "\n",
        "[-0.01185771 -0.00927342 -0.05039683 -0.06868583  0.04033613 -0.01079686]"
       ]
      },
      {
       "output_type": "stream",
       "stream": "stdout",
       "text": [
        "\n",
        "[-0.00211864  0.02473684  0.01587771  0.0015625  -0.00247934 -0.0085392 ]"
       ]
      },
      {
       "output_type": "stream",
       "stream": "stdout",
       "text": [
        "\n",
        "[-0.00425532  0.0167319  -0.00789474 -0.07049689 -0.00501022 -0.0133016 ]"
       ]
      },
      {
       "output_type": "stream",
       "stream": "stdout",
       "text": [
        "\n",
        "[-0.01147228  0.01537678  0.04591837 -0.00731463  0.00737705 -0.00835913]"
       ]
      },
      {
       "output_type": "stream",
       "stream": "stdout",
       "text": [
        "\n",
        "[-0.006       0.0289916   0.05689013  0.06472868  0.05079051  0.00351729]"
       ]
      },
      {
       "output_type": "stream",
       "stream": "stdout",
       "text": [
        "\n",
        "[-0.01195219  0.01850394 -0.01334661 -0.04860279 -0.00437262 -0.01420175]"
       ]
      },
      {
       "output_type": "stream",
       "stream": "stdout",
       "text": [
        "\n",
        "[-0.00754717  0.03174442  0.02959184  0.02009346  0.042       0.00021402]"
       ]
      },
      {
       "output_type": "stream",
       "stream": "stdout",
       "text": [
        "\n",
        "[-0.00824742  0.01047431  0.00282258 -0.02342799  0.01589147 -0.01016819]"
       ]
      },
      {
       "output_type": "stream",
       "stream": "stdout",
       "text": [
        "\n",
        "[-0.00409836  0.02868217  0.05421456  0.04227642  0.03183633 -0.01122661]"
       ]
      },
      {
       "output_type": "stream",
       "stream": "stdout",
       "text": [
        "\n",
        "[-0.0059761   0.01593186 -0.00226337 -0.06830986  0.00928854 -0.00774993]"
       ]
      },
      {
       "output_type": "stream",
       "stream": "stdout",
       "text": [
        "\n",
        "[-0.00192308  0.00959596  0.02747036  0.01456212  0.00482042 -0.00923378]"
       ]
      },
      {
       "output_type": "stream",
       "stream": "stdout",
       "text": [
        "\n",
        "[-0.00203252  0.02194389  0.01065574  0.0031746   0.012      -0.00962052]"
       ]
      },
      {
       "output_type": "stream",
       "stream": "stdout",
       "text": [
        "\n",
        "[-0.00200401  0.02333333  0.01278586 -0.01736842  0.005666   -0.00859953]"
       ]
      },
      {
       "output_type": "stream",
       "stream": "stdout",
       "text": [
        "\n",
        "[-0.00596421  0.03163265  0.03271605  0.0082996   0.01591337 -0.00689341]"
       ]
      },
      {
       "output_type": "stream",
       "stream": "stdout",
       "text": [
        "\n",
        "[-0.00384615  0.01767677  0.01626747 -0.00922921  0.00818966 -0.00792151]"
       ]
      },
      {
       "output_type": "stream",
       "stream": "stdout",
       "text": [
        "\n",
        "[-0.00580271  0.02920998  0.01721992 -0.06183206 -0.00884774 -0.00993616]"
       ]
      },
      {
       "output_type": "stream",
       "stream": "stdout",
       "text": [
        "\n",
        "[-0.0040404   0.03181818  0.01172345 -0.00560166  0.01679764 -0.00826381]"
       ]
      },
      {
       "output_type": "stream",
       "stream": "stdout",
       "text": [
        "\n",
        "[-0.00196464  0.01544715  0.01178862 -0.06084337 -0.00210728 -0.00910318]"
       ]
      },
      {
       "output_type": "stream",
       "stream": "stdout",
       "text": [
        "\n",
        "[-0.00583658  0.01856582  0.03178295  0.00458167  0.01952965 -0.01010855]"
       ]
      },
      {
       "output_type": "stream",
       "stream": "stdout",
       "text": [
        "\n",
        "[ 0.          0.01831683 -0.02274472  0.01895161  0.01326531 -0.00844987]"
       ]
      },
      {
       "output_type": "stream",
       "stream": "stdout",
       "text": [
        "\n",
        "[-0.00840336  0.01177062  0.0108137  -0.01122449  0.01601942 -0.00743258]"
       ]
      },
      {
       "output_type": "stream",
       "stream": "stdout",
       "text": [
        "\n",
        "[-0.00582524  0.02222222  0.02321063 -0.04005848  0.00294118 -0.00735766]"
       ]
      },
      {
       "output_type": "stream",
       "stream": "stdout",
       "text": [
        "\n",
        "[ 0.          0.01767677  0.00084034 -0.03336673  0.00510204 -0.00746402]"
       ]
      },
      {
       "output_type": "stream",
       "stream": "stdout",
       "text": [
        "\n",
        "[-0.00407332  0.02703549  0.0240458   0.01458333  0.01932773 -0.0082014 ]"
       ]
      },
      {
       "output_type": "stream",
       "stream": "stdout",
       "text": [
        "\n",
        "[-0.00395257  0.01957404  0.02523992 -0.01304348  0.00498982 -0.00802123]"
       ]
      },
      {
       "output_type": "stream",
       "stream": "stdout",
       "text": [
        "\n",
        "[-0.00598802  0.0034413   0.02872763 -0.00753425  0.00434783 -0.01038421]"
       ]
      },
      {
       "output_type": "stream",
       "stream": "stdout",
       "text": [
        "\n",
        "[ -5.82524272e-03   2.73195876e-02   3.58267717e-02  -2.14579055e-02\n",
        "  -9.59692898e-05  -8.88729442e-03]"
       ]
      },
      {
       "output_type": "stream",
       "stream": "stdout",
       "text": [
        "\n",
        "[-0.00819672  0.02717842  0.02142857 -0.06705426 -0.00066414 -0.00855402]"
       ]
      },
      {
       "output_type": "stream",
       "stream": "stdout",
       "text": [
        "\n",
        "[-0.00612245  0.02341513  0.0108871   0.02881874 -0.00031056 -0.00722543]"
       ]
      },
      {
       "output_type": "stream",
       "stream": "stdout",
       "text": [
        "\n",
        "[-0.00863931  0.01408318 -0.00810277 -0.00882353  0.02201646 -0.00709645]"
       ]
      },
      {
       "output_type": "stream",
       "stream": "stdout",
       "text": [
        "\n",
        "[-0.00408998  0.02035573 -0.0003006  -0.03635438  0.0255102  -0.00767744]"
       ]
      },
      {
       "output_type": "stream",
       "stream": "stdout",
       "text": [
        "\n",
        "[-0.00574713  0.02053045  0.024       0.01518047  0.00333333 -0.00815131]"
       ]
      },
      {
       "output_type": "stream",
       "stream": "stdout",
       "text": [
        "\n",
        "[-0.00411523  0.01392786  0.01335404 -0.02080745  0.02039337 -0.00837978]"
       ]
      },
      {
       "output_type": "stream",
       "stream": "stdout",
       "text": [
        "\n",
        "Optimization terminated successfully.\n",
        "         Current function value: 0.000764\n",
        "         Iterations: 21\n",
        "         Function evaluations: 55\n",
        "[-0.00434783  0.00769231  0.04959839 -0.04625247  0.0125     -0.00940123]"
       ]
      },
      {
       "output_type": "stream",
       "stream": "stdout",
       "text": [
        "\n",
        "[-0.00202429 -0.01606426  0.0049505   0.08185484  0.0832008  -0.00678225]"
       ]
      },
      {
       "output_type": "stream",
       "stream": "stdout",
       "text": [
        "\n",
        "[ 0.         -0.00210084  0.03865031  0.12894212  0.08125    -0.0075844 ]"
       ]
      },
      {
       "output_type": "stream",
       "stream": "stdout",
       "text": [
        "\n",
        "[ 0.         -0.00205761  0.07991968  0.25553236  0.20141777  0.01816485]"
       ]
      },
      {
       "output_type": "stream",
       "stream": "stdout",
       "text": [
        "\n",
        "[-0.00407332 -0.02584493 -0.01954459 -0.07793241  0.00555556 -0.02182075]"
       ]
      },
      {
       "output_type": "stream",
       "stream": "stdout",
       "text": [
        "\n",
        "[-0.00749064 -0.0155642  -0.0003861   0.01632653  0.04338521 -0.00838886]"
       ]
      },
      {
       "output_type": "stream",
       "stream": "stdout",
       "text": [
        "\n",
        "[ 0.         -0.05679513 -0.06826004 -0.08642447  0.03365759 -0.02021271]"
       ]
      },
      {
       "output_type": "stream",
       "stream": "stdout",
       "text": [
        "\n",
        "[-0.00632911 -0.05353319 -0.16785714 -0.18085106 -0.03185484 -0.04965192]"
       ]
      },
      {
       "output_type": "stream",
       "stream": "stdout",
       "text": [
        "\n",
        "[-0.00210084 -0.02471483 -0.06981132 -0.10340681 -0.00173745 -0.03059123]"
       ]
      },
      {
       "output_type": "stream",
       "stream": "stdout",
       "text": [
        "\n",
        "[-0.01158301 -0.07086614 -0.0934236  -0.1061144  -0.02609562 -0.02832106]"
       ]
      },
      {
       "output_type": "stream",
       "stream": "stdout",
       "text": [
        "\n",
        "[ 0.         -0.01622718 -0.00114504  0.03844492  0.04127789 -0.01249092]"
       ]
      },
      {
       "output_type": "stream",
       "stream": "stdout",
       "text": [
        "\n",
        "[ 0.         -0.01171875  0.04528302  0.09689441  0.0890593   0.00232248]"
       ]
      },
      {
       "output_type": "stream",
       "stream": "stdout",
       "text": [
        "\n",
        "[-0.00403226 -0.02988048 -0.01811024 -0.02962963  0.02942974 -0.02218428]"
       ]
      },
      {
       "output_type": "stream",
       "stream": "stdout",
       "text": [
        "\n",
        "[ 0.         -0.01022495  0.05541401  0.10294695  0.07449799 -0.00867782]"
       ]
      },
      {
       "output_type": "stream",
       "stream": "stdout",
       "text": [
        "\n",
        "[-0.00410678 -0.02811245 -0.03877551  0.00778689  0.00152672 -0.01685119]"
       ]
      },
      {
       "output_type": "stream",
       "stream": "stdout",
       "text": [
        "\n",
        "[-0.00218818 -0.03195489 -0.02863071 -0.07258383  0.00172414 -0.02555248]"
       ]
      },
      {
       "output_type": "stream",
       "stream": "stdout",
       "text": [
        "\n",
        "[ 0.         -0.02443992 -0.00958904 -0.04579256  0.0013834  -0.01925928]"
       ]
      },
      {
       "output_type": "stream",
       "stream": "stdout",
       "text": [
        "\n",
        "[-0.00972763 -0.01147228  0.00631365  0.07590361  0.06516315 -0.00986497]"
       ]
      },
      {
       "output_type": "stream",
       "stream": "stdout",
       "text": [
        "\n",
        "[-0.00886918 -0.01757812 -0.0009901  -0.04300203  0.02201646 -0.01646721]"
       ]
      },
      {
       "output_type": "stream",
       "stream": "stdout",
       "text": [
        "\n",
        "[-0.00425532 -0.03629032 -0.02727273 -0.07524752  0.022      -0.02134547]"
       ]
      },
      {
       "output_type": "stream",
       "stream": "stdout",
       "text": [
        "\n",
        "[ 0.         -0.02079395  0.01269841  0.02073171  0.01746032 -0.01369296]"
       ]
      },
      {
       "output_type": "stream",
       "stream": "stdout",
       "text": [
        "\n",
        "[-0.00575816 -0.01169591  0.02857143  0.05105566  0.02867495 -0.00842171]"
       ]
      },
      {
       "output_type": "stream",
       "stream": "stdout",
       "text": [
        "\n",
        "[-0.00592885 -0.01574803 -0.01328125 -0.00038241  0.02039337 -0.01848538]"
       ]
      },
      {
       "output_type": "stream",
       "stream": "stdout",
       "text": [
        "\n",
        "[ 0.         -0.02490421  0.00554415  0.028       0.06909651 -0.01043556]"
       ]
      },
      {
       "output_type": "stream",
       "stream": "stdout",
       "text": [
        "\n",
        "[-0.008      -0.03262956  0.00849673 -0.04596273  0.03179959 -0.01927841]"
       ]
      },
      {
       "output_type": "stream",
       "stream": "stdout",
       "text": [
        "\n",
        "[-0.00192308 -0.00821355  0.01684902  0.00462428  0.02346939 -0.01625285]"
       ]
      },
      {
       "output_type": "stream",
       "stream": "stdout",
       "text": [
        "\n",
        "[ 0.         -0.02024291 -0.00700389  0.01682975  0.03213552 -0.01207924]"
       ]
      },
      {
       "output_type": "stream",
       "stream": "stdout",
       "text": [
        "\n",
        "[-0.00210526 -0.03164557 -0.01089494 -0.02729124  0.03631579 -0.01789142]"
       ]
      },
      {
       "output_type": "stream",
       "stream": "stdout",
       "text": [
        "\n",
        "[ 0.         -0.01652893 -0.01895161  0.0026975   0.01779661 -0.01981284]"
       ]
      },
      {
       "output_type": "stream",
       "stream": "stdout",
       "text": [
        "\n",
        "[ 0.         -0.03219697 -0.01132438 -0.06463415  0.03118812 -0.02108474]"
       ]
      },
      {
       "output_type": "stream",
       "stream": "stdout",
       "text": [
        "\n",
        "[-0.00571429 -0.01976285 -0.03469388  0.02650104  0.02905138 -0.01453877]"
       ]
      },
      {
       "output_type": "stream",
       "stream": "stdout",
       "text": [
        "\n",
        "[ 0.         -0.02053388  0.00116279  0.02156863  0.05116732 -0.01583647]"
       ]
      },
      {
       "output_type": "stream",
       "stream": "stdout",
       "text": [
        "\n",
        "[ 0.         -0.01968504 -0.00742188 -0.02109375  0.02959184 -0.01747945]"
       ]
      },
      {
       "output_type": "stream",
       "stream": "stdout",
       "text": [
        "\n",
        "[-0.00391389 -0.02390438  0.00674603 -0.01359223  0.0162768  -0.01821602]"
       ]
      },
      {
       "output_type": "stream",
       "stream": "stdout",
       "text": [
        "\n",
        "[-0.00190114 -0.02794411 -0.01608961  0.03761996  0.03057851 -0.01673312]"
       ]
      },
      {
       "output_type": "stream",
       "stream": "stdout",
       "text": [
        "\n",
        "[-0.00421941 -0.03532009 -0.00359408 -0.0254902   0.02594937 -0.01756255]"
       ]
      },
      {
       "output_type": "stream",
       "stream": "stdout",
       "text": [
        "\n",
        "[-0.00197628 -0.01930502  0.03023256 -0.06933868  0.02184466 -0.01858837]"
       ]
      },
      {
       "output_type": "stream",
       "stream": "stdout",
       "text": [
        "\n",
        "[-0.003861   -0.02357564 -0.00826772 -0.0345776   0.01653226 -0.01731663]"
       ]
      },
      {
       "output_type": "stream",
       "stream": "stdout",
       "text": [
        "\n",
        "[-0.00192678 -0.01807229 -0.01372549  0.0057377   0.02883817 -0.01787049]"
       ]
      },
      {
       "output_type": "stream",
       "stream": "stdout",
       "text": [
        "\n",
        "[-0.00613497 -0.01212121  0.00336134 -0.01089494  0.0452381  -0.01432388]"
       ]
      },
      {
       "output_type": "stream",
       "stream": "stdout",
       "text": [
        "\n",
        "[-0.00572519 -0.01926782 -0.01909651  0.00319361  0.02751938 -0.01632456]"
       ]
      },
      {
       "output_type": "stream",
       "stream": "stdout",
       "text": [
        "\n",
        "Optimization terminated successfully.\n",
        "         Current function value: 0.001191\n",
        "         Iterations: 14\n",
        "         Function evaluations: 40\n",
        "[-0.00204918 -0.01565558 -0.00144928 -0.00759494  0.01903353 -0.01677305]"
       ]
      },
      {
       "output_type": "stream",
       "stream": "stdout",
       "text": [
        "\n",
        "[-0.00636943 -0.01581028 -0.10136452 -0.49166667  0.06133201 -0.02911989]"
       ]
      },
      {
       "output_type": "stream",
       "stream": "stdout",
       "text": [
        "\n",
        "[-0.00208768 -0.00408998 -0.05882353 -0.43931624  0.0737525  -0.02744007]"
       ]
      },
      {
       "output_type": "stream",
       "stream": "stdout",
       "text": [
        "\n",
        "[ 0.         -0.00206186 -0.03578947 -0.3125498   0.20775194 -0.00332641]"
       ]
      },
      {
       "output_type": "stream",
       "stream": "stdout",
       "text": [
        "\n",
        "[-0.00197239 -0.03320312 -0.1042471  -0.63737475 -0.00491803 -0.04291111]"
       ]
      },
      {
       "output_type": "stream",
       "stream": "stdout",
       "text": [
        "\n",
        "[ 0.         -0.02469136 -0.07335907 -0.46903808  0.03728653 -0.02885601]"
       ]
      },
      {
       "output_type": "stream",
       "stream": "stdout",
       "text": [
        "\n",
        "[-0.00809717 -0.05182342 -0.17177914 -0.63089431  0.02036247 -0.04095915]"
       ]
      },
      {
       "output_type": "stream",
       "stream": "stdout",
       "text": [
        "\n",
        "[ 0.         -0.00630252 -0.01136364 -0.26610338  0.15       -0.01068175]"
       ]
      },
      {
       "output_type": "stream",
       "stream": "stdout",
       "text": [
        "\n",
        "[-0.00208768  0.         -0.00826446 -0.12773437  0.30483871 -0.00086938]"
       ]
      },
      {
       "output_type": "stream",
       "stream": "stdout",
       "text": [
        "\n",
        "[  0.00000000e+00   0.00000000e+00  -1.65289256e-02  -1.98394004e-01\n",
        "   2.65369261e-01   2.33931588e-04]"
       ]
      },
      {
       "output_type": "stream",
       "stream": "stdout",
       "text": [
        "\n",
        "[ 0.         -0.00601202 -0.01775148 -0.23735632  0.25       -0.00042849]"
       ]
      },
      {
       "output_type": "stream",
       "stream": "stdout",
       "text": [
        "\n",
        "[ 0.          0.         -0.0102459  -0.10904573  0.38643264  0.009838  ]"
       ]
      },
      {
       "output_type": "stream",
       "stream": "stdout",
       "text": [
        "\n",
        "[ 0.          0.         -0.00406504 -0.07524462  0.50489022  0.0184544 ]"
       ]
      },
      {
       "output_type": "stream",
       "stream": "stdout",
       "text": [
        "\n",
        "[ 0.         -0.006      -0.03571429 -0.29115139  0.15808081 -0.01343684]"
       ]
      },
      {
       "output_type": "stream",
       "stream": "stdout",
       "text": [
        "\n",
        "[ 0.         -0.01037344 -0.05611222 -0.4458159   0.066      -0.02364972]"
       ]
      },
      {
       "output_type": "stream",
       "stream": "stdout",
       "text": [
        "\n",
        "[ 0.         -0.00182815 -0.01020408 -0.17222222  0.27046332  0.00216673]"
       ]
      },
      {
       "output_type": "stream",
       "stream": "stdout",
       "text": [
        "\n",
        "[ 0.          0.         -0.00813008 -0.15874751  0.26746032 -0.00719049]"
       ]
      },
      {
       "output_type": "stream",
       "stream": "stdout",
       "text": [
        "\n",
        "[ 0.         -0.00382409 -0.01458333 -0.25694981  0.21572008 -0.0121269 ]"
       ]
      },
      {
       "output_type": "stream",
       "stream": "stdout",
       "text": [
        "\n",
        "[ 0.          0.         -0.01656315 -0.23169014  0.22176221 -0.00725257]"
       ]
      },
      {
       "output_type": "stream",
       "stream": "stdout",
       "text": [
        "\n",
        "[ 0.          0.         -0.00984252 -0.10020576  0.32984496  0.00274121]"
       ]
      },
      {
       "output_type": "stream",
       "stream": "stdout",
       "text": [
        "\n",
        "[ 0.         -0.00400802 -0.01526718 -0.27684825  0.18921569 -0.00832302]"
       ]
      },
      {
       "output_type": "stream",
       "stream": "stdout",
       "text": [
        "\n",
        "[ 0.          0.         -0.00580271 -0.2290224   0.18828921 -0.00800059]"
       ]
      },
      {
       "output_type": "stream",
       "stream": "stdout",
       "text": [
        "\n",
        "[ 0.          0.         -0.01616162 -0.21853707  0.2216763  -0.00399093]"
       ]
      },
      {
       "output_type": "stream",
       "stream": "stdout",
       "text": [
        "\n",
        "[-0.00201207 -0.00197628 -0.02443609 -0.26285988  0.17529644 -0.00881639]"
       ]
      },
      {
       "output_type": "stream",
       "stream": "stdout",
       "text": [
        "\n",
        "[ 0.         -0.00188679 -0.01380671 -0.2189243   0.20609756 -0.00524971]"
       ]
      },
      {
       "output_type": "stream",
       "stream": "stdout",
       "text": [
        "\n",
        "[ 0.         -0.00416667 -0.01402806 -0.25561331  0.16698113 -0.0136486 ]"
       ]
      },
      {
       "output_type": "stream",
       "stream": "stdout",
       "text": [
        "\n",
        "[ 0.          0.         -0.01976285 -0.25842912  0.22935223 -0.00805507]"
       ]
      },
      {
       "output_type": "stream",
       "stream": "stdout",
       "text": [
        "\n",
        "[-0.00210084 -0.002079   -0.02083333 -0.24583333  0.18772102 -0.00780793]"
       ]
      },
      {
       "output_type": "stream",
       "stream": "stdout",
       "text": [
        "\n",
        "[ 0.         -0.01059322 -0.01386139 -0.30177866  0.12047817 -0.01568932]"
       ]
      },
      {
       "output_type": "stream",
       "stream": "stdout",
       "text": [
        "\n",
        "[ 0.          0.         -0.01467505 -0.25879346  0.21987448 -0.00733932]"
       ]
      },
      {
       "output_type": "stream",
       "stream": "stdout",
       "text": [
        "\n",
        "[ 0.         -0.00395257 -0.00209205 -0.25122951  0.22218935 -0.00676177]"
       ]
      },
      {
       "output_type": "stream",
       "stream": "stdout",
       "text": [
        "\n",
        "[ 0.          0.         -0.01325758 -0.25754352  0.18818898 -0.01074208]"
       ]
      },
      {
       "output_type": "stream",
       "stream": "stdout",
       "text": [
        "\n",
        "[ 0.         -0.00208768 -0.01882845 -0.2579922   0.18904382 -0.00907248]"
       ]
      },
      {
       "output_type": "stream",
       "stream": "stdout",
       "text": [
        "\n",
        "[ 0.         -0.00199203 -0.02165354 -0.20889328  0.194      -0.00809375]"
       ]
      },
      {
       "output_type": "stream",
       "stream": "stdout",
       "text": [
        "\n",
        "[ 0.         -0.00205339 -0.00772201 -0.17846442  0.25434783 -0.00855039]"
       ]
      },
      {
       "output_type": "stream",
       "stream": "stdout",
       "text": [
        "\n",
        "[ 0.          0.         -0.01727447 -0.22128713  0.17469636 -0.01145804]"
       ]
      },
      {
       "output_type": "stream",
       "stream": "stdout",
       "text": [
        "\n",
        "[ 0.          0.         -0.01192843 -0.24960317  0.18387097 -0.01424028]"
       ]
      },
      {
       "output_type": "stream",
       "stream": "stdout",
       "text": [
        "\n",
        "[ 0.         -0.00201613 -0.01185771 -0.19686192  0.23515625 -0.0077869 ]"
       ]
      },
      {
       "output_type": "stream",
       "stream": "stdout",
       "text": [
        "\n",
        "[-0.00196464  0.         -0.00416667 -0.21693227  0.24239766 -0.00730388]"
       ]
      },
      {
       "output_type": "stream",
       "stream": "stdout",
       "text": [
        "\n",
        "[ 0.          0.         -0.00788955 -0.25754352  0.16747967 -0.0090198 ]"
       ]
      },
      {
       "output_type": "stream",
       "stream": "stdout",
       "text": [
        "\n",
        "[ 0.         -0.0040568  -0.01470588 -0.24149798  0.19737945 -0.01278233]"
       ]
      },
      {
       "output_type": "stream",
       "stream": "stdout",
       "text": [
        "\n",
        "[-0.00400802 -0.00636943 -0.00998004 -0.22054108  0.2255102  -0.00711572]"
       ]
      },
      {
       "output_type": "stream",
       "stream": "stdout",
       "text": [
        "\n",
        "[ 0.         -0.00403226 -0.01431493 -0.25769231  0.19501992 -0.01064266]"
       ]
      },
      {
       "output_type": "stream",
       "stream": "stdout",
       "text": [
        "\n",
        "[ 0.         -0.00206612 -0.01414141 -0.24058116  0.17427984 -0.00973061]"
       ]
      },
      {
       "output_type": "stream",
       "stream": "stdout",
       "text": [
        "\n",
        "[ 0.          0.         -0.00823045 -0.22431907  0.19351297 -0.01065419]"
       ]
      },
      {
       "output_type": "stream",
       "stream": "stdout",
       "text": [
        "\n",
        "[ 0.         -0.00195312 -0.0203666  -0.24585799  0.20708502 -0.01147758]"
       ]
      },
      {
       "output_type": "stream",
       "stream": "stdout",
       "text": [
        "\n",
        "[-0.00209644  0.         -0.01434426 -0.20147348  0.20714286 -0.00749544]"
       ]
      },
      {
       "output_type": "stream",
       "stream": "stdout",
       "text": [
        "\n",
        "[ 0.          0.         -0.00819672 -0.20641026  0.22897839 -0.01005867]"
       ]
      },
      {
       "output_type": "stream",
       "stream": "stdout",
       "text": [
        "\n",
        "[ 0.          0.         -0.00806452 -0.20208333  0.21464646 -0.0111497 ]"
       ]
      },
      {
       "output_type": "stream",
       "stream": "stdout",
       "text": [
        "\n",
        "[ 0.         -0.00186916 -0.01351351 -0.2351711   0.22875244 -0.00960021]"
       ]
      },
      {
       "output_type": "stream",
       "stream": "stdout",
       "text": [
        "\n",
        "[ 0.         -0.00199601 -0.01325758 -0.20984252  0.19517375 -0.01053685]"
       ]
      },
      {
       "output_type": "stream",
       "stream": "stdout",
       "text": [
        "\n",
        "[ 0.         -0.0040568  -0.01153846 -0.2041744   0.20099602 -0.00886285]"
       ]
      },
      {
       "output_type": "stream",
       "stream": "stdout",
       "text": [
        "\n",
        "Optimization terminated successfully.\n",
        "         Current function value: 0.079917\n",
        "         Iterations: 20\n",
        "         Function evaluations: 51\n",
        "[ 0.          0.         -0.01221996 -0.2701581   0.1759332  -0.01273532]"
       ]
      },
      {
       "output_type": "stream",
       "stream": "stdout",
       "text": [
        "\n",
        "[-0.00206612 -0.0167364   0.08267327  0.27714571  0.06177645  0.02804365]"
       ]
      },
      {
       "output_type": "stream",
       "stream": "stdout",
       "text": [
        "\n",
        "[ 0.         -0.01492537  0.10029821  0.39043393  0.08359528  0.02904027]"
       ]
      },
      {
       "output_type": "stream",
       "stream": "stdout",
       "text": [
        "\n",
        "[-0.00200803 -0.00200401  0.12260274  0.49471058  0.24118774  0.05373646]"
       ]
      },
      {
       "output_type": "stream",
       "stream": "stdout",
       "text": [
        "\n",
        "[-0.0021645  -0.04085603  0.0259542   0.19460888  0.01263982  0.01323847]"
       ]
      },
      {
       "output_type": "stream",
       "stream": "stdout",
       "text": [
        "\n",
        "[-0.00406504 -0.01217039  0.06322314  0.29536082  0.05833333  0.02695662]"
       ]
      },
      {
       "output_type": "stream",
       "stream": "stdout",
       "text": [
        "\n",
        "[-0.00628931 -0.03320312 -0.03653846  0.13429423  0.01072874  0.01558776]"
       ]
      },
      {
       "output_type": "stream",
       "stream": "stdout",
       "text": [
        "\n",
        "[-0.01121495 -0.05788423 -0.08732252  0.07290389 -0.03167006 -0.01500087]"
       ]
      },
      {
       "output_type": "stream",
       "stream": "stdout",
       "text": [
        "\n",
        "[-0.03658537 -0.17525773 -0.34224806 -0.08360161 -0.04198397 -0.05370873]"
       ]
      },
      {
       "output_type": "stream",
       "stream": "stdout",
       "text": [
        "\n",
        "[-0.01937984 -0.05555556 -0.09048096  0.09385633 -0.02363083  0.00136127]"
       ]
      },
      {
       "output_type": "stream",
       "stream": "stdout",
       "text": [
        "\n",
        "[-0.01006036 -0.08171206 -0.1672147   0.04635628 -0.03035363 -0.00900976]"
       ]
      },
      {
       "output_type": "stream",
       "stream": "stdout",
       "text": [
        "\n",
        "[-0.04276986 -0.14455446 -0.31850394 -0.0515748  -0.04185336 -0.02609839]"
       ]
      },
      {
       "output_type": "stream",
       "stream": "stdout",
       "text": [
        "\n",
        "[-0.00200803 -0.02839757  0.0322314   0.20657371  0.01938776  0.01447478]"
       ]
      },
      {
       "output_type": "stream",
       "stream": "stdout",
       "text": [
        "\n",
        "[-0.01279318 -0.09958506 -0.15991736  0.02509728 -0.03568507 -0.01206825]"
       ]
      },
      {
       "output_type": "stream",
       "stream": "stdout",
       "text": [
        "\n",
        "[-0.06504065 -0.18163673 -0.34593496 -0.01939571 -0.03795181 -0.02466585]"
       ]
      },
      {
       "output_type": "stream",
       "stream": "stdout",
       "text": [
        "\n",
        "[-0.01483051 -0.02742616 -0.0126506   0.0994929  -0.00884774  0.00596841]"
       ]
      },
      {
       "output_type": "stream",
       "stream": "stdout",
       "text": [
        "\n",
        "[-0.00603622 -0.03292181 -0.00163934  0.16078224  0.00070994  0.00690873]"
       ]
      },
      {
       "output_type": "stream",
       "stream": "stdout",
       "text": [
        "\n",
        "[-0.00956023 -0.026       0.01122449  0.23742394  0.03576998  0.01905248]"
       ]
      },
      {
       "output_type": "stream",
       "stream": "stdout",
       "text": [
        "\n",
        "[-0.0134357  -0.08350305 -0.12439024  0.05392157 -0.02373737 -0.00581746]"
       ]
      },
      {
       "output_type": "stream",
       "stream": "stdout",
       "text": [
        "\n",
        "[-0.01402806 -0.08893281 -0.06845574  0.04066937 -0.0229207  -0.00547809]"
       ]
      },
      {
       "output_type": "stream",
       "stream": "stdout",
       "text": [
        "\n",
        "[-0.00413223 -0.04672897 -0.02263158  0.11814516  0.00427975  0.00480514]"
       ]
      },
      {
       "output_type": "stream",
       "stream": "stdout",
       "text": [
        "\n",
        "[-0.00588235 -0.03018109  0.00200846  0.16069959  0.00653021  0.00050409]"
       ]
      },
      {
       "output_type": "stream",
       "stream": "stdout",
       "text": [
        "\n",
        "[-0.01659751 -0.07293666 -0.07307692  0.08819302 -0.00573441 -0.00085232]"
       ]
      },
      {
       "output_type": "stream",
       "stream": "stdout",
       "text": [
        "\n",
        "[ -1.20481928e-02  -8.92494929e-02  -1.07142857e-01   1.01419878e-04\n",
        "  -3.14432990e-02  -1.87191327e-02]"
       ]
      },
      {
       "output_type": "stream",
       "stream": "stdout",
       "text": [
        "\n",
        "[-0.00980392 -0.04466019 -0.07754491  0.12789047  0.01458333  0.00707563]"
       ]
      },
      {
       "output_type": "stream",
       "stream": "stdout",
       "text": [
        "\n",
        "[-0.01976285 -0.06370656 -0.0754902   0.06649485 -0.00256917 -0.00264789]"
       ]
      },
      {
       "output_type": "stream",
       "stream": "stdout",
       "text": [
        "\n",
        "[-0.0083682  -0.04809619 -0.00250965  0.10879917 -0.00867769  0.00323366]"
       ]
      },
      {
       "output_type": "stream",
       "stream": "stdout",
       "text": [
        "\n",
        "[-0.00394477 -0.04457364 -0.04765166  0.10523013 -0.0194501  -0.0059868 ]"
       ]
      },
      {
       "output_type": "stream",
       "stream": "stdout",
       "text": [
        "\n",
        "[-0.01408451 -0.05172414 -0.01831683  0.13286853 -0.02565923  0.00119813]"
       ]
      },
      {
       "output_type": "stream",
       "stream": "stdout",
       "text": [
        "\n",
        "[-0.01226994 -0.04761905 -0.02012448  0.14376258 -0.02425743  0.00952174]"
       ]
      },
      {
       "output_type": "stream",
       "stream": "stdout",
       "text": [
        "\n",
        "[-0.00816327 -0.05273834 -0.06206226  0.07916667 -0.02098646 -0.00777582]"
       ]
      },
      {
       "output_type": "stream",
       "stream": "stdout",
       "text": [
        "\n",
        "[-0.00974659 -0.03495146 -0.02554241  0.08255814 -0.01324952 -0.00472004]"
       ]
      },
      {
       "output_type": "stream",
       "stream": "stdout",
       "text": [
        "\n",
        "[-0.00779727 -0.04132231 -0.02729084  0.12385892 -0.028      -0.00792144]"
       ]
      },
      {
       "output_type": "stream",
       "stream": "stdout",
       "text": [
        "\n",
        "[-0.00919118 -0.04329897 -0.02894737  0.11572008 -0.01714579  0.00360447]"
       ]
      },
      {
       "output_type": "stream",
       "stream": "stdout",
       "text": [
        "\n",
        "[-0.01185771 -0.05060729 -0.03849206  0.11060606 -0.00694716 -0.00266977]"
       ]
      },
      {
       "output_type": "stream",
       "stream": "stdout",
       "text": [
        "\n",
        "[-0.01425662 -0.04572565 -0.04427403  0.15371901 -0.01082474 -0.00112445]"
       ]
      },
      {
       "output_type": "stream",
       "stream": "stdout",
       "text": [
        "\n",
        "[-0.0101833  -0.042      -0.05        0.07666667 -0.03203593 -0.00618757]"
       ]
      },
      {
       "output_type": "stream",
       "stream": "stdout",
       "text": [
        "\n",
        "[-0.00959693 -0.03010753 -0.02322835  0.13059072 -0.01856582  0.00164972]"
       ]
      },
      {
       "output_type": "stream",
       "stream": "stdout",
       "text": [
        "\n",
        "[-0.00598802 -0.05349794 -0.04547325  0.11033058 -0.01041667 -0.00233292]"
       ]
      },
      {
       "output_type": "stream",
       "stream": "stdout",
       "text": [
        "\n",
        "[-0.01140684 -0.04809619 -0.04726562  0.06807466 -0.01480331 -0.0050278 ]"
       ]
      },
      {
       "output_type": "stream",
       "stream": "stdout",
       "text": [
        "\n",
        "[-0.01014199 -0.0498008  -0.07198732  0.0906639  -0.02251586 -0.0061902 ]"
       ]
      },
      {
       "output_type": "stream",
       "stream": "stdout",
       "text": [
        "\n",
        "[-0.00389105 -0.06060606 -0.0748062   0.07037422 -0.03591549 -0.0087255 ]"
       ]
      },
      {
       "output_type": "stream",
       "stream": "stdout",
       "text": [
        "\n",
        "Optimization terminated successfully.\n",
        "         Current function value: 0.008983\n",
        "         Iterations: 18\n",
        "         Function evaluations: 41\n",
        "[-0.01129944 -0.07453416 -0.02901235  0.11122449 -0.03011928 -0.00551165]"
       ]
      },
      {
       "output_type": "stream",
       "stream": "stdout",
       "text": [
        "\n",
        "[-0.00576923 -0.01584158 -0.07976654 -0.40637708 -0.05405117 -0.02822827]"
       ]
      },
      {
       "output_type": "stream",
       "stream": "stdout",
       "text": [
        "\n",
        "[ 0.         -0.01388889 -0.0591716  -0.314       0.00959596 -0.02860337]"
       ]
      },
      {
       "output_type": "stream",
       "stream": "stdout",
       "text": [
        "\n",
        "[ 0.         -0.0078125  -0.0259481  -0.16337325  0.09273859 -0.00201492]"
       ]
      },
      {
       "output_type": "stream",
       "stream": "stdout",
       "text": [
        "\n",
        "[-0.00204918 -0.01785714 -0.12055336 -0.47372188 -0.09563107 -0.042485  ]"
       ]
      },
      {
       "output_type": "stream",
       "stream": "stdout",
       "text": [
        "\n",
        "[-0.00829876 -0.01796407 -0.09016393 -0.42087379 -0.04139344 -0.02850064]"
       ]
      },
      {
       "output_type": "stream",
       "stream": "stdout",
       "text": [
        "\n",
        "[-0.00406504 -0.05426357 -0.13814433 -0.5699211  -0.08459916 -0.04116572]"
       ]
      },
      {
       "output_type": "stream",
       "stream": "stdout",
       "text": [
        "\n",
        "[-0.00207039 -0.004      -0.00980392 -0.17758621  0.07153209 -0.01059119]"
       ]
      },
      {
       "output_type": "stream",
       "stream": "stdout",
       "text": [
        "\n",
        "[ 0.          0.         -0.01574803 -0.08483366  0.21381323  0.00121288]"
       ]
      },
      {
       "output_type": "stream",
       "stream": "stdout",
       "text": [
        "\n",
        "[  0.00000000e+00   0.00000000e+00  -1.20000000e-02  -8.81889764e-02\n",
        "   1.71285141e-01   9.74562459e-06]"
       ]
      },
      {
       "output_type": "stream",
       "stream": "stdout",
       "text": [
        "\n",
        "[ 0.         -0.00204918  0.         -0.03350515  0.25792079  0.00987286]"
       ]
      },
      {
       "output_type": "stream",
       "stream": "stdout",
       "text": [
        "\n",
        "[ 0.          0.         -0.01020408  0.03071571  0.37806653  0.02052238]"
       ]
      },
      {
       "output_type": "stream",
       "stream": "stdout",
       "text": [
        "\n",
        "[-0.00196078 -0.00588235 -0.01844262 -0.23825758  0.06572581 -0.01357166]"
       ]
      },
      {
       "output_type": "stream",
       "stream": "stdout",
       "text": [
        "\n",
        "[-0.0020202  -0.01646091 -0.05611222 -0.3276699  -0.02446809 -0.023494  ]"
       ]
      },
      {
       "output_type": "stream",
       "stream": "stdout",
       "text": [
        "\n",
        "[ 0.          0.         -0.00408163 -0.10193798  0.1701581   0.00336312]"
       ]
      },
      {
       "output_type": "stream",
       "stream": "stdout",
       "text": [
        "\n",
        "[ 0.          0.         -0.00394477 -0.06481481  0.24607843  0.00689673]"
       ]
      },
      {
       "output_type": "stream",
       "stream": "stdout",
       "text": [
        "\n",
        "[ 0.         -0.00421053 -0.01976285 -0.15905512  0.07745902 -0.00672496]"
       ]
      },
      {
       "output_type": "stream",
       "stream": "stdout",
       "text": [
        "\n",
        "[ 0.         -0.00402414 -0.02258727 -0.18757962  0.08602484 -0.00819878]"
       ]
      },
      {
       "output_type": "stream",
       "stream": "stdout",
       "text": [
        "\n",
        "[ 0.          0.         -0.01226994 -0.15020284  0.09646465 -0.00601343]"
       ]
      },
      {
       "output_type": "stream",
       "stream": "stdout",
       "text": [
        "\n",
        "[-0.00212766 -0.00202429 -0.03607214 -0.25077071  0.01015625 -0.01451288]"
       ]
      },
      {
       "output_type": "stream",
       "stream": "stdout",
       "text": [
        "\n",
        "[ 0.          0.         -0.01367188 -0.11559356  0.16311155 -0.00162684]"
       ]
      },
      {
       "output_type": "stream",
       "stream": "stdout",
       "text": [
        "\n",
        "[ 0.         -0.0059761  -0.01593625 -0.14206963  0.0907767  -0.00612033]"
       ]
      },
      {
       "output_type": "stream",
       "stream": "stdout",
       "text": [
        "\n",
        "[ 0.         -0.00411523 -0.02676864 -0.13041237  0.09524313 -0.00569157]"
       ]
      },
      {
       "output_type": "stream",
       "stream": "stdout",
       "text": [
        "\n",
        "[ 0.         -0.00195695 -0.02713178 -0.17115385  0.09798387 -0.00995163]"
       ]
      },
      {
       "output_type": "stream",
       "stream": "stdout",
       "text": [
        "\n",
        "[ 0.         -0.00209644 -0.0139165  -0.1462963   0.11252505 -0.00281559]"
       ]
      },
      {
       "output_type": "stream",
       "stream": "stdout",
       "text": [
        "\n",
        "[ 0.         -0.006      -0.02362205 -0.14434698  0.17914046 -0.00305428]"
       ]
      },
      {
       "output_type": "stream",
       "stream": "stdout",
       "text": [
        "\n",
        "[ 0.         -0.00199203 -0.03061224 -0.22373737  0.06285141 -0.01025395]"
       ]
      },
      {
       "output_type": "stream",
       "stream": "stdout",
       "text": [
        "\n",
        "[ 0.         -0.00391389 -0.01313321 -0.15470348  0.09007937 -0.0044138 ]"
       ]
      },
      {
       "output_type": "stream",
       "stream": "stdout",
       "text": [
        "\n",
        "[ 0.         -0.00189036 -0.01422764 -0.14292929  0.0897541  -0.00074325]"
       ]
      },
      {
       "output_type": "stream",
       "stream": "stdout",
       "text": [
        "\n",
        "[-0.00204918 -0.0092081  -0.02272727 -0.18954451  0.11653307 -0.00530172]"
       ]
      },
      {
       "output_type": "stream",
       "stream": "stdout",
       "text": [
        "\n",
        "[ 0.         -0.0020202  -0.02208835 -0.11105263  0.13688525 -0.00438572]"
       ]
      },
      {
       "output_type": "stream",
       "stream": "stdout",
       "text": [
        "\n",
        "[ 0.         -0.00202429 -0.02620968 -0.15897704  0.09277457 -0.00483515]"
       ]
      },
      {
       "output_type": "stream",
       "stream": "stdout",
       "text": [
        "\n",
        "[ 0.         -0.00197628 -0.01070664 -0.11736842  0.11295585 -0.00555022]"
       ]
      },
      {
       "output_type": "stream",
       "stream": "stdout",
       "text": [
        "\n",
        "[ 0.         -0.0019802  -0.01028807 -0.14690722  0.13628231 -0.00049534]"
       ]
      },
      {
       "output_type": "stream",
       "stream": "stdout",
       "text": [
        "\n",
        "[ 0.          0.         -0.0239521  -0.11377953  0.09165029 -0.00491055]"
       ]
      },
      {
       "output_type": "stream",
       "stream": "stdout",
       "text": [
        "\n",
        "[-0.00207469 -0.00194932 -0.022      -0.17625483  0.08175966 -0.00626702]"
       ]
      },
      {
       "output_type": "stream",
       "stream": "stdout",
       "text": [
        "\n",
        "[ 0.         -0.00443459 -0.00986193 -0.14621849  0.11488706 -0.00455448]"
       ]
      },
      {
       "output_type": "stream",
       "stream": "stdout",
       "text": [
        "\n",
        "[ 0.         -0.00572519 -0.01169591 -0.10050916  0.08366337 -0.00389161]"
       ]
      },
      {
       "output_type": "stream",
       "stream": "stdout",
       "text": [
        "\n",
        "[ 0.         -0.00201613 -0.0185567  -0.13060264  0.09752475 -0.0060147 ]"
       ]
      },
      {
       "output_type": "stream",
       "stream": "stdout",
       "text": [
        "\n",
        "[ 0.         -0.00393701 -0.02020202 -0.18057851  0.09236253 -0.00239475]"
       ]
      },
      {
       "output_type": "stream",
       "stream": "stdout",
       "text": [
        "\n",
        "[ 0.         -0.00201613 -0.01649485 -0.15237581  0.0875     -0.00513096]"
       ]
      },
      {
       "output_type": "stream",
       "stream": "stdout",
       "text": [
        "\n",
        "[ 0.         -0.0019802  -0.01434426 -0.14038462  0.12941176 -0.00495727]"
       ]
      },
      {
       "output_type": "stream",
       "stream": "stdout",
       "text": [
        "\n",
        "Optimization terminated successfully.\n",
        "         Current function value: 0.017286\n",
        "         Iterations: 16\n",
        "         Function evaluations: 41\n",
        "[ 0.         -0.00369004 -0.018      -0.15784708  0.08391813 -0.00484587]"
       ]
      },
      {
       "output_type": "stream",
       "stream": "stdout",
       "text": [
        "\n",
        "[-0.00206612 -0.01212121  0.03013972  0.02619048 -0.09451477 -0.01281046]"
       ]
      },
      {
       "output_type": "stream",
       "stream": "stdout",
       "text": [
        "\n",
        "[ 0.         -0.00626305  0.03824701  0.03865979 -0.05860656 -0.0113894 ]"
       ]
      },
      {
       "output_type": "stream",
       "stream": "stdout",
       "text": [
        "\n",
        "[ 0.         -0.00392157  0.07795591  0.23565401  0.07217742  0.01477317]"
       ]
      },
      {
       "output_type": "stream",
       "stream": "stdout",
       "text": [
        "\n",
        "[-0.00402414 -0.02680412 -0.0244898  -0.108      -0.13873518 -0.02599161]"
       ]
      },
      {
       "output_type": "stream",
       "stream": "stdout",
       "text": [
        "\n",
        "[ 0.         -0.02350427  0.02765957  0.0242268  -0.08588008 -0.01352196]"
       ]
      },
      {
       "output_type": "stream",
       "stream": "stdout",
       "text": [
        "\n",
        "[-0.014      -0.04140787 -0.08375242 -0.12455621 -0.14291755 -0.02518646]"
       ]
      },
      {
       "output_type": "stream",
       "stream": "stdout",
       "text": [
        "\n",
        "[-0.00806452 -0.07171315 -0.13353293 -0.29738956 -0.18333333 -0.05418622]"
       ]
      },
      {
       "output_type": "stream",
       "stream": "stdout",
       "text": [
        "\n",
        "[ 0.         -0.00643777  0.05808383  0.06744186 -0.04521385  0.00034753]"
       ]
      },
      {
       "output_type": "stream",
       "stream": "stdout",
       "text": [
        "\n",
        "[ 0.         -0.00198807  0.08159509  0.16689587 -0.00478088 -0.00114092]"
       ]
      },
      {
       "output_type": "stream",
       "stream": "stdout",
       "text": [
        "\n",
        "[ 0.         -0.00201613  0.0406953   0.11       -0.05040984 -0.00624602]"
       ]
      },
      {
       "output_type": "stream",
       "stream": "stdout",
       "text": [
        "\n",
        "[-0.00196464 -0.00578035  0.07017893  0.18547758  0.094       0.00870594]"
       ]
      },
      {
       "output_type": "stream",
       "stream": "stdout",
       "text": [
        "\n",
        "[-0.00200401 -0.01372549  0.0212766  -0.0125     -0.10736842 -0.015735  ]"
       ]
      },
      {
       "output_type": "stream",
       "stream": "stdout",
       "text": [
        "\n",
        "[-0.00407332 -0.01724138  0.00926641 -0.0442623  -0.098      -0.01519036]"
       ]
      },
      {
       "output_type": "stream",
       "stream": "stdout",
       "text": [
        "\n",
        "[-0.00189753 -0.01202405  0.0490835   0.08106212 -0.02509506 -0.0024824 ]"
       ]
      },
      {
       "output_type": "stream",
       "stream": "stdout",
       "text": [
        "\n",
        "[ 0.         -0.00653595  0.06998124  0.1390411  -0.02092555 -0.00214191]"
       ]
      },
      {
       "output_type": "stream",
       "stream": "stdout",
       "text": [
        "\n",
        "[-0.00392157 -0.02087683  0.0497992  -0.00445545 -0.07065637 -0.01073461]"
       ]
      },
      {
       "output_type": "stream",
       "stream": "stdout",
       "text": [
        "\n",
        "[-0.00208768 -0.01033058  0.05334686  0.08779698 -0.05544554 -0.00524645]"
       ]
      },
      {
       "output_type": "stream",
       "stream": "stdout",
       "text": [
        "\n",
        "[-0.00584795 -0.00845666  0.03675889  0.06452282 -0.09156627 -0.0103714 ]"
       ]
      },
      {
       "output_type": "stream",
       "stream": "stdout",
       "text": [
        "\n",
        "[-0.00393701 -0.00782779  0.04610778  0.05390625 -0.08100209 -0.01159498]"
       ]
      },
      {
       "output_type": "stream",
       "stream": "stdout",
       "text": [
        "\n",
        "[ 0.         -0.01672862  0.03360996  0.04612403 -0.08050314 -0.01289269]"
       ]
      },
      {
       "output_type": "stream",
       "stream": "stdout",
       "text": [
        "\n",
        "[ 0.         -0.00401606  0.05294118  0.10928854 -0.03548983 -0.00797066]"
       ]
      },
      {
       "output_type": "stream",
       "stream": "stdout",
       "text": [
        "\n",
        "[ 0.         -0.01020408  0.05126706  0.09705882 -0.04540117 -0.00568084]"
       ]
      },
      {
       "output_type": "stream",
       "stream": "stdout",
       "text": [
        "\n",
        "[-0.00194932 -0.00957854  0.04802495  0.05196078 -0.07058824 -0.0116729 ]"
       ]
      },
      {
       "output_type": "stream",
       "stream": "stdout",
       "text": [
        "\n",
        "[-0.00396825 -0.00961538  0.01532258  0.04896907 -0.0697479  -0.01493922]"
       ]
      },
      {
       "output_type": "stream",
       "stream": "stdout",
       "text": [
        "\n",
        "[-0.00398406 -0.00806452  0.05353535  0.05712831 -0.08247863 -0.01831682]"
       ]
      },
      {
       "output_type": "stream",
       "stream": "stdout",
       "text": [
        "\n",
        "[-0.00397614 -0.01559454  0.01518738  0.03478702 -0.0458498  -0.01573541]"
       ]
      },
      {
       "output_type": "stream",
       "stream": "stdout",
       "text": [
        "\n",
        "[-0.00614754 -0.00196078  0.04057377  0.00679012 -0.08304094 -0.01426342]"
       ]
      },
      {
       "output_type": "stream",
       "stream": "stdout",
       "text": [
        "\n",
        "[-0.0019305  -0.00392157  0.04396552  0.07104208 -0.06575875 -0.01516928]"
       ]
      },
      {
       "output_type": "stream",
       "stream": "stdout",
       "text": [
        "\n",
        "[ 0.         -0.00823045  0.03555094  0.07880658 -0.09473684 -0.01432215]"
       ]
      },
      {
       "output_type": "stream",
       "stream": "stdout",
       "text": [
        "\n",
        "[-0.00201613 -0.01377953  0.04308943  0.06934827 -0.08798371 -0.01507592]"
       ]
      },
      {
       "output_type": "stream",
       "stream": "stdout",
       "text": [
        "\n",
        "[ 0.         -0.00582524  0.05816733  0.05931677 -0.0697479  -0.01326709]"
       ]
      },
      {
       "output_type": "stream",
       "stream": "stdout",
       "text": [
        "\n",
        "[-0.002      -0.00824742  0.03088553  0.03330059 -0.09       -0.01566603]"
       ]
      },
      {
       "output_type": "stream",
       "stream": "stdout",
       "text": [
        "\n",
        "[ 0.         -0.0040568   0.01549296  0.03176583 -0.07884615 -0.01420961]"
       ]
      },
      {
       "output_type": "stream",
       "stream": "stdout",
       "text": [
        "\n",
        "[-0.00197239 -0.01455301  0.01304348  0.01421663 -0.10495868 -0.01490483]"
       ]
      },
      {
       "output_type": "stream",
       "stream": "stdout",
       "text": [
        "\n",
        "[ 0.         -0.00589391  0.01649269  0.02305389 -0.10766208 -0.01512045]"
       ]
      },
      {
       "output_type": "stream",
       "stream": "stdout",
       "text": [
        "\n",
        "[ 0.         -0.01832994  0.04411178  0.00708583 -0.10180361 -0.01547174]"
       ]
      },
      {
       "output_type": "stream",
       "stream": "stdout",
       "text": [
        "\n",
        "[ 0.         -0.00835073  0.05049505  0.05766284 -0.08353414 -0.0150805 ]"
       ]
      },
      {
       "output_type": "stream",
       "stream": "stdout",
       "text": [
        "\n",
        "[-0.00209205 -0.01174168  0.04989562  0.074      -0.096      -0.01482083]"
       ]
      },
      {
       "output_type": "stream",
       "stream": "stdout",
       "text": [
        "\n",
        "[-0.00201613 -0.01902748  0.04768612  0.02094188 -0.08293651 -0.01518392]"
       ]
      },
      {
       "output_type": "stream",
       "stream": "stdout",
       "text": [
        "\n",
        "[-0.00200803 -0.01593625  0.04241843  0.05521921 -0.08866799 -0.01617354]"
       ]
      },
      {
       "output_type": "stream",
       "stream": "stdout",
       "text": [
        "\n",
        "[-0.00403226 -0.01796407  0.03634497  0.04253731 -0.06888454 -0.01497168]"
       ]
      },
      {
       "output_type": "stream",
       "stream": "stdout",
       "text": [
        "\n",
        "Optimization terminated successfully.\n",
        "         Current function value: 0.004050\n",
        "         Iterations: 13\n",
        "         Function evaluations: 41\n",
        "[ 0.         -0.00608519  0.02525253  0.04433962 -0.07401575 -0.01370234]"
       ]
      },
      {
       "output_type": "stream",
       "stream": "stdout",
       "text": [
        "\n",
        "[ 0.046       0.02942387  0.22479675  0.07        0.05805501  0.00073361]"
       ]
      },
      {
       "output_type": "stream",
       "stream": "stdout",
       "text": [
        "\n",
        "[ 0.05        0.04369748  0.23839836  0.11093439  0.07273642 -0.00118612]"
       ]
      },
      {
       "output_type": "stream",
       "stream": "stdout",
       "text": [
        "\n",
        "[ 0.05        0.04801587  0.27260274  0.24423077  0.21185567  0.02821335]"
       ]
      },
      {
       "output_type": "stream",
       "stream": "stdout",
       "text": [
        "\n",
        "[ 0.04603175  0.02131931  0.20309278 -0.03771186  0.00273834 -0.0146978 ]"
       ]
      },
      {
       "output_type": "stream",
       "stream": "stdout",
       "text": [
        "\n",
        "[ 0.05        0.0398374   0.23145161  0.04465649  0.06293634 -0.00094   ]"
       ]
      },
      {
       "output_type": "stream",
       "stream": "stdout",
       "text": [
        "\n",
        "[ 0.04032882  0.01348884  0.12421875 -0.08452381  0.0198152  -0.01254574]"
       ]
      },
      {
       "output_type": "stream",
       "stream": "stdout",
       "text": [
        "\n",
        "[ 0.03252427 -0.0165362   0.09065041 -0.17996071 -0.02880539 -0.04395563]"
       ]
      },
      {
       "output_type": "stream",
       "stream": "stdout",
       "text": [
        "\n",
        "[ 0.03015873 -0.03661417  0.03895582 -0.19457364 -0.0290795  -0.02526011]"
       ]
      },
      {
       "output_type": "stream",
       "stream": "stdout",
       "text": [
        "\n",
        "[ 0.032      -0.0261523   0.00080321 -0.22851638 -0.0295082  -0.03679621]"
       ]
      },
      {
       "output_type": "stream",
       "stream": "stdout",
       "text": [
        "\n",
        "[-0.00142857 -0.13379447 -0.11448692 -0.28663968 -0.04405941 -0.05481344]"
       ]
      },
      {
       "output_type": "stream",
       "stream": "stdout",
       "text": [
        "\n",
        "[ 0.04589322  0.01741344  0.17268994 -0.01010101  0.0117284  -0.01261914]"
       ]
      },
      {
       "output_type": "stream",
       "stream": "stdout",
       "text": [
        "\n",
        "[ 0.04409449  0.02642436  0.19236791 -0.01818182  0.04221311 -0.00632387]"
       ]
      },
      {
       "output_type": "stream",
       "stream": "stdout",
       "text": [
        "\n",
        "[ 0.02346939 -0.02630522  0.06235741 -0.18043912 -0.00238095 -0.02612684]"
       ]
      },
      {
       "output_type": "stream",
       "stream": "stdout",
       "text": [
        "\n",
        "[ 0.04595142  0.0191358   0.19917695  0.04246032  0.06372549  0.00914882]"
       ]
      },
      {
       "output_type": "stream",
       "stream": "stdout",
       "text": [
        "\n",
        "[ 0.04011858 -0.00078125  0.13170254 -0.14579832 -0.01494845 -0.03070495]"
       ]
      },
      {
       "output_type": "stream",
       "stream": "stdout",
       "text": [
        "\n",
        "[ 0.04806202  0.01900826  0.17698413  0.04313725  0.05647182 -0.00726521]"
       ]
      },
      {
       "output_type": "stream",
       "stream": "stdout",
       "text": [
        "\n",
        "[ 0.03297872 -0.02212476  0.03290598 -0.14213836 -0.01242171 -0.02956661]"
       ]
      },
      {
       "output_type": "stream",
       "stream": "stdout",
       "text": [
        "\n",
        "[ 0.01881497 -0.08398058 -0.0875     -0.27142857 -0.03403194 -0.04359524]"
       ]
      },
      {
       "output_type": "stream",
       "stream": "stdout",
       "text": [
        "\n",
        "[ 0.04193548  0.02813121  0.13991684 -0.05882353  0.052      -0.00516313]"
       ]
      },
      {
       "output_type": "stream",
       "stream": "stdout",
       "text": [
        "\n",
        "[ 0.01875    -0.07627291 -0.00309278 -0.23366337 -0.03210736 -0.0282644 ]"
       ]
      },
      {
       "output_type": "stream",
       "stream": "stdout",
       "text": [
        "\n",
        "[ 0.04605523  0.02575758  0.15659656 -0.06532258  0.03704062 -0.0107337 ]"
       ]
      },
      {
       "output_type": "stream",
       "stream": "stdout",
       "text": [
        "\n",
        "[ 0.04599198  0.02357724  0.16266094  0.0291498   0.03644401 -0.00393504]"
       ]
      },
      {
       "output_type": "stream",
       "stream": "stdout",
       "text": [
        "\n",
        "[ 0.04        0.00634096  0.14725051 -0.08659794  0.02017544 -0.01161036]"
       ]
      },
      {
       "output_type": "stream",
       "stream": "stdout",
       "text": [
        "\n",
        "[ 0.03951782 -0.00273834  0.07821012 -0.12       -0.00849802 -0.01195073]"
       ]
      },
      {
       "output_type": "stream",
       "stream": "stdout",
       "text": [
        "\n",
        "[ 0.034375   -0.02751938  0.03489279 -0.12897196  0.00219207 -0.01146361]"
       ]
      },
      {
       "output_type": "stream",
       "stream": "stdout",
       "text": [
        "\n",
        "[ 0.03613861 -0.0013834   0.11312127 -0.09274809  0.00588822 -0.01298759]"
       ]
      },
      {
       "output_type": "stream",
       "stream": "stdout",
       "text": [
        "\n",
        "[ 0.02148676 -0.05547667  0.00265152 -0.20287474 -0.00362903 -0.02766778]"
       ]
      },
      {
       "output_type": "stream",
       "stream": "stdout",
       "text": [
        "\n",
        "[ 0.04380165  0.01981891  0.16597938 -0.0255144   0.01262231 -0.00794218]"
       ]
      },
      {
       "output_type": "stream",
       "stream": "stdout",
       "text": [
        "\n",
        "[ 0.03991935 -0.03253359 -0.00528376 -0.1405303   0.         -0.02002236]"
       ]
      },
      {
       "output_type": "stream",
       "stream": "stdout",
       "text": [
        "\n",
        "[ 0.02435897 -0.05       -0.03603239 -0.19844961 -0.016      -0.0299226 ]"
       ]
      },
      {
       "output_type": "stream",
       "stream": "stdout",
       "text": [
        "\n",
        "[ 0.04813084  0.00948827  0.12463466 -0.05587045  0.01382979 -0.01032205]"
       ]
      },
      {
       "output_type": "stream",
       "stream": "stdout",
       "text": [
        "\n",
        "[ 0.03695652 -0.02594937 -0.028      -0.18149606 -0.00652174 -0.02409252]"
       ]
      },
      {
       "output_type": "stream",
       "stream": "stdout",
       "text": [
        "\n",
        "[ 0.04375     0.01066253  0.09527559 -0.08712871  0.02216495 -0.0148608 ]"
       ]
      },
      {
       "output_type": "stream",
       "stream": "stdout",
       "text": [
        "\n",
        "[ 0.04001996  0.0019833   0.14042553 -0.02212944  0.06087866 -0.0001488 ]"
       ]
      },
      {
       "output_type": "stream",
       "stream": "stdout",
       "text": [
        "\n",
        "[ 0.02938144 -0.00813953  0.09587629 -0.14896266  0.01007752 -0.02007643]"
       ]
      },
      {
       "output_type": "stream",
       "stream": "stdout",
       "text": [
        "\n",
        "[ 0.03780488 -0.01048387  0.06434426 -0.125       0.00378486 -0.01529313]"
       ]
      },
      {
       "output_type": "stream",
       "stream": "stdout",
       "text": [
        "\n",
        "[ 0.04610895  0.00472441  0.14745763 -0.06197183  0.0046875  -0.01249453]"
       ]
      },
      {
       "output_type": "stream",
       "stream": "stdout",
       "text": [
        "\n",
        "[ 0.0360835  -0.02212476  0.07327935 -0.13305955  0.01578947 -0.01931954]"
       ]
      },
      {
       "output_type": "stream",
       "stream": "stdout",
       "text": [
        "\n",
        "[ 0.036      -0.00068226  0.10452675 -0.09979716  0.03333333 -0.01153318]"
       ]
      },
      {
       "output_type": "stream",
       "stream": "stdout",
       "text": [
        "\n",
        "[ 0.0394958  -0.00283019  0.08769841 -0.16386037 -0.00409182 -0.02243289]"
       ]
      },
      {
       "output_type": "stream",
       "stream": "stdout",
       "text": [
        "\n",
        "[ 0.04393939  0.01370968  0.12723577 -0.10325203  0.0315534  -0.00846642]"
       ]
      },
      {
       "output_type": "stream",
       "stream": "stdout",
       "text": [
        "\n",
        "[ 0.03852772 -0.00961538  0.10942623 -0.08008048  0.02662083 -0.00971648]"
       ]
      },
      {
       "output_type": "stream",
       "stream": "stdout",
       "text": [
        "\n",
        "[ 0.03504274 -0.01490872  0.04338086 -0.11629779  0.02602339 -0.01527123]"
       ]
      },
      {
       "output_type": "stream",
       "stream": "stdout",
       "text": [
        "\n",
        "[ 0.03109244 -0.02959184  0.07070064 -0.14193548  0.02326733 -0.01416556]"
       ]
      },
      {
       "output_type": "stream",
       "stream": "stdout",
       "text": [
        "\n",
        "[ 0.04410609  0.00525292  0.11488934 -0.05891473  0.03661417 -0.00825819]"
       ]
      },
      {
       "output_type": "stream",
       "stream": "stdout",
       "text": [
        "\n",
        "[ 0.03989899 -0.02910751  0.03964497 -0.14368932 -0.00463511 -0.013047  ]"
       ]
      },
      {
       "output_type": "stream",
       "stream": "stdout",
       "text": [
        "\n",
        "[ 0.038       0.00785441  0.10151229 -0.08810916  0.01163022 -0.01191471]"
       ]
      },
      {
       "output_type": "stream",
       "stream": "stdout",
       "text": [
        "\n",
        "[ 0.03613861  0.01754564  0.12101167 -0.09960474  0.028      -0.01123999]"
       ]
      },
      {
       "output_type": "stream",
       "stream": "stdout",
       "text": [
        "\n",
        "[ 0.04171843 -0.01358382  0.07272727 -0.1107943   0.00367793 -0.01568249]"
       ]
      },
      {
       "output_type": "stream",
       "stream": "stdout",
       "text": [
        "\n",
        "[ 0.02859922 -0.02514451  0.05894539 -0.11347249  0.0013347  -0.01581453]"
       ]
      },
      {
       "output_type": "stream",
       "stream": "stdout",
       "text": [
        "\n",
        "[ 0.0295082  -0.02201646  0.04696356 -0.1230444  -0.01428571 -0.0190568 ]"
       ]
      },
      {
       "output_type": "stream",
       "stream": "stdout",
       "text": [
        "\n",
        "[ 0.03383838 -0.01841046  0.05101215 -0.13880597  0.00168986 -0.01860908]"
       ]
      },
      {
       "output_type": "stream",
       "stream": "stdout",
       "text": [
        "\n",
        "[ 0.04396378 -0.0046875   0.06424361 -0.10656371  0.01693712 -0.01490584]"
       ]
      },
      {
       "output_type": "stream",
       "stream": "stdout",
       "text": [
        "\n",
        "[ 0.03428291  0.00121951  0.09055441 -0.09383698  0.00306122 -0.01798323]"
       ]
      },
      {
       "output_type": "stream",
       "stream": "stdout",
       "text": [
        "\n",
        "[ 0.03765432 -0.03398437  0.05680934 -0.14404762 -0.01226415 -0.02014704]"
       ]
      },
      {
       "output_type": "stream",
       "stream": "stdout",
       "text": [
        "\n",
        "[ 0.04226306  0.00528455  0.08514056 -0.09607843  0.01060606 -0.01638342]"
       ]
      },
      {
       "output_type": "stream",
       "stream": "stdout",
       "text": [
        "\n",
        "[ 0.03818898  0.00744681  0.07996071 -0.11428571  0.01189555 -0.01276618]"
       ]
      },
      {
       "output_type": "stream",
       "stream": "stdout",
       "text": [
        "\n",
        "[ 0.04375     0.00418327  0.07       -0.14698795  0.00588822 -0.01846083]"
       ]
      },
      {
       "output_type": "stream",
       "stream": "stdout",
       "text": [
        "\n",
        "[ 0.04201597 -0.01177606  0.1150289  -0.09818913  0.00765408 -0.01212962]"
       ]
      },
      {
       "output_type": "stream",
       "stream": "stdout",
       "text": [
        "\n",
        "[ 0.04178645 -0.00327869  0.10769231 -0.09126214  0.01134969 -0.0141924 ]"
       ]
      },
      {
       "output_type": "stream",
       "stream": "stdout",
       "text": [
        "\n",
        "[ 0.02813121 -0.01412826  0.06023392 -0.14747475  0.00485232 -0.01720404]"
       ]
      },
      {
       "output_type": "stream",
       "stream": "stdout",
       "text": [
        "\n",
        "[ 0.03837209 -0.0255814   0.07568134 -0.11907757  0.00306122 -0.01500558]"
       ]
      },
      {
       "output_type": "stream",
       "stream": "stdout",
       "text": [
        "\n",
        "[ 0.04190283 -0.02862903  0.08343949 -0.12222222  0.01311637 -0.01636758]"
       ]
      },
      {
       "output_type": "stream",
       "stream": "stdout",
       "text": [
        "\n",
        "[ 0.03178138  0.01640316  0.09754601 -0.14233129  0.01275304 -0.0127811 ]"
       ]
      },
      {
       "output_type": "stream",
       "stream": "stdout",
       "text": [
        "\n",
        "[ 0.03818898 -0.0125      0.06070039 -0.16363636 -0.01304348 -0.01665033]"
       ]
      },
      {
       "output_type": "stream",
       "stream": "stdout",
       "text": [
        "\n",
        "[ 0.03031496 -0.04018036  0.06264591 -0.15251509  0.00432596 -0.01666586]"
       ]
      },
      {
       "output_type": "stream",
       "stream": "stdout",
       "text": [
        "\n",
        "[ 0.03767967 -0.00905512  0.09881657 -0.10875764  0.02346939 -0.01399811]"
       ]
      },
      {
       "output_type": "stream",
       "stream": "stdout",
       "text": [
        "\n",
        "[ 0.03627451 -0.01066946  0.11712062 -0.12908367  0.0037428  -0.01650901]"
       ]
      },
      {
       "output_type": "stream",
       "stream": "stdout",
       "text": [
        "\n",
        "[ 0.04588477 -0.01477733  0.08781925 -0.06730402 -0.00537525 -0.01499866]"
       ]
      },
      {
       "output_type": "stream",
       "stream": "stdout",
       "text": [
        "\n",
        "[ 0.03046875 -0.00788423  0.08571429 -0.12574627  0.00555556 -0.01556616]"
       ]
      },
      {
       "output_type": "stream",
       "stream": "stdout",
       "text": [
        "\n",
        "Optimization terminated successfully.\n",
        "         Current function value: 0.014820\n",
        "         Iterations: 33\n",
        "         Function evaluations: 70\n",
        "[ 0.02813121 -0.00668016  0.05604839 -0.13263158 -0.00353535 -0.01538283]"
       ]
      },
      {
       "output_type": "stream",
       "stream": "stdout",
       "text": [
        "\n",
        "[-0.00608519 -0.01495726 -0.04330629 -0.13892216  0.03317215 -0.01513949]"
       ]
      },
      {
       "output_type": "stream",
       "stream": "stdout",
       "text": [
        "\n",
        "[ 0.         -0.01195219  0.0009434  -0.09236641  0.06811024 -0.01369963]"
       ]
      },
      {
       "output_type": "stream",
       "stream": "stdout",
       "text": [
        "\n",
        "[ 0.         -0.00587084  0.01280992  0.05517241  0.19593496  0.01248236]"
       ]
      },
      {
       "output_type": "stream",
       "stream": "stdout",
       "text": [
        "\n",
        "[-0.00211416 -0.01960784 -0.06332008 -0.25        0.01844106 -0.02689539]"
       ]
      },
      {
       "output_type": "stream",
       "stream": "stdout",
       "text": [
        "\n",
        "[-0.00201613 -0.00804829 -0.01896552 -0.16133829  0.0621673  -0.01566319]"
       ]
      },
      {
       "output_type": "stream",
       "stream": "stdout",
       "text": [
        "\n",
        "[-0.00589391 -0.05758157 -0.11789668 -0.31101871  0.02662835 -0.02593033]"
       ]
      },
      {
       "output_type": "stream",
       "stream": "stdout",
       "text": [
        "\n",
        "[ 0.         -0.00209644  0.03373984  0.08228106  0.16301775  0.00353674]"
       ]
      },
      {
       "output_type": "stream",
       "stream": "stdout",
       "text": [
        "\n",
        "[ 0.          0.          0.042       0.17710843  0.31363636  0.01534333]"
       ]
      },
      {
       "output_type": "stream",
       "stream": "stdout",
       "text": [
        "\n",
        "[-0.00206612 -0.01204819 -0.02128713 -0.14313725  0.04920635 -0.01597533]"
       ]
      },
      {
       "output_type": "stream",
       "stream": "stdout",
       "text": [
        "\n",
        "[ 0.         -0.01380671 -0.05931174 -0.21649485 -0.01571429 -0.0381824 ]"
       ]
      },
      {
       "output_type": "stream",
       "stream": "stdout",
       "text": [
        "\n",
        "[-0.0019685  -0.00784314  0.01252465 -0.01046278  0.13613861  0.00217392]"
       ]
      },
      {
       "output_type": "stream",
       "stream": "stdout",
       "text": [
        "\n",
        "[-0.00970874 -0.03       -0.11666667 -0.31020408  0.00648536 -0.02509915]"
       ]
      },
      {
       "output_type": "stream",
       "stream": "stdout",
       "text": [
        "\n",
        "[ 0.         -0.00604839  0.02946612 -0.03145161  0.0891129  -0.00437742]"
       ]
      },
      {
       "output_type": "stream",
       "stream": "stdout",
       "text": [
        "\n",
        "[ 0.         -0.00811359  0.00866142  0.04811133  0.0754902  -0.0025705 ]"
       ]
      },
      {
       "output_type": "stream",
       "stream": "stdout",
       "text": [
        "\n",
        "[ 0.         -0.00197628  0.02718631  0.082       0.14191919  0.00158671]"
       ]
      },
      {
       "output_type": "stream",
       "stream": "stdout",
       "text": [
        "\n",
        "[ 0.         -0.00590551  0.02419355  0.07251462  0.22459016  0.00313047]"
       ]
      },
      {
       "output_type": "stream",
       "stream": "stdout",
       "text": [
        "\n",
        "[-0.00207469 -0.00402414 -0.01680162 -0.10416667  0.10594542 -0.01036341]"
       ]
      },
      {
       "output_type": "stream",
       "stream": "stdout",
       "text": [
        "\n",
        "[-0.00197628 -0.00382409  0.03262548  0.03207547  0.13091451  0.00105085]"
       ]
      },
      {
       "output_type": "stream",
       "stream": "stdout",
       "text": [
        "\n",
        "[ 0.         -0.00210526  0.03294243  0.06210938  0.17077922  0.00287035]"
       ]
      },
      {
       "output_type": "stream",
       "stream": "stdout",
       "text": [
        "\n",
        "[ 0.         -0.00603622  0.00102041 -0.06387833  0.07269939 -0.00715541]"
       ]
      },
      {
       "output_type": "stream",
       "stream": "stdout",
       "text": [
        "\n",
        "[ 0.         -0.01571709 -0.04375    -0.11730769  0.05909091 -0.01232004]"
       ]
      },
      {
       "output_type": "stream",
       "stream": "stdout",
       "text": [
        "\n",
        "[-0.00186567  0.          0.01969697  0.00117878  0.10212982 -0.0025198 ]"
       ]
      },
      {
       "output_type": "stream",
       "stream": "stdout",
       "text": [
        "\n",
        "[ 0.         -0.01571709  0.00117188 -0.04081633  0.09072495 -0.01229864]"
       ]
      },
      {
       "output_type": "stream",
       "stream": "stdout",
       "text": [
        "\n",
        "[-0.00196078 -0.00392927  0.02457627  0.06033755  0.14253438 -0.00027258]"
       ]
      },
      {
       "output_type": "stream",
       "stream": "stdout",
       "text": [
        "\n",
        "[-0.00199601 -0.00801603  0.00882353 -0.02802303  0.11634429 -0.00896285]"
       ]
      },
      {
       "output_type": "stream",
       "stream": "stdout",
       "text": [
        "\n",
        "[ 0.         -0.0060241   0.01856582 -0.00784314  0.07753036 -0.00449562]"
       ]
      },
      {
       "output_type": "stream",
       "stream": "stdout",
       "text": [
        "\n",
        "[-0.00192678 -0.00400802  0.02087379 -0.01386139  0.13269231 -0.00321164]"
       ]
      },
      {
       "output_type": "stream",
       "stream": "stdout",
       "text": [
        "\n",
        "[ 0.         -0.00626305  0.01237624 -0.00037244  0.12714286 -0.00859114]"
       ]
      },
      {
       "output_type": "stream",
       "stream": "stdout",
       "text": [
        "\n",
        "[-0.00201613 -0.00195312  0.01106557 -0.02052314  0.12588933 -0.00206478]"
       ]
      },
      {
       "output_type": "stream",
       "stream": "stdout",
       "text": [
        "\n",
        "[ 0.         -0.01052632 -0.01130268 -0.03286573  0.08888889 -0.00849963]"
       ]
      },
      {
       "output_type": "stream",
       "stream": "stdout",
       "text": [
        "\n",
        "[ 0.         -0.00390625  0.00841996 -0.05        0.10384615 -0.00713881]"
       ]
      },
      {
       "output_type": "stream",
       "stream": "stdout",
       "text": [
        "\n",
        "[ 0.         -0.00410678  0.0016129  -0.00524194  0.10809524 -0.00199361]"
       ]
      },
      {
       "output_type": "stream",
       "stream": "stdout",
       "text": [
        "\n",
        "[ 0.         -0.01192843  0.00378151 -0.03524416  0.1        -0.00815479]"
       ]
      },
      {
       "output_type": "stream",
       "stream": "stdout",
       "text": [
        "\n",
        "[ 0.         -0.00200803  0.01572581 -0.02379958  0.11032064 -0.00186241]"
       ]
      },
      {
       "output_type": "stream",
       "stream": "stdout",
       "text": [
        "\n",
        "[ 0.         -0.00571429  0.014      -0.03712575  0.09084507 -0.00368421]"
       ]
      },
      {
       "output_type": "stream",
       "stream": "stdout",
       "text": [
        "\n",
        "[-0.00186916 -0.00588235  0.01692607 -0.06893788  0.094      -0.0091629 ]"
       ]
      },
      {
       "output_type": "stream",
       "stream": "stdout",
       "text": [
        "\n",
        "[-0.00795229  0.         -0.00304519  0.01952191  0.11767677 -0.00574105]"
       ]
      },
      {
       "output_type": "stream",
       "stream": "stdout",
       "text": [
        "\n",
        "[ 0.         -0.0094162   0.022167   -0.01584158  0.09933837 -0.00455365]"
       ]
      },
      {
       "output_type": "stream",
       "stream": "stdout",
       "text": [
        "\n",
        "[-0.00188679 -0.01446281  0.02435897 -0.02406312  0.11330645 -0.0061315 ]"
       ]
      },
      {
       "output_type": "stream",
       "stream": "stdout",
       "text": [
        "\n",
        "[-0.00194175 -0.00404858  0.01680498 -0.03512974  0.10010142 -0.00604051]"
       ]
      },
      {
       "output_type": "stream",
       "stream": "stdout",
       "text": [
        "\n",
        "[ 0.          0.          0.01078431 -0.05652174  0.08320463 -0.00620461]"
       ]
      },
      {
       "output_type": "stream",
       "stream": "stdout",
       "text": [
        "\n",
        "[-0.00204918 -0.00584795  0.00808383 -0.0333996   0.11356108 -0.00292883]"
       ]
      },
      {
       "output_type": "stream",
       "stream": "stdout",
       "text": [
        "\n",
        "Optimization terminated successfully.\n",
        "         Current function value: 0.006474\n",
        "         Iterations: 17\n",
        "         Function evaluations: 42\n",
        "[-0.00204499 -0.00811359  0.00744681 -0.02741935  0.11016427 -0.00562   ]"
       ]
      },
      {
       "output_type": "stream",
       "stream": "stdout",
       "text": [
        "\n",
        "[-0.00197628 -0.02020202  0.06848907  0.40306748  0.10351967  0.01731446]"
       ]
      },
      {
       "output_type": "stream",
       "stream": "stdout",
       "text": [
        "\n",
        "[-0.00192308 -0.01701323  0.08965517  0.42642276  0.09979633  0.01676684]"
       ]
      },
      {
       "output_type": "stream",
       "stream": "stdout",
       "text": [
        "\n",
        "[ 0.         -0.00814664  0.1245098   0.54403292  0.24696356  0.04405697]"
       ]
      },
      {
       "output_type": "stream",
       "stream": "stdout",
       "text": [
        "\n",
        "[-0.00411523 -0.01840491  0.0559501   0.28336714  0.05967078  0.00271516]"
       ]
      },
      {
       "output_type": "stream",
       "stream": "stdout",
       "text": [
        "\n",
        "[ 0.         -0.0141129   0.07322097  0.34276458  0.10323887  0.01566867]"
       ]
      },
      {
       "output_type": "stream",
       "stream": "stdout",
       "text": [
        "\n",
        "[-0.00386847 -0.05544554 -0.01435644  0.2234127   0.05970149  0.00336781]"
       ]
      },
      {
       "output_type": "stream",
       "stream": "stdout",
       "text": [
        "\n",
        "[-0.00603622 -0.06395349 -0.09242424  0.1016129   0.02760085 -0.02644696]"
       ]
      },
      {
       "output_type": "stream",
       "stream": "stdout",
       "text": [
        "\n",
        "[-0.03929273 -0.18664047 -0.37610442 -0.04396552  0.00191939 -0.06370119]"
       ]
      },
      {
       "output_type": "stream",
       "stream": "stdout",
       "text": [
        "\n",
        "[-0.01217039 -0.06517312 -0.11732673  0.08315789  0.03883495 -0.00945294]"
       ]
      },
      {
       "output_type": "stream",
       "stream": "stdout",
       "text": [
        "\n",
        "[-0.01949318 -0.07992203 -0.17040816  0.05830116  0.01775148 -0.02441663]"
       ]
      },
      {
       "output_type": "stream",
       "stream": "stdout",
       "text": [
        "\n",
        "[-0.0392562  -0.14401623 -0.28835616 -0.01358025  0.01295896 -0.03909589]"
       ]
      },
      {
       "output_type": "stream",
       "stream": "stdout",
       "text": [
        "\n",
        "[-0.02539062 -0.108742   -0.1609405   0.0211499   0.01229508 -0.02438222]"
       ]
      },
      {
       "output_type": "stream",
       "stream": "stdout",
       "text": [
        "\n",
        "[-0.07407407 -0.17919075 -0.32509579  0.02352941  0.01162791 -0.03611416]"
       ]
      },
      {
       "output_type": "stream",
       "stream": "stdout",
       "text": [
        "\n",
        "[-0.00829876 -0.02674897 -0.00339806  0.18865979  0.02862595 -0.00542703]"
       ]
      },
      {
       "output_type": "stream",
       "stream": "stdout",
       "text": [
        "\n",
        "[-0.01204819 -0.1021611  -0.17245681  0.04258912  0.0095057  -0.03908736]"
       ]
      },
      {
       "output_type": "stream",
       "stream": "stdout",
       "text": [
        "\n",
        "[-0.01616162 -0.08984375 -0.12504912  0.05843621  0.01666667 -0.02939814]"
       ]
      },
      {
       "output_type": "stream",
       "stream": "stdout",
       "text": [
        "\n",
        "[-0.00206186 -0.05030181 -0.0471831   0.13818898  0.02626263 -0.01544099]"
       ]
      },
      {
       "output_type": "stream",
       "stream": "stdout",
       "text": [
        "\n",
        "[-0.00209205 -0.02204409 -0.01194332  0.20196078  0.03206413 -0.01080594]"
       ]
      },
      {
       "output_type": "stream",
       "stream": "stdout",
       "text": [
        "\n",
        "[-0.01380671 -0.06560636 -0.08935091  0.07509728  0.01388889 -0.02090759]"
       ]
      },
      {
       "output_type": "stream",
       "stream": "stdout",
       "text": [
        "\n",
        "[-0.02268431 -0.1090535  -0.20029354  0.03833992  0.01388889 -0.03389439]"
       ]
      },
      {
       "output_type": "stream",
       "stream": "stdout",
       "text": [
        "\n",
        "[-0.00968992 -0.03018109 -0.05717131  0.14571429  0.03448276 -0.01300122]"
       ]
      },
      {
       "output_type": "stream",
       "stream": "stdout",
       "text": [
        "\n",
        "[-0.00796813 -0.04426559 -0.05486815  0.20812854  0.04405286 -0.0059522 ]"
       ]
      },
      {
       "output_type": "stream",
       "stream": "stdout",
       "text": [
        "\n",
        "[-0.02131783 -0.06841046 -0.093762    0.09883041  0.00988142 -0.02556505]"
       ]
      },
      {
       "output_type": "stream",
       "stream": "stdout",
       "text": [
        "\n",
        "[-0.02443992 -0.07786885 -0.08703704  0.04919355  0.02145923 -0.02739605]"
       ]
      },
      {
       "output_type": "stream",
       "stream": "stdout",
       "text": [
        "\n",
        "[-0.01782178 -0.11439842 -0.15927835  0.03496933  0.00808081 -0.03181215]"
       ]
      },
      {
       "output_type": "stream",
       "stream": "stdout",
       "text": [
        "\n",
        "[-0.0204918  -0.05859375 -0.106917    0.07682927  0.02734375 -0.03318656]"
       ]
      },
      {
       "output_type": "stream",
       "stream": "stdout",
       "text": [
        "\n",
        "[-0.01875    -0.09215686 -0.1785124   0.04574899  0.01821862 -0.03585248]"
       ]
      },
      {
       "output_type": "stream",
       "stream": "stdout",
       "text": [
        "\n",
        "[-0.01033058 -0.06967985 -0.08232323  0.10682303  0.03901437 -0.02227788]"
       ]
      },
      {
       "output_type": "stream",
       "stream": "stdout",
       "text": [
        "\n",
        "[-0.01754386 -0.05476673 -0.15425963  0.0714876   0.02242991 -0.02346743]"
       ]
      },
      {
       "output_type": "stream",
       "stream": "stdout",
       "text": [
        "\n",
        "[-0.00796813 -0.08       -0.08046092  0.08965517  0.01701323 -0.02945169]"
       ]
      },
      {
       "output_type": "stream",
       "stream": "stdout",
       "text": [
        "\n",
        "[-0.02204409 -0.09349593 -0.09705882  0.09320594  0.02362205 -0.0237865 ]"
       ]
      },
      {
       "output_type": "stream",
       "stream": "stdout",
       "text": [
        "\n",
        "[-0.01646091 -0.06876228 -0.08565574  0.09284294  0.02255639 -0.02377316]"
       ]
      },
      {
       "output_type": "stream",
       "stream": "stdout",
       "text": [
        "\n",
        "[-0.01405622 -0.04901961 -0.11347305  0.0954023   0.02610442 -0.02117858]"
       ]
      },
      {
       "output_type": "stream",
       "stream": "stdout",
       "text": [
        "\n",
        "[-0.00961538 -0.08032129 -0.13742515  0.07137097  0.0244898  -0.02831626]"
       ]
      },
      {
       "output_type": "stream",
       "stream": "stdout",
       "text": [
        "\n",
        "[-0.01372549 -0.07554672 -0.11141079  0.11384929  0.0204499  -0.02604876]"
       ]
      },
      {
       "output_type": "stream",
       "stream": "stdout",
       "text": [
        "\n",
        "[-0.02448211 -0.09414226 -0.1239212   0.10309478  0.00634249 -0.02669561]"
       ]
      },
      {
       "output_type": "stream",
       "stream": "stdout",
       "text": [
        "\n",
        "[-0.03278689 -0.08247423 -0.13630705  0.09057377  0.01574803 -0.02472677]"
       ]
      },
      {
       "output_type": "stream",
       "stream": "stdout",
       "text": [
        "\n",
        "[-0.0186722  -0.06706114 -0.13968254  0.0741683   0.02772277 -0.02206504]"
       ]
      },
      {
       "output_type": "stream",
       "stream": "stdout",
       "text": [
        "\n",
        "[-0.02307692 -0.07784431 -0.1218254   0.06255144  0.02941176 -0.02393372]"
       ]
      },
      {
       "output_type": "stream",
       "stream": "stdout",
       "text": [
        "\n",
        "[-0.02310924 -0.07157058 -0.12234927  0.07193676  0.01878914 -0.02559811]"
       ]
      },
      {
       "output_type": "stream",
       "stream": "stdout",
       "text": [
        "\n",
        "[-0.01547389 -0.06813627 -0.11219512  0.07959184  0.02719665 -0.02402485]"
       ]
      },
      {
       "output_type": "stream",
       "stream": "stdout",
       "text": [
        "\n",
        "[-0.02642276 -0.07484407 -0.0980916   0.08623482  0.02579365 -0.02142681]"
       ]
      },
      {
       "output_type": "stream",
       "stream": "stdout",
       "text": [
        "\n",
        "[-0.01431493 -0.08484848 -0.15177515  0.06023166  0.0203252  -0.02601711]"
       ]
      },
      {
       "output_type": "stream",
       "stream": "stdout",
       "text": [
        "\n",
        "[-0.01851852 -0.08247423 -0.15255403  0.07554241  0.01702128 -0.02304034]"
       ]
      },
      {
       "output_type": "stream",
       "stream": "stdout",
       "text": [
        "\n",
        "[-0.01976285 -0.09727626 -0.16379962  0.07575758  0.02272727 -0.02278664]"
       ]
      },
      {
       "output_type": "stream",
       "stream": "stdout",
       "text": [
        "\n",
        "[-0.01383399 -0.07645875 -0.1019084   0.06155419  0.01851852 -0.02540281]"
       ]
      },
      {
       "output_type": "stream",
       "stream": "stdout",
       "text": [
        "\n",
        "[-0.0259481  -0.07       -0.1203252   0.10977597  0.02718447 -0.02463488]"
       ]
      },
      {
       "output_type": "stream",
       "stream": "stdout",
       "text": [
        "\n",
        "[-0.01646091 -0.10059172 -0.13913043  0.08290258  0.025      -0.02476329]"
       ]
      },
      {
       "output_type": "stream",
       "stream": "stdout",
       "text": [
        "\n",
        "[-0.01587302 -0.08582834 -0.11494024  0.07102616  0.01778656 -0.02431871]"
       ]
      },
      {
       "output_type": "stream",
       "stream": "stdout",
       "text": [
        "\n",
        "Optimization terminated successfully.\n",
        "         Current function value: 0.017867\n",
        "         Iterations: 18\n",
        "         Function evaluations: 49\n",
        "[-0.02745098 -0.08080808 -0.15339321  0.06666667  0.03319502 -0.02723331]"
       ]
      },
      {
       "output_type": "stream",
       "stream": "stdout",
       "text": [
        "\n",
        "[ 0.         -0.01807229  0.27592593 -0.00252918 -0.07136929  0.01060798]"
       ]
      },
      {
       "output_type": "stream",
       "stream": "stdout",
       "text": [
        "\n",
        "[ 0.         -0.0170778   0.30783133  0.06473477 -0.08589212  0.01042258]"
       ]
      },
      {
       "output_type": "stream",
       "stream": "stdout",
       "text": [
        "\n",
        "[ 0.         -0.00594059  0.32070312  0.19765784  0.04313725  0.0371559 ]"
       ]
      },
      {
       "output_type": "stream",
       "stream": "stdout",
       "text": [
        "\n",
        "[-0.00384615 -0.01440329  0.24979123 -0.07808349 -0.15228628 -0.00497597]"
       ]
      },
      {
       "output_type": "stream",
       "stream": "stdout",
       "text": [
        "\n",
        "[-0.00795229 -0.01593625  0.27079208  0.0061753  -0.091258    0.00852937]"
       ]
      },
      {
       "output_type": "stream",
       "stream": "stdout",
       "text": [
        "\n",
        "[-0.00642398 -0.04448743  0.17398453 -0.08899614 -0.16066253 -0.00354018]"
       ]
      },
      {
       "output_type": "stream",
       "stream": "stdout",
       "text": [
        "\n",
        "[-0.00842105 -0.05371901  0.08913043 -0.23651685 -0.17903564 -0.03271257]"
       ]
      },
      {
       "output_type": "stream",
       "stream": "stdout",
       "text": [
        "\n",
        "[-0.01276596 -0.08086785  0.09224806 -0.22603143 -0.166      -0.01886029]"
       ]
      },
      {
       "output_type": "stream",
       "stream": "stdout",
       "text": [
        "\n",
        "[ 0.         -0.01174168  0.30472441  0.1        -0.06193294  0.02755775]"
       ]
      },
      {
       "output_type": "stream",
       "stream": "stdout",
       "text": [
        "\n",
        "[-0.00782779 -0.04230769  0.16325301 -0.17392638 -0.162818   -0.01669684]"
       ]
      },
      {
       "output_type": "stream",
       "stream": "stdout",
       "text": [
        "\n",
        "[-0.00198807 -0.00796813  0.32017893  0.10625    -0.03773585  0.01520203]"
       ]
      },
      {
       "output_type": "stream",
       "stream": "stdout",
       "text": [
        "\n",
        "[-0.00795229 -0.04263566  0.19867076 -0.19703557 -0.16177062 -0.00985606]"
       ]
      },
      {
       "output_type": "stream",
       "stream": "stdout",
       "text": [
        "\n",
        "[-0.00628931 -0.02828283  0.246       0.01370968 -0.1202454   0.00477154]"
       ]
      },
      {
       "output_type": "stream",
       "stream": "stdout",
       "text": [
        "\n",
        "[-0.00384615 -0.02310924  0.2497955  -0.05970874 -0.11423002  0.0024518 ]"
       ]
      },
      {
       "output_type": "stream",
       "stream": "stdout",
       "text": [
        "\n",
        "[-0.01002004 -0.03427419  0.1868932  -0.16653543 -0.16551724 -0.00997865]"
       ]
      },
      {
       "output_type": "stream",
       "stream": "stdout",
       "text": [
        "\n",
        "[-0.00379507 -0.01437372  0.21554622 -0.10731463 -0.12234848 -0.00293392]"
       ]
      },
      {
       "output_type": "stream",
       "stream": "stdout",
       "text": [
        "\n",
        "[-0.01237113 -0.04771372  0.11846307 -0.20793651 -0.15393474 -0.01172327]"
       ]
      },
      {
       "output_type": "stream",
       "stream": "stdout",
       "text": [
        "\n",
        "[-0.00198413 -0.02739726  0.21019417 -0.07162162 -0.12031873  0.00537403]"
       ]
      },
      {
       "output_type": "stream",
       "stream": "stdout",
       "text": [
        "\n",
        "[-0.00187617 -0.01875     0.24873418 -0.05894942 -0.06857143  0.01388372]"
       ]
      },
      {
       "output_type": "stream",
       "stream": "stdout",
       "text": [
        "\n",
        "[-0.00212766 -0.01188119  0.27484342  0.00669291 -0.08104839  0.01056546]"
       ]
      },
      {
       "output_type": "stream",
       "stream": "stdout",
       "text": [
        "\n",
        "[-0.002      -0.02851324  0.23801572 -0.06630219 -0.09688716  0.00682947]"
       ]
      },
      {
       "output_type": "stream",
       "stream": "stdout",
       "text": [
        "\n",
        "[-0.00410678 -0.02268431  0.21491935 -0.13308351 -0.13574297  0.0011565 ]"
       ]
      },
      {
       "output_type": "stream",
       "stream": "stdout",
       "text": [
        "\n",
        "[-0.00619835 -0.0260223   0.24263158 -0.07962963 -0.11239316  0.00383574]"
       ]
      },
      {
       "output_type": "stream",
       "stream": "stdout",
       "text": [
        "\n",
        "[-0.00994036 -0.03807615  0.20607477 -0.112      -0.11666667  0.00062147]"
       ]
      },
      {
       "output_type": "stream",
       "stream": "stdout",
       "text": [
        "\n",
        "[-0.00393701 -0.05050505  0.21354379 -0.15973783 -0.14020619 -0.00111438]"
       ]
      },
      {
       "output_type": "stream",
       "stream": "stdout",
       "text": [
        "\n",
        "[-0.00201207 -0.01875     0.20979381 -0.07909836 -0.1375      0.00362693]"
       ]
      },
      {
       "output_type": "stream",
       "stream": "stdout",
       "text": [
        "\n",
        "[-0.006      -0.03258656  0.24230769 -0.07749004 -0.10392157  0.00881829]"
       ]
      },
      {
       "output_type": "stream",
       "stream": "stdout",
       "text": [
        "\n",
        "[ -5.84795322e-03  -2.04918033e-02   2.15030675e-01  -1.23956262e-01\n",
        "  -1.40239044e-01   1.02252758e-04]"
       ]
      },
      {
       "output_type": "stream",
       "stream": "stdout",
       "text": [
        "\n",
        "[-0.0038835  -0.03777336  0.18044316 -0.07757202 -0.13713163  0.0015302 ]"
       ]
      },
      {
       "output_type": "stream",
       "stream": "stdout",
       "text": [
        "\n",
        "[-0.00592885 -0.03386454  0.22790698 -0.03333333 -0.13897638  0.00498011]"
       ]
      },
      {
       "output_type": "stream",
       "stream": "stdout",
       "text": [
        "\n",
        "[-0.00197628 -0.02584493  0.24980354 -0.08244353 -0.12814371  0.00284071]"
       ]
      },
      {
       "output_type": "stream",
       "stream": "stdout",
       "text": [
        "\n",
        "[-0.00400802 -0.01593625  0.24026915 -0.03891013 -0.11395793  0.00600556]"
       ]
      },
      {
       "output_type": "stream",
       "stream": "stdout",
       "text": [
        "\n",
        "[-0.00196078 -0.02286902  0.21666667 -0.10815324 -0.14257426  0.00200278]"
       ]
      },
      {
       "output_type": "stream",
       "stream": "stdout",
       "text": [
        "\n",
        "[-0.00200803 -0.04365904  0.25688259 -0.09788732 -0.1184466   0.00309125]"
       ]
      },
      {
       "output_type": "stream",
       "stream": "stdout",
       "text": [
        "\n",
        "[-0.00205761 -0.02195609  0.22128713 -0.08793103 -0.11501976  0.00285127]"
       ]
      },
      {
       "output_type": "stream",
       "stream": "stdout",
       "text": [
        "\n",
        "[-0.01008065 -0.03501946  0.22084149 -0.07096774 -0.12616034  0.00845085]"
       ]
      },
      {
       "output_type": "stream",
       "stream": "stdout",
       "text": [
        "\n",
        "[-0.00404858 -0.03244275  0.22715517 -0.0683953  -0.124       0.00744301]"
       ]
      },
      {
       "output_type": "stream",
       "stream": "stdout",
       "text": [
        "\n",
        "[-0.00604839 -0.04056795  0.21653386 -0.06932939 -0.11434263  0.00515166]"
       ]
      },
      {
       "output_type": "stream",
       "stream": "stdout",
       "text": [
        "\n",
        "[-0.00770713 -0.02868852  0.17773109 -0.10833333 -0.09607843  0.00301567]"
       ]
      },
      {
       "output_type": "stream",
       "stream": "stdout",
       "text": [
        "\n",
        "[-0.00770713 -0.05566219  0.19646465 -0.126      -0.11050584  0.00259878]"
       ]
      },
      {
       "output_type": "stream",
       "stream": "stdout",
       "text": [
        "\n",
        "[-0.00619835 -0.03578529  0.23085937 -0.10306122 -0.14186047  0.0025611 ]"
       ]
      },
      {
       "output_type": "stream",
       "stream": "stdout",
       "text": [
        "\n",
        "[ 0.         -0.03968254  0.21128364 -0.03893281 -0.13333333  0.0058237 ]"
       ]
      },
      {
       "output_type": "stream",
       "stream": "stdout",
       "text": [
        "\n",
        "[-0.0019802  -0.02765957  0.20162602 -0.13647541 -0.14095238  0.00313812]"
       ]
      },
      {
       "output_type": "stream",
       "stream": "stdout",
       "text": [
        "\n",
        "[-0.00382409 -0.03488372  0.22722772 -0.04244533 -0.10569745  0.00412443]"
       ]
      },
      {
       "output_type": "stream",
       "stream": "stdout",
       "text": [
        "\n",
        "Optimization terminated successfully.\n",
        "         Current function value: 0.053447\n",
        "         Iterations: 17\n",
        "         Function evaluations: 44\n",
        "[-0.002079   -0.02208835  0.19274194 -0.07324649 -0.11783567  0.00468809]"
       ]
      },
      {
       "output_type": "stream",
       "stream": "stdout",
       "text": [
        "\n",
        "[-0.00209205 -0.0204918  -0.10685484 -0.44101563 -0.20781563 -0.03712435]"
       ]
      },
      {
       "output_type": "stream",
       "stream": "stdout",
       "text": [
        "\n",
        "[-0.00206612 -0.00608519 -0.05263158 -0.32315369 -0.17712665 -0.03672038]"
       ]
      },
      {
       "output_type": "stream",
       "stream": "stdout",
       "text": [
        "\n",
        "[ 0.         -0.00392157 -0.04347826 -0.25166994 -0.05098814 -0.00996729]"
       ]
      },
      {
       "output_type": "stream",
       "stream": "stdout",
       "text": [
        "\n",
        "[-0.01535509 -0.02307692 -0.0990099  -0.54728682 -0.24396552 -0.05235919]"
       ]
      },
      {
       "output_type": "stream",
       "stream": "stdout",
       "text": [
        "\n",
        "[-0.0019685  -0.0259481  -0.09349593 -0.43703704 -0.17242798 -0.03841809]"
       ]
      },
      {
       "output_type": "stream",
       "stream": "stdout",
       "text": [
        "\n",
        "[-0.00992063 -0.04771372 -0.15113872 -0.63214286 -0.242      -0.04976951]"
       ]
      },
      {
       "output_type": "stream",
       "stream": "stdout",
       "text": [
        "\n",
        "[ 0.          0.         -0.03307393 -0.20377358 -0.10511811 -0.02082967]"
       ]
      },
      {
       "output_type": "stream",
       "stream": "stdout",
       "text": [
        "\n",
        "[ 0.          0.         -0.00414938 -0.06804979  0.03667335 -0.00977868]"
       ]
      },
      {
       "output_type": "stream",
       "stream": "stdout",
       "text": [
        "\n",
        "[ 0.          0.         -0.00976562 -0.07790262  0.08764045 -0.00380923]"
       ]
      },
      {
       "output_type": "stream",
       "stream": "stdout",
       "text": [
        "\n",
        "[ 0.          0.         -0.00595238 -0.11        0.1040404  -0.00249664]"
       ]
      },
      {
       "output_type": "stream",
       "stream": "stdout",
       "text": [
        "\n",
        "[ 0.         -0.00203666  0.          0.02168675  0.24489796  0.00824891]"
       ]
      },
      {
       "output_type": "stream",
       "stream": "stdout",
       "text": [
        "\n",
        "[ 0.          0.          0.          0.03675889  0.40119522  0.01839615]"
       ]
      },
      {
       "output_type": "stream",
       "stream": "stdout",
       "text": [
        "\n",
        "[ 0.         -0.00579151 -0.01734104 -0.17710843 -0.06599634 -0.0197668 ]"
       ]
      },
      {
       "output_type": "stream",
       "stream": "stdout",
       "text": [
        "\n",
        "[ 0.          0.          0.          0.02105263  0.22673267  0.00073386]"
       ]
      },
      {
       "output_type": "stream",
       "stream": "stdout",
       "text": [
        "\n",
        "[ 0.         -0.00594059 -0.01792829 -0.25051546 -0.07979798 -0.02508174]"
       ]
      },
      {
       "output_type": "stream",
       "stream": "stdout",
       "text": [
        "\n",
        "[ 0.         -0.00204918  0.         -0.03306452  0.13625498  0.0004737 ]"
       ]
      },
      {
       "output_type": "stream",
       "stream": "stdout",
       "text": [
        "\n",
        "[-0.00205339 -0.01012146 -0.02935421 -0.26062378 -0.08251599 -0.01627752]"
       ]
      },
      {
       "output_type": "stream",
       "stream": "stdout",
       "text": [
        "\n",
        "[ 0.          0.         -0.00389105 -0.06032064  0.15873321 -0.00422734]"
       ]
      },
      {
       "output_type": "stream",
       "stream": "stdout",
       "text": [
        "\n",
        "[ 0.          0.         -0.00410678  0.03067227  0.2746888   0.00889281]"
       ]
      },
      {
       "output_type": "stream",
       "stream": "stdout",
       "text": [
        "\n",
        "[ 0.         -0.00193424 -0.00400802 -0.11868787  0.05365854 -0.00944772]"
       ]
      },
      {
       "output_type": "stream",
       "stream": "stdout",
       "text": [
        "\n",
        "[ 0.         -0.00201613 -0.01134216 -0.13168317 -0.00721649 -0.00858472]"
       ]
      },
      {
       "output_type": "stream",
       "stream": "stdout",
       "text": [
        "\n",
        "[ 0.          0.         -0.00623701 -0.07870722  0.03466934 -0.01004558]"
       ]
      },
      {
       "output_type": "stream",
       "stream": "stdout",
       "text": [
        "\n",
        "[ 0.         -0.00191939 -0.01704545 -0.22046332 -0.04110672 -0.01746338]"
       ]
      },
      {
       "output_type": "stream",
       "stream": "stdout",
       "text": [
        "\n",
        "[ 0.          0.         -0.00199203 -0.0691023   0.0628692  -0.00376393]"
       ]
      },
      {
       "output_type": "stream",
       "stream": "stdout",
       "text": [
        "\n",
        "[ 0.          0.         -0.00606061 -0.05909091  0.10438247 -0.00704276]"
       ]
      },
      {
       "output_type": "stream",
       "stream": "stdout",
       "text": [
        "\n",
        "[ 0.          0.         -0.00190114 -0.04426877  0.11821946 -0.00393924]"
       ]
      },
      {
       "output_type": "stream",
       "stream": "stdout",
       "text": [
        "\n",
        "[ 0.          0.         -0.00201613 -0.052       0.08398357 -0.0041873 ]"
       ]
      },
      {
       "output_type": "stream",
       "stream": "stdout",
       "text": [
        "\n",
        "[ 0.          0.         -0.00395257 -0.10229008  0.05490196 -0.00458241]"
       ]
      },
      {
       "output_type": "stream",
       "stream": "stdout",
       "text": [
        "\n",
        "[ 0.          0.         -0.00199203 -0.09262295  0.03139535 -0.0100882 ]"
       ]
      },
      {
       "output_type": "stream",
       "stream": "stdout",
       "text": [
        "\n",
        "[ 0.          0.         -0.00206186 -0.04020619  0.08252427 -0.00924023]"
       ]
      },
      {
       "output_type": "stream",
       "stream": "stdout",
       "text": [
        "\n",
        "[ 0.         -0.00387597 -0.00589391 -0.04851485  0.01773879 -0.0117187 ]"
       ]
      },
      {
       "output_type": "stream",
       "stream": "stdout",
       "text": [
        "\n",
        "[ 0.          0.         -0.00193424 -0.10754717 -0.04302789 -0.01401337]"
       ]
      },
      {
       "output_type": "stream",
       "stream": "stdout",
       "text": [
        "\n",
        "[ 0.          0.         -0.00200803 -0.09114688  0.0815261  -0.00688336]"
       ]
      },
      {
       "output_type": "stream",
       "stream": "stdout",
       "text": [
        "\n",
        "[ 0.         -0.00211864 -0.00191939 -0.074       0.02879377 -0.00813891]"
       ]
      },
      {
       "output_type": "stream",
       "stream": "stdout",
       "text": [
        "\n",
        "[ 0.         -0.0020284  -0.00380228 -0.09348269 -0.00124481 -0.01604463]"
       ]
      },
      {
       "output_type": "stream",
       "stream": "stdout",
       "text": [
        "\n",
        "[ 0.         -0.00205761 -0.00191205 -0.06591928  0.07577002 -0.00620071]"
       ]
      },
      {
       "output_type": "stream",
       "stream": "stdout",
       "text": [
        "\n",
        "[ 0.         -0.00196464 -0.00206612 -0.06141732  0.05934292 -0.01007811]"
       ]
      },
      {
       "output_type": "stream",
       "stream": "stdout",
       "text": [
        "\n",
        "[ 0.          0.          0.         -0.09354839  0.00125523 -0.00829373]"
       ]
      },
      {
       "output_type": "stream",
       "stream": "stdout",
       "text": [
        "\n",
        "[ 0.          0.         -0.00775194 -0.11643287  0.0359841  -0.00983914]"
       ]
      },
      {
       "output_type": "stream",
       "stream": "stdout",
       "text": [
        "\n",
        "[ 0.          0.          0.         -0.04460285  0.04230769 -0.01014505]"
       ]
      },
      {
       "output_type": "stream",
       "stream": "stdout",
       "text": [
        "\n",
        "[ 0.         -0.00200803 -0.00618557 -0.08343195  0.04920635 -0.00793625]"
       ]
      },
      {
       "output_type": "stream",
       "stream": "stdout",
       "text": [
        "\n",
        "[ 0.         -0.00188324  0.         -0.08404908  0.00604288 -0.00909023]"
       ]
      },
      {
       "output_type": "stream",
       "stream": "stdout",
       "text": [
        "\n",
        "[ 0.         -0.00206612  0.         -0.10675944 -0.01052632 -0.01552988]"
       ]
      },
      {
       "output_type": "stream",
       "stream": "stdout",
       "text": [
        "\n",
        "[ 0.          0.         -0.00400802 -0.04056225  0.08085938 -0.00744818]"
       ]
      },
      {
       "output_type": "stream",
       "stream": "stdout",
       "text": [
        "\n",
        "[ 0.          0.         -0.00826446 -0.07849899  0.03652008 -0.01021934]"
       ]
      },
      {
       "output_type": "stream",
       "stream": "stdout",
       "text": [
        "\n",
        "[ 0.          0.         -0.00196464 -0.07466411  0.04901961 -0.01202763]"
       ]
      },
      {
       "output_type": "stream",
       "stream": "stdout",
       "text": [
        "\n",
        "[ 0.          0.         -0.00406504 -0.05415822  0.03045356 -0.00937251]"
       ]
      },
      {
       "output_type": "stream",
       "stream": "stdout",
       "text": [
        "\n",
        "[ 0.          0.         -0.00967118 -0.06596639 -0.01157495 -0.01108321]"
       ]
      },
      {
       "output_type": "stream",
       "stream": "stdout",
       "text": [
        "\n",
        "[ 0.          0.         -0.0040568  -0.07029703  0.01211499 -0.01144756]"
       ]
      },
      {
       "output_type": "stream",
       "stream": "stdout",
       "text": [
        "\n",
        "[-0.00193798  0.         -0.01581028 -0.07012448  0.00357143 -0.01196215]"
       ]
      },
      {
       "output_type": "stream",
       "stream": "stdout",
       "text": [
        "\n",
        "[ 0.          0.         -0.00412371 -0.08631179  0.01289641 -0.01166713]"
       ]
      },
      {
       "output_type": "stream",
       "stream": "stdout",
       "text": [
        "\n",
        "[ 0.          0.         -0.0059761  -0.08436874  0.02454361 -0.00961901]"
       ]
      },
      {
       "output_type": "stream",
       "stream": "stdout",
       "text": [
        "\n",
        "[ 0.          0.         -0.00759013 -0.07601547  0.00346232 -0.01126157]"
       ]
      },
      {
       "output_type": "stream",
       "stream": "stdout",
       "text": [
        "\n",
        "[ 0.          0.         -0.0038835  -0.07755102  0.04279919 -0.01050846]"
       ]
      },
      {
       "output_type": "stream",
       "stream": "stdout",
       "text": [
        "\n",
        "[ 0.         -0.00189036  0.         -0.09839679  0.02716049 -0.00937803]"
       ]
      },
      {
       "output_type": "stream",
       "stream": "stdout",
       "text": [
        "\n",
        "[ 0.          0.         -0.00598802 -0.09269777  0.0234714  -0.00928317]"
       ]
      },
      {
       "output_type": "stream",
       "stream": "stdout",
       "text": [
        "\n",
        "Optimization terminated successfully.\n",
        "         Current function value: 0.002855\n",
        "         Iterations: 28\n",
        "         Function evaluations: 56\n",
        "[ 0.          0.         -0.00801603 -0.07943548  0.028      -0.009911  ]"
       ]
      },
      {
       "output_type": "stream",
       "stream": "stdout",
       "text": [
        "\n",
        "[-0.00203252 -0.01214575  0.06242363  0.30972495  0.11693548  0.03096661]"
       ]
      },
      {
       "output_type": "stream",
       "stream": "stdout",
       "text": [
        "\n",
        "[-0.00196078 -0.00998004  0.08402062  0.36388889  0.16244726  0.02983346]"
       ]
      },
      {
       "output_type": "stream",
       "stream": "stdout",
       "text": [
        "\n",
        "[ 0.         -0.0020202   0.13207171  0.50330661  0.26095618  0.05835321]"
       ]
      },
      {
       "output_type": "stream",
       "stream": "stdout",
       "text": [
        "\n",
        "[-0.00595238 -0.02390438  0.042       0.19086242  0.05846774  0.0173985 ]"
       ]
      },
      {
       "output_type": "stream",
       "stream": "stdout",
       "text": [
        "\n",
        "[-0.0019685  -0.02325581  0.08253968  0.30154639  0.09179688  0.03053466]"
       ]
      },
      {
       "output_type": "stream",
       "stream": "stdout",
       "text": [
        "\n",
        "[-0.01417004 -0.03976143 -0.02281553  0.17056452  0.07815631  0.01877151]"
       ]
      },
      {
       "output_type": "stream",
       "stream": "stdout",
       "text": [
        "\n",
        "[-0.01197605 -0.05415861 -0.1189243   0.0546332   0.01768173 -0.01097306]"
       ]
      },
      {
       "output_type": "stream",
       "stream": "stdout",
       "text": [
        "\n",
        "[-0.03006012 -0.18989899 -0.36930502 -0.08386774  0.01452282 -0.05003266]"
       ]
      },
      {
       "output_type": "stream",
       "stream": "stdout",
       "text": [
        "\n",
        "[-0.00809717 -0.08384458 -0.14183673  0.0539604   0.0242915   0.00484453]"
       ]
      },
      {
       "output_type": "stream",
       "stream": "stdout",
       "text": [
        "\n",
        "[-0.00829876 -0.08450704 -0.1255102   0.02068273  0.02362205 -0.00709905]"
       ]
      },
      {
       "output_type": "stream",
       "stream": "stdout",
       "text": [
        "\n",
        "[-0.0417495  -0.18393235 -0.27540323 -0.05037594  0.00609756 -0.02232278]"
       ]
      },
      {
       "output_type": "stream",
       "stream": "stdout",
       "text": [
        "\n",
        "[-0.00972763 -0.02642276  0.01083499  0.24520958  0.07258065  0.01842653]"
       ]
      },
      {
       "output_type": "stream",
       "stream": "stdout",
       "text": [
        "\n",
        "[-0.01443299 -0.11064718 -0.15977131  0.0159751   0.01785714 -0.01010031]"
       ]
      },
      {
       "output_type": "stream",
       "stream": "stdout",
       "text": [
        "\n",
        "[-0.02653061 -0.15674603 -0.27629482 -0.05654206  0.01190476 -0.01971846]"
       ]
      },
      {
       "output_type": "stream",
       "stream": "stdout",
       "text": [
        "\n",
        "[-0.00616016 -0.03703704 -0.01494845  0.10680934  0.04216867  0.0091332 ]"
       ]
      },
      {
       "output_type": "stream",
       "stream": "stdout",
       "text": [
        "\n",
        "[-0.00632911 -0.04198473 -0.02221135  0.20683761  0.05611222  0.01385503]"
       ]
      },
      {
       "output_type": "stream",
       "stream": "stdout",
       "text": [
        "\n",
        "[-0.02135922 -0.0804829  -0.11011561  0.0695122   0.01953125 -0.00302408]"
       ]
      },
      {
       "output_type": "stream",
       "stream": "stdout",
       "text": [
        "\n",
        "[-0.01632653 -0.0945674  -0.16225296 -0.04503817  0.00785855 -0.02137144]"
       ]
      },
      {
       "output_type": "stream",
       "stream": "stdout",
       "text": [
        "\n",
        "[-0.01489362 -0.03853565 -0.02213115  0.12095517  0.03984064  0.00840328]"
       ]
      },
      {
       "output_type": "stream",
       "stream": "stdout",
       "text": [
        "\n",
        "[-0.01417004 -0.04907975 -0.05283976  0.04230769  0.03592814 -0.00554253]"
       ]
      },
      {
       "output_type": "stream",
       "stream": "stdout",
       "text": [
        "\n",
        "[ 0.         -0.04276986 -0.08265306  0.11166329  0.02016129 -0.01006546]"
       ]
      },
      {
       "output_type": "stream",
       "stream": "stdout",
       "text": [
        "\n",
        "[-0.01356589 -0.03393214 -0.00800416  0.14577465  0.03665988  0.00078388]"
       ]
      },
      {
       "output_type": "stream",
       "stream": "stdout",
       "text": [
        "\n",
        "[-0.00753296 -0.01417004  0.00074627  0.15933852  0.06361829  0.0085808 ]"
       ]
      },
      {
       "output_type": "stream",
       "stream": "stdout",
       "text": [
        "\n",
        "[-0.01033058 -0.03206413 -0.08828125  0.05661157  0.02839757 -0.00386295]"
       ]
      },
      {
       "output_type": "stream",
       "stream": "stdout",
       "text": [
        "\n",
        "[-0.01717557 -0.05384615 -0.09796748  0.05808081  0.03853955 -0.00264939]"
       ]
      },
      {
       "output_type": "stream",
       "stream": "stdout",
       "text": [
        "\n",
        "[-0.01181102 -0.05510204 -0.05512821  0.08109244  0.02494802  0.01424166]"
       ]
      },
      {
       "output_type": "stream",
       "stream": "stdout",
       "text": [
        "\n",
        "[-0.01452282 -0.05510204 -0.04642857  0.0574364   0.02904564 -0.00364203]"
       ]
      },
      {
       "output_type": "stream",
       "stream": "stdout",
       "text": [
        "\n",
        "[-0.00572519 -0.05405405 -0.01318786  0.08992322  0.01893939  0.00451091]"
       ]
      },
      {
       "output_type": "stream",
       "stream": "stdout",
       "text": [
        "\n",
        "[-0.01606426 -0.05048544 -0.10248509  0.01768916  0.02569593 -0.00914676]"
       ]
      },
      {
       "output_type": "stream",
       "stream": "stdout",
       "text": [
        "\n",
        "[-0.0122449  -0.05405405 -0.09761905  0.05245399  0.03131115 -0.00368643]"
       ]
      },
      {
       "output_type": "stream",
       "stream": "stdout",
       "text": [
        "\n",
        "[-0.01207243 -0.04618474 -0.07420635  0.05970874  0.02424242 -0.00375017]"
       ]
      },
      {
       "output_type": "stream",
       "stream": "stdout",
       "text": [
        "\n",
        "[-0.00601202 -0.03564728 -0.02533719  0.07222222  0.0341556  -0.00114892]"
       ]
      },
      {
       "output_type": "stream",
       "stream": "stdout",
       "text": [
        "\n",
        "[-0.01188119 -0.06138614 -0.07357724  0.08828921  0.03106796 -0.00512218]"
       ]
      },
      {
       "output_type": "stream",
       "stream": "stdout",
       "text": [
        "\n",
        "[-0.00385356 -0.0415879  -0.03320611  0.09418605  0.0296846   0.0042753 ]"
       ]
      },
      {
       "output_type": "stream",
       "stream": "stdout",
       "text": [
        "\n",
        "[-0.00609756 -0.0501002  -0.06868787  0.08155738  0.027833    0.00055151]"
       ]
      },
      {
       "output_type": "stream",
       "stream": "stdout",
       "text": [
        "\n",
        "[-0.00772201 -0.03428571  0.00215606  0.09652087  0.04509804  0.00352714]"
       ]
      },
      {
       "output_type": "stream",
       "stream": "stdout",
       "text": [
        "\n",
        "[-0.00399202 -0.05357143 -0.07839506  0.07947368  0.04192872 -0.00324885]"
       ]
      },
      {
       "output_type": "stream",
       "stream": "stdout",
       "text": [
        "\n",
        "[-0.00383877 -0.04590818 -0.03265683  0.10702811  0.03118503 -0.00034876]"
       ]
      },
      {
       "output_type": "stream",
       "stream": "stdout",
       "text": [
        "\n",
        "[-0.01       -0.04651163 -0.05886076  0.09900398  0.03106796 -0.00370421]"
       ]
      },
      {
       "output_type": "stream",
       "stream": "stdout",
       "text": [
        "\n",
        "[-0.00385356 -0.04312115 -0.06084337  0.07064777  0.02024291 -0.00408467]"
       ]
      },
      {
       "output_type": "stream",
       "stream": "stdout",
       "text": [
        "\n",
        "[-0.00986193 -0.04978355 -0.04521912  0.1097137   0.04752475  0.0017293 ]"
       ]
      },
      {
       "output_type": "stream",
       "stream": "stdout",
       "text": [
        "\n",
        "[-0.00603622 -0.05081301 -0.07709163  0.10732218  0.04191617  0.00050893]"
       ]
      },
      {
       "output_type": "stream",
       "stream": "stdout",
       "text": [
        "\n",
        "[ -3.83141762e-03  -3.45528455e-02  -2.17791411e-02   1.01428571e-01\n",
        "   2.40963855e-02  -9.30898044e-05]"
       ]
      },
      {
       "output_type": "stream",
       "stream": "stdout",
       "text": [
        "\n",
        "Optimization terminated successfully.\n",
        "         Current function value: 0.008333\n",
        "         Iterations: 19\n",
        "         Function evaluations: 43\n",
        "[-0.01386139 -0.04098361 -0.0555336   0.08255814  0.02777778 -0.00125169]"
       ]
      },
      {
       "output_type": "stream",
       "stream": "stdout",
       "text": [
        "\n",
        "[-0.00407332 -0.01012146  0.0695171   0.46169355  0.124       0.03355997]"
       ]
      },
      {
       "output_type": "stream",
       "stream": "stdout",
       "text": [
        "\n",
        "[ 0.         -0.00968992  0.10303327  0.52390852  0.11368421  0.03364208]"
       ]
      },
      {
       "output_type": "stream",
       "stream": "stdout",
       "text": [
        "\n",
        "[-0.00196078 -0.00414938  0.13217822  0.68244576  0.27840909  0.05966901]"
       ]
      },
      {
       "output_type": "stream",
       "stream": "stdout",
       "text": [
        "\n",
        "[-0.00203666 -0.01984127  0.0559501   0.33814433  0.05295316  0.01720771]"
       ]
      },
      {
       "output_type": "stream",
       "stream": "stdout",
       "text": [
        "\n",
        "[-0.00195312 -0.01440329  0.09619666  0.45824847  0.11313131  0.0335119 ]"
       ]
      },
      {
       "output_type": "stream",
       "stream": "stdout",
       "text": [
        "\n",
        "[-0.01568627 -0.05210421 -0.03930041  0.30152672  0.07042254  0.01966892]"
       ]
      },
      {
       "output_type": "stream",
       "stream": "stdout",
       "text": [
        "\n",
        "[-0.01649485 -0.06079665 -0.07562141  0.24948875  0.02083333 -0.01017838]"
       ]
      },
      {
       "output_type": "stream",
       "stream": "stdout",
       "text": [
        "\n",
        "[-0.04190476 -0.18613861 -0.32744361  0.06769826  0.00982318 -0.0476181 ]"
       ]
      },
      {
       "output_type": "stream",
       "stream": "stdout",
       "text": [
        "\n",
        "[-0.01724138 -0.09486166 -0.12290837  0.16833667  0.04251012  0.00620863]"
       ]
      },
      {
       "output_type": "stream",
       "stream": "stdout",
       "text": [
        "\n",
        "[-0.05811623 -0.15944882 -0.29950495  0.09430255  0.00988142 -0.00858806]"
       ]
      },
      {
       "output_type": "stream",
       "stream": "stdout",
       "text": [
        "\n",
        "[-0.02169625 -0.09848485 -0.14215686  0.17821782  0.01242236 -0.00581269]"
       ]
      },
      {
       "output_type": "stream",
       "stream": "stdout",
       "text": [
        "\n",
        "[-0.02964427 -0.18823529 -0.2686551   0.07254902  0.00849257 -0.02128074]"
       ]
      },
      {
       "output_type": "stream",
       "stream": "stdout",
       "text": [
        "\n",
        "[-0.0651341  -0.20925553 -0.37380952  0.08811475  0.00963391 -0.02430019]"
       ]
      },
      {
       "output_type": "stream",
       "stream": "stdout",
       "text": [
        "\n",
        "[-0.00801603 -0.03921569 -0.03091451  0.27628866  0.03024194  0.00922692]"
       ]
      },
      {
       "output_type": "stream",
       "stream": "stdout",
       "text": [
        "\n",
        "[ 0.         -0.02070393  0.05419162  0.39262473  0.10229645  0.02711058]"
       ]
      },
      {
       "output_type": "stream",
       "stream": "stdout",
       "text": [
        "\n",
        "[-0.01652893 -0.09589041 -0.19357006  0.14700193  0.01956947 -0.0093953 ]"
       ]
      },
      {
       "output_type": "stream",
       "stream": "stdout",
       "text": [
        "\n",
        "[-0.02115385 -0.10826772 -0.18739837  0.10126582  0.01518027 -0.02448935]"
       ]
      },
      {
       "output_type": "stream",
       "stream": "stdout",
       "text": [
        "\n",
        "[-0.048583   -0.14792899 -0.31755725  0.10997963  0.00199203 -0.02700073]"
       ]
      },
      {
       "output_type": "stream",
       "stream": "stdout",
       "text": [
        "\n",
        "[-0.01012146 -0.07       -0.08542117  0.23293173  0.02674897 -0.00069658]"
       ]
      },
      {
       "output_type": "stream",
       "stream": "stdout",
       "text": [
        "\n",
        "[-0.0240481  -0.10869565 -0.17319392  0.14285714  0.02348337 -0.00435632]"
       ]
      },
      {
       "output_type": "stream",
       "stream": "stdout",
       "text": [
        "\n",
        "[-0.01629328 -0.05871212 -0.07903885  0.20758483  0.01984127 -0.00291936]"
       ]
      },
      {
       "output_type": "stream",
       "stream": "stdout",
       "text": [
        "\n",
        "[-0.0105042  -0.07172996 -0.09137931  0.19114688  0.01503759 -0.00161407]"
       ]
      },
      {
       "output_type": "stream",
       "stream": "stdout",
       "text": [
        "\n",
        "[-0.01992032 -0.12401575 -0.21570248  0.12        0.00976562 -0.01224774]"
       ]
      },
      {
       "output_type": "stream",
       "stream": "stdout",
       "text": [
        "\n",
        "[-0.01394422 -0.06521739 -0.13488372  0.22970297  0.03303965 -0.00252713]"
       ]
      },
      {
       "output_type": "stream",
       "stream": "stdout",
       "text": [
        "\n",
        "[-0.01321586 -0.048      -0.08279352  0.20558882  0.02079002  0.00276286]"
       ]
      },
      {
       "output_type": "stream",
       "stream": "stdout",
       "text": [
        "\n",
        "[-0.02390438 -0.07916667 -0.10992063  0.20162933  0.01197605 -0.01255111]"
       ]
      },
      {
       "output_type": "stream",
       "stream": "stdout",
       "text": [
        "\n",
        "[-0.01694915 -0.06666667 -0.12310062  0.18762475  0.02898551 -0.00121877]"
       ]
      },
      {
       "output_type": "stream",
       "stream": "stdout",
       "text": [
        "\n",
        "[-0.02409639 -0.11458333 -0.09324324  0.12133891  0.00803213 -0.00299898]"
       ]
      },
      {
       "output_type": "stream",
       "stream": "stdout",
       "text": [
        "\n",
        "[-0.02360515 -0.0373444  -0.05825147  0.20162933  0.03379722  0.0003629 ]"
       ]
      },
      {
       "output_type": "stream",
       "stream": "stdout",
       "text": [
        "\n",
        "[-0.02526316 -0.09213052 -0.02932489  0.23359073  0.03651116  0.01129142]"
       ]
      },
      {
       "output_type": "stream",
       "stream": "stdout",
       "text": [
        "\n",
        "[-0.0164271  -0.0931677  -0.12924528  0.19008264  0.0078125  -0.00614389]"
       ]
      },
      {
       "output_type": "stream",
       "stream": "stdout",
       "text": [
        "\n",
        "[-0.02504817 -0.04526749 -0.13210117  0.20992366  0.03298969 -0.00146697]"
       ]
      },
      {
       "output_type": "stream",
       "stream": "stdout",
       "text": [
        "\n",
        "[-0.0239521  -0.10810811 -0.12196653  0.19755601  0.0210084  -0.00041898]"
       ]
      },
      {
       "output_type": "stream",
       "stream": "stdout",
       "text": [
        "\n",
        "[ -2.07039337e-02  -8.03921569e-02  -1.32258065e-01   1.74537988e-01\n",
        "   1.82555781e-02  -1.20484253e-04]"
       ]
      },
      {
       "output_type": "stream",
       "stream": "stdout",
       "text": [
        "\n",
        "[-0.01606426 -0.08946322 -0.13149606  0.16959064  0.01425662 -0.00409704]"
       ]
      },
      {
       "output_type": "stream",
       "stream": "stdout",
       "text": [
        "\n",
        "[-0.01953125 -0.08847737 -0.14568789  0.16167665  0.008      -0.00771095]"
       ]
      },
      {
       "output_type": "stream",
       "stream": "stdout",
       "text": [
        "\n",
        "[-0.03462322 -0.0683112  -0.08984526  0.1617357   0.01810865 -0.00522998]"
       ]
      },
      {
       "output_type": "stream",
       "stream": "stdout",
       "text": [
        "\n",
        "[-0.00986193 -0.08015267 -0.13313253  0.15296367  0.02615694 -0.00695291]"
       ]
      },
      {
       "output_type": "stream",
       "stream": "stdout",
       "text": [
        "\n",
        "[-0.01449275 -0.08531746 -0.08960396  0.15429688  0.02631579  0.00203803]"
       ]
      },
      {
       "output_type": "stream",
       "stream": "stdout",
       "text": [
        "\n",
        "[-0.01386139 -0.08471074 -0.14778672  0.13469388  0.01043841 -0.00661269]"
       ]
      },
      {
       "output_type": "stream",
       "stream": "stdout",
       "text": [
        "\n",
        "[-0.0203666  -0.11198428 -0.16352459  0.14315353  0.006      -0.00260624]"
       ]
      },
      {
       "output_type": "stream",
       "stream": "stdout",
       "text": [
        "\n",
        "[-0.02631579 -0.09381238 -0.14249012  0.15662651  0.01893939 -0.00357408]"
       ]
      },
      {
       "output_type": "stream",
       "stream": "stdout",
       "text": [
        "\n",
        "[-0.01840491 -0.08174905 -0.13542914  0.20196078  0.01372549 -0.00073114]"
       ]
      },
      {
       "output_type": "stream",
       "stream": "stdout",
       "text": [
        "\n",
        "[-0.02884615 -0.10865191 -0.16698113  0.17408907  0.00970874 -0.00257294]"
       ]
      },
      {
       "output_type": "stream",
       "stream": "stdout",
       "text": [
        "\n",
        "[-0.01361868 -0.07014028 -0.16262525  0.16598361  0.00961538 -0.00467269]"
       ]
      },
      {
       "output_type": "stream",
       "stream": "stdout",
       "text": [
        "\n",
        "[-0.02024291 -0.08298755 -0.1392562   0.17029703  0.02226721 -0.00404276]"
       ]
      },
      {
       "output_type": "stream",
       "stream": "stdout",
       "text": [
        "\n",
        "[ -1.51515152e-02  -7.75193798e-02  -1.48872180e-01   1.56941650e-01\n",
        "   1.41129032e-02  -1.24794564e-04]"
       ]
      },
      {
       "output_type": "stream",
       "stream": "stdout",
       "text": [
        "\n",
        "Optimization terminated successfully.\n",
        "         Current function value: 0.037201\n",
        "         Iterations: 18\n",
        "         Function evaluations: 47\n",
        "[-0.02156863 -0.09280303 -0.148       0.19681909  0.01315789 -0.00287961]"
       ]
      },
      {
       "output_type": "stream",
       "stream": "stdout",
       "text": [
        "\n",
        "[ 0.         -0.01443299 -0.0261523   0.15850622  0.08910891  0.01212972]"
       ]
      },
      {
       "output_type": "stream",
       "stream": "stdout",
       "text": [
        "\n",
        "[ 0.         -0.01291513 -0.01586826  0.24143646  0.13453815  0.01156219]"
       ]
      },
      {
       "output_type": "stream",
       "stream": "stdout",
       "text": [
        "\n",
        "[-0.00397614 -0.01330798  0.01370968  0.34612326  0.26640159  0.03701262]"
       ]
      },
      {
       "output_type": "stream",
       "stream": "stdout",
       "text": [
        "\n",
        "[-0.00199203 -0.01956947 -0.046       0.02509506  0.05973025 -0.00333482]"
       ]
      },
      {
       "output_type": "stream",
       "stream": "stdout",
       "text": [
        "\n",
        "[ 0.         -0.01185771 -0.02361963  0.15995893  0.08687259  0.01155754]"
       ]
      },
      {
       "output_type": "stream",
       "stream": "stdout",
       "text": [
        "\n",
        "[-0.00195695 -0.04669261 -0.11565657  0.028       0.05780347 -0.00271037]"
       ]
      },
      {
       "output_type": "stream",
       "stream": "stdout",
       "text": [
        "\n",
        "[-0.02469136 -0.062249   -0.18678647 -0.08969957  0.0233463  -0.03019313]"
       ]
      },
      {
       "output_type": "stream",
       "stream": "stdout",
       "text": [
        "\n",
        "[-0.01968504 -0.08091286 -0.17154472 -0.10516899  0.04190476 -0.01637891]"
       ]
      },
      {
       "output_type": "stream",
       "stream": "stdout",
       "text": [
        "\n",
        "[-0.00619835 -0.04789272 -0.14335937 -0.01868583  0.04893617 -0.01215713]"
       ]
      },
      {
       "output_type": "stream",
       "stream": "stdout",
       "text": [
        "\n",
        "[-0.00571429 -0.00598802  0.00867769  0.21886792  0.17871486  0.03188479]"
       ]
      },
      {
       "output_type": "stream",
       "stream": "stdout",
       "text": [
        "\n",
        "[-0.00400802 -0.03481625 -0.07936345  0.00314961  0.05314961 -0.01545656]"
       ]
      },
      {
       "output_type": "stream",
       "stream": "stdout",
       "text": [
        "\n",
        "[-0.01190476 -0.06862745 -0.16713147 -0.09330709  0.03512397 -0.01948534]"
       ]
      },
      {
       "output_type": "stream",
       "stream": "stdout",
       "text": [
        "\n",
        "[-0.00417537 -0.01503759 -0.06603376  0.11067762  0.09054326  0.00392152]"
       ]
      },
      {
       "output_type": "stream",
       "stream": "stdout",
       "text": [
        "\n",
        "[-0.01402806 -0.06395349 -0.15       -0.08842315  0.02941176 -0.0207581 ]"
       ]
      },
      {
       "output_type": "stream",
       "stream": "stdout",
       "text": [
        "\n",
        "[-0.00217865 -0.02653061 -0.04418838  0.12376238  0.08588957  0.00181615]"
       ]
      },
      {
       "output_type": "stream",
       "stream": "stdout",
       "text": [
        "\n",
        "[-0.00742115 -0.00604839 -0.03333333  0.1185567   0.10183299  0.00596013]"
       ]
      },
      {
       "output_type": "stream",
       "stream": "stdout",
       "text": [
        "\n",
        "[-0.00604839 -0.02484472 -0.06359026  0.03268859  0.06924644 -0.00024482]"
       ]
      },
      {
       "output_type": "stream",
       "stream": "stdout",
       "text": [
        "\n",
        "[-0.00819672 -0.03921569 -0.10821501 -0.01894094  0.05197505 -0.00729958]"
       ]
      },
      {
       "output_type": "stream",
       "stream": "stdout",
       "text": [
        "\n",
        "[-0.00192678 -0.05679513 -0.14405941 -0.06985743  0.04868914 -0.01382382]"
       ]
      },
      {
       "output_type": "stream",
       "stream": "stdout",
       "text": [
        "\n",
        "[-0.00592885 -0.01217039 -0.05699588  0.07291667  0.07930368 -0.00120157]"
       ]
      },
      {
       "output_type": "stream",
       "stream": "stdout",
       "text": [
        "\n",
        "[-0.00198413 -0.01926782 -0.0431677   0.06196319  0.05210421 -0.01128556]"
       ]
      },
      {
       "output_type": "stream",
       "stream": "stdout",
       "text": [
        "\n",
        "[ 0.         -0.01836735 -0.05663984  0.10926641  0.04809619 -0.00149886]"
       ]
      },
      {
       "output_type": "stream",
       "stream": "stdout",
       "text": [
        "\n",
        "[-0.00191571 -0.02912621 -0.08627255  0.05375494  0.08384458 -0.00563625]"
       ]
      },
      {
       "output_type": "stream",
       "stream": "stdout",
       "text": [
        "\n",
        "[ 0.         -0.02067669 -0.03317215  0.10595903  0.0708502  -0.00553086]"
       ]
      },
      {
       "output_type": "stream",
       "stream": "stdout",
       "text": [
        "\n",
        "[-0.00393701 -0.01976285 -0.07016293  0.07142857  0.06262231 -0.00103839]"
       ]
      },
      {
       "output_type": "stream",
       "stream": "stdout",
       "text": [
        "\n",
        "[-0.00603622 -0.0125     -0.08671875  0.01150794  0.04024145 -0.0071591 ]"
       ]
      },
      {
       "output_type": "stream",
       "stream": "stdout",
       "text": [
        "\n",
        "[-0.00819672 -0.02750491 -0.07190083  0.06166008  0.05295316 -0.00292208]"
       ]
      },
      {
       "output_type": "stream",
       "stream": "stdout",
       "text": [
        "\n",
        "[-0.00210084 -0.04485981 -0.09455446  0.0359841   0.04356436 -0.00728979]"
       ]
      },
      {
       "output_type": "stream",
       "stream": "stdout",
       "text": [
        "\n",
        "[-0.00788955 -0.03218884 -0.075       0.02405567  0.06862745 -0.00071673]"
       ]
      },
      {
       "output_type": "stream",
       "stream": "stdout",
       "text": [
        "\n",
        "[-0.00806452 -0.02380952 -0.08061224  0.01950207  0.0501002  -0.00878756]"
       ]
      },
      {
       "output_type": "stream",
       "stream": "stdout",
       "text": [
        "\n",
        "[-0.00194932 -0.02708333 -0.08962264  0.02179226  0.072      -0.00459994]"
       ]
      },
      {
       "output_type": "stream",
       "stream": "stdout",
       "text": [
        "\n",
        "[ 0.         -0.04150198 -0.05309278 -0.01119843  0.06042885 -0.00541588]"
       ]
      },
      {
       "output_type": "stream",
       "stream": "stdout",
       "text": [
        "\n",
        "[-0.00416667 -0.03024194 -0.11007905 -0.00647773  0.04681648 -0.00885788]"
       ]
      },
      {
       "output_type": "stream",
       "stream": "stdout",
       "text": [
        "\n",
        "[-0.0060241  -0.0203252  -0.06976048  0.07474542  0.06138614 -0.00214121]"
       ]
      },
      {
       "output_type": "stream",
       "stream": "stdout",
       "text": [
        "\n",
        "[-0.00208333 -0.02597403 -0.0909002   0.02911392  0.05645161 -0.00317893]"
       ]
      },
      {
       "output_type": "stream",
       "stream": "stdout",
       "text": [
        "\n",
        "[-0.00395257 -0.02453988 -0.07184874  0.04951456  0.05112474 -0.00744192]"
       ]
      },
      {
       "output_type": "stream",
       "stream": "stdout",
       "text": [
        "\n",
        "[-0.006      -0.02310924 -0.09453125  0.036       0.0407332  -0.00607813]"
       ]
      },
      {
       "output_type": "stream",
       "stream": "stdout",
       "text": [
        "\n",
        "[-0.00402414 -0.03125    -0.09486922  0.04655532  0.05675147 -0.00453803]"
       ]
      },
      {
       "output_type": "stream",
       "stream": "stdout",
       "text": [
        "\n",
        "[-0.00198413 -0.01953125 -0.01692913  0.04375     0.0661157  -0.00502018]"
       ]
      },
      {
       "output_type": "stream",
       "stream": "stdout",
       "text": [
        "\n",
        "[-0.00198413 -0.02702703 -0.05629921  0.05211268  0.05976096 -0.00479051]"
       ]
      },
      {
       "output_type": "stream",
       "stream": "stdout",
       "text": [
        "\n",
        "[-0.00626305 -0.03258656 -0.04448819  0.04349593  0.04462475 -0.00421946]"
       ]
      },
      {
       "output_type": "stream",
       "stream": "stdout",
       "text": [
        "\n",
        "[-0.00631579 -0.02263374 -0.03789062  0.09832285  0.05485232 -0.00371733]"
       ]
      },
      {
       "output_type": "stream",
       "stream": "stdout",
       "text": [
        "\n",
        "[-0.0056391  -0.03353057 -0.07421053  0.06111111  0.0270793  -0.00418167]"
       ]
      },
      {
       "output_type": "stream",
       "stream": "stdout",
       "text": [
        "\n",
        "[-0.01532567 -0.02610442 -0.04708738  0.05684647  0.06262626 -0.0035223 ]"
       ]
      },
      {
       "output_type": "stream",
       "stream": "stdout",
       "text": [
        "\n",
        "[-0.00784314 -0.01632653 -0.03897485  0.01927711  0.04961832 -0.001589  ]"
       ]
      },
      {
       "output_type": "stream",
       "stream": "stdout",
       "text": [
        "\n",
        "[-0.00408163 -0.01202405 -0.0451417   0.09877301  0.06464646 -0.00192083]"
       ]
      },
      {
       "output_type": "stream",
       "stream": "stdout",
       "text": [
        "\n",
        "[ 0.         -0.0305499  -0.04730849  0.06470588  0.0766129  -0.00453926]"
       ]
      },
      {
       "output_type": "stream",
       "stream": "stdout",
       "text": [
        "\n",
        "[-0.00199203 -0.01377953 -0.0266129   0.10466926  0.06835938 -0.00279892]"
       ]
      },
      {
       "output_type": "stream",
       "stream": "stdout",
       "text": [
        "\n",
        "[-0.00209205 -0.02028398 -0.0503937   0.0197026   0.04054054 -0.00134769]"
       ]
      },
      {
       "output_type": "stream",
       "stream": "stdout",
       "text": [
        "\n",
        "[-0.00580271 -0.01359223 -0.02827789  0.08068182  0.054      -0.00189311]"
       ]
      },
      {
       "output_type": "stream",
       "stream": "stdout",
       "text": [
        "\n",
        "[-0.00190476 -0.02286902 -0.07941176  0.04631148  0.04397706 -0.00280745]"
       ]
      },
      {
       "output_type": "stream",
       "stream": "stdout",
       "text": [
        "\n",
        "[-0.0039604  -0.01383399 -0.05586011  0.06852207  0.04901961 -0.00357044]"
       ]
      },
      {
       "output_type": "stream",
       "stream": "stdout",
       "text": [
        "\n",
        "[-0.00201613 -0.02258727 -0.05927835  0.05040984  0.06772908 -0.00313604]"
       ]
      },
      {
       "output_type": "stream",
       "stream": "stdout",
       "text": [
        "\n",
        "[-0.00647948 -0.01859504 -0.03842105  0.06956522  0.07240705 -0.00222115]"
       ]
      },
      {
       "output_type": "stream",
       "stream": "stdout",
       "text": [
        "\n",
        "[-0.00612245 -0.0210084  -0.06798839  0.03195021  0.06822612 -0.00421678]"
       ]
      },
      {
       "output_type": "stream",
       "stream": "stdout",
       "text": [
        "\n",
        "[-0.00607287 -0.01829268 -0.05121457  0.05029354  0.04373757 -0.00509721]"
       ]
      },
      {
       "output_type": "stream",
       "stream": "stdout",
       "text": [
        "\n",
        "Optimization terminated successfully.\n",
        "         Current function value: 0.004683\n",
        "         Iterations: 23\n",
        "         Function evaluations: 56\n",
        "[ 0.         -0.01848049 -0.04560229  0.06149312  0.06601942 -0.00339507]"
       ]
      },
      {
       "output_type": "stream",
       "stream": "stdout",
       "text": [
        "\n",
        "[-0.00210084 -0.0210728   0.07460317 -0.04297694 -0.0504065  -0.00441979]"
       ]
      },
      {
       "output_type": "stream",
       "stream": "stdout",
       "text": [
        "\n",
        "[-0.00447427 -0.00191205  0.10039683  0.00766284 -0.01973948 -0.00411411]"
       ]
      },
      {
       "output_type": "stream",
       "stream": "stdout",
       "text": [
        "\n",
        "[ 0.         -0.00379507  0.12035573  0.16793169  0.0754902   0.02171825]"
       ]
      },
      {
       "output_type": "stream",
       "stream": "stdout",
       "text": [
        "\n",
        "[-0.00574713 -0.02186879  0.02789474 -0.14056225 -0.09488189 -0.01798471]"
       ]
      },
      {
       "output_type": "stream",
       "stream": "stdout",
       "text": [
        "\n",
        "[ 0.         -0.01687764  0.06355599 -0.0473251  -0.03679245 -0.00395961]"
       ]
      },
      {
       "output_type": "stream",
       "stream": "stdout",
       "text": [
        "\n",
        "[-0.00766284 -0.03913894 -0.00369261 -0.222      -0.08801653 -0.01672653]"
       ]
      },
      {
       "output_type": "stream",
       "stream": "stdout",
       "text": [
        "\n",
        "[ 0.          0.          0.12291667  0.17322835  0.06063395  0.0124606 ]"
       ]
      },
      {
       "output_type": "stream",
       "stream": "stdout",
       "text": [
        "\n",
        "[ 0.         -0.0041841   0.10791583  0.10649087  0.04335938  0.00651729]"
       ]
      },
      {
       "output_type": "stream",
       "stream": "stdout",
       "text": [
        "\n",
        "[-0.00601202 -0.02390438 -0.0214876  -0.20686071 -0.10102041 -0.03552691]"
       ]
      },
      {
       "output_type": "stream",
       "stream": "stdout",
       "text": [
        "\n",
        "[-0.00208333 -0.00621118  0.11        0.09215686  0.01352201  0.00802091]"
       ]
      },
      {
       "output_type": "stream",
       "stream": "stdout",
       "text": [
        "\n",
        "[ 0.         -0.00194175  0.1290795   0.17748479  0.09845996  0.01761973]"
       ]
      },
      {
       "output_type": "stream",
       "stream": "stdout",
       "text": [
        "\n",
        "[ 0.         -0.0185567   0.08346774 -0.05935614 -0.05947368 -0.0079856 ]"
       ]
      },
      {
       "output_type": "stream",
       "stream": "stdout",
       "text": [
        "\n",
        "[-0.00203666 -0.04081633  0.02268994 -0.11443299 -0.08945312 -0.01118603]"
       ]
      },
      {
       "output_type": "stream",
       "stream": "stdout",
       "text": [
        "\n",
        "[-0.0020202  -0.01930502  0.06458333 -0.07338552 -0.03912134 -0.00549466]"
       ]
      },
      {
       "output_type": "stream",
       "stream": "stdout",
       "text": [
        "\n",
        "[-0.00392927 -0.025       0.05944123 -0.13209393 -0.09831014 -0.02109138]"
       ]
      },
      {
       "output_type": "stream",
       "stream": "stdout",
       "text": [
        "\n",
        "[-0.00204499 -0.00389864  0.09831014 -0.01307847 -0.03686869  0.00287649]"
       ]
      },
      {
       "output_type": "stream",
       "stream": "stdout",
       "text": [
        "\n",
        "[ 0.         -0.02178218  0.07748092  0.03673469  0.00682281  0.00128737]"
       ]
      },
      {
       "output_type": "stream",
       "stream": "stdout",
       "text": [
        "\n",
        "[-0.00208333 -0.01609658  0.11215139  0.10521042  0.04128788  0.00524741]"
       ]
      },
      {
       "output_type": "stream",
       "stream": "stdout",
       "text": [
        "\n",
        "[ 0.         -0.00196078  0.10481336  0.07746479  0.01733068  0.00219966]"
       ]
      },
      {
       "output_type": "stream",
       "stream": "stdout",
       "text": [
        "\n",
        "[-0.00389864 -0.01473684  0.08478261 -0.04409006 -0.05872211 -0.00472477]"
       ]
      },
      {
       "output_type": "stream",
       "stream": "stdout",
       "text": [
        "\n",
        "[-0.00195312 -0.00988142  0.09226804 -0.0256917  -0.00598377 -0.00243154]"
       ]
      },
      {
       "output_type": "stream",
       "stream": "stdout",
       "text": [
        "\n",
        "[-0.00211864 -0.01878914  0.10155039  0.02749491 -0.03431373 -0.00330185]"
       ]
      },
      {
       "output_type": "stream",
       "stream": "stdout",
       "text": [
        "\n",
        "[ 0.         -0.00988142  0.08715342  0.01953125 -0.00684647 -0.00082819]"
       ]
      },
      {
       "output_type": "stream",
       "stream": "stdout",
       "text": [
        "\n",
        "[-0.00208333 -0.01792829  0.07771084  0.02953157  0.04144603  0.00039865]"
       ]
      },
      {
       "output_type": "stream",
       "stream": "stdout",
       "text": [
        "\n",
        "[-0.00184162 -0.00389864  0.082       0.00579151 -0.02843137 -0.00242392]"
       ]
      },
      {
       "output_type": "stream",
       "stream": "stdout",
       "text": [
        "\n",
        "[-0.00591716 -0.00588235  0.06881188  0.05179283 -0.00867238  0.00025986]"
       ]
      },
      {
       "output_type": "stream",
       "stream": "stdout",
       "text": [
        "\n",
        "[ 0.         -0.00808081  0.09095238  0.02459016 -0.0125498   0.00111696]"
       ]
      },
      {
       "output_type": "stream",
       "stream": "stdout",
       "text": [
        "\n",
        "[-0.00197628 -0.0122449   0.10117188  0.07170923  0.0233871   0.00197025]"
       ]
      },
      {
       "output_type": "stream",
       "stream": "stdout",
       "text": [
        "\n",
        "[ 0.         -0.0056926   0.08359375 -0.00291262 -0.01132812 -0.00068111]"
       ]
      },
      {
       "output_type": "stream",
       "stream": "stdout",
       "text": [
        "\n",
        "[ 0.         -0.01028807  0.0723301   0.0250501  -0.00080645 -0.00237988]"
       ]
      },
      {
       "output_type": "stream",
       "stream": "stdout",
       "text": [
        "\n",
        "[ 0.         -0.00601202  0.06389432  0.02929293 -0.02090164 -0.00451449]"
       ]
      },
      {
       "output_type": "stream",
       "stream": "stdout",
       "text": [
        "\n",
        "[  0.00000000e+00  -2.18687873e-02   9.04517454e-02  -5.05050505e-03\n",
        "  -1.27858628e-02   5.58775776e-06]"
       ]
      },
      {
       "output_type": "stream",
       "stream": "stdout",
       "text": [
        "\n",
        "[-0.00196078 -0.01417004  0.08346774  0.0308642  -0.02598425 -0.00029542]"
       ]
      },
      {
       "output_type": "stream",
       "stream": "stdout",
       "text": [
        "\n",
        "[ 0.         -0.00798403  0.09716981 -0.02919021 -0.00961538 -0.00296681]"
       ]
      },
      {
       "output_type": "stream",
       "stream": "stdout",
       "text": [
        "\n",
        "[-0.00195312 -0.01596806  0.10542636  0.00102669 -0.01601942 -0.0002876 ]"
       ]
      },
      {
       "output_type": "stream",
       "stream": "stdout",
       "text": [
        "\n",
        "[-0.00193798 -0.01338432  0.08410853 -0.00278293 -0.0170412  -0.00401619]"
       ]
      },
      {
       "output_type": "stream",
       "stream": "stdout",
       "text": [
        "\n",
        "[-0.00578035 -0.01616162  0.09045175  0.0526839  -0.01051081 -0.00141445]"
       ]
      },
      {
       "output_type": "stream",
       "stream": "stdout",
       "text": [
        "\n",
        "[-0.00192308 -0.00588235  0.11963563 -0.0146771  -0.00483871 -0.00398397]"
       ]
      },
      {
       "output_type": "stream",
       "stream": "stdout",
       "text": [
        "\n",
        "[-0.00402414 -0.01538462  0.0916499  -0.03783231  0.00537849 -0.00378547]"
       ]
      },
      {
       "output_type": "stream",
       "stream": "stdout",
       "text": [
        "\n",
        "[-0.00205761 -0.02        0.08452381  0.02652259  0.00485075 -0.00499866]"
       ]
      },
      {
       "output_type": "stream",
       "stream": "stdout",
       "text": [
        "\n",
        "[-0.00414938 -0.02057613  0.071875   -0.03036437 -0.02451737 -0.00654466]"
       ]
      },
      {
       "output_type": "stream",
       "stream": "stdout",
       "text": [
        "\n",
        "[-0.00207469 -0.01807229  0.07433538 -0.00996016 -0.01875    -0.00576903]"
       ]
      },
      {
       "output_type": "stream",
       "stream": "stdout",
       "text": [
        "\n",
        "[-0.00612245 -0.01260504  0.08008475 -0.02975048 -0.03777555 -0.00770787]"
       ]
      },
      {
       "output_type": "stream",
       "stream": "stdout",
       "text": [
        "\n",
        "[ 0.         -0.004158    0.0787169  -0.04027505 -0.03062622 -0.00481375]"
       ]
      },
      {
       "output_type": "stream",
       "stream": "stdout",
       "text": [
        "\n",
        "[ 0.         -0.01181102  0.07673267  0.01744186 -0.03822355 -0.00203552]"
       ]
      },
      {
       "output_type": "stream",
       "stream": "stdout",
       "text": [
        "\n",
        "[-0.003861   -0.00976562  0.07899408 -0.04469854 -0.01734694 -0.00749487]"
       ]
      },
      {
       "output_type": "stream",
       "stream": "stdout",
       "text": [
        "\n",
        "[ 0.         -0.01832994  0.07543021 -0.01958763 -0.01826347 -0.00367214]"
       ]
      },
      {
       "output_type": "stream",
       "stream": "stdout",
       "text": [
        "\n",
        "[-0.00201207 -0.01568627  0.09478528 -0.02390438 -0.04387755 -0.00548742]"
       ]
      },
      {
       "output_type": "stream",
       "stream": "stdout",
       "text": [
        "\n",
        "[ 0.         -0.01204819  0.07870906 -0.03263158 -0.02301587 -0.0064069 ]"
       ]
      },
      {
       "output_type": "stream",
       "stream": "stdout",
       "text": [
        "\n",
        "[-0.0019802  -0.02131783  0.05797546 -0.03       -0.05140845 -0.00591049]"
       ]
      },
      {
       "output_type": "stream",
       "stream": "stdout",
       "text": [
        "\n",
        "[-0.00598802 -0.01002004  0.07293233 -0.02147239 -0.02848606 -0.00420453]"
       ]
      },
      {
       "output_type": "stream",
       "stream": "stdout",
       "text": [
        "\n",
        "[ 0.         -0.01178782  0.072       0.00507099 -0.02332054 -0.00621996]"
       ]
      },
      {
       "output_type": "stream",
       "stream": "stdout",
       "text": [
        "\n",
        "[-0.00394477 -0.00963391  0.075       0.0019685   0.02521368 -0.00440392]"
       ]
      },
      {
       "output_type": "stream",
       "stream": "stdout",
       "text": [
        "\n",
        "[ 0.         -0.01185771  0.0998998  -0.01559252 -0.0188172  -0.00560611]"
       ]
      },
      {
       "output_type": "stream",
       "stream": "stdout",
       "text": [
        "\n",
        "Optimization terminated successfully.\n",
        "         Current function value: 0.005434\n",
        "         Iterations: 20\n",
        "         Function evaluations: 54\n",
        "[ 0.         -0.01670146  0.08181818 -0.01875    -0.01564299 -0.00379623]"
       ]
      },
      {
       "output_type": "stream",
       "stream": "stdout",
       "text": [
        "\n",
        "[-0.00205339  0.03228346  0.12323651  0.3066474   0.12524851  0.01450001]"
       ]
      },
      {
       "output_type": "stream",
       "stream": "stdout",
       "text": [
        "\n",
        "[-0.00211864  0.03832685  0.14466403  0.34807692  0.11717172  0.0147685 ]"
       ]
      },
      {
       "output_type": "stream",
       "stream": "stdout",
       "text": [
        "\n",
        "[ 0.          0.04801193  0.17415507  0.53902439  0.28861789  0.04057344]"
       ]
      },
      {
       "output_type": "stream",
       "stream": "stdout",
       "text": [
        "\n",
        "[ -4.17536534e-03   2.41550696e-02   8.67187500e-02   1.88645418e-01\n",
        "   4.45344130e-02   2.94066841e-05]"
       ]
      },
      {
       "output_type": "stream",
       "stream": "stdout",
       "text": [
        "\n",
        "[-0.00203252  0.03116761  0.12697769  0.32433265  0.13461538  0.01267693]"
       ]
      },
      {
       "output_type": "stream",
       "stream": "stdout",
       "text": [
        "\n",
        "[-0.01348748  0.02415507  0.00933063  0.16960784  0.06275304  0.00066363]"
       ]
      },
      {
       "output_type": "stream",
       "stream": "stdout",
       "text": [
        "\n",
        "[-0.0078125  -0.02186858 -0.05146199  0.06308411  0.02719665 -0.02871199]"
       ]
      },
      {
       "output_type": "stream",
       "stream": "stdout",
       "text": [
        "\n",
        "[-0.03651116 -0.12991632 -0.31802657 -0.07985972  0.00204918 -0.0666411 ]"
       ]
      },
      {
       "output_type": "stream",
       "stream": "stdout",
       "text": [
        "\n",
        "[-0.02434077 -0.06231102 -0.04643585  0.07289157  0.03601695 -0.01157542]"
       ]
      },
      {
       "output_type": "stream",
       "stream": "stdout",
       "text": [
        "\n",
        "[-0.02173913 -0.0445674  -0.0815534   0.01167665  0.02109705 -0.02433935]"
       ]
      },
      {
       "output_type": "stream",
       "stream": "stdout",
       "text": [
        "\n",
        "[-0.03968254 -0.11600791 -0.21501976 -0.03571429  0.00592885 -0.04035131]"
       ]
      },
      {
       "output_type": "stream",
       "stream": "stdout",
       "text": [
        "\n",
        "[-0.01775148 -0.05526316 -0.11589958  0.02299578  0.01428571 -0.02714195]"
       ]
      },
      {
       "output_type": "stream",
       "stream": "stdout",
       "text": [
        "\n",
        "[-0.04216867 -0.09648437 -0.26825397 -0.05666667  0.01606426 -0.03873398]"
       ]
      },
      {
       "output_type": "stream",
       "stream": "stdout",
       "text": [
        "\n",
        "[-0.00811359  0.0260479   0.05098039  0.14106029  0.04471545 -0.00758816]"
       ]
      },
      {
       "output_type": "stream",
       "stream": "stdout",
       "text": [
        "\n",
        "[-0.01656315 -0.06530815 -0.09497908 -0.03737864  0.00779727 -0.04029191]"
       ]
      },
      {
       "output_type": "stream",
       "stream": "stdout",
       "text": [
        "\n",
        "[-0.02254098 -0.07190083 -0.23407708 -0.0515748   0.01465201 -0.04520293]"
       ]
      },
      {
       "output_type": "stream",
       "stream": "stdout",
       "text": [
        "\n",
        "[-0.00779727  0.00266272 -0.00124481  0.03864097  0.02661597 -0.0182044 ]"
       ]
      },
      {
       "output_type": "stream",
       "stream": "stdout",
       "text": [
        "\n",
        "[-0.01033058 -0.01613226 -0.03943662  0.018357    0.03578947 -0.02249573]"
       ]
      },
      {
       "output_type": "stream",
       "stream": "stdout",
       "text": [
        "\n",
        "[-0.01581028  0.01511628  0.02051282  0.18333333  0.0515873  -0.00084721]"
       ]
      },
      {
       "output_type": "stream",
       "stream": "stdout",
       "text": [
        "\n",
        "[-0.01526718 -0.0529703  -0.06011561  0.00384615  0.01626016 -0.03221111]"
       ]
      },
      {
       "output_type": "stream",
       "stream": "stdout",
       "text": [
        "\n",
        "[-0.01687764 -0.01576402 -0.0627451   0.03834951  0.01810865 -0.03660552]"
       ]
      },
      {
       "output_type": "stream",
       "stream": "stdout",
       "text": [
        "\n",
        "[-0.00835073  0.00427435 -0.02580645  0.02177914  0.02579365 -0.03133914]"
       ]
      },
      {
       "output_type": "stream",
       "stream": "stdout",
       "text": [
        "\n",
        "[-0.01054852 -0.01179775 -0.04853229  0.05841683  0.01818182 -0.02783376]"
       ]
      },
      {
       "output_type": "stream",
       "stream": "stdout",
       "text": [
        "\n",
        "[-0.00619835  0.01339114 -0.00930233  0.09031008  0.03960396 -0.02359275]"
       ]
      },
      {
       "output_type": "stream",
       "stream": "stdout",
       "text": [
        "\n",
        "[-0.01185771 -0.03183633 -0.05571726  0.05206186  0.0164271  -0.02966001]"
       ]
      },
      {
       "output_type": "stream",
       "stream": "stdout",
       "text": [
        "\n",
        "[-0.01156069 -0.00991736 -0.01862348  0.05355731  0.02805611 -0.023582  ]"
       ]
      },
      {
       "output_type": "stream",
       "stream": "stdout",
       "text": [
        "\n",
        "[-0.0164271  -0.02847082  0.00608365  0.07828283  0.02222222 -0.02185895]"
       ]
      },
      {
       "output_type": "stream",
       "stream": "stdout",
       "text": [
        "\n",
        "[-0.00610998 -0.00263158 -0.03300971  0.03503937  0.02857143 -0.02338626]"
       ]
      },
      {
       "output_type": "stream",
       "stream": "stdout",
       "text": [
        "\n",
        "[-0.01        0.00585413  0.01196581  0.06912351  0.01803607 -0.02583188]"
       ]
      },
      {
       "output_type": "stream",
       "stream": "stdout",
       "text": [
        "\n",
        "[-0.00959693 -0.02992203 -0.01579961  0.03787879  0.02105263 -0.02527502]"
       ]
      },
      {
       "output_type": "stream",
       "stream": "stdout",
       "text": [
        "\n",
        "[-0.01020408 -0.01835937 -0.04748491  0.05954357  0.02178218 -0.02477736]"
       ]
      },
      {
       "output_type": "stream",
       "stream": "stdout",
       "text": [
        "\n",
        "[-0.0077821   0.00783133 -0.05726141  0.05303605  0.01805054 -0.02565203]"
       ]
      },
      {
       "output_type": "stream",
       "stream": "stdout",
       "text": [
        "\n",
        "[-0.00793651 -0.02070707 -0.01230159  0.07037422  0.02554028 -0.02136527]"
       ]
      },
      {
       "output_type": "stream",
       "stream": "stdout",
       "text": [
        "\n",
        "[-0.01443299 -0.03284024 -0.04667932  0.02573222  0.02886598 -0.02264109]"
       ]
      },
      {
       "output_type": "stream",
       "stream": "stdout",
       "text": [
        "\n",
        "[-0.01178782 -0.01189555 -0.0109375   0.07674419  0.02312139 -0.01769396]"
       ]
      },
      {
       "output_type": "stream",
       "stream": "stdout",
       "text": [
        "\n",
        "[-0.00587084 -0.0083501  -0.01663443  0.0666998   0.01844262 -0.02509601]"
       ]
      },
      {
       "output_type": "stream",
       "stream": "stdout",
       "text": [
        "\n",
        "[-0.00816327 -0.01776181 -0.02937626  0.08992322  0.02839757 -0.02131137]"
       ]
      },
      {
       "output_type": "stream",
       "stream": "stdout",
       "text": [
        "\n",
        "[-0.00387597 -0.02647059 -0.01        0.08694779  0.02352941 -0.02343803]"
       ]
      },
      {
       "output_type": "stream",
       "stream": "stdout",
       "text": [
        "\n",
        "[-0.00826446 -0.00534351 -0.03699422  0.07754491  0.01859504 -0.02004863]"
       ]
      },
      {
       "output_type": "stream",
       "stream": "stdout",
       "text": [
        "\n",
        "[-0.01020408 -0.02677543 -0.03529412  0.07370937  0.01984127 -0.0220679 ]"
       ]
      },
      {
       "output_type": "stream",
       "stream": "stdout",
       "text": [
        "\n",
        "[-0.00828157 -0.0198152  -0.0254902   0.05689655  0.03680982 -0.02190332]"
       ]
      },
      {
       "output_type": "stream",
       "stream": "stdout",
       "text": [
        "\n",
        "[-0.01541426  0.00325203 -0.01763602  0.06442886  0.02923977 -0.01967626]"
       ]
      },
      {
       "output_type": "stream",
       "stream": "stdout",
       "text": [
        "\n",
        "[-0.01606426 -0.02157464 -0.02717622  0.06956088  0.01848049 -0.02188631]"
       ]
      },
      {
       "output_type": "stream",
       "stream": "stdout",
       "text": [
        "\n",
        "[-0.014862   -0.01854839 -0.02088353  0.09703557  0.0210084  -0.01900837]"
       ]
      },
      {
       "output_type": "stream",
       "stream": "stdout",
       "text": [
        "\n",
        "[-0.01559454 -0.00882353 -0.05948104  0.07044088  0.02692308 -0.01972114]"
       ]
      },
      {
       "output_type": "stream",
       "stream": "stdout",
       "text": [
        "\n",
        "[-0.01361868 -0.00462185 -0.05        0.06084337  0.03012048 -0.02017181]"
       ]
      },
      {
       "output_type": "stream",
       "stream": "stdout",
       "text": [
        "\n",
        "[-0.01367188 -0.00664062  0.01573896  0.06593291  0.0185567  -0.01943754]"
       ]
      },
      {
       "output_type": "stream",
       "stream": "stdout",
       "text": [
        "\n",
        "[-0.00821355 -0.00578512 -0.0238193   0.07362869  0.02204409 -0.02120328]"
       ]
      },
      {
       "output_type": "stream",
       "stream": "stdout",
       "text": [
        "\n",
        "[-0.01006036 -0.00905512  0.00670611  0.08899371  0.02579365 -0.01808785]"
       ]
      },
      {
       "output_type": "stream",
       "stream": "stdout",
       "text": [
        "\n",
        "[-0.01768173  0.00483871 -0.05635593  0.06980198  0.02186879 -0.01886001]"
       ]
      },
      {
       "output_type": "stream",
       "stream": "stdout",
       "text": [
        "\n",
        "Optimization terminated successfully.\n",
        "         Current function value: 0.002602\n",
        "         Iterations: 19\n",
        "         Function evaluations: 50\n",
        "[-0.00968992 -0.01168224 -0.01643287  0.07779923  0.02291667 -0.01930144]"
       ]
      },
      {
       "output_type": "stream",
       "stream": "stdout",
       "text": [
        "\n",
        "[ 0.1         0.18591549  0.064      -0.07579365 -0.23319672 -0.01656997]"
       ]
      },
      {
       "output_type": "stream",
       "stream": "stdout",
       "text": [
        "\n",
        "[ 0.09578947  0.19593496  0.0937751  -0.06084813 -0.21111111 -0.01510387]"
       ]
      },
      {
       "output_type": "stream",
       "stream": "stdout",
       "text": [
        "\n",
        "[ 0.1         0.1979798   0.126       0.10391969 -0.07727273  0.00913362]"
       ]
      },
      {
       "output_type": "stream",
       "stream": "stdout",
       "text": [
        "\n",
        "[ 0.0960396   0.17609562  0.04349112 -0.19803313 -0.31202532 -0.02978132]"
       ]
      },
      {
       "output_type": "stream",
       "stream": "stdout",
       "text": [
        "\n",
        "[ 0.09804305  0.18765432  0.0627789  -0.07941176 -0.23888889 -0.0164607 ]"
       ]
      },
      {
       "output_type": "stream",
       "stream": "stdout",
       "text": [
        "\n",
        "[ 0.09389002  0.15426195 -0.0388668  -0.20970772 -0.27982456 -0.0301035 ]"
       ]
      },
      {
       "output_type": "stream",
       "stream": "stdout",
       "text": [
        "\n",
        "[ 0.09795501  0.18790323  0.11768061  0.0503937  -0.1141129   0.00303817]"
       ]
      },
      {
       "output_type": "stream",
       "stream": "stdout",
       "text": [
        "\n",
        "[ 0.0979716   0.196       0.13624754  0.21748971  0.05508806  0.01605215]"
       ]
      },
      {
       "output_type": "stream",
       "stream": "stdout",
       "text": [
        "\n",
        "[ 0.1         0.2         0.13671727  0.20944334 -0.01188525  0.01058384]"
       ]
      },
      {
       "output_type": "stream",
       "stream": "stdout",
       "text": [
        "\n",
        "[ 0.1         0.19591837  0.13434442  0.12617108 -0.10745527  0.00223439]"
       ]
      },
      {
       "output_type": "stream",
       "stream": "stdout",
       "text": [
        "\n",
        "[ 0.1         0.2         0.13073218  0.14979296 -0.06257485  0.00907452]"
       ]
      },
      {
       "output_type": "stream",
       "stream": "stdout",
       "text": [
        "\n",
        "[ 0.1         0.19809886  0.14137931  0.24365079  0.03899804  0.0167142 ]"
       ]
      },
      {
       "output_type": "stream",
       "stream": "stdout",
       "text": [
        "\n",
        "[ 0.09798793  0.19220273  0.11558317  0.00984556 -0.18858268 -0.00821601]"
       ]
      },
      {
       "output_type": "stream",
       "stream": "stdout",
       "text": [
        "\n",
        "[ 0.1         0.1960396   0.13938429  0.20311203  0.01161616  0.02107075]"
       ]
      },
      {
       "output_type": "stream",
       "stream": "stdout",
       "text": [
        "\n",
        "[ 0.1         0.1921875   0.11375267  0.034      -0.17945736 -0.00494034]"
       ]
      },
      {
       "output_type": "stream",
       "stream": "stdout",
       "text": [
        "\n",
        "[ 0.1         0.19814471  0.13619329  0.21160338 -0.00853659  0.01259035]"
       ]
      },
      {
       "output_type": "stream",
       "stream": "stdout",
       "text": [
        "\n",
        "[ 0.1         0.19579832  0.12017893  0.07291667 -0.13119002 -0.00230177]"
       ]
      },
      {
       "output_type": "stream",
       "stream": "stdout",
       "text": [
        "\n",
        "[ 0.1         0.18828125  0.10238095  0.04748428 -0.12495108  0.00314909]"
       ]
      },
      {
       "output_type": "stream",
       "stream": "stdout",
       "text": [
        "\n",
        "[ 0.09606299  0.18643411  0.09653465  0.06507937 -0.13524946  0.00406743]"
       ]
      },
      {
       "output_type": "stream",
       "stream": "stdout",
       "text": [
        "\n",
        "[ 0.09801193  0.18804781  0.10427435 -0.06663405 -0.20208333 -0.00550183]"
       ]
      },
      {
       "output_type": "stream",
       "stream": "stdout",
       "text": [
        "\n",
        "[ 0.1         0.19595142  0.12698745  0.1063147  -0.10442043  0.00526822]"
       ]
      },
      {
       "output_type": "stream",
       "stream": "stdout",
       "text": [
        "\n",
        "[ 0.1         0.18795181  0.13252427  0.13674699 -0.07015656  0.01420559]"
       ]
      },
      {
       "output_type": "stream",
       "stream": "stdout",
       "text": [
        "\n",
        "[ 0.1         0.18228346  0.09768612  0.06770624 -0.14166667  0.00664038]"
       ]
      },
      {
       "output_type": "stream",
       "stream": "stdout",
       "text": [
        "\n",
        "[ 0.09810606  0.19023437  0.11518375  0.00387524 -0.18767535 -0.00563068]"
       ]
      },
      {
       "output_type": "stream",
       "stream": "stdout",
       "text": [
        "\n",
        "[ 0.0980315   0.19606299  0.12233202  0.09940239 -0.09263261  0.00763662]"
       ]
      },
      {
       "output_type": "stream",
       "stream": "stdout",
       "text": [
        "\n",
        "[ 0.1         0.19792531  0.12435897  0.07195122 -0.10100402  0.01245424]"
       ]
      },
      {
       "output_type": "stream",
       "stream": "stdout",
       "text": [
        "\n",
        "[ 0.0980695   0.19414062  0.11041667  0.02938144 -0.09888889  0.00371317]"
       ]
      },
      {
       "output_type": "stream",
       "stream": "stdout",
       "text": [
        "\n",
        "[ 0.09589322  0.18577236  0.07168675 -0.01003899 -0.11540755 -0.00097724]"
       ]
      },
      {
       "output_type": "stream",
       "stream": "stdout",
       "text": [
        "\n",
        "[ 0.0980695   0.18993964  0.07        0.013147   -0.14041916  0.00024386]"
       ]
      },
      {
       "output_type": "stream",
       "stream": "stdout",
       "text": [
        "\n",
        "[ 0.1         0.18811881  0.04808917 -0.01106557 -0.16002088 -0.00841495]"
       ]
      },
      {
       "output_type": "stream",
       "stream": "stdout",
       "text": [
        "\n",
        "[ 0.08892989  0.18136646  0.0544586  -0.03932039 -0.16322957 -0.00798416]"
       ]
      },
      {
       "output_type": "stream",
       "stream": "stdout",
       "text": [
        "\n",
        "[ 0.09805068  0.18565574  0.056639   -0.04295775 -0.16687243 -0.00765006]"
       ]
      },
      {
       "output_type": "stream",
       "stream": "stdout",
       "text": [
        "\n",
        "[ 0.09635701  0.19040307  0.10088409  0.05       -0.13781925  0.00028481]"
       ]
      },
      {
       "output_type": "stream",
       "stream": "stdout",
       "text": [
        "\n",
        "[ 0.1         0.19599198  0.06698842  0.00672269 -0.13585859  0.0009593 ]"
       ]
      },
      {
       "output_type": "stream",
       "stream": "stdout",
       "text": [
        "\n",
        "[ 0.1         0.17333333  0.06902834 -0.00167653 -0.12393075 -0.00457784]"
       ]
      },
      {
       "output_type": "stream",
       "stream": "stdout",
       "text": [
        "\n",
        "[ 0.1         0.18322851  0.07468619 -0.01015936 -0.13884462 -0.00367034]"
       ]
      },
      {
       "output_type": "stream",
       "stream": "stdout",
       "text": [
        "\n",
        "[ 0.09598394  0.19407115  0.10582329 -0.00742574 -0.12896996  0.00330865]"
       ]
      },
      {
       "output_type": "stream",
       "stream": "stdout",
       "text": [
        "\n",
        "[ 0.09804305  0.18428291  0.09422311  0.07426614 -0.12237354  0.00168605]"
       ]
      },
      {
       "output_type": "stream",
       "stream": "stdout",
       "text": [
        "\n",
        "[ 0.1         0.18787879  0.07099792  0.01831683 -0.14837067 -0.00458665]"
       ]
      },
      {
       "output_type": "stream",
       "stream": "stdout",
       "text": [
        "\n",
        "[ 0.09600798  0.18597194  0.03484848 -0.00346535 -0.12629063 -0.00708502]"
       ]
      },
      {
       "output_type": "stream",
       "stream": "stdout",
       "text": [
        "\n",
        "[ 0.09796334  0.18785425  0.05721649  0.01078431 -0.13853755 -0.00242779]"
       ]
      },
      {
       "output_type": "stream",
       "stream": "stdout",
       "text": [
        "\n",
        "[ 0.0980315   0.18630137  0.05551181 -0.04418605 -0.13210117 -0.00631185]"
       ]
      },
      {
       "output_type": "stream",
       "stream": "stdout",
       "text": [
        "\n",
        "[ 0.09410609  0.17859922  0.08714286 -0.01003899 -0.12346939 -0.00136637]"
       ]
      },
      {
       "output_type": "stream",
       "stream": "stdout",
       "text": [
        "\n",
        "[ 0.09796748  0.16267191  0.05775681 -0.00526839 -0.13137652 -0.00670502]"
       ]
      },
      {
       "output_type": "stream",
       "stream": "stdout",
       "text": [
        "\n",
        "[ 0.09801587  0.16626984  0.0293456  -0.05318471 -0.12690802 -0.0123501 ]"
       ]
      },
      {
       "output_type": "stream",
       "stream": "stdout",
       "text": [
        "\n",
        "[ 0.09794661  0.18148148  0.08243243 -0.00417515 -0.13644764 -0.00289494]"
       ]
      },
      {
       "output_type": "stream",
       "stream": "stdout",
       "text": [
        "\n",
        "[ 0.09790356  0.19152542  0.05711462  0.00864811 -0.13861789 -0.00591958]"
       ]
      },
      {
       "output_type": "stream",
       "stream": "stdout",
       "text": [
        "\n",
        "[ 0.1         0.18523207  0.05759754 -0.08212851 -0.10619835 -0.00421943]"
       ]
      },
      {
       "output_type": "stream",
       "stream": "stdout",
       "text": [
        "\n",
        "[ 0.09418605  0.17628458  0.05638298 -0.05664137 -0.16081081 -0.00448591]"
       ]
      },
      {
       "output_type": "stream",
       "stream": "stdout",
       "text": [
        "\n",
        "[ 0.0939759   0.16844181  0.04880952  0.00577689 -0.12654867 -0.003478  ]"
       ]
      },
      {
       "output_type": "stream",
       "stream": "stdout",
       "text": [
        "\n",
        "[ 0.1         0.1731405   0.06085271 -0.0243083  -0.12475728 -0.00550653]"
       ]
      },
      {
       "output_type": "stream",
       "stream": "stdout",
       "text": [
        "\n",
        "[ 0.1         0.17280335  0.004      -0.03117155 -0.11565657 -0.00707481]"
       ]
      },
      {
       "output_type": "stream",
       "stream": "stdout",
       "text": [
        "\n",
        "[ 0.1         0.19601594  0.06614256 -0.001417   -0.13446602 -0.00309281]"
       ]
      },
      {
       "output_type": "stream",
       "stream": "stdout",
       "text": [
        "\n",
        "[ 0.09591837  0.17580645  0.05403071 -0.07121212 -0.14352227 -0.00547947]"
       ]
      },
      {
       "output_type": "stream",
       "stream": "stdout",
       "text": [
        "\n",
        "[ 0.09195171  0.17260274  0.03291747 -0.03054475 -0.14958678 -0.00515543]"
       ]
      },
      {
       "output_type": "stream",
       "stream": "stdout",
       "text": [
        "\n",
        "[ 0.0959432   0.16530612  0.02901701 -0.0073913  -0.11229508 -0.00500624]"
       ]
      },
      {
       "output_type": "stream",
       "stream": "stdout",
       "text": [
        "\n",
        "[ 0.09185336  0.1582505   0.03636364 -0.02731755 -0.12263581 -0.00770501]"
       ]
      },
      {
       "output_type": "stream",
       "stream": "stdout",
       "text": [
        "\n",
        "[ 0.09806576  0.17633136  0.05138067  0.00441478 -0.15246914 -0.00548356]"
       ]
      },
      {
       "output_type": "stream",
       "stream": "stdout",
       "text": [
        "\n",
        "[ 0.1         0.18210736  0.0510101  -0.02318008 -0.1251004  -0.00782891]"
       ]
      },
      {
       "output_type": "stream",
       "stream": "stdout",
       "text": [
        "\n",
        "[ 0.09794661  0.18409543  0.04336016  0.02142857 -0.10751503 -0.00631002]"
       ]
      },
      {
       "output_type": "stream",
       "stream": "stdout",
       "text": [
        "\n",
        "[ 0.1         0.18619329  0.04620758 -0.08278689 -0.12099237 -0.00775919]"
       ]
      },
      {
       "output_type": "stream",
       "stream": "stdout",
       "text": [
        "\n",
        "[ 0.09354839  0.18181818  0.04885496 -0.04312377 -0.12207392 -0.00750327]"
       ]
      },
      {
       "output_type": "stream",
       "stream": "stdout",
       "text": [
        "\n",
        "[ 0.09605523  0.17171717  0.06648822 -0.02070707 -0.09686192 -0.00526213]"
       ]
      },
      {
       "output_type": "stream",
       "stream": "stdout",
       "text": [
        "\n",
        "[ 0.1         0.17017893  0.05239044 -0.05       -0.11171079 -0.00488136]"
       ]
      },
      {
       "output_type": "stream",
       "stream": "stdout",
       "text": [
        "\n",
        "[ 0.1         0.1729207   0.03593156  0.02058824 -0.1054672  -0.00650816]"
       ]
      },
      {
       "output_type": "stream",
       "stream": "stdout",
       "text": [
        "\n",
        "[ 0.09592668  0.1740519   0.05419162  0.025      -0.12661795 -0.00660851]"
       ]
      },
      {
       "output_type": "stream",
       "stream": "stdout",
       "text": [
        "\n",
        "[ 0.09801193  0.164       0.05569745 -0.07057613 -0.13527607 -0.00540158]"
       ]
      },
      {
       "output_type": "stream",
       "stream": "stdout",
       "text": [
        "\n",
        "[ 0.09186992  0.16825397  0.03888889 -0.01169355 -0.13629032 -0.00794591]"
       ]
      },
      {
       "output_type": "stream",
       "stream": "stdout",
       "text": [
        "\n",
        "[ 0.0959432   0.16487603  0.06022965 -0.02388781 -0.14795918 -0.00712176]"
       ]
      },
      {
       "output_type": "stream",
       "stream": "stdout",
       "text": [
        "\n",
        "[ 0.09801193  0.18594378  0.0469697   0.03398437 -0.13326996 -0.00522952]"
       ]
      },
      {
       "output_type": "stream",
       "stream": "stdout",
       "text": [
        "\n",
        "[ 0.09613153  0.17352342  0.05656064 -0.06195219 -0.13732106 -0.00639665]"
       ]
      },
      {
       "output_type": "stream",
       "stream": "stdout",
       "text": [
        "\n",
        "[ 0.09603175  0.1787234   0.04529915 -0.02782258 -0.11724138 -0.00631754]"
       ]
      },
      {
       "output_type": "stream",
       "stream": "stdout",
       "text": [
        "\n",
        "[ 0.09805068  0.18510242  0.05322581 -0.00708583 -0.12437859 -0.00501573]"
       ]
      },
      {
       "output_type": "stream",
       "stream": "stdout",
       "text": [
        "\n",
        "[ 0.1         0.16579477  0.06372549 -0.0389336  -0.13043912 -0.0076895 ]"
       ]
      },
      {
       "output_type": "stream",
       "stream": "stdout",
       "text": [
        "\n",
        "[ 0.09608611  0.18120301  0.05441176 -0.05671785 -0.11341948 -0.00752135]"
       ]
      },
      {
       "output_type": "stream",
       "stream": "stdout",
       "text": [
        "\n",
        "Optimization terminated successfully.\n",
        "         Current function value: 0.050063\n",
        "         Iterations: 33\n",
        "         Function evaluations: 75\n",
        "[ 0.1         0.17058824  0.05160643  0.02367387 -0.11569038 -0.00727269]"
       ]
      },
      {
       "output_type": "stream",
       "stream": "stdout",
       "text": [
        "\n",
        "[-0.00209205 -0.02004008  0.10082645 -0.11724138 -0.02525151 -0.0089218 ]"
       ]
      },
      {
       "output_type": "stream",
       "stream": "stdout",
       "text": [
        "\n",
        "[ 0.         -0.00594059  0.14392523 -0.08       -0.01298569 -0.00969173]"
       ]
      },
      {
       "output_type": "stream",
       "stream": "stdout",
       "text": [
        "\n",
        "[-0.00199601 -0.008       0.17916667  0.07        0.08492723  0.01781511]"
       ]
      },
      {
       "output_type": "stream",
       "stream": "stdout",
       "text": [
        "\n",
        "[ 0.         -0.01792829  0.10625    -0.24339623 -0.1056962  -0.0240392 ]"
       ]
      },
      {
       "output_type": "stream",
       "stream": "stdout",
       "text": [
        "\n",
        "[-0.00414938 -0.01960784  0.11636364 -0.15577689 -0.05759754 -0.00900789]"
       ]
      },
      {
       "output_type": "stream",
       "stream": "stdout",
       "text": [
        "\n",
        "[-0.01195219 -0.0373444   0.02080925 -0.2802974  -0.08209877 -0.02294613]"
       ]
      },
      {
       "output_type": "stream",
       "stream": "stdout",
       "text": [
        "\n",
        "[ 0.         -0.00383877  0.18275862  0.08145161  0.05        0.0076185 ]"
       ]
      },
      {
       "output_type": "stream",
       "stream": "stdout",
       "text": [
        "\n",
        "[ 0.          0.          0.18367347  0.16326531  0.16041667  0.01939804]"
       ]
      },
      {
       "output_type": "stream",
       "stream": "stdout",
       "text": [
        "\n",
        "[-0.00187617 -0.01419878  0.11735537 -0.14022989 -0.06146881 -0.0124121 ]"
       ]
      },
      {
       "output_type": "stream",
       "stream": "stdout",
       "text": [
        "\n",
        "[-0.00198807 -0.03379722  0.09808917 -0.26598778 -0.07555332 -0.03405543]"
       ]
      },
      {
       "output_type": "stream",
       "stream": "stdout",
       "text": [
        "\n",
        "[-0.00204918 -0.01434426  0.16875    -0.00695297  0.0252988   0.00600496]"
       ]
      },
      {
       "output_type": "stream",
       "stream": "stdout",
       "text": [
        "\n",
        "[-0.00601202 -0.03754941  0.04661355 -0.29439072 -0.07168675 -0.0226612 ]"
       ]
      },
      {
       "output_type": "stream",
       "stream": "stdout",
       "text": [
        "\n",
        "[ 0.         -0.00412371  0.18559671 -0.00042827  0.00927419 -0.00028581]"
       ]
      },
      {
       "output_type": "stream",
       "stream": "stdout",
       "text": [
        "\n",
        "[ 0.         -0.00199203  0.1566075  -0.01141732  0.05359281  0.00110248]"
       ]
      },
      {
       "output_type": "stream",
       "stream": "stdout",
       "text": [
        "\n",
        "[-0.00197239 -0.00196078  0.16694215  0.05338645  0.07782258  0.00712975]"
       ]
      },
      {
       "output_type": "stream",
       "stream": "stdout",
       "text": [
        "\n",
        "[-0.00202429 -0.00390625  0.15731707  0.00433071  0.03129771  0.00367523]"
       ]
      },
      {
       "output_type": "stream",
       "stream": "stdout",
       "text": [
        "\n",
        "[-0.00401606 -0.0141129   0.14094488 -0.05884774 -0.0128692  -0.00365571]"
       ]
      },
      {
       "output_type": "stream",
       "stream": "stdout",
       "text": [
        "\n",
        "[-0.00196464 -0.01663202  0.12815534 -0.15509356 -0.03       -0.00538222]"
       ]
      },
      {
       "output_type": "stream",
       "stream": "stdout",
       "text": [
        "\n",
        "[-0.00194175 -0.02439024  0.13836978 -0.1095057  -0.01752137 -0.01466481]"
       ]
      },
      {
       "output_type": "stream",
       "stream": "stdout",
       "text": [
        "\n",
        "[ 0.         -0.00798403  0.146      -0.02083333  0.01561845  0.00036407]"
       ]
      },
      {
       "output_type": "stream",
       "stream": "stdout",
       "text": [
        "\n",
        "[ 0.         -0.01734104  0.1334638  -0.10197628 -0.01262626 -0.00771555]"
       ]
      },
      {
       "output_type": "stream",
       "stream": "stdout",
       "text": [
        "\n",
        "[-0.00408163 -0.01209677  0.15841996 -0.00204082 -0.01878728 -0.00166264]"
       ]
      },
      {
       "output_type": "stream",
       "stream": "stdout",
       "text": [
        "\n",
        "[ 0.         -0.01775148  0.14860814 -0.01453831  0.02165669  0.00391016]"
       ]
      },
      {
       "output_type": "stream",
       "stream": "stdout",
       "text": [
        "\n",
        "[-0.00406504 -0.01541426  0.14071146 -0.11334702 -0.01629002 -0.00507458]"
       ]
      },
      {
       "output_type": "stream",
       "stream": "stdout",
       "text": [
        "\n",
        "[-0.00200803 -0.00823045  0.15334686  0.03261297  0.02760618  0.00030398]"
       ]
      },
      {
       "output_type": "stream",
       "stream": "stdout",
       "text": [
        "\n",
        "[-0.00195312 -0.00823045  0.1344894  -0.05238095  0.00869981 -0.00154712]"
       ]
      },
      {
       "output_type": "stream",
       "stream": "stdout",
       "text": [
        "\n",
        "[ 0.         -0.01875     0.11891892 -0.14455446  0.00368421 -0.00160115]"
       ]
      },
      {
       "output_type": "stream",
       "stream": "stdout",
       "text": [
        "\n",
        "[ 0.         -0.01434426  0.1328215  -0.11827957 -0.04168279 -0.00233551]"
       ]
      },
      {
       "output_type": "stream",
       "stream": "stdout",
       "text": [
        "\n",
        "[ 0.         -0.00587084  0.156778   -0.05256917  0.00524194  0.00151993]"
       ]
      },
      {
       "output_type": "stream",
       "stream": "stdout",
       "text": [
        "\n",
        "[ -1.94174757e-03  -1.00401606e-02   1.40074906e-01  -8.00796813e-02\n",
        "   8.31663327e-03  -1.07183368e-04]"
       ]
      },
      {
       "output_type": "stream",
       "stream": "stdout",
       "text": [
        "\n",
        "[ 0.          0.          0.15315682 -0.0488189   0.01463415  0.00156245]"
       ]
      },
      {
       "output_type": "stream",
       "stream": "stdout",
       "text": [
        "\n",
        "[ 0.         -0.01030928  0.1375     -0.1         0.01155419 -0.00052652]"
       ]
      },
      {
       "output_type": "stream",
       "stream": "stdout",
       "text": [
        "\n",
        "[-0.00206612 -0.01619433  0.12927308 -0.07826087  0.01122841 -0.00454885]"
       ]
      },
      {
       "output_type": "stream",
       "stream": "stdout",
       "text": [
        "\n",
        "[ 0.         -0.00595238  0.13647541 -0.03177189  0.01232465 -0.00036714]"
       ]
      },
      {
       "output_type": "stream",
       "stream": "stdout",
       "text": [
        "\n",
        "[-0.00392927 -0.01195219  0.1577167  -0.04615385 -0.00123967  0.001556  ]"
       ]
      },
      {
       "output_type": "stream",
       "stream": "stdout",
       "text": [
        "\n",
        "[ 0.         -0.01217039  0.13877551 -0.064       0.006      -0.00099228]"
       ]
      },
      {
       "output_type": "stream",
       "stream": "stdout",
       "text": [
        "\n",
        "[-0.00203252 -0.00631579  0.14234592 -0.10097847  0.01396761 -0.00157691]"
       ]
      },
      {
       "output_type": "stream",
       "stream": "stdout",
       "text": [
        "\n",
        "[ 0.         -0.00796813  0.12105263 -0.11008065 -0.01912065  0.00099174]"
       ]
      },
      {
       "output_type": "stream",
       "stream": "stdout",
       "text": [
        "\n",
        "[ 0.         -0.0102459   0.14594595 -0.09803922  0.0348249  -0.0019151 ]"
       ]
      },
      {
       "output_type": "stream",
       "stream": "stdout",
       "text": [
        "\n",
        "[-0.00407332 -0.01616162  0.14636015 -0.08       -0.00465116 -0.00198295]"
       ]
      },
      {
       "output_type": "stream",
       "stream": "stdout",
       "text": [
        "\n",
        "[-0.0020202  -0.01028807  0.13433396 -0.07193347  0.02131474  0.00148439]"
       ]
      },
      {
       "output_type": "stream",
       "stream": "stdout",
       "text": [
        "\n",
        "[ 0.         -0.00610998  0.12798354 -0.09301397  0.02142857  0.00174313]"
       ]
      },
      {
       "output_type": "stream",
       "stream": "stdout",
       "text": [
        "\n",
        "[-0.00201207 -0.00410678  0.14047619 -0.06692607 -0.00631068 -0.00029813]"
       ]
      },
      {
       "output_type": "stream",
       "stream": "stdout",
       "text": [
        "\n",
        "Optimization terminated successfully.\n",
        "         Current function value: 0.019822\n",
        "         Iterations: 16\n",
        "         Function evaluations: 43\n",
        "[-0.00197239 -0.00590551  0.15051546 -0.05105566 -0.02022901 -0.00128503]"
       ]
      },
      {
       "output_type": "stream",
       "stream": "stdout",
       "text": [
        "\n",
        "[-0.00198807 -0.01257862  0.14152047  0.01768061  0.036       0.00347909]"
       ]
      },
      {
       "output_type": "stream",
       "stream": "stdout",
       "text": [
        "\n",
        "[-0.00202429 -0.01367188  0.14653465  0.1008982   0.03141684  0.00402931]"
       ]
      },
      {
       "output_type": "stream",
       "stream": "stdout",
       "text": [
        "\n",
        "[-0.00190114 -0.00809717  0.16222664  0.19552239  0.15        0.03082923]"
       ]
      },
      {
       "output_type": "stream",
       "stream": "stdout",
       "text": [
        "\n",
        "[-0.003861   -0.037182    0.08521401 -0.09139344 -0.02016807 -0.00954446]"
       ]
      },
      {
       "output_type": "stream",
       "stream": "stdout",
       "text": [
        "\n",
        "[-0.00197239 -0.01544402  0.14951456  0.02953216  0.01023622  0.00364394]"
       ]
      },
      {
       "output_type": "stream",
       "stream": "stdout",
       "text": [
        "\n",
        "[-0.00204918 -0.05633803  0.056      -0.13537074 -0.05098039 -0.00913479]"
       ]
      },
      {
       "output_type": "stream",
       "stream": "stdout",
       "text": [
        "\n",
        "[-0.01030928 -0.05788423 -0.04752475 -0.25270793 -0.07       -0.03849759]"
       ]
      },
      {
       "output_type": "stream",
       "stream": "stdout",
       "text": [
        "\n",
        "[ 0.         -0.02923977  0.05276074 -0.12578125 -0.0475891  -0.02038915]"
       ]
      },
      {
       "output_type": "stream",
       "stream": "stdout",
       "text": [
        "\n",
        "[-0.00782779 -0.05916031  0.00163599 -0.1905303  -0.08319328 -0.01734651]"
       ]
      },
      {
       "output_type": "stream",
       "stream": "stdout",
       "text": [
        "\n",
        "[-0.00636943 -0.0167364   0.13103448 -0.00952381 -0.00961538 -0.00306148]"
       ]
      },
      {
       "output_type": "stream",
       "stream": "stdout",
       "text": [
        "\n",
        "[-0.00402414 -0.01181102  0.1497992   0.08571429 -0.00874525 -0.00050914]"
       ]
      },
      {
       "output_type": "stream",
       "stream": "stdout",
       "text": [
        "\n",
        "[-0.00592885 -0.02091255  0.07334594 -0.12735471 -0.02911877 -0.0067326 ]"
       ]
      },
      {
       "output_type": "stream",
       "stream": "stdout",
       "text": [
        "\n",
        "[-0.00572519 -0.01677149  0.09834025 -0.12913386 -0.04499018 -0.0156866 ]"
       ]
      },
      {
       "output_type": "stream",
       "stream": "stdout",
       "text": [
        "\n",
        "[ -1.95312500e-03  -1.86335404e-02   1.13043478e-01   3.85931559e-02\n",
        "  -1.41221374e-02  -6.30272153e-05]"
       ]
      },
      {
       "output_type": "stream",
       "stream": "stdout",
       "text": [
        "\n",
        "[-0.00201613 -0.01061571  0.14152047 -0.00828221 -0.02481203 -0.00488888]"
       ]
      },
      {
       "output_type": "stream",
       "stream": "stdout",
       "text": [
        "\n",
        "[-0.00204918 -0.00956023  0.16502058  0.12531381  0.03888889  0.01314753]"
       ]
      },
      {
       "output_type": "stream",
       "stream": "stdout",
       "text": [
        "\n",
        "[-0.0056926  -0.02631579  0.07651822 -0.098      -0.03503937 -0.00967317]"
       ]
      },
      {
       "output_type": "stream",
       "stream": "stdout",
       "text": [
        "\n",
        "[ 0.         -0.02610442  0.10797546 -0.12556468 -0.04226804 -0.01513161]"
       ]
      },
      {
       "output_type": "stream",
       "stream": "stdout",
       "text": [
        "\n",
        "[ 0.         -0.01151631  0.11581109 -0.00263158 -0.00661479  0.00066755]"
       ]
      },
      {
       "output_type": "stream",
       "stream": "stdout",
       "text": [
        "\n",
        "[-0.00972763 -0.0244898   0.0678501  -0.06844864 -0.02323232 -0.00535265]"
       ]
      },
      {
       "output_type": "stream",
       "stream": "stdout",
       "text": [
        "\n",
        "[-0.01244813 -0.027833    0.07265136 -0.1348249  -0.01975309 -0.00530256]"
       ]
      },
      {
       "output_type": "stream",
       "stream": "stdout",
       "text": [
        "\n",
        "[-0.00211864 -0.03643725  0.05215606 -0.11730769 -0.04758065 -0.01282494]"
       ]
      },
      {
       "output_type": "stream",
       "stream": "stdout",
       "text": [
        "\n",
        "[-0.00209644 -0.01632653  0.098      -0.01584362 -0.0291498  -0.00353933]"
       ]
      },
      {
       "output_type": "stream",
       "stream": "stdout",
       "text": [
        "\n",
        "[ 0.         -0.01529637  0.11471215 -0.0023614   0.02031558  0.00202667]"
       ]
      },
      {
       "output_type": "stream",
       "stream": "stdout",
       "text": [
        "\n",
        "[-0.00389105 -0.01437372  0.13129771  0.05        0.06393443  0.00709857]"
       ]
      },
      {
       "output_type": "stream",
       "stream": "stdout",
       "text": [
        "\n",
        "[-0.00196464 -0.027833    0.08910506 -0.03773784 -0.01902834 -0.00601483]"
       ]
      },
      {
       "output_type": "stream",
       "stream": "stdout",
       "text": [
        "\n",
        "[-0.00396825 -0.01351351  0.09738431 -0.04356137 -0.00947368 -0.00289634]"
       ]
      },
      {
       "output_type": "stream",
       "stream": "stdout",
       "text": [
        "\n",
        "[-0.0020202  -0.0203666   0.106      -0.08905325 -0.04758065 -0.00845183]"
       ]
      },
      {
       "output_type": "stream",
       "stream": "stdout",
       "text": [
        "\n",
        "[-0.0019305  -0.02819957  0.10103093 -0.05437376 -0.00872211 -0.00195732]"
       ]
      },
      {
       "output_type": "stream",
       "stream": "stdout",
       "text": [
        "\n",
        "[-0.00379507 -0.028       0.08431373 -0.03585859 -0.02734226 -0.00311754]"
       ]
      },
      {
       "output_type": "stream",
       "stream": "stdout",
       "text": [
        "\n",
        "[-0.00804829 -0.02970297  0.12427184 -0.04356137 -0.02172211 -0.00470459]"
       ]
      },
      {
       "output_type": "stream",
       "stream": "stdout",
       "text": [
        "\n",
        "[-0.00365631 -0.01691332  0.07951807 -0.05358566  0.00934394 -0.00576944]"
       ]
      },
      {
       "output_type": "stream",
       "stream": "stdout",
       "text": [
        "\n",
        "[-0.00209644 -0.01980198  0.10744467  0.00647969 -0.0233871  -0.00261407]"
       ]
      },
      {
       "output_type": "stream",
       "stream": "stdout",
       "text": [
        "\n",
        "[-0.00384615 -0.01761252  0.08015717 -0.04680639  0.00515873 -0.00405506]"
       ]
      },
      {
       "output_type": "stream",
       "stream": "stdout",
       "text": [
        "\n",
        "[-0.00587084 -0.01734104  0.0891129  -0.03517034 -0.01434263 -0.00401402]"
       ]
      },
      {
       "output_type": "stream",
       "stream": "stdout",
       "text": [
        "\n",
        "[ 0.         -0.03018868  0.07265136 -0.07674651 -0.02354125 -0.00673801]"
       ]
      },
      {
       "output_type": "stream",
       "stream": "stdout",
       "text": [
        "\n",
        "[-0.00410678 -0.02301255  0.07628866 -0.04716599  0.00116732 -0.00337207]"
       ]
      },
      {
       "output_type": "stream",
       "stream": "stdout",
       "text": [
        "\n",
        "[-0.00378788 -0.01446281  0.10060852 -0.04368836 -0.00702087 -0.0034903 ]"
       ]
      },
      {
       "output_type": "stream",
       "stream": "stdout",
       "text": [
        "\n",
        "[-0.00821355 -0.01649485  0.08319672 -0.016      -0.01312741 -0.00430225]"
       ]
      },
      {
       "output_type": "stream",
       "stream": "stdout",
       "text": [
        "\n",
        "[-0.00383877 -0.01832994  0.09314516 -0.01275304 -0.00080972 -0.00213884]"
       ]
      },
      {
       "output_type": "stream",
       "stream": "stdout",
       "text": [
        "\n",
        "[-0.002079   -0.02040816  0.11750503 -0.0519802   0.00040984 -0.00453191]"
       ]
      },
      {
       "output_type": "stream",
       "stream": "stdout",
       "text": [
        "\n",
        "[-0.00626305 -0.01980198  0.0909465  -0.0624498  -0.01463415 -0.00359725]"
       ]
      },
      {
       "output_type": "stream",
       "stream": "stdout",
       "text": [
        "\n",
        "[-0.00202429 -0.03082852  0.1047619  -0.02714286 -0.0137577  -0.00589387]"
       ]
      },
      {
       "output_type": "stream",
       "stream": "stdout",
       "text": [
        "\n",
        "[-0.00429185 -0.00980392  0.10039841 -0.02601713 -0.00909091 -0.00378592]"
       ]
      },
      {
       "output_type": "stream",
       "stream": "stdout",
       "text": [
        "\n",
        "[-0.00201613 -0.03815261  0.11262136 -0.03299595 -0.0049676  -0.00284925]"
       ]
      },
      {
       "output_type": "stream",
       "stream": "stdout",
       "text": [
        "\n",
        "[-0.0019084  -0.01792829  0.08605108 -0.01818182 -0.01865079 -0.00502077]"
       ]
      },
      {
       "output_type": "stream",
       "stream": "stdout",
       "text": [
        "\n",
        "[-0.01380671 -0.0218254   0.07780041 -0.09117647 -0.02514395 -0.00553796]"
       ]
      },
      {
       "output_type": "stream",
       "stream": "stdout",
       "text": [
        "\n",
        "[-0.00394477 -0.01052632  0.10816327 -0.01719368 -0.01983968 -0.00435813]"
       ]
      },
      {
       "output_type": "stream",
       "stream": "stdout",
       "text": [
        "\n",
        "[-0.00206612 -0.04621849  0.09640592 -0.05344828 -0.02231076 -0.00390852]"
       ]
      },
      {
       "output_type": "stream",
       "stream": "stdout",
       "text": [
        "\n",
        "[ 0.         -0.01919386  0.09161554 -0.03655804 -0.03939394 -0.00328349]"
       ]
      },
      {
       "output_type": "stream",
       "stream": "stdout",
       "text": [
        "\n",
        "[-0.0018797  -0.01698514  0.09816701 -0.004      -0.0132948  -0.00337449]"
       ]
      },
      {
       "output_type": "stream",
       "stream": "stdout",
       "text": [
        "\n",
        "[-0.01041667 -0.02828283  0.07951807 -0.01300813 -0.01206544 -0.00490251]"
       ]
      },
      {
       "output_type": "stream",
       "stream": "stdout",
       "text": [
        "\n",
        "[-0.00598802 -0.01587302  0.1        -0.09656965 -0.04208494 -0.00443846]"
       ]
      },
      {
       "output_type": "stream",
       "stream": "stdout",
       "text": [
        "\n",
        "Optimization terminated successfully.\n",
        "         Current function value: 0.007570\n",
        "         Iterations: 23\n",
        "         Function evaluations: 53\n",
        "[-0.00613497 -0.02857143  0.08316832 -0.12219917 -0.022      -0.00485895]"
       ]
      },
      {
       "output_type": "stream",
       "stream": "stdout",
       "text": [
        "\n",
        "[-0.00193798 -0.01550388 -0.03349515 -0.17371134 -0.03686869 -0.0211922 ]"
       ]
      },
      {
       "output_type": "stream",
       "stream": "stdout",
       "text": [
        "\n",
        "[ 0.         -0.00792079 -0.014      -0.13856549 -0.02775551 -0.02282133]"
       ]
      },
      {
       "output_type": "stream",
       "stream": "stdout",
       "text": [
        "\n",
        "[ 0.         -0.00811359  0.03406375 -0.00852713  0.09340771  0.00483259]"
       ]
      },
      {
       "output_type": "stream",
       "stream": "stdout",
       "text": [
        "\n",
        "[ 0.         -0.02901354 -0.05940499 -0.30606362 -0.09274029 -0.03708841]"
       ]
      },
      {
       "output_type": "stream",
       "stream": "stdout",
       "text": [
        "\n",
        "[-0.002079   -0.01603206 -0.0229783  -0.21262425 -0.04270386 -0.02251244]"
       ]
      },
      {
       "output_type": "stream",
       "stream": "stdout",
       "text": [
        "\n",
        "[-0.00798403 -0.04651163 -0.13074656 -0.33473896 -0.09117647 -0.0348171 ]"
       ]
      },
      {
       "output_type": "stream",
       "stream": "stdout",
       "text": [
        "\n",
        "[ 0.          0.          0.034       0.07336066  0.03762089 -0.00498185]"
       ]
      },
      {
       "output_type": "stream",
       "stream": "stdout",
       "text": [
        "\n",
        "[ 0.          0.          0.03823529  0.13571429  0.19205231  0.00535907]"
       ]
      },
      {
       "output_type": "stream",
       "stream": "stdout",
       "text": [
        "\n",
        "[ 0.          0.          0.04139785  0.09549098  0.17121212  0.00731299]"
       ]
      },
      {
       "output_type": "stream",
       "stream": "stdout",
       "text": [
        "\n",
        "[ 0.         -0.002079    0.03367347  0.12651515  0.16881188  0.00654564]"
       ]
      },
      {
       "output_type": "stream",
       "stream": "stdout",
       "text": [
        "\n",
        "[-0.0020284  -0.00201613  0.03196393  0.04635628  0.11185567  0.00133375]"
       ]
      },
      {
       "output_type": "stream",
       "stream": "stdout",
       "text": [
        "\n",
        "[ 0.         -0.01195219 -0.00313093 -0.22142857 -0.07043011 -0.02575664]"
       ]
      },
      {
       "output_type": "stream",
       "stream": "stdout",
       "text": [
        "\n",
        "[-0.00194175 -0.00618557  0.02679325  0.03825911  0.11452906 -0.00132057]"
       ]
      },
      {
       "output_type": "stream",
       "stream": "stdout",
       "text": [
        "\n",
        "[ 0.         -0.00198807  0.04609375  0.12631579  0.24138943  0.01127527]"
       ]
      },
      {
       "output_type": "stream",
       "stream": "stdout",
       "text": [
        "\n",
        "[ 0.         -0.01754386 -0.00154639 -0.08086172  0.02115385 -0.01296441]"
       ]
      },
      {
       "output_type": "stream",
       "stream": "stdout",
       "text": [
        "\n",
        "[-0.00195695  0.          0.03624754  0.07420635  0.16456311  0.01175105]"
       ]
      },
      {
       "output_type": "stream",
       "stream": "stdout",
       "text": [
        "\n",
        "[ 0.         -0.00199601  0.02890295 -0.03821138  0.03343195 -0.01108482]"
       ]
      },
      {
       "output_type": "stream",
       "stream": "stdout",
       "text": [
        "\n",
        "[-0.00189753 -0.00614754  0.00366795 -0.10505618 -0.00123967 -0.01068581]"
       ]
      },
      {
       "output_type": "stream",
       "stream": "stdout",
       "text": [
        "\n",
        "[ 0.         -0.00591716  0.02318008 -0.08004115 -0.01278586 -0.01252926]"
       ]
      },
      {
       "output_type": "stream",
       "stream": "stdout",
       "text": [
        "\n",
        "[ 0.          0.          0.02341513 -0.01758893  0.0203854  -0.00528836]"
       ]
      },
      {
       "output_type": "stream",
       "stream": "stdout",
       "text": [
        "\n",
        "[ 0.         -0.00205761  0.03167006  0.01469428  0.09124514 -0.00066038]"
       ]
      },
      {
       "output_type": "stream",
       "stream": "stdout",
       "text": [
        "\n",
        "[-0.00198807 -0.0056926   0.00991984 -0.12686117 -0.02968442 -0.02466807]"
       ]
      },
      {
       "output_type": "stream",
       "stream": "stdout",
       "text": [
        "\n",
        "[ 0.         -0.00413223  0.02714286 -0.03993711  0.03849206 -0.00208389]"
       ]
      },
      {
       "output_type": "stream",
       "stream": "stdout",
       "text": [
        "\n",
        "[-0.0056391  -0.0139165  -0.00295316 -0.14414063  0.00213358 -0.01401011]"
       ]
      },
      {
       "output_type": "stream",
       "stream": "stdout",
       "text": [
        "\n",
        "[ 0.         -0.00201207  0.02623762 -0.00741445  0.05281124 -0.00782271]"
       ]
      },
      {
       "output_type": "stream",
       "stream": "stdout",
       "text": [
        "\n",
        "[ 0.         -0.00194932  0.02847358 -0.01203523  0.07920892 -0.00288926]"
       ]
      },
      {
       "output_type": "stream",
       "stream": "stdout",
       "text": [
        "\n",
        "[-0.00421053 -0.00414079  0.02991968  0.09747475  0.12926078  0.00306728]"
       ]
      },
      {
       "output_type": "stream",
       "stream": "stdout",
       "text": [
        "\n",
        "[-0.00204082  0.          0.02420635 -0.03195777  0.00757576 -0.00762906]"
       ]
      },
      {
       "output_type": "stream",
       "stream": "stdout",
       "text": [
        "\n",
        "[ 0.         -0.00403226  0.00445545 -0.08912176  0.06118012 -0.01091367]"
       ]
      },
      {
       "output_type": "stream",
       "stream": "stdout",
       "text": [
        "\n",
        "[ 0.         -0.00389105  0.02247706 -0.03        0.02261905 -0.00287749]"
       ]
      },
      {
       "output_type": "stream",
       "stream": "stdout",
       "text": [
        "\n",
        "[ 0.         -0.01010101  0.01237624 -0.03358779 -0.00955056 -0.01534532]"
       ]
      },
      {
       "output_type": "stream",
       "stream": "stdout",
       "text": [
        "\n",
        "[-0.00195312 -0.0101626   0.01435644 -0.02832311  0.03220339 -0.01010549]"
       ]
      },
      {
       "output_type": "stream",
       "stream": "stdout",
       "text": [
        "\n",
        "[ 0.          0.          0.03015873 -0.03631791  0.04269777 -0.00700468]"
       ]
      },
      {
       "output_type": "stream",
       "stream": "stdout",
       "text": [
        "\n",
        "[ 0.         -0.00974659  0.01868885 -0.086       0.03525896 -0.01102143]"
       ]
      },
      {
       "output_type": "stream",
       "stream": "stdout",
       "text": [
        "\n",
        "[ 0.         -0.00378072  0.02885835 -0.02476099  0.01338583 -0.01131789]"
       ]
      },
      {
       "output_type": "stream",
       "stream": "stdout",
       "text": [
        "\n",
        "[ 0.          0.          0.03155738 -0.03747554  0.02991632 -0.00657266]"
       ]
      },
      {
       "output_type": "stream",
       "stream": "stdout",
       "text": [
        "\n",
        "[ 0.         -0.00201207  0.02759674 -0.00368421  0.05916335 -0.00477921]"
       ]
      },
      {
       "output_type": "stream",
       "stream": "stdout",
       "text": [
        "\n",
        "[ 0.          0.          0.01289425 -0.00616438  0.04329389 -0.00595961]"
       ]
      },
      {
       "output_type": "stream",
       "stream": "stdout",
       "text": [
        "\n",
        "[ 0.          0.          0.01348884 -0.05425532  0.03163265 -0.00830066]"
       ]
      },
      {
       "output_type": "stream",
       "stream": "stdout",
       "text": [
        "\n",
        "[ 0.         -0.00393701  0.03415842 -0.03854806  0.01023166 -0.00868328]"
       ]
      },
      {
       "output_type": "stream",
       "stream": "stdout",
       "text": [
        "\n",
        "[-0.0040404  -0.00399202  0.02580645 -0.03259109  0.03982387 -0.007722  ]"
       ]
      },
      {
       "output_type": "stream",
       "stream": "stdout",
       "text": [
        "\n",
        "[-0.00199601 -0.008       0.02194389 -0.03814532  0.02835671 -0.00689491]"
       ]
      },
      {
       "output_type": "stream",
       "stream": "stdout",
       "text": [
        "\n",
        "Optimization terminated successfully.\n",
        "         Current function value: 0.001301\n",
        "         Iterations: 20\n",
        "         Function evaluations: 42\n",
        "[-0.00207469 -0.00612245  0.02104247 -0.042       0.01733871 -0.00440458]"
       ]
      },
      {
       "output_type": "stream",
       "stream": "stdout",
       "text": [
        "\n",
        "[-0.00195312 -0.00588235 -0.0814664  -0.10765595  0.06646586 -0.00482638]"
       ]
      },
      {
       "output_type": "stream",
       "stream": "stdout",
       "text": [
        "\n",
        "[-0.00197239 -0.01431493 -0.04590818 -0.02420635  0.09171657 -0.00407735]"
       ]
      },
      {
       "output_type": "stream",
       "stream": "stdout",
       "text": [
        "\n",
        "[ 0.         -0.00594059 -0.0268714   0.10252525  0.18800384  0.02231535]"
       ]
      },
      {
       "output_type": "stream",
       "stream": "stdout",
       "text": [
        "\n",
        "[-0.00566038 -0.01574803 -0.12314225 -0.16584158 -0.00435685 -0.01923505]"
       ]
      },
      {
       "output_type": "stream",
       "stream": "stdout",
       "text": [
        "\n",
        "[-0.00186567 -0.01188119 -0.05631068 -0.09509018  0.09007782 -0.00380863]"
       ]
      },
      {
       "output_type": "stream",
       "stream": "stdout",
       "text": [
        "\n",
        "[-0.00209644 -0.0610687  -0.12962963 -0.22166979  0.01114398 -0.01635282]"
       ]
      },
      {
       "output_type": "stream",
       "stream": "stdout",
       "text": [
        "\n",
        "[ 0.         -0.00201207 -0.01550388  0.1455684   0.18379175  0.01368462]"
       ]
      },
      {
       "output_type": "stream",
       "stream": "stdout",
       "text": [
        "\n",
        "[-0.00197628 -0.00613497 -0.02745098  0.00463918  0.14624217  0.00887513]"
       ]
      },
      {
       "output_type": "stream",
       "stream": "stdout",
       "text": [
        "\n",
        "[-0.00410678 -0.01926782 -0.13914657 -0.21404715 -0.00841996 -0.03699112]"
       ]
      },
      {
       "output_type": "stream",
       "stream": "stdout",
       "text": [
        "\n",
        "[ 0.         -0.01356589 -0.03769841  0.028       0.12485265  0.00970373]"
       ]
      },
      {
       "output_type": "stream",
       "stream": "stdout",
       "text": [
        "\n",
        "[ 0.         -0.00609756 -0.027833    0.12714885  0.2278865   0.01724345]"
       ]
      },
      {
       "output_type": "stream",
       "stream": "stdout",
       "text": [
        "\n",
        "[-0.00208333 -0.01160542 -0.06530612 -0.08623188  0.03045977 -0.00899314]"
       ]
      },
      {
       "output_type": "stream",
       "stream": "stdout",
       "text": [
        "\n",
        "[-0.00204918 -0.00402414 -0.02941176  0.04591837  0.07966601  0.00430978]"
       ]
      },
      {
       "output_type": "stream",
       "stream": "stdout",
       "text": [
        "\n",
        "[ 0.          0.         -0.02195609  0.04146341  0.13216319  0.00669383]"
       ]
      },
      {
       "output_type": "stream",
       "stream": "stdout",
       "text": [
        "\n",
        "[-0.00570342 -0.0206379  -0.07198444 -0.11916996  0.05860656 -0.00759703]"
       ]
      },
      {
       "output_type": "stream",
       "stream": "stdout",
       "text": [
        "\n",
        "[-0.00392927 -0.01740812 -0.04873294  0.00093555  0.1003006   0.00262095]"
       ]
      },
      {
       "output_type": "stream",
       "stream": "stdout",
       "text": [
        "\n",
        "[ 0.          0.         -0.02474227  0.07133891  0.10308151  0.00525884]"
       ]
      },
      {
       "output_type": "stream",
       "stream": "stdout",
       "text": [
        "\n",
        "[-0.002      -0.01565558 -0.05577689 -0.0742915   0.06273486 -0.01056868]"
       ]
      },
      {
       "output_type": "stream",
       "stream": "stdout",
       "text": [
        "\n",
        "[-0.00202429 -0.01792829 -0.07959184 -0.11967213  0.04072581 -0.01207628]"
       ]
      },
      {
       "output_type": "stream",
       "stream": "stdout",
       "text": [
        "\n",
        "[-0.00201613 -0.00204918 -0.0368932   0.02841141  0.09644351  0.00307143]"
       ]
      },
      {
       "output_type": "stream",
       "stream": "stdout",
       "text": [
        "\n",
        "[ 0.         -0.00628931 -0.05479452 -0.01376812  0.11568047  0.00938192]"
       ]
      },
      {
       "output_type": "stream",
       "stream": "stdout",
       "text": [
        "\n",
        "[-0.00207039 -0.00390625 -0.03937008 -0.04488753  0.09105263 -0.00547378]"
       ]
      },
      {
       "output_type": "stream",
       "stream": "stdout",
       "text": [
        "\n",
        "[ 0.         -0.008      -0.02839757  0.07275449  0.20506073  0.00787519]"
       ]
      },
      {
       "output_type": "stream",
       "stream": "stdout",
       "text": [
        "\n",
        "[-0.00393701 -0.02348337 -0.04259635 -0.11782946  0.07280702 -0.00436035]"
       ]
      },
      {
       "output_type": "stream",
       "stream": "stdout",
       "text": [
        "\n",
        "[-0.00205339 -0.00205761 -0.02941176  0.03691207  0.09028056 -0.00031037]"
       ]
      },
      {
       "output_type": "stream",
       "stream": "stdout",
       "text": [
        "\n",
        "[ 0.         -0.0083682  -0.04426559  0.01947162  0.08627255  0.00065102]"
       ]
      },
      {
       "output_type": "stream",
       "stream": "stdout",
       "text": [
        "\n",
        "[-0.00401606 -0.002      -0.04633205 -0.02969052  0.09671815 -0.00178843]"
       ]
      },
      {
       "output_type": "stream",
       "stream": "stdout",
       "text": [
        "\n",
        "[-0.00389864 -0.00595238 -0.02464066  0.01686627  0.07474849  0.00307332]"
       ]
      },
      {
       "output_type": "stream",
       "stream": "stdout",
       "text": [
        "\n",
        "[-0.00201613 -0.00422833 -0.06477733 -0.03327138  0.04626719 -0.00329442]"
       ]
      },
      {
       "output_type": "stream",
       "stream": "stdout",
       "text": [
        "\n",
        "[-0.00198807 -0.01022495 -0.05747126 -0.01761134  0.10858209  0.0029815 ]"
       ]
      },
      {
       "output_type": "stream",
       "stream": "stdout",
       "text": [
        "\n",
        "[-0.00199203 -0.00426439 -0.03285421 -0.01787149  0.09814815 -0.00033098]"
       ]
      },
      {
       "output_type": "stream",
       "stream": "stdout",
       "text": [
        "\n",
        "[ 0.         -0.00603622 -0.03187251 -0.01414343  0.1249503   0.00206126]"
       ]
      },
      {
       "output_type": "stream",
       "stream": "stdout",
       "text": [
        "\n",
        "[ 0.         -0.0021322  -0.03441296 -0.01653543  0.07704918  0.00053355]"
       ]
      },
      {
       "output_type": "stream",
       "stream": "stdout",
       "text": [
        "\n",
        "[-0.00392927 -0.0020202  -0.04573805  0.01603774  0.08061224  0.00238429]"
       ]
      },
      {
       "output_type": "stream",
       "stream": "stdout",
       "text": [
        "\n",
        "[ 0.         -0.00798403 -0.04660194  0.01237219  0.08141684  0.00013142]"
       ]
      },
      {
       "output_type": "stream",
       "stream": "stdout",
       "text": [
        "\n",
        "[  0.00000000e+00  -9.84251969e-03  -6.56370656e-02  -3.94433781e-02\n",
        "   8.88888889e-02  -6.03809114e-05]"
       ]
      },
      {
       "output_type": "stream",
       "stream": "stdout",
       "text": [
        "\n",
        "[-0.00199601 -0.02079002 -0.03468208 -0.02727273  0.09534884  0.00199064]"
       ]
      },
      {
       "output_type": "stream",
       "stream": "stdout",
       "text": [
        "\n",
        "[ 0.         -0.00592885 -0.0385439  -0.00325203  0.10101289  0.00308658]"
       ]
      },
      {
       "output_type": "stream",
       "stream": "stdout",
       "text": [
        "\n",
        "[-0.00200401 -0.00590551 -0.06276151 -0.02708333  0.06715481 -0.00014043]"
       ]
      },
      {
       "output_type": "stream",
       "stream": "stdout",
       "text": [
        "\n",
        "[-0.00195695 -0.00826446 -0.03346457 -0.00490982  0.08359528  0.00162448]"
       ]
      },
      {
       "output_type": "stream",
       "stream": "stdout",
       "text": [
        "\n",
        "[ 0.         -0.00197239 -0.0440613   0.01082474  0.08552361  0.00401567]"
       ]
      },
      {
       "output_type": "stream",
       "stream": "stdout",
       "text": [
        "\n",
        "[ 0.          0.         -0.03703704  0.00952381  0.07426036  0.00278145]"
       ]
      },
      {
       "output_type": "stream",
       "stream": "stdout",
       "text": [
        "\n",
        "[ 0.         -0.00408998 -0.05357143 -0.01881288  0.11342412  0.00577391]"
       ]
      },
      {
       "output_type": "stream",
       "stream": "stdout",
       "text": [
        "\n",
        "[ 0.         -0.01176471 -0.03947368 -0.02389558  0.09256619  0.00096265]"
       ]
      },
      {
       "output_type": "stream",
       "stream": "stdout",
       "text": [
        "\n",
        "[-0.00198413 -0.00974659 -0.04007634  0.00791506  0.07970711  0.00211995]"
       ]
      },
      {
       "output_type": "stream",
       "stream": "stdout",
       "text": [
        "\n",
        "[-0.0019802   0.         -0.05346535  0.04677419  0.12120623  0.00477496]"
       ]
      },
      {
       "output_type": "stream",
       "stream": "stdout",
       "text": [
        "\n",
        "[ 0.         -0.01372549 -0.03639847  0.0125      0.07219959  0.00273411]"
       ]
      },
      {
       "output_type": "stream",
       "stream": "stdout",
       "text": [
        "\n",
        "[ 0.         -0.0038835  -0.03422053 -0.04690722  0.11116505  0.00580048]"
       ]
      },
      {
       "output_type": "stream",
       "stream": "stdout",
       "text": [
        "\n",
        "[ 0.         -0.00576923 -0.04705882 -0.01037736  0.08878327  0.00066688]"
       ]
      },
      {
       "output_type": "stream",
       "stream": "stdout",
       "text": [
        "\n",
        "[ 0.         -0.00561798 -0.03861004 -0.01183953  0.09016736  0.00218351]"
       ]
      },
      {
       "output_type": "stream",
       "stream": "stdout",
       "text": [
        "\n",
        "[ 0.         -0.01364522 -0.04391218  0.01041667  0.06885246  0.00216728]"
       ]
      },
      {
       "output_type": "stream",
       "stream": "stdout",
       "text": [
        "\n",
        "[-0.00202429 -0.01333333 -0.03913894  0.01420233  0.10605749  0.00237014]"
       ]
      },
      {
       "output_type": "stream",
       "stream": "stdout",
       "text": [
        "\n",
        "[ 0.         -0.00616016 -0.03041825  0.00291577  0.1015748   0.0029476 ]"
       ]
      },
      {
       "output_type": "stream",
       "stream": "stdout",
       "text": [
        "\n",
        "[-0.00390625 -0.01072961 -0.0433925   0.0375      0.06702128  0.00187229]"
       ]
      },
      {
       "output_type": "stream",
       "stream": "stdout",
       "text": [
        "\n",
        "Optimization terminated successfully.\n",
        "         Current function value: 0.006539\n",
        "         Iterations: 20\n",
        "         Function evaluations: 54\n",
        "[-0.00199601 -0.01234568 -0.0242915   0.00487805  0.07698413  0.00310421]"
       ]
      },
      {
       "output_type": "stream",
       "stream": "stdout",
       "text": [
        "\n",
        "[-0.00200401 -0.02123552  0.07592593  0.39        0.12048193  0.02973298]"
       ]
      },
      {
       "output_type": "stream",
       "stream": "stdout",
       "text": [
        "\n",
        "[-0.00630252 -0.00990099  0.10930233  0.39902153  0.12795276  0.03002016]"
       ]
      },
      {
       "output_type": "stream",
       "stream": "stdout",
       "text": [
        "\n",
        "[ 0.         -0.00412371  0.13308271  0.57395626  0.27272727  0.05527574]"
       ]
      },
      {
       "output_type": "stream",
       "stream": "stdout",
       "text": [
        "\n",
        "[ 0.         -0.02495202  0.02318087  0.26015326  0.05653021  0.01500256]"
       ]
      },
      {
       "output_type": "stream",
       "stream": "stdout",
       "text": [
        "\n",
        "[ 0.         -0.014       0.05380762  0.32253521  0.112       0.0281683 ]"
       ]
      },
      {
       "output_type": "stream",
       "stream": "stdout",
       "text": [
        "\n",
        "[-0.01070664 -0.04453441 -0.03918919  0.22289628  0.05346535  0.01540681]"
       ]
      },
      {
       "output_type": "stream",
       "stream": "stdout",
       "text": [
        "\n",
        "[-0.00994036 -0.05544554 -0.10265393  0.13446894  0.02982107 -0.01384477]"
       ]
      },
      {
       "output_type": "stream",
       "stream": "stdout",
       "text": [
        "\n",
        "[-0.04166667 -0.17731959 -0.3470297  -0.02730845  0.00195695 -0.05030422]"
       ]
      },
      {
       "output_type": "stream",
       "stream": "stdout",
       "text": [
        "\n",
        "[-0.02320675 -0.09014675 -0.11692456  0.1259332   0.03155819  0.00261596]"
       ]
      },
      {
       "output_type": "stream",
       "stream": "stdout",
       "text": [
        "\n",
        "[-0.02004008 -0.06451613 -0.12578947  0.06089613  0.02231237 -0.0085338 ]"
       ]
      },
      {
       "output_type": "stream",
       "stream": "stdout",
       "text": [
        "\n",
        "[-0.05906314 -0.1627451  -0.34105368 -0.032       0.00833333 -0.03054314]"
       ]
      },
      {
       "output_type": "stream",
       "stream": "stdout",
       "text": [
        "\n",
        "[-0.03320312 -0.13279678 -0.29291339 -0.02110454  0.00612245 -0.02434787]"
       ]
      },
      {
       "output_type": "stream",
       "stream": "stdout",
       "text": [
        "\n",
        "[-0.0270793  -0.0982659  -0.16762295  0.07408124  0.01568627 -0.01142829]"
       ]
      },
      {
       "output_type": "stream",
       "stream": "stdout",
       "text": [
        "\n",
        "[-0.0498008  -0.20114943 -0.2457935  -0.00253411  0.01677149 -0.02261247]"
       ]
      },
      {
       "output_type": "stream",
       "stream": "stdout",
       "text": [
        "\n",
        "[-0.00196464 -0.02886598 -0.0254386   0.18888889  0.04868154  0.00729795]"
       ]
      },
      {
       "output_type": "stream",
       "stream": "stdout",
       "text": [
        "\n",
        "[-0.0204918  -0.08401639 -0.17989691  0.03207547  0.01217039 -0.02659233]"
       ]
      },
      {
       "output_type": "stream",
       "stream": "stdout",
       "text": [
        "\n",
        "[-0.01242236 -0.05284553 -0.0243487   0.14798387  0.03265306 -0.0026488 ]"
       ]
      },
      {
       "output_type": "stream",
       "stream": "stdout",
       "text": [
        "\n",
        "[-0.00578035 -0.03680982  0.01417323  0.2458498   0.08249497  0.01911263]"
       ]
      },
      {
       "output_type": "stream",
       "stream": "stdout",
       "text": [
        "\n",
        "[-0.01207243 -0.07554672 -0.14896907  0.0960396   0.01680672 -0.01644806]"
       ]
      },
      {
       "output_type": "stream",
       "stream": "stdout",
       "text": [
        "\n",
        "[-0.01844262 -0.09765625 -0.17786885  0.01752577  0.01910828 -0.02274715]"
       ]
      },
      {
       "output_type": "stream",
       "stream": "stdout",
       "text": [
        "\n",
        "[-0.01202405 -0.04025424 -0.04335937  0.1209073   0.01949318 -0.00014397]"
       ]
      },
      {
       "output_type": "stream",
       "stream": "stdout",
       "text": [
        "\n",
        "[-0.01197605 -0.05436893 -0.05758123  0.075       0.02734375 -0.0177552 ]"
       ]
      },
      {
       "output_type": "stream",
       "stream": "stdout",
       "text": [
        "\n",
        "[ 0.         -0.06967213 -0.12027027  0.08421053  0.01972387 -0.03018627]"
       ]
      },
      {
       "output_type": "stream",
       "stream": "stdout",
       "text": [
        "\n",
        "[-0.0101626  -0.04572565 -0.03989899  0.15458248  0.03059273 -0.0029668 ]"
       ]
      },
      {
       "output_type": "stream",
       "stream": "stdout",
       "text": [
        "\n",
        "[-0.00584795 -0.06570842 -0.03787879  0.12908367  0.03024194 -0.00226912]"
       ]
      },
      {
       "output_type": "stream",
       "stream": "stdout",
       "text": [
        "\n",
        "[-0.00970874 -0.07444668 -0.1351711   0.05961538  0.00795229 -0.01118463]"
       ]
      },
      {
       "output_type": "stream",
       "stream": "stdout",
       "text": [
        "\n",
        "[-0.01803607 -0.08134921 -0.08762376  0.08125     0.01581028 -0.00665896]"
       ]
      },
      {
       "output_type": "stream",
       "stream": "stdout",
       "text": [
        "\n",
        "[-0.00423729 -0.08939709 -0.13199566  0.09047619  0.01768173 -0.01021743]"
       ]
      },
      {
       "output_type": "stream",
       "stream": "stdout",
       "text": [
        "\n",
        "[-0.0018797  -0.06150794 -0.07810591  0.11305182  0.03036876 -0.00714522]"
       ]
      },
      {
       "output_type": "stream",
       "stream": "stdout",
       "text": [
        "\n",
        "[-0.00607287 -0.04008016 -0.02540323  0.13529412  0.0230608  -0.00631389]"
       ]
      },
      {
       "output_type": "stream",
       "stream": "stdout",
       "text": [
        "\n",
        "[-0.0020202  -0.04313725 -0.04639279  0.12290389  0.0214425  -0.00851409]"
       ]
      },
      {
       "output_type": "stream",
       "stream": "stdout",
       "text": [
        "\n",
        "[-0.00589391 -0.05052632 -0.09297189  0.1122905   0.02040816 -0.01688933]"
       ]
      },
      {
       "output_type": "stream",
       "stream": "stdout",
       "text": [
        "\n",
        "[-0.00954198 -0.05098039 -0.08379175  0.10119522  0.02505219 -0.0052527 ]"
       ]
      },
      {
       "output_type": "stream",
       "stream": "stdout",
       "text": [
        "\n",
        "[-0.00591716 -0.0417495  -0.03375242  0.16        0.02910603 -0.00719644]"
       ]
      },
      {
       "output_type": "stream",
       "stream": "stdout",
       "text": [
        "\n",
        "[-0.00982318 -0.0498155  -0.08493976  0.1027833   0.03571429 -0.00764052]"
       ]
      },
      {
       "output_type": "stream",
       "stream": "stdout",
       "text": [
        "\n",
        "[-0.00209644 -0.0591716  -0.0994577   0.11869159  0.03592814 -0.00776415]"
       ]
      },
      {
       "output_type": "stream",
       "stream": "stdout",
       "text": [
        "\n",
        "[-0.01169591 -0.05487805 -0.05750988  0.0953125   0.01939655 -0.01237924]"
       ]
      },
      {
       "output_type": "stream",
       "stream": "stdout",
       "text": [
        "\n",
        "[-0.01596806 -0.04492188 -0.11789366  0.10080321  0.02982107 -0.01397712]"
       ]
      },
      {
       "output_type": "stream",
       "stream": "stdout",
       "text": [
        "\n",
        "[-0.01052632 -0.02895753 -0.04305857  0.1504931   0.00994036 -0.01249758]"
       ]
      },
      {
       "output_type": "stream",
       "stream": "stdout",
       "text": [
        "\n",
        "[-0.00594059 -0.06374502 -0.08960396  0.09298246  0.02004008 -0.01184629]"
       ]
      },
      {
       "output_type": "stream",
       "stream": "stdout",
       "text": [
        "\n",
        "[-0.01181102 -0.06875    -0.06621622  0.06699411  0.02268041 -0.01893293]"
       ]
      },
      {
       "output_type": "stream",
       "stream": "stdout",
       "text": [
        "\n",
        "[-0.00612245 -0.0729783  -0.056       0.07745303  0.01825558 -0.01862108]"
       ]
      },
      {
       "output_type": "stream",
       "stream": "stdout",
       "text": [
        "\n",
        "[-0.0239521  -0.06114398 -0.13131417  0.07400419  0.01125704 -0.02258473]"
       ]
      },
      {
       "output_type": "stream",
       "stream": "stdout",
       "text": [
        "\n",
        "[-0.00821355 -0.03536346 -0.06073559  0.10668058  0.01980198 -0.01606824]"
       ]
      },
      {
       "output_type": "stream",
       "stream": "stdout",
       "text": [
        "\n",
        "[-0.01446281 -0.05973025 -0.09040404  0.0625239   0.02479339 -0.02090969]"
       ]
      },
      {
       "output_type": "stream",
       "stream": "stdout",
       "text": [
        "\n",
        "[-0.01479915 -0.06534653 -0.11195426  0.08106996  0.0155642  -0.0224125 ]"
       ]
      },
      {
       "output_type": "stream",
       "stream": "stdout",
       "text": [
        "\n",
        "[-0.0125523  -0.04809619 -0.0459596   0.10467836  0.04109589 -0.01648002]"
       ]
      },
      {
       "output_type": "stream",
       "stream": "stdout",
       "text": [
        "\n",
        "[-0.00601202 -0.04474708 -0.11122449  0.07533719  0.01761252 -0.01812941]"
       ]
      },
      {
       "output_type": "stream",
       "stream": "stdout",
       "text": [
        "\n",
        "[-0.00579151 -0.05498982 -0.04656489  0.112       0.01383399 -0.01943426]"
       ]
      },
      {
       "output_type": "stream",
       "stream": "stdout",
       "text": [
        "\n",
        "[-0.00399202 -0.04970179 -0.10248509  0.0752988   0.01646091 -0.01589967]"
       ]
      },
      {
       "output_type": "stream",
       "stream": "stdout",
       "text": [
        "\n",
        "[-0.00408163 -0.07058824 -0.10250501  0.08627451  0.01422764 -0.01799104]"
       ]
      },
      {
       "output_type": "stream",
       "stream": "stdout",
       "text": [
        "\n",
        "[-0.00616016 -0.05319149 -0.07997947  0.08882466  0.01792829 -0.01669279]"
       ]
      },
      {
       "output_type": "stream",
       "stream": "stdout",
       "text": [
        "\n",
        "Optimization terminated successfully.\n",
        "         Current function value: 0.013103\n",
        "         Iterations: 24\n",
        "         Function evaluations: 52\n",
        "[-0.00595238 -0.07287449 -0.06113244  0.08145957  0.01968504 -0.01939826]"
       ]
      },
      {
       "output_type": "stream",
       "stream": "stdout",
       "text": [
        "\n",
        "[ 0.         -0.01437372  0.03279022  0.03367347  0.07966601 -0.00213763]"
       ]
      },
      {
       "output_type": "stream",
       "stream": "stdout",
       "text": [
        "\n",
        "[-0.00199601 -0.01425662  0.03899782  0.09313725  0.06931818 -0.00080474]"
       ]
      },
      {
       "output_type": "stream",
       "stream": "stdout",
       "text": [
        "\n",
        "[-0.00193798 -0.002       0.07222222  0.22484663  0.17384937  0.02664675]"
       ]
      },
      {
       "output_type": "stream",
       "stream": "stdout",
       "text": [
        "\n",
        "[-0.00198413 -0.02191235 -0.02055336 -0.09380952  0.00068226 -0.01639655]"
       ]
      },
      {
       "output_type": "stream",
       "stream": "stdout",
       "text": [
        "\n",
        "[-0.00392927 -0.01010101  0.013371    0.00807771  0.05891089 -0.00139384]"
       ]
      },
      {
       "output_type": "stream",
       "stream": "stdout",
       "text": [
        "\n",
        "[-0.01590457 -0.0311284  -0.06633663 -0.1265286   0.00882353 -0.01329025]"
       ]
      },
      {
       "output_type": "stream",
       "stream": "stdout",
       "text": [
        "\n",
        "[-0.00821355 -0.06500956 -0.12243714 -0.2297619  -0.01613546 -0.04303569]"
       ]
      },
      {
       "output_type": "stream",
       "stream": "stdout",
       "text": [
        "\n",
        "[-0.00198807 -0.05       -0.07408907 -0.12813765 -0.00714286 -0.02514437]"
       ]
      },
      {
       "output_type": "stream",
       "stream": "stdout",
       "text": [
        "\n",
        "[ 0.         -0.01033058  0.05        0.08585657  0.11037736  0.00980014]"
       ]
      },
      {
       "output_type": "stream",
       "stream": "stdout",
       "text": [
        "\n",
        "[ 0.         -0.01244813  0.02460317  0.03732943  0.08279678  0.00113933]"
       ]
      },
      {
       "output_type": "stream",
       "stream": "stdout",
       "text": [
        "\n",
        "[ 0.         -0.0059761   0.06855346  0.17007874  0.14315895  0.00573003]"
       ]
      },
      {
       "output_type": "stream",
       "stream": "stdout",
       "text": [
        "\n",
        "[-0.00582524 -0.01515152 -0.02625251 -0.07523901  0.02692308 -0.00879613]"
       ]
      },
      {
       "output_type": "stream",
       "stream": "stdout",
       "text": [
        "\n",
        "[-0.00793651 -0.05050505 -0.06699411 -0.12334669  0.02343413 -0.00892834]"
       ]
      },
      {
       "output_type": "stream",
       "stream": "stdout",
       "text": [
        "\n",
        "[-0.00579151 -0.00994036  0.02546584  0.00914397  0.06680328 -0.00363901]"
       ]
      },
      {
       "output_type": "stream",
       "stream": "stdout",
       "text": [
        "\n",
        "[-0.00195695 -0.01425662  0.05098039  0.14229209  0.15119522  0.01078168]"
       ]
      },
      {
       "output_type": "stream",
       "stream": "stdout",
       "text": [
        "\n",
        "[-0.002      -0.01609658  0.01417166 -0.05759494  0.02707129 -0.00883536]"
       ]
      },
      {
       "output_type": "stream",
       "stream": "stdout",
       "text": [
        "\n",
        "[-0.00407332 -0.02886598 -0.04922481 -0.07        0.02142857 -0.01111946]"
       ]
      },
      {
       "output_type": "stream",
       "stream": "stdout",
       "text": [
        "\n",
        "[-0.00389864 -0.02912621  0.00945674 -0.0488024   0.01       -0.01099181]"
       ]
      },
      {
       "output_type": "stream",
       "stream": "stdout",
       "text": [
        "\n",
        "[ 0.         -0.02240326 -0.03472486 -0.11533066  0.00964215 -0.01678352]"
       ]
      },
      {
       "output_type": "stream",
       "stream": "stdout",
       "text": [
        "\n",
        "[-0.00202429 -0.02148438  0.01954023  0.0034413   0.05766046 -0.00214989]"
       ]
      },
      {
       "output_type": "stream",
       "stream": "stdout",
       "text": [
        "\n",
        "[ 0.         -0.01226994  0.036       0.03605578  0.07741313 -0.00207706]"
       ]
      },
      {
       "output_type": "stream",
       "stream": "stdout",
       "text": [
        "\n",
        "[-0.00206612 -0.02745098  0.00219561 -0.02504873  0.02692308 -0.00496275]"
       ]
      },
      {
       "output_type": "stream",
       "stream": "stdout",
       "text": [
        "\n",
        "[-0.01239669 -0.02357564 -0.00365854 -0.08921569  0.01772908 -0.00988398]"
       ]
      },
      {
       "output_type": "stream",
       "stream": "stdout",
       "text": [
        "\n",
        "[-0.00192308 -0.012       0.00132827  0.01544715  0.0417782  -0.00462228]"
       ]
      },
      {
       "output_type": "stream",
       "stream": "stdout",
       "text": [
        "\n",
        "[-0.00204918 -0.016       0.00871369  0.0490099   0.06332008 -0.00049826]"
       ]
      },
      {
       "output_type": "stream",
       "stream": "stdout",
       "text": [
        "\n",
        "[ 0.         -0.01035197  0.01217565 -0.01299213  0.04033613 -0.0065573 ]"
       ]
      },
      {
       "output_type": "stream",
       "stream": "stdout",
       "text": [
        "\n",
        "[ 0.         -0.02564103 -0.006      -0.04637188  0.02770961 -0.01181379]"
       ]
      },
      {
       "output_type": "stream",
       "stream": "stdout",
       "text": [
        "\n",
        "[-0.00608519 -0.03578947 -0.00576923 -0.09285714  0.00283757 -0.01482255]"
       ]
      },
      {
       "output_type": "stream",
       "stream": "stdout",
       "text": [
        "\n",
        "[ 0.         -0.00986193  0.02687747  0.00086705  0.06530815 -0.00621298]"
       ]
      },
      {
       "output_type": "stream",
       "stream": "stdout",
       "text": [
        "\n",
        "[ 0.         -0.0210728   0.01313131 -0.08298969  0.05179641 -0.00919074]"
       ]
      },
      {
       "output_type": "stream",
       "stream": "stdout",
       "text": [
        "\n",
        "[-0.00787402 -0.0101626  -0.00116732 -0.01237219  0.02831325 -0.00505249]"
       ]
      },
      {
       "output_type": "stream",
       "stream": "stdout",
       "text": [
        "\n",
        "[-0.00199203 -0.02765957  0.01714836 -0.04045726  0.03281573 -0.00759381]"
       ]
      },
      {
       "output_type": "stream",
       "stream": "stdout",
       "text": [
        "\n",
        "[ 0.         -0.02964427  0.02173913 -0.04297521  0.04179687 -0.00780708]"
       ]
      },
      {
       "output_type": "stream",
       "stream": "stdout",
       "text": [
        "\n",
        "[-0.00191939 -0.02074689  0.02079208  0.00402299  0.05165975 -0.00425572]"
       ]
      },
      {
       "output_type": "stream",
       "stream": "stdout",
       "text": [
        "\n",
        "Optimization terminated successfully.\n",
        "         Current function value: 0.001147\n",
        "         Iterations: 14\n",
        "         Function evaluations: 34\n",
        "[-0.004      -0.01876173  0.00631365 -0.056       0.05557769 -0.00377842]"
       ]
      },
      {
       "output_type": "stream",
       "stream": "stdout",
       "text": [
        "\n",
        "[-0.00568182  0.0335729  -0.01477733 -0.18164557 -0.09320388  0.00069391]"
       ]
      },
      {
       "output_type": "stream",
       "stream": "stdout",
       "text": [
        "\n",
        "[ 0.          0.04217221 -0.00653021 -0.10638945 -0.07083333 -0.00154263]"
       ]
      },
      {
       "output_type": "stream",
       "stream": "stdout",
       "text": [
        "\n",
        "[-0.00205761  0.04799197  0.01862745  0.00909091  0.0480315   0.02696377]"
       ]
      },
      {
       "output_type": "stream",
       "stream": "stdout",
       "text": [
        "\n",
        "[-0.00205339  0.0406015  -0.06025145 -0.28424947 -0.14057377 -0.01439687]"
       ]
      },
      {
       "output_type": "stream",
       "stream": "stdout",
       "text": [
        "\n",
        "[-0.00194553  0.02813121 -0.01496063 -0.17129817 -0.08167939  0.00074033]"
       ]
      },
      {
       "output_type": "stream",
       "stream": "stdout",
       "text": [
        "\n",
        "[-0.01422764  0.00303327 -0.10746421 -0.36259843 -0.11832669 -0.0135266 ]"
       ]
      },
      {
       "output_type": "stream",
       "stream": "stdout",
       "text": [
        "\n",
        "[ 0.          0.0478678   0.02991968  0.01799205  0.01321962  0.01697347]"
       ]
      },
      {
       "output_type": "stream",
       "stream": "stdout",
       "text": [
        "\n",
        "[ 0.          0.05        0.04203187  0.17364341  0.1326572   0.02642511]"
       ]
      },
      {
       "output_type": "stream",
       "stream": "stdout",
       "text": [
        "\n",
        "[-0.00205761  0.04803536  0.03245614  0.09497992  0.14        0.02849614]"
       ]
      },
      {
       "output_type": "stream",
       "stream": "stdout",
       "text": [
        "\n",
        "[ 0.          0.04588477  0.03973306  0.07032193  0.12751938  0.02983164]"
       ]
      },
      {
       "output_type": "stream",
       "stream": "stdout",
       "text": [
        "\n",
        "[ 0.          0.05        0.05        0.20443038  0.25417515  0.03771504]"
       ]
      },
      {
       "output_type": "stream",
       "stream": "stdout",
       "text": [
        "\n",
        "[ 0.          0.04585921  0.00809524 -0.0538055  -0.04890656  0.01174284]"
       ]
      },
      {
       "output_type": "stream",
       "stream": "stdout",
       "text": [
        "\n",
        "[-0.00193424  0.03582996 -0.00927342 -0.15646552 -0.06990291  0.00377866]"
       ]
      },
      {
       "output_type": "stream",
       "stream": "stdout",
       "text": [
        "\n",
        "[-0.0021645   0.04426386  0.02916667 -0.07178218 -0.02191781  0.01186457]"
       ]
      },
      {
       "output_type": "stream",
       "stream": "stdout",
       "text": [
        "\n",
        "[-0.0018622   0.03997996 -0.02269155 -0.19752066 -0.09607843 -0.00336924]"
       ]
      },
      {
       "output_type": "stream",
       "stream": "stdout",
       "text": [
        "\n",
        "[ 0.          0.05        0.02281553  0.06176471  0.0312253   0.02050301]"
       ]
      },
      {
       "output_type": "stream",
       "stream": "stdout",
       "text": [
        "\n",
        "[ 0.          0.04375     0.03797595  0.07570194  0.11262525  0.03337932]"
       ]
      },
      {
       "output_type": "stream",
       "stream": "stdout",
       "text": [
        "\n",
        "[ 0.          0.04425287  0.01579477 -0.09618395 -0.02330097  0.00962127]"
       ]
      },
      {
       "output_type": "stream",
       "stream": "stdout",
       "text": [
        "\n",
        "[-0.0019685   0.05        0.03217822  0.03897638  0.02362869  0.02518944]"
       ]
      },
      {
       "output_type": "stream",
       "stream": "stdout",
       "text": [
        "\n",
        "[-0.00203252  0.04386503  0.03422091  0.09946467  0.077666    0.02866212]"
       ]
      },
      {
       "output_type": "stream",
       "stream": "stdout",
       "text": [
        "\n",
        "[ 0.          0.04414063  0.03458574 -0.04529915  0.00588235  0.01610376]"
       ]
      },
      {
       "output_type": "stream",
       "stream": "stdout",
       "text": [
        "\n",
        "[-0.00193424  0.04403579  0.00121951 -0.04078156 -0.0490566   0.01662739]"
       ]
      },
      {
       "output_type": "stream",
       "stream": "stdout",
       "text": [
        "\n",
        "[ 0.          0.04807692  0.026       0.07188139  0.06236559  0.02869551]"
       ]
      },
      {
       "output_type": "stream",
       "stream": "stdout",
       "text": [
        "\n",
        "[ 0.          0.04045802  0.01768061 -0.0278626  -0.02835821  0.01521594]"
       ]
      },
      {
       "output_type": "stream",
       "stream": "stdout",
       "text": [
        "\n",
        "[ 0.          0.04610136  0.0295082   0.04477912  0.06639344  0.02346216]"
       ]
      },
      {
       "output_type": "stream",
       "stream": "stdout",
       "text": [
        "\n",
        "[ 0.          0.04804688  0.02768763 -0.00029354  0.00038911  0.01975502]"
       ]
      },
      {
       "output_type": "stream",
       "stream": "stdout",
       "text": [
        "\n",
        "[ 0.          0.04587629  0.0128866  -0.05511727  0.00450281  0.0114642 ]"
       ]
      },
      {
       "output_type": "stream",
       "stream": "stdout",
       "text": [
        "\n",
        "[ 0.          0.04417476  0.0269392  -0.07828283 -0.01893004  0.00317213]"
       ]
      },
      {
       "output_type": "stream",
       "stream": "stdout",
       "text": [
        "\n",
        "[ 0.          0.04596774  0.0165272  -0.03709677  0.00533881  0.01965258]"
       ]
      },
      {
       "output_type": "stream",
       "stream": "stdout",
       "text": [
        "\n",
        "[ 0.          0.04387755  0.02098646 -0.01654135  0.00920502  0.01633348]"
       ]
      },
      {
       "output_type": "stream",
       "stream": "stdout",
       "text": [
        "\n",
        "[ 0.          0.05        0.0240519   0.03235294  0.02692308  0.02028459]"
       ]
      },
      {
       "output_type": "stream",
       "stream": "stdout",
       "text": [
        "\n",
        "[ 0.          0.04804305  0.03422091  0.01471735  0.04899598  0.02313285]"
       ]
      },
      {
       "output_type": "stream",
       "stream": "stdout",
       "text": [
        "\n",
        "[ 0.          0.04599198  0.02276265 -0.0131068  -0.00914513  0.01656488]"
       ]
      },
      {
       "output_type": "stream",
       "stream": "stdout",
       "text": [
        "\n",
        "[ 0.          0.04808429  0.0192623  -0.06187739 -0.03015267  0.01376591]"
       ]
      },
      {
       "output_type": "stream",
       "stream": "stdout",
       "text": [
        "\n",
        "[ 0.          0.04804305  0.02565923 -0.00586481  0.03012552  0.01868843]"
       ]
      },
      {
       "output_type": "stream",
       "stream": "stdout",
       "text": [
        "\n",
        "[ 0.          0.05        0.01862745 -0.06520468 -0.00039139  0.01698906]"
       ]
      },
      {
       "output_type": "stream",
       "stream": "stdout",
       "text": [
        "\n",
        "[-0.00212314  0.03828125  0.01177062 -0.01633663 -0.01325301  0.01851478]"
       ]
      },
      {
       "output_type": "stream",
       "stream": "stdout",
       "text": [
        "\n",
        "[-0.00187266  0.05        0.03076923 -0.01633663  0.00641283  0.01614147]"
       ]
      },
      {
       "output_type": "stream",
       "stream": "stdout",
       "text": [
        "\n",
        "[ 0.          0.05        0.03268398  0.01733871  0.00416667  0.0164583 ]"
       ]
      },
      {
       "output_type": "stream",
       "stream": "stdout",
       "text": [
        "\n",
        "[ 0.          0.04196787  0.0278672  -0.00797665  0.0417795   0.01818413]"
       ]
      },
      {
       "output_type": "stream",
       "stream": "stdout",
       "text": [
        "\n",
        "Optimization terminated successfully.\n",
        "         Current function value: 0.002394\n",
        "         Iterations: 18\n",
        "         Function evaluations: 40\n",
        "[-0.00210526  0.05        0.00945946 -0.00943775  0.01285141  0.01771535]"
       ]
      },
      {
       "output_type": "stream",
       "stream": "stdout",
       "text": [
        "\n",
        "[ 0.04578947  0.18440546  0.27913386  0.13355899 -0.04017341  0.01709211]"
       ]
      },
      {
       "output_type": "stream",
       "stream": "stdout",
       "text": [
        "\n",
        "[ 0.05        0.18991935  0.29093686  0.16388889 -0.0316568   0.01883739]"
       ]
      },
      {
       "output_type": "stream",
       "stream": "stdout",
       "text": [
        "\n",
        "[ 0.05        0.1922179   0.31793587  0.29541833  0.09621212  0.04412817]"
       ]
      },
      {
       "output_type": "stream",
       "stream": "stdout",
       "text": [
        "\n",
        "[ 0.0440239   0.18097252  0.23954635 -0.02573222 -0.09366197  0.00382589]"
       ]
      },
      {
       "output_type": "stream",
       "stream": "stdout",
       "text": [
        "\n",
        "[ 0.05        0.178389    0.29926004  0.08785851 -0.04959839  0.01721108]"
       ]
      },
      {
       "output_type": "stream",
       "stream": "stdout",
       "text": [
        "\n",
        "[ 0.04206349  0.14556452  0.17474227 -0.04467213 -0.09499018  0.00383806]"
       ]
      },
      {
       "output_type": "stream",
       "stream": "stdout",
       "text": [
        "\n",
        "[ 0.04590164  0.12768595  0.09501992 -0.16162325 -0.12938144 -0.02526811]"
       ]
      },
      {
       "output_type": "stream",
       "stream": "stdout",
       "text": [
        "\n",
        "[ 0.03535565  0.14105691  0.0944668  -0.15038388 -0.12       -0.00942386]"
       ]
      },
      {
       "output_type": "stream",
       "stream": "stdout",
       "text": [
        "\n",
        "[ 0.02795591  0.1127907   0.06991701 -0.16925344 -0.13804781 -0.01919573]"
       ]
      },
      {
       "output_type": "stream",
       "stream": "stdout",
       "text": [
        "\n",
        "[ 0.00874263  0.05271318 -0.0733871  -0.27490119 -0.13597194 -0.03587117]"
       ]
      },
      {
       "output_type": "stream",
       "stream": "stdout",
       "text": [
        "\n",
        "[ 0.01660482  0.12089249  0.03263473 -0.22058824 -0.13580122 -0.02254022]"
       ]
      },
      {
       "output_type": "stream",
       "stream": "stdout",
       "text": [
        "\n",
        "[ 0.00940959  0.04877127 -0.09785276 -0.25039841 -0.13956159 -0.03490062]"
       ]
      },
      {
       "output_type": "stream",
       "stream": "stdout",
       "text": [
        "\n",
        "[ 0.01850394  0.10889831 -0.00984095 -0.1756513  -0.13221344 -0.02432364]"
       ]
      },
      {
       "output_type": "stream",
       "stream": "stdout",
       "text": [
        "\n",
        "[ 0.03434442  0.14957983  0.14878049 -0.10875486 -0.12       -0.00650153]"
       ]
      },
      {
       "output_type": "stream",
       "stream": "stdout",
       "text": [
        "\n",
        "[ 0.04009901  0.12916667  0.12649326 -0.13752437 -0.12064579 -0.00941991]"
       ]
      },
      {
       "output_type": "stream",
       "stream": "stdout",
       "text": [
        "\n",
        "[ 0.03047722  0.11461101  0.06836735 -0.13719397 -0.12556008  0.00026095]"
       ]
      },
      {
       "output_type": "stream",
       "stream": "stdout",
       "text": [
        "\n",
        "[ 0.02297297  0.11812865  0.04639469 -0.12171717 -0.11443515  0.01167843]"
       ]
      },
      {
       "output_type": "stream",
       "stream": "stdout",
       "text": [
        "\n",
        "[ 0.0231405   0.09846743 -0.01929461 -0.17080925 -0.11449704 -0.003994  ]"
       ]
      },
      {
       "output_type": "stream",
       "stream": "stdout",
       "text": [
        "\n",
        "[ 0.02379032  0.11634241  0.03041237 -0.13207739 -0.10183044 -0.00331579]"
       ]
      },
      {
       "output_type": "stream",
       "stream": "stdout",
       "text": [
        "\n",
        "[ 0.02081712  0.09243028 -0.02909836 -0.12603143 -0.12281553  0.00192232]"
       ]
      },
      {
       "output_type": "stream",
       "stream": "stdout",
       "text": [
        "\n",
        "[ 0.0251434   0.11634241  0.08031496 -0.07580645 -0.09757282  0.01713933]"
       ]
      },
      {
       "output_type": "stream",
       "stream": "stdout",
       "text": [
        "\n",
        "[ 0.02654584  0.10648855  0.11064909 -0.03965517 -0.01065574  0.03338765]"
       ]
      },
      {
       "output_type": "stream",
       "stream": "stdout",
       "text": [
        "\n",
        "[-0.00521472  0.01649485 -0.11341463 -0.2489899  -0.12628458  0.0043564 ]"
       ]
      },
      {
       "output_type": "stream",
       "stream": "stdout",
       "text": [
        "\n",
        "[ 0.03196393  0.12887029  0.13864971 -0.13656126 -0.10808383  0.00497271]"
       ]
      },
      {
       "output_type": "stream",
       "stream": "stdout",
       "text": [
        "\n",
        "[ 0.02619048  0.11050584  0.05081967 -0.12620968 -0.06505792  0.0179806 ]"
       ]
      },
      {
       "output_type": "stream",
       "stream": "stdout",
       "text": [
        "\n",
        "[ 0.02473684  0.08822355  0.05864662 -0.08347548 -0.08529412  0.02295261]"
       ]
      },
      {
       "output_type": "stream",
       "stream": "stdout",
       "text": [
        "\n",
        "[ 0.01981891  0.09227642  0.068      -0.10813008 -0.07621359  0.01573889]"
       ]
      },
      {
       "output_type": "stream",
       "stream": "stdout",
       "text": [
        "\n",
        "[ 0.02142857  0.10505051  0.0265286  -0.1240668  -0.10296524  0.0051263 ]"
       ]
      },
      {
       "output_type": "stream",
       "stream": "stdout",
       "text": [
        "\n",
        "[ 0.04031008  0.13333333  0.12530364 -0.03356998 -0.06617934  0.02017719]"
       ]
      },
      {
       "output_type": "stream",
       "stream": "stdout",
       "text": [
        "\n",
        "[ 0.01062992  0.03903421 -0.03204593 -0.14411765 -0.07246521  0.01742802]"
       ]
      },
      {
       "output_type": "stream",
       "stream": "stdout",
       "text": [
        "\n",
        "[ 0.02942387  0.07701613  0.0645749  -0.07983871 -0.0199187   0.03584111]"
       ]
      },
      {
       "output_type": "stream",
       "stream": "stdout",
       "text": [
        "\n",
        "[ 0.00959596  0.05477178  0.05530452 -0.01539924  0.07789784  0.04920178]"
       ]
      },
      {
       "output_type": "stream",
       "stream": "stdout",
       "text": [
        "\n",
        "[ 0.01743295  0.07951807  0.04731801 -0.0530303  -0.00862786  0.03770491]"
       ]
      },
      {
       "output_type": "stream",
       "stream": "stdout",
       "text": [
        "\n",
        "[-0.00106383  0.06746988  0.05242915 -0.05445344  0.04665272  0.04653225]"
       ]
      },
      {
       "output_type": "stream",
       "stream": "stdout",
       "text": [
        "\n",
        "[ 0.00437262  0.04615385  0.02545639  0.00104364  0.06881391  0.04839695]"
       ]
      },
      {
       "output_type": "stream",
       "stream": "stdout",
       "text": [
        "\n",
        "[ 0.00748988  0.08212181  0.06752577  0.12003745  0.24834025  0.05956402]"
       ]
      },
      {
       "output_type": "stream",
       "stream": "stdout",
       "text": [
        "\n",
        "[ 0.01699029  0.09676113  0.11595745  0.08912176  0.15938124  0.05611195]"
       ]
      },
      {
       "output_type": "stream",
       "stream": "stdout",
       "text": [
        "\n",
        "[-0.00197505  0.0815534   0.02924528 -0.12317554 -0.034       0.02883465]"
       ]
      },
      {
       "output_type": "stream",
       "stream": "stdout",
       "text": [
        "\n",
        "[ 0.01        0.06497065  0.02741935 -0.06485149  0.00192308  0.0430461 ]"
       ]
      },
      {
       "output_type": "stream",
       "stream": "stdout",
       "text": [
        "\n",
        "[-0.0241483   0.04099617  0.04404517  0.02250996  0.16762295  0.05671085]"
       ]
      },
      {
       "output_type": "stream",
       "stream": "stdout",
       "text": [
        "\n",
        "[ 0.02651663  0.10927835  0.08921201 -0.05242915 -0.01706349  0.03237668]"
       ]
      },
      {
       "output_type": "stream",
       "stream": "stdout",
       "text": [
        "\n",
        "[-0.02216495  0.0546169   0.04607843 -0.00330661  0.07058824  0.05053728]"
       ]
      },
      {
       "output_type": "stream",
       "stream": "stdout",
       "text": [
        "\n",
        "[ 0.00546559  0.07651822  0.09        0.08852459  0.18474576  0.06108205]"
       ]
      },
      {
       "output_type": "stream",
       "stream": "stdout",
       "text": [
        "\n",
        "[ 0.00436508  0.06815416  0.07       -0.05018975 -0.00826772  0.03797336]"
       ]
      },
      {
       "output_type": "stream",
       "stream": "stdout",
       "text": [
        "\n",
        "[ 0.00841996  0.07733888  0.00524194 -0.12148847  0.0379845   0.0385464 ]"
       ]
      },
      {
       "output_type": "stream",
       "stream": "stdout",
       "text": [
        "\n",
        "[-0.00684211  0.05915493  0.10695733 -0.04822485  0.046       0.04776817]"
       ]
      },
      {
       "output_type": "stream",
       "stream": "stdout",
       "text": [
        "\n",
        "[-0.01157113  0.07473904  0.01101695 -0.03897638  0.03461538  0.04579316]"
       ]
      },
      {
       "output_type": "stream",
       "stream": "stdout",
       "text": [
        "\n",
        "[ 0.00714286  0.04897959  0.01861598  0.00728543  0.07064777  0.04740724]"
       ]
      },
      {
       "output_type": "stream",
       "stream": "stdout",
       "text": [
        "\n",
        "[ 0.02183099  0.08423154  0.074      -0.01888889  0.05612245  0.04386   ]"
       ]
      },
      {
       "output_type": "stream",
       "stream": "stdout",
       "text": [
        "\n",
        "[ 0.00183044  0.06694387  0.0546332  -0.00784499  0.032       0.04225512]"
       ]
      },
      {
       "output_type": "stream",
       "stream": "stdout",
       "text": [
        "\n",
        "[ 0.00454545  0.0875969   0.09556213 -0.00072765  0.08366337  0.04853243]"
       ]
      },
      {
       "output_type": "stream",
       "stream": "stdout",
       "text": [
        "\n",
        "[-0.02982262  0.08187373  0.03008475 -0.02561983  0.03371608  0.04358777]"
       ]
      },
      {
       "output_type": "stream",
       "stream": "stdout",
       "text": [
        "\n",
        "[ 0.00793499  0.05341365  0.05766129 -0.04117647  0.07580645  0.04826718]"
       ]
      },
      {
       "output_type": "stream",
       "stream": "stdout",
       "text": [
        "\n",
        "[ 0.00390782  0.03007812  0.03217054 -0.03101761  0.08636364  0.04760446]"
       ]
      },
      {
       "output_type": "stream",
       "stream": "stdout",
       "text": [
        "\n",
        "[ 0.00208333  0.09779559  0.03992248 -0.0173428   0.04755601  0.04620557]"
       ]
      },
      {
       "output_type": "stream",
       "stream": "stdout",
       "text": [
        "\n",
        "[-0.00765408  0.0742268   0.08155738 -0.0712766   0.06499014  0.04860406]"
       ]
      },
      {
       "output_type": "stream",
       "stream": "stdout",
       "text": [
        "\n",
        "[-0.00967078  0.072       0.02850099 -0.004       0.06621622  0.04843845]"
       ]
      },
      {
       "output_type": "stream",
       "stream": "stdout",
       "text": [
        "\n",
        "[-0.0052381   0.05856574  0.08084479 -0.00060241  0.05641283  0.04735666]"
       ]
      },
      {
       "output_type": "stream",
       "stream": "stdout",
       "text": [
        "\n",
        "[-0.00098039  0.05828343  0.03463074 -0.02619048  0.06237113  0.0474584 ]"
       ]
      },
      {
       "output_type": "stream",
       "stream": "stdout",
       "text": [
        "\n",
        "[ 0.00546559  0.09049587  0.07727273  0.01820084  0.06941748  0.04692633]"
       ]
      },
      {
       "output_type": "stream",
       "stream": "stdout",
       "text": [
        "\n",
        "[ 0.00967742  0.06464646  0.07131148 -0.02768595  0.08541247  0.04746387]"
       ]
      },
      {
       "output_type": "stream",
       "stream": "stdout",
       "text": [
        "\n",
        "[-0.00102041  0.07398374  0.04375     0.01832061  0.07630561  0.04882587]"
       ]
      },
      {
       "output_type": "stream",
       "stream": "stdout",
       "text": [
        "\n",
        "[-0.0060166   0.08109162  0.09141414  0.01346154  0.11219512  0.04864833]"
       ]
      },
      {
       "output_type": "stream",
       "stream": "stdout",
       "text": [
        "\n",
        "[-0.00389222  0.07829615  0.06485944 -0.01600398  0.06327968  0.04801792]"
       ]
      },
      {
       "output_type": "stream",
       "stream": "stdout",
       "text": [
        "\n",
        "[-0.0002008   0.07726358  0.05363289 -0.037251    0.1         0.04766239]"
       ]
      },
      {
       "output_type": "stream",
       "stream": "stdout",
       "text": [
        "\n",
        "[ 0.01633663  0.094       0.07536688  0.00351563  0.05118343  0.04888334]"
       ]
      },
      {
       "output_type": "stream",
       "stream": "stdout",
       "text": [
        "\n",
        "[ 0.00472441  0.04030418  0.01462168 -0.00454545  0.07594142  0.04705935]"
       ]
      },
      {
       "output_type": "stream",
       "stream": "stdout",
       "text": [
        "\n",
        "[ 0.00081967  0.06227545  0.05517928  0.00542169  0.06843687  0.0482021 ]"
       ]
      },
      {
       "output_type": "stream",
       "stream": "stdout",
       "text": [
        "\n",
        "[ 0.01394687  0.09138577  0.07834646 -0.03190855  0.09637681  0.04577985]"
       ]
      },
      {
       "output_type": "stream",
       "stream": "stdout",
       "text": [
        "\n",
        "[-0.00821206  0.05132383  0.07008114  0.00908142  0.0622449   0.04887405]"
       ]
      },
      {
       "output_type": "stream",
       "stream": "stdout",
       "text": [
        "\n",
        "[ 0.00528455  0.0667992   0.05901639  0.00151515  0.08517382  0.04772476]"
       ]
      },
      {
       "output_type": "stream",
       "stream": "stdout",
       "text": [
        "\n",
        "Optimization terminated successfully.\n",
        "         Current function value: 0.009863\n",
        "         Iterations: 28\n",
        "         Function evaluations: 71\n",
        "[ 0.00149254  0.06353945  0.05143149  0.0097561   0.1019685   0.04908935]"
       ]
      },
      {
       "output_type": "stream",
       "stream": "stdout",
       "text": [
        "\n",
        "[-0.00411523 -0.01976285 -0.00882353 -0.20733753 -0.12890625 -0.02443913]"
       ]
      },
      {
       "output_type": "stream",
       "stream": "stdout",
       "text": [
        "\n",
        "[ 0.         -0.0101626   0.         -0.19802372 -0.10420945 -0.02603009]"
       ]
      },
      {
       "output_type": "stream",
       "stream": "stdout",
       "text": [
        "\n",
        "[ 0.         -0.00607287  0.03765432 -0.01440162 -0.00643564  0.00064161]"
       ]
      },
      {
       "output_type": "stream",
       "stream": "stdout",
       "text": [
        "\n",
        "[-0.01359223 -0.04356436 -0.04034908 -0.36666667 -0.20833333 -0.04034339]"
       ]
      },
      {
       "output_type": "stream",
       "stream": "stdout",
       "text": [
        "\n",
        "[-0.00383142 -0.02642276 -0.01498952 -0.24527559 -0.15234375 -0.0263702 ]"
       ]
      },
      {
       "output_type": "stream",
       "stream": "stdout",
       "text": [
        "\n",
        "[-0.00838574 -0.06827309 -0.11733068 -0.371875   -0.18951613 -0.03705607]"
       ]
      },
      {
       "output_type": "stream",
       "stream": "stdout",
       "text": [
        "\n",
        "[ 0.          0.          0.03390342 -0.05084034 -0.03297872 -0.00656236]"
       ]
      },
      {
       "output_type": "stream",
       "stream": "stdout",
       "text": [
        "\n",
        "[ 0.         -0.00567108  0.03765432  0.04698795  0.09151329  0.00447284]"
       ]
      },
      {
       "output_type": "stream",
       "stream": "stdout",
       "text": [
        "\n",
        "[ 0.          0.          0.04609375  0.09791667  0.09989648  0.00351262]"
       ]
      },
      {
       "output_type": "stream",
       "stream": "stdout",
       "text": [
        "\n",
        "[ 0.         -0.00207469  0.04799197  0.14231537  0.16584158  0.01236625]"
       ]
      },
      {
       "output_type": "stream",
       "stream": "stdout",
       "text": [
        "\n",
        "[ 0.          0.          0.05        0.20301724  0.30968689  0.02183728]"
       ]
      },
      {
       "output_type": "stream",
       "stream": "stdout",
       "text": [
        "\n",
        "[ 0.         -0.006       0.016      -0.03544304 -0.04471545 -0.00989884]"
       ]
      },
      {
       "output_type": "stream",
       "stream": "stdout",
       "text": [
        "\n",
        "[ 0.         -0.01181102 -0.00416667 -0.18632812 -0.1023622  -0.01854575]"
       ]
      },
      {
       "output_type": "stream",
       "stream": "stdout",
       "text": [
        "\n",
        "[ 0.         -0.00574713  0.02131148 -0.07029703 -0.02432712 -0.00929461]"
       ]
      },
      {
       "output_type": "stream",
       "stream": "stdout",
       "text": [
        "\n",
        "[ 0.         -0.00616016  0.0061753  -0.11142857 -0.07281059 -0.01315809]"
       ]
      },
      {
       "output_type": "stream",
       "stream": "stdout",
       "text": [
        "\n",
        "[ 0.         -0.00199203  0.02470817 -0.07246964 -0.03125    -0.01029611]"
       ]
      },
      {
       "output_type": "stream",
       "stream": "stdout",
       "text": [
        "\n",
        "[-0.00203666 -0.00390625  0.         -0.18780488 -0.13142292 -0.0198364 ]"
       ]
      },
      {
       "output_type": "stream",
       "stream": "stdout",
       "text": [
        "\n",
        "[ 0.         -0.0020284   0.03089172 -0.01379962 -0.00959596 -0.0004547 ]"
       ]
      },
      {
       "output_type": "stream",
       "stream": "stdout",
       "text": [
        "\n",
        "[ 0.         -0.0019685   0.0416318  -0.00813953  0.         -0.00354302]"
       ]
      },
      {
       "output_type": "stream",
       "stream": "stdout",
       "text": [
        "\n",
        "[ 0.         -0.0039604   0.02373737  0.03875803  0.03080808 -0.00011694]"
       ]
      },
      {
       "output_type": "stream",
       "stream": "stdout",
       "text": [
        "\n",
        "[ 0.         -0.00566038  0.02864078  0.00672098  0.02142857  0.00404383]"
       ]
      },
      {
       "output_type": "stream",
       "stream": "stdout",
       "text": [
        "\n",
        "[ 0.         -0.00195312  0.038       0.006       0.13821138  0.00907783]"
       ]
      },
      {
       "output_type": "stream",
       "stream": "stdout",
       "text": [
        "\n",
        "[ 0.         -0.00621118  0.01806387 -0.04225621 -0.00337187 -0.00415828]"
       ]
      },
      {
       "output_type": "stream",
       "stream": "stdout",
       "text": [
        "\n",
        "[ 0.         -0.00195695  0.01098563 -0.09837398  0.01526718 -0.00307356]"
       ]
      },
      {
       "output_type": "stream",
       "stream": "stdout",
       "text": [
        "\n",
        "[ 0.         -0.00382409  0.02745902  0.0281746   0.01865672  0.00096546]"
       ]
      },
      {
       "output_type": "stream",
       "stream": "stdout",
       "text": [
        "\n",
        "[ 0.         -0.00843882  0.0421875  -0.01364562  0.00825243  0.00480315]"
       ]
      },
      {
       "output_type": "stream",
       "stream": "stdout",
       "text": [
        "\n",
        "[ 0.         -0.00573614  0.03370672 -0.02        0.06368421  0.00269484]"
       ]
      },
      {
       "output_type": "stream",
       "stream": "stdout",
       "text": [
        "\n",
        "[ 0.          0.          0.03513011  0.03603083  0.04253112  0.00150961]"
       ]
      },
      {
       "output_type": "stream",
       "stream": "stdout",
       "text": [
        "\n",
        "[  0.00000000e+00  -8.16326531e-03   3.21428571e-02  -4.91735537e-02\n",
        "   1.09561753e-02  -7.57240236e-05]"
       ]
      },
      {
       "output_type": "stream",
       "stream": "stdout",
       "text": [
        "\n",
        "[ 0.         -0.00196078  0.0278672   0.00393375  0.024      -0.0001921 ]"
       ]
      },
      {
       "output_type": "stream",
       "stream": "stdout",
       "text": [
        "\n",
        "[ 0.         -0.0038835   0.03128898 -0.00128205  0.03629857  0.00090837]"
       ]
      },
      {
       "output_type": "stream",
       "stream": "stdout",
       "text": [
        "\n",
        "[-0.00210084 -0.0040404   0.01565657 -0.00544747  0.01556017 -0.00267302]"
       ]
      },
      {
       "output_type": "stream",
       "stream": "stdout",
       "text": [
        "\n",
        "[ 0.         -0.00398406  0.02005988  0.02107438  0.00050505 -0.00282714]"
       ]
      },
      {
       "output_type": "stream",
       "stream": "stdout",
       "text": [
        "\n",
        "[ 0.         -0.00206186  0.03422091  0.00541082  0.00357873 -0.0038499 ]"
       ]
      },
      {
       "output_type": "stream",
       "stream": "stdout",
       "text": [
        "\n",
        "[ 0.         -0.00196464  0.02864078 -0.012749    0.01550388 -0.00321663]"
       ]
      },
      {
       "output_type": "stream",
       "stream": "stdout",
       "text": [
        "\n",
        "[-0.00204082  0.          0.03185484 -0.0127572   0.00858586 -0.00619952]"
       ]
      },
      {
       "output_type": "stream",
       "stream": "stdout",
       "text": [
        "\n",
        "[ 0.         -0.0040404   0.03611111 -0.00894309  0.002      -0.00441702]"
       ]
      },
      {
       "output_type": "stream",
       "stream": "stdout",
       "text": [
        "\n",
        "[-0.00200401 -0.00195312  0.03802395 -0.01677019  0.0004931  -0.00339456]"
       ]
      },
      {
       "output_type": "stream",
       "stream": "stdout",
       "text": [
        "\n",
        "[ 0.         -0.00203252  0.03279159 -0.01178707  0.03571429 -0.00343259]"
       ]
      },
      {
       "output_type": "stream",
       "stream": "stdout",
       "text": [
        "\n",
        "[ 0.         -0.00401606  0.02698745 -0.01439394  0.00147348 -0.00427615]"
       ]
      },
      {
       "output_type": "stream",
       "stream": "stdout",
       "text": [
        "\n",
        "[-0.004      -0.00396825  0.03736842  0.02688172 -0.01587302 -0.00076125]"
       ]
      },
      {
       "output_type": "stream",
       "stream": "stdout",
       "text": [
        "\n",
        "[ 0.         -0.00389864  0.02669903 -0.04387352 -0.01482618 -0.00271368]"
       ]
      },
      {
       "output_type": "stream",
       "stream": "stdout",
       "text": [
        "\n",
        "[ 0.         -0.00387597  0.03054475  0.00264766  0.03823529 -0.00497262]"
       ]
      },
      {
       "output_type": "stream",
       "stream": "stdout",
       "text": [
        "\n",
        "[ 0.         -0.00430108  0.04390244 -0.02432432  0.0019084  -0.00212515]"
       ]
      },
      {
       "output_type": "stream",
       "stream": "stdout",
       "text": [
        "\n",
        "[-0.00207039 -0.00203666  0.02435897 -0.02806324 -0.02647059 -0.00368655]"
       ]
      },
      {
       "output_type": "stream",
       "stream": "stdout",
       "text": [
        "\n",
        "[ 0.          0.          0.03353909  0.01539961  0.03265107 -0.00296326]"
       ]
      },
      {
       "output_type": "stream",
       "stream": "stdout",
       "text": [
        "\n",
        "[ 0.          0.          0.03638132 -0.01411531  0.01744186 -0.00278358]"
       ]
      },
      {
       "output_type": "stream",
       "stream": "stdout",
       "text": [
        "\n",
        "[ 0.         -0.00197628  0.03734177 -0.03606557  0.01708075 -0.0025169 ]"
       ]
      },
      {
       "output_type": "stream",
       "stream": "stdout",
       "text": [
        "\n",
        "[-0.00200803 -0.00187266  0.02194389 -0.0161157  -0.00706215 -0.00098611]"
       ]
      },
      {
       "output_type": "stream",
       "stream": "stdout",
       "text": [
        "\n",
        "[ 0.         -0.00206612  0.02420635 -0.01313131  0.03030303 -0.00395671]"
       ]
      },
      {
       "output_type": "stream",
       "stream": "stdout",
       "text": [
        "\n",
        "[-0.00203666 -0.0019802   0.03428291  0.0049505   0.0112782  -0.00296914]"
       ]
      },
      {
       "output_type": "stream",
       "stream": "stdout",
       "text": [
        "\n",
        "[-0.002079   -0.00209205  0.02764228  0.00315789  0.00050505 -0.00423737]"
       ]
      },
      {
       "output_type": "stream",
       "stream": "stdout",
       "text": [
        "\n",
        "Optimization terminated successfully.\n",
        "         Current function value: 0.000545\n",
        "         Iterations: 26\n",
        "         Function evaluations: 52\n",
        "[-0.0020202  -0.01010101  0.02750511 -0.04824903  0.0276699  -0.0021769 ]"
       ]
      },
      {
       "output_type": "stream",
       "stream": "stdout",
       "text": [
        "\n",
        "[-0.00811359 -0.00796813  0.02996109  0.41181102  0.08695652  0.03251971]"
       ]
      },
      {
       "output_type": "stream",
       "stream": "stdout",
       "text": [
        "\n",
        "[-0.00195312 -0.00779727  0.03333333  0.42191235  0.10663984  0.03394152]"
       ]
      },
      {
       "output_type": "stream",
       "stream": "stdout",
       "text": [
        "\n",
        "[ 0.         -0.00594059  0.0795082   0.54528302  0.26229508  0.05898109]"
       ]
      },
      {
       "output_type": "stream",
       "stream": "stdout",
       "text": [
        "\n",
        "[-0.00808081 -0.02141328  0.00160643  0.26862745  0.06157113  0.01873502]"
       ]
      },
      {
       "output_type": "stream",
       "stream": "stdout",
       "text": [
        "\n",
        "[-0.00199203 -0.02226721  0.01295938  0.33983402  0.10950413  0.03233448]"
       ]
      },
      {
       "output_type": "stream",
       "stream": "stdout",
       "text": [
        "\n",
        "[-0.00632911 -0.04500978 -0.09635628  0.19126214  0.0703125   0.02095044]"
       ]
      },
      {
       "output_type": "stream",
       "stream": "stdout",
       "text": [
        "\n",
        "[-0.00585938 -0.06813627 -0.15147348  0.08711019  0.03612167 -0.00963243]"
       ]
      },
      {
       "output_type": "stream",
       "stream": "stdout",
       "text": [
        "\n",
        "[-0.03898635 -0.15968064 -0.41785714 -0.02543021  0.00965251 -0.04789369]"
       ]
      },
      {
       "output_type": "stream",
       "stream": "stdout",
       "text": [
        "\n",
        "[-0.01479915 -0.0814664  -0.14796748  0.09879518  0.02240326  0.0056412 ]"
       ]
      },
      {
       "output_type": "stream",
       "stream": "stdout",
       "text": [
        "\n",
        "[-0.02114165 -0.0729783  -0.19032258  0.11442495  0.02822581 -0.00478531]"
       ]
      },
      {
       "output_type": "stream",
       "stream": "stdout",
       "text": [
        "\n",
        "[-0.04970179 -0.17137097 -0.36317829  0.02774451  0.0039604  -0.01999328]"
       ]
      },
      {
       "output_type": "stream",
       "stream": "stdout",
       "text": [
        "\n",
        "[ 0.         -0.02564103 -0.0453831   0.24257426  0.06349206  0.01907958]"
       ]
      },
      {
       "output_type": "stream",
       "stream": "stdout",
       "text": [
        "\n",
        "[-0.0256917  -0.11614173 -0.26122449  0.06129032  0.01639344 -0.00876381]"
       ]
      },
      {
       "output_type": "stream",
       "stream": "stdout",
       "text": [
        "\n",
        "[-0.00617284 -0.03663004 -0.06141732  0.19645094  0.04989605  0.01563217]"
       ]
      },
      {
       "output_type": "stream",
       "stream": "stdout",
       "text": [
        "\n",
        "[-0.02376238 -0.10323887 -0.22264529  0.06015625  0.01361868 -0.01022882]"
       ]
      },
      {
       "output_type": "stream",
       "stream": "stdout",
       "text": [
        "\n",
        "[-0.01405622 -0.07858546 -0.1575188   0.08609407  0.01461378 -0.00242894]"
       ]
      },
      {
       "output_type": "stream",
       "stream": "stdout",
       "text": [
        "\n",
        "[-0.00414938 -0.03952569 -0.07269076  0.24339623  0.06613226  0.0164984 ]"
       ]
      },
      {
       "output_type": "stream",
       "stream": "stdout",
       "text": [
        "\n",
        "[-0.01169591 -0.09839357 -0.17858628  0.09183673  0.02469136 -0.00138371]"
       ]
      },
      {
       "output_type": "stream",
       "stream": "stdout",
       "text": [
        "\n",
        "[-0.02610442 -0.075      -0.21944444  0.04198783  0.01237113 -0.01904047]"
       ]
      },
      {
       "output_type": "stream",
       "stream": "stdout",
       "text": [
        "\n",
        "[-0.00206186 -0.05219207 -0.06935484  0.178       0.05148515  0.010882  ]"
       ]
      },
      {
       "output_type": "stream",
       "stream": "stdout",
       "text": [
        "\n",
        "[-0.00980392 -0.04022989 -0.06525424  0.15        0.03413655  0.00837589]"
       ]
      },
      {
       "output_type": "stream",
       "stream": "stdout",
       "text": [
        "\n",
        "[-0.004      -0.04320988 -0.05650407  0.19067245  0.05108055  0.01235388]"
       ]
      },
      {
       "output_type": "stream",
       "stream": "stdout",
       "text": [
        "\n",
        "[-0.01890756 -0.08488613 -0.24285714  0.06666667  0.01515152 -0.00868388]"
       ]
      },
      {
       "output_type": "stream",
       "stream": "stdout",
       "text": [
        "\n",
        "[-0.00393701 -0.04809619 -0.09472617  0.13274162  0.03991597  0.01006384]"
       ]
      },
      {
       "output_type": "stream",
       "stream": "stdout",
       "text": [
        "\n",
        "[-0.01402806 -0.07156673 -0.18767123  0.10083682  0.00582524 -0.00786976]"
       ]
      },
      {
       "output_type": "stream",
       "stream": "stdout",
       "text": [
        "\n",
        "[-0.00204499 -0.07028112 -0.15609756  0.14550898  0.03592814  0.00662972]"
       ]
      },
      {
       "output_type": "stream",
       "stream": "stdout",
       "text": [
        "\n",
        "[-0.01992032 -0.05325444 -0.07716535  0.14173554  0.04206501  0.00808318]"
       ]
      },
      {
       "output_type": "stream",
       "stream": "stdout",
       "text": [
        "\n",
        "[-0.01782178 -0.05040323 -0.09767442  0.14583333  0.01972387 -0.00124447]"
       ]
      },
      {
       "output_type": "stream",
       "stream": "stdout",
       "text": [
        "\n",
        "[-0.00976562 -0.05761317 -0.11153846  0.12222222  0.01422764  0.00307857]"
       ]
      },
      {
       "output_type": "stream",
       "stream": "stdout",
       "text": [
        "\n",
        "[-0.01980198 -0.05944798 -0.11062992  0.102       0.03366337  0.0070386 ]"
       ]
      },
      {
       "output_type": "stream",
       "stream": "stdout",
       "text": [
        "\n",
        "[-0.00623701 -0.05821206 -0.10907298  0.1257384   0.05914972  0.00978275]"
       ]
      },
      {
       "output_type": "stream",
       "stream": "stdout",
       "text": [
        "\n",
        "[-0.00806452 -0.05263158 -0.10212766  0.1238193   0.03807615  0.00058643]"
       ]
      },
      {
       "output_type": "stream",
       "stream": "stdout",
       "text": [
        "\n",
        "[-0.00842105 -0.05252101 -0.14950884  0.18483607  0.03807615  0.01054134]"
       ]
      },
      {
       "output_type": "stream",
       "stream": "stdout",
       "text": [
        "\n",
        "[-0.0134357  -0.07101727 -0.10292887  0.15198413  0.0203252   0.00220456]"
       ]
      },
      {
       "output_type": "stream",
       "stream": "stdout",
       "text": [
        "\n",
        "[-0.01197605 -0.05719921 -0.09919517  0.17178423  0.04477612  0.00832374]"
       ]
      },
      {
       "output_type": "stream",
       "stream": "stdout",
       "text": [
        "\n",
        "[-0.01158301 -0.06024096 -0.14186992  0.14654832  0.03339882  0.00333604]"
       ]
      },
      {
       "output_type": "stream",
       "stream": "stdout",
       "text": [
        "\n",
        "[-0.00790514 -0.05964215 -0.13495146  0.14042553  0.03292181  0.00431025]"
       ]
      },
      {
       "output_type": "stream",
       "stream": "stdout",
       "text": [
        "\n",
        "[-0.00829876 -0.05222437 -0.08145161  0.1407045   0.02970297  0.00508958]"
       ]
      },
      {
       "output_type": "stream",
       "stream": "stdout",
       "text": [
        "\n",
        "[-0.01185771 -0.05357143 -0.09253438  0.14505929  0.0408998   0.003069  ]"
       ]
      },
      {
       "output_type": "stream",
       "stream": "stdout",
       "text": [
        "\n",
        "[-0.00986193 -0.04631579 -0.09085487  0.14089069  0.03822938  0.00642761]"
       ]
      },
      {
       "output_type": "stream",
       "stream": "stdout",
       "text": [
        "\n",
        "[-0.00992063 -0.06403013 -0.15360825  0.12803347  0.03333333  0.00586226]"
       ]
      },
      {
       "output_type": "stream",
       "stream": "stdout",
       "text": [
        "\n",
        "[-0.01202405 -0.05327869 -0.11526419  0.17157895  0.03831418  0.00608118]"
       ]
      },
      {
       "output_type": "stream",
       "stream": "stdout",
       "text": [
        "\n",
        "[-0.00766284 -0.05533597 -0.0996124   0.13678647  0.03747535  0.00510635]"
       ]
      },
      {
       "output_type": "stream",
       "stream": "stdout",
       "text": [
        "\n",
        "[-0.01008065 -0.05992509 -0.10523139  0.17459016  0.03307393  0.0079681 ]"
       ]
      },
      {
       "output_type": "stream",
       "stream": "stdout",
       "text": [
        "\n",
        "[-0.00775194 -0.0661157  -0.08076923  0.12718447  0.02480916  0.0055967 ]"
       ]
      },
      {
       "output_type": "stream",
       "stream": "stdout",
       "text": [
        "\n",
        "[-0.01425662 -0.06722689 -0.09885277  0.13684211  0.03476483  0.00461877]"
       ]
      },
      {
       "output_type": "stream",
       "stream": "stdout",
       "text": [
        "\n",
        "[-0.00588235 -0.04938272 -0.0984127   0.16572008  0.042       0.00623254]"
       ]
      },
      {
       "output_type": "stream",
       "stream": "stdout",
       "text": [
        "\n",
        "Optimization terminated successfully.\n",
        "         Current function value: 0.027752\n",
        "         Iterations: 16\n",
        "         Function evaluations: 47\n",
        "[-0.00803213 -0.04518664 -0.11626984  0.134375    0.04637097  0.0082233 ]"
       ]
      },
      {
       "output_type": "stream",
       "stream": "stdout",
       "text": [
        "\n",
        "[-0.00408998 -0.01577909 -0.068      -0.36496063  0.06934156 -0.02146437]"
       ]
      },
      {
       "output_type": "stream",
       "stream": "stdout",
       "text": [
        "\n",
        "[-0.00408163 -0.01059322 -0.04243542 -0.25492662  0.07851406 -0.02270924]"
       ]
      },
      {
       "output_type": "stream",
       "stream": "stdout",
       "text": [
        "\n",
        "[-0.00422833 -0.01226994 -0.01609658 -0.15789474  0.16218075  0.00533041]"
       ]
      },
      {
       "output_type": "stream",
       "stream": "stdout",
       "text": [
        "\n",
        "[-0.00203666 -0.01449275 -0.11324786 -0.45839695  0.00587669 -0.03579589]"
       ]
      },
      {
       "output_type": "stream",
       "stream": "stdout",
       "text": [
        "\n",
        "[ 0.         -0.01616162 -0.07587549 -0.34352442  0.07040816 -0.02289216]"
       ]
      },
      {
       "output_type": "stream",
       "stream": "stdout",
       "text": [
        "\n",
        "[-0.00404858 -0.03413655 -0.16760829 -0.47948718  0.01947368 -0.03296997]"
       ]
      },
      {
       "output_type": "stream",
       "stream": "stdout",
       "text": [
        "\n",
        "[-0.0019685  -0.00373832 -0.0210084  -0.12093933  0.17504892 -0.00286832]"
       ]
      },
      {
       "output_type": "stream",
       "stream": "stdout",
       "text": [
        "\n",
        "[ 0.          0.         -0.00580271  0.01225296  0.31363636  0.00730101]"
       ]
      },
      {
       "output_type": "stream",
       "stream": "stdout",
       "text": [
        "\n",
        "[ 0.         -0.00209644 -0.01207243 -0.06336634  0.31127745  0.00705502]"
       ]
      },
      {
       "output_type": "stream",
       "stream": "stdout",
       "text": [
        "\n",
        "[ 0.          0.         -0.01174168 -0.06834382  0.27515337  0.0071631 ]"
       ]
      },
      {
       "output_type": "stream",
       "stream": "stdout",
       "text": [
        "\n",
        "[ 0.          0.         -0.00392927  0.04745763  0.38333333  0.01653628]"
       ]
      },
      {
       "output_type": "stream",
       "stream": "stdout",
       "text": [
        "\n",
        "[ 0.         -0.00579151 -0.03448276 -0.25454545  0.11907216 -0.01224692]"
       ]
      },
      {
       "output_type": "stream",
       "stream": "stdout",
       "text": [
        "\n",
        "[ 0.         -0.01446281 -0.04665314 -0.2989605   0.04657948 -0.01851102]"
       ]
      },
      {
       "output_type": "stream",
       "stream": "stdout",
       "text": [
        "\n",
        "[ 0.         -0.00967118 -0.03797468 -0.23403442  0.1371345  -0.01173818]"
       ]
      },
      {
       "output_type": "stream",
       "stream": "stdout",
       "text": [
        "\n",
        "[-0.00191205 -0.01335878 -0.07276507 -0.34361055  0.05093458 -0.0230353 ]"
       ]
      },
      {
       "output_type": "stream",
       "stream": "stdout",
       "text": [
        "\n",
        "[  0.00000000e+00  -2.03665988e-03  -1.81451613e-02  -9.69696970e-02\n",
        "   1.98971193e-01  -2.11537476e-05]"
       ]
      },
      {
       "output_type": "stream",
       "stream": "stdout",
       "text": [
        "\n",
        "[ 0.         -0.002      -0.02514507 -0.07380952  0.166      -0.00209851]"
       ]
      },
      {
       "output_type": "stream",
       "stream": "stdout",
       "text": [
        "\n",
        "[ 0.         -0.00393701 -0.00996016 -0.0481203   0.20602968  0.00314699]"
       ]
      },
      {
       "output_type": "stream",
       "stream": "stdout",
       "text": [
        "\n",
        "[ 0.         -0.004158   -0.028      -0.09622266  0.21652893  0.00210658]"
       ]
      },
      {
       "output_type": "stream",
       "stream": "stdout",
       "text": [
        "\n",
        "[ 0.          0.         -0.00840336 -0.02417154  0.3182243   0.01931653]"
       ]
      },
      {
       "output_type": "stream",
       "stream": "stdout",
       "text": [
        "\n",
        "[ 0.         -0.00203666 -0.03191489 -0.19451477  0.13503937 -0.00998424]"
       ]
      },
      {
       "output_type": "stream",
       "stream": "stdout",
       "text": [
        "\n",
        "[ 0.          0.         -0.0078125  -0.04285714  0.25443548  0.00986623]"
       ]
      },
      {
       "output_type": "stream",
       "stream": "stdout",
       "text": [
        "\n",
        "[ 0.         -0.00792079 -0.01796407 -0.1512476   0.1459596  -0.00484299]"
       ]
      },
      {
       "output_type": "stream",
       "stream": "stdout",
       "text": [
        "\n",
        "[ 0.         -0.00591716 -0.03958333 -0.22085661  0.12333333 -0.00597093]"
       ]
      },
      {
       "output_type": "stream",
       "stream": "stdout",
       "text": [
        "\n",
        "[ 0.          0.         -0.01782178 -0.09959514  0.1994929  -0.00077663]"
       ]
      },
      {
       "output_type": "stream",
       "stream": "stdout",
       "text": [
        "\n",
        "[ 0.         -0.0019685  -0.00990099 -0.11313131  0.21730769 -0.01051675]"
       ]
      },
      {
       "output_type": "stream",
       "stream": "stdout",
       "text": [
        "\n",
        "[ 0.         -0.00591716 -0.01584158 -0.13935743  0.22326733  0.00234421]"
       ]
      },
      {
       "output_type": "stream",
       "stream": "stdout",
       "text": [
        "\n",
        "[-0.00195695 -0.00408998 -0.01980198 -0.12369942  0.14502075 -0.00204228]"
       ]
      },
      {
       "output_type": "stream",
       "stream": "stdout",
       "text": [
        "\n",
        "[ 0.         -0.01104972 -0.01754386 -0.12914046  0.18684211 -0.00353623]"
       ]
      },
      {
       "output_type": "stream",
       "stream": "stdout",
       "text": [
        "\n",
        "[ 0.          0.         -0.01568627 -0.11060606  0.22095517 -0.00145967]"
       ]
      },
      {
       "output_type": "stream",
       "stream": "stdout",
       "text": [
        "\n",
        "[ 0.          0.         -0.00988142 -0.10417495  0.19848485  0.00042203]"
       ]
      },
      {
       "output_type": "stream",
       "stream": "stdout",
       "text": [
        "\n",
        "[ 0.         -0.0101833  -0.01984127 -0.12270916  0.16135029  0.00215812]"
       ]
      },
      {
       "output_type": "stream",
       "stream": "stdout",
       "text": [
        "\n",
        "[ 0.         -0.00382409 -0.00409836 -0.15123967  0.15952381 -0.00121831]"
       ]
      },
      {
       "output_type": "stream",
       "stream": "stdout",
       "text": [
        "\n",
        "[ -2.02020202e-03  -1.99600798e-03  -3.01204819e-02  -1.68209256e-01\n",
        "   2.06916996e-01  -1.82267026e-04]"
       ]
      },
      {
       "output_type": "stream",
       "stream": "stdout",
       "text": [
        "\n",
        "[ 0.         -0.00190114 -0.02244898 -0.12365145  0.2        -0.00350966]"
       ]
      },
      {
       "output_type": "stream",
       "stream": "stdout",
       "text": [
        "\n",
        "[-0.00189394  0.         -0.01659751 -0.12040816  0.15952381 -0.00232471]"
       ]
      },
      {
       "output_type": "stream",
       "stream": "stdout",
       "text": [
        "\n",
        "[ 0.          0.         -0.02669405 -0.10550285  0.1719917   0.00097909]"
       ]
      },
      {
       "output_type": "stream",
       "stream": "stdout",
       "text": [
        "\n",
        "[ 0.         -0.00375235 -0.02169625 -0.12734531  0.1750996  -0.00023109]"
       ]
      },
      {
       "output_type": "stream",
       "stream": "stdout",
       "text": [
        "\n",
        "[ 0.         -0.00383142 -0.00835073 -0.13261803  0.2111336  -0.00113963]"
       ]
      },
      {
       "output_type": "stream",
       "stream": "stdout",
       "text": [
        "\n",
        "[ 0.         -0.00202429 -0.00607287 -0.13264887  0.174      -0.00279176]"
       ]
      },
      {
       "output_type": "stream",
       "stream": "stdout",
       "text": [
        "\n",
        "Optimization terminated successfully.\n",
        "         Current function value: 0.033645\n",
        "         Iterations: 15\n",
        "         Function evaluations: 40\n",
        "[ 0.         -0.00191205 -0.00583658 -0.11620553  0.17132797 -0.00193948]"
       ]
      },
      {
       "output_type": "stream",
       "stream": "stdout",
       "text": [
        "\n",
        "[-0.00397614 -0.01219512 -0.01916996 -0.02882704  0.07926829 -0.00838285]"
       ]
      },
      {
       "output_type": "stream",
       "stream": "stdout",
       "text": [
        "\n",
        "[ 0.         -0.01014199 -0.01079665  0.03280318  0.12825279 -0.00956923]"
       ]
      },
      {
       "output_type": "stream",
       "stream": "stdout",
       "text": [
        "\n",
        "[ 0.          0.         -0.00492424  0.15225933  0.25053079  0.01690234]"
       ]
      },
      {
       "output_type": "stream",
       "stream": "stdout",
       "text": [
        "\n",
        "[-0.00201613 -0.0203666  -0.08967611 -0.11322645  0.04225352 -0.02531093]"
       ]
      },
      {
       "output_type": "stream",
       "stream": "stdout",
       "text": [
        "\n",
        "[-0.00208768 -0.01810865 -0.00394191 -0.02083333  0.09561753 -0.01038158]"
       ]
      },
      {
       "output_type": "stream",
       "stream": "stdout",
       "text": [
        "\n",
        "[-0.00982318 -0.06078431 -0.14038462 -0.20905172  0.04761905 -0.02195433]"
       ]
      },
      {
       "output_type": "stream",
       "stream": "stdout",
       "text": [
        "\n",
        "[-0.00770713 -0.05679513 -0.20098814 -0.26891616  0.02579365 -0.05101309]"
       ]
      },
      {
       "output_type": "stream",
       "stream": "stdout",
       "text": [
        "\n",
        "[ 0.         -0.00411523 -0.01185567  0.04653465  0.14503817  0.00302263]"
       ]
      },
      {
       "output_type": "stream",
       "stream": "stdout",
       "text": [
        "\n",
        "[ 0.         -0.00409836  0.02473684  0.13414634  0.19477912  0.0002592 ]"
       ]
      },
      {
       "output_type": "stream",
       "stream": "stdout",
       "text": [
        "\n",
        "[ 0.          0.          0.00670103  0.01866405  0.14717742 -0.00420537]"
       ]
      },
      {
       "output_type": "stream",
       "stream": "stdout",
       "text": [
        "\n",
        "[ 0.         -0.00967118  0.02609562  0.20981211  0.28247423  0.01121334]"
       ]
      },
      {
       "output_type": "stream",
       "stream": "stdout",
       "text": [
        "\n",
        "[-0.00609756 -0.01340996 -0.05982659 -0.0851272   0.07337526 -0.01273101]"
       ]
      },
      {
       "output_type": "stream",
       "stream": "stdout",
       "text": [
        "\n",
        "[ 0.         -0.01149425 -0.03595388 -0.11220472  0.10750507 -0.02030536]"
       ]
      },
      {
       "output_type": "stream",
       "stream": "stdout",
       "text": [
        "\n",
        "[-0.00406504 -0.0040568  -0.01457926  0.03767821  0.15246637 -0.00295458]"
       ]
      },
      {
       "output_type": "stream",
       "stream": "stdout",
       "text": [
        "\n",
        "[-0.00208768 -0.01333333 -0.01849315 -0.06213018  0.11608961 -0.01005101]"
       ]
      },
      {
       "output_type": "stream",
       "stream": "stdout",
       "text": [
        "\n",
        "[ 0.         -0.01202405 -0.02786885 -0.09281437  0.08433735 -0.01008529]"
       ]
      },
      {
       "output_type": "stream",
       "stream": "stdout",
       "text": [
        "\n",
        "[ 0.         -0.01167315 -0.012249    0.01323829  0.14256198 -0.00936206]"
       ]
      },
      {
       "output_type": "stream",
       "stream": "stdout",
       "text": [
        "\n",
        "[ 0.         -0.00607287  0.00783133  0.00203252  0.10843373 -0.00531608]"
       ]
      },
      {
       "output_type": "stream",
       "stream": "stdout",
       "text": [
        "\n",
        "[-0.00207039 -0.016      -0.01601942  0.02361396  0.13060429 -0.0028043 ]"
       ]
      },
      {
       "output_type": "stream",
       "stream": "stdout",
       "text": [
        "\n",
        "[ 0.         -0.00775194 -0.03704062 -0.03346856  0.10282258 -0.0064062 ]"
       ]
      },
      {
       "output_type": "stream",
       "stream": "stdout",
       "text": [
        "\n",
        "[-0.00398406 -0.02131783 -0.02569721 -0.07480315  0.07184466 -0.01346769]"
       ]
      },
      {
       "output_type": "stream",
       "stream": "stdout",
       "text": [
        "\n",
        "[ 0.         -0.01145038 -0.00544148 -0.00718686  0.08514851 -0.01189966]"
       ]
      },
      {
       "output_type": "stream",
       "stream": "stdout",
       "text": [
        "\n",
        "[ 0.         -0.01171875 -0.01666667 -0.04601227  0.10973085 -0.0104704 ]"
       ]
      },
      {
       "output_type": "stream",
       "stream": "stdout",
       "text": [
        "\n",
        "[ 0.         -0.01688555 -0.01570842 -0.03267327  0.11494253 -0.00829302]"
       ]
      },
      {
       "output_type": "stream",
       "stream": "stdout",
       "text": [
        "\n",
        "[-0.00195695 -0.01361868 -0.0013347  -0.01703407  0.13709677 -0.00780127]"
       ]
      },
      {
       "output_type": "stream",
       "stream": "stdout",
       "text": [
        "\n",
        "[-0.00201207 -0.01596806 -0.02692308 -0.036862    0.12698413 -0.00799438]"
       ]
      },
      {
       "output_type": "stream",
       "stream": "stdout",
       "text": [
        "\n",
        "[ 0.         -0.01606426 -0.01126482  0.02694611  0.12144213 -0.0074131 ]"
       ]
      },
      {
       "output_type": "stream",
       "stream": "stdout",
       "text": [
        "\n",
        "[-0.00204499 -0.01495327 -0.0451417  -0.03992395  0.10891089 -0.01089629]"
       ]
      },
      {
       "output_type": "stream",
       "stream": "stdout",
       "text": [
        "\n",
        "[ 0.         -0.02070393 -0.03368201 -0.06170213  0.11983471 -0.00815435]"
       ]
      },
      {
       "output_type": "stream",
       "stream": "stdout",
       "text": [
        "\n",
        "[-0.00411523 -0.01431493 -0.0011811   0.00595238  0.12738854 -0.01033543]"
       ]
      },
      {
       "output_type": "stream",
       "stream": "stdout",
       "text": [
        "\n",
        "[-0.00578035 -0.00632911  0.00151515 -0.02371917  0.10997963 -0.00982607]"
       ]
      },
      {
       "output_type": "stream",
       "stream": "stdout",
       "text": [
        "\n",
        "[-0.00399202 -0.01151631 -0.02243461 -0.02208835  0.09780439 -0.0111829 ]"
       ]
      },
      {
       "output_type": "stream",
       "stream": "stdout",
       "text": [
        "\n",
        "[ 0.         -0.01603206 -0.0183112  -0.03228963  0.1074856  -0.00918353]"
       ]
      },
      {
       "output_type": "stream",
       "stream": "stdout",
       "text": [
        "\n",
        "[-0.00206612 -0.0204499  -0.01092437 -0.04990215  0.09979633 -0.01335132]"
       ]
      },
      {
       "output_type": "stream",
       "stream": "stdout",
       "text": [
        "\n",
        "[-0.002079   -0.00970874 -0.0266129  -0.03941909  0.11627907 -0.01021379]"
       ]
      },
      {
       "output_type": "stream",
       "stream": "stdout",
       "text": [
        "\n",
        "[-0.0019084  -0.01397206 -0.03379888 -0.05232558  0.10465116 -0.01148988]"
       ]
      },
      {
       "output_type": "stream",
       "stream": "stdout",
       "text": [
        "\n",
        "[-0.00410678 -0.00817996 -0.00633803 -0.04898336  0.10810811 -0.01137455]"
       ]
      },
      {
       "output_type": "stream",
       "stream": "stdout",
       "text": [
        "\n",
        "[-0.0040404  -0.01626016 -0.01573705 -0.04489796  0.09596929 -0.01033141]"
       ]
      },
      {
       "output_type": "stream",
       "stream": "stdout",
       "text": [
        "\n",
        "[ 0.         -0.01372549 -0.05162602 -0.08517034  0.09765625 -0.01298329]"
       ]
      },
      {
       "output_type": "stream",
       "stream": "stdout",
       "text": [
        "\n",
        "[-0.00195695 -0.0141129  -0.01457926 -0.03535354  0.10079051 -0.00975523]"
       ]
      },
      {
       "output_type": "stream",
       "stream": "stdout",
       "text": [
        "\n",
        "[-0.00392927 -0.01369863 -0.00870841 -0.01568627  0.1        -0.00689899]"
       ]
      },
      {
       "output_type": "stream",
       "stream": "stdout",
       "text": [
        "\n",
        "[ 0.         -0.01295896 -0.02061069 -0.03319058  0.12224449 -0.0097271 ]"
       ]
      },
      {
       "output_type": "stream",
       "stream": "stdout",
       "text": [
        "\n",
        "[-0.00420168 -0.01209677 -0.00780347 -0.06415479  0.09393346 -0.00972923]"
       ]
      },
      {
       "output_type": "stream",
       "stream": "stdout",
       "text": [
        "\n",
        "[-0.00389864 -0.01192843 -0.01720978 -0.02929688  0.14717742 -0.00762348]"
       ]
      },
      {
       "output_type": "stream",
       "stream": "stdout",
       "text": [
        "\n",
        "[-0.00198807 -0.01039501 -0.01949807 -0.03424658  0.12062257 -0.01096954]"
       ]
      },
      {
       "output_type": "stream",
       "stream": "stdout",
       "text": [
        "\n",
        "[ 0.         -0.01443299 -0.025      -0.0513834   0.10021786 -0.01005048]"
       ]
      },
      {
       "output_type": "stream",
       "stream": "stdout",
       "text": [
        "\n",
        "[ 0.         -0.01219512 -0.01095238 -0.03829787  0.118      -0.0107326 ]"
       ]
      },
      {
       "output_type": "stream",
       "stream": "stdout",
       "text": [
        "\n",
        "[ 0.         -0.00965251 -0.03438819 -0.03235908  0.10179641 -0.01035816]"
       ]
      },
      {
       "output_type": "stream",
       "stream": "stdout",
       "text": [
        "\n",
        "Optimization terminated successfully.\n",
        "         Current function value: 0.007604\n",
        "         Iterations: 18\n",
        "         Function evaluations: 48\n",
        "[ 0.         -0.0164271  -0.0125     -0.02040816  0.09322034 -0.0107084 ]"
       ]
      },
      {
       "output_type": "stream",
       "stream": "stdout",
       "text": [
        "\n",
        "[-0.00189753 -0.0141129  -0.0755102  -0.13187251 -0.05551181 -0.0146326 ]"
       ]
      },
      {
       "output_type": "stream",
       "stream": "stdout",
       "text": [
        "\n",
        "[ 0.         -0.01002004 -0.0625     -0.05348837 -0.04156627 -0.01387389]"
       ]
      },
      {
       "output_type": "stream",
       "stream": "stdout",
       "text": [
        "\n",
        "[ 0.         -0.00589391 -0.01945525  0.03461538  0.11984127  0.0125314 ]"
       ]
      },
      {
       "output_type": "stream",
       "stream": "stdout",
       "text": [
        "\n",
        "[-0.00795229 -0.01489362 -0.12195122 -0.22768031 -0.10384615 -0.02997728]"
       ]
      },
      {
       "output_type": "stream",
       "stream": "stdout",
       "text": [
        "\n",
        "[-0.00198807 -0.02258727 -0.08045977 -0.15306122 -0.03777555 -0.01639163]"
       ]
      },
      {
       "output_type": "stream",
       "stream": "stdout",
       "text": [
        "\n",
        "[-0.01242236 -0.03455285 -0.1745098  -0.31316306 -0.07996109 -0.02660467]"
       ]
      },
      {
       "output_type": "stream",
       "stream": "stdout",
       "text": [
        "\n",
        "[ 0.          0.         -0.016       0.06930693  0.04433198  0.00479911]"
       ]
      },
      {
       "output_type": "stream",
       "stream": "stdout",
       "text": [
        "\n",
        "[ 0.          0.         -0.00398406  0.21957774  0.1901222   0.01352912]"
       ]
      },
      {
       "output_type": "stream",
       "stream": "stdout",
       "text": [
        "\n",
        "[ 0.         -0.00399202 -0.01768173  0.17354709  0.21134454  0.0141251 ]"
       ]
      },
      {
       "output_type": "stream",
       "stream": "stdout",
       "text": [
        "\n",
        "[-0.00192678 -0.00594059 -0.01834862  0.09261477  0.0781746   0.00535738]"
       ]
      },
      {
       "output_type": "stream",
       "stream": "stdout",
       "text": [
        "\n",
        "[ 0.          0.         -0.01535509  0.15        0.11705653  0.01073278]"
       ]
      },
      {
       "output_type": "stream",
       "stream": "stdout",
       "text": [
        "\n",
        "[ 0.         -0.0167364  -0.04238921 -0.06653543  0.00261044 -0.00858135]"
       ]
      },
      {
       "output_type": "stream",
       "stream": "stdout",
       "text": [
        "\n",
        "[ 0.          0.         -0.02020202  0.12674419  0.18        0.01236702]"
       ]
      },
      {
       "output_type": "stream",
       "stream": "stdout",
       "text": [
        "\n",
        "[ 0.         -0.00967118 -0.05578512 -0.07590361  0.006      -0.00856068]"
       ]
      },
      {
       "output_type": "stream",
       "stream": "stdout",
       "text": [
        "\n",
        "[ 0.         -0.00838574 -0.04483431 -0.09176955 -0.03531187 -0.0232391 ]"
       ]
      },
      {
       "output_type": "stream",
       "stream": "stdout",
       "text": [
        "\n",
        "[-0.00188324 -0.01217039 -0.05976096 -0.14918033 -0.0481289  -0.02616309]"
       ]
      },
      {
       "output_type": "stream",
       "stream": "stdout",
       "text": [
        "\n",
        "[ 0.         -0.00200803 -0.0139165   0.00412371  0.05       -0.00165026]"
       ]
      },
      {
       "output_type": "stream",
       "stream": "stdout",
       "text": [
        "\n",
        "[ 0.         -0.00585938 -0.02642276  0.03207547  0.09242424  0.00761949]"
       ]
      },
      {
       "output_type": "stream",
       "stream": "stdout",
       "text": [
        "\n",
        "[ 0.         -0.00571429 -0.0460251  -0.00350877  0.03383838  0.00213875]"
       ]
      },
      {
       "output_type": "stream",
       "stream": "stdout",
       "text": [
        "\n",
        "[ 0.         -0.00395257 -0.03469388  0.07613636  0.07135922 -0.00066122]"
       ]
      },
      {
       "output_type": "stream",
       "stream": "stdout",
       "text": [
        "\n",
        "[ 0.         -0.00409836 -0.04572565 -0.00466926  0.03533605 -0.00459413]"
       ]
      },
      {
       "output_type": "stream",
       "stream": "stdout",
       "text": [
        "\n",
        "[ 0.         -0.003861   -0.01764706  0.104       0.10631068  0.00880098]"
       ]
      },
      {
       "output_type": "stream",
       "stream": "stdout",
       "text": [
        "\n",
        "[ 0.         -0.00416667 -0.03149606 -0.03168317  0.02647059 -0.0080929 ]"
       ]
      },
      {
       "output_type": "stream",
       "stream": "stdout",
       "text": [
        "\n",
        "[-0.00433839 -0.01207243 -0.06534653 -0.10097087 -0.01004057 -0.00936843]"
       ]
      },
      {
       "output_type": "stream",
       "stream": "stdout",
       "text": [
        "\n",
        "[ 0.         -0.00978474 -0.02828283  0.0194332   0.0666998  -0.00132129]"
       ]
      },
      {
       "output_type": "stream",
       "stream": "stdout",
       "text": [
        "\n",
        "[ 0.         -0.00580271 -0.02544031  0.06390041  0.07137405  0.00182978]"
       ]
      },
      {
       "output_type": "stream",
       "stream": "stdout",
       "text": [
        "\n",
        "[-0.00212766 -0.00603622 -0.0308642  -0.02706131 -0.00912698 -0.00463571]"
       ]
      },
      {
       "output_type": "stream",
       "stream": "stdout",
       "text": [
        "\n",
        "[ 0.         -0.01666667 -0.03853955 -0.0601227  -0.00294118 -0.00713487]"
       ]
      },
      {
       "output_type": "stream",
       "stream": "stdout",
       "text": [
        "\n",
        "[ 0.         -0.00421941 -0.03966597 -0.00234375  0.03672199 -0.00501896]"
       ]
      },
      {
       "output_type": "stream",
       "stream": "stdout",
       "text": [
        "\n",
        "[-0.00193424 -0.00394477 -0.036       0.00756972  0.03016194 -0.00263711]"
       ]
      },
      {
       "output_type": "stream",
       "stream": "stdout",
       "text": [
        "\n",
        "[ 0.         -0.00406504 -0.0332681  -0.08387097 -0.02647059 -0.00869696]"
       ]
      },
      {
       "output_type": "stream",
       "stream": "stdout",
       "text": [
        "\n",
        "[-0.00207469 -0.00961538 -0.03777336  0.01309524  0.01955684 -0.0032515 ]"
       ]
      },
      {
       "output_type": "stream",
       "stream": "stdout",
       "text": [
        "\n",
        "[-0.00203666 -0.00200401 -0.0417495   0.01616162  0.034      -0.0004884 ]"
       ]
      },
      {
       "output_type": "stream",
       "stream": "stdout",
       "text": [
        "\n",
        "[ 0.         -0.01037344 -0.02988048 -0.01338583  0.00257732 -0.00361251]"
       ]
      },
      {
       "output_type": "stream",
       "stream": "stdout",
       "text": [
        "\n",
        "[-0.00399202 -0.01190476 -0.03155819  0.01368209  0.04681909  0.00051252]"
       ]
      },
      {
       "output_type": "stream",
       "stream": "stdout",
       "text": [
        "\n",
        "[ 0.         -0.0078125  -0.04022989  0.00320641 -0.00319149 -0.0059627 ]"
       ]
      },
      {
       "output_type": "stream",
       "stream": "stdout",
       "text": [
        "\n",
        "Optimization terminated successfully.\n",
        "         Current function value: 0.001199\n",
        "         Iterations: 17\n",
        "         Function evaluations: 36\n",
        "[ 0.         -0.00814664 -0.04791667  0.01270492  0.01806723 -0.00309405]"
       ]
      },
      {
       "output_type": "stream",
       "stream": "stdout",
       "text": [
        "\n",
        "[-0.00570342 -0.01737452 -0.058      -0.29618474  0.07164948 -0.02030689]"
       ]
      },
      {
       "output_type": "stream",
       "stream": "stdout",
       "text": [
        "\n",
        "[-0.0020202  -0.00888889 -0.06138614 -0.23861284  0.05438413 -0.02069647]"
       ]
      },
      {
       "output_type": "stream",
       "stream": "stdout",
       "text": [
        "\n",
        "[-0.00199601 -0.00776699 -0.01417004 -0.07783505  0.19063116  0.00738805]"
       ]
      },
      {
       "output_type": "stream",
       "stream": "stdout",
       "text": [
        "\n",
        "[ 0.         -0.02286902 -0.08627451 -0.36046512 -0.01161228 -0.03411288]"
       ]
      },
      {
       "output_type": "stream",
       "stream": "stdout",
       "text": [
        "\n",
        "[-0.00419287 -0.01518027 -0.11252654 -0.33969072  0.06363636 -0.02100432]"
       ]
      },
      {
       "output_type": "stream",
       "stream": "stdout",
       "text": [
        "\n",
        "[-0.00984252 -0.05046729 -0.1617357  -0.40079365  0.01464646 -0.03336065]"
       ]
      },
      {
       "output_type": "stream",
       "stream": "stdout",
       "text": [
        "\n",
        "[ 0.         -0.00408998 -0.01730769 -0.04313544  0.15817121 -0.00331121]"
       ]
      },
      {
       "output_type": "stream",
       "stream": "stdout",
       "text": [
        "\n",
        "[ 0.         -0.00204918 -0.00631579  0.08575884  0.23968254  0.00873623]"
       ]
      },
      {
       "output_type": "stream",
       "stream": "stdout",
       "text": [
        "\n",
        "[ 0.          0.         -0.01976285  0.01848249  0.30343035  0.00702281]"
       ]
      },
      {
       "output_type": "stream",
       "stream": "stdout",
       "text": [
        "\n",
        "[ 0.          0.         -0.01535509  0.00630252  0.25142566  0.00805352]"
       ]
      },
      {
       "output_type": "stream",
       "stream": "stdout",
       "text": [
        "\n",
        "[ 0.          0.         -0.00401606  0.10801217  0.37178218  0.01919626]"
       ]
      },
      {
       "output_type": "stream",
       "stream": "stdout",
       "text": [
        "\n",
        "[-0.00196078 -0.00199601 -0.03099174 -0.168       0.13823529 -0.00843142]"
       ]
      },
      {
       "output_type": "stream",
       "stream": "stdout",
       "text": [
        "\n",
        "[ 0.         -0.00980392 -0.03966597 -0.2245098   0.09426877 -0.01642115]"
       ]
      },
      {
       "output_type": "stream",
       "stream": "stdout",
       "text": [
        "\n",
        "[ 0.          0.         -0.015625   -0.00773196  0.24386892  0.01165827]"
       ]
      },
      {
       "output_type": "stream",
       "stream": "stdout",
       "text": [
        "\n",
        "[-0.00203252 -0.00858369 -0.04251012 -0.246139    0.07007874 -0.01360732]"
       ]
      },
      {
       "output_type": "stream",
       "stream": "stdout",
       "text": [
        "\n",
        "[ 0.         -0.00581395 -0.02839757  0.00619835  0.20925926  0.00465992]"
       ]
      },
      {
       "output_type": "stream",
       "stream": "stdout",
       "text": [
        "\n",
        "[ 0.         -0.00199203 -0.00856531  0.05691057  0.38859649  0.01916085]"
       ]
      },
      {
       "output_type": "stream",
       "stream": "stdout",
       "text": [
        "\n",
        "[ 0.         -0.008      -0.02982107 -0.13877339  0.14583333 -0.00842789]"
       ]
      },
      {
       "output_type": "stream",
       "stream": "stdout",
       "text": [
        "\n",
        "[ 0.         -0.00198413 -0.06679764 -0.2265625   0.06042945 -0.01815164]"
       ]
      },
      {
       "output_type": "stream",
       "stream": "stdout",
       "text": [
        "\n",
        "[ 0.         -0.0039604  -0.02811245 -0.156639    0.13480493 -0.00915753]"
       ]
      },
      {
       "output_type": "stream",
       "stream": "stdout",
       "text": [
        "\n",
        "[ 0.         -0.00392157 -0.02169625 -0.05815109  0.24175476  0.00609808]"
       ]
      },
      {
       "output_type": "stream",
       "stream": "stdout",
       "text": [
        "\n",
        "[ 0.         -0.00387597 -0.02982107 -0.1025641   0.15488722 -0.00326472]"
       ]
      },
      {
       "output_type": "stream",
       "stream": "stdout",
       "text": [
        "\n",
        "[-0.00194553 -0.00626305 -0.02380952 -0.21653543  0.08814433 -0.01177298]"
       ]
      },
      {
       "output_type": "stream",
       "stream": "stdout",
       "text": [
        "\n",
        "[-0.00410678 -0.00628931 -0.01680672 -0.09439834  0.1665725   0.00105174]"
       ]
      },
      {
       "output_type": "stream",
       "stream": "stdout",
       "text": [
        "\n",
        "[-0.00199203  0.         -0.01559454 -0.07329317  0.20714286  0.00686132]"
       ]
      },
      {
       "output_type": "stream",
       "stream": "stdout",
       "text": [
        "\n",
        "[-0.0019802  -0.0040568  -0.042      -0.10728155  0.15321932 -0.0060632 ]"
       ]
      },
      {
       "output_type": "stream",
       "stream": "stdout",
       "text": [
        "\n",
        "[ 0.          0.         -0.02       -0.10864979  0.06787819 -0.01507335]"
       ]
      },
      {
       "output_type": "stream",
       "stream": "stdout",
       "text": [
        "\n",
        "[ 0.         -0.00204082 -0.02857143 -0.17116631  0.09978903 -0.02794311]"
       ]
      },
      {
       "output_type": "stream",
       "stream": "stdout",
       "text": [
        "\n",
        "[ 0.         -0.00854701 -0.02708333 -0.0453271   0.18135755 -0.00476736]"
       ]
      },
      {
       "output_type": "stream",
       "stream": "stdout",
       "text": [
        "\n",
        "[ 0.         -0.00571429 -0.0308642  -0.10699797  0.11568047 -0.01321632]"
       ]
      },
      {
       "output_type": "stream",
       "stream": "stdout",
       "text": [
        "\n",
        "[ 0.         -0.00390625 -0.01949318 -0.06021195  0.16694215 -0.01246123]"
       ]
      },
      {
       "output_type": "stream",
       "stream": "stdout",
       "text": [
        "\n",
        "[-0.00411523 -0.00788955 -0.0307377  -0.16832669  0.07641509 -0.0150281 ]"
       ]
      },
      {
       "output_type": "stream",
       "stream": "stdout",
       "text": [
        "\n",
        "[ 0.         -0.00195695 -0.02988048 -0.11929461  0.11796875 -0.01731184]"
       ]
      },
      {
       "output_type": "stream",
       "stream": "stdout",
       "text": [
        "\n",
        "[ 0.          0.         -0.02335456 -0.04979466  0.142      -0.01098276]"
       ]
      },
      {
       "output_type": "stream",
       "stream": "stdout",
       "text": [
        "\n",
        "[ 0.          0.         -0.0307377  -0.12598425  0.13518519 -0.01306487]"
       ]
      },
      {
       "output_type": "stream",
       "stream": "stdout",
       "text": [
        "\n",
        "[-0.0019685  -0.00191571 -0.0221328  -0.07621359  0.15245399 -0.01291713]"
       ]
      },
      {
       "output_type": "stream",
       "stream": "stdout",
       "text": [
        "\n",
        "[ 0.         -0.00417537 -0.01934236 -0.10639413  0.1246988  -0.011444  ]"
       ]
      },
      {
       "output_type": "stream",
       "stream": "stdout",
       "text": [
        "\n",
        "[-0.00194175 -0.00580271 -0.03067485 -0.10281385  0.15041322 -0.00313525]"
       ]
      },
      {
       "output_type": "stream",
       "stream": "stdout",
       "text": [
        "\n",
        "[ 0.          0.         -0.02631579 -0.12869822  0.14624217 -0.01466111]"
       ]
      },
      {
       "output_type": "stream",
       "stream": "stdout",
       "text": [
        "\n",
        "[ 0.          0.         -0.01871102 -0.0806288   0.13441065 -0.01130664]"
       ]
      },
      {
       "output_type": "stream",
       "stream": "stdout",
       "text": [
        "\n",
        "[ 0.         -0.0040568  -0.03006012 -0.13658777  0.10157895 -0.01469308]"
       ]
      },
      {
       "output_type": "stream",
       "stream": "stdout",
       "text": [
        "\n",
        "[ 0.         -0.00203666 -0.01829268 -0.12951807  0.14308943 -0.010434  ]"
       ]
      },
      {
       "output_type": "stream",
       "stream": "stdout",
       "text": [
        "\n",
        "[ 0.         -0.00390625 -0.02857143 -0.12113402  0.11135881 -0.01446962]"
       ]
      },
      {
       "output_type": "stream",
       "stream": "stdout",
       "text": [
        "\n",
        "[ 0.          0.         -0.01178782 -0.16317365  0.11237624 -0.01829562]"
       ]
      },
      {
       "output_type": "stream",
       "stream": "stdout",
       "text": [
        "\n",
        "[-0.00204918 -0.00420168 -0.03512397 -0.1277336   0.12878193 -0.00904289]"
       ]
      },
      {
       "output_type": "stream",
       "stream": "stdout",
       "text": [
        "\n",
        "[-0.00200401 -0.0019685  -0.02434077 -0.12603306  0.07795276 -0.01568905]"
       ]
      },
      {
       "output_type": "stream",
       "stream": "stdout",
       "text": [
        "\n",
        "[ 0.         -0.00408163 -0.03162055 -0.10603113  0.09677104 -0.01931735]"
       ]
      },
      {
       "output_type": "stream",
       "stream": "stdout",
       "text": [
        "\n",
        "[ 0.         -0.00214133 -0.01505376 -0.09496124  0.10087041 -0.01769535]"
       ]
      },
      {
       "output_type": "stream",
       "stream": "stdout",
       "text": [
        "\n",
        "[ 0.         -0.00188324 -0.026      -0.15425532  0.10250965 -0.01951768]"
       ]
      },
      {
       "output_type": "stream",
       "stream": "stdout",
       "text": [
        "\n",
        "[-0.00204499 -0.00377358 -0.0233463  -0.1155706   0.13787879 -0.01282389]"
       ]
      },
      {
       "output_type": "stream",
       "stream": "stdout",
       "text": [
        "\n",
        "[ 0.         -0.00378072 -0.01405622 -0.12288136  0.10413534 -0.01477293]"
       ]
      },
      {
       "output_type": "stream",
       "stream": "stdout",
       "text": [
        "\n",
        "[ 0.          0.         -0.02020202 -0.13617886  0.10841584 -0.01671779]"
       ]
      },
      {
       "output_type": "stream",
       "stream": "stdout",
       "text": [
        "\n",
        "[ 0.         -0.00383142 -0.03180915 -0.15117417  0.09583333 -0.01489167]"
       ]
      },
      {
       "output_type": "stream",
       "stream": "stdout",
       "text": [
        "\n",
        "[ 0.         -0.00401606 -0.02615694 -0.13401559  0.12979798 -0.01445865]"
       ]
      },
      {
       "output_type": "stream",
       "stream": "stdout",
       "text": [
        "\n",
        "[ 0.         -0.00395257 -0.02647658 -0.132       0.118357   -0.01624039]"
       ]
      },
      {
       "output_type": "stream",
       "stream": "stdout",
       "text": [
        "\n",
        "Optimization terminated successfully.\n",
        "         Current function value: 0.017039\n",
        "         Iterations: 28\n",
        "         Function evaluations: 55\n",
        "[ 0.         -0.00205339 -0.03061224 -0.14534884  0.10308151 -0.0143678 ]"
       ]
      },
      {
       "output_type": "stream",
       "stream": "stdout",
       "text": [
        "\n",
        "[ 0.          0.02750511  0.11417166  0.08103792  0.01422846  0.00035181]"
       ]
      },
      {
       "output_type": "stream",
       "stream": "stdout",
       "text": [
        "\n",
        "[-0.00391389  0.04598394  0.16474954  0.14158215  0.00629921  0.00126726]"
       ]
      },
      {
       "output_type": "stream",
       "stream": "stdout",
       "text": [
        "\n",
        "[-0.0019685   0.04603175  0.17813121  0.2969697   0.14637681  0.02770972]"
       ]
      },
      {
       "output_type": "stream",
       "stream": "stdout",
       "text": [
        "\n",
        "[-0.00420168  0.03282443  0.09236791 -0.0201232  -0.04517544 -0.01411725]"
       ]
      },
      {
       "output_type": "stream",
       "stream": "stdout",
       "text": [
        "\n",
        "[-0.00203252  0.02238659  0.11518738  0.03254818  0.00567515 -0.00031174]"
       ]
      },
      {
       "output_type": "stream",
       "stream": "stdout",
       "text": [
        "\n",
        "[-0.01508621  0.          0.01653226 -0.05961538 -0.04214876 -0.0122578 ]"
       ]
      },
      {
       "output_type": "stream",
       "stream": "stdout",
       "text": [
        "\n",
        "[-0.01577909 -0.0304829  -0.03684211 -0.19055441 -0.06617336 -0.04116538]"
       ]
      },
      {
       "output_type": "stream",
       "stream": "stdout",
       "text": [
        "\n",
        "[-0.01012146 -0.02170543 -0.04476987 -0.19149798 -0.07233202 -0.02778846]"
       ]
      },
      {
       "output_type": "stream",
       "stream": "stdout",
       "text": [
        "\n",
        "[-0.01185771  0.01106557  0.00321285 -0.08711656 -0.05057034 -0.0209034 ]"
       ]
      },
      {
       "output_type": "stream",
       "stream": "stdout",
       "text": [
        "\n",
        "[ 0.          0.04603175  0.13227092  0.17782101  0.10238095  0.02151294]"
       ]
      },
      {
       "output_type": "stream",
       "stream": "stdout",
       "text": [
        "\n",
        "[-0.00426439  0.01747967  0.04705882 -0.11400778 -0.06370968 -0.02610711]"
       ]
      },
      {
       "output_type": "stream",
       "stream": "stdout",
       "text": [
        "\n",
        "[-0.0164271  -0.00353728 -0.04850895 -0.19002079 -0.07341513 -0.02932933]"
       ]
      },
      {
       "output_type": "stream",
       "stream": "stdout",
       "text": [
        "\n",
        "[-0.00606061  0.03425197  0.10873786  0.03775934 -0.01532258 -0.0065716 ]"
       ]
      },
      {
       "output_type": "stream",
       "stream": "stdout",
       "text": [
        "\n",
        "[-0.00767754  0.03214286  0.10836653  0.03181818  0.01553785  0.00322246]"
       ]
      },
      {
       "output_type": "stream",
       "stream": "stdout",
       "text": [
        "\n",
        "[-0.00596421 -0.02258065  0.02120582 -0.13552124 -0.06812749 -0.01975581]"
       ]
      },
      {
       "output_type": "stream",
       "stream": "stdout",
       "text": [
        "\n",
        "[-0.00379507  0.03387097  0.1184466  -0.02899787 -0.03461538 -0.00503811]"
       ]
      },
      {
       "output_type": "stream",
       "stream": "stdout",
       "text": [
        "\n",
        "[-0.00972763  0.01096654  0.02222222 -0.08326693 -0.05597484 -0.01560707]"
       ]
      },
      {
       "output_type": "stream",
       "stream": "stdout",
       "text": [
        "\n",
        "[-0.00627615  0.02808765  0.06075949 -0.07362429 -0.03980583 -0.01229751]"
       ]
      },
      {
       "output_type": "stream",
       "stream": "stdout",
       "text": [
        "\n",
        "[-0.00610998  0.0289272   0.05571142 -0.04705882 -0.03385214 -0.0039286 ]"
       ]
      },
      {
       "output_type": "stream",
       "stream": "stdout",
       "text": [
        "\n",
        "[-0.00404858  0.01530612  0.08484848 -0.07953668 -0.0188641  -0.01030606]"
       ]
      },
      {
       "output_type": "stream",
       "stream": "stdout",
       "text": [
        "\n",
        "[-0.00203252  0.02257384  0.08781431 -0.01553398 -0.0238477  -0.00464639]"
       ]
      },
      {
       "output_type": "stream",
       "stream": "stdout",
       "text": [
        "\n",
        "[-0.00645161  0.00472441  0.03364486 -0.0563786  -0.04969819 -0.01099274]"
       ]
      },
      {
       "output_type": "stream",
       "stream": "stdout",
       "text": [
        "\n",
        "[-0.00194175  0.00711501  0.05425101 -0.07004049 -0.02099792 -0.00768101]"
       ]
      },
      {
       "output_type": "stream",
       "stream": "stdout",
       "text": [
        "\n",
        "[-0.00406504  0.02363465  0.07695312 -0.02626263 -0.0259962   0.00030938]"
       ]
      },
      {
       "output_type": "stream",
       "stream": "stdout",
       "text": [
        "\n",
        "[-0.01422764  0.00793499  0.05138004 -0.058      -0.00505051 -0.00525353]"
       ]
      },
      {
       "output_type": "stream",
       "stream": "stdout",
       "text": [
        "\n",
        "[-0.00779727  0.01881092  0.06585366 -0.04256198 -0.03307087 -0.00580528]"
       ]
      },
      {
       "output_type": "stream",
       "stream": "stdout",
       "text": [
        "\n",
        "[-0.01593625 -0.00440901  0.02205029 -0.10980392 -0.0486166  -0.01611538]"
       ]
      },
      {
       "output_type": "stream",
       "stream": "stdout",
       "text": [
        "\n",
        "[-0.00395257  0.03031496  0.07701613 -0.0556701  -0.02555332 -0.00243806]"
       ]
      },
      {
       "output_type": "stream",
       "stream": "stdout",
       "text": [
        "\n",
        "[-0.00396825  0.00687885  0.03193277 -0.05853659 -0.01935484 -0.01065506]"
       ]
      },
      {
       "output_type": "stream",
       "stream": "stdout",
       "text": [
        "\n",
        "[-0.01694915  0.01875     0.05444234 -0.09198312 -0.0338843  -0.0122335 ]"
       ]
      },
      {
       "output_type": "stream",
       "stream": "stdout",
       "text": [
        "\n",
        "[-0.0078125   0.0255102   0.06127168 -0.09548134 -0.0416499  -0.00783262]"
       ]
      },
      {
       "output_type": "stream",
       "stream": "stdout",
       "text": [
        "\n",
        "[-0.00375235  0.02188755  0.06027944 -0.05226337 -0.03775934 -0.01213005]"
       ]
      },
      {
       "output_type": "stream",
       "stream": "stdout",
       "text": [
        "\n",
        "[-0.00598802  0.00334686  0.04691849 -0.06927593 -0.037751   -0.00569183]"
       ]
      },
      {
       "output_type": "stream",
       "stream": "stdout",
       "text": [
        "\n",
        "[-0.00414938  0.01934866  0.02840237 -0.05891473 -0.02412451 -0.01196305]"
       ]
      },
      {
       "output_type": "stream",
       "stream": "stdout",
       "text": [
        "\n",
        "[-0.00400802  0.00610687  0.0496994  -0.06798419 -0.03415638 -0.00751569]"
       ]
      },
      {
       "output_type": "stream",
       "stream": "stdout",
       "text": [
        "\n",
        "[-0.00808081  0.00127119  0.03838384 -0.15243665 -0.04042553 -0.01492005]"
       ]
      },
      {
       "output_type": "stream",
       "stream": "stdout",
       "text": [
        "\n",
        "[-0.00792079  0.00286885  0.06612576 -0.0744186  -0.05559846 -0.00902233]"
       ]
      },
      {
       "output_type": "stream",
       "stream": "stdout",
       "text": [
        "\n",
        "[-0.01202405  0.01186441  0.06549708 -0.11092077 -0.038      -0.00948802]"
       ]
      },
      {
       "output_type": "stream",
       "stream": "stdout",
       "text": [
        "\n",
        "[-0.00381679  0.01207585  0.03572895 -0.07117988 -0.03153527 -0.0104802 ]"
       ]
      },
      {
       "output_type": "stream",
       "stream": "stdout",
       "text": [
        "\n",
        "[-0.00978474  0.00582329  0.03333333 -0.03352827 -0.01269841 -0.00858114]"
       ]
      },
      {
       "output_type": "stream",
       "stream": "stdout",
       "text": [
        "\n",
        "[-0.00998004 -0.00731225  0.03661417 -0.12038835 -0.02884615 -0.00941484]"
       ]
      },
      {
       "output_type": "stream",
       "stream": "stdout",
       "text": [
        "\n",
        "[-0.00215517  0.01774194  0.02902584 -0.07128713 -0.03069307 -0.00671292]"
       ]
      },
      {
       "output_type": "stream",
       "stream": "stdout",
       "text": [
        "\n",
        "[-0.00614754  0.02669903  0.04       -0.07068273 -0.03478261 -0.0098689 ]"
       ]
      },
      {
       "output_type": "stream",
       "stream": "stdout",
       "text": [
        "\n",
        "[-0.01626016 -0.00102041  0.02886598 -0.0990099  -0.04605809 -0.0086561 ]"
       ]
      },
      {
       "output_type": "stream",
       "stream": "stdout",
       "text": [
        "\n",
        "[-0.00568182  0.00481336  0.02608696 -0.05714286 -0.01549296 -0.01060689]"
       ]
      },
      {
       "output_type": "stream",
       "stream": "stdout",
       "text": [
        "\n",
        "Optimization terminated successfully.\n",
        "         Current function value: 0.002600\n",
        "         Iterations: 18\n",
        "         Function evaluations: 45\n",
        "[-0.00616016 -0.00389222  0.03333333 -0.07460317 -0.03927126 -0.00787741]"
       ]
      },
      {
       "output_type": "stream",
       "stream": "stdout",
       "text": [
        "\n",
        "[-0.00403226 -0.01789264 -0.06138614 -0.3392562  -0.16288566 -0.01735237]"
       ]
      },
      {
       "output_type": "stream",
       "stream": "stdout",
       "text": [
        "\n",
        "[ 0.         -0.00406504 -0.04059829 -0.29233716 -0.09567901 -0.01515606]"
       ]
      },
      {
       "output_type": "stream",
       "stream": "stdout",
       "text": [
        "\n",
        "[ 0.         -0.00623701 -0.01440329 -0.16666667  0.00555556  0.01156902]"
       ]
      },
      {
       "output_type": "stream",
       "stream": "stdout",
       "text": [
        "\n",
        "[ 0.         -0.02620968 -0.11546392 -0.46138614 -0.15983607 -0.02823563]"
       ]
      },
      {
       "output_type": "stream",
       "stream": "stdout",
       "text": [
        "\n",
        "[-0.00413223 -0.01380671 -0.08041237 -0.36997972 -0.15239044 -0.01643276]"
       ]
      },
      {
       "output_type": "stream",
       "stream": "stdout",
       "text": [
        "\n",
        "[ 0.         -0.03625954 -0.1504065  -0.48674699 -0.18857965 -0.02743254]"
       ]
      },
      {
       "output_type": "stream",
       "stream": "stdout",
       "text": [
        "\n",
        "[-0.0019685  -0.00195695 -0.01455301 -0.11450094 -0.02178423  0.00183997]"
       ]
      },
      {
       "output_type": "stream",
       "stream": "stdout",
       "text": [
        "\n",
        "[ 0.          0.         -0.0020202  -0.00315582  0.0661157   0.01222016]"
       ]
      },
      {
       "output_type": "stream",
       "stream": "stdout",
       "text": [
        "\n",
        "[ 0.         -0.00211416 -0.00203666  0.01135903  0.16649899  0.01915976]"
       ]
      },
      {
       "output_type": "stream",
       "stream": "stdout",
       "text": [
        "\n",
        "[ 0.          0.         -0.00753296  0.02258065  0.15899796  0.01941699]"
       ]
      },
      {
       "output_type": "stream",
       "stream": "stdout",
       "text": [
        "\n",
        "[ 0.          0.         -0.00221239  0.10909091  0.265625    0.02955653]"
       ]
      },
      {
       "output_type": "stream",
       "stream": "stdout",
       "text": [
        "\n",
        "[ 0.          0.          0.          0.14032922  0.39603482  0.04240455]"
       ]
      },
      {
       "output_type": "stream",
       "stream": "stdout",
       "text": [
        "\n",
        "[ 0.          0.         -0.01603206 -0.10374753 -0.03710938  0.00255965]"
       ]
      },
      {
       "output_type": "stream",
       "stream": "stdout",
       "text": [
        "\n",
        "[ 0.         -0.00614754 -0.0661157  -0.25360825 -0.10822306 -0.00550476]"
       ]
      },
      {
       "output_type": "stream",
       "stream": "stdout",
       "text": [
        "\n",
        "[ 0.         -0.00401606 -0.034      -0.11984586 -0.02798861  0.00491819]"
       ]
      },
      {
       "output_type": "stream",
       "stream": "stdout",
       "text": [
        "\n",
        "[ 0.         -0.00202429 -0.0186722  -0.13198381 -0.06747573  0.00261214]"
       ]
      },
      {
       "output_type": "stream",
       "stream": "stdout",
       "text": [
        "\n",
        "[ 0.         -0.00395257 -0.00193798  0.0389662   0.07437276  0.00611798]"
       ]
      },
      {
       "output_type": "stream",
       "stream": "stdout",
       "text": [
        "\n",
        "[ 0.         -0.00397614 -0.01242236 -0.16770428 -0.08967936 -0.00928315]"
       ]
      },
      {
       "output_type": "stream",
       "stream": "stdout",
       "text": [
        "\n",
        "[ 0.          0.         -0.00811359 -0.01386139  0.11518047  0.01243984]"
       ]
      },
      {
       "output_type": "stream",
       "stream": "stdout",
       "text": [
        "\n",
        "[ 0.          0.         -0.0095057   0.0151751   0.14641434  0.01378947]"
       ]
      },
      {
       "output_type": "stream",
       "stream": "stdout",
       "text": [
        "\n",
        "[ 0.          0.         -0.00200401  0.00914513  0.10613682  0.01158862]"
       ]
      },
      {
       "output_type": "stream",
       "stream": "stdout",
       "text": [
        "\n",
        "[ 0.          0.          0.          0.07762906  0.13259109  0.01622933]"
       ]
      },
      {
       "output_type": "stream",
       "stream": "stdout",
       "text": [
        "\n",
        "[ 0.          0.         -0.01043841 -0.06388889  0.01086957  0.0074344 ]"
       ]
      },
      {
       "output_type": "stream",
       "stream": "stdout",
       "text": [
        "\n",
        "[ 0.          0.         -0.00192308 -0.03210832  0.0239726   0.00418415]"
       ]
      },
      {
       "output_type": "stream",
       "stream": "stdout",
       "text": [
        "\n",
        "[ 0.          0.         -0.00877193 -0.07385892  0.01262626 -0.00249227]"
       ]
      },
      {
       "output_type": "stream",
       "stream": "stdout",
       "text": [
        "\n",
        "[ 0.          0.         -0.0020284   0.07096774  0.11417323  0.01243119]"
       ]
      },
      {
       "output_type": "stream",
       "stream": "stdout",
       "text": [
        "\n",
        "[ 0.         -0.00196078 -0.00982318 -0.02912621  0.01833977  0.00657531]"
       ]
      },
      {
       "output_type": "stream",
       "stream": "stdout",
       "text": [
        "\n",
        "[ 0.         -0.0038835  -0.00589391 -0.03563218 -0.00303644  0.00356753]"
       ]
      },
      {
       "output_type": "stream",
       "stream": "stdout",
       "text": [
        "\n",
        "[ 0.         -0.00203666 -0.02380952 -0.09330709  0.01252505  0.00809163]"
       ]
      },
      {
       "output_type": "stream",
       "stream": "stdout",
       "text": [
        "\n",
        "[ 0.          0.         -0.00574713 -0.01862348  0.05081301  0.00595604]"
       ]
      },
      {
       "output_type": "stream",
       "stream": "stdout",
       "text": [
        "\n",
        "[ 0.         -0.00798403 -0.0125261  -0.13870968 -0.02042802 -0.00403704]"
       ]
      },
      {
       "output_type": "stream",
       "stream": "stdout",
       "text": [
        "\n",
        "[ 0.         -0.00203252 -0.00790514 -0.01115538  0.05196078  0.00956796]"
       ]
      },
      {
       "output_type": "stream",
       "stream": "stdout",
       "text": [
        "\n",
        "[ 0.          0.         -0.00591716 -0.05667351  0.00714286  0.00488217]"
       ]
      },
      {
       "output_type": "stream",
       "stream": "stdout",
       "text": [
        "\n",
        "[ 0.          0.         -0.00608519 -0.03469388  0.04111531  0.00485176]"
       ]
      },
      {
       "output_type": "stream",
       "stream": "stdout",
       "text": [
        "\n",
        "[-0.00207039  0.         -0.00785855 -0.07559055  0.01232742  0.00441335]"
       ]
      },
      {
       "output_type": "stream",
       "stream": "stdout",
       "text": [
        "\n",
        "[ 0.         -0.00193798 -0.00407332 -0.02682446  0.0311245   0.00670483]"
       ]
      },
      {
       "output_type": "stream",
       "stream": "stdout",
       "text": [
        "\n",
        "[  0.00000000e+00  -4.02414487e-03  -1.03734440e-02  -9.05660377e-02\n",
        "  -1.62835249e-02   4.46007178e-05]"
       ]
      },
      {
       "output_type": "stream",
       "stream": "stdout",
       "text": [
        "\n",
        "[ 0.         -0.00208768 -0.00595238 -0.02594142  0.04411765  0.0067599 ]"
       ]
      },
      {
       "output_type": "stream",
       "stream": "stdout",
       "text": [
        "\n",
        "[ 0.         -0.0019802  -0.00590551 -0.05303644 -0.00590551  0.00541876]"
       ]
      },
      {
       "output_type": "stream",
       "stream": "stdout",
       "text": [
        "\n",
        "[ 0.         -0.00400802 -0.01008065 -0.06185958  0.01970954  0.00390454]"
       ]
      },
      {
       "output_type": "stream",
       "stream": "stdout",
       "text": [
        "\n",
        "[ 0.          0.         -0.02240326 -0.02709163  0.04674797  0.00586057]"
       ]
      },
      {
       "output_type": "stream",
       "stream": "stdout",
       "text": [
        "\n",
        "[ 0.         -0.00217865 -0.00596421 -0.04847251 -0.00675676  0.00428308]"
       ]
      },
      {
       "output_type": "stream",
       "stream": "stdout",
       "text": [
        "\n",
        "[ 0.         -0.00416667 -0.01544402 -0.03694779  0.01162791  0.00518308]"
       ]
      },
      {
       "output_type": "stream",
       "stream": "stdout",
       "text": [
        "\n",
        "[ 0.         -0.002      -0.00584795 -0.04366472 -0.00097276  0.00738245]"
       ]
      },
      {
       "output_type": "stream",
       "stream": "stdout",
       "text": [
        "\n",
        "[ 0.          0.         -0.00197628 -0.06232742  0.05980392  0.00614252]"
       ]
      },
      {
       "output_type": "stream",
       "stream": "stdout",
       "text": [
        "\n",
        "[ 0.          0.         -0.00813008 -0.082      -0.03528827  0.00470834]"
       ]
      },
      {
       "output_type": "stream",
       "stream": "stdout",
       "text": [
        "\n",
        "[ 0.         -0.0040404  -0.00824742 -0.04173554  0.02689243  0.00463289]"
       ]
      },
      {
       "output_type": "stream",
       "stream": "stdout",
       "text": [
        "\n",
        "[ 0.          0.         -0.01701323 -0.05506073  0.07771536  0.00546812]"
       ]
      },
      {
       "output_type": "stream",
       "stream": "stdout",
       "text": [
        "\n",
        "[ 0.         -0.00408163 -0.00826446 -0.03196881 -0.00665399  0.00415402]"
       ]
      },
      {
       "output_type": "stream",
       "stream": "stdout",
       "text": [
        "\n",
        "[ 0.          0.         -0.01397206 -0.01374046  0.03239845  0.00657989]"
       ]
      },
      {
       "output_type": "stream",
       "stream": "stdout",
       "text": [
        "\n",
        "[ 0.         -0.0020202  -0.01596806 -0.09460581  0.06041257  0.00616182]"
       ]
      },
      {
       "output_type": "stream",
       "stream": "stdout",
       "text": [
        "\n",
        "[ 0.         -0.00407332 -0.00588235 -0.03469388  0.01693227  0.00747919]"
       ]
      },
      {
       "output_type": "stream",
       "stream": "stdout",
       "text": [
        "\n",
        "[ 0.         -0.00207039 -0.01789264 -0.0950495   0.04411765  0.0064007 ]"
       ]
      },
      {
       "output_type": "stream",
       "stream": "stdout",
       "text": [
        "\n",
        "[ 0.          0.         -0.00801603 -0.06785714 -0.00883576  0.00526684]"
       ]
      },
      {
       "output_type": "stream",
       "stream": "stdout",
       "text": [
        "\n",
        "[ 0.          0.         -0.00583658 -0.08        0.01336634  0.00660809]"
       ]
      },
      {
       "output_type": "stream",
       "stream": "stdout",
       "text": [
        "\n",
        "[-0.00207039 -0.00392927  0.         -0.07811861  0.03373016  0.00533313]"
       ]
      },
      {
       "output_type": "stream",
       "stream": "stdout",
       "text": [
        "\n",
        "[ 0.         -0.0019685  -0.01434426 -0.05562372 -0.00555556  0.00658643]"
       ]
      },
      {
       "output_type": "stream",
       "stream": "stdout",
       "text": [
        "\n",
        "[ 0.         -0.00192678 -0.0059761  -0.08367347  0.02362205  0.00488703]"
       ]
      },
      {
       "output_type": "stream",
       "stream": "stdout",
       "text": [
        "\n",
        "[ 0.          0.         -0.00769231 -0.04752475  0.01129666  0.00680171]"
       ]
      },
      {
       "output_type": "stream",
       "stream": "stdout",
       "text": [
        "\n",
        "Optimization terminated successfully.\n",
        "         Current function value: 0.001168\n",
        "         Iterations: 26\n",
        "         Function evaluations: 59\n",
        "[ 0.         -0.0020284  -0.00785855 -0.06358149  0.01271186  0.00579478]"
       ]
      },
      {
       "output_type": "stream",
       "stream": "stdout",
       "text": [
        "\n",
        "[-0.00206186 -0.00984252 -0.07465619 -0.50049505 -0.50697674 -0.04271736]"
       ]
      },
      {
       "output_type": "stream",
       "stream": "stdout",
       "text": [
        "\n",
        "[ 0.         -0.00378788 -0.06126482 -0.45294695 -0.47037037 -0.0423005 ]"
       ]
      },
      {
       "output_type": "stream",
       "stream": "stdout",
       "text": [
        "\n",
        "[ 0.         -0.01495726 -0.02935421 -0.2746493  -0.34647887 -0.01582535]"
       ]
      },
      {
       "output_type": "stream",
       "stream": "stdout",
       "text": [
        "\n",
        "[ 0.         -0.01068376 -0.12228797 -0.58188976 -0.552      -0.05746824]"
       ]
      },
      {
       "output_type": "stream",
       "stream": "stdout",
       "text": [
        "\n",
        "[-0.00204499 -0.02584493 -0.07509881 -0.49527938 -0.51106719 -0.04277171]"
       ]
      },
      {
       "output_type": "stream",
       "stream": "stdout",
       "text": [
        "\n",
        "[-0.0102459  -0.04183267 -0.19493177 -0.65721649 -0.53234672 -0.05313402]"
       ]
      },
      {
       "output_type": "stream",
       "stream": "stdout",
       "text": [
        "\n",
        "[ 0.         -0.00393701 -0.016      -0.262      -0.4        -0.02528864]"
       ]
      },
      {
       "output_type": "stream",
       "stream": "stdout",
       "text": [
        "\n",
        "[ 0.         -0.00192308 -0.01649485 -0.21626016 -0.27269076 -0.01387248]"
       ]
      },
      {
       "output_type": "stream",
       "stream": "stdout",
       "text": [
        "\n",
        "[ 0.          0.         -0.00618557 -0.06538462 -0.06586345  0.00140843]"
       ]
      },
      {
       "output_type": "stream",
       "stream": "stdout",
       "text": [
        "\n",
        "[ 0.          0.          0.         -0.14880716 -0.17455268 -0.00822439]"
       ]
      },
      {
       "output_type": "stream",
       "stream": "stdout",
       "text": [
        "\n",
        "[ 0.          0.          0.         -0.05982659 -0.03670886  0.00392395]"
       ]
      },
      {
       "output_type": "stream",
       "stream": "stdout",
       "text": [
        "\n",
        "[ 0.          0.          0.          0.00951417  0.20777096  0.01619983]"
       ]
      },
      {
       "output_type": "stream",
       "stream": "stdout",
       "text": [
        "\n",
        "[ 0.         -0.0020284  -0.00194553 -0.01695464  0.11259843  0.01510905]"
       ]
      },
      {
       "output_type": "stream",
       "stream": "stdout",
       "text": [
        "\n",
        "[ 0.          0.          0.          0.01041667  0.22680412  0.01642654]"
       ]
      },
      {
       "output_type": "stream",
       "stream": "stdout",
       "text": [
        "\n",
        "[ 0.          0.         -0.00424628  0.03422091  0.28408644  0.02076914]"
       ]
      },
      {
       "output_type": "stream",
       "stream": "stdout",
       "text": [
        "\n",
        "[ 0.          0.          0.          0.02011952  0.19045643  0.01416027]"
       ]
      },
      {
       "output_type": "stream",
       "stream": "stdout",
       "text": [
        "\n",
        "[ 0.          0.          0.          0.028389    0.31634241  0.0223661 ]"
       ]
      },
      {
       "output_type": "stream",
       "stream": "stdout",
       "text": [
        "\n",
        "[ 0.          0.         -0.00393701 -0.06293634 -0.01779497  0.00295987]"
       ]
      },
      {
       "output_type": "stream",
       "stream": "stdout",
       "text": [
        "\n",
        "[ 0.          0.         -0.00197628 -0.05344828 -0.12916667 -0.00466089]"
       ]
      },
      {
       "output_type": "stream",
       "stream": "stdout",
       "text": [
        "\n",
        "[ 0.          0.         -0.02024291 -0.19439919 -0.24870259 -0.01020092]"
       ]
      },
      {
       "output_type": "stream",
       "stream": "stdout",
       "text": [
        "\n",
        "[ 0.          0.          0.         -0.0089391   0.12837022  0.00962489]"
       ]
      },
      {
       "output_type": "stream",
       "stream": "stdout",
       "text": [
        "\n",
        "[ 0.          0.          0.          0.00228628  0.15533981  0.01345491]"
       ]
      },
      {
       "output_type": "stream",
       "stream": "stdout",
       "text": [
        "\n",
        "[ 0.          0.          0.         -0.04533469 -0.036       0.00341225]"
       ]
      },
      {
       "output_type": "stream",
       "stream": "stdout",
       "text": [
        "\n",
        "[ 0.          0.          0.         -0.04645669 -0.12192067 -0.00074883]"
       ]
      },
      {
       "output_type": "stream",
       "stream": "stdout",
       "text": [
        "\n",
        "[ 0.          0.         -0.00198807 -0.03333333  0.0194332   0.00725859]"
       ]
      },
      {
       "output_type": "stream",
       "stream": "stdout",
       "text": [
        "\n",
        "[ 0.          0.         -0.01010101 -0.1117357  -0.148      -0.01083916]"
       ]
      },
      {
       "output_type": "stream",
       "stream": "stdout",
       "text": [
        "\n",
        "[ 0.         -0.00199601 -0.00197628 -0.01796117  0.06464646  0.00859652]"
       ]
      },
      {
       "output_type": "stream",
       "stream": "stdout",
       "text": [
        "\n",
        "[ 0.          0.          0.         -0.02157058 -0.036       0.00755622]"
       ]
      },
      {
       "output_type": "stream",
       "stream": "stdout",
       "text": [
        "\n",
        "[ 0.          0.         -0.00584795 -0.02485605  0.00667904  0.00728389]"
       ]
      },
      {
       "output_type": "stream",
       "stream": "stdout",
       "text": [
        "\n",
        "[ 0.          0.          0.         -0.00620155  0.10645793  0.00967027]"
       ]
      },
      {
       "output_type": "stream",
       "stream": "stdout",
       "text": [
        "\n",
        "[ 0.          0.         -0.00194932 -0.05848126 -0.05572354  0.00158267]"
       ]
      },
      {
       "output_type": "stream",
       "stream": "stdout",
       "text": [
        "\n",
        "[ 0.          0.         -0.00201207 -0.04445585  0.07387033  0.00724849]"
       ]
      },
      {
       "output_type": "stream",
       "stream": "stdout",
       "text": [
        "\n",
        "[ 0.          0.          0.         -0.00252525  0.05868263  0.0063615 ]"
       ]
      },
      {
       "output_type": "stream",
       "stream": "stdout",
       "text": [
        "\n",
        "[ 0.          0.          0.         -0.00349794  0.00362173  0.00647597]"
       ]
      },
      {
       "output_type": "stream",
       "stream": "stdout",
       "text": [
        "\n",
        "[ 0.          0.          0.         -0.01666667 -0.0260355   0.00357526]"
       ]
      },
      {
       "output_type": "stream",
       "stream": "stdout",
       "text": [
        "\n",
        "[ 0.          0.          0.         -0.0362069   0.01507937  0.00578541]"
       ]
      },
      {
       "output_type": "stream",
       "stream": "stdout",
       "text": [
        "\n",
        "[ 0.          0.         -0.00400802 -0.01237006  0.00238569  0.00826243]"
       ]
      },
      {
       "output_type": "stream",
       "stream": "stdout",
       "text": [
        "\n",
        "[ 0.         -0.00209205 -0.0019305  -0.04960159  0.00552268  0.00645098]"
       ]
      },
      {
       "output_type": "stream",
       "stream": "stdout",
       "text": [
        "\n",
        "[ 0.          0.         -0.00205339 -0.02739308  0.00248447  0.00600343]"
       ]
      },
      {
       "output_type": "stream",
       "stream": "stdout",
       "text": [
        "\n",
        "[ 0.          0.         -0.00198807 -0.02535642  0.04136622  0.00880849]"
       ]
      },
      {
       "output_type": "stream",
       "stream": "stdout",
       "text": [
        "\n",
        "[ 0.          0.         -0.00197239 -0.0208502   0.01232604  0.00659628]"
       ]
      },
      {
       "output_type": "stream",
       "stream": "stdout",
       "text": [
        "\n",
        "[ 0.          0.          0.         -0.02942974  0.03807531  0.00954274]"
       ]
      },
      {
       "output_type": "stream",
       "stream": "stdout",
       "text": [
        "\n",
        "[ 0.          0.         -0.00389105 -0.05373444 -0.02915811  0.00599539]"
       ]
      },
      {
       "output_type": "stream",
       "stream": "stdout",
       "text": [
        "\n",
        "[ 0.          0.          0.         -0.01160164  0.01522634  0.00625333]"
       ]
      },
      {
       "output_type": "stream",
       "stream": "stdout",
       "text": [
        "\n",
        "[ 0.          0.         -0.00191939  0.00059289 -0.00606061  0.0062953 ]"
       ]
      },
      {
       "output_type": "stream",
       "stream": "stdout",
       "text": [
        "\n",
        "[ 0.          0.         -0.0077821  -0.01126482  0.04071856  0.00719909]"
       ]
      },
      {
       "output_type": "stream",
       "stream": "stdout",
       "text": [
        "\n",
        "[ 0.          0.          0.         -0.03835341  0.04102564  0.00748918]"
       ]
      },
      {
       "output_type": "stream",
       "stream": "stdout",
       "text": [
        "\n",
        "[ 0.          0.         -0.00203252 -0.04055118  0.01065574  0.00700432]"
       ]
      },
      {
       "output_type": "stream",
       "stream": "stdout",
       "text": [
        "\n",
        "[ 0.          0.         -0.00196078 -0.022       0.06733068  0.00838735]"
       ]
      },
      {
       "output_type": "stream",
       "stream": "stdout",
       "text": [
        "\n",
        "[ 0.          0.         -0.0019802  -0.03280255  0.02571977  0.00754038]"
       ]
      },
      {
       "output_type": "stream",
       "stream": "stdout",
       "text": [
        "\n",
        "[ 0.          0.          0.         -0.00421687 -0.01577825  0.00711018]"
       ]
      },
      {
       "output_type": "stream",
       "stream": "stdout",
       "text": [
        "\n",
        "[ 0.         -0.00199203 -0.00194175 -0.0358209   0.04202335  0.00909774]"
       ]
      },
      {
       "output_type": "stream",
       "stream": "stdout",
       "text": [
        "\n",
        "[ 0.          0.          0.         -0.04607843 -0.01115702  0.00730153]"
       ]
      },
      {
       "output_type": "stream",
       "stream": "stdout",
       "text": [
        "\n",
        "[ 0.          0.          0.         -0.03506224  0.02772277  0.00893844]"
       ]
      },
      {
       "output_type": "stream",
       "stream": "stdout",
       "text": [
        "\n",
        "[ 0.          0.          0.         -0.02847082  0.00116732  0.00749443]"
       ]
      },
      {
       "output_type": "stream",
       "stream": "stdout",
       "text": [
        "\n",
        "[ 0.          0.         -0.00374532 -0.00731225  0.05120968  0.00931611]"
       ]
      },
      {
       "output_type": "stream",
       "stream": "stdout",
       "text": [
        "\n",
        "[ 0.          0.          0.         -0.02113821  0.03938053  0.00796508]"
       ]
      },
      {
       "output_type": "stream",
       "stream": "stdout",
       "text": [
        "\n",
        "[ 0.          0.          0.         -0.02028112  0.04360587  0.00662283]"
       ]
      },
      {
       "output_type": "stream",
       "stream": "stdout",
       "text": [
        "\n",
        "Optimization terminated successfully.\n",
        "         Current function value: 0.000067\n",
        "         Iterations: 23\n",
        "         Function evaluations: 58\n",
        "[ 0.          0.         -0.00202429 -0.03969466 -0.00761905  0.00685393]"
       ]
      },
      {
       "output_type": "stream",
       "stream": "stdout",
       "text": [
        "\n",
        "[ 0.         -0.01239669 -0.00060729 -0.07148289 -0.13640974 -0.0006747 ]"
       ]
      },
      {
       "output_type": "stream",
       "stream": "stdout",
       "text": [
        "\n",
        "[-0.00199203 -0.00788955 -0.00742574 -0.118      -0.10880077 -0.00090076]"
       ]
      },
      {
       "output_type": "stream",
       "stream": "stdout",
       "text": [
        "\n",
        "[ 0.         -0.00189036  0.02201493  0.07761807  0.02099237  0.02813443]"
       ]
      },
      {
       "output_type": "stream",
       "stream": "stdout",
       "text": [
        "\n",
        "[-0.00199601 -0.01757812 -0.06673152 -0.23636364 -0.19035785 -0.01472285]"
       ]
      },
      {
       "output_type": "stream",
       "stream": "stdout",
       "text": [
        "\n",
        "[ 0.         -0.01677149 -0.04110169 -0.15405405 -0.11549708 -0.00140364]"
       ]
      },
      {
       "output_type": "stream",
       "stream": "stdout",
       "text": [
        "\n",
        "[-0.01455301 -0.06066946 -0.13997912 -0.29358178 -0.1761477  -0.01290159]"
       ]
      },
      {
       "output_type": "stream",
       "stream": "stdout",
       "text": [
        "\n",
        "[ 0.         -0.0038835   0.03585859  0.06465863 -0.02412731  0.01489104]"
       ]
      },
      {
       "output_type": "stream",
       "stream": "stdout",
       "text": [
        "\n",
        "[ 0.         -0.00197239  0.04604743  0.15413223  0.08536585  0.02759164]"
       ]
      },
      {
       "output_type": "stream",
       "stream": "stdout",
       "text": [
        "\n",
        "[ 0.         -0.00398406  0.04433962  0.13320158  0.09824903  0.02844242]"
       ]
      },
      {
       "output_type": "stream",
       "stream": "stdout",
       "text": [
        "\n",
        "[ 0.          0.          0.03785425  0.15604839  0.11290323  0.02769325]"
       ]
      },
      {
       "output_type": "stream",
       "stream": "stdout",
       "text": [
        "\n",
        "[-0.00192678 -0.00576923 -0.0056701  -0.06692607 -0.09679089  0.00673739]"
       ]
      },
      {
       "output_type": "stream",
       "stream": "stdout",
       "text": [
        "\n",
        "[ 0.         -0.01502146 -0.0445674  -0.20358566 -0.18522267 -0.01101916]"
       ]
      },
      {
       "output_type": "stream",
       "stream": "stdout",
       "text": [
        "\n",
        "[ 0.         -0.00208768  0.02319588  0.07916667  0.0127451   0.02047908]"
       ]
      },
      {
       "output_type": "stream",
       "stream": "stdout",
       "text": [
        "\n",
        "[ 0.         -0.00198413  0.0202381   0.07864271  0.0141129   0.02637899]"
       ]
      },
      {
       "output_type": "stream",
       "stream": "stdout",
       "text": [
        "\n",
        "[ 0.          0.          0.03773006  0.18527607  0.12821782  0.03468729]"
       ]
      },
      {
       "output_type": "stream",
       "stream": "stdout",
       "text": [
        "\n",
        "[ 0.         -0.01185771  0.0127451  -0.03762376 -0.07040816  0.01075687]"
       ]
      },
      {
       "output_type": "stream",
       "stream": "stdout",
       "text": [
        "\n",
        "[ 0.         -0.00412371  0.0360835   0.17229602  0.09764826  0.03012837]"
       ]
      },
      {
       "output_type": "stream",
       "stream": "stdout",
       "text": [
        "\n",
        "[ 0.         -0.00976562  0.01130346  0.00086768 -0.08067729  0.01383452]"
       ]
      },
      {
       "output_type": "stream",
       "stream": "stdout",
       "text": [
        "\n",
        "[ 0.         -0.00395257  0.02171717  0.02809917 -0.05576923  0.00946943]"
       ]
      },
      {
       "output_type": "stream",
       "stream": "stdout",
       "text": [
        "\n",
        "[ 0.         -0.00392927  0.01414343  0.01284047 -0.07328482 -0.00172555]"
       ]
      },
      {
       "output_type": "stream",
       "stream": "stdout",
       "text": [
        "\n",
        "[-0.00204499 -0.00770713  0.01435644 -0.03936382 -0.08434343 -0.00148636]"
       ]
      },
      {
       "output_type": "stream",
       "stream": "stdout",
       "text": [
        "\n",
        "[-0.00202429 -0.00206186  0.02777778  0.06986564 -0.05632411  0.0189952 ]"
       ]
      },
      {
       "output_type": "stream",
       "stream": "stdout",
       "text": [
        "\n",
        "[ 0.         -0.00209644  0.02946612  0.08253968 -0.06343284  0.01267748]"
       ]
      },
      {
       "output_type": "stream",
       "stream": "stdout",
       "text": [
        "\n",
        "[ 0.         -0.00424628  0.00576923  0.00692464 -0.09831461  0.00963545]"
       ]
      },
      {
       "output_type": "stream",
       "stream": "stdout",
       "text": [
        "\n",
        "[ 0.         -0.00831601  0.01504854  0.0416185  -0.08661417  0.0125582 ]"
       ]
      },
      {
       "output_type": "stream",
       "stream": "stdout",
       "text": [
        "\n",
        "[ 0.         -0.00594059  0.0374739   0.07436975 -0.00396825  0.01450293]"
       ]
      },
      {
       "output_type": "stream",
       "stream": "stdout",
       "text": [
        "\n",
        "[ 0.         -0.00571429  0.02959184  0.09807692 -0.06325301  0.01803561]"
       ]
      },
      {
       "output_type": "stream",
       "stream": "stdout",
       "text": [
        "\n",
        "[-0.00199601 -0.00398406  0.01516393 -0.00786749 -0.07824427  0.00507648]"
       ]
      },
      {
       "output_type": "stream",
       "stream": "stdout",
       "text": [
        "\n",
        "[-0.00584795 -0.00803213 -0.0024109  -0.0247619  -0.10031185  0.00587406]"
       ]
      },
      {
       "output_type": "stream",
       "stream": "stdout",
       "text": [
        "\n",
        "[ 0.          0.          0.02005988 -0.0063745  -0.08693517  0.00759193]"
       ]
      },
      {
       "output_type": "stream",
       "stream": "stdout",
       "text": [
        "\n",
        "[ 0.          0.          0.01332046  0.07083333 -0.03030303  0.01067773]"
       ]
      },
      {
       "output_type": "stream",
       "stream": "stdout",
       "text": [
        "\n",
        "[ 0.         -0.00612245  0.01905222  0.00623782 -0.06017613  0.00740881]"
       ]
      },
      {
       "output_type": "stream",
       "stream": "stdout",
       "text": [
        "\n",
        "[-0.00191939 -0.00795229  0.03319328  0.0556701  -0.01763485  0.00377392]"
       ]
      },
      {
       "output_type": "stream",
       "stream": "stdout",
       "text": [
        "\n",
        "[ 0.         -0.00200401  0.02171717  0.00465116 -0.02505112  0.00912873]"
       ]
      },
      {
       "output_type": "stream",
       "stream": "stdout",
       "text": [
        "\n",
        "[ 0.         -0.00208768  0.01875     0.04912281 -0.03356713  0.00964097]"
       ]
      },
      {
       "output_type": "stream",
       "stream": "stdout",
       "text": [
        "\n",
        "[ 0.          0.          0.01586345  0.05217391 -0.07551595 -0.00018517]"
       ]
      },
      {
       "output_type": "stream",
       "stream": "stdout",
       "text": [
        "\n",
        "[-0.00404858 -0.0060241   0.01572581  0.00714286 -0.02062374  0.00960578]"
       ]
      },
      {
       "output_type": "stream",
       "stream": "stdout",
       "text": [
        "\n",
        "[ 0.         -0.0040404   0.03594378  0.09087137 -0.05241935  0.01350442]"
       ]
      },
      {
       "output_type": "stream",
       "stream": "stdout",
       "text": [
        "\n",
        "[-0.00202429 -0.00630252  0.02137014  0.00493827 -0.0701581   0.00640456]"
       ]
      },
      {
       "output_type": "stream",
       "stream": "stdout",
       "text": [
        "\n",
        "[ 0.         -0.00587084  0.02904762  0.04       -0.05408163  0.00860089]"
       ]
      },
      {
       "output_type": "stream",
       "stream": "stdout",
       "text": [
        "\n",
        "[ 0.         -0.00395257  0.034       0.05949119 -0.01356589  0.00949643]"
       ]
      },
      {
       "output_type": "stream",
       "stream": "stdout",
       "text": [
        "\n",
        "[ 0.         -0.00191939  0.02929607  0.03       -0.05658436  0.01164256]"
       ]
      },
      {
       "output_type": "stream",
       "stream": "stdout",
       "text": [
        "\n",
        "[ 0.         -0.00198413  0.02211155  0.01349693 -0.04041916  0.00977346]"
       ]
      },
      {
       "output_type": "stream",
       "stream": "stdout",
       "text": [
        "\n",
        "[ 0.         -0.00209205  0.02634409  0.02450593 -0.02867203  0.00589302]"
       ]
      },
      {
       "output_type": "stream",
       "stream": "stdout",
       "text": [
        "\n",
        "[ 0.         -0.00211864  0.03406375  0.04741036  0.01219512  0.00959162]"
       ]
      },
      {
       "output_type": "stream",
       "stream": "stdout",
       "text": [
        "\n",
        "[ 0.         -0.00189753  0.03330241  0.04848485 -0.0435368   0.01092347]"
       ]
      },
      {
       "output_type": "stream",
       "stream": "stdout",
       "text": [
        "\n",
        "[ 0.         -0.01165049  0.03440546  0.03905325 -0.04841897  0.00707544]"
       ]
      },
      {
       "output_type": "stream",
       "stream": "stdout",
       "text": [
        "\n",
        "[ 0.         -0.00208768  0.03015873  0.025      -0.02799228  0.00964555]"
       ]
      },
      {
       "output_type": "stream",
       "stream": "stdout",
       "text": [
        "\n",
        "[ 0.         -0.00204082  0.01787149  0.03201663 -0.08877551  0.00855827]"
       ]
      },
      {
       "output_type": "stream",
       "stream": "stdout",
       "text": [
        "\n",
        "[-0.00197628 -0.00383142  0.02260274  0.0300813  -0.02192982  0.01130961]"
       ]
      },
      {
       "output_type": "stream",
       "stream": "stdout",
       "text": [
        "\n",
        "[ 0.          0.          0.02642436  0.08700787  0.0086558   0.01016625]"
       ]
      },
      {
       "output_type": "stream",
       "stream": "stdout",
       "text": [
        "\n",
        "[ 0.          0.          0.02165992  0.06340509 -0.05448065  0.00929046]"
       ]
      },
      {
       "output_type": "stream",
       "stream": "stdout",
       "text": [
        "\n",
        "[ 0.          0.          0.02995992  0.06179541 -0.01785714  0.01251058]"
       ]
      },
      {
       "output_type": "stream",
       "stream": "stdout",
       "text": [
        "\n",
        "[ 0.          0.          0.02971602  0.05753425 -0.04919679  0.01061833]"
       ]
      },
      {
       "output_type": "stream",
       "stream": "stdout",
       "text": [
        "\n",
        "Optimization terminated successfully.\n",
        "         Current function value: 0.000869\n",
        "         Iterations: 25\n",
        "         Function evaluations: 54\n",
        "[ 0.         -0.0019685   0.01819085  0.00271318 -0.06818182  0.01202081]"
       ]
      },
      {
       "output_type": "stream",
       "stream": "stdout",
       "text": [
        "\n",
        "[-0.00200401 -0.01214575 -0.06707317 -0.19897959 -0.08683128 -0.03056136]"
       ]
      },
      {
       "output_type": "stream",
       "stream": "stdout",
       "text": [
        "\n",
        "[ 0.         -0.01386139 -0.04733728 -0.13440748 -0.10674603 -0.03309585]"
       ]
      },
      {
       "output_type": "stream",
       "stream": "stdout",
       "text": [
        "\n",
        "[-0.00195695 -0.01242236 -0.03320312  0.01982922  0.05       -0.00436565]"
       ]
      },
      {
       "output_type": "stream",
       "stream": "stdout",
       "text": [
        "\n",
        "[-0.00583658 -0.0204499  -0.08123791 -0.30909091 -0.13005671 -0.04660707]"
       ]
      },
      {
       "output_type": "stream",
       "stream": "stdout",
       "text": [
        "\n",
        "[-0.002      -0.01291513 -0.08190476 -0.19027505 -0.07037037 -0.03277528]"
       ]
      },
      {
       "output_type": "stream",
       "stream": "stdout",
       "text": [
        "\n",
        "[-0.00204082 -0.04517454 -0.21936759 -0.33623482 -0.16222664 -0.04459708]"
       ]
      },
      {
       "output_type": "stream",
       "stream": "stdout",
       "text": [
        "\n",
        "[ 0.         -0.00397614 -0.01680672  0.0245098  -0.01553398 -0.01464131]"
       ]
      },
      {
       "output_type": "stream",
       "stream": "stdout",
       "text": [
        "\n",
        "[ 0.          0.         -0.002       0.16730769  0.13463796 -0.00417238]"
       ]
      },
      {
       "output_type": "stream",
       "stream": "stdout",
       "text": [
        "\n",
        "[ 0.          0.         -0.01541426  0.10959596  0.13200795 -0.00311918]"
       ]
      },
      {
       "output_type": "stream",
       "stream": "stdout",
       "text": [
        "\n",
        "[ 0.         -0.00383142 -0.01375246  0.100499    0.09457364 -0.00361429]"
       ]
      },
      {
       "output_type": "stream",
       "stream": "stdout",
       "text": [
        "\n",
        "[ 0.          0.         -0.00603622  0.21206897  0.25962733  0.00794899]"
       ]
      },
      {
       "output_type": "stream",
       "stream": "stdout",
       "text": [
        "\n",
        "[ 0.         -0.00603622 -0.05882353 -0.11336634 -0.03536585 -0.02120597]"
       ]
      },
      {
       "output_type": "stream",
       "stream": "stdout",
       "text": [
        "\n",
        "[ 0.         -0.00380228 -0.01737452  0.16526104  0.19761431  0.00743237]"
       ]
      },
      {
       "output_type": "stream",
       "stream": "stdout",
       "text": [
        "\n",
        "[ 0.         -0.00204918 -0.03675048 -0.06716567 -0.01932773 -0.01960292]"
       ]
      },
      {
       "output_type": "stream",
       "stream": "stdout",
       "text": [
        "\n",
        "[ 0.         -0.0040568  -0.0512334  -0.07857143 -0.08391039 -0.02428482]"
       ]
      },
      {
       "output_type": "stream",
       "stream": "stdout",
       "text": [
        "\n",
        "[-0.00412371 -0.00978474 -0.06445312 -0.21356736 -0.10208333 -0.03189087]"
       ]
      },
      {
       "output_type": "stream",
       "stream": "stdout",
       "text": [
        "\n",
        "[ 0.         -0.00583658 -0.03379722  0.07392638  0.02851562 -0.01050449]"
       ]
      },
      {
       "output_type": "stream",
       "stream": "stdout",
       "text": [
        "\n",
        "[-0.0020202   0.         -0.02479339  0.05436508  0.03395445 -0.00875419]"
       ]
      },
      {
       "output_type": "stream",
       "stream": "stdout",
       "text": [
        "\n",
        "[ 0.         -0.00191205 -0.00992063  0.14559118  0.13667335 -0.00092847]"
       ]
      },
      {
       "output_type": "stream",
       "stream": "stdout",
       "text": [
        "\n",
        "[-0.00197628 -0.00185529 -0.02851324 -0.07016807 -0.04055118 -0.01715477]"
       ]
      },
      {
       "output_type": "stream",
       "stream": "stdout",
       "text": [
        "\n",
        "[ 0.         -0.00208333 -0.01616162  0.10051546  0.07831094 -0.00629353]"
       ]
      },
      {
       "output_type": "stream",
       "stream": "stdout",
       "text": [
        "\n",
        "[-0.0018797  -0.00193424 -0.03118503  0.00510204  0.01115538 -0.01636321]"
       ]
      },
      {
       "output_type": "stream",
       "stream": "stdout",
       "text": [
        "\n",
        "[-0.00222717 -0.00199601 -0.03339882 -0.04736347 -0.0019802  -0.01491837]"
       ]
      },
      {
       "output_type": "stream",
       "stream": "stdout",
       "text": [
        "\n",
        "[ 0.         -0.00204499 -0.0155642   0.07744722  0.02614108 -0.00484815]"
       ]
      },
      {
       "output_type": "stream",
       "stream": "stdout",
       "text": [
        "\n",
        "[ 0.         -0.00400802 -0.03006012 -0.00339806 -0.00550098 -0.01641741]"
       ]
      },
      {
       "output_type": "stream",
       "stream": "stdout",
       "text": [
        "\n",
        "[-0.00194175 -0.00400802 -0.02982107 -0.05677966 -0.02398453 -0.01768079]"
       ]
      },
      {
       "output_type": "stream",
       "stream": "stdout",
       "text": [
        "\n",
        "[ 0.         -0.0039604  -0.02020202  0.03181818  0.02111554 -0.01193852]"
       ]
      },
      {
       "output_type": "stream",
       "stream": "stdout",
       "text": [
        "\n",
        "[ 0.          0.         -0.02898551 -0.03683128 -0.02319392 -0.02257273]"
       ]
      },
      {
       "output_type": "stream",
       "stream": "stdout",
       "text": [
        "\n",
        "[ 0.          0.         -0.01629328  0.00166341  0.02954092 -0.01695088]"
       ]
      },
      {
       "output_type": "stream",
       "stream": "stdout",
       "text": [
        "\n",
        "[ 0.         -0.00408163 -0.01814516  0.07244898  0.08174603 -0.00595519]"
       ]
      },
      {
       "output_type": "stream",
       "stream": "stdout",
       "text": [
        "\n",
        "[ 0.         -0.004      -0.02884615  0.01872428 -0.01589147 -0.01849553]"
       ]
      },
      {
       "output_type": "stream",
       "stream": "stdout",
       "text": [
        "\n",
        "[ 0.         -0.00560748 -0.01606426 -0.00452794 -0.03267717 -0.02392137]"
       ]
      },
      {
       "output_type": "stream",
       "stream": "stdout",
       "text": [
        "\n",
        "[ 0.          0.         -0.02434077 -0.01344969  0.00542636 -0.01908929]"
       ]
      },
      {
       "output_type": "stream",
       "stream": "stdout",
       "text": [
        "\n",
        "[ 0.         -0.01183432 -0.02761341 -0.01575875  0.05102041 -0.01577013]"
       ]
      },
      {
       "output_type": "stream",
       "stream": "stdout",
       "text": [
        "\n",
        "[ 0.         -0.0020284  -0.01734104 -0.00463918  0.00281124 -0.01782981]"
       ]
      },
      {
       "output_type": "stream",
       "stream": "stdout",
       "text": [
        "\n",
        "[ 0.         -0.00614754 -0.0472103  -0.05562249 -0.01459566 -0.01741402]"
       ]
      },
      {
       "output_type": "stream",
       "stream": "stdout",
       "text": [
        "\n",
        "[ 0.         -0.00195695 -0.01996008  0.01452991  0.02993492 -0.01728073]"
       ]
      },
      {
       "output_type": "stream",
       "stream": "stdout",
       "text": [
        "\n",
        "[-0.00214592 -0.002      -0.01526718  0.06428571 -0.03300199 -0.0183494 ]"
       ]
      },
      {
       "output_type": "stream",
       "stream": "stdout",
       "text": [
        "\n",
        "[ 0.         -0.0019305  -0.02771855 -0.010587    0.03952096 -0.01589565]"
       ]
      },
      {
       "output_type": "stream",
       "stream": "stdout",
       "text": [
        "\n",
        "[-0.00198807 -0.00389105 -0.02109705  0.02864271  0.00895522 -0.01661997]"
       ]
      },
      {
       "output_type": "stream",
       "stream": "stdout",
       "text": [
        "\n",
        "[ 0.         -0.00196078 -0.02489627 -0.00714286  0.0244898  -0.01567226]"
       ]
      },
      {
       "output_type": "stream",
       "stream": "stdout",
       "text": [
        "\n",
        "[ 0.         -0.00591716 -0.01014199 -0.0001006   0.00808081 -0.01679263]"
       ]
      },
      {
       "output_type": "stream",
       "stream": "stdout",
       "text": [
        "\n",
        "Optimization terminated successfully.\n",
        "         Current function value: 0.000485\n",
        "         Iterations: 20\n",
        "         Function evaluations: 42\n",
        "[ 0.          0.         -0.0155642  -0.01144578  0.0219917  -0.01726655]"
       ]
      },
      {
       "output_type": "stream",
       "stream": "stdout",
       "text": [
        "\n",
        "[-0.00207469 -0.00790514 -0.10204082 -0.32859961 -0.03425047 -0.01753501]"
       ]
      },
      {
       "output_type": "stream",
       "stream": "stdout",
       "text": [
        "\n",
        "[ 0.         -0.00809717 -0.0761523  -0.27704591 -0.01282306 -0.01689764]"
       ]
      },
      {
       "output_type": "stream",
       "stream": "stdout",
       "text": [
        "\n",
        "[ 0.         -0.00206186 -0.01590457 -0.12371134  0.12967807  0.01073717]"
       ]
      },
      {
       "output_type": "stream",
       "stream": "stdout",
       "text": [
        "\n",
        "[-0.00209205 -0.02788845 -0.09638554 -0.46404715 -0.08927126 -0.03078076]"
       ]
      },
      {
       "output_type": "stream",
       "stream": "stdout",
       "text": [
        "\n",
        "[-0.00191939 -0.01682243 -0.08       -0.32525253 -0.04495798 -0.01836377]"
       ]
      },
      {
       "output_type": "stream",
       "stream": "stdout",
       "text": [
        "\n",
        "[-0.008      -0.04752475 -0.1913215  -0.48650794 -0.0943299  -0.02991136]"
       ]
      },
      {
       "output_type": "stream",
       "stream": "stdout",
       "text": [
        "\n",
        "[ 0.          0.         -0.02631579 -0.11968811  0.0545929   0.00061517]"
       ]
      },
      {
       "output_type": "stream",
       "stream": "stdout",
       "text": [
        "\n",
        "[ 0.          0.         -0.00189753  0.01496881  0.23645418  0.00997411]"
       ]
      },
      {
       "output_type": "stream",
       "stream": "stdout",
       "text": [
        "\n",
        "[ 0.         -0.00402414 -0.00411523 -0.07345309  0.18791749  0.01390562]"
       ]
      },
      {
       "output_type": "stream",
       "stream": "stdout",
       "text": [
        "\n",
        "[ 0.         -0.002079   -0.01596806 -0.03412698  0.16983806  0.01292543]"
       ]
      },
      {
       "output_type": "stream",
       "stream": "stdout",
       "text": [
        "\n",
        "[ 0.          0.         -0.00391389  0.08047809  0.29111776  0.02211351]"
       ]
      },
      {
       "output_type": "stream",
       "stream": "stdout",
       "text": [
        "\n",
        "[ 0.          0.         -0.01149425 -0.04505929  0.20490605  0.01279963]"
       ]
      },
      {
       "output_type": "stream",
       "stream": "stdout",
       "text": [
        "\n",
        "[ 0.          0.         -0.0102459   0.06788618  0.3489858   0.0292543 ]"
       ]
      },
      {
       "output_type": "stream",
       "stream": "stdout",
       "text": [
        "\n",
        "[ 0.         -0.0040404  -0.03651116 -0.20194175  0.05423892 -0.00141142]"
       ]
      },
      {
       "output_type": "stream",
       "stream": "stdout",
       "text": [
        "\n",
        "[ 0.          0.         -0.00811359  0.00990099  0.20375494  0.01841606]"
       ]
      },
      {
       "output_type": "stream",
       "stream": "stdout",
       "text": [
        "\n",
        "[ 0.          0.         -0.01002004 -0.12806324  0.09110672  0.00800252]"
       ]
      },
      {
       "output_type": "stream",
       "stream": "stdout",
       "text": [
        "\n",
        "[-0.002      -0.00389105 -0.03853565 -0.18683128  0.025      -0.00482106]"
       ]
      },
      {
       "output_type": "stream",
       "stream": "stdout",
       "text": [
        "\n",
        "[-0.00208768 -0.00628931 -0.03829787 -0.21767068  0.00757576 -0.00162636]"
       ]
      },
      {
       "output_type": "stream",
       "stream": "stdout",
       "text": [
        "\n",
        "[ 0.         -0.00199203 -0.02584493 -0.06722338  0.14527559  0.00948445]"
       ]
      },
      {
       "output_type": "stream",
       "stream": "stdout",
       "text": [
        "\n",
        "[-0.00205339 -0.00201613 -0.00851064  0.00492424  0.20329341  0.01812088]"
       ]
      },
      {
       "output_type": "stream",
       "stream": "stdout",
       "text": [
        "\n",
        "[-0.00625    -0.0078125  -0.01727447 -0.16403509  0.04883041  0.003218  ]"
       ]
      },
      {
       "output_type": "stream",
       "stream": "stdout",
       "text": [
        "\n",
        "[ 0.         -0.00204918 -0.00407332 -0.05450902  0.11923077  0.00373421]"
       ]
      },
      {
       "output_type": "stream",
       "stream": "stdout",
       "text": [
        "\n",
        "[ 0.         -0.0020202  -0.00757576 -0.01676892  0.14841897 -0.00180097]"
       ]
      },
      {
       "output_type": "stream",
       "stream": "stdout",
       "text": [
        "\n",
        "[ 0.         -0.00193424 -0.02123142 -0.16065574  0.0868932  -0.00213877]"
       ]
      },
      {
       "output_type": "stream",
       "stream": "stdout",
       "text": [
        "\n",
        "[ 0.          0.         -0.01446281 -0.09774127  0.17128514  0.00925964]"
       ]
      },
      {
       "output_type": "stream",
       "stream": "stdout",
       "text": [
        "\n",
        "[ 0.          0.         -0.02074689 -0.09674797  0.13225806  0.00033502]"
       ]
      },
      {
       "output_type": "stream",
       "stream": "stdout",
       "text": [
        "\n",
        "[ 0.          0.         -0.01606426 -0.0703252   0.11052104  0.00430939]"
       ]
      },
      {
       "output_type": "stream",
       "stream": "stdout",
       "text": [
        "\n",
        "[ 0.         -0.00381679 -0.01796407 -0.06693227  0.12710843  0.0037889 ]"
       ]
      },
      {
       "output_type": "stream",
       "stream": "stdout",
       "text": [
        "\n",
        "[ 0.          0.         -0.01422764 -0.12411067  0.09267782  0.00120602]"
       ]
      },
      {
       "output_type": "stream",
       "stream": "stdout",
       "text": [
        "\n",
        "[ 0.         -0.00197628 -0.01414141 -0.06326531  0.13571429  0.00645477]"
       ]
      },
      {
       "output_type": "stream",
       "stream": "stdout",
       "text": [
        "\n",
        "[ 0.         -0.00208333 -0.0212766  -0.054       0.15851064  0.00784226]"
       ]
      },
      {
       "output_type": "stream",
       "stream": "stdout",
       "text": [
        "\n",
        "[ 0.         -0.00618557 -0.00590551 -0.09700855  0.11705653  0.00246647]"
       ]
      },
      {
       "output_type": "stream",
       "stream": "stdout",
       "text": [
        "\n",
        "[ 0.         -0.00389864 -0.00195695 -0.05148515  0.164       0.00707875]"
       ]
      },
      {
       "output_type": "stream",
       "stream": "stdout",
       "text": [
        "\n",
        "[ 0.         -0.00196464 -0.01619433 -0.08483607  0.10233645  0.00437904]"
       ]
      },
      {
       "output_type": "stream",
       "stream": "stdout",
       "text": [
        "\n",
        "[ 0.          0.         -0.01431493 -0.04015748  0.19055118  0.0074835 ]"
       ]
      },
      {
       "output_type": "stream",
       "stream": "stdout",
       "text": [
        "\n",
        "[-0.00204918 -0.00205761 -0.00610998 -0.08709056  0.11369168  0.00499822]"
       ]
      },
      {
       "output_type": "stream",
       "stream": "stdout",
       "text": [
        "\n",
        "[ 0.         -0.00591716 -0.0259481  -0.11818182  0.10498008  0.00095456]"
       ]
      },
      {
       "output_type": "stream",
       "stream": "stdout",
       "text": [
        "\n",
        "[ 0.          0.         -0.02140078 -0.07431907  0.13785047  0.00580278]"
       ]
      },
      {
       "output_type": "stream",
       "stream": "stdout",
       "text": [
        "\n",
        "[-0.00197628  0.         -0.01383399 -0.1         0.12755102  0.00377449]"
       ]
      },
      {
       "output_type": "stream",
       "stream": "stdout",
       "text": [
        "\n",
        "[ 0.         -0.00197239 -0.01414141 -0.10210325  0.12559055  0.00325892]"
       ]
      },
      {
       "output_type": "stream",
       "stream": "stdout",
       "text": [
        "\n",
        "[ 0.          0.         -0.00970874 -0.07530364  0.12875244  0.00334635]"
       ]
      },
      {
       "output_type": "stream",
       "stream": "stdout",
       "text": [
        "\n",
        "[-0.00204082 -0.0040568  -0.01229508 -0.09211087  0.1297619   0.00590952]"
       ]
      },
      {
       "output_type": "stream",
       "stream": "stdout",
       "text": [
        "\n",
        "[ 0.         -0.00406504 -0.01263538 -0.03092369  0.12724665  0.00592655]"
       ]
      },
      {
       "output_type": "stream",
       "stream": "stdout",
       "text": [
        "\n",
        "Optimization terminated successfully.\n",
        "         Current function value: 0.017222\n",
        "         Iterations: 17\n",
        "         Function evaluations: 43\n",
        "[ 0.         -0.002079   -0.0101626  -0.05458248  0.09543611  0.00231854]"
       ]
      },
      {
       "output_type": "stream",
       "stream": "stdout",
       "text": [
        "\n",
        "[ 0.04801587 -0.01553398 -0.01938776 -0.06054688 -0.05138067 -0.00137428]"
       ]
      },
      {
       "output_type": "stream",
       "stream": "stdout",
       "text": [
        "\n",
        "[ 0.04797571 -0.00609756 -0.01521739  0.00294695 -0.01440678  0.00097391]"
       ]
      },
      {
       "output_type": "stream",
       "stream": "stdout",
       "text": [
        "\n",
        "[ 0.04807692 -0.01298701  0.01707819  0.1765286   0.11019417  0.02625507]"
       ]
      },
      {
       "output_type": "stream",
       "stream": "stdout",
       "text": [
        "\n",
        "[ 0.0439759  -0.02123552 -0.06958763 -0.13975155 -0.10959596 -0.014662  ]"
       ]
      },
      {
       "output_type": "stream",
       "stream": "stdout",
       "text": [
        "\n",
        "[ 0.04377593 -0.01022495 -0.01142035 -0.06378601 -0.0375502  -0.00113021]"
       ]
      },
      {
       "output_type": "stream",
       "stream": "stdout",
       "text": [
        "\n",
        "[ 0.04178645 -0.04296875 -0.10581854 -0.18823529 -0.09357977 -0.01389654]"
       ]
      },
      {
       "output_type": "stream",
       "stream": "stdout",
       "text": [
        "\n",
        "[ 0.05       -0.00421053  0.03802395  0.17545639  0.07007722  0.01856061]"
       ]
      },
      {
       "output_type": "stream",
       "stream": "stdout",
       "text": [
        "\n",
        "[ 0.0479716  -0.02559055 -0.06952191 -0.11169102 -0.09537815 -0.02912452]"
       ]
      },
      {
       "output_type": "stream",
       "stream": "stdout",
       "text": [
        "\n",
        "[ 0.02979798 -0.08414873 -0.20211864 -0.33640082 -0.11825397 -0.0382918 ]"
       ]
      },
      {
       "output_type": "stream",
       "stream": "stdout",
       "text": [
        "\n",
        "[ 0.05       -0.00784314  0.0109375   0.07429719 -0.00255198  0.00683031]"
       ]
      },
      {
       "output_type": "stream",
       "stream": "stdout",
       "text": [
        "\n",
        "[ 0.05       -0.00729927 -0.00858586  0.07790927  0.02857143  0.00413595]"
       ]
      },
      {
       "output_type": "stream",
       "stream": "stdout",
       "text": [
        "\n",
        "[ 0.05       -0.00787402  0.02713098  0.19108911  0.16485149  0.02868586]"
       ]
      },
      {
       "output_type": "stream",
       "stream": "stdout",
       "text": [
        "\n",
        "[ 0.04790795 -0.0155642  -0.04014675 -0.07287449 -0.06423002 -0.01216625]"
       ]
      },
      {
       "output_type": "stream",
       "stream": "stdout",
       "text": [
        "\n",
        "[ 0.05       -0.0039604   0.00296524  0.13104839  0.06252372  0.01685008]"
       ]
      },
      {
       "output_type": "stream",
       "stream": "stdout",
       "text": [
        "\n",
        "[ 0.05       -0.02586207 -0.00168986 -0.03419593 -0.06129032 -0.00633493]"
       ]
      },
      {
       "output_type": "stream",
       "stream": "stdout",
       "text": [
        "\n",
        "[ 0.04395161 -0.01212121 -0.05082305 -0.12352941 -0.09632207 -0.00303867]"
       ]
      },
      {
       "output_type": "stream",
       "stream": "stdout",
       "text": [
        "\n",
        "[ 0.05       -0.01229508  0.01311475  0.0687885   0.02515275  0.00205025]"
       ]
      },
      {
       "output_type": "stream",
       "stream": "stdout",
       "text": [
        "\n",
        "[ 0.04613153 -0.0060241   0.01680498  0.04579439  0.00625    -0.00070977]"
       ]
      },
      {
       "output_type": "stream",
       "stream": "stdout",
       "text": [
        "\n",
        "[ 0.04796748 -0.01397206 -0.01493506 -0.0218254  -0.05820312 -0.00578194]"
       ]
      },
      {
       "output_type": "stream",
       "stream": "stdout",
       "text": [
        "\n",
        "[ 0.04806202 -0.00609756 -0.02959184 -0.04738878 -0.03565489 -0.00674978]"
       ]
      },
      {
       "output_type": "stream",
       "stream": "stdout",
       "text": [
        "\n",
        "[ 0.05       -0.00776699 -0.0110998   0.0141129   0.00904573  0.00016841]"
       ]
      },
      {
       "output_type": "stream",
       "stream": "stdout",
       "text": [
        "\n",
        "[ 0.05       -0.00202429  0.00275591  0.03831041 -0.014      -0.00375665]"
       ]
      },
      {
       "output_type": "stream",
       "stream": "stdout",
       "text": [
        "\n",
        "[ 0.05       -0.01006036  0.0204142   0.10658915  0.04191919  0.00515101]"
       ]
      },
      {
       "output_type": "stream",
       "stream": "stdout",
       "text": [
        "\n",
        "[ 0.04593496 -0.01666667 -0.00050505 -0.00283554 -0.02155963 -0.00383507]"
       ]
      },
      {
       "output_type": "stream",
       "stream": "stdout",
       "text": [
        "\n",
        "[ 0.05       -0.00590551  0.01414343  0.12096774  0.00728155  0.00357147]"
       ]
      },
      {
       "output_type": "stream",
       "stream": "stdout",
       "text": [
        "\n",
        "[ 0.0481203  -0.00804829 -0.04572301  0.00968992 -0.03912134 -0.00337235]"
       ]
      },
      {
       "output_type": "stream",
       "stream": "stdout",
       "text": [
        "\n",
        "[ 0.05       -0.01153846 -0.00095541  0.05535055  0.00230461 -0.00012324]"
       ]
      },
      {
       "output_type": "stream",
       "stream": "stdout",
       "text": [
        "\n",
        "[ 0.05       -0.00604839  0.01734694  0.00619835  0.00725806  0.00091434]"
       ]
      },
      {
       "output_type": "stream",
       "stream": "stdout",
       "text": [
        "\n",
        "[ 0.04599198 -0.01181102 -0.01625259 -0.02112676 -0.01523437 -0.00393378]"
       ]
      },
      {
       "output_type": "stream",
       "stream": "stdout",
       "text": [
        "\n",
        "[ 0.05       -0.01014199 -0.02243461 -0.01405622  0.00010571  0.0006872 ]"
       ]
      },
      {
       "output_type": "stream",
       "stream": "stdout",
       "text": [
        "\n",
        "[ 0.0479798  -0.00386847 -0.0162768   0.006      -0.01956522  0.00034276]"
       ]
      },
      {
       "output_type": "stream",
       "stream": "stdout",
       "text": [
        "\n",
        "[ 0.05       -0.01417004  0.00289079  0.03441296 -0.01680761  0.00336756]"
       ]
      },
      {
       "output_type": "stream",
       "stream": "stdout",
       "text": [
        "\n",
        "[ 0.04807322 -0.01242236 -0.03151093 -0.02529183 -0.04072165 -0.0029859 ]"
       ]
      },
      {
       "output_type": "stream",
       "stream": "stdout",
       "text": [
        "\n",
        "[ 0.05       -0.00990099 -0.0013347   0.0631068  -0.03571429 -0.003061  ]"
       ]
      },
      {
       "output_type": "stream",
       "stream": "stdout",
       "text": [
        "\n",
        "[ 0.05       -0.01030928  0.00047619  0.0698324  -0.02835052 -0.00098478]"
       ]
      },
      {
       "output_type": "stream",
       "stream": "stdout",
       "text": [
        "\n",
        "[ 0.05       -0.00392927  0.004       0.02352941 -0.02784679  0.00025291]"
       ]
      },
      {
       "output_type": "stream",
       "stream": "stdout",
       "text": [
        "\n",
        "[ 0.05       -0.01340996 -0.01049149  0.00200803 -0.01523437 -0.00040259]"
       ]
      },
      {
       "output_type": "stream",
       "stream": "stdout",
       "text": [
        "\n",
        "[ 0.05       -0.00610998 -0.00387931 -0.00095969 -0.03014981 -0.00332149]"
       ]
      },
      {
       "output_type": "stream",
       "stream": "stdout",
       "text": [
        "\n",
        "Optimization terminated successfully.\n",
        "         Current function value: 0.002788\n",
        "         Iterations: 19\n",
        "         Function evaluations: 38\n",
        "[ 0.048      -0.0040404  -0.02142857  0.04        0.00991471  0.00293612]"
       ]
      },
      {
       "output_type": "stream",
       "stream": "stdout",
       "text": [
        "\n",
        "[-0.00610998 -0.01626016 -0.02676768  0.0765625   0.12170385  0.00130698]"
       ]
      },
      {
       "output_type": "stream",
       "stream": "stdout",
       "text": [
        "\n",
        "[ 0.         -0.00803213 -0.00719921  0.114       0.12195122 -0.00033745]"
       ]
      },
      {
       "output_type": "stream",
       "stream": "stdout",
       "text": [
        "\n",
        "[ 0.         -0.0019084   0.01086106  0.28761905  0.23242188  0.02728783]"
       ]
      },
      {
       "output_type": "stream",
       "stream": "stdout",
       "text": [
        "\n",
        "[-0.00197628 -0.022      -0.05734463 -0.02426614  0.0502008  -0.01488262]"
       ]
      },
      {
       "output_type": "stream",
       "stream": "stdout",
       "text": [
        "\n",
        "[-0.0040568  -0.01606426 -0.02883817  0.072       0.11857708 -0.00072878]"
       ]
      },
      {
       "output_type": "stream",
       "stream": "stdout",
       "text": [
        "\n",
        "[-0.0083682  -0.04940711 -0.10909091 -0.0809816   0.03944773 -0.01428375]"
       ]
      },
      {
       "output_type": "stream",
       "stream": "stdout",
       "text": [
        "\n",
        "[-0.00779727 -0.05928854 -0.21556017 -0.19875519  0.01479915 -0.04279966]"
       ]
      },
      {
       "output_type": "stream",
       "stream": "stdout",
       "text": [
        "\n",
        "[-0.00406504 -0.04288499 -0.10090543 -0.07193676  0.03366337 -0.02355893]"
       ]
      },
      {
       "output_type": "stream",
       "stream": "stdout",
       "text": [
        "\n",
        "[-0.0113852  -0.04554865 -0.13699187 -0.16047904  0.04752066 -0.0208019 ]"
       ]
      },
      {
       "output_type": "stream",
       "stream": "stdout",
       "text": [
        "\n",
        "[-0.0019802  -0.01612903 -0.02346939 -0.00469667  0.1037182  -0.00432491]"
       ]
      },
      {
       "output_type": "stream",
       "stream": "stdout",
       "text": [
        "\n",
        "[-0.00191205 -0.00410678 -0.0052017   0.10503018  0.11500975 -0.00523505]"
       ]
      },
      {
       "output_type": "stream",
       "stream": "stdout",
       "text": [
        "\n",
        "[-0.00764818 -0.01803607 -0.08203883 -0.06208251  0.07692308 -0.00897044]"
       ]
      },
      {
       "output_type": "stream",
       "stream": "stdout",
       "text": [
        "\n",
        "[-0.00590551 -0.03193613 -0.07475634 -0.05843621  0.0443038  -0.02119267]"
       ]
      },
      {
       "output_type": "stream",
       "stream": "stdout",
       "text": [
        "\n",
        "[-0.00809717 -0.0270793  -0.13726592 -0.11515152  0.0359408  -0.02807138]"
       ]
      },
      {
       "output_type": "stream",
       "stream": "stdout",
       "text": [
        "\n",
        "[-0.00391389 -0.02286902 -0.03057851  0.01199226  0.06237425 -0.00731013]"
       ]
      },
      {
       "output_type": "stream",
       "stream": "stdout",
       "text": [
        "\n",
        "[-0.00198413 -0.01380671 -0.04780439  0.01776938  0.11680328 -0.00043629]"
       ]
      },
      {
       "output_type": "stream",
       "stream": "stdout",
       "text": [
        "\n",
        "[ 0.         -0.01012146 -0.00979381  0.01846758  0.09003831 -0.00927468]"
       ]
      },
      {
       "output_type": "stream",
       "stream": "stdout",
       "text": [
        "\n",
        "[-0.00385356 -0.02851711 -0.07323232 -0.07976424  0.0440613  -0.02151426]"
       ]
      },
      {
       "output_type": "stream",
       "stream": "stdout",
       "text": [
        "\n",
        "[-0.0019084  -0.01945525 -0.08163065 -0.07901235  0.07142857 -0.015247  ]"
       ]
      },
      {
       "output_type": "stream",
       "stream": "stdout",
       "text": [
        "\n",
        "[-0.0056391  -0.01414141 -0.07650602 -0.05042373  0.05660377 -0.01012199]"
       ]
      },
      {
       "output_type": "stream",
       "stream": "stdout",
       "text": [
        "\n",
        "[-0.0019084  -0.01431493 -0.04375    -0.00629921  0.07581967 -0.00810091]"
       ]
      },
      {
       "output_type": "stream",
       "stream": "stdout",
       "text": [
        "\n",
        "[-0.00409836 -0.02217742 -0.0387574   0.04262295  0.11498973 -0.00560318]"
       ]
      },
      {
       "output_type": "stream",
       "stream": "stdout",
       "text": [
        "\n",
        "[-0.00409836 -0.03232323 -0.07252964 -0.04891519  0.07246377 -0.0140451 ]"
       ]
      },
      {
       "output_type": "stream",
       "stream": "stdout",
       "text": [
        "\n",
        "[ 0.         -0.00379507 -0.04722222  0.0123506   0.10590631 -0.00485251]"
       ]
      },
      {
       "output_type": "stream",
       "stream": "stdout",
       "text": [
        "\n",
        "[-0.00402414 -0.01744186 -0.05       -0.02307692  0.05742574 -0.01259037]"
       ]
      },
      {
       "output_type": "stream",
       "stream": "stdout",
       "text": [
        "\n",
        "[-0.00184843 -0.01844262 -0.03232932  0.0497992   0.09751434 -0.00300757]"
       ]
      },
      {
       "output_type": "stream",
       "stream": "stdout",
       "text": [
        "\n",
        "[ 0.         -0.02811245 -0.05578842  0.0114053   0.08227848 -0.01214749]"
       ]
      },
      {
       "output_type": "stream",
       "stream": "stdout",
       "text": [
        "\n",
        "[-0.00199203 -0.02745098 -0.086      -0.04822134  0.04545455 -0.01971445]"
       ]
      },
      {
       "output_type": "stream",
       "stream": "stdout",
       "text": [
        "\n",
        "[-0.00208333 -0.03191489 -0.03481262 -0.04489796  0.07942974 -0.01300054]"
       ]
      },
      {
       "output_type": "stream",
       "stream": "stdout",
       "text": [
        "\n",
        "[ 0.         -0.01437372 -0.06618257  0.02115768  0.06563707 -0.01103587]"
       ]
      },
      {
       "output_type": "stream",
       "stream": "stdout",
       "text": [
        "\n",
        "[-0.0042735  -0.01652893 -0.05472279  0.02474227  0.08901515 -0.00843426]"
       ]
      },
      {
       "output_type": "stream",
       "stream": "stdout",
       "text": [
        "\n",
        "[-0.00425532 -0.00619835 -0.04375    -0.00285132  0.06586826 -0.00913578]"
       ]
      },
      {
       "output_type": "stream",
       "stream": "stdout",
       "text": [
        "\n",
        "[-0.00421941 -0.01757812 -0.04168443  0.03032787  0.08333333 -0.00455611]"
       ]
      },
      {
       "output_type": "stream",
       "stream": "stdout",
       "text": [
        "\n",
        "[-0.0019802  -0.0185567  -0.02115385  0.05841785  0.08686869 -0.0074154 ]"
       ]
      },
      {
       "output_type": "stream",
       "stream": "stdout",
       "text": [
        "\n",
        "[ 0.         -0.00965251 -0.04183673  0.02126789  0.08484848 -0.00902088]"
       ]
      },
      {
       "output_type": "stream",
       "stream": "stdout",
       "text": [
        "\n",
        "[-0.00378072 -0.03059273 -0.05629921 -0.02896825  0.06841046 -0.00807392]"
       ]
      },
      {
       "output_type": "stream",
       "stream": "stdout",
       "text": [
        "\n",
        "[-0.00193798 -0.02362205 -0.03653846  0.04023904  0.09406953 -0.0071637 ]"
       ]
      },
      {
       "output_type": "stream",
       "stream": "stdout",
       "text": [
        "\n",
        "[-0.00193424 -0.01764706 -0.05103093  0.02355372  0.06736842 -0.00798692]"
       ]
      },
      {
       "output_type": "stream",
       "stream": "stdout",
       "text": [
        "\n",
        "[-0.00604839 -0.01935484 -0.05358566 -0.0177686   0.08805031 -0.01262412]"
       ]
      },
      {
       "output_type": "stream",
       "stream": "stdout",
       "text": [
        "\n",
        "[ 0.         -0.01747573 -0.05687023 -0.0199187   0.0665362  -0.01150878]"
       ]
      },
      {
       "output_type": "stream",
       "stream": "stdout",
       "text": [
        "\n",
        "[-0.00203252 -0.01495726 -0.03179959  0.01584158  0.10204082 -0.00779082]"
       ]
      },
      {
       "output_type": "stream",
       "stream": "stdout",
       "text": [
        "\n",
        "[-0.0020284  -0.01160542 -0.06088296 -0.0045082   0.05102041 -0.00964016]"
       ]
      },
      {
       "output_type": "stream",
       "stream": "stdout",
       "text": [
        "\n",
        "[ 0.         -0.02558635 -0.05357815 -0.00714286  0.08       -0.00782086]"
       ]
      },
      {
       "output_type": "stream",
       "stream": "stdout",
       "text": [
        "\n",
        "[-0.00616016 -0.02070393 -0.06721612 -0.03043478  0.08349901 -0.00985243]"
       ]
      },
      {
       "output_type": "stream",
       "stream": "stdout",
       "text": [
        "\n",
        "[-0.00790514 -0.03100775 -0.05970464 -0.02725451  0.088      -0.00851019]"
       ]
      },
      {
       "output_type": "stream",
       "stream": "stdout",
       "text": [
        "\n",
        "[-0.00394477 -0.01383399 -0.05852713 -0.01462451  0.07070707 -0.00800734]"
       ]
      },
      {
       "output_type": "stream",
       "stream": "stdout",
       "text": [
        "\n",
        "[-0.00603622 -0.02414487 -0.03627451 -0.02376238  0.08316832 -0.00941441]"
       ]
      },
      {
       "output_type": "stream",
       "stream": "stdout",
       "text": [
        "\n",
        "[-0.00188324 -0.02067669 -0.05546875  0.0040404   0.08139535 -0.0078577 ]"
       ]
      },
      {
       "output_type": "stream",
       "stream": "stdout",
       "text": [
        "\n",
        "[-0.01033058 -0.01014199 -0.06530398 -0.02130178  0.08174905 -0.00889383]"
       ]
      },
      {
       "output_type": "stream",
       "stream": "stdout",
       "text": [
        "\n",
        "[-0.00402414 -0.02222222 -0.02905138 -0.03580247  0.07474747 -0.01009681]"
       ]
      },
      {
       "output_type": "stream",
       "stream": "stdout",
       "text": [
        "\n",
        "[-0.00395257 -0.03632479 -0.05351967 -0.00273973  0.09240246 -0.00593243]"
       ]
      },
      {
       "output_type": "stream",
       "stream": "stdout",
       "text": [
        "\n",
        "[ 0.         -0.01757812 -0.04708738 -0.01077844  0.0872211  -0.00913312]"
       ]
      },
      {
       "output_type": "stream",
       "stream": "stdout",
       "text": [
        "\n",
        "Optimization terminated successfully.\n",
        "         Current function value: 0.005561\n",
        "         Iterations: 21\n",
        "         Function evaluations: 52\n",
        "[-0.00402414 -0.01980198 -0.06656442  0.00613027  0.08097166 -0.00617378]"
       ]
      },
      {
       "output_type": "stream",
       "stream": "stdout",
       "text": [
        "\n",
        "[ 0.04607073 -0.01217039  0.03509128  0.32791165  0.12966601  0.01122201]"
       ]
      },
      {
       "output_type": "stream",
       "stream": "stdout",
       "text": [
        "\n",
        "[ 0.04414063 -0.00828157  0.04810379  0.3265625   0.12981744  0.00889037]"
       ]
      },
      {
       "output_type": "stream",
       "stream": "stdout",
       "text": [
        "\n",
        "[ 0.05       -0.00202429  0.0765625   0.48449692  0.21235521  0.03781733]"
       ]
      },
      {
       "output_type": "stream",
       "stream": "stdout",
       "text": [
        "\n",
        "[ 0.04610895 -0.00603622  0.01245136  0.16673307  0.06679764 -0.00407066]"
       ]
      },
      {
       "output_type": "stream",
       "stream": "stdout",
       "text": [
        "\n",
        "[ 0.04617591 -0.01419878  0.01860465  0.28863179  0.11041667  0.00812989]"
       ]
      },
      {
       "output_type": "stream",
       "stream": "stdout",
       "text": [
        "\n",
        "[ 0.04792531 -0.05327869 -0.08540434  0.16726908  0.05870841 -0.00363934]"
       ]
      },
      {
       "output_type": "stream",
       "stream": "stdout",
       "text": [
        "\n",
        "[ 0.03752599 -0.06719368 -0.14380165  0.07064777  0.03617021 -0.03324046]"
       ]
      },
      {
       "output_type": "stream",
       "stream": "stdout",
       "text": [
        "\n",
        "[ 0.00943205 -0.18238994 -0.36561886 -0.07703863  0.00393701 -0.06886863]"
       ]
      },
      {
       "output_type": "stream",
       "stream": "stdout",
       "text": [
        "\n",
        "[ 0.04605523 -0.05906314 -0.09178082  0.11553672  0.03346457 -0.01708241]"
       ]
      },
      {
       "output_type": "stream",
       "stream": "stdout",
       "text": [
        "\n",
        "[ 0.03544699 -0.06639004 -0.14110672  0.0488189   0.02681992 -0.03099988]"
       ]
      },
      {
       "output_type": "stream",
       "stream": "stdout",
       "text": [
        "\n",
        "[ 0.02703549 -0.10909091 -0.20252101  0.01985138  0.01626016 -0.02817497]"
       ]
      },
      {
       "output_type": "stream",
       "stream": "stdout",
       "text": [
        "\n",
        "[ 0.02270955 -0.12204724 -0.30304183 -0.04361702  0.00408163 -0.04425147]"
       ]
      },
      {
       "output_type": "stream",
       "stream": "stdout",
       "text": [
        "\n",
        "[ 0.04607073 -0.04338843 -0.01850312  0.22044534  0.04752475 -0.00301973]"
       ]
      },
      {
       "output_type": "stream",
       "stream": "stdout",
       "text": [
        "\n",
        "[ 0.03577236 -0.08064516 -0.18375734  0.0114786   0.01434426 -0.03129489]"
       ]
      },
      {
       "output_type": "stream",
       "stream": "stdout",
       "text": [
        "\n",
        "[ 0.0480315  -0.01568627  0.01476091  0.17751938  0.06786427 -0.00513249]"
       ]
      },
      {
       "output_type": "stream",
       "stream": "stdout",
       "text": [
        "\n",
        "[ 0.05       -0.04468085 -0.05820313  0.10352113  0.02312139 -0.03175889]"
       ]
      },
      {
       "output_type": "stream",
       "stream": "stdout",
       "text": [
        "\n",
        "[ 0.04621212 -0.0261194  -0.03359528  0.07645291  0.02376238 -0.0463335 ]"
       ]
      },
      {
       "output_type": "stream",
       "stream": "stdout",
       "text": [
        "\n",
        "[ 0.04412916 -0.00826446  0.03442623  0.24874739  0.09670782 -0.01354011]"
       ]
      },
      {
       "output_type": "stream",
       "stream": "stdout",
       "text": [
        "\n",
        "[ 0.03809524 -0.05462185 -0.10119522  0.07641509  0.02788845 -0.02712191]"
       ]
      },
      {
       "output_type": "stream",
       "stream": "stdout",
       "text": [
        "\n",
        "[ 0.03043053 -0.0761523  -0.11157685 -0.01491935  0.0204499  -0.04406823]"
       ]
      },
      {
       "output_type": "stream",
       "stream": "stdout",
       "text": [
        "\n",
        "[ 0.04204771 -0.09230769 -0.2875     -0.05277778  0.         -0.06499926]"
       ]
      },
      {
       "output_type": "stream",
       "stream": "stdout",
       "text": [
        "\n",
        "[ 0.04804688 -0.03333333 -0.02185687  0.15784708  0.03822938 -0.01756061]"
       ]
      },
      {
       "output_type": "stream",
       "stream": "stdout",
       "text": [
        "\n",
        "[ 0.04589322 -0.0475162  -0.08181818  0.08874755  0.01260504 -0.03007491]"
       ]
      },
      {
       "output_type": "stream",
       "stream": "stdout",
       "text": [
        "\n",
        "[ 0.0460396  -0.05       -0.12587269 -0.01947791  0.00829876 -0.04746409]"
       ]
      },
      {
       "output_type": "stream",
       "stream": "stdout",
       "text": [
        "\n",
        "[ 0.04180328 -0.0556701  -0.15143954 -0.00148515  0.00819672 -0.05995896]"
       ]
      },
      {
       "output_type": "stream",
       "stream": "stdout",
       "text": [
        "\n",
        "[ 0.04185336 -0.05327869 -0.09186047  0.08858921  0.03232323 -0.02728353]"
       ]
      },
      {
       "output_type": "stream",
       "stream": "stdout",
       "text": [
        "\n",
        "[ 0.04802372 -0.04466019 -0.05294118  0.10544554  0.02916667 -0.02162543]"
       ]
      },
      {
       "output_type": "stream",
       "stream": "stdout",
       "text": [
        "\n",
        "[ 0.03434442 -0.03667954 -0.08813906  0.0402834   0.01313321 -0.03915125]"
       ]
      },
      {
       "output_type": "stream",
       "stream": "stdout",
       "text": [
        "\n",
        "[ 0.04794661 -0.03042596 -0.0879845   0.04656489  0.00759013 -0.04914765]"
       ]
      },
      {
       "output_type": "stream",
       "stream": "stdout",
       "text": [
        "\n",
        "[ 0.0480198  -0.01221996  0.03047035  0.13973843  0.02647658 -0.03033808]"
       ]
      },
      {
       "output_type": "stream",
       "stream": "stdout",
       "text": [
        "\n",
        "[ 0.04195171 -0.04733728 -0.13608445  0.03045113  0.02004008 -0.04141932]"
       ]
      },
      {
       "output_type": "stream",
       "stream": "stdout",
       "text": [
        "\n",
        "[ 0.04380165 -0.02816901 -0.0628866   0.06906694  0.015625   -0.04319263]"
       ]
      },
      {
       "output_type": "stream",
       "stream": "stdout",
       "text": [
        "\n",
        "[ 0.0462406  -0.02169625 -0.06135458  0.02901235  0.02702703 -0.04727989]"
       ]
      },
      {
       "output_type": "stream",
       "stream": "stdout",
       "text": [
        "\n",
        "[ 0.0460396  -0.04330709 -0.0617357   0.08809524  0.01949318 -0.03478053]"
       ]
      },
      {
       "output_type": "stream",
       "stream": "stdout",
       "text": [
        "\n",
        "[ 0.0398374  -0.02204409 -0.06330645  0.09277457  0.01214575 -0.0403099 ]"
       ]
      },
      {
       "output_type": "stream",
       "stream": "stdout",
       "text": [
        "\n",
        "[ 0.04021526 -0.026      -0.12718053  0.02171717  0.01226994 -0.04707573]"
       ]
      },
      {
       "output_type": "stream",
       "stream": "stdout",
       "text": [
        "\n",
        "[ 0.04799599 -0.01814516 -0.04016736  0.11380368  0.03041825 -0.0393048 ]"
       ]
      },
      {
       "output_type": "stream",
       "stream": "stdout",
       "text": [
        "\n",
        "[ 0.04204771 -0.01603206 -0.03424125  0.08153693  0.01541426 -0.04128872]"
       ]
      },
      {
       "output_type": "stream",
       "stream": "stdout",
       "text": [
        "\n",
        "[ 0.04790795 -0.02794411 -0.03740458  0.06560575  0.00591716 -0.05167272]"
       ]
      },
      {
       "output_type": "stream",
       "stream": "stdout",
       "text": [
        "\n",
        "[ 0.04403579 -0.02816901 -0.0614786   0.05872865  0.00787402 -0.05361033]"
       ]
      },
      {
       "output_type": "stream",
       "stream": "stdout",
       "text": [
        "\n",
        "[ 0.05       -0.02868852 -0.05930902  0.06850394  0.01207243 -0.05253147]"
       ]
      },
      {
       "output_type": "stream",
       "stream": "stdout",
       "text": [
        "\n",
        "[ 0.05       -0.01960784 -0.06634429  0.042       0.01428571 -0.0474543 ]"
       ]
      },
      {
       "output_type": "stream",
       "stream": "stdout",
       "text": [
        "\n",
        "[ 0.04618321 -0.03193613 -0.03793103  0.05194175  0.02597403 -0.03857794]"
       ]
      },
      {
       "output_type": "stream",
       "stream": "stdout",
       "text": [
        "\n",
        "[ 0.04806202 -0.01949318 -0.074       0.09089069  0.03515625 -0.03266597]"
       ]
      },
      {
       "output_type": "stream",
       "stream": "stdout",
       "text": [
        "\n",
        "[ 0.04235182 -0.03042596 -0.05918367  0.05159681  0.01192843 -0.04487299]"
       ]
      },
      {
       "output_type": "stream",
       "stream": "stdout",
       "text": [
        "\n",
        "[ 0.04409449 -0.03207547 -0.0752381  -0.01100386  0.00607287 -0.04919246]"
       ]
      },
      {
       "output_type": "stream",
       "stream": "stdout",
       "text": [
        "\n",
        "[ 0.04607073 -0.02419355 -0.03772455  0.05467836  0.01455301 -0.04753455]"
       ]
      },
      {
       "output_type": "stream",
       "stream": "stdout",
       "text": [
        "\n",
        "[ 0.04386503 -0.03106796 -0.09246032  0.07267206  0.02862595 -0.03984706]"
       ]
      },
      {
       "output_type": "stream",
       "stream": "stdout",
       "text": [
        "\n",
        "[ 0.04798793 -0.01677149 -0.10682731  0.02219917  0.00625    -0.04829553]"
       ]
      },
      {
       "output_type": "stream",
       "stream": "stdout",
       "text": [
        "\n",
        "[ 0.04808061 -0.02290076 -0.07446809  0.02857143  0.02636917 -0.0437785 ]"
       ]
      },
      {
       "output_type": "stream",
       "stream": "stdout",
       "text": [
        "\n",
        "[ 0.05       -0.02254098 -0.072       0.07016461  0.02348337 -0.04276922]"
       ]
      },
      {
       "output_type": "stream",
       "stream": "stdout",
       "text": [
        "\n",
        "[ 0.04043977 -0.04389313 -0.04202335  0.09557957  0.00759013 -0.04061544]"
       ]
      },
      {
       "output_type": "stream",
       "stream": "stdout",
       "text": [
        "\n",
        "[ 0.04600798 -0.02663934 -0.064       0.05571429  0.01550388 -0.04429499]"
       ]
      },
      {
       "output_type": "stream",
       "stream": "stdout",
       "text": [
        "\n",
        "[ 0.04387755 -0.02697095 -0.07857143  0.068       0.01727447 -0.04474783]"
       ]
      },
      {
       "output_type": "stream",
       "stream": "stdout",
       "text": [
        "\n",
        "[ 0.04425287 -0.0403071  -0.05168539  0.06174004  0.00792079 -0.04517842]"
       ]
      },
      {
       "output_type": "stream",
       "stream": "stdout",
       "text": [
        "\n",
        "[ 0.04592668 -0.04526749 -0.0684435   0.03458418  0.01851852 -0.04196652]"
       ]
      },
      {
       "output_type": "stream",
       "stream": "stdout",
       "text": [
        "\n",
        "[ 0.04608611 -0.02258727 -0.05748031  0.0645749   0.01156069 -0.042679  ]"
       ]
      },
      {
       "output_type": "stream",
       "stream": "stdout",
       "text": [
        "\n",
        "[ 0.046139   -0.02258727 -0.07706237  0.07908367  0.01810865 -0.03976403]"
       ]
      },
      {
       "output_type": "stream",
       "stream": "stdout",
       "text": [
        "\n",
        "[ 0.04603175 -0.02335456 -0.04677104  0.03947368  0.01996008 -0.04375105]"
       ]
      },
      {
       "output_type": "stream",
       "stream": "stdout",
       "text": [
        "\n",
        "[ 0.04590164 -0.03536346 -0.04880952  0.03287938  0.0239521  -0.03797976]"
       ]
      },
      {
       "output_type": "stream",
       "stream": "stdout",
       "text": [
        "\n",
        "[ 0.04432892 -0.03238866 -0.01133603  0.08976608  0.0221328  -0.04125757]"
       ]
      },
      {
       "output_type": "stream",
       "stream": "stdout",
       "text": [
        "\n",
        "[ 0.04416342 -0.02226721 -0.07241379  0.04760479  0.01022495 -0.04203891]"
       ]
      },
      {
       "output_type": "stream",
       "stream": "stdout",
       "text": [
        "\n",
        "[ 0.05       -0.02615694 -0.05831663  0.10447316  0.00641026 -0.04176925]"
       ]
      },
      {
       "output_type": "stream",
       "stream": "stdout",
       "text": [
        "\n",
        "[ 0.04393939 -0.02816901 -0.08309859  0.05083682  0.00803213 -0.04292241]"
       ]
      },
      {
       "output_type": "stream",
       "stream": "stdout",
       "text": [
        "\n",
        "[ 0.04576271 -0.02822581 -0.04876033  0.05440882  0.02615694 -0.04012612]"
       ]
      },
      {
       "output_type": "stream",
       "stream": "stdout",
       "text": [
        "\n",
        "[ 0.04804305 -0.02868852 -0.07177914  0.04123506  0.00998004 -0.04151309]"
       ]
      },
      {
       "output_type": "stream",
       "stream": "stdout",
       "text": [
        "\n",
        "[ 0.04795918 -0.04008439 -0.07567568  0.0540404   0.0239521  -0.0424782 ]"
       ]
      },
      {
       "output_type": "stream",
       "stream": "stdout",
       "text": [
        "\n",
        "[ 0.04811321 -0.03099174 -0.03241107  0.07012579  0.01635992 -0.04306629]"
       ]
      },
      {
       "output_type": "stream",
       "stream": "stdout",
       "text": [
        "\n",
        "[ 0.04392713 -0.03080082 -0.06498994  0.10514403  0.02610442 -0.04128882]"
       ]
      },
      {
       "output_type": "stream",
       "stream": "stdout",
       "text": [
        "\n",
        "Optimization terminated successfully.\n",
        "         Current function value: 0.008723\n",
        "         Iterations: 34\n",
        "         Function evaluations: 69\n",
        "[ 0.04576271 -0.03481625 -0.092607    0.06807466  0.01151631 -0.04445332]"
       ]
      },
      {
       "output_type": "stream",
       "stream": "stdout",
       "text": [
        "\n",
        "[-0.0019685   0.03196393  0.36002045  0.42925311  0.1390593   0.03006516]"
       ]
      },
      {
       "output_type": "stream",
       "stream": "stdout",
       "text": [
        "\n",
        "[ 0.          0.04805825  0.396       0.43088531  0.15306122  0.02999206]"
       ]
      },
      {
       "output_type": "stream",
       "stream": "stdout",
       "text": [
        "\n",
        "[-0.00205761  0.04616123  0.42979798  0.64529652  0.23312883  0.05652347]"
       ]
      },
      {
       "output_type": "stream",
       "stream": "stdout",
       "text": [
        "\n",
        "[-0.00393701  0.0360835   0.35309278  0.28136095  0.06378987  0.01605358]"
       ]
      },
      {
       "output_type": "stream",
       "stream": "stdout",
       "text": [
        "\n",
        "[ 0.          0.02109827  0.3745283   0.42945205  0.11568627  0.02885936]"
       ]
      },
      {
       "output_type": "stream",
       "stream": "stdout",
       "text": [
        "\n",
        "[-0.00392157  0.01324952  0.30454545  0.2661157   0.0465587   0.01605916]"
       ]
      },
      {
       "output_type": "stream",
       "stream": "stdout",
       "text": [
        "\n",
        "[-0.01132075 -0.00060729  0.22946768  0.13774704  0.02755906 -0.01326201]"
       ]
      },
      {
       "output_type": "stream",
       "stream": "stdout",
       "text": [
        "\n",
        "[-0.03427419 -0.12598344 -0.01050096  0.02326733  0.00581395 -0.05079965]"
       ]
      },
      {
       "output_type": "stream",
       "stream": "stdout",
       "text": [
        "\n",
        "[-0.0185567  -0.06264822  0.13023256  0.09124294  0.01840491 -0.01282289]"
       ]
      },
      {
       "output_type": "stream",
       "stream": "stdout",
       "text": [
        "\n",
        "[-0.02946955 -0.0737525   0.01822811  0.05282258  0.00603622 -0.03019071]"
       ]
      },
      {
       "output_type": "stream",
       "stream": "stdout",
       "text": [
        "\n",
        "[-0.08091286 -0.25290456 -0.2135514  -0.01502058  0.         -0.05737567]"
       ]
      },
      {
       "output_type": "stream",
       "stream": "stdout",
       "text": [
        "\n",
        "[-0.08910891 -0.25876494 -0.17835249 -0.01516393  0.         -0.05335889]"
       ]
      },
      {
       "output_type": "stream",
       "stream": "stdout",
       "text": [
        "\n",
        "[-0.18359375 -0.3796875  -0.33063241 -0.03755187  0.         -0.07034618]"
       ]
      },
      {
       "output_type": "stream",
       "stream": "stdout",
       "text": [
        "\n",
        "[-0.02195609 -0.02053942  0.22290076  0.15496894  0.01443299 -0.00544187]"
       ]
      },
      {
       "output_type": "stream",
       "stream": "stdout",
       "text": [
        "\n",
        "[-0.07692308 -0.28399209 -0.23431772 -0.03255814  0.         -0.07470406]"
       ]
      },
      {
       "output_type": "stream",
       "stream": "stdout",
       "text": [
        "\n",
        "[-0.03901437 -0.1888664  -0.13747698 -0.00151515  0.         -0.05182615]"
       ]
      },
      {
       "output_type": "stream",
       "stream": "stdout",
       "text": [
        "\n",
        "[-0.00992063  0.0165272   0.2539604   0.19472574  0.04133858 -0.00562695]"
       ]
      },
      {
       "output_type": "stream",
       "stream": "stdout",
       "text": [
        "\n",
        "[-0.01848049 -0.03514851  0.15930233  0.10116279  0.02020202 -0.01942355]"
       ]
      },
      {
       "output_type": "stream",
       "stream": "stdout",
       "text": [
        "\n",
        "[-0.05918367 -0.25555556 -0.19097363 -0.00085066  0.00391389 -0.06112849]"
       ]
      },
      {
       "output_type": "stream",
       "stream": "stdout",
       "text": [
        "\n",
        "[-0.01976285 -0.02847082  0.14416499  0.10339806  0.01656315 -0.01914784]"
       ]
      },
      {
       "output_type": "stream",
       "stream": "stdout",
       "text": [
        "\n",
        "[-0.00970874 -0.00691057  0.25645161  0.17264875  0.04770992  0.00271324]"
       ]
      },
      {
       "output_type": "stream",
       "stream": "stdout",
       "text": [
        "\n",
        "[-0.0392562  -0.0677686   0.02256461  0.03316008  0.00200401 -0.03807604]"
       ]
      },
      {
       "output_type": "stream",
       "stream": "stdout",
       "text": [
        "\n",
        "[-0.03784861 -0.16659919 -0.06234568 -0.00652174  0.00795229 -0.04235361]"
       ]
      },
      {
       "output_type": "stream",
       "stream": "stdout",
       "text": [
        "\n",
        "[-0.05175983 -0.14334719 -0.01336634  0.03183633  0.0152381  -0.03333966]"
       ]
      },
      {
       "output_type": "stream",
       "stream": "stdout",
       "text": [
        "\n",
        "[-0.06425703 -0.15260223 -0.13413926  0.01681034  0.         -0.04807015]"
       ]
      },
      {
       "output_type": "stream",
       "stream": "stdout",
       "text": [
        "\n",
        "[-0.02204409 -0.04917355  0.08034188  0.09003945  0.01237113 -0.02586534]"
       ]
      },
      {
       "output_type": "stream",
       "stream": "stdout",
       "text": [
        "\n",
        "[-0.04590818 -0.16129707 -0.0973251  -0.00984704  0.00619835 -0.05955936]"
       ]
      },
      {
       "output_type": "stream",
       "stream": "stdout",
       "text": [
        "\n",
        "[-0.03018109 -0.06695906  0.11598778  0.06316872  0.00760456 -0.025516  ]"
       ]
      },
      {
       "output_type": "stream",
       "stream": "stdout",
       "text": [
        "\n",
        "[-0.02       -0.06287129  0.06853448  0.08453815  0.01190476 -0.03011576]"
       ]
      },
      {
       "output_type": "stream",
       "stream": "stdout",
       "text": [
        "\n",
        "[-0.03549061 -0.11049383 -0.01601942  0.02337526  0.00589391 -0.04678098]"
       ]
      },
      {
       "output_type": "stream",
       "stream": "stdout",
       "text": [
        "\n",
        "[-0.02087287 -0.04611452  0.13452381  0.08552361  0.0113852  -0.01745288]"
       ]
      },
      {
       "output_type": "stream",
       "stream": "stdout",
       "text": [
        "\n",
        "[-0.02024291 -0.09315789 -0.02895792  0.03300395  0.00808081 -0.04058586]"
       ]
      },
      {
       "output_type": "stream",
       "stream": "stdout",
       "text": [
        "\n",
        "[-0.05       -0.12408907 -0.08131313  0.02628866  0.01532567 -0.05020907]"
       ]
      },
      {
       "output_type": "stream",
       "stream": "stdout",
       "text": [
        "\n",
        "[-0.01394422 -0.086       0.07990654  0.03398437  0.01394422 -0.033677  ]"
       ]
      },
      {
       "output_type": "stream",
       "stream": "stdout",
       "text": [
        "\n",
        "[-0.04166667 -0.15289855 -0.04789916  0.03754864  0.004158   -0.04535253]"
       ]
      },
      {
       "output_type": "stream",
       "stream": "stdout",
       "text": [
        "\n",
        "[-0.02880658 -0.09723926  0.05852713  0.06623246  0.01048218 -0.03363652]"
       ]
      },
      {
       "output_type": "stream",
       "stream": "stdout",
       "text": [
        "\n",
        "[-0.04911591 -0.10746421  0.03479532  0.02815631  0.00373832 -0.03467111]"
       ]
      },
      {
       "output_type": "stream",
       "stream": "stdout",
       "text": [
        "\n",
        "[-0.03441296 -0.11363636 -0.04119374  0.01410256  0.         -0.04120242]"
       ]
      },
      {
       "output_type": "stream",
       "stream": "stdout",
       "text": [
        "\n",
        "[-0.03292181 -0.11966068  0.01415479  0.04730849  0.00623701 -0.03500901]"
       ]
      },
      {
       "output_type": "stream",
       "stream": "stdout",
       "text": [
        "\n",
        "[-0.03893443 -0.11346154  0.04304703  0.0450495   0.00200803 -0.04148165]"
       ]
      },
      {
       "output_type": "stream",
       "stream": "stdout",
       "text": [
        "\n",
        "[-0.04771372 -0.09112903  0.00693582  0.04690722  0.00392927 -0.03444235]"
       ]
      },
      {
       "output_type": "stream",
       "stream": "stdout",
       "text": [
        "\n",
        "[-0.03777336 -0.11427105  0.03217822  0.07273642  0.00826446 -0.03242407]"
       ]
      },
      {
       "output_type": "stream",
       "stream": "stdout",
       "text": [
        "\n",
        "[-0.03340292 -0.10120968 -0.04801587  0.01625259  0.00401606 -0.03994751]"
       ]
      },
      {
       "output_type": "stream",
       "stream": "stdout",
       "text": [
        "\n",
        "[-0.02061856 -0.10944882 -0.03330059  0.06065574  0.00835073 -0.03890738]"
       ]
      },
      {
       "output_type": "stream",
       "stream": "stdout",
       "text": [
        "\n",
        "[-0.02910603 -0.09481409 -0.0109375   0.02495069  0.00419287 -0.03952044]"
       ]
      },
      {
       "output_type": "stream",
       "stream": "stdout",
       "text": [
        "\n",
        "[-0.01976285 -0.10674603 -0.00841393  0.05982659  0.00763359 -0.03607704]"
       ]
      },
      {
       "output_type": "stream",
       "stream": "stdout",
       "text": [
        "\n",
        "[-0.03883495 -0.08333333  0.03834586  0.05159363  0.00608519 -0.0396056 ]"
       ]
      },
      {
       "output_type": "stream",
       "stream": "stdout",
       "text": [
        "\n",
        "[-0.03932584 -0.09519427 -0.02648262  0.04561753  0.00819672 -0.04223965]"
       ]
      },
      {
       "output_type": "stream",
       "stream": "stdout",
       "text": [
        "\n",
        "[-0.03265306 -0.12773437 -0.0127451   0.02662083  0.00200401 -0.04054502]"
       ]
      },
      {
       "output_type": "stream",
       "stream": "stdout",
       "text": [
        "\n",
        "[-0.03082852 -0.10416667  0.04251969  0.00701754  0.00386847 -0.03903133]"
       ]
      },
      {
       "output_type": "stream",
       "stream": "stdout",
       "text": [
        "\n",
        "[-0.03375527 -0.09940239  0.03811475  0.03536585  0.00205761 -0.03511347]"
       ]
      },
      {
       "output_type": "stream",
       "stream": "stdout",
       "text": [
        "\n",
        "[-0.03891051 -0.07475248  0.01938776  0.03151093  0.00840336 -0.03713104]"
       ]
      },
      {
       "output_type": "stream",
       "stream": "stdout",
       "text": [
        "\n",
        "[-0.03838772 -0.12234043  0.00289421  0.02528958  0.00596421 -0.04087006]"
       ]
      },
      {
       "output_type": "stream",
       "stream": "stdout",
       "text": [
        "\n",
        "[-0.04081633 -0.12768595  0.0097723   0.05556622  0.00604839 -0.03665419]"
       ]
      },
      {
       "output_type": "stream",
       "stream": "stdout",
       "text": [
        "\n",
        "[-0.0295858  -0.09583333 -0.0016129   0.04437751  0.00201613 -0.03772602]"
       ]
      },
      {
       "output_type": "stream",
       "stream": "stdout",
       "text": [
        "\n",
        "[-0.0441989  -0.12540323 -0.02682119  0.02899807  0.00194553 -0.03964212]"
       ]
      },
      {
       "output_type": "stream",
       "stream": "stdout",
       "text": [
        "\n",
        "[-0.03891051 -0.08307985 -0.01498054  0.0706544   0.00584795 -0.03652019]"
       ]
      },
      {
       "output_type": "stream",
       "stream": "stdout",
       "text": [
        "\n",
        "[-0.03125    -0.11977226 -0.0066474   0.02815631  0.00588235 -0.04156287]"
       ]
      },
      {
       "output_type": "stream",
       "stream": "stdout",
       "text": [
        "\n",
        "[-0.01992032 -0.088833    0.0220339   0.03846154  0.00862069 -0.03571083]"
       ]
      },
      {
       "output_type": "stream",
       "stream": "stdout",
       "text": [
        "\n",
        "Optimization terminated successfully.\n",
        "         Current function value: 0.009196\n",
        "         Iterations: 27\n",
        "         Function evaluations: 59\n",
        "[-0.03080082 -0.09980545  0.03316222  0.01875     0.00428266 -0.03775418]"
       ]
      },
      {
       "output_type": "stream",
       "stream": "stdout",
       "text": [
        "\n",
        "[-0.00572519  0.03418972 -0.00967078 -0.13225806  0.08141684 -0.00453498]"
       ]
      },
      {
       "output_type": "stream",
       "stream": "stdout",
       "text": [
        "\n",
        "[  0.00000000e+00   3.58299595e-02  -9.27643785e-05  -7.80000000e-02\n",
        "   8.58267717e-02  -3.27785257e-03]"
       ]
      },
      {
       "output_type": "stream",
       "stream": "stdout",
       "text": [
        "\n",
        "[-0.00195312  0.04416342  0.01558704  0.0888454   0.19103586  0.02418596]"
       ]
      },
      {
       "output_type": "stream",
       "stream": "stdout",
       "text": [
        "\n",
        "[-0.00796813  0.02698745 -0.07673267 -0.26666667  0.01369427 -0.01882666]"
       ]
      },
      {
       "output_type": "stream",
       "stream": "stdout",
       "text": [
        "\n",
        "[-0.00392927  0.04203187 -0.04864603 -0.14637097  0.05344828 -0.00481255]"
       ]
      },
      {
       "output_type": "stream",
       "stream": "stdout",
       "text": [
        "\n",
        "[-0.01386139  0.00533981 -0.13326693 -0.27387033  0.00030181 -0.01651054]"
       ]
      },
      {
       "output_type": "stream",
       "stream": "stdout",
       "text": [
        "\n",
        "[-0.00200803  0.05        0.02297297  0.06601563  0.167119    0.01409647]"
       ]
      },
      {
       "output_type": "stream",
       "stream": "stdout",
       "text": [
        "\n",
        "[ 0.          0.05        0.03814229  0.14036511  0.27539683  0.0256717 ]"
       ]
      },
      {
       "output_type": "stream",
       "stream": "stdout",
       "text": [
        "\n",
        "[-0.00204082  0.03396794 -0.0240038  -0.15623722  0.0526694  -0.00538572]"
       ]
      },
      {
       "output_type": "stream",
       "stream": "stdout",
       "text": [
        "\n",
        "[ 0.          0.02546012 -0.01706114 -0.22217659  0.03080808 -0.02833781]"
       ]
      },
      {
       "output_type": "stream",
       "stream": "stdout",
       "text": [
        "\n",
        "[-0.00197239  0.04616123 -0.00077263 -0.0348659   0.14354839  0.01339948]"
       ]
      },
      {
       "output_type": "stream",
       "stream": "stdout",
       "text": [
        "\n",
        "[-0.00200803 -0.00144033 -0.11116505 -0.30124481  0.02142857 -0.0159929 ]"
       ]
      },
      {
       "output_type": "stream",
       "stream": "stdout",
       "text": [
        "\n",
        "[ 0.          0.04034749  0.01579477 -0.00792079  0.08087935  0.00490207]"
       ]
      },
      {
       "output_type": "stream",
       "stream": "stdout",
       "text": [
        "\n",
        "[-0.0040568   0.04410609  0.03007968 -0.00084388  0.126       0.00744899]"
       ]
      },
      {
       "output_type": "stream",
       "stream": "stdout",
       "text": [
        "\n",
        "[ 0.          0.04415205  0.01787149  0.05050505  0.16756487  0.0124558 ]"
       ]
      },
      {
       "output_type": "stream",
       "stream": "stdout",
       "text": [
        "\n",
        "[-0.00203666  0.03340249  0.00325203 -0.10772201  0.07778905  0.00066881]"
       ]
      },
      {
       "output_type": "stream",
       "stream": "stdout",
       "text": [
        "\n",
        "[-0.0021322   0.04588477  0.01780684  0.0693712   0.1743346   0.01239225]"
       ]
      },
      {
       "output_type": "stream",
       "stream": "stdout",
       "text": [
        "\n",
        "[-0.00202429  0.04386503  0.0091002  -0.07808765  0.0828125   0.00281673]"
       ]
      },
      {
       "output_type": "stream",
       "stream": "stdout",
       "text": [
        "\n",
        "[ 0.          0.04159664  0.01031746 -0.09502982  0.06306043 -0.00637705]"
       ]
      },
      {
       "output_type": "stream",
       "stream": "stdout",
       "text": [
        "\n",
        "[ 0.          0.03962656 -0.03123791 -0.12281369  0.02905138 -0.01177015]"
       ]
      },
      {
       "output_type": "stream",
       "stream": "stdout",
       "text": [
        "\n",
        "[-0.00199601  0.04217221 -0.00642023 -0.05801527  0.10581854 -0.00402539]"
       ]
      },
      {
       "output_type": "stream",
       "stream": "stdout",
       "text": [
        "\n",
        "[ 0.          0.0459596   0.00687885  0.02956204  0.15874751  0.00746337]"
       ]
      },
      {
       "output_type": "stream",
       "stream": "stdout",
       "text": [
        "\n",
        "[-0.00200401  0.03989899 -0.0062249  -0.07047244  0.06023622 -0.00365903]"
       ]
      },
      {
       "output_type": "stream",
       "stream": "stdout",
       "text": [
        "\n",
        "[ 0.          0.0377551   0.01023857 -0.09105368  0.10756303  0.00136846]"
       ]
      },
      {
       "output_type": "stream",
       "stream": "stdout",
       "text": [
        "\n",
        "[-0.00382409  0.03795181  0.00626243 -0.09193548  0.09285714 -0.00295568]"
       ]
      },
      {
       "output_type": "stream",
       "stream": "stdout",
       "text": [
        "\n",
        "[ 0.          0.04597586  0.0066075  -0.058159    0.08957935  0.00085754]"
       ]
      },
      {
       "output_type": "stream",
       "stream": "stdout",
       "text": [
        "\n",
        "[ 0.          0.04589322  0.01602972 -0.03945312  0.08211382  0.00321797]"
       ]
      },
      {
       "output_type": "stream",
       "stream": "stdout",
       "text": [
        "\n",
        "[  0.00000000e+00   3.76288660e-02   1.15384615e-02  -2.03821656e-02\n",
        "   1.17652860e-01  -3.35596177e-05]"
       ]
      },
      {
       "output_type": "stream",
       "stream": "stdout",
       "text": [
        "\n",
        "[-0.00606061  0.04404762 -0.00758157 -0.06850394  0.09285714  0.00273835]"
       ]
      },
      {
       "output_type": "stream",
       "stream": "stdout",
       "text": [
        "\n",
        "[ 0.          0.04796748  0.00112016 -0.08582996  0.11370809 -0.00024962]"
       ]
      },
      {
       "output_type": "stream",
       "stream": "stdout",
       "text": [
        "\n",
        "[ 0.          0.04198397  0.01194503 -0.1         0.08939394  0.00584753]"
       ]
      },
      {
       "output_type": "stream",
       "stream": "stdout",
       "text": [
        "\n",
        "[ 0.          0.0459596  -0.00672269 -0.04294004  0.08849287  0.00315622]"
       ]
      },
      {
       "output_type": "stream",
       "stream": "stdout",
       "text": [
        "\n",
        "[-0.0019802   0.04212598  0.02325103 -0.03074004  0.12598344  0.00643132]"
       ]
      },
      {
       "output_type": "stream",
       "stream": "stdout",
       "text": [
        "\n",
        "[ 0.          0.03632813 -0.00432596 -0.06694215  0.07727273  0.00148773]"
       ]
      },
      {
       "output_type": "stream",
       "stream": "stdout",
       "text": [
        "\n",
        "[ 0.          0.04615385  0.01177062  0.00126582  0.09484127  0.00281204]"
       ]
      },
      {
       "output_type": "stream",
       "stream": "stdout",
       "text": [
        "\n",
        "[ 0.          0.03997996  0.00445545 -0.014       0.09851485  0.00509685]"
       ]
      },
      {
       "output_type": "stream",
       "stream": "stdout",
       "text": [
        "\n",
        "[-0.00199203  0.04537037  0.025      -0.03801653  0.14387755  0.00216632]"
       ]
      },
      {
       "output_type": "stream",
       "stream": "stdout",
       "text": [
        "\n",
        "[ 0.          0.04391481  0.02131148 -0.05038168  0.0976378   0.00189327]"
       ]
      },
      {
       "output_type": "stream",
       "stream": "stdout",
       "text": [
        "\n",
        "[ 0.          0.04605523 -0.00421687 -0.00954274  0.08372093  0.00513918]"
       ]
      },
      {
       "output_type": "stream",
       "stream": "stdout",
       "text": [
        "\n",
        "[ 0.          0.04591837  0.02070313 -0.00239044  0.12113402  0.00338437]"
       ]
      },
      {
       "output_type": "stream",
       "stream": "stdout",
       "text": [
        "\n",
        "[ 0.          0.0460396   0.00541401 -0.03086172  0.10918367  0.00738991]"
       ]
      },
      {
       "output_type": "stream",
       "stream": "stdout",
       "text": [
        "\n",
        "[ 0.          0.04214145 -0.00144033 -0.01115702  0.102       0.00424519]"
       ]
      },
      {
       "output_type": "stream",
       "stream": "stdout",
       "text": [
        "\n",
        "[ 0.          0.0405838   0.01245059 -0.021875    0.09056225  0.00615835]"
       ]
      },
      {
       "output_type": "stream",
       "stream": "stdout",
       "text": [
        "\n",
        "Optimization terminated successfully.\n",
        "         Current function value: 0.008506\n",
        "         Iterations: 18\n",
        "         Function evaluations: 43\n",
        "[ 0.          0.04232246  0.01207585  0.03168724  0.07851406  0.00502122]"
       ]
      },
      {
       "output_type": "stream",
       "stream": "stdout",
       "text": [
        "\n",
        "[-0.00203252 -0.00582524  0.17277228  0.19512671  0.10061602  0.01980773]"
       ]
      },
      {
       "output_type": "stream",
       "stream": "stdout",
       "text": [
        "\n",
        "[ 0.         -0.00819672  0.20793499  0.1950495   0.13888889  0.01946606]"
       ]
      },
      {
       "output_type": "stream",
       "stream": "stdout",
       "text": [
        "\n",
        "[ 0.         -0.00198413  0.2194501   0.37378641  0.276       0.04558448]"
       ]
      },
      {
       "output_type": "stream",
       "stream": "stdout",
       "text": [
        "\n",
        "[-0.008      -0.0185567   0.11851852  0.0613963   0.04365904  0.00572515]"
       ]
      },
      {
       "output_type": "stream",
       "stream": "stdout",
       "text": [
        "\n",
        "[-0.00189394 -0.01945525  0.21153846  0.17227926  0.11220472  0.01874176]"
       ]
      },
      {
       "output_type": "stream",
       "stream": "stdout",
       "text": [
        "\n",
        "[-0.0019685  -0.04950495  0.07793522 -0.00259481  0.05636743  0.00568426]"
       ]
      },
      {
       "output_type": "stream",
       "stream": "stdout",
       "text": [
        "\n",
        "[-0.0155642  -0.07307692  0.00243665 -0.08167641  0.01571709 -0.02283543]"
       ]
      },
      {
       "output_type": "stream",
       "stream": "stdout",
       "text": [
        "\n",
        "[-0.01483051 -0.06471816  0.04428571 -0.12040816  0.01832994 -0.00729324]"
       ]
      },
      {
       "output_type": "stream",
       "stream": "stdout",
       "text": [
        "\n",
        "[-0.01735358 -0.08627451 -0.00955734 -0.168       0.01930502 -0.01511283]"
       ]
      },
      {
       "output_type": "stream",
       "stream": "stdout",
       "text": [
        "\n",
        "[-0.05684211 -0.15187377 -0.17203742 -0.19285714  0.00604839 -0.03355338]"
       ]
      },
      {
       "output_type": "stream",
       "stream": "stdout",
       "text": [
        "\n",
        "[-0.00391389 -0.02291667  0.134       0.06276392  0.07495069  0.00739867]"
       ]
      },
      {
       "output_type": "stream",
       "stream": "stdout",
       "text": [
        "\n",
        "[-0.00204082 -0.01260504  0.1478389   0.11631799  0.08502024  0.01397767]"
       ]
      },
      {
       "output_type": "stream",
       "stream": "stdout",
       "text": [
        "\n",
        "[-0.01744186 -0.06105263  0.03243513 -0.05645756  0.04008439 -0.00923936]"
       ]
      },
      {
       "output_type": "stream",
       "stream": "stdout",
       "text": [
        "\n",
        "[-0.02310924 -0.07632094 -0.01008065 -0.116       0.02772277 -0.01787168]"
       ]
      },
      {
       "output_type": "stream",
       "stream": "stdout",
       "text": [
        "\n",
        "[-0.004      -0.03359684  0.12427466 -0.02727273  0.03921569 -0.00491929]"
       ]
      },
      {
       "output_type": "stream",
       "stream": "stdout",
       "text": [
        "\n",
        "[-0.00420168 -0.01807229  0.13454012  0.05983264  0.07630522  0.00718565]"
       ]
      },
      {
       "output_type": "stream",
       "stream": "stdout",
       "text": [
        "\n",
        "[-0.01209677 -0.05976096  0.00494071 -0.09417476  0.03461538 -0.0124569 ]"
       ]
      },
      {
       "output_type": "stream",
       "stream": "stdout",
       "text": [
        "\n",
        "[-0.01603206 -0.12138728 -0.08589251 -0.14349593  0.02745098 -0.02472742]"
       ]
      },
      {
       "output_type": "stream",
       "stream": "stdout",
       "text": [
        "\n",
        "[-0.00386847 -0.03455285  0.08730159 -0.02032193  0.03231939 -0.00199074]"
       ]
      },
      {
       "output_type": "stream",
       "stream": "stdout",
       "text": [
        "\n",
        "[-0.02390438 -0.05586592  0.01320939 -0.08557505  0.03461538 -0.00903673]"
       ]
      },
      {
       "output_type": "stream",
       "stream": "stdout",
       "text": [
        "\n",
        "[-0.00607287 -0.0418251   0.08643892 -0.03903967  0.03617021 -0.00142313]"
       ]
      },
      {
       "output_type": "stream",
       "stream": "stdout",
       "text": [
        "\n",
        "[-0.0019685  -0.04115226  0.10433071  0.04307992  0.05222437  0.01634679]"
       ]
      },
      {
       "output_type": "stream",
       "stream": "stdout",
       "text": [
        "\n",
        "[-0.00606061 -0.04660194  0.03294574 -0.07979798  0.03643725 -0.01107181]"
       ]
      },
      {
       "output_type": "stream",
       "stream": "stdout",
       "text": [
        "\n",
        "[-0.00604839 -0.02249489  0.09493042  0.06178862  0.04911591  0.00193855]"
       ]
      },
      {
       "output_type": "stream",
       "stream": "stdout",
       "text": [
        "\n",
        "[-0.01030928 -0.06031128  0.02148438 -0.04521073  0.04242424 -0.00561903]"
       ]
      },
      {
       "output_type": "stream",
       "stream": "stdout",
       "text": [
        "\n",
        "[-0.00406504 -0.0455408   0.06690141 -0.05096525  0.02380952 -0.00554338]"
       ]
      },
      {
       "output_type": "stream",
       "stream": "stdout",
       "text": [
        "\n",
        "[-0.01028807 -0.07280514  0.06620553 -0.08235294  0.0185567  -0.02299398]"
       ]
      },
      {
       "output_type": "stream",
       "stream": "stdout",
       "text": [
        "\n",
        "[-0.01014199 -0.05263158  0.06558935 -0.03277662  0.04573805  0.00195266]"
       ]
      },
      {
       "output_type": "stream",
       "stream": "stdout",
       "text": [
        "\n",
        "[-0.00594059 -0.05511811  0.06120332 -0.02877847  0.07072692  0.00374837]"
       ]
      },
      {
       "output_type": "stream",
       "stream": "stdout",
       "text": [
        "\n",
        "[-0.00402414 -0.04642166  0.04303675 -0.05869121  0.02301255 -0.01020748]"
       ]
      },
      {
       "output_type": "stream",
       "stream": "stdout",
       "text": [
        "\n",
        "[-0.01185771 -0.03564728  0.05241935 -0.06565657  0.02254098 -0.01179967]"
       ]
      },
      {
       "output_type": "stream",
       "stream": "stdout",
       "text": [
        "\n",
        "[-0.03212851 -0.07142857 -0.01499033 -0.15040984  0.01724138 -0.01808029]"
       ]
      },
      {
       "output_type": "stream",
       "stream": "stdout",
       "text": [
        "\n",
        "[-0.00798403 -0.04621849  0.04716024 -0.02475248  0.05846774 -0.0038068 ]"
       ]
      },
      {
       "output_type": "stream",
       "stream": "stdout",
       "text": [
        "\n",
        "[-0.00831601 -0.04303279  0.0615942  -0.03180873  0.0373444  -0.00410438]"
       ]
      },
      {
       "output_type": "stream",
       "stream": "stdout",
       "text": [
        "\n",
        "[-0.01221996 -0.06036217  0.05816327 -0.05296443  0.03643725 -0.00902797]"
       ]
      },
      {
       "output_type": "stream",
       "stream": "stdout",
       "text": [
        "\n",
        "[-0.01388889 -0.06639004  0.02       -0.0797619   0.03359684 -0.0090767 ]"
       ]
      },
      {
       "output_type": "stream",
       "stream": "stdout",
       "text": [
        "\n",
        "[-0.01632653 -0.06142035  0.06983806 -0.02102161  0.02653061 -0.00602258]"
       ]
      },
      {
       "output_type": "stream",
       "stream": "stdout",
       "text": [
        "\n",
        "[-0.00795229 -0.04545455  0.06171548 -0.03947896  0.03441683 -0.0069323 ]"
       ]
      },
      {
       "output_type": "stream",
       "stream": "stdout",
       "text": [
        "\n",
        "[-0.00957854 -0.03612167  0.05566802 -0.04193548  0.03219697 -0.00393237]"
       ]
      },
      {
       "output_type": "stream",
       "stream": "stdout",
       "text": [
        "\n",
        "[-0.00845666 -0.06557377  0.03100775 -0.0627451   0.03592814 -0.01010991]"
       ]
      },
      {
       "output_type": "stream",
       "stream": "stdout",
       "text": [
        "\n",
        "[-0.01171875 -0.05306122  0.06854839 -0.04946467  0.01927195 -0.00611737]"
       ]
      },
      {
       "output_type": "stream",
       "stream": "stdout",
       "text": [
        "\n",
        "[-0.01646091 -0.06769826  0.04919679 -0.00841889  0.03968254 -0.00241089]"
       ]
      },
      {
       "output_type": "stream",
       "stream": "stdout",
       "text": [
        "\n",
        "[-0.00954198 -0.06286837  0.01761905 -0.01511628  0.03180915 -0.00312042]"
       ]
      },
      {
       "output_type": "stream",
       "stream": "stdout",
       "text": [
        "\n",
        "[-0.00587084 -0.03838772  0.04387755 -0.01850394  0.046      -0.00155186]"
       ]
      },
      {
       "output_type": "stream",
       "stream": "stdout",
       "text": [
        "\n",
        "[-0.01934236 -0.0593047   0.05555556 -0.0265625   0.05367793 -0.00311988]"
       ]
      },
      {
       "output_type": "stream",
       "stream": "stdout",
       "text": [
        "\n",
        "[-0.00387597 -0.07228916  0.09848485 -0.05686275  0.02235772 -0.00689366]"
       ]
      },
      {
       "output_type": "stream",
       "stream": "stdout",
       "text": [
        "\n",
        "[-0.00412371 -0.046875    0.04678068 -0.03489279  0.02972399 -0.00495272]"
       ]
      },
      {
       "output_type": "stream",
       "stream": "stdout",
       "text": [
        "\n",
        "[-0.02330097 -0.06054688  0.02733598 -0.00563674  0.02296451 -0.00351503]"
       ]
      },
      {
       "output_type": "stream",
       "stream": "stdout",
       "text": [
        "\n",
        "[-0.01446281 -0.02978723  0.08137255 -0.05266525  0.04958678 -0.00518042]"
       ]
      },
      {
       "output_type": "stream",
       "stream": "stdout",
       "text": [
        "\n",
        "[-0.00956023 -0.0545809   0.0354251  -0.03040153  0.04480652 -0.00238878]"
       ]
      },
      {
       "output_type": "stream",
       "stream": "stdout",
       "text": [
        "\n",
        "[-0.00990099 -0.07        0.03705637 -0.03663366  0.03118908 -0.00763465]"
       ]
      },
      {
       "output_type": "stream",
       "stream": "stdout",
       "text": [
        "\n",
        "Optimization terminated successfully.\n",
        "         Current function value: 0.005528\n",
        "         Iterations: 24\n",
        "         Function evaluations: 51\n",
        "[-0.00990099 -0.04642166  0.04678068 -0.04095238  0.03232323 -0.004382  ]"
       ]
      },
      {
       "output_type": "stream",
       "stream": "stdout",
       "text": [
        "\n",
        "[-0.00198807  0.04013807  0.05781563 -0.17140078  0.00126582 -0.02130477]"
       ]
      },
      {
       "output_type": "stream",
       "stream": "stdout",
       "text": [
        "\n",
        "[ 0.          0.03814229  0.09609665 -0.098       0.01839323 -0.02092859]"
       ]
      },
      {
       "output_type": "stream",
       "stream": "stdout",
       "text": [
        "\n",
        "[-0.00199601  0.04599198  0.11822034  0.02374517  0.16358149  0.00527717]"
       ]
      },
      {
       "output_type": "stream",
       "stream": "stdout",
       "text": [
        "\n",
        "[ 0.          0.03007968  0.0476378  -0.28179074 -0.03410853 -0.03488848]"
       ]
      },
      {
       "output_type": "stream",
       "stream": "stdout",
       "text": [
        "\n",
        "[-0.002       0.03565574  0.08050193 -0.19563492  0.01067194 -0.02263528]"
       ]
      },
      {
       "output_type": "stream",
       "stream": "stdout",
       "text": [
        "\n",
        "[-0.01153846  0.00537525 -0.00648855 -0.36515152 -0.04246032 -0.03185446]"
       ]
      },
      {
       "output_type": "stream",
       "stream": "stdout",
       "text": [
        "\n",
        "[ 0.          0.0479798   0.1375      0.06734893  0.12244489 -0.00538737]"
       ]
      },
      {
       "output_type": "stream",
       "stream": "stdout",
       "text": [
        "\n",
        "[ 0.          0.04789474  0.14168399  0.08895582  0.25714286  0.0069871 ]"
       ]
      },
      {
       "output_type": "stream",
       "stream": "stdout",
       "text": [
        "\n",
        "[-0.00203252  0.04408284  0.09726166 -0.20693582 -0.02069632 -0.02404562]"
       ]
      },
      {
       "output_type": "stream",
       "stream": "stdout",
       "text": [
        "\n",
        "[ 0.          0.04605523  0.13238748 -0.03028169  0.15531915 -0.00231392]"
       ]
      },
      {
       "output_type": "stream",
       "stream": "stdout",
       "text": [
        "\n",
        "[-0.00209205  0.05        0.13235294  0.06819961  0.23460076  0.00453185]"
       ]
      },
      {
       "output_type": "stream",
       "stream": "stdout",
       "text": [
        "\n",
        "[-0.00392157  0.03993964  0.08474088 -0.13478702  0.06176471 -0.01483815]"
       ]
      },
      {
       "output_type": "stream",
       "stream": "stdout",
       "text": [
        "\n",
        "[ 0.          0.04232246  0.07213115 -0.19219409  0.02825651 -0.01933174]"
       ]
      },
      {
       "output_type": "stream",
       "stream": "stdout",
       "text": [
        "\n",
        "[ 0.          0.04389002  0.12565923 -0.01907216  0.08992248 -0.00569078]"
       ]
      },
      {
       "output_type": "stream",
       "stream": "stdout",
       "text": [
        "\n",
        "[ 0.          0.03087954  0.09       -0.21619145  0.0257485  -0.03360009]"
       ]
      },
      {
       "output_type": "stream",
       "stream": "stdout",
       "text": [
        "\n",
        "[ 0.          0.03971193  0.11207585 -0.00886214  0.09547325 -0.00378891]"
       ]
      },
      {
       "output_type": "stream",
       "stream": "stdout",
       "text": [
        "\n",
        "[-0.00583658  0.02843137  0.06417166 -0.23206107  0.03278008 -0.02227457]"
       ]
      },
      {
       "output_type": "stream",
       "stream": "stdout",
       "text": [
        "\n",
        "[ 0.          0.046       0.12087379 -0.04478958  0.05384615 -0.00962006]"
       ]
      },
      {
       "output_type": "stream",
       "stream": "stdout",
       "text": [
        "\n",
        "[ 0.          0.05        0.12971602  0.01938776  0.14761905 -0.00156487]"
       ]
      },
      {
       "output_type": "stream",
       "stream": "stdout",
       "text": [
        "\n",
        "[ 0.          0.03434442  0.08061224 -0.0984127   0.04889336 -0.01705835]"
       ]
      },
      {
       "output_type": "stream",
       "stream": "stdout",
       "text": [
        "\n",
        "[ 0.          0.03773006  0.12328244 -0.04203354  0.08452381 -0.00705927]"
       ]
      },
      {
       "output_type": "stream",
       "stream": "stdout",
       "text": [
        "\n",
        "[-0.0019685   0.04051233  0.10582329 -0.10962733  0.05247525 -0.01528271]"
       ]
      },
      {
       "output_type": "stream",
       "stream": "stdout",
       "text": [
        "\n",
        "[-0.0019685   0.05        0.12826087 -0.07915811  0.10117187 -0.01025019]"
       ]
      },
      {
       "output_type": "stream",
       "stream": "stdout",
       "text": [
        "\n",
        "[ 0.          0.04375     0.10390782 -0.12070707  0.06904277 -0.01836142]"
       ]
      },
      {
       "output_type": "stream",
       "stream": "stdout",
       "text": [
        "\n",
        "[ 0.          0.03977505  0.10578947 -0.04917695  0.07979798 -0.01263286]"
       ]
      },
      {
       "output_type": "stream",
       "stream": "stdout",
       "text": [
        "\n",
        "[ 0.          0.044       0.10559846 -0.12338403  0.06942149 -0.00990262]"
       ]
      },
      {
       "output_type": "stream",
       "stream": "stdout",
       "text": [
        "\n",
        "[ 0.          0.04411765  0.12064579 -0.06967871  0.09427403 -0.01336927]"
       ]
      },
      {
       "output_type": "stream",
       "stream": "stdout",
       "text": [
        "\n",
        "[ 0.          0.03834951  0.09787645 -0.10530146  0.08367347 -0.0103892 ]"
       ]
      },
      {
       "output_type": "stream",
       "stream": "stdout",
       "text": [
        "\n",
        "[-0.00200401  0.04433962  0.09117647 -0.15096339  0.07247706 -0.01866757]"
       ]
      },
      {
       "output_type": "stream",
       "stream": "stdout",
       "text": [
        "\n",
        "[ 0.          0.03816568  0.11631579 -0.07474227  0.09493177 -0.011296  ]"
       ]
      },
      {
       "output_type": "stream",
       "stream": "stdout",
       "text": [
        "\n",
        "[ 0.          0.04025341  0.10541401 -0.04511202  0.08619247 -0.00640421]"
       ]
      },
      {
       "output_type": "stream",
       "stream": "stdout",
       "text": [
        "\n",
        "[ 0.          0.04378882  0.11633663 -0.09354839  0.03087935 -0.01139487]"
       ]
      },
      {
       "output_type": "stream",
       "stream": "stdout",
       "text": [
        "\n",
        "[ 0.          0.04015748  0.09083969 -0.07596349  0.07913386 -0.01031149]"
       ]
      },
      {
       "output_type": "stream",
       "stream": "stdout",
       "text": [
        "\n",
        "[ 0.          0.03971193  0.11259843 -0.098       0.10449898 -0.01287186]"
       ]
      },
      {
       "output_type": "stream",
       "stream": "stdout",
       "text": [
        "\n",
        "[ 0.          0.04198397  0.11692607 -0.07800789  0.06700611 -0.01096188]"
       ]
      },
      {
       "output_type": "stream",
       "stream": "stdout",
       "text": [
        "\n",
        "[-0.00206186  0.04009901  0.1        -0.06365462  0.08252427 -0.01058957]"
       ]
      },
      {
       "output_type": "stream",
       "stream": "stdout",
       "text": [
        "\n",
        "[-0.00191939  0.04176955  0.11660118 -0.09401544  0.0758034  -0.01329033]"
       ]
      },
      {
       "output_type": "stream",
       "stream": "stdout",
       "text": [
        "\n",
        "[ 0.          0.04596774  0.09628099 -0.04350913  0.05500945 -0.01213094]"
       ]
      },
      {
       "output_type": "stream",
       "stream": "stdout",
       "text": [
        "\n",
        "[-0.0019802   0.05        0.10418327 -0.03943249  0.06839917 -0.0104654 ]"
       ]
      },
      {
       "output_type": "stream",
       "stream": "stdout",
       "text": [
        "\n",
        "[ 0.          0.03501873  0.1127451  -0.13235294  0.05009747 -0.01867797]"
       ]
      },
      {
       "output_type": "stream",
       "stream": "stdout",
       "text": [
        "\n",
        "[ 0.          0.04232246  0.11168582 -0.05770791  0.068357   -0.00998475]"
       ]
      },
      {
       "output_type": "stream",
       "stream": "stdout",
       "text": [
        "\n",
        "[-0.002       0.044       0.11070727 -0.08712575  0.07221135 -0.01012853]"
       ]
      },
      {
       "output_type": "stream",
       "stream": "stdout",
       "text": [
        "\n",
        "[-0.00204499  0.04387755  0.09615385 -0.1         0.06155419 -0.01400655]"
       ]
      },
      {
       "output_type": "stream",
       "stream": "stdout",
       "text": [
        "\n",
        "[ 0.          0.04356223  0.11837945 -0.11484375  0.05217391 -0.01276228]"
       ]
      },
      {
       "output_type": "stream",
       "stream": "stdout",
       "text": [
        "\n",
        "[-0.00193424  0.0461165   0.10918367 -0.1059387   0.07731959 -0.01117936]"
       ]
      },
      {
       "output_type": "stream",
       "stream": "stdout",
       "text": [
        "\n",
        "[ 0.          0.03752599  0.11747967 -0.07285714  0.06078431 -0.00722147]"
       ]
      },
      {
       "output_type": "stream",
       "stream": "stdout",
       "text": [
        "\n",
        "Optimization terminated successfully.\n",
        "         Current function value: 0.016449\n",
        "         Iterations: 20\n",
        "         Function evaluations: 46\n",
        "[ 0.          0.03734177  0.11190476 -0.10752896  0.0812749  -0.01166733]"
       ]
      },
      {
       "output_type": "stream",
       "stream": "stdout",
       "text": [
        "\n",
        "[ 0.         -0.01619433 -0.07100592 -0.38451677 -0.18016529 -0.02869344]"
       ]
      },
      {
       "output_type": "stream",
       "stream": "stdout",
       "text": [
        "\n",
        "[ 0.         -0.01004016 -0.05040323 -0.27650104 -0.16003683 -0.02982639]"
       ]
      },
      {
       "output_type": "stream",
       "stream": "stdout",
       "text": [
        "\n",
        "[ 0.          0.         -0.02282158 -0.2108871  -0.01698113 -0.00153304]"
       ]
      },
      {
       "output_type": "stream",
       "stream": "stdout",
       "text": [
        "\n",
        "[-0.00425532 -0.02509653 -0.12025316 -0.50338645 -0.25679012 -0.04308461]"
       ]
      },
      {
       "output_type": "stream",
       "stream": "stdout",
       "text": [
        "\n",
        "[-0.00206186 -0.01584158 -0.092      -0.40049505 -0.19759036 -0.02961561]"
       ]
      },
      {
       "output_type": "stream",
       "stream": "stdout",
       "text": [
        "\n",
        "[-0.01165049 -0.03950104 -0.15319149 -0.51375546 -0.21417166 -0.04052642]"
       ]
      },
      {
       "output_type": "stream",
       "stream": "stdout",
       "text": [
        "\n",
        "[ 0.         -0.00604839 -0.01871102 -0.16790744 -0.06712329 -0.01015385]"
       ]
      },
      {
       "output_type": "stream",
       "stream": "stdout",
       "text": [
        "\n",
        "[ 0.         -0.00188324 -0.00421941 -0.05454545  0.02289628 -0.00196085]"
       ]
      },
      {
       "output_type": "stream",
       "stream": "stdout",
       "text": [
        "\n",
        "[ 0.         -0.00206186 -0.00431034 -0.04354839  0.11176471  0.00478885]"
       ]
      },
      {
       "output_type": "stream",
       "stream": "stdout",
       "text": [
        "\n",
        "[ 0.          0.         -0.00803213 -0.02864924  0.10438247  0.00611527]"
       ]
      },
      {
       "output_type": "stream",
       "stream": "stdout",
       "text": [
        "\n",
        "[ 0.         -0.00211864 -0.00187266  0.0811828   0.254       0.01610975]"
       ]
      },
      {
       "output_type": "stream",
       "stream": "stdout",
       "text": [
        "\n",
        "[ 0.          0.          0.          0.10303327  0.39868173  0.02595898]"
       ]
      },
      {
       "output_type": "stream",
       "stream": "stdout",
       "text": [
        "\n",
        "[ 0.         -0.00384615 -0.0296846  -0.17231405 -0.05100402 -0.00993775]"
       ]
      },
      {
       "output_type": "stream",
       "stream": "stdout",
       "text": [
        "\n",
        "[-0.00201207 -0.00608519 -0.05846774 -0.31003899 -0.16078431 -0.01850105]"
       ]
      },
      {
       "output_type": "stream",
       "stream": "stdout",
       "text": [
        "\n",
        "[ 0.          0.         -0.00406504 -0.00291751  0.13822394  0.0086522 ]"
       ]
      },
      {
       "output_type": "stream",
       "stream": "stdout",
       "text": [
        "\n",
        "[ 0.          0.         -0.00205761  0.04366053  0.15918367  0.00504156]"
       ]
      },
      {
       "output_type": "stream",
       "stream": "stdout",
       "text": [
        "\n",
        "[ 0.          0.          0.          0.07621359  0.24105263  0.01702892]"
       ]
      },
      {
       "output_type": "stream",
       "stream": "stdout",
       "text": [
        "\n",
        "[ 0.          0.         -0.00608519 -0.11027397  0.01198347 -0.00187179]"
       ]
      },
      {
       "output_type": "stream",
       "stream": "stdout",
       "text": [
        "\n",
        "[ 0.         -0.00594059 -0.01761252 -0.1549505   0.01154684  0.00129969]"
       ]
      },
      {
       "output_type": "stream",
       "stream": "stdout",
       "text": [
        "\n",
        "[ 0.          0.         -0.01553398 -0.08347107 -0.00600414  0.00216137]"
       ]
      },
      {
       "output_type": "stream",
       "stream": "stdout",
       "text": [
        "\n",
        "[ 0.          0.         -0.00422833 -0.08662551  0.006      -0.0056406 ]"
       ]
      },
      {
       "output_type": "stream",
       "stream": "stdout",
       "text": [
        "\n",
        "[ 0.         -0.00199203 -0.00766284 -0.11391753 -0.01285141 -0.00419138]"
       ]
      },
      {
       "output_type": "stream",
       "stream": "stdout",
       "text": [
        "\n",
        "[ 0.          0.         -0.01417004 -0.06971253  0.02040816 -0.00026916]"
       ]
      },
      {
       "output_type": "stream",
       "stream": "stdout",
       "text": [
        "\n",
        "[ 0.          0.         -0.00193424 -0.09665392  0.01212724  0.00329438]"
       ]
      },
      {
       "output_type": "stream",
       "stream": "stdout",
       "text": [
        "\n",
        "[ 0.          0.         -0.00980392 -0.16666667 -0.032      -0.00811942]"
       ]
      },
      {
       "output_type": "stream",
       "stream": "stdout",
       "text": [
        "\n",
        "[ 0.          0.         -0.0039604  -0.0683908   0.09363817  0.00293393]"
       ]
      },
      {
       "output_type": "stream",
       "stream": "stdout",
       "text": [
        "\n",
        "[ 0.         -0.00201613 -0.00798403 -0.05206186  0.05020243 -0.00172187]"
       ]
      },
      {
       "output_type": "stream",
       "stream": "stdout",
       "text": [
        "\n",
        "[ 0.          0.         -0.00390625 -0.0453125   0.05283019  0.00273678]"
       ]
      },
      {
       "output_type": "stream",
       "stream": "stdout",
       "text": [
        "\n",
        "[ 0.         -0.00191571 -0.0056391  -0.04883041  0.04232365 -0.00188695]"
       ]
      },
      {
       "output_type": "stream",
       "stream": "stdout",
       "text": [
        "\n",
        "[ 0.          0.         -0.00202429 -0.0539604   0.02224532  0.00221579]"
       ]
      },
      {
       "output_type": "stream",
       "stream": "stdout",
       "text": [
        "\n",
        "[ 0.          0.         -0.00402414 -0.00869565  0.10756303  0.00411057]"
       ]
      },
      {
       "output_type": "stream",
       "stream": "stdout",
       "text": [
        "\n",
        "[-0.002       0.         -0.00957854 -0.07384937 -0.01975806 -0.00378605]"
       ]
      },
      {
       "output_type": "stream",
       "stream": "stdout",
       "text": [
        "\n",
        "[ 0.          0.         -0.00392157 -0.06497121  0.07992126 -0.0015948 ]"
       ]
      },
      {
       "output_type": "stream",
       "stream": "stdout",
       "text": [
        "\n",
        "[ 0.          0.         -0.00590551 -0.04924099  0.0628866   0.00156612]"
       ]
      },
      {
       "output_type": "stream",
       "stream": "stdout",
       "text": [
        "\n",
        "[ 0.          0.         -0.01121495 -0.10099602  0.02226563 -0.00162574]"
       ]
      },
      {
       "output_type": "stream",
       "stream": "stdout",
       "text": [
        "\n",
        "[ 0.          0.         -0.00974659 -0.05117187  0.01910569  0.00216017]"
       ]
      },
      {
       "output_type": "stream",
       "stream": "stdout",
       "text": [
        "\n",
        "[ 0.          0.         -0.01467505 -0.03019802  0.02086614 -0.00034532]"
       ]
      },
      {
       "output_type": "stream",
       "stream": "stdout",
       "text": [
        "\n",
        "[ 0.          0.         -0.0043573  -0.05792079  0.02150313  0.00083644]"
       ]
      },
      {
       "output_type": "stream",
       "stream": "stdout",
       "text": [
        "\n",
        "[ 0.          0.         -0.00381679 -0.05895522  0.06570248  0.00079381]"
       ]
      },
      {
       "output_type": "stream",
       "stream": "stdout",
       "text": [
        "\n",
        "[ 0.          0.         -0.00792079 -0.00102041  0.05294118  0.00172232]"
       ]
      },
      {
       "output_type": "stream",
       "stream": "stdout",
       "text": [
        "\n",
        "[  0.00000000e+00   0.00000000e+00  -9.61538462e-03  -2.74193548e-02\n",
        "   6.27254509e-02   7.94491077e-05]"
       ]
      },
      {
       "output_type": "stream",
       "stream": "stdout",
       "text": [
        "\n",
        "[ 0.          0.         -0.00860215 -0.02751479  0.05365854  0.00173517]"
       ]
      },
      {
       "output_type": "stream",
       "stream": "stdout",
       "text": [
        "\n",
        "[ 0.          0.          0.         -0.06206226  0.01752577  0.00028935]"
       ]
      },
      {
       "output_type": "stream",
       "stream": "stdout",
       "text": [
        "\n",
        "[ 0.          0.         -0.00849257 -0.03997912  0.04068136  0.00092716]"
       ]
      },
      {
       "output_type": "stream",
       "stream": "stdout",
       "text": [
        "\n",
        "[ 0.          0.          0.         -0.06176471  0.0131524   0.00149031]"
       ]
      },
      {
       "output_type": "stream",
       "stream": "stdout",
       "text": [
        "\n",
        "[ 0.         -0.00200401 -0.0101833  -0.0233871   0.0079922   0.00024217]"
       ]
      },
      {
       "output_type": "stream",
       "stream": "stdout",
       "text": [
        "\n",
        "Optimization terminated successfully.\n",
        "         Current function value: 0.000719\n",
        "         Iterations: 19\n",
        "         Function evaluations: 46\n",
        "[ 0.         -0.0020284  -0.00582524 -0.08780488  0.00417495  0.0003596 ]"
       ]
      },
      {
       "output_type": "stream",
       "stream": "stdout",
       "text": [
        "\n",
        "[-0.0020284  -0.021611   -0.01457565 -0.39457364  0.05358566 -0.02478796]"
       ]
      },
      {
       "output_type": "stream",
       "stream": "stdout",
       "text": [
        "\n",
        "[ 0.         -0.0141129   0.00983936 -0.30256917  0.06290323 -0.02587523]"
       ]
      },
      {
       "output_type": "stream",
       "stream": "stdout",
       "text": [
        "\n",
        "[-0.00201207 -0.00395257  0.03054475 -0.18984375  0.20301205  0.00175096]"
       ]
      },
      {
       "output_type": "stream",
       "stream": "stdout",
       "text": [
        "\n",
        "[-0.00384615 -0.02067669 -0.04322034 -0.47422998 -0.00774648 -0.04000605]"
       ]
      },
      {
       "output_type": "stream",
       "stream": "stdout",
       "text": [
        "\n",
        "[-0.0020284  -0.01383399 -0.02086614 -0.40532787  0.06666667 -0.02617105]"
       ]
      },
      {
       "output_type": "stream",
       "stream": "stdout",
       "text": [
        "\n",
        "[-0.01492537 -0.05521472 -0.09087302 -0.50065502 -0.00661157 -0.04077217]"
       ]
      },
      {
       "output_type": "stream",
       "stream": "stdout",
       "text": [
        "\n",
        "[ 0.         -0.00205339  0.03387097 -0.16027668  0.19733475 -0.00947074]"
       ]
      },
      {
       "output_type": "stream",
       "stream": "stdout",
       "text": [
        "\n",
        "[ 0.          0.          0.04610136 -0.04246032  0.31565657  0.00214287]"
       ]
      },
      {
       "output_type": "stream",
       "stream": "stdout",
       "text": [
        "\n",
        "[ 0.          0.          0.04206349 -0.07587269  0.27220039  0.00230499]"
       ]
      },
      {
       "output_type": "stream",
       "stream": "stdout",
       "text": [
        "\n",
        "[ 0.          0.          0.04019608 -0.09267782  0.3         0.0032847 ]"
       ]
      },
      {
       "output_type": "stream",
       "stream": "stdout",
       "text": [
        "\n",
        "[ 0.          0.          0.04407115  0.00086042  0.3706501   0.01184695]"
       ]
      },
      {
       "output_type": "stream",
       "stream": "stdout",
       "text": [
        "\n",
        "[ 0.         -0.00396825  0.04803922 -0.0834004   0.30655738  0.00395496]"
       ]
      },
      {
       "output_type": "stream",
       "stream": "stdout",
       "text": [
        "\n",
        "[ 0.         -0.00801603  0.00670103 -0.27943548  0.15491803 -0.01374647]"
       ]
      },
      {
       "output_type": "stream",
       "stream": "stdout",
       "text": [
        "\n",
        "[ 0.         -0.00194932  0.01825397 -0.250818    0.14475655 -0.00978757]"
       ]
      },
      {
       "output_type": "stream",
       "stream": "stdout",
       "text": [
        "\n",
        "[-0.00207469 -0.01176471 -0.00165289 -0.33197343  0.11232465 -0.01915436]"
       ]
      },
      {
       "output_type": "stream",
       "stream": "stdout",
       "text": [
        "\n",
        "[ 0.         -0.00572519  0.03632813 -0.11035503  0.26589537 -0.00098552]"
       ]
      },
      {
       "output_type": "stream",
       "stream": "stdout",
       "text": [
        "\n",
        "[ 0.          0.          0.04804305 -0.03860511  0.36584158  0.01511671]"
       ]
      },
      {
       "output_type": "stream",
       "stream": "stdout",
       "text": [
        "\n",
        "[ 0.         -0.00793651  0.01296296 -0.21619718  0.144      -0.0132657 ]"
       ]
      },
      {
       "output_type": "stream",
       "stream": "stdout",
       "text": [
        "\n",
        "[ 0.         -0.0019084   0.03076923 -0.11305609  0.23542914  0.00035482]"
       ]
      },
      {
       "output_type": "stream",
       "stream": "stdout",
       "text": [
        "\n",
        "[ 0.         -0.00609756  0.03632813 -0.19851485  0.17562141 -0.00447791]"
       ]
      },
      {
       "output_type": "stream",
       "stream": "stdout",
       "text": [
        "\n",
        "[ 0.         -0.01263158  0.03728814 -0.276       0.08957935 -0.01353916]"
       ]
      },
      {
       "output_type": "stream",
       "stream": "stdout",
       "text": [
        "\n",
        "[ 0.         -0.00194932  0.04023438 -0.1326087   0.2132613  -0.00077045]"
       ]
      },
      {
       "output_type": "stream",
       "stream": "stdout",
       "text": [
        "\n",
        "[ 0.          0.          0.02714286 -0.14740519  0.17727273 -0.00982833]"
       ]
      },
      {
       "output_type": "stream",
       "stream": "stdout",
       "text": [
        "\n",
        "[ 0.         -0.00206186  0.03377282 -0.11        0.228      -0.01923446]"
       ]
      },
      {
       "output_type": "stream",
       "stream": "stdout",
       "text": [
        "\n",
        "[ 0.         -0.00203252  0.04019608 -0.12855711  0.20742574 -0.00911938]"
       ]
      },
      {
       "output_type": "stream",
       "stream": "stdout",
       "text": [
        "\n",
        "[ 0.         -0.00592885  0.0358871  -0.24591837  0.12611336 -0.01902756]"
       ]
      },
      {
       "output_type": "stream",
       "stream": "stdout",
       "text": [
        "\n",
        "[ 0.         -0.00387597  0.03035363 -0.16027668  0.19371373 -0.00313477]"
       ]
      },
      {
       "output_type": "stream",
       "stream": "stdout",
       "text": [
        "\n",
        "[  0.00000000e+00   0.00000000e+00   4.18200409e-02  -6.18126273e-02\n",
        "   2.74324324e-01  -6.44979449e-05]"
       ]
      },
      {
       "output_type": "stream",
       "stream": "stdout",
       "text": [
        "\n",
        "[-0.00198413 -0.003861    0.01593186 -0.21575875  0.16484375 -0.01012554]"
       ]
      },
      {
       "output_type": "stream",
       "stream": "stdout",
       "text": [
        "\n",
        "[ 0.         -0.00417537  0.04009901 -0.14141717  0.19180328 -0.00856713]"
       ]
      },
      {
       "output_type": "stream",
       "stream": "stdout",
       "text": [
        "\n",
        "[ 0.         -0.002       0.02291667 -0.12663551  0.20502008 -0.00836899]"
       ]
      },
      {
       "output_type": "stream",
       "stream": "stdout",
       "text": [
        "\n",
        "[ 0.         -0.00404858  0.02929607 -0.19631148  0.19849699 -0.00666694]"
       ]
      },
      {
       "output_type": "stream",
       "stream": "stdout",
       "text": [
        "\n",
        "[ 0.         -0.00199203  0.03178138 -0.18603239  0.22459016 -0.00905391]"
       ]
      },
      {
       "output_type": "stream",
       "stream": "stdout",
       "text": [
        "\n",
        "[ 0.         -0.00574713  0.02435897 -0.23204593  0.2        -0.01361046]"
       ]
      },
      {
       "output_type": "stream",
       "stream": "stdout",
       "text": [
        "\n",
        "[ 0.          0.          0.04249531 -0.09716981  0.23744939 -0.00575149]"
       ]
      },
      {
       "output_type": "stream",
       "stream": "stdout",
       "text": [
        "\n",
        "[ 0.         -0.00194932  0.03804781 -0.16707317  0.22309237 -0.00652587]"
       ]
      },
      {
       "output_type": "stream",
       "stream": "stdout",
       "text": [
        "\n",
        "[ 0.          0.          0.03155738 -0.13180039  0.22165354 -0.00622848]"
       ]
      },
      {
       "output_type": "stream",
       "stream": "stdout",
       "text": [
        "\n",
        "[ 0.          0.          0.04211045 -0.09852071  0.21264591 -0.01172539]"
       ]
      },
      {
       "output_type": "stream",
       "stream": "stdout",
       "text": [
        "\n",
        "[ 0.         -0.00419287  0.03383838 -0.18603239  0.21315789 -0.01379111]"
       ]
      },
      {
       "output_type": "stream",
       "stream": "stdout",
       "text": [
        "\n",
        "[-0.00201613 -0.00201207  0.0394958  -0.12162978  0.21096033 -0.00685792]"
       ]
      },
      {
       "output_type": "stream",
       "stream": "stdout",
       "text": [
        "\n",
        "[ 0.         -0.00609756  0.03105263 -0.13056112  0.17070313 -0.01237564]"
       ]
      },
      {
       "output_type": "stream",
       "stream": "stdout",
       "text": [
        "\n",
        "[ 0.          0.          0.03646035 -0.17515337  0.17357724 -0.0141661 ]"
       ]
      },
      {
       "output_type": "stream",
       "stream": "stdout",
       "text": [
        "\n",
        "[ 0.         -0.00392927  0.02368421 -0.15664062  0.19248927 -0.01244189]"
       ]
      },
      {
       "output_type": "stream",
       "stream": "stdout",
       "text": [
        "\n",
        "[ 0.         -0.00212766  0.046      -0.13988327  0.21069246 -0.00766755]"
       ]
      },
      {
       "output_type": "stream",
       "stream": "stdout",
       "text": [
        "\n",
        "[-0.00196464 -0.0020284   0.02900763 -0.15241935  0.20726141 -0.01043448]"
       ]
      },
      {
       "output_type": "stream",
       "stream": "stdout",
       "text": [
        "\n",
        "[ 0.         -0.00200401  0.03003992 -0.14659319  0.22671756 -0.01219977]"
       ]
      },
      {
       "output_type": "stream",
       "stream": "stdout",
       "text": [
        "\n",
        "[ 0.          0.          0.03736842 -0.16097561  0.17286822 -0.01165895]"
       ]
      },
      {
       "output_type": "stream",
       "stream": "stdout",
       "text": [
        "\n",
        "[ 0.         -0.00200401  0.04015748 -0.14859719  0.184      -0.00957755]"
       ]
      },
      {
       "output_type": "stream",
       "stream": "stdout",
       "text": [
        "\n",
        "[ 0.         -0.00204918  0.03863636 -0.1127451   0.19180328 -0.00892477]"
       ]
      },
      {
       "output_type": "stream",
       "stream": "stdout",
       "text": [
        "\n",
        "[-0.00205339 -0.0021097   0.02722567 -0.17098765  0.17222222 -0.01240933]"
       ]
      },
      {
       "output_type": "stream",
       "stream": "stdout",
       "text": [
        "\n",
        "[ 0.          0.          0.03778004 -0.15666667  0.19795082 -0.00777449]"
       ]
      },
      {
       "output_type": "stream",
       "stream": "stdout",
       "text": [
        "\n",
        "[ 0.          0.          0.03562628 -0.14894737  0.20147348 -0.00965355]"
       ]
      },
      {
       "output_type": "stream",
       "stream": "stdout",
       "text": [
        "\n",
        "Optimization terminated successfully.\n",
        "         Current function value: 0.047340\n",
        "         Iterations: 23\n",
        "         Function evaluations: 52\n",
        "[ 0.         -0.00403226  0.03787879 -0.1609405   0.20149701 -0.01155079]"
       ]
      },
      {
       "output_type": "stream",
       "stream": "stdout",
       "text": [
        "\n",
        "[ 0.          0.08821218  0.3907563   0.33841699  0.10978044  0.03853197]"
       ]
      },
      {
       "output_type": "stream",
       "stream": "stdout",
       "text": [
        "\n",
        "[ 0.          0.1         0.44758065  0.36950719  0.08997955  0.03866022]"
       ]
      },
      {
       "output_type": "stream",
       "stream": "stdout",
       "text": [
        "\n",
        "[ 0.          0.0959596   0.478       0.50531062  0.21372549  0.06779388]"
       ]
      },
      {
       "output_type": "stream",
       "stream": "stdout",
       "text": [
        "\n",
        "[-0.00392157  0.074       0.39117043  0.17572614  0.048       0.02553897]"
       ]
      },
      {
       "output_type": "stream",
       "stream": "stdout",
       "text": [
        "\n",
        "[-0.00770713  0.08221344  0.41578947  0.31096654  0.12428298  0.03729085]"
       ]
      },
      {
       "output_type": "stream",
       "stream": "stdout",
       "text": [
        "\n",
        "[ 0.          0.04478528  0.30942623  0.16287129  0.05274262  0.02657326]"
       ]
      },
      {
       "output_type": "stream",
       "stream": "stdout",
       "text": [
        "\n",
        "[-0.01361868  0.03069307  0.22727273  0.04886364  0.03024575 -0.00440339]"
       ]
      },
      {
       "output_type": "stream",
       "stream": "stdout",
       "text": [
        "\n",
        "[-0.03024194 -0.06188525 -0.0077821  -0.09226804  0.00409836 -0.04059657]"
       ]
      },
      {
       "output_type": "stream",
       "stream": "stdout",
       "text": [
        "\n",
        "[-0.02524272 -0.004       0.140625   -0.00904762  0.01383399 -0.00353074]"
       ]
      },
      {
       "output_type": "stream",
       "stream": "stdout",
       "text": [
        "\n",
        "[-0.02204409 -0.03877551  0.07305503 -0.05309278  0.00396825 -0.02016325]"
       ]
      },
      {
       "output_type": "stream",
       "stream": "stdout",
       "text": [
        "\n",
        "[-0.09302326 -0.20526316 -0.13453815 -0.12991968  0.00616016 -0.04802324]"
       ]
      },
      {
       "output_type": "stream",
       "stream": "stdout",
       "text": [
        "\n",
        "[-0.09657948 -0.21567797 -0.16216216 -0.11767677  0.         -0.04420975]"
       ]
      },
      {
       "output_type": "stream",
       "stream": "stdout",
       "text": [
        "\n",
        "[-0.17029703 -0.38722986 -0.32135922 -0.12946612  0.00204082 -0.06263583]"
       ]
      },
      {
       "output_type": "stream",
       "stream": "stdout",
       "text": [
        "\n",
        "[-0.0083682   0.03801653  0.26720648  0.06428571  0.04098361  0.00482642]"
       ]
      },
      {
       "output_type": "stream",
       "stream": "stdout",
       "text": [
        "\n",
        "[-0.08971963 -0.26610879 -0.18902439 -0.12510373  0.         -0.06461963]"
       ]
      },
      {
       "output_type": "stream",
       "stream": "stdout",
       "text": [
        "\n",
        "[-0.01771654  0.0148073   0.23694779  0.01326531  0.02862986  0.002718  ]"
       ]
      },
      {
       "output_type": "stream",
       "stream": "stdout",
       "text": [
        "\n",
        "[-0.01132075  0.07708333  0.3762475   0.19        0.07142857  0.02479593]"
       ]
      },
      {
       "output_type": "stream",
       "stream": "stdout",
       "text": [
        "\n",
        "[-0.04562738 -0.08857143  0.03398058 -0.07753623  0.00407332 -0.02747634]"
       ]
      },
      {
       "output_type": "stream",
       "stream": "stdout",
       "text": [
        "\n",
        "[-0.06521739 -0.14948025 -0.1244898  -0.10107632  0.00210526 -0.04141473]"
       ]
      },
      {
       "output_type": "stream",
       "stream": "stdout",
       "text": [
        "\n",
        "[-0.08210526 -0.21732777 -0.15354331 -0.10731707  0.00400802 -0.05269852]"
       ]
      },
      {
       "output_type": "stream",
       "stream": "stdout",
       "text": [
        "\n",
        "[-0.02471483 -0.00344828  0.14693878 -0.02524752  0.02424242 -0.01116971]"
       ]
      },
      {
       "output_type": "stream",
       "stream": "stdout",
       "text": [
        "\n",
        "[-0.01941748  0.02857143  0.24596774  0.02374517  0.02173913 -0.00108334]"
       ]
      },
      {
       "output_type": "stream",
       "stream": "stdout",
       "text": [
        "\n",
        "[-0.06118547 -0.06764133 -0.022158   -0.0916499   0.00795229 -0.03247992]"
       ]
      },
      {
       "output_type": "stream",
       "stream": "stdout",
       "text": [
        "\n",
        "[-0.04733728 -0.11104536 -0.04214559 -0.09346979  0.00391389 -0.03799976]"
       ]
      },
      {
       "output_type": "stream",
       "stream": "stdout",
       "text": [
        "\n",
        "[-0.04123711 -0.03241107  0.06016598 -0.03047809  0.00595238 -0.0185868 ]"
       ]
      },
      {
       "output_type": "stream",
       "stream": "stdout",
       "text": [
        "\n",
        "[-0.04498978 -0.19019608 -0.08969466 -0.11923077  0.00192678 -0.05206099]"
       ]
      },
      {
       "output_type": "stream",
       "stream": "stdout",
       "text": [
        "\n",
        "[-0.03861789 -0.03530655  0.09959759 -0.05        0.00974659 -0.01590875]"
       ]
      },
      {
       "output_type": "stream",
       "stream": "stdout",
       "text": [
        "\n",
        "[-0.02303263  0.002       0.15510597 -0.00239085  0.01129944 -0.01793273]"
       ]
      },
      {
       "output_type": "stream",
       "stream": "stdout",
       "text": [
        "\n",
        "[-0.04828974 -0.06205534  0.02683897 -0.07738589  0.012      -0.02851834]"
       ]
      },
      {
       "output_type": "stream",
       "stream": "stdout",
       "text": [
        "\n",
        "[-0.02258727 -0.03793103  0.14705882 -0.0221174   0.01183432 -0.02123764]"
       ]
      },
      {
       "output_type": "stream",
       "stream": "stdout",
       "text": [
        "\n",
        "[-0.03777336 -0.09726563  0.05381605 -0.05269151  0.00557621 -0.02622009]"
       ]
      },
      {
       "output_type": "stream",
       "stream": "stdout",
       "text": [
        "\n",
        "[-0.02419355 -0.03806706  0.05900621 -0.05656064  0.00772201 -0.02262903]"
       ]
      },
      {
       "output_type": "stream",
       "stream": "stdout",
       "text": [
        "\n",
        "[-0.04125737 -0.08712274 -0.00519751 -0.06966173  0.00795229 -0.03415532]"
       ]
      },
      {
       "output_type": "stream",
       "stream": "stdout",
       "text": [
        "\n",
        "[-0.04742268 -0.03840156  0.07317073 -0.05853659  0.         -0.03191449]"
       ]
      },
      {
       "output_type": "stream",
       "stream": "stdout",
       "text": [
        "\n",
        "[-0.03       -0.02737643  0.14087302 -0.02601626  0.01865672 -0.00710396]"
       ]
      },
      {
       "output_type": "stream",
       "stream": "stdout",
       "text": [
        "\n",
        "[-0.04423077 -0.04777328 -0.01881188 -0.04453125  0.00976562 -0.0328673 ]"
       ]
      },
      {
       "output_type": "stream",
       "stream": "stdout",
       "text": [
        "\n",
        "[-0.03688525 -0.0416309   0.088      -0.0090998   0.01037344 -0.02040936]"
       ]
      },
      {
       "output_type": "stream",
       "stream": "stdout",
       "text": [
        "\n",
        "[-0.03256705 -0.04065511  0.08891013 -0.0496063   0.00798403 -0.01577827]"
       ]
      },
      {
       "output_type": "stream",
       "stream": "stdout",
       "text": [
        "\n",
        "[-0.03434343 -0.03513514  0.10251046 -0.05838207  0.00749064 -0.01928896]"
       ]
      },
      {
       "output_type": "stream",
       "stream": "stdout",
       "text": [
        "\n",
        "[-0.01380671 -0.01656442  0.05511811 -0.06268191  0.00617284 -0.02540915]"
       ]
      },
      {
       "output_type": "stream",
       "stream": "stdout",
       "text": [
        "\n",
        "[-0.01992032 -0.05461847  0.12862669 -0.05505051  0.0077821  -0.02066074]"
       ]
      },
      {
       "output_type": "stream",
       "stream": "stdout",
       "text": [
        "\n",
        "[-0.03125    -0.02830957  0.08627859 -0.02523629  0.01677149 -0.01852424]"
       ]
      },
      {
       "output_type": "stream",
       "stream": "stdout",
       "text": [
        "\n",
        "[-0.02857143 -0.018       0.07142857 -0.05427699  0.0141129  -0.01975194]"
       ]
      },
      {
       "output_type": "stream",
       "stream": "stdout",
       "text": [
        "\n",
        "[-0.0407332  -0.06602317  0.00293542 -0.07563601  0.00198807 -0.02637349]"
       ]
      },
      {
       "output_type": "stream",
       "stream": "stdout",
       "text": [
        "\n",
        "[-0.03183521 -0.0171875   0.05445545 -0.06913215  0.         -0.02221116]"
       ]
      },
      {
       "output_type": "stream",
       "stream": "stdout",
       "text": [
        "\n",
        "[-0.02839757 -0.04087302  0.10594059 -0.0714876   0.0083682  -0.01715806]"
       ]
      },
      {
       "output_type": "stream",
       "stream": "stdout",
       "text": [
        "\n",
        "[-0.0304878  -0.05079365  0.1        -0.07886179  0.00821355 -0.02320383]"
       ]
      },
      {
       "output_type": "stream",
       "stream": "stdout",
       "text": [
        "\n",
        "[-0.03339882 -0.04084507  0.06175299 -0.04711934  0.01014199 -0.02044159]"
       ]
      },
      {
       "output_type": "stream",
       "stream": "stdout",
       "text": [
        "\n",
        "[-0.03138075 -0.04446529  0.09453782 -0.05643275  0.00804829 -0.01940866]"
       ]
      },
      {
       "output_type": "stream",
       "stream": "stdout",
       "text": [
        "\n",
        "[-0.02325581 -0.04940239  0.15662651 -0.0685336   0.01851852 -0.01938053]"
       ]
      },
      {
       "output_type": "stream",
       "stream": "stdout",
       "text": [
        "\n",
        "[-0.05108055 -0.03319239  0.11538462 -0.03297872  0.01221996 -0.01972044]"
       ]
      },
      {
       "output_type": "stream",
       "stream": "stdout",
       "text": [
        "\n",
        "[-0.0390625  -0.06427105  0.05620155 -0.03339921  0.01160542 -0.02039108]"
       ]
      },
      {
       "output_type": "stream",
       "stream": "stdout",
       "text": [
        "\n",
        "Optimization terminated successfully.\n",
        "         Current function value: 0.007681\n",
        "         Iterations: 22\n",
        "         Function evaluations: 52\n",
        "[-0.01649485 -0.0399177   0.09631148 -0.04320388  0.00441501 -0.01840198]"
       ]
      },
      {
       "output_type": "stream",
       "stream": "stdout",
       "text": [
        "\n",
        "[-0.00389864 -0.01217039 -0.01543967 -0.03831041  0.1030303   0.01789541]"
       ]
      },
      {
       "output_type": "stream",
       "stream": "stdout",
       "text": [
        "\n",
        "[ 0.         -0.01043841  0.01116505 -0.00823045  0.13840156  0.01693771]"
       ]
      },
      {
       "output_type": "stream",
       "stream": "stdout",
       "text": [
        "\n",
        "[ 0.         -0.0039604   0.02113402  0.16538462  0.2192623   0.04438167]"
       ]
      },
      {
       "output_type": "stream",
       "stream": "stdout",
       "text": [
        "\n",
        "[-0.00195312 -0.01577909 -0.06867704 -0.14448669  0.07322176  0.00385066]"
       ]
      },
      {
       "output_type": "stream",
       "stream": "stdout",
       "text": [
        "\n",
        "[-0.00394477 -0.02012072 -0.028      -0.03164557  0.11885246  0.01640572]"
       ]
      },
      {
       "output_type": "stream",
       "stream": "stdout",
       "text": [
        "\n",
        "[-0.00761905 -0.05492424 -0.12554241 -0.19918699  0.06072106  0.00639705]"
       ]
      },
      {
       "output_type": "stream",
       "stream": "stdout",
       "text": [
        "\n",
        "[-0.01375246 -0.0605428  -0.20387597 -0.27142857  0.02886598 -0.02469708]"
       ]
      },
      {
       "output_type": "stream",
       "stream": "stdout",
       "text": [
        "\n",
        "[-0.00210084 -0.00795229  0.00918367  0.01663405  0.15936255  0.02901983]"
       ]
      },
      {
       "output_type": "stream",
       "stream": "stdout",
       "text": [
        "\n",
        "[ 0.         -0.00196078  0.02343454  0.10282258  0.13737374  0.02838295]"
       ]
      },
      {
       "output_type": "stream",
       "stream": "stdout",
       "text": [
        "\n",
        "[ 0.          0.          0.02211896  0.16730769  0.3010101   0.03822065]"
       ]
      },
      {
       "output_type": "stream",
       "stream": "stdout",
       "text": [
        "\n",
        "[ 0.         -0.01369863 -0.0208502  -0.08108108  0.09670782  0.01410014]"
       ]
      },
      {
       "output_type": "stream",
       "stream": "stdout",
       "text": [
        "\n",
        "[-0.00194932 -0.0233463  -0.08617886 -0.18490566  0.05533597  0.0091592 ]"
       ]
      },
      {
       "output_type": "stream",
       "stream": "stdout",
       "text": [
        "\n",
        "[ 0.         -0.00595238  0.00499022  0.08773784  0.1563786   0.02552325]"
       ]
      },
      {
       "output_type": "stream",
       "stream": "stdout",
       "text": [
        "\n",
        "[-0.00199203 -0.02479339 -0.03007812 -0.06913828  0.11919192  0.0171998 ]"
       ]
      },
      {
       "output_type": "stream",
       "stream": "stdout",
       "text": [
        "\n",
        "[ 0.         -0.01996008 -0.02839388 -0.02719665  0.10831721  0.01521411]"
       ]
      },
      {
       "output_type": "stream",
       "stream": "stdout",
       "text": [
        "\n",
        "[-0.00207039 -0.01584158 -0.0029661  -0.05691057  0.12621359  0.01681218]"
       ]
      },
      {
       "output_type": "stream",
       "stream": "stdout",
       "text": [
        "\n",
        "[-0.00384615 -0.021611   -0.00944798 -0.00604839  0.16297787  0.02410046]"
       ]
      },
      {
       "output_type": "stream",
       "stream": "stdout",
       "text": [
        "\n",
        "[ 0.         -0.00856531  0.00686275  0.05416667  0.14198783  0.02245481]"
       ]
      },
      {
       "output_type": "stream",
       "stream": "stdout",
       "text": [
        "\n",
        "[-0.00201207 -0.0155642  -0.01679389  0.01372549  0.10714286  0.01322711]"
       ]
      },
      {
       "output_type": "stream",
       "stream": "stdout",
       "text": [
        "\n",
        "[-0.00209205 -0.01574803 -0.005666   -0.02862595  0.10337972  0.00726116]"
       ]
      },
      {
       "output_type": "stream",
       "stream": "stdout",
       "text": [
        "\n",
        "[-0.00753296 -0.02674897 -0.04839357 -0.11836735  0.09659091  0.00677677]"
       ]
      },
      {
       "output_type": "stream",
       "stream": "stdout",
       "text": [
        "\n",
        "[ 0.         -0.00982318 -0.00508475 -0.012       0.11247444  0.01964801]"
       ]
      },
      {
       "output_type": "stream",
       "stream": "stdout",
       "text": [
        "\n",
        "[-0.0019084  -0.0204918  -0.01846473 -0.00884086  0.12745098  0.01413821]"
       ]
      },
      {
       "output_type": "stream",
       "stream": "stdout",
       "text": [
        "\n",
        "[-0.00417537 -0.02222222 -0.03316832 -0.07085828  0.10505051  0.01246097]"
       ]
      },
      {
       "output_type": "stream",
       "stream": "stdout",
       "text": [
        "\n",
        "[ 0.         -0.00642398 -0.00996132 -0.03216374  0.10060362  0.01337277]"
       ]
      },
      {
       "output_type": "stream",
       "stream": "stdout",
       "text": [
        "\n",
        "[-0.00194553 -0.008      -0.02128713 -0.06976744  0.09631148  0.01611536]"
       ]
      },
      {
       "output_type": "stream",
       "stream": "stdout",
       "text": [
        "\n",
        "[-0.00582524 -0.0204918  -0.01387226 -0.04420432  0.10536779  0.01676718]"
       ]
      },
      {
       "output_type": "stream",
       "stream": "stdout",
       "text": [
        "\n",
        "[ 0.         -0.00785855 -0.01092437  0.          0.10909091  0.01518428]"
       ]
      },
      {
       "output_type": "stream",
       "stream": "stdout",
       "text": [
        "\n",
        "[ 0.         -0.00858369 -0.00918367  0.02290076  0.10119048  0.0134202 ]"
       ]
      },
      {
       "output_type": "stream",
       "stream": "stdout",
       "text": [
        "\n",
        "[ 0.         -0.0078125  -0.00172414  0.02525253  0.1393597   0.01222634]"
       ]
      },
      {
       "output_type": "stream",
       "stream": "stdout",
       "text": [
        "\n",
        "[-0.00199601 -0.02489627 -0.0254717  -0.07875458  0.08351178  0.00594341]"
       ]
      },
      {
       "output_type": "stream",
       "stream": "stdout",
       "text": [
        "\n",
        "[ 0.         -0.01174168 -0.01339468 -0.02325581  0.10865191  0.01596721]"
       ]
      },
      {
       "output_type": "stream",
       "stream": "stdout",
       "text": [
        "\n",
        "[-0.00411523 -0.01006036 -0.02755102 -0.056       0.10059172  0.01150888]"
       ]
      },
      {
       "output_type": "stream",
       "stream": "stdout",
       "text": [
        "\n",
        "[-0.00189036 -0.00922509 -0.00918367 -0.04510557  0.10756972  0.01677538]"
       ]
      },
      {
       "output_type": "stream",
       "stream": "stdout",
       "text": [
        "\n",
        "[-0.00397614 -0.00833333 -0.03190476 -0.05818966  0.10351967  0.01504507]"
       ]
      },
      {
       "output_type": "stream",
       "stream": "stdout",
       "text": [
        "\n",
        "[ 0.         -0.022      -0.01418219 -0.02057613  0.11198428  0.01080336]"
       ]
      },
      {
       "output_type": "stream",
       "stream": "stdout",
       "text": [
        "\n",
        "[ 0.         -0.00992063 -0.00753968 -0.01214575  0.09745763  0.01443839]"
       ]
      },
      {
       "output_type": "stream",
       "stream": "stdout",
       "text": [
        "\n",
        "[-0.00393701 -0.0204918  -0.01016598 -0.04032258  0.12992126  0.0152677 ]"
       ]
      },
      {
       "output_type": "stream",
       "stream": "stdout",
       "text": [
        "\n",
        "[ 0.         -0.014      -0.01444906 -0.03861004  0.0831643   0.01483147]"
       ]
      },
      {
       "output_type": "stream",
       "stream": "stdout",
       "text": [
        "\n",
        "Optimization terminated successfully.\n",
        "         Current function value: 0.009032\n",
        "         Iterations: 14\n",
        "         Function evaluations: 39\n",
        "[-0.00190476 -0.01039501 -0.00465587 -0.00322581  0.11174242  0.0137346 ]"
       ]
      },
      {
       "output_type": "stream",
       "stream": "stdout",
       "text": [
        "\n"
       ]
      }
     ],
     "prompt_number": 12
    },
    {
     "cell_type": "code",
     "collapsed": false,
     "input": [
      "paramdf.sort_index(inplace=True)\n",
      "pdf=paramdf.loc[27:28,:]"
     ],
     "language": "python",
     "metadata": {},
     "outputs": [],
     "prompt_number": 94
    },
    {
     "cell_type": "code",
     "collapsed": false,
     "input": [
      "pdf"
     ],
     "language": "python",
     "metadata": {},
     "outputs": [
      {
       "html": [
        "<div style=\"max-height:1000px;max-width:1500px;overflow:auto;\">\n",
        "<table border=\"1\" class=\"dataframe\">\n",
        "  <thead>\n",
        "    <tr style=\"text-align: right;\">\n",
        "      <th></th>\n",
        "      <th>a</th>\n",
        "      <th>t</th>\n",
        "      <th>z</th>\n",
        "      <th>v</th>\n",
        "      <th>ssv</th>\n",
        "    </tr>\n",
        "    <tr>\n",
        "      <th>subj_idx</th>\n",
        "      <th></th>\n",
        "      <th></th>\n",
        "      <th></th>\n",
        "      <th></th>\n",
        "      <th></th>\n",
        "    </tr>\n",
        "  </thead>\n",
        "  <tbody>\n",
        "    <tr>\n",
        "      <th>27</th>\n",
        "      <td> 0.431551</td>\n",
        "      <td> 0.306564</td>\n",
        "      <td> 0.166113</td>\n",
        "      <td> 1.036600</td>\n",
        "      <td> 0.969867</td>\n",
        "    </tr>\n",
        "    <tr>\n",
        "      <th>28</th>\n",
        "      <td> 0.337028</td>\n",
        "      <td> 0.372822</td>\n",
        "      <td> 0.132921</td>\n",
        "      <td> 1.114654</td>\n",
        "      <td> 0.730000</td>\n",
        "    </tr>\n",
        "  </tbody>\n",
        "</table>\n",
        "</div>"
       ],
       "metadata": {},
       "output_type": "pyout",
       "prompt_number": 95,
       "text": [
        "                 a         t         z         v       ssv\n",
        "subj_idx                                                  \n",
        "27        0.431551  0.306564  0.166113  1.036600  0.969867\n",
        "28        0.337028  0.372822  0.132921  1.114654  0.730000"
       ]
      }
     ],
     "prompt_number": 95
    },
    {
     "cell_type": "code",
     "collapsed": false,
     "input": [],
     "language": "python",
     "metadata": {},
     "outputs": []
    },
    {
     "cell_type": "code",
     "collapsed": false,
     "input": [
      "sxl=list()\n",
      "for sx in paramdf.index.unique():\n",
      "    try:\n",
      "        sxl.append(pd.read_csv(pth+\"OptAccRT/SxFits/OptAccRT_Sx\"+str(sx)+\".csv\", index_col=0))\n",
      "    except:\n",
      "        pass\n",
      "df=pd.concat(sxl)"
     ],
     "language": "python",
     "metadata": {},
     "outputs": [],
     "prompt_number": 18
    },
    {
     "cell_type": "code",
     "collapsed": false,
     "input": [],
     "language": "python",
     "metadata": {},
     "outputs": [
      {
       "html": [
        "<div style=\"max-height:1000px;max-width:1500px;overflow:auto;\">\n",
        "<table border=\"1\" class=\"dataframe\">\n",
        "  <thead>\n",
        "    <tr style=\"text-align: right;\">\n",
        "      <th></th>\n",
        "      <th>chi</th>\n",
        "      <th>residuals</th>\n",
        "      <th>subj_idx</th>\n",
        "      <th>ydata</th>\n",
        "      <th>yhat</th>\n",
        "    </tr>\n",
        "    <tr>\n",
        "      <th>ssdlist</th>\n",
        "      <th></th>\n",
        "      <th></th>\n",
        "      <th></th>\n",
        "      <th></th>\n",
        "      <th></th>\n",
        "    </tr>\n",
        "  </thead>\n",
        "  <tbody>\n",
        "    <tr>\n",
        "      <th>200</th>\n",
        "      <td> 0.020504</td>\n",
        "      <td> 0.000333</td>\n",
        "      <td> 60.741379</td>\n",
        "      <td> 0.994828</td>\n",
        "      <td> 0.995161</td>\n",
        "    </tr>\n",
        "    <tr>\n",
        "      <th>250</th>\n",
        "      <td> 0.020504</td>\n",
        "      <td>-0.010214</td>\n",
        "      <td> 60.741379</td>\n",
        "      <td> 0.983621</td>\n",
        "      <td> 0.973407</td>\n",
        "    </tr>\n",
        "    <tr>\n",
        "      <th>300</th>\n",
        "      <td> 0.020504</td>\n",
        "      <td> 0.000354</td>\n",
        "      <td> 60.741379</td>\n",
        "      <td> 0.899138</td>\n",
        "      <td> 0.899492</td>\n",
        "    </tr>\n",
        "    <tr>\n",
        "      <th>350</th>\n",
        "      <td> 0.020504</td>\n",
        "      <td>-0.026420</td>\n",
        "      <td> 60.741379</td>\n",
        "      <td> 0.513793</td>\n",
        "      <td> 0.487373</td>\n",
        "    </tr>\n",
        "    <tr>\n",
        "      <th>400</th>\n",
        "      <td> 0.020504</td>\n",
        "      <td> 0.044050</td>\n",
        "      <td> 60.741379</td>\n",
        "      <td> 0.099138</td>\n",
        "      <td> 0.143188</td>\n",
        "    </tr>\n",
        "    <tr>\n",
        "      <th>rt</th>\n",
        "      <td> 0.020504</td>\n",
        "      <td>-0.004046</td>\n",
        "      <td> 60.741379</td>\n",
        "      <td> 0.560062</td>\n",
        "      <td> 0.556015</td>\n",
        "    </tr>\n",
        "  </tbody>\n",
        "</table>\n",
        "</div>"
       ],
       "metadata": {},
       "output_type": "pyout",
       "prompt_number": 44,
       "text": [
        "              chi  residuals   subj_idx     ydata      yhat\n",
        "ssdlist                                                    \n",
        "200      0.020504   0.000333  60.741379  0.994828  0.995161\n",
        "250      0.020504  -0.010214  60.741379  0.983621  0.973407\n",
        "300      0.020504   0.000354  60.741379  0.899138  0.899492\n",
        "350      0.020504  -0.026420  60.741379  0.513793  0.487373\n",
        "400      0.020504   0.044050  60.741379  0.099138  0.143188\n",
        "rt       0.020504  -0.004046  60.741379  0.560062  0.556015"
       ]
      }
     ],
     "prompt_number": 44
    },
    {
     "cell_type": "code",
     "collapsed": false,
     "input": [
      "avg=df.groupby('ssdlist').mean()\n",
      "sem=df.groupby('ssdlist').sem()\n",
      "\n",
      "avg=df.groupby('ssdlist').mean()\n",
      "yd=avg['ydata'][:-1]\n",
      "yh=avg['yhat'][:-1]\n",
      "rtd=avg['ydata'][-1]\n",
      "rth=avg['yhat'][-1]\n",
      "\n",
      "sns.palplot(sparams['colors'])"
     ],
     "language": "python",
     "metadata": {},
     "outputs": [
      {
       "metadata": {},
       "output_type": "display_data",
       "png": "[encoded data removed]",
       "text": [
        "<matplotlib.figure.Figure at 0x7f7b58439ed0>"
       ]
      }
     ],
     "prompt_number": 47
    },
    {
     "cell_type": "code",
     "collapsed": false,
     "input": [
      "import seaborn as sns\n",
      "psy=reload(psy)\n",
      "utils=reload(utils)\n",
      "\n",
      "sparams=utils.style_params()\n",
      "colors=sparams['colors']\n",
      "sns.set_style('ticks', rc=sparams['style'])\n",
      "sns.set_context('paper', rc=sparams['context'])\n",
      "\n",
      "stopmeans=[yd[::-1], yh[::-1]]\n",
      "stoperr=[sem['ydata'][:-1][::-1]*2, sem['yhat'][:-1][::-1]*2]\n",
      "\n",
      "ax=psy.scurves(ysim=stopmeans, yerr=stoperr, title='SingleSx_OptAccRT_Final_+-2SEM.png', \n",
      "               colors=[colors[-8], colors[-1]], labels=['Data', 'RADD'])"
     ],
     "language": "python",
     "metadata": {},
     "outputs": [
      {
       "metadata": {},
       "output_type": "display_data",
       "png": "[encoded data removed]",
       "text": [
        "<matplotlib.figure.Figure at 0x7f7b571e6990>"
       ]
      }
     ],
     "prompt_number": 93
    },
    {
     "cell_type": "code",
     "collapsed": false,
     "input": [
      "#plot rt\n",
      "ff, axx=plt.subplots(1, figsize=(5, 6.5))\n",
      "\n",
      "axx.bar(0, rtd, yerr=sem['ydata'][-1], color=colors[-8], error_kw={\"elinewidth\":3, \"capthick\":2.5, \n",
      "        \"capsize\":3, \"ecolor\":'k'}, alpha=.9,align='center', label='Data')\n",
      "\n",
      "axx.errorbar(0, rth, yerr=sem['yhat'][-1], marker='o', markersize=15, \n",
      "             elinewidth=2, ecolor=colors[-1], color=colors[-1], alpha=.8, label='RADD')   \n",
      "\n",
      "plt.setp(axx, xlim=(-.7, .7), ylim=(.5, .6), ylabel='RT (s)', xticks=[], xticklabels=[], xlabel='ssRe BSL')\n",
      "axx.set_xlabel('Baseline', fontsize=19)\n",
      "plt.setp(axx.get_yticklabels(), fontsize=17)\n",
      "axx.set_ylabel('RT (s)', fontsize=19, labelpad=8) \n",
      "axx.legend(loc=0, fontsize=17)\n",
      "sns.despine()\n",
      "plt.tight_layout()\n",
      "ff.savefig(pth+\"SingleSxReBSL_OptRT_Final.png\", dpi=600)    "
     ],
     "language": "python",
     "metadata": {},
     "outputs": [
      {
       "metadata": {},
       "output_type": "display_data",
       "png": "[encoded data removed]",
       "text": [
        "<matplotlib.figure.Figure at 0x7f7b56b827d0>"
       ]
      }
     ],
     "prompt_number": 96
    },
    {
     "cell_type": "code",
     "collapsed": false,
     "input": [
      "from radd import psy"
     ],
     "language": "python",
     "metadata": {},
     "outputs": [],
     "prompt_number": 32
    },
    {
     "cell_type": "code",
     "collapsed": false,
     "input": [
      "psy=reload(psy)\n",
      "psy.scurves(ysim=[yd[::-1], yh[::-1]], yerr=[sem['ydata'][:-1][::-1], sem['yhat'][:-1][::-1]], \n",
      "            title='SingleSx_OptAccRT_Final_+-SEM.png', colors=[colors[-8], colors[-1]], labels=['Data', 'RADD'])"
     ],
     "language": "python",
     "metadata": {},
     "outputs": [
      {
       "metadata": {},
       "output_type": "pyout",
       "prompt_number": 74,
       "text": [
        "<matplotlib.axes._subplots.AxesSubplot at 0x7f7b57196b10>"
       ]
      },
      {
       "metadata": {},
       "output_type": "display_data",
       "png": "[encoded data removed]",
       "text": [
        "<matplotlib.figure.Figure at 0x7f7b571d4c10>"
       ]
      }
     ],
     "prompt_number": 74
    },
    {
     "cell_type": "code",
     "collapsed": false,
     "input": [
      "import scipy\n",
      "from scipy import *\n",
      "def newscurves(ysim=[], task='ssRe', pstop=.5, labels=[], colors=[], yerr=[], title='stop_curves', plot_data=False):\n",
      "\t\n",
      "\n",
      "\tpth=utils.find_path()\n",
      "\t\n",
      "\tstyle_params=utils.style_params(style='ticks', context='paper')\n",
      "\n",
      "\tsns.set_style(rc=style_params['style'])\n",
      "\tsns.set_context(rc=style_params['context'])\n",
      "\t\n",
      "\tf = plt.figure(figsize=(7, 7)) \n",
      "\tf.subplots_adjust(top=0.95, wspace=0.12, left=0.19, right=0.98, bottom=0.15)\t\n",
      "\tax = f.add_subplot(111)\n",
      "\n",
      "\t#if plot_data:\n",
      "\t#\tie=0\n",
      "\t#\tysim.append(emp_bsl)\n",
      "\t#\tysim.append(emp_pnl)\n",
      "\t#\n",
      "\tnpoints=len(ysim[0])\n",
      "\txsim=np.linspace(-5, 110, 10000)\n",
      "\tscale_factor=10\n",
      "\n",
      "\t#x=np.array(np.linspace(1, 100, npoints), dtype='float')\n",
      "\tx=np.array([400, 350, 300, 250, 200], dtype='float')[::-1]\n",
      "\t#xxticks=x/100\n",
      "\t#xxticklabels=np.array(xxticks)/10\n",
      "\t#xxlim=(100, 500)\n",
      "\txxlabel='P(Go)'\n",
      "\t\n",
      "\tif 'ssRe' in task:\n",
      "\t\txxlabel='SSD (ms)'\n",
      "\t\txxticklabels=np.arange(200, 500, 50)\n",
      "\t#\temp_bsl=np.array([.994, .982, .896, .504, .103], dtype='float')[::-1]\n",
      "\t#\temp_pnl=np.array([.993, .985, .925, .594, .181], dtype='float')[::-1]\n",
      "\t#\t#labels=['BSL', 'PNL']\n",
      "\n",
      "\tx=psy.res(-x,lower=x[-1]/10, upper=x[0]/10)\n",
      "\n",
      "\tsns.despine()\n",
      "\t#if plot_data:\n",
      "\t#\tie=0\n",
      "\t#\tysim.append(emp_bsl)\n",
      "\t#\tysim.append(emp_pnl)\n",
      "\t\n",
      "\tif colors==[]:\n",
      "\t\tcolors=sns.color_palette(sns.color_palette(),len(ysim))\n",
      "\tif labels==[]:\n",
      "\t\tlabels=[\"C%i\"%i for i in np.arange(len(ysim))]\n",
      "\t#title=\"Stop Curves: RaDD v. DDM\"\n",
      "\t#colors=sns.blend_palette([\"#53FCAL\", \"#40a368\"], len(ysim))\n",
      "\t#colors = sns.blend_palette([\"#6600CC\", \"#66CCFF\"], len(ysim))\n",
      "\t#title=\"Reactive BSL: Radd vs. DDM\"\n",
      "\ttitle=title\n",
      "\tai=0\n",
      "\tfor i, yi in enumerate(ysim):\n",
      "\n",
      "\t\ty=psy.res(yi, lower=yi[-1], upper=yi[0])\n",
      "\n",
      "\t\tp_guess=(np.median(x),np.median(y),1.0,1.0)\n",
      "\t\tp, cov, infodict, mesg, ier = scipy.optimize.leastsq(\n",
      "\t\t    residuals,p_guess,args=(x,y),full_output=1)\n",
      "    \t\n",
      "\t\tx0,y0,c,k=p\n",
      "\n",
      "\t\txp = xsim \n",
      "\t\tpxp=psy.sigmoid(p,xp)\n",
      "\n",
      "\t\tidx = (np.abs(pxp - pstop)).argmin()\n",
      "\n",
      "\t\t# Plot the results\n",
      "\t\t#if plot_data and (i==len(ysim)-1 or i==len(ysim)-2):\n",
      "\t\t#\tecolors=['Navy', 'FireBrick']#, '#E60000']; \n",
      "\t\t#\telabels=['Data (BSL)', 'Data (PNL)']\n",
      "\t\t#\tax.plot(xp, pxp, '-', lw=5.0, color=ecolors[ie], alpha=.9)\n",
      "\t\t#\tax.plot(x, y, marker='o', color=ecolors[ie], ms=10, lw=0, alpha=.4, label=elabels[ie])\n",
      "\t\t#\tie+=1\n",
      "\t\t#else:\n",
      "\t\tif i==0:\n",
      "\t\t\talpha=.95\n",
      "\t\t\tmkr='o'\n",
      "\t\t\tlinestyle='--'\n",
      "\t\telse:\n",
      "\t\t\talpha=.7\n",
      "\t\t\tmkr='o'\n",
      "\t\t\tlinestyle='-'\n",
      "\n",
      "\t\tax.plot(xp, pxp, linestyle=linestyle, lw=6.0, color=colors[i], alpha=alpha)\n",
      "\t\t\n",
      "\t\tif yerr != []:\n",
      "\t\t\tax.errorbar(x, y, yerr=yerr[i], marker=mkr, color=colors[i], ecolor=colors[i], ms=9, lw=0, elinewidth=3, alpha=alpha, label=labels[i])\n",
      "\t\telse:\n",
      "\t\t\tax.plot(x, y, marker=mkr, color=colors[i], ms=9, lw=0, alpha=alpha, label=labels[i])\n",
      "\t\tai+=.02\n",
      "\n",
      "\t\t#pse.append(xp[idx]/scale_factor)\n",
      "\n",
      "\t#ax.set_xlim(xxlim)\n",
      "\t#ax.set_xlabel(xxlabel, fontsize=22)\n",
      "\t#ax.set_xticks(xxticks)\n",
      "\t#ax.set_xticklabels(xxticklabels, fontsize=18)\n",
      "\t#ax.set_ylim(0, 1.05)\t\n",
      "\n",
      "\t#plt.setp(ax.get_yticklabels(), fontsize=18)\t\n",
      "\tax.set_ylabel('P(Inhibit)', fontsize=22, labelpad=8) \n",
      "\tax.legend(loc=0, fontsize=14)\n",
      "\t#ax.set_title(title, fontsize=20)\n",
      "\tplt.tight_layout()\n",
      "\tplt.savefig(pth+title+\".png\", dpi=300)\n",
      "\n",
      "\t#plt.savefig(pth+\"ReactiveDataSCurves.png\", dpi=300)\n",
      "\n",
      "\treturn ax"
     ],
     "language": "python",
     "metadata": {},
     "outputs": [],
     "prompt_number": 65
    },
    {
     "cell_type": "code",
     "collapsed": false,
     "input": [
      "\n"
     ],
     "language": "python",
     "metadata": {},
     "outputs": []
    }
   ],
   "metadata": {}
  }
 ]
}