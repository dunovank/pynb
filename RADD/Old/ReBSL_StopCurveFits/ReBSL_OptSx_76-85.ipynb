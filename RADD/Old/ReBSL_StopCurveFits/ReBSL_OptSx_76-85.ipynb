{
 "metadata": {
  "name": "",
  "signature": "sha256:7c96991053c15a0664e9d52e69d7b60cdc6070d5e9cb1a5c5c43015b71e5d393"
 },
 "nbformat": 3,
 "nbformat_minor": 0,
 "worksheets": [
  {
   "cells": [
    {
     "cell_type": "code",
     "collapsed": false,
     "input": [
      "from __future__ import division\n",
      "import os\n",
      "from collections import OrderedDict\n",
      "\n",
      "#import multiprocessing as mp\n",
      "\n",
      "import seaborn as sns\n",
      "import pandas as pd\n",
      "from radd import qsim, psy, utils, ft, simfx, ss, opt\n",
      "from radd.simfx import *\n",
      "import scipy as scp\n",
      "\n",
      "from lmfit import minimize, Parameters, Parameter, report_fit, Minimizer, fit_report"
     ],
     "language": "python",
     "metadata": {},
     "outputs": [],
     "prompt_number": 1
    },
    {
     "cell_type": "code",
     "collapsed": false,
     "input": [
      "inits={28: 0.73, 29: 0.71, 30: 1.92, 31: 0.6, 32: 0.82, 33: 0.67, 34: 0.61, 35: 0.43, 36: 1.23, \n",
      "       37: 0.55, 38: 1.8, 40: 1.75, 41: 1.62, 42: 0.73, 43: 0.6, 44: 1.41, 45: 1.21, 47: 0.52, 48: 0.74, \n",
      "       50: 1.54, 51: 0.7, 52: 0.53, 54: 0.54, 55: 0.6, 56: 0.51, 57: 0.63, 58: 1.2, 59: 1.2, \n",
      "       60: 0.69, 61: 1.69, 62: 0.6, 63: 1.66, 65: 1.2, 67: 1.39, 68: 0.76, 70: 0.75, 71: 0.84, 72: 0.75, \n",
      "       73: 0.54, 74: 0.75, 75: 0.62, 76: 1.02, 77: 0.89, 78: 0.98, 79: 1.93, 80: 1.38, 81: 0.88, \n",
      "       82: 1.21, 83: 0.72, 84: 0.89, 85: 1.3, 86: 1.03, 87: 0.86, 88: 1.36, 89: 1.07, 90: 0.5, 95: 1.41, 97: 0.65}\n"
     ],
     "language": "python",
     "metadata": {},
     "outputs": [],
     "prompt_number": 33
    },
    {
     "cell_type": "code",
     "collapsed": false,
     "input": [
      "pth=utils.find_path()+\"CoAx/SS/\"\n",
      "pd.set_option('precision',4)\n",
      "#load params & drop subjects with failed HDDM fits\n",
      "rePar=pd.read_csv(pth+\"HDDM/Reactive/vbias_full/vBP_SxStats.csv\")\n",
      "paramdf=rePar.query('subj_idx!=[39, 66, 69]')\n",
      "#proPar=pd.read_csv(pth+\"HDDM/Proactive/vfull_sx/vfull_HiLo_550_SxStats.csv\")\n",
      "\n",
      "#slice a few subjects for testing\n",
      "testdf=paramdf.query('subj_idx==[28, 29, 30]')\n",
      "\n",
      "#load data & isolate bsl condition\n",
      "data=pd.read_csv(pth+\"Reactive/Re_AllData.csv\")\n",
      "data=data[data.Cond=='bsl']"
     ],
     "language": "python",
     "metadata": {},
     "outputs": [],
     "prompt_number": 3
    },
    {
     "cell_type": "code",
     "collapsed": false,
     "input": [
      "opt=reload(opt)\n",
      "\n",
      "sxtofit=data.query('subj_idx!=[39, 66, 69]')\n",
      "\n",
      "dat=sxtofit.query('75<subj_idx<86')\n",
      "par=paramdf.query('75<subj_idx<86')\n",
      "\n",
      "opt.optRadd(dat, par, ntrials=20000)"
     ],
     "language": "python",
     "metadata": {},
     "outputs": [
      {
       "html": [
        "\n",
        "\t    <div style=\"border: 1px solid black; width:500px\">\n",
        "\t    <div id=\"67e925b3-8b48-4292-89a4-03410abca7a5\" style=\"background-color:#4168B7; width:0%\">&nbsp;</div>\n",
        "\t    </div> \n",
        "\t    "
       ],
       "metadata": {},
       "output_type": "display_data",
       "text": [
        "<IPython.core.display.HTML at 0x7f3690089e50>"
       ]
      },
      {
       "output_type": "stream",
       "stream": "stdout",
       "text": [
        "Subject 76: Successfully converged\n",
        "--------------------------------------\n"
       ]
      },
      {
       "javascript": [
        "$('div#67e925b3-8b48-4292-89a4-03410abca7a5').width('10.00%')"
       ],
       "metadata": {},
       "output_type": "display_data",
       "text": [
        "<IPython.core.display.Javascript at 0x7f369004e0d0>"
       ]
      },
      {
       "output_type": "stream",
       "stream": "stdout",
       "text": [
        "Subject 77: Successfully converged\n",
        "--------------------------------------\n"
       ]
      },
      {
       "javascript": [
        "$('div#67e925b3-8b48-4292-89a4-03410abca7a5').width('20.00%')"
       ],
       "metadata": {},
       "output_type": "display_data",
       "text": [
        "<IPython.core.display.Javascript at 0x7f366bf09bd0>"
       ]
      },
      {
       "output_type": "stream",
       "stream": "stdout",
       "text": [
        "Subject 78: Successfully converged\n",
        "--------------------------------------\n"
       ]
      },
      {
       "javascript": [
        "$('div#67e925b3-8b48-4292-89a4-03410abca7a5').width('30.00%')"
       ],
       "metadata": {},
       "output_type": "display_data",
       "text": [
        "<IPython.core.display.Javascript at 0x7f366bfdc610>"
       ]
      },
      {
       "output_type": "stream",
       "stream": "stdout",
       "text": [
        "Subject 79: Successfully converged\n",
        "--------------------------------------\n"
       ]
      },
      {
       "javascript": [
        "$('div#67e925b3-8b48-4292-89a4-03410abca7a5').width('40.00%')"
       ],
       "metadata": {},
       "output_type": "display_data",
       "text": [
        "<IPython.core.display.Javascript at 0x7f366bf57050>"
       ]
      },
      {
       "output_type": "stream",
       "stream": "stdout",
       "text": [
        "Subject 80: Successfully converged\n",
        "--------------------------------------\n"
       ]
      },
      {
       "javascript": [
        "$('div#67e925b3-8b48-4292-89a4-03410abca7a5').width('50.00%')"
       ],
       "metadata": {},
       "output_type": "display_data",
       "text": [
        "<IPython.core.display.Javascript at 0x7f366bede710>"
       ]
      },
      {
       "output_type": "stream",
       "stream": "stdout",
       "text": [
        "Subject 81: Successfully converged\n",
        "--------------------------------------\n"
       ]
      },
      {
       "javascript": [
        "$('div#67e925b3-8b48-4292-89a4-03410abca7a5').width('60.00%')"
       ],
       "metadata": {},
       "output_type": "display_data",
       "text": [
        "<IPython.core.display.Javascript at 0x7f366bfffe90>"
       ]
      },
      {
       "output_type": "stream",
       "stream": "stdout",
       "text": [
        "Subject 82: Successfully converged\n",
        "--------------------------------------\n"
       ]
      },
      {
       "javascript": [
        "$('div#67e925b3-8b48-4292-89a4-03410abca7a5').width('70.00%')"
       ],
       "metadata": {},
       "output_type": "display_data",
       "text": [
        "<IPython.core.display.Javascript at 0x7f366becead0>"
       ]
      },
      {
       "output_type": "stream",
       "stream": "stdout",
       "text": [
        "Subject 83: Successfully converged\n",
        "--------------------------------------\n"
       ]
      },
      {
       "javascript": [
        "$('div#67e925b3-8b48-4292-89a4-03410abca7a5').width('80.00%')"
       ],
       "metadata": {},
       "output_type": "display_data",
       "text": [
        "<IPython.core.display.Javascript at 0x7f366bf14650>"
       ]
      },
      {
       "output_type": "stream",
       "stream": "stdout",
       "text": [
        "Subject 84: Successfully converged\n",
        "--------------------------------------\n"
       ]
      },
      {
       "javascript": [
        "$('div#67e925b3-8b48-4292-89a4-03410abca7a5').width('90.00%')"
       ],
       "metadata": {},
       "output_type": "display_data",
       "text": [
        "<IPython.core.display.Javascript at 0x7f36cdbd0350>"
       ]
      },
      {
       "output_type": "stream",
       "stream": "stdout",
       "text": [
        "Subject 85: Successfully converged\n",
        "--------------------------------------\n"
       ]
      },
      {
       "javascript": [
        "$('div#67e925b3-8b48-4292-89a4-03410abca7a5').width('100.00%')"
       ],
       "metadata": {},
       "output_type": "display_data",
       "text": [
        "<IPython.core.display.Javascript at 0x7f366bf93fd0>"
       ]
      }
     ],
     "prompt_number": 4
    },
    {
     "cell_type": "code",
     "collapsed": false,
     "input": [],
     "language": "python",
     "metadata": {},
     "outputs": []
    }
   ],
   "metadata": {}
  }
 ]
}