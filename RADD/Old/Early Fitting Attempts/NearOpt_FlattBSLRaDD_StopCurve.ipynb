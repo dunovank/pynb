{
 "metadata": {
  "name": "",
  "signature": "sha256:6a984a5d13c87064a243993dbb9422f3591ebc24d8c7ef599a1905454aa071b2"
 },
 "nbformat": 3,
 "nbformat_minor": 0,
 "worksheets": [
  {
   "cells": [
    {
     "cell_type": "code",
     "collapsed": false,
     "input": [
      "from __future__ import division\n",
      "import os\n",
      "from collections import OrderedDict\n",
      "\n",
      "#import multiprocessing as mp\n",
      "\n",
      "import seaborn as sns\n",
      "import pandas as pd\n",
      "from radd import qsim, psy, utils, ft, simfx, ss\n",
      "from radd.simfx import *\n",
      "import scipy as scp\n",
      "\n",
      "from lmfit import minimize, Parameters, Parameter, report_fit, Minimizer, fit_report"
     ],
     "language": "python",
     "metadata": {},
     "outputs": [],
     "prompt_number": 1
    },
    {
     "cell_type": "code",
     "collapsed": false,
     "input": [
      "pth=utils.find_path()+\"CoAx/SS/\"\n",
      "pd.set_option('precision',4)\n",
      "#load params & drop subjects with failed HDDM fits\n",
      "rePar=pd.read_csv(pth+\"HDDM/Reactive/vbias_full/vBP_SxStats.csv\")\n",
      "paramdf=rePar.query('subj_idx!=[39, 66, 69]')\n",
      "#proPar=pd.read_csv(pth+\"HDDM/Proactive/vfull_sx/vfull_HiLo_550_SxStats.csv\")\n",
      "\n",
      "#slice a few subjects for testing\n",
      "testdf=paramdf.query('subj_idx==[28, 29, 30]')\n",
      "\n",
      "#load data & isolate bsl condition\n",
      "data=pd.read_csv(pth+\"Reactive/Re_AllData.csv\")\n",
      "data=data[data.Cond=='bsl']\n",
      "\n",
      "#load ss drift-rates fitted from reactive data\n",
      "#ssvdf=pd.read_csv(pth+\"ReSSV_Sims/Nested/800trials_50maxfun/SxFitSummary.csv\", index_col='subj_idx')\n",
      "#ssvdf=pd.read_csv(pth+\"ReSSV_Sims/sxparams_ssv800.csv\")\n",
      "#ssvdf2=pd.read_csv(pth+\"ReSSV_Sims/sxparams_w_ssv5000.csv\")\n",
      "#ssvdict=ssvdf.to_dict()"
     ],
     "language": "python",
     "metadata": {},
     "outputs": [],
     "prompt_number": 2
    },
    {
     "cell_type": "code",
     "collapsed": false,
     "input": [
      "inits={28: 0.73, 29: 0.71, 30: 1.92, 31: 0.6, 32: 0.82, 33: 0.67, 34: 0.61, 35: 0.43, 36: 1.23, \n",
      "       37: 0.55, 38: 1.8, 40: 1.75, 41: 1.62, 42: 0.73, 43: 0.6, 44: 1.41, 45: 1.21, 47: 0.52, 48: 0.74, \n",
      "       50: 1.54, 51: 0.7, 52: 0.53, 54: 0.54, 55: 0.6, 56: 0.51, 57: 0.63, 58: 1.2, 59: 1.2, \n",
      "       60: 0.69, 61: 1.69, 62: 0.6, 63: 1.66, 65: 1.2, 67: 1.39, 68: 0.76, 70: 0.75, 71: 0.84, 72: 0.75, \n",
      "       73: 0.54, 74: 0.75, 75: 0.62, 76: 1.02, 77: 0.89, 78: 0.98, 79: 1.93, 80: 1.38, 81: 0.88, \n",
      "       82: 1.21, 83: 0.72, 84: 0.89, 85: 1.3, 86: 1.03, 87: 0.86, 88: 1.36, 89: 1.07, 90: 0.5, 95: 1.41, 97: 0.65}\n",
      " -0.97275862068965502"
     ],
     "language": "python",
     "metadata": {},
     "outputs": [],
     "prompt_number": 3
    },
    {
     "cell_type": "heading",
     "level": 1,
     "metadata": {},
     "source": [
      "Functions to Optimize SSV for Nested Model"
     ]
    },
    {
     "cell_type": "heading",
     "level": 3,
     "metadata": {},
     "source": [
      "Get Individual Sx Params for Simulating"
     ]
    },
    {
     "cell_type": "code",
     "collapsed": false,
     "input": [
      "def get_sx_params(sxdf):\n",
      "    \n",
      "    params=sxdf['mean']; params.index=sxdf['param']\n",
      "    a=params['a']*.1\n",
      "    z=a*params['z']\n",
      "    v=params['v(bsl)']*.1\n",
      "    \n",
      "    sp={'ssTer':0.0, 'ssTer_var':0.0, 'pGo':0.0}\n",
      "    gp={'a':a, 'v':v, 'z':z, 'Ter':params['t'], 'eta':params['sv'], 'st':0.0, 'sz':0.0}\n",
      "    \n",
      "    return [gp, sp]"
     ],
     "language": "python",
     "metadata": {},
     "outputs": [],
     "prompt_number": 4
    },
    {
     "cell_type": "code",
     "collapsed": false,
     "input": [
      "def get_mu_params(df):\n",
      "    \n",
      "    params=df['mean']\n",
      "    \n",
      "    a=params['a']*.1\n",
      "    z=a*params['z']\n",
      "    v=params['v(bsl)']*.1\n",
      "    \n",
      "    sp={'ssTer':0.0, 'ssTer_var':0.0, 'pGo':0.5}\n",
      "    gp={'a':a, 'v':v, 'z':z, 'Ter':params['t'], 'eta':params['sv'], 'st':0.0, 'sz':0.0}\n",
      "    \n",
      "    return [gp, sp]"
     ],
     "language": "python",
     "metadata": {},
     "outputs": [],
     "prompt_number": 5
    },
    {
     "cell_type": "heading",
     "level": 3,
     "metadata": {},
     "source": [
      "Simulate & Residuals F(x)"
     ]
    },
    {
     "cell_type": "code",
     "collapsed": false,
     "input": [
      "ss=reload(ss); qsim=reload(qsim); simfx=reload(simfx); utils=reload(utils); ft=reload(ft)\n",
      "\n",
      "#pdf=paramdf.groupby('param').mean()\n",
      "#gp, sp= get_mu_params(pdf)\n",
      "\n",
      "\n",
      "\n",
      "def raddMinFunc(p, ydata, ntrials=1000):\n",
      "    \n",
      "    sp={'ssTer':0.0, 'ssTer_var':0.0, 'pGo':0.5}\n",
      "    \n",
      "    gp={'eta':0.0, 'st':0.0, 'sz':0.0}\n",
      "    \n",
      "    ssdlist=np.arange(.20, .45, .05)\n",
      "    \n",
      "    yhat=[]\n",
      "    \n",
      "    sp['mu_ss'] = -p['mu_ss'].value\n",
      "    gp['v'] = p['v'].value\n",
      "    gp['a'] = p['a'].value\n",
      "    gp['z'] = p['z'].value\n",
      "    gp['Ter'] =  p['Ter'].value\n",
      "    \n",
      "    for ssd in ssdlist:\n",
      "        \n",
      "        sp['ssd']=ssd\n",
      "        \n",
      "        out=ss.set_model(gParams=gp, sParams=sp, mfx=simfx.sim_radd, ntrials=ntrials, timebound=.650, \n",
      "                         depHyper=True, visual=False, task='ssRe', return_all_beh=False, condition_str='bsl') \n",
      "        yhat.append(out['stop_acc'])\n",
      "    \n",
      "    residuals=np.array(yhat)-ydata\n",
      "    \n",
      "    for pk, pv in p.items():\n",
      "                with open(pth+\"fullRaDD/FlatDF_RaDDFits.txt\", \"a\") as myfile:\n",
      "                    myfile.write(pk+\": \")\n",
      "                    myfile.write(str(p[pk].value)+\"\\t\")\n",
      "    with open(pth+\"fullRaDD/FlatDF_RaDDFits.txt\", \"a\") as myfile:\n",
      "        sse=np.sum([i**2 for i in residuals])\n",
      "        \n",
      "        myfile.write(\"SSE:\"+str(sse)+\"\\n----------------------------------------------------------\\n\\n\")\n",
      "\n",
      "    return residuals"
     ],
     "language": "python",
     "metadata": {},
     "outputs": [],
     "prompt_number": 95
    },
    {
     "cell_type": "heading",
     "level": 3,
     "metadata": {},
     "source": [
      "Gradient-Descent Optimization of SSV "
     ]
    },
    {
     "cell_type": "code",
     "collapsed": false,
     "input": [
      "utils=reload(utils); ss=reload(ss); simfx=reload(simfx)\n",
      "ntrials=20000\n",
      "\n",
      "#pdf=paramdf.groupby('param').mean()\n",
      "#gp, sp= get_mu_params(pdf)\n",
      "\n",
      "#initial vals\n",
      "sp={'mu_ss': -0.899,\n",
      " 'pGo': 0.5,\n",
      " 'ssTer': 0.0,\n",
      " 'ssTer_hi': 0.0,\n",
      " 'ssTer_lo': 0.0,\n",
      " 'ssTer_var': 0.0}\n",
      "#initial vals\n",
      "gp={'Ter': 0.3067826575037641,\n",
      " 'a': 0.47225152916076807,\n",
      " 'eta': 0.22289976231789338,\n",
      " 'st': 0.0,\n",
      " 'sz': 0.0,\n",
      " 'v': 1.23,\n",
      " 'z': 0.15236366772065413}\n",
      "\n",
      "y=np.array([ss.anl(xdf)['stop_acc'] for ssd, xdf in data.groupby('ssd')][::-1])\n",
      "\n",
      "p=Parameters()\n",
      "\n",
      "p.add('mu_ss', value=np.mean([inits.values()]), min=0.0, vary=True)\n",
      "p.add('a', value=gp['a'], min=0.0, vary=True)\n",
      "p.add('v', value=gp['v'], min=0.0, vary=True)\n",
      "p.add('Ter', value=gp['Ter'], min=0.0,max=.649, vary=True)\n",
      "p.add('z', value=gp['z'], min=.01, vary=True)\n",
      "\n",
      "theta =minimize(raddMinFunc, p, args=(ydata, ntrials), method='Nelder-Mead') "
     ],
     "language": "python",
     "metadata": {},
     "outputs": []
    },
    {
     "cell_type": "code",
     "collapsed": false,
     "input": [
      "with open(pth+\"fullRaDD/FlatDF_RaDDFits.txt\", \"a\") as myfile:\n",
      "       \n",
      "        \n",
      "        myfile.write(\"Finished\\n----------------------------------------------------------\\n\\n\")\n"
     ],
     "language": "python",
     "metadata": {},
     "outputs": []
    },
    {
     "cell_type": "code",
     "collapsed": false,
     "input": [
      "print fit_report(p)"
     ],
     "language": "python",
     "metadata": {},
     "outputs": []
    },
    {
     "cell_type": "code",
     "collapsed": false,
     "input": [
      "#{pk:p[pk].value for pk, pv in p.items()}\n",
      "\n",
      "y=np.array([ss.anl(xdf)['stop_acc'] for ssd, xdf in data.groupby('ssd')][::-1])\n",
      "yhat=[]\n",
      "\n",
      "#initial vals\n",
      "sp={'pGo': 0.5,\n",
      "    'ssTer': 0.0,\n",
      "    'ssTer_var': 0.0}\n",
      "#initial vals\n",
      "gp={ 'st': 0.0,\n",
      "    'sz': 0.0}\n",
      "ssdlist=np.arange(.2,.45,.05)\n",
      "sp['mu_ss']=-0.946501931843\t\n",
      "gp['a']=0.484902420302\n",
      "gp['v']=1.15550076608\n",
      "gp['Ter']= 0.306243012655\n",
      "gp['eta']= 0.0\n",
      "gp['z']=0.170525725947\n",
      "for ssd in ssdlist:\n",
      "    sp['ssd']=ssd\n",
      "    \n",
      "    out=ss.set_model(gParams=gp, sParams=sp, mfx=simfx.sim_radd, ntrials=5000, timebound=.650, \n",
      "                     depHyper=True, visual=False, task='ssRe', return_all_beh=False, condition_str='bsl') \n",
      "    yhat.append(out['stop_acc'])\n",
      "\n"
     ],
     "language": "python",
     "metadata": {},
     "outputs": [],
     "prompt_number": 6
    },
    {
     "cell_type": "code",
     "collapsed": false,
     "input": [
      "ydata=np.array([ss.anl(xdf)['stop_acc'] for ssd, xdf in data.groupby('ssd')][:-1])\n",
      "\n",
      "psy.scurves([np.array(ydata[::-1], dtype='float'), np.array(yhat[::-1], dtype='float')], labels=['ydata', 'yhat'])"
     ],
     "language": "python",
     "metadata": {},
     "outputs": [
      {
       "metadata": {},
       "output_type": "display_data",
       "png": "[encoded data removed]",
       "text": [
        "<matplotlib.figure.Figure at 0x112d4d6d0>"
       ]
      }
     ],
     "prompt_number": 9
    },
    {
     "cell_type": "code",
     "collapsed": false,
     "input": [
      "\n",
      "#Average Sx Parameters from HDDM\n",
      "\n",
      "#sp\n",
      "{'mu_ss': -0.97275862068965502,\n",
      " 'pGo': 0.5,\n",
      " 'ssTer': 0.0,\n",
      " 'ssTer_hi': 0.0,\n",
      " 'ssTer_lo': 0.0,\n",
      " 'ssTer_var': 0.0,\n",
      " 'ss_On': 0.39999999999999997,\n",
      " 'ssd': 0.39999999999999997}\n",
      "#gp\n",
      "{'TR': 0.3067826575037641,\n",
      " 'Ter': 0.3067826575037641,\n",
      " 'Ter_hi': 0.3067826575037641,\n",
      " 'Ter_lo': 0.3067826575037641,\n",
      " 'ZZ': 0.15236366772065413,\n",
      " 'a': 0.47225152916076807,\n",
      " 'eta': 0.22289976231789338,\n",
      " 'mu': 0.92936182309316218,\n",
      " 'st': 0.0,\n",
      " 'sz': 0.0,\n",
      " 'v': 1.1170378888254326,\n",
      " 'z': 0.15236366772065413,\n",
      " 'z_hi': 0.15236366772065413,\n",
      " 'z_lo': 0.15236366772065413}\n"
     ],
     "language": "python",
     "metadata": {},
     "outputs": [
      {
       "metadata": {},
       "output_type": "pyout",
       "prompt_number": 56,
       "text": [
        "{'TR': 0.3067826575037641,\n",
        " 'Ter': 0.3067826575037641,\n",
        " 'Ter_hi': 0.3067826575037641,\n",
        " 'Ter_lo': 0.3067826575037641,\n",
        " 'ZZ': 0.15236366772065413,\n",
        " 'a': 0.47225152916076807,\n",
        " 'eta': 0.22289976231789338,\n",
        " 'mu': 0.92936182309316218,\n",
        " 'st': 0.0,\n",
        " 'sz': 0.0,\n",
        " 'v': 1.1170378888254326,\n",
        " 'z': 0.15236366772065413,\n",
        " 'z_hi': 0.15236366772065413,\n",
        " 'z_lo': 0.15236366772065413}"
       ]
      }
     ],
     "prompt_number": 56
    },
    {
     "cell_type": "heading",
     "level": 1,
     "metadata": {},
     "source": [
      "OLDER STUFF (May be of future use!)"
     ]
    },
    {
     "cell_type": "code",
     "collapsed": false,
     "input": [
      "utils=reload(utils)\n",
      "ntrials=2000; maxiter=100; n=len(paramdf.subj_idx.unique()); sx_n=0\n",
      "\n",
      "fitdf=pd.DataFrame(columns=['subj_idx', 'ssv', 'init', 'ssd', 'residuals', 'ydata', 'yhat', 'chisq', 'redchi','sse'], \n",
      "                   index=paramdf.subj_idx.unique())\n",
      "\n",
      "pb=utils.PBinJ(n, color=\"#4168B7\")\n",
      "\n",
      "for sx, sxdf in paramdf.groupby('subj_idx'):\n",
      "    \n",
      "    sx_n +=1\n",
      "    \n",
      "    sxdata=data[data['subj_idx']==sx]\n",
      "    ydata=sxdata.groupby('ssd').mean()['acc'].values[:-1]\n",
      "    \n",
      "    gp, sp = get_sx_params(sxdf)\n",
      "    \n",
      "    p=Parameters()\n",
      "    \n",
      "    p.add('mu_ss', value=inits[sx], min=0.1, max=2.5)\n",
      "    p.add('a', value=.37, min=0.0, max=.8)\n",
      "    p.add('v', value=.611, min=0.0, max=2.0)\n",
      "    p.add('Ter', value=.2, min=0.0, max=.65)\n",
      "    p.add('z', value=.13, min=.01, max=.1)\n",
      "    \n",
      "    \n",
      "    out = Minimizer(ssvMinFunc, p, fcn_args=(gp,sp,ydata,ntrials), \n",
      "                    kws={\"full_output\":True, \"disp\":True, \"retall\":True}) \n",
      "    \n",
      "    out.prepare_fit()\n",
      "    \n",
      "    out.fmin(maxfun=maxiter, ftol=1.e-4, xtol=1.e-4)\n",
      "    \n",
      "    fitdf.loc[sx]=pd.Series({\"subj_idx\":sx,'ssv':-p['mu_ss'].value, 'init':inits[sx], 'ssd':np.arange(.20, .45, .05), \"residuals\":out.residual,\"ydata\":ydata.astype('float'),'yhat':ydata+out.residual,\n",
      "                      \"chisq\":out.chisqr,\"redchi\":out.redchi, 'sse':np.sum([i**2 for i in out.residual])})\n",
      "    \n",
      "    fitdf.to_csv(pth+\"ReSSV_Sims/Nested/2000trials_100maxfun/ReSSV_2kOpt_\"+str(sx)+\".csv\")\n",
      "    \n",
      "    pb.update_i(sx_n)"
     ],
     "language": "python",
     "metadata": {},
     "outputs": [
      {
       "html": [
        "\n",
        "\t    <div style=\"border: 1px solid black; width:500px\">\n",
        "\t    <div id=\"3221a9dc-1b76-4570-9eb6-b2f8bda9c072\" style=\"background-color:#4168B7; width:0%\">&nbsp;</div>\n",
        "\t    </div> \n",
        "\t    "
       ],
       "metadata": {},
       "output_type": "display_data",
       "text": [
        "<IPython.core.display.HTML at 0x7f133aa30910>"
       ]
      },
      {
       "javascript": [
        "$('div#3221a9dc-1b76-4570-9eb6-b2f8bda9c072').width('1.72%')"
       ],
       "metadata": {},
       "output_type": "display_data",
       "text": [
        "<IPython.core.display.Javascript at 0x7f133a9c08d0>"
       ]
      },
      {
       "javascript": [
        "$('div#3221a9dc-1b76-4570-9eb6-b2f8bda9c072').width('3.45%')"
       ],
       "metadata": {},
       "output_type": "display_data",
       "text": [
        "<IPython.core.display.Javascript at 0x7f133a94ccd0>"
       ]
      },
      {
       "javascript": [
        "$('div#3221a9dc-1b76-4570-9eb6-b2f8bda9c072').width('5.17%')"
       ],
       "metadata": {},
       "output_type": "display_data",
       "text": [
        "<IPython.core.display.Javascript at 0x7f133a8f4a50>"
       ]
      },
      {
       "javascript": [
        "$('div#3221a9dc-1b76-4570-9eb6-b2f8bda9c072').width('6.90%')"
       ],
       "metadata": {},
       "output_type": "display_data",
       "text": [
        "<IPython.core.display.Javascript at 0x7f133a975810>"
       ]
      },
      {
       "javascript": [
        "$('div#3221a9dc-1b76-4570-9eb6-b2f8bda9c072').width('8.62%')"
       ],
       "metadata": {},
       "output_type": "display_data",
       "text": [
        "<IPython.core.display.Javascript at 0x7f133a90e5d0>"
       ]
      },
      {
       "javascript": [
        "$('div#3221a9dc-1b76-4570-9eb6-b2f8bda9c072').width('10.34%')"
       ],
       "metadata": {},
       "output_type": "display_data",
       "text": [
        "<IPython.core.display.Javascript at 0x7f133a972a90>"
       ]
      },
      {
       "javascript": [
        "$('div#3221a9dc-1b76-4570-9eb6-b2f8bda9c072').width('12.07%')"
       ],
       "metadata": {},
       "output_type": "display_data",
       "text": [
        "<IPython.core.display.Javascript at 0x7f133a8e4a10>"
       ]
      },
      {
       "javascript": [
        "$('div#3221a9dc-1b76-4570-9eb6-b2f8bda9c072').width('13.79%')"
       ],
       "metadata": {},
       "output_type": "display_data",
       "text": [
        "<IPython.core.display.Javascript at 0x7f133a91dcd0>"
       ]
      },
      {
       "javascript": [
        "$('div#3221a9dc-1b76-4570-9eb6-b2f8bda9c072').width('15.52%')"
       ],
       "metadata": {},
       "output_type": "display_data",
       "text": [
        "<IPython.core.display.Javascript at 0x7f133a98f2d0>"
       ]
      },
      {
       "javascript": [
        "$('div#3221a9dc-1b76-4570-9eb6-b2f8bda9c072').width('17.24%')"
       ],
       "metadata": {},
       "output_type": "display_data",
       "text": [
        "<IPython.core.display.Javascript at 0x7f133a9b7350>"
       ]
      },
      {
       "javascript": [
        "$('div#3221a9dc-1b76-4570-9eb6-b2f8bda9c072').width('18.97%')"
       ],
       "metadata": {},
       "output_type": "display_data",
       "text": [
        "<IPython.core.display.Javascript at 0x7f133a9103d0>"
       ]
      },
      {
       "javascript": [
        "$('div#3221a9dc-1b76-4570-9eb6-b2f8bda9c072').width('20.69%')"
       ],
       "metadata": {},
       "output_type": "display_data",
       "text": [
        "<IPython.core.display.Javascript at 0x7f133a8e04d0>"
       ]
      },
      {
       "javascript": [
        "$('div#3221a9dc-1b76-4570-9eb6-b2f8bda9c072').width('22.41%')"
       ],
       "metadata": {},
       "output_type": "display_data",
       "text": [
        "<IPython.core.display.Javascript at 0x7f133a949ed0>"
       ]
      },
      {
       "javascript": [
        "$('div#3221a9dc-1b76-4570-9eb6-b2f8bda9c072').width('24.14%')"
       ],
       "metadata": {},
       "output_type": "display_data",
       "text": [
        "<IPython.core.display.Javascript at 0x7f133a96fb90>"
       ]
      },
      {
       "javascript": [
        "$('div#3221a9dc-1b76-4570-9eb6-b2f8bda9c072').width('25.86%')"
       ],
       "metadata": {},
       "output_type": "display_data",
       "text": [
        "<IPython.core.display.Javascript at 0x7f133a9948d0>"
       ]
      },
      {
       "javascript": [
        "$('div#3221a9dc-1b76-4570-9eb6-b2f8bda9c072').width('27.59%')"
       ],
       "metadata": {},
       "output_type": "display_data",
       "text": [
        "<IPython.core.display.Javascript at 0x7f133a9a1250>"
       ]
      },
      {
       "javascript": [
        "$('div#3221a9dc-1b76-4570-9eb6-b2f8bda9c072').width('29.31%')"
       ],
       "metadata": {},
       "output_type": "display_data",
       "text": [
        "<IPython.core.display.Javascript at 0x7f133a97e410>"
       ]
      },
      {
       "javascript": [
        "$('div#3221a9dc-1b76-4570-9eb6-b2f8bda9c072').width('31.03%')"
       ],
       "metadata": {},
       "output_type": "display_data",
       "text": [
        "<IPython.core.display.Javascript at 0x7f133a8dfd90>"
       ]
      },
      {
       "javascript": [
        "$('div#3221a9dc-1b76-4570-9eb6-b2f8bda9c072').width('32.76%')"
       ],
       "metadata": {},
       "output_type": "display_data",
       "text": [
        "<IPython.core.display.Javascript at 0x7f133a9586d0>"
       ]
      },
      {
       "javascript": [
        "$('div#3221a9dc-1b76-4570-9eb6-b2f8bda9c072').width('34.48%')"
       ],
       "metadata": {},
       "output_type": "display_data",
       "text": [
        "<IPython.core.display.Javascript at 0x7f133a967910>"
       ]
      },
      {
       "javascript": [
        "$('div#3221a9dc-1b76-4570-9eb6-b2f8bda9c072').width('36.21%')"
       ],
       "metadata": {},
       "output_type": "display_data",
       "text": [
        "<IPython.core.display.Javascript at 0x7f133a9c6390>"
       ]
      },
      {
       "javascript": [
        "$('div#3221a9dc-1b76-4570-9eb6-b2f8bda9c072').width('37.93%')"
       ],
       "metadata": {},
       "output_type": "display_data",
       "text": [
        "<IPython.core.display.Javascript at 0x7f133a96eb10>"
       ]
      },
      {
       "javascript": [
        "$('div#3221a9dc-1b76-4570-9eb6-b2f8bda9c072').width('39.66%')"
       ],
       "metadata": {},
       "output_type": "display_data",
       "text": [
        "<IPython.core.display.Javascript at 0x7f133a9113d0>"
       ]
      },
      {
       "javascript": [
        "$('div#3221a9dc-1b76-4570-9eb6-b2f8bda9c072').width('41.38%')"
       ],
       "metadata": {},
       "output_type": "display_data",
       "text": [
        "<IPython.core.display.Javascript at 0x7f133a960050>"
       ]
      },
      {
       "javascript": [
        "$('div#3221a9dc-1b76-4570-9eb6-b2f8bda9c072').width('43.10%')"
       ],
       "metadata": {},
       "output_type": "display_data",
       "text": [
        "<IPython.core.display.Javascript at 0x7f133a8dc890>"
       ]
      },
      {
       "javascript": [
        "$('div#3221a9dc-1b76-4570-9eb6-b2f8bda9c072').width('44.83%')"
       ],
       "metadata": {},
       "output_type": "display_data",
       "text": [
        "<IPython.core.display.Javascript at 0x7f133a940ed0>"
       ]
      },
      {
       "javascript": [
        "$('div#3221a9dc-1b76-4570-9eb6-b2f8bda9c072').width('46.55%')"
       ],
       "metadata": {},
       "output_type": "display_data",
       "text": [
        "<IPython.core.display.Javascript at 0x7f133a917dd0>"
       ]
      },
      {
       "javascript": [
        "$('div#3221a9dc-1b76-4570-9eb6-b2f8bda9c072').width('48.28%')"
       ],
       "metadata": {},
       "output_type": "display_data",
       "text": [
        "<IPython.core.display.Javascript at 0x7f133a9d2850>"
       ]
      },
      {
       "javascript": [
        "$('div#3221a9dc-1b76-4570-9eb6-b2f8bda9c072').width('50.00%')"
       ],
       "metadata": {},
       "output_type": "display_data",
       "text": [
        "<IPython.core.display.Javascript at 0x7f133aa02d10>"
       ]
      },
      {
       "javascript": [
        "$('div#3221a9dc-1b76-4570-9eb6-b2f8bda9c072').width('51.72%')"
       ],
       "metadata": {},
       "output_type": "display_data",
       "text": [
        "<IPython.core.display.Javascript at 0x7f133aa02650>"
       ]
      },
      {
       "javascript": [
        "$('div#3221a9dc-1b76-4570-9eb6-b2f8bda9c072').width('53.45%')"
       ],
       "metadata": {},
       "output_type": "display_data",
       "text": [
        "<IPython.core.display.Javascript at 0x7f133a8f99d0>"
       ]
      },
      {
       "javascript": [
        "$('div#3221a9dc-1b76-4570-9eb6-b2f8bda9c072').width('55.17%')"
       ],
       "metadata": {},
       "output_type": "display_data",
       "text": [
        "<IPython.core.display.Javascript at 0x7f133a9a7810>"
       ]
      },
      {
       "javascript": [
        "$('div#3221a9dc-1b76-4570-9eb6-b2f8bda9c072').width('56.90%')"
       ],
       "metadata": {},
       "output_type": "display_data",
       "text": [
        "<IPython.core.display.Javascript at 0x7f133a943b10>"
       ]
      },
      {
       "javascript": [
        "$('div#3221a9dc-1b76-4570-9eb6-b2f8bda9c072').width('58.62%')"
       ],
       "metadata": {},
       "output_type": "display_data",
       "text": [
        "<IPython.core.display.Javascript at 0x7f133a920c50>"
       ]
      },
      {
       "javascript": [
        "$('div#3221a9dc-1b76-4570-9eb6-b2f8bda9c072').width('60.34%')"
       ],
       "metadata": {},
       "output_type": "display_data",
       "text": [
        "<IPython.core.display.Javascript at 0x7f133a8f1410>"
       ]
      },
      {
       "javascript": [
        "$('div#3221a9dc-1b76-4570-9eb6-b2f8bda9c072').width('62.07%')"
       ],
       "metadata": {},
       "output_type": "display_data",
       "text": [
        "<IPython.core.display.Javascript at 0x7f133a9cc050>"
       ]
      },
      {
       "javascript": [
        "$('div#3221a9dc-1b76-4570-9eb6-b2f8bda9c072').width('63.79%')"
       ],
       "metadata": {},
       "output_type": "display_data",
       "text": [
        "<IPython.core.display.Javascript at 0x7f133a900150>"
       ]
      },
      {
       "javascript": [
        "$('div#3221a9dc-1b76-4570-9eb6-b2f8bda9c072').width('65.52%')"
       ],
       "metadata": {},
       "output_type": "display_data",
       "text": [
        "<IPython.core.display.Javascript at 0x7f133a9ef310>"
       ]
      },
      {
       "javascript": [
        "$('div#3221a9dc-1b76-4570-9eb6-b2f8bda9c072').width('67.24%')"
       ],
       "metadata": {},
       "output_type": "display_data",
       "text": [
        "<IPython.core.display.Javascript at 0x7f133a94ff50>"
       ]
      },
      {
       "javascript": [
        "$('div#3221a9dc-1b76-4570-9eb6-b2f8bda9c072').width('68.97%')"
       ],
       "metadata": {},
       "output_type": "display_data",
       "text": [
        "<IPython.core.display.Javascript at 0x7f133a8fe090>"
       ]
      },
      {
       "javascript": [
        "$('div#3221a9dc-1b76-4570-9eb6-b2f8bda9c072').width('70.69%')"
       ],
       "metadata": {},
       "output_type": "display_data",
       "text": [
        "<IPython.core.display.Javascript at 0x7f133a9d6950>"
       ]
      },
      {
       "javascript": [
        "$('div#3221a9dc-1b76-4570-9eb6-b2f8bda9c072').width('72.41%')"
       ],
       "metadata": {},
       "output_type": "display_data",
       "text": [
        "<IPython.core.display.Javascript at 0x7f133a992dd0>"
       ]
      },
      {
       "javascript": [
        "$('div#3221a9dc-1b76-4570-9eb6-b2f8bda9c072').width('74.14%')"
       ],
       "metadata": {},
       "output_type": "display_data",
       "text": [
        "<IPython.core.display.Javascript at 0x7f133a974450>"
       ]
      },
      {
       "javascript": [
        "$('div#3221a9dc-1b76-4570-9eb6-b2f8bda9c072').width('75.86%')"
       ],
       "metadata": {},
       "output_type": "display_data",
       "text": [
        "<IPython.core.display.Javascript at 0x7f133a96f110>"
       ]
      },
      {
       "javascript": [
        "$('div#3221a9dc-1b76-4570-9eb6-b2f8bda9c072').width('77.59%')"
       ],
       "metadata": {},
       "output_type": "display_data",
       "text": [
        "<IPython.core.display.Javascript at 0x7f133a989e10>"
       ]
      },
      {
       "javascript": [
        "$('div#3221a9dc-1b76-4570-9eb6-b2f8bda9c072').width('79.31%')"
       ],
       "metadata": {},
       "output_type": "display_data",
       "text": [
        "<IPython.core.display.Javascript at 0x7f133a99f810>"
       ]
      },
      {
       "javascript": [
        "$('div#3221a9dc-1b76-4570-9eb6-b2f8bda9c072').width('81.03%')"
       ],
       "metadata": {},
       "output_type": "display_data",
       "text": [
        "<IPython.core.display.Javascript at 0x7f133a98bb90>"
       ]
      },
      {
       "javascript": [
        "$('div#3221a9dc-1b76-4570-9eb6-b2f8bda9c072').width('82.76%')"
       ],
       "metadata": {},
       "output_type": "display_data",
       "text": [
        "<IPython.core.display.Javascript at 0x7f133a8f2ad0>"
       ]
      },
      {
       "javascript": [
        "$('div#3221a9dc-1b76-4570-9eb6-b2f8bda9c072').width('84.48%')"
       ],
       "metadata": {},
       "output_type": "display_data",
       "text": [
        "<IPython.core.display.Javascript at 0x7f133a97b250>"
       ]
      },
      {
       "javascript": [
        "$('div#3221a9dc-1b76-4570-9eb6-b2f8bda9c072').width('86.21%')"
       ],
       "metadata": {},
       "output_type": "display_data",
       "text": [
        "<IPython.core.display.Javascript at 0x7f133a97e590>"
       ]
      },
      {
       "javascript": [
        "$('div#3221a9dc-1b76-4570-9eb6-b2f8bda9c072').width('87.93%')"
       ],
       "metadata": {},
       "output_type": "display_data",
       "text": [
        "<IPython.core.display.Javascript at 0x7f133a95e390>"
       ]
      },
      {
       "javascript": [
        "$('div#3221a9dc-1b76-4570-9eb6-b2f8bda9c072').width('89.66%')"
       ],
       "metadata": {},
       "output_type": "display_data",
       "text": [
        "<IPython.core.display.Javascript at 0x7f133a90d910>"
       ]
      },
      {
       "javascript": [
        "$('div#3221a9dc-1b76-4570-9eb6-b2f8bda9c072').width('91.38%')"
       ],
       "metadata": {},
       "output_type": "display_data",
       "text": [
        "<IPython.core.display.Javascript at 0x7f133a978690>"
       ]
      },
      {
       "javascript": [
        "$('div#3221a9dc-1b76-4570-9eb6-b2f8bda9c072').width('93.10%')"
       ],
       "metadata": {},
       "output_type": "display_data",
       "text": [
        "<IPython.core.display.Javascript at 0x7f133a943350>"
       ]
      },
      {
       "javascript": [
        "$('div#3221a9dc-1b76-4570-9eb6-b2f8bda9c072').width('94.83%')"
       ],
       "metadata": {},
       "output_type": "display_data",
       "text": [
        "<IPython.core.display.Javascript at 0x7f133a921f10>"
       ]
      },
      {
       "javascript": [
        "$('div#3221a9dc-1b76-4570-9eb6-b2f8bda9c072').width('96.55%')"
       ],
       "metadata": {},
       "output_type": "display_data",
       "text": [
        "<IPython.core.display.Javascript at 0x7f133a9329d0>"
       ]
      },
      {
       "javascript": [
        "$('div#3221a9dc-1b76-4570-9eb6-b2f8bda9c072').width('98.28%')"
       ],
       "metadata": {},
       "output_type": "display_data",
       "text": [
        "<IPython.core.display.Javascript at 0x7f133a940c10>"
       ]
      },
      {
       "javascript": [
        "$('div#3221a9dc-1b76-4570-9eb6-b2f8bda9c072').width('100.00%')"
       ],
       "metadata": {},
       "output_type": "display_data",
       "text": [
        "<IPython.core.display.Javascript at 0x7f133a98f750>"
       ]
      }
     ],
     "prompt_number": 6
    },
    {
     "cell_type": "code",
     "collapsed": false,
     "input": [
      "inits_go"
     ],
     "language": "python",
     "metadata": {},
     "outputs": [
      {
       "metadata": {},
       "output_type": "pyout",
       "prompt_number": 41,
       "text": [
        "{'Ter': 0.3067826575037641,\n",
        " 'a': 0.43491435193335726,\n",
        " 'eta': 0.22289976231789338,\n",
        " 'mu_ss': -0.9,\n",
        " 'st': 0.0,\n",
        " 'sz': 0.0,\n",
        " 'v': 1.1170378888254326,\n",
        " 'z': 0.15236366772065416}"
       ]
      }
     ],
     "prompt_number": 41
    },
    {
     "cell_type": "heading",
     "level": 3,
     "metadata": {},
     "source": [
      "Format Fit Summaries and Save"
     ]
    },
    {
     "cell_type": "code",
     "collapsed": false,
     "input": [
      "#fitdf.to_csv(pth+\"ReSSV_Sims/SxFitSummary_2Ktrials_100fxeval.csv\")\n",
      "qsim=reload(qsim)\n",
      "sdf=fitdf.set_index('subj_idx')\n",
      "ssvdct=sdf['ssv'].to_dict()"
     ],
     "language": "python",
     "metadata": {},
     "outputs": [],
     "prompt_number": 12
    },
    {
     "cell_type": "code",
     "collapsed": false,
     "input": [
      "out=qsim.fit_sx_ssv(paramdf, ssvdict=ssvdct, ntrials=2000, plot=True, fname='sxfit_stats_2k')"
     ],
     "language": "python",
     "metadata": {},
     "outputs": [
      {
       "html": [
        "\n",
        "\t    <div style=\"border: 1px solid black; width:500px\">\n",
        "\t    <div id=\"04af18c5-3057-4cf1-b05e-618aa5310ee9\" style=\"background-color:seagreen; width:0%\">&nbsp;</div>\n",
        "\t    </div> \n",
        "\t    "
       ],
       "metadata": {},
       "output_type": "display_data",
       "text": [
        "<IPython.core.display.HTML at 0x7f133a66f690>"
       ]
      },
      {
       "javascript": [
        "$('div#04af18c5-3057-4cf1-b05e-618aa5310ee9').width('0.00%')"
       ],
       "metadata": {},
       "output_type": "display_data",
       "text": [
        "<IPython.core.display.Javascript at 0x7f133a66f490>"
       ]
      },
      {
       "javascript": [
        "$('div#04af18c5-3057-4cf1-b05e-618aa5310ee9').width('1.72%')"
       ],
       "metadata": {},
       "output_type": "display_data",
       "text": [
        "<IPython.core.display.Javascript at 0x7f133a8cde50>"
       ]
      },
      {
       "javascript": [
        "$('div#04af18c5-3057-4cf1-b05e-618aa5310ee9').width('3.45%')"
       ],
       "metadata": {},
       "output_type": "display_data",
       "text": [
        "<IPython.core.display.Javascript at 0x7f133a6eb810>"
       ]
      },
      {
       "javascript": [
        "$('div#04af18c5-3057-4cf1-b05e-618aa5310ee9').width('5.17%')"
       ],
       "metadata": {},
       "output_type": "display_data",
       "text": [
        "<IPython.core.display.Javascript at 0x7f133a82b310>"
       ]
      },
      {
       "javascript": [
        "$('div#04af18c5-3057-4cf1-b05e-618aa5310ee9').width('6.90%')"
       ],
       "metadata": {},
       "output_type": "display_data",
       "text": [
        "<IPython.core.display.Javascript at 0x7f133a82bad0>"
       ]
      },
      {
       "javascript": [
        "$('div#04af18c5-3057-4cf1-b05e-618aa5310ee9').width('8.62%')"
       ],
       "metadata": {},
       "output_type": "display_data",
       "text": [
        "<IPython.core.display.Javascript at 0x7f133a4f6990>"
       ]
      },
      {
       "javascript": [
        "$('div#04af18c5-3057-4cf1-b05e-618aa5310ee9').width('10.34%')"
       ],
       "metadata": {},
       "output_type": "display_data",
       "text": [
        "<IPython.core.display.Javascript at 0x7f133a940c50>"
       ]
      },
      {
       "javascript": [
        "$('div#04af18c5-3057-4cf1-b05e-618aa5310ee9').width('12.07%')"
       ],
       "metadata": {},
       "output_type": "display_data",
       "text": [
        "<IPython.core.display.Javascript at 0x7f133a3d2f90>"
       ]
      },
      {
       "javascript": [
        "$('div#04af18c5-3057-4cf1-b05e-618aa5310ee9').width('13.79%')"
       ],
       "metadata": {},
       "output_type": "display_data",
       "text": [
        "<IPython.core.display.Javascript at 0x7f133a240190>"
       ]
      },
      {
       "javascript": [
        "$('div#04af18c5-3057-4cf1-b05e-618aa5310ee9').width('15.52%')"
       ],
       "metadata": {},
       "output_type": "display_data",
       "text": [
        "<IPython.core.display.Javascript at 0x7f133a23ba50>"
       ]
      },
      {
       "javascript": [
        "$('div#04af18c5-3057-4cf1-b05e-618aa5310ee9').width('17.24%')"
       ],
       "metadata": {},
       "output_type": "display_data",
       "text": [
        "<IPython.core.display.Javascript at 0x7f133a208090>"
       ]
      },
      {
       "javascript": [
        "$('div#04af18c5-3057-4cf1-b05e-618aa5310ee9').width('18.97%')"
       ],
       "metadata": {},
       "output_type": "display_data",
       "text": [
        "<IPython.core.display.Javascript at 0x7f1339fdb090>"
       ]
      },
      {
       "javascript": [
        "$('div#04af18c5-3057-4cf1-b05e-618aa5310ee9').width('20.69%')"
       ],
       "metadata": {},
       "output_type": "display_data",
       "text": [
        "<IPython.core.display.Javascript at 0x7f1339fa1550>"
       ]
      },
      {
       "javascript": [
        "$('div#04af18c5-3057-4cf1-b05e-618aa5310ee9').width('22.41%')"
       ],
       "metadata": {},
       "output_type": "display_data",
       "text": [
        "<IPython.core.display.Javascript at 0x7f133a71bd90>"
       ]
      },
      {
       "javascript": [
        "$('div#04af18c5-3057-4cf1-b05e-618aa5310ee9').width('24.14%')"
       ],
       "metadata": {},
       "output_type": "display_data",
       "text": [
        "<IPython.core.display.Javascript at 0x7f133a9a4b50>"
       ]
      },
      {
       "javascript": [
        "$('div#04af18c5-3057-4cf1-b05e-618aa5310ee9').width('25.86%')"
       ],
       "metadata": {},
       "output_type": "display_data",
       "text": [
        "<IPython.core.display.Javascript at 0x7f1339f25290>"
       ]
      },
      {
       "javascript": [
        "$('div#04af18c5-3057-4cf1-b05e-618aa5310ee9').width('27.59%')"
       ],
       "metadata": {},
       "output_type": "display_data",
       "text": [
        "<IPython.core.display.Javascript at 0x7f1339cfe810>"
       ]
      },
      {
       "javascript": [
        "$('div#04af18c5-3057-4cf1-b05e-618aa5310ee9').width('29.31%')"
       ],
       "metadata": {},
       "output_type": "display_data",
       "text": [
        "<IPython.core.display.Javascript at 0x7f1339b38550>"
       ]
      },
      {
       "javascript": [
        "$('div#04af18c5-3057-4cf1-b05e-618aa5310ee9').width('31.03%')"
       ],
       "metadata": {},
       "output_type": "display_data",
       "text": [
        "<IPython.core.display.Javascript at 0x7f13399d4b50>"
       ]
      },
      {
       "javascript": [
        "$('div#04af18c5-3057-4cf1-b05e-618aa5310ee9').width('32.76%')"
       ],
       "metadata": {},
       "output_type": "display_data",
       "text": [
        "<IPython.core.display.Javascript at 0x7f13399fbc50>"
       ]
      },
      {
       "javascript": [
        "$('div#04af18c5-3057-4cf1-b05e-618aa5310ee9').width('34.48%')"
       ],
       "metadata": {},
       "output_type": "display_data",
       "text": [
        "<IPython.core.display.Javascript at 0x7f1339d10810>"
       ]
      },
      {
       "javascript": [
        "$('div#04af18c5-3057-4cf1-b05e-618aa5310ee9').width('36.21%')"
       ],
       "metadata": {},
       "output_type": "display_data",
       "text": [
        "<IPython.core.display.Javascript at 0x7f1339772ad0>"
       ]
      },
      {
       "javascript": [
        "$('div#04af18c5-3057-4cf1-b05e-618aa5310ee9').width('37.93%')"
       ],
       "metadata": {},
       "output_type": "display_data",
       "text": [
        "<IPython.core.display.Javascript at 0x7f133a5d6910>"
       ]
      },
      {
       "javascript": [
        "$('div#04af18c5-3057-4cf1-b05e-618aa5310ee9').width('39.66%')"
       ],
       "metadata": {},
       "output_type": "display_data",
       "text": [
        "<IPython.core.display.Javascript at 0x7f133952ba50>"
       ]
      },
      {
       "javascript": [
        "$('div#04af18c5-3057-4cf1-b05e-618aa5310ee9').width('41.38%')"
       ],
       "metadata": {},
       "output_type": "display_data",
       "text": [
        "<IPython.core.display.Javascript at 0x7f133a5ce890>"
       ]
      },
      {
       "javascript": [
        "$('div#04af18c5-3057-4cf1-b05e-618aa5310ee9').width('43.10%')"
       ],
       "metadata": {},
       "output_type": "display_data",
       "text": [
        "<IPython.core.display.Javascript at 0x7f133a8b2c50>"
       ]
      },
      {
       "javascript": [
        "$('div#04af18c5-3057-4cf1-b05e-618aa5310ee9').width('44.83%')"
       ],
       "metadata": {},
       "output_type": "display_data",
       "text": [
        "<IPython.core.display.Javascript at 0x7f133929fa90>"
       ]
      },
      {
       "javascript": [
        "$('div#04af18c5-3057-4cf1-b05e-618aa5310ee9').width('46.55%')"
       ],
       "metadata": {},
       "output_type": "display_data",
       "text": [
        "<IPython.core.display.Javascript at 0x7f13391a96d0>"
       ]
      },
      {
       "javascript": [
        "$('div#04af18c5-3057-4cf1-b05e-618aa5310ee9').width('48.28%')"
       ],
       "metadata": {},
       "output_type": "display_data",
       "text": [
        "<IPython.core.display.Javascript at 0x7f13390a2ad0>"
       ]
      },
      {
       "javascript": [
        "$('div#04af18c5-3057-4cf1-b05e-618aa5310ee9').width('50.00%')"
       ],
       "metadata": {},
       "output_type": "display_data",
       "text": [
        "<IPython.core.display.Javascript at 0x7f1338fc4450>"
       ]
      },
      {
       "javascript": [
        "$('div#04af18c5-3057-4cf1-b05e-618aa5310ee9').width('51.72%')"
       ],
       "metadata": {},
       "output_type": "display_data",
       "text": [
        "<IPython.core.display.Javascript at 0x7f133a99e6d0>"
       ]
      },
      {
       "javascript": [
        "$('div#04af18c5-3057-4cf1-b05e-618aa5310ee9').width('53.45%')"
       ],
       "metadata": {},
       "output_type": "display_data",
       "text": [
        "<IPython.core.display.Javascript at 0x7f13390b4510>"
       ]
      },
      {
       "javascript": [
        "$('div#04af18c5-3057-4cf1-b05e-618aa5310ee9').width('55.17%')"
       ],
       "metadata": {},
       "output_type": "display_data",
       "text": [
        "<IPython.core.display.Javascript at 0x7f1338d3c610>"
       ]
      },
      {
       "javascript": [
        "$('div#04af18c5-3057-4cf1-b05e-618aa5310ee9').width('56.90%')"
       ],
       "metadata": {},
       "output_type": "display_data",
       "text": [
        "<IPython.core.display.Javascript at 0x7f1338ce14d0>"
       ]
      },
      {
       "javascript": [
        "$('div#04af18c5-3057-4cf1-b05e-618aa5310ee9').width('58.62%')"
       ],
       "metadata": {},
       "output_type": "display_data",
       "text": [
        "<IPython.core.display.Javascript at 0x7f1338b535d0>"
       ]
      },
      {
       "javascript": [
        "$('div#04af18c5-3057-4cf1-b05e-618aa5310ee9').width('60.34%')"
       ],
       "metadata": {},
       "output_type": "display_data",
       "text": [
        "<IPython.core.display.Javascript at 0x7f13389e1850>"
       ]
      },
      {
       "javascript": [
        "$('div#04af18c5-3057-4cf1-b05e-618aa5310ee9').width('62.07%')"
       ],
       "metadata": {},
       "output_type": "display_data",
       "text": [
        "<IPython.core.display.Javascript at 0x7f1338d5b810>"
       ]
      },
      {
       "javascript": [
        "$('div#04af18c5-3057-4cf1-b05e-618aa5310ee9').width('63.79%')"
       ],
       "metadata": {},
       "output_type": "display_data",
       "text": [
        "<IPython.core.display.Javascript at 0x7f1338eafe50>"
       ]
      },
      {
       "javascript": [
        "$('div#04af18c5-3057-4cf1-b05e-618aa5310ee9').width('65.52%')"
       ],
       "metadata": {},
       "output_type": "display_data",
       "text": [
        "<IPython.core.display.Javascript at 0x7f13387cc210>"
       ]
      },
      {
       "javascript": [
        "$('div#04af18c5-3057-4cf1-b05e-618aa5310ee9').width('67.24%')"
       ],
       "metadata": {},
       "output_type": "display_data",
       "text": [
        "<IPython.core.display.Javascript at 0x7f13386c5ad0>"
       ]
      },
      {
       "javascript": [
        "$('div#04af18c5-3057-4cf1-b05e-618aa5310ee9').width('68.97%')"
       ],
       "metadata": {},
       "output_type": "display_data",
       "text": [
        "<IPython.core.display.Javascript at 0x7f133a1a4210>"
       ]
      },
      {
       "javascript": [
        "$('div#04af18c5-3057-4cf1-b05e-618aa5310ee9').width('70.69%')"
       ],
       "metadata": {},
       "output_type": "display_data",
       "text": [
        "<IPython.core.display.Javascript at 0x7f1338493c90>"
       ]
      },
      {
       "javascript": [
        "$('div#04af18c5-3057-4cf1-b05e-618aa5310ee9').width('72.41%')"
       ],
       "metadata": {},
       "output_type": "display_data",
       "text": [
        "<IPython.core.display.Javascript at 0x7f133a112450>"
       ]
      },
      {
       "javascript": [
        "$('div#04af18c5-3057-4cf1-b05e-618aa5310ee9').width('74.14%')"
       ],
       "metadata": {},
       "output_type": "display_data",
       "text": [
        "<IPython.core.display.Javascript at 0x7f1338df71d0>"
       ]
      },
      {
       "javascript": [
        "$('div#04af18c5-3057-4cf1-b05e-618aa5310ee9').width('75.86%')"
       ],
       "metadata": {},
       "output_type": "display_data",
       "text": [
        "<IPython.core.display.Javascript at 0x7f13388c70d0>"
       ]
      },
      {
       "javascript": [
        "$('div#04af18c5-3057-4cf1-b05e-618aa5310ee9').width('77.59%')"
       ],
       "metadata": {},
       "output_type": "display_data",
       "text": [
        "<IPython.core.display.Javascript at 0x7f1338151e10>"
       ]
      },
      {
       "javascript": [
        "$('div#04af18c5-3057-4cf1-b05e-618aa5310ee9').width('79.31%')"
       ],
       "metadata": {},
       "output_type": "display_data",
       "text": [
        "<IPython.core.display.Javascript at 0x7f1317fc5d50>"
       ]
      },
      {
       "javascript": [
        "$('div#04af18c5-3057-4cf1-b05e-618aa5310ee9').width('81.03%')"
       ],
       "metadata": {},
       "output_type": "display_data",
       "text": [
        "<IPython.core.display.Javascript at 0x7f1338178050>"
       ]
      },
      {
       "javascript": [
        "$('div#04af18c5-3057-4cf1-b05e-618aa5310ee9').width('82.76%')"
       ],
       "metadata": {},
       "output_type": "display_data",
       "text": [
        "<IPython.core.display.Javascript at 0x7f1317dd1910>"
       ]
      },
      {
       "javascript": [
        "$('div#04af18c5-3057-4cf1-b05e-618aa5310ee9').width('84.48%')"
       ],
       "metadata": {},
       "output_type": "display_data",
       "text": [
        "<IPython.core.display.Javascript at 0x7f1317cf03d0>"
       ]
      },
      {
       "javascript": [
        "$('div#04af18c5-3057-4cf1-b05e-618aa5310ee9').width('86.21%')"
       ],
       "metadata": {},
       "output_type": "display_data",
       "text": [
        "<IPython.core.display.Javascript at 0x7f1317dd1d10>"
       ]
      },
      {
       "javascript": [
        "$('div#04af18c5-3057-4cf1-b05e-618aa5310ee9').width('87.93%')"
       ],
       "metadata": {},
       "output_type": "display_data",
       "text": [
        "<IPython.core.display.Javascript at 0x7f1317bb93d0>"
       ]
      },
      {
       "javascript": [
        "$('div#04af18c5-3057-4cf1-b05e-618aa5310ee9').width('89.66%')"
       ],
       "metadata": {},
       "output_type": "display_data",
       "text": [
        "<IPython.core.display.Javascript at 0x7f1317aac3d0>"
       ]
      },
      {
       "javascript": [
        "$('div#04af18c5-3057-4cf1-b05e-618aa5310ee9').width('91.38%')"
       ],
       "metadata": {},
       "output_type": "display_data",
       "text": [
        "<IPython.core.display.Javascript at 0x7f13179b4210>"
       ]
      },
      {
       "javascript": [
        "$('div#04af18c5-3057-4cf1-b05e-618aa5310ee9').width('93.10%')"
       ],
       "metadata": {},
       "output_type": "display_data",
       "text": [
        "<IPython.core.display.Javascript at 0x7f13178abd10>"
       ]
      },
      {
       "javascript": [
        "$('div#04af18c5-3057-4cf1-b05e-618aa5310ee9').width('94.83%')"
       ],
       "metadata": {},
       "output_type": "display_data",
       "text": [
        "<IPython.core.display.Javascript at 0x7f13177496d0>"
       ]
      },
      {
       "javascript": [
        "$('div#04af18c5-3057-4cf1-b05e-618aa5310ee9').width('96.55%')"
       ],
       "metadata": {},
       "output_type": "display_data",
       "text": [
        "<IPython.core.display.Javascript at 0x7f133a0b8290>"
       ]
      },
      {
       "javascript": [
        "$('div#04af18c5-3057-4cf1-b05e-618aa5310ee9').width('98.28%')"
       ],
       "metadata": {},
       "output_type": "display_data",
       "text": [
        "<IPython.core.display.Javascript at 0x7f131757e610>"
       ]
      }
     ],
     "prompt_number": 13
    },
    {
     "cell_type": "code",
     "collapsed": false,
     "input": [
      "a=ssvdf.query('param==\"a\"')\n",
      "plt.plot(a.subj_idx, a['mean'].values)\n",
      "plt.setp(plt.gca(), title='Boundary separation (on y) for each Sx (on x)')"
     ],
     "language": "python",
     "metadata": {},
     "outputs": [
      {
       "metadata": {},
       "output_type": "pyout",
       "prompt_number": 16,
       "text": [
        "[<matplotlib.text.Text at 0x7fe9e6b2f910>]"
       ]
      },
      {
       "metadata": {},
       "output_type": "display_data",
       "png": "[encoded data removed]",
       "text": [
        "<matplotlib.figure.Figure at 0x7fe9e6c68510>"
       ]
      }
     ],
     "prompt_number": 16
    },
    {
     "cell_type": "code",
     "collapsed": false,
     "input": [
      "Minimizer.suc"
     ],
     "language": "python",
     "metadata": {},
     "outputs": []
    }
   ],
   "metadata": {}
  }
 ]
}