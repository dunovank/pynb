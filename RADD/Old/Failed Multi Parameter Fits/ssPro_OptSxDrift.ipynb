{
 "metadata": {
  "name": "",
  "signature": "sha256:6d3e82c98d82e2ab1ef1bfcd5452b9bff570251e6751a6c068743456a220901e"
 },
 "nbformat": 3,
 "nbformat_minor": 0,
 "worksheets": [
  {
   "cells": [
    {
     "cell_type": "code",
     "collapsed": false,
     "input": [
      "from __future__ import division\n",
      "import os\n",
      "from collections import OrderedDict\n",
      "\n",
      "import multiprocessing as mp\n",
      "\n",
      "import seaborn as sns\n",
      "import pandas as pd\n",
      "from radd import qsim, psy, utils, ft, simfx, ss\n",
      "from radd.simfx import *\n",
      "import scipy as scp\n",
      "from IPython.display import HTML, Javascript, display\n",
      "\n",
      "from lmfit import minimize, Parameters, Parameter, report_fit, Minimizer, fit_report"
     ],
     "language": "python",
     "metadata": {},
     "outputs": [],
     "prompt_number": 261
    },
    {
     "cell_type": "heading",
     "level": 1,
     "metadata": {},
     "source": [
      "Load Data & Parameter Files"
     ]
    },
    {
     "cell_type": "code",
     "collapsed": false,
     "input": [
      "pth=utils.find_path()+\"CoAx/SS/\"\n",
      "\n",
      "rePar=pd.read_csv(pth+\"HDDM/Reactive/vbias_full/vBP_SxStats.csv\")\n",
      "\n",
      "#load params & drop subjects with failed HDDM fits\n",
      "proPar=pd.read_csv(pth+\"HDDM/Proactive/vfull_sx/vfull_HiLo_550_SxStats.csv\")\n",
      "paramdf=proPar.query('subj_idx!=[39, 42, 66, 69]')\n",
      "\n",
      "#slice a few subjects for testing\n",
      "testdf=paramdf.query('subj_idx==[28, 29, 30, 31, 65]')\n",
      "\n",
      "#load data\n",
      "data=pd.read_csv(pth+\"Proactive/Pro_SxData_tb550.csv\")\n",
      "\n",
      "#load ss drift-rates fitted from reactive data\n",
      "ssvdf=pd.read_csv(pth+\"ReSSV_Sims/Nested/800trials_50maxfun/SxFitSummary.csv\", index_col='subj_idx')"
     ],
     "language": "python",
     "metadata": {},
     "outputs": [],
     "prompt_number": 262
    },
    {
     "cell_type": "code",
     "collapsed": false,
     "input": [
      "#ssv_dict={28:-0.75,29:-0.71,30:-1.92,31:-0.65,32:-0.82,33:-0.67,34:-0.61,35:-0.43,36:-1.23,\n",
      "#37:-0.55,38:-0.74,40:-1.75,41:-1.62,42:-0.73,43:-0.67,44:-1.41,45:-1.21,47:-0.52,48:-0.74,\n",
      "#50:-1.54,51:-0.70,52:-0.53,54:-0.54,55:-0.60,56:-0.51,57:-0.63,58:-0.74,59:-0.72,60:-0.69,\n",
      "#61:-1.69,62:-0.69,63:-1.66,65:-0.72,67:-1.39,68:-0.76,70:-0.75,71:-0.84,72:-0.75,73:-0.54,\n",
      "#74:-0.75,75:-0.62,76:-1.02,77:-0.89,78:-0.98,79:-1.93,80:-1.38,81:-0.88,82:-1.21,83:-0.72,\n",
      "#84:-0.89,85:-1.30,86:-1.03,87:-0.86,88:-1.36,89:-1.07,90:-0.62,95:-1.41,97:-0.70}\n",
      "\n",
      "#ssv_dict=ssvdf['ssv'].to_dict()\n",
      "ssv_inits={28: 0.75, 29: 0.71, 30: 1.92, 31: 0.65, 32: 0.82, 33: 0.67, 34: 0.61, 35: 0.43, 36: 1.23, \n",
      "           37: 0.55, 38: 1.5, 40: 1.75, 41: 1.62, 42: 0.73, 43: 0.67, 44: 1.41, 45: 1.21, 47: 0.52, \n",
      "           48: 0.74, 50: 1.54, 51: 0.7, 52: 0.53, 54: 0.54, 55: 0.6, 56: 0.51, 57: 0.63, 58: 0.74, \n",
      "           59: 0.72, 60: 0.69, 61: 1.69, 62: 0.69, 63: 1.66, 65: 1.5, 67: 1.39, 68: 0.76, 70: 0.75, \n",
      "           71: 0.84, 72: 0.75, 73: 0.54, 74: 0.75, 75: 0.62, 76: 1.02, 77: 0.89, 78: 0.98, 79: 1.93, \n",
      "           80: 1.38, 81: 0.88, 82: 1.21, 83: 0.72, 84: 0.89, 85: 1.3, 86: 1.03, 87: 0.86, 88: 1.36, \n",
      "           89: 1.07, 90: 0.62, 95: 1.41, 97: 0.7}\n",
      "ssv_dict=ssv_inits"
     ],
     "language": "python",
     "metadata": {},
     "outputs": [],
     "prompt_number": 263
    },
    {
     "cell_type": "heading",
     "level": 1,
     "metadata": {},
     "source": [
      "Optimize SSV using Nested Pools Model"
     ]
    },
    {
     "cell_type": "heading",
     "level": 3,
     "metadata": {},
     "source": [
      "Get Individual Sx Params for Simulating"
     ]
    },
    {
     "cell_type": "code",
     "collapsed": false,
     "input": [
      "def get_sx_params(sxdf):\n",
      "    \n",
      "    params=sxdf['mean']; params.index=sxdf['param']\n",
      "    a=params['a']*.1\n",
      "    z=a*params['z']\n",
      "    \n",
      "    lohi={'lo':params['v(Lo)']*.1,'hi':params['v(Hi)']*.1}\n",
      "    pGo_list=np.array([0,.2,.4,.6,.8,1])\n",
      "    tb=.550\n",
      "    \n",
      "    sp={'ssd':450,'ssTer':0.0, 'ssTer_var':0.0, 'pGo':0.0}\n",
      "    gp={'a':a, 'v':0.0, 'z':z, 'Ter':params['t'], 'eta':params['sv'], 'st':0.0, 'sz':0.0}\n",
      "    \n",
      "    return [gp, sp, lohi]"
     ],
     "language": "python",
     "metadata": {},
     "outputs": [],
     "prompt_number": 264
    },
    {
     "cell_type": "heading",
     "level": 3,
     "metadata": {},
     "source": [
      "Simulate & Residuals F(x)"
     ]
    },
    {
     "cell_type": "code",
     "collapsed": false,
     "input": [
      "ss=reload(ss); qsim=reload(qsim); simfx=reload(simfx); utils=reload(utils); ft=reload(ft)\n",
      "\n",
      "def vMinFunc(p, gp, sp, ydata, ntrials=5000):\n",
      "    \n",
      "    #print\"drift\", p[\"pg\"+str(int(sp['pGo']*100))].value\n",
      "    gp['v']=p[\"pg\"+str(int(sp['pGo']*100))].value\n",
      "    \n",
      "    simdf=ss.set_model(gParams=gp, sParams=sp, mfx=simfx.sim_radd, ntrials=ntrials, timebound=.550, \n",
      "                     depHyper=True, visual=False, task='ssPro', return_all_beh=True, condition_str='bsl') \n",
      "\n",
      "    ymodel=round(np.array([len(simdf[simdf['choice']=='stop'])/len(simdf)]), 6)\n",
      "    #print \"ymodel\", ymodel\n",
      "    \n",
      "    residuals=round(np.abs(ymodel-ydata), 6)\n",
      "    #print residuals\n",
      "    return residuals"
     ],
     "language": "python",
     "metadata": {},
     "outputs": [],
     "prompt_number": 265
    },
    {
     "cell_type": "heading",
     "level": 3,
     "metadata": {},
     "source": [
      "Gradient-Descent Simplex Optimization of Go Drift-Rate (v)"
     ]
    },
    {
     "cell_type": "code",
     "collapsed": false,
     "input": [
      "def fitsx_drift_rate(output,sx, data, params=proPar, ntrials=100, maxiter=50):\n",
      "\n",
      "    # get sx data\n",
      "    sxdata=data[data['subj_idx']==sx]\n",
      "    # unpack sx params\n",
      "    gp, sp, lohi = get_sx_params(params)\n",
      "    sp['mu_ss']=ssv_dict[sx]\n",
      "    pGo_list=np.array([0,.2,.4,.6,.8,1])\n",
      "    \n",
      "    fits=pd.DataFrame(columns=['sx', 'pGo', 'v', 'residuals', 'chisq', \n",
      "                               'redchi'], index=np.arange(len(pGo_list)))\n",
      "    \n",
      "    for i, pg in enumerate(pGo_list):\n",
      "        \n",
      "        if pg==0:\n",
      "            pinit=.8\n",
      "        else:\n",
      "            pinit=p[pgstr].value+.2\n",
      "        \n",
      "        sp['pGo']=pg\n",
      "        pgstr=\"pg\"+str(int(pg*100))\n",
      "\n",
      "        p=Parameters()\n",
      "        p.add(pgstr, value=pinit, min=.5, max=3.0)\n",
      "\n",
      "        df=sxdata[sxdata['pGo']==pg]\n",
      "        ydata=round(np.array(len(df[df['response']==0])/len(df)), 6)\n",
      "\n",
      "        out = Minimizer(vMinFunc, p, fcn_args=(gp,sp,ydata,ntrials), \n",
      "                kws={\"full_output\":True, \"disp\":True, \"retall\":True}) \n",
      "        out.prepare_fit()\n",
      "        out.fmin(maxfun=maxiter, ftol=1.e-4, xtol=1.e-4)\n",
      "\n",
      "        fits.loc[i]=pd.Series({'sx':sx, 'v':p[pgstr].value, 'pGo':pg, \"redchi\":out.redchi, \n",
      "                               \"chisq\":out.chisqr, \"residuals\":out.residual})        \n",
      "    output.put(fits)"
     ],
     "language": "python",
     "metadata": {},
     "outputs": [],
     "prompt_number": 284
    },
    {
     "cell_type": "code",
     "collapsed": false,
     "input": [
      "# Define an output queue\n",
      "output = mp.Queue()\n",
      "\n",
      "# Setup a list of processes that we want to run\n",
      "# target: function to multithread\n",
      "# args: arguments for function\n",
      "processes=[mp.Process(target=fitsx_drift_rate, args=(output, sx, data, sxdf, 20, 5)) \n",
      "           for sx, sxdf in testdf.groupby('subj_idx')]"
     ],
     "language": "python",
     "metadata": {},
     "outputs": [],
     "prompt_number": 285
    },
    {
     "cell_type": "code",
     "collapsed": false,
     "input": [
      "#pb=utils.PBinJ(len(testdf.subj_idx.unique()), color='seagreen')\n",
      "\n",
      "# Run processes\n",
      "for proc in processes:\n",
      "    proc.start()"
     ],
     "language": "python",
     "metadata": {},
     "outputs": []
    },
    {
     "cell_type": "code",
     "collapsed": false,
     "input": [
      "# Exit the completed processes\n",
      "for proc in processes:\n",
      "    proc.join()"
     ],
     "language": "python",
     "metadata": {},
     "outputs": [],
     "prompt_number": 288
    },
    {
     "cell_type": "code",
     "collapsed": false,
     "input": [],
     "language": "python",
     "metadata": {},
     "outputs": []
    },
    {
     "cell_type": "code",
     "collapsed": false,
     "input": [],
     "language": "python",
     "metadata": {},
     "outputs": []
    },
    {
     "cell_type": "code",
     "collapsed": false,
     "input": [],
     "language": "python",
     "metadata": {},
     "outputs": []
    },
    {
     "cell_type": "code",
     "collapsed": false,
     "input": [],
     "language": "python",
     "metadata": {},
     "outputs": []
    },
    {
     "cell_type": "code",
     "collapsed": false,
     "input": [],
     "language": "python",
     "metadata": {},
     "outputs": []
    },
    {
     "cell_type": "code",
     "collapsed": false,
     "input": [],
     "language": "python",
     "metadata": {},
     "outputs": []
    },
    {
     "cell_type": "heading",
     "level": 1,
     "metadata": {},
     "source": [
      "Concatenate and Format Output Stats"
     ]
    },
    {
     "cell_type": "code",
     "collapsed": false,
     "input": [
      "fits_all=pd.concat([output.get() for p in processes])"
     ],
     "language": "python",
     "metadata": {},
     "outputs": [],
     "prompt_number": 255
    },
    {
     "cell_type": "code",
     "collapsed": false,
     "input": [
      "fitsdf=fits_all.convert_objects(convert_numeric=True)\n",
      "fitsdf=fitsdf.sort(['sx', 'pGo']).set_index('sx')"
     ],
     "language": "python",
     "metadata": {},
     "outputs": [],
     "prompt_number": 283
    },
    {
     "cell_type": "code",
     "collapsed": false,
     "input": [],
     "language": "python",
     "metadata": {},
     "outputs": []
    },
    {
     "cell_type": "heading",
     "level": 1,
     "metadata": {},
     "source": [
      "Old functions and worker loops for fitting SSV"
     ]
    },
    {
     "cell_type": "code",
     "collapsed": false,
     "input": [
      "fits={}\n",
      "ntrials=5000\n",
      "sx_n=0; n=len(proPar.subj_idx.unique())\n",
      "pb=utils.PBinJ(n, color='seagreen')\n",
      "\n",
      "x=np.array([.2,.8])\n",
      "xx=np.arange(0.0, 1.2,.2)\n",
      "\n",
      "for sx, sxdf in proPar.groupby('subj_idx'):\n",
      "    \n",
      "    sx_n +=1\n",
      "    #get sx data\n",
      "    sxdata=data[data['subj_idx']==sx]\n",
      "    \n",
      "    #get sx params\n",
      "    gp, sp, lohi = get_sx_params(sxdf)\n",
      "    sp['mu_ss']=ssv_dict[sx]\n",
      "\n",
      "    pGo_list=np.array([0,.2,.4,.6,.8,1])\n",
      "    pdict={}\n",
      "    \n",
      "    for i, pg in enumerate(pGo_list):\n",
      "        \n",
      "        if pg==0:\n",
      "            pinit=.8\n",
      "        else:\n",
      "            pinit=p[pgstr].value+.2\n",
      "        \n",
      "        pgstr=\"pg\"+str(int(pg*100))\n",
      "        \n",
      "        p=Parameters()\n",
      "        p.add(pgstr, value=pinit, min=.6, max=2.5)\n",
      "        \n",
      "        df=sxdata[sxdata['pGo']==pg]\n",
      "        ydata=round(np.array(len(df[df['response']==0])/len(df)), 5)\n",
      "        sp['pGo']=pg\n",
      "\n",
      "        out = Minimizer(ssvMinFunc2, p, fcn_args=(gp,sp,ydata,5000), \n",
      "                kws={\"full_output\":True, \"disp\":True, \"retall\":True}) \n",
      "        out.prepare_fit()\n",
      "        out.fmin(maxfun=100, ftol=1.e-4, xtol=1.e-4)\n",
      "        #print and store fit stats for current conditions\n",
      "        print \"sx:%s\\t pGo:%s\\t drift:%.3f\\t residual:%.3f\" % (str(sx), str(pg), p[pgstr].value, out.residual)\n",
      "        pdict[pgstr]={'v':p[pgstr].value, \"redchi\":out.redchi, \"chisq\":out.chisqr, \"residuals\":out.residual}\n",
      "    \n",
      "    #store fit stats for all conditions for current subject \n",
      "    fits[sx]=pdict\n",
      "    #update progress\n",
      "    pb.update_i(sx_n)"
     ],
     "language": "python",
     "metadata": {},
     "outputs": [
      {
       "html": [
        "\n",
        "\t    <div style=\"border: 1px solid black; width:500px\">\n",
        "\t    <div id=\"eb5f3cca-ed70-4bf6-b089-a27c4d12d208\" style=\"background-color:seagreen; width:0%\">&nbsp;</div>\n",
        "\t    </div> \n",
        "\t    "
       ],
       "metadata": {},
       "output_type": "display_data",
       "text": [
        "<IPython.core.display.HTML at 0x7f2ee582f590>"
       ]
      },
      {
       "output_type": "stream",
       "stream": "stdout",
       "text": [
        "sx:28\t pGo:0.0\t drift:0.760\t residual:0.013\n",
        "sx:28\t pGo:0.2\t drift:1.376\t residual:0.005"
       ]
      },
      {
       "output_type": "stream",
       "stream": "stdout",
       "text": [
        "\n",
        "sx:28\t pGo:0.4\t drift:1.576\t residual:0.152"
       ]
      },
      {
       "output_type": "stream",
       "stream": "stdout",
       "text": [
        "\n",
        "sx:28\t pGo:0.6\t drift:1.745\t residual:0.125"
       ]
      },
      {
       "output_type": "stream",
       "stream": "stdout",
       "text": [
        "\n",
        "sx:28\t pGo:0.8\t drift:2.018\t residual:0.001"
       ]
      },
      {
       "output_type": "stream",
       "stream": "stdout",
       "text": [
        "\n",
        "sx:28\t pGo:1.0\t drift:2.269\t residual:0.000"
       ]
      },
      {
       "output_type": "stream",
       "stream": "stdout",
       "text": [
        "\n"
       ]
      },
      {
       "javascript": [
        "$('div#eb5f3cca-ed70-4bf6-b089-a27c4d12d208').width('1.67%')"
       ],
       "metadata": {},
       "output_type": "display_data",
       "text": [
        "<IPython.core.display.Javascript at 0x7f2ee5901410>"
       ]
      },
      {
       "output_type": "stream",
       "stream": "stdout",
       "text": [
        "sx:29\t pGo:0.0\t drift:0.600\t residual:0.046\n",
        "sx:29\t pGo:0.2\t drift:0.826\t residual:0.007"
       ]
      },
      {
       "output_type": "stream",
       "stream": "stdout",
       "text": [
        "\n",
        "sx:29\t pGo:0.4\t drift:1.060\t residual:0.005"
       ]
      },
      {
       "output_type": "stream",
       "stream": "stdout",
       "text": [
        "\n",
        "sx:29\t pGo:0.6\t drift:1.255\t residual:0.005"
       ]
      },
      {
       "output_type": "stream",
       "stream": "stdout",
       "text": [
        "\n",
        "sx:29\t pGo:0.8\t drift:1.462\t residual:0.155"
       ]
      },
      {
       "output_type": "stream",
       "stream": "stdout",
       "text": [
        "\n",
        "sx:29\t pGo:1.0\t drift:1.672\t residual:0.049"
       ]
      },
      {
       "output_type": "stream",
       "stream": "stdout",
       "text": [
        "\n"
       ]
      },
      {
       "javascript": [
        "$('div#eb5f3cca-ed70-4bf6-b089-a27c4d12d208').width('3.33%')"
       ],
       "metadata": {},
       "output_type": "display_data",
       "text": [
        "<IPython.core.display.Javascript at 0x7f2ee5901850>"
       ]
      },
      {
       "output_type": "stream",
       "stream": "stdout",
       "text": [
        "sx:30\t pGo:0.0\t drift:0.800\t residual:0.000\n",
        "sx:30\t pGo:0.2\t drift:0.991\t residual:0.139"
       ]
      },
      {
       "output_type": "stream",
       "stream": "stdout",
       "text": [
        "\n",
        "sx:30\t pGo:0.4\t drift:1.191\t residual:0.368"
       ]
      },
      {
       "output_type": "stream",
       "stream": "stdout",
       "text": [
        "\n",
        "sx:30\t pGo:0.6\t drift:1.383\t residual:0.644"
       ]
      },
      {
       "output_type": "stream",
       "stream": "stdout",
       "text": [
        "\n",
        "sx:30\t pGo:0.8\t drift:1.584\t residual:0.942"
       ]
      },
      {
       "output_type": "stream",
       "stream": "stdout",
       "text": [
        "\n",
        "sx:30\t pGo:1.0\t drift:1.784\t residual:0.940"
       ]
      },
      {
       "output_type": "stream",
       "stream": "stdout",
       "text": [
        "\n"
       ]
      },
      {
       "javascript": [
        "$('div#eb5f3cca-ed70-4bf6-b089-a27c4d12d208').width('5.00%')"
       ],
       "metadata": {},
       "output_type": "display_data",
       "text": [
        "<IPython.core.display.Javascript at 0x7f2ee5923990>"
       ]
      },
      {
       "output_type": "stream",
       "stream": "stdout",
       "text": [
        "sx:31\t pGo:0.0\t drift:0.787\t residual:0.068\n",
        "sx:31\t pGo:0.2\t drift:1.371\t residual:0.003"
       ]
      },
      {
       "output_type": "stream",
       "stream": "stdout",
       "text": [
        "\n",
        "sx:31\t pGo:0.4\t drift:1.573\t residual:0.134"
       ]
      },
      {
       "output_type": "stream",
       "stream": "stdout",
       "text": [
        "\n",
        "sx:31\t pGo:0.6\t drift:1.863\t residual:0.003"
       ]
      },
      {
       "output_type": "stream",
       "stream": "stdout",
       "text": [
        "\n",
        "sx:31\t pGo:0.8\t drift:2.016\t residual:0.001"
       ]
      },
      {
       "output_type": "stream",
       "stream": "stdout",
       "text": [
        "\n",
        "sx:31\t pGo:1.0\t drift:2.500\t residual:0.001"
       ]
      },
      {
       "output_type": "stream",
       "stream": "stdout",
       "text": [
        "\n"
       ]
      },
      {
       "javascript": [
        "$('div#eb5f3cca-ed70-4bf6-b089-a27c4d12d208').width('6.67%')"
       ],
       "metadata": {},
       "output_type": "display_data",
       "text": [
        "<IPython.core.display.Javascript at 0x7f2ee5b3e290>"
       ]
      },
      {
       "output_type": "stream",
       "stream": "stdout",
       "text": [
        "sx:32\t pGo:0.0\t drift:0.800\t residual:0.072\n",
        "sx:32\t pGo:0.2\t drift:0.999\t residual:0.370"
       ]
      },
      {
       "output_type": "stream",
       "stream": "stdout",
       "text": [
        "\n",
        "sx:32\t pGo:0.4\t drift:1.179\t residual:0.563"
       ]
      },
      {
       "output_type": "stream",
       "stream": "stdout",
       "text": [
        "\n",
        "sx:32\t pGo:0.6\t drift:1.374\t residual:0.713"
       ]
      },
      {
       "output_type": "stream",
       "stream": "stdout",
       "text": [
        "\n",
        "sx:32\t pGo:0.8\t drift:1.574\t residual:0.920"
       ]
      },
      {
       "output_type": "stream",
       "stream": "stdout",
       "text": [
        "\n",
        "sx:32\t pGo:1.0\t drift:2.499\t residual:0.001"
       ]
      },
      {
       "output_type": "stream",
       "stream": "stdout",
       "text": [
        "\n"
       ]
      },
      {
       "javascript": [
        "$('div#eb5f3cca-ed70-4bf6-b089-a27c4d12d208').width('8.33%')"
       ],
       "metadata": {},
       "output_type": "display_data",
       "text": [
        "<IPython.core.display.Javascript at 0x7f2ee599fc10>"
       ]
      },
      {
       "output_type": "stream",
       "stream": "stdout",
       "text": [
        "sx:33\t pGo:0.0\t drift:0.800\t residual:0.054\n",
        "sx:33\t pGo:0.2\t drift:1.415\t residual:0.015"
       ]
      },
      {
       "output_type": "stream",
       "stream": "stdout",
       "text": [
        "\n",
        "sx:33\t pGo:0.4\t drift:1.615\t residual:0.177"
       ]
      },
      {
       "output_type": "stream",
       "stream": "stdout",
       "text": [
        "\n",
        "sx:33\t pGo:0.6\t drift:1.802\t residual:0.019"
       ]
      },
      {
       "output_type": "stream",
       "stream": "stdout",
       "text": [
        "\n",
        "sx:33\t pGo:0.8\t drift:2.023\t residual:0.012"
       ]
      },
      {
       "output_type": "stream",
       "stream": "stdout",
       "text": [
        "\n",
        "sx:33\t pGo:1.0\t drift:2.222\t residual:0.009"
       ]
      },
      {
       "output_type": "stream",
       "stream": "stdout",
       "text": [
        "\n"
       ]
      },
      {
       "javascript": [
        "$('div#eb5f3cca-ed70-4bf6-b089-a27c4d12d208').width('10.00%')"
       ],
       "metadata": {},
       "output_type": "display_data",
       "text": [
        "<IPython.core.display.Javascript at 0x7f2ee5811550>"
       ]
      },
      {
       "output_type": "stream",
       "stream": "stdout",
       "text": [
        "sx:34\t pGo:0.0\t drift:0.768\t residual:0.005\n",
        "sx:34\t pGo:0.2\t drift:1.287\t residual:0.008"
       ]
      },
      {
       "output_type": "stream",
       "stream": "stdout",
       "text": [
        "\n",
        "sx:34\t pGo:0.4\t drift:1.491\t residual:0.015"
       ]
      },
      {
       "output_type": "stream",
       "stream": "stdout",
       "text": [
        "\n",
        "sx:34\t pGo:0.6\t drift:1.628\t residual:0.003"
       ]
      },
      {
       "output_type": "stream",
       "stream": "stdout",
       "text": [
        "\n",
        "sx:34\t pGo:0.8\t drift:2.058\t residual:0.001"
       ]
      },
      {
       "output_type": "stream",
       "stream": "stdout",
       "text": [
        "\n",
        "sx:34\t pGo:1.0\t drift:2.387\t residual:0.001"
       ]
      },
      {
       "output_type": "stream",
       "stream": "stdout",
       "text": [
        "\n"
       ]
      },
      {
       "javascript": [
        "$('div#eb5f3cca-ed70-4bf6-b089-a27c4d12d208').width('11.67%')"
       ],
       "metadata": {},
       "output_type": "display_data",
       "text": [
        "<IPython.core.display.Javascript at 0x7f2ee57e9e10>"
       ]
      },
      {
       "output_type": "stream",
       "stream": "stdout",
       "text": [
        "sx:35\t pGo:0.0\t drift:1.095\t residual:0.005\n",
        "sx:35\t pGo:0.2\t drift:1.249\t residual:0.002"
       ]
      },
      {
       "output_type": "stream",
       "stream": "stdout",
       "text": [
        "\n",
        "sx:35\t pGo:0.4\t drift:1.442\t residual:0.009"
       ]
      },
      {
       "output_type": "stream",
       "stream": "stdout",
       "text": [
        "\n",
        "sx:35\t pGo:0.6\t drift:1.644\t residual:0.091"
       ]
      },
      {
       "output_type": "stream",
       "stream": "stdout",
       "text": [
        "\n",
        "sx:35\t pGo:0.8\t drift:1.855\t residual:0.053"
       ]
      },
      {
       "output_type": "stream",
       "stream": "stdout",
       "text": [
        "\n",
        "sx:35\t pGo:1.0\t drift:2.367\t residual:0.000"
       ]
      },
      {
       "output_type": "stream",
       "stream": "stdout",
       "text": [
        "\n"
       ]
      },
      {
       "javascript": [
        "$('div#eb5f3cca-ed70-4bf6-b089-a27c4d12d208').width('13.33%')"
       ],
       "metadata": {},
       "output_type": "display_data",
       "text": [
        "<IPython.core.display.Javascript at 0x7f2ee5b3ff90>"
       ]
      },
      {
       "output_type": "stream",
       "stream": "stdout",
       "text": [
        "sx:36\t pGo:0.0\t drift:0.725\t residual:0.000\n",
        "sx:36\t pGo:0.2\t drift:0.900\t residual:0.154"
       ]
      },
      {
       "output_type": "stream",
       "stream": "stdout",
       "text": [
        "\n",
        "sx:36\t pGo:0.4\t drift:1.725\t residual:0.011"
       ]
      },
      {
       "output_type": "stream",
       "stream": "stdout",
       "text": [
        "\n",
        "sx:36\t pGo:0.6\t drift:2.039\t residual:0.003"
       ]
      },
      {
       "output_type": "stream",
       "stream": "stdout",
       "text": [
        "\n",
        "sx:36\t pGo:0.8\t drift:2.457\t residual:0.000"
       ]
      },
      {
       "output_type": "stream",
       "stream": "stdout",
       "text": [
        "\n",
        "sx:36\t pGo:1.0\t drift:2.499\t residual:0.020"
       ]
      },
      {
       "output_type": "stream",
       "stream": "stdout",
       "text": [
        "\n"
       ]
      },
      {
       "javascript": [
        "$('div#eb5f3cca-ed70-4bf6-b089-a27c4d12d208').width('15.00%')"
       ],
       "metadata": {},
       "output_type": "display_data",
       "text": [
        "<IPython.core.display.Javascript at 0x7f2ee5804390>"
       ]
      },
      {
       "output_type": "stream",
       "stream": "stdout",
       "text": [
        "sx:37\t pGo:0.0\t drift:0.827\t residual:0.067\n",
        "sx:37\t pGo:0.2\t drift:1.027\t residual:0.322"
       ]
      },
      {
       "output_type": "stream",
       "stream": "stdout",
       "text": [
        "\n",
        "sx:37\t pGo:0.4\t drift:1.881\t residual:0.000"
       ]
      },
      {
       "output_type": "stream",
       "stream": "stdout",
       "text": [
        "\n",
        "sx:37\t pGo:0.6\t drift:2.138\t residual:0.009"
       ]
      },
      {
       "output_type": "stream",
       "stream": "stdout",
       "text": [
        "\n",
        "sx:37\t pGo:0.8\t drift:2.311\t residual:0.003"
       ]
      },
      {
       "output_type": "stream",
       "stream": "stdout",
       "text": [
        "\n",
        "sx:37\t pGo:1.0\t drift:2.499\t residual:0.028"
       ]
      },
      {
       "output_type": "stream",
       "stream": "stdout",
       "text": [
        "\n"
       ]
      },
      {
       "javascript": [
        "$('div#eb5f3cca-ed70-4bf6-b089-a27c4d12d208').width('16.67%')"
       ],
       "metadata": {},
       "output_type": "display_data",
       "text": [
        "<IPython.core.display.Javascript at 0x7f2ee57e9310>"
       ]
      },
      {
       "output_type": "stream",
       "stream": "stdout",
       "text": [
        "sx:38\t pGo:0.0\t drift:0.755\t residual:0.027\n",
        "sx:38\t pGo:0.2\t drift:1.642\t residual:0.006"
       ]
      },
      {
       "output_type": "stream",
       "stream": "stdout",
       "text": [
        "\n",
        "sx:38\t pGo:0.4\t drift:1.865\t residual:0.009"
       ]
      },
      {
       "output_type": "stream",
       "stream": "stdout",
       "text": [
        "\n",
        "sx:38\t pGo:0.6\t drift:1.995\t residual:0.011"
       ]
      },
      {
       "output_type": "stream",
       "stream": "stdout",
       "text": [
        "\n",
        "sx:38\t pGo:0.8\t drift:2.483\t residual:0.014"
       ]
      },
      {
       "output_type": "stream",
       "stream": "stdout",
       "text": [
        "\n",
        "sx:38\t pGo:1.0\t drift:2.500\t residual:0.002"
       ]
      },
      {
       "output_type": "stream",
       "stream": "stdout",
       "text": [
        "\n"
       ]
      },
      {
       "javascript": [
        "$('div#eb5f3cca-ed70-4bf6-b089-a27c4d12d208').width('18.33%')"
       ],
       "metadata": {},
       "output_type": "display_data",
       "text": [
        "<IPython.core.display.Javascript at 0x7f2ee5b3f990>"
       ]
      },
      {
       "ename": "KeyError",
       "evalue": "39",
       "output_type": "pyerr",
       "traceback": [
        "\u001b[1;31m---------------------------------------------------------------------------\u001b[0m\n\u001b[1;31mKeyError\u001b[0m                                  Traceback (most recent call last)",
        "\u001b[1;32m<ipython-input-110-f9bfc5c83c47>\u001b[0m in \u001b[0;36m<module>\u001b[1;34m()\u001b[0m\n\u001b[0;32m     15\u001b[0m     \u001b[1;31m#get sx params\u001b[0m\u001b[1;33m\u001b[0m\u001b[1;33m\u001b[0m\u001b[0m\n\u001b[0;32m     16\u001b[0m     \u001b[0mgp\u001b[0m\u001b[1;33m,\u001b[0m \u001b[0msp\u001b[0m\u001b[1;33m,\u001b[0m \u001b[0mlohi\u001b[0m \u001b[1;33m=\u001b[0m \u001b[0mget_sx_params\u001b[0m\u001b[1;33m(\u001b[0m\u001b[0msxdf\u001b[0m\u001b[1;33m)\u001b[0m\u001b[1;33m\u001b[0m\u001b[0m\n\u001b[1;32m---> 17\u001b[1;33m     \u001b[0msp\u001b[0m\u001b[1;33m[\u001b[0m\u001b[1;34m'mu_ss'\u001b[0m\u001b[1;33m]\u001b[0m\u001b[1;33m=\u001b[0m\u001b[0mssv_dict\u001b[0m\u001b[1;33m[\u001b[0m\u001b[0msx\u001b[0m\u001b[1;33m]\u001b[0m\u001b[1;33m\u001b[0m\u001b[0m\n\u001b[0m\u001b[0;32m     18\u001b[0m \u001b[1;33m\u001b[0m\u001b[0m\n\u001b[0;32m     19\u001b[0m     \u001b[0mpGo_list\u001b[0m\u001b[1;33m=\u001b[0m\u001b[0mnp\u001b[0m\u001b[1;33m.\u001b[0m\u001b[0marray\u001b[0m\u001b[1;33m(\u001b[0m\u001b[1;33m[\u001b[0m\u001b[1;36m0\u001b[0m\u001b[1;33m,\u001b[0m\u001b[1;36m.2\u001b[0m\u001b[1;33m,\u001b[0m\u001b[1;36m.4\u001b[0m\u001b[1;33m,\u001b[0m\u001b[1;36m.6\u001b[0m\u001b[1;33m,\u001b[0m\u001b[1;36m.8\u001b[0m\u001b[1;33m,\u001b[0m\u001b[1;36m1\u001b[0m\u001b[1;33m]\u001b[0m\u001b[1;33m)\u001b[0m\u001b[1;33m\u001b[0m\u001b[0m\n",
        "\u001b[1;31mKeyError\u001b[0m: 39"
       ]
      }
     ],
     "prompt_number": 110
    },
    {
     "cell_type": "code",
     "collapsed": false,
     "input": [],
     "language": "python",
     "metadata": {},
     "outputs": []
    },
    {
     "cell_type": "code",
     "collapsed": false,
     "input": [],
     "language": "python",
     "metadata": {},
     "outputs": []
    },
    {
     "cell_type": "code",
     "collapsed": false,
     "input": [],
     "language": "python",
     "metadata": {},
     "outputs": []
    },
    {
     "cell_type": "code",
     "collapsed": false,
     "input": [],
     "language": "python",
     "metadata": {},
     "outputs": []
    },
    {
     "cell_type": "code",
     "collapsed": false,
     "input": [],
     "language": "python",
     "metadata": {},
     "outputs": []
    },
    {
     "cell_type": "code",
     "collapsed": false,
     "input": [
      "def get_sx_params(sxdf):\n",
      "    \n",
      "    params=sxdf['mean']; params.index=sxdf['param']\n",
      "    a=params['a']*.1\n",
      "    z=a*params['z']\n",
      "    \n",
      "    lohi={'lo':params['v(Lo)']*.1,'hi':params['v(Hi)']*.1}\n",
      "    pGo_list=np.array([0,.2,.4,.6,.8,1])\n",
      "    tb=.550\n",
      "    \n",
      "    sp={'ssd':450,'ssTer':0.0, 'ssTer_var':0.0, 'pGo':0.0}\n",
      "    gp={'a':a, 'v':0.0, 'z':z, 'Ter':params['t'], 'eta':params['sv'], 'st':0.0, 'sz':0.0}\n",
      "    \n",
      "    return [gp, sp, lohi]"
     ],
     "language": "python",
     "metadata": {},
     "outputs": [],
     "prompt_number": 100
    },
    {
     "cell_type": "code",
     "collapsed": false,
     "input": [
      "ss=reload(ss); qsim=reload(qsim); simfx=reload(simfx); utils=reload(utils); ft=reload(ft)\n",
      "\n",
      "def ssvMinFunc2(p, gp, sp, ydata, ntrials=5000):\n",
      "    \n",
      "    #print\"drift\", p[\"pg\"+str(int(sp['pGo']*100))].value\n",
      "    gp['v']=p[\"pg\"+str(int(sp['pGo']*100))].value\n",
      "    \n",
      "    simdf=ss.set_model(gParams=gp, sParams=sp, mfx=simfx.sim_radd, ntrials=ntrials, timebound=.550, \n",
      "                     depHyper=True, visual=False, task='ssPro', return_all_beh=True, condition_str='bsl') \n",
      "\n",
      "    ymodel=round(np.array([len(simdf[simdf['choice']=='stop'])/len(simdf)]), 5)\n",
      "    #print \"ymodel\", ymodel\n",
      "    \n",
      "    residuals=round(np.abs(ymodel-ydata), 5)\n",
      "    #print residuals\n",
      "    return residuals"
     ],
     "language": "python",
     "metadata": {},
     "outputs": [],
     "prompt_number": 104
    },
    {
     "cell_type": "heading",
     "level": 3,
     "metadata": {},
     "source": [
      "Format Fit Summaries and Save"
     ]
    },
    {
     "cell_type": "code",
     "collapsed": false,
     "input": [
      "x=pd.DataFrame(fits).T\n",
      "y=pd.DataFrame(x.residuals.T.to_dict(),index=['err200', 'err250', 'err300', 'err350', 'err400']).T\n",
      "fit_df=pd.concat([x,y], axis=1).drop('residuals', axis=1)\n",
      "fit_df['SSE']=[np.sum(i**2) for i in x.residuals.values]\n",
      "fit_df.index.name='subj_idx'\n",
      "fit_df.to_csv(pth+\"CoAx/SS/ReSSV_Sims/Independent/SxFitSummary_1500trials_500fxeval.csv\")"
     ],
     "language": "python",
     "metadata": {},
     "outputs": [],
     "prompt_number": 347
    },
    {
     "cell_type": "code",
     "collapsed": false,
     "input": [
      "ssdlist=np.arange(.20, .45, .05)\n",
      "sscurves=pd.DataFrame(columns=['ssd200', 'ssd250', 'ssd300', 'ssd350', 'ssd400'], index=ssv_dict.keys())\n",
      "datacurves=pd.DataFrame(columns=['ssd200', 'ssd250', 'ssd300', 'ssd350', 'ssd400'], index=ssv_dict.keys())\n",
      "\n",
      "fits_df.dropna(inplace=True)\n",
      "fits_df.index=fits_df.subj_idx\n",
      "\n",
      "for sx, sxdf in fits_df.groupby('subj_idx'):\n",
      "    sscurves.loc[sx]=sxdf['stop_curves'][sx][0]\n",
      "    \n",
      "    sxdata=data[data['subj_idx']==sx]\n",
      "    ydata=sxdata.groupby('ssd').mean()['acc'].values[:-1]\n",
      "    datacurves.loc[sx]=ydata\n",
      "    #ysigma=sxdata.groupby('ssd')['acc'].std().values[:-1]"
     ],
     "language": "python",
     "metadata": {},
     "outputs": [],
     "prompt_number": 151
    },
    {
     "cell_type": "code",
     "collapsed": false,
     "input": [
      "qsim=reload(qsim); psy=reload(psy)\n",
      "sns.set_context('poster')\n",
      "\n",
      "#plot data means & std err\n",
      "bslmu=datacurves.mean()\n",
      "bslsd=datacurves.std()\n",
      "plt.errorbar(ssdlist, bslmu, yerr=bslsd, label='emp')\n",
      "\n",
      "#plot sim. means & std err\n",
      "sc=np.array(sscurves.mean().values[::-1])\n",
      "sc_sd=np.array(sscurves.std().values[::-1])\n",
      "plt.errorbar(ssdlist, sc, yerr=sc_sd, label='sim')\n",
      "\n",
      "plt.setp(plt.gca(), xlim=(.15,.45), ylim=(0,1))\n",
      "plt.legend(loc=0, fontsize=14)\n",
      "\n",
      "psy.scurves(ysim=[sc[::-1], bslmu[::-1]], labels=['Sim', 'Emp'])"
     ],
     "language": "python",
     "metadata": {},
     "outputs": [
      {
       "metadata": {},
       "output_type": "display_data",
       "png": "[encoded data removed]",
       "text": [
        "<matplotlib.figure.Figure at 0x7fee41b37250>"
       ]
      },
      {
       "metadata": {},
       "output_type": "display_data",
       "png": "[encoded data removed]",
       "text": [
        "<matplotlib.figure.Figure at 0x7fee428d2510>"
       ]
      }
     ],
     "prompt_number": 157
    },
    {
     "cell_type": "code",
     "collapsed": false,
     "input": [
      "import os\n",
      "import subprocess\n",
      "import urllib"
     ],
     "language": "python",
     "metadata": {},
     "outputs": [],
     "prompt_number": 1
    },
    {
     "cell_type": "code",
     "collapsed": false,
     "input": [
      "wget -O `ipython locate profile daytime`/static/custom/custom.css\n",
      "https://raw.githubusercontent.com/nsonnad/base16-ipython-notebook/master/base16-ocean-dark.css"
     ],
     "language": "python",
     "metadata": {},
     "outputs": []
    },
    {
     "cell_type": "code",
     "collapsed": false,
     "input": [
      "\n",
      "%base16_mplrc railcasts dark"
     ],
     "language": "python",
     "metadata": {},
     "outputs": [
      {
       "output_type": "stream",
       "stream": "stderr",
       "text": [
        "ERROR: Line magic function `%base16_mplrc` not found.\n"
       ]
      }
     ],
     "prompt_number": 2
    },
    {
     "cell_type": "code",
     "collapsed": false,
     "input": [
      "theme_names = ['3024-dark',\n",
      "               '3024-light',\n",
      "               'atelierdune-dark',\n",
      "               'atelierdune-light',\n",
      "               'atelierforest-dark',\n",
      "               'atelierforest-light',\n",
      "               'atelierheath-dark',\n",
      "               'atelierheath-light',\n",
      "               'atelierlakeside-dark',\n",
      "               'atelierlakeside-light',\n",
      "               'atelierseaside-dark',\n",
      "               'atelierseaside-light',\n",
      "               'bespin-dark',\n",
      "               'bespin-light',\n",
      "               'chalk-dark',\n",
      "               'chalk-light',\n",
      "               'default-dark',\n",
      "               'default-light',\n",
      "               'eighties-dark',\n",
      "               'eighties-light',\n",
      "               'grayscale-dark',\n",
      "               'grayscale-light',\n",
      "               'greenscreen-dark',\n",
      "               'greenscreen-light',\n",
      "               'isotope-dark',\n",
      "               'isotope-light',\n",
      "               'londontube-dark',\n",
      "               'londontube-light',\n",
      "               'marrakesh-dark',\n",
      "               'marrakesh-light',\n",
      "               'mocha-dark',\n",
      "               'mocha-light',\n",
      "               'monokai-dark',\n",
      "               'monokai-light',\n",
      "               'ocean-dark',\n",
      "               'ocean-light',\n",
      "               'paraiso-dark',\n",
      "               'paraiso-light',\n",
      "               'railscasts-dark',\n",
      "               'railscasts-light',\n",
      "               'shapeshifter-dark',\n",
      "               'shapeshifter-light',\n",
      "               'solarized-dark',\n",
      "               'solarized-light',\n",
      "               'tomorrow-dark',\n",
      "               'tomorrow-light',\n",
      "               'twilight-dark',\n",
      "               'twilight-light']"
     ],
     "language": "python",
     "metadata": {},
     "outputs": [],
     "prompt_number": 4
    },
    {
     "cell_type": "code",
     "collapsed": false,
     "input": [
      "for i in theme_names:\n",
      "    !ipython profile create $i\n",
      "    profile_dir = !ipython locate profile $i\n",
      "    url = \"https://raw.githubusercontent.com/nsonnad/base16-ipython-notebook/master/base16-\" + i + \".css\"\n",
      "    tgt = os.path.join(profile_dir[0], 'static', 'custom', \"custom.css\")\n",
      "    urllib.urlretrieve (url, tgt)"
     ],
     "language": "python",
     "metadata": {},
     "outputs": []
    }
   ],
   "metadata": {}
  }
 ]
}