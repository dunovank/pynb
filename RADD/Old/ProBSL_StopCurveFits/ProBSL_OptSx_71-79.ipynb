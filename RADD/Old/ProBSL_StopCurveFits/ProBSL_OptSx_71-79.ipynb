{
 "metadata": {
  "name": "",
  "signature": "sha256:74581d3eac56119999fc9ee7a525ae6bb3020ffe4be0c178e3a04782c039f25e"
 },
 "nbformat": 3,
 "nbformat_minor": 0,
 "worksheets": [
  {
   "cells": [
    {
     "cell_type": "code",
     "collapsed": false,
     "input": [
      "from __future__ import division\n",
      "import pandas as pd\n",
      "from radd import utils, simfx, ss, qsim, opt, psy, hd\n",
      "import os\n",
      "import seaborn as sns"
     ],
     "language": "python",
     "metadata": {},
     "outputs": [],
     "prompt_number": 6
    },
    {
     "cell_type": "code",
     "collapsed": false,
     "input": [
      "pth=utils.find_path()\n",
      "data=pd.read_csv(pth+\"Proactive/Pro_AllSx_tb550.csv\")"
     ],
     "language": "python",
     "metadata": {},
     "outputs": [],
     "prompt_number": 7
    },
    {
     "cell_type": "code",
     "collapsed": false,
     "input": [
      "bsl_data=data[data.Cond=='bsl']\n",
      "paramdf=pd.read_csv(pth+\"fullRaDD/ReBSL/kdfitted_sxparameters.csv\", index_col='subj_idx')\n",
      "paramdf['subj_idx']=paramdf.index.values\n",
      "paramdf.index=np.arange(len(paramdf))\n",
      "\n",
      "sxparams1=paramdf.iloc[:9,:]\n",
      "sxparams2=paramdf.iloc[9:18,:]\n",
      "sxparams3=paramdf.iloc[18:27,:]\n",
      "sxparams4=paramdf.iloc[27:36,:]\n",
      "sxparams5=paramdf.iloc[36:45,:]\n",
      "sxparams6=paramdf.iloc[45:,:]\n"
     ],
     "language": "python",
     "metadata": {},
     "outputs": [],
     "prompt_number": 8
    },
    {
     "cell_type": "code",
     "collapsed": false,
     "input": [
      "ss=reload(ss); opt=reload(opt);ss=reload(ss); opt=reload(opt);\n",
      "\n",
      "sxdata5=bsl_data[bsl_data['subj_idx'].isin(sxparams5.subj_idx.unique())]\n",
      "\n",
      "sxdata5.subj_idx.unique()"
     ],
     "language": "python",
     "metadata": {},
     "outputs": [
      {
       "metadata": {},
       "output_type": "pyout",
       "prompt_number": 9,
       "text": [
        "array([71, 72, 73, 74, 75, 76, 77, 78, 79])"
       ]
      }
     ],
     "prompt_number": 9
    },
    {
     "cell_type": "code",
     "collapsed": true,
     "input": [
      "opt.opt_sx_proactive(sxdata5, sxparams5, nsims=500)"
     ],
     "language": "python",
     "metadata": {},
     "outputs": [
      {
       "html": [
        "\n",
        "\t    <div style=\"border: 1px solid black; width:500px\">\n",
        "\t    <div id=\"033a8a3c-c081-4399-aef4-fa09e3556aa0\" style=\"background-color:#4168B7; width:0%\">&nbsp;</div>\n",
        "\t    </div> \n",
        "\t    "
       ],
       "metadata": {},
       "output_type": "display_data",
       "text": [
        "<IPython.core.display.HTML at 0x7f9d950f6990>"
       ]
      },
      {
       "output_type": "stream",
       "stream": "stdout",
       "text": [
        "Subject 71 P(Go=0.0): Converged\n"
       ]
      },
      {
       "javascript": [
        "$('div#033a8a3c-c081-4399-aef4-fa09e3556aa0').width('1.85%')"
       ],
       "metadata": {},
       "output_type": "display_data",
       "text": [
        "<IPython.core.display.Javascript at 0x7f9d9500dc50>"
       ]
      },
      {
       "output_type": "stream",
       "stream": "stdout",
       "text": [
        "Subject 71 P(Go=0.2): Converged\n"
       ]
      },
      {
       "javascript": [
        "$('div#033a8a3c-c081-4399-aef4-fa09e3556aa0').width('3.70%')"
       ],
       "metadata": {},
       "output_type": "display_data",
       "text": [
        "<IPython.core.display.Javascript at 0x7f9d94fb2390>"
       ]
      },
      {
       "output_type": "stream",
       "stream": "stdout",
       "text": [
        "Subject 71 P(Go=0.4): Converged\n"
       ]
      },
      {
       "javascript": [
        "$('div#033a8a3c-c081-4399-aef4-fa09e3556aa0').width('5.56%')"
       ],
       "metadata": {},
       "output_type": "display_data",
       "text": [
        "<IPython.core.display.Javascript at 0x7f9d94fa2a90>"
       ]
      },
      {
       "output_type": "stream",
       "stream": "stdout",
       "text": [
        "Subject 71 P(Go=0.6): Converged\n"
       ]
      },
      {
       "javascript": [
        "$('div#033a8a3c-c081-4399-aef4-fa09e3556aa0').width('7.41%')"
       ],
       "metadata": {},
       "output_type": "display_data",
       "text": [
        "<IPython.core.display.Javascript at 0x7f9d94fb1210>"
       ]
      },
      {
       "output_type": "stream",
       "stream": "stdout",
       "text": [
        "Subject 71 P(Go=0.8): Converged\n"
       ]
      },
      {
       "javascript": [
        "$('div#033a8a3c-c081-4399-aef4-fa09e3556aa0').width('9.26%')"
       ],
       "metadata": {},
       "output_type": "display_data",
       "text": [
        "<IPython.core.display.Javascript at 0x7f9d94fb1e90>"
       ]
      },
      {
       "output_type": "stream",
       "stream": "stdout",
       "text": [
        "Subject 71 P(Go=1.0): Converged\n"
       ]
      },
      {
       "javascript": [
        "$('div#033a8a3c-c081-4399-aef4-fa09e3556aa0').width('11.11%')"
       ],
       "metadata": {},
       "output_type": "display_data",
       "text": [
        "<IPython.core.display.Javascript at 0x7f9d94ff4d90>"
       ]
      },
      {
       "output_type": "stream",
       "stream": "stdout",
       "text": [
        "----------------------------------------------------------------------------------------------------\n",
        "Subject 72 P(Go=0.0): Converged"
       ]
      },
      {
       "output_type": "stream",
       "stream": "stdout",
       "text": [
        "\n"
       ]
      },
      {
       "javascript": [
        "$('div#033a8a3c-c081-4399-aef4-fa09e3556aa0').width('12.96%')"
       ],
       "metadata": {},
       "output_type": "display_data",
       "text": [
        "<IPython.core.display.Javascript at 0x7f9d9522a250>"
       ]
      },
      {
       "output_type": "stream",
       "stream": "stdout",
       "text": [
        "Subject 72 P(Go=0.2): Converged\n"
       ]
      },
      {
       "javascript": [
        "$('div#033a8a3c-c081-4399-aef4-fa09e3556aa0').width('14.81%')"
       ],
       "metadata": {},
       "output_type": "display_data",
       "text": [
        "<IPython.core.display.Javascript at 0x7f9d951ca950>"
       ]
      },
      {
       "output_type": "stream",
       "stream": "stdout",
       "text": [
        "Subject 72 P(Go=0.4): Converged\n"
       ]
      },
      {
       "javascript": [
        "$('div#033a8a3c-c081-4399-aef4-fa09e3556aa0').width('16.67%')"
       ],
       "metadata": {},
       "output_type": "display_data",
       "text": [
        "<IPython.core.display.Javascript at 0x7f9d951cadd0>"
       ]
      },
      {
       "output_type": "stream",
       "stream": "stdout",
       "text": [
        "Subject 72 P(Go=0.6): Converged\n"
       ]
      },
      {
       "javascript": [
        "$('div#033a8a3c-c081-4399-aef4-fa09e3556aa0').width('18.52%')"
       ],
       "metadata": {},
       "output_type": "display_data",
       "text": [
        "<IPython.core.display.Javascript at 0x7f9d950c4f10>"
       ]
      },
      {
       "output_type": "stream",
       "stream": "stdout",
       "text": [
        "Subject 72 P(Go=0.8): Converged\n"
       ]
      },
      {
       "javascript": [
        "$('div#033a8a3c-c081-4399-aef4-fa09e3556aa0').width('20.37%')"
       ],
       "metadata": {},
       "output_type": "display_data",
       "text": [
        "<IPython.core.display.Javascript at 0x7f9d950c9a50>"
       ]
      },
      {
       "output_type": "stream",
       "stream": "stdout",
       "text": [
        "Subject 72 P(Go=1.0): Converged\n"
       ]
      },
      {
       "javascript": [
        "$('div#033a8a3c-c081-4399-aef4-fa09e3556aa0').width('22.22%')"
       ],
       "metadata": {},
       "output_type": "display_data",
       "text": [
        "<IPython.core.display.Javascript at 0x7f9d9500add0>"
       ]
      },
      {
       "output_type": "stream",
       "stream": "stdout",
       "text": [
        "----------------------------------------------------------------------------------------------------\n",
        "Subject 73 P(Go=0.0): Converged"
       ]
      },
      {
       "output_type": "stream",
       "stream": "stdout",
       "text": [
        "\n"
       ]
      },
      {
       "javascript": [
        "$('div#033a8a3c-c081-4399-aef4-fa09e3556aa0').width('24.07%')"
       ],
       "metadata": {},
       "output_type": "display_data",
       "text": [
        "<IPython.core.display.Javascript at 0x7f9d95215590>"
       ]
      },
      {
       "output_type": "stream",
       "stream": "stdout",
       "text": [
        "Subject 73 P(Go=0.2): Converged\n"
       ]
      },
      {
       "javascript": [
        "$('div#033a8a3c-c081-4399-aef4-fa09e3556aa0').width('25.93%')"
       ],
       "metadata": {},
       "output_type": "display_data",
       "text": [
        "<IPython.core.display.Javascript at 0x7f9d95215550>"
       ]
      },
      {
       "output_type": "stream",
       "stream": "stdout",
       "text": [
        "Subject 73 P(Go=0.4): Converged\n"
       ]
      },
      {
       "javascript": [
        "$('div#033a8a3c-c081-4399-aef4-fa09e3556aa0').width('27.78%')"
       ],
       "metadata": {},
       "output_type": "display_data",
       "text": [
        "<IPython.core.display.Javascript at 0x7f9d950909d0>"
       ]
      },
      {
       "output_type": "stream",
       "stream": "stdout",
       "text": [
        "Subject 73 P(Go=0.6): Converged\n"
       ]
      },
      {
       "javascript": [
        "$('div#033a8a3c-c081-4399-aef4-fa09e3556aa0').width('29.63%')"
       ],
       "metadata": {},
       "output_type": "display_data",
       "text": [
        "<IPython.core.display.Javascript at 0x7f9d950e4590>"
       ]
      },
      {
       "output_type": "stream",
       "stream": "stdout",
       "text": [
        "Subject 73 P(Go=0.8): Converged\n"
       ]
      },
      {
       "javascript": [
        "$('div#033a8a3c-c081-4399-aef4-fa09e3556aa0').width('31.48%')"
       ],
       "metadata": {},
       "output_type": "display_data",
       "text": [
        "<IPython.core.display.Javascript at 0x7f9d950d7a50>"
       ]
      },
      {
       "output_type": "stream",
       "stream": "stdout",
       "text": [
        "Subject 73 P(Go=1.0): Converged\n"
       ]
      },
      {
       "javascript": [
        "$('div#033a8a3c-c081-4399-aef4-fa09e3556aa0').width('33.33%')"
       ],
       "metadata": {},
       "output_type": "display_data",
       "text": [
        "<IPython.core.display.Javascript at 0x7f9d94fd8ad0>"
       ]
      },
      {
       "output_type": "stream",
       "stream": "stdout",
       "text": [
        "----------------------------------------------------------------------------------------------------\n",
        "Subject 74 P(Go=0.0): Converged"
       ]
      },
      {
       "output_type": "stream",
       "stream": "stdout",
       "text": [
        "\n"
       ]
      },
      {
       "javascript": [
        "$('div#033a8a3c-c081-4399-aef4-fa09e3556aa0').width('35.19%')"
       ],
       "metadata": {},
       "output_type": "display_data",
       "text": [
        "<IPython.core.display.Javascript at 0x7f9d94faaa10>"
       ]
      },
      {
       "output_type": "stream",
       "stream": "stdout",
       "text": [
        "Subject 74 P(Go=0.2): Converged\n"
       ]
      },
      {
       "javascript": [
        "$('div#033a8a3c-c081-4399-aef4-fa09e3556aa0').width('37.04%')"
       ],
       "metadata": {},
       "output_type": "display_data",
       "text": [
        "<IPython.core.display.Javascript at 0x7f9d951d93d0>"
       ]
      },
      {
       "output_type": "stream",
       "stream": "stdout",
       "text": [
        "Subject 74 P(Go=0.4): Converged\n"
       ]
      },
      {
       "javascript": [
        "$('div#033a8a3c-c081-4399-aef4-fa09e3556aa0').width('38.89%')"
       ],
       "metadata": {},
       "output_type": "display_data",
       "text": [
        "<IPython.core.display.Javascript at 0x7f9d951f8210>"
       ]
      },
      {
       "output_type": "stream",
       "stream": "stdout",
       "text": [
        "Subject 74 P(Go=0.6): Converged\n"
       ]
      },
      {
       "javascript": [
        "$('div#033a8a3c-c081-4399-aef4-fa09e3556aa0').width('40.74%')"
       ],
       "metadata": {},
       "output_type": "display_data",
       "text": [
        "<IPython.core.display.Javascript at 0x7f9d950f1b10>"
       ]
      },
      {
       "output_type": "stream",
       "stream": "stdout",
       "text": [
        "Subject 74 P(Go=0.8): Converged\n"
       ]
      },
      {
       "javascript": [
        "$('div#033a8a3c-c081-4399-aef4-fa09e3556aa0').width('42.59%')"
       ],
       "metadata": {},
       "output_type": "display_data",
       "text": [
        "<IPython.core.display.Javascript at 0x7f9d95090b10>"
       ]
      },
      {
       "output_type": "stream",
       "stream": "stdout",
       "text": [
        "Subject 74 P(Go=1.0): Converged\n"
       ]
      },
      {
       "javascript": [
        "$('div#033a8a3c-c081-4399-aef4-fa09e3556aa0').width('44.44%')"
       ],
       "metadata": {},
       "output_type": "display_data",
       "text": [
        "<IPython.core.display.Javascript at 0x7f9d9508b4d0>"
       ]
      },
      {
       "output_type": "stream",
       "stream": "stdout",
       "text": [
        "----------------------------------------------------------------------------------------------------\n",
        "Subject 75 P(Go=0.0): Converged"
       ]
      },
      {
       "output_type": "stream",
       "stream": "stdout",
       "text": [
        "\n"
       ]
      },
      {
       "javascript": [
        "$('div#033a8a3c-c081-4399-aef4-fa09e3556aa0').width('46.30%')"
       ],
       "metadata": {},
       "output_type": "display_data",
       "text": [
        "<IPython.core.display.Javascript at 0x7f9d9521a910>"
       ]
      },
      {
       "output_type": "stream",
       "stream": "stdout",
       "text": [
        "Subject 75 P(Go=0.2): Converged\n"
       ]
      },
      {
       "javascript": [
        "$('div#033a8a3c-c081-4399-aef4-fa09e3556aa0').width('48.15%')"
       ],
       "metadata": {},
       "output_type": "display_data",
       "text": [
        "<IPython.core.display.Javascript at 0x7f9d94f97390>"
       ]
      },
      {
       "output_type": "stream",
       "stream": "stdout",
       "text": [
        "Subject 75 P(Go=0.4): Converged\n"
       ]
      },
      {
       "javascript": [
        "$('div#033a8a3c-c081-4399-aef4-fa09e3556aa0').width('50.00%')"
       ],
       "metadata": {},
       "output_type": "display_data",
       "text": [
        "<IPython.core.display.Javascript at 0x7f9d951b7550>"
       ]
      },
      {
       "output_type": "stream",
       "stream": "stdout",
       "text": [
        "Subject 75 P(Go=0.6): Converged\n"
       ]
      },
      {
       "javascript": [
        "$('div#033a8a3c-c081-4399-aef4-fa09e3556aa0').width('51.85%')"
       ],
       "metadata": {},
       "output_type": "display_data",
       "text": [
        "<IPython.core.display.Javascript at 0x7f9d951b7ed0>"
       ]
      },
      {
       "output_type": "stream",
       "stream": "stdout",
       "text": [
        "Subject 75 P(Go=0.8): Converged\n"
       ]
      },
      {
       "javascript": [
        "$('div#033a8a3c-c081-4399-aef4-fa09e3556aa0').width('53.70%')"
       ],
       "metadata": {},
       "output_type": "display_data",
       "text": [
        "<IPython.core.display.Javascript at 0x7f9d950cd950>"
       ]
      },
      {
       "output_type": "stream",
       "stream": "stdout",
       "text": [
        "Subject 75 P(Go=1.0): Converged\n"
       ]
      },
      {
       "javascript": [
        "$('div#033a8a3c-c081-4399-aef4-fa09e3556aa0').width('55.56%')"
       ],
       "metadata": {},
       "output_type": "display_data",
       "text": [
        "<IPython.core.display.Javascript at 0x7f9d950f1ad0>"
       ]
      },
      {
       "output_type": "stream",
       "stream": "stdout",
       "text": [
        "----------------------------------------------------------------------------------------------------\n",
        "Subject 76 P(Go=0.0): Converged"
       ]
      },
      {
       "output_type": "stream",
       "stream": "stdout",
       "text": [
        "\n"
       ]
      },
      {
       "javascript": [
        "$('div#033a8a3c-c081-4399-aef4-fa09e3556aa0').width('57.41%')"
       ],
       "metadata": {},
       "output_type": "display_data",
       "text": [
        "<IPython.core.display.Javascript at 0x7f9d9508f410>"
       ]
      },
      {
       "output_type": "stream",
       "stream": "stdout",
       "text": [
        "Subject 76 P(Go=0.2): Converged\n"
       ]
      },
      {
       "javascript": [
        "$('div#033a8a3c-c081-4399-aef4-fa09e3556aa0').width('59.26%')"
       ],
       "metadata": {},
       "output_type": "display_data",
       "text": [
        "<IPython.core.display.Javascript at 0x7f9d951b56d0>"
       ]
      },
      {
       "output_type": "stream",
       "stream": "stdout",
       "text": [
        "Subject 76 P(Go=0.4): Converged\n"
       ]
      },
      {
       "javascript": [
        "$('div#033a8a3c-c081-4399-aef4-fa09e3556aa0').width('61.11%')"
       ],
       "metadata": {},
       "output_type": "display_data",
       "text": [
        "<IPython.core.display.Javascript at 0x7f9d94fe2a90>"
       ]
      },
      {
       "output_type": "stream",
       "stream": "stdout",
       "text": [
        "Subject 76 P(Go=0.6): Converged\n"
       ]
      },
      {
       "javascript": [
        "$('div#033a8a3c-c081-4399-aef4-fa09e3556aa0').width('62.96%')"
       ],
       "metadata": {},
       "output_type": "display_data",
       "text": [
        "<IPython.core.display.Javascript at 0x7f9d94fd3e50>"
       ]
      },
      {
       "output_type": "stream",
       "stream": "stdout",
       "text": [
        "Subject 76 P(Go=0.8): Converged\n"
       ]
      },
      {
       "javascript": [
        "$('div#033a8a3c-c081-4399-aef4-fa09e3556aa0').width('64.81%')"
       ],
       "metadata": {},
       "output_type": "display_data",
       "text": [
        "<IPython.core.display.Javascript at 0x7f9d950f30d0>"
       ]
      },
      {
       "output_type": "stream",
       "stream": "stdout",
       "text": [
        "Subject 76 P(Go=1.0): Converged\n"
       ]
      },
      {
       "javascript": [
        "$('div#033a8a3c-c081-4399-aef4-fa09e3556aa0').width('66.67%')"
       ],
       "metadata": {},
       "output_type": "display_data",
       "text": [
        "<IPython.core.display.Javascript at 0x7f9d950f7890>"
       ]
      },
      {
       "output_type": "stream",
       "stream": "stdout",
       "text": [
        "----------------------------------------------------------------------------------------------------\n",
        "Subject 77 P(Go=0.0): Converged"
       ]
      },
      {
       "output_type": "stream",
       "stream": "stdout",
       "text": [
        "\n"
       ]
      },
      {
       "javascript": [
        "$('div#033a8a3c-c081-4399-aef4-fa09e3556aa0').width('68.52%')"
       ],
       "metadata": {},
       "output_type": "display_data",
       "text": [
        "<IPython.core.display.Javascript at 0x7f9d950c0550>"
       ]
      },
      {
       "output_type": "stream",
       "stream": "stdout",
       "text": [
        "Subject 77 P(Go=0.2): Converged\n"
       ]
      },
      {
       "javascript": [
        "$('div#033a8a3c-c081-4399-aef4-fa09e3556aa0').width('70.37%')"
       ],
       "metadata": {},
       "output_type": "display_data",
       "text": [
        "<IPython.core.display.Javascript at 0x7f9d94fba450>"
       ]
      },
      {
       "output_type": "stream",
       "stream": "stdout",
       "text": [
        "Subject 77 P(Go=0.4): Converged\n"
       ]
      },
      {
       "javascript": [
        "$('div#033a8a3c-c081-4399-aef4-fa09e3556aa0').width('72.22%')"
       ],
       "metadata": {},
       "output_type": "display_data",
       "text": [
        "<IPython.core.display.Javascript at 0x7f9d94fb3f10>"
       ]
      },
      {
       "output_type": "stream",
       "stream": "stdout",
       "text": [
        "Subject 77 P(Go=0.6): Converged\n"
       ]
      },
      {
       "javascript": [
        "$('div#033a8a3c-c081-4399-aef4-fa09e3556aa0').width('74.07%')"
       ],
       "metadata": {},
       "output_type": "display_data",
       "text": [
        "<IPython.core.display.Javascript at 0x7f9d94fb3690>"
       ]
      },
      {
       "output_type": "stream",
       "stream": "stdout",
       "text": [
        "Subject 77 P(Go=0.8): Converged\n"
       ]
      },
      {
       "javascript": [
        "$('div#033a8a3c-c081-4399-aef4-fa09e3556aa0').width('75.93%')"
       ],
       "metadata": {},
       "output_type": "display_data",
       "text": [
        "<IPython.core.display.Javascript at 0x7f9d950f8750>"
       ]
      },
      {
       "output_type": "stream",
       "stream": "stdout",
       "text": [
        "Subject 77 P(Go=1.0): Converged\n"
       ]
      },
      {
       "javascript": [
        "$('div#033a8a3c-c081-4399-aef4-fa09e3556aa0').width('77.78%')"
       ],
       "metadata": {},
       "output_type": "display_data",
       "text": [
        "<IPython.core.display.Javascript at 0x7f9d950cfd50>"
       ]
      },
      {
       "output_type": "stream",
       "stream": "stdout",
       "text": [
        "----------------------------------------------------------------------------------------------------\n",
        "Subject 78 P(Go=0.0): Converged"
       ]
      },
      {
       "output_type": "stream",
       "stream": "stdout",
       "text": [
        "\n"
       ]
      },
      {
       "javascript": [
        "$('div#033a8a3c-c081-4399-aef4-fa09e3556aa0').width('79.63%')"
       ],
       "metadata": {},
       "output_type": "display_data",
       "text": [
        "<IPython.core.display.Javascript at 0x7f9d950c0fd0>"
       ]
      },
      {
       "output_type": "stream",
       "stream": "stdout",
       "text": [
        "Subject 78 P(Go=0.2): Converged\n"
       ]
      },
      {
       "javascript": [
        "$('div#033a8a3c-c081-4399-aef4-fa09e3556aa0').width('81.48%')"
       ],
       "metadata": {},
       "output_type": "display_data",
       "text": [
        "<IPython.core.display.Javascript at 0x7f9d950861d0>"
       ]
      },
      {
       "output_type": "stream",
       "stream": "stdout",
       "text": [
        "Subject 78 P(Go=0.4): Converged\n"
       ]
      },
      {
       "javascript": [
        "$('div#033a8a3c-c081-4399-aef4-fa09e3556aa0').width('83.33%')"
       ],
       "metadata": {},
       "output_type": "display_data",
       "text": [
        "<IPython.core.display.Javascript at 0x7f9d95086bd0>"
       ]
      },
      {
       "output_type": "stream",
       "stream": "stdout",
       "text": [
        "Subject 78 P(Go=0.6): Converged\n"
       ]
      },
      {
       "javascript": [
        "$('div#033a8a3c-c081-4399-aef4-fa09e3556aa0').width('85.19%')"
       ],
       "metadata": {},
       "output_type": "display_data",
       "text": [
        "<IPython.core.display.Javascript at 0x7f9d94fc9c90>"
       ]
      },
      {
       "output_type": "stream",
       "stream": "stdout",
       "text": [
        "Subject 78 P(Go=0.8): Converged\n"
       ]
      },
      {
       "javascript": [
        "$('div#033a8a3c-c081-4399-aef4-fa09e3556aa0').width('87.04%')"
       ],
       "metadata": {},
       "output_type": "display_data",
       "text": [
        "<IPython.core.display.Javascript at 0x7f9d951ada10>"
       ]
      },
      {
       "output_type": "stream",
       "stream": "stdout",
       "text": [
        "Subject 78 P(Go=1.0): Converged\n"
       ]
      },
      {
       "javascript": [
        "$('div#033a8a3c-c081-4399-aef4-fa09e3556aa0').width('88.89%')"
       ],
       "metadata": {},
       "output_type": "display_data",
       "text": [
        "<IPython.core.display.Javascript at 0x7f9d95147210>"
       ]
      },
      {
       "output_type": "stream",
       "stream": "stdout",
       "text": [
        "----------------------------------------------------------------------------------------------------\n",
        "Subject 79 P(Go=0.0): Converged"
       ]
      },
      {
       "output_type": "stream",
       "stream": "stdout",
       "text": [
        "\n"
       ]
      },
      {
       "javascript": [
        "$('div#033a8a3c-c081-4399-aef4-fa09e3556aa0').width('90.74%')"
       ],
       "metadata": {},
       "output_type": "display_data",
       "text": [
        "<IPython.core.display.Javascript at 0x7f9d95147b90>"
       ]
      },
      {
       "output_type": "stream",
       "stream": "stdout",
       "text": [
        "Subject 79 P(Go=0.2): Converged\n"
       ]
      },
      {
       "javascript": [
        "$('div#033a8a3c-c081-4399-aef4-fa09e3556aa0').width('92.59%')"
       ],
       "metadata": {},
       "output_type": "display_data",
       "text": [
        "<IPython.core.display.Javascript at 0x7f9d9513b950>"
       ]
      },
      {
       "output_type": "stream",
       "stream": "stdout",
       "text": [
        "Subject 79 P(Go=0.4): Converged\n"
       ]
      },
      {
       "javascript": [
        "$('div#033a8a3c-c081-4399-aef4-fa09e3556aa0').width('94.44%')"
       ],
       "metadata": {},
       "output_type": "display_data",
       "text": [
        "<IPython.core.display.Javascript at 0x7f9d9514a2d0>"
       ]
      },
      {
       "output_type": "stream",
       "stream": "stdout",
       "text": [
        "Subject 79 P(Go=0.6): Converged\n"
       ]
      },
      {
       "javascript": [
        "$('div#033a8a3c-c081-4399-aef4-fa09e3556aa0').width('96.30%')"
       ],
       "metadata": {},
       "output_type": "display_data",
       "text": [
        "<IPython.core.display.Javascript at 0x7f9d94fc9a50>"
       ]
      },
      {
       "output_type": "stream",
       "stream": "stdout",
       "text": [
        "Subject 79 P(Go=0.8): Converged\n"
       ]
      },
      {
       "javascript": [
        "$('div#033a8a3c-c081-4399-aef4-fa09e3556aa0').width('98.15%')"
       ],
       "metadata": {},
       "output_type": "display_data",
       "text": [
        "<IPython.core.display.Javascript at 0x7f9d951e8810>"
       ]
      },
      {
       "output_type": "stream",
       "stream": "stdout",
       "text": [
        "Subject 79 P(Go=1.0): Converged\n"
       ]
      },
      {
       "javascript": [
        "$('div#033a8a3c-c081-4399-aef4-fa09e3556aa0').width('100.00%')"
       ],
       "metadata": {},
       "output_type": "display_data",
       "text": [
        "<IPython.core.display.Javascript at 0x7f9d95198590>"
       ]
      },
      {
       "output_type": "stream",
       "stream": "stdout",
       "text": [
        "----------------------------------------------------------------------------------------------------\n"
       ]
      }
     ],
     "prompt_number": 10
    }
   ],
   "metadata": {}
  }
 ]
}