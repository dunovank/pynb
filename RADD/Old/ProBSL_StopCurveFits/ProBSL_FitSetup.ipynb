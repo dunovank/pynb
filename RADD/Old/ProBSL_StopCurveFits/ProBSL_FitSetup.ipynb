{
 "metadata": {
  "name": "",
  "signature": "sha256:ae3b089756218005c19b7182e03bd5e6a09c76b3b8cd3bf3427351407db3d7f4"
 },
 "nbformat": 3,
 "nbformat_minor": 0,
 "worksheets": [
  {
   "cells": [
    {
     "cell_type": "code",
     "collapsed": false,
     "input": [
      "import pandas as pd\n",
      "from radd import utils, simfx, ss, qsim, opt, psy, hd\n",
      "import os\n",
      "import seaborn as sns"
     ],
     "language": "python",
     "metadata": {},
     "outputs": [],
     "prompt_number": 1
    },
    {
     "cell_type": "code",
     "collapsed": false,
     "input": [
      "pth=utils.find_path()\n",
      "data=pd.read_csv(pth+\"Proactive/Pro_AllSx_tb550.csv\")"
     ],
     "language": "python",
     "metadata": {},
     "outputs": [],
     "prompt_number": 2
    },
    {
     "cell_type": "code",
     "collapsed": false,
     "input": [
      "pth=utils.find_path()\n",
      "\n",
      "data=pd.read_csv(pth+\"Proactive/Pro_AllSx_tb550.csv\")\n",
      "bsl_data=data[data.Cond=='bsl']\n",
      "\n",
      "\n",
      "paramdf=pd.read_csv(pth+\"fullRaDD/ReBSL/kdfitted_sxparameters.csv\", index_col='subj_idx')\n",
      "paramdf['subj_idx']=paramdf.index.values\n",
      "paramdf.index=np.arange(len(paramdf))\n"
     ],
     "language": "python",
     "metadata": {},
     "outputs": [],
     "prompt_number": 3
    },
    {
     "cell_type": "code",
     "collapsed": true,
     "input": [
      "ss=reload(ss); opt=reload(opt);ss=reload(ss); opt=reload(opt);\n",
      "\n",
      "testdf=paramdf.iloc[2:5, :]\n",
      "thetadf=paramdf.query('29<=subj_idx<30')\n",
      "sxdf=bsl_data.query('29<=subj_idx<30')\n",
      "opt.opt_sx_proactive(sxdf, thetadf, nsims=500)"
     ],
     "language": "python",
     "metadata": {},
     "outputs": []
    },
    {
     "cell_type": "code",
     "collapsed": false,
     "input": [
      "sx29=bsl_data.query('subj_idx==29')"
     ],
     "language": "python",
     "metadata": {},
     "outputs": [],
     "prompt_number": 12
    },
    {
     "cell_type": "heading",
     "level": 1,
     "metadata": {},
     "source": [
      "Reformat and save proactive data for fitting to RaDD"
     ]
    },
    {
     "cell_type": "code",
     "collapsed": false,
     "input": [],
     "language": "python",
     "metadata": {},
     "outputs": []
    },
    {
     "cell_type": "code",
     "collapsed": false,
     "input": [
      "pth=utils.find_path()\n",
      "pro=pd.read_csv(pth+\"Proactive/SS_v2p3_fullsummary.dat\", sep=\"\\t\")\n",
      "pro['RT_sec']=pro['RT'].copy()*.001\n",
      "pro=pro.rename(columns={'RT':'rt_msec', 'RT_sec':'rt', 'Keypress':'response'}, axis=1)\n",
      "\n",
      "pro.ix[pro['Cond']==1, 'Cond']='bsl'\n",
      "pro.ix[pro['Cond']==2, 'Cond']='pnl'\n",
      "pro_df=pro.copy()\n",
      "\n",
      "pro_df=pro_df.query(\"rt < .550\")\n",
      "\n",
      "pro_sx=pro_df['SubID']\n",
      "pro_df['subj_idx']=[int(subj[1:]) for subj in pro_sx]\n",
      "\n",
      "pro_df['pGo']=1-pro_df['StopProb']\n",
      "pro_df['HiLo']=['x']*len(pro_df)\n",
      "pro_df['HML']=['x']*len(pro_df)\n",
      "pro_df['choice']=['x']*len(pro_df)\n",
      "\n",
      "pro_df.ix[(pro_df['response']==1), 'choice']='go'\n",
      "pro_df.ix[(pro_df['response']==0), 'choice']='stop'\n",
      "\n",
      "pro_df.ix[(pro_df['StopProb']==0.0)|(pro_df['StopProb']==0.2)|(pro_df['StopProb']==0.4), 'HiLo']='aHi'\n",
      "pro_df.ix[(pro_df['StopProb']==0.6)|(pro_df['StopProb']==0.8)|(pro_df['StopProb']==1.0), 'HiLo']='bLo'\n",
      "\n",
      "pro_df.ix[(pro_df['StopProb']==0.0)|(pro_df['StopProb']==0.2), 'HML']='bHi'\n",
      "pro_df.ix[(pro_df['StopProb']==0.4)|(pro_df['StopProb']==0.6), 'HML']='bMed'\n",
      "pro_df.ix[(pro_df['StopProb']==0.8)|(pro_df['StopProb']==1.0), 'HML']='cLo'\n",
      "\n",
      "pro_df=pro_df[['subj_idx', 'pGo', 'HiLo', 'HML', 'Cond', 'response', 'choice', 'rt']]\n",
      "\n",
      "pro_df.to_csv(pth+\"Proactive/Pro_AllSx_tb550.csv\", index=False)"
     ],
     "language": "python",
     "metadata": {},
     "outputs": [],
     "prompt_number": 6
    }
   ],
   "metadata": {}
  }
 ]
}