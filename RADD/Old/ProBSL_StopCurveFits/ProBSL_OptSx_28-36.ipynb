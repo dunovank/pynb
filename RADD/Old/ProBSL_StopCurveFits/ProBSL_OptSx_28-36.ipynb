{
 "metadata": {
  "name": "",
  "signature": "sha256:e064e68bd490bda8094ed87ba45edd7cb79ab72c712950769be53ea50da345ee"
 },
 "nbformat": 3,
 "nbformat_minor": 0,
 "worksheets": [
  {
   "cells": [
    {
     "cell_type": "code",
     "collapsed": false,
     "input": [
      "from __future__ import division\n",
      "import pandas as pd\n",
      "from radd import utils, simfx, ss, qsim, opt, psy, hd\n",
      "import os\n",
      "import seaborn as sns"
     ],
     "language": "python",
     "metadata": {},
     "outputs": [],
     "prompt_number": 4
    },
    {
     "cell_type": "code",
     "collapsed": false,
     "input": [
      "pth=utils.find_path()\n",
      "data=pd.read_csv(pth+\"Proactive/Pro_AllSx_tb550.csv\")"
     ],
     "language": "python",
     "metadata": {},
     "outputs": [],
     "prompt_number": 5
    },
    {
     "cell_type": "code",
     "collapsed": false,
     "input": [
      "bsl_data=data[data.Cond=='bsl']\n",
      "paramdf=pd.read_csv(pth+\"fullRaDD/ReBSL/kdfitted_sxparameters.csv\", index_col='subj_idx')\n",
      "paramdf['subj_idx']=paramdf.index.values\n",
      "paramdf.index=np.arange(len(paramdf))\n",
      "\n",
      "sxparams1=paramdf.iloc[3:9,:]\n",
      "sxparams2=paramdf.iloc[9:18,:]\n",
      "sxparams3=paramdf.iloc[18:27,:]\n",
      "sxparams4=paramdf.iloc[27:36,:]\n",
      "sxparams5=paramdf.iloc[36:45,:]\n",
      "sxparams6=paramdf.iloc[45:,:]\n"
     ],
     "language": "python",
     "metadata": {},
     "outputs": [],
     "prompt_number": 28
    },
    {
     "cell_type": "code",
     "collapsed": false,
     "input": [
      "ss=reload(ss); opt=reload(opt);ss=reload(ss); opt=reload(opt);\n",
      "\n",
      "sxdata1=bsl_data[bsl_data['subj_idx'].isin(sxparams1.subj_idx.unique())]\n",
      "\n",
      "all(sxdata1.subj_idx.unique())==all(sxparams1.subj_idx.unique())\n",
      "sxparams1.subj_idx.unique()"
     ],
     "language": "python",
     "metadata": {},
     "outputs": [
      {
       "metadata": {},
       "output_type": "pyout",
       "prompt_number": 31,
       "text": [
        "array([31, 32, 33, 34, 35, 36])"
       ]
      }
     ],
     "prompt_number": 31
    },
    {
     "cell_type": "code",
     "collapsed": true,
     "input": [
      "opt.opt_sx_proactive(sxdata1, sxparams1, nsims=500)"
     ],
     "language": "python",
     "metadata": {},
     "outputs": [
      {
       "html": [
        "\n",
        "\t    <div style=\"border: 1px solid black; width:500px\">\n",
        "\t    <div id=\"0bd53d43-88e8-4af4-90f7-006a1bc60e98\" style=\"background-color:#4168B7; width:0%\">&nbsp;</div>\n",
        "\t    </div> \n",
        "\t    "
       ],
       "metadata": {},
       "output_type": "display_data",
       "text": [
        "<IPython.core.display.HTML at 0x7f048dff8dd0>"
       ]
      },
      {
       "output_type": "stream",
       "stream": "stdout",
       "text": [
        "Subject 31 P(Go=0.0): Converged\n"
       ]
      },
      {
       "javascript": [
        "$('div#0bd53d43-88e8-4af4-90f7-006a1bc60e98').width('2.78%')"
       ],
       "metadata": {},
       "output_type": "display_data",
       "text": [
        "<IPython.core.display.Javascript at 0x7f048e2eca50>"
       ]
      },
      {
       "output_type": "stream",
       "stream": "stdout",
       "text": [
        "Subject 31 P(Go=0.2): Converged\n"
       ]
      },
      {
       "javascript": [
        "$('div#0bd53d43-88e8-4af4-90f7-006a1bc60e98').width('5.56%')"
       ],
       "metadata": {},
       "output_type": "display_data",
       "text": [
        "<IPython.core.display.Javascript at 0x7f048e2504d0>"
       ]
      },
      {
       "output_type": "stream",
       "stream": "stdout",
       "text": [
        "Subject 31 P(Go=0.4): Converged\n"
       ]
      },
      {
       "javascript": [
        "$('div#0bd53d43-88e8-4af4-90f7-006a1bc60e98').width('8.33%')"
       ],
       "metadata": {},
       "output_type": "display_data",
       "text": [
        "<IPython.core.display.Javascript at 0x7f048e132b50>"
       ]
      },
      {
       "output_type": "stream",
       "stream": "stdout",
       "text": [
        "Subject 31 P(Go=0.6): Converged\n"
       ]
      },
      {
       "javascript": [
        "$('div#0bd53d43-88e8-4af4-90f7-006a1bc60e98').width('11.11%')"
       ],
       "metadata": {},
       "output_type": "display_data",
       "text": [
        "<IPython.core.display.Javascript at 0x7f048e00b0d0>"
       ]
      },
      {
       "output_type": "stream",
       "stream": "stdout",
       "text": [
        "Subject 31 P(Go=0.8): Converged\n"
       ]
      },
      {
       "javascript": [
        "$('div#0bd53d43-88e8-4af4-90f7-006a1bc60e98').width('13.89%')"
       ],
       "metadata": {},
       "output_type": "display_data",
       "text": [
        "<IPython.core.display.Javascript at 0x7f048dfdf1d0>"
       ]
      },
      {
       "output_type": "stream",
       "stream": "stdout",
       "text": [
        "Subject 31 P(Go=1.0): Converged\n"
       ]
      },
      {
       "javascript": [
        "$('div#0bd53d43-88e8-4af4-90f7-006a1bc60e98').width('16.67%')"
       ],
       "metadata": {},
       "output_type": "display_data",
       "text": [
        "<IPython.core.display.Javascript at 0x7f048df53710>"
       ]
      },
      {
       "output_type": "stream",
       "stream": "stdout",
       "text": [
        "----------------------------------------------------------------------------------------------------\n",
        "Subject 32 P(Go=0.0): Converged"
       ]
      },
      {
       "output_type": "stream",
       "stream": "stdout",
       "text": [
        "\n"
       ]
      },
      {
       "javascript": [
        "$('div#0bd53d43-88e8-4af4-90f7-006a1bc60e98').width('19.44%')"
       ],
       "metadata": {},
       "output_type": "display_data",
       "text": [
        "<IPython.core.display.Javascript at 0x7f048e177910>"
       ]
      },
      {
       "output_type": "stream",
       "stream": "stdout",
       "text": [
        "Subject 32 P(Go=0.2): Converged\n"
       ]
      },
      {
       "javascript": [
        "$('div#0bd53d43-88e8-4af4-90f7-006a1bc60e98').width('22.22%')"
       ],
       "metadata": {},
       "output_type": "display_data",
       "text": [
        "<IPython.core.display.Javascript at 0x7f048e1d67d0>"
       ]
      },
      {
       "output_type": "stream",
       "stream": "stdout",
       "text": [
        "Subject 32 P(Go=0.4): Converged\n"
       ]
      },
      {
       "javascript": [
        "$('div#0bd53d43-88e8-4af4-90f7-006a1bc60e98').width('25.00%')"
       ],
       "metadata": {},
       "output_type": "display_data",
       "text": [
        "<IPython.core.display.Javascript at 0x7f048df5ff10>"
       ]
      },
      {
       "output_type": "stream",
       "stream": "stdout",
       "text": [
        "Subject 32 P(Go=0.6): Converged\n"
       ]
      },
      {
       "javascript": [
        "$('div#0bd53d43-88e8-4af4-90f7-006a1bc60e98').width('27.78%')"
       ],
       "metadata": {},
       "output_type": "display_data",
       "text": [
        "<IPython.core.display.Javascript at 0x7f048df5ffd0>"
       ]
      },
      {
       "output_type": "stream",
       "stream": "stdout",
       "text": [
        "Subject 32 P(Go=0.8): Converged\n"
       ]
      },
      {
       "javascript": [
        "$('div#0bd53d43-88e8-4af4-90f7-006a1bc60e98').width('30.56%')"
       ],
       "metadata": {},
       "output_type": "display_data",
       "text": [
        "<IPython.core.display.Javascript at 0x7f048e1504d0>"
       ]
      },
      {
       "output_type": "stream",
       "stream": "stdout",
       "text": [
        "Subject 32 P(Go=1.0): Converged\n"
       ]
      },
      {
       "javascript": [
        "$('div#0bd53d43-88e8-4af4-90f7-006a1bc60e98').width('33.33%')"
       ],
       "metadata": {},
       "output_type": "display_data",
       "text": [
        "<IPython.core.display.Javascript at 0x7f048e150210>"
       ]
      },
      {
       "output_type": "stream",
       "stream": "stdout",
       "text": [
        "----------------------------------------------------------------------------------------------------\n",
        "Subject 33 P(Go=0.0): Converged"
       ]
      },
      {
       "output_type": "stream",
       "stream": "stdout",
       "text": [
        "\n"
       ]
      },
      {
       "javascript": [
        "$('div#0bd53d43-88e8-4af4-90f7-006a1bc60e98').width('36.11%')"
       ],
       "metadata": {},
       "output_type": "display_data",
       "text": [
        "<IPython.core.display.Javascript at 0x7f048e27f650>"
       ]
      },
      {
       "output_type": "stream",
       "stream": "stdout",
       "text": [
        "Subject 33 P(Go=0.2): Converged\n"
       ]
      },
      {
       "javascript": [
        "$('div#0bd53d43-88e8-4af4-90f7-006a1bc60e98').width('38.89%')"
       ],
       "metadata": {},
       "output_type": "display_data",
       "text": [
        "<IPython.core.display.Javascript at 0x7f048e1d6f90>"
       ]
      },
      {
       "output_type": "stream",
       "stream": "stdout",
       "text": [
        "Subject 33 P(Go=0.4): Converged\n"
       ]
      },
      {
       "javascript": [
        "$('div#0bd53d43-88e8-4af4-90f7-006a1bc60e98').width('41.67%')"
       ],
       "metadata": {},
       "output_type": "display_data",
       "text": [
        "<IPython.core.display.Javascript at 0x7f048df732d0>"
       ]
      },
      {
       "output_type": "stream",
       "stream": "stdout",
       "text": [
        "Subject 33 P(Go=0.6): Converged\n"
       ]
      },
      {
       "javascript": [
        "$('div#0bd53d43-88e8-4af4-90f7-006a1bc60e98').width('44.44%')"
       ],
       "metadata": {},
       "output_type": "display_data",
       "text": [
        "<IPython.core.display.Javascript at 0x7f048e1d5110>"
       ]
      },
      {
       "output_type": "stream",
       "stream": "stdout",
       "text": [
        "Subject 33 P(Go=0.8): Converged\n"
       ]
      },
      {
       "javascript": [
        "$('div#0bd53d43-88e8-4af4-90f7-006a1bc60e98').width('47.22%')"
       ],
       "metadata": {},
       "output_type": "display_data",
       "text": [
        "<IPython.core.display.Javascript at 0x7f048e136e10>"
       ]
      },
      {
       "output_type": "stream",
       "stream": "stdout",
       "text": [
        "Subject 33 P(Go=1.0): Converged\n"
       ]
      },
      {
       "javascript": [
        "$('div#0bd53d43-88e8-4af4-90f7-006a1bc60e98').width('50.00%')"
       ],
       "metadata": {},
       "output_type": "display_data",
       "text": [
        "<IPython.core.display.Javascript at 0x7f048e1dfc50>"
       ]
      },
      {
       "output_type": "stream",
       "stream": "stdout",
       "text": [
        "----------------------------------------------------------------------------------------------------\n",
        "Subject 34 P(Go=0.0): Converged"
       ]
      },
      {
       "output_type": "stream",
       "stream": "stdout",
       "text": [
        "\n"
       ]
      },
      {
       "javascript": [
        "$('div#0bd53d43-88e8-4af4-90f7-006a1bc60e98').width('52.78%')"
       ],
       "metadata": {},
       "output_type": "display_data",
       "text": [
        "<IPython.core.display.Javascript at 0x7f048df5f290>"
       ]
      },
      {
       "output_type": "stream",
       "stream": "stdout",
       "text": [
        "Subject 34 P(Go=0.2): Converged\n"
       ]
      },
      {
       "javascript": [
        "$('div#0bd53d43-88e8-4af4-90f7-006a1bc60e98').width('55.56%')"
       ],
       "metadata": {},
       "output_type": "display_data",
       "text": [
        "<IPython.core.display.Javascript at 0x7f048dffa9d0>"
       ]
      },
      {
       "output_type": "stream",
       "stream": "stdout",
       "text": [
        "Subject 34 P(Go=0.4): Converged\n"
       ]
      },
      {
       "javascript": [
        "$('div#0bd53d43-88e8-4af4-90f7-006a1bc60e98').width('58.33%')"
       ],
       "metadata": {},
       "output_type": "display_data",
       "text": [
        "<IPython.core.display.Javascript at 0x7f048e01c8d0>"
       ]
      },
      {
       "output_type": "stream",
       "stream": "stdout",
       "text": [
        "Subject 34 P(Go=0.6): Converged\n"
       ]
      },
      {
       "javascript": [
        "$('div#0bd53d43-88e8-4af4-90f7-006a1bc60e98').width('61.11%')"
       ],
       "metadata": {},
       "output_type": "display_data",
       "text": [
        "<IPython.core.display.Javascript at 0x7f048e2fcc10>"
       ]
      },
      {
       "output_type": "stream",
       "stream": "stdout",
       "text": [
        "Subject 34 P(Go=0.8): Converged\n"
       ]
      },
      {
       "javascript": [
        "$('div#0bd53d43-88e8-4af4-90f7-006a1bc60e98').width('63.89%')"
       ],
       "metadata": {},
       "output_type": "display_data",
       "text": [
        "<IPython.core.display.Javascript at 0x7f048df11d50>"
       ]
      },
      {
       "output_type": "stream",
       "stream": "stdout",
       "text": [
        "Subject 34 P(Go=1.0): Converged\n"
       ]
      },
      {
       "javascript": [
        "$('div#0bd53d43-88e8-4af4-90f7-006a1bc60e98').width('66.67%')"
       ],
       "metadata": {},
       "output_type": "display_data",
       "text": [
        "<IPython.core.display.Javascript at 0x7f048e139810>"
       ]
      },
      {
       "output_type": "stream",
       "stream": "stdout",
       "text": [
        "----------------------------------------------------------------------------------------------------\n",
        "Subject 35 P(Go=0.0): Converged"
       ]
      },
      {
       "output_type": "stream",
       "stream": "stdout",
       "text": [
        "\n"
       ]
      },
      {
       "javascript": [
        "$('div#0bd53d43-88e8-4af4-90f7-006a1bc60e98').width('69.44%')"
       ],
       "metadata": {},
       "output_type": "display_data",
       "text": [
        "<IPython.core.display.Javascript at 0x7f048e1d6390>"
       ]
      },
      {
       "output_type": "stream",
       "stream": "stdout",
       "text": [
        "Subject 35 P(Go=0.2): Converged\n"
       ]
      },
      {
       "javascript": [
        "$('div#0bd53d43-88e8-4af4-90f7-006a1bc60e98').width('72.22%')"
       ],
       "metadata": {},
       "output_type": "display_data",
       "text": [
        "<IPython.core.display.Javascript at 0x7f048e1ab510>"
       ]
      },
      {
       "output_type": "stream",
       "stream": "stdout",
       "text": [
        "Subject 35 P(Go=0.4): Converged\n"
       ]
      },
      {
       "javascript": [
        "$('div#0bd53d43-88e8-4af4-90f7-006a1bc60e98').width('75.00%')"
       ],
       "metadata": {},
       "output_type": "display_data",
       "text": [
        "<IPython.core.display.Javascript at 0x7f048e136650>"
       ]
      },
      {
       "output_type": "stream",
       "stream": "stdout",
       "text": [
        "Subject 35 P(Go=0.6): Converged\n"
       ]
      },
      {
       "javascript": [
        "$('div#0bd53d43-88e8-4af4-90f7-006a1bc60e98').width('77.78%')"
       ],
       "metadata": {},
       "output_type": "display_data",
       "text": [
        "<IPython.core.display.Javascript at 0x7f048e252c50>"
       ]
      },
      {
       "output_type": "stream",
       "stream": "stdout",
       "text": [
        "Subject 35 P(Go=0.8): Converged\n"
       ]
      },
      {
       "javascript": [
        "$('div#0bd53d43-88e8-4af4-90f7-006a1bc60e98').width('80.56%')"
       ],
       "metadata": {},
       "output_type": "display_data",
       "text": [
        "<IPython.core.display.Javascript at 0x7f048e180690>"
       ]
      },
      {
       "output_type": "stream",
       "stream": "stdout",
       "text": [
        "Subject 35 P(Go=1.0): Converged\n"
       ]
      },
      {
       "javascript": [
        "$('div#0bd53d43-88e8-4af4-90f7-006a1bc60e98').width('83.33%')"
       ],
       "metadata": {},
       "output_type": "display_data",
       "text": [
        "<IPython.core.display.Javascript at 0x7f048df11810>"
       ]
      },
      {
       "output_type": "stream",
       "stream": "stdout",
       "text": [
        "----------------------------------------------------------------------------------------------------\n",
        "Subject 36 P(Go=0.0): Converged"
       ]
      },
      {
       "output_type": "stream",
       "stream": "stdout",
       "text": [
        "\n"
       ]
      },
      {
       "javascript": [
        "$('div#0bd53d43-88e8-4af4-90f7-006a1bc60e98').width('86.11%')"
       ],
       "metadata": {},
       "output_type": "display_data",
       "text": [
        "<IPython.core.display.Javascript at 0x7f048df535d0>"
       ]
      },
      {
       "output_type": "stream",
       "stream": "stdout",
       "text": [
        "Subject 36 P(Go=0.2): Converged\n"
       ]
      },
      {
       "javascript": [
        "$('div#0bd53d43-88e8-4af4-90f7-006a1bc60e98').width('88.89%')"
       ],
       "metadata": {},
       "output_type": "display_data",
       "text": [
        "<IPython.core.display.Javascript at 0x7f048e15e990>"
       ]
      },
      {
       "output_type": "stream",
       "stream": "stdout",
       "text": [
        "Subject 36 P(Go=0.4): Converged\n"
       ]
      },
      {
       "javascript": [
        "$('div#0bd53d43-88e8-4af4-90f7-006a1bc60e98').width('91.67%')"
       ],
       "metadata": {},
       "output_type": "display_data",
       "text": [
        "<IPython.core.display.Javascript at 0x7f048e1d57d0>"
       ]
      },
      {
       "output_type": "stream",
       "stream": "stdout",
       "text": [
        "Subject 36 P(Go=0.6): Converged\n"
       ]
      },
      {
       "javascript": [
        "$('div#0bd53d43-88e8-4af4-90f7-006a1bc60e98').width('94.44%')"
       ],
       "metadata": {},
       "output_type": "display_data",
       "text": [
        "<IPython.core.display.Javascript at 0x7f048e1d62d0>"
       ]
      },
      {
       "output_type": "stream",
       "stream": "stdout",
       "text": [
        "Subject 36 P(Go=0.8): Converged\n"
       ]
      },
      {
       "javascript": [
        "$('div#0bd53d43-88e8-4af4-90f7-006a1bc60e98').width('97.22%')"
       ],
       "metadata": {},
       "output_type": "display_data",
       "text": [
        "<IPython.core.display.Javascript at 0x7f048e2ec4d0>"
       ]
      },
      {
       "output_type": "stream",
       "stream": "stdout",
       "text": [
        "Subject 36 P(Go=1.0): Converged\n"
       ]
      },
      {
       "javascript": [
        "$('div#0bd53d43-88e8-4af4-90f7-006a1bc60e98').width('100.00%')"
       ],
       "metadata": {},
       "output_type": "display_data",
       "text": [
        "<IPython.core.display.Javascript at 0x7f048e1583d0>"
       ]
      },
      {
       "output_type": "stream",
       "stream": "stdout",
       "text": [
        "----------------------------------------------------------------------------------------------------\n"
       ]
      }
     ],
     "prompt_number": 30
    },
    {
     "cell_type": "heading",
     "level": 1,
     "metadata": {},
     "source": [
      "Reformat and save proactive data for fitting to RaDD"
     ]
    },
    {
     "cell_type": "code",
     "collapsed": false,
     "input": [],
     "language": "python",
     "metadata": {},
     "outputs": []
    },
    {
     "cell_type": "code",
     "collapsed": false,
     "input": [
      "pth=utils.find_path()\n",
      "pro=pd.read_csv(pth+\"Proactive/SS_v2p3_fullsummary.dat\", sep=\"\\t\")\n",
      "pro['RT_sec']=pro['RT'].copy()*.001\n",
      "pro=pro.rename(columns={'RT':'rt_msec', 'RT_sec':'rt', 'Keypress':'response'}, axis=1)\n",
      "\n",
      "pro.ix[pro['Cond']==1, 'Cond']='bsl'\n",
      "pro.ix[pro['Cond']==2, 'Cond']='pnl'\n",
      "pro_df=pro.copy()\n",
      "\n",
      "pro_df=pro_df.query(\"rt < .550\")\n",
      "\n",
      "pro_sx=pro_df['SubID']\n",
      "pro_df['subj_idx']=[int(subj[1:]) for subj in pro_sx]\n",
      "\n",
      "pro_df['pGo']=1-pro_df['StopProb']\n",
      "pro_df['HiLo']=['x']*len(pro_df)\n",
      "pro_df['HML']=['x']*len(pro_df)\n",
      "pro_df['choice']=['x']*len(pro_df)\n",
      "\n",
      "pro_df.ix[(pro_df['response']==1), 'choice']='go'\n",
      "pro_df.ix[(pro_df['response']==0), 'choice']='stop'\n",
      "\n",
      "pro_df.ix[(pro_df['StopProb']==0.0)|(pro_df['StopProb']==0.2)|(pro_df['StopProb']==0.4), 'HiLo']='aHi'\n",
      "pro_df.ix[(pro_df['StopProb']==0.6)|(pro_df['StopProb']==0.8)|(pro_df['StopProb']==1.0), 'HiLo']='bLo'\n",
      "\n",
      "pro_df.ix[(pro_df['StopProb']==0.0)|(pro_df['StopProb']==0.2), 'HML']='bHi'\n",
      "pro_df.ix[(pro_df['StopProb']==0.4)|(pro_df['StopProb']==0.6), 'HML']='bMed'\n",
      "pro_df.ix[(pro_df['StopProb']==0.8)|(pro_df['StopProb']==1.0), 'HML']='cLo'\n",
      "\n",
      "pro_df=pro_df[['subj_idx', 'pGo', 'HiLo', 'HML', 'Cond', 'response', 'choice', 'rt']]\n",
      "\n",
      "pro_df.to_csv(pth+\"Proactive/Pro_AllSx_tb550.csv\", index=False)"
     ],
     "language": "python",
     "metadata": {},
     "outputs": [],
     "prompt_number": 6
    }
   ],
   "metadata": {}
  }
 ]
}