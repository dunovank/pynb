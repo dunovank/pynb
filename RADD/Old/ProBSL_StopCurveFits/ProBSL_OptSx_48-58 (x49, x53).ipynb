{
 "metadata": {
  "name": "",
  "signature": "sha256:cfa9b41f824781485930b64e7fbffdcd76e7d09c52cace3e0b45f950fafec91d"
 },
 "nbformat": 3,
 "nbformat_minor": 0,
 "worksheets": [
  {
   "cells": [
    {
     "cell_type": "code",
     "collapsed": false,
     "input": [
      "from __future__ import division\n",
      "import pandas as pd\n",
      "from radd import utils, simfx, ss, qsim, opt, psy, hd\n",
      "import os\n",
      "import seaborn as sns"
     ],
     "language": "python",
     "metadata": {},
     "outputs": [],
     "prompt_number": 1
    },
    {
     "cell_type": "code",
     "collapsed": false,
     "input": [
      "pth=utils.find_path()\n",
      "data=pd.read_csv(pth+\"Proactive/Pro_AllSx_tb550.csv\")"
     ],
     "language": "python",
     "metadata": {},
     "outputs": [],
     "prompt_number": 2
    },
    {
     "cell_type": "code",
     "collapsed": false,
     "input": [
      "bsl_data=data[data.Cond=='bsl']\n",
      "paramdf=pd.read_csv(pth+\"fullRaDD/ReBSL/kdfitted_sxparameters.csv\", index_col='subj_idx')\n",
      "paramdf['subj_idx']=paramdf.index.values\n",
      "paramdf.index=np.arange(len(paramdf))\n",
      "\n",
      "sxparams1=paramdf.iloc[:9,:]\n",
      "sxparams2=paramdf.iloc[9:18,:]\n",
      "sxparams3=paramdf.iloc[18:27,:]\n",
      "sxparams4=paramdf.iloc[27:36,:]\n",
      "sxparams5=paramdf.iloc[36:45,:]\n",
      "sxparams6=paramdf.iloc[45:,:]\n"
     ],
     "language": "python",
     "metadata": {},
     "outputs": [],
     "prompt_number": 3
    },
    {
     "cell_type": "code",
     "collapsed": false,
     "input": [
      "ss=reload(ss); opt=reload(opt);ss=reload(ss); opt=reload(opt);\n",
      "\n",
      "sxdata3=bsl_data[bsl_data['subj_idx'].isin(sxparams3.subj_idx.unique())]\n",
      "sxdata3.subj_idx.unique()"
     ],
     "language": "python",
     "metadata": {},
     "outputs": [
      {
       "metadata": {},
       "output_type": "pyout",
       "prompt_number": 4,
       "text": [
        "array([48, 50, 51, 52, 54, 55, 56, 57, 58])"
       ]
      }
     ],
     "prompt_number": 4
    },
    {
     "cell_type": "code",
     "collapsed": true,
     "input": [
      "opt.opt_sx_proactive(sxdata3, sxparams3, nsims=500)"
     ],
     "language": "python",
     "metadata": {},
     "outputs": [
      {
       "html": [
        "\n",
        "\t    <div style=\"border: 1px solid black; width:500px\">\n",
        "\t    <div id=\"d630894b-7021-46f6-a219-19d11c5870e2\" style=\"background-color:#4168B7; width:0%\">&nbsp;</div>\n",
        "\t    </div> \n",
        "\t    "
       ],
       "metadata": {},
       "output_type": "display_data",
       "text": [
        "<IPython.core.display.HTML at 0x7f4f75954ed0>"
       ]
      },
      {
       "output_type": "stream",
       "stream": "stdout",
       "text": [
        "Subject 48 P(Go=0.0): Converged\n"
       ]
      },
      {
       "javascript": [
        "$('div#d630894b-7021-46f6-a219-19d11c5870e2').width('1.85%')"
       ],
       "metadata": {},
       "output_type": "display_data",
       "text": [
        "<IPython.core.display.Javascript at 0x7f4f75734e50>"
       ]
      },
      {
       "output_type": "stream",
       "stream": "stdout",
       "text": [
        "Subject 48 P(Go=0.2): Converged\n"
       ]
      },
      {
       "javascript": [
        "$('div#d630894b-7021-46f6-a219-19d11c5870e2').width('3.70%')"
       ],
       "metadata": {},
       "output_type": "display_data",
       "text": [
        "<IPython.core.display.Javascript at 0x7f4f75714990>"
       ]
      },
      {
       "output_type": "stream",
       "stream": "stdout",
       "text": [
        "Subject 48 P(Go=0.4): Converged\n"
       ]
      },
      {
       "javascript": [
        "$('div#d630894b-7021-46f6-a219-19d11c5870e2').width('5.56%')"
       ],
       "metadata": {},
       "output_type": "display_data",
       "text": [
        "<IPython.core.display.Javascript at 0x7f4f756b2e90>"
       ]
      },
      {
       "output_type": "stream",
       "stream": "stdout",
       "text": [
        "Subject 48 P(Go=0.6): Converged\n"
       ]
      },
      {
       "javascript": [
        "$('div#d630894b-7021-46f6-a219-19d11c5870e2').width('7.41%')"
       ],
       "metadata": {},
       "output_type": "display_data",
       "text": [
        "<IPython.core.display.Javascript at 0x7f4f756b2a10>"
       ]
      },
      {
       "output_type": "stream",
       "stream": "stdout",
       "text": [
        "Subject 48 P(Go=0.8): Converged\n"
       ]
      },
      {
       "javascript": [
        "$('div#d630894b-7021-46f6-a219-19d11c5870e2').width('9.26%')"
       ],
       "metadata": {},
       "output_type": "display_data",
       "text": [
        "<IPython.core.display.Javascript at 0x7f4f7567be10>"
       ]
      },
      {
       "output_type": "stream",
       "stream": "stdout",
       "text": [
        "Subject 48 P(Go=1.0): Converged\n"
       ]
      },
      {
       "javascript": [
        "$('div#d630894b-7021-46f6-a219-19d11c5870e2').width('11.11%')"
       ],
       "metadata": {},
       "output_type": "display_data",
       "text": [
        "<IPython.core.display.Javascript at 0x7f4f7565d590>"
       ]
      },
      {
       "output_type": "stream",
       "stream": "stdout",
       "text": [
        "----------------------------------------------------------------------------------------------------\n",
        "Subject 50 P(Go=0.0): Converged"
       ]
      },
      {
       "output_type": "stream",
       "stream": "stdout",
       "text": [
        "\n"
       ]
      },
      {
       "javascript": [
        "$('div#d630894b-7021-46f6-a219-19d11c5870e2').width('12.96%')"
       ],
       "metadata": {},
       "output_type": "display_data",
       "text": [
        "<IPython.core.display.Javascript at 0x7f4f75652f10>"
       ]
      },
      {
       "output_type": "stream",
       "stream": "stdout",
       "text": [
        "Subject 50 P(Go=0.2): Converged\n"
       ]
      },
      {
       "javascript": [
        "$('div#d630894b-7021-46f6-a219-19d11c5870e2').width('14.81%')"
       ],
       "metadata": {},
       "output_type": "display_data",
       "text": [
        "<IPython.core.display.Javascript at 0x7f4f75910490>"
       ]
      },
      {
       "output_type": "stream",
       "stream": "stdout",
       "text": [
        "Subject 50 P(Go=0.4): Converged\n"
       ]
      },
      {
       "javascript": [
        "$('div#d630894b-7021-46f6-a219-19d11c5870e2').width('16.67%')"
       ],
       "metadata": {},
       "output_type": "display_data",
       "text": [
        "<IPython.core.display.Javascript at 0x7f4f75910110>"
       ]
      },
      {
       "output_type": "stream",
       "stream": "stdout",
       "text": [
        "Subject 50 P(Go=0.6): Converged\n"
       ]
      },
      {
       "javascript": [
        "$('div#d630894b-7021-46f6-a219-19d11c5870e2').width('18.52%')"
       ],
       "metadata": {},
       "output_type": "display_data",
       "text": [
        "<IPython.core.display.Javascript at 0x7f4f7571fc50>"
       ]
      },
      {
       "output_type": "stream",
       "stream": "stdout",
       "text": [
        "Subject 50 P(Go=0.8): Converged\n"
       ]
      },
      {
       "javascript": [
        "$('div#d630894b-7021-46f6-a219-19d11c5870e2').width('20.37%')"
       ],
       "metadata": {},
       "output_type": "display_data",
       "text": [
        "<IPython.core.display.Javascript at 0x7f4f75a10850>"
       ]
      },
      {
       "output_type": "stream",
       "stream": "stdout",
       "text": [
        "Subject 50 P(Go=1.0): Converged\n"
       ]
      },
      {
       "javascript": [
        "$('div#d630894b-7021-46f6-a219-19d11c5870e2').width('22.22%')"
       ],
       "metadata": {},
       "output_type": "display_data",
       "text": [
        "<IPython.core.display.Javascript at 0x7f4f75a14e90>"
       ]
      },
      {
       "output_type": "stream",
       "stream": "stdout",
       "text": [
        "----------------------------------------------------------------------------------------------------\n",
        "Subject 51 P(Go=0.0): Converged"
       ]
      },
      {
       "output_type": "stream",
       "stream": "stdout",
       "text": [
        "\n"
       ]
      },
      {
       "javascript": [
        "$('div#d630894b-7021-46f6-a219-19d11c5870e2').width('24.07%')"
       ],
       "metadata": {},
       "output_type": "display_data",
       "text": [
        "<IPython.core.display.Javascript at 0x7f4f756d86d0>"
       ]
      },
      {
       "output_type": "stream",
       "stream": "stdout",
       "text": [
        "Subject 51 P(Go=0.2): Converged\n"
       ]
      },
      {
       "javascript": [
        "$('div#d630894b-7021-46f6-a219-19d11c5870e2').width('25.93%')"
       ],
       "metadata": {},
       "output_type": "display_data",
       "text": [
        "<IPython.core.display.Javascript at 0x7f4f756d7590>"
       ]
      },
      {
       "output_type": "stream",
       "stream": "stdout",
       "text": [
        "Subject 51 P(Go=0.4): Converged\n"
       ]
      },
      {
       "javascript": [
        "$('div#d630894b-7021-46f6-a219-19d11c5870e2').width('27.78%')"
       ],
       "metadata": {},
       "output_type": "display_data",
       "text": [
        "<IPython.core.display.Javascript at 0x7f4f7572c550>"
       ]
      },
      {
       "output_type": "stream",
       "stream": "stdout",
       "text": [
        "Subject 51 P(Go=0.6): Converged\n"
       ]
      },
      {
       "javascript": [
        "$('div#d630894b-7021-46f6-a219-19d11c5870e2').width('29.63%')"
       ],
       "metadata": {},
       "output_type": "display_data",
       "text": [
        "<IPython.core.display.Javascript at 0x7f4f75927f10>"
       ]
      },
      {
       "output_type": "stream",
       "stream": "stdout",
       "text": [
        "Subject 51 P(Go=0.8): Converged\n"
       ]
      },
      {
       "javascript": [
        "$('div#d630894b-7021-46f6-a219-19d11c5870e2').width('31.48%')"
       ],
       "metadata": {},
       "output_type": "display_data",
       "text": [
        "<IPython.core.display.Javascript at 0x7f4f75919d10>"
       ]
      },
      {
       "output_type": "stream",
       "stream": "stdout",
       "text": [
        "Subject 51 P(Go=1.0): Converged\n"
       ]
      },
      {
       "javascript": [
        "$('div#d630894b-7021-46f6-a219-19d11c5870e2').width('33.33%')"
       ],
       "metadata": {},
       "output_type": "display_data",
       "text": [
        "<IPython.core.display.Javascript at 0x7f4f75a20710>"
       ]
      },
      {
       "output_type": "stream",
       "stream": "stdout",
       "text": [
        "----------------------------------------------------------------------------------------------------\n",
        "Subject 52 P(Go=0.0): Converged"
       ]
      },
      {
       "output_type": "stream",
       "stream": "stdout",
       "text": [
        "\n"
       ]
      },
      {
       "javascript": [
        "$('div#d630894b-7021-46f6-a219-19d11c5870e2').width('35.19%')"
       ],
       "metadata": {},
       "output_type": "display_data",
       "text": [
        "<IPython.core.display.Javascript at 0x7f4f7592c950>"
       ]
      },
      {
       "output_type": "stream",
       "stream": "stdout",
       "text": [
        "Subject 52 P(Go=0.2): Converged\n"
       ]
      },
      {
       "javascript": [
        "$('div#d630894b-7021-46f6-a219-19d11c5870e2').width('37.04%')"
       ],
       "metadata": {},
       "output_type": "display_data",
       "text": [
        "<IPython.core.display.Javascript at 0x7f4f758fe5d0>"
       ]
      },
      {
       "output_type": "stream",
       "stream": "stdout",
       "text": [
        "Subject 52 P(Go=0.4): Converged\n"
       ]
      },
      {
       "javascript": [
        "$('div#d630894b-7021-46f6-a219-19d11c5870e2').width('38.89%')"
       ],
       "metadata": {},
       "output_type": "display_data",
       "text": [
        "<IPython.core.display.Javascript at 0x7f4f757379d0>"
       ]
      },
      {
       "output_type": "stream",
       "stream": "stdout",
       "text": [
        "Subject 52 P(Go=0.6): Converged\n"
       ]
      },
      {
       "javascript": [
        "$('div#d630894b-7021-46f6-a219-19d11c5870e2').width('40.74%')"
       ],
       "metadata": {},
       "output_type": "display_data",
       "text": [
        "<IPython.core.display.Javascript at 0x7f4f7569ea90>"
       ]
      },
      {
       "output_type": "stream",
       "stream": "stdout",
       "text": [
        "Subject 52 P(Go=0.8): Converged\n"
       ]
      },
      {
       "javascript": [
        "$('div#d630894b-7021-46f6-a219-19d11c5870e2').width('42.59%')"
       ],
       "metadata": {},
       "output_type": "display_data",
       "text": [
        "<IPython.core.display.Javascript at 0x7f4f7596dad0>"
       ]
      },
      {
       "output_type": "stream",
       "stream": "stdout",
       "text": [
        "Subject 52 P(Go=1.0): Converged\n"
       ]
      },
      {
       "javascript": [
        "$('div#d630894b-7021-46f6-a219-19d11c5870e2').width('44.44%')"
       ],
       "metadata": {},
       "output_type": "display_data",
       "text": [
        "<IPython.core.display.Javascript at 0x7f4f756cc610>"
       ]
      },
      {
       "output_type": "stream",
       "stream": "stdout",
       "text": [
        "----------------------------------------------------------------------------------------------------\n",
        "Subject 54 P(Go=0.0): Converged"
       ]
      },
      {
       "output_type": "stream",
       "stream": "stdout",
       "text": [
        "\n"
       ]
      },
      {
       "javascript": [
        "$('div#d630894b-7021-46f6-a219-19d11c5870e2').width('46.30%')"
       ],
       "metadata": {},
       "output_type": "display_data",
       "text": [
        "<IPython.core.display.Javascript at 0x7f4f75927d90>"
       ]
      },
      {
       "output_type": "stream",
       "stream": "stdout",
       "text": [
        "Subject 54 P(Go=0.2): Converged\n"
       ]
      },
      {
       "javascript": [
        "$('div#d630894b-7021-46f6-a219-19d11c5870e2').width('48.15%')"
       ],
       "metadata": {},
       "output_type": "display_data",
       "text": [
        "<IPython.core.display.Javascript at 0x7f4f7568d790>"
       ]
      },
      {
       "output_type": "stream",
       "stream": "stdout",
       "text": [
        "Subject 54 P(Go=0.4): Converged\n"
       ]
      },
      {
       "javascript": [
        "$('div#d630894b-7021-46f6-a219-19d11c5870e2').width('50.00%')"
       ],
       "metadata": {},
       "output_type": "display_data",
       "text": [
        "<IPython.core.display.Javascript at 0x7f4f756a1d90>"
       ]
      },
      {
       "output_type": "stream",
       "stream": "stdout",
       "text": [
        "Subject 54 P(Go=0.6): Converged\n"
       ]
      },
      {
       "javascript": [
        "$('div#d630894b-7021-46f6-a219-19d11c5870e2').width('51.85%')"
       ],
       "metadata": {},
       "output_type": "display_data",
       "text": [
        "<IPython.core.display.Javascript at 0x7f4f75a23590>"
       ]
      },
      {
       "output_type": "stream",
       "stream": "stdout",
       "text": [
        "Subject 54 P(Go=0.8): Converged\n"
       ]
      },
      {
       "javascript": [
        "$('div#d630894b-7021-46f6-a219-19d11c5870e2').width('53.70%')"
       ],
       "metadata": {},
       "output_type": "display_data",
       "text": [
        "<IPython.core.display.Javascript at 0x7f4f759fc710>"
       ]
      },
      {
       "output_type": "stream",
       "stream": "stdout",
       "text": [
        "Subject 54 P(Go=1.0): Converged\n"
       ]
      },
      {
       "javascript": [
        "$('div#d630894b-7021-46f6-a219-19d11c5870e2').width('55.56%')"
       ],
       "metadata": {},
       "output_type": "display_data",
       "text": [
        "<IPython.core.display.Javascript at 0x7f4f756eda10>"
       ]
      },
      {
       "output_type": "stream",
       "stream": "stdout",
       "text": [
        "----------------------------------------------------------------------------------------------------\n",
        "Subject 55 P(Go=0.0): Converged"
       ]
      },
      {
       "output_type": "stream",
       "stream": "stdout",
       "text": [
        "\n"
       ]
      },
      {
       "javascript": [
        "$('div#d630894b-7021-46f6-a219-19d11c5870e2').width('57.41%')"
       ],
       "metadata": {},
       "output_type": "display_data",
       "text": [
        "<IPython.core.display.Javascript at 0x7f4f75661d50>"
       ]
      },
      {
       "output_type": "stream",
       "stream": "stdout",
       "text": [
        "Subject 55 P(Go=0.2): Converged\n"
       ]
      },
      {
       "javascript": [
        "$('div#d630894b-7021-46f6-a219-19d11c5870e2').width('59.26%')"
       ],
       "metadata": {},
       "output_type": "display_data",
       "text": [
        "<IPython.core.display.Javascript at 0x7f4f75927050>"
       ]
      },
      {
       "output_type": "stream",
       "stream": "stdout",
       "text": [
        "Subject 55 P(Go=0.4): Converged\n"
       ]
      },
      {
       "javascript": [
        "$('div#d630894b-7021-46f6-a219-19d11c5870e2').width('61.11%')"
       ],
       "metadata": {},
       "output_type": "display_data",
       "text": [
        "<IPython.core.display.Javascript at 0x7f4f75a19950>"
       ]
      },
      {
       "output_type": "stream",
       "stream": "stdout",
       "text": [
        "Subject 55 P(Go=0.6): Converged\n"
       ]
      },
      {
       "javascript": [
        "$('div#d630894b-7021-46f6-a219-19d11c5870e2').width('62.96%')"
       ],
       "metadata": {},
       "output_type": "display_data",
       "text": [
        "<IPython.core.display.Javascript at 0x7f4f75961890>"
       ]
      },
      {
       "output_type": "stream",
       "stream": "stdout",
       "text": [
        "Subject 55 P(Go=0.8): Converged\n"
       ]
      },
      {
       "javascript": [
        "$('div#d630894b-7021-46f6-a219-19d11c5870e2').width('64.81%')"
       ],
       "metadata": {},
       "output_type": "display_data",
       "text": [
        "<IPython.core.display.Javascript at 0x7f4f759614d0>"
       ]
      },
      {
       "output_type": "stream",
       "stream": "stdout",
       "text": [
        "Subject 55 P(Go=1.0): Converged\n"
       ]
      },
      {
       "javascript": [
        "$('div#d630894b-7021-46f6-a219-19d11c5870e2').width('66.67%')"
       ],
       "metadata": {},
       "output_type": "display_data",
       "text": [
        "<IPython.core.display.Javascript at 0x7f4f756d0990>"
       ]
      },
      {
       "output_type": "stream",
       "stream": "stdout",
       "text": [
        "----------------------------------------------------------------------------------------------------\n",
        "Subject 56 P(Go=0.0): Converged"
       ]
      },
      {
       "output_type": "stream",
       "stream": "stdout",
       "text": [
        "\n"
       ]
      },
      {
       "javascript": [
        "$('div#d630894b-7021-46f6-a219-19d11c5870e2').width('68.52%')"
       ],
       "metadata": {},
       "output_type": "display_data",
       "text": [
        "<IPython.core.display.Javascript at 0x7f4f75965f50>"
       ]
      },
      {
       "output_type": "stream",
       "stream": "stdout",
       "text": [
        "Subject 56 P(Go=0.2): Converged\n"
       ]
      },
      {
       "javascript": [
        "$('div#d630894b-7021-46f6-a219-19d11c5870e2').width('70.37%')"
       ],
       "metadata": {},
       "output_type": "display_data",
       "text": [
        "<IPython.core.display.Javascript at 0x7f4f756a2250>"
       ]
      },
      {
       "output_type": "stream",
       "stream": "stdout",
       "text": [
        "Subject 56 P(Go=0.4): Converged\n"
       ]
      },
      {
       "javascript": [
        "$('div#d630894b-7021-46f6-a219-19d11c5870e2').width('72.22%')"
       ],
       "metadata": {},
       "output_type": "display_data",
       "text": [
        "<IPython.core.display.Javascript at 0x7f4f7569a1d0>"
       ]
      },
      {
       "output_type": "stream",
       "stream": "stdout",
       "text": [
        "Subject 56 P(Go=0.6): Converged\n"
       ]
      },
      {
       "javascript": [
        "$('div#d630894b-7021-46f6-a219-19d11c5870e2').width('74.07%')"
       ],
       "metadata": {},
       "output_type": "display_data",
       "text": [
        "<IPython.core.display.Javascript at 0x7f4f75a00750>"
       ]
      },
      {
       "output_type": "stream",
       "stream": "stdout",
       "text": [
        "Subject 56 P(Go=0.8): Converged\n"
       ]
      },
      {
       "javascript": [
        "$('div#d630894b-7021-46f6-a219-19d11c5870e2').width('75.93%')"
       ],
       "metadata": {},
       "output_type": "display_data",
       "text": [
        "<IPython.core.display.Javascript at 0x7f4f7596f650>"
       ]
      },
      {
       "output_type": "stream",
       "stream": "stdout",
       "text": [
        "Subject 56 P(Go=1.0): Converged\n"
       ]
      },
      {
       "javascript": [
        "$('div#d630894b-7021-46f6-a219-19d11c5870e2').width('77.78%')"
       ],
       "metadata": {},
       "output_type": "display_data",
       "text": [
        "<IPython.core.display.Javascript at 0x7f4f75705f90>"
       ]
      },
      {
       "output_type": "stream",
       "stream": "stdout",
       "text": [
        "----------------------------------------------------------------------------------------------------\n",
        "Subject 57 P(Go=0.0): Converged"
       ]
      },
      {
       "output_type": "stream",
       "stream": "stdout",
       "text": [
        "\n"
       ]
      },
      {
       "javascript": [
        "$('div#d630894b-7021-46f6-a219-19d11c5870e2').width('79.63%')"
       ],
       "metadata": {},
       "output_type": "display_data",
       "text": [
        "<IPython.core.display.Javascript at 0x7f4f756ccd50>"
       ]
      },
      {
       "output_type": "stream",
       "stream": "stdout",
       "text": [
        "Subject 57 P(Go=0.2): Converged\n"
       ]
      },
      {
       "javascript": [
        "$('div#d630894b-7021-46f6-a219-19d11c5870e2').width('81.48%')"
       ],
       "metadata": {},
       "output_type": "display_data",
       "text": [
        "<IPython.core.display.Javascript at 0x7f4f756a6a10>"
       ]
      },
      {
       "output_type": "stream",
       "stream": "stdout",
       "text": [
        "Subject 57 P(Go=0.4): Converged\n"
       ]
      },
      {
       "javascript": [
        "$('div#d630894b-7021-46f6-a219-19d11c5870e2').width('83.33%')"
       ],
       "metadata": {},
       "output_type": "display_data",
       "text": [
        "<IPython.core.display.Javascript at 0x7f4f75902ad0>"
       ]
      },
      {
       "output_type": "stream",
       "stream": "stdout",
       "text": [
        "Subject 57 P(Go=0.6): Converged\n"
       ]
      },
      {
       "javascript": [
        "$('div#d630894b-7021-46f6-a219-19d11c5870e2').width('85.19%')"
       ],
       "metadata": {},
       "output_type": "display_data",
       "text": [
        "<IPython.core.display.Javascript at 0x7f4f75922bd0>"
       ]
      },
      {
       "output_type": "stream",
       "stream": "stdout",
       "text": [
        "Subject 57 P(Go=0.8): Converged\n"
       ]
      },
      {
       "javascript": [
        "$('div#d630894b-7021-46f6-a219-19d11c5870e2').width('87.04%')"
       ],
       "metadata": {},
       "output_type": "display_data",
       "text": [
        "<IPython.core.display.Javascript at 0x7f4f756ed610>"
       ]
      },
      {
       "output_type": "stream",
       "stream": "stdout",
       "text": [
        "Subject 57 P(Go=1.0): Converged\n"
       ]
      },
      {
       "javascript": [
        "$('div#d630894b-7021-46f6-a219-19d11c5870e2').width('88.89%')"
       ],
       "metadata": {},
       "output_type": "display_data",
       "text": [
        "<IPython.core.display.Javascript at 0x7f4f756d1d90>"
       ]
      },
      {
       "output_type": "stream",
       "stream": "stdout",
       "text": [
        "----------------------------------------------------------------------------------------------------\n",
        "Subject 58 P(Go=0.0): Converged"
       ]
      },
      {
       "output_type": "stream",
       "stream": "stdout",
       "text": [
        "\n"
       ]
      },
      {
       "javascript": [
        "$('div#d630894b-7021-46f6-a219-19d11c5870e2').width('90.74%')"
       ],
       "metadata": {},
       "output_type": "display_data",
       "text": [
        "<IPython.core.display.Javascript at 0x7f4f756ed450>"
       ]
      },
      {
       "output_type": "stream",
       "stream": "stdout",
       "text": [
        "Subject 58 P(Go=0.2): Converged\n"
       ]
      },
      {
       "javascript": [
        "$('div#d630894b-7021-46f6-a219-19d11c5870e2').width('92.59%')"
       ],
       "metadata": {},
       "output_type": "display_data",
       "text": [
        "<IPython.core.display.Javascript at 0x7f4f75924690>"
       ]
      },
      {
       "output_type": "stream",
       "stream": "stdout",
       "text": [
        "Subject 58 P(Go=0.4): Converged\n"
       ]
      },
      {
       "javascript": [
        "$('div#d630894b-7021-46f6-a219-19d11c5870e2').width('94.44%')"
       ],
       "metadata": {},
       "output_type": "display_data",
       "text": [
        "<IPython.core.display.Javascript at 0x7f4f758f17d0>"
       ]
      },
      {
       "output_type": "stream",
       "stream": "stdout",
       "text": [
        "Subject 58 P(Go=0.6): Converged\n"
       ]
      },
      {
       "javascript": [
        "$('div#d630894b-7021-46f6-a219-19d11c5870e2').width('96.30%')"
       ],
       "metadata": {},
       "output_type": "display_data",
       "text": [
        "<IPython.core.display.Javascript at 0x7f4f7570d490>"
       ]
      },
      {
       "output_type": "stream",
       "stream": "stdout",
       "text": [
        "Subject 58 P(Go=0.8): Converged\n"
       ]
      },
      {
       "javascript": [
        "$('div#d630894b-7021-46f6-a219-19d11c5870e2').width('98.15%')"
       ],
       "metadata": {},
       "output_type": "display_data",
       "text": [
        "<IPython.core.display.Javascript at 0x7f4f75660210>"
       ]
      },
      {
       "output_type": "stream",
       "stream": "stdout",
       "text": [
        "Subject 58 P(Go=1.0): Converged\n"
       ]
      },
      {
       "javascript": [
        "$('div#d630894b-7021-46f6-a219-19d11c5870e2').width('100.00%')"
       ],
       "metadata": {},
       "output_type": "display_data",
       "text": [
        "<IPython.core.display.Javascript at 0x7f4f75969ad0>"
       ]
      },
      {
       "output_type": "stream",
       "stream": "stdout",
       "text": [
        "----------------------------------------------------------------------------------------------------\n"
       ]
      }
     ],
     "prompt_number": 6
    },
    {
     "cell_type": "code",
     "collapsed": false,
     "input": [],
     "language": "python",
     "metadata": {},
     "outputs": []
    }
   ],
   "metadata": {}
  }
 ]
}