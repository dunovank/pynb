{
 "cells": [
  {
   "cell_type": "code",
   "execution_count": 2,
   "metadata": {
    "collapsed": false
   },
   "outputs": [
    {
     "name": "stdout",
     "output_type": "stream",
     "text": [
      "The retina extension is already loaded. To reload it, use:\n",
      "  %reload_ext retina\n",
      "The autoreload extension is already loaded. To reload it, use:\n",
      "  %reload_ext autoreload\n"
     ]
    }
   ],
   "source": [
    "from __future__ import division\n",
    "import os\n",
    "import pandas as pd\n",
    "import numpy as np\n",
    "import matplotlib.pyplot as plt\n",
    "import seaborn as sns\n",
    "from radd import utils\n",
    "\n",
    "%matplotlib inline\n",
    "%load_ext retina\n",
    "%load_ext autoreload\n",
    "%autoreload 2\n",
    "\n",
    "\n",
    "pd.set_option('display.max_rows', 30)\n",
    "pd.set_option('max_colwidth', 20)\n",
    "pd.set_option('precision', 5)\n",
    "\n",
    "\n",
    "from radd.misc.colors import style_params\n",
    "sp = style_params()\n",
    "rcdict={'text.color': '#222222', 'axes.labelcolor': '#222222', 'figure.facecolor': '#dddddd'}\n",
    "sns.set_style('ticks', rc=rcdict)\n",
    "colors=sp['colors']; reds=sp['reds']; greens=sp['greens']; blues=sp['blues']; purples=sp['purples']\n",
    "yellows=sp['yellows']; grays=sp['grays']\n",
    "\n",
    "if os.path.isdir(\"/Users/kyle\"):\n",
    "      pth=\"/Users/kyle/Dropbox/\"\n",
    "\n",
    "elif os.path.isdir(\"/home/kyle\"):\n",
    "      pth=\"/home/kyle/Dropbox/\"\n",
    "\n",
    "os.chdir(pth)\n",
    "\n",
    "rpal = lambda nc: sns.blend_palette(['#e88379', '#9e261b'], n_colors=nc)\n",
    "bpal = lambda nc: sns.blend_palette(['#81aedb', '#2a6095'], n_colors=nc)\n",
    "gpal = lambda nc: sns.blend_palette(['#65b88f', '#2c724f'], n_colors=nc)\n",
    "ppal = lambda nc: sns.blend_palette(['#848bb6', '#4c527f'], n_colors=nc)\n",
    "\n",
    "\"\"\"\n",
    "                                                #REACTIVE\n",
    "\"\"\"\n",
    "\n",
    "re = pd.read_csv(pth+\"CoAx/SS/Reactive/Re_Data.csv\", index_col=0)\n",
    "rebsl = re.query('Cond==\"bsl\"')\n",
    "repnl = re.query('Cond==\"pnl\"')\n",
    "\n",
    "rebsl_idx_popt = pd.read_csv(pth+\"CoAx/SS/Reactive/BSL/Idx/RADD/bsl_allsx_popt_radd.csv\", index_col=0)\n",
    "repnl_idx_popt = pd.read_csv(pth+\"CoAx/SS/Reactive/PNL/Idx/RADD/pnl_allsx_popt_radd.csv\", index_col=0)\n",
    "rebsl_boot_popt = pd.read_csv(pth+'CoAx/SS/Reactive/BSL/Boot/RADD/rwr_rebsl_popt_radd.csv', index_col=0).mean().to_dict()\n",
    "repnl_boot_popt = pd.read_csv(pth+'CoAx/SS/Reactive/PNL/Boot/RADD/pnl_rwr_radd_popt_radd.csv', index_col=0).mean().to_dict()\n",
    "\n",
    "redf_store = {\"redata\": re, \"rebsl\" : rebsl, \"repnl\" : repnl,\n",
    "      \"rebsl_idx_popt\" : rebsl_idx_popt, \"repnl_idx_popt\" : repnl_idx_popt,\n",
    "      \"rebsl_boot_popt\" : rebsl_boot_popt, \"repnl_boot_popt\" : repnl_boot_popt}\n",
    "\n",
    "\n",
    "\n",
    "\"\"\"\n",
    "                                                #PROACTIVE\n",
    "\"\"\"\n",
    "\n",
    "pro = pd.read_csv(pth+'CoAx/SS/Proactive/pro_data.csv', index_col=0)\n",
    "vpopt = pd.read_csv(\"/home/kyle/Dropbox/CoAx/SS/Proactive/Boot/drift-bias/flat_opt_theta.csv\", header=None, names=['mean'], index_col=0).to_dict()['mean']\n",
    "tpopt = pd.read_csv(\"/home/kyle/Dropbox/CoAx/SS/Proactive/Boot/onset-bias/flat_opt_theta.csv\", header=None, names=['mean'], index_col=0).to_dict()['mean']\n",
    "\n",
    "vboot_info = pd.read_csv(pth+'CoAx/SS/Proactive/Boot/drift-bias/rwr_pro_fitinfo.csv')\n",
    "tboot_info = pd.read_csv(pth+'CoAx/SS/Proactive/Boot/onset-bias/rwr_pro_fitinfo.csv')\n",
    "\n",
    "proinits_df = pd.read_csv(pth+\"CoAx/SS/Proactive/Boot/pro_popt_df.csv\",index_col='param')\n",
    "v = proinits_df.query('model==\"drift\"')\n",
    "vtheta, vopt = utils.get_proactive_params(v.to_dict()['popt'], dep='v')\n",
    "t = proinits_df.query('model==\"onset\"')\n",
    "ttheta, topt = utils.get_proactive_params(t.to_dict()['popt'], dep='tr')\n",
    "\n",
    "prodf_store = {\"prodata\" : pro, 'vtheta' : vtheta, 'ttheta':ttheta, \"vboot_info\" : vboot_info, \"tboot_info\" : tboot_info, 'topt':topt, \"tpopt\" : tpopt,  'vopt':vopt, \"vpopt\" : vpopt}\n"
   ]
  },
  {
   "cell_type": "code",
   "execution_count": null,
   "metadata": {
    "collapsed": true
   },
   "outputs": [],
   "source": []
  }
 ],
 "metadata": {
  "kernelspec": {
   "display_name": "Python 2",
   "language": "python",
   "name": "python2"
  },
  "language_info": {
   "codemirror_mode": {
    "name": "ipython",
    "version": 2
   },
   "file_extension": ".py",
   "mimetype": "text/x-python",
   "name": "python",
   "nbconvert_exporter": "python",
   "pygments_lexer": "ipython2",
   "version": "2.7.10"
  }
 },
 "nbformat": 4,
 "nbformat_minor": 0
}
