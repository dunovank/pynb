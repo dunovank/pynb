{
 "cells": [
  {
   "cell_type": "code",
   "execution_count": 146,
   "metadata": {
    "collapsed": false
   },
   "outputs": [],
   "source": [
    "#!/usr/local/bin/env python\n",
    "from __future__ import division\n",
    "import time\n",
    "from copy import deepcopy\n",
    "import numpy as np\n",
    "from numpy.random import random_sample as rs\n",
    "from scipy.stats.mstats import mquantiles as mq\n",
    "from radd import build, fit, models, vis"
   ]
  },
  {
   "cell_type": "code",
   "execution_count": 258,
   "metadata": {
    "collapsed": false
   },
   "outputs": [],
   "source": [
    "dirpath = '/home/kyle/Dropbox/ELife/TESTS/'\n",
    "if not os.path.isdir(dirpath):\n",
    "      os.mkdir(dirpath)\n",
    "os.chdir(dirpath)\n",
    "\n",
    "data = prodf_store['prodata']\n",
    "#inits = dict(deepcopy(ttheta))\n",
    "tinits = dict(deepcopy(vtheta))\n",
    "inits['a']=np.mean([tinits['a'], vinits['a']])\n",
    "inits['z']=np.mean([tinits['z'], vinits['z']])\n",
    "inits['v'] = np.mean(vopt.values())\n",
    "inits['tr'] = np.mean(topt.values())\n",
    "#inits['tr'] = np.mean(topt.values())\n",
    "inits['xb']=2"
   ]
  },
  {
   "cell_type": "code",
   "execution_count": null,
   "metadata": {
    "collapsed": false,
    "scrolled": true
   },
   "outputs": [
    {
     "name": "stdout",
     "output_type": "stream",
     "text": [
      "\n",
      "      Model is prepared to fit on average xpro data, allowing\n",
      "      Dynamic Drift to vary across levels of pGo (0, 20, 40, 60, 80, 100) \n",
      "\n",
      "      Optimize On, Garth \n"
     ]
    }
   ],
   "source": [
    "m = build.Model(data=data, inits=inits, kind='xpro', fit_on='average', depends_on={'xb':'pGo'}, weighted=True)"
   ]
  },
  {
   "cell_type": "code",
   "execution_count": null,
   "metadata": {
    "collapsed": false
   },
   "outputs": [],
   "source": [
    "m.optimize(ntrials=10000, ftol=1.e-20, xtol=1.e-20, maxfev=10000)\n",
    "m.fitinfo"
   ]
  },
  {
   "cell_type": "code",
   "execution_count": null,
   "metadata": {
    "collapsed": false,
    "scrolled": true
   },
   "outputs": [],
   "source": [
    "yhat = m.simulate()\n",
    "vis.plot_fits(m.avg_y, yhat, plot_acc=True, kind='pro', save=True, savestr='dynamic_drift_pro')"
   ]
  },
  {
   "cell_type": "code",
   "execution_count": null,
   "metadata": {
    "collapsed": true
   },
   "outputs": [],
   "source": []
  }
 ],
 "metadata": {
  "kernelspec": {
   "display_name": "Python 2",
   "language": "python",
   "name": "python2"
  },
  "language_info": {
   "codemirror_mode": {
    "name": "ipython",
    "version": 2
   },
   "file_extension": ".py",
   "mimetype": "text/x-python",
   "name": "python",
   "nbconvert_exporter": "python",
   "pygments_lexer": "ipython2",
   "version": "2.7.10"
  }
 },
 "nbformat": 4,
 "nbformat_minor": 0
}
