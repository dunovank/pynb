{
 "cells": [
  {
   "cell_type": "code",
   "execution_count": 28,
   "metadata": {
    "collapsed": false
   },
   "outputs": [],
   "source": [
    "#!/usr/local/bin/env python\n",
    "from __future__ import division\n",
    "import time\n",
    "from numpy import array\n",
    "\n",
    "from copy import deepcopy\n",
    "from numpy.random import random_sample as rs\n",
    "from scipy.stats.mstats import mquantiles as mq\n",
    "from radd import build"
   ]
  },
  {
   "cell_type": "code",
   "execution_count": 10,
   "metadata": {
    "collapsed": true
   },
   "outputs": [],
   "source": [
    "data=redf_store.redata"
   ]
  },
  {
   "cell_type": "code",
   "execution_count": 16,
   "metadata": {
    "collapsed": false
   },
   "outputs": [
    {
     "name": "stdout",
     "output_type": "stream",
     "text": [
      "\n",
      "      Model is prepared to fit on subjects xradd data, allowing\n",
      "      Drift-Rate to vary across levels of Cond (bsl, pnl) \n",
      "\n",
      "      Optimize On, Garth \n"
     ]
    }
   ],
   "source": [
    "m = build.Model(data=data, kind='xradd', depends_on={'v':'Cond'})"
   ]
  },
  {
   "cell_type": "code",
   "execution_count": 21,
   "metadata": {
    "collapsed": true
   },
   "outputs": [],
   "source": [
    "m.make_simulator()\n",
    "ss = m.sim"
   ]
  },
  {
   "cell_type": "code",
   "execution_count": 50,
   "metadata": {
    "collapsed": true
   },
   "outputs": [],
   "source": [
    "def x(p, a_dots=False, a_fewerdots=False, a_nodots=False):\n",
    "      \n",
    "      p = ss.vectorize_params(p)\n",
    "      Pg, Tg = ss.__update_go_process__(p)\n",
    "      Ps, Ts = ss.__update_stop_process__(p)\n",
    "\n",
    "      # a/tr/v Bias: ALL CONDITIONS, ALL SSD\n",
    "      DVg = ss.lowerb+(ss.xtb[:,None]*np.cumsum(np.where((rs((ss.ncond, ss.ntot, Tg.max())).T<Pg), ss.dx,-ss.dx).T, axis=2))\n",
    "      init_ss = array([[DVc[:ss.nss, ix] for ix in np.where(Ts<Tg[i], Tg[i]-Ts, 0)] for i, DVc in enumerate(DVg)])\n",
    "      DVs = init_ss[:, :, :, None]+np.cumsum(np.where(rs((ss.nss, Ts.max()))<Ps, ss.dx, -ss.dx), axis=1)\n",
    "\n",
    "      if a_dots:\n",
    "            return dots(DVg, DVs, p)\n",
    "      elif a_fewerdots:\n",
    "            return fewerdots(DVg, DVs, p)\n",
    "      elif a_nodots:\n",
    "            return nodots(DVg, DVs, p)\n",
    "      else:\n",
    "            return DVg, DVs"
   ]
  },
  {
   "cell_type": "code",
   "execution_count": null,
   "metadata": {
    "collapsed": true
   },
   "outputs": [],
   "source": [
    "\n",
    "      dt=ss.dt; nss=ss.nss; ncond=ss.ncond; ssd=ss.ssd;\n",
    "      tb=ss.tb; prob=ss.prob; scale=ss.scale; a=p['a']; tr=p['tr']\n",
    "      \n",
    "      \n",
    "      p = ss.vectorize_params(p)\n",
    "      Pg, Tg = ss.__update_go_process__(p)\n",
    "      Ps, Ts = ss.__update_stop_process__(p)\n",
    "\n",
    "      # a/tr/v Bias: ALL CONDITIONS, ALL SSD\n",
    "      DVg = ss.lowerb+(ss.xtb[:,None]*np.cumsum(np.where((rs((ss.ncond, ss.ntot, Tg.max())).T<Pg), ss.dx,-ss.dx).T, axis=2))\n",
    "      init_ss = array([[DVc[:ss.nss, ix] for ix in np.where(Ts<Tg[i], Tg[i]-Ts, 0)] for i, DVc in enumerate(DVg)])\n",
    "      DVs = init_ss[:, :, :, None]+np.cumsum(np.where(rs((ss.nss, Ts.max()))<Ps, ss.dx, -ss.dx), axis=1)\n",
    "      \n",
    "\n",
    "      grt = (tr+(np.where((DVg[:, nss:, :].max(axis=2).T>=a).T, np.argmax((DVg[:, nss:, :].T>=a).T,axis=2)*dt, np.nan).T)).T\n",
    "      ertx = (tr+(np.where((DVg[:, :nss, :].max(axis=2).T>=a).T, np.argmax((DVg[:, :nss, :].T>=a).T,axis=2)*dt, np.nan).T)).T\n",
    "      ssrt = np.where(np.any(DVs<=0, axis=3), ssd[:, None]+np.argmax(DVs<=0, axis=3)*dt,np.nan)\n",
    "\n",
    "      # compute RT quantiles for correct and error resp.\n",
    "      ert = array([ertx[i] * np.ones_like(ssrt[i]) for i in range(ncond)])\n",
    "      gq = np.vstack([mq(rtc[rtc<tb], prob=prob)*scale for rtc in grt])\n",
    "      eq = [mq(ert[i][ert[i]<ssrt[i]], prob=prob)*scale for i in range(ncond)]\n",
    "      # Get response and stop accuracy information\n",
    "      gac = np.nanmean(np.where(grt<tb, 1, 0), axis=1)\n",
    "      sacc = np.where(ert<ssrt, 0, 1).mean(axis=2)\n",
    "\n",
    "      return np.hstack([np.hstack([i[ii] for i in [gac, sacc, gq, eq]]) for ii in range(ncond)])\n"
   ]
  },
  {
   "cell_type": "code",
   "execution_count": 57,
   "metadata": {
    "collapsed": true
   },
   "outputs": [],
   "source": [
    "def all_together_outside(p, Pg, Tg, Ps, Ts):\n",
    "      \n",
    "      dt=ss.dt; nss=ss.nss; ncond=ss.ncond; ssd=ss.ssd; dx=ss.dx\n",
    "      tb=ss.tb; prob=ss.prob; scale=ss.scale; a=p['a']; tr=p['tr']\n",
    "      \n",
    "      # a/tr/v Bias: ALL CONDITIONS, ALL SSD\n",
    "      DVg = ss.lowerb+(ss.xtb[:,None]*np.cumsum(np.where((rs((ss.ncond, ss.ntot, Tg.max())).T<Pg), ss.dx,-ss.dx).T, axis=2))\n",
    "      init_ss = array([[DVc[:ss.nss, ix] for ix in np.where(Ts<Tg[i], Tg[i]-Ts, 0)] for i, DVc in enumerate(DVg)])\n",
    "      DVs = init_ss[:, :, :, None]+np.cumsum(np.where(rs((ss.nss, Ts.max()))<Ps, ss.dx, -ss.dx), axis=1)\n",
    "      \n",
    "\n",
    "      grt = (tr+(np.where((DVg[:, nss:, :].max(axis=2).T>=a).T, np.argmax((DVg[:, nss:, :].T>=a).T,axis=2)*dt, np.nan).T)).T\n",
    "      ertx = (tr+(np.where((DVg[:, :nss, :].max(axis=2).T>=a).T, np.argmax((DVg[:, :nss, :].T>=a).T,axis=2)*dt, np.nan).T)).T\n",
    "      ssrt = np.where(np.any(DVs<=0, axis=3), ssd[:, None]+np.argmax(DVs<=0, axis=3)*dt,np.nan)\n",
    "\n",
    "      # compute RT quantiles for correct and error resp.\n",
    "      ert = array([ertx[i] * np.ones_like(ssrt[i]) for i in range(ncond)])\n",
    "      gq = np.vstack([mq(rtc[rtc<tb], prob=prob)*scale for rtc in grt])\n",
    "      eq = [mq(ert[i][ert[i]<ssrt[i]], prob=prob)*scale for i in range(ncond)]\n",
    "      # Get response and stop accuracy information\n",
    "      gac = np.nanmean(np.where(grt<tb, 1, 0), axis=1)\n",
    "      sacc = np.where(ert<ssrt, 0, 1).mean(axis=2)\n",
    "\n",
    "      return np.hstack([np.hstack([i[ii] for i in [gac, sacc, gq, eq]]) for ii in range(ncond)])\n",
    "\n",
    "\n",
    "\n",
    "\n",
    "def all_together(p):\n",
    "      \n",
    "      dt=ss.dt; nss=ss.nss; ncond=ss.ncond; ssd=ss.ssd;\n",
    "      tb=ss.tb; prob=ss.prob; scale=ss.scale; a=p['a']; tr=p['tr']\n",
    "      \n",
    "      p = ss.vectorize_params(p)\n",
    "      Pg, Tg = ss.__update_go_process__(p)\n",
    "      Ps, Ts = ss.__update_stop_process__(p)\n",
    "\n",
    "      # a/tr/v Bias: ALL CONDITIONS, ALL SSD\n",
    "      DVg = ss.lowerb+(ss.xtb[:,None]*np.cumsum(np.where((rs((ss.ncond, ss.ntot, Tg.max())).T<Pg), ss.dx,-ss.dx).T, axis=2))\n",
    "      init_ss = array([[DVc[:ss.nss, ix] for ix in np.where(Ts<Tg[i], Tg[i]-Ts, 0)] for i, DVc in enumerate(DVg)])\n",
    "      DVs = init_ss[:, :, :, None]+np.cumsum(np.where(rs((ss.nss, Ts.max()))<Ps, ss.dx, -ss.dx), axis=1)\n",
    "      \n",
    "\n",
    "      grt = (tr+(np.where((DVg[:, nss:, :].max(axis=2).T>=a).T, np.argmax((DVg[:, nss:, :].T>=a).T,axis=2)*dt, np.nan).T)).T\n",
    "      ertx = (tr+(np.where((DVg[:, :nss, :].max(axis=2).T>=a).T, np.argmax((DVg[:, :nss, :].T>=a).T,axis=2)*dt, np.nan).T)).T\n",
    "      ssrt = np.where(np.any(DVs<=0, axis=3), ssd[:, None]+np.argmax(DVs<=0, axis=3)*dt,np.nan)\n",
    "\n",
    "      # compute RT quantiles for correct and error resp.\n",
    "      ert = array([ertx[i] * np.ones_like(ssrt[i]) for i in range(ncond)])\n",
    "      gq = np.vstack([mq(rtc[rtc<tb], prob=prob)*scale for rtc in grt])\n",
    "      eq = [mq(ert[i][ert[i]<ssrt[i]], prob=prob)*scale for i in range(ncond)]\n",
    "      # Get response and stop accuracy information\n",
    "      gac = np.nanmean(np.where(grt<tb, 1, 0), axis=1)\n",
    "      sacc = np.where(ert<ssrt, 0, 1).mean(axis=2)\n",
    "\n",
    "      return np.hstack([np.hstack([i[ii] for i in [gac, sacc, gq, eq]]) for ii in range(ncond)])\n",
    "\n",
    "\n",
    "def all_together_fewer_dots(p):\n",
    "      \n",
    "      dt=ss.dt; nss=ss.nss; ncond=ss.ncond; ssd=ss.ssd; ntot=ss.ntot\n",
    "      tb=ss.tb; prob=ss.prob; scale=ss.scale; a=p['a']; tr=p['tr']\n",
    "      \n",
    "      p = ss.vectorize_params(p)\n",
    "      Pg, Tg = ss.__update_go_process__(p)\n",
    "      Ps, Ts = ss.__update_stop_process__(p)\n",
    "\n",
    "      # a/tr/v Bias: ALL CONDITIONS, ALL SSD\n",
    "      DVg = p['z']+(ss.xtb[:,None]*np.cumsum(np.where((rs((ncond, ntot, Tg.max())).T<Pg), dx,-dx).T, axis=2))\n",
    "      init_ss = array([[DVc[:nss, ix] for ix in np.where(Ts<Tg[i], Tg[i]-Ts, 0)] for i, DVc in enumerate(DVg)])\n",
    "      DVs = init_ss[:, :, :, None]+np.cumsum(np.where(rs((nss, Ts.max()))<Ps, dx, -dx), axis=1)\n",
    "\n",
    "      grt = (tr+(np.where((DVg[:, nss:, :].max(axis=2).T>=a).T, np.argmax((DVg[:, nss:, :].T>=a).T,axis=2)*dt, np.nan).T)).T\n",
    "      ertx = (tr+(np.where((DVg[:, :nss, :].max(axis=2).T>=a).T, np.argmax((DVg[:, :nss, :].T>=a).T,axis=2)*dt, np.nan).T)).T\n",
    "      ssrt = np.where(np.any(DVs<=0, axis=3), ssd[:, None]+np.argmax(DVs<=0, axis=3)*dt,np.nan)\n",
    "\n",
    "      # compute RT quantiles for correct and error resp.\n",
    "      ert = array([ertx[i] * np.ones_like(ssrt[i]) for i in range(ncond)])\n",
    "      gq = np.vstack([mq(rtc[rtc<tb], prob=prob)*scale for rtc in grt])\n",
    "      eq = [mq(ert[i][ert[i]<ssrt[i]], prob=prob)*scale for i in range(ncond)]\n",
    "      # Get response and stop accuracy information\n",
    "      gac = np.nanmean(np.where(grt<tb, 1, 0), axis=1)\n",
    "      sacc = np.where(ert<ssrt, 0, 1).mean(axis=2)\n",
    "\n",
    "      return np.hstack([np.hstack([i[ii] for i in [gac, sacc, gq, eq]]) for ii in range(ncond)])\n"
   ]
  },
  {
   "cell_type": "markdown",
   "metadata": {},
   "source": [
    "- a_dots              3702 function calls in 8.593 seconds\n",
    "- a_fewerdots         3702 function calls in 8.102 seconds\n",
    "- a_nodots            3702 function calls in 9.375 seconds"
   ]
  },
  {
   "cell_type": "code",
   "execution_count": 60,
   "metadata": {
    "collapsed": false
   },
   "outputs": [
    {
     "name": "stdout",
     "output_type": "stream",
     "text": [
      " "
     ]
    }
   ],
   "source": [
    "%%prun\n",
    "for i in xrange(10):\n",
    "      p = ss.vectorize_params(ss.inits)\n",
    "      Pg, Tg = ss.__update_go_process__(ss.inits)\n",
    "      Ps, Ts = ss.__update_stop_process__(ss.inits)\n",
    "      r = all_together_outside(ss.inits, Pg, Tg, Ps, Ts)"
   ]
  },
  {
   "cell_type": "code",
   "execution_count": 61,
   "metadata": {
    "collapsed": false
   },
   "outputs": [
    {
     "ename": "NameError",
     "evalue": "global name 'dx' is not defined",
     "output_type": "error",
     "traceback": [
      "\u001b[0;31m---------------------------------------------------------------------------\u001b[0m",
      "\u001b[0;31mNameError\u001b[0m                                 Traceback (most recent call last)",
      "\u001b[0;32m<ipython-input-61-f5ed3df6e4e8>\u001b[0m in \u001b[0;36m<module>\u001b[0;34m()\u001b[0m\n\u001b[0;32m----> 1\u001b[0;31m \u001b[0mget_ipython\u001b[0m\u001b[0;34m(\u001b[0m\u001b[0;34m)\u001b[0m\u001b[0;34m.\u001b[0m\u001b[0mrun_cell_magic\u001b[0m\u001b[0;34m(\u001b[0m\u001b[0;34mu'prun'\u001b[0m\u001b[0;34m,\u001b[0m \u001b[0;34mu''\u001b[0m\u001b[0;34m,\u001b[0m \u001b[0;34mu'for i in xrange(10):\\n      #r = all_together(ss.inits)\\n      r = all_together_fewer_dots(p)'\u001b[0m\u001b[0;34m)\u001b[0m\u001b[0;34m\u001b[0m\u001b[0m\n\u001b[0m",
      "\u001b[0;32m/Users/kyle/anaconda/lib/python2.7/site-packages/IPython/core/interactiveshell.pyc\u001b[0m in \u001b[0;36mrun_cell_magic\u001b[0;34m(self, magic_name, line, cell)\u001b[0m\n\u001b[1;32m   2262\u001b[0m             \u001b[0mmagic_arg_s\u001b[0m \u001b[0;34m=\u001b[0m \u001b[0mself\u001b[0m\u001b[0;34m.\u001b[0m\u001b[0mvar_expand\u001b[0m\u001b[0;34m(\u001b[0m\u001b[0mline\u001b[0m\u001b[0;34m,\u001b[0m \u001b[0mstack_depth\u001b[0m\u001b[0;34m)\u001b[0m\u001b[0;34m\u001b[0m\u001b[0m\n\u001b[1;32m   2263\u001b[0m             \u001b[0;32mwith\u001b[0m \u001b[0mself\u001b[0m\u001b[0;34m.\u001b[0m\u001b[0mbuiltin_trap\u001b[0m\u001b[0;34m:\u001b[0m\u001b[0;34m\u001b[0m\u001b[0m\n\u001b[0;32m-> 2264\u001b[0;31m                 \u001b[0mresult\u001b[0m \u001b[0;34m=\u001b[0m \u001b[0mfn\u001b[0m\u001b[0;34m(\u001b[0m\u001b[0mmagic_arg_s\u001b[0m\u001b[0;34m,\u001b[0m \u001b[0mcell\u001b[0m\u001b[0;34m)\u001b[0m\u001b[0;34m\u001b[0m\u001b[0m\n\u001b[0m\u001b[1;32m   2265\u001b[0m             \u001b[0;32mreturn\u001b[0m \u001b[0mresult\u001b[0m\u001b[0;34m\u001b[0m\u001b[0m\n\u001b[1;32m   2266\u001b[0m \u001b[0;34m\u001b[0m\u001b[0m\n",
      "\u001b[0;32m/Users/kyle/anaconda/lib/python2.7/site-packages/IPython/core/magics/execution.pyc\u001b[0m in \u001b[0;36mprun\u001b[0;34m(self, parameter_s, cell)\u001b[0m\n",
      "\u001b[0;32m/Users/kyle/anaconda/lib/python2.7/site-packages/IPython/core/magic.pyc\u001b[0m in \u001b[0;36m<lambda>\u001b[0;34m(f, *a, **k)\u001b[0m\n\u001b[1;32m    191\u001b[0m     \u001b[0;31m# but it's overkill for just that one bit of state.\u001b[0m\u001b[0;34m\u001b[0m\u001b[0;34m\u001b[0m\u001b[0m\n\u001b[1;32m    192\u001b[0m     \u001b[0;32mdef\u001b[0m \u001b[0mmagic_deco\u001b[0m\u001b[0;34m(\u001b[0m\u001b[0marg\u001b[0m\u001b[0;34m)\u001b[0m\u001b[0;34m:\u001b[0m\u001b[0;34m\u001b[0m\u001b[0m\n\u001b[0;32m--> 193\u001b[0;31m         \u001b[0mcall\u001b[0m \u001b[0;34m=\u001b[0m \u001b[0;32mlambda\u001b[0m \u001b[0mf\u001b[0m\u001b[0;34m,\u001b[0m \u001b[0;34m*\u001b[0m\u001b[0ma\u001b[0m\u001b[0;34m,\u001b[0m \u001b[0;34m**\u001b[0m\u001b[0mk\u001b[0m\u001b[0;34m:\u001b[0m \u001b[0mf\u001b[0m\u001b[0;34m(\u001b[0m\u001b[0;34m*\u001b[0m\u001b[0ma\u001b[0m\u001b[0;34m,\u001b[0m \u001b[0;34m**\u001b[0m\u001b[0mk\u001b[0m\u001b[0;34m)\u001b[0m\u001b[0;34m\u001b[0m\u001b[0m\n\u001b[0m\u001b[1;32m    194\u001b[0m \u001b[0;34m\u001b[0m\u001b[0m\n\u001b[1;32m    195\u001b[0m         \u001b[0;32mif\u001b[0m \u001b[0mcallable\u001b[0m\u001b[0;34m(\u001b[0m\u001b[0marg\u001b[0m\u001b[0;34m)\u001b[0m\u001b[0;34m:\u001b[0m\u001b[0;34m\u001b[0m\u001b[0m\n",
      "\u001b[0;32m/Users/kyle/anaconda/lib/python2.7/site-packages/IPython/core/magics/execution.pyc\u001b[0m in \u001b[0;36mprun\u001b[0;34m(self, parameter_s, cell)\u001b[0m\n\u001b[1;32m    272\u001b[0m             \u001b[0marg_str\u001b[0m \u001b[0;34m+=\u001b[0m \u001b[0;34m'\\n'\u001b[0m \u001b[0;34m+\u001b[0m \u001b[0mcell\u001b[0m\u001b[0;34m\u001b[0m\u001b[0m\n\u001b[1;32m    273\u001b[0m         \u001b[0marg_str\u001b[0m \u001b[0;34m=\u001b[0m \u001b[0mself\u001b[0m\u001b[0;34m.\u001b[0m\u001b[0mshell\u001b[0m\u001b[0;34m.\u001b[0m\u001b[0minput_splitter\u001b[0m\u001b[0;34m.\u001b[0m\u001b[0mtransform_cell\u001b[0m\u001b[0;34m(\u001b[0m\u001b[0marg_str\u001b[0m\u001b[0;34m)\u001b[0m\u001b[0;34m\u001b[0m\u001b[0m\n\u001b[0;32m--> 274\u001b[0;31m         \u001b[0;32mreturn\u001b[0m \u001b[0mself\u001b[0m\u001b[0;34m.\u001b[0m\u001b[0m_run_with_profiler\u001b[0m\u001b[0;34m(\u001b[0m\u001b[0marg_str\u001b[0m\u001b[0;34m,\u001b[0m \u001b[0mopts\u001b[0m\u001b[0;34m,\u001b[0m \u001b[0mself\u001b[0m\u001b[0;34m.\u001b[0m\u001b[0mshell\u001b[0m\u001b[0;34m.\u001b[0m\u001b[0muser_ns\u001b[0m\u001b[0;34m)\u001b[0m\u001b[0;34m\u001b[0m\u001b[0m\n\u001b[0m\u001b[1;32m    275\u001b[0m \u001b[0;34m\u001b[0m\u001b[0m\n\u001b[1;32m    276\u001b[0m     \u001b[0;32mdef\u001b[0m \u001b[0m_run_with_profiler\u001b[0m\u001b[0;34m(\u001b[0m\u001b[0mself\u001b[0m\u001b[0;34m,\u001b[0m \u001b[0mcode\u001b[0m\u001b[0;34m,\u001b[0m \u001b[0mopts\u001b[0m\u001b[0;34m,\u001b[0m \u001b[0mnamespace\u001b[0m\u001b[0;34m)\u001b[0m\u001b[0;34m:\u001b[0m\u001b[0;34m\u001b[0m\u001b[0m\n",
      "\u001b[0;32m/Users/kyle/anaconda/lib/python2.7/site-packages/IPython/core/magics/execution.pyc\u001b[0m in \u001b[0;36m_run_with_profiler\u001b[0;34m(self, code, opts, namespace)\u001b[0m\n\u001b[1;32m    294\u001b[0m         \u001b[0mprof\u001b[0m \u001b[0;34m=\u001b[0m \u001b[0mprofile\u001b[0m\u001b[0;34m.\u001b[0m\u001b[0mProfile\u001b[0m\u001b[0;34m(\u001b[0m\u001b[0;34m)\u001b[0m\u001b[0;34m\u001b[0m\u001b[0m\n\u001b[1;32m    295\u001b[0m         \u001b[0;32mtry\u001b[0m\u001b[0;34m:\u001b[0m\u001b[0;34m\u001b[0m\u001b[0m\n\u001b[0;32m--> 296\u001b[0;31m             \u001b[0mprof\u001b[0m \u001b[0;34m=\u001b[0m \u001b[0mprof\u001b[0m\u001b[0;34m.\u001b[0m\u001b[0mrunctx\u001b[0m\u001b[0;34m(\u001b[0m\u001b[0mcode\u001b[0m\u001b[0;34m,\u001b[0m \u001b[0mnamespace\u001b[0m\u001b[0;34m,\u001b[0m \u001b[0mnamespace\u001b[0m\u001b[0;34m)\u001b[0m\u001b[0;34m\u001b[0m\u001b[0m\n\u001b[0m\u001b[1;32m    297\u001b[0m             \u001b[0msys_exit\u001b[0m \u001b[0;34m=\u001b[0m \u001b[0;34m''\u001b[0m\u001b[0;34m\u001b[0m\u001b[0m\n\u001b[1;32m    298\u001b[0m         \u001b[0;32mexcept\u001b[0m \u001b[0mSystemExit\u001b[0m\u001b[0;34m:\u001b[0m\u001b[0;34m\u001b[0m\u001b[0m\n",
      "\u001b[0;32m/Users/kyle/anaconda/lib/python2.7/cProfile.pyc\u001b[0m in \u001b[0;36mrunctx\u001b[0;34m(self, cmd, globals, locals)\u001b[0m\n\u001b[1;32m    138\u001b[0m         \u001b[0mself\u001b[0m\u001b[0;34m.\u001b[0m\u001b[0menable\u001b[0m\u001b[0;34m(\u001b[0m\u001b[0;34m)\u001b[0m\u001b[0;34m\u001b[0m\u001b[0m\n\u001b[1;32m    139\u001b[0m         \u001b[0;32mtry\u001b[0m\u001b[0;34m:\u001b[0m\u001b[0;34m\u001b[0m\u001b[0m\n\u001b[0;32m--> 140\u001b[0;31m             \u001b[0;32mexec\u001b[0m \u001b[0mcmd\u001b[0m \u001b[0;32min\u001b[0m \u001b[0mglobals\u001b[0m\u001b[0;34m,\u001b[0m \u001b[0mlocals\u001b[0m\u001b[0;34m\u001b[0m\u001b[0m\n\u001b[0m\u001b[1;32m    141\u001b[0m         \u001b[0;32mfinally\u001b[0m\u001b[0;34m:\u001b[0m\u001b[0;34m\u001b[0m\u001b[0m\n\u001b[1;32m    142\u001b[0m             \u001b[0mself\u001b[0m\u001b[0;34m.\u001b[0m\u001b[0mdisable\u001b[0m\u001b[0;34m(\u001b[0m\u001b[0;34m)\u001b[0m\u001b[0;34m\u001b[0m\u001b[0m\n",
      "\u001b[0;32m<string>\u001b[0m in \u001b[0;36m<module>\u001b[0;34m()\u001b[0m\n",
      "\u001b[0;32m<ipython-input-57-18a456432268>\u001b[0m in \u001b[0;36mall_together_fewer_dots\u001b[0;34m(p)\u001b[0m\n\u001b[1;32m     67\u001b[0m \u001b[0;34m\u001b[0m\u001b[0m\n\u001b[1;32m     68\u001b[0m       \u001b[0;31m# a/tr/v Bias: ALL CONDITIONS, ALL SSD\u001b[0m\u001b[0;34m\u001b[0m\u001b[0;34m\u001b[0m\u001b[0m\n\u001b[0;32m---> 69\u001b[0;31m       \u001b[0mDVg\u001b[0m \u001b[0;34m=\u001b[0m \u001b[0mp\u001b[0m\u001b[0;34m[\u001b[0m\u001b[0;34m'z'\u001b[0m\u001b[0;34m]\u001b[0m\u001b[0;34m+\u001b[0m\u001b[0;34m(\u001b[0m\u001b[0mss\u001b[0m\u001b[0;34m.\u001b[0m\u001b[0mxtb\u001b[0m\u001b[0;34m[\u001b[0m\u001b[0;34m:\u001b[0m\u001b[0;34m,\u001b[0m\u001b[0mNone\u001b[0m\u001b[0;34m]\u001b[0m\u001b[0;34m*\u001b[0m\u001b[0mnp\u001b[0m\u001b[0;34m.\u001b[0m\u001b[0mcumsum\u001b[0m\u001b[0;34m(\u001b[0m\u001b[0mnp\u001b[0m\u001b[0;34m.\u001b[0m\u001b[0mwhere\u001b[0m\u001b[0;34m(\u001b[0m\u001b[0;34m(\u001b[0m\u001b[0mrs\u001b[0m\u001b[0;34m(\u001b[0m\u001b[0;34m(\u001b[0m\u001b[0mncond\u001b[0m\u001b[0;34m,\u001b[0m \u001b[0mntot\u001b[0m\u001b[0;34m,\u001b[0m \u001b[0mTg\u001b[0m\u001b[0;34m.\u001b[0m\u001b[0mmax\u001b[0m\u001b[0;34m(\u001b[0m\u001b[0;34m)\u001b[0m\u001b[0;34m)\u001b[0m\u001b[0;34m)\u001b[0m\u001b[0;34m.\u001b[0m\u001b[0mT\u001b[0m\u001b[0;34m<\u001b[0m\u001b[0mPg\u001b[0m\u001b[0;34m)\u001b[0m\u001b[0;34m,\u001b[0m \u001b[0mdx\u001b[0m\u001b[0;34m,\u001b[0m\u001b[0;34m-\u001b[0m\u001b[0mdx\u001b[0m\u001b[0;34m)\u001b[0m\u001b[0;34m.\u001b[0m\u001b[0mT\u001b[0m\u001b[0;34m,\u001b[0m \u001b[0maxis\u001b[0m\u001b[0;34m=\u001b[0m\u001b[0;36m2\u001b[0m\u001b[0;34m)\u001b[0m\u001b[0;34m)\u001b[0m\u001b[0;34m\u001b[0m\u001b[0m\n\u001b[0m\u001b[1;32m     70\u001b[0m       \u001b[0minit_ss\u001b[0m \u001b[0;34m=\u001b[0m \u001b[0marray\u001b[0m\u001b[0;34m(\u001b[0m\u001b[0;34m[\u001b[0m\u001b[0;34m[\u001b[0m\u001b[0mDVc\u001b[0m\u001b[0;34m[\u001b[0m\u001b[0;34m:\u001b[0m\u001b[0mnss\u001b[0m\u001b[0;34m,\u001b[0m \u001b[0mix\u001b[0m\u001b[0;34m]\u001b[0m \u001b[0;32mfor\u001b[0m \u001b[0mix\u001b[0m \u001b[0;32min\u001b[0m \u001b[0mnp\u001b[0m\u001b[0;34m.\u001b[0m\u001b[0mwhere\u001b[0m\u001b[0;34m(\u001b[0m\u001b[0mTs\u001b[0m\u001b[0;34m<\u001b[0m\u001b[0mTg\u001b[0m\u001b[0;34m[\u001b[0m\u001b[0mi\u001b[0m\u001b[0;34m]\u001b[0m\u001b[0;34m,\u001b[0m \u001b[0mTg\u001b[0m\u001b[0;34m[\u001b[0m\u001b[0mi\u001b[0m\u001b[0;34m]\u001b[0m\u001b[0;34m-\u001b[0m\u001b[0mTs\u001b[0m\u001b[0;34m,\u001b[0m \u001b[0;36m0\u001b[0m\u001b[0;34m)\u001b[0m\u001b[0;34m]\u001b[0m \u001b[0;32mfor\u001b[0m \u001b[0mi\u001b[0m\u001b[0;34m,\u001b[0m \u001b[0mDVc\u001b[0m \u001b[0;32min\u001b[0m \u001b[0menumerate\u001b[0m\u001b[0;34m(\u001b[0m\u001b[0mDVg\u001b[0m\u001b[0;34m)\u001b[0m\u001b[0;34m]\u001b[0m\u001b[0;34m)\u001b[0m\u001b[0;34m\u001b[0m\u001b[0m\n\u001b[1;32m     71\u001b[0m       \u001b[0mDVs\u001b[0m \u001b[0;34m=\u001b[0m \u001b[0minit_ss\u001b[0m\u001b[0;34m[\u001b[0m\u001b[0;34m:\u001b[0m\u001b[0;34m,\u001b[0m \u001b[0;34m:\u001b[0m\u001b[0;34m,\u001b[0m \u001b[0;34m:\u001b[0m\u001b[0;34m,\u001b[0m \u001b[0mNone\u001b[0m\u001b[0;34m]\u001b[0m\u001b[0;34m+\u001b[0m\u001b[0mnp\u001b[0m\u001b[0;34m.\u001b[0m\u001b[0mcumsum\u001b[0m\u001b[0;34m(\u001b[0m\u001b[0mnp\u001b[0m\u001b[0;34m.\u001b[0m\u001b[0mwhere\u001b[0m\u001b[0;34m(\u001b[0m\u001b[0mrs\u001b[0m\u001b[0;34m(\u001b[0m\u001b[0;34m(\u001b[0m\u001b[0mnss\u001b[0m\u001b[0;34m,\u001b[0m \u001b[0mTs\u001b[0m\u001b[0;34m.\u001b[0m\u001b[0mmax\u001b[0m\u001b[0;34m(\u001b[0m\u001b[0;34m)\u001b[0m\u001b[0;34m)\u001b[0m\u001b[0;34m)\u001b[0m\u001b[0;34m<\u001b[0m\u001b[0mPs\u001b[0m\u001b[0;34m,\u001b[0m \u001b[0mdx\u001b[0m\u001b[0;34m,\u001b[0m \u001b[0;34m-\u001b[0m\u001b[0mdx\u001b[0m\u001b[0;34m)\u001b[0m\u001b[0;34m,\u001b[0m \u001b[0maxis\u001b[0m\u001b[0;34m=\u001b[0m\u001b[0;36m1\u001b[0m\u001b[0;34m)\u001b[0m\u001b[0;34m\u001b[0m\u001b[0m\n",
      "\u001b[0;31mNameError\u001b[0m: global name 'dx' is not defined"
     ]
    }
   ],
   "source": [
    "%%prun \n",
    "for i in xrange(10):\n",
    "      #r = all_together(ss.inits)\n",
    "      r = all_together_fewer_dots(p)"
   ]
  },
  {
   "cell_type": "code",
   "execution_count": 56,
   "metadata": {
    "collapsed": false
   },
   "outputs": [
    {
     "name": "stdout",
     "output_type": "stream",
     "text": [
      " "
     ]
    }
   ],
   "source": [
    "%%prun \n",
    "for i in xrange(10):\n",
    "      out  = x(ss.inits, a_nodots=True)"
   ]
  },
  {
   "cell_type": "code",
   "execution_count": 49,
   "metadata": {
    "collapsed": false
   },
   "outputs": [],
   "source": [
    "def nodots(DVg, DVs, p, nss=5000, ncond=2, ssd=array([ 0.2 ,  0.25,  0.3 ,  0.35,  0.4 ]), tb=.560, prob=array([ 0.1,  0.3,  0.5,  0.7,  0.9])):\n",
    "            \n",
    "      a=p['a']; tr=p['tr']\n",
    "\n",
    "      grt = (tr+(np.where((DVg[:, nss:, :].max(axis=2).T>=a).T, np.argmax((DVg[:, nss:, :].T>=a).T,axis=2)*.0005, np.nan).T)).T\n",
    "      ertx = (tr+(np.where((DVg[:, :nss, :].max(axis=2).T>=a).T, np.argmax((DVg[:, :nss, :].T>=a).T,axis=2)*.0005, np.nan).T)).T\n",
    "      ssrt = np.where(np.any(DVs<=0, axis=3), ssd[:, None]+np.argmax(DVs<=0, axis=3)*.0005,np.nan)\n",
    "\n",
    "      # compute RT quantiles for correct and error resp.\n",
    "      ert = array([ertx[i] * np.ones_like(ssrt[i]) for i in range(ncond)])\n",
    "      gq = np.vstack([mq(rtc[rtc<.650], prob=prob)*1 for rtc in grt])\n",
    "      eq = [mq(ert[i][ert[i]<ssrt[i]], prob=prob)*1 for i in range(ncond)]\n",
    "      # Get response and stop accuracy information\n",
    "      gac = np.nanmean(np.where(grt<tb, 1, 0), axis=1)\n",
    "      sacc = np.where(ert<ssrt, 0, 1).mean(axis=2)\n",
    "\n",
    "      return np.hstack([np.hstack([i[ii] for i in [gac, sacc, gq, eq]]) for ii in range(ncond)])\n",
    "\n",
    "\n",
    "\n",
    "def fewerdots(DVg, DVs, p):\n",
    "\n",
    "      dt=ss.dt; nss=ss.nss; ncond=ss.ncond; ssd=ss.ssd;\n",
    "      tb=ss.tb; prob=ss.prob; scale=ss.scale; a=p['a']; tr=p['tr']\n",
    "\n",
    "      grt = (tr+(np.where((DVg[:, nss:, :].max(axis=2).T>=a).T, np.argmax((DVg[:, nss:, :].T>=a).T,axis=2)*dt, np.nan).T)).T\n",
    "      ertx = (tr+(np.where((DVg[:, :nss, :].max(axis=2).T>=a).T, np.argmax((DVg[:, :nss, :].T>=a).T,axis=2)*dt, np.nan).T)).T\n",
    "      ssrt = np.where(np.any(DVs<=0, axis=3), ssd[:, None]+np.argmax(DVs<=0, axis=3)*dt,np.nan)\n",
    "\n",
    "      # compute RT quantiles for correct and error resp.\n",
    "      ert = array([ertx[i] * np.ones_like(ssrt[i]) for i in range(ncond)])\n",
    "      gq = np.vstack([mq(rtc[rtc<tb], prob=prob)*scale for rtc in grt])\n",
    "      eq = [mq(ert[i][ert[i]<ssrt[i]], prob=prob)*scale for i in range(ncond)]\n",
    "      # Get response and stop accuracy information\n",
    "      gac = np.nanmean(np.where(grt<tb, 1, 0), axis=1)\n",
    "      sacc = np.where(ert<ssrt, 0, 1).mean(axis=2)\n",
    "\n",
    "      return np.hstack([np.hstack([i[ii] for i in [gac, sacc, gq, eq]]) for ii in range(ncond)])\n",
    "\n",
    "\n",
    "\n",
    "def dots(DVg, DVs, p):\n",
    "      \n",
    "      a=p['a']; tr=p['tr']\n",
    "\n",
    "      grt = (tr+(np.where((DVg[:, ss.nss:, :].max(axis=2).T>=a).T, np.argmax((DVg[:, ss.nss:, :].T>=a).T,axis=2)*ss.dt, np.nan).T)).T\n",
    "      ertx = (tr+(np.where((DVg[:, :ss.nss, :].max(axis=2).T>=a).T, np.argmax((DVg[:, :ss.nss, :].T>=a).T,axis=2)*ss.dt, np.nan).T)).T\n",
    "      ssrt = np.where(np.any(DVs<=0, axis=3), ss.ssd[:, None]+np.argmax(DVs<=0, axis=3)*ss.dt,np.nan)\n",
    "\n",
    "      # compute RT quantiles for correct and error resp.\n",
    "      ert = array([ertx[i] * np.ones_like(ssrt[i]) for i in range(ss.ncond)])\n",
    "      gq = np.vstack([mq(rtc[rtc<ss.tb], prob=ss.prob)*ss.scale for rtc in grt])\n",
    "      eq = [mq(ert[i][ert[i]<ssrt[i]], prob=ss.prob)*ss.scale for i in range(ss.ncond)]\n",
    "      # Get response and stop accuracy information\n",
    "      gac = np.nanmean(np.where(grt<ss.tb, 1, 0), axis=1)\n",
    "      sacc = np.where(ert<ssrt, 0, 1).mean(axis=2)\n",
    "\n",
    "      return np.hstack([np.hstack([i[ii] for i in [gac, sacc, gq, eq]]) for ii in range(ss.ncond)])"
   ]
  },
  {
   "cell_type": "code",
   "execution_count": null,
   "metadata": {
    "collapsed": true
   },
   "outputs": [],
   "source": [
    "      grt = (tr+(np.where((DVg[:, nss:, :].max(axis=2).T>=a).T, np.argmax((DVg[:, ss.nss:, :].T>=a).T,axis=2)*dt, np.nan).T)).T\n",
    "      ertx = (tr+(np.where((DVg[:, :nss, :].max(axis=2).T>=a).T, np.argmax((DVg[:, :nss, :].T>=a).T,axis=2)*dt, np.nan).T)).T\n",
    "      ssrt = np.where(np.any(DVs<=0, axis=3), ssd[:, None]+np.argmax(DVs<=0, axis=3)*dt,np.nan)\n",
    "\n",
    "      # compute RT quantiles for correct and error resp.\n",
    "      ert = array([ertx[i] * np.ones_like(ssrt[i]) for i in range(ncond)])\n",
    "      gq = np.vstack([mq(rtc[rtc<tb], prob=prob)*scale for rtc in grt])\n",
    "      eq = [mq(ert[i][ert[i]<ssrt[i]], prob=prob)*scale for i in range(ncond)]\n",
    "      # Get response and stop accuracy information\n",
    "      gac = np.nanmean(np.where(grt<tb, 1, 0), axis=1)\n",
    "      sacc = np.where(ert<ssrt, 0, 1).mean(axis=2)\n",
    "\n",
    "      return np.hstack([np.hstack([i[ii] for i in [gac, sacc, gq, eq]]) for ii in range(ncond)])"
   ]
  },
  {
   "cell_type": "code",
   "execution_count": null,
   "metadata": {
    "collapsed": true
   },
   "outputs": [],
   "source": [
    "\n",
    "def simulate_and_analyze(p):\n",
    "      \n",
    "      \n",
    "      dt=ss.dt; nss=ss.nss; ncond=ss.ncond; ssd=ss.ssd;\n",
    "      tb=ss.tb; prob=ss.prob; scale=ss.scale; a=p['a']; tr=p['tr']\n",
    "      \n",
    "      p = ss.vectorize_params(p)\n",
    "      Pg, Tg = ss.__update_go_process__(p)\n",
    "      Ps, Ts = ss.__update_stop_process__(p)\n",
    "\n",
    "      # a/tr/v Bias: ALL CONDITIONS, ALL SSD\n",
    "      DVg = ss.lowerb+(ss.xtb[:,None]*np.cumsum(np.where((rs((ss.ncond, ss.ntot, Tg.max())).T<Pg), ss.dx,-ss.dx).T, axis=2))\n",
    "      init_ss = array([[DVc[:ss.nss, ix] for ix in np.where(Ts<Tg[i], Tg[i]-Ts, 0)] for i, DVc in enumerate(DVg)])\n",
    "      DVs = init_ss[:, :, :, None]+np.cumsum(np.where(rs((ss.nss, Ts.max()))<Ps, ss.dx, -ss.dx), axis=1)\n",
    "      \n",
    "      grt = (tr+(np.where((DVg[:, nss:, :].max(axis=2).T>=a).T, np.argmax((DVg[:, ss.nss:, :].T>=a).T,axis=2)*dt, np.nan).T)).T\n",
    "      ertx = (tr+(np.where((DVg[:, :nss, :].max(axis=2).T>=a).T, np.argmax((DVg[:, :nss, :].T>=a).T,axis=2)*dt, np.nan).T)).T\n",
    "      ssrt = np.where(np.any(DVs<=0, axis=3), ssd[:, None]+np.argmax(DVs<=0, axis=3)*dt,np.nan)\n",
    "\n",
    "      # compute RT quantiles for correct and error resp.\n",
    "      ert = array([ertx[i] * np.ones_like(ssrt[i]) for i in range(ncond)])\n",
    "      gq = np.vstack([mq(rtc[rtc<tb], prob=prob)*scale for rtc in grt])\n",
    "      eq = [mq(ert[i][ert[i]<ssrt[i]], prob=prob)*scale for i in range(ncond)]\n",
    "      # Get response and stop accuracy information\n",
    "      gac = np.nanmean(np.where(grt<tb, 1, 0), axis=1)\n",
    "      sacc = np.where(ert<ssrt, 0, 1).mean(axis=2)\n",
    "\n",
    "      return np.hstack([np.hstack([i[ii] for i in [gac, sacc, gq, eq]]) for ii in range(ncond)])"
   ]
  }
 ],
 "metadata": {
  "kernelspec": {
   "display_name": "Python 2",
   "language": "python",
   "name": "python2"
  },
  "language_info": {
   "codemirror_mode": {
    "name": "ipython",
    "version": 2
   },
   "file_extension": ".py",
   "mimetype": "text/x-python",
   "name": "python",
   "nbconvert_exporter": "python",
   "pygments_lexer": "ipython2",
   "version": "2.7.10"
  }
 },
 "nbformat": 4,
 "nbformat_minor": 0
}
