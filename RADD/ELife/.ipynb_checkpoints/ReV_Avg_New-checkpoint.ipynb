{
 "cells": [
  {
   "cell_type": "code",
   "execution_count": 103,
   "metadata": {
    "collapsed": false
   },
   "outputs": [],
   "source": [
    "#!/usr/local/bin/env python\n",
    "from __future__ import division\n",
    "import time\n",
    "from copy import deepcopy\n",
    "import numpy as np\n",
    "from numpy.random import random_sample as rs\n",
    "from scipy.stats.mstats import mquantiles as mq\n",
    "from radd import build, fit, vis"
   ]
  },
  {
   "cell_type": "markdown",
   "metadata": {},
   "source": [
    "## Prepare Data/Params"
   ]
  },
  {
   "cell_type": "code",
   "execution_count": 124,
   "metadata": {
    "collapsed": false
   },
   "outputs": [],
   "source": [
    "data = redf_store['redata']\n",
    "binits = { k: v for k, v in redf_store['rebsl_boot_popt'].items() }\n",
    "binits['ssv'] = -abs(binits['ssv'])\n",
    "pinits = { k: v for k, v in redf_store['repnl_boot_popt'].items() }\n",
    "\n",
    "avg_inits = { k: np.mean([binits[k], pinits[k]]) for k in binits.keys() }\n",
    "if 'ssd' in avg_inits.keys(): del avg_inits['ssd']"
   ]
  },
  {
   "cell_type": "markdown",
   "metadata": {},
   "source": [
    "##Reactive"
   ]
  },
  {
   "cell_type": "code",
   "execution_count": 125,
   "metadata": {
    "collapsed": false
   },
   "outputs": [],
   "source": [
    "dirpath = '/home/kyle/Dropbox/ELife/ReV_Avg_TESTX/'\n",
    "if not os.path.isdir(dirpath):\n",
    "      os.mkdir(dirpath)\n",
    "os.chdir(dirpath)\n",
    "\n",
    "data = redf_store['redata']\n",
    "inits = dict(deepcopy(avg_inits))\n",
    "inits['xb']=2"
   ]
  },
  {
   "cell_type": "code",
   "execution_count": null,
   "metadata": {
    "collapsed": false,
    "scrolled": false
   },
   "outputs": [
    {
     "name": "stdout",
     "output_type": "stream",
     "text": [
      "\n",
      "      Model is prepared to fit on average xirace data, allowing\n",
      "      Drift-Rate to vary across levels of Cond (bsl, pnl) \n",
      "\n",
      "      Optimize On, Wayne \n"
     ]
    }
   ],
   "source": [
    "m = build.Model(data=data, inits=inits, kind='xirace', fit_on='average', depends_on={'v': 'Cond'})"
   ]
  },
  {
   "cell_type": "code",
   "execution_count": null,
   "metadata": {
    "collapsed": false
   },
   "outputs": [],
   "source": [
    "m.optimize(ntrials=10000, ftol=1.e-10, xtol=1.e-10, maxfev=5000)"
   ]
  },
  {
   "cell_type": "code",
   "execution_count": null,
   "metadata": {
    "collapsed": false
   },
   "outputs": [],
   "source": [
    "m.fitinfo"
   ]
  },
  {
   "cell_type": "code",
   "execution_count": null,
   "metadata": {
    "collapsed": false
   },
   "outputs": [],
   "source": [
    "fits = m.fits.reshape(2,16)\n",
    "yhat = m.simulate().reshape(2, 16)\n",
    "for i in range(m.ncond):\n",
    "      vis.plot_fits(m.avg_y[i], fits[i], plot_acc=True, save=False)"
   ]
  },
  {
   "cell_type": "code",
   "execution_count": null,
   "metadata": {
    "collapsed": true
   },
   "outputs": [],
   "source": []
  }
 ],
 "metadata": {
  "kernelspec": {
   "display_name": "Python 2",
   "language": "python",
   "name": "python2"
  },
  "language_info": {
   "codemirror_mode": {
    "name": "ipython",
    "version": 2
   },
   "file_extension": ".py",
   "mimetype": "text/x-python",
   "name": "python",
   "nbconvert_exporter": "python",
   "pygments_lexer": "ipython2",
   "version": "2.7.10"
  }
 },
 "nbformat": 4,
 "nbformat_minor": 0
}
