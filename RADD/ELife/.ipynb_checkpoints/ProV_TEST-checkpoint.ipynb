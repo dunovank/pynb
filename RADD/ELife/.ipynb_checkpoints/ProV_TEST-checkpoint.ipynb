{
 "cells": [
  {
   "cell_type": "code",
   "execution_count": 3,
   "metadata": {
    "collapsed": false
   },
   "outputs": [],
   "source": [
    "#!/usr/local/bin/env python\n",
    "from __future__ import division\n",
    "import time\n",
    "from copy import deepcopy\n",
    "import numpy as np\n",
    "from radd import build, fit, vis"
   ]
  },
  {
   "cell_type": "code",
   "execution_count": 4,
   "metadata": {
    "collapsed": false
   },
   "outputs": [],
   "source": [
    "dirpath = pth+'ELife/ProTR_TEST/'\n",
    "if not os.path.isdir(dirpath):\n",
    "      os.mkdir(dirpath)\n",
    "os.chdir(dirpath)\n",
    "\n",
    "data = prodf_store['prodata']\n",
    "inits = dict(deepcopy(ttheta))\n",
    "#inits['v'] = np.mean(vopt.values())\n",
    "inits['tr'] = np.mean(topt.values())"
   ]
  },
  {
   "cell_type": "markdown",
   "metadata": {},
   "source": [
    "##Proactive"
   ]
  },
  {
   "cell_type": "code",
   "execution_count": 5,
   "metadata": {
    "collapsed": false
   },
   "outputs": [
    {
     "name": "stdout",
     "output_type": "stream",
     "text": [
      "\n",
      "      Model is prepared to fit on average pro data, allowing\n",
      "      Drift-Rate to vary across levels of pGo (0, 20, 40, 60, 80, 100) \n",
      "\n",
      "      See, it's not that simplex... \n"
     ]
    }
   ],
   "source": [
    "m = build.Model(data=data, inits=inits, kind='pro', fit_on='average', depends_on={'v': 'pGo'}, weight_presp=0, tb=.560)"
   ]
  },
  {
   "cell_type": "code",
   "execution_count": 7,
   "metadata": {
    "collapsed": false
   },
   "outputs": [],
   "source": [
    "m.wts=np.ones_like(m.avg_y)"
   ]
  },
  {
   "cell_type": "code",
   "execution_count": null,
   "metadata": {
    "collapsed": false
   },
   "outputs": [],
   "source": [
    "m.optimize(ntrials=10000, ftol=1.e-6, xtol=1.e-6, maxfev=5000)"
   ]
  },
  {
   "cell_type": "markdown",
   "metadata": {},
   "source": [
    "##visualize fits"
   ]
  },
  {
   "cell_type": "code",
   "execution_count": null,
   "metadata": {
    "collapsed": false
   },
   "outputs": [],
   "source": [
    "yhat = m.simulate()\n",
    "fits = m.fits\n",
    "vis.plot_fits(m.avg_y, yhat, plot_acc=True, save=True, savestr ='sim')\n",
    "vis.plot_fits(m.avg_y, fits, plot_acc=True, save=True, savestr ='fits')"
   ]
  },
  {
   "cell_type": "code",
   "execution_count": null,
   "metadata": {
    "collapsed": true
   },
   "outputs": [],
   "source": []
  }
 ],
 "metadata": {
  "kernelspec": {
   "display_name": "Python 2",
   "language": "python",
   "name": "python2"
  },
  "language_info": {
   "codemirror_mode": {
    "name": "ipython",
    "version": 2
   },
   "file_extension": ".py",
   "mimetype": "text/x-python",
   "name": "python",
   "nbconvert_exporter": "python",
   "pygments_lexer": "ipython2",
   "version": "2.7.10"
  }
 },
 "nbformat": 4,
 "nbformat_minor": 0
}
