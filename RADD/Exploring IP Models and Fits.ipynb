{
 "metadata": {
  "name": "",
  "signature": "sha256:16e05f05a9c769e63f8a42fd2eb9782aced6c7ff398a95bbe8a193de86b04ba2"
 },
 "nbformat": 3,
 "nbformat_minor": 0,
 "worksheets": [
  {
   "cells": [
    {
     "cell_type": "code",
     "collapsed": false,
     "input": [
      "from radd import final, fitre\n",
      "#final.all"
     ],
     "language": "python",
     "metadata": {},
     "outputs": [],
     "prompt_number": 18
    },
    {
     "cell_type": "code",
     "collapsed": false,
     "input": [
      "os.chdir('/home/kyle/Dropbox/SS_Backups/SS/Reactive/')\n"
     ],
     "language": "python",
     "metadata": {},
     "outputs": [],
     "prompt_number": 3
    },
    {
     "cell_type": "code",
     "collapsed": false,
     "input": [
      "\n",
      "df=pd.read_csv('Re_Data.csv')\n",
      "godf=df.query('choice==\"go\"')\n",
      "godf.pivot_table('rt', 'idx', 'ssd').mean()"
     ],
     "language": "python",
     "metadata": {},
     "outputs": [
      {
       "metadata": {},
       "output_type": "pyout",
       "prompt_number": 8,
       "text": [
        "ssd\n",
        "200     0.43782\n",
        "250     0.45206\n",
        "300     0.47915\n",
        "350     0.53387\n",
        "400     0.55874\n",
        "1000    0.56442\n",
        "dtype: float64"
       ]
      }
     ],
     "prompt_number": 8
    },
    {
     "cell_type": "code",
     "collapsed": false,
     "input": [
      "from scipy.stats.mstats import mquantiles\n",
      "quant=[mquantiles(ssd_df.dropna().rt.values) for ssd, ssd_df in godf.groupby('ssd')]"
     ],
     "language": "python",
     "metadata": {},
     "outputs": [],
     "prompt_number": 10
    },
    {
     "cell_type": "code",
     "collapsed": false,
     "input": [
      "os.chdir('../IPA/')\n",
      "popt_ipa=pd.read_csv(\"rwr_rebsl_popt_ipa.csv\", index_col=0)\n",
      "fits_ipa=pd.read_csv(\"rwr_rebsl_fits_ipa.csv\", index_col=0)"
     ],
     "language": "python",
     "metadata": {},
     "outputs": [],
     "prompt_number": 141
    },
    {
     "cell_type": "code",
     "collapsed": false,
     "input": [
      "fits_ipa.mean()"
     ],
     "language": "python",
     "metadata": {},
     "outputs": [
      {
       "metadata": {},
       "output_type": "pyout",
       "prompt_number": 143,
       "text": [
        "200    0.98922\n",
        "250    0.93814\n",
        "300    0.77800\n",
        "350    0.51757\n",
        "400    0.29061\n",
        "rt     0.55572\n",
        "dtype: float64"
       ]
      }
     ],
     "prompt_number": 143
    },
    {
     "cell_type": "code",
     "collapsed": false,
     "input": [
      "os.chdir('../IPB/')\n",
      "popt_ipb=pd.read_csv(\"rwr_rebsl_popt_ipb.csv\", index_col=0)"
     ],
     "language": "python",
     "metadata": {},
     "outputs": [],
     "prompt_number": 131
    },
    {
     "cell_type": "code",
     "collapsed": false,
     "input": [
      "ipatheta=popt_ipa.mean().to_dict()\n",
      "ipatheta['pGo']=.5\n",
      "ipbtheta=popt_ipb.mean().to_dict()\n",
      "ipbtheta['pGo']=.5"
     ],
     "language": "python",
     "metadata": {},
     "outputs": [],
     "prompt_number": 132
    },
    {
     "cell_type": "code",
     "collapsed": false,
     "input": [],
     "language": "python",
     "metadata": {},
     "outputs": [
      {
       "metadata": {},
       "output_type": "pyout",
       "prompt_number": 158,
       "text": [
        "pandas.core.frame.DataFrame"
       ]
      }
     ],
     "prompt_number": 158
    },
    {
     "cell_type": "code",
     "collapsed": false,
     "input": [
      "ipasims=fitre.simConditions(ipatheta, model='ipa', simfx='standard', visual=True, ntrials=500)\n",
      "#ipbsims=fitre.simConditions(ipbtheta, model='ipb', simfx='standard', visual=True, ntrials=500)"
     ],
     "language": "python",
     "metadata": {},
     "outputs": [],
     "prompt_number": 160
    },
    {
     "cell_type": "code",
     "collapsed": false,
     "input": [
      "sacc=ipasims[ipasims['trial_type']=='stop'].mean()['acc']"
     ],
     "language": "python",
     "metadata": {},
     "outputs": [],
     "prompt_number": 163
    },
    {
     "cell_type": "code",
     "collapsed": false,
     "input": [
      "def asdf()\n"
     ],
     "language": "python",
     "metadata": {},
     "outputs": [
      {
       "metadata": {},
       "output_type": "pyout",
       "prompt_number": 164,
       "text": [
        "0.68965517241379315"
       ]
      }
     ],
     "prompt_number": 164
    },
    {
     "cell_type": "code",
     "collapsed": false,
     "input": [
      "sacc=ipasims[ipbsims['trial_type']=='stop'].mean()['acc']\n",
      "sacc"
     ],
     "language": "python",
     "metadata": {},
     "outputs": [
      {
       "metadata": {},
       "output_type": "pyout",
       "prompt_number": 138,
       "text": [
        "0.97553191489361701"
       ]
      }
     ],
     "prompt_number": 138
    },
    {
     "cell_type": "code",
     "collapsed": false,
     "input": [
      "ipago=ipasims.query('choice==\"go\" & acc==1')\n",
      "ipbgo=ipbsims.query('choice==\"go\" & acc==1')"
     ],
     "language": "python",
     "metadata": {},
     "outputs": [],
     "prompt_number": 166
    },
    {
     "cell_type": "code",
     "collapsed": false,
     "input": [
      "ipaquant=[mquantiles(ssd_df.dropna().rt.values) for ssd, ssd_df in ipago.groupby('ssd')]\n",
      "ipbquant=[mquantiles(ssd_df.dropna().rt.values) for ssd, ssd_df in ipbgo.groupby('ssd')]"
     ],
     "language": "python",
     "metadata": {},
     "outputs": [],
     "prompt_number": 167
    },
    {
     "cell_type": "code",
     "collapsed": false,
     "input": [
      "colors=sns.color_palette(\"Blues_d\", 8)\n",
      "ipacolors=sns.color_palette('Reds_d', 8)\n",
      "ipbcolors=sns.color_palette('Greens', 8)"
     ],
     "language": "python",
     "metadata": {},
     "outputs": [],
     "prompt_number": 168
    },
    {
     "cell_type": "code",
     "collapsed": false,
     "input": [
      "labels=np.array(['200', '250', '300', '350', '400', 'Go'])\n",
      "x=np.arange(3)\n",
      "for i, y in enumerate(quant):\n",
      "    plt.plot(x, y, color=colors[i])\n",
      "    if i<5:\n",
      "        plt.plot(x, ipaquant[i], color=ipacolors[i], marker='o', lw=0, markersize=6, alpha=.6)\n",
      "        plt.plot(x, ipbquant[i], color=ipbcolors[i], marker='o', lw=0, markersize=6, alpha=.3)\n",
      "ax=plt.gca()\n",
      "ax.set_xlim(-.5, 2.5)\n",
      "ax.set_xticks(np.arange(3))\n",
      "ax.set_xticklabels(['.25', '.5', '.75'])"
     ],
     "language": "python",
     "metadata": {},
     "outputs": [
      {
       "metadata": {},
       "output_type": "pyout",
       "prompt_number": 169,
       "text": [
        "[<matplotlib.text.Text at 0x7f1bc726d0d0>,\n",
        " <matplotlib.text.Text at 0x7f1bc7258d90>,\n",
        " <matplotlib.text.Text at 0x7f1bc7212350>]"
       ]
      },
      {
       "metadata": {},
       "output_type": "display_data",
       "png": "[encoded data removed]",
       "text": [
        "<matplotlib.figure.Figure at 0x7f1bc73282d0>"
       ]
      }
     ],
     "prompt_number": 169
    },
    {
     "cell_type": "code",
     "collapsed": false,
     "input": [
      "ipatheta['v']=4.64\n",
      "ipatheta['ssv']=1.767\n",
      "ipatheta['a']=1.0\n",
      "ipatheta['t']=.050\n",
      "ipasims=fitre.simConditions(ipatheta, model='ipa', simfx='standard')\n"
     ],
     "language": "python",
     "metadata": {},
     "outputs": [],
     "prompt_number": 105
    },
    {
     "cell_type": "code",
     "collapsed": false,
     "input": [
      "rtdf=ipasims[ipasims.choice=='go']\n",
      "rtdf.rt.mean()"
     ],
     "language": "python",
     "metadata": {},
     "outputs": [
      {
       "metadata": {},
       "output_type": "pyout",
       "prompt_number": 102,
       "text": [
        "0.24050000000000007"
       ]
      }
     ],
     "prompt_number": 102
    },
    {
     "cell_type": "code",
     "collapsed": false,
     "input": [
      "\n",
      "ipasims.pivot_table('response', 'ssd')"
     ],
     "language": "python",
     "metadata": {},
     "outputs": [
      {
       "metadata": {},
       "output_type": "pyout",
       "prompt_number": 106,
       "text": [
        "ssd\n",
        "70     1\n",
        "120    1\n",
        "175    1\n",
        "250    1\n",
        "Name: response, dtype: float64"
       ]
      }
     ],
     "prompt_number": 106
    },
    {
     "cell_type": "code",
     "collapsed": false,
     "input": [],
     "language": "python",
     "metadata": {},
     "outputs": []
    }
   ],
   "metadata": {}
  }
 ]
}