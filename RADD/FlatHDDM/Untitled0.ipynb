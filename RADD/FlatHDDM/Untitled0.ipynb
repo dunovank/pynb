{
 "metadata": {
  "name": "",
  "signature": "sha256:3a24a468ba1e8a84cc4c90c5900b4c53689a7362cd2b7c3b26dfb733b2c71b35"
 },
 "nbformat": 3,
 "nbformat_minor": 0,
 "worksheets": [
  {
   "cells": [
    {
     "cell_type": "code",
     "collapsed": false,
     "input": [
      "from radd import hd, utils, final, fitpro\n",
      "import hddm\n",
      "from radd.utils import get_params_from_flatp as getp\n",
      "data=final.all_data('pro')\n",
      "godf=data.query('response==1 & rt<=.5451 & idx!=42')"
     ],
     "language": "python",
     "metadata": {},
     "outputs": [],
     "prompt_number": 22
    },
    {
     "cell_type": "code",
     "collapsed": false,
     "input": [
      "os.chdir('/Users/kyle/Dropbox/SS_Backups/SS/Proactive/Boot/ProBootDriftF/')\n",
      "theta_all=pd.read_csv(\"flat_opt_theta.csv\", index_col=0, names=['mean'], header=None)\n",
      "thetax=theta_all.to_dict()['mean']\n",
      "theta, vlist = getp(theta_all)\n"
     ],
     "language": "python",
     "metadata": {},
     "outputs": [],
     "prompt_number": 21
    },
    {
     "cell_type": "code",
     "collapsed": false,
     "input": [
      "fits, fits_all, popt = fitpro.fit_proactive_data(data, inits=theta, filt_rts=True)"
     ],
     "language": "python",
     "metadata": {},
     "outputs": []
    },
    {
     "cell_type": "code",
     "collapsed": false,
     "input": [
      "m.plot_posteriors()"
     ],
     "language": "python",
     "metadata": {},
     "outputs": []
    },
    {
     "cell_type": "code",
     "collapsed": false,
     "input": [
      "from scipy.optimize import differential_evolution\n",
      "def ackley(x):\n",
      "        arg1 = -0.2 * np.sqrt(0.5 * (x[0] ** 2 + x[1] ** 2))\n",
      "        arg2 = 0.5 * (np.cos(2. * np.pi * x[0]) + np.cos(2. * np.pi * x[1]))\n",
      "        return -20. * np.exp(arg1) - np.exp(arg2) + 20. + np.e\n",
      "\n",
      "\n",
      "bounds = [(-5, 5), (-5, 5)]\n",
      "result = differential_evolution(ackley, bounds)\n",
      "result.x, result.fun\n",
      "\n",
      "#(array([ 0.,  0.]), 4.4408920985006262e-16)"
     ],
     "language": "python",
     "metadata": {},
     "outputs": [
      {
       "metadata": {},
       "output_type": "pyout",
       "prompt_number": 23,
       "text": [
        "(array([ 0.,  0.]), 4.4408920985006262e-16)"
       ]
      }
     ],
     "prompt_number": 23
    },
    {
     "cell_type": "code",
     "collapsed": false,
     "input": [
      "result.keys()#values()"
     ],
     "language": "python",
     "metadata": {},
     "outputs": [
      {
       "metadata": {},
       "output_type": "pyout",
       "prompt_number": 26,
       "text": [
        "['nfev', 'success', 'fun', 'x', 'message', 'nit']"
       ]
      }
     ],
     "prompt_number": 26
    },
    {
     "cell_type": "code",
     "collapsed": false,
     "input": [
      "m=hddm.HDDM(godf, bias=True, informative=True)\n",
      "m.sample(50000, thin=2, burn=10000)"
     ],
     "language": "python",
     "metadata": {},
     "outputs": []
    },
    {
     "cell_type": "code",
     "collapsed": false,
     "input": [
      "plist=['a', 'v', 't', 'z']\n",
      "statdf=m.gen_stats()\n",
      "params={p:statdf.loc[p, 'mean'] for p in plist}"
     ],
     "language": "python",
     "metadata": {},
     "outputs": []
    },
    {
     "cell_type": "code",
     "collapsed": false,
     "input": [
      "theta={'a': params['a']/10, 'v':params['v']/10, 't':params['t'], 'z':(params['a']/10)*params['z'], 'pGo':.5, 'ssd':.450, 'ssv':params['v']}"
     ],
     "language": "python",
     "metadata": {},
     "outputs": []
    }
   ],
   "metadata": {}
  }
 ]
}