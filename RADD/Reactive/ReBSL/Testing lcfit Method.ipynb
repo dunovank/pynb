{
 "metadata": {
  "name": "",
  "signature": "sha256:35a46e6dd1390d60a648ce8687be854527cb9cc40fb84a123c1113e0b549bba2"
 },
 "nbformat": 3,
 "nbformat_minor": 0,
 "worksheets": [
  {
   "cells": [
    {
     "cell_type": "code",
     "collapsed": false,
     "input": [
      "from __future__ import division\n",
      "import pandas as pd\n",
      "from radd import fitre, utils, vis, lcfit\n",
      "from lmfit import Parameters, Minimizer\n",
      "import seaborn as sns"
     ],
     "language": "python",
     "metadata": {},
     "outputs": [],
     "prompt_number": 1
    },
    {
     "cell_type": "heading",
     "level": 3,
     "metadata": {},
     "source": [
      "Single SX RE-BSL Data Fits"
     ]
    },
    {
     "cell_type": "code",
     "collapsed": false,
     "input": [
      "pth=utils.find_path()\n",
      "redata_bsl=pd.read_csv(pth+\"DataFiles/ReBSL_Data.csv\", index_col=0)\n",
      "redata_pnl=pd.read_csv(pth+\"DataFiles/RePNL_Data.csv\", index_col=0)"
     ],
     "language": "python",
     "metadata": {},
     "outputs": [],
     "prompt_number": 3
    },
    {
     "cell_type": "heading",
     "level": 3,
     "metadata": {},
     "source": [
      "Test Proactive"
     ]
    },
    {
     "cell_type": "code",
     "collapsed": false,
     "input": [
      "pro = pd.read_csv(pth+\"ParamFiles/rwr_pro_opt_theta.csv\", index_col=0)\n",
      "pro_theta=pro.to_dict()['mean']"
     ],
     "language": "python",
     "metadata": {},
     "outputs": [],
     "prompt_number": 136
    },
    {
     "cell_type": "code",
     "collapsed": false,
     "input": [
      "pvec, rtvec = [], []\n",
      "pgo=np.arange(0, 120, 20)\n",
      "\n",
      "for pg in pgo:\n",
      "    pg_str='v'+str(int(pg))\n",
      "    pro_theta['v']=pro_theta[pg_str]\n",
      "    \n",
      "    dvg, dvs = lcfit.radd(pro_theta)\n",
      "    pstop, rt = lcfit.analyze_proactive_trials(dvg, dvs, pro_theta)\n",
      "    \n",
      "    pvec.append(pstop); rtvec.append(rt)"
     ],
     "language": "python",
     "metadata": {},
     "outputs": [],
     "prompt_number": 141
    },
    {
     "cell_type": "heading",
     "level": 3,
     "metadata": {},
     "source": [
      "Reactive Sx-Fitted Parameters and Empirical Data "
     ]
    },
    {
     "cell_type": "code",
     "collapsed": false,
     "input": [
      "#ReBSL Avg of Individual Sx Optimized RADD Parameters\n",
      "opt={'a':0.4380473426, 'ssv':-0.9784438748, 't':0.3063577618, 'z':0.1664076139,'v': 1.0515686029}\n",
      "opt['ssd']=.3\n",
      "opt['pGo']=.5\n",
      "\n",
      "\n",
      "#Reactive Emprical Data for BSL, PNL Conditions\n",
      "reSC=[np.array([ 0.99482759,  0.98362069,  0.89913793,  0.5137931 ,  0.09913793]), np.array([ 0.99310345,  0.98534483,  0.92672414,  0.6       ,  0.17758621])]\n",
      "reSC_err=[np.array([ 0.00463002,  0.01061342,  0.02947119,  0.06475839,  0.0300568 ]), np.array([ 0.00657836,  0.00902168,  0.0244885 ,  0.05038838,  0.03991182])]\n",
      "\n",
      "reRT=[560.06155060636706, 566.04816069768106]\n",
      "reRT_err=[5.0285142629924566, 4.1756849148121304]"
     ],
     "language": "python",
     "metadata": {},
     "outputs": [],
     "prompt_number": 340
    },
    {
     "cell_type": "code",
     "collapsed": false,
     "input": [
      "opt_theta={'a': 0.43155063058963727,\n",
      " 'ssv': -0.96986662065537221,\n",
      " 't': 0.30656375144494813,\n",
      " 'v': 1.0366001760617101,\n",
      " 'z': 0.16611261860323445}\n",
      "\n",
      "opt_theta['ssd']=.3\n",
      "opt_theta['pGo']=.5"
     ],
     "language": "python",
     "metadata": {},
     "outputs": [],
     "prompt_number": 371
    },
    {
     "cell_type": "heading",
     "level": 3,
     "metadata": {},
     "source": [
      "Test Reactive"
     ]
    },
    {
     "cell_type": "code",
     "collapsed": false,
     "input": [
      "dvg, dvs=lcfit.radd(opt_theta, ntrials=1000, timebound=.650)"
     ],
     "language": "python",
     "metadata": {},
     "outputs": [],
     "prompt_number": 376
    },
    {
     "cell_type": "code",
     "collapsed": false,
     "input": [
      "#gos_i, stops_i, stops = lcfit.analyze_reactive_trials(dvg, dvs, opt)\n",
      "sacc, rt = lcfit.analyze_reactive_trials(dvg, dvs, opt_theta)"
     ],
     "language": "python",
     "metadata": {},
     "outputs": [],
     "prompt_number": 377
    },
    {
     "cell_type": "heading",
     "level": 3,
     "metadata": {},
     "source": [
      "Load in HDDM TR-Bias Model Params for Testing "
     ]
    },
    {
     "cell_type": "code",
     "collapsed": false,
     "input": [
      "hddm_tbias=pd.read_csv(pth+\"ParamFiles/ReHDDM_tbias_params.csv\", index_col=0)\n",
      "\n",
      "hddm_bsl=hddm_tbias[hddm_tbias[\"param\"]!='t(pnl)'].loc[:,['idx', 'param', 'mean']].copy()\n",
      "hddm_pnl=hddm_tbias[hddm_tbias[\"param\"]!='t(bsl)'].loc[:,['idx', 'param', 'mean']].copy()\n",
      "\n",
      "hddm_bsl.replace({'param':{'t(bsl)':'t'}}, inplace=True)\n",
      "hddm_pnl.replace({'param':{'t(pnl)':'t'}}, inplace=True)\n",
      "data_bsl=redata_bsl.copy()\n",
      "\n",
      "inits_bsl=hddm_bsl.groupby('param').mean().to_dict()['mean']\n",
      "inits_pnl=hddm_pnl.groupby('param').mean().to_dict()['mean']\n",
      "\n",
      "for inits in [inits_bsl, inits_pnl]:\n",
      "\n",
      "    inits['v']=inits['v']/10\n",
      "    inits['a']=inits['a']/10\n",
      "    inits['z']=inits['z']*inits['a']\n",
      "\n",
      "    del inits['sv']\n",
      "    del inits['st']\n",
      "\n",
      "    inits['pGo']=.5\n",
      "    inits['ssv']=-1.0\n"
     ],
     "language": "python",
     "metadata": {},
     "outputs": [],
     "prompt_number": 4
    },
    {
     "cell_type": "heading",
     "level": 3,
     "metadata": {},
     "source": [
      "Plot Observed/Predicted Stop Curves/RT "
     ]
    },
    {
     "cell_type": "code",
     "collapsed": false,
     "input": [
      "import seaborn as sns\n",
      "psy=reload(psy)\n",
      "utils=reload(utils)\n",
      "\n",
      "sparams=utils.style_params()\n",
      "colors=sparams['colors']\n",
      "sns.set_style('ticks', rc=sparams['style'])\n",
      "sns.set_context('paper', rc=sparams['context'])\n",
      "\n",
      "stopmeans=[yd[::-1], yh[::-1]]\n",
      "stoperr=[sem['ydata'][:-1][::-1], sem['yhat'][:-1][::-1]]\n",
      "\n",
      "ax=psy.scurves(ysim=stopmeans, yerr=stoperr, title='ReBSL_SxFits_Pstop', \n",
      "               colors=[colors[-7], 'Gray'], labels=['Data', 'RADD'])\n",
      "plt.tight_layout()"
     ],
     "language": "python",
     "metadata": {},
     "outputs": []
    },
    {
     "cell_type": "code",
     "collapsed": false,
     "input": [
      "#plot rt\n",
      "ff, axx=plt.subplots(1, figsize=(4, 5.5))\n",
      "\n",
      "axx.bar(0, rtd, yerr=sem['ydata'][-1]/10, color=colors[-7], error_kw={\"elinewidth\":3,\n",
      "        \"ecolor\":'k'}, alpha=1,align='center', edgecolor=colors[-7], label='Data')\n",
      "\n",
      "axx.errorbar(0.05, rth, yerr=sem['yhat'][-1]/10, marker='o', markersize=10, \n",
      "             elinewidth=3, ecolor='k', color='Gray', linewidth=0, alpha=1, label='RADD')   \n",
      "\n",
      "plt.setp(axx, xlim=(-.7, .7), ylim=(.5, .6), ylabel='RT (s)', \n",
      "         xticks=[], xticklabels=[])\n",
      "axx.set_xlabel('Reactive Baseline', fontsize=19)\n",
      "plt.setp(axx.get_yticklabels(), fontsize=17)\n",
      "axx.set_ylabel('RT (s)', fontsize=19, labelpad=8) \n",
      "axx.legend(loc=0, fontsize=17)\n",
      "sns.despine()\n",
      "plt.tight_layout()\n",
      "ff.savefig(pth+\"OptAccRT/ReBSL_SxFits/ReBSL_SxFits_RT.png\", dpi=600)  "
     ],
     "language": "python",
     "metadata": {},
     "outputs": []
    }
   ],
   "metadata": {}
  }
 ]
}