{
 "metadata": {
  "name": "",
  "signature": "sha256:9ec075bf109c4332ade80b26ff9a34f1fa5f33b3c5f6706296be3972e133cfb1"
 },
 "nbformat": 3,
 "nbformat_minor": 0,
 "worksheets": [
  {
   "cells": [
    {
     "cell_type": "code",
     "collapsed": false,
     "input": [
      "from __future__ import division\n",
      "import os\n",
      "import numpy as np\n",
      "import scipy.stats as stats\n",
      "import pandas as pd\n",
      "import matplotlib.pyplot as plt\n",
      "\n",
      "from radd import utils, fitre\n",
      "from lmfit import Minimizer, Parameters\n",
      "from collections import OrderedDict\n",
      "\n",
      "%matplotlib inline\n",
      "pth=utils.find_path()"
     ],
     "language": "python",
     "metadata": {},
     "outputs": [],
     "prompt_number": 8
    },
    {
     "cell_type": "heading",
     "level": 1,
     "metadata": {},
     "source": [
      "Read DFs"
     ]
    },
    {
     "cell_type": "code",
     "collapsed": false,
     "input": [
      "utils=reload(utils); \n",
      "\n",
      "#df to resample for pstop\n",
      "origdf=pd.read_csv(pth+\"DataFiles/ReBSL_Data.csv\", index_col=0)\n",
      "\n",
      "#init params df\n",
      "paramdf=pd.read_csv(pth+\"ParamFiles/ReBSL_HDDM_Params.csv\", index_col='subj_idx')\n",
      "\n",
      "#go to proactive bootstrap directory\n",
      "os.chdir(utils.find_path()+\"OptAccRT/reboot/\")"
     ],
     "language": "python",
     "metadata": {},
     "outputs": [],
     "prompt_number": 9
    },
    {
     "cell_type": "heading",
     "level": 1,
     "metadata": {},
     "source": [
      "Run main bootstrapping function here"
     ]
    },
    {
     "cell_type": "code",
     "collapsed": false,
     "input": [
      "fitre=reload(fitre); utils=reload(utils); fitre=reload(fitre)\n",
      "\n",
      "ypred=main_reboot(origdf, paramdf, niter=150, ntrials=2000)"
     ],
     "language": "python",
     "metadata": {},
     "outputs": [
      {
       "output_type": "stream",
       "stream": "stdout",
       "text": [
        "Optimization terminated successfully.\n",
        "         Current function value: 0.005874\n",
        "         Iterations: 17\n",
        "         Function evaluations: 48\n",
        "Optimization terminated successfully."
       ]
      },
      {
       "output_type": "stream",
       "stream": "stdout",
       "text": [
        "\n",
        "         Current function value: 0.005655\n",
        "         Iterations: 12\n",
        "         Function evaluations: 35\n",
        "Optimization terminated successfully."
       ]
      },
      {
       "output_type": "stream",
       "stream": "stdout",
       "text": [
        "\n",
        "         Current function value: 0.006206\n",
        "         Iterations: 17\n",
        "         Function evaluations: 48\n",
        "Optimization terminated successfully."
       ]
      },
      {
       "output_type": "stream",
       "stream": "stdout",
       "text": [
        "\n",
        "         Current function value: 0.006162\n",
        "         Iterations: 19\n",
        "         Function evaluations: 47\n",
        "Optimization terminated successfully."
       ]
      },
      {
       "output_type": "stream",
       "stream": "stdout",
       "text": [
        "\n",
        "         Current function value: 0.005771\n",
        "         Iterations: 12\n",
        "         Function evaluations: 39\n",
        "Optimization terminated successfully."
       ]
      },
      {
       "output_type": "stream",
       "stream": "stdout",
       "text": [
        "\n",
        "         Current function value: 0.006587\n",
        "         Iterations: 16\n",
        "         Function evaluations: 37\n",
        "Optimization terminated successfully."
       ]
      },
      {
       "output_type": "stream",
       "stream": "stdout",
       "text": [
        "\n",
        "         Current function value: 0.006743\n",
        "         Iterations: 9\n",
        "         Function evaluations: 28\n",
        "Optimization terminated successfully."
       ]
      },
      {
       "output_type": "stream",
       "stream": "stdout",
       "text": [
        "\n",
        "         Current function value: 0.005678\n",
        "         Iterations: 9\n",
        "         Function evaluations: 34\n",
        "Optimization terminated successfully."
       ]
      },
      {
       "output_type": "stream",
       "stream": "stdout",
       "text": [
        "\n",
        "         Current function value: 0.004969\n",
        "         Iterations: 13\n",
        "         Function evaluations: 36\n",
        "Optimization terminated successfully."
       ]
      },
      {
       "output_type": "stream",
       "stream": "stdout",
       "text": [
        "\n",
        "         Current function value: 0.004932\n",
        "         Iterations: 13\n",
        "         Function evaluations: 43\n",
        "Optimization terminated successfully."
       ]
      },
      {
       "output_type": "stream",
       "stream": "stdout",
       "text": [
        "\n",
        "         Current function value: 0.005385\n",
        "         Iterations: 11\n",
        "         Function evaluations: 32\n",
        "Optimization terminated successfully."
       ]
      },
      {
       "output_type": "stream",
       "stream": "stdout",
       "text": [
        "\n",
        "         Current function value: 0.007498\n",
        "         Iterations: 12\n",
        "         Function evaluations: 34\n",
        "Optimization terminated successfully."
       ]
      },
      {
       "output_type": "stream",
       "stream": "stdout",
       "text": [
        "\n",
        "         Current function value: 0.005899\n",
        "         Iterations: 12\n",
        "         Function evaluations: 39\n",
        "Optimization terminated successfully."
       ]
      },
      {
       "output_type": "stream",
       "stream": "stdout",
       "text": [
        "\n",
        "         Current function value: 0.004987\n",
        "         Iterations: 15\n",
        "         Function evaluations: 40\n",
        "Optimization terminated successfully."
       ]
      },
      {
       "output_type": "stream",
       "stream": "stdout",
       "text": [
        "\n",
        "         Current function value: 0.006279\n",
        "         Iterations: 8\n",
        "         Function evaluations: 33\n",
        "Optimization terminated successfully."
       ]
      },
      {
       "output_type": "stream",
       "stream": "stdout",
       "text": [
        "\n",
        "         Current function value: 0.005067\n",
        "         Iterations: 13\n",
        "         Function evaluations: 40\n",
        "Optimization terminated successfully."
       ]
      },
      {
       "output_type": "stream",
       "stream": "stdout",
       "text": [
        "\n",
        "         Current function value: 0.005751\n",
        "         Iterations: 13\n",
        "         Function evaluations: 37\n",
        "Optimization terminated successfully."
       ]
      },
      {
       "output_type": "stream",
       "stream": "stdout",
       "text": [
        "\n",
        "         Current function value: 0.004723\n",
        "         Iterations: 11\n",
        "         Function evaluations: 39\n",
        "Optimization terminated successfully."
       ]
      },
      {
       "output_type": "stream",
       "stream": "stdout",
       "text": [
        "\n",
        "         Current function value: 0.004805\n",
        "         Iterations: 18\n",
        "         Function evaluations: 42\n",
        "Optimization terminated successfully."
       ]
      },
      {
       "output_type": "stream",
       "stream": "stdout",
       "text": [
        "\n",
        "         Current function value: 0.007003\n",
        "         Iterations: 17\n",
        "         Function evaluations: 47\n",
        "Optimization terminated successfully."
       ]
      },
      {
       "output_type": "stream",
       "stream": "stdout",
       "text": [
        "\n",
        "         Current function value: 0.005911\n",
        "         Iterations: 14\n",
        "         Function evaluations: 37\n",
        "Optimization terminated successfully."
       ]
      },
      {
       "output_type": "stream",
       "stream": "stdout",
       "text": [
        "\n",
        "         Current function value: 0.006092\n",
        "         Iterations: 13\n",
        "         Function evaluations: 33\n",
        "Optimization terminated successfully."
       ]
      },
      {
       "output_type": "stream",
       "stream": "stdout",
       "text": [
        "\n",
        "         Current function value: 0.006716\n",
        "         Iterations: 9\n",
        "         Function evaluations: 30\n",
        "Optimization terminated successfully."
       ]
      },
      {
       "output_type": "stream",
       "stream": "stdout",
       "text": [
        "\n",
        "         Current function value: 0.007019\n",
        "         Iterations: 15\n",
        "         Function evaluations: 38\n",
        "Optimization terminated successfully."
       ]
      },
      {
       "output_type": "stream",
       "stream": "stdout",
       "text": [
        "\n",
        "         Current function value: 0.006098\n",
        "         Iterations: 12\n",
        "         Function evaluations: 33\n",
        "Optimization terminated successfully."
       ]
      },
      {
       "output_type": "stream",
       "stream": "stdout",
       "text": [
        "\n",
        "         Current function value: 0.006399\n",
        "         Iterations: 11\n",
        "         Function evaluations: 32\n",
        "Optimization terminated successfully."
       ]
      },
      {
       "output_type": "stream",
       "stream": "stdout",
       "text": [
        "\n",
        "         Current function value: 0.006066\n",
        "         Iterations: 12\n",
        "         Function evaluations: 42\n",
        "Optimization terminated successfully."
       ]
      },
      {
       "output_type": "stream",
       "stream": "stdout",
       "text": [
        "\n",
        "         Current function value: 0.005022\n",
        "         Iterations: 12\n",
        "         Function evaluations: 39\n",
        "Optimization terminated successfully."
       ]
      },
      {
       "output_type": "stream",
       "stream": "stdout",
       "text": [
        "\n",
        "         Current function value: 0.005881\n",
        "         Iterations: 16\n",
        "         Function evaluations: 47\n",
        "Optimization terminated successfully."
       ]
      },
      {
       "output_type": "stream",
       "stream": "stdout",
       "text": [
        "\n",
        "         Current function value: 0.006620\n",
        "         Iterations: 13\n",
        "         Function evaluations: 41\n",
        "Optimization terminated successfully."
       ]
      },
      {
       "output_type": "stream",
       "stream": "stdout",
       "text": [
        "\n",
        "         Current function value: 0.005121\n",
        "         Iterations: 14\n",
        "         Function evaluations: 38\n",
        "Optimization terminated successfully."
       ]
      },
      {
       "output_type": "stream",
       "stream": "stdout",
       "text": [
        "\n",
        "         Current function value: 0.006123\n",
        "         Iterations: 9\n",
        "         Function evaluations: 31\n",
        "Optimization terminated successfully."
       ]
      },
      {
       "output_type": "stream",
       "stream": "stdout",
       "text": [
        "\n",
        "         Current function value: 0.005307\n",
        "         Iterations: 15\n",
        "         Function evaluations: 46\n",
        "Optimization terminated successfully."
       ]
      },
      {
       "output_type": "stream",
       "stream": "stdout",
       "text": [
        "\n",
        "         Current function value: 0.005436\n",
        "         Iterations: 14\n",
        "         Function evaluations: 41\n",
        "Optimization terminated successfully."
       ]
      },
      {
       "output_type": "stream",
       "stream": "stdout",
       "text": [
        "\n",
        "         Current function value: 0.004271\n",
        "         Iterations: 10\n",
        "         Function evaluations: 33\n",
        "Optimization terminated successfully."
       ]
      },
      {
       "output_type": "stream",
       "stream": "stdout",
       "text": [
        "\n",
        "         Current function value: 0.006211\n",
        "         Iterations: 10\n",
        "         Function evaluations: 33\n",
        "Optimization terminated successfully."
       ]
      },
      {
       "output_type": "stream",
       "stream": "stdout",
       "text": [
        "\n",
        "         Current function value: 0.005585\n",
        "         Iterations: 14\n",
        "         Function evaluations: 37\n",
        "Optimization terminated successfully."
       ]
      },
      {
       "output_type": "stream",
       "stream": "stdout",
       "text": [
        "\n",
        "         Current function value: 0.004060\n",
        "         Iterations: 17\n",
        "         Function evaluations: 42\n",
        "Optimization terminated successfully."
       ]
      },
      {
       "output_type": "stream",
       "stream": "stdout",
       "text": [
        "\n",
        "         Current function value: 0.006415\n",
        "         Iterations: 12\n",
        "         Function evaluations: 39\n",
        "Optimization terminated successfully."
       ]
      },
      {
       "output_type": "stream",
       "stream": "stdout",
       "text": [
        "\n",
        "         Current function value: 0.006321\n",
        "         Iterations: 14\n",
        "         Function evaluations: 42\n",
        "Optimization terminated successfully."
       ]
      },
      {
       "output_type": "stream",
       "stream": "stdout",
       "text": [
        "\n",
        "         Current function value: 0.006334\n",
        "         Iterations: 17\n",
        "         Function evaluations: 46\n",
        "Optimization terminated successfully."
       ]
      },
      {
       "output_type": "stream",
       "stream": "stdout",
       "text": [
        "\n",
        "         Current function value: 0.006295\n",
        "         Iterations: 14\n",
        "         Function evaluations: 34\n",
        "Optimization terminated successfully."
       ]
      },
      {
       "output_type": "stream",
       "stream": "stdout",
       "text": [
        "\n",
        "         Current function value: 0.003851\n",
        "         Iterations: 24\n",
        "         Function evaluations: 53\n",
        "Optimization terminated successfully."
       ]
      },
      {
       "output_type": "stream",
       "stream": "stdout",
       "text": [
        "\n",
        "         Current function value: 0.006373\n",
        "         Iterations: 14\n",
        "         Function evaluations: 45\n",
        "Optimization terminated successfully."
       ]
      },
      {
       "output_type": "stream",
       "stream": "stdout",
       "text": [
        "\n",
        "         Current function value: 0.004898\n",
        "         Iterations: 10\n",
        "         Function evaluations: 37\n",
        "Optimization terminated successfully."
       ]
      },
      {
       "output_type": "stream",
       "stream": "stdout",
       "text": [
        "\n",
        "         Current function value: 0.005232\n",
        "         Iterations: 14\n",
        "         Function evaluations: 43\n",
        "Optimization terminated successfully."
       ]
      },
      {
       "output_type": "stream",
       "stream": "stdout",
       "text": [
        "\n",
        "         Current function value: 0.006569\n",
        "         Iterations: 14\n",
        "         Function evaluations: 39\n",
        "Optimization terminated successfully."
       ]
      },
      {
       "output_type": "stream",
       "stream": "stdout",
       "text": [
        "\n",
        "         Current function value: 0.004814\n",
        "         Iterations: 12\n",
        "         Function evaluations: 39\n",
        "Optimization terminated successfully."
       ]
      },
      {
       "output_type": "stream",
       "stream": "stdout",
       "text": [
        "\n",
        "         Current function value: 0.005916\n",
        "         Iterations: 14\n",
        "         Function evaluations: 39\n",
        "Optimization terminated successfully."
       ]
      },
      {
       "output_type": "stream",
       "stream": "stdout",
       "text": [
        "\n",
        "         Current function value: 0.006791\n",
        "         Iterations: 10\n",
        "         Function evaluations: 32\n",
        "Optimization terminated successfully."
       ]
      },
      {
       "output_type": "stream",
       "stream": "stdout",
       "text": [
        "\n",
        "         Current function value: 0.006505\n",
        "         Iterations: 14\n",
        "         Function evaluations: 37\n",
        "Optimization terminated successfully."
       ]
      },
      {
       "output_type": "stream",
       "stream": "stdout",
       "text": [
        "\n",
        "         Current function value: 0.005639\n",
        "         Iterations: 13\n",
        "         Function evaluations: 37\n",
        "Optimization terminated successfully."
       ]
      },
      {
       "output_type": "stream",
       "stream": "stdout",
       "text": [
        "\n",
        "         Current function value: 0.005916\n",
        "         Iterations: 12\n",
        "         Function evaluations: 40\n",
        "Optimization terminated successfully."
       ]
      },
      {
       "output_type": "stream",
       "stream": "stdout",
       "text": [
        "\n",
        "         Current function value: 0.005713\n",
        "         Iterations: 12\n",
        "         Function evaluations: 35\n",
        "Optimization terminated successfully."
       ]
      },
      {
       "output_type": "stream",
       "stream": "stdout",
       "text": [
        "\n",
        "         Current function value: 0.005508\n",
        "         Iterations: 14\n",
        "         Function evaluations: 36\n",
        "Optimization terminated successfully."
       ]
      },
      {
       "output_type": "stream",
       "stream": "stdout",
       "text": [
        "\n",
        "         Current function value: 0.006467\n",
        "         Iterations: 14\n",
        "         Function evaluations: 36\n",
        "Optimization terminated successfully."
       ]
      },
      {
       "output_type": "stream",
       "stream": "stdout",
       "text": [
        "\n",
        "         Current function value: 0.005531\n",
        "         Iterations: 16\n",
        "         Function evaluations: 43\n",
        "Optimization terminated successfully."
       ]
      },
      {
       "output_type": "stream",
       "stream": "stdout",
       "text": [
        "\n",
        "         Current function value: 0.004968\n",
        "         Iterations: 14\n",
        "         Function evaluations: 36\n",
        "Optimization terminated successfully."
       ]
      },
      {
       "output_type": "stream",
       "stream": "stdout",
       "text": [
        "\n",
        "         Current function value: 0.006389\n",
        "         Iterations: 14\n",
        "         Function evaluations: 38\n",
        "Optimization terminated successfully."
       ]
      },
      {
       "output_type": "stream",
       "stream": "stdout",
       "text": [
        "\n",
        "         Current function value: 0.005894\n",
        "         Iterations: 12\n",
        "         Function evaluations: 36\n",
        "Optimization terminated successfully."
       ]
      },
      {
       "output_type": "stream",
       "stream": "stdout",
       "text": [
        "\n",
        "         Current function value: 0.005598\n",
        "         Iterations: 11\n",
        "         Function evaluations: 32\n",
        "Optimization terminated successfully."
       ]
      },
      {
       "output_type": "stream",
       "stream": "stdout",
       "text": [
        "\n",
        "         Current function value: 0.006221\n",
        "         Iterations: 6\n",
        "         Function evaluations: 25\n",
        "Optimization terminated successfully."
       ]
      },
      {
       "output_type": "stream",
       "stream": "stdout",
       "text": [
        "\n",
        "         Current function value: 0.005665\n",
        "         Iterations: 15\n",
        "         Function evaluations: 43\n",
        "Optimization terminated successfully."
       ]
      },
      {
       "output_type": "stream",
       "stream": "stdout",
       "text": [
        "\n",
        "         Current function value: 0.006166\n",
        "         Iterations: 9\n",
        "         Function evaluations: 36\n",
        "Optimization terminated successfully."
       ]
      },
      {
       "output_type": "stream",
       "stream": "stdout",
       "text": [
        "\n",
        "         Current function value: 0.005882\n",
        "         Iterations: 19\n",
        "         Function evaluations: 49\n",
        "Optimization terminated successfully."
       ]
      },
      {
       "output_type": "stream",
       "stream": "stdout",
       "text": [
        "\n",
        "         Current function value: 0.006051\n",
        "         Iterations: 20\n",
        "         Function evaluations: 48\n",
        "Optimization terminated successfully."
       ]
      },
      {
       "output_type": "stream",
       "stream": "stdout",
       "text": [
        "\n",
        "         Current function value: 0.006121\n",
        "         Iterations: 13\n",
        "         Function evaluations: 36\n",
        "Optimization terminated successfully."
       ]
      },
      {
       "output_type": "stream",
       "stream": "stdout",
       "text": [
        "\n",
        "         Current function value: 0.007163\n",
        "         Iterations: 13\n",
        "         Function evaluations: 35\n",
        "Optimization terminated successfully."
       ]
      },
      {
       "output_type": "stream",
       "stream": "stdout",
       "text": [
        "\n",
        "         Current function value: 0.006682\n",
        "         Iterations: 12\n",
        "         Function evaluations: 34\n",
        "Optimization terminated successfully."
       ]
      },
      {
       "output_type": "stream",
       "stream": "stdout",
       "text": [
        "\n",
        "         Current function value: 0.006100\n",
        "         Iterations: 14\n",
        "         Function evaluations: 40\n",
        "Optimization terminated successfully."
       ]
      },
      {
       "output_type": "stream",
       "stream": "stdout",
       "text": [
        "\n",
        "         Current function value: 0.006464\n",
        "         Iterations: 12\n",
        "         Function evaluations: 39\n",
        "Optimization terminated successfully."
       ]
      },
      {
       "output_type": "stream",
       "stream": "stdout",
       "text": [
        "\n",
        "         Current function value: 0.005500\n",
        "         Iterations: 8\n",
        "         Function evaluations: 35\n",
        "Optimization terminated successfully."
       ]
      },
      {
       "output_type": "stream",
       "stream": "stdout",
       "text": [
        "\n",
        "         Current function value: 0.004868\n",
        "         Iterations: 12\n",
        "         Function evaluations: 35\n",
        "Optimization terminated successfully."
       ]
      },
      {
       "output_type": "stream",
       "stream": "stdout",
       "text": [
        "\n",
        "         Current function value: 0.005999\n",
        "         Iterations: 8\n",
        "         Function evaluations: 29\n",
        "Optimization terminated successfully."
       ]
      },
      {
       "output_type": "stream",
       "stream": "stdout",
       "text": [
        "\n",
        "         Current function value: 0.005960\n",
        "         Iterations: 17\n",
        "         Function evaluations: 40\n",
        "Optimization terminated successfully."
       ]
      },
      {
       "output_type": "stream",
       "stream": "stdout",
       "text": [
        "\n",
        "         Current function value: 0.006239\n",
        "         Iterations: 9\n",
        "         Function evaluations: 36\n",
        "Optimization terminated successfully."
       ]
      },
      {
       "output_type": "stream",
       "stream": "stdout",
       "text": [
        "\n",
        "         Current function value: 0.005143\n",
        "         Iterations: 11\n",
        "         Function evaluations: 32\n",
        "Optimization terminated successfully."
       ]
      },
      {
       "output_type": "stream",
       "stream": "stdout",
       "text": [
        "\n",
        "         Current function value: 0.005152\n",
        "         Iterations: 19\n",
        "         Function evaluations: 44\n",
        "Optimization terminated successfully."
       ]
      },
      {
       "output_type": "stream",
       "stream": "stdout",
       "text": [
        "\n",
        "         Current function value: 0.005651\n",
        "         Iterations: 11\n",
        "         Function evaluations: 38\n",
        "Optimization terminated successfully."
       ]
      },
      {
       "output_type": "stream",
       "stream": "stdout",
       "text": [
        "\n",
        "         Current function value: 0.007003\n",
        "         Iterations: 13\n",
        "         Function evaluations: 37\n",
        "Optimization terminated successfully."
       ]
      },
      {
       "output_type": "stream",
       "stream": "stdout",
       "text": [
        "\n",
        "         Current function value: 0.005134\n",
        "         Iterations: 18\n",
        "         Function evaluations: 45\n",
        "Optimization terminated successfully."
       ]
      },
      {
       "output_type": "stream",
       "stream": "stdout",
       "text": [
        "\n",
        "         Current function value: 0.006025\n",
        "         Iterations: 12\n",
        "         Function evaluations: 34\n",
        "Optimization terminated successfully."
       ]
      },
      {
       "output_type": "stream",
       "stream": "stdout",
       "text": [
        "\n",
        "         Current function value: 0.005253\n",
        "         Iterations: 18\n",
        "         Function evaluations: 48\n",
        "Optimization terminated successfully."
       ]
      },
      {
       "output_type": "stream",
       "stream": "stdout",
       "text": [
        "\n",
        "         Current function value: 0.004755\n",
        "         Iterations: 14\n",
        "         Function evaluations: 42\n",
        "Optimization terminated successfully."
       ]
      },
      {
       "output_type": "stream",
       "stream": "stdout",
       "text": [
        "\n",
        "         Current function value: 0.005455\n",
        "         Iterations: 15\n",
        "         Function evaluations: 38\n",
        "Optimization terminated successfully."
       ]
      },
      {
       "output_type": "stream",
       "stream": "stdout",
       "text": [
        "\n",
        "         Current function value: 0.006389\n",
        "         Iterations: 11\n",
        "         Function evaluations: 33\n",
        "Optimization terminated successfully."
       ]
      },
      {
       "output_type": "stream",
       "stream": "stdout",
       "text": [
        "\n",
        "         Current function value: 0.006335\n",
        "         Iterations: 6\n",
        "         Function evaluations: 25\n",
        "Optimization terminated successfully."
       ]
      },
      {
       "output_type": "stream",
       "stream": "stdout",
       "text": [
        "\n",
        "         Current function value: 0.005466\n",
        "         Iterations: 14\n",
        "         Function evaluations: 39\n",
        "Optimization terminated successfully."
       ]
      },
      {
       "output_type": "stream",
       "stream": "stdout",
       "text": [
        "\n",
        "         Current function value: 0.006608\n",
        "         Iterations: 13\n",
        "         Function evaluations: 36\n",
        "Optimization terminated successfully."
       ]
      },
      {
       "output_type": "stream",
       "stream": "stdout",
       "text": [
        "\n",
        "         Current function value: 0.006966\n",
        "         Iterations: 13\n",
        "         Function evaluations: 37\n",
        "Optimization terminated successfully."
       ]
      },
      {
       "output_type": "stream",
       "stream": "stdout",
       "text": [
        "\n",
        "         Current function value: 0.004948\n",
        "         Iterations: 16\n",
        "         Function evaluations: 45\n",
        "Optimization terminated successfully."
       ]
      },
      {
       "output_type": "stream",
       "stream": "stdout",
       "text": [
        "\n",
        "         Current function value: 0.005518\n",
        "         Iterations: 19\n",
        "         Function evaluations: 44\n",
        "Optimization terminated successfully."
       ]
      },
      {
       "output_type": "stream",
       "stream": "stdout",
       "text": [
        "\n",
        "         Current function value: 0.005362\n",
        "         Iterations: 10\n",
        "         Function evaluations: 37\n",
        "Optimization terminated successfully."
       ]
      },
      {
       "output_type": "stream",
       "stream": "stdout",
       "text": [
        "\n",
        "         Current function value: 0.005480\n",
        "         Iterations: 18\n",
        "         Function evaluations: 48\n",
        "Optimization terminated successfully."
       ]
      },
      {
       "output_type": "stream",
       "stream": "stdout",
       "text": [
        "\n",
        "         Current function value: 0.006169\n",
        "         Iterations: 20\n",
        "         Function evaluations: 51\n",
        "Optimization terminated successfully."
       ]
      },
      {
       "output_type": "stream",
       "stream": "stdout",
       "text": [
        "\n",
        "         Current function value: 0.005984\n",
        "         Iterations: 10\n",
        "         Function evaluations: 38\n",
        "Optimization terminated successfully."
       ]
      },
      {
       "output_type": "stream",
       "stream": "stdout",
       "text": [
        "\n",
        "         Current function value: 0.005597\n",
        "         Iterations: 17\n",
        "         Function evaluations: 40\n",
        "Optimization terminated successfully."
       ]
      },
      {
       "output_type": "stream",
       "stream": "stdout",
       "text": [
        "\n",
        "         Current function value: 0.005483\n",
        "         Iterations: 9\n",
        "         Function evaluations: 34\n",
        "Optimization terminated successfully."
       ]
      },
      {
       "output_type": "stream",
       "stream": "stdout",
       "text": [
        "\n",
        "         Current function value: 0.006639\n",
        "         Iterations: 23\n",
        "         Function evaluations: 52\n",
        "Optimization terminated successfully."
       ]
      },
      {
       "output_type": "stream",
       "stream": "stdout",
       "text": [
        "\n",
        "         Current function value: 0.005773\n",
        "         Iterations: 9\n",
        "         Function evaluations: 29\n",
        "Optimization terminated successfully."
       ]
      },
      {
       "output_type": "stream",
       "stream": "stdout",
       "text": [
        "\n",
        "         Current function value: 0.005334\n",
        "         Iterations: 14\n",
        "         Function evaluations: 38\n",
        "Optimization terminated successfully."
       ]
      },
      {
       "output_type": "stream",
       "stream": "stdout",
       "text": [
        "\n",
        "         Current function value: 0.004369\n",
        "         Iterations: 16\n",
        "         Function evaluations: 44\n",
        "Optimization terminated successfully."
       ]
      },
      {
       "output_type": "stream",
       "stream": "stdout",
       "text": [
        "\n",
        "         Current function value: 0.005413\n",
        "         Iterations: 21\n",
        "         Function evaluations: 51\n",
        "Optimization terminated successfully."
       ]
      },
      {
       "output_type": "stream",
       "stream": "stdout",
       "text": [
        "\n",
        "         Current function value: 0.005014\n",
        "         Iterations: 14\n",
        "         Function evaluations: 36\n",
        "Optimization terminated successfully."
       ]
      },
      {
       "output_type": "stream",
       "stream": "stdout",
       "text": [
        "\n",
        "         Current function value: 0.005805\n",
        "         Iterations: 16\n",
        "         Function evaluations: 39\n",
        "Optimization terminated successfully."
       ]
      },
      {
       "output_type": "stream",
       "stream": "stdout",
       "text": [
        "\n",
        "         Current function value: 0.004693\n",
        "         Iterations: 14\n",
        "         Function evaluations: 45\n",
        "Optimization terminated successfully."
       ]
      },
      {
       "output_type": "stream",
       "stream": "stdout",
       "text": [
        "\n",
        "         Current function value: 0.006120\n",
        "         Iterations: 20\n",
        "         Function evaluations: 48\n",
        "Optimization terminated successfully."
       ]
      },
      {
       "output_type": "stream",
       "stream": "stdout",
       "text": [
        "\n",
        "         Current function value: 0.006201\n",
        "         Iterations: 13\n",
        "         Function evaluations: 41\n",
        "Optimization terminated successfully."
       ]
      },
      {
       "output_type": "stream",
       "stream": "stdout",
       "text": [
        "\n",
        "         Current function value: 0.005695\n",
        "         Iterations: 15\n",
        "         Function evaluations: 39\n",
        "Optimization terminated successfully."
       ]
      },
      {
       "output_type": "stream",
       "stream": "stdout",
       "text": [
        "\n",
        "         Current function value: 0.006058\n",
        "         Iterations: 14\n",
        "         Function evaluations: 34\n",
        "Optimization terminated successfully."
       ]
      },
      {
       "output_type": "stream",
       "stream": "stdout",
       "text": [
        "\n",
        "         Current function value: 0.007006\n",
        "         Iterations: 12\n",
        "         Function evaluations: 39\n",
        "Optimization terminated successfully."
       ]
      },
      {
       "output_type": "stream",
       "stream": "stdout",
       "text": [
        "\n",
        "         Current function value: 0.006165\n",
        "         Iterations: 16\n",
        "         Function evaluations: 46\n",
        "Optimization terminated successfully."
       ]
      },
      {
       "output_type": "stream",
       "stream": "stdout",
       "text": [
        "\n",
        "         Current function value: 0.005806\n",
        "         Iterations: 16\n",
        "         Function evaluations: 45\n",
        "Optimization terminated successfully."
       ]
      },
      {
       "output_type": "stream",
       "stream": "stdout",
       "text": [
        "\n",
        "         Current function value: 0.006406\n",
        "         Iterations: 10\n",
        "         Function evaluations: 37\n",
        "Optimization terminated successfully."
       ]
      },
      {
       "output_type": "stream",
       "stream": "stdout",
       "text": [
        "\n",
        "         Current function value: 0.005339\n",
        "         Iterations: 11\n",
        "         Function evaluations: 33\n",
        "Optimization terminated successfully."
       ]
      },
      {
       "output_type": "stream",
       "stream": "stdout",
       "text": [
        "\n",
        "         Current function value: 0.005891\n",
        "         Iterations: 13\n",
        "         Function evaluations: 36\n",
        "Optimization terminated successfully."
       ]
      },
      {
       "output_type": "stream",
       "stream": "stdout",
       "text": [
        "\n",
        "         Current function value: 0.004294\n",
        "         Iterations: 15\n",
        "         Function evaluations: 41\n",
        "Optimization terminated successfully."
       ]
      },
      {
       "output_type": "stream",
       "stream": "stdout",
       "text": [
        "\n",
        "         Current function value: 0.006492\n",
        "         Iterations: 14\n",
        "         Function evaluations: 43\n",
        "Optimization terminated successfully."
       ]
      },
      {
       "output_type": "stream",
       "stream": "stdout",
       "text": [
        "\n",
        "         Current function value: 0.005527\n",
        "         Iterations: 12\n",
        "         Function evaluations: 34\n",
        "Optimization terminated successfully."
       ]
      },
      {
       "output_type": "stream",
       "stream": "stdout",
       "text": [
        "\n",
        "         Current function value: 0.006205\n",
        "         Iterations: 10\n",
        "         Function evaluations: 31\n",
        "Optimization terminated successfully."
       ]
      },
      {
       "output_type": "stream",
       "stream": "stdout",
       "text": [
        "\n",
        "         Current function value: 0.006194\n",
        "         Iterations: 13\n",
        "         Function evaluations: 43\n",
        "Optimization terminated successfully."
       ]
      },
      {
       "output_type": "stream",
       "stream": "stdout",
       "text": [
        "\n",
        "         Current function value: 0.006003\n",
        "         Iterations: 9\n",
        "         Function evaluations: 30\n",
        "Optimization terminated successfully."
       ]
      },
      {
       "output_type": "stream",
       "stream": "stdout",
       "text": [
        "\n",
        "         Current function value: 0.006297\n",
        "         Iterations: 12\n",
        "         Function evaluations: 40\n",
        "Optimization terminated successfully."
       ]
      },
      {
       "output_type": "stream",
       "stream": "stdout",
       "text": [
        "\n",
        "         Current function value: 0.006094\n",
        "         Iterations: 18\n",
        "         Function evaluations: 50\n",
        "Optimization terminated successfully."
       ]
      },
      {
       "output_type": "stream",
       "stream": "stdout",
       "text": [
        "\n",
        "         Current function value: 0.005502\n",
        "         Iterations: 14\n",
        "         Function evaluations: 37\n",
        "Optimization terminated successfully."
       ]
      },
      {
       "output_type": "stream",
       "stream": "stdout",
       "text": [
        "\n",
        "         Current function value: 0.006377\n",
        "         Iterations: 13\n",
        "         Function evaluations: 34\n",
        "Optimization terminated successfully."
       ]
      },
      {
       "output_type": "stream",
       "stream": "stdout",
       "text": [
        "\n",
        "         Current function value: 0.005174\n",
        "         Iterations: 12\n",
        "         Function evaluations: 40\n",
        "Optimization terminated successfully."
       ]
      },
      {
       "output_type": "stream",
       "stream": "stdout",
       "text": [
        "\n",
        "         Current function value: 0.006054\n",
        "         Iterations: 18\n",
        "         Function evaluations: 44\n",
        "Optimization terminated successfully."
       ]
      },
      {
       "output_type": "stream",
       "stream": "stdout",
       "text": [
        "\n",
        "         Current function value: 0.005494\n",
        "         Iterations: 16\n",
        "         Function evaluations: 40\n",
        "Optimization terminated successfully."
       ]
      },
      {
       "output_type": "stream",
       "stream": "stdout",
       "text": [
        "\n",
        "         Current function value: 0.006620\n",
        "         Iterations: 10\n",
        "         Function evaluations: 30\n",
        "Optimization terminated successfully."
       ]
      },
      {
       "output_type": "stream",
       "stream": "stdout",
       "text": [
        "\n",
        "         Current function value: 0.004914\n",
        "         Iterations: 15\n",
        "         Function evaluations: 43\n",
        "Optimization terminated successfully."
       ]
      },
      {
       "output_type": "stream",
       "stream": "stdout",
       "text": [
        "\n",
        "         Current function value: 0.005894\n",
        "         Iterations: 13\n",
        "         Function evaluations: 40\n",
        "Optimization terminated successfully."
       ]
      },
      {
       "output_type": "stream",
       "stream": "stdout",
       "text": [
        "\n",
        "         Current function value: 0.006076\n",
        "         Iterations: 9\n",
        "         Function evaluations: 34\n",
        "Optimization terminated successfully."
       ]
      },
      {
       "output_type": "stream",
       "stream": "stdout",
       "text": [
        "\n",
        "         Current function value: 0.004986\n",
        "         Iterations: 15\n",
        "         Function evaluations: 43\n",
        "Optimization terminated successfully."
       ]
      },
      {
       "output_type": "stream",
       "stream": "stdout",
       "text": [
        "\n",
        "         Current function value: 0.004868\n",
        "         Iterations: 10\n",
        "         Function evaluations: 37\n",
        "Optimization terminated successfully."
       ]
      },
      {
       "output_type": "stream",
       "stream": "stdout",
       "text": [
        "\n",
        "         Current function value: 0.005960\n",
        "         Iterations: 15\n",
        "         Function evaluations: 45\n",
        "Optimization terminated successfully."
       ]
      },
      {
       "output_type": "stream",
       "stream": "stdout",
       "text": [
        "\n",
        "         Current function value: 0.006673\n",
        "         Iterations: 15\n",
        "         Function evaluations: 37\n",
        "Optimization terminated successfully."
       ]
      },
      {
       "output_type": "stream",
       "stream": "stdout",
       "text": [
        "\n",
        "         Current function value: 0.004376\n",
        "         Iterations: 16\n",
        "         Function evaluations: 46\n",
        "Optimization terminated successfully."
       ]
      },
      {
       "output_type": "stream",
       "stream": "stdout",
       "text": [
        "\n",
        "         Current function value: 0.004438\n",
        "         Iterations: 13\n",
        "         Function evaluations: 35\n",
        "Optimization terminated successfully."
       ]
      },
      {
       "output_type": "stream",
       "stream": "stdout",
       "text": [
        "\n",
        "         Current function value: 0.006196\n",
        "         Iterations: 9\n",
        "         Function evaluations: 35\n",
        "Optimization terminated successfully."
       ]
      },
      {
       "output_type": "stream",
       "stream": "stdout",
       "text": [
        "\n",
        "         Current function value: 0.005362\n",
        "         Iterations: 14\n",
        "         Function evaluations: 41\n",
        "Optimization terminated successfully."
       ]
      },
      {
       "output_type": "stream",
       "stream": "stdout",
       "text": [
        "\n",
        "         Current function value: 0.005863\n",
        "         Iterations: 10\n",
        "         Function evaluations: 32\n",
        "Optimization terminated successfully."
       ]
      },
      {
       "output_type": "stream",
       "stream": "stdout",
       "text": [
        "\n",
        "         Current function value: 0.005495\n",
        "         Iterations: 15\n",
        "         Function evaluations: 41\n",
        "Optimization terminated successfully."
       ]
      },
      {
       "output_type": "stream",
       "stream": "stdout",
       "text": [
        "\n",
        "         Current function value: 0.006923\n",
        "         Iterations: 9\n",
        "         Function evaluations: 30\n",
        "Optimization terminated successfully."
       ]
      },
      {
       "output_type": "stream",
       "stream": "stdout",
       "text": [
        "\n",
        "         Current function value: 0.004902\n",
        "         Iterations: 13\n",
        "         Function evaluations: 41\n",
        "Optimization terminated successfully."
       ]
      },
      {
       "output_type": "stream",
       "stream": "stdout",
       "text": [
        "\n",
        "         Current function value: 0.005955\n",
        "         Iterations: 12\n",
        "         Function evaluations: 35\n",
        "Optimization terminated successfully."
       ]
      },
      {
       "output_type": "stream",
       "stream": "stdout",
       "text": [
        "\n",
        "         Current function value: 0.005789\n",
        "         Iterations: 11\n",
        "         Function evaluations: 38\n",
        "Optimization terminated successfully."
       ]
      },
      {
       "output_type": "stream",
       "stream": "stdout",
       "text": [
        "\n",
        "         Current function value: 0.005473\n",
        "         Iterations: 10\n",
        "         Function evaluations: 30\n",
        "Optimization terminated successfully."
       ]
      },
      {
       "output_type": "stream",
       "stream": "stdout",
       "text": [
        "\n",
        "         Current function value: 0.006057\n",
        "         Iterations: 9\n",
        "         Function evaluations: 34\n",
        "Optimization terminated successfully."
       ]
      },
      {
       "output_type": "stream",
       "stream": "stdout",
       "text": [
        "\n",
        "         Current function value: 0.005710\n",
        "         Iterations: 15\n",
        "         Function evaluations: 44\n"
       ]
      }
     ],
     "prompt_number": 16
    },
    {
     "cell_type": "heading",
     "level": 1,
     "metadata": {},
     "source": [
      "Main bootstrapping function"
     ]
    },
    {
     "cell_type": "code",
     "collapsed": false,
     "input": [
      "def main_reboot(data, params, niter=200, ntrials=2000):\n",
      "    \n",
      "    pth=utils.find_path()+\"OptAccRT/reboot/\"\n",
      "    \n",
      "    inits=params.mean()\n",
      "    fit_results=list()\n",
      "    cols=[200, 250, 300, 350, 400, 'rt']\n",
      "    y_pred=pd.DataFrame(columns=cols, index=np.arange(niter))\n",
      "    \n",
      "    for i in range(niter):\n",
      "        \n",
      "        yxdf=pd.DataFrame(columns=cols, index=data.subj_idx.unique())\n",
      "        # sample proportionally given experimental trial counts \n",
      "        # like generating synthetic sx THEN averging\n",
      "        # more similar to how we calculated the \n",
      "        # empirical means we fit on, better index of \n",
      "        # observed variability\n",
      "        for nsample in yxdf.index.values:    \n",
      "            sample_y = resample_reactive(data)\n",
      "            yxdf.loc[nsample] = sample_y\n",
      "            \n",
      "        bxY=yxdf.mean().values\n",
      "        \n",
      "        fits_i, yhat_i = fit_reactive(bxY, inits=inits, nx=i, ntrials=ntrials, names=cols)\n",
      "\n",
      "        fit_results.append(fits_i)   \n",
      "        y_pred.loc[i,:]=np.array(yhat_i)\n",
      "        y_pred.to_csv(pth+\"subsample_reboot_yhat_bsl.csv\", index=False)\n",
      "        \n",
      "    fit_df=pd.concat(fit_results)\n",
      "    fit_df.to_csv(pth+\"subsample_reboot_fits_bsl.csv\")\n",
      "    \n",
      "    return y_pred"
     ],
     "language": "python",
     "metadata": {},
     "outputs": [],
     "prompt_number": 14
    },
    {
     "cell_type": "heading",
     "level": 1,
     "metadata": {},
     "source": [
      "Fit single reactive dataset"
     ]
    },
    {
     "cell_type": "code",
     "collapsed": false,
     "input": [
      "def fit_reactive(y, inits={}, names=[], nx=0, ntrials=2000, **kwargs):\n",
      "    \n",
      "    inits['pGo']=.50\n",
      "    \n",
      "    p=Parameters()\n",
      "    p.add('ssv', value=inits['ssv'], vary=True)\n",
      "    p.add('a', value=inits['a'], min=0.0, vary=True)\n",
      "    p.add('v', value=inits['v'], min=0.0, vary=True)\n",
      "    p.add('t', value=inits['t'], min=0.0, max=.649, vary=True)\n",
      "    p.add('z', value=inits['z'], min=0.0, vary=True)\n",
      "\n",
      "    popt = Minimizer(fitre.ssre_minfunc, p, fcn_args=(inits, y, ntrials), method='Nelder-Mead') \n",
      "    popt.fmin(maxfun=200, ftol=5.e-2, xtol=1.e-2, full_output=True, disp=True)\n",
      "    yhat_i=y+popt.residual\n",
      "    \n",
      "    fit_results=pd.DataFrame.from_dict(OrderedDict([('niter',nx), ('names',names), \n",
      "                                    ('y',y), ('yhat',yhat_i), ('resid',popt.residual), \n",
      "                                    ('chi',[popt.chisqr]*len(names))]), orient='columns')\n",
      "\n",
      "    return fit_results, yhat_i"
     ],
     "language": "python",
     "metadata": {},
     "outputs": [],
     "prompt_number": 15
    },
    {
     "cell_type": "heading",
     "level": 1,
     "metadata": {},
     "source": [
      "Resample index for reactive DF"
     ]
    },
    {
     "cell_type": "code",
     "collapsed": false,
     "input": [
      "def resample_reactive(df, n=None):\n",
      "    \n",
      "    bootlist=list()\n",
      "    df=df.copy()\n",
      "\n",
      "    for ssd, ssdf in df.groupby('ssd'):\n",
      "        \n",
      "        if n==None:\n",
      "            n=len(ssdf)\n",
      "        \n",
      "        boots = ssdf.reset_index(drop=True)\n",
      "        orig_ix=np.asarray(boots.index[:])\n",
      "        \n",
      "        resampled_ix=rwr(orig_ix, get_index=True, n=n)\n",
      "        bootdf=ssdf.irow(resampled_ix)\n",
      "\n",
      "        bootlist.append(bootdf)\n",
      "\n",
      "    #concatenate all resampled conditions\n",
      "    bootdf=pd.concat(bootlist)\n",
      "\n",
      "    sample_y=list(bootdf[bootdf['trial_type']=='stop'].groupby('ssd').mean()['acc'].values)\t\n",
      "    mrt=bootdf[(bootdf['acc']==1)&(bootdf['response']==1)].groupby('ssd').mean()['rt'].mean()*10\n",
      "    sample_y.append(mrt)\n",
      "    \n",
      "    return sample_y"
     ],
     "language": "python",
     "metadata": {},
     "outputs": [],
     "prompt_number": 12
    },
    {
     "cell_type": "heading",
     "level": 1,
     "metadata": {},
     "source": [
      "Generic resample with replacement algorithm"
     ]
    },
    {
     "cell_type": "code",
     "collapsed": false,
     "input": [
      "def rwr(X, get_index=False, n=None):\n",
      "    \n",
      "    \"\"\"\n",
      "    Modified from http://nbviewer.ipython.org/gist/aflaxman/6871948\n",
      "    \"\"\"\n",
      "\n",
      "    if isinstance(X, pd.Series):\n",
      "        X = X.copy()\n",
      "        X.index = range(len(X.index))\n",
      "    if n == None:\n",
      "        n = len(X)\n",
      "    \n",
      "    \n",
      "    resample_i = np.floor(np.random.rand(n)*len(X)).astype(int)\n",
      "    X_resample = np.array(X[resample_i])\n",
      "    \n",
      "    if get_index:\n",
      "        return resample_i\n",
      "    else:\n",
      "        return X_resample"
     ],
     "language": "python",
     "metadata": {},
     "outputs": [],
     "prompt_number": 13
    },
    {
     "cell_type": "code",
     "collapsed": false,
     "input": [],
     "language": "python",
     "metadata": {},
     "outputs": []
    }
   ],
   "metadata": {}
  }
 ]
}