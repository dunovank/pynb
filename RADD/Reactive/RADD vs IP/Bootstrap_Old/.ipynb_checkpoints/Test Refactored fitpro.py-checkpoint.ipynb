{
 "metadata": {
  "name": "",
  "signature": "sha256:c0952de961c2789d209476ece362975beec5bd0e416680ebc340bfa399c7f715"
 },
 "nbformat": 3,
 "nbformat_minor": 0,
 "worksheets": [
  {
   "cells": [
    {
     "cell_type": "code",
     "collapsed": false,
     "input": [
      "import scipy.stats as stats\n",
      "import matplotlib.pyplot as plt\n",
      "from radd import utils, fitpro, vis, boots\n",
      "from lmfit import Minimizer, Parameters\n",
      "from collections import OrderedDict\n",
      "pth=utils.find_path()"
     ],
     "language": "python",
     "metadata": {},
     "outputs": [],
     "prompt_number": 3
    },
    {
     "cell_type": "heading",
     "level": 1,
     "metadata": {},
     "source": [
      "Read DFs"
     ]
    },
    {
     "cell_type": "code",
     "collapsed": false,
     "input": [
      "utils=reload(utils); \n",
      "\n",
      "#df to resample for pstop\n",
      "origdf=pd.read_csv(pth+\"DataFiles/Pro_AllData.csv\", index_col=0)\n",
      "\n",
      "#init params df\n",
      "paramdf=pd.read_csv(pth+\"ParamFiles/ProBSL_HDDM_Params.csv\", index_col='subj_idx')\n",
      "\n",
      "#go to proactive bootstrap directory\n",
      "os.chdir(utils.find_path()+\"OptAccRT/proboot/\")"
     ],
     "language": "python",
     "metadata": {},
     "outputs": [],
     "prompt_number": 4
    },
    {
     "cell_type": "code",
     "collapsed": true,
     "input": [
      "#inits=paramdf.mean().to_dict()\n",
      "\n",
      "inits={'a':0.6133268453207728,  'pGo':0.5, 'ssd':0.45, 'ssv':0.9865811207368258, 't':0.2956811445305485, 'v':1.7246715190808106, 'z':0.16725632059959206, 'v(Lo)':1.6940952371960294,'v(Hi)':1.7645271198315327}\n",
      "\n",
      "fitpro.fit_proactive_data(origdf, inits=inits, ntrials=1000, maxfun=20, ftol=.05, xtol=.05)"
     ],
     "language": "python",
     "metadata": {},
     "outputs": [
      {
       "output_type": "stream",
       "stream": "stdout",
       "text": [
        "[-0.01506488  0.04214273]\n",
        "[ 0.38693512  0.10916433]"
       ]
      },
      {
       "output_type": "stream",
       "stream": "stdout",
       "text": [
        "\n",
        "[-0.02706488  0.03363805]"
       ]
      },
      {
       "output_type": "stream",
       "stream": "stdout",
       "text": [
        "\n",
        "[ 0.36993512  0.10138757]"
       ]
      },
      {
       "output_type": "stream",
       "stream": "stdout",
       "text": [
        "\n",
        "[-0.21306488 -0.00437395]"
       ]
      },
      {
       "output_type": "stream",
       "stream": "stdout",
       "text": [
        "\n",
        "[-0.13306488  0.00439989]"
       ]
      },
      {
       "output_type": "stream",
       "stream": "stdout",
       "text": [
        "\n",
        "[-0.31506488 -0.07117606]"
       ]
      },
      {
       "output_type": "stream",
       "stream": "stdout",
       "text": [
        "\n",
        "[-0.39106488 -0.20866709]"
       ]
      },
      {
       "output_type": "stream",
       "stream": "stdout",
       "text": [
        "\n",
        "[ 0.11893512  0.07260985]"
       ]
      },
      {
       "output_type": "stream",
       "stream": "stdout",
       "text": [
        "\n",
        "[ 0.29793512  0.10253765]"
       ]
      },
      {
       "output_type": "stream",
       "stream": "stdout",
       "text": [
        "\n",
        "[ 0.10893512  0.05912834]"
       ]
      },
      {
       "output_type": "stream",
       "stream": "stdout",
       "text": [
        "\n",
        "[ 0.31193512  0.08821256]"
       ]
      },
      {
       "output_type": "stream",
       "stream": "stdout",
       "text": [
        "\n",
        "[-0.11006488  0.01309656]"
       ]
      },
      {
       "output_type": "stream",
       "stream": "stdout",
       "text": [
        "\n",
        "[-0.15106488 -0.006725  ]"
       ]
      },
      {
       "output_type": "stream",
       "stream": "stdout",
       "text": [
        "\n",
        "[ 0.03793512  0.0479598 ]"
       ]
      },
      {
       "output_type": "stream",
       "stream": "stdout",
       "text": [
        "\n",
        "[ 0.15993512  0.07917534]"
       ]
      },
      {
       "output_type": "stream",
       "stream": "stdout",
       "text": [
        "\n",
        "[-0.10806488  0.02566161]"
       ]
      },
      {
       "output_type": "stream",
       "stream": "stdout",
       "text": [
        "\n",
        "[-0.18506488  0.00038275]"
       ]
      },
      {
       "output_type": "stream",
       "stream": "stdout",
       "text": [
        "\n",
        "[ 0.02793512  0.05705884]"
       ]
      },
      {
       "output_type": "stream",
       "stream": "stdout",
       "text": [
        "\n",
        "[ 0.04493512  0.04302957]"
       ]
      },
      {
       "output_type": "stream",
       "stream": "stdout",
       "text": [
        "\n",
        "Warning: Maximum number of function evaluations has been exceeded.\n",
        "[ 0.00193512  0.0388747 ]"
       ]
      },
      {
       "output_type": "stream",
       "stream": "stdout",
       "text": [
        "\n",
        "[-0.45848361  0.17217574]"
       ]
      },
      {
       "output_type": "stream",
       "stream": "stdout",
       "text": [
        "\n",
        "[-0.68648361  0.12911328]"
       ]
      },
      {
       "output_type": "stream",
       "stream": "stdout",
       "text": [
        "\n",
        "[-0.20048361  0.18547034]"
       ]
      },
      {
       "output_type": "stream",
       "stream": "stdout",
       "text": [
        "\n",
        "[-0.07048361  0.20265648]"
       ]
      },
      {
       "output_type": "stream",
       "stream": "stdout",
       "text": [
        "\n",
        "[ 0.06051639  0.23356557]"
       ]
      },
      {
       "output_type": "stream",
       "stream": "stdout",
       "text": [
        "\n",
        "[ 0.03451639  0.237137  ]"
       ]
      },
      {
       "output_type": "stream",
       "stream": "stdout",
       "text": [
        "\n",
        "[-0.20648361  0.19380179]"
       ]
      },
      {
       "output_type": "stream",
       "stream": "stdout",
       "text": [
        "\n",
        "[ 0.00351639  0.19256557]"
       ]
      },
      {
       "output_type": "stream",
       "stream": "stdout",
       "text": [
        "\n",
        "[ 0.02851639  0.24356557]"
       ]
      },
      {
       "output_type": "stream",
       "stream": "stdout",
       "text": [
        "\n",
        "[-0.01048361  0.20999415]"
       ]
      },
      {
       "output_type": "stream",
       "stream": "stdout",
       "text": [
        "\n",
        "Optimization terminated successfully.\n",
        "         Current function value: 0.037094\n",
        "         Iterations: 5\n",
        "         Function evaluations: 10\n",
        "[-0.01148361  0.1963242 ]"
       ]
      },
      {
       "output_type": "stream",
       "stream": "stdout",
       "text": [
        "\n",
        "[-0.29332787 -0.02658491]"
       ]
      },
      {
       "output_type": "stream",
       "stream": "stdout",
       "text": [
        "\n",
        "[-0.52732787 -0.066436  ]"
       ]
      },
      {
       "output_type": "stream",
       "stream": "stdout",
       "text": [
        "\n",
        "[-0.03232787  0.00174376]"
       ]
      },
      {
       "output_type": "stream",
       "stream": "stdout",
       "text": [
        "\n",
        "[ 0.13267213  0.00290859]"
       ]
      },
      {
       "output_type": "stream",
       "stream": "stdout",
       "text": [
        "\n",
        "[ 0.12867213  0.0124324 ]"
       ]
      },
      {
       "output_type": "stream",
       "stream": "stdout",
       "text": [
        "\n",
        "[ 0.05767213  0.02446322]"
       ]
      },
      {
       "output_type": "stream",
       "stream": "stdout",
       "text": [
        "\n",
        "[-0.15932787 -0.02080441]"
       ]
      },
      {
       "output_type": "stream",
       "stream": "stdout",
       "text": [
        "\n",
        "[-0.00032787 -0.01067582]"
       ]
      },
      {
       "output_type": "stream",
       "stream": "stdout",
       "text": [
        "\n",
        "Optimization terminated successfully.\n",
        "         Current function value: 0.000114\n",
        "         Iterations: 4\n",
        "         Function evaluations: 8\n",
        "[ 0.01967213 -0.0080967 ]"
       ]
      },
      {
       "output_type": "stream",
       "stream": "stdout",
       "text": [
        "\n",
        "[ 0.00192623 -0.04213114]"
       ]
      },
      {
       "output_type": "stream",
       "stream": "stdout",
       "text": [
        "\n",
        "[-0.22907377 -0.07525767]"
       ]
      },
      {
       "output_type": "stream",
       "stream": "stdout",
       "text": [
        "\n",
        "[ 0.23392623 -0.02110788]"
       ]
      },
      {
       "output_type": "stream",
       "stream": "stdout",
       "text": [
        "\n",
        "[ 0.12892623 -0.03429949]"
       ]
      },
      {
       "output_type": "stream",
       "stream": "stdout",
       "text": [
        "\n",
        "[-0.11207377 -0.05939173]"
       ]
      },
      {
       "output_type": "stream",
       "stream": "stdout",
       "text": [
        "\n",
        "[-0.09807377 -0.04538759]"
       ]
      },
      {
       "output_type": "stream",
       "stream": "stdout",
       "text": [
        "\n",
        "Optimization terminated successfully.\n",
        "         Current function value: 0.001779\n",
        "         Iterations: 3\n",
        "         Function evaluations: 6\n",
        "[-0.00607377 -0.05369165]"
       ]
      },
      {
       "output_type": "stream",
       "stream": "stdout",
       "text": [
        "\n",
        "[ 0.09263115 -0.05456331]"
       ]
      },
      {
       "output_type": "stream",
       "stream": "stdout",
       "text": [
        "\n",
        "[-0.12336885 -0.10529007]"
       ]
      },
      {
       "output_type": "stream",
       "stream": "stdout",
       "text": [
        "\n",
        "[ 0.34663115 -0.02283555]"
       ]
      },
      {
       "output_type": "stream",
       "stream": "stdout",
       "text": [
        "\n",
        "[-0.03736885 -0.07118325]"
       ]
      },
      {
       "output_type": "stream",
       "stream": "stdout",
       "text": [
        "\n",
        "[-0.10836885 -0.11310508]"
       ]
      },
      {
       "output_type": "stream",
       "stream": "stdout",
       "text": [
        "\n",
        "[ 0.02163115 -0.06842881]"
       ]
      },
      {
       "output_type": "stream",
       "stream": "stdout",
       "text": [
        "\n",
        "Optimization terminated successfully.\n",
        "         Current function value: 0.005150\n",
        "         Iterations: 3\n",
        "         Function evaluations: 6\n",
        "[ 0.04663115 -0.07185655]"
       ]
      },
      {
       "output_type": "stream",
       "stream": "stdout",
       "text": [
        "\n",
        "[ 0.3027541   0.07712856]"
       ]
      },
      {
       "output_type": "stream",
       "stream": "stdout",
       "text": [
        "\n",
        "[ 0.0987541   0.01986145]"
       ]
      },
      {
       "output_type": "stream",
       "stream": "stdout",
       "text": [
        "\n",
        "[ 0.0057541  -0.05470656]"
       ]
      },
      {
       "output_type": "stream",
       "stream": "stdout",
       "text": [
        "\n",
        "[-0.0302459  -0.14586256]"
       ]
      },
      {
       "output_type": "stream",
       "stream": "stdout",
       "text": [
        "\n",
        "[-0.0282459  -0.14936859]"
       ]
      },
      {
       "output_type": "stream",
       "stream": "stdout",
       "text": [
        "\n",
        "[ 0.0337541  -0.01080192]"
       ]
      },
      {
       "output_type": "stream",
       "stream": "stdout",
       "text": [
        "\n",
        "[ 0.0997541   0.02629787]"
       ]
      },
      {
       "output_type": "stream",
       "stream": "stdout",
       "text": [
        "\n",
        "[ 0.0227541  -0.03105416]"
       ]
      },
      {
       "output_type": "stream",
       "stream": "stdout",
       "text": [
        "\n",
        "Optimization terminated successfully.\n",
        "         Current function value: 0.001256\n",
        "         Iterations: 4\n",
        "         Function evaluations: 8\n",
        "[ 0.0277541  -0.01503744]"
       ]
      },
      {
       "output_type": "stream",
       "stream": "stdout",
       "text": [
        "\n",
        "[ 0.34711073  0.13111825]"
       ]
      },
      {
       "output_type": "stream",
       "stream": "stdout",
       "text": [
        "\n",
        "[ 0.11411073  0.07737013]"
       ]
      },
      {
       "output_type": "stream",
       "stream": "stdout",
       "text": [
        "\n",
        "[ 0.03311073 -0.00117233]"
       ]
      },
      {
       "output_type": "stream",
       "stream": "stdout",
       "text": [
        "\n",
        "[ 0.00111073 -0.08687351]"
       ]
      },
      {
       "output_type": "stream",
       "stream": "stdout",
       "text": [
        "\n",
        "[ 0.00211073 -0.09556462]"
       ]
      },
      {
       "output_type": "stream",
       "stream": "stdout",
       "text": [
        "\n",
        "[ 0.00511073 -0.04113198]"
       ]
      },
      {
       "output_type": "stream",
       "stream": "stdout",
       "text": [
        "\n",
        "[ 0.05511073  0.04719597]"
       ]
      },
      {
       "output_type": "stream",
       "stream": "stdout",
       "text": [
        "\n",
        "[ 0.01811073 -0.01022358]"
       ]
      },
      {
       "output_type": "stream",
       "stream": "stdout",
       "text": [
        "\n",
        "Optimization terminated successfully.\n",
        "         Current function value: 0.000433\n",
        "         Iterations: 4\n",
        "         Function evaluations: 8\n",
        "[ 0.01311073 -0.02107393]"
       ]
      },
      {
       "output_type": "stream",
       "stream": "stdout",
       "text": [
        "\n"
       ]
      },
      {
       "html": [
        "<div style=\"max-height:1000px;max-width:1500px;overflow:auto;\">\n",
        "<table border=\"1\" class=\"dataframe\">\n",
        "  <thead>\n",
        "    <tr style=\"text-align: right;\">\n",
        "      <th></th>\n",
        "      <th>psdata</th>\n",
        "      <th>psradd</th>\n",
        "      <th>rtdata</th>\n",
        "      <th>rtradd</th>\n",
        "    </tr>\n",
        "  </thead>\n",
        "  <tbody>\n",
        "    <tr>\n",
        "      <th>0  </th>\n",
        "      <td> 0.92848</td>\n",
        "      <td> 0.917</td>\n",
        "      <td> 5.13325</td>\n",
        "      <td> 5.32957</td>\n",
        "    </tr>\n",
        "    <tr>\n",
        "      <th>20 </th>\n",
        "      <td> 0.75533</td>\n",
        "      <td> 0.775</td>\n",
        "      <td> 5.32176</td>\n",
        "      <td> 5.31366</td>\n",
        "    </tr>\n",
        "    <tr>\n",
        "      <th>40 </th>\n",
        "      <td> 0.47807</td>\n",
        "      <td> 0.472</td>\n",
        "      <td> 5.33557</td>\n",
        "      <td> 5.28187</td>\n",
        "    </tr>\n",
        "    <tr>\n",
        "      <th>60 </th>\n",
        "      <td> 0.24037</td>\n",
        "      <td> 0.287</td>\n",
        "      <td> 5.32397</td>\n",
        "      <td> 5.25211</td>\n",
        "    </tr>\n",
        "    <tr>\n",
        "      <th>80 </th>\n",
        "      <td> 0.03525</td>\n",
        "      <td> 0.063</td>\n",
        "      <td> 5.19515</td>\n",
        "      <td> 5.18012</td>\n",
        "    </tr>\n",
        "    <tr>\n",
        "      <th>100</th>\n",
        "      <td> 0.00489</td>\n",
        "      <td> 0.018</td>\n",
        "      <td> 5.13667</td>\n",
        "      <td> 5.11560</td>\n",
        "    </tr>\n",
        "  </tbody>\n",
        "</table>\n",
        "</div>"
       ],
       "metadata": {},
       "output_type": "pyout",
       "prompt_number": 22,
       "text": [
        "      psdata  psradd   rtdata   rtradd\n",
        "0    0.92848   0.917  5.13325  5.32957\n",
        "20   0.75533   0.775  5.32176  5.31366\n",
        "40   0.47807   0.472  5.33557  5.28187\n",
        "60   0.24037   0.287  5.32397  5.25211\n",
        "80   0.03525   0.063  5.19515  5.18012\n",
        "100  0.00489   0.018  5.13667  5.11560"
       ]
      }
     ],
     "prompt_number": 22
    },
    {
     "cell_type": "heading",
     "level": 1,
     "metadata": {},
     "source": [
      "Run Main Bootstrapping function here"
     ]
    },
    {
     "cell_type": "code",
     "collapsed": true,
     "input": [
      "fitpro=reload(fitpro); utils=reload(utils)\n",
      "\n",
      "#testdf=origdf[origdf.subj_idx.isin([28,29,30,31])]\n",
      "rtpred, pspred=main_proboot(origdf, paramdf, niter=50, ntrials=2000)\n"
     ],
     "language": "python",
     "metadata": {},
     "outputs": [
      {
       "output_type": "stream",
       "stream": "stdout",
       "text": [
        "Optimization terminated successfully.\n",
        "         Current function value: 0.015410\n",
        "         Iterations: 8\n",
        "         Function evaluations: 19\n",
        "Optimization terminated successfully."
       ]
      },
      {
       "output_type": "stream",
       "stream": "stdout",
       "text": [
        "\n",
        "         Current function value: 0.000051\n",
        "         Iterations: 7\n",
        "         Function evaluations: 15\n",
        "Optimization terminated successfully."
       ]
      },
      {
       "output_type": "stream",
       "stream": "stdout",
       "text": [
        "\n",
        "         Current function value: 0.007050\n",
        "         Iterations: 7\n",
        "         Function evaluations: 14\n",
        "Optimization terminated successfully."
       ]
      },
      {
       "output_type": "stream",
       "stream": "stdout",
       "text": [
        "\n",
        "         Current function value: 0.013285\n",
        "         Iterations: 6\n",
        "         Function evaluations: 13\n",
        "Optimization terminated successfully."
       ]
      },
      {
       "output_type": "stream",
       "stream": "stdout",
       "text": [
        "\n",
        "         Current function value: 0.004173\n",
        "         Iterations: 5\n",
        "         Function evaluations: 11\n",
        "Optimization terminated successfully."
       ]
      },
      {
       "output_type": "stream",
       "stream": "stdout",
       "text": [
        "\n",
        "         Current function value: 0.003046\n",
        "         Iterations: 5\n",
        "         Function evaluations: 11\n",
        "Optimization terminated successfully."
       ]
      },
      {
       "output_type": "stream",
       "stream": "stdout",
       "text": [
        "\n",
        "         Current function value: 0.009361\n",
        "         Iterations: 9\n",
        "         Function evaluations: 20\n",
        "Optimization terminated successfully."
       ]
      },
      {
       "output_type": "stream",
       "stream": "stdout",
       "text": [
        "\n",
        "         Current function value: 0.000385\n",
        "         Iterations: 7\n",
        "         Function evaluations: 15\n",
        "Optimization terminated successfully."
       ]
      },
      {
       "output_type": "stream",
       "stream": "stdout",
       "text": [
        "\n",
        "         Current function value: 0.006072\n",
        "         Iterations: 7\n",
        "         Function evaluations: 14\n",
        "Optimization terminated successfully."
       ]
      },
      {
       "output_type": "stream",
       "stream": "stdout",
       "text": [
        "\n",
        "         Current function value: 0.009822\n",
        "         Iterations: 6\n",
        "         Function evaluations: 12\n",
        "Optimization terminated successfully."
       ]
      },
      {
       "output_type": "stream",
       "stream": "stdout",
       "text": [
        "\n",
        "         Current function value: 0.005375\n",
        "         Iterations: 5\n",
        "         Function evaluations: 10\n",
        "Optimization terminated successfully."
       ]
      },
      {
       "output_type": "stream",
       "stream": "stdout",
       "text": [
        "\n",
        "         Current function value: 0.001981\n",
        "         Iterations: 5\n",
        "         Function evaluations: 11\n",
        "Optimization terminated successfully."
       ]
      },
      {
       "output_type": "stream",
       "stream": "stdout",
       "text": [
        "\n",
        "         Current function value: 0.010494\n",
        "         Iterations: 9\n",
        "         Function evaluations: 22\n",
        "Optimization terminated successfully."
       ]
      },
      {
       "output_type": "stream",
       "stream": "stdout",
       "text": [
        "\n",
        "         Current function value: 0.000413\n",
        "         Iterations: 8\n",
        "         Function evaluations: 16\n",
        "Optimization terminated successfully."
       ]
      },
      {
       "output_type": "stream",
       "stream": "stdout",
       "text": [
        "\n",
        "         Current function value: 0.007536\n",
        "         Iterations: 7\n",
        "         Function evaluations: 15\n",
        "Optimization terminated successfully."
       ]
      },
      {
       "output_type": "stream",
       "stream": "stdout",
       "text": [
        "\n",
        "         Current function value: 0.011000\n",
        "         Iterations: 6\n",
        "         Function evaluations: 13\n",
        "Optimization terminated successfully."
       ]
      },
      {
       "output_type": "stream",
       "stream": "stdout",
       "text": [
        "\n",
        "         Current function value: 0.004487\n",
        "         Iterations: 5\n",
        "         Function evaluations: 10\n",
        "Optimization terminated successfully."
       ]
      },
      {
       "output_type": "stream",
       "stream": "stdout",
       "text": [
        "\n",
        "         Current function value: 0.003181\n",
        "         Iterations: 5\n",
        "         Function evaluations: 11\n",
        "Optimization terminated successfully."
       ]
      },
      {
       "output_type": "stream",
       "stream": "stdout",
       "text": [
        "\n",
        "         Current function value: 0.026455\n",
        "         Iterations: 8\n",
        "         Function evaluations: 18\n",
        "Optimization terminated successfully."
       ]
      },
      {
       "output_type": "stream",
       "stream": "stdout",
       "text": [
        "\n",
        "         Current function value: 0.000195\n",
        "         Iterations: 7\n",
        "         Function evaluations: 14\n",
        "Optimization terminated successfully."
       ]
      },
      {
       "output_type": "stream",
       "stream": "stdout",
       "text": [
        "\n",
        "         Current function value: 0.005654\n",
        "         Iterations: 7\n",
        "         Function evaluations: 14\n",
        "Optimization terminated successfully."
       ]
      },
      {
       "output_type": "stream",
       "stream": "stdout",
       "text": [
        "\n",
        "         Current function value: 0.011758\n",
        "         Iterations: 6\n",
        "         Function evaluations: 12\n",
        "Optimization terminated successfully."
       ]
      },
      {
       "output_type": "stream",
       "stream": "stdout",
       "text": [
        "\n",
        "         Current function value: 0.003594\n",
        "         Iterations: 5\n",
        "         Function evaluations: 11\n",
        "Optimization terminated successfully."
       ]
      },
      {
       "output_type": "stream",
       "stream": "stdout",
       "text": [
        "\n",
        "         Current function value: 0.003392\n",
        "         Iterations: 5\n",
        "         Function evaluations: 11\n",
        "Optimization terminated successfully."
       ]
      },
      {
       "output_type": "stream",
       "stream": "stdout",
       "text": [
        "\n",
        "         Current function value: 0.051924\n",
        "         Iterations: 9\n",
        "         Function evaluations: 23\n",
        "Optimization terminated successfully."
       ]
      },
      {
       "output_type": "stream",
       "stream": "stdout",
       "text": [
        "\n",
        "         Current function value: 0.000282\n",
        "         Iterations: 8\n",
        "         Function evaluations: 17\n",
        "Optimization terminated successfully."
       ]
      },
      {
       "output_type": "stream",
       "stream": "stdout",
       "text": [
        "\n",
        "         Current function value: 0.004649\n",
        "         Iterations: 7\n",
        "         Function evaluations: 15\n",
        "Optimization terminated successfully."
       ]
      },
      {
       "output_type": "stream",
       "stream": "stdout",
       "text": [
        "\n",
        "         Current function value: 0.012927\n",
        "         Iterations: 6\n",
        "         Function evaluations: 12\n",
        "Optimization terminated successfully."
       ]
      },
      {
       "output_type": "stream",
       "stream": "stdout",
       "text": [
        "\n",
        "         Current function value: 0.005112\n",
        "         Iterations: 5\n",
        "         Function evaluations: 10\n",
        "Optimization terminated successfully."
       ]
      },
      {
       "output_type": "stream",
       "stream": "stdout",
       "text": [
        "\n",
        "         Current function value: 0.002875\n",
        "         Iterations: 5\n",
        "         Function evaluations: 11\n",
        "Optimization terminated successfully."
       ]
      },
      {
       "output_type": "stream",
       "stream": "stdout",
       "text": [
        "\n",
        "         Current function value: 0.033996\n",
        "         Iterations: 8\n",
        "         Function evaluations: 19\n",
        "Optimization terminated successfully."
       ]
      },
      {
       "output_type": "stream",
       "stream": "stdout",
       "text": [
        "\n",
        "         Current function value: 0.000129\n",
        "         Iterations: 8\n",
        "         Function evaluations: 16\n",
        "Optimization terminated successfully."
       ]
      },
      {
       "output_type": "stream",
       "stream": "stdout",
       "text": [
        "\n",
        "         Current function value: 0.003021\n",
        "         Iterations: 7\n",
        "         Function evaluations: 15\n",
        "Optimization terminated successfully."
       ]
      },
      {
       "output_type": "stream",
       "stream": "stdout",
       "text": [
        "\n",
        "         Current function value: 0.013338\n",
        "         Iterations: 6\n",
        "         Function evaluations: 12\n",
        "Optimization terminated successfully."
       ]
      },
      {
       "output_type": "stream",
       "stream": "stdout",
       "text": [
        "\n",
        "         Current function value: 0.003782\n",
        "         Iterations: 5\n",
        "         Function evaluations: 10\n",
        "Optimization terminated successfully."
       ]
      },
      {
       "output_type": "stream",
       "stream": "stdout",
       "text": [
        "\n",
        "         Current function value: 0.001612\n",
        "         Iterations: 5\n",
        "         Function evaluations: 11\n",
        "Optimization terminated successfully."
       ]
      },
      {
       "output_type": "stream",
       "stream": "stdout",
       "text": [
        "\n",
        "         Current function value: 0.005826\n",
        "         Iterations: 8\n",
        "         Function evaluations: 18\n",
        "Optimization terminated successfully."
       ]
      },
      {
       "output_type": "stream",
       "stream": "stdout",
       "text": [
        "\n",
        "         Current function value: 0.000116\n",
        "         Iterations: 8\n",
        "         Function evaluations: 16\n",
        "Optimization terminated successfully."
       ]
      },
      {
       "output_type": "stream",
       "stream": "stdout",
       "text": [
        "\n",
        "         Current function value: 0.005843\n",
        "         Iterations: 7\n",
        "         Function evaluations: 14\n",
        "Optimization terminated successfully."
       ]
      },
      {
       "output_type": "stream",
       "stream": "stdout",
       "text": [
        "\n",
        "         Current function value: 0.012320\n",
        "         Iterations: 6\n",
        "         Function evaluations: 12\n",
        "Optimization terminated successfully."
       ]
      },
      {
       "output_type": "stream",
       "stream": "stdout",
       "text": [
        "\n",
        "         Current function value: 0.006169\n",
        "         Iterations: 6\n",
        "         Function evaluations: 14\n",
        "Optimization terminated successfully."
       ]
      },
      {
       "output_type": "stream",
       "stream": "stdout",
       "text": [
        "\n",
        "         Current function value: 0.002158\n",
        "         Iterations: 5\n",
        "         Function evaluations: 10\n",
        "Optimization terminated successfully."
       ]
      },
      {
       "output_type": "stream",
       "stream": "stdout",
       "text": [
        "\n",
        "         Current function value: 0.028785\n",
        "         Iterations: 10\n",
        "         Function evaluations: 22\n",
        "Optimization terminated successfully."
       ]
      },
      {
       "output_type": "stream",
       "stream": "stdout",
       "text": [
        "\n",
        "         Current function value: 0.000057\n",
        "         Iterations: 8\n",
        "         Function evaluations: 17\n",
        "Optimization terminated successfully."
       ]
      },
      {
       "output_type": "stream",
       "stream": "stdout",
       "text": [
        "\n",
        "         Current function value: 0.004624\n",
        "         Iterations: 7\n",
        "         Function evaluations: 14\n",
        "Optimization terminated successfully."
       ]
      },
      {
       "output_type": "stream",
       "stream": "stdout",
       "text": [
        "\n",
        "         Current function value: 0.011516\n",
        "         Iterations: 6\n",
        "         Function evaluations: 12\n",
        "Optimization terminated successfully."
       ]
      },
      {
       "output_type": "stream",
       "stream": "stdout",
       "text": [
        "\n",
        "         Current function value: 0.005422\n",
        "         Iterations: 5\n",
        "         Function evaluations: 11\n",
        "Optimization terminated successfully."
       ]
      },
      {
       "output_type": "stream",
       "stream": "stdout",
       "text": [
        "\n",
        "         Current function value: 0.002846\n",
        "         Iterations: 5\n",
        "         Function evaluations: 11\n",
        "Optimization terminated successfully."
       ]
      },
      {
       "output_type": "stream",
       "stream": "stdout",
       "text": [
        "\n",
        "         Current function value: 0.013264\n",
        "         Iterations: 10\n",
        "         Function evaluations: 21\n",
        "Optimization terminated successfully."
       ]
      },
      {
       "output_type": "stream",
       "stream": "stdout",
       "text": [
        "\n",
        "         Current function value: 0.000609\n",
        "         Iterations: 8\n",
        "         Function evaluations: 17\n",
        "Optimization terminated successfully."
       ]
      },
      {
       "output_type": "stream",
       "stream": "stdout",
       "text": [
        "\n",
        "         Current function value: 0.004440\n",
        "         Iterations: 7\n",
        "         Function evaluations: 14\n",
        "Optimization terminated successfully."
       ]
      },
      {
       "output_type": "stream",
       "stream": "stdout",
       "text": [
        "\n",
        "         Current function value: 0.016121\n",
        "         Iterations: 6\n",
        "         Function evaluations: 13\n",
        "Optimization terminated successfully."
       ]
      },
      {
       "output_type": "stream",
       "stream": "stdout",
       "text": [
        "\n",
        "         Current function value: 0.003718\n",
        "         Iterations: 5\n",
        "         Function evaluations: 12\n",
        "Optimization terminated successfully."
       ]
      },
      {
       "output_type": "stream",
       "stream": "stdout",
       "text": [
        "\n",
        "         Current function value: 0.002725\n",
        "         Iterations: 5\n",
        "         Function evaluations: 10\n",
        "Optimization terminated successfully."
       ]
      },
      {
       "output_type": "stream",
       "stream": "stdout",
       "text": [
        "\n",
        "         Current function value: 0.031339\n",
        "         Iterations: 8\n",
        "         Function evaluations: 19\n",
        "Optimization terminated successfully."
       ]
      },
      {
       "output_type": "stream",
       "stream": "stdout",
       "text": [
        "\n",
        "         Current function value: 0.000147\n",
        "         Iterations: 7\n",
        "         Function evaluations: 14\n",
        "Optimization terminated successfully."
       ]
      },
      {
       "output_type": "stream",
       "stream": "stdout",
       "text": [
        "\n",
        "         Current function value: 0.003802\n",
        "         Iterations: 7\n",
        "         Function evaluations: 15\n",
        "Optimization terminated successfully."
       ]
      },
      {
       "output_type": "stream",
       "stream": "stdout",
       "text": [
        "\n",
        "         Current function value: 0.012577\n",
        "         Iterations: 7\n",
        "         Function evaluations: 15\n",
        "Optimization terminated successfully."
       ]
      },
      {
       "output_type": "stream",
       "stream": "stdout",
       "text": [
        "\n",
        "         Current function value: 0.005613\n",
        "         Iterations: 5\n",
        "         Function evaluations: 10\n",
        "Optimization terminated successfully."
       ]
      },
      {
       "output_type": "stream",
       "stream": "stdout",
       "text": [
        "\n",
        "         Current function value: 0.003285\n",
        "         Iterations: 5\n",
        "         Function evaluations: 10\n",
        "Optimization terminated successfully."
       ]
      },
      {
       "output_type": "stream",
       "stream": "stdout",
       "text": [
        "\n",
        "         Current function value: 0.031933\n",
        "         Iterations: 9\n",
        "         Function evaluations: 22\n",
        "Optimization terminated successfully."
       ]
      },
      {
       "output_type": "stream",
       "stream": "stdout",
       "text": [
        "\n",
        "         Current function value: 0.000347\n",
        "         Iterations: 8\n",
        "         Function evaluations: 18\n",
        "Optimization terminated successfully."
       ]
      },
      {
       "output_type": "stream",
       "stream": "stdout",
       "text": [
        "\n",
        "         Current function value: 0.003563\n",
        "         Iterations: 8\n",
        "         Function evaluations: 17\n",
        "Optimization terminated successfully."
       ]
      },
      {
       "output_type": "stream",
       "stream": "stdout",
       "text": [
        "\n",
        "         Current function value: 0.009268\n",
        "         Iterations: 6\n",
        "         Function evaluations: 14\n",
        "Optimization terminated successfully."
       ]
      },
      {
       "output_type": "stream",
       "stream": "stdout",
       "text": [
        "\n",
        "         Current function value: 0.006141\n",
        "         Iterations: 5\n",
        "         Function evaluations: 10\n",
        "Optimization terminated successfully."
       ]
      },
      {
       "output_type": "stream",
       "stream": "stdout",
       "text": [
        "\n",
        "         Current function value: 0.003577\n",
        "         Iterations: 5\n",
        "         Function evaluations: 12\n",
        "Optimization terminated successfully."
       ]
      },
      {
       "output_type": "stream",
       "stream": "stdout",
       "text": [
        "\n",
        "         Current function value: 0.052377\n",
        "         Iterations: 27\n",
        "         Function evaluations: 69\n",
        "Optimization terminated successfully."
       ]
      },
      {
       "output_type": "stream",
       "stream": "stdout",
       "text": [
        "\n",
        "         Current function value: 0.000353\n",
        "         Iterations: 7\n",
        "         Function evaluations: 14\n",
        "Optimization terminated successfully."
       ]
      },
      {
       "output_type": "stream",
       "stream": "stdout",
       "text": [
        "\n",
        "         Current function value: 0.004421\n",
        "         Iterations: 7\n",
        "         Function evaluations: 14\n",
        "Optimization terminated successfully."
       ]
      },
      {
       "output_type": "stream",
       "stream": "stdout",
       "text": [
        "\n",
        "         Current function value: 0.012604\n",
        "         Iterations: 6\n",
        "         Function evaluations: 13\n",
        "Optimization terminated successfully."
       ]
      },
      {
       "output_type": "stream",
       "stream": "stdout",
       "text": [
        "\n",
        "         Current function value: 0.005457\n",
        "         Iterations: 6\n",
        "         Function evaluations: 12\n",
        "Optimization terminated successfully."
       ]
      },
      {
       "output_type": "stream",
       "stream": "stdout",
       "text": [
        "\n",
        "         Current function value: 0.001981\n",
        "         Iterations: 5\n",
        "         Function evaluations: 12\n",
        "Optimization terminated successfully."
       ]
      },
      {
       "output_type": "stream",
       "stream": "stdout",
       "text": [
        "\n",
        "         Current function value: 0.008076\n",
        "         Iterations: 8\n",
        "         Function evaluations: 17\n",
        "Optimization terminated successfully."
       ]
      },
      {
       "output_type": "stream",
       "stream": "stdout",
       "text": [
        "\n",
        "         Current function value: 0.000807\n",
        "         Iterations: 8\n",
        "         Function evaluations: 16\n",
        "Optimization terminated successfully."
       ]
      },
      {
       "output_type": "stream",
       "stream": "stdout",
       "text": [
        "\n",
        "         Current function value: 0.004436\n",
        "         Iterations: 7\n",
        "         Function evaluations: 15\n",
        "Optimization terminated successfully."
       ]
      },
      {
       "output_type": "stream",
       "stream": "stdout",
       "text": [
        "\n",
        "         Current function value: 0.013285\n",
        "         Iterations: 7\n",
        "         Function evaluations: 14\n",
        "Optimization terminated successfully."
       ]
      },
      {
       "output_type": "stream",
       "stream": "stdout",
       "text": [
        "\n",
        "         Current function value: 0.005158\n",
        "         Iterations: 5\n",
        "         Function evaluations: 11\n",
        "Optimization terminated successfully."
       ]
      },
      {
       "output_type": "stream",
       "stream": "stdout",
       "text": [
        "\n",
        "         Current function value: 0.002355\n",
        "         Iterations: 5\n",
        "         Function evaluations: 10\n",
        "Optimization terminated successfully."
       ]
      },
      {
       "output_type": "stream",
       "stream": "stdout",
       "text": [
        "\n",
        "         Current function value: 0.060155\n",
        "         Iterations: 11\n",
        "         Function evaluations: 27\n",
        "Optimization terminated successfully."
       ]
      },
      {
       "output_type": "stream",
       "stream": "stdout",
       "text": [
        "\n",
        "         Current function value: 0.002390\n",
        "         Iterations: 9\n",
        "         Function evaluations: 18\n",
        "Optimization terminated successfully."
       ]
      },
      {
       "output_type": "stream",
       "stream": "stdout",
       "text": [
        "\n",
        "         Current function value: 0.005097\n",
        "         Iterations: 7\n",
        "         Function evaluations: 16\n",
        "Optimization terminated successfully."
       ]
      },
      {
       "output_type": "stream",
       "stream": "stdout",
       "text": [
        "\n",
        "         Current function value: 0.008736\n",
        "         Iterations: 6\n",
        "         Function evaluations: 13\n",
        "Optimization terminated successfully."
       ]
      },
      {
       "output_type": "stream",
       "stream": "stdout",
       "text": [
        "\n",
        "         Current function value: 0.004373\n",
        "         Iterations: 5\n",
        "         Function evaluations: 11\n",
        "Optimization terminated successfully."
       ]
      },
      {
       "output_type": "stream",
       "stream": "stdout",
       "text": [
        "\n",
        "         Current function value: 0.002206\n",
        "         Iterations: 5\n",
        "         Function evaluations: 12\n",
        "Optimization terminated successfully."
       ]
      },
      {
       "output_type": "stream",
       "stream": "stdout",
       "text": [
        "\n",
        "         Current function value: 0.040219\n",
        "         Iterations: 8\n",
        "         Function evaluations: 19\n",
        "Optimization terminated successfully."
       ]
      },
      {
       "output_type": "stream",
       "stream": "stdout",
       "text": [
        "\n",
        "         Current function value: 0.000088\n",
        "         Iterations: 8\n",
        "         Function evaluations: 17\n",
        "Optimization terminated successfully."
       ]
      },
      {
       "output_type": "stream",
       "stream": "stdout",
       "text": [
        "\n",
        "         Current function value: 0.008027\n",
        "         Iterations: 7\n",
        "         Function evaluations: 15\n",
        "Optimization terminated successfully."
       ]
      },
      {
       "output_type": "stream",
       "stream": "stdout",
       "text": [
        "\n",
        "         Current function value: 0.009608\n",
        "         Iterations: 6\n",
        "         Function evaluations: 12\n",
        "Optimization terminated successfully."
       ]
      },
      {
       "output_type": "stream",
       "stream": "stdout",
       "text": [
        "\n",
        "         Current function value: 0.005871\n",
        "         Iterations: 6\n",
        "         Function evaluations: 12\n",
        "Optimization terminated successfully."
       ]
      },
      {
       "output_type": "stream",
       "stream": "stdout",
       "text": [
        "\n",
        "         Current function value: 0.002277\n",
        "         Iterations: 5\n",
        "         Function evaluations: 11\n",
        "Optimization terminated successfully."
       ]
      },
      {
       "output_type": "stream",
       "stream": "stdout",
       "text": [
        "\n",
        "         Current function value: 0.049576\n",
        "         Iterations: 11\n",
        "         Function evaluations: 25\n",
        "Optimization terminated successfully."
       ]
      },
      {
       "output_type": "stream",
       "stream": "stdout",
       "text": [
        "\n",
        "         Current function value: 0.002663\n",
        "         Iterations: 11\n",
        "         Function evaluations: 22\n",
        "Optimization terminated successfully."
       ]
      },
      {
       "output_type": "stream",
       "stream": "stdout",
       "text": [
        "\n",
        "         Current function value: 0.008665\n",
        "         Iterations: 7\n",
        "         Function evaluations: 14\n",
        "Optimization terminated successfully."
       ]
      },
      {
       "output_type": "stream",
       "stream": "stdout",
       "text": [
        "\n",
        "         Current function value: 0.013041\n",
        "         Iterations: 6\n",
        "         Function evaluations: 12\n",
        "Optimization terminated successfully."
       ]
      },
      {
       "output_type": "stream",
       "stream": "stdout",
       "text": [
        "\n",
        "         Current function value: 0.004401\n",
        "         Iterations: 5\n",
        "         Function evaluations: 11\n",
        "Optimization terminated successfully."
       ]
      },
      {
       "output_type": "stream",
       "stream": "stdout",
       "text": [
        "\n",
        "         Current function value: 0.001855\n",
        "         Iterations: 5\n",
        "         Function evaluations: 10\n",
        "Optimization terminated successfully."
       ]
      },
      {
       "output_type": "stream",
       "stream": "stdout",
       "text": [
        "\n",
        "         Current function value: 0.019697\n",
        "         Iterations: 25\n",
        "         Function evaluations: 64\n",
        "Optimization terminated successfully."
       ]
      },
      {
       "output_type": "stream",
       "stream": "stdout",
       "text": [
        "\n",
        "         Current function value: 0.000038\n",
        "         Iterations: 7\n",
        "         Function evaluations: 14\n",
        "Optimization terminated successfully."
       ]
      },
      {
       "output_type": "stream",
       "stream": "stdout",
       "text": [
        "\n",
        "         Current function value: 0.004364\n",
        "         Iterations: 7\n",
        "         Function evaluations: 15\n",
        "Optimization terminated successfully."
       ]
      },
      {
       "output_type": "stream",
       "stream": "stdout",
       "text": [
        "\n",
        "         Current function value: 0.011777\n",
        "         Iterations: 6\n",
        "         Function evaluations: 12\n",
        "Optimization terminated successfully."
       ]
      },
      {
       "output_type": "stream",
       "stream": "stdout",
       "text": [
        "\n",
        "         Current function value: 0.005012\n",
        "         Iterations: 5\n",
        "         Function evaluations: 11\n",
        "Optimization terminated successfully."
       ]
      },
      {
       "output_type": "stream",
       "stream": "stdout",
       "text": [
        "\n",
        "         Current function value: 0.003408\n",
        "         Iterations: 5\n",
        "         Function evaluations: 12\n",
        "Optimization terminated successfully."
       ]
      },
      {
       "output_type": "stream",
       "stream": "stdout",
       "text": [
        "\n",
        "         Current function value: 0.036398\n",
        "         Iterations: 8\n",
        "         Function evaluations: 19\n",
        "Optimization terminated successfully."
       ]
      },
      {
       "output_type": "stream",
       "stream": "stdout",
       "text": [
        "\n",
        "         Current function value: 0.000365\n",
        "         Iterations: 7\n",
        "         Function evaluations: 15\n",
        "Optimization terminated successfully."
       ]
      },
      {
       "output_type": "stream",
       "stream": "stdout",
       "text": [
        "\n",
        "         Current function value: 0.004951\n",
        "         Iterations: 7\n",
        "         Function evaluations: 15\n",
        "Optimization terminated successfully."
       ]
      },
      {
       "output_type": "stream",
       "stream": "stdout",
       "text": [
        "\n",
        "         Current function value: 0.013369\n",
        "         Iterations: 6\n",
        "         Function evaluations: 12\n",
        "Optimization terminated successfully."
       ]
      },
      {
       "output_type": "stream",
       "stream": "stdout",
       "text": [
        "\n",
        "         Current function value: 0.004848\n",
        "         Iterations: 5\n",
        "         Function evaluations: 10\n",
        "Optimization terminated successfully."
       ]
      },
      {
       "output_type": "stream",
       "stream": "stdout",
       "text": [
        "\n",
        "         Current function value: 0.002466\n",
        "         Iterations: 5\n",
        "         Function evaluations: 11\n",
        "Optimization terminated successfully."
       ]
      },
      {
       "output_type": "stream",
       "stream": "stdout",
       "text": [
        "\n",
        "         Current function value: 0.036630\n",
        "         Iterations: 9\n",
        "         Function evaluations: 22\n",
        "Optimization terminated successfully."
       ]
      },
      {
       "output_type": "stream",
       "stream": "stdout",
       "text": [
        "\n",
        "         Current function value: 0.001292\n",
        "         Iterations: 7\n",
        "         Function evaluations: 14\n",
        "Optimization terminated successfully."
       ]
      },
      {
       "output_type": "stream",
       "stream": "stdout",
       "text": [
        "\n",
        "         Current function value: 0.007303\n",
        "         Iterations: 7\n",
        "         Function evaluations: 15\n",
        "Optimization terminated successfully."
       ]
      },
      {
       "output_type": "stream",
       "stream": "stdout",
       "text": [
        "\n",
        "         Current function value: 0.014043\n",
        "         Iterations: 6\n",
        "         Function evaluations: 12\n",
        "Optimization terminated successfully."
       ]
      },
      {
       "output_type": "stream",
       "stream": "stdout",
       "text": [
        "\n",
        "         Current function value: 0.003641\n",
        "         Iterations: 5\n",
        "         Function evaluations: 12\n",
        "Optimization terminated successfully."
       ]
      },
      {
       "output_type": "stream",
       "stream": "stdout",
       "text": [
        "\n",
        "         Current function value: 0.002281\n",
        "         Iterations: 5\n",
        "         Function evaluations: 12\n",
        "Optimization terminated successfully."
       ]
      },
      {
       "output_type": "stream",
       "stream": "stdout",
       "text": [
        "\n",
        "         Current function value: 0.005434\n",
        "         Iterations: 14\n",
        "         Function evaluations: 35\n",
        "Optimization terminated successfully."
       ]
      },
      {
       "output_type": "stream",
       "stream": "stdout",
       "text": [
        "\n",
        "         Current function value: 0.000121\n",
        "         Iterations: 7\n",
        "         Function evaluations: 15\n",
        "Optimization terminated successfully."
       ]
      },
      {
       "output_type": "stream",
       "stream": "stdout",
       "text": [
        "\n",
        "         Current function value: 0.003961\n",
        "         Iterations: 7\n",
        "         Function evaluations: 14\n",
        "Optimization terminated successfully."
       ]
      },
      {
       "output_type": "stream",
       "stream": "stdout",
       "text": [
        "\n",
        "         Current function value: 0.010755\n",
        "         Iterations: 6\n",
        "         Function evaluations: 12\n",
        "Optimization terminated successfully."
       ]
      },
      {
       "output_type": "stream",
       "stream": "stdout",
       "text": [
        "\n",
        "         Current function value: 0.004779\n",
        "         Iterations: 5\n",
        "         Function evaluations: 10\n",
        "Optimization terminated successfully."
       ]
      },
      {
       "output_type": "stream",
       "stream": "stdout",
       "text": [
        "\n",
        "         Current function value: 0.001932\n",
        "         Iterations: 5\n",
        "         Function evaluations: 11\n",
        "Optimization terminated successfully."
       ]
      },
      {
       "output_type": "stream",
       "stream": "stdout",
       "text": [
        "\n",
        "         Current function value: 0.013042\n",
        "         Iterations: 19\n",
        "         Function evaluations: 49\n",
        "Optimization terminated successfully."
       ]
      },
      {
       "output_type": "stream",
       "stream": "stdout",
       "text": [
        "\n",
        "         Current function value: 0.000644\n",
        "         Iterations: 9\n",
        "         Function evaluations: 18\n",
        "Optimization terminated successfully."
       ]
      },
      {
       "output_type": "stream",
       "stream": "stdout",
       "text": [
        "\n",
        "         Current function value: 0.003894\n",
        "         Iterations: 7\n",
        "         Function evaluations: 14\n",
        "Optimization terminated successfully."
       ]
      },
      {
       "output_type": "stream",
       "stream": "stdout",
       "text": [
        "\n",
        "         Current function value: 0.011572\n",
        "         Iterations: 6\n",
        "         Function evaluations: 13\n",
        "Optimization terminated successfully."
       ]
      },
      {
       "output_type": "stream",
       "stream": "stdout",
       "text": [
        "\n",
        "         Current function value: 0.003968\n",
        "         Iterations: 5\n",
        "         Function evaluations: 10\n",
        "Optimization terminated successfully."
       ]
      },
      {
       "output_type": "stream",
       "stream": "stdout",
       "text": [
        "\n",
        "         Current function value: 0.002636\n",
        "         Iterations: 5\n",
        "         Function evaluations: 11\n",
        "Optimization terminated successfully."
       ]
      },
      {
       "output_type": "stream",
       "stream": "stdout",
       "text": [
        "\n",
        "         Current function value: 0.023545\n",
        "         Iterations: 14\n",
        "         Function evaluations: 36\n",
        "Optimization terminated successfully."
       ]
      },
      {
       "output_type": "stream",
       "stream": "stdout",
       "text": [
        "\n",
        "         Current function value: 0.001920\n",
        "         Iterations: 8\n",
        "         Function evaluations: 17\n",
        "Optimization terminated successfully."
       ]
      },
      {
       "output_type": "stream",
       "stream": "stdout",
       "text": [
        "\n",
        "         Current function value: 0.001311\n",
        "         Iterations: 7\n",
        "         Function evaluations: 15\n",
        "Optimization terminated successfully."
       ]
      },
      {
       "output_type": "stream",
       "stream": "stdout",
       "text": [
        "\n",
        "         Current function value: 0.009928\n",
        "         Iterations: 6\n",
        "         Function evaluations: 14\n",
        "Optimization terminated successfully."
       ]
      },
      {
       "output_type": "stream",
       "stream": "stdout",
       "text": [
        "\n",
        "         Current function value: 0.004811\n",
        "         Iterations: 7\n",
        "         Function evaluations: 15\n",
        "Optimization terminated successfully."
       ]
      },
      {
       "output_type": "stream",
       "stream": "stdout",
       "text": [
        "\n",
        "         Current function value: 0.001765\n",
        "         Iterations: 5\n",
        "         Function evaluations: 10\n",
        "Optimization terminated successfully."
       ]
      },
      {
       "output_type": "stream",
       "stream": "stdout",
       "text": [
        "\n",
        "         Current function value: 0.059935\n",
        "         Iterations: 10\n",
        "         Function evaluations: 21\n",
        "Optimization terminated successfully."
       ]
      },
      {
       "output_type": "stream",
       "stream": "stdout",
       "text": [
        "\n",
        "         Current function value: 0.000577\n",
        "         Iterations: 8\n",
        "         Function evaluations: 17\n",
        "Optimization terminated successfully."
       ]
      },
      {
       "output_type": "stream",
       "stream": "stdout",
       "text": [
        "\n",
        "         Current function value: 0.004916\n",
        "         Iterations: 7\n",
        "         Function evaluations: 14\n",
        "Optimization terminated successfully."
       ]
      },
      {
       "output_type": "stream",
       "stream": "stdout",
       "text": [
        "\n",
        "         Current function value: 0.012446\n",
        "         Iterations: 6\n",
        "         Function evaluations: 13\n",
        "Optimization terminated successfully."
       ]
      },
      {
       "output_type": "stream",
       "stream": "stdout",
       "text": [
        "\n",
        "         Current function value: 0.003762\n",
        "         Iterations: 5\n",
        "         Function evaluations: 11\n",
        "Optimization terminated successfully."
       ]
      },
      {
       "output_type": "stream",
       "stream": "stdout",
       "text": [
        "\n",
        "         Current function value: 0.002076\n",
        "         Iterations: 5\n",
        "         Function evaluations: 10\n",
        "Optimization terminated successfully."
       ]
      },
      {
       "output_type": "stream",
       "stream": "stdout",
       "text": [
        "\n",
        "         Current function value: 0.047077\n",
        "         Iterations: 13\n",
        "         Function evaluations: 30\n",
        "Optimization terminated successfully."
       ]
      },
      {
       "output_type": "stream",
       "stream": "stdout",
       "text": [
        "\n",
        "         Current function value: 0.000113\n",
        "         Iterations: 8\n",
        "         Function evaluations: 16\n",
        "Optimization terminated successfully."
       ]
      },
      {
       "output_type": "stream",
       "stream": "stdout",
       "text": [
        "\n",
        "         Current function value: 0.006499\n",
        "         Iterations: 7\n",
        "         Function evaluations: 15\n",
        "Optimization terminated successfully."
       ]
      },
      {
       "output_type": "stream",
       "stream": "stdout",
       "text": [
        "\n",
        "         Current function value: 0.009824\n",
        "         Iterations: 6\n",
        "         Function evaluations: 13\n",
        "Optimization terminated successfully."
       ]
      },
      {
       "output_type": "stream",
       "stream": "stdout",
       "text": [
        "\n",
        "         Current function value: 0.004069\n",
        "         Iterations: 5\n",
        "         Function evaluations: 11\n",
        "Optimization terminated successfully."
       ]
      },
      {
       "output_type": "stream",
       "stream": "stdout",
       "text": [
        "\n",
        "         Current function value: 0.002744\n",
        "         Iterations: 5\n",
        "         Function evaluations: 11\n",
        "Optimization terminated successfully."
       ]
      },
      {
       "output_type": "stream",
       "stream": "stdout",
       "text": [
        "\n",
        "         Current function value: 0.077801\n",
        "         Iterations: 8\n",
        "         Function evaluations: 19\n",
        "Optimization terminated successfully."
       ]
      },
      {
       "output_type": "stream",
       "stream": "stdout",
       "text": [
        "\n",
        "         Current function value: 0.000430\n",
        "         Iterations: 7\n",
        "         Function evaluations: 14\n",
        "Optimization terminated successfully."
       ]
      },
      {
       "output_type": "stream",
       "stream": "stdout",
       "text": [
        "\n",
        "         Current function value: 0.005508\n",
        "         Iterations: 7\n",
        "         Function evaluations: 14\n",
        "Optimization terminated successfully."
       ]
      },
      {
       "output_type": "stream",
       "stream": "stdout",
       "text": [
        "\n",
        "         Current function value: 0.009305\n",
        "         Iterations: 6\n",
        "         Function evaluations: 13\n",
        "Optimization terminated successfully."
       ]
      },
      {
       "output_type": "stream",
       "stream": "stdout",
       "text": [
        "\n",
        "         Current function value: 0.005273\n",
        "         Iterations: 5\n",
        "         Function evaluations: 10\n",
        "Optimization terminated successfully."
       ]
      },
      {
       "output_type": "stream",
       "stream": "stdout",
       "text": [
        "\n",
        "         Current function value: 0.002230\n",
        "         Iterations: 5\n",
        "         Function evaluations: 10\n",
        "Optimization terminated successfully."
       ]
      },
      {
       "output_type": "stream",
       "stream": "stdout",
       "text": [
        "\n",
        "         Current function value: 0.021919\n",
        "         Iterations: 8\n",
        "         Function evaluations: 20\n",
        "Optimization terminated successfully."
       ]
      },
      {
       "output_type": "stream",
       "stream": "stdout",
       "text": [
        "\n",
        "         Current function value: 0.000071\n",
        "         Iterations: 7\n",
        "         Function evaluations: 14\n",
        "Optimization terminated successfully."
       ]
      },
      {
       "output_type": "stream",
       "stream": "stdout",
       "text": [
        "\n",
        "         Current function value: 0.007528\n",
        "         Iterations: 7\n",
        "         Function evaluations: 15\n",
        "Optimization terminated successfully."
       ]
      },
      {
       "output_type": "stream",
       "stream": "stdout",
       "text": [
        "\n",
        "         Current function value: 0.009811\n",
        "         Iterations: 6\n",
        "         Function evaluations: 12\n",
        "Optimization terminated successfully."
       ]
      },
      {
       "output_type": "stream",
       "stream": "stdout",
       "text": [
        "\n",
        "         Current function value: 0.004742\n",
        "         Iterations: 6\n",
        "         Function evaluations: 12\n",
        "Optimization terminated successfully."
       ]
      },
      {
       "output_type": "stream",
       "stream": "stdout",
       "text": [
        "\n",
        "         Current function value: 0.003475\n",
        "         Iterations: 5\n",
        "         Function evaluations: 11\n",
        "Optimization terminated successfully."
       ]
      },
      {
       "output_type": "stream",
       "stream": "stdout",
       "text": [
        "\n",
        "         Current function value: 0.037459\n",
        "         Iterations: 9\n",
        "         Function evaluations: 22\n",
        "Optimization terminated successfully."
       ]
      },
      {
       "output_type": "stream",
       "stream": "stdout",
       "text": [
        "\n",
        "         Current function value: 0.004949\n",
        "         Iterations: 9\n",
        "         Function evaluations: 18\n",
        "Optimization terminated successfully."
       ]
      },
      {
       "output_type": "stream",
       "stream": "stdout",
       "text": [
        "\n",
        "         Current function value: 0.007351\n",
        "         Iterations: 7\n",
        "         Function evaluations: 15\n",
        "Optimization terminated successfully."
       ]
      },
      {
       "output_type": "stream",
       "stream": "stdout",
       "text": [
        "\n",
        "         Current function value: 0.011826\n",
        "         Iterations: 6\n",
        "         Function evaluations: 13\n",
        "Optimization terminated successfully."
       ]
      },
      {
       "output_type": "stream",
       "stream": "stdout",
       "text": [
        "\n",
        "         Current function value: 0.006480\n",
        "         Iterations: 5\n",
        "         Function evaluations: 11\n",
        "Optimization terminated successfully."
       ]
      },
      {
       "output_type": "stream",
       "stream": "stdout",
       "text": [
        "\n",
        "         Current function value: 0.002183\n",
        "         Iterations: 5\n",
        "         Function evaluations: 11\n",
        "Optimization terminated successfully."
       ]
      },
      {
       "output_type": "stream",
       "stream": "stdout",
       "text": [
        "\n",
        "         Current function value: 0.024429\n",
        "         Iterations: 15\n",
        "         Function evaluations: 38\n",
        "Optimization terminated successfully."
       ]
      },
      {
       "output_type": "stream",
       "stream": "stdout",
       "text": [
        "\n",
        "         Current function value: 0.000165\n",
        "         Iterations: 8\n",
        "         Function evaluations: 17\n",
        "Optimization terminated successfully."
       ]
      },
      {
       "output_type": "stream",
       "stream": "stdout",
       "text": [
        "\n",
        "         Current function value: 0.004209\n",
        "         Iterations: 7\n",
        "         Function evaluations: 16\n",
        "Optimization terminated successfully."
       ]
      },
      {
       "output_type": "stream",
       "stream": "stdout",
       "text": [
        "\n",
        "         Current function value: 0.011506\n",
        "         Iterations: 6\n",
        "         Function evaluations: 13\n",
        "Optimization terminated successfully."
       ]
      },
      {
       "output_type": "stream",
       "stream": "stdout",
       "text": [
        "\n",
        "         Current function value: 0.003843\n",
        "         Iterations: 5\n",
        "         Function evaluations: 11\n",
        "Optimization terminated successfully."
       ]
      },
      {
       "output_type": "stream",
       "stream": "stdout",
       "text": [
        "\n",
        "         Current function value: 0.002019\n",
        "         Iterations: 5\n",
        "         Function evaluations: 12\n",
        "Optimization terminated successfully."
       ]
      },
      {
       "output_type": "stream",
       "stream": "stdout",
       "text": [
        "\n",
        "         Current function value: 0.019478\n",
        "         Iterations: 8\n",
        "         Function evaluations: 19\n",
        "Optimization terminated successfully."
       ]
      },
      {
       "output_type": "stream",
       "stream": "stdout",
       "text": [
        "\n",
        "         Current function value: 0.000607\n",
        "         Iterations: 8\n",
        "         Function evaluations: 17\n",
        "Optimization terminated successfully."
       ]
      },
      {
       "output_type": "stream",
       "stream": "stdout",
       "text": [
        "\n",
        "         Current function value: 0.006760\n",
        "         Iterations: 7\n",
        "         Function evaluations: 16\n",
        "Optimization terminated successfully."
       ]
      },
      {
       "output_type": "stream",
       "stream": "stdout",
       "text": [
        "\n",
        "         Current function value: 0.011683\n",
        "         Iterations: 6\n",
        "         Function evaluations: 12\n",
        "Optimization terminated successfully."
       ]
      },
      {
       "output_type": "stream",
       "stream": "stdout",
       "text": [
        "\n",
        "         Current function value: 0.004365\n",
        "         Iterations: 6\n",
        "         Function evaluations: 13\n",
        "Optimization terminated successfully."
       ]
      },
      {
       "output_type": "stream",
       "stream": "stdout",
       "text": [
        "\n",
        "         Current function value: 0.003747\n",
        "         Iterations: 5\n",
        "         Function evaluations: 11\n",
        "Optimization terminated successfully."
       ]
      },
      {
       "output_type": "stream",
       "stream": "stdout",
       "text": [
        "\n",
        "         Current function value: 0.020467\n",
        "         Iterations: 9\n",
        "         Function evaluations: 19\n",
        "Optimization terminated successfully."
       ]
      },
      {
       "output_type": "stream",
       "stream": "stdout",
       "text": [
        "\n",
        "         Current function value: 0.002408\n",
        "         Iterations: 10\n",
        "         Function evaluations: 21\n",
        "Optimization terminated successfully."
       ]
      },
      {
       "output_type": "stream",
       "stream": "stdout",
       "text": [
        "\n",
        "         Current function value: 0.004352\n",
        "         Iterations: 7\n",
        "         Function evaluations: 14\n",
        "Optimization terminated successfully."
       ]
      },
      {
       "output_type": "stream",
       "stream": "stdout",
       "text": [
        "\n",
        "         Current function value: 0.012189\n",
        "         Iterations: 6\n",
        "         Function evaluations: 13\n",
        "Optimization terminated successfully."
       ]
      },
      {
       "output_type": "stream",
       "stream": "stdout",
       "text": [
        "\n",
        "         Current function value: 0.005019\n",
        "         Iterations: 5\n",
        "         Function evaluations: 12\n",
        "Optimization terminated successfully."
       ]
      },
      {
       "output_type": "stream",
       "stream": "stdout",
       "text": [
        "\n",
        "         Current function value: 0.002429\n",
        "         Iterations: 5\n",
        "         Function evaluations: 11\n",
        "Optimization terminated successfully."
       ]
      },
      {
       "output_type": "stream",
       "stream": "stdout",
       "text": [
        "\n",
        "         Current function value: 0.112911\n",
        "         Iterations: 9\n",
        "         Function evaluations: 20\n",
        "Optimization terminated successfully."
       ]
      },
      {
       "output_type": "stream",
       "stream": "stdout",
       "text": [
        "\n",
        "         Current function value: 0.000485\n",
        "         Iterations: 7\n",
        "         Function evaluations: 14\n",
        "Optimization terminated successfully."
       ]
      },
      {
       "output_type": "stream",
       "stream": "stdout",
       "text": [
        "\n",
        "         Current function value: 0.003779\n",
        "         Iterations: 7\n",
        "         Function evaluations: 15\n",
        "Optimization terminated successfully."
       ]
      },
      {
       "output_type": "stream",
       "stream": "stdout",
       "text": [
        "\n",
        "         Current function value: 0.009400\n",
        "         Iterations: 7\n",
        "         Function evaluations: 15\n",
        "Optimization terminated successfully."
       ]
      },
      {
       "output_type": "stream",
       "stream": "stdout",
       "text": [
        "\n",
        "         Current function value: 0.004489\n",
        "         Iterations: 5\n",
        "         Function evaluations: 10\n",
        "Optimization terminated successfully."
       ]
      },
      {
       "output_type": "stream",
       "stream": "stdout",
       "text": [
        "\n",
        "         Current function value: 0.003938\n",
        "         Iterations: 6\n",
        "         Function evaluations: 13\n",
        "Optimization terminated successfully."
       ]
      },
      {
       "output_type": "stream",
       "stream": "stdout",
       "text": [
        "\n",
        "         Current function value: 0.004976\n",
        "         Iterations: 32\n",
        "         Function evaluations: 84\n",
        "Optimization terminated successfully."
       ]
      },
      {
       "output_type": "stream",
       "stream": "stdout",
       "text": [
        "\n",
        "         Current function value: 0.000032\n",
        "         Iterations: 7\n",
        "         Function evaluations: 15\n",
        "Optimization terminated successfully."
       ]
      },
      {
       "output_type": "stream",
       "stream": "stdout",
       "text": [
        "\n",
        "         Current function value: 0.004500\n",
        "         Iterations: 7\n",
        "         Function evaluations: 15\n",
        "Optimization terminated successfully."
       ]
      },
      {
       "output_type": "stream",
       "stream": "stdout",
       "text": [
        "\n",
        "         Current function value: 0.009516\n",
        "         Iterations: 6\n",
        "         Function evaluations: 12\n",
        "Optimization terminated successfully."
       ]
      },
      {
       "output_type": "stream",
       "stream": "stdout",
       "text": [
        "\n",
        "         Current function value: 0.005694\n",
        "         Iterations: 6\n",
        "         Function evaluations: 12\n",
        "Optimization terminated successfully."
       ]
      },
      {
       "output_type": "stream",
       "stream": "stdout",
       "text": [
        "\n",
        "         Current function value: 0.002634\n",
        "         Iterations: 5\n",
        "         Function evaluations: 11\n",
        "Optimization terminated successfully."
       ]
      },
      {
       "output_type": "stream",
       "stream": "stdout",
       "text": [
        "\n",
        "         Current function value: 0.021392\n",
        "         Iterations: 38\n",
        "         Function evaluations: 101\n",
        "Optimization terminated successfully."
       ]
      },
      {
       "output_type": "stream",
       "stream": "stdout",
       "text": [
        "\n",
        "         Current function value: 0.002217\n",
        "         Iterations: 8\n",
        "         Function evaluations: 17\n",
        "Optimization terminated successfully."
       ]
      },
      {
       "output_type": "stream",
       "stream": "stdout",
       "text": [
        "\n",
        "         Current function value: 0.006031\n",
        "         Iterations: 7\n",
        "         Function evaluations: 14\n",
        "Optimization terminated successfully."
       ]
      },
      {
       "output_type": "stream",
       "stream": "stdout",
       "text": [
        "\n",
        "         Current function value: 0.008559\n",
        "         Iterations: 6\n",
        "         Function evaluations: 12\n",
        "Optimization terminated successfully."
       ]
      },
      {
       "output_type": "stream",
       "stream": "stdout",
       "text": [
        "\n",
        "         Current function value: 0.004268\n",
        "         Iterations: 5\n",
        "         Function evaluations: 11\n",
        "Optimization terminated successfully."
       ]
      },
      {
       "output_type": "stream",
       "stream": "stdout",
       "text": [
        "\n",
        "         Current function value: 0.003540\n",
        "         Iterations: 5\n",
        "         Function evaluations: 12\n",
        "Optimization terminated successfully."
       ]
      },
      {
       "output_type": "stream",
       "stream": "stdout",
       "text": [
        "\n",
        "         Current function value: 0.026283\n",
        "         Iterations: 11\n",
        "         Function evaluations: 25\n",
        "Optimization terminated successfully."
       ]
      },
      {
       "output_type": "stream",
       "stream": "stdout",
       "text": [
        "\n",
        "         Current function value: 0.000922\n",
        "         Iterations: 8\n",
        "         Function evaluations: 16\n",
        "Optimization terminated successfully."
       ]
      },
      {
       "output_type": "stream",
       "stream": "stdout",
       "text": [
        "\n",
        "         Current function value: 0.002966\n",
        "         Iterations: 7\n",
        "         Function evaluations: 15\n",
        "Optimization terminated successfully."
       ]
      },
      {
       "output_type": "stream",
       "stream": "stdout",
       "text": [
        "\n",
        "         Current function value: 0.008636\n",
        "         Iterations: 6\n",
        "         Function evaluations: 12\n",
        "Optimization terminated successfully."
       ]
      },
      {
       "output_type": "stream",
       "stream": "stdout",
       "text": [
        "\n",
        "         Current function value: 0.004524\n",
        "         Iterations: 5\n",
        "         Function evaluations: 10\n",
        "Optimization terminated successfully."
       ]
      },
      {
       "output_type": "stream",
       "stream": "stdout",
       "text": [
        "\n",
        "         Current function value: 0.002202\n",
        "         Iterations: 5\n",
        "         Function evaluations: 11\n",
        "Optimization terminated successfully."
       ]
      },
      {
       "output_type": "stream",
       "stream": "stdout",
       "text": [
        "\n",
        "         Current function value: 0.022798\n",
        "         Iterations: 9\n",
        "         Function evaluations: 21\n",
        "Optimization terminated successfully."
       ]
      },
      {
       "output_type": "stream",
       "stream": "stdout",
       "text": [
        "\n",
        "         Current function value: 0.002286\n",
        "         Iterations: 9\n",
        "         Function evaluations: 18\n",
        "Optimization terminated successfully."
       ]
      },
      {
       "output_type": "stream",
       "stream": "stdout",
       "text": [
        "\n",
        "         Current function value: 0.002836\n",
        "         Iterations: 7\n",
        "         Function evaluations: 15\n",
        "Optimization terminated successfully."
       ]
      },
      {
       "output_type": "stream",
       "stream": "stdout",
       "text": [
        "\n",
        "         Current function value: 0.009695\n",
        "         Iterations: 6\n",
        "         Function evaluations: 12\n",
        "Optimization terminated successfully."
       ]
      },
      {
       "output_type": "stream",
       "stream": "stdout",
       "text": [
        "\n",
        "         Current function value: 0.005620\n",
        "         Iterations: 5\n",
        "         Function evaluations: 12\n",
        "Optimization terminated successfully."
       ]
      },
      {
       "output_type": "stream",
       "stream": "stdout",
       "text": [
        "\n",
        "         Current function value: 0.002174\n",
        "         Iterations: 5\n",
        "         Function evaluations: 11\n",
        "Optimization terminated successfully."
       ]
      },
      {
       "output_type": "stream",
       "stream": "stdout",
       "text": [
        "\n",
        "         Current function value: 0.056970\n",
        "         Iterations: 12\n",
        "         Function evaluations: 30\n",
        "Optimization terminated successfully."
       ]
      },
      {
       "output_type": "stream",
       "stream": "stdout",
       "text": [
        "\n",
        "         Current function value: 0.001931\n",
        "         Iterations: 8\n",
        "         Function evaluations: 16\n",
        "Optimization terminated successfully."
       ]
      },
      {
       "output_type": "stream",
       "stream": "stdout",
       "text": [
        "\n",
        "         Current function value: 0.004105\n",
        "         Iterations: 7\n",
        "         Function evaluations: 14\n",
        "Optimization terminated successfully."
       ]
      },
      {
       "output_type": "stream",
       "stream": "stdout",
       "text": [
        "\n",
        "         Current function value: 0.009180\n",
        "         Iterations: 7\n",
        "         Function evaluations: 15\n",
        "Optimization terminated successfully."
       ]
      },
      {
       "output_type": "stream",
       "stream": "stdout",
       "text": [
        "\n",
        "         Current function value: 0.005327\n",
        "         Iterations: 5\n",
        "         Function evaluations: 10\n",
        "Optimization terminated successfully."
       ]
      },
      {
       "output_type": "stream",
       "stream": "stdout",
       "text": [
        "\n",
        "         Current function value: 0.003281\n",
        "         Iterations: 5\n",
        "         Function evaluations: 10\n",
        "Optimization terminated successfully."
       ]
      },
      {
       "output_type": "stream",
       "stream": "stdout",
       "text": [
        "\n",
        "         Current function value: 0.010161\n",
        "         Iterations: 13\n",
        "         Function evaluations: 31\n",
        "Optimization terminated successfully."
       ]
      },
      {
       "output_type": "stream",
       "stream": "stdout",
       "text": [
        "\n",
        "         Current function value: 0.000387\n",
        "         Iterations: 7\n",
        "         Function evaluations: 15\n",
        "Optimization terminated successfully."
       ]
      },
      {
       "output_type": "stream",
       "stream": "stdout",
       "text": [
        "\n",
        "         Current function value: 0.004732\n",
        "         Iterations: 7\n",
        "         Function evaluations: 16\n",
        "Optimization terminated successfully."
       ]
      },
      {
       "output_type": "stream",
       "stream": "stdout",
       "text": [
        "\n",
        "         Current function value: 0.012696\n",
        "         Iterations: 6\n",
        "         Function evaluations: 12\n",
        "Optimization terminated successfully."
       ]
      },
      {
       "output_type": "stream",
       "stream": "stdout",
       "text": [
        "\n",
        "         Current function value: 0.005632\n",
        "         Iterations: 5\n",
        "         Function evaluations: 12\n",
        "Optimization terminated successfully."
       ]
      },
      {
       "output_type": "stream",
       "stream": "stdout",
       "text": [
        "\n",
        "         Current function value: 0.003078\n",
        "         Iterations: 5\n",
        "         Function evaluations: 11\n",
        "Optimization terminated successfully."
       ]
      },
      {
       "output_type": "stream",
       "stream": "stdout",
       "text": [
        "\n",
        "         Current function value: 0.004056\n",
        "         Iterations: 119\n",
        "         Function evaluations: 318\n",
        "Optimization terminated successfully."
       ]
      },
      {
       "output_type": "stream",
       "stream": "stdout",
       "text": [
        "\n",
        "         Current function value: 0.001889\n",
        "         Iterations: 8\n",
        "         Function evaluations: 16\n",
        "Optimization terminated successfully."
       ]
      },
      {
       "output_type": "stream",
       "stream": "stdout",
       "text": [
        "\n",
        "         Current function value: 0.007557\n",
        "         Iterations: 7\n",
        "         Function evaluations: 15\n",
        "Optimization terminated successfully."
       ]
      },
      {
       "output_type": "stream",
       "stream": "stdout",
       "text": [
        "\n",
        "         Current function value: 0.011822\n",
        "         Iterations: 6\n",
        "         Function evaluations: 14\n",
        "Optimization terminated successfully."
       ]
      },
      {
       "output_type": "stream",
       "stream": "stdout",
       "text": [
        "\n",
        "         Current function value: 0.004954\n",
        "         Iterations: 5\n",
        "         Function evaluations: 12\n",
        "Optimization terminated successfully."
       ]
      },
      {
       "output_type": "stream",
       "stream": "stdout",
       "text": [
        "\n",
        "         Current function value: 0.002785\n",
        "         Iterations: 5\n",
        "         Function evaluations: 10\n",
        "Optimization terminated successfully."
       ]
      },
      {
       "output_type": "stream",
       "stream": "stdout",
       "text": [
        "\n",
        "         Current function value: 0.038749\n",
        "         Iterations: 11\n",
        "         Function evaluations: 27\n",
        "Optimization terminated successfully."
       ]
      },
      {
       "output_type": "stream",
       "stream": "stdout",
       "text": [
        "\n",
        "         Current function value: 0.002891\n",
        "         Iterations: 8\n",
        "         Function evaluations: 16\n",
        "Optimization terminated successfully."
       ]
      },
      {
       "output_type": "stream",
       "stream": "stdout",
       "text": [
        "\n",
        "         Current function value: 0.005210\n",
        "         Iterations: 7\n",
        "         Function evaluations: 15\n",
        "Optimization terminated successfully."
       ]
      },
      {
       "output_type": "stream",
       "stream": "stdout",
       "text": [
        "\n",
        "         Current function value: 0.013828\n",
        "         Iterations: 6\n",
        "         Function evaluations: 13\n",
        "Optimization terminated successfully."
       ]
      },
      {
       "output_type": "stream",
       "stream": "stdout",
       "text": [
        "\n",
        "         Current function value: 0.003223\n",
        "         Iterations: 5\n",
        "         Function evaluations: 11\n",
        "Optimization terminated successfully."
       ]
      },
      {
       "output_type": "stream",
       "stream": "stdout",
       "text": [
        "\n",
        "         Current function value: 0.002750\n",
        "         Iterations: 5\n",
        "         Function evaluations: 11\n",
        "Optimization terminated successfully."
       ]
      },
      {
       "output_type": "stream",
       "stream": "stdout",
       "text": [
        "\n",
        "         Current function value: 0.018756\n",
        "         Iterations: 10\n",
        "         Function evaluations: 24\n",
        "Optimization terminated successfully."
       ]
      },
      {
       "output_type": "stream",
       "stream": "stdout",
       "text": [
        "\n",
        "         Current function value: 0.000560\n",
        "         Iterations: 8\n",
        "         Function evaluations: 16\n",
        "Optimization terminated successfully."
       ]
      },
      {
       "output_type": "stream",
       "stream": "stdout",
       "text": [
        "\n",
        "         Current function value: 0.007504\n",
        "         Iterations: 7\n",
        "         Function evaluations: 15\n",
        "Optimization terminated successfully."
       ]
      },
      {
       "output_type": "stream",
       "stream": "stdout",
       "text": [
        "\n",
        "         Current function value: 0.010626\n",
        "         Iterations: 7\n",
        "         Function evaluations: 16\n",
        "Optimization terminated successfully."
       ]
      },
      {
       "output_type": "stream",
       "stream": "stdout",
       "text": [
        "\n",
        "         Current function value: 0.005059\n",
        "         Iterations: 5\n",
        "         Function evaluations: 11\n",
        "Optimization terminated successfully."
       ]
      },
      {
       "output_type": "stream",
       "stream": "stdout",
       "text": [
        "\n",
        "         Current function value: 0.002807\n",
        "         Iterations: 5\n",
        "         Function evaluations: 12\n",
        "Optimization terminated successfully."
       ]
      },
      {
       "output_type": "stream",
       "stream": "stdout",
       "text": [
        "\n",
        "         Current function value: 0.017980\n",
        "         Iterations: 9\n",
        "         Function evaluations: 21\n",
        "Optimization terminated successfully."
       ]
      },
      {
       "output_type": "stream",
       "stream": "stdout",
       "text": [
        "\n",
        "         Current function value: 0.000072\n",
        "         Iterations: 8\n",
        "         Function evaluations: 17\n",
        "Optimization terminated successfully."
       ]
      },
      {
       "output_type": "stream",
       "stream": "stdout",
       "text": [
        "\n",
        "         Current function value: 0.006226\n",
        "         Iterations: 7\n",
        "         Function evaluations: 14\n",
        "Optimization terminated successfully."
       ]
      },
      {
       "output_type": "stream",
       "stream": "stdout",
       "text": [
        "\n",
        "         Current function value: 0.013641\n",
        "         Iterations: 7\n",
        "         Function evaluations: 15\n",
        "Optimization terminated successfully."
       ]
      },
      {
       "output_type": "stream",
       "stream": "stdout",
       "text": [
        "\n",
        "         Current function value: 0.006419\n",
        "         Iterations: 5\n",
        "         Function evaluations: 11\n",
        "Optimization terminated successfully."
       ]
      },
      {
       "output_type": "stream",
       "stream": "stdout",
       "text": [
        "\n",
        "         Current function value: 0.002975\n",
        "         Iterations: 5\n",
        "         Function evaluations: 10\n",
        "Optimization terminated successfully."
       ]
      },
      {
       "output_type": "stream",
       "stream": "stdout",
       "text": [
        "\n",
        "         Current function value: 0.027071\n",
        "         Iterations: 12\n",
        "         Function evaluations: 27\n",
        "Optimization terminated successfully."
       ]
      },
      {
       "output_type": "stream",
       "stream": "stdout",
       "text": [
        "\n",
        "         Current function value: 0.000051\n",
        "         Iterations: 7\n",
        "         Function evaluations: 14\n",
        "Optimization terminated successfully."
       ]
      },
      {
       "output_type": "stream",
       "stream": "stdout",
       "text": [
        "\n",
        "         Current function value: 0.005211\n",
        "         Iterations: 7\n",
        "         Function evaluations: 14\n",
        "Optimization terminated successfully."
       ]
      },
      {
       "output_type": "stream",
       "stream": "stdout",
       "text": [
        "\n",
        "         Current function value: 0.010226\n",
        "         Iterations: 7\n",
        "         Function evaluations: 15\n",
        "Optimization terminated successfully."
       ]
      },
      {
       "output_type": "stream",
       "stream": "stdout",
       "text": [
        "\n",
        "         Current function value: 0.004749\n",
        "         Iterations: 5\n",
        "         Function evaluations: 11\n",
        "Optimization terminated successfully."
       ]
      },
      {
       "output_type": "stream",
       "stream": "stdout",
       "text": [
        "\n",
        "         Current function value: 0.003017\n",
        "         Iterations: 6\n",
        "         Function evaluations: 14\n",
        "Optimization terminated successfully."
       ]
      },
      {
       "output_type": "stream",
       "stream": "stdout",
       "text": [
        "\n",
        "         Current function value: 0.038817\n",
        "         Iterations: 10\n",
        "         Function evaluations: 24\n",
        "Optimization terminated successfully."
       ]
      },
      {
       "output_type": "stream",
       "stream": "stdout",
       "text": [
        "\n",
        "         Current function value: 0.001687\n",
        "         Iterations: 7\n",
        "         Function evaluations: 15\n",
        "Optimization terminated successfully."
       ]
      },
      {
       "output_type": "stream",
       "stream": "stdout",
       "text": [
        "\n",
        "         Current function value: 0.006064\n",
        "         Iterations: 7\n",
        "         Function evaluations: 15\n",
        "Optimization terminated successfully."
       ]
      },
      {
       "output_type": "stream",
       "stream": "stdout",
       "text": [
        "\n",
        "         Current function value: 0.010254\n",
        "         Iterations: 7\n",
        "         Function evaluations: 15\n",
        "Optimization terminated successfully."
       ]
      },
      {
       "output_type": "stream",
       "stream": "stdout",
       "text": [
        "\n",
        "         Current function value: 0.005152\n",
        "         Iterations: 5\n",
        "         Function evaluations: 12\n",
        "Optimization terminated successfully."
       ]
      },
      {
       "output_type": "stream",
       "stream": "stdout",
       "text": [
        "\n",
        "         Current function value: 0.002536\n",
        "         Iterations: 5\n",
        "         Function evaluations: 11\n",
        "Optimization terminated successfully."
       ]
      },
      {
       "output_type": "stream",
       "stream": "stdout",
       "text": [
        "\n",
        "         Current function value: 0.023565\n",
        "         Iterations: 64\n",
        "         Function evaluations: 170\n",
        "Optimization terminated successfully."
       ]
      },
      {
       "output_type": "stream",
       "stream": "stdout",
       "text": [
        "\n",
        "         Current function value: 0.001175\n",
        "         Iterations: 8\n",
        "         Function evaluations: 17\n",
        "Optimization terminated successfully."
       ]
      },
      {
       "output_type": "stream",
       "stream": "stdout",
       "text": [
        "\n",
        "         Current function value: 0.004597\n",
        "         Iterations: 7\n",
        "         Function evaluations: 14\n",
        "Optimization terminated successfully."
       ]
      },
      {
       "output_type": "stream",
       "stream": "stdout",
       "text": [
        "\n",
        "         Current function value: 0.011797\n",
        "         Iterations: 7\n",
        "         Function evaluations: 15\n",
        "Optimization terminated successfully."
       ]
      },
      {
       "output_type": "stream",
       "stream": "stdout",
       "text": [
        "\n",
        "         Current function value: 0.005668\n",
        "         Iterations: 5\n",
        "         Function evaluations: 11\n",
        "Optimization terminated successfully."
       ]
      },
      {
       "output_type": "stream",
       "stream": "stdout",
       "text": [
        "\n",
        "         Current function value: 0.002694\n",
        "         Iterations: 5\n",
        "         Function evaluations: 10\n",
        "Optimization terminated successfully."
       ]
      },
      {
       "output_type": "stream",
       "stream": "stdout",
       "text": [
        "\n",
        "         Current function value: 0.035196\n",
        "         Iterations: 51\n",
        "         Function evaluations: 139\n",
        "Optimization terminated successfully."
       ]
      },
      {
       "output_type": "stream",
       "stream": "stdout",
       "text": [
        "\n",
        "         Current function value: 0.000769\n",
        "         Iterations: 8\n",
        "         Function evaluations: 17\n",
        "Optimization terminated successfully."
       ]
      },
      {
       "output_type": "stream",
       "stream": "stdout",
       "text": [
        "\n",
        "         Current function value: 0.004061\n",
        "         Iterations: 7\n",
        "         Function evaluations: 15\n",
        "Optimization terminated successfully."
       ]
      },
      {
       "output_type": "stream",
       "stream": "stdout",
       "text": [
        "\n",
        "         Current function value: 0.009339\n",
        "         Iterations: 6\n",
        "         Function evaluations: 12\n",
        "Optimization terminated successfully."
       ]
      },
      {
       "output_type": "stream",
       "stream": "stdout",
       "text": [
        "\n",
        "         Current function value: 0.003382\n",
        "         Iterations: 6\n",
        "         Function evaluations: 12\n",
        "Optimization terminated successfully."
       ]
      },
      {
       "output_type": "stream",
       "stream": "stdout",
       "text": [
        "\n",
        "         Current function value: 0.002094\n",
        "         Iterations: 5\n",
        "         Function evaluations: 11\n",
        "Optimization terminated successfully."
       ]
      },
      {
       "output_type": "stream",
       "stream": "stdout",
       "text": [
        "\n",
        "         Current function value: 0.012657\n",
        "         Iterations: 11\n",
        "         Function evaluations: 26\n",
        "Optimization terminated successfully."
       ]
      },
      {
       "output_type": "stream",
       "stream": "stdout",
       "text": [
        "\n",
        "         Current function value: 0.000874\n",
        "         Iterations: 7\n",
        "         Function evaluations: 15\n",
        "Optimization terminated successfully."
       ]
      },
      {
       "output_type": "stream",
       "stream": "stdout",
       "text": [
        "\n",
        "         Current function value: 0.004695\n",
        "         Iterations: 7\n",
        "         Function evaluations: 15\n",
        "Optimization terminated successfully."
       ]
      },
      {
       "output_type": "stream",
       "stream": "stdout",
       "text": [
        "\n",
        "         Current function value: 0.011378\n",
        "         Iterations: 6\n",
        "         Function evaluations: 13\n",
        "Optimization terminated successfully."
       ]
      },
      {
       "output_type": "stream",
       "stream": "stdout",
       "text": [
        "\n",
        "         Current function value: 0.004080\n",
        "         Iterations: 5\n",
        "         Function evaluations: 12\n",
        "Optimization terminated successfully."
       ]
      },
      {
       "output_type": "stream",
       "stream": "stdout",
       "text": [
        "\n",
        "         Current function value: 0.002644\n",
        "         Iterations: 5\n",
        "         Function evaluations: 11\n",
        "Optimization terminated successfully."
       ]
      },
      {
       "output_type": "stream",
       "stream": "stdout",
       "text": [
        "\n",
        "         Current function value: 0.032430\n",
        "         Iterations: 10\n",
        "         Function evaluations: 22\n",
        "Optimization terminated successfully."
       ]
      },
      {
       "output_type": "stream",
       "stream": "stdout",
       "text": [
        "\n",
        "         Current function value: 0.002115\n",
        "         Iterations: 8\n",
        "         Function evaluations: 17\n",
        "Optimization terminated successfully."
       ]
      },
      {
       "output_type": "stream",
       "stream": "stdout",
       "text": [
        "\n",
        "         Current function value: 0.001887\n",
        "         Iterations: 7\n",
        "         Function evaluations: 14\n",
        "Optimization terminated successfully."
       ]
      },
      {
       "output_type": "stream",
       "stream": "stdout",
       "text": [
        "\n",
        "         Current function value: 0.010654\n",
        "         Iterations: 6\n",
        "         Function evaluations: 13\n",
        "Optimization terminated successfully."
       ]
      },
      {
       "output_type": "stream",
       "stream": "stdout",
       "text": [
        "\n",
        "         Current function value: 0.004627\n",
        "         Iterations: 5\n",
        "         Function evaluations: 12\n",
        "Optimization terminated successfully."
       ]
      },
      {
       "output_type": "stream",
       "stream": "stdout",
       "text": [
        "\n",
        "         Current function value: 0.002131\n",
        "         Iterations: 5\n",
        "         Function evaluations: 11\n",
        "Optimization terminated successfully."
       ]
      },
      {
       "output_type": "stream",
       "stream": "stdout",
       "text": [
        "\n",
        "         Current function value: 0.082211\n",
        "         Iterations: 9\n",
        "         Function evaluations: 21\n",
        "Optimization terminated successfully."
       ]
      },
      {
       "output_type": "stream",
       "stream": "stdout",
       "text": [
        "\n",
        "         Current function value: 0.000911\n",
        "         Iterations: 7\n",
        "         Function evaluations: 14\n",
        "Optimization terminated successfully."
       ]
      },
      {
       "output_type": "stream",
       "stream": "stdout",
       "text": [
        "\n",
        "         Current function value: 0.004922\n",
        "         Iterations: 7\n",
        "         Function evaluations: 16\n",
        "Optimization terminated successfully."
       ]
      },
      {
       "output_type": "stream",
       "stream": "stdout",
       "text": [
        "\n",
        "         Current function value: 0.011651\n",
        "         Iterations: 6\n",
        "         Function evaluations: 12\n",
        "Optimization terminated successfully."
       ]
      },
      {
       "output_type": "stream",
       "stream": "stdout",
       "text": [
        "\n",
        "         Current function value: 0.005576\n",
        "         Iterations: 5\n",
        "         Function evaluations: 12\n",
        "Optimization terminated successfully."
       ]
      },
      {
       "output_type": "stream",
       "stream": "stdout",
       "text": [
        "\n",
        "         Current function value: 0.002771\n",
        "         Iterations: 5\n",
        "         Function evaluations: 12\n",
        "Optimization terminated successfully."
       ]
      },
      {
       "output_type": "stream",
       "stream": "stdout",
       "text": [
        "\n",
        "         Current function value: 0.029800\n",
        "         Iterations: 8\n",
        "         Function evaluations: 18\n",
        "Optimization terminated successfully."
       ]
      },
      {
       "output_type": "stream",
       "stream": "stdout",
       "text": [
        "\n",
        "         Current function value: 0.001176\n",
        "         Iterations: 8\n",
        "         Function evaluations: 16\n",
        "Optimization terminated successfully."
       ]
      },
      {
       "output_type": "stream",
       "stream": "stdout",
       "text": [
        "\n",
        "         Current function value: 0.007508\n",
        "         Iterations: 7\n",
        "         Function evaluations: 15\n",
        "Optimization terminated successfully."
       ]
      },
      {
       "output_type": "stream",
       "stream": "stdout",
       "text": [
        "\n",
        "         Current function value: 0.011891\n",
        "         Iterations: 6\n",
        "         Function evaluations: 13\n",
        "Optimization terminated successfully."
       ]
      },
      {
       "output_type": "stream",
       "stream": "stdout",
       "text": [
        "\n",
        "         Current function value: 0.003798\n",
        "         Iterations: 5\n",
        "         Function evaluations: 11\n",
        "Optimization terminated successfully."
       ]
      },
      {
       "output_type": "stream",
       "stream": "stdout",
       "text": [
        "\n",
        "         Current function value: 0.003630\n",
        "         Iterations: 5\n",
        "         Function evaluations: 10\n",
        "Optimization terminated successfully."
       ]
      },
      {
       "output_type": "stream",
       "stream": "stdout",
       "text": [
        "\n",
        "         Current function value: 0.035602\n",
        "         Iterations: 9\n",
        "         Function evaluations: 21\n",
        "Optimization terminated successfully."
       ]
      },
      {
       "output_type": "stream",
       "stream": "stdout",
       "text": [
        "\n",
        "         Current function value: 0.000453\n",
        "         Iterations: 7\n",
        "         Function evaluations: 14\n",
        "Optimization terminated successfully."
       ]
      },
      {
       "output_type": "stream",
       "stream": "stdout",
       "text": [
        "\n",
        "         Current function value: 0.006977\n",
        "         Iterations: 7\n",
        "         Function evaluations: 14\n",
        "Optimization terminated successfully."
       ]
      },
      {
       "output_type": "stream",
       "stream": "stdout",
       "text": [
        "\n",
        "         Current function value: 0.008284\n",
        "         Iterations: 6\n",
        "         Function evaluations: 13\n",
        "Optimization terminated successfully."
       ]
      },
      {
       "output_type": "stream",
       "stream": "stdout",
       "text": [
        "\n",
        "         Current function value: 0.005417\n",
        "         Iterations: 5\n",
        "         Function evaluations: 10\n",
        "Optimization terminated successfully."
       ]
      },
      {
       "output_type": "stream",
       "stream": "stdout",
       "text": [
        "\n",
        "         Current function value: 0.002678\n",
        "         Iterations: 6\n",
        "         Function evaluations: 13\n"
       ]
      }
     ],
     "prompt_number": 8
    }
   ],
   "metadata": {}
  }
 ]
}