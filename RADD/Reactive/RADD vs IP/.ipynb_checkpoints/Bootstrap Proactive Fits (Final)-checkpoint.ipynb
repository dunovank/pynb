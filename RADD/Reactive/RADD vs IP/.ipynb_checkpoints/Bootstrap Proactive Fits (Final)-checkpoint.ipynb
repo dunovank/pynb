{
 "metadata": {
  "name": "",
  "signature": "sha256:029bf7cc4c4f72d870f92bb0834bb90ea16efedb354c943e06a8e59540f5133a"
 },
 "nbformat": 3,
 "nbformat_minor": 0,
 "worksheets": [
  {
   "cells": [
    {
     "cell_type": "code",
     "collapsed": false,
     "input": [
      "import scipy.stats as stats\n",
      "import matplotlib.pyplot as plt\n",
      "from radd import utils, fitpro, vis, proboot\n",
      "from lmfit import Minimizer, Parameters\n",
      "from collections import OrderedDict\n",
      "pth=utils.find_path()"
     ],
     "language": "python",
     "metadata": {},
     "outputs": [],
     "prompt_number": 2
    },
    {
     "cell_type": "heading",
     "level": 2,
     "metadata": {},
     "source": [
      "Read DFs"
     ]
    },
    {
     "cell_type": "code",
     "collapsed": false,
     "input": [
      "utils=reload(utils); \n",
      "\n",
      "#df to resample for pstop\n",
      "prodf=pd.read_csv(pth+\"DataFiles/Pro_AllData.csv\", index_col=0)\n",
      "\n",
      "#go to proactive bootstrap directory\n",
      "os.chdir(utils.find_path()+\"OptAccRT/Proboot545/\")\n",
      "\n",
      "# init models with best fit parameters (estimated by fitting model to flattend data)\n",
      "opt_params=pd.read_csv(\"final_opt_theta.csv\", index_col=0, names=['val'])\n",
      "inits=opt_params['val'].to_dict()"
     ],
     "language": "python",
     "metadata": {},
     "outputs": [],
     "prompt_number": 3
    },
    {
     "cell_type": "heading",
     "level": 3,
     "metadata": {},
     "source": [
      "Run Main Bootstrapping function here"
     ]
    },
    {
     "cell_type": "code",
     "collapsed": false,
     "input": [
      "rt, pstop=proboot.Proboot(prodf, inits, niter=150, ntrials=2000, maxfun=500, method='rwr')"
     ],
     "language": "python",
     "metadata": {},
     "outputs": [
      {
       "output_type": "stream",
       "stream": "stdout",
       "text": [
        "Filtering Data (removing all rt < 545.1 ms)\n",
        "Optimization terminated successfully."
       ]
      },
      {
       "output_type": "stream",
       "stream": "stdout",
       "text": [
        "\n",
        "         Current function value: 0.000002\n",
        "         Iterations: 6\n",
        "         Function evaluations: 13\n",
        "Optimization terminated successfully."
       ]
      },
      {
       "output_type": "stream",
       "stream": "stdout",
       "text": [
        "\n",
        "         Current function value: 0.000279\n",
        "         Iterations: 8\n",
        "         Function evaluations: 17\n",
        "Optimization terminated successfully."
       ]
      },
      {
       "output_type": "stream",
       "stream": "stdout",
       "text": [
        "\n",
        "         Current function value: 0.001130\n",
        "         Iterations: 6\n",
        "         Function evaluations: 12\n",
        "Optimization terminated successfully."
       ]
      },
      {
       "output_type": "stream",
       "stream": "stdout",
       "text": [
        "\n",
        "         Current function value: 0.002662\n",
        "         Iterations: 6\n",
        "         Function evaluations: 13\n",
        "Optimization terminated successfully."
       ]
      },
      {
       "output_type": "stream",
       "stream": "stdout",
       "text": [
        "\n",
        "         Current function value: 0.002182\n",
        "         Iterations: 6\n",
        "         Function evaluations: 13\n",
        "Optimization terminated successfully."
       ]
      },
      {
       "output_type": "stream",
       "stream": "stdout",
       "text": [
        "\n",
        "         Current function value: 0.001362\n",
        "         Iterations: 5\n",
        "         Function evaluations: 10\n",
        "Optimization terminated successfully."
       ]
      },
      {
       "output_type": "stream",
       "stream": "stdout",
       "text": [
        "\n",
        "         Current function value: 0.000001\n",
        "         Iterations: 7\n",
        "         Function evaluations: 14\n",
        "Optimization terminated successfully."
       ]
      },
      {
       "output_type": "stream",
       "stream": "stdout",
       "text": [
        "\n",
        "         Current function value: 0.000005\n",
        "         Iterations: 7\n",
        "         Function evaluations: 15\n",
        "Optimization terminated successfully."
       ]
      },
      {
       "output_type": "stream",
       "stream": "stdout",
       "text": [
        "\n",
        "         Current function value: 0.000485\n",
        "         Iterations: 6\n",
        "         Function evaluations: 13\n",
        "Optimization terminated successfully."
       ]
      },
      {
       "output_type": "stream",
       "stream": "stdout",
       "text": [
        "\n",
        "         Current function value: 0.003465\n",
        "         Iterations: 7\n",
        "         Function evaluations: 14\n",
        "Optimization terminated successfully."
       ]
      },
      {
       "output_type": "stream",
       "stream": "stdout",
       "text": [
        "\n",
        "         Current function value: 0.001859\n",
        "         Iterations: 5\n",
        "         Function evaluations: 11\n",
        "Optimization terminated successfully."
       ]
      },
      {
       "output_type": "stream",
       "stream": "stdout",
       "text": [
        "\n",
        "         Current function value: 0.001485\n",
        "         Iterations: 5\n",
        "         Function evaluations: 12\n",
        "Optimization terminated successfully."
       ]
      },
      {
       "output_type": "stream",
       "stream": "stdout",
       "text": [
        "\n",
        "         Current function value: 0.000000\n",
        "         Iterations: 6\n",
        "         Function evaluations: 13\n",
        "Optimization terminated successfully."
       ]
      },
      {
       "output_type": "stream",
       "stream": "stdout",
       "text": [
        "\n",
        "         Current function value: 0.000164\n",
        "         Iterations: 7\n",
        "         Function evaluations: 15\n",
        "Optimization terminated successfully."
       ]
      },
      {
       "output_type": "stream",
       "stream": "stdout",
       "text": [
        "\n",
        "         Current function value: 0.001659\n",
        "         Iterations: 7\n",
        "         Function evaluations: 15\n",
        "Optimization terminated successfully."
       ]
      },
      {
       "output_type": "stream",
       "stream": "stdout",
       "text": [
        "\n",
        "         Current function value: 0.002636\n",
        "         Iterations: 6\n",
        "         Function evaluations: 12\n",
        "Optimization terminated successfully."
       ]
      },
      {
       "output_type": "stream",
       "stream": "stdout",
       "text": [
        "\n",
        "         Current function value: 0.002298\n",
        "         Iterations: 5\n",
        "         Function evaluations: 11\n",
        "Optimization terminated successfully."
       ]
      },
      {
       "output_type": "stream",
       "stream": "stdout",
       "text": [
        "\n",
        "         Current function value: 0.001306\n",
        "         Iterations: 5\n",
        "         Function evaluations: 11\n",
        "Optimization terminated successfully."
       ]
      },
      {
       "output_type": "stream",
       "stream": "stdout",
       "text": [
        "\n",
        "         Current function value: 0.000024\n",
        "         Iterations: 5\n",
        "         Function evaluations: 11\n",
        "Optimization terminated successfully."
       ]
      },
      {
       "output_type": "stream",
       "stream": "stdout",
       "text": [
        "\n",
        "         Current function value: 0.000137\n",
        "         Iterations: 7\n",
        "         Function evaluations: 14\n",
        "Optimization terminated successfully."
       ]
      },
      {
       "output_type": "stream",
       "stream": "stdout",
       "text": [
        "\n",
        "         Current function value: 0.000929\n",
        "         Iterations: 6\n",
        "         Function evaluations: 12\n",
        "Optimization terminated successfully."
       ]
      },
      {
       "output_type": "stream",
       "stream": "stdout",
       "text": [
        "\n",
        "         Current function value: 0.002425\n",
        "         Iterations: 5\n",
        "         Function evaluations: 10\n",
        "Optimization terminated successfully."
       ]
      },
      {
       "output_type": "stream",
       "stream": "stdout",
       "text": [
        "\n",
        "         Current function value: 0.001789\n",
        "         Iterations: 5\n",
        "         Function evaluations: 11\n",
        "Optimization terminated successfully."
       ]
      },
      {
       "output_type": "stream",
       "stream": "stdout",
       "text": [
        "\n",
        "         Current function value: 0.001061\n",
        "         Iterations: 5\n",
        "         Function evaluations: 10\n",
        "Optimization terminated successfully."
       ]
      },
      {
       "output_type": "stream",
       "stream": "stdout",
       "text": [
        "\n",
        "         Current function value: 0.000014\n",
        "         Iterations: 6\n",
        "         Function evaluations: 12\n",
        "Optimization terminated successfully."
       ]
      },
      {
       "output_type": "stream",
       "stream": "stdout",
       "text": [
        "\n",
        "         Current function value: 0.000069\n",
        "         Iterations: 6\n",
        "         Function evaluations: 12\n",
        "Optimization terminated successfully."
       ]
      },
      {
       "output_type": "stream",
       "stream": "stdout",
       "text": [
        "\n",
        "         Current function value: 0.001778\n",
        "         Iterations: 6\n",
        "         Function evaluations: 13\n",
        "Optimization terminated successfully."
       ]
      },
      {
       "output_type": "stream",
       "stream": "stdout",
       "text": [
        "\n",
        "         Current function value: 0.004285\n",
        "         Iterations: 6\n",
        "         Function evaluations: 13\n",
        "Optimization terminated successfully."
       ]
      },
      {
       "output_type": "stream",
       "stream": "stdout",
       "text": [
        "\n",
        "         Current function value: 0.001402\n",
        "         Iterations: 5\n",
        "         Function evaluations: 10\n",
        "Optimization terminated successfully."
       ]
      },
      {
       "output_type": "stream",
       "stream": "stdout",
       "text": [
        "\n",
        "         Current function value: 0.001299\n",
        "         Iterations: 5\n",
        "         Function evaluations: 10\n",
        "Optimization terminated successfully."
       ]
      },
      {
       "output_type": "stream",
       "stream": "stdout",
       "text": [
        "\n",
        "         Current function value: 0.000000\n",
        "         Iterations: 7\n",
        "         Function evaluations: 14\n",
        "Optimization terminated successfully."
       ]
      },
      {
       "output_type": "stream",
       "stream": "stdout",
       "text": [
        "\n",
        "         Current function value: 0.000062\n",
        "         Iterations: 7\n",
        "         Function evaluations: 14\n",
        "Optimization terminated successfully."
       ]
      },
      {
       "output_type": "stream",
       "stream": "stdout",
       "text": [
        "\n",
        "         Current function value: 0.001374\n",
        "         Iterations: 6\n",
        "         Function evaluations: 12\n",
        "Optimization terminated successfully."
       ]
      },
      {
       "output_type": "stream",
       "stream": "stdout",
       "text": [
        "\n",
        "         Current function value: 0.002603\n",
        "         Iterations: 6\n",
        "         Function evaluations: 12\n",
        "Optimization terminated successfully."
       ]
      },
      {
       "output_type": "stream",
       "stream": "stdout",
       "text": [
        "\n",
        "         Current function value: 0.001692\n",
        "         Iterations: 5\n",
        "         Function evaluations: 11\n",
        "Optimization terminated successfully."
       ]
      },
      {
       "output_type": "stream",
       "stream": "stdout",
       "text": [
        "\n",
        "         Current function value: 0.001468\n",
        "         Iterations: 5\n",
        "         Function evaluations: 11\n",
        "Optimization terminated successfully."
       ]
      },
      {
       "output_type": "stream",
       "stream": "stdout",
       "text": [
        "\n",
        "         Current function value: 0.000006\n",
        "         Iterations: 6\n",
        "         Function evaluations: 13\n",
        "Optimization terminated successfully."
       ]
      },
      {
       "output_type": "stream",
       "stream": "stdout",
       "text": [
        "\n",
        "         Current function value: 0.000037\n",
        "         Iterations: 6\n",
        "         Function evaluations: 13\n",
        "Optimization terminated successfully."
       ]
      },
      {
       "output_type": "stream",
       "stream": "stdout",
       "text": [
        "\n",
        "         Current function value: 0.000425\n",
        "         Iterations: 6\n",
        "         Function evaluations: 12\n",
        "Optimization terminated successfully."
       ]
      },
      {
       "output_type": "stream",
       "stream": "stdout",
       "text": [
        "\n",
        "         Current function value: 0.002139\n",
        "         Iterations: 7\n",
        "         Function evaluations: 14\n",
        "Optimization terminated successfully."
       ]
      },
      {
       "output_type": "stream",
       "stream": "stdout",
       "text": [
        "\n",
        "         Current function value: 0.001742\n",
        "         Iterations: 6\n",
        "         Function evaluations: 13\n",
        "Optimization terminated successfully."
       ]
      },
      {
       "output_type": "stream",
       "stream": "stdout",
       "text": [
        "\n",
        "         Current function value: 0.001165\n",
        "         Iterations: 5\n",
        "         Function evaluations: 11\n",
        "Optimization terminated successfully."
       ]
      },
      {
       "output_type": "stream",
       "stream": "stdout",
       "text": [
        "\n",
        "         Current function value: 0.000003\n",
        "         Iterations: 7\n",
        "         Function evaluations: 15\n",
        "Optimization terminated successfully."
       ]
      },
      {
       "output_type": "stream",
       "stream": "stdout",
       "text": [
        "\n",
        "         Current function value: 0.000050\n",
        "         Iterations: 6\n",
        "         Function evaluations: 13\n",
        "Optimization terminated successfully."
       ]
      },
      {
       "output_type": "stream",
       "stream": "stdout",
       "text": [
        "\n",
        "         Current function value: 0.001344\n",
        "         Iterations: 6\n",
        "         Function evaluations: 12\n",
        "Optimization terminated successfully."
       ]
      },
      {
       "output_type": "stream",
       "stream": "stdout",
       "text": [
        "\n",
        "         Current function value: 0.002823\n",
        "         Iterations: 6\n",
        "         Function evaluations: 13\n",
        "Optimization terminated successfully."
       ]
      },
      {
       "output_type": "stream",
       "stream": "stdout",
       "text": [
        "\n",
        "         Current function value: 0.001360\n",
        "         Iterations: 5\n",
        "         Function evaluations: 11\n",
        "Optimization terminated successfully."
       ]
      },
      {
       "output_type": "stream",
       "stream": "stdout",
       "text": [
        "\n",
        "         Current function value: 0.001466\n",
        "         Iterations: 5\n",
        "         Function evaluations: 12\n",
        "Optimization terminated successfully."
       ]
      },
      {
       "output_type": "stream",
       "stream": "stdout",
       "text": [
        "\n",
        "         Current function value: 0.000001\n",
        "         Iterations: 6\n",
        "         Function evaluations: 14\n",
        "Optimization terminated successfully."
       ]
      },
      {
       "output_type": "stream",
       "stream": "stdout",
       "text": [
        "\n",
        "         Current function value: 0.000330\n",
        "         Iterations: 7\n",
        "         Function evaluations: 15\n",
        "Optimization terminated successfully."
       ]
      },
      {
       "output_type": "stream",
       "stream": "stdout",
       "text": [
        "\n",
        "         Current function value: 0.000414\n",
        "         Iterations: 7\n",
        "         Function evaluations: 14\n",
        "Optimization terminated successfully."
       ]
      },
      {
       "output_type": "stream",
       "stream": "stdout",
       "text": [
        "\n",
        "         Current function value: 0.003963\n",
        "         Iterations: 6\n",
        "         Function evaluations: 12\n",
        "Optimization terminated successfully."
       ]
      },
      {
       "output_type": "stream",
       "stream": "stdout",
       "text": [
        "\n",
        "         Current function value: 0.001554\n",
        "         Iterations: 7\n",
        "         Function evaluations: 15\n",
        "Optimization terminated successfully."
       ]
      },
      {
       "output_type": "stream",
       "stream": "stdout",
       "text": [
        "\n",
        "         Current function value: 0.001257\n",
        "         Iterations: 8\n",
        "         Function evaluations: 16\n",
        "Optimization terminated successfully."
       ]
      },
      {
       "output_type": "stream",
       "stream": "stdout",
       "text": [
        "\n",
        "         Current function value: 0.000000\n",
        "         Iterations: 6\n",
        "         Function evaluations: 12\n",
        "Optimization terminated successfully."
       ]
      },
      {
       "output_type": "stream",
       "stream": "stdout",
       "text": [
        "\n",
        "         Current function value: 0.000400\n",
        "         Iterations: 6\n",
        "         Function evaluations: 14\n",
        "Optimization terminated successfully."
       ]
      },
      {
       "output_type": "stream",
       "stream": "stdout",
       "text": [
        "\n",
        "         Current function value: 0.000852\n",
        "         Iterations: 6\n",
        "         Function evaluations: 12\n",
        "Optimization terminated successfully."
       ]
      },
      {
       "output_type": "stream",
       "stream": "stdout",
       "text": [
        "\n",
        "         Current function value: 0.004212\n",
        "         Iterations: 6\n",
        "         Function evaluations: 13\n",
        "Optimization terminated successfully."
       ]
      },
      {
       "output_type": "stream",
       "stream": "stdout",
       "text": [
        "\n",
        "         Current function value: 0.001573\n",
        "         Iterations: 5\n",
        "         Function evaluations: 10\n",
        "Optimization terminated successfully."
       ]
      },
      {
       "output_type": "stream",
       "stream": "stdout",
       "text": [
        "\n",
        "         Current function value: 0.000956\n",
        "         Iterations: 5\n",
        "         Function evaluations: 10\n",
        "Optimization terminated successfully."
       ]
      },
      {
       "output_type": "stream",
       "stream": "stdout",
       "text": [
        "\n",
        "         Current function value: 0.000025\n",
        "         Iterations: 6\n",
        "         Function evaluations: 13\n",
        "Optimization terminated successfully."
       ]
      },
      {
       "output_type": "stream",
       "stream": "stdout",
       "text": [
        "\n",
        "         Current function value: 0.000026\n",
        "         Iterations: 6\n",
        "         Function evaluations: 13\n",
        "Optimization terminated successfully."
       ]
      },
      {
       "output_type": "stream",
       "stream": "stdout",
       "text": [
        "\n",
        "         Current function value: 0.001630\n",
        "         Iterations: 6\n",
        "         Function evaluations: 12\n",
        "Optimization terminated successfully."
       ]
      },
      {
       "output_type": "stream",
       "stream": "stdout",
       "text": [
        "\n",
        "         Current function value: 0.002957\n",
        "         Iterations: 6\n",
        "         Function evaluations: 13\n",
        "Optimization terminated successfully."
       ]
      },
      {
       "output_type": "stream",
       "stream": "stdout",
       "text": [
        "\n",
        "         Current function value: 0.001920\n",
        "         Iterations: 6\n",
        "         Function evaluations: 12\n",
        "Optimization terminated successfully."
       ]
      },
      {
       "output_type": "stream",
       "stream": "stdout",
       "text": [
        "\n",
        "         Current function value: 0.001092\n",
        "         Iterations: 6\n",
        "         Function evaluations: 13\n",
        "Optimization terminated successfully."
       ]
      },
      {
       "output_type": "stream",
       "stream": "stdout",
       "text": [
        "\n",
        "         Current function value: 0.000027\n",
        "         Iterations: 7\n",
        "         Function evaluations: 15\n",
        "Optimization terminated successfully."
       ]
      },
      {
       "output_type": "stream",
       "stream": "stdout",
       "text": [
        "\n",
        "         Current function value: 0.000017\n",
        "         Iterations: 7\n",
        "         Function evaluations: 15\n",
        "Optimization terminated successfully."
       ]
      },
      {
       "output_type": "stream",
       "stream": "stdout",
       "text": [
        "\n",
        "         Current function value: 0.000847\n",
        "         Iterations: 6\n",
        "         Function evaluations: 13\n",
        "Optimization terminated successfully."
       ]
      },
      {
       "output_type": "stream",
       "stream": "stdout",
       "text": [
        "\n",
        "         Current function value: 0.003826\n",
        "         Iterations: 6\n",
        "         Function evaluations: 12\n",
        "Optimization terminated successfully."
       ]
      },
      {
       "output_type": "stream",
       "stream": "stdout",
       "text": [
        "\n",
        "         Current function value: 0.002013\n",
        "         Iterations: 5\n",
        "         Function evaluations: 10\n",
        "Optimization terminated successfully."
       ]
      },
      {
       "output_type": "stream",
       "stream": "stdout",
       "text": [
        "\n",
        "         Current function value: 0.001608\n",
        "         Iterations: 5\n",
        "         Function evaluations: 11\n",
        "Optimization terminated successfully."
       ]
      },
      {
       "output_type": "stream",
       "stream": "stdout",
       "text": [
        "\n",
        "         Current function value: 0.000000\n",
        "         Iterations: 7\n",
        "         Function evaluations: 14\n",
        "Optimization terminated successfully."
       ]
      },
      {
       "output_type": "stream",
       "stream": "stdout",
       "text": [
        "\n",
        "         Current function value: 0.000323\n",
        "         Iterations: 6\n",
        "         Function evaluations: 13\n",
        "Optimization terminated successfully."
       ]
      },
      {
       "output_type": "stream",
       "stream": "stdout",
       "text": [
        "\n",
        "         Current function value: 0.000999\n",
        "         Iterations: 6\n",
        "         Function evaluations: 12\n",
        "Optimization terminated successfully."
       ]
      },
      {
       "output_type": "stream",
       "stream": "stdout",
       "text": [
        "\n",
        "         Current function value: 0.002916\n",
        "         Iterations: 7\n",
        "         Function evaluations: 14\n",
        "Optimization terminated successfully."
       ]
      },
      {
       "output_type": "stream",
       "stream": "stdout",
       "text": [
        "\n",
        "         Current function value: 0.001222\n",
        "         Iterations: 5\n",
        "         Function evaluations: 10\n",
        "Optimization terminated successfully."
       ]
      },
      {
       "output_type": "stream",
       "stream": "stdout",
       "text": [
        "\n",
        "         Current function value: 0.001687\n",
        "         Iterations: 5\n",
        "         Function evaluations: 10\n",
        "Optimization terminated successfully."
       ]
      },
      {
       "output_type": "stream",
       "stream": "stdout",
       "text": [
        "\n",
        "         Current function value: 0.000001\n",
        "         Iterations: 7\n",
        "         Function evaluations: 15\n",
        "Optimization terminated successfully."
       ]
      },
      {
       "output_type": "stream",
       "stream": "stdout",
       "text": [
        "\n",
        "         Current function value: 0.000020\n",
        "         Iterations: 7\n",
        "         Function evaluations: 15\n",
        "Optimization terminated successfully."
       ]
      },
      {
       "output_type": "stream",
       "stream": "stdout",
       "text": [
        "\n",
        "         Current function value: 0.000277\n",
        "         Iterations: 6\n",
        "         Function evaluations: 13\n",
        "Optimization terminated successfully."
       ]
      },
      {
       "output_type": "stream",
       "stream": "stdout",
       "text": [
        "\n",
        "         Current function value: 0.003565\n",
        "         Iterations: 6\n",
        "         Function evaluations: 12\n",
        "Optimization terminated successfully."
       ]
      },
      {
       "output_type": "stream",
       "stream": "stdout",
       "text": [
        "\n",
        "         Current function value: 0.001469\n",
        "         Iterations: 7\n",
        "         Function evaluations: 14\n",
        "Optimization terminated successfully."
       ]
      },
      {
       "output_type": "stream",
       "stream": "stdout",
       "text": [
        "\n",
        "         Current function value: 0.001578\n",
        "         Iterations: 5\n",
        "         Function evaluations: 10\n",
        "Optimization terminated successfully."
       ]
      },
      {
       "output_type": "stream",
       "stream": "stdout",
       "text": [
        "\n",
        "         Current function value: 0.000000\n",
        "         Iterations: 7\n",
        "         Function evaluations: 14\n",
        "Optimization terminated successfully."
       ]
      },
      {
       "output_type": "stream",
       "stream": "stdout",
       "text": [
        "\n",
        "         Current function value: 0.000213\n",
        "         Iterations: 8\n",
        "         Function evaluations: 16\n",
        "Optimization terminated successfully."
       ]
      },
      {
       "output_type": "stream",
       "stream": "stdout",
       "text": [
        "\n",
        "         Current function value: 0.001071\n",
        "         Iterations: 6\n",
        "         Function evaluations: 12\n",
        "Optimization terminated successfully."
       ]
      },
      {
       "output_type": "stream",
       "stream": "stdout",
       "text": [
        "\n",
        "         Current function value: 0.003001\n",
        "         Iterations: 6\n",
        "         Function evaluations: 13\n",
        "Optimization terminated successfully."
       ]
      },
      {
       "output_type": "stream",
       "stream": "stdout",
       "text": [
        "\n",
        "         Current function value: 0.001777\n",
        "         Iterations: 5\n",
        "         Function evaluations: 11\n",
        "Optimization terminated successfully."
       ]
      },
      {
       "output_type": "stream",
       "stream": "stdout",
       "text": [
        "\n",
        "         Current function value: 0.001381\n",
        "         Iterations: 5\n",
        "         Function evaluations: 10\n",
        "Optimization terminated successfully."
       ]
      },
      {
       "output_type": "stream",
       "stream": "stdout",
       "text": [
        "\n",
        "         Current function value: 0.000002\n",
        "         Iterations: 5\n",
        "         Function evaluations: 11\n",
        "Optimization terminated successfully."
       ]
      },
      {
       "output_type": "stream",
       "stream": "stdout",
       "text": [
        "\n",
        "         Current function value: 0.000017\n",
        "         Iterations: 7\n",
        "         Function evaluations: 16\n",
        "Optimization terminated successfully."
       ]
      },
      {
       "output_type": "stream",
       "stream": "stdout",
       "text": [
        "\n",
        "         Current function value: 0.001616\n",
        "         Iterations: 7\n",
        "         Function evaluations: 14\n",
        "Optimization terminated successfully."
       ]
      },
      {
       "output_type": "stream",
       "stream": "stdout",
       "text": [
        "\n",
        "         Current function value: 0.002587\n",
        "         Iterations: 6\n",
        "         Function evaluations: 12\n",
        "Optimization terminated successfully."
       ]
      },
      {
       "output_type": "stream",
       "stream": "stdout",
       "text": [
        "\n",
        "         Current function value: 0.001777\n",
        "         Iterations: 6\n",
        "         Function evaluations: 12\n",
        "Optimization terminated successfully."
       ]
      },
      {
       "output_type": "stream",
       "stream": "stdout",
       "text": [
        "\n",
        "         Current function value: 0.001248\n",
        "         Iterations: 5\n",
        "         Function evaluations: 11\n",
        "Optimization terminated successfully."
       ]
      },
      {
       "output_type": "stream",
       "stream": "stdout",
       "text": [
        "\n",
        "         Current function value: 0.000009\n",
        "         Iterations: 6\n",
        "         Function evaluations: 13\n",
        "Optimization terminated successfully."
       ]
      },
      {
       "output_type": "stream",
       "stream": "stdout",
       "text": [
        "\n",
        "         Current function value: 0.000003\n",
        "         Iterations: 7\n",
        "         Function evaluations: 15\n",
        "Optimization terminated successfully."
       ]
      },
      {
       "output_type": "stream",
       "stream": "stdout",
       "text": [
        "\n",
        "         Current function value: 0.000887\n",
        "         Iterations: 6\n",
        "         Function evaluations: 12\n",
        "Optimization terminated successfully."
       ]
      },
      {
       "output_type": "stream",
       "stream": "stdout",
       "text": [
        "\n",
        "         Current function value: 0.003180\n",
        "         Iterations: 6\n",
        "         Function evaluations: 12\n",
        "Optimization terminated successfully."
       ]
      },
      {
       "output_type": "stream",
       "stream": "stdout",
       "text": [
        "\n",
        "         Current function value: 0.001384\n",
        "         Iterations: 5\n",
        "         Function evaluations: 10\n",
        "Optimization terminated successfully."
       ]
      },
      {
       "output_type": "stream",
       "stream": "stdout",
       "text": [
        "\n",
        "         Current function value: 0.001268\n",
        "         Iterations: 5\n",
        "         Function evaluations: 10\n",
        "Optimization terminated successfully."
       ]
      },
      {
       "output_type": "stream",
       "stream": "stdout",
       "text": [
        "\n",
        "         Current function value: 0.000008\n",
        "         Iterations: 6\n",
        "         Function evaluations: 12\n",
        "Optimization terminated successfully."
       ]
      },
      {
       "output_type": "stream",
       "stream": "stdout",
       "text": [
        "\n",
        "         Current function value: 0.000011\n",
        "         Iterations: 6\n",
        "         Function evaluations: 12\n",
        "Optimization terminated successfully."
       ]
      },
      {
       "output_type": "stream",
       "stream": "stdout",
       "text": [
        "\n",
        "         Current function value: 0.000663\n",
        "         Iterations: 6\n",
        "         Function evaluations: 12\n",
        "Optimization terminated successfully."
       ]
      },
      {
       "output_type": "stream",
       "stream": "stdout",
       "text": [
        "\n",
        "         Current function value: 0.002266\n",
        "         Iterations: 6\n",
        "         Function evaluations: 12\n",
        "Optimization terminated successfully."
       ]
      },
      {
       "output_type": "stream",
       "stream": "stdout",
       "text": [
        "\n",
        "         Current function value: 0.001557\n",
        "         Iterations: 5\n",
        "         Function evaluations: 11\n",
        "Optimization terminated successfully."
       ]
      },
      {
       "output_type": "stream",
       "stream": "stdout",
       "text": [
        "\n",
        "         Current function value: 0.000926\n",
        "         Iterations: 5\n",
        "         Function evaluations: 10\n",
        "Optimization terminated successfully."
       ]
      },
      {
       "output_type": "stream",
       "stream": "stdout",
       "text": [
        "\n",
        "         Current function value: 0.000008\n",
        "         Iterations: 6\n",
        "         Function evaluations: 13\n",
        "Optimization terminated successfully."
       ]
      },
      {
       "output_type": "stream",
       "stream": "stdout",
       "text": [
        "\n",
        "         Current function value: 0.000053\n",
        "         Iterations: 6\n",
        "         Function evaluations: 12\n",
        "Optimization terminated successfully."
       ]
      },
      {
       "output_type": "stream",
       "stream": "stdout",
       "text": [
        "\n",
        "         Current function value: 0.001070\n",
        "         Iterations: 6\n",
        "         Function evaluations: 12\n",
        "Optimization terminated successfully."
       ]
      },
      {
       "output_type": "stream",
       "stream": "stdout",
       "text": [
        "\n",
        "         Current function value: 0.002817\n",
        "         Iterations: 6\n",
        "         Function evaluations: 12\n",
        "Optimization terminated successfully."
       ]
      },
      {
       "output_type": "stream",
       "stream": "stdout",
       "text": [
        "\n",
        "         Current function value: 0.002648\n",
        "         Iterations: 5\n",
        "         Function evaluations: 10\n",
        "Optimization terminated successfully."
       ]
      },
      {
       "output_type": "stream",
       "stream": "stdout",
       "text": [
        "\n",
        "         Current function value: 0.001634\n",
        "         Iterations: 5\n",
        "         Function evaluations: 10\n",
        "Optimization terminated successfully."
       ]
      },
      {
       "output_type": "stream",
       "stream": "stdout",
       "text": [
        "\n",
        "         Current function value: 0.000000\n",
        "         Iterations: 6\n",
        "         Function evaluations: 12\n",
        "Optimization terminated successfully."
       ]
      },
      {
       "output_type": "stream",
       "stream": "stdout",
       "text": [
        "\n",
        "         Current function value: 0.000088\n",
        "         Iterations: 7\n",
        "         Function evaluations: 15\n",
        "Optimization terminated successfully."
       ]
      },
      {
       "output_type": "stream",
       "stream": "stdout",
       "text": [
        "\n",
        "         Current function value: 0.000916\n",
        "         Iterations: 7\n",
        "         Function evaluations: 14\n",
        "Optimization terminated successfully."
       ]
      },
      {
       "output_type": "stream",
       "stream": "stdout",
       "text": [
        "\n",
        "         Current function value: 0.002374\n",
        "         Iterations: 6\n",
        "         Function evaluations: 12\n",
        "Optimization terminated successfully."
       ]
      },
      {
       "output_type": "stream",
       "stream": "stdout",
       "text": [
        "\n",
        "         Current function value: 0.001402\n",
        "         Iterations: 5\n",
        "         Function evaluations: 11\n",
        "Optimization terminated successfully."
       ]
      },
      {
       "output_type": "stream",
       "stream": "stdout",
       "text": [
        "\n",
        "         Current function value: 0.001002\n",
        "         Iterations: 5\n",
        "         Function evaluations: 10\n",
        "Optimization terminated successfully."
       ]
      },
      {
       "output_type": "stream",
       "stream": "stdout",
       "text": [
        "\n",
        "         Current function value: 0.000003\n",
        "         Iterations: 7\n",
        "         Function evaluations: 15\n",
        "Optimization terminated successfully."
       ]
      },
      {
       "output_type": "stream",
       "stream": "stdout",
       "text": [
        "\n",
        "         Current function value: 0.000122\n",
        "         Iterations: 6\n",
        "         Function evaluations: 12\n",
        "Optimization terminated successfully."
       ]
      },
      {
       "output_type": "stream",
       "stream": "stdout",
       "text": [
        "\n",
        "         Current function value: 0.000635\n",
        "         Iterations: 6\n",
        "         Function evaluations: 12\n",
        "Optimization terminated successfully."
       ]
      },
      {
       "output_type": "stream",
       "stream": "stdout",
       "text": [
        "\n",
        "         Current function value: 0.002835\n",
        "         Iterations: 6\n",
        "         Function evaluations: 12\n",
        "Optimization terminated successfully."
       ]
      },
      {
       "output_type": "stream",
       "stream": "stdout",
       "text": [
        "\n",
        "         Current function value: 0.001395\n",
        "         Iterations: 6\n",
        "         Function evaluations: 13\n",
        "Optimization terminated successfully."
       ]
      },
      {
       "output_type": "stream",
       "stream": "stdout",
       "text": [
        "\n",
        "         Current function value: 0.001190\n",
        "         Iterations: 5\n",
        "         Function evaluations: 10\n",
        "Optimization terminated successfully."
       ]
      },
      {
       "output_type": "stream",
       "stream": "stdout",
       "text": [
        "\n",
        "         Current function value: 0.000004\n",
        "         Iterations: 5\n",
        "         Function evaluations: 11\n",
        "Optimization terminated successfully."
       ]
      },
      {
       "output_type": "stream",
       "stream": "stdout",
       "text": [
        "\n",
        "         Current function value: 0.000196\n",
        "         Iterations: 6\n",
        "         Function evaluations: 13\n",
        "Optimization terminated successfully."
       ]
      },
      {
       "output_type": "stream",
       "stream": "stdout",
       "text": [
        "\n",
        "         Current function value: 0.000727\n",
        "         Iterations: 6\n",
        "         Function evaluations: 13\n",
        "Optimization terminated successfully."
       ]
      },
      {
       "output_type": "stream",
       "stream": "stdout",
       "text": [
        "\n",
        "         Current function value: 0.002309\n",
        "         Iterations: 6\n",
        "         Function evaluations: 12\n",
        "Optimization terminated successfully."
       ]
      },
      {
       "output_type": "stream",
       "stream": "stdout",
       "text": [
        "\n",
        "         Current function value: 0.001843\n",
        "         Iterations: 5\n",
        "         Function evaluations: 10\n",
        "Optimization terminated successfully."
       ]
      },
      {
       "output_type": "stream",
       "stream": "stdout",
       "text": [
        "\n",
        "         Current function value: 0.001340\n",
        "         Iterations: 6\n",
        "         Function evaluations: 13\n",
        "Optimization terminated successfully."
       ]
      },
      {
       "output_type": "stream",
       "stream": "stdout",
       "text": [
        "\n",
        "         Current function value: 0.000001\n",
        "         Iterations: 6\n",
        "         Function evaluations: 12\n",
        "Optimization terminated successfully."
       ]
      },
      {
       "output_type": "stream",
       "stream": "stdout",
       "text": [
        "\n",
        "         Current function value: 0.000392\n",
        "         Iterations: 7\n",
        "         Function evaluations: 16\n",
        "Optimization terminated successfully."
       ]
      },
      {
       "output_type": "stream",
       "stream": "stdout",
       "text": [
        "\n",
        "         Current function value: 0.001686\n",
        "         Iterations: 6\n",
        "         Function evaluations: 13\n",
        "Optimization terminated successfully."
       ]
      },
      {
       "output_type": "stream",
       "stream": "stdout",
       "text": [
        "\n",
        "         Current function value: 0.003076\n",
        "         Iterations: 6\n",
        "         Function evaluations: 12\n",
        "Optimization terminated successfully."
       ]
      },
      {
       "output_type": "stream",
       "stream": "stdout",
       "text": [
        "\n",
        "         Current function value: 0.001290\n",
        "         Iterations: 5\n",
        "         Function evaluations: 10\n",
        "Optimization terminated successfully."
       ]
      },
      {
       "output_type": "stream",
       "stream": "stdout",
       "text": [
        "\n",
        "         Current function value: 0.001453\n",
        "         Iterations: 5\n",
        "         Function evaluations: 11\n",
        "Optimization terminated successfully."
       ]
      },
      {
       "output_type": "stream",
       "stream": "stdout",
       "text": [
        "\n",
        "         Current function value: 0.000003\n",
        "         Iterations: 7\n",
        "         Function evaluations: 16\n",
        "Optimization terminated successfully."
       ]
      },
      {
       "output_type": "stream",
       "stream": "stdout",
       "text": [
        "\n",
        "         Current function value: 0.000035\n",
        "         Iterations: 7\n",
        "         Function evaluations: 15\n",
        "Optimization terminated successfully."
       ]
      },
      {
       "output_type": "stream",
       "stream": "stdout",
       "text": [
        "\n",
        "         Current function value: 0.000814\n",
        "         Iterations: 6\n",
        "         Function evaluations: 14\n",
        "Optimization terminated successfully."
       ]
      },
      {
       "output_type": "stream",
       "stream": "stdout",
       "text": [
        "\n",
        "         Current function value: 0.003221\n",
        "         Iterations: 6\n",
        "         Function evaluations: 13\n",
        "Optimization terminated successfully."
       ]
      },
      {
       "output_type": "stream",
       "stream": "stdout",
       "text": [
        "\n",
        "         Current function value: 0.001680\n",
        "         Iterations: 5\n",
        "         Function evaluations: 10\n",
        "Optimization terminated successfully."
       ]
      },
      {
       "output_type": "stream",
       "stream": "stdout",
       "text": [
        "\n",
        "         Current function value: 0.001247\n",
        "         Iterations: 5\n",
        "         Function evaluations: 10\n",
        "Optimization terminated successfully."
       ]
      },
      {
       "output_type": "stream",
       "stream": "stdout",
       "text": [
        "\n",
        "         Current function value: 0.000001\n",
        "         Iterations: 6\n",
        "         Function evaluations: 12\n",
        "Optimization terminated successfully."
       ]
      },
      {
       "output_type": "stream",
       "stream": "stdout",
       "text": [
        "\n",
        "         Current function value: 0.000226\n",
        "         Iterations: 8\n",
        "         Function evaluations: 17\n",
        "Optimization terminated successfully."
       ]
      },
      {
       "output_type": "stream",
       "stream": "stdout",
       "text": [
        "\n",
        "         Current function value: 0.000242\n",
        "         Iterations: 6\n",
        "         Function evaluations: 12\n",
        "Optimization terminated successfully."
       ]
      },
      {
       "output_type": "stream",
       "stream": "stdout",
       "text": [
        "\n",
        "         Current function value: 0.003986\n",
        "         Iterations: 6\n",
        "         Function evaluations: 12\n",
        "Optimization terminated successfully."
       ]
      },
      {
       "output_type": "stream",
       "stream": "stdout",
       "text": [
        "\n",
        "         Current function value: 0.001665\n",
        "         Iterations: 6\n",
        "         Function evaluations: 12\n",
        "Optimization terminated successfully."
       ]
      },
      {
       "output_type": "stream",
       "stream": "stdout",
       "text": [
        "\n",
        "         Current function value: 0.001476\n",
        "         Iterations: 6\n",
        "         Function evaluations: 14\n",
        "Optimization terminated successfully."
       ]
      },
      {
       "output_type": "stream",
       "stream": "stdout",
       "text": [
        "\n",
        "         Current function value: 0.000002\n",
        "         Iterations: 6\n",
        "         Function evaluations: 12\n",
        "Optimization terminated successfully."
       ]
      },
      {
       "output_type": "stream",
       "stream": "stdout",
       "text": [
        "\n",
        "         Current function value: 0.000039\n",
        "         Iterations: 7\n",
        "         Function evaluations: 15\n",
        "Optimization terminated successfully."
       ]
      },
      {
       "output_type": "stream",
       "stream": "stdout",
       "text": [
        "\n",
        "         Current function value: 0.001076\n",
        "         Iterations: 6\n",
        "         Function evaluations: 12\n",
        "Optimization terminated successfully."
       ]
      },
      {
       "output_type": "stream",
       "stream": "stdout",
       "text": [
        "\n",
        "         Current function value: 0.003129\n",
        "         Iterations: 7\n",
        "         Function evaluations: 16\n",
        "Optimization terminated successfully."
       ]
      },
      {
       "output_type": "stream",
       "stream": "stdout",
       "text": [
        "\n",
        "         Current function value: 0.001153\n",
        "         Iterations: 5\n",
        "         Function evaluations: 10\n",
        "Optimization terminated successfully."
       ]
      },
      {
       "output_type": "stream",
       "stream": "stdout",
       "text": [
        "\n",
        "         Current function value: 0.001073\n",
        "         Iterations: 5\n",
        "         Function evaluations: 11\n",
        "Optimization terminated successfully."
       ]
      },
      {
       "output_type": "stream",
       "stream": "stdout",
       "text": [
        "\n",
        "         Current function value: 0.000045\n",
        "         Iterations: 6\n",
        "         Function evaluations: 14\n",
        "Optimization terminated successfully."
       ]
      },
      {
       "output_type": "stream",
       "stream": "stdout",
       "text": [
        "\n",
        "         Current function value: 0.000002\n",
        "         Iterations: 7\n",
        "         Function evaluations: 15\n",
        "Optimization terminated successfully."
       ]
      },
      {
       "output_type": "stream",
       "stream": "stdout",
       "text": [
        "\n",
        "         Current function value: 0.000476\n",
        "         Iterations: 6\n",
        "         Function evaluations: 12\n",
        "Optimization terminated successfully."
       ]
      },
      {
       "output_type": "stream",
       "stream": "stdout",
       "text": [
        "\n",
        "         Current function value: 0.003615\n",
        "         Iterations: 6\n",
        "         Function evaluations: 13\n",
        "Optimization terminated successfully."
       ]
      },
      {
       "output_type": "stream",
       "stream": "stdout",
       "text": [
        "\n",
        "         Current function value: 0.001879\n",
        "         Iterations: 5\n",
        "         Function evaluations: 11\n",
        "Optimization terminated successfully."
       ]
      },
      {
       "output_type": "stream",
       "stream": "stdout",
       "text": [
        "\n",
        "         Current function value: 0.001824\n",
        "         Iterations: 5\n",
        "         Function evaluations: 10\n",
        "Optimization terminated successfully."
       ]
      },
      {
       "output_type": "stream",
       "stream": "stdout",
       "text": [
        "\n",
        "         Current function value: 0.000004\n",
        "         Iterations: 7\n",
        "         Function evaluations: 16\n",
        "Optimization terminated successfully."
       ]
      },
      {
       "output_type": "stream",
       "stream": "stdout",
       "text": [
        "\n",
        "         Current function value: 0.000247\n",
        "         Iterations: 7\n",
        "         Function evaluations: 14\n",
        "Optimization terminated successfully."
       ]
      },
      {
       "output_type": "stream",
       "stream": "stdout",
       "text": [
        "\n",
        "         Current function value: 0.000675\n",
        "         Iterations: 6\n",
        "         Function evaluations: 12\n",
        "Optimization terminated successfully."
       ]
      },
      {
       "output_type": "stream",
       "stream": "stdout",
       "text": [
        "\n",
        "         Current function value: 0.003623\n",
        "         Iterations: 6\n",
        "         Function evaluations: 12\n",
        "Optimization terminated successfully."
       ]
      },
      {
       "output_type": "stream",
       "stream": "stdout",
       "text": [
        "\n",
        "         Current function value: 0.001609\n",
        "         Iterations: 5\n",
        "         Function evaluations: 10\n",
        "Optimization terminated successfully."
       ]
      },
      {
       "output_type": "stream",
       "stream": "stdout",
       "text": [
        "\n",
        "         Current function value: 0.001335\n",
        "         Iterations: 5\n",
        "         Function evaluations: 10\n",
        "Optimization terminated successfully."
       ]
      },
      {
       "output_type": "stream",
       "stream": "stdout",
       "text": [
        "\n",
        "         Current function value: 0.000000\n",
        "         Iterations: 6\n",
        "         Function evaluations: 13\n",
        "Optimization terminated successfully."
       ]
      },
      {
       "output_type": "stream",
       "stream": "stdout",
       "text": [
        "\n",
        "         Current function value: 0.000281\n",
        "         Iterations: 6\n",
        "         Function evaluations: 13\n",
        "Optimization terminated successfully."
       ]
      },
      {
       "output_type": "stream",
       "stream": "stdout",
       "text": [
        "\n",
        "         Current function value: 0.001012\n",
        "         Iterations: 7\n",
        "         Function evaluations: 14\n",
        "Optimization terminated successfully."
       ]
      },
      {
       "output_type": "stream",
       "stream": "stdout",
       "text": [
        "\n",
        "         Current function value: 0.002217\n",
        "         Iterations: 6\n",
        "         Function evaluations: 12\n",
        "Optimization terminated successfully."
       ]
      },
      {
       "output_type": "stream",
       "stream": "stdout",
       "text": [
        "\n",
        "         Current function value: 0.001571\n",
        "         Iterations: 5\n",
        "         Function evaluations: 11\n",
        "Optimization terminated successfully."
       ]
      },
      {
       "output_type": "stream",
       "stream": "stdout",
       "text": [
        "\n",
        "         Current function value: 0.001374\n",
        "         Iterations: 5\n",
        "         Function evaluations: 10\n",
        "Optimization terminated successfully."
       ]
      },
      {
       "output_type": "stream",
       "stream": "stdout",
       "text": [
        "\n",
        "         Current function value: 0.000018\n",
        "         Iterations: 6\n",
        "         Function evaluations: 13\n",
        "Optimization terminated successfully."
       ]
      },
      {
       "output_type": "stream",
       "stream": "stdout",
       "text": [
        "\n",
        "         Current function value: 0.000049\n",
        "         Iterations: 7\n",
        "         Function evaluations: 16\n",
        "Optimization terminated successfully."
       ]
      },
      {
       "output_type": "stream",
       "stream": "stdout",
       "text": [
        "\n",
        "         Current function value: 0.000895\n",
        "         Iterations: 6\n",
        "         Function evaluations: 12\n",
        "Optimization terminated successfully."
       ]
      },
      {
       "output_type": "stream",
       "stream": "stdout",
       "text": [
        "\n",
        "         Current function value: 0.002832\n",
        "         Iterations: 6\n",
        "         Function evaluations: 12\n",
        "Optimization terminated successfully."
       ]
      },
      {
       "output_type": "stream",
       "stream": "stdout",
       "text": [
        "\n",
        "         Current function value: 0.001594\n",
        "         Iterations: 5\n",
        "         Function evaluations: 11\n",
        "Optimization terminated successfully."
       ]
      },
      {
       "output_type": "stream",
       "stream": "stdout",
       "text": [
        "\n",
        "         Current function value: 0.001370\n",
        "         Iterations: 6\n",
        "         Function evaluations: 12\n",
        "Optimization terminated successfully."
       ]
      },
      {
       "output_type": "stream",
       "stream": "stdout",
       "text": [
        "\n",
        "         Current function value: 0.000000\n",
        "         Iterations: 6\n",
        "         Function evaluations: 13\n",
        "Optimization terminated successfully."
       ]
      },
      {
       "output_type": "stream",
       "stream": "stdout",
       "text": [
        "\n",
        "         Current function value: 0.000172\n",
        "         Iterations: 6\n",
        "         Function evaluations: 13\n",
        "Optimization terminated successfully."
       ]
      },
      {
       "output_type": "stream",
       "stream": "stdout",
       "text": [
        "\n",
        "         Current function value: 0.001102\n",
        "         Iterations: 6\n",
        "         Function evaluations: 12\n",
        "Optimization terminated successfully."
       ]
      },
      {
       "output_type": "stream",
       "stream": "stdout",
       "text": [
        "\n",
        "         Current function value: 0.003590\n",
        "         Iterations: 6\n",
        "         Function evaluations: 12\n",
        "Optimization terminated successfully."
       ]
      },
      {
       "output_type": "stream",
       "stream": "stdout",
       "text": [
        "\n",
        "         Current function value: 0.001522\n",
        "         Iterations: 5\n",
        "         Function evaluations: 10\n",
        "Optimization terminated successfully."
       ]
      },
      {
       "output_type": "stream",
       "stream": "stdout",
       "text": [
        "\n",
        "         Current function value: 0.001126\n",
        "         Iterations: 5\n",
        "         Function evaluations: 10\n",
        "Optimization terminated successfully."
       ]
      },
      {
       "output_type": "stream",
       "stream": "stdout",
       "text": [
        "\n",
        "         Current function value: 0.000002\n",
        "         Iterations: 6\n",
        "         Function evaluations: 13\n",
        "Optimization terminated successfully."
       ]
      },
      {
       "output_type": "stream",
       "stream": "stdout",
       "text": [
        "\n",
        "         Current function value: 0.000130\n",
        "         Iterations: 7\n",
        "         Function evaluations: 14\n",
        "Optimization terminated successfully."
       ]
      },
      {
       "output_type": "stream",
       "stream": "stdout",
       "text": [
        "\n",
        "         Current function value: 0.000863\n",
        "         Iterations: 6\n",
        "         Function evaluations: 12\n",
        "Optimization terminated successfully."
       ]
      },
      {
       "output_type": "stream",
       "stream": "stdout",
       "text": [
        "\n",
        "         Current function value: 0.002626\n",
        "         Iterations: 6\n",
        "         Function evaluations: 13\n",
        "Optimization terminated successfully."
       ]
      },
      {
       "output_type": "stream",
       "stream": "stdout",
       "text": [
        "\n",
        "         Current function value: 0.001783\n",
        "         Iterations: 5\n",
        "         Function evaluations: 10\n",
        "Optimization terminated successfully."
       ]
      },
      {
       "output_type": "stream",
       "stream": "stdout",
       "text": [
        "\n",
        "         Current function value: 0.000988\n",
        "         Iterations: 5\n",
        "         Function evaluations: 10\n",
        "Optimization terminated successfully."
       ]
      },
      {
       "output_type": "stream",
       "stream": "stdout",
       "text": [
        "\n",
        "         Current function value: 0.000002\n",
        "         Iterations: 6\n",
        "         Function evaluations: 12\n",
        "Optimization terminated successfully."
       ]
      },
      {
       "output_type": "stream",
       "stream": "stdout",
       "text": [
        "\n",
        "         Current function value: 0.000116\n",
        "         Iterations: 7\n",
        "         Function evaluations: 15\n",
        "Optimization terminated successfully."
       ]
      },
      {
       "output_type": "stream",
       "stream": "stdout",
       "text": [
        "\n",
        "         Current function value: 0.000907\n",
        "         Iterations: 6\n",
        "         Function evaluations: 12\n",
        "Optimization terminated successfully."
       ]
      },
      {
       "output_type": "stream",
       "stream": "stdout",
       "text": [
        "\n",
        "         Current function value: 0.002810\n",
        "         Iterations: 6\n",
        "         Function evaluations: 12\n",
        "Optimization terminated successfully."
       ]
      },
      {
       "output_type": "stream",
       "stream": "stdout",
       "text": [
        "\n",
        "         Current function value: 0.001674\n",
        "         Iterations: 5\n",
        "         Function evaluations: 11\n",
        "Optimization terminated successfully."
       ]
      },
      {
       "output_type": "stream",
       "stream": "stdout",
       "text": [
        "\n",
        "         Current function value: 0.001529\n",
        "         Iterations: 5\n",
        "         Function evaluations: 10\n",
        "Optimization terminated successfully."
       ]
      },
      {
       "output_type": "stream",
       "stream": "stdout",
       "text": [
        "\n",
        "         Current function value: 0.000000\n",
        "         Iterations: 6\n",
        "         Function evaluations: 13\n",
        "Optimization terminated successfully."
       ]
      },
      {
       "output_type": "stream",
       "stream": "stdout",
       "text": [
        "\n",
        "         Current function value: 0.000004\n",
        "         Iterations: 7\n",
        "         Function evaluations: 15\n",
        "Optimization terminated successfully."
       ]
      },
      {
       "output_type": "stream",
       "stream": "stdout",
       "text": [
        "\n",
        "         Current function value: 0.002003\n",
        "         Iterations: 6\n",
        "         Function evaluations: 12\n",
        "Optimization terminated successfully."
       ]
      },
      {
       "output_type": "stream",
       "stream": "stdout",
       "text": [
        "\n",
        "         Current function value: 0.002436\n",
        "         Iterations: 7\n",
        "         Function evaluations: 15\n",
        "Optimization terminated successfully."
       ]
      },
      {
       "output_type": "stream",
       "stream": "stdout",
       "text": [
        "\n",
        "         Current function value: 0.001162\n",
        "         Iterations: 5\n",
        "         Function evaluations: 12\n",
        "Optimization terminated successfully."
       ]
      },
      {
       "output_type": "stream",
       "stream": "stdout",
       "text": [
        "\n",
        "         Current function value: 0.001477\n",
        "         Iterations: 5\n",
        "         Function evaluations: 12\n",
        "Optimization terminated successfully."
       ]
      },
      {
       "output_type": "stream",
       "stream": "stdout",
       "text": [
        "\n",
        "         Current function value: 0.000000\n",
        "         Iterations: 6\n",
        "         Function evaluations: 13\n",
        "Optimization terminated successfully."
       ]
      },
      {
       "output_type": "stream",
       "stream": "stdout",
       "text": [
        "\n",
        "         Current function value: 0.000035\n",
        "         Iterations: 6\n",
        "         Function evaluations: 13\n",
        "Optimization terminated successfully."
       ]
      },
      {
       "output_type": "stream",
       "stream": "stdout",
       "text": [
        "\n",
        "         Current function value: 0.001020\n",
        "         Iterations: 6\n",
        "         Function evaluations: 12\n",
        "Optimization terminated successfully."
       ]
      },
      {
       "output_type": "stream",
       "stream": "stdout",
       "text": [
        "\n",
        "         Current function value: 0.002825\n",
        "         Iterations: 6\n",
        "         Function evaluations: 12\n",
        "Optimization terminated successfully."
       ]
      },
      {
       "output_type": "stream",
       "stream": "stdout",
       "text": [
        "\n",
        "         Current function value: 0.001443\n",
        "         Iterations: 5\n",
        "         Function evaluations: 11\n",
        "Optimization terminated successfully."
       ]
      },
      {
       "output_type": "stream",
       "stream": "stdout",
       "text": [
        "\n",
        "         Current function value: 0.001047\n",
        "         Iterations: 6\n",
        "         Function evaluations: 13\n",
        "Optimization terminated successfully."
       ]
      },
      {
       "output_type": "stream",
       "stream": "stdout",
       "text": [
        "\n",
        "         Current function value: 0.000001\n",
        "         Iterations: 6\n",
        "         Function evaluations: 12\n",
        "Optimization terminated successfully."
       ]
      },
      {
       "output_type": "stream",
       "stream": "stdout",
       "text": [
        "\n",
        "         Current function value: 0.000477\n",
        "         Iterations: 7\n",
        "         Function evaluations: 14\n",
        "Optimization terminated successfully."
       ]
      },
      {
       "output_type": "stream",
       "stream": "stdout",
       "text": [
        "\n",
        "         Current function value: 0.000683\n",
        "         Iterations: 6\n",
        "         Function evaluations: 14\n",
        "Optimization terminated successfully."
       ]
      },
      {
       "output_type": "stream",
       "stream": "stdout",
       "text": [
        "\n",
        "         Current function value: 0.003018\n",
        "         Iterations: 6\n",
        "         Function evaluations: 13\n",
        "Optimization terminated successfully."
       ]
      },
      {
       "output_type": "stream",
       "stream": "stdout",
       "text": [
        "\n",
        "         Current function value: 0.001164\n",
        "         Iterations: 6\n",
        "         Function evaluations: 13\n",
        "Optimization terminated successfully."
       ]
      },
      {
       "output_type": "stream",
       "stream": "stdout",
       "text": [
        "\n",
        "         Current function value: 0.001251\n",
        "         Iterations: 5\n",
        "         Function evaluations: 10\n",
        "Optimization terminated successfully."
       ]
      },
      {
       "output_type": "stream",
       "stream": "stdout",
       "text": [
        "\n",
        "         Current function value: 0.000005\n",
        "         Iterations: 6\n",
        "         Function evaluations: 12\n",
        "Optimization terminated successfully."
       ]
      },
      {
       "output_type": "stream",
       "stream": "stdout",
       "text": [
        "\n",
        "         Current function value: 0.000058\n",
        "         Iterations: 6\n",
        "         Function evaluations: 12\n",
        "Optimization terminated successfully."
       ]
      },
      {
       "output_type": "stream",
       "stream": "stdout",
       "text": [
        "\n",
        "         Current function value: 0.001049\n",
        "         Iterations: 7\n",
        "         Function evaluations: 14\n",
        "Optimization terminated successfully."
       ]
      },
      {
       "output_type": "stream",
       "stream": "stdout",
       "text": [
        "\n",
        "         Current function value: 0.003004\n",
        "         Iterations: 6\n",
        "         Function evaluations: 12\n",
        "Optimization terminated successfully."
       ]
      },
      {
       "output_type": "stream",
       "stream": "stdout",
       "text": [
        "\n",
        "         Current function value: 0.002181\n",
        "         Iterations: 5\n",
        "         Function evaluations: 10\n",
        "Optimization terminated successfully."
       ]
      },
      {
       "output_type": "stream",
       "stream": "stdout",
       "text": [
        "\n",
        "         Current function value: 0.001372\n",
        "         Iterations: 5\n",
        "         Function evaluations: 10\n",
        "Optimization terminated successfully."
       ]
      },
      {
       "output_type": "stream",
       "stream": "stdout",
       "text": [
        "\n",
        "         Current function value: 0.000000\n",
        "         Iterations: 6\n",
        "         Function evaluations: 12\n",
        "Optimization terminated successfully."
       ]
      },
      {
       "output_type": "stream",
       "stream": "stdout",
       "text": [
        "\n",
        "         Current function value: 0.000421\n",
        "         Iterations: 6\n",
        "         Function evaluations: 13\n",
        "Optimization terminated successfully."
       ]
      },
      {
       "output_type": "stream",
       "stream": "stdout",
       "text": [
        "\n",
        "         Current function value: 0.000932\n",
        "         Iterations: 6\n",
        "         Function evaluations: 12\n",
        "Optimization terminated successfully."
       ]
      },
      {
       "output_type": "stream",
       "stream": "stdout",
       "text": [
        "\n",
        "         Current function value: 0.003560\n",
        "         Iterations: 6\n",
        "         Function evaluations: 12\n",
        "Optimization terminated successfully."
       ]
      },
      {
       "output_type": "stream",
       "stream": "stdout",
       "text": [
        "\n",
        "         Current function value: 0.001933\n",
        "         Iterations: 5\n",
        "         Function evaluations: 10\n",
        "Optimization terminated successfully."
       ]
      },
      {
       "output_type": "stream",
       "stream": "stdout",
       "text": [
        "\n",
        "         Current function value: 0.001565\n",
        "         Iterations: 5\n",
        "         Function evaluations: 11\n",
        "Optimization terminated successfully."
       ]
      },
      {
       "output_type": "stream",
       "stream": "stdout",
       "text": [
        "\n",
        "         Current function value: 0.000001\n",
        "         Iterations: 6\n",
        "         Function evaluations: 12\n",
        "Optimization terminated successfully."
       ]
      },
      {
       "output_type": "stream",
       "stream": "stdout",
       "text": [
        "\n",
        "         Current function value: 0.000171\n",
        "         Iterations: 6\n",
        "         Function evaluations: 13\n",
        "Optimization terminated successfully."
       ]
      },
      {
       "output_type": "stream",
       "stream": "stdout",
       "text": [
        "\n",
        "         Current function value: 0.001081\n",
        "         Iterations: 6\n",
        "         Function evaluations: 12\n",
        "Optimization terminated successfully."
       ]
      },
      {
       "output_type": "stream",
       "stream": "stdout",
       "text": [
        "\n",
        "         Current function value: 0.002738\n",
        "         Iterations: 6\n",
        "         Function evaluations: 12\n",
        "Optimization terminated successfully."
       ]
      },
      {
       "output_type": "stream",
       "stream": "stdout",
       "text": [
        "\n",
        "         Current function value: 0.001873\n",
        "         Iterations: 5\n",
        "         Function evaluations: 11\n",
        "Optimization terminated successfully."
       ]
      },
      {
       "output_type": "stream",
       "stream": "stdout",
       "text": [
        "\n",
        "         Current function value: 0.001245\n",
        "         Iterations: 5\n",
        "         Function evaluations: 12\n",
        "Optimization terminated successfully."
       ]
      },
      {
       "output_type": "stream",
       "stream": "stdout",
       "text": [
        "\n",
        "         Current function value: 0.000003\n",
        "         Iterations: 6\n",
        "         Function evaluations: 13\n",
        "Optimization terminated successfully."
       ]
      },
      {
       "output_type": "stream",
       "stream": "stdout",
       "text": [
        "\n",
        "         Current function value: 0.000071\n",
        "         Iterations: 7\n",
        "         Function evaluations: 16\n",
        "Optimization terminated successfully."
       ]
      },
      {
       "output_type": "stream",
       "stream": "stdout",
       "text": [
        "\n",
        "         Current function value: 0.001400\n",
        "         Iterations: 6\n",
        "         Function evaluations: 12\n",
        "Optimization terminated successfully."
       ]
      },
      {
       "output_type": "stream",
       "stream": "stdout",
       "text": [
        "\n",
        "         Current function value: 0.003131\n",
        "         Iterations: 5\n",
        "         Function evaluations: 10\n",
        "Optimization terminated successfully."
       ]
      },
      {
       "output_type": "stream",
       "stream": "stdout",
       "text": [
        "\n",
        "         Current function value: 0.002242\n",
        "         Iterations: 5\n",
        "         Function evaluations: 11\n",
        "Optimization terminated successfully."
       ]
      },
      {
       "output_type": "stream",
       "stream": "stdout",
       "text": [
        "\n",
        "         Current function value: 0.001420\n",
        "         Iterations: 5\n",
        "         Function evaluations: 11\n",
        "Optimization terminated successfully."
       ]
      },
      {
       "output_type": "stream",
       "stream": "stdout",
       "text": [
        "\n",
        "         Current function value: 0.000019\n",
        "         Iterations: 6\n",
        "         Function evaluations: 12\n",
        "Optimization terminated successfully."
       ]
      },
      {
       "output_type": "stream",
       "stream": "stdout",
       "text": [
        "\n",
        "         Current function value: 0.000016\n",
        "         Iterations: 7\n",
        "         Function evaluations: 15\n",
        "Optimization terminated successfully."
       ]
      },
      {
       "output_type": "stream",
       "stream": "stdout",
       "text": [
        "\n",
        "         Current function value: 0.001381\n",
        "         Iterations: 6\n",
        "         Function evaluations: 12\n",
        "Optimization terminated successfully."
       ]
      },
      {
       "output_type": "stream",
       "stream": "stdout",
       "text": [
        "\n",
        "         Current function value: 0.003822\n",
        "         Iterations: 6\n",
        "         Function evaluations: 12\n",
        "Optimization terminated successfully."
       ]
      },
      {
       "output_type": "stream",
       "stream": "stdout",
       "text": [
        "\n",
        "         Current function value: 0.002016\n",
        "         Iterations: 6\n",
        "         Function evaluations: 13\n",
        "Optimization terminated successfully."
       ]
      },
      {
       "output_type": "stream",
       "stream": "stdout",
       "text": [
        "\n",
        "         Current function value: 0.001013\n",
        "         Iterations: 6\n",
        "         Function evaluations: 12\n",
        "Optimization terminated successfully."
       ]
      },
      {
       "output_type": "stream",
       "stream": "stdout",
       "text": [
        "\n",
        "         Current function value: 0.000000\n",
        "         Iterations: 6\n",
        "         Function evaluations: 13\n",
        "Optimization terminated successfully."
       ]
      },
      {
       "output_type": "stream",
       "stream": "stdout",
       "text": [
        "\n",
        "         Current function value: 0.000031\n",
        "         Iterations: 7\n",
        "         Function evaluations: 14\n",
        "Optimization terminated successfully."
       ]
      },
      {
       "output_type": "stream",
       "stream": "stdout",
       "text": [
        "\n",
        "         Current function value: 0.001167\n",
        "         Iterations: 6\n",
        "         Function evaluations: 13\n",
        "Optimization terminated successfully."
       ]
      },
      {
       "output_type": "stream",
       "stream": "stdout",
       "text": [
        "\n",
        "         Current function value: 0.003571\n",
        "         Iterations: 6\n",
        "         Function evaluations: 12\n",
        "Optimization terminated successfully."
       ]
      },
      {
       "output_type": "stream",
       "stream": "stdout",
       "text": [
        "\n",
        "         Current function value: 0.002304\n",
        "         Iterations: 5\n",
        "         Function evaluations: 10\n",
        "Optimization terminated successfully."
       ]
      },
      {
       "output_type": "stream",
       "stream": "stdout",
       "text": [
        "\n",
        "         Current function value: 0.001877\n",
        "         Iterations: 5\n",
        "         Function evaluations: 10\n",
        "Optimization terminated successfully."
       ]
      },
      {
       "output_type": "stream",
       "stream": "stdout",
       "text": [
        "\n",
        "         Current function value: 0.000025\n",
        "         Iterations: 6\n",
        "         Function evaluations: 13\n",
        "Optimization terminated successfully."
       ]
      },
      {
       "output_type": "stream",
       "stream": "stdout",
       "text": [
        "\n",
        "         Current function value: 0.000347\n",
        "         Iterations: 6\n",
        "         Function evaluations: 12\n",
        "Optimization terminated successfully."
       ]
      },
      {
       "output_type": "stream",
       "stream": "stdout",
       "text": [
        "\n",
        "         Current function value: 0.000903\n",
        "         Iterations: 6\n",
        "         Function evaluations: 13\n",
        "Optimization terminated successfully."
       ]
      },
      {
       "output_type": "stream",
       "stream": "stdout",
       "text": [
        "\n",
        "         Current function value: 0.002989\n",
        "         Iterations: 6\n",
        "         Function evaluations: 12\n",
        "Optimization terminated successfully."
       ]
      },
      {
       "output_type": "stream",
       "stream": "stdout",
       "text": [
        "\n",
        "         Current function value: 0.001957\n",
        "         Iterations: 5\n",
        "         Function evaluations: 11\n",
        "Optimization terminated successfully."
       ]
      },
      {
       "output_type": "stream",
       "stream": "stdout",
       "text": [
        "\n",
        "         Current function value: 0.001056\n",
        "         Iterations: 6\n",
        "         Function evaluations: 13\n",
        "Optimization terminated successfully."
       ]
      },
      {
       "output_type": "stream",
       "stream": "stdout",
       "text": [
        "\n",
        "         Current function value: 0.000001\n",
        "         Iterations: 7\n",
        "         Function evaluations: 15\n",
        "Optimization terminated successfully."
       ]
      },
      {
       "output_type": "stream",
       "stream": "stdout",
       "text": [
        "\n",
        "         Current function value: 0.000041\n",
        "         Iterations: 6\n",
        "         Function evaluations: 13\n",
        "Optimization terminated successfully."
       ]
      },
      {
       "output_type": "stream",
       "stream": "stdout",
       "text": [
        "\n",
        "         Current function value: 0.000590\n",
        "         Iterations: 6\n",
        "         Function evaluations: 12\n",
        "Optimization terminated successfully."
       ]
      },
      {
       "output_type": "stream",
       "stream": "stdout",
       "text": [
        "\n",
        "         Current function value: 0.001860\n",
        "         Iterations: 6\n",
        "         Function evaluations: 12\n",
        "Optimization terminated successfully."
       ]
      },
      {
       "output_type": "stream",
       "stream": "stdout",
       "text": [
        "\n",
        "         Current function value: 0.001752\n",
        "         Iterations: 5\n",
        "         Function evaluations: 11\n",
        "Optimization terminated successfully."
       ]
      },
      {
       "output_type": "stream",
       "stream": "stdout",
       "text": [
        "\n",
        "         Current function value: 0.001963\n",
        "         Iterations: 5\n",
        "         Function evaluations: 11\n",
        "Optimization terminated successfully."
       ]
      },
      {
       "output_type": "stream",
       "stream": "stdout",
       "text": [
        "\n",
        "         Current function value: 0.000039\n",
        "         Iterations: 6\n",
        "         Function evaluations: 12\n",
        "Optimization terminated successfully."
       ]
      },
      {
       "output_type": "stream",
       "stream": "stdout",
       "text": [
        "\n",
        "         Current function value: 0.000083\n",
        "         Iterations: 6\n",
        "         Function evaluations: 12\n",
        "Optimization terminated successfully."
       ]
      },
      {
       "output_type": "stream",
       "stream": "stdout",
       "text": [
        "\n",
        "         Current function value: 0.001140\n",
        "         Iterations: 6\n",
        "         Function evaluations: 13\n",
        "Optimization terminated successfully."
       ]
      },
      {
       "output_type": "stream",
       "stream": "stdout",
       "text": [
        "\n",
        "         Current function value: 0.002861\n",
        "         Iterations: 6\n",
        "         Function evaluations: 13\n",
        "Optimization terminated successfully."
       ]
      },
      {
       "output_type": "stream",
       "stream": "stdout",
       "text": [
        "\n",
        "         Current function value: 0.001893\n",
        "         Iterations: 5\n",
        "         Function evaluations: 11\n",
        "Optimization terminated successfully."
       ]
      },
      {
       "output_type": "stream",
       "stream": "stdout",
       "text": [
        "\n",
        "         Current function value: 0.001032\n",
        "         Iterations: 5\n",
        "         Function evaluations: 10\n",
        "Optimization terminated successfully."
       ]
      },
      {
       "output_type": "stream",
       "stream": "stdout",
       "text": [
        "\n",
        "         Current function value: 0.000002\n",
        "         Iterations: 7\n",
        "         Function evaluations: 16\n",
        "Optimization terminated successfully."
       ]
      },
      {
       "output_type": "stream",
       "stream": "stdout",
       "text": [
        "\n",
        "         Current function value: 0.000067\n",
        "         Iterations: 7\n",
        "         Function evaluations: 14\n",
        "Optimization terminated successfully."
       ]
      },
      {
       "output_type": "stream",
       "stream": "stdout",
       "text": [
        "\n",
        "         Current function value: 0.000595\n",
        "         Iterations: 6\n",
        "         Function evaluations: 12\n",
        "Optimization terminated successfully."
       ]
      },
      {
       "output_type": "stream",
       "stream": "stdout",
       "text": [
        "\n",
        "         Current function value: 0.002854\n",
        "         Iterations: 6\n",
        "         Function evaluations: 12\n",
        "Optimization terminated successfully."
       ]
      },
      {
       "output_type": "stream",
       "stream": "stdout",
       "text": [
        "\n",
        "         Current function value: 0.001758\n",
        "         Iterations: 6\n",
        "         Function evaluations: 13\n",
        "Optimization terminated successfully."
       ]
      },
      {
       "output_type": "stream",
       "stream": "stdout",
       "text": [
        "\n",
        "         Current function value: 0.001387\n",
        "         Iterations: 5\n",
        "         Function evaluations: 10\n",
        "Optimization terminated successfully."
       ]
      },
      {
       "output_type": "stream",
       "stream": "stdout",
       "text": [
        "\n",
        "         Current function value: 0.000000\n",
        "         Iterations: 5\n",
        "         Function evaluations: 13\n",
        "Optimization terminated successfully."
       ]
      },
      {
       "output_type": "stream",
       "stream": "stdout",
       "text": [
        "\n",
        "         Current function value: 0.000031\n",
        "         Iterations: 7\n",
        "         Function evaluations: 16\n",
        "Optimization terminated successfully."
       ]
      },
      {
       "output_type": "stream",
       "stream": "stdout",
       "text": [
        "\n",
        "         Current function value: 0.000226\n",
        "         Iterations: 6\n",
        "         Function evaluations: 12\n",
        "Optimization terminated successfully."
       ]
      },
      {
       "output_type": "stream",
       "stream": "stdout",
       "text": [
        "\n",
        "         Current function value: 0.002980\n",
        "         Iterations: 7\n",
        "         Function evaluations: 14\n",
        "Optimization terminated successfully."
       ]
      },
      {
       "output_type": "stream",
       "stream": "stdout",
       "text": [
        "\n",
        "         Current function value: 0.001060\n",
        "         Iterations: 5\n",
        "         Function evaluations: 10\n",
        "Optimization terminated successfully."
       ]
      },
      {
       "output_type": "stream",
       "stream": "stdout",
       "text": [
        "\n",
        "         Current function value: 0.001379\n",
        "         Iterations: 5\n",
        "         Function evaluations: 11\n",
        "Optimization terminated successfully."
       ]
      },
      {
       "output_type": "stream",
       "stream": "stdout",
       "text": [
        "\n",
        "         Current function value: 0.000000\n",
        "         Iterations: 6\n",
        "         Function evaluations: 13\n",
        "Optimization terminated successfully."
       ]
      },
      {
       "output_type": "stream",
       "stream": "stdout",
       "text": [
        "\n",
        "         Current function value: 0.000004\n",
        "         Iterations: 6\n",
        "         Function evaluations: 12\n",
        "Optimization terminated successfully."
       ]
      },
      {
       "output_type": "stream",
       "stream": "stdout",
       "text": [
        "\n",
        "         Current function value: 0.000613\n",
        "         Iterations: 6\n",
        "         Function evaluations: 12\n",
        "Optimization terminated successfully."
       ]
      },
      {
       "output_type": "stream",
       "stream": "stdout",
       "text": [
        "\n",
        "         Current function value: 0.002601\n",
        "         Iterations: 6\n",
        "         Function evaluations: 12\n",
        "Optimization terminated successfully."
       ]
      },
      {
       "output_type": "stream",
       "stream": "stdout",
       "text": [
        "\n",
        "         Current function value: 0.001158\n",
        "         Iterations: 5\n",
        "         Function evaluations: 10\n",
        "Optimization terminated successfully."
       ]
      },
      {
       "output_type": "stream",
       "stream": "stdout",
       "text": [
        "\n",
        "         Current function value: 0.001204\n",
        "         Iterations: 5\n",
        "         Function evaluations: 10\n",
        "Optimization terminated successfully."
       ]
      },
      {
       "output_type": "stream",
       "stream": "stdout",
       "text": [
        "\n",
        "         Current function value: 0.000001\n",
        "         Iterations: 7\n",
        "         Function evaluations: 15\n",
        "Optimization terminated successfully."
       ]
      },
      {
       "output_type": "stream",
       "stream": "stdout",
       "text": [
        "\n",
        "         Current function value: 0.000070\n",
        "         Iterations: 6\n",
        "         Function evaluations: 13\n",
        "Optimization terminated successfully."
       ]
      },
      {
       "output_type": "stream",
       "stream": "stdout",
       "text": [
        "\n",
        "         Current function value: 0.000767\n",
        "         Iterations: 6\n",
        "         Function evaluations: 13\n",
        "Optimization terminated successfully."
       ]
      },
      {
       "output_type": "stream",
       "stream": "stdout",
       "text": [
        "\n",
        "         Current function value: 0.003071\n",
        "         Iterations: 6\n",
        "         Function evaluations: 13\n",
        "Optimization terminated successfully."
       ]
      },
      {
       "output_type": "stream",
       "stream": "stdout",
       "text": [
        "\n",
        "         Current function value: 0.002215\n",
        "         Iterations: 5\n",
        "         Function evaluations: 10\n",
        "Optimization terminated successfully."
       ]
      },
      {
       "output_type": "stream",
       "stream": "stdout",
       "text": [
        "\n",
        "         Current function value: 0.001460\n",
        "         Iterations: 5\n",
        "         Function evaluations: 10\n",
        "Optimization terminated successfully."
       ]
      },
      {
       "output_type": "stream",
       "stream": "stdout",
       "text": [
        "\n",
        "         Current function value: 0.000000\n",
        "         Iterations: 6\n",
        "         Function evaluations: 12\n",
        "Optimization terminated successfully."
       ]
      },
      {
       "output_type": "stream",
       "stream": "stdout",
       "text": [
        "\n",
        "         Current function value: 0.000239\n",
        "         Iterations: 6\n",
        "         Function evaluations: 14\n",
        "Optimization terminated successfully."
       ]
      },
      {
       "output_type": "stream",
       "stream": "stdout",
       "text": [
        "\n",
        "         Current function value: 0.001213\n",
        "         Iterations: 6\n",
        "         Function evaluations: 12\n",
        "Optimization terminated successfully."
       ]
      },
      {
       "output_type": "stream",
       "stream": "stdout",
       "text": [
        "\n",
        "         Current function value: 0.003039\n",
        "         Iterations: 6\n",
        "         Function evaluations: 12\n",
        "Optimization terminated successfully."
       ]
      },
      {
       "output_type": "stream",
       "stream": "stdout",
       "text": [
        "\n",
        "         Current function value: 0.001099\n",
        "         Iterations: 7\n",
        "         Function evaluations: 15\n",
        "Optimization terminated successfully."
       ]
      },
      {
       "output_type": "stream",
       "stream": "stdout",
       "text": [
        "\n",
        "         Current function value: 0.000997\n",
        "         Iterations: 5\n",
        "         Function evaluations: 10\n",
        "Optimization terminated successfully."
       ]
      },
      {
       "output_type": "stream",
       "stream": "stdout",
       "text": [
        "\n",
        "         Current function value: 0.000000\n",
        "         Iterations: 8\n",
        "         Function evaluations: 18\n",
        "Optimization terminated successfully."
       ]
      },
      {
       "output_type": "stream",
       "stream": "stdout",
       "text": [
        "\n",
        "         Current function value: 0.000165\n",
        "         Iterations: 6\n",
        "         Function evaluations: 13\n",
        "Optimization terminated successfully."
       ]
      },
      {
       "output_type": "stream",
       "stream": "stdout",
       "text": [
        "\n",
        "         Current function value: 0.000995\n",
        "         Iterations: 6\n",
        "         Function evaluations: 13\n",
        "Optimization terminated successfully."
       ]
      },
      {
       "output_type": "stream",
       "stream": "stdout",
       "text": [
        "\n",
        "         Current function value: 0.002616\n",
        "         Iterations: 6\n",
        "         Function evaluations: 12\n",
        "Optimization terminated successfully."
       ]
      },
      {
       "output_type": "stream",
       "stream": "stdout",
       "text": [
        "\n",
        "         Current function value: 0.001369\n",
        "         Iterations: 5\n",
        "         Function evaluations: 11\n",
        "Optimization terminated successfully."
       ]
      },
      {
       "output_type": "stream",
       "stream": "stdout",
       "text": [
        "\n",
        "         Current function value: 0.001215\n",
        "         Iterations: 5\n",
        "         Function evaluations: 11\n",
        "Optimization terminated successfully."
       ]
      },
      {
       "output_type": "stream",
       "stream": "stdout",
       "text": [
        "\n",
        "         Current function value: 0.000000\n",
        "         Iterations: 6\n",
        "         Function evaluations: 13\n",
        "Optimization terminated successfully."
       ]
      },
      {
       "output_type": "stream",
       "stream": "stdout",
       "text": [
        "\n",
        "         Current function value: 0.000045\n",
        "         Iterations: 6\n",
        "         Function evaluations: 12\n",
        "Optimization terminated successfully."
       ]
      },
      {
       "output_type": "stream",
       "stream": "stdout",
       "text": [
        "\n",
        "         Current function value: 0.001144\n",
        "         Iterations: 6\n",
        "         Function evaluations: 13\n",
        "Optimization terminated successfully."
       ]
      },
      {
       "output_type": "stream",
       "stream": "stdout",
       "text": [
        "\n",
        "         Current function value: 0.002488\n",
        "         Iterations: 5\n",
        "         Function evaluations: 10\n",
        "Optimization terminated successfully."
       ]
      },
      {
       "output_type": "stream",
       "stream": "stdout",
       "text": [
        "\n",
        "         Current function value: 0.002036\n",
        "         Iterations: 5\n",
        "         Function evaluations: 11\n",
        "Optimization terminated successfully."
       ]
      },
      {
       "output_type": "stream",
       "stream": "stdout",
       "text": [
        "\n",
        "         Current function value: 0.001319\n",
        "         Iterations: 5\n",
        "         Function evaluations: 10\n",
        "Optimization terminated successfully."
       ]
      },
      {
       "output_type": "stream",
       "stream": "stdout",
       "text": [
        "\n",
        "         Current function value: 0.000001\n",
        "         Iterations: 6\n",
        "         Function evaluations: 12\n",
        "Optimization terminated successfully."
       ]
      },
      {
       "output_type": "stream",
       "stream": "stdout",
       "text": [
        "\n",
        "         Current function value: 0.000277\n",
        "         Iterations: 7\n",
        "         Function evaluations: 15\n",
        "Optimization terminated successfully."
       ]
      },
      {
       "output_type": "stream",
       "stream": "stdout",
       "text": [
        "\n",
        "         Current function value: 0.000667\n",
        "         Iterations: 6\n",
        "         Function evaluations: 12\n",
        "Optimization terminated successfully."
       ]
      },
      {
       "output_type": "stream",
       "stream": "stdout",
       "text": [
        "\n",
        "         Current function value: 0.002665\n",
        "         Iterations: 6\n",
        "         Function evaluations: 13\n",
        "Optimization terminated successfully."
       ]
      },
      {
       "output_type": "stream",
       "stream": "stdout",
       "text": [
        "\n",
        "         Current function value: 0.001856\n",
        "         Iterations: 5\n",
        "         Function evaluations: 10\n",
        "Optimization terminated successfully."
       ]
      },
      {
       "output_type": "stream",
       "stream": "stdout",
       "text": [
        "\n",
        "         Current function value: 0.001387\n",
        "         Iterations: 5\n",
        "         Function evaluations: 11\n",
        "Optimization terminated successfully."
       ]
      },
      {
       "output_type": "stream",
       "stream": "stdout",
       "text": [
        "\n",
        "         Current function value: 0.000000\n",
        "         Iterations: 7\n",
        "         Function evaluations: 14\n",
        "Optimization terminated successfully."
       ]
      },
      {
       "output_type": "stream",
       "stream": "stdout",
       "text": [
        "\n",
        "         Current function value: 0.000103\n",
        "         Iterations: 7\n",
        "         Function evaluations: 15\n",
        "Optimization terminated successfully."
       ]
      },
      {
       "output_type": "stream",
       "stream": "stdout",
       "text": [
        "\n",
        "         Current function value: 0.001348\n",
        "         Iterations: 6\n",
        "         Function evaluations: 12\n",
        "Optimization terminated successfully."
       ]
      },
      {
       "output_type": "stream",
       "stream": "stdout",
       "text": [
        "\n",
        "         Current function value: 0.002889\n",
        "         Iterations: 6\n",
        "         Function evaluations: 12\n",
        "Optimization terminated successfully."
       ]
      },
      {
       "output_type": "stream",
       "stream": "stdout",
       "text": [
        "\n",
        "         Current function value: 0.002480\n",
        "         Iterations: 5\n",
        "         Function evaluations: 11\n",
        "Optimization terminated successfully."
       ]
      },
      {
       "output_type": "stream",
       "stream": "stdout",
       "text": [
        "\n",
        "         Current function value: 0.001261\n",
        "         Iterations: 5\n",
        "         Function evaluations: 10\n",
        "Optimization terminated successfully."
       ]
      },
      {
       "output_type": "stream",
       "stream": "stdout",
       "text": [
        "\n",
        "         Current function value: 0.000000\n",
        "         Iterations: 5\n",
        "         Function evaluations: 11\n",
        "Optimization terminated successfully."
       ]
      },
      {
       "output_type": "stream",
       "stream": "stdout",
       "text": [
        "\n",
        "         Current function value: 0.000061\n",
        "         Iterations: 7\n",
        "         Function evaluations: 14\n",
        "Optimization terminated successfully."
       ]
      },
      {
       "output_type": "stream",
       "stream": "stdout",
       "text": [
        "\n",
        "         Current function value: 0.001144\n",
        "         Iterations: 6\n",
        "         Function evaluations: 12\n",
        "Optimization terminated successfully."
       ]
      },
      {
       "output_type": "stream",
       "stream": "stdout",
       "text": [
        "\n",
        "         Current function value: 0.003006\n",
        "         Iterations: 5\n",
        "         Function evaluations: 11\n",
        "Optimization terminated successfully."
       ]
      },
      {
       "output_type": "stream",
       "stream": "stdout",
       "text": [
        "\n",
        "         Current function value: 0.002306\n",
        "         Iterations: 6\n",
        "         Function evaluations: 12\n",
        "Optimization terminated successfully."
       ]
      },
      {
       "output_type": "stream",
       "stream": "stdout",
       "text": [
        "\n",
        "         Current function value: 0.001288\n",
        "         Iterations: 5\n",
        "         Function evaluations: 12\n",
        "Optimization terminated successfully."
       ]
      },
      {
       "output_type": "stream",
       "stream": "stdout",
       "text": [
        "\n",
        "         Current function value: 0.000001\n",
        "         Iterations: 8\n",
        "         Function evaluations: 16\n",
        "Optimization terminated successfully."
       ]
      },
      {
       "output_type": "stream",
       "stream": "stdout",
       "text": [
        "\n",
        "         Current function value: 0.000038\n",
        "         Iterations: 6\n",
        "         Function evaluations: 12\n",
        "Optimization terminated successfully."
       ]
      },
      {
       "output_type": "stream",
       "stream": "stdout",
       "text": [
        "\n",
        "         Current function value: 0.000563\n",
        "         Iterations: 6\n",
        "         Function evaluations: 12\n",
        "Optimization terminated successfully."
       ]
      },
      {
       "output_type": "stream",
       "stream": "stdout",
       "text": [
        "\n",
        "         Current function value: 0.002366\n",
        "         Iterations: 6\n",
        "         Function evaluations: 13\n",
        "Optimization terminated successfully."
       ]
      },
      {
       "output_type": "stream",
       "stream": "stdout",
       "text": [
        "\n",
        "         Current function value: 0.001377\n",
        "         Iterations: 5\n",
        "         Function evaluations: 10\n",
        "Optimization terminated successfully."
       ]
      },
      {
       "output_type": "stream",
       "stream": "stdout",
       "text": [
        "\n",
        "         Current function value: 0.001237\n",
        "         Iterations: 5\n",
        "         Function evaluations: 11\n",
        "Optimization terminated successfully."
       ]
      },
      {
       "output_type": "stream",
       "stream": "stdout",
       "text": [
        "\n",
        "         Current function value: 0.000000\n",
        "         Iterations: 8\n",
        "         Function evaluations: 17\n",
        "Optimization terminated successfully."
       ]
      },
      {
       "output_type": "stream",
       "stream": "stdout",
       "text": [
        "\n",
        "         Current function value: 0.000253\n",
        "         Iterations: 7\n",
        "         Function evaluations: 15\n",
        "Optimization terminated successfully."
       ]
      },
      {
       "output_type": "stream",
       "stream": "stdout",
       "text": [
        "\n",
        "         Current function value: 0.000923\n",
        "         Iterations: 6\n",
        "         Function evaluations: 13\n",
        "Optimization terminated successfully."
       ]
      },
      {
       "output_type": "stream",
       "stream": "stdout",
       "text": [
        "\n",
        "         Current function value: 0.002815\n",
        "         Iterations: 6\n",
        "         Function evaluations: 12\n",
        "Optimization terminated successfully."
       ]
      },
      {
       "output_type": "stream",
       "stream": "stdout",
       "text": [
        "\n",
        "         Current function value: 0.001349\n",
        "         Iterations: 5\n",
        "         Function evaluations: 11\n",
        "Optimization terminated successfully."
       ]
      },
      {
       "output_type": "stream",
       "stream": "stdout",
       "text": [
        "\n",
        "         Current function value: 0.001655\n",
        "         Iterations: 5\n",
        "         Function evaluations: 10\n",
        "Optimization terminated successfully."
       ]
      },
      {
       "output_type": "stream",
       "stream": "stdout",
       "text": [
        "\n",
        "         Current function value: 0.000002\n",
        "         Iterations: 5\n",
        "         Function evaluations: 11\n",
        "Optimization terminated successfully."
       ]
      },
      {
       "output_type": "stream",
       "stream": "stdout",
       "text": [
        "\n",
        "         Current function value: 0.000051\n",
        "         Iterations: 7\n",
        "         Function evaluations: 14\n",
        "Optimization terminated successfully."
       ]
      },
      {
       "output_type": "stream",
       "stream": "stdout",
       "text": [
        "\n",
        "         Current function value: 0.000542\n",
        "         Iterations: 6\n",
        "         Function evaluations: 13\n",
        "Optimization terminated successfully."
       ]
      },
      {
       "output_type": "stream",
       "stream": "stdout",
       "text": [
        "\n",
        "         Current function value: 0.003336\n",
        "         Iterations: 6\n",
        "         Function evaluations: 13\n",
        "Optimization terminated successfully."
       ]
      },
      {
       "output_type": "stream",
       "stream": "stdout",
       "text": [
        "\n",
        "         Current function value: 0.001400\n",
        "         Iterations: 5\n",
        "         Function evaluations: 11\n",
        "Optimization terminated successfully."
       ]
      },
      {
       "output_type": "stream",
       "stream": "stdout",
       "text": [
        "\n",
        "         Current function value: 0.001385\n",
        "         Iterations: 5\n",
        "         Function evaluations: 10\n",
        "Optimization terminated successfully."
       ]
      },
      {
       "output_type": "stream",
       "stream": "stdout",
       "text": [
        "\n",
        "         Current function value: 0.000000\n",
        "         Iterations: 6\n",
        "         Function evaluations: 13\n",
        "Optimization terminated successfully."
       ]
      },
      {
       "output_type": "stream",
       "stream": "stdout",
       "text": [
        "\n",
        "         Current function value: 0.000009\n",
        "         Iterations: 6\n",
        "         Function evaluations: 13\n",
        "Optimization terminated successfully."
       ]
      },
      {
       "output_type": "stream",
       "stream": "stdout",
       "text": [
        "\n",
        "         Current function value: 0.001326\n",
        "         Iterations: 6\n",
        "         Function evaluations: 13\n",
        "Optimization terminated successfully."
       ]
      },
      {
       "output_type": "stream",
       "stream": "stdout",
       "text": [
        "\n",
        "         Current function value: 0.003477\n",
        "         Iterations: 6\n",
        "         Function evaluations: 12\n",
        "Optimization terminated successfully."
       ]
      },
      {
       "output_type": "stream",
       "stream": "stdout",
       "text": [
        "\n",
        "         Current function value: 0.002138\n",
        "         Iterations: 5\n",
        "         Function evaluations: 11\n",
        "Optimization terminated successfully."
       ]
      },
      {
       "output_type": "stream",
       "stream": "stdout",
       "text": [
        "\n",
        "         Current function value: 0.001083\n",
        "         Iterations: 5\n",
        "         Function evaluations: 11\n",
        "Optimization terminated successfully."
       ]
      },
      {
       "output_type": "stream",
       "stream": "stdout",
       "text": [
        "\n",
        "         Current function value: 0.000002\n",
        "         Iterations: 5\n",
        "         Function evaluations: 10\n",
        "Optimization terminated successfully."
       ]
      },
      {
       "output_type": "stream",
       "stream": "stdout",
       "text": [
        "\n",
        "         Current function value: 0.000155\n",
        "         Iterations: 6\n",
        "         Function evaluations: 12\n",
        "Optimization terminated successfully."
       ]
      },
      {
       "output_type": "stream",
       "stream": "stdout",
       "text": [
        "\n",
        "         Current function value: 0.000624\n",
        "         Iterations: 6\n",
        "         Function evaluations: 12\n",
        "Optimization terminated successfully."
       ]
      },
      {
       "output_type": "stream",
       "stream": "stdout",
       "text": [
        "\n",
        "         Current function value: 0.002755\n",
        "         Iterations: 6\n",
        "         Function evaluations: 13\n",
        "Optimization terminated successfully."
       ]
      },
      {
       "output_type": "stream",
       "stream": "stdout",
       "text": [
        "\n",
        "         Current function value: 0.001801\n",
        "         Iterations: 5\n",
        "         Function evaluations: 10\n",
        "Optimization terminated successfully."
       ]
      },
      {
       "output_type": "stream",
       "stream": "stdout",
       "text": [
        "\n",
        "         Current function value: 0.001103\n",
        "         Iterations: 5\n",
        "         Function evaluations: 10\n",
        "Optimization terminated successfully."
       ]
      },
      {
       "output_type": "stream",
       "stream": "stdout",
       "text": [
        "\n",
        "         Current function value: 0.000000\n",
        "         Iterations: 6\n",
        "         Function evaluations: 13\n",
        "Optimization terminated successfully."
       ]
      },
      {
       "output_type": "stream",
       "stream": "stdout",
       "text": [
        "\n",
        "         Current function value: 0.000031\n",
        "         Iterations: 6\n",
        "         Function evaluations: 13\n",
        "Optimization terminated successfully."
       ]
      },
      {
       "output_type": "stream",
       "stream": "stdout",
       "text": [
        "\n",
        "         Current function value: 0.001757\n",
        "         Iterations: 6\n",
        "         Function evaluations: 12\n",
        "Optimization terminated successfully."
       ]
      },
      {
       "output_type": "stream",
       "stream": "stdout",
       "text": [
        "\n",
        "         Current function value: 0.003949\n",
        "         Iterations: 6\n",
        "         Function evaluations: 13\n",
        "Optimization terminated successfully."
       ]
      },
      {
       "output_type": "stream",
       "stream": "stdout",
       "text": [
        "\n",
        "         Current function value: 0.001704\n",
        "         Iterations: 5\n",
        "         Function evaluations: 10\n",
        "Optimization terminated successfully."
       ]
      },
      {
       "output_type": "stream",
       "stream": "stdout",
       "text": [
        "\n",
        "         Current function value: 0.001226\n",
        "         Iterations: 5\n",
        "         Function evaluations: 10\n",
        "Optimization terminated successfully."
       ]
      },
      {
       "output_type": "stream",
       "stream": "stdout",
       "text": [
        "\n",
        "         Current function value: 0.000004\n",
        "         Iterations: 6\n",
        "         Function evaluations: 13\n",
        "Optimization terminated successfully."
       ]
      },
      {
       "output_type": "stream",
       "stream": "stdout",
       "text": [
        "\n",
        "         Current function value: 0.000012\n",
        "         Iterations: 7\n",
        "         Function evaluations: 15\n",
        "Optimization terminated successfully."
       ]
      },
      {
       "output_type": "stream",
       "stream": "stdout",
       "text": [
        "\n",
        "         Current function value: 0.000960\n",
        "         Iterations: 6\n",
        "         Function evaluations: 13\n",
        "Optimization terminated successfully."
       ]
      },
      {
       "output_type": "stream",
       "stream": "stdout",
       "text": [
        "\n",
        "         Current function value: 0.002791\n",
        "         Iterations: 6\n",
        "         Function evaluations: 13\n",
        "Optimization terminated successfully."
       ]
      },
      {
       "output_type": "stream",
       "stream": "stdout",
       "text": [
        "\n",
        "         Current function value: 0.002128\n",
        "         Iterations: 5\n",
        "         Function evaluations: 11\n",
        "Optimization terminated successfully."
       ]
      },
      {
       "output_type": "stream",
       "stream": "stdout",
       "text": [
        "\n",
        "         Current function value: 0.001420\n",
        "         Iterations: 5\n",
        "         Function evaluations: 10\n",
        "Optimization terminated successfully."
       ]
      },
      {
       "output_type": "stream",
       "stream": "stdout",
       "text": [
        "\n",
        "         Current function value: 0.000010\n",
        "         Iterations: 6\n",
        "         Function evaluations: 12\n",
        "Optimization terminated successfully."
       ]
      },
      {
       "output_type": "stream",
       "stream": "stdout",
       "text": [
        "\n",
        "         Current function value: 0.000760\n",
        "         Iterations: 6\n",
        "         Function evaluations: 14\n",
        "Optimization terminated successfully."
       ]
      },
      {
       "output_type": "stream",
       "stream": "stdout",
       "text": [
        "\n",
        "         Current function value: 0.000330\n",
        "         Iterations: 6\n",
        "         Function evaluations: 13\n",
        "Optimization terminated successfully."
       ]
      },
      {
       "output_type": "stream",
       "stream": "stdout",
       "text": [
        "\n",
        "         Current function value: 0.003930\n",
        "         Iterations: 6\n",
        "         Function evaluations: 13\n",
        "Optimization terminated successfully."
       ]
      },
      {
       "output_type": "stream",
       "stream": "stdout",
       "text": [
        "\n",
        "         Current function value: 0.001644\n",
        "         Iterations: 5\n",
        "         Function evaluations: 11\n",
        "Optimization terminated successfully."
       ]
      },
      {
       "output_type": "stream",
       "stream": "stdout",
       "text": [
        "\n",
        "         Current function value: 0.001566\n",
        "         Iterations: 6\n",
        "         Function evaluations: 12\n",
        "Optimization terminated successfully."
       ]
      },
      {
       "output_type": "stream",
       "stream": "stdout",
       "text": [
        "\n",
        "         Current function value: 0.000001\n",
        "         Iterations: 6\n",
        "         Function evaluations: 13\n",
        "Optimization terminated successfully."
       ]
      },
      {
       "output_type": "stream",
       "stream": "stdout",
       "text": [
        "\n",
        "         Current function value: 0.000038\n",
        "         Iterations: 7\n",
        "         Function evaluations: 14\n",
        "Optimization terminated successfully."
       ]
      },
      {
       "output_type": "stream",
       "stream": "stdout",
       "text": [
        "\n",
        "         Current function value: 0.000779\n",
        "         Iterations: 6\n",
        "         Function evaluations: 12\n",
        "Optimization terminated successfully."
       ]
      },
      {
       "output_type": "stream",
       "stream": "stdout",
       "text": [
        "\n",
        "         Current function value: 0.003105\n",
        "         Iterations: 6\n",
        "         Function evaluations: 13\n",
        "Optimization terminated successfully."
       ]
      },
      {
       "output_type": "stream",
       "stream": "stdout",
       "text": [
        "\n",
        "         Current function value: 0.001099\n",
        "         Iterations: 5\n",
        "         Function evaluations: 10\n",
        "Optimization terminated successfully."
       ]
      },
      {
       "output_type": "stream",
       "stream": "stdout",
       "text": [
        "\n",
        "         Current function value: 0.001630\n",
        "         Iterations: 5\n",
        "         Function evaluations: 10\n",
        "Optimization terminated successfully."
       ]
      },
      {
       "output_type": "stream",
       "stream": "stdout",
       "text": [
        "\n",
        "         Current function value: 0.000007\n",
        "         Iterations: 6\n",
        "         Function evaluations: 12\n",
        "Optimization terminated successfully."
       ]
      },
      {
       "output_type": "stream",
       "stream": "stdout",
       "text": [
        "\n",
        "         Current function value: 0.000007\n",
        "         Iterations: 6\n",
        "         Function evaluations: 13\n",
        "Optimization terminated successfully."
       ]
      },
      {
       "output_type": "stream",
       "stream": "stdout",
       "text": [
        "\n",
        "         Current function value: 0.001135\n",
        "         Iterations: 6\n",
        "         Function evaluations: 12\n",
        "Optimization terminated successfully."
       ]
      },
      {
       "output_type": "stream",
       "stream": "stdout",
       "text": [
        "\n",
        "         Current function value: 0.002765\n",
        "         Iterations: 6\n",
        "         Function evaluations: 12\n",
        "Optimization terminated successfully."
       ]
      },
      {
       "output_type": "stream",
       "stream": "stdout",
       "text": [
        "\n",
        "         Current function value: 0.001422\n",
        "         Iterations: 5\n",
        "         Function evaluations: 11\n",
        "Optimization terminated successfully."
       ]
      },
      {
       "output_type": "stream",
       "stream": "stdout",
       "text": [
        "\n",
        "         Current function value: 0.001050\n",
        "         Iterations: 5\n",
        "         Function evaluations: 11\n",
        "Optimization terminated successfully."
       ]
      },
      {
       "output_type": "stream",
       "stream": "stdout",
       "text": [
        "\n",
        "         Current function value: 0.000004\n",
        "         Iterations: 6\n",
        "         Function evaluations: 12\n",
        "Optimization terminated successfully."
       ]
      },
      {
       "output_type": "stream",
       "stream": "stdout",
       "text": [
        "\n",
        "         Current function value: 0.000040\n",
        "         Iterations: 7\n",
        "         Function evaluations: 14\n",
        "Optimization terminated successfully."
       ]
      },
      {
       "output_type": "stream",
       "stream": "stdout",
       "text": [
        "\n",
        "         Current function value: 0.001575\n",
        "         Iterations: 6\n",
        "         Function evaluations: 13\n",
        "Optimization terminated successfully."
       ]
      },
      {
       "output_type": "stream",
       "stream": "stdout",
       "text": [
        "\n",
        "         Current function value: 0.002411\n",
        "         Iterations: 6\n",
        "         Function evaluations: 13\n",
        "Optimization terminated successfully."
       ]
      },
      {
       "output_type": "stream",
       "stream": "stdout",
       "text": [
        "\n",
        "         Current function value: 0.001711\n",
        "         Iterations: 5\n",
        "         Function evaluations: 11\n",
        "Optimization terminated successfully."
       ]
      },
      {
       "output_type": "stream",
       "stream": "stdout",
       "text": [
        "\n",
        "         Current function value: 0.001129\n",
        "         Iterations: 6\n",
        "         Function evaluations: 13\n",
        "Optimization terminated successfully."
       ]
      },
      {
       "output_type": "stream",
       "stream": "stdout",
       "text": [
        "\n",
        "         Current function value: 0.000001\n",
        "         Iterations: 6\n",
        "         Function evaluations: 13\n",
        "Optimization terminated successfully."
       ]
      },
      {
       "output_type": "stream",
       "stream": "stdout",
       "text": [
        "\n",
        "         Current function value: 0.000189\n",
        "         Iterations: 6\n",
        "         Function evaluations: 13\n",
        "Optimization terminated successfully."
       ]
      },
      {
       "output_type": "stream",
       "stream": "stdout",
       "text": [
        "\n",
        "         Current function value: 0.000320\n",
        "         Iterations: 7\n",
        "         Function evaluations: 15\n",
        "Optimization terminated successfully."
       ]
      },
      {
       "output_type": "stream",
       "stream": "stdout",
       "text": [
        "\n",
        "         Current function value: 0.003150\n",
        "         Iterations: 6\n",
        "         Function evaluations: 12\n",
        "Optimization terminated successfully."
       ]
      },
      {
       "output_type": "stream",
       "stream": "stdout",
       "text": [
        "\n",
        "         Current function value: 0.001571\n",
        "         Iterations: 5\n",
        "         Function evaluations: 11\n",
        "Optimization terminated successfully."
       ]
      },
      {
       "output_type": "stream",
       "stream": "stdout",
       "text": [
        "\n",
        "         Current function value: 0.001774\n",
        "         Iterations: 5\n",
        "         Function evaluations: 10\n",
        "Optimization terminated successfully."
       ]
      },
      {
       "output_type": "stream",
       "stream": "stdout",
       "text": [
        "\n",
        "         Current function value: 0.000001\n",
        "         Iterations: 7\n",
        "         Function evaluations: 15\n",
        "Optimization terminated successfully."
       ]
      },
      {
       "output_type": "stream",
       "stream": "stdout",
       "text": [
        "\n",
        "         Current function value: 0.000066\n",
        "         Iterations: 7\n",
        "         Function evaluations: 14\n",
        "Optimization terminated successfully."
       ]
      },
      {
       "output_type": "stream",
       "stream": "stdout",
       "text": [
        "\n",
        "         Current function value: 0.000738\n",
        "         Iterations: 6\n",
        "         Function evaluations: 12\n",
        "Optimization terminated successfully."
       ]
      },
      {
       "output_type": "stream",
       "stream": "stdout",
       "text": [
        "\n",
        "         Current function value: 0.003131\n",
        "         Iterations: 6\n",
        "         Function evaluations: 12\n",
        "Optimization terminated successfully."
       ]
      },
      {
       "output_type": "stream",
       "stream": "stdout",
       "text": [
        "\n",
        "         Current function value: 0.001705\n",
        "         Iterations: 5\n",
        "         Function evaluations: 10\n",
        "Optimization terminated successfully."
       ]
      },
      {
       "output_type": "stream",
       "stream": "stdout",
       "text": [
        "\n",
        "         Current function value: 0.001742\n",
        "         Iterations: 5\n",
        "         Function evaluations: 10\n",
        "Optimization terminated successfully."
       ]
      },
      {
       "output_type": "stream",
       "stream": "stdout",
       "text": [
        "\n",
        "         Current function value: 0.000003\n",
        "         Iterations: 6\n",
        "         Function evaluations: 12\n",
        "Optimization terminated successfully."
       ]
      },
      {
       "output_type": "stream",
       "stream": "stdout",
       "text": [
        "\n",
        "         Current function value: 0.000456\n",
        "         Iterations: 6\n",
        "         Function evaluations: 12\n",
        "Optimization terminated successfully."
       ]
      },
      {
       "output_type": "stream",
       "stream": "stdout",
       "text": [
        "\n",
        "         Current function value: 0.001254\n",
        "         Iterations: 6\n",
        "         Function evaluations: 12\n",
        "Optimization terminated successfully."
       ]
      },
      {
       "output_type": "stream",
       "stream": "stdout",
       "text": [
        "\n",
        "         Current function value: 0.002592\n",
        "         Iterations: 6\n",
        "         Function evaluations: 13\n",
        "Optimization terminated successfully."
       ]
      },
      {
       "output_type": "stream",
       "stream": "stdout",
       "text": [
        "\n",
        "         Current function value: 0.001837\n",
        "         Iterations: 5\n",
        "         Function evaluations: 11\n",
        "Optimization terminated successfully."
       ]
      },
      {
       "output_type": "stream",
       "stream": "stdout",
       "text": [
        "\n",
        "         Current function value: 0.001006\n",
        "         Iterations: 5\n",
        "         Function evaluations: 11\n",
        "Optimization terminated successfully."
       ]
      },
      {
       "output_type": "stream",
       "stream": "stdout",
       "text": [
        "\n",
        "         Current function value: 0.000012\n",
        "         Iterations: 6\n",
        "         Function evaluations: 13\n",
        "Optimization terminated successfully."
       ]
      },
      {
       "output_type": "stream",
       "stream": "stdout",
       "text": [
        "\n",
        "         Current function value: 0.000015\n",
        "         Iterations: 6\n",
        "         Function evaluations: 13\n",
        "Optimization terminated successfully."
       ]
      },
      {
       "output_type": "stream",
       "stream": "stdout",
       "text": [
        "\n",
        "         Current function value: 0.001125\n",
        "         Iterations: 6\n",
        "         Function evaluations: 12\n",
        "Optimization terminated successfully."
       ]
      },
      {
       "output_type": "stream",
       "stream": "stdout",
       "text": [
        "\n",
        "         Current function value: 0.003165\n",
        "         Iterations: 6\n",
        "         Function evaluations: 12\n",
        "Optimization terminated successfully."
       ]
      },
      {
       "output_type": "stream",
       "stream": "stdout",
       "text": [
        "\n",
        "         Current function value: 0.002152\n",
        "         Iterations: 6\n",
        "         Function evaluations: 13\n",
        "Optimization terminated successfully."
       ]
      },
      {
       "output_type": "stream",
       "stream": "stdout",
       "text": [
        "\n",
        "         Current function value: 0.001522\n",
        "         Iterations: 5\n",
        "         Function evaluations: 11\n",
        "Optimization terminated successfully."
       ]
      },
      {
       "output_type": "stream",
       "stream": "stdout",
       "text": [
        "\n",
        "         Current function value: 0.000001\n",
        "         Iterations: 7\n",
        "         Function evaluations: 14\n",
        "Optimization terminated successfully."
       ]
      },
      {
       "output_type": "stream",
       "stream": "stdout",
       "text": [
        "\n",
        "         Current function value: 0.000073\n",
        "         Iterations: 7\n",
        "         Function evaluations: 15\n",
        "Optimization terminated successfully."
       ]
      },
      {
       "output_type": "stream",
       "stream": "stdout",
       "text": [
        "\n",
        "         Current function value: 0.001127\n",
        "         Iterations: 6\n",
        "         Function evaluations: 12\n",
        "Optimization terminated successfully."
       ]
      },
      {
       "output_type": "stream",
       "stream": "stdout",
       "text": [
        "\n",
        "         Current function value: 0.003010\n",
        "         Iterations: 6\n",
        "         Function evaluations: 12\n",
        "Optimization terminated successfully."
       ]
      },
      {
       "output_type": "stream",
       "stream": "stdout",
       "text": [
        "\n",
        "         Current function value: 0.001349\n",
        "         Iterations: 5\n",
        "         Function evaluations: 10\n",
        "Optimization terminated successfully."
       ]
      },
      {
       "output_type": "stream",
       "stream": "stdout",
       "text": [
        "\n",
        "         Current function value: 0.001247\n",
        "         Iterations: 5\n",
        "         Function evaluations: 10\n",
        "Optimization terminated successfully."
       ]
      },
      {
       "output_type": "stream",
       "stream": "stdout",
       "text": [
        "\n",
        "         Current function value: 0.000000\n",
        "         Iterations: 6\n",
        "         Function evaluations: 13\n",
        "Optimization terminated successfully."
       ]
      },
      {
       "output_type": "stream",
       "stream": "stdout",
       "text": [
        "\n",
        "         Current function value: 0.000083\n",
        "         Iterations: 6\n",
        "         Function evaluations: 13\n",
        "Optimization terminated successfully."
       ]
      },
      {
       "output_type": "stream",
       "stream": "stdout",
       "text": [
        "\n",
        "         Current function value: 0.000612\n",
        "         Iterations: 6\n",
        "         Function evaluations: 12\n",
        "Optimization terminated successfully."
       ]
      },
      {
       "output_type": "stream",
       "stream": "stdout",
       "text": [
        "\n",
        "         Current function value: 0.002944\n",
        "         Iterations: 6\n",
        "         Function evaluations: 13\n",
        "Optimization terminated successfully."
       ]
      },
      {
       "output_type": "stream",
       "stream": "stdout",
       "text": [
        "\n",
        "         Current function value: 0.002556\n",
        "         Iterations: 6\n",
        "         Function evaluations: 13\n",
        "Optimization terminated successfully."
       ]
      },
      {
       "output_type": "stream",
       "stream": "stdout",
       "text": [
        "\n",
        "         Current function value: 0.002139\n",
        "         Iterations: 5\n",
        "         Function evaluations: 11\n",
        "Optimization terminated successfully."
       ]
      },
      {
       "output_type": "stream",
       "stream": "stdout",
       "text": [
        "\n",
        "         Current function value: 0.000002\n",
        "         Iterations: 6\n",
        "         Function evaluations: 12\n",
        "Optimization terminated successfully."
       ]
      },
      {
       "output_type": "stream",
       "stream": "stdout",
       "text": [
        "\n",
        "         Current function value: 0.000108\n",
        "         Iterations: 6\n",
        "         Function evaluations: 12\n",
        "Optimization terminated successfully."
       ]
      },
      {
       "output_type": "stream",
       "stream": "stdout",
       "text": [
        "\n",
        "         Current function value: 0.000982\n",
        "         Iterations: 6\n",
        "         Function evaluations: 13\n",
        "Optimization terminated successfully."
       ]
      },
      {
       "output_type": "stream",
       "stream": "stdout",
       "text": [
        "\n",
        "         Current function value: 0.002554\n",
        "         Iterations: 6\n",
        "         Function evaluations: 12\n",
        "Optimization terminated successfully."
       ]
      },
      {
       "output_type": "stream",
       "stream": "stdout",
       "text": [
        "\n",
        "         Current function value: 0.002187\n",
        "         Iterations: 5\n",
        "         Function evaluations: 11\n",
        "Optimization terminated successfully."
       ]
      },
      {
       "output_type": "stream",
       "stream": "stdout",
       "text": [
        "\n",
        "         Current function value: 0.001266\n",
        "         Iterations: 5\n",
        "         Function evaluations: 11\n",
        "Optimization terminated successfully."
       ]
      },
      {
       "output_type": "stream",
       "stream": "stdout",
       "text": [
        "\n",
        "         Current function value: 0.000004\n",
        "         Iterations: 6\n",
        "         Function evaluations: 12\n",
        "Optimization terminated successfully."
       ]
      },
      {
       "output_type": "stream",
       "stream": "stdout",
       "text": [
        "\n",
        "         Current function value: 0.000116\n",
        "         Iterations: 7\n",
        "         Function evaluations: 15\n",
        "Optimization terminated successfully."
       ]
      },
      {
       "output_type": "stream",
       "stream": "stdout",
       "text": [
        "\n",
        "         Current function value: 0.000323\n",
        "         Iterations: 6\n",
        "         Function evaluations: 12\n",
        "Optimization terminated successfully."
       ]
      },
      {
       "output_type": "stream",
       "stream": "stdout",
       "text": [
        "\n",
        "         Current function value: 0.002464\n",
        "         Iterations: 6\n",
        "         Function evaluations: 12\n",
        "Optimization terminated successfully."
       ]
      },
      {
       "output_type": "stream",
       "stream": "stdout",
       "text": [
        "\n",
        "         Current function value: 0.002177\n",
        "         Iterations: 5\n",
        "         Function evaluations: 11\n",
        "Optimization terminated successfully."
       ]
      },
      {
       "output_type": "stream",
       "stream": "stdout",
       "text": [
        "\n",
        "         Current function value: 0.001278\n",
        "         Iterations: 5\n",
        "         Function evaluations: 10\n",
        "Optimization terminated successfully."
       ]
      },
      {
       "output_type": "stream",
       "stream": "stdout",
       "text": [
        "\n",
        "         Current function value: 0.000000\n",
        "         Iterations: 6\n",
        "         Function evaluations: 12\n",
        "Optimization terminated successfully."
       ]
      },
      {
       "output_type": "stream",
       "stream": "stdout",
       "text": [
        "\n",
        "         Current function value: 0.000003\n",
        "         Iterations: 6\n",
        "         Function evaluations: 13\n",
        "Optimization terminated successfully."
       ]
      },
      {
       "output_type": "stream",
       "stream": "stdout",
       "text": [
        "\n",
        "         Current function value: 0.001813\n",
        "         Iterations: 6\n",
        "         Function evaluations: 12\n",
        "Optimization terminated successfully."
       ]
      },
      {
       "output_type": "stream",
       "stream": "stdout",
       "text": [
        "\n",
        "         Current function value: 0.004579\n",
        "         Iterations: 6\n",
        "         Function evaluations: 12\n",
        "Optimization terminated successfully."
       ]
      },
      {
       "output_type": "stream",
       "stream": "stdout",
       "text": [
        "\n",
        "         Current function value: 0.001946\n",
        "         Iterations: 5\n",
        "         Function evaluations: 10\n",
        "Optimization terminated successfully."
       ]
      },
      {
       "output_type": "stream",
       "stream": "stdout",
       "text": [
        "\n",
        "         Current function value: 0.001291\n",
        "         Iterations: 5\n",
        "         Function evaluations: 11\n",
        "Optimization terminated successfully."
       ]
      },
      {
       "output_type": "stream",
       "stream": "stdout",
       "text": [
        "\n",
        "         Current function value: 0.000004\n",
        "         Iterations: 8\n",
        "         Function evaluations: 16\n",
        "Optimization terminated successfully."
       ]
      },
      {
       "output_type": "stream",
       "stream": "stdout",
       "text": [
        "\n",
        "         Current function value: 0.000107\n",
        "         Iterations: 6\n",
        "         Function evaluations: 14\n",
        "Optimization terminated successfully."
       ]
      },
      {
       "output_type": "stream",
       "stream": "stdout",
       "text": [
        "\n",
        "         Current function value: 0.001335\n",
        "         Iterations: 7\n",
        "         Function evaluations: 14\n",
        "Optimization terminated successfully."
       ]
      },
      {
       "output_type": "stream",
       "stream": "stdout",
       "text": [
        "\n",
        "         Current function value: 0.003532\n",
        "         Iterations: 6\n",
        "         Function evaluations: 12\n",
        "Optimization terminated successfully."
       ]
      },
      {
       "output_type": "stream",
       "stream": "stdout",
       "text": [
        "\n",
        "         Current function value: 0.001418\n",
        "         Iterations: 5\n",
        "         Function evaluations: 10\n",
        "Optimization terminated successfully."
       ]
      },
      {
       "output_type": "stream",
       "stream": "stdout",
       "text": [
        "\n",
        "         Current function value: 0.001242\n",
        "         Iterations: 5\n",
        "         Function evaluations: 10\n",
        "Optimization terminated successfully."
       ]
      },
      {
       "output_type": "stream",
       "stream": "stdout",
       "text": [
        "\n",
        "         Current function value: 0.000006\n",
        "         Iterations: 6\n",
        "         Function evaluations: 12\n",
        "Optimization terminated successfully."
       ]
      },
      {
       "output_type": "stream",
       "stream": "stdout",
       "text": [
        "\n",
        "         Current function value: 0.000153\n",
        "         Iterations: 7\n",
        "         Function evaluations: 14\n",
        "Optimization terminated successfully."
       ]
      },
      {
       "output_type": "stream",
       "stream": "stdout",
       "text": [
        "\n",
        "         Current function value: 0.001236\n",
        "         Iterations: 6\n",
        "         Function evaluations: 12\n",
        "Optimization terminated successfully."
       ]
      },
      {
       "output_type": "stream",
       "stream": "stdout",
       "text": [
        "\n",
        "         Current function value: 0.003254\n",
        "         Iterations: 6\n",
        "         Function evaluations: 12\n",
        "Optimization terminated successfully."
       ]
      },
      {
       "output_type": "stream",
       "stream": "stdout",
       "text": [
        "\n",
        "         Current function value: 0.001906\n",
        "         Iterations: 5\n",
        "         Function evaluations: 11\n",
        "Optimization terminated successfully."
       ]
      },
      {
       "output_type": "stream",
       "stream": "stdout",
       "text": [
        "\n",
        "         Current function value: 0.001429\n",
        "         Iterations: 5\n",
        "         Function evaluations: 11\n",
        "Optimization terminated successfully."
       ]
      },
      {
       "output_type": "stream",
       "stream": "stdout",
       "text": [
        "\n",
        "         Current function value: 0.000001\n",
        "         Iterations: 6\n",
        "         Function evaluations: 13\n",
        "Optimization terminated successfully."
       ]
      },
      {
       "output_type": "stream",
       "stream": "stdout",
       "text": [
        "\n",
        "         Current function value: 0.000076\n",
        "         Iterations: 6\n",
        "         Function evaluations: 13\n",
        "Optimization terminated successfully."
       ]
      },
      {
       "output_type": "stream",
       "stream": "stdout",
       "text": [
        "\n",
        "         Current function value: 0.000491\n",
        "         Iterations: 7\n",
        "         Function evaluations: 15\n",
        "Optimization terminated successfully."
       ]
      },
      {
       "output_type": "stream",
       "stream": "stdout",
       "text": [
        "\n",
        "         Current function value: 0.003147\n",
        "         Iterations: 6\n",
        "         Function evaluations: 13\n",
        "Optimization terminated successfully."
       ]
      },
      {
       "output_type": "stream",
       "stream": "stdout",
       "text": [
        "\n",
        "         Current function value: 0.001945\n",
        "         Iterations: 5\n",
        "         Function evaluations: 11\n",
        "Optimization terminated successfully."
       ]
      },
      {
       "output_type": "stream",
       "stream": "stdout",
       "text": [
        "\n",
        "         Current function value: 0.001253\n",
        "         Iterations: 6\n",
        "         Function evaluations: 14\n",
        "Optimization terminated successfully."
       ]
      },
      {
       "output_type": "stream",
       "stream": "stdout",
       "text": [
        "\n",
        "         Current function value: 0.000001\n",
        "         Iterations: 5\n",
        "         Function evaluations: 10\n",
        "Optimization terminated successfully."
       ]
      },
      {
       "output_type": "stream",
       "stream": "stdout",
       "text": [
        "\n",
        "         Current function value: 0.000026\n",
        "         Iterations: 6\n",
        "         Function evaluations: 12\n",
        "Optimization terminated successfully."
       ]
      },
      {
       "output_type": "stream",
       "stream": "stdout",
       "text": [
        "\n",
        "         Current function value: 0.001102\n",
        "         Iterations: 6\n",
        "         Function evaluations: 12\n",
        "Optimization terminated successfully."
       ]
      },
      {
       "output_type": "stream",
       "stream": "stdout",
       "text": [
        "\n",
        "         Current function value: 0.003179\n",
        "         Iterations: 6\n",
        "         Function evaluations: 13\n",
        "Optimization terminated successfully."
       ]
      },
      {
       "output_type": "stream",
       "stream": "stdout",
       "text": [
        "\n",
        "         Current function value: 0.001564\n",
        "         Iterations: 5\n",
        "         Function evaluations: 10\n",
        "Optimization terminated successfully."
       ]
      },
      {
       "output_type": "stream",
       "stream": "stdout",
       "text": [
        "\n",
        "         Current function value: 0.001145\n",
        "         Iterations: 5\n",
        "         Function evaluations: 11\n",
        "Optimization terminated successfully."
       ]
      },
      {
       "output_type": "stream",
       "stream": "stdout",
       "text": [
        "\n",
        "         Current function value: 0.000014\n",
        "         Iterations: 7\n",
        "         Function evaluations: 14\n",
        "Optimization terminated successfully."
       ]
      },
      {
       "output_type": "stream",
       "stream": "stdout",
       "text": [
        "\n",
        "         Current function value: 0.000061\n",
        "         Iterations: 7\n",
        "         Function evaluations: 15\n",
        "Optimization terminated successfully."
       ]
      },
      {
       "output_type": "stream",
       "stream": "stdout",
       "text": [
        "\n",
        "         Current function value: 0.001071\n",
        "         Iterations: 6\n",
        "         Function evaluations: 12\n",
        "Optimization terminated successfully."
       ]
      },
      {
       "output_type": "stream",
       "stream": "stdout",
       "text": [
        "\n",
        "         Current function value: 0.003285\n",
        "         Iterations: 6\n",
        "         Function evaluations: 13\n",
        "Optimization terminated successfully."
       ]
      },
      {
       "output_type": "stream",
       "stream": "stdout",
       "text": [
        "\n",
        "         Current function value: 0.001855\n",
        "         Iterations: 5\n",
        "         Function evaluations: 11\n",
        "Optimization terminated successfully."
       ]
      },
      {
       "output_type": "stream",
       "stream": "stdout",
       "text": [
        "\n",
        "         Current function value: 0.001269\n",
        "         Iterations: 5\n",
        "         Function evaluations: 11\n",
        "Optimization terminated successfully."
       ]
      },
      {
       "output_type": "stream",
       "stream": "stdout",
       "text": [
        "\n",
        "         Current function value: 0.000000\n",
        "         Iterations: 6\n",
        "         Function evaluations: 13\n",
        "Optimization terminated successfully."
       ]
      },
      {
       "output_type": "stream",
       "stream": "stdout",
       "text": [
        "\n",
        "         Current function value: 0.000818\n",
        "         Iterations: 8\n",
        "         Function evaluations: 17\n",
        "Optimization terminated successfully."
       ]
      },
      {
       "output_type": "stream",
       "stream": "stdout",
       "text": [
        "\n",
        "         Current function value: 0.001267\n",
        "         Iterations: 6\n",
        "         Function evaluations: 13\n",
        "Optimization terminated successfully."
       ]
      },
      {
       "output_type": "stream",
       "stream": "stdout",
       "text": [
        "\n",
        "         Current function value: 0.002603\n",
        "         Iterations: 6\n",
        "         Function evaluations: 12\n",
        "Optimization terminated successfully."
       ]
      },
      {
       "output_type": "stream",
       "stream": "stdout",
       "text": [
        "\n",
        "         Current function value: 0.001874\n",
        "         Iterations: 5\n",
        "         Function evaluations: 11\n",
        "Optimization terminated successfully."
       ]
      },
      {
       "output_type": "stream",
       "stream": "stdout",
       "text": [
        "\n",
        "         Current function value: 0.001288\n",
        "         Iterations: 5\n",
        "         Function evaluations: 10\n",
        "Optimization terminated successfully."
       ]
      },
      {
       "output_type": "stream",
       "stream": "stdout",
       "text": [
        "\n",
        "         Current function value: 0.000001\n",
        "         Iterations: 7\n",
        "         Function evaluations: 15\n",
        "Optimization terminated successfully."
       ]
      },
      {
       "output_type": "stream",
       "stream": "stdout",
       "text": [
        "\n",
        "         Current function value: 0.000170\n",
        "         Iterations: 7\n",
        "         Function evaluations: 14\n",
        "Optimization terminated successfully."
       ]
      },
      {
       "output_type": "stream",
       "stream": "stdout",
       "text": [
        "\n",
        "         Current function value: 0.000981\n",
        "         Iterations: 6\n",
        "         Function evaluations: 13\n",
        "Optimization terminated successfully."
       ]
      },
      {
       "output_type": "stream",
       "stream": "stdout",
       "text": [
        "\n",
        "         Current function value: 0.003087\n",
        "         Iterations: 6\n",
        "         Function evaluations: 13\n",
        "Optimization terminated successfully."
       ]
      },
      {
       "output_type": "stream",
       "stream": "stdout",
       "text": [
        "\n",
        "         Current function value: 0.001562\n",
        "         Iterations: 5\n",
        "         Function evaluations: 11\n",
        "Optimization terminated successfully."
       ]
      },
      {
       "output_type": "stream",
       "stream": "stdout",
       "text": [
        "\n",
        "         Current function value: 0.001449\n",
        "         Iterations: 5\n",
        "         Function evaluations: 11\n",
        "Optimization terminated successfully."
       ]
      },
      {
       "output_type": "stream",
       "stream": "stdout",
       "text": [
        "\n",
        "         Current function value: 0.000001\n",
        "         Iterations: 6\n",
        "         Function evaluations: 12\n",
        "Optimization terminated successfully."
       ]
      },
      {
       "output_type": "stream",
       "stream": "stdout",
       "text": [
        "\n",
        "         Current function value: 0.000062\n",
        "         Iterations: 6\n",
        "         Function evaluations: 13\n",
        "Optimization terminated successfully."
       ]
      },
      {
       "output_type": "stream",
       "stream": "stdout",
       "text": [
        "\n",
        "         Current function value: 0.000505\n",
        "         Iterations: 6\n",
        "         Function evaluations: 12\n",
        "Optimization terminated successfully."
       ]
      },
      {
       "output_type": "stream",
       "stream": "stdout",
       "text": [
        "\n",
        "         Current function value: 0.002618\n",
        "         Iterations: 6\n",
        "         Function evaluations: 12\n",
        "Optimization terminated successfully."
       ]
      },
      {
       "output_type": "stream",
       "stream": "stdout",
       "text": [
        "\n",
        "         Current function value: 0.001678\n",
        "         Iterations: 5\n",
        "         Function evaluations: 10\n",
        "Optimization terminated successfully."
       ]
      },
      {
       "output_type": "stream",
       "stream": "stdout",
       "text": [
        "\n",
        "         Current function value: 0.001195\n",
        "         Iterations: 6\n",
        "         Function evaluations: 12\n",
        "Optimization terminated successfully."
       ]
      },
      {
       "output_type": "stream",
       "stream": "stdout",
       "text": [
        "\n",
        "         Current function value: 0.000004\n",
        "         Iterations: 7\n",
        "         Function evaluations: 14\n",
        "Optimization terminated successfully."
       ]
      },
      {
       "output_type": "stream",
       "stream": "stdout",
       "text": [
        "\n",
        "         Current function value: 0.000105\n",
        "         Iterations: 7\n",
        "         Function evaluations: 16\n",
        "Optimization terminated successfully."
       ]
      },
      {
       "output_type": "stream",
       "stream": "stdout",
       "text": [
        "\n",
        "         Current function value: 0.000770\n",
        "         Iterations: 6\n",
        "         Function evaluations: 12\n",
        "Optimization terminated successfully."
       ]
      },
      {
       "output_type": "stream",
       "stream": "stdout",
       "text": [
        "\n",
        "         Current function value: 0.002548\n",
        "         Iterations: 6\n",
        "         Function evaluations: 12\n",
        "Optimization terminated successfully."
       ]
      },
      {
       "output_type": "stream",
       "stream": "stdout",
       "text": [
        "\n",
        "         Current function value: 0.001476\n",
        "         Iterations: 6\n",
        "         Function evaluations: 14\n",
        "Optimization terminated successfully."
       ]
      },
      {
       "output_type": "stream",
       "stream": "stdout",
       "text": [
        "\n",
        "         Current function value: 0.001496\n",
        "         Iterations: 5\n",
        "         Function evaluations: 10\n",
        "Optimization terminated successfully."
       ]
      },
      {
       "output_type": "stream",
       "stream": "stdout",
       "text": [
        "\n",
        "         Current function value: 0.000000\n",
        "         Iterations: 5\n",
        "         Function evaluations: 10\n",
        "Optimization terminated successfully."
       ]
      },
      {
       "output_type": "stream",
       "stream": "stdout",
       "text": [
        "\n",
        "         Current function value: 0.000025\n",
        "         Iterations: 6\n",
        "         Function evaluations: 13\n",
        "Optimization terminated successfully."
       ]
      },
      {
       "output_type": "stream",
       "stream": "stdout",
       "text": [
        "\n",
        "         Current function value: 0.001238\n",
        "         Iterations: 6\n",
        "         Function evaluations: 12\n",
        "Optimization terminated successfully."
       ]
      },
      {
       "output_type": "stream",
       "stream": "stdout",
       "text": [
        "\n",
        "         Current function value: 0.002855\n",
        "         Iterations: 7\n",
        "         Function evaluations: 14\n",
        "Optimization terminated successfully."
       ]
      },
      {
       "output_type": "stream",
       "stream": "stdout",
       "text": [
        "\n",
        "         Current function value: 0.001878\n",
        "         Iterations: 5\n",
        "         Function evaluations: 11\n",
        "Optimization terminated successfully."
       ]
      },
      {
       "output_type": "stream",
       "stream": "stdout",
       "text": [
        "\n",
        "         Current function value: 0.001561\n",
        "         Iterations: 5\n",
        "         Function evaluations: 11\n",
        "Optimization terminated successfully."
       ]
      },
      {
       "output_type": "stream",
       "stream": "stdout",
       "text": [
        "\n",
        "         Current function value: 0.000000\n",
        "         Iterations: 5\n",
        "         Function evaluations: 10\n",
        "Optimization terminated successfully."
       ]
      },
      {
       "output_type": "stream",
       "stream": "stdout",
       "text": [
        "\n",
        "         Current function value: 0.000226\n",
        "         Iterations: 6\n",
        "         Function evaluations: 14\n",
        "Optimization terminated successfully."
       ]
      },
      {
       "output_type": "stream",
       "stream": "stdout",
       "text": [
        "\n",
        "         Current function value: 0.000720\n",
        "         Iterations: 6\n",
        "         Function evaluations: 13\n",
        "Optimization terminated successfully."
       ]
      },
      {
       "output_type": "stream",
       "stream": "stdout",
       "text": [
        "\n",
        "         Current function value: 0.003288\n",
        "         Iterations: 6\n",
        "         Function evaluations: 12\n",
        "Optimization terminated successfully."
       ]
      },
      {
       "output_type": "stream",
       "stream": "stdout",
       "text": [
        "\n",
        "         Current function value: 0.001947\n",
        "         Iterations: 5\n",
        "         Function evaluations: 10\n",
        "Optimization terminated successfully."
       ]
      },
      {
       "output_type": "stream",
       "stream": "stdout",
       "text": [
        "\n",
        "         Current function value: 0.001375\n",
        "         Iterations: 5\n",
        "         Function evaluations: 10\n",
        "Optimization terminated successfully."
       ]
      },
      {
       "output_type": "stream",
       "stream": "stdout",
       "text": [
        "\n",
        "         Current function value: 0.000000\n",
        "         Iterations: 5\n",
        "         Function evaluations: 11\n",
        "Optimization terminated successfully."
       ]
      },
      {
       "output_type": "stream",
       "stream": "stdout",
       "text": [
        "\n",
        "         Current function value: 0.000030\n",
        "         Iterations: 7\n",
        "         Function evaluations: 14\n",
        "Optimization terminated successfully."
       ]
      },
      {
       "output_type": "stream",
       "stream": "stdout",
       "text": [
        "\n",
        "         Current function value: 0.000964\n",
        "         Iterations: 6\n",
        "         Function evaluations: 13\n",
        "Optimization terminated successfully."
       ]
      },
      {
       "output_type": "stream",
       "stream": "stdout",
       "text": [
        "\n",
        "         Current function value: 0.002839\n",
        "         Iterations: 7\n",
        "         Function evaluations: 15\n",
        "Optimization terminated successfully."
       ]
      },
      {
       "output_type": "stream",
       "stream": "stdout",
       "text": [
        "\n",
        "         Current function value: 0.002160\n",
        "         Iterations: 5\n",
        "         Function evaluations: 11\n",
        "Optimization terminated successfully."
       ]
      },
      {
       "output_type": "stream",
       "stream": "stdout",
       "text": [
        "\n",
        "         Current function value: 0.001267\n",
        "         Iterations: 5\n",
        "         Function evaluations: 11\n",
        "Optimization terminated successfully."
       ]
      },
      {
       "output_type": "stream",
       "stream": "stdout",
       "text": [
        "\n",
        "         Current function value: 0.000009\n",
        "         Iterations: 6\n",
        "         Function evaluations: 12\n",
        "Optimization terminated successfully."
       ]
      },
      {
       "output_type": "stream",
       "stream": "stdout",
       "text": [
        "\n",
        "         Current function value: 0.000207\n",
        "         Iterations: 7\n",
        "         Function evaluations: 16\n",
        "Optimization terminated successfully."
       ]
      },
      {
       "output_type": "stream",
       "stream": "stdout",
       "text": [
        "\n",
        "         Current function value: 0.000685\n",
        "         Iterations: 6\n",
        "         Function evaluations: 12\n",
        "Optimization terminated successfully."
       ]
      },
      {
       "output_type": "stream",
       "stream": "stdout",
       "text": [
        "\n",
        "         Current function value: 0.004188\n",
        "         Iterations: 5\n",
        "         Function evaluations: 10\n",
        "Optimization terminated successfully."
       ]
      },
      {
       "output_type": "stream",
       "stream": "stdout",
       "text": [
        "\n",
        "         Current function value: 0.001643\n",
        "         Iterations: 5\n",
        "         Function evaluations: 10\n",
        "Optimization terminated successfully."
       ]
      },
      {
       "output_type": "stream",
       "stream": "stdout",
       "text": [
        "\n",
        "         Current function value: 0.001480\n",
        "         Iterations: 7\n",
        "         Function evaluations: 15\n",
        "Optimization terminated successfully."
       ]
      },
      {
       "output_type": "stream",
       "stream": "stdout",
       "text": [
        "\n",
        "         Current function value: 0.000000\n",
        "         Iterations: 6\n",
        "         Function evaluations: 13\n",
        "Optimization terminated successfully."
       ]
      },
      {
       "output_type": "stream",
       "stream": "stdout",
       "text": [
        "\n",
        "         Current function value: 0.000299\n",
        "         Iterations: 7\n",
        "         Function evaluations: 14\n",
        "Optimization terminated successfully."
       ]
      },
      {
       "output_type": "stream",
       "stream": "stdout",
       "text": [
        "\n",
        "         Current function value: 0.000172\n",
        "         Iterations: 6\n",
        "         Function evaluations: 13\n",
        "Optimization terminated successfully."
       ]
      },
      {
       "output_type": "stream",
       "stream": "stdout",
       "text": [
        "\n",
        "         Current function value: 0.002793\n",
        "         Iterations: 6\n",
        "         Function evaluations: 12\n",
        "Optimization terminated successfully."
       ]
      },
      {
       "output_type": "stream",
       "stream": "stdout",
       "text": [
        "\n",
        "         Current function value: 0.001742\n",
        "         Iterations: 5\n",
        "         Function evaluations: 11\n",
        "Optimization terminated successfully."
       ]
      },
      {
       "output_type": "stream",
       "stream": "stdout",
       "text": [
        "\n",
        "         Current function value: 0.001539\n",
        "         Iterations: 5\n",
        "         Function evaluations: 10\n",
        "Optimization terminated successfully."
       ]
      },
      {
       "output_type": "stream",
       "stream": "stdout",
       "text": [
        "\n",
        "         Current function value: 0.000000\n",
        "         Iterations: 6\n",
        "         Function evaluations: 12\n",
        "Optimization terminated successfully."
       ]
      },
      {
       "output_type": "stream",
       "stream": "stdout",
       "text": [
        "\n",
        "         Current function value: 0.000071\n",
        "         Iterations: 8\n",
        "         Function evaluations: 16\n",
        "Optimization terminated successfully."
       ]
      },
      {
       "output_type": "stream",
       "stream": "stdout",
       "text": [
        "\n",
        "         Current function value: 0.000717\n",
        "         Iterations: 6\n",
        "         Function evaluations: 13\n",
        "Optimization terminated successfully."
       ]
      },
      {
       "output_type": "stream",
       "stream": "stdout",
       "text": [
        "\n",
        "         Current function value: 0.002058\n",
        "         Iterations: 6\n",
        "         Function evaluations: 13\n",
        "Optimization terminated successfully."
       ]
      },
      {
       "output_type": "stream",
       "stream": "stdout",
       "text": [
        "\n",
        "         Current function value: 0.001914\n",
        "         Iterations: 5\n",
        "         Function evaluations: 10\n",
        "Optimization terminated successfully."
       ]
      },
      {
       "output_type": "stream",
       "stream": "stdout",
       "text": [
        "\n",
        "         Current function value: 0.001376\n",
        "         Iterations: 5\n",
        "         Function evaluations: 10\n",
        "Optimization terminated successfully."
       ]
      },
      {
       "output_type": "stream",
       "stream": "stdout",
       "text": [
        "\n",
        "         Current function value: 0.000035\n",
        "         Iterations: 5\n",
        "         Function evaluations: 10\n",
        "Optimization terminated successfully."
       ]
      },
      {
       "output_type": "stream",
       "stream": "stdout",
       "text": [
        "\n",
        "         Current function value: 0.000246\n",
        "         Iterations: 6\n",
        "         Function evaluations: 13\n",
        "Optimization terminated successfully."
       ]
      },
      {
       "output_type": "stream",
       "stream": "stdout",
       "text": [
        "\n",
        "         Current function value: 0.000838\n",
        "         Iterations: 6\n",
        "         Function evaluations: 12\n",
        "Optimization terminated successfully."
       ]
      },
      {
       "output_type": "stream",
       "stream": "stdout",
       "text": [
        "\n",
        "         Current function value: 0.002941\n",
        "         Iterations: 5\n",
        "         Function evaluations: 10\n",
        "Optimization terminated successfully."
       ]
      },
      {
       "output_type": "stream",
       "stream": "stdout",
       "text": [
        "\n",
        "         Current function value: 0.001379\n",
        "         Iterations: 5\n",
        "         Function evaluations: 11\n",
        "Optimization terminated successfully."
       ]
      },
      {
       "output_type": "stream",
       "stream": "stdout",
       "text": [
        "\n",
        "         Current function value: 0.001649\n",
        "         Iterations: 6\n",
        "         Function evaluations: 12\n",
        "Optimization terminated successfully."
       ]
      },
      {
       "output_type": "stream",
       "stream": "stdout",
       "text": [
        "\n",
        "         Current function value: 0.000000\n",
        "         Iterations: 6\n",
        "         Function evaluations: 13\n",
        "Optimization terminated successfully."
       ]
      },
      {
       "output_type": "stream",
       "stream": "stdout",
       "text": [
        "\n",
        "         Current function value: 0.000111\n",
        "         Iterations: 6\n",
        "         Function evaluations: 13\n",
        "Optimization terminated successfully."
       ]
      },
      {
       "output_type": "stream",
       "stream": "stdout",
       "text": [
        "\n",
        "         Current function value: 0.000829\n",
        "         Iterations: 6\n",
        "         Function evaluations: 13\n",
        "Optimization terminated successfully."
       ]
      },
      {
       "output_type": "stream",
       "stream": "stdout",
       "text": [
        "\n",
        "         Current function value: 0.002687\n",
        "         Iterations: 6\n",
        "         Function evaluations: 13\n",
        "Optimization terminated successfully."
       ]
      },
      {
       "output_type": "stream",
       "stream": "stdout",
       "text": [
        "\n",
        "         Current function value: 0.001641\n",
        "         Iterations: 6\n",
        "         Function evaluations: 12\n",
        "Optimization terminated successfully."
       ]
      },
      {
       "output_type": "stream",
       "stream": "stdout",
       "text": [
        "\n",
        "         Current function value: 0.001952\n",
        "         Iterations: 5\n",
        "         Function evaluations: 10\n",
        "Optimization terminated successfully."
       ]
      },
      {
       "output_type": "stream",
       "stream": "stdout",
       "text": [
        "\n",
        "         Current function value: 0.000020\n",
        "         Iterations: 6\n",
        "         Function evaluations: 12\n",
        "Optimization terminated successfully."
       ]
      },
      {
       "output_type": "stream",
       "stream": "stdout",
       "text": [
        "\n",
        "         Current function value: 0.000081\n",
        "         Iterations: 8\n",
        "         Function evaluations: 18\n",
        "Optimization terminated successfully."
       ]
      },
      {
       "output_type": "stream",
       "stream": "stdout",
       "text": [
        "\n",
        "         Current function value: 0.000454\n",
        "         Iterations: 7\n",
        "         Function evaluations: 14\n",
        "Optimization terminated successfully."
       ]
      },
      {
       "output_type": "stream",
       "stream": "stdout",
       "text": [
        "\n",
        "         Current function value: 0.002776\n",
        "         Iterations: 5\n",
        "         Function evaluations: 10\n",
        "Optimization terminated successfully."
       ]
      },
      {
       "output_type": "stream",
       "stream": "stdout",
       "text": [
        "\n",
        "         Current function value: 0.002113\n",
        "         Iterations: 5\n",
        "         Function evaluations: 11\n",
        "Optimization terminated successfully."
       ]
      },
      {
       "output_type": "stream",
       "stream": "stdout",
       "text": [
        "\n",
        "         Current function value: 0.001590\n",
        "         Iterations: 5\n",
        "         Function evaluations: 10\n",
        "Optimization terminated successfully."
       ]
      },
      {
       "output_type": "stream",
       "stream": "stdout",
       "text": [
        "\n",
        "         Current function value: 0.000006\n",
        "         Iterations: 7\n",
        "         Function evaluations: 14\n",
        "Optimization terminated successfully."
       ]
      },
      {
       "output_type": "stream",
       "stream": "stdout",
       "text": [
        "\n",
        "         Current function value: 0.000045\n",
        "         Iterations: 7\n",
        "         Function evaluations: 14\n",
        "Optimization terminated successfully."
       ]
      },
      {
       "output_type": "stream",
       "stream": "stdout",
       "text": [
        "\n",
        "         Current function value: 0.001405\n",
        "         Iterations: 6\n",
        "         Function evaluations: 12\n",
        "Optimization terminated successfully."
       ]
      },
      {
       "output_type": "stream",
       "stream": "stdout",
       "text": [
        "\n",
        "         Current function value: 0.002148\n",
        "         Iterations: 6\n",
        "         Function evaluations: 13\n",
        "Optimization terminated successfully."
       ]
      },
      {
       "output_type": "stream",
       "stream": "stdout",
       "text": [
        "\n",
        "         Current function value: 0.001586\n",
        "         Iterations: 6\n",
        "         Function evaluations: 12\n",
        "Optimization terminated successfully."
       ]
      },
      {
       "output_type": "stream",
       "stream": "stdout",
       "text": [
        "\n",
        "         Current function value: 0.001751\n",
        "         Iterations: 5\n",
        "         Function evaluations: 11\n",
        "Optimization terminated successfully."
       ]
      },
      {
       "output_type": "stream",
       "stream": "stdout",
       "text": [
        "\n",
        "         Current function value: 0.000000\n",
        "         Iterations: 5\n",
        "         Function evaluations: 10\n",
        "Optimization terminated successfully."
       ]
      },
      {
       "output_type": "stream",
       "stream": "stdout",
       "text": [
        "\n",
        "         Current function value: 0.000659\n",
        "         Iterations: 6\n",
        "         Function evaluations: 13\n",
        "Optimization terminated successfully."
       ]
      },
      {
       "output_type": "stream",
       "stream": "stdout",
       "text": [
        "\n",
        "         Current function value: 0.001149\n",
        "         Iterations: 6\n",
        "         Function evaluations: 13\n",
        "Optimization terminated successfully."
       ]
      },
      {
       "output_type": "stream",
       "stream": "stdout",
       "text": [
        "\n",
        "         Current function value: 0.002633\n",
        "         Iterations: 6\n",
        "         Function evaluations: 12\n",
        "Optimization terminated successfully."
       ]
      },
      {
       "output_type": "stream",
       "stream": "stdout",
       "text": [
        "\n",
        "         Current function value: 0.001422\n",
        "         Iterations: 6\n",
        "         Function evaluations: 13\n",
        "Optimization terminated successfully."
       ]
      },
      {
       "output_type": "stream",
       "stream": "stdout",
       "text": [
        "\n",
        "         Current function value: 0.001297\n",
        "         Iterations: 5\n",
        "         Function evaluations: 10\n",
        "Optimization terminated successfully."
       ]
      },
      {
       "output_type": "stream",
       "stream": "stdout",
       "text": [
        "\n",
        "         Current function value: 0.000001\n",
        "         Iterations: 6\n",
        "         Function evaluations: 12\n",
        "Optimization terminated successfully."
       ]
      },
      {
       "output_type": "stream",
       "stream": "stdout",
       "text": [
        "\n",
        "         Current function value: 0.000477\n",
        "         Iterations: 7\n",
        "         Function evaluations: 15\n",
        "Optimization terminated successfully."
       ]
      },
      {
       "output_type": "stream",
       "stream": "stdout",
       "text": [
        "\n",
        "         Current function value: 0.002097\n",
        "         Iterations: 7\n",
        "         Function evaluations: 15\n",
        "Optimization terminated successfully."
       ]
      },
      {
       "output_type": "stream",
       "stream": "stdout",
       "text": [
        "\n",
        "         Current function value: 0.002348\n",
        "         Iterations: 5\n",
        "         Function evaluations: 11\n",
        "Optimization terminated successfully."
       ]
      },
      {
       "output_type": "stream",
       "stream": "stdout",
       "text": [
        "\n",
        "         Current function value: 0.001504\n",
        "         Iterations: 5\n",
        "         Function evaluations: 12\n",
        "Optimization terminated successfully."
       ]
      },
      {
       "output_type": "stream",
       "stream": "stdout",
       "text": [
        "\n",
        "         Current function value: 0.001371\n",
        "         Iterations: 5\n",
        "         Function evaluations: 10\n",
        "Optimization terminated successfully."
       ]
      },
      {
       "output_type": "stream",
       "stream": "stdout",
       "text": [
        "\n",
        "         Current function value: 0.000000\n",
        "         Iterations: 7\n",
        "         Function evaluations: 15\n",
        "Optimization terminated successfully."
       ]
      },
      {
       "output_type": "stream",
       "stream": "stdout",
       "text": [
        "\n",
        "         Current function value: 0.000244\n",
        "         Iterations: 6\n",
        "         Function evaluations: 14\n",
        "Optimization terminated successfully."
       ]
      },
      {
       "output_type": "stream",
       "stream": "stdout",
       "text": [
        "\n",
        "         Current function value: 0.000800\n",
        "         Iterations: 6\n",
        "         Function evaluations: 12\n",
        "Optimization terminated successfully."
       ]
      },
      {
       "output_type": "stream",
       "stream": "stdout",
       "text": [
        "\n",
        "         Current function value: 0.003154\n",
        "         Iterations: 6\n",
        "         Function evaluations: 13\n",
        "Optimization terminated successfully."
       ]
      },
      {
       "output_type": "stream",
       "stream": "stdout",
       "text": [
        "\n",
        "         Current function value: 0.001266\n",
        "         Iterations: 5\n",
        "         Function evaluations: 10\n",
        "Optimization terminated successfully."
       ]
      },
      {
       "output_type": "stream",
       "stream": "stdout",
       "text": [
        "\n",
        "         Current function value: 0.001378\n",
        "         Iterations: 5\n",
        "         Function evaluations: 10\n",
        "Optimization terminated successfully."
       ]
      },
      {
       "output_type": "stream",
       "stream": "stdout",
       "text": [
        "\n",
        "         Current function value: 0.000000\n",
        "         Iterations: 6\n",
        "         Function evaluations: 12\n",
        "Optimization terminated successfully."
       ]
      },
      {
       "output_type": "stream",
       "stream": "stdout",
       "text": [
        "\n",
        "         Current function value: 0.000122\n",
        "         Iterations: 8\n",
        "         Function evaluations: 18\n",
        "Optimization terminated successfully."
       ]
      },
      {
       "output_type": "stream",
       "stream": "stdout",
       "text": [
        "\n",
        "         Current function value: 0.000991\n",
        "         Iterations: 6\n",
        "         Function evaluations: 13\n",
        "Optimization terminated successfully."
       ]
      },
      {
       "output_type": "stream",
       "stream": "stdout",
       "text": [
        "\n",
        "         Current function value: 0.003286\n",
        "         Iterations: 6\n",
        "         Function evaluations: 12\n",
        "Optimization terminated successfully."
       ]
      },
      {
       "output_type": "stream",
       "stream": "stdout",
       "text": [
        "\n",
        "         Current function value: 0.001820\n",
        "         Iterations: 5\n",
        "         Function evaluations: 10\n",
        "Optimization terminated successfully."
       ]
      },
      {
       "output_type": "stream",
       "stream": "stdout",
       "text": [
        "\n",
        "         Current function value: 0.001750\n",
        "         Iterations: 5\n",
        "         Function evaluations: 10\n",
        "Optimization terminated successfully."
       ]
      },
      {
       "output_type": "stream",
       "stream": "stdout",
       "text": [
        "\n",
        "         Current function value: 0.000005\n",
        "         Iterations: 6\n",
        "         Function evaluations: 14\n",
        "Optimization terminated successfully."
       ]
      },
      {
       "output_type": "stream",
       "stream": "stdout",
       "text": [
        "\n",
        "         Current function value: 0.000569\n",
        "         Iterations: 6\n",
        "         Function evaluations: 13\n",
        "Optimization terminated successfully."
       ]
      },
      {
       "output_type": "stream",
       "stream": "stdout",
       "text": [
        "\n",
        "         Current function value: 0.001637\n",
        "         Iterations: 6\n",
        "         Function evaluations: 12\n",
        "Optimization terminated successfully."
       ]
      },
      {
       "output_type": "stream",
       "stream": "stdout",
       "text": [
        "\n",
        "         Current function value: 0.002507\n",
        "         Iterations: 6\n",
        "         Function evaluations: 12\n",
        "Optimization terminated successfully."
       ]
      },
      {
       "output_type": "stream",
       "stream": "stdout",
       "text": [
        "\n",
        "         Current function value: 0.001601\n",
        "         Iterations: 5\n",
        "         Function evaluations: 11\n",
        "Optimization terminated successfully."
       ]
      },
      {
       "output_type": "stream",
       "stream": "stdout",
       "text": [
        "\n",
        "         Current function value: 0.001247\n",
        "         Iterations: 5\n",
        "         Function evaluations: 12\n",
        "Optimization terminated successfully."
       ]
      },
      {
       "output_type": "stream",
       "stream": "stdout",
       "text": [
        "\n",
        "         Current function value: 0.000000\n",
        "         Iterations: 7\n",
        "         Function evaluations: 14\n",
        "Optimization terminated successfully."
       ]
      },
      {
       "output_type": "stream",
       "stream": "stdout",
       "text": [
        "\n",
        "         Current function value: 0.000091\n",
        "         Iterations: 7\n",
        "         Function evaluations: 14\n",
        "Optimization terminated successfully."
       ]
      },
      {
       "output_type": "stream",
       "stream": "stdout",
       "text": [
        "\n",
        "         Current function value: 0.001846\n",
        "         Iterations: 6\n",
        "         Function evaluations: 13\n",
        "Optimization terminated successfully."
       ]
      },
      {
       "output_type": "stream",
       "stream": "stdout",
       "text": [
        "\n",
        "         Current function value: 0.003877\n",
        "         Iterations: 6\n",
        "         Function evaluations: 12\n",
        "Optimization terminated successfully."
       ]
      },
      {
       "output_type": "stream",
       "stream": "stdout",
       "text": [
        "\n",
        "         Current function value: 0.001428\n",
        "         Iterations: 5\n",
        "         Function evaluations: 10\n",
        "Optimization terminated successfully."
       ]
      },
      {
       "output_type": "stream",
       "stream": "stdout",
       "text": [
        "\n",
        "         Current function value: 0.001773\n",
        "         Iterations: 5\n",
        "         Function evaluations: 11\n",
        "Optimization terminated successfully."
       ]
      },
      {
       "output_type": "stream",
       "stream": "stdout",
       "text": [
        "\n",
        "         Current function value: 0.000001\n",
        "         Iterations: 7\n",
        "         Function evaluations: 14\n",
        "Optimization terminated successfully."
       ]
      },
      {
       "output_type": "stream",
       "stream": "stdout",
       "text": [
        "\n",
        "         Current function value: 0.000127\n",
        "         Iterations: 6\n",
        "         Function evaluations: 12\n",
        "Optimization terminated successfully."
       ]
      },
      {
       "output_type": "stream",
       "stream": "stdout",
       "text": [
        "\n",
        "         Current function value: 0.000652\n",
        "         Iterations: 6\n",
        "         Function evaluations: 13\n",
        "Optimization terminated successfully."
       ]
      },
      {
       "output_type": "stream",
       "stream": "stdout",
       "text": [
        "\n",
        "         Current function value: 0.002378\n",
        "         Iterations: 5\n",
        "         Function evaluations: 11\n",
        "Optimization terminated successfully."
       ]
      },
      {
       "output_type": "stream",
       "stream": "stdout",
       "text": [
        "\n",
        "         Current function value: 0.002456\n",
        "         Iterations: 5\n",
        "         Function evaluations: 10\n",
        "Optimization terminated successfully."
       ]
      },
      {
       "output_type": "stream",
       "stream": "stdout",
       "text": [
        "\n",
        "         Current function value: 0.001373\n",
        "         Iterations: 5\n",
        "         Function evaluations: 11\n",
        "Optimization terminated successfully."
       ]
      },
      {
       "output_type": "stream",
       "stream": "stdout",
       "text": [
        "\n",
        "         Current function value: 0.000005\n",
        "         Iterations: 5\n",
        "         Function evaluations: 10\n",
        "Optimization terminated successfully."
       ]
      },
      {
       "output_type": "stream",
       "stream": "stdout",
       "text": [
        "\n",
        "         Current function value: 0.000114\n",
        "         Iterations: 6\n",
        "         Function evaluations: 12\n",
        "Optimization terminated successfully."
       ]
      },
      {
       "output_type": "stream",
       "stream": "stdout",
       "text": [
        "\n",
        "         Current function value: 0.000605\n",
        "         Iterations: 6\n",
        "         Function evaluations: 12\n",
        "Optimization terminated successfully."
       ]
      },
      {
       "output_type": "stream",
       "stream": "stdout",
       "text": [
        "\n",
        "         Current function value: 0.003251\n",
        "         Iterations: 6\n",
        "         Function evaluations: 12\n",
        "Optimization terminated successfully."
       ]
      },
      {
       "output_type": "stream",
       "stream": "stdout",
       "text": [
        "\n",
        "         Current function value: 0.001478\n",
        "         Iterations: 5\n",
        "         Function evaluations: 11\n",
        "Optimization terminated successfully."
       ]
      },
      {
       "output_type": "stream",
       "stream": "stdout",
       "text": [
        "\n",
        "         Current function value: 0.001449\n",
        "         Iterations: 5\n",
        "         Function evaluations: 10\n",
        "Optimization terminated successfully."
       ]
      },
      {
       "output_type": "stream",
       "stream": "stdout",
       "text": [
        "\n",
        "         Current function value: 0.000000\n",
        "         Iterations: 6\n",
        "         Function evaluations: 13\n",
        "Optimization terminated successfully."
       ]
      },
      {
       "output_type": "stream",
       "stream": "stdout",
       "text": [
        "\n",
        "         Current function value: 0.000154\n",
        "         Iterations: 7\n",
        "         Function evaluations: 14\n",
        "Optimization terminated successfully."
       ]
      },
      {
       "output_type": "stream",
       "stream": "stdout",
       "text": [
        "\n",
        "         Current function value: 0.000566\n",
        "         Iterations: 6\n",
        "         Function evaluations: 12\n",
        "Optimization terminated successfully."
       ]
      },
      {
       "output_type": "stream",
       "stream": "stdout",
       "text": [
        "\n",
        "         Current function value: 0.003548\n",
        "         Iterations: 6\n",
        "         Function evaluations: 12\n",
        "Optimization terminated successfully."
       ]
      },
      {
       "output_type": "stream",
       "stream": "stdout",
       "text": [
        "\n",
        "         Current function value: 0.001539\n",
        "         Iterations: 6\n",
        "         Function evaluations: 12\n",
        "Optimization terminated successfully."
       ]
      },
      {
       "output_type": "stream",
       "stream": "stdout",
       "text": [
        "\n",
        "         Current function value: 0.001482\n",
        "         Iterations: 5\n",
        "         Function evaluations: 10\n",
        "Optimization terminated successfully."
       ]
      },
      {
       "output_type": "stream",
       "stream": "stdout",
       "text": [
        "\n",
        "         Current function value: 0.000006\n",
        "         Iterations: 7\n",
        "         Function evaluations: 14\n",
        "Optimization terminated successfully."
       ]
      },
      {
       "output_type": "stream",
       "stream": "stdout",
       "text": [
        "\n",
        "         Current function value: 0.000160\n",
        "         Iterations: 7\n",
        "         Function evaluations: 16\n",
        "Optimization terminated successfully."
       ]
      },
      {
       "output_type": "stream",
       "stream": "stdout",
       "text": [
        "\n",
        "         Current function value: 0.001923\n",
        "         Iterations: 6\n",
        "         Function evaluations: 12\n",
        "Optimization terminated successfully."
       ]
      },
      {
       "output_type": "stream",
       "stream": "stdout",
       "text": [
        "\n",
        "         Current function value: 0.002748\n",
        "         Iterations: 6\n",
        "         Function evaluations: 12\n",
        "Optimization terminated successfully."
       ]
      },
      {
       "output_type": "stream",
       "stream": "stdout",
       "text": [
        "\n",
        "         Current function value: 0.001265\n",
        "         Iterations: 6\n",
        "         Function evaluations: 12\n",
        "Optimization terminated successfully."
       ]
      },
      {
       "output_type": "stream",
       "stream": "stdout",
       "text": [
        "\n",
        "         Current function value: 0.001708\n",
        "         Iterations: 5\n",
        "         Function evaluations: 11\n",
        "Optimization terminated successfully."
       ]
      },
      {
       "output_type": "stream",
       "stream": "stdout",
       "text": [
        "\n",
        "         Current function value: 0.000002\n",
        "         Iterations: 7\n",
        "         Function evaluations: 15\n",
        "Optimization terminated successfully."
       ]
      },
      {
       "output_type": "stream",
       "stream": "stdout",
       "text": [
        "\n",
        "         Current function value: 0.000140\n",
        "         Iterations: 7\n",
        "         Function evaluations: 14\n",
        "Optimization terminated successfully."
       ]
      },
      {
       "output_type": "stream",
       "stream": "stdout",
       "text": [
        "\n",
        "         Current function value: 0.001020\n",
        "         Iterations: 6\n",
        "         Function evaluations: 12\n",
        "Optimization terminated successfully."
       ]
      },
      {
       "output_type": "stream",
       "stream": "stdout",
       "text": [
        "\n",
        "         Current function value: 0.002054\n",
        "         Iterations: 6\n",
        "         Function evaluations: 13\n",
        "Optimization terminated successfully."
       ]
      },
      {
       "output_type": "stream",
       "stream": "stdout",
       "text": [
        "\n",
        "         Current function value: 0.001599\n",
        "         Iterations: 5\n",
        "         Function evaluations: 10\n",
        "Optimization terminated successfully."
       ]
      },
      {
       "output_type": "stream",
       "stream": "stdout",
       "text": [
        "\n",
        "         Current function value: 0.001043\n",
        "         Iterations: 5\n",
        "         Function evaluations: 10\n",
        "Optimization terminated successfully."
       ]
      },
      {
       "output_type": "stream",
       "stream": "stdout",
       "text": [
        "\n",
        "         Current function value: 0.000000\n",
        "         Iterations: 6\n",
        "         Function evaluations: 14\n",
        "Optimization terminated successfully."
       ]
      },
      {
       "output_type": "stream",
       "stream": "stdout",
       "text": [
        "\n",
        "         Current function value: 0.000057\n",
        "         Iterations: 8\n",
        "         Function evaluations: 17\n",
        "Optimization terminated successfully."
       ]
      },
      {
       "output_type": "stream",
       "stream": "stdout",
       "text": [
        "\n",
        "         Current function value: 0.000822\n",
        "         Iterations: 6\n",
        "         Function evaluations: 13\n",
        "Optimization terminated successfully."
       ]
      },
      {
       "output_type": "stream",
       "stream": "stdout",
       "text": [
        "\n",
        "         Current function value: 0.003158\n",
        "         Iterations: 6\n",
        "         Function evaluations: 13\n",
        "Optimization terminated successfully."
       ]
      },
      {
       "output_type": "stream",
       "stream": "stdout",
       "text": [
        "\n",
        "         Current function value: 0.001332\n",
        "         Iterations: 6\n",
        "         Function evaluations: 12\n",
        "Optimization terminated successfully."
       ]
      },
      {
       "output_type": "stream",
       "stream": "stdout",
       "text": [
        "\n",
        "         Current function value: 0.001619\n",
        "         Iterations: 5\n",
        "         Function evaluations: 11\n",
        "Optimization terminated successfully."
       ]
      },
      {
       "output_type": "stream",
       "stream": "stdout",
       "text": [
        "\n",
        "         Current function value: 0.000005\n",
        "         Iterations: 5\n",
        "         Function evaluations: 11\n",
        "Optimization terminated successfully."
       ]
      },
      {
       "output_type": "stream",
       "stream": "stdout",
       "text": [
        "\n",
        "         Current function value: 0.000020\n",
        "         Iterations: 6\n",
        "         Function evaluations: 14\n",
        "Optimization terminated successfully."
       ]
      },
      {
       "output_type": "stream",
       "stream": "stdout",
       "text": [
        "\n",
        "         Current function value: 0.000396\n",
        "         Iterations: 6\n",
        "         Function evaluations: 14\n",
        "Optimization terminated successfully."
       ]
      },
      {
       "output_type": "stream",
       "stream": "stdout",
       "text": [
        "\n",
        "         Current function value: 0.002441\n",
        "         Iterations: 6\n",
        "         Function evaluations: 12\n",
        "Optimization terminated successfully."
       ]
      },
      {
       "output_type": "stream",
       "stream": "stdout",
       "text": [
        "\n",
        "         Current function value: 0.001666\n",
        "         Iterations: 5\n",
        "         Function evaluations: 10\n",
        "Optimization terminated successfully."
       ]
      },
      {
       "output_type": "stream",
       "stream": "stdout",
       "text": [
        "\n",
        "         Current function value: 0.001200\n",
        "         Iterations: 5\n",
        "         Function evaluations: 10\n",
        "Optimization terminated successfully."
       ]
      },
      {
       "output_type": "stream",
       "stream": "stdout",
       "text": [
        "\n",
        "         Current function value: 0.000009\n",
        "         Iterations: 7\n",
        "         Function evaluations: 14\n",
        "Optimization terminated successfully."
       ]
      },
      {
       "output_type": "stream",
       "stream": "stdout",
       "text": [
        "\n",
        "         Current function value: 0.000076\n",
        "         Iterations: 6\n",
        "         Function evaluations: 13\n",
        "Optimization terminated successfully."
       ]
      },
      {
       "output_type": "stream",
       "stream": "stdout",
       "text": [
        "\n",
        "         Current function value: 0.001131\n",
        "         Iterations: 6\n",
        "         Function evaluations: 13\n",
        "Optimization terminated successfully."
       ]
      },
      {
       "output_type": "stream",
       "stream": "stdout",
       "text": [
        "\n",
        "         Current function value: 0.002326\n",
        "         Iterations: 5\n",
        "         Function evaluations: 10\n",
        "Optimization terminated successfully."
       ]
      },
      {
       "output_type": "stream",
       "stream": "stdout",
       "text": [
        "\n",
        "         Current function value: 0.001857\n",
        "         Iterations: 5\n",
        "         Function evaluations: 11\n",
        "Optimization terminated successfully."
       ]
      },
      {
       "output_type": "stream",
       "stream": "stdout",
       "text": [
        "\n",
        "         Current function value: 0.001531\n",
        "         Iterations: 5\n",
        "         Function evaluations: 11\n",
        "Optimization terminated successfully."
       ]
      },
      {
       "output_type": "stream",
       "stream": "stdout",
       "text": [
        "\n",
        "         Current function value: 0.000029\n",
        "         Iterations: 6\n",
        "         Function evaluations: 13\n",
        "Optimization terminated successfully."
       ]
      },
      {
       "output_type": "stream",
       "stream": "stdout",
       "text": [
        "\n",
        "         Current function value: 0.000291\n",
        "         Iterations: 6\n",
        "         Function evaluations: 12\n",
        "Optimization terminated successfully."
       ]
      },
      {
       "output_type": "stream",
       "stream": "stdout",
       "text": [
        "\n",
        "         Current function value: 0.000309\n",
        "         Iterations: 6\n",
        "         Function evaluations: 13\n",
        "Optimization terminated successfully."
       ]
      },
      {
       "output_type": "stream",
       "stream": "stdout",
       "text": [
        "\n",
        "         Current function value: 0.002267\n",
        "         Iterations: 6\n",
        "         Function evaluations: 14\n",
        "Optimization terminated successfully."
       ]
      },
      {
       "output_type": "stream",
       "stream": "stdout",
       "text": [
        "\n",
        "         Current function value: 0.001430\n",
        "         Iterations: 5\n",
        "         Function evaluations: 10\n",
        "Optimization terminated successfully."
       ]
      },
      {
       "output_type": "stream",
       "stream": "stdout",
       "text": [
        "\n",
        "         Current function value: 0.001452\n",
        "         Iterations: 6\n",
        "         Function evaluations: 12\n",
        "Optimization terminated successfully."
       ]
      },
      {
       "output_type": "stream",
       "stream": "stdout",
       "text": [
        "\n",
        "         Current function value: 0.000003\n",
        "         Iterations: 6\n",
        "         Function evaluations: 12\n",
        "Optimization terminated successfully."
       ]
      },
      {
       "output_type": "stream",
       "stream": "stdout",
       "text": [
        "\n",
        "         Current function value: 0.000007\n",
        "         Iterations: 7\n",
        "         Function evaluations: 15\n",
        "Optimization terminated successfully."
       ]
      },
      {
       "output_type": "stream",
       "stream": "stdout",
       "text": [
        "\n",
        "         Current function value: 0.000930\n",
        "         Iterations: 6\n",
        "         Function evaluations: 12\n",
        "Optimization terminated successfully."
       ]
      },
      {
       "output_type": "stream",
       "stream": "stdout",
       "text": [
        "\n",
        "         Current function value: 0.002817\n",
        "         Iterations: 6\n",
        "         Function evaluations: 14\n",
        "Optimization terminated successfully."
       ]
      },
      {
       "output_type": "stream",
       "stream": "stdout",
       "text": [
        "\n",
        "         Current function value: 0.001566\n",
        "         Iterations: 5\n",
        "         Function evaluations: 10\n",
        "Optimization terminated successfully."
       ]
      },
      {
       "output_type": "stream",
       "stream": "stdout",
       "text": [
        "\n",
        "         Current function value: 0.001542\n",
        "         Iterations: 5\n",
        "         Function evaluations: 10\n",
        "Optimization terminated successfully."
       ]
      },
      {
       "output_type": "stream",
       "stream": "stdout",
       "text": [
        "\n",
        "         Current function value: 0.000005\n",
        "         Iterations: 6\n",
        "         Function evaluations: 13\n",
        "Optimization terminated successfully."
       ]
      },
      {
       "output_type": "stream",
       "stream": "stdout",
       "text": [
        "\n",
        "         Current function value: 0.000112\n",
        "         Iterations: 6\n",
        "         Function evaluations: 13\n",
        "Optimization terminated successfully."
       ]
      },
      {
       "output_type": "stream",
       "stream": "stdout",
       "text": [
        "\n",
        "         Current function value: 0.000397\n",
        "         Iterations: 6\n",
        "         Function evaluations: 13\n",
        "Optimization terminated successfully."
       ]
      },
      {
       "output_type": "stream",
       "stream": "stdout",
       "text": [
        "\n",
        "         Current function value: 0.002709\n",
        "         Iterations: 7\n",
        "         Function evaluations: 15\n",
        "Optimization terminated successfully."
       ]
      },
      {
       "output_type": "stream",
       "stream": "stdout",
       "text": [
        "\n",
        "         Current function value: 0.002005\n",
        "         Iterations: 5\n",
        "         Function evaluations: 10\n",
        "Optimization terminated successfully."
       ]
      },
      {
       "output_type": "stream",
       "stream": "stdout",
       "text": [
        "\n",
        "         Current function value: 0.001321\n",
        "         Iterations: 5\n",
        "         Function evaluations: 10\n",
        "Optimization terminated successfully."
       ]
      },
      {
       "output_type": "stream",
       "stream": "stdout",
       "text": [
        "\n",
        "         Current function value: 0.000016\n",
        "         Iterations: 6\n",
        "         Function evaluations: 13\n",
        "Optimization terminated successfully."
       ]
      },
      {
       "output_type": "stream",
       "stream": "stdout",
       "text": [
        "\n",
        "         Current function value: 0.000294\n",
        "         Iterations: 6\n",
        "         Function evaluations: 14\n",
        "Optimization terminated successfully."
       ]
      },
      {
       "output_type": "stream",
       "stream": "stdout",
       "text": [
        "\n",
        "         Current function value: 0.000589\n",
        "         Iterations: 6\n",
        "         Function evaluations: 12\n",
        "Optimization terminated successfully."
       ]
      },
      {
       "output_type": "stream",
       "stream": "stdout",
       "text": [
        "\n",
        "         Current function value: 0.003665\n",
        "         Iterations: 6\n",
        "         Function evaluations: 13\n",
        "Optimization terminated successfully."
       ]
      },
      {
       "output_type": "stream",
       "stream": "stdout",
       "text": [
        "\n",
        "         Current function value: 0.001764\n",
        "         Iterations: 5\n",
        "         Function evaluations: 11\n",
        "Optimization terminated successfully."
       ]
      },
      {
       "output_type": "stream",
       "stream": "stdout",
       "text": [
        "\n",
        "         Current function value: 0.001637\n",
        "         Iterations: 5\n",
        "         Function evaluations: 10\n",
        "Optimization terminated successfully."
       ]
      },
      {
       "output_type": "stream",
       "stream": "stdout",
       "text": [
        "\n",
        "         Current function value: 0.000008\n",
        "         Iterations: 6\n",
        "         Function evaluations: 12\n",
        "Optimization terminated successfully."
       ]
      },
      {
       "output_type": "stream",
       "stream": "stdout",
       "text": [
        "\n",
        "         Current function value: 0.000187\n",
        "         Iterations: 7\n",
        "         Function evaluations: 15\n",
        "Optimization terminated successfully."
       ]
      },
      {
       "output_type": "stream",
       "stream": "stdout",
       "text": [
        "\n",
        "         Current function value: 0.000823\n",
        "         Iterations: 6\n",
        "         Function evaluations: 13\n",
        "Optimization terminated successfully."
       ]
      },
      {
       "output_type": "stream",
       "stream": "stdout",
       "text": [
        "\n",
        "         Current function value: 0.003374\n",
        "         Iterations: 6\n",
        "         Function evaluations: 12\n",
        "Optimization terminated successfully."
       ]
      },
      {
       "output_type": "stream",
       "stream": "stdout",
       "text": [
        "\n",
        "         Current function value: 0.002838\n",
        "         Iterations: 5\n",
        "         Function evaluations: 10\n",
        "Optimization terminated successfully."
       ]
      },
      {
       "output_type": "stream",
       "stream": "stdout",
       "text": [
        "\n",
        "         Current function value: 0.001477\n",
        "         Iterations: 5\n",
        "         Function evaluations: 10\n",
        "Optimization terminated successfully."
       ]
      },
      {
       "output_type": "stream",
       "stream": "stdout",
       "text": [
        "\n",
        "         Current function value: 0.000017\n",
        "         Iterations: 6\n",
        "         Function evaluations: 14\n",
        "Optimization terminated successfully."
       ]
      },
      {
       "output_type": "stream",
       "stream": "stdout",
       "text": [
        "\n",
        "         Current function value: 0.000050\n",
        "         Iterations: 6\n",
        "         Function evaluations: 12\n",
        "Optimization terminated successfully."
       ]
      },
      {
       "output_type": "stream",
       "stream": "stdout",
       "text": [
        "\n",
        "         Current function value: 0.001148\n",
        "         Iterations: 6\n",
        "         Function evaluations: 13\n",
        "Optimization terminated successfully."
       ]
      },
      {
       "output_type": "stream",
       "stream": "stdout",
       "text": [
        "\n",
        "         Current function value: 0.002122\n",
        "         Iterations: 6\n",
        "         Function evaluations: 12\n",
        "Optimization terminated successfully."
       ]
      },
      {
       "output_type": "stream",
       "stream": "stdout",
       "text": [
        "\n",
        "         Current function value: 0.001453\n",
        "         Iterations: 5\n",
        "         Function evaluations: 10\n",
        "Optimization terminated successfully."
       ]
      },
      {
       "output_type": "stream",
       "stream": "stdout",
       "text": [
        "\n",
        "         Current function value: 0.001071\n",
        "         Iterations: 5\n",
        "         Function evaluations: 11\n",
        "Optimization terminated successfully."
       ]
      },
      {
       "output_type": "stream",
       "stream": "stdout",
       "text": [
        "\n",
        "         Current function value: 0.000003\n",
        "         Iterations: 7\n",
        "         Function evaluations: 17\n",
        "Optimization terminated successfully."
       ]
      },
      {
       "output_type": "stream",
       "stream": "stdout",
       "text": [
        "\n",
        "         Current function value: 0.000172\n",
        "         Iterations: 8\n",
        "         Function evaluations: 16\n",
        "Optimization terminated successfully."
       ]
      },
      {
       "output_type": "stream",
       "stream": "stdout",
       "text": [
        "\n",
        "         Current function value: 0.001010\n",
        "         Iterations: 6\n",
        "         Function evaluations: 12\n",
        "Optimization terminated successfully."
       ]
      },
      {
       "output_type": "stream",
       "stream": "stdout",
       "text": [
        "\n",
        "         Current function value: 0.003457\n",
        "         Iterations: 6\n",
        "         Function evaluations: 12\n",
        "Optimization terminated successfully."
       ]
      },
      {
       "output_type": "stream",
       "stream": "stdout",
       "text": [
        "\n",
        "         Current function value: 0.001757\n",
        "         Iterations: 5\n",
        "         Function evaluations: 10\n",
        "Optimization terminated successfully."
       ]
      },
      {
       "output_type": "stream",
       "stream": "stdout",
       "text": [
        "\n",
        "         Current function value: 0.001665\n",
        "         Iterations: 5\n",
        "         Function evaluations: 10\n",
        "Optimization terminated successfully."
       ]
      },
      {
       "output_type": "stream",
       "stream": "stdout",
       "text": [
        "\n",
        "         Current function value: 0.000002\n",
        "         Iterations: 6\n",
        "         Function evaluations: 12\n",
        "Optimization terminated successfully."
       ]
      },
      {
       "output_type": "stream",
       "stream": "stdout",
       "text": [
        "\n",
        "         Current function value: 0.000168\n",
        "         Iterations: 6\n",
        "         Function evaluations: 12\n",
        "Optimization terminated successfully."
       ]
      },
      {
       "output_type": "stream",
       "stream": "stdout",
       "text": [
        "\n",
        "         Current function value: 0.000848\n",
        "         Iterations: 6\n",
        "         Function evaluations: 12\n",
        "Optimization terminated successfully."
       ]
      },
      {
       "output_type": "stream",
       "stream": "stdout",
       "text": [
        "\n",
        "         Current function value: 0.003476\n",
        "         Iterations: 6\n",
        "         Function evaluations: 12\n",
        "Optimization terminated successfully."
       ]
      },
      {
       "output_type": "stream",
       "stream": "stdout",
       "text": [
        "\n",
        "         Current function value: 0.002380\n",
        "         Iterations: 5\n",
        "         Function evaluations: 11\n",
        "Optimization terminated successfully."
       ]
      },
      {
       "output_type": "stream",
       "stream": "stdout",
       "text": [
        "\n",
        "         Current function value: 0.001220\n",
        "         Iterations: 6\n",
        "         Function evaluations: 12\n",
        "Optimization terminated successfully."
       ]
      },
      {
       "output_type": "stream",
       "stream": "stdout",
       "text": [
        "\n",
        "         Current function value: 0.000004\n",
        "         Iterations: 6\n",
        "         Function evaluations: 13\n",
        "Optimization terminated successfully."
       ]
      },
      {
       "output_type": "stream",
       "stream": "stdout",
       "text": [
        "\n",
        "         Current function value: 0.000329\n",
        "         Iterations: 6\n",
        "         Function evaluations: 13\n",
        "Optimization terminated successfully."
       ]
      },
      {
       "output_type": "stream",
       "stream": "stdout",
       "text": [
        "\n",
        "         Current function value: 0.000910\n",
        "         Iterations: 6\n",
        "         Function evaluations: 12\n",
        "Optimization terminated successfully."
       ]
      },
      {
       "output_type": "stream",
       "stream": "stdout",
       "text": [
        "\n",
        "         Current function value: 0.003281\n",
        "         Iterations: 6\n",
        "         Function evaluations: 12\n",
        "Optimization terminated successfully."
       ]
      },
      {
       "output_type": "stream",
       "stream": "stdout",
       "text": [
        "\n",
        "         Current function value: 0.001667\n",
        "         Iterations: 6\n",
        "         Function evaluations: 12\n",
        "Optimization terminated successfully."
       ]
      },
      {
       "output_type": "stream",
       "stream": "stdout",
       "text": [
        "\n",
        "         Current function value: 0.001601\n",
        "         Iterations: 5\n",
        "         Function evaluations: 10\n",
        "Optimization terminated successfully."
       ]
      },
      {
       "output_type": "stream",
       "stream": "stdout",
       "text": [
        "\n",
        "         Current function value: 0.000006\n",
        "         Iterations: 6\n",
        "         Function evaluations: 14\n",
        "Optimization terminated successfully."
       ]
      },
      {
       "output_type": "stream",
       "stream": "stdout",
       "text": [
        "\n",
        "         Current function value: 0.000066\n",
        "         Iterations: 6\n",
        "         Function evaluations: 12\n",
        "Optimization terminated successfully."
       ]
      },
      {
       "output_type": "stream",
       "stream": "stdout",
       "text": [
        "\n",
        "         Current function value: 0.001538\n",
        "         Iterations: 6\n",
        "         Function evaluations: 12\n",
        "Optimization terminated successfully."
       ]
      },
      {
       "output_type": "stream",
       "stream": "stdout",
       "text": [
        "\n",
        "         Current function value: 0.002806\n",
        "         Iterations: 6\n",
        "         Function evaluations: 13\n",
        "Optimization terminated successfully."
       ]
      },
      {
       "output_type": "stream",
       "stream": "stdout",
       "text": [
        "\n",
        "         Current function value: 0.001415\n",
        "         Iterations: 5\n",
        "         Function evaluations: 10\n",
        "Optimization terminated successfully."
       ]
      },
      {
       "output_type": "stream",
       "stream": "stdout",
       "text": [
        "\n",
        "         Current function value: 0.001236\n",
        "         Iterations: 5\n",
        "         Function evaluations: 12\n",
        "Optimization terminated successfully."
       ]
      },
      {
       "output_type": "stream",
       "stream": "stdout",
       "text": [
        "\n",
        "         Current function value: 0.000001\n",
        "         Iterations: 7\n",
        "         Function evaluations: 14\n",
        "Optimization terminated successfully."
       ]
      },
      {
       "output_type": "stream",
       "stream": "stdout",
       "text": [
        "\n",
        "         Current function value: 0.000194\n",
        "         Iterations: 7\n",
        "         Function evaluations: 15\n",
        "Optimization terminated successfully."
       ]
      },
      {
       "output_type": "stream",
       "stream": "stdout",
       "text": [
        "\n",
        "         Current function value: 0.000882\n",
        "         Iterations: 6\n",
        "         Function evaluations: 12\n",
        "Optimization terminated successfully."
       ]
      },
      {
       "output_type": "stream",
       "stream": "stdout",
       "text": [
        "\n",
        "         Current function value: 0.002506\n",
        "         Iterations: 5\n",
        "         Function evaluations: 11\n",
        "Optimization terminated successfully."
       ]
      },
      {
       "output_type": "stream",
       "stream": "stdout",
       "text": [
        "\n",
        "         Current function value: 0.001744\n",
        "         Iterations: 5\n",
        "         Function evaluations: 11\n",
        "Optimization terminated successfully."
       ]
      },
      {
       "output_type": "stream",
       "stream": "stdout",
       "text": [
        "\n",
        "         Current function value: 0.001466\n",
        "         Iterations: 5\n",
        "         Function evaluations: 12\n",
        "Optimization terminated successfully."
       ]
      },
      {
       "output_type": "stream",
       "stream": "stdout",
       "text": [
        "\n",
        "         Current function value: 0.000002\n",
        "         Iterations: 6\n",
        "         Function evaluations: 13\n",
        "Optimization terminated successfully."
       ]
      },
      {
       "output_type": "stream",
       "stream": "stdout",
       "text": [
        "\n",
        "         Current function value: 0.000088\n",
        "         Iterations: 6\n",
        "         Function evaluations: 12\n",
        "Optimization terminated successfully."
       ]
      },
      {
       "output_type": "stream",
       "stream": "stdout",
       "text": [
        "\n",
        "         Current function value: 0.000460\n",
        "         Iterations: 6\n",
        "         Function evaluations: 13\n",
        "Optimization terminated successfully."
       ]
      },
      {
       "output_type": "stream",
       "stream": "stdout",
       "text": [
        "\n",
        "         Current function value: 0.002690\n",
        "         Iterations: 5\n",
        "         Function evaluations: 10\n",
        "Optimization terminated successfully."
       ]
      },
      {
       "output_type": "stream",
       "stream": "stdout",
       "text": [
        "\n",
        "         Current function value: 0.001489\n",
        "         Iterations: 5\n",
        "         Function evaluations: 10\n",
        "Optimization terminated successfully."
       ]
      },
      {
       "output_type": "stream",
       "stream": "stdout",
       "text": [
        "\n",
        "         Current function value: 0.001311\n",
        "         Iterations: 5\n",
        "         Function evaluations: 10\n",
        "Optimization terminated successfully."
       ]
      },
      {
       "output_type": "stream",
       "stream": "stdout",
       "text": [
        "\n",
        "         Current function value: 0.000000\n",
        "         Iterations: 6\n",
        "         Function evaluations: 14\n",
        "Optimization terminated successfully."
       ]
      },
      {
       "output_type": "stream",
       "stream": "stdout",
       "text": [
        "\n",
        "         Current function value: 0.000078\n",
        "         Iterations: 6\n",
        "         Function evaluations: 13\n",
        "Optimization terminated successfully."
       ]
      },
      {
       "output_type": "stream",
       "stream": "stdout",
       "text": [
        "\n",
        "         Current function value: 0.001259\n",
        "         Iterations: 6\n",
        "         Function evaluations: 12\n",
        "Optimization terminated successfully."
       ]
      },
      {
       "output_type": "stream",
       "stream": "stdout",
       "text": [
        "\n",
        "         Current function value: 0.002788\n",
        "         Iterations: 6\n",
        "         Function evaluations: 12\n",
        "Optimization terminated successfully."
       ]
      },
      {
       "output_type": "stream",
       "stream": "stdout",
       "text": [
        "\n",
        "         Current function value: 0.001273\n",
        "         Iterations: 6\n",
        "         Function evaluations: 13\n",
        "Optimization terminated successfully."
       ]
      },
      {
       "output_type": "stream",
       "stream": "stdout",
       "text": [
        "\n",
        "         Current function value: 0.001270\n",
        "         Iterations: 5\n",
        "         Function evaluations: 10\n",
        "Optimization terminated successfully."
       ]
      },
      {
       "output_type": "stream",
       "stream": "stdout",
       "text": [
        "\n",
        "         Current function value: 0.000002\n",
        "         Iterations: 5\n",
        "         Function evaluations: 11\n",
        "Optimization terminated successfully."
       ]
      },
      {
       "output_type": "stream",
       "stream": "stdout",
       "text": [
        "\n",
        "         Current function value: 0.000425\n",
        "         Iterations: 8\n",
        "         Function evaluations: 17\n",
        "Optimization terminated successfully."
       ]
      },
      {
       "output_type": "stream",
       "stream": "stdout",
       "text": [
        "\n",
        "         Current function value: 0.000811\n",
        "         Iterations: 7\n",
        "         Function evaluations: 15\n",
        "Optimization terminated successfully."
       ]
      },
      {
       "output_type": "stream",
       "stream": "stdout",
       "text": [
        "\n",
        "         Current function value: 0.003391\n",
        "         Iterations: 5\n",
        "         Function evaluations: 10\n",
        "Optimization terminated successfully."
       ]
      },
      {
       "output_type": "stream",
       "stream": "stdout",
       "text": [
        "\n",
        "         Current function value: 0.001268\n",
        "         Iterations: 5\n",
        "         Function evaluations: 10\n",
        "Optimization terminated successfully."
       ]
      },
      {
       "output_type": "stream",
       "stream": "stdout",
       "text": [
        "\n",
        "         Current function value: 0.001489\n",
        "         Iterations: 5\n",
        "         Function evaluations: 11\n",
        "Optimization terminated successfully."
       ]
      },
      {
       "output_type": "stream",
       "stream": "stdout",
       "text": [
        "\n",
        "         Current function value: 0.000000\n",
        "         Iterations: 7\n",
        "         Function evaluations: 15\n",
        "Optimization terminated successfully."
       ]
      },
      {
       "output_type": "stream",
       "stream": "stdout",
       "text": [
        "\n",
        "         Current function value: 0.000261\n",
        "         Iterations: 7\n",
        "         Function evaluations: 14\n",
        "Optimization terminated successfully."
       ]
      },
      {
       "output_type": "stream",
       "stream": "stdout",
       "text": [
        "\n",
        "         Current function value: 0.000690\n",
        "         Iterations: 6\n",
        "         Function evaluations: 13\n",
        "Optimization terminated successfully."
       ]
      },
      {
       "output_type": "stream",
       "stream": "stdout",
       "text": [
        "\n",
        "         Current function value: 0.003274\n",
        "         Iterations: 6\n",
        "         Function evaluations: 13\n",
        "Optimization terminated successfully."
       ]
      },
      {
       "output_type": "stream",
       "stream": "stdout",
       "text": [
        "\n",
        "         Current function value: 0.001167\n",
        "         Iterations: 5\n",
        "         Function evaluations: 10\n",
        "Optimization terminated successfully."
       ]
      },
      {
       "output_type": "stream",
       "stream": "stdout",
       "text": [
        "\n",
        "         Current function value: 0.001311\n",
        "         Iterations: 5\n",
        "         Function evaluations: 10\n",
        "Optimization terminated successfully."
       ]
      },
      {
       "output_type": "stream",
       "stream": "stdout",
       "text": [
        "\n",
        "         Current function value: 0.000001\n",
        "         Iterations: 6\n",
        "         Function evaluations: 14\n",
        "Optimization terminated successfully."
       ]
      },
      {
       "output_type": "stream",
       "stream": "stdout",
       "text": [
        "\n",
        "         Current function value: 0.000065\n",
        "         Iterations: 6\n",
        "         Function evaluations: 12\n",
        "Optimization terminated successfully."
       ]
      },
      {
       "output_type": "stream",
       "stream": "stdout",
       "text": [
        "\n",
        "         Current function value: 0.000332\n",
        "         Iterations: 6\n",
        "         Function evaluations: 12\n",
        "Optimization terminated successfully."
       ]
      },
      {
       "output_type": "stream",
       "stream": "stdout",
       "text": [
        "\n",
        "         Current function value: 0.002585\n",
        "         Iterations: 6\n",
        "         Function evaluations: 12\n",
        "Optimization terminated successfully."
       ]
      },
      {
       "output_type": "stream",
       "stream": "stdout",
       "text": [
        "\n",
        "         Current function value: 0.001277\n",
        "         Iterations: 5\n",
        "         Function evaluations: 12\n",
        "Optimization terminated successfully."
       ]
      },
      {
       "output_type": "stream",
       "stream": "stdout",
       "text": [
        "\n",
        "         Current function value: 0.000847\n",
        "         Iterations: 5\n",
        "         Function evaluations: 11\n",
        "Optimization terminated successfully."
       ]
      },
      {
       "output_type": "stream",
       "stream": "stdout",
       "text": [
        "\n",
        "         Current function value: 0.000028\n",
        "         Iterations: 6\n",
        "         Function evaluations: 14\n",
        "Optimization terminated successfully."
       ]
      },
      {
       "output_type": "stream",
       "stream": "stdout",
       "text": [
        "\n",
        "         Current function value: 0.000436\n",
        "         Iterations: 6\n",
        "         Function evaluations: 13\n",
        "Optimization terminated successfully."
       ]
      },
      {
       "output_type": "stream",
       "stream": "stdout",
       "text": [
        "\n",
        "         Current function value: 0.001050\n",
        "         Iterations: 6\n",
        "         Function evaluations: 13\n",
        "Optimization terminated successfully."
       ]
      },
      {
       "output_type": "stream",
       "stream": "stdout",
       "text": [
        "\n",
        "         Current function value: 0.002233\n",
        "         Iterations: 6\n",
        "         Function evaluations: 13\n",
        "Optimization terminated successfully."
       ]
      },
      {
       "output_type": "stream",
       "stream": "stdout",
       "text": [
        "\n",
        "         Current function value: 0.001846\n",
        "         Iterations: 5\n",
        "         Function evaluations: 10\n",
        "Optimization terminated successfully."
       ]
      },
      {
       "output_type": "stream",
       "stream": "stdout",
       "text": [
        "\n",
        "         Current function value: 0.001213\n",
        "         Iterations: 5\n",
        "         Function evaluations: 10\n",
        "Optimization terminated successfully."
       ]
      },
      {
       "output_type": "stream",
       "stream": "stdout",
       "text": [
        "\n",
        "         Current function value: 0.000012\n",
        "         Iterations: 7\n",
        "         Function evaluations: 14\n",
        "Optimization terminated successfully."
       ]
      },
      {
       "output_type": "stream",
       "stream": "stdout",
       "text": [
        "\n",
        "         Current function value: 0.000091\n",
        "         Iterations: 6\n",
        "         Function evaluations: 13\n",
        "Optimization terminated successfully."
       ]
      },
      {
       "output_type": "stream",
       "stream": "stdout",
       "text": [
        "\n",
        "         Current function value: 0.001476\n",
        "         Iterations: 6\n",
        "         Function evaluations: 13\n",
        "Optimization terminated successfully."
       ]
      },
      {
       "output_type": "stream",
       "stream": "stdout",
       "text": [
        "\n",
        "         Current function value: 0.002822\n",
        "         Iterations: 6\n",
        "         Function evaluations: 13\n",
        "Optimization terminated successfully."
       ]
      },
      {
       "output_type": "stream",
       "stream": "stdout",
       "text": [
        "\n",
        "         Current function value: 0.001502\n",
        "         Iterations: 5\n",
        "         Function evaluations: 11\n",
        "Optimization terminated successfully."
       ]
      },
      {
       "output_type": "stream",
       "stream": "stdout",
       "text": [
        "\n",
        "         Current function value: 0.001483\n",
        "         Iterations: 5\n",
        "         Function evaluations: 10\n",
        "Optimization terminated successfully."
       ]
      },
      {
       "output_type": "stream",
       "stream": "stdout",
       "text": [
        "\n",
        "         Current function value: 0.000000\n",
        "         Iterations: 6\n",
        "         Function evaluations: 13\n",
        "Optimization terminated successfully."
       ]
      },
      {
       "output_type": "stream",
       "stream": "stdout",
       "text": [
        "\n",
        "         Current function value: 0.000003\n",
        "         Iterations: 7\n",
        "         Function evaluations: 14\n",
        "Optimization terminated successfully."
       ]
      },
      {
       "output_type": "stream",
       "stream": "stdout",
       "text": [
        "\n",
        "         Current function value: 0.001275\n",
        "         Iterations: 6\n",
        "         Function evaluations: 13\n",
        "Optimization terminated successfully."
       ]
      },
      {
       "output_type": "stream",
       "stream": "stdout",
       "text": [
        "\n",
        "         Current function value: 0.004273\n",
        "         Iterations: 6\n",
        "         Function evaluations: 12\n",
        "Optimization terminated successfully."
       ]
      },
      {
       "output_type": "stream",
       "stream": "stdout",
       "text": [
        "\n",
        "         Current function value: 0.001565\n",
        "         Iterations: 5\n",
        "         Function evaluations: 11\n",
        "Optimization terminated successfully."
       ]
      },
      {
       "output_type": "stream",
       "stream": "stdout",
       "text": [
        "\n",
        "         Current function value: 0.000942\n",
        "         Iterations: 5\n",
        "         Function evaluations: 10\n",
        "Optimization terminated successfully."
       ]
      },
      {
       "output_type": "stream",
       "stream": "stdout",
       "text": [
        "\n",
        "         Current function value: 0.000005\n",
        "         Iterations: 6\n",
        "         Function evaluations: 13\n",
        "Optimization terminated successfully."
       ]
      },
      {
       "output_type": "stream",
       "stream": "stdout",
       "text": [
        "\n",
        "         Current function value: 0.000038\n",
        "         Iterations: 7\n",
        "         Function evaluations: 15\n",
        "Optimization terminated successfully."
       ]
      },
      {
       "output_type": "stream",
       "stream": "stdout",
       "text": [
        "\n",
        "         Current function value: 0.000622\n",
        "         Iterations: 6\n",
        "         Function evaluations: 13\n",
        "Optimization terminated successfully."
       ]
      },
      {
       "output_type": "stream",
       "stream": "stdout",
       "text": [
        "\n",
        "         Current function value: 0.003219\n",
        "         Iterations: 6\n",
        "         Function evaluations: 12\n",
        "Optimization terminated successfully."
       ]
      },
      {
       "output_type": "stream",
       "stream": "stdout",
       "text": [
        "\n",
        "         Current function value: 0.002020\n",
        "         Iterations: 5\n",
        "         Function evaluations: 11\n",
        "Optimization terminated successfully."
       ]
      },
      {
       "output_type": "stream",
       "stream": "stdout",
       "text": [
        "\n",
        "         Current function value: 0.001759\n",
        "         Iterations: 5\n",
        "         Function evaluations: 11\n",
        "Optimization terminated successfully."
       ]
      },
      {
       "output_type": "stream",
       "stream": "stdout",
       "text": [
        "\n",
        "         Current function value: 0.000005\n",
        "         Iterations: 7\n",
        "         Function evaluations: 14\n",
        "Optimization terminated successfully."
       ]
      },
      {
       "output_type": "stream",
       "stream": "stdout",
       "text": [
        "\n",
        "         Current function value: 0.000024\n",
        "         Iterations: 6\n",
        "         Function evaluations: 13\n",
        "Optimization terminated successfully."
       ]
      },
      {
       "output_type": "stream",
       "stream": "stdout",
       "text": [
        "\n",
        "         Current function value: 0.000555\n",
        "         Iterations: 6\n",
        "         Function evaluations: 13\n",
        "Optimization terminated successfully."
       ]
      },
      {
       "output_type": "stream",
       "stream": "stdout",
       "text": [
        "\n",
        "         Current function value: 0.002954\n",
        "         Iterations: 7\n",
        "         Function evaluations: 15\n",
        "Optimization terminated successfully."
       ]
      },
      {
       "output_type": "stream",
       "stream": "stdout",
       "text": [
        "\n",
        "         Current function value: 0.001639\n",
        "         Iterations: 5\n",
        "         Function evaluations: 10\n",
        "Optimization terminated successfully."
       ]
      },
      {
       "output_type": "stream",
       "stream": "stdout",
       "text": [
        "\n",
        "         Current function value: 0.001738\n",
        "         Iterations: 5\n",
        "         Function evaluations: 12\n",
        "Optimization terminated successfully."
       ]
      },
      {
       "output_type": "stream",
       "stream": "stdout",
       "text": [
        "\n",
        "         Current function value: 0.000004\n",
        "         Iterations: 6\n",
        "         Function evaluations: 12\n",
        "Optimization terminated successfully."
       ]
      },
      {
       "output_type": "stream",
       "stream": "stdout",
       "text": [
        "\n",
        "         Current function value: 0.000091\n",
        "         Iterations: 7\n",
        "         Function evaluations: 14\n",
        "Optimization terminated successfully."
       ]
      },
      {
       "output_type": "stream",
       "stream": "stdout",
       "text": [
        "\n",
        "         Current function value: 0.000632\n",
        "         Iterations: 6\n",
        "         Function evaluations: 12\n",
        "Optimization terminated successfully."
       ]
      },
      {
       "output_type": "stream",
       "stream": "stdout",
       "text": [
        "\n",
        "         Current function value: 0.001696\n",
        "         Iterations: 5\n",
        "         Function evaluations: 11\n",
        "Optimization terminated successfully."
       ]
      },
      {
       "output_type": "stream",
       "stream": "stdout",
       "text": [
        "\n",
        "         Current function value: 0.001887\n",
        "         Iterations: 7\n",
        "         Function evaluations: 15\n",
        "Optimization terminated successfully."
       ]
      },
      {
       "output_type": "stream",
       "stream": "stdout",
       "text": [
        "\n",
        "         Current function value: 0.001072\n",
        "         Iterations: 5\n",
        "         Function evaluations: 10\n",
        "Optimization terminated successfully."
       ]
      },
      {
       "output_type": "stream",
       "stream": "stdout",
       "text": [
        "\n",
        "         Current function value: 0.000000\n",
        "         Iterations: 6\n",
        "         Function evaluations: 13\n",
        "Optimization terminated successfully."
       ]
      },
      {
       "output_type": "stream",
       "stream": "stdout",
       "text": [
        "\n",
        "         Current function value: 0.000693\n",
        "         Iterations: 7\n",
        "         Function evaluations: 14\n",
        "Optimization terminated successfully."
       ]
      },
      {
       "output_type": "stream",
       "stream": "stdout",
       "text": [
        "\n",
        "         Current function value: 0.000554\n",
        "         Iterations: 6\n",
        "         Function evaluations: 12\n",
        "Optimization terminated successfully."
       ]
      },
      {
       "output_type": "stream",
       "stream": "stdout",
       "text": [
        "\n",
        "         Current function value: 0.002155\n",
        "         Iterations: 6\n",
        "         Function evaluations: 12\n",
        "Optimization terminated successfully."
       ]
      },
      {
       "output_type": "stream",
       "stream": "stdout",
       "text": [
        "\n",
        "         Current function value: 0.001645\n",
        "         Iterations: 5\n",
        "         Function evaluations: 11\n",
        "Optimization terminated successfully."
       ]
      },
      {
       "output_type": "stream",
       "stream": "stdout",
       "text": [
        "\n",
        "         Current function value: 0.001234\n",
        "         Iterations: 5\n",
        "         Function evaluations: 11\n",
        "Optimization terminated successfully."
       ]
      },
      {
       "output_type": "stream",
       "stream": "stdout",
       "text": [
        "\n",
        "         Current function value: 0.000000\n",
        "         Iterations: 6\n",
        "         Function evaluations: 12\n",
        "Optimization terminated successfully."
       ]
      },
      {
       "output_type": "stream",
       "stream": "stdout",
       "text": [
        "\n",
        "         Current function value: 0.000270\n",
        "         Iterations: 7\n",
        "         Function evaluations: 15\n",
        "Optimization terminated successfully."
       ]
      },
      {
       "output_type": "stream",
       "stream": "stdout",
       "text": [
        "\n",
        "         Current function value: 0.001473\n",
        "         Iterations: 6\n",
        "         Function evaluations: 12\n",
        "Optimization terminated successfully."
       ]
      },
      {
       "output_type": "stream",
       "stream": "stdout",
       "text": [
        "\n",
        "         Current function value: 0.002301\n",
        "         Iterations: 6\n",
        "         Function evaluations: 13\n",
        "Optimization terminated successfully."
       ]
      },
      {
       "output_type": "stream",
       "stream": "stdout",
       "text": [
        "\n",
        "         Current function value: 0.001365\n",
        "         Iterations: 5\n",
        "         Function evaluations: 10\n",
        "Optimization terminated successfully."
       ]
      },
      {
       "output_type": "stream",
       "stream": "stdout",
       "text": [
        "\n",
        "         Current function value: 0.001167\n",
        "         Iterations: 5\n",
        "         Function evaluations: 11\n",
        "Optimization terminated successfully."
       ]
      },
      {
       "output_type": "stream",
       "stream": "stdout",
       "text": [
        "\n",
        "         Current function value: 0.000013\n",
        "         Iterations: 6\n",
        "         Function evaluations: 13\n",
        "Optimization terminated successfully."
       ]
      },
      {
       "output_type": "stream",
       "stream": "stdout",
       "text": [
        "\n",
        "         Current function value: 0.000041\n",
        "         Iterations: 6\n",
        "         Function evaluations: 12\n",
        "Optimization terminated successfully."
       ]
      },
      {
       "output_type": "stream",
       "stream": "stdout",
       "text": [
        "\n",
        "         Current function value: 0.001951\n",
        "         Iterations: 6\n",
        "         Function evaluations: 12\n",
        "Optimization terminated successfully."
       ]
      },
      {
       "output_type": "stream",
       "stream": "stdout",
       "text": [
        "\n",
        "         Current function value: 0.002759\n",
        "         Iterations: 6\n",
        "         Function evaluations: 12\n",
        "Optimization terminated successfully."
       ]
      },
      {
       "output_type": "stream",
       "stream": "stdout",
       "text": [
        "\n",
        "         Current function value: 0.001457\n",
        "         Iterations: 5\n",
        "         Function evaluations: 11\n",
        "Optimization terminated successfully."
       ]
      },
      {
       "output_type": "stream",
       "stream": "stdout",
       "text": [
        "\n",
        "         Current function value: 0.001242\n",
        "         Iterations: 5\n",
        "         Function evaluations: 10\n",
        "Optimization terminated successfully."
       ]
      },
      {
       "output_type": "stream",
       "stream": "stdout",
       "text": [
        "\n",
        "         Current function value: 0.000000\n",
        "         Iterations: 8\n",
        "         Function evaluations: 16\n",
        "Optimization terminated successfully."
       ]
      },
      {
       "output_type": "stream",
       "stream": "stdout",
       "text": [
        "\n",
        "         Current function value: 0.000095\n",
        "         Iterations: 7\n",
        "         Function evaluations: 14\n",
        "Optimization terminated successfully."
       ]
      },
      {
       "output_type": "stream",
       "stream": "stdout",
       "text": [
        "\n",
        "         Current function value: 0.000841\n",
        "         Iterations: 6\n",
        "         Function evaluations: 13\n",
        "Optimization terminated successfully."
       ]
      },
      {
       "output_type": "stream",
       "stream": "stdout",
       "text": [
        "\n",
        "         Current function value: 0.003666\n",
        "         Iterations: 6\n",
        "         Function evaluations: 12\n",
        "Optimization terminated successfully."
       ]
      },
      {
       "output_type": "stream",
       "stream": "stdout",
       "text": [
        "\n",
        "         Current function value: 0.002025\n",
        "         Iterations: 5\n",
        "         Function evaluations: 10\n",
        "Optimization terminated successfully."
       ]
      },
      {
       "output_type": "stream",
       "stream": "stdout",
       "text": [
        "\n",
        "         Current function value: 0.002013\n",
        "         Iterations: 5\n",
        "         Function evaluations: 11\n",
        "Optimization terminated successfully."
       ]
      },
      {
       "output_type": "stream",
       "stream": "stdout",
       "text": [
        "\n",
        "         Current function value: 0.000003\n",
        "         Iterations: 7\n",
        "         Function evaluations: 15\n",
        "Optimization terminated successfully."
       ]
      },
      {
       "output_type": "stream",
       "stream": "stdout",
       "text": [
        "\n",
        "         Current function value: 0.000123\n",
        "         Iterations: 7\n",
        "         Function evaluations: 14\n",
        "Optimization terminated successfully."
       ]
      },
      {
       "output_type": "stream",
       "stream": "stdout",
       "text": [
        "\n",
        "         Current function value: 0.000663\n",
        "         Iterations: 6\n",
        "         Function evaluations: 12\n",
        "Optimization terminated successfully."
       ]
      },
      {
       "output_type": "stream",
       "stream": "stdout",
       "text": [
        "\n",
        "         Current function value: 0.002821\n",
        "         Iterations: 7\n",
        "         Function evaluations: 15\n",
        "Optimization terminated successfully."
       ]
      },
      {
       "output_type": "stream",
       "stream": "stdout",
       "text": [
        "\n",
        "         Current function value: 0.001850\n",
        "         Iterations: 5\n",
        "         Function evaluations: 12\n",
        "Optimization terminated successfully."
       ]
      },
      {
       "output_type": "stream",
       "stream": "stdout",
       "text": [
        "\n",
        "         Current function value: 0.001646\n",
        "         Iterations: 5\n",
        "         Function evaluations: 11\n",
        "Optimization terminated successfully."
       ]
      },
      {
       "output_type": "stream",
       "stream": "stdout",
       "text": [
        "\n",
        "         Current function value: 0.000001\n",
        "         Iterations: 6\n",
        "         Function evaluations: 12\n",
        "Optimization terminated successfully."
       ]
      },
      {
       "output_type": "stream",
       "stream": "stdout",
       "text": [
        "\n",
        "         Current function value: 0.000140\n",
        "         Iterations: 6\n",
        "         Function evaluations: 12\n",
        "Optimization terminated successfully."
       ]
      },
      {
       "output_type": "stream",
       "stream": "stdout",
       "text": [
        "\n",
        "         Current function value: 0.001145\n",
        "         Iterations: 6\n",
        "         Function evaluations: 13\n",
        "Optimization terminated successfully."
       ]
      },
      {
       "output_type": "stream",
       "stream": "stdout",
       "text": [
        "\n",
        "         Current function value: 0.002712\n",
        "         Iterations: 6\n",
        "         Function evaluations: 12\n",
        "Optimization terminated successfully."
       ]
      },
      {
       "output_type": "stream",
       "stream": "stdout",
       "text": [
        "\n",
        "         Current function value: 0.001507\n",
        "         Iterations: 5\n",
        "         Function evaluations: 10\n",
        "Optimization terminated successfully."
       ]
      },
      {
       "output_type": "stream",
       "stream": "stdout",
       "text": [
        "\n",
        "         Current function value: 0.001198\n",
        "         Iterations: 5\n",
        "         Function evaluations: 10\n",
        "Optimization terminated successfully."
       ]
      },
      {
       "output_type": "stream",
       "stream": "stdout",
       "text": [
        "\n",
        "         Current function value: 0.000003\n",
        "         Iterations: 6\n",
        "         Function evaluations: 12\n",
        "Optimization terminated successfully."
       ]
      },
      {
       "output_type": "stream",
       "stream": "stdout",
       "text": [
        "\n",
        "         Current function value: 0.000641\n",
        "         Iterations: 6\n",
        "         Function evaluations: 14\n",
        "Optimization terminated successfully."
       ]
      },
      {
       "output_type": "stream",
       "stream": "stdout",
       "text": [
        "\n",
        "         Current function value: 0.001408\n",
        "         Iterations: 6\n",
        "         Function evaluations: 12\n",
        "Optimization terminated successfully."
       ]
      },
      {
       "output_type": "stream",
       "stream": "stdout",
       "text": [
        "\n",
        "         Current function value: 0.002372\n",
        "         Iterations: 6\n",
        "         Function evaluations: 12\n",
        "Optimization terminated successfully."
       ]
      },
      {
       "output_type": "stream",
       "stream": "stdout",
       "text": [
        "\n",
        "         Current function value: 0.001326\n",
        "         Iterations: 6\n",
        "         Function evaluations: 12\n",
        "Optimization terminated successfully."
       ]
      },
      {
       "output_type": "stream",
       "stream": "stdout",
       "text": [
        "\n",
        "         Current function value: 0.000885\n",
        "         Iterations: 5\n",
        "         Function evaluations: 10\n",
        "Optimization terminated successfully."
       ]
      },
      {
       "output_type": "stream",
       "stream": "stdout",
       "text": [
        "\n",
        "         Current function value: 0.000000\n",
        "         Iterations: 5\n",
        "         Function evaluations: 12\n",
        "Optimization terminated successfully."
       ]
      },
      {
       "output_type": "stream",
       "stream": "stdout",
       "text": [
        "\n",
        "         Current function value: 0.000100\n",
        "         Iterations: 7\n",
        "         Function evaluations: 15\n",
        "Optimization terminated successfully."
       ]
      },
      {
       "output_type": "stream",
       "stream": "stdout",
       "text": [
        "\n",
        "         Current function value: 0.001242\n",
        "         Iterations: 7\n",
        "         Function evaluations: 14\n",
        "Optimization terminated successfully."
       ]
      },
      {
       "output_type": "stream",
       "stream": "stdout",
       "text": [
        "\n",
        "         Current function value: 0.002404\n",
        "         Iterations: 6\n",
        "         Function evaluations: 13\n",
        "Optimization terminated successfully."
       ]
      },
      {
       "output_type": "stream",
       "stream": "stdout",
       "text": [
        "\n",
        "         Current function value: 0.001366\n",
        "         Iterations: 5\n",
        "         Function evaluations: 10\n",
        "Optimization terminated successfully."
       ]
      },
      {
       "output_type": "stream",
       "stream": "stdout",
       "text": [
        "\n",
        "         Current function value: 0.001522\n",
        "         Iterations: 5\n",
        "         Function evaluations: 10\n",
        "Optimization terminated successfully."
       ]
      },
      {
       "output_type": "stream",
       "stream": "stdout",
       "text": [
        "\n",
        "         Current function value: 0.000000\n",
        "         Iterations: 6\n",
        "         Function evaluations: 12\n",
        "Optimization terminated successfully."
       ]
      },
      {
       "output_type": "stream",
       "stream": "stdout",
       "text": [
        "\n",
        "         Current function value: 0.000101\n",
        "         Iterations: 6\n",
        "         Function evaluations: 14\n",
        "Optimization terminated successfully."
       ]
      },
      {
       "output_type": "stream",
       "stream": "stdout",
       "text": [
        "\n",
        "         Current function value: 0.000762\n",
        "         Iterations: 6\n",
        "         Function evaluations: 13\n",
        "Optimization terminated successfully."
       ]
      },
      {
       "output_type": "stream",
       "stream": "stdout",
       "text": [
        "\n",
        "         Current function value: 0.002882\n",
        "         Iterations: 6\n",
        "         Function evaluations: 12\n",
        "Optimization terminated successfully."
       ]
      },
      {
       "output_type": "stream",
       "stream": "stdout",
       "text": [
        "\n",
        "         Current function value: 0.002229\n",
        "         Iterations: 5\n",
        "         Function evaluations: 12\n",
        "Optimization terminated successfully."
       ]
      },
      {
       "output_type": "stream",
       "stream": "stdout",
       "text": [
        "\n",
        "         Current function value: 0.000960\n",
        "         Iterations: 5\n",
        "         Function evaluations: 10\n",
        "Optimization terminated successfully."
       ]
      },
      {
       "output_type": "stream",
       "stream": "stdout",
       "text": [
        "\n",
        "         Current function value: 0.000003\n",
        "         Iterations: 7\n",
        "         Function evaluations: 14\n",
        "Optimization terminated successfully."
       ]
      },
      {
       "output_type": "stream",
       "stream": "stdout",
       "text": [
        "\n",
        "         Current function value: 0.000044\n",
        "         Iterations: 6\n",
        "         Function evaluations: 13\n",
        "Optimization terminated successfully."
       ]
      },
      {
       "output_type": "stream",
       "stream": "stdout",
       "text": [
        "\n",
        "         Current function value: 0.001051\n",
        "         Iterations: 6\n",
        "         Function evaluations: 12\n",
        "Optimization terminated successfully."
       ]
      },
      {
       "output_type": "stream",
       "stream": "stdout",
       "text": [
        "\n",
        "         Current function value: 0.003792\n",
        "         Iterations: 6\n",
        "         Function evaluations: 12\n",
        "Optimization terminated successfully."
       ]
      },
      {
       "output_type": "stream",
       "stream": "stdout",
       "text": [
        "\n",
        "         Current function value: 0.001336\n",
        "         Iterations: 5\n",
        "         Function evaluations: 10\n",
        "Optimization terminated successfully."
       ]
      },
      {
       "output_type": "stream",
       "stream": "stdout",
       "text": [
        "\n",
        "         Current function value: 0.001220\n",
        "         Iterations: 5\n",
        "         Function evaluations: 10\n",
        "Optimization terminated successfully."
       ]
      },
      {
       "output_type": "stream",
       "stream": "stdout",
       "text": [
        "\n",
        "         Current function value: 0.000039\n",
        "         Iterations: 6\n",
        "         Function evaluations: 13\n",
        "Optimization terminated successfully."
       ]
      },
      {
       "output_type": "stream",
       "stream": "stdout",
       "text": [
        "\n",
        "         Current function value: 0.000126\n",
        "         Iterations: 7\n",
        "         Function evaluations: 16\n",
        "Optimization terminated successfully."
       ]
      },
      {
       "output_type": "stream",
       "stream": "stdout",
       "text": [
        "\n",
        "         Current function value: 0.000765\n",
        "         Iterations: 6\n",
        "         Function evaluations: 13\n",
        "Optimization terminated successfully."
       ]
      },
      {
       "output_type": "stream",
       "stream": "stdout",
       "text": [
        "\n",
        "         Current function value: 0.002866\n",
        "         Iterations: 6\n",
        "         Function evaluations: 12\n",
        "Optimization terminated successfully."
       ]
      },
      {
       "output_type": "stream",
       "stream": "stdout",
       "text": [
        "\n",
        "         Current function value: 0.001791\n",
        "         Iterations: 5\n",
        "         Function evaluations: 11\n",
        "Optimization terminated successfully."
       ]
      },
      {
       "output_type": "stream",
       "stream": "stdout",
       "text": [
        "\n",
        "         Current function value: 0.000962\n",
        "         Iterations: 5\n",
        "         Function evaluations: 10\n",
        "Optimization terminated successfully."
       ]
      },
      {
       "output_type": "stream",
       "stream": "stdout",
       "text": [
        "\n",
        "         Current function value: 0.000006\n",
        "         Iterations: 7\n",
        "         Function evaluations: 16\n",
        "Optimization terminated successfully."
       ]
      },
      {
       "output_type": "stream",
       "stream": "stdout",
       "text": [
        "\n",
        "         Current function value: 0.000080\n",
        "         Iterations: 7\n",
        "         Function evaluations: 17\n",
        "Optimization terminated successfully."
       ]
      },
      {
       "output_type": "stream",
       "stream": "stdout",
       "text": [
        "\n",
        "         Current function value: 0.000996\n",
        "         Iterations: 6\n",
        "         Function evaluations: 12\n",
        "Optimization terminated successfully."
       ]
      },
      {
       "output_type": "stream",
       "stream": "stdout",
       "text": [
        "\n",
        "         Current function value: 0.002896\n",
        "         Iterations: 6\n",
        "         Function evaluations: 12\n",
        "Optimization terminated successfully."
       ]
      },
      {
       "output_type": "stream",
       "stream": "stdout",
       "text": [
        "\n",
        "         Current function value: 0.001827\n",
        "         Iterations: 5\n",
        "         Function evaluations: 10\n",
        "Optimization terminated successfully."
       ]
      },
      {
       "output_type": "stream",
       "stream": "stdout",
       "text": [
        "\n",
        "         Current function value: 0.001304\n",
        "         Iterations: 5\n",
        "         Function evaluations: 11\n",
        "Optimization terminated successfully."
       ]
      },
      {
       "output_type": "stream",
       "stream": "stdout",
       "text": [
        "\n",
        "         Current function value: 0.000001\n",
        "         Iterations: 7\n",
        "         Function evaluations: 15\n",
        "Optimization terminated successfully."
       ]
      },
      {
       "output_type": "stream",
       "stream": "stdout",
       "text": [
        "\n",
        "         Current function value: 0.000117\n",
        "         Iterations: 6\n",
        "         Function evaluations: 13\n",
        "Optimization terminated successfully."
       ]
      },
      {
       "output_type": "stream",
       "stream": "stdout",
       "text": [
        "\n",
        "         Current function value: 0.000559\n",
        "         Iterations: 6\n",
        "         Function evaluations: 12\n",
        "Optimization terminated successfully."
       ]
      },
      {
       "output_type": "stream",
       "stream": "stdout",
       "text": [
        "\n",
        "         Current function value: 0.002346\n",
        "         Iterations: 5\n",
        "         Function evaluations: 11\n",
        "Optimization terminated successfully."
       ]
      },
      {
       "output_type": "stream",
       "stream": "stdout",
       "text": [
        "\n",
        "         Current function value: 0.001391\n",
        "         Iterations: 5\n",
        "         Function evaluations: 12\n",
        "Optimization terminated successfully."
       ]
      },
      {
       "output_type": "stream",
       "stream": "stdout",
       "text": [
        "\n",
        "         Current function value: 0.001355\n",
        "         Iterations: 5\n",
        "         Function evaluations: 11\n",
        "Optimization terminated successfully."
       ]
      },
      {
       "output_type": "stream",
       "stream": "stdout",
       "text": [
        "\n",
        "         Current function value: 0.000010\n",
        "         Iterations: 6\n",
        "         Function evaluations: 13\n",
        "Optimization terminated successfully."
       ]
      },
      {
       "output_type": "stream",
       "stream": "stdout",
       "text": [
        "\n",
        "         Current function value: 0.000265\n",
        "         Iterations: 7\n",
        "         Function evaluations: 15\n",
        "Optimization terminated successfully."
       ]
      },
      {
       "output_type": "stream",
       "stream": "stdout",
       "text": [
        "\n",
        "         Current function value: 0.001170\n",
        "         Iterations: 7\n",
        "         Function evaluations: 14\n",
        "Optimization terminated successfully."
       ]
      },
      {
       "output_type": "stream",
       "stream": "stdout",
       "text": [
        "\n",
        "         Current function value: 0.003437\n",
        "         Iterations: 6\n",
        "         Function evaluations: 12\n",
        "Optimization terminated successfully."
       ]
      },
      {
       "output_type": "stream",
       "stream": "stdout",
       "text": [
        "\n",
        "         Current function value: 0.001558\n",
        "         Iterations: 6\n",
        "         Function evaluations: 12\n",
        "Optimization terminated successfully."
       ]
      },
      {
       "output_type": "stream",
       "stream": "stdout",
       "text": [
        "\n",
        "         Current function value: 0.001435\n",
        "         Iterations: 5\n",
        "         Function evaluations: 10\n",
        "Optimization terminated successfully."
       ]
      },
      {
       "output_type": "stream",
       "stream": "stdout",
       "text": [
        "\n",
        "         Current function value: 0.000026\n",
        "         Iterations: 6\n",
        "         Function evaluations: 12\n",
        "Optimization terminated successfully."
       ]
      },
      {
       "output_type": "stream",
       "stream": "stdout",
       "text": [
        "\n",
        "         Current function value: 0.000063\n",
        "         Iterations: 6\n",
        "         Function evaluations: 12\n",
        "Optimization terminated successfully."
       ]
      },
      {
       "output_type": "stream",
       "stream": "stdout",
       "text": [
        "\n",
        "         Current function value: 0.000447\n",
        "         Iterations: 6\n",
        "         Function evaluations: 12\n",
        "Optimization terminated successfully."
       ]
      },
      {
       "output_type": "stream",
       "stream": "stdout",
       "text": [
        "\n",
        "         Current function value: 0.003411\n",
        "         Iterations: 6\n",
        "         Function evaluations: 12\n",
        "Optimization terminated successfully."
       ]
      },
      {
       "output_type": "stream",
       "stream": "stdout",
       "text": [
        "\n",
        "         Current function value: 0.001479\n",
        "         Iterations: 5\n",
        "         Function evaluations: 10\n",
        "Optimization terminated successfully."
       ]
      },
      {
       "output_type": "stream",
       "stream": "stdout",
       "text": [
        "\n",
        "         Current function value: 0.001728\n",
        "         Iterations: 6\n",
        "         Function evaluations: 13\n",
        "Optimization terminated successfully."
       ]
      },
      {
       "output_type": "stream",
       "stream": "stdout",
       "text": [
        "\n",
        "         Current function value: 0.000005\n",
        "         Iterations: 6\n",
        "         Function evaluations: 13\n",
        "Optimization terminated successfully."
       ]
      },
      {
       "output_type": "stream",
       "stream": "stdout",
       "text": [
        "\n",
        "         Current function value: 0.000066\n",
        "         Iterations: 7\n",
        "         Function evaluations: 14\n",
        "Optimization terminated successfully."
       ]
      },
      {
       "output_type": "stream",
       "stream": "stdout",
       "text": [
        "\n",
        "         Current function value: 0.001224\n",
        "         Iterations: 6\n",
        "         Function evaluations: 12\n",
        "Optimization terminated successfully."
       ]
      },
      {
       "output_type": "stream",
       "stream": "stdout",
       "text": [
        "\n",
        "         Current function value: 0.003207\n",
        "         Iterations: 6\n",
        "         Function evaluations: 12\n",
        "Optimization terminated successfully."
       ]
      },
      {
       "output_type": "stream",
       "stream": "stdout",
       "text": [
        "\n",
        "         Current function value: 0.001523\n",
        "         Iterations: 5\n",
        "         Function evaluations: 11\n",
        "Optimization terminated successfully."
       ]
      },
      {
       "output_type": "stream",
       "stream": "stdout",
       "text": [
        "\n",
        "         Current function value: 0.001093\n",
        "         Iterations: 5\n",
        "         Function evaluations: 11\n",
        "Optimization terminated successfully."
       ]
      },
      {
       "output_type": "stream",
       "stream": "stdout",
       "text": [
        "\n",
        "         Current function value: 0.000000\n",
        "         Iterations: 5\n",
        "         Function evaluations: 10\n",
        "Optimization terminated successfully."
       ]
      },
      {
       "output_type": "stream",
       "stream": "stdout",
       "text": [
        "\n",
        "         Current function value: 0.000041\n",
        "         Iterations: 6\n",
        "         Function evaluations: 12\n",
        "Optimization terminated successfully."
       ]
      },
      {
       "output_type": "stream",
       "stream": "stdout",
       "text": [
        "\n",
        "         Current function value: 0.000392\n",
        "         Iterations: 6\n",
        "         Function evaluations: 12\n",
        "Optimization terminated successfully."
       ]
      },
      {
       "output_type": "stream",
       "stream": "stdout",
       "text": [
        "\n",
        "         Current function value: 0.002594\n",
        "         Iterations: 6\n",
        "         Function evaluations: 12\n",
        "Optimization terminated successfully."
       ]
      },
      {
       "output_type": "stream",
       "stream": "stdout",
       "text": [
        "\n",
        "         Current function value: 0.001592\n",
        "         Iterations: 5\n",
        "         Function evaluations: 10\n",
        "Optimization terminated successfully."
       ]
      },
      {
       "output_type": "stream",
       "stream": "stdout",
       "text": [
        "\n",
        "         Current function value: 0.001123\n",
        "         Iterations: 5\n",
        "         Function evaluations: 12\n",
        "Optimization terminated successfully."
       ]
      },
      {
       "output_type": "stream",
       "stream": "stdout",
       "text": [
        "\n",
        "         Current function value: 0.000001\n",
        "         Iterations: 6\n",
        "         Function evaluations: 13\n",
        "Optimization terminated successfully."
       ]
      },
      {
       "output_type": "stream",
       "stream": "stdout",
       "text": [
        "\n",
        "         Current function value: 0.000043\n",
        "         Iterations: 7\n",
        "         Function evaluations: 14\n",
        "Optimization terminated successfully."
       ]
      },
      {
       "output_type": "stream",
       "stream": "stdout",
       "text": [
        "\n",
        "         Current function value: 0.000569\n",
        "         Iterations: 6\n",
        "         Function evaluations: 13\n",
        "Optimization terminated successfully."
       ]
      },
      {
       "output_type": "stream",
       "stream": "stdout",
       "text": [
        "\n",
        "         Current function value: 0.003025\n",
        "         Iterations: 6\n",
        "         Function evaluations: 12\n",
        "Optimization terminated successfully."
       ]
      },
      {
       "output_type": "stream",
       "stream": "stdout",
       "text": [
        "\n",
        "         Current function value: 0.001895\n",
        "         Iterations: 5\n",
        "         Function evaluations: 11\n",
        "Optimization terminated successfully."
       ]
      },
      {
       "output_type": "stream",
       "stream": "stdout",
       "text": [
        "\n",
        "         Current function value: 0.001113\n",
        "         Iterations: 5\n",
        "         Function evaluations: 11\n",
        "Optimization terminated successfully."
       ]
      },
      {
       "output_type": "stream",
       "stream": "stdout",
       "text": [
        "\n",
        "         Current function value: 0.000002\n",
        "         Iterations: 5\n",
        "         Function evaluations: 11\n",
        "Optimization terminated successfully."
       ]
      },
      {
       "output_type": "stream",
       "stream": "stdout",
       "text": [
        "\n",
        "         Current function value: 0.000302\n",
        "         Iterations: 7\n",
        "         Function evaluations: 15\n",
        "Optimization terminated successfully."
       ]
      },
      {
       "output_type": "stream",
       "stream": "stdout",
       "text": [
        "\n",
        "         Current function value: 0.000613\n",
        "         Iterations: 6\n",
        "         Function evaluations: 12\n",
        "Optimization terminated successfully."
       ]
      },
      {
       "output_type": "stream",
       "stream": "stdout",
       "text": [
        "\n",
        "         Current function value: 0.002189\n",
        "         Iterations: 6\n",
        "         Function evaluations: 12\n",
        "Optimization terminated successfully."
       ]
      },
      {
       "output_type": "stream",
       "stream": "stdout",
       "text": [
        "\n",
        "         Current function value: 0.001775\n",
        "         Iterations: 5\n",
        "         Function evaluations: 11\n",
        "Optimization terminated successfully."
       ]
      },
      {
       "output_type": "stream",
       "stream": "stdout",
       "text": [
        "\n",
        "         Current function value: 0.000994\n",
        "         Iterations: 5\n",
        "         Function evaluations: 11\n",
        "Optimization terminated successfully."
       ]
      },
      {
       "output_type": "stream",
       "stream": "stdout",
       "text": [
        "\n",
        "         Current function value: 0.000002\n",
        "         Iterations: 7\n",
        "         Function evaluations: 15\n",
        "Optimization terminated successfully."
       ]
      },
      {
       "output_type": "stream",
       "stream": "stdout",
       "text": [
        "\n",
        "         Current function value: 0.000163\n",
        "         Iterations: 6\n",
        "         Function evaluations: 13\n",
        "Optimization terminated successfully."
       ]
      },
      {
       "output_type": "stream",
       "stream": "stdout",
       "text": [
        "\n",
        "         Current function value: 0.001537\n",
        "         Iterations: 6\n",
        "         Function evaluations: 12\n",
        "Optimization terminated successfully."
       ]
      },
      {
       "output_type": "stream",
       "stream": "stdout",
       "text": [
        "\n",
        "         Current function value: 0.002708\n",
        "         Iterations: 6\n",
        "         Function evaluations: 13\n",
        "Optimization terminated successfully."
       ]
      },
      {
       "output_type": "stream",
       "stream": "stdout",
       "text": [
        "\n",
        "         Current function value: 0.001394\n",
        "         Iterations: 5\n",
        "         Function evaluations: 10\n",
        "Optimization terminated successfully."
       ]
      },
      {
       "output_type": "stream",
       "stream": "stdout",
       "text": [
        "\n",
        "         Current function value: 0.001309\n",
        "         Iterations: 5\n",
        "         Function evaluations: 10\n"
       ]
      }
     ],
     "prompt_number": 6
    },
    {
     "cell_type": "code",
     "collapsed": false,
     "input": [
      "pstop"
     ],
     "language": "python",
     "metadata": {},
     "outputs": [
      {
       "html": [
        "<div style=\"max-height:1000px;max-width:1500px;overflow:auto;\">\n",
        "<table border=\"1\" class=\"dataframe\">\n",
        "  <thead>\n",
        "    <tr style=\"text-align: right;\">\n",
        "      <th></th>\n",
        "      <th>0</th>\n",
        "      <th>20</th>\n",
        "      <th>40</th>\n",
        "      <th>60</th>\n",
        "      <th>80</th>\n",
        "      <th>100</th>\n",
        "    </tr>\n",
        "  </thead>\n",
        "  <tbody>\n",
        "    <tr>\n",
        "      <th>0  </th>\n",
        "      <td>  0.961</td>\n",
        "      <td> 0.8925</td>\n",
        "      <td>  0.664</td>\n",
        "      <td>  0.414</td>\n",
        "      <td>  0.096</td>\n",
        "      <td>  0.028</td>\n",
        "    </tr>\n",
        "    <tr>\n",
        "      <th>1  </th>\n",
        "      <td> 0.9575</td>\n",
        "      <td> 0.8785</td>\n",
        "      <td> 0.6655</td>\n",
        "      <td> 0.4105</td>\n",
        "      <td>  0.069</td>\n",
        "      <td>  0.029</td>\n",
        "    </tr>\n",
        "    <tr>\n",
        "      <th>2  </th>\n",
        "      <td>  0.951</td>\n",
        "      <td> 0.8835</td>\n",
        "      <td>  0.644</td>\n",
        "      <td> 0.4045</td>\n",
        "      <td> 0.0725</td>\n",
        "      <td>  0.034</td>\n",
        "    </tr>\n",
        "    <tr>\n",
        "      <th>3  </th>\n",
        "      <td> 0.9505</td>\n",
        "      <td> 0.8755</td>\n",
        "      <td>  0.697</td>\n",
        "      <td>  0.427</td>\n",
        "      <td> 0.0665</td>\n",
        "      <td> 0.0335</td>\n",
        "    </tr>\n",
        "    <tr>\n",
        "      <th>4  </th>\n",
        "      <td> 0.9655</td>\n",
        "      <td> 0.8955</td>\n",
        "      <td> 0.6815</td>\n",
        "      <td> 0.3955</td>\n",
        "      <td> 0.0785</td>\n",
        "      <td>  0.036</td>\n",
        "    </tr>\n",
        "    <tr>\n",
        "      <th>5  </th>\n",
        "      <td>  0.953</td>\n",
        "      <td> 0.8915</td>\n",
        "      <td> 0.6645</td>\n",
        "      <td>  0.395</td>\n",
        "      <td> 0.0675</td>\n",
        "      <td>  0.038</td>\n",
        "    </tr>\n",
        "    <tr>\n",
        "      <th>6  </th>\n",
        "      <td> 0.9665</td>\n",
        "      <td> 0.8945</td>\n",
        "      <td> 0.6915</td>\n",
        "      <td> 0.4225</td>\n",
        "      <td>  0.107</td>\n",
        "      <td> 0.0345</td>\n",
        "    </tr>\n",
        "    <tr>\n",
        "      <th>7  </th>\n",
        "      <td>   0.95</td>\n",
        "      <td> 0.8995</td>\n",
        "      <td>  0.663</td>\n",
        "      <td>  0.435</td>\n",
        "      <td> 0.0765</td>\n",
        "      <td> 0.0345</td>\n",
        "    </tr>\n",
        "    <tr>\n",
        "      <th>8  </th>\n",
        "      <td>  0.957</td>\n",
        "      <td> 0.9015</td>\n",
        "      <td>  0.674</td>\n",
        "      <td> 0.4265</td>\n",
        "      <td> 0.0955</td>\n",
        "      <td>  0.046</td>\n",
        "    </tr>\n",
        "    <tr>\n",
        "      <th>9  </th>\n",
        "      <td> 0.9595</td>\n",
        "      <td> 0.9155</td>\n",
        "      <td>  0.684</td>\n",
        "      <td> 0.4035</td>\n",
        "      <td>  0.082</td>\n",
        "      <td> 0.0265</td>\n",
        "    </tr>\n",
        "    <tr>\n",
        "      <th>10 </th>\n",
        "      <td> 0.9695</td>\n",
        "      <td>  0.908</td>\n",
        "      <td> 0.6885</td>\n",
        "      <td>  0.412</td>\n",
        "      <td> 0.1035</td>\n",
        "      <td> 0.0465</td>\n",
        "    </tr>\n",
        "    <tr>\n",
        "      <th>11 </th>\n",
        "      <td>  0.952</td>\n",
        "      <td> 0.8935</td>\n",
        "      <td>   0.67</td>\n",
        "      <td> 0.4375</td>\n",
        "      <td>  0.076</td>\n",
        "      <td>  0.043</td>\n",
        "    </tr>\n",
        "    <tr>\n",
        "      <th>12 </th>\n",
        "      <td> 0.9435</td>\n",
        "      <td>  0.869</td>\n",
        "      <td>  0.685</td>\n",
        "      <td> 0.3845</td>\n",
        "      <td> 0.0885</td>\n",
        "      <td>  0.038</td>\n",
        "    </tr>\n",
        "    <tr>\n",
        "      <th>13 </th>\n",
        "      <td>  0.951</td>\n",
        "      <td> 0.8745</td>\n",
        "      <td>  0.658</td>\n",
        "      <td>  0.413</td>\n",
        "      <td>  0.065</td>\n",
        "      <td>   0.04</td>\n",
        "    </tr>\n",
        "    <tr>\n",
        "      <th>14 </th>\n",
        "      <td> 0.9635</td>\n",
        "      <td> 0.8875</td>\n",
        "      <td> 0.6865</td>\n",
        "      <td> 0.4035</td>\n",
        "      <td> 0.0745</td>\n",
        "      <td> 0.0415</td>\n",
        "    </tr>\n",
        "    <tr>\n",
        "      <th>15 </th>\n",
        "      <td> 0.9595</td>\n",
        "      <td>  0.883</td>\n",
        "      <td>  0.649</td>\n",
        "      <td>  0.432</td>\n",
        "      <td>  0.064</td>\n",
        "      <td>  0.033</td>\n",
        "    </tr>\n",
        "    <tr>\n",
        "      <th>16 </th>\n",
        "      <td>  0.948</td>\n",
        "      <td>  0.873</td>\n",
        "      <td> 0.6685</td>\n",
        "      <td>  0.419</td>\n",
        "      <td>  0.076</td>\n",
        "      <td> 0.0395</td>\n",
        "    </tr>\n",
        "    <tr>\n",
        "      <th>17 </th>\n",
        "      <td>  0.955</td>\n",
        "      <td> 0.8655</td>\n",
        "      <td> 0.6495</td>\n",
        "      <td> 0.4215</td>\n",
        "      <td> 0.0605</td>\n",
        "      <td> 0.0365</td>\n",
        "    </tr>\n",
        "    <tr>\n",
        "      <th>18 </th>\n",
        "      <td> 0.9585</td>\n",
        "      <td> 0.8925</td>\n",
        "      <td>  0.654</td>\n",
        "      <td> 0.4175</td>\n",
        "      <td> 0.0925</td>\n",
        "      <td> 0.0295</td>\n",
        "    </tr>\n",
        "    <tr>\n",
        "      <th>19 </th>\n",
        "      <td>  0.963</td>\n",
        "      <td>  0.888</td>\n",
        "      <td> 0.6635</td>\n",
        "      <td>  0.425</td>\n",
        "      <td> 0.0725</td>\n",
        "      <td>  0.033</td>\n",
        "    </tr>\n",
        "    <tr>\n",
        "      <th>20 </th>\n",
        "      <td>  0.956</td>\n",
        "      <td>  0.878</td>\n",
        "      <td> 0.6585</td>\n",
        "      <td>  0.396</td>\n",
        "      <td>  0.076</td>\n",
        "      <td> 0.0395</td>\n",
        "    </tr>\n",
        "    <tr>\n",
        "      <th>21 </th>\n",
        "      <td> 0.9615</td>\n",
        "      <td>  0.886</td>\n",
        "      <td> 0.6745</td>\n",
        "      <td> 0.4125</td>\n",
        "      <td>  0.085</td>\n",
        "      <td>  0.036</td>\n",
        "    </tr>\n",
        "    <tr>\n",
        "      <th>22 </th>\n",
        "      <td> 0.9605</td>\n",
        "      <td>  0.855</td>\n",
        "      <td>  0.674</td>\n",
        "      <td> 0.4135</td>\n",
        "      <td>  0.081</td>\n",
        "      <td>  0.032</td>\n",
        "    </tr>\n",
        "    <tr>\n",
        "      <th>23 </th>\n",
        "      <td> 0.9605</td>\n",
        "      <td>  0.869</td>\n",
        "      <td>  0.639</td>\n",
        "      <td> 0.4135</td>\n",
        "      <td>   0.07</td>\n",
        "      <td>  0.044</td>\n",
        "    </tr>\n",
        "    <tr>\n",
        "      <th>24 </th>\n",
        "      <td> 0.9495</td>\n",
        "      <td>  0.863</td>\n",
        "      <td>  0.666</td>\n",
        "      <td> 0.4265</td>\n",
        "      <td>  0.091</td>\n",
        "      <td> 0.0455</td>\n",
        "    </tr>\n",
        "    <tr>\n",
        "      <th>25 </th>\n",
        "      <td> 0.9515</td>\n",
        "      <td> 0.8515</td>\n",
        "      <td>  0.668</td>\n",
        "      <td> 0.4725</td>\n",
        "      <td>  0.076</td>\n",
        "      <td> 0.0325</td>\n",
        "    </tr>\n",
        "    <tr>\n",
        "      <th>26 </th>\n",
        "      <td> 0.9705</td>\n",
        "      <td>  0.865</td>\n",
        "      <td> 0.6385</td>\n",
        "      <td>  0.405</td>\n",
        "      <td> 0.0685</td>\n",
        "      <td> 0.0285</td>\n",
        "    </tr>\n",
        "    <tr>\n",
        "      <th>27 </th>\n",
        "      <td> 0.9485</td>\n",
        "      <td> 0.8685</td>\n",
        "      <td> 0.6555</td>\n",
        "      <td>  0.382</td>\n",
        "      <td>  0.072</td>\n",
        "      <td> 0.0345</td>\n",
        "    </tr>\n",
        "    <tr>\n",
        "      <th>28 </th>\n",
        "      <td>  0.955</td>\n",
        "      <td> 0.8805</td>\n",
        "      <td> 0.6665</td>\n",
        "      <td>  0.418</td>\n",
        "      <td> 0.0735</td>\n",
        "      <td> 0.0385</td>\n",
        "    </tr>\n",
        "    <tr>\n",
        "      <th>29 </th>\n",
        "      <td>  0.951</td>\n",
        "      <td>  0.874</td>\n",
        "      <td>  0.639</td>\n",
        "      <td> 0.4135</td>\n",
        "      <td> 0.0775</td>\n",
        "      <td>  0.041</td>\n",
        "    </tr>\n",
        "    <tr>\n",
        "      <th>30 </th>\n",
        "      <td>  0.957</td>\n",
        "      <td>  0.868</td>\n",
        "      <td>  0.676</td>\n",
        "      <td>  0.432</td>\n",
        "      <td> 0.0825</td>\n",
        "      <td> 0.0365</td>\n",
        "    </tr>\n",
        "    <tr>\n",
        "      <th>31 </th>\n",
        "      <td>  0.965</td>\n",
        "      <td>  0.881</td>\n",
        "      <td> 0.6485</td>\n",
        "      <td> 0.3975</td>\n",
        "      <td> 0.0755</td>\n",
        "      <td>   0.04</td>\n",
        "    </tr>\n",
        "    <tr>\n",
        "      <th>32 </th>\n",
        "      <td>  0.952</td>\n",
        "      <td> 0.8785</td>\n",
        "      <td> 0.6885</td>\n",
        "      <td> 0.4015</td>\n",
        "      <td> 0.0735</td>\n",
        "      <td>  0.034</td>\n",
        "    </tr>\n",
        "    <tr>\n",
        "      <th>33 </th>\n",
        "      <td>  0.957</td>\n",
        "      <td>   0.88</td>\n",
        "      <td>  0.667</td>\n",
        "      <td>  0.455</td>\n",
        "      <td> 0.0735</td>\n",
        "      <td>  0.026</td>\n",
        "    </tr>\n",
        "    <tr>\n",
        "      <th>34 </th>\n",
        "      <td>  0.956</td>\n",
        "      <td> 0.8755</td>\n",
        "      <td>  0.684</td>\n",
        "      <td>  0.413</td>\n",
        "      <td>  0.087</td>\n",
        "      <td> 0.0375</td>\n",
        "    </tr>\n",
        "    <tr>\n",
        "      <th>35 </th>\n",
        "      <td>  0.949</td>\n",
        "      <td> 0.8605</td>\n",
        "      <td> 0.6595</td>\n",
        "      <td> 0.4205</td>\n",
        "      <td> 0.0925</td>\n",
        "      <td>   0.03</td>\n",
        "    </tr>\n",
        "    <tr>\n",
        "      <th>36 </th>\n",
        "      <td>  0.957</td>\n",
        "      <td>  0.879</td>\n",
        "      <td>  0.661</td>\n",
        "      <td> 0.4115</td>\n",
        "      <td>   0.09</td>\n",
        "      <td> 0.0365</td>\n",
        "    </tr>\n",
        "    <tr>\n",
        "      <th>37 </th>\n",
        "      <td>  0.963</td>\n",
        "      <td>   0.88</td>\n",
        "      <td>    0.7</td>\n",
        "      <td>   0.39</td>\n",
        "      <td>  0.079</td>\n",
        "      <td> 0.0485</td>\n",
        "    </tr>\n",
        "    <tr>\n",
        "      <th>38 </th>\n",
        "      <td>  0.955</td>\n",
        "      <td>  0.888</td>\n",
        "      <td>  0.689</td>\n",
        "      <td>  0.391</td>\n",
        "      <td>  0.064</td>\n",
        "      <td> 0.0415</td>\n",
        "    </tr>\n",
        "    <tr>\n",
        "      <th>39 </th>\n",
        "      <td>  0.953</td>\n",
        "      <td>  0.865</td>\n",
        "      <td>  0.676</td>\n",
        "      <td>   0.41</td>\n",
        "      <td>  0.075</td>\n",
        "      <td>  0.042</td>\n",
        "    </tr>\n",
        "    <tr>\n",
        "      <th>40 </th>\n",
        "      <td>  0.955</td>\n",
        "      <td> 0.8805</td>\n",
        "      <td>  0.676</td>\n",
        "      <td> 0.3805</td>\n",
        "      <td>   0.08</td>\n",
        "      <td>   0.03</td>\n",
        "    </tr>\n",
        "    <tr>\n",
        "      <th>41 </th>\n",
        "      <td> 0.9605</td>\n",
        "      <td> 0.8925</td>\n",
        "      <td>  0.691</td>\n",
        "      <td> 0.4115</td>\n",
        "      <td> 0.0775</td>\n",
        "      <td> 0.0405</td>\n",
        "    </tr>\n",
        "    <tr>\n",
        "      <th>42 </th>\n",
        "      <td> 0.9575</td>\n",
        "      <td>  0.898</td>\n",
        "      <td> 0.6765</td>\n",
        "      <td>  0.413</td>\n",
        "      <td>  0.063</td>\n",
        "      <td> 0.0355</td>\n",
        "    </tr>\n",
        "    <tr>\n",
        "      <th>43 </th>\n",
        "      <td>  0.959</td>\n",
        "      <td> 0.8895</td>\n",
        "      <td> 0.6645</td>\n",
        "      <td>   0.42</td>\n",
        "      <td> 0.0885</td>\n",
        "      <td> 0.0345</td>\n",
        "    </tr>\n",
        "    <tr>\n",
        "      <th>44 </th>\n",
        "      <td> 0.9645</td>\n",
        "      <td> 0.8595</td>\n",
        "      <td>  0.657</td>\n",
        "      <td> 0.4345</td>\n",
        "      <td>  0.074</td>\n",
        "      <td>  0.042</td>\n",
        "    </tr>\n",
        "    <tr>\n",
        "      <th>45 </th>\n",
        "      <td> 0.9485</td>\n",
        "      <td> 0.8655</td>\n",
        "      <td>  0.668</td>\n",
        "      <td> 0.4095</td>\n",
        "      <td>  0.098</td>\n",
        "      <td> 0.0385</td>\n",
        "    </tr>\n",
        "    <tr>\n",
        "      <th>46 </th>\n",
        "      <td>  0.942</td>\n",
        "      <td> 0.8765</td>\n",
        "      <td>  0.694</td>\n",
        "      <td>  0.428</td>\n",
        "      <td>  0.082</td>\n",
        "      <td> 0.0285</td>\n",
        "    </tr>\n",
        "    <tr>\n",
        "      <th>47 </th>\n",
        "      <td>   0.96</td>\n",
        "      <td>  0.873</td>\n",
        "      <td>  0.663</td>\n",
        "      <td>  0.396</td>\n",
        "      <td>  0.075</td>\n",
        "      <td> 0.0395</td>\n",
        "    </tr>\n",
        "    <tr>\n",
        "      <th>48 </th>\n",
        "      <td> 0.9495</td>\n",
        "      <td>  0.903</td>\n",
        "      <td>  0.671</td>\n",
        "      <td>  0.408</td>\n",
        "      <td> 0.0675</td>\n",
        "      <td>  0.029</td>\n",
        "    </tr>\n",
        "    <tr>\n",
        "      <th>49 </th>\n",
        "      <td>  0.956</td>\n",
        "      <td>  0.883</td>\n",
        "      <td> 0.6965</td>\n",
        "      <td> 0.4215</td>\n",
        "      <td>  0.081</td>\n",
        "      <td>  0.031</td>\n",
        "    </tr>\n",
        "    <tr>\n",
        "      <th>...</th>\n",
        "      <td>...</td>\n",
        "      <td>...</td>\n",
        "      <td>...</td>\n",
        "      <td>...</td>\n",
        "      <td>...</td>\n",
        "      <td>...</td>\n",
        "    </tr>\n",
        "    <tr>\n",
        "      <th>100</th>\n",
        "      <td>  0.963</td>\n",
        "      <td>  0.895</td>\n",
        "      <td>  0.659</td>\n",
        "      <td> 0.3965</td>\n",
        "      <td>  0.095</td>\n",
        "      <td> 0.0345</td>\n",
        "    </tr>\n",
        "    <tr>\n",
        "      <th>101</th>\n",
        "      <td>  0.959</td>\n",
        "      <td>  0.885</td>\n",
        "      <td> 0.6815</td>\n",
        "      <td>  0.391</td>\n",
        "      <td> 0.0885</td>\n",
        "      <td> 0.0345</td>\n",
        "    </tr>\n",
        "    <tr>\n",
        "      <th>102</th>\n",
        "      <td> 0.9665</td>\n",
        "      <td> 0.8875</td>\n",
        "      <td> 0.6715</td>\n",
        "      <td>  0.415</td>\n",
        "      <td> 0.0975</td>\n",
        "      <td>  0.026</td>\n",
        "    </tr>\n",
        "    <tr>\n",
        "      <th>103</th>\n",
        "      <td>  0.956</td>\n",
        "      <td>  0.872</td>\n",
        "      <td> 0.6655</td>\n",
        "      <td>  0.404</td>\n",
        "      <td> 0.0895</td>\n",
        "      <td> 0.0445</td>\n",
        "    </tr>\n",
        "    <tr>\n",
        "      <th>104</th>\n",
        "      <td>  0.951</td>\n",
        "      <td>  0.878</td>\n",
        "      <td>  0.675</td>\n",
        "      <td>  0.433</td>\n",
        "      <td> 0.0775</td>\n",
        "      <td>  0.047</td>\n",
        "    </tr>\n",
        "    <tr>\n",
        "      <th>105</th>\n",
        "      <td>   0.97</td>\n",
        "      <td>  0.875</td>\n",
        "      <td> 0.6425</td>\n",
        "      <td>  0.422</td>\n",
        "      <td>  0.082</td>\n",
        "      <td>  0.038</td>\n",
        "    </tr>\n",
        "    <tr>\n",
        "      <th>106</th>\n",
        "      <td>  0.954</td>\n",
        "      <td>  0.902</td>\n",
        "      <td>  0.672</td>\n",
        "      <td> 0.4125</td>\n",
        "      <td>  0.081</td>\n",
        "      <td>  0.045</td>\n",
        "    </tr>\n",
        "    <tr>\n",
        "      <th>107</th>\n",
        "      <td> 0.9495</td>\n",
        "      <td>   0.87</td>\n",
        "      <td> 0.6725</td>\n",
        "      <td>  0.432</td>\n",
        "      <td> 0.0675</td>\n",
        "      <td>  0.035</td>\n",
        "    </tr>\n",
        "    <tr>\n",
        "      <th>108</th>\n",
        "      <td> 0.9685</td>\n",
        "      <td> 0.8785</td>\n",
        "      <td>  0.693</td>\n",
        "      <td> 0.4115</td>\n",
        "      <td>  0.085</td>\n",
        "      <td> 0.0505</td>\n",
        "    </tr>\n",
        "    <tr>\n",
        "      <th>109</th>\n",
        "      <td> 0.9605</td>\n",
        "      <td>  0.884</td>\n",
        "      <td>  0.644</td>\n",
        "      <td> 0.4145</td>\n",
        "      <td>  0.073</td>\n",
        "      <td>  0.051</td>\n",
        "    </tr>\n",
        "    <tr>\n",
        "      <th>110</th>\n",
        "      <td>  0.955</td>\n",
        "      <td>  0.878</td>\n",
        "      <td> 0.6715</td>\n",
        "      <td> 0.4245</td>\n",
        "      <td>  0.086</td>\n",
        "      <td> 0.0335</td>\n",
        "    </tr>\n",
        "    <tr>\n",
        "      <th>111</th>\n",
        "      <td>  0.954</td>\n",
        "      <td>  0.884</td>\n",
        "      <td> 0.6755</td>\n",
        "      <td>  0.408</td>\n",
        "      <td>  0.083</td>\n",
        "      <td> 0.0325</td>\n",
        "    </tr>\n",
        "    <tr>\n",
        "      <th>112</th>\n",
        "      <td> 0.9575</td>\n",
        "      <td>  0.896</td>\n",
        "      <td> 0.6685</td>\n",
        "      <td>  0.389</td>\n",
        "      <td> 0.0665</td>\n",
        "      <td>  0.038</td>\n",
        "    </tr>\n",
        "    <tr>\n",
        "      <th>113</th>\n",
        "      <td>  0.941</td>\n",
        "      <td>  0.889</td>\n",
        "      <td> 0.6755</td>\n",
        "      <td> 0.4165</td>\n",
        "      <td> 0.0855</td>\n",
        "      <td>  0.038</td>\n",
        "    </tr>\n",
        "    <tr>\n",
        "      <th>114</th>\n",
        "      <td>  0.958</td>\n",
        "      <td> 0.8935</td>\n",
        "      <td>  0.687</td>\n",
        "      <td>  0.417</td>\n",
        "      <td> 0.0765</td>\n",
        "      <td>  0.034</td>\n",
        "    </tr>\n",
        "    <tr>\n",
        "      <th>115</th>\n",
        "      <td>  0.951</td>\n",
        "      <td>  0.897</td>\n",
        "      <td>  0.691</td>\n",
        "      <td>   0.42</td>\n",
        "      <td> 0.0845</td>\n",
        "      <td> 0.0295</td>\n",
        "    </tr>\n",
        "    <tr>\n",
        "      <th>116</th>\n",
        "      <td> 0.9595</td>\n",
        "      <td>   0.89</td>\n",
        "      <td> 0.6845</td>\n",
        "      <td>  0.422</td>\n",
        "      <td> 0.0825</td>\n",
        "      <td>  0.036</td>\n",
        "    </tr>\n",
        "    <tr>\n",
        "      <th>117</th>\n",
        "      <td> 0.9605</td>\n",
        "      <td> 0.8955</td>\n",
        "      <td>  0.667</td>\n",
        "      <td> 0.3685</td>\n",
        "      <td>  0.079</td>\n",
        "      <td> 0.0365</td>\n",
        "    </tr>\n",
        "    <tr>\n",
        "      <th>118</th>\n",
        "      <td> 0.9545</td>\n",
        "      <td> 0.8935</td>\n",
        "      <td>  0.669</td>\n",
        "      <td>  0.415</td>\n",
        "      <td> 0.0885</td>\n",
        "      <td> 0.0355</td>\n",
        "    </tr>\n",
        "    <tr>\n",
        "      <th>119</th>\n",
        "      <td> 0.9585</td>\n",
        "      <td> 0.8695</td>\n",
        "      <td> 0.7105</td>\n",
        "      <td>  0.398</td>\n",
        "      <td> 0.0855</td>\n",
        "      <td>  0.029</td>\n",
        "    </tr>\n",
        "    <tr>\n",
        "      <th>120</th>\n",
        "      <td> 0.9515</td>\n",
        "      <td>  0.876</td>\n",
        "      <td>  0.681</td>\n",
        "      <td>    0.4</td>\n",
        "      <td>  0.069</td>\n",
        "      <td> 0.0415</td>\n",
        "    </tr>\n",
        "    <tr>\n",
        "      <th>121</th>\n",
        "      <td> 0.9645</td>\n",
        "      <td> 0.9015</td>\n",
        "      <td>  0.684</td>\n",
        "      <td> 0.3875</td>\n",
        "      <td>  0.091</td>\n",
        "      <td> 0.0445</td>\n",
        "    </tr>\n",
        "    <tr>\n",
        "      <th>122</th>\n",
        "      <td> 0.9475</td>\n",
        "      <td>  0.897</td>\n",
        "      <td>  0.685</td>\n",
        "      <td>   0.41</td>\n",
        "      <td> 0.0835</td>\n",
        "      <td>  0.036</td>\n",
        "    </tr>\n",
        "    <tr>\n",
        "      <th>123</th>\n",
        "      <td>  0.945</td>\n",
        "      <td> 0.8835</td>\n",
        "      <td>  0.668</td>\n",
        "      <td> 0.3765</td>\n",
        "      <td> 0.0845</td>\n",
        "      <td> 0.0315</td>\n",
        "    </tr>\n",
        "    <tr>\n",
        "      <th>124</th>\n",
        "      <td> 0.9635</td>\n",
        "      <td>  0.865</td>\n",
        "      <td> 0.6485</td>\n",
        "      <td>  0.425</td>\n",
        "      <td> 0.0665</td>\n",
        "      <td>  0.035</td>\n",
        "    </tr>\n",
        "    <tr>\n",
        "      <th>125</th>\n",
        "      <td> 0.9535</td>\n",
        "      <td> 0.8795</td>\n",
        "      <td> 0.6735</td>\n",
        "      <td>   0.43</td>\n",
        "      <td>  0.069</td>\n",
        "      <td>  0.041</td>\n",
        "    </tr>\n",
        "    <tr>\n",
        "      <th>126</th>\n",
        "      <td>  0.954</td>\n",
        "      <td>   0.89</td>\n",
        "      <td>  0.663</td>\n",
        "      <td> 0.4205</td>\n",
        "      <td>  0.073</td>\n",
        "      <td>  0.036</td>\n",
        "    </tr>\n",
        "    <tr>\n",
        "      <th>127</th>\n",
        "      <td>  0.961</td>\n",
        "      <td> 0.8585</td>\n",
        "      <td>  0.682</td>\n",
        "      <td>  0.387</td>\n",
        "      <td> 0.0655</td>\n",
        "      <td> 0.0255</td>\n",
        "    </tr>\n",
        "    <tr>\n",
        "      <th>128</th>\n",
        "      <td> 0.9615</td>\n",
        "      <td>  0.898</td>\n",
        "      <td> 0.6855</td>\n",
        "      <td>  0.468</td>\n",
        "      <td> 0.0735</td>\n",
        "      <td>  0.023</td>\n",
        "    </tr>\n",
        "    <tr>\n",
        "      <th>129</th>\n",
        "      <td>  0.956</td>\n",
        "      <td> 0.8695</td>\n",
        "      <td>  0.695</td>\n",
        "      <td> 0.4035</td>\n",
        "      <td> 0.0895</td>\n",
        "      <td> 0.0395</td>\n",
        "    </tr>\n",
        "    <tr>\n",
        "      <th>130</th>\n",
        "      <td> 0.9515</td>\n",
        "      <td>  0.875</td>\n",
        "      <td>  0.684</td>\n",
        "      <td>  0.414</td>\n",
        "      <td>   0.09</td>\n",
        "      <td>  0.036</td>\n",
        "    </tr>\n",
        "    <tr>\n",
        "      <th>131</th>\n",
        "      <td>  0.956</td>\n",
        "      <td>  0.872</td>\n",
        "      <td> 0.6785</td>\n",
        "      <td> 0.4335</td>\n",
        "      <td>   0.09</td>\n",
        "      <td> 0.0415</td>\n",
        "    </tr>\n",
        "    <tr>\n",
        "      <th>132</th>\n",
        "      <td>   0.96</td>\n",
        "      <td> 0.8725</td>\n",
        "      <td> 0.6475</td>\n",
        "      <td> 0.4115</td>\n",
        "      <td>  0.079</td>\n",
        "      <td>  0.038</td>\n",
        "    </tr>\n",
        "    <tr>\n",
        "      <th>133</th>\n",
        "      <td> 0.9485</td>\n",
        "      <td>  0.878</td>\n",
        "      <td>  0.701</td>\n",
        "      <td>  0.415</td>\n",
        "      <td>  0.088</td>\n",
        "      <td>  0.026</td>\n",
        "    </tr>\n",
        "    <tr>\n",
        "      <th>134</th>\n",
        "      <td>   0.94</td>\n",
        "      <td>  0.876</td>\n",
        "      <td>  0.693</td>\n",
        "      <td>  0.425</td>\n",
        "      <td> 0.0765</td>\n",
        "      <td> 0.0455</td>\n",
        "    </tr>\n",
        "    <tr>\n",
        "      <th>135</th>\n",
        "      <td> 0.9545</td>\n",
        "      <td>  0.884</td>\n",
        "      <td> 0.6815</td>\n",
        "      <td>  0.413</td>\n",
        "      <td>   0.08</td>\n",
        "      <td> 0.0285</td>\n",
        "    </tr>\n",
        "    <tr>\n",
        "      <th>136</th>\n",
        "      <td> 0.9535</td>\n",
        "      <td>   0.91</td>\n",
        "      <td> 0.6975</td>\n",
        "      <td> 0.3995</td>\n",
        "      <td>   0.09</td>\n",
        "      <td> 0.0465</td>\n",
        "    </tr>\n",
        "    <tr>\n",
        "      <th>137</th>\n",
        "      <td> 0.9455</td>\n",
        "      <td>  0.891</td>\n",
        "      <td>  0.697</td>\n",
        "      <td> 0.4335</td>\n",
        "      <td>  0.085</td>\n",
        "      <td> 0.0355</td>\n",
        "    </tr>\n",
        "    <tr>\n",
        "      <th>138</th>\n",
        "      <td> 0.9505</td>\n",
        "      <td> 0.9095</td>\n",
        "      <td>  0.648</td>\n",
        "      <td> 0.3895</td>\n",
        "      <td>  0.058</td>\n",
        "      <td> 0.0295</td>\n",
        "    </tr>\n",
        "    <tr>\n",
        "      <th>139</th>\n",
        "      <td>  0.958</td>\n",
        "      <td> 0.8915</td>\n",
        "      <td>  0.673</td>\n",
        "      <td>  0.415</td>\n",
        "      <td> 0.0895</td>\n",
        "      <td> 0.0355</td>\n",
        "    </tr>\n",
        "    <tr>\n",
        "      <th>140</th>\n",
        "      <td> 0.9565</td>\n",
        "      <td> 0.8635</td>\n",
        "      <td>  0.672</td>\n",
        "      <td> 0.4345</td>\n",
        "      <td> 0.1115</td>\n",
        "      <td>  0.052</td>\n",
        "    </tr>\n",
        "    <tr>\n",
        "      <th>141</th>\n",
        "      <td>  0.943</td>\n",
        "      <td> 0.8595</td>\n",
        "      <td> 0.6525</td>\n",
        "      <td> 0.4015</td>\n",
        "      <td>  0.078</td>\n",
        "      <td> 0.0465</td>\n",
        "    </tr>\n",
        "    <tr>\n",
        "      <th>142</th>\n",
        "      <td>  0.951</td>\n",
        "      <td> 0.8745</td>\n",
        "      <td>  0.675</td>\n",
        "      <td> 0.4265</td>\n",
        "      <td> 0.0805</td>\n",
        "      <td>  0.053</td>\n",
        "    </tr>\n",
        "    <tr>\n",
        "      <th>143</th>\n",
        "      <td>  0.968</td>\n",
        "      <td> 0.8945</td>\n",
        "      <td> 0.6545</td>\n",
        "      <td> 0.3965</td>\n",
        "      <td> 0.0805</td>\n",
        "      <td>  0.033</td>\n",
        "    </tr>\n",
        "    <tr>\n",
        "      <th>144</th>\n",
        "      <td> 0.9545</td>\n",
        "      <td>  0.879</td>\n",
        "      <td> 0.6855</td>\n",
        "      <td>  0.393</td>\n",
        "      <td> 0.0735</td>\n",
        "      <td>  0.044</td>\n",
        "    </tr>\n",
        "    <tr>\n",
        "      <th>145</th>\n",
        "      <td>  0.947</td>\n",
        "      <td> 0.8785</td>\n",
        "      <td> 0.6455</td>\n",
        "      <td> 0.4095</td>\n",
        "      <td> 0.0745</td>\n",
        "      <td>  0.047</td>\n",
        "    </tr>\n",
        "    <tr>\n",
        "      <th>146</th>\n",
        "      <td> 0.9425</td>\n",
        "      <td>  0.891</td>\n",
        "      <td>  0.638</td>\n",
        "      <td>  0.416</td>\n",
        "      <td>  0.087</td>\n",
        "      <td> 0.0355</td>\n",
        "    </tr>\n",
        "    <tr>\n",
        "      <th>147</th>\n",
        "      <td> 0.9495</td>\n",
        "      <td> 0.8725</td>\n",
        "      <td> 0.6605</td>\n",
        "      <td>  0.378</td>\n",
        "      <td> 0.0805</td>\n",
        "      <td>  0.039</td>\n",
        "    </tr>\n",
        "    <tr>\n",
        "      <th>148</th>\n",
        "      <td> 0.9595</td>\n",
        "      <td> 0.8925</td>\n",
        "      <td> 0.6915</td>\n",
        "      <td>  0.441</td>\n",
        "      <td>  0.083</td>\n",
        "      <td>  0.035</td>\n",
        "    </tr>\n",
        "    <tr>\n",
        "      <th>149</th>\n",
        "      <td> 0.9525</td>\n",
        "      <td> 0.8915</td>\n",
        "      <td> 0.6735</td>\n",
        "      <td> 0.4085</td>\n",
        "      <td> 0.0735</td>\n",
        "      <td> 0.0415</td>\n",
        "    </tr>\n",
        "  </tbody>\n",
        "</table>\n",
        "<p>150 rows \u00d7 6 columns</p>\n",
        "</div>"
       ],
       "metadata": {},
       "output_type": "pyout",
       "prompt_number": 7,
       "text": [
        "        0       20      40      60      80      100\n",
        "0     0.961  0.8925   0.664   0.414   0.096   0.028\n",
        "1    0.9575  0.8785  0.6655  0.4105   0.069   0.029\n",
        "2     0.951  0.8835   0.644  0.4045  0.0725   0.034\n",
        "3    0.9505  0.8755   0.697   0.427  0.0665  0.0335\n",
        "4    0.9655  0.8955  0.6815  0.3955  0.0785   0.036\n",
        "5     0.953  0.8915  0.6645   0.395  0.0675   0.038\n",
        "6    0.9665  0.8945  0.6915  0.4225   0.107  0.0345\n",
        "7      0.95  0.8995   0.663   0.435  0.0765  0.0345\n",
        "8     0.957  0.9015   0.674  0.4265  0.0955   0.046\n",
        "9    0.9595  0.9155   0.684  0.4035   0.082  0.0265\n",
        "10   0.9695   0.908  0.6885   0.412  0.1035  0.0465\n",
        "11    0.952  0.8935    0.67  0.4375   0.076   0.043\n",
        "12   0.9435   0.869   0.685  0.3845  0.0885   0.038\n",
        "13    0.951  0.8745   0.658   0.413   0.065    0.04\n",
        "14   0.9635  0.8875  0.6865  0.4035  0.0745  0.0415\n",
        "15   0.9595   0.883   0.649   0.432   0.064   0.033\n",
        "16    0.948   0.873  0.6685   0.419   0.076  0.0395\n",
        "17    0.955  0.8655  0.6495  0.4215  0.0605  0.0365\n",
        "18   0.9585  0.8925   0.654  0.4175  0.0925  0.0295\n",
        "19    0.963   0.888  0.6635   0.425  0.0725   0.033\n",
        "20    0.956   0.878  0.6585   0.396   0.076  0.0395\n",
        "21   0.9615   0.886  0.6745  0.4125   0.085   0.036\n",
        "22   0.9605   0.855   0.674  0.4135   0.081   0.032\n",
        "23   0.9605   0.869   0.639  0.4135    0.07   0.044\n",
        "24   0.9495   0.863   0.666  0.4265   0.091  0.0455\n",
        "25   0.9515  0.8515   0.668  0.4725   0.076  0.0325\n",
        "26   0.9705   0.865  0.6385   0.405  0.0685  0.0285\n",
        "27   0.9485  0.8685  0.6555   0.382   0.072  0.0345\n",
        "28    0.955  0.8805  0.6665   0.418  0.0735  0.0385\n",
        "29    0.951   0.874   0.639  0.4135  0.0775   0.041\n",
        "30    0.957   0.868   0.676   0.432  0.0825  0.0365\n",
        "31    0.965   0.881  0.6485  0.3975  0.0755    0.04\n",
        "32    0.952  0.8785  0.6885  0.4015  0.0735   0.034\n",
        "33    0.957    0.88   0.667   0.455  0.0735   0.026\n",
        "34    0.956  0.8755   0.684   0.413   0.087  0.0375\n",
        "35    0.949  0.8605  0.6595  0.4205  0.0925    0.03\n",
        "36    0.957   0.879   0.661  0.4115    0.09  0.0365\n",
        "37    0.963    0.88     0.7    0.39   0.079  0.0485\n",
        "38    0.955   0.888   0.689   0.391   0.064  0.0415\n",
        "39    0.953   0.865   0.676    0.41   0.075   0.042\n",
        "40    0.955  0.8805   0.676  0.3805    0.08    0.03\n",
        "41   0.9605  0.8925   0.691  0.4115  0.0775  0.0405\n",
        "42   0.9575   0.898  0.6765   0.413   0.063  0.0355\n",
        "43    0.959  0.8895  0.6645    0.42  0.0885  0.0345\n",
        "44   0.9645  0.8595   0.657  0.4345   0.074   0.042\n",
        "45   0.9485  0.8655   0.668  0.4095   0.098  0.0385\n",
        "46    0.942  0.8765   0.694   0.428   0.082  0.0285\n",
        "47     0.96   0.873   0.663   0.396   0.075  0.0395\n",
        "48   0.9495   0.903   0.671   0.408  0.0675   0.029\n",
        "49    0.956   0.883  0.6965  0.4215   0.081   0.031\n",
        "..      ...     ...     ...     ...     ...     ...\n",
        "100   0.963   0.895   0.659  0.3965   0.095  0.0345\n",
        "101   0.959   0.885  0.6815   0.391  0.0885  0.0345\n",
        "102  0.9665  0.8875  0.6715   0.415  0.0975   0.026\n",
        "103   0.956   0.872  0.6655   0.404  0.0895  0.0445\n",
        "104   0.951   0.878   0.675   0.433  0.0775   0.047\n",
        "105    0.97   0.875  0.6425   0.422   0.082   0.038\n",
        "106   0.954   0.902   0.672  0.4125   0.081   0.045\n",
        "107  0.9495    0.87  0.6725   0.432  0.0675   0.035\n",
        "108  0.9685  0.8785   0.693  0.4115   0.085  0.0505\n",
        "109  0.9605   0.884   0.644  0.4145   0.073   0.051\n",
        "110   0.955   0.878  0.6715  0.4245   0.086  0.0335\n",
        "111   0.954   0.884  0.6755   0.408   0.083  0.0325\n",
        "112  0.9575   0.896  0.6685   0.389  0.0665   0.038\n",
        "113   0.941   0.889  0.6755  0.4165  0.0855   0.038\n",
        "114   0.958  0.8935   0.687   0.417  0.0765   0.034\n",
        "115   0.951   0.897   0.691    0.42  0.0845  0.0295\n",
        "116  0.9595    0.89  0.6845   0.422  0.0825   0.036\n",
        "117  0.9605  0.8955   0.667  0.3685   0.079  0.0365\n",
        "118  0.9545  0.8935   0.669   0.415  0.0885  0.0355\n",
        "119  0.9585  0.8695  0.7105   0.398  0.0855   0.029\n",
        "120  0.9515   0.876   0.681     0.4   0.069  0.0415\n",
        "121  0.9645  0.9015   0.684  0.3875   0.091  0.0445\n",
        "122  0.9475   0.897   0.685    0.41  0.0835   0.036\n",
        "123   0.945  0.8835   0.668  0.3765  0.0845  0.0315\n",
        "124  0.9635   0.865  0.6485   0.425  0.0665   0.035\n",
        "125  0.9535  0.8795  0.6735    0.43   0.069   0.041\n",
        "126   0.954    0.89   0.663  0.4205   0.073   0.036\n",
        "127   0.961  0.8585   0.682   0.387  0.0655  0.0255\n",
        "128  0.9615   0.898  0.6855   0.468  0.0735   0.023\n",
        "129   0.956  0.8695   0.695  0.4035  0.0895  0.0395\n",
        "130  0.9515   0.875   0.684   0.414    0.09   0.036\n",
        "131   0.956   0.872  0.6785  0.4335    0.09  0.0415\n",
        "132    0.96  0.8725  0.6475  0.4115   0.079   0.038\n",
        "133  0.9485   0.878   0.701   0.415   0.088   0.026\n",
        "134    0.94   0.876   0.693   0.425  0.0765  0.0455\n",
        "135  0.9545   0.884  0.6815   0.413    0.08  0.0285\n",
        "136  0.9535    0.91  0.6975  0.3995    0.09  0.0465\n",
        "137  0.9455   0.891   0.697  0.4335   0.085  0.0355\n",
        "138  0.9505  0.9095   0.648  0.3895   0.058  0.0295\n",
        "139   0.958  0.8915   0.673   0.415  0.0895  0.0355\n",
        "140  0.9565  0.8635   0.672  0.4345  0.1115   0.052\n",
        "141   0.943  0.8595  0.6525  0.4015   0.078  0.0465\n",
        "142   0.951  0.8745   0.675  0.4265  0.0805   0.053\n",
        "143   0.968  0.8945  0.6545  0.3965  0.0805   0.033\n",
        "144  0.9545   0.879  0.6855   0.393  0.0735   0.044\n",
        "145   0.947  0.8785  0.6455  0.4095  0.0745   0.047\n",
        "146  0.9425   0.891   0.638   0.416   0.087  0.0355\n",
        "147  0.9495  0.8725  0.6605   0.378  0.0805   0.039\n",
        "148  0.9595  0.8925  0.6915   0.441   0.083   0.035\n",
        "149  0.9525  0.8915  0.6735  0.4085  0.0735  0.0415\n",
        "\n",
        "[150 rows x 6 columns]"
       ]
      }
     ],
     "prompt_number": 7
    },
    {
     "cell_type": "code",
     "collapsed": false,
     "input": [
      "df=pd.read_csv(\"rwr_pro_fitinfo.csv\")"
     ],
     "language": "python",
     "metadata": {},
     "outputs": [],
     "prompt_number": 4
    },
    {
     "cell_type": "code",
     "collapsed": false,
     "input": [
      "from radd.utils import style_params\n",
      "sp=style_params()\n",
      "sns.set_style('ticks', rc=sp['style'])\n",
      "sns.set_context('paper', rc=sp['context'])"
     ],
     "language": "python",
     "metadata": {},
     "outputs": [],
     "prompt_number": 5
    },
    {
     "cell_type": "code",
     "collapsed": false,
     "input": [
      "sc_bstrap=df.groupby('pGo').mean()['psdata'].values\n",
      "sc_bstrap_ci=df.groupby('pGo').std()['psdata'].values*1.96\n",
      "\n",
      "sc_radd=df.groupby('pGo').mean()['psradd'].values\n",
      "sc_radd_ci=df.groupby('pGo').std()['psradd'].values*1.96\n",
      "\n",
      "\n",
      "vis.scurves([sc_bstrap, scradd], yerr=[sc_bstrap_ci, scradd_ci], colors=['#363636', sp['reds'][-2]], labels=['Data*', 'RADD*'], task='ssPro')\n",
      "\n",
      "plt.savefig(\"proboot_SC_95CIonSD.png\", dpi=600)\n",
      "plt.savefig(\"proboot_SC_95CIonSD.svg\", rasterized=True, dpi=600)\n",
      "plt.savefig(\"proboot_SC_95CIonSD.pdf\", rasterized=True, dpi=600)"
     ],
     "language": "python",
     "metadata": {},
     "outputs": [
      {
       "metadata": {},
       "output_type": "display_data",
       "png": "[encoded data removed]",
       "text": [
        "<matplotlib.figure.Figure at 0x7fc347fe7a90>"
       ]
      }
     ],
     "prompt_number": 67
    },
    {
     "cell_type": "code",
     "collapsed": false,
     "input": [
      "rt_bstrap=df.groupby('pGo').mean()['rtdata'].values[1:]\n",
      "rt_bstrap_ci=df.groupby('pGo').std()['rtdata'].values[1:]*1.96\n",
      "\n",
      "rtradd=df.groupby('pGo').mean()['rtradd'].values[1:]\n",
      "rtradd_ci=df.groupby('pGo').std()['rtradd'].values[1:]*1.96\n",
      "\n",
      "\n",
      "vis.plot_pro_rt(y=[rt_bstrap, rtradd], yerr=[rt_bstrap_ci, rtradd_ci], colors=['#363636', sp['reds'][-2]])\n",
      "\n",
      "plt.savefig(\"proboot_RT_95CIonSD.png\", format='png', dpi=600)\n",
      "plt.savefig(\"proboot_RT_95CIonSD.svg\", rasterized=True, dpi=600)\n",
      "plt.savefig(\"proboot_RT_95CIonSD.pdf\", rasterized=True, dpi=600)"
     ],
     "language": "python",
     "metadata": {},
     "outputs": [
      {
       "metadata": {},
       "output_type": "display_data",
       "png": "[encoded data removed]",
       "text": [
        "<matplotlib.figure.Figure at 0x7fea20e03890>"
       ]
      }
     ],
     "prompt_number": 8
    },
    {
     "cell_type": "code",
     "collapsed": false,
     "input": [],
     "language": "python",
     "metadata": {},
     "outputs": []
    }
   ],
   "metadata": {}
  }
 ]
}