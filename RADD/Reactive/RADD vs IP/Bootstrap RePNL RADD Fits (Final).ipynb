{
 "metadata": {
  "name": "",
  "signature": "sha256:f5e251ad5f7ab43fac9ec7f600e5dcc3a0ab9d28d3ce9847b676a9e3fd84165f"
 },
 "nbformat": 3,
 "nbformat_minor": 0,
 "worksheets": [
  {
   "cells": [
    {
     "cell_type": "code",
     "collapsed": false,
     "input": [
      "import scipy.stats as stats\n",
      "import matplotlib.pyplot as plt\n",
      "from radd import utils, vis, reboot\n",
      "from lmfit import Minimizer, Parameters\n",
      "from collections import OrderedDict\n",
      "pth=utils.find_path()"
     ],
     "language": "python",
     "metadata": {},
     "outputs": [],
     "prompt_number": 1
    },
    {
     "cell_type": "heading",
     "level": 2,
     "metadata": {},
     "source": [
      "Read DFs"
     ]
    },
    {
     "cell_type": "code",
     "collapsed": false,
     "input": [
      "utils=reload(utils); \n",
      "fitspath=pth+\"FitFiles/\"\n",
      "datapath=pth+\"DataFiles/\"\n",
      "\n",
      "#df to resample for pstop\n",
      "repnl=pd.read_csv(pth+\"DataFiles/RePNL_Data.csv\", index_col=0)\n",
      "\n",
      "#init params df\n",
      "radd_inits=pd.read_csv(fitspath+\"RePNL_SxFits/RePNL_AllSxParams.csv\", index_col=0)\n",
      "\n",
      "#go to proactive bootstrap directory\n",
      "os.chdir(fitspath)"
     ],
     "language": "python",
     "metadata": {},
     "outputs": [],
     "prompt_number": 2
    },
    {
     "cell_type": "code",
     "collapsed": false,
     "input": [
      "radd_inits={name:radd_inits[name][0] for name in radd_inits.columns}"
     ],
     "language": "python",
     "metadata": {},
     "outputs": [],
     "prompt_number": 3
    },
    {
     "cell_type": "heading",
     "level": 3,
     "metadata": {},
     "source": [
      "Run Main Bootstrapping function here"
     ]
    },
    {
     "cell_type": "code",
     "collapsed": false,
     "input": [
      "radd_fits=reboot.Reboot(repnl, radd_inits, niter=150, ntrials=2000, depHyper=True)"
     ],
     "language": "python",
     "metadata": {},
     "outputs": [
      {
       "output_type": "stream",
       "stream": "stdout",
       "text": [
        "Optimization terminated successfully.\n",
        "         Current function value: 0.001973\n",
        "         Iterations: 19\n",
        "         Function evaluations: 46\n",
        "Optimization terminated successfully."
       ]
      },
      {
       "output_type": "stream",
       "stream": "stdout",
       "text": [
        "\n",
        "         Current function value: 0.002329\n",
        "         Iterations: 16\n",
        "         Function evaluations: 32\n",
        "Optimization terminated successfully."
       ]
      },
      {
       "output_type": "stream",
       "stream": "stdout",
       "text": [
        "\n",
        "         Current function value: 0.001685\n",
        "         Iterations: 16\n",
        "         Function evaluations: 37\n",
        "Optimization terminated successfully."
       ]
      },
      {
       "output_type": "stream",
       "stream": "stdout",
       "text": [
        "\n",
        "         Current function value: 0.002456\n",
        "         Iterations: 22\n",
        "         Function evaluations: 49\n",
        "Optimization terminated successfully."
       ]
      },
      {
       "output_type": "stream",
       "stream": "stdout",
       "text": [
        "\n",
        "         Current function value: 0.001717\n",
        "         Iterations: 14\n",
        "         Function evaluations: 41\n",
        "Optimization terminated successfully."
       ]
      },
      {
       "output_type": "stream",
       "stream": "stdout",
       "text": [
        "\n",
        "         Current function value: 0.001626\n",
        "         Iterations: 24\n",
        "         Function evaluations: 53\n",
        "Optimization terminated successfully."
       ]
      },
      {
       "output_type": "stream",
       "stream": "stdout",
       "text": [
        "\n",
        "         Current function value: 0.003099\n",
        "         Iterations: 15\n",
        "         Function evaluations: 37\n",
        "Optimization terminated successfully."
       ]
      },
      {
       "output_type": "stream",
       "stream": "stdout",
       "text": [
        "\n",
        "         Current function value: 0.001512\n",
        "         Iterations: 19\n",
        "         Function evaluations: 44\n",
        "Optimization terminated successfully."
       ]
      },
      {
       "output_type": "stream",
       "stream": "stdout",
       "text": [
        "\n",
        "         Current function value: 0.002081\n",
        "         Iterations: 17\n",
        "         Function evaluations: 41\n",
        "Optimization terminated successfully."
       ]
      },
      {
       "output_type": "stream",
       "stream": "stdout",
       "text": [
        "\n",
        "         Current function value: 0.002955\n",
        "         Iterations: 25\n",
        "         Function evaluations: 58\n",
        "Optimization terminated successfully."
       ]
      },
      {
       "output_type": "stream",
       "stream": "stdout",
       "text": [
        "\n",
        "         Current function value: 0.001740\n",
        "         Iterations: 17\n",
        "         Function evaluations: 46\n",
        "Optimization terminated successfully."
       ]
      },
      {
       "output_type": "stream",
       "stream": "stdout",
       "text": [
        "\n",
        "         Current function value: 0.003036\n",
        "         Iterations: 8\n",
        "         Function evaluations: 30\n",
        "Optimization terminated successfully."
       ]
      },
      {
       "output_type": "stream",
       "stream": "stdout",
       "text": [
        "\n",
        "         Current function value: 0.002173\n",
        "         Iterations: 20\n",
        "         Function evaluations: 49\n",
        "Optimization terminated successfully."
       ]
      },
      {
       "output_type": "stream",
       "stream": "stdout",
       "text": [
        "\n",
        "         Current function value: 0.001146\n",
        "         Iterations: 16\n",
        "         Function evaluations: 37\n",
        "Optimization terminated successfully."
       ]
      },
      {
       "output_type": "stream",
       "stream": "stdout",
       "text": [
        "\n",
        "         Current function value: 0.002197\n",
        "         Iterations: 18\n",
        "         Function evaluations: 42\n",
        "Optimization terminated successfully."
       ]
      },
      {
       "output_type": "stream",
       "stream": "stdout",
       "text": [
        "\n",
        "         Current function value: 0.001731\n",
        "         Iterations: 24\n",
        "         Function evaluations: 57\n",
        "Optimization terminated successfully."
       ]
      },
      {
       "output_type": "stream",
       "stream": "stdout",
       "text": [
        "\n",
        "         Current function value: 0.002343\n",
        "         Iterations: 25\n",
        "         Function evaluations: 57\n",
        "Optimization terminated successfully."
       ]
      },
      {
       "output_type": "stream",
       "stream": "stdout",
       "text": [
        "\n",
        "         Current function value: 0.002013\n",
        "         Iterations: 16\n",
        "         Function evaluations: 34\n",
        "Optimization terminated successfully."
       ]
      },
      {
       "output_type": "stream",
       "stream": "stdout",
       "text": [
        "\n",
        "         Current function value: 0.003022\n",
        "         Iterations: 12\n",
        "         Function evaluations: 31\n",
        "Optimization terminated successfully."
       ]
      },
      {
       "output_type": "stream",
       "stream": "stdout",
       "text": [
        "\n",
        "         Current function value: 0.002655\n",
        "         Iterations: 19\n",
        "         Function evaluations: 42\n",
        "Optimization terminated successfully."
       ]
      },
      {
       "output_type": "stream",
       "stream": "stdout",
       "text": [
        "\n",
        "         Current function value: 0.001971\n",
        "         Iterations: 16\n",
        "         Function evaluations: 38\n",
        "Optimization terminated successfully."
       ]
      },
      {
       "output_type": "stream",
       "stream": "stdout",
       "text": [
        "\n",
        "         Current function value: 0.001241\n",
        "         Iterations: 17\n",
        "         Function evaluations: 44\n",
        "Optimization terminated successfully."
       ]
      },
      {
       "output_type": "stream",
       "stream": "stdout",
       "text": [
        "\n",
        "         Current function value: 0.002971\n",
        "         Iterations: 17\n",
        "         Function evaluations: 47\n",
        "Optimization terminated successfully."
       ]
      },
      {
       "output_type": "stream",
       "stream": "stdout",
       "text": [
        "\n",
        "         Current function value: 0.002842\n",
        "         Iterations: 16\n",
        "         Function evaluations: 40\n",
        "Optimization terminated successfully."
       ]
      },
      {
       "output_type": "stream",
       "stream": "stdout",
       "text": [
        "\n",
        "         Current function value: 0.001238\n",
        "         Iterations: 22\n",
        "         Function evaluations: 52\n",
        "Optimization terminated successfully."
       ]
      },
      {
       "output_type": "stream",
       "stream": "stdout",
       "text": [
        "\n",
        "         Current function value: 0.002806\n",
        "         Iterations: 20\n",
        "         Function evaluations: 47\n",
        "Optimization terminated successfully."
       ]
      },
      {
       "output_type": "stream",
       "stream": "stdout",
       "text": [
        "\n",
        "         Current function value: 0.002432\n",
        "         Iterations: 16\n",
        "         Function evaluations: 38\n",
        "Optimization terminated successfully."
       ]
      },
      {
       "output_type": "stream",
       "stream": "stdout",
       "text": [
        "\n",
        "         Current function value: 0.001972\n",
        "         Iterations: 20\n",
        "         Function evaluations: 46\n",
        "Optimization terminated successfully."
       ]
      },
      {
       "output_type": "stream",
       "stream": "stdout",
       "text": [
        "\n",
        "         Current function value: 0.001400\n",
        "         Iterations: 20\n",
        "         Function evaluations: 46\n",
        "Optimization terminated successfully."
       ]
      },
      {
       "output_type": "stream",
       "stream": "stdout",
       "text": [
        "\n",
        "         Current function value: 0.002526\n",
        "         Iterations: 13\n",
        "         Function evaluations: 34\n",
        "Optimization terminated successfully."
       ]
      },
      {
       "output_type": "stream",
       "stream": "stdout",
       "text": [
        "\n",
        "         Current function value: 0.001532\n",
        "         Iterations: 17\n",
        "         Function evaluations: 41\n",
        "Optimization terminated successfully."
       ]
      },
      {
       "output_type": "stream",
       "stream": "stdout",
       "text": [
        "\n",
        "         Current function value: 0.001802\n",
        "         Iterations: 24\n",
        "         Function evaluations: 52\n",
        "Optimization terminated successfully."
       ]
      },
      {
       "output_type": "stream",
       "stream": "stdout",
       "text": [
        "\n",
        "         Current function value: 0.002916\n",
        "         Iterations: 12\n",
        "         Function evaluations: 33\n",
        "Optimization terminated successfully."
       ]
      },
      {
       "output_type": "stream",
       "stream": "stdout",
       "text": [
        "\n",
        "         Current function value: 0.002774\n",
        "         Iterations: 15\n",
        "         Function evaluations: 44\n",
        "Optimization terminated successfully."
       ]
      },
      {
       "output_type": "stream",
       "stream": "stdout",
       "text": [
        "\n",
        "         Current function value: 0.002311\n",
        "         Iterations: 17\n",
        "         Function evaluations: 44\n",
        "Optimization terminated successfully."
       ]
      },
      {
       "output_type": "stream",
       "stream": "stdout",
       "text": [
        "\n",
        "         Current function value: 0.001911\n",
        "         Iterations: 15\n",
        "         Function evaluations: 47\n",
        "Optimization terminated successfully."
       ]
      },
      {
       "output_type": "stream",
       "stream": "stdout",
       "text": [
        "\n",
        "         Current function value: 0.002031\n",
        "         Iterations: 18\n",
        "         Function evaluations: 41\n",
        "Optimization terminated successfully."
       ]
      },
      {
       "output_type": "stream",
       "stream": "stdout",
       "text": [
        "\n",
        "         Current function value: 0.002143\n",
        "         Iterations: 17\n",
        "         Function evaluations: 45\n",
        "Optimization terminated successfully."
       ]
      },
      {
       "output_type": "stream",
       "stream": "stdout",
       "text": [
        "\n",
        "         Current function value: 0.001606\n",
        "         Iterations: 25\n",
        "         Function evaluations: 51\n",
        "Optimization terminated successfully."
       ]
      },
      {
       "output_type": "stream",
       "stream": "stdout",
       "text": [
        "\n",
        "         Current function value: 0.001725\n",
        "         Iterations: 26\n",
        "         Function evaluations: 57\n",
        "Optimization terminated successfully."
       ]
      },
      {
       "output_type": "stream",
       "stream": "stdout",
       "text": [
        "\n",
        "         Current function value: 0.002190\n",
        "         Iterations: 24\n",
        "         Function evaluations: 49\n",
        "Optimization terminated successfully."
       ]
      },
      {
       "output_type": "stream",
       "stream": "stdout",
       "text": [
        "\n",
        "         Current function value: 0.002413\n",
        "         Iterations: 20\n",
        "         Function evaluations: 48\n",
        "Optimization terminated successfully."
       ]
      },
      {
       "output_type": "stream",
       "stream": "stdout",
       "text": [
        "\n",
        "         Current function value: 0.002873\n",
        "         Iterations: 12\n",
        "         Function evaluations: 28\n",
        "Optimization terminated successfully."
       ]
      },
      {
       "output_type": "stream",
       "stream": "stdout",
       "text": [
        "\n",
        "         Current function value: 0.002675\n",
        "         Iterations: 22\n",
        "         Function evaluations: 51\n",
        "Optimization terminated successfully."
       ]
      },
      {
       "output_type": "stream",
       "stream": "stdout",
       "text": [
        "\n",
        "         Current function value: 0.002583\n",
        "         Iterations: 19\n",
        "         Function evaluations: 46\n",
        "Optimization terminated successfully."
       ]
      },
      {
       "output_type": "stream",
       "stream": "stdout",
       "text": [
        "\n",
        "         Current function value: 0.002792\n",
        "         Iterations: 21\n",
        "         Function evaluations: 45\n",
        "Optimization terminated successfully."
       ]
      },
      {
       "output_type": "stream",
       "stream": "stdout",
       "text": [
        "\n",
        "         Current function value: 0.002793\n",
        "         Iterations: 20\n",
        "         Function evaluations: 48\n",
        "Optimization terminated successfully."
       ]
      },
      {
       "output_type": "stream",
       "stream": "stdout",
       "text": [
        "\n",
        "         Current function value: 0.001326\n",
        "         Iterations: 23\n",
        "         Function evaluations: 54\n",
        "Optimization terminated successfully."
       ]
      },
      {
       "output_type": "stream",
       "stream": "stdout",
       "text": [
        "\n",
        "         Current function value: 0.002652\n",
        "         Iterations: 21\n",
        "         Function evaluations: 43\n",
        "Optimization terminated successfully."
       ]
      },
      {
       "output_type": "stream",
       "stream": "stdout",
       "text": [
        "\n",
        "         Current function value: 0.002222\n",
        "         Iterations: 17\n",
        "         Function evaluations: 40\n",
        "Optimization terminated successfully."
       ]
      },
      {
       "output_type": "stream",
       "stream": "stdout",
       "text": [
        "\n",
        "         Current function value: 0.003359\n",
        "         Iterations: 13\n",
        "         Function evaluations: 35\n",
        "Optimization terminated successfully."
       ]
      },
      {
       "output_type": "stream",
       "stream": "stdout",
       "text": [
        "\n",
        "         Current function value: 0.001939\n",
        "         Iterations: 16\n",
        "         Function evaluations: 44\n",
        "Optimization terminated successfully."
       ]
      },
      {
       "output_type": "stream",
       "stream": "stdout",
       "text": [
        "\n",
        "         Current function value: 0.001383\n",
        "         Iterations: 26\n",
        "         Function evaluations: 54\n",
        "Optimization terminated successfully."
       ]
      },
      {
       "output_type": "stream",
       "stream": "stdout",
       "text": [
        "\n",
        "         Current function value: 0.003125\n",
        "         Iterations: 16\n",
        "         Function evaluations: 38\n",
        "Optimization terminated successfully."
       ]
      },
      {
       "output_type": "stream",
       "stream": "stdout",
       "text": [
        "\n",
        "         Current function value: 0.002080\n",
        "         Iterations: 19\n",
        "         Function evaluations: 47\n",
        "Optimization terminated successfully."
       ]
      },
      {
       "output_type": "stream",
       "stream": "stdout",
       "text": [
        "\n",
        "         Current function value: 0.002859\n",
        "         Iterations: 15\n",
        "         Function evaluations: 41\n",
        "Optimization terminated successfully."
       ]
      },
      {
       "output_type": "stream",
       "stream": "stdout",
       "text": [
        "\n",
        "         Current function value: 0.002113\n",
        "         Iterations: 21\n",
        "         Function evaluations: 45\n",
        "Optimization terminated successfully."
       ]
      },
      {
       "output_type": "stream",
       "stream": "stdout",
       "text": [
        "\n",
        "         Current function value: 0.003268\n",
        "         Iterations: 18\n",
        "         Function evaluations: 45\n",
        "Optimization terminated successfully."
       ]
      },
      {
       "output_type": "stream",
       "stream": "stdout",
       "text": [
        "\n",
        "         Current function value: 0.001288\n",
        "         Iterations: 17\n",
        "         Function evaluations: 45\n",
        "Optimization terminated successfully."
       ]
      },
      {
       "output_type": "stream",
       "stream": "stdout",
       "text": [
        "\n",
        "         Current function value: 0.002351\n",
        "         Iterations: 15\n",
        "         Function evaluations: 47\n",
        "Optimization terminated successfully."
       ]
      },
      {
       "output_type": "stream",
       "stream": "stdout",
       "text": [
        "\n",
        "         Current function value: 0.001486\n",
        "         Iterations: 18\n",
        "         Function evaluations: 43\n",
        "Optimization terminated successfully."
       ]
      },
      {
       "output_type": "stream",
       "stream": "stdout",
       "text": [
        "\n",
        "         Current function value: 0.001619\n",
        "         Iterations: 18\n",
        "         Function evaluations: 47\n",
        "Optimization terminated successfully."
       ]
      },
      {
       "output_type": "stream",
       "stream": "stdout",
       "text": [
        "\n",
        "         Current function value: 0.002619\n",
        "         Iterations: 22\n",
        "         Function evaluations: 48\n",
        "Optimization terminated successfully."
       ]
      },
      {
       "output_type": "stream",
       "stream": "stdout",
       "text": [
        "\n",
        "         Current function value: 0.002302\n",
        "         Iterations: 20\n",
        "         Function evaluations: 45\n",
        "Optimization terminated successfully."
       ]
      },
      {
       "output_type": "stream",
       "stream": "stdout",
       "text": [
        "\n",
        "         Current function value: 0.001408\n",
        "         Iterations: 17\n",
        "         Function evaluations: 44\n",
        "Optimization terminated successfully."
       ]
      },
      {
       "output_type": "stream",
       "stream": "stdout",
       "text": [
        "\n",
        "         Current function value: 0.001599\n",
        "         Iterations: 20\n",
        "         Function evaluations: 49\n",
        "Optimization terminated successfully."
       ]
      },
      {
       "output_type": "stream",
       "stream": "stdout",
       "text": [
        "\n",
        "         Current function value: 0.001238\n",
        "         Iterations: 13\n",
        "         Function evaluations: 39\n",
        "Optimization terminated successfully."
       ]
      },
      {
       "output_type": "stream",
       "stream": "stdout",
       "text": [
        "\n",
        "         Current function value: 0.001138\n",
        "         Iterations: 23\n",
        "         Function evaluations: 50\n",
        "Optimization terminated successfully."
       ]
      },
      {
       "output_type": "stream",
       "stream": "stdout",
       "text": [
        "\n",
        "         Current function value: 0.001837\n",
        "         Iterations: 18\n",
        "         Function evaluations: 43\n",
        "Optimization terminated successfully."
       ]
      },
      {
       "output_type": "stream",
       "stream": "stdout",
       "text": [
        "\n",
        "         Current function value: 0.001573\n",
        "         Iterations: 30\n",
        "         Function evaluations: 63\n",
        "Optimization terminated successfully."
       ]
      },
      {
       "output_type": "stream",
       "stream": "stdout",
       "text": [
        "\n",
        "         Current function value: 0.002135\n",
        "         Iterations: 19\n",
        "         Function evaluations: 47\n",
        "Optimization terminated successfully."
       ]
      },
      {
       "output_type": "stream",
       "stream": "stdout",
       "text": [
        "\n",
        "         Current function value: 0.002441\n",
        "         Iterations: 14\n",
        "         Function evaluations: 46\n",
        "Optimization terminated successfully."
       ]
      },
      {
       "output_type": "stream",
       "stream": "stdout",
       "text": [
        "\n",
        "         Current function value: 0.002045\n",
        "         Iterations: 18\n",
        "         Function evaluations: 45\n",
        "Optimization terminated successfully."
       ]
      },
      {
       "output_type": "stream",
       "stream": "stdout",
       "text": [
        "\n",
        "         Current function value: 0.002452\n",
        "         Iterations: 19\n",
        "         Function evaluations: 44\n",
        "Optimization terminated successfully."
       ]
      },
      {
       "output_type": "stream",
       "stream": "stdout",
       "text": [
        "\n",
        "         Current function value: 0.000738\n",
        "         Iterations: 15\n",
        "         Function evaluations: 38\n",
        "Optimization terminated successfully."
       ]
      },
      {
       "output_type": "stream",
       "stream": "stdout",
       "text": [
        "\n",
        "         Current function value: 0.002515\n",
        "         Iterations: 18\n",
        "         Function evaluations: 51\n",
        "Optimization terminated successfully."
       ]
      },
      {
       "output_type": "stream",
       "stream": "stdout",
       "text": [
        "\n",
        "         Current function value: 0.002600\n",
        "         Iterations: 21\n",
        "         Function evaluations: 45\n",
        "Optimization terminated successfully."
       ]
      },
      {
       "output_type": "stream",
       "stream": "stdout",
       "text": [
        "\n",
        "         Current function value: 0.002354\n",
        "         Iterations: 21\n",
        "         Function evaluations: 50\n",
        "Optimization terminated successfully."
       ]
      },
      {
       "output_type": "stream",
       "stream": "stdout",
       "text": [
        "\n",
        "         Current function value: 0.002260\n",
        "         Iterations: 17\n",
        "         Function evaluations: 50\n",
        "Optimization terminated successfully."
       ]
      },
      {
       "output_type": "stream",
       "stream": "stdout",
       "text": [
        "\n",
        "         Current function value: 0.002582\n",
        "         Iterations: 17\n",
        "         Function evaluations: 46\n",
        "Optimization terminated successfully."
       ]
      },
      {
       "output_type": "stream",
       "stream": "stdout",
       "text": [
        "\n",
        "         Current function value: 0.002359\n",
        "         Iterations: 11\n",
        "         Function evaluations: 30\n",
        "Optimization terminated successfully."
       ]
      },
      {
       "output_type": "stream",
       "stream": "stdout",
       "text": [
        "\n",
        "         Current function value: 0.001105\n",
        "         Iterations: 21\n",
        "         Function evaluations: 45\n",
        "Optimization terminated successfully."
       ]
      },
      {
       "output_type": "stream",
       "stream": "stdout",
       "text": [
        "\n",
        "         Current function value: 0.002464\n",
        "         Iterations: 19\n",
        "         Function evaluations: 47\n",
        "Optimization terminated successfully."
       ]
      },
      {
       "output_type": "stream",
       "stream": "stdout",
       "text": [
        "\n",
        "         Current function value: 0.002374\n",
        "         Iterations: 18\n",
        "         Function evaluations: 47\n",
        "Optimization terminated successfully."
       ]
      },
      {
       "output_type": "stream",
       "stream": "stdout",
       "text": [
        "\n",
        "         Current function value: 0.001519\n",
        "         Iterations: 28\n",
        "         Function evaluations: 62\n",
        "Optimization terminated successfully."
       ]
      },
      {
       "output_type": "stream",
       "stream": "stdout",
       "text": [
        "\n",
        "         Current function value: 0.002031\n",
        "         Iterations: 16\n",
        "         Function evaluations: 45\n",
        "Optimization terminated successfully."
       ]
      },
      {
       "output_type": "stream",
       "stream": "stdout",
       "text": [
        "\n",
        "         Current function value: 0.002440\n",
        "         Iterations: 12\n",
        "         Function evaluations: 41\n",
        "Optimization terminated successfully."
       ]
      },
      {
       "output_type": "stream",
       "stream": "stdout",
       "text": [
        "\n",
        "         Current function value: 0.002563\n",
        "         Iterations: 14\n",
        "         Function evaluations: 33\n",
        "Optimization terminated successfully."
       ]
      },
      {
       "output_type": "stream",
       "stream": "stdout",
       "text": [
        "\n",
        "         Current function value: 0.001927\n",
        "         Iterations: 16\n",
        "         Function evaluations: 44\n",
        "Optimization terminated successfully."
       ]
      },
      {
       "output_type": "stream",
       "stream": "stdout",
       "text": [
        "\n",
        "         Current function value: 0.002107\n",
        "         Iterations: 24\n",
        "         Function evaluations: 49\n",
        "Optimization terminated successfully."
       ]
      },
      {
       "output_type": "stream",
       "stream": "stdout",
       "text": [
        "\n",
        "         Current function value: 0.001880\n",
        "         Iterations: 18\n",
        "         Function evaluations: 47\n",
        "Optimization terminated successfully."
       ]
      },
      {
       "output_type": "stream",
       "stream": "stdout",
       "text": [
        "\n",
        "         Current function value: 0.002646\n",
        "         Iterations: 19\n",
        "         Function evaluations: 47\n",
        "Optimization terminated successfully."
       ]
      },
      {
       "output_type": "stream",
       "stream": "stdout",
       "text": [
        "\n",
        "         Current function value: 0.001928\n",
        "         Iterations: 17\n",
        "         Function evaluations: 42\n",
        "Optimization terminated successfully."
       ]
      },
      {
       "output_type": "stream",
       "stream": "stdout",
       "text": [
        "\n",
        "         Current function value: 0.001976\n",
        "         Iterations: 12\n",
        "         Function evaluations: 40\n",
        "Optimization terminated successfully."
       ]
      },
      {
       "output_type": "stream",
       "stream": "stdout",
       "text": [
        "\n",
        "         Current function value: 0.001117\n",
        "         Iterations: 19\n",
        "         Function evaluations: 49\n",
        "Optimization terminated successfully."
       ]
      },
      {
       "output_type": "stream",
       "stream": "stdout",
       "text": [
        "\n",
        "         Current function value: 0.003018\n",
        "         Iterations: 15\n",
        "         Function evaluations: 47\n",
        "Optimization terminated successfully."
       ]
      },
      {
       "output_type": "stream",
       "stream": "stdout",
       "text": [
        "\n",
        "         Current function value: 0.002789\n",
        "         Iterations: 12\n",
        "         Function evaluations: 32\n",
        "Optimization terminated successfully."
       ]
      },
      {
       "output_type": "stream",
       "stream": "stdout",
       "text": [
        "\n",
        "         Current function value: 0.002477\n",
        "         Iterations: 16\n",
        "         Function evaluations: 43\n",
        "Optimization terminated successfully."
       ]
      },
      {
       "output_type": "stream",
       "stream": "stdout",
       "text": [
        "\n",
        "         Current function value: 0.001927\n",
        "         Iterations: 16\n",
        "         Function evaluations: 39\n",
        "Optimization terminated successfully."
       ]
      },
      {
       "output_type": "stream",
       "stream": "stdout",
       "text": [
        "\n",
        "         Current function value: 0.001482\n",
        "         Iterations: 31\n",
        "         Function evaluations: 62\n",
        "Optimization terminated successfully."
       ]
      },
      {
       "output_type": "stream",
       "stream": "stdout",
       "text": [
        "\n",
        "         Current function value: 0.002102\n",
        "         Iterations: 18\n",
        "         Function evaluations: 40\n",
        "Optimization terminated successfully."
       ]
      },
      {
       "output_type": "stream",
       "stream": "stdout",
       "text": [
        "\n",
        "         Current function value: 0.002207\n",
        "         Iterations: 18\n",
        "         Function evaluations: 40\n",
        "Optimization terminated successfully."
       ]
      },
      {
       "output_type": "stream",
       "stream": "stdout",
       "text": [
        "\n",
        "         Current function value: 0.002157\n",
        "         Iterations: 21\n",
        "         Function evaluations: 52\n",
        "Optimization terminated successfully."
       ]
      },
      {
       "output_type": "stream",
       "stream": "stdout",
       "text": [
        "\n",
        "         Current function value: 0.002262\n",
        "         Iterations: 17\n",
        "         Function evaluations: 44\n",
        "Optimization terminated successfully."
       ]
      },
      {
       "output_type": "stream",
       "stream": "stdout",
       "text": [
        "\n",
        "         Current function value: 0.001695\n",
        "         Iterations: 26\n",
        "         Function evaluations: 57\n",
        "Optimization terminated successfully."
       ]
      },
      {
       "output_type": "stream",
       "stream": "stdout",
       "text": [
        "\n",
        "         Current function value: 0.002177\n",
        "         Iterations: 20\n",
        "         Function evaluations: 52\n",
        "Optimization terminated successfully."
       ]
      },
      {
       "output_type": "stream",
       "stream": "stdout",
       "text": [
        "\n",
        "         Current function value: 0.001802\n",
        "         Iterations: 17\n",
        "         Function evaluations: 44\n",
        "Optimization terminated successfully."
       ]
      },
      {
       "output_type": "stream",
       "stream": "stdout",
       "text": [
        "\n",
        "         Current function value: 0.002396\n",
        "         Iterations: 18\n",
        "         Function evaluations: 47\n",
        "Optimization terminated successfully."
       ]
      },
      {
       "output_type": "stream",
       "stream": "stdout",
       "text": [
        "\n",
        "         Current function value: 0.001647\n",
        "         Iterations: 16\n",
        "         Function evaluations: 43\n",
        "Optimization terminated successfully."
       ]
      },
      {
       "output_type": "stream",
       "stream": "stdout",
       "text": [
        "\n",
        "         Current function value: 0.001000\n",
        "         Iterations: 19\n",
        "         Function evaluations: 44\n",
        "Optimization terminated successfully."
       ]
      },
      {
       "output_type": "stream",
       "stream": "stdout",
       "text": [
        "\n",
        "         Current function value: 0.002428\n",
        "         Iterations: 16\n",
        "         Function evaluations: 44\n",
        "Optimization terminated successfully."
       ]
      },
      {
       "output_type": "stream",
       "stream": "stdout",
       "text": [
        "\n",
        "         Current function value: 0.001101\n",
        "         Iterations: 21\n",
        "         Function evaluations: 44\n",
        "Optimization terminated successfully."
       ]
      },
      {
       "output_type": "stream",
       "stream": "stdout",
       "text": [
        "\n",
        "         Current function value: 0.002104\n",
        "         Iterations: 14\n",
        "         Function evaluations: 37\n",
        "Optimization terminated successfully."
       ]
      },
      {
       "output_type": "stream",
       "stream": "stdout",
       "text": [
        "\n",
        "         Current function value: 0.003049\n",
        "         Iterations: 17\n",
        "         Function evaluations: 41\n",
        "Optimization terminated successfully."
       ]
      },
      {
       "output_type": "stream",
       "stream": "stdout",
       "text": [
        "\n",
        "         Current function value: 0.002025\n",
        "         Iterations: 21\n",
        "         Function evaluations: 51\n",
        "Optimization terminated successfully."
       ]
      },
      {
       "output_type": "stream",
       "stream": "stdout",
       "text": [
        "\n",
        "         Current function value: 0.002223\n",
        "         Iterations: 18\n",
        "         Function evaluations: 48\n",
        "Optimization terminated successfully."
       ]
      },
      {
       "output_type": "stream",
       "stream": "stdout",
       "text": [
        "\n",
        "         Current function value: 0.002687\n",
        "         Iterations: 11\n",
        "         Function evaluations: 30\n",
        "Optimization terminated successfully."
       ]
      },
      {
       "output_type": "stream",
       "stream": "stdout",
       "text": [
        "\n",
        "         Current function value: 0.001932\n",
        "         Iterations: 20\n",
        "         Function evaluations: 50\n",
        "Optimization terminated successfully."
       ]
      },
      {
       "output_type": "stream",
       "stream": "stdout",
       "text": [
        "\n",
        "         Current function value: 0.002735\n",
        "         Iterations: 16\n",
        "         Function evaluations: 38\n",
        "Optimization terminated successfully."
       ]
      },
      {
       "output_type": "stream",
       "stream": "stdout",
       "text": [
        "\n",
        "         Current function value: 0.002506\n",
        "         Iterations: 21\n",
        "         Function evaluations: 57\n",
        "Optimization terminated successfully."
       ]
      },
      {
       "output_type": "stream",
       "stream": "stdout",
       "text": [
        "\n",
        "         Current function value: 0.003736\n",
        "         Iterations: 14\n",
        "         Function evaluations: 36\n",
        "Optimization terminated successfully."
       ]
      },
      {
       "output_type": "stream",
       "stream": "stdout",
       "text": [
        "\n",
        "         Current function value: 0.002423\n",
        "         Iterations: 19\n",
        "         Function evaluations: 45\n",
        "Optimization terminated successfully."
       ]
      },
      {
       "output_type": "stream",
       "stream": "stdout",
       "text": [
        "\n",
        "         Current function value: 0.002938\n",
        "         Iterations: 21\n",
        "         Function evaluations: 51\n",
        "Optimization terminated successfully."
       ]
      },
      {
       "output_type": "stream",
       "stream": "stdout",
       "text": [
        "\n",
        "         Current function value: 0.002910\n",
        "         Iterations: 14\n",
        "         Function evaluations: 40\n",
        "Optimization terminated successfully."
       ]
      },
      {
       "output_type": "stream",
       "stream": "stdout",
       "text": [
        "\n",
        "         Current function value: 0.002896\n",
        "         Iterations: 19\n",
        "         Function evaluations: 50\n",
        "Optimization terminated successfully."
       ]
      },
      {
       "output_type": "stream",
       "stream": "stdout",
       "text": [
        "\n",
        "         Current function value: 0.000864\n",
        "         Iterations: 17\n",
        "         Function evaluations: 45\n",
        "Optimization terminated successfully."
       ]
      },
      {
       "output_type": "stream",
       "stream": "stdout",
       "text": [
        "\n",
        "         Current function value: 0.002282\n",
        "         Iterations: 14\n",
        "         Function evaluations: 35\n",
        "Optimization terminated successfully."
       ]
      },
      {
       "output_type": "stream",
       "stream": "stdout",
       "text": [
        "\n",
        "         Current function value: 0.002388\n",
        "         Iterations: 18\n",
        "         Function evaluations: 49\n",
        "Optimization terminated successfully."
       ]
      },
      {
       "output_type": "stream",
       "stream": "stdout",
       "text": [
        "\n",
        "         Current function value: 0.001360\n",
        "         Iterations: 21\n",
        "         Function evaluations: 51\n",
        "Optimization terminated successfully."
       ]
      },
      {
       "output_type": "stream",
       "stream": "stdout",
       "text": [
        "\n",
        "         Current function value: 0.002568\n",
        "         Iterations: 11\n",
        "         Function evaluations: 29\n",
        "Optimization terminated successfully."
       ]
      },
      {
       "output_type": "stream",
       "stream": "stdout",
       "text": [
        "\n",
        "         Current function value: 0.003381\n",
        "         Iterations: 20\n",
        "         Function evaluations: 44\n",
        "Optimization terminated successfully."
       ]
      },
      {
       "output_type": "stream",
       "stream": "stdout",
       "text": [
        "\n",
        "         Current function value: 0.002105\n",
        "         Iterations: 18\n",
        "         Function evaluations: 42\n",
        "Optimization terminated successfully."
       ]
      },
      {
       "output_type": "stream",
       "stream": "stdout",
       "text": [
        "\n",
        "         Current function value: 0.002830\n",
        "         Iterations: 17\n",
        "         Function evaluations: 43\n",
        "Optimization terminated successfully."
       ]
      },
      {
       "output_type": "stream",
       "stream": "stdout",
       "text": [
        "\n",
        "         Current function value: 0.002343\n",
        "         Iterations: 17\n",
        "         Function evaluations: 44\n",
        "Optimization terminated successfully."
       ]
      },
      {
       "output_type": "stream",
       "stream": "stdout",
       "text": [
        "\n",
        "         Current function value: 0.002244\n",
        "         Iterations: 16\n",
        "         Function evaluations: 37\n",
        "Optimization terminated successfully."
       ]
      },
      {
       "output_type": "stream",
       "stream": "stdout",
       "text": [
        "\n",
        "         Current function value: 0.002114\n",
        "         Iterations: 11\n",
        "         Function evaluations: 35\n",
        "Optimization terminated successfully."
       ]
      },
      {
       "output_type": "stream",
       "stream": "stdout",
       "text": [
        "\n",
        "         Current function value: 0.002695\n",
        "         Iterations: 13\n",
        "         Function evaluations: 34\n",
        "Optimization terminated successfully."
       ]
      },
      {
       "output_type": "stream",
       "stream": "stdout",
       "text": [
        "\n",
        "         Current function value: 0.003276\n",
        "         Iterations: 21\n",
        "         Function evaluations: 44\n",
        "Optimization terminated successfully."
       ]
      },
      {
       "output_type": "stream",
       "stream": "stdout",
       "text": [
        "\n",
        "         Current function value: 0.001909\n",
        "         Iterations: 12\n",
        "         Function evaluations: 32\n",
        "Optimization terminated successfully."
       ]
      },
      {
       "output_type": "stream",
       "stream": "stdout",
       "text": [
        "\n",
        "         Current function value: 0.002972\n",
        "         Iterations: 20\n",
        "         Function evaluations: 46\n",
        "Optimization terminated successfully."
       ]
      },
      {
       "output_type": "stream",
       "stream": "stdout",
       "text": [
        "\n",
        "         Current function value: 0.003642\n",
        "         Iterations: 14\n",
        "         Function evaluations: 38\n",
        "Optimization terminated successfully."
       ]
      },
      {
       "output_type": "stream",
       "stream": "stdout",
       "text": [
        "\n",
        "         Current function value: 0.002901\n",
        "         Iterations: 14\n",
        "         Function evaluations: 33\n",
        "Optimization terminated successfully."
       ]
      },
      {
       "output_type": "stream",
       "stream": "stdout",
       "text": [
        "\n",
        "         Current function value: 0.001926\n",
        "         Iterations: 21\n",
        "         Function evaluations: 57\n",
        "Optimization terminated successfully."
       ]
      },
      {
       "output_type": "stream",
       "stream": "stdout",
       "text": [
        "\n",
        "         Current function value: 0.002916\n",
        "         Iterations: 18\n",
        "         Function evaluations: 43\n",
        "Optimization terminated successfully."
       ]
      },
      {
       "output_type": "stream",
       "stream": "stdout",
       "text": [
        "\n",
        "         Current function value: 0.002328\n",
        "         Iterations: 16\n",
        "         Function evaluations: 41\n",
        "Optimization terminated successfully."
       ]
      },
      {
       "output_type": "stream",
       "stream": "stdout",
       "text": [
        "\n",
        "         Current function value: 0.002591\n",
        "         Iterations: 17\n",
        "         Function evaluations: 40\n",
        "Optimization terminated successfully."
       ]
      },
      {
       "output_type": "stream",
       "stream": "stdout",
       "text": [
        "\n",
        "         Current function value: 0.001935\n",
        "         Iterations: 18\n",
        "         Function evaluations: 41\n",
        "Optimization terminated successfully."
       ]
      },
      {
       "output_type": "stream",
       "stream": "stdout",
       "text": [
        "\n",
        "         Current function value: 0.002594\n",
        "         Iterations: 15\n",
        "         Function evaluations: 37\n",
        "Optimization terminated successfully."
       ]
      },
      {
       "output_type": "stream",
       "stream": "stdout",
       "text": [
        "\n",
        "         Current function value: 0.002931\n",
        "         Iterations: 11\n",
        "         Function evaluations: 35\n",
        "Optimization terminated successfully."
       ]
      },
      {
       "output_type": "stream",
       "stream": "stdout",
       "text": [
        "\n",
        "         Current function value: 0.001776\n",
        "         Iterations: 21\n",
        "         Function evaluations: 49\n"
       ]
      }
     ],
     "prompt_number": 4
    },
    {
     "cell_type": "code",
     "collapsed": false,
     "input": [
      "radd_fits=pd.read_csv(\"rwr_rebsl_fits_RADD.csv\")\n",
      "scradd=radd_fits.iloc[:,:-1].mean().values\n",
      "rtradd=radd_fits.iloc[:,-1].mean()\n",
      "scradd_ci=radd_fits.iloc[:,:-1].std().values*1.96\n",
      "rtradd_ci=radd_fits.iloc[:,-1].std()*1.96"
     ],
     "language": "python",
     "metadata": {},
     "outputs": [],
     "prompt_number": 9
    },
    {
     "cell_type": "code",
     "collapsed": false,
     "input": [
      "bxdf=pd.read_csv(\"rwr_rebsl_fitinfo_RADD.csv\", index_col=0)\n",
      "\n",
      "bxdata=bxdf.groupby('ssdlist').mean()['ydata'].values\n",
      "bxerr=bxdf.groupby('ssdlist')['ydata'].std().values*1.96\n",
      "scbx=bxdata[:-1]\n",
      "rtbx=bxdata[-1]\n",
      "scbx_ci=bxerr[:-1]\n",
      "rtbx_ci=bxerr[-1]\n"
     ],
     "language": "python",
     "metadata": {},
     "outputs": [],
     "prompt_number": 14
    },
    {
     "cell_type": "code",
     "collapsed": false,
     "input": [
      "ipdf=pd.read_csv(\"rwr_rebsl_fits_IP.csv\")\n",
      "sc_ip=ipdf.iloc[:,:-1].mean().values\n",
      "rt_ip=ipdf.iloc[:,-1].mean()\n",
      "sc_ip_ci=ipdf.iloc[:,:-1].std().values*1.96\n",
      "rt_ip_ci=ipdf.iloc[:,-1].std()*1.96"
     ],
     "language": "python",
     "metadata": {},
     "outputs": [],
     "prompt_number": 15
    },
    {
     "cell_type": "code",
     "collapsed": false,
     "input": [
      "sc=[scbx, scradd, sc_ip]\n",
      "scerr=[scbx_ci, scradd_ci, sc_ip_ci]\n",
      "\n",
      "colors=['#34495E','#1ABC9C', \"#E74C3C\"]\n",
      "labels=['Data', 'RADD', 'IP']\n",
      "\n",
      "ax=vis.scurves(sc, yerr=scerr, colors=colors, labels=labels)\n",
      "\n",
      "plt.savefig(\"Reboot_SCurves_RADDvIP_95CI.png\", format='png', dpi=600)\n",
      "plt.savefig(\"Reboot_SCurves_RADDvIP_95CI.svg\", rasterized=True, dpi=600)\n",
      "plt.savefig(\"Reboot_SCurves_RADDvIP_95CI.pdf\", rasterized=True, dpi=600)"
     ],
     "language": "python",
     "metadata": {},
     "outputs": [
      {
       "metadata": {},
       "output_type": "display_data",
       "png": "[encoded data removed]",
       "text": [
        "<matplotlib.figure.Figure at 0x7f21ca408050>"
       ]
      }
     ],
     "prompt_number": 19
    },
    {
     "cell_type": "code",
     "collapsed": false,
     "input": [
      "rtvec=[rtbx,rtradd,rt_ip]\n",
      "rterr=[rtbx_ci,rtradd_ci,rt_ip_ci]\n",
      "\n",
      "colors=['#34495E','#1ABC9C', \"#E74C3C\"]\n",
      "labels=['Data', 'RADD', 'IP']\n",
      "\n",
      "f, ax=plt.subplots(1, figsize=(5, 5))\n",
      "\n",
      "x=[0,1,2]; ylim=(.55, .57)\n",
      "\n",
      "ax.bar(x, rtvec, yerr=rterr, color=colors, error_kw={\"elinewidth\":2.5, \"ecolor\":'k'}, width=.63, align='center', edgecolor=colors)  \n",
      "\n",
      "plt.setp(ax, xlim=(-.5, 2.5), ylim=ylim, yticks=ylim, xticks=x)\n",
      "ax.set_xticklabels(labels, fontsize=25)\n",
      "plt.setp(ax.get_yticklabels(), fontsize=25)\n",
      "ax.set_ylabel('RT (s)', fontsize=25) \n",
      "\n",
      "sns.despine()\n",
      "plt.tight_layout()\n",
      "plt.savefig(\"Reboot_RT_RADDvIP_95CI.png\", format='png', dpi=600)\n",
      "plt.savefig(\"Reboot_RT_RADDvIP_95CI.svg\", rasterized=True, dpi=600)\n",
      "plt.savefig(\"Reboot_RT_RADDvIP_95CI.pdf\", rasterized=True, dpi=600)"
     ],
     "language": "python",
     "metadata": {},
     "outputs": [
      {
       "metadata": {},
       "output_type": "display_data",
       "png": "[encoded data removed]",
       "text": [
        "<matplotlib.figure.Figure at 0x7f21c9d62790>"
       ]
      }
     ],
     "prompt_number": 21
    },
    {
     "cell_type": "code",
     "collapsed": false,
     "input": [],
     "language": "python",
     "metadata": {},
     "outputs": []
    }
   ],
   "metadata": {}
  }
 ]
}