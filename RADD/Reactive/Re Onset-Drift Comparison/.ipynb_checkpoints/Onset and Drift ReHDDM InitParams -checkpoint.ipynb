{
 "metadata": {
  "name": "",
  "signature": "sha256:1abec6ae68567e95e1cf90b2a42803a92c33d5b61b108f6e6abd47ccba61426d"
 },
 "nbformat": 3,
 "nbformat_minor": 0,
 "worksheets": [
  {
   "cells": [
    {
     "cell_type": "code",
     "collapsed": false,
     "input": [
      "from __future__ import division\n",
      "import pandas as pd\n",
      "from radd import fitre, utils, vis, lcfit\n",
      "from lmfit import Parameters, Minimizer\n",
      "import seaborn as sns"
     ],
     "language": "python",
     "metadata": {},
     "outputs": [],
     "prompt_number": 1
    },
    {
     "cell_type": "code",
     "collapsed": false,
     "input": [
      "pth=utils.find_path()\n",
      "redata_bsl=pd.read_csv(pth+\"DataFiles/ReBSL_Data.csv\", index_col=0)\n",
      "redata_pnl=pd.read_csv(pth+\"DataFiles/RePNL_Data.csv\", index_col=0)"
     ],
     "language": "python",
     "metadata": {},
     "outputs": [],
     "prompt_number": 2
    },
    {
     "cell_type": "heading",
     "level": 1,
     "metadata": {},
     "source": [
      "Load and Format Init Parameters from HDDM V-Bias Models"
     ]
    },
    {
     "cell_type": "code",
     "collapsed": false,
     "input": [
      "tbias_sxparams=pd.read_csv(pth+\"HDDM/Reactive/tbias/novar/ReHDDM_tbias_params.csv\", index_col=0)\n",
      "bsl_tinits=tbias_sxparams.mean().to_dict()\n",
      "pnl_tinits=tbias_sxparams.mean().to_dict()\n",
      "tlist=['t(bsl)', 't(pnl)']\n",
      "for i, inits in enumerate([bsl_tinits, pnl_tinits]):\n",
      "    \n",
      "    del inits['tdiff']\n",
      "    \n",
      "    for param in inits.keys():\n",
      "        if param==tlist[i]:\n",
      "            inits['t']=inits[param]\n",
      "    \n",
      "    for param in inits.keys():\n",
      "        if '(' in param:\n",
      "            del inits[param]\n",
      "\n",
      "    inits['ssv']=-1"
     ],
     "language": "python",
     "metadata": {},
     "outputs": [],
     "prompt_number": 3
    },
    {
     "cell_type": "code",
     "collapsed": false,
     "input": [
      "vbias_sxparams=pd.read_csv(\"/home/kyle/Dropbox/CoAx/SS/ParamFiles/ReHDDM_vbias_params.csv\", index_col=0)\n",
      "\n",
      "bsl_vinits=vbias_sxparams.mean().to_dict()\n",
      "pnl_vinits=vbias_sxparams.mean().to_dict()\n",
      "\n",
      "vlist=['v(bsl)', 'v(pnl)']\n",
      "\n",
      "for i, inits in enumerate([bsl_vinits, pnl_vinits]):\n",
      "    \n",
      "    del inits['vdiff']\n",
      "    \n",
      "    for param in inits.keys():\n",
      "        if param==vlist[i]:\n",
      "            inits['v']=inits[param]\n",
      "    \n",
      "    for param in inits.keys():\n",
      "        if '(' in param:\n",
      "            del inits[param]\n",
      "\n",
      "    inits['ssv']=-1"
     ],
     "language": "python",
     "metadata": {},
     "outputs": [],
     "prompt_number": 4
    },
    {
     "cell_type": "code",
     "collapsed": false,
     "input": [
      "pd.Series(bsl_vinits).to_csv(pth+\"FitFiles/ReBSL_HDDM-vBias_Inits.csv\")\n",
      "pd.Series(pnl_vinits).to_csv(pth+\"FitFiles/RePNL_HDDM-vBias_Inits.csv\")\n",
      "pd.Series(bsl_tinits).to_csv(pth+\"FitFiles/ReBSL_HDDM-tBias_Inits.csv\")\n",
      "pd.Series(pnl_tinits).to_csv(pth+\"FitFiles/RePNL_HDDM-tBias_Inits.csv\")"
     ],
     "language": "python",
     "metadata": {},
     "outputs": [],
     "prompt_number": 5
    },
    {
     "cell_type": "heading",
     "level": 1,
     "metadata": {},
     "source": [
      "ReBSL Flat Fits (For init)"
     ]
    },
    {
     "cell_type": "code",
     "collapsed": false,
     "input": [
      "#os.mkdir(pth+\"FitFiles/Re_FlatInit\")\n",
      "os.chdir(pth+\"FitFiles/Re_FlatInit\")\n",
      "\n",
      "bsl_vinits=pd.read_csv(pth+\"FitFiles/ReBSL_HDDM-vBias_Inits.csv\", index_col=0, names=['mean'])\n",
      "bsl_tinits=pd.read_csv(pth+\"FitFiles/ReBSL_HDDM-tBias_Inits.csv\", index_col=0, names=['mean'])\n",
      "\n",
      "bsl_vi=bsl_vinits.to_dict()['mean']\n",
      "bsl_ti=bsl_tinits.to_dict()['mean']\n",
      "\n",
      "new_inits={k:(bsl_vi[k]+bsl_ti[k])/2 for k in bsl_vi.keys()}\n",
      "pd.Series(new_inits).to_csv(pth+\"FitFiles/ReBSL_HDDM-AvgTV_Inits.csv\")"
     ],
     "language": "python",
     "metadata": {},
     "outputs": [],
     "prompt_number": 6
    },
    {
     "cell_type": "code",
     "collapsed": false,
     "input": [
      "bsl_fits=fitre.fit_reactive_data(data=redata_bsl, inits=new_inits, simfx='lc', save_path = \"./reflat_inits_\", ftol=1.e-3, xtol=1.e-3)"
     ],
     "language": "python",
     "metadata": {},
     "outputs": []
    }
   ],
   "metadata": {}
  }
 ]
}