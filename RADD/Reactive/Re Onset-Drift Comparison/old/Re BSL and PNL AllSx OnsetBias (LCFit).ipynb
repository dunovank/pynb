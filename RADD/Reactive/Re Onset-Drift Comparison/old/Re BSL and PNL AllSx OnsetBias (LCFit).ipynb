{
 "metadata": {
  "name": "",
  "signature": "sha256:3b788cd407b365690f94849228118a8869fea715c0cb0d775bcfb9bab0f9e345"
 },
 "nbformat": 3,
 "nbformat_minor": 0,
 "worksheets": [
  {
   "cells": [
    {
     "cell_type": "code",
     "collapsed": false,
     "input": [
      "from __future__ import division\n",
      "import pandas as pd\n",
      "from radd import fitre, utils, vis, lcfit\n",
      "from lmfit import Parameters, Minimizer\n",
      "import seaborn as sns"
     ],
     "language": "python",
     "metadata": {},
     "outputs": [],
     "prompt_number": 1
    },
    {
     "cell_type": "code",
     "collapsed": false,
     "input": [
      "pth=utils.find_path()\n",
      "redata_bsl=pd.read_csv(pth+\"DataFiles/ReBSL_Data.csv\", index_col=0)\n",
      "redata_pnl=pd.read_csv(pth+\"DataFiles/RePNL_Data.csv\", index_col=0)"
     ],
     "language": "python",
     "metadata": {},
     "outputs": [],
     "prompt_number": 2
    },
    {
     "cell_type": "heading",
     "level": 1,
     "metadata": {},
     "source": [
      "Load and Format Init Parameters from HDDM TR-Bias Models"
     ]
    },
    {
     "cell_type": "code",
     "collapsed": false,
     "input": [
      "tbias_sxparams=pd.read_csv(pth+\"HDDM/Reactive/tbias/novar/ReHDDM_tbias_params.csv\", index_col=0)\n",
      "bsl_inits=tbias_sxparams.mean().to_dict()\n",
      "pnl_inits=tbias_sxparams.mean().to_dict()\n",
      "tlist=['t(bsl)', 't(pnl)']\n",
      "for i, inits in enumerate([bsl_inits, pnl_inits]):\n",
      "    \n",
      "    del inits['tdiff']\n",
      "    \n",
      "    for param in inits.keys():\n",
      "        if param==tlist[i]:\n",
      "            inits['t']=inits[param]\n",
      "    \n",
      "    for param in inits.keys():\n",
      "        if '(' in param:\n",
      "            del inits[param]\n",
      "\n",
      "    inits['ssv']=-1"
     ],
     "language": "python",
     "metadata": {},
     "outputs": [],
     "prompt_number": 3
    },
    {
     "cell_type": "heading",
     "level": 1,
     "metadata": {},
     "source": [
      "ReBSL Onset Bias Model"
     ]
    },
    {
     "cell_type": "code",
     "collapsed": false,
     "input": [
      "if not os.path.isdir(pth+\"FitFiles/Re_AllSx_OnsetBias/bsl\"):\n",
      "    os.mkdir(pth+\"FitFiles/Re_AllSx_OnsetBias/bsl\")\n",
      "os.chdir(pth+\"FitFiles/Re_AllSx_OnsetBias/bsl\")"
     ],
     "language": "python",
     "metadata": {},
     "outputs": [],
     "prompt_number": 62
    },
    {
     "cell_type": "code",
     "collapsed": false,
     "input": [
      "bsl_fits=fitre.fit_reactive_data(data=redata_bsl, inits=bsl_inits, simfx='lc', save_path = \"./rebsl_tr_\")"
     ],
     "language": "python",
     "metadata": {},
     "outputs": [
      {
       "html": [
        "\n",
        "\t\t\t<div style=\"border: 1px solid black; width:500px\">\n",
        "\t\t\t<div id=\"89fe2b0e-9159-4674-9288-ed4c164cec95\" style=\"background-color:#009B76; width:0%\">&nbsp;</div>\n",
        "\t\t\t</div> \n",
        "\t\t\t"
       ],
       "metadata": {},
       "output_type": "display_data",
       "text": [
        "<IPython.core.display.HTML at 0x7f142a130fd0>"
       ]
      },
      {
       "output_type": "stream",
       "stream": "stdout",
       "text": [
        "Optimization terminated successfully.\n",
        "         Current function value: 0.010803\n",
        "         Iterations: 17\n",
        "         Function evaluations: 44\n"
       ]
      },
      {
       "javascript": [
        "$('div#89fe2b0e-9159-4674-9288-ed4c164cec95').width('1.64%')"
       ],
       "metadata": {},
       "output_type": "display_data",
       "text": [
        "<IPython.core.display.Javascript at 0x7f142a05ff50>"
       ]
      },
      {
       "output_type": "stream",
       "stream": "stdout",
       "text": [
        "Optimization terminated successfully.\n",
        "         Current function value: 0.035863\n",
        "         Iterations: 31\n",
        "         Function evaluations: 61\n"
       ]
      },
      {
       "javascript": [
        "$('div#89fe2b0e-9159-4674-9288-ed4c164cec95').width('3.28%')"
       ],
       "metadata": {},
       "output_type": "display_data",
       "text": [
        "<IPython.core.display.Javascript at 0x7f142a130b10>"
       ]
      },
      {
       "output_type": "stream",
       "stream": "stdout",
       "text": [
        "Optimization terminated successfully.\n",
        "         Current function value: 0.000022\n",
        "         Iterations: 25\n",
        "         Function evaluations: 52\n"
       ]
      },
      {
       "javascript": [
        "$('div#89fe2b0e-9159-4674-9288-ed4c164cec95').width('4.92%')"
       ],
       "metadata": {},
       "output_type": "display_data",
       "text": [
        "<IPython.core.display.Javascript at 0x7f142a05fe50>"
       ]
      },
      {
       "output_type": "stream",
       "stream": "stdout",
       "text": [
        "Optimization terminated successfully.\n",
        "         Current function value: 0.014503\n",
        "         Iterations: 23\n",
        "         Function evaluations: 55\n"
       ]
      },
      {
       "javascript": [
        "$('div#89fe2b0e-9159-4674-9288-ed4c164cec95').width('6.56%')"
       ],
       "metadata": {},
       "output_type": "display_data",
       "text": [
        "<IPython.core.display.Javascript at 0x7f142a05f610>"
       ]
      },
      {
       "output_type": "stream",
       "stream": "stdout",
       "text": [
        "Optimization terminated successfully.\n",
        "         Current function value: 0.007940\n",
        "         Iterations: 21\n",
        "         Function evaluations: 45\n"
       ]
      },
      {
       "javascript": [
        "$('div#89fe2b0e-9159-4674-9288-ed4c164cec95').width('8.20%')"
       ],
       "metadata": {},
       "output_type": "display_data",
       "text": [
        "<IPython.core.display.Javascript at 0x7f142a1c7c50>"
       ]
      },
      {
       "output_type": "stream",
       "stream": "stdout",
       "text": [
        "Optimization terminated successfully.\n",
        "         Current function value: 0.011161\n",
        "         Iterations: 25\n",
        "         Function evaluations: 56\n"
       ]
      },
      {
       "javascript": [
        "$('div#89fe2b0e-9159-4674-9288-ed4c164cec95').width('9.84%')"
       ],
       "metadata": {},
       "output_type": "display_data",
       "text": [
        "<IPython.core.display.Javascript at 0x7f142a05ffd0>"
       ]
      },
      {
       "output_type": "stream",
       "stream": "stdout",
       "text": [
        "Optimization terminated successfully.\n",
        "         Current function value: 0.003534\n",
        "         Iterations: 19\n",
        "         Function evaluations: 43\n"
       ]
      },
      {
       "javascript": [
        "$('div#89fe2b0e-9159-4674-9288-ed4c164cec95').width('11.48%')"
       ],
       "metadata": {},
       "output_type": "display_data",
       "text": [
        "<IPython.core.display.Javascript at 0x7f142a05f350>"
       ]
      },
      {
       "output_type": "stream",
       "stream": "stdout",
       "text": [
        "Optimization terminated successfully.\n",
        "         Current function value: 0.005903\n",
        "         Iterations: 16\n",
        "         Function evaluations: 39\n"
       ]
      },
      {
       "javascript": [
        "$('div#89fe2b0e-9159-4674-9288-ed4c164cec95').width('13.11%')"
       ],
       "metadata": {},
       "output_type": "display_data",
       "text": [
        "<IPython.core.display.Javascript at 0x7f142a05f810>"
       ]
      },
      {
       "output_type": "stream",
       "stream": "stdout",
       "text": [
        "Optimization terminated successfully.\n",
        "         Current function value: 0.011087\n",
        "         Iterations: 16\n",
        "         Function evaluations: 48\n"
       ]
      },
      {
       "javascript": [
        "$('div#89fe2b0e-9159-4674-9288-ed4c164cec95').width('14.75%')"
       ],
       "metadata": {},
       "output_type": "display_data",
       "text": [
        "<IPython.core.display.Javascript at 0x7f142a054710>"
       ]
      },
      {
       "output_type": "stream",
       "stream": "stdout",
       "text": [
        "Optimization terminated successfully.\n",
        "         Current function value: 0.014528\n",
        "         Iterations: 31\n",
        "         Function evaluations: 84\n"
       ]
      },
      {
       "javascript": [
        "$('div#89fe2b0e-9159-4674-9288-ed4c164cec95').width('16.39%')"
       ],
       "metadata": {},
       "output_type": "display_data",
       "text": [
        "<IPython.core.display.Javascript at 0x7f142a130090>"
       ]
      },
      {
       "output_type": "stream",
       "stream": "stdout",
       "text": [
        "Optimization terminated successfully.\n",
        "         Current function value: 0.001724\n",
        "         Iterations: 20\n",
        "         Function evaluations: 49\n"
       ]
      },
      {
       "javascript": [
        "$('div#89fe2b0e-9159-4674-9288-ed4c164cec95').width('18.03%')"
       ],
       "metadata": {},
       "output_type": "display_data",
       "text": [
        "<IPython.core.display.Javascript at 0x7f142a1c7c50>"
       ]
      },
      {
       "output_type": "stream",
       "stream": "stdout",
       "text": [
        "Optimization terminated successfully.\n",
        "         Current function value: 0.003224\n",
        "         Iterations: 19\n",
        "         Function evaluations: 42\n"
       ]
      },
      {
       "javascript": [
        "$('div#89fe2b0e-9159-4674-9288-ed4c164cec95').width('19.67%')"
       ],
       "metadata": {},
       "output_type": "display_data",
       "text": [
        "<IPython.core.display.Javascript at 0x7f142a054b10>"
       ]
      },
      {
       "output_type": "stream",
       "stream": "stdout",
       "text": [
        "Optimization terminated successfully.\n",
        "         Current function value: 0.000150\n",
        "         Iterations: 31\n",
        "         Function evaluations: 62\n"
       ]
      },
      {
       "javascript": [
        "$('div#89fe2b0e-9159-4674-9288-ed4c164cec95').width('21.31%')"
       ],
       "metadata": {},
       "output_type": "display_data",
       "text": [
        "<IPython.core.display.Javascript at 0x7f142a054690>"
       ]
      },
      {
       "output_type": "stream",
       "stream": "stdout",
       "text": [
        "Optimization terminated successfully.\n",
        "         Current function value: 0.056179\n",
        "         Iterations: 39\n",
        "         Function evaluations: 97\n"
       ]
      },
      {
       "javascript": [
        "$('div#89fe2b0e-9159-4674-9288-ed4c164cec95').width('22.95%')"
       ],
       "metadata": {},
       "output_type": "display_data",
       "text": [
        "<IPython.core.display.Javascript at 0x7f142a05fc50>"
       ]
      },
      {
       "output_type": "stream",
       "stream": "stdout",
       "text": [
        "Optimization terminated successfully.\n",
        "         Current function value: 0.004178\n",
        "         Iterations: 20\n",
        "         Function evaluations: 43\n"
       ]
      },
      {
       "javascript": [
        "$('div#89fe2b0e-9159-4674-9288-ed4c164cec95').width('24.59%')"
       ],
       "metadata": {},
       "output_type": "display_data",
       "text": [
        "<IPython.core.display.Javascript at 0x7f142a130b10>"
       ]
      },
      {
       "output_type": "stream",
       "stream": "stdout",
       "text": [
        "Optimization terminated successfully.\n",
        "         Current function value: 0.008682\n",
        "         Iterations: 19\n",
        "         Function evaluations: 46\n"
       ]
      },
      {
       "javascript": [
        "$('div#89fe2b0e-9159-4674-9288-ed4c164cec95').width('26.23%')"
       ],
       "metadata": {},
       "output_type": "display_data",
       "text": [
        "<IPython.core.display.Javascript at 0x7f142a05f8d0>"
       ]
      },
      {
       "output_type": "stream",
       "stream": "stdout",
       "text": [
        "Optimization terminated successfully.\n",
        "         Current function value: 0.020303\n",
        "         Iterations: 11\n",
        "         Function evaluations: 34\n"
       ]
      },
      {
       "javascript": [
        "$('div#89fe2b0e-9159-4674-9288-ed4c164cec95').width('27.87%')"
       ],
       "metadata": {},
       "output_type": "display_data",
       "text": [
        "<IPython.core.display.Javascript at 0x7f142a1c7c50>"
       ]
      },
      {
       "output_type": "stream",
       "stream": "stdout",
       "text": [
        "Optimization terminated successfully.\n",
        "         Current function value: 0.029220\n",
        "         Iterations: 28\n",
        "         Function evaluations: 59\n"
       ]
      },
      {
       "javascript": [
        "$('div#89fe2b0e-9159-4674-9288-ed4c164cec95').width('29.51%')"
       ],
       "metadata": {},
       "output_type": "display_data",
       "text": [
        "<IPython.core.display.Javascript at 0x7f142a05f610>"
       ]
      },
      {
       "output_type": "stream",
       "stream": "stdout",
       "text": [
        "Optimization terminated successfully.\n",
        "         Current function value: 0.004889\n",
        "         Iterations: 14\n",
        "         Function evaluations: 36\n"
       ]
      },
      {
       "javascript": [
        "$('div#89fe2b0e-9159-4674-9288-ed4c164cec95').width('31.15%')"
       ],
       "metadata": {},
       "output_type": "display_data",
       "text": [
        "<IPython.core.display.Javascript at 0x7f142a054190>"
       ]
      },
      {
       "output_type": "stream",
       "stream": "stdout",
       "text": [
        "Optimization terminated successfully.\n",
        "         Current function value: 0.012311\n",
        "         Iterations: 28\n",
        "         Function evaluations: 56\n"
       ]
      },
      {
       "javascript": [
        "$('div#89fe2b0e-9159-4674-9288-ed4c164cec95').width('32.79%')"
       ],
       "metadata": {},
       "output_type": "display_data",
       "text": [
        "<IPython.core.display.Javascript at 0x7f142a05fa50>"
       ]
      },
      {
       "output_type": "stream",
       "stream": "stdout",
       "text": [
        "Optimization terminated successfully.\n",
        "         Current function value: 0.056621\n",
        "         Iterations: 41\n",
        "         Function evaluations: 82\n"
       ]
      },
      {
       "javascript": [
        "$('div#89fe2b0e-9159-4674-9288-ed4c164cec95').width('34.43%')"
       ],
       "metadata": {},
       "output_type": "display_data",
       "text": [
        "<IPython.core.display.Javascript at 0x7f142a054b10>"
       ]
      },
      {
       "output_type": "stream",
       "stream": "stdout",
       "text": [
        "Optimization terminated successfully.\n",
        "         Current function value: 0.001957\n",
        "         Iterations: 21\n",
        "         Function evaluations: 50\n"
       ]
      },
      {
       "javascript": [
        "$('div#89fe2b0e-9159-4674-9288-ed4c164cec95').width('36.07%')"
       ],
       "metadata": {},
       "output_type": "display_data",
       "text": [
        "<IPython.core.display.Javascript at 0x7f142a054b50>"
       ]
      },
      {
       "output_type": "stream",
       "stream": "stdout",
       "text": [
        "Optimization terminated successfully.\n",
        "         Current function value: 0.002563\n",
        "         Iterations: 19\n",
        "         Function evaluations: 47\n"
       ]
      },
      {
       "javascript": [
        "$('div#89fe2b0e-9159-4674-9288-ed4c164cec95').width('37.70%')"
       ],
       "metadata": {},
       "output_type": "display_data",
       "text": [
        "<IPython.core.display.Javascript at 0x7f1429ff5810>"
       ]
      },
      {
       "output_type": "stream",
       "stream": "stdout",
       "text": [
        "Optimization terminated successfully.\n",
        "         Current function value: 0.028716\n",
        "         Iterations: 29\n",
        "         Function evaluations: 67\n"
       ]
      },
      {
       "javascript": [
        "$('div#89fe2b0e-9159-4674-9288-ed4c164cec95').width('39.34%')"
       ],
       "metadata": {},
       "output_type": "display_data",
       "text": [
        "<IPython.core.display.Javascript at 0x7f1429ff5dd0>"
       ]
      },
      {
       "output_type": "stream",
       "stream": "stdout",
       "text": [
        "Optimization terminated successfully.\n",
        "         Current function value: 0.003311\n",
        "         Iterations: 20\n",
        "         Function evaluations: 46\n"
       ]
      },
      {
       "javascript": [
        "$('div#89fe2b0e-9159-4674-9288-ed4c164cec95').width('40.98%')"
       ],
       "metadata": {},
       "output_type": "display_data",
       "text": [
        "<IPython.core.display.Javascript at 0x7f1429ff5250>"
       ]
      },
      {
       "output_type": "stream",
       "stream": "stdout",
       "text": [
        "Optimization terminated successfully.\n",
        "         Current function value: 0.014595\n",
        "         Iterations: 13\n",
        "         Function evaluations: 33\n"
       ]
      },
      {
       "javascript": [
        "$('div#89fe2b0e-9159-4674-9288-ed4c164cec95').width('42.62%')"
       ],
       "metadata": {},
       "output_type": "display_data",
       "text": [
        "<IPython.core.display.Javascript at 0x7f142a054a90>"
       ]
      },
      {
       "output_type": "stream",
       "stream": "stdout",
       "text": [
        "Optimization terminated successfully.\n",
        "         Current function value: 0.002724\n",
        "         Iterations: 30\n",
        "         Function evaluations: 60\n"
       ]
      },
      {
       "javascript": [
        "$('div#89fe2b0e-9159-4674-9288-ed4c164cec95').width('44.26%')"
       ],
       "metadata": {},
       "output_type": "display_data",
       "text": [
        "<IPython.core.display.Javascript at 0x7f142a05fa50>"
       ]
      },
      {
       "output_type": "stream",
       "stream": "stdout",
       "text": [
        "Optimization terminated successfully.\n",
        "         Current function value: 0.102154\n",
        "         Iterations: 29\n",
        "         Function evaluations: 76\n"
       ]
      },
      {
       "javascript": [
        "$('div#89fe2b0e-9159-4674-9288-ed4c164cec95').width('45.90%')"
       ],
       "metadata": {},
       "output_type": "display_data",
       "text": [
        "<IPython.core.display.Javascript at 0x7f1429ff5b10>"
       ]
      },
      {
       "output_type": "stream",
       "stream": "stdout",
       "text": [
        "Optimization terminated successfully.\n",
        "         Current function value: 0.027795\n",
        "         Iterations: 17\n",
        "         Function evaluations: 45\n"
       ]
      },
      {
       "javascript": [
        "$('div#89fe2b0e-9159-4674-9288-ed4c164cec95').width('47.54%')"
       ],
       "metadata": {},
       "output_type": "display_data",
       "text": [
        "<IPython.core.display.Javascript at 0x7f1429ff58d0>"
       ]
      },
      {
       "output_type": "stream",
       "stream": "stdout",
       "text": [
        "Optimization terminated successfully.\n",
        "         Current function value: 0.016570\n",
        "         Iterations: 24\n",
        "         Function evaluations: 56\n"
       ]
      },
      {
       "javascript": [
        "$('div#89fe2b0e-9159-4674-9288-ed4c164cec95').width('49.18%')"
       ],
       "metadata": {},
       "output_type": "display_data",
       "text": [
        "<IPython.core.display.Javascript at 0x7f1429ff5c90>"
       ]
      },
      {
       "output_type": "stream",
       "stream": "stdout",
       "text": [
        "Optimization terminated successfully.\n",
        "         Current function value: 0.000982\n",
        "         Iterations: 19\n",
        "         Function evaluations: 42\n"
       ]
      },
      {
       "javascript": [
        "$('div#89fe2b0e-9159-4674-9288-ed4c164cec95').width('50.82%')"
       ],
       "metadata": {},
       "output_type": "display_data",
       "text": [
        "<IPython.core.display.Javascript at 0x7f1429ff5510>"
       ]
      },
      {
       "output_type": "stream",
       "stream": "stdout",
       "text": [
        "Optimization terminated successfully.\n",
        "         Current function value: 0.001863\n",
        "         Iterations: 23\n",
        "         Function evaluations: 55\n"
       ]
      },
      {
       "javascript": [
        "$('div#89fe2b0e-9159-4674-9288-ed4c164cec95').width('52.46%')"
       ],
       "metadata": {},
       "output_type": "display_data",
       "text": [
        "<IPython.core.display.Javascript at 0x7f1429ff5290>"
       ]
      },
      {
       "output_type": "stream",
       "stream": "stdout",
       "text": [
        "Optimization terminated successfully.\n",
        "         Current function value: 0.008454\n",
        "         Iterations: 23\n",
        "         Function evaluations: 56\n"
       ]
      },
      {
       "javascript": [
        "$('div#89fe2b0e-9159-4674-9288-ed4c164cec95').width('54.10%')"
       ],
       "metadata": {},
       "output_type": "display_data",
       "text": [
        "<IPython.core.display.Javascript at 0x7f1429fded10>"
       ]
      },
      {
       "output_type": "stream",
       "stream": "stdout",
       "text": [
        "Optimization terminated successfully.\n",
        "         Current function value: 0.001714\n",
        "         Iterations: 17\n",
        "         Function evaluations: 40\n"
       ]
      },
      {
       "javascript": [
        "$('div#89fe2b0e-9159-4674-9288-ed4c164cec95').width('55.74%')"
       ],
       "metadata": {},
       "output_type": "display_data",
       "text": [
        "<IPython.core.display.Javascript at 0x7f142a054b50>"
       ]
      },
      {
       "output_type": "stream",
       "stream": "stdout",
       "text": [
        "Optimization terminated successfully.\n",
        "         Current function value: 0.036258\n",
        "         Iterations: 30\n",
        "         Function evaluations: 70\n"
       ]
      },
      {
       "javascript": [
        "$('div#89fe2b0e-9159-4674-9288-ed4c164cec95').width('57.38%')"
       ],
       "metadata": {},
       "output_type": "display_data",
       "text": [
        "<IPython.core.display.Javascript at 0x7f1429fded50>"
       ]
      },
      {
       "output_type": "stream",
       "stream": "stdout",
       "text": [
        "Optimization terminated successfully.\n",
        "         Current function value: 0.004801\n",
        "         Iterations: 25\n",
        "         Function evaluations: 56\n"
       ]
      },
      {
       "javascript": [
        "$('div#89fe2b0e-9159-4674-9288-ed4c164cec95').width('59.02%')"
       ],
       "metadata": {},
       "output_type": "display_data",
       "text": [
        "<IPython.core.display.Javascript at 0x7f1429fde490>"
       ]
      },
      {
       "output_type": "stream",
       "stream": "stdout",
       "text": [
        "Optimization terminated successfully.\n",
        "         Current function value: 0.072022\n",
        "         Iterations: 49\n",
        "         Function evaluations: 126\n"
       ]
      },
      {
       "javascript": [
        "$('div#89fe2b0e-9159-4674-9288-ed4c164cec95').width('60.66%')"
       ],
       "metadata": {},
       "output_type": "display_data",
       "text": [
        "<IPython.core.display.Javascript at 0x7f1429fde2d0>"
       ]
      },
      {
       "output_type": "stream",
       "stream": "stdout",
       "text": [
        "Optimization terminated successfully.\n",
        "         Current function value: 0.017566\n",
        "         Iterations: 23\n",
        "         Function evaluations: 46\n"
       ]
      },
      {
       "javascript": [
        "$('div#89fe2b0e-9159-4674-9288-ed4c164cec95').width('62.30%')"
       ],
       "metadata": {},
       "output_type": "display_data",
       "text": [
        "<IPython.core.display.Javascript at 0x7f1429ff5190>"
       ]
      },
      {
       "output_type": "stream",
       "stream": "stdout",
       "text": [
        "Optimization terminated successfully.\n",
        "         Current function value: 0.002822\n",
        "         Iterations: 23\n",
        "         Function evaluations: 52\n"
       ]
      },
      {
       "javascript": [
        "$('div#89fe2b0e-9159-4674-9288-ed4c164cec95').width('63.93%')"
       ],
       "metadata": {},
       "output_type": "display_data",
       "text": [
        "<IPython.core.display.Javascript at 0x7f1429fde610>"
       ]
      },
      {
       "output_type": "stream",
       "stream": "stdout",
       "text": [
        "Optimization terminated successfully.\n",
        "         Current function value: 0.009860\n",
        "         Iterations: 31\n",
        "         Function evaluations: 62\n"
       ]
      },
      {
       "javascript": [
        "$('div#89fe2b0e-9159-4674-9288-ed4c164cec95').width('65.57%')"
       ],
       "metadata": {},
       "output_type": "display_data",
       "text": [
        "<IPython.core.display.Javascript at 0x7f1429fdee10>"
       ]
      },
      {
       "output_type": "stream",
       "stream": "stdout",
       "text": [
        "Optimization terminated successfully.\n",
        "         Current function value: 0.016622\n",
        "         Iterations: 26\n",
        "         Function evaluations: 68\n"
       ]
      },
      {
       "javascript": [
        "$('div#89fe2b0e-9159-4674-9288-ed4c164cec95').width('67.21%')"
       ],
       "metadata": {},
       "output_type": "display_data",
       "text": [
        "<IPython.core.display.Javascript at 0x7f142a05fa50>"
       ]
      },
      {
       "output_type": "stream",
       "stream": "stdout",
       "text": [
        "Optimization terminated successfully.\n",
        "         Current function value: 0.004537\n",
        "         Iterations: 26\n",
        "         Function evaluations: 57\n"
       ]
      },
      {
       "javascript": [
        "$('div#89fe2b0e-9159-4674-9288-ed4c164cec95').width('68.85%')"
       ],
       "metadata": {},
       "output_type": "display_data",
       "text": [
        "<IPython.core.display.Javascript at 0x7f1429fded10>"
       ]
      },
      {
       "output_type": "stream",
       "stream": "stdout",
       "text": [
        "Optimization terminated successfully.\n",
        "         Current function value: 0.000319\n",
        "         Iterations: 20\n",
        "         Function evaluations: 40\n"
       ]
      },
      {
       "javascript": [
        "$('div#89fe2b0e-9159-4674-9288-ed4c164cec95').width('70.49%')"
       ],
       "metadata": {},
       "output_type": "display_data",
       "text": [
        "<IPython.core.display.Javascript at 0x7f1429fde8d0>"
       ]
      },
      {
       "output_type": "stream",
       "stream": "stdout",
       "text": [
        "Optimization terminated successfully.\n",
        "         Current function value: 0.014027\n",
        "         Iterations: 23\n",
        "         Function evaluations: 50\n"
       ]
      },
      {
       "javascript": [
        "$('div#89fe2b0e-9159-4674-9288-ed4c164cec95').width('72.13%')"
       ],
       "metadata": {},
       "output_type": "display_data",
       "text": [
        "<IPython.core.display.Javascript at 0x7f1429ff5810>"
       ]
      },
      {
       "output_type": "stream",
       "stream": "stdout",
       "text": [
        "Optimization terminated successfully.\n",
        "         Current function value: 0.007792\n",
        "         Iterations: 29\n",
        "         Function evaluations: 63\n"
       ]
      },
      {
       "javascript": [
        "$('div#89fe2b0e-9159-4674-9288-ed4c164cec95').width('73.77%')"
       ],
       "metadata": {},
       "output_type": "display_data",
       "text": [
        "<IPython.core.display.Javascript at 0x7f1429fde610>"
       ]
      },
      {
       "output_type": "stream",
       "stream": "stdout",
       "text": [
        "Optimization terminated successfully.\n",
        "         Current function value: 0.000111\n",
        "         Iterations: 32\n",
        "         Function evaluations: 61\n"
       ]
      },
      {
       "javascript": [
        "$('div#89fe2b0e-9159-4674-9288-ed4c164cec95').width('75.41%')"
       ],
       "metadata": {},
       "output_type": "display_data",
       "text": [
        "<IPython.core.display.Javascript at 0x7f142a076250>"
       ]
      },
      {
       "output_type": "stream",
       "stream": "stdout",
       "text": [
        "Optimization terminated successfully.\n",
        "         Current function value: 0.000343\n",
        "         Iterations: 39\n",
        "         Function evaluations: 74\n"
       ]
      },
      {
       "javascript": [
        "$('div#89fe2b0e-9159-4674-9288-ed4c164cec95').width('77.05%')"
       ],
       "metadata": {},
       "output_type": "display_data",
       "text": [
        "<IPython.core.display.Javascript at 0x7f142a054e50>"
       ]
      },
      {
       "output_type": "stream",
       "stream": "stdout",
       "text": [
        "Optimization terminated successfully.\n",
        "         Current function value: 0.014592\n",
        "         Iterations: 17\n",
        "         Function evaluations: 45\n"
       ]
      },
      {
       "javascript": [
        "$('div#89fe2b0e-9159-4674-9288-ed4c164cec95').width('78.69%')"
       ],
       "metadata": {},
       "output_type": "display_data",
       "text": [
        "<IPython.core.display.Javascript at 0x7f1429fdecd0>"
       ]
      },
      {
       "output_type": "stream",
       "stream": "stdout",
       "text": [
        "Optimization terminated successfully.\n",
        "         Current function value: 0.000840\n",
        "         Iterations: 22\n",
        "         Function evaluations: 45\n"
       ]
      },
      {
       "javascript": [
        "$('div#89fe2b0e-9159-4674-9288-ed4c164cec95').width('80.33%')"
       ],
       "metadata": {},
       "output_type": "display_data",
       "text": [
        "<IPython.core.display.Javascript at 0x7f142a076250>"
       ]
      },
      {
       "output_type": "stream",
       "stream": "stdout",
       "text": [
        "Optimization terminated successfully.\n",
        "         Current function value: 0.003857\n",
        "         Iterations: 15\n",
        "         Function evaluations: 40\n"
       ]
      },
      {
       "javascript": [
        "$('div#89fe2b0e-9159-4674-9288-ed4c164cec95').width('81.97%')"
       ],
       "metadata": {},
       "output_type": "display_data",
       "text": [
        "<IPython.core.display.Javascript at 0x7f1429ff5190>"
       ]
      },
      {
       "output_type": "stream",
       "stream": "stdout",
       "text": [
        "Optimization terminated successfully.\n",
        "         Current function value: 0.004341\n",
        "         Iterations: 29\n",
        "         Function evaluations: 61\n"
       ]
      },
      {
       "javascript": [
        "$('div#89fe2b0e-9159-4674-9288-ed4c164cec95').width('83.61%')"
       ],
       "metadata": {},
       "output_type": "display_data",
       "text": [
        "<IPython.core.display.Javascript at 0x7f142a054e50>"
       ]
      },
      {
       "output_type": "stream",
       "stream": "stdout",
       "text": [
        "Optimization terminated successfully.\n",
        "         Current function value: 0.002366\n",
        "         Iterations: 20\n",
        "         Function evaluations: 50\n"
       ]
      },
      {
       "javascript": [
        "$('div#89fe2b0e-9159-4674-9288-ed4c164cec95').width('85.25%')"
       ],
       "metadata": {},
       "output_type": "display_data",
       "text": [
        "<IPython.core.display.Javascript at 0x7f1429fde790>"
       ]
      },
      {
       "output_type": "stream",
       "stream": "stdout",
       "text": [
        "Optimization terminated successfully.\n",
        "         Current function value: 0.023597\n",
        "         Iterations: 15\n",
        "         Function evaluations: 37\n"
       ]
      },
      {
       "javascript": [
        "$('div#89fe2b0e-9159-4674-9288-ed4c164cec95').width('86.89%')"
       ],
       "metadata": {},
       "output_type": "display_data",
       "text": [
        "<IPython.core.display.Javascript at 0x7f142a0541d0>"
       ]
      },
      {
       "output_type": "stream",
       "stream": "stdout",
       "text": [
        "Optimization terminated successfully.\n",
        "         Current function value: 0.001380\n",
        "         Iterations: 35\n",
        "         Function evaluations: 73\n"
       ]
      },
      {
       "javascript": [
        "$('div#89fe2b0e-9159-4674-9288-ed4c164cec95').width('88.52%')"
       ],
       "metadata": {},
       "output_type": "display_data",
       "text": [
        "<IPython.core.display.Javascript at 0x7f1429ff5510>"
       ]
      },
      {
       "output_type": "stream",
       "stream": "stdout",
       "text": [
        "Optimization terminated successfully.\n",
        "         Current function value: 0.005091\n",
        "         Iterations: 23\n",
        "         Function evaluations: 50\n"
       ]
      },
      {
       "javascript": [
        "$('div#89fe2b0e-9159-4674-9288-ed4c164cec95').width('90.16%')"
       ],
       "metadata": {},
       "output_type": "display_data",
       "text": [
        "<IPython.core.display.Javascript at 0x7f1429fde490>"
       ]
      },
      {
       "output_type": "stream",
       "stream": "stdout",
       "text": [
        "Optimization terminated successfully.\n",
        "         Current function value: 0.005250\n",
        "         Iterations: 26\n",
        "         Function evaluations: 57\n"
       ]
      },
      {
       "javascript": [
        "$('div#89fe2b0e-9159-4674-9288-ed4c164cec95').width('91.80%')"
       ],
       "metadata": {},
       "output_type": "display_data",
       "text": [
        "<IPython.core.display.Javascript at 0x7f142a016ed0>"
       ]
      },
      {
       "output_type": "stream",
       "stream": "stdout",
       "text": [
        "Optimization terminated successfully.\n",
        "         Current function value: 0.020397\n",
        "         Iterations: 17\n",
        "         Function evaluations: 44\n"
       ]
      },
      {
       "javascript": [
        "$('div#89fe2b0e-9159-4674-9288-ed4c164cec95').width('93.44%')"
       ],
       "metadata": {},
       "output_type": "display_data",
       "text": [
        "<IPython.core.display.Javascript at 0x7f142a016f10>"
       ]
      },
      {
       "output_type": "stream",
       "stream": "stdout",
       "text": [
        "Optimization terminated successfully.\n",
        "         Current function value: 0.000123\n",
        "         Iterations: 25\n",
        "         Function evaluations: 54\n"
       ]
      },
      {
       "javascript": [
        "$('div#89fe2b0e-9159-4674-9288-ed4c164cec95').width('95.08%')"
       ],
       "metadata": {},
       "output_type": "display_data",
       "text": [
        "<IPython.core.display.Javascript at 0x7f142a016fd0>"
       ]
      },
      {
       "output_type": "stream",
       "stream": "stdout",
       "text": [
        "Optimization terminated successfully.\n",
        "         Current function value: 0.035508\n",
        "         Iterations: 19\n",
        "         Function evaluations: 49\n"
       ]
      },
      {
       "javascript": [
        "$('div#89fe2b0e-9159-4674-9288-ed4c164cec95').width('96.72%')"
       ],
       "metadata": {},
       "output_type": "display_data",
       "text": [
        "<IPython.core.display.Javascript at 0x7f1429ff5810>"
       ]
      },
      {
       "output_type": "stream",
       "stream": "stdout",
       "text": [
        "Optimization terminated successfully.\n",
        "         Current function value: 0.004769\n",
        "         Iterations: 27\n",
        "         Function evaluations: 55\n"
       ]
      },
      {
       "javascript": [
        "$('div#89fe2b0e-9159-4674-9288-ed4c164cec95').width('98.36%')"
       ],
       "metadata": {},
       "output_type": "display_data",
       "text": [
        "<IPython.core.display.Javascript at 0x7f142a0166d0>"
       ]
      },
      {
       "output_type": "stream",
       "stream": "stdout",
       "text": [
        "Optimization terminated successfully.\n",
        "         Current function value: 0.001916\n",
        "         Iterations: 33\n",
        "         Function evaluations: 67\n"
       ]
      },
      {
       "javascript": [
        "$('div#89fe2b0e-9159-4674-9288-ed4c164cec95').width('100.00%')"
       ],
       "metadata": {},
       "output_type": "display_data",
       "text": [
        "<IPython.core.display.Javascript at 0x7f142a016c50>"
       ]
      }
     ],
     "prompt_number": 50
    },
    {
     "cell_type": "heading",
     "level": 1,
     "metadata": {},
     "source": [
      "RePNL Onset Bias Model (TR Free, A,V,Z Fixed at Opt BSL Values)"
     ]
    },
    {
     "cell_type": "code",
     "collapsed": false,
     "input": [
      "if not os.path.isdir(pth+\"FitFiles/Re_AllSx_OnsetBias/pnl\"):\n",
      "    os.mkdir(pth+\"FitFiles/Re_AllSx_OnsetBias/pnl\")\n",
      "os.chdir(pth+\"FitFiles/Re_AllSx_OnsetBias/pnl\")"
     ],
     "language": "python",
     "metadata": {},
     "outputs": [],
     "prompt_number": 94
    },
    {
     "cell_type": "code",
     "collapsed": false,
     "input": [
      "# init each subject at opt bsl values, \n",
      "# pass to init arg as nested dictionary {sx:{a:###, 'v':###, 't': ###, 'z':###}}\n",
      "bsl_popt=pd.read_csv(pth+\"FitFiles/Re_AllSx_OnsetBias/bsl/rebsl_tr_popt_all.csv\", index_col=0)\n",
      "nested_pnl_inits=bsl_popt.T.to_dict()\n",
      "\n",
      "# fit model holding all parameters constant except for onset time (t)\n",
      "pnl_fits=fitre.fit_reactive_data(data=redata_pnl, inits=nested_pnl_inits, all_params=0, depends=['t'], simfx='lc', ntrials=2000, save_path=\"./repnl_tr_\")"
     ],
     "language": "python",
     "metadata": {},
     "outputs": [
      {
       "html": [
        "\n",
        "\t\t\t<div style=\"border: 1px solid black; width:500px\">\n",
        "\t\t\t<div id=\"f9d9ab1a-04cd-449c-95fd-11079b19a862\" style=\"background-color:#009B76; width:0%\">&nbsp;</div>\n",
        "\t\t\t</div> \n",
        "\t\t\t"
       ],
       "metadata": {},
       "output_type": "display_data",
       "text": [
        "<IPython.core.display.HTML at 0x7f1429ff5a10>"
       ]
      },
      {
       "output_type": "stream",
       "stream": "stdout",
       "text": [
        "Optimization terminated successfully.\n",
        "         Current function value: 0.013045\n",
        "         Iterations: 3\n",
        "         Function evaluations: 6\n"
       ]
      },
      {
       "javascript": [
        "$('div#f9d9ab1a-04cd-449c-95fd-11079b19a862').width('1.64%')"
       ],
       "metadata": {},
       "output_type": "display_data",
       "text": [
        "<IPython.core.display.Javascript at 0x7f142a016490>"
       ]
      },
      {
       "output_type": "stream",
       "stream": "stdout",
       "text": [
        "Optimization terminated successfully.\n",
        "         Current function value: 0.040792\n",
        "         Iterations: 2\n",
        "         Function evaluations: 4\n"
       ]
      },
      {
       "javascript": [
        "$('div#f9d9ab1a-04cd-449c-95fd-11079b19a862').width('3.28%')"
       ],
       "metadata": {},
       "output_type": "display_data",
       "text": [
        "<IPython.core.display.Javascript at 0x7f1429fde650>"
       ]
      },
      {
       "output_type": "stream",
       "stream": "stdout",
       "text": [
        "Optimization terminated successfully.\n",
        "         Current function value: 0.062156\n",
        "         Iterations: 2\n",
        "         Function evaluations: 4\n"
       ]
      },
      {
       "javascript": [
        "$('div#f9d9ab1a-04cd-449c-95fd-11079b19a862').width('4.92%')"
       ],
       "metadata": {},
       "output_type": "display_data",
       "text": [
        "<IPython.core.display.Javascript at 0x7f142a076fd0>"
       ]
      },
      {
       "output_type": "stream",
       "stream": "stdout",
       "text": [
        "Optimization terminated successfully.\n",
        "         Current function value: 0.015136\n",
        "         Iterations: 2\n",
        "         Function evaluations: 4\n"
       ]
      },
      {
       "javascript": [
        "$('div#f9d9ab1a-04cd-449c-95fd-11079b19a862').width('6.56%')"
       ],
       "metadata": {},
       "output_type": "display_data",
       "text": [
        "<IPython.core.display.Javascript at 0x7f142a009f10>"
       ]
      },
      {
       "output_type": "stream",
       "stream": "stdout",
       "text": [
        "Optimization terminated successfully.\n",
        "         Current function value: 0.007314\n",
        "         Iterations: 3\n",
        "         Function evaluations: 6\n"
       ]
      },
      {
       "javascript": [
        "$('div#f9d9ab1a-04cd-449c-95fd-11079b19a862').width('8.20%')"
       ],
       "metadata": {},
       "output_type": "display_data",
       "text": [
        "<IPython.core.display.Javascript at 0x7f142a009d90>"
       ]
      },
      {
       "output_type": "stream",
       "stream": "stdout",
       "text": [
        "Optimization terminated successfully.\n",
        "         Current function value: 0.013720\n",
        "         Iterations: 3\n",
        "         Function evaluations: 6\n"
       ]
      },
      {
       "javascript": [
        "$('div#f9d9ab1a-04cd-449c-95fd-11079b19a862').width('9.84%')"
       ],
       "metadata": {},
       "output_type": "display_data",
       "text": [
        "<IPython.core.display.Javascript at 0x7f142a009ad0>"
       ]
      },
      {
       "output_type": "stream",
       "stream": "stdout",
       "text": [
        "Optimization terminated successfully.\n",
        "         Current function value: 0.009972\n",
        "         Iterations: 2\n",
        "         Function evaluations: 4\n"
       ]
      },
      {
       "javascript": [
        "$('div#f9d9ab1a-04cd-449c-95fd-11079b19a862').width('11.48%')"
       ],
       "metadata": {},
       "output_type": "display_data",
       "text": [
        "<IPython.core.display.Javascript at 0x7f142a009a10>"
       ]
      },
      {
       "output_type": "stream",
       "stream": "stdout",
       "text": [
        "Optimization terminated successfully.\n",
        "         Current function value: 0.008718\n",
        "         Iterations: 2\n",
        "         Function evaluations: 4\n"
       ]
      },
      {
       "javascript": [
        "$('div#f9d9ab1a-04cd-449c-95fd-11079b19a862').width('13.11%')"
       ],
       "metadata": {},
       "output_type": "display_data",
       "text": [
        "<IPython.core.display.Javascript at 0x7f142a076610>"
       ]
      },
      {
       "output_type": "stream",
       "stream": "stdout",
       "text": [
        "Optimization terminated successfully.\n",
        "         Current function value: 0.046764\n",
        "         Iterations: 2\n",
        "         Function evaluations: 4\n"
       ]
      },
      {
       "javascript": [
        "$('div#f9d9ab1a-04cd-449c-95fd-11079b19a862').width('14.75%')"
       ],
       "metadata": {},
       "output_type": "display_data",
       "text": [
        "<IPython.core.display.Javascript at 0x7f142a009910>"
       ]
      },
      {
       "output_type": "stream",
       "stream": "stdout",
       "text": [
        "Optimization terminated successfully.\n",
        "         Current function value: 0.010503\n",
        "         Iterations: 3\n",
        "         Function evaluations: 6\n"
       ]
      },
      {
       "javascript": [
        "$('div#f9d9ab1a-04cd-449c-95fd-11079b19a862').width('16.39%')"
       ],
       "metadata": {},
       "output_type": "display_data",
       "text": [
        "<IPython.core.display.Javascript at 0x7f142a05f550>"
       ]
      },
      {
       "output_type": "stream",
       "stream": "stdout",
       "text": [
        "Optimization terminated successfully.\n",
        "         Current function value: 0.016086\n",
        "         Iterations: 3\n",
        "         Function evaluations: 6\n"
       ]
      },
      {
       "javascript": [
        "$('div#f9d9ab1a-04cd-449c-95fd-11079b19a862').width('18.03%')"
       ],
       "metadata": {},
       "output_type": "display_data",
       "text": [
        "<IPython.core.display.Javascript at 0x7f142a009c10>"
       ]
      },
      {
       "output_type": "stream",
       "stream": "stdout",
       "text": [
        "Optimization terminated successfully.\n",
        "         Current function value: 0.019640\n",
        "         Iterations: 2\n",
        "         Function evaluations: 4\n"
       ]
      },
      {
       "javascript": [
        "$('div#f9d9ab1a-04cd-449c-95fd-11079b19a862').width('19.67%')"
       ],
       "metadata": {},
       "output_type": "display_data",
       "text": [
        "<IPython.core.display.Javascript at 0x7f142a05f550>"
       ]
      },
      {
       "output_type": "stream",
       "stream": "stdout",
       "text": [
        "Optimization terminated successfully.\n",
        "         Current function value: 0.008789\n",
        "         Iterations: 2\n",
        "         Function evaluations: 4\n"
       ]
      },
      {
       "javascript": [
        "$('div#f9d9ab1a-04cd-449c-95fd-11079b19a862').width('21.31%')"
       ],
       "metadata": {},
       "output_type": "display_data",
       "text": [
        "<IPython.core.display.Javascript at 0x7f1429fdef50>"
       ]
      },
      {
       "output_type": "stream",
       "stream": "stdout",
       "text": [
        "Optimization terminated successfully.\n",
        "         Current function value: 0.010500\n",
        "         Iterations: 2\n",
        "         Function evaluations: 4\n"
       ]
      },
      {
       "javascript": [
        "$('div#f9d9ab1a-04cd-449c-95fd-11079b19a862').width('22.95%')"
       ],
       "metadata": {},
       "output_type": "display_data",
       "text": [
        "<IPython.core.display.Javascript at 0x7f1429fc5450>"
       ]
      },
      {
       "output_type": "stream",
       "stream": "stdout",
       "text": [
        "Optimization terminated successfully.\n",
        "         Current function value: 0.003836\n",
        "         Iterations: 4\n",
        "         Function evaluations: 8\n"
       ]
      },
      {
       "javascript": [
        "$('div#f9d9ab1a-04cd-449c-95fd-11079b19a862').width('24.59%')"
       ],
       "metadata": {},
       "output_type": "display_data",
       "text": [
        "<IPython.core.display.Javascript at 0x7f142a02a790>"
       ]
      },
      {
       "output_type": "stream",
       "stream": "stdout",
       "text": [
        "Optimization terminated successfully.\n",
        "         Current function value: 0.001863\n",
        "         Iterations: 3\n",
        "         Function evaluations: 6\n"
       ]
      },
      {
       "javascript": [
        "$('div#f9d9ab1a-04cd-449c-95fd-11079b19a862').width('26.23%')"
       ],
       "metadata": {},
       "output_type": "display_data",
       "text": [
        "<IPython.core.display.Javascript at 0x7f1429ff5bd0>"
       ]
      },
      {
       "output_type": "stream",
       "stream": "stdout",
       "text": [
        "Optimization terminated successfully.\n",
        "         Current function value: 0.034475\n",
        "         Iterations: 4\n",
        "         Function evaluations: 8\n"
       ]
      },
      {
       "javascript": [
        "$('div#f9d9ab1a-04cd-449c-95fd-11079b19a862').width('27.87%')"
       ],
       "metadata": {},
       "output_type": "display_data",
       "text": [
        "<IPython.core.display.Javascript at 0x7f1429fde4d0>"
       ]
      },
      {
       "output_type": "stream",
       "stream": "stdout",
       "text": [
        "Optimization terminated successfully.\n",
        "         Current function value: 0.014866\n",
        "         Iterations: 2\n",
        "         Function evaluations: 4\n"
       ]
      },
      {
       "javascript": [
        "$('div#f9d9ab1a-04cd-449c-95fd-11079b19a862').width('29.51%')"
       ],
       "metadata": {},
       "output_type": "display_data",
       "text": [
        "<IPython.core.display.Javascript at 0x7f142a009c90>"
       ]
      },
      {
       "output_type": "stream",
       "stream": "stdout",
       "text": [
        "Optimization terminated successfully.\n",
        "         Current function value: 0.011818\n",
        "         Iterations: 2\n",
        "         Function evaluations: 4\n"
       ]
      },
      {
       "javascript": [
        "$('div#f9d9ab1a-04cd-449c-95fd-11079b19a862').width('31.15%')"
       ],
       "metadata": {},
       "output_type": "display_data",
       "text": [
        "<IPython.core.display.Javascript at 0x7f1429fc5990>"
       ]
      },
      {
       "output_type": "stream",
       "stream": "stdout",
       "text": [
        "Optimization terminated successfully.\n",
        "         Current function value: 0.002793\n",
        "         Iterations: 5\n",
        "         Function evaluations: 10\n"
       ]
      },
      {
       "javascript": [
        "$('div#f9d9ab1a-04cd-449c-95fd-11079b19a862').width('32.79%')"
       ],
       "metadata": {},
       "output_type": "display_data",
       "text": [
        "<IPython.core.display.Javascript at 0x7f142a009c90>"
       ]
      },
      {
       "output_type": "stream",
       "stream": "stdout",
       "text": [
        "Optimization terminated successfully.\n",
        "         Current function value: 0.033728\n",
        "         Iterations: 3\n",
        "         Function evaluations: 6\n"
       ]
      },
      {
       "javascript": [
        "$('div#f9d9ab1a-04cd-449c-95fd-11079b19a862').width('34.43%')"
       ],
       "metadata": {},
       "output_type": "display_data",
       "text": [
        "<IPython.core.display.Javascript at 0x7f1429fdeb90>"
       ]
      },
      {
       "output_type": "stream",
       "stream": "stdout",
       "text": [
        "Optimization terminated successfully.\n",
        "         Current function value: 0.005497\n",
        "         Iterations: 3\n",
        "         Function evaluations: 6\n"
       ]
      },
      {
       "javascript": [
        "$('div#f9d9ab1a-04cd-449c-95fd-11079b19a862').width('36.07%')"
       ],
       "metadata": {},
       "output_type": "display_data",
       "text": [
        "<IPython.core.display.Javascript at 0x7f1429fc5690>"
       ]
      },
      {
       "output_type": "stream",
       "stream": "stdout",
       "text": [
        "Optimization terminated successfully.\n",
        "         Current function value: 0.017505\n",
        "         Iterations: 2\n",
        "         Function evaluations: 4\n"
       ]
      },
      {
       "javascript": [
        "$('div#f9d9ab1a-04cd-449c-95fd-11079b19a862').width('37.70%')"
       ],
       "metadata": {},
       "output_type": "display_data",
       "text": [
        "<IPython.core.display.Javascript at 0x7f1429ff5510>"
       ]
      },
      {
       "output_type": "stream",
       "stream": "stdout",
       "text": [
        "Optimization terminated successfully.\n",
        "         Current function value: 0.011643\n",
        "         Iterations: 2\n",
        "         Function evaluations: 4\n"
       ]
      },
      {
       "javascript": [
        "$('div#f9d9ab1a-04cd-449c-95fd-11079b19a862').width('39.34%')"
       ],
       "metadata": {},
       "output_type": "display_data",
       "text": [
        "<IPython.core.display.Javascript at 0x7f142a02a110>"
       ]
      },
      {
       "output_type": "stream",
       "stream": "stdout",
       "text": [
        "Optimization terminated successfully.\n",
        "         Current function value: 0.012422\n",
        "         Iterations: 4\n",
        "         Function evaluations: 8\n"
       ]
      },
      {
       "javascript": [
        "$('div#f9d9ab1a-04cd-449c-95fd-11079b19a862').width('40.98%')"
       ],
       "metadata": {},
       "output_type": "display_data",
       "text": [
        "<IPython.core.display.Javascript at 0x7f142a05f550>"
       ]
      },
      {
       "output_type": "stream",
       "stream": "stdout",
       "text": [
        "Optimization terminated successfully.\n",
        "         Current function value: 0.006709\n",
        "         Iterations: 3\n",
        "         Function evaluations: 6\n"
       ]
      },
      {
       "javascript": [
        "$('div#f9d9ab1a-04cd-449c-95fd-11079b19a862').width('42.62%')"
       ],
       "metadata": {},
       "output_type": "display_data",
       "text": [
        "<IPython.core.display.Javascript at 0x7f142a0165d0>"
       ]
      },
      {
       "output_type": "stream",
       "stream": "stdout",
       "text": [
        "Optimization terminated successfully.\n",
        "         Current function value: 0.012811\n",
        "         Iterations: 3\n",
        "         Function evaluations: 6\n"
       ]
      },
      {
       "javascript": [
        "$('div#f9d9ab1a-04cd-449c-95fd-11079b19a862').width('44.26%')"
       ],
       "metadata": {},
       "output_type": "display_data",
       "text": [
        "<IPython.core.display.Javascript at 0x7f1429fb7ad0>"
       ]
      },
      {
       "output_type": "stream",
       "stream": "stdout",
       "text": [
        "Optimization terminated successfully.\n",
        "         Current function value: 0.298213\n",
        "         Iterations: 3\n",
        "         Function evaluations: 6\n"
       ]
      },
      {
       "javascript": [
        "$('div#f9d9ab1a-04cd-449c-95fd-11079b19a862').width('45.90%')"
       ],
       "metadata": {},
       "output_type": "display_data",
       "text": [
        "<IPython.core.display.Javascript at 0x7f142a0165d0>"
       ]
      },
      {
       "output_type": "stream",
       "stream": "stdout",
       "text": [
        "Optimization terminated successfully.\n",
        "         Current function value: 0.007678\n",
        "         Iterations: 3\n",
        "         Function evaluations: 6\n"
       ]
      },
      {
       "javascript": [
        "$('div#f9d9ab1a-04cd-449c-95fd-11079b19a862').width('47.54%')"
       ],
       "metadata": {},
       "output_type": "display_data",
       "text": [
        "<IPython.core.display.Javascript at 0x7f1429fb7e50>"
       ]
      },
      {
       "output_type": "stream",
       "stream": "stdout",
       "text": [
        "Optimization terminated successfully.\n",
        "         Current function value: 0.008551\n",
        "         Iterations: 2\n",
        "         Function evaluations: 4\n"
       ]
      },
      {
       "javascript": [
        "$('div#f9d9ab1a-04cd-449c-95fd-11079b19a862').width('49.18%')"
       ],
       "metadata": {},
       "output_type": "display_data",
       "text": [
        "<IPython.core.display.Javascript at 0x7f1429fc5690>"
       ]
      },
      {
       "output_type": "stream",
       "stream": "stdout",
       "text": [
        "Optimization terminated successfully.\n",
        "         Current function value: 0.159491\n",
        "         Iterations: 4\n",
        "         Function evaluations: 8\n"
       ]
      },
      {
       "javascript": [
        "$('div#f9d9ab1a-04cd-449c-95fd-11079b19a862').width('50.82%')"
       ],
       "metadata": {},
       "output_type": "display_data",
       "text": [
        "<IPython.core.display.Javascript at 0x7f1429fb7ad0>"
       ]
      },
      {
       "output_type": "stream",
       "stream": "stdout",
       "text": [
        "Optimization terminated successfully.\n",
        "         Current function value: 0.001462\n",
        "         Iterations: 2\n",
        "         Function evaluations: 4\n"
       ]
      },
      {
       "javascript": [
        "$('div#f9d9ab1a-04cd-449c-95fd-11079b19a862').width('52.46%')"
       ],
       "metadata": {},
       "output_type": "display_data",
       "text": [
        "<IPython.core.display.Javascript at 0x7f1429fb7e90>"
       ]
      },
      {
       "output_type": "stream",
       "stream": "stdout",
       "text": [
        "Optimization terminated successfully.\n",
        "         Current function value: 0.004246\n",
        "         Iterations: 4\n",
        "         Function evaluations: 8\n"
       ]
      },
      {
       "javascript": [
        "$('div#f9d9ab1a-04cd-449c-95fd-11079b19a862').width('54.10%')"
       ],
       "metadata": {},
       "output_type": "display_data",
       "text": [
        "<IPython.core.display.Javascript at 0x7f1429fb7c10>"
       ]
      },
      {
       "output_type": "stream",
       "stream": "stdout",
       "text": [
        "Optimization terminated successfully.\n",
        "         Current function value: 0.039579\n",
        "         Iterations: 2\n",
        "         Function evaluations: 4\n"
       ]
      },
      {
       "javascript": [
        "$('div#f9d9ab1a-04cd-449c-95fd-11079b19a862').width('55.74%')"
       ],
       "metadata": {},
       "output_type": "display_data",
       "text": [
        "<IPython.core.display.Javascript at 0x7f1429fb77d0>"
       ]
      },
      {
       "output_type": "stream",
       "stream": "stdout",
       "text": [
        "Optimization terminated successfully.\n",
        "         Current function value: 0.170790\n",
        "         Iterations: 3\n",
        "         Function evaluations: 6\n"
       ]
      },
      {
       "javascript": [
        "$('div#f9d9ab1a-04cd-449c-95fd-11079b19a862').width('57.38%')"
       ],
       "metadata": {},
       "output_type": "display_data",
       "text": [
        "<IPython.core.display.Javascript at 0x7f1429fb7090>"
       ]
      },
      {
       "output_type": "stream",
       "stream": "stdout",
       "text": [
        "Optimization terminated successfully.\n",
        "         Current function value: 0.039239\n",
        "         Iterations: 3\n",
        "         Function evaluations: 6\n"
       ]
      },
      {
       "javascript": [
        "$('div#f9d9ab1a-04cd-449c-95fd-11079b19a862').width('59.02%')"
       ],
       "metadata": {},
       "output_type": "display_data",
       "text": [
        "<IPython.core.display.Javascript at 0x7f1429ff5290>"
       ]
      },
      {
       "output_type": "stream",
       "stream": "stdout",
       "text": [
        "Optimization terminated successfully.\n",
        "         Current function value: 0.014614\n",
        "         Iterations: 3\n",
        "         Function evaluations: 6\n"
       ]
      },
      {
       "javascript": [
        "$('div#f9d9ab1a-04cd-449c-95fd-11079b19a862').width('60.66%')"
       ],
       "metadata": {},
       "output_type": "display_data",
       "text": [
        "<IPython.core.display.Javascript at 0x7f1429fb7c10>"
       ]
      },
      {
       "output_type": "stream",
       "stream": "stdout",
       "text": [
        "Optimization terminated successfully.\n",
        "         Current function value: 0.007767\n",
        "         Iterations: 4\n",
        "         Function evaluations: 8\n"
       ]
      },
      {
       "javascript": [
        "$('div#f9d9ab1a-04cd-449c-95fd-11079b19a862').width('62.30%')"
       ],
       "metadata": {},
       "output_type": "display_data",
       "text": [
        "<IPython.core.display.Javascript at 0x7f1429fb7fd0>"
       ]
      },
      {
       "output_type": "stream",
       "stream": "stdout",
       "text": [
        "Optimization terminated successfully.\n",
        "         Current function value: 0.008546\n",
        "         Iterations: 4\n",
        "         Function evaluations: 8\n"
       ]
      },
      {
       "javascript": [
        "$('div#f9d9ab1a-04cd-449c-95fd-11079b19a862').width('63.93%')"
       ],
       "metadata": {},
       "output_type": "display_data",
       "text": [
        "<IPython.core.display.Javascript at 0x7f1429fb7d50>"
       ]
      },
      {
       "output_type": "stream",
       "stream": "stdout",
       "text": [
        "Optimization terminated successfully.\n",
        "         Current function value: 0.009061\n",
        "         Iterations: 2\n",
        "         Function evaluations: 4\n"
       ]
      },
      {
       "javascript": [
        "$('div#f9d9ab1a-04cd-449c-95fd-11079b19a862').width('65.57%')"
       ],
       "metadata": {},
       "output_type": "display_data",
       "text": [
        "<IPython.core.display.Javascript at 0x7f1429fb77d0>"
       ]
      },
      {
       "output_type": "stream",
       "stream": "stdout",
       "text": [
        "Optimization terminated successfully.\n",
        "         Current function value: 0.007935\n",
        "         Iterations: 2\n",
        "         Function evaluations: 4\n"
       ]
      },
      {
       "javascript": [
        "$('div#f9d9ab1a-04cd-449c-95fd-11079b19a862').width('67.21%')"
       ],
       "metadata": {},
       "output_type": "display_data",
       "text": [
        "<IPython.core.display.Javascript at 0x7f1429fb7ed0>"
       ]
      },
      {
       "output_type": "stream",
       "stream": "stdout",
       "text": [
        "Optimization terminated successfully.\n",
        "         Current function value: 0.009252\n",
        "         Iterations: 3\n",
        "         Function evaluations: 6\n"
       ]
      },
      {
       "javascript": [
        "$('div#f9d9ab1a-04cd-449c-95fd-11079b19a862').width('68.85%')"
       ],
       "metadata": {},
       "output_type": "display_data",
       "text": [
        "<IPython.core.display.Javascript at 0x7f1429fb7710>"
       ]
      },
      {
       "output_type": "stream",
       "stream": "stdout",
       "text": [
        "Optimization terminated successfully.\n",
        "         Current function value: 0.020520\n",
        "         Iterations: 2\n",
        "         Function evaluations: 4\n"
       ]
      },
      {
       "javascript": [
        "$('div#f9d9ab1a-04cd-449c-95fd-11079b19a862').width('70.49%')"
       ],
       "metadata": {},
       "output_type": "display_data",
       "text": [
        "<IPython.core.display.Javascript at 0x7f1429f8ecd0>"
       ]
      },
      {
       "output_type": "stream",
       "stream": "stdout",
       "text": [
        "Optimization terminated successfully.\n",
        "         Current function value: 0.003008\n",
        "         Iterations: 2\n",
        "         Function evaluations: 4\n"
       ]
      },
      {
       "javascript": [
        "$('div#f9d9ab1a-04cd-449c-95fd-11079b19a862').width('72.13%')"
       ],
       "metadata": {},
       "output_type": "display_data",
       "text": [
        "<IPython.core.display.Javascript at 0x7f1429f8e0d0>"
       ]
      },
      {
       "output_type": "stream",
       "stream": "stdout",
       "text": [
        "Optimization terminated successfully.\n",
        "         Current function value: 0.051649\n",
        "         Iterations: 3\n",
        "         Function evaluations: 7\n"
       ]
      },
      {
       "javascript": [
        "$('div#f9d9ab1a-04cd-449c-95fd-11079b19a862').width('73.77%')"
       ],
       "metadata": {},
       "output_type": "display_data",
       "text": [
        "<IPython.core.display.Javascript at 0x7f1429f8e650>"
       ]
      },
      {
       "output_type": "stream",
       "stream": "stdout",
       "text": [
        "Optimization terminated successfully.\n",
        "         Current function value: 0.001028\n",
        "         Iterations: 3\n",
        "         Function evaluations: 6\n"
       ]
      },
      {
       "javascript": [
        "$('div#f9d9ab1a-04cd-449c-95fd-11079b19a862').width('75.41%')"
       ],
       "metadata": {},
       "output_type": "display_data",
       "text": [
        "<IPython.core.display.Javascript at 0x7f1429fb7310>"
       ]
      },
      {
       "output_type": "stream",
       "stream": "stdout",
       "text": [
        "Optimization terminated successfully.\n",
        "         Current function value: 0.014152\n",
        "         Iterations: 2\n",
        "         Function evaluations: 4\n"
       ]
      },
      {
       "javascript": [
        "$('div#f9d9ab1a-04cd-449c-95fd-11079b19a862').width('77.05%')"
       ],
       "metadata": {},
       "output_type": "display_data",
       "text": [
        "<IPython.core.display.Javascript at 0x7f1429f8e710>"
       ]
      },
      {
       "output_type": "stream",
       "stream": "stdout",
       "text": [
        "Optimization terminated successfully.\n",
        "         Current function value: 0.000246\n",
        "         Iterations: 3\n",
        "         Function evaluations: 6\n"
       ]
      },
      {
       "javascript": [
        "$('div#f9d9ab1a-04cd-449c-95fd-11079b19a862').width('78.69%')"
       ],
       "metadata": {},
       "output_type": "display_data",
       "text": [
        "<IPython.core.display.Javascript at 0x7f1429f8e2d0>"
       ]
      },
      {
       "output_type": "stream",
       "stream": "stdout",
       "text": [
        "Optimization terminated successfully.\n",
        "         Current function value: 0.034899\n",
        "         Iterations: 3\n",
        "         Function evaluations: 6\n"
       ]
      },
      {
       "javascript": [
        "$('div#f9d9ab1a-04cd-449c-95fd-11079b19a862').width('80.33%')"
       ],
       "metadata": {},
       "output_type": "display_data",
       "text": [
        "<IPython.core.display.Javascript at 0x7f1429f8ecd0>"
       ]
      },
      {
       "output_type": "stream",
       "stream": "stdout",
       "text": [
        "Optimization terminated successfully.\n",
        "         Current function value: 0.020573\n",
        "         Iterations: 2\n",
        "         Function evaluations: 4\n"
       ]
      },
      {
       "javascript": [
        "$('div#f9d9ab1a-04cd-449c-95fd-11079b19a862').width('81.97%')"
       ],
       "metadata": {},
       "output_type": "display_data",
       "text": [
        "<IPython.core.display.Javascript at 0x7f1429f8eb50>"
       ]
      },
      {
       "output_type": "stream",
       "stream": "stdout",
       "text": [
        "Optimization terminated successfully.\n",
        "         Current function value: 0.012577\n",
        "         Iterations: 2\n",
        "         Function evaluations: 4\n"
       ]
      },
      {
       "javascript": [
        "$('div#f9d9ab1a-04cd-449c-95fd-11079b19a862').width('83.61%')"
       ],
       "metadata": {},
       "output_type": "display_data",
       "text": [
        "<IPython.core.display.Javascript at 0x7f1429fb7c10>"
       ]
      },
      {
       "output_type": "stream",
       "stream": "stdout",
       "text": [
        "Optimization terminated successfully.\n",
        "         Current function value: 0.022675\n",
        "         Iterations: 3\n",
        "         Function evaluations: 6\n"
       ]
      },
      {
       "javascript": [
        "$('div#f9d9ab1a-04cd-449c-95fd-11079b19a862').width('85.25%')"
       ],
       "metadata": {},
       "output_type": "display_data",
       "text": [
        "<IPython.core.display.Javascript at 0x7f1429fb7ed0>"
       ]
      },
      {
       "output_type": "stream",
       "stream": "stdout",
       "text": [
        "Optimization terminated successfully.\n",
        "         Current function value: 0.010762\n",
        "         Iterations: 5\n",
        "         Function evaluations: 10\n"
       ]
      },
      {
       "javascript": [
        "$('div#f9d9ab1a-04cd-449c-95fd-11079b19a862').width('86.89%')"
       ],
       "metadata": {},
       "output_type": "display_data",
       "text": [
        "<IPython.core.display.Javascript at 0x7f1429f8e110>"
       ]
      },
      {
       "output_type": "stream",
       "stream": "stdout",
       "text": [
        "Optimization terminated successfully.\n",
        "         Current function value: 0.010390\n",
        "         Iterations: 2\n",
        "         Function evaluations: 4\n"
       ]
      },
      {
       "javascript": [
        "$('div#f9d9ab1a-04cd-449c-95fd-11079b19a862').width('88.52%')"
       ],
       "metadata": {},
       "output_type": "display_data",
       "text": [
        "<IPython.core.display.Javascript at 0x7f1429f8e4d0>"
       ]
      },
      {
       "output_type": "stream",
       "stream": "stdout",
       "text": [
        "Optimization terminated successfully.\n",
        "         Current function value: 0.003074\n",
        "         Iterations: 2\n",
        "         Function evaluations: 4\n"
       ]
      },
      {
       "javascript": [
        "$('div#f9d9ab1a-04cd-449c-95fd-11079b19a862').width('90.16%')"
       ],
       "metadata": {},
       "output_type": "display_data",
       "text": [
        "<IPython.core.display.Javascript at 0x7f1429f8ea50>"
       ]
      },
      {
       "output_type": "stream",
       "stream": "stdout",
       "text": [
        "Optimization terminated successfully.\n",
        "         Current function value: 0.003409\n",
        "         Iterations: 2\n",
        "         Function evaluations: 4\n"
       ]
      },
      {
       "javascript": [
        "$('div#f9d9ab1a-04cd-449c-95fd-11079b19a862').width('91.80%')"
       ],
       "metadata": {},
       "output_type": "display_data",
       "text": [
        "<IPython.core.display.Javascript at 0x7f1429f8ed90>"
       ]
      },
      {
       "output_type": "stream",
       "stream": "stdout",
       "text": [
        "Optimization terminated successfully.\n",
        "         Current function value: 0.110378\n",
        "         Iterations: 4\n",
        "         Function evaluations: 8\n"
       ]
      },
      {
       "javascript": [
        "$('div#f9d9ab1a-04cd-449c-95fd-11079b19a862').width('93.44%')"
       ],
       "metadata": {},
       "output_type": "display_data",
       "text": [
        "<IPython.core.display.Javascript at 0x7f1429f8e650>"
       ]
      },
      {
       "output_type": "stream",
       "stream": "stdout",
       "text": [
        "Optimization terminated successfully.\n",
        "         Current function value: 0.003157\n",
        "         Iterations: 3\n",
        "         Function evaluations: 6\n"
       ]
      },
      {
       "javascript": [
        "$('div#f9d9ab1a-04cd-449c-95fd-11079b19a862').width('95.08%')"
       ],
       "metadata": {},
       "output_type": "display_data",
       "text": [
        "<IPython.core.display.Javascript at 0x7f1429f90190>"
       ]
      },
      {
       "output_type": "stream",
       "stream": "stdout",
       "text": [
        "Optimization terminated successfully.\n",
        "         Current function value: 0.010173\n",
        "         Iterations: 2\n",
        "         Function evaluations: 4\n"
       ]
      },
      {
       "javascript": [
        "$('div#f9d9ab1a-04cd-449c-95fd-11079b19a862').width('96.72%')"
       ],
       "metadata": {},
       "output_type": "display_data",
       "text": [
        "<IPython.core.display.Javascript at 0x7f1429f90d50>"
       ]
      },
      {
       "output_type": "stream",
       "stream": "stdout",
       "text": [
        "Optimization terminated successfully.\n",
        "         Current function value: 0.112228\n",
        "         Iterations: 5\n",
        "         Function evaluations: 10\n"
       ]
      },
      {
       "javascript": [
        "$('div#f9d9ab1a-04cd-449c-95fd-11079b19a862').width('98.36%')"
       ],
       "metadata": {},
       "output_type": "display_data",
       "text": [
        "<IPython.core.display.Javascript at 0x7f1429f90bd0>"
       ]
      },
      {
       "output_type": "stream",
       "stream": "stdout",
       "text": [
        "Optimization terminated successfully.\n",
        "         Current function value: 0.007412\n",
        "         Iterations: 3\n",
        "         Function evaluations: 6\n"
       ]
      },
      {
       "javascript": [
        "$('div#f9d9ab1a-04cd-449c-95fd-11079b19a862').width('100.00%')"
       ],
       "metadata": {},
       "output_type": "display_data",
       "text": [
        "<IPython.core.display.Javascript at 0x7f1429f90090>"
       ]
      }
     ],
     "prompt_number": 95
    },
    {
     "cell_type": "heading",
     "level": 1,
     "metadata": {},
     "source": [
      "RePNL Inits All Free Model"
     ]
    },
    {
     "cell_type": "code",
     "collapsed": false,
     "input": [
      "if not os.path.isdir(pth+\"FitFiles/Re_AllSx_OnsetBias/pnl_free\"):\n",
      "    os.mkdir(pth+\"FitFiles/Re_AllSx_OnsetBias/pnl_free\")\n",
      "os.chdir(pth+\"FitFiles/Re_AllSx_OnsetBias/pnl_free\")"
     ],
     "language": "python",
     "metadata": {},
     "outputs": [],
     "prompt_number": 4
    },
    {
     "cell_type": "code",
     "collapsed": false,
     "input": [
      "# init each subject at opt bsl values, \n",
      "# pass to init arg as nested dictionary {sx:{a:###, 'v':###, 't': ###, 'z':###}}\n",
      "#bsl_popt=pd.read_csv(pth+\"FitFiles/Re_AllSx_OnsetBias/bsl/rebsl_tr_popt_all.csv\", index_col=0)\n",
      "#nested_pnl_inits=bsl_popt.T.to_dict()\n",
      "\n",
      "# fit model holding all parameters constant except for onset time (t)\n",
      "pnl_fits=fitre.fit_reactive_data(data=redata_pnl, inits=pnl_inits, all_params=1, simfx='lc', ntrials = 2000, save_path=\"./repnl_free_\")"
     ],
     "language": "python",
     "metadata": {},
     "outputs": [
      {
       "html": [
        "\n",
        "\t\t\t<div style=\"border: 1px solid black; width:500px\">\n",
        "\t\t\t<div id=\"8d725302-b304-4d6b-8d69-4e9d86fa6032\" style=\"background-color:#009B76; width:0%\">&nbsp;</div>\n",
        "\t\t\t</div> \n",
        "\t\t\t"
       ],
       "metadata": {},
       "output_type": "display_data",
       "text": [
        "<IPython.core.display.HTML at 0x7f22f7c5d9d0>"
       ]
      },
      {
       "javascript": [
        "$('div#8d725302-b304-4d6b-8d69-4e9d86fa6032').width('1.64%')"
       ],
       "metadata": {},
       "output_type": "display_data",
       "text": [
        "<IPython.core.display.Javascript at 0x7f22f7c5ded0>"
       ]
      },
      {
       "javascript": [
        "$('div#8d725302-b304-4d6b-8d69-4e9d86fa6032').width('3.28%')"
       ],
       "metadata": {},
       "output_type": "display_data",
       "text": [
        "<IPython.core.display.Javascript at 0x7f22f7c5de50>"
       ]
      },
      {
       "javascript": [
        "$('div#8d725302-b304-4d6b-8d69-4e9d86fa6032').width('4.92%')"
       ],
       "metadata": {},
       "output_type": "display_data",
       "text": [
        "<IPython.core.display.Javascript at 0x7f22f7c71550>"
       ]
      },
      {
       "javascript": [
        "$('div#8d725302-b304-4d6b-8d69-4e9d86fa6032').width('6.56%')"
       ],
       "metadata": {},
       "output_type": "display_data",
       "text": [
        "<IPython.core.display.Javascript at 0x7f22f7c71950>"
       ]
      },
      {
       "javascript": [
        "$('div#8d725302-b304-4d6b-8d69-4e9d86fa6032').width('8.20%')"
       ],
       "metadata": {},
       "output_type": "display_data",
       "text": [
        "<IPython.core.display.Javascript at 0x7f22f7c71fd0>"
       ]
      },
      {
       "javascript": [
        "$('div#8d725302-b304-4d6b-8d69-4e9d86fa6032').width('9.84%')"
       ],
       "metadata": {},
       "output_type": "display_data",
       "text": [
        "<IPython.core.display.Javascript at 0x7f22f7c71650>"
       ]
      },
      {
       "javascript": [
        "$('div#8d725302-b304-4d6b-8d69-4e9d86fa6032').width('11.48%')"
       ],
       "metadata": {},
       "output_type": "display_data",
       "text": [
        "<IPython.core.display.Javascript at 0x7f22f7c714d0>"
       ]
      },
      {
       "javascript": [
        "$('div#8d725302-b304-4d6b-8d69-4e9d86fa6032').width('13.11%')"
       ],
       "metadata": {},
       "output_type": "display_data",
       "text": [
        "<IPython.core.display.Javascript at 0x7f22f7c71fd0>"
       ]
      },
      {
       "javascript": [
        "$('div#8d725302-b304-4d6b-8d69-4e9d86fa6032').width('14.75%')"
       ],
       "metadata": {},
       "output_type": "display_data",
       "text": [
        "<IPython.core.display.Javascript at 0x7f22f7c71d90>"
       ]
      },
      {
       "javascript": [
        "$('div#8d725302-b304-4d6b-8d69-4e9d86fa6032').width('16.39%')"
       ],
       "metadata": {},
       "output_type": "display_data",
       "text": [
        "<IPython.core.display.Javascript at 0x7f22f7c71cd0>"
       ]
      },
      {
       "javascript": [
        "$('div#8d725302-b304-4d6b-8d69-4e9d86fa6032').width('18.03%')"
       ],
       "metadata": {},
       "output_type": "display_data",
       "text": [
        "<IPython.core.display.Javascript at 0x7f22f7c71c10>"
       ]
      },
      {
       "javascript": [
        "$('div#8d725302-b304-4d6b-8d69-4e9d86fa6032').width('19.67%')"
       ],
       "metadata": {},
       "output_type": "display_data",
       "text": [
        "<IPython.core.display.Javascript at 0x7f22f7c5dc50>"
       ]
      },
      {
       "javascript": [
        "$('div#8d725302-b304-4d6b-8d69-4e9d86fa6032').width('21.31%')"
       ],
       "metadata": {},
       "output_type": "display_data",
       "text": [
        "<IPython.core.display.Javascript at 0x7f22f7c71d90>"
       ]
      },
      {
       "javascript": [
        "$('div#8d725302-b304-4d6b-8d69-4e9d86fa6032').width('22.95%')"
       ],
       "metadata": {},
       "output_type": "display_data",
       "text": [
        "<IPython.core.display.Javascript at 0x7f22f7c71c10>"
       ]
      },
      {
       "javascript": [
        "$('div#8d725302-b304-4d6b-8d69-4e9d86fa6032').width('24.59%')"
       ],
       "metadata": {},
       "output_type": "display_data",
       "text": [
        "<IPython.core.display.Javascript at 0x7f22f7c71610>"
       ]
      },
      {
       "javascript": [
        "$('div#8d725302-b304-4d6b-8d69-4e9d86fa6032').width('26.23%')"
       ],
       "metadata": {},
       "output_type": "display_data",
       "text": [
        "<IPython.core.display.Javascript at 0x7f22f7c16250>"
       ]
      },
      {
       "javascript": [
        "$('div#8d725302-b304-4d6b-8d69-4e9d86fa6032').width('27.87%')"
       ],
       "metadata": {},
       "output_type": "display_data",
       "text": [
        "<IPython.core.display.Javascript at 0x7f22f7c16990>"
       ]
      },
      {
       "javascript": [
        "$('div#8d725302-b304-4d6b-8d69-4e9d86fa6032').width('29.51%')"
       ],
       "metadata": {},
       "output_type": "display_data",
       "text": [
        "<IPython.core.display.Javascript at 0x7f22f7c71d90>"
       ]
      },
      {
       "javascript": [
        "$('div#8d725302-b304-4d6b-8d69-4e9d86fa6032').width('31.15%')"
       ],
       "metadata": {},
       "output_type": "display_data",
       "text": [
        "<IPython.core.display.Javascript at 0x7f22f7c71c10>"
       ]
      },
      {
       "javascript": [
        "$('div#8d725302-b304-4d6b-8d69-4e9d86fa6032').width('32.79%')"
       ],
       "metadata": {},
       "output_type": "display_data",
       "text": [
        "<IPython.core.display.Javascript at 0x7f22f7c71cd0>"
       ]
      },
      {
       "javascript": [
        "$('div#8d725302-b304-4d6b-8d69-4e9d86fa6032').width('34.43%')"
       ],
       "metadata": {},
       "output_type": "display_data",
       "text": [
        "<IPython.core.display.Javascript at 0x7f22f7c16790>"
       ]
      },
      {
       "javascript": [
        "$('div#8d725302-b304-4d6b-8d69-4e9d86fa6032').width('36.07%')"
       ],
       "metadata": {},
       "output_type": "display_data",
       "text": [
        "<IPython.core.display.Javascript at 0x7f22f7c16f50>"
       ]
      },
      {
       "javascript": [
        "$('div#8d725302-b304-4d6b-8d69-4e9d86fa6032').width('37.70%')"
       ],
       "metadata": {},
       "output_type": "display_data",
       "text": [
        "<IPython.core.display.Javascript at 0x7f22f7c16990>"
       ]
      },
      {
       "javascript": [
        "$('div#8d725302-b304-4d6b-8d69-4e9d86fa6032').width('39.34%')"
       ],
       "metadata": {},
       "output_type": "display_data",
       "text": [
        "<IPython.core.display.Javascript at 0x7f22f7c714d0>"
       ]
      },
      {
       "javascript": [
        "$('div#8d725302-b304-4d6b-8d69-4e9d86fa6032').width('40.98%')"
       ],
       "metadata": {},
       "output_type": "display_data",
       "text": [
        "<IPython.core.display.Javascript at 0x7f22f7c16c50>"
       ]
      },
      {
       "javascript": [
        "$('div#8d725302-b304-4d6b-8d69-4e9d86fa6032').width('42.62%')"
       ],
       "metadata": {},
       "output_type": "display_data",
       "text": [
        "<IPython.core.display.Javascript at 0x7f22f7c16fd0>"
       ]
      },
      {
       "javascript": [
        "$('div#8d725302-b304-4d6b-8d69-4e9d86fa6032').width('44.26%')"
       ],
       "metadata": {},
       "output_type": "display_data",
       "text": [
        "<IPython.core.display.Javascript at 0x7f22f7c16910>"
       ]
      },
      {
       "javascript": [
        "$('div#8d725302-b304-4d6b-8d69-4e9d86fa6032').width('45.90%')"
       ],
       "metadata": {},
       "output_type": "display_data",
       "text": [
        "<IPython.core.display.Javascript at 0x7f22f7c16090>"
       ]
      },
      {
       "javascript": [
        "$('div#8d725302-b304-4d6b-8d69-4e9d86fa6032').width('47.54%')"
       ],
       "metadata": {},
       "output_type": "display_data",
       "text": [
        "<IPython.core.display.Javascript at 0x7f22f7be7ed0>"
       ]
      },
      {
       "javascript": [
        "$('div#8d725302-b304-4d6b-8d69-4e9d86fa6032').width('49.18%')"
       ],
       "metadata": {},
       "output_type": "display_data",
       "text": [
        "<IPython.core.display.Javascript at 0x7f22f7be7250>"
       ]
      },
      {
       "javascript": [
        "$('div#8d725302-b304-4d6b-8d69-4e9d86fa6032').width('50.82%')"
       ],
       "metadata": {},
       "output_type": "display_data",
       "text": [
        "<IPython.core.display.Javascript at 0x7f22f7be7d10>"
       ]
      },
      {
       "javascript": [
        "$('div#8d725302-b304-4d6b-8d69-4e9d86fa6032').width('52.46%')"
       ],
       "metadata": {},
       "output_type": "display_data",
       "text": [
        "<IPython.core.display.Javascript at 0x7f22f7be7c90>"
       ]
      },
      {
       "javascript": [
        "$('div#8d725302-b304-4d6b-8d69-4e9d86fa6032').width('54.10%')"
       ],
       "metadata": {},
       "output_type": "display_data",
       "text": [
        "<IPython.core.display.Javascript at 0x7f22f7be7d50>"
       ]
      },
      {
       "javascript": [
        "$('div#8d725302-b304-4d6b-8d69-4e9d86fa6032').width('55.74%')"
       ],
       "metadata": {},
       "output_type": "display_data",
       "text": [
        "<IPython.core.display.Javascript at 0x7f22f7be77d0>"
       ]
      },
      {
       "javascript": [
        "$('div#8d725302-b304-4d6b-8d69-4e9d86fa6032').width('57.38%')"
       ],
       "metadata": {},
       "output_type": "display_data",
       "text": [
        "<IPython.core.display.Javascript at 0x7f22f7c16390>"
       ]
      },
      {
       "javascript": [
        "$('div#8d725302-b304-4d6b-8d69-4e9d86fa6032').width('59.02%')"
       ],
       "metadata": {},
       "output_type": "display_data",
       "text": [
        "<IPython.core.display.Javascript at 0x7f22f7be7e50>"
       ]
      },
      {
       "javascript": [
        "$('div#8d725302-b304-4d6b-8d69-4e9d86fa6032').width('60.66%')"
       ],
       "metadata": {},
       "output_type": "display_data",
       "text": [
        "<IPython.core.display.Javascript at 0x7f22f7be7d50>"
       ]
      },
      {
       "javascript": [
        "$('div#8d725302-b304-4d6b-8d69-4e9d86fa6032').width('62.30%')"
       ],
       "metadata": {},
       "output_type": "display_data",
       "text": [
        "<IPython.core.display.Javascript at 0x7f22f7be7e90>"
       ]
      },
      {
       "javascript": [
        "$('div#8d725302-b304-4d6b-8d69-4e9d86fa6032').width('63.93%')"
       ],
       "metadata": {},
       "output_type": "display_data",
       "text": [
        "<IPython.core.display.Javascript at 0x7f22f7be7590>"
       ]
      },
      {
       "javascript": [
        "$('div#8d725302-b304-4d6b-8d69-4e9d86fa6032').width('65.57%')"
       ],
       "metadata": {},
       "output_type": "display_data",
       "text": [
        "<IPython.core.display.Javascript at 0x7f22f7be7bd0>"
       ]
      },
      {
       "javascript": [
        "$('div#8d725302-b304-4d6b-8d69-4e9d86fa6032').width('67.21%')"
       ],
       "metadata": {},
       "output_type": "display_data",
       "text": [
        "<IPython.core.display.Javascript at 0x7f22f7c16f50>"
       ]
      },
      {
       "javascript": [
        "$('div#8d725302-b304-4d6b-8d69-4e9d86fa6032').width('68.85%')"
       ],
       "metadata": {},
       "output_type": "display_data",
       "text": [
        "<IPython.core.display.Javascript at 0x7f22f7be7d50>"
       ]
      },
      {
       "javascript": [
        "$('div#8d725302-b304-4d6b-8d69-4e9d86fa6032').width('70.49%')"
       ],
       "metadata": {},
       "output_type": "display_data",
       "text": [
        "<IPython.core.display.Javascript at 0x7f22f7be7e50>"
       ]
      },
      {
       "javascript": [
        "$('div#8d725302-b304-4d6b-8d69-4e9d86fa6032').width('72.13%')"
       ],
       "metadata": {},
       "output_type": "display_data",
       "text": [
        "<IPython.core.display.Javascript at 0x7f22f7be7550>"
       ]
      },
      {
       "javascript": [
        "$('div#8d725302-b304-4d6b-8d69-4e9d86fa6032').width('73.77%')"
       ],
       "metadata": {},
       "output_type": "display_data",
       "text": [
        "<IPython.core.display.Javascript at 0x7f22f7c510d0>"
       ]
      },
      {
       "javascript": [
        "$('div#8d725302-b304-4d6b-8d69-4e9d86fa6032').width('75.41%')"
       ],
       "metadata": {},
       "output_type": "display_data",
       "text": [
        "<IPython.core.display.Javascript at 0x7f22f7c51910>"
       ]
      },
      {
       "javascript": [
        "$('div#8d725302-b304-4d6b-8d69-4e9d86fa6032').width('77.05%')"
       ],
       "metadata": {},
       "output_type": "display_data",
       "text": [
        "<IPython.core.display.Javascript at 0x7f22f7c51ad0>"
       ]
      },
      {
       "javascript": [
        "$('div#8d725302-b304-4d6b-8d69-4e9d86fa6032').width('78.69%')"
       ],
       "metadata": {},
       "output_type": "display_data",
       "text": [
        "<IPython.core.display.Javascript at 0x7f22f7c16f50>"
       ]
      },
      {
       "javascript": [
        "$('div#8d725302-b304-4d6b-8d69-4e9d86fa6032').width('80.33%')"
       ],
       "metadata": {},
       "output_type": "display_data",
       "text": [
        "<IPython.core.display.Javascript at 0x7f22f7c51f10>"
       ]
      },
      {
       "javascript": [
        "$('div#8d725302-b304-4d6b-8d69-4e9d86fa6032').width('81.97%')"
       ],
       "metadata": {},
       "output_type": "display_data",
       "text": [
        "<IPython.core.display.Javascript at 0x7f22f7be7250>"
       ]
      },
      {
       "javascript": [
        "$('div#8d725302-b304-4d6b-8d69-4e9d86fa6032').width('83.61%')"
       ],
       "metadata": {},
       "output_type": "display_data",
       "text": [
        "<IPython.core.display.Javascript at 0x7f22f7c51e50>"
       ]
      },
      {
       "javascript": [
        "$('div#8d725302-b304-4d6b-8d69-4e9d86fa6032').width('85.25%')"
       ],
       "metadata": {},
       "output_type": "display_data",
       "text": [
        "<IPython.core.display.Javascript at 0x7f22f7c51910>"
       ]
      },
      {
       "javascript": [
        "$('div#8d725302-b304-4d6b-8d69-4e9d86fa6032').width('86.89%')"
       ],
       "metadata": {},
       "output_type": "display_data",
       "text": [
        "<IPython.core.display.Javascript at 0x7f22f7c51a90>"
       ]
      },
      {
       "javascript": [
        "$('div#8d725302-b304-4d6b-8d69-4e9d86fa6032').width('88.52%')"
       ],
       "metadata": {},
       "output_type": "display_data",
       "text": [
        "<IPython.core.display.Javascript at 0x7f22f7c51cd0>"
       ]
      },
      {
       "javascript": [
        "$('div#8d725302-b304-4d6b-8d69-4e9d86fa6032').width('90.16%')"
       ],
       "metadata": {},
       "output_type": "display_data",
       "text": [
        "<IPython.core.display.Javascript at 0x7f22f7c51fd0>"
       ]
      },
      {
       "javascript": [
        "$('div#8d725302-b304-4d6b-8d69-4e9d86fa6032').width('91.80%')"
       ],
       "metadata": {},
       "output_type": "display_data",
       "text": [
        "<IPython.core.display.Javascript at 0x7f22f7c51ed0>"
       ]
      },
      {
       "javascript": [
        "$('div#8d725302-b304-4d6b-8d69-4e9d86fa6032').width('93.44%')"
       ],
       "metadata": {},
       "output_type": "display_data",
       "text": [
        "<IPython.core.display.Javascript at 0x7f22f7c51c10>"
       ]
      },
      {
       "javascript": [
        "$('div#8d725302-b304-4d6b-8d69-4e9d86fa6032').width('95.08%')"
       ],
       "metadata": {},
       "output_type": "display_data",
       "text": [
        "<IPython.core.display.Javascript at 0x7f22f7c51910>"
       ]
      },
      {
       "javascript": [
        "$('div#8d725302-b304-4d6b-8d69-4e9d86fa6032').width('96.72%')"
       ],
       "metadata": {},
       "output_type": "display_data",
       "text": [
        "<IPython.core.display.Javascript at 0x7f22f7c51a90>"
       ]
      },
      {
       "javascript": [
        "$('div#8d725302-b304-4d6b-8d69-4e9d86fa6032').width('98.36%')"
       ],
       "metadata": {},
       "output_type": "display_data",
       "text": [
        "<IPython.core.display.Javascript at 0x7f22f7c55d10>"
       ]
      },
      {
       "javascript": [
        "$('div#8d725302-b304-4d6b-8d69-4e9d86fa6032').width('100.00%')"
       ],
       "metadata": {},
       "output_type": "display_data",
       "text": [
        "<IPython.core.display.Javascript at 0x7f22f7c55e10>"
       ]
      }
     ],
     "prompt_number": 5
    },
    {
     "cell_type": "heading",
     "level": 1,
     "metadata": {},
     "source": [
      "RePNL Onset/Drift Bias Model (TR, V Free; A, Z Fixed) "
     ]
    },
    {
     "cell_type": "code",
     "collapsed": false,
     "input": [
      "if not os.path.isdir(pth+\"FitFiles/Re_AllSx_OnsetBias/pnl_tv\"):\n",
      "    os.mkdir(pth+\"FitFiles/Re_AllSx_OnsetBias/pnl_tv\")\n",
      "os.chdir(pth+\"FitFiles/Re_AllSx_OnsetBias/pnl_tv\")"
     ],
     "language": "python",
     "metadata": {},
     "outputs": [],
     "prompt_number": 6
    },
    {
     "cell_type": "code",
     "collapsed": false,
     "input": [
      "# init each subject at opt bsl values, \n",
      "# pass to init arg as nested dictionary {sx:{a:###, 'v':###, 't': ###, 'z':###}}\n",
      "bsl_popt=pd.read_csv(pth+\"FitFiles/Re_AllSx_OnsetBias/bsl/rebsl_tr_popt_all.csv\", index_col=0)\n",
      "nested_pnl_inits=bsl_popt.T.to_dict()\n",
      "\n",
      "# fit model holding all parameters constant except for onset time (t)\n",
      "pnl_fits=fitre.fit_reactive_data(data=redata_pnl, inits=nested_pnl_inits, all_params=0, depends=['t','v'], simfx='lc', ntrials=2000, save_path=\"./repnl_tv_\")"
     ],
     "language": "python",
     "metadata": {},
     "outputs": [
      {
       "html": [
        "\n",
        "\t\t\t<div style=\"border: 1px solid black; width:500px\">\n",
        "\t\t\t<div id=\"2494762d-7123-43f9-bb26-722a2d94523e\" style=\"background-color:#009B76; width:0%\">&nbsp;</div>\n",
        "\t\t\t</div> \n",
        "\t\t\t"
       ],
       "metadata": {},
       "output_type": "display_data",
       "text": [
        "<IPython.core.display.HTML at 0x7f22f7be7710>"
       ]
      },
      {
       "javascript": [
        "$('div#2494762d-7123-43f9-bb26-722a2d94523e').width('1.64%')"
       ],
       "metadata": {},
       "output_type": "display_data",
       "text": [
        "<IPython.core.display.Javascript at 0x7f22f7be7350>"
       ]
      },
      {
       "javascript": [
        "$('div#2494762d-7123-43f9-bb26-722a2d94523e').width('3.28%')"
       ],
       "metadata": {},
       "output_type": "display_data",
       "text": [
        "<IPython.core.display.Javascript at 0x7f22f7be7390>"
       ]
      },
      {
       "javascript": [
        "$('div#2494762d-7123-43f9-bb26-722a2d94523e').width('4.92%')"
       ],
       "metadata": {},
       "output_type": "display_data",
       "text": [
        "<IPython.core.display.Javascript at 0x7f22f7c169d0>"
       ]
      },
      {
       "javascript": [
        "$('div#2494762d-7123-43f9-bb26-722a2d94523e').width('6.56%')"
       ],
       "metadata": {},
       "output_type": "display_data",
       "text": [
        "<IPython.core.display.Javascript at 0x7f22f7be7a50>"
       ]
      },
      {
       "javascript": [
        "$('div#2494762d-7123-43f9-bb26-722a2d94523e').width('8.20%')"
       ],
       "metadata": {},
       "output_type": "display_data",
       "text": [
        "<IPython.core.display.Javascript at 0x7f22f7be7110>"
       ]
      },
      {
       "javascript": [
        "$('div#2494762d-7123-43f9-bb26-722a2d94523e').width('9.84%')"
       ],
       "metadata": {},
       "output_type": "display_data",
       "text": [
        "<IPython.core.display.Javascript at 0x7f22f7be7990>"
       ]
      },
      {
       "javascript": [
        "$('div#2494762d-7123-43f9-bb26-722a2d94523e').width('11.48%')"
       ],
       "metadata": {},
       "output_type": "display_data",
       "text": [
        "<IPython.core.display.Javascript at 0x7f22f7be7090>"
       ]
      },
      {
       "javascript": [
        "$('div#2494762d-7123-43f9-bb26-722a2d94523e').width('13.11%')"
       ],
       "metadata": {},
       "output_type": "display_data",
       "text": [
        "<IPython.core.display.Javascript at 0x7f22f7be7050>"
       ]
      },
      {
       "javascript": [
        "$('div#2494762d-7123-43f9-bb26-722a2d94523e').width('14.75%')"
       ],
       "metadata": {},
       "output_type": "display_data",
       "text": [
        "<IPython.core.display.Javascript at 0x7f22f7be7a50>"
       ]
      },
      {
       "javascript": [
        "$('div#2494762d-7123-43f9-bb26-722a2d94523e').width('16.39%')"
       ],
       "metadata": {},
       "output_type": "display_data",
       "text": [
        "<IPython.core.display.Javascript at 0x7f22f7c51190>"
       ]
      },
      {
       "javascript": [
        "$('div#2494762d-7123-43f9-bb26-722a2d94523e').width('18.03%')"
       ],
       "metadata": {},
       "output_type": "display_data",
       "text": [
        "<IPython.core.display.Javascript at 0x7f22f7c51690>"
       ]
      },
      {
       "javascript": [
        "$('div#2494762d-7123-43f9-bb26-722a2d94523e').width('19.67%')"
       ],
       "metadata": {},
       "output_type": "display_data",
       "text": [
        "<IPython.core.display.Javascript at 0x7f22f7be7390>"
       ]
      },
      {
       "javascript": [
        "$('div#2494762d-7123-43f9-bb26-722a2d94523e').width('21.31%')"
       ],
       "metadata": {},
       "output_type": "display_data",
       "text": [
        "<IPython.core.display.Javascript at 0x7f22f7be7990>"
       ]
      },
      {
       "javascript": [
        "$('div#2494762d-7123-43f9-bb26-722a2d94523e').width('22.95%')"
       ],
       "metadata": {},
       "output_type": "display_data",
       "text": [
        "<IPython.core.display.Javascript at 0x7f22f7c51210>"
       ]
      },
      {
       "javascript": [
        "$('div#2494762d-7123-43f9-bb26-722a2d94523e').width('24.59%')"
       ],
       "metadata": {},
       "output_type": "display_data",
       "text": [
        "<IPython.core.display.Javascript at 0x7f22f7c51150>"
       ]
      },
      {
       "javascript": [
        "$('div#2494762d-7123-43f9-bb26-722a2d94523e').width('26.23%')"
       ],
       "metadata": {},
       "output_type": "display_data",
       "text": [
        "<IPython.core.display.Javascript at 0x7f22f7c51950>"
       ]
      },
      {
       "javascript": [
        "$('div#2494762d-7123-43f9-bb26-722a2d94523e').width('27.87%')"
       ],
       "metadata": {},
       "output_type": "display_data",
       "text": [
        "<IPython.core.display.Javascript at 0x7f22f7c516d0>"
       ]
      },
      {
       "javascript": [
        "$('div#2494762d-7123-43f9-bb26-722a2d94523e').width('29.51%')"
       ],
       "metadata": {},
       "output_type": "display_data",
       "text": [
        "<IPython.core.display.Javascript at 0x7f22f7be7390>"
       ]
      },
      {
       "javascript": [
        "$('div#2494762d-7123-43f9-bb26-722a2d94523e').width('31.15%')"
       ],
       "metadata": {},
       "output_type": "display_data",
       "text": [
        "<IPython.core.display.Javascript at 0x7f22f7bafe90>"
       ]
      },
      {
       "javascript": [
        "$('div#2494762d-7123-43f9-bb26-722a2d94523e').width('32.79%')"
       ],
       "metadata": {},
       "output_type": "display_data",
       "text": [
        "<IPython.core.display.Javascript at 0x7f22f7bafb90>"
       ]
      },
      {
       "javascript": [
        "$('div#2494762d-7123-43f9-bb26-722a2d94523e').width('34.43%')"
       ],
       "metadata": {},
       "output_type": "display_data",
       "text": [
        "<IPython.core.display.Javascript at 0x7f22f7c5d650>"
       ]
      },
      {
       "javascript": [
        "$('div#2494762d-7123-43f9-bb26-722a2d94523e').width('36.07%')"
       ],
       "metadata": {},
       "output_type": "display_data",
       "text": [
        "<IPython.core.display.Javascript at 0x7f22f7c5d8d0>"
       ]
      },
      {
       "javascript": [
        "$('div#2494762d-7123-43f9-bb26-722a2d94523e').width('37.70%')"
       ],
       "metadata": {},
       "output_type": "display_data",
       "text": [
        "<IPython.core.display.Javascript at 0x7f22f7c5d550>"
       ]
      },
      {
       "javascript": [
        "$('div#2494762d-7123-43f9-bb26-722a2d94523e').width('39.34%')"
       ],
       "metadata": {},
       "output_type": "display_data",
       "text": [
        "<IPython.core.display.Javascript at 0x7f22f7c51210>"
       ]
      },
      {
       "javascript": [
        "$('div#2494762d-7123-43f9-bb26-722a2d94523e').width('40.98%')"
       ],
       "metadata": {},
       "output_type": "display_data",
       "text": [
        "<IPython.core.display.Javascript at 0x7f22f7c5d6d0>"
       ]
      },
      {
       "javascript": [
        "$('div#2494762d-7123-43f9-bb26-722a2d94523e').width('42.62%')"
       ],
       "metadata": {},
       "output_type": "display_data",
       "text": [
        "<IPython.core.display.Javascript at 0x7f22f7baf250>"
       ]
      },
      {
       "javascript": [
        "$('div#2494762d-7123-43f9-bb26-722a2d94523e').width('44.26%')"
       ],
       "metadata": {},
       "output_type": "display_data",
       "text": [
        "<IPython.core.display.Javascript at 0x7f22f7c51950>"
       ]
      },
      {
       "javascript": [
        "$('div#2494762d-7123-43f9-bb26-722a2d94523e').width('45.90%')"
       ],
       "metadata": {},
       "output_type": "display_data",
       "text": [
        "<IPython.core.display.Javascript at 0x7f22f7bafe90>"
       ]
      },
      {
       "javascript": [
        "$('div#2494762d-7123-43f9-bb26-722a2d94523e').width('47.54%')"
       ],
       "metadata": {},
       "output_type": "display_data",
       "text": [
        "<IPython.core.display.Javascript at 0x7f22f7c5dcd0>"
       ]
      },
      {
       "javascript": [
        "$('div#2494762d-7123-43f9-bb26-722a2d94523e').width('49.18%')"
       ],
       "metadata": {},
       "output_type": "display_data",
       "text": [
        "<IPython.core.display.Javascript at 0x7f22f7bafa90>"
       ]
      },
      {
       "javascript": [
        "$('div#2494762d-7123-43f9-bb26-722a2d94523e').width('50.82%')"
       ],
       "metadata": {},
       "output_type": "display_data",
       "text": [
        "<IPython.core.display.Javascript at 0x7f22f7baf250>"
       ]
      },
      {
       "javascript": [
        "$('div#2494762d-7123-43f9-bb26-722a2d94523e').width('52.46%')"
       ],
       "metadata": {},
       "output_type": "display_data",
       "text": [
        "<IPython.core.display.Javascript at 0x7f22f7baf950>"
       ]
      },
      {
       "javascript": [
        "$('div#2494762d-7123-43f9-bb26-722a2d94523e').width('54.10%')"
       ],
       "metadata": {},
       "output_type": "display_data",
       "text": [
        "<IPython.core.display.Javascript at 0x7f22f7c5d6d0>"
       ]
      },
      {
       "javascript": [
        "$('div#2494762d-7123-43f9-bb26-722a2d94523e').width('55.74%')"
       ],
       "metadata": {},
       "output_type": "display_data",
       "text": [
        "<IPython.core.display.Javascript at 0x7f22f7c51b10>"
       ]
      },
      {
       "javascript": [
        "$('div#2494762d-7123-43f9-bb26-722a2d94523e').width('57.38%')"
       ],
       "metadata": {},
       "output_type": "display_data",
       "text": [
        "<IPython.core.display.Javascript at 0x7f22f7c16ed0>"
       ]
      },
      {
       "javascript": [
        "$('div#2494762d-7123-43f9-bb26-722a2d94523e').width('59.02%')"
       ],
       "metadata": {},
       "output_type": "display_data",
       "text": [
        "<IPython.core.display.Javascript at 0x7f22f7baf390>"
       ]
      },
      {
       "javascript": [
        "$('div#2494762d-7123-43f9-bb26-722a2d94523e').width('60.66%')"
       ],
       "metadata": {},
       "output_type": "display_data",
       "text": [
        "<IPython.core.display.Javascript at 0x7f22f7be7c50>"
       ]
      },
      {
       "javascript": [
        "$('div#2494762d-7123-43f9-bb26-722a2d94523e').width('62.30%')"
       ],
       "metadata": {},
       "output_type": "display_data",
       "text": [
        "<IPython.core.display.Javascript at 0x7f22f7c161d0>"
       ]
      },
      {
       "javascript": [
        "$('div#2494762d-7123-43f9-bb26-722a2d94523e').width('63.93%')"
       ],
       "metadata": {},
       "output_type": "display_data",
       "text": [
        "<IPython.core.display.Javascript at 0x7f22f7be7f50>"
       ]
      },
      {
       "javascript": [
        "$('div#2494762d-7123-43f9-bb26-722a2d94523e').width('65.57%')"
       ],
       "metadata": {},
       "output_type": "display_data",
       "text": [
        "<IPython.core.display.Javascript at 0x7f22f7c51b10>"
       ]
      },
      {
       "javascript": [
        "$('div#2494762d-7123-43f9-bb26-722a2d94523e').width('67.21%')"
       ],
       "metadata": {},
       "output_type": "display_data",
       "text": [
        "<IPython.core.display.Javascript at 0x7f22f7be7990>"
       ]
      },
      {
       "javascript": [
        "$('div#2494762d-7123-43f9-bb26-722a2d94523e').width('68.85%')"
       ],
       "metadata": {},
       "output_type": "display_data",
       "text": [
        "<IPython.core.display.Javascript at 0x7f22f7bafe50>"
       ]
      },
      {
       "javascript": [
        "$('div#2494762d-7123-43f9-bb26-722a2d94523e').width('70.49%')"
       ],
       "metadata": {},
       "output_type": "display_data",
       "text": [
        "<IPython.core.display.Javascript at 0x7f22f7c71c10>"
       ]
      },
      {
       "javascript": [
        "$('div#2494762d-7123-43f9-bb26-722a2d94523e').width('72.13%')"
       ],
       "metadata": {},
       "output_type": "display_data",
       "text": [
        "<IPython.core.display.Javascript at 0x7f22f7be7750>"
       ]
      },
      {
       "javascript": [
        "$('div#2494762d-7123-43f9-bb26-722a2d94523e').width('73.77%')"
       ],
       "metadata": {},
       "output_type": "display_data",
       "text": [
        "<IPython.core.display.Javascript at 0x7f22f7c5d6d0>"
       ]
      },
      {
       "javascript": [
        "$('div#2494762d-7123-43f9-bb26-722a2d94523e').width('75.41%')"
       ],
       "metadata": {},
       "output_type": "display_data",
       "text": [
        "<IPython.core.display.Javascript at 0x7f22f7c55b50>"
       ]
      },
      {
       "javascript": [
        "$('div#2494762d-7123-43f9-bb26-722a2d94523e').width('77.05%')"
       ],
       "metadata": {},
       "output_type": "display_data",
       "text": [
        "<IPython.core.display.Javascript at 0x7f22f7c557d0>"
       ]
      },
      {
       "javascript": [
        "$('div#2494762d-7123-43f9-bb26-722a2d94523e').width('78.69%')"
       ],
       "metadata": {},
       "output_type": "display_data",
       "text": [
        "<IPython.core.display.Javascript at 0x7f22f7c550d0>"
       ]
      },
      {
       "javascript": [
        "$('div#2494762d-7123-43f9-bb26-722a2d94523e').width('80.33%')"
       ],
       "metadata": {},
       "output_type": "display_data",
       "text": [
        "<IPython.core.display.Javascript at 0x7f22f7be7990>"
       ]
      },
      {
       "javascript": [
        "$('div#2494762d-7123-43f9-bb26-722a2d94523e').width('81.97%')"
       ],
       "metadata": {},
       "output_type": "display_data",
       "text": [
        "<IPython.core.display.Javascript at 0x7f22f7baf390>"
       ]
      },
      {
       "javascript": [
        "$('div#2494762d-7123-43f9-bb26-722a2d94523e').width('83.61%')"
       ],
       "metadata": {},
       "output_type": "display_data",
       "text": [
        "<IPython.core.display.Javascript at 0x7f22f7c55650>"
       ]
      },
      {
       "javascript": [
        "$('div#2494762d-7123-43f9-bb26-722a2d94523e').width('85.25%')"
       ],
       "metadata": {},
       "output_type": "display_data",
       "text": [
        "<IPython.core.display.Javascript at 0x7f22f7c51150>"
       ]
      },
      {
       "javascript": [
        "$('div#2494762d-7123-43f9-bb26-722a2d94523e').width('86.89%')"
       ],
       "metadata": {},
       "output_type": "display_data",
       "text": [
        "<IPython.core.display.Javascript at 0x7f22f7c51c90>"
       ]
      },
      {
       "javascript": [
        "$('div#2494762d-7123-43f9-bb26-722a2d94523e').width('88.52%')"
       ],
       "metadata": {},
       "output_type": "display_data",
       "text": [
        "<IPython.core.display.Javascript at 0x7f22f7c5d6d0>"
       ]
      },
      {
       "javascript": [
        "$('div#2494762d-7123-43f9-bb26-722a2d94523e').width('90.16%')"
       ],
       "metadata": {},
       "output_type": "display_data",
       "text": [
        "<IPython.core.display.Javascript at 0x7f22f7c55a50>"
       ]
      },
      {
       "javascript": [
        "$('div#2494762d-7123-43f9-bb26-722a2d94523e').width('91.80%')"
       ],
       "metadata": {},
       "output_type": "display_data",
       "text": [
        "<IPython.core.display.Javascript at 0x7f22f7c557d0>"
       ]
      },
      {
       "javascript": [
        "$('div#2494762d-7123-43f9-bb26-722a2d94523e').width('93.44%')"
       ],
       "metadata": {},
       "output_type": "display_data",
       "text": [
        "<IPython.core.display.Javascript at 0x7f22f7be7990>"
       ]
      },
      {
       "javascript": [
        "$('div#2494762d-7123-43f9-bb26-722a2d94523e').width('95.08%')"
       ],
       "metadata": {},
       "output_type": "display_data",
       "text": [
        "<IPython.core.display.Javascript at 0x7f22f7c55950>"
       ]
      },
      {
       "javascript": [
        "$('div#2494762d-7123-43f9-bb26-722a2d94523e').width('96.72%')"
       ],
       "metadata": {},
       "output_type": "display_data",
       "text": [
        "<IPython.core.display.Javascript at 0x7f22f7bd9310>"
       ]
      },
      {
       "javascript": [
        "$('div#2494762d-7123-43f9-bb26-722a2d94523e').width('98.36%')"
       ],
       "metadata": {},
       "output_type": "display_data",
       "text": [
        "<IPython.core.display.Javascript at 0x7f22f7bd9b50>"
       ]
      },
      {
       "javascript": [
        "$('div#2494762d-7123-43f9-bb26-722a2d94523e').width('100.00%')"
       ],
       "metadata": {},
       "output_type": "display_data",
       "text": [
        "<IPython.core.display.Javascript at 0x7f22f7bd9e90>"
       ]
      }
     ],
     "prompt_number": 7
    },
    {
     "cell_type": "heading",
     "level": 1,
     "metadata": {},
     "source": [
      "Reactive Sx-Fitted Parameters (BSL)"
     ]
    },
    {
     "cell_type": "code",
     "collapsed": false,
     "input": [
      "# optimized parameters fit to flat group data using RaDD \n",
      "# passed to sx fitting function as initial params for each sx\n",
      "inits={'a': 0.43155063058963727, 'ssv': -0.96986662065537221, \n",
      "         't': 0.30656375144494813, 'v': 1.0366001760617101, 'z': 0.16611261860323445}\n",
      "\n",
      "#ReBSL Avg of Individual Sx Optimized RADD Parameters\n",
      "inits_opt={'a':0.4380473426, 'ssv':-0.9784438748, 't':0.3063577618, 'z':0.1664076139,'v': 1.0515686029}"
     ],
     "language": "python",
     "metadata": {},
     "outputs": []
    },
    {
     "cell_type": "code",
     "collapsed": false,
     "input": [
      "#ReBSL Avg of Individual Sx Optimized RADD Parameters\n",
      "opt={'a':0.4380473426, 'ssv':-0.9784438748, 't':0.3063577618, 'z':0.1664076139,'v': 1.0515686029}\n",
      "bsl_test=redata_bsl[redata_bsl['idx'].isin([28,29,30])]\n",
      "\n",
      "#testing out sx fitting routing with lcfit.radd for first time\n",
      "fitdf=fitre.fit_reactive_data(bsl_test, inits=opt, simfx='lc', ntrials=2000, ftol=1.e-2, xtol=1.e-2)"
     ],
     "language": "python",
     "metadata": {},
     "outputs": [],
     "prompt_number": 15
    },
    {
     "cell_type": "heading",
     "level": 1,
     "metadata": {},
     "source": [
      "Reactive Empirical Data "
     ]
    },
    {
     "cell_type": "code",
     "collapsed": false,
     "input": [
      "#Reactive Emprical Data for BSL, PNL Conditions\n",
      "reSC=[np.array([ 0.99482759,  0.98362069,  0.89913793,  0.5137931 ,  0.09913793]),np.array([ 0.99310345,  0.98534483,  0.92672414,  0.6       ,  0.17758621])]\n",
      "reSC_err=[np.array([ 0.00463002,  0.01061342,  0.02947119,  0.06475839,  0.0300568 ]), np.array([ 0.00657836,  0.00902168,  0.0244885 ,  0.05038838,  0.03991182])]\n",
      "\n",
      "reRT=[560.06155060636706, 566.04816069768106]\n",
      "reRT_err=[5.0285142629924566, 4.1756849148121304]"
     ],
     "language": "python",
     "metadata": {},
     "outputs": []
    }
   ],
   "metadata": {}
  }
 ]
}