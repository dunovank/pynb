{
 "metadata": {
  "name": "",
  "signature": "sha256:208678d3063b11c8cb1e35237a49645754ad4b5a132c50e474f3ead906d53b12"
 },
 "nbformat": 3,
 "nbformat_minor": 0,
 "worksheets": [
  {
   "cells": [
    {
     "cell_type": "code",
     "collapsed": false,
     "input": [
      "import hddm\n",
      "from IPython import parallel\n",
      "from radd import fitfx, hd, fitre, utils, vis"
     ],
     "language": "python",
     "metadata": {},
     "outputs": [],
     "prompt_number": 1
    },
    {
     "cell_type": "code",
     "collapsed": false,
     "input": [
      "pth=utils.find_path()\n",
      "\n",
      "os.chdir(\"/home/kyle/Dropbox/CoAx/SS/vbias/novar\")\n",
      "\n",
      "data=pd.read_csv(pth+\"DataFiles/Re_Data.csv\",index_col=0)\n",
      "cgo=data.query(\"choice=='go' & acc==1\")"
     ],
     "language": "python",
     "metadata": {},
     "outputs": [],
     "prompt_number": 2
    },
    {
     "cell_type": "code",
     "collapsed": false,
     "input": [
      "hd=reload(hd)\n",
      "chunk_list = lambda lst, siz: [lst[i:i+siz] for i in range(0, len(lst), siz)]\n",
      "chunk_df = lambda lol, df: [df[df['idx'].isin(l)] for l in lol]\n",
      "idxmean = lambda df: df.groupby('idx').rt.mean().values\n",
      "\n",
      "def fit_hddm_parallel(df):\n",
      "    df['subj_idx']=df['idx']\n",
      "    from radd import hd\n",
      "    hd=reload(hd)\n",
      "    stats = hd.fit_sxhddm(df, depends_on={'v':'Cond'}, bias=True, informative=True,\n",
      "                include= ['a', 't', 'v', 'z'], task='ssRe', save_str=\"vbias\")\n",
      "    \n",
      "    return stats"
     ],
     "language": "python",
     "metadata": {},
     "outputs": [],
     "prompt_number": 16
    },
    {
     "cell_type": "code",
     "collapsed": false,
     "input": [
      "sxlist=list(cgo.idx.unique())\n",
      "idchunks=chunk_list(sxlist, 12)\n",
      "idchunks[-2].append(idchunks.pop(-1)[0])\n",
      "dflist=chunk_df(idchunks, cgo)"
     ],
     "language": "python",
     "metadata": {},
     "outputs": [],
     "prompt_number": 17
    },
    {
     "cell_type": "code",
     "collapsed": false,
     "input": [
      "# initialize IPython clusters \n",
      "# (ipynb home --> clusters)\n",
      "clients = parallel.Client()\n",
      "clients.block = True  # use synchronous computations\n",
      "allproc = clients.load_balanced_view()"
     ],
     "language": "python",
     "metadata": {},
     "outputs": [],
     "prompt_number": 18
    },
    {
     "cell_type": "heading",
     "level": 2,
     "metadata": {},
     "source": [
      "Individual Sx Fits: V Bias model (BSL vs. PNL) no var parameters"
     ]
    },
    {
     "cell_type": "code",
     "collapsed": true,
     "input": [
      "all_proc_stats = allproc.map(fit_hddm_parallel, dflist[:])"
     ],
     "language": "python",
     "metadata": {},
     "outputs": [
      {
       "ename": "CompositeError",
       "evalue": "one or more exceptions from call to method: fit_hddm_parallel\n[2:apply]: UnboundLocalError: local variable 'ix2' referenced before assignment",
       "output_type": "pyerr",
       "traceback": [
        "[2:apply]: ",
        "\u001b[1;31m---------------------------------------------------------------------------\u001b[0m",
        "\u001b[1;31mUnboundLocalError\u001b[0m                         Traceback (most recent call last)\u001b[1;32m<string>\u001b[0m in \u001b[0;36m<module>\u001b[1;34m()\u001b[0m",
        "\u001b[1;32m<ipython-input-16-cec949db253c>\u001b[0m in \u001b[0;36mfit_hddm_parallel\u001b[1;34m(df)\u001b[0m",
        "\u001b[1;32m/home/kyle/Dropbox/Git/radd/hd.pyc\u001b[0m in \u001b[0;36mfit_sxhddm\u001b[1;34m(data, depends_on, include, bias, informative, task, save_str, **kwargs)\u001b[0m",
        "\u001b[0;32m     67\u001b[0m         \u001b[0mallsx_df\u001b[0m\u001b[1;33m=\u001b[0m\u001b[0mpd\u001b[0m\u001b[1;33m.\u001b[0m\u001b[0mconcat\u001b[0m\u001b[1;33m(\u001b[0m\u001b[0msxparams\u001b[0m\u001b[1;33m)\u001b[0m\u001b[1;33m\u001b[0m\u001b[0m",
        "\u001b[0;32m     68\u001b[0m         \u001b[0mallsx_df\u001b[0m\u001b[1;33m.\u001b[0m\u001b[0mto_csv\u001b[0m\u001b[1;33m(\u001b[0m\u001b[0mix1\u001b[0m\u001b[1;33m+\u001b[0m\u001b[1;34m'-'\u001b[0m\u001b[1;33m+\u001b[0m\u001b[0mix2\u001b[0m\u001b[1;33m+\u001b[0m\u001b[1;34m\"_sxfits.csv\"\u001b[0m\u001b[1;33m,\u001b[0m \u001b[0mindex\u001b[0m\u001b[1;33m=\u001b[0m\u001b[0mFalse\u001b[0m\u001b[1;33m)\u001b[0m\u001b[1;33m\u001b[0m\u001b[0m",
        "\u001b[1;32m---> 69\u001b[1;33m \u001b[1;33m\u001b[0m\u001b[0m",
        "\u001b[0m\u001b[0;32m     70\u001b[0m         \u001b[0mic_df\u001b[0m\u001b[1;33m=\u001b[0m\u001b[0mpd\u001b[0m\u001b[1;33m.\u001b[0m\u001b[0mDataFrame\u001b[0m\u001b[1;33m(\u001b[0m\u001b[1;33m{\u001b[0m\u001b[1;34m'aic'\u001b[0m\u001b[1;33m:\u001b[0m\u001b[0maic_list\u001b[0m\u001b[1;33m,\u001b[0m \u001b[1;34m'bic'\u001b[0m\u001b[1;33m:\u001b[0m\u001b[0mbic_list\u001b[0m\u001b[1;33m,\u001b[0m \u001b[1;34m'dic'\u001b[0m\u001b[1;33m:\u001b[0m\u001b[0mdic_list\u001b[0m\u001b[1;33m}\u001b[0m\u001b[1;33m)\u001b[0m\u001b[1;33m\u001b[0m\u001b[0m",
        "\u001b[0;32m     71\u001b[0m         \u001b[0mic_df\u001b[0m\u001b[1;33m.\u001b[0m\u001b[0mto_csv\u001b[0m\u001b[1;33m(\u001b[0m\u001b[0mix1\u001b[0m\u001b[1;33m+\u001b[0m\u001b[1;34m'-'\u001b[0m\u001b[1;33m+\u001b[0m\u001b[0mix2\u001b[0m\u001b[1;33m+\u001b[0m\u001b[1;34m\"_ic.csv\"\u001b[0m\u001b[1;33m)\u001b[0m\u001b[1;33m\u001b[0m\u001b[0m",
        "\u001b[1;31mUnboundLocalError\u001b[0m: local variable 'ix2' referenced before assignment",
        ""
       ]
      }
     ],
     "prompt_number": 20
    },
    {
     "cell_type": "code",
     "collapsed": false,
     "input": [
      "dfall=pd.concat(all_proc_stats).reset_index(drop=True)\n",
      "dfall.to_csv(\"ReHDDM_VBiasNoVar_FitStats.csv\")"
     ],
     "language": "python",
     "metadata": {},
     "outputs": [],
     "prompt_number": 15
    },
    {
     "cell_type": "code",
     "collapsed": false,
     "input": [
      "pth=utils.find_path()\n",
      "os.chdir(pth+\"vbias/novar\")\n",
      "dic_df=pd.DataFrame(columns=['DIC', 'deviance', 'pD'], index=rebsl.idx.unique())\n",
      "theta=pd.DataFrame(columns=['a', 'v(bsl)','v(pnl)','t', 'z'], index=rebsl.idx.unique())\n",
      "sxlist=rebsl.idx.unique()\n",
      "sxdfs=[]\n",
      "\n",
      "for i in sxlist:\n",
      "    try:\n",
      "        sxdf=pd.read_csv(str(i)+\"_vbias.txt\", sep='\\s*')\n",
      "        theta.loc[i, :]=sxdf.iloc[:-3, 1].values\n",
      "        dic_df.loc[i, :]=sxdf.iloc[-3:, 1].values\n",
      "        \n",
      "    except Exception:\n",
      "        continue\n",
      "\n",
      "theta.loc[:,'a':'v(pnl)']=theta.loc[:, 'a':'v(pnl)']/10\n",
      "theta['vdiff']=theta['v(bsl)']-theta['v(pnl)']\n",
      "\n",
      "theta.to_csv(\"ReHDDM_vbias_params.csv\")\n",
      "\n",
      "dic_df.dropna(inplace=True)\n",
      "dic_df.to_csv(\"ReHDDM_vbias_DIC.csv\")\n",
      "#sxdfs.append(params)\n",
      "#param_df=pd.concat(sxdfs)"
     ],
     "language": "python",
     "metadata": {},
     "outputs": [],
     "prompt_number": 24
    },
    {
     "cell_type": "code",
     "collapsed": false,
     "input": [
      "pth=utils.find_path()\n",
      "os.chdir(pth+\"vbias/novar\")\n",
      "params=pd.read_csv(\"ReHDDM_vbias_params.csv\")\n",
      "params=params.loc[:,'a':]\n",
      "\n",
      "x=np.arange(len(params.columns))\n",
      "xnames=list(params.columns)\n",
      "xnames[-1]='$\\Delta$'+'v'\n",
      "mu=params.mean()\n",
      "err=params.sem()*1.96\n",
      "sns.set_style('ticks', rc=sp['style'])\n",
      "f, ax = plt.subplots(1, figsize=(7.5, 5))\n",
      "c=sns.color_palette('hls', n_colors=len(x))\n",
      "for xx in x:\n",
      "    ax.bar(xx, mu[xx], yerr=err[xx], color=c[xx], ecolor='k', align='center')\n",
      "sns.despine()\n",
      "\n",
      "ax.set_xlabel(\"Parameter %s\"%'$\\\\theta$', fontsize=22)\n",
      "ax.set_ylabel('$\\\\theta$'+\" Units\", fontsize=22)\n",
      "plt.setp(ax, xticks=x, xticklabels=xnames, xlim=(-.8,x[-1]+.8), ylim=(-.2, 1.2))\n",
      "\n",
      "plt.setp(ax.get_yticklabels(), fontsize=16)\n",
      "plt.setp(ax.get_xticklabels(), fontsize=20)\n",
      "plt.hlines(y=0, xmin=-2, xmax=x[-1]+3, alpha=.4, linestyle='--')\n",
      "plt.tight_layout()\n",
      "#f.savefig(\"rehddm_vbias_novar_params.png\", dpi=600)"
     ],
     "language": "python",
     "metadata": {},
     "outputs": []
    },
    {
     "cell_type": "heading",
     "level": 2,
     "metadata": {},
     "source": [
      "Individual Sx Fits: V Bias model (BSL vs. PNL) no var params"
     ]
    },
    {
     "cell_type": "code",
     "collapsed": false,
     "input": [
      "pth=utils.find_path()\n",
      "os.chdir(pth+\"vbias/novar\")\n",
      "data=pd.read_csv(pth+\"DataFiles/Re_Data.csv\",index_col=0)\n",
      "datac=data.query(\"choice=='go' & acc==1\")\n",
      "datac[\"subj_idx\"]=datac[\"idx\"]"
     ],
     "language": "python",
     "metadata": {},
     "outputs": [],
     "prompt_number": 21
    },
    {
     "cell_type": "code",
     "collapsed": false,
     "input": [
      "mflat=hddm.HDDM(datac, depends_on={'v':'Cond'}, bias=True, include= ['a', 't', 'v', 'z'])\n",
      "mflat.sample(60000, burn=20000, thin=3)\n",
      "\n",
      "statsdf=mflat.gen_stats()\n",
      "statsdf['idx']=[idx]*len(statsdf)\n",
      "mflat.plot_posteriors(save=True)\n",
      "\n",
      "mflat.print_stats(\"reflat_tbias_params.txt\")"
     ],
     "language": "python",
     "metadata": {},
     "outputs": []
    }
   ],
   "metadata": {}
  }
 ]
}