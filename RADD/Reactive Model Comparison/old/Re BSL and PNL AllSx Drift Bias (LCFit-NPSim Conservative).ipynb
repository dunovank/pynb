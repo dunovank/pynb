{
 "metadata": {
  "name": "",
  "signature": "sha256:c21357b0d341e84f2b1c4c689dcd421a88f9d29ac7d96302317a166bcfd6cdc3"
 },
 "nbformat": 3,
 "nbformat_minor": 0,
 "worksheets": [
  {
   "cells": [
    {
     "cell_type": "code",
     "collapsed": false,
     "input": [
      "from __future__ import division\n",
      "import pandas as pd\n",
      "from radd import fitre, utils, vis, lcfit\n",
      "from lmfit import Parameters, Minimizer\n",
      "import seaborn as sns"
     ],
     "language": "python",
     "metadata": {},
     "outputs": [],
     "prompt_number": 1
    },
    {
     "cell_type": "code",
     "collapsed": false,
     "input": [
      "pth=utils.find_path()\n",
      "redata_bsl=pd.read_csv(pth+\"DataFiles/ReBSL_Data.csv\", index_col=0)\n",
      "redata_pnl=pd.read_csv(pth+\"DataFiles/RePNL_Data.csv\", index_col=0)"
     ],
     "language": "python",
     "metadata": {},
     "outputs": [],
     "prompt_number": 2
    },
    {
     "cell_type": "code",
     "collapsed": false,
     "input": [
      "bsl_inits=pd.read_csv(pth+\"FitFiles/Inits/ReBSL_HDDM-vBias_Inits.csv\", index_col=0, names=['mean']).to_dict()['mean']\n",
      "pnl_inits=pd.read_csv(pth+\"FitFiles/Inits/RePNL_HDDM-vBias_Inits.csv\", index_col=0, names=['mean']).to_dict()['mean']"
     ],
     "language": "python",
     "metadata": {},
     "outputs": [],
     "prompt_number": 3
    },
    {
     "cell_type": "heading",
     "level": 1,
     "metadata": {},
     "source": [
      "Load Flat Optimized Inits"
     ]
    },
    {
     "cell_type": "code",
     "collapsed": false,
     "input": [
      "flat_inits=pd.read_csv(pth+\"FitFiles/Inits/ReBSL_FlatOptRADD_AvgTV_Inits.csv\", index_col=0, names=['mean']).to_dict()['mean']"
     ],
     "language": "python",
     "metadata": {},
     "outputs": [],
     "prompt_number": 4
    },
    {
     "cell_type": "heading",
     "level": 1,
     "metadata": {},
     "source": [
      "ReBSL Drift Bias Model"
     ]
    },
    {
     "cell_type": "code",
     "collapsed": false,
     "input": [
      "#os.mkdir(pth+\"FitFiles/Re_AllSx_DriftBiasLC_Con\")\n",
      "if not os.path.isdir(pth+\"FitFiles/Re_AllSx_DriftBiasLC_Con/bsl\"):\n",
      "    os.mkdir(\"/home/kyle/Dropbox/CoAx/SS/FitFiles/Re_AllSx_DriftBiasLC_Con/bsl\")\n",
      "os.chdir(pth+\"FitFiles/Re_AllSx_DriftBiasLC_Con/bsl\")"
     ],
     "language": "python",
     "metadata": {},
     "outputs": [],
     "prompt_number": 5
    },
    {
     "cell_type": "code",
     "collapsed": false,
     "input": [
      "bsl_fits=fitre.fit_reactive_data(data=redata_bsl, inits=flat_inits, simfx='lc', save_path = \"./rebsl_v_con_\", ftol=1.e-3, xtol=1.e-3)"
     ],
     "language": "python",
     "metadata": {},
     "outputs": [
      {
       "html": [
        "\n",
        "\t\t\t<div style=\"border: 1px solid black; width:500px\">\n",
        "\t\t\t<div id=\"18964d6f-8f41-4f33-ad84-89e3147cdb4e\" style=\"background-color:#009B76; width:0%\">&nbsp;</div>\n",
        "\t\t\t</div> \n",
        "\t\t\t"
       ],
       "metadata": {},
       "output_type": "display_data",
       "text": [
        "<IPython.core.display.HTML at 0x7fda73ded2d0>"
       ]
      },
      {
       "javascript": [
        "$('div#18964d6f-8f41-4f33-ad84-89e3147cdb4e').width('1.64%')"
       ],
       "metadata": {},
       "output_type": "display_data",
       "text": [
        "<IPython.core.display.Javascript at 0x7fda73dedf90>"
       ]
      },
      {
       "javascript": [
        "$('div#18964d6f-8f41-4f33-ad84-89e3147cdb4e').width('3.28%')"
       ],
       "metadata": {},
       "output_type": "display_data",
       "text": [
        "<IPython.core.display.Javascript at 0x7fda73deded0>"
       ]
      },
      {
       "javascript": [
        "$('div#18964d6f-8f41-4f33-ad84-89e3147cdb4e').width('4.92%')"
       ],
       "metadata": {},
       "output_type": "display_data",
       "text": [
        "<IPython.core.display.Javascript at 0x7fda73ded890>"
       ]
      },
      {
       "javascript": [
        "$('div#18964d6f-8f41-4f33-ad84-89e3147cdb4e').width('6.56%')"
       ],
       "metadata": {},
       "output_type": "display_data",
       "text": [
        "<IPython.core.display.Javascript at 0x7fda73ded710>"
       ]
      },
      {
       "javascript": [
        "$('div#18964d6f-8f41-4f33-ad84-89e3147cdb4e').width('8.20%')"
       ],
       "metadata": {},
       "output_type": "display_data",
       "text": [
        "<IPython.core.display.Javascript at 0x7fda73ded910>"
       ]
      },
      {
       "javascript": [
        "$('div#18964d6f-8f41-4f33-ad84-89e3147cdb4e').width('9.84%')"
       ],
       "metadata": {},
       "output_type": "display_data",
       "text": [
        "<IPython.core.display.Javascript at 0x7fda73dede90>"
       ]
      },
      {
       "javascript": [
        "$('div#18964d6f-8f41-4f33-ad84-89e3147cdb4e').width('11.48%')"
       ],
       "metadata": {},
       "output_type": "display_data",
       "text": [
        "<IPython.core.display.Javascript at 0x7fda73dedd90>"
       ]
      },
      {
       "javascript": [
        "$('div#18964d6f-8f41-4f33-ad84-89e3147cdb4e').width('13.11%')"
       ],
       "metadata": {},
       "output_type": "display_data",
       "text": [
        "<IPython.core.display.Javascript at 0x7fda73dedf90>"
       ]
      },
      {
       "javascript": [
        "$('div#18964d6f-8f41-4f33-ad84-89e3147cdb4e').width('14.75%')"
       ],
       "metadata": {},
       "output_type": "display_data",
       "text": [
        "<IPython.core.display.Javascript at 0x7fda73dba690>"
       ]
      },
      {
       "javascript": [
        "$('div#18964d6f-8f41-4f33-ad84-89e3147cdb4e').width('16.39%')"
       ],
       "metadata": {},
       "output_type": "display_data",
       "text": [
        "<IPython.core.display.Javascript at 0x7fda73ded710>"
       ]
      },
      {
       "javascript": [
        "$('div#18964d6f-8f41-4f33-ad84-89e3147cdb4e').width('18.03%')"
       ],
       "metadata": {},
       "output_type": "display_data",
       "text": [
        "<IPython.core.display.Javascript at 0x7fda73dbaa50>"
       ]
      },
      {
       "javascript": [
        "$('div#18964d6f-8f41-4f33-ad84-89e3147cdb4e').width('19.67%')"
       ],
       "metadata": {},
       "output_type": "display_data",
       "text": [
        "<IPython.core.display.Javascript at 0x7fda73dbad10>"
       ]
      },
      {
       "javascript": [
        "$('div#18964d6f-8f41-4f33-ad84-89e3147cdb4e').width('21.31%')"
       ],
       "metadata": {},
       "output_type": "display_data",
       "text": [
        "<IPython.core.display.Javascript at 0x7fda73dba7d0>"
       ]
      },
      {
       "javascript": [
        "$('div#18964d6f-8f41-4f33-ad84-89e3147cdb4e').width('22.95%')"
       ],
       "metadata": {},
       "output_type": "display_data",
       "text": [
        "<IPython.core.display.Javascript at 0x7fda73dba7d0>"
       ]
      },
      {
       "javascript": [
        "$('div#18964d6f-8f41-4f33-ad84-89e3147cdb4e').width('24.59%')"
       ],
       "metadata": {},
       "output_type": "display_data",
       "text": [
        "<IPython.core.display.Javascript at 0x7fda73dbaa90>"
       ]
      },
      {
       "javascript": [
        "$('div#18964d6f-8f41-4f33-ad84-89e3147cdb4e').width('26.23%')"
       ],
       "metadata": {},
       "output_type": "display_data",
       "text": [
        "<IPython.core.display.Javascript at 0x7fda73dedf90>"
       ]
      },
      {
       "javascript": [
        "$('div#18964d6f-8f41-4f33-ad84-89e3147cdb4e').width('27.87%')"
       ],
       "metadata": {},
       "output_type": "display_data",
       "text": [
        "<IPython.core.display.Javascript at 0x7fda73dbaa50>"
       ]
      },
      {
       "javascript": [
        "$('div#18964d6f-8f41-4f33-ad84-89e3147cdb4e').width('29.51%')"
       ],
       "metadata": {},
       "output_type": "display_data",
       "text": [
        "<IPython.core.display.Javascript at 0x7fda73dba8d0>"
       ]
      },
      {
       "javascript": [
        "$('div#18964d6f-8f41-4f33-ad84-89e3147cdb4e').width('31.15%')"
       ],
       "metadata": {},
       "output_type": "display_data",
       "text": [
        "<IPython.core.display.Javascript at 0x7fda73dba850>"
       ]
      },
      {
       "javascript": [
        "$('div#18964d6f-8f41-4f33-ad84-89e3147cdb4e').width('32.79%')"
       ],
       "metadata": {},
       "output_type": "display_data",
       "text": [
        "<IPython.core.display.Javascript at 0x7fda73dbaa10>"
       ]
      },
      {
       "javascript": [
        "$('div#18964d6f-8f41-4f33-ad84-89e3147cdb4e').width('34.43%')"
       ],
       "metadata": {},
       "output_type": "display_data",
       "text": [
        "<IPython.core.display.Javascript at 0x7fda73dc6bd0>"
       ]
      },
      {
       "javascript": [
        "$('div#18964d6f-8f41-4f33-ad84-89e3147cdb4e').width('36.07%')"
       ],
       "metadata": {},
       "output_type": "display_data",
       "text": [
        "<IPython.core.display.Javascript at 0x7fda73ded950>"
       ]
      },
      {
       "javascript": [
        "$('div#18964d6f-8f41-4f33-ad84-89e3147cdb4e').width('37.70%')"
       ],
       "metadata": {},
       "output_type": "display_data",
       "text": [
        "<IPython.core.display.Javascript at 0x7fda73dc6a90>"
       ]
      },
      {
       "javascript": [
        "$('div#18964d6f-8f41-4f33-ad84-89e3147cdb4e').width('39.34%')"
       ],
       "metadata": {},
       "output_type": "display_data",
       "text": [
        "<IPython.core.display.Javascript at 0x7fda73dc6710>"
       ]
      },
      {
       "javascript": [
        "$('div#18964d6f-8f41-4f33-ad84-89e3147cdb4e').width('40.98%')"
       ],
       "metadata": {},
       "output_type": "display_data",
       "text": [
        "<IPython.core.display.Javascript at 0x7fda73dbaf50>"
       ]
      },
      {
       "javascript": [
        "$('div#18964d6f-8f41-4f33-ad84-89e3147cdb4e').width('42.62%')"
       ],
       "metadata": {},
       "output_type": "display_data",
       "text": [
        "<IPython.core.display.Javascript at 0x7fda73dc6a50>"
       ]
      },
      {
       "javascript": [
        "$('div#18964d6f-8f41-4f33-ad84-89e3147cdb4e').width('44.26%')"
       ],
       "metadata": {},
       "output_type": "display_data",
       "text": [
        "<IPython.core.display.Javascript at 0x7fda73dc6c50>"
       ]
      },
      {
       "javascript": [
        "$('div#18964d6f-8f41-4f33-ad84-89e3147cdb4e').width('45.90%')"
       ],
       "metadata": {},
       "output_type": "display_data",
       "text": [
        "<IPython.core.display.Javascript at 0x7fda73dc6510>"
       ]
      },
      {
       "javascript": [
        "$('div#18964d6f-8f41-4f33-ad84-89e3147cdb4e').width('47.54%')"
       ],
       "metadata": {},
       "output_type": "display_data",
       "text": [
        "<IPython.core.display.Javascript at 0x7fda73dbad90>"
       ]
      },
      {
       "javascript": [
        "$('div#18964d6f-8f41-4f33-ad84-89e3147cdb4e').width('49.18%')"
       ],
       "metadata": {},
       "output_type": "display_data",
       "text": [
        "<IPython.core.display.Javascript at 0x7fda73dc6c10>"
       ]
      },
      {
       "javascript": [
        "$('div#18964d6f-8f41-4f33-ad84-89e3147cdb4e').width('50.82%')"
       ],
       "metadata": {},
       "output_type": "display_data",
       "text": [
        "<IPython.core.display.Javascript at 0x7fda73dc6150>"
       ]
      },
      {
       "javascript": [
        "$('div#18964d6f-8f41-4f33-ad84-89e3147cdb4e').width('52.46%')"
       ],
       "metadata": {},
       "output_type": "display_data",
       "text": [
        "<IPython.core.display.Javascript at 0x7fda73dc6f10>"
       ]
      },
      {
       "javascript": [
        "$('div#18964d6f-8f41-4f33-ad84-89e3147cdb4e').width('54.10%')"
       ],
       "metadata": {},
       "output_type": "display_data",
       "text": [
        "<IPython.core.display.Javascript at 0x7fda73dc6810>"
       ]
      },
      {
       "javascript": [
        "$('div#18964d6f-8f41-4f33-ad84-89e3147cdb4e').width('55.74%')"
       ],
       "metadata": {},
       "output_type": "display_data",
       "text": [
        "<IPython.core.display.Javascript at 0x7fda73dedf90>"
       ]
      },
      {
       "javascript": [
        "$('div#18964d6f-8f41-4f33-ad84-89e3147cdb4e').width('57.38%')"
       ],
       "metadata": {},
       "output_type": "display_data",
       "text": [
        "<IPython.core.display.Javascript at 0x7fda73dde750>"
       ]
      },
      {
       "javascript": [
        "$('div#18964d6f-8f41-4f33-ad84-89e3147cdb4e').width('59.02%')"
       ],
       "metadata": {},
       "output_type": "display_data",
       "text": [
        "<IPython.core.display.Javascript at 0x7fda73dde950>"
       ]
      },
      {
       "javascript": [
        "$('div#18964d6f-8f41-4f33-ad84-89e3147cdb4e').width('60.66%')"
       ],
       "metadata": {},
       "output_type": "display_data",
       "text": [
        "<IPython.core.display.Javascript at 0x7fda73ddedd0>"
       ]
      },
      {
       "javascript": [
        "$('div#18964d6f-8f41-4f33-ad84-89e3147cdb4e').width('62.30%')"
       ],
       "metadata": {},
       "output_type": "display_data",
       "text": [
        "<IPython.core.display.Javascript at 0x7fda73dde410>"
       ]
      },
      {
       "javascript": [
        "$('div#18964d6f-8f41-4f33-ad84-89e3147cdb4e').width('63.93%')"
       ],
       "metadata": {},
       "output_type": "display_data",
       "text": [
        "<IPython.core.display.Javascript at 0x7fda73dbad90>"
       ]
      },
      {
       "javascript": [
        "$('div#18964d6f-8f41-4f33-ad84-89e3147cdb4e').width('65.57%')"
       ],
       "metadata": {},
       "output_type": "display_data",
       "text": [
        "<IPython.core.display.Javascript at 0x7fda73dded10>"
       ]
      },
      {
       "javascript": [
        "$('div#18964d6f-8f41-4f33-ad84-89e3147cdb4e').width('67.21%')"
       ],
       "metadata": {},
       "output_type": "display_data",
       "text": [
        "<IPython.core.display.Javascript at 0x7fda73dc6c50>"
       ]
      },
      {
       "javascript": [
        "$('div#18964d6f-8f41-4f33-ad84-89e3147cdb4e').width('68.85%')"
       ],
       "metadata": {},
       "output_type": "display_data",
       "text": [
        "<IPython.core.display.Javascript at 0x7fda73dde790>"
       ]
      },
      {
       "javascript": [
        "$('div#18964d6f-8f41-4f33-ad84-89e3147cdb4e').width('70.49%')"
       ],
       "metadata": {},
       "output_type": "display_data",
       "text": [
        "<IPython.core.display.Javascript at 0x7fda73ddecd0>"
       ]
      },
      {
       "javascript": [
        "$('div#18964d6f-8f41-4f33-ad84-89e3147cdb4e').width('72.13%')"
       ],
       "metadata": {},
       "output_type": "display_data",
       "text": [
        "<IPython.core.display.Javascript at 0x7fda73dc6150>"
       ]
      },
      {
       "javascript": [
        "$('div#18964d6f-8f41-4f33-ad84-89e3147cdb4e').width('73.77%')"
       ],
       "metadata": {},
       "output_type": "display_data",
       "text": [
        "<IPython.core.display.Javascript at 0x7fda73dc6f10>"
       ]
      },
      {
       "javascript": [
        "$('div#18964d6f-8f41-4f33-ad84-89e3147cdb4e').width('75.41%')"
       ],
       "metadata": {},
       "output_type": "display_data",
       "text": [
        "<IPython.core.display.Javascript at 0x7fda73dde590>"
       ]
      },
      {
       "javascript": [
        "$('div#18964d6f-8f41-4f33-ad84-89e3147cdb4e').width('77.05%')"
       ],
       "metadata": {},
       "output_type": "display_data",
       "text": [
        "<IPython.core.display.Javascript at 0x7fda73dde610>"
       ]
      },
      {
       "javascript": [
        "$('div#18964d6f-8f41-4f33-ad84-89e3147cdb4e').width('78.69%')"
       ],
       "metadata": {},
       "output_type": "display_data",
       "text": [
        "<IPython.core.display.Javascript at 0x7fda73dde410>"
       ]
      },
      {
       "javascript": [
        "$('div#18964d6f-8f41-4f33-ad84-89e3147cdb4e').width('80.33%')"
       ],
       "metadata": {},
       "output_type": "display_data",
       "text": [
        "<IPython.core.display.Javascript at 0x7fda73dde6d0>"
       ]
      },
      {
       "javascript": [
        "$('div#18964d6f-8f41-4f33-ad84-89e3147cdb4e').width('81.97%')"
       ],
       "metadata": {},
       "output_type": "display_data",
       "text": [
        "<IPython.core.display.Javascript at 0x7fda73dbaa10>"
       ]
      },
      {
       "javascript": [
        "$('div#18964d6f-8f41-4f33-ad84-89e3147cdb4e').width('83.61%')"
       ],
       "metadata": {},
       "output_type": "display_data",
       "text": [
        "<IPython.core.display.Javascript at 0x7fda73d66dd0>"
       ]
      },
      {
       "javascript": [
        "$('div#18964d6f-8f41-4f33-ad84-89e3147cdb4e').width('85.25%')"
       ],
       "metadata": {},
       "output_type": "display_data",
       "text": [
        "<IPython.core.display.Javascript at 0x7fda73d66fd0>"
       ]
      },
      {
       "javascript": [
        "$('div#18964d6f-8f41-4f33-ad84-89e3147cdb4e').width('86.89%')"
       ],
       "metadata": {},
       "output_type": "display_data",
       "text": [
        "<IPython.core.display.Javascript at 0x7fda73d66d90>"
       ]
      },
      {
       "javascript": [
        "$('div#18964d6f-8f41-4f33-ad84-89e3147cdb4e').width('88.52%')"
       ],
       "metadata": {},
       "output_type": "display_data",
       "text": [
        "<IPython.core.display.Javascript at 0x7fda73d668d0>"
       ]
      },
      {
       "javascript": [
        "$('div#18964d6f-8f41-4f33-ad84-89e3147cdb4e').width('90.16%')"
       ],
       "metadata": {},
       "output_type": "display_data",
       "text": [
        "<IPython.core.display.Javascript at 0x7fda73d66210>"
       ]
      },
      {
       "javascript": [
        "$('div#18964d6f-8f41-4f33-ad84-89e3147cdb4e').width('91.80%')"
       ],
       "metadata": {},
       "output_type": "display_data",
       "text": [
        "<IPython.core.display.Javascript at 0x7fda73d66810>"
       ]
      },
      {
       "javascript": [
        "$('div#18964d6f-8f41-4f33-ad84-89e3147cdb4e').width('93.44%')"
       ],
       "metadata": {},
       "output_type": "display_data",
       "text": [
        "<IPython.core.display.Javascript at 0x7fda73dde610>"
       ]
      },
      {
       "javascript": [
        "$('div#18964d6f-8f41-4f33-ad84-89e3147cdb4e').width('95.08%')"
       ],
       "metadata": {},
       "output_type": "display_data",
       "text": [
        "<IPython.core.display.Javascript at 0x7fda73d66bd0>"
       ]
      },
      {
       "javascript": [
        "$('div#18964d6f-8f41-4f33-ad84-89e3147cdb4e').width('96.72%')"
       ],
       "metadata": {},
       "output_type": "display_data",
       "text": [
        "<IPython.core.display.Javascript at 0x7fda73d66510>"
       ]
      },
      {
       "javascript": [
        "$('div#18964d6f-8f41-4f33-ad84-89e3147cdb4e').width('98.36%')"
       ],
       "metadata": {},
       "output_type": "display_data",
       "text": [
        "<IPython.core.display.Javascript at 0x7fda73dde410>"
       ]
      },
      {
       "javascript": [
        "$('div#18964d6f-8f41-4f33-ad84-89e3147cdb4e').width('100.00%')"
       ],
       "metadata": {},
       "output_type": "display_data",
       "text": [
        "<IPython.core.display.Javascript at 0x7fda73dde590>"
       ]
      }
     ],
     "prompt_number": 9
    },
    {
     "cell_type": "heading",
     "level": 1,
     "metadata": {},
     "source": [
      "RePNL Drift Bias Model (V Free, A,T,Z Fixed at Opt BSL Values)"
     ]
    },
    {
     "cell_type": "code",
     "collapsed": false,
     "input": [
      "if not os.path.isdir(pth+\"FitFiles/Re_AllSx_DriftBiasLC_Con/pnl_v\"):\n",
      "    os.mkdir(pth+\"FitFiles/Re_AllSx_DriftBiasLC_Con/pnl_v\")\n",
      "os.chdir(pth+\"FitFiles/Re_AllSx_DriftBiasLC_Con/pnl_v\")\n",
      "# init each subject at opt bsl values, \n",
      "# pass to init arg as nested dictionary {sx:{a:###, 'v':###, 't': ###, 'z':###}}\n",
      "bsl_popt=pd.read_csv(pth+\"FitFiles/Re_AllSx_DriftBiasLC_Con/bsl/rebsl_v_con_popt_all.csv\", index_col=0)\n",
      "nested_pnl_inits=bsl_popt.T.to_dict()\n",
      "\n",
      "# fit model holding all parameters constant except for onset time (t)\n",
      "pnl_fits=fitre.fit_reactive_data(data=redata_pnl, inits=nested_pnl_inits, all_params=0, depends=['v'], simfx='vector', ntrials=2000, save_path=\"./repnl_v_con_\", ftol=1.e-3, xtol=1.e-3)"
     ],
     "language": "python",
     "metadata": {},
     "outputs": [
      {
       "html": [
        "\n",
        "\t\t\t<div style=\"border: 1px solid black; width:500px\">\n",
        "\t\t\t<div id=\"ebfe4265-02e0-4e23-ac2f-02467fc26708\" style=\"background-color:#009B76; width:0%\">&nbsp;</div>\n",
        "\t\t\t</div> \n",
        "\t\t\t"
       ],
       "metadata": {},
       "output_type": "display_data",
       "text": [
        "<IPython.core.display.HTML at 0x7fca375b6fd0>"
       ]
      },
      {
       "javascript": [
        "$('div#ebfe4265-02e0-4e23-ac2f-02467fc26708').width('1.64%')"
       ],
       "metadata": {},
       "output_type": "display_data",
       "text": [
        "<IPython.core.display.Javascript at 0x7fca6f733fd0>"
       ]
      },
      {
       "javascript": [
        "$('div#ebfe4265-02e0-4e23-ac2f-02467fc26708').width('3.28%')"
       ],
       "metadata": {},
       "output_type": "display_data",
       "text": [
        "<IPython.core.display.Javascript at 0x7fca375b6c50>"
       ]
      },
      {
       "javascript": [
        "$('div#ebfe4265-02e0-4e23-ac2f-02467fc26708').width('4.92%')"
       ],
       "metadata": {},
       "output_type": "display_data",
       "text": [
        "<IPython.core.display.Javascript at 0x7fca375b6910>"
       ]
      },
      {
       "javascript": [
        "$('div#ebfe4265-02e0-4e23-ac2f-02467fc26708').width('6.56%')"
       ],
       "metadata": {},
       "output_type": "display_data",
       "text": [
        "<IPython.core.display.Javascript at 0x7fca37569810>"
       ]
      },
      {
       "javascript": [
        "$('div#ebfe4265-02e0-4e23-ac2f-02467fc26708').width('8.20%')"
       ],
       "metadata": {},
       "output_type": "display_data",
       "text": [
        "<IPython.core.display.Javascript at 0x7fca37569d50>"
       ]
      },
      {
       "javascript": [
        "$('div#ebfe4265-02e0-4e23-ac2f-02467fc26708').width('9.84%')"
       ],
       "metadata": {},
       "output_type": "display_data",
       "text": [
        "<IPython.core.display.Javascript at 0x7fca375695d0>"
       ]
      },
      {
       "javascript": [
        "$('div#ebfe4265-02e0-4e23-ac2f-02467fc26708').width('11.48%')"
       ],
       "metadata": {},
       "output_type": "display_data",
       "text": [
        "<IPython.core.display.Javascript at 0x7fca37569d90>"
       ]
      },
      {
       "javascript": [
        "$('div#ebfe4265-02e0-4e23-ac2f-02467fc26708').width('13.11%')"
       ],
       "metadata": {},
       "output_type": "display_data",
       "text": [
        "<IPython.core.display.Javascript at 0x7fca37569fd0>"
       ]
      },
      {
       "javascript": [
        "$('div#ebfe4265-02e0-4e23-ac2f-02467fc26708').width('14.75%')"
       ],
       "metadata": {},
       "output_type": "display_data",
       "text": [
        "<IPython.core.display.Javascript at 0x7fca37569a10>"
       ]
      },
      {
       "javascript": [
        "$('div#ebfe4265-02e0-4e23-ac2f-02467fc26708').width('16.39%')"
       ],
       "metadata": {},
       "output_type": "display_data",
       "text": [
        "<IPython.core.display.Javascript at 0x7fca37569650>"
       ]
      },
      {
       "javascript": [
        "$('div#ebfe4265-02e0-4e23-ac2f-02467fc26708').width('18.03%')"
       ],
       "metadata": {},
       "output_type": "display_data",
       "text": [
        "<IPython.core.display.Javascript at 0x7fca37569550>"
       ]
      },
      {
       "javascript": [
        "$('div#ebfe4265-02e0-4e23-ac2f-02467fc26708').width('19.67%')"
       ],
       "metadata": {},
       "output_type": "display_data",
       "text": [
        "<IPython.core.display.Javascript at 0x7fca37569d90>"
       ]
      },
      {
       "javascript": [
        "$('div#ebfe4265-02e0-4e23-ac2f-02467fc26708').width('21.31%')"
       ],
       "metadata": {},
       "output_type": "display_data",
       "text": [
        "<IPython.core.display.Javascript at 0x7fca37569a10>"
       ]
      },
      {
       "javascript": [
        "$('div#ebfe4265-02e0-4e23-ac2f-02467fc26708').width('22.95%')"
       ],
       "metadata": {},
       "output_type": "display_data",
       "text": [
        "<IPython.core.display.Javascript at 0x7fca37569d10>"
       ]
      },
      {
       "javascript": [
        "$('div#ebfe4265-02e0-4e23-ac2f-02467fc26708').width('24.59%')"
       ],
       "metadata": {},
       "output_type": "display_data",
       "text": [
        "<IPython.core.display.Javascript at 0x7fca37569f50>"
       ]
      },
      {
       "javascript": [
        "$('div#ebfe4265-02e0-4e23-ac2f-02467fc26708').width('26.23%')"
       ],
       "metadata": {},
       "output_type": "display_data",
       "text": [
        "<IPython.core.display.Javascript at 0x7fca375b6a50>"
       ]
      },
      {
       "javascript": [
        "$('div#ebfe4265-02e0-4e23-ac2f-02467fc26708').width('27.87%')"
       ],
       "metadata": {},
       "output_type": "display_data",
       "text": [
        "<IPython.core.display.Javascript at 0x7fca37569d90>"
       ]
      },
      {
       "javascript": [
        "$('div#ebfe4265-02e0-4e23-ac2f-02467fc26708').width('29.51%')"
       ],
       "metadata": {},
       "output_type": "display_data",
       "text": [
        "<IPython.core.display.Javascript at 0x7fca37569e10>"
       ]
      },
      {
       "javascript": [
        "$('div#ebfe4265-02e0-4e23-ac2f-02467fc26708').width('31.15%')"
       ],
       "metadata": {},
       "output_type": "display_data",
       "text": [
        "<IPython.core.display.Javascript at 0x7fca37569fd0>"
       ]
      },
      {
       "javascript": [
        "$('div#ebfe4265-02e0-4e23-ac2f-02467fc26708').width('32.79%')"
       ],
       "metadata": {},
       "output_type": "display_data",
       "text": [
        "<IPython.core.display.Javascript at 0x7fca3759d350>"
       ]
      },
      {
       "javascript": [
        "$('div#ebfe4265-02e0-4e23-ac2f-02467fc26708').width('34.43%')"
       ],
       "metadata": {},
       "output_type": "display_data",
       "text": [
        "<IPython.core.display.Javascript at 0x7fca3759dd50>"
       ]
      },
      {
       "javascript": [
        "$('div#ebfe4265-02e0-4e23-ac2f-02467fc26708').width('36.07%')"
       ],
       "metadata": {},
       "output_type": "display_data",
       "text": [
        "<IPython.core.display.Javascript at 0x7fca3759d690>"
       ]
      },
      {
       "javascript": [
        "$('div#ebfe4265-02e0-4e23-ac2f-02467fc26708').width('37.70%')"
       ],
       "metadata": {},
       "output_type": "display_data",
       "text": [
        "<IPython.core.display.Javascript at 0x7fca3759db10>"
       ]
      },
      {
       "javascript": [
        "$('div#ebfe4265-02e0-4e23-ac2f-02467fc26708').width('39.34%')"
       ],
       "metadata": {},
       "output_type": "display_data",
       "text": [
        "<IPython.core.display.Javascript at 0x7fca3759dc50>"
       ]
      },
      {
       "javascript": [
        "$('div#ebfe4265-02e0-4e23-ac2f-02467fc26708').width('40.98%')"
       ],
       "metadata": {},
       "output_type": "display_data",
       "text": [
        "<IPython.core.display.Javascript at 0x7fca3759df90>"
       ]
      },
      {
       "javascript": [
        "$('div#ebfe4265-02e0-4e23-ac2f-02467fc26708').width('42.62%')"
       ],
       "metadata": {},
       "output_type": "display_data",
       "text": [
        "<IPython.core.display.Javascript at 0x7fca37569b50>"
       ]
      },
      {
       "javascript": [
        "$('div#ebfe4265-02e0-4e23-ac2f-02467fc26708').width('44.26%')"
       ],
       "metadata": {},
       "output_type": "display_data",
       "text": [
        "<IPython.core.display.Javascript at 0x7fca3759d990>"
       ]
      },
      {
       "javascript": [
        "$('div#ebfe4265-02e0-4e23-ac2f-02467fc26708').width('45.90%')"
       ],
       "metadata": {},
       "output_type": "display_data",
       "text": [
        "<IPython.core.display.Javascript at 0x7fca37569b50>"
       ]
      },
      {
       "javascript": [
        "$('div#ebfe4265-02e0-4e23-ac2f-02467fc26708').width('47.54%')"
       ],
       "metadata": {},
       "output_type": "display_data",
       "text": [
        "<IPython.core.display.Javascript at 0x7fca3759dd50>"
       ]
      },
      {
       "javascript": [
        "$('div#ebfe4265-02e0-4e23-ac2f-02467fc26708').width('49.18%')"
       ],
       "metadata": {},
       "output_type": "display_data",
       "text": [
        "<IPython.core.display.Javascript at 0x7fca3759d810>"
       ]
      },
      {
       "javascript": [
        "$('div#ebfe4265-02e0-4e23-ac2f-02467fc26708').width('50.82%')"
       ],
       "metadata": {},
       "output_type": "display_data",
       "text": [
        "<IPython.core.display.Javascript at 0x7fca3759da90>"
       ]
      },
      {
       "javascript": [
        "$('div#ebfe4265-02e0-4e23-ac2f-02467fc26708').width('52.46%')"
       ],
       "metadata": {},
       "output_type": "display_data",
       "text": [
        "<IPython.core.display.Javascript at 0x7fca3759ddd0>"
       ]
      },
      {
       "javascript": [
        "$('div#ebfe4265-02e0-4e23-ac2f-02467fc26708').width('54.10%')"
       ],
       "metadata": {},
       "output_type": "display_data",
       "text": [
        "<IPython.core.display.Javascript at 0x7fca3759dd90>"
       ]
      },
      {
       "javascript": [
        "$('div#ebfe4265-02e0-4e23-ac2f-02467fc26708').width('55.74%')"
       ],
       "metadata": {},
       "output_type": "display_data",
       "text": [
        "<IPython.core.display.Javascript at 0x7fca3759dc50>"
       ]
      },
      {
       "javascript": [
        "$('div#ebfe4265-02e0-4e23-ac2f-02467fc26708').width('57.38%')"
       ],
       "metadata": {},
       "output_type": "display_data",
       "text": [
        "<IPython.core.display.Javascript at 0x7fca3759da50>"
       ]
      },
      {
       "javascript": [
        "$('div#ebfe4265-02e0-4e23-ac2f-02467fc26708').width('59.02%')"
       ],
       "metadata": {},
       "output_type": "display_data",
       "text": [
        "<IPython.core.display.Javascript at 0x7fca3759dd90>"
       ]
      },
      {
       "javascript": [
        "$('div#ebfe4265-02e0-4e23-ac2f-02467fc26708').width('60.66%')"
       ],
       "metadata": {},
       "output_type": "display_data",
       "text": [
        "<IPython.core.display.Javascript at 0x7fca3759d8d0>"
       ]
      },
      {
       "javascript": [
        "$('div#ebfe4265-02e0-4e23-ac2f-02467fc26708').width('62.30%')"
       ],
       "metadata": {},
       "output_type": "display_data",
       "text": [
        "<IPython.core.display.Javascript at 0x7fca37532150>"
       ]
      },
      {
       "javascript": [
        "$('div#ebfe4265-02e0-4e23-ac2f-02467fc26708').width('63.93%')"
       ],
       "metadata": {},
       "output_type": "display_data",
       "text": [
        "<IPython.core.display.Javascript at 0x7fca37532cd0>"
       ]
      },
      {
       "javascript": [
        "$('div#ebfe4265-02e0-4e23-ac2f-02467fc26708').width('65.57%')"
       ],
       "metadata": {},
       "output_type": "display_data",
       "text": [
        "<IPython.core.display.Javascript at 0x7fca37532e50>"
       ]
      },
      {
       "javascript": [
        "$('div#ebfe4265-02e0-4e23-ac2f-02467fc26708').width('67.21%')"
       ],
       "metadata": {},
       "output_type": "display_data",
       "text": [
        "<IPython.core.display.Javascript at 0x7fca375320d0>"
       ]
      },
      {
       "javascript": [
        "$('div#ebfe4265-02e0-4e23-ac2f-02467fc26708').width('68.85%')"
       ],
       "metadata": {},
       "output_type": "display_data",
       "text": [
        "<IPython.core.display.Javascript at 0x7fca3759de90>"
       ]
      },
      {
       "javascript": [
        "$('div#ebfe4265-02e0-4e23-ac2f-02467fc26708').width('70.49%')"
       ],
       "metadata": {},
       "output_type": "display_data",
       "text": [
        "<IPython.core.display.Javascript at 0x7fca37532c10>"
       ]
      },
      {
       "javascript": [
        "$('div#ebfe4265-02e0-4e23-ac2f-02467fc26708').width('72.13%')"
       ],
       "metadata": {},
       "output_type": "display_data",
       "text": [
        "<IPython.core.display.Javascript at 0x7fca37532a50>"
       ]
      },
      {
       "javascript": [
        "$('div#ebfe4265-02e0-4e23-ac2f-02467fc26708').width('73.77%')"
       ],
       "metadata": {},
       "output_type": "display_data",
       "text": [
        "<IPython.core.display.Javascript at 0x7fca37532a10>"
       ]
      },
      {
       "javascript": [
        "$('div#ebfe4265-02e0-4e23-ac2f-02467fc26708').width('75.41%')"
       ],
       "metadata": {},
       "output_type": "display_data",
       "text": [
        "<IPython.core.display.Javascript at 0x7fca3759de90>"
       ]
      },
      {
       "javascript": [
        "$('div#ebfe4265-02e0-4e23-ac2f-02467fc26708').width('77.05%')"
       ],
       "metadata": {},
       "output_type": "display_data",
       "text": [
        "<IPython.core.display.Javascript at 0x7fca37532a10>"
       ]
      },
      {
       "javascript": [
        "$('div#ebfe4265-02e0-4e23-ac2f-02467fc26708').width('78.69%')"
       ],
       "metadata": {},
       "output_type": "display_data",
       "text": [
        "<IPython.core.display.Javascript at 0x7fca37532cd0>"
       ]
      },
      {
       "javascript": [
        "$('div#ebfe4265-02e0-4e23-ac2f-02467fc26708').width('80.33%')"
       ],
       "metadata": {},
       "output_type": "display_data",
       "text": [
        "<IPython.core.display.Javascript at 0x7fca37532f90>"
       ]
      },
      {
       "javascript": [
        "$('div#ebfe4265-02e0-4e23-ac2f-02467fc26708').width('81.97%')"
       ],
       "metadata": {},
       "output_type": "display_data",
       "text": [
        "<IPython.core.display.Javascript at 0x7fca37532a50>"
       ]
      },
      {
       "javascript": [
        "$('div#ebfe4265-02e0-4e23-ac2f-02467fc26708').width('83.61%')"
       ],
       "metadata": {},
       "output_type": "display_data",
       "text": [
        "<IPython.core.display.Javascript at 0x7fca37526d50>"
       ]
      },
      {
       "javascript": [
        "$('div#ebfe4265-02e0-4e23-ac2f-02467fc26708').width('85.25%')"
       ],
       "metadata": {},
       "output_type": "display_data",
       "text": [
        "<IPython.core.display.Javascript at 0x7fca37526b50>"
       ]
      },
      {
       "javascript": [
        "$('div#ebfe4265-02e0-4e23-ac2f-02467fc26708').width('86.89%')"
       ],
       "metadata": {},
       "output_type": "display_data",
       "text": [
        "<IPython.core.display.Javascript at 0x7fca37532e50>"
       ]
      },
      {
       "javascript": [
        "$('div#ebfe4265-02e0-4e23-ac2f-02467fc26708').width('88.52%')"
       ],
       "metadata": {},
       "output_type": "display_data",
       "text": [
        "<IPython.core.display.Javascript at 0x7fca375269d0>"
       ]
      },
      {
       "javascript": [
        "$('div#ebfe4265-02e0-4e23-ac2f-02467fc26708').width('90.16%')"
       ],
       "metadata": {},
       "output_type": "display_data",
       "text": [
        "<IPython.core.display.Javascript at 0x7fca37526f50>"
       ]
      },
      {
       "javascript": [
        "$('div#ebfe4265-02e0-4e23-ac2f-02467fc26708').width('91.80%')"
       ],
       "metadata": {},
       "output_type": "display_data",
       "text": [
        "<IPython.core.display.Javascript at 0x7fca37526d10>"
       ]
      },
      {
       "javascript": [
        "$('div#ebfe4265-02e0-4e23-ac2f-02467fc26708').width('93.44%')"
       ],
       "metadata": {},
       "output_type": "display_data",
       "text": [
        "<IPython.core.display.Javascript at 0x7fca37526fd0>"
       ]
      },
      {
       "javascript": [
        "$('div#ebfe4265-02e0-4e23-ac2f-02467fc26708').width('95.08%')"
       ],
       "metadata": {},
       "output_type": "display_data",
       "text": [
        "<IPython.core.display.Javascript at 0x7fca37532cd0>"
       ]
      },
      {
       "javascript": [
        "$('div#ebfe4265-02e0-4e23-ac2f-02467fc26708').width('96.72%')"
       ],
       "metadata": {},
       "output_type": "display_data",
       "text": [
        "<IPython.core.display.Javascript at 0x7fca375262d0>"
       ]
      },
      {
       "javascript": [
        "$('div#ebfe4265-02e0-4e23-ac2f-02467fc26708').width('98.36%')"
       ],
       "metadata": {},
       "output_type": "display_data",
       "text": [
        "<IPython.core.display.Javascript at 0x7fca37558fd0>"
       ]
      },
      {
       "javascript": [
        "$('div#ebfe4265-02e0-4e23-ac2f-02467fc26708').width('100.00%')"
       ],
       "metadata": {},
       "output_type": "display_data",
       "text": [
        "<IPython.core.display.Javascript at 0x7fca37558d10>"
       ]
      }
     ],
     "prompt_number": 5
    },
    {
     "cell_type": "code",
     "collapsed": false,
     "input": [
      "if not os.path.isdir(pth+\"FitFiles/Re_AllSx_DriftBiasLC_Con/pnl_v2\"):\n",
      "    os.mkdir(pth+\"FitFiles/Re_AllSx_DriftBiasLC_Con/pnl_v2\")\n",
      "os.chdir(pth+\"FitFiles/Re_AllSx_DriftBiasLC_Con/pnl_v2\")\n",
      "# init each subject at opt bsl values, \n",
      "# pass to init arg as nested dictionary {sx:{sxtheta}}\n",
      "bsl_popt=pd.read_csv(pth+\"FitFiles/Re_AllSx_DriftBiasLC_Con/bsl/rebsl_v_con_popt_all.csv\", index_col=0)\n",
      "nested_pnl_inits=bsl_popt.T.to_dict()\n",
      "\n",
      "# fit model holding all parameters constant except for onset time (t)\n",
      "pnl_fits=fitre.fit_reactive_data(data=redata_pnl, inits=nested_pnl_inits, all_params=0, depends=['v'], simfx='vector', ntrials=10000, save_path=\"./repnl_v_con_\", ftol=1.e-3, xtol=1.e-3)"
     ],
     "language": "python",
     "metadata": {},
     "outputs": [
      {
       "html": [
        "\n",
        "\t\t\t<div style=\"border: 1px solid black; width:500px\">\n",
        "\t\t\t<div id=\"443e5924-6db7-4ca6-88ff-de9a2112da50\" style=\"background-color:#009B76; width:0%\">&nbsp;</div>\n",
        "\t\t\t</div> \n",
        "\t\t\t"
       ],
       "metadata": {},
       "output_type": "display_data",
       "text": [
        "<IPython.core.display.HTML at 0x7fca3759d4d0>"
       ]
      },
      {
       "javascript": [
        "$('div#443e5924-6db7-4ca6-88ff-de9a2112da50').width('1.64%')"
       ],
       "metadata": {},
       "output_type": "display_data",
       "text": [
        "<IPython.core.display.Javascript at 0x7fca3759d0d0>"
       ]
      },
      {
       "javascript": [
        "$('div#443e5924-6db7-4ca6-88ff-de9a2112da50').width('3.28%')"
       ],
       "metadata": {},
       "output_type": "display_data",
       "text": [
        "<IPython.core.display.Javascript at 0x7fca3759d2d0>"
       ]
      },
      {
       "javascript": [
        "$('div#443e5924-6db7-4ca6-88ff-de9a2112da50').width('4.92%')"
       ],
       "metadata": {},
       "output_type": "display_data",
       "text": [
        "<IPython.core.display.Javascript at 0x7fca3759dc90>"
       ]
      },
      {
       "javascript": [
        "$('div#443e5924-6db7-4ca6-88ff-de9a2112da50').width('6.56%')"
       ],
       "metadata": {},
       "output_type": "display_data",
       "text": [
        "<IPython.core.display.Javascript at 0x7fca3759db50>"
       ]
      },
      {
       "javascript": [
        "$('div#443e5924-6db7-4ca6-88ff-de9a2112da50').width('8.20%')"
       ],
       "metadata": {},
       "output_type": "display_data",
       "text": [
        "<IPython.core.display.Javascript at 0x7fca3759d6d0>"
       ]
      },
      {
       "javascript": [
        "$('div#443e5924-6db7-4ca6-88ff-de9a2112da50').width('9.84%')"
       ],
       "metadata": {},
       "output_type": "display_data",
       "text": [
        "<IPython.core.display.Javascript at 0x7fca3759d2d0>"
       ]
      },
      {
       "javascript": [
        "$('div#443e5924-6db7-4ca6-88ff-de9a2112da50').width('11.48%')"
       ],
       "metadata": {},
       "output_type": "display_data",
       "text": [
        "<IPython.core.display.Javascript at 0x7fca3759d650>"
       ]
      },
      {
       "javascript": [
        "$('div#443e5924-6db7-4ca6-88ff-de9a2112da50').width('13.11%')"
       ],
       "metadata": {},
       "output_type": "display_data",
       "text": [
        "<IPython.core.display.Javascript at 0x7fca37526e10>"
       ]
      },
      {
       "javascript": [
        "$('div#443e5924-6db7-4ca6-88ff-de9a2112da50').width('14.75%')"
       ],
       "metadata": {},
       "output_type": "display_data",
       "text": [
        "<IPython.core.display.Javascript at 0x7fca37526690>"
       ]
      },
      {
       "javascript": [
        "$('div#443e5924-6db7-4ca6-88ff-de9a2112da50').width('16.39%')"
       ],
       "metadata": {},
       "output_type": "display_data",
       "text": [
        "<IPython.core.display.Javascript at 0x7fca37526910>"
       ]
      },
      {
       "javascript": [
        "$('div#443e5924-6db7-4ca6-88ff-de9a2112da50').width('18.03%')"
       ],
       "metadata": {},
       "output_type": "display_data",
       "text": [
        "<IPython.core.display.Javascript at 0x7fca3759dc90>"
       ]
      },
      {
       "javascript": [
        "$('div#443e5924-6db7-4ca6-88ff-de9a2112da50').width('19.67%')"
       ],
       "metadata": {},
       "output_type": "display_data",
       "text": [
        "<IPython.core.display.Javascript at 0x7fca37532cd0>"
       ]
      },
      {
       "javascript": [
        "$('div#443e5924-6db7-4ca6-88ff-de9a2112da50').width('21.31%')"
       ],
       "metadata": {},
       "output_type": "display_data",
       "text": [
        "<IPython.core.display.Javascript at 0x7fca3759d2d0>"
       ]
      },
      {
       "javascript": [
        "$('div#443e5924-6db7-4ca6-88ff-de9a2112da50').width('22.95%')"
       ],
       "metadata": {},
       "output_type": "display_data",
       "text": [
        "<IPython.core.display.Javascript at 0x7fca37532a90>"
       ]
      },
      {
       "javascript": [
        "$('div#443e5924-6db7-4ca6-88ff-de9a2112da50').width('24.59%')"
       ],
       "metadata": {},
       "output_type": "display_data",
       "text": [
        "<IPython.core.display.Javascript at 0x7fca37532250>"
       ]
      },
      {
       "javascript": [
        "$('div#443e5924-6db7-4ca6-88ff-de9a2112da50').width('26.23%')"
       ],
       "metadata": {},
       "output_type": "display_data",
       "text": [
        "<IPython.core.display.Javascript at 0x7fca37532e10>"
       ]
      },
      {
       "javascript": [
        "$('div#443e5924-6db7-4ca6-88ff-de9a2112da50').width('27.87%')"
       ],
       "metadata": {},
       "output_type": "display_data",
       "text": [
        "<IPython.core.display.Javascript at 0x7fca37526910>"
       ]
      },
      {
       "javascript": [
        "$('div#443e5924-6db7-4ca6-88ff-de9a2112da50').width('29.51%')"
       ],
       "metadata": {},
       "output_type": "display_data",
       "text": [
        "<IPython.core.display.Javascript at 0x7fca37532510>"
       ]
      },
      {
       "javascript": [
        "$('div#443e5924-6db7-4ca6-88ff-de9a2112da50').width('31.15%')"
       ],
       "metadata": {},
       "output_type": "display_data",
       "text": [
        "<IPython.core.display.Javascript at 0x7fca37532190>"
       ]
      },
      {
       "javascript": [
        "$('div#443e5924-6db7-4ca6-88ff-de9a2112da50').width('32.79%')"
       ],
       "metadata": {},
       "output_type": "display_data",
       "text": [
        "<IPython.core.display.Javascript at 0x7fca375b6ed0>"
       ]
      },
      {
       "javascript": [
        "$('div#443e5924-6db7-4ca6-88ff-de9a2112da50').width('34.43%')"
       ],
       "metadata": {},
       "output_type": "display_data",
       "text": [
        "<IPython.core.display.Javascript at 0x7fca375b6fd0>"
       ]
      },
      {
       "javascript": [
        "$('div#443e5924-6db7-4ca6-88ff-de9a2112da50').width('36.07%')"
       ],
       "metadata": {},
       "output_type": "display_data",
       "text": [
        "<IPython.core.display.Javascript at 0x7fca375b6d90>"
       ]
      },
      {
       "javascript": [
        "$('div#443e5924-6db7-4ca6-88ff-de9a2112da50').width('37.70%')"
       ],
       "metadata": {},
       "output_type": "display_data",
       "text": [
        "<IPython.core.display.Javascript at 0x7fca375264d0>"
       ]
      },
      {
       "javascript": [
        "$('div#443e5924-6db7-4ca6-88ff-de9a2112da50').width('39.34%')"
       ],
       "metadata": {},
       "output_type": "display_data",
       "text": [
        "<IPython.core.display.Javascript at 0x7fca375b6250>"
       ]
      },
      {
       "javascript": [
        "$('div#443e5924-6db7-4ca6-88ff-de9a2112da50').width('40.98%')"
       ],
       "metadata": {},
       "output_type": "display_data",
       "text": [
        "<IPython.core.display.Javascript at 0x7fca37532dd0>"
       ]
      },
      {
       "javascript": [
        "$('div#443e5924-6db7-4ca6-88ff-de9a2112da50').width('42.62%')"
       ],
       "metadata": {},
       "output_type": "display_data",
       "text": [
        "<IPython.core.display.Javascript at 0x7fca375b6210>"
       ]
      },
      {
       "javascript": [
        "$('div#443e5924-6db7-4ca6-88ff-de9a2112da50').width('44.26%')"
       ],
       "metadata": {},
       "output_type": "display_data",
       "text": [
        "<IPython.core.display.Javascript at 0x7fca37526fd0>"
       ]
      },
      {
       "javascript": [
        "$('div#443e5924-6db7-4ca6-88ff-de9a2112da50').width('45.90%')"
       ],
       "metadata": {},
       "output_type": "display_data",
       "text": [
        "<IPython.core.display.Javascript at 0x7fca37558750>"
       ]
      },
      {
       "javascript": [
        "$('div#443e5924-6db7-4ca6-88ff-de9a2112da50').width('47.54%')"
       ],
       "metadata": {},
       "output_type": "display_data",
       "text": [
        "<IPython.core.display.Javascript at 0x7fca37558510>"
       ]
      },
      {
       "javascript": [
        "$('div#443e5924-6db7-4ca6-88ff-de9a2112da50').width('49.18%')"
       ],
       "metadata": {},
       "output_type": "display_data",
       "text": [
        "<IPython.core.display.Javascript at 0x7fca37558fd0>"
       ]
      },
      {
       "javascript": [
        "$('div#443e5924-6db7-4ca6-88ff-de9a2112da50').width('50.82%')"
       ],
       "metadata": {},
       "output_type": "display_data",
       "text": [
        "<IPython.core.display.Javascript at 0x7fca37558350>"
       ]
      },
      {
       "javascript": [
        "$('div#443e5924-6db7-4ca6-88ff-de9a2112da50').width('52.46%')"
       ],
       "metadata": {},
       "output_type": "display_data",
       "text": [
        "<IPython.core.display.Javascript at 0x7fca37558bd0>"
       ]
      },
      {
       "javascript": [
        "$('div#443e5924-6db7-4ca6-88ff-de9a2112da50').width('54.10%')"
       ],
       "metadata": {},
       "output_type": "display_data",
       "text": [
        "<IPython.core.display.Javascript at 0x7fca37558890>"
       ]
      },
      {
       "javascript": [
        "$('div#443e5924-6db7-4ca6-88ff-de9a2112da50').width('55.74%')"
       ],
       "metadata": {},
       "output_type": "display_data",
       "text": [
        "<IPython.core.display.Javascript at 0x7fca37526dd0>"
       ]
      },
      {
       "javascript": [
        "$('div#443e5924-6db7-4ca6-88ff-de9a2112da50').width('57.38%')"
       ],
       "metadata": {},
       "output_type": "display_data",
       "text": [
        "<IPython.core.display.Javascript at 0x7fca37558710>"
       ]
      },
      {
       "javascript": [
        "$('div#443e5924-6db7-4ca6-88ff-de9a2112da50').width('59.02%')"
       ],
       "metadata": {},
       "output_type": "display_data",
       "text": [
        "<IPython.core.display.Javascript at 0x7fca375b6450>"
       ]
      },
      {
       "javascript": [
        "$('div#443e5924-6db7-4ca6-88ff-de9a2112da50').width('60.66%')"
       ],
       "metadata": {},
       "output_type": "display_data",
       "text": [
        "<IPython.core.display.Javascript at 0x7fca37569b50>"
       ]
      },
      {
       "javascript": [
        "$('div#443e5924-6db7-4ca6-88ff-de9a2112da50').width('62.30%')"
       ],
       "metadata": {},
       "output_type": "display_data",
       "text": [
        "<IPython.core.display.Javascript at 0x7fca375b6610>"
       ]
      },
      {
       "javascript": [
        "$('div#443e5924-6db7-4ca6-88ff-de9a2112da50').width('63.93%')"
       ],
       "metadata": {},
       "output_type": "display_data",
       "text": [
        "<IPython.core.display.Javascript at 0x7fca37526c10>"
       ]
      },
      {
       "javascript": [
        "$('div#443e5924-6db7-4ca6-88ff-de9a2112da50').width('65.57%')"
       ],
       "metadata": {},
       "output_type": "display_data",
       "text": [
        "<IPython.core.display.Javascript at 0x7fca375b6fd0>"
       ]
      },
      {
       "javascript": [
        "$('div#443e5924-6db7-4ca6-88ff-de9a2112da50').width('67.21%')"
       ],
       "metadata": {},
       "output_type": "display_data",
       "text": [
        "<IPython.core.display.Javascript at 0x7fca3759de10>"
       ]
      },
      {
       "javascript": [
        "$('div#443e5924-6db7-4ca6-88ff-de9a2112da50').width('68.85%')"
       ],
       "metadata": {},
       "output_type": "display_data",
       "text": [
        "<IPython.core.display.Javascript at 0x7fca37558910>"
       ]
      },
      {
       "javascript": [
        "$('div#443e5924-6db7-4ca6-88ff-de9a2112da50').width('70.49%')"
       ],
       "metadata": {},
       "output_type": "display_data",
       "text": [
        "<IPython.core.display.Javascript at 0x7fca375261d0>"
       ]
      },
      {
       "javascript": [
        "$('div#443e5924-6db7-4ca6-88ff-de9a2112da50').width('72.13%')"
       ],
       "metadata": {},
       "output_type": "display_data",
       "text": [
        "<IPython.core.display.Javascript at 0x7fca37532c90>"
       ]
      },
      {
       "javascript": [
        "$('div#443e5924-6db7-4ca6-88ff-de9a2112da50').width('73.77%')"
       ],
       "metadata": {},
       "output_type": "display_data",
       "text": [
        "<IPython.core.display.Javascript at 0x7fca375b6210>"
       ]
      },
      {
       "javascript": [
        "$('div#443e5924-6db7-4ca6-88ff-de9a2112da50').width('75.41%')"
       ],
       "metadata": {},
       "output_type": "display_data",
       "text": [
        "<IPython.core.display.Javascript at 0x7fca3759de10>"
       ]
      },
      {
       "javascript": [
        "$('div#443e5924-6db7-4ca6-88ff-de9a2112da50').width('77.05%')"
       ],
       "metadata": {},
       "output_type": "display_data",
       "text": [
        "<IPython.core.display.Javascript at 0x7fca37532bd0>"
       ]
      },
      {
       "javascript": [
        "$('div#443e5924-6db7-4ca6-88ff-de9a2112da50').width('78.69%')"
       ],
       "metadata": {},
       "output_type": "display_data",
       "text": [
        "<IPython.core.display.Javascript at 0x7fca37526710>"
       ]
      },
      {
       "javascript": [
        "$('div#443e5924-6db7-4ca6-88ff-de9a2112da50').width('80.33%')"
       ],
       "metadata": {},
       "output_type": "display_data",
       "text": [
        "<IPython.core.display.Javascript at 0x7fca37569d90>"
       ]
      },
      {
       "javascript": [
        "$('div#443e5924-6db7-4ca6-88ff-de9a2112da50').width('81.97%')"
       ],
       "metadata": {},
       "output_type": "display_data",
       "text": [
        "<IPython.core.display.Javascript at 0x7fca37532ad0>"
       ]
      },
      {
       "javascript": [
        "$('div#443e5924-6db7-4ca6-88ff-de9a2112da50').width('83.61%')"
       ],
       "metadata": {},
       "output_type": "display_data",
       "text": [
        "<IPython.core.display.Javascript at 0x7fca375b6610>"
       ]
      },
      {
       "javascript": [
        "$('div#443e5924-6db7-4ca6-88ff-de9a2112da50').width('85.25%')"
       ],
       "metadata": {},
       "output_type": "display_data",
       "text": [
        "<IPython.core.display.Javascript at 0x7fca37532450>"
       ]
      },
      {
       "javascript": [
        "$('div#443e5924-6db7-4ca6-88ff-de9a2112da50').width('86.89%')"
       ],
       "metadata": {},
       "output_type": "display_data",
       "text": [
        "<IPython.core.display.Javascript at 0x7fca37558910>"
       ]
      },
      {
       "javascript": [
        "$('div#443e5924-6db7-4ca6-88ff-de9a2112da50').width('88.52%')"
       ],
       "metadata": {},
       "output_type": "display_data",
       "text": [
        "<IPython.core.display.Javascript at 0x7fca3759d190>"
       ]
      },
      {
       "javascript": [
        "$('div#443e5924-6db7-4ca6-88ff-de9a2112da50').width('90.16%')"
       ],
       "metadata": {},
       "output_type": "display_data",
       "text": [
        "<IPython.core.display.Javascript at 0x7fca37532c90>"
       ]
      },
      {
       "javascript": [
        "$('div#443e5924-6db7-4ca6-88ff-de9a2112da50').width('91.80%')"
       ],
       "metadata": {},
       "output_type": "display_data",
       "text": [
        "<IPython.core.display.Javascript at 0x7fca37526710>"
       ]
      },
      {
       "javascript": [
        "$('div#443e5924-6db7-4ca6-88ff-de9a2112da50').width('93.44%')"
       ],
       "metadata": {},
       "output_type": "display_data",
       "text": [
        "<IPython.core.display.Javascript at 0x7fca3759d910>"
       ]
      },
      {
       "javascript": [
        "$('div#443e5924-6db7-4ca6-88ff-de9a2112da50').width('95.08%')"
       ],
       "metadata": {},
       "output_type": "display_data",
       "text": [
        "<IPython.core.display.Javascript at 0x7fca375448d0>"
       ]
      },
      {
       "javascript": [
        "$('div#443e5924-6db7-4ca6-88ff-de9a2112da50').width('96.72%')"
       ],
       "metadata": {},
       "output_type": "display_data",
       "text": [
        "<IPython.core.display.Javascript at 0x7fca375b6610>"
       ]
      },
      {
       "javascript": [
        "$('div#443e5924-6db7-4ca6-88ff-de9a2112da50').width('98.36%')"
       ],
       "metadata": {},
       "output_type": "display_data",
       "text": [
        "<IPython.core.display.Javascript at 0x7fca37526710>"
       ]
      },
      {
       "javascript": [
        "$('div#443e5924-6db7-4ca6-88ff-de9a2112da50').width('100.00%')"
       ],
       "metadata": {},
       "output_type": "display_data",
       "text": [
        "<IPython.core.display.Javascript at 0x7fca37532ad0>"
       ]
      }
     ],
     "prompt_number": 6
    },
    {
     "cell_type": "heading",
     "level": 1,
     "metadata": {},
     "source": [
      "RePNL Inits All Free Model"
     ]
    },
    {
     "cell_type": "code",
     "collapsed": false,
     "input": [
      "if not os.path.isdir(pth+\"FitFiles/Re_AllSx_DriftBiasLC_Con/pnl_free\"):\n",
      "    os.mkdir(pth+\"FitFiles/Re_AllSx_DriftBiasLC_Con/pnl_free\")\n",
      "os.chdir(pth+\"FitFiles/Re_AllSx_DriftBiasLC_Con/pnl_free\")\n",
      "\n",
      "# fit model initialized at hddm pnl inits with all parameters free\n",
      "bsl_popt=pd.read_csv(\"/home/kyle/Dropbox/CoAx/SS/FitFiles/Re_AllSx_OnsetBiasLC_Con/bsl/rebsl_tr_con_popt_all.csv\", index_col=0)\n",
      "nested_pnl_inits=bsl_popt.T.to_dict()\n",
      "\n",
      "pnl_fits=fitre.fit_reactive_data(data=redata_pnl, inits=nested_pnl_inits, all_params=1, simfx='vector', ntrials = 2000, save_path=\"./repnl_free_con_\", ftol=1.e-3, xtol=1.e-3)"
     ],
     "language": "python",
     "metadata": {},
     "outputs": [
      {
       "html": [
        "\n",
        "\t\t\t<div style=\"border: 1px solid black; width:500px\">\n",
        "\t\t\t<div id=\"571a374c-88ec-4612-9905-03db3d7655c3\" style=\"background-color:#009B76; width:0%\">&nbsp;</div>\n",
        "\t\t\t</div> \n",
        "\t\t\t"
       ],
       "metadata": {},
       "output_type": "display_data",
       "text": [
        "<IPython.core.display.HTML at 0x7fca37532450>"
       ]
      },
      {
       "javascript": [
        "$('div#571a374c-88ec-4612-9905-03db3d7655c3').width('1.64%')"
       ],
       "metadata": {},
       "output_type": "display_data",
       "text": [
        "<IPython.core.display.Javascript at 0x7fca37532890>"
       ]
      },
      {
       "javascript": [
        "$('div#571a374c-88ec-4612-9905-03db3d7655c3').width('3.28%')"
       ],
       "metadata": {},
       "output_type": "display_data",
       "text": [
        "<IPython.core.display.Javascript at 0x7fca37532d50>"
       ]
      },
      {
       "javascript": [
        "$('div#571a374c-88ec-4612-9905-03db3d7655c3').width('4.92%')"
       ],
       "metadata": {},
       "output_type": "display_data",
       "text": [
        "<IPython.core.display.Javascript at 0x7fca37532290>"
       ]
      },
      {
       "javascript": [
        "$('div#571a374c-88ec-4612-9905-03db3d7655c3').width('6.56%')"
       ],
       "metadata": {},
       "output_type": "display_data",
       "text": [
        "<IPython.core.display.Javascript at 0x7fca37526b10>"
       ]
      },
      {
       "javascript": [
        "$('div#571a374c-88ec-4612-9905-03db3d7655c3').width('8.20%')"
       ],
       "metadata": {},
       "output_type": "display_data",
       "text": [
        "<IPython.core.display.Javascript at 0x7fca375b69d0>"
       ]
      },
      {
       "javascript": [
        "$('div#571a374c-88ec-4612-9905-03db3d7655c3').width('9.84%')"
       ],
       "metadata": {},
       "output_type": "display_data",
       "text": [
        "<IPython.core.display.Javascript at 0x7fca375321d0>"
       ]
      },
      {
       "javascript": [
        "$('div#571a374c-88ec-4612-9905-03db3d7655c3').width('11.48%')"
       ],
       "metadata": {},
       "output_type": "display_data",
       "text": [
        "<IPython.core.display.Javascript at 0x7fca37532d10>"
       ]
      },
      {
       "javascript": [
        "$('div#571a374c-88ec-4612-9905-03db3d7655c3').width('13.11%')"
       ],
       "metadata": {},
       "output_type": "display_data",
       "text": [
        "<IPython.core.display.Javascript at 0x7fca375b62d0>"
       ]
      },
      {
       "javascript": [
        "$('div#571a374c-88ec-4612-9905-03db3d7655c3').width('14.75%')"
       ],
       "metadata": {},
       "output_type": "display_data",
       "text": [
        "<IPython.core.display.Javascript at 0x7fca375268d0>"
       ]
      },
      {
       "javascript": [
        "$('div#571a374c-88ec-4612-9905-03db3d7655c3').width('16.39%')"
       ],
       "metadata": {},
       "output_type": "display_data",
       "text": [
        "<IPython.core.display.Javascript at 0x7fca37526a50>"
       ]
      },
      {
       "javascript": [
        "$('div#571a374c-88ec-4612-9905-03db3d7655c3').width('18.03%')"
       ],
       "metadata": {},
       "output_type": "display_data",
       "text": [
        "<IPython.core.display.Javascript at 0x7fca37532890>"
       ]
      },
      {
       "javascript": [
        "$('div#571a374c-88ec-4612-9905-03db3d7655c3').width('19.67%')"
       ],
       "metadata": {},
       "output_type": "display_data",
       "text": [
        "<IPython.core.display.Javascript at 0x7fca37526190>"
       ]
      },
      {
       "javascript": [
        "$('div#571a374c-88ec-4612-9905-03db3d7655c3').width('21.31%')"
       ],
       "metadata": {},
       "output_type": "display_data",
       "text": [
        "<IPython.core.display.Javascript at 0x7fca375268d0>"
       ]
      },
      {
       "javascript": [
        "$('div#571a374c-88ec-4612-9905-03db3d7655c3').width('22.95%')"
       ],
       "metadata": {},
       "output_type": "display_data",
       "text": [
        "<IPython.core.display.Javascript at 0x7fca375b69d0>"
       ]
      },
      {
       "javascript": [
        "$('div#571a374c-88ec-4612-9905-03db3d7655c3').width('24.59%')"
       ],
       "metadata": {},
       "output_type": "display_data",
       "text": [
        "<IPython.core.display.Javascript at 0x7fca37526a50>"
       ]
      },
      {
       "javascript": [
        "$('div#571a374c-88ec-4612-9905-03db3d7655c3').width('26.23%')"
       ],
       "metadata": {},
       "output_type": "display_data",
       "text": [
        "<IPython.core.display.Javascript at 0x7fca375267d0>"
       ]
      },
      {
       "javascript": [
        "$('div#571a374c-88ec-4612-9905-03db3d7655c3').width('27.87%')"
       ],
       "metadata": {},
       "output_type": "display_data",
       "text": [
        "<IPython.core.display.Javascript at 0x7fca37501f50>"
       ]
      },
      {
       "javascript": [
        "$('div#571a374c-88ec-4612-9905-03db3d7655c3').width('29.51%')"
       ],
       "metadata": {},
       "output_type": "display_data",
       "text": [
        "<IPython.core.display.Javascript at 0x7fca37501750>"
       ]
      },
      {
       "javascript": [
        "$('div#571a374c-88ec-4612-9905-03db3d7655c3').width('31.15%')"
       ],
       "metadata": {},
       "output_type": "display_data",
       "text": [
        "<IPython.core.display.Javascript at 0x7fca37501b10>"
       ]
      },
      {
       "javascript": [
        "$('div#571a374c-88ec-4612-9905-03db3d7655c3').width('32.79%')"
       ],
       "metadata": {},
       "output_type": "display_data",
       "text": [
        "<IPython.core.display.Javascript at 0x7fca37501d90>"
       ]
      },
      {
       "javascript": [
        "$('div#571a374c-88ec-4612-9905-03db3d7655c3').width('34.43%')"
       ],
       "metadata": {},
       "output_type": "display_data",
       "text": [
        "<IPython.core.display.Javascript at 0x7fca37558f50>"
       ]
      },
      {
       "javascript": [
        "$('div#571a374c-88ec-4612-9905-03db3d7655c3').width('36.07%')"
       ],
       "metadata": {},
       "output_type": "display_data",
       "text": [
        "<IPython.core.display.Javascript at 0x7fca37526a50>"
       ]
      },
      {
       "javascript": [
        "$('div#571a374c-88ec-4612-9905-03db3d7655c3').width('37.70%')"
       ],
       "metadata": {},
       "output_type": "display_data",
       "text": [
        "<IPython.core.display.Javascript at 0x7fca37501a10>"
       ]
      },
      {
       "javascript": [
        "$('div#571a374c-88ec-4612-9905-03db3d7655c3').width('39.34%')"
       ],
       "metadata": {},
       "output_type": "display_data",
       "text": [
        "<IPython.core.display.Javascript at 0x7fca375b62d0>"
       ]
      },
      {
       "javascript": [
        "$('div#571a374c-88ec-4612-9905-03db3d7655c3').width('40.98%')"
       ],
       "metadata": {},
       "output_type": "display_data",
       "text": [
        "<IPython.core.display.Javascript at 0x7fca37501f10>"
       ]
      },
      {
       "javascript": [
        "$('div#571a374c-88ec-4612-9905-03db3d7655c3').width('42.62%')"
       ],
       "metadata": {},
       "output_type": "display_data",
       "text": [
        "<IPython.core.display.Javascript at 0x7fca37501150>"
       ]
      },
      {
       "javascript": [
        "$('div#571a374c-88ec-4612-9905-03db3d7655c3').width('44.26%')"
       ],
       "metadata": {},
       "output_type": "display_data",
       "text": [
        "<IPython.core.display.Javascript at 0x7fca375582d0>"
       ]
      },
      {
       "javascript": [
        "$('div#571a374c-88ec-4612-9905-03db3d7655c3').width('45.90%')"
       ],
       "metadata": {},
       "output_type": "display_data",
       "text": [
        "<IPython.core.display.Javascript at 0x7fca37501450>"
       ]
      },
      {
       "javascript": [
        "$('div#571a374c-88ec-4612-9905-03db3d7655c3').width('47.54%')"
       ],
       "metadata": {},
       "output_type": "display_data",
       "text": [
        "<IPython.core.display.Javascript at 0x7fca3759dc50>"
       ]
      },
      {
       "javascript": [
        "$('div#571a374c-88ec-4612-9905-03db3d7655c3').width('49.18%')"
       ],
       "metadata": {},
       "output_type": "display_data",
       "text": [
        "<IPython.core.display.Javascript at 0x7fca375b62d0>"
       ]
      },
      {
       "javascript": [
        "$('div#571a374c-88ec-4612-9905-03db3d7655c3').width('50.82%')"
       ],
       "metadata": {},
       "output_type": "display_data",
       "text": [
        "<IPython.core.display.Javascript at 0x7fca3759da50>"
       ]
      },
      {
       "javascript": [
        "$('div#571a374c-88ec-4612-9905-03db3d7655c3').width('52.46%')"
       ],
       "metadata": {},
       "output_type": "display_data",
       "text": [
        "<IPython.core.display.Javascript at 0x7fca3759d250>"
       ]
      },
      {
       "javascript": [
        "$('div#571a374c-88ec-4612-9905-03db3d7655c3').width('54.10%')"
       ],
       "metadata": {},
       "output_type": "display_data",
       "text": [
        "<IPython.core.display.Javascript at 0x7fca3759d2d0>"
       ]
      },
      {
       "javascript": [
        "$('div#571a374c-88ec-4612-9905-03db3d7655c3').width('55.74%')"
       ],
       "metadata": {},
       "output_type": "display_data",
       "text": [
        "<IPython.core.display.Javascript at 0x7fca37544450>"
       ]
      },
      {
       "javascript": [
        "$('div#571a374c-88ec-4612-9905-03db3d7655c3').width('57.38%')"
       ],
       "metadata": {},
       "output_type": "display_data",
       "text": [
        "<IPython.core.display.Javascript at 0x7fca37544f10>"
       ]
      },
      {
       "javascript": [
        "$('div#571a374c-88ec-4612-9905-03db3d7655c3').width('59.02%')"
       ],
       "metadata": {},
       "output_type": "display_data",
       "text": [
        "<IPython.core.display.Javascript at 0x7fca37501890>"
       ]
      },
      {
       "javascript": [
        "$('div#571a374c-88ec-4612-9905-03db3d7655c3').width('60.66%')"
       ],
       "metadata": {},
       "output_type": "display_data",
       "text": [
        "<IPython.core.display.Javascript at 0x7fca37544d10>"
       ]
      },
      {
       "javascript": [
        "$('div#571a374c-88ec-4612-9905-03db3d7655c3').width('62.30%')"
       ],
       "metadata": {},
       "output_type": "display_data",
       "text": [
        "<IPython.core.display.Javascript at 0x7fca37558f50>"
       ]
      },
      {
       "javascript": [
        "$('div#571a374c-88ec-4612-9905-03db3d7655c3').width('63.93%')"
       ],
       "metadata": {},
       "output_type": "display_data",
       "text": [
        "<IPython.core.display.Javascript at 0x7fca37501a10>"
       ]
      },
      {
       "javascript": [
        "$('div#571a374c-88ec-4612-9905-03db3d7655c3').width('65.57%')"
       ],
       "metadata": {},
       "output_type": "display_data",
       "text": [
        "<IPython.core.display.Javascript at 0x7fca37544450>"
       ]
      },
      {
       "javascript": [
        "$('div#571a374c-88ec-4612-9905-03db3d7655c3').width('67.21%')"
       ],
       "metadata": {},
       "output_type": "display_data",
       "text": [
        "<IPython.core.display.Javascript at 0x7fca3759d190>"
       ]
      },
      {
       "javascript": [
        "$('div#571a374c-88ec-4612-9905-03db3d7655c3').width('68.85%')"
       ],
       "metadata": {},
       "output_type": "display_data",
       "text": [
        "<IPython.core.display.Javascript at 0x7fca37501890>"
       ]
      },
      {
       "javascript": [
        "$('div#571a374c-88ec-4612-9905-03db3d7655c3').width('70.49%')"
       ],
       "metadata": {},
       "output_type": "display_data",
       "text": [
        "<IPython.core.display.Javascript at 0x7fca37544950>"
       ]
      },
      {
       "javascript": [
        "$('div#571a374c-88ec-4612-9905-03db3d7655c3').width('72.13%')"
       ],
       "metadata": {},
       "output_type": "display_data",
       "text": [
        "<IPython.core.display.Javascript at 0x7fca37501e90>"
       ]
      },
      {
       "javascript": [
        "$('div#571a374c-88ec-4612-9905-03db3d7655c3').width('73.77%')"
       ],
       "metadata": {},
       "output_type": "display_data",
       "text": [
        "<IPython.core.display.Javascript at 0x7fca37509f50>"
       ]
      },
      {
       "javascript": [
        "$('div#571a374c-88ec-4612-9905-03db3d7655c3').width('75.41%')"
       ],
       "metadata": {},
       "output_type": "display_data",
       "text": [
        "<IPython.core.display.Javascript at 0x7fca37509850>"
       ]
      },
      {
       "javascript": [
        "$('div#571a374c-88ec-4612-9905-03db3d7655c3').width('77.05%')"
       ],
       "metadata": {},
       "output_type": "display_data",
       "text": [
        "<IPython.core.display.Javascript at 0x7fca37509c50>"
       ]
      },
      {
       "javascript": [
        "$('div#571a374c-88ec-4612-9905-03db3d7655c3').width('78.69%')"
       ],
       "metadata": {},
       "output_type": "display_data",
       "text": [
        "<IPython.core.display.Javascript at 0x7fca37509a50>"
       ]
      },
      {
       "javascript": [
        "$('div#571a374c-88ec-4612-9905-03db3d7655c3').width('80.33%')"
       ],
       "metadata": {},
       "output_type": "display_data",
       "text": [
        "<IPython.core.display.Javascript at 0x7fca37509710>"
       ]
      },
      {
       "javascript": [
        "$('div#571a374c-88ec-4612-9905-03db3d7655c3').width('81.97%')"
       ],
       "metadata": {},
       "output_type": "display_data",
       "text": [
        "<IPython.core.display.Javascript at 0x7fca37509550>"
       ]
      },
      {
       "javascript": [
        "$('div#571a374c-88ec-4612-9905-03db3d7655c3').width('83.61%')"
       ],
       "metadata": {},
       "output_type": "display_data",
       "text": [
        "<IPython.core.display.Javascript at 0x7fca3759dfd0>"
       ]
      },
      {
       "javascript": [
        "$('div#571a374c-88ec-4612-9905-03db3d7655c3').width('85.25%')"
       ],
       "metadata": {},
       "output_type": "display_data",
       "text": [
        "<IPython.core.display.Javascript at 0x7fca37501e90>"
       ]
      },
      {
       "javascript": [
        "$('div#571a374c-88ec-4612-9905-03db3d7655c3').width('86.89%')"
       ],
       "metadata": {},
       "output_type": "display_data",
       "text": [
        "<IPython.core.display.Javascript at 0x7fca37509050>"
       ]
      },
      {
       "javascript": [
        "$('div#571a374c-88ec-4612-9905-03db3d7655c3').width('88.52%')"
       ],
       "metadata": {},
       "output_type": "display_data",
       "text": [
        "<IPython.core.display.Javascript at 0x7fca3759de10>"
       ]
      },
      {
       "javascript": [
        "$('div#571a374c-88ec-4612-9905-03db3d7655c3').width('90.16%')"
       ],
       "metadata": {},
       "output_type": "display_data",
       "text": [
        "<IPython.core.display.Javascript at 0x7fca375013d0>"
       ]
      },
      {
       "javascript": [
        "$('div#571a374c-88ec-4612-9905-03db3d7655c3').width('91.80%')"
       ],
       "metadata": {},
       "output_type": "display_data",
       "text": [
        "<IPython.core.display.Javascript at 0x7fca3759d310>"
       ]
      },
      {
       "javascript": [
        "$('div#571a374c-88ec-4612-9905-03db3d7655c3').width('93.44%')"
       ],
       "metadata": {},
       "output_type": "display_data",
       "text": [
        "<IPython.core.display.Javascript at 0x7fca37544e10>"
       ]
      },
      {
       "javascript": [
        "$('div#571a374c-88ec-4612-9905-03db3d7655c3').width('95.08%')"
       ],
       "metadata": {},
       "output_type": "display_data",
       "text": [
        "<IPython.core.display.Javascript at 0x7fca37501e90>"
       ]
      },
      {
       "javascript": [
        "$('div#571a374c-88ec-4612-9905-03db3d7655c3').width('96.72%')"
       ],
       "metadata": {},
       "output_type": "display_data",
       "text": [
        "<IPython.core.display.Javascript at 0x7fca375b6450>"
       ]
      },
      {
       "javascript": [
        "$('div#571a374c-88ec-4612-9905-03db3d7655c3').width('98.36%')"
       ],
       "metadata": {},
       "output_type": "display_data",
       "text": [
        "<IPython.core.display.Javascript at 0x7fca37558ad0>"
       ]
      },
      {
       "javascript": [
        "$('div#571a374c-88ec-4612-9905-03db3d7655c3').width('100.00%')"
       ],
       "metadata": {},
       "output_type": "display_data",
       "text": [
        "<IPython.core.display.Javascript at 0x7fca37532e90>"
       ]
      }
     ],
     "prompt_number": 7
    },
    {
     "cell_type": "heading",
     "level": 1,
     "metadata": {},
     "source": [
      "RePNL Onset/Drift Bias Model (TR, V Free; A, Z Fixed) "
     ]
    },
    {
     "cell_type": "code",
     "collapsed": false,
     "input": [
      "if not os.path.isdir(pth+\"FitFiles/Re_AllSx_DriftBiasLC_Con/pnl_tv\"):\n",
      "    os.mkdir(pth+\"FitFiles/Re_AllSx_DriftBiasLC_Con/pnl_tv\")\n",
      "os.chdir(pth+\"FitFiles/Re_AllSx_DriftBiasLC_Con/pnl_tv\")"
     ],
     "language": "python",
     "metadata": {},
     "outputs": []
    },
    {
     "cell_type": "code",
     "collapsed": true,
     "input": [
      "# init each subject at opt bsl values, \n",
      "# pass to init arg as nested dictionary {sx:{a:###, 'v':###, 't': ###, 'z':###}}\n",
      "bsl_popt=pd.read_csv(pth+\"FitFiles/Re_AllSx_OnsetBiasLC_Con/bsl/rebsl_tr_con_popt_all.csv\", index_col=0)\n",
      "nested_pnl_inits=bsl_popt.T.to_dict()\n",
      "\n",
      "# fit model holding all parameters constant except for onset time (t)\n",
      "pnl_fits=fitre.fit_reactive_data(data=redata_pnl, inits=nested_pnl_inits, all_params=0, depends=['t','v'], simfx='lc', ntrials=2000, save_path=\"./repnl_tv_con_\")"
     ],
     "language": "python",
     "metadata": {},
     "outputs": []
    },
    {
     "cell_type": "heading",
     "level": 3,
     "metadata": {},
     "source": [
      "OLD Re Flat & IDX Fitted Parameters (BSL)"
     ]
    },
    {
     "cell_type": "code",
     "collapsed": false,
     "input": [
      "# optimized parameters fit to flat group data using RaDD \n",
      "# passed to sx fitting function as initial params for each sx\n",
      "inits={'a': 0.43155063058963727, 'ssv': -0.96986662065537221, \n",
      "         't': 0.30656375144494813, 'v': 1.0366001760617101, 'z': 0.16611261860323445}\n",
      "\n",
      "#ReBSL Avg of Individual Sx Optimized RADD Parameters\n",
      "inits_opt={'a':0.4380473426, 'ssv':-0.9784438748, 't':0.3063577618, 'z':0.1664076139,'v': 1.0515686029}"
     ],
     "language": "python",
     "metadata": {},
     "outputs": []
    },
    {
     "cell_type": "heading",
     "level": 3,
     "metadata": {},
     "source": [
      "Reactive Empirical Data "
     ]
    },
    {
     "cell_type": "code",
     "collapsed": false,
     "input": [
      "#Reactive Emprical Data for BSL, PNL Conditions\n",
      "reSC=[np.array([ 0.99482759,  0.98362069,  0.89913793,  0.5137931 ,  0.09913793]),np.array([ 0.99310345,  0.98534483,  0.92672414,  0.6       ,  0.17758621])]\n",
      "reSC_err=[np.array([ 0.00463002,  0.01061342,  0.02947119,  0.06475839,  0.0300568 ]), np.array([ 0.00657836,  0.00902168,  0.0244885 ,  0.05038838,  0.03991182])]\n",
      "\n",
      "reRT=[560.06155060636706, 566.04816069768106]\n",
      "reRT_err=[5.0285142629924566, 4.1756849148121304]"
     ],
     "language": "python",
     "metadata": {},
     "outputs": []
    },
    {
     "cell_type": "code",
     "collapsed": false,
     "input": [
      "from scipy.optimize import differential_evolution\n",
      "\n",
      "def ackley(x):\n",
      "    arg1 = -0.2 * np.sqrt(0.5 * (x[0] ** 2 + x[1] ** 2))\n",
      "    arg2 = 0.5 * (np.cos(2. * np.pi * x[0]) + np.cos(2. * np.pi * x[1]))\n",
      "    return -20. * np.exp(arg1) - np.exp(arg2) + 20. + np.e\n",
      "\n",
      "bounds = [(-5, 5), (-5, 5)]\n",
      "result = differential_evolution(ackley, bounds)\n",
      "result.x, result.fun"
     ],
     "language": "python",
     "metadata": {},
     "outputs": []
    }
   ],
   "metadata": {}
  }
 ]
}