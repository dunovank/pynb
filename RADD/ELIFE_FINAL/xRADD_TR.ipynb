{
 "cells": [
  {
   "cell_type": "code",
   "execution_count": 1,
   "metadata": {
    "collapsed": false
   },
   "outputs": [],
   "source": [
    "from radd import build, models, fit, vis\n",
    "from radd.toolbox import theta"
   ]
  },
  {
   "cell_type": "code",
   "execution_count": 2,
   "metadata": {
    "collapsed": false
   },
   "outputs": [
    {
     "name": "stdout",
     "output_type": "stream",
     "text": [
      "/home/kyle/Dropbox/XRADD_TR_Final\n"
     ]
    }
   ],
   "source": [
    "%mkdir XRADD_TR_Final\n",
    "%cd XRADD_TR_Final"
   ]
  },
  {
   "cell_type": "code",
   "execution_count": 21,
   "metadata": {
    "collapsed": false
   },
   "outputs": [],
   "source": [
    "m = build.Model(data=redf_store.redata, kind='xradd', dynamic='hyp', depends_on={'tr':'Cond'})\n",
    "m.make_optimizer(tol=1.e-10, multiopt=True)"
   ]
  },
  {
   "cell_type": "code",
   "execution_count": 22,
   "metadata": {
    "collapsed": false
   },
   "outputs": [
    {
     "name": "stdout",
     "output_type": "stream",
     "text": [
      "Warning: Maximum number of function evaluations has been exceeded.\n",
      "Warning: Maximum number of iterations has been exceeded.\n"
     ]
    }
   ],
   "source": [
    "m.optimize(ntrials=10000)\n",
    "#vis.plot_reactive_fits(m, save=True)"
   ]
  },
  {
   "cell_type": "code",
   "execution_count": 26,
   "metadata": {
    "collapsed": false
   },
   "outputs": [
    {
     "data": {
      "text/plain": [
       "{'a': 0.44470913,\n",
       " 'ssv': -0.9415135,\n",
       " 'tr': 0.30481227,\n",
       " 'v': 1.07049551,\n",
       " 'xb': 1.5,\n",
       " 'z': 0.15049553}"
      ]
     },
     "execution_count": 26,
     "metadata": {},
     "output_type": "execute_result"
    }
   ],
   "source": [
    "m.inits"
   ]
  },
  {
   "cell_type": "code",
   "execution_count": 25,
   "metadata": {
    "collapsed": false
   },
   "outputs": [
    {
     "data": {
      "text/plain": [
       "{'a': 0.4447340864530989,\n",
       " 'ssv': -0.88710169697796726,\n",
       " 'tr': array([ 0.29755,  0.3097 ]),\n",
       " 'v': 0.9875939980742267,\n",
       " 'xb': 1.3679297881776722,\n",
       " 'z': 0.15188210098850022}"
      ]
     },
     "execution_count": 25,
     "metadata": {},
     "output_type": "execute_result"
    }
   ],
   "source": [
    "m.opt.best_global_params"
   ]
  },
  {
   "cell_type": "code",
   "execution_count": null,
   "metadata": {
    "collapsed": true
   },
   "outputs": [],
   "source": []
  },
  {
   "cell_type": "code",
   "execution_count": 23,
   "metadata": {
    "collapsed": false
   },
   "outputs": [
    {
     "data": {
      "text/plain": [
       "{'AIC': nan,\n",
       " 'BIC': nan,\n",
       " 'CNVRG': False,\n",
       " 'a': 0.4447340864530989,\n",
       " 'chi': 2.7720094125941069e-05,\n",
       " 'nfev': 1068,\n",
       " 'rchi': -2.7720094125941069e-05,\n",
       " 'ssv': -0.88710169697796726,\n",
       " 'tr_bsl': 0.29872925160858826,\n",
       " 'tr_pnl': 0.30956358881279894,\n",
       " 'v': 0.9875939980742267,\n",
       " 'xb': 1.3679297881776722,\n",
       " 'z': 0.15188210098850022}"
      ]
     },
     "execution_count": 23,
     "metadata": {},
     "output_type": "execute_result"
    }
   ],
   "source": [
    "m.fitinfo"
   ]
  },
  {
   "cell_type": "code",
   "execution_count": null,
   "metadata": {
    "collapsed": true
   },
   "outputs": [],
   "source": []
  }
 ],
 "metadata": {
  "kernelspec": {
   "display_name": "Python 2",
   "language": "python",
   "name": "python2"
  },
  "language_info": {
   "codemirror_mode": {
    "name": "ipython",
    "version": 2
   },
   "file_extension": ".py",
   "mimetype": "text/x-python",
   "name": "python",
   "nbconvert_exporter": "python",
   "pygments_lexer": "ipython2",
   "version": "2.7.10"
  }
 },
 "nbformat": 4,
 "nbformat_minor": 0
}
