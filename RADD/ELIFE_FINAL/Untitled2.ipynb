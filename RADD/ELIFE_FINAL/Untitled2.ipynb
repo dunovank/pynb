{
 "cells": [
  {
   "cell_type": "markdown",
   "metadata": {},
   "source": [
    "# BSL"
   ]
  },
  {
   "cell_type": "code",
   "execution_count": 1,
   "metadata": {
    "collapsed": true
   },
   "outputs": [],
   "source": [
    "#irace\n",
    "xirace={'a': array([ 0.24178]), 'xb': array([ 1.41459]), 'ssv': 1.1627563437354951, 'tr': array([ 0.33698]), 'v': array([ 1.00737])}\n",
    "\n",
    "#iact\n",
    "iact={'a': array([ 0.44061]), 'xb': array([ 1.]), 'ssv': 2.9214844744586101, 'tr': array([ 0.21672]), 'sso': 0.20301641382317762, 'v': array([ 1.29809])}\n",
    "\n",
    "#radd\n",
    "xradd={'a': array([ 0.44462]), 'z': 0.15225778581757374, 'v': array([ 1.04361]), 'xb': array([ 1.3909]), 'ssv': -0.92778056287176547, 'tr': array([ 0.30429])}\n"
   ]
  },
  {
   "cell_type": "code",
   "execution_count": 3,
   "metadata": {
    "collapsed": false
   },
   "outputs": [],
   "source": [
    "from radd import models, build, vis\n",
    "from copy import deepcopy"
   ]
  },
  {
   "cell_type": "code",
   "execution_count": 4,
   "metadata": {
    "collapsed": true
   },
   "outputs": [],
   "source": [
    "mods = {\"xirace\": xirace, \"xradd\":xradd, \"iact\":iact}\n",
    "dat = redf_store.redata\n",
    "mlist = [build.Model(data=dat, kind=k, inits=v) for k,v in mods.items()]"
   ]
  },
  {
   "cell_type": "code",
   "execution_count": null,
   "metadata": {
    "collapsed": true
   },
   "outputs": [],
   "source": [
    "for m in mlist:\n",
    "      m.make_simulator()\n",
    "simlist = [m.simulator.sim_fx for m in mlist]\n",
    "\n",
    "      \n",
    "      "
   ]
  }
 ],
 "metadata": {
  "kernelspec": {
   "display_name": "Python 2",
   "language": "python",
   "name": "python2"
  },
  "language_info": {
   "codemirror_mode": {
    "name": "ipython",
    "version": 2
   },
   "file_extension": ".py",
   "mimetype": "text/x-python",
   "name": "python",
   "nbconvert_exporter": "python",
   "pygments_lexer": "ipython2",
   "version": "2.7.10"
  }
 },
 "nbformat": 4,
 "nbformat_minor": 0
}
