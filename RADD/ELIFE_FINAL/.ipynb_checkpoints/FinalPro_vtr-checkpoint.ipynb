{
 "cells": [
  {
   "cell_type": "markdown",
   "metadata": {},
   "source": [
    "#  Proactive V,TR"
   ]
  },
  {
   "cell_type": "code",
   "execution_count": null,
   "metadata": {
    "collapsed": true
   },
   "outputs": [],
   "source": [
    "from radd import build, vis"
   ]
  },
  {
   "cell_type": "code",
   "execution_count": null,
   "metadata": {
    "collapsed": true
   },
   "outputs": [],
   "source": [
    "d = 'FinalPro/vtr'\n",
    "if not os.path.isdir(pth+d):\n",
    "      os.mkdir(pth+d)\n",
    "os.chdir(pth+d)"
   ]
  },
  {
   "cell_type": "code",
   "execution_count": null,
   "metadata": {
    "collapsed": true
   },
   "outputs": [],
   "source": [
    "m = build.Model(data=prodata, kind='xpro', dynamic='hyp', tb=.555, depends_on={'v':'pGo', 'tr':'pGo'}, wt_prob=True)\n",
    "m.optimize(tol=1.e-5, multiopt=True, maxfev=5000, ntrials=10000)"
   ]
  },
  {
   "cell_type": "code",
   "execution_count": null,
   "metadata": {
    "collapsed": true
   },
   "outputs": [],
   "source": [
    "vis.plot_fits(mx.avg_y, mx.fits, kind='pro', data=prodata)"
   ]
  }
 ],
 "metadata": {
  "kernelspec": {
   "display_name": "Python 2",
   "language": "python",
   "name": "python2"
  },
  "language_info": {
   "codemirror_mode": {
    "name": "ipython",
    "version": 2
   },
   "file_extension": ".py",
   "mimetype": "text/x-python",
   "name": "python",
   "nbconvert_exporter": "python",
   "pygments_lexer": "ipython2",
   "version": "2.7.10"
  }
 },
 "nbformat": 4,
 "nbformat_minor": 0
}
