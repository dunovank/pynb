{
 "cells": [
  {
   "cell_type": "code",
   "execution_count": 2,
   "metadata": {
    "collapsed": false
   },
   "outputs": [],
   "source": [
    "from radd import build, models, fit, vis\n",
    "from radd.toolbox import theta"
   ]
  },
  {
   "cell_type": "code",
   "execution_count": 2,
   "metadata": {
    "collapsed": false
   },
   "outputs": [
    {
     "name": "stdout",
     "output_type": "stream",
     "text": [
      "/home/kyle/Dropbox/XRADD_TR_Final\n"
     ]
    }
   ],
   "source": [
    "%mkdir XRADD_TR_Final\n",
    "%cd XRADD_TR_Final"
   ]
  },
  {
   "cell_type": "code",
   "execution_count": 5,
   "metadata": {
    "collapsed": false
   },
   "outputs": [],
   "source": [
    "m = build.Model(data=redf_store.redata, kind='xradd', dynamic='hyp', depends_on={'tr':'Cond'})\n",
    "m.make_optimizer(tol=1.e-4, multiopt=True)"
   ]
  },
  {
   "cell_type": "code",
   "execution_count": 9,
   "metadata": {
    "collapsed": false
   },
   "outputs": [
    {
     "data": {
      "text/plain": [
       "array([ 0.94125,  0.99668,  0.98653,  0.90386,  0.50872,  0.10362,\n",
       "        0.51461,  0.54372,  0.56341,  0.58263,  0.61047,  0.50345,\n",
       "        0.53184,  0.54934,  0.56775,  0.59466,  0.92624,  0.99918,\n",
       "        0.9908 ,  0.93297,  0.59871,  0.18197,  0.52012,  0.55012,\n",
       "        0.57034,  0.59051,  0.61803,  0.51074,  0.53919,  0.55427,\n",
       "        0.5731 ,  0.60007])"
      ]
     },
     "execution_count": 9,
     "metadata": {},
     "output_type": "execute_result"
    }
   ],
   "source": [
    "m.opt.bdata"
   ]
  },
  {
   "cell_type": "code",
   "execution_count": 6,
   "metadata": {
    "collapsed": false
   },
   "outputs": [
    {
     "name": "stdout",
     "output_type": "stream",
     "text": [
      "Optimization terminated successfully.\n",
      "         Current function value: 0.000002\n",
      "         Iterations: 63\n",
      "         Function evaluations: 142\n",
      "Optimization terminated successfully.\n",
      "         Current function value: 0.000010\n",
      "         Iterations: 14\n",
      "         Function evaluations: 37\n"
     ]
    }
   ],
   "source": [
    "m.optimize(ntrials=2000)\n",
    "#vis.plot_reactive_fits(m, save=True)"
   ]
  },
  {
   "cell_type": "code",
   "execution_count": 10,
   "metadata": {
    "collapsed": false
   },
   "outputs": [
    {
     "data": {
      "text/plain": [
       "{'AIC': nan,\n",
       " 'BIC': nan,\n",
       " 'CNVRG': True,\n",
       " 'a': 0.4443036621594846,\n",
       " 'chi': 1.5146198985171756e-05,\n",
       " 'nfev': 37,\n",
       " 'rchi': -1.5146198985171756e-05,\n",
       " 'ssv': -0.92302399874713803,\n",
       " 'tr_bsl': 0.30192815369324344,\n",
       " 'tr_pnl': 0.31045556266996205,\n",
       " 'v': 0.9587705728046308,\n",
       " 'xb': 1.5505282201182584,\n",
       " 'z': 0.16039136188706402}"
      ]
     },
     "execution_count": 10,
     "metadata": {},
     "output_type": "execute_result"
    }
   ],
   "source": [
    "m.fitinfo"
   ]
  },
  {
   "cell_type": "code",
   "execution_count": null,
   "metadata": {
    "collapsed": true
   },
   "outputs": [],
   "source": []
  }
 ],
 "metadata": {
  "kernelspec": {
   "display_name": "Python 2",
   "language": "python",
   "name": "python2"
  },
  "language_info": {
   "codemirror_mode": {
    "name": "ipython",
    "version": 2
   },
   "file_extension": ".py",
   "mimetype": "text/x-python",
   "name": "python",
   "nbconvert_exporter": "python",
   "pygments_lexer": "ipython2",
   "version": "2.7.10"
  }
 },
 "nbformat": 4,
 "nbformat_minor": 0
}
