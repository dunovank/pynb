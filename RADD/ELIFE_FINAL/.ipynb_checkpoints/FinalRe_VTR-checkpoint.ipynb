{
 "cells": [
  {
   "cell_type": "markdown",
   "metadata": {},
   "source": [
    "# Reactive VTR"
   ]
  },
  {
   "cell_type": "code",
   "execution_count": 3,
   "metadata": {
    "collapsed": true
   },
   "outputs": [],
   "source": [
    "from radd import build, vis\n",
    "from radd.toolbox import analyze"
   ]
  },
  {
   "cell_type": "code",
   "execution_count": null,
   "metadata": {
    "collapsed": false
   },
   "outputs": [
    {
     "name": "stdout",
     "output_type": "stream",
     "text": [
      "warning: basinhopping: local minimization failure\n",
      "basinhopping step 0: f 0.00859245\n",
      "basinhopping step 1: f 0.00859245 trial_f 0.428406 accepted 0  lowest_f 0.00859245"
     ]
    }
   ],
   "source": [
    "d = 'FinalRe/vtr'\n",
    "if not os.path.isdir(pth+d):\n",
    "      os.mkdir(pth+d)\n",
    "os.chdir(pth+d)\n",
    "m = build.Model(data=redata, kind='xradd', dynamic='hyp', tb=.650, depends_on={'v':'Cond', 'tr':'Cond'})\n",
    "m.optimize(tol=1.e-5, multiopt=True, maxfev=5000, ntrials=10000)"
   ]
  }
 ],
 "metadata": {
  "kernelspec": {
   "display_name": "Python 2",
   "language": "python",
   "name": "python2"
  },
  "language_info": {
   "codemirror_mode": {
    "name": "ipython",
    "version": 2
   },
   "file_extension": ".py",
   "mimetype": "text/x-python",
   "name": "python",
   "nbconvert_exporter": "python",
   "pygments_lexer": "ipython2",
   "version": "2.7.10"
  }
 },
 "nbformat": 4,
 "nbformat_minor": 0
}
