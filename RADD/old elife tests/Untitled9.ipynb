{
 "cells": [
  {
   "cell_type": "code",
   "execution_count": 1,
   "metadata": {
    "collapsed": false
   },
   "outputs": [
    {
     "name": "stdout",
     "output_type": "stream",
     "text": [
      "0.55\n"
     ]
    }
   ],
   "source": [
    "from radd import build\n",
    "m=build.Model(data=prodf_store.prodata, kind='xpro', depends_on={'tr':'pGo'})"
   ]
  },
  {
   "cell_type": "code",
   "execution_count": null,
   "metadata": {
    "collapsed": true
   },
   "outputs": [],
   "source": [
    "m.optimize()"
   ]
  },
  {
   "cell_type": "code",
   "execution_count": 25,
   "metadata": {
    "collapsed": true
   },
   "outputs": [],
   "source": [
    "m=build.Model(data=redata, kind='xradd', depends_on={'tr':'Cond'})"
   ]
  },
  {
   "cell_type": "code",
   "execution_count": 42,
   "metadata": {
    "collapsed": false
   },
   "outputs": [
    {
     "data": {
      "text/plain": [
       "'average'"
      ]
     },
     "execution_count": 42,
     "metadata": {},
     "output_type": "execute_result"
    }
   ],
   "source": [
    "m.make_optimizer()\n",
    "m.opt.fit_on"
   ]
  },
  {
   "cell_type": "code",
   "execution_count": 43,
   "metadata": {
    "collapsed": true
   },
   "outputs": [],
   "source": [
    "m.opt.make_simulator()"
   ]
  },
  {
   "cell_type": "code",
   "execution_count": 52,
   "metadata": {
    "collapsed": false
   },
   "outputs": [
    {
     "data": {
      "text/plain": [
       "array([ 0.984  ,  0.9988 ,  0.9926 ,  0.9544 ,  0.501  ,  0.0954 ,\n",
       "        0.51281,  0.53781,  0.55681,  0.57581,  0.60881,  0.50681,\n",
       "        0.52981,  0.54781,  0.56481,  0.59281,  0.9842 ,  0.9988 ,\n",
       "        0.9916 ,  0.9568 ,  0.506  ,  0.0956 ,  0.51281,  0.53781,\n",
       "        0.55681,  0.57781,  0.60881,  0.50681,  0.52981,  0.54781,\n",
       "        0.56481,  0.59281])"
      ]
     },
     "execution_count": 52,
     "metadata": {},
     "output_type": "execute_result"
    }
   ],
   "source": [
    "m.opt.simulator.sim_fx(m.inits)"
   ]
  },
  {
   "cell_type": "code",
   "execution_count": 53,
   "metadata": {
    "collapsed": false
   },
   "outputs": [
    {
     "data": {
      "text/plain": [
       "array([ 0.9814 ,  0.9992 ,  0.9928 ,  0.9598 ,  0.4964 ,  0.1052 ,\n",
       "        0.51081,  0.53781,  0.55681,  0.57781,  0.60881,  0.50481,\n",
       "        0.52881,  0.54781,  0.56481,  0.59281,  0.9818 ,  0.999  ,\n",
       "        0.9952 ,  0.9602 ,  0.5006 ,  0.0924 ,  0.51281,  0.53781,\n",
       "        0.55481,  0.57581,  0.60881,  0.50481,  0.52981,  0.54581,\n",
       "        0.56281,  0.59281])"
      ]
     },
     "execution_count": 53,
     "metadata": {},
     "output_type": "execute_result"
    }
   ],
   "source": [
    "simfx(m.inits)"
   ]
  },
  {
   "cell_type": "code",
   "execution_count": 26,
   "metadata": {
    "collapsed": false
   },
   "outputs": [],
   "source": [
    "m.make_simulator()"
   ]
  },
  {
   "cell_type": "code",
   "execution_count": 37,
   "metadata": {
    "collapsed": false
   },
   "outputs": [],
   "source": [
    "simfx = m.simulator.sim_fx\n",
    "#m.simulator.__cost_fx__(m.inits)\n",
    "x = simfx(m.inits, analyze=False)"
   ]
  },
  {
   "cell_type": "code",
   "execution_count": 40,
   "metadata": {
    "collapsed": false
   },
   "outputs": [
    {
     "data": {
      "text/plain": [
       "(2, 10000, 349)"
      ]
     },
     "execution_count": 40,
     "metadata": {},
     "output_type": "execute_result"
    }
   ],
   "source": [
    "x[0].shape"
   ]
  },
  {
   "cell_type": "code",
   "execution_count": 33,
   "metadata": {
    "collapsed": false
   },
   "outputs": [
    {
     "data": {
      "text/plain": [
       "10000"
      ]
     },
     "execution_count": 33,
     "metadata": {},
     "output_type": "execute_result"
    }
   ],
   "source": [
    "m.simulator.ntot"
   ]
  },
  {
   "cell_type": "code",
   "execution_count": null,
   "metadata": {
    "collapsed": true
   },
   "outputs": [],
   "source": []
  }
 ],
 "metadata": {
  "kernelspec": {
   "display_name": "Python 2",
   "language": "python",
   "name": "python2"
  },
  "language_info": {
   "codemirror_mode": {
    "name": "ipython",
    "version": 2
   },
   "file_extension": ".py",
   "mimetype": "text/x-python",
   "name": "python",
   "nbconvert_exporter": "python",
   "pygments_lexer": "ipython2",
   "version": "2.7.10"
  }
 },
 "nbformat": 4,
 "nbformat_minor": 0
}
