{
 "cells": [
  {
   "cell_type": "code",
   "execution_count": 1,
   "metadata": {
    "collapsed": false
   },
   "outputs": [],
   "source": [
    "from radd import build\n",
    "from radd.toolbox import theta"
   ]
  },
  {
   "cell_type": "code",
   "execution_count": 133,
   "metadata": {
    "collapsed": false
   },
   "outputs": [],
   "source": [
    "m = build.Model(data=prodf_store.prodata, kind='xpro', depends_on={'tr':'pGo'}, verbose=False)"
   ]
  },
  {
   "cell_type": "code",
   "execution_count": 135,
   "metadata": {
    "collapsed": false
   },
   "outputs": [],
   "source": [
    "m.make_optimizer(tol=1.e-5, multiopt=True)"
   ]
  },
  {
   "cell_type": "code",
   "execution_count": 138,
   "metadata": {
    "collapsed": false
   },
   "outputs": [
    {
     "name": "stdout",
     "output_type": "stream",
     "text": [
      "Warning: Maximum number of iterations has been exceeded.\n",
      "basinhopping step 0: f 0.537974\n",
      "basinhopping step 1: f 0.537974 trial_f 3.29221 accepted 0  lowest_f 0.537974\n",
      "basinhopping step 2: f 0.537974 trial_f 1.99576 accepted 0  lowest_f 0.537974\n",
      "basinhopping step 3: f 0.537974 trial_f 1.92842 accepted 0  lowest_f 0.537974\n",
      "warning: basinhopping: local minimization failure\n",
      "basinhopping step 4: f 0.537974 trial_f 2.30038 accepted 0  lowest_f 0.537974\n",
      "basinhopping step 5: f 0.537974 trial_f 1.47397 accepted 0  lowest_f 0.537974\n",
      "basinhopping step 6: f 0.46798 trial_f 0.46798 accepted 1  lowest_f 0.46798\n",
      "found new global minimum on step 6 with function value 0.46798\n",
      "basinhopping step 7: f 0.740417 trial_f 0.740417 accepted 1  lowest_f 0.46798\n",
      "warning: basinhopping: local minimization failure\n",
      "basinhopping step 8: f 0.508124 trial_f 0.508124 accepted 1  lowest_f 0.46798\n",
      "basinhopping step 9: f 0.781432 trial_f 0.781432 accepted 1  lowest_f 0.46798\n",
      "adaptive stepsize: acceptance rate 0.400000 target 0.500000 new stepsize 0.063 old stepsize 0.07\n",
      "basinhopping step 10: f 1.14895 trial_f 1.14895 accepted 1  lowest_f 0.46798\n",
      "basinhopping step 11: f 1.14895 trial_f 1.36825 accepted 0  lowest_f 0.46798\n",
      "basinhopping step 12: f 1.33763 trial_f 1.33763 accepted 1  lowest_f 0.46798\n",
      "basinhopping step 13: f 1.03852 trial_f 1.03852 accepted 1  lowest_f 0.46798\n",
      "basinhopping step 14: f 1.03852 trial_f 1.84735 accepted 0  lowest_f 0.46798\n",
      "basinhopping step 15: f 0.782543 trial_f 0.782543 accepted 1  lowest_f 0.46798\n",
      "basinhopping step 16: f 0.764793 trial_f 0.764793 accepted 1  lowest_f 0.46798\n",
      "basinhopping step 17: f 0.716482 trial_f 0.716482 accepted 1  lowest_f 0.46798\n",
      "warning: basinhopping: local minimization failure\n",
      "basinhopping step 18: f 0.621992 trial_f 0.621992 accepted 1  lowest_f 0.46798\n",
      "basinhopping step 19: f 0.574185 trial_f 0.574185 accepted 1  lowest_f 0.46798\n",
      "adaptive stepsize: acceptance rate 0.600000 target 0.500000 new stepsize 0.07 old stepsize 0.063\n",
      "basinhopping step 20: f 1.05771 trial_f 1.05771 accepted 1  lowest_f 0.46798\n",
      "basinhopping step 21: f 0.766468 trial_f 0.766468 accepted 1  lowest_f 0.46798\n",
      "warning: basinhopping: local minimization failure\n",
      "basinhopping step 22: f 0.705685 trial_f 0.705685 accepted 1  lowest_f 0.46798\n",
      "basinhopping step 23: f 0.667474 trial_f 0.667474 accepted 1  lowest_f 0.46798\n",
      "basinhopping step 24: f 0.92802 trial_f 0.92802 accepted 1  lowest_f 0.46798\n",
      "basinhopping step 25: f 0.966766 trial_f 0.966766 accepted 1  lowest_f 0.46798\n",
      "basinhopping step 26: f 0.45708 trial_f 0.45708 accepted 1  lowest_f 0.45708\n",
      "found new global minimum on step 26 with function value 0.45708\n",
      "basinhopping step 27: f 2.23004 trial_f 2.23004 accepted 1  lowest_f 0.45708\n",
      "basinhopping step 28: f 1.98637 trial_f 1.98637 accepted 1  lowest_f 0.45708\n",
      "basinhopping step 29: f 1.50962 trial_f 1.50962 accepted 1  lowest_f 0.45708\n",
      "adaptive stepsize: acceptance rate 0.733333 target 0.500000 new stepsize 0.0777778 old stepsize 0.07\n",
      "basinhopping step 30: f 2.10588 trial_f 2.10588 accepted 1  lowest_f 0.45708\n",
      "basinhopping step 31: f 1.16966 trial_f 1.16966 accepted 1  lowest_f 0.45708\n",
      "basinhopping step 32: f 2.2081 trial_f 2.2081 accepted 1  lowest_f 0.45708\n",
      "basinhopping step 33: f 2.2081 trial_f 4.36447 accepted 0  lowest_f 0.45708\n",
      "warning: basinhopping: local minimization failure\n",
      "basinhopping step 34: f 3.93559 trial_f 3.93559 accepted 1  lowest_f 0.45708\n",
      "basinhopping step 35: f 3.60287 trial_f 3.60287 accepted 1  lowest_f 0.45708\n",
      "warning: basinhopping: local minimization failure\n",
      "basinhopping step 36: f 1.53252 trial_f 1.53252 accepted 1  lowest_f 0.45708\n",
      "basinhopping step 37: f 0.9721 trial_f 0.9721 accepted 1  lowest_f 0.45708\n",
      "basinhopping step 38: f 1.00246 trial_f 1.00246 accepted 1  lowest_f 0.45708\n",
      "basinhopping step 39: f 0.424651 trial_f 0.424651 accepted 1  lowest_f 0.424651\n",
      "found new global minimum on step 39 with function value 0.424651\n",
      "adaptive stepsize: acceptance rate 0.775000 target 0.500000 new stepsize 0.0864198 old stepsize 0.0777778\n",
      "basinhopping step 40: f 1.57705 trial_f 1.57705 accepted 1  lowest_f 0.424651\n",
      "basinhopping step 41: f 1.57705 trial_f 3.27258 accepted 0  lowest_f 0.424651\n",
      "basinhopping step 42: f 2.9655 trial_f 2.9655 accepted 1  lowest_f 0.424651\n",
      "basinhopping step 43: f 3.11443 trial_f 3.11443 accepted 1  lowest_f 0.424651\n",
      "basinhopping step 44: f 4.1914 trial_f 4.1914 accepted 1  lowest_f 0.424651\n",
      "basinhopping step 45: f 4.34333 trial_f 4.34333 accepted 1  lowest_f 0.424651\n",
      "basinhopping step 46: f 3.90106 trial_f 3.90106 accepted 1  lowest_f 0.424651\n",
      "warning: basinhopping: local minimization failure\n",
      "basinhopping step 47: f 3.4279 trial_f 3.4279 accepted 1  lowest_f 0.424651\n",
      "basinhopping step 48: f 3.4279 trial_f 4.3193 accepted 0  lowest_f 0.424651\n",
      "basinhopping step 49: f 3.97027 trial_f 3.97027 accepted 1  lowest_f 0.424651\n",
      "adaptive stepsize: acceptance rate 0.780000 target 0.500000 new stepsize 0.0960219 old stepsize 0.0864198\n",
      "basinhopping step 50: f 2.20545 trial_f 2.20545 accepted 1  lowest_f 0.424651\n",
      "basinhopping step 51: f 2.20545 trial_f 2.71581 accepted 0  lowest_f 0.424651\n",
      "basinhopping step 52: f 2.27496 trial_f 2.27496 accepted 1  lowest_f 0.424651\n",
      "basinhopping step 53: f 2.30243 trial_f 2.30243 accepted 1  lowest_f 0.424651\n",
      "basinhopping step 54: f 2.59326 trial_f 2.59326 accepted 1  lowest_f 0.424651\n",
      "basinhopping step 55: f 3.03497 trial_f 3.03497 accepted 1  lowest_f 0.424651\n",
      "basinhopping step 56: f 3.10554 trial_f 3.10554 accepted 1  lowest_f 0.424651\n",
      "basinhopping step 57: f 3.10554 trial_f 3.50115 accepted 0  lowest_f 0.424651\n",
      "warning: basinhopping: local minimization failure\n",
      "basinhopping step 58: f 2.60816 trial_f 2.60816 accepted 1  lowest_f 0.424651\n",
      "basinhopping step 59: f 2.40695 trial_f 2.40695 accepted 1  lowest_f 0.424651\n",
      "adaptive stepsize: acceptance rate 0.783333 target 0.500000 new stepsize 0.106691 old stepsize 0.0960219\n",
      "basinhopping step 60: f 2.90176 trial_f 2.90176 accepted 1  lowest_f 0.424651\n",
      "Warning: Maximum number of function evaluations has been exceeded.\n"
     ]
    },
    {
     "ename": "TypeError",
     "evalue": "float argument required, not numpy.ndarray",
     "output_type": "error",
     "traceback": [
      "\u001b[0;31m---------------------------------------------------------------------------\u001b[0m",
      "\u001b[0;31mTypeError\u001b[0m                                 Traceback (most recent call last)",
      "\u001b[0;32m<ipython-input-138-68dbe65363ec>\u001b[0m in \u001b[0;36m<module>\u001b[0;34m()\u001b[0m\n\u001b[0;32m----> 1\u001b[0;31m \u001b[0mm\u001b[0m\u001b[0;34m.\u001b[0m\u001b[0moptimize\u001b[0m\u001b[0;34m(\u001b[0m\u001b[0;34m)\u001b[0m\u001b[0;34m\u001b[0m\u001b[0m\n\u001b[0m",
      "\u001b[0;32m/Users/kyle/Dropbox/Git/radd/build.py\u001b[0m in \u001b[0;36moptimize\u001b[0;34m(self, save, savepth, ntrials, tol, maxfev, niter, disp, prob, multiopt)\u001b[0m\n\u001b[1;32m     78\u001b[0m                   \u001b[0mself\u001b[0m\u001b[0;34m.\u001b[0m\u001b[0mmake_optimizer\u001b[0m\u001b[0;34m(\u001b[0m\u001b[0mntrials\u001b[0m\u001b[0;34m=\u001b[0m\u001b[0mntrials\u001b[0m\u001b[0;34m,\u001b[0m \u001b[0mtol\u001b[0m\u001b[0;34m=\u001b[0m\u001b[0mtol\u001b[0m\u001b[0;34m,\u001b[0m \u001b[0mmaxfev\u001b[0m\u001b[0;34m=\u001b[0m\u001b[0mmaxfev\u001b[0m\u001b[0;34m,\u001b[0m \u001b[0mniter\u001b[0m\u001b[0;34m=\u001b[0m\u001b[0mniter\u001b[0m\u001b[0;34m,\u001b[0m \u001b[0mdisp\u001b[0m\u001b[0;34m=\u001b[0m\u001b[0mdisp\u001b[0m\u001b[0;34m,\u001b[0m \u001b[0mprob\u001b[0m\u001b[0;34m=\u001b[0m\u001b[0mprob\u001b[0m\u001b[0;34m)\u001b[0m\u001b[0;34m\u001b[0m\u001b[0m\n\u001b[1;32m     79\u001b[0m \u001b[0;34m\u001b[0m\u001b[0m\n\u001b[0;32m---> 80\u001b[0;31m             \u001b[0mself\u001b[0m\u001b[0;34m.\u001b[0m\u001b[0mfits\u001b[0m\u001b[0;34m,\u001b[0m \u001b[0mself\u001b[0m\u001b[0;34m.\u001b[0m\u001b[0mfitinfo\u001b[0m\u001b[0;34m,\u001b[0m \u001b[0mself\u001b[0m\u001b[0;34m.\u001b[0m\u001b[0mpopt\u001b[0m \u001b[0;34m=\u001b[0m \u001b[0mself\u001b[0m\u001b[0;34m.\u001b[0m\u001b[0mopt\u001b[0m\u001b[0;34m.\u001b[0m\u001b[0moptimize_model\u001b[0m\u001b[0;34m(\u001b[0m\u001b[0msave\u001b[0m\u001b[0;34m=\u001b[0m\u001b[0msave\u001b[0m\u001b[0;34m,\u001b[0m \u001b[0msavepth\u001b[0m\u001b[0;34m=\u001b[0m\u001b[0msavepth\u001b[0m\u001b[0;34m)\u001b[0m\u001b[0;34m\u001b[0m\u001b[0m\n\u001b[0m\u001b[1;32m     81\u001b[0m             \u001b[0;31m# get residuals\u001b[0m\u001b[0;34m\u001b[0m\u001b[0;34m\u001b[0m\u001b[0m\n\u001b[1;32m     82\u001b[0m             \u001b[0mself\u001b[0m\u001b[0;34m.\u001b[0m\u001b[0mresidual\u001b[0m \u001b[0;34m=\u001b[0m \u001b[0mself\u001b[0m\u001b[0;34m.\u001b[0m\u001b[0mopt\u001b[0m\u001b[0;34m.\u001b[0m\u001b[0mresidual\u001b[0m\u001b[0;34m\u001b[0m\u001b[0m\n",
      "\u001b[0;32m/Users/kyle/Dropbox/Git/radd/fit.py\u001b[0m in \u001b[0;36moptimize_model\u001b[0;34m(self, save, savepth)\u001b[0m\n\u001b[1;32m    123\u001b[0m             \u001b[0mself\u001b[0m\u001b[0;34m.\u001b[0m\u001b[0msimulator\u001b[0m \u001b[0;34m=\u001b[0m \u001b[0mmodels\u001b[0m\u001b[0;34m.\u001b[0m\u001b[0mSimulator\u001b[0m\u001b[0;34m(\u001b[0m\u001b[0mfitparams\u001b[0m\u001b[0;34m=\u001b[0m\u001b[0mself\u001b[0m\u001b[0;34m.\u001b[0m\u001b[0mfitparams\u001b[0m\u001b[0;34m,\u001b[0m \u001b[0mkind\u001b[0m\u001b[0;34m=\u001b[0m\u001b[0mself\u001b[0m\u001b[0;34m.\u001b[0m\u001b[0mkind\u001b[0m\u001b[0;34m,\u001b[0m \u001b[0minits\u001b[0m\u001b[0;34m=\u001b[0m\u001b[0mself\u001b[0m\u001b[0;34m.\u001b[0m\u001b[0minits\u001b[0m\u001b[0;34m,\u001b[0m \u001b[0mpc_map\u001b[0m\u001b[0;34m=\u001b[0m\u001b[0mself\u001b[0m\u001b[0;34m.\u001b[0m\u001b[0mpc_map\u001b[0m\u001b[0;34m)\u001b[0m\u001b[0;34m\u001b[0m\u001b[0m\n\u001b[1;32m    124\u001b[0m \u001b[0;34m\u001b[0m\u001b[0m\n\u001b[0;32m--> 125\u001b[0;31m \u001b[0;34m\u001b[0m\u001b[0m\n\u001b[0m\u001b[1;32m    126\u001b[0m       \u001b[0;32mdef\u001b[0m \u001b[0moptimize_model\u001b[0m\u001b[0;34m(\u001b[0m\u001b[0mself\u001b[0m\u001b[0;34m,\u001b[0m \u001b[0msave\u001b[0m\u001b[0;34m=\u001b[0m\u001b[0mTrue\u001b[0m\u001b[0;34m,\u001b[0m \u001b[0msavepth\u001b[0m\u001b[0;34m=\u001b[0m\u001b[0;34m'./'\u001b[0m\u001b[0;34m)\u001b[0m\u001b[0;34m:\u001b[0m\u001b[0;34m\u001b[0m\u001b[0m\n\u001b[1;32m    127\u001b[0m \u001b[0;34m\u001b[0m\u001b[0m\n",
      "\u001b[0;32m/Users/kyle/Dropbox/Git/radd/fit.py\u001b[0m in \u001b[0;36m__opt_routine__\u001b[0;34m(self)\u001b[0m\n\u001b[1;32m    178\u001b[0m             \u001b[0;32mif\u001b[0m \u001b[0mself\u001b[0m\u001b[0;34m.\u001b[0m\u001b[0mmultiopt\u001b[0m\u001b[0;34m:\u001b[0m\u001b[0;34m\u001b[0m\u001b[0m\n\u001b[1;32m    179\u001b[0m                   \u001b[0mp2\u001b[0m\u001b[0;34m,\u001b[0m \u001b[0mfmin\u001b[0m \u001b[0;34m=\u001b[0m \u001b[0mself\u001b[0m\u001b[0;34m.\u001b[0m\u001b[0mmultivariate_basinhopping\u001b[0m\u001b[0;34m(\u001b[0m\u001b[0mp1\u001b[0m\u001b[0;34m)\u001b[0m\u001b[0;34m\u001b[0m\u001b[0m\n\u001b[0;32m--> 180\u001b[0;31m             \u001b[0;32melse\u001b[0m\u001b[0;34m:\u001b[0m\u001b[0;34m\u001b[0m\u001b[0m\n\u001b[0m\u001b[1;32m    181\u001b[0m                   \u001b[0mself\u001b[0m\u001b[0;34m.\u001b[0m\u001b[0mbdata\u001b[0m\u001b[0;34m,\u001b[0m \u001b[0mself\u001b[0m\u001b[0;34m.\u001b[0m\u001b[0mbwts\u001b[0m \u001b[0;34m=\u001b[0m \u001b[0mself\u001b[0m\u001b[0;34m.\u001b[0m\u001b[0m__prep_basin_data__\u001b[0m\u001b[0;34m(\u001b[0m\u001b[0;34m)\u001b[0m\u001b[0;34m\u001b[0m\u001b[0m\n\u001b[1;32m    182\u001b[0m                   \u001b[0;32mfor\u001b[0m \u001b[0mpkey\u001b[0m \u001b[0;32min\u001b[0m \u001b[0mself\u001b[0m\u001b[0;34m.\u001b[0m\u001b[0mpc_map\u001b[0m\u001b[0;34m.\u001b[0m\u001b[0mkeys\u001b[0m\u001b[0;34m(\u001b[0m\u001b[0;34m)\u001b[0m\u001b[0;34m:\u001b[0m\u001b[0;34m\u001b[0m\u001b[0m\n",
      "\u001b[0;32m/Users/kyle/Dropbox/Git/radd/fit.py\u001b[0m in \u001b[0;36m__gradient_descent__\u001b[0;34m(self, y, inits, is_flat)\u001b[0m\n\u001b[1;32m    308\u001b[0m \u001b[0;34m\u001b[0m\u001b[0m\n\u001b[1;32m    309\u001b[0m             \u001b[0moptp\u001b[0m \u001b[0;34m=\u001b[0m \u001b[0moptmod\u001b[0m\u001b[0;34m.\u001b[0m\u001b[0mparams\u001b[0m\u001b[0;34m\u001b[0m\u001b[0m\n\u001b[0;32m--> 310\u001b[0;31m             \u001b[0mfinfo\u001b[0m \u001b[0;34m=\u001b[0m \u001b[0;34m{\u001b[0m\u001b[0mk\u001b[0m\u001b[0;34m:\u001b[0m\u001b[0moptp\u001b[0m\u001b[0;34m[\u001b[0m\u001b[0mk\u001b[0m\u001b[0;34m]\u001b[0m\u001b[0;34m.\u001b[0m\u001b[0mvalue\u001b[0m \u001b[0;32mfor\u001b[0m \u001b[0mk\u001b[0m \u001b[0;32min\u001b[0m \u001b[0moptp\u001b[0m\u001b[0;34m.\u001b[0m\u001b[0mkeys\u001b[0m\u001b[0;34m(\u001b[0m\u001b[0;34m)\u001b[0m\u001b[0;34m}\u001b[0m\u001b[0;34m\u001b[0m\u001b[0m\n\u001b[0m\u001b[1;32m    311\u001b[0m             \u001b[0mpopt\u001b[0m \u001b[0;34m=\u001b[0m \u001b[0mdeepcopy\u001b[0m\u001b[0;34m(\u001b[0m\u001b[0mfinfo\u001b[0m\u001b[0;34m)\u001b[0m\u001b[0;34m\u001b[0m\u001b[0m\n\u001b[1;32m    312\u001b[0m             \u001b[0mself\u001b[0m\u001b[0;34m.\u001b[0m\u001b[0mresidual\u001b[0m \u001b[0;34m=\u001b[0m \u001b[0moptmod\u001b[0m\u001b[0;34m.\u001b[0m\u001b[0mresidual\u001b[0m\u001b[0;34m\u001b[0m\u001b[0m\n",
      "\u001b[0;32m/Users/kyle/Dropbox/Git/radd/toolbox/messages.py\u001b[0m in \u001b[0;36mlogger\u001b[0;34m(optmod, finfo, depends_on, is_flat, log_arrays, kind, dynamic, fit_id, xbasin)\u001b[0m\n\u001b[1;32m    121\u001b[0m             \u001b[0mf\u001b[0m\u001b[0;34m.\u001b[0m\u001b[0mwrite\u001b[0m\u001b[0;34m(\u001b[0m\u001b[0my_str\u001b[0m\u001b[0;34m+\u001b[0m\u001b[0;34m'\\n'\u001b[0m\u001b[0;34m)\u001b[0m\u001b[0;34m\u001b[0m\u001b[0m\n\u001b[1;32m    122\u001b[0m             \u001b[0mf\u001b[0m\u001b[0;34m.\u001b[0m\u001b[0mwrite\u001b[0m\u001b[0;34m(\u001b[0m\u001b[0;34m'--'\u001b[0m\u001b[0;34m*\u001b[0m\u001b[0;36m20\u001b[0m\u001b[0;34m+\u001b[0m\u001b[0;34m'\\n'\u001b[0m\u001b[0;34m)\u001b[0m\u001b[0;34m\u001b[0m\u001b[0m\n\u001b[0;32m--> 123\u001b[0;31m             \u001b[0mf\u001b[0m\u001b[0;34m.\u001b[0m\u001b[0mwrite\u001b[0m\u001b[0;34m(\u001b[0m\u001b[0mfit_report\u001b[0m\u001b[0;34m(\u001b[0m\u001b[0moptmod\u001b[0m\u001b[0;34m)\u001b[0m\u001b[0;34m+\u001b[0m\u001b[0;34m'\\n\\n'\u001b[0m\u001b[0;34m)\u001b[0m\u001b[0;34m\u001b[0m\u001b[0m\n\u001b[0m\u001b[1;32m    124\u001b[0m             \u001b[0mf\u001b[0m\u001b[0;34m.\u001b[0m\u001b[0mwrite\u001b[0m\u001b[0;34m(\u001b[0m\u001b[0;34m'AIC: %.8f'\u001b[0m \u001b[0;34m%\u001b[0m \u001b[0moptmod\u001b[0m\u001b[0;34m.\u001b[0m\u001b[0maic\u001b[0m \u001b[0;34m+\u001b[0m \u001b[0;34m'\\n'\u001b[0m\u001b[0;34m)\u001b[0m\u001b[0;34m\u001b[0m\u001b[0m\n\u001b[1;32m    125\u001b[0m             \u001b[0mf\u001b[0m\u001b[0;34m.\u001b[0m\u001b[0mwrite\u001b[0m\u001b[0;34m(\u001b[0m\u001b[0;34m'BIC: %.8f'\u001b[0m \u001b[0;34m%\u001b[0m \u001b[0moptmod\u001b[0m\u001b[0;34m.\u001b[0m\u001b[0mbic\u001b[0m \u001b[0;34m+\u001b[0m \u001b[0;34m'\\n'\u001b[0m\u001b[0;34m)\u001b[0m\u001b[0;34m\u001b[0m\u001b[0m\n",
      "\u001b[0;32m/Users/kyle/anaconda/lib/python2.7/site-packages/lmfit-0.8.3_115_gb405f5b-py2.7.egg/lmfit/printfuncs.pyc\u001b[0m in \u001b[0;36mfit_report\u001b[0;34m(inpars, modelpars, show_correl, min_correl, sort_pars)\u001b[0m\n\u001b[1;32m    120\u001b[0m         \u001b[0minval\u001b[0m \u001b[0;34m=\u001b[0m \u001b[0;34m'(init= ?)'\u001b[0m\u001b[0;34m\u001b[0m\u001b[0m\n\u001b[1;32m    121\u001b[0m         \u001b[0;32mif\u001b[0m \u001b[0mpar\u001b[0m\u001b[0;34m.\u001b[0m\u001b[0minit_value\u001b[0m \u001b[0;32mis\u001b[0m \u001b[0;32mnot\u001b[0m \u001b[0mNone\u001b[0m\u001b[0;34m:\u001b[0m\u001b[0;34m\u001b[0m\u001b[0m\n\u001b[0;32m--> 122\u001b[0;31m             \u001b[0minval\u001b[0m \u001b[0;34m=\u001b[0m \u001b[0;34m'(init=% .7g)'\u001b[0m \u001b[0;34m%\u001b[0m \u001b[0mpar\u001b[0m\u001b[0;34m.\u001b[0m\u001b[0minit_value\u001b[0m\u001b[0;34m\u001b[0m\u001b[0m\n\u001b[0m\u001b[1;32m    123\u001b[0m         \u001b[0;32mif\u001b[0m \u001b[0mmodelpars\u001b[0m \u001b[0;32mis\u001b[0m \u001b[0;32mnot\u001b[0m \u001b[0mNone\u001b[0m \u001b[0;32mand\u001b[0m \u001b[0mname\u001b[0m \u001b[0;32min\u001b[0m \u001b[0mmodelpars\u001b[0m\u001b[0;34m:\u001b[0m\u001b[0;34m\u001b[0m\u001b[0m\n\u001b[1;32m    124\u001b[0m             \u001b[0minval\u001b[0m \u001b[0;34m=\u001b[0m \u001b[0;34m'%s, model_value =% .7g'\u001b[0m \u001b[0;34m%\u001b[0m \u001b[0;34m(\u001b[0m\u001b[0minval\u001b[0m\u001b[0;34m,\u001b[0m \u001b[0mmodelpars\u001b[0m\u001b[0;34m[\u001b[0m\u001b[0mname\u001b[0m\u001b[0;34m]\u001b[0m\u001b[0;34m.\u001b[0m\u001b[0mvalue\u001b[0m\u001b[0;34m)\u001b[0m\u001b[0;34m\u001b[0m\u001b[0m\n",
      "\u001b[0;31mTypeError\u001b[0m: float argument required, not numpy.ndarray"
     ]
    }
   ],
   "source": [
    "m.optimize()"
   ]
  },
  {
   "cell_type": "code",
   "execution_count": 144,
   "metadata": {
    "collapsed": false
   },
   "outputs": [
    {
     "data": {
      "text/plain": [
       "array([  3.00564e-02,   2.03126e-01,   5.20301e-01,   3.29221e-02,\n",
       "         8.10022e-02,   9.62481e-02,   1.35944e-01,   7.90481e-02,\n",
       "         3.59536e-02,   5.60621e-03,   1.28049e-04,   8.41333e-02,\n",
       "         1.53367e-02,   1.42391e-02,   2.25971e-04,   8.65675e-04])"
      ]
     },
     "execution_count": 144,
     "metadata": {},
     "output_type": "execute_result"
    }
   ],
   "source": [
    "m.opt.residual"
   ]
  },
  {
   "cell_type": "code",
   "execution_count": 143,
   "metadata": {
    "collapsed": false
   },
   "outputs": [
    {
     "data": {
      "text/plain": [
       "array([ 0.9776 ,  0.9994 ,  1.07608,  0.38124,  0.20769,  0.18878,\n",
       "        0.66081,  0.61801,  0.57893,  0.55053,  0.54542,  0.62439,\n",
       "        0.55987,  0.55894,  0.5454 ,  0.54619])"
      ]
     },
     "execution_count": 143,
     "metadata": {},
     "output_type": "execute_result"
    }
   ],
   "source": [
    "m.avg_y + m.opt.residual"
   ]
  },
  {
   "cell_type": "code",
   "execution_count": 145,
   "metadata": {
    "collapsed": false
   },
   "outputs": [
    {
     "data": {
      "text/plain": [
       "array([ 0.94754,  0.79627,  0.55578,  0.34832,  0.12668,  0.09254,\n",
       "        0.52486,  0.53896,  0.54297,  0.54493,  0.54529,  0.54026,\n",
       "        0.54454,  0.5447 ,  0.54518,  0.54532])"
      ]
     },
     "execution_count": 145,
     "metadata": {},
     "output_type": "execute_result"
    }
   ],
   "source": [
    "m.avg_y"
   ]
  },
  {
   "cell_type": "code",
   "execution_count": 127,
   "metadata": {
    "collapsed": false
   },
   "outputs": [
    {
     "data": {
      "text/plain": [
       "array([  1.74539,   1.     ,   0.85377,   0.9899 ,   2.20041,   2.20041,\n",
       "         0.20665,   0.31222,   0.53414,   1.85371,  19.6562 ,   0.09959,\n",
       "         0.26758,   0.2767 ,  15.32465,   3.83484])"
      ]
     },
     "execution_count": 127,
     "metadata": {},
     "output_type": "execute_result"
    }
   ],
   "source": [
    "s.wts"
   ]
  },
  {
   "cell_type": "code",
   "execution_count": null,
   "metadata": {
    "collapsed": true
   },
   "outputs": [],
   "source": [
    "sns."
   ]
  }
 ],
 "metadata": {
  "kernelspec": {
   "display_name": "Python 2",
   "language": "python",
   "name": "python2"
  },
  "language_info": {
   "codemirror_mode": {
    "name": "ipython",
    "version": 2
   },
   "file_extension": ".py",
   "mimetype": "text/x-python",
   "name": "python",
   "nbconvert_exporter": "python",
   "pygments_lexer": "ipython2",
   "version": "2.7.10"
  }
 },
 "nbformat": 4,
 "nbformat_minor": 0
}
