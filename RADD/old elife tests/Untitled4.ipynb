{
 "cells": [
  {
   "cell_type": "code",
   "execution_count": 1,
   "metadata": {
    "collapsed": true
   },
   "outputs": [],
   "source": [
    "from radd import build\n",
    "from copy import deepcopy"
   ]
  },
  {
   "cell_type": "code",
   "execution_count": 2,
   "metadata": {
    "collapsed": true
   },
   "outputs": [],
   "source": [
    "m = build.Model(data=redata)"
   ]
  },
  {
   "cell_type": "code",
   "execution_count": 25,
   "metadata": {
    "collapsed": false
   },
   "outputs": [],
   "source": [
    "ip = dict(deepcopy(m.inits))"
   ]
  },
  {
   "cell_type": "code",
   "execution_count": 27,
   "metadata": {
    "collapsed": true
   },
   "outputs": [],
   "source": [
    "myfit=ThisFit(ncond=6)"
   ]
  },
  {
   "cell_type": "code",
   "execution_count": 29,
   "metadata": {
    "collapsed": false
   },
   "outputs": [],
   "source": [
    "myfit.set_params(ip)"
   ]
  },
  {
   "cell_type": "code",
   "execution_count": 32,
   "metadata": {
    "collapsed": false
   },
   "outputs": [
    {
     "data": {
      "text/plain": [
       "array([ 0.923  ,  1.     ,  0.9976 ,  0.975  ,  0.6236 ,  0.187  ,\n",
       "        0.52381,  0.55181,  0.57381,  0.59581,  0.62581,  0.51381,\n",
       "        0.53981,  0.55981,  0.57981,  0.60981,  0.9246 ,  0.9994 ,\n",
       "        0.9964 ,  0.9752 ,  0.6146 ,  0.1772 ,  0.52381,  0.55181,\n",
       "        0.57381,  0.59581,  0.62581,  0.51581,  0.54181,  0.55981,\n",
       "        0.57981,  0.60981])"
      ]
     },
     "execution_count": 32,
     "metadata": {},
     "output_type": "execute_result"
    }
   ],
   "source": [
    "m.make_simulator()\n",
    "m.simulator\n",
    "m.simulator.sim_fx(myfit)"
   ]
  },
  {
   "cell_type": "code",
   "execution_count": null,
   "metadata": {
    "collapsed": true
   },
   "outputs": [],
   "source": []
  },
  {
   "cell_type": "code",
   "execution_count": 24,
   "metadata": {
    "collapsed": true
   },
   "outputs": [],
   "source": [
    "class ThetaDict():\n",
    "      \n",
    "      def __init__(self):\n",
    "            self.__dict__ = self\n",
    "      \n",
    "      def __getattr__(self, name):\n",
    "            if name in self:\n",
    "                  return self[name]\n",
    "            else:\n",
    "                  raise AttributeError(\"No such attribute: \" + name)\n",
    "      def __setattr__(self, name, value):\n",
    "            self[name] = value\n",
    "\n",
    "      def __delattr__(self, name):\n",
    "            if name in self:\n",
    "                  del self[name]\n",
    "            else:\n",
    "                  raise AttributeError(\"No such attribute: \" + name)    \n",
    "\n",
    "            \n",
    "\n",
    "\n",
    "\n",
    "class FitMe(dict):\n",
    "\n",
    "      \"\"\" a class that inherits from a custom dictionary emulator\n",
    "      for storing and passing information cleanly between Optimizer and \n",
    "      Simulator objects (i.e., init dict, if flat, number of conditions,\n",
    "      which methods to use etc.). \n",
    "      \n",
    "      This is motivated by the fact that \n",
    "      fitting a single model often involves multiple stages at which this\n",
    "      information is relevant but non constant.\n",
    "      \"\"\"\n",
    "      from copy import deepcopy\n",
    "      \n",
    "      def __init__(self, is_flat=False, ncond=1, pvc=[], pnames=[]):\n",
    "            \n",
    "            self.pnames=['a', 'tr', 'v', 'ssv', 'z', 'xb', 'si', 'sso']\n",
    "            self.pvc=deepcopy(['a', 'tr', 'v', 'xb'])\n",
    "            self.is_flat=is_flat\n",
    "            self.ncond=ncond\n",
    "            #self.__dict__ = self\n",
    "            \n",
    "      def __getattr__(self, name):\n",
    "            if name in self:\n",
    "                  return self[name]\n",
    "            else:\n",
    "                  raise AttributeError(\"No such attribute: \" + name)\n",
    "      def __setattr__(self, name, value):\n",
    "            self[name] = value\n",
    "      \n",
    "      def set_params(self, inits):\n",
    "            \"\"\" store a safe copy of the init params\n",
    "            and fill ThisFit attr. dict with params\n",
    "            \"\"\"\n",
    "            self.orig_inits = dict(deepcopy(inits))\n",
    "            for k,v in inits.items():\n",
    "                  self.__setattr__(k, v)\n",
    "\n",
    "      def restore_inits(self):\n",
    "            self.__clear__()\n",
    "            for k,v in self.orig_inits.items():\n",
    "                  self.__setattr__(k, v)"
   ]
  },
  {
   "cell_type": "code",
   "execution_count": null,
   "metadata": {
    "collapsed": true
   },
   "outputs": [],
   "source": []
  }
 ],
 "metadata": {
  "kernelspec": {
   "display_name": "Python 2",
   "language": "python",
   "name": "python2"
  },
  "language_info": {
   "codemirror_mode": {
    "name": "ipython",
    "version": 2
   },
   "file_extension": ".py",
   "mimetype": "text/x-python",
   "name": "python",
   "nbconvert_exporter": "python",
   "pygments_lexer": "ipython2",
   "version": "2.7.10"
  }
 },
 "nbformat": 4,
 "nbformat_minor": 0
}
