{
 "cells": [
  {
   "cell_type": "code",
   "execution_count": 1,
   "metadata": {
    "collapsed": true
   },
   "outputs": [],
   "source": [
    "from radd import pipeline, models, build\n",
    "depends_keys = ['tr', 'a', 'xb', ['xb','tr'], ['xb', 'a'], ['xb', 'v']]\n",
    "condition = 'pGo'\n",
    "kinds = ['xpro', 'pro']\n",
    "dynamics = ['hyp','exp']\n",
    "data=prodf_store.prodata"
   ]
  },
  {
   "cell_type": "code",
   "execution_count": null,
   "metadata": {
    "collapsed": true
   },
   "outputs": [],
   "source": [
    "mlist = pipeline.run_pipeline(data=data, kinds=kinds, depends_keys=depends_keys, dynamics=dynamics, condition=condition, ntrials=10000, tol=1.e-20, maxfev=5000)"
   ]
  }
 ],
 "metadata": {
  "kernelspec": {
   "display_name": "Python 2",
   "language": "python",
   "name": "python2"
  },
  "language_info": {
   "codemirror_mode": {
    "name": "ipython",
    "version": 2
   },
   "file_extension": ".py",
   "mimetype": "text/x-python",
   "name": "python",
   "nbconvert_exporter": "python",
   "pygments_lexer": "ipython2",
   "version": "2.7.10"
  }
 },
 "nbformat": 4,
 "nbformat_minor": 0
}
