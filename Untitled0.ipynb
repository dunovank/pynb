{
 "metadata": {
  "name": "",
  "signature": "sha256:f14c419a1fc4451986235abb027fd29d21f119d2e1e77ab35f282e5f45d75d61"
 },
 "nbformat": 3,
 "nbformat_minor": 0,
 "worksheets": [
  {
   "cells": [
    {
     "cell_type": "markdown",
     "metadata": {},
     "source": [
      "###Tables\n",
      "First Header  | Second Header\n",
      "------------- | -------------\n",
      "Content Cell  | Content Cell\n",
      "Content Cell  | Content Cell\n",
      "\n",
      "\n",
      "xasdf\n",
      "{'rt':idx_rt_df, 'sc':idx_sc_df}"
     ]
    },
    {
     "cell_type": "heading",
     "level": 1,
     "metadata": {},
     "source": [
      "ddSasdfl;kasjdfsa;ldfkj"
     ]
    },
    {
     "cell_type": "code",
     "collapsed": false,
     "input": [
      "sadf\n",
      "for i in x"
     ],
     "language": "python",
     "metadata": {},
     "outputs": [
      {
       "ename": "SyntaxError",
       "evalue": "invalid syntax (<ipython-input-2-503992ed1ec8>, line 2)",
       "output_type": "pyerr",
       "traceback": [
        "\u001b[0;36m  File \u001b[0;32m\"<ipython-input-2-503992ed1ec8>\"\u001b[0;36m, line \u001b[0;32m2\u001b[0m\n\u001b[0;31m    for i in x\u001b[0m\n\u001b[0m              ^\u001b[0m\n\u001b[0;31mSyntaxError\u001b[0m\u001b[0;31m:\u001b[0m invalid syntax\n"
       ]
      }
     ],
     "prompt_number": 2
    }
   ],
   "metadata": {}
  }
 ]
}