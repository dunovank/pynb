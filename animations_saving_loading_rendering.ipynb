{
 "cells": [
  {
   "cell_type": "code",
   "execution_count": 5,
   "metadata": {
    "collapsed": false
   },
   "outputs": [],
   "source": [
    "from radd.tools import vis\n",
    "from radd import build\n",
    "import radd\n",
    "# read in example dataframe \n",
    "data = radd.load_example_data()\n",
    "dpm = build.Model(kind='xdpm', data=data, depends_on={'v':'Cond'}, fit_on='average')"
   ]
  },
  {
   "cell_type": "code",
   "execution_count": 9,
   "metadata": {
    "collapsed": false
   },
   "outputs": [],
   "source": [
    "def animate_dpm(model):\n",
    "    \"\"\" to render animation within a notebook :\n",
    "        vis.render_animation(vis.animated_dpm_example(MODEL))\n",
    "    \"\"\"\n",
    "    from radd.tools import theta\n",
    "    from matplotlib import animation\n",
    "    from copy import deepcopy\n",
    "    params = deepcopy(model.inits)\n",
    "    bound=theta.scalarize_params(params)['a']\n",
    "    x, gtraces, straces, xi, yi, nframes = vis.gen_re_traces(model, params)\n",
    "    f, axes = build_decision_axis(onset=x[0][0], bound=bound)\n",
    "    glines = [axes[i].plot([], [], linewidth=1.5)[0] for i, n in enumerate(gtraces)]\n",
    "    slines = [axes[i].plot([xi[i]], [yi[i]], linewidth=1.5)[0] for i, n in enumerate(straces)]\n",
    "    f_args = (x, gtraces, glines, straces, slines, params, xi, yi)\n",
    "    anim=animation.FuncAnimation(f, vis.re_animate_multiax, fargs=f_args, frames=nframes, interval=4, blit=True)\n",
    "    return anim\n",
    "\n",
    "def build_decision_axis(onset, bound, ssd=np.array([300, 400]), tb=650):\n",
    "    # init figure, axes, properties\n",
    "    import matplotlib.pyplot as plt\n",
    "    f, axes = plt.subplots(len(ssd), 1, figsize=(7, 7), dpi=300)\n",
    "    #f.subplots_adjust(wspace=.05, top=.1, bottom=.1)\n",
    "    f.subplots_adjust(hspace=.05, top=.99, bottom=.09)\n",
    "    w = tb + 40\n",
    "    h = bound\n",
    "    start = onset - 80\n",
    "    # c=[\"#e74c3c\", '#27ae60', '#4168B7', '#8E44AD']\n",
    "    for i, ax in enumerate(axes):\n",
    "        plt.setp(ax, xlim=(start - 1, w + 1), ylim=(0 - (.01 * h), h + (.01 * h)))\n",
    "        ax.vlines(x=ssd[i], ymin=0, ymax=h, color=\"#e74c3c\", lw=2.5, alpha=.5)\n",
    "        ax.hlines(y=h, xmin=start, xmax=w, color='k')\n",
    "        ax.hlines(y=0, xmin=start, xmax=w, color='k')\n",
    "        ax.vlines(x=tb, ymin=0, ymax=h, color='#2043B0', lw=2.5, linestyle='-', alpha=.5)\n",
    "        ax.vlines(x=start + 2, ymin=0, ymax=h, color='k')\n",
    "        ax.text(ssd[i] + 10, h * .88, str(ssd[i]) + 'ms', fontsize=19)\n",
    "        ax.set_xticklabels([])\n",
    "        ax.set_yticklabels([])\n",
    "        ax.set_xticks([])\n",
    "        ax.set_yticks([])\n",
    "    sns.despine(top=True, right=True, bottom=True, left=True)\n",
    "    return f, axes\n",
    "\n",
    "def render_animation(anim):\n",
    "    import matplotlib.pyplot as plt\n",
    "    from IPython.display import HTML\n",
    "    plt.close(anim._fig)\n",
    "    return HTML(vis.anim_to_html(anim))"
   ]
  },
  {
   "cell_type": "code",
   "execution_count": 1,
   "metadata": {
    "collapsed": false
   },
   "outputs": [
    {
     "ename": "NameError",
     "evalue": "name 'dpm' is not defined",
     "output_type": "error",
     "traceback": [
      "\u001b[1;31m---------------------------------------------------------------------------\u001b[0m",
      "\u001b[1;31mNameError\u001b[0m                                 Traceback (most recent call last)",
      "\u001b[1;32m<ipython-input-1-7553720774e9>\u001b[0m in \u001b[0;36m<module>\u001b[1;34m()\u001b[0m\n\u001b[0;32m      1\u001b[0m \u001b[1;32mfrom\u001b[0m \u001b[0mradd\u001b[0m\u001b[1;33m.\u001b[0m\u001b[0mtools\u001b[0m\u001b[1;33m.\u001b[0m\u001b[0mvis\u001b[0m \u001b[1;32mimport\u001b[0m \u001b[0mrender_animation\u001b[0m\u001b[1;33m,\u001b[0m \u001b[0manimate_dpm\u001b[0m\u001b[1;33m\u001b[0m\u001b[0m\n\u001b[0;32m      2\u001b[0m \u001b[0mmovpath\u001b[0m \u001b[1;33m=\u001b[0m \u001b[0mos\u001b[0m\u001b[1;33m.\u001b[0m\u001b[0mpath\u001b[0m\u001b[1;33m.\u001b[0m\u001b[0mjoin\u001b[0m\u001b[1;33m(\u001b[0m\u001b[0m_dbpath\u001b[0m\u001b[1;33m,\u001b[0m \u001b[1;34m'anim.mp4'\u001b[0m\u001b[1;33m)\u001b[0m\u001b[1;33m\u001b[0m\u001b[0m\n\u001b[1;32m----> 3\u001b[1;33m \u001b[0manim\u001b[0m \u001b[1;33m=\u001b[0m \u001b[0manimate_dpm\u001b[0m\u001b[1;33m(\u001b[0m\u001b[0mdpm\u001b[0m\u001b[1;33m)\u001b[0m\u001b[1;33m\u001b[0m\u001b[0m\n\u001b[0m\u001b[0;32m      4\u001b[0m \u001b[0mrender_animation\u001b[0m\u001b[1;33m(\u001b[0m\u001b[0manim\u001b[0m\u001b[1;33m)\u001b[0m\u001b[1;33m\u001b[0m\u001b[0m\n",
      "\u001b[1;31mNameError\u001b[0m: name 'dpm' is not defined"
     ]
    }
   ],
   "source": [
    "movpath = os.path.join(_dbpath, 'anim.mp4')\n",
    "anim = animate_dpm(dpm)\n",
    "render_animation(anim)"
   ]
  },
  {
   "cell_type": "code",
   "execution_count": null,
   "metadata": {
    "collapsed": true
   },
   "outputs": [],
   "source": [
    "anim.save(movpath, dpi=200, extra_args=['-vcodec', 'libx264', '-pix_fmt', 'yuv420p'])\n",
    "video = open(movpath, \"rb\").read()\n",
    "anim._encoded_video = video.encode(\"base64\")\n",
    "render_animation(anim)"
   ]
  },
  {
   "cell_type": "code",
   "execution_count": null,
   "metadata": {
    "collapsed": true
   },
   "outputs": [],
   "source": []
  }
 ],
 "metadata": {
  "kernelspec": {
   "display_name": "Python 2",
   "language": "python",
   "name": "python2"
  },
  "language_info": {
   "codemirror_mode": {
    "name": "ipython",
    "version": 2
   },
   "file_extension": ".py",
   "mimetype": "text/x-python",
   "name": "python",
   "nbconvert_exporter": "python",
   "pygments_lexer": "ipython2",
   "version": "2.7.11"
  }
 },
 "nbformat": 4,
 "nbformat_minor": 0
}
