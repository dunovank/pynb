{
 "cells": [
  {
   "cell_type": "code",
   "execution_count": 112,
   "metadata": {
    "collapsed": false
   },
   "outputs": [],
   "source": [
    "from radd import build, vis\n",
    "from radd.toolbox import analyze\n",
    "#Wos.mkdir('/Users/kyle/Dropbox/xsab_confirm')\n",
    "os.chdir('/Users/kyle/Dropbox/xsab_confirm')"
   ]
  },
  {
   "cell_type": "code",
   "execution_count": 113,
   "metadata": {
    "collapsed": false
   },
   "outputs": [],
   "source": [
    "build=reload(build)"
   ]
  },
  {
   "cell_type": "code",
   "execution_count": null,
   "metadata": {
    "collapsed": true
   },
   "outputs": [],
   "source": [
    "#popt={'a': array([ 0.53625]), 'xb': array([ 0.87761]), 'ssv': -0.98396462152356978, 'tr': array([ 0.17801]), 'v': array([ 1.26793])}\n",
    "\n",
    "#popt={'a': array([ 0.48227]), 'sso': 0.01804612312742325, 'v': array([ 1.18368, 1.10]), 'xb': array([ 1.43943]), 'ssv': -0.93274357892086091, 'tr': array([ 0.21019])}"
   ]
  },
  {
   "cell_type": "code",
   "execution_count": 174,
   "metadata": {
    "collapsed": false
   },
   "outputs": [],
   "source": [
    "m=build.Model(data=redata, kind='xsab', depends_on={'v':'Cond'})"
   ]
  },
  {
   "cell_type": "code",
   "execution_count": 189,
   "metadata": {
    "collapsed": false
   },
   "outputs": [
    {
     "data": {
      "text/plain": [
       "{'a': 0.32, 'sso': 0.1, 'ssv': -1.2, 'tr': 0.29, 'v': 1.2, 'xb': 1.7}"
      ]
     },
     "execution_count": 189,
     "metadata": {},
     "output_type": "execute_result"
    }
   ],
   "source": [
    "m.inits"
   ]
  },
  {
   "cell_type": "code",
   "execution_count": 190,
   "metadata": {
    "collapsed": false
   },
   "outputs": [
    {
     "data": {
      "text/plain": [
       "a           0.51372\n",
       "chi        0.029189\n",
       "cnvrg         False\n",
       "ndata            32\n",
       "nfev           1064\n",
       "nvary             2\n",
       "sso         0.05817\n",
       "ssv        -0.87811\n",
       "tr          0.30282\n",
       "v_bsl        1.1695\n",
       "v_pnl          1.09\n",
       "xb           4.1706\n",
       "df               30\n",
       "rchi     0.00097297\n",
       "logp        -221.93\n",
       "AIC         -217.93\n",
       "BIC         -217.77\n",
       "dtype: object"
      ]
     },
     "execution_count": 190,
     "metadata": {},
     "output_type": "execute_result"
    }
   ],
   "source": [
    "m.fitinfo"
   ]
  },
  {
   "cell_type": "code",
   "execution_count": 168,
   "metadata": {
    "collapsed": false
   },
   "outputs": [],
   "source": [
    "\n",
    "m.kind='xsab'\n",
    "m.fitparams['kind']='xsab'"
   ]
  },
  {
   "cell_type": "code",
   "execution_count": 21,
   "metadata": {
    "collapsed": false
   },
   "outputs": [
    {
     "ename": "NameError",
     "evalue": "name 'popt' is not defined",
     "output_type": "error",
     "traceback": [
      "\u001b[0;31m---------------------------------------------------------------------------\u001b[0m",
      "\u001b[0;31mNameError\u001b[0m                                 Traceback (most recent call last)",
      "\u001b[0;32m<ipython-input-21-522c75cc4987>\u001b[0m in \u001b[0;36m<module>\u001b[0;34m()\u001b[0m\n\u001b[1;32m      4\u001b[0m \u001b[0;34m\u001b[0m\u001b[0m\n\u001b[1;32m      5\u001b[0m \u001b[0mm\u001b[0m\u001b[0;34m=\u001b[0m\u001b[0mbuild\u001b[0m\u001b[0;34m.\u001b[0m\u001b[0mModel\u001b[0m\u001b[0;34m(\u001b[0m\u001b[0mdata\u001b[0m\u001b[0;34m=\u001b[0m\u001b[0mredata\u001b[0m\u001b[0;34m,\u001b[0m \u001b[0mkind\u001b[0m\u001b[0;34m=\u001b[0m\u001b[0;34m'xsab'\u001b[0m\u001b[0;34m,\u001b[0m \u001b[0mdepends_on\u001b[0m\u001b[0;34m=\u001b[0m\u001b[0;34m{\u001b[0m\u001b[0;34m'a'\u001b[0m\u001b[0;34m:\u001b[0m\u001b[0;34m'Cond'\u001b[0m\u001b[0;34m}\u001b[0m\u001b[0;34m)\u001b[0m\u001b[0;34m\u001b[0m\u001b[0m\n\u001b[0;32m----> 6\u001b[0;31m \u001b[0myhat\u001b[0m\u001b[0;34m=\u001b[0m\u001b[0mm\u001b[0m\u001b[0;34m.\u001b[0m\u001b[0msimulate\u001b[0m\u001b[0;34m(\u001b[0m\u001b[0mpopt\u001b[0m\u001b[0;34m)\u001b[0m\u001b[0;34m\u001b[0m\u001b[0m\n\u001b[0m",
      "\u001b[0;31mNameError\u001b[0m: name 'popt' is not defined"
     ]
    }
   ],
   "source": [
    "#popt={'a': array([ 0.53625]), 'xb': array([ 0.87761]), 'ssv': -0.98396462152356978, 'tr': array([ 0.17801]), 'v': array([ 1.26793])}\n",
    "\n",
    "#popt={'a': array([ 0.48227]), 'sso': 0.01804612312742325, 'v': array([ 1.18368, 1.10]), 'xb': array([ 1.43943]), 'ssv': -0.93274357892086091, 'tr': array([ 0.21019])}\n",
    "\n",
    "m=build.Model(data=redata, kind='xsab', depends_on={'a':'Cond'})\n",
    "#yhat=m.simulate(popt)"
   ]
  },
  {
   "cell_type": "code",
   "execution_count": 52,
   "metadata": {
    "collapsed": false
   },
   "outputs": [],
   "source": [
    "m.set_basinparams(btol=1.e-2, ninits=20)"
   ]
  },
  {
   "cell_type": "code",
   "execution_count": 116,
   "metadata": {
    "collapsed": true
   },
   "outputs": [],
   "source": [
    "del m.inits['z']"
   ]
  },
  {
   "cell_type": "code",
   "execution_count": 175,
   "metadata": {
    "collapsed": false
   },
   "outputs": [
    {
     "name": "stdout",
     "output_type": "stream",
     "text": [
      "basinhopping step 0: f 0.150613\n",
      "basinhopping step 1: f 0.0905714 trial_f 0.0905714 accepted 1  lowest_f 0.0905714\n",
      "found new global minimum on step 1 with function value 0.0905714\n",
      "warning: basinhopping: local minimization failure\n",
      "basinhopping step 2: f 0.713147 trial_f 0.713147 accepted 1  lowest_f 0.0905714\n",
      "basinhopping step 3: f 0.413654 trial_f 0.413654 accepted 1  lowest_f 0.0905714\n",
      "basinhopping step 4: f 0.107311 trial_f 0.107311 accepted 1  lowest_f 0.0905714\n",
      "basinhopping step 5: f 0.307821 trial_f 0.307821 accepted 1  lowest_f 0.0905714\n",
      "basinhopping step 6: f 0.54576 trial_f 0.54576 accepted 1  lowest_f 0.0905714\n",
      "basinhopping step 7: f 1.23378 trial_f 1.23378 accepted 1  lowest_f 0.0905714\n",
      "basinhopping step 8: f 1.23378 trial_f 3.29275 accepted 0  lowest_f 0.0905714\n",
      "basinhopping step 9: f 0.447673 trial_f 0.447673 accepted 1  lowest_f 0.0905714\n",
      "adaptive stepsize: acceptance rate 0.800000 target 0.500000 new stepsize 0.0555556 old stepsize 0.05\n",
      "basinhopping step 10: f 0.66408 trial_f 0.66408 accepted 1  lowest_f 0.0905714\n",
      "basinhopping step 11: f 0.66408 trial_f 1.99733 accepted 0  lowest_f 0.0905714\n",
      "basinhopping step 12: f 0.66408 trial_f 1.96602 accepted 0  lowest_f 0.0905714\n",
      "basinhopping step 13: f 0.66408 trial_f 2.15277 accepted 0  lowest_f 0.0905714\n",
      "basinhopping step 14: f 0.795856 trial_f 0.795856 accepted 1  lowest_f 0.0905714\n",
      "basinhopping step 15: f 0.795856 trial_f 4.55281 accepted 0  lowest_f 0.0905714\n",
      "basinhopping step 16: f 0.795856 trial_f 2.92374 accepted 0  lowest_f 0.0905714\n",
      "basinhopping step 17: f 2.07673 trial_f 2.07673 accepted 1  lowest_f 0.0905714\n",
      "basinhopping step 18: f 2.68688 trial_f 2.68688 accepted 1  lowest_f 0.0905714\n",
      "basinhopping step 19: f 1.33555 trial_f 1.33555 accepted 1  lowest_f 0.0905714\n",
      "adaptive stepsize: acceptance rate 0.650000 target 0.500000 new stepsize 0.0617284 old stepsize 0.0555556\n",
      "basinhopping step 20: f 1.33555 trial_f 1.54537 accepted 0  lowest_f 0.0905714\n",
      "basinhopping step 21: f 1.625 trial_f 1.625 accepted 1  lowest_f 0.0905714\n",
      "basinhopping step 22: f 1.625 trial_f 4.64082 accepted 0  lowest_f 0.0905714\n",
      "basinhopping finished\n",
      "basinhopping step 0: f 1.06354\n",
      "basinhopping step 1: f 0.789442 trial_f 0.789442 accepted 1  lowest_f 0.789442\n",
      "found new global minimum on step 1 with function value 0.789442\n",
      "basinhopping step 2: f 0.755228 trial_f 0.755228 accepted 1  lowest_f 0.755228\n",
      "found new global minimum on step 2 with function value 0.755228\n",
      "warning: basinhopping: local minimization failure\n",
      "basinhopping step 3: f 0.761524 trial_f 0.761524 accepted 1  lowest_f 0.755228\n",
      "basinhopping step 4: f 0.661314 trial_f 0.661314 accepted 1  lowest_f 0.661314\n",
      "found new global minimum on step 4 with function value 0.661314\n",
      "basinhopping step 5: f 0.871478 trial_f 0.871478 accepted 1  lowest_f 0.661314\n",
      "warning: basinhopping: local minimization failure\n",
      "basinhopping step 6: f 1.34032 trial_f 1.34032 accepted 1  lowest_f 0.661314\n",
      "basinhopping step 7: f 1.07914 trial_f 1.07914 accepted 1  lowest_f 0.661314\n",
      "warning: basinhopping: local minimization failure\n",
      "basinhopping step 8: f 0.483492 trial_f 0.483492 accepted 1  lowest_f 0.483492\n",
      "found new global minimum on step 8 with function value 0.483492\n",
      "basinhopping step 9: f 0.720589 trial_f 0.720589 accepted 1  lowest_f 0.483492\n",
      "adaptive stepsize: acceptance rate 0.900000 target 0.500000 new stepsize 0.0555556 old stepsize 0.05\n",
      "basinhopping step 10: f 0.720589 trial_f 1.02367 accepted 0  lowest_f 0.483492\n",
      "basinhopping step 11: f 0.798667 trial_f 0.798667 accepted 1  lowest_f 0.483492\n",
      "basinhopping step 12: f 0.683708 trial_f 0.683708 accepted 1  lowest_f 0.483492\n",
      "basinhopping step 13: f 0.391703 trial_f 0.391703 accepted 1  lowest_f 0.391703\n",
      "found new global minimum on step 13 with function value 0.391703\n",
      "basinhopping step 14: f 0.343057 trial_f 0.343057 accepted 1  lowest_f 0.343057\n",
      "found new global minimum on step 14 with function value 0.343057\n",
      "warning: basinhopping: local minimization failure\n",
      "basinhopping step 15: f 0.343057 trial_f 0.739215 accepted 0  lowest_f 0.343057\n",
      "warning: basinhopping: local minimization failure\n",
      "basinhopping step 16: f 0.696706 trial_f 0.696706 accepted 1  lowest_f 0.343057\n",
      "warning: basinhopping: local minimization failure\n",
      "basinhopping step 17: f 0.332146 trial_f 0.332146 accepted 1  lowest_f 0.332146\n",
      "found new global minimum on step 17 with function value 0.332146\n",
      "basinhopping step 18: f 0.136801 trial_f 0.136801 accepted 1  lowest_f 0.136801\n",
      "found new global minimum on step 18 with function value 0.136801\n",
      "basinhopping step 19: f 0.523612 trial_f 0.523612 accepted 1  lowest_f 0.136801\n",
      "adaptive stepsize: acceptance rate 0.850000 target 0.500000 new stepsize 0.0617284 old stepsize 0.0555556\n",
      "basinhopping step 20: f 0.152801 trial_f 0.152801 accepted 1  lowest_f 0.136801\n",
      "basinhopping step 21: f 0.0963131 trial_f 0.0963131 accepted 1  lowest_f 0.0963131\n",
      "found new global minimum on step 21 with function value 0.0963131\n",
      "basinhopping step 22: f 0.110645 trial_f 0.110645 accepted 1  lowest_f 0.0963131\n",
      "basinhopping step 23: f 0.58119 trial_f 0.58119 accepted 1  lowest_f 0.0963131\n",
      "basinhopping step 24: f 0.545917 trial_f 0.545917 accepted 1  lowest_f 0.0963131\n",
      "basinhopping step 25: f 1.55775 trial_f 1.55775 accepted 1  lowest_f 0.0963131\n",
      "basinhopping step 26: f 1.55775 trial_f 2.9314 accepted 0  lowest_f 0.0963131\n",
      "basinhopping step 27: f 1.9021 trial_f 1.9021 accepted 1  lowest_f 0.0963131\n",
      "basinhopping step 28: f 1.9021 trial_f 2.9314 accepted 0  lowest_f 0.0963131\n",
      "basinhopping step 29: f 1.9021 trial_f 2.9314 accepted 0  lowest_f 0.0963131\n",
      "adaptive stepsize: acceptance rate 0.800000 target 0.500000 new stepsize 0.0685871 old stepsize 0.0617284\n",
      "warning: basinhopping: local minimization failure\n",
      "basinhopping step 30: f 0.1512 trial_f 0.1512 accepted 1  lowest_f 0.0963131\n",
      "basinhopping step 31: f 0.74971 trial_f 0.74971 accepted 1  lowest_f 0.0963131\n",
      "basinhopping step 32: f 0.0677692 trial_f 0.0677692 accepted 1  lowest_f 0.0677692\n",
      "found new global minimum on step 32 with function value 0.0677692\n",
      "basinhopping step 33: f 0.0677692 trial_f 1.56766 accepted 0  lowest_f 0.0677692\n",
      "warning: basinhopping: local minimization failure\n",
      "basinhopping step 34: f 0.0677692 trial_f 1.24106 accepted 0  lowest_f 0.0677692\n",
      "basinhopping step 35: f 0.0147076 trial_f 0.0147076 accepted 1  lowest_f 0.0147076\n",
      "found new global minimum on step 35 with function value 0.0147076\n",
      "basinhopping step 36: f 0.0660474 trial_f 0.0660474 accepted 1  lowest_f 0.0147076\n",
      "basinhopping step 37: f 0.075154 trial_f 0.075154 accepted 1  lowest_f 0.0147076\n",
      "basinhopping step 38: f 1.01558 trial_f 1.01558 accepted 1  lowest_f 0.0147076\n",
      "basinhopping step 39: f 0.993691 trial_f 0.993691 accepted 1  lowest_f 0.0147076\n",
      "adaptive stepsize: acceptance rate 0.800000 target 0.500000 new stepsize 0.0762079 old stepsize 0.0685871\n",
      "basinhopping step 40: f 0.97005 trial_f 0.97005 accepted 1  lowest_f 0.0147076\n",
      "basinhopping finished\n"
     ]
    },
    {
     "data": {
      "text/plain": [
       "{'a': 0.51372234175862563,\n",
       " 'sso': 0.058170185603734492,\n",
       " 'ssv': -0.87810572587674085,\n",
       " 'tr': 0.30281603609489482,\n",
       " 'v': 1.1477590188066709,\n",
       " 'xb': 4.1706167754627588}"
      ]
     },
     "execution_count": 175,
     "metadata": {},
     "output_type": "execute_result"
    }
   ],
   "source": [
    "m.make_optimizer()\n",
    "m.opt.hop_around(m.inits)"
   ]
  },
  {
   "cell_type": "code",
   "execution_count": 186,
   "metadata": {
    "collapsed": false
   },
   "outputs": [
    {
     "ename": "AttributeError",
     "evalue": "'Optimizer' object has no attribute 'basins'",
     "output_type": "error",
     "traceback": [
      "\u001b[0;31m---------------------------------------------------------------------------\u001b[0m",
      "\u001b[0;31mAttributeError\u001b[0m                            Traceback (most recent call last)",
      "\u001b[0;32m<ipython-input-186-d80aa7aa8f86>\u001b[0m in \u001b[0;36m<module>\u001b[0;34m()\u001b[0m\n\u001b[0;32m----> 1\u001b[0;31m \u001b[0mm\u001b[0m\u001b[0;34m.\u001b[0m\u001b[0mopt\u001b[0m\u001b[0;34m.\u001b[0m\u001b[0mbasins\u001b[0m\u001b[0;34m\u001b[0m\u001b[0m\n\u001b[0m",
      "\u001b[0;31mAttributeError\u001b[0m: 'Optimizer' object has no attribute 'basins'"
     ]
    }
   ],
   "source": [
    "m.opt.basins"
   ]
  },
  {
   "cell_type": "code",
   "execution_count": 179,
   "metadata": {
    "collapsed": false
   },
   "outputs": [
    {
     "data": {
      "text/plain": [
       "[{'a': 0.34765194887495987,\n",
       "  'sso': 0.052413027235435658,\n",
       "  'ssv': -1.2167391222727815,\n",
       "  'tr': 0.2459676484297047,\n",
       "  'v': 1.186269444700832,\n",
       "  'xb': 1.6784740459237928},\n",
       " {'a': 0.51372234175862563,\n",
       "  'sso': 0.058170185603734492,\n",
       "  'ssv': -0.87810572587674085,\n",
       "  'tr': 0.30281603609489482,\n",
       "  'v': 1.1477590188066709,\n",
       "  'xb': 4.1706167754627588}]"
      ]
     },
     "execution_count": 179,
     "metadata": {},
     "output_type": "execute_result"
    }
   ],
   "source": [
    "m.opt.basins_popt"
   ]
  },
  {
   "cell_type": "code",
   "execution_count": 182,
   "metadata": {
    "collapsed": false
   },
   "outputs": [],
   "source": [
    "p= {'a': 0.51372234175862563,\n",
    "  'sso': 0.058170185603734492,\n",
    "  'ssv': -0.87810572587674085,\n",
    "  'tr': 0.30281603609489482,\n",
    "  'v': 1.1477590188066709,\n",
    "  'xb': 4.1706167754627588}"
   ]
  },
  {
   "cell_type": "code",
   "execution_count": 185,
   "metadata": {
    "collapsed": false
   },
   "outputs": [
    {
     "data": {
      "text/plain": [
       "{'v': 'Cond'}"
      ]
     },
     "execution_count": 185,
     "metadata": {},
     "output_type": "execute_result"
    }
   ],
   "source": [
    "m.depends_on"
   ]
  },
  {
   "cell_type": "code",
   "execution_count": 184,
   "metadata": {
    "collapsed": false
   },
   "outputs": [
    {
     "data": {
      "text/plain": [
       "a           0.51372\n",
       "chi        0.029189\n",
       "cnvrg         False\n",
       "ndata            32\n",
       "nfev           1064\n",
       "nvary             2\n",
       "sso         0.05817\n",
       "ssv        -0.87811\n",
       "tr          0.30282\n",
       "v_bsl        1.1695\n",
       "v_pnl          1.09\n",
       "xb           4.1706\n",
       "df               30\n",
       "rchi     0.00097297\n",
       "logp        -221.93\n",
       "AIC         -217.93\n",
       "BIC         -217.77\n",
       "dtype: object"
      ]
     },
     "execution_count": 184,
     "metadata": {},
     "output_type": "execute_result"
    }
   ],
   "source": [
    "m.fitinfo"
   ]
  },
  {
   "cell_type": "code",
   "execution_count": 183,
   "metadata": {
    "collapsed": false
   },
   "outputs": [
    {
     "name": "stdout",
     "output_type": "stream",
     "text": [
      "warning: basinhopping: local minimization failure\n",
      "basinhopping step 0: f 2.83621\n",
      "warning: basinhopping: local minimization failure\n",
      "basinhopping step 1: f 2.84886 trial_f 2.84886 accepted 1  lowest_f 2.83621\n",
      "basinhopping step 2: f 2.87631 trial_f 2.87631 accepted 1  lowest_f 2.83621\n",
      "basinhopping step 3: f 2.84485 trial_f 2.84485 accepted 1  lowest_f 2.83621\n",
      "basinhopping step 4: f 2.93231 trial_f 2.93231 accepted 1  lowest_f 2.83621\n",
      "warning: basinhopping: local minimization failure\n",
      "basinhopping step 5: f 3.0017 trial_f 3.0017 accepted 1  lowest_f 2.83621\n",
      "warning: basinhopping: local minimization failure\n",
      "basinhopping step 6: f 2.89645 trial_f 2.89645 accepted 1  lowest_f 2.83621\n",
      "basinhopping step 7: f 3.01673 trial_f 3.01673 accepted 1  lowest_f 2.83621\n",
      "warning: basinhopping: local minimization failure\n",
      "basinhopping step 8: f 3.08899 trial_f 3.08899 accepted 1  lowest_f 2.83621\n",
      "basinhopping step 9: f 2.95653 trial_f 2.95653 accepted 1  lowest_f 2.83621\n",
      "adaptive stepsize: acceptance rate 0.900000 target 0.500000 new stepsize 0.0555556 old stepsize 0.05\n",
      "basinhopping step 10: f 2.97995 trial_f 2.97995 accepted 1  lowest_f 2.83621\n",
      "warning: basinhopping: local minimization failure\n",
      "basinhopping step 11: f 3.07457 trial_f 3.07457 accepted 1  lowest_f 2.83621\n",
      "basinhopping step 12: f 3.162 trial_f 3.162 accepted 1  lowest_f 2.83621\n",
      "basinhopping step 13: f 3.10342 trial_f 3.10342 accepted 1  lowest_f 2.83621\n",
      "basinhopping step 14: f 3.1654 trial_f 3.1654 accepted 1  lowest_f 2.83621\n",
      "basinhopping step 15: f 3.30261 trial_f 3.30261 accepted 1  lowest_f 2.83621\n",
      "basinhopping step 16: f 3.3216 trial_f 3.3216 accepted 1  lowest_f 2.83621\n",
      "basinhopping step 17: f 3.35222 trial_f 3.35222 accepted 1  lowest_f 2.83621\n",
      "basinhopping step 18: f 3.38745 trial_f 3.38745 accepted 1  lowest_f 2.83621\n",
      "warning: basinhopping: local minimization failure\n",
      "basinhopping step 19: f 3.35728 trial_f 3.35728 accepted 1  lowest_f 2.83621\n",
      "adaptive stepsize: acceptance rate 0.950000 target 0.500000 new stepsize 0.0617284 old stepsize 0.0555556\n",
      "warning: basinhopping: local minimization failure\n",
      "basinhopping step 20: f 3.30215 trial_f 3.30215 accepted 1  lowest_f 2.83621\n",
      "basinhopping step 21: f 3.3659 trial_f 3.3659 accepted 1  lowest_f 2.83621\n",
      "basinhopping step 22: f 3.45833 trial_f 3.45833 accepted 1  lowest_f 2.83621\n",
      "basinhopping step 23: f 3.49487 trial_f 3.49487 accepted 1  lowest_f 2.83621\n",
      "warning: basinhopping: local minimization failure\n",
      "basinhopping step 24: f 3.52772 trial_f 3.52772 accepted 1  lowest_f 2.83621\n",
      "basinhopping step 25: f 3.49989 trial_f 3.49989 accepted 1  lowest_f 2.83621\n",
      "warning: basinhopping: local minimization failure\n",
      "basinhopping step 26: f 3.45654 trial_f 3.45654 accepted 1  lowest_f 2.83621\n",
      "warning: basinhopping: local minimization failure\n",
      "basinhopping step 27: f 3.62276 trial_f 3.62276 accepted 1  lowest_f 2.83621\n",
      "warning: basinhopping: local minimization failure\n",
      "basinhopping step 28: f 3.64007 trial_f 3.64007 accepted 1  lowest_f 2.83621\n",
      "basinhopping step 29: f 3.59219 trial_f 3.59219 accepted 1  lowest_f 2.83621\n",
      "adaptive stepsize: acceptance rate 0.966667 target 0.500000 new stepsize 0.0685871 old stepsize 0.0617284\n",
      "basinhopping step 30: f 3.61364 trial_f 3.61364 accepted 1  lowest_f 2.83621\n",
      "basinhopping step 31: f 3.61899 trial_f 3.61899 accepted 1  lowest_f 2.83621\n",
      "basinhopping step 32: f 3.60875 trial_f 3.60875 accepted 1  lowest_f 2.83621\n",
      "basinhopping step 33: f 3.59694 trial_f 3.59694 accepted 1  lowest_f 2.83621\n",
      "basinhopping step 34: f 3.5406 trial_f 3.5406 accepted 1  lowest_f 2.83621\n",
      "warning: basinhopping: local minimization failure\n",
      "basinhopping step 35: f 3.5032 trial_f 3.5032 accepted 1  lowest_f 2.83621\n",
      "basinhopping step 36: f 3.51963 trial_f 3.51963 accepted 1  lowest_f 2.83621\n",
      "warning: basinhopping: local minimization failure\n",
      "basinhopping step 37: f 3.45492 trial_f 3.45492 accepted 1  lowest_f 2.83621\n",
      "basinhopping step 38: f 3.38732 trial_f 3.38732 accepted 1  lowest_f 2.83621\n",
      "basinhopping step 39: f 3.42978 trial_f 3.42978 accepted 1  lowest_f 2.83621\n",
      "adaptive stepsize: acceptance rate 0.975000 target 0.500000 new stepsize 0.0762079 old stepsize 0.0685871\n",
      "basinhopping step 40: f 3.50025 trial_f 3.50025 accepted 1  lowest_f 2.83621\n",
      "basinhopping step 41: f 3.47435 trial_f 3.47435 accepted 1  lowest_f 2.83621\n",
      "basinhopping step 0: f 14.6299\n",
      "basinhopping step 1: f 14.7029 trial_f 14.7029 accepted 1  lowest_f 14.6299\n",
      "basinhopping step 2: f 14.7029 trial_f 15.4416 accepted 0  lowest_f 14.6299\n",
      "warning: basinhopping: local minimization failure\n",
      "basinhopping step 3: f 14.5958 trial_f 14.5958 accepted 1  lowest_f 14.5958\n",
      "found new global minimum on step 3 with function value 14.5958\n",
      "warning: basinhopping: local minimization failure\n",
      "basinhopping step 4: f 13.9227 trial_f 13.9227 accepted 1  lowest_f 13.9227\n",
      "found new global minimum on step 4 with function value 13.9227\n",
      "basinhopping step 5: f 13.9227 trial_f 14.6358 accepted 0  lowest_f 13.9227\n",
      "basinhopping step 6: f 13.6717 trial_f 13.6717 accepted 1  lowest_f 13.6717\n",
      "found new global minimum on step 6 with function value 13.6717\n",
      "basinhopping step 7: f 12.8399 trial_f 12.8399 accepted 1  lowest_f 12.8399\n",
      "found new global minimum on step 7 with function value 12.8399\n",
      "warning: basinhopping: local minimization failure\n",
      "basinhopping step 8: f 13.3605 trial_f 13.3605 accepted 1  lowest_f 12.8399\n",
      "warning: basinhopping: local minimization failure\n",
      "basinhopping step 9: f 12.7209 trial_f 12.7209 accepted 1  lowest_f 12.7209\n",
      "found new global minimum on step 9 with function value 12.7209\n",
      "adaptive stepsize: acceptance rate 0.700000 target 0.500000 new stepsize 0.0555556 old stepsize 0.05\n",
      "basinhopping step 10: f 12.0981 trial_f 12.0981 accepted 1  lowest_f 12.0981\n",
      "found new global minimum on step 10 with function value 12.0981\n",
      "warning: basinhopping: local minimization failure\n",
      "basinhopping step 11: f 12.6449 trial_f 12.6449 accepted 1  lowest_f 12.0981\n",
      "basinhopping step 12: f 11.7567 trial_f 11.7567 accepted 1  lowest_f 11.7567\n",
      "found new global minimum on step 12 with function value 11.7567\n",
      "basinhopping step 13: f 11.2148 trial_f 11.2148 accepted 1  lowest_f 11.2148\n",
      "found new global minimum on step 13 with function value 11.2148\n",
      "basinhopping step 14: f 11.3753 trial_f 11.3753 accepted 1  lowest_f 11.2148\n",
      "basinhopping step 15: f 11.3753 trial_f 12.2345 accepted 0  lowest_f 11.2148\n",
      "warning: basinhopping: local minimization failure\n",
      "basinhopping step 16: f 11.5492 trial_f 11.5492 accepted 1  lowest_f 11.2148\n",
      "basinhopping step 17: f 10.8251 trial_f 10.8251 accepted 1  lowest_f 10.8251\n",
      "found new global minimum on step 17 with function value 10.8251\n",
      "basinhopping step 18: f 10.4596 trial_f 10.4596 accepted 1  lowest_f 10.4596\n",
      "found new global minimum on step 18 with function value 10.4596\n",
      "basinhopping step 19: f 9.67175 trial_f 9.67175 accepted 1  lowest_f 9.67175\n",
      "found new global minimum on step 19 with function value 9.67175\n",
      "adaptive stepsize: acceptance rate 0.800000 target 0.500000 new stepsize 0.0617284 old stepsize 0.0555556\n",
      "basinhopping step 20: f 9.43595 trial_f 9.43595 accepted 1  lowest_f 9.43595\n",
      "found new global minimum on step 20 with function value 9.43595\n",
      "basinhopping step 21: f 9.64779 trial_f 9.64779 accepted 1  lowest_f 9.43595\n",
      "basinhopping step 22: f 9.64779 trial_f 10.3137 accepted 0  lowest_f 9.43595\n",
      "warning: basinhopping: local minimization failure\n",
      "basinhopping step 23: f 10.1287 trial_f 10.1287 accepted 1  lowest_f 9.43595\n",
      "basinhopping step 24: f 10.2047 trial_f 10.2047 accepted 1  lowest_f 9.43595\n",
      "basinhopping step 25: f 9.52548 trial_f 9.52548 accepted 1  lowest_f 9.43595\n",
      "basinhopping step 26: f 9.08791 trial_f 9.08791 accepted 1  lowest_f 9.08791\n",
      "found new global minimum on step 26 with function value 9.08791\n",
      "basinhopping step 27: f 9.1728 trial_f 9.1728 accepted 1  lowest_f 9.08791\n",
      "basinhopping step 28: f 9.45391 trial_f 9.45391 accepted 1  lowest_f 9.08791\n",
      "basinhopping step 29: f 10.182 trial_f 10.182 accepted 1  lowest_f 9.08791\n",
      "adaptive stepsize: acceptance rate 0.833333 target 0.500000 new stepsize 0.0685871 old stepsize 0.0617284\n",
      "basinhopping step 30: f 9.31695 trial_f 9.31695 accepted 1  lowest_f 9.08791\n",
      "warning: basinhopping: local minimization failure\n",
      "basinhopping step 31: f 9.23286 trial_f 9.23286 accepted 1  lowest_f 9.08791\n",
      "basinhopping step 32: f 9.01764 trial_f 9.01764 accepted 1  lowest_f 9.01764\n",
      "found new global minimum on step 32 with function value 9.01764\n",
      "basinhopping step 33: f 9.00214 trial_f 9.00214 accepted 1  lowest_f 9.00214\n",
      "found new global minimum on step 33 with function value 9.00214\n",
      "basinhopping step 34: f 8.97363 trial_f 8.97363 accepted 1  lowest_f 8.97363\n",
      "found new global minimum on step 34 with function value 8.97363\n",
      "basinhopping step 35: f 9.1058 trial_f 9.1058 accepted 1  lowest_f 8.97363\n",
      "basinhopping step 36: f 9.3206 trial_f 9.3206 accepted 1  lowest_f 8.97363\n",
      "basinhopping step 37: f 9.0837 trial_f 9.0837 accepted 1  lowest_f 8.97363\n",
      "warning: basinhopping: local minimization failure\n",
      "basinhopping step 38: f 9.0778 trial_f 9.0778 accepted 1  lowest_f 8.97363\n",
      "warning: basinhopping: local minimization failure\n",
      "basinhopping step 39: f 9.0778 trial_f 9.28735 accepted 0  lowest_f 8.97363\n",
      "adaptive stepsize: acceptance rate 0.850000 target 0.500000 new stepsize 0.0762079 old stepsize 0.0685871\n",
      "basinhopping step 40: f 9.24679 trial_f 9.24679 accepted 1  lowest_f 8.97363\n",
      "warning: basinhopping: local minimization failure\n",
      "basinhopping step 41: f 9.16648 trial_f 9.16648 accepted 1  lowest_f 8.97363\n",
      "basinhopping step 42: f 9.03059 trial_f 9.03059 accepted 1  lowest_f 8.97363\n",
      "basinhopping step 43: f 9.00074 trial_f 9.00074 accepted 1  lowest_f 8.97363\n",
      "warning: basinhopping: local minimization failure\n",
      "basinhopping step 44: f 9.12392 trial_f 9.12392 accepted 1  lowest_f 8.97363\n",
      "basinhopping step 45: f 9.15285 trial_f 9.15285 accepted 1  lowest_f 8.97363\n",
      "basinhopping step 46: f 9.01378 trial_f 9.01378 accepted 1  lowest_f 8.97363\n",
      "warning: basinhopping: local minimization failure\n",
      "basinhopping step 47: f 9.04897 trial_f 9.04897 accepted 1  lowest_f 8.97363\n",
      "basinhopping step 48: f 9.03748 trial_f 9.03748 accepted 1  lowest_f 8.97363\n",
      "basinhopping step 49: f 9.03748 trial_f 9.15065 accepted 0  lowest_f 8.97363\n",
      "adaptive stepsize: acceptance rate 0.860000 target 0.500000 new stepsize 0.0846754 old stepsize 0.0762079\n",
      "basinhopping step 50: f 8.99671 trial_f 8.99671 accepted 1  lowest_f 8.97363\n",
      "basinhopping step 51: f 9.11968 trial_f 9.11968 accepted 1  lowest_f 8.97363\n",
      "basinhopping step 52: f 9.11968 trial_f 9.79819 accepted 0  lowest_f 8.97363\n",
      "basinhopping step 53: f 9.10452 trial_f 9.10452 accepted 1  lowest_f 8.97363\n",
      "basinhopping step 54: f 9.22164 trial_f 9.22164 accepted 1  lowest_f 8.97363\n",
      "basinhopping step 55: f 9.06661 trial_f 9.06661 accepted 1  lowest_f 8.97363\n",
      "warning: basinhopping: local minimization failure\n",
      "basinhopping step 56: f 9.30142 trial_f 9.30142 accepted 1  lowest_f 8.97363\n",
      "basinhopping step 57: f 8.98244 trial_f 8.98244 accepted 1  lowest_f 8.97363\n",
      "basinhopping step 58: f 9.2419 trial_f 9.2419 accepted 1  lowest_f 8.97363\n",
      "warning: basinhopping: local minimization failure\n",
      "basinhopping step 59: f 9.96414 trial_f 9.96414 accepted 1  lowest_f 8.97363\n",
      "adaptive stepsize: acceptance rate 0.866667 target 0.500000 new stepsize 0.0940838 old stepsize 0.0846754\n",
      "basinhopping step 60: f 9.96414 trial_f 10.4313 accepted 0  lowest_f 8.97363\n",
      "basinhopping step 61: f 9.06234 trial_f 9.06234 accepted 1  lowest_f 8.97363\n",
      "basinhopping step 62: f 9.06234 trial_f 9.74762 accepted 0  lowest_f 8.97363\n",
      "basinhopping step 63: f 9.41709 trial_f 9.41709 accepted 1  lowest_f 8.97363\n",
      "warning: basinhopping: local minimization failure\n",
      "basinhopping step 64: f 9.41709 trial_f 10.3489 accepted 0  lowest_f 8.97363\n",
      "warning: basinhopping: local minimization failure\n",
      "basinhopping step 65: f 9.41709 trial_f 10.1972 accepted 0  lowest_f 8.97363\n",
      "warning: basinhopping: local minimization failure\n",
      "basinhopping step 66: f 9.04257 trial_f 9.04257 accepted 1  lowest_f 8.97363\n",
      "basinhopping step 67: f 9.21599 trial_f 9.21599 accepted 1  lowest_f 8.97363\n",
      "warning: basinhopping: local minimization failure\n",
      "basinhopping step 68: f 8.98757 trial_f 8.98757 accepted 1  lowest_f 8.97363\n",
      "warning: basinhopping: local minimization failure\n",
      "basinhopping step 69: f 8.97942 trial_f 8.97942 accepted 1  lowest_f 8.97363\n",
      "adaptive stepsize: acceptance rate 0.828571 target 0.500000 new stepsize 0.104538 old stepsize 0.0940838\n",
      "basinhopping step 70: f 9.06957 trial_f 9.06957 accepted 1  lowest_f 8.97363\n",
      "basinhopping step 71: f 8.88615 trial_f 8.88615 accepted 1  lowest_f 8.88615\n",
      "found new global minimum on step 71 with function value 8.88615\n",
      "warning: basinhopping: local minimization failure\n",
      "basinhopping step 72: f 8.98479 trial_f 8.98479 accepted 1  lowest_f 8.88615\n",
      "warning: basinhopping: local minimization failure\n",
      "basinhopping step 73: f 9.13725 trial_f 9.13725 accepted 1  lowest_f 8.88615\n",
      "basinhopping step 74: f 9.12067 trial_f 9.12067 accepted 1  lowest_f 8.88615\n",
      "basinhopping step 75: f 9.77589 trial_f 9.77589 accepted 1  lowest_f 8.88615\n",
      "basinhopping step 76: f 9.77589 trial_f 10.8212 accepted 0  lowest_f 8.88615\n",
      "basinhopping step 77: f 10.7708 trial_f 10.7708 accepted 1  lowest_f 8.88615\n",
      "basinhopping step 78: f 11.0841 trial_f 11.0841 accepted 1  lowest_f 8.88615\n",
      "basinhopping step 79: f 11.6479 trial_f 11.6479 accepted 1  lowest_f 8.88615\n",
      "adaptive stepsize: acceptance rate 0.837500 target 0.500000 new stepsize 0.116153 old stepsize 0.104538\n",
      "basinhopping step 80: f 11.9186 trial_f 11.9186 accepted 1  lowest_f 8.88615\n",
      "basinhopping finished\n",
      "Warning: Maximum number of iterations has been exceeded.\n"
     ]
    }
   ],
   "source": [
    "m.optimize(stage='conditional', multiopt=True, inits=p)"
   ]
  },
  {
   "cell_type": "code",
   "execution_count": 188,
   "metadata": {
    "collapsed": false
   },
   "outputs": [
    {
     "data": {
      "text/plain": [
       "a           0.51372\n",
       "chi        0.029189\n",
       "cnvrg         False\n",
       "ndata            32\n",
       "nfev           1064\n",
       "nvary             2\n",
       "sso         0.05817\n",
       "ssv        -0.87811\n",
       "tr          0.30282\n",
       "v_bsl        1.1695\n",
       "v_pnl          1.09\n",
       "xb           4.1706\n",
       "df               30\n",
       "rchi     0.00097297\n",
       "logp        -221.93\n",
       "AIC         -217.93\n",
       "BIC         -217.77\n",
       "dtype: object"
      ]
     },
     "execution_count": 188,
     "metadata": {},
     "output_type": "execute_result"
    }
   ],
   "source": [
    "m.fitinfo"
   ]
  },
  {
   "cell_type": "code",
   "execution_count": 62,
   "metadata": {
    "collapsed": true
   },
   "outputs": [],
   "source": [
    "from numpy.random import random_sample as rs"
   ]
  },
  {
   "cell_type": "code",
   "execution_count": 153,
   "metadata": {
    "collapsed": false
   },
   "outputs": [
    {
     "data": {
      "text/plain": [
       "5"
      ]
     },
     "execution_count": 153,
     "metadata": {},
     "output_type": "execute_result"
    }
   ],
   "source": [
    "m.opt.simulator.nssd"
   ]
  },
  {
   "cell_type": "code",
   "execution_count": null,
   "metadata": {
    "collapsed": true
   },
   "outputs": [],
   "source": []
  },
  {
   "cell_type": "code",
   "execution_count": 138,
   "metadata": {
    "collapsed": true
   },
   "outputs": [],
   "source": [
    "def simulate_radd_2(sim, p, analyze=True):\n",
    "      p = sim.vectorize_params(p)\n",
    "      Pg, Tg = sim.__update_go_process__(p)\n",
    "      Ps, Ts = sim.__update_stop_process__(p)\n",
    "      nssd = sim.nssd; nss= sim.nss;\n",
    "      nc = sim.ncond; dx=sim.dx; ntot=sim.ntot\n",
    "      \n",
    "      DVg = sim.xtb[:,None]*np.cumsum(np.where((rs((nc, ntot, Tg.max())).T<Pg),dx,-dx).T, axis=2)\n",
    "      if 'radd' in sim.kind:\n",
    "            DVg+=p['z']\n",
    "      # INITIALIZE DVs FROM DVg(t=SSD)\n",
    "      init_ss = array([[DVg[i,:nss,ix-1] for ix in np.where(Ts<Tg[i],Tg[i]-Ts,0)] for i in range(nc)])\n",
    "      DVs = init_ss[:,:,:,None]+np.cumsum(np.where(rs((nss, Ts.max()))<Ps,dx,-dx), axis=1)\n",
    "      #if analyze:\n",
    "      #      return sim.analyze_reactive(DVg, DVs, p)\n",
    "      #else:\n",
    "      return [DVg, DVs]\n"
   ]
  },
  {
   "cell_type": "code",
   "execution_count": 137,
   "metadata": {
    "collapsed": true
   },
   "outputs": [],
   "source": [
    "sim = m.opt.simulator\n",
    "#sim.nss = int(.5*sim.ntot)\n",
    "sim.nss = int((.5*sim.ntot)/sim.nssd)"
   ]
  },
  {
   "cell_type": "code",
   "execution_count": 139,
   "metadata": {
    "collapsed": false
   },
   "outputs": [],
   "source": [
    "m.inits={'a': array([ 0.53625]), 'xb': array([ 0.87761]), 'ssv': -0.98396462152356978, 'tr': array([ 0.17801]), 'v': array([ 1.26793])}\n",
    "\n",
    "dvg, dvs = simulate_radd_2(sim, m.inits)"
   ]
  },
  {
   "cell_type": "code",
   "execution_count": null,
   "metadata": {
    "collapsed": true
   },
   "outputs": [],
   "source": []
  },
  {
   "cell_type": "code",
   "execution_count": 68,
   "metadata": {
    "collapsed": false
   },
   "outputs": [
    {
     "name": "stdout",
     "output_type": "stream",
     "text": [
      "10 loops, best of 3: 163 ms per loop\n"
     ]
    }
   ],
   "source": [
    "\n",
    "%timeit  x = simulate_radd_2(sim, m.inits)"
   ]
  },
  {
   "cell_type": "code",
   "execution_count": 66,
   "metadata": {
    "collapsed": false
   },
   "outputs": [
    {
     "name": "stdout",
     "output_type": "stream",
     "text": [
      "10 loops, best of 3: 119 ms per loop\n"
     ]
    }
   ],
   "source": [
    "\n",
    "%timeit  x = simulate_radd_2(sim, m.inits)"
   ]
  },
  {
   "cell_type": "code",
   "execution_count": 87,
   "metadata": {
    "collapsed": false,
    "scrolled": true
   },
   "outputs": [
    {
     "data": {
      "text/plain": [
       "array([ 0.9528 ,  1.     ,  0.9994 ,  0.9336 ,  0.526  ,  0.1364 ,\n",
       "        0.52401,  0.55001,  0.57101,  0.59201,  0.62101,  0.51601,\n",
       "        0.54101,  0.55801,  0.57701,  0.60601])"
      ]
     },
     "execution_count": 87,
     "metadata": {},
     "output_type": "execute_result"
    }
   ],
   "source": [
    "sim.analyze_reactive(dvg, dvs, m.inits)"
   ]
  },
  {
   "cell_type": "code",
   "execution_count": 155,
   "metadata": {
    "collapsed": true
   },
   "outputs": [],
   "source": [
    "def analyze_reactive(sim, DVg, DVs, p):\n",
    "      \"\"\" get rt and accuracy of go and stop process for simulated\n",
    "      conditions generated from simulate_radd\n",
    "      \"\"\"\n",
    "      nss = sim.nss; prob = sim.prob\n",
    "      ssd = sim.ssd; tb = sim.tb\n",
    "      nc = sim.ncond; nssd=sim.nssd\n",
    "\n",
    "      if 'sso' in p.keys():\n",
    "            ssd = ssd + p['sso']\n",
    "      gdec = sim.resp_up(DVg, p['a'])\n",
    "\n",
    "      if 'irace' in sim.kind:\n",
    "            sdec = sim.ss_resp_up(DVs, p['a'])\n",
    "      else:\n",
    "            sdec = sim.resp_lo(DVs)\n",
    "      gort = sim.RT(p['tr'], gdec)\n",
    "      ssrt = sim.RT(ssd, sdec)\n",
    "\n",
    "      #ert = gort[:,:nss]#*np.ones_like(ssrt)\n",
    "      ert = np.tile(np.tile(gort[:,:nss], nssd), nssd).reshape(nc,nssd,nssd*nss)\n",
    "      \n",
    "      return ert, gort, ssrt\n",
    "      eq = sim.RTQ(zip(ert, ssrt))\n",
    "      gq = sim.RTQ(zip(gort,[tb]*nc))\n",
    "      gacc = np.nanmean(np.where(gort<tb, 1, 0), axis=1)\n",
    "      sacc = np.where(ert<ssrt, 0, 1).mean(axis=2)\n",
    "      return hs([hs([i[ii] for i in [gacc,sacc,gq,eq]]) for ii in range(nc)])\n",
    "\n"
   ]
  },
  {
   "cell_type": "code",
   "execution_count": 107,
   "metadata": {
    "collapsed": false
   },
   "outputs": [],
   "source": [
    "from numpy import hstack as hs"
   ]
  },
  {
   "cell_type": "code",
   "execution_count": 141,
   "metadata": {
    "collapsed": false
   },
   "outputs": [],
   "source": [
    "mp = sim.vectorize_params(m.inits)"
   ]
  },
  {
   "cell_type": "code",
   "execution_count": 124,
   "metadata": {
    "collapsed": false
   },
   "outputs": [
    {
     "data": {
      "text/plain": [
       "0.30481227"
      ]
     },
     "execution_count": 124,
     "metadata": {},
     "output_type": "execute_result"
    }
   ],
   "source": [
    "m.inits['tr']"
   ]
  },
  {
   "cell_type": "code",
   "execution_count": 156,
   "metadata": {
    "collapsed": false,
    "scrolled": true
   },
   "outputs": [],
   "source": [
    "ert, gort, ssrt = analyze_reactive(sim, dvg, dvs, mp)"
   ]
  },
  {
   "cell_type": "code",
   "execution_count": 159,
   "metadata": {
    "collapsed": false
   },
   "outputs": [
    {
     "data": {
      "text/plain": [
       "(1, 5, 1000)"
      ]
     },
     "execution_count": 159,
     "metadata": {},
     "output_type": "execute_result"
    }
   ],
   "source": [
    "ssrt.shape"
   ]
  },
  {
   "cell_type": "code",
   "execution_count": 145,
   "metadata": {
    "collapsed": false
   },
   "outputs": [
    {
     "data": {
      "text/plain": [
       "(1, 5, 1000, 450)"
      ]
     },
     "execution_count": 145,
     "metadata": {},
     "output_type": "execute_result"
    }
   ],
   "source": [
    "dvs.shape"
   ]
  },
  {
   "cell_type": "code",
   "execution_count": 144,
   "metadata": {
    "collapsed": false
   },
   "outputs": [
    {
     "data": {
      "text/plain": [
       "(1, 5, 5000)"
      ]
     },
     "execution_count": 144,
     "metadata": {},
     "output_type": "execute_result"
    }
   ],
   "source": [
    "ert.shape"
   ]
  },
  {
   "cell_type": "code",
   "execution_count": 133,
   "metadata": {
    "collapsed": false
   },
   "outputs": [
    {
     "data": {
      "text/plain": [
       "5"
      ]
     },
     "execution_count": 133,
     "metadata": {},
     "output_type": "execute_result"
    }
   ],
   "source": [
    "sim."
   ]
  },
  {
   "cell_type": "code",
   "execution_count": 134,
   "metadata": {
    "collapsed": false
   },
   "outputs": [
    {
     "data": {
      "text/plain": [
       "(1, 5, 5000)"
      ]
     },
     "execution_count": 134,
     "metadata": {},
     "output_type": "execute_result"
    }
   ],
   "source": [
    "ssrt.shape"
   ]
  },
  {
   "cell_type": "code",
   "execution_count": 102,
   "metadata": {
    "collapsed": false
   },
   "outputs": [
    {
     "data": {
      "text/plain": [
       "array([[[ 0.58901,  0.54501,  0.57501, ...,  0.53701,  0.62101,  0.55001],\n",
       "        [ 0.58901,  0.54501,  0.57501, ...,  0.53701,  0.62101,  0.55001],\n",
       "        [ 0.58901,  0.54501,  0.57501, ...,  0.53701,  0.62101,  0.55001],\n",
       "        [ 0.58901,  0.54501,  0.57501, ...,  0.53701,  0.62101,  0.55001],\n",
       "        [ 0.58901,  0.54501,  0.57501, ...,  0.53701,  0.62101,  0.55001]]])"
      ]
     },
     "execution_count": 102,
     "metadata": {},
     "output_type": "execute_result"
    }
   ],
   "source": [
    "np.tile(np.tile(ert, 5), 5).reshape(1,5,5000)"
   ]
  },
  {
   "cell_type": "code",
   "execution_count": null,
   "metadata": {
    "collapsed": true
   },
   "outputs": [],
   "source": [
    "m.opt.simulator.sim_fx=m.opt.simulator.s"
   ]
  },
  {
   "cell_type": "code",
   "execution_count": 53,
   "metadata": {
    "collapsed": false
   },
   "outputs": [
    {
     "data": {
      "text/plain": [
       "{'interval': 10,\n",
       " 'maxiter': 20,\n",
       " 'method': 'TNC',\n",
       " 'ninits': 20,\n",
       " 'niter': 40,\n",
       " 'nsuccess': 20,\n",
       " 'stepsize': 0.05,\n",
       " 'tol': 0.01}"
      ]
     },
     "execution_count": 53,
     "metadata": {},
     "output_type": "execute_result"
    }
   ],
   "source": [
    "m.basinparams"
   ]
  },
  {
   "cell_type": "code",
   "execution_count": 55,
   "metadata": {
    "collapsed": false
   },
   "outputs": [
    {
     "data": {
      "text/plain": [
       "'using default inits: fmin=0.226205831'"
      ]
     },
     "execution_count": 55,
     "metadata": {},
     "output_type": "execute_result"
    }
   ],
   "source": [
    "m.opt.basin_decision"
   ]
  },
  {
   "cell_type": "code",
   "execution_count": 18,
   "metadata": {
    "collapsed": false
   },
   "outputs": [
    {
     "data": {
      "text/plain": [
       "array([ 1.     ,  1.     ,  1.     ,  1.     ,  0.605  ,  0.1686 ,\n",
       "        0.50575,  0.51975,  0.52875,  0.53875,  0.55475,  0.50475,\n",
       "        0.51775,  0.52675,  0.53675,  0.55175])"
      ]
     },
     "execution_count": 18,
     "metadata": {},
     "output_type": "execute_result"
    }
   ],
   "source": [
    "m.simulate(m.flat_popt)"
   ]
  },
  {
   "cell_type": "code",
   "execution_count": 7,
   "metadata": {
    "collapsed": false
   },
   "outputs": [
    {
     "data": {
      "text/plain": [
       "{'a': array([ 0.53527]),\n",
       " 'ssv': -0.98604097563709558,\n",
       " 'tr': array([ 0.17811]),\n",
       " 'v': array([ 1.26625]),\n",
       " 'xb': array([ 0.86314])}"
      ]
     },
     "execution_count": 7,
     "metadata": {},
     "output_type": "execute_result"
    }
   ],
   "source": [
    "m.flat_popt"
   ]
  },
  {
   "cell_type": "code",
   "execution_count": 6,
   "metadata": {
    "collapsed": false
   },
   "outputs": [
    {
     "data": {
      "text/plain": [
       "a           0.53527\n",
       "chi       0.0021851\n",
       "cnvrg          True\n",
       "ndata            16\n",
       "nfev            133\n",
       "nvary             5\n",
       "ssv        -0.98604\n",
       "tr          0.17811\n",
       "v            1.2662\n",
       "xb          0.86314\n",
       "df               11\n",
       "rchi     0.00019865\n",
       "logp        -136.38\n",
       "AIC         -126.38\n",
       "BIC            -132\n",
       "dtype: object"
      ]
     },
     "execution_count": 6,
     "metadata": {},
     "output_type": "execute_result"
    }
   ],
   "source": [
    "m.flat_fitinfo"
   ]
  },
  {
   "cell_type": "code",
   "execution_count": 10,
   "metadata": {
    "collapsed": true
   },
   "outputs": [],
   "source": [
    "p = m.__nudge_params__(m.flat_popt)"
   ]
  },
  {
   "cell_type": "code",
   "execution_count": 11,
   "metadata": {
    "collapsed": false
   },
   "outputs": [
    {
     "data": {
      "text/plain": [
       "{'a': array([ 0.52457,  0.54598]),\n",
       " 'ssv': -0.98604097563709558,\n",
       " 'tr': array([ 0.17811]),\n",
       " 'v': array([ 1.26625]),\n",
       " 'xb': array([ 0.86314])}"
      ]
     },
     "execution_count": 11,
     "metadata": {},
     "output_type": "execute_result"
    }
   ],
   "source": [
    "p"
   ]
  },
  {
   "cell_type": "code",
   "execution_count": 12,
   "metadata": {
    "collapsed": false
   },
   "outputs": [
    {
     "data": {
      "text/plain": [
       "{'a': array([ 0.52457,  0.54598]),\n",
       " 'ssv': -0.98604097563709558,\n",
       " 'tr': array([ 0.17811]),\n",
       " 'v': array([ 1.26625]),\n",
       " 'xb': array([ 0.86314])}"
      ]
     },
     "execution_count": 12,
     "metadata": {},
     "output_type": "execute_result"
    }
   ],
   "source": [
    "m.flat_popt"
   ]
  },
  {
   "cell_type": "code",
   "execution_count": 13,
   "metadata": {
    "collapsed": false
   },
   "outputs": [
    {
     "name": "stdout",
     "output_type": "stream",
     "text": [
      "basinhopping step 0: f 0.00557519\n",
      "basinhopping step 1: f 0.0332028 trial_f 0.0332028 accepted 1  lowest_f 0.00557519\n",
      "basinhopping step 2: f 0.0518465 trial_f 0.0518465 accepted 1  lowest_f 0.00557519\n",
      "warning: basinhopping: local minimization failure\n",
      "basinhopping step 3: f 0.018721 trial_f 0.018721 accepted 1  lowest_f 0.00557519\n",
      "warning: basinhopping: local minimization failure\n",
      "basinhopping step 4: f 0.0281148 trial_f 0.0281148 accepted 1  lowest_f 0.00557519\n",
      "warning: basinhopping: local minimization failure\n",
      "basinhopping step 5: f 0.0177116 trial_f 0.0177116 accepted 1  lowest_f 0.00557519\n",
      "warning: basinhopping: local minimization failure\n",
      "basinhopping step 6: f 0.00910628 trial_f 0.00910628 accepted 1  lowest_f 0.00557519\n",
      "basinhopping step 7: f 0.0129977 trial_f 0.0129977 accepted 1  lowest_f 0.00557519\n",
      "basinhopping step 8: f 0.0240358 trial_f 0.0240358 accepted 1  lowest_f 0.00557519\n",
      "basinhopping step 9: f 0.0111537 trial_f 0.0111537 accepted 1  lowest_f 0.00557519\n",
      "adaptive stepsize: acceptance rate 0.900000 target 0.500000 new stepsize 0.0555556 old stepsize 0.05\n",
      "basinhopping step 10: f 0.0127936 trial_f 0.0127936 accepted 1  lowest_f 0.00557519\n",
      "warning: basinhopping: local minimization failure\n",
      "basinhopping step 11: f 0.00953916 trial_f 0.00953916 accepted 1  lowest_f 0.00557519\n",
      "basinhopping step 12: f 0.0180122 trial_f 0.0180122 accepted 1  lowest_f 0.00557519\n",
      "basinhopping step 13: f 0.0143993 trial_f 0.0143993 accepted 1  lowest_f 0.00557519\n",
      "basinhopping step 14: f 0.0820579 trial_f 0.0820579 accepted 1  lowest_f 0.00557519\n",
      "basinhopping step 15: f 0.0126973 trial_f 0.0126973 accepted 1  lowest_f 0.00557519\n",
      "basinhopping step 16: f 0.017961 trial_f 0.017961 accepted 1  lowest_f 0.00557519\n",
      "warning: basinhopping: local minimization failure\n",
      "basinhopping step 17: f 0.0307195 trial_f 0.0307195 accepted 1  lowest_f 0.00557519\n",
      "basinhopping step 18: f 0.0296061 trial_f 0.0296061 accepted 1  lowest_f 0.00557519\n",
      "basinhopping step 19: f 0.0712266 trial_f 0.0712266 accepted 1  lowest_f 0.00557519\n",
      "adaptive stepsize: acceptance rate 0.950000 target 0.500000 new stepsize 0.0617284 old stepsize 0.0555556\n",
      "warning: basinhopping: local minimization failure\n",
      "basinhopping step 20: f 0.0569451 trial_f 0.0569451 accepted 1  lowest_f 0.00557519\n",
      "basinhopping step 21: f 0.0792628 trial_f 0.0792628 accepted 1  lowest_f 0.00557519\n",
      "basinhopping finished\n"
     ]
    },
    {
     "data": {
      "text/plain": [
       "({'a': array([ 0.52457,  0.54598]),\n",
       "  'ssv': -0.98604097563709558,\n",
       "  'tr': array([ 0.17811]),\n",
       "  'v': array([ 1.26625]),\n",
       "  'xb': array([ 0.86314])},\n",
       " 0.0055751879832594657)"
      ]
     },
     "execution_count": 13,
     "metadata": {},
     "output_type": "execute_result"
    }
   ],
   "source": [
    "m.opt.basinhopping_full(m.flat_popt, is_flat=False)"
   ]
  },
  {
   "cell_type": "code",
   "execution_count": 14,
   "metadata": {
    "collapsed": true
   },
   "outputs": [],
   "source": [
    "apopt = {'a': array([ 0.52457,  0.54598]),\n",
    "  'ssv': -0.98604097563709558,\n",
    "  'tr': array([ 0.17811]),\n",
    "  'v': array([ 1.26625]),\n",
    "  'xb': array([ 0.86314])}"
   ]
  },
  {
   "cell_type": "code",
   "execution_count": 15,
   "metadata": {
    "collapsed": false
   },
   "outputs": [
    {
     "name": "stdout",
     "output_type": "stream",
     "text": [
      "Optimization terminated successfully.\n",
      "         Current function value: 0.000025\n",
      "         Iterations: 28\n",
      "         Function evaluations: 70\n"
     ]
    }
   ],
   "source": [
    "m.optimize(stage='conditional', multiopt=False, inits=apopt)"
   ]
  },
  {
   "cell_type": "code",
   "execution_count": 10,
   "metadata": {
    "collapsed": true
   },
   "outputs": [],
   "source": [
    "ff = m.flat_fitinfo"
   ]
  },
  {
   "cell_type": "code",
   "execution_count": 14,
   "metadata": {
    "collapsed": false
   },
   "outputs": [
    {
     "data": {
      "text/plain": [
       "Index([u'a', u'chi', u'cnvrg', u'ndata', u'nfev', u'nvary', u'ssv', u'tr',\n",
       "       u'v', u'xb', u'df', u'rchi', u'logp', u'AIC', u'BIC'],\n",
       "      dtype='object')"
      ]
     },
     "execution_count": 14,
     "metadata": {},
     "output_type": "execute_result"
    }
   ],
   "source": [
    "\n",
    "ff.index"
   ]
  },
  {
   "cell_type": "code",
   "execution_count": 13,
   "metadata": {
    "collapsed": false
   },
   "outputs": [
    {
     "data": {
      "text/plain": [
       "{'AIC': -124.13546268055984,\n",
       " 'BIC': -129.75343604588596,\n",
       " 'a': 0.53641513606897528,\n",
       " 'chi': 0.0025147770065814257,\n",
       " 'cnvrg': True,\n",
       " 'df': 11,\n",
       " 'logp': -134.13546268055984,\n",
       " 'ndata': 16,\n",
       " 'nfev': 137,\n",
       " 'nvary': 5,\n",
       " 'rchi': 0.00022861609150740233,\n",
       " 'ssv': -0.98310718644573836,\n",
       " 'tr': 0.17806432995661534,\n",
       " 'v': 1.2677133223839627,\n",
       " 'xb': 0.87498153353737729}"
      ]
     },
     "execution_count": 13,
     "metadata": {},
     "output_type": "execute_result"
    }
   ],
   "source": [
    "ff.to_dict()"
   ]
  },
  {
   "cell_type": "code",
   "execution_count": 15,
   "metadata": {
    "collapsed": false
   },
   "outputs": [
    {
     "data": {
      "text/plain": [
       "{'a': 0.53641513606897528,\n",
       " 'ssv': -0.98310718644573836,\n",
       " 'tr': 0.17806432995661534,\n",
       " 'v': 1.2677133223839627,\n",
       " 'xb': 0.87498153353737729}"
      ]
     },
     "execution_count": 15,
     "metadata": {},
     "output_type": "execute_result"
    }
   ],
   "source": [
    "analyze.finfo_to_params(m.flat_fitinfo)"
   ]
  },
  {
   "cell_type": "code",
   "execution_count": 23,
   "metadata": {
    "collapsed": false
   },
   "outputs": [],
   "source": [
    "m.fitinfo.to_csv('fitinfo.csv')"
   ]
  },
  {
   "cell_type": "code",
   "execution_count": 22,
   "metadata": {
    "collapsed": false
   },
   "outputs": [
    {
     "data": {
      "text/plain": [
       "array([ 0.9698 ,  1.     ,  0.9998 ,  0.9268 ,  0.4936 ,  0.117  ,\n",
       "        0.51611,  0.54511,  0.56411,  0.58511,  0.61611,  0.50811,\n",
       "        0.53311,  0.55311,  0.57211,  0.60011,  0.928  ,  1.     ,\n",
       "        0.9994 ,  0.9534 ,  0.5852 ,  0.184  ,  0.53411,  0.56311,\n",
       "        0.58211,  0.60311,  0.62811,  0.52611,  0.55111,  0.57111,\n",
       "        0.59011,  0.61411])"
      ]
     },
     "execution_count": 22,
     "metadata": {},
     "output_type": "execute_result"
    }
   ],
   "source": [
    "m.fits"
   ]
  },
  {
   "cell_type": "code",
   "execution_count": 20,
   "metadata": {
    "collapsed": false
   },
   "outputs": [
    {
     "name": "stderr",
     "output_type": "stream",
     "text": [
      "/home/kyle/anaconda/lib/python2.7/site-packages/matplotlib/axes/_axes.py:475: UserWarning: No labelled objects found. Use label='...' kwarg on individual plots.\n",
      "  warnings.warn(\"No labelled objects found. \"\n"
     ]
    },
    {
     "data": {
      "image/png": "[encoded data removed]",
      "text/plain": [
       "<matplotlib.figure.Figure at 0x7f265d31aad0>"
      ]
     },
     "metadata": {},
     "output_type": "display_data"
    },
    {
     "data": {
      "image/png": "[encoded data removed]",
      "text/plain": [
       "<matplotlib.figure.Figure at 0x7f265d24e610>"
      ]
     },
     "metadata": {},
     "output_type": "display_data"
    }
   ],
   "source": [
    "yhat=m.fits\n",
    "vis.plot_fits(m.avg_y[0], yhat.reshape(2,16)[0], cdf=False)\n",
    "vis.plot_fits(m.avg_y[1], yhat.reshape(2,16)[1], cdf=False)"
   ]
  },
  {
   "cell_type": "code",
   "execution_count": 21,
   "metadata": {
    "collapsed": false
   },
   "outputs": [
    {
     "data": {
      "image/png": "[encoded data removed]",
      "text/plain": [
       "<matplotlib.figure.Figure at 0x7f265d14afd0>"
      ]
     },
     "metadata": {},
     "output_type": "display_data"
    }
   ],
   "source": [
    "vis.react_fit_plots(m, save=True)"
   ]
  },
  {
   "cell_type": "code",
   "execution_count": null,
   "metadata": {
    "collapsed": true
   },
   "outputs": [],
   "source": []
  }
 ],
 "metadata": {
  "kernelspec": {
   "display_name": "Python 2",
   "language": "python",
   "name": "python2"
  },
  "language_info": {
   "codemirror_mode": {
    "name": "ipython",
    "version": 2
   },
   "file_extension": ".py",
   "mimetype": "text/x-python",
   "name": "python",
   "nbconvert_exporter": "python",
   "pygments_lexer": "ipython2",
   "version": "2.7.10"
  }
 },
 "nbformat": 4,
 "nbformat_minor": 0
}
