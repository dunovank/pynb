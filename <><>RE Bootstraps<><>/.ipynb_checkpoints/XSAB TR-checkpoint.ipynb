{
 "cells": [
  {
   "cell_type": "code",
   "execution_count": 2,
   "metadata": {
    "collapsed": false
   },
   "outputs": [],
   "source": [
    "from radd import build, vis\n",
    "from radd.toolbox import analyze\n",
    "#os.mkdir('xsab_tr')\n",
    "os.chdir('xsab_tr')"
   ]
  },
  {
   "cell_type": "code",
   "execution_count": 5,
   "metadata": {
    "collapsed": true
   },
   "outputs": [],
   "source": [
    "popt={'a': array([ 0.53625]), 'xb': array([ 0.87761]), 'ssv': -0.98396462152356978, 'tr': array([ 0.17801]), 'v': array([ 1.26793])}\n",
    "\n",
    "#popt={'a': array([ 0.48227]), 'sso': 0.01804612312742325, 'v': array([ 1.18368, 1.10]), 'xb': array([ 1.43943]), 'ssv': -0.93274357892086091, 'tr': array([ 0.21019])}\n",
    "\n",
    "m=build.Model(data=redata, kind='xsab', depends_on={'tr':'Cond'}, inits=popt)\n",
    "yhat=m.simulate(popt)"
   ]
  },
  {
   "cell_type": "code",
   "execution_count": 14,
   "metadata": {
    "collapsed": false
   },
   "outputs": [
    {
     "name": "stdout",
     "output_type": "stream",
     "text": [
      "Optimization terminated successfully.\n",
      "         Current function value: 0.000027\n",
      "         Iterations: 28\n",
      "         Function evaluations: 68\n"
     ]
    }
   ],
   "source": [
    "m.optimize(stage='conditional', inits=popt, multiopt=False)"
   ]
  },
  {
   "cell_type": "code",
   "execution_count": 15,
   "metadata": {
    "collapsed": false
   },
   "outputs": [
    {
     "data": {
      "text/plain": [
       "a            0.53625\n",
       "chi        0.0061481\n",
       "cnvrg           True\n",
       "ndata             32\n",
       "nfev              68\n",
       "nvary              2\n",
       "ssv         -0.98396\n",
       "tr_bsl       0.17394\n",
       "tr_pnl       0.18334\n",
       "v             1.2679\n",
       "xb           0.87761\n",
       "df                30\n",
       "rchi      0.00020494\n",
       "logp         -271.77\n",
       "AIC          -267.77\n",
       "BIC          -267.61\n",
       "dtype: object"
      ]
     },
     "execution_count": 15,
     "metadata": {},
     "output_type": "execute_result"
    }
   ],
   "source": [
    "m.fitinfo"
   ]
  },
  {
   "cell_type": "code",
   "execution_count": null,
   "metadata": {
    "collapsed": false
   },
   "outputs": [
    {
     "name": "stdout",
     "output_type": "stream",
     "text": [
      "basinhopping step 0: f 0.00699003\n",
      "basinhopping step 1: f 0.00699003 trial_f 0.112635 accepted 0  lowest_f 0.00699003\n",
      "basinhopping step 2: f 0.33634 trial_f 0.33634 accepted 1  lowest_f 0.00699003\n",
      "basinhopping step 3: f 0.14144 trial_f 0.14144 accepted 1  lowest_f 0.00699003\n",
      "basinhopping step 4: f 0.115339 trial_f 0.115339 accepted 1  lowest_f 0.00699003\n",
      "basinhopping step 5: f 0.476535 trial_f 0.476535 accepted 1  lowest_f 0.00699003\n",
      "basinhopping step 6: f 0.893184 trial_f 0.893184 accepted 1  lowest_f 0.00699003\n",
      "basinhopping step 7: f 1.25294 trial_f 1.25294 accepted 1  lowest_f 0.00699003\n",
      "basinhopping step 8: f 0.948504 trial_f 0.948504 accepted 1  lowest_f 0.00699003\n",
      "basinhopping step 9: f 1.17215 trial_f 1.17215 accepted 1  lowest_f 0.00699003\n",
      "adaptive stepsize: acceptance rate 0.800000 target 0.500000 new stepsize 0.0555556 old stepsize 0.05\n",
      "warning: basinhopping: local minimization failure\n",
      "basinhopping step 10: f 1.30657 trial_f 1.30657 accepted 1  lowest_f 0.00699003\n",
      "basinhopping step 11: f 1.60217 trial_f 1.60217 accepted 1  lowest_f 0.00699003\n",
      "basinhopping step 12: f 1.05576 trial_f 1.05576 accepted 1  lowest_f 0.00699003"
     ]
    }
   ],
   "source": [
    "m.opt.basinhopping_full(popt, is_flat=False)"
   ]
  },
  {
   "cell_type": "code",
   "execution_count": null,
   "metadata": {
    "collapsed": true
   },
   "outputs": [],
   "source": []
  }
 ],
 "metadata": {
  "kernelspec": {
   "display_name": "Python 2",
   "language": "python",
   "name": "python2"
  },
  "language_info": {
   "codemirror_mode": {
    "name": "ipython",
    "version": 2
   },
   "file_extension": ".py",
   "mimetype": "text/x-python",
   "name": "python",
   "nbconvert_exporter": "python",
   "pygments_lexer": "ipython2",
   "version": "2.7.10"
  }
 },
 "nbformat": 4,
 "nbformat_minor": 0
}
