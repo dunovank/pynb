{
 "cells": [
  {
   "cell_type": "code",
   "execution_count": null,
   "metadata": {
    "collapsed": true
   },
   "outputs": [],
   "source": [
    "from radd import build, models, fit, vis\n",
    "from radd.toolbox import theta"
   ]
  },
  {
   "cell_type": "code",
   "execution_count": null,
   "metadata": {
    "collapsed": true
   },
   "outputs": [],
   "source": [
    "d = 'FinalDI/xradd'\n",
    "if not os.path.isdir(pth+d):\n",
    "      os.mkdir(pth+d)\n",
    "os.chdir(pth+d)\n",
    "m = build.Model(data=redata, kind='xradd', dynamic='hyp', tb=.650, depends_on={'v':'Cond'})\n",
    "\n",
    "m.flat_y=m.avg_y[0]\n",
    "m.flat_wts=m.wts[0]\n",
    "\n",
    "m.make_optimizer(tol=1.e-5, multiopt=True, maxfev=5000, ntrials=10000)\n",
    "opt=m.opt\n",
    "opt.make_simulator()\n"
   ]
  },
  {
   "cell_type": "code",
   "execution_count": null,
   "metadata": {
    "collapsed": true
   },
   "outputs": [],
   "source": [
    "d = 'FinalDI/xiact'\n",
    "if not os.path.isdir(pth+d):\n",
    "      os.mkdir(pth+d)\n",
    "os.chdir(pth+d)\n",
    "\n",
    "m.flat_y=m.avg_y[0]\n",
    "m.flat_wts=m.wts[0]\n",
    "\n",
    "m = build.Model(data=redata, kind='xiact', dynamic='hyp', tb=.650, depends_on={'v':'Cond'})\n",
    "m.make_optimizer(tol=1.e-5, multiopt=True, maxfev=5000, ntrials=10000)\n",
    "opt=m.opt\n",
    "opt.make_simulator()"
   ]
  },
  {
   "cell_type": "code",
   "execution_count": null,
   "metadata": {
    "collapsed": true
   },
   "outputs": [],
   "source": [
    "d = 'FinalDI/xirace'\n",
    "if not os.path.isdir(pth+d):\n",
    "      os.mkdir(pth+d)\n",
    "os.chdir(pth+d)\n",
    "\n",
    "m.flat_y=m.avg_y[0]\n",
    "m.flat_wts=m.wts[0]\n",
    "\n",
    "m = build.Model(data=redata, kind='xirace', dynamic='hyp', tb=.650, depends_on={'v':'Cond'})\n",
    "m.make_optimizer(tol=1.e-5, multiopt=True, maxfev=5000, ntrials=10000)\n",
    "opt=m.opt\n",
    "opt.make_simulator()"
   ]
  },
  {
   "cell_type": "code",
   "execution_count": null,
   "metadata": {
    "collapsed": true
   },
   "outputs": [],
   "source": [
    "fp = opt.fitparams\n",
    "# p0: (Initials/Global Minimum)\n",
    "p0 = dict(deepcopy(opt.inits))\n",
    "p0X = opt.hop_around(p0)\n",
    "yh1, finfo1, p1 = opt.gradient_descent(y=opt.flat_y, wts=opt.flat_wts, inits=p0X, is_flat=True)"
   ]
  },
  {
   "cell_type": "code",
   "execution_count": null,
   "metadata": {
    "collapsed": true
   },
   "outputs": [],
   "source": [
    "react_fit_plots(m)"
   ]
  }
 ],
 "metadata": {
  "kernelspec": {
   "display_name": "Python 2",
   "language": "python",
   "name": "python2"
  },
  "language_info": {
   "codemirror_mode": {
    "name": "ipython",
    "version": 2
   },
   "file_extension": ".py",
   "mimetype": "text/x-python",
   "name": "python",
   "nbconvert_exporter": "python",
   "pygments_lexer": "ipython2",
   "version": "2.7.10"
  }
 },
 "nbformat": 4,
 "nbformat_minor": 0
}
