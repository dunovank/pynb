{
 "cells": [
  {
   "cell_type": "code",
   "execution_count": 4,
   "metadata": {
    "collapsed": true
   },
   "outputs": [],
   "source": [
    "from radd import build, models, fit, vis\n",
    "from radd.toolbox import theta"
   ]
  },
  {
   "cell_type": "code",
   "execution_count": 1,
   "metadata": {
    "collapsed": true
   },
   "outputs": [],
   "source": [
    "d = 'ELife/FinalDI/xirace'\n",
    "if not os.path.isdir(pth+d):\n",
    "      os.mkdir(pth+d)\n",
    "os.chdir(pth+d)"
   ]
  },
  {
   "cell_type": "code",
   "execution_count": 15,
   "metadata": {
    "collapsed": false
   },
   "outputs": [
    {
     "data": {
      "text/plain": [
       "Index([u'iname', u'ival'], dtype='object')"
      ]
     },
     "execution_count": 15,
     "metadata": {},
     "output_type": "execute_result"
    }
   ],
   "source": []
  },
  {
   "cell_type": "code",
   "execution_count": 358,
   "metadata": {
    "collapsed": false
   },
   "outputs": [],
   "source": [
    "m = build.Model(data=redata, kind='xirace', dynamic='hyp', tb=.650, depends_on={'v':'Cond'})\n"
   ]
  },
  {
   "cell_type": "code",
   "execution_count": 43,
   "metadata": {
    "collapsed": true
   },
   "outputs": [],
   "source": [
    "m.make_optimizer(tol=1.e-3, maxfev=1000)\n",
    "m.opt.make_simulator()"
   ]
  },
  {
   "cell_type": "code",
   "execution_count": null,
   "metadata": {
    "collapsed": true
   },
   "outputs": [],
   "source": [
    "m.opt.basinhopping_full()"
   ]
  },
  {
   "cell_type": "code",
   "execution_count": 14,
   "metadata": {
    "collapsed": false
   },
   "outputs": [
    {
     "data": {
      "text/plain": [
       "[]"
      ]
     },
     "execution_count": 14,
     "metadata": {},
     "output_type": "execute_result"
    }
   ],
   "source": [
    "pnames=set(['a', 'tr', 'v', 'ssv', 'z', 'xb', 'si', 'sso'])\n",
    "list(pnames.intersection(finfo.keys()))"
   ]
  },
  {
   "cell_type": "code",
   "execution_count": 350,
   "metadata": {
    "collapsed": false
   },
   "outputs": [
    {
     "data": {
      "text/plain": [
       "{'a': array([ 0.29804]),\n",
       " 'ssv': array([ 1.47563]),\n",
       " 'tr': array([ 0.29527]),\n",
       " 'v': array([ 1.36668]),\n",
       " 'xb': array([ 0.69344])}"
      ]
     },
     "execution_count": 350,
     "metadata": {},
     "output_type": "execute_result"
    }
   ],
   "source": [
    "theta.random_inits(m.inits.keys(), kind='irace')"
   ]
  },
  {
   "cell_type": "code",
   "execution_count": 360,
   "metadata": {
    "collapsed": false
   },
   "outputs": [
    {
     "name": "stderr",
     "output_type": "stream",
     "text": [
      "[autoreload of radd.toolbox.analyze failed: Traceback (most recent call last):\n",
      "  File \"/Users/kyle/.ipython/extensions/autoreload.py\", line 229, in check\n",
      "    superreload(m, reload, self.old_objects)\n",
      "  File \"/Users/kyle/Dropbox/Git/radd/toolbox/analyze.py\", line 36\n",
      "    params = {k: finfo['id']== for k in plist}\n",
      "                                 ^\n",
      "SyntaxError: invalid syntax\n",
      "]\n"
     ]
    },
    {
     "ename": "TypeError",
     "evalue": "optimize() got an unexpected keyword argument 'flat_only'",
     "output_type": "error",
     "traceback": [
      "\u001b[0;31m---------------------------------------------------------------------------\u001b[0m",
      "\u001b[0;31mTypeError\u001b[0m                                 Traceback (most recent call last)",
      "\u001b[0;32m<ipython-input-360-ae9603e8e3d2>\u001b[0m in \u001b[0;36m<module>\u001b[0;34m()\u001b[0m\n\u001b[0;32m----> 1\u001b[0;31m \u001b[0mm\u001b[0m\u001b[0;34m.\u001b[0m\u001b[0moptimize\u001b[0m\u001b[0;34m(\u001b[0m\u001b[0mflat_only\u001b[0m\u001b[0;34m=\u001b[0m\u001b[0mTrue\u001b[0m\u001b[0;34m,\u001b[0m \u001b[0mmultiopt\u001b[0m\u001b[0;34m=\u001b[0m\u001b[0mTrue\u001b[0m\u001b[0;34m,\u001b[0m \u001b[0mtol\u001b[0m\u001b[0;34m=\u001b[0m\u001b[0;36m1.e-2\u001b[0m\u001b[0;34m)\u001b[0m\u001b[0;34m\u001b[0m\u001b[0m\n\u001b[0m",
      "\u001b[0;31mTypeError\u001b[0m: optimize() got an unexpected keyword argument 'flat_only'"
     ]
    }
   ],
   "source": [
    "m.optimize(flat_only=True, multiopt=True, tol=1.e-2)"
   ]
  },
  {
   "cell_type": "code",
   "execution_count": 41,
   "metadata": {
    "collapsed": false
   },
   "outputs": [],
   "source": [
    "finfo = pd.read_csv('./finfo.csv', index_col=0, header=None)\n"
   ]
  },
  {
   "cell_type": "code",
   "execution_count": 31,
   "metadata": {
    "collapsed": false
   },
   "outputs": [],
   "source": [
    "def finfo_to_params(finfo='./finfo.csv', pc_map=None):\n",
    "      \n",
    "      pnames=set(['a', 'tr', 'v', 'ssv', 'z', 'xb', 'si', 'sso'])\n",
    "      if isinstance(finfo, str):\n",
    "            finfo = pd.read_csv(finfo, header=None, names=['id', 'vals'], index_col=0)\n",
    "            finfo = pd.Series(finfo.to_dict()['vals'])\n",
    "      \n",
    "      plist = list(pnames.intersection(finfo['id']))\n",
    "      params = {k: finfo['id']== for k in plist}\n",
    "      \n",
    "      if pc_map!=None:\n",
    "            for pkey, pclist in pc_map.items():\n",
    "                  params[pkey] = array([params[pkc] for pkc in pclist])\n",
    "      return params\n",
    "            \n",
    "            "
   ]
  },
  {
   "cell_type": "code",
   "execution_count": null,
   "metadata": {
    "collapsed": true
   },
   "outputs": [],
   "source": []
  },
  {
   "cell_type": "code",
   "execution_count": 32,
   "metadata": {
    "collapsed": false
   },
   "outputs": [
    {
     "ename": "KeyError",
     "evalue": "('id', 'a')",
     "output_type": "error",
     "traceback": [
      "\u001b[0;31m---------------------------------------------------------------------------\u001b[0m",
      "\u001b[0;31mKeyError\u001b[0m                                  Traceback (most recent call last)",
      "\u001b[0;32m<ipython-input-32-a6eacd59ba1a>\u001b[0m in \u001b[0;36m<module>\u001b[0;34m()\u001b[0m\n\u001b[0;32m----> 1\u001b[0;31m \u001b[0mfinfo\u001b[0m \u001b[0;34m=\u001b[0m \u001b[0mfinfo_to_params\u001b[0m\u001b[0;34m(\u001b[0m\u001b[0;34m)\u001b[0m\u001b[0;34m\u001b[0m\u001b[0m\n\u001b[0m",
      "\u001b[0;32m<ipython-input-31-9171f5de736f>\u001b[0m in \u001b[0;36mfinfo_to_params\u001b[0;34m(finfo, pc_map)\u001b[0m\n\u001b[1;32m      6\u001b[0m \u001b[0;34m\u001b[0m\u001b[0m\n\u001b[1;32m      7\u001b[0m       \u001b[0mplist\u001b[0m \u001b[0;34m=\u001b[0m \u001b[0mlist\u001b[0m\u001b[0;34m(\u001b[0m\u001b[0mpnames\u001b[0m\u001b[0;34m.\u001b[0m\u001b[0mintersection\u001b[0m\u001b[0;34m(\u001b[0m\u001b[0mfinfo\u001b[0m\u001b[0;34m[\u001b[0m\u001b[0;34m'id'\u001b[0m\u001b[0;34m]\u001b[0m\u001b[0;34m)\u001b[0m\u001b[0;34m)\u001b[0m\u001b[0;34m\u001b[0m\u001b[0m\n\u001b[0;32m----> 8\u001b[0;31m       \u001b[0mparams\u001b[0m \u001b[0;34m=\u001b[0m \u001b[0;34m{\u001b[0m\u001b[0mk\u001b[0m\u001b[0;34m:\u001b[0m \u001b[0mfinfo\u001b[0m\u001b[0;34m[\u001b[0m\u001b[0;34m'id'\u001b[0m\u001b[0;34m,\u001b[0m \u001b[0mk\u001b[0m\u001b[0;34m]\u001b[0m \u001b[0;32mfor\u001b[0m \u001b[0mk\u001b[0m \u001b[0;32min\u001b[0m \u001b[0mplist\u001b[0m\u001b[0;34m}\u001b[0m\u001b[0;34m\u001b[0m\u001b[0m\n\u001b[0m\u001b[1;32m      9\u001b[0m \u001b[0;34m\u001b[0m\u001b[0m\n\u001b[1;32m     10\u001b[0m       \u001b[0;32mif\u001b[0m \u001b[0mpc_map\u001b[0m\u001b[0;34m!=\u001b[0m\u001b[0mNone\u001b[0m\u001b[0;34m:\u001b[0m\u001b[0;34m\u001b[0m\u001b[0m\n",
      "\u001b[0;32m<ipython-input-31-9171f5de736f>\u001b[0m in \u001b[0;36m<dictcomp>\u001b[0;34m((k,))\u001b[0m\n\u001b[1;32m      6\u001b[0m \u001b[0;34m\u001b[0m\u001b[0m\n\u001b[1;32m      7\u001b[0m       \u001b[0mplist\u001b[0m \u001b[0;34m=\u001b[0m \u001b[0mlist\u001b[0m\u001b[0;34m(\u001b[0m\u001b[0mpnames\u001b[0m\u001b[0;34m.\u001b[0m\u001b[0mintersection\u001b[0m\u001b[0;34m(\u001b[0m\u001b[0mfinfo\u001b[0m\u001b[0;34m[\u001b[0m\u001b[0;34m'id'\u001b[0m\u001b[0;34m]\u001b[0m\u001b[0;34m)\u001b[0m\u001b[0;34m)\u001b[0m\u001b[0;34m\u001b[0m\u001b[0m\n\u001b[0;32m----> 8\u001b[0;31m       \u001b[0mparams\u001b[0m \u001b[0;34m=\u001b[0m \u001b[0;34m{\u001b[0m\u001b[0mk\u001b[0m\u001b[0;34m:\u001b[0m \u001b[0mfinfo\u001b[0m\u001b[0;34m[\u001b[0m\u001b[0;34m'id'\u001b[0m\u001b[0;34m,\u001b[0m \u001b[0mk\u001b[0m\u001b[0;34m]\u001b[0m \u001b[0;32mfor\u001b[0m \u001b[0mk\u001b[0m \u001b[0;32min\u001b[0m \u001b[0mplist\u001b[0m\u001b[0;34m}\u001b[0m\u001b[0;34m\u001b[0m\u001b[0m\n\u001b[0m\u001b[1;32m      9\u001b[0m \u001b[0;34m\u001b[0m\u001b[0m\n\u001b[1;32m     10\u001b[0m       \u001b[0;32mif\u001b[0m \u001b[0mpc_map\u001b[0m\u001b[0;34m!=\u001b[0m\u001b[0mNone\u001b[0m\u001b[0;34m:\u001b[0m\u001b[0;34m\u001b[0m\u001b[0m\n",
      "\u001b[0;32m/Users/kyle/anaconda/lib/python2.7/site-packages/pandas/core/frame.pyc\u001b[0m in \u001b[0;36m__getitem__\u001b[0;34m(self, key)\u001b[0m\n\u001b[1;32m   1795\u001b[0m             \u001b[0;32mreturn\u001b[0m \u001b[0mself\u001b[0m\u001b[0;34m.\u001b[0m\u001b[0m_getitem_multilevel\u001b[0m\u001b[0;34m(\u001b[0m\u001b[0mkey\u001b[0m\u001b[0;34m)\u001b[0m\u001b[0;34m\u001b[0m\u001b[0m\n\u001b[1;32m   1796\u001b[0m         \u001b[0;32melse\u001b[0m\u001b[0;34m:\u001b[0m\u001b[0;34m\u001b[0m\u001b[0m\n\u001b[0;32m-> 1797\u001b[0;31m             \u001b[0;32mreturn\u001b[0m \u001b[0mself\u001b[0m\u001b[0;34m.\u001b[0m\u001b[0m_getitem_column\u001b[0m\u001b[0;34m(\u001b[0m\u001b[0mkey\u001b[0m\u001b[0;34m)\u001b[0m\u001b[0;34m\u001b[0m\u001b[0m\n\u001b[0m\u001b[1;32m   1798\u001b[0m \u001b[0;34m\u001b[0m\u001b[0m\n\u001b[1;32m   1799\u001b[0m     \u001b[0;32mdef\u001b[0m \u001b[0m_getitem_column\u001b[0m\u001b[0;34m(\u001b[0m\u001b[0mself\u001b[0m\u001b[0;34m,\u001b[0m \u001b[0mkey\u001b[0m\u001b[0;34m)\u001b[0m\u001b[0;34m:\u001b[0m\u001b[0;34m\u001b[0m\u001b[0m\n",
      "\u001b[0;32m/Users/kyle/anaconda/lib/python2.7/site-packages/pandas/core/frame.pyc\u001b[0m in \u001b[0;36m_getitem_column\u001b[0;34m(self, key)\u001b[0m\n\u001b[1;32m   1802\u001b[0m         \u001b[0;31m# get column\u001b[0m\u001b[0;34m\u001b[0m\u001b[0;34m\u001b[0m\u001b[0m\n\u001b[1;32m   1803\u001b[0m         \u001b[0;32mif\u001b[0m \u001b[0mself\u001b[0m\u001b[0;34m.\u001b[0m\u001b[0mcolumns\u001b[0m\u001b[0;34m.\u001b[0m\u001b[0mis_unique\u001b[0m\u001b[0;34m:\u001b[0m\u001b[0;34m\u001b[0m\u001b[0m\n\u001b[0;32m-> 1804\u001b[0;31m             \u001b[0;32mreturn\u001b[0m \u001b[0mself\u001b[0m\u001b[0;34m.\u001b[0m\u001b[0m_get_item_cache\u001b[0m\u001b[0;34m(\u001b[0m\u001b[0mkey\u001b[0m\u001b[0;34m)\u001b[0m\u001b[0;34m\u001b[0m\u001b[0m\n\u001b[0m\u001b[1;32m   1805\u001b[0m \u001b[0;34m\u001b[0m\u001b[0m\n\u001b[1;32m   1806\u001b[0m         \u001b[0;31m# duplicate columns & possible reduce dimensionaility\u001b[0m\u001b[0;34m\u001b[0m\u001b[0;34m\u001b[0m\u001b[0m\n",
      "\u001b[0;32m/Users/kyle/anaconda/lib/python2.7/site-packages/pandas/core/generic.pyc\u001b[0m in \u001b[0;36m_get_item_cache\u001b[0;34m(self, item)\u001b[0m\n\u001b[1;32m   1082\u001b[0m         \u001b[0mres\u001b[0m \u001b[0;34m=\u001b[0m \u001b[0mcache\u001b[0m\u001b[0;34m.\u001b[0m\u001b[0mget\u001b[0m\u001b[0;34m(\u001b[0m\u001b[0mitem\u001b[0m\u001b[0;34m)\u001b[0m\u001b[0;34m\u001b[0m\u001b[0m\n\u001b[1;32m   1083\u001b[0m         \u001b[0;32mif\u001b[0m \u001b[0mres\u001b[0m \u001b[0;32mis\u001b[0m \u001b[0mNone\u001b[0m\u001b[0;34m:\u001b[0m\u001b[0;34m\u001b[0m\u001b[0m\n\u001b[0;32m-> 1084\u001b[0;31m             \u001b[0mvalues\u001b[0m \u001b[0;34m=\u001b[0m \u001b[0mself\u001b[0m\u001b[0;34m.\u001b[0m\u001b[0m_data\u001b[0m\u001b[0;34m.\u001b[0m\u001b[0mget\u001b[0m\u001b[0;34m(\u001b[0m\u001b[0mitem\u001b[0m\u001b[0;34m)\u001b[0m\u001b[0;34m\u001b[0m\u001b[0m\n\u001b[0m\u001b[1;32m   1085\u001b[0m             \u001b[0mres\u001b[0m \u001b[0;34m=\u001b[0m \u001b[0mself\u001b[0m\u001b[0;34m.\u001b[0m\u001b[0m_box_item_values\u001b[0m\u001b[0;34m(\u001b[0m\u001b[0mitem\u001b[0m\u001b[0;34m,\u001b[0m \u001b[0mvalues\u001b[0m\u001b[0;34m)\u001b[0m\u001b[0;34m\u001b[0m\u001b[0m\n\u001b[1;32m   1086\u001b[0m             \u001b[0mcache\u001b[0m\u001b[0;34m[\u001b[0m\u001b[0mitem\u001b[0m\u001b[0;34m]\u001b[0m \u001b[0;34m=\u001b[0m \u001b[0mres\u001b[0m\u001b[0;34m\u001b[0m\u001b[0m\n",
      "\u001b[0;32m/Users/kyle/anaconda/lib/python2.7/site-packages/pandas/core/internals.pyc\u001b[0m in \u001b[0;36mget\u001b[0;34m(self, item, fastpath)\u001b[0m\n\u001b[1;32m   2849\u001b[0m \u001b[0;34m\u001b[0m\u001b[0m\n\u001b[1;32m   2850\u001b[0m             \u001b[0;32mif\u001b[0m \u001b[0;32mnot\u001b[0m \u001b[0misnull\u001b[0m\u001b[0;34m(\u001b[0m\u001b[0mitem\u001b[0m\u001b[0;34m)\u001b[0m\u001b[0;34m:\u001b[0m\u001b[0;34m\u001b[0m\u001b[0m\n\u001b[0;32m-> 2851\u001b[0;31m                 \u001b[0mloc\u001b[0m \u001b[0;34m=\u001b[0m \u001b[0mself\u001b[0m\u001b[0;34m.\u001b[0m\u001b[0mitems\u001b[0m\u001b[0;34m.\u001b[0m\u001b[0mget_loc\u001b[0m\u001b[0;34m(\u001b[0m\u001b[0mitem\u001b[0m\u001b[0;34m)\u001b[0m\u001b[0;34m\u001b[0m\u001b[0m\n\u001b[0m\u001b[1;32m   2852\u001b[0m             \u001b[0;32melse\u001b[0m\u001b[0;34m:\u001b[0m\u001b[0;34m\u001b[0m\u001b[0m\n\u001b[1;32m   2853\u001b[0m                 \u001b[0mindexer\u001b[0m \u001b[0;34m=\u001b[0m \u001b[0mnp\u001b[0m\u001b[0;34m.\u001b[0m\u001b[0marange\u001b[0m\u001b[0;34m(\u001b[0m\u001b[0mlen\u001b[0m\u001b[0;34m(\u001b[0m\u001b[0mself\u001b[0m\u001b[0;34m.\u001b[0m\u001b[0mitems\u001b[0m\u001b[0;34m)\u001b[0m\u001b[0;34m)\u001b[0m\u001b[0;34m[\u001b[0m\u001b[0misnull\u001b[0m\u001b[0;34m(\u001b[0m\u001b[0mself\u001b[0m\u001b[0;34m.\u001b[0m\u001b[0mitems\u001b[0m\u001b[0;34m)\u001b[0m\u001b[0;34m]\u001b[0m\u001b[0;34m\u001b[0m\u001b[0m\n",
      "\u001b[0;32m/Users/kyle/anaconda/lib/python2.7/site-packages/pandas/core/index.pyc\u001b[0m in \u001b[0;36mget_loc\u001b[0;34m(self, key, method)\u001b[0m\n\u001b[1;32m   1570\u001b[0m         \"\"\"\n\u001b[1;32m   1571\u001b[0m         \u001b[0;32mif\u001b[0m \u001b[0mmethod\u001b[0m \u001b[0;32mis\u001b[0m \u001b[0mNone\u001b[0m\u001b[0;34m:\u001b[0m\u001b[0;34m\u001b[0m\u001b[0m\n\u001b[0;32m-> 1572\u001b[0;31m             \u001b[0;32mreturn\u001b[0m \u001b[0mself\u001b[0m\u001b[0;34m.\u001b[0m\u001b[0m_engine\u001b[0m\u001b[0;34m.\u001b[0m\u001b[0mget_loc\u001b[0m\u001b[0;34m(\u001b[0m\u001b[0m_values_from_object\u001b[0m\u001b[0;34m(\u001b[0m\u001b[0mkey\u001b[0m\u001b[0;34m)\u001b[0m\u001b[0;34m)\u001b[0m\u001b[0;34m\u001b[0m\u001b[0m\n\u001b[0m\u001b[1;32m   1573\u001b[0m \u001b[0;34m\u001b[0m\u001b[0m\n\u001b[1;32m   1574\u001b[0m         \u001b[0mindexer\u001b[0m \u001b[0;34m=\u001b[0m \u001b[0mself\u001b[0m\u001b[0;34m.\u001b[0m\u001b[0mget_indexer\u001b[0m\u001b[0;34m(\u001b[0m\u001b[0;34m[\u001b[0m\u001b[0mkey\u001b[0m\u001b[0;34m]\u001b[0m\u001b[0;34m,\u001b[0m \u001b[0mmethod\u001b[0m\u001b[0;34m=\u001b[0m\u001b[0mmethod\u001b[0m\u001b[0;34m)\u001b[0m\u001b[0;34m\u001b[0m\u001b[0m\n",
      "\u001b[0;32mpandas/index.pyx\u001b[0m in \u001b[0;36mpandas.index.IndexEngine.get_loc (pandas/index.c:3824)\u001b[0;34m()\u001b[0m\n",
      "\u001b[0;32mpandas/index.pyx\u001b[0m in \u001b[0;36mpandas.index.IndexEngine.get_loc (pandas/index.c:3704)\u001b[0;34m()\u001b[0m\n",
      "\u001b[0;32mpandas/hashtable.pyx\u001b[0m in \u001b[0;36mpandas.hashtable.PyObjectHashTable.get_item (pandas/hashtable.c:12280)\u001b[0;34m()\u001b[0m\n",
      "\u001b[0;32mpandas/hashtable.pyx\u001b[0m in \u001b[0;36mpandas.hashtable.PyObjectHashTable.get_item (pandas/hashtable.c:12231)\u001b[0;34m()\u001b[0m\n",
      "\u001b[0;31mKeyError\u001b[0m: ('id', 'a')"
     ]
    }
   ],
   "source": [
    "finfo = finfo_to_params()"
   ]
  },
  {
   "cell_type": "code",
   "execution_count": 29,
   "metadata": {
    "collapsed": false
   },
   "outputs": [
    {
     "data": {
      "text/plain": [
       "{}"
      ]
     },
     "execution_count": 29,
     "metadata": {},
     "output_type": "execute_result"
    }
   ],
   "source": [
    "finfo"
   ]
  },
  {
   "cell_type": "code",
   "execution_count": 6,
   "metadata": {
    "collapsed": false
   },
   "outputs": [
    {
     "data": {
      "text/plain": [
       "['a', 'xb', 'ssv', 'tr', 'v']"
      ]
     },
     "execution_count": 6,
     "metadata": {},
     "output_type": "execute_result"
    }
   ],
   "source": [
    "m.inits.keys()"
   ]
  },
  {
   "cell_type": "code",
   "execution_count": 10,
   "metadata": {
    "collapsed": false
   },
   "outputs": [
    {
     "data": {
      "text/plain": [
       "0         a\n",
       "1       chi\n",
       "2     cnvrg\n",
       "3     ndata\n",
       "4      nfev\n",
       "5     nvary\n",
       "6       ssv\n",
       "7        tr\n",
       "8         v\n",
       "9        xb\n",
       "10       df\n",
       "11     rchi\n",
       "12     logp\n",
       "13      AIC\n",
       "14      BIC\n",
       "Name: iname, dtype: object"
      ]
     },
     "execution_count": 10,
     "metadata": {},
     "output_type": "execute_result"
    }
   ],
   "source": [
    "finfo.iname"
   ]
  },
  {
   "cell_type": "code",
   "execution_count": 394,
   "metadata": {
    "collapsed": false
   },
   "outputs": [],
   "source": [
    "x = finfo['vals']\n",
    "x.index=finfo.id"
   ]
  },
  {
   "cell_type": "code",
   "execution_count": 399,
   "metadata": {
    "collapsed": false
   },
   "outputs": [
    {
     "data": {
      "text/plain": [
       "AIC       -99.79899638179657\n",
       "BIC      -105.41696974712269\n",
       "a        0.21917826564865869\n",
       "chi      0.01150996610522...\n",
       "cnvrg                  False\n",
       "df                        11\n",
       "logp     -109.79899638179657\n",
       "ndata                     16\n",
       "nfev                    2719\n",
       "nvary                      5\n",
       "rchi     0.00104636055502...\n",
       "ssv         1.04302780279604\n",
       "tr       0.44138337560549401\n",
       "v         1.8380239617224694\n",
       "xb        1.1460900090557196\n",
       "dtype: object"
      ]
     },
     "execution_count": 399,
     "metadata": {},
     "output_type": "execute_result"
    }
   ],
   "source": [
    "pd.Series(finfo.to_dict()['vals'])"
   ]
  },
  {
   "cell_type": "code",
   "execution_count": 396,
   "metadata": {
    "collapsed": false
   },
   "outputs": [],
   "source": [
    "finfo = pd.read_csv(\"./finfo.csv\", header=None, names=['id', 'vals'], index_col=0)\n",
    "pd.Series(finfo.to_dict()['vals'])"
   ]
  },
  {
   "cell_type": "code",
   "execution_count": 4,
   "metadata": {
    "collapsed": false
   },
   "outputs": [],
   "source": [
    "m = build.Model(data=redata, kind='xirace', dynamic='hyp', tb=.650, depends_on={'v':'Cond'})\n",
    "\n",
    "m.flat_y=m.avg_y[0]\n",
    "m.flat_wts=m.avg_wts[0]\n",
    "\n",
    "m.make_optimizer(tol=1.e-5, multiopt=True, maxfev=5000, ntrials=10000)\n",
    "opt=m.opt\n",
    "opt.make_simulator()\n",
    "\n",
    "opt.flat_y=m.avg_y[0]\n",
    "opt.flat_wts=m.avg_wts[0]\n",
    "opt.fitparams['flat_y']=m.avg_y[0]\n",
    "opt.fitparams['flat_wts']=m.avg_wts[0]"
   ]
  },
  {
   "cell_type": "code",
   "execution_count": 5,
   "metadata": {
    "collapsed": false,
    "scrolled": false
   },
   "outputs": [
    {
     "name": "stdout",
     "output_type": "stream",
     "text": [
      "basinhopping step 0: f 0.0262272\n",
      "warning: basinhopping: local minimization failure\n",
      "basinhopping step 1: f 0.0590423 trial_f 0.0590423 accepted 1  lowest_f 0.0262272\n",
      "warning: basinhopping: local minimization failure\n",
      "basinhopping step 2: f 0.0590423 trial_f 0.815879 accepted 0  lowest_f 0.0262272\n",
      "basinhopping step 3: f 0.0567627 trial_f 0.0567627 accepted 1  lowest_f 0.0262272\n",
      "basinhopping step 4: f 0.287614 trial_f 0.287614 accepted 1  lowest_f 0.0262272\n",
      "basinhopping step 5: f 0.093946 trial_f 0.093946 accepted 1  lowest_f 0.0262272\n",
      "basinhopping step 6: f 0.212566 trial_f 0.212566 accepted 1  lowest_f 0.0262272\n",
      "basinhopping step 7: f 0.316229 trial_f 0.316229 accepted 1  lowest_f 0.0262272\n",
      "basinhopping step 8: f 1.00997 trial_f 1.00997 accepted 1  lowest_f 0.0262272\n",
      "basinhopping step 9: f 0.533663 trial_f 0.533663 accepted 1  lowest_f 0.0262272\n",
      "adaptive stepsize: acceptance rate 0.800000 target 0.500000 new stepsize 0.0555556 old stepsize 0.05\n",
      "basinhopping step 10: f 0.23059 trial_f 0.23059 accepted 1  lowest_f 0.0262272\n",
      "basinhopping step 11: f 0.10454 trial_f 0.10454 accepted 1  lowest_f 0.0262272\n",
      "basinhopping step 12: f 0.197459 trial_f 0.197459 accepted 1  lowest_f 0.0262272\n",
      "warning: basinhopping: local minimization failure\n",
      "basinhopping step 13: f 0.197459 trial_f 0.695933 accepted 0  lowest_f 0.0262272\n",
      "basinhopping step 14: f 0.323631 trial_f 0.323631 accepted 1  lowest_f 0.0262272\n",
      "basinhopping step 15: f 0.323631 trial_f 0.895607 accepted 0  lowest_f 0.0262272\n",
      "basinhopping step 16: f 0.382094 trial_f 0.382094 accepted 1  lowest_f 0.0262272\n",
      "basinhopping step 17: f 0.430287 trial_f 0.430287 accepted 1  lowest_f 0.0262272\n",
      "basinhopping step 18: f 0.694302 trial_f 0.694302 accepted 1  lowest_f 0.0262272\n",
      "basinhopping step 19: f 0.694302 trial_f 1.25626 accepted 0  lowest_f 0.0262272\n",
      "adaptive stepsize: acceptance rate 0.750000 target 0.500000 new stepsize 0.0617284 old stepsize 0.0555556\n",
      "warning: basinhopping: local minimization failure\n",
      "basinhopping step 20: f 0.694302 trial_f 1.60166 accepted 0  lowest_f 0.0262272\n",
      "basinhopping step 21: f 0.949358 trial_f 0.949358 accepted 1  lowest_f 0.0262272\n",
      "basinhopping step 22: f 0.837211 trial_f 0.837211 accepted 1  lowest_f 0.0262272\n",
      "basinhopping step 23: f 0.714325 trial_f 0.714325 accepted 1  lowest_f 0.0262272\n",
      "basinhopping step 24: f 1.04869 trial_f 1.04869 accepted 1  lowest_f 0.0262272\n",
      "warning: basinhopping: local minimization failure\n",
      "basinhopping step 25: f 1.04869 trial_f 1.49064 accepted 0  lowest_f 0.0262272\n",
      "basinhopping step 26: f 0.309104 trial_f 0.309104 accepted 1  lowest_f 0.0262272\n",
      "basinhopping step 27: f 0.309104 trial_f 0.57654 accepted 0  lowest_f 0.0262272\n",
      "basinhopping step 28: f 1.10106 trial_f 1.10106 accepted 1  lowest_f 0.0262272\n",
      "basinhopping step 29: f 1.62388 trial_f 1.62388 accepted 1  lowest_f 0.0262272\n",
      "adaptive stepsize: acceptance rate 0.733333 target 0.500000 new stepsize 0.0685871 old stepsize 0.0617284\n",
      "basinhopping step 30: f 0.43488 trial_f 0.43488 accepted 1  lowest_f 0.0262272\n",
      "warning: basinhopping: local minimization failure\n",
      "basinhopping step 31: f 0.430205 trial_f 0.430205 accepted 1  lowest_f 0.0262272\n",
      "basinhopping step 32: f 0.207754 trial_f 0.207754 accepted 1  lowest_f 0.0262272\n",
      "warning: basinhopping: local minimization failure\n",
      "basinhopping step 33: f 0.528871 trial_f 0.528871 accepted 1  lowest_f 0.0262272\n",
      "basinhopping step 34: f 0.233393 trial_f 0.233393 accepted 1  lowest_f 0.0262272\n",
      "basinhopping step 35: f 0.0788281 trial_f 0.0788281 accepted 1  lowest_f 0.0262272\n",
      "basinhopping step 36: f 0.639755 trial_f 0.639755 accepted 1  lowest_f 0.0262272\n",
      "basinhopping step 37: f 1.26582 trial_f 1.26582 accepted 1  lowest_f 0.0262272\n",
      "warning: basinhopping: local minimization failure\n",
      "basinhopping step 38: f 0.509175 trial_f 0.509175 accepted 1  lowest_f 0.0262272\n",
      "basinhopping step 39: f 0.232252 trial_f 0.232252 accepted 1  lowest_f 0.0262272\n",
      "adaptive stepsize: acceptance rate 0.800000 target 0.500000 new stepsize 0.0762079 old stepsize 0.0685871\n",
      "basinhopping step 40: f 0.232252 trial_f 1.73681 accepted 0  lowest_f 0.0262272\n",
      "basinhopping step 41: f 1.38983 trial_f 1.38983 accepted 1  lowest_f 0.0262272\n",
      "warning: basinhopping: local minimization failure\n",
      "basinhopping step 0: f 2.45788\n",
      "basinhopping step 1: f 2.45788 trial_f 4.85831 accepted 0  lowest_f 2.45788\n",
      "basinhopping step 2: f 2.39131 trial_f 2.39131 accepted 1  lowest_f 2.39131\n",
      "found new global minimum on step 2 with function value 2.39131\n",
      "warning: basinhopping: local minimization failure\n",
      "basinhopping step 3: f 2.19365 trial_f 2.19365 accepted 1  lowest_f 2.19365\n",
      "found new global minimum on step 3 with function value 2.19365\n",
      "basinhopping step 4: f 0.640597 trial_f 0.640597 accepted 1  lowest_f 0.640597\n",
      "found new global minimum on step 4 with function value 0.640597\n",
      "basinhopping step 5: f 1.66648 trial_f 1.66648 accepted 1  lowest_f 0.640597\n",
      "warning: basinhopping: local minimization failure\n",
      "basinhopping step 6: f 1.13441 trial_f 1.13441 accepted 1  lowest_f 0.640597\n",
      "basinhopping step 7: f 0.961499 trial_f 0.961499 accepted 1  lowest_f 0.640597\n",
      "warning: basinhopping: local minimization failure\n",
      "basinhopping step 8: f 1.17367 trial_f 1.17367 accepted 1  lowest_f 0.640597\n",
      "warning: basinhopping: local minimization failure\n",
      "basinhopping step 9: f 2.0859 trial_f 2.0859 accepted 1  lowest_f 0.640597\n",
      "adaptive stepsize: acceptance rate 0.800000 target 0.500000 new stepsize 0.0555556 old stepsize 0.05\n",
      "basinhopping step 10: f 1.10556 trial_f 1.10556 accepted 1  lowest_f 0.640597\n",
      "basinhopping step 11: f 1.142 trial_f 1.142 accepted 1  lowest_f 0.640597\n",
      "basinhopping step 12: f 1.142 trial_f 1.81587 accepted 0  lowest_f 0.640597\n",
      "warning: basinhopping: local minimization failure\n",
      "basinhopping step 13: f 1.09448 trial_f 1.09448 accepted 1  lowest_f 0.640597\n",
      "basinhopping step 14: f 1.06497 trial_f 1.06497 accepted 1  lowest_f 0.640597\n",
      "warning: basinhopping: local minimization failure\n",
      "basinhopping step 15: f 1.06497 trial_f 1.73574 accepted 0  lowest_f 0.640597\n",
      "basinhopping step 16: f 1.20094 trial_f 1.20094 accepted 1  lowest_f 0.640597\n",
      "basinhopping step 17: f 1.63625 trial_f 1.63625 accepted 1  lowest_f 0.640597\n",
      "basinhopping step 18: f 1.63625 trial_f 2.46108 accepted 0  lowest_f 0.640597\n",
      "basinhopping step 19: f 1.40808 trial_f 1.40808 accepted 1  lowest_f 0.640597\n",
      "adaptive stepsize: acceptance rate 0.750000 target 0.500000 new stepsize 0.0617284 old stepsize 0.0555556\n",
      "basinhopping step 20: f 2.09975 trial_f 2.09975 accepted 1  lowest_f 0.640597\n",
      "warning: basinhopping: local minimization failure\n",
      "basinhopping step 21: f 2.01071 trial_f 2.01071 accepted 1  lowest_f 0.640597\n",
      "basinhopping step 22: f 1.0964 trial_f 1.0964 accepted 1  lowest_f 0.640597\n",
      "warning: basinhopping: local minimization failure\n",
      "basinhopping step 23: f 2.12561 trial_f 2.12561 accepted 1  lowest_f 0.640597\n",
      "basinhopping step 24: f 2.0925 trial_f 2.0925 accepted 1  lowest_f 0.640597\n",
      "warning: basinhopping: local minimization failure\n",
      "basinhopping step 25: f 0.656761 trial_f 0.656761 accepted 1  lowest_f 0.640597\n",
      "basinhopping step 26: f 0.920274 trial_f 0.920274 accepted 1  lowest_f 0.640597\n",
      "warning: basinhopping: local minimization failure\n",
      "basinhopping step 27: f 0.795486 trial_f 0.795486 accepted 1  lowest_f 0.640597\n",
      "warning: basinhopping: local minimization failure\n",
      "basinhopping step 28: f 0.662197 trial_f 0.662197 accepted 1  lowest_f 0.640597\n",
      "basinhopping step 29: f 0.662197 trial_f 1.7145 accepted 0  lowest_f 0.640597\n",
      "adaptive stepsize: acceptance rate 0.800000 target 0.500000 new stepsize 0.0685871 old stepsize 0.0617284\n",
      "basinhopping step 30: f 0.69773 trial_f 0.69773 accepted 1  lowest_f 0.640597\n",
      "warning: basinhopping: local minimization failure\n",
      "basinhopping step 31: f 0.69773 trial_f 1.16438 accepted 0  lowest_f 0.640597\n",
      "basinhopping step 32: f 0.833788 trial_f 0.833788 accepted 1  lowest_f 0.640597\n",
      "basinhopping step 33: f 1.12304 trial_f 1.12304 accepted 1  lowest_f 0.640597\n",
      "basinhopping step 34: f 0.971243 trial_f 0.971243 accepted 1  lowest_f 0.640597\n",
      "basinhopping step 35: f 1.65214 trial_f 1.65214 accepted 1  lowest_f 0.640597\n",
      "warning: basinhopping: local minimization failure\n",
      "basinhopping step 36: f 1.68347 trial_f 1.68347 accepted 1  lowest_f 0.640597\n",
      "basinhopping step 37: f 1.55773 trial_f 1.55773 accepted 1  lowest_f 0.640597\n",
      "basinhopping step 38: f 1.38683 trial_f 1.38683 accepted 1  lowest_f 0.640597\n",
      "basinhopping step 39: f 1.04879 trial_f 1.04879 accepted 1  lowest_f 0.640597\n",
      "adaptive stepsize: acceptance rate 0.825000 target 0.500000 new stepsize 0.0762079 old stepsize 0.0685871\n",
      "basinhopping step 40: f 1.07516 trial_f 1.07516 accepted 1  lowest_f 0.640597\n",
      "warning: basinhopping: local minimization failure\n",
      "basinhopping step 41: f 1.27969 trial_f 1.27969 accepted 1  lowest_f 0.640597\n",
      "basinhopping step 42: f 1.33863 trial_f 1.33863 accepted 1  lowest_f 0.640597\n",
      "basinhopping step 43: f 1.28407 trial_f 1.28407 accepted 1  lowest_f 0.640597\n",
      "basinhopping step 44: f 1.28407 trial_f 2.50233 accepted 0  lowest_f 0.640597\n",
      "basinhopping step 45: f 1.32472 trial_f 1.32472 accepted 1  lowest_f 0.640597\n",
      "basinhopping step 0: f 4.85831\n",
      "basinhopping step 1: f 4.85831 trial_f 4.85831 accepted 1  lowest_f 4.85831\n",
      "basinhopping step 2: f 4.85831 trial_f 4.85831 accepted 1  lowest_f 4.85831\n",
      "basinhopping step 3: f 4.85831 trial_f 4.85831 accepted 1  lowest_f 4.85831\n",
      "basinhopping step 4: f 4.85831 trial_f 4.85831 accepted 1  lowest_f 4.85831\n",
      "basinhopping step 5: f 4.85831 trial_f 4.85831 accepted 1  lowest_f 4.85831\n",
      "basinhopping step 6: f 4.85831 trial_f 4.85831 accepted 1  lowest_f 4.85831\n",
      "basinhopping step 7: f 4.85831 trial_f 4.85831 accepted 1  lowest_f 4.85831\n",
      "basinhopping step 8: f 4.85831 trial_f 4.85831 accepted 1  lowest_f 4.85831\n",
      "basinhopping step 9: f 4.85831 trial_f 4.85831 accepted 1  lowest_f 4.85831\n",
      "adaptive stepsize: acceptance rate 0.900000 target 0.500000 new stepsize 0.0555556 old stepsize 0.05\n",
      "basinhopping step 10: f 4.85831 trial_f 4.85831 accepted 1  lowest_f 4.85831\n",
      "basinhopping step 11: f 4.85831 trial_f 4.85831 accepted 1  lowest_f 4.85831\n",
      "basinhopping step 12: f 4.85831 trial_f 4.85831 accepted 1  lowest_f 4.85831\n",
      "basinhopping step 13: f 4.85831 trial_f 4.85831 accepted 1  lowest_f 4.85831\n",
      "basinhopping step 14: f 4.85831 trial_f 4.85831 accepted 1  lowest_f 4.85831\n",
      "basinhopping step 15: f 4.85831 trial_f 4.85831 accepted 1  lowest_f 4.85831\n",
      "basinhopping step 16: f 4.85831 trial_f 4.85831 accepted 1  lowest_f 4.85831\n",
      "basinhopping step 17: f 4.85831 trial_f 4.85831 accepted 1  lowest_f 4.85831\n",
      "basinhopping step 18: f 4.85831 trial_f 4.85831 accepted 1  lowest_f 4.85831\n",
      "basinhopping step 19: f 4.85831 trial_f 4.85831 accepted 1  lowest_f 4.85831\n",
      "adaptive stepsize: acceptance rate 0.950000 target 0.500000 new stepsize 0.0617284 old stepsize 0.0555556\n",
      "basinhopping step 20: f 4.85831 trial_f 4.85831 accepted 1  lowest_f 4.85831\n",
      "basinhopping step 21: f 4.85831 trial_f 4.85831 accepted 1  lowest_f 4.85831\n",
      "basinhopping step 22: f 4.85831 trial_f 4.85831 accepted 1  lowest_f 4.85831\n",
      "basinhopping step 23: f 4.85831 trial_f 4.85831 accepted 1  lowest_f 4.85831\n",
      "basinhopping step 24: f 4.85831 trial_f 4.85831 accepted 1  lowest_f 4.85831\n",
      "basinhopping step 25: f 4.85831 trial_f 4.85831 accepted 1  lowest_f 4.85831\n",
      "basinhopping step 26: f 4.85831 trial_f 4.85831 accepted 1  lowest_f 4.85831\n",
      "basinhopping step 27: f 4.85831 trial_f 4.85831 accepted 1  lowest_f 4.85831\n",
      "basinhopping step 28: f 4.85831 trial_f 4.85831 accepted 1  lowest_f 4.85831\n",
      "basinhopping step 29: f 4.85831 trial_f 4.85831 accepted 1  lowest_f 4.85831\n",
      "adaptive stepsize: acceptance rate 0.966667 target 0.500000 new stepsize 0.0685871 old stepsize 0.0617284\n",
      "basinhopping step 30: f 4.85831 trial_f 4.85831 accepted 1  lowest_f 4.85831\n",
      "basinhopping step 31: f 4.85831 trial_f 4.85831 accepted 1  lowest_f 4.85831\n",
      "basinhopping step 32: f 4.85831 trial_f 4.85831 accepted 1  lowest_f 4.85831\n",
      "basinhopping step 33: f 4.85831 trial_f 4.85831 accepted 1  lowest_f 4.85831\n",
      "basinhopping step 34: f 4.85831 trial_f 4.85831 accepted 1  lowest_f 4.85831\n",
      "basinhopping step 35: f 4.85831 trial_f 4.85831 accepted 1  lowest_f 4.85831\n",
      "basinhopping step 36: f 4.85831 trial_f 4.85831 accepted 1  lowest_f 4.85831\n",
      "basinhopping step 37: f 4.85831 trial_f 4.85831 accepted 1  lowest_f 4.85831\n",
      "basinhopping step 38: f 4.85831 trial_f 4.85831 accepted 1  lowest_f 4.85831\n",
      "basinhopping step 39: f 4.85831 trial_f 4.85831 accepted 1  lowest_f 4.85831\n",
      "adaptive stepsize: acceptance rate 0.975000 target 0.500000 new stepsize 0.0762079 old stepsize 0.0685871\n",
      "basinhopping step 40: f 4.85831 trial_f 4.85831 accepted 1  lowest_f 4.85831\n",
      "basinhopping step 41: f 4.85831 trial_f 4.85831 accepted 1  lowest_f 4.85831\n",
      "basinhopping step 0: f 1.78615\n",
      "warning: basinhopping: local minimization failure\n",
      "basinhopping step 1: f 1.74721 trial_f 1.74721 accepted 1  lowest_f 1.74721\n",
      "found new global minimum on step 1 with function value 1.74721\n",
      "basinhopping step 2: f 1.74721 trial_f 2.20589 accepted 0  lowest_f 1.74721\n",
      "basinhopping step 3: f 1.74721 trial_f 2.03482 accepted 0  lowest_f 1.74721\n",
      "basinhopping step 4: f 1.48444 trial_f 1.48444 accepted 1  lowest_f 1.48444\n",
      "found new global minimum on step 4 with function value 1.48444\n",
      "warning: basinhopping: local minimization failure\n",
      "basinhopping step 5: f 1.33534 trial_f 1.33534 accepted 1  lowest_f 1.33534\n",
      "found new global minimum on step 5 with function value 1.33534\n",
      "basinhopping step 6: f 1.33534 trial_f 1.39689 accepted 0  lowest_f 1.33534\n",
      "basinhopping step 7: f 1.30377 trial_f 1.30377 accepted 1  lowest_f 1.30377\n",
      "found new global minimum on step 7 with function value 1.30377\n",
      "warning: basinhopping: local minimization failure\n",
      "basinhopping step 8: f 1.30292 trial_f 1.30292 accepted 1  lowest_f 1.30292\n",
      "found new global minimum on step 8 with function value 1.30292\n",
      "warning: basinhopping: local minimization failure\n",
      "basinhopping step 9: f 1.30292 trial_f 2.50217 accepted 0  lowest_f 1.30292\n",
      "adaptive stepsize: acceptance rate 0.500000 target 0.500000 new stepsize 0.045 old stepsize 0.05\n",
      "basinhopping step 10: f 1.30292 trial_f 2.59679 accepted 0  lowest_f 1.30292\n",
      "basinhopping step 11: f 1.30292 trial_f 2.53667 accepted 0  lowest_f 1.30292\n",
      "basinhopping step 12: f 1.30292 trial_f 2.55057 accepted 0  lowest_f 1.30292\n",
      "basinhopping step 13: f 1.28699 trial_f 1.28699 accepted 1  lowest_f 1.28699\n",
      "found new global minimum on step 13 with function value 1.28699\n",
      "warning: basinhopping: local minimization failure\n",
      "basinhopping step 14: f 1.29711 trial_f 1.29711 accepted 1  lowest_f 1.28699\n",
      "basinhopping step 15: f 1.30451 trial_f 1.30451 accepted 1  lowest_f 1.28699\n",
      "basinhopping step 16: f 1.30451 trial_f 1.32432 accepted 0  lowest_f 1.28699\n",
      "basinhopping step 17: f 1.30833 trial_f 1.30833 accepted 1  lowest_f 1.28699\n",
      "basinhopping step 18: f 1.28786 trial_f 1.28786 accepted 1  lowest_f 1.28699\n",
      "basinhopping step 19: f 1.31871 trial_f 1.31871 accepted 1  lowest_f 1.28699\n",
      "adaptive stepsize: acceptance rate 0.550000 target 0.500000 new stepsize 0.05 old stepsize 0.045\n",
      "basinhopping step 20: f 1.28918 trial_f 1.28918 accepted 1  lowest_f 1.28699\n",
      "basinhopping step 21: f 1.30193 trial_f 1.30193 accepted 1  lowest_f 1.28699\n",
      "basinhopping step 22: f 1.30558 trial_f 1.30558 accepted 1  lowest_f 1.28699\n",
      "basinhopping step 23: f 1.32251 trial_f 1.32251 accepted 1  lowest_f 1.28699\n",
      "basinhopping step 24: f 1.3205 trial_f 1.3205 accepted 1  lowest_f 1.28699\n",
      "warning: basinhopping: local minimization failure\n",
      "basinhopping step 25: f 1.33882 trial_f 1.33882 accepted 1  lowest_f 1.28699\n",
      "basinhopping step 26: f 1.34948 trial_f 1.34948 accepted 1  lowest_f 1.28699\n",
      "basinhopping step 27: f 1.32912 trial_f 1.32912 accepted 1  lowest_f 1.28699\n",
      "basinhopping step 28: f 1.34432 trial_f 1.34432 accepted 1  lowest_f 1.28699\n",
      "basinhopping step 29: f 1.32488 trial_f 1.32488 accepted 1  lowest_f 1.28699\n",
      "adaptive stepsize: acceptance rate 0.700000 target 0.500000 new stepsize 0.0555556 old stepsize 0.05\n",
      "basinhopping step 30: f 1.30073 trial_f 1.30073 accepted 1  lowest_f 1.28699\n",
      "basinhopping step 31: f 1.30073 trial_f 2.51451 accepted 0  lowest_f 1.28699\n",
      "basinhopping step 32: f 1.2935 trial_f 1.2935 accepted 1  lowest_f 1.28699\n",
      "basinhopping step 33: f 1.30233 trial_f 1.30233 accepted 1  lowest_f 1.28699\n",
      "warning: basinhopping: local minimization failure\n",
      "basinhopping step 34: f 1.30233 trial_f 2.58169 accepted 0  lowest_f 1.28699\n",
      "warning: basinhopping: local minimization failure\n",
      "basinhopping step 35: f 1.33915 trial_f 1.33915 accepted 1  lowest_f 1.28699\n",
      "basinhopping step 36: f 1.26855 trial_f 1.26855 accepted 1  lowest_f 1.26855\n",
      "found new global minimum on step 36 with function value 1.26855\n",
      "basinhopping step 37: f 1.30017 trial_f 1.30017 accepted 1  lowest_f 1.26855\n",
      "basinhopping step 38: f 1.31273 trial_f 1.31273 accepted 1  lowest_f 1.26855\n",
      "basinhopping step 39: f 1.27598 trial_f 1.27598 accepted 1  lowest_f 1.26855\n",
      "adaptive stepsize: acceptance rate 0.725000 target 0.500000 new stepsize 0.0617284 old stepsize 0.0555556\n",
      "basinhopping step 40: f 1.09312 trial_f 1.09312 accepted 1  lowest_f 1.09312\n",
      "found new global minimum on step 40 with function value 1.09312\n",
      "basinhopping step 41: f 1.1753 trial_f 1.1753 accepted 1  lowest_f 1.09312\n",
      "warning: basinhopping: local minimization failure\n",
      "basinhopping step 42: f 0.737876 trial_f 0.737876 accepted 1  lowest_f 0.737876\n",
      "found new global minimum on step 42 with function value 0.737876\n",
      "basinhopping step 43: f 0.791032 trial_f 0.791032 accepted 1  lowest_f 0.737876\n",
      "basinhopping step 44: f 0.754349 trial_f 0.754349 accepted 1  lowest_f 0.737876\n",
      "basinhopping step 45: f 0.92263 trial_f 0.92263 accepted 1  lowest_f 0.737876\n",
      "basinhopping step 46: f 0.936401 trial_f 0.936401 accepted 1  lowest_f 0.737876\n",
      "basinhopping step 47: f 0.988763 trial_f 0.988763 accepted 1  lowest_f 0.737876\n",
      "basinhopping step 48: f 0.988763 trial_f 1.15829 accepted 0  lowest_f 0.737876\n",
      "basinhopping step 49: f 0.988763 trial_f 1.3113 accepted 0  lowest_f 0.737876\n",
      "adaptive stepsize: acceptance rate 0.740000 target 0.500000 new stepsize 0.0685871 old stepsize 0.0617284\n",
      "basinhopping step 50: f 1.27425 trial_f 1.27425 accepted 1  lowest_f 0.737876\n",
      "warning: basinhopping: local minimization failure\n",
      "basinhopping step 51: f 1.01163 trial_f 1.01163 accepted 1  lowest_f 0.737876\n",
      "basinhopping step 52: f 1.07766 trial_f 1.07766 accepted 1  lowest_f 0.737876\n",
      "basinhopping step 53: f 1.18573 trial_f 1.18573 accepted 1  lowest_f 0.737876\n",
      "warning: basinhopping: local minimization failure\n",
      "basinhopping step 54: f 1.35261 trial_f 1.35261 accepted 1  lowest_f 0.737876\n",
      "basinhopping step 55: f 1.15254 trial_f 1.15254 accepted 1  lowest_f 0.737876\n",
      "basinhopping step 56: f 1.28121 trial_f 1.28121 accepted 1  lowest_f 0.737876\n",
      "warning: basinhopping: local minimization failure\n",
      "basinhopping step 57: f 1.421 trial_f 1.421 accepted 1  lowest_f 0.737876\n",
      "warning: basinhopping: local minimization failure\n",
      "basinhopping step 58: f 1.34674 trial_f 1.34674 accepted 1  lowest_f 0.737876\n",
      "basinhopping step 59: f 1.36276 trial_f 1.36276 accepted 1  lowest_f 0.737876\n",
      "adaptive stepsize: acceptance rate 0.783333 target 0.500000 new stepsize 0.0762079 old stepsize 0.0685871\n",
      "basinhopping step 60: f 2.50968 trial_f 2.50968 accepted 1  lowest_f 0.737876\n",
      "basinhopping step 61: f 1.28447 trial_f 1.28447 accepted 1  lowest_f 0.737876\n",
      "warning: basinhopping: local minimization failure\n",
      "basinhopping step 62: f 2.74524 trial_f 2.74524 accepted 1  lowest_f 0.737876\n",
      "warning: basinhopping: local minimization failure\n",
      "basinhopping step 63: f 1.28222 trial_f 1.28222 accepted 1  lowest_f 0.737876\n",
      "warning: basinhopping: local minimization failure\n",
      "basinhopping step 64: f 1.28692 trial_f 1.28692 accepted 1  lowest_f 0.737876\n",
      "basinhopping step 65: f 1.28692 trial_f 2.81666 accepted 0  lowest_f 0.737876\n",
      "basinhopping step 66: f 1.28048 trial_f 1.28048 accepted 1  lowest_f 0.737876\n",
      "warning: basinhopping: local minimization failure\n",
      "basinhopping step 67: f 1.36482 trial_f 1.36482 accepted 1  lowest_f 0.737876\n",
      "basinhopping step 68: f 1.27979 trial_f 1.27979 accepted 1  lowest_f 0.737876\n",
      "basinhopping step 69: f 1.31526 trial_f 1.31526 accepted 1  lowest_f 0.737876\n",
      "adaptive stepsize: acceptance rate 0.800000 target 0.500000 new stepsize 0.0846754 old stepsize 0.0762079\n",
      "basinhopping step 70: f 1.29168 trial_f 1.29168 accepted 1  lowest_f 0.737876\n",
      "basinhopping step 71: f 1.40592 trial_f 1.40592 accepted 1  lowest_f 0.737876\n",
      "basinhopping step 72: f 1.37392 trial_f 1.37392 accepted 1  lowest_f 0.737876\n",
      "basinhopping step 73: f 1.31254 trial_f 1.31254 accepted 1  lowest_f 0.737876\n",
      "basinhopping step 74: f 1.29964 trial_f 1.29964 accepted 1  lowest_f 0.737876\n",
      "warning: basinhopping: local minimization failure\n",
      "basinhopping step 75: f 1.43724 trial_f 1.43724 accepted 1  lowest_f 0.737876\n",
      "basinhopping step 76: f 1.6669 trial_f 1.6669 accepted 1  lowest_f 0.737876\n",
      "basinhopping step 77: f 1.6669 trial_f 2.58604 accepted 0  lowest_f 0.737876\n",
      "basinhopping step 78: f 1.54603 trial_f 1.54603 accepted 1  lowest_f 0.737876\n",
      "basinhopping step 79: f 1.54603 trial_f 2.5199 accepted 0  lowest_f 0.737876\n",
      "adaptive stepsize: acceptance rate 0.800000 target 0.500000 new stepsize 0.0940838 old stepsize 0.0846754\n",
      "basinhopping step 80: f 1.44603 trial_f 1.44603 accepted 1  lowest_f 0.737876\n",
      "basinhopping step 81: f 1.53866 trial_f 1.53866 accepted 1  lowest_f 0.737876\n",
      "basinhopping step 82: f 1.53866 trial_f 2.52035 accepted 0  lowest_f 0.737876\n",
      "warning: basinhopping: local minimization failure\n",
      "basinhopping step 83: f 1.53866 trial_f 2.5021 accepted 0  lowest_f 0.737876\n",
      "basinhopping step 0: f 3.61466\n",
      "basinhopping step 1: f 4.85831 trial_f 4.85831 accepted 1  lowest_f 3.61466\n",
      "basinhopping step 2: f 4.85831 trial_f 4.85831 accepted 1  lowest_f 3.61466\n",
      "basinhopping step 3: f 3.61023 trial_f 3.61023 accepted 1  lowest_f 3.61023\n",
      "found new global minimum on step 3 with function value 3.61023\n",
      "basinhopping step 4: f 3.61023 trial_f 4.85831 accepted 0  lowest_f 3.61023\n",
      "warning: basinhopping: local minimization failure\n",
      "basinhopping step 5: f 3.5468 trial_f 3.5468 accepted 1  lowest_f 3.5468\n",
      "found new global minimum on step 5 with function value 3.5468\n",
      "basinhopping step 6: f 3.58715 trial_f 3.58715 accepted 1  lowest_f 3.5468\n",
      "basinhopping step 7: f 3.58398 trial_f 3.58398 accepted 1  lowest_f 3.5468\n",
      "warning: basinhopping: local minimization failure\n",
      "basinhopping step 8: f 3.41251 trial_f 3.41251 accepted 1  lowest_f 3.41251\n",
      "found new global minimum on step 8 with function value 3.41251\n",
      "basinhopping step 9: f 3.23081 trial_f 3.23081 accepted 1  lowest_f 3.23081\n",
      "found new global minimum on step 9 with function value 3.23081\n",
      "adaptive stepsize: acceptance rate 0.800000 target 0.500000 new stepsize 0.0555556 old stepsize 0.05\n",
      "basinhopping step 10: f 2.93559 trial_f 2.93559 accepted 1  lowest_f 2.93559\n",
      "found new global minimum on step 10 with function value 2.93559\n",
      "basinhopping step 11: f 2.91826 trial_f 2.91826 accepted 1  lowest_f 2.91826\n",
      "found new global minimum on step 11 with function value 2.91826\n",
      "basinhopping step 12: f 2.62264 trial_f 2.62264 accepted 1  lowest_f 2.62264\n",
      "found new global minimum on step 12 with function value 2.62264\n",
      "warning: basinhopping: local minimization failure\n",
      "basinhopping step 13: f 3.10544 trial_f 3.10544 accepted 1  lowest_f 2.62264\n",
      "basinhopping step 14: f 3.0498 trial_f 3.0498 accepted 1  lowest_f 2.62264\n",
      "basinhopping step 15: f 2.49755 trial_f 2.49755 accepted 1  lowest_f 2.49755\n",
      "found new global minimum on step 15 with function value 2.49755\n",
      "basinhopping step 16: f 1.28616 trial_f 1.28616 accepted 1  lowest_f 1.28616\n",
      "found new global minimum on step 16 with function value 1.28616\n",
      "basinhopping step 17: f 1.28452 trial_f 1.28452 accepted 1  lowest_f 1.28452\n",
      "found new global minimum on step 17 with function value 1.28452\n",
      "warning: basinhopping: local minimization failure\n",
      "basinhopping step 18: f 1.28788 trial_f 1.28788 accepted 1  lowest_f 1.28452\n",
      "basinhopping step 19: f 1.28386 trial_f 1.28386 accepted 1  lowest_f 1.28386\n",
      "found new global minimum on step 19 with function value 1.28386\n",
      "adaptive stepsize: acceptance rate 0.900000 target 0.500000 new stepsize 0.0617284 old stepsize 0.0555556\n",
      "basinhopping step 20: f 1.25731 trial_f 1.25731 accepted 1  lowest_f 1.25731\n",
      "found new global minimum on step 20 with function value 1.25731\n",
      "warning: basinhopping: local minimization failure\n",
      "basinhopping step 21: f 1.25752 trial_f 1.25752 accepted 1  lowest_f 1.25731\n",
      "basinhopping step 22: f 1.10044 trial_f 1.10044 accepted 1  lowest_f 1.10044\n",
      "found new global minimum on step 22 with function value 1.10044\n",
      "basinhopping step 23: f 1.10044 trial_f 1.24557 accepted 0  lowest_f 1.10044\n",
      "basinhopping step 24: f 1.08194 trial_f 1.08194 accepted 1  lowest_f 1.08194\n",
      "found new global minimum on step 24 with function value 1.08194\n",
      "basinhopping step 25: f 1.08929 trial_f 1.08929 accepted 1  lowest_f 1.08194\n",
      "basinhopping step 26: f 0.948385 trial_f 0.948385 accepted 1  lowest_f 0.948385\n",
      "found new global minimum on step 26 with function value 0.948385\n",
      "basinhopping step 27: f 0.977613 trial_f 0.977613 accepted 1  lowest_f 0.948385\n",
      "warning: basinhopping: local minimization failure\n",
      "basinhopping step 28: f 0.977613 trial_f 1.1459 accepted 0  lowest_f 0.948385\n",
      "basinhopping step 29: f 1.31365 trial_f 1.31365 accepted 1  lowest_f 0.948385\n",
      "adaptive stepsize: acceptance rate 0.866667 target 0.500000 new stepsize 0.0685871 old stepsize 0.0617284\n",
      "basinhopping step 30: f 1.39924 trial_f 1.39924 accepted 1  lowest_f 0.948385\n",
      "warning: basinhopping: local minimization failure\n",
      "basinhopping step 31: f 1.39292 trial_f 1.39292 accepted 1  lowest_f 0.948385\n",
      "basinhopping step 32: f 1.38179 trial_f 1.38179 accepted 1  lowest_f 0.948385\n",
      "basinhopping step 33: f 1.35801 trial_f 1.35801 accepted 1  lowest_f 0.948385\n",
      "basinhopping step 34: f 1.35801 trial_f 2.53361 accepted 0  lowest_f 0.948385\n",
      "basinhopping step 35: f 1.29196 trial_f 1.29196 accepted 1  lowest_f 0.948385\n",
      "basinhopping step 36: f 1.40576 trial_f 1.40576 accepted 1  lowest_f 0.948385\n",
      "warning: basinhopping: local minimization failure\n",
      "basinhopping step 37: f 1.2964 trial_f 1.2964 accepted 1  lowest_f 0.948385\n",
      "basinhopping step 38: f 1.27708 trial_f 1.27708 accepted 1  lowest_f 0.948385\n",
      "basinhopping step 39: f 1.46461 trial_f 1.46461 accepted 1  lowest_f 0.948385\n",
      "adaptive stepsize: acceptance rate 0.875000 target 0.500000 new stepsize 0.0762079 old stepsize 0.0685871\n",
      "warning: basinhopping: local minimization failure\n",
      "basinhopping step 40: f 1.53193 trial_f 1.53193 accepted 1  lowest_f 0.948385\n",
      "basinhopping step 41: f 1.53193 trial_f 2.53205 accepted 0  lowest_f 0.948385\n",
      "warning: basinhopping: local minimization failure\n",
      "basinhopping step 42: f 1.97745 trial_f 1.97745 accepted 1  lowest_f 0.948385\n",
      "basinhopping step 43: f 2.05254 trial_f 2.05254 accepted 1  lowest_f 0.948385\n",
      "basinhopping step 44: f 1.06101 trial_f 1.06101 accepted 1  lowest_f 0.948385\n",
      "basinhopping step 45: f 0.909173 trial_f 0.909173 accepted 1  lowest_f 0.909173\n",
      "found new global minimum on step 45 with function value 0.909173\n",
      "warning: basinhopping: local minimization failure\n",
      "basinhopping step 46: f 0.817035 trial_f 0.817035 accepted 1  lowest_f 0.817035\n",
      "found new global minimum on step 46 with function value 0.817035\n",
      "basinhopping step 47: f 1.13863 trial_f 1.13863 accepted 1  lowest_f 0.817035\n",
      "basinhopping step 48: f 1.21621 trial_f 1.21621 accepted 1  lowest_f 0.817035\n",
      "warning: basinhopping: local minimization failure\n",
      "basinhopping step 49: f 1.14195 trial_f 1.14195 accepted 1  lowest_f 0.817035\n",
      "adaptive stepsize: acceptance rate 0.880000 target 0.500000 new stepsize 0.0846754 old stepsize 0.0762079\n",
      "basinhopping step 50: f 1.28079 trial_f 1.28079 accepted 1  lowest_f 0.817035\n",
      "warning: basinhopping: local minimization failure\n",
      "basinhopping step 51: f 1.25879 trial_f 1.25879 accepted 1  lowest_f 0.817035\n",
      "basinhopping step 52: f 1.25879 trial_f 1.50703 accepted 0  lowest_f 0.817035\n",
      "basinhopping step 53: f 1.3344 trial_f 1.3344 accepted 1  lowest_f 0.817035\n",
      "warning: basinhopping: local minimization failure\n",
      "basinhopping step 54: f 2.70598 trial_f 2.70598 accepted 1  lowest_f 0.817035\n",
      "basinhopping step 55: f 2.70598 trial_f 3.61551 accepted 0  lowest_f 0.817035\n",
      "basinhopping step 56: f 3.02224 trial_f 3.02224 accepted 1  lowest_f 0.817035\n",
      "basinhopping step 57: f 1.32691 trial_f 1.32691 accepted 1  lowest_f 0.817035\n",
      "basinhopping step 58: f 1.711 trial_f 1.711 accepted 1  lowest_f 0.817035\n",
      "basinhopping step 59: f 1.711 trial_f 4.85831 accepted 0  lowest_f 0.817035\n",
      "adaptive stepsize: acceptance rate 0.850000 target 0.500000 new stepsize 0.0940838 old stepsize 0.0846754\n",
      "basinhopping step 60: f 1.711 trial_f 4.85831 accepted 0  lowest_f 0.817035\n",
      "basinhopping step 61: f 1.57302 trial_f 1.57302 accepted 1  lowest_f 0.817035\n",
      "basinhopping step 62: f 1.57302 trial_f 2.75193 accepted 0  lowest_f 0.817035\n",
      "basinhopping step 63: f 1.27725 trial_f 1.27725 accepted 1  lowest_f 0.817035\n",
      "basinhopping step 64: f 1.27725 trial_f 2.4992 accepted 0  lowest_f 0.817035\n",
      "basinhopping step 65: f 1.5256 trial_f 1.5256 accepted 1  lowest_f 0.817035\n",
      "basinhopping step 66: f 0.714154 trial_f 0.714154 accepted 1  lowest_f 0.714154\n",
      "found new global minimum on step 66 with function value 0.714154\n",
      "warning: basinhopping: local minimization failure\n",
      "basinhopping step 67: f 0.714154 trial_f 1.74874 accepted 0  lowest_f 0.714154\n",
      "basinhopping step 68: f 0.785291 trial_f 0.785291 accepted 1  lowest_f 0.714154\n",
      "basinhopping step 69: f 0.785291 trial_f 0.980335 accepted 0  lowest_f 0.714154\n",
      "adaptive stepsize: acceptance rate 0.800000 target 0.500000 new stepsize 0.104538 old stepsize 0.0940838\n",
      "basinhopping step 70: f 0.987148 trial_f 0.987148 accepted 1  lowest_f 0.714154\n",
      "basinhopping step 71: f 0.987148 trial_f 1.95493 accepted 0  lowest_f 0.714154\n",
      "basinhopping step 72: f 2.50062 trial_f 2.50062 accepted 1  lowest_f 0.714154\n",
      "basinhopping step 73: f 0.481208 trial_f 0.481208 accepted 1  lowest_f 0.481208\n",
      "found new global minimum on step 73 with function value 0.481208\n",
      "basinhopping step 74: f 0.439159 trial_f 0.439159 accepted 1  lowest_f 0.439159\n",
      "found new global minimum on step 74 with function value 0.439159\n",
      "basinhopping step 75: f 0.0294425 trial_f 0.0294425 accepted 1  lowest_f 0.0294425\n",
      "found new global minimum on step 75 with function value 0.0294425\n",
      "warning: basinhopping: local minimization failure\n",
      "basinhopping step 76: f 0.109708 trial_f 0.109708 accepted 1  lowest_f 0.0294425\n",
      "basinhopping step 77: f 0.109708 trial_f 1.34747 accepted 0  lowest_f 0.0294425\n",
      "basinhopping step 78: f 0.0209176 trial_f 0.0209176 accepted 1  lowest_f 0.0209176\n",
      "found new global minimum on step 78 with function value 0.0209176\n",
      "warning: basinhopping: local minimization failure\n",
      "basinhopping step 79: f 0.614784 trial_f 0.614784 accepted 1  lowest_f 0.0209176\n",
      "adaptive stepsize: acceptance rate 0.800000 target 0.500000 new stepsize 0.116153 old stepsize 0.104538\n",
      "basinhopping step 80: f 0.0441207 trial_f 0.0441207 accepted 1  lowest_f 0.0209176\n",
      "basinhopping step 81: f 0.0441207 trial_f 1.78126 accepted 0  lowest_f 0.0209176\n",
      "basinhopping step 82: f 0.0441207 trial_f 0.441031 accepted 0  lowest_f 0.0209176\n",
      "basinhopping step 83: f 0.390291 trial_f 0.390291 accepted 1  lowest_f 0.0209176\n",
      "warning: basinhopping: local minimization failure\n",
      "basinhopping step 84: f 0.390291 trial_f 1.36648 accepted 0  lowest_f 0.0209176\n",
      "basinhopping step 85: f 0.370683 trial_f 0.370683 accepted 1  lowest_f 0.0209176\n",
      "warning: basinhopping: local minimization failure\n",
      "basinhopping step 86: f 0.370683 trial_f 3.00297 accepted 0  lowest_f 0.0209176\n",
      "warning: basinhopping: local minimization failure\n",
      "basinhopping step 87: f 0.97135 trial_f 0.97135 accepted 1  lowest_f 0.0209176\n",
      "basinhopping step 88: f 0.97135 trial_f 2.5361 accepted 0  lowest_f 0.0209176\n",
      "basinhopping step 89: f 0.099971 trial_f 0.099971 accepted 1  lowest_f 0.0209176\n",
      "adaptive stepsize: acceptance rate 0.766667 target 0.500000 new stepsize 0.129059 old stepsize 0.116153\n",
      "warning: basinhopping: local minimization failure\n",
      "basinhopping step 90: f 1.20648 trial_f 1.20648 accepted 1  lowest_f 0.0209176\n",
      "basinhopping step 91: f 1.26232 trial_f 1.26232 accepted 1  lowest_f 0.0209176\n",
      "basinhopping step 92: f 0.610217 trial_f 0.610217 accepted 1  lowest_f 0.0209176\n",
      "basinhopping step 93: f 0.610217 trial_f 2.59444 accepted 0  lowest_f 0.0209176\n",
      "basinhopping step 94: f 0.610217 trial_f 1.28868 accepted 0  lowest_f 0.0209176\n",
      "basinhopping step 95: f 0.610217 trial_f 2.08423 accepted 0  lowest_f 0.0209176\n",
      "basinhopping step 96: f 0.610217 trial_f 3.15331 accepted 0  lowest_f 0.0209176\n",
      "basinhopping step 97: f 0.610217 trial_f 2.57756 accepted 0  lowest_f 0.0209176\n",
      "warning: basinhopping: local minimization failure\n",
      "basinhopping step 98: f 0.602751 trial_f 0.602751 accepted 1  lowest_f 0.0209176\n",
      "warning: basinhopping: local minimization failure\n",
      "basinhopping step 99: f 0.152915 trial_f 0.152915 accepted 1  lowest_f 0.0209176\n",
      "adaptive stepsize: acceptance rate 0.740000 target 0.500000 new stepsize 0.143399 old stepsize 0.129059\n",
      "basinhopping step 100: f 0.152915 trial_f 1.57203 accepted 0  lowest_f 0.0209176\n",
      "Warning: Maximum number of iterations has been exceeded.\n"
     ]
    }
   ],
   "source": [
    "fp = opt.fitparams\n",
    "# p0: (Initials/Global Minimum)\n",
    "p0 = dict(deepcopy(opt.inits))\n",
    "p0X = opt.hop_around(p0)\n",
    "yh1, finfo1, p1 = opt.gradient_descent(y=opt.flat_y, wts=opt.flat_wts, inits=p0X, is_flat=True)"
   ]
  },
  {
   "cell_type": "code",
   "execution_count": 30,
   "metadata": {
    "collapsed": false
   },
   "outputs": [
    {
     "data": {
      "image/png": "[encoded data removed]",
      "text/plain": [
       "<matplotlib.figure.Figure at 0x7fc93a6a8050>"
      ]
     },
     "metadata": {},
     "output_type": "display_data"
    }
   ],
   "source": [
    "finfo1.to_csv('finfo.csv')\n",
    "m.fits=np.tile(yh1,2).reshape(2,16)\n",
    "m.popt=p1\n",
    "vis.react_fit_plots(m, is_flat=True, save=True)"
   ]
  },
  {
   "cell_type": "code",
   "execution_count": 26,
   "metadata": {
    "collapsed": false
   },
   "outputs": [
    {
     "data": {
      "text/plain": [
       "array([], shape=(0, 16), dtype=float64)"
      ]
     },
     "execution_count": 26,
     "metadata": {},
     "output_type": "execute_result"
    }
   ],
   "source": [
    "m.avg_y[6:11]"
   ]
  },
  {
   "cell_type": "code",
   "execution_count": 27,
   "metadata": {
    "collapsed": false
   },
   "outputs": [
    {
     "data": {
      "text/plain": [
       "array([[ 1.     ,  0.996  ,  0.9732 ,  0.8646 ,  0.5206 ,  0.1094 ,\n",
       "         0.54138,  0.54938,  0.55738,  0.56538,  0.57938,  0.53938,\n",
       "         0.54738,  0.55538,  0.56338,  0.57538],\n",
       "       [ 1.     ,  0.996  ,  0.9732 ,  0.8646 ,  0.5206 ,  0.1094 ,\n",
       "         0.54138,  0.54938,  0.55738,  0.56538,  0.57938,  0.53938,\n",
       "         0.54738,  0.55538,  0.56338,  0.57538]])"
      ]
     },
     "execution_count": 27,
     "metadata": {},
     "output_type": "execute_result"
    }
   ],
   "source": [
    "m.fits"
   ]
  },
  {
   "cell_type": "code",
   "execution_count": 15,
   "metadata": {
    "collapsed": false
   },
   "outputs": [
    {
     "data": {
      "text/plain": [
       "array([[ 1.     ,  0.996  ,  0.9732 ,  0.8646 ,  0.5206 ,  0.1094 ,\n",
       "         0.54138,  0.54938,  0.55738,  0.56538,  0.57938,  0.53938,\n",
       "         0.54738,  0.55538,  0.56338,  0.57538],\n",
       "       [ 1.     ,  0.996  ,  0.9732 ,  0.8646 ,  0.5206 ,  0.1094 ,\n",
       "         0.54138,  0.54938,  0.55738,  0.56538,  0.57938,  0.53938,\n",
       "         0.54738,  0.55538,  0.56338,  0.57538]])"
      ]
     },
     "execution_count": 15,
     "metadata": {},
     "output_type": "execute_result"
    }
   ],
   "source": [
    "m.fits"
   ]
  },
  {
   "cell_type": "code",
   "execution_count": 16,
   "metadata": {
    "collapsed": true
   },
   "outputs": [],
   "source": [
    "from radd.toolbox import analyze"
   ]
  },
  {
   "cell_type": "code",
   "execution_count": 20,
   "metadata": {
    "collapsed": false
   },
   "outputs": [
    {
     "data": {
      "text/plain": [
       "<matplotlib.axes._subplots.AxesSubplot at 0x7fc938a7bbd0>"
      ]
     },
     "execution_count": 20,
     "metadata": {},
     "output_type": "execute_result"
    },
    {
     "data": {
      "image/png": "[encoded data removed]",
      "text/plain": [
       "<matplotlib.figure.Figure at 0x7fc93a6bab90>"
      ]
     },
     "metadata": {},
     "output_type": "display_data"
    }
   ],
   "source": [
    "kdeqc = analyze.kde_fit_quantiles(m.avg_y[0, 11:], bw=.01)\n",
    "sns.kdeplot(kdeqc, cumulative=True)\n",
    "#vis.plot_reactive_fits(m, cumulative=True)"
   ]
  },
  {
   "cell_type": "code",
   "execution_count": 31,
   "metadata": {
    "collapsed": false
   },
   "outputs": [
    {
     "data": {
      "image/png": "[encoded data removed]",
      "text/plain": [
       "<matplotlib.figure.Figure at 0x7fc938a94e90>"
      ]
     },
     "metadata": {},
     "output_type": "display_data"
    }
   ],
   "source": [
    "c1=bpal(2)\n",
    "c2=gpal(2)\n",
    "c=[c1,c2]\n",
    "for i, yy in enumerate([m.avg_y[0], m.fits[0]]):\n",
    "      kdeqc = analyze.kde_fit_quantiles(yy[6:11], bw=.01)\n",
    "      sns.kdeplot(kdeqc, color=c[i][0], cumulative=True)\n",
    "      kdeqe = analyze.kde_fit_quantiles(yy[11:], bw=.01)\n",
    "      sns.kdeplot(kdeqe, color=c[i][1], cumulative=True)\n",
    "#kdeqc = analyze.kde_fit_quantiles(m.avg_y[0, 11:], bw=.01)"
   ]
  },
  {
   "cell_type": "code",
   "execution_count": null,
   "metadata": {
    "collapsed": true
   },
   "outputs": [],
   "source": []
  }
 ],
 "metadata": {
  "kernelspec": {
   "display_name": "Python 2",
   "language": "python",
   "name": "python2"
  },
  "language_info": {
   "codemirror_mode": {
    "name": "ipython",
    "version": 2
   },
   "file_extension": ".py",
   "mimetype": "text/x-python",
   "name": "python",
   "nbconvert_exporter": "python",
   "pygments_lexer": "ipython2",
   "version": "2.7.10"
  }
 },
 "nbformat": 4,
 "nbformat_minor": 0
}
