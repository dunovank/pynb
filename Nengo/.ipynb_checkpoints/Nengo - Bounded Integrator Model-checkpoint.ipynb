{
 "metadata": {
  "name": "",
  "signature": "sha256:c874c62792a0b29b6bc728c32cd20affce5803123978079654329ad12c88bc80"
 },
 "nbformat": 3,
 "nbformat_minor": 0,
 "worksheets": [
  {
   "cells": [
    {
     "cell_type": "code",
     "collapsed": false,
     "input": [
      "import nef\n",
      "\n",
      "net=nef.Network('2D Decision Integrator') \n",
      "input=net.make_input('input', [0, 0])  \n",
      "\n",
      "net.make('MT', 100, 2, noise=10) \n",
      "net.make('LIP', 200, 2, noise=10) \n",
      "net.make('output', 100, 2, intercept=(0.3, 1), noise=10)\n",
      "\n",
      "net.connect('input', 'MT', pstc=0.01)  \n",
      "net.connect('MT', 'LIP', weight=0.1, pstc=0.1) \n",
      "net.connect('LIP', 'LIP', pstc=0.1)  \n",
      "net.connect('LIP', 'output', pstc=0.01)\n",
      "\n",
      "net.add_to_nengo()"
     ],
     "language": "python",
     "metadata": {},
     "outputs": []
    }
   ],
   "metadata": {}
  }
 ]
}