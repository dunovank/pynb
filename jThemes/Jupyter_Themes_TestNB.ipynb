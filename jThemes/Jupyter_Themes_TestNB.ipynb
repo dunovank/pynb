{
 "cells": [
  {
   "cell_type": "code",
   "execution_count": 1,
   "metadata": {
    "collapsed": true
   },
   "outputs": [],
   "source": [
    "\"\"\"\n",
    "Juypiter theme installer\n",
    "Author: miraculixx at github.com\n",
    "# MODIFIED by dunovank at github.com\n",
    "\"\"\"\n",
    "\n",
    "from __future__ import print_function\n",
    "from jupyter_core.paths import jupyter_config_dir\n",
    "\n",
    "import os\n",
    "import shutil\n",
    "import argparse\n",
    "import subprocess\n",
    "from glob import glob\n",
    "from tempfile import mkstemp\n",
    "\n",
    "jnb_config_dir = jupyter_config_dir()\n",
    "HOME = os.path.expanduser('~')\n",
    "INSTALL_JPATH = os.path.join(jnb_config_dir, 'custom')\n",
    "NBCONFIG_PATH = os.path.join(jnb_config_dir, 'nbconfig')\n",
    "THEMES_PATH = os.path.join(HOME, '.jupyter-themes')\n",
    "\n",
    "DEFAULT_FONT='Hack'\n",
    "DEFAULT_FONTSIZE='11'\n",
    "DEFAULT_TOOLBAR_STRING='div#maintoolbar {display: none !important;}'\n",
    "DEFAULT_FONT_STRING=\"div.CodeMirror pre {font-family: %s, monospace; font-size: %spt;}\" % (DEFAULT_FONT, DEFAULT_FONTSIZE)\n",
    "\n",
    "def get_themes():\n",
    "    \"\"\" return list of available themes \"\"\"\n",
    "    path = THEMES_PATH\n",
    "    themes = [os.path.basename(theme).replace('.css', '')\n",
    "              for theme in glob('%s/*.css' % path)]\n",
    "    return themes\n",
    "\n",
    "\n",
    "def install_path(paths=[]):\n",
    "    \"\"\" return install path for profile, creates profile if profile does not exist\n",
    "    \"\"\"\n",
    "\n",
    "    #install to ~/.jupyter/custom\n",
    "    actual_jpath = os.path.expanduser(os.path.join(INSTALL_JPATH))\n",
    "    if not os.path.exists(actual_jpath):\n",
    "        os.makedirs(actual_jpath)\n",
    "    paths.append(actual_jpath)\n",
    "\n",
    "    return paths\n",
    "\n",
    "\n",
    "def install_theme(name, toolbar=False, fontsize='12', font='Hack'):\n",
    "    \"\"\" copy given theme to theme.css and import css in custom.css\n",
    "    \"\"\"\n",
    "\n",
    "    source_path = glob('%s/%s.css' % (THEMES_PATH, name))[0]\n",
    "    paths = install_path()\n",
    "    FONT_STRING=\"div.CodeMirror pre {font-family: %s, monospace; font-size: %spt;}\" % (font, fontsize)\n",
    "\n",
    "    for i, target_path in enumerate(paths):\n",
    "        # -- install theme\n",
    "        customcss_path = '%s/custom.css' % target_path\n",
    "        shutil.copy(source_path, customcss_path)\n",
    "        print(\"Installing %s at %s\" % (name, target_path))\n",
    "        fh, abs_path = mkstemp()\n",
    "        with open(abs_path, 'w') as cssfile:\n",
    "            with open(customcss_path) as old_file:\n",
    "                for line in old_file:\n",
    "                    if toolbar:\n",
    "                        print(\"Enabling toolbar\")\n",
    "                        # -- enable toolbar if requested\n",
    "                        RESTORE_TOOLBAR='/*'+DEFAULT_TOOLBAR_STRING+'*/'\n",
    "                        line = line.replace(DEFAULT_TOOLBAR_STRING,RESTORE_TOOLBAR)\n",
    "                    # -- set CodeCell font and fontsize\n",
    "                    line = line.replace(DEFAULT_FONT_STRING, FONT_STRING)\n",
    "                    cssfile.write(line)\n",
    "        os.close(fh)\n",
    "        os.remove(customcss_path)\n",
    "        shutil.move(abs_path, customcss_path)\n",
    "\n",
    "\n",
    "def edit_config(linewrap=False, iu=4):\n",
    "    \"\"\" toggle linewrapping and set size of indent unit\n",
    "        with notebook.json config file in ~/.jupyter/nbconfig/\n",
    "    \"\"\"\n",
    "    if linewrap:\n",
    "        lw='true'\n",
    "    else:\n",
    "        lw='false'\n",
    "\n",
    "    PARAMS_STRING = '{{\\n{:<2}\"CodeCell\": {{\\\n",
    "    \\n{:<4}\"cm_config\": {{\\\n",
    "    \\n{:<6}\"indentUnit\": {},\\\n",
    "    \\n{:<6}\"lineWrapping\": {}\\\n",
    "    \\n{:<4}}}\\n{:<2}}},\\\n",
    "    \\n{:<2}\"nbext_hide_incompat\": false\\n}}'.format('','','', iu,'',lw,'','','')\n",
    "\n",
    "    actual_config_path = os.path.expanduser(os.path.join(NBCONFIG_PATH))\n",
    "    if not os.path.exists(actual_config_path):\n",
    "        os.makedirs(actual_config_path)\n",
    "\n",
    "    config_file_path = '%s/notebook.json' % actual_config_path\n",
    "    with open(config_file_path, 'w+') as cfile:\n",
    "        cfile.write(PARAMS_STRING)\n",
    "\n",
    "\n",
    "def reset_default():\n",
    "    \"\"\" remove custom.css import\"\"\"\n",
    "    from jupyter_core.paths import jupyter_data_dir\n",
    "    jnb_cached = os.path.join(jupyter_data_dir(), 'nbextensions')\n",
    "\n",
    "    paths = [INSTALL_JPATH, jnb_cached]\n",
    "    for fpath in paths:\n",
    "        old = '%s/%s.css' % (fpath, 'custom')\n",
    "        old_save = '%s/%s.css' % (fpath, 'custom_old')\n",
    "        try:\n",
    "            shutil.copy(old, old_save)\n",
    "            os.remove(old)\n",
    "            print(\"Reset default theme here: %s\" % fpath)\n",
    "        except Exception:\n",
    "            print(\"Already set to default theme in %s\" % fpath)\n",
    "            pass\n",
    "\n",
    "\n",
    "def main():\n",
    "    parser = argparse.ArgumentParser()\n",
    "    parser.add_argument('-t', \"--theme\", action='store',\n",
    "                        help=\"name of the theme to install\")\n",
    "    parser.add_argument('-l', \"--list\", action='store_true',\n",
    "                        help=\"list available themes\")\n",
    "    parser.add_argument('-r', \"--reset\", action='store_true',\n",
    "                        help=\"reset to default theme\")\n",
    "    # notebook options\n",
    "    parser.add_argument('-T', \"--toolbar\", action='store_true',\n",
    "                        default=False,\n",
    "                        help=\"if specified will enable the toolbar\")\n",
    "    parser.add_argument('-fs', \"--fontsize\", action='store',\n",
    "                        default='12', help='set the CodeCell font-size')\n",
    "    parser.add_argument('-f', \"--font\", action='store',\n",
    "                        default='Hack', help='set the CodeCell font')\n",
    "    # nb config options\n",
    "    parser.add_argument('-lw', \"--linewrap\", action='store_true',\n",
    "                        default=False,\n",
    "                        help=\"if specified will enable linewrapping in code cells\")\n",
    "    parser.add_argument('-iu', \"--indentunit\", action='store',\n",
    "                        default='4', help=\"set indent unit for code cells\")\n",
    "    args = parser.parse_args()\n",
    "\n",
    "    if args.list:\n",
    "        themes = get_themes()\n",
    "        print(\"Themes in %s\" % THEMES_PATH)\n",
    "        print('\\n'.join(themes))\n",
    "        exit(0)\n",
    "    if args.theme:\n",
    "        themes = get_themes()\n",
    "        if args.theme not in themes:\n",
    "            print(\"Theme %s not found. Available: %s\"%(args.theme, ' '.join(themes)))\n",
    "            exit(1)\n",
    "        install_theme(args.theme, toolbar=args.toolbar, fontsize=str(args.fontsize), font=str(args.font))\n",
    "        exit(0)\n",
    "    if args.linewrap or args.indentunit!='4':\n",
    "        edit_config(linewrap=args.linewrap, iu=str(args.indentunit))\n",
    "    elif args.reset:\n",
    "        reset_default()\n"
   ]
  },
  {
   "cell_type": "code",
   "execution_count": 3,
   "metadata": {
    "collapsed": false
   },
   "outputs": [
    {
     "name": "stdout",
     "output_type": "stream",
     "text": [
      "Installing grade3 at /home/kyle/.jupyter/custom\n",
      "Installing grade3 at /home/kyle/.jupyter/custom\n",
      "Reset default theme here: /home/kyle/.jupyter/custom\n",
      "Already set to default theme in /home/kyle/.local/share/jupyter/nbextensions\n"
     ]
    }
   ],
   "source": [
    "install_theme('grade3', toolbar=False)\n",
    "reset_default()"
   ]
  },
  {
   "cell_type": "code",
   "execution_count": 9,
   "metadata": {
    "collapsed": true
   },
   "outputs": [],
   "source": [
    "df = pd.read_excel(\"/Users/kyle/Dropbox/CoAx/Projects/IGTob/reigtobesitypaper/IGTCards.xlsx\", names=[\"a\", 'b', 'c', 'd'], index_col=0, header=None, )"
   ]
  },
  {
   "cell_type": "code",
   "execution_count": 11,
   "metadata": {
    "collapsed": false
   },
   "outputs": [],
   "source": [
    "df.to_csv(\"/Users/kyle/Dropbox/CoAx/Projects/IGTob/IGTCards.csv\", index=False)"
   ]
  },
  {
   "cell_type": "code",
   "execution_count": 39,
   "metadata": {
    "collapsed": false
   },
   "outputs": [],
   "source": [
    "from scipy.io import loadmat\n",
    "#from datetime import datetime, date, time\n",
    "mat = loadmat(\"/Users/kyle/Dropbox/CoAx/Projects/IGTob/reigtobesitypaper/combined_AHAB_II_data.mat\")"
   ]
  },
  {
   "cell_type": "code",
   "execution_count": 40,
   "metadata": {
    "collapsed": false
   },
   "outputs": [],
   "source": [
    "matd = {k:v for k, v in mat.items() if k[0] != '_'}"
   ]
  },
  {
   "cell_type": "code",
   "execution_count": 58,
   "metadata": {
    "collapsed": false
   },
   "outputs": [],
   "source": [
    "igt_data.to_csv(\"/Users/kyle/Dropbox/CoAx/Projects/IGTob/IGT_data.csv\")"
   ]
  },
  {
   "cell_type": "code",
   "execution_count": 1,
   "metadata": {
    "collapsed": true
   },
   "outputs": [],
   "source": [
    "from jupyter_core.paths import jupyter_config_dir, jupyter_data_dir\n"
   ]
  },
  {
   "cell_type": "code",
   "execution_count": 2,
   "metadata": {
    "collapsed": true
   },
   "outputs": [],
   "source": [
    "import os.path\n",
    "import sys\n",
    "from jupyter_core.paths import jupyter_config_dir, jupyter_data_dir\n",
    "\n",
    "jnb_data_dir = os.path.join(jupyter_data_dir(), 'nbextensions')\n",
    "\n"
   ]
  },
  {
   "cell_type": "code",
   "execution_count": 3,
   "metadata": {
    "collapsed": false
   },
   "outputs": [
    {
     "data": {
      "text/plain": [
       "'/home/kyle/.local/share/jupyter/extensions'"
      ]
     },
     "execution_count": 3,
     "metadata": {},
     "output_type": "execute_result"
    }
   ],
   "source": [
    "z"
   ]
  },
  {
   "cell_type": "code",
   "execution_count": 4,
   "metadata": {
    "collapsed": false
   },
   "outputs": [
    {
     "data": {
      "text/plain": [
       "['/home/kyle/.local/share/jupyter/templates']"
      ]
     },
     "execution_count": 4,
     "metadata": {},
     "output_type": "execute_result"
    }
   ],
   "source": [
    "\n",
    "x"
   ]
  },
  {
   "cell_type": "code",
   "execution_count": null,
   "metadata": {
    "collapsed": true
   },
   "outputs": [],
   "source": []
  }
 ],
 "metadata": {
  "kernelspec": {
   "display_name": "Python 2",
   "language": "python",
   "name": "python2"
  },
  "language_info": {
   "codemirror_mode": {
    "name": "ipython",
    "version": 2
   },
   "file_extension": ".py",
   "mimetype": "text/x-python",
   "name": "python",
   "nbconvert_exporter": "python",
   "pygments_lexer": "ipython2",
   "version": "2.7.11"
  }
 },
 "nbformat": 4,
 "nbformat_minor": 0
}
