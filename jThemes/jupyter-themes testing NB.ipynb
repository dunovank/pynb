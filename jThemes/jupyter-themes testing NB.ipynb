{
 "cells": [
  {
   "cell_type": "code",
   "execution_count": 1,
   "metadata": {
    "collapsed": true
   },
   "outputs": [],
   "source": [
    "\"\"\"\n",
    "Juypiter theme installer\n",
    "Author: miraculixx at github.com\n",
    "# MODIFIED by dunovank at github.com\n",
    "\"\"\"\n",
    "from __future__ import print_function\n",
    "\n",
    "import os\n",
    "import shutil\n",
    "import argparse\n",
    "import subprocess\n",
    "from glob import glob\n",
    "from tempfile import mkstemp\n",
    "\n",
    "HOME = os.path.expanduser('~')\n",
    "INSTALL_JPATH = HOME + '/.jupyter/custom'\n",
    "NBCONFIG_PATH = HOME + '/.jupyter/nbconfig'\n",
    "THEMES_PATH = HOME + '/.jupyter-themes'\n",
    "\n",
    "DEFAULT_FONT='Hack'\n",
    "DEFAULT_FONTSIZE='11'\n",
    "DEFAULT_TOOLBAR_STRING='div#maintoolbar {display: none !important;}'\n",
    "DEFAULT_FONT_STRING=\"div.CodeMirror pre {font-family: %s, monospace; font-size: %spt;}\" % (DEFAULT_FONT, DEFAULT_FONTSIZE)\n",
    "\n",
    "\n",
    "def get_themes():\n",
    "    \"\"\" return list of available themes \"\"\"\n",
    "    path = THEMES_PATH\n",
    "    themes = [os.path.basename(theme).replace('.css', '')\n",
    "              for theme in glob('%s/*.css' % path)]\n",
    "    return themes\n",
    "\n",
    "\n",
    "def install_path(paths=[]):\n",
    "    \"\"\" return install path for profile, creates profile if profile does not exist \"\"\"\n",
    "\n",
    "    #install to ~/.jupyter/custom\n",
    "    actual_jpath = os.path.expanduser(os.path.join(INSTALL_JPATH))\n",
    "    if not os.path.exists(actual_jpath):\n",
    "        os.makedirs(actual_jpath)\n",
    "    paths.append(actual_jpath)\n",
    "\n",
    "    return paths\n",
    "\n",
    "\n",
    "def install_theme(name, toolbar=False, fontsize='12', font='Hack'):\n",
    "    \"\"\" copy given theme to theme.css and import css in custom.css \"\"\"\n",
    "\n",
    "    source_path = glob('%s/%s.css' % (THEMES_PATH, name))[0]\n",
    "    paths = install_path()\n",
    "    FONT_STRING=\"div.CodeMirror pre {font-family: %s, monospace; font-size: %spt;}\" % (font, fontsize)\n",
    "\n",
    "    for i, target_path in enumerate(paths):\n",
    "        # -- install theme\n",
    "        customcss_path = '%s/custom.css' % target_path\n",
    "\n",
    "        shutil.copy(source_path, customcss_path)\n",
    "\n",
    "        print(\"Installing %s at %s\" % (name, target_path))\n",
    "        # -- check if theme import is already there, otherwise add it\n",
    "\n",
    "        fh, abs_path = mkstemp()\n",
    "        with open(abs_path, 'w') as cssfile:\n",
    "            with open(customcss_path) as old_file:\n",
    "                for line in old_file:\n",
    "                    if toolbar:\n",
    "                        # -- enable toolbar if requested\n",
    "                        RESTORE_TOOLBAR='/*'+DEFAULT_TOOLBAR_STRING+'*/'\n",
    "                        line = line.replace(DEFAULT_TOOLBAR_STRING,RESTORE_TOOLBAR)\n",
    "                    # -- set CodeCell font and fontsize\n",
    "                    line = line.replace(DEFAULT_FONT_STRING, FONT_STRING)\n",
    "                    cssfile.write(line)\n",
    "        os.close(fh)\n",
    "        os.remove(customcss_path)\n",
    "        shutil.move(abs_path, customcss_path)\n",
    "\n",
    "\n",
    "def reset_default():\n",
    "    \"\"\" remove theme.css import \"\"\"\n",
    "    paths = install_path()\n",
    "    for actual_path in paths:\n",
    "        old = '%s/%s.css' % (actual_path, 'custom')\n",
    "        old_save = '%s/%s.css' % (actual_path, 'custom_old')\n",
    "        try:\n",
    "            shutil.copy(old, old_save)\n",
    "            os.remove(old)\n",
    "            print(\"Reset default theme here: %s\" % actual_path)\n",
    "        except Exception:\n",
    "            print(\"Already set to default theme in %s\" % actual_path)\n",
    "            pass\n",
    "\n",
    "\n",
    "def main():\n",
    "    parser = argparse.ArgumentParser()\n",
    "    parser.add_argument('-t', \"--theme\", action='store',\n",
    "                        help=\"name of the theme to install\")\n",
    "    parser.add_argument('-l', \"--list\", action='store_true',\n",
    "                        help=\"list available themes\")\n",
    "    parser.add_argument('-r', \"--reset\", action='store_true',\n",
    "                        help=\"reset to default theme\")\n",
    "    parser.add_argument('-T', \"--toolbar\", action='store_true',\n",
    "                        default=False,\n",
    "                        help=\"if specified will enable the toolbar\")\n",
    "    parser.add_argument('-fs', \"--fontsize\", action='store',\n",
    "                        default='12', help='set the CodeCell font-size')\n",
    "    parser.add_argument('-f', \"--font\", action='store',\n",
    "                        default='Hack', help='set the CodeCell font')\n",
    "    parser.add_argument('-p', \"--profile\", action='store',\n",
    "                        default=DEFAULT_PROFILE,\n",
    "                        help=\"set the profile, defaults to %s\" % DEFAULT_PROFILE)\n",
    "    args = parser.parse_args()\n",
    "\n",
    "    update=False\n",
    "    if args.list:\n",
    "        themes = get_themes()\n",
    "        print(\"Themes in %s\" % THEMES_PATH)\n",
    "        print('\\n'.join(themes))\n",
    "        exit(0)\n",
    "    if args.theme:\n",
    "        themes = get_themes()\n",
    "        if args.theme not in themes:\n",
    "            print(\"Theme %s not found. Available: %s\"%(args.theme, ' '.join(themes)))\n",
    "            exit(1)\n",
    "        if args.toolbar:\n",
    "            update=True\n",
    "            print(\"Enabling toolbar\")\n",
    "        else:\n",
    "            print(\"Toolbar is disabled. Set -T to enable\")\n",
    "        if args.fontsize!=DEFAULT_FONTSIZE:\n",
    "            update=True\n",
    "        install_theme(args.theme, profile=args.profile, toolbar=args.toolbar, fontsize=str(args.fontsize), font=str(args.font), update_properties=update)\n",
    "        exit(0)\n",
    "    if args.toolbar:\n",
    "        print(\"Enabling toolbar\")\n",
    "    else:\n",
    "        print(\"Toolbar is disabled. Set -T to enable\")\n",
    "    if args.reset:\n",
    "        reset_default(profile=args.profile)\n"
   ]
  },
  {
   "cell_type": "code",
   "execution_count": 19,
   "metadata": {
    "collapsed": false
   },
   "outputs": [
    {
     "name": "stdout",
     "output_type": "stream",
     "text": [
      "Reset default theme here: /Users/kyle/.jupyter/custom\n"
     ]
    }
   ],
   "source": [
    "#print(HOME)\n",
    "#install_theme('oceans16')\n",
    "reset_default()"
   ]
  },
  {
   "cell_type": "code",
   "execution_count": 122,
   "metadata": {
    "collapsed": true
   },
   "outputs": [],
   "source": [
    "def edit_config(linewrap=False, iu=4):\n",
    "\n",
    "    if linewrap:\n",
    "        lw='true'\n",
    "    else:\n",
    "        lw='false'\n",
    "        \n",
    "    PARAMS_STRING = '{{\\n{:<2}\"CodeCell\": {{\\\n",
    "    \\n{:<4}\"cm_config\": {{\\\n",
    "    \\n{:<6}\"indentUnit\": {},\\\n",
    "    \\n{:<6}\"lineWrapping\": {}\\\n",
    "    \\n{:<4}}}\\n{:<2}}},\\\n",
    "    \\n{:<2}\"nbext_hide_incompat\": false\\n}}'.format('', '', '', iu, '', lw, '', '', '')\n",
    "    \n",
    "    actual_config_path = os.path.expanduser(os.path.join(NBCONFIG_PATH))\n",
    "    if not os.path.exists(actual_config_path):\n",
    "        os.makedirs(actual_config_path)\n",
    "    \n",
    "    config_file_path = '%s/notebook_test.json' % actual_config_path\n",
    "    with open(config_file_path, 'w+') as cfile:\n",
    "        cfile.write(PARAMS_STRING)\n",
    "        "
   ]
  },
  {
   "cell_type": "code",
   "execution_count": 123,
   "metadata": {
    "collapsed": false
   },
   "outputs": [],
   "source": [
    "edit_config()"
   ]
  },
  {
   "cell_type": "code",
   "execution_count": 13,
   "metadata": {
    "collapsed": false
   },
   "outputs": [
    {
     "data": {
      "text/plain": [
       "['/Users/kyle/.jupyter-themes/oceans16.css']"
      ]
     },
     "execution_count": 13,
     "metadata": {},
     "output_type": "execute_result"
    }
   ],
   "source": [
    "name='oceans16'\n",
    "glob('%s/%s.css' % (THEMES_PATH, name))"
   ]
  },
  {
   "cell_type": "code",
   "execution_count": 111,
   "metadata": {
    "collapsed": false
   },
   "outputs": [],
   "source": [
    "x = '{{\\n{:<2}\"CodeCell\": {{\\n{:<4}\"cm_config\": {{\\n{:<6}\"indentUnit\": {},\\n{:<6}\"lineWrapping\": {}\\n{:<4}}}\\n{:<2}}},\\n{:<2}\"nbext_hide_incompat\": false\\n}}'.format('', '', '', 4, '', 'true', '', '', '')"
   ]
  },
  {
   "cell_type": "code",
   "execution_count": 112,
   "metadata": {
    "collapsed": false
   },
   "outputs": [
    {
     "name": "stdout",
     "output_type": "stream",
     "text": [
      "{\n",
      "  \"CodeCell\": {\n",
      "    \"cm_config\": {\n",
      "      \"indentUnit\": 4,\n",
      "      \"lineWrapping\": true\n",
      "    }\n",
      "  },\n",
      "  \"nbext_hide_incompat\": false\n",
      "}\n"
     ]
    }
   ],
   "source": [
    "print(x)"
   ]
  },
  {
   "cell_type": "code",
   "execution_count": 50,
   "metadata": {
    "collapsed": false
   },
   "outputs": [
    {
     "data": {
      "text/plain": [
       "'123     '"
      ]
     },
     "execution_count": 50,
     "metadata": {},
     "output_type": "execute_result"
    }
   ],
   "source": [
    "'{0: <8}'.format('123')"
   ]
  },
  {
   "cell_type": "code",
   "execution_count": null,
   "metadata": {
    "collapsed": true
   },
   "outputs": [],
   "source": [
    "{\n",
    "  \"CodeCell\": {\n",
    "    \"cm_config\": {\n",
    "      \"indentUnit\": 4,\n",
    "      \"lineWrapping\": true\n",
    "    }\n",
    "  },\n",
    "  \"nbext_hide_incompat\": false\n",
    "}"
   ]
  }
 ],
 "metadata": {
  "kernelspec": {
   "display_name": "Python 2",
   "language": "python",
   "name": "python2"
  },
  "language_info": {
   "codemirror_mode": {
    "name": "ipython",
    "version": 2
   },
   "file_extension": ".py",
   "mimetype": "text/x-python",
   "name": "python",
   "nbconvert_exporter": "python",
   "pygments_lexer": "ipython2",
   "version": "2.7.11"
  }
 },
 "nbformat": 4,
 "nbformat_minor": 0
}
