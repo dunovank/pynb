{
 "metadata": {
  "name": "",
  "signature": "sha256:6cd1b529155c2f9d091e3ee3063116a0885e3796cd0355bbc5bdbfb3d5faff5d"
 },
 "nbformat": 3,
 "nbformat_minor": 0,
 "worksheets": [
  {
   "cells": [
    {
     "cell_type": "code",
     "collapsed": false,
     "input": [
      "from __future__ import division\n",
      "import numpy as np\n",
      "import scipy.stats as stats\n",
      "import pandas as pd\n",
      "import matplotlib.pyplot as plt\n",
      "%matplotlib inline\n",
      "import os\n",
      "from radd import utils, fitpro\n",
      "from lmfit import Minimizer, Parameters\n",
      "from collections import OrderedDict\n",
      "pth=utils.find_path()"
     ],
     "language": "python",
     "metadata": {},
     "outputs": [],
     "prompt_number": 10
    },
    {
     "cell_type": "heading",
     "level": 1,
     "metadata": {},
     "source": [
      "Read DFs"
     ]
    },
    {
     "cell_type": "code",
     "collapsed": false,
     "input": [
      "utils=reload(utils); \n",
      "\n",
      "#df to resample for pstop\n",
      "origdf=pd.read_csv(pth+\"DataFiles/Pro_AllData.csv\", index_col=0)\n",
      "\n",
      "#init params df\n",
      "paramdf=pd.read_csv(pth+\"ParamFiles/ProBSL_HDDM_Params.csv\", index_col='subj_idx')\n",
      "\n",
      "#go to proactive bootstrap directory\n",
      "os.chdir(utils.find_path()+\"OptAccRT/proboot/\")\n"
     ],
     "language": "python",
     "metadata": {},
     "outputs": [],
     "prompt_number": 11
    },
    {
     "cell_type": "heading",
     "level": 1,
     "metadata": {},
     "source": [
      "Run Main Bootstrapping function here"
     ]
    },
    {
     "cell_type": "code",
     "collapsed": false,
     "input": [
      "fitpro=reload(fitpro); utils=reload(utils)\n",
      "\n",
      "#testdf=origdf[origdf.subj_idx.isin([28,29,30,31])]\n",
      "rtpred, pspred=main_proboot(origdf, paramdf, niter=50, ntrials=2000)\n"
     ],
     "language": "python",
     "metadata": {},
     "outputs": []
    },
    {
     "cell_type": "heading",
     "level": 1,
     "metadata": {},
     "source": [
      "Main Bootstrapping Function"
     ]
    },
    {
     "cell_type": "code",
     "collapsed": false,
     "input": [
      "def main_proboot(data, params, niter=150, ntrials=2000):\n",
      "\n",
      "    pth=utils.find_path()+\"OptAccRT/proboot/\"\n",
      "\n",
      "    inits=params.mean()\n",
      "    fit_results=list()\n",
      "    pgolist=[0,20,40,60,80,100]\n",
      "    ps_pred=pd.DataFrame(columns=pgolist, index=np.arange(niter))\n",
      "    rt_pred=pd.DataFrame(columns=pgolist, index=np.arange(niter))\n",
      "    \n",
      "    for i in range(niter):\n",
      "        \n",
      "        psdf=pd.DataFrame(columns=pgolist, index=data.subj_idx.unique())\n",
      "        rtdf=pd.DataFrame(columns=pgolist, index=data.subj_idx.unique())\n",
      "        \n",
      "        # sample proportionally based on condition\n",
      "        # like generating synthetic sx THEN averging\n",
      "        # more similar to how we calculated the \n",
      "        # empirical means we fit on, better index of \n",
      "        # observed variability\n",
      "        for nsample in psdf.index.values:    \n",
      "            samplep, samplert = resample_proactive(data)\n",
      "            #return samplert\n",
      "            rtdf.loc[nsample,:]=samplert\n",
      "            psdf.loc[nsample, :]=samplep\n",
      "            #print rtdf\n",
      "        xRT=rtdf.mean().values\n",
      "        xP=psdf.mean().values\n",
      "\n",
      "        fits_i, rts_i, ps_i = fit_proactive(xP, xRT, inits, ntrials=ntrials, nx=i, pgolist=pgolist)\n",
      "        \n",
      "        fit_results.append(fits_i)   \n",
      "        rt_pred.loc[i,:]=np.array(rts_i)\n",
      "        ps_pred.loc[i,:]=np.array(ps_i)\n",
      "        \n",
      "        rt_pred.to_csv(pth+\"subsample_rts_proboot.csv\", index=False)\n",
      "        ps_pred.to_csv(pth+\"subsample_ps_proboot.csv\", index=False)\n",
      "    \n",
      "    fit_df=pd.concat(fit_results)    \n",
      "    fit_df.to_csv(pth+\"subsample_fits_proboot.csv\", index=False)\n",
      "    \n",
      "    return rt_pred, ps_pred"
     ],
     "language": "python",
     "metadata": {},
     "outputs": [],
     "prompt_number": 3
    },
    {
     "cell_type": "heading",
     "level": 1,
     "metadata": {},
     "source": [
      "Fit single proactive dataset"
     ]
    },
    {
     "cell_type": "code",
     "collapsed": false,
     "input": [
      "def fit_proactive(xP, xRT, inits={}, ntrials=2000, nx=0, **kwargs):\n",
      "    \n",
      "    if 'pgo' not in kwargs.keys():\n",
      "        pgo=[0.0,0.2,0.4,0.6,0.8,1.0]\n",
      "    rts_i=[]; ps_i=[]\n",
      "    inits['ssd']=.450\n",
      "    fit_results=pd.DataFrame(columns=['n','pGo', 'v', 'bxp', 'pfit', 'bxrt', 'rtfit', 'chi'], index=pgo)\n",
      "    \n",
      "    for i, pg in enumerate(pgo):\n",
      "        \n",
      "        if pg<.5:\n",
      "            vinit=inits['v(Lo)']\n",
      "        else:    \n",
      "            vinit=inits['v(Hi)']\n",
      "        \n",
      "        inits['pGo']=pg\n",
      "        y=np.array([xP[i], xRT[i]*10])\n",
      "        \n",
      "        p=Parameters()\n",
      "        p.add('v', value=vinit, min=0.0, vary=True)\n",
      "        popt = Minimizer(fitpro.sspro_minfunc, p, fcn_args=(inits, y, ntrials), method='Nelder-Mead') \n",
      "        popt.fmin(maxfun=1000, ftol=1.e-2, xtol=1.e-2, full_output=True, disp=True)\n",
      "        \n",
      "        x2=popt.chisqr\n",
      "        psim=y[0]+popt.residual[0]\n",
      "        rtsim=y[1]+popt.residual[1]\n",
      "        \n",
      "        fit_results.loc[pg,:]=pd.Series(OrderedDict([('n',int(nx)),('pGo',i*20), \n",
      "                            ('v',p['v'].value), ('bxp',y[0]), ('pfit',psim), ('bxrt',y[1]), \n",
      "                            ('rtfit',rtsim), ('chi',x2)]))\n",
      "        \n",
      "        rts_i.append(rtsim); ps_i.append(psim)\n",
      "    \n",
      "    return fit_results, rts_i, ps_i"
     ],
     "language": "python",
     "metadata": {},
     "outputs": [],
     "prompt_number": 7
    },
    {
     "cell_type": "heading",
     "level": 1,
     "metadata": {},
     "source": [
      "Resample proactive dataset"
     ]
    },
    {
     "cell_type": "code",
     "collapsed": false,
     "input": [
      "def resample_proactive(df, n=None):\n",
      "    \n",
      "    pvec=list(); rtvec=list()\n",
      "    \n",
      "    df=df.copy()\n",
      "    \n",
      "    for pg, pgdf in df.groupby('pGo'):\n",
      "        \n",
      "        if pg<1:\n",
      "            n=80\n",
      "        else:\n",
      "            n=100\n",
      "            \n",
      "        boots = pgdf.reset_index(drop=True)\n",
      "        orig_ix=np.asarray(boots.index[:])\n",
      "        \n",
      "        resampled_ix=rwr(orig_ix, get_index=True, n=n)\n",
      "        bootdf=pgdf.irow(resampled_ix)\n",
      "        \n",
      "        pvec.append(1 - bootdf.response.mean())\n",
      "        bootgo=bootdf.ix[(bootdf['response']==1)&(bootdf['rt']<=.5451)]\n",
      "        rtvec.append(bootgo.rt.mean())\n",
      "        \n",
      "    return pvec, rtvec"
     ],
     "language": "python",
     "metadata": {},
     "outputs": [],
     "prompt_number": 8
    },
    {
     "cell_type": "heading",
     "level": 1,
     "metadata": {},
     "source": [
      "Generic resample with replacement algorithm"
     ]
    },
    {
     "cell_type": "code",
     "collapsed": false,
     "input": [
      "def rwr(X, get_index=False, n=None):\n",
      "    \n",
      "    \"\"\"\n",
      "    Modified from http://nbviewer.ipython.org/gist/aflaxman/6871948\n",
      "    \"\"\"\n",
      "    #np.random.seed(123456)\n",
      "\n",
      "    if isinstance(X, pd.Series):\n",
      "        X = X.copy()\n",
      "        X.index = range(len(X.index))\n",
      "    if n == None:\n",
      "        n = len(X)\n",
      "    \n",
      "    \n",
      "    resample_i = np.floor(np.random.rand(n)*len(X)).astype(int)\n",
      "    X_resample = np.array(X[resample_i])\n",
      "    \n",
      "    if get_index:\n",
      "        return resample_i\n",
      "    else:\n",
      "        return X_resample"
     ],
     "language": "python",
     "metadata": {},
     "outputs": [],
     "prompt_number": 9
    },
    {
     "cell_type": "heading",
     "level": 1,
     "metadata": {},
     "source": [
      "Old..."
     ]
    },
    {
     "cell_type": "heading",
     "level": 1,
     "metadata": {},
     "source": [
      "Old..."
     ]
    },
    {
     "cell_type": "heading",
     "level": 1,
     "metadata": {},
     "source": [
      "Old..."
     ]
    },
    {
     "cell_type": "heading",
     "level": 1,
     "metadata": {},
     "source": [
      "Old..."
     ]
    },
    {
     "cell_type": "code",
     "collapsed": false,
     "input": [
      "def rwr_old(X, n=None):\n",
      "    \n",
      "    if isinstance(X, pd.Series):\n",
      "        X = X.copy()\n",
      "        X.index = range(len(X.index))\n",
      "    if n == None:\n",
      "        n = len(X)\n",
      "        \n",
      "    resample_i = np.floor(np.random.rand(n)*len(X)).astype(int)\n",
      "    X_resample = np.array(X[resample_i])\n",
      "\n",
      "    return X_resample\n"
     ],
     "language": "python",
     "metadata": {},
     "outputs": [],
     "prompt_number": 366
    },
    {
     "cell_type": "code",
     "collapsed": false,
     "input": [
      "def resample_proactive_old(df):\n",
      "    \n",
      "    bootlist=list()\n",
      "    for pg, pgdf in df.groupby('pGo'):\n",
      "        \n",
      "        pgdf_boot = pgdf.copy()\n",
      "        \n",
      "        #get response/rt vectors\n",
      "        pvec=pgdf['response'].values\n",
      "        rtvec=pgdf['rt'].values\n",
      "\n",
      "        #resample data for condition pg\n",
      "        xP=rwr(pvec)\n",
      "        xRT=rwr(rtvec)\n",
      "        xRT=xRT\n",
      "        \n",
      "        #fill bootstrap df with resampled trials\n",
      "        pgdf_boot['response']=xP\n",
      "        pgdf_boot['rt']=xRT\n",
      "\n",
      "        bootlist.append(pgdf_boot)\n",
      "    \n",
      "    #concatenate all resampled conditions\n",
      "    bootdf=pd.concat(bootlist)\n",
      "    pvec = 1 - bootdf.groupby('pGo').mean()['response'].values\n",
      "    \n",
      "    boot_godf=bootdf.ix[(bootdf['response']==1)&(bootdf['rt']<=.5451)]\n",
      "    rtvec = boot_godf.groupby('pGo').mean()['rt']\n",
      "    \n",
      "    return pvec, rtvec"
     ],
     "language": "python",
     "metadata": {},
     "outputs": [],
     "prompt_number": 367
    },
    {
     "cell_type": "code",
     "collapsed": false,
     "input": [
      "def bootstrap_resample(X, n=None):\n",
      "    \n",
      "    \n",
      "    \"\"\"\n",
      "    CODE WAS COPIED FROM \n",
      "    http://nbviewer.ipython.org/gist/aflaxman/6871948\n",
      "    \"\"\"\n",
      "    \n",
      "    \n",
      "    \n",
      "    \"\"\" Bootstrap resample an array_like\n",
      "    Parameters\n",
      "    ----------\n",
      "    X : array_like\n",
      "      data to resample\n",
      "    n : int, optional\n",
      "      length of resampled array, equal to len(X) if n==None\n",
      "    Results\n",
      "    -------\n",
      "    returns X_resamples\n",
      "    \"\"\"\n",
      "    if n == None:\n",
      "        n = len(X)\n",
      "        \n",
      "    resample_i = np.floor(np.random.rand(n)*len(X)).astype(int)\n",
      "    X_resample = X[resample_i]\n",
      "    return X_resample"
     ],
     "language": "python",
     "metadata": {},
     "outputs": [],
     "prompt_number": 17
    },
    {
     "cell_type": "code",
     "collapsed": false,
     "input": [
      "def test_bsr_on_df():\n",
      "\n",
      "    \"\"\"\n",
      "    CODE WAS COPIED FROM \n",
      "    http://nbviewer.ipython.org/gist/aflaxman/6871948\n",
      "    \"\"\"\n",
      "    \n",
      "    \n",
      "    # test that means are close for pd.DataFrame with unusual index\n",
      "    np.random.seed(123456)  # set seed so that randomness does not lead to failed test\n",
      "    X = pd.Series(arange(10000), index=arange(10000)*10)\n",
      "    \n",
      "    X_resample = bootstrap_resample(X, 5000)\n",
      "    print X_resample.mean(), X.mean()\n",
      "    assert abs(X_resample.mean() - X.mean()) / X.mean() < 1e-2, 'means should be approximately equal'\n",
      "    \n",
      "    test_bsr_on_df()"
     ],
     "language": "python",
     "metadata": {},
     "outputs": [
      {
       "output_type": "stream",
       "stream": "stdout",
       "text": [
        "5035.0484 4999.5\n"
       ]
      }
     ],
     "prompt_number": 24
    },
    {
     "cell_type": "code",
     "collapsed": false,
     "input": [
      "xRT = bootstrap_resample(x_rt, n=5000)\n",
      "print 'original rt:', x_rt.mean()\n",
      "print 'resampled rt:', xRT.mean(),'\\n'\n",
      "\n",
      "xP = bootstrap_resample(x_p, n=5000)\n",
      "print 'original p(response):', x_p.mean()\n",
      "print 'resampled p(response):', xP.mean()"
     ],
     "language": "python",
     "metadata": {},
     "outputs": []
    },
    {
     "cell_type": "code",
     "collapsed": false,
     "input": [
      "def fit_proactive(xP, xRT, inits={}, ntrials=2000, **kwargs):\n",
      "    \n",
      "    if 'pgo' not in kwargs.keys():\n",
      "        pgo=list(np.arange(0,1.2,.2))\n",
      "    \n",
      "    inits['ssd']=.450; x2fits=list()\n",
      "    \n",
      "    fit_results=pd.DataFrame(columns=['pGo', 'v', 'xp', \n",
      "                            'psim', 'xrt', 'rtsim', \n",
      "                             'chi'], index=pgo)\n",
      "    \n",
      "    for i, pg in enumerate(pgo):\n",
      "        if pg<.5:\n",
      "            vinit=inits['v(Lo)']\n",
      "        else:    \n",
      "            vinit=inits['v(Hi)']\n",
      "        \n",
      "        inits['pGo']=pg\n",
      "        y=np.array([xP[i], xRT[i]*10])\n",
      "        \n",
      "        p=Parameters()\n",
      "        p.add('v', value=vinit, min=0.0, vary=True)\n",
      "        popt = Minimizer(fitpro.sspro_minfunc, p, fcn_args=(inits, y, ntrials), method='Nelder-Mead') \n",
      "        popt.fmin(maxfun=10, ftol=1.e-3, xtol=1.e-3, full_output=True, disp=True)\n",
      "        \n",
      "        print popt.residual\n",
      "        psim=y[0]+popt.residual\n",
      "        #if hasattr(popt, 'chisqr'):\n",
      "        try:\n",
      "            x2=popt.chisqr[0]\n",
      "        except Exception:\n",
      "            x2=popt.chisqr\n",
      "        \n",
      "        try:\n",
      "            psim=xP[i]+popt.residual[0][0]\n",
      "        except Exception:\n",
      "            psim=xRT[i]+popt.residual[0]\n",
      "        except:\n",
      "            psim=-999\n",
      "        \n",
      "        try:\n",
      "            rtsim=xRT[i]+popt.residual[1][0]\n",
      "        except Exception:\n",
      "            rtsim=xRT[i]+popt.residual[1]\n",
      "        except:\n",
      "            rtsim=-999\n",
      "            \n",
      "            \n",
      "        fit_results.loc[pg,:]=pd.Series(OrderedDict([('pGo',pg), ('v',p['v'].value), \n",
      "                                        ('xp',xP[i]), ('psim',psim), ('xrt',xRT[i]), \n",
      "                                        ('rtsim',rtsim), ('chi',x2)]))\n",
      "    \n",
      "    return fit_results"
     ],
     "language": "python",
     "metadata": {},
     "outputs": [],
     "prompt_number": 103
    }
   ],
   "metadata": {}
  }
 ]
}