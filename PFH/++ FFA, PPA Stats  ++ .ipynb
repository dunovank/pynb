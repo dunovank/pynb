{
 "cells": [
  {
   "cell_type": "code",
   "execution_count": 1,
   "metadata": {
    "collapsed": false
   },
   "outputs": [],
   "source": [
    "from __future__ import division\n",
    "from scipy import stats\n",
    "from scipy.stats.stats import pearsonr, spearmanr\n",
    "import scikits.bootstrap as boot\n",
    "from scipy.stats import ttest_rel\n",
    "import itertools\n",
    "import pyvttbl\n",
    "from pyvttbl import DataFrame as DF\n",
    "from pyvttbl.stats import Anova, Anova1way\n",
    "\n",
    "colors=[\"#0000B8\",'#005CE6',\"#89a0ff\",\"#990000\" ,'#FF1919', \"#ea8989\"]\n",
    "clist=[blues[-4], blues[-3], reds[-4], reds[-2]]"
   ]
  },
  {
   "cell_type": "code",
   "execution_count": 28,
   "metadata": {
    "collapsed": false
   },
   "outputs": [
    {
     "data": {
      "text/plain": [
       "0      0.2540\n",
       "1      0.2668\n",
       "2      0.2664\n",
       "3      0.3539\n",
       "4      0.5399\n",
       "5      0.3666\n",
       "6      0.1057\n",
       "7      0.1820\n",
       "8      0.0888\n",
       "9      0.5832\n",
       "10     0.4752\n",
       "11     0.7173\n",
       "12     1.5460\n",
       "13     0.9781\n",
       "14     0.9146\n",
       "        ...  \n",
       "156    0.4805\n",
       "157    0.5604\n",
       "158    0.3717\n",
       "159    0.0966\n",
       "160    0.0767\n",
       "161    0.0504\n",
       "162    0.0327\n",
       "163    0.0054\n",
       "164    0.0839\n",
       "165    0.2242\n",
       "166    0.1293\n",
       "167    0.1969\n",
       "168    0.0026\n",
       "169    0.1681\n",
       "170    0.2095\n",
       "dtype: float64"
      ]
     },
     "execution_count": 28,
     "metadata": {},
     "output_type": "execute_result"
    }
   ],
   "source": [
    "wtc_ffa.loc[:, '1':'12'].max(axis=1)"
   ]
  },
  {
   "cell_type": "code",
   "execution_count": 23,
   "metadata": {
    "collapsed": false
   },
   "outputs": [],
   "source": [
    "os.chdir('/Users/kyle/Dropbox/PFH/iPFH/idxPK')\n",
    "\n",
    "#WIN Stim Phase Peaks coded by Cue in FFA\n",
    "wpk_ffa=pd.read_csv(\"ffa_rho_df.csv\", index_col='idx')\n",
    "\n",
    "#just grab the stim phase\n",
    "ffa_cstim = wpk_ffa[['hcF', 'ncF', 'fcF', 'hcH', 'ncH', 'fcH']]"
   ]
  },
  {
   "cell_type": "markdown",
   "metadata": {},
   "source": [
    "###Wide-Format \n",
    "* each condition as a column\n",
    "* each row is a subject\n",
    "* values in matrix are observed values of DV \n",
    "    \n",
    "###Long-Format\n",
    "* columns are SubjectID and names of  IV(s), DV(s)\n",
    "* SubjectID contain ID name for every combination if IV factors \n",
    "    * i.e. Subject 1 occurs 8 times if Design is  IV1(2 levels) X IV2(4 levels)\n",
    "\n",
    "* **rows in IV column**: name of IV levels are levels\n",
    "* **rows in DV column**: observed value for conditon name in that row"
   ]
  },
  {
   "cell_type": "code",
   "execution_count": 98,
   "metadata": {
    "collapsed": true
   },
   "outputs": [
    {
     "data": {
      "text/html": [
       "<div style=\"max-height:1000px;max-width:1500px;overflow:auto;\">\n",
       "<table border=\"1\" class=\"dataframe\">\n",
       "  <thead>\n",
       "    <tr style=\"text-align: right;\">\n",
       "      <th></th>\n",
       "      <th>hcF</th>\n",
       "      <th>ncF</th>\n",
       "      <th>fcF</th>\n",
       "      <th>hcH</th>\n",
       "      <th>ncH</th>\n",
       "      <th>fcH</th>\n",
       "    </tr>\n",
       "    <tr>\n",
       "      <th>idx</th>\n",
       "      <th></th>\n",
       "      <th></th>\n",
       "      <th></th>\n",
       "      <th></th>\n",
       "      <th></th>\n",
       "      <th></th>\n",
       "    </tr>\n",
       "  </thead>\n",
       "  <tbody>\n",
       "    <tr>\n",
       "      <th>8 </th>\n",
       "      <td> 0.3539</td>\n",
       "      <td> 0.5399</td>\n",
       "      <td> 0.3666</td>\n",
       "      <td> 0.1057</td>\n",
       "      <td> 0.1820</td>\n",
       "      <td> 0.0888</td>\n",
       "    </tr>\n",
       "    <tr>\n",
       "      <th>10</th>\n",
       "      <td> 1.5460</td>\n",
       "      <td> 0.9781</td>\n",
       "      <td> 0.9146</td>\n",
       "      <td> 0.4596</td>\n",
       "      <td> 0.1573</td>\n",
       "      <td> 0.4097</td>\n",
       "    </tr>\n",
       "    <tr>\n",
       "      <th>11</th>\n",
       "      <td> 0.2857</td>\n",
       "      <td> 0.1608</td>\n",
       "      <td> 0.2483</td>\n",
       "      <td> 0.0158</td>\n",
       "      <td> 0.2287</td>\n",
       "      <td> 0.2283</td>\n",
       "    </tr>\n",
       "  </tbody>\n",
       "</table>\n",
       "</div>"
      ],
      "text/plain": [
       "        hcF     ncF     fcF     hcH     ncH     fcH\n",
       "idx                                                \n",
       "8    0.3539  0.5399  0.3666  0.1057  0.1820  0.0888\n",
       "10   1.5460  0.9781  0.9146  0.4596  0.1573  0.4097\n",
       "11   0.2857  0.1608  0.2483  0.0158  0.2287  0.2283"
      ]
     },
     "execution_count": 98,
     "metadata": {},
     "output_type": "execute_result"
    }
   ],
   "source": [
    "# Wide\n",
    "ffa_cstim.head(3)"
   ]
  },
  {
   "cell_type": "markdown",
   "metadata": {},
   "source": [
    "In order to run a rep. measures anova we need the data to be in a long-format style, where we have a column for each of our IVs (all rows are levels of IV) and DVs (all rows the value observed for the condition in the IV column)"
   ]
  },
  {
   "cell_type": "code",
   "execution_count": 3,
   "metadata": {
    "collapsed": false
   },
   "outputs": [
    {
     "data": {
      "text/html": [
       "<div>\n",
       "<table border=\"1\" class=\"dataframe\">\n",
       "  <thead>\n",
       "    <tr style=\"text-align: right;\">\n",
       "      <th></th>\n",
       "      <th>idx</th>\n",
       "      <th>cstim</th>\n",
       "      <th>peak</th>\n",
       "    </tr>\n",
       "  </thead>\n",
       "  <tbody>\n",
       "    <tr>\n",
       "      <th>0</th>\n",
       "      <td>8</td>\n",
       "      <td>hcF</td>\n",
       "      <td>0.3539</td>\n",
       "    </tr>\n",
       "    <tr>\n",
       "      <th>1</th>\n",
       "      <td>8</td>\n",
       "      <td>ncF</td>\n",
       "      <td>0.5399</td>\n",
       "    </tr>\n",
       "    <tr>\n",
       "      <th>2</th>\n",
       "      <td>8</td>\n",
       "      <td>fcF</td>\n",
       "      <td>0.3666</td>\n",
       "    </tr>\n",
       "    <tr>\n",
       "      <th>3</th>\n",
       "      <td>8</td>\n",
       "      <td>hcH</td>\n",
       "      <td>0.1057</td>\n",
       "    </tr>\n",
       "    <tr>\n",
       "      <th>4</th>\n",
       "      <td>8</td>\n",
       "      <td>ncH</td>\n",
       "      <td>0.1820</td>\n",
       "    </tr>\n",
       "    <tr>\n",
       "      <th>5</th>\n",
       "      <td>8</td>\n",
       "      <td>fcH</td>\n",
       "      <td>0.0888</td>\n",
       "    </tr>\n",
       "    <tr>\n",
       "      <th>6</th>\n",
       "      <td>10</td>\n",
       "      <td>hcF</td>\n",
       "      <td>1.5460</td>\n",
       "    </tr>\n",
       "    <tr>\n",
       "      <th>7</th>\n",
       "      <td>10</td>\n",
       "      <td>ncF</td>\n",
       "      <td>0.9781</td>\n",
       "    </tr>\n",
       "    <tr>\n",
       "      <th>8</th>\n",
       "      <td>10</td>\n",
       "      <td>fcF</td>\n",
       "      <td>0.9146</td>\n",
       "    </tr>\n",
       "    <tr>\n",
       "      <th>9</th>\n",
       "      <td>10</td>\n",
       "      <td>hcH</td>\n",
       "      <td>0.4596</td>\n",
       "    </tr>\n",
       "    <tr>\n",
       "      <th>10</th>\n",
       "      <td>10</td>\n",
       "      <td>ncH</td>\n",
       "      <td>0.1573</td>\n",
       "    </tr>\n",
       "    <tr>\n",
       "      <th>11</th>\n",
       "      <td>10</td>\n",
       "      <td>fcH</td>\n",
       "      <td>0.4097</td>\n",
       "    </tr>\n",
       "  </tbody>\n",
       "</table>\n",
       "</div>"
      ],
      "text/plain": [
       "    idx cstim    peak\n",
       "0     8   hcF  0.3539\n",
       "1     8   ncF  0.5399\n",
       "2     8   fcF  0.3666\n",
       "3     8   hcH  0.1057\n",
       "4     8   ncH  0.1820\n",
       "5     8   fcH  0.0888\n",
       "6    10   hcF  1.5460\n",
       "7    10   ncF  0.9781\n",
       "8    10   fcF  0.9146\n",
       "9    10   hcH  0.4596\n",
       "10   10   ncH  0.1573\n",
       "11   10   fcH  0.4097"
      ]
     },
     "execution_count": 3,
     "metadata": {},
     "output_type": "execute_result"
    }
   ],
   "source": [
    "# Stack to multi-index with all column names nested under each subject idx\n",
    "# then reset the index (single level), name the DV peak\n",
    "ffa_cs_long = ffa_cstim.stack().reset_index(name='peak')\n",
    "# old column names now rows (N times) and need a name \n",
    "# (defaults to \"level_1\" after reset)\n",
    "ffa_cs_long.rename(columns={'level_1':'cstim'}, inplace=True)\n",
    "ffa_cs_long.head(12)"
   ]
  },
  {
   "cell_type": "markdown",
   "metadata": {},
   "source": [
    "## 2-way repeated measures ANOVA \n",
    "we need to split up cstim so that we have separate columns for cue and stimulus for each trial \n",
    "\n",
    "#### Current Format:\n",
    "* **cstim**: [hcF, ncF, fcF, hcH, ncH, fcH] x N\n",
    "\n",
    "#### Transformed: \n",
    "* **stim**: [F, H] x N x 3 (cue levels)\n",
    "* **cue**: [hc, nc, fc] x N x 2 (stim levels)"
   ]
  },
  {
   "cell_type": "code",
   "execution_count": 109,
   "metadata": {
    "collapsed": false
   },
   "outputs": [],
   "source": [
    "ffa_cs_long['cue']=[cs[:2] for cs in ffa_cs_long['cstim']]\n",
    "ffa_cs_long['stim']=[cs[-1] for cs in ffa_cs_long['cstim']]"
   ]
  },
  {
   "cell_type": "code",
   "execution_count": 111,
   "metadata": {
    "collapsed": true
   },
   "outputs": [
    {
     "data": {
      "text/html": [
       "<div style=\"max-height:1000px;max-width:1500px;overflow:auto;\">\n",
       "<table border=\"1\" class=\"dataframe\">\n",
       "  <thead>\n",
       "    <tr style=\"text-align: right;\">\n",
       "      <th></th>\n",
       "      <th>idx</th>\n",
       "      <th>cstim</th>\n",
       "      <th>peak</th>\n",
       "      <th>cue</th>\n",
       "      <th>stim</th>\n",
       "    </tr>\n",
       "  </thead>\n",
       "  <tbody>\n",
       "    <tr>\n",
       "      <th>0 </th>\n",
       "      <td>  8</td>\n",
       "      <td> hcF</td>\n",
       "      <td> 0.3539</td>\n",
       "      <td> hc</td>\n",
       "      <td> F</td>\n",
       "    </tr>\n",
       "    <tr>\n",
       "      <th>1 </th>\n",
       "      <td>  8</td>\n",
       "      <td> ncF</td>\n",
       "      <td> 0.5399</td>\n",
       "      <td> nc</td>\n",
       "      <td> F</td>\n",
       "    </tr>\n",
       "    <tr>\n",
       "      <th>2 </th>\n",
       "      <td>  8</td>\n",
       "      <td> fcF</td>\n",
       "      <td> 0.3666</td>\n",
       "      <td> fc</td>\n",
       "      <td> F</td>\n",
       "    </tr>\n",
       "    <tr>\n",
       "      <th>3 </th>\n",
       "      <td>  8</td>\n",
       "      <td> hcH</td>\n",
       "      <td> 0.1057</td>\n",
       "      <td> hc</td>\n",
       "      <td> H</td>\n",
       "    </tr>\n",
       "    <tr>\n",
       "      <th>4 </th>\n",
       "      <td>  8</td>\n",
       "      <td> ncH</td>\n",
       "      <td> 0.1820</td>\n",
       "      <td> nc</td>\n",
       "      <td> H</td>\n",
       "    </tr>\n",
       "    <tr>\n",
       "      <th>5 </th>\n",
       "      <td>  8</td>\n",
       "      <td> fcH</td>\n",
       "      <td> 0.0888</td>\n",
       "      <td> fc</td>\n",
       "      <td> H</td>\n",
       "    </tr>\n",
       "    <tr>\n",
       "      <th>6 </th>\n",
       "      <td> 10</td>\n",
       "      <td> hcF</td>\n",
       "      <td> 1.5460</td>\n",
       "      <td> hc</td>\n",
       "      <td> F</td>\n",
       "    </tr>\n",
       "    <tr>\n",
       "      <th>7 </th>\n",
       "      <td> 10</td>\n",
       "      <td> ncF</td>\n",
       "      <td> 0.9781</td>\n",
       "      <td> nc</td>\n",
       "      <td> F</td>\n",
       "    </tr>\n",
       "    <tr>\n",
       "      <th>8 </th>\n",
       "      <td> 10</td>\n",
       "      <td> fcF</td>\n",
       "      <td> 0.9146</td>\n",
       "      <td> fc</td>\n",
       "      <td> F</td>\n",
       "    </tr>\n",
       "    <tr>\n",
       "      <th>9 </th>\n",
       "      <td> 10</td>\n",
       "      <td> hcH</td>\n",
       "      <td> 0.4596</td>\n",
       "      <td> hc</td>\n",
       "      <td> H</td>\n",
       "    </tr>\n",
       "    <tr>\n",
       "      <th>10</th>\n",
       "      <td> 10</td>\n",
       "      <td> ncH</td>\n",
       "      <td> 0.1573</td>\n",
       "      <td> nc</td>\n",
       "      <td> H</td>\n",
       "    </tr>\n",
       "    <tr>\n",
       "      <th>11</th>\n",
       "      <td> 10</td>\n",
       "      <td> fcH</td>\n",
       "      <td> 0.4097</td>\n",
       "      <td> fc</td>\n",
       "      <td> H</td>\n",
       "    </tr>\n",
       "  </tbody>\n",
       "</table>\n",
       "</div>"
      ],
      "text/plain": [
       "    idx cstim    peak cue stim\n",
       "0     8   hcF  0.3539  hc    F\n",
       "1     8   ncF  0.5399  nc    F\n",
       "2     8   fcF  0.3666  fc    F\n",
       "3     8   hcH  0.1057  hc    H\n",
       "4     8   ncH  0.1820  nc    H\n",
       "5     8   fcH  0.0888  fc    H\n",
       "6    10   hcF  1.5460  hc    F\n",
       "7    10   ncF  0.9781  nc    F\n",
       "8    10   fcF  0.9146  fc    F\n",
       "9    10   hcH  0.4596  hc    H\n",
       "10   10   ncH  0.1573  nc    H\n",
       "11   10   fcH  0.4097  fc    H"
      ]
     },
     "execution_count": 111,
     "metadata": {},
     "output_type": "execute_result"
    }
   ],
   "source": [
    "ffa_cs_long.head(12)"
   ]
  },
  {
   "cell_type": "markdown",
   "metadata": {},
   "source": [
    "##Run Repeated Measures ANOVA with pyvttbl"
   ]
  },
  {
   "cell_type": "code",
   "execution_count": 117,
   "metadata": {
    "collapsed": true
   },
   "outputs": [
    {
     "name": "stdout",
     "output_type": "stream",
     "text": [
      "peak ~ cue * stim\n",
      "\n",
      "TESTS OF WITHIN SUBJECTS EFFECTS\n",
      "\n",
      "Measure: peak\n",
      "  Source                           Type III    eps      df      MS       F        Sig.      et2_G   Obs.    SE     95% CI   lambda    Obs.  \n",
      "                                      SS                                                                                              Power \n",
      "===========================================================================================================================================\n",
      "cue           Sphericity Assumed      0.046       -        2   0.023    0.477       0.624   0.004     38   0.037    0.072     1.008   0.126 \n",
      "              Greenhouse-Geisser      0.046   0.899    1.798   0.025    0.477       0.605   0.004     38   0.037    0.072     1.008   0.122 \n",
      "              Huynh-Feldt             0.046   0.899    1.798   0.025    0.477       0.605   0.004     38   0.037    0.072     1.008   0.122 \n",
      "              Box                     0.046   0.500        1   0.046    0.477       0.498   0.004     38   0.037    0.072     1.008   0.103 \n",
      "-------------------------------------------------------------------------------------------------------------------------------------------\n",
      "Error(cue)    Sphericity Assumed      1.722       -       36   0.048                                                                        \n",
      "              Greenhouse-Geisser      1.722   0.899   32.365   0.053                                                                        \n",
      "              Huynh-Feldt             1.722   0.899   32.365   0.053                                                                        \n",
      "              Box                     1.722   0.500       18   0.096                                                                        \n",
      "-------------------------------------------------------------------------------------------------------------------------------------------\n",
      "stim          Sphericity Assumed      3.517       -        1   3.517   43.515   3.400e-06   0.290     57   0.040    0.079   137.797       1 \n",
      "              Greenhouse-Geisser      3.517       1        1   3.517   43.515   3.400e-06   0.290     57   0.040    0.079   137.797       1 \n",
      "              Huynh-Feldt             3.517       1        1   3.517   43.515   3.400e-06   0.290     57   0.040    0.079   137.797       1 \n",
      "              Box                     3.517       1        1   3.517   43.515   3.400e-06   0.290     57   0.040    0.079   137.797       1 \n",
      "-------------------------------------------------------------------------------------------------------------------------------------------\n",
      "Error(stim)   Sphericity Assumed      1.455       -       18   0.081                                                                        \n",
      "              Greenhouse-Geisser      1.455       1       18   0.081                                                                        \n",
      "              Huynh-Feldt             1.455       1       18   0.081                                                                        \n",
      "              Box                     1.455       1       18   0.081                                                                        \n",
      "-------------------------------------------------------------------------------------------------------------------------------------------\n",
      "cue *         Sphericity Assumed      0.104       -        2   0.052    4.359       0.020   0.009     19   0.026    0.051     4.601   0.437 \n",
      "stim          Greenhouse-Geisser      0.104   0.803    1.607   0.065    4.359       0.029   0.009     19   0.026    0.051     4.601   0.386 \n",
      "              Huynh-Feldt             0.104   0.803    1.607   0.065    4.359       0.029   0.009     19   0.026    0.051     4.601   0.386 \n",
      "              Box                     0.104   0.500        1   0.104    4.359       0.051   0.009     19   0.026    0.051     4.601   0.301 \n",
      "-------------------------------------------------------------------------------------------------------------------------------------------\n",
      "Error(cue *   Sphericity Assumed      0.429       -       36   0.012                                                                        \n",
      "stim)         Greenhouse-Geisser      0.429   0.803   28.922   0.015                                                                        \n",
      "              Huynh-Feldt             0.429   0.803   28.922   0.015                                                                        \n",
      "              Box                     0.429   0.500       18   0.024                                                                        \n",
      "\n",
      "TABLES OF ESTIMATED MARGINAL MEANS\n",
      "\n",
      "Estimated Marginal Means for cue\n",
      "cue   Mean    Std. Error   95% Lower Bound   95% Upper Bound \n",
      "============================================================\n",
      "fc    0.475        0.059             0.360             0.589 \n",
      "hc    0.510        0.066             0.380             0.639 \n",
      "nc    0.462        0.058             0.348             0.576 \n",
      "\n",
      "Estimated Marginal Means for stim\n",
      "stim   Mean    Std. Error   95% Lower Bound   95% Upper Bound \n",
      "=============================================================\n",
      "F      0.658        0.049             0.562             0.753 \n",
      "H      0.307        0.038             0.231             0.382 \n",
      "\n",
      "Estimated Marginal Means for cue * stim\n",
      "cue   stim   Mean    Std. Error   95% Lower Bound   95% Upper Bound \n",
      "===================================================================\n",
      "fc    F      0.614        0.079             0.459             0.768 \n",
      "fc    H      0.336        0.075             0.188             0.483 \n",
      "hc    F      0.723        0.096             0.534             0.911 \n",
      "hc    H      0.297        0.061             0.177             0.416 \n",
      "nc    F      0.637        0.079             0.482             0.793 \n",
      "nc    H      0.287        0.065             0.160             0.415 \n",
      "\n",
      "\n"
     ]
    }
   ],
   "source": [
    "import pyvttbl\n",
    "from pyvttbl import DataFrame as DF\n",
    "from pyvttbl.stats import Anova\n",
    "\n",
    "FFA_CStim = DF(ffa_cs_long)\n",
    "FFA_CStim_RMA=Anova()\n",
    "FFA_CStim_RMA.run(FFA_CStim, 'peak', wfactors=['cue', 'stim'], sub='idx')\n",
    "\n",
    "os.chdir('/Users/kyle/Dropbox/PFH/iPFH/PK_ANOVA/')\n",
    "# Write output to a file\n",
    "with open('FFA_CStim_RMA.txt','wb') as f:\n",
    "        f.write(str(FFA_CStim_RMA))\n",
    "\n",
    "# Display output inline\n",
    "print(FFA_CStim_RMA)"
   ]
  },
  {
   "cell_type": "markdown",
   "metadata": {},
   "source": [
    "## Now the same test for PPA CStim peaks"
   ]
  },
  {
   "cell_type": "code",
   "execution_count": 9,
   "metadata": {
    "collapsed": false
   },
   "outputs": [
    {
     "data": {
      "text/html": [
       "<div>\n",
       "<table border=\"1\" class=\"dataframe\">\n",
       "  <thead>\n",
       "    <tr style=\"text-align: right;\">\n",
       "      <th></th>\n",
       "      <th>hc</th>\n",
       "      <th>nc</th>\n",
       "      <th>fc</th>\n",
       "      <th>hcF</th>\n",
       "      <th>ncF</th>\n",
       "      <th>fcF</th>\n",
       "      <th>hcH</th>\n",
       "      <th>ncH</th>\n",
       "      <th>fcH</th>\n",
       "      <th>fc-fcH</th>\n",
       "      <th>fc-fcF</th>\n",
       "      <th>hc-hcH</th>\n",
       "      <th>hc-hcF</th>\n",
       "    </tr>\n",
       "    <tr>\n",
       "      <th>idx</th>\n",
       "      <th></th>\n",
       "      <th></th>\n",
       "      <th></th>\n",
       "      <th></th>\n",
       "      <th></th>\n",
       "      <th></th>\n",
       "      <th></th>\n",
       "      <th></th>\n",
       "      <th></th>\n",
       "      <th></th>\n",
       "      <th></th>\n",
       "      <th></th>\n",
       "      <th></th>\n",
       "    </tr>\n",
       "  </thead>\n",
       "  <tbody>\n",
       "    <tr>\n",
       "      <th>8</th>\n",
       "      <td>0.1061</td>\n",
       "      <td>0.0548</td>\n",
       "      <td>0.0384</td>\n",
       "      <td>0.0568</td>\n",
       "      <td>0.1003</td>\n",
       "      <td>0.0955</td>\n",
       "      <td>0.2313</td>\n",
       "      <td>0.2968</td>\n",
       "      <td>0.3283</td>\n",
       "      <td>0.2898</td>\n",
       "      <td>0.0571</td>\n",
       "      <td>0.1252</td>\n",
       "      <td>-0.0493</td>\n",
       "    </tr>\n",
       "    <tr>\n",
       "      <th>10</th>\n",
       "      <td>0.0198</td>\n",
       "      <td>0.0043</td>\n",
       "      <td>0.0150</td>\n",
       "      <td>0.1524</td>\n",
       "      <td>0.0766</td>\n",
       "      <td>0.0665</td>\n",
       "      <td>0.0470</td>\n",
       "      <td>0.0938</td>\n",
       "      <td>0.1999</td>\n",
       "      <td>0.1849</td>\n",
       "      <td>0.0515</td>\n",
       "      <td>0.0272</td>\n",
       "      <td>0.1326</td>\n",
       "    </tr>\n",
       "    <tr>\n",
       "      <th>11</th>\n",
       "      <td>0.0751</td>\n",
       "      <td>0.1020</td>\n",
       "      <td>0.0798</td>\n",
       "      <td>0.0942</td>\n",
       "      <td>0.1217</td>\n",
       "      <td>0.0912</td>\n",
       "      <td>0.1573</td>\n",
       "      <td>0.1598</td>\n",
       "      <td>0.2435</td>\n",
       "      <td>0.1636</td>\n",
       "      <td>0.0113</td>\n",
       "      <td>0.0822</td>\n",
       "      <td>0.0191</td>\n",
       "    </tr>\n",
       "    <tr>\n",
       "      <th>13</th>\n",
       "      <td>0.0964</td>\n",
       "      <td>0.0881</td>\n",
       "      <td>0.1392</td>\n",
       "      <td>0.0412</td>\n",
       "      <td>0.0577</td>\n",
       "      <td>0.0510</td>\n",
       "      <td>0.1665</td>\n",
       "      <td>0.1622</td>\n",
       "      <td>0.1751</td>\n",
       "      <td>0.0359</td>\n",
       "      <td>-0.0882</td>\n",
       "      <td>0.0701</td>\n",
       "      <td>-0.0553</td>\n",
       "    </tr>\n",
       "    <tr>\n",
       "      <th>15</th>\n",
       "      <td>0.1677</td>\n",
       "      <td>0.1821</td>\n",
       "      <td>0.1698</td>\n",
       "      <td>0.1027</td>\n",
       "      <td>0.1488</td>\n",
       "      <td>0.2071</td>\n",
       "      <td>0.4065</td>\n",
       "      <td>0.3562</td>\n",
       "      <td>0.5679</td>\n",
       "      <td>0.3981</td>\n",
       "      <td>0.0372</td>\n",
       "      <td>0.2388</td>\n",
       "      <td>-0.0651</td>\n",
       "    </tr>\n",
       "    <tr>\n",
       "      <th>16</th>\n",
       "      <td>0.0874</td>\n",
       "      <td>0.0355</td>\n",
       "      <td>0.1298</td>\n",
       "      <td>0.1811</td>\n",
       "      <td>0.1834</td>\n",
       "      <td>0.1069</td>\n",
       "      <td>0.3261</td>\n",
       "      <td>0.4447</td>\n",
       "      <td>0.4759</td>\n",
       "      <td>0.3461</td>\n",
       "      <td>-0.0230</td>\n",
       "      <td>0.2387</td>\n",
       "      <td>0.0937</td>\n",
       "    </tr>\n",
       "    <tr>\n",
       "      <th>17</th>\n",
       "      <td>0.0981</td>\n",
       "      <td>0.0500</td>\n",
       "      <td>0.0562</td>\n",
       "      <td>0.1573</td>\n",
       "      <td>0.1107</td>\n",
       "      <td>0.1303</td>\n",
       "      <td>0.1079</td>\n",
       "      <td>0.1529</td>\n",
       "      <td>0.2998</td>\n",
       "      <td>0.2435</td>\n",
       "      <td>0.0740</td>\n",
       "      <td>0.0099</td>\n",
       "      <td>0.0592</td>\n",
       "    </tr>\n",
       "    <tr>\n",
       "      <th>18</th>\n",
       "      <td>0.0556</td>\n",
       "      <td>0.0837</td>\n",
       "      <td>0.0390</td>\n",
       "      <td>0.0620</td>\n",
       "      <td>-0.0129</td>\n",
       "      <td>0.0951</td>\n",
       "      <td>0.2963</td>\n",
       "      <td>0.2471</td>\n",
       "      <td>0.2512</td>\n",
       "      <td>0.2122</td>\n",
       "      <td>0.0562</td>\n",
       "      <td>0.2407</td>\n",
       "      <td>0.0064</td>\n",
       "    </tr>\n",
       "    <tr>\n",
       "      <th>19</th>\n",
       "      <td>0.1126</td>\n",
       "      <td>0.1388</td>\n",
       "      <td>0.0830</td>\n",
       "      <td>0.1524</td>\n",
       "      <td>0.0852</td>\n",
       "      <td>0.1367</td>\n",
       "      <td>0.1945</td>\n",
       "      <td>0.2835</td>\n",
       "      <td>0.3750</td>\n",
       "      <td>0.2920</td>\n",
       "      <td>0.0537</td>\n",
       "      <td>0.0819</td>\n",
       "      <td>0.0397</td>\n",
       "    </tr>\n",
       "    <tr>\n",
       "      <th>20</th>\n",
       "      <td>0.0438</td>\n",
       "      <td>0.0285</td>\n",
       "      <td>0.0368</td>\n",
       "      <td>0.1448</td>\n",
       "      <td>0.1175</td>\n",
       "      <td>0.1260</td>\n",
       "      <td>0.1363</td>\n",
       "      <td>0.1499</td>\n",
       "      <td>0.3112</td>\n",
       "      <td>0.2744</td>\n",
       "      <td>0.0891</td>\n",
       "      <td>0.0925</td>\n",
       "      <td>0.1010</td>\n",
       "    </tr>\n",
       "    <tr>\n",
       "      <th>21</th>\n",
       "      <td>0.1394</td>\n",
       "      <td>0.1378</td>\n",
       "      <td>0.2020</td>\n",
       "      <td>0.1743</td>\n",
       "      <td>0.3674</td>\n",
       "      <td>0.1603</td>\n",
       "      <td>0.5342</td>\n",
       "      <td>0.5279</td>\n",
       "      <td>0.5307</td>\n",
       "      <td>0.3287</td>\n",
       "      <td>-0.0417</td>\n",
       "      <td>0.3949</td>\n",
       "      <td>0.0349</td>\n",
       "    </tr>\n",
       "    <tr>\n",
       "      <th>22</th>\n",
       "      <td>0.0546</td>\n",
       "      <td>0.1431</td>\n",
       "      <td>0.1463</td>\n",
       "      <td>0.2954</td>\n",
       "      <td>0.0641</td>\n",
       "      <td>0.0872</td>\n",
       "      <td>0.1553</td>\n",
       "      <td>0.1719</td>\n",
       "      <td>0.1674</td>\n",
       "      <td>0.0211</td>\n",
       "      <td>-0.0591</td>\n",
       "      <td>0.1007</td>\n",
       "      <td>0.2408</td>\n",
       "    </tr>\n",
       "    <tr>\n",
       "      <th>23</th>\n",
       "      <td>0.1086</td>\n",
       "      <td>0.1177</td>\n",
       "      <td>0.1509</td>\n",
       "      <td>0.1417</td>\n",
       "      <td>0.0992</td>\n",
       "      <td>0.1153</td>\n",
       "      <td>0.1913</td>\n",
       "      <td>0.3172</td>\n",
       "      <td>0.4729</td>\n",
       "      <td>0.3219</td>\n",
       "      <td>-0.0356</td>\n",
       "      <td>0.0827</td>\n",
       "      <td>0.0331</td>\n",
       "    </tr>\n",
       "    <tr>\n",
       "      <th>24</th>\n",
       "      <td>0.1659</td>\n",
       "      <td>0.0304</td>\n",
       "      <td>0.0959</td>\n",
       "      <td>0.1049</td>\n",
       "      <td>0.2417</td>\n",
       "      <td>0.0725</td>\n",
       "      <td>0.1137</td>\n",
       "      <td>0.2042</td>\n",
       "      <td>0.2669</td>\n",
       "      <td>0.1711</td>\n",
       "      <td>-0.0233</td>\n",
       "      <td>-0.0523</td>\n",
       "      <td>-0.0611</td>\n",
       "    </tr>\n",
       "    <tr>\n",
       "      <th>26</th>\n",
       "      <td>0.0805</td>\n",
       "      <td>0.0763</td>\n",
       "      <td>0.0342</td>\n",
       "      <td>0.1512</td>\n",
       "      <td>0.1028</td>\n",
       "      <td>0.0745</td>\n",
       "      <td>0.1908</td>\n",
       "      <td>0.1746</td>\n",
       "      <td>0.2017</td>\n",
       "      <td>0.1675</td>\n",
       "      <td>0.0403</td>\n",
       "      <td>0.1103</td>\n",
       "      <td>0.0707</td>\n",
       "    </tr>\n",
       "    <tr>\n",
       "      <th>27</th>\n",
       "      <td>0.0626</td>\n",
       "      <td>0.1188</td>\n",
       "      <td>0.0954</td>\n",
       "      <td>0.1994</td>\n",
       "      <td>0.0426</td>\n",
       "      <td>0.0902</td>\n",
       "      <td>0.3832</td>\n",
       "      <td>0.3603</td>\n",
       "      <td>0.1594</td>\n",
       "      <td>0.0641</td>\n",
       "      <td>-0.0052</td>\n",
       "      <td>0.3207</td>\n",
       "      <td>0.1369</td>\n",
       "    </tr>\n",
       "    <tr>\n",
       "      <th>29</th>\n",
       "      <td>0.1085</td>\n",
       "      <td>0.1391</td>\n",
       "      <td>0.0979</td>\n",
       "      <td>-0.0157</td>\n",
       "      <td>0.0866</td>\n",
       "      <td>0.0974</td>\n",
       "      <td>0.0759</td>\n",
       "      <td>-0.0096</td>\n",
       "      <td>0.1128</td>\n",
       "      <td>0.0149</td>\n",
       "      <td>-0.0005</td>\n",
       "      <td>-0.0325</td>\n",
       "      <td>-0.1242</td>\n",
       "    </tr>\n",
       "    <tr>\n",
       "      <th>30</th>\n",
       "      <td>0.0567</td>\n",
       "      <td>0.0480</td>\n",
       "      <td>0.0230</td>\n",
       "      <td>0.0959</td>\n",
       "      <td>0.0867</td>\n",
       "      <td>0.0435</td>\n",
       "      <td>0.2252</td>\n",
       "      <td>0.2244</td>\n",
       "      <td>0.2887</td>\n",
       "      <td>0.2657</td>\n",
       "      <td>0.0204</td>\n",
       "      <td>0.1685</td>\n",
       "      <td>0.0392</td>\n",
       "    </tr>\n",
       "    <tr>\n",
       "      <th>31</th>\n",
       "      <td>0.0632</td>\n",
       "      <td>0.0946</td>\n",
       "      <td>0.0779</td>\n",
       "      <td>0.0913</td>\n",
       "      <td>0.1082</td>\n",
       "      <td>0.0826</td>\n",
       "      <td>0.1625</td>\n",
       "      <td>0.1504</td>\n",
       "      <td>0.2163</td>\n",
       "      <td>0.1385</td>\n",
       "      <td>0.0047</td>\n",
       "      <td>0.0993</td>\n",
       "      <td>0.0281</td>\n",
       "    </tr>\n",
       "  </tbody>\n",
       "</table>\n",
       "</div>"
      ],
      "text/plain": [
       "         hc      nc      fc     hcF     ncF     fcF     hcH     ncH     fcH  \\\n",
       "idx                                                                           \n",
       "8    0.1061  0.0548  0.0384  0.0568  0.1003  0.0955  0.2313  0.2968  0.3283   \n",
       "10   0.0198  0.0043  0.0150  0.1524  0.0766  0.0665  0.0470  0.0938  0.1999   \n",
       "11   0.0751  0.1020  0.0798  0.0942  0.1217  0.0912  0.1573  0.1598  0.2435   \n",
       "13   0.0964  0.0881  0.1392  0.0412  0.0577  0.0510  0.1665  0.1622  0.1751   \n",
       "15   0.1677  0.1821  0.1698  0.1027  0.1488  0.2071  0.4065  0.3562  0.5679   \n",
       "16   0.0874  0.0355  0.1298  0.1811  0.1834  0.1069  0.3261  0.4447  0.4759   \n",
       "17   0.0981  0.0500  0.0562  0.1573  0.1107  0.1303  0.1079  0.1529  0.2998   \n",
       "18   0.0556  0.0837  0.0390  0.0620 -0.0129  0.0951  0.2963  0.2471  0.2512   \n",
       "19   0.1126  0.1388  0.0830  0.1524  0.0852  0.1367  0.1945  0.2835  0.3750   \n",
       "20   0.0438  0.0285  0.0368  0.1448  0.1175  0.1260  0.1363  0.1499  0.3112   \n",
       "21   0.1394  0.1378  0.2020  0.1743  0.3674  0.1603  0.5342  0.5279  0.5307   \n",
       "22   0.0546  0.1431  0.1463  0.2954  0.0641  0.0872  0.1553  0.1719  0.1674   \n",
       "23   0.1086  0.1177  0.1509  0.1417  0.0992  0.1153  0.1913  0.3172  0.4729   \n",
       "24   0.1659  0.0304  0.0959  0.1049  0.2417  0.0725  0.1137  0.2042  0.2669   \n",
       "26   0.0805  0.0763  0.0342  0.1512  0.1028  0.0745  0.1908  0.1746  0.2017   \n",
       "27   0.0626  0.1188  0.0954  0.1994  0.0426  0.0902  0.3832  0.3603  0.1594   \n",
       "29   0.1085  0.1391  0.0979 -0.0157  0.0866  0.0974  0.0759 -0.0096  0.1128   \n",
       "30   0.0567  0.0480  0.0230  0.0959  0.0867  0.0435  0.2252  0.2244  0.2887   \n",
       "31   0.0632  0.0946  0.0779  0.0913  0.1082  0.0826  0.1625  0.1504  0.2163   \n",
       "\n",
       "     fc-fcH  fc-fcF  hc-hcH  hc-hcF  \n",
       "idx                                  \n",
       "8    0.2898  0.0571  0.1252 -0.0493  \n",
       "10   0.1849  0.0515  0.0272  0.1326  \n",
       "11   0.1636  0.0113  0.0822  0.0191  \n",
       "13   0.0359 -0.0882  0.0701 -0.0553  \n",
       "15   0.3981  0.0372  0.2388 -0.0651  \n",
       "16   0.3461 -0.0230  0.2387  0.0937  \n",
       "17   0.2435  0.0740  0.0099  0.0592  \n",
       "18   0.2122  0.0562  0.2407  0.0064  \n",
       "19   0.2920  0.0537  0.0819  0.0397  \n",
       "20   0.2744  0.0891  0.0925  0.1010  \n",
       "21   0.3287 -0.0417  0.3949  0.0349  \n",
       "22   0.0211 -0.0591  0.1007  0.2408  \n",
       "23   0.3219 -0.0356  0.0827  0.0331  \n",
       "24   0.1711 -0.0233 -0.0523 -0.0611  \n",
       "26   0.1675  0.0403  0.1103  0.0707  \n",
       "27   0.0641 -0.0052  0.3207  0.1369  \n",
       "29   0.0149 -0.0005 -0.0325 -0.1242  \n",
       "30   0.2657  0.0204  0.1685  0.0392  \n",
       "31   0.1385  0.0047  0.0993  0.0281  "
      ]
     },
     "execution_count": 9,
     "metadata": {},
     "output_type": "execute_result"
    }
   ],
   "source": [
    "wpk_ppa"
   ]
  },
  {
   "cell_type": "code",
   "execution_count": 12,
   "metadata": {
    "collapsed": false
   },
   "outputs": [
    {
     "data": {
      "text/plain": [
       "idx\n",
       "8    -0.0435\n",
       "10   -0.0576\n",
       "11   -0.0613\n",
       "13   -0.0266\n",
       "15   -0.1800\n",
       "16   -0.0544\n",
       "17   -0.0208\n",
       "18   -0.1646\n",
       "19   -0.1983\n",
       "20   -0.0633\n",
       "21   -0.1700\n",
       "22   -0.0251\n",
       "23   -0.0824\n",
       "24   -0.0815\n",
       "26   -0.0688\n",
       "27       NaN\n",
       "29       NaN\n",
       "30       NaN\n",
       "31       NaN\n",
       "Name: hcF, dtype: float64"
      ]
     },
     "execution_count": 12,
     "metadata": {},
     "output_type": "execute_result"
    }
   ],
   "source": [
    "wlo_ppa.hcF"
   ]
  },
  {
   "cell_type": "code",
   "execution_count": 11,
   "metadata": {
    "collapsed": false
   },
   "outputs": [
    {
     "data": {
      "text/plain": [
       "(nan, nan)"
      ]
     },
     "execution_count": 11,
     "metadata": {},
     "output_type": "execute_result"
    }
   ],
   "source": [
    "ttest_rel(wpk_ppa.fcH, wpk_ppa.hcH)#max(axis=1)\n",
    "ttest_rel(wlo_ppa.hcF, wlo_ppa.fcF)"
   ]
  },
  {
   "cell_type": "code",
   "execution_count": 4,
   "metadata": {
    "collapsed": true
   },
   "outputs": [
    {
     "name": "stdout",
     "output_type": "stream",
     "text": [
      "peak ~ cue * stim\n",
      "\n",
      "TESTS OF WITHIN SUBJECTS EFFECTS\n",
      "\n",
      "Measure: peak\n",
      "  Source                           Type III    eps      df      MS       F        Sig.      et2_G   Obs.    SE     95% CI   lambda    Obs.  \n",
      "                                      SS                                                                                              Power \n",
      "===========================================================================================================================================\n",
      "cue           Sphericity Assumed      0.018       -        2   0.009    2.267       0.118   0.016     38   0.011    0.021     4.785   0.452 \n",
      "              Greenhouse-Geisser      0.018   0.860    1.721   0.010    2.267       0.127   0.016     38   0.011    0.021     4.785   0.415 \n",
      "              Huynh-Feldt             0.018   0.860    1.721   0.010    2.267       0.127   0.016     38   0.011    0.021     4.785   0.415 \n",
      "              Box                     0.018   0.500        1   0.018    2.267       0.150   0.016     38   0.011    0.021     4.785   0.310 \n",
      "-------------------------------------------------------------------------------------------------------------------------------------------\n",
      "Error(cue)    Sphericity Assumed      0.143       -       36   0.004                                                                        \n",
      "              Greenhouse-Geisser      0.143   0.860   30.971   0.005                                                                        \n",
      "              Huynh-Feldt             0.143   0.860   30.971   0.005                                                                        \n",
      "              Box                     0.143   0.500       18   0.008                                                                        \n",
      "-------------------------------------------------------------------------------------------------------------------------------------------\n",
      "stim          Sphericity Assumed      0.522       -        1   0.522   39.448   6.375e-06   0.470     57   0.016    0.032   124.917       1 \n",
      "              Greenhouse-Geisser      0.522       1        1   0.522   39.448   6.375e-06   0.470     57   0.016    0.032   124.917       1 \n",
      "              Huynh-Feldt             0.522       1        1   0.522   39.448   6.375e-06   0.470     57   0.016    0.032   124.917       1 \n",
      "              Box                     0.522       1        1   0.522   39.448   6.375e-06   0.470     57   0.016    0.032   124.917       1 \n",
      "-------------------------------------------------------------------------------------------------------------------------------------------\n",
      "Error(stim)   Sphericity Assumed      0.238       -       18   0.013                                                                        \n",
      "              Greenhouse-Geisser      0.238       1       18   0.013                                                                        \n",
      "              Huynh-Feldt             0.238       1       18   0.013                                                                        \n",
      "              Box                     0.238       1       18   0.013                                                                        \n",
      "-------------------------------------------------------------------------------------------------------------------------------------------\n",
      "cue *         Sphericity Assumed      0.056       -        2   0.028    8.238       0.001   0.050     19   0.014    0.027     8.696   0.717 \n",
      "stim          Greenhouse-Geisser      0.056   0.890    1.780   0.031    8.238       0.002   0.050     19   0.014    0.027     8.696   0.679 \n",
      "              Huynh-Feldt             0.056   0.890    1.780   0.031    8.238       0.002   0.050     19   0.014    0.027     8.696   0.679 \n",
      "              Box                     0.056   0.500        1   0.056    8.238       0.010   0.050     19   0.014    0.027     8.696   0.505 \n",
      "-------------------------------------------------------------------------------------------------------------------------------------------\n",
      "Error(cue *   Sphericity Assumed      0.122       -       36   0.003                                                                        \n",
      "stim)         Greenhouse-Geisser      0.122   0.890   32.033   0.004                                                                        \n",
      "              Huynh-Feldt             0.122   0.890   32.033   0.004                                                                        \n",
      "              Box                     0.122   0.500       18   0.007                                                                        \n",
      "\n",
      "TABLES OF ESTIMATED MARGINAL MEANS\n",
      "\n",
      "Estimated Marginal Means for cue\n",
      "cue   Mean    Std. Error   95% Lower Bound   95% Upper Bound \n",
      "============================================================\n",
      "fc    0.199        0.022             0.155             0.243 \n",
      "hc    0.171        0.018             0.136             0.205 \n",
      "nc    0.175        0.020             0.136             0.214 \n",
      "\n",
      "Estimated Marginal Means for stim\n",
      "stim   Mean    Std. Error   95% Lower Bound   95% Upper Bound \n",
      "=============================================================\n",
      "F      0.114        0.009             0.097             0.131 \n",
      "H      0.249        0.017             0.216             0.283 \n",
      "\n",
      "Estimated Marginal Means for cue * stim\n",
      "cue   stim   Mean    Std. Error   95% Lower Bound   95% Upper Bound \n",
      "===================================================================\n",
      "fc    F      0.102        0.009             0.084             0.119 \n",
      "fc    H      0.297        0.030             0.238             0.356 \n",
      "hc    F      0.125        0.016             0.095             0.156 \n",
      "hc    H      0.216        0.028             0.160             0.271 \n",
      "nc    F      0.115        0.019             0.079             0.152 \n",
      "nc    H      0.235        0.029             0.178             0.293 \n",
      "\n",
      "\n"
     ]
    }
   ],
   "source": [
    "os.chdir('/Users/kyle/Dropbox/PFH/iPFH/idxPK/')\n",
    "wpk_ppa=pd.read_csv(\"ppa_rho_df.csv\", index_col='idx')\n",
    "ppa_cstim = wpk_ppa[['hcF', 'ncF', 'fcF', 'hcH', 'ncH', 'fcH']]\n",
    "\n",
    "ppa_cs_long = ppa_cstim.stack().reset_index(name='peak').rename(columns={'level_1':'cstim'})\n",
    "\n",
    "ppa_cs_long['cue']=[cs[:2] for cs in ppa_cs_long['cstim']]\n",
    "ppa_cs_long['stim']=[cs[-1] for cs in ppa_cs_long['cstim']]\n",
    "\n",
    "PPA_CStim = DF(ppa_cs_long)\n",
    "PPA_CStim_RMA=Anova()\n",
    "PPA_CStim_RMA.run(PPA_CStim, 'peak', wfactors=['cue', 'stim'], sub='idx')\n",
    "\n",
    "#os.chdir('/Users/kyle/Dropbox/PFH/iPFH/PK_ANOVA/')\n",
    "# Write output to a file\n",
    "#with open('PPA_CStim_RMA.txt','wb') as f:\n",
    "#        f.write(str(PPA_CStim_RMA))\n",
    "\n",
    "# Display output inline\n",
    "print(PPA_CStim_RMA)"
   ]
  },
  {
   "cell_type": "code",
   "execution_count": null,
   "metadata": {
    "collapsed": true
   },
   "outputs": [],
   "source": [
    "ttest_rel()"
   ]
  },
  {
   "cell_type": "code",
   "execution_count": 29,
   "metadata": {
    "collapsed": true
   },
   "outputs": [
    {
     "name": "stdout",
     "output_type": "stream",
     "text": [
      "House Regions, Cue Peak Comparisons\n",
      "House Cue > Face Cue: t(18) = -0.0419, p=0.9670\n",
      "House Cue > Neutral Cue: t(18) = 0.1378, p=0.8919\n",
      "peak ~ cue\n",
      "\n",
      "TESTS OF WITHIN SUBJECTS EFFECTS\n",
      "\n",
      "Measure: peak\n",
      "  Source                          Type III     eps      df        MS         F     Sig.      et2_G     Obs.    SE     95% CI   lambda   Obs.  \n",
      "                                     SS                                                                                                 Power \n",
      "=============================================================================================================================================\n",
      "cue          Sphericity Assumed   4.003e-05       -        2   2.001e-05   0.020   0.980   3.243e-04     19   0.008    0.015    0.021   0.051 \n",
      "             Greenhouse-Geisser   4.003e-05   0.975    1.949   2.054e-05   0.020   0.979   3.243e-04     19   0.008    0.015    0.021   0.051 \n",
      "             Huynh-Feldt          4.003e-05   0.975    1.949   2.054e-05   0.020   0.979   3.243e-04     19   0.008    0.015    0.021   0.051 \n",
      "             Box                  4.003e-05   0.500        1   4.003e-05   0.020   0.890   3.243e-04     19   0.008    0.015    0.021   0.051 \n",
      "---------------------------------------------------------------------------------------------------------------------------------------------\n",
      "Error(cue)   Sphericity Assumed       0.036       -       36       0.001                                                                      \n",
      "             Greenhouse-Geisser       0.036   0.975   35.083       0.001                                                                      \n",
      "             Huynh-Feldt              0.036   0.975   35.083       0.001                                                                      \n",
      "             Box                      0.036   0.500       18       0.002                                                                      \n",
      "\n",
      "TABLES OF ESTIMATED MARGINAL MEANS\n",
      "\n",
      "Estimated Marginal Means for cue\n",
      "cue   Mean    Std. Error   95% Lower Bound   95% Upper Bound \n",
      "============================================================\n",
      "fc    0.090        0.012             0.066             0.114 \n",
      "hc    0.090        0.009             0.072             0.107 \n",
      "nc    0.088        0.011             0.066             0.110 \n",
      "\n",
      "\n"
     ]
    }
   ],
   "source": [
    "wpk_ppa=pd.read_csv(\"ppa_rho_df.csv\", index_col='idx')\n",
    "\n",
    "condlist = ['hc', 'nc', 'fc']\n",
    "ppacues = wpk_ppa[condlist]\n",
    "ppa_cues_long = ppacues.stack().reset_index(name='peak').rename(columns={'level_1':'cue'})\n",
    "PPA_CUES = DF(ppa_cues_long)\n",
    "PPA_CUE_RMA=Anova()\n",
    "PPA_CUE_RMA.run(PPA_CUES, 'peak', wfactors=['cue'], sub='idx')\n",
    "\n",
    "os.chdir('/Users/kyle/Dropbox/PFH/iPFH/PK_ANOVA/')\n",
    "# Write output to a file\n",
    "with open('PPA_CUE_RMA.txt','wb') as f:\n",
    "      f.write(\"House Regions, Cue Peak Comparisons:\\n\\n\")\n",
    "      f.write(\"House Cue > Face Cue:\\nt(18) = %.4f, p=%.4f\\n\\n\" % ttest_rel(wpk_ppa['hc'], wpk_ppa['fc']))\n",
    "      f.write(\"House Cue > Neutral Cue:\\nt(18) = %.4f, p=%.4f\\n\\n\\n\\n\" % ttest_rel(wpk_ppa['hc'], wpk_ppa['nc']))\n",
    "      f.write(\"\\n\\n\")\n",
    "      f.write(str(PPA_CUE_RMA))\n",
    "\n",
    "print \"House Regions, Cue Peak Comparisons\"\n",
    "print \"House Cue > Face Cue: t(18) = %.4f, p=%.4f\" % ttest_rel(wpk_ppa['hc'], wpk_ppa['fc'])\n",
    "print \"House Cue > Neutral Cue: t(18) = %.4f, p=%.4f\" % ttest_rel(wpk_ppa['hc'], wpk_ppa['nc'])\n",
    "# Display output inline\n",
    "print(PPA_CUE_RMA)"
   ]
  },
  {
   "cell_type": "code",
   "execution_count": 30,
   "metadata": {
    "collapsed": true
   },
   "outputs": [
    {
     "name": "stdout",
     "output_type": "stream",
     "text": [
      "Face Regions, Cue Peak Comparisons\n",
      "Face Cue > House Cue: t(18) = 3.2614, p=0.0043\n",
      "Face Cue > Neutral Cue: t(18) = 0.6390, p=0.5309\n",
      "peak ~ cue\n",
      "\n",
      "TESTS OF WITHIN SUBJECTS EFFECTS\n",
      "\n",
      "Measure: peak\n",
      "  Source                          Type III    eps      df      MS       F     Sig.    et2_G   Obs.    SE     95% CI   lambda   Obs.  \n",
      "                                     SS                                                                                        Power \n",
      "====================================================================================================================================\n",
      "cue          Sphericity Assumed      0.093       -        2   0.047   2.837   0.072   0.029     19   0.030    0.060    2.994   0.298 \n",
      "             Greenhouse-Geisser      0.093   0.863    1.725   0.054   2.837   0.081   0.029     19   0.030    0.060    2.994   0.276 \n",
      "             Huynh-Feldt             0.093   0.863    1.725   0.054   2.837   0.081   0.029     19   0.030    0.060    2.994   0.276 \n",
      "             Box                     0.093   0.500        1   0.093   2.837   0.109   0.029     19   0.030    0.060    2.994   0.212 \n",
      "------------------------------------------------------------------------------------------------------------------------------------\n",
      "Error(cue)   Sphericity Assumed      0.592       -       36   0.016                                                                  \n",
      "             Greenhouse-Geisser      0.592   0.863   31.051   0.019                                                                  \n",
      "             Huynh-Feldt             0.592   0.863   31.051   0.019                                                                  \n",
      "             Box                     0.592   0.500       18   0.033                                                                  \n",
      "\n",
      "TABLES OF ESTIMATED MARGINAL MEANS\n",
      "\n",
      "Estimated Marginal Means for cue\n",
      "cue   Mean    Std. Error   95% Lower Bound   95% Upper Bound \n",
      "============================================================\n",
      "fc    0.344        0.066             0.214             0.473 \n",
      "hc    0.246        0.047             0.155             0.338 \n",
      "nc    0.310        0.055             0.203             0.418 \n",
      "\n",
      "\n"
     ]
    }
   ],
   "source": [
    "wpk_ffa=pd.read_csv(\"ffa_rho_df.csv\", index_col='idx')\n",
    "\n",
    "condlist = ['hc', 'nc', 'fc']\n",
    "ffacues = wpk_ffa[condlist]\n",
    "ffa_cues_long = ffacues.stack().reset_index(name='peak').rename(columns={'level_1':'cue'})\n",
    "FFA_CUES = DF(ffa_cues_long)\n",
    "FFA_CUE_RMA=Anova()\n",
    "FFA_CUE_RMA.run(FFA_CUES, 'peak', wfactors=['cue'], sub='idx')\n",
    "\n",
    "os.chdir('/Users/kyle/Dropbox/PFH/iPFH/PK_ANOVA/')\n",
    "# Write output to a file\n",
    "with open('FFA_CUE_RMA.txt','wb') as f:\n",
    "        f.write(\"Face Regions, Cue Peak Comparisons:\\n\\n\")\n",
    "        f.write(\"Face Cue > House Cue:\\nt(18) = %.4f, p=%.4f\\n\\n\" % ttest_rel(wpk_ffa['fc'], wpk_ffa['hc']))\n",
    "        f.write(\"Face Cue > Neutral Cue:\\nt(18) = %.4f, p=%.4f\\n\\n\\n\\n\" % ttest_rel(wpk_ffa['fc'], wpk_ffa['nc']))\n",
    "        f.write(\"\\n\\n\")\n",
    "        f.write(str(FFA_CUE_RMA))\n",
    "\n",
    "\n",
    "print \"Face Regions, Cue Peak Comparisons\"\n",
    "print \"Face Cue > House Cue: t(18) = %.4f, p=%.4f\" % ttest_rel(wpk_ffa['fc'], wpk_ffa['hc'])\n",
    "print \"Face Cue > Neutral Cue: t(18) = %.4f, p=%.4f\" % ttest_rel(wpk_ffa['fc'], wpk_ffa['nc'])\n",
    "\n",
    "print(FFA_CUE_RMA)"
   ]
  },
  {
   "cell_type": "markdown",
   "metadata": {},
   "source": [
    "# RM ANOVA Including Region as a Factor"
   ]
  },
  {
   "cell_type": "code",
   "execution_count": 38,
   "metadata": {
    "collapsed": true
   },
   "outputs": [
    {
     "name": "stdout",
     "output_type": "stream",
     "text": [
      "peak ~ cue * stim * region\n",
      "\n",
      "TESTS OF WITHIN SUBJECTS EFFECTS\n",
      "\n",
      "Measure: peak\n",
      "   Source                            Type III    eps      df      MS       F        Sig.        et2_G     Obs.    SE     95% CI   lambda    Obs.  \n",
      "                                        SS                                                                                                  Power \n",
      "=================================================================================================================================================\n",
      "cue             Sphericity Assumed      0.020       -        2   0.010    0.351       0.706       0.002     76   0.020    0.039     1.481   0.166 \n",
      "                Greenhouse-Geisser      0.020   0.931    1.861   0.011    0.351       0.691       0.002     76   0.020    0.039     1.481   0.161 \n",
      "                Huynh-Feldt             0.020   0.931    1.861   0.011    0.351       0.691       0.002     76   0.020    0.039     1.481   0.161 \n",
      "                Box                     0.020   0.500        1   0.020    0.351       0.561       0.002     76   0.020    0.039     1.481   0.129 \n",
      "-------------------------------------------------------------------------------------------------------------------------------------------------\n",
      "Error(cue)      Sphericity Assumed      1.033       -       36   0.029                                                                            \n",
      "                Greenhouse-Geisser      1.033   0.931   33.503   0.031                                                                            \n",
      "                Huynh-Feldt             1.033   0.931   33.503   0.031                                                                            \n",
      "                Box                     1.033   0.500       18   0.057                                                                            \n",
      "-------------------------------------------------------------------------------------------------------------------------------------------------\n",
      "stim            Sphericity Assumed      0.665       -        1   0.665   14.286       0.001       0.050    114   0.022    0.042    90.480   1.000 \n",
      "                Greenhouse-Geisser      0.665       1        1   0.665   14.286       0.001       0.050    114   0.022    0.042    90.480   1.000 \n",
      "                Huynh-Feldt             0.665       1        1   0.665   14.286       0.001       0.050    114   0.022    0.042    90.480   1.000 \n",
      "                Box                     0.665       1        1   0.665   14.286       0.001       0.050    114   0.022    0.042    90.480   1.000 \n",
      "-------------------------------------------------------------------------------------------------------------------------------------------------\n",
      "Error(stim)     Sphericity Assumed      0.837       -       18   0.047                                                                            \n",
      "                Greenhouse-Geisser      0.837       1       18   0.047                                                                            \n",
      "                Huynh-Feldt             0.837       1       18   0.047                                                                            \n",
      "                Box                     0.837       1       18   0.047                                                                            \n",
      "-------------------------------------------------------------------------------------------------------------------------------------------------\n",
      "region          Sphericity Assumed      5.145       -        1   5.145   21.481   2.059e-04       0.389    114   0.049    0.096   136.044       1 \n",
      "                Greenhouse-Geisser      5.145       1        1   5.145   21.481   2.059e-04       0.389    114   0.049    0.096   136.044       1 \n",
      "                Huynh-Feldt             5.145       1        1   5.145   21.481   2.059e-04       0.389    114   0.049    0.096   136.044       1 \n",
      "                Box                     5.145       1        1   5.145   21.481   2.059e-04       0.389    114   0.049    0.096   136.044       1 \n",
      "-------------------------------------------------------------------------------------------------------------------------------------------------\n",
      "Error(region)   Sphericity Assumed      4.312       -       18   0.240                                                                            \n",
      "                Greenhouse-Geisser      4.312       1       18   0.240                                                                            \n",
      "                Huynh-Feldt             4.312       1       18   0.240                                                                            \n",
      "                Box                     4.312       1       18   0.240                                                                            \n",
      "-------------------------------------------------------------------------------------------------------------------------------------------------\n",
      "cue *           Sphericity Assumed      0.153       -        2   0.077   13.124   5.240e-05       0.012     38   0.013    0.025    27.705   0.997 \n",
      "stim            Greenhouse-Geisser      0.153   0.809    1.619   0.095   13.124   2.062e-04       0.012     38   0.013    0.025    27.705   0.990 \n",
      "                Huynh-Feldt             0.153   0.809    1.619   0.095   13.124   2.062e-04       0.012     38   0.013    0.025    27.705   0.990 \n",
      "                Box                     0.153   0.500        1   0.153   13.124       0.002       0.012     38   0.013    0.025    27.705   0.940 \n",
      "-------------------------------------------------------------------------------------------------------------------------------------------------\n",
      "Error(cue *     Sphericity Assumed      0.210       -       36   0.006                                                                            \n",
      "stim)           Greenhouse-Geisser      0.210   0.809   29.133   0.007                                                                            \n",
      "                Huynh-Feldt             0.210   0.809   29.133   0.007                                                                            \n",
      "                Box                     0.210   0.500       18   0.012                                                                            \n",
      "-------------------------------------------------------------------------------------------------------------------------------------------------\n",
      "cue *           Sphericity Assumed      0.044       -        2   0.022    0.942       0.399       0.003     38   0.026    0.050     1.989   0.209 \n",
      "region          Greenhouse-Geisser      0.044   0.902    1.804   0.024    0.942       0.392       0.003     38   0.026    0.050     1.989   0.200 \n",
      "                Huynh-Feldt             0.044   0.902    1.804   0.024    0.942       0.392       0.003     38   0.026    0.050     1.989   0.200 \n",
      "                Box                     0.044   0.500        1   0.044    0.942       0.345       0.003     38   0.026    0.050     1.989   0.157 \n",
      "-------------------------------------------------------------------------------------------------------------------------------------------------\n",
      "Error(cue *     Sphericity Assumed      0.833       -       36   0.023                                                                            \n",
      "region)         Greenhouse-Geisser      0.833   0.902   32.480   0.026                                                                            \n",
      "                Huynh-Feldt             0.833   0.902   32.480   0.026                                                                            \n",
      "                Box                     0.833   0.500       18   0.046                                                                            \n",
      "-------------------------------------------------------------------------------------------------------------------------------------------------\n",
      "stim *          Sphericity Assumed      3.375       -        1   3.375   70.991   1.162e-07       0.255     57   0.031    0.061   224.805       1 \n",
      "region          Greenhouse-Geisser      3.375       1        1   3.375   70.991   1.162e-07       0.255     57   0.031    0.061   224.805       1 \n",
      "                Huynh-Feldt             3.375       1        1   3.375   70.991   1.162e-07       0.255     57   0.031    0.061   224.805       1 \n",
      "                Box                     3.375       1        1   3.375   70.991   1.162e-07       0.255     57   0.031    0.061   224.805       1 \n",
      "-------------------------------------------------------------------------------------------------------------------------------------------------\n",
      "Error(stim *    Sphericity Assumed      0.856       -       18   0.048                                                                            \n",
      "region)         Greenhouse-Geisser      0.856       1       18   0.048                                                                            \n",
      "                Huynh-Feldt             0.856       1       18   0.048                                                                            \n",
      "                Box                     0.856       1       18   0.048                                                                            \n",
      "-------------------------------------------------------------------------------------------------------------------------------------------------\n",
      "cue *           Sphericity Assumed      0.006       -        2   0.003    0.334       0.718   4.774e-04     19   0.023    0.045     0.352   0.075 \n",
      "stim *          Greenhouse-Geisser      0.006   0.736    1.472   0.004    0.334       0.653   4.774e-04     19   0.023    0.045     0.352   0.072 \n",
      "region          Huynh-Feldt             0.006   0.736    1.472   0.004    0.334       0.653   4.774e-04     19   0.023    0.045     0.352   0.072 \n",
      "                Box                     0.006   0.500        1   0.006    0.334       0.571   4.774e-04     19   0.023    0.045     0.352   0.068 \n",
      "-------------------------------------------------------------------------------------------------------------------------------------------------\n",
      "Error(cue *     Sphericity Assumed      0.340       -       36   0.009                                                                            \n",
      "stim *          Greenhouse-Geisser      0.340   0.736   26.497   0.013                                                                            \n",
      "region)         Huynh-Feldt             0.340   0.736   26.497   0.013                                                                            \n",
      "                Box                     0.340   0.500       18   0.019                                                                            \n",
      "\n",
      "TABLES OF ESTIMATED MARGINAL MEANS\n",
      "\n",
      "Estimated Marginal Means for cue\n",
      "cue   Mean    Std. Error   95% Lower Bound   95% Upper Bound \n",
      "============================================================\n",
      "fc    0.337        0.035             0.268             0.405 \n",
      "hc    0.340        0.039             0.263             0.417 \n",
      "nc    0.319        0.035             0.251             0.387 \n",
      "\n",
      "Estimated Marginal Means for stim\n",
      "stim   Mean    Std. Error   95% Lower Bound   95% Upper Bound \n",
      "=============================================================\n",
      "F      0.386        0.035             0.316             0.456 \n",
      "H      0.278        0.021             0.237             0.319 \n",
      "\n",
      "Estimated Marginal Means for region\n",
      "region   Mean    Std. Error   95% Lower Bound   95% Upper Bound \n",
      "===============================================================\n",
      "FFA      0.482        0.035             0.414             0.551 \n",
      "PPA      0.182        0.012             0.159             0.204 \n",
      "\n",
      "Estimated Marginal Means for cue * stim\n",
      "cue   stim   Mean    Std. Error   95% Lower Bound   95% Upper Bound \n",
      "===================================================================\n",
      "fc    F      0.358        0.058             0.245             0.470 \n",
      "fc    H      0.316        0.040             0.237             0.395 \n",
      "hc    F      0.424        0.069             0.289             0.558 \n",
      "hc    H      0.256        0.034             0.190             0.323 \n",
      "nc    F      0.376        0.059             0.261             0.492 \n",
      "nc    H      0.261        0.035             0.192             0.331 \n",
      "\n",
      "Estimated Marginal Means for cue * region\n",
      "cue   region   Mean    Std. Error   95% Lower Bound   95% Upper Bound \n",
      "=====================================================================\n",
      "fc    FFA      0.475        0.059             0.360             0.589 \n",
      "fc    PPA      0.199        0.022             0.155             0.243 \n",
      "hc    FFA      0.510        0.066             0.380             0.639 \n",
      "hc    PPA      0.171        0.018             0.136             0.205 \n",
      "nc    FFA      0.462        0.058             0.348             0.576 \n",
      "nc    PPA      0.175        0.020             0.136             0.214 \n",
      "\n",
      "Estimated Marginal Means for stim * region\n",
      "stim   region   Mean    Std. Error   95% Lower Bound   95% Upper Bound \n",
      "======================================================================\n",
      "F      FFA      0.658        0.049             0.562             0.753 \n",
      "F      PPA      0.114        0.009             0.097             0.131 \n",
      "H      FFA      0.307        0.038             0.231             0.382 \n",
      "H      PPA      0.249        0.017             0.216             0.283 \n",
      "\n",
      "Estimated Marginal Means for cue * stim * region\n",
      "cue   stim   region   Mean    Std. Error   95% Lower Bound   95% Upper Bound \n",
      "============================================================================\n",
      "fc    F      FFA      0.614        0.079             0.459             0.768 \n",
      "fc    F      PPA      0.102        0.009             0.084             0.119 \n",
      "fc    H      FFA      0.336        0.075             0.188             0.483 \n",
      "fc    H      PPA      0.297        0.030             0.238             0.356 \n",
      "hc    F      FFA      0.723        0.096             0.534             0.911 \n",
      "hc    F      PPA      0.125        0.016             0.095             0.156 \n",
      "hc    H      FFA      0.297        0.061             0.177             0.416 \n",
      "hc    H      PPA      0.216        0.028             0.160             0.271 \n",
      "nc    F      FFA      0.637        0.079             0.482             0.793 \n",
      "nc    F      PPA      0.115        0.019             0.079             0.152 \n",
      "nc    H      FFA      0.287        0.065             0.160             0.415 \n",
      "nc    H      PPA      0.235        0.029             0.178             0.293 \n",
      "\n",
      "\n"
     ]
    }
   ],
   "source": [
    "\n",
    "CSTIM_DF = DF(cstimdf.reset_index())\n",
    "CStim_RMA=Anova()\n",
    "CStim_RMA.run(CSTIM_DF, 'peak', wfactors=['cue', 'stim', 'region'], sub='idx')\n",
    "\n",
    "os.chdir('/Users/kyle/Dropbox/PFH/iPFH/PK_ANOVA/')\n",
    "# Write output to a file\n",
    "with open('CUExSTIMxREGION_RMA.txt','wb') as f:\n",
    "        f.write(str(CStim_RMA))\n",
    "\n",
    "# Display output inline\n",
    "print(CStim_RMA)"
   ]
  },
  {
   "cell_type": "markdown",
   "metadata": {},
   "source": [
    "# 1Way ANOVA Example (not appropriate for repeated measures!)"
   ]
  },
  {
   "cell_type": "code",
   "execution_count": 19,
   "metadata": {
    "collapsed": true
   },
   "outputs": [
    {
     "name": "stdout",
     "output_type": "stream",
     "text": [
      "Anova: Single Factor on Measure\n",
      "\n",
      "SUMMARY\n",
      "Groups    Count   Sum   Average   Variance \n",
      "==========================================\n",
      "Contact      10   300        30    116.444 \n",
      "Hit          10   350        35     86.444 \n",
      "Bump         10   380        38    122.222 \n",
      "Collide      10   410        41     41.556 \n",
      "Smash        10   460        46     33.333 \n",
      "\n",
      "O'BRIEN TEST FOR HOMOGENEITY OF VARIANCE\n",
      "Source of Variation       SS       df      MS         F     P-value   eta^2   Obs. power \n",
      "========================================================================================\n",
      "Treatments             68081.975    4   17020.494   1.859     0.134   0.142        0.498 \n",
      "Error                 412050.224   45    9156.672                                        \n",
      "========================================================================================\n",
      "Total                 480132.199   49                                                    \n",
      "\n",
      "ANOVA\n",
      "Source of Variation    SS    df   MS      F     P-value   eta^2   Obs. power \n",
      "============================================================================\n",
      "Treatments            1460    4   365   4.562     0.004   0.289        0.837 \n",
      "Error                 3600   45    80                                        \n",
      "============================================================================\n",
      "Total                 5060   49                                              \n",
      "\n",
      "POSTHOC MULTIPLE COMPARISONS\n",
      "\n",
      "Tukey HSD: Table of q-statistics\n",
      "          Bump   Collide    Contact      Hit       Smash   \n",
      "==========================================================\n",
      "Bump      0      1.061 ns   2.828 ns   1.061 ns   2.828 ns \n",
      "Collide          0          3.889 +    2.121 ns   1.768 ns \n",
      "Contact                     0          1.768 ns   5.657 ** \n",
      "Hit                                    0          3.889 +  \n",
      "Smash                                             0        \n",
      "==========================================================\n",
      "  + p < .10 (q-critical[5, 45] = 3.59038343675)\n",
      "  * p < .05 (q-critical[5, 45] = 4.01861178004)\n",
      " ** p < .01 (q-critical[5, 45] = 4.89280842987)\n"
     ]
    }
   ],
   "source": [
    "from pyvttbl import Anova1way\n",
    "d = [[21.0, 20.0, 26.0, 46.0, 35.0, 13.0, 41.0, 30.0, 42.0, 26.0],\n",
    "     [23.0, 30.0, 34.0, 51.0, 20.0, 38.0, 34.0, 44.0, 41.0, 35.0],\n",
    "     [35.0, 35.0, 52.0, 29.0, 54.0, 32.0, 30.0, 42.0, 50.0, 21.0],\n",
    "     [44.0, 40.0, 33.0, 45.0, 45.0, 30.0, 46.0, 34.0, 49.0, 44.0],\n",
    "     [39.0, 44.0, 51.0, 47.0, 50.0, 45.0, 39.0, 51.0, 39.0, 55.0]]\n",
    "conditions_list = 'Contact Hit Bump Collide Smash'.split()\n",
    "D=Anova1way()\n",
    "D.run(d, conditions_list=conditions_list)\n",
    "print(D)"
   ]
  },
  {
   "cell_type": "code",
   "execution_count": 2,
   "metadata": {
    "collapsed": false
   },
   "outputs": [],
   "source": [
    "#ewma = pd.read_csv(\"HDDM/Final/allsx_ewma.csv\")\n",
    "#allsx = pd.read_csv(\"fMRI/behav/all_sx.csv\")\n",
    "#allcor = pd.read_csv(\"fMRI/behav/all_sx_cor.csv\")"
   ]
  },
  {
   "cell_type": "code",
   "execution_count": 3,
   "metadata": {
    "collapsed": false
   },
   "outputs": [],
   "source": [
    "os.chdir('/Users/kyle/Dropbox/PFH/iPFH/')\n",
    "diff = pd.read_csv('diff_rho_df.csv')"
   ]
  },
  {
   "cell_type": "markdown",
   "metadata": {},
   "source": [
    "## WIN, BW, & WSS Peaks for FFA and PPA Regions"
   ]
  },
  {
   "cell_type": "code",
   "execution_count": 1,
   "metadata": {
    "collapsed": false
   },
   "outputs": [],
   "source": [
    "os.chdir('/Users/kyle/Dropbox/PFH/iPFH/idxPK')\n",
    "#WIN Peaks\n",
    "wpk_ppa=pd.read_csv(\"ppa_rho_df.csv\", index_col='idx')\n",
    "wpk_ffa=pd.read_csv(\"ffa_rho_df.csv\", index_col='idx')\n",
    "\n",
    "#BW Peaks\n",
    "bpk_ppa=pd.read_csv(\"ppa_bw_rhodf.csv\", index_col='idx')\n",
    "bpk_ffa=pd.read_csv(\"ffa_bw_rhodf.csv\", index_col='idx')\n",
    "\n",
    "#WSS Peaks\n",
    "spk_ppa=pd.read_csv(\"ppa_wss_rhodf.csv\", index_col='idx')\n",
    "spk_ffa=pd.read_csv(\"ffa_wss_rhodf.csv\", index_col='idx')"
   ]
  },
  {
   "cell_type": "code",
   "execution_count": 5,
   "metadata": {
    "collapsed": true
   },
   "outputs": [],
   "source": [
    "df = pd.read_csv(\"../idxPARAM/msms_rho_df.csv\")"
   ]
  },
  {
   "cell_type": "code",
   "execution_count": 47,
   "metadata": {
    "collapsed": false
   },
   "outputs": [
    {
     "data": {
      "text/plain": [
       "(0.065182192320241777, 0.79092061115947487)"
      ]
     },
     "execution_count": 47,
     "metadata": {},
     "output_type": "execute_result"
    }
   ],
   "source": [
    "pearsonr(df['vHF_n_zH2b'], ssl_ppa['hcface'].values/bpk_ffa['hc-hcF'])"
   ]
  },
  {
   "cell_type": "code",
   "execution_count": 15,
   "metadata": {
    "collapsed": false
   },
   "outputs": [
    {
     "data": {
      "text/plain": [
       "(-0.37715493941157546, 0.1114272172897016)"
      ]
     },
     "execution_count": 15,
     "metadata": {},
     "output_type": "execute_result"
    }
   ],
   "source": [
    "pearsonr(df['vHF_n_zH2a'], (wpk_ppa['hcF']/wpk_ppa['hc-hcF']))"
   ]
  },
  {
   "cell_type": "code",
   "execution_count": 7,
   "metadata": {
    "collapsed": true
   },
   "outputs": [
    {
     "ename": "NameError",
     "evalue": "name 'wtc_ffa' is not defined",
     "output_type": "error",
     "traceback": [
      "\u001b[0;31m---------------------------------------------------------------------------\u001b[0m",
      "\u001b[0;31mNameError\u001b[0m                                 Traceback (most recent call last)",
      "\u001b[0;32m<ipython-input-7-8791f84d20fb>\u001b[0m in \u001b[0;36m<module>\u001b[0;34m()\u001b[0m\n\u001b[0;32m----> 1\u001b[0;31m \u001b[0mwtc_ffa\u001b[0m\u001b[0;34m[\u001b[0m\u001b[0;34m'peak'\u001b[0m\u001b[0;34m]\u001b[0m \u001b[0;34m=\u001b[0m \u001b[0mwtc_ffa\u001b[0m\u001b[0;34m.\u001b[0m\u001b[0mloc\u001b[0m\u001b[0;34m[\u001b[0m\u001b[0;34m:\u001b[0m\u001b[0;34m,\u001b[0m \u001b[0;34m'1'\u001b[0m\u001b[0;34m:\u001b[0m\u001b[0;34m'12'\u001b[0m\u001b[0;34m]\u001b[0m\u001b[0;34m.\u001b[0m\u001b[0mmax\u001b[0m\u001b[0;34m(\u001b[0m\u001b[0maxis\u001b[0m\u001b[0;34m=\u001b[0m\u001b[0;36m1\u001b[0m\u001b[0;34m)\u001b[0m\u001b[0;34m\u001b[0m\u001b[0m\n\u001b[0m\u001b[1;32m      2\u001b[0m \u001b[0mwtc_ppa\u001b[0m\u001b[0;34m[\u001b[0m\u001b[0;34m'peak'\u001b[0m\u001b[0;34m]\u001b[0m \u001b[0;34m=\u001b[0m \u001b[0mwtc_ppa\u001b[0m\u001b[0;34m.\u001b[0m\u001b[0mloc\u001b[0m\u001b[0;34m[\u001b[0m\u001b[0;34m:\u001b[0m\u001b[0;34m,\u001b[0m \u001b[0;34m'1'\u001b[0m\u001b[0;34m:\u001b[0m\u001b[0;34m'12'\u001b[0m\u001b[0;34m]\u001b[0m\u001b[0;34m.\u001b[0m\u001b[0mmax\u001b[0m\u001b[0;34m(\u001b[0m\u001b[0maxis\u001b[0m\u001b[0;34m=\u001b[0m\u001b[0;36m1\u001b[0m\u001b[0;34m)\u001b[0m\u001b[0;34m\u001b[0m\u001b[0m\n",
      "\u001b[0;31mNameError\u001b[0m: name 'wtc_ffa' is not defined"
     ]
    }
   ],
   "source": [
    "wtc_ffa['peak'] = wtc_ffa.loc[:, '1':'12'].max(axis=1)\n",
    "wtc_ppa['peak'] = wtc_ppa.loc[:, '1':'12'].max(axis=1)"
   ]
  },
  {
   "cell_type": "code",
   "execution_count": 30,
   "metadata": {
    "collapsed": false
   },
   "outputs": [
    {
     "data": {
      "text/plain": [
       "(1.8594074691163476, 0.079394923721580968)"
      ]
     },
     "execution_count": 30,
     "metadata": {},
     "output_type": "execute_result"
    }
   ],
   "source": [
    "#wtc_ffa[wtc_ffa['cond']=='hcF'.groupby(['sx','cond'])\n",
    "\n",
    "fpks = wtc_ffa.pivot(index='sx', columns='cond', values='peak')\n",
    "hpks = wtc_ppa.pivot(index='sx', columns='cond', values='peak')\n",
    "\n",
    "ttest_rel(fpks.hcface - fpks.fcface, hpks.hcface - hpks.fcface)"
   ]
  },
  {
   "cell_type": "code",
   "execution_count": 9,
   "metadata": {
    "collapsed": false
   },
   "outputs": [
    {
     "data": {
      "text/plain": [
       "(-0.071013173522570583, 0.94417032731039185)"
      ]
     },
     "execution_count": 9,
     "metadata": {},
     "output_type": "execute_result"
    }
   ],
   "source": [
    "ttest_rel(wpk_ppa.hcH-wpk_ppa.fcH, wpk_ffa.fcF-wpk_ffa.hcF)\n",
    "x1 = (wpk_ffa.fcF-wpk_ffa.hcF)/np.sqrt(stats.sem(wpk_ffa.fcF-wpk_ffa.hcF))\n",
    "x2 = (wpk_ppa.hcH-wpk_ppa.fcH)/np.sqrt(stats.sem(wpk_ppa.hcH-wpk_ppa.fcH))\n",
    "ttest_rel(x1, x2)"
   ]
  },
  {
   "cell_type": "code",
   "execution_count": 17,
   "metadata": {
    "collapsed": false
   },
   "outputs": [
    {
     "data": {
      "text/plain": [
       "-0.081192272105263155"
      ]
     },
     "execution_count": 17,
     "metadata": {},
     "output_type": "execute_result"
    }
   ],
   "source": [
    "(wpk_ppa.hcH-wpk_ppa.fcH).mean()\n",
    "(wpk_ffa.fcF-wpk_ffa.hcF).mean()"
   ]
  },
  {
   "cell_type": "markdown",
   "metadata": {},
   "source": [
    "## WIN & WSS Min for FFA and PPA Regions"
   ]
  },
  {
   "cell_type": "code",
   "execution_count": 10,
   "metadata": {
    "collapsed": false
   },
   "outputs": [],
   "source": [
    "os.chdir('/Users/kyle/Dropbox/PFH/iPFH/idxLO')\n",
    "\n",
    "#WIN Minimum of TC\n",
    "wlo_ppa=pd.read_csv(\"win_ppalow_rhodf.csv\", index_col='idx')\n",
    "wlo_ffa=pd.read_csv(\"win_ffalow_rhodf.csv\", index_col='idx')\n",
    "\n",
    "#WSS Minimum of TC\n",
    "slo_ppa=pd.read_csv(\"wss_ppalow_rhodf.csv\", index_col='idx')\n",
    "slo_ffa=pd.read_csv(\"wss_ffalow_rhodf.csv\", index_col='idx')"
   ]
  },
  {
   "cell_type": "markdown",
   "metadata": {},
   "source": [
    "## WIN, BW, & WSS timecourses for FFA and PPA Regions"
   ]
  },
  {
   "cell_type": "code",
   "execution_count": 14,
   "metadata": {
    "collapsed": false
   },
   "outputs": [],
   "source": [
    "os.chdir('/Users/kyle/Dropbox/PFH/iPFH/idxTC')\n",
    "\n",
    "#WIN Timecourses\n",
    "wtc_ffa = pd.read_csv('WIN_AllSx_FaceClusters.csv')\n",
    "wtc_ppa = pd.read_csv('WIN_AllSx_HouseClusters.csv')\n",
    "\n",
    "#BW Timecourses\n",
    "btc_ffa = pd.read_csv('BW_AllSx_FaceClusters.csv')\n",
    "btc_ppa = pd.read_csv('BW_AllSx_HouseClusters.csv')\n",
    "\n",
    "#WSS Timecourses\n",
    "stc_ffa = pd.read_csv('WSS_AllSx_FaceClusters.csv')\n",
    "stc_ppa = pd.read_csv('WSS_AllSx_HouseClusters.csv')"
   ]
  },
  {
   "cell_type": "code",
   "execution_count": 37,
   "metadata": {
    "collapsed": false
   },
   "outputs": [],
   "source": [
    "os.chdir('/Users/kyle/Dropbox/PFH/iPFH/idxLO')\n",
    "\n",
    "ppa_lo = wtc_ppa.loc[:, '1':'12'].min(axis=1)\n",
    "xdf = pd.DataFrame({\"idx\":wtc_ppa.idx, \"cond\":wtc_ppa.cond, 'low':ppa_lo})\n",
    "wlo_ppa['fc'] = xdf[xdf.cond=='fc'].low.values\n",
    "wlo_ppa['nc'] = xdf[xdf.cond=='nc'].low.values\n",
    "wlo_ppa['hc'] = xdf[xdf.cond=='hc'].low.values\n",
    "wlo_ppa['fcF'] = xdf[xdf.cond=='fcface'].low.values\n",
    "wlo_ppa['fcH'] = xdf[xdf.cond=='fchouse'].low.values\n",
    "wlo_ppa['ncF'] = xdf[xdf.cond=='ncface'].low.values\n",
    "wlo_ppa['ncH'] = xdf[xdf.cond=='nchouse'].low.values\n",
    "wlo_ppa['hcF'] = xdf[xdf.cond=='hcface'].low.values\n",
    "wlo_ppa['hcH'] = xdf[xdf.cond=='hchouse'].low.values\n",
    "wlo_ppa.to_csv('win_ppalow_rhodf.csv')\n",
    "\n",
    "# FFA MIN\n",
    "ffa_lo = wtc_ffa.loc[:, '1':'12'].min(axis=1)\n",
    "xdf = pd.DataFrame({\"idx\":wtc_ffa.idx, \"cond\":wtc_ffa.cond, 'low':ffa_lo})\n",
    "\n",
    "wlo_ffa['fc'] = xdf[xdf.cond=='fc'].low.values\n",
    "wlo_ffa['nc'] = xdf[xdf.cond=='nc'].low.values\n",
    "wlo_ffa['hc'] = xdf[xdf.cond=='hc'].low.values\n",
    "wlo_ffa['fcF'] = xdf[xdf.cond=='fcface'].low.values\n",
    "wlo_ffa['fcH'] = xdf[xdf.cond=='fchouse'].low.values\n",
    "wlo_ffa['ncF'] = xdf[xdf.cond=='ncface'].low.values\n",
    "wlo_ffa['ncH'] = xdf[xdf.cond=='nchouse'].low.values\n",
    "wlo_ffa['hcF'] = xdf[xdf.cond=='hcface'].low.values\n",
    "wlo_ffa['hcH'] = xdf[xdf.cond=='hchouse'].low.values\n",
    "\n",
    "wlo_ffa.to_csv('win_ffalow_rhodf.csv')\n"
   ]
  },
  {
   "cell_type": "code",
   "execution_count": 40,
   "metadata": {
    "collapsed": true
   },
   "outputs": [],
   "source": [
    "os.chdir('/Users/kyle/Desktop/')\n",
    "acc = pd.read_csv(\"avg_acc.csv\", index_col=0)\n",
    "rt = pd.read_csv(\"avg_rt.csv\", index_col=0)"
   ]
  },
  {
   "cell_type": "code",
   "execution_count": 43,
   "metadata": {
    "collapsed": false
   },
   "outputs": [
    {
     "data": {
      "text/plain": [
       "0.6638945263157893"
      ]
     },
     "execution_count": 43,
     "metadata": {},
     "output_type": "execute_result"
    }
   ],
   "source": [
    "os.chdir('/Users/kyle/Dropbox/PFH/iPFH/idxPARAM/')\n",
    "msm = pd.read_csv('msm_rho_df.csv')\n",
    "msm.zN.mean()"
   ]
  },
  {
   "cell_type": "code",
   "execution_count": 41,
   "metadata": {
    "collapsed": false
   },
   "outputs": [
    {
     "data": {
      "text/plain": [
       "(2.8756424349924461, 0.010060509923226248)"
      ]
     },
     "execution_count": 41,
     "metadata": {},
     "output_type": "execute_result"
    }
   ],
   "source": [
    "ttest_rel(acc.nHouse, acc.nFace)"
   ]
  },
  {
   "cell_type": "code",
   "execution_count": 36,
   "metadata": {
    "collapsed": false
   },
   "outputs": [
    {
     "data": {
      "text/plain": [
       "(4.7395059039074621, 0.0001636641695634319)"
      ]
     },
     "execution_count": 36,
     "metadata": {},
     "output_type": "execute_result"
    }
   ],
   "source": [
    "ttest_rel(wlo_ppa.fcF, wlo_ppa.hcF)"
   ]
  },
  {
   "cell_type": "markdown",
   "metadata": {},
   "source": [
    "# WIN Slopes "
   ]
  },
  {
   "cell_type": "code",
   "execution_count": 261,
   "metadata": {
    "collapsed": false
   },
   "outputs": [],
   "source": [
    "wtcf = wtc_ffa[~wtc_ffa.cond.isin(['fc', 'hc', 'nc'])]\n",
    "wtch = wtc_ppa[~wtc_ppa.cond.isin(['fc', 'hc', 'nc'])]\n",
    "ffa_win_slopes = pd.DataFrame({c:get_slopes(wtcf[wtcf.cond==c], start='2') for c in wtcf.cond.unique()}, index=wtcf.sx.unique())\n",
    "ffa_win_slopes.index.name = 'idx'\n",
    "ffa_win_slopes.to_csv(\"../IdxSL/ffa_win_slopes.csv\")\n",
    "\n",
    "ppa_win_slopes = pd.DataFrame({c:get_slopes(wtch[wtch.cond==c], start='2') for c in wtch.cond.unique()}, index=wtch.sx.unique())\n",
    "ppa_win_slopes.index.name = 'idx'\n",
    "ppa_win_slopes.to_csv(\"../IdxSL/ppa_win_slopes.csv\")"
   ]
  },
  {
   "cell_type": "markdown",
   "metadata": {},
   "source": [
    "# WIN Slopes To Long Format"
   ]
  },
  {
   "cell_type": "code",
   "execution_count": 262,
   "metadata": {
    "collapsed": false
   },
   "outputs": [],
   "source": [
    "ffawin_long = ffa_win_slopes.stack().reset_index(name='slope')\n",
    "ffawin_long.rename(columns={'level_1':'cstim'}, inplace=True)\n",
    "ppawin_long = ppa_win_slopes.stack().reset_index(name='slope')\n",
    "ppawin_long.rename(columns={'level_1':'cstim'}, inplace=True)\n",
    "\n",
    "ffawin_long['cue'] = ['fc', 'fc', 'hc', 'hc', 'nc', 'nc']*int(len(ffawin_long)/6)\n",
    "ppawin_long['cue'] = ['fc', 'fc', 'hc', 'hc', 'nc', 'nc']*int(len(ppawin_long)/6)\n",
    "ffawin_long['stim'] = ['face','house']*int(len(ffawin_long)/2)\n",
    "ppawin_long['stim'] = ['face','house']*int(len(ppawin_long)/2)\n",
    "\n",
    "ffawin_long.to_csv('../IdxSL/ffa_win_slope_long.csv', index=False)\n",
    "ppawin_long.to_csv('../IdxSL/ppa_win_slope_long.csv', index=False)"
   ]
  },
  {
   "cell_type": "markdown",
   "metadata": {},
   "source": [
    "# WIN Slopes (Neg)"
   ]
  },
  {
   "cell_type": "code",
   "execution_count": 185,
   "metadata": {
    "collapsed": false
   },
   "outputs": [],
   "source": [
    "wtcf = wtc_ffa[~wtc_ffa.cond.isin(['fc', 'hc', 'nc'])]\n",
    "wtch = wtc_ppa[~wtc_ppa.cond.isin(['fc', 'hc', 'nc'])]\n",
    "\n",
    "ffa_win_slopes = pd.DataFrame({c:get_slopes(wtcf[wtcf.cond==c], start='3', direction='neg') for c in wtcf.cond.unique()}, index=wtcf.sx.unique())\n",
    "ffa_win_slopes.index.name = 'idx'\n",
    "ffa_win_slopes.to_csv(\"../IdxSL/ffa_win_neg_slopes.csv\")\n",
    "\n",
    "ppa_win_slopes = pd.DataFrame({c:get_slopes(wtch[wtch.cond==c], start='3', direction='neg') for c in wtch.cond.unique()}, index=wtch.sx.unique())\n",
    "ppa_win_slopes.index.name = 'idx'\n",
    "ppa_win_slopes.to_csv(\"../IdxSL/ppa_win_neg_slopes.csv\")"
   ]
  },
  {
   "cell_type": "markdown",
   "metadata": {},
   "source": [
    "# WIN Slopes (Neg) To Long Format"
   ]
  },
  {
   "cell_type": "code",
   "execution_count": 186,
   "metadata": {
    "collapsed": false
   },
   "outputs": [],
   "source": [
    "ffawin_long = ffa_win_slopes.stack().reset_index(name='slope')\n",
    "ffawin_long.rename(columns={'level_1':'cstim'}, inplace=True)\n",
    "ppawin_long = ppa_win_slopes.stack().reset_index(name='slope')\n",
    "ppawin_long.rename(columns={'level_1':'cstim'}, inplace=True)\n",
    "\n",
    "ffawin_long['cue'] = ['fc', 'fc', 'hc', 'hc', 'nc', 'nc']*int(len(ffawin_long)/6)\n",
    "ppawin_long['cue'] = ['fc', 'fc', 'hc', 'hc', 'nc', 'nc']*int(len(ppawin_long)/6)\n",
    "ffawin_long['stim'] = ['face','house']*int(len(ffawin_long)/2)\n",
    "ppawin_long['stim'] = ['face','house']*int(len(ppawin_long)/2)\n",
    "\n",
    "ffawin_long.to_csv('../IdxSL/ffa_win_neg_slope_long.csv', index=False)\n",
    "ppawin_long.to_csv('../IdxSL/ppa_win_neg_slope_long.csv', index=False)"
   ]
  },
  {
   "cell_type": "markdown",
   "metadata": {},
   "source": [
    "# WSS Slopes "
   ]
  },
  {
   "cell_type": "code",
   "execution_count": 229,
   "metadata": {
    "collapsed": false
   },
   "outputs": [],
   "source": [
    "stch = stc_ppa[stc_ppa.cond.isin(['FFast', 'FSlow', 'HFast', 'HSlow'])]\n",
    "stcf = stc_ffa[stc_ffa.cond.isin(['FFast', 'FSlow', 'HFast', 'HSlow'])]\n",
    "\n",
    "ffa_wss_slopes = pd.DataFrame({c:get_slopes(stcf[stcf.cond==c], start='2') for c in stcf.cond.unique()}, index=stcf.sx.unique())\n",
    "ffa_wss_slopes.index.name = 'idx'\n",
    "ffa_wss_slopes.to_csv(\"../IdxSL/ffa_wss_slopes.csv\")\n",
    "\n",
    "ppa_wss_slopes = pd.DataFrame({c:get_slopes(stch[stch.cond==c], start='2') for c in stch.cond.unique()}, index=stch.sx.unique())\n",
    "ppa_wss_slopes.index.name = 'idx'\n",
    "ppa_wss_slopes.to_csv(\"../IdxSL/ppa_wss_slopes.csv\")"
   ]
  },
  {
   "cell_type": "markdown",
   "metadata": {},
   "source": [
    "# WSS Slopes To Long Format"
   ]
  },
  {
   "cell_type": "code",
   "execution_count": 230,
   "metadata": {
    "collapsed": true
   },
   "outputs": [],
   "source": [
    "ffawss_long = ffa_wss_slopes.stack().reset_index(name='slope')\n",
    "ffawss_long.rename(columns={'level_1':'stimspd'}, inplace=True)\n",
    "ppawss_long = ppa_wss_slopes.stack().reset_index(name='slope')\n",
    "ppawss_long.rename(columns={'level_1':'stimspd'}, inplace=True)\n",
    "\n",
    "ffawss_long['stim'] = ['face','face', 'house','house']*int(len(ffawss_long)/4)\n",
    "ppawss_long['stim'] = ['face','face', 'house','house']*int(len(ppawss_long)/4)\n",
    "ffawss_long['speed'] = ['fast','slow']*int(len(ffawss_long)/2)\n",
    "ppawss_long['speed'] = ['fast','slow']*int(len(ppawss_long)/2)\n",
    "\n",
    "ppawss_long.to_csv('../IdxSL/ppa_wss_slope_long.csv', index=False)\n",
    "ffawss_long.to_csv('../IdxSL/ffa_wss_slope_long.csv', index=False)"
   ]
  },
  {
   "cell_type": "markdown",
   "metadata": {},
   "source": [
    "# WSS Slopes (Neg)"
   ]
  },
  {
   "cell_type": "code",
   "execution_count": 189,
   "metadata": {
    "collapsed": false
   },
   "outputs": [],
   "source": [
    "stch = stc_ppa[stc_ppa.cond.isin(['FFast', 'FSlow', 'HFast', 'HSlow'])]\n",
    "stcf = stc_ffa[stc_ffa.cond.isin(['FFast', 'FSlow', 'HFast', 'HSlow'])]\n",
    "\n",
    "ffa_wss_slopes = pd.DataFrame({c:get_slopes(stcf[stcf.cond==c], start='3', direction='neg') for c in stcf.cond.unique()}, index=stcf.sx.unique())\n",
    "ffa_wss_slopes.index.name = 'idx'\n",
    "ffa_wss_slopes.to_csv(\"../IdxSL/ffa_wss_neg_slopes.csv\")\n",
    "\n",
    "ppa_wss_slopes = pd.DataFrame({c:get_slopes(stch[stch.cond==c], start='3', direction='neg') for c in stch.cond.unique()}, index=stch.sx.unique())\n",
    "ppa_wss_slopes.index.name = 'idx'\n",
    "ppa_wss_slopes.to_csv(\"../IdxSL/ppa_wss_neg_slopes.csv\")"
   ]
  },
  {
   "cell_type": "markdown",
   "metadata": {},
   "source": [
    "# WSS Slopes To Long Format (Neg)"
   ]
  },
  {
   "cell_type": "code",
   "execution_count": 190,
   "metadata": {
    "collapsed": true
   },
   "outputs": [],
   "source": [
    "ffawss_long = ffa_wss_slopes.stack().reset_index(name='slope')\n",
    "ffawss_long.rename(columns={'level_1':'stimspd'}, inplace=True)\n",
    "ppawss_long = ppa_wss_slopes.stack().reset_index(name='slope')\n",
    "ppawss_long.rename(columns={'level_1':'stimspd'}, inplace=True)\n",
    "\n",
    "ffawss_long['stim'] = ['face','face', 'house','house']*int(len(ffawss_long)/4)\n",
    "ppawss_long['stim'] = ['face','face', 'house','house']*int(len(ppawss_long)/4)\n",
    "ffawss_long['speed'] = ['fast','slow']*int(len(ffawss_long)/2)\n",
    "ppawss_long['speed'] = ['fast','slow']*int(len(ppawss_long)/2)\n",
    "\n",
    "ppawss_long.to_csv('../IdxSL/ppa_wss_neg_slope_long.csv', index=False)\n",
    "ffawss_long.to_csv('../IdxSL/ffa_wss_neg_slope_long.csv', index=False)"
   ]
  },
  {
   "cell_type": "markdown",
   "metadata": {},
   "source": [
    "# PPA CStim Slope RMA"
   ]
  },
  {
   "cell_type": "code",
   "execution_count": 263,
   "metadata": {
    "collapsed": false,
    "scrolled": true
   },
   "outputs": [
    {
     "data": {
      "text/plain": [
       "(2.7890620934005987, 0.012117300811849441)"
      ]
     },
     "execution_count": 263,
     "metadata": {},
     "output_type": "execute_result"
    }
   ],
   "source": [
    "os.chdir('/Users/kyle/Dropbox/PFH/iPFH/idxSL/')\n",
    "wsl_ppa=pd.read_csv(\"ppa_win_slope_long.csv\")\n",
    "fch_sl = wsl_ppa[wsl_ppa.cstim=='fchouse'].slope\n",
    "hch_sl = wsl_ppa[wsl_ppa.cstim=='hchouse'].slope\n",
    "nch_sl = wsl_ppa[wsl_ppa.cstim=='nchouse'].slope\n",
    "ttrel(fch_sl, hch_sl)"
   ]
  },
  {
   "cell_type": "code",
   "execution_count": 264,
   "metadata": {
    "collapsed": true
   },
   "outputs": [
    {
     "name": "stdout",
     "output_type": "stream",
     "text": [
      "slope ~ cue * stim\n",
      "\n",
      "TESTS OF WITHIN SUBJECTS EFFECTS\n",
      "\n",
      "Measure: slope\n",
      "  Source                           Type III    eps      df        MS         F        Sig.      et2_G   Obs.    SE     95% CI   lambda    Obs.  \n",
      "                                      SS                                                                                                  Power \n",
      "===============================================================================================================================================\n",
      "cue           Sphericity Assumed      0.019       -        2       0.009    4.818       0.014   0.062     38   0.007    0.015    10.172   0.787 \n",
      "              Greenhouse-Geisser      0.019   0.952    1.904       0.010    4.818       0.016   0.062     38   0.007    0.015    10.172   0.772 \n",
      "              Huynh-Feldt             0.019   0.952    1.904       0.010    4.818       0.016   0.062     38   0.007    0.015    10.172   0.772 \n",
      "              Box                     0.019   0.500        1       0.019    4.818       0.042   0.062     38   0.007    0.015    10.172   0.569 \n",
      "-----------------------------------------------------------------------------------------------------------------------------------------------\n",
      "Error(cue)    Sphericity Assumed      0.070       -       36       0.002                                                                        \n",
      "              Greenhouse-Geisser      0.070   0.952   34.263       0.002                                                                        \n",
      "              Huynh-Feldt             0.070   0.952   34.263       0.002                                                                        \n",
      "              Box                     0.070   0.500       18       0.004                                                                        \n",
      "-----------------------------------------------------------------------------------------------------------------------------------------------\n",
      "stim          Sphericity Assumed      0.070       -        1       0.070   76.873   6.489e-08   0.231     57   0.004    0.008   243.430       1 \n",
      "              Greenhouse-Geisser      0.070       1        1       0.070   76.873   6.489e-08   0.231     57   0.004    0.008   243.430       1 \n",
      "              Huynh-Feldt             0.070       1        1       0.070   76.873   6.489e-08   0.231     57   0.004    0.008   243.430       1 \n",
      "              Box                     0.070       1        1       0.070   76.873   6.489e-08   0.231     57   0.004    0.008   243.430       1 \n",
      "-----------------------------------------------------------------------------------------------------------------------------------------------\n",
      "Error(stim)   Sphericity Assumed      0.016       -       18   9.081e-04                                                                        \n",
      "              Greenhouse-Geisser      0.016       1       18   9.081e-04                                                                        \n",
      "              Huynh-Feldt             0.016       1       18   9.081e-04                                                                        \n",
      "              Box                     0.016       1       18   9.081e-04                                                                        \n",
      "-----------------------------------------------------------------------------------------------------------------------------------------------\n",
      "cue *         Sphericity Assumed      0.004       -        2       0.002    2.092       0.138   0.014     19   0.008    0.015     2.208   0.229 \n",
      "stim          Greenhouse-Geisser      0.004   0.721    1.442       0.003    2.092       0.154   0.014     19   0.008    0.015     2.208   0.197 \n",
      "              Huynh-Feldt             0.004   0.721    1.442       0.003    2.092       0.154   0.014     19   0.008    0.015     2.208   0.197 \n",
      "              Box                     0.004   0.500        1       0.004    2.092       0.165   0.014     19   0.008    0.015     2.208   0.169 \n",
      "-----------------------------------------------------------------------------------------------------------------------------------------------\n",
      "Error(cue *   Sphericity Assumed      0.036       -       36       0.001                                                                        \n",
      "stim)         Greenhouse-Geisser      0.036   0.721   25.962       0.001                                                                        \n",
      "              Huynh-Feldt             0.036   0.721   25.962       0.001                                                                        \n",
      "              Box                     0.036   0.500       18       0.002                                                                        \n",
      "\n",
      "TABLES OF ESTIMATED MARGINAL MEANS\n",
      "\n",
      "Estimated Marginal Means for cue\n",
      "cue   Mean    Std. Error   95% Lower Bound   95% Upper Bound \n",
      "============================================================\n",
      "fc    0.078        0.010             0.059             0.098 \n",
      "hc    0.048        0.007             0.035             0.062 \n",
      "nc    0.071        0.011             0.050             0.093 \n",
      "\n",
      "Estimated Marginal Means for stim\n",
      "stim    Mean    Std. Error   95% Lower Bound   95% Upper Bound \n",
      "==============================================================\n",
      "face    0.041        0.006             0.030             0.053 \n",
      "house   0.091        0.008             0.075             0.107 \n",
      "\n",
      "Estimated Marginal Means for cue * stim\n",
      "cue   stim    Mean    Std. Error   95% Lower Bound   95% Upper Bound \n",
      "====================================================================\n",
      "fc    face    0.045        0.010             0.025             0.066 \n",
      "fc    house   0.112        0.014             0.085             0.138 \n",
      "hc    face    0.029        0.007             0.015             0.043 \n",
      "hc    house   0.068        0.010             0.048             0.088 \n",
      "nc    face    0.050        0.012             0.026             0.074 \n",
      "nc    house   0.093        0.017             0.060             0.125 \n",
      "\n",
      "\n"
     ]
    }
   ],
   "source": [
    "os.chdir('/Users/kyle/Dropbox/PFH/iPFH/idxSL/')\n",
    "wsl_ppa=pd.read_csv(\"ppa_win_slope_long.csv\")\n",
    "\n",
    "PPA_CStim_Slp = DF(wsl_ppa)\n",
    "PPA_CStimSLP_RMA=Anova()\n",
    "PPA_CStimSLP_RMA.run(PPA_CStim_Slp, 'slope', wfactors=['cue', 'stim'], sub='idx')\n",
    "\n",
    "os.chdir('/Users/kyle/Dropbox/PFH/iPFH/SL_ANOVA/')\n",
    "# Write output to a file\n",
    "with open('PPA_CStimSLP_RMA.txt','wb') as f:\n",
    "      f.write(\"FC House Slope > HC House Slope (Neg):\\nt(18) = %.4f, p=%.4f\\n\\n\" % ttrel(fch_sl, hch_sl))\n",
    "      f.write(\"so a faster deflection for unexpected houses than expected houses in house-selective regions\")\n",
    "      f.write(\"NC House Slope > HC House Slope (Neg):\\nt(18) = %.4f, p=%.4f\\n\\n\" % ttrel(nch_sl, hch_sl))\n",
    "      f.write(\"so a faster deflection for neutral houses than expected houses in house-selective regions\")\n",
    "      f.write(str(PPA_CStimSLP_RMA))\n",
    "\n",
    "# Display output inline\n",
    "print(PPA_CStimSLP_RMA)"
   ]
  },
  {
   "cell_type": "markdown",
   "metadata": {},
   "source": [
    "# PPA CStim Neg Slope RMA"
   ]
  },
  {
   "cell_type": "code",
   "execution_count": 195,
   "metadata": {
    "collapsed": true
   },
   "outputs": [
    {
     "name": "stdout",
     "output_type": "stream",
     "text": [
      "slope ~ cue * stim\n",
      "\n",
      "TESTS OF WITHIN SUBJECTS EFFECTS\n",
      "\n",
      "Measure: slope\n",
      "  Source                           Type III    eps      df        MS         F        Sig.      et2_G   Obs.    SE     95% CI   lambda   Obs.  \n",
      "                                      SS                                                                                                 Power \n",
      "==============================================================================================================================================\n",
      "cue           Sphericity Assumed      0.004       -        2       0.002    3.567       0.039   0.037     38   0.004    0.007    7.531   0.650 \n",
      "              Greenhouse-Geisser      0.004   0.902    1.803       0.002    3.567       0.044   0.037     38   0.004    0.007    7.531   0.617 \n",
      "              Huynh-Feldt             0.004   0.902    1.803       0.002    3.567       0.044   0.037     38   0.004    0.007    7.531   0.617 \n",
      "              Box                     0.004   0.500        1       0.004    3.567       0.075   0.037     38   0.004    0.007    7.531   0.451 \n",
      "----------------------------------------------------------------------------------------------------------------------------------------------\n",
      "Error(cue)    Sphericity Assumed      0.018       -       36   5.108e-04                                                                       \n",
      "              Greenhouse-Geisser      0.018   0.902   32.458   5.665e-04                                                                       \n",
      "              Huynh-Feldt             0.018   0.902   32.458   5.665e-04                                                                       \n",
      "              Box                     0.018   0.500       18       0.001                                                                       \n",
      "----------------------------------------------------------------------------------------------------------------------------------------------\n",
      "stim          Sphericity Assumed      0.033       -        1       0.033   18.842   3.939e-04   0.331     57   0.006    0.012   59.666   1.000 \n",
      "              Greenhouse-Geisser      0.033       1        1       0.033   18.842   3.939e-04   0.331     57   0.006    0.012   59.666   1.000 \n",
      "              Huynh-Feldt             0.033       1        1       0.033   18.842   3.939e-04   0.331     57   0.006    0.012   59.666   1.000 \n",
      "              Box                     0.033       1        1       0.033   18.842   3.939e-04   0.331     57   0.006    0.012   59.666   1.000 \n",
      "----------------------------------------------------------------------------------------------------------------------------------------------\n",
      "Error(stim)   Sphericity Assumed      0.031       -       18       0.002                                                                       \n",
      "              Greenhouse-Geisser      0.031       1       18       0.002                                                                       \n",
      "              Huynh-Feldt             0.031       1       18       0.002                                                                       \n",
      "              Box                     0.031       1       18       0.002                                                                       \n",
      "----------------------------------------------------------------------------------------------------------------------------------------------\n",
      "cue *         Sphericity Assumed      0.005       -        2       0.003    4.789       0.014   0.053     19   0.006    0.011    5.055   0.474 \n",
      "stim          Greenhouse-Geisser      0.005   0.669    1.339       0.004    4.789       0.029   0.053     19   0.006    0.011    5.055   0.379 \n",
      "              Huynh-Feldt             0.005   0.669    1.339       0.004    4.789       0.029   0.053     19   0.006    0.011    5.055   0.379 \n",
      "              Box                     0.005   0.500        1       0.005    4.789       0.042   0.053     19   0.006    0.011    5.055   0.325 \n",
      "----------------------------------------------------------------------------------------------------------------------------------------------\n",
      "Error(cue *   Sphericity Assumed      0.020       -       36   5.455e-04                                                                       \n",
      "stim)         Greenhouse-Geisser      0.020   0.669   24.097   8.149e-04                                                                       \n",
      "              Huynh-Feldt             0.020   0.669   24.097   8.149e-04                                                                       \n",
      "              Box                     0.020   0.500       18       0.001                                                                       \n",
      "\n",
      "TABLES OF ESTIMATED MARGINAL MEANS\n",
      "\n",
      "Estimated Marginal Means for cue\n",
      "cue    Mean    Std. Error   95% Lower Bound   95% Upper Bound \n",
      "=============================================================\n",
      "fc    -0.039        0.005            -0.048            -0.029 \n",
      "hc    -0.050        0.006            -0.062            -0.037 \n",
      "nc    -0.037        0.005            -0.047            -0.026 \n",
      "\n",
      "Estimated Marginal Means for stim\n",
      "stim     Mean    Std. Error   95% Lower Bound   95% Upper Bound \n",
      "===============================================================\n",
      "face    -0.059        0.005            -0.068            -0.049 \n",
      "house   -0.025        0.003            -0.031            -0.019 \n",
      "\n",
      "Estimated Marginal Means for cue * stim\n",
      "cue   stim     Mean    Std. Error   95% Lower Bound   95% Upper Bound \n",
      "=====================================================================\n",
      "fc    face    -0.049        0.008            -0.065            -0.033 \n",
      "fc    house   -0.028        0.005            -0.038            -0.018 \n",
      "hc    face    -0.076        0.007            -0.090            -0.062 \n",
      "hc    house   -0.023        0.007            -0.036            -0.010 \n",
      "nc    face    -0.051        0.009            -0.068            -0.033 \n",
      "nc    house   -0.023        0.005            -0.032            -0.014 \n",
      "\n",
      "\n"
     ]
    }
   ],
   "source": [
    "os.chdir('/Users/kyle/Dropbox/PFH/iPFH/idxSL/')\n",
    "wsl_ppa=pd.read_csv(\"ppa_win_neg_slope_long.csv\")\n",
    "\n",
    "fcf_sl = wsl_ppa[wsl_ppa.cstim=='fcface'].slope\n",
    "hcf_sl = wsl_ppa[wsl_ppa.cstim=='hcface'].slope\n",
    "ncf_sl = wsl_ppa[wsl_ppa.cstim=='ncface'].slope\n",
    "\n",
    "PPA_CStim_NegSlp = DF(wsl_ppa)\n",
    "PPA_CStim_NegSLP_RMA=Anova()\n",
    "PPA_CStim_NegSLP_RMA.run(PPA_CStim_NegSlp, 'slope', wfactors=['cue', 'stim'], sub='idx')\n",
    "\n",
    "os.chdir('/Users/kyle/Dropbox/PFH/iPFH/SL_ANOVA/')\n",
    "# Write output to a file\n",
    "with open('PPA_CStim_NegSLP_RMA.txt','wb') as f:\n",
    "      f.write(\"House Regions, cStim Negative Slope Comparisons:\\n\\n\")\n",
    "      f.write(\"HC Face Slope (Neg) < FC Face Slope (Neg):\\nt(18) = %.4f, p=%.4f\\n\\n\" % ttrel(hcf_sl, fcf_sl))\n",
    "      f.write(\"so a faster negative deflection for unexpected faces than expected faces in house-selective regions\")\n",
    "      f.write(\"NC Face Slope (Neg) < FC Face Slope (Neg):\\nt(18) = %.4f, p=%.4f\\n\\n\" % ttrel(hcf_sl, ncf_sl))\n",
    "      f.write(\"so a faster negative deflection for neutral faces than expected faces in house-selective regions\")\n",
    "\n",
    "      f.write(\"\\n\\n\")\n",
    "      f.write(str(PPA_CStim_NegSLP_RMA))\n",
    "\n",
    "# Display output inline\n",
    "print(PPA_CStim_NegSLP_RMA)"
   ]
  },
  {
   "cell_type": "markdown",
   "metadata": {},
   "source": [
    "# FFA CStim Slope RMA"
   ]
  },
  {
   "cell_type": "code",
   "execution_count": 267,
   "metadata": {
    "collapsed": false
   },
   "outputs": [
    {
     "data": {
      "text/plain": [
       "(2.0244733102702965, 0.058019215395044912)"
      ]
     },
     "execution_count": 267,
     "metadata": {},
     "output_type": "execute_result"
    }
   ],
   "source": [
    "os.chdir('/Users/kyle/Dropbox/PFH/iPFH/idxSL/')\n",
    "wsl_ffa=pd.read_csv(\"ffa_win_slope_long.csv\")\n",
    "fcf_sl = wsl_ffa[wsl_ffa.cstim=='fcface'].slope\n",
    "hcf_sl = wsl_ffa[wsl_ffa.cstim=='hcface'].slope\n",
    "ncf_sl = wsl_ffa[wsl_ffa.cstim=='ncface'].slope\n",
    "ttrel(hcf_sl, fcf_sl)\n",
    "#ttrel(fcf_sl, fcf_sl)"
   ]
  },
  {
   "cell_type": "code",
   "execution_count": 268,
   "metadata": {
    "collapsed": true
   },
   "outputs": [
    {
     "name": "stdout",
     "output_type": "stream",
     "text": [
      "slope ~ cue * stim\n",
      "\n",
      "TESTS OF WITHIN SUBJECTS EFFECTS\n",
      "\n",
      "Measure: slope\n",
      "  Source                           Type III    eps      df      MS       F        Sig.      et2_G   Obs.    SE     95% CI   lambda    Obs.  \n",
      "                                      SS                                                                                              Power \n",
      "===========================================================================================================================================\n",
      "cue           Sphericity Assumed      0.032       -        2   0.016    5.748       0.007   0.033     38   0.009    0.017    12.134   0.858 \n",
      "              Greenhouse-Geisser      0.032   0.737    1.475   0.022    5.748       0.014   0.033     38   0.009    0.017    12.134   0.767 \n",
      "              Huynh-Feldt             0.032   0.737    1.475   0.022    5.748       0.014   0.033     38   0.009    0.017    12.134   0.767 \n",
      "              Box                     0.032   0.500        1   0.032    5.748       0.028   0.033     38   0.009    0.017    12.134   0.644 \n",
      "-------------------------------------------------------------------------------------------------------------------------------------------\n",
      "Error(cue)    Sphericity Assumed      0.100       -       36   0.003                                                                        \n",
      "              Greenhouse-Geisser      0.100   0.737   26.549   0.004                                                                        \n",
      "              Huynh-Feldt             0.100   0.737   26.549   0.004                                                                        \n",
      "              Box                     0.100   0.500       18   0.006                                                                        \n",
      "-------------------------------------------------------------------------------------------------------------------------------------------\n",
      "stim          Sphericity Assumed      0.569       -        1   0.569   90.849   1.859e-08   0.588     57   0.011    0.022   287.690       1 \n",
      "              Greenhouse-Geisser      0.569       1        1   0.569   90.849   1.859e-08   0.588     57   0.011    0.022   287.690       1 \n",
      "              Huynh-Feldt             0.569       1        1   0.569   90.849   1.859e-08   0.588     57   0.011    0.022   287.690       1 \n",
      "              Box                     0.569       1        1   0.569   90.849   1.859e-08   0.588     57   0.011    0.022   287.690       1 \n",
      "-------------------------------------------------------------------------------------------------------------------------------------------\n",
      "Error(stim)   Sphericity Assumed      0.113       -       18   0.006                                                                        \n",
      "              Greenhouse-Geisser      0.113       1       18   0.006                                                                        \n",
      "              Huynh-Feldt             0.113       1       18   0.006                                                                        \n",
      "              Box                     0.113       1       18   0.006                                                                        \n",
      "-------------------------------------------------------------------------------------------------------------------------------------------\n",
      "cue *         Sphericity Assumed      0.006       -        2   0.003    0.495       0.614   0.006     19   0.018    0.035     0.522   0.088 \n",
      "stim          Greenhouse-Geisser      0.006   0.761    1.522   0.004    0.495       0.565   0.006     19   0.018    0.035     0.522   0.083 \n",
      "              Huynh-Feldt             0.006   0.761    1.522   0.004    0.495       0.565   0.006     19   0.018    0.035     0.522   0.083 \n",
      "              Box                     0.006   0.500        1   0.006    0.495       0.491   0.006     19   0.018    0.035     0.522   0.077 \n",
      "-------------------------------------------------------------------------------------------------------------------------------------------\n",
      "Error(cue *   Sphericity Assumed      0.205       -       36   0.006                                                                        \n",
      "stim)         Greenhouse-Geisser      0.205   0.761   27.401   0.007                                                                        \n",
      "              Huynh-Feldt             0.205   0.761   27.401   0.007                                                                        \n",
      "              Box                     0.205   0.500       18   0.011                                                                        \n",
      "\n",
      "TABLES OF ESTIMATED MARGINAL MEANS\n",
      "\n",
      "Estimated Marginal Means for cue\n",
      "cue   Mean    Std. Error   95% Lower Bound   95% Upper Bound \n",
      "============================================================\n",
      "fc    0.133        0.019             0.097             0.169 \n",
      "hc    0.172        0.022             0.130             0.215 \n",
      "nc    0.143        0.017             0.111             0.176 \n",
      "\n",
      "Estimated Marginal Means for stim\n",
      "stim    Mean    Std. Error   95% Lower Bound   95% Upper Bound \n",
      "==============================================================\n",
      "face    0.220        0.013             0.194             0.247 \n",
      "house   0.079        0.012             0.056             0.102 \n",
      "\n",
      "Estimated Marginal Means for cue * stim\n",
      "cue   stim    Mean    Std. Error   95% Lower Bound   95% Upper Bound \n",
      "====================================================================\n",
      "fc    face    0.198        0.025             0.150             0.246 \n",
      "fc    house   0.068        0.019             0.032             0.105 \n",
      "hc    face    0.253        0.026             0.203             0.303 \n",
      "hc    house   0.092        0.024             0.044             0.140 \n",
      "nc    face    0.210        0.019             0.174             0.246 \n",
      "nc    house   0.076        0.017             0.043             0.110 \n",
      "\n",
      "\n"
     ]
    }
   ],
   "source": [
    "os.chdir('/Users/kyle/Dropbox/PFH/iPFH/idxSL/')\n",
    "wsl_ffa=pd.read_csv(\"ffa_win_slope_long.csv\")\n",
    "\n",
    "FFA_CStim_Slp = DF(wsl_ffa)\n",
    "FFA_CStimSLP_RMA=Anova()\n",
    "FFA_CStimSLP_RMA.run(FFA_CStim_Slp, 'slope', wfactors=['cue', 'stim'], sub='idx')\n",
    "\n",
    "os.chdir('/Users/kyle/Dropbox/PFH/iPFH/SL_ANOVA/')\n",
    "# Write output to a file\n",
    "with open('FFA_CStimSLP_RMA.txt','wb') as f:\n",
    "      f.write(\"Face Regions, cStim Slope Comparisons:\\n\\n\")\n",
    "      f.write(\"HC Face Slope  > FC Face Slope (Neg):\\nt(18) = %.4f, p=%.4f\\n\\n\" % ttrel(hcf_sl, fcf_sl))\n",
    "      f.write(\"so a faster deflection for unexpected faces than expected faces in face-selective regions\")\n",
    "      f.write(\"\\n\\n\")\n",
    "      f.write(str(FFA_CStimSLP_RMA))\n",
    "\n",
    "# Display output inline\n",
    "print(FFA_CStimSLP_RMA)"
   ]
  },
  {
   "cell_type": "markdown",
   "metadata": {},
   "source": [
    "# PPA WSS Slope RMA"
   ]
  },
  {
   "cell_type": "code",
   "execution_count": 270,
   "metadata": {
    "collapsed": false
   },
   "outputs": [
    {
     "data": {
      "text/plain": [
       "(2.6020431984870833, 0.018021784152942196)"
      ]
     },
     "execution_count": 270,
     "metadata": {},
     "output_type": "execute_result"
    }
   ],
   "source": [
    "os.chdir('/Users/kyle/Dropbox/PFH/iPFH/idxSL/')\n",
    "ssl_ppa=pd.read_csv(\"ppa_wss_slope_long.csv\")\n",
    "hfast_sl = ssl_ppa[ssl_ppa.stimspd=='HFast'].slope\n",
    "hslow_sl = ssl_ppa[ssl_ppa.stimspd=='HSlow'].slope\n",
    "ffast_sl = ssl_ppa[ssl_ppa.stimspd=='FFast'].slope\n",
    "fslow_sl = ssl_ppa[ssl_ppa.stimspd=='FSlow'].slope\n",
    "\n",
    "ttrel(hfast_sl, hslow_sl)\n",
    "#ttrel(ffast_sl, fslow_sl)"
   ]
  },
  {
   "cell_type": "code",
   "execution_count": 271,
   "metadata": {
    "collapsed": true
   },
   "outputs": [
    {
     "name": "stdout",
     "output_type": "stream",
     "text": [
      "slope ~ stim * speed\n",
      "\n",
      "TESTS OF WITHIN SUBJECTS EFFECTS\n",
      "\n",
      "Measure: slope\n",
      "   Source                           Type III   eps   df      MS         F        Sig.      et2_G   Obs.    SE     95% CI   lambda    Obs.  \n",
      "                                       SS                                                                                            Power \n",
      "==========================================================================================================================================\n",
      "stim           Sphericity Assumed      0.052     -    1       0.052   54.844   7.227e-07   0.462     38   0.005    0.011   115.781   1.000 \n",
      "               Greenhouse-Geisser      0.052     1    1       0.052   54.844   7.227e-07   0.462     38   0.005    0.011   115.781   1.000 \n",
      "               Huynh-Feldt             0.052     1    1       0.052   54.844   7.227e-07   0.462     38   0.005    0.011   115.781   1.000 \n",
      "               Box                     0.052     1    1       0.052   54.844   7.227e-07   0.462     38   0.005    0.011   115.781   1.000 \n",
      "------------------------------------------------------------------------------------------------------------------------------------------\n",
      "Error(stim)    Sphericity Assumed      0.017     -   18   9.569e-04                                                                        \n",
      "               Greenhouse-Geisser      0.017     1   18   9.569e-04                                                                        \n",
      "               Huynh-Feldt             0.017     1   18   9.569e-04                                                                        \n",
      "               Box                     0.017     1   18   9.569e-04                                                                        \n",
      "------------------------------------------------------------------------------------------------------------------------------------------\n",
      "speed          Sphericity Assumed      0.003     -    1       0.003    7.032       0.016   0.028     38   0.004    0.007    14.846   0.954 \n",
      "               Greenhouse-Geisser      0.003     1    1       0.003    7.032       0.016   0.028     38   0.004    0.007    14.846   0.954 \n",
      "               Huynh-Feldt             0.003     1    1       0.003    7.032       0.016   0.028     38   0.004    0.007    14.846   0.954 \n",
      "               Box                     0.003     1    1       0.003    7.032       0.016   0.028     38   0.004    0.007    14.846   0.954 \n",
      "------------------------------------------------------------------------------------------------------------------------------------------\n",
      "Error(speed)   Sphericity Assumed      0.008     -   18   4.483e-04                                                                        \n",
      "               Greenhouse-Geisser      0.008     1   18   4.483e-04                                                                        \n",
      "               Huynh-Feldt             0.008     1   18   4.483e-04                                                                        \n",
      "               Box                     0.008     1   18   4.483e-04                                                                        \n",
      "------------------------------------------------------------------------------------------------------------------------------------------\n",
      "stim *         Sphericity Assumed      0.004     -    1       0.004    3.874       0.065   0.036     19   0.008    0.016     4.089   0.482 \n",
      "speed          Greenhouse-Geisser      0.004     1    1       0.004    3.874       0.065   0.036     19   0.008    0.016     4.089   0.482 \n",
      "               Huynh-Feldt             0.004     1    1       0.004    3.874       0.065   0.036     19   0.008    0.016     4.089   0.482 \n",
      "               Box                     0.004     1    1       0.004    3.874       0.065   0.036     19   0.008    0.016     4.089   0.482 \n",
      "------------------------------------------------------------------------------------------------------------------------------------------\n",
      "Error(stim *   Sphericity Assumed      0.019     -   18       0.001                                                                        \n",
      "speed)         Greenhouse-Geisser      0.019     1   18       0.001                                                                        \n",
      "               Huynh-Feldt             0.019     1   18       0.001                                                                        \n",
      "               Box                     0.019     1   18       0.001                                                                        \n",
      "\n",
      "TABLES OF ESTIMATED MARGINAL MEANS\n",
      "\n",
      "Estimated Marginal Means for stim\n",
      "stim    Mean    Std. Error   95% Lower Bound   95% Upper Bound \n",
      "==============================================================\n",
      "face    0.025        0.004             0.017             0.033 \n",
      "house   0.078        0.008             0.061             0.094 \n",
      "\n",
      "Estimated Marginal Means for speed\n",
      "speed   Mean    Std. Error   95% Lower Bound   95% Upper Bound \n",
      "==============================================================\n",
      "fast    0.058        0.009             0.041             0.075 \n",
      "slow    0.045        0.007             0.032             0.058 \n",
      "\n",
      "Estimated Marginal Means for stim * speed\n",
      "stim    speed   Mean    Std. Error   95% Lower Bound   95% Upper Bound \n",
      "======================================================================\n",
      "face    fast    0.024        0.005             0.014             0.035 \n",
      "face    slow    0.026        0.006             0.015             0.037 \n",
      "house   fast    0.091        0.013             0.066             0.116 \n",
      "house   slow    0.064        0.010             0.044             0.084 \n",
      "\n",
      "\n"
     ]
    }
   ],
   "source": [
    "os.chdir('/Users/kyle/Dropbox/PFH/iPFH/idxSL/')\n",
    "ssl_ppa=pd.read_csv(\"ppa_wss_slope_long.csv\")\n",
    "\n",
    "PPA_StimSpeed_Slp = DF(ssl_ppa)\n",
    "PPA_StimSpeedSLP_RMA=Anova()\n",
    "PPA_StimSpeedSLP_RMA.run(PPA_StimSpeed_Slp, 'slope', wfactors=['stim', 'speed'], sub='idx')\n",
    "\n",
    "os.chdir('/Users/kyle/Dropbox/PFH/iPFH/SL_ANOVA/')\n",
    "# Write output to a file\n",
    "with open('PPA_StimSpeedSLP_RMA.txt','wb') as f:\n",
    "      f.write(\"House Regions, Stim Speed Slope Comparisons:\\n\\n\")\n",
    "      f.write(\"Fast House > Slow House Slope:\\nt(18) = %.4f, p=%.4f\\n\\n\" % ttrel(hfast_sl, hslow_sl))\n",
    "      f.write(\"so a faster deflection for fast house responses than slow house responses in house-selective regions\")\n",
    "      f.write(\"no sig. diff. for faces (in the positive deflections for fast & slow face resp.) --> SEE NEG. DEFLECTION ANALYSIS\")\n",
    "      f.write(str(PPA_StimSpeedSLP_RMA))\n",
    "\n",
    "# Display output inline\n",
    "print(PPA_StimSpeedSLP_RMA)"
   ]
  },
  {
   "cell_type": "markdown",
   "metadata": {},
   "source": [
    "# PPA WSS Neg Slope RMA"
   ]
  },
  {
   "cell_type": "code",
   "execution_count": 272,
   "metadata": {
    "collapsed": false
   },
   "outputs": [
    {
     "data": {
      "text/plain": [
       "(-3.5649690605450854, 0.0022130614626700486)"
      ]
     },
     "execution_count": 272,
     "metadata": {},
     "output_type": "execute_result"
    }
   ],
   "source": [
    "os.chdir('/Users/kyle/Dropbox/PFH/iPFH/idxSL/')\n",
    "ssl_ppa=pd.read_csv(\"ppa_wss_neg_slope_long.csv\")\n",
    "ffast_sl = ssl_ppa[ssl_ppa.stimspd=='FFast'].slope\n",
    "fslow_sl = ssl_ppa[ssl_ppa.stimspd=='FSlow'].slope\n",
    "ttrel(ffast_sl, fslow_sl)"
   ]
  },
  {
   "cell_type": "code",
   "execution_count": 273,
   "metadata": {
    "collapsed": true
   },
   "outputs": [
    {
     "name": "stdout",
     "output_type": "stream",
     "text": [
      "slope ~ stim * speed\n",
      "\n",
      "TESTS OF WITHIN SUBJECTS EFFECTS\n",
      "\n",
      "Measure: slope\n",
      "   Source                           Type III   eps   df      MS         F        Sig.      et2_G   Obs.    SE     95% CI   lambda   Obs.  \n",
      "                                       SS                                                                                           Power \n",
      "=========================================================================================================================================\n",
      "stim           Sphericity Assumed      0.019     -    1       0.019   20.343   2.708e-04   0.363     38   0.005    0.010   42.946   1.000 \n",
      "               Greenhouse-Geisser      0.019     1    1       0.019   20.343   2.708e-04   0.363     38   0.005    0.010   42.946   1.000 \n",
      "               Huynh-Feldt             0.019     1    1       0.019   20.343   2.708e-04   0.363     38   0.005    0.010   42.946   1.000 \n",
      "               Box                     0.019     1    1       0.019   20.343   2.708e-04   0.363     38   0.005    0.010   42.946   1.000 \n",
      "-----------------------------------------------------------------------------------------------------------------------------------------\n",
      "Error(stim)    Sphericity Assumed      0.016     -   18   9.111e-04                                                                       \n",
      "               Greenhouse-Geisser      0.016     1   18   9.111e-04                                                                       \n",
      "               Huynh-Feldt             0.016     1   18   9.111e-04                                                                       \n",
      "               Box                     0.016     1   18   9.111e-04                                                                       \n",
      "-----------------------------------------------------------------------------------------------------------------------------------------\n",
      "speed          Sphericity Assumed      0.003     -    1       0.003    8.894       0.008   0.064     38   0.003    0.007   18.776   0.984 \n",
      "               Greenhouse-Geisser      0.003     1    1       0.003    8.894       0.008   0.064     38   0.003    0.007   18.776   0.984 \n",
      "               Huynh-Feldt             0.003     1    1       0.003    8.894       0.008   0.064     38   0.003    0.007   18.776   0.984 \n",
      "               Box                     0.003     1    1       0.003    8.894       0.008   0.064     38   0.003    0.007   18.776   0.984 \n",
      "-----------------------------------------------------------------------------------------------------------------------------------------\n",
      "Error(speed)   Sphericity Assumed      0.007     -   18   3.693e-04                                                                       \n",
      "               Greenhouse-Geisser      0.007     1   18   3.693e-04                                                                       \n",
      "               Huynh-Feldt             0.007     1   18   3.693e-04                                                                       \n",
      "               Box                     0.007     1   18   3.693e-04                                                                       \n",
      "-----------------------------------------------------------------------------------------------------------------------------------------\n",
      "stim *         Sphericity Assumed      0.004     -    1       0.004   12.025       0.003   0.073     19   0.004    0.008   12.693   0.920 \n",
      "speed          Greenhouse-Geisser      0.004     1    1       0.004   12.025       0.003   0.073     19   0.004    0.008   12.693   0.920 \n",
      "               Huynh-Feldt             0.004     1    1       0.004   12.025       0.003   0.073     19   0.004    0.008   12.693   0.920 \n",
      "               Box                     0.004     1    1       0.004   12.025       0.003   0.073     19   0.004    0.008   12.693   0.920 \n",
      "-----------------------------------------------------------------------------------------------------------------------------------------\n",
      "Error(stim *   Sphericity Assumed      0.006     -   18   3.081e-04                                                                       \n",
      "speed)         Greenhouse-Geisser      0.006     1   18   3.081e-04                                                                       \n",
      "               Huynh-Feldt             0.006     1   18   3.081e-04                                                                       \n",
      "               Box                     0.006     1   18   3.081e-04                                                                       \n",
      "\n",
      "TABLES OF ESTIMATED MARGINAL MEANS\n",
      "\n",
      "Estimated Marginal Means for stim\n",
      "stim     Mean    Std. Error   95% Lower Bound   95% Upper Bound \n",
      "===============================================================\n",
      "face    -0.049        0.006            -0.061            -0.038 \n",
      "house   -0.018        0.003            -0.023            -0.013 \n",
      "\n",
      "Estimated Marginal Means for speed\n",
      "speed    Mean    Std. Error   95% Lower Bound   95% Upper Bound \n",
      "===============================================================\n",
      "fast    -0.040        0.006            -0.053            -0.028 \n",
      "slow    -0.027        0.003            -0.034            -0.021 \n",
      "\n",
      "Estimated Marginal Means for stim * speed\n",
      "stim    speed    Mean    Std. Error   95% Lower Bound   95% Upper Bound \n",
      "=======================================================================\n",
      "face    fast    -0.063        0.010            -0.082            -0.044 \n",
      "face    slow    -0.036        0.005            -0.046            -0.026 \n",
      "house   fast    -0.018        0.004            -0.026            -0.009 \n",
      "house   slow    -0.018        0.003            -0.025            -0.012 \n",
      "\n",
      "\n"
     ]
    }
   ],
   "source": [
    "os.chdir('/Users/kyle/Dropbox/PFH/iPFH/idxSL/')\n",
    "ssl_ppa=pd.read_csv(\"ppa_wss_neg_slope_long.csv\")\n",
    "\n",
    "PPA_StimSpeed_NegSlp = DF(ssl_ppa)\n",
    "PPA_StimSpeed_NegSLP_RMA=Anova()\n",
    "PPA_StimSpeed_NegSLP_RMA.run(PPA_StimSpeed_NegSlp, 'slope', wfactors=['stim', 'speed'], sub='idx')\n",
    "\n",
    "os.chdir('/Users/kyle/Dropbox/PFH/iPFH/SL_ANOVA/')\n",
    "# Write output to a file\n",
    "with open('PPA_StimSpeed_NegSLP_RMA.txt','wb') as f:\n",
    "      f.write(\"House Regions, Stim Speed Negative Slope Comparisons:\\n\\n\")\n",
    "      f.write(\"Fast Face > Slow Face Slope:\\nt(18) = %.4f, p=%.4f\\n\\n\" % ttrel(ffast_sl, fslow_sl))\n",
    "      f.write(\"so a faster negative deflection for fast face responses than slow face responses in house-selective regions\")\n",
    "      f.write(str(PPA_StimSpeed_NegSLP_RMA))\n",
    "\n",
    "# Display output inline\n",
    "print(PPA_StimSpeed_NegSLP_RMA)"
   ]
  },
  {
   "cell_type": "markdown",
   "metadata": {},
   "source": [
    "# FFA WSS Slope RMA"
   ]
  },
  {
   "cell_type": "code",
   "execution_count": 274,
   "metadata": {
    "collapsed": false
   },
   "outputs": [],
   "source": [
    "os.chdir('/Users/kyle/Dropbox/PFH/iPFH/idxSL/')\n",
    "ssl_ffa=pd.read_csv(\"ffa_wss_slope_long.csv\")\n",
    "ffast_sl = ssl_ffa[ssl_ffa.stimspd=='FFast'].slope\n",
    "fslow_sl = ssl_ffa[ssl_ffa.stimspd=='FSlow'].slope"
   ]
  },
  {
   "cell_type": "code",
   "execution_count": 275,
   "metadata": {
    "collapsed": false,
    "scrolled": true
   },
   "outputs": [
    {
     "data": {
      "text/plain": [
       "(7.5854414997553778, 5.1847147439727059e-07)"
      ]
     },
     "execution_count": 275,
     "metadata": {},
     "output_type": "execute_result"
    }
   ],
   "source": [
    "ttrel(ffast_sl, fslow_sl)"
   ]
  },
  {
   "cell_type": "code",
   "execution_count": 276,
   "metadata": {
    "collapsed": true
   },
   "outputs": [
    {
     "name": "stdout",
     "output_type": "stream",
     "text": [
      "slope ~ stim * speed\n",
      "\n",
      "TESTS OF WITHIN SUBJECTS EFFECTS\n",
      "\n",
      "Measure: slope\n",
      "   Source                           Type III   eps   df    MS        F        Sig.      et2_G   Obs.    SE     95% CI   lambda    Obs.  \n",
      "                                       SS                                                                                         Power \n",
      "=======================================================================================================================================\n",
      "stim           Sphericity Assumed      0.258     -    1   0.258   164.395   1.725e-10   1.072     38   0.007    0.014   347.056       1 \n",
      "               Greenhouse-Geisser      0.258     1    1   0.258   164.395   1.725e-10   1.072     38   0.007    0.014   347.056       1 \n",
      "               Huynh-Feldt             0.258     1    1   0.258   164.395   1.725e-10   1.072     38   0.007    0.014   347.056       1 \n",
      "               Box                     0.258     1    1   0.258   164.395   1.725e-10   1.072     38   0.007    0.014   347.056       1 \n",
      "---------------------------------------------------------------------------------------------------------------------------------------\n",
      "Error(stim)    Sphericity Assumed      0.028     -   18   0.002                                                                         \n",
      "               Greenhouse-Geisser      0.028     1   18   0.002                                                                         \n",
      "               Huynh-Feldt             0.028     1   18   0.002                                                                         \n",
      "               Box                     0.028     1   18   0.002                                                                         \n",
      "---------------------------------------------------------------------------------------------------------------------------------------\n",
      "speed          Sphericity Assumed      0.026     -    1   0.026    14.079       0.001   0.109     38   0.008    0.015    29.722   0.999 \n",
      "               Greenhouse-Geisser      0.026     1    1   0.026    14.079       0.001   0.109     38   0.008    0.015    29.722   0.999 \n",
      "               Huynh-Feldt             0.026     1    1   0.026    14.079       0.001   0.109     38   0.008    0.015    29.722   0.999 \n",
      "               Box                     0.026     1    1   0.026    14.079       0.001   0.109     38   0.008    0.015    29.722   0.999 \n",
      "---------------------------------------------------------------------------------------------------------------------------------------\n",
      "Error(speed)   Sphericity Assumed      0.034     -   18   0.002                                                                         \n",
      "               Greenhouse-Geisser      0.034     1   18   0.002                                                                         \n",
      "               Huynh-Feldt             0.034     1   18   0.002                                                                         \n",
      "               Box                     0.034     1   18   0.002                                                                         \n",
      "---------------------------------------------------------------------------------------------------------------------------------------\n",
      "stim *         Sphericity Assumed      0.018     -    1   0.018     9.216       0.007   0.074     19   0.011    0.021     9.728   0.839 \n",
      "speed          Greenhouse-Geisser      0.018     1    1   0.018     9.216       0.007   0.074     19   0.011    0.021     9.728   0.839 \n",
      "               Huynh-Feldt             0.018     1    1   0.018     9.216       0.007   0.074     19   0.011    0.021     9.728   0.839 \n",
      "               Box                     0.018     1    1   0.018     9.216       0.007   0.074     19   0.011    0.021     9.728   0.839 \n",
      "---------------------------------------------------------------------------------------------------------------------------------------\n",
      "Error(stim *   Sphericity Assumed      0.035     -   18   0.002                                                                         \n",
      "speed)         Greenhouse-Geisser      0.035     1   18   0.002                                                                         \n",
      "               Huynh-Feldt             0.035     1   18   0.002                                                                         \n",
      "               Box                     0.035     1   18   0.002                                                                         \n",
      "\n",
      "TABLES OF ESTIMATED MARGINAL MEANS\n",
      "\n",
      "Estimated Marginal Means for stim\n",
      "stim    Mean    Std. Error   95% Lower Bound   95% Upper Bound \n",
      "==============================================================\n",
      "face    0.161        0.010             0.141             0.182 \n",
      "house   0.045        0.010             0.026             0.064 \n",
      "\n",
      "Estimated Marginal Means for speed\n",
      "speed   Mean    Std. Error   95% Lower Bound   95% Upper Bound \n",
      "==============================================================\n",
      "fast    0.122        0.016             0.091             0.152 \n",
      "slow    0.084        0.011             0.063             0.106 \n",
      "\n",
      "Estimated Marginal Means for stim * speed\n",
      "stim    speed   Mean    Std. Error   95% Lower Bound   95% Upper Bound \n",
      "======================================================================\n",
      "face    fast    0.195        0.013             0.170             0.220 \n",
      "face    slow    0.127        0.012             0.103             0.152 \n",
      "house   fast    0.048        0.015             0.018             0.078 \n",
      "house   slow    0.041        0.012             0.018             0.065 \n",
      "\n",
      "\n"
     ]
    }
   ],
   "source": [
    "os.chdir('/Users/kyle/Dropbox/PFH/iPFH/idxSL/')\n",
    "ssl_ffa=pd.read_csv(\"ffa_wss_slope_long.csv\")\n",
    "\n",
    "FFA_StimSpeed_Slp = DF(ssl_ffa)\n",
    "FFA_StimSpeedSLP_RMA=Anova()\n",
    "FFA_StimSpeedSLP_RMA.run(FFA_StimSpeed_Slp, 'slope', wfactors=['stim', 'speed'], sub='idx')\n",
    "\n",
    "os.chdir('/Users/kyle/Dropbox/PFH/iPFH/SL_ANOVA/')\n",
    "# Write output to a file\n",
    "with open('FFA_StimSpeedSLP_RMA.txt','wb') as f:\n",
    "      f.write(\"Face Regions, Stim Speed Slope Comparisons:\\n\\n\")\n",
    "      f.write(\"Fast Face > Slow Face Slope:\\nt(18) = %.4f, p=%.4f\\n\\n\" % ttrel(ffast_sl, fslow_sl))\n",
    "      f.write(\"so a faster deflection for fast face responses than slow face responses in face-selective regions\")\n",
    "      f.write(\"no diff. for houses\")\n",
    "      f.write(str(FFA_StimSpeedSLP_RMA))\n",
    "\n",
    "# Display output inline\n",
    "print(FFA_StimSpeedSLP_RMA)"
   ]
  },
  {
   "cell_type": "code",
   "execution_count": 453,
   "metadata": {
    "collapsed": true
   },
   "outputs": [],
   "source": [
    "os.chdir('/Users/kyle/Dropbox/PFH/iPFH/idxPARAM/')\n",
    "msm = pd.read_csv(\"msm_rho_df.csv\")"
   ]
  },
  {
   "cell_type": "code",
   "execution_count": 16,
   "metadata": {
    "collapsed": false
   },
   "outputs": [],
   "source": [
    "ssl_ppa=pd.read_csv('/Users/kyle/Dropbox/PFH/iPFH/idxSL/ppa_win_neg_slopes.csv', index_col='idx')\n",
    "ssl_ffa=pd.read_csv('/Users/kyle/Dropbox/PFH/iPFH/idxSL/ffa_win_slopes.csv', index_col='idx')\n",
    "#ssl_ppa_neg=pd.read_csv('/Users/kyle/Dropbox/PFH/iPFH/idxSL/ppa_wss_neg_slopes.csv', index_col='idx')"
   ]
  },
  {
   "cell_type": "code",
   "execution_count": 455,
   "metadata": {
    "collapsed": true
   },
   "outputs": [],
   "source": [
    "x = ssl_ffa+abs(ssl_ppa)"
   ]
  },
  {
   "cell_type": "code",
   "execution_count": 19,
   "metadata": {
    "collapsed": false
   },
   "outputs": [
    {
     "data": {
      "text/plain": [
       "idx\n",
       "8     1.9244\n",
       "10    0.9646\n",
       "11    0.8780\n",
       "13    1.6781\n",
       "15    0.3508\n",
       "16   -0.4930\n",
       "17    0.3950\n",
       "18    0.4049\n",
       "19    0.6424\n",
       "20    0.4827\n",
       "21    0.3493\n",
       "22    0.4692\n",
       "23    0.3459\n",
       "24    2.1940\n",
       "26    0.6751\n",
       "27   -1.1522\n",
       "29    0.5173\n",
       "30    1.8641\n",
       "31    0.9098\n",
       "Name: fc-fcF, dtype: float64"
      ]
     },
     "execution_count": 19,
     "metadata": {},
     "output_type": "execute_result"
    }
   ],
   "source": [
    "ssl_ffa['fcface'].values/wpk_ffa['fc-fcF']"
   ]
  },
  {
   "cell_type": "code",
   "execution_count": 424,
   "metadata": {
    "collapsed": false,
    "scrolled": true
   },
   "outputs": [
    {
     "data": {
      "text/plain": [
       "(-0.21403508771929824, 0.37892417299512104)"
      ]
     },
     "execution_count": 424,
     "metadata": {},
     "output_type": "execute_result"
    }
   ],
   "source": [
    "spearmanr(x['FFast'], ssm['vFFast_n_z2a'])"
   ]
  },
  {
   "cell_type": "code",
   "execution_count": 486,
   "metadata": {
    "collapsed": false
   },
   "outputs": [
    {
     "data": {
      "text/plain": [
       "(-0.26716501537889864, 0.26884010321853258)"
      ]
     },
     "execution_count": 486,
     "metadata": {},
     "output_type": "execute_result"
    }
   ],
   "source": [
    "pearsonr(ssl_ffa['hcface'], msm['vHF'])"
   ]
  },
  {
   "cell_type": "code",
   "execution_count": 387,
   "metadata": {
    "collapsed": false
   },
   "outputs": [],
   "source": [
    "ssm['vFFast_n_z2a'] = ssm['vFFast']/ssm['z2a']\n",
    "ssm['vFSlow_n_z2a'] = ssm['vFSlow']/ssm['z2a']"
   ]
  },
  {
   "cell_type": "code",
   "execution_count": 290,
   "metadata": {
    "collapsed": true
   },
   "outputs": [
    {
     "data": {
      "text/html": [
       "<div>\n",
       "<table border=\"1\" class=\"dataframe\">\n",
       "  <thead>\n",
       "    <tr style=\"text-align: right;\">\n",
       "      <th></th>\n",
       "      <th>a</th>\n",
       "      <th>vFFast</th>\n",
       "      <th>vHFast</th>\n",
       "      <th>vFSlow</th>\n",
       "      <th>vHSlow</th>\n",
       "      <th>z</th>\n",
       "      <th>zF</th>\n",
       "      <th>zH</th>\n",
       "      <th>z2a</th>\n",
       "      <th>z2b</th>\n",
       "      <th>vFFast_n_z2a</th>\n",
       "      <th>vHFast_n_z2b</th>\n",
       "      <th>vFSlow_n_z2a</th>\n",
       "      <th>vHSlow_n_z2b</th>\n",
       "    </tr>\n",
       "  </thead>\n",
       "  <tbody>\n",
       "    <tr>\n",
       "      <th>0</th>\n",
       "      <td>4.1789</td>\n",
       "      <td>6.7562</td>\n",
       "      <td>7.4927</td>\n",
       "      <td>1.2652</td>\n",
       "      <td>1.8542</td>\n",
       "      <td>0.5881</td>\n",
       "      <td>0.5881</td>\n",
       "      <td>0.6067</td>\n",
       "      <td>1.7214</td>\n",
       "      <td>2.4575</td>\n",
       "      <td>3.9247</td>\n",
       "      <td>3.0490</td>\n",
       "      <td>0.7349</td>\n",
       "      <td>0.7545</td>\n",
       "    </tr>\n",
       "    <tr>\n",
       "      <th>1</th>\n",
       "      <td>3.7056</td>\n",
       "      <td>1.4063</td>\n",
       "      <td>2.4281</td>\n",
       "      <td>0.2866</td>\n",
       "      <td>0.8312</td>\n",
       "      <td>0.5889</td>\n",
       "      <td>0.5889</td>\n",
       "      <td>0.6384</td>\n",
       "      <td>1.5235</td>\n",
       "      <td>2.1821</td>\n",
       "      <td>0.9231</td>\n",
       "      <td>1.1127</td>\n",
       "      <td>0.1881</td>\n",
       "      <td>0.3809</td>\n",
       "    </tr>\n",
       "    <tr>\n",
       "      <th>2</th>\n",
       "      <td>3.1099</td>\n",
       "      <td>0.7858</td>\n",
       "      <td>0.6107</td>\n",
       "      <td>-0.0054</td>\n",
       "      <td>0.2850</td>\n",
       "      <td>0.5990</td>\n",
       "      <td>0.5990</td>\n",
       "      <td>0.6076</td>\n",
       "      <td>1.2470</td>\n",
       "      <td>1.8629</td>\n",
       "      <td>0.6302</td>\n",
       "      <td>0.3278</td>\n",
       "      <td>-0.0043</td>\n",
       "      <td>0.1530</td>\n",
       "    </tr>\n",
       "    <tr>\n",
       "      <th>3</th>\n",
       "      <td>5.4528</td>\n",
       "      <td>4.9719</td>\n",
       "      <td>5.8098</td>\n",
       "      <td>1.2016</td>\n",
       "      <td>1.7759</td>\n",
       "      <td>0.6596</td>\n",
       "      <td>0.6596</td>\n",
       "      <td>0.6030</td>\n",
       "      <td>1.8561</td>\n",
       "      <td>3.5967</td>\n",
       "      <td>2.6787</td>\n",
       "      <td>1.6153</td>\n",
       "      <td>0.6474</td>\n",
       "      <td>0.4938</td>\n",
       "    </tr>\n",
       "    <tr>\n",
       "      <th>4</th>\n",
       "      <td>2.8284</td>\n",
       "      <td>4.2809</td>\n",
       "      <td>4.3525</td>\n",
       "      <td>0.3571</td>\n",
       "      <td>1.2017</td>\n",
       "      <td>0.6901</td>\n",
       "      <td>0.6901</td>\n",
       "      <td>0.5792</td>\n",
       "      <td>0.8766</td>\n",
       "      <td>1.9518</td>\n",
       "      <td>4.8836</td>\n",
       "      <td>2.2300</td>\n",
       "      <td>0.4073</td>\n",
       "      <td>0.6157</td>\n",
       "    </tr>\n",
       "    <tr>\n",
       "      <th>5</th>\n",
       "      <td>2.6929</td>\n",
       "      <td>3.8178</td>\n",
       "      <td>4.1451</td>\n",
       "      <td>0.2581</td>\n",
       "      <td>1.2953</td>\n",
       "      <td>0.6408</td>\n",
       "      <td>0.6408</td>\n",
       "      <td>0.6704</td>\n",
       "      <td>0.9674</td>\n",
       "      <td>1.7255</td>\n",
       "      <td>3.9465</td>\n",
       "      <td>2.4023</td>\n",
       "      <td>0.2668</td>\n",
       "      <td>0.7507</td>\n",
       "    </tr>\n",
       "    <tr>\n",
       "      <th>6</th>\n",
       "      <td>3.2235</td>\n",
       "      <td>1.2634</td>\n",
       "      <td>1.1130</td>\n",
       "      <td>0.1205</td>\n",
       "      <td>0.4427</td>\n",
       "      <td>0.6419</td>\n",
       "      <td>0.6419</td>\n",
       "      <td>0.5382</td>\n",
       "      <td>1.1544</td>\n",
       "      <td>2.0692</td>\n",
       "      <td>1.0945</td>\n",
       "      <td>0.5379</td>\n",
       "      <td>0.1043</td>\n",
       "      <td>0.2140</td>\n",
       "    </tr>\n",
       "    <tr>\n",
       "      <th>7</th>\n",
       "      <td>3.9309</td>\n",
       "      <td>2.0138</td>\n",
       "      <td>2.7896</td>\n",
       "      <td>0.0986</td>\n",
       "      <td>1.0736</td>\n",
       "      <td>0.6693</td>\n",
       "      <td>0.6693</td>\n",
       "      <td>0.6395</td>\n",
       "      <td>1.2998</td>\n",
       "      <td>2.6311</td>\n",
       "      <td>1.5493</td>\n",
       "      <td>1.0602</td>\n",
       "      <td>0.0759</td>\n",
       "      <td>0.4080</td>\n",
       "    </tr>\n",
       "    <tr>\n",
       "      <th>8</th>\n",
       "      <td>3.5984</td>\n",
       "      <td>1.9997</td>\n",
       "      <td>2.5636</td>\n",
       "      <td>0.1411</td>\n",
       "      <td>1.0321</td>\n",
       "      <td>0.6517</td>\n",
       "      <td>0.6517</td>\n",
       "      <td>0.6643</td>\n",
       "      <td>1.2532</td>\n",
       "      <td>2.3452</td>\n",
       "      <td>1.5957</td>\n",
       "      <td>1.0931</td>\n",
       "      <td>0.1126</td>\n",
       "      <td>0.4401</td>\n",
       "    </tr>\n",
       "    <tr>\n",
       "      <th>9</th>\n",
       "      <td>4.1240</td>\n",
       "      <td>4.1403</td>\n",
       "      <td>4.6462</td>\n",
       "      <td>0.5654</td>\n",
       "      <td>0.7241</td>\n",
       "      <td>0.6267</td>\n",
       "      <td>0.6267</td>\n",
       "      <td>0.5952</td>\n",
       "      <td>1.5397</td>\n",
       "      <td>2.5844</td>\n",
       "      <td>2.6891</td>\n",
       "      <td>1.7978</td>\n",
       "      <td>0.3672</td>\n",
       "      <td>0.2802</td>\n",
       "    </tr>\n",
       "    <tr>\n",
       "      <th>10</th>\n",
       "      <td>3.5729</td>\n",
       "      <td>2.2703</td>\n",
       "      <td>3.0684</td>\n",
       "      <td>0.3296</td>\n",
       "      <td>1.0245</td>\n",
       "      <td>0.5489</td>\n",
       "      <td>0.5489</td>\n",
       "      <td>0.6258</td>\n",
       "      <td>1.6116</td>\n",
       "      <td>1.9613</td>\n",
       "      <td>1.4087</td>\n",
       "      <td>1.5645</td>\n",
       "      <td>0.2045</td>\n",
       "      <td>0.5224</td>\n",
       "    </tr>\n",
       "    <tr>\n",
       "      <th>11</th>\n",
       "      <td>4.0148</td>\n",
       "      <td>1.4463</td>\n",
       "      <td>1.7140</td>\n",
       "      <td>0.3417</td>\n",
       "      <td>0.4697</td>\n",
       "      <td>0.4561</td>\n",
       "      <td>0.4561</td>\n",
       "      <td>0.4794</td>\n",
       "      <td>2.1835</td>\n",
       "      <td>1.8313</td>\n",
       "      <td>0.6624</td>\n",
       "      <td>0.9360</td>\n",
       "      <td>0.1565</td>\n",
       "      <td>0.2565</td>\n",
       "    </tr>\n",
       "    <tr>\n",
       "      <th>12</th>\n",
       "      <td>3.0960</td>\n",
       "      <td>1.4993</td>\n",
       "      <td>2.4212</td>\n",
       "      <td>-0.1632</td>\n",
       "      <td>0.9518</td>\n",
       "      <td>0.6791</td>\n",
       "      <td>0.6791</td>\n",
       "      <td>0.6650</td>\n",
       "      <td>0.9936</td>\n",
       "      <td>2.1024</td>\n",
       "      <td>1.5090</td>\n",
       "      <td>1.1517</td>\n",
       "      <td>-0.1643</td>\n",
       "      <td>0.4527</td>\n",
       "    </tr>\n",
       "    <tr>\n",
       "      <th>13</th>\n",
       "      <td>3.3188</td>\n",
       "      <td>2.5825</td>\n",
       "      <td>3.4215</td>\n",
       "      <td>0.1527</td>\n",
       "      <td>0.9970</td>\n",
       "      <td>0.6386</td>\n",
       "      <td>0.6386</td>\n",
       "      <td>0.6170</td>\n",
       "      <td>1.1992</td>\n",
       "      <td>2.1195</td>\n",
       "      <td>2.1534</td>\n",
       "      <td>1.6143</td>\n",
       "      <td>0.1273</td>\n",
       "      <td>0.4704</td>\n",
       "    </tr>\n",
       "    <tr>\n",
       "      <th>14</th>\n",
       "      <td>3.4760</td>\n",
       "      <td>3.4707</td>\n",
       "      <td>4.8890</td>\n",
       "      <td>0.5126</td>\n",
       "      <td>1.0838</td>\n",
       "      <td>0.5824</td>\n",
       "      <td>0.5824</td>\n",
       "      <td>0.6479</td>\n",
       "      <td>1.4517</td>\n",
       "      <td>2.0243</td>\n",
       "      <td>2.3908</td>\n",
       "      <td>2.4151</td>\n",
       "      <td>0.3531</td>\n",
       "      <td>0.5354</td>\n",
       "    </tr>\n",
       "    <tr>\n",
       "      <th>15</th>\n",
       "      <td>3.4437</td>\n",
       "      <td>1.0268</td>\n",
       "      <td>1.5188</td>\n",
       "      <td>-0.1594</td>\n",
       "      <td>0.6791</td>\n",
       "      <td>0.7080</td>\n",
       "      <td>0.7080</td>\n",
       "      <td>0.6017</td>\n",
       "      <td>1.0056</td>\n",
       "      <td>2.4381</td>\n",
       "      <td>1.0210</td>\n",
       "      <td>0.6229</td>\n",
       "      <td>-0.1585</td>\n",
       "      <td>0.2785</td>\n",
       "    </tr>\n",
       "    <tr>\n",
       "      <th>16</th>\n",
       "      <td>4.2163</td>\n",
       "      <td>2.5455</td>\n",
       "      <td>2.6292</td>\n",
       "      <td>0.5372</td>\n",
       "      <td>0.7590</td>\n",
       "      <td>0.6780</td>\n",
       "      <td>0.6780</td>\n",
       "      <td>0.5737</td>\n",
       "      <td>1.3576</td>\n",
       "      <td>2.8587</td>\n",
       "      <td>1.8750</td>\n",
       "      <td>0.9197</td>\n",
       "      <td>0.3957</td>\n",
       "      <td>0.2655</td>\n",
       "    </tr>\n",
       "    <tr>\n",
       "      <th>17</th>\n",
       "      <td>4.1301</td>\n",
       "      <td>2.5202</td>\n",
       "      <td>3.0034</td>\n",
       "      <td>0.4461</td>\n",
       "      <td>1.3227</td>\n",
       "      <td>0.6690</td>\n",
       "      <td>0.6690</td>\n",
       "      <td>0.6600</td>\n",
       "      <td>1.3672</td>\n",
       "      <td>2.7629</td>\n",
       "      <td>1.8433</td>\n",
       "      <td>1.0871</td>\n",
       "      <td>0.3263</td>\n",
       "      <td>0.4788</td>\n",
       "    </tr>\n",
       "    <tr>\n",
       "      <th>18</th>\n",
       "      <td>3.3954</td>\n",
       "      <td>2.3319</td>\n",
       "      <td>2.9912</td>\n",
       "      <td>0.0952</td>\n",
       "      <td>0.8423</td>\n",
       "      <td>0.7100</td>\n",
       "      <td>0.7100</td>\n",
       "      <td>0.6198</td>\n",
       "      <td>0.9845</td>\n",
       "      <td>2.4109</td>\n",
       "      <td>2.3686</td>\n",
       "      <td>1.2407</td>\n",
       "      <td>0.0967</td>\n",
       "      <td>0.3494</td>\n",
       "    </tr>\n",
       "  </tbody>\n",
       "</table>\n",
       "</div>"
      ],
      "text/plain": [
       "         a  vFFast  vHFast  vFSlow  vHSlow       z      zF      zH     z2a  \\\n",
       "0   4.1789  6.7562  7.4927  1.2652  1.8542  0.5881  0.5881  0.6067  1.7214   \n",
       "1   3.7056  1.4063  2.4281  0.2866  0.8312  0.5889  0.5889  0.6384  1.5235   \n",
       "2   3.1099  0.7858  0.6107 -0.0054  0.2850  0.5990  0.5990  0.6076  1.2470   \n",
       "3   5.4528  4.9719  5.8098  1.2016  1.7759  0.6596  0.6596  0.6030  1.8561   \n",
       "4   2.8284  4.2809  4.3525  0.3571  1.2017  0.6901  0.6901  0.5792  0.8766   \n",
       "5   2.6929  3.8178  4.1451  0.2581  1.2953  0.6408  0.6408  0.6704  0.9674   \n",
       "6   3.2235  1.2634  1.1130  0.1205  0.4427  0.6419  0.6419  0.5382  1.1544   \n",
       "7   3.9309  2.0138  2.7896  0.0986  1.0736  0.6693  0.6693  0.6395  1.2998   \n",
       "8   3.5984  1.9997  2.5636  0.1411  1.0321  0.6517  0.6517  0.6643  1.2532   \n",
       "9   4.1240  4.1403  4.6462  0.5654  0.7241  0.6267  0.6267  0.5952  1.5397   \n",
       "10  3.5729  2.2703  3.0684  0.3296  1.0245  0.5489  0.5489  0.6258  1.6116   \n",
       "11  4.0148  1.4463  1.7140  0.3417  0.4697  0.4561  0.4561  0.4794  2.1835   \n",
       "12  3.0960  1.4993  2.4212 -0.1632  0.9518  0.6791  0.6791  0.6650  0.9936   \n",
       "13  3.3188  2.5825  3.4215  0.1527  0.9970  0.6386  0.6386  0.6170  1.1992   \n",
       "14  3.4760  3.4707  4.8890  0.5126  1.0838  0.5824  0.5824  0.6479  1.4517   \n",
       "15  3.4437  1.0268  1.5188 -0.1594  0.6791  0.7080  0.7080  0.6017  1.0056   \n",
       "16  4.2163  2.5455  2.6292  0.5372  0.7590  0.6780  0.6780  0.5737  1.3576   \n",
       "17  4.1301  2.5202  3.0034  0.4461  1.3227  0.6690  0.6690  0.6600  1.3672   \n",
       "18  3.3954  2.3319  2.9912  0.0952  0.8423  0.7100  0.7100  0.6198  0.9845   \n",
       "\n",
       "       z2b  vFFast_n_z2a  vHFast_n_z2b  vFSlow_n_z2a  vHSlow_n_z2b  \n",
       "0   2.4575        3.9247        3.0490        0.7349        0.7545  \n",
       "1   2.1821        0.9231        1.1127        0.1881        0.3809  \n",
       "2   1.8629        0.6302        0.3278       -0.0043        0.1530  \n",
       "3   3.5967        2.6787        1.6153        0.6474        0.4938  \n",
       "4   1.9518        4.8836        2.2300        0.4073        0.6157  \n",
       "5   1.7255        3.9465        2.4023        0.2668        0.7507  \n",
       "6   2.0692        1.0945        0.5379        0.1043        0.2140  \n",
       "7   2.6311        1.5493        1.0602        0.0759        0.4080  \n",
       "8   2.3452        1.5957        1.0931        0.1126        0.4401  \n",
       "9   2.5844        2.6891        1.7978        0.3672        0.2802  \n",
       "10  1.9613        1.4087        1.5645        0.2045        0.5224  \n",
       "11  1.8313        0.6624        0.9360        0.1565        0.2565  \n",
       "12  2.1024        1.5090        1.1517       -0.1643        0.4527  \n",
       "13  2.1195        2.1534        1.6143        0.1273        0.4704  \n",
       "14  2.0243        2.3908        2.4151        0.3531        0.5354  \n",
       "15  2.4381        1.0210        0.6229       -0.1585        0.2785  \n",
       "16  2.8587        1.8750        0.9197        0.3957        0.2655  \n",
       "17  2.7629        1.8433        1.0871        0.3263        0.4788  \n",
       "18  2.4109        2.3686        1.2407        0.0967        0.3494  "
      ]
     },
     "execution_count": 290,
     "metadata": {},
     "output_type": "execute_result"
    }
   ],
   "source": [
    "ssm"
   ]
  },
  {
   "cell_type": "markdown",
   "metadata": {},
   "source": [
    "# Transform WIN cSTIM DF from Wide to Long for RM-ANOVA"
   ]
  },
  {
   "cell_type": "code",
   "execution_count": 31,
   "metadata": {
    "collapsed": false
   },
   "outputs": [],
   "source": [
    "ffa_cstim = wpk_ffa[['hcF', 'ncF', 'fcF', 'hcH', 'ncH', 'fcH']]\n",
    "ppa_cstim = wpk_ppa[['hcF', 'ncF', 'fcF', 'hcH', 'ncH', 'fcH']]\n",
    "\n",
    "dflist=[]\n",
    "for cond, cdata in ffa_cstim.iteritems():\n",
    "      dflist.append(pd.DataFrame({'cue':[cond[:2]]*len(cdata), 'stim':[cond[-1]]*len(cdata), 'peak':cdata, 'region':'FFA'}))\n",
    "for cond, cdata in ppa_cstim.iteritems():\n",
    "      dflist.append(pd.DataFrame({'cue':[cond[:2]]*len(cdata), 'stim':[cond[-1]]*len(cdata), 'peak':cdata, 'region':'PPA'}))\n",
    "\n",
    "cstimdf = pd.concat(dflist)"
   ]
  },
  {
   "cell_type": "code",
   "execution_count": 7,
   "metadata": {
    "collapsed": false
   },
   "outputs": [],
   "source": [
    "ffacue = wpk_ffa[['hc', 'nc', 'fc']]\n",
    "ppacue = wpk_ppa[['hc', 'nc', 'fc']]\n",
    "regn=['FFA', 'PPA']\n",
    "dflist=[]\n",
    "for i, df in enumerate([ffacue, ppacue]):\n",
    "      for cond, cdata in df.iteritems():\n",
    "            dflist.append(pd.DataFrame({'cue':[cond]*len(cdata),'peak':cdata,'region':regn[i]}))\n",
    "cuesdf = pd.concat(dflist)"
   ]
  },
  {
   "cell_type": "markdown",
   "metadata": {},
   "source": [
    "# Save RM-ANOVA DF's"
   ]
  },
  {
   "cell_type": "code",
   "execution_count": 71,
   "metadata": {
    "collapsed": false
   },
   "outputs": [],
   "source": [
    "#os.mkdir('/Users/kyle/Dropbox/PFH/iPFH/PK_ANOVA')\n",
    "os.chdir('/Users/kyle/Dropbox/PFH/iPFH/PK_ANOVA')\n",
    "df.query('region==\"FFA\"').to_csv('WIN_FFA_cSTIM_StimPhase.csv')\n",
    "df.query('region==\"PPA\"').to_csv('WIN_PPA_cSTIM_StimPhase.csv')"
   ]
  },
  {
   "cell_type": "code",
   "execution_count": 17,
   "metadata": {
    "collapsed": false
   },
   "outputs": [],
   "source": [
    "os.chdir('/Users/kyle/Dropbox/PFH/iPFH/PK_ANOVA')\n",
    "cuesdf.query('region==\"FFA\"').to_csv('WIN_FFA_CuePhase.csv')\n",
    "cuesdf.query('region==\"PPA\"').to_csv('WIN_PPA_CuePhase.csv')"
   ]
  },
  {
   "cell_type": "markdown",
   "metadata": {},
   "source": [
    "# T-Test Valid, Invalid Slopes"
   ]
  },
  {
   "cell_type": "code",
   "execution_count": 54,
   "metadata": {
    "collapsed": false
   },
   "outputs": [
    {
     "name": "stdout",
     "output_type": "stream",
     "text": [
      "(-2.7890620934029724, 0.012117300811787893)\n",
      "(1.6427290427138803, 0.11779303065327808)\n",
      "(0.98828696688222506, 0.3361117920044554)\n",
      "(-2.024473310270904, 0.058019215394976772)\n"
     ]
    }
   ],
   "source": [
    "ppay=[wtc_ppa.query('cond==\"hchouse\"'), wtc_ppa.query('cond==\"fchouse\"'), \n",
    "   wtc_ppa.query('cond==\"fcface\"'), wtc_ppa.query('cond==\"hcface\"')]\n",
    "\n",
    "ffay=[wtc_ffa.query('cond==\"hchouse\"'), wtc_ffa.query('cond==\"fchouse\"'), \n",
    "   wtc_ffa.query('cond==\"fcface\"'), wtc_ffa.query('cond==\"hcface\"')]\n",
    "\n",
    "for i, d in enumerate([ppay, ffay]):\n",
    "      print ttest_rel(get_slopes(d[0]), get_slopes(d[1]))\n",
    "      print ttest_rel(get_slopes(d[2]), get_slopes(d[3]))"
   ]
  },
  {
   "cell_type": "markdown",
   "metadata": {},
   "source": [
    "# T-Test Fast, Slow Slopes"
   ]
  },
  {
   "cell_type": "code",
   "execution_count": 9,
   "metadata": {
    "collapsed": false
   },
   "outputs": [
    {
     "name": "stdout",
     "output_type": "stream",
     "text": [
      "(2.6020431984881656, 0.018021784152901177)\n",
      "(-0.25174767140368065, 0.80408796668406524)\n",
      "(0.3719512218020577, 0.7142718380848434)\n",
      "(7.5854414997653725, 5.1847147438776137e-07)\n"
     ]
    }
   ],
   "source": [
    "ppay=[stc_ppa.query('cond==\"HFast\"'), stc_ppa.query('cond==\"HSlow\"'), \n",
    "   stc_ppa.query('cond==\"FFast\"'), stc_ppa.query('cond==\"FSlow\"')]\n",
    "ffay=[stc_ffa.query('cond==\"HFast\"'), stc_ffa.query('cond==\"HSlow\"'), \n",
    "   stc_ffa.query('cond==\"FFast\"'), stc_ffa.query('cond==\"FSlow\"')]\n",
    "\n",
    "for i, d in enumerate([ppay, ffay]):    \n",
    "      print ttest_rel(get_slopes(d[0]), get_slopes(d[1]))\n",
    "      print ttest_rel(get_slopes(d[2]), get_slopes(d[3]))"
   ]
  },
  {
   "cell_type": "markdown",
   "metadata": {},
   "source": [
    "# T-Test Delta Bound"
   ]
  },
  {
   "cell_type": "code",
   "execution_count": 10,
   "metadata": {
    "collapsed": false
   },
   "outputs": [
    {
     "name": "stdout",
     "output_type": "stream",
     "text": [
      "(-2.7022402059562487, 0.014582115761102363)\n",
      "(-1.0763078057320088, 0.29600461585608095)\n",
      "(0.89884650297385538, 0.3806014947047166)\n",
      "(-3.8823093691189894, 0.0010916141767539893)\n"
     ]
    }
   ],
   "source": [
    "ppay=[wpk_ppa[\"hc-hcH\"], wpk_ppa[\"fc-fcH\"], \n",
    "    wpk_ppa[\"fc-fcF\"], wpk_ppa[\"hc-hcF\"]]\n",
    "\n",
    "ffay=[wpk_ffa[\"hc-hcH\"], wpk_ffa[\"fc-fcH\"], \n",
    "    wpk_ffa[\"fc-fcF\"],wpk_ffa[\"hc-hcF\"]]\n",
    "\n",
    "for i, d in enumerate([ppay, ffay]):    \n",
    "      print ttest_rel(d[0], d[1])\n",
    "      print ttest_rel(d[2], d[3])"
   ]
  },
  {
   "cell_type": "markdown",
   "metadata": {},
   "source": [
    "# T-Test cStim Peaks"
   ]
  },
  {
   "cell_type": "code",
   "execution_count": 11,
   "metadata": {
    "collapsed": false
   },
   "outputs": [
    {
     "name": "stdout",
     "output_type": "stream",
     "text": [
      "(-3.1517337984922698, 0.0055173157118805771)\n",
      "(-1.4262617459612432, 0.17090713143942196)\n",
      "(-0.70091747359790535, 0.49231689341504747)\n",
      "(-2.5256425319695994, 0.021148387293976834)\n"
     ]
    }
   ],
   "source": [
    "ppay=[wpk_ppa[\"hcH\"], wpk_ppa[\"fcH\"], \n",
    "    wpk_ppa[\"fcF\"], wpk_ppa[\"hcF\"]]\n",
    "\n",
    "ffay=[wpk_ffa[\"hcH\"], wpk_ffa[\"fcH\"], \n",
    "    wpk_ffa[\"fcF\"], wpk_ffa[\"hcF\"]]\n",
    "\n",
    "for i, d in enumerate([ppay, ffay]):    \n",
    "      print ttest_rel(d[0], d[1])\n",
    "      print ttest_rel(d[2], d[3])"
   ]
  },
  {
   "cell_type": "markdown",
   "metadata": {},
   "source": [
    "# T-Test Cue Peaks"
   ]
  },
  {
   "cell_type": "code",
   "execution_count": 13,
   "metadata": {
    "collapsed": false
   },
   "outputs": [
    {
     "name": "stdout",
     "output_type": "stream",
     "text": [
      "(-0.041906928813351216, 0.96703425001621868)\n",
      "(0.041906928813351216, 0.96703425001621868)\n",
      "(-3.2613555340243878, 0.0043355547181970914)\n",
      "(-2.5256425319695994, 0.021148387293976834)\n"
     ]
    }
   ],
   "source": [
    "ppay=[wpk_ppa[\"hc\"], wpk_ppa[\"fc\"], \n",
    "    wpk_ppa[\"fc\"], wpk_ppa[\"hc\"]]\n",
    "\n",
    "ffay=[wpk_ffa[\"hc\"], wpk_ffa[\"fc\"], \n",
    "    wpk_ffa[\"fcF\"], wpk_ffa[\"hcF\"]]\n",
    "\n",
    "for i, d in enumerate([ppay, ffay]):    \n",
    "      print ttest_rel(d[0], d[1])\n",
    "      print ttest_rel(d[2], d[3])"
   ]
  },
  {
   "cell_type": "code",
   "execution_count": 45,
   "metadata": {
    "collapsed": true
   },
   "outputs": [],
   "source": [
    "def get_slopes(df, start='2', direction='pos'):\n",
    "\n",
    "      slopes=[]\n",
    "\n",
    "      if 'idx' in df.columns:\n",
    "            sub_id_string = 'idx'\n",
    "      elif 'sx' in df.columns:\n",
    "            sub_id_string = 'sx'\n",
    "\n",
    "      for i, (sx, sxvec) in enumerate(df.groupby(sub_id_string)):\n",
    "            \n",
    "            xhigh=np.where(sxvec.values==sxvec[start].values)[1][0]\n",
    "            yhigh=sxvec[start].values[0]\n",
    "\n",
    "            if direction=='pos':\n",
    "                  xlow=np.where(sxvec.values==sxvec[start].values)[1][0]\n",
    "                  ylow=sxvec[start].values[0]\n",
    "                  xhigh=np.where(sxvec.values==np.max(sxvec.ix[:,start:].values[0][1:]))[1][0]\n",
    "                  yhigh=np.max(sxvec.ix[:,start:].values)\n",
    "\n",
    "            elif direction=='neg':\n",
    "                  xlow=np.where(sxvec.values==np.min(sxvec.ix[:,start:].values[0][1:]))[1][0]\n",
    "                  ylow=np.min(sxvec.ix[:,start:].values)\n",
    "                  xhigh=np.where(sxvec.values==sxvec[start].values)[1][0]\n",
    "                  yhigh=sxvec[start].values[0]\n",
    "            else: \n",
    "                  print \"direction must be string, 'pos' or 'neg'\"\n",
    "                  return []\n",
    "\n",
    "            slopes.append((yhigh-ylow)/(xhigh-xlow))\n",
    "      return np.array(slopes)    \n",
    "\n",
    "\n",
    "def corrplots(x, y, brain, param, stim, cond, test='pearson', start='1', direct='pos', normalize=False, calc_slope=True):\n",
    "      conditions = [' '.join(stimcond) for stimcond in itertools.product(stim, cond)]\n",
    "      clist=[blues[-4], blues[-3], reds[-4], reds[-2]]\n",
    "      f, (ax1, ax2) = plt.subplots(1,2, figsize=(9,6), sharey=True, sharex=True)\n",
    "\n",
    "      for i, (xi, yi) in enumerate(zip(x, y)):\n",
    "\n",
    "            if i <= 1:\n",
    "                  ax=ax1\n",
    "            else: \n",
    "                  ax=ax2\n",
    "\n",
    "            if calc_slope:\n",
    "                  yi = get_slopes(yi, start, direction=direct)\n",
    "            if normalize:\n",
    "                  xi = (xi - xi.mean())/xi.std()\n",
    "                  yi = (yi - yi.mean())/yi.std()\n",
    "                  \n",
    "            plot_regression(xi, yi, robust=False, color=clist[::-1][i], ax=ax, cond=conditions[i], test=test)\n",
    "\n",
    "      for i, ax in enumerate([ax1, ax2]):\n",
    "            ax.legend(loc=2, fontsize=13)\n",
    "            ax.set_xlabel(param, fontsize=18)\n",
    "            #ax.set_title(stim[i])\n",
    "      ax1.set_ylabel(brain, fontsize=18)\n",
    "      plt.tight_layout()\n",
    "      return f\n",
    "    \n",
    "def plot_regression(x, y, robust=True, color='Navy', cond=None, title=None, test='pearson', ax=None):\n",
    "      if ax is None:\n",
    "            f, ax = plt.subplots(1)\n",
    "\n",
    "      if test == 'ci':\n",
    "            cis = boot.ci((x, y), statfunction=stats.linregress, alpha=.05, method='bca')[:,2]\n",
    "            legend = '$\\/CI_{95%s}[%.2f, %.2f]$' % ('\\%', cis[0], cis[1])\n",
    "      elif test in ['pearson', 'spearman']:\n",
    "      \n",
    "            if test=='pearson':       \n",
    "                  rho, pval = pearsonr(x, y)\n",
    "                  rho_id =';\\/r_{p}='\n",
    "            elif test=='spearman':  \n",
    "                  rho, pval = spearmanr(x, y) \n",
    "                  rho_id =';\\/r_{s}='\n",
    "                  if pval<=.05: \n",
    "                        sym = '\\star'   \n",
    "                  #elif pval<=.1: sym = '\\dagger'\n",
    "                  else: \n",
    "                        sym = 'n.s.'\n",
    "                        legend =r'$%s%.2f%s$' % (rho_id, rho, sym)\n",
    "      else:\n",
    "            raise ValueError('test must be ci, pearson, or spearman')\n",
    "      \n",
    "      if cond:\n",
    "            legend = cond + legend\n",
    "      sns.regplot(x, y, robust=robust, fit_reg=True, line_kws={\"color\":color, 'lw':2, 'label':legend}, \n",
    "                scatter_kws={'color':color, 'alpha':.6}, ax=ax)\n",
    "      sns.despine()\n",
    "      plt.tight_layout()"
   ]
  },
  {
   "cell_type": "code",
   "execution_count": null,
   "metadata": {
    "collapsed": true
   },
   "outputs": [],
   "source": []
  }
 ],
 "metadata": {
  "kernelspec": {
   "display_name": "Python 2",
   "language": "python",
   "name": "python2"
  },
  "language_info": {
   "codemirror_mode": {
    "name": "ipython",
    "version": 2
   },
   "file_extension": ".py",
   "mimetype": "text/x-python",
   "name": "python",
   "nbconvert_exporter": "python",
   "pygments_lexer": "ipython2",
   "version": "2.7.11"
  }
 },
 "nbformat": 4,
 "nbformat_minor": 0
}
