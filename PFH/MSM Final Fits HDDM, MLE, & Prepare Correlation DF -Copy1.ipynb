{
 "cells": [
  {
   "cell_type": "code",
   "execution_count": null,
   "metadata": {
    "collapsed": false
   },
   "outputs": [],
   "source": [
    "import hddm\n",
    "import pandas as pd\n",
    "import kabuki\n",
    "from IPython.parallel import Client\n",
    "from radd.hd import stats_df\n",
    "from myhddm import mle, vis\n",
    "from myhddm.parse import parse_stats\n",
    "import statsmodels.api as sm\n",
    "from scipy import stats\n",
    "from scipy.stats.stats import pearsonr, spearmanr\n",
    "import scikits.bootstrap as boot\n"
   ]
  },
  {
   "cell_type": "code",
   "execution_count": 2,
   "metadata": {
    "collapsed": false
   },
   "outputs": [],
   "source": [
    "os.mkdir(\"/home/kyle/Dropbox/PFH/iPFH/msm_allcor\")\n",
    "os.chdir(\"/home/kyle/Dropbox/PFH/iPFH/msm_allcor\")\n",
    "data=pd.read_csv(\"/home/kyle/Dropbox/PFH/iPFH/HDDM/n19/allsx_ewma_19.csv\")\n",
    "params=['v','z','t','a','sv', 'sz', 'st']"
   ]
  },
  {
   "cell_type": "code",
   "execution_count": 3,
   "metadata": {
    "collapsed": true
   },
   "outputs": [],
   "source": [
    "cdata = data[data.acc==1]"
   ]
  },
  {
   "cell_type": "code",
   "execution_count": 9,
   "metadata": {
    "collapsed": false
   },
   "outputs": [
    {
     "data": {
      "text/plain": [
       "cue   stim \n",
       "a80H  face     1\n",
       "      house    1\n",
       "b50N  face     1\n",
       "      house    1\n",
       "c80F  face     1\n",
       "      house    1\n",
       "Name: acc, dtype: int64"
      ]
     },
     "execution_count": 9,
     "metadata": {},
     "output_type": "execute_result"
    }
   ],
   "source": [
    "cdata.groupby(['cue', 'stim']).acc.mean()"
   ]
  },
  {
   "cell_type": "markdown",
   "metadata": {},
   "source": [
    "# Fit Subjects with MLE then Read in simulated data and plot"
   ]
  },
  {
   "cell_type": "code",
   "execution_count": null,
   "metadata": {
    "collapsed": false
   },
   "outputs": [],
   "source": [
    "os.chdir(\"/home/kyle/Dropbox/PFH/iPFH/HDDM/Final/msm_final/opt_sim\")\n",
    "\n",
    "mle.optimize_sx('msm')\n",
    "\n",
    "simdf=pd.read_csv(\"simdf_opt.csv\")\n",
    "\n",
    "vis.predict_from_simdfs(data, simdf, mname='msm_final')"
   ]
  },
  {
   "cell_type": "markdown",
   "metadata": {},
   "source": [
    "# HDDM Model Function"
   ]
  },
  {
   "cell_type": "code",
   "execution_count": null,
   "metadata": {
    "collapsed": false
   },
   "outputs": [],
   "source": [
    "def run_cor_model(jobn):\n",
    "\n",
    "      import hddm\n",
    "      import pandas as pd\n",
    "\n",
    "      os.chdir(\"/home/kyle/Dropbox/PFH/iPFH/msm_allcor\")\n",
    "      data=pd.read_csv(\"/home/kyle/Dropbox/PFH/iPFH/HDDM/n19/allsx_ewma_19.csv\")\n",
    "      cdata = data[data.acc==1]\n",
    "      params=['v','z','t','a','sv', 'sz', 'st']\n",
    "      m=hddm.HDDM(cdata, depends_on={'v':['stim','cue'],'z':'cue'}, informative=False, bias=True, include=params)\n",
    "\n",
    "      m.sample(8000, burn=3000, dbname=\"msm_traces\"+str(jobn)+\".db\", db='pickle')\n",
    "      m.print_stats(\"stats\"+str(jobn)+\".txt\")\n",
    "      return m"
   ]
  },
  {
   "cell_type": "code",
   "execution_count": null,
   "metadata": {
    "collapsed": false
   },
   "outputs": [],
   "source": [
    "def run_model(jobn):\n",
    "\n",
    "      import hddm\n",
    "      import pandas as pd\n",
    "\n",
    "      os.chdir(\"/home/kyle/Dropbox/PFH/iPFH/HDDM/Final/msm_final\")\n",
    "      data=pd.read_csv(\"/home/kyle/Dropbox/PFH/iPFH/HDDM/Final/allsx_ewma.csv\")\n",
    "      params=['v','z','t','a','sv', 'sz', 'st']\n",
    "      m=hddm.HDDM(data, depends_on={'v':['stim','cue'],'z':'cue'}, informative=False, bias=True, include=params)\n",
    "\n",
    "      m.sample(8000, burn=3000, dbname=\"msm_traces\"+str(jobn)+\".db\", db='pickle')\n",
    "      m.print_stats(\"stats\"+str(jobn)+\".txt\")\n",
    "      return m"
   ]
  },
  {
   "cell_type": "markdown",
   "metadata": {},
   "source": [
    "## Set up IPython Parallel & Run HDDM Model (3 Chains)"
   ]
  },
  {
   "cell_type": "code",
   "execution_count": null,
   "metadata": {
    "collapsed": false
   },
   "outputs": [],
   "source": [
    "c = Client()\n",
    "c.block = True\n",
    "cview = c.load_balanced_view()\n",
    "models = cview.map(run_model, range(len(c))) # range(len(c)) is the number of engines in cluster"
   ]
  },
  {
   "cell_type": "markdown",
   "metadata": {},
   "source": [
    "## Re-Init Model and Load Traces (For all 3) "
   ]
  },
  {
   "cell_type": "code",
   "execution_count": null,
   "metadata": {
    "collapsed": false
   },
   "outputs": [],
   "source": [
    "m0=hddm.HDDM(data, depends_on={'v':['stim','cue'],'z':'cue'},informative=False,bias=True,include=params)\n",
    "m1=hddm.HDDM(data, depends_on={'v':['stim','cue'],'z':'cue'},informative=False,bias=True,include=params)\n",
    "m2=hddm.HDDM(data, depends_on={'v':['stim','cue'],'z':'cue'},informative=False,bias=True,include=params)\n",
    "\n",
    "m0.load_db('msm_traces0.db', db='pickle')\n",
    "m1.load_db('msm_traces1.db', db='pickle')\n",
    "m2.load_db('msm_traces2.db', db='pickle')"
   ]
  },
  {
   "cell_type": "markdown",
   "metadata": {},
   "source": [
    "## Get Model Stats"
   ]
  },
  {
   "cell_type": "code",
   "execution_count": null,
   "metadata": {
    "collapsed": false
   },
   "outputs": [],
   "source": [
    "models=pd.Series([m0,m1,m2])\n",
    "grdf=pd.DataFrame.from_dict(kabuki.analyze.gelman_rubin(models), orient='index')\n",
    "grdf.columns=['gr']\n",
    "grdf.to_csv(\"gelman-rubin.csv\")\n",
    "\n",
    "allmodels = kabuki.utils.concat_models(models)\n",
    "allmodels.plot_posteriors(save=True)\n",
    "plt.close('all')\n",
    "allmodels.print_stats(\"combined_model_stats.txt\")\n",
    "allmodels.save('msm_all')"
   ]
  },
  {
   "cell_type": "markdown",
   "metadata": {},
   "source": [
    "## Aggregate all 3 model stats into df"
   ]
  },
  {
   "cell_type": "code",
   "execution_count": null,
   "metadata": {
    "collapsed": false
   },
   "outputs": [],
   "source": [
    "df0=m0.gen_stats()\n",
    "df1=m1.gen_stats()\n",
    "df2=m2.gen_stats()\n",
    "\n",
    "df0['m']='m0'\n",
    "df1['m']='m1'\n",
    "df2['m']='m2'\n",
    "\n",
    "dfall=pd.concat([df0, df1, df2])\n",
    "dfall.to_csv('stats_groupedby_model.csv')"
   ]
  },
  {
   "cell_type": "markdown",
   "metadata": {},
   "source": [
    "## Re-Format For Subject Grouping"
   ]
  },
  {
   "cell_type": "code",
   "execution_count": null,
   "metadata": {
    "collapsed": false
   },
   "outputs": [],
   "source": [
    "dfall['param']=dfall.index\n",
    "sx=stats_df(dfall)\n",
    "sxdf=sx.copy() \n",
    "sxdf = sxdf[(sxdf.idx!='GRP')]\n",
    "sxdf[['idx', 'param', 'mean', 'm']] \n",
    "plist=[p.split('_')[0] for p in sxdf.param]\n",
    "sxdf_parsed=sxdf.copy()\n",
    "sxdf_parsed['param']=plist\n",
    "sxdf_parsed.to_csv('sxdf_all_models.csv')"
   ]
  },
  {
   "cell_type": "markdown",
   "metadata": {},
   "source": [
    "# PREPARE CORRELATION DF"
   ]
  },
  {
   "cell_type": "markdown",
   "metadata": {},
   "source": [
    "## Generate Mean Parameters DF Across All 3 Runs"
   ]
  },
  {
   "cell_type": "code",
   "execution_count": null,
   "metadata": {
    "collapsed": false
   },
   "outputs": [],
   "source": [
    "m0stats=parse_stats(m0)\n",
    "m1stats=parse_stats(m1)\n",
    "m2stats=parse_stats(m2)\n",
    "\n",
    "condsdf0=m0stats[1].convert_objects(convert_numeric=True)\n",
    "condsdf1=m1stats[1].convert_objects(convert_numeric=True)\n",
    "condsdf2=m2stats[1].convert_objects(convert_numeric=True)\n",
    "\n",
    "alldf=pd.concat([condsdf0, condsdf1, condsdf2], axis=0)\n",
    "condsdf_mean_of_allmodels=alldf.groupby(['sub', 'param']).mean().reset_index()\n",
    "condsdf_mean_of_allmodels.to_csv(\"condsdf_mean_of_allmodels.csv\")"
   ]
  },
  {
   "cell_type": "markdown",
   "metadata": {},
   "source": [
    "## Make zCue DF (Subj x ParamCondition)"
   ]
  },
  {
   "cell_type": "code",
   "execution_count": null,
   "metadata": {
    "collapsed": false
   },
   "outputs": [],
   "source": [
    "cdfall=condsdf_mean_of_allmodels.copy()\n",
    "adf=cdfall[cdfall.param=='a']\n",
    "zdf=cdfall[cdfall.param=='z']\n",
    "#cdfall[cdfall.param=='a']*cdfall[cdfall.param=='z'])\n",
    "a=adf.groupby('sub').mean().reset_index().iloc[:,2]\n",
    "zzdf=zdf.loc[:, ['sub','param','a80H_face', 'b50N_face', 'c80F_face']]\n",
    "zzdf.columns=['sub','param','zH', 'zN', 'zF']\n",
    "zzdf['a']=a.values"
   ]
  },
  {
   "cell_type": "markdown",
   "metadata": {},
   "source": [
    "## Make vCueStim DF (Subj x ParamCondition)"
   ]
  },
  {
   "cell_type": "code",
   "execution_count": null,
   "metadata": {
    "collapsed": false
   },
   "outputs": [],
   "source": [
    "vdf=cdfall[cdfall.param=='v']\n",
    "vvdf=vdf.iloc[:, 2:]\n",
    "vvdf.columns=['vHF','vNF','vFF','vHH','vNH','vFH']\n",
    "vvdf.index=zzdf['sub'].values\n",
    "zzdf.index=zzdf['sub'].values"
   ]
  },
  {
   "cell_type": "markdown",
   "metadata": {},
   "source": [
    "## rho_df --> Concat zCue and vCueStim, Remove Idx Excl. from fMRI Analysis"
   ]
  },
  {
   "cell_type": "code",
   "execution_count": null,
   "metadata": {
    "collapsed": false
   },
   "outputs": [],
   "source": [
    "rhodf=pd.concat([zzdf, vvdf], axis=1)\n",
    "rhodf.drop('param', axis=1, inplace=True)\n",
    "rhodf_img_subjects_only=rhodf.query('sub != [25,28]')\n",
    "rho_df=rhodf_img_subjects_only.copy()"
   ]
  },
  {
   "cell_type": "markdown",
   "metadata": {},
   "source": [
    "## HDDM MSM Model Parameters for Correlations with BOLD data"
   ]
  },
  {
   "cell_type": "code",
   "execution_count": null,
   "metadata": {
    "collapsed": false
   },
   "outputs": [],
   "source": [
    "# Reverse Sign of House Drifts \n",
    "rho_df[['vHH','vNH','vFH']]=-hddm_rho_df[['vHH','vNH','vFH']]"
   ]
  },
  {
   "cell_type": "code",
   "execution_count": null,
   "metadata": {
    "collapsed": false
   },
   "outputs": [],
   "source": [
    "# Face Cue to a (Face bound)\n",
    "rho_df['zF2a']=rho_df['a']-(rho_df['zF']*rho_df['a'])\n",
    "# Face Cue to b (House bound)\n",
    "rho_df['zF2b']=rho_df['zF']*rho_df['a']\n",
    "\n",
    "# House Cue to a (Face bound)\n",
    "rho_df['zH2a']=rho_df['a']-(rho_df['zH']*rho_df['a'])\n",
    "# House Cue to b (House bound)\n",
    "rho_df['zH2b']=rho_df['zH']*rho_df['a']\n",
    "\n",
    "# (Face Cue) Face Drifts (divided by distance to face bound)\n",
    "rho_df['vFF_n_zF2a']=rho_df['vFF']/rho_df['zF2a']\n",
    "# (Face Cue) Face Drifts (divided by boundary height)\n",
    "rho_df['vFF_n_a']=rho_df['vFF']/rho_df['a']\n",
    "\n",
    "# (Face Cue) House Drifts (divided by distance to house bound)\n",
    "rho_df['vFH_n_zF2b']=rho_df['vFH']/rho_df['zF2b']\n",
    "# (Face Cue) House Drifts (divided by boundary height)\n",
    "rho_df['vFH_n_a']=rho_df['vFH']/rho_df['a']\n",
    "\n",
    "# (House Cue) Face Drifts (divided by distance to face bound)\n",
    "rho_df['vHF_n_zH2a']=rho_df['vHF']/rho_df['zH2a']\n",
    "# (House Cue) Face Drifts (divided by boundary height)\n",
    "rho_df['vHF_n_a']=rho_df['vHF']/rho_df['a']\n",
    "\n",
    "# (House Cue) House Drifts (divided by distance to house bound)\n",
    "rho_df['vHH_n_zH2b']=rho_df['vHH']/rho_df['zH2b']\n",
    "# (House Cue) House Drifts (divided by boundary height)\n",
    "rho_df['vHH_n_a']=rho_df['vHH']/rho_df['a']"
   ]
  },
  {
   "cell_type": "markdown",
   "metadata": {},
   "source": [
    "## Save rho_df"
   ]
  },
  {
   "cell_type": "code",
   "execution_count": null,
   "metadata": {
    "collapsed": false
   },
   "outputs": [],
   "source": [
    "rho_df.to_csv(\"/home/kyle/Dropbox/PFH/iPFH/hddm_rho_df.csv\")"
   ]
  },
  {
   "cell_type": "markdown",
   "metadata": {},
   "source": [
    "## Get BOLD Vectors, Format, and Save PPA, FFA, and Diff DFs"
   ]
  },
  {
   "cell_type": "code",
   "execution_count": null,
   "metadata": {
    "collapsed": false
   },
   "outputs": [],
   "source": [
    "os.chdir(\"/home/kyle/Dropbox/PFH/iPFH/\")\n",
    "ppa=pd.read_csv('PPA_WinPeakBold.csv')\n",
    "ffa=pd.read_csv('FFA_WinPeakBold.csv')\n",
    "\n",
    "cols=['hc', 'nc', 'fc', 'hcF', 'ncF', 'fcF', 'hcH', 'ncH', 'fcH']\n",
    "ffa.columns=cols\n",
    "ppa.columns=cols\n",
    "\n",
    "for df in [ffa, ppa]:\n",
    "    df['fc-fcH']=df['fcH']-df['fc']\n",
    "    df['fc-fcF']=df['fcF']-df['fc']\n",
    "    df['hc-hcH']=df['hcH']-df['hc']\n",
    "    df['hc-hcF']=df['hcF']-df['hc']\n",
    "\n",
    "diff=ffa-ppa\n",
    "for df in [ffa, ppa, diff]:\n",
    "    df['idx']=hddm_rho_df.idx.values\n",
    "\n",
    "ffa.to_csv(\"/home/kyle/Dropbox/PFH/iPFH/ffa_rho_df.csv\")\n",
    "ppa.to_csv(\"/home/kyle/Dropbox/PFH/iPFH/ppa_rho_df.csv\")\n",
    "diff.to_csv(\"/home/kyle/Dropbox/PFH/iPFH/diff_rho_df.csv\")"
   ]
  }
 ],
 "metadata": {
  "kernelspec": {
   "display_name": "Python 2",
   "language": "python",
   "name": "python2"
  },
  "language_info": {
   "codemirror_mode": {
    "name": "ipython",
    "version": 2
   },
   "file_extension": ".py",
   "mimetype": "text/x-python",
   "name": "python",
   "nbconvert_exporter": "python",
   "pygments_lexer": "ipython2",
   "version": "2.7.11"
  }
 },
 "nbformat": 4,
 "nbformat_minor": 0
}
