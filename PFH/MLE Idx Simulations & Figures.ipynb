{
 "metadata": {
  "name": "",
  "signature": "sha256:ba7f5cc150937eff0e53f8341a7db57aef7bde386b4ae57752ff26cdc4d55fa0"
 },
 "nbformat": 3,
 "nbformat_minor": 0,
 "worksheets": [
  {
   "cells": [
    {
     "cell_type": "code",
     "collapsed": false,
     "input": [
      "from __future__ import division\n",
      "import hddm\n",
      "import kabuki\n",
      "import pandas as pd\n",
      "import os\n",
      "from mydata.munge import find_path\n",
      "from myhddm import defmod, parse, opt, vis, sims"
     ],
     "language": "python",
     "metadata": {},
     "outputs": [],
     "prompt_number": 3
    },
    {
     "cell_type": "code",
     "collapsed": false,
     "input": [
      "pth=find_path()\n",
      "mpath=pth+\"PFH/iPFH/HDDM/Final/\"\n",
      "data=pd.read_csv(mpath+\"allsx_ewma.csv\")"
     ],
     "language": "python",
     "metadata": {},
     "outputs": [],
     "prompt_number": 14
    },
    {
     "cell_type": "code",
     "collapsed": false,
     "input": [
      "analyze_models(data, nsims=10, ntrials=100)"
     ],
     "language": "python",
     "metadata": {},
     "outputs": []
    },
    {
     "cell_type": "code",
     "collapsed": false,
     "input": [
      "def analyze_models(data, nsims=100, ntrials=100):\n",
      "\n",
      "    #mnames=['msm', 'dbm', 'dbmz', 'pbm']\n",
      "    mnames=['msm']\n",
      "    bias=True\n",
      "    \n",
      "    for m in mnames:\n",
      "\n",
      "        if m=='dbm':\n",
      "            bias=False\n",
      "\n",
      "        model=defmod.define_model(m, project='imaging')\n",
      "\n",
      "        mpath=pth+\"PFH/iPFH/HDDM/Final/\"+m\n",
      "        os.chdir(mpath)\n",
      "\n",
      "        #m0=model; \n",
      "        #m1=model; m2=model\n",
      "        #mlist=[m0.load_db(m+\"_traces0.db\", db='pickle'), m1.load_db(m+\"_traces1.db\", db='pickle'), m2.load_db(m+\"_traces2.db\", db='pickle')]\n",
      "        #mlist=[m1.load_db(m+\"_traces1.db\", db='pickle'), m2.load_db(m+\"_traces2.db\", db='pickle')]\n",
      "        #allmodels=kabuki.utils.concat_models(mlist)\n",
      "        #allmodels.print_stats(m+\"_stats_all.txt\")\n",
      "\n",
      "        #vis.plot_neutral_traces(allmodels)\n",
      "        #for node in ['z', 'vf', 'vh']:\n",
      "        #    vis.plot_posterior_nodes(allmodels, node)\n",
      "\n",
      "        gparams={}; subj_params=[]\n",
      "\n",
      "        msingle=defmod.define_single(m, data, project='imaging')\n",
      "\n",
      "        for subj_idx, subj_data in data.groupby('subj_idx'):\n",
      "            m_subj=hddm.HDDM(subj_data, depends_on=msingle.depends_on, bias=bias, include=msingle.include)\n",
      "            sx_params=m_subj.optimize('ML')\n",
      "            pdict=opt.get_pdict(sx_params)\n",
      "            subj_params.append(sx_params)\n",
      "            gparams[subj_idx]=pdict\n",
      "\n",
      "        #write gparams to .txt file for reloading later\n",
      "        f=open(m+'_mle_gparams.txt', 'w')\n",
      "        f.write('gparams=' + repr(gparams) + '\\n')\n",
      "        f.close()\n",
      "\n",
      "        simdf_list=[]\n",
      "        for i in range(nsims):\n",
      "            simdf, params_used=sims.sim_exp(pdict=gparams, ntrials=ntrials, pfast=0.0, pslow=0.0, nsims_per_sub=1)\n",
      "            simdf['sim_n']=[i]*len(simdf.index)\n",
      "            simdf_list.append(simdf)\n",
      "\n",
      "        simdf=pd.concat(simdf_list)\n",
      "\n",
      "        params = pd.DataFrame(subj_params)\n",
      "        simdf.to_csv(m+\"_simdf.csv\")\n",
      "        params.to_csv(m+\"_sparams.csv\", index=False)\n",
      "        \n",
      "        vis.predict_from_simdfs(data, simdf, save=True, mname=m)"
     ],
     "language": "python",
     "metadata": {},
     "outputs": [],
     "prompt_number": 19
    }
   ],
   "metadata": {}
  }
 ]
}