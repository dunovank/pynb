{
 "cells": [
  {
   "cell_type": "code",
   "execution_count": 1,
   "metadata": {
    "collapsed": false
   },
   "outputs": [],
   "source": [
    "import hddm\n",
    "import pandas as pd\n",
    "import kabuki\n",
    "from IPython.parallel import Client\n",
    "from radd.hd import stats_df\n",
    "from myhddm import mle, vis\n",
    "from myhddm.parse import parse_stats\n",
    "import statsmodels.api as sm\n",
    "from scipy import stats\n",
    "from scipy.stats.stats import pearsonr, spearmanr\n",
    "import scikits.bootstrap as boot"
   ]
  },
  {
   "cell_type": "code",
   "execution_count": 2,
   "metadata": {
    "collapsed": false
   },
   "outputs": [],
   "source": [
    "os.chdir(\"/home/kyle/Dropbox/PFH/iPFH/HDDM/Final/msm_final\")\n",
    "data=pd.read_csv(\"/home/kyle/Dropbox/PFH/iPFH/HDDM/Final/allsx_ewma.csv\")\n",
    "idx_med=data.groupby('subj_idx').rt.median().reset_index().rt.values"
   ]
  },
  {
   "cell_type": "code",
   "execution_count": 6,
   "metadata": {
    "collapsed": false
   },
   "outputs": [],
   "source": [
    "sxdatalist=[]\n",
    "for i, (sx, sxdata) in enumerate(data.groupby('subj_idx')):\n",
    "    sxdata['speed']=np.ones(len(sxdata))\n",
    "    sxdata.ix[sxdata['rt']<idx_med[i], 'speed']='fast'\n",
    "    sxdata.ix[sxdata['rt']>=idx_med[i], 'speed']='slow'\n",
    "    sxdatalist.append(sxdata)\n",
    "speed_data=pd.concat(sxdatalist)"
   ]
  },
  {
   "cell_type": "code",
   "execution_count": 7,
   "metadata": {
    "collapsed": false
   },
   "outputs": [],
   "source": [
    "def run_model(data, jobn):\n",
    "    \n",
    "    params=['v','z','t','a','sv', 'sz', 'st']\n",
    "    m=hddm.HDDM(data, depends_on={'v':['stim','speed']}, \n",
    "                informative=False, bias=True, include=params)\n",
    "    \n",
    "    m.sample(4000, burn=1500, dbname=\"speed_simple_traces\"+str(jobn)+\".db\", db='pickle')\n",
    "    m.print_stats(\"stats\"+str(jobn)+\".txt\")\n",
    "    return m"
   ]
  },
  {
   "cell_type": "code",
   "execution_count": 8,
   "metadata": {
    "collapsed": false
   },
   "outputs": [
    {
     "name": "stdout",
     "output_type": "stream",
     "text": [
      " [-----------------100%-----------------] 4001 of 4000 complete in 20874.2 sec"
     ]
    }
   ],
   "source": [
    "mpath=\"/home/kyle/Dropbox/PFH/iPFH/HDDM/Final/speed_simple\"\n",
    "os.mkdir(mpath)\n",
    "os.chdir(mpath)\n",
    "\n",
    "mlist=[run_model(speed_data, i) for i in range(3)]"
   ]
  },
  {
   "cell_type": "code",
   "execution_count": 9,
   "metadata": {
    "collapsed": false
   },
   "outputs": [],
   "source": [
    "grdf=pd.DataFrame.from_dict(kabuki.analyze.gelman_rubin(mlist), orient='index')\n",
    "grdf.columns=['gr']\n",
    "grdf.to_csv(\"gelman-rubin.csv\")"
   ]
  },
  {
   "cell_type": "code",
   "execution_count": 10,
   "metadata": {
    "collapsed": false
   },
   "outputs": [
    {
     "name": "stdout",
     "output_type": "stream",
     "text": [
      "Plotting a\n",
      "Plotting a_std\n",
      "Plotting v(fast.face)\n",
      "Plotting v(fast.house)\n",
      "Plotting v(slow.face)\n",
      "Plotting v(slow.house)\n",
      "Plotting v_std\n",
      "Plotting t\n",
      "Plotting t_std\n",
      "Plotting sv\n",
      "Plotting sz\n",
      "Plotting st\n",
      "Plotting z\n",
      "Plotting z_std\n"
     ]
    }
   ],
   "source": [
    "allmodels = kabuki.utils.concat_models(mlist)\n",
    "allmodels.plot_posteriors(save=True); plt.close('all')\n",
    "allmodels.print_stats(\"combined_model_stats.txt\")"
   ]
  },
  {
   "cell_type": "code",
   "execution_count": 12,
   "metadata": {
    "collapsed": false
   },
   "outputs": [],
   "source": [
    "\n",
    "allmodels.save('speed_simple')"
   ]
  },
  {
   "cell_type": "code",
   "execution_count": 19,
   "metadata": {
    "collapsed": false
   },
   "outputs": [],
   "source": [
    "statsdf=allmodels.gen_stats()\n",
    "statsdf.reset_index(inplace=True)\n",
    "statsdf.rename(columns={'index':'param'}, inplace=True)\n",
    "statsdf.to_csv(\"combined_model_stats.csv\", index=False)"
   ]
  },
  {
   "cell_type": "code",
   "execution_count": null,
   "metadata": {
    "collapsed": false
   },
   "outputs": [],
   "source": []
  }
 ],
 "metadata": {
  "kernelspec": {
   "display_name": "Python 2",
   "language": "python",
   "name": "python2"
  },
  "language_info": {
   "codemirror_mode": {
    "name": "ipython",
    "version": 2
   },
   "file_extension": ".py",
   "mimetype": "text/x-python",
   "name": "python",
   "nbconvert_exporter": "python",
   "pygments_lexer": "ipython2",
   "version": "2.7.11"
  }
 },
 "nbformat": 4,
 "nbformat_minor": 0
}
