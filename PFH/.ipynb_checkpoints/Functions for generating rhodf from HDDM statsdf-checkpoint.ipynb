{
 "metadata": {
  "name": "",
  "signature": "sha256:f55215a2aa59968a93e1a07335b1d000f529cfd0fd1ecd1436fb875d1b828ea5"
 },
 "nbformat": 3,
 "nbformat_minor": 0,
 "worksheets": [
  {
   "cells": [
    {
     "cell_type": "code",
     "collapsed": false,
     "input": [
      "import itertools"
     ],
     "language": "python",
     "metadata": {},
     "outputs": [],
     "prompt_number": 50
    },
    {
     "cell_type": "code",
     "collapsed": false,
     "input": [
      "df.columns"
     ],
     "language": "python",
     "metadata": {},
     "outputs": [
      {
       "ename": "AttributeError",
       "evalue": "'dict' object has no attribute 'columns'",
       "output_type": "pyerr",
       "traceback": [
        "\u001b[0;31m---------------------------------------------------------------------------\u001b[0m\n\u001b[0;31mAttributeError\u001b[0m                            Traceback (most recent call last)",
        "\u001b[0;32m<ipython-input-54-6a4642092433>\u001b[0m in \u001b[0;36m<module>\u001b[0;34m()\u001b[0m\n\u001b[0;32m----> 1\u001b[0;31m \u001b[0mdf\u001b[0m\u001b[0;34m.\u001b[0m\u001b[0mcolumns\u001b[0m\u001b[0;34m\u001b[0m\u001b[0m\n\u001b[0m",
        "\u001b[0;31mAttributeError\u001b[0m: 'dict' object has no attribute 'columns'"
       ]
      }
     ],
     "prompt_number": 54
    },
    {
     "cell_type": "code",
     "collapsed": false,
     "input": [
      "df = pd.read_csv(\"/Users/kyle/Dropbox/PFH/iPFH/HDDM/n21/speed_model/combined_model_stats.csv\", index_col=0)#, sep='\\s+', index_col=0"
     ],
     "language": "python",
     "metadata": {},
     "outputs": [],
     "prompt_number": 52
    },
    {
     "cell_type": "code",
     "collapsed": false,
     "input": [
      "df = idx_by_theta(df)"
     ],
     "language": "python",
     "metadata": {},
     "outputs": [],
     "prompt_number": 53
    },
    {
     "cell_type": "code",
     "collapsed": false,
     "input": [
      "cor = (df['zF']+df['zH']+df['zN'])/3"
     ],
     "language": "python",
     "metadata": {},
     "outputs": [],
     "prompt_number": 55
    },
    {
     "cell_type": "code",
     "collapsed": false,
     "input": [
      "df['zH']"
     ],
     "language": "python",
     "metadata": {},
     "outputs": [
      {
       "metadata": {},
       "output_type": "pyout",
       "prompt_number": 57,
       "text": [
        "array([ 0.60665992,  0.63837251,  0.60755274,  0.60300725,  0.57916819,\n",
        "        0.67039112,  0.53819548,  0.63952902,  0.66433092,  0.59516971,\n",
        "        0.62583184,  0.47940546,  0.66495362,  0.61703596,  0.64792202,\n",
        "        0.60174136,  0.57369468,  0.66001752,  0.61975523])"
       ]
      }
     ],
     "prompt_number": 57
    },
    {
     "cell_type": "code",
     "collapsed": false,
     "input": [
      "cor2 = np.array([ 0.58806424,  0.58886978,  0.59901976,  0.65960359,  0.69008232,\n",
      "        0.6407637 ,  0.64188813,  0.66934457,  0.65173494,  0.62666071,\n",
      "        0.54893321,  0.45613744,  0.67907129,  0.63864626,  0.58237093,\n",
      "        0.70798236,  0.67800684,  0.66896503,  0.71004195])"
     ],
     "language": "python",
     "metadata": {},
     "outputs": [],
     "prompt_number": 42
    },
    {
     "cell_type": "code",
     "collapsed": false,
     "input": [
      "from scipy.stats import pearsonr\n",
      "pearsonr(cor, cor2)"
     ],
     "language": "python",
     "metadata": {},
     "outputs": [
      {
       "metadata": {},
       "output_type": "pyout",
       "prompt_number": 44,
       "text": [
        "(0.80940167469272672, 2.6968851736908413e-05)"
       ]
      }
     ],
     "prompt_number": 44
    },
    {
     "cell_type": "code",
     "collapsed": false,
     "input": [
      "df.param.unique()"
     ],
     "language": "python",
     "metadata": {},
     "outputs": [
      {
       "metadata": {},
       "output_type": "pyout",
       "prompt_number": 27,
       "text": [
        "array(['a', 'v', 't', 'z'], dtype=object)"
       ]
      }
     ],
     "prompt_number": 27
    },
    {
     "cell_type": "code",
     "collapsed": false,
     "input": [
      "def idx_by_theta(df):\n",
      "    \"\"\"\n",
      "    arg:\n",
      "        df: hddm stats output (pandas dataframe)\n",
      "    \n",
      "    returns\n",
      "        outdf: dataframe with all parameters (with dependency info) as columns and idx as rows\n",
      "               example columns: [ 'a' | 'vHF' | vNF | vFF | . . . | zH | zN | zF ]\n",
      "               \n",
      "    NOTE:\n",
      "        make sure to run the cell below to define the stats_df function\n",
      "    \"\"\"\n",
      "    \n",
      "    #df.columns=['param','mean','std','2.5q','25q','50q','75q','97.5q','mc err']\n",
      "    sxdf = stats_df(df)\n",
      "    sxdf = sxdf[['idx', 'mean', 'param']]\n",
      "    sxdf = sxdf.query('idx!=25 & idx!=28')\n",
      "    sxdf.reset_index(drop=True, inplace=True)\n",
      "    #return sxdf\n",
      "    cues = ['zH', 'zN', 'zF']\n",
      "    #c = ['H', 'N', 'F']\n",
      "    c = ['Fast', 'Slow']\n",
      "    s = ['F', 'H']\n",
      "    alist = ['a']*19\n",
      "    tlist = ['t']*19\n",
      "    conditions = ['v'+''.join(cstim) for cstim in itertools.product(c, s)]\n",
      "    paramcond=np.array([alist]+[[cond]*19 for cond in conditions]+[tlist]+[[cc]*19 for cc in cues]).flatten()\n",
      "    pc = np.array(paramcond).flatten()\n",
      "    sxdf['pc'] = pc\n",
      "\n",
      "    pcd = {pc:np.abs(pcdata['mean'].values) for pc, pcdata in sxdf.groupby('pc')}\n",
      "    return pcd\n",
      "    rhodf = pd.concat(pclist)\n",
      "    \n",
      "    return rhodf\n",
      "\n",
      "\n",
      "\n",
      "def reorient_idxtheta_df(rhodf):\n",
      "    \"\"\"\n",
      "    arg:\n",
      "        rhodf: dataframe from the function above\n",
      "        \n",
      "    returns:\n",
      "        same df with additional columns for scaled and \n",
      "        transformed parameter values of interest\n",
      "    \"\"\"\n",
      "    \n",
      "    for zz in ['zH', 'zF']:\n",
      "        rhodf[zz+'2a'] = rhodf['a']-(rhodf['a']*rhodf[zz])\n",
      "        rhodf[zz+'2b'] = rhodf['a']*rhodf[zz]\n",
      "\n",
      "    for vv in ['vHF', 'vFF', 'vHH', 'vFH']:\n",
      "        rhodf[vv+'_n_a'] = rhodf[vv]/rhodf['a']\n",
      "        rhodf[vv+'_n_zF2a'] = rhodf[vv]/rhodf['zF2a']\n",
      "        rhodf[vv+'_n_zH2a'] = rhodf[vv]/rhodf['zH2a']\n",
      "        rhodf[vv+'_n_zF2b'] = rhodf[vv]/rhodf['zF2b']\n",
      "        rhodf[vv+'_n_zH2b'] = rhodf[vv]/rhodf['zH2b']\n",
      "    \n",
      "    return rhodf\n"
     ],
     "language": "python",
     "metadata": {},
     "outputs": [],
     "prompt_number": 49
    },
    {
     "cell_type": "code",
     "collapsed": false,
     "input": [
      "def stats_df(model, save=False):\n",
      "    \"\"\"\n",
      "    arg:\n",
      "        model: either HDDM model or stats output\n",
      "        \n",
      "    returns:\n",
      "        same df with columns for idx, param\n",
      "\n",
      "    \"\"\"\n",
      "\n",
      "    if not hasattr(model, 'columns'):\n",
      "        model_stats=model.gen_stats()\n",
      "        model_stats['param']=model_stats.index\n",
      "    else:\n",
      "        model_stats=model\n",
      "\n",
      "    slist=list()\n",
      "    plist=list()\n",
      "\n",
      "    for i in model_stats.index:#['param']:\n",
      "        x=i.split('.')\n",
      "        if x[-1].isdigit():\n",
      "            sint=int(x[-1])\n",
      "            slist.append(sint)\n",
      "        else: slist.append(\"GRP\")\n",
      "    model_stats['idx']=slist\n",
      "\n",
      "    ms = model_stats[model_stats['idx']!=\"GRP\"]\n",
      "    for i in ms.index:#['param']:\n",
      "        plist.append(i.split('_')[0])\n",
      "    ms['param']=plist\n",
      "\n",
      "    return ms\n"
     ],
     "language": "python",
     "metadata": {},
     "outputs": [],
     "prompt_number": 4
    },
    {
     "cell_type": "code",
     "collapsed": false,
     "input": [],
     "language": "python",
     "metadata": {},
     "outputs": []
    }
   ],
   "metadata": {}
  }
 ]
}