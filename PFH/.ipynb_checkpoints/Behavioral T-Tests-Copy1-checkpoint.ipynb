{
 "cells": [
  {
   "cell_type": "code",
   "execution_count": 13,
   "metadata": {
    "collapsed": false
   },
   "outputs": [],
   "source": [
    "from scipy.stats import ttest_rel"
   ]
  },
  {
   "cell_type": "code",
   "execution_count": 10,
   "metadata": {
    "collapsed": false
   },
   "outputs": [],
   "source": [
    "os.chdir('/Users/kyle/Dropbox/PFH/iPFH/HDDM/Final/')\n",
    "df=pd.read_csv(\"allsx_ewma.csv\")\n",
    "df['condition']=df['cue']+'_'+df['stim']"
   ]
  },
  {
   "cell_type": "code",
   "execution_count": 11,
   "metadata": {
    "collapsed": false
   },
   "outputs": [],
   "source": [
    "dfcor=df.query('acc==1')\n",
    "rtdf=dfcor.pivot_table('rt', 'subj_idx', 'condition',)\n",
    "accdf=df.pivot_table('acc', 'subj_idx', 'condition')\n"
   ]
  },
  {
   "cell_type": "code",
   "execution_count": 12,
   "metadata": {
    "collapsed": false
   },
   "outputs": [],
   "source": [
    "os.chdir('/Users/kyle/Dropbox/PFH/iPFH/fMRI/behav/')\n",
    "df.to_csv(\"final_behav_dataframe.csv\")\n",
    "rtdf.to_csv(\"idx_mean_correct_rts.csv\", index=False)\n",
    "accdf.to_csv(\"idx_mean_accuracy.csv\", index=False)\n"
   ]
  },
  {
   "cell_type": "markdown",
   "metadata": {},
   "source": [
    "# Accuracy T-Tests Within Cue Across Stim"
   ]
  },
  {
   "cell_type": "code",
   "execution_count": 62,
   "metadata": {
    "collapsed": false
   },
   "outputs": [
    {
     "name": "stdout",
     "output_type": "stream",
     "text": [
      "Accuracy: 80F Face (M=0.907) != 80F House (M=0.803)\n",
      "t(20)=2.220, p=0.038\n",
      "\n",
      "\n",
      "Accuracy: 80H House (M=0.948) != 80H Face (M=0.801)"
     ]
    },
    {
     "name": "stdout",
     "output_type": "stream",
     "text": [
      "\n",
      "t(20)=3.137, p=0.005\n",
      "\n",
      "\n",
      "Accuracy: 50N House (M=0.911) != 50N Face (M=0.863)"
     ]
    },
    {
     "name": "stdout",
     "output_type": "stream",
     "text": [
      "\n",
      "t(20)=3.015, p=0.007\n"
     ]
    }
   ],
   "source": [
    "print 'Accuracy: 80F Face (M=%.3F) != 80F House (M=%.3F)' % (accdf.c80F_face.mean(), accdf.c80F_house.mean())\n",
    "print \"t(20)=%.3f, p=%.3f\" % ttest_rel(accdf.c80F_face, accdf.c80F_house)\n",
    "\n",
    "print '\\n\\nAccuracy: 80H House (M=%.3F) != 80H Face (M=%.3F)' % (accdf.a80H_house.mean(), accdf.a80H_face.mean())\n",
    "print \"t(20)=%.3f, p=%.3f\" % ttest_rel(accdf.a80H_house, accdf.a80H_face)\n",
    "\n",
    "print '\\n\\nAccuracy: 50N House (M=%.3F) != 50N Face (M=%.3F)' % (accdf.b50N_house.mean(), accdf.b50N_face.mean())\n",
    "print \"t(20)=%.3f, p=%.3f\" % ttest_rel(accdf.b50N_house, accdf.b50N_face)"
   ]
  },
  {
   "cell_type": "markdown",
   "metadata": {},
   "source": [
    "# Accuracy T-Tests Within Face Across Cue"
   ]
  },
  {
   "cell_type": "code",
   "execution_count": 60,
   "metadata": {
    "collapsed": false
   },
   "outputs": [
    {
     "name": "stdout",
     "output_type": "stream",
     "text": [
      "Accuracy: 80F Face (M=0.907) != 50N Face (M=0.863)\n",
      "t(20)=1.939434, p=0.066685\n",
      "\n",
      "\n",
      "Accuracy: 50N Face (M=0.863) != 80H Face (M=0.801)"
     ]
    },
    {
     "name": "stdout",
     "output_type": "stream",
     "text": [
      "\n",
      "t(20)=2.304740, p=0.032031\n",
      "\n",
      "\n",
      "Accuracy: 80F Face (M=0.907) != 80H Face (M=0.801)"
     ]
    },
    {
     "name": "stdout",
     "output_type": "stream",
     "text": [
      "\n",
      "t(20)=2.392952, p=0.026641\n"
     ]
    }
   ],
   "source": [
    "print 'Accuracy: 80F Face (M=%.3F) != 50N Face (M=%.3F)' % (accdf.c80F_face.mean(), accdf.b50N_face.mean())\n",
    "print \"t(20)=%.6f, p=%.6f\" % ttest_rel(accdf.c80F_face, accdf.b50N_face)\n",
    "\n",
    "print '\\n\\nAccuracy: 50N Face (M=%.3F) != 80H Face (M=%.3F)' % (accdf.b50N_face.mean(), accdf.a80H_face.mean())\n",
    "print \"t(20)=%.6f, p=%.6f\" % ttest_rel(accdf.b50N_face, accdf.a80H_face)\n",
    "\n",
    "print '\\n\\nAccuracy: 80F Face (M=%.3F) != 80H Face (M=%.3F)' % (accdf.c80F_face.mean(), accdf.a80H_face.mean())\n",
    "print \"t(20)=%.6f, p=%.6f\" % ttest_rel(accdf.c80F_face, accdf.a80H_face)"
   ]
  },
  {
   "cell_type": "markdown",
   "metadata": {},
   "source": [
    "# Accuracy T-Tests Within House Across Cue"
   ]
  },
  {
   "cell_type": "code",
   "execution_count": 61,
   "metadata": {
    "collapsed": false
   },
   "outputs": [
    {
     "name": "stdout",
     "output_type": "stream",
     "text": [
      "Accuracy: 80H House (M=0.948) != 50N House (M=0.911)\n",
      "t(20)=1.521869, p=0.143696\n",
      "\n",
      "\n",
      "Accuracy: 50N House (M=0.911) != 80F House (M=0.803)"
     ]
    },
    {
     "name": "stdout",
     "output_type": "stream",
     "text": [
      "\n",
      "t(20)=3.709540, p=0.001386\n",
      "\n",
      "\n",
      "Accuracy: 80H House (M=0.948) != 80F House (M=0.803)"
     ]
    },
    {
     "name": "stdout",
     "output_type": "stream",
     "text": [
      "\n",
      "t(20)=3.149919, p=0.005040\n"
     ]
    }
   ],
   "source": [
    "print 'Accuracy: 80H House (M=%.3F) != 50N House (M=%.3F)' % (accdf.a80H_house.mean(), accdf.b50N_house.mean())\n",
    "print \"t(20)=%.6f, p=%.6f\" % ttest_rel(accdf.a80H_house, accdf.b50N_house)\n",
    "\n",
    "print '\\n\\nAccuracy: 50N House (M=%.3F) != 80F House (M=%.3F)' % (accdf.b50N_house.mean(), accdf.c80F_house.mean())\n",
    "print \"t(20)=%.6f, p=%.6f\" % ttest_rel(accdf.b50N_house, accdf.c80F_house)\n",
    "\n",
    "print '\\n\\nAccuracy: 80H House (M=%.3F) != 80F House (M=%.3F)' % (accdf.a80H_house.mean(), accdf.c80F_house.mean())\n",
    "print \"t(20)=%.6f, p=%.6f\" % ttest_rel(accdf.a80H_house, accdf.c80F_house)"
   ]
  },
  {
   "cell_type": "markdown",
   "metadata": {},
   "source": [
    "# Response Time T-Tests Within Cue Across Stim"
   ]
  },
  {
   "cell_type": "code",
   "execution_count": 63,
   "metadata": {
    "collapsed": false
   },
   "outputs": [
    {
     "name": "stdout",
     "output_type": "stream",
     "text": [
      "RT: 80F Face (M=2.211) !=80F House (M=3.094)\n",
      "t(20)=-11.181398, p=0.000000\n",
      "\n",
      "\n",
      "RT: 80H House (M=2.743) != 80H Face (M=2.305)"
     ]
    },
    {
     "name": "stdout",
     "output_type": "stream",
     "text": [
      "\n",
      "t(20)=5.153569, p=0.000048\n",
      "\n",
      "\n",
      "RT: 50N House (M=2.803) != 50N Face (M=2.152)"
     ]
    },
    {
     "name": "stdout",
     "output_type": "stream",
     "text": [
      "\n",
      "t(20)=8.673976, p=0.000000\n"
     ]
    }
   ],
   "source": [
    "print 'RT: 80F Face (M=%.3F) !=80F House (M=%.3F)' % (rtdf.c80F_face.mean(), rtdf.c80F_house.mean())\n",
    "print \"t(20)=%.6f, p=%.6f\" % ttest_rel(rtdf.c80F_face, rtdf.c80F_house)\n",
    "\n",
    "print '\\n\\nRT: 80H House (M=%.3F) != 80H Face (M=%.3F)' % (rtdf.a80H_house.mean(), rtdf.a80H_face.mean())\n",
    "print \"t(20)=%.6f, p=%.6f\" % ttest_rel(rtdf.a80H_house, rtdf.a80H_face)\n",
    "\n",
    "print '\\n\\nRT: 50N House (M=%.3F) != 50N Face (M=%.3F)' % (rtdf.b50N_house.mean(), rtdf.b50N_face.mean())\n",
    "print \"t(20)=%.6f, p=%.6f\" % ttest_rel(rtdf.b50N_house, rtdf.b50N_face)"
   ]
  },
  {
   "cell_type": "markdown",
   "metadata": {},
   "source": [
    "# Response Time T-Tests Within Face Across Cue"
   ]
  },
  {
   "cell_type": "code",
   "execution_count": 64,
   "metadata": {
    "collapsed": false
   },
   "outputs": [
    {
     "name": "stdout",
     "output_type": "stream",
     "text": [
      "RT: 80F Face (M=2.211) != 50N Face (M=2.152)\n",
      "t(20)=2.398601, p=0.026326\n",
      "\n",
      "\n",
      "RT: 50N Face (M=2.152) != 80H Face (M=2.305)"
     ]
    },
    {
     "name": "stdout",
     "output_type": "stream",
     "text": [
      "\n",
      "t(20)=-3.086319, p=0.005823\n",
      "\n",
      "\n",
      "RT: 80F Face (M=2.211) != 80H Face (M=2.305)"
     ]
    },
    {
     "name": "stdout",
     "output_type": "stream",
     "text": [
      "\n",
      "t(20)=-1.749423, p=0.095548\n"
     ]
    }
   ],
   "source": [
    "print 'RT: 80F Face (M=%.3F) != 50N Face (M=%.3F)' % (rtdf.c80F_face.mean(), rtdf.b50N_face.mean())\n",
    "print \"t(20)=%.6f, p=%.6f\" % ttest_rel(rtdf.c80F_face, rtdf.b50N_face)\n",
    "\n",
    "print '\\n\\nRT: 50N Face (M=%.3F) != 80H Face (M=%.3F)' % (rtdf.b50N_face.mean(), rtdf.a80H_face.mean())\n",
    "print \"t(20)=%.6f, p=%.6f\" % ttest_rel(rtdf.b50N_face, rtdf.a80H_face)\n",
    "\n",
    "print '\\n\\nRT: 80F Face (M=%.3F) != 80H Face (M=%.3F)' % (rtdf.c80F_face.mean(), rtdf.a80H_face.mean())\n",
    "print \"t(20)=%.6f, p=%.6f\" % ttest_rel(rtdf.c80F_face, rtdf.a80H_face)"
   ]
  },
  {
   "cell_type": "markdown",
   "metadata": {},
   "source": [
    "# Response Time T-Tests Within House Across Cue"
   ]
  },
  {
   "cell_type": "code",
   "execution_count": 65,
   "metadata": {
    "collapsed": false
   },
   "outputs": [
    {
     "name": "stdout",
     "output_type": "stream",
     "text": [
      "RT: 80H House (M=2.743) != 50N House (M=2.803)\n",
      "t(20)=-1.549452, p=0.136953\n",
      "\n",
      "\n",
      "RT: 50N House (M=2.803) != 80F House (M=3.094)"
     ]
    },
    {
     "name": "stdout",
     "output_type": "stream",
     "text": [
      "\n",
      "t(20)=-4.843680, p=0.000099\n",
      "\n",
      "\n",
      "RT: 80H House (M=2.743) != 80F House (M=3.094)"
     ]
    },
    {
     "name": "stdout",
     "output_type": "stream",
     "text": [
      "\n",
      "t(20)=-5.962709, p=0.000008\n"
     ]
    }
   ],
   "source": [
    "print 'RT: 80H House (M=%.3F) != 50N House (M=%.3F)' % (rtdf.a80H_house.mean(), rtdf.b50N_house.mean())\n",
    "print \"t(20)=%.6f, p=%.6f\" % ttest_rel(rtdf.a80H_house, rtdf.b50N_house)\n",
    "\n",
    "print '\\n\\nRT: 50N House (M=%.3F) != 80F House (M=%.3F)' % (rtdf.b50N_house.mean(), rtdf.c80F_house.mean())\n",
    "print \"t(20)=%.6f, p=%.6f\" % ttest_rel(rtdf.b50N_house, rtdf.c80F_house)\n",
    "\n",
    "print '\\n\\nRT: 80H House (M=%.3F) != 80F House (M=%.3F)' % (rtdf.a80H_house.mean(), rtdf.c80F_house.mean())\n",
    "print \"t(20)=%.6f, p=%.6f\" % ttest_rel(rtdf.a80H_house, rtdf.c80F_house)"
   ]
  },
  {
   "cell_type": "code",
   "execution_count": 51,
   "metadata": {
    "collapsed": false
   },
   "outputs": [
    {
     "data": {
      "image/png": "[encoded data removed]",
      "text/plain": [
       "<matplotlib.figure.Figure at 0x10b4a83d0>"
      ]
     },
     "metadata": {},
     "output_type": "display_data"
    }
   ],
   "source": [
    "f,ax=plt.subplots(1)\n",
    "ax.errorbar(x=np.array([1, 2]), y=np.array([accdf.b50N_face.mean(),accdf.b50N_house.mean()]),  yerr=[accdf.b50N_face.sem(),accdf.b50N_house.sem()], ecolor='k', elinewidth=1, lw=0, marker='o')\n",
    "ax.set_xlim(0,3)\n",
    "\n",
    "for f, h in zip(accdf.b50N_face.values, accdf.b50N_house.values):\n",
    "\n",
    "    ax.errorbar(x=[1,2], y=[f, h], alpha=.5, lw=0, marker='o')\n",
    "    "
   ]
  },
  {
   "cell_type": "code",
   "execution_count": null,
   "metadata": {
    "collapsed": false
   },
   "outputs": [],
   "source": [
    "print 'Accuracy: 50N Face = 50N House'\n",
    "ttest_rel(accdf.b50N_face, accdf.b50N_house)"
   ]
  }
 ],
 "metadata": {},
 "nbformat": 4,
 "nbformat_minor": 0
}
