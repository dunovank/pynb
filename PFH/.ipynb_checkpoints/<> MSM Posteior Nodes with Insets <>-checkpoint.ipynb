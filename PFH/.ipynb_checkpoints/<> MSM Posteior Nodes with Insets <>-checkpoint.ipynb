{
 "metadata": {
  "name": "",
  "signature": "sha256:4ed26f8470890dcd5450ce1106bbc03407afd898750986a70aa6cd622fb149f8"
 },
 "nbformat": 3,
 "nbformat_minor": 0,
 "worksheets": [
  {
   "cells": [
    {
     "cell_type": "code",
     "collapsed": false,
     "input": [
      "os.chdir('/Users/kyle/Dropbox/PFH/iPFH/ModelInfo/')"
     ],
     "language": "python",
     "metadata": {},
     "outputs": [],
     "prompt_number": 3
    },
    {
     "cell_type": "code",
     "collapsed": false,
     "input": [
      "import hddm"
     ],
     "language": "python",
     "metadata": {},
     "outputs": [],
     "prompt_number": 1
    },
    {
     "cell_type": "code",
     "collapsed": false,
     "input": [
      "data=hddm.load_csv(\"all_sx_NEW.csv\")\n"
     ],
     "language": "python",
     "metadata": {},
     "outputs": [],
     "prompt_number": 4
    },
    {
     "cell_type": "code",
     "collapsed": false,
     "input": [
      "model=hddm.HDDM(data, depends_on={'v':['stim', 'cue'], 'z':'cue'}, \n",
      "\tinformative=False, bias=True, include=['st', 'sv', 'sz', 't', 'a', 'v', 'z'])\n",
      "model.load_db(\"/Users/kyle/Dropbox/PFH/iPFH/ModelInfo/msm_traces.db\", db='pickle')\n"
     ],
     "language": "python",
     "metadata": {},
     "outputs": [
      {
       "metadata": {},
       "output_type": "pyout",
       "prompt_number": 5,
       "text": [
        "<hddm.models.hddm_info.HDDM at 0x10f388790>"
       ]
      }
     ],
     "prompt_number": 5
    },
    {
     "cell_type": "code",
     "collapsed": false,
     "input": [
      "from myhddm import vis"
     ],
     "language": "python",
     "metadata": {},
     "outputs": [],
     "prompt_number": 7
    },
    {
     "cell_type": "code",
     "collapsed": false,
     "input": [
      "vF, vH, z = vis.diff_traces(model, project='img')"
     ],
     "language": "python",
     "metadata": {},
     "outputs": [],
     "prompt_number": 10
    },
    {
     "cell_type": "code",
     "collapsed": false,
     "input": [
      "print 'P(Valid Face Drift > Neutral Face Drift) = ', (vF['FN']>0).mean()\n",
      "print 'P(Valid Face Drift > Invalid Face Drift) = ', (vF['FH']>0).mean()\n",
      "print '\\n'\n",
      "print 'P(Valid House Drift > Neutral House Drift) = ', (vH['HN']>0).mean()\n",
      "print 'P(Valid House Drift > Invalid House Drift) = ', (vH['HF']>0).mean()\n",
      "print '\\n'\n",
      "print 'P(FaceCue Starting-Point > NeutralCue Starting-Point) = ', (z['FN']>0).mean()\n",
      "print 'P(FaceCue Starting-Point > HouseCue Starting-Point) = ', (z['FH']>0).mean()\n",
      "print '\\n'\n",
      "print 'P(Invalid House Drift < Neutral House Drift) = ', (vH['NF']>0).mean()\n",
      "print 'P(Invalid House Drift < Valid House Drift) = ', (vH['HF']>0).mean()\n",
      "\n"
     ],
     "language": "python",
     "metadata": {},
     "outputs": [
      {
       "output_type": "stream",
       "stream": "stdout",
       "text": [
        "P(Valid Face Drift > Neutral Face Drift) =  0.4805\n",
        "P(Valid Face Drift > Invalid Face Drift) =  0.77125\n",
        "\n",
        "\n",
        "P(Valid House Drift > Neutral House Drift) =  0.58275\n",
        "P(Valid House Drift > Invalid House Drift) =  0.99175\n",
        "\n",
        "\n",
        "P(FaceCue Starting-Point > NeutralCue Starting-Point) =  0.91925\n",
        "P(FaceCue Starting-Point > HouseCue Starting-Point) =  0.998\n",
        "\n",
        "\n",
        "P(Invalid House Drift < Neutral House Drift) =  0.982\n",
        "P(Invalid House Drift < Valid House Drift) =  0.99175\n"
       ]
      }
     ],
     "prompt_number": 26
    },
    {
     "cell_type": "code",
     "collapsed": false,
     "input": [],
     "language": "python",
     "metadata": {},
     "outputs": []
    }
   ],
   "metadata": {}
  }
 ]
}