{
 "metadata": {
  "name": "",
  "signature": "sha256:c8758242ff0c48e4f785adeebadae24e2038f770128c8ef0c9f67f6974db705f"
 },
 "nbformat": 3,
 "nbformat_minor": 0,
 "worksheets": [
  {
   "cells": [
    {
     "cell_type": "code",
     "collapsed": false,
     "input": [
      "import hddm\n",
      "import pandas as pd\n",
      "import kabuki\n",
      "from IPython.parallel import Client\n",
      "from radd.hd import stats_df\n",
      "from myhddm import mle, vis\n",
      "from myhddm.parse import parse_stats\n",
      "import statsmodels.api as sm\n",
      "from scipy import stats\n",
      "from scipy.stats.stats import pearsonr, spearmanr\n",
      "import scikits.bootstrap as boot"
     ],
     "language": "python",
     "metadata": {},
     "outputs": [],
     "prompt_number": 28
    },
    {
     "cell_type": "code",
     "collapsed": false,
     "input": [
      "os.chdir(\"/home/kyle/Dropbox/PFH/iPFH/HDDM/Final/msm_final\")\n",
      "data=pd.read_csv(\"/home/kyle/Dropbox/PFH/iPFH/HDDM/Final/allsx_ewma.csv\")\n",
      "idx_med=data.groupby('subj_idx').rt.median().reset_index().rt.values"
     ],
     "language": "python",
     "metadata": {},
     "outputs": [],
     "prompt_number": 29
    },
    {
     "cell_type": "code",
     "collapsed": false,
     "input": [
      "sxdatalist=[]\n",
      "for i, (sx, sxdata) in enumerate(data.groupby('subj_idx')):\n",
      "    sxdata['speed']=np.ones(len(sxdata))\n",
      "    sxdata.ix[sxdata['rt']<idx_med[i], 'speed']='fast'\n",
      "    sxdata.ix[sxdata['rt']>=idx_med[i], 'speed']='slow'\n",
      "    sxdatalist.append(sxdata)\n",
      "speed_data=pd.concat(sxdatalist)"
     ],
     "language": "python",
     "metadata": {},
     "outputs": [],
     "prompt_number": 30
    },
    {
     "cell_type": "code",
     "collapsed": false,
     "input": [
      "def run_model(data, jobn):\n",
      "    \n",
      "    params=['v','z','t','a','sv', 'sz', 'st']\n",
      "    m=hddm.HDDM(data, depends_on={'v':['stim','speed'],'z':'cue'}, \n",
      "                informative=False, bias=True, include=params)\n",
      "    \n",
      "    m.sample(8000, burn=3000, dbname=\"speed_traces\"+str(jobn)+\".db\", db='pickle')\n",
      "    m.print_stats(\"stats\"+str(jobn)+\".txt\")\n",
      "    return m"
     ],
     "language": "python",
     "metadata": {},
     "outputs": []
    },
    {
     "cell_type": "code",
     "collapsed": false,
     "input": [
      "mpath=\"/home/kyle/Dropbox/PFH/iPFH/HDDM/Final/speed_model\"\n",
      "#os.mkdir(mpath)\n",
      "os.chdir(mpath)\n",
      "\n",
      "mlist=[run_model(speed_data, i) for i in range(3)]"
     ],
     "language": "python",
     "metadata": {},
     "outputs": [
      {
       "output_type": "stream",
       "stream": "stdout",
       "text": [
        "\r",
        " [                  0%                  ] 2 of 8000 complete in 9.6 sec"
       ]
      },
      {
       "output_type": "stream",
       "stream": "stdout",
       "text": [
        "\r",
        " [                  0%                  ] 3 of 8000 complete in 16.5 sec"
       ]
      },
      {
       "output_type": "stream",
       "stream": "stdout",
       "text": [
        "\r",
        " [                  0%                  ] 4 of 8000 complete in 22.8 sec"
       ]
      },
      {
       "output_type": "stream",
       "stream": "stdout",
       "text": [
        "\r",
        " [                  0%                  ] 5 of 8000 complete in 27.8 sec"
       ]
      },
      {
       "output_type": "stream",
       "stream": "stdout",
       "text": [
        "\r",
        " [                  0%                  ] 6 of 8000 complete in 31.8 sec"
       ]
      },
      {
       "output_type": "stream",
       "stream": "stdout",
       "text": [
        "\r",
        " [                  0%                  ] 7 of 8000 complete in 37.0 sec"
       ]
      },
      {
       "output_type": "stream",
       "stream": "stdout",
       "text": [
        "\r",
        " [                  0%                  ] 8 of 8000 complete in 41.0 sec"
       ]
      },
      {
       "output_type": "stream",
       "stream": "stdout",
       "text": [
        "\r",
        " [                  0%                  ] 9 of 8000 complete in 45.5 sec"
       ]
      },
      {
       "output_type": "stream",
       "stream": "stdout",
       "text": [
        "\r",
        " [                  0%                  ] 10 of 8000 complete in 49.4 sec"
       ]
      },
      {
       "output_type": "stream",
       "stream": "stdout",
       "text": [
        "\r",
        " [                  0%                  ] 11 of 8000 complete in 53.5 sec"
       ]
      },
      {
       "output_type": "stream",
       "stream": "stdout",
       "text": [
        "\r",
        " [                  0%                  ] 12 of 8000 complete in 57.5 sec"
       ]
      },
      {
       "output_type": "stream",
       "stream": "stdout",
       "text": [
        "\r",
        " [                  0%                  ] 13 of 8000 complete in 61.9 sec"
       ]
      },
      {
       "output_type": "stream",
       "stream": "stdout",
       "text": [
        "\r",
        " [                  0%                  ] 14 of 8000 complete in 66.6 sec"
       ]
      },
      {
       "output_type": "stream",
       "stream": "stdout",
       "text": [
        "\r",
        " [                  0%                  ] 15 of 8000 complete in 68.1 sec"
       ]
      },
      {
       "output_type": "stream",
       "stream": "stdout",
       "text": [
        "\r",
        " [                  0%                  ] 16 of 8000 complete in 72.3 sec"
       ]
      },
      {
       "output_type": "stream",
       "stream": "stdout",
       "text": [
        "\r",
        " [                  0%                  ] 17 of 8000 complete in 77.6 sec"
       ]
      },
      {
       "output_type": "stream",
       "stream": "stdout",
       "text": [
        "\r",
        " [                  0%                  ] 18 of 8000 complete in 81.9 sec"
       ]
      },
      {
       "output_type": "stream",
       "stream": "stdout",
       "text": [
        "\r",
        " [                  0%                  ] 19 of 8000 complete in 87.1 sec"
       ]
      },
      {
       "output_type": "stream",
       "stream": "stdout",
       "text": [
        "\r",
        " [                  0%                  ] 20 of 8000 complete in 91.4 sec"
       ]
      },
      {
       "output_type": "stream",
       "stream": "stdout",
       "text": [
        "\r",
        " [                  0%                  ] 21 of 8000 complete in 95.8 sec"
       ]
      },
      {
       "output_type": "stream",
       "stream": "stdout",
       "text": [
        "\r",
        " [                  0%                  ] 22 of 8000 complete in 100.1 sec"
       ]
      },
      {
       "output_type": "stream",
       "stream": "stdout",
       "text": [
        "\r",
        " [                  0%                  ] 23 of 8000 complete in 105.3 sec"
       ]
      },
      {
       "output_type": "stream",
       "stream": "stdout",
       "text": [
        "\r",
        " [                  0%                  ] 24 of 8000 complete in 109.7 sec"
       ]
      }
     ]
    },
    {
     "cell_type": "code",
     "collapsed": false,
     "input": [
      "grdf=pd.DataFrame.from_dict(kabuki.analyze.gelman_rubin(mlist), orient='index')\n",
      "grdf.columns=['gr']\n",
      "grdf.to_csv(\"gelman-rubin.csv\")"
     ],
     "language": "python",
     "metadata": {},
     "outputs": []
    },
    {
     "cell_type": "code",
     "collapsed": false,
     "input": [
      "allmodels = kabuki.utils.concat_models(mlist)\n",
      "allmodels.plot_posteriors(save=True); plt.close('all')\n",
      "allmodels.print_stats(\"combined_model_stats.txt\")"
     ],
     "language": "python",
     "metadata": {},
     "outputs": []
    },
    {
     "cell_type": "code",
     "collapsed": false,
     "input": [
      "allmodels.save('speed_all')"
     ],
     "language": "python",
     "metadata": {},
     "outputs": []
    }
   ],
   "metadata": {}
  }
 ]
}