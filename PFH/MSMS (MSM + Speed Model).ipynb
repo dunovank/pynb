{
 "metadata": {
  "name": "",
  "signature": "sha256:ae18a189681629d8147a65062a4b5b083bda62a9e83cef548488fdaf3b205398"
 },
 "nbformat": 3,
 "nbformat_minor": 0,
 "worksheets": [
  {
   "cells": [
    {
     "cell_type": "code",
     "collapsed": false,
     "input": [
      "import hddm\n",
      "import pandas as pd\n",
      "import kabuki\n",
      "from IPython.parallel import Client\n",
      "from radd.hd import stats_df\n",
      "from myhddm import mle, vis\n",
      "from myhddm.parse import parse_stats\n",
      "import statsmodels.api as sm\n",
      "from scipy import stats\n",
      "from scipy.stats.stats import pearsonr, spearmanr\n",
      "import scikits.bootstrap as boot"
     ],
     "language": "python",
     "metadata": {},
     "outputs": [],
     "prompt_number": 5
    },
    {
     "cell_type": "code",
     "collapsed": false,
     "input": [
      "os.chdir(\"/home/kyle/Dropbox/PFH/iPFH/HDDM/Final/msm_final\")\n",
      "data=pd.read_csv(\"/home/kyle/Dropbox/PFH/iPFH/HDDM/Final/allsx_ewma.csv\")\n",
      "idx_med=data.groupby('subj_idx').rt.median().reset_index().rt.values"
     ],
     "language": "python",
     "metadata": {},
     "outputs": [],
     "prompt_number": 6
    },
    {
     "cell_type": "code",
     "collapsed": false,
     "input": [
      "sxdatalist=[]\n",
      "for i, (sx, sxdata) in enumerate(data.groupby('subj_idx')):\n",
      "    sxdata['speed']=np.ones(len(sxdata))\n",
      "    sxdata.ix[sxdata['rt']<idx_med[i], 'speed']='fast'\n",
      "    sxdata.ix[sxdata['rt']>=idx_med[i], 'speed']='slow'\n",
      "    sxdatalist.append(sxdata)\n",
      "speed_data=pd.concat(sxdatalist)"
     ],
     "language": "python",
     "metadata": {},
     "outputs": [],
     "prompt_number": 7
    },
    {
     "cell_type": "code",
     "collapsed": false,
     "input": [
      "def run_model(data, jobn):\n",
      "    \n",
      "    params=['v','z','t','a','sv', 'sz', 'st']\n",
      "    m=hddm.HDDM(data, depends_on={'v':['stim','cue','speed'],'z':'cue'}, \n",
      "                informative=False, bias=True, include=params)\n",
      "    \n",
      "    m.sample(8000, burn=3000, dbname=\"msms_traces\"+str(jobn)+\".db\", db='pickle')\n",
      "    m.print_stats(\"stats\"+str(jobn)+\".txt\")\n",
      "    return m"
     ],
     "language": "python",
     "metadata": {},
     "outputs": [],
     "prompt_number": 9
    },
    {
     "cell_type": "code",
     "collapsed": false,
     "input": [
      "mpath=\"/home/kyle/Dropbox/PFH/iPFH/HDDM/Final/MSMS\"\n",
      "os.mkdir(mpath)\n",
      "os.chdir(mpath)\n",
      "\n",
      "mlist=[run_model(speed_data, i) for i in range(3)]"
     ],
     "language": "python",
     "metadata": {},
     "outputs": [
      {
       "output_type": "stream",
       "stream": "stdout",
       "text": [
        "\r",
        " [                  0%                  ] 2 of 8000 complete in 3.7 sec"
       ]
      },
      {
       "output_type": "stream",
       "stream": "stdout",
       "text": [
        "\r",
        " [                  0%                  ] 3 of 8000 complete in 11.1 sec"
       ]
      },
      {
       "output_type": "stream",
       "stream": "stdout",
       "text": [
        "\r",
        " [                  0%                  ] 4 of 8000 complete in 18.3 sec"
       ]
      },
      {
       "output_type": "stream",
       "stream": "stdout",
       "text": [
        "\r",
        " [                  0%                  ] 5 of 8000 complete in 28.0 sec"
       ]
      },
      {
       "output_type": "stream",
       "stream": "stdout",
       "text": [
        "\r",
        " [                  0%                  ] 6 of 8000 complete in 36.7 sec"
       ]
      }
     ]
    },
    {
     "cell_type": "code",
     "collapsed": false,
     "input": [
      "grdf=pd.DataFrame.from_dict(kabuki.analyze.gelman_rubin(mlist), orient='index')\n",
      "grdf.columns=['gr']\n",
      "grdf.to_csv(\"gelman-rubin.csv\")"
     ],
     "language": "python",
     "metadata": {},
     "outputs": []
    },
    {
     "cell_type": "code",
     "collapsed": false,
     "input": [
      "allmodels = kabuki.utils.concat_models(mlist)\n",
      "allmodels.plot_posteriors(save=True); plt.close('all')\n",
      "allmodels.print_stats(\"combined_model_stats.txt\")"
     ],
     "language": "python",
     "metadata": {},
     "outputs": []
    },
    {
     "cell_type": "code",
     "collapsed": false,
     "input": [
      "allmodels.save('msms')"
     ],
     "language": "python",
     "metadata": {},
     "outputs": []
    }
   ],
   "metadata": {}
  }
 ]
}