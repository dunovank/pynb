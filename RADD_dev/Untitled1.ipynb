{
 "cells": [
  {
   "cell_type": "code",
   "execution_count": 2,
   "metadata": {
    "collapsed": true
   },
   "outputs": [],
   "source": [
    "from radd.tools import theta"
   ]
  },
  {
   "cell_type": "code",
   "execution_count": 12,
   "metadata": {
    "collapsed": false
   },
   "outputs": [],
   "source": [
    "p = {'a': 0.45, 'v': 1.26, 'xb': 1.3, 'ssv': -1.3, 'tr': 0.2}\n",
    "\n",
    "pbounds = theta.get_bounds(re_popt)\n",
    "\n",
    "#format_basinhopping_bounds()"
   ]
  },
  {
   "cell_type": "code",
   "execution_count": 16,
   "metadata": {
    "collapsed": true
   },
   "outputs": [],
   "source": [
    "class MyBounds(object):\n",
    "    def __init__(self, p):\n",
    "        pbounds = theta.get_bounds(p)\n",
    "        self.xmin = np.array([pbounds[k][0] for k in np.sort(p.keys())])\n",
    "        self.xmax = np.array([pbounds[k][1] for k in np.sort(p.keys())])\n",
    "        \n",
    "    def __call__(self, **kwargs):\n",
    "        x = kwargs[\"x_new\"]\n",
    "        tmax = bool(np.all(x <= self.xmax))\n",
    "        tmin = bool(np.all(x >= self.xmin))\n",
    "        return tmax and tmin\n",
    "\n",
    "\n",
    "\n",
    "\n",
    "class MyTakeStep(object):\n",
    "    def __init__(self, stepsize=0.05):\n",
    "        self.stepsize = stepsize\n",
    "        \n",
    "    def __call__(self, x):\n",
    "        s = self.stepsize\n",
    "        x[0] += np.random.uniform(-2.*s, 2.*s)\n",
    "        x[1] += np.random.uniform(-.2*s, .2*s)\n",
    "        x[2] += np.random.uniform(-.5*s, .5*s)\n",
    "        return x"
   ]
  },
  {
   "cell_type": "code",
   "execution_count": 25,
   "metadata": {
    "collapsed": true
   },
   "outputs": [],
   "source": [
    "mbd = MyBounds(p=p)\n",
    "mts = MyTakeStep()\n",
    "\n",
    "x = array([p[k] for k in np.sort(p.keys())])\n",
    "\n",
    "for i in range(2000):\n",
    "    x_in_bounds = array([True, True, True])\n",
    "    while np.all(x_in_bounds):\n",
    "        x = mts.__call__(x)\n",
    "        x_in_bounds = mbd.__call__(x_new = x)\n",
    "    \n",
    "    \n",
    "    "
   ]
  },
  {
   "cell_type": "code",
   "execution_count": 20,
   "metadata": {
    "collapsed": false
   },
   "outputs": [
    {
     "data": {
      "text/plain": [
       "array([ 1.19735, -1.61023,  1.12696,  1.26   ,  1.3    ])"
      ]
     },
     "execution_count": 20,
     "metadata": {},
     "output_type": "execute_result"
    }
   ],
   "source": [
    "x"
   ]
  },
  {
   "cell_type": "code",
   "execution_count": null,
   "metadata": {
    "collapsed": true
   },
   "outputs": [],
   "source": []
  }
 ],
 "metadata": {
  "kernelspec": {
   "display_name": "Python 2",
   "language": "python",
   "name": "python2"
  },
  "language_info": {
   "codemirror_mode": {
    "name": "ipython",
    "version": 2
   },
   "file_extension": ".py",
   "mimetype": "text/x-python",
   "name": "python",
   "nbconvert_exporter": "python",
   "pygments_lexer": "ipython2",
   "version": "2.7.11"
  }
 },
 "nbformat": 4,
 "nbformat_minor": 0
}
