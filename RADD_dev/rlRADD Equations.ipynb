{
 "cells": [
  {
   "cell_type": "code",
   "execution_count": 4,
   "metadata": {
    "collapsed": true
   },
   "outputs": [],
   "source": [
    "from IPython.display import display, Math, Latex"
   ]
  },
  {
   "cell_type": "code",
   "execution_count": 11,
   "metadata": {
    "collapsed": false
   },
   "outputs": [
    {
     "data": {
      "text/latex": [
       "$$\\epsilon^{G/N}_j \\sim \\mathcal{N}(0, \\sigma^2)$$"
      ],
      "text/plain": [
       "<IPython.core.display.Latex object>"
      ]
     },
     "metadata": {},
     "output_type": "display_data"
    },
    {
     "data": {
      "text/latex": [
       "$$G_{j,t}(\\tau) = G_{j,t}(\\tau-\\Delta\\tau) + v^G_{j,t}\\Delta\\tau + \\epsilon^G_j(\\tau)$$"
      ],
      "text/plain": [
       "<IPython.core.display.Latex object>"
      ]
     },
     "metadata": {},
     "output_type": "display_data"
    },
    {
     "data": {
      "text/latex": [
       "$$N_{j,t}(\\tau) = N_{j,t}(\\tau-\\Delta\\tau) + v^N_{j,t}\\Delta\\tau + \\epsilon^N_j(\\tau)$$"
      ],
      "text/plain": [
       "<IPython.core.display.Latex object>"
      ]
     },
     "metadata": {},
     "output_type": "display_data"
    },
    {
     "data": {
      "text/latex": [
       "$$\\Theta_{j,t}(\\tau) = [G_{j,t}(\\tau) - N_{j,t}(\\tau)] \\cdot cosh(\\gamma\\cdot\\tau)$$"
      ],
      "text/plain": [
       "<IPython.core.display.Latex object>"
      ]
     },
     "metadata": {},
     "output_type": "display_data"
    },
    {
     "data": {
      "text/latex": [
       "$$Q_{j,t} = Q_{j,t-1} + \\alpha^{G/N} (r_t - Q_{j,t-1})$$"
      ],
      "text/plain": [
       "<IPython.core.display.Latex object>"
      ]
     },
     "metadata": {},
     "output_type": "display_data"
    },
    {
     "data": {
      "text/latex": [
       "$$P(j)_t = \\frac{e^{\\beta \\cdot Q_{j,t}}}{\\sum_{i}^4 e^{\\beta \\cdot Q_{j=i,t}}}$$"
      ],
      "text/plain": [
       "<IPython.core.display.Latex object>"
      ]
     },
     "metadata": {},
     "output_type": "display_data"
    },
    {
     "data": {
      "text/latex": [
       "$$\\delta_t = P(j)_t - P(j)_{t-1}$$"
      ],
      "text/plain": [
       "<IPython.core.display.Latex object>"
      ]
     },
     "metadata": {},
     "output_type": "display_data"
    },
    {
     "data": {
      "text/latex": [
       "$$v^G_{j,t} = v^G_{j,t-1} + \\alpha^G \\cdot \\delta_t$$"
      ],
      "text/plain": [
       "<IPython.core.display.Latex object>"
      ]
     },
     "metadata": {},
     "output_type": "display_data"
    },
    {
     "data": {
      "text/latex": [
       "$$v^N_{j,t} = v^N_{j,t-1} + \\alpha^N \\cdot -\\delta_t$$"
      ],
      "text/plain": [
       "<IPython.core.display.Latex object>"
      ]
     },
     "metadata": {},
     "output_type": "display_data"
    }
   ],
   "source": [
    "epsilon = '\\epsilon^{G/N}_j \\sim \\mathcal{N}(0, \\sigma^2)'\n",
    "G = 'G_{j,t}(\\\\tau) = G_{j,t}(\\\\tau-\\Delta\\\\tau) + v^G_{j,t}\\Delta\\\\tau + \\epsilon^G_j(\\\\tau)'\n",
    "N = 'N_{j,t}(\\\\tau) = N_{j,t}(\\\\tau-\\Delta\\\\tau) + v^N_{j,t}\\Delta\\\\tau + \\epsilon^N_j(\\\\tau)'\n",
    "Theta = '\\Theta_{j,t}(\\\\tau) = [G_{j,t}(\\\\tau) - N_{j,t}(\\\\tau)] \\cdot cosh(\\gamma\\cdot\\\\tau)'\n",
    "Q = 'Q_{j,t} = Q_{j,t-1} + \\\\alpha^{G/N} (r_t - Q_{j,t-1})'\n",
    "P = 'P(j)_t = \\\\frac{e^{\\\\beta \\cdot Q_{j,t}}}{\\sum_{i}^4 e^{\\\\beta \\cdot Q_{j=i,t}}}'\n",
    "delta = '\\delta_t = P(j)_t - P(j)_{t-1}' \n",
    "vG = 'v^G_{j,t} = v^G_{j,t-1} + \\\\alpha^G \\cdot \\delta_t'\n",
    "vN = 'v^N_{j,t} = v^N_{j,t-1} + \\\\alpha^N \\cdot -\\delta_t'\n",
    "\n",
    "for equation in [epsilon, G, N, Theta, Q, P, delta, vG, vN]:\n",
    "    display(Latex(''.join([\"$$\", equation, \"$$\"])), )"
   ]
  },
  {
   "cell_type": "code",
   "execution_count": null,
   "metadata": {
    "collapsed": true
   },
   "outputs": [],
   "source": [
    "f, (ax, ax2) = plt.subplots(2, figsize=(5, 10))\n",
    "eq0 = \"$\\epsilon^{G/N}_j \\sim \\mathcal{N}(0, \\sigma)$\"\n",
    "eq1 = \"$G_j(\\\\tau+1) = G_j(\\\\tau) + v^G_j\\Delta \\\\tau + \\epsilon^G_j(\\\\tau)$\"\n",
    "eq2 = \"$N_j(\\\\tau+1) = N_j(\\\\tau) + v^N_j\\Delta \\\\tau + \\epsilon^N_j(\\\\tau)$\"\n",
    "\n",
    "eq3 = \"$Q_j(t+1) = Q_j(t) + \\\\alpha^{G/N} (r(t) - Q_j(t))$\"\n",
    "#eq4 = \"$P_j(t+1) = \\frac{\\e^{\\\\beta Q_j(t)}}{}$\"\n",
    "eq4a = '$'\n",
    "eq4 = \"$P(Deck) = \\\\frac{e^{\\\\beta Q_{Deck}(t)}}{\\sum_{i=0} e^{\\\\beta Q_j(t)}}$\"\n",
    "#eq5 = \"$v^G_j(t+1) = v^G_j(t) + \\\\alpha^G (r(t) - v^G_j(t))$\"\n",
    "#eq6 = \"$N_j(\\\\tau) = N_j(\\\\tau-1) + v^N_j\\Delta \\\\tau + \\sqrt{\\Delta \\\\tau} s \\epsilon^G_j(\\\\tau)$\"\n",
    "eq4 = r\"$$\\sum_{i=0}^n i^2 = \\frac{(n^2+n)(2n+1)}{6}$$\"\n",
    "eq4 = Latex(r'$$F(k) = \\sum_{-\\infty}^{\\infty} f(x) e^{2\\pi i k} dx$$')\n",
    "#add text                                 \n",
    "ax.text(.26, 0.95, eq0, fontsize = 30)\n",
    "ax.text(0, 0.75, eq1, fontsize = 30)\n",
    "ax.text(0, 0.55, eq2, fontsize = 30)\n",
    "\n",
    "\n",
    "#ax2.text(0, 0.75, eq3, fontsize = 30)\n",
    "ax2.text(0, 0.55, eq4, fontsize = 30)\n",
    "#hide axes                                                                      \n",
    "#fig = plt.gca()                   \n",
    "\n",
    "for axx in [ax, ax2]:\n",
    "    _ = [spn.set_visible(False) for spn in axx.spines.values()] \n",
    "    _ = [xy.set_visible(False) for xy in [axx.get_xaxis(), axx.get_yaxis()]]\n",
    "    \n",
    "#.set_visible(False)                                         \n",
    "#f.axes.get_yaxis().set_visible(False)                                         \n",
    "#plt.savefig('out.png', bbox_inches='tight', pad_inches=0)"
   ]
  }
 ],
 "metadata": {
  "kernelspec": {
   "display_name": "Python 2",
   "language": "python",
   "name": "python2"
  },
  "language_info": {
   "codemirror_mode": {
    "name": "ipython",
    "version": 2
   },
   "file_extension": ".py",
   "mimetype": "text/x-python",
   "name": "python",
   "nbconvert_exporter": "python",
   "pygments_lexer": "ipython2",
   "version": "2.7.11"
  }
 },
 "nbformat": 4,
 "nbformat_minor": 0
}
