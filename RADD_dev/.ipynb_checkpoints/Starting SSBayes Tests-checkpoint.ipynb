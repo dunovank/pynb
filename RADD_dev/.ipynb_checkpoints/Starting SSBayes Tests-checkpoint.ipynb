{
 "cells": [
  {
   "cell_type": "code",
   "execution_count": 1,
   "metadata": {
    "collapsed": false
   },
   "outputs": [],
   "source": [
    "import radd"
   ]
  },
  {
   "cell_type": "code",
   "execution_count": 418,
   "metadata": {
    "collapsed": false
   },
   "outputs": [],
   "source": [
    "### import radd\n",
    "from radd import build\n",
    "from radd.tools import analyze\n",
    "from itertools import takewhile\n",
    "from scipy.stats.mstats_extras import mjci\n",
    "homedir = os.path.expanduser('~')\n",
    "\n",
    "ssb = pd.read_csv(os.path.join(homedir, \"Dropbox/Projects/SSBayes/alldata_clean.csv\"))\n",
    "udf = ssb[ssb.cond.isin(['uniform'])]\n",
    "edf = ssb[ssb.cond.isin(['early'])]\n",
    "ldf = ssb[ssb.cond.isin(['late'])]\n",
    "\n",
    "re = pd.read_csv(os.path.join(homedir, \"Dropbox/Projects/SS/Reactive/Re_Data.csv\"), index_col=0)\n",
    "cox = pd.read_csv(os.path.join(homedir, \"Dropbox/Projects/Coxon/coxon_behav_data_binned.csv\"))\n",
    "\n",
    "inits = {'a': 0.45, 'v': 1.26, 'xb': 1.3, 'ssv': -1.3, 'tr': 0.2}"
   ]
  },
  {
   "cell_type": "code",
   "execution_count": 419,
   "metadata": {
    "collapsed": true
   },
   "outputs": [],
   "source": [
    "popt_flat = {'a': 0.5878,  'ssv': -1.1539, 'tr': 0.120, 'v': 0.95904, 'xb': 1.845}"
   ]
  },
  {
   "cell_type": "code",
   "execution_count": 478,
   "metadata": {
    "collapsed": false
   },
   "outputs": [
    {
     "data": {
      "text/plain": [
       "array([[ 0.94201,  0.99426,  0.98279,  0.89672,  0.50492,  0.10328,\n",
       "         0.51263,  0.54257,  0.56297,  0.58212,  0.61031,  0.49795,\n",
       "         0.52919,  0.54817,  0.56757,  0.59428],\n",
       "       [ 0.92725,  0.99344,  0.98525,  0.92541,  0.59426,  0.18115,\n",
       "         0.51652,  0.54902,  0.56989,  0.59031,  0.6177 ,  0.49691,\n",
       "         0.52939,  0.55316,  0.57166,  0.59969]])"
      ]
     },
     "execution_count": 478,
     "metadata": {},
     "output_type": "execute_result"
    }
   ],
   "source": [
    "m.fitparams['y']"
   ]
  },
  {
   "cell_type": "code",
   "execution_count": 480,
   "metadata": {
    "collapsed": false
   },
   "outputs": [],
   "source": [
    "m = build.Model(data=re, inits=popt_flat, kind='xdpm', fit_on='average', depends_on={'v':'Cond'})"
   ]
  },
  {
   "cell_type": "code",
   "execution_count": 485,
   "metadata": {
    "collapsed": false
   },
   "outputs": [
    {
     "data": {
      "text/plain": [
       "1"
      ]
     },
     "execution_count": 485,
     "metadata": {},
     "output_type": "execute_result"
    }
   ],
   "source": [
    "m.opt.simulator.nlevels"
   ]
  },
  {
   "cell_type": "code",
   "execution_count": 482,
   "metadata": {
    "collapsed": false
   },
   "outputs": [
    {
     "ename": "ValueError",
     "evalue": "total size of new array must be unchanged",
     "output_type": "error",
     "traceback": [
      "\u001b[1;31m---------------------------------------------------------------------------\u001b[0m",
      "\u001b[1;31mValueError\u001b[0m                                Traceback (most recent call last)",
      "\u001b[1;32m<ipython-input-482-a9fb19ba6335>\u001b[0m in \u001b[0;36m<module>\u001b[1;34m()\u001b[0m\n\u001b[1;32m----> 1\u001b[1;33m \u001b[0mget_ipython\u001b[0m\u001b[1;33m(\u001b[0m\u001b[1;33m)\u001b[0m\u001b[1;33m.\u001b[0m\u001b[0mmagic\u001b[0m\u001b[1;33m(\u001b[0m\u001b[1;34mu'timeit m.opt.simulator.sim_fx(m.inits)'\u001b[0m\u001b[1;33m)\u001b[0m\u001b[1;33m\u001b[0m\u001b[0m\n\u001b[0m",
      "\u001b[1;32m/home/kyle/anaconda/lib/python2.7/site-packages/IPython/core/interactiveshell.pyc\u001b[0m in \u001b[0;36mmagic\u001b[1;34m(self, arg_s)\u001b[0m\n\u001b[0;32m   2161\u001b[0m         \u001b[0mmagic_name\u001b[0m\u001b[1;33m,\u001b[0m \u001b[0m_\u001b[0m\u001b[1;33m,\u001b[0m \u001b[0mmagic_arg_s\u001b[0m \u001b[1;33m=\u001b[0m \u001b[0marg_s\u001b[0m\u001b[1;33m.\u001b[0m\u001b[0mpartition\u001b[0m\u001b[1;33m(\u001b[0m\u001b[1;34m' '\u001b[0m\u001b[1;33m)\u001b[0m\u001b[1;33m\u001b[0m\u001b[0m\n\u001b[0;32m   2162\u001b[0m         \u001b[0mmagic_name\u001b[0m \u001b[1;33m=\u001b[0m \u001b[0mmagic_name\u001b[0m\u001b[1;33m.\u001b[0m\u001b[0mlstrip\u001b[0m\u001b[1;33m(\u001b[0m\u001b[0mprefilter\u001b[0m\u001b[1;33m.\u001b[0m\u001b[0mESC_MAGIC\u001b[0m\u001b[1;33m)\u001b[0m\u001b[1;33m\u001b[0m\u001b[0m\n\u001b[1;32m-> 2163\u001b[1;33m         \u001b[1;32mreturn\u001b[0m \u001b[0mself\u001b[0m\u001b[1;33m.\u001b[0m\u001b[0mrun_line_magic\u001b[0m\u001b[1;33m(\u001b[0m\u001b[0mmagic_name\u001b[0m\u001b[1;33m,\u001b[0m \u001b[0mmagic_arg_s\u001b[0m\u001b[1;33m)\u001b[0m\u001b[1;33m\u001b[0m\u001b[0m\n\u001b[0m\u001b[0;32m   2164\u001b[0m \u001b[1;33m\u001b[0m\u001b[0m\n\u001b[0;32m   2165\u001b[0m     \u001b[1;31m#-------------------------------------------------------------------------\u001b[0m\u001b[1;33m\u001b[0m\u001b[1;33m\u001b[0m\u001b[0m\n",
      "\u001b[1;32m/home/kyle/anaconda/lib/python2.7/site-packages/IPython/core/interactiveshell.pyc\u001b[0m in \u001b[0;36mrun_line_magic\u001b[1;34m(self, magic_name, line)\u001b[0m\n\u001b[0;32m   2082\u001b[0m                 \u001b[0mkwargs\u001b[0m\u001b[1;33m[\u001b[0m\u001b[1;34m'local_ns'\u001b[0m\u001b[1;33m]\u001b[0m \u001b[1;33m=\u001b[0m \u001b[0msys\u001b[0m\u001b[1;33m.\u001b[0m\u001b[0m_getframe\u001b[0m\u001b[1;33m(\u001b[0m\u001b[0mstack_depth\u001b[0m\u001b[1;33m)\u001b[0m\u001b[1;33m.\u001b[0m\u001b[0mf_locals\u001b[0m\u001b[1;33m\u001b[0m\u001b[0m\n\u001b[0;32m   2083\u001b[0m             \u001b[1;32mwith\u001b[0m \u001b[0mself\u001b[0m\u001b[1;33m.\u001b[0m\u001b[0mbuiltin_trap\u001b[0m\u001b[1;33m:\u001b[0m\u001b[1;33m\u001b[0m\u001b[0m\n\u001b[1;32m-> 2084\u001b[1;33m                 \u001b[0mresult\u001b[0m \u001b[1;33m=\u001b[0m \u001b[0mfn\u001b[0m\u001b[1;33m(\u001b[0m\u001b[1;33m*\u001b[0m\u001b[0margs\u001b[0m\u001b[1;33m,\u001b[0m\u001b[1;33m**\u001b[0m\u001b[0mkwargs\u001b[0m\u001b[1;33m)\u001b[0m\u001b[1;33m\u001b[0m\u001b[0m\n\u001b[0m\u001b[0;32m   2085\u001b[0m             \u001b[1;32mreturn\u001b[0m \u001b[0mresult\u001b[0m\u001b[1;33m\u001b[0m\u001b[0m\n\u001b[0;32m   2086\u001b[0m \u001b[1;33m\u001b[0m\u001b[0m\n",
      "\u001b[1;32m<decorator-gen-59>\u001b[0m in \u001b[0;36mtimeit\u001b[1;34m(self, line, cell)\u001b[0m\n",
      "\u001b[1;32m/home/kyle/anaconda/lib/python2.7/site-packages/IPython/core/magic.pyc\u001b[0m in \u001b[0;36m<lambda>\u001b[1;34m(f, *a, **k)\u001b[0m\n\u001b[0;32m    191\u001b[0m     \u001b[1;31m# but it's overkill for just that one bit of state.\u001b[0m\u001b[1;33m\u001b[0m\u001b[1;33m\u001b[0m\u001b[0m\n\u001b[0;32m    192\u001b[0m     \u001b[1;32mdef\u001b[0m \u001b[0mmagic_deco\u001b[0m\u001b[1;33m(\u001b[0m\u001b[0marg\u001b[0m\u001b[1;33m)\u001b[0m\u001b[1;33m:\u001b[0m\u001b[1;33m\u001b[0m\u001b[0m\n\u001b[1;32m--> 193\u001b[1;33m         \u001b[0mcall\u001b[0m \u001b[1;33m=\u001b[0m \u001b[1;32mlambda\u001b[0m \u001b[0mf\u001b[0m\u001b[1;33m,\u001b[0m \u001b[1;33m*\u001b[0m\u001b[0ma\u001b[0m\u001b[1;33m,\u001b[0m \u001b[1;33m**\u001b[0m\u001b[0mk\u001b[0m\u001b[1;33m:\u001b[0m \u001b[0mf\u001b[0m\u001b[1;33m(\u001b[0m\u001b[1;33m*\u001b[0m\u001b[0ma\u001b[0m\u001b[1;33m,\u001b[0m \u001b[1;33m**\u001b[0m\u001b[0mk\u001b[0m\u001b[1;33m)\u001b[0m\u001b[1;33m\u001b[0m\u001b[0m\n\u001b[0m\u001b[0;32m    194\u001b[0m \u001b[1;33m\u001b[0m\u001b[0m\n\u001b[0;32m    195\u001b[0m         \u001b[1;32mif\u001b[0m \u001b[0mcallable\u001b[0m\u001b[1;33m(\u001b[0m\u001b[0marg\u001b[0m\u001b[1;33m)\u001b[0m\u001b[1;33m:\u001b[0m\u001b[1;33m\u001b[0m\u001b[0m\n",
      "\u001b[1;32m/home/kyle/anaconda/lib/python2.7/site-packages/IPython/core/magics/execution.pyc\u001b[0m in \u001b[0;36mtimeit\u001b[1;34m(self, line, cell)\u001b[0m\n\u001b[0;32m   1039\u001b[0m             \u001b[0mnumber\u001b[0m \u001b[1;33m=\u001b[0m \u001b[1;36m1\u001b[0m\u001b[1;33m\u001b[0m\u001b[0m\n\u001b[0;32m   1040\u001b[0m             \u001b[1;32mfor\u001b[0m \u001b[0m_\u001b[0m \u001b[1;32min\u001b[0m \u001b[0mrange\u001b[0m\u001b[1;33m(\u001b[0m\u001b[1;36m1\u001b[0m\u001b[1;33m,\u001b[0m \u001b[1;36m10\u001b[0m\u001b[1;33m)\u001b[0m\u001b[1;33m:\u001b[0m\u001b[1;33m\u001b[0m\u001b[0m\n\u001b[1;32m-> 1041\u001b[1;33m                 \u001b[0mtime_number\u001b[0m \u001b[1;33m=\u001b[0m \u001b[0mtimer\u001b[0m\u001b[1;33m.\u001b[0m\u001b[0mtimeit\u001b[0m\u001b[1;33m(\u001b[0m\u001b[0mnumber\u001b[0m\u001b[1;33m)\u001b[0m\u001b[1;33m\u001b[0m\u001b[0m\n\u001b[0m\u001b[0;32m   1042\u001b[0m                 \u001b[0mworst_tuning\u001b[0m \u001b[1;33m=\u001b[0m \u001b[0mmax\u001b[0m\u001b[1;33m(\u001b[0m\u001b[0mworst_tuning\u001b[0m\u001b[1;33m,\u001b[0m \u001b[0mtime_number\u001b[0m \u001b[1;33m/\u001b[0m \u001b[0mnumber\u001b[0m\u001b[1;33m)\u001b[0m\u001b[1;33m\u001b[0m\u001b[0m\n\u001b[0;32m   1043\u001b[0m                 \u001b[1;32mif\u001b[0m \u001b[0mtime_number\u001b[0m \u001b[1;33m>=\u001b[0m \u001b[1;36m0.2\u001b[0m\u001b[1;33m:\u001b[0m\u001b[1;33m\u001b[0m\u001b[0m\n",
      "\u001b[1;32m/home/kyle/anaconda/lib/python2.7/site-packages/IPython/core/magics/execution.pyc\u001b[0m in \u001b[0;36mtimeit\u001b[1;34m(self, number)\u001b[0m\n\u001b[0;32m    135\u001b[0m         \u001b[0mgc\u001b[0m\u001b[1;33m.\u001b[0m\u001b[0mdisable\u001b[0m\u001b[1;33m(\u001b[0m\u001b[1;33m)\u001b[0m\u001b[1;33m\u001b[0m\u001b[0m\n\u001b[0;32m    136\u001b[0m         \u001b[1;32mtry\u001b[0m\u001b[1;33m:\u001b[0m\u001b[1;33m\u001b[0m\u001b[0m\n\u001b[1;32m--> 137\u001b[1;33m             \u001b[0mtiming\u001b[0m \u001b[1;33m=\u001b[0m \u001b[0mself\u001b[0m\u001b[1;33m.\u001b[0m\u001b[0minner\u001b[0m\u001b[1;33m(\u001b[0m\u001b[0mit\u001b[0m\u001b[1;33m,\u001b[0m \u001b[0mself\u001b[0m\u001b[1;33m.\u001b[0m\u001b[0mtimer\u001b[0m\u001b[1;33m)\u001b[0m\u001b[1;33m\u001b[0m\u001b[0m\n\u001b[0m\u001b[0;32m    138\u001b[0m         \u001b[1;32mfinally\u001b[0m\u001b[1;33m:\u001b[0m\u001b[1;33m\u001b[0m\u001b[0m\n\u001b[0;32m    139\u001b[0m             \u001b[1;32mif\u001b[0m \u001b[0mgcold\u001b[0m\u001b[1;33m:\u001b[0m\u001b[1;33m\u001b[0m\u001b[0m\n",
      "\u001b[1;32m<magic-timeit>\u001b[0m in \u001b[0;36minner\u001b[1;34m(_it, _timer)\u001b[0m\n",
      "\u001b[1;32m/home/kyle/Dropbox/Git/radd/radd/models.py\u001b[0m in \u001b[0;36msimulate_dpm\u001b[1;34m(self, p, analyze)\u001b[0m\n\u001b[0;32m    229\u001b[0m         \u001b[0mdx\u001b[0m \u001b[1;33m=\u001b[0m \u001b[0mself\u001b[0m\u001b[1;33m.\u001b[0m\u001b[0msteps\u001b[0m\u001b[1;33m[\u001b[0m\u001b[1;36m0\u001b[0m\u001b[1;33m]\u001b[0m\u001b[1;33m\u001b[0m\u001b[0m\n\u001b[0;32m    230\u001b[0m         \u001b[0mDVg\u001b[0m \u001b[1;33m=\u001b[0m \u001b[0mxtb\u001b[0m\u001b[1;33m[\u001b[0m\u001b[1;33m:\u001b[0m\u001b[1;33m,\u001b[0m \u001b[0mna\u001b[0m\u001b[1;33m]\u001b[0m \u001b[1;33m*\u001b[0m \u001b[0mcsum\u001b[0m\u001b[1;33m(\u001b[0m\u001b[0mnp\u001b[0m\u001b[1;33m.\u001b[0m\u001b[0mwhere\u001b[0m\u001b[1;33m(\u001b[0m\u001b[1;33m(\u001b[0m\u001b[0mrs\u001b[0m\u001b[1;33m(\u001b[0m\u001b[1;33m(\u001b[0m\u001b[0mnl\u001b[0m\u001b[1;33m,\u001b[0m \u001b[0mntot\u001b[0m\u001b[1;33m,\u001b[0m \u001b[0mTg\u001b[0m\u001b[1;33m.\u001b[0m\u001b[0mmax\u001b[0m\u001b[1;33m(\u001b[0m\u001b[1;33m)\u001b[0m\u001b[1;33m)\u001b[0m\u001b[1;33m)\u001b[0m\u001b[1;33m.\u001b[0m\u001b[0mT\u001b[0m \u001b[1;33m<\u001b[0m \u001b[0mPg\u001b[0m\u001b[1;33m)\u001b[0m\u001b[1;33m,\u001b[0m \u001b[0mdx\u001b[0m\u001b[1;33m,\u001b[0m \u001b[1;33m-\u001b[0m\u001b[0mdx\u001b[0m\u001b[1;33m)\u001b[0m\u001b[1;33m.\u001b[0m\u001b[0mT\u001b[0m\u001b[1;33m,\u001b[0m \u001b[0maxis\u001b[0m\u001b[1;33m=\u001b[0m\u001b[1;36m2\u001b[0m\u001b[1;33m)\u001b[0m\u001b[1;33m\u001b[0m\u001b[0m\n\u001b[1;32m--> 231\u001b[1;33m         \u001b[0mdvg_ss\u001b[0m \u001b[1;33m=\u001b[0m \u001b[0mDVg\u001b[0m\u001b[1;33m[\u001b[0m\u001b[1;33m:\u001b[0m\u001b[1;33m,\u001b[0m \u001b[1;33m:\u001b[0m\u001b[0mnss\u001b[0m\u001b[1;33m,\u001b[0m \u001b[1;33m:\u001b[0m\u001b[1;33m]\u001b[0m\u001b[1;33m.\u001b[0m\u001b[0mreshape\u001b[0m\u001b[1;33m(\u001b[0m\u001b[0mnl\u001b[0m\u001b[1;33m,\u001b[0m \u001b[0mnssd\u001b[0m\u001b[1;33m,\u001b[0m \u001b[0mnss_per\u001b[0m\u001b[1;33m,\u001b[0m \u001b[0mDVg\u001b[0m\u001b[1;33m.\u001b[0m\u001b[0mshape\u001b[0m\u001b[1;33m[\u001b[0m\u001b[1;33m-\u001b[0m\u001b[1;36m1\u001b[0m\u001b[1;33m]\u001b[0m\u001b[1;33m)\u001b[0m\u001b[1;33m\u001b[0m\u001b[0m\n\u001b[0m\u001b[0;32m    232\u001b[0m         \u001b[1;31m# initialize stop-process (DVs) FROM value of go-process (DVg) at t=SSD\u001b[0m\u001b[1;33m\u001b[0m\u001b[1;33m\u001b[0m\u001b[0m\n\u001b[0;32m    233\u001b[0m         \u001b[0minit_ss\u001b[0m \u001b[1;33m=\u001b[0m \u001b[0mnp\u001b[0m\u001b[1;33m.\u001b[0m\u001b[0marray\u001b[0m\u001b[1;33m(\u001b[0m\u001b[1;33m[\u001b[0m\u001b[0mdvg_ss\u001b[0m\u001b[1;33m[\u001b[0m\u001b[0mi\u001b[0m\u001b[1;33m,\u001b[0m \u001b[0mssd_ix\u001b[0m\u001b[1;33m,\u001b[0m \u001b[1;33m:\u001b[0m\u001b[1;33m,\u001b[0m \u001b[0mix\u001b[0m\u001b[1;33m]\u001b[0m \u001b[1;32mfor\u001b[0m \u001b[0mi\u001b[0m\u001b[1;33m,\u001b[0m \u001b[0mix\u001b[0m \u001b[1;32min\u001b[0m \u001b[0menumerate\u001b[0m\u001b[1;33m(\u001b[0m\u001b[0mss_on\u001b[0m\u001b[1;33m)\u001b[0m\u001b[1;33m]\u001b[0m\u001b[1;33m)\u001b[0m\u001b[1;33m[\u001b[0m\u001b[1;33m:\u001b[0m\u001b[1;33m,\u001b[0m\u001b[1;33m:\u001b[0m\u001b[1;33m,\u001b[0m\u001b[1;33m:\u001b[0m\u001b[1;33m,\u001b[0m\u001b[0mna\u001b[0m\u001b[1;33m]\u001b[0m\u001b[1;33m\u001b[0m\u001b[0m\n",
      "\u001b[1;31mValueError\u001b[0m: total size of new array must be unchanged"
     ]
    }
   ],
   "source": [
    "%timeit m.opt.simulator.sim_fx(m.inits)"
   ]
  },
  {
   "cell_type": "code",
   "execution_count": 456,
   "metadata": {
    "collapsed": false
   },
   "outputs": [
    {
     "data": {
      "text/plain": [
       "0.024274366"
      ]
     },
     "execution_count": 456,
     "metadata": {},
     "output_type": "execute_result"
    }
   ],
   "source": [
    "m.opt.simulator.__cost_fx__(popt_flat)"
   ]
  },
  {
   "cell_type": "code",
   "execution_count": 425,
   "metadata": {
    "collapsed": false
   },
   "outputs": [],
   "source": [
    "finfo = m.fitDF.mean()"
   ]
  },
  {
   "cell_type": "code",
   "execution_count": 426,
   "metadata": {
    "collapsed": false
   },
   "outputs": [
    {
     "data": {
      "text/plain": [
       "{'AIC': nan,\n",
       " 'BIC': nan,\n",
       " 'a': nan,\n",
       " 'chi': nan,\n",
       " 'cnvrg': nan,\n",
       " 'df': nan,\n",
       " 'idx': 60.606557377049178,\n",
       " 'logp': nan,\n",
       " 'nfev': nan,\n",
       " 'nvary': nan,\n",
       " 'rchi': nan,\n",
       " 'ssv': nan,\n",
       " 'tr': nan,\n",
       " 'v_bsl': nan,\n",
       " 'v_pnl': nan,\n",
       " 'xb': nan}"
      ]
     },
     "execution_count": 426,
     "metadata": {},
     "output_type": "execute_result"
    }
   ],
   "source": [
    "finfo.to_dict()"
   ]
  },
  {
   "cell_type": "code",
   "execution_count": 427,
   "metadata": {
    "collapsed": true
   },
   "outputs": [],
   "source": [
    "finfo = m.opt.lmMinimizer.params.valuesdict()\n",
    "finfo['cnvrg'] = m.opt.lmMinimizer.success\n",
    "finfo['nfev'] = m.opt.lmMinimizer.nfev\n",
    "finfo['nvary'] = len(m.opt.lmMinimizer.var_names)\n",
    "finfo = pd.Series(finfo)\n",
    "# get model-predicted yhat vector\n",
    "yhat = np.mean([m.opt.simulator.sim_fx(p) for i in range(20)], axis=0)\n",
    "# un-vectorize all parameters except conditionals\n",
    "popt = theta.scalarize_params(finfo.to_dict(), exclude=list(m.pc_map))"
   ]
  },
  {
   "cell_type": "code",
   "execution_count": 428,
   "metadata": {
    "collapsed": true
   },
   "outputs": [],
   "source": [
    "m.assess_fit(finfo, popt, yhat)"
   ]
  },
  {
   "cell_type": "code",
   "execution_count": 430,
   "metadata": {
    "collapsed": false
   },
   "outputs": [
    {
     "data": {
      "text/plain": [
       "[<matplotlib.lines.Line2D at 0x7f9abeb37a90>]"
      ]
     },
     "execution_count": 430,
     "metadata": {},
     "output_type": "execute_result"
    },
    {
     "data": {
      "text/html": [
       "<img src='data:image/png;base64,iVBORw0KGgoAAAANSUhEUgAAA9oAAAK5CAYAAABAAFYHAAAABHNCSVQICAgIfAhkiAAAAAlwSFlz\n",
       "AAAWJQAAFiUBSVIk8AAAIABJREFUeJzs3Xl4lOW9//HPzGSyLyQh7JCwhoAIyiKI7MouAm0RW63d\n",
       "fq304FKwp7anttXuWrSCWtvT01p3waosgqKAgIIGjcqWhS2BAAmQfV9m5vcH9ZkZCCFhZvJkeb+u\n",
       "q5d872fu+/mmI17XN/dmcblcLgEAAAAAAL+wmp0AAAAAAADtCYU2AAAAAAB+RKENAAAAAIAfUWgD\n",
       "AAAAAOBHFNoAAAAAAPgRhTYAAAAAAH5EoQ0AAAAAgB9RaAMAAAAA4EcU2gAAAAAA+BGFNgAAAAAA\n",
       "fkShDQAAAACAH1Foe0hOTlZycrLZaeAK8f21XXx3bRvfX9vG99d28d21bXx/bRffXdvWUt8fhTYA\n",
       "AAAAAH7k90I7Pz9fo0aN0nPPPdfkPiUlJXr44Yc1depUjRgxQgsXLtTGjRv9nRoAAAAAAAEX5M/B\n",
       "Kisrdffdd6uioqLJfaqqqvTtb39bmZmZmjlzprp3767Nmzdr2bJlKioq0je+8Q1/pggAAAAAQED5\n",
       "bUb75MmTuv3227V3795m9fvXv/6l9PR0/fznP9eKFSt0//33680339TAgQP1pz/9SYWFhf5KEQAA\n",
       "AACAgPNLof3ss89q3rx5ysrK0rhx45rV9+WXX1Z8fLwWL15stIWHh+uuu+5SVVWVNmzY4I8UAQAA\n",
       "AABoEX4ptJ977jn16tVLL774oubNmyeXy9WkfidOnDD2dFssFq9n1113nSRpz549/kgRAAAAAIAW\n",
       "4Zc92r/+9a91/fXXy2Kx6OjRo03ud/z4cUlSnz59LnrWuXNnhYSEKDs72x8pAgAAAADQIvxSaI8f\n",
       "P/6K+hUXF0uSoqKiGnweGRmpsrKyK84LAAAAAICWZuo92nV1dZKk4ODgBp8HBwerpqamJVMCAAAA\n",
       "AMAnphbaoaGhktwF94Vqa2sVFhbWkikBAAAAAOATv96j3VwxMTGSdMnl4eXl5ercubNP70hOTm52\n",
       "n4kTJyoxMdGn98I8d9xxh9kp4Arx3bVtfH9tG99f28V317bx/bVdfHdtW3PqxMzMzGaPb2qhnZSU\n",
       "JEnKzc296NnZs2dVU1Ojvn37tnBWUn5+vvLz81v8vfCP1NRUs1PAFeK7a9v4/to2vr+2i++ubeP7\n",
       "a7v47tAYUwvt7t27q0ePHkpLS7vo2ccffyxJuuaaa3x6R3N++zBx4kTl5+crKipKKSkpPr0XAAAA\n",
       "ANC6pKenq6ysTF27dtWOHTsC9h5TC21Jmjdvnp555hm98MILuv322yWdXzL+zDPPKCwsTPPmzWux\n",
       "XBITE5Wfn6+UlBQ9//zzLfbellBQUqUX385QQWm1EjqFnf9fbLi6xIapS2y44mNCZbOZumUfAAAA\n",
       "AALqjjvuUGpqasC3Crdoob1q1SpZLBYtXbrUaPve976nTZs26be//a1SU1PVu3dvbd68Wbm5uXrw\n",
       "wQcVGxvbkim2Sx/tP62Vr36mssqGD52TJKtFiosJMwrvhFjvQjyhU5hCQ0z/vQwAAAAAtHoBqZws\n",
       "FkuD7U899ZSsVqtXoR0ZGamXX35Zjz32mLZt26adO3eqX79+euyxxzRr1qxApNdh1NQ59I91+7Vx\n",
       "V/ZlP+t0SeeKq3SuuEoHjxU2+JnoiGAleBTiXf5TiCd0Oh9HRwRf8rsHAAAAgI7C74X2ggULtGDB\n",
       "ggafZWRkNNgeFxen3/zmN/5OpUPLOV2qR1/4RDl53ie6x0aFqN7hbHR2+1JKK2pVWlGrI7klDT4P\n",
       "CbadL7z/MwNuFOL/Kczjo1meDgAAAKD9Yy1wO+NyubRxV7b+sW6/auudXs9untBP35ozRMF2myqr\n",
       "63S2uEpni6p0tqhSZ4qqdKao0ogLSqvlcjXv3TW1Dp3IL9eJ/PIGn1utFnWOCTWWpDf0zxC77Up/\n",
       "dAAAAABoFSi025HSilqtfPUzfXwgz6s9OiJY9y6+RmOGdDPawkPtSuxmV2K36AbHqnc4de7LQrz4\n",
       "P4V44flC/ExRpc4WV6nugkL+cpxO138K+ioduMRnYiKDvfeG/2dpepfYMHWJC1dkmJ3l6QAAAABa\n",
       "NQrtdmLf4XNa8dKnKiip9mofPrCzfnTbtYqPCWvWeEE2q7rFR6hbfESDz10ul4rLa9yFdwP/LK9q\n",
       "/vL0kvJalZTX6vCJ4gafh4XY1LmTdyHu+c+46FBZrRTiAAAAAMxDod3G1TuceumdDL229ZDXUm+b\n",
       "1aLbZ6Vo4eQBASk8LRaLYqNCFRsVqkF9Gj4ZvrK6zmsG/MIZ8cIrWJ5eVePQifwyncgva/B5z4RI\n",
       "3XPrCA3pG9/cHwkAAAAA/IJCuw3LK6jQn178VJk5RV7t3eMjdP/tIy9ZALeU8FC7Ervbldi94eXp\n",
       "dfVOFZScL7zPFFb9Z8945fm46Pyy9XpH85annzxbrgef2aX7bx+lccO6++PHAAAAAIBmodBuo7an\n",
       "5erpf3+hyup6r/bJI3tpycKrFR5qv6hPaXWZah116hwR11JpNsoe1PjydKfTpZLyGq/C2/vgtkpV\n",
       "XPDzS1JtvVN/+Feqvr/gas0Z3zfQPwYAAAAAeKHQbmOqaur11zf2asueE17tYSE2LfnKcE0Z2bvB\n",
       "fp+fPqg/fvC0nE6n5iZP0zeGL5DV0rqv2rJaLYqNDlVsdKiSExv+TEXV+dPTzxRVatOubH2Sni/p\n",
       "/L3gz7y+VwUlVbpjVgoHqAEAAABoMRTabcjhE8V69IVPdOpchVf7wN6d9OPbR6l754ZnhuudDv39\n",
       "05fkcDokSesz31NZTYV+MPobslnb9nVaEWF2RYTZldQ9WiOTu+gvr+/VOx/lGM/XbDmkgpJq3b1o\n",
       "hIK4wxsAAABAC6DQbgOcTpfW7jii5zYeVL3DfXqYxSItnDxA35iZInvQpYvI7cd260xFgVfb+9m7\n",
       "VVlXpXvGfUfBtouXmbdFNptV//XV4YqPCdNL72QY7Vs/OaHishr95JujGlxSDwAAAAD+xBRfK1dU\n",
       "Wq1f/e9u/WP9Aa8iOy46RL/+/vX61tyhjRbZ9Y56vX5wU4PPUk9+rj/ufErVddUNPm+LLBaLbpue\n",
       "rKVfG+F12npa5hn9z18+VFFZ+/lZAQAAALROFNqt2Cfp+bpnxfv6LOusV/uolK5auXyKhg9KuOwY\n",
       "247t1tnKQiMe3i1FQVb3QoZ9+Zn69ftPqLymoqHubdaMsYn6+bfHKCTYvTT+cG6Jfrxyp06dLTcx\n",
       "MwAAAADtHYV2K1RX79Df1+7XQ3//SMXlNUa7Pciq788fpl989zrFRIZcfhxHnddsdlhQqO4d+139\n",
       "dOJ/KSTI3f9QYbZ+uXWFCquK/fuDmGz0kG763ZLxio4INtryCyv141U7lXW8qJGeAAAAAHDlKLRb\n",
       "mdwzZbp/5U6t3XHEq71310ituHeibp7Qr8knaG89uksFVe6CcvagqYoMidCwroP1y8n3KTLYfXja\n",
       "idLT+uWWFcovP9vQUG3WoD6xevTuCeoWH260lVbU6md/+VB7DuaZmBkAAACA9opCu5VwuVza/HGO\n",
       "7nt8u46eLPF6NmNsoh67b5L69ohp8ni1jjq9nu6ezQ63h2lO8lQjHhCfpF9N+ZFiQ91j5lec0y+2\n",
       "rNDx4pM+/CStT4+ESD1y9wQN6OX+WWtqHfrNP1O9TigHAAAAAH+g0G4Fyqvq9Mjzn2jV6s9VU+sw\n",
       "2iPC7HrgztFa+rURCg1u3gHx7x3ZqaIqd8E+Z9BUrxlsSerTqacenrZcXSM6G21F1SX65bbHdKjg\n",
       "2BX+NK1TbFSofvfDG3Rtchejzel06ck1n+vldzLkcrka6Q0AAAAATUehbbL0Y4W6d8U2ffDFKa/2\n",
       "of3itXL5ZI2/ukezx6ytr9Wb6e8YcYQ9THMGTWvws10jE/TwtPvVO8b9noraSj38/hPal5/RYJ+2\n",
       "KiwkSA9+9zpNHdXbq/2lzZl6cs0XcjicJmUGAAAAoD2h0DaJw+nSK+9m6oGnP9CZoiqj3WqRvj5j\n",
       "sH67ZLy6xIY3MsKlbT6yU8XVpUZ88+CbFB4cdsnPx4bF6KEpyzQwLsloq6mv0e93PKXU3M+vKIfW\n",
       "Kshm1X2Lr9HXpg30at/8cY5++2yqqmvqTcoMAAAAQHtBoW2Cs0VV+p+/fKgX386Q0+lespwQG6bf\n",
       "/fAG3TY9WTZr0w48u1B1fY3WesxmRwZHaObAyZftFxkSoQcn36thXZONtnpnvVbs+pveP7b7inJp\n",
       "rSwWi745e4juWni1PM+V23MwXz9/ZpdKPE56BwAAAIDmotBuYbv3ndI9K7bpwNECr/bxw3to5bLJ\n",
       "Gtov3qfxNx/eoZKaMiOeN/gmhdsvPZvtKdQeqgcm/JfG9BxhtLlcLj2d+pw2Zm31Ka/WaM74vvrp\n",
       "naMVHOT+a5B5vEj/vWqn8gra173iAAAAAFoOhXYLqa6t11OvfaHfPbtH5VV1RntIsE13Lxqhn9wx\n",
       "SpHhwY2M0IR31FVrbcZmI44KidTMAZOaNYbdZtePrv+eJieN82p/9rM1Wr1/fbs7NGzcsB769V3X\n",
       "KzLMbrSdOlehH6/aqcO57etecQAAAAAtg0K7BRw7VaJlf96ht3dne7X36xGjx++bpOnXJTb5buzG\n",
       "vH14u8pqyo34lsE3KdQe2uxxbFab7hpzu2YPmurV/tqBjfrnZ6vldLWvQ8OG9I3XI3dPUEKse+a/\n",
       "uKxGP3v6A6VlnjExMwAAAABtEYV2ALlcLm344KiWP7FDJ/LLvJ7Nm9hPf7p3gnp3jfLLuyrrqrQu\n",
       "410jjgmJ0vRmzmZ7slqsunPEV7Xoqpu92t8+9L6e/vg5OZyOS/Rsm3p3jdKjd09Q3x7RRltVjUMP\n",
       "//0jbf3kuImZAQAAAGhrKLQDpKS8Rr/5R6r++sY+1dW7Z4BjIoP1y++N1f+7ZZjsQTa/ve/tQ++r\n",
       "vNa9r/iWlBkKDQrxaUyLxaKvDp2tb1+zyKt9R87HWvHh31TrqLtEz7YpPiZMv//hDbp6gPtecYfT\n",
       "pcdf/kxrtmS1u2XzAAAAAAKDQjsAvjh0Vves2KbUg3le7SMGJWjl8ikaldLVr++rrK3Seo/Z7E6h\n",
       "0Zref4Lfxp81aIqWXvctWS3uf10+ObVXv9/xpKrqqv32ntYgIsyuX/2/cZp4TU+v9uc2puuvb+yT\n",
       "w0mxDQAAAKBxFNp+VO9w6l9vHdSDf92lwlL3FVFBNou+PXeoHvp/4xQX3fw905ez8dBWVdS57+Ke\n",
       "nzJDwUG+Hax2oYlJ1+n+8d+X3RpktB04k6WH3/+z177w9sAeZNXyr4/UgskDvNrf+vCY/vjcHtXU\n",
       "ta9l8wAAAAD8i0LbT06fq9BPntyp17YekucK4+6dI/TI3RO0cMoAWa/wbuzGlNdWaEPmFiOODYvR\n",
       "jX6czfY0qudw/XTiUq8l6UcKc/TLrY+psLJ9ndBttVr0nZuH6nu3XOV11/bufaf14DO7VFZZa15y\n",
       "AAAAAFo1Cm0/eP/TE7r3sfeVddy72Jw6qrf+/KNJGtg7NmDvfitzqyo9ZrMXpMxUsM3eSA/fXNU1\n",
       "Wb+YfJ+igiOMttzS03pw65+UV9b+Tui+ZWJ//fj2UQqyuf+qpGcX6idP7tSZokoTMwMAAADQWlFo\n",
       "+6Cyuk6Pv5ymFS+lqaqm3mgPCwnS8m+M1I9uu1bhoYErestrKrQxa6sRx4fFalq/8QF735cGxCfp\n",
       "oanLFRsWY7SdrSjQg1tXKKc4N+Dvb2kTRvTUw98fp4hQ97L5E/nl+vHKnTp2qsTEzAAAAAC0RhTa\n",
       "VyjreJHue3y7tn5ywqs9uU+sVi6frMnX9gp4Dusz31NVvfswsoVDZskewNlsT71iuuvX036srpEJ\n",
       "RltJdal+tfUxZZ072iI5tKRhAzrrD0snKD7Gvce+sLRaDzz1gb44dNbEzAAAAAC0NhTazeR0uvT6\n",
       "tkP671U7dfqc+zoti0X62rSB+sPSG9QtPqKREfyjtKZcmw5tM+KE8DhN6Tsu4O/11CUiXr+eulx9\n",
       "YtwndFfUVenX7z+hvXnpLZpLS0jqHq1H756oPt3cd59XVtfrV/+7Wzs+a38z+QAAAACuDIV2MxSW\n",
       "VuuX/7tb/9xw0Ouap7joUP36B9frm7OHeO3lDaT1Ge+qut59svnCIbMUZAtqpEdgdAqL0a+m/kiD\n",
       "4vsZbTWOWv1+51P66ERai+cTaAmxYfrjf92gof3ijbZ6h0uPvvCp3tx+2MTMAAAAALQWFNpNtOdg\n",
       "nu7+0zZ9nuW9TPi6od20cvlkDR+YcIme/ldSXaq3D71vxF0i4jWphWezPUUGR+jnk+/R8G4pRpvD\n",
       "6dDju/+urUd3mZZXoESGB+vh74/T+Kt7eLX/37oD+vva/XJy1zYAAADQoVFoX0ZdvUP/++Y+Pfx/\n",
       "H6u0wn2lkz3IqrsWXq3/+fYYxUSGNDKC/63NeFc1DncuXxkyW0FWW4vmcKHQoBD99w1LNLbXtUab\n",
       "y+XSM3ue14bM90zMLDCC7Tb9+I5RmntDX6/2tTuO6NEXPlFdPXdtAwAAAB0VhXYjTuSXafkTO7Ru\n",
       "p/fhXn26Remx+yZpzvi+slj8fzd2Y4qrSrT58HYj7hqZoIlJ17VoDpdit9l137jvamrf673an/v8\n",
       "33pl31q5XO1rptdmtej784fp23OHeLV/8MUp/fJvH6m8qs6kzAAAAACYiUK7AS6XS+98lK37Ht+u\n",
       "Y6dKvZ7Nuj5Jj903SUndo03J7c2Mzap1uAu4rw2dI5vJs9merFarfjD6ds1NvtGr/fWDb+sfaa/K\n",
       "6XKalFlgWCwWLZwyUMu+fq1sVvcvXfYdOaefPvWBCkqqGukNAAAAoD2i0G7AifwyPbnmC9XWuZf/\n",
       "RobZ9bNvjdEPvzJcIXZzCtvCqmK9e3iHEXeP6qLxfUaZkktjLBaL7hi+UIuHzfNqf+fwdj358b9U\n",
       "72x/y6qnjOytX35vrMJC3P9uZJ8u1f0rdyonr7SRngAAAADaGwrtBpSU13rFV/WP16r7p2jcsO4m\n",
       "ZXTem+nvqM5Zb8StbTbbk8Vi0cIhs/TdaxfLIvdM7wc5qfrTh39VbX1tI73bpmuSu+j3P7xBsVHu\n",
       "Pfvniqv0kyc/0IGjBSZmBgAAAKAlUWg3wmq16PaZg/Wbu8arc6cwU3MpqCzSe0c+MOKe0d10fe/W\n",
       "N5t9oRkDJ+nusd+S1eL+Vy3t1D79bseTqqxrf8uq+/fqpEfvmaieCZFGW0VVnR786y59uPeUiZkB\n",
       "AAAAaCkU2pfQ5T/3Jd96U7LX3luzvHHwbdVfMJtttbaNr++GxDH68Q13yW6zG20Hzx7Sw9v+rNLq\n",
       "MhMzC4yuceF65O4JGpwYa7TV1Tv1x+f2aMMHRxvpCQAAAKA9aBuVWgvrFBWiJ5ZP0eCkOLNTkSSd\n",
       "qyjUlmMfGnHv6O4a2/vaRnq0PiN7DNP/TFyqsKBQo+1o0XH9cutjKqgsMjGzwIiOCNav77pe1w3t\n",
       "ZrS5XNJf39inf711sN2dwA4AAADAjUK7Ab27RikyzH75D7aQ1w9uksPjALGvXTXXayl2WzGkyyD9\n",
       "csp9igpxL6s+WZanB7f8SafLzpiYWWCEBgfpp3eO1sxxSV7tr209pMdfTlNdffs6gR0AAADAeW2v\n",
       "WutgzpSf07Zju4w4MaanxvQaYWJGvukXl6iHpy5XfJh7WfW5ykL9YsuflF2Ua2JmgWGzWfXDr1yt\n",
       "22cO9mrf9mmuHv6/j1RZzV3bAAAAQHtDod3K/fvgJjk87p5uq7PZnnpGd9PD05are2QXo62kpky/\n",
       "2vaYMs4eMTGzwLBYLLr1pmTde+sIWT32+3+edVY/ffpDFZVWm5gdAAAAAH9r2xVbO5dXflbbsz8y\n",
       "4r6demt0z+EmZuQ/CRHxemjaciV26mW0VdZV6Tfbn9Dnpw+YmFng3DgmUQ9+5zqFBLuvZDt6skT3\n",
       "r9qp3DPt71A4AAAAoKOi0G7F/n1go5wXzGZbLOafgO4vnUKj9aspP1Jy5/5GW62jTn/84C/adfxT\n",
       "EzMLnFEpXfW7JeMVExlstJ0prNR/r/pAGTmFJmYGAAAAwF8otFupU2X52pHzsRH3j03UyB7DTMwo\n",
       "MCKCw/XzSfdoRLchRpvD6dATu//P697w9mRQn1g9cvcEdY+PMNrKKmv1P3/ZpY/3nzYxMwAAAAD+\n",
       "QKHdSv37wEavK6AWDWtfs9meQoKC9d83LNG43iONNpdc+tsnL2pt+mYTMwucHp0j9cjdEzSgdyej\n",
       "rbbOod89m6q3d2eblhcAAAAA31Fot0K5paf1wfE9RjwwLkkjug01MaPAC7IF6d6x39G0fjd4tb+4\n",
       "9w29tPfNdnnvdKeoEP1uyXiNHOw+FM7pkp567Qu9+HZGu/yZAQAAgI6AQrsVeu2i2eyb2+1stier\n",
       "1arvj/q65g2e7tX+Zvo7+vunL8vpbH/3ToeFBOnn37lON43p49X+yruZWrX6czkc7e9nBgAAANo7\n",
       "Cu1W5kTJKe32OAgsuXN/Xd01xcSMWpbFYtHtwxfo61fP92p/98hOrfz4n6p31JuUWeAE2ay6e9EI\n",
       "3XrTIK/2d1OP6zf/TFV1Tfv7mQEAAID2jEK7lVlz4C255DGb3c5OGm+q+Skz9P9Gfl0WuX/2Xcc/\n",
       "0aMfPqOa+loTMwsMi8Wi22em6IdfHS6Pq7b1SXq+fvaXD1VcVmNecgAAAACahUK7FckpztVHJ9KM\n",
       "OCVhoK7qkmxiRua6acAE3TPu27JZ3P+afnb6gH63Y5Uqa6tMzCxwZo1L0k+/NUbBQe6f+dCJYv33\n",
       "kzt1+lyFiZkBAAAAaCoK7VZkzYG3vOJbO+hstqfxfUbrxzcskd1mN9rSzx7WQ9seV0l1qYmZBc7Y\n",
       "q7rrt0vGKyrc/TOfPlehH6/aoUMnikzMDAAAAEBT+KXQdjgcevbZZzVnzhwNHz5cN954o55++mnV\n",
       "1zdtb2lGRobuuusujR49WqNHj9add96pXbt2+SO1NuNY0Qml5n5uxEO7DNKQLoMa6dFxXNvjKv18\n",
       "0t0Ks4cabceKT+gXW1foXEWhiZkFzuCkOD1y9wR1iQ0z2krKz9+1XVDSPmfzAQAAgPbCL4X2Qw89\n",
       "pD/84Q+Ki4vTnXfeqW7dumnlypVavnz5ZfumpqZq8eLF2rFjh8aOHauFCxfq7Nmz+u53v6uXXnrJ\n",
       "H+m1CWv2b/CKF10116RMWqeUhIH61ZRlig6JNNpOl53Rg1v/pFOleSZmFji9ukTp0Xsmql+PGKOt\n",
       "qqZe7+05bmJWAAAAAC7H50I7LS1Nq1ev1qxZs/T8889r2bJleuGFFzR//nxt3rxZ27dvv2Rfp9Op\n",
       "n/3sZ6qpqdETTzyhVatW6ac//anefPNNjRo1Sr///e91/Hj7LyqOFubok1N7jfjqrilKSRhoYkat\n",
       "U9/Y3np46nLFh8cabQWVRfrF1hU6Wtg+/z2Jiw7V7/9rvOKiQ4y2jGyWjwMAAACtmc+F9osvviiL\n",
       "xaKlS5d6tS9btkyStGbNmkv23bdvn3JzczVhwgTddNNNRntwcLCWLVumuro6vfDCC76m2OqtZja7\n",
       "yXpEd9Ovp96v7lFdjLbSmnI99P7jSj97yMTMAic81K6h/TobcUZ2oZxOVyM9AAAAAJjJ50L7008/\n",
       "VWxsrPr37+/V3qVLFyUlJWnPnj2X7JubmytJuvrqqy96lpycbIzfnh0qOKa00/uNeES3IRrUuZ+J\n",
       "GbV+nSPi9PDU5erbqbfRVlVXrd9sX6W0U/sb6dl2DU5yz+KXV9Xp5NlyE7MBAAAA0BifCu3a2lrl\n",
       "5eWpT58+DT7v2bOnSktLVVTU8FLX4OBgSVJdXd1Fz8rKyiRJp06d8iXFVu/ivdk3m5RJ2xITGq1f\n",
       "TvmRUhIGGG11jjo9+sFfdOBMlomZBUZKUpxXnJHdPg+BAwAAANoDnwrtkpISSVJUVFSDz79sLy9v\n",
       "ePZt6NChkqStW7fK6XR6PduyZYskd8HdHmWeO6LP8w4a8bXdr9KA+CTzEmpjwoPD9LOJd+ua7lcZ\n",
       "bQ6XU/9MWy2ny9lIz7anb48YBdttRpxOoQ0AAAC0Wj4V2l9e3/XlzPSFvmyvqalp8HmPHj00Y8YM\n",
       "HTp0SPfdd5+ys7NVXl6u9evX6/HHH1dYWFiD/doL9mb7LiQoWD8e/wON6uHefnC85KR2HW9fWw6C\n",
       "bFYN6tPJiDNyKLQBAACA1irIl84hIedPQm5o6bd0fmm5pEYL5t/85jcqLi7Wu+++q82bN0uS7Ha7\n",
       "HnjgAb3yyis6ffq0Lykae71bm/Szh7QvP8OIR/Ucrn5xiSZm1HYF2YL0nZG36vO8g6p3nv/lz+r9\n",
       "6zW297UKstou07vtSEmK0/4jBZKkE/nlKqusVVR4w7/kAgAAAHBpqampTa4VMzMzmz2+T4V2VFSU\n",
       "rFbrJZd3f9l+qaXlXz7717/+pd27d+vAgQOKjIzUlClT1LVrVz355JOKj4/3JcVW66LZ7KFzTMqk\n",
       "fegcHqfpAyZqY9ZWSVJe+Vm9f2y3bux/g8mZ+c/gC/ZpZ+YUaVRKV5OyAQAAAHApPhXadrtdPXr0\n",
       "ME4Pv1Bubq7i4uIUHR192bHGjRuncePGGfGpU6dUVFSka6+91pcUm/XbhzvuuEOpqak+va8pDpzJ\n",
       "8jqwa0yvEUqK7d1IDzTFgpQZ2nL0Q9XUn9+q8O8DGzUx6ToF2+wmZ+YfyX1iveL07EIKbQAAAOAK\n",
       "jBkzRs8//3zAxvf5eq+RI0fq3LlzysnJ8Wo/c+aMsrOzNWLEiEv2ra+v10033aR77rnnomdfLiOf\n",
       "MGGCrym2Ki6Xq4HZbPZm+0NMaLTmDJpqxAVVRXr38A4TM/KvmMgQ9UyINGJOHgcAAABaJ58L7fnz\n",
       "58vlcumxxx6Ty+Uy2lesWCGLxaJFixZdsm9QUJC6d++uHTt26MSJE0b78ePH9cwzzyghIUELFizw\n",
       "NcVWZf+ZTKWfPWTEY3tfqz6depqYUftyc/KNiggON+I30t9WVV21iRn5l+d92pnHi+RwtK/T1QEA\n",
       "AID2wKel49L5Jd+zZ8/Wpk2bdOutt+q6665TWlqa0tLSNHPmTE2aNMn47KpVq2SxWLR06VKj7Sc/\n",
       "+YkWL17gW0aVAAAgAElEQVSsRYsWac6cOaqrq9PGjRtVW1urP//5z8aBa+2By+XS6n3rjdgii77G\n",
       "3my/iggO1y2Dp+ulvW9KkkpryrUxa6u+MnS2yZn5R0pSnLbsOf9LqZpah46dLtWAXp0u0wsAAABA\n",
       "S/J5RluSHn30Ud1zzz0qLi7Wc889p4KCAt1777165JFHvD731FNP6emnn/ZqGzp0qF566SWlpKRo\n",
       "/fr1eu+99zR27Fi9+uqrGjt2rD/SazX25qcrs+CoEV/fZ6R6x/QwMaP2aebAyYoJdZ8LsC7zXZXX\n",
       "VJiYkf9ceCAay8cBAACA1sfnGW1JstlsWrJkiZYsWdLo5zIyMhpsHzZsmP7xj3/4I5VW66LZbItF\n",
       "X2U2OyBCg0L0lSGz9I+0VyVJVXXVWpuxWd8Y3va3IfTuEqWI0CBVVJ+/xiw9u1Bzb+hnclYAAAAA\n",
       "PPllRhuX99npAzpUmG3EN/QZrZ7R3cxLqJ2b1m+8EsLds7+bDm1TUVWJiRn5h9VqUbLHrDYz2gAA\n",
       "AEDrQ6HdAlwul9Z4nDRutViZzQ4wu82ur13lPs291lGn1w9uMjEj/0nxKLTPFFWpoKTKxGwAAAAA\n",
       "XIhCuwV8emqfjhS5rz+bkDhG3aO6mJhRxzAhcYx6RrlXDbx39AOdqSgwMSP/SEm8cJ92kUmZAAAA\n",
       "AGgIhXaANTSb3V5OwG7tbFabbh12sxE7nA69tv8tEzPyj4F9OslqccfpLB8HAAAAWhUK7QDbc/IL\n",
       "HSt23xE+OWmsukUmmJhRxzKm1wj1je1txNtzPlJu6WkTM/JdeKhdSd1jjJh92gAAAEDrQqEdQE6X\n",
       "02s222axaiGz2S3KarHqtmG3GPH50983NNKjbRicFGv8+cjJYtXWOUzMBgAAAIAnCu0ASs39XDkl\n",
       "J414St/r1SUi3sSMOqbh3YZocOf+RvxRbpqOFuY00qP18zwQrd7h0uHcYhOzAQAAAOCJQjtALprN\n",
       "ttq0cMgsEzPquCwWi267+havtlf2rTMpG/8YnHThgWgsHwcAAABaCwrtAPnoRJpOeOwFntZ3vDpH\n",
       "xDXSA4GUkjBQI7oNMeLP8w7q4JlDJmbkm65x4YqNCjFiDkQDAAAAWg8K7QBwOp1a43G6dZA1SAuG\n",
       "zDQxI0jS4mHzvOJX9q2Vy+UyKRvfWCwWr1ntjOyiNvuzAAAAAO0NhXYA7DrxiU6W5Rnxjf1vUHx4\n",
       "bCM90BL6xSVqbK9rjTjj3BF9nnfAxIx847lPu7i8RnkFlSZmAwAAAOBLFNp+5nA6tOaAezbbbrNr\n",
       "fsoMEzOCp0XD5spicV9C/credXK6nCZmdOVSLtinzfJxAAAAoHWg0PazD3L26HTZGSO+qf8ExYV1\n",
       "MjEjeOoV3V2TEsca8bHiE0rN/dzEjK5c/14xCrK5/wpzIBoAAADQOlBo+5HD6dBrBzcacbDNrvmD\n",
       "p5uYERry1avmyGa1GfGr+9bL4Wx791Dbg2wa0CvGiJnRBgAAAFoHCm0/2pH9sfLLzxrx9AGT1Cks\n",
       "ppEeMEOXiHjd2O8GIz5ZlqedOakmZnTlPA9Ey8krVWV1nYnZAAAAAJAotP2m3unQvz1ms0Nswbpl\n",
       "8E0mZoTGLBwyS8E2uxGv2b9BdY62V6R67tN2uaTMnCITswEAAAAgUWj7zfZju3WmosCIZw6crJjQ\n",
       "aBMzQmNiw2I0a+AUIz5bWagtRz80MaMrM/iCA9HYpw0AAACYj0LbD+od9fr3wU1GHBoUopuZzW71\n",
       "bhk8XWH2UCP+98FNqq6vMTGj5ouLDlXXuHAjZp82AAAAYD4KbT/YemyXzlW6C5xZA6coOiTSxIzQ\n",
       "FJEhEZqX7P6FSEl1qd4+9L55CV0hz+XjmceL5HC6TMwGAAAAAIW2j+ocdXrj4NtGHBYUqpuTbzQx\n",
       "IzTH7EFTvX4psjb9HVXUVpqYUfN5Lh+vrK7XifwyE7MBAAAAQKHtoy1HP1RBlfsAqtmDpioyJMLE\n",
       "jNAcYfZQLUiZacQVdVVan/meiRk1X8oF+7RZPg4AAACYi0LbB7WOOr2R7p7NDreHaU7yVBMzwpW4\n",
       "acBExYfFGvFbWVtVUl1qYkbNk9gtSmEh7nvBORANAAAAMBeFtg/eO7JTRVUlRjw3eZoig5nNbmuC\n",
       "bXZ9ZehsI66pr9Eb6e+YmFHz2GxWDerj/kUBM9oAAACAuSi0r1BNfa3e9CjGIuxhmj2Q2ey2anLf\n",
       "ceoWmWDEmw/v0LmKtlOweu7TPn2uQsVlbev0dAAAAKA9odC+Qu8e2aFij+XFNw++SeHBYSZmBF8E\n",
       "WW1adNXNRlzvrNdrBzeamFHzXLhPOzOn7fySAAAAAGhvKLSvQHV9jdambzbiyOAIzRo4xcSM4A/X\n",
       "9xmpPjE9jfj9Y7t1qizfxIyaLjmRA9EAAACA1oJC+wpsPrxdJTXuK5TmDb5JYfZQEzOCP1gtVi0e\n",
       "Ns+InS6nVu/fYGJGTRcZZlefblFGnJFT1MinAQAAAAQShXYzVddVa23Gu0YcFRKpmQMmmZgR/Glk\n",
       "j2EaGN/XiHcd/0TZRbkmZtR0nsvHDx0vUl2908RsAAAAgI6LQruZ3j68XWU15UZ8y+DpCmU2u92w\n",
       "WCy6bdgtXm2v7l9nUjbNM9hj+XhtvVPHTpU08mkAAAAAgUKh3QyVdVVa5zGbHRMSpekDJpqYEQLh\n",
       "qq7JGtZ1sBF/emqfss4dNTGjphmcFOsVs08bAAAAMAeFdjNsytqm8toKI74lZYZCg0JMzAiBcuGs\n",
       "9sv71srlcpmUTdP0TIhUVLjdiCm0AQAAAHNQaDdRRW2lNmS+Z8SdQqM1vf8EEzNCIA2IT9KonsON\n",
       "+MCZLO3LzzAxo8uzWCxe92mnHyts9b8cAAAAANojCu0m2pi1VRV1VUa8IGWmgoOCTcwIgbb4qptl\n",
       "kcWI28KstueBaIWl1TpbXNXIpwEAAAAEAoV2E5TXVmhD1hYjjgvrpGn9bzAxI7SEPp16anziaCM+\n",
       "UpijPSe/MDGjy/Oc0ZakDJaPAwAAAC2OQrsJNmRuUVVdtREvSJmpYJu9kR5oLxYNnSObxf3X5NV9\n",
       "6+R0tt5rswb27iSr1T0Lzz5tAAAAoOVRaF9GWU25NmVtM+L48FhN7Xe9iRmhJXWL6qIp/cYb8YnS\n",
       "0/rg+B4TM2pcaHCQ+vWMMWJmtAEAAICWR6F9Gesz31NVvXs2e2HKLNmZze5QvjpktuzWICNes3+D\n",
       "6p0OEzNqnOc+7aOnSlVdU29iNgAAAEDHQ6HdiNLqMm069L4RJ4THaUrfceYlBFPEhXfSjIGTjTi/\n",
       "4py2Hd1lXkKXkZLoLrSdTpcOnSg2MRsAAACg46HQbsS6zPdUU19jxF8ZOltBtqBGeqC9mn/Bnemv\n",
       "HXxLtfW1JmZ0aRceiMY+bQAAAKBlUWhfQnF1qd7xmM3uGtFZE5PGmpcQTBUdEqm5ydOMuKiqRO8c\n",
       "3mFiRpeWEBumzjGhRkyhDQAAALQsCu1LWJe+WTUO94zlV4bOVpDVZmJGMNvcQTcqMjjCiN9Mf1uV\n",
       "da3znmrPWe3MnEI5na37/m8AAACgPaHQbkCdo17vHHHPVnaLTNCExDEmZoTWIDw4TPNTphtxWW2F\n",
       "3src0kgP83geiFZWWaeTZ8tNzAYAAADoWCi0G1BQWag6R50Rf3XoHNmYzYakGQMmKzbUfX3Whswt\n",
       "Kq1pfUXshfu0M3NYPg4AAAC0FArtBhRWlRh/7hHVVeP7jDIxG7QmIUHB+srQWUZcVV+ttenvmJhR\n",
       "w/r1jFGw3f3LofTsIhOzAQAAADoWCu0GuOTez8psNi40te94dYmIN+K3D29XYVXrukIryGbVwN6d\n",
       "jJgD0QAAAICWQ6HdiJ7R3XR975Fmp4FWJsgWpEVX3WzEdY46vX5gk4kZNcxzn/aJ/DKVV7bO68gA\n",
       "AACA9oZCuxFfGzpXViv/F+FiN/QZrV7R3Y14y9EPlF9+1sSMLjY4MdYrzshh+TgAAADQEqgiL6F3\n",
       "TA+N7X2N2WmglbJarbp1mHtW2+Fyas3+t0zM6GIXHoiWwfJxAAAAoEVQaF/C14bOkdXC/z24tDE9\n",
       "R6hfbB8j3pmTqhMlp0zMyFtMZIh6dHbf+80+bQAAAKBlUEk2IMIepjG9RpidBlo5i8Wi266+xYhd\n",
       "cunVfetNzOhinrPaWceL5HA4TcwGAAAA6BgotBvQJ6Yns9lokqu7pmhIwkAjTj35uQ4XZJuX0AU8\n",
       "D0SrrnUo+3SpidkAAAAAHQPVZAM4AA1NZbFYtHjYLV5tr+xbZ1I2F0thnzYAAADQ4vxSUTocDj37\n",
       "7LOaM2eOhg8frhtvvFFPP/206uvrm9Q/MzNTS5Ys0ZgxY3T11Vdr3rx5Wr16tT9SAwJucEJ/Xdv9\n",
       "KiPem5+uA2eyTMzIrXfXKIWHBhlxejYnjwMAAACB5pdC+6GHHtIf/vAHxcXF6c4771S3bt20cuVK\n",
       "LV++/LJ9MzIytHjxYu3cuVOTJk3S17/+dVVVVekXv/iFVqxY4Y/0gIBbPGyeV/zK3rVyuVwmZeNm\n",
       "tVo0ONE9q52ew4w2AAAAEGg+F9ppaWlavXq1Zs2apeeff17Lli3TCy+8oPnz52vz5s3avn17o/3/\n",
       "/Oc/q7q6WitXrtSjjz6qBx54QOvWrVNSUpL+8Y9/6OTJk76mCARcUmxvXd97pBFnFhzVZ6f3m5iR\n",
       "m+eBaGcKK1VQUmViNgAAAED753Oh/eKLL8pisWjp0qVe7cuWLZMkrVmzptH++/fvV3R0tKZOnWq0\n",
       "hYWFae7cuXI6ndq7d6+vKQItYtGwm70O0Xt53zo5Xeaf8p2SFOsVZ+SwfBwAAAAIJJ8L7U8//VSx\n",
       "sbHq37+/V3uXLl2UlJSkPXv2NNq/U6dOqqioUFlZmVd7Xl6eJCkuLq6hbkCr0yOqqyYljTXinOJc\n",
       "fXQizcSMzhvUJ1ZWizvmQDQAAAAgsHwqtGtra5WXl6c+ffo0+Lxnz54qLS1VUdGlZ9AWL14sh8Oh\n",
       "5cuX6/jx46qoqNBrr72mN998U0OHDtWYMWN8SRFoUV8dOltBVvfhY6/uWy+H02FiRlJ4qF2J3aON\n",
       "OJ1CGwAAAAiooMt/5NJKSkokSVFRUQ0+/7K9vLxcsbGxDX7m9ttvl81m029/+1tNnz7daB8/frwe\n",
       "f/xxWSyWBvsBrVFCRLxu6j9Bmw5tkySdLj+j7dkfaWq/8abmNTgpTsdOnb9D+0husWrrHAq220zN\n",
       "CQAAAGivfJrR/vL6ruDg4Aaff9leU1NzyTE+//xz/e1vf1NwcLAWLFigb37zmxowYIB2796tJ554\n",
       "wpf0AFMsGDJTITb334k1B95SraPOxIy879Oud7h0OLfYxGwAAACA9s2nGe2QkBBJUl1dw0VEbW2t\n",
       "pPOHmzWkvLxcP/jBDyRJb775prEEvb6+XsuXL9eLL76oAQMG6LbbbrviHJOTk6+4L3AlOoVGa/ag\n",
       "qXoj/W1JUkFlkd47slOzB029TM/A8Sy0JSkju0hD+sablA0AAABgrtTU1CbXipmZmc0e36cZ7aio\n",
       "KFmt1osOMvvSl+2XWlq+detWlZSU6I477vDa5x0UFKRf/OIXkqQ33njDlxQBU9w8+EZF2N2/YHrj\n",
       "4Nuqrqs2LZ+uceHqFBVixBncpw0AAAAEjE8z2na7XT169FBubm6Dz3NzcxUXF6fo6OgGn+fl5cli\n",
       "sahfv34XPYuPj1dsbKxOnTrlS4rN+u3DHXfcodTUVJ/eB0hSZHCE5g2erpf3rZUkldSUaeOhbVo4\n",
       "ZJYp+VgsFqUkxWn3vtOSzh+I5nK5OAMBAAAAHdKYMWP0/PPPB2x8n6/3GjlypM6dO6ecnByv9jNn\n",
       "zig7O1sjRoy4ZN/4+Hi5XC5lZ2df9Ky0tFTFxcVKSEjwNUXAFLMGTVFMiHs1x7qMd1VeW2FaPoMT\n",
       "3QcSFpfVKL+w0rRcAAAAgPbM50J7/vz5crlceuyxx+RyuYz2FStWyGKxaNGiRZfsO2XKFIWFhemF\n",
       "F17QiRMnjHan06nf//73kqS5c+f6miJgitCgEC0YMtOIK+uqtC7jXdPyGXzBPm2u+QIAAAACw6el\n",
       "45I0btw4zZ49W5s2bdKtt96q6667TmlpaUpLS9PMmTM1adIk47OrVq2SxWLR0qVLJUlxcXF68MEH\n",
       "9eCDD2r+/PmaMWOGoqOj9dFHHykzM1NjxozRN7/5TV9TBExzU/8JWp/5ngoqz98lvylrm2YPnKJO\n",
       "YTEtnsuAXp0UZLOo3nH+F2Lp2YWaMrJ3i+cBAAAAtHc+z2hL0qOPPqp77rlHxcXFeu6551RQUKB7\n",
       "771XjzzyiNfnnnrqKT399NNebQsXLtQ///lPXXPNNXrvvff00ksvqa6uTvfdd5/+/ve/y263+yNF\n",
       "wBR2m11fG+pelVHjqNXr/zmNvKUF223q36uTEWcwow0AAAAEhM8z2pJks9m0ZMkSLVmypNHPZWRk\n",
       "NNg+ZswYjRkzxh+pAK3OpKTrtDbjHZ0uOyNJevfITt2cfKMSIlr+eq2UpDhl5pyfXc85XarK6jqF\n",
       "h/LLLAAAAMCf/DKjDeDSbFabbr1qnhE7nA6tOfCWKbl47tN2uqSs40Wm5AEAAAC0ZxTaQAsY2/sa\n",
       "JXXqZcTbsz/SqdK8Fs/D8+RxSUrPptAGAAAA/I1CG2gBVotVi4fdYsQul0uv7t/Q4nnEx4SpS1y4\n",
       "EbNPGwAAAPA/Cm2ghVzTfaiSO/c34t0nPtWxohON9AiMlET38vGMnEI5na5GPg0AAACguSi0gRZi\n",
       "sVh027B5Xm2v7FvX4nmkJLmXj1dW1+tEflmL5wAAAAC0ZxTaQAsa0mWQhndLMeLPTu9XxtnDLZqD\n",
       "54Fo0vn7tAEAAAD4D4U20MI892pL0sv71srlarnl20ndoxUabDNiCm0AAADAvyi0gRbWPy5RY3qN\n",
       "MOL0s4f1RV56i73fZrNqUB/38nEORAMAAAD8i0IbMMHiq+bJIosRv9LCs9opHsvHT52rUEl5TYu9\n",
       "GwAAAGjvKLQBE/SK6a4JSWOM+GjRcaWe/LzF3n/hPm1mtQEAAAD/odAGTLJo6FzZrO690q/sWyen\n",
       "09ki7x6cGOsVZ+QUtch7AQAAgI6AQhswSZfIzprWb7wRnyzN086c1BZ5d2R4sHp3jTJiDkQDAAAA\n",
       "/IdCGzDRV4bMVrDNbsSrD2xQvaO+Rd7tOat96HiR6h0tM5sOAAAAtHcU2oCJYsNiNHPgZCM+W1Gg\n",
       "LUc/bJF3ex6IVlvv1NGTJS3yXgAAAKC9o9AGTHbL4OkKCwo14n8f3Kia+tqAv5cD0QAAAIDAoNAG\n",
       "TBYVEqmbB99oxMXVpXr70PsBf2/PhEhFhbuXrbNPGwAAAPAPCm2gFZgzaJqiQiKN+M2Md1RZWxXQ\n",
       "d1qtFiUnume1mdEGAAAA/INCG2gFwuyhWpAyw4graiu1PvO9gL/Xc5/2uZJqnS0KbHEPAAAAdAQU\n",
       "2kArMb3/RMWFdTLit7K2qLS6LKDvTGGfNgAAAOB3FNpAKxEcFKyvDp1txNX1NXoz/Z2AvnNg706y\n",
       "Wi1GnJ5DoQ0AAAD4ikIbaEUm971eXSMTjPidw9tVUFkUsPeFhgSpX49oI+ZANAAAAMB3FNpAKxJk\n",
       "tWnR0LlGXOes178PbAzoOz2v+Tp6skTVNfUBfR8AAADQ3lFoA63M+D6j1DumhxFvPbZLeWVnAvY+\n",
       "z33aTqdLh3KLA/YuAAAAoCOg0AZaGavVqsXD5hmx0+XU6v0bAva+wRyIBgAAAPgVhTbQCo3qcbUG\n",
       "xCUZ8YfHP1FOcW5A3pXQKUzxMaFGzD5tAAAAwDcU2kArZLFYdNvVtxixSy69um99wN7lOaudkV0o\n",
       "l8sVkHcBAAAAHQGFNtBKDes6WFd1STbiT07t1aGCYwF5l+c+7bLKOp08Wx6Q9wAAAAAdAYU20Ip5\n",
       "7tWWpFf2rQ3Ie1LYpw0AAAD4DYU20IoN6txPo3pcbcT78jN14EyW39/Tt0eMgoPc/znIyAnc3d0A\n",
       "AABAe0ehDbRytw67WRZZjHh9xrt+f4c9yKoBvTsZMQeiAQAAAFeOQhto5RI79dKonu5Z7bTT+3Wy\n",
       "NM/v7/FcPn48r0zlVXV+fwcAAADQEVBoA23A3ORpXvFbWVv9/o4L79POzGFWGwAAALgSFNpAGzC4\n",
       "8wD1j0004u3ZH6m0usy/70j0LrRZPg4AAABcGQptoA2wWCya4zGrXeeo0+YjO/36jk5RIereOcKI\n",
       "OXkcAAAAuDIU2kAbMbb3tYoPizXidw69r1qHf/dRe+7TzjpeJIfD6dfxAQAAgI6AQhtoI4KsNs0a\n",
       "NNmIS2rK9GHOHr++w3OfdlWNQzl5/l2eDgAAAHQEFNpAGzKt3w0KDQox4g1ZW+Ryufw2fkoS+7QB\n",
       "AAAAX1FoA21IRHC4pva93ohPlJzSvvwMv43fu2uUwkODjJh92gAAAEDzUWgDbcysQVNksViMeH3m\n",
       "e34b22a1KLmPex84M9oAAABA81FoA21M18gEjek5woi/yDuo48Un/Ta+5/Lx/MJKFZZW+21sAAAA\n",
       "oCOg0AbaoLkeV31J0sasrX4be/AF+7RZPg4AAAA0D4U20AYld+6vgfF9jXhnTqqKq0v9M3ZirDxW\n",
       "prN8HAAAAGgmCm2gjfKc1a5z1mvz4R1+GTc81K7EbtFGzIw2AAAA0DwU2kAbNabnCCWEu5d5bz68\n",
       "XbX1tX4Z23Of9uHcEtXWOfwyLgAAANARUGgDbZTNatOsQVONuLSmXDtyUv0ytuc+7XqHU0dyS/wy\n",
       "LgAAANARUGgDbdjUftcrLCjUiN/K2iKny+nzuCkXHIjGPm0AAACg6Si0gTYs3B6maf3GG/HJ0jx9\n",
       "kXfQ53G7xYcrJjLYiDNyKLQBAACApqLQBtq4WYOmyGpx/1XekLnF5zEtFosGJ7pntTOyC+VyuXwe\n",
       "FwAAAOgIKLSBNi4hIl5je11jxPvyM5RTnOvzuJ7Lx4vKapRfWOnzmAAAAEBHQKENtANzk2/0iv0x\n",
       "qz34gn3aXPMFAAAANA2FNtAODIhPUnLn/kb8wfE9Kqry7aTwAb07KchmMWIORAMAAACahkIbaCfm\n",
       "Jk8z/uxwOvTO4fd9Gi/EblP/np2MOCO7yKfxAAAAgI4iyB+DOBwOPf/881qzZo1yc3OVkJCghQsX\n",
       "6vvf/76Cgi79itTUVH3zm99sdGyLxaL09HR/pAm0a6N7DFfXiM7KrzgnSdp8eKcWpMxSSFDwZXpe\n",
       "2uCkOGUeP19gZ58uUWV1ncJD7X7JFwAAAGiv/FJoP/TQQ1q9erVGjx6tadOmKS0tTStXrlRmZqae\n",
       "eOKJS/br2bOnli5d2uCzvXv3aseOHRo9erQ/UgTaPavVqtmDpuqfn62WJJXXVmh79keaPmDiFY+Z\n",
       "khSntTuOSJKcLunQ8WINH5Tgl3wBAACA9srnQjstLU2rV6/WrFmz9PjjjxvtDzzwgNauXavt27dr\n",
       "0qRJDfa9VKFdXl6um2++WXFxcV5jAmjclL7j9Or+9aqsq5IkvZW1RTf2v8Hr+q/mGJwU6xWn5xRS\n",
       "aAMAAACX4fMe7RdffFEWi+WignnZsmWSpDVr1jR7zD/84Q/Ky8vTz3/+c8XHx/uaItBhhNpDdWP/\n",
       "CUZ8uuyM0k7tv+Lx4mPC1CU2zIg5EA0AAAC4PJ8L7U8//VSxsbHq37+/V3uXLl2UlJSkPXv2NGu8\n",
       "rKwsvf766xo1apRmz57ta3pAhzNr4GTZPGaw38ry7aovz2u+MrML5XS6fBoPAAAAaO98KrRra2uV\n",
       "l5enPn36NPi8Z8+eKi0tVVFR008rfuyxx+RyuXT//ff7khrQYcWHx2pc75FGfOBMlo4WHr/i8VI8\n",
       "Cu2K6nqdOFPmU34AAABAe+dToV1Scv6e3qioqAaff9leXl7epPFycnK0fft2jRo1SsOHD/clNaBD\n",
       "87zqS/JtVttzRluSMlg+DgAAADTKp0K7vr5ekhQc3PD1QV+219TUNGm8559/XpL0ve99z5e0gA6v\n",
       "X1yihiQMNOJdxz9RYWXxFY3Vt3u0QoJtRsw+bQAAAKBxPp06HhISIkmqq6tr8Hltba0kKSwsrMHn\n",
       "npxOp9566y116dLlkqeUX4nk5GS/jQW0JXOTp+ng2UOSJIfLqbcPv6+vXz2/2ePYbFYl94nV3sPn\n",
       "7+dmRhsAAABtXWpqapNrxczMzGaP79OMdlRUlKxWq8rKGt6z+WX7pZaWe0pLS1NRUZFmzJjhS0oA\n",
       "/uPaHsPULdJ9Fde7h3eouq76isbyXD5+8myFSsqbtkoFAAAA6Ih8mtG22+3q0aOHcnNzG3yem5ur\n",
       "uLg4RUdHX3as7du3y2KxaPr06b6kdJHm/PbhjjvuUGpqql/fD5jFarFqzqBp+r+0VyRJFXVVej/7\n",
       "I80cOLnZY6VcsE87M6dIY4Z280eaAAAAQIsbM2aMsXU5EHy+3mvkyJE6d+6ccnJyvNrPnDmj7Oxs\n",
       "jRgxoknjfPHFFwoKCuIQNMCPJvUdq4jgcCN+K2urnE5ns8dJToz1itmnDQAAAFyaz4X2/Pnz5XK5\n",
       "jGu5vrRixQpZLBYtWrSoSeNkZGRowIABstvtvqYE4D9Cg0I0vf9EI84vP6tPTu1t9jhR4cHq1SXS\n",
       "iDNyKLQBAACAS/G50B43bpxmz56tzZs369Zbb9WKFSv0jW98Q+vWrdPMmTO9DjZbtWqVnnzyyYvG\n",
       "KC4uVmlpqbp06eJrOgAuMGPgJNms7lPDr/SqL8/l41nHi1XvaP7MOAAAANAR+FxoS9Kjjz6qe+65\n",
       "R8XFxXruuedUUFCge++9V4888ojX55566ik9/fTTF/UvLi6WxWJp0qFpAJonLqyTxvcZZcTpZw/r\n",
       "cEF2s8fxPBCtts6hY6dK/JEeAAAA0O74dBjal2w2m5YsWaIlS5Y0+rmMjIwG25OSkpSenu6PVAA0\n",
       "YO6gadqR/bERb8jaovvGfbdZY1x4IFp6dqEG9o69xKcBAACAjssvM9oAWrek2N66qov7nsCPTqTp\n",
       "XEXz9ln3TIhUZJj7DIWM7CK/5QcAAAC0JxTaQAcxN3ma8Weny6lNh7Y1q7/VavFaPs7J4wAAAEDD\n",
       "KEFsLAEAACAASURBVLSBDmJE96HqGeW++/q9ox+oqq66WWMMTnIvFT9XXKWzRVV+yw8AAABoLyi0\n",
       "gQ7CarFqTvJUI66qq9a2Y7uaNcaF+7S55gsAAAC4GIU20IFMTLxOUcERRvxW1lY5nI4m9x/YO1ZW\n",
       "q8WIM1g+DgAAAFyEQhvoQIKDgjV9gPtu+7MVBdpz8osm9w8LCVLfHtFGzD5tAAAA4GIU2kAHM2PA\n",
       "RAVZ3Tf7bcjc0qz+KYnu5eNHT5aourbeb7kBAAAA7QGFNtDBdAqL0Q2Jo404q+Coss4dbXJ/z5PH\n",
       "HU6XDp8o9mt+AAAAQFtHoQ10QHMHTfOKN2Q1fVb7wgPRWD4OAAAAeKPQBjqgPp16ani3FCP+OPcz\n",
       "nakoaFLfhNgwxUWHGnFGdpHf8wMAAADaMgptoIOaM+hG488ul0sbs7Y2qZ/FYvGa1U7PLpTL5fJ7\n",
       "fgAAAEBbRaENdFDDu6WoV3R3I9569ENV1lY1qa/nPu2yylqdOlfh9/wAAACAtopCG+igLBaL5ia7\n",
       "92pX19doy9EPm9R3cFKsV5x+jH3aAAAAwJcotIEO7IbEMYoJiTLijYe2yuF0XLZf/54xsge5//OR\n",
       "kUOhDQAAAHyJQhvowIJtds0YOMmICyqL9HHuZ5ftZw+yaUCvTkacwcnjAAAAgIFCG+jgpvefKLs1\n",
       "yIjXZ77XpMPNPA9EO55fpvKquoDkBwAAALQ1FNpABxcdGqWJSWON+EhhjjLPHblsP88D0VwuKSuH\n",
       "a74AAAAAiUIbgKQ5g6Z6xRsyt1y2z0UHorF8HAAAAJBEoQ1AUq+Y7rqm+1Aj3nPyC+WVn220T2xU\n",
       "qLrHRxgx+7QBAACA8yi0AUiS5ibfaPzZJZc2Zm29bB/PWe3M44VyOC+/txsAgP/P3n2H11ldif7/\n",
       "nqLeu9W7ZHX3gnuRK2BqDCQkDCkTbkjPJDPJzJ3LbzKVJAS4zGTyyyQBQjPVHfcOtmzLktV7772X\n",
       "U977x5GPJR/JllE5srQ+z8Pz8J69X2kJrON3nb322kIIMdtJoi2EACDRN5ZQt0Dz9amyz+ke7Lnt\n",
       "PcMbovUNGKis75yy+IQQQgghhLhXSKIthABApVKxM3aT+XpAP8DxkvO3vWd4QzSQfdpCCCGEEEKA\n",
       "JNpCiGFWhSzB3d7VfH246BR6g37M+SHzXHGwu3k0mCTaQgghhBBCSKIthBjGRmPDtuj15uu2vg4+\n",
       "r0ofc75GrSI29OY+bWmIJoQQQgghhCTaQohbpEauwVZjY74+UHgcRRm7ydnwfdr1Lb20dfZPaXxC\n",
       "CCGEEELMdJJoCyFGcLFzZn3YSvN1WVsVeU1FY86/dZ92foWsagshhBBCiLlNEm0hhIUdsRtHXB8o\n",
       "ODHm3NgQD1Sqm9d55W1TFZYQQgghhBD3BEm0hRAWAlz8WByQZL6+WptFbVfDqHOdHGwInXezgZrs\n",
       "0xZCCCGEEHOdJNpCiFHdH7vZ/O8KCocKTo45d3j5eFFVOzq9YUpjE0IIIYQQYiaTRFsIMap4n2jC\n",
       "3YPN16fLP6droHvUufOHdR7XG4yUVHdMeXxCCCGEEELMVJJoCyFGpVKpRqxqDxp0HCs5N+rcuFsa\n",
       "osl52kIIIYQQYi6TRFsIMaaVwYvwdHA3X39adBqdQWcxz9/bCVcnW/O1JNpCCCGEEGIuk0RbCDEm\n",
       "rUbLtuj15uv2/k4uVF6xmKdSqUasaueXt9727G0hhBBCCCFmM0m0hRC3tTlyNXaam6vVBwtOjJpE\n",
       "D2+I1tY1QGNb37TEJ4QQQgghxEwjibYQ4racbZ3YEH6f+bqio4bsxgKLebJPWwghhBBCCBNJtIUQ\n",
       "d7QjZgMqVObrAwUnLOZEBbujUd+cI+dpCyGEEEKIuUoSbSHEHc1z8WVpYIr5+lpdNtWddSPm2Nlo\n",
       "iAxyM1/LirYQQgghhJirJNEWQozL/bGbRlwfKjhpMWf4Pu3y2g76BvRTHpcQQgghhBAzjSTaQohx\n",
       "ifWOJNIz1Hx9puISnf1dI+YM36dtVKCwsm3a4hNCCCGEEGKmkERbCDEuKpVqxKq2zqDjaMnZEXPm\n",
       "h45siCb7tIUQQgghxFwkibYQYtyWBy3Cy9HDfH2k6AyDBp352tvdAR8PB/O17NMWQgghhBBzkSTa\n",
       "Qohx06o1bI/eYL7uGOjifMXlEXPihq1q51e0YTRanrkthBBCCCHEbCaJthDirmyOWI291s58fbDg\n",
       "OIpyM5ke3hCtp09HdePIfdxCCCEmx6BBR3OvVA4JIcRMJIm2EOKuONo6sDFilfm6qrOO6w155uvh\n",
       "DdEA8sqlIZoQQkymAf0gH+Ue5puf/JT/tf8X/PHqe9YOSQghxC0k0RZC3LUd0RtQqVTm6wMFx83/\n",
       "Hhbgip2txnwtDdGEEGJyGI1GTpd9zvcP/SPvZu2jT98PwKfFp6ntrLdydEIIIYaTRFsIcdd8nb1Z\n",
       "HrjQfJ1Zn0dlew0AWo2amOCbDdOkIZoQQkxcRl0uPzv6L/xn2hu09rVbjB8tOWeFqIQQQoxFEm0h\n",
       "xBcy/KgvgIOFJ83/Pj/sZqJd09RNR/fAtMUlhBCzSXlbNb88/Qr/cvZVKjpqxpx3puxzBvSD0xiZ\n",
       "EEKI25FEWwjxhcR4RxDtFW6+PleRRnt/JzCyIRpAQaXs0xZCiLvR0tvGa5de52dH/2VEHwwAG40N\n",
       "D8Vt5cvJD5tf69H1caHyynSHKYQQYgySaAshvrAHYjeb/11v1HO0+AwAsSEeI+bJPm0hhBif3sE+\n",
       "3r7+Cd879I+cKb+Iws1THVSoWB+2kld2vMBTyQ+xJWrtiFMgjhWftUbIQgghRqG1dgBCiHvX0sAU\n",
       "fJy8aOppAeBI8Vkemr8VN2c7An2cqWnqBmSfthBC3IneoOdYyTk+yD1E10C3xXjKvDi+nPwIYR5B\n",
       "5tccbOxZG7qcoyWmBLukrYKS1goiPUOnLW4hhBCjk0RbCPGFadQadkRv4PWMDwDoGujmbMUlNkeu\n",
       "IS7M05xoF1W1ozcY0WqkiEYIIYZTFIVL1dd4+/on1Hc3WYyHugXylQWPkDIvfsQ9xdXtfHa9jpYe\n",
       "3xHzjxaf5bllT0953EIIIW5PEm0hxIRsiLiPPTkH6NOZjpk5WHCSjRGrmB/myfHLlQAMDBoor+0k\n",
       "KtjdmqEKIcSMUtBcwpsZH1HYUmox5uXgwe6kB1gbuhy1Wo2iKJTXdXIuo4bzGbXUtfSY5zokeIKT\n",
       "qXLoQuVlnl7wCM62TtP2cwghhLA0KYm2wWDgzTff5P3336e6uhofHx8eeeQRvvWtb6HV3vlbDA4O\n",
       "8vvf/579+/dTV1eHn58fGzdu5Pnnn8fFxWUyQhRCTBFHGwc2Raw2n6Vd01VPRl0ucWEhI+bllbdK\n",
       "oi2EEEBdVyNvXf+YtOoMizEHrT0PxW1lZ8xGbLW2VNZ3ci6jlnMZNeYqoVsN1gdhG2lKtAcNOs6U\n",
       "XWTnLSdDCCGEmF6Tkmi/8MIL7Nmzh6VLl7Jp0ybS09N55ZVXKCgo4OWXX77tvXq9nq9//etcuXKF\n",
       "pUuXkpqayvXr13n99dfJzMzkL3/5y7iSdSGE9eyI3sChwpMYFSMABwuP84u138fJwYaePh1gaoj2\n",
       "wJoIa4YphBBW1dnfxQc5hzhWchbD0PvlDRqVmtSotTwWv4PuLhUfnyrjXEYNFfVdd/y6htZ5KCH5\n",
       "qGxMx3sdKznHjpiNqFSqKfk5hBBC3NmEM9j09HT27NnD9u3beemll8yv/+3f/i179+7lzJkzrFu3\n",
       "bsz7X3/9dS5fvsw3v/lNfvzjH5tf/6d/+ifefvttDh48yK5duyYaphBiCnk7ebIieBGfDR0tk9VQ\n",
       "QGVHDfNDPbia3whAXoU0RBNCzE0D+kEOFp5gb95R+vT9FuPLgxaSGrKFwiId//CfVymt6bjt1wvy\n",
       "dWbNgkAiA934tzeuoDeAvikQm4AyAGq7GshpLCDRb/6U/DxCCCHubMKJ9ltvvYVKpeL5558f8fqP\n",
       "fvQj9u7dy/vvv3/bRPutt94iKCiIH/zgByNef/bZZ+nt7cXe3n6iIQohpsH9MZvMiTbAgcLjxIWt\n",
       "NCfaTW19NLf34e3uYK0QhRBiWhmNRs5WXOLdrH209rVbjIe7hRGlWUH+FfjFR5m3/Vr+Xk6sXhDA\n",
       "mgWBhPm7mlerv7Yznv/Zl42hMRitfxk3FrGPFJ+VRFsIIaxowon21atX8fDwIDIycsTrvr6+hIWF\n",
       "cfny5THvLSkpoba2lq997WtoNJoRY4GBgfzrv/7rRMMTQkyTKK8w5ntHkt9cAsCFyit8J37NiDn5\n",
       "Fa2sdg+0RnhCCDGtMutz+UvGR1R01FiMuWjcsW9NJDfNiVwsE/AbfD0cWJ0SaFq9DnIbtRT8wTUR\n",
       "XMmrJ7OoGWOHDxp3U+fyyzWZtPa14+kgvTGEEMIaJpRoDw4OUl9fz4IFC0YdDwwMpLy8nLa2Njw8\n",
       "PCzGCwsLUalUREVFcebMGX73u9+Rl5eHi4sL999/P9/73vdwcJDVLyHuFffHbjYn2gajgbLB66hV\n",
       "aoyKaTyvvJXVKZJoCyFmr/K2at66/hGZ9XkWY2qjHQNVETQ2BoMy+nGHXm72rEoxrVzHhnjccZ+1\n",
       "Wq3iB08s4vlfnaKvMdicaBsVIydLL/BYws6J/1BCCCHu2oQS7Y4O0x6isTqD33i9u7t71ES7sbER\n",
       "RVE4ceIEp0+fZv369Tz55JNcunSJP/3pT2RlZfH6669brHYLIWamJQHJ+Dn70DB0Fuyp8guEBG6j\n",
       "vNp0DE1+uezTFkLMTi29bbybtY+z5ZdQUEaMKUY1+vow9HXhYLCxuNfdxY5VyabkOi7ME7X67pqY\n",
       "ebs78J3HUviPNwcxDtijtjPtAz9WfI6H47ahUctzlBBCTLcJJdp6vR4AW1vbUcdvvD4wMDDqeF9f\n",
       "HwBnzpzhl7/8JY899hgAiqLwwx/+kCNHjvD222/z9NNPTyRMIcQ0UavV7IzZyB/T3wOge7CHgKBG\n",
       "qDad51pS3cGAzoCdjTz0CSFmh97BPj7JP8LBwpPoDLoRY4oChuZAdNXRoBvZc8bVyZb7kgNYsyCA\n",
       "hAhvNHeZXN9qzYJA0nLrOV8bjDq4CIC2/g6u1maxLGj0ykMhhBBTZ/S6pXGys7MDQKfTjTo+OGg6\n",
       "ZmKs8m+12vTt4+LizEk2gEql4qc//SmKonD48OGJhCiEmGbrw1bgZHPzd75BkwNDqzsGo0Jx1dj7\n",
       "EYUQ4l6hN+g5XHiK7x7833ySd8QiyTZ0eDGQfR+6siRzku3kYEPqshBe+NZKXv/HrXznsRSSo3wm\n",
       "nGTf8O2Hk3HTRaMYb369964dnZSvLYQQ4u5MaEXbxcUFtVpNV9foZzzeeH2s0nJnZ2cAEhISLMYC\n",
       "AgJwdXWlsrJyIiESGxs7ofuFEHfH3saezZFr2Jtverjr0LWidm/C2O4LmPZpJ0R4WTNEIYT4whRF\n",
       "4Xz5Vd649hEdujaLcWOvC7rKWIyd3gA42GlZkTiPNQsCWRDji412Qmsct+XkYMNPvrSSfzySjsar\n",
       "HoCq3jJyqitJCAqZsu8rhJhdFEXBqDBpHwLOVGlpaePOFQsKCu76608o0baxsSEgIIDq6upRx6ur\n",
       "q/H09MTV1XXU8bCwMGDsFXG9Xo+bm9tEQhRCWMG26PUcKDiOQTEC4BBUQc9Qoi37tIUQ96JBnYH9\n",
       "6Vc5UHqQHnWjxbhxwB59TTSG5gDsbbUsWzCP1QsCWTzfF9tp3C6TGOnNqsD7uNj/kfm1l49/wu++\n",
       "+t273vsthJg7DAYjWSXNnM+s5fOsOrp6B3lmZzyPbIi2dmj3rAkf77V48WL27dtHRUUFoaGh5tcb\n",
       "GxspLy9n06ZNY96bnJyMjY0NaWlpKIoyorNmSUkJvb29rFq1akLx3c2nD08//TRpaWkT+n5CCPBy\n",
       "9GBlyBLOV5h+n4yOLagcO1B63cgrb7X4fRdCiJlIpzeSUdjI0YxcMrvPgVu9xaY7xaBBXxuBujmC\n",
       "5XEBrNkRyJI4P+xtJ/yI9YU9v2MjV947jt6mE4A2m2I+PJPP4xvirBaTEGLmMRiMZJe0cC6zhs+z\n",
       "6ujsGRwxvudEEQ+vj5q1z2zLli3jzTffnLKvP+G/BR566CH27t3Lb37zG37729+a/0f8+te/RqVS\n",
       "8aUvfWnMe52dndmxYwf79u3jv//7v/n2t78NmFayX3zxRVQqFY8++uhEQxRCWMH9MZvMiTaAdl45\n",
       "utIUOnsGqWvuIcDH2YrRCSHE6AwGI5nFzZzPqOGz3HIGvfLR+FShcru1k7gKY3MISU4rWb8xkmXx\n",
       "fjjaW3YUtwZbGw0PxG3g4+K9AKi0Ot65dJolsQGEB0iloBBzmcFgJLu0ZWjlupaO7sEx58aHe87a\n",
       "JHs6TDjRXrlyJTt27ODw4cPs3r2b5cuXk56eTnp6Otu2bWPdunXmua+++ioqlYrnn3/e/NrPfvYz\n",
       "MjIyePnll8118hcvXiQ/P58dO3awfv36iYYohLCCCM8QEnxjyGksBEDjWY+uKhZ09uSVt0qiLYSY\n",
       "MQxGhZzSZs5l1PLZ9Vo6+/rQ+pWjjS1FqzFYzHfRhbAzYjtbHkrA2WFmJNe32pW8jv0lh9Arpu15\n",
       "ap8Kfv3WVX7zg3XTWsouhLC+G+9x5zNMZeHt3aOfCAWgUkF8uBdrUgLYsiJ0zHnizialrunFF18k\n",
       "Ojqajz/+mDfeeAN/f3++//3v8/Wvf33EvNdeew21Wj0i0fb09GTPnj289tprHDt2jKtXrxIYGMhP\n",
       "f/pTnnnmmckITwhhJTtjNpkTbZVaQetXgb46lrzyVjYtlcY8QgjrMRoV8spbOZ9Rw4XrtbR1DQAK\n",
       "Gu8a7KKKzWdRD+drF8izix9nUfDMb7TqaOPA+vDlHC89D4DauYPK8mreOJTHN3YlWjk6IcRUMxgV\n",
       "cktvloW3d90+uY4L82R1SiD3Jfvj5Tb6iVHi7kxKoq3RaHjuued47rnnbjsvPz9/1Nfd3Nz4+c9/\n",
       "zs9//vPJCEcIMUMsCkjE39mXum5T4yCtbxX62khpiCaEsApFUSiobONcRg0XMmtp6biZTKtdm7EJ\n",
       "KUDtaHmSiq+jD08vfJhlgQvuqTLKLVHrzIk2mN6D9551Y0mcLwtifK0YmRBiKhiMCrllLaatL3dI\n",
       "rsFUGr4qJYBVyQGSXE8B63XqEELMemqVmp2xG/nD1XcBUGn1aHxqqGzQ0tOnw2mGllwKIWYPRVEo\n",
       "qe7gXEYN5zNraGzrGzGucujEJqQAjVuLxb0uds48nrCTzZFr0KrvvXLrMI8gYrwiKGwpBUDjVYeu\n",
       "KpbfvnuNV3+yARdHWytHKISYKINRIa/MtOf6M3N1zthMK9cB3JccgLe7JNdTSRJtIcSUWhu2gnez\n",
       "9tM92AOA1q+cgYYQCirbWBQrKypCiMnX3jVAblkLOaUtXM5roK65x3KSTT82QYVovGu5dZHaRmPD\n",
       "/TGb2DV/C4629/aD6JaoteZEW6UxoPGupaUhlNc+yORnTy+5p1bohRAmo299GVtc2M2Va0mup48k\n",
       "2kKIKWWvtSM1cg0f530KgNq+D7VHI/nlrZJoCyEmRVNbHzmlzWSXmpLr6sbusSdrdGj9y7DxrwDV\n",
       "yEZnKlSsC1vB7qQH8HL0mOKop8eK4EW8fu19um582OlbiaEhhAuZtZyKr2bjkmArRyiEGA9zcp1Z\n",
       "w2fXa2ntvH1yPT/Ug1UpgaxKDsDHQ5Jra5BEWwgx5bZFr2dfwTEMRtNDrXZeOXnl0oxHCHH3FEWh\n",
       "trmHnKGkOru0hcbW3jvfqDLiE9nIoFcBg0qfxXDKvHi+nPwwYR5BUxC19dhqbNgQcR/78o8BoHbo\n",
       "Qe3SirHLi//++DoJEV74eTpaOUohxGhuJNcXrtdyIbOW1k7LJo3DxYZ6mMvCfT3k99raJNEWQkw5\n",
       "Dwc3Vocs5Uz5RQA0Lm0UFJZiMK5Eo5ayRSHE2IxGhYr6TnNSnVPacscGPzeoVRAe6EpgVDdlymWa\n",
       "+1pg5HHYhLoH8XTKIyTPi5uC6GeGzZFrzIk2gMa3CmOXF739el56J51/fm6VvBcLMUMYjQr5Fa1c\n",
       "yKzlwvWRTRtHExviYS4L952ED82yGvL5JO9TGrqbeSLpQVaHLpvw15yrJNEWQkyLnTGbzIk2gN6r\n",
       "hMr6TsID3KwYlRBiptEbjJTWdJBdYkqqc8ta6O7TjeterUZNTIg7CRFeJEZ4o3Zp5YO8/Vwe2qM8\n",
       "nJeDB7uTHmBt6HLUavVk/xgzyjxnH1LmxZNZnwuA1rMBXeUA6OzIKW3ho1NFPL4pxspRCjF3GY0K\n",
       "BRVtnL9ueSLCaGJC3FmVHMiqlIBJq0gpbinnnaxPyGooML/2p2vvS6I9AZJoCyGmRZhHEFHuURS3\n",
       "FwOg8WzgSnEZ4QELrByZEMKaBnQGCivbzKXg+eWt9A8a7nwjYGerIS7Uk4RILxIivIgJ8cBWqyan\n",
       "sYAPc98iJ7PQ4h4HrT0PxW1lZ8xGbLVzp+v21qi15kQblYLdvBoGqiIAePtIPgtjfYkKcrdihELM\n",
       "LUajQmFlG+cza7mQWUPzHZLr6GB3c1n4PC+nSYujuqOOd7P2kVaTYTHm7yy9dCZCEm0hxLR5JHEL\n",
       "/3HelGirVArnaz7jcSTRFmIu6e3XkV/eRnZpMzmlLRRWtqM3GMd1r5ODDQnhpqQ6MdKLiEA3tBrT\n",
       "arSiKGTW5/FhzkEKRlnB1qjUpEat5bH4Hbjau0zqz3QvWOSfhJejBy29bQC4BNUxUBUOqNAbFH79\n",
       "1lVe+uE67G3l0VCIqaIoCgWVbVzIrOV8Zi3N7Zb9IoaLCnZndXIAq1ImN7kGaOxp4f3sA5ytuISi\n",
       "jNxTo0LFqpAlfHXhY5P6PecaeTcVQkybRQEJ2BrcGNR0AFCn5NGr68PRRrphCjFbdfYMmo/ayi5t\n",
       "obS6HaNy5/sA3F3shsrATcl16DxX1LfsJVYUhau1WXyYe4iS1opRv87yoIU8lfwQ/i5zd3VGrVaz\n",
       "OWI172XvB6DH0EVM4iCF2XYAVDd28/qBXP76kWRrhinErKMow1aur9fS1HaH5DrIjVUpgayeguQa\n",
       "oL2/k49yD3Os5Jy5Se1wiwKSeDLpQULdZ1djSGuQRFsIMW3UKjVxzkvI7DthekGj52DeGR5P3mbd\n",
       "wIQQk6alo29E47LK+q5x3+vr6UhCuCcJEd4kRnoR4O005jnPRsVIWnUGH+Uepry92mJchYoVwYt4\n",
       "JH6bPDAO2RSxig9yDmJQTBUErqF1uJXH0NE9CMCBC2Usifdj8Xw/a4YpxD1PURSKqto5l2E6iqvx\n",
       "Dsl1ZJAbq5IDWJ0SiL/35CfXAD2DvewvOMbBwlMM6C0bSsb5RPNk0i7m+0ROyfefiyTRFkJMq81R\n",
       "K8lIP4vKxtTc6EjxaR5JTEWj1lg5MiHE3VIUhYbWXnPjspzSFupaesZ9f5Cvs3nFOj7Ca1zH0RiN\n",
       "Rj6vvspHOYep6qyzGFepVKwKWcoj8dsIcvW/q59ntnN3cGNZ0EI+r7oKQG5TAV/flcqrbxWZ57z8\n",
       "7jVe/ckG3JztrBWmEPekG8n1jT3Xd0quIwLdWJ1iKgsP8HaesrgG9IN8WnSaT/KP0DNoeRRiuHsw\n",
       "TybvImVe/JgfbIovRhJtIcS0Sgj3xfBpCNrAEgA6dR2k1WSwMnixlSMTQtyJ0ahQ1dhlSqpLWsgp\n",
       "a7ljd9wbVCoI93czNy6LD/fEw8V+3N/bYDRwvuIyH+d9Sm1Xg8W4RqVmTdhyHo7bNqdLxO9kS9Ra\n",
       "c6KtoNCoyWfrigiOXDSV3bd1DfDaB5n83deWykO3EHegKArF1e2cz6jl/PVaGlstE9nhIgLcWJUS\n",
       "wOqUAAJ8pi65BtAbDZwsPc+HOYdp6++wGPd38WV34oOsCF6IWjW7T16wFkm0hRDTytnBBj8lnmZj\n",
       "KSq1aaPmgYITkmgLMQMZDEbKajuHysCbySltpat3cFz3atQqooOHjtqK9GZ+mCfODjZ3HYPeoOdM\n",
       "+UU+yTtCQ0/zKN9Hw4awlTwUtxVfZ++7/vpzTbxPNIGu86jprAfgVOlnvLRzO1nFzdQ2m6oRPs+q\n",
       "48TlSjYvC7VmqELMSP2Deooq27ma38D5zFoa7pBchwe4DiXXgQROcXINpm01FyqusCd7/6jvmV4O\n",
       "HjyWsIP14SulmnCKSaIthJh2CSEBnGwIQOtTA0BRSxmFzaXEeEdYOTIh5jad3kBhZTu5ZaY91nll\n",
       "rfQN6Md1r61WzfwwTxKGGpfFhnhgb/fFHzMGDTpOlX7G3vyjNPe2WozbqLVsiljNg3GpeDt6fuHv\n",
       "M9eoVCpSI9fw52vvA9A12ENG43V+/OXF/M2r5zAOdar7/SdZJER4T9l+USHuFW2d/eSWt5JX1kpu\n",
       "WQulNR0Y7tDRMczf1VwWHuQ7Pacc3GgM+W7WPio7aizGXWydeDh+G1ui1mGrufsPPcXdk0RbCDHt\n",
       "5od6cjQzzJxog2lV+0eSaAsxrfoH9eSXt5oblxVWtDGoH99RW472WuKGEuvECG+igt2x0U68/HBA\n",
       "P8iJ0vPszT9KW59luaOdxpbUyDU8MD8VDwe3CX+/uWhd2Areub6XAYOpOuFY8Vn+afNynkiN5e0j\n",
       "+QD0DRj4zdtX+bfvrEajkbJSMTfc2B6TV9ZK3lByPd6+E2H+ppXrVckBBPtN7xGCuY2FvHN976hH\n",
       "Gzpo7bk/dhM7YzfJKS/TTBJtIcS0iwv3ROlzwdDujcbdVNZ0qeYajd3NUvopxBQa0BnIL2slq6SZ\n",
       "68XNFFW1oTeM76wtVyfbEUdthQW4oVFP3h7efl0/R0vOsj//OB0Dlp3K7bV2bItez/0xm+bkOdiT\n",
       "ycnWkVWhSzlZegGAgpZSytuq+dKmaK7mN1BQYTprO7+ijQ9OFrE7Ndaa4QoxZQZ0BoqrTFU8uWWt\n",
       "5Je30t2nG/f9IfNcWD10FNd0J9cApa2VvJO1l8z6XIsxG7WWrVHreCh+G652U1+yLixJoi2EmHYB\n",
       "3k64ONrSUx9mTrQVReFQ4UmeWfQlK0cnxOwxqDNQUNHG9eJmskqaKahoQ28Y34q1l5s9iRHeFpoF\n",
       "YAAAIABJREFUJESakusgX+cpaY7VO9jHp8WnOVhwgq5By5UjRxsHtkdvYEfMBlzkYXHSbIlca060\n",
       "AY6WnOVbS57ix08t5nu/PkX/oOl83bePFrAw1peYEA9rhSrEpOnoHiB3aLU6t6yFkur2cX/YqFZB\n",
       "mL8b8eGexIV7EhfmhY+HdVaIazvreTd7Pxer0i3G1Co168NX8ljCDtlWY2WSaAshpp1KpSIuzJO0\n",
       "3AGMvc6oHbsBOFn2Gbvitko5qBBfkE5vSqyzipvJKmkhv6IV3ThLwQO8ncz7qxMivPDzdJzSrtPd\n",
       "gz0cKjzF4cKT9Ogsj8FxtnViZ8xGtkWvx8n2zsd+ibsT4RlClGcYxa3lAJyrSOMrKQ/j7+3ENx9K\n",
       "4tU9GYCplPbXb13l5R+tn9CeeyGmm6IoVDd2m0vA88pbqGka//GD9rYaYkM9iAsznZIQG+qBo711\n",
       "9zY397byQfZBTpdfxKhYvrevDF7M7sT7CXCdZ4XoxK3kHVMIYRXzwzxIy61HXx+GbUQ2AP36Af4r\n",
       "7Q3+bu3zcqyMEOOg0xsprGwje6gUPL+8ddx7rAN9nEiM9CY5ypuECC+83KZnZaZzoJsDBcc5UnSG\n",
       "Pr3l0WCuds7cH7uZrVHrcLAZ//Ff4u5tiVpLcVo5AAP6Ac6Vp7E1eh2py0K4nFvPxWxTZ/La5h7+\n",
       "Z38O33ksxYrRCnF7Or2B4qoOcstaTMl1eSudPeM7JQHA09XevFodH+ZFeIDrjOlP0Nnfxcd5Rzha\n",
       "fAad0bJB5YJ58TyRtIsIzxArRCfGIom2EMIq4sJM5UyGlgCM88rNq9oZ9bkcKT7Dtuj1VoxOiJlJ\n",
       "bzBSVNlOVkkzWcXN5Ja3MqgzjOtef28nkiK9SYryJily+hLrG9r7OthXcJxjxWfNTbiG87B344H5\n",
       "qWyOXI291m5aY5ur7gtezOsZH9AzaDqe6GjxGbZErUWlUvH84wvIrzhFe9cAAJ9+Xs7SeD+WxctK\n",
       "mZgZOnsGyR8qAc8ta6W4un3cFTwqFYTOcx1Kqj2JC/fC18Nhxn3I36vr40DBCQ4UHKdfP2AxHusV\n",
       "wZPJDxHvG22F6MSdSKIthLCKqGB3NGoVBqOawdJkHBIvomD6C/LNzI9I9I0lyM3fylEKYV0Gg5Hi\n",
       "6nauFzeTXdJCblmLee/snczzcjQn1okR3lbbS9ja287e/KMcLz2PzmDZZMjLwYNdcVvYGLFKjpyZ\n",
       "ZrZaWzaEreRA4QkAqjrryG8uJs4nGjdnO76/eyEv/OGief4r713j1Z9swMNFKg3E9FIUhbrmHvP+\n",
       "6rzyFqoausd9v62NhtgQD1NiHe5JbKgnzg4z9/1m0KDjaPEZPs79dNTeFaFugTyRvItF/okz7sMB\n",
       "cZMk2kIIq7C31RIR6EZRVTtKrysuHUl0umUCoDPoeOXiH/nnzT/FRh68xRxiMBgpqekY2mPdTG5Z\n",
       "C30D40usfT0chlarTf/4elp3X3NTTwuf5B3hVNnn6EcpdfRx8uLhuK2sC1shv+dWlBq11pxoAxwt\n",
       "Pkucj2l1bEmcHztXhXPwQhkAHd2DvLong394drk83IsppdMbKa1pv5lYl7XS3m25ojsWdxc7Uxn4\n",
       "0P7qiEA3tDOkDPx2DEYDp8s+54OcQ7T0tVmM+zn7sDvxAe4LWYxaNfN/nrlOEm0hhNXEhXlSVNUO\n",
       "QFORPwu29ZLXXARAeXs172Uf4CspD1szRCGmlMGoUFbTYe4KnlvWQm+/ZVI6Gm93B5KHysCTonzw\n",
       "s3JifUN9VyMf5x3hbPlFDKM06/F39uXh+G2sDl2GVq2xQoRiOH8XX5L94rjekAfAxeprPNPfiZu9\n",
       "KwDP3B9PZlET1Y2m1cPLuQ0cuVjBtpVh1gpZzELdvYPkV7SZy8CLKtvG3W8CINjPhfih1eq4MC/m\n",
       "eU1tM8fJZlSMXKy6xnvZ+6jrarQY97B347GEnWyIuE/eN+8hkmgLIaxmfpgn+86VAmA0wmb/B6ns\n",
       "+E9zB+L9+cdY6J9Agm+MNcMUYtIYjQpltR1klbSQVdxMTmkzPeNMrD1d7U2J9dCq9Ux7kKzprOfj\n",
       "3E85V5mGolgelxPoOo9H47dzX/AS1GpZiZlJtkStNSfaBqOBk6Wf8XD8NsBUffTjpxbzk1fOYjCa\n",
       "/r/+YV82SVHeBPrIcWvi7imKQkNr77DV6hYq6rvGfb+NVk1MiAdxYabEen6YJy6OtlMY8dRRFIWM\n",
       "+hzevb6PsvYqi3EnW0cejtvK1qj12GnvzZ9xLpNEWwhhNTcaot1QW2vgm0ue4ref/w8ACgr/9+Kf\n",
       "eXHbL3C2dbJGiEJMiNGoUFHfSVaxqSt4TmkL3X2W+5RH4+FiR1KU99CqtTf+3k4zKrG+obK9ho9y\n",
       "D/N5VToKlgl2qFsgjybsYFnQAil1nKEWByTh6eBOa5+pwuh4yTl2zd9i/kAkKtidL2+bzxuHTMn4\n",
       "wKCBX791lf/47pp7ohxXWJfeYKSstsOUWA8ds9XaOf4ycDdnW+LCbpaBRwa5YaO991d185tKeCfr\n",
       "E/Kaii3G7LR27IzZyIOxqTjaWqe/hpg4SbSFEFbj7e6At7sDze2mFez88jZ2b15Bem02ZysuAdDS\n",
       "18Yfrr7L91c8OyOTDCGGMxoVqhq6zKXg2SUtdPWO73gZdxe7EV3BA32cZ/Sf+bK2Kj7MOURaTcao\n",
       "4xEeITyasIPFAUmSYM9wGrWGzZGr2ZN9AICm3lYy6nNYFJBknvPIhmiu5DWQW9YKQFFVO+8dK+TL\n",
       "2+ZbJWYxcw3qDORXtHK9uJm8slYKKtsYGGcTR4BAH+ebZeDhXgTM0A8Zv6jytmrezd5Hem2WxZhW\n",
       "rSU1cg0Px2/DfWj7hrh3SaIthLCquDBPzmXUAJBf3orRqPDsot3kNRXR1Gt6oPus8gqL/ZNYE7bM\n",
       "mqEKYUFRTIn1jVLwrJLmcZ/b6uZsS+JQ47LkKG+CfGd2Yn1DUUsZH+YcIr0ue9TxGK8IHk3YzoJ5\n",
       "CffEzyNMNkas4oOcQxiH9tUfLT47ItHWqFX88MlFfO/Xp+kbMG132HO8gMXzfZl/S3WSmFsMRoWS\n",
       "6nYyi5rILGoir6x13PurtRo10cHuQ3urTWXgbs6z83i/+q5G3svez2eVVy2qf1QqFetCV/B44k58\n",
       "nLysFKGYbJJoCyGsan6YhznR7u7TUdPUTbCfC8+veIb/c+ol817PP6S/Q6xPJL7yF5CwIkVRqG7s\n",
       "Jruk2Xzk1ng74bo42pIU5WVetQ7xc7mnEtH8pmI+zD1EZn3eqOPxPtE8mrCDRN/Ye+rnEiaeDu4s\n",
       "DUzhUvU1AK7V5dDY3Yyvs7d5zjwvJ779SBIvvWOaY1Tg129f5eUfrcfRXjrHzxU3PmDMLGoms6iJ\n",
       "7JLx95pwcbQhLszLfMxWVJA7tjb3fhn47bT2tfNBziFOlV4YtUHksqAFPJH4oBxpOgtJoi2EsKr5\n",
       "oSNXQoqq2gn2cyHOJ5qH5m/l47xPAejT9fPapT/zj+t/KI2UxLSqa+4hs6hpqBS8edx7C50dbEiM\n",
       "9BraZ+1DiJ8LavW9lYAqikJOYyEf5h4ip7Fw1DlJfvN5NH4H8b7R0xydmGxbotaaE20FheOl53kq\n",
       "+aERczYsDiYtp4EL12sBqG/p5Q97s/ne7oXTHq+YPo2tvUMr1s1cL26irWt874P+3k4jjtkK9HG+\n",
       "594Hv6iugW725h/lcNFpdAbL3hxJfvN5MmkXUV5h0x+cmBaSaAshrCrM3xWNWmXuZltc3c7GJcEA\n",
       "PJ54P9fr8yhpqwAgr6mYvflHzd1whZgqPX06zmbUcDytgsLK9nHd42SvNZWCDzUvC/N3vWcfKBVF\n",
       "IbM+jw9zD1HQXDLqnIX+iTwav50Y74hpjk5MlUTfWAJc/KjtagDgZOkFHk/YOeKcc5VKxf96LIW8\n",
       "8lZaO/sBOJZWydJ4P1YmBVglbjH5OroHuF5sWrG+XtRMXUvPuO7zdrMnOdqHlGgfUqK98XKbe428\n",
       "+nX9HCw8yb6CY/Tp+i3GozzDeCp5F4l+0t9gtpNEWwhhVbY2GkLnuVJa2wFAcdXNpEar1vDdFc/w\n",
       "s6P/yoDBtO91T/Z+UubFEeEZapV4xexlNCpklTRzPK2Sz67X3nGPoaO9loSIm6Xg4QFuaO7RxPoG\n",
       "RVG4WpvFh7mHKGmtGHXOksAUHovfLr+Ds5BKpSI1cg2vZ3wAQOdAN5eqM1gdunTEPFcnW37wxEL+\n",
       "9+8/N7/26p5MYkM98XS1n9aYxeTo7deRU9piLgcvr+sc130ujjYkRXkPJdY+s65x2d3QGXQcKznH\n",
       "x7mf0jFgeVxZsKs/TyTvYklA8pz9bzTXSKIthLC6yCA3c6JdWtuBwaiYE5YA13l8dcFj/P9X3wbA\n",
       "oBh55eKf+PctP5czJcWkaGzt5cTlSo5fqaKxtXfMeQ52NxJrUzl4RIAbmllytJFRMZJWncFHuYcp\n",
       "b6+2GFehYnnwQh6N306oe5AVIhTTZV34Ct7J2svgUKnr0eIzFok2wMJYXx5cE8G+c6UAdPUO8vJ7\n",
       "1/g/31ghScQ9QKc3kF/RZl6xLqxsM1eW3Y6drYaECC9Sokwr1uEBbvds5c5kMRqNnK24xPvZB8xN\n",
       "XIfzcfJid+IDrA5ZKlvf5hhJtIUQVhcd7M6xtErAdD5rdWMXofNuHmuxOXI16XVZXB06CqO2q4E3\n",
       "Mz7kG0uetEq84t43oDPweVYdJ9IqySxuQhnj+dLJwYZ1CwNZvyiYmBD3WZNY32A0Gvm8+iof5Rym\n",
       "qrPOYlylUrEqZCmPxG2TRj1zhLOtE/eFLOF0mWm1Or+5hMr2GkLcAy3mfnVnPBlFTVTWm1bv0vMb\n",
       "OXShjJ2rZTvBTGMwKpTWtJtXrHPLWhnU3fnILY1aRWyoh3nFOibEAxvt7Hof/KIURSGtJoN3s/ZR\n",
       "01lvMe5m78qj8dvZHLEarUZSrrlI/q8LIawuMsh9xHVJdfuIRFulUvHtpV/hJ5/+0lyOdbTkLAsD\n",
       "Elk87PgZIW5HURSKqto5frmSs+nVY3bJVakgJdqH1GUhrEj0n5UdcRVF4XJNJu9m7aN6lARbrVKz\n",
       "Nmw5D8dtw9/F1woRCmvaGrXOnGiD6f32G4stP9i0s9Hwky8v5ke/PYveYNpq8cf9OSRH+xDs5zJt\n",
       "8QpLN05IuF7URGZxM1nFzXT3WTbkupVKBeEBbuY91vHhXjjYSbownFExklGXy/s5B0bdYuNk48CD\n",
       "87ewPWYD9trZeVSZGB/5zRFCWF14gCtajQq9wbSsWFTVzsYlISPmuNm78tyyr/Jv514zv/ZfaW/w\n",
       "q23/gLu9K0KMpaN7gFNXqzmeVkFFveW+uRv8PB3ZvCyEjUuC8fVwnMYIp9f1+jzeydo76gOiRq1h\n",
       "Q9hKHorbOuJYJzG3RHqGEukRam5Eea48jS8nP4yDjeX+6/AAN57eHsefDuQAMKg38uu3r/Lid9fK\n",
       "yuc0a2rrM3UGLzaVg99oVncnAd5O5hXrpChvXJ1kW9Zoegf7OF3+OUeKzlDX3WgxbquxYUfMRh6c\n",
       "n4qzrZMVIhQzjSTaQgirs9FqCJnnSmmNaZ92SXXHqPMWBSSyJWotR4vPAqZGPb9Le5OfrflfsidQ\n",
       "jGAwGLla0MjxtErScurH3Htoa6NhVbI/m5eFkBjhPav3GhY2l/Ju1j6yGwssxmzUWjZFrObBuFS8\n",
       "HT1HuVvMNalRaym5/CYAffp+zlWksSVq7ahzH1oXyZW8BrJKmgHTe/g7R/P56o74aYt3LursGSRr\n",
       "qDN4ZlETtc3j6wzu6WpPSrSpgVlylA8+HnOvM/jdqOms59Oi05wpv0i/3vJYM41KzabI1TwavwMP\n",
       "BzcrRChmKkm0hRAzQnSw+81Eu6YDg8E46n7Yp1MeJaehkJou036o9LpsjpWcG/MBUMwtVQ1dnLhc\n",
       "yckrVbc95zU21IPNS0NYsyAQJwebMefNBpXtNbybvZ8rNZkWYxqVmk0Rq3kkYTueDu6j3C3mqlUh\n",
       "S3gz4wN6dH0AHCs+S2rkmlE/1FSrVfzgyYV871enzFsyPjhZxOL5fiREeE1r3LNZ34B+qDO4acW6\n",
       "rK5jzP4Swzk52JAc5U1KlDfJ0T4E+TrLh9N3YCoPz+Fw0Sky6/NGnaNWqVkVsoQvJd6Pn7PPNEco\n",
       "7gWSaAshZgTTPm1TmeKgzkB1Yzeh/pYl4XZaW7674q/4xfF/x6CY9gS+kfEBCb4xBLrOm86QxQzR\n",
       "26/jXEYtx9MqyK9oG3Oeu4sdGxYHs3lpMCHzZv92g4buJvZkH+B8xWUURj6Nq1CxOnQpjyfezzx5\n",
       "QBSjsNPasi58JYcKTwJQ0VFDYUspsd6Ro8739XDkuUdT+NVbVwFQFPjN21d55ccbZv2HWVNFpzdS\n",
       "WNlmXrEuqBhfZ3BbGw0J4Z7mcvDwwHv/6MHp0jvYx6myz/i0+AwN3U2jznGxc2ZzxGq2RK3Fy9Fj\n",
       "miMU9xJJtIUQM0JU0Mhyq6Kq9lETbYAIzxB2Jz3I29c/AWDQoOOVi3/knzf9VDp7zhGKopBd2sLx\n",
       "tEouXK9lYHD07rkatYolcX6kLgthcZwf2lnWNXw0rX3tfJRzmBOl580fRg23JDCFJxIfGLWLtBDD\n",
       "bYlcY060AY4Wnx0z0QZYtyiItNx6zl6rAaCxrY/ff5LFD59cNOWxzgZGo0JpbYepgVlRMzllLWO+\n",
       "tw2nUauICfEgeagcfH6oBzba2dfEcSpVd9YNlYdfYmCU8nCAcPdgtsds4L6QJdhq5MMjcWfyRCqE\n",
       "mBHC/Ec2RCupbmfzspAx5z8Ym8q1uhzymooAKGurYk/OAZ5Kfmha4hXW0dTWx8krlZy4XEVdy9j7\n",
       "EYP9XEhdFsL6xUF4uFg2cJqNuga62Zt/jE+LTpnPQB4uwTeGJ5N2EeMtRy+J8QlwnUeib6x5X//n\n",
       "Vel8bcFjuNqP3VH8uUeSyS1rpbndVHJ+8koVS+P9WJ0iH+zcSlEUapt7zCvWWcXNdPXeuTM4mJqI\n",
       "3lixjg/3xNFeEr+7ZTQauVafw+HCU1xvGLs8fEXQQrZFbyDWO0JK7sVdkURbCDEj2Gg1hPq7mhuh\n",
       "FVe333a+Wq3m+eVf42+O/DO9Q3sI9+YdZaF/AnE+0VMer5g+gzoDl7LrOX65kmuFjWPuSXS017J2\n",
       "YRCpy0KIDnafMw9E/bp+DhaeZF/BMfp0ll2GIz1DeTJpF0l+8+fMfxMxebZErTUn2nqjnlNln7Mr\n",
       "bsuY850dbfnhkwv5+999Zv5dfe39TOLCPPFyk6ZbAHXNPRxLq+B0ejVNbX3jusd/qDN4cpQ3yVHe\n",
       "uDnLsVFfVM9gL6fKPuNI0RkaeppHneNq58zmyDVsiVyLp6P0rxBfjCTaQogZIyrI3Zxol9Z2jtkQ\n",
       "7QYfJy++sfgJXrn4JwAUFP7vxT/z4ta/x9FWHujudSXV7RxPq+R0evVtz39NjvI2nXmd5I+97dz5\n",
       "a23QoON4yTk+yj1M50C3xXiQqz9PJD3I0sAUSbDFF7YkMAUPezfa+k3vzcdLzvHA/M2oVWO/NydH\n",
       "+fDQuig+Pl0MQHefjt++c40XvrVyVnf2v51BnYHPsuo4dqmC68WjJ3fDebjYmc+yTo7ywddz9h45\n",
       "OF2qO+o4XHSKs+WXGDAMjjonwiOE7dEbWBmyWMrDxYTNnScSIcSMFxXkzpFhDdGqGrsJG2Of9g2r\n",
       "Q5dxtTaLC5VXAGjqbeV/0t/luyv+asrjFZOvs2eQ0+lVnEirorR29GPeAHw8HNi81HTm9TyvuXVe\n",
       "qcFo4Ez5Jd7POUBLr2XzNx8nL76UcD9rQpehVs/+PeliamnVGjZFruKDnEMANPQ0c70+jwX+Cbe9\n",
       "7+nt87lW0Eh5XScAGUVN7D9fyq61Y+/xno3Kajs4erGCU+nV9NzmA0Mney1JUaakOiXam2A/F/mA\n",
       "bBIYjUbS67I4XHSarIb8UedoVGqWBy9iR/QGor3C5b+7mDSSaAshZoyooJHlWcVVbXdMtAG+sfhJ\n",
       "8ptLzEnHuYo0FgUksipk6ZTEKSaXwahwraCR45cruZRdj95g2cALwEar5r6kADYvCyY5ymfOrYwZ\n",
       "FSOXqq/xXtZ+arsaLMbd7F15NH47myJWYSMrMWISbYpYzUe5n2Icaq53pPjMHRNtG62Gn3x5MT/8\n",
       "7Rl0etN9rx/MZUG0z5iNLmeLnj4dZ69Vc/RSBcXVY39gGOjjxIYlwSyM8SUyyF06g0+i7sEeTpV+\n",
       "zpHi0zT2tIw6x83Ohc2Ra0iNWiPHG4opIYm2EGLGCPV3QatRmxOt4uoONi+7831Oto58d/kzvHDq\n",
       "t+ZjjP5w5R1ivSPxdvScypDFBNQ2dXN86Mzrlg7LvcU3RAe7s3lZCGsXBOLsaDuNEc4MiqKQWZ/L\n",
       "O1l7KWurshh3snHgwflb2B6zAXut7NsUk8/L0YPFAUlcHjqLPb0um+aeVrydbv/+Gurvytd2xvOH\n",
       "vdmA6biqX711ld/8YO2s64qtKAq5Za0cvVTB+cxaBnWjdwu3tdGwOiWALctDiQ/3lNXTSVbVUcvh\n",
       "otOcu015eKRHKNtjNrAyeJF8KCmmlCTaQogZw0arIczfxbwCcKeGaMPF+8bw4PxU9uYfBaBH18dr\n",
       "l17nH9Z//7Z7CcX06hvQcyGzluOXK8kpHX2VAcDVydZ05vWykHFVNcxW+U0lvJO119xdfzg7jS3b\n",
       "Yzbw4PxUnG3nVvm8mH5bo9aZE21FUTheeo4nknbd8b4HVkdwJbeBjCLTmcTldZ28eTifZx+4/Yr4\n",
       "vaKtq5+Tl6s4llZBTdPYJyFEBbuzZXkoaxcEyrnik8xoNHK1LovDhafMjftupVGpWRG8iO1SHi6m\n",
       "kSTaQogZJSrYw5xol9V03LEh2nC7Ex8gsz6X8vZqAHIaCzlQcJwH54/dIVdMPUVRyCtv5XhaJecy\n",
       "augf41xYtQoWD515vSRuHjbaufsBSXlbFe9k7eNaXbbFmEatITViDY/Eb8PdwW2Uu4WYfIl+scxz\n",
       "9qG+25Qwnyj9jMfid6LV3P5RUq1W8YMnF/L8i6fMTQ0/OVPMkjhfkqN8pjzuqWAwGEkvaORYWiVp\n",
       "OfUYjKMfheDkYMOGxUFsWR5KeID8rk627sEeTpZ+xpHiMzSNVR5u70pq5Go2R0p5uJh+kmgLIWaU\n",
       "qKCbDyODeiOVDV3jfkDRarR8b+Wz/Ozov6IbOkf4nax9JPvFEeYRPCXxirG1dPRx8koVJy5X3nal\n",
       "J9DHmdRlIWxYEoyn69w483osdV2NvJe9n8+GmvsNp1KpWBu6nMcT78fXycsK0Ym5TK1Skxq5ljcz\n",
       "PwSgo7+TtJoM7gtZcsd7vdwc+M7jKfz7G6Y/14oCL72dzqs/2XBPbQepb+nheFolxy9X3na7S3KU\n",
       "N6nLQ1mZ5I+dzewqkZ8JKttr+LToNGcrLjFoGL3BXKRnqKl7uJSHCyuSRFsIMaNYNkRrv6uVgCBX\n",
       "f55OeYQ/pr8HmDo0v3zxj/x76t9hq713HujuVTq9kbTceo6nVZKe38AYCz042GlYsyCIzUtDmB/m\n",
       "MefL+Fp62/gg5xCnyj4zN5wablnQAp5IfJAgN38rRCeEyfrwFbybtRedUQ/A0eKz40q0AVanBHJ5\n",
       "SQMnr5j6DDR39PNfH13nb74yvvutZVBn4GJ2HUcvVZBZNPaxXJ6udmxaGkLqslD8vWUrx2QzGo1c\n",
       "qb3O4aJT5DQWjjpHo9awMmgR22NM5eFCWJsk2kKIGSVknustDdHaSV0eeldfY2vUOq7VZXOtLgeA\n",
       "ms56/nL9Y55dtHvS4xUmZbUd5jOvO3tGb0ADkBjpxealIaxKDsDeTv4K6uzv4pO8IxwpPmNOXoZL\n",
       "9ovjiaQHifIKm/7ghLiFi50z94Us4Uz5RQBym4qo7qgb9wdAf/1wEtmlLTS29gJw9loNS+PnsX5R\n",
       "0JTF/EWV13Vy9FIFp65UmUveb6VWq1ga58eWFaEsjvUd9zYnMX7dAz2cKL3A0eIzNPW2jjrHVB6+\n",
       "htTINXjIdhoxg8hTjhBiRrHRqgkLcKW4ytQIreQ2R6OMRaVS8dzSp/nxkV/SNdANwKdFp1nkn3jH\n",
       "I2nE3Wls6+VXf7lKXvnoD0AA3m72bFwawqalwQR4O09jdDNXr66PAwUnOFBwnH79gMV4tFc4Tybt\n",
       "ItEv1grRCTG2LVFrzYk2wNGSs+P+ENPR3oYfPbmIv/vP8yhD1S6/+zCT+HBPfD0cpyLcu9Lbr+Ps\n",
       "tRqOpVVQWDl2M05/bye2LA9lo2x3mTIV7dUcLjrN+Yq0McvDoz3D2B6zgRVBi+7YK0AIa5A/lUKI\n",
       "GSc6yN2caJfWdqA3GNHe5UqBu4Mbzy39Cv9x/nfm1/4z7Q1+tfXvcbV3mdR457J3jxaMmmRrNWpW\n",
       "JM4jdVkoKTE+cj7skEH9IEeKz/JJ3qd0DVruWw92C+DJpAdZHJA858vpxcwU5RlGuHswZe2mEvAz\n",
       "5Rd5KmkX9jbjSzgTIrx4bGM0758wddLv6dfz0jvp/PLbq6zyPnGjWeOxS5Wcy6xhYIxmjbZaNatS\n",
       "AkhdHkpihJf8fk4Bg9FgKg8vPEXuKCctgKk8/L7gxWyP3iCVPmLGm5RE22Aw8Oabb/L+++9TXV2N\n",
       "j48PjzzyCN/61rfQau/8LZ566inS09NHHXvhhRfYvVvKPYWYSyKH7dPW6Y1U3UVDtOGWBKawOWI1\n",
       "x0vPA9De38nvrrzF36z6a3lImiTZJSM7vUYEupG6LIR1i4JwuYeaHE01vdHA6bLP+CDnEK19litl\n",
       "fk7efCnxAVaFLEGtlvJTMXOpVCpSo9by+ytvAdCn6+d85RU2R64e99d4cst80gsazRVL2SUt7D1T\n",
       "zCMboqck5tG0dw1w6moVRy9VUN3YPea8yCA3UpeFsm5REM5yLNeU6Bro5kTpBY4Un6Glt23UOe72\n",
       "rmyJWsvmiNVy2oK4Z0xKov3CCy+wZ88eli5dyqZNm0hPT+eVV16hoKCAl19++Y73FxYWEhERwY4d\n",
       "OyzGEhMTJyNEIcQ9JDp4ZEO0ortsiDbcVxc+Rk5jIXXdjQBcqcnkZOkFNt3FQ6EYXUfQLo73AAAg\n",
       "AElEQVT3AHUtN1dlH90QxTP3S2n+cEbFyGeVV9mTvd98LNJwHvZuPJqwg40Rq9CqpTuxuDesDl3K\n",
       "m5kf0qczdd4+VnyWTRGrxv0Bpo1WzY+fWswPfnOaQb2pH8ebh/NYGOs7pcdgGYwKGYWNHL1UwaXs\n",
       "2xzLZa9l3aIgUpeHWjToFJOnvK2aT4tOca7ysvmkkFtFe4WzPXoDK4IWSnm4uOdM+E9seno6e/bs\n",
       "Yfv27bz00kvm1//2b/+WvXv3cubMGdatWzfm/TU1NXR3d/P444/z/PPPTzQcIcQsEDLPBRutGp3+\n",
       "ZkO0LXfZEO0Ge60d313xV/z9iRfN3Zz/fO194n1j8HfxnbSY56KCypErD4mR3laKZOZRFIX0umze\n",
       "vb6Xio4ai3FnWyceitvC1qj12Ek3fHGPsdfasS5sBZ8WnQagrL2K4tbyu+r0HOznwrMPJPC7j7MA\n",
       "0BsUfvXWVX7zg3WTfiRWQ2uv+Viu5va+MeclRnqxZehYLntbSeqmgsFo4HJNJoeLTpN3m/LwVcFL\n",
       "2Ba9XsrDxT1twu8ib731FiqVyiJJ/tGPfsTevXt5//33b5toFxQUABAbKw1fhBAmWo2aMH9Xiob2\n",
       "ad/Yr/1FRXmF8XjCTt7L3g/AgGGQVy/+if9v009kFXEC8m/Zmx0T4mGlSGaW3MZC3rm+l4KWUosx\n",
       "O60d98ds4oHYzTjaOlghOiEmx5bIteZEG+BI8Zm7PlJpx6pw0vIaSM83VRxV1nfxxsFcvvlQ0oTj\n",
       "0+kNXMyuHzqWq8ncfO1WHi43juUKIcBHmjVOlc6Bbk6UnOdoydkxy8M97N1IjVrL5sjVuNu7TnOE\n",
       "Qky+CSfaV69excPDg8jIyBGv+/r6EhYWxuXLl297f0FBASqVShJtIcQIUcHu5kS7vK7zCzVEG+7h\n",
       "uG1k1OdS0FwCQHFrOR/mHGJ30gOTEu9cVFBx82Ep0McJV6e5vTJb2lrBO1n7yKzPtRjTqrVsiVrL\n",
       "w3FbcZMHSDELBLn5E+8TbW5a9XnlVb624DFc7MafrKpUKr6/eyHPv3iKrl7TsYD7zpWyJM6PhbFf\n",
       "rOKooq6To2kVnLpSbf6at1KrYEncPFKXh7Akzm9Cf7eI2ytrq+Jw0SkuVFwe9QhDgFivCLbFrGd5\n",
       "oJSHi9llQn+aBwcHqa+vZ8GCBaOOBwYGUl5eTltbGx4eo6903Ei0r1y5wi9+8QvKyspwdXVl69at\n",
       "fO9738PZWT5dFGIuirqlIVplfRcRgV98755area7y5/hb478M316077Cj/IOs8A/nljvyDvcLW5l\n",
       "MCoUVd1MtGNDPa0YjXXVdNbzXtZ+LlZbNvVUqVRsCFvJYwk78Xaau/+NxOy0JWqdOdHWGfWcLrvI\n",
       "A/M339XX8HS157tfSuFf/nxzYea3717j1Z9sGPeHd739Os5l1HLsUoXFlpbh5nk5kroslE1Lg/Fy\n",
       "k4qSqaI36EmryeBI8RnymopHnaNVa7kvxNQ9PNLzi20NE2Kmm1Ci3dFh6hbp4jL6UTk3Xu/u7r5t\n",
       "om00Gnn11VfZunUrS5cu5fLly7zxxhtcvHiRd955Bycnp4mEKYS4B43WEG0iiTaAr7M3zy7azWtp\n",
       "rwOmfbSvXvwT/7H1FzjayEPX3ahq6KJv4OYxOPND517ZeFNPC+/nHORM+UWUUepSVwYvZnfi/QS4\n",
       "zrNCdEJMvWWBKbjZu9LR3wnAsZKz7Px/7N15dNX1gf//173JzUZ2luwLJCEBWcWCtAKiQFlsRa3Q\n",
       "2qK2zukMLdY5+mu1nRmnzjhTv3VcipVpv/126ohbYVRAW0fQWnBDhCiLkkACWS4Q1qyQ9d77+yPm\n",
       "5nOTG0i49+Zuz8c5nsPnfu7ytrRpXvf9fr/exdfJbBraDPHsyZlaODNX23bVSJLONbVp3f/s1f23\n",
       "XzVgwZrD4VB5db22flStdz89prYBjuWyRJr15cmZWnR1riaNGyUzRw36zKnzZ/VW5bt658gHamxv\n",
       "dvuclNgkLSroXh7O6h6EOo+CdldX9xKQqCj33zj2PN7e3u72vsPhUGJioiZOnKjf/va3Gj16tPPe\n",
       "P//zP2vDhg369a9/rfvvv9+TYQIIQjlproVoldYGSZ5/6z03f5b2nNivnbXds4+nzp/VM6Ub9YNZ\n",
       "t3v83uGk7/7scJrRbmhr0quf/6+2Vb6rLjdLIadnXKGVk76ucam5fhgdMHwiIyJ1/bgv65XP/1eS\n",
       "VNdyWvtPlmlq+sQhv9ff3DhJ+yvPqO7sBUnS+/uO6509tbruKtf/HTW29BzLVaPak+7DnCSNzUzU\n",
       "oll5HDXoY3a7XZ/WfaatFTv0yYnP5JD7zfDFowq0pOhazcyeTjcKwoZHQTs6OlqS1NnpvpK/o6N7\n",
       "b0xsrPuZIpPJpD/+8Y9u791///3asmWLXn/9dYI2EIYiI8wal5nkXAZ42OpZIVoPk8mk78+4TYfO\n",
       "HHGeZ/zXqg91ZeYkXZ1zpVc+IxwY92fHREUoL939yqZQcr7jgl4r36Y/HXpH7V39v0AuHlWg26bc\n",
       "qAmjh+8sYMDfFoybo1cPvulc1bG1YsdlBe24GIvuu22G7v/1u+o5des3r+zXxLEjNSYlTp8ePv3F\n",
       "sVwn1GVzH+biYiI1b3q2Fs3KU0F20qCPG8PQNbQ16S9H3tfble/p9IVzbp9jibA428P54hHhyKOg\n",
       "nZCQILPZrOZm998o9jw+0NLyi4mLi1N+fr7KysrU0dEx4Kz5pVCyBgSvguzeoF11vEmdXXZZIj0v\n",
       "rYmPHqEfzrpD//rXXzkf++3u5zV+5DilxnFm6mCU1/T+YlWUk6KIEC4Tau/q0BuH39Hmsq0633Gh\n",
       "3/285Gx9a/KNmp5xBb/YI+yMGpGqGRmTtfv4PknS7uP7dPZCvUbGDX07SUl+qlYsKNZL27pPpGlt\n",
       "79K//H6n2jpsOl0/8LFcV4wbqYUzc/WVKZmKiaZMy1ccDoc+P31Y2yp26KNjn8pmd79cPyN+jBYW\n",
       "ztG1+bMVH832TwSuXbt2DTor9pyUNRQe/TSyWCzKzMyU1Wp1e99qtSo1NVWJie73YDQ3N6uiokIp\n",
       "KSnKz8/vd7+trU1ms1kWi8WTYQIIUsZCtC6bXTV1TSrI9k4QnpxWohuKF+j18rckdc9WPr3rGf3D\n",
       "vB8NeX9huGlp7VTtyRbndXGI7s+22W165+iH2njgddW3Nfa7nxE/Risnf01X51zJf2cQ1hYVznUG\n",
       "bYfDobePvKcVky7vRIeVC8drT9lJ56kTxp81Rsnx0bruqhwtnJWr7DGhv6LGn853XND2qp3aVvmu\n",
       "jjXVuX2O2WTWl7KmamHBHE1KK+ZnIiAvHO81Y8YMbdmyRdXV1crL690/eerUKVVVVen6668f8LWf\n",
       "ffaZ7rzzTl133XVat26dy73Tp0+rtrZWEydO9GiGYCjfPqxatUq7du267M8C4F2FfQrRKqwNXgva\n",
       "kvStyV/X/rqDqm48Jknaf7Jcfz70jm4oHvjnFqRD1a6tvqEWtB0Ohz6t+0zPffqKaptO9Ls/MjZF\n",
       "37hiqeaNnc1eQ0DSlPQJShsxSifPn5EkvV35vm6euPSy/vcRGWHWfd+eoXse/6va+xScmU3SlSVp\n",
       "WjQrV1+amM6xXD525Fy1tlbs0Ps1u9Vuc39UWmpsshYUXKPrxn1FqbGsCENwmTlzptavX++z9/c4\n",
       "aC9fvlybN2/W448/rieffNIZih977DGZTCatWLFiwNfOmDFDo0aN0o4dO7R7925dddVVkrr3fP/L\n",
       "v/yLbDabvv3tb3s6RABBKjctQVGRZnV8UYhWYW3UV734/pYIi+6++rv66bZHnOd7vrBvkyanFSsv\n",
       "OduLnxRayqv7FqGFTtCuqrdq/d6Xtf9kWb97CdHxumnCYi0qnKuoCFZaAT3MJrMWFMzR8/telSTV\n",
       "tzVq97G9l917kTU6Xmu+MVVPvvSJbHaHxqTGadHMXF3/pVyNSuaECF9q7+rQ+zW7ta1yhyrPVQ/4\n",
       "vKnpE7WocK6uzJikCL5wBNzyOGjPnj1bS5cu1RtvvKGVK1dq1qxZKi0tVWlpqRYvXqx58+Y5n/vU\n",
       "U0/JZDJpzZo1krqXnj/88MNas2aN7rzzTi1ZskTJycn64IMPdOTIES1btkzLly/3dIgAglREhFlj\n",
       "s5KcxVsVtQOfj3q5cpOz9O2pN+mZTzZKkrrsXVq78w/6xcIHCFMDKDOcU5uWGqeUhBg/jsY7zl1o\n",
       "0EsHtmj70Z39WnOjI6L0tZIFuqF4AcfAAQOYP+7L2nDgNeeXllsrdnhUMHntjByV5KeqrcOm3LQE\n",
       "juXysWNNddpWsUPbq3bqfKf7/fAJUSM0f9yXtaBgjtLjR7t9DoBeXmmMePTRR1VUVKRXX31Vzz77\n",
       "rDIyMnTPPfforrvucnne008/LbPZ7AzaknTttdfqhRde0Lp167R9+3a1t7dr7Nix+qd/+ifddttt\n",
       "3hgegCBWmJ3sDNpVJ5rU2WWTJdK7354vLrpWn5w4oL11ByVJtY3H9cK+Tbpz+q1e/ZxQYLc7XJaO\n",
       "B/tsdltnm7aUb9NrZW/1WxppkknXjp2tlZO/xpJI4BISo+N1dc6Vere6ewvegVPlOtZUpywPzpFP\n",
       "H0mRli912bq069hebavcoc9OHRrwecUjx2lh4VxdnXMlX0ADQ+CVoB0REaHVq1dr9erVF31eWVn/\n",
       "pXiSNGXKFP3mN7/xxlAAhJjC7CTnn7tsDlWfaO63d9tTZpNZq2ferh//78Nq7jgvSfrzob/oyoxJ\n",
       "mpI+waufFeyOnW5RS2vvkY7BGrTtdrveOfqB/njgNTW0NfW7PyVtglZNu5ktBMAQLCqc6wzakrSt\n",
       "YofuvHLgLYTwjzPnz+mtI+/q7SMfqNHNzz9JiomM1ty8WVpYOIefg8Bl4gwEAAGtMMc1yFVYG7we\n",
       "tKXuQpfvf+nbeuz9/+t87Old/63/+Oo/KiE63uufF6zK+xShleSl+mkkl+/TE59r/d6XVdt4vN+9\n",
       "nMQMrZp2i6ZlXOGHkQHBbfzIccpLynIWTG6v2qlvTVmu6MjLO6IV3mO327X35OfaWrFDpScOOM89\n",
       "7ysvKUsLC+dqTt5MxVqCf1sQ4E8EbQABLWdMvKIsEero7G6frbA2+OyzZmVP1/yxX9Y7Rz+QJNW3\n",
       "Nuq3u5/XfV/+Pucjf6HcsD/bEmnW2Mykizw7sFQ3WPXc3lecWwSMkmMStXLS13Tt2NkU+wCXyWQy\n",
       "aVHhPP1uzwuSpPOdrXq/ZreuG/dlP48sfDW2Nemdox9qW+W7On3+rNvnWMyRmp0zQ4sK56po5Fj+\n",
       "/w7wEoI2gIAWEWHWuMxElfUUovkwaEvSd6ffqs9PH9bJltOSpF3WT/XXox9qPr8oSpLKqnobxwuz\n",
       "k2WJDPzjdc61NuiP+1/TX49+2K/oLCrCoq+XLNTXixcqhtkbwGNz8r6k5/a+otauNkndy8cJ2sPL\n",
       "4XCo7EyFtlbs0E7rJ7LZbW6flxY/WgsL5ujasbOVyMotwOsI2gACXmF2sjNoV/uoEK1HjCVGd8+6\n",
       "Uw/+5THZHd3Hiv3hkw2aMKYo7FtWL7R1qqaudz9foO/Pbutq15aybXqtbJvborN5Y6/WNyd9Xalx\n",
       "FJ0B3hJjidGc/JnaWrFDklRZX62Ks1UqHJnv34GFgQsdrdpR/ZG2VexQbdMJt88xm8y6KnOKFhXO\n",
       "1aS0YplNgf9lKRCsCNoAAp5xT3aXzaGqE00qyvFdyBs/apxumbhEGz/7k6TuwPbrnc/ooevuDetl\n",
       "xRXWBtkNE8KBGrTtdrv+WvWh/rj/NdW3Nfa7PzmtRKum3qL8FAp+AF9YVDDXGbQlaWvlDoK2Dx2t\n",
       "r9XWih16r+ZjtXe1u31OSmySrh93jRaMu4YvF4FhQtAGEPAKs11/KaiwNvo0aEvSzROX6NO6z3X4\n",
       "7FFJ0qGzR/Tqwf/VN65Y5tPPDWTBUIS2t+5zrf/0FdV8UcZklJ2YoVXTbta09CvYgwj4UG5yliaM\n",
       "LtTB0xWSpA9qduv2abcoPorjurylo6tDH9Tu0baKHTp8rmrA501Jm6BFhXN1ZeZkRYbxF8WAPxC0\n",
       "AQS87D6FaJU+3qctSRHmCN199Xf14zf/zTlD8D+f/VlT0yeqaORYn39+ICqr6g3aI5NiNCo51o+j\n",
       "cVXTcEzr976ivXWf97uXFJOolZNu0PyxXw7rFQnAcFpYMNcZtDtsndp+dKeWFV/v51EFv+PNJ7Wt\n",
       "4l39tepDne+44PY58VEjdO3Y2VpYMEcZCWOGeYQAehC0AQS8iAizCrKSdPCLIq7Dtb4P2pKUHj9a\n",
       "352+Qr/5eL0kye6w66mdf9AvF/0s7IqzHA6Hymt6i9ACZdl4fWuj/njgNb1z9IN+x9VERVh0Q/EC\n",
       "3ViyiGNqgGE2K3uaEqPj1dTeIql7+fjS8dexmuQydNlt2n1sr7ZV7tD+k+UDPm/8yHFaVDhXV2dP\n",
       "VxRHqgF+R9AGEBQKsnuDdk1dkzo6bYqy+H52cv7Y2So9sV+7rJ9KkupaTuuZT/9Hf/el7/j8swPJ\n",
       "yXMX1NjSWyhWnOvfZeNtXe16rWybtpS/1W9Pokkmzcu/Wisnf00j4wLjCwEg3FgiLLpu3Fe06eCb\n",
       "kqQTzad04FS5JqeV+HlkwePMhXN6u/J9/eXI+277JiQpOjJac/JmalHBXHongABD0AYQFIrcFKKN\n",
       "z/V9iDKZTPr+Vd/W4TNHnb/o/OXI+7oyY5JmZk/z+ecHirK++7Pz/RNgu4vOduqP+7cMUHRW/EXR\n",
       "WY4fRgfAaEHBHG0+uNV5rN7Wih0E7UuwO+zaV1emrZU7tOf4vn4rdXrkJGVqUcFczcmfqThL4Gzj\n",
       "AdCLoA0gKBT0KUSrtDYMS9CWpMToeP1g1u36t+1POR/77cfPqWjkWKXEJg3LGPyt3HB+doTZ1O/v\n",
       "Yzjsqzuo9Z++rGo3RWdZielaNfUWTc+g6AwIFGNGjNT0jCtUeuKAJOnjY3t1rrVBqbG0XvfV1N6i\n",
       "d458oLcq39XJ82fcPifSHKmrc67UooK5Kh41jp91QIAjaAMICtljEhQdFaH2ju5CtMO1DVoyjJ8/\n",
       "NX2ilhbN158PvyNJau44r3W7ntVP5/4wLM4hLavpndEem5Wk6GFYtt+jpuGYntv7ij51V3QWnaAV\n",
       "k76m68ZRdAYEokWFc51B2+6w6+3K93TrpBv8PKrA4HA4VH7miLZW7tDO2lJ12bvcPi9txCgtKJij\n",
       "+WNnKzEmYZhHCeByEbQBBIUIs0njMnv3aVda3e9X86XbpizX/pNlqm06Ian7KKk3D2/XkvHzh30s\n",
       "w6m906ajx3r/8y4ZppUEDa2N+uOB1/WXo+/3Wz5pibDoa8XX68aSr1J0BgSwaelXaHRcqk5f6P7Z\n",
       "/faR93XzxCVh/cWYw+HQR9ZP9PJnf3a7Qkfq3rY0I3OKFhXM1ZT0krD4QhcINQRtAEGjMCfZGbSr\n",
       "h7EQrUdUZJTuvvp7+tlb/8c58/Dc3lc0Ka1YOUmZwzaO4VZpbZDN3ht0i/N9W4TW1tWu18vf1uay\n",
       "rW6Lzubmz9I3J3+dojMgCJjNZi0snKsX9m2SJJ1rbdCe4/vDquPC6PNTh/X83lcGPPs6JSZJ1437\n",
       "iq4v+IpGxfm3dBKAZwjaAIJGoWFfsM0+fIVoRvkp2frW5Bu1fu/LkqROe5fW7vyD/n3BT2SJsAzr\n",
       "WIaL8fxsSSrx0dFedrtdO6o/0ov7N6u+tf+KhUljirVq2i0aS9EZEFTmj52tPx54TTZ799afrRU7\n",
       "wi5oWxtP6Pl9r2rP8f1u709OK9bCgrm6KmuqIsN4th8IJQRtAEGjMNu1eKxiGAvRjJYVX6dPThzQ\n",
       "gVPd55lWN1j10v4tWjXtlmEfy3Awnp+dFB+ltNQ4r3/GvrqDWr/3FVU3WPvd6y46u1nTMyZR/gME\n",
       "oaSYRF2dPV3v1+yWJO07eVAnmk8pI2GMn0fme+cuNGjDgdf0TtWH/bbARJjMur7gGi0tmq/MxHQ/\n",
       "jRCArxC0AQSNrDEJiomKUNsXhWgVtQ1+GYfZZNYPZ92h/+/Nh3W+44Ik6fXytzU94wpNCsGja8oN\n",
       "R3sV56Z6NezWNh7Xc3tf1SdflCUZJUbHa8Wkr+n6cV8J6/2cQChYVDjXGbQlaVvFDt0+/Rt+HJFv\n",
       "Xeho1aayN/XnQ39Rh62z3/0v58zQN6fcqPT40X4YHYDhQNAGEDQizCaNy0rS50e7Z1grrP4J2pI0\n",
       "Mi5F37/qNj3xwf+TJDnk0NMfPatHF/+D4qNG+G1c3namoVVnG9uc1946P7uhrUkb9r+mtwcoOrth\n",
       "/PW6ccIizocFQkTJqELlJGWqtvG4JOmdqg/1zclfV1RklJ9H5l1dti5trdyhlz/7s5o7zve7f8WY\n",
       "8fr2lJtUODJ/+AcHYFgRtAEElcLsZGfQrqlrVnunbViPmjKanTNDe/L3a0fVR5Kks631+t3uF/X3\n",
       "s+8KmSXOZdXnXK6LPdyf3d7VodfL39Lmsq1q61N0Jklz82bpm1O+TgkQEGJMJpMWFczV70tfkiSd\n",
       "77igD2r36Nqxs/08Mu+wO+z6sHaPXty3WafOn+13PycpU9+ecpOmZ1wRMv//AODiCNoAgkphTp9C\n",
       "tOONKs7zXyj73pUrdfB0hU5/8YvVh7V7NCNzsubmz/LbmLzJuGzcbHItpBsKu8OuHVUf6aX9W3Su\n",
       "tf9KhCvGjNeqqbdoXGruZY8VQGCbkz9Tz+171XmawNaKHSERtA+cLNNze1/VkfqafvdGxqZoxaQb\n",
       "NC//apnNHNEFhBOCNoCg0jfoVVj9G7TjLLG6e9Z39c/vPOZcAv37PS+pZHShxowY6bdxeYsxaOem\n",
       "JyouZujN6gdOlunZT19WlZuis8yENH1n6s2akTmZWR4gxMVZYjUnb6beqnxXklRxrkpHztUE7Rds\n",
       "1Q1WPb/3VX1a93m/e3GWWC2f8FUtLZofcsvjAQwOQRtAUMkcHa/Y6Ai1tvu3EM2oZHSBbpqwWK98\n",
       "/oYkqbWrTb/e+Qf9fP69QT2D0dlld9kHXzLE87OtTSf03KevqHTAorMbdN24azjKBggjiwrmOoO2\n",
       "JG2t3KG/S/2OH0c0dGfOn9MfD7ymHVUfySHXjolIc6QWF87TTRMXKyE63k8jBBAICNoAgkp3IVqy\n",
       "PjvSvVTbn4VoRt+4Ypn21n2uynPVkqSyM5XaVPambp64xM8ju3xHjzeqs8vuvC4e5FFqDW1N2njg\n",
       "db195H3ZHXaXe5YIi5aNv07LS76quCiKzoBwk5+SreKR41R+9ogk6f3qj7Vq6s0aEeX9YwO9raXj\n",
       "vDYdfFNvHHpHnfaufvevyZupb07+ekisZgLgOYI2gKBTkJ3kDNo1J/1biNYj0hyhu6/+ru5/89/V\n",
       "buuQJG088Lqmpk9UQWqeX8d2uYZahNbe1aE/HXpbmw6+6bbobE7eTH1r8o0aNYKiMyCcLSyc6wza\n",
       "7bYOba/aqaXjr/PzqAbWYevUm4e365WDbziPdDSakjZB3556k8am5PhhdAACFUEbQNApMuzTttsd\n",
       "Onq8USV+3KfdIzMhTXdM/4b+7+4XJEk2h11rd/6X/s+inykmMtrPoxs64/7sEbEWZY12vwzS7rDr\n",
       "3apdemn/Fp1tre93f+LoIt0+7RaNC9IvHAB419U5V+q/P9noPP5qW+W7WlI0P+B6GuwOu96r/lgv\n",
       "7d+iMxfO9bufl5yt70y9SVPTJ/phdAACHUEbQNAp6FOIVlnbEBBBW5KuH3eNSo8f0O7j+yRJJ5pP\n",
       "6dlPX9b3r7rNzyPrz+6wq72rQ21d7YZ/2px/3n/uE0Wktcpk7lLKmBj996cb+zy3+/lNbS1uA3Z3\n",
       "0dlNmpE5JeB+gQbgP1ERFs0f9xVtKdsqSTrWVKfPTx/WFWPG+3lkvfbWfa7n9r6qajcljqPjUrVy\n",
       "8td1Td6XZDYFbw8HAN8iaAMIOll9CtEOB8g+ban7rNi/+9J3dN+bD6uxrUmS9Fblu7oyY5Kuyppy\n",
       "2e9rs9vchFxDOO4c6J6bfzq7w3TPEvcBpUk9XblnJb1xeHBjTYiO161XLNOCgjkUnQFwa2HBNXqt\n",
       "bJuzTGxrxY6ACNpH62v13N5XtP9kWb97I6LidPOEJfpq0TxFRQz9BAYA4YWgDSDomPsUolVaG/08\n",
       "IleJMQn6wcxV+sWOp52P/ebj9fob+7fUaetyO3t8qX86bZ1+/DcaHIs5UkvHX6ebJiym6AzARaXF\n",
       "j9bU9AnOo7F2WT9RfWujUmKT/DKeUy1n9NL+LXqv5uN+9yzmSC0Zf52WT1ik+KgRfhgdgGBE0AYQ\n",
       "lIpyeoN2TV2T2jq6FBMVOD/SpmdM0lcL5+nNiu2SpKb2Fj3+we/8PKrLZzaZFRMZ3f8fS4xiIqM1\n",
       "ZsRILSyYo9G07QIYpEWFc51B2+aw6y9H3tctVywd1jE0t7folc//V29WbFdXnyZxk0yal3+1Vky+\n",
       "QaPiAmN7EoDgETi/lQLAEBj3adsdUtXxpiGf8+xr35l6sw6cKtexprph/dxIc6QzCMc6A3G0oiNj\n",
       "3IdlN//89uWDOlzVJIc9Utkjk7TuxwvZZw3Aq67MmKxRcanOorG3jrynmyYsltns+33PHV0d+vPh\n",
       "d7Tp4Ju60Nna7/70jCt025TlykvO9vlYAIQmgjaAoFSY7bq8sMLaEHBBOzoySvdcfZf+5a9PquWL\n",
       "dt2+oiIsiu0bgC3RinYJvpcIyBbDnyOiFRnh2Y92m82u6qrP5ejoPte2JHc0IRuA15nNZi0ouEYv\n",
       "7d8iSTp7oV6lJ/brqqypPvtMu92u7VU7teHA625LHAtS8vTtqTdpUlqxz8YAIDwQtAEEpcxR8YqN\n",
       "jlRre/dSv8O1gVOIZpSfkq21yx6StbFOURGWfqF4OGZuhqq6rlntHTbn9aXOzwaAy3Xd2C9r44HX\n",
       "ZXPYJUlvVuzwSdB2OBz65MQBPb9vk2obj/e7P2bESN02ZbmuzrmSJnEAXkHQBhCUzGaTCrKTdKCy\n",
       "pxAtMIO2JMVHjVDJ6AJ/D2PQyqtdz4slaAPwleTYJM3Mnq4Pa/dI6j5Wq67ltCaLlSUAACAASURB\n",
       "VNLjR3vtMyrOVun5fa/qs1OH+t1LiI7XLROXaFHBXI9XAwGAET9RAAStwuxkZ9CuPdmstvYuxUTz\n",
       "Y81TZdW9yyljoyOUm57ox9EACHVfLZzrDNpS95GI35l6s8fvW9dyWi/u2+zy3j2iIixaNv563Viy\n",
       "iFMSAPgEv5ECCFqFfQrRjh5v0oSxgbVPOxgZZ7SLclIUYWZ/NgDfmTC6SNmJGbI2nZAkvXPkA62Y\n",
       "9LXLPqu6sa1JL3/2hrZV7nAuSe9hMpk0f+yXteKKG5QalzzAOwCA5wjaAIJWYY7rL0kV1gaCtoea\n",
       "znfo2One4jaWjQPwNZPJpIUFc/SHTzZIkpo7zmtnbanm5s8a0vu0dbXrT+Vva0vZNrV2tfW7f1Xm\n",
       "FN02ZbmykzK8Mm4AuBiCNoCglTFyhOJiInWhrbsQrSKA92kHi0M1ri28JXl8cQHA9+blX60X9m1S\n",
       "u61DkrS1Ysegg7bNbtM7Rz/UxgOvq76tsd/9otR8fWfazZowusirYwaAiyFoAwhaZrNJBVnJ2l95\n",
       "RhJB2xvKq12DNjPaAIZDXFSsrsmbqbePvCdJOnT2iKrqrcpPGfgca4fDod3H9+mFvZt0rLmu3/2M\n",
       "+DH61pQbNSt7OkcUAhh2BG0AQa0wpzdoWylE81iZYX92xsgRSoqP9uNoAISTRYVznUFbkrZW7tD3\n",
       "r7rN7XMPnTmi9XtfUfmZyn73kqITdOukZbpu3DWKNEf4bLwAcDH8NgogqBVmJzn/bHdIR443auLY\n",
       "kX4cUfCy2x0uS8eZzQYwnMam5KgoNV+Hz1VJkt6t3qXvTL1JcZbeVvDjTXV6Yf9m7bJ+2u/10ZHR\n",
       "+lrxAn2teIFiLTHDNWwAcIugDSCo9StEq20gaF8m66lm5353iaANYPgtLJyrw7uqJEntXe3aUfWR\n",
       "Fhddq4bWRm387E96+8j7svdpEjebzFow7hp944qlSo5NcvOuADD8CNoAglrGyBEaEROp8xSieazv\n",
       "/myK0AAMty/nzNCzn76slo7u0w+2VuxQU3uLXit/S+1d7f2ePzN7mm6bfKMyE9OHe6gAcFEEbQBB\n",
       "zWQyqSA7WfsqegrR+jfOYnDKDEE7KtKs/MxEP44GQDiKiozStWNn6/XytyRJ1qYT+p/P/tTveSWj\n",
       "CvSdqTdr/Khxwz1EABgUgjaAoFdoCNrWU81qbe9SLIVoQ1ZuKEIrzElWZITZj6MBEK4WFsxxBu2+\n",
       "shLSddvU5boqcwpN4gACGr+JAgh6hdm9+7QdDunIsUZdMY592kNxoa1TNSebndfFLBsH4CcZCWM0\n",
       "NX2C9tYddD6WEpOkWyfdoPljZyuCJnEAQYCgDSDo9StEszYQtIfocE2DHI7e6xKK0AD40Z3TV+iX\n",
       "7/2n2jrb9dWieVo6/jrFRHLcIIDgQdAGEPTSR8ZpRKxF51s7JVGIdjmM52dLNI4D8K+sxHQ9ueTn\n",
       "ksQScQBBiQ14AIKeyWRSQVbvkS6VBO0hMxahjUqO1cik2Is8GwB8z2QyEbIBBC2CNoCQUGRYPm49\n",
       "1aILbZ1+HE1wcTgcLkd7MZsNAADgGYI2gJBQ0KcQ7ejxJj+OJricOHtezRc6nNecnw0AAOAZgjaA\n",
       "kFDUpxDtcC3LxwerrKre5ZoiNAAAAM8QtAGEhLTUOMXHWpzX7NMePOP52ZERJo0z7HcHAADA0BG0\n",
       "AYQEk8nkcp42M9qDV17TO6M9LitJURbOqAUAAPCEV4K2zWbTM888o2XLlmnq1KlasGCB1q1bp66u\n",
       "riG/l91u14oVK1RSUuKNoQEIIwXZvTOxx89QiDYYbR1dLvvZ2Z8NAADgOa8E7YceekiPPPKIUlNT\n",
       "dccddyg9PV1r167VfffdN+T3euaZZ7Rv3z6OcwAwZIU5roVoR441+nE0waGitkF2u8N5TeM4AACA\n",
       "5yI9fYPS0lJt2LBBS5Ys0RNPPOF8/IEHHtDmzZu1fft2zZs3b1DvVV1drbVr1xKyAVwW49JxSaqw\n",
       "NmhSwSg/jSY4GI/1kqRiZrQBAAA85vGM9vPPPy+TyaQ1a9a4PH7vvfdKkjZu3Djo9/rHf/xHpaWl\n",
       "KS8vz9NhAQhDfQvRKmqZ0b4U4/7s5IRojUmJ9eNoAAAAQoPHQXvPnj1KSUlRQUGBy+NjxoxRfn6+\n",
       "Pv7440G9z4svvqjdu3frX//1XxUTE+PpsACEIZPJ5LJ8vMJaf5Fnw+FwqKyqt3G8JC+FFUUAAABe\n",
       "4FHQ7ujoUF1dnXJzc93ez8rKUlNTk+rrL/7L7okTJ/Qf//EfuvXWWzVz5kxPhgQgzBmXjx87fZ5C\n",
       "tIs4Xd+q+uZ25zXLxgEAALzDo6Dd2Ni9LDMhIcHt/Z7HW1paLvo+Dz74oEaMGKGf/OQnngwHAPrt\n",
       "066kEG1A/fdnU4QGAADgDR4F7Z7ju6Kiotze73m8vb3d7X1J2rRpk9577z09+OCDio+P92Q4AOCy\n",
       "dFzqbtWGe2U1vcvGzWaTivp8SQEAAIDL41HreHR0tCSps9P90syOjg5JUmys+3Kds2fP6he/+IUW\n",
       "LlyoBQsWeDKUARUXF/vkfQEEpjEpsUqIs6j5QvfPpQorQXsgxhnt/IxExUR7fBAFAABAUNi1a9eg\n",
       "s2J5efmQ39+jGe2EhASZzWY1Nze7vd/z+EBLyx966CE5HA49+OCDngwDAJxMJpPL8nFmtN3r7LKp\n",
       "0tq7rJ5l4wAAAN7j0fSFxWJRZmamrFar2/tWq1WpqalKTEx0e3/r1q0ymUy65ppr+t0zmUwqKSlR\n",
       "VlaW3n777cse41C+fVi1apV27dp12Z8FIDAU5iTrk0OnJUnHz5zX+dZOjTAc+4XuvetdNrvzuoSg\n",
       "DQAAwsjMmTO1fv16n72/x+sEZ8yYoS1btqi6utrl/OtTp06pqqpK119//YCv7Xv2do+XXnpJZ8+e\n",
       "1d133z3gbDgADKRvIdqRY42aXDjKT6MJTP2L0GgcBwAA8BaPg/by5cu1efNmPf7443ryySedZ7A+\n",
       "9thjMplMWrFixYCvHShov/XWWzp79qx++MMfejo8AGGob9A+XNtA0O7DGLQT4izKHDXCj6MBAAAI\n",
       "LR4H7dmzZ2vp0qV64403tHLlSs2aNUulpaUqLS3V4sWLNW/ePOdzn3rqKZlMpgEDNgB4w+iUWCXE\n",
       "Ran5QnchYyWFaP2UVfc2jhfnpTq/JAUAAIDnPCpD6/Hoo4/qRz/6kRoaGvTss8/q7Nmzuueee/TL\n",
       "X/7S5XlPP/201q1bN6j35Jc+AJfLZDKpyHDM12GCtouzja06Xd/qvKYIDQAAwLu8cpZLRESEVq9e\n",
       "rdWrV1/0eWVlZYN6v02bNnljWADCWEF2kkrLT0mSTpw5r5bWTsVTiCZJOlTTZ392LkEbAADAm7wy\n",
       "ow0AgcY4oy2xfNzIuD/bZJLGE7QBAAC8iqANICQVZBO0B1JmCNo5aQkcfQYAAOBlBG0AIWl0cqwS\n",
       "R0Q5ryusjX4cTeDostl1uLb3SweWjQMAAHgfQRtASDKZTCo0LB+vqGVGW5KqTjSpo9PmvOb8bAAA\n",
       "AO8jaAMIWcbztE+cPa+WL477CmfG/dmSVJLPjDYAAIC3EbQBhKzCfvu0WT5uPD87LiZSOWMS/Dga\n",
       "AACA0ETQBhCy+gbtCgrRXGa0x+ekyGw2+XE0AAAAoYmgDSBkjUqOUVK8sRAtvIN2Y0u7Tpw577wu\n",
       "zmPZOAAAgC8QtAGELJPJ5DKrHe5B+1BN3/3ZFKEBAAD4AkEbQEgzBu26sxfCuhCtrE8R2niO9gIA\n",
       "APAJgjaAkGY84ksK71ntckMRWuaoES7njAMAAMB7CNoAQlr/QrTwbB632R06VNP7JQP7swEAAHyH\n",
       "oA0gpI1MilFyQrTzuqI2PGe0rSeb1dre5bxmfzYAAIDvELQBhDQK0boZz8+WpGL2ZwMAAPgMQRtA\n",
       "yCvITnL++eS5C2oOw0I04/nZUZYI5Wck+nE0AAAAoY2gDSDkFfXdpx2Gy8eNjeNFOcmKiODHPwAA\n",
       "gK/wmxaAkBfuzeMtrZ2qPdnsvC6hCA0AAMCnCNoAQl5qYoxSjIVoYRa0D9W4np9dnEcRGgAAgC8R\n",
       "tAGEPJPJpAKXQrTwOuLLuD9b4mgvAAAAXyNoAwgLxubxU+cuqOl8+BSilRsax8ekxCo1McaPowEA\n",
       "AAh9BG0AYaEoTPdpOxwOlxntEpaNAwAA+BxBG0BYMB7xJUmVYRK0j51uUUtrp/OaZeMAAAC+R9AG\n",
       "EBZGJsUqNbG3EO1wmBzxxf5sAACA4UfQBhA2jIVo4TKjbQzakRFmjctKusizAQAA4A0EbQBho8hY\n",
       "iFbfqsaWdj+OZngYg3ZhdpIskRF+HA0AAEB4IGgDCBsFfQrRKkP8mK/W9i5Vnej9d+T8bAAAgOFB\n",
       "0AYQNoxHfEmh3zxeUdsgu6P3mv3ZAAAAw4OgDSBspCbGuJwhHepBu8xwfrZE0AYAABguBG0AYcU4\n",
       "qx3qQdu4Pzs1MUajk2P9OBoAAIDwQdAGEFYKDfu0T4dwIZrD4XAJ2sV5KTKZTH4cEQAAQPggaAMI\n",
       "K4XZrsdbheqs9slzF9Rg+BKhhGXjAAAAw4agDSCshEshmnE2W6JxHAAAYDgRtAGElZTEGI1MMhSi\n",
       "1YZo0K7pDdoRZpMK+szkAwAAwHcI2gDCjmshWmiepV1W1ds4PjYzUTFRkX4cDQAAQHghaAMIO8ZC\n",
       "tDMNrWpoDq1CtPZOm44c6/0CgWXjAAAAw4ugDSDshPo+7SPWRtnsDuc152cDAAAML4I2gLDTd79y\n",
       "ZYgF7fKacy7XJcxoAwAADCuCNoCwk5IQo1GGQrTDIVaIVlbVW4SWOCJK6SPj/DgaAACA8EPQBhCW\n",
       "CgzLx0NuRru6d0a7OC9FJpPJj6MBAAAIPwRtAGGpyFiI1tim+uY2P47Ge840tOpMY++/C/uzAQAA\n",
       "hh9BG0BYKuhTiFYZIsd8Gc/PltifDQAA4A8EbQBhqW/zeKjs0zaen20yuc7cAwAAYHgQtAGEpeSE\n",
       "aI1KjnVeh8o+7fLq3hntvPRExcVY/DgaAACA8ETQBhC2Cg3HfIXCWdqdXXaXLwzYnw0AAOAfBG0A\n",
       "YavQsKz6bGOb6puCuxCt6kSjOrrszusSgjYAAIBfELQBhK2++7SDfVbbeH62JBVThAYAAOAXBG0A\n",
       "Yatf0A7yQjTj/uwRMZHKGh3vx9EAAACEL4I2gLCVFB+t0Sm9hWgVQX7EV3lNb+P4+NwUmc0mP44G\n",
       "AAAgfBG0AYQ146x2MC8db2huV93ZC87rknyWjQMAAPgLQRtAWDMG7XNNbToXpIVo5dXnXK5pHAcA\n",
       "APAfgjaAsBYqhWjlNa5FaONzCdoAAAD+QtAGENYKDGdpS8FbiGYsQssaHa+EuCg/jgYAACC8eSVo\n",
       "22w2PfPMM1q2bJmmTp2qBQsWaN26derq6hrU6ysqKrRmzRpdc801mj59um677TZt27bNG0MDgItK\n",
       "io/WGJdCtOAL2ja7Q4cMM9ol+cxmAwAA+JNXgvZDDz2kRx55RKmpqbrjjjuUnp6utWvX6r777rvk\n",
       "a8vKyvSNb3xD77//vubNm6eVK1fq1KlTuvvuu/Vf//Vf3hgeAFxUYY6hEC0IZ7Rr6prU1mFzXnN+\n",
       "NgAAgH9FevoGpaWl2rBhg5YsWaInnnjC+fgDDzygzZs3a/v27Zo3b96Ar//5z38um82mDRs2aMKE\n",
       "CZKke+65R8uXL9fatWt1yy23KCkpacDXA4CnCrOT9cG+E5Kk+uZ2nW1s1cik2Eu8KnCUVbvuzy6h\n",
       "CA0AAMCvPJ7Rfv7552UymbRmzRqXx++9915J0saNGwd8bUtLi9ra2jR//nxnyJak2NhYzZ8/X+3t\n",
       "7fr88889HSIAXFRBn0K0yiA7T9vYOB4TFaHctAQ/jgYAAAAez2jv2bNHKSkpKigocHl8zJgxys/P\n",
       "18cffzzga+Pj47Vp0ya39yorKyVJo0aN8nSIAHBRfZvHD9c2aOYV6X4azdAZi9DG56YoIoKeSwAA\n",
       "AH/y6Lexjo4O1dXVKTc31+39rKwsNTU1qb6+3u39vux2u2pqavTwww/r3Xff1fz581VUVOTJEAHg\n",
       "khJHRGlMapzzOpgK0ZovdMh6qsV5zfnZAAAA/ufRjHZjY/fyyoQE98sUex5vaWlRSsqlf/lbtWqV\n",
       "9uzZI0maMWOGHn/8cU+GBwCDVpSdrFPnLkjqDtoOh0Mmk8nPo7q0Q33Ozy7m/GwAAAC/82hGu+f4\n",
       "rqgo9+e19jze3t4+qPebNWuW7rrrLk2fPl179uzR7bffrqamJk+GCACDYjxPu6G5Xeea2vw4msEr\n",
       "71OERuM4AACA/3k0ox0dHS1J6uzsdHu/o6NDUne52WD86Ec/cv750Ucf1e9//3v96le/0j/90z9d\n",
       "9hiLi4sv+7UAwkdRjus+7YrahqBoHjcG7fSRcUpOiPbjaAAAAILDrl27Bp0Vy8vLh/z+Hs1oJyQk\n",
       "yGw2q7m52e39nscHWlp+MX//93+v2NhYvf32254MEQAGpW/z+OEg2KdttztcGseLc5nNBgAACAQe\n",
       "zWhbLBZlZmbKarW6vW+1WpWamqrExES39xsbG1VaWqrMzMx+3yZYLBaNHj1aJ0+e9GSIQ/r2YdWq\n",
       "Vdq1a5dHnwcgOCXERSktNU4nv9inHQxHfB073aLzbV3Oa4rQAAAABmfmzJlav369z97f4zNgZsyY\n",
       "oTNnzqi6utrl8VOnTqmqqkrTpk0b8LWVlZVavXq1nn766X73WlpadPz48QEbzQHA2woNy8crarsL\n",
       "0QKZcTZbImgDAAAECo+D9vLly+VwOPT444+7/FL62GOPyWQyacWKFQO+dtq0acrMzNRf/vIXZ9u4\n",
       "JNlsNv385z+XzWbTLbfc4ukQAWBQjOdpN7S062xjYBeilRn2Z0dFmjU2M+kizwYAAMBw8WjpuCTN\n",
       "nj1bS5cu1RtvvKGVK1dq1qxZKi0tVWlpqRYvXqx58+Y5n/vUU0/JZDJpzZo1kiSz2ax/+7d/09/+\n",
       "7d/qzjvv1JIlS5SSkqIPPvhAFRUVuvbaa3X77bd7OkQAGJSiPvu0K6wNGpUcuIVoxiK0guxkWSI9\n",
       "/u4UAAAAXuCV38oeffRR/ehHP1JDQ4OeffZZnT17Vvfcc49++ctfujzv6aef1rp161wemz17tl56\n",
       "6SVdc801+utf/6qXXnpJJpNJP/3pT7Vu3TqZzfziCGB4GI/4krqXjweqC22dqq7rPf6QZeMAAACB\n",
       "w+MZbUmKiIjQ6tWrtXr16os+r6yszO3jEydO1H/+5396YygAcNni46KUPjJOdWe7C9EqArh5/HBt\n",
       "g4xbyEs4PxsAACBgMF0MAAbGfdoV1sAtRDMuG5ekknxmtAEAAAIFQRsADIxBu7GlQ2caArMQrczQ\n",
       "OD4qKUYjkwJ3LzkAAEC4IWgDgIHxiC9JqrDWD/BM/3E4HC4z2sUsGwcAAAgoBG0AMCjo1zze6KeR\n",
       "DKzu7AU1ne9wXlOEBgAAEFgI2gBgEB9rUcaoEc7rQCxEKzcsG5coQgMAAAg0BG0A6MOlEK028ArR\n",
       "ygzLxiMjTBrX51gyAAAA+BdBGwD6KDQE16bzHTrd0OrH0fRnnNEem5mkaEuEH0cDAACAvgjaANBH\n",
       "v0K02sBZPt7W0aWjx5uc1+zPBgAACDwEbQDooyCrbyFa4ATtSmujbPbepezszwYAAAg8BG0A6GNE\n",
       "rEWZhkK0ygBqHu9bhMaMNgAAQOAhaAOAG8ZCtMMBVIhmLEJLjo9WWmqcH0cDAAAAdwjaAOCG8Tzt\n",
       "5gsdOl3v/0I0h8PhMqNdnJcik8nkxxEBAADAHYI2ALhR1KcQ7XAA7NM+09Cmc03tzmuWjQMAAAQm\n",
       "gjYAuDEuy/Vs6soACNplffZnU4QGAAAQmAjaAODGiFiLskb3FqIdDoAjvsoN+7PNpv7HkAEAACAw\n",
       "ELQBYADGfdqVVv8Xohn3Z+dlJCo2OtKPowEAAMBACNoAMADjPu3mC5065cdCtM4umyqP9R4zxrJx\n",
       "AACAwEXQBoABGGe0JanCj8vHjxxrVGeX3XlNERoAAEDgImgDwAAK+hSiVfixEM24P1siaAMAAAQy\n",
       "gjYADCAuxqKs0fHOa3/OaBuDdnysRZmj4i/ybAAAAPgTQRsALqLQsHy8wo+FaGU1vUG7OC9FZrPJ\n",
       "L+MAAADApRG0AeAijEdotbR26uS5C8M+hvqmNp0yfG4xRWgAAAABjaANABdRmO3/fdpl7M8GAAAI\n",
       "KgRtALiIcVlJMhlWaftjn7bx/GxJGp9L0AYAAAhkBG0AuIh+hWh+ntHOSUtQfKxl2McAAACAwSNo\n",
       "A8AlGAvRKq2Nw1qIZrPZddgwi17CsnEAAICAR9AGgEvwZyFa1YkmdXTanNfszwYAAAh8BG0AuATj\n",
       "jLYklxlmXyuv6VuERuM4AABAoCNoA8Al9C1EqxzGfdplVb1FaLHRkcpJSxi2zwYAAMDlIWgDwCXE\n",
       "Rkcqe0xvIdqwzmgbitDG5yYrwmy6yLMBAAAQCAjaADAIBS6FaA3DUojWdL5Dx8+cd16zbBwAACA4\n",
       "ELQBYBCKDEH7fFuXTpw9f5Fne8ehfvuzKUIDAAAIBgRtABiEgj6FaJW1jT7/TOP+bEkqziVoAwAA\n",
       "BAOCNgAMwrisJBm3R1cMQyGacX92xqgRSoqP9vlnAgAAwHMEbQAYhNjoSGWN6W389nXQttkdLkd7\n",
       "sWwcAAAgeBC0AWCQCrOTnH+utDbIbvddIZr1VLNa27uc1yUsGwcAAAgaBG0AGKTCHNdCtDofFqKV\n",
       "VfUpQsuncRwAACBYELQBYJAK+xSi+XL5eHl1bxFalCVC+RmJPvssAAAAeBdBGwAGaVxm30I03zWP\n",
       "G/dnF+UkKzKCH9cAAADBgt/cAGCQYqIjlZ1mKESr9c2M9vnWTtWebHZec6wXAABAcCFoA8AQGJeP\n",
       "Vx7zTSHaoZp6OQxvW5JP0AYAAAgmBG0AGAJj0L7Q1qUTPihEMy4bl6TxzGgDAAAEFYI2AAxBv0I0\n",
       "HywfL6/uDdqjU2I1MinW658BAAAA3yFoA8AQjM1K7FOI5t2g7XA4XBrH2Z8NAAAQfAjaADAEMVGR\n",
       "yjEWonk5aB8/c17NFzqd1yWcnw0AABB0CNoAMESFOYZCNGujVwvRjLPZklScx4w2AABAsCFoA8AQ\n",
       "Gfdpt7Z36fiZFq+9d5lhf3ZkhFkFWUlee28AAAAMD4I2AAxRv0I0a6PX3ttYhFaQlSRLZITX3hsA\n",
       "AADDg6ANAEOUn5kos6ERzVvN423tXao60eS8Lub8bAAAgKBE0AaAIYqJilSuDwrRDlsbXPZ7l+RS\n",
       "hAYAABCMCNoAcBmMy8ePHGvwSiGacdm4RBEaAABAsCJoA8BlKMzuLSlrbbfp2GnPC9GMjeMpCdEa\n",
       "nRLr8XsCAABg+HklaNtsNj3zzDNatmyZpk6dqgULFmjdunXq6uoa1OsPHDigH/zgB5o1a5YmTZqk\n",
       "hQsX6rHHHlNra6s3hgcAXleQ41qIVunh8nGHw+HSOF6SnyqTyXSRVwAAACBQeSVoP/TQQ3rkkUeU\n",
       "mpqqO+64Q+np6Vq7dq3uu+++S752586d+ta3vqX33ntPc+bM0e23366UlBT97ne/0x133KGOjg5v\n",
       "DBEAvGpsZpJLIdphD4P2qfpWNTS3O6+Lc1k2DgAAEKwiPX2D0tJSbdiwQUuWLNETTzzhfPyBBx7Q\n",
       "5s2btX37ds2bN2/A1z/00ENyOBx68cUXNWnSJOfjDz74oDZu3KgXXnhBd955p6fDBACvirZEKDct\n",
       "wdkSXunhEV/GZeMS+7MBAACCmccz2s8//7xMJpPWrFnj8vi9994rSdq4ceOAr62srNTRo0e1YMEC\n",
       "l5AtST/84Q/lcDj07rvvejpEAPCJIsPy8Uprg2weFKIZi9DMZlO/s7oBAAAQPDwO2nv27FFKSooK\n",
       "CgpcHh8zZozy8/P18ccfD/ja+Ph4/fjHP9bNN9/c757FYpEknT9/3tMhAoBPFBjCcFuHTcc9KEQr\n",
       "M8xoj81MVEy0xwuOAAAA4CceBe2Ojg7V1dUpNzfX7f2srCw1NTWpvr7e7f20tDTdddddmjt3br97\n",
       "27ZtkySNHz/ekyECgM8U9SlEu9zztDs6bTpyrHfpOfuzAQAAgptHQbuxsfsXw4SEBLf3ex5vaRna\n",
       "LM+ZM2e0du1amUwm3XrrrZ4MEQB8Jj8jURGGQrSK2ssL2keONarL1rvsvDgv1eOxAQAAwH88Cto9\n",
       "x3dFRUW5vd/zeHt7u9v77rS0tOj73/++zp07p9tvv12TJ0/2ZIgA4DNRlgjlpvd+0Xi5M9rGY70k\n",
       "qYQiNAAAgKDm0SbA6OhoSVJnZ6fb+z1Hc8XGxg7q/c6dO6e/+Zu/0cGDBzV//nzdf//9ngxPklRc\n",
       "XOzxewDAQAqzk3X0+BfN48caZbM7XGa5B8O4PzshLkoZo0Z4dYwAAABwtWvXrkFnxfLy8iG/v0cz\n",
       "2gkJCTKbzWpubnZ7v+fxgZaWG9XU1GjlypU6ePCgrr/+ev3qV7+S2eyVY74BwGcKDfu02ztsOnbK\n",
       "/c/DizE2jhfnpchkGlpQBwAAQGDxaEbbYrEoMzNTVqvV7X2r1arU1FQlJiZe9H0OHjyou+66S/X1\n",
       "9brpppv08MMPey1kD+Xbh1WrVmnXrl1e+VwA4aHvMVwV1kblpl/8Z57R2cZWnWlodV6zbBwAAMD3\n",
       "Zs6cqfXr1/vs/T1OszNmzNCZM2dUXV3t8vipU6dUVVWladOmXfT11dXV+t73vqf6+np997vf1b//\n",
       "+78zkw0gaPQrRBviPu3yPvuziwnaAAAAQc/jRLt8+XI5HA49/vjjcjh6W3Mfe+wxmUwmrVixYsDX\n",
       "OhwO3XvvvWpoaNAdd9yhn/zkJ54OBwCGVZQlQnmGGeyhNo8bi9BMJmk8R3sBAAAEPY+WjkvS7Nmz\n",
       "tXTpUr3xxhtauXKlZs2apdLSUpWWlmrx4sWaN2+e87lPPfWUTCaT1qxZI6n7rOzPPvtM0dHRiomJ\n",
       "0a9//et+7z9q1Ch985vf9HSYAOAzhTnJOnK8+7jDI8eHVohWbihCy01LonRLIQAAF/1JREFUUFyM\n",
       "xSdjBAAAwPDxOGhL0qOPPqqioiK9+uqrevbZZ5WRkaF77rlHd911l8vznn76aZnNZmfQ3r17t0wm\n",
       "kzo6OvTb3/7W7XuXlJQQtAEEtMLsJG39qPvP7R02WU81u8xyD6TLZneZAef8bAAAgNDglaAdERGh\n",
       "1atXa/Xq1Rd9XllZmcv1z372M/3sZz/zxhAAwG+MzeOSVGltGFTQrjrepI4uu/Oa/dkAAAChgdYx\n",
       "APBQfkaiIiN6l4ofHuQ+beP52RKN4wAAAKGCoA0AHrJERigvo3cGu9LaOKjXGRvH42IilT0mwetj\n",
       "AwAAwPAjaAOAFxjP06481iibzX6RZ3czBu3xuSkyD7JADQAAAIGNoA0AXlBgCNodnTZZT7Vc9PmN\n",
       "Le06cfa885r92QAAAKGDoA0AXlCU7VqIdql92sbZbEkqoXEcAAAgZBC0AcAL8jISXArRKq0XD9p9\n",
       "i9DG5zKjDQAAECoI2gDgBZbICOUbCtEqLhG0jTPaWaNHKHFElM/GBgAAgOFF0AYALzHu0z5yvGnA\n",
       "QjSb3aHDtb1Bu5hl4wAAACGFoA0AXlLYpxCtdoBCtJq6JrW225zXnJ8NAAAQWgjaAOAlhTmuhWgV\n",
       "tfVun9e3CI0ZbQAAgNBC0AYAL8lLT1RkRO+P1Qpro9vnGYN2dFSE8tITfD42AAAADB+CNgB4iSXS\n",
       "rPzMSxeildf0No4X5SQrIoIfxQAAAKGE3+4AwIuM+7SPHmvsV4jWcqFDtSd7925zfjYAAEDoIWgD\n",
       "gBe5FKJ12VVzstnl/qEa11nuYorQAAAAQg5BGwC8qDA7yeW6otY1WJdXn3O5Ls4laAMAAIQagjYA\n",
       "eFFuv0I016BdVtNbhDYmNU4piTHDNjYAAAAMD4I2AHiRJdKssQMUotntDpfGcc7PBgAACE0EbQDw\n",
       "MpdCtONN6vqiEO3Y6Radb+103mN/NgAAQGgiaAOAlxXm9Abtzi67ar8oRDPOZks0jgMAAIQqgjYA\n",
       "eJlxRluSDn9RiFZu2J/dvcTctTgNAAAAoYGgDQBelpueIEtk/0K0sqrexvHC7GSX5wAAACB08Fse\n",
       "AHhZZESfQrTaBl1o61RNXZPzMfZnAwAAhC6CNgD4QIFh+XjViSaVVdfL7ui9T9AGAAAIXQRtAPCB\n",
       "omzXQrRtH1W73C/OpQgNAAAgVBG0AcAHjM3jkvTh/hPOP49MitHolNjhHhIAAACGCUEbAHwgJy1B\n",
       "UYayM5th3TjLxgEAAEIbQRsAfKC7EM398V0sGwcAAAhtBG0A8JGC7AGCNjPaAAAAIY2gDQA+UtRn\n",
       "n7YkRZhN/fZvAwAAILQQtAHAR4xHfPUYm5WkaEuEH0YDAACA4ULQBgAfye1TiCZJJbksGwcAAAh1\n",
       "BG0A8JGICLPGZrnu02Z/NgAAQOgjaAOADxX2WT5ekk/jOAAAQKgjaAOAD82ZluX8c3FuitJS4/w4\n",
       "GgAAAAyHSH8PAABC2RXjRuqh789W1fFGzbsyWyaTyd9DAgAAgI8RtAHAx64sHqMri8f4exgAAAAY\n",
       "JiwdBwAAAADAiwjaAAAAAAB4EUEbAAAAAAAvImgDAAAAAOBFBG0AAAAAALyIoA0AAAAAgBcRtAEA\n",
       "AAAA8CKCNgAAAAAAXkTQBgAAAADAiwjaAAAAAAB4EUEbAAAAAAAvImgDAAAAAOBFBG0AAAAAALyI\n",
       "oA0AAAAAgBcRtAEAAAAA8CKCNgAAAAAAXuSVoG2z2fTMM89o2bJlmjp1qhYsWKB169apq6tryO/1\n",
       "zjvvqKSkRGVlZd4YGgAAAAAAw8orQfuhhx7SI488otTUVN1xxx1KT0/X2rVrdd999w3pfSorK/XT\n",
       "n/5UJpPJG8MCAAAAAGDYRXr6BqWlpdqwYYOWLFmiJ554wvn4Aw88oM2bN2v79u2aN2/eJd9n586d\n",
       "uvfee9XY2OjpkAAAAAAA8BuPZ7Sff/55mUwmrVmzxuXxe++9V5K0cePGi76+vb1d//AP/6Dvfe97\n",
       "cjgcmjhxoqdDAgAAAADAbzwO2nv27FFKSooKCgpcHh8zZozy8/P18ccfX/T1Z86c0csvv6z58+dr\n",
       "8+bNGj9+vKdDAgAAAADAbzxaOt7R0aG6ujpNmzbN7f2srCxVVVWpvr5eKSkpbp+TlJSkF198UdOn\n",
       "T/dkKAAAAAAABASPZrR79lMnJCS4vd/zeEtLy4DvER8fT8gGAAAAAIQMj4J2z/FdUVFRbu/3PN7e\n",
       "3u7JxwAAAAAAEDQ8CtrR0dGSpM7OTrf3Ozo6JEmxsbGefAwAAAAAAEHDoz3aCQkJMpvNam5udnu/\n",
       "5/GBlpYPh+Li4iG/5uDBg1q1apUPRgMAAAAA8JeDBw9Kknbt2jXorFheXj7kz/EoaFssFmVmZspq\n",
       "tbq9b7ValZqaqsTERE8+Ztg1Nzdr165d/h4GAAAAACAIeRS0JWnGjBnasmWLqqurlZeX53z81KlT\n",
       "qqqq0vXXX+/pR3hkKN8+9HyjkZaW5vLvguDQ8+XIzJkz/TwSDBV/d8GNv7/gxt9f8OLvLrjx9xe8\n",
       "+LsLbj1/fxMmTNCmTZt89jkeB+3ly5dr8+bNevzxx/Xkk0/KZDJJkh577DGZTCatWLHC40EOtx07\n",
       "dvh7CLgMPV+UrF+/3s8jwVDxdxfc+PsLbvz9BS/+7oIbf3/Bi7+74Nbz9+fLkC15IWjPnj1bS5cu\n",
       "1RtvvKGVK1dq1qxZKi0tVWlpqRYvXqx58+Y5n/vUU0/JZDJpzZo1nn4sAAAAAAAByeOgLUmPPvqo\n",
       "ioqK9Oqrr+rZZ59VRkaG7rnnHt11110uz3v66adlNpsJ2gAAAACAkOWVoB0REaHVq1dr9erVF31e\n",
       "WVnZJd/rF7/4hX7xi194Y1gAAAAAAAw7j87RBgAAAAAArgjaAAAAAAB4EUEbAAAAAAAvImgDAAAA\n",
       "AOBFBG0AAAAAALyIoA0AAAAAgBeZHA6Hw9+DAAAAAAAgVDCjDQAAAPz/7d17UJRVHwfw74KS5o0A\n",
       "NS+oILpLkFcUNQsNBp1URtAVoRBFQx2vSYmI6JB4HyR1xMFbuJKVYKhTmjKMqFiKSC7ayFiSIqEw\n",
       "5B2FFXzeP952X1Z22TWed581v58/z7O635nD7p7fc85zDhGRiFhoExEREREREYmIhTYRERERERGR\n",
       "iFhoExEREREREYmIhTYRERERERGRiFhoExEREREREYmIhTYRERERERGRiFhoExEREREREYmIhTYR\n",
       "ERERERGRiFhoExEREREREYmIhTYRERERERGRiFhoExEREREREYmIhTYRERERERGRiFho/62urg6p\n",
       "qakYM2YM+vbtCz8/PyQnJ6O2tlbqaGRCZWUlli9fjhEjRsDT0xPDhw/HZ599hps3b0odjV7QunXr\n",
       "oFAocP78eamjkJkOHz4MpVKJfv36Yfjw4Zg/fz6uX78udSwyw71797BixQq899578PT0xPvvv48N\n",
       "Gzagurpa6mhkQHl5Oby8vKBSqQxeP3jwIAIDA9G/f3/4+Phg7dq1ePz4sYVTkjGN9V9VVRXWr18P\n",
       "f39/eHp6wtvbG3PmzEFRUZEESel5pj579aWlpUGhUODgwYMWSEbmMNV/p06dQlhYGAYMGIAhQ4Zg\n",
       "xowZuHTpkijvzUL7b/Hx8Vi7di0cHBwQHh6ON998E5s3b0ZUVJTU0agRlZWVmDhxItLT09GzZ0+E\n",
       "h4ejT58++P7776FUKlFSUiJ1RDJTYWEhVCoVZDKZ1FHITElJSVi8eDEePnyI0NBQeHt7Izs7G8HB\n",
       "wSgrK5M6HjXi8ePHCAkJwf79+3XfnR07dsSuXbsQERGBZ8+eSR2R6nn8+DHmzZuHqqoqg9dTUlKw\n",
       "ZMkSCIKAsLAwuLu7IzU1FdOnT+eEgRVorP+qq6sRGhqKL7/8Eo6OjpgyZQqGDx+OkydPIjg4GL/8\n",
       "8osEiUnL1GevvrKyMmzcuJHjGCtiqv/279+PyMhIlJSUQKlUwtfXF/n5+QgNDcXly5ebHkAg4cKF\n",
       "C4JcLhcWLlyo1x4dHS0oFAohJydHomRkSlxcnKBQKITU1FS99kOHDglyuVyYPXu2RMnoRWg0GmHM\n",
       "mDGCQqEQFAqFkJeXJ3UkMkGtVgsKhUKYMmWKUFNTo2v/8ccfBblcLixdulTCdGTKrl27BLlcLqxZ\n",
       "s0av/dNPPxUUCoWQmZkpUTJ6XmlpqRAYGCjI5XJBoVAIe/bs0bv+559/Ch4eHkJISIhQW1ura9+0\n",
       "aZOgUCiEtLQ0S0emekz1X0pKiiCXy4XVq1frtZ8/f1546623hICAAEvGpXpM9d3zIiIidOMYfodK\n",
       "z1T/lZWVCX379hXGjh0r3Lt3T9euVqsFd3d3ITw8vMkZOKMN4KuvvoJMJsPcuXP12hctWgQASE9P\n",
       "lyIWmSE7OxuOjo4IDw/Xaw8ICEC3bt2Qm5srUTJ6Edu2bUNJSQmGDRsmdRQyk/Z7c+XKlbCzs9O1\n",
       "jxo1CsHBwejWrZuE6ciUy5cvQyaTISgoSK9dqVRCEASo1WqJklF9qampCAgIwNWrVzF06FCDr/n2\n",
       "229RV1eHmTNnwtbWVtc+a9YstGrVChkZGZaKS88xp/+ysrJgY2OD+fPn67V7eXlh8ODBuHr1Kioq\n",
       "KiwRl+oxp+/qO3DgAM6cOQMfHx8LpCNTzOm/9PR01NTUIDY2Fu3atdO19+nTBx9//DHc3d2bnKNZ\n",
       "k/+Hf4ELFy7gjTfeQM+ePfXaO3TogB49evB5USv17NkzzJo1C82aGf4ztrOzw9OnT/H06VM0b97c\n",
       "wunIXEVFRdi+fTtmz56N+/fv46effpI6Epnh9OnT6N27t8GCOj4+XoJE9CLs7e0B/HepY+/evXXt\n",
       "t2/fBgA4OjpKkov0qVQqdO3aFZ9//jmKi4vx888/N3hNfn4+AGDw4MF67XZ2dujXrx/OnDmDR48e\n",
       "oXXr1hbJTP9jTv+FhISgsrISrVq1anBNexOTz9pbnjl9p1VRUYF169YhKCgIcrkcOTk5lgtKBpnT\n",
       "f6dPn0bbtm0xZMiQBtc++eQTUXK88jPaGo0Gt2/fNjr70qVLFzx48AB37961cDIyxcbGBmFhYQgJ\n",
       "CWlw7dq1ayguLka3bt1YZFuxZ8+eITY2Fi4uLpg5c6bUcchMd+7cwZ07d+Dm5obi4mLMnTsXgwYN\n",
       "gpeXFxYsWIDS0lKpI5IJEyZMQPPmzbFmzRoUFBSguroa586dQ2JiItq1a9dgppuksXLlShw8eBB9\n",
       "+/Y1+pqSkhI4OjqiZcuWDa516dIFALhBoUTM6b+goCBERkY2aL979y7y8/PRsmVLXT+S5ZjTd1rx\n",
       "8fGws7PDkiVLAIDPaFsBc/rv999/h6urKyoqKhAdHY2hQ4eif//+mD59umgbEb7yhfb9+/cBAG3a\n",
       "tDF4Xdv+6NEji2WiphEEAStXroQgCAgODpY6DjVi586dKCoqwqpVq4yuTCDro13GWF5eDqVSibKy\n",
       "MkycOBEDBw7EsWPHMHnyZNy6dUvilNQYDw8P7N69G0+ePEFoaCj69euH8PBw2NraYt++fejcubPU\n",
       "EQnAO++8Y3LQfu/ePbRt29bgNe0Y5uHDh6JnI9PM6T9j1q9fj6qqKgQGBnLCQALm9t2RI0eQnZ2N\n",
       "ZcuWGf0ckuWZ6r+HDx/iyZMnqKmpgVKpRGFhIcaNG4cRI0bg3LlzCAkJwa+//trkHK98oa3djbP+\n",
       "M4b1adtramoslomaJi4uDmfPnsXbb7+NKVOmSB2HjPjjjz+wdetWhIaGok+fPlLHoRegXcaYn58P\n",
       "f39/HDhwANHR0UhJScGyZctQWVmJ1atXS5ySGnPnzh0kJiaisrISvr6+iIiIgLe3N27duoW4uDje\n",
       "XH6J1NbWmhzDaDQaS0aiJkpOTkZmZia6du2KhQsXSh2HjLh79y4SEhLg6+uL0aNHSx2HXoB2HHPl\n",
       "yhW4ubnh0KFDWLp0KZKSkrBlyxY8efIEcXFxTX6fV77Qfu211wAAT58+NXhd++NkaEkWWZe6ujrE\n",
       "xMQgIyMD3bt3x9atWzlLasViY2Ph5OTEI/ReQjY2//3psLW1RUxMjN5d4w8//BDOzs7IycnhDUor\n",
       "tmjRIly8eBFJSUnYunUrFi9ejD179iA6OhoFBQWiDDDIMlq0aMExzL/Ipk2bsHnzZjg4OCAlJcXo\n",
       "ikuSXkJCAjQaDVasWCF1FHpB2nEMAERHR+vdrBw5ciQGDx6MK1euNPmY4Fe+0G7Tpg1sbGyMLqvS\n",
       "tvOLzrpVV1dj9uzZyMzMhIuLC1QqFdq3by91LDIiLS0NBQUFWLFiBVq0aKFrFwRBwlRkLu33YZcu\n",
       "XRoslZPJZJDL5aitreVZ2laqvLwcZ8+exaBBgzBq1Ci9a1OnToWbmxuOHz/ODZheEm3btuUY5l9A\n",
       "u2fJtm3b4OTkhNTU1Aab9JL1OHHiBH744QdERUWhQ4cOunaOY14O2u/EZs2a6W0IqqXdcbyphfYr\n",
       "P93XvHlzdO7c2ejmPaWlpXBwcOBzF1bswYMHmDFjBgoLC+Hh4YEdO3bAwcFB6ljUiGPHjkEmkxnc\n",
       "AEYmkyEsLAwymQzZ2dl8VtQKOTs7w9bW1ugsmvaRHM6iWSft8/Ourq4Gr/fs2RPXrl1DeXk5XFxc\n",
       "LBmN/oEePXogPz8fGo2mwRLy0tJS2NjYoHv37hKlI3NoNBrMnz8fOTk5cHZ2xu7du+Hs7Cx1LGrE\n",
       "8ePHIZPJEB8f3+CkDZlMhiVLliAmJgYqlQqDBg2SKCUZ06JFC3To0AF//fUX6urq9I5GBP43jqk/\n",
       "GfRPvPKFNgAMHDgQhw8fxo0bN/R+jCoqKnD9+nX4+vpKmI4ao9FoEBkZiUuXLsHb2xvJyckGj8gg\n",
       "6zJhwgR4e3s3aD99+jQKCwsRGBiIrl278gaXlbKzs4OnpycKCwtx8+ZNvQFhXV0dioqKYG9vj44d\n",
       "O0qYkozRHt1lbCfqGzduQCaT8Yivl8TAgQORl5eH/Px8DBs2TNeu0WigVqvRq1cvvP766xImJFOi\n",
       "oqKQk5OD3r17Y/fu3XBycpI6Epng5+dncDd4tVqN3Nxc+Pn5wd3dnTvGWzEvLy8cPXoUeXl5Dc7a\n",
       "vnz5MmxtbeHm5tak92ChDWD8+PE4dOgQNm7ciC+++EL3vGFiYiJkMhkmTZokcUIyJjExERcvXsSA\n",
       "AQOwY8cOoxvCkHUZP368wfYHDx6gsLAQQUFBvANs5SZNmgS1Wo2EhAS9/RB27dqF27dvY9q0aTzi\n",
       "xEo5OzvDw8MDeXl5yM7O1ruZnJ6ejqKiIvj4+PBG10ti7NixSElJwZYtW+Dl5aX7Hdy2bRuqqqo4\n",
       "hrFyKpUKWVlZ6N69O1Qqle6Me7Juvr6+Bifi9uzZoyu0jY11yDpMmjQJR44cwYYNG7B3717dRN2R\n",
       "I0egVqvh7+/f5M8jC20AQ4cOxQcffICjR48iODgY3t7eKCgoQEFBAUaPHg0fHx+pI5IBlZWV2Ldv\n",
       "H2QyGVxcXLB9+3aDr4uMjGQBTiSyCRMm4MSJE8jOzsb48ePx7rvv4tq1azh16hRcXV0xZ84cqSNS\n",
       "I1atWoXw8HDMmzcPI0eOhIuLC4qKipCbm4uOHTti+fLlUkckM7m6uiIiIgI7d+5EYGAgRo4cid9+\n",
       "+w0nT56El5cXlEql1BHJCI1Gg+TkZN3eFmlpaQZfFxISwhUmLxE+p/1yGDJkCMLCwpCWloZx48bB\n",
       "398ft27dQlZWFtq3b4+YmJgmvwcL7b9t2LABvXr1QmZmJlQqFTp16oQFCxZg+vTpUkcjIy5evKh7\n",
       "huK7774z+rqpU6ey0Cb6P9i8eTP27t2LjIwM7Nu3D/b29vjoo48wb948tG7dWup41AiFQoGMjAwk\n",
       "JycjNzcXJ0+ehJOTEyZPnoy5c+dy6aqVMrZKJCoqCp06dcLXX3+NvXv3wsnJCdOmTcOcOXN4BrMV\n",
       "eb7/iouLcf/+fQBAVlYWsrKyDP47Pz8/FtoSe5EVWlzNZX2M9UlsbCw8PDyQlpaGb775Bq1atUJA\n",
       "QAAWLFiATp06Nf19Bd52ISIiIiIiIhLNK3+8FxEREREREZGYWGgTERERERERiYiFNhEREREREZGI\n",
       "WGgTERERERERiYiFNhEREREREZGIWGgTERERERERiYiFNhEREREREZGIWGgTERERERERiYiFNhER\n",
       "EREREZGIWGgTERERERERiYiFNhEREREREZGIWGgTERERERERiYiFNhEREREREZGIWGgTERERERER\n",
       "iYiFNhEREREREZGIWGgTERERERERiYiFNhEREREREZGI/gN/WPdchpYDSAAAAABJRU5ErkJggg==\n",
       "' width=493 height=348/>"
      ],
      "text/plain": [
       "<matplotlib.figure.Figure at 0x7f9b3c316590>"
      ]
     },
     "metadata": {},
     "output_type": "display_data"
    }
   ],
   "source": [
    "yhat = array([0.818365, 0.979900, 0.903600, 0.747150, 0.563700, 0.447650, 0.451500, 0.497000, 0.540000, 0.580000, 0.625000, 0.426000, 0.470500, 0.504000, 0.539000, 0.582130])\n",
    "\n",
    "y = array([0.934629, 0.993852, 0.984016, 0.911066, 0.549590, 0.142213, 0.514580, 0.545795, 0.566429, 0.586212, 0.614005, 0.497431, 0.529287, 0.550662, 0.569614, 0.596987])\n",
    "plt.plot(y)\n",
    "plt.plot(yhat)"
   ]
  },
  {
   "cell_type": "code",
   "execution_count": 460,
   "metadata": {
    "collapsed": false
   },
   "outputs": [
    {
     "data": {
      "text/plain": [
       "[1, 20000]"
      ]
     },
     "execution_count": 460,
     "metadata": {},
     "output_type": "execute_result"
    }
   ],
   "source": [
    "m.opt.simulator.counts"
   ]
  },
  {
   "cell_type": "code",
   "execution_count": 466,
   "metadata": {
    "collapsed": false
   },
   "outputs": [
    {
     "data": {
      "text/plain": [
       "2000"
      ]
     },
     "execution_count": 466,
     "metadata": {},
     "output_type": "execute_result"
    }
   ],
   "source": [
    "nss_per"
   ]
  },
  {
   "cell_type": "code",
   "execution_count": 470,
   "metadata": {
    "collapsed": false
   },
   "outputs": [
    {
     "data": {
      "text/plain": [
       "20000"
      ]
     },
     "execution_count": 470,
     "metadata": {},
     "output_type": "execute_result"
    }
   ],
   "source": [
    "m.fitparams['ntrials']"
   ]
  },
  {
   "cell_type": "code",
   "execution_count": 472,
   "metadata": {
    "collapsed": false
   },
   "outputs": [
    {
     "data": {
      "text/plain": [
       "10000"
      ]
     },
     "execution_count": 472,
     "metadata": {},
     "output_type": "execute_result"
    }
   ],
   "source": [
    "nss_per * nssd"
   ]
  },
  {
   "cell_type": "code",
   "execution_count": 474,
   "metadata": {
    "collapsed": false
   },
   "outputs": [
    {
     "data": {
      "text/plain": [
       "[1, 20000]"
      ]
     },
     "execution_count": 474,
     "metadata": {},
     "output_type": "execute_result"
    }
   ],
   "source": [
    "m.opt.simulator.counts"
   ]
  },
  {
   "cell_type": "code",
   "execution_count": 476,
   "metadata": {
    "collapsed": false
   },
   "outputs": [
    {
     "name": "stdout",
     "output_type": "stream",
     "text": [
      "(2, 107)\n"
     ]
    },
    {
     "data": {
      "text/plain": [
       "(2, 10000, 107)"
      ]
     },
     "execution_count": 476,
     "metadata": {},
     "output_type": "execute_result"
    }
   ],
   "source": [
    "DVg = m.opt.simulator.sim_fx(m.inits)\n",
    "ssd, nssd, nss, nss_per, ssd_ix = m.opt.simulator.ssd_info\n",
    "\n",
    "DVg[:, :nss, :].shape#.reshape(1, 5, 2000, 107)"
   ]
  },
  {
   "cell_type": "code",
   "execution_count": 461,
   "metadata": {
    "collapsed": false,
    "scrolled": false
   },
   "outputs": [
    {
     "name": "stdout",
     "output_type": "stream",
     "text": [
      "(2, 20000, 107)\n"
     ]
    },
    {
     "ename": "ValueError",
     "evalue": "total size of new array must be unchanged",
     "output_type": "error",
     "traceback": [
      "\u001b[1;31m---------------------------------------------------------------------------\u001b[0m",
      "\u001b[1;31mValueError\u001b[0m                                Traceback (most recent call last)",
      "\u001b[1;32m<ipython-input-461-e051469332a6>\u001b[0m in \u001b[0;36m<module>\u001b[1;34m()\u001b[0m\n\u001b[1;32m----> 1\u001b[1;33m \u001b[0mm\u001b[0m\u001b[1;33m.\u001b[0m\u001b[0moptimize\u001b[0m\u001b[1;33m(\u001b[0m\u001b[0mfit_cond\u001b[0m\u001b[1;33m=\u001b[0m\u001b[0mFalse\u001b[0m\u001b[1;33m)\u001b[0m\u001b[1;33m\u001b[0m\u001b[0m\n\u001b[0m",
      "\u001b[1;32m/home/kyle/Dropbox/Git/radd/radd/build.py\u001b[0m in \u001b[0;36moptimize\u001b[1;34m(self, fit_flat, fit_cond, multiopt)\u001b[0m\n\u001b[0;32m     49\u001b[0m         \u001b[1;32mfor\u001b[0m \u001b[0mi\u001b[0m\u001b[1;33m,\u001b[0m \u001b[0my\u001b[0m\u001b[1;33m,\u001b[0m \u001b[0mwts\u001b[0m \u001b[1;32min\u001b[0m \u001b[0miter_flat\u001b[0m\u001b[1;33m:\u001b[0m\u001b[1;33m\u001b[0m\u001b[0m\n\u001b[0;32m     50\u001b[0m             \u001b[0mself\u001b[0m\u001b[1;33m.\u001b[0m\u001b[0mset_fitparams\u001b[0m\u001b[1;33m(\u001b[0m\u001b[0midx\u001b[0m\u001b[1;33m=\u001b[0m\u001b[0mi\u001b[0m\u001b[1;33m,\u001b[0m \u001b[0my\u001b[0m\u001b[1;33m=\u001b[0m\u001b[0my\u001b[0m\u001b[1;33m,\u001b[0m \u001b[0mwts\u001b[0m\u001b[1;33m=\u001b[0m\u001b[0mwts\u001b[0m\u001b[1;33m)\u001b[0m\u001b[1;33m\u001b[0m\u001b[0m\n\u001b[1;32m---> 51\u001b[1;33m             \u001b[0mfinfo\u001b[0m\u001b[1;33m,\u001b[0m \u001b[0mpopt\u001b[0m\u001b[1;33m,\u001b[0m \u001b[0myhat\u001b[0m \u001b[1;33m=\u001b[0m \u001b[0mself\u001b[0m\u001b[1;33m.\u001b[0m\u001b[0moptimize_flat\u001b[0m\u001b[1;33m(\u001b[0m\u001b[0mp\u001b[0m\u001b[1;33m=\u001b[0m\u001b[0mpopt\u001b[0m\u001b[1;33m)\u001b[0m\u001b[1;33m\u001b[0m\u001b[0m\n\u001b[0m\u001b[0;32m     52\u001b[0m             \u001b[1;32mif\u001b[0m \u001b[0mfit_cond\u001b[0m \u001b[1;32mand\u001b[0m \u001b[1;32mnot\u001b[0m \u001b[0mself\u001b[0m\u001b[1;33m.\u001b[0m\u001b[0mis_flat\u001b[0m\u001b[1;33m:\u001b[0m\u001b[1;33m\u001b[0m\u001b[0m\n\u001b[0;32m     53\u001b[0m                 \u001b[0my\u001b[0m \u001b[1;33m=\u001b[0m \u001b[0mself\u001b[0m\u001b[1;33m.\u001b[0m\u001b[0mobserved\u001b[0m\u001b[1;33m[\u001b[0m\u001b[0mi\u001b[0m\u001b[1;33m]\u001b[0m\u001b[1;33m\u001b[0m\u001b[0m\n",
      "\u001b[1;32m/home/kyle/Dropbox/Git/radd/radd/build.py\u001b[0m in \u001b[0;36moptimize_flat\u001b[1;34m(self, p)\u001b[0m\n\u001b[0;32m     70\u001b[0m         \u001b[1;32mif\u001b[0m \u001b[0mself\u001b[0m\u001b[1;33m.\u001b[0m\u001b[0mmultiopt\u001b[0m\u001b[1;33m:\u001b[0m\u001b[1;33m\u001b[0m\u001b[0m\n\u001b[0;32m     71\u001b[0m             \u001b[1;31m# Global Optimization w/ Basinhopping (+TNC)\u001b[0m\u001b[1;33m\u001b[0m\u001b[1;33m\u001b[0m\u001b[0m\n\u001b[1;32m---> 72\u001b[1;33m             \u001b[0mp\u001b[0m \u001b[1;33m=\u001b[0m \u001b[0mself\u001b[0m\u001b[1;33m.\u001b[0m\u001b[0mopt\u001b[0m\u001b[1;33m.\u001b[0m\u001b[0mhop_around\u001b[0m\u001b[1;33m(\u001b[0m\u001b[0mp\u001b[0m\u001b[1;33m)\u001b[0m\u001b[1;33m\u001b[0m\u001b[0m\n\u001b[0m\u001b[0;32m     73\u001b[0m             \u001b[1;32mprint\u001b[0m\u001b[1;33m(\u001b[0m\u001b[1;34m'Finished Hopping Around'\u001b[0m\u001b[1;33m)\u001b[0m\u001b[1;33m\u001b[0m\u001b[0m\n\u001b[0;32m     74\u001b[0m \u001b[1;33m\u001b[0m\u001b[0m\n",
      "\u001b[1;32m/home/kyle/Dropbox/Git/radd/radd/fit.py\u001b[0m in \u001b[0;36mhop_around\u001b[1;34m(self, p)\u001b[0m\n\u001b[0;32m    104\u001b[0m         \u001b[0mp0\u001b[0m \u001b[1;33m=\u001b[0m \u001b[0mdict\u001b[0m\u001b[1;33m(\u001b[0m\u001b[0mdeepcopy\u001b[0m\u001b[1;33m(\u001b[0m\u001b[0mp\u001b[0m\u001b[1;33m)\u001b[0m\u001b[1;33m)\u001b[0m\u001b[1;33m\u001b[0m\u001b[0m\n\u001b[0;32m    105\u001b[0m         \u001b[0mp_init\u001b[0m \u001b[1;33m=\u001b[0m \u001b[0mdict\u001b[0m\u001b[1;33m(\u001b[0m\u001b[0mdeepcopy\u001b[0m\u001b[1;33m(\u001b[0m\u001b[0mp\u001b[0m\u001b[1;33m)\u001b[0m\u001b[1;33m)\u001b[0m\u001b[1;33m\u001b[0m\u001b[0m\n\u001b[1;32m--> 106\u001b[1;33m         \u001b[0mfmin0\u001b[0m \u001b[1;33m=\u001b[0m \u001b[0mself\u001b[0m\u001b[1;33m.\u001b[0m\u001b[0msimulator\u001b[0m\u001b[1;33m.\u001b[0m\u001b[0m__cost_fx__\u001b[0m\u001b[1;33m(\u001b[0m\u001b[0mp_init\u001b[0m\u001b[1;33m)\u001b[0m\u001b[1;33m\u001b[0m\u001b[0m\n\u001b[0m\u001b[0;32m    107\u001b[0m         \u001b[1;32mprint\u001b[0m\u001b[1;33m(\u001b[0m\u001b[1;34m\"default inits: fmin0=%.9f\"\u001b[0m \u001b[1;33m%\u001b[0m \u001b[1;33m(\u001b[0m\u001b[0mfmin0\u001b[0m\u001b[1;33m)\u001b[0m\u001b[1;33m)\u001b[0m\u001b[1;33m\u001b[0m\u001b[0m\n\u001b[0;32m    108\u001b[0m         \u001b[1;31m# sample random inits and select best of\u001b[0m\u001b[1;33m\u001b[0m\u001b[1;33m\u001b[0m\u001b[0m\n",
      "\u001b[1;32m/home/kyle/Dropbox/Git/radd/radd/models.py\u001b[0m in \u001b[0;36m__cost_fx__\u001b[1;34m(self, theta)\u001b[0m\n\u001b[0;32m    182\u001b[0m         \u001b[1;32melse\u001b[0m\u001b[1;33m:\u001b[0m\u001b[1;33m\u001b[0m\u001b[0m\n\u001b[0;32m    183\u001b[0m             \u001b[0mp\u001b[0m \u001b[1;33m=\u001b[0m \u001b[0mtheta\u001b[0m\u001b[1;33m.\u001b[0m\u001b[0mvaluesdict\u001b[0m\u001b[1;33m(\u001b[0m\u001b[1;33m)\u001b[0m\u001b[1;33m\u001b[0m\u001b[0m\n\u001b[1;32m--> 184\u001b[1;33m         \u001b[0myhat\u001b[0m \u001b[1;33m=\u001b[0m \u001b[0mself\u001b[0m\u001b[1;33m.\u001b[0m\u001b[0msim_fx\u001b[0m\u001b[1;33m(\u001b[0m\u001b[0mp\u001b[0m\u001b[1;33m,\u001b[0m \u001b[0manalyze\u001b[0m\u001b[1;33m=\u001b[0m\u001b[0mTrue\u001b[0m\u001b[1;33m)\u001b[0m\u001b[1;33m\u001b[0m\u001b[0m\n\u001b[0m\u001b[0;32m    185\u001b[0m         \u001b[1;32mreturn\u001b[0m \u001b[0mnp\u001b[0m\u001b[1;33m.\u001b[0m\u001b[0msum\u001b[0m\u001b[1;33m(\u001b[0m\u001b[0mself\u001b[0m\u001b[1;33m.\u001b[0m\u001b[0mwts\u001b[0m \u001b[1;33m*\u001b[0m \u001b[1;33m(\u001b[0m\u001b[0myhat\u001b[0m \u001b[1;33m-\u001b[0m \u001b[0mself\u001b[0m\u001b[1;33m.\u001b[0m\u001b[0my\u001b[0m\u001b[1;33m)\u001b[0m\u001b[1;33m**\u001b[0m\u001b[1;36m2\u001b[0m\u001b[1;33m)\u001b[0m\u001b[1;33m.\u001b[0m\u001b[0mastype\u001b[0m\u001b[1;33m(\u001b[0m\u001b[0mnp\u001b[0m\u001b[1;33m.\u001b[0m\u001b[0mfloat32\u001b[0m\u001b[1;33m)\u001b[0m\u001b[1;33m\u001b[0m\u001b[0m\n\u001b[0;32m    186\u001b[0m \u001b[1;33m\u001b[0m\u001b[0m\n",
      "\u001b[1;32m/home/kyle/Dropbox/Git/radd/radd/models.py\u001b[0m in \u001b[0;36msimulate_dpm\u001b[1;34m(self, p, analyze)\u001b[0m\n\u001b[0;32m    233\u001b[0m         \u001b[0mDVg\u001b[0m \u001b[1;33m=\u001b[0m \u001b[0mxtb\u001b[0m\u001b[1;33m[\u001b[0m\u001b[1;33m:\u001b[0m\u001b[1;33m,\u001b[0m \u001b[0mna\u001b[0m\u001b[1;33m]\u001b[0m \u001b[1;33m*\u001b[0m \u001b[0mcsum\u001b[0m\u001b[1;33m(\u001b[0m\u001b[0mnp\u001b[0m\u001b[1;33m.\u001b[0m\u001b[0mwhere\u001b[0m\u001b[1;33m(\u001b[0m\u001b[1;33m(\u001b[0m\u001b[0mrs\u001b[0m\u001b[1;33m(\u001b[0m\u001b[1;33m(\u001b[0m\u001b[0mnl\u001b[0m\u001b[1;33m,\u001b[0m \u001b[0mntot\u001b[0m\u001b[1;33m,\u001b[0m \u001b[0mTg\u001b[0m\u001b[1;33m.\u001b[0m\u001b[0mmax\u001b[0m\u001b[1;33m(\u001b[0m\u001b[1;33m)\u001b[0m\u001b[1;33m)\u001b[0m\u001b[1;33m)\u001b[0m\u001b[1;33m.\u001b[0m\u001b[0mT\u001b[0m \u001b[1;33m<\u001b[0m \u001b[0mPg\u001b[0m\u001b[1;33m)\u001b[0m\u001b[1;33m,\u001b[0m \u001b[0mdx\u001b[0m\u001b[1;33m,\u001b[0m \u001b[1;33m-\u001b[0m\u001b[0mdx\u001b[0m\u001b[1;33m)\u001b[0m\u001b[1;33m.\u001b[0m\u001b[0mT\u001b[0m\u001b[1;33m,\u001b[0m \u001b[0maxis\u001b[0m\u001b[1;33m=\u001b[0m\u001b[1;36m2\u001b[0m\u001b[1;33m)\u001b[0m\u001b[1;33m\u001b[0m\u001b[0m\n\u001b[0;32m    234\u001b[0m         \u001b[1;32mprint\u001b[0m\u001b[1;33m(\u001b[0m\u001b[0mDVg\u001b[0m\u001b[1;33m.\u001b[0m\u001b[0mshape\u001b[0m\u001b[1;33m)\u001b[0m\u001b[1;33m\u001b[0m\u001b[0m\n\u001b[1;32m--> 235\u001b[1;33m         \u001b[0mdvg_ss\u001b[0m \u001b[1;33m=\u001b[0m \u001b[0mDVg\u001b[0m\u001b[1;33m[\u001b[0m\u001b[1;33m:\u001b[0m\u001b[1;33m,\u001b[0m \u001b[1;33m:\u001b[0m\u001b[0mnss\u001b[0m\u001b[1;33m,\u001b[0m \u001b[1;33m:\u001b[0m\u001b[1;33m]\u001b[0m\u001b[1;33m.\u001b[0m\u001b[0mreshape\u001b[0m\u001b[1;33m(\u001b[0m\u001b[0mnl\u001b[0m\u001b[1;33m,\u001b[0m \u001b[0mnssd\u001b[0m\u001b[1;33m,\u001b[0m \u001b[0mnss_per\u001b[0m\u001b[1;33m,\u001b[0m \u001b[0mDVg\u001b[0m\u001b[1;33m.\u001b[0m\u001b[0mshape\u001b[0m\u001b[1;33m[\u001b[0m\u001b[1;33m-\u001b[0m\u001b[1;36m1\u001b[0m\u001b[1;33m]\u001b[0m\u001b[1;33m)\u001b[0m\u001b[1;33m\u001b[0m\u001b[0m\n\u001b[0m\u001b[0;32m    236\u001b[0m         \u001b[1;31m# initialize stop-process (DVs) FROM value of go-process (DVg) at t=SSD\u001b[0m\u001b[1;33m\u001b[0m\u001b[1;33m\u001b[0m\u001b[0m\n\u001b[0;32m    237\u001b[0m         \u001b[0minit_ss\u001b[0m \u001b[1;33m=\u001b[0m \u001b[0mnp\u001b[0m\u001b[1;33m.\u001b[0m\u001b[0marray\u001b[0m\u001b[1;33m(\u001b[0m\u001b[1;33m[\u001b[0m\u001b[0mdvg_ss\u001b[0m\u001b[1;33m[\u001b[0m\u001b[0mi\u001b[0m\u001b[1;33m,\u001b[0m \u001b[0mssd_ix\u001b[0m\u001b[1;33m,\u001b[0m \u001b[1;33m:\u001b[0m\u001b[1;33m,\u001b[0m \u001b[0mix\u001b[0m\u001b[1;33m]\u001b[0m \u001b[1;32mfor\u001b[0m \u001b[0mi\u001b[0m\u001b[1;33m,\u001b[0m \u001b[0mix\u001b[0m \u001b[1;32min\u001b[0m \u001b[0menumerate\u001b[0m\u001b[1;33m(\u001b[0m\u001b[0mss_on\u001b[0m\u001b[1;33m)\u001b[0m\u001b[1;33m]\u001b[0m\u001b[1;33m)\u001b[0m\u001b[1;33m[\u001b[0m\u001b[1;33m:\u001b[0m\u001b[1;33m,\u001b[0m\u001b[1;33m:\u001b[0m\u001b[1;33m,\u001b[0m\u001b[1;33m:\u001b[0m\u001b[1;33m,\u001b[0m\u001b[0mna\u001b[0m\u001b[1;33m]\u001b[0m\u001b[1;33m\u001b[0m\u001b[0m\n",
      "\u001b[1;31mValueError\u001b[0m: total size of new array must be unchanged"
     ]
    }
   ],
   "source": [
    "m.optimize(fit_cond=False)"
   ]
  },
  {
   "cell_type": "code",
   "execution_count": 415,
   "metadata": {
    "collapsed": false
   },
   "outputs": [
    {
     "data": {
      "text/plain": [
       "array([[ 0.2 ,  0.25,  0.3 ,  0.35,  0.4 ]])"
      ]
     },
     "execution_count": 415,
     "metadata": {},
     "output_type": "execute_result"
    }
   ],
   "source": [
    "\n",
    "\n",
    "np.mean(m.ssd[0], axis=0, keepdims=True)"
   ]
  },
  {
   "cell_type": "code",
   "execution_count": 402,
   "metadata": {
    "collapsed": false
   },
   "outputs": [
    {
     "data": {
      "text/plain": [
       "array([[ 0.9837,  1.    ,  1.    ,  0.947 ,  0.552 ,  0.107 ,  0.524 ,\n",
       "         0.548 ,  0.568 ,  0.584 ,  0.616 ,  0.512 ,  0.536 ,  0.548 ,\n",
       "         0.568 ,  0.592 ]])"
      ]
     },
     "execution_count": 402,
     "metadata": {},
     "output_type": "execute_result"
    }
   ],
   "source": [
    "yhat[:][None]"
   ]
  },
  {
   "cell_type": "code",
   "execution_count": 50,
   "metadata": {
    "collapsed": false
   },
   "outputs": [],
   "source": [
    "m = build.Model(data=redata, inits=popt_flat, kind='xdpm', fit_on='average', ssd_method='all')\n",
    "sim = m.opt.simulator\n",
    "\n",
    "fp = dict(deepcopy(m.fitparams))\n",
    "fp['ssd'] = m.ssd[0]\n",
    "sim.__update__(fp)\n",
    "p=dict(deepcopy(m.inits))"
   ]
  },
  {
   "cell_type": "code",
   "execution_count": 128,
   "metadata": {
    "collapsed": false
   },
   "outputs": [
    {
     "data": {
      "text/plain": [
       "[0.022360679774997897, 0.005, 0.1, 0.65361519999999995]"
      ]
     },
     "execution_count": 128,
     "metadata": {},
     "output_type": "execute_result"
    }
   ],
   "source": [
    "sim.steps"
   ]
  },
  {
   "cell_type": "code",
   "execution_count": 370,
   "metadata": {
    "collapsed": true
   },
   "outputs": [],
   "source": [
    "sim.__update_steps__(dt=.01, si=.1)\n"
   ]
  },
  {
   "cell_type": "code",
   "execution_count": 371,
   "metadata": {
    "collapsed": false
   },
   "outputs": [],
   "source": [
    "popt_flat = {'a': 0.5878,  'ssv': -1.1539, 'tr': 0.120, 'v': 0.95904, 'xb': 1.845}"
   ]
  },
  {
   "cell_type": "code",
   "execution_count": 372,
   "metadata": {
    "collapsed": true
   },
   "outputs": [],
   "source": [
    "p = popt_flat"
   ]
  },
  {
   "cell_type": "code",
   "execution_count": 373,
   "metadata": {
    "collapsed": true
   },
   "outputs": [],
   "source": [
    "go, stop = sim.sim_fx(p, analyze=False)"
   ]
  },
  {
   "cell_type": "code",
   "execution_count": 375,
   "metadata": {
    "collapsed": false
   },
   "outputs": [
    {
     "data": {
      "text/plain": [
       "0.35816112"
      ]
     },
     "execution_count": 375,
     "metadata": {},
     "output_type": "execute_result"
    }
   ],
   "source": [
    "sim.__cost_fx__(p)"
   ]
  },
  {
   "cell_type": "code",
   "execution_count": 374,
   "metadata": {
    "collapsed": false
   },
   "outputs": [
    {
     "name": "stdout",
     "output_type": "stream",
     "text": [
      "100 loops, best of 3: 12.1 ms per loop\n"
     ]
    }
   ],
   "source": [
    "%timeit sim.__cost_fx__(p)"
   ]
  },
  {
   "cell_type": "code",
   "execution_count": 346,
   "metadata": {
    "collapsed": false
   },
   "outputs": [],
   "source": [
    "ssd, nssd, nss, nss_per, ssd_ix = sim.ssd_info\n",
    "dx, dt, si, tb = sim.steps\n",
    "nl, ntot = sim.counts\n",
    "\n",
    "gdec = sim.go_resp(go, p['a'])\n",
    "sdec = sim.ss_resp(stop, p['a'])\n",
    "gort = sim.go_RT(p['tr'], gdec)\n",
    "ssrt = sim.ss_RT(ssd, sdec)\n",
    "ert = gort[:, :nss].reshape(nl, nssd, nss_per)\n",
    "\n",
    "eq = sim.RTQ(zip(ert, ssrt))\n",
    "gq = sim.RTQ(zip(gort, [tb] * nl))\n",
    "gacc = np.nanmean(np.where(gort < tb, 1, 0), axis=1)\n",
    "sacc = np.where(ert < ssrt, 0, 1).mean(axis=2)\n",
    "yhat = hs([hs([i[ii] for i in [gacc, sacc, gq, eq]]) for ii in range(nl)])"
   ]
  },
  {
   "cell_type": "code",
   "execution_count": 328,
   "metadata": {
    "collapsed": false
   },
   "outputs": [
    {
     "data": {
      "text/plain": [
       "array([ 0.9744,  1.    ,  0.998 ,  0.929 ,  0.514 ,  0.126 ,  0.516 ,\n",
       "        0.546 ,  0.564 ,  0.588 ,  0.616 ,  0.506 ,  0.532 ,  0.552 ,\n",
       "        0.568 ,  0.596 ])"
      ]
     },
     "execution_count": 328,
     "metadata": {},
     "output_type": "execute_result"
    }
   ],
   "source": [
    "yhat"
   ]
  },
  {
   "cell_type": "code",
   "execution_count": 300,
   "metadata": {
    "collapsed": false
   },
   "outputs": [
    {
     "data": {
      "text/plain": [
       "array([[ 0.61 ,  0.605,  0.61 , ...,  0.61 ,  0.565,  0.61 ]])"
      ]
     },
     "execution_count": 300,
     "metadata": {},
     "output_type": "execute_result"
    }
   ],
   "source": [
    "p['tr'][:, None] + (gdec*np.where(gdec==0, np.nan, 1))"
   ]
  },
  {
   "cell_type": "code",
   "execution_count": 297,
   "metadata": {
    "collapsed": false
   },
   "outputs": [],
   "source": [
    "x = np.where(gdec==0, np.nan, gdec + p['tr'][:, None])\n"
   ]
  },
  {
   "cell_type": "code",
   "execution_count": 292,
   "metadata": {
    "collapsed": false
   },
   "outputs": [
    {
     "data": {
      "text/plain": [
       "array([[ 0.61 ,  0.605,  0.61 , ...,  0.61 ,  0.565,  0.61 ]])"
      ]
     },
     "execution_count": 292,
     "metadata": {},
     "output_type": "execute_result"
    }
   ],
   "source": [
    "x"
   ]
  },
  {
   "cell_type": "code",
   "execution_count": 294,
   "metadata": {
    "collapsed": false
   },
   "outputs": [
    {
     "data": {
      "text/plain": [
       "989"
      ]
     },
     "execution_count": 294,
     "metadata": {},
     "output_type": "execute_result"
    }
   ],
   "source": [
    "np.size(x[np.isnan(x)])\n"
   ]
  },
  {
   "cell_type": "code",
   "execution_count": 302,
   "metadata": {
    "collapsed": false
   },
   "outputs": [
    {
     "data": {
      "text/plain": [
       "array([ 0.9011])"
      ]
     },
     "execution_count": 302,
     "metadata": {},
     "output_type": "execute_result"
    }
   ],
   "source": [
    "np.nanmean(np.where(gort < tb, 1, 0), axis=1)"
   ]
  },
  {
   "cell_type": "code",
   "execution_count": 257,
   "metadata": {
    "collapsed": false
   },
   "outputs": [
    {
     "data": {
      "text/plain": [
       "-0.22"
      ]
     },
     "execution_count": 257,
     "metadata": {},
     "output_type": "execute_result"
    }
   ],
   "source": [
    "x.min()"
   ]
  },
  {
   "cell_type": "code",
   "execution_count": 229,
   "metadata": {
    "collapsed": false
   },
   "outputs": [
    {
     "data": {
      "text/plain": [
       "989"
      ]
     },
     "execution_count": 229,
     "metadata": {},
     "output_type": "execute_result"
    }
   ],
   "source": [
    "gdec[gdec==0].size\n"
   ]
  },
  {
   "cell_type": "code",
   "execution_count": 230,
   "metadata": {
    "collapsed": false
   },
   "outputs": [
    {
     "data": {
      "text/plain": [
       "array([ 1.   ,  0.999,  0.916,  0.901,  0.89 ,  0.679,  0.525,  0.58 ,\n",
       "        0.595,  0.61 ,  0.635,  0.22 ,  0.22 ,  0.22 ,  0.55 ,  0.58 ])"
      ]
     },
     "execution_count": 230,
     "metadata": {},
     "output_type": "execute_result"
    }
   ],
   "source": [
    "yhat"
   ]
  },
  {
   "cell_type": "code",
   "execution_count": 221,
   "metadata": {
    "collapsed": false
   },
   "outputs": [
    {
     "data": {
      "text/plain": [
       "array([[78, 77, 78, ..., 78, 69, 78]])"
      ]
     },
     "execution_count": 221,
     "metadata": {},
     "output_type": "execute_result"
    }
   ],
   "source": [
    "np.argmax((go.T >= p['a']).T, axis=2)"
   ]
  },
  {
   "cell_type": "code",
   "execution_count": 133,
   "metadata": {
    "collapsed": false
   },
   "outputs": [
    {
     "data": {
      "text/plain": [
       "array([[[ 0.00707,  0.01414,  0.02122, ...,  0.43985,  0.45195,  0.46419],\n",
       "        [ 0.00707,  0.     ,  0.00707, ...,  0.55216,  0.5461 ,  0.53998],\n",
       "        [ 0.00707,  0.01414,  0.02122, ...,  0.51472,  0.52727,  0.53998],\n",
       "        ..., \n",
       "        [ 0.00707,  0.01414,  0.02122, ...,  0.57087,  0.58376,  0.57787],\n",
       "        [ 0.00707,  0.01414,  0.02122, ...,  0.58959,  0.60259,  0.59682],\n",
       "        [ 0.00707,  0.01414,  0.02122, ...,  0.62703,  0.64026,  0.65366]]])"
      ]
     },
     "execution_count": 133,
     "metadata": {},
     "output_type": "execute_result"
    }
   ],
   "source": [
    "go"
   ]
  },
  {
   "cell_type": "code",
   "execution_count": 109,
   "metadata": {
    "collapsed": false
   },
   "outputs": [
    {
     "data": {
      "text/plain": [
       "4.047327"
      ]
     },
     "execution_count": 109,
     "metadata": {},
     "output_type": "execute_result"
    }
   ],
   "source": [
    "sim.__cost_fx__(popt_flat)"
   ]
  },
  {
   "cell_type": "code",
   "execution_count": 63,
   "metadata": {
    "collapsed": false
   },
   "outputs": [
    {
     "data": {
      "text/plain": [
       "[0.0031622776601683794, 0.001, 0.01, 0.65361519999999995]"
      ]
     },
     "execution_count": 63,
     "metadata": {},
     "output_type": "execute_result"
    }
   ],
   "source": [
    "sim.steps"
   ]
  },
  {
   "cell_type": "code",
   "execution_count": 126,
   "metadata": {
    "collapsed": false
   },
   "outputs": [
    {
     "name": "stdout",
     "output_type": "stream",
     "text": [
      "10 loops, best of 3: 24.7 ms per loop\n"
     ]
    }
   ],
   "source": [
    "%timeit -n 10 sim.sim_fx(p)"
   ]
  },
  {
   "cell_type": "code",
   "execution_count": 89,
   "metadata": {
    "collapsed": false
   },
   "outputs": [],
   "source": [
    "data = dfhandler.data\n",
    "nacc = 2\n",
    "groups = dfhandler.groups\n",
    "dfvals = dfhandler.dfvals\n",
    "nlevels = dfhandler.nlevels\n",
    "nconds = dfhandler.nconds\n",
    "nsplits = nlevels * nconds\n",
    "nidx = dfhandler.data.idx.unique().size\n",
    "\n",
    "nrows = nidx * nconds * nlevels\n",
    "percentiles = dfhandler.percentiles\n",
    "nquant = percentiles.size\n",
    "quant_cols = np.asarray(percentiles*100).astype(int)\n",
    "\n",
    "# use martinz-jarett method to estimate quantile errs\n",
    "#quantdf = analyze.mj_quanterr(df=data, groups=groups, percentiles = percentiles)\n",
    "#quant_err = analyze.mj_quanterr(df=data, groups=groups, percentiles = percentiles)\n",
    "get_subject_cost_weights()"
   ]
  },
  {
   "cell_type": "code",
   "execution_count": 95,
   "metadata": {
    "collapsed": false
   },
   "outputs": [
    {
     "data": {
      "text/plain": [
       "(122, 10)"
      ]
     },
     "execution_count": 95,
     "metadata": {},
     "output_type": "execute_result"
    }
   ],
   "source": [
    "xxx = analyze.get_subject_cost_weights(dfhandler)\n",
    "xxx.shape"
   ]
  },
  {
   "cell_type": "code",
   "execution_count": null,
   "metadata": {
    "collapsed": true
   },
   "outputs": [],
   "source": []
  },
  {
   "cell_type": "code",
   "execution_count": 91,
   "metadata": {
    "collapsed": false
   },
   "outputs": [
    {
     "data": {
      "text/plain": [
       "(61, 20)"
      ]
     },
     "execution_count": 91,
     "metadata": {},
     "output_type": "execute_result"
    }
   ],
   "source": [
    "quant_err.shape"
   ]
  },
  {
   "cell_type": "code",
   "execution_count": 68,
   "metadata": {
    "collapsed": false
   },
   "outputs": [],
   "source": [
    "idx_medians = np.nanmedian(quant_err, axis=1)"
   ]
  },
  {
   "cell_type": "code",
   "execution_count": 76,
   "metadata": {
    "collapsed": false
   },
   "outputs": [
    {
     "data": {
      "text/plain": [
       "array([  1.65207e+00,   7.22586e+00,   1.00800e+00,   9.92130e-01,\n",
       "         7.69417e+02,   3.70060e-01,   7.92595e-01,   9.26808e-01,\n",
       "         1.08660e+00,   4.01223e-01])"
      ]
     },
     "execution_count": 76,
     "metadata": {},
     "output_type": "execute_result"
    }
   ],
   "source": [
    "x = idx_medians[:, None] / quant_err\n",
    "x[2]"
   ]
  },
  {
   "cell_type": "code",
   "execution_count": null,
   "metadata": {
    "collapsed": true
   },
   "outputs": [],
   "source": [
    "catdf = pd.DataFrame(categories, columns=groups, index=np.arange(nrows))\n",
    "errdf = pd.DataFrame(idx_qerr_ratio, columns=quant_cols, index=np.arange(nrows))\n",
    "quant_df = pd.concat([catdf, errdf], axis=1)"
   ]
  },
  {
   "cell_type": "code",
   "execution_count": 69,
   "metadata": {
    "collapsed": false
   },
   "outputs": [
    {
     "data": {
      "text/plain": [
       "array([ 0.00852,  0.00445,  0.00811,  0.0077 ,  0.00661,  0.00532,\n",
       "        0.00798,  0.00732,  0.00759,  0.00474,  0.00687,  0.00598,\n",
       "        0.00609,  0.00714,  0.00592,  0.00911,  0.00549,  0.00824,\n",
       "        0.00546,  0.00576,  0.00616,  0.0073 ,  0.0085 ,  0.00509,  0.00599])"
      ]
     },
     "execution_count": 69,
     "metadata": {},
     "output_type": "execute_result"
    }
   ],
   "source": [
    "idx_medians"
   ]
  },
  {
   "cell_type": "code",
   "execution_count": 34,
   "metadata": {
    "collapsed": false
   },
   "outputs": [],
   "source": [
    "idx_qwts = quantdf.loc[:, quant_cols].values.reshape(nidx, nacc*nsplits*nquant)"
   ]
  },
  {
   "cell_type": "code",
   "execution_count": null,
   "metadata": {
    "collapsed": true
   },
   "outputs": [],
   "source": [
    "idx_medians = np.nanmedian(idx_qerr, axis=1)\n",
    "\n",
    "# tile subject medians (nlevels*2)\n",
    "idx_tiled_medians = [np.tile(idxmed, nlevels * nacc) for idxmed in idx_medians]\n",
    "idx_tiled_medians = np.vstack(np.hstack(idx_tiled_medians))\n",
    "\n",
    "# divide idx median err value by quant_err vector\n",
    "idx_qerr_ratio = idx_tiled_medians / quant_err\n",
    "\n",
    "catdf = pd.DataFrame(categories, columns=groups, index=np.arange(nrows))\n",
    "errdf = pd.DataFrame(idx_qerr_ratio, columns=quant_cols, index=np.arange(nrows))\n",
    "quant_df = pd.concat([catdf, errdf], axis=1)\n",
    "\n",
    "quant_df['acc'] = pd.to_numeric(quant_df['acc'])\n",
    "quant_df_filled = quant_df.fillna({col: np.nanmean(quant_df[col]) for col in quant_cols})\n",
    "return quant_df_filled"
   ]
  },
  {
   "cell_type": "code",
   "execution_count": 56,
   "metadata": {
    "collapsed": false
   },
   "outputs": [
    {
     "data": {
      "text/plain": [
       "array([  4.90913e-03,   1.12239e-03,   8.04589e-03,   8.17456e-03,\n",
       "         1.05407e-05])"
      ]
     },
     "execution_count": 56,
     "metadata": {},
     "output_type": "execute_result"
    }
   ],
   "source": [
    "quant_err[4]"
   ]
  },
  {
   "cell_type": "code",
   "execution_count": 45,
   "metadata": {
    "collapsed": false
   },
   "outputs": [
    {
     "data": {
      "text/html": [
       "<div>\n",
       "<table border=\"1\" class=\"dataframe\">\n",
       "  <thead>\n",
       "    <tr style=\"text-align: right;\">\n",
       "      <th></th>\n",
       "      <th>idx</th>\n",
       "      <th>cond</th>\n",
       "      <th>ssd</th>\n",
       "      <th>ssd_perc</th>\n",
       "      <th>choice</th>\n",
       "      <th>response</th>\n",
       "      <th>acc</th>\n",
       "      <th>rt</th>\n",
       "      <th>trial</th>\n",
       "    </tr>\n",
       "    <tr>\n",
       "      <th>ttype</th>\n",
       "      <th></th>\n",
       "      <th></th>\n",
       "      <th></th>\n",
       "      <th></th>\n",
       "      <th></th>\n",
       "      <th></th>\n",
       "      <th></th>\n",
       "      <th></th>\n",
       "      <th></th>\n",
       "    </tr>\n",
       "  </thead>\n",
       "  <tbody>\n",
       "    <tr>\n",
       "      <th>go</th>\n",
       "      <td>14971</td>\n",
       "      <td>14971</td>\n",
       "      <td>14971</td>\n",
       "      <td>14971</td>\n",
       "      <td>14971</td>\n",
       "      <td>14971</td>\n",
       "      <td>14971</td>\n",
       "      <td>14971</td>\n",
       "      <td>14971</td>\n",
       "    </tr>\n",
       "    <tr>\n",
       "      <th>stop</th>\n",
       "      <td>1992</td>\n",
       "      <td>1992</td>\n",
       "      <td>1992</td>\n",
       "      <td>1992</td>\n",
       "      <td>1992</td>\n",
       "      <td>1992</td>\n",
       "      <td>1992</td>\n",
       "      <td>1992</td>\n",
       "      <td>1992</td>\n",
       "    </tr>\n",
       "  </tbody>\n",
       "</table>\n",
       "</div>"
      ],
      "text/plain": [
       "         idx   cond    ssd  ssd_perc  choice  response    acc     rt  trial\n",
       "ttype                                                                      \n",
       "go     14971  14971  14971     14971   14971     14971  14971  14971  14971\n",
       "stop    1992   1992   1992      1992    1992      1992   1992   1992   1992"
      ]
     },
     "execution_count": 45,
     "metadata": {},
     "output_type": "execute_result"
    }
   ],
   "source": [
    "udf.groupby('ttype').count()"
   ]
  },
  {
   "cell_type": "code",
   "execution_count": 51,
   "metadata": {
    "collapsed": false
   },
   "outputs": [
    {
     "data": {
      "text/html": [
       "<div>\n",
       "<table border=\"1\" class=\"dataframe\">\n",
       "  <thead>\n",
       "    <tr style=\"text-align: right;\">\n",
       "      <th></th>\n",
       "      <th>ssd_perc</th>\n",
       "      <th>rt</th>\n",
       "      <th>response</th>\n",
       "      <th>idx</th>\n",
       "      <th>ssd</th>\n",
       "      <th>choice</th>\n",
       "      <th>acc</th>\n",
       "    </tr>\n",
       "    <tr>\n",
       "      <th>trial_type</th>\n",
       "      <th></th>\n",
       "      <th></th>\n",
       "      <th></th>\n",
       "      <th></th>\n",
       "      <th></th>\n",
       "      <th></th>\n",
       "      <th></th>\n",
       "    </tr>\n",
       "  </thead>\n",
       "  <tbody>\n",
       "    <tr>\n",
       "      <th>go</th>\n",
       "      <td>15000</td>\n",
       "      <td>15000</td>\n",
       "      <td>15000</td>\n",
       "      <td>15000</td>\n",
       "      <td>15000</td>\n",
       "      <td>15000</td>\n",
       "      <td>15000</td>\n",
       "    </tr>\n",
       "    <tr>\n",
       "      <th>stop</th>\n",
       "      <td>2000</td>\n",
       "      <td>2000</td>\n",
       "      <td>2000</td>\n",
       "      <td>2000</td>\n",
       "      <td>2000</td>\n",
       "      <td>2000</td>\n",
       "      <td>2000</td>\n",
       "    </tr>\n",
       "  </tbody>\n",
       "</table>\n",
       "</div>"
      ],
      "text/plain": [
       "            ssd_perc     rt  response    idx    ssd  choice    acc\n",
       "trial_type                                                        \n",
       "go             15000  15000     15000  15000  15000   15000  15000\n",
       "stop            2000   2000      2000   2000   2000    2000   2000"
      ]
     },
     "execution_count": 51,
     "metadata": {},
     "output_type": "execute_result"
    }
   ],
   "source": [
    "df = pd.read_csv(_projects_path+\"/SSBayes/raw_beh/ssb_uniform.csv\")\n",
    "\n",
    "df.groupby('trial_type').count()"
   ]
  },
  {
   "cell_type": "code",
   "execution_count": 19,
   "metadata": {
    "collapsed": false
   },
   "outputs": [
    {
     "data": {
      "text/plain": [
       "[array([ 1.02307,  4.77681,  2.91528,  0.97795,  0.42289,  0.66927,\n",
       "         1.0513 ,  1.61556,  1.75639,  1.8922 ,  1.44567,  0.54987,\n",
       "         0.88271,  0.96535,  0.90907,  0.76002])]"
      ]
     },
     "execution_count": 19,
     "metadata": {},
     "output_type": "execute_result"
    }
   ],
   "source": [
    "m.flat_cost_wts"
   ]
  },
  {
   "cell_type": "code",
   "execution_count": 192,
   "metadata": {
    "collapsed": false
   },
   "outputs": [],
   "source": [
    "fp = dict(deepcopy(m.fitparams))\n",
    "\n",
    "#fp['y'] = m.observed_flat[0]\n",
    "#fp['wts'] = m.flat_cost_wts[0]\n",
    "fp['y'] = m.observed[0]\n",
    "fp['wts'] = m.cost_wts[0]\n",
    "\n",
    "m.make_simulator(fitparams=fp)"
   ]
  },
  {
   "cell_type": "code",
   "execution_count": 197,
   "metadata": {
    "collapsed": false
   },
   "outputs": [
    {
     "data": {
      "text/plain": [
       "2"
      ]
     },
     "execution_count": 197,
     "metadata": {},
     "output_type": "execute_result"
    }
   ],
   "source": [
    "m.simulator.nlevels"
   ]
  },
  {
   "cell_type": "code",
   "execution_count": 196,
   "metadata": {
    "collapsed": false
   },
   "outputs": [
    {
     "data": {
      "text/plain": [
       "{'a': 0.53625,\n",
       " 'ssv': -0.98396,\n",
       " 'tr': 0.17801,\n",
       " 'v': array([ 1.26,  1.26]),\n",
       " 'xb': 0.87761}"
      ]
     },
     "execution_count": 196,
     "metadata": {},
     "output_type": "execute_result"
    }
   ],
   "source": [
    "m.opt.simulator.pp"
   ]
  },
  {
   "cell_type": "code",
   "execution_count": 132,
   "metadata": {
    "collapsed": false
   },
   "outputs": [
    {
     "data": {
      "text/plain": [
       "{'a': 0.53625, 'ssv': -0.98396, 'tr': 0.17801, 'v': 1.26, 'xb': 0.87761}"
      ]
     },
     "execution_count": 132,
     "metadata": {},
     "output_type": "execute_result"
    }
   ],
   "source": [
    "m.opt.simulator.basin_params"
   ]
  },
  {
   "cell_type": "code",
   "execution_count": 199,
   "metadata": {
    "collapsed": false,
    "scrolled": true
   },
   "outputs": [
    {
     "name": "stdout",
     "output_type": "stream",
     "text": [
      "basinhopping step 0: f 0.0139281\n",
      "basinhopping step 1: f 0.0959623 trial_f 0.0959623 accepted 1  lowest_f 0.0139281\n",
      "basinhopping step 2: f 0.175186 trial_f 0.175186 accepted 1  lowest_f 0.0139281\n",
      "basinhopping step 3: f 0.426045 trial_f 0.426045 accepted 1  lowest_f 0.0139281\n",
      "basinhopping step 4: f 0.450122 trial_f 0.450122 accepted 1  lowest_f 0.0139281\n",
      "basinhopping step 5: f 0.289686 trial_f 0.289686 accepted 1  lowest_f 0.0139281\n",
      "basinhopping step 6: f 0.171246 trial_f 0.171246 accepted 1  lowest_f 0.0139281\n",
      "basinhopping step 7: f 0.0444394 trial_f 0.0444394 accepted 1  lowest_f 0.0139281\n",
      "basinhopping step 8: f 0.0444394 trial_f 0.212246 accepted 0  lowest_f 0.0139281\n",
      "basinhopping step 9: f 0.0163673 trial_f 0.0163673 accepted 1  lowest_f 0.0139281\n",
      "adaptive stepsize: acceptance rate 0.800000 target 0.500000 new stepsize 0.0666667 old stepsize 0.06\n",
      "basinhopping step 10: f 0.0464573 trial_f 0.0464573 accepted 1  lowest_f 0.0139281\n",
      "basinhopping step 11: f 0.132533 trial_f 0.132533 accepted 1  lowest_f 0.0139281\n",
      "basinhopping step 12: f 0.0214505 trial_f 0.0214505 accepted 1  lowest_f 0.0139281\n",
      "basinhopping step 13: f 0.0806826 trial_f 0.0806826 accepted 1  lowest_f 0.0139281\n",
      "basinhopping step 14: f 0.0126311 trial_f 0.0126311 accepted 1  lowest_f 0.0126311\n",
      "found new global minimum on step 14 with function value 0.0126311\n",
      "basinhopping step 15: f 0.0612793 trial_f 0.0612793 accepted 1  lowest_f 0.0126311\n",
      "basinhopping step 16: f 0.0267001 trial_f 0.0267001 accepted 1  lowest_f 0.0126311\n",
      "basinhopping step 17: f 0.0854678 trial_f 0.0854678 accepted 1  lowest_f 0.0126311\n",
      "basinhopping step 18: f 0.0854678 trial_f 0.616362 accepted 0  lowest_f 0.0126311\n",
      "warning: basinhopping: local minimization failure\n",
      "basinhopping step 19: f 0.0111061 trial_f 0.0111061 accepted 1  lowest_f 0.0111061\n",
      "found new global minimum on step 19 with function value 0.0111061\n",
      "adaptive stepsize: acceptance rate 0.850000 target 0.500000 new stepsize 0.0740741 old stepsize 0.0666667\n",
      "basinhopping step 20: f 0.172213 trial_f 0.172213 accepted 1  lowest_f 0.0111061\n",
      "basinhopping step 21: f 0.187126 trial_f 0.187126 accepted 1  lowest_f 0.0111061\n",
      "basinhopping step 22: f 0.0213774 trial_f 0.0213774 accepted 1  lowest_f 0.0111061\n",
      "warning: basinhopping: local minimization failure\n",
      "basinhopping step 23: f 0.0218308 trial_f 0.0218308 accepted 1  lowest_f 0.0111061\n",
      "basinhopping step 24: f 0.0245885 trial_f 0.0245885 accepted 1  lowest_f 0.0111061\n",
      "basinhopping step 25: f 0.0180232 trial_f 0.0180232 accepted 1  lowest_f 0.0111061\n",
      "basinhopping step 26: f 0.296735 trial_f 0.296735 accepted 1  lowest_f 0.0111061\n",
      "basinhopping step 27: f 0.560206 trial_f 0.560206 accepted 1  lowest_f 0.0111061\n",
      "basinhopping step 28: f 1.17098 trial_f 1.17098 accepted 1  lowest_f 0.0111061\n",
      "basinhopping step 29: f 0.464598 trial_f 0.464598 accepted 1  lowest_f 0.0111061\n",
      "adaptive stepsize: acceptance rate 0.900000 target 0.500000 new stepsize 0.0823045 old stepsize 0.0740741\n",
      "basinhopping step 30: f 0.017903 trial_f 0.017903 accepted 1  lowest_f 0.0111061\n",
      "basinhopping step 31: f 0.0157882 trial_f 0.0157882 accepted 1  lowest_f 0.0111061\n",
      "basinhopping step 32: f 0.0217976 trial_f 0.0217976 accepted 1  lowest_f 0.0111061\n",
      "basinhopping step 33: f 0.0790831 trial_f 0.0790831 accepted 1  lowest_f 0.0111061\n",
      "basinhopping step 34: f 0.0856443 trial_f 0.0856443 accepted 1  lowest_f 0.0111061\n",
      "basinhopping step 35: f 0.403077 trial_f 0.403077 accepted 1  lowest_f 0.0111061\n",
      "basinhopping step 36: f 0.176765 trial_f 0.176765 accepted 1  lowest_f 0.0111061\n",
      "basinhopping step 37: f 0.176765 trial_f 0.259206 accepted 0  lowest_f 0.0111061\n",
      "basinhopping step 38: f 0.0522546 trial_f 0.0522546 accepted 1  lowest_f 0.0111061\n",
      "basinhopping step 39: f 0.0186978 trial_f 0.0186978 accepted 1  lowest_f 0.0111061\n",
      "adaptive stepsize: acceptance rate 0.900000 target 0.500000 new stepsize 0.0914495 old stepsize 0.0823045\n",
      "basinhopping step 40: f 0.0661109 trial_f 0.0661109 accepted 1  lowest_f 0.0111061\n"
     ]
    },
    {
     "ename": "ValueError",
     "evalue": "total size of new array must be unchanged",
     "output_type": "error",
     "traceback": [
      "\u001b[0;31m---------------------------------------------------------------------------\u001b[0m",
      "\u001b[0;31mValueError\u001b[0m                                Traceback (most recent call last)",
      "\u001b[0;32m<ipython-input-199-6dda9bb57618>\u001b[0m in \u001b[0;36m<module>\u001b[0;34m()\u001b[0m\n\u001b[0;32m----> 1\u001b[0;31m \u001b[0mm\u001b[0m\u001b[0;34m.\u001b[0m\u001b[0mopt\u001b[0m\u001b[0;34m.\u001b[0m\u001b[0mbasinhopping_all_params\u001b[0m\u001b[0;34m(\u001b[0m\u001b[0mp\u001b[0m\u001b[0;34m=\u001b[0m\u001b[0mm\u001b[0m\u001b[0;34m.\u001b[0m\u001b[0minits\u001b[0m\u001b[0;34m,\u001b[0m \u001b[0mis_flat\u001b[0m\u001b[0;34m=\u001b[0m\u001b[0mFalse\u001b[0m\u001b[0;34m)\u001b[0m\u001b[0;34m\u001b[0m\u001b[0m\n\u001b[0m",
      "\u001b[0;32m/Users/kyle/Dropbox/Git/radd/fit.py\u001b[0m in \u001b[0;36mbasinhopping_all_params\u001b[0;34m(self, p, is_flat)\u001b[0m\n\u001b[1;32m    186\u001b[0m         \u001b[0mfuncmin\u001b[0m \u001b[0;34m=\u001b[0m \u001b[0mout\u001b[0m\u001b[0;34m.\u001b[0m\u001b[0mfun\u001b[0m\u001b[0;34m\u001b[0m\u001b[0m\n\u001b[1;32m    187\u001b[0m         \u001b[0;32mif\u001b[0m \u001b[0mnlevels\u001b[0m \u001b[0;34m>\u001b[0m \u001b[0;36m1\u001b[0m\u001b[0;34m:\u001b[0m\u001b[0;34m\u001b[0m\u001b[0m\n\u001b[0;32m--> 188\u001b[0;31m             \u001b[0mxopt\u001b[0m \u001b[0;34m=\u001b[0m \u001b[0marray\u001b[0m\u001b[0;34m(\u001b[0m\u001b[0;34m[\u001b[0m\u001b[0mxopt\u001b[0m\u001b[0;34m]\u001b[0m\u001b[0;34m)\u001b[0m\u001b[0;34m.\u001b[0m\u001b[0mreshape\u001b[0m\u001b[0;34m(\u001b[0m\u001b[0mlen\u001b[0m\u001b[0;34m(\u001b[0m\u001b[0mbasin_keys\u001b[0m\u001b[0;34m)\u001b[0m\u001b[0;34m,\u001b[0m \u001b[0mnlevels\u001b[0m\u001b[0;34m)\u001b[0m\u001b[0;34m\u001b[0m\u001b[0m\n\u001b[0m\u001b[1;32m    189\u001b[0m         \u001b[0;32mfor\u001b[0m \u001b[0mi\u001b[0m\u001b[0;34m,\u001b[0m \u001b[0mk\u001b[0m \u001b[0;32min\u001b[0m \u001b[0menumerate\u001b[0m\u001b[0;34m(\u001b[0m\u001b[0mbasin_keys\u001b[0m\u001b[0;34m)\u001b[0m\u001b[0;34m:\u001b[0m\u001b[0;34m\u001b[0m\u001b[0m\n\u001b[1;32m    190\u001b[0m             \u001b[0mp\u001b[0m\u001b[0;34m[\u001b[0m\u001b[0mk\u001b[0m\u001b[0;34m]\u001b[0m \u001b[0;34m=\u001b[0m \u001b[0mxopt\u001b[0m\u001b[0;34m[\u001b[0m\u001b[0mi\u001b[0m\u001b[0;34m]\u001b[0m\u001b[0;34m\u001b[0m\u001b[0m\n",
      "\u001b[0;31mValueError\u001b[0m: total size of new array must be unchanged"
     ]
    }
   ],
   "source": [
    "m.opt.basinhopping_all_params(p=m.inits, is_flat=False)"
   ]
  },
  {
   "cell_type": "code",
   "execution_count": null,
   "metadata": {
    "collapsed": true
   },
   "outputs": [],
   "source": []
  },
  {
   "cell_type": "code",
   "execution_count": 95,
   "metadata": {
    "collapsed": true
   },
   "outputs": [],
   "source": [
    "m.__get_default_inits__()"
   ]
  },
  {
   "cell_type": "code",
   "execution_count": 101,
   "metadata": {
    "collapsed": false
   },
   "outputs": [
    {
     "data": {
      "text/plain": [
       "0.003897981"
      ]
     },
     "execution_count": 101,
     "metadata": {},
     "output_type": "execute_result"
    }
   ],
   "source": [
    "m.simulator.__cost_fx__(m.inits)"
   ]
  },
  {
   "cell_type": "code",
   "execution_count": 96,
   "metadata": {
    "collapsed": false
   },
   "outputs": [
    {
     "data": {
      "text/plain": [
       "{'a': 0.53625, 'ssv': -0.98396, 'tr': 0.17801, 'v': 1.26, 'xb': 0.87761}"
      ]
     },
     "execution_count": 96,
     "metadata": {},
     "output_type": "execute_result"
    }
   ],
   "source": [
    "m.inits"
   ]
  },
  {
   "cell_type": "code",
   "execution_count": 93,
   "metadata": {
    "collapsed": false
   },
   "outputs": [
    {
     "data": {
      "text/plain": [
       "{'a': 0.53625, 'ssv': -0.98396, 'tr': 0.17801, 'v': 1.26, 'xb': 0.87761}"
      ]
     },
     "execution_count": 93,
     "metadata": {},
     "output_type": "execute_result"
    }
   ],
   "source": [
    "m.inits"
   ]
  },
  {
   "cell_type": "code",
   "execution_count": 79,
   "metadata": {
    "collapsed": true
   },
   "outputs": [
    {
     "name": "stdout",
     "output_type": "stream",
     "text": [
      "basinhopping step 0: f 0.0135042\n",
      "basinhopping step 1: f 0.0135042 trial_f 0.275614 accepted 0  lowest_f 0.0135042\n",
      "basinhopping step 2: f 0.0288603 trial_f 0.0288603 accepted 1  lowest_f 0.0135042\n",
      "basinhopping step 3: f 0.004954 trial_f 0.004954 accepted 1  lowest_f 0.004954\n",
      "found new global minimum on step 3 with function value 0.004954\n",
      "basinhopping step 4: f 0.0231857 trial_f 0.0231857 accepted 1  lowest_f 0.004954\n",
      "basinhopping step 5: f 0.0508309 trial_f 0.0508309 accepted 1  lowest_f 0.004954\n",
      "basinhopping step 6: f 0.0101539 trial_f 0.0101539 accepted 1  lowest_f 0.004954\n",
      "basinhopping step 7: f 0.0201266 trial_f 0.0201266 accepted 1  lowest_f 0.004954\n",
      "basinhopping step 8: f 0.0885562 trial_f 0.0885562 accepted 1  lowest_f 0.004954\n",
      "basinhopping step 9: f 0.00584813 trial_f 0.00584813 accepted 1  lowest_f 0.004954\n",
      "adaptive stepsize: acceptance rate 0.800000 target 0.500000 new stepsize 0.0666667 old stepsize 0.06\n",
      "basinhopping step 10: f 0.0176207 trial_f 0.0176207 accepted 1  lowest_f 0.004954\n",
      "basinhopping step 11: f 0.230001 trial_f 0.230001 accepted 1  lowest_f 0.004954\n",
      "basinhopping step 12: f 0.48614 trial_f 0.48614 accepted 1  lowest_f 0.004954\n",
      "basinhopping step 13: f 0.173211 trial_f 0.173211 accepted 1  lowest_f 0.004954\n",
      "basinhopping step 14: f 1.12616 trial_f 1.12616 accepted 1  lowest_f 0.004954\n",
      "basinhopping step 15: f 1.18032 trial_f 1.18032 accepted 1  lowest_f 0.004954\n",
      "basinhopping step 16: f 1.25691 trial_f 1.25691 accepted 1  lowest_f 0.004954\n",
      "basinhopping step 17: f 1.25691 trial_f 1.59561 accepted 0  lowest_f 0.004954\n",
      "basinhopping step 18: f 1.12688 trial_f 1.12688 accepted 1  lowest_f 0.004954\n",
      "basinhopping step 19: f 0.345386 trial_f 0.345386 accepted 1  lowest_f 0.004954\n",
      "adaptive stepsize: acceptance rate 0.850000 target 0.500000 new stepsize 0.0740741 old stepsize 0.0666667\n",
      "basinhopping step 20: f 0.0621728 trial_f 0.0621728 accepted 1  lowest_f 0.004954\n",
      "basinhopping step 21: f 0.272801 trial_f 0.272801 accepted 1  lowest_f 0.004954\n",
      "basinhopping step 22: f 0.351282 trial_f 0.351282 accepted 1  lowest_f 0.004954\n",
      "warning: basinhopping: local minimization failure\n",
      "basinhopping step 23: f 0.326993 trial_f 0.326993 accepted 1  lowest_f 0.004954\n",
      "basinhopping step 24: f 0.292651 trial_f 0.292651 accepted 1  lowest_f 0.004954\n",
      "USING DEFAULT INITS: fmin_inits=0.003734105, next_best=0.004954001\n",
      "Finished Hopping Around\n",
      "Optimization terminated successfully.\n",
      "         Current function value: 0.000012\n",
      "         Iterations: 10\n",
      "         Function evaluations: 26\n"
     ]
    },
    {
     "ename": "AttributeError",
     "evalue": "'MinimizerResult' object has no attribute 'paramsrangedict'",
     "output_type": "error",
     "traceback": [
      "\u001b[0;31m---------------------------------------------------------------------------\u001b[0m",
      "\u001b[0;31mAttributeError\u001b[0m                            Traceback (most recent call last)",
      "\u001b[0;32m<ipython-input-79-e96a66bc9994>\u001b[0m in \u001b[0;36m<module>\u001b[0;34m()\u001b[0m\n\u001b[0;32m----> 1\u001b[0;31m \u001b[0mm\u001b[0m\u001b[0;34m.\u001b[0m\u001b[0moptimize\u001b[0m\u001b[0;34m(\u001b[0m\u001b[0mtol\u001b[0m\u001b[0;34m=\u001b[0m\u001b[0;36m1e-2\u001b[0m\u001b[0;34m,\u001b[0m \u001b[0mmaxfev\u001b[0m\u001b[0;34m=\u001b[0m\u001b[0;36m100\u001b[0m\u001b[0;34m,\u001b[0m \u001b[0mfit_flat\u001b[0m\u001b[0;34m=\u001b[0m\u001b[0mTrue\u001b[0m\u001b[0;34m,\u001b[0m \u001b[0mfit_cond\u001b[0m\u001b[0;34m=\u001b[0m\u001b[0mFalse\u001b[0m\u001b[0;34m,\u001b[0m \u001b[0mnrand_inits\u001b[0m\u001b[0;34m=\u001b[0m\u001b[0;36m1\u001b[0m\u001b[0;34m,\u001b[0m \u001b[0mnrand_samples\u001b[0m\u001b[0;34m=\u001b[0m\u001b[0;36m1500\u001b[0m\u001b[0;34m,\u001b[0m \u001b[0mbdisp\u001b[0m\u001b[0;34m=\u001b[0m\u001b[0mTrue\u001b[0m\u001b[0;34m)\u001b[0m\u001b[0;34m\u001b[0m\u001b[0m\n\u001b[0m",
      "\u001b[0;32m/Users/kyle/Dropbox/Git/radd/build.py\u001b[0m in \u001b[0;36moptimize\u001b[0;34m(self, inits, ntrials, tol, maxfev, maxiter, disp, bdisp, multiopt, nrand_inits, nrand_samples, niter, interval, stepsize, niter_success, method, bmethod, btol, fit_flat, fit_cond)\u001b[0m\n\u001b[1;32m     86\u001b[0m                 \u001b[0mflat_wts\u001b[0m \u001b[0;34m=\u001b[0m \u001b[0mself\u001b[0m\u001b[0;34m.\u001b[0m\u001b[0mflat_cost_wts\u001b[0m\u001b[0;34m[\u001b[0m\u001b[0midx\u001b[0m\u001b[0;34m]\u001b[0m\u001b[0;34m\u001b[0m\u001b[0m\n\u001b[1;32m     87\u001b[0m                 \u001b[0mfp_flat\u001b[0m \u001b[0;34m=\u001b[0m \u001b[0mself\u001b[0m\u001b[0;34m.\u001b[0m\u001b[0mset_fitparams\u001b[0m\u001b[0;34m(\u001b[0m\u001b[0midx\u001b[0m\u001b[0;34m=\u001b[0m\u001b[0midx\u001b[0m\u001b[0;34m,\u001b[0m \u001b[0my\u001b[0m\u001b[0;34m=\u001b[0m\u001b[0mflat_y\u001b[0m\u001b[0;34m,\u001b[0m \u001b[0mwts\u001b[0m\u001b[0;34m=\u001b[0m\u001b[0mflat_wts\u001b[0m\u001b[0;34m,\u001b[0m \u001b[0mget_params\u001b[0m\u001b[0;34m=\u001b[0m\u001b[0mTrue\u001b[0m\u001b[0;34m)\u001b[0m\u001b[0;34m\u001b[0m\u001b[0m\n\u001b[0;32m---> 88\u001b[0;31m                 \u001b[0myhat_flat\u001b[0m\u001b[0;34m,\u001b[0m \u001b[0mfinfo_flat\u001b[0m\u001b[0;34m,\u001b[0m \u001b[0mpopt_flat\u001b[0m \u001b[0;34m=\u001b[0m \u001b[0mself\u001b[0m\u001b[0;34m.\u001b[0m\u001b[0moptimize_flat\u001b[0m\u001b[0;34m(\u001b[0m\u001b[0mfp_flat\u001b[0m\u001b[0;34m,\u001b[0m \u001b[0mp\u001b[0m\u001b[0;34m=\u001b[0m\u001b[0mp_flat\u001b[0m\u001b[0;34m)\u001b[0m\u001b[0;34m\u001b[0m\u001b[0m\n\u001b[0m\u001b[1;32m     89\u001b[0m \u001b[0;34m\u001b[0m\u001b[0m\n\u001b[1;32m     90\u001b[0m                 \u001b[0mself\u001b[0m\u001b[0;34m.\u001b[0m\u001b[0myhat_flat_list\u001b[0m\u001b[0;34m.\u001b[0m\u001b[0mappend\u001b[0m\u001b[0;34m(\u001b[0m\u001b[0myhat_flat\u001b[0m\u001b[0;34m)\u001b[0m\u001b[0;34m\u001b[0m\u001b[0m\n",
      "\u001b[0;32m/Users/kyle/Dropbox/Git/radd/build.py\u001b[0m in \u001b[0;36moptimize_flat\u001b[0;34m(self, fitparams, p)\u001b[0m\n\u001b[1;32m    129\u001b[0m \u001b[0;34m\u001b[0m\u001b[0m\n\u001b[1;32m    130\u001b[0m         \u001b[0;31m# p1: STAGE 1 (Initial Simplex)\u001b[0m\u001b[0;34m\u001b[0m\u001b[0;34m\u001b[0m\u001b[0m\n\u001b[0;32m--> 131\u001b[0;31m         \u001b[0myhat_flat\u001b[0m\u001b[0;34m,\u001b[0m \u001b[0mfinfo_flat\u001b[0m\u001b[0;34m,\u001b[0m \u001b[0mpopt_flat\u001b[0m \u001b[0;34m=\u001b[0m \u001b[0mself\u001b[0m\u001b[0;34m.\u001b[0m\u001b[0mopt\u001b[0m\u001b[0;34m.\u001b[0m\u001b[0mgradient_descent\u001b[0m\u001b[0;34m(\u001b[0m\u001b[0minits\u001b[0m\u001b[0;34m=\u001b[0m\u001b[0mp\u001b[0m\u001b[0;34m,\u001b[0m \u001b[0mis_flat\u001b[0m\u001b[0;34m=\u001b[0m\u001b[0mTrue\u001b[0m\u001b[0;34m)\u001b[0m\u001b[0;34m\u001b[0m\u001b[0m\n\u001b[0m\u001b[1;32m    132\u001b[0m         \u001b[0;32mreturn\u001b[0m \u001b[0myhat_flat\u001b[0m\u001b[0;34m,\u001b[0m \u001b[0mfinfo_flat\u001b[0m\u001b[0;34m,\u001b[0m \u001b[0mpopt_flat\u001b[0m\u001b[0;34m\u001b[0m\u001b[0m\n\u001b[1;32m    133\u001b[0m \u001b[0;34m\u001b[0m\u001b[0m\n",
      "\u001b[0;32m/Users/kyle/Dropbox/Git/radd/fit.py\u001b[0m in \u001b[0;36mgradient_descent\u001b[0;34m(self, inits, is_flat)\u001b[0m\n\u001b[1;32m    263\u001b[0m \u001b[0;34m\u001b[0m\u001b[0m\n\u001b[1;32m    264\u001b[0m         \u001b[0;31m# gen dict of opt. params\u001b[0m\u001b[0;34m\u001b[0m\u001b[0;34m\u001b[0m\u001b[0m\n\u001b[0;32m--> 265\u001b[0;31m         \u001b[0mfinfo\u001b[0m \u001b[0;34m=\u001b[0m \u001b[0mdict\u001b[0m\u001b[0;34m(\u001b[0m\u001b[0mdeepcopy\u001b[0m\u001b[0;34m(\u001b[0m\u001b[0moptmod\u001b[0m\u001b[0;34m.\u001b[0m\u001b[0mparamsrangedict\u001b[0m\u001b[0;34m(\u001b[0m\u001b[0;34m)\u001b[0m\u001b[0;34m)\u001b[0m\u001b[0;34m)\u001b[0m\u001b[0;34m\u001b[0m\u001b[0m\n\u001b[0m\u001b[1;32m    266\u001b[0m         \u001b[0mpopt\u001b[0m \u001b[0;34m=\u001b[0m \u001b[0mdict\u001b[0m\u001b[0;34m(\u001b[0m\u001b[0mdeepcopy\u001b[0m\u001b[0;34m(\u001b[0m\u001b[0mfinfo\u001b[0m\u001b[0;34m)\u001b[0m\u001b[0;34m)\u001b[0m\u001b[0;34m\u001b[0m\u001b[0m\n\u001b[1;32m    267\u001b[0m         \u001b[0my\u001b[0m \u001b[0;34m=\u001b[0m \u001b[0mself\u001b[0m\u001b[0;34m.\u001b[0m\u001b[0msimulator\u001b[0m\u001b[0;34m.\u001b[0m\u001b[0my\u001b[0m\u001b[0;34m\u001b[0m\u001b[0m\n",
      "\u001b[0;31mAttributeError\u001b[0m: 'MinimizerResult' object has no attribute 'paramsrangedict'"
     ]
    }
   ],
   "source": [
    "m.optimize(tol=1e-2, maxfev=100, fit_flat=True, fit_cond=False, nrand_inits=1, nrand_samples=1500, bdisp=True)"
   ]
  },
  {
   "cell_type": "code",
   "execution_count": 89,
   "metadata": {
    "collapsed": true
   },
   "outputs": [],
   "source": [
    "from lmfit import minimize, fit_report\n",
    "from radd.tools import messages, theta\n"
   ]
  },
  {
   "cell_type": "code",
   "execution_count": 94,
   "metadata": {
    "collapsed": false
   },
   "outputs": [
    {
     "data": {
      "text/plain": [
       "{'a': 0.53613256735891401,\n",
       " 'ssv': -0.96744349337132451,\n",
       " 'tr': 0.17655918380007346,\n",
       " 'v': array(1.2485321606702653),\n",
       " 'xb': 0.88096029224364458}"
      ]
     },
     "execution_count": 94,
     "metadata": {},
     "output_type": "execute_result"
    }
   ],
   "source": [
    "popt"
   ]
  },
  {
   "cell_type": "code",
   "execution_count": 92,
   "metadata": {
    "collapsed": false
   },
   "outputs": [
    {
     "name": "stdout",
     "output_type": "stream",
     "text": [
      "True\n"
     ]
    },
    {
     "data": {
      "text/plain": [
       "a           0.53613\n",
       "chi       0.0037205\n",
       "cnvrg          True\n",
       "ndata            16\n",
       "nfev             27\n",
       "nvary             5\n",
       "ssv        -0.96744\n",
       "tr          0.17656\n",
       "v            1.2485\n",
       "xb          0.88096\n",
       "df               11\n",
       "rchi     0.00033822\n",
       "logp        -127.87\n",
       "AIC         -117.87\n",
       "BIC         -123.49\n",
       "dtype: object"
      ]
     },
     "execution_count": 92,
     "metadata": {},
     "output_type": "execute_result"
    }
   ],
   "source": [
    "optmod = m.opt.optmod\n",
    "fp = m.opt.fitparams\n",
    "is_flat = True\n",
    "finfo = dict(deepcopy(optmod.params.valuesdict()))\n",
    "popt = dict(deepcopy(finfo))\n",
    "y = m.opt.simulator.y\n",
    "#yhat = np.mean([m.opt.simulator.sim_fx(popt) for i in range(100)], axis=0)\n",
    "wts = m.opt.simulator.wts\n",
    "\n",
    "# ASSUMING THE weighted SSE is CALC BY COSTFX\n",
    "finfo['chi'] = np.sum(wts * (y.flatten() - yhat)**2)\n",
    "finfo['ndata'] = len(yhat)\n",
    "finfo['cnvrg'] = optmod.success\n",
    "finfo['nfev'] = optmod.nfev\n",
    "finfo['nvary'] = len(optmod.var_names)\n",
    "finfo = m.assess_fit(finfo)\n",
    "\n",
    "print(finfo['cnvrg'])\n",
    "\n",
    "popt = theta.all_params_to_scalar(popt, exclude=list(m.opt.pc_map))\n",
    "log_arrays = {'y': y, 'yhat': yhat, 'wts': wts}\n",
    "param_report = fit_report(optmod.params)\n",
    "messages.logger(param_report=param_report, finfo=finfo, pdict=popt, depends_on=fp['depends_on'], log_arrays=log_arrays, is_flat=is_flat, kind=m.opt.kind, fit_on=fp['fit_on'], dynamic=fp['dynamic'], pc_map=m.opt.pc_map)\n"
   ]
  },
  {
   "cell_type": "code",
   "execution_count": null,
   "metadata": {
    "collapsed": true
   },
   "outputs": [],
   "source": []
  },
  {
   "cell_type": "code",
   "execution_count": null,
   "metadata": {
    "collapsed": true
   },
   "outputs": [],
   "source": []
  }
 ],
 "metadata": {
  "kernelspec": {
   "display_name": "Python 2",
   "language": "python",
   "name": "python2"
  },
  "language_info": {
   "codemirror_mode": {
    "name": "ipython",
    "version": 2
   },
   "file_extension": ".py",
   "mimetype": "text/x-python",
   "name": "python",
   "nbconvert_exporter": "python",
   "pygments_lexer": "ipython2",
   "version": "2.7.11"
  }
 },
 "nbformat": 4,
 "nbformat_minor": 0
}
