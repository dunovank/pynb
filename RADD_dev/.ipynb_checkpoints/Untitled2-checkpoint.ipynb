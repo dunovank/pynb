{
 "cells": [
  {
   "cell_type": "code",
   "execution_count": 3,
   "metadata": {
    "collapsed": true
   },
   "outputs": [],
   "source": [
    "import radd\n",
    "from radd import build\n",
    "from radd.tools import analyze\n",
    "from itertools import takewhile\n",
    "from scipy.stats.mstats_extras import mjci\n",
    "\n",
    "from copy import deepcopy\n",
    "import numpy as np\n",
    "from numpy import array\n",
    "from numpy.random import sample as rs\n",
    "from numpy import hstack as hs\n",
    "from numpy import newaxis as na\n",
    "from numpy import cumsum as csum\n",
    "from scipy.stats.mstats import mquantiles as mq"
   ]
  },
  {
   "cell_type": "code",
   "execution_count": 4,
   "metadata": {
    "collapsed": false
   },
   "outputs": [],
   "source": [
    "re = pd.read_csv(os.path.join(_home, \"Dropbox/Projects/SS/Reactive/Re_Data.csv\"), index_col=0)\n",
    "cox = pd.read_csv(os.path.join(_home, \"Dropbox/Projects/coxon_behav_data.csv\"))\n",
    "\n",
    "popt_flat = {'a': 0.5878,  'ssv': -1.1539, 'tr': 0.120, 'v': 0.95904, 'xb': 1.845}"
   ]
  },
  {
   "cell_type": "code",
   "execution_count": 5,
   "metadata": {
    "collapsed": false
   },
   "outputs": [],
   "source": [
    "m = build.Model(data=cox, inits=popt_flat, kind='xdpm', fit_on='subjects',depends_on={'v':'Cond'})"
   ]
  },
  {
   "cell_type": "code",
   "execution_count": 20,
   "metadata": {
    "collapsed": true
   },
   "outputs": [],
   "source": [
    "m = build.Model(data=redata, kind='irace', fit_on='subjects',depends_on={'v':'Cond'})"
   ]
  },
  {
   "cell_type": "code",
   "execution_count": 21,
   "metadata": {
    "collapsed": false
   },
   "outputs": [
    {
     "data": {
      "text/plain": [
       "{'a': 0.5, 'ssv': 1, 'tr': 0.2, 'v': 1.2, 'xb': 1.5}"
      ]
     },
     "execution_count": 21,
     "metadata": {},
     "output_type": "execute_result"
    }
   ],
   "source": [
    "m.inits"
   ]
  },
  {
   "cell_type": "code",
   "execution_count": 11,
   "metadata": {
    "collapsed": true
   },
   "outputs": [],
   "source": [
    "m.set_fitparams(tol=.01, maxiter=100, niter=50)\n",
    "m.set_basinparams(tol=.01, nrand_inits=2, nrand_samples=200, niter=10)"
   ]
  },
  {
   "cell_type": "code",
   "execution_count": 12,
   "metadata": {
    "collapsed": false
   },
   "outputs": [
    {
     "name": "stdout",
     "output_type": "stream",
     "text": [
      "default inits: fmin0=1.884607673\n",
      "basinhopping step 0: f 0.997605\n",
      "basinhopping step 1: f 0.998783 trial_f 0.998783 accepted 1  lowest_f 0.997605\n",
      "basinhopping step 2: f 0.998783 trial_f 1.66824 accepted 0  lowest_f 0.997605\n",
      "basinhopping step 3: f 0.998783 trial_f 1.68402 accepted 0  lowest_f 0.997605\n",
      "basinhopping step 4: f 1.66558 trial_f 1.66558 accepted 1  lowest_f 0.997605\n",
      "adaptive stepsize: acceptance rate 0.400000 target 0.500000 new stepsize 0.054 old stepsize 0.06\n",
      "basinhopping step 5: f 1.66405 trial_f 1.66405 accepted 1  lowest_f 0.997605\n",
      "basinhopping step 6: f 1.66687 trial_f 1.66687 accepted 1  lowest_f 0.997605\n",
      "basinhopping step 7: f 1.67105 trial_f 1.67105 accepted 1  lowest_f 0.997605\n",
      "basinhopping step 8: f 1.68074 trial_f 1.68074 accepted 1  lowest_f 0.997605\n",
      "basinhopping step 9: f 1.01626 trial_f 1.01626 accepted 1  lowest_f 0.997605\n",
      "adaptive stepsize: acceptance rate 0.700000 target 0.500000 new stepsize 0.06 old stepsize 0.054\n",
      "warning: basinhopping: local minimization failure\n",
      "basinhopping step 10: f 1.03797 trial_f 1.03797 accepted 1  lowest_f 0.997605\n",
      "basinhopping step 0: f 0.992844\n",
      "basinhopping step 1: f 1.01527 trial_f 1.01527 accepted 1  lowest_f 0.992844\n",
      "basinhopping step 2: f 1.01527 trial_f 1.66403 accepted 0  lowest_f 0.992844\n",
      "basinhopping step 3: f 1.01288 trial_f 1.01288 accepted 1  lowest_f 0.992844\n",
      "basinhopping step 4: f 1.04109 trial_f 1.04109 accepted 1  lowest_f 0.992844\n",
      "adaptive stepsize: acceptance rate 0.600000 target 0.500000 new stepsize 0.0666667 old stepsize 0.06\n",
      "warning: basinhopping: local minimization failure\n",
      "basinhopping step 5: f 1.05442 trial_f 1.05442 accepted 1  lowest_f 0.992844\n",
      "basinhopping step 6: f 1.08983 trial_f 1.08983 accepted 1  lowest_f 0.992844\n",
      "basinhopping step 7: f 1.05225 trial_f 1.05225 accepted 1  lowest_f 0.992844\n",
      "basinhopping step 8: f 1.01469 trial_f 1.01469 accepted 1  lowest_f 0.992844\n",
      "basinhopping step 9: f 1.66662 trial_f 1.66662 accepted 1  lowest_f 0.992844\n",
      "adaptive stepsize: acceptance rate 0.800000 target 0.500000 new stepsize 0.0740741 old stepsize 0.0666667\n",
      "basinhopping step 10: f 1.66501 trial_f 1.66501 accepted 1  lowest_f 0.992844\n",
      "NEW GLOBAL MINIMUM: fmin_new=0.992843509; fmin_inits= 1.884608)\n",
      "Finished Hopping Around\n",
      "Warning: Maximum number of iterations has been exceeded.\n"
     ]
    },
    {
     "ename": "ValueError",
     "evalue": "operands could not be broadcast together with shapes (2,1) (2,5,2000,91) ",
     "output_type": "error",
     "traceback": [
      "\u001b[0;31m---------------------------------------------------------------------------\u001b[0m",
      "\u001b[0;31mValueError\u001b[0m                                Traceback (most recent call last)",
      "\u001b[0;32m<ipython-input-12-68dbe65363ec>\u001b[0m in \u001b[0;36m<module>\u001b[0;34m()\u001b[0m\n\u001b[0;32m----> 1\u001b[0;31m \u001b[0mm\u001b[0m\u001b[0;34m.\u001b[0m\u001b[0moptimize\u001b[0m\u001b[0;34m(\u001b[0m\u001b[0;34m)\u001b[0m\u001b[0;34m\u001b[0m\u001b[0m\n\u001b[0m",
      "\u001b[0;32m/Users/kyle/Dropbox/Git/radd/radd/build.pyc\u001b[0m in \u001b[0;36moptimize\u001b[0;34m(self, fit_flat, fit_cond, multiopt)\u001b[0m\n\u001b[1;32m     56\u001b[0m                 \u001b[0my\u001b[0m\u001b[0;34m,\u001b[0m \u001b[0mwts\u001b[0m \u001b[0;34m=\u001b[0m \u001b[0mself\u001b[0m\u001b[0;34m.\u001b[0m\u001b[0miter_cond\u001b[0m\u001b[0;34m[\u001b[0m\u001b[0mi\u001b[0m\u001b[0;34m]\u001b[0m\u001b[0;34m\u001b[0m\u001b[0m\n\u001b[1;32m     57\u001b[0m                 \u001b[0mself\u001b[0m\u001b[0;34m.\u001b[0m\u001b[0mset_fitparams\u001b[0m\u001b[0;34m(\u001b[0m\u001b[0midx\u001b[0m\u001b[0;34m=\u001b[0m\u001b[0mi\u001b[0m\u001b[0;34m,\u001b[0m \u001b[0my\u001b[0m\u001b[0;34m=\u001b[0m\u001b[0my\u001b[0m\u001b[0;34m,\u001b[0m \u001b[0mwts\u001b[0m\u001b[0;34m=\u001b[0m\u001b[0mwts\u001b[0m\u001b[0;34m,\u001b[0m \u001b[0mnlevels\u001b[0m\u001b[0;34m=\u001b[0m\u001b[0mself\u001b[0m\u001b[0;34m.\u001b[0m\u001b[0mnlevels\u001b[0m\u001b[0;34m,\u001b[0m \u001b[0mflat\u001b[0m\u001b[0;34m=\u001b[0m\u001b[0mFalse\u001b[0m\u001b[0;34m)\u001b[0m\u001b[0;34m\u001b[0m\u001b[0m\n\u001b[0;32m---> 58\u001b[0;31m                 \u001b[0mfinfo\u001b[0m\u001b[0;34m,\u001b[0m \u001b[0mpopt\u001b[0m\u001b[0;34m,\u001b[0m \u001b[0myhat\u001b[0m \u001b[0;34m=\u001b[0m \u001b[0mself\u001b[0m\u001b[0;34m.\u001b[0m\u001b[0moptimize_conditional\u001b[0m\u001b[0;34m(\u001b[0m\u001b[0mpopt\u001b[0m\u001b[0;34m,\u001b[0m \u001b[0mmultiopt\u001b[0m\u001b[0;34m)\u001b[0m\u001b[0;34m\u001b[0m\u001b[0m\n\u001b[0m\u001b[1;32m     59\u001b[0m             \u001b[0mself\u001b[0m\u001b[0;34m.\u001b[0m\u001b[0massess_fit\u001b[0m\u001b[0;34m(\u001b[0m\u001b[0mfinfo\u001b[0m\u001b[0;34m,\u001b[0m \u001b[0mpopt\u001b[0m\u001b[0;34m,\u001b[0m \u001b[0myhat\u001b[0m\u001b[0;34m)\u001b[0m\u001b[0;34m\u001b[0m\u001b[0m\n\u001b[1;32m     60\u001b[0m \u001b[0;34m\u001b[0m\u001b[0m\n",
      "\u001b[0;32m/Users/kyle/Dropbox/Git/radd/radd/build.pyc\u001b[0m in \u001b[0;36moptimize_conditional\u001b[0;34m(self, p, multiopt)\u001b[0m\n\u001b[1;32m     91\u001b[0m         \u001b[0;32mif\u001b[0m \u001b[0mmultiopt\u001b[0m\u001b[0;34m:\u001b[0m\u001b[0;34m\u001b[0m\u001b[0m\n\u001b[1;32m     92\u001b[0m             \u001b[0;31m# Pretune Conditional Parameters\u001b[0m\u001b[0;34m\u001b[0m\u001b[0;34m\u001b[0m\u001b[0m\n\u001b[0;32m---> 93\u001b[0;31m             \u001b[0mp\u001b[0m\u001b[0;34m,\u001b[0m \u001b[0mfuncmin\u001b[0m \u001b[0;34m=\u001b[0m \u001b[0mself\u001b[0m\u001b[0;34m.\u001b[0m\u001b[0mopt\u001b[0m\u001b[0;34m.\u001b[0m\u001b[0mrun_basinhopping\u001b[0m\u001b[0;34m(\u001b[0m\u001b[0mp\u001b[0m\u001b[0;34m,\u001b[0m \u001b[0mis_flat\u001b[0m\u001b[0;34m=\u001b[0m\u001b[0mFalse\u001b[0m\u001b[0;34m)\u001b[0m\u001b[0;34m\u001b[0m\u001b[0m\n\u001b[0m\u001b[1;32m     94\u001b[0m         \u001b[0;31m# Final Simplex Optimization\u001b[0m\u001b[0;34m\u001b[0m\u001b[0;34m\u001b[0m\u001b[0m\n\u001b[1;32m     95\u001b[0m         \u001b[0mfinfo\u001b[0m\u001b[0;34m,\u001b[0m \u001b[0mpopt\u001b[0m\u001b[0;34m,\u001b[0m \u001b[0myhat\u001b[0m \u001b[0;34m=\u001b[0m \u001b[0mself\u001b[0m\u001b[0;34m.\u001b[0m\u001b[0mopt\u001b[0m\u001b[0;34m.\u001b[0m\u001b[0mgradient_descent\u001b[0m\u001b[0;34m(\u001b[0m\u001b[0minits\u001b[0m\u001b[0;34m=\u001b[0m\u001b[0mp\u001b[0m\u001b[0;34m,\u001b[0m \u001b[0mis_flat\u001b[0m\u001b[0;34m=\u001b[0m\u001b[0mFalse\u001b[0m\u001b[0;34m)\u001b[0m\u001b[0;34m\u001b[0m\u001b[0m\n",
      "\u001b[0;32m/Users/kyle/Dropbox/Git/radd/radd/fit.pyc\u001b[0m in \u001b[0;36mrun_basinhopping\u001b[0;34m(self, p, is_flat)\u001b[0m\n\u001b[1;32m    160\u001b[0m         \u001b[0mcustom_step\u001b[0m \u001b[0;34m=\u001b[0m \u001b[0mHopStep\u001b[0m\u001b[0;34m(\u001b[0m\u001b[0mbasin_keys\u001b[0m\u001b[0;34m,\u001b[0m \u001b[0mnlevels\u001b[0m\u001b[0;34m=\u001b[0m\u001b[0mnl\u001b[0m\u001b[0;34m,\u001b[0m \u001b[0mstepsize\u001b[0m\u001b[0;34m=\u001b[0m\u001b[0mbp\u001b[0m\u001b[0;34m[\u001b[0m\u001b[0;34m'stepsize'\u001b[0m\u001b[0;34m]\u001b[0m\u001b[0;34m)\u001b[0m\u001b[0;34m\u001b[0m\u001b[0m\n\u001b[1;32m    161\u001b[0m         \u001b[0;31m# run basinhopping on simulator.basinhopping_minimizer func\u001b[0m\u001b[0;34m\u001b[0m\u001b[0;34m\u001b[0m\u001b[0m\n\u001b[0;32m--> 162\u001b[0;31m         \u001b[0mout\u001b[0m \u001b[0;34m=\u001b[0m \u001b[0mbasinhopping\u001b[0m\u001b[0;34m(\u001b[0m\u001b[0mself\u001b[0m\u001b[0;34m.\u001b[0m\u001b[0msimulator\u001b[0m\u001b[0;34m.\u001b[0m\u001b[0mglobal_cost_fx\u001b[0m\u001b[0;34m,\u001b[0m \u001b[0mx0\u001b[0m\u001b[0;34m=\u001b[0m\u001b[0mx0\u001b[0m\u001b[0;34m,\u001b[0m \u001b[0mminimizer_kwargs\u001b[0m\u001b[0;34m=\u001b[0m\u001b[0mmkwargs\u001b[0m\u001b[0;34m,\u001b[0m \u001b[0mtake_step\u001b[0m\u001b[0;34m=\u001b[0m\u001b[0mcustom_step\u001b[0m\u001b[0;34m,\u001b[0m \u001b[0maccept_test\u001b[0m\u001b[0;34m=\u001b[0m\u001b[0maccept_step\u001b[0m\u001b[0;34m,\u001b[0m \u001b[0mstepsize\u001b[0m\u001b[0;34m=\u001b[0m\u001b[0mbp\u001b[0m\u001b[0;34m[\u001b[0m\u001b[0;34m'stepsize'\u001b[0m\u001b[0;34m]\u001b[0m\u001b[0;34m,\u001b[0m \u001b[0mniter\u001b[0m\u001b[0;34m=\u001b[0m\u001b[0mbp\u001b[0m\u001b[0;34m[\u001b[0m\u001b[0;34m'niter'\u001b[0m\u001b[0;34m]\u001b[0m\u001b[0;34m,\u001b[0m \u001b[0mniter_success\u001b[0m\u001b[0;34m=\u001b[0m\u001b[0mbp\u001b[0m\u001b[0;34m[\u001b[0m\u001b[0;34m'niter_success'\u001b[0m\u001b[0;34m]\u001b[0m\u001b[0;34m,\u001b[0m \u001b[0minterval\u001b[0m\u001b[0;34m=\u001b[0m\u001b[0mbp\u001b[0m\u001b[0;34m[\u001b[0m\u001b[0;34m'interval'\u001b[0m\u001b[0;34m]\u001b[0m\u001b[0;34m,\u001b[0m \u001b[0mdisp\u001b[0m\u001b[0;34m=\u001b[0m\u001b[0mbp\u001b[0m\u001b[0;34m[\u001b[0m\u001b[0;34m'disp'\u001b[0m\u001b[0;34m]\u001b[0m\u001b[0;34m)\u001b[0m\u001b[0;34m\u001b[0m\u001b[0m\n\u001b[0m\u001b[1;32m    163\u001b[0m         \u001b[0mxopt\u001b[0m \u001b[0;34m=\u001b[0m \u001b[0mout\u001b[0m\u001b[0;34m.\u001b[0m\u001b[0mx\u001b[0m\u001b[0;34m\u001b[0m\u001b[0m\n\u001b[1;32m    164\u001b[0m         \u001b[0mfuncmin\u001b[0m \u001b[0;34m=\u001b[0m \u001b[0mout\u001b[0m\u001b[0;34m.\u001b[0m\u001b[0mfun\u001b[0m\u001b[0;34m\u001b[0m\u001b[0m\n",
      "\u001b[0;32m/Users/kyle/anaconda/lib/python2.7/site-packages/scipy/optimize/_basinhopping.pyc\u001b[0m in \u001b[0;36mbasinhopping\u001b[0;34m(func, x0, niter, T, stepsize, minimizer_kwargs, take_step, accept_test, callback, interval, disp, niter_success)\u001b[0m\n\u001b[1;32m    609\u001b[0m \u001b[0;34m\u001b[0m\u001b[0m\n\u001b[1;32m    610\u001b[0m     bh = BasinHoppingRunner(x0, wrapped_minimizer, take_step_wrapped,\n\u001b[0;32m--> 611\u001b[0;31m                             accept_tests, disp=disp)\n\u001b[0m\u001b[1;32m    612\u001b[0m \u001b[0;34m\u001b[0m\u001b[0m\n\u001b[1;32m    613\u001b[0m     \u001b[0;31m# start main iteration loop\u001b[0m\u001b[0;34m\u001b[0m\u001b[0;34m\u001b[0m\u001b[0m\n",
      "\u001b[0;32m/Users/kyle/anaconda/lib/python2.7/site-packages/scipy/optimize/_basinhopping.pyc\u001b[0m in \u001b[0;36m__init__\u001b[0;34m(self, x0, minimizer, step_taking, accept_tests, disp)\u001b[0m\n\u001b[1;32m     70\u001b[0m \u001b[0;34m\u001b[0m\u001b[0m\n\u001b[1;32m     71\u001b[0m         \u001b[0;31m# do initial minimization\u001b[0m\u001b[0;34m\u001b[0m\u001b[0;34m\u001b[0m\u001b[0m\n\u001b[0;32m---> 72\u001b[0;31m         \u001b[0mminres\u001b[0m \u001b[0;34m=\u001b[0m \u001b[0mminimizer\u001b[0m\u001b[0;34m(\u001b[0m\u001b[0mself\u001b[0m\u001b[0;34m.\u001b[0m\u001b[0mx\u001b[0m\u001b[0;34m)\u001b[0m\u001b[0;34m\u001b[0m\u001b[0m\n\u001b[0m\u001b[1;32m     73\u001b[0m         \u001b[0;32mif\u001b[0m \u001b[0;32mnot\u001b[0m \u001b[0mminres\u001b[0m\u001b[0;34m.\u001b[0m\u001b[0msuccess\u001b[0m\u001b[0;34m:\u001b[0m\u001b[0;34m\u001b[0m\u001b[0m\n\u001b[1;32m     74\u001b[0m             \u001b[0mself\u001b[0m\u001b[0;34m.\u001b[0m\u001b[0mres\u001b[0m\u001b[0;34m.\u001b[0m\u001b[0mminimization_failures\u001b[0m \u001b[0;34m+=\u001b[0m \u001b[0;36m1\u001b[0m\u001b[0;34m\u001b[0m\u001b[0m\n",
      "\u001b[0;32m/Users/kyle/anaconda/lib/python2.7/site-packages/scipy/optimize/_basinhopping.pyc\u001b[0m in \u001b[0;36m__call__\u001b[0;34m(self, x0)\u001b[0m\n\u001b[1;32m    278\u001b[0m             \u001b[0;32mreturn\u001b[0m \u001b[0mself\u001b[0m\u001b[0;34m.\u001b[0m\u001b[0mminimizer\u001b[0m\u001b[0;34m(\u001b[0m\u001b[0mx0\u001b[0m\u001b[0;34m,\u001b[0m \u001b[0;34m**\u001b[0m\u001b[0mself\u001b[0m\u001b[0;34m.\u001b[0m\u001b[0mkwargs\u001b[0m\u001b[0;34m)\u001b[0m\u001b[0;34m\u001b[0m\u001b[0m\n\u001b[1;32m    279\u001b[0m         \u001b[0;32melse\u001b[0m\u001b[0;34m:\u001b[0m\u001b[0;34m\u001b[0m\u001b[0m\n\u001b[0;32m--> 280\u001b[0;31m             \u001b[0;32mreturn\u001b[0m \u001b[0mself\u001b[0m\u001b[0;34m.\u001b[0m\u001b[0mminimizer\u001b[0m\u001b[0;34m(\u001b[0m\u001b[0mself\u001b[0m\u001b[0;34m.\u001b[0m\u001b[0mfunc\u001b[0m\u001b[0;34m,\u001b[0m \u001b[0mx0\u001b[0m\u001b[0;34m,\u001b[0m \u001b[0;34m**\u001b[0m\u001b[0mself\u001b[0m\u001b[0;34m.\u001b[0m\u001b[0mkwargs\u001b[0m\u001b[0;34m)\u001b[0m\u001b[0;34m\u001b[0m\u001b[0m\n\u001b[0m\u001b[1;32m    281\u001b[0m \u001b[0;34m\u001b[0m\u001b[0m\n\u001b[1;32m    282\u001b[0m \u001b[0;34m\u001b[0m\u001b[0m\n",
      "\u001b[0;32m/Users/kyle/anaconda/lib/python2.7/site-packages/scipy/optimize/_minimize.pyc\u001b[0m in \u001b[0;36mminimize\u001b[0;34m(fun, x0, args, method, jac, hess, hessp, bounds, constraints, tol, callback, options)\u001b[0m\n\u001b[1;32m    448\u001b[0m     \u001b[0;32melif\u001b[0m \u001b[0mmeth\u001b[0m \u001b[0;34m==\u001b[0m \u001b[0;34m'tnc'\u001b[0m\u001b[0;34m:\u001b[0m\u001b[0;34m\u001b[0m\u001b[0m\n\u001b[1;32m    449\u001b[0m         return _minimize_tnc(fun, x0, args, jac, bounds, callback=callback,\n\u001b[0;32m--> 450\u001b[0;31m                              **options)\n\u001b[0m\u001b[1;32m    451\u001b[0m     \u001b[0;32melif\u001b[0m \u001b[0mmeth\u001b[0m \u001b[0;34m==\u001b[0m \u001b[0;34m'cobyla'\u001b[0m\u001b[0;34m:\u001b[0m\u001b[0;34m\u001b[0m\u001b[0m\n\u001b[1;32m    452\u001b[0m         \u001b[0;32mreturn\u001b[0m \u001b[0m_minimize_cobyla\u001b[0m\u001b[0;34m(\u001b[0m\u001b[0mfun\u001b[0m\u001b[0;34m,\u001b[0m \u001b[0mx0\u001b[0m\u001b[0;34m,\u001b[0m \u001b[0margs\u001b[0m\u001b[0;34m,\u001b[0m \u001b[0mconstraints\u001b[0m\u001b[0;34m,\u001b[0m \u001b[0;34m**\u001b[0m\u001b[0moptions\u001b[0m\u001b[0;34m)\u001b[0m\u001b[0;34m\u001b[0m\u001b[0m\n",
      "\u001b[0;32m/Users/kyle/anaconda/lib/python2.7/site-packages/scipy/optimize/tnc.pyc\u001b[0m in \u001b[0;36m_minimize_tnc\u001b[0;34m(fun, x0, args, jac, bounds, eps, scale, offset, mesg_num, maxCGit, maxiter, eta, stepmx, accuracy, minfev, ftol, xtol, gtol, rescale, disp, callback, **unknown_options)\u001b[0m\n\u001b[1;32m    407\u001b[0m                                         \u001b[0moffset\u001b[0m\u001b[0;34m,\u001b[0m \u001b[0mmessages\u001b[0m\u001b[0;34m,\u001b[0m \u001b[0mmaxCGit\u001b[0m\u001b[0;34m,\u001b[0m \u001b[0mmaxfun\u001b[0m\u001b[0;34m,\u001b[0m\u001b[0;34m\u001b[0m\u001b[0m\n\u001b[1;32m    408\u001b[0m                                         \u001b[0meta\u001b[0m\u001b[0;34m,\u001b[0m \u001b[0mstepmx\u001b[0m\u001b[0;34m,\u001b[0m \u001b[0maccuracy\u001b[0m\u001b[0;34m,\u001b[0m \u001b[0mfmin\u001b[0m\u001b[0;34m,\u001b[0m \u001b[0mftol\u001b[0m\u001b[0;34m,\u001b[0m\u001b[0;34m\u001b[0m\u001b[0m\n\u001b[0;32m--> 409\u001b[0;31m                                         xtol, pgtol, rescale, callback)\n\u001b[0m\u001b[1;32m    410\u001b[0m \u001b[0;34m\u001b[0m\u001b[0m\n\u001b[1;32m    411\u001b[0m     \u001b[0mfunv\u001b[0m\u001b[0;34m,\u001b[0m \u001b[0mjacv\u001b[0m \u001b[0;34m=\u001b[0m \u001b[0mfunc_and_grad\u001b[0m\u001b[0;34m(\u001b[0m\u001b[0mx\u001b[0m\u001b[0;34m)\u001b[0m\u001b[0;34m\u001b[0m\u001b[0m\n",
      "\u001b[0;32m/Users/kyle/anaconda/lib/python2.7/site-packages/scipy/optimize/tnc.pyc\u001b[0m in \u001b[0;36mfunc_and_grad\u001b[0;34m(x)\u001b[0m\n\u001b[1;32m    364\u001b[0m     \u001b[0;32mif\u001b[0m \u001b[0mjac\u001b[0m \u001b[0;32mis\u001b[0m \u001b[0mNone\u001b[0m\u001b[0;34m:\u001b[0m\u001b[0;34m\u001b[0m\u001b[0m\n\u001b[1;32m    365\u001b[0m         \u001b[0;32mdef\u001b[0m \u001b[0mfunc_and_grad\u001b[0m\u001b[0;34m(\u001b[0m\u001b[0mx\u001b[0m\u001b[0;34m)\u001b[0m\u001b[0;34m:\u001b[0m\u001b[0;34m\u001b[0m\u001b[0m\n\u001b[0;32m--> 366\u001b[0;31m             \u001b[0mf\u001b[0m \u001b[0;34m=\u001b[0m \u001b[0mfun\u001b[0m\u001b[0;34m(\u001b[0m\u001b[0mx\u001b[0m\u001b[0;34m,\u001b[0m \u001b[0;34m*\u001b[0m\u001b[0margs\u001b[0m\u001b[0;34m)\u001b[0m\u001b[0;34m\u001b[0m\u001b[0m\n\u001b[0m\u001b[1;32m    367\u001b[0m             \u001b[0mg\u001b[0m \u001b[0;34m=\u001b[0m \u001b[0mapprox_fprime\u001b[0m\u001b[0;34m(\u001b[0m\u001b[0mx\u001b[0m\u001b[0;34m,\u001b[0m \u001b[0mfun\u001b[0m\u001b[0;34m,\u001b[0m \u001b[0mepsilon\u001b[0m\u001b[0;34m,\u001b[0m \u001b[0;34m*\u001b[0m\u001b[0margs\u001b[0m\u001b[0;34m)\u001b[0m\u001b[0;34m\u001b[0m\u001b[0m\n\u001b[1;32m    368\u001b[0m             \u001b[0;32mreturn\u001b[0m \u001b[0mf\u001b[0m\u001b[0;34m,\u001b[0m \u001b[0mg\u001b[0m\u001b[0;34m\u001b[0m\u001b[0m\n",
      "\u001b[0;32m/Users/kyle/Dropbox/Git/radd/radd/models.py\u001b[0m in \u001b[0;36mglobal_cost_fx\u001b[0;34m(self, x)\u001b[0m\n\u001b[1;32m     92\u001b[0m             \u001b[0mp\u001b[0m\u001b[0;34m[\u001b[0m\u001b[0mpk\u001b[0m\u001b[0;34m]\u001b[0m \u001b[0;34m=\u001b[0m \u001b[0mpx\u001b[0m\u001b[0;34m[\u001b[0m\u001b[0mi\u001b[0m\u001b[0;34m]\u001b[0m\u001b[0;34m\u001b[0m\u001b[0m\n\u001b[1;32m     93\u001b[0m         \u001b[0;31m# simulate using filled params dictionary\u001b[0m\u001b[0;34m\u001b[0m\u001b[0;34m\u001b[0m\u001b[0m\n\u001b[0;32m---> 94\u001b[0;31m         \u001b[0myhat\u001b[0m \u001b[0;34m=\u001b[0m \u001b[0mself\u001b[0m\u001b[0;34m.\u001b[0m\u001b[0msim_fx\u001b[0m\u001b[0;34m(\u001b[0m\u001b[0mp\u001b[0m\u001b[0;34m)\u001b[0m\u001b[0;34m\u001b[0m\u001b[0m\n\u001b[0m\u001b[1;32m     95\u001b[0m         \u001b[0;31m# calculate and return cost error\u001b[0m\u001b[0;34m\u001b[0m\u001b[0;34m\u001b[0m\u001b[0m\n\u001b[1;32m     96\u001b[0m         \u001b[0;32mreturn\u001b[0m \u001b[0mnp\u001b[0m\u001b[0;34m.\u001b[0m\u001b[0msum\u001b[0m\u001b[0;34m(\u001b[0m\u001b[0mself\u001b[0m\u001b[0;34m.\u001b[0m\u001b[0mwts\u001b[0m \u001b[0;34m*\u001b[0m \u001b[0;34m(\u001b[0m\u001b[0myhat\u001b[0m \u001b[0;34m-\u001b[0m \u001b[0mself\u001b[0m\u001b[0;34m.\u001b[0m\u001b[0my\u001b[0m\u001b[0;34m)\u001b[0m\u001b[0;34m**\u001b[0m\u001b[0;36m2\u001b[0m\u001b[0;34m)\u001b[0m\u001b[0;34m.\u001b[0m\u001b[0mastype\u001b[0m\u001b[0;34m(\u001b[0m\u001b[0mnp\u001b[0m\u001b[0;34m.\u001b[0m\u001b[0mfloat32\u001b[0m\u001b[0;34m)\u001b[0m\u001b[0;34m\u001b[0m\u001b[0m\n",
      "\u001b[0;32m/Users/kyle/Dropbox/Git/radd/radd/models.py\u001b[0m in \u001b[0;36msimulate_dpm\u001b[0;34m(self, p, analyze)\u001b[0m\n\u001b[1;32m    236\u001b[0m             \u001b[0mssBase\u001b[0m \u001b[0;34m=\u001b[0m \u001b[0mnp\u001b[0m\u001b[0;34m.\u001b[0m\u001b[0marray\u001b[0m\u001b[0;34m(\u001b[0m\u001b[0;34m[\u001b[0m\u001b[0mssDVg\u001b[0m\u001b[0;34m[\u001b[0m\u001b[0mi\u001b[0m\u001b[0;34m,\u001b[0m \u001b[0mssd_ix\u001b[0m\u001b[0;34m,\u001b[0m \u001b[0;34m:\u001b[0m\u001b[0;34m,\u001b[0m \u001b[0mix\u001b[0m\u001b[0;34m]\u001b[0m \u001b[0;32mfor\u001b[0m \u001b[0mi\u001b[0m\u001b[0;34m,\u001b[0m \u001b[0mix\u001b[0m \u001b[0;32min\u001b[0m \u001b[0menumerate\u001b[0m\u001b[0;34m(\u001b[0m\u001b[0mss_on\u001b[0m\u001b[0;34m)\u001b[0m\u001b[0;34m]\u001b[0m\u001b[0;34m)\u001b[0m\u001b[0;34m[\u001b[0m\u001b[0;34m:\u001b[0m\u001b[0;34m,\u001b[0m\u001b[0;34m:\u001b[0m\u001b[0;34m,\u001b[0m\u001b[0;34m:\u001b[0m\u001b[0;34m,\u001b[0m\u001b[0mna\u001b[0m\u001b[0;34m]\u001b[0m\u001b[0;34m\u001b[0m\u001b[0m\n\u001b[1;32m    237\u001b[0m \u001b[0;34m\u001b[0m\u001b[0m\n\u001b[0;32m--> 238\u001b[0;31m         \u001b[0mDVs\u001b[0m \u001b[0;34m=\u001b[0m \u001b[0mssBase\u001b[0m \u001b[0;34m+\u001b[0m \u001b[0mcsum\u001b[0m\u001b[0;34m(\u001b[0m\u001b[0mnp\u001b[0m\u001b[0;34m.\u001b[0m\u001b[0mwhere\u001b[0m\u001b[0;34m(\u001b[0m\u001b[0mrs\u001b[0m\u001b[0;34m(\u001b[0m\u001b[0;34m(\u001b[0m\u001b[0mnl\u001b[0m\u001b[0;34m,\u001b[0m \u001b[0mnssd\u001b[0m\u001b[0;34m,\u001b[0m \u001b[0mnss_per\u001b[0m\u001b[0;34m,\u001b[0m \u001b[0mTs\u001b[0m\u001b[0;34m.\u001b[0m\u001b[0mmax\u001b[0m\u001b[0;34m(\u001b[0m\u001b[0;34m)\u001b[0m\u001b[0;34m)\u001b[0m\u001b[0;34m)\u001b[0m \u001b[0;34m<\u001b[0m \u001b[0mPs\u001b[0m\u001b[0;34m,\u001b[0m \u001b[0mdx\u001b[0m\u001b[0;34m,\u001b[0m \u001b[0;34m-\u001b[0m\u001b[0mdx\u001b[0m\u001b[0;34m)\u001b[0m\u001b[0;34m,\u001b[0m \u001b[0maxis\u001b[0m\u001b[0;34m=\u001b[0m\u001b[0;36m3\u001b[0m\u001b[0;34m)\u001b[0m\u001b[0;34m\u001b[0m\u001b[0m\n\u001b[0m\u001b[1;32m    239\u001b[0m         \u001b[0;32mif\u001b[0m \u001b[0manalyze\u001b[0m\u001b[0;34m:\u001b[0m\u001b[0;34m\u001b[0m\u001b[0m\n\u001b[1;32m    240\u001b[0m             \u001b[0;32mreturn\u001b[0m \u001b[0mself\u001b[0m\u001b[0;34m.\u001b[0m\u001b[0manalyze_fx\u001b[0m\u001b[0;34m(\u001b[0m\u001b[0mDVg\u001b[0m\u001b[0;34m,\u001b[0m \u001b[0mDVs\u001b[0m\u001b[0;34m,\u001b[0m \u001b[0mp\u001b[0m\u001b[0;34m)\u001b[0m\u001b[0;34m\u001b[0m\u001b[0m\n",
      "\u001b[0;31mValueError\u001b[0m: operands could not be broadcast together with shapes (2,1) (2,5,2000,91) "
     ]
    }
   ],
   "source": [
    "m.optimize()"
   ]
  },
  {
   "cell_type": "code",
   "execution_count": 804,
   "metadata": {
    "collapsed": false
   },
   "outputs": [],
   "source": [
    "p['ssv'] = -1.3"
   ]
  },
  {
   "cell_type": "code",
   "execution_count": 810,
   "metadata": {
    "collapsed": false
   },
   "outputs": [],
   "source": [
    "dvg = m.opt.simulator.sim_fx(p)"
   ]
  },
  {
   "cell_type": "code",
   "execution_count": 811,
   "metadata": {
    "collapsed": true
   },
   "outputs": [],
   "source": [
    "y = m.opt.simulator.y.flatten()"
   ]
  },
  {
   "cell_type": "code",
   "execution_count": 812,
   "metadata": {
    "collapsed": false
   },
   "outputs": [
    {
     "data": {
      "text/plain": [
       "[<matplotlib.lines.Line2D at 0x7fd9d82a5e10>]"
      ]
     },
     "execution_count": 812,
     "metadata": {},
     "output_type": "execute_result"
    },
    {
     "data": {
      "text/html": [
       "<img src='data:image/png;base64,iVBORw0KGgoAAAANSUhEUgAAA9oAAAK5CAYAAABAAFYHAAAABHNCSVQICAgIfAhkiAAAAAlwSFlz\n",
       "AAAWJQAAFiUBSVIk8AAAIABJREFUeJzs3XmYZHV59//PqbX3rbpn3xhmnGEbNhkElGFTQRFBEwUF\n",
       "DBATSVAJmMTreqK/x6hRH2URozFqlNU1UUQjSoyAKMg2MGwzwzrMDDPd01XdVd1d+3J+fzR96pzq\n",
       "Zbq7qutUdb9f1/Xkqe+pqp47aa6uc9f9/d63YZqmKQAAAAAAUBEetwMAAAAAAGA+IdEGAAAAAKCC\n",
       "SLQBAAAAAKggEm0AAAAAACqIRBsAAAAAgAoi0QYAAAAAoIJItAEAAAAAqCASbQAAAAAAKohEGwAA\n",
       "AACACiLRBgAAAACggki0AQAAAACoIBJtmw0bNmjDhg1uhwGX8PtfuPjdL2z8/hcufvcLG7//hY3f\n",
       "/8JVrd89iTYAAAAAABVU8US7r69Pb3zjG3XrrbdO+z2xWEz//M//rDPOOEPHHHOM3vOe9+hXv/pV\n",
       "pUMDAAAAAGDO+Sr5wxKJhD760Y8qHo9P+z3JZFKXXXaZdu7cqbPPPltLly7VPffco2uuuUaDg4P6\n",
       "4Ac/WMkQAQAAAACYUxWraL/22mu6+OKL9dRTT83ofbfccou2b9+uf/qnf9J1112nT3ziE7rzzju1\n",
       "fv16feUrX9HAwEClQgQAAAAAYM5VJNG++eabdd555+n555/XSSedNKP3/uAHP1AoFNKFF15oXWtq\n",
       "atJHPvIRJZNJ/fKXv6xEiAAAAAAAVEVFEu1bb71VK1as0B133KHzzjtPpmlO63179uyxznQbhuF4\n",
       "7sQTT5QkPfroo5UIEQAAAACAqqjIGe3PfvazOvnkk2UYhl5++eVpv2/37t2SpFWrVo17rru7W8Fg\n",
       "ULt27apEiAAAAAAAVEVFEu1TTjllVu+LRqOSpNbW1gmfb2lp0fDw8KzjAgAAAACg2lydo53NZiVJ\n",
       "gUBgwucDgYDS6XQ1QwIAAAAAoCyuJtoNDQ2Sigl3qUwmo8bGxmqGBAAAAABAWSo6R3um2tvbJWnS\n",
       "7eEjIyPq7u4u69/YsGHDjN9z6qmnavXq1WX9u6hfl1xyidshwCX87hc2fv8LF7/7hY3f/8LG73/h\n",
       "mkmeuHPnzhn/fFcT7TVr1kiS9u7dO+65/v5+pdNpHXLIIVWOSurr61NfX1/V/13UhkceecTtEOAS\n",
       "fvcLG7//hYvf/cLG739h4/ePueJqor106VItW7ZMW7duHffcww8/LEk69thjy/o3ZvLtw6mnnqq+\n",
       "vj61trbqsMMOs66bpqlMPqtULqVkNj36/+fSKpiFmQdU8MrMexX0+WW+/rMLBVOmOfp4eoPRpsGT\n",
       "l+Erbsn3e3w6pHOV/F5Xf+UAgDKZpqlIIqoD8YhMlXwOmVJATdbIzLFpm+brC9P6GaNXnc9L5uj/\n",
       "mPqzyCjI8Gespcfw6JDOlWrwBcv83wwAgLm3fft2DQ8Pa/Hixfr9738/Z/+O61nXeeedp29+85u6\n",
       "/fbbdfHFF0sa3TL+zW9+U42NjTrvvPOqFsvq1avV19entevX6q8++1G9PLhbLw/u1q7BPVIupQZJ\n",
       "DdP8WYYM+fNtSgw2qxBvkxlvUyHRpkUdbfrHS96oN6zqHPce0zSVzuY1HM9qJJnRUDyjkURWQ4mM\n",
       "RhLF9XAiY/t/WQ3HM8oXSm+LCgpseFze9oh15dCuNfr/zrhGAa9/1v83AgC45/nwy/rXh25XJrFf\n",
       "rVrpeM4fX6arTr5IJ21cV5F/yzRN5QumsrmCcvmCcrmCsvmCHnhir+549ifyLSruRutpDukLZ/2j\n",
       "2homniICAECtuOSSS/TII4/M+VHhqibaX/va12QYhq666irr2l/+5V/q7rvv1uc//3k98sgjWrly\n",
       "pe655x7t3btXn/rUp9TZOT4hnWsvDryqrz38vWm/3jAMrWhdokO6Vmlt5yqZiTb98Oe9ig7lHa87\n",
       "ZdMyXfW+Y9TSOHGiaxiGGgI+NQR86umcfhM40zSVTOccSflP731RT7x4jIKHPyRPY0KS9MLALn3z\n",
       "kdv00TddZlU7AAC1L5oa0m1P/FQP7H543HOFVJOObT5d137wbDUEK/exbhiGfF5DPq+zb+r5W9bp\n",
       "t49t1oGhuLxtg5Kk/nhE1z34LX1qy8flY+cUAABzk2hPlsR9/etfl8fjcSTaLS0t+sEPfqDrr79e\n",
       "9957rx544AGtXbtW119/vc4555y5CK8shmFoRdtSre0cTarXdq3S6o4VavAFlS+Y+uE9O/Wj3+60\n",
       "tuNJkt/n0V+++0idc9KaOUlwDcNQU4NfTQ1+LepqkiT1dDbpb/9fWJkXjlfw8Idk+HKSpD/sflQr\n",
       "25fpgsPPrngcAIDKyhfy+s2L9+uHT/1CqXzK8ZyZ9yowsEFXn/lenXDYsqrF5PV6dMW7NukzN0dH\n",
       "v8xtSEqStve/qG8//gN95ISL+TIXALDgVTzRvuCCC3TBBRdM+NyOHTsmvN7V1aXPfe5zlQ6lbB7D\n",
       "o5VtS61K9drO0aQ66Bs/9zsSS+ordzyuZ16KOK4v72nWP1xygtYub69W2K//uy065+Q1+uUfXlHm\n",
       "xWMU2PC4DGM0+//B0z/X8rYl2rzimKrGBACYvucOvKD/2PpD7YntG/dcfmCxjm8/XR+7/CS1NI3/\n",
       "TJprx29cpGPWLte2F45T8PA/yfCO7uC695UHtbJ9mc7dcGbVYwIAoJawv2sCS1sW6fNn/YNWty9X\n",
       "YIKkutRj2/t0ww+2aiiecVw/7fgV+pv3Hq3GCm7lm4kL37pBv3tsjxJD3cq+ulGBNdut57728M36\n",
       "bPMntKZzhSuxAQAmNpiM6bZtP9UfXh3fCbeQbJavd5M+/o6zdMqm6lWxSxmGoSvOO1Ifv65fmReP\n",
       "VuANWzVWxL5t239pedtiHbv0SNfiAwDAbZ6Dv2Th6Wrq0PrQIQdNsnP5gr73i2f1me/8yZFkBwNe\n",
       "ffz9x+qai45zLcmWpPaWoP78zDdIkvIHVivXV2yck86l9aU/fEPR1JBb4QEAbHKFvH6587e6+lf/\n",
       "d1ySbea9yu7eoKPy79G//e37XE2yx6xZ2qa3nrhahdgi5fYUZ5GapqkbH/oP7Y3tdzE6AADcRaI9\n",
       "S30DCX3y63/QT+970XF99ZJW3XD1Fp21eVVNnFF711vWWo3VsrsPU2EoZD0XSQzqK3/4d2Xy2cne\n",
       "DgCogmf6duoffvN53frkfymZc57FzkWWythxmv52ywX69OUnqbN1uvMv5t4H375RjUGvcr1rlOtf\n",
       "bl1PZlP60gPf0FB6xMXoAABwD4n2LDz09D59/Pr7tPPVQcf1t79pta67eotWLq6d8SZBv1eXnvP6\n",
       "THDTo/QLRytotlnPPx95Wd967A6ZZsUmeAMApimSGNSND35H/3zfjdo75KwAFxItSm8/QRt1pr52\n",
       "9Tt01ubVNfEFrl1nW4Pee8Z6SYayu45Qfrg4KaQvHtb1f/yWcvmcewECAOASEu0ZyGTz+vefPqV/\n",
       "uflRxZPFKnBj0Kd/uPiNuurPj1HQ73UxwomdeuwKrVvxejO2fECxpzepwVusiPx+18O6a8f/uBQd\n",
       "ACw8uXxOP99+j66++zN6cM/jjufMnE+ZVzfK3PFmXX7GFn3uIydr8esTJWrR+VvWqbujUTI9yrxw\n",
       "jMx0cTzlc/0v6Ltbf8SXuQCABYdEe5r29Y/o77/2gH75x1cc19etaNeN12zRW45dPsk73efxGLr8\n",
       "XcWmNGaqRR0DJzsqI99/6k499to2N8IDgAXlqd7t+sRvPqc7nvqZ0rm047lceJlST79FhwSO0Y3X\n",
       "nKF3n3qoPJ7aqmKXCvq9+tA7Xt85lQsq/fxx8pjF/iS/ffkPuvuFe12KDgAAd5BoT8N9W/fq6hvu\n",
       "08uvxRzXzzt1rf7fR9+iZd0tLkU2fUet69aJRyyx1q/sDGjL4rdZa1OmbvrT97Q7+pob4QHAvBeO\n",
       "D+i6P35Ln7v/Ju0b7nM8V4i3Kv3ciSrsOlofOH2TvvzRt9TUMaSDOfXYFVq/skOSZCZblXxhkwwV\n",
       "vyC45cn/1JP7n3MrPAAAqo5EewqpTE43/egJXXfH40qm89b1lka//s9lm/Xhdx8lv6/2topP5kPv\n",
       "PNxRGdn2ULPOOOQUa53KpfWlB76hGJ3IAaCifvX873T13f9XD+99wnHdzPmU2XWY0s+epOXNK/WV\n",
       "j52qi96+UT5vfX08ezyj477GFKKL1Da8yVqPdiL/jl4b6nUjPAAAqq6+Psmr6NXeIV371d/rfx7Z\n",
       "7bh+2JouffXa0/SmI5e6FNnsrVzcqre/abW13tef0LL0iTq8Z711rT8xWnHJ0okcACrixcgu3fzE\n",
       "T8ZNeMj1L1fqqbeo0L9a529Zrxv+7jSte70qXI+OWBvSyZuKn42925doQ+tR1jqRTepLD3xDI+m4\n",
       "G+EBAFBVJNoTGBhK6Zobf6/dvcOO639+5nr9y9+cokWdtduU5mA+8LaNjtneP/qfF3Xl8ZdrcXO3\n",
       "dW1H+CV9+/Ef0LwGACpgV3SPY12Ityn17JuUfeUoLWrr1OevPEVXnHdkTTbTnKm/eOcR8nnHdk4Z\n",
       "2vvEIVrXdYj1fO9Iv65/8NvKFfIT/wAAAOYJEu0JvHZgRJls8SagvSWgz3z4JF36jsPrbjtfqY7W\n",
       "oP7sjGIFeyie0a//sE//+Ja/UaO/2In8vlce0i93/q8bIQLAvLJnIOxYp597k8x4h9524mp97drT\n",
       "dNSh3ZO8s/4s7W7WuW9ea63DAxkdprequ6nLuvbMgZ26eeuP3QgPAICqqe+ssQo2revWTdeeruM2\n",
       "LnI7lIo579S16m4vJtV3/f4lBQrtuvqkKxydyG/f9lNt3fe0GyECwLzxSv8B67GZDaijpVGfuuJE\n",
       "ffR9x6ipwe9iZHPj/W/doNamgLX+xb379JHjLlfQW7x2z0u/169fuM+F6AAAqA4S7Ul4DOmDZ2/U\n",
       "P//1yepqazj4G+pIQ8CnS8ZGsUjK5Aq6/e7tOnbpkbrk6Pda102Z+upD39We2D43wgSAeSGaKk6s\n",
       "MDNB3XTNadp8+JIp3lHfWhr9uuhtG6x1Mp3TAw+N6KNvuszxupuf+Ime6t1e7fAAAKgKEu0J+Hwe\n",
       "fe7KU3ThWzfIW+PzS2frtONWau2ydmt97+N79eLeqN75hjN0+iEnW9eTuZS+9MA3NJQecSNMAKh7\n",
       "I9livw9voVGd8+zL24mcc/IaLe9pttb3/GmXFvvW6sKjzrOuFcyCbnjw2+NGnQEAMB+QaE/gDSs7\n",
       "5tWZuYl4PIYuf9cRjmvfvetZSdKHj79Ih/Wss64fiEd03R+/pVw+V9UYAWA+SBWKX1QGjeYpXjl/\n",
       "+LweXf4u27gvU/ruL57VBYedrTev3mxdj491Is/QiRwAML+QaE/AW+cNz6br6Df06I2HLbbWT78U\n",
       "1qPb++Tz+nTtyX+lnuaQ9dz2/hf0na0/pBM5AMxArpBXzkhZ61Z/q4vRVNcJhy/WpnXFL6237jig\n",
       "rTsP6CMnXKx1XWus6/uHD+iGB7+jPJ3IAQDzyMLIKDGpvzj3cNl3x3/vF88qny+oraFV//jmK9Xg\n",
       "C1rP/e7lP+pXz//OhSgBoD7FUkOS7W9sR0P75C+eZwzD0BXnHSlbj0199xfPyiuv/v7NH1GosdO6\n",
       "/nTfDt3yxH+6ECUAAHODRHuBW72kTW89cbW13ntgRPc8/KokaVXHcn38pCtk2O4Sb932X3pi/zNV\n",
       "jxMA6lHvUMSx7m7ucCkSd6xd3q4z37jKWu/uHdY9j+xWZ2O7/v7NH1HAW+y6/usX79M9L/7ejTAB\n",
       "AKg4Em3og2/fqIaA11p//zc7lUhlJUnHLztKHzz6fOs50zR140P/ob1D+6seJwDUm90D/Y71krbQ\n",
       "JK+cvy4+Z6OC9s+YX+9QIpXV2q5VuurEv3C89rtbf6Rn+nZUOUIAACqPRBvqbGvQe89Yb62jI2n9\n",
       "9N4XrfW7NrxVW9a8yVonsyl96YF/0zCdyAFgSvuizor2iq6Fl2iH2hv13tOdnzH/+bsXJElvWnmc\n",
       "3nfku6znCmZB1z34bfUOHxj3cwAAqCck2pAknX/qoY554T+7/yWFo0lJo+fs/uqNH9CG7kOt5/tG\n",
       "+nX9g99WjuY1ADCpA8OD1mPTlFZ397gYjXsu2OL8jLnz/pd0YCAhSXrv4efo5FVvtJ6LZxL60gP/\n",
       "pngmUfU4AQCoFBJtSJIagj5dfPZGa53J5nX7r7dba7/Xr0+c8lfqbuqyrj174Hl9d+uP6EQOAJMY\n",
       "SEaLi2xQPR0LY7xXqYagT5e+4zBrnc0VdMuvnpM0+mXu35xwiQ7tLPYLeW24Vzc+9B90IgcA1C0S\n",
       "bVjOOGGV1ixts9a/e2yPXn4tZq3bG9r0j2+5UkFbJ/LfvvSAfv3CfdUMEwDqxlB6yHps5BrUGPS5\n",
       "GI27Tj9+pQ5dUey6/vsnXtPOVwckSQFfQH//lo+os7H4/Lbe53Tbk/9V9TgBAKgEEm1YvB5Dl73r\n",
       "CGttmqPjvuwV69UdK/SxN13m6ER+85M/0SuDe6oaKwDUg0S+2MsioIVZzR7j8Ri64l1HOq79x13F\n",
       "z5iuxg79w5uvdHQi/9UL9+qhPY9XNU4AACqBRBsOx21YpOM2LLLWT77Qr607nU1pTlh+tC7a9G5r\n",
       "bZqmHtj1cNViBIB6kVHxnHGzr8XFSGrDUeu69aYjl1jr7bsG9Men9lnrQ7tW6282f8jxHnZNAQDq\n",
       "EYk2xrnsXUfIUyxY67u/eFb5fMHxmndvfJsWtxSb+vTFw9UKDwDqQiaflenNWOu2YNsUr144/uLc\n",
       "I+S1fcjc/MvnlMkWz2KfvOp4nbrmRGv9fPhlJbLJqsYIAEC5SLQxzpqlbTrzhFXWenfvsH77qHNr\n",
       "uGEYWtzcba3DiYGqxQcA9aBv2Pl3sauxw6VIasvynha985RDrHXfQEK//MPLjte8cdkm63HeLOiZ\n",
       "vp1Viw8AgEog0caEPnj2RgUDXmt9x6+3K5nOOV7T3VzsQB5ODAoAUPRq2HnsZnFLp0uR1J4L37ZB\n",
       "LY3Fs9g/+u3zio2krfVRizfKYxRvUbb1PlfV+AAAKBeJNiYUam/UBVvWWevB4bR+dt+LjtfYR30N\n",
       "p0eUyqUFABi1d8B5pGZZZ/ckr1x4WpsCuvBtG6x1IpXTD+4pVq2bA01a37XGWj/Vu10AANQTEm1M\n",
       "6j2nr1NHa3GU10/ve1GRWPGcXI8t0ZakCFVtALD0Djm3jq8O9UzyyoXpHScfoqXdxU7sdz+0S3v6\n",
       "hq31piXFudt98bB6h507BAAAqGUk2phUY9Cni8/eaK3Tmbzu+PUOa23fOi5J/XHOaQPAGPuXj2bB\n",
       "0MrurilevfD4fR5ddu7h1rpQMPXdXzxrrY9ecrjj9U+yfRwAUEdItDGls05YpVVLWq31/z66W7v2\n",
       "D0mSupuc5w1piAYARdHUkPXYyDWopTE4xasXpjcduVRHrA1Z68e29+nJ50cr1+u61qg50GQ9xzlt\n",
       "AEA9IdHGlLxejy479whrXTCl7/1ytOIQauyUoeKIFhJtACgayRW3QfvMpileuXAZhqG/PO9Ix7X/\n",
       "uOtZ5QumPB6Pjlpc3FX17IHnlcvnSn8EAAA1iUQbB3X8xkU6Zn3xbOHWHQe0decB+bw+dTQW58KG\n",
       "2ToOAJZUIW49bvQ0T/HKhW3dyg6dfvwKa71r/5D+99HdkqRjbNvHU7m0dkZeHvd+AABqEYk2Dsow\n",
       "DF32riNkFIvX+t4vRisOPU3FLX9UtAGgKO8pNo9s8bdO8Upccs7hCviLIyVvv3u7EqnsuHPabB8H\n",
       "ANQLEm1My9rl7Tr9+JXWetf+Id372G7HOe1+Em0AkCTFEnHJW9zm3NnQ7mI0ta+ns1EXnHaotR4c\n",
       "Tuun976oUFOnVrQtta5v20+iDQCoDyTamLZLzjlMAV/xP5nb7t6hjmCHtR5IDKpQKLgRGgDUlFfD\n",
       "/Y51T0vnJK/EmPeevl6dtpGSP7vvRfUPJh1V7VeiexxN5gAAqFUk2pi27o5GnX/aOms9MJTSvn3F\n",
       "xDpvFrgBAgBJr0acifbSttAkr8SYxqBPF59TnJ2dyRV0293Pjds+/lTv9mqHBgDAjJFoY0bee/o6\n",
       "dbQUKw5PPDPseL4/Eal2SABQc/bHnH8LV3R1uxRJfTnzhFVas7TYZPPex/cqkO6W3+u3rnFOGwBQ\n",
       "D0i0MSNNDX594O0brHU67pwLS0M0AJAOjDj/Fh7Ss8ilSOqL12PoivOOcFy75097dXhPcTfVU73b\n",
       "VTA5pgQAqG0k2pixt524WisWtUiSzEyD47l+RnwBgAaTseKi4FF3a9vkL4bDMW9YpPUri/0/9vXH\n",
       "HdvHY+lhvRp9zY3QAACYNhJtzJjX69Fl575eccj7ZOaLI1moaAOANJQp9qvw5Btl2Ocj4qCWdhfn\n",
       "jodjScZ8AQDqDok2ZuWEwxerp7NRkiEz3WhdDycG3QsKAGpEMj9iPQ4azVO8EhPpbi9+rgzEUlrW\n",
       "skRdjcUqN4k2AKDWkWhjVgzD0KLOJkmSmbEl2mwdBwBljIT1uNnb6mIk9SnUXjyWlC+YGopnHFXt\n",
       "HeGXlMqm3AgNAIBpIdHGrI3dCJnp4g0RW8cBLHSZbF6mr5gEtgc5nz1ToY5GxzoSS+noJcXRX/lC\n",
       "Xs/2v1DtsAAAmDYSbcxaz+s3QvaKdiKbVCKTdCskAHDd3siADE+xK3aouWOKV2Mi9oq2NHpO+6jF\n",
       "G2WoeNZ92362jwMAaheJNmYt1D6WaJfcEFHVBrCAvRrpd6wXtXS5FEn9sp/RlqRINKnWYIsO7Vpt\n",
       "XeOcNgCglpFoY9a6xyraaecNEYk2gIXstYGwY728s9ulSOpXZ2tQHluj9sjQ6FZ8+znt/SMHdGAk\n",
       "XPpWAABqAok2Zq274/Uz2szSBgBL37Dzb+Ca7h6XIqlfXq9HHa22/h/R0SNJpWO+nqSqDQCoUSTa\n",
       "mLVu29Zx0yyWHqhoA1jIwomoY72sna3jszH2Za402gxNktaH1qjJX9xFxfZxAECtItHGrLW3BOXz\n",
       "GpIMmZmgdZ1EG8BCFkvHrMdGwafGQOMUr8ZkQrZz2pHYaEXb6/HqyMUbrOvP9O1UrpCvemwAABwM\n",
       "iTZmzeMx1NU+/pw2s7QBLGQjuRHrsd9scjGS+mbvPB6JpWSapiTpGNv28WQupRciL1c9NgAADoZE\n",
       "G2WZaMRXODHoVjgA4Lq0GbceN3paXIykvtkr2qlMXvFUTtL4c9psHwcA1CISbZRlrOJgb4g2kIqy\n",
       "lQ/AgpTNFVTwJK11a6DVxWjqW3fJLO2x7eM9zSEta11sXd+2f3tV4wIAYDpItFGWnglGfJmmqYFk\n",
       "dLK3AMC8FYklJH/aWnc2drgYTX0LdZTO0k5Zj+1V7ZcHd2soPSIAAGoJiTbKErJ1HrfjnDaAhWh3\n",
       "JCLDY1rrnuZOF6Opb6GSinY4VtwpYE+0TZl6uo+qNgCgtpBooyzdE1S0JTqPA1iY9kT6Heul7SGX\n",
       "Iql/9jPaUnHElyQdvmi9fB6ftWb7OACg1pBooyxjc07HVbRJtAEsQPtjzr99q0I9LkVS/4J+r1qb\n",
       "/NY6YqtoN/iCOqznUGu9re85qys5AAC1gEQbZekeqzgUfDJzxRuifraOA1iA+uPOqQvLOqhol8M5\n",
       "SzvleG7T4uL28cFkTHti+6oWFwAAB0OijbK0twTl8xqSSmZpU9EGsAANJmOOdVdju0uRzA/2c9rh\n",
       "aNLxXOmYrycZ8wUAqCEk2iiLx2Ooa4KGaCTaABai4eyQ9dhTCMrv9U/xahxMd8fkFe3VHcvV0dBm\n",
       "rZmnDQCoJSTaKFtxxJct0Y4PcF4OwIKTLBTHTDUYzS5GMj+E2oqfK8OJjNLZvLU2DEOblhxmrXf0\n",
       "v6h0LlPV+AAAmAyJNso2trXPzBQrD+l8RiOZuFshAUDV5fIF5Yzi9uZmX4uL0cwP42Zpx5zbx4+x\n",
       "bR/PFnJ6rv/5qsQFAMDBkGijbGMV7ULJiC8aogFYSAaH0jL8aWvd0cD57HJ1TzHiS5I2LT5Mhgxr\n",
       "vW0/28cBALWBRBtlC01wRlvinDaAhaVvcESyJdqhpg4Xo5kf7M3QJClS0hCtraFVh3SutNbbepmn\n",
       "DQCoDSTaKNtYsxr71nGJRBvAwrInEpZRLK5qSRujvco1fut4atxr7N3HXxvuVZjdVACAGkCijbJ1\n",
       "d7xeccgGZBaKd5nc7ABYSPbFIo71cmZol625wadgwGutwyVntCXGfAEAahOJNspWPENnOKra4cSg\n",
       "OwEBgAv6hpxfLi7rJNEul2EY6rZtH5+oov2G7rVq9BVf8xTbxwEANYBEG2VrbwnK5x2tZNtHfPUn\n",
       "IpO9BQDmnUgi6liHGjtdimR+CbXbZ2mPr2j7PF4dsXiDtX66b7vyhfy41wEAUE0k2iibx2Ooq338\n",
       "OW0q2gAWklh6qLgwpfaGVveCmUdCB6loS9Ixtnna8WxSLw28OudxAQAwFRJtVERPx/jO47HUkDL5\n",
       "rFshAUBVJXLD1mO/GuX1eKd4Naar29YQbXAopXy+MO41nNMGANQaEm1UxFjFwSyZpR2hqg1gAcjn\n",
       "C8oYCWvd5G1xMZr5JdRW/AK3YEqDw+lxr1nc0qMlLT3WehuJNgDAZSTaqIgeRnwBWMAGh9OSv7it\n",
       "uTXQ5mI088v4EV/jz2lL0ibb9vEXB3ZpJBOf07gAAJgKiTYqYqxZjb0ZmiT1M+ILwAIQjiVl+IuV\n",
       "1q7GdhejmV/sZ7QlKTzpOe3i9nHTNPV03445jQsAgKmQaKMiuic4oy1R0QawMPQNjMjwF3tS9LTQ\n",
       "cbxSutunV9E+YtEGeY3ibc22/WwfBwC4h0QbFdHd8XqCbXplZgLWdRJtAAvB3sGwY72so9ulSOaf\n",
       "9pagvB7DWkeiE1e0G/0N2tB9qLXe1rtdpmnOeXwAAEyERBsVYa84OEZ8sXUcwAKwPxZxrJd3hFyK\n",
       "ZP4ZHSF58BFfkrP7eCQ5qNeGeuc0NgAAJkOijYpobwnK5x2tONi3j1PRBrAQhOPOCQtdjR0uRTI/\n",
       "2b/MDU+ydVxizBcAoHaQaKMiRisOozdCBduIr3BiUAVz/MxTAJhPoqkhx7qTZmgV5axoT55or+lc\n",
       "obZgcbSs4MlTAAAgAElEQVQaY74AAG4h0UbF9EzQEC1XyGkoNexWSABQFcPZYqJtmIZag8zRriR7\n",
       "RTsSS0169tpjeLTJVtV+rv8FZXKZOY8PAIBSJNqomLERLGa6dJb24EQvB4B5IV8wlSoUZzYHPc3y\n",
       "GHy8VpJ9xFc2V9BQfPLk2T7mK5vPanv4xTmNDQCAiXAngIqZqKItSf2JyEQvB4B5ITqckmwztFt8\n",
       "rS5GMz+VjvgaGJq8IdqmJYc51tt6t89JTAAATIVEGxUTah9LtEsq2nEq2gDmr0gsJSNQTPw6Gjif\n",
       "XWn2M9qSFI5Ofk67o6FNazpWWGvOaQMA3ECijYrpfr2irZxfZt5rXaeiDWA+C0eTMmwV7e5mOo5X\n",
       "mvX58rqpRnxJzu7je2L7NJCIzklcAABMhkQbFdPdMVZxMEpGfFHRBjB/7R+IyfDlrPXiti4Xo5mf\n",
       "utpKKtpTdB6Xxo/5oqoNAKg2Em1UjP0Mnb0hWiTOLG0A89e+mPNv3NL2kEuRzF9+n0cdLUFrPXCQ\n",
       "ivaG7rUK+oqvJ9EGAFQbiTYqpr0lKJ/XkORsiNafINEGMH8dGHb+jQs1sXV8LoQ6bDulpjijLUl+\n",
       "r19H9Ky31k/17VChUJiz2AAAKEWijYrxeAx1jTVEs1W0RzJxpbJTVx8AoF5FSs7/djWSaM+FUFvx\n",
       "cyV8kIq25Nw+PpKJ6+XB3XMSFwAAEyHRRkVNNuKLc9oA5qvhzJBj3dlI1/G5YK9oDxzkjLYkHb3U\n",
       "eU77SbaPAwCqiEQbFRV6fQTLuBFfbB8HMA8VCqYS+RFr7ZFXzf4mFyOav0K2EV/xVE7JdG6KV0tL\n",
       "Wxapp7l4Xp5z2gCAaiLRRkVZFe10aUWbRBvA/BMbScv0F7cxN3lbZBiGixHNX/aGm5IUOUhV2zAM\n",
       "x/bxFyKvKJE5eCUcAIBKINFGRYXGzmhnG2Saxev9dB4HMA/1l8zQbgu0uRjN/GavaEtSJHrwc9rH\n",
       "2BLtglnQ0wd2VDwuAAAmQqKNiup+vaIt01MyS5tEG8D8E4klZQSKiXYXHcfnTKi0oj108Or0kYs2\n",
       "yGMUb3W27Wf7OACgOki0UVHdtmY1zkSbZmgA5p/+QWdFe1Frp4vRzG+lFe3wNCraTYFGvSF0iLXe\n",
       "1vucTPt2KwAA5giJNirKfobOkWjHI26EAwBzqi8Wk+HNW+slbaEpXo1yNDX41dTgs9bhaXQel5xj\n",
       "vvoTA9o/cqDisQEAUIpEGxXV3hKUzzvaCMg+SzuSjKpQKLgVFgDMif0x55eIIWZozyn79vGBaczS\n",
       "lpyJtsT2cQBAdZBoo6I8HkNdYw3RbCO+CmZBA6moW2EBwJwIJ5x/15ihPbfs28enW9Fe27lKrYFm\n",
       "a82YLwBANZBoo+ImHfEV55w2gPklmoo51l0k2nPKfjwpMs2Ktsfj0VFLDrPWzx54Xtl8tuKxAQBg\n",
       "R6KNihurONgr2hKdxwHML4WCqXh2xHGtk63jc8pe0Y4Op5XNTe9Ikn3MVzqf0c7wSxWPDQAAOxJt\n",
       "VJxV0c6UVLRJtAHMI7F4WqavuH3ZbwTU6G+Y4h0oV6jD+QXu4ND0qtqbbBVtSXqyd3vFYgIAYCIk\n",
       "2qg4q1lN3i8zZ+sQGyfRBjB/RKIpxwztFn+ri9EsDN2lI76meU67q7FDq9qXW2vOaQMA5hqJNiqu\n",
       "u2PiEV/9VLQBzCPhWFKyzdDuaOB89lyzdx2Xpn9OW3JWtV+N7lU0GZvi1QAAlIdEGxXX3VFMru0j\n",
       "vtg6DmA+iUSTMgLFRK+nmfPZcy1UUtGOTLOiLTnPaUvSNraPAwDmEIk2Ks7eFdbeEI1EG8B8cmAw\n",
       "IcNW0V7U1uViNAtDW3NAfl/x1iUcnX5Fe2PPOgW8fmvN9nEAwFwi0UbFtbcE5fMakpxbx5PZlOKZ\n",
       "hFthAUBF9Q3FZHhMax2i4/icMwzDUdWeSUU74PXr8J711npb33YVzOl1LQcAYKZItFFxHo+hrvax\n",
       "WdqM+AIwPx0Ycf49Y7RXdYRmMUt7zNG27ePD6RHtGtxTsbgAALAj0cacmGzEVz+dxwHME4MlzbS6\n",
       "GmmGVg2zrWhL0tFLnee0n2T7OABgjlQk0c7n87r55pv1zne+U0cffbTOOussfeMb31Aul5vW+3fu\n",
       "3Kkrr7xSmzdv1qZNm3Teeefpxz/+cSVCg0vGboQKVLQBzEOmaWooM+S41kmiXRWlFe1CwZzi1U7L\n",
       "W5co1NRprZ+iIRoAYI5UJNH+zGc+oy9+8Yvq6urShz70IS1ZskQ33XSTrr322oO+d8eOHbrwwgv1\n",
       "wAMPaMuWLfrABz6gZDKpT3/607ruuusqER5cMFbRVjYos2BY18OJQZciAoDKGYpnVPA6q6mdjPeq\n",
       "Cvss7XzBVCyenuLVToZhOLaP7wy/pGR2ZtvPAQCYjrIT7a1bt+rHP/6xzjnnHN1222265pprdPvt\n",
       "t+v888/XPffco/vvv3/K9994441KpVK66aab9OUvf1mf/OQnddddd2nNmjX67ne/q9dee63cEOGC\n",
       "YsXBkJkt3hSF4xF3AgKACgpHk46O40FPgwK+gIsRLRyhjpJZ2jPoPC45x3zlzYKePbCzInEBAGBX\n",
       "dqJ9xx13yDAMXXXVVY7r11xzjSTpJz/5yZTvf+aZZ9TW1qYzzjjDutbY2Khzzz1XhUJBTz31VLkh\n",
       "wgXdthshM21LtKloA5gHIrGUjEAx0W4PUs2ulnJmaUvSkYs3yDCKO604pw0AmAtlJ9qPP/64Ojs7\n",
       "deihhzquL1q0SGvWrNGjjz465fs7OjoUj8c1PDzsuN7b2ytJ6upiLmk96u4o3gjZZ2n3J6hoA6h/\n",
       "/dGkDH+xkhpqouN4tXS3l/T+mGHn8ZZAs9Z3HWKtt3FOGwAwB8pKtDOZjHp7e7Vq1aoJn1++fLmG\n",
       "hoY0ODh5FfPCCy9UPp/Xtddeq927dysej+s///M/deedd+qII47Q5s2bywkRLrHfCNlHfEWTQ8rl\n",
       "p9ckDwBqVSSWdFS0F7V0TvFqVFJna1CeYkF6xhVtSTp6yWHW476RfvWO9FciNAAALL5y3hyLjY42\n",
       "aW1tnfD5sesjIyPq7Jz4JuTiiy+W1+vV5z//eb3tbW+zrp9yyim64YYbHNu7UD/aW4LyeQ3l8qZj\n",
       "xJcpUwPJqBa1dLsYHQCUpz8al2xntLuoaFeN1+tRR2uDBoZGK9kznaUtjc7T/smz/22tt+1/TkvW\n",
       "b6lYjAAAlFXRHhvfFQhM3ABm7Ho6PXlH0CeffFLf+ta3FAgEdMEFF+jSSy/VunXr9NBDD+mrX/1q\n",
       "OeHBRR6Poa72SWZpM+ILQJ07MBSV/XtgRntVl/2cdjg684r2uq41avYXd1tt45w2AKDCyqpoB4NB\n",
       "SVI2m53w+UwmI2m0udlERkZG9Nd//deSpDvvvNPagp7L5XTttdfqjjvu0Lp163TRRReVEyZc0tPR\n",
       "qAMDCcfWcUkKx0m0AdS3/nhUsm3U6mqkol1N3R2NemFPVNLsKtoej0dHLT5Mf9q7VZL0zIGdyuVz\n",
       "8nnLui0CAMBS1idKa2urPB7PuEZmY8auT7a1/He/+51isZiuuuoqxzlvn8+nT3/60/rNb36jn/3s\n",
       "Z2Ul2hs2bJj1e1GesYoDFW0A84lpmoqlY/LarlHRri57RTsSS8o0zRkfNTt6STHRTuXS2jvUqzWd\n",
       "KyoaJwCgdj3yyCPTzhV37pz5KMiyto77/X4tW7ZMe/funfD5vXv3qqurS21tbRM+39vbK8MwtHbt\n",
       "2nHPhUIhdXZ2at++feWECBf1jI34KvhkZv3W9TCJNoA6NpzIKu9xblcm0a6ukK3hZiqTVyI18yab\n",
       "i1t6HOuRTLzsuAAAGFP2Hqnjjz9ed911l1599VWtXr3aun7gwAHt2rVLZ5555qTvDYVCMk1Tu3bt\n",
       "Gvfc0NCQotGoNm7cWFZ8M/n24ZJLLtEjjzxS1r+HIvuNkJlplOEfPWIQIdEGUMfCUWfHcUnqaCDR\n",
       "rqbuklna4VhSzY3+SV49sSa/81hTIjvzs94AgPq1efNm3XbbbXP288ueo33++efLNE1df/31Mk3T\n",
       "un7dddfJMAy9733vm/S9p59+uhobG3X77bdrz5491vVCoaAvfOELkqRzzz233BDhku4O+4iv4k1R\n",
       "P2e0AdSxcCwpw9ZxvNnXLJ/HO8U7UGmhklnakejMz2k3BUi0AQBzp+yK9kknnaR3vOMduvvuu/X+\n",
       "979fJ554orZu3aqtW7fq7LPP1pYtxXEZX/va12QYhq666ipJUldXlz71qU/pU5/6lM4//3y9/e1v\n",
       "V1tbm/70pz9p586d2rx5sy699NJyQ4RLujtsY70yxRuacGJgVufpAKAWRKJJGYFiYse28eoLdTgr\n",
       "2rOZpd1MRRsAMIcq0l7zy1/+stavX6+f/exnuvXWW7V06VJ9/OMf1xVXXOF43de//nV5PB4r0Zak\n",
       "97znPVqxYoW+9a1v6be//a1SqZRWrlypq6++Wpdffrn8/pltBUPt6HZsHS/eFGXyWQ2nR9TWMHGT\n",
       "PACoZeFYylHR7mnucjGaham0oh2eRefxRhJtAMAcqkii7fV6deWVV+rKK6+c8nU7duyY8PrmzZu1\n",
       "efPmSoSCGtLeEpTPayiXN1UoHfGVGCDRBlCXSs9odzUx2qvagn6vWpv8Gk683vtjFhVtn8eroDeg\n",
       "dH50FGkiQ6INAKicss9oA5PxeAx1vV51sG8dl6RwYtCNkACgbP3RERn+jLVm67g77FXt2czSlpwN\n",
       "0ahoAwAqiUQbc2psxJe9GZok9ccjboQDAGXrH4k61l0k2q4onaU9G85Ee3bJOgAAEyHRxpyyboRy\n",
       "AalQ/M+NijaAemSapgZTMce1zka2jrvBPtkiPIuu45Kz8zgVbQBAJZFoY071WDdChqMhWn+CijaA\n",
       "+jOSzCprJBzXOpmh7YpQW/EzZTiRUSabn/HPsFe049nEFK8EAGBmSLQxp+xn6OwN0SJxKtoA6k9p\n",
       "IzSJreNuCXWUzNKexTltzmgDAOYKiTbmlH1rn72iHU4MuBEOAJQlEkvJ8BcTOkMetQWZoOAG+xlt\n",
       "SQrP4pw2Z7QBAHOFRBtzqrujeCNk2irasfSwMrnMRG8BgJpVWtFuD7bK4+Gj1A3d7ZWoaBc/o6ho\n",
       "AwAqibsDzCn7jZC9oi1J4STbxwHUl3A0KcPPDO1aUFrRjkRnnig3B5qsx9l8Vtl8tuy4AACQSLQx\n",
       "x9pbgvJ5DUnOirYkheNsHwdQX8IxEu1a0dzoVzDgtdaRofLOaEtUtQEAlUOijTnl8Rjqer2qPa6i\n",
       "zTltAHUmEk3JCBQTOhqhuccwDHXbqtrhWVS0xyfanNMGAFQGiTbm3NiILzNTUtEm0QZQZ/qHhmX4\n",
       "cta6ixnarrJPthgo84y2REUbAFA5JNqYc9Y5OtMjIxe0rvezdRxAHTFNU5F41HGNGdrusp/TLrfr\n",
       "uESiDQCoHBJtzLke24ivfIoRXwDqUzyVU0YJx7VOKtqusle0B4dSyucLM3p/k7/JsSbRBgBUCok2\n",
       "5pz9Rqhga4gWTtB1HED9iJSM9pI4o+02+xntgilFR9JTvHq8poCzoh3PkGgDACqDRBtzrrtj4hFf\n",
       "kcSgCubMqg8A4JZwLOlohCZJnSTaruoqmaU904ZonNEGAMwVEm3Mue6O4o2MvSFarpBTLDXsRkgA\n",
       "MGPhaFKyjfbyGl61BJpdjAj2zxdJisywIVqTjzPaAIC5QaKNOddtqziYaedNUX88Uu1wAGBWwtGU\n",
       "Y+t4V2OHDMNwMSJ0l1a0Z9gQzePxqMFXbNJJog0AqBQSbcy59pagfN7Rm9HxI744pw2gPkRiSRl+\n",
       "ZmjXkvaWoLye4pcdsxnx1WxriEaiDQCoFBJtzDmPx7DO0ZVWtOk8DqBehEuaodFx3H2jny+2aRbR\n",
       "8mZpJ2iGBgCoEBJtVIU14ivvl2H6rOthZmkDqBP9sYQMvz3RpqJdC0JttiabQ+XN0qaiDQCoFBJt\n",
       "VEXIqjgYMjL2EV8k2gDqQ2RoRIY3b627qGjXhJBtskVkNhXtAIk2AKDySLRRFT22G6Fcqth4pp9E\n",
       "G0AdSKSySplxxzUq2rUhZN86HkvKNM0Zvb+RijYAYA6QaKMqQrbOsIU0FW0A9SUcTTq2jUs0Q6sV\n",
       "9s7j2VxBw4nsjN7fTKINAJgDJNqoiu6OiUd8xTMJJbMz3+oHANVUOtpLohlarbBXtKXR7vAzYT+j\n",
       "Hc/OvCIOAMBESLRRFd0dxRuh8SO+qGoDqG3hktFeElvHa0WoZJZ2ZIYjvuyJdr6QVzY/s4o4AAAT\n",
       "IdFGVdi39jHiC0C9iZSM9gp6A2r0NUzxDlSLfceUNLrNfybsibbE9nEAQGWQaKMq2luC8nkNSeMr\n",
       "2v2M+AJQ4/qjSRmBYqW0q7FDhmG4GBHGdLWVbh2ffUVbItEGAFQGiTaqwuMx1PV6VdvMBCWzeINK\n",
       "RRtArYvEUhIztGuS3+dRR0txmsVMz2g3B0oTbfqGAADKR6KNqimO+PLIW7B3Hh90JyAAmKZwzLl1\n",
       "nES7tnTZR3yVuXU8nk1UJCYAwMJGoo2qcXSGzdhuiuIRF6IBgOkLRxOOZmh0HK8t9j4gkSG2jgMA\n",
       "3EeijarpsTWsySSK2/yoaAOoZYlUVolcUoanOPaJGdq1xf5FbqTcZmgZEm0AQPlItFE19hEsBVvn\n",
       "8YFkVPlC3o2QAOCgIrGUDL9zhnYXFe2aErKNkIynckqmc9N+7/iKNme0AQDlI9FG1dhHsJhpW9Jt\n",
       "FjSYjLkREgAcVLik47jEGe1a0z1ulvb0q9IN/qAMFRt0snUcAFAJJNqomm5bxaF0xBedxwHUqkgs\n",
       "Oa6izRnt2uLoAaKZjfjyGB41+m0VcZqhAQAqgEQbVeOoaGecN0XM0gZQq/qj47eOdzZQ0a4loTIq\n",
       "2pJz+zgVbQBAJZBoo2ram4PyeUe359m3jktUtAHUrkjJaK9mf6OCvoCLEaFUORVtqTTR5ow2AKB8\n",
       "JNqoGo/HUNdY1aHgk9cs3qj2k2gDqFGlZ7TZNl57mhr8amrwWeuZz9IuJupJKtoAgAog0UZV2Ud8\n",
       "efNN1uMIiTaAGlXadZxGaLXJMeJrphXtQPHziPFeAIBKINFGVdlvhPKp4uMwZ7QB1Kj+cRVtEu1a\n",
       "ZD+nXc4ZbZqhAQAqgUQbVWWvaGcSzq3jpmm6ERIATCqZzimezEj+jHWNGdq1yT7iKzzjM9rFL345\n",
       "ow0AqAQSbVSVveJQSBUfp3JpqggAak4klpT8GRlG8YtAOo7XJvuOqdhIWtlcYdrvLe06zhe/AIBy\n",
       "kWijqqYa8cX2cQC1JhJNyfA7K5xsHa9NIfvniykNDk2/Mm1PtAtmQel8ZopXAwBwcCTaqKrujmJy\n",
       "PS7RpiEagBozej7bOUObreO1qZwRX/ZEW2KWNgCgfCTaqCp7Rbswbpb2YLXDAYApRWJJR8dxiUS7\n",
       "VtnPaEtSeAYN0ZoDJYk2nccBAGUi0UZVtTcH5fMao4tsUIbtP8H+eMSlqABgYuFYytFxXJI6Gtpc\n",
       "igZToaINAKglJNqoKo/HUJdVdTAUMJut56hoA6g14aizot0WbJHP63MxIkymrTkgn7d4WzOTEV8k\n",
       "2gCASiPRRtXZR3wZWds4Fs5oA6gx4ZIz2p1sG69ZhmE4qtrhKIk2AMA9JNqoOvuNUC4VtB7TdRxA\n",
       "rRk9o13cgtxFx/GaZu8DwtZxAICbSLRRdfaKdnokYD0eTMWUzWfdCAkAxkllchpOZJ0VbWZo1zT7\n",
       "F7kz2TreTKINAKgwEm1UXcjWGTafLmlek4xWOxwAmNBALCUZBRn+4kxlto7XNvvny8BQSoWCOa33\n",
       "BX1BeYziLVGcruMAgDKRaKPq7Fv7zNIRX2wfB1Aj+qPjR3t1snW8pnXbjyblTcXi6SleXWQYhhr9\n",
       "xfdS0QYAlItEG1XX3VG8mTEzzoo2DdEA1IpILCmNm6FNol3LQiWztGd7TptEGwBQLhJtVJ2jop0p\n",
       "qWiTaAOoEeFoynE+W2LreK0LdZQcR5pl53ESbQBAuUi0UXXtzUH5vMboouBVQLYRX2wdB1AjwiUd\n",
       "xyW2jte6UFvJl7czqGg3OxLt6b8PAICJkGij6jweQ1227X2+QrP1uJ+KNoAaUTpD2zAMdQTbXIwI\n",
       "B9PZFpTHKK5n0nncUdHOJCoZFgBgASLRhivsI76UtVW0SbQB1IhINOVohtbR0CaPh4/NWubzetTR\n",
       "ah/xxRltAIA7uGOAK+yzTrOJ4iztcGJQpjm9cSwAMJfCsaSMQDFR62rgfHY9mO0sbRJtAEAlkWjD\n",
       "FfaKdnLEbz3O5rMaSg+7ERIAWNLZvIbiGUdFm/PZ9cHecDMcnUFFO2Ab75VL8aUvAKAsJNpwhX0E\n",
       "Sz5VOuJrsNrhAIDDWCXUfkabRLs+hNqcFe3pJsxN/ibrsWmaSuWmN4MbAICJkGjDFVON+OqPR6od\n",
       "DgA4RKIpycjL8GWta4z2qg8h2+dLKpNXIpWb1vvsW8clKZ6lIRoAYPZItOGKbtusUzNdOkubijYA\n",
       "d42ez3ZWNLuoaNcF+xltafrntEsT7USGc9oAgNkj0YYr7BVt5fzyymct6TwOwG3haNJxPlti63i9\n",
       "6G6f3SztcYk2s7QBAGUg0YYr2puD8nnHhp0aajBarOfCcRJtAO4anaHtTLQ66TpeF0IdJRXt6HQr\n",
       "2s730XkcAFAOEm24wuMx1GWrOnjzxSY0VLQBuC0SS0l+to7Xo1BJRTsyNL3KdHOgybEm0QYAlINE\n",
       "G66xj/gq2M5p95NoA3BZ6Rltr8erlmCzixFhuoJ+r1qbimMjw9OuaJduHacZGgBg9ki04Rp7w5pM\n",
       "ImA9Hk6PKJ3LuBESAEgaO6NdrIR2NbTLY/CRWS/sVe0IZ7QBAC7grgGusVe0E0M+x3MRqtoAXJLJ\n",
       "5hUbyZTM0OZ8dj2xf5E73a7jAa9fXtuXKWwdBwCUg0QbrrFXHPIpZxMato8DcMvA62d67V3H6The\n",
       "X2ZT0TYMw1HVZrwXAKAcJNpwjX3El5kpGcdC53EALhk702vvOk6iXV+6bRXtoXhGmWx+Wu9rsjVE\n",
       "o6INACgHiTZc020bwWJmqGgDqA3haFLy5GR4i8lZF1vH60pXaefxaZ/TLn4WxUm0AQBlINGGa+wV\n",
       "bZkeNXpss7RJtAG4JBxLTTBDm4p2PekunaU9zXPajq3jJNoAgDKQaMM17c1B+byGtQ6qODonkhh0\n",
       "IyQAUCSadJzPltg6Xm+6Syra4Vl0HifRBgCUg0QbrvF4DMf2PiNbPBvXH4+4ERIAjJuhLbF1vN7Y\n",
       "u45L0gAVbQBAlZFow1X2EV+FtG0cSzKqQqHgRkgAFrgwFe2619zoVzDgtdbTrWg3k2gDACqERBuu\n",
       "slcdUiN+63G+kFc0NeRGSAAWuNIz2gGv31HpRO0zDEOhtpnP0m4KFH/PyWyKL3wBALNGog1X2Sva\n",
       "IzGf4zkaogGotmyuoOhwWnLM0O6QYRhTvAu1yN5wMxKd+RltSUrmpvc+AABKkWjDVSHbGe18ynmm\n",
       "jkQbQLUNDI0mVvYz2pzPrk9d7bOoaJck2mwfBwDMFok2XGWvOJgZ5w1Of5xEG0B1haOjiZXhL1Yy\n",
       "OZ9dn+ydxweG08rnD74NnEQbAFApJNpwlWPWad6ngCdgLaloA6i20UTbdFa0maFdl7ptFe1CwVR0\n",
       "JD3Fq0eRaAMAKoVEG66yV7QlQ42eVmvVT6INoMoisaTkzcnwFKufnWwdr0tdJbO0I9PoPF6aaMcz\n",
       "JNoAgNkh0Yar2puD8nmLTYYChRbrcYSt4wCqrLTjuMTW8Xrl2DGl4rGAqdi7jktUtAEAs0eiDVd5\n",
       "PIaz6pAtPmbrOIBqm2iGdheJdl0KVaCiTaINAJgtEm24zj7iK5cMWo/j2SQ3OQCqKhxNTlDRZut4\n",
       "PWpvCcrrKe6Ymk7ncRJtAEClkGjDdSFbw5rkiN/xXJjt4wCqKBIbX9HubGhzKRqUw+sx1NlmH/F1\n",
       "8Ip2wOuX3+Oz1oksc7QBALNDog3X2Svaw1Gv4zm2jwOolly+oMHhtKPjeKO/QQ3+hinehVpm7zwe\n",
       "nsUs7UQmUfGYAAALA4k2XGc/R5dPlTSvIdEGUCUDsZRMU46KdlcD28brmf3zJRKdXnXakWizdRwA\n",
       "MEsk2nCdfcSXmQnKY/vPMpwYdCMkAAvQWMXTfkabjuP1LdRh3zqelGmaB30PiTYAoBJItOE65wgW\n",
       "j5p9tlna8Uj1AwKwIFkVT1tFm0S7vnXbKtqZXEHDiexB39MUKH4mcUYbADBbJNpwnb2iLUmNnmKi\n",
       "TUUbQLX0R5OSTOfWcTqO1zV7s01pup3Hm6zHVLQBALNFog3XtTcH5fMWR7D48sWbHM5oA6iWSCwp\n",
       "+TIyPMXtxVS061u5s7TjWZqhAQBmh0QbrvN4DHW1289pFx8PJKPKFfJuhAVggQnHko6O4xIV7Xo3\n",
       "u4q2/Yw2W8cBALNDoo2aYB/xlUkErMemaWowGXUjJAALTCSakuF3JlZUtOtbaaIdnkbn8SbbOLd0\n",
       "Lq08X/YCAGaBRBs1wX4zlBjyOZ7rj7N9HMDc64+Or2h3UtGua36fV+0txS9vZ1rRlqQkVW0AwCyQ\n",
       "aKMm2CvasUGv4znOaQOYa7l8QYPDKUcjNEnqbGhzKSJUimOW9jTOaDcHmhxrGqIBAGaDRBs1wX4j\n",
       "lE+VbPUj0QYwxwaH0jJN5wzt1kCz/F6/i1GhEuwjvsKzqGjHSbQBALNAoo2a4BjxVfCp0Wu7MWLr\n",
       "OIA5Nral2HDM0Gbb+HxgP5o0va7jzi97qWgDAGaDRBs1obvDeWPT4itu16SiDWCujc7QluOMNo3Q\n",
       "5oeQ7fMlnswqlc5N+frSijaJNgBgNki0URMcFW1JQaPFetxPog1gjk1c0SbRng9CbSWztIemrmqP\n",
       "S7QzJNoAgJkj0UZNaG8Oyuc1rLU312w9DicGZZqmG2EBWCBGxz4VJFui3UWiPS+U7pgKR6dOnJto\n",
       "hgYAqAASbdQEj8dQ1yQN0dK5tOKZhBthAVggwrGk5M/IKH7fpy7OaM8L9mab0sHPadMMDQBQCSTa\n",
       "qHhHLvoAACAASURBVBn2EV/phLPTL9vHAcylMDO05y17MzTp4LO0fR6vArZu81S0AQCzQaKNmmG/\n",
       "GYpHfY7naIgGYC5FokkZfmels7OBrePzQVODX00Nxc+U6XUeL37xS6INAJgNEm3UDHtFOzro/E+z\n",
       "Px6pdjgAFoh8vqCB4fS4ijZbx+cP+xe5BzujLZFoo7KyubzbIQBwge/gLwGqw36OLp8OyGd4lTNH\n",
       "P5zCiUG3wgIwz0VH0ioUTPlsFW1DhtobWl2MCpUUam/Unr4RSQffOi5JzbZEO0mijVnqH0zqaz9+\n",
       "Qtte6NcpRy/XJz54vDwe4+BvBDAvUNFGzXCO+DLUFihu22TrOObKSDKrf//ZU/rEV3+vB558ze1w\n",
       "4IKJZmi3N7TK6/G6FRIqzF7RntbW8UDx8yjOeC/MwiPP9urj19+rJ57vV8GUHnjyNT22vc/tsABU\n",
       "ERVt1IzSESxN3jYNaDTBDsdJtFF5z70S0XV3PK4Dg6M30td/f6uOWBtSV1vDQd6J+SQSHU28mKE9\n",
       "f3XbdkxFR9LK5QvyeSevNTSydRyzlM0VdOuvntOd97807rnfPb5Hm49Y4kJUANxAoo2a4axoSwHT\n",
       "PkubRBuVky+Y+vFvn9cP79mhgm1Eey5f0O+f2Kvzt6xzLzhUXTg2VtEuVjrpOD6/2CvapikNDKW0\n",
       "qLNp0tdzRhuz0TeQ0Jdve0w7d0983O2RZ3s1ksyqpdE/4fMA5peKbB3P5/O6+eab9c53vlNHH320\n",
       "zjrrLH3jG99QLpeb1vszmYz+9V//VW9/+9u1adMmvfWtb9UXvvAFDQ8PVyI81In25qB83uLZJU+2\n",
       "eBMUTQ0pk8+6ERbmmQODCf2ff/ujvv8bZ5I95neP7al+UHDVWHMse0W7i47j80qo5IvcsV0MkyHR\n",
       "xkw99PR+ffz6+xxJthFIavkRvfIf+qQ8HX3K5gr64zaOKAELRUUS7c985jP64he/qK6uLn3oQx/S\n",
       "kiVLdNNNN+naa6896HtzuZyuuOIKff3rX9fixYt16aWXaunSpbrlllv04Q9/eNrJOuqfx2Ooy7a9\n",
       "L5dybt8doCEayvTHbfv0sevu07MvO7vYd7YGrcev7BvSrv1D1Q4NLgpHk5JRkOEvfpnH1vH5JVRy\n",
       "HCQyNHXybG+GlslnlctzL4KJZXMFffvOp/UvNz+ieDIr+dLyLnpVjUc8rIZj7tdA85PyhXoVWP+k\n",
       "jMZh3fv4XrdDBlAlZW8d37p1q3784x/rnHPO0Q033GBd/+QnP6mf//znuv/++7Vly5ZJ33/LLbfo\n",
       "0Ucf1Yc//GFHYv7Zz35W3//+9/Xf//3feve7311umKgTPR2NOjCQkCSlRvySbfdmODGgJa2LXIoM\n",
       "9SyVzuk7dz2j3/zpVcf1YMCrvzr/KB26vF1X33C/df3ex/bosncdUe0w4ZJILDV+hjZbx+eV0qNJ\n",
       "4RlUtKXRqnably70cOqNxPWl2x7Ti6+F5e3ukze0T562ARnG+O1ShmHKt+QVPftyq3ojcS0JNU/w\n",
       "EwHMJ2VXtO+44w4ZhqGrrrrKcf2aa66RJP3kJz856PtXrFihq6++2nH98ssv1/nnn6+GBpoSLST2\n",
       "c3TD0dJZ2pzTxsy9/FpMf3fj/eOS7LXL2nXj323R205crbXL27V6SfEm+r6te5WfaF855qVwLMkM\n",
       "7XmurTngaH52sBFfEyXagN39T7yqj33nB9odvFcNx/1OgbVPy9semTDJHuMN7Zf8Kd23lao2sBCU\n",
       "XdF+/PHH1dnZqUMPPdRxfdGiRVqzZo0effTRSd/70ksvad++ffrQhz4kr9c5RmX58uX6whe+UG54\n",
       "qDM9tqrDYMSjwJriczREw0yYpqm7HnhZN//yOeXyBcdz5285VJe+4zD5faN/dwzD0OnHr9TN//2c\n",
       "pNFGSU+90K9jN7CDYr7LF0wNxFJSe2mizdbx+cQwDIXaG9T3+o6pg434so/3kki0MSpfyOuJfc/p\n",
       "1gd/q/25l2SsyWuyIYCtgWaduPI4hRo79KNnfiFJMjymfItf1b2PhfT+s94gw2CmNjCflZVoZzIZ\n",
       "9fb26phjjpnw+eXLl2vXrl0aHBxUZ2fnuOeff/55GYahdevW6f7779c3v/lNbd++Xa2trTr33HP1\n",
       "sY99TI2NjRP8ZMxXIdsZ7Xzeo9ZAi4YzI5KkfhJtTNPgcEpf/eETenzHAcf1jpagrr7oWB2/cfG4\n",
       "95x2/Ard8qvnZL5ejLj38T0k2gtAdDilfMGUN1C6dZxEe77p7mi0Eu2xBniToaKNMQWzoOfDr+gP\n",
       "ux/Rg68+rpFsXJJkTJBhB31BnbD8aL151QnatOQw+TxeFQoF3b/rT+od6Zck+Rbt0b4nD9XO3YPa\n",
       "uLqrmv+rAKiyshLtWCwmSWptnfjc0tj1kZGRCRPtAwcOyDRN/e///q/uu+8+nXbaabrooov08MMP\n",
       "63vf+56efvpp3XLLLeOq3Zi/Ss/Rtfk7rEQ7QqKNadi644Bu+OFWRYedFcrjNi7S1Rceq87WiY+j\n",
       "hNobdfS6Hj35wujN0INP79eV6Zwag0xBnM/GKpv2juNew6PWYItbIWGO2BuiRYamrmg3j0u0p349\n",
       "5hfTNPVq9DX9YfejenD3Y1PuqDPk0XFLj9Rb1mzW8cuOUtAXcDzv8Xh07oYz9Z3Hfzj6el9O3p69\n",
       "uvexPSTa89xAIqq7dv6PcoWc/vyId6q9oc3tkFBlZd1BjnUEDwQCEz4/dj2dTk/4fDI5+g3x/fff\n",
       "r8997nP6sz/7M0mjf+D+7u/+Tr/5zf/P3n0HR3XmCb//no5qxVZEEZSRBAKBCAaTo8HGGJwwtmc8\n",
       "Y098Zye+O7M19+5bu7V3q/bW3Mk7O+OJjjhjgzHRNsE2WUJIBEkglHNO3VKnc/9oaPVRtwQYgbql\n",
       "57M7VfQ5LenBtLrP7zy/cIAdO3bw7LPP3skyBT8SZVQGQQbV0MVuW7/oOi6MzGqz88rey3xwtEJx\n",
       "XKNW8dxDOWxakopKNXqa3sp5ia5Ae9Bi50RJI6vmJd21NQvjzzXay61G22gIQyWNyVAOwYe4j/jq\n",
       "6DbjcMgjvicM39Hut5ju6toE39DU18oX1Wf4vOYM9T1NIz5PlkHqi2J91mK2LVhOkG7kmewAy5MX\n",
       "8VbJh/RanLvhmthqjhXV8sLmXLQa8V4zEZ2tP8//nH6Vvuv/5hable8u/Mo4r0q41+4o0NbrnSNx\n",
       "rFbv840tFgvAiOnfKpXzzSU7O9sVZIOzluqnP/0p+/fvZ9++fXcUaE+fPv1Lf61w7w3f0dY4hrpy\n",
       "tpk6cMgOcQEseKhr6eUXrxVwrb5bcTwhOph/fiaftMTRG1v1W0zUdjcyLycevU7NoMUOONPHRaA9\n",
       "sbV135ihPbRjKWZoT0zuzTZtdpmefgtGt9F+7kTq+OTRYe7iRE0Bn9ecoaKjetTnOvrCsLXHkRqY\n",
       "xb88vZSY8NED7Bv0Gh3r0pfz3qW9AKj0ZswBdZy93Myi3Lg7/jsIvsNit/La+Z3sv3JEcdwu28dn\n",
       "QcKoTp8+fcuxYllZ2W1//zsKtENCQlCpVPT29no9f+P4SKnlwcHO3coZMzzH6MTHxxMaGkpNTc2d\n",
       "LFHwM2FBejRqCZv9eqGsZehix+qw0W8xiZROwUWWZT4+XcOLH5S4guMb1i2cxjc2zyTgJqnfn1ef\n",
       "5sWzOxi0DZI7ZTr35S7haEE9AOevtNLebVb0DhAmlhtjntx3tMVor4kpatjvcVu3ecRA26BVZleJ\n",
       "QHviudpexRslu7jQXIbMyJ3CHaZg7O1x2DvikAcDeXRlOs9syFZ0sb8V6zOWs6v0IDaHMxtUE1vF\n",
       "pwU1ItCeQOp7mvjNib9R3aXsKj81LIGnZ28Zp1UJ4+mOAm2tVkt8fDx1dd7HFNTV1REREUFoqPea\n",
       "hOTkZGDkHXGbzUZY2J3tLNzO3Ydnn32W06dP39HPE+6MSiURETY0S3vQrFK8SkWgLdzQZ7byh3eK\n",
       "+Px8g+J4kEHLPz2ex/2z40f9eqvdysvn3uVgxTHXsZLmMp7MWMDRAudjWYajhXVsXZkx5usXfEP7\n",
       "jdRxrXugLXa0J6LIYaVJHd0DkOj9uWqVGr1Gz6DN+boQNdoTR7/FxBvFuzhU8dmIAbaeEPoaorG3\n",
       "xyGbnZtFIYE6fvzCXOZlezbTvBXGgFCWJS/k02tfAKAK7qagrJRe0xxCAr2XYAr+QZZlDlee4B+F\n",
       "bzFotyjOrU9fzrN5j6JTa8dpdcJoFixYwKuvvnrXvv8d5+Dm5+fT1tZGdbUy3aalpYWqqqoRO5ID\n",
       "zJo1C61Wy+nTp5Fl5ZtdRUUFJpOJrKysO12i4GfcR3yZ+pX1c32iTk4ALlW28/1fHvYIsmekRvK7\n",
       "n6y4aZDd0tfGv37y/ymC7BuuDRYTETq0y/Xp2VqP9ydhYiit7uBiZTuobEgam+u4CLQnpshQzx3t\n",
       "0bg3RBM72v5PlmWOVZ3ih3v/jYMVxzyC7DB9CEsSFmNsWkXX6cXY6jJdQXZOSgS/+8mKLx1k3/DQ\n",
       "9NWKx1LMNT4vqr+j7ymML5PFzG9P/p0/nXlVEWQH6QJ5YfZzWKtz+PPOi3TepAGjMDHdcTvdRx55\n",
       "hF27dvGrX/2K3/zmN66ZgL/85S+RJIknnnhixK8NDg5m48aN7N69mxdffJFvf/vbgHMn+xe/+AWS\n",
       "JPHoo4/e6RIFP+NeR9fbI4PbNe+NphLC5GS3O3j743LePFSGw+0aSSXBtnVZPLEmE/VNGp6drS/m\n",
       "D6deon+EC+eChhKW5c1h3zFnI5zqpl4qG3pITRDB10TR3TfIyx9d4tBpZ2mSpB8+Q1ukjk9E4aF6\n",
       "VBKu945bGfHVYe4CoN8qbvL6s/qeJv5a8AYXW8o9zs2Ln8UDGStoqjbw5w8uKMqQJAkeW5XB0+uz\n",
       "UN9mqrg3iaFx5MXOoKjpIgAqYwsHiy6xYXHKHX9v4d670l7Jb0/8jZb+dsXx7Oh0crVr+esrNZgH\n",
       "na8nq83Bj56aOx7LFMbRHQfaixYtYuPGjezbt48nn3yShQsXUlhYSGFhIQ888ADLly93Pff3v/89\n",
       "kiTxve99z3XsZz/7GUVFRfz2t791FaSfPHmS0tJSNm7cyIoVK+50iYKfcd/R7uqW0bn1ohKB9uTV\n",
       "0mnil68XcKlSOWYlJtzAT57OJyclctSvtzvsvFmym12lBxXHg3SBrEpZzIdlHwPOmamamDrc3x4P\n",
       "F9SKQHsCsDtkDp6s4pW9l+kzD5Usuddng9jRnqg0ahXGED0dPc5/7xuj3Ubi3hDNLHa0/ZLFZmHn\n",
       "5X3sKj2E3aHs4xEdGMHX87eRE5nNn3YW8+lZZRAeFqzjx9vzmTs9ZkzXtDl7nSvQliSotp+nsW0F\n",
       "cVFBN/lKwVc4ZAe7Sw/xVslu7LLDdVySJDakruNqQRQvl1eO4woFXzEmA2J/8YtfkJGRwfvvv88r\n",
       "r7xCXFwcP/jBD3j++ecVz/vDH/6ASqVSBNoRERG8/fbb/OEPf+DQoUMUFBSQkJDAT3/6U5577rmx\n",
       "WJ7gZ9wbT9ktypeoSB2fnL4438Dv3ymi36zs57A0L4HvPjabYMPotU+d5m5+c+JvXG69ojieFj6N\n",
       "H93/DaIM4ZysO0fr9bvSha1nSY5fQ1WDc4b70cI6nnswZ0x2NITxUV7TyR/fO8/Vum6Pc9PTDFS5\n",
       "PRY72hNXZJjBLdC+2Y72UHaVySLSPv1NYcMF/l74psduo1pSsSlrLY/mbKSxdYAf/+YodS19iufk\n",
       "pkXxk6fn3pVGmDnRGcQFxtNocpY+qaPq2X+mjK9tELud/qDL3M3vT71ESXOp4nikwchi44Pseb8b\n",
       "04DyNZeRZOS5h3Lu5TIFHzEmgbZareY73/kO3/nOd0Z9XmlpqdfjYWFh/PznP+fnP//5WCxH8HOK\n",
       "EV92ZQAlAu3JxTRg5W+7L3LwlLIHRIBOzbe25LJ6/lRXucpILjSX8duTf6d7oEdxfF36Mr6a9xja\n",
       "6w1K1qYtZUfxB4Bz3MvSGVaqrpeAd/YOUnSllfysO6vPE+697r5BXt13mYOnqhleap8QHcQ3t8yi\n",
       "Xi6m6vzQcbGjPXFFhgVwpdb559vZ0RY12v6j3dTJP869zem6Io9zOdEZvJD/FOG6KN75+CrvH76K\n",
       "xea+IwlPrpnOtnXTb1qG9GVJksTjs9bzu5P/cD5WOThc9TnPyXNu+nkmjK+ixov896mX6BlU3piZ\n",
       "HTOTgYqZvH1UGWBr1BJPrcvi0ZXp4kb9JDUmgbYgjKUo986wsgqtSofV4WwwIVLHJwfTgJU9n1fy\n",
       "wdGr9JqUu9hpiWH88zPzSIgevfu8Q3aw6/JB3rywW9HMTK/R8615T7Nk2nzF81ekLOKtCx+60gs7\n",
       "tGWopGRXPefhs3Ui0PYjdofMoVPVvLL3ksdrSKdVs21tJo8sT0OrUXPhXJfrnFatJUh7a7NxBf/j\n",
       "PuLr5jvaItD2J3aHnX1XDvPWhT2ubvE3hOqDeXb2oyxMmMfeL6p499NzHu8LxhA9/3t7PrMzo+/6\n",
       "Wu9Lyucvp97FLDvH4JpDKii51sKsNPEZ44tsdhs7Snax53qJ2Q1alYb7Ilfz+SdaTOYuxbnUhDB+\n",
       "9NRckuO8T14SJgcRaAs+R7GjDWglPVZEoD0ZmAdtfPRFJTsPX6XXZPE4v2VFOs9uyEarGf3OcN9g\n",
       "P78/9RLnGi8ojieGxvHj+79BYqjn3FJjQCgLE/I4Xuuc7XWprYyc6dlcKHVeYJ+40IhpwEpggBjR\n",
       "4evKazr5085irtR2eZxblBvHCw/PJCZiKJjucLtAiggIE7tKE1ik2+eLedA+6u90oG7oNTJS80TB\n",
       "N5S1VfDXs29Q3a3s4C0hsTptCU/O2MTJ8x18+9VPvGYyzM6I4ifb8wkPDfA4dzdoVGrWp6/ggysf\n",
       "OteptfBWwafMSnvqnvx84dY19bbwmxN/41pnjeJ4XPAUQlrv4+DJQWBoaoVaJfHkmkweX5N527PW\n",
       "hYlHBNqCzwkL0qNRS9jszq1EtUMPOO/69ovU8QlpwGJj7xdVvHf4Cj39ngF2ZFgA339yzi01pbna\n",
       "XsWvj/+FVpOyadqSaQv45rztBGj0I3wlrE1f5gq0ZWRCpzZBqTON2GK1c7y4kTULpt7OX024h3r6\n",
       "Lby67zIHTlZ5pInHRQXxrS25XrMSOgeG6rZF2vjE5j7VApydx6fGjhBou9Vo2xw2LHarmIXrY3oH\n",
       "+3i9+APXbGp3ycZEnp/7FK0Nen7221PUt3reqI8MC+CpddNZs2DaXUsVH8kjuSvZVbYfWeXcWb8y\n",
       "UMCg9TH0WvEa8xXHqk7x14I3GBiWITEjbA6lx+O41q88nhwXyg+2zSE9UfT5EJxEoC34HJVKIiLM\n",
       "QEvH9aDarnVNfBc12hPLoNXOvuNVvPfpFbr6Bj3OG0P0PL4qg/WLktFr1aN+L1mWOXD1KC8Xvavo\n",
       "LqtRafjanCdYk7bkpjuVOdEZJITEUt/rHO111VRCgH4JA9eXdrigVgTaPsjhkDl0uoaXP7rkkQmh\n",
       "06p5Yk0GW5anoxvhNdRhdg+0xQXSRBYVNnyW9gBTY72ndrqnjoMzfVwE2r5BlmWOVJ7gteL36R1W\n",
       "Lxug0fPEzE3EOnL442tlVHhpgBgSqOXx1ZlsvD/lpp8td0ug1sCMsDlc6D3tPKDv553TX/DM/SvG\n",
       "ZT3CELN1gL8VvsmxqlOK4wZNALHmRZw9pAeGavtVKonHVmWwbW0mWs34vJ4E3yQCbcEnRRuHAm27\n",
       "VQPXNyFF6vjEMGi1c+BEFe9+eoXOXi8BdrCeR1el88CiZAJ0N3+bMlsHePHs6xyvOas4HhMUyY8X\n",
       "f4PUiGm3tC5JklibvpSXzr0DQK+lj8xcC8VndQCUVLTR2mkmOnzsO9EKX87V2i7+tLOYsppOj3P3\n",
       "zYzlhc25TIkYueZalmU63VLHxY72xDZ8R7tjlDptb4G2MUDUW463mq56/lrwBqVtFR7n7kuay5Lo\n",
       "NXxwqIGSitMe5wN0ajYvT2PL8nSCbjKt4l54buFGfnLoDJLkTMH5pPqICLTH2bWOan574u809rUo\n",
       "jscZEmkvzuZSpzKQTpoSzA+3zSVzavi9XKbgJ0SgLfgk94sh64DKLdAWO9r+zGK1c/BUNe98Uu4a\n",
       "seMuNEjHoyvT2bg4hQD9rb091XY38Msv/kxDb7Pi+Lz4WXx34VcI1t3ebNJlyQt5vfgDrHZnOt9g\n",
       "6DUgCwBZhiOFtTy+OvO2vqcw9npNzjTx/Se8pIlHBvHNLbnMy755YyGT1YzFPtQUKUIE2hNaxPDU\n",
       "8VE6j3sE2hZRpz2eBmyDvHtxLx+VfayYXQwwJTiaTSmbOH3SwX+8V+zxtRq1xIbFKTy+OoPwkHtT\n",
       "h30rpkZOIcKeSqfGedOgX93M+forzE7IGOeVTT6yLPNR+ae8Xvy+IitOQiLOMYuKY1NAHqq5liTY\n",
       "sjydpx/IGjFbShBEoC34pGi3hjUDJhXq69e+/RYTsiyLZkV+xmqzc+h0DW9/XO61EU1IoJYtK9J5\n",
       "aEkqhlsMsMFZP/WXszsYtA+lC6skFdtnbWbT9LVf6nUSrAvi/qR5HKk6AUBNXxXh0Wl0tjp3Pw4X\n",
       "1PHYqgzxGhwnDofMJ2dqeOmjSx71/DqNisfXZLJ1xchp4sN1mpVppeEBInV8IgvQaQg2aOkzO2+u\n",
       "jDbiK0jnuaMtjI8z9ef5R+HbtA3rvaFRaViTvJKOq4n8998bPG66SRKszE9i+/qsUTNbxtODmat5\n",
       "7drQ7vzrBXuZnfCDcVzR5NMz0MsfTr/i0UA1SBOMpWIWFc3KTJb4qCB+uG0u2SkR93KZgh8Sgbbg\n",
       "kyLd6ugcNi03LpltDhuDdsuoDa0E32G1OfjkTA1vfVxOW5fnRWqw4UaAnXJb3bwtdisvFb7Nx9c+\n",
       "VxwPDwjjB4ueJyfmznYD1qYvdQXaALEZrXS2xgNQ29xLRX23aHYyDirquvjjzmLKqj3TxBfOiOWF\n",
       "zTOJjby9DIaOYSNZROr4xBdlNLgCbW/vSzd4Sx0X7q3W/nb+XvgWBQ0lHueyIzMx9uTz4Ttd2OyN\n",
       "HufvmxnLMxuymTZCDb6v2DBnNq8XRyEHtwFQZSqjpb+dmKDIcV7Z5HChuZTfn3xJ0RQTIFxOouF0\n",
       "Bth0rmOSBJuWpvLshuxbKmsTBPEqEXyS+4gv2aYMwPos/SLQ9nE2u4NPztTy9sdltHR6XpwGGbQ8\n",
       "sjyNh5em3va4rOa+Vn71xV+o7KpVHJ8Rk8kPFj0/JjWU6RHJJBsTqeqqA6BJLgfVFHA4b/kcPlsr\n",
       "Au17qM9k4bX9pew7Xumaa37DlIhAvrkllwU5sV/qew/f0Rap4xNfRFgAVY09AHTcTuq4CLTvGZvd\n",
       "xp7yT3j34keK0g6AMH0o6arFnP1ExYDF86ZbbloUX3kwm6xp/rHbqNWoyA1dQLFjr/OAJPP2+QN8\n",
       "b/H28V3YBGdz2Hn7wofsunwQmaEPFrWkRt2UQ0N1PDCUuRYbGcgPnpzDzLSocVit4K9EoC34pCjj\n",
       "UA3V8EC732IiKtA/PkAnG7vdweGCWt48VE5zh2c9fWCAhs3L0nh4WRrBX6IRzZn68/zh1MseF7xb\n",
       "cx7giRmbUKnGZmalJEmsS1/Gn8/uAGDAPkBsWhdNV5w7DMfO1fP1TTNQixmZd5XDIfPp2Vpe+ugi\n",
       "3X3KNHGtRsVjqzJ4dFXGHXUN9tjFEF3HJzz3zuNtt9kMTbj7ytuu8eKZ16jtUe5SS0ikG2ZzrSCW\n",
       "z/vAveszQFpiGF/ZmMOczGi/K+15dP5iig4fQxXo7KD+Re1JvmZ5hCCdb6a7+yu7w05pWwWn6s5x\n",
       "pu487WbljRoDYXSW5CCblDdcNy5O5rmHZtxWaZsggAi0BR/lvqONx462aIjma+x2B0fP1fHmwXIa\n",
       "2z07wxv0Gh5elsojy9IIDtR5+Q6jsznsvFmyi92lhxTHg3VBfG/hc8yNn/ml1z6S+6fO59WinZht\n",
       "zh0vTUwtXA+0u/oGOVfeekvNtoTbJ8sy58pb2bG/1Gs38XnZU/jmI7nERd1emrg37qnjBk0ABq3v\n",
       "NEoS7o4ot4ZoPf0WLFa715p+g0b5WhCB9t01YB3gjZLd7L9yRLHDCBCli6WvPIviFs/fz4ToIJ7Z\n",
       "kM3i3HhU93gW9ljJmhZBcP90TIEFANixcujqZzySs36cV+b/LHYrJc2lnK4r4mz9eXpHmF6j6ZlK\n",
       "R3kmOIZCo+hwA99/Io+8zJh7tVxhghGBtuCTwoL0aNQSNruMbPdMHRd8g90hc+xcHW8eLKOhzVuA\n",
       "reahJak8sjyd0KDbD7DBGQj95vhfPUa5pEck86PFLxB9l+rYDNoAlk5bwMGKYwC0W5tQB/dg73Om\n",
       "pn96tlYE2mNMlmWKr7Tx+oFSLld1eJyPiQjkm5tnsmBG7JjtWHWI0V6TTsSwWdodPQNea/tVKhUG\n",
       "bQBmq/NmW7/oOn7XnGu8wF/OvuHR7Eyn0qNuyab22hTc03jBOZ3kqXVZrJmf5PfZRZIksTZzER80\n",
       "lyDpnNk7H5Z+wkPTV6NRi0v122W2DnCu8QKn6oo413iBAZvnlJMb1GgxV2Rjbo9XHF+3cBrPPzzj\n",
       "tsvbBMGd+O0VfJJKJRERdn2W9vAd7UERaI83h0Pm8/P1vHGwjLqWPo/zep2ah+5PYcuKdMKCb6+e\n",
       "3ma3UdvTyLWOaio6azhdd46eQeXPeCBjBV+Z/ehdvwBZk7bUFWgDxKS30ljkDLRPXWik32z1iVms\n",
       "E0HJVWeAffFau8c5jVrFo6vSeWxVxpg1oLHarXxy7QsuNpe5jolAe3JwL00CZ0O0kZroBWoNrkBb\n",
       "7GiPvZ6BXl4qepfPq73MvDYn0lmaDlblv1dIoJbHV2ey8f6UOyob8TWr85N59x/T0CZdAaDX2svx\n",
       "2gKWJS8c55X5h57BPs7WF3O67hzFzaXYHLZRnx9niKejLpyummjFaywyLIB/eiKP/CxxI124cyLQ\n",
       "FnxWtNEZaHvUaFtF6vh4kWWZgtIWXtl7icqGHo/zOq2aB+9PYeuKdIwhNw+wbwTVFR3VXOusvqbw\n",
       "pQAAIABJREFUobKjhuru+hE/IAM0er49/xkWT513x3+XW5EcnkhmZCrl7dcA6NdXgXoq2LVYbA6O\n",
       "FzewduG0e7KWiepCRRs7DpRRUtHmcU4lwbI5iTy1fjrxUcFj8vPsDjtHq07x3sWPaB22ezYlSDS5\n",
       "mQwih+1ojzbiK1BroB1n+YIItMeOLMt8Vn2al8+945HKq7IbMFdkYe5SBjoBOjWbl6exZXn6hLzB\n",
       "GRsZRHrgbKrs15DUzjnOu0sPsXTaAr+rOb9X2kwdnK4r4kz9eS61XkEePt/NjSRJZEdlECFPo7wk\n",
       "gGu1Vo/nrJqXxDceyf1SPWQEwRsRaAs+K/JGHZ1DDbIEkvMNVNRoj49Lle28svey1x1HnUbFxvtT\n",
       "2LoynfAQ7zWuNruNmu4GrnXW3FJQPVxSaBw/uf+bxId+ue7SX9a69GWuQNsqWzFMacbckAjApwW1\n",
       "ItD+ki5VtrPjQCnnr3gG2JIES/MS2LZ2OklTQsbk5zlkBydqC3j7wh4ae1s8zocFhLIxc9WY/CzB\n",
       "t7nXaAO032JDNBFoj43W/nb+cnYHRU2XPM7ZWpKw1maCW8mYRi2xYXEKj6/OGPHzZaJYMzeNF08n\n",
       "oJlSA0BNdz0lzaXMis0e55X5jvqeJk7XFXG6roiKzupRn6tVaciNzWZOTC6dDUYOftFIQacZUAbZ\n",
       "4SF6/tdjs1k4M+4urlyYjESgLfisaFdDNAnZpkXSOuuWROr4vVXZ0M2r+y5z5lKzxzmNWsWGxck8\n",
       "tiqDiNChC6A7Dapv0Kq1JBsTmR2bw8NZa8dlrNt9iXN46dw7rt4AgQkNmBsSAIkLFe20dJiIiRCd\n",
       "YW9VaXUHO/aXcq681ev5JbPj2bZu+pjNvpVlmYKGEt4q2U11d73HeYM2gE3T1/Jg5irRCG2SCDJo\n",
       "0WnVWKzOXcOb7WjfIALtO+NwONh/9QhvlOxmcFjNrMMciLVqJo7eoYkiKglW5CexfX0WUybJe+z9\n",
       "sxN48aMU5Jgabmxif1j28aQOtGVZ5lpnjTO4ri+ivqdp1OcbNAHMiZ/JgoQ8koPTOHSigX8cqKLf\n",
       "7Nn3Q5JgxdxEXtic+6X7yAjCaESgLfgs9/Q+RaAtdrTviab2fl7fX8rRc3UMz8ZSSbB6/lS2rZtO\n",
       "RKiOmu4GCivGJqhODZ/q/F/EVBJD41CrxrcGT6fRsSL5PvaUfwKASepAFdyFoy8cgCOFdTyxJnM8\n",
       "l+gXyms6ef1AKYWlnrvJAItnxfHUuiyS48YmwAYoaS7lzeJdXOmo8jinV+vYkLmSh6evJVh/593L\n",
       "Bf8hSRJRYQGuBo6jjfgKcg+0RTO0L62mq54Xz7zm8bsoOyRsjSnYGtJAdr7Xa9QSq+dP5dGVGWMy\n",
       "WcCfBBu0LMhI40xnKeoI583t802XqOmqZ6oxYZxXd+84HA5K265y6npa+PAmecOF6IOZnzCbBQl5\n",
       "5E6ZTlPbAO8fucovCj7DZnd4PF+nUbF6wVQeWZ42ZmVJguCNCLQFn+U+4su9TrvfKna076aOngHe\n",
       "OlTGgZPV2B2e9U6LZ8Xx5Np0irpO8eszByZUUD2SNelLXYE2QFBiA72lzkD707O1PL46Q9TQjeBq\n",
       "bRevHyjl7GXPjAiARblxPLVuOinxY9eIrKytgjdLdnOxpdzjnEalYW3aUrZkr8comp9NWlFGgyvQ\n",
       "Fjvad4/VbmXnpf18UHoAu8OuOOfoC8VSORPZ7Ly5ptOqeeC+aWxZka4c8TnJrMpP4vhbKa5AG2BP\n",
       "2Sd8d+FXxnFVd5/VbuVCSxmnro/hGt4EdbiowAgWJMxmQeIcsqLSkCSJS5Ud/NdLhZy+5H3XOyRQ\n",
       "x0NLUnjw/pTbbtQqCF+GCLQFn6XoDOtWr9U3KHa074Y+k4X3Dl9l92fXXCmV7vIyonl2YzYWfTO/\n",
       "Ofsbmvq8p/4ONzyoTouYRkJorM8G1d7Eh0whd8p0Sq53qHaENoAmA2w66lv7uFLbRebU8HFepW+p\n",
       "qOvijYNlnLro/YJn4YxYnlo3nbRE45j9zMrOWt4s2c25xgse51SSihUpi3gsZyNRQRFevlqYTCLc\n",
       "6rTbu0ap0dYpA21ZlsVNtVtU2lrBi2deo75X+R4g21XY6jOwNSUDEga9hgfvT2HzsrRbaqI50c3N\n",
       "iiGEGAZ6jahDnOMHP6s5zbZZDxNhGLv3S18wYBukqPEip+uKKGgscXX4H0lCaCwLE/NYkJBHSvhU\n",
       "JEnC7pA5caGR9w9fpaym0+vXxUYG8sjydFbPTxqzyRWCcCvEq03wWSPtaIs52mNrwGJjz+eVvPvp\n",
       "FfrNnl04M5KMfHVjDinTDLxa9B5Hq06O+L3cg+q0iGmkhk/1u6B6JGvTlg0F2tjRRNVja0oB4HBB\n",
       "rQi0r6ts6GbHgVJOXvAeYM/LnsL29dPJSBq7/151PY28XbKHk3WFHuckJO6fOo/HZz5EXEjMmP1M\n",
       "wb9FuZUmdfQOYnfIqFWeAbT7jrZddmCxW9FrRC3naExWM28U7+Lg1WPIKLOi7N2RWKtmIA8GEhKo\n",
       "5eFlaTx0fwrBgeK/6Q0atYplcxLYezEFdcg5wDktYf+VI2yf9cg4r+7O9VtMFDSUcLquiKKmi1js\n",
       "ntcd7tIiprEgIY8FiXkkuDVDHbTa+eRMDR8craCxzft1YeZUI1tXZHBfbpzX329BuNtEoC34rLAg\n",
       "PRq1hM0uK2ZpixrtsWGzOzh0qpo3D5XR0TPocT5pSjDPbshm4YxYPq85w4/2vUvvsFSuEH0wi5Py\n",
       "J1xQ7c28hNkYA0LpGnCONQuIb6Dv+o7MsXP1PP/wTDRq1biucTxVN/aw42Apx4sbvZ7Pz4ph+/qs\n",
       "Mb0h0dLXxjsXP+JY9SmvY13mJ8zmyZmbJlVto3BrIt12tB0Oma7eAY+xXwCBwxrkmaxmEWiPoqCh\n",
       "hBdPv07XYLfiuGzTYq3Jwt4WT3hIAFvWpfPAomQMenEZ6s3K/CT2fH4Nx0AgqgDnNc+hq8fYmv0A\n",
       "AX7YtLFroIez9ec5VVfEheZS7LJn3fQNkiSRE53hrLlOzCMqUJmB1N03yN4vKtnzRSU9/Rav32N+\n",
       "zhS2rkhnRmqkyEARxpV4hxN8lkolERHmOUvbbBvA5rCjmaAB3d3mcMgcK6pnx/5SGts97wJHhxvY\n",
       "vm46K/OTaDW385/Hfk9Jc6nH81YkL+KZvK2E6idHIxGNSs2q1MXsvLQfALumF1VoB46eSHr6LRSW\n",
       "trBgxr0dPeYLapp6eONgGV8UN3g0zQOYkxnN9vVZZCWPXbp2h6mL9y7t5dNrX3i9YJsdm82TMx8m\n",
       "PTJ5zH6mMLF4m6XtPdBWdrvut5oIF7X9HroHevifEzs413Le45ytPRZrdTbRIUYe3ZrB2gVT0WnF\n",
       "5/doMpKMJESH0NSUjC7ZOQat32rm08rjfjOGsK2/g1N15zhdX0Rpa4VHdoM7tUrNrCnZLEzMY178\n",
       "LEIDPMc6Nrb188HRq3x8ptZreZtGrWJlfiKPLE9j6hhNrRCEOyUCbcGnRRuvB9puNdoAJovJ6xux\n",
       "MDJZlikobeGVvZeobOjxOB8apOPJNZlsWJyMpILdpQd599JerMPSumKDo/nmvO3MnJJ1r5buM1an\n",
       "LuH9SwdcFwzamBoGeyIB50ztyRRo1zb38uahMj4rqvcaYM/OiGL7+ixyUiLH7Gf2DPTyweUDHKg4\n",
       "5vG6BMiKSmNb7mZyYjLG7GcKE1Ok11nantkW7qnjIDqPDyfLMu8VHea9st3YpWEjuwYDsFbnEKdN\n",
       "4bFHM1mRnzips35uhyRJrJqXxKsHupETriBpne93e8s/ZX36cp/NHGvoaeLULc641qt15MXNYGFi\n",
       "HnPjchX9ENyV13Sy8/BVTpQ04KU/K0EBGjYsTmHT0lTFmFFB8AUi0BZ8mutiyKYMtPss/SLQvg0X\n",
       "r7Xzyt5LXKr0HJFh0GvYsjyNzcvTCAzQUt52jT+f3UHNsJnDaknF5ux1bM3egG6Spk5GB0UyJ34m\n",
       "hQ0lAKjCW0A7ANYATl9sos9sJdigvcl38W83u+iZle4MsGekjl2A3W8x8WHZx+wt/5QBm2eZQ2r4\n",
       "VLblPszs2ByRJijckuFdrdu6vDdh8gi0b9KsaTI5UXaVP5/dQb+mEdx+7WQZ7C1TibPms+2hGSye\n",
       "HS/qY7+EFXMTeXXfZWwtU9EmVADQ0t/O6foiFiXlj/PqnGRZpqqrzrlzXVdEXY/30qEbArUG5sXP\n",
       "YkFiHrNjc0Ysw3A4ZApKm3nv8FUuXmv3+pwoo4HNy9JYt3AqgQET+3NX8F8i0BZ8WvT1iyHZI9AW\n",
       "ddq3orKhm1f2XvY6WkmjVvHg/Sk8vjqDsGA9JquZvxW857WBTWZkKt+ct13UugLr0pa6Am0kGU10\n",
       "PbaGNKw2B1+cr2f9fcnjur67weGQOVvazM5RLnpmpEby9PosctOjxuznDlgH2HflCLvLDtHv5Xc+\n",
       "MTSOJ3M3sSAhTwTYwm0JC9ajVkmuEYbtI8zS9lajPdmdv9LCnz/fRYv+PJJm2MgucxCxpvv4yuol\n",
       "zM+ZIn4v70BMRCAz0yK5UD2IJu4aksr5Wv2w9GPuS5w7bv9tHbKD8rZKTted41R9Ea393j8TbgjT\n",
       "hzA/YTYLk+YwIzoTjXrk0MM0YOXw2Vo+Ol5FbXOv1+ekxIeydUU6S/ISRIaE4PNEoC34tBs1cyLQ\n",
       "vj2Nbf28vr+UY0V1Hmm9KglWz5/KtnXTiQl31h+erivi74Vv0WHuUjzXoA3g6VlbWJO2BJUkPtAA\n",
       "8mJnEBUYQZvJmR2gjanF1pAKSBwuqJtQgbbVZudIQR3vH71KbbP3mabZyRE8vT6LWRlRY3LhZ7FZ\n",
       "KGq6xPHaAgoaShj0soM9JSiKx2c+xJKp81GpxOtSuH1qlUR4aABt10d7jTRLe3g662QOtPtMFn61\n",
       "8yjFg5+gCu5238RGdkhEDMzkG4seIX96nAiwx8iq/CQuVLRjb0tAE1MHwNWOKsraKsiKTr+na7HY\n",
       "LOwqPcihis9cTUFHEhUYwYLEPBYm5jE9Mu2m79MVdV3sO1HF0cI6Biye9dfgHDG6dWU6eZnR4vUl\n",
       "+A0RaAs+zZXeZ/dMHRc82ewO3jxYxrufXnHt1LhbPCuOZx7IJmmKM+2+3dTJ3wvf4ky9ZwOb+xLn\n",
       "8tzcxyfc3M47pVKpWJO2hDdLdjsP6AZQGVtxdMVw8Vo7Te39xEYGje8i71Cf2cq+45Xs+fya1470\n",
       "4Gxy9ujKjDEJsC12K8VNlzheW8jZ+vNe08MBIgxGHpuxkRUpi0UzROGORYXdPNAOGtYMzWSdnDd5\n",
       "C8ub+OWht7BElKEKVn62GOxRfG32dlbMyB6n1U1c98+O5087i7E2JbsCbYDdZR/f00D7XOMF/l7w\n",
       "Fs39bSM+Jz5kCgsT57AwcWjG9WgGrXY+O1fP/hNVI86/VqkkluUlsGVFOqkJogmh4H9EoC34tCij\n",
       "M23Pc0dbBNrD1Tb38qsdBVyt6/Y4l5cRzbMbs12jlRwOBweuHuXNkt2YbcoLzMjAcJ6fu415CbPu\n",
       "ybr90aqUxbxzYY+r47UmphZLl3NG85HCOratnT6ey/vSWjpN7D52jYOnqjAPeu4qqFUSS+cksHVF\n",
       "Oinxd3bRY7VbKW4u5URNAWcazmMepfY1VB/MluwHWJu+DJ1a1OIJY8OZMeW8wG8bIXU8QKNHkiTX\n",
       "+LjJtqNtsdr57z3HON65D1VUr2IXWyVr2Jj6AM/M2yAyS+6SwAAtC2fG8VmRA3tXNGpjKwAF9cU0\n",
       "9DYTHzLlrv78dlMnL517h1N157yeTzEmsTBpDgsS80gMjbul71nX0sv+E9V8cqaGPrP3GdohgVpW\n",
       "z5/KpqWprsw7QfBHItAWfJprR9umfKl6q9ecrGRZ5qMvKvnHhxex2JSjjjKSjHx1Yw6zM6Ndx6q7\n",
       "6njxzOtc7ahSPFeSJDakr+DJ3Icx+OGcznvJaAhjfmIeJ2sLAVCHtSLpTMiWQA6freXJNZl+ldpW\n",
       "2dDNzsNXOVZUj8NLJoRBr2b9fck8vDSN6HDvnWFvhc1ucwbXtQWcqT8/atCillTMis1hUdJc7kuc\n",
       "45ezYwXfFmkcek21d5mRZdnj91aSJAI1AfRff62aLJOnGdqVunb+c+8O+kMuowpSvi+khabz42XP\n",
       "ER00dk0PBe9WzUvis6J6bI3JrkBbRuajsk/4xrztd+Vn2hx29pUf5u2LezzKd0L0wWzOWst9iXOJ\n",
       "Cb61nhw2u4NTF5rYe7yS4qsj74pnTQtnw+IUlsyOFyPghAlBBNqCTwsL0qNRS9jsKmSbBkljA0SN\n",
       "9g3t3WZ+91YRhWUtiuOBARq+tSWXlflJrgvHQZuFdy9+xJ6yjz1mD08zJvKteU+LucO3YV3aUleg\n",
       "jQTqmDpsdZk0tPVTVtNJ1rSxmxt9N8iyTFF5KzuPXKWovNXrcyJC9WxamsYDi5K/dDd1m8POheZS\n",
       "jtcWcKauyBWweKOWVOROyWJRUj7zE2cTrPPvFHzBt0WGDt00stgc9JmthAR6dkEO1BqGAu1JsKNt\n",
       "d8j84+MvOFC/GylMuYutlnV8dc6jrM9c6lc3E/3ZnMxojMF6unojcPSHogpy1kcfqTrJkzM3jfkE\n",
       "ltLWCv5a8IbH5BEJidVpS9ieu5lg/a29N7d2mjlwqopDp6pHLEMy6NWsmJvEhsXJd5wpJQi+RgTa\n",
       "gk9TqSQiwww0X5+lPRRoi9TxL8438Id3i+g1KVOvZqZF8qNtc4mJGEq3Km66zF/O7vCor9KptTwx\n",
       "cxMPZq7y2bmcvmpGzHTiQmJo7HXe5NBE1WGrTwdZxeGztT4baNvsDj4vquf9IxVca/AsMwBImhLC\n",
       "1hVpLJ+biFZz+68Lu8POxZZyjtcWcLquaNTfV5WkInfKdGdwnTCbEH3wbf88QfgyoozKLIm2LvOI\n",
       "gfYNEz3Qrm/r4d8/fIVOwyWkQOUudnJwBv+y8utEBIq+HfeSWq1i2ZwEdn92DVtTMrq0YsBZfnOw\n",
       "4hiPzXhwTH5Oz2Afr59/n8OVxz3OJRsTeSH/KTKjUm/6fRwOmXPlLew7XsWZS01ex0ACJMeFsmFx\n",
       "MivmJorxXMKEJQJtwedFGZ2BNjYt6J0XOZN5R7vfbOXPH5Tw6dlaxXGNWsWzG7LZvDzNNbO0Z6CX\n",
       "l4ve5bPq0x7fJy82hxfyn7rl1C9BSZIk1qYt5ZWi95yPdRZUxhYcnbF8VlTPC5tz0Wp8p27RNGDl\n",
       "4Kkadn9WQWun92BhZlokW1ekk581BdVtzr21O+xcar3CiZoCTtUX0TvovUs5OP/bzYxxBtcLEvMI\n",
       "FcG1MA5uTLW4ob17wOuOWqBu6KblaBkZ/kyWZd784hTvV7wHgX3DarF1fGX2Y2zIWiJ2scfJynlJ\n",
       "7P7sGvaOWByJ5aj0zhKG/VeO8PD0tehGmEd9Kxyyg8PXjvN68QceN0UNmgCezN3E+vTlN70Z3903\n",
       "yKHTNew/UeW8ZvNCo1axJC+ejYtSyEoOF68nYcITgbbg86K8jPiarDXaFyra+PUbhbQMC5SmxYbw\n",
       "k6fzXReJsixzpPIEr57f6fHBGaYP4atzHuf+qfPEh9wdWp58H28U78LqcGZaaKbUYOmMpddk5ezl\n",
       "Zhbl3lpzmLupo2eADz+7xr4TVfR7aTyjkmBRbjxbV6a7muXdKofDweW2qxyvOcupunP03CS4zonO\n",
       "YFFSPgsT8wgLCL3dv4ogjClXD5DrbmWW9kTc0W7v6effPnyZJnUJ0rBWCEkB6fxfa58Xu9jjLC0h\n",
       "jKQpIdQ292JvnoZqahng3IU+Vn2aNWlLvtT3reqs468Fb1Defs3j3OKkfL4y57FRJ4/Issylyg72\n",
       "Hq/keHEjNrvD6/PiIoN4YFEyq+cnERas/1JrFQR/JAJtwed56zw+2VLHrTY7r+0r5f2jVxVzsSUJ\n",
       "Ni9L49kN2a7GIY29Lfz57OtcbCn3+D6rUhbzzOytt1xfJYwuRB/Moqn5HKs6BYA6tAMpoA95IJjD\n",
       "BbXjEmjX9TRSUF9CW08fl6raqWrowSHLEAEa6caLR0atVjEtNpiMJCOBhhpOtFdzvF0GWUbGeQF1\n",
       "4/+QwYHbOWQsdislzaV0jzJPVUIiOzrdFVwbDaL+TvAdEaHDU8dHmKU9gVPHPywo4LWLbyLrlbvY\n",
       "kkPH9hmP8nCuqMX2BZIksTI/kVf2XsbWkoQmvsJVSren7GNWpS5GJd16BpXZOsDbF/aw78phHMN6\n",
       "tsQFx/B8/jZmxY48rq3fbOVIQS17T1RR09Tr9TkqlcTCGbE8sCiZvIzo286SEoSJQATags/zNkt7\n",
       "MgXa1Y09/HJHAZUNyoAmymjgR0/NYVa6s6O43WHnw7KPeefiR1jtyp3L+JApfHPednJiMu/ZuieL\n",
       "dWnLXIE2OEd9WWuyOXOpmV6TxWvN590gyzL7rhzm5XPvOoPj69TxMFLCX60MtTVjuw4JiazotOvB\n",
       "9RzCRXAt+CitRoUxRE9Xr7NJ08g72hMv0O42mfiPj16h2n4eadgGY5wmjX994Hmigm4vw0W4u1bM\n",
       "TeLVfZeRHRpsrYlo46oAaOht5lzjRfLjc2/6PWRZ5mRdIS+de4dOs7JHh1alYUvOBh7OWjviGMXa\n",
       "5l52HavgaGEdAxbPEZDgvIG1/r5prFs4zSNrRBAmGxFoCz4v0pU6PvRy7bOYvI5imUgcDpndn13j\n",
       "lb2XsA4b27VibiLf2jrL1Qm6srOWP51+lcouZd22WqVmS/YDbMlej1bMH74rMiJTmBaWQPX1Dq3q\n",
       "qAastZnY7PB5UT0bFqfc9TXYHXb+evYtPqn87K7/rJFMj0q7PoprrkgzFfxGVFiAK9Bu67q1QNvf\n",
       "P3sOXTzH387twKHtw/2vIdl1PD59K4/OXebXf7+JKjrcQG5aFMVX27A3T0MbWw3Xs5Q+LD1000C7\n",
       "qbeFvxW+xfmmSx7n8mJz+Hr+NmKDo718pbPHxxsHy9j92TWvIyAB8jKj2bg4mfk5sWjUvtOfRBDG\n",
       "kwi0BZ8X7ZqlPbQz6JAdDNgGJ+y859ZOM795s9Bj3mSwQct3H53N0jkJAFhsFt69tJfdpYc80r+m\n",
       "R6XxrflPkxg6/nXCE5kkSaxNX8pfC950PtZYUUc0YW9P4HBB3V0PtM3WAf790B+41nt19HUiIUkS\n",
       "EiBJKmeaqCShQoIbx92eM/I5Cef/S8QERbIgcQ73Jc0hKtA3u6wLwmgiwwxcrXPu7LV1e08dD9IN\n",
       "BdqyLPvtZ0//oJn/Z/8rXDUXIQ277xpNKv/noReYEip2sX3Zyvwkiq+2IVsM2Npj0UQ1AnCp9QoV\n",
       "HdWkRUzz+BqL3cquywf44PIBVz+RGyIMRp6b8zgLE+d4vbkiyzLHztXz9w8veB3PFRKoZfX8qWxY\n",
       "lEx8tGhqKQjDiUBb8Hk3Uo/ca7TBmT7ujxc7N3O0sI4/7iz2aFyVlxHND5+a49rhv9RyhRfPvEZj\n",
       "n3KGdoBGz9OztrA2felt1WwJX97SaQt57fz7DNicFyKaKTXY2xO4XNVBY1s/cVF3pya+qq2Zf/v4\n",
       "d5ikDsVxa00ms8MX8tjKTGakRordKUEYgXtq662kjoNzV9vfPnuOXTnPn868hk2t3MXGpmNTymae\n",
       "Xbxq3NYm3LrFs+L4485iLFY7tqYUV6AN8GHZx/xw0fOK559vusTfCt6kqa9VcVwlqdiYuYrHZzw4\n",
       "4mu5pqmHF98v8bjhDzB9ajgb709hyex4V38YQRA8iUBb8HmhQTo0ahUO+/BA20R0UOQ4rWrs9Zks\n",
       "/PG9Yo4V1SuOazUqnnswh4eWpKJSSZgsZl4rfp+PKzzThOfGzeSFeU+J3cV7zKANYMm0Ba5/E1Vw\n",
       "N1JgD7IplMMFtWxfnzWmP0+WZXaeKuCtq6+BdmiXQXaoCGjM558f3Mj8nNgx/ZmCMBFFhrl1FB+w\n",
       "YRqwesz09RZoR+IfO79mi5n/+vg1LvcWejRrCLOm8n82fJ2kyInzOTrRBQZoWTQzjqPn6pBNoTh6\n",
       "IlCFOm+0nqwtpHXWI0QHRdJh6uLlonc5UVvg8T2mR6bywrynmGZM9PozTANW3jxUzu5jFdiHpYlH\n",
       "hgXw/MMzWTI7XtzAFYRbIAJtweepVBJRxgBaLMqXa/8Eaoh2vryVX79ZSPuw1MXU+DB+8vRcpsY6\n",
       "RyGdrS/mrwVv0GHuUjwvRB/M1+Y8IUZ2jaO1aUsVNz800bVYq2dwpKCOp9ZNH7N/l/ZuM//vrj1U\n",
       "ao4iaYea0chWHfn6B/n+d1d6BAqCIHjnOeJr4JYCbX9worKE/z75MlaV8rNStupZG/8g31i5Rnxe\n",
       "+KGV8xI5eq4OAGtjCvrrgbZDdvBh2cdMCYri7Qt7MNuU1xMhuiCenr2VFSn3ec12k2WZz4sa+NuH\n",
       "FzyuRdQqic3L0ti2bjoGvQgdBOFWid8WwS9EhhloblR2b+6bALO0LVY7L++9xO5jyhmWkgSPrcrg\n",
       "qXVZaDUqugd6+Efh2xz3cnd6ybQFPDfncUL1oj5qPKWEJ5ERkcyVjirgRlO06TS291Na1Ul2yp1l\n",
       "GciyzMFT1fz9xIc44i4p0j9VlhD+V/43WJqTcUc/QxAmm6gwZRDd1mUmaUqI4pi/Bdomq5lfHXmN\n",
       "4o5CGBZPBZmT+fn6r5ERFzM+ixPuWF5GtKtbvqM7Co01FJvWOZVk/5UjXr9mVer9PD3rEUJGuE6o\n",
       "be7lTzuLvaaJz0qP4ltbcl03/AVBuHUi0Bb8QrTRgFzrWaPtz67Vd/PLHQUeMyhjIgL58VNzmZEa\n",
       "iSzLHK08yctF73r8fSMDw/nmvO3MiZt5L5ctjGJt+jKunK4CQFLbUUc2YG+dyqcFtXcUaDe19/P7\n",
       "dwq5bPkMTXytYt5tpCqJ/9z6T0QEhYz49YIgeBdpVNaneqvTDtQpA+1+i+8G2qdrSvj9iVcYpE9x\n",
       "XLboWRzxAN9/bB1q0RHar6nVKlbMTeSDoxWAhKl2KrrUC16fOy0sgRfmPcX0qDSv582DNt46VMYH\n",
       "Rz3TxCNC9Tz/8EyW5iWIzAdB+JJEoC34hciwALArX67+uqNtd8i8f+Qqr++/jM2u/GDn3v++AAAg\n",
       "AElEQVRbM38q33hkJoEBWlr62/nL2R0eozgkJNanL+epWZv9riHPRLc4KZ+Xz71D//UdL01MLfbW\n",
       "JD4vquebj8xEq7m9pjF2h8yez6/x6oFi5KmFaKYodxvmT5nPj5Z9FY1KNKMRhC8jcviOtpfO4/6w\n",
       "oy3LMr859honmo57nNP1JvPPq55ldmr8OKxMuBtW5iddD7TB3h6PLvUaFoauiQI0ep6YuYkNGStQ\n",
       "e/l8kGWZL4ob+NuuCx6vebVKYtPSVJ5aN12UIQnCHRKBtuAXoo0GcKiRHRKSyhmc+mOg3dxh4tdv\n",
       "FHLxWrvieEigju89PpvFs+JxOBzsLf+UN0p2M2hTjtNICInl2wueGfHutDC+dBody1MWsbf8UwBU\n",
       "Qb1IQd309Rs5c6mZxbNu/UK3pqmH371dRHljA7rMAtSByh2q7blb2Jy9Vuw0CMId0GvVhATq6DVZ\n",
       "AO+ztP0h0D5XW+4RZDsGA5gTuJqffOUBAnTicm8iSYkPZVpsCNVNvSCrkBuyIL4QgPuS5vLVvMeI\n",
       "DPTesK+upZcXd5ZQdKXV49zMtEi+vXUW00SauCCMCfHOK/iFSKMBkJyztHXO4NPfUsdbOk386NdH\n",
       "6DUpx3blZ8Xw/SfnEBEaQF13I3888ypX2isVz1FLKjZnr2drzgZ0anGH2ZetTVvqCrQBNDE1WCuN\n",
       "fHq29pYCbavNwXuHr/DWoXLsAZ3ocwqRdEM3XLQqLd9f9DUWJs65K+sXhMkmyhjgCrSHN4EC0Kt1\n",
       "qCQVDtkB+GagXVg97DOjayo/XLKdxTM85yoL/k+SJFbNS+Ife5wZbz11Mfxo9Q/ISY0kNjja69cM\n",
       "DNp46+NyPjh61SObLjxEz9cfnsnyOSJNXBDGkgi0Bb/gPktb8tNA++SFRkWQrdOqef7hGWxYlIzd\n",
       "YeedC3vYeXk/dodd8XVpEdP49vxnRhzFIfiWhNBYZsRkcrGlHAB1ZBPWmiwKSpvp6bcQGqQb8Wuv\n",
       "1Hbyu7eKqGrsQWVsRp92HkntcJ0P04fys6XfIT0y+W7/NQRh0ogMM1DZ4Gwm5W1HW5IkArUG12eO\n",
       "LwbaLT2disf/teVbTIsRYx4nsuVzE3npo0vI12Pmogv9rJrlOUpSlmWOlzTy110XPF7fKpXEwyJN\n",
       "XBDuGhFoC37hRmdY2a1Ou9/PUseb24fWq9Wo+O2Pl5MYE8KV9kr+dOY1arsbFM/XqbVsy32YjRmr\n",
       "UKlE8xp/sjZtqSvQllQO1FEN2JqT+ayongfvT/F4/oDFxhsHyvjg6FUcsowmtgpNUpmis3hSWDz/\n",
       "svS7E2p2vCD4AvcRX96aoQEEuQfaPtgMzX3ko2xXkxRlHMfVCPdCZJiB2enRrhTwEyWNmAdtivFb\n",
       "9a19vLizmHPlnmniM1Ij+c7WWUyLE2nignC3iEBb8AthwTo0ahXYhu64+luNdkvn0HpjwgOJitDx\n",
       "0rl32Fd+GBllGtfMmOl8a/7TTBkhBUzwbQsS8gjTh9A96Owor4mpxd48jcNnaz0C7ZKKNn7/dhGN\n",
       "bf2AA23yZTQxtYrnzI7N5keLvuHR/VgQhDsXFTbUVLLXZGXAYvOoaXav0/bFHe2ewR7XFZ3aESBu\n",
       "zk4SK+cluQLtAYudEyWNrJqXxMCgjbc/Kef9IxXY7A7F1xhD9Hx90wxWzE0UaeKCcJeJQFvwC5Ik\n",
       "EWUMoF0RaPtX6nhLx9DFWVB0Jz/Z/x+09iubogVpDTyb9xgrUxaJD0A/plFrWJm6mA8uHwBAZehH\n",
       "FdJBWY1EfWsfCdHBmAasvLTnEvtOVDm/SGVDl16E2qjsLL4mbSnPz33Sa+dYQRDu3PDO4x3dA8RH\n",
       "K+cNu9/k8sVA2+QYapaoJ2gcVyLcS4ty4/if99QMWpwlZ4cLajHo1fxl1wVaO4eliUvw0JJUtq/P\n",
       "Isgg0sQF4V4QgbbgN6KMBtqtfr6jrbagnVpKbXADDLtPsDBxDl+f+yThhrDxWaAwptakLmHX5YOu\n",
       "bAV1TC2O3kgOF9QyfWo4//PueddYFUlnRpdZgMqts7iExDOzt/LQ9NXiposg3EVRw2Zpt3WbPQJt\n",
       "g2JH27Nh2niz4HYjVxs8yjOFicSg17AoN44jBXUAFJW3UuQlTTwnJYJvb51FSry4vhCEe0kE2oLf\n",
       "iAozUNo0FGgP2gax2W1o1L7/MjYNWOmz9aGfeQKVXnmRZgwI5fn8baKL9AQTExxFXlwO5xovAqAO\n",
       "b8aqGWTn4atYbUOpfFJQN/qMAiSdxXVMp9by/fu+zoLEvHu+bkGYbDxmaXd5m6U9FIz72o72oMWG\n",
       "rDZz43ZcmF7U3E4mq/KTXIH2cMZgPV/blMPK/CRxw1YQxoHvRyiCcF2U0YBcp0x36rOaMKp9/6Ki\n",
       "tdOM2tjsEWSvSlnMM3lbCdaJVL+JaG3aUlegLalkNNF1WBuHZqCrwpvQp5WAaqjTvDEglJ8t/S5p\n",
       "EWIsjyDcC5Fhyh1tbw3RgrSBrj/3W30rm6quo1MxnWCk+cnCxDQrI5qI0AA6eoauL1QSbLw/hacf\n",
       "yCZYpIkLwrgRgbbgN6LCAhTN0MBZp20M8P1Au7nTpJiFDPCvK35A7hTPURzCxDE3LpfIwHDaTc7R\n",
       "O+qYWmyNqQBoYqvQTi1TPH9qWAL/svS7RAWJsTyCcK8EBmgJCtDQP2ADvI/4cm+GNmAdxCE7UEm+\n",
       "0XCsuk2ZKhwbKgLtyUStknh0VTp/+eACANnJzjTx1ASRJi4I400E2oLfiDIakO3DAu1B39pZGElr\n",
       "hwlJM5QaHKQNFEH2JKBSqViduoS3L3zofKwfQGVsISS2C0topeK5ebE5/HDxC4oLekEQ7o1Io4H+\n",
       "JueUgPZub6njQ7+XMjID1kGfmQJQ16FsoJgYLqZVTDablqSSkRiOQ5bJTo5ApRJp4oLgC3zjdqwg\n",
       "3IJIowF52I62r6XwjaSl04ykHQq0wwJCxnE1wr20KnWxYufLkFnsEWSvS1vGz5Z+VwTZgjBOotzq\n",
       "tNu8pI6712iDb9VpN/V0Kh4nRUaN00qE8SJJEtkpEcxIjRRBtiD4EBFoC34j2mjwTB0f9I8RX82d\n",
       "JtCIQHsyijAYmZcwy/XYwVA9toTEV/Ie4/n8bWJ8lyCMI/c67XZvzdCG7V77UqDd3q8MtGNDRemJ\n",
       "IAiCLxCBtuA3QoN0aNArjvnLLO3WTpNiRztEL8avTCbr0pZ5HNOrdfzvJd8S47sEwQdEGYcC6a6+\n",
       "Qaw2u+K8ezM08K1squ7BHtefJYdaZMYIgiD4CBFoC35DkiQig5WNz/xllnZLp1lRox2qFzvak8nM\n",
       "KdOJD5niehweEMa/r/ox8xNmj+OqBEG4YfiIr+F12sODV1+apd1n63X9WUuguHEnCILgI0QzNMGv\n",
       "RBkNdNk0SBpnd9h+Pwi0B612unoHCNBYXcdCxY72pKKSVPxw0Qu8dn4nofpgts9+hKhAkd4pCL4i\n",
       "yjh8xNcAsZFDYxc9arQtvpE6Lssyg7LJNUPboBajIgVBEHyFCLQFvxJlNHDFqnUF2v6QOt56vT7b\n",
       "fZNBBNqTT3J4Iv/3iu+P9zIEQfAiatiO9vARX5472r4RaPebrciaAVegHarz/XGXgiAIk4VIHRf8\n",
       "yvCGaL1+0AxteMdxEKnjgiAIviTSODx13D8C7ZZOE5J20PU4ItA4jqsRBEEQ3IlAW/ArkWHKWdrd\n",
       "A33juJpb09qpnKENYkdbEATBlwQFaAjQDXX+bxtWo61Va9GohpIA+30k0K5v70ZSDzVuiwkOH8fV\n",
       "CIIgCO5EoC34lehhs7T9YUe7ucMEbvXZIHa0BUEQfIkkSYqGaMNTxyVJUtRp+8qOdm17q+JxgjFy\n",
       "nFYiCIIgDCcCbcGvRIYFKFLHfWnEykhavaWOB4gdbUEQBF/i3hBteOo4KNPHfSXQbuxpVzyOD48a\n",
       "p5UIgiAIw4lAW/ArUUZl6vigfQCH7BjHFd1ci7fUcZ0ItAVBEHyJckfbc3yXe6Bt9pFAu7WvS/E4\n",
       "StRoC4Ig+AwRaAt+JTRIh9qhcz2WkTH70DxTb1o6TIod7UCtAY1aNPwXBEHwJVFuDdE6ewew2ZU3\n",
       "cRU72j4y3qvT3K14bDSIruOCIAi+QgTagl+RJIkgnXJOqC/P0rbZHXT0DIDbjrZohCYIguB7osKG\n",
       "UsdlGTp7BhXnA3VDgbavNEPrs/W6/izJaoK0geO4GkEQBMGdCLQFvxM2rL7Zl2dpt3WZccgodrRF\n",
       "IzRBEATfczsjvnyhRttudzDgGPr8M6iCkCRplK8QBEEQ7iURaAt+JyJoeKDtuzvarZ3OizFJ7GgL\n",
       "giD4tKgwZaDd5uOBdkfPIGiHSqeCteImriAIgi8Rgbbgd6JCwhSPe3x4lnZzh/MmgAi0BUEQfFuk\n",
       "W+o4eDZEcw+0B2yDOBzj24iztcuEpBtKbzcGhI3ybEEQBOFeE4G24HdijcqLiZbennFayc21dpoA\n",
       "GbRDc7RDA8SugyAIgq8JDdKh1QxdFo2WOg5gso3vrnZblxlJOxRoRweHj+NqBEEQhOFEoC34nTij\n",
       "8mKitad7hGeOv5ZOM2isSJLsOiZqtAVBEHyPJEmK9PG2LmUgHTQ80B7nzuMN7d1IarvrcWxYxDiu\n",
       "RhAEQRhOBNqC34mLCEV2DL10O0y9ozx7fHmdoS1SxwVBEHxSpHEofby9e1jquG5YoD3OddoN3e2K\n",
       "x1NCxI62IAiCLxGBtuB3IsMCwKZ1Pe42+26NtvdAW+xoC4Ig+CLFjvbNUsfHOdBu6e1UPI4wGMdp\n",
       "JYIgCII3ItAW/E5okA7sQ4F276BvjvdyOGRn6qFW7GgLgiD4A/eGaB3dA9gdQ2U/vhZod5i6FI+N\n",
       "AaHjtBJBEATBGxFoC35HkiQ0DF0Mmce5Ic1IOnsHsNllzx3tABFoC4Ig+KIot1nadodMd99QszHP\n",
       "QFuZWn6v9ViUjUDFjrYgCIJvEYG24JcC1EOB9qDdNwNt12gvt47jIFLHBUEQfFXk8Fnabg3RhjdD\n",
       "67eY7smavBkYtDHI0M9XoSZIFzhu6xEEQRA8iUBb8EuBmqELChuDozxz/LR0Oi/Q3He0AzR6dGrt\n",
       "SF8iCP9/e3ceJVld3n/8c2uvrt67Z1gGAUNwxrgAAZmg/g4iqOCoBzSyGGGCJMgIQjLGjYOcgyQn\n",
       "Jjosw+KeIDgi4AlLPOEclxzHJejATFwDoxEHHAwzve+1398fPVX3e29V9XR3VVd13ft+/dV1b1X3\n",
       "1aKm6lPP832+AFposNe9l7a5xddqah0f8mztlYp0yrKsll0PAKASQRttqSueKv9cDGVVKBRbeDXV\n",
       "ze+hLdcabdZnA8DqNVhR0XbawyPhiKLGF6UtD9oxJ2j3xFmfDQCrDUEbbamnwwmsVrioF8dW3xZf\n",
       "5dbxiBm0aRsHgNWqpzOucMipDI8sMHm8lWu0h8bcFe2BFOuzAWC1IWijLQ2k3IF1/8hYjXu2zlCV\n",
       "1nEq2gCweoVClmvyuFnRlqSOqHOulRXt4fE5WTHn2thDGwBWH4I22tKarh7X7f8bH69xz9Y5OFYa\n",
       "hkZFGwDaxcACe2mnos58kNlc64ahvTg+IStcKN8e6CBoA8BqQ9BGWzqy190md2BidQVt27YPDUOz\n",
       "JbOizdZeALCqmVt8Ldg6nm1dRfvFiVHX7b5kT417AgBahaCNtrSmyz34ZXh6ssY9W2NiOqtsriCF\n",
       "87JCdvk4reMAsLp5W8dt2/k3fLWs0R6ZdX+5TNAGgNWHoI22ZE4dl6Sx2dU1DK3cNm5UsyVaxwFg\n",
       "tTMr2vlCUZMzzr/jq2GNtm3bmsi4v1zuSxC0AWC1IWijLXXG3EF7cm6mRVdSXXkQWtQbtKloA8Bq\n",
       "VrnFV/W9tFsVtCemsyqE3NV0KtoAsPoQtNGWktGEZDtbsExnV1fQLm3tJSraANBWBnoTrtsjE06o\n",
       "7Yg5QTtTyCpfLKjZhsZnXRPHw1a44stnAEDrEbTRlkJWSNFQvHw7XZxTvlBs4RW5DVWZOC5J3QmC\n",
       "NgCsZhUV7YnqFW2pNVVt7x7aXbEuWZa1wCMAAK1A0EbbSoSNqkM4p9HJ1g2m8TpYZQ9tidZxAFjt\n",
       "+rriChm5tVbruNSaoD2/h7YTtPtpGweAVYmgjbbVGXVa5axITiPjqyloV1a0Y+GoEpF4rYcAAFaB\n",
       "cDikvm7ni1xX67g3aLdgi6+hcXdFeyDVu8C9AQCtQtBG2+pKGEE7nHNVHVqtFLQVyZWPsT4bANqD\n",
       "2T6+2ira3tbx/iRBGwBWI4I22lZfh9GGHcm51tG10vRcTrPpvCR36zht4wDQHsyBaCOrbI32wfEp\n",
       "WZF8+TYTxwFgdSJoo231Jp0KsRXJr5qKdmkQmuRuHSdoA0B7cFW0J9KybVuSlIq1PmgPzYy5brOH\n",
       "NgCsTgRttC3XdibhnIYmVscWX+WtvSTX9l60jgNAexgwgnYmW9DM3PwyoFZXtHP5giYzk65jVLQB\n",
       "YHUiaKNtpWId5Z8tSzo4MbnAvZunvD5bNhVtAGhDg569tIcPDURLtjhoj0ykXRPHJYI2AKxWBG20\n",
       "rU4jaEvSyPTqCNpDh7b2UqggK+Ts7c0e2gDQHga8e2kfWpoUCYUVD8fKx5s9dXxofE6KeoI2reMA\n",
       "sCoRtNG2XK3jkiYzs8oXijXu3Tyl1nH20AaA9jTY6w7atQaizTS5ou2dOB62wuqMpxZ4BACgVQja\n",
       "aFveoK1wVqMTrd9LuzwMLUrQBoB21N/taR0fN/bSNgaiNbt1fGh81tU63pPoVsjioxwArEb864y2\n",
       "5W0dt8KrY4uvg4daxysr2rSOA0A7iEZC6u2Kl2/Xqmg3O2gPj6ddFe0B1mcDwKpF0Ebb8gZtrYIt\n",
       "vtKZvCZn5gO2RUUbANrWYI9T1TbfW1oZtIfGZmXFnOp6L0EbAFYtgjbaVspb0Y7kXO19rXDQ3EM7\n",
       "knOdo6INAO1jwLOXdklLg/a4e402E8cBYPUiaKNtRcNRxSNOa58Vyba8dbzUNi7JtUY7HAorGU1U\n",
       "eQQAYDUyB6LVbB1v+tTxaVmRfPk2E8cBYPUiaKOtdUaNqnY41/LW8SFXRdsYWBPvkmVZrbgkAMAy\n",
       "DBit47PpvGbT811KqRYNQ5uZyyltz7iO9SV7m/b3AQBLQ9BGWzPXaVurYI12aWsvSbKiTus467MB\n",
       "oL1UbvE13z5uVrRzxbxyBfcyoZXibRuXpL5kd1P+NgBg6QjaaGuu/UMjOVd7XysMGa3j0YTT3sf6\n",
       "bABoL4M97qBd+iLXDNpS86raQ2OzkjdoJ6hoA8BqRdBGW0sZreNWOKexqYxy+WLLrscchhYy1mhT\n",
       "0QaA9jLQ656rUfoitzJoN2cI5/D4nGviuERFGwBWM4I22pq7dTwn25bGJls3edwM2sWQU3kgaANA\n",
       "exnwVrTLrePuAD6TnVUzeFvHw1ZIXby3AMCq1ZCgXSgUdM8992jTpk066aSTdM455+juu+9WPp8/\n",
       "/IM9isWiLrzwQm3YsKERlwaf87aOS7aGWrROO5cvaHTy0Icgq6CiZbSOJ2gdB4B2Eo+G1dURK992\n",
       "WsfdW0s2r3V8TlbMCdq9iR6FLOolALBaNeRf6Jtuukmf+tSn1N/fr82bN+vII4/U9u3b9aEPfWjJ\n",
       "v+uee+7Rz3/+cyY0Y1E6Y07QtkJFKVRs2TptM+BbRtu4REUbANrRoNE+Xm0YmtTEoO2paPfSNg4A\n",
       "q1qk3l+wZ88ePfjggzrvvPN06623lo9/7GMf06OPPqqdO3fqzDPPXNTveu6557R9+3ZCNhYt5aks\n",
       "tHKLr6FR4+9GvEGbijYAtJuBnqR+94dJSUZFO9aaNdpD43OyjnaCNlt7AcDqVndFe8eOHbIsS9dc\n",
       "c43r+NatWyVJDz300KJ/1w033KAjjjhCxx13XL2XhYDojLuDthXJldfRNdsBcw9tKtoA0PbMLb6c\n",
       "YWjuNdrNqGgXirZGxt2t430JKtoAsJrVHbR3796tvr4+nXDCCa7ja9eu1fHHH68nn3xyUb/n/vvv\n",
       "11NPPaWbb75ZiUTi8A8A5G4dlw4F7RZVtM1BaFZFRZugDQDtZrDH+TwyNZtTOptXR6T5rePjU2kV\n",
       "7LysiLNnNxVtAFjd6gra2WxWL774oo499tiq59etW6fJyUmNjY0t+Hv+7//+T5/5zGf07ne/W6ef\n",
       "fno9l4SA8QZttTBom3tod3S6txijdRwA2o938vjoRFqhUEjJiBPAZ5swddy7Pluiog0Aq11dQXti\n",
       "YkKS1NVVPUSUjk9PTy/4e2688UalUil95CMfqedyEECpmKd1vIVrtA+MOh+2zKAdskIVa/oAAKvf\n",
       "oGcv7eEqe2k3Y422d+K4REUbAFa7uoahlbbvisViVc+XjmcymarnJemRRx7RD3/4Q91xxx3q7KS9\n",
       "FkvT6Q3akZzGRzLK5YuKRpq77cmQ0ToeSxTKP3fFO9mCBQDaUMVe2uPOXtojh77TbUbr+NDYnOSt\n",
       "aCd7VvzvAgCWr66gHY/HJUm5XK7q+Wx2fp1qMlm9mjcyMqJ//Md/1Jve9Cadc8459VxKTevXr1+R\n",
       "34vVIRlJKGSFVLQPVZAjOdm2NDqZ1hH9HQs/uIEKhaJrCFsolpMOZW3WZwNAexrocVe0R6pWtJsQ\n",
       "tMdnq1S0CdoAUI9du3YtOivu3bt3yb+/rjJbV1eXQqGQpqamqp4vHa/VWn7TTTfJtm3deOON9VwG\n",
       "AsyyLFf7eGlQTLPbx0cm0yoW7fJtO+x8ICJoA0B76khElUo4NYlqW3w1I2gPj8/Jihpf5loh3lsA\n",
       "YJWrq6IdjUZ19NFHa//+/VXP79+/X/39/erurj6w41vf+pYsy9LrX//6inOWZWnDhg1at26dvvvd\n",
       "7y77Gpfy7cOll16qXbt2LftvoTU6Yx2ayhyaAxBuTdA+OOoehpOT84GIQWgA0L4GepOaeXG+cDAy\n",
       "UWodd4L2TFMq2u5haL2JbpYkAUCdTj/9dN13330r9vvrCtqSdOqpp+qxxx7Tc88959r/+uDBg9q3\n",
       "b5/OPvvsmo/17r1d8vWvf10jIyP64Ac/WLMaDpSYk8dbVdE+OOb+e+nCTPnnHoI2ALStwZ6knj8U\n",
       "tKsPQ2vOGm3rGHMPbdrGAWC1qzton3/++Xr00Ud1yy236LbbbpNlWZKkbdu2ybIsXXjhhTUfWyto\n",
       "f+c739HIyIiuvvrqei8PAVA1aE80N2ibg9BkFZUuGK3jCdr7AKBdmeu0R8YrK9qzuTnZtl3+/NNo\n",
       "mVxBkzNZxY2KNuuzAWD1qzton3HGGXrrW9+qxx9/XBdddJE2btyoPXv2aM+ePTr33HN15plnlu97\n",
       "xx13yLKsmgEbWA7XFl8tqmibW3t1dtkqGOdYRwcA7Wuw1wnV49MZ5fIFV9AuFAvKFXKKRarvwFKv\n",
       "0vuZOQytl6ANAKte3UFbkj796U/rxBNP1MMPP6x7771XRx11lK677jpdccUVrvvdddddCoVCiwra\n",
       "K/XNMPzH3OLLKq3Rnlj5fU1NQ0breH+/pSHjHGu0AaB9ebf4GplIu4K2NF/VXqmgPTQ2K1nFcseW\n",
       "JPUTtAFg1WtI0A6Hw9qyZYu2bNmy4P2eeeaZRf2+Rx55pBGXhYBwt47nJRVbsEbbqWh398gTtKlo\n",
       "A0C7Guz1bvGVVirmDtozubkVqzIPjbknjktSL2u0AWDVY2Ql2p5Z0ZYkRfIan8ooly825e8Xi7aG\n",
       "jGDf0Wm7zlPRBoD2NeipaA+Pz1WtaK+U4fG5ij20qWgDwOpH0EbbMyvakjMQbaRJA9Hm1+w5oT6e\n",
       "zLvOU9EGgPY10OttHW9u0B4an5Oi7qBNRRsAVj+CNtpeRUU7XArazVmnbbaNS1I45qyjs2RVfBEA\n",
       "AGgfqUREiVi4fHu4xhrtlTLfOu4O2kwdB4DVj6CNtleroj3UpHXaQ6Puv2NHsuWfO+MphUK8zACg\n",
       "XVmW5RqIVrV1PLuSFe1ZV+u4ZVnqYUkSAKx6JAC0PW9Fu9w63qSgfcBT0c7LqaTTNg4A7c8ciDYy\n",
       "MaeOKsPQVoJt2xoaT7sq2r3xbr7ABYA2wL/UaHupimFozd1L22wd70hENJufKd9mEBoAtD93RTut\n",
       "RCQuS842pCvVOj45k1U2V3AFbdrGAaA9ELTR9lLe1vHyXtpNah039tBe29ehycx0+TYVbQBof4PG\n",
       "QLSxqbSKRSkZdarcKxW0S0ugrJjTKbVS24gBABqLoI22FwmFlYw4H3isJle0D4w6Fe01fUmCNgD4\n",
       "zGCP8x5j29LYZMa1TnulgnbpfcysaPczcRwA2gJBG77gah8vBe0mTB23bVtDRuv4mt6EprO0jgOA\n",
       "nxxui6/Z3Mq83wyNzUlWUVbU2c2CijYAtAeCNnzBHIhWqmiPT2WUyxdW9O9OzeaUzjp/o6fXcp2n\n",
       "og0A7W+wxx20hyfmlDIGos1mZ70PaYih8cqtvfoJ2gDQFgja8AXXFl9h55v/ld5L27uHdqqr6Lrd\n",
       "k6CiDQDtbsBoHZfmB6Ilm9A6PjQ2K3mCdi+t4wDQFgja8AUzaJcq2tLKr9M+OOoO2rGku4JORRsA\n",
       "2l93KqZoxPnIVNk6vnJrtM09tCUq2gDQLgja8IVUldZxqQlBe8z9+yOxnOs2a7QBoP1ZluVqHx8e\n",
       "n1OHa+r4Cq3RHp+TFXX/btZoA0B7IGjDF8w12vOt47aklR+IZg5Ci0XDylvuv0dFGwD8YaDXCdYj\n",
       "E+mKirZt2w39e/lCUaOTadcabcuy1MMXuADQFgja8AVX63jIlkLzLdwrXdF2be3Vm9RUdtp1vpOg\n",
       "DQC+4KpoT8wpFXW+4C3aRWXymWoPW7bRibRsW67W8Z54l8KhcEP/DgBgZRC04Quuiraat5f2kNE6\n",
       "fkR/hybTTtBOxToU4QMRAPiCORBtdCKtRMQ9IK3R7eNDVfbQ7qNtHADaBkEbvpDyBG1nL+2VXqNt\n",
       "VLT7kprMOEGbtnEA8I9BYy/tQtGWChHX+UYPRCstTTIr2n1MHAeAtkHQhi+4tveSZB3a4mtkfOXW\n",
       "aM+mc5qec4afre3r0GRmqnybQWgA4B8Dnr20cxn3R6iGB+2qFe3ehv4NAMDKIV6SVm8AACAASURB\n",
       "VGjDF7xBu1TRHp/OKJcvVHlE/bwTx9dS0QYA3/LupZ1JW67bKxK0raKsaLZ8rC/Z3dC/AQBYOQRt\n",
       "+EKtNdrS/HTYlWC2jUvS2n4q2gDgV2bruCTNzriD9kzO/Z5Qr6GxOVc1W5J6aR0HgLZB0IYvLBS0\n",
       "h1ZoINrQqPtD1WBvQlPZmfJtKtoA4B89nXGFQ064npl2b+c1m23sl7rD43OSJ2j3MwwNANoGQRu+\n",
       "EI/E3VuehI2K9goF7QNG63g4ZCmaKLr2USVoA4B/hEOW+o328YlJT9BegdZxKtoA0L4I2vAFy7Lc\n",
       "e2k3oaLtnTg+k3PvoU3rOAD4i7mX9uhETiHL+RjVyKA9m85pZi7nmjguSf0MQwOAtkHQhm90Rp32\n",
       "8UgsX/55pdZoDxlBe22few9tSepOUNEGAD/x7qWdjDq3Gxm0q00ct2SpJ8EXuADQLgja8A1znXY0\n",
       "4UwaH16xirbze+f30J5ynaeiDQD+Yg5EGx5PKxV1bs80MmiPVQbt7kSXe4kUAGBVI2jDN1Jxp3U8\n",
       "FHEq2sMTjQ/amVxB41POB6D5PbS9reNUtAHAT8y9tPOFouLhlalol74gtmJOR1Zfgq29AKCdELTh\n",
       "G67J48Ya7ZWoaA95t/YiaAOA7w32uvfSjihW/nluhVvH+1ifDQBthaAN3zDXaBfkfDiZmM4qmytU\n",
       "e8iymW3jkrS2P6nJtNM6nowmFA1HG/o3AQCtZQ5Dk6SQ7QTt2WwjW8fnv8w1h6FR0QaA9kLQhm90\n",
       "Gq3jeeUkq1i+3eiBaAdHq1W0naDN+mwA8J8BT9BWIVL+sbGt4+n597BItnyMijYAtBeCNnzD3N5L\n",
       "kmsv7Uav0za39gpZ8x++zNZx2sYBwH/6uuMKWc7tQs4ZTtbQYWjjs1IkK8v4W31JKtoA0E4I2vAN\n",
       "1xptuffSbvQ67SGjdby/O6FoJETQBgCfi4RD6u1y1mnnsk7QnsulVbSL1R62JMWireHxuYo9tKlo\n",
       "A0B7IWjDN1JNDNoHjNbxNX3zf5fWcQDwP3MgWmbOKTnbspXOZ6o9ZEnGpzPKF2xZUfeSp75ET92/\n",
       "GwDQPARt+Ia3dTyedCoLja9oO0F7bV+HbNvWFBVtAPA9c532rHtcR0PWaQ9XmTguSX1JgjYAtBOC\n",
       "NnzDG7S7upxKw/B444ah5QtFjU46v29tf1IzuVkVjJZBKtoA4E+DvU7Qnp62XecaMXm8tDTJbB23\n",
       "ZKmHqeMA0FYI2vANb+t4R8r5ANTIYWjD43MqGp+t2EMbAIJjsMdYo50Ou841oqI9NH5oay+jot0d\n",
       "71QkFK71EADAKkTQhm+kou5tV+JJZ+/sRraOmxPHpUNBO+0J2gmCNgD4kdk6bhvbe0mNCtqVFe1e\n",
       "2sYBoO0QtOEb4VBYHUbYjsScoD05k1U2V6j2sCU7OOr+ILW2P+kahCbROg4AfmW2jmslgvZY5Rrt\n",
       "PtrGAaDtELThK+YWX6Fo3nWuUe3jQ56K9hpaxwEgMAaM1vEVrWgbU8fZ2gsA2g9BG75irtMuhrKu\n",
       "cyMNGoh2wAjavZ1xxaNhKtoAEBBm0FYh6jo3m6v/fWZ4bE5SUYo672F9SSraANBuCNrwFXPyeF7u\n",
       "rVGGGrROu9TWJ823jUtyVbTj4ZjikVhD/hYAYHWJRsLq7YzP3yiGZBkfpWayszUetTjZXEHj0xkp\n",
       "mpXlbJyhvgQVbQBoNwRt+IoZtLNFd2VhpEGt4+YwtDV98xX0SfbQBoDAGOgtVbUthYpOVbve1vHS\n",
       "EidzEJrEHtoA0I4I2vAVc432TH5WqYSzfq4RFe1C0XZNMF97KGhPGa3jtI0DgL8N1pg8Xm/QrjYI\n",
       "TSJoA0A7ImjDV8w12tPZGfX3OmvpGrFGe2wyrXzB2UR7bd+h1nFje6/uBEEbAPzMXKddzJlBu773\n",
       "GSdou39PX4KgDQDthqANXzFbx23bVn+v8wGoEXtpV+yh3T8f7CdcFW1axwHAz8wtvgr5cPnnlWod\n",
       "72V7LwBoOwRt+IoZtCWpp9v5T7wR23sdHPPsod3XIdu2WaMNAAEyYLSOK29UtOschlatdbwr3qlI\n",
       "OFLrIQCAVYqgDV8x12hLUqfRxT05k1UmV6jr9x8c9VS0+5Kay6eVLzp7drNGGwD8bbDX3EvbHIZW\n",
       "b+v4/HuMGbT7aRsHgLZE0IaveIN2sqPoul3v5HGzdbwzGVVHIuqqZktUtAHA78xhaGrgMLRqreO9\n",
       "DEIDgLZE0IaveFvHYwl3BbveddquPbRLW3ulp1z3YRgaAPhbf49Z0XaC9lw+rWKxWO0hh2XbdtXW\n",
       "cSaOA0B7ImjDV7xBOxL3Bu362vrce2gfmjhORRsAAiURi6ir41DLeMG9fnouv7z3mem5nNLZgiRb\n",
       "MoM2reMA0JYI2vCVlKd1XOGs62Y9FW3btl3D0EoTxwnaABA8pYFodj7qOj6zzPbxcsdUNCPLco5T\n",
       "0QaA9kTQhq/EwlFFQ051IVNMK5UwtviqY432xHRWWWOYWrl1PONpHWcYGgD4XmmLL9tT0Z7NLu99\n",
       "pvRFsNk2LhG0AaBdEbThK5ZludrHZ7Kzrv1O66loV+yhXaV1PBqKKBGJL/tvAADaw0BpnbY3aC+7\n",
       "on1o4rhnD21axwGgPRG04Tvm5PHp7KwGVixoV1a0u+NdssyePwCALzkVbXfr+LKDNhVtAPAVgjZ8\n",
       "J+UK2jNa4wrayx+GdnDU/eGptEZ7yqhosz4bAIJhsNEV7RpBuzfRvazfBwBoLYI2fMdsHZ/2tI5P\n",
       "zWaVzuaX9XuHjIp2IhYuT5ydTBtBO0HQBoAgcIahNap1vLSHtvOFcFcspWg4WushAIBVjKAN36lY\n",
       "o23sdypJoxPLq2ofcG3t1VFuETdbx7sYhAYAgVD+EncFK9q9tI0DQNsiaMN3vK3jZkVbcj7MLNWQ\n",
       "ubVXn/M7J2kdB4DAKQ9Ds8Oyi87HqeUE7UKhqNGJUkXbCdr9BG0AaFsEbfiOOQwtU8iqu9NdbRhZ\n",
       "5hZf5jC00vrsTD6rTMHZq5ugDQDB0JGIqqO0faRR1V7O9l6jkxkV7fmfXRVtJo4DQNsiaMN3zNZx\n",
       "SUqmbNft5VS0p+dymk07a7tr7aHdQ+s4AARGeZ22GbSXUdEeGi99kWtLRtBm4jgAtC+CNnynM97h\n",
       "ul1QVqmkM0xmZBmTxw+OVt9DeyLtDtrdCYI2AARFeQaIMRBtZjlBu7Q0KZqVuUMke2gDQPsiaMN3\n",
       "UlF3Rdu7xddyKtoVe2j3lyra067jtI4DQHBU20t7ORXt4fIgNPcXwVS0AaB9EbThO+YabWk+aA8Y\n",
       "k8eXs0a7ImjXaB3vpnUcAAKj1DquulvHq++hTdAGgPZF0IbvdMa9FW33XtrDy6lojzqPiYRD6u2M\n",
       "S6KiDQBBNtg7/yVu3Wu0xyonjktSX7K3jqsDALQSQRu+U1nRdgftqdmc0tm892ELck0c70sqFCrt\n",
       "oe0E7XAorI5osuKxAAB/ql7RXvockNIwNG9FuzfRvfyLAwC0FEEbvtMRTcqSM01mOjujwR53AB6Z\n",
       "WNoHoSFX0HaCvNk63h3rlGVOsQEA+Fp5jXbeWaOdyWeULxaW9HuGq7SOd8ZSioWjtR4CAFjlCNrw\n",
       "nZAVUkfMCdbT2Zlye1/JUtvHD44591/T5/xus6JN2zgABEtp6rjZOi5Jc0toH5/L5DU1m5Pkbh3v\n",
       "o5oNAG2NoA1fMvfSnvG0jktLC9rpTF6TM9ny7dLEcUmaMrb36k4QtAEgSFLJqOKxsKt1XFraOm3z\n",
       "/chy7aHN+mwAaGcEbfiSuU57Ojtb0To+vITJ47UmjkvuinYXE8cBIFAsy9JgT8K1vZe0tHXa5paT\n",
       "Vsx5XG+SijYAtDOCNnzJHbRnlIhH1Jl0PggNjy/+Q5DZNi7ND0MroXUcAIJtoCcp5Zdf0R4qv8fY\n",
       "UtTpnuqnog0AbY2gDV9KGa3j09n5ivRyt/iqVdHOFXKayzuBnT20ASB4BnuTFWu0Z7KzNe5dqTRx\n",
       "XJGsLMsuH2fiOAC0N4I2fMmsaM/UG7RHnQ9MoZClgUPDb9hDGwAw0JOQKlrHl17RrtxDu6f+iwMA\n",
       "tAxBG77kDdpFu1gOyNLSgvaQ0To+2JNQODz/siFoAwCqVbSXMwzNu4d2X4LWcQBoZwRt+JI5ddyW\n",
       "rdncnNYYFe3puZzSmfyifpfZOr6mxh7aEq3jABBEgz3JKlPHlz4MrSJoMwwNANoaQRu+ZAZtaX6d\n",
       "9sAyJ4+bQds1CC3tqWizvRcABM5AT0KyQ7ILzkeqxVa0i0XbqWjH3OG8L0HrOAC0M4I2fMlsHZfm\n",
       "28fXePbSHlnE5PFcvqDRSafKYO6h7a1o91DRBoDAKc//MNZpzy5yGNrETEa5fFGSu6KdiiYVi8Qa\n",
       "d5EAgKYjaMOXUp6gPZ2d0UBvwnVsaBHrtL33MffQnjCCdsgKVfxNAID/dadiioRDrnXai20dH3bt\n",
       "oe0E7T629gKAtkfQhi9Vto7PuKaOS9LIIlrHzYnjUu09tLtiKYUsXk4AEDSWZWmwN+Fap73Y1nFz\n",
       "2KZZ0WZ9NgC0P5IBfKkiaGdmlYhF1NXhtPYtpqJ9cMxT0Xa1jjtBm4njABBcAz1JT0V7kUHbfB8y\n",
       "gzYTxwGg7RG04UveNu6Z3Hxl2hyINjJx+NY+cxCaJNc676m00zrenWB9NgAE1WBPUnbeWKO9yKDt\n",
       "tI7brtbxXvbQBoC2R9CGL8XCUcXCzoee6cyMJLnaxxezl7bZOt7fHVc0Ei7fdrWOU9EGgMDyto7P\n",
       "ZJfYOh7JyrLs8vF+gjYAtD2CNnzLbB+fPjQBdslB22gdN/fQltxTx2kdB4DgWn7r+Px7k3cP7V62\n",
       "9gKAtkfQhm+5gnauFLSdyePTczmlM/kFf8eQ0Tp+hBG088WCZowPUt1s7QUAgTVf0Xa6qHLFnPKF\n",
       "hd9fJKeibbaNS1S0AcAPCNrwLXOd9kz2UOt4j3vy+PACk8cLhaKGjXXca4yJ41NG27hERRsAgsxb\n",
       "0ZYOX9XO5Qsam5oP2BUVbYI2ALQ9gjZ8q9MI2tXWaEsLt4+PTKRVLDpr5twTx6dc96WiDQDBNdib\n",
       "lPJLC9rmQE5v0O6jdRwA2h5BG751uDXakjQ8XnvyuHfi+Nq+6lt7SVS0ASDIejrjsuyo69jMYYK2\n",
       "aw9to3W8I5pUPBJr7AUCAJqOoA3fclW0y9t7JVz3Wah1vGIPbaN1vLKiTdAGgKAKhyx1J1KuY4er\n",
       "aJt7aJsV7T7axgHAFwja8C1zjXaukFM2n1UiFlFXh1N1WKh1fMGKdtpT0WYfbQAItN4O9xeuhw/a\n",
       "znuMFXO6q2gbBwB/IGjDt8zWcWnpW3yZe2h3p2JKxJ31d97W8S7P3wIABMtAyhO0D7OXttk6Hopl\n",
       "yz9T0QYAfyBow7cqg/b8QLQBY/K4OYzGy/wQZLaNS+7W8c5YSuFQuK5rBQC0tzU93a7bh12jXf6i\n",
       "15ZoHQcA3yFow7fMNdqSU9FeY1S0hxbZOr6mz/27zIp2DxPHASDwjuhxB+Sxmaka95xX7qiK5CSr\n",
       "WD7eS+s4APgCQRu+VRm0D1W0e52BaDNzOc1l8hWPLRZt1zC0tQsE7e4Eg9AAIOjW9nXILjjdTaPT\n",
       "0zXva9u2hg59mevd2qufijYA+AJBG75Va432mkXspT0+nVG+4FQY1vZ7WsfTTqWii4njABB4gz1J\n",
       "qeDM8piYm6l535l0XnOZgiT3IDSJijYA+AVBG761mDXaUvWgvdDEccm9Rrub1nEACLyBnqTsvLOr\n",
       "xVRmtuZ9h2ts7SVR0QYAvyBow7eS0YRClvOf+EyNivZIlb20zYnjkjtoF4vFcnVcYg9tAIDU1x2X\n",
       "ik5FeyZbO2gPGV/meoN2L0EbAHyBoA3fsixLqagTqksV7f6ehOt+Q+OVk8fN9dmStLbfCdpT2WnZ\n",
       "ssu3CdoAgEg4pIhi5dtz+QV2tTAr2jEnaCejCSUi8ZW5QABAUxG04Wtm+3ipCp2IRdTV4XwYqlrR\n",
       "NqoNHYmIOpNOO6B3D21axwEAkpQIO1/kZouZmvczt480g3Yf67MBwDcI2vA1c/K42cY3aEwer7bF\n",
       "19AiJ45LVLQBAPOSRhdVXtma9zPXaEcTzv3YQxsA/IOgDV9LGUG71DouSYPGOu2RKkH7wKi5h7Zn\n",
       "4njGvTcqFW0AgCR1xo15HlZOtm1XvZ+7ddwI2lS0AcA3CNrwNXfruBG0jcnj3qnj5v6mknSEt6Kd\n",
       "9lS02UcbACCpO+G8X1ihosanqw9Ec95jbBVDznsQFW0A8A+CNnyt2hptyV3RnknnNZvOlW9PzeaU\n",
       "zhbKt9cssLWXJHXHCNoAAKmvw/1+sH90vOI+haKtkYlDg9IiOdlW0Xk8QRsAfIOgDV8z2/hmc3Mq\n",
       "Fuc/0AxWbPHlTIet2Nqr39s67lS0O6JJRcIRAQAw0OVeSvSHKkF7fCqtQnG+pdy7tRdBGwD8g6AN\n",
       "X0tF3dXomdx8iDaHoUnu9nFz4ri08DA0BqEBAErWdHW7bg9NTlTcxzVx3Bu0WaMNAL5B0Iavma3j\n",
       "ktM+7q1ou4O2Zw/tBVrHGYQGACg5otcbtKcq7lNray9J6kv2rsyFAQCajqANX+uMe4P2/EC0gR5P\n",
       "0DZbx42KdiwaVk9nzHVfKtoAgGq6E+73nLHZ6Yr7uCaOR9Ouc32Jbu/dAQBtiqANXzP30ZacvbTj\n",
       "0bC6U06AdlW0za29epOyLMv1OwjaAIBqOqLuL3HHqwZt5z0mknAGcSYjCSWiiYr7AwDaE0Ebvpby\n",
       "BO2aW3xNOEHbbOs7ot/9+KJd1JQZtBO0jgMA5nnngkymK7f3Mt9j4h1O0O5NUs0GAD9pSNAuFAq6\n",
       "5557tGnTJp100kk655xzdPfddyufzy/q8b/85S/1gQ98QBs3btQrX/lKvelNb9K2bds0Nzd3+AcD\n",
       "C6i1Rltyr9OuNQxtTZ+7OjGbnVPRdrZiYY02AKAkEY27bs/mKj/HmF/shuPZ8s8MQgMAf2lI0L7p\n",
       "ppv0qU99Sv39/dq8ebOOPPJIbd++XR/60IcO+9gf//jHuuSSS/TDH/5Q/+///T9ddtll6uvr0xe/\n",
       "+EVt3rxZ2Wz2sL8DqKUzWruiPWBMHh85FLRn0zlNzzkVBu8gtAnvHtq0jgMADglZIUUsZ1lS3s5q\n",
       "Np1z3cesaBcjzhpttvYCAH+pewPgPXv26MEHH9R5552nW2+9tXz8Yx/7mB599FHt3LlTZ555Zs3H\n",
       "33TTTbJtW/fff79e+cpXlo/feOONeuihh/S1r31Nf/mXf1nvZSKgIuGI4pG4Mvn5ya5mRXuNUdGe\n",
       "Sec1m85VThzvrz1xXKKiDQBwS4QTms4fKhKEcxqZSKsjEZUkpbN5Tc6UCgi2cnLek6hoA4C/1F3R\n",
       "3rFjhyzL0jXXXOM6vnXrVknSQw89VPOxv/3tb/W73/1O55xzjitkS9LVV18t27b1gx/8oN5LRMCZ\n",
       "A9FcFW3P5PGRiXSVPbTd9zEHoUlUtAEAbsmI0y1lRfKupUnmzwrnVFShfJOtvQDAX+quaO/evVt9\n",
       "fX064YQTXMfXrl2r448/Xk8++WTNx3Z2durDH/6wTjzxxIpz0ej8t78zMzMV54Cl6IylNDI7Jql2\n",
       "RVua33LFnDguVdlDO+0J2gmCNgDA0RVPaajUER7Oa2SietCu3EObYWgA4Cd1Be1sNqsXX3xRJ598\n",
       "ctXz69at0759+zQ2Nqa+vr6K80cccYSuuOKKqo/99re/LUl62cteVs8lAq6K9owRtM012tL8ByCz\n",
       "dTwcstTX7b4PreMAgIV0JTqkifmfrXBewxPOOmxzfbYV9QZtKtoA4Cd1tY5PTMy/k3R1VQ8bpePT\n",
       "05X7SC5keHhY27dvl2VZeve7313PJQKuLb5qbe8lzQ9E804cD4dq76GdiMQVC0cbfbkAgDbWFTc6\n",
       "ocI5VxV7aHyBoJ2gog0AflJX0C5t3xWLxaqeLx3PZDJVz1czPT2tK6+8UqOjo7rsssv0qle9qp5L\n",
       "BFxbfJmt47FoWN0p57/dofE5DRlB29s2Lrkr2qzPBgB4dUSdL3GtcF4jNSrayS73FqhUtAHAX+oK\n",
       "2vH4/H6RuVyu6vnS1lzJZLLqea9SuH766ad11lln6aMf/Wg9lwdI8gbtGdm2Xb5t7qU9MpHWwVHn\n",
       "Q5B3D23JXdGmbRwA4NURM947InkNjTtf4JrV7WTKGYQWj8SVjLqXKgEA2ltda7S7uroUCoU0NTVV\n",
       "9XzpeK3WctPzzz+vK664Qvv379fZZ5+tW2+9VaFQ/dt8r1+/vu7fgfZmrtEuFAvKFLJKROa/JBrs\n",
       "SerZF+aXQLwwNK3xaaf74oiqFW0zaFPRBgC4uSralq2RSed9wwzd4US2/HM/W3sBQNPt2rVr0Vlx\n",
       "7969S/79dSXZaDSqo48+Wvv37696fv/+/erv71d398Lrjp5++mldfPHF2r9/vy644AJt3769PHUc\n",
       "qJcZtCXPOm1jINoBz8TxNYdtHaeiDQBwM4O2JE1n55TO5mXbtnsYWsRpKe9NErQBwG/q3t7r1FNP\n",
       "1WOPPabnnntOxx13XPn4wYMHtW/fPp199tkLPv65557T+973Po2Pj+vyyy/XRz7ykXovyWUp3z5c\n",
       "euml2rVrV0P/PlrPbB2XpOnMrAY7+iW5W8e91va7z9m27a5os7UXAMDDG7StcF6jE2mlklFl88Xy\n",
       "8VxoTqVttPsI2gDQdKeffrruu+++Ffv9dfdmn3/++bJtW7fccotr7eu2bdtkWZYuvPDCmo+1bVtb\n",
       "t27V+Pi4Nm/e3PCQDUiHq2gvELQ9Fe25XFqForOmjtZxAICXN2grnNfwxJxr4rhkK1103ov6aB0H\n",
       "AN+pu6J9xhln6K1vfasef/xxXXTRRdq4caP27NmjPXv26Nxzz9WZZ55Zvu8dd9why7J0zTXXSJrf\n",
       "K/tXv/qV4vG4EomE7rzzzorfPzg4qIsvvrjey0SAeSvaMzmnRdy7xVdJyKoM4eyhDQA4nIqKdiSn\n",
       "4fG0knFjyng4r4Lt3KaiDQD+U3fQlqRPf/rTOvHEE/Xwww/r3nvv1VFHHaXrrrtOV1xxhet+d911\n",
       "l0KhUDloP/XUU7IsS9lsVp///Oer/u4NGzYQtFGXlLeinTl8Rbu/O6FI2N3wYbaNS1S0AQCVUrHK\n",
       "1vGRiTnFY2HnWMUe2gRtAPCbhgTtcDisLVu2aMuWLQve75lnnnHdvv7663X99dc34hKAmirWaBt7\n",
       "aQ/0VN9O5XCD0CQq2gCASlVbx8fnFI85H7kixsRxiYo2APhR/ftnAatcIhJX2HL+UzfXaMeiYfV0\n",
       "xioec0T/wlt7SVJ3gqANAHCrNgxtZCKtoTHnS96unqLrPgRtAPAfgjZ8z7IsV/v4TNa9jVe19vE1\n",
       "fZXHJtLeijat4wAAt0QkLsuynAPhXMUwtI7OgusxtI4DgP8QtBEIZvv4tDdoVxmI5p04Lrkr2rFw\n",
       "VIlIvIFXCADwA8uy1BFxliVZkbxGxtMaNoJ2tCNX/jkejikZrb6MCQDQvhqyRhtY7dxBe8Z1rlpF\n",
       "e23V1nGnos36bABALR3RpGZyh4J1OK/x6YzMIncompEODR3vTfa4K+AAAF+goo1A6FygdbzaQLS1\n",
       "VVrHzYo2beMAgFo6jPccKzxfvbZt53wh7FS3+1mfDQC+RNBGIJhrtL0V7TVV12gfrqJN0AYAVOca\n",
       "iBbOV5zP2M77UC/rswHAlwjaCISF1mgPeIJ2b2dc8WhYXu6KNq3jAIDqOow111ZF0LY1k3feT5g4\n",
       "DgD+RNBGIJit43P5tPJFZ+Krt6K9tr+ywm3bNq3jAIBFcVW0Izn3yXBeuaJzjInjAOBPBG0EglnR\n",
       "lqRZo6rtXaNdrW08k88oV3A+GLGHNgCgFjNoeyvaHV2erb2oaAOALxG0EQjmGm3JvU47GgnrJUc4\n",
       "wfmEdZUfesxqtkRFGwBQWyrmXaPtTELr7bVd9yVoA4A/EbQRCN6Ktned9vsveJVOOKZHZ7zqKG16\n",
       "3UsrHk/QBgAslquibUkKOVXsVDcVbQAIAvbRRiB0LlDRlqSTTlyj2/72DTUfb04clxiGBgCozbVG\n",
       "W5qvahfnP3LFOvJS0TnFGm0A8Ccq2giEyqA9W+Oe1VHRBgAsljdoW8ZAtHAsU/45Fo5WhnIAgC8Q\n",
       "tBEIla3jMzXuWR0VbQDAYlUEbWMgmh1xgnZfokeWZTXtugAAzUPQRiBUDkNbfkU7HAorGU0scG8A\n",
       "QJBVbR0/JCvni17WZwOAfxG0EQjecLzkinbaCdo98S4qEACAmjpi3oq20zo+V3Def3oJ2gDgWwRt\n",
       "BEZn1Klqzyy5ou20jrM+GwCwkFoV7ZBlazI7WT7czyA0APAtgjYCw1ynvdTW8QlX0GZ9NgCgtsph\n",
       "aPNBu683okwhWz5ORRsA/IugjcDojDsV7aUPQ3Nax6loAwAWEg/HFLKMj1iHWsd7+9z3Y2svAPAv\n",
       "gjYCI2VUtJfeOk7QBgAsjmVZShlV7dLU8ZccE3Xdj2FoAOBfBG0EhrlGeykV7Ww+q0ze2Y6lO0Hr\n",
       "OABgYWb7+Loj4zr/zBN00svd7x8EbQDwL4I2AqMz7l6jbdv2oh5nVrMlKtoAgMNzB+2ErnjHKzVb\n",
       "dH/JS9AGAP8iaCMwOo29tIt2UXP59KIeZ04clxiGBgA4PHOLr5ncnCRpfG6ifCwaiihldFoBAPyF\n",
       "oI3A8H6gWew6bSraAIClShoV7dlDQXs07QTtvmSPLMtq+nUBAJqDoI3AMFvHpcVv8UXQBgAsVapK\n",
       "0DYr2kwcBwB/I2gjMMx9tKXFD0SjdRwAsFQdVYL2mBm0k71NvyYAQPMQtBEY5hptaSlB26loh6yQ\n",
       "a90dAADVmEE7ncuoaBc1ZrSO9ya7W3FZAIAmIWgjMFKxZa7RTjsV7a54p0IWLxsAwMLMoG3L1tjc\n",
       "hNLGVpH9VLQBwNdIDAiMytbxpa/RZn02AGAxOqIJ1+0XJl903e5NUNEGAD8jaCMw4uGYIqFI+fZy\n",
       "WscJ2gCAxfB2UXmDNhVtAPA3gjYCw7Is1zrt6czSh6ExCA0AsBhm67hEJ4loQwAAGMlJREFURRsA\n",
       "goagjUAxKwzTuaW3jvcQtAEAi1ARtKeoaANAkBC0ESjmOu3FDEPLF/LlbVkkqTtB6zgA4PC8a7T3\n",
       "GxXtaChS0VoOAPAXgjYCZamt42Y1W2KNNgBgcbwV7Yn0ZPnn3mSPLMtq9iUBAJqIoI1AMSvai2kd\n",
       "N9dnS6zRBgAsTscCFeu+RE8TrwQA0AoEbQSKa432IlrHqWgDAJYjFo66drow9SYZhAYAfkfQRqCY\n",
       "Fe1MPqNcIbfg/aloAwCWy7tOu6Q/wSA0APA7gjYCpdPTyne4gWhUtAEAy+Vdp11CRRsA/I+gjUDx\n",
       "Bu3DrdM2K9qWLFdFHACAhdQK2mztBQD+R9BGoHiD8nTmMEE77VS0O+MphUK8ZAAAi5OK1ahoMwwN\n",
       "AHyP1IBAqQja2YW3+DJbx2kbBwAsRbJmRZugDQB+R9BGoFS0jh82aDut4wxCAwAsRe012gRtAPA7\n",
       "gjYCJVXHMDQq2gCApagWtMOhsLqY9wEAvkfQRqCkot6KNkEbALAyqgXtvkSPLMtqwdUAAJqJoI1A\n",
       "CYVCShkffBZqHS8UC67ztI4DAJYiVS1o0zYOAIFA0EbgmAPRFgraU55zVLQBAEtRq6INAPA/gjYC\n",
       "x1ynvdAa7cn0lOt2T4KKNgBg8TqqbO9FRRsAgoGgjcBxV7QXCNrG+myJijYAYGmqVrQJ2gAQCARt\n",
       "BI65xddCreOVQZuKNgBg8WgdB4DgImgjcBbdOp5xt45T0QYALAXD0AAguAjaCBxX63huVkW7WPV+\n",
       "3qDdSdAGACwBreMAEFwEbQSOGbRt29ZcLl31fpNpp3U8FetQJBRe8WsDAPgHreMAEFwEbQSOuUZb\n",
       "qr1O21yjTds4AGCpIuGIouFo+XY4FFZnPLXAIwAAfkHQRuCkPEG71jpts3WcQWgAgOUwq9q9iW6F\n",
       "LD56AUAQ8K89AsdsHZdqb/FFRRsAUC9zIBpt4wAQHARtBM7iW8epaAMA6rM2NVD+eV33kS28EgBA\n",
       "M0VafQFAs3nXx1UL2kW7qCnjOBVtAMByXPjKt2tkdkzRcFTnv/wtrb4cAECTELQROJ1Rb0W7snV8\n",
       "Ojsr27bLtwnaAIDl+OOB47XtvBtbfRkAgCajdRyBE4vEXFNgqwVt7x7atI4DAAAAWCyCNgLJXKdd\n",
       "rXXc3ENbkroTVLQBAAAALA5BG4FkTh6nog0AAACgkQjaCCSzol1tH21zay+JNdoAAAAAFo+gjUBK\n",
       "uSraVVrHCdoAAAAAlomgjUA67Bpto3U8GU24hqcBAAAAwEII2ggkc4uvw7WOsz4bAAAAwFIQtBFI\n",
       "nXGndTxbyCmbz7rOT6adijZt4wAAAACWgqCNQDJbxyVpOueuarsr2gRtAAAAAItH0EYgmdt7SdJ0\n",
       "xr1O21yjTes4AAAAgKUgaCOQUp6K9oxR0bZtW1NUtAEAAAAsE0EbgVRR0TYGos3kZlWwi+XbVLQB\n",
       "AAAALAVBG4FUsUbbaB1nD20AAAAA9SBoI5AWqmhPpj1BO0HQBgAAALB4BG0EUjKakCWrfHsmZ1a0\n",
       "p1z3pXUcAAAAwFIQtBFIISvkGog2nTEq2rSOAwAAAKgDQRuBZa7Tns5S0QYAAADQGARtBJarop2t\n",
       "XtGOh2OKR2JNvS4AAAAA7Y2gjcAyB6LN1AjatI0DAAAAWCqCNgKrVuv4lNE6Tts4AAAAgKUiaCOw\n",
       "zIq2a422sb1Xd4KgDQAAAGBpCNoILHON9mwurWKxKInWcQAAAAD1IWgjsMyKti1bs7k52bbtmjpO\n",
       "0AYAAACwVJFWXwDQKuYabWm+fTwUCilXzJePsUYbAAAAwFIRtBFYZkVbOrTFl2W5jlHRBgAAALBU\n",
       "BG0EVmVFe1ZFu+g6xjA0AAAAAEtF0EZgVVa0Z5Q32sYlKtoAAAAAlo6gjcCqtkY7W8i5jhG0AQAA\n",
       "ACwVQRuBlarSOh4JZVzHGIYGAAAAYKkI2gisaDiqeDimTCErSZrJzsoyhqFFQxElIvFWXR4AAACA\n",
       "NkXQRqB1xlLKzM0H7ensjGzZ5XPd8S5X8AYAAACAxQi1+gKAVjLXaU9nZzSVmS7fZn02AAAAgOWg\n",
       "oo1AS7mC9qzyBWfqeHeCoA0AAABg6QjaCDRzi6+Z7KwyeWcYWheD0AAAAAAsA0EbgeZtHZ/Lpcu3\n",
       "aR0HAAAAsBwEbQRaZ9ypaE9kpmTb5jA0gjYAAACApWMYGgItFXUq2mbIlqQeWscBAAAALANBG4Fm\n",
       "rtH26k4QtAEAAAAsHUEbgdYZ76h5jtZxAAAAAMtB0EagLVjRpnUcAAAAwDIQtBFo5hptLyraAAAA\n",
       "AJaDoI1AM6eOm8KhsDqiySZfDQAAAAA/IGgj0Mx9tE3dsU5ZltXkqwEAAADgBwRtBFoyklDIqnwZ\n",
       "0DYOAAAAYLkI2gg0y7KUqlLV7k4QtAEAAAAsD0EbgVetfbyLieMAAAAAlomgjcCrtsUXreMAAAAA\n",
       "lougjcCrVtFmD20AAAAAy0XQRuClqGgDAAAAaKCGBO1CoaB77rlHmzZt0kknnaRzzjlHd999t/L5\n",
       "/KIePzExoU9+8pN64xvfqJNPPlnvfOc79R//8R+NuDTgsKpXtAnaAAAAAJanIUH7pptu0qc+9Sn1\n",
       "9/dr8+bNOvLII7V9+3Z96EMfOuxj5+bmdPnll+uBBx7QKaecove+972anp7W1q1btWPHjkZcHrCg\n",
       "6mu0aR0HAAAAsDyRen/Bnj179OCDD+q8887TrbfeWj7+sY99TI8++qh27typM888s+bjv/KVr+jp\n",
       "p5/WjTfeqEsuuUSS9IEPfEAXXXSRPvOZz+i8885Tf39/vZcJ1FS1os32XgAAAACWqe6K9o4dO2RZ\n",
       "lq655hrX8a1bt0qSHnrooQUff//992tgYEAXX3xx+VhHR4euuuoqzc3N6Zvf/Ga9lwgsqFpFu4eK\n",
       "NgAAAIBlqjto7969W319fTrhhBNcx9euXavjjz9eTz75ZM3H/v73v9eBAwd02mmnybIs17mNGzdK\n",
       "0oKPBxrBW9EOWSGlqlS5AQAAAGAx6gra2WxWL774oo499tiq59etW6fJyUmNjY1VPf/8889LUtXH\n",
       "Dw4OKh6Pa9++ffVcInBY3lDdFUspZDGQHwAAAMDy1JUmJiYmJEldXdXbbEvHp6enq54fHx9f8PGd\n",
       "nZ2ampqq5xKBw/K2jjNxHAAAAEA96grape27YrFY1fOl45lMpur5XC532MfXeizQKN7W8e4E67MB\n",
       "AAAALF9dQTsej0tyArNXNpuVJCWTyarnE4nEYR9f67FAo6Q8Fe0uKtoAAAAA6lDX9l5dXV0KhUI1\n",
       "27tLx2u1hvf09Lju5zU9Pa3BwcF6LlHr169f8mOefvppXXrppXX9XbSX3w39rwp2UZI0mnxW/931\n",
       "/RZfEQAAAIBGe/rppyVJu3btWnRW3Lt375L/Tl1BOxqN6uijj9b+/furnt+/f7/6+/vV3d1d9fzx\n",
       "xx9fvp/X0NCQMpmMXvrSl9ZzicsyNTWlXbt2Nf3vYnWY0bh+r32tvgwAAAAAbaquoC1Jp556qh57\n",
       "7DE999xzOu6448rHDx48qH379unss8+u+dijjjpKRx99tPbs2VNx7ic/+Ykk6ZRTTqnr+pby7UPp\n",
       "G40jjjjC9b8FwVD6cuX0009v8ZWg2Xjug43nP7h47oON5z/YeP6Dq/Tcv/zlL9cjjzyyYn/Hsm3b\n",
       "rucXPPHEE7r88sv1lre8Rbfddlt5P+yPfvSjeuyxx/S5z31OZ555Zs3H33bbbfrc5z6nG264Qe99\n",
       "73slzbeMX3zxxXrhhRf0n//5n+rr66vnEhetFLSX0xqA9sfzH1w898HG8x9cPPfBxvMfbDz/wdWs\n",
       "577uivYZZ5yht771rXr88cd10UUXaePGjdqzZ4/27Nmjc8891xWy77jjDlmWpWuuuaZ87K/+6q/0\n",
       "+OOP6x/+4R+0a9cuveQlL9G3vvUt7d+/X5/4xCeaFrIBAAAAAGiEuqaOl3z605/Wtddeq/Hxcd17\n",
       "770aGRnRddddp3/+53923e+uu+7S3Xff7TrW2dmp+++/X+9617u0e/dufe1rX1N3d7duueUWvec9\n",
       "72nE5QEAAAAA0DR1V7QlKRwOa8uWLdqyZcuC93vmmWeqHu/v79ff//3fN+JSAAAAAABoqYZUtAEA\n",
       "AAAAwDyCNgAAAAAADUTQBgAAAACggQjaAAAAAAA0EEEbAAAAAIAGImgDAAAAANBAlm3bdqsvAgAA\n",
       "AAAAv6CiDQAAAABAAxG0AQAAAABoIII2AAAAAAANRNAGAAAAAKCBCNoAAAAAADQQQRsAAAAAgAYi\n",
       "aAMAAAAA0EAEbQAAAAAAGoigDQAAAABAAxG0AQAAAABoIII2AAAAAAANRNAGAAAAAKCBCNoAAAAA\n",
       "ADRQpNUXsFoUCgXdd999euihh7R//36tWbNG73znO3XllVcqEuH/Jj+77bbb9LnPfa7quU2bNmnb\n",
       "tm1NviKspAMHDmjTpk269tprddlll1Wcf+SRR/SVr3xF+/btU3d3t8477zxde+216ujoaMHVotEW\n",
       "ev6/8Y1v6IYbbqj6uJNPPllf//rXm3GJaLDh4WFt375d3//+9zU8PKze3l6dccYZuvbaa/WSl7zE\n",
       "dV9e//6y2Oee174/jY+P684779TOnTt18OBBHXPMMbrgggt0+eWXKxwOu+7La99/Fvv8r+TrnwR5\n",
       "yE033aQHH3xQr3nNa3T22Wdrz5492r59u/bu3avbb7+91ZeHFbR3717F43FdeeWVsm3bde5lL3tZ\n",
       "i64KK2F2dlYf/OAHNTMzU/X85z//ed16663asGGDLr30Uv3617/WPffco5/97Ge67777+NKtzR3u\n",
       "+X/mmWdkWZauvPJKRaNR17kjjzyyGZeIBhseHtaf//mf68CBA3rta1+rTZs26Xe/+52++c1v6gc/\n",
       "+IEefPBBHXvssZJ4/fvNUp57Xvv+MzMzo0suuUT79u3TWWedpTe/+c3avXu3PvOZz2j37t367Gc/\n",
       "W74vr33/Wcrzv6Kvfxv27t277fXr19t/8zd/4zr+0Y9+1N6wYYP9ve99r0VXhmY466yz7AsuuKDV\n",
       "l4EVtn//fvuCCy6w169fb2/YsMH+yle+4jr/wgsv2K94xSvsSy65xM7n8+Xjt99+u71hwwb7q1/9\n",
       "arMvGQ10uOfftm37ve99r71x48YWXB1Wyic+8Ql7w4YN9j333OM6/uijj9rr16+3t2zZYtv2/H8f\n",
       "vP79ZbHPvW3z2vejbdu22evXr6947W7dutX12Z73fn9a7PNv2yv7+meNtqQdO3bIsixdc801ruNb\n",
       "t26VJD300EOtuCw0wfT0tP7whz9o/fr1rb4UrKB77rlH73jHO/TrX/9aZ5xxRtX7PPDAAyoUCnr/\n",
       "+9/vaim66qqrlEql9I1vfKNZl4sGW8zzL0m//vWv6WLxme9+97saGBjQ5s2bXcff8Y536Nhjj9UP\n",
       "f/hDSdKDDz7I699nFvvcS7z2/eiFF17Q0UcfrUsuucR1fNOmTbJtWz/96U8l8d7vV4t9/qWVff3T\n",
       "CyFp9+7d6uvr0wknnOA6vnbtWh1//PF68sknW3RlWGl79+6VJIK2z91777065phj9MlPflLPPvus\n",
       "nnjiiYr7PPXUU5Kk008/3XU8Fovp5JNP1o9+9CNNT0+rs7OzKdeMxlnM83/gwAFNTEzwb4GPFItF\n",
       "XXXVVTXbPmOxmHK5nHK5XPl9nte/PyzluR8dHeW170O15uv89re/lSQNDg5KEq99n1rs87/S7/2B\n",
       "D9rZbFYvvviiTj755Krn161bp3379mlsbEx9fX1NvjqstL1798qyLI2Ojup973uffvnLX0qS/uzP\n",
       "/kx/+7d/q5e+9KUtvkI0ws0336zXvva1sixLzz77bNX7PP/88xoYGFAymaw4t27dOknSvn379MpX\n",
       "vnJFrxWNt5jn/5lnnpEk5XI5XX311frv//5vpdNpnXLKKbruuuv06le/upmXjAYIhUK69NJLq577\n",
       "7W9/q2effVbHHnusotGofv/73/P695GlPPe89oNhdHRUjz/+uO68806tW7dO73jHOySJ135A1Hr+\n",
       "V/r1H/jW8YmJCUlSV1dX1fOl49PT0027JjTP3r17Zdu2/uVf/kWdnZ268MILddJJJ+nb3/62Lrzw\n",
       "wvILEO3tda97nSzLWvA+4+Pj6u7urnqu9O/A1NRUw68NK28xz3+pu+WBBx5QNpvVu971Lr3+9a/X\n",
       "T37yE/3FX/yFfvSjHzXjUtEEtm3r5ptvlm3buuiiiyTx+g+Kas89r33/u/322/Xa175WN998s7q6\n",
       "uvTlL3+5/Lrmte9/Cz3/K/36D3xFO5/PS5pvEammdDyTyTTtmtA84XBY69at0z/90z/ptNNOKx//\n",
       "5je/qb/7u7/T9ddfr3/7t39r4RWiWfL5/GH/Hchms828JDSRbdtat26dtm7dqk2bNpWPP/XUU9q8\n",
       "ebM+/vGP6zvf+U7N/0bQPj7xiU/oxz/+sV796leXt3jj9R8M1Z57Xvv+d+yxx+rKK6/Uvn379N3v\n",
       "flfvec979OUvf1kvf/nLee0HwELP/0q//gMftOPxuKT5loFqSi+uai0laH833nhj1eNve9vb9MAD\n",
       "D+ipp57Svn37dPzxxzf3wtB0iUSCfwcC7P3vf7/e//73Vxw/7bTT9Pa3v12PPvqonnzySb3uda9r\n",
       "wdWhEQqFgm644QY9/PDDOu6443TXXXeV1/Dy+ve3hZ57Xvv+d8EFF5R//t73vqctW7boIx/5iP79\n",
       "3/+d134ALPT8r/TrP/Ct411dXQqFQjXbQkrHa7WWw7/+5E/+RJK0f//+Fl8JmqG7u5t/B1AV/xa0\n",
       "v3Q6rS1btujhhx/WS1/6Ut17771as2ZN+Tyvf/863HO/EF77/vOGN7xBZ5xxhv73f/9Xzz//PK/9\n",
       "gDGf/9///vcL3rcRr//AB+1oNKqjjz665v+J+/fvV39/f831G2hfhUJBv/jFL/Tzn/+86vl0Oi3J\n",
       "6XqAvx1//PEaGRmp2iK2f/9+hUIhHXfccS24MjTD//zP/5Qnz3vxb0F7m5yc1GWXXabvf//7esUr\n",
       "XqEdO3boiCOOcN2H178/Lea557XvP4VCQU888YT+67/+q+r5o48+WtL8+mxe+/6z2Od/bGxsxV//\n",
       "gQ/aknTqqadqeHhYzz33nOv4wYMHtW/fvpoTydHeCoWCLrnkEv31X/+1bNuuOL9nzx6Fw2G9/OUv\n",
       "b8HVodlOPfVUFYvFin9ws9msfvazn+nEE09UR0dHi64OK+0DH/iANm/erPHx8Ypzu3fvliSmzrah\n",
       "bDarK6+8Ur/4xS+0ceNG3Xvvverv76+4H69//1nsc89r35+uuuoqffjDH676+e7pp5+WZVk65phj\n",
       "eO371GKf/5V+/RO0JZ1//vmybVu33HKL6wnZtm2bLMvShRde2MKrw0qJxWJ64xvfqMnJSX3hC19w\n",
       "nfvyl7+s3/zmN3r729/O3okB8ba3vU2hUEh33HGH65vtz372s5qZmeHfAZ8777zzVCwWdcstt7iO\n",
       "P/7449q5c6de85rX6I//+I9bdHVYrm3btumnP/2pTjnlFH3xi19UKpWqej9e//6z2Oee177/hMNh\n",
       "velNb9Lo6Ki+9KUvuc597Wtf069+9Su94Q1vUH9/P699H1rK87/Sr3/Lrhb1A2jr1q16/PHH9apX\n",
       "vUobN27Unj17tGfPHp177rm69dZbW315WCEvvPCCLrroIo2MjOiMM87Q+vXr9atf/Uq7du3SiSee\n",
       "qK9+9avq6elp9WWigR5++GF9/OMf1/XXX1+eOluybds2felLX9If/dEf6ayzztJvfvMb7dy5U6ed\n",
       "dpr+9V//VdFotEVXjUap9fxPTU3p4osv1rPPPqtXv/rV+tM//VP97ne/086dO7V27Vrt2LFDxxxz\n",
       "TAuvHEs1PDyss846S/l8Xu985zt11FFHVb3flVdeqVgsxuvfR5by3GcyGV77PnTgwAFddNFFOnDg\n",
       "gF73utfpZS97mZ5++mk98cQTOvbYY7Vjx47yWn1e+/6z2Od/pd/7CdqHFAoFfeELX9DDDz+sAwcO\n",
       "6KijjtL555+vK664gheYzx08eFDbt2/Xzp07NT4+rrVr1+rcc8/Vli1bqGb70MMPP6zrr79eH//4\n",
       "xyuCtjT/bef999+v559/XoODg3rzm9+sq6++mv8WfGKh5396elp33nmnvvWtb2loaEh9fX16wxve\n",
       "oGuvvVaDg4MtumIs13e+8x198IMfPOz9nnzyyfLrm9e/Pyz1uee1708jIyO6/fbb9b3vfU+jo6Na\n",
       "u3at3vKWt+iqq66qKKLw2vefxT7/K/n6J2gDAAAAANBArNEGAAAAAKCBCNoAAAAAADQQQRsAAAAA\n",
       "gAYiaAMAAAAA0EAEbQAAAAAAGoigDQAAAABAAxG0AQAAAABoIII2AAAAAAANRNAGAAAAAKCBCNoA\n",
       "AAAAADQQQRsAAAAAgAYiaAMAAAAA0EAEbQAAAAAAGoigDQAAAABAAxG0AQAAAABoIII2AAAAAAAN\n",
       "RNAGAAAAAKCB/j9h/DQVsIobNgAAAABJRU5ErkJggg==\n",
       "' width=493 height=348/>"
      ],
      "text/plain": [
       "<matplotlib.figure.Figure at 0x7fd9d8354090>"
      ]
     },
     "metadata": {},
     "output_type": "display_data"
    }
   ],
   "source": [
    "plt.plot(dvg)\n",
    "plt.plot(y)"
   ]
  },
  {
   "cell_type": "code",
   "execution_count": 799,
   "metadata": {
    "collapsed": false
   },
   "outputs": [],
   "source": [
    "p['v']=.4"
   ]
  },
  {
   "cell_type": "code",
   "execution_count": 792,
   "metadata": {
    "collapsed": false
   },
   "outputs": [
    {
     "data": {
      "text/plain": [
       "array([ 1.     ,  0.4188 ,  0.518  ,  0.546  ,  0.568  ,  0.59   ,\n",
       "        0.626  ,  0.55302,  0.575  ,  0.591  ,  0.611  ,  0.641  ,\n",
       "        1.     ,  0.3564 ,  0.517  ,  0.546  ,  0.568  ,  0.59   ,\n",
       "        0.624  ,  0.544  ,  0.56972,  0.587  ,  0.606  ,  0.636  ])"
      ]
     },
     "execution_count": 792,
     "metadata": {},
     "output_type": "execute_result"
    }
   ],
   "source": [
    "dvg"
   ]
  },
  {
   "cell_type": "code",
   "execution_count": 772,
   "metadata": {
    "collapsed": false
   },
   "outputs": [
    {
     "data": {
      "text/plain": [
       "0.995"
      ]
     },
     "execution_count": 772,
     "metadata": {},
     "output_type": "execute_result"
    }
   ],
   "source": [
    "m.data[(m.data.ttype=='go') & (m.data.acc==1)].rt.max()\n"
   ]
  },
  {
   "cell_type": "code",
   "execution_count": 786,
   "metadata": {
    "collapsed": false,
    "scrolled": true
   },
   "outputs": [],
   "source": [
    "p['ssv']=-2"
   ]
  },
  {
   "cell_type": "code",
   "execution_count": 734,
   "metadata": {
    "collapsed": false
   },
   "outputs": [],
   "source": [
    "sim = m.opt.simulator\n",
    "p = sim.vectorize_params(p)\n",
    "Pg, Tg = sim.__update_go_process__(p)\n",
    "Ps, Ts = sim.__update_stop_process__(p)\n",
    "ss_onsets = np.where(Ts<Tg[:, None], Tg[:, None]-Ts, 0)\n",
    "ntot = sim.ntot\n",
    "nl = sim.nlevels\n",
    "nss = sim.nss\n",
    "nssd = sim.nssd\n",
    "nss_per = sim.nss_per_ssd\n",
    "ssd_ix = np.arange(nssd)\n",
    "dx = sim.dx\n",
    "\n",
    "\n",
    "DVg = sim.xtb[:, na] * csum(np.where((rs((1, ntot, Tg.max())).T < Pg), dx, -dx).T, axis=2)\n",
    "#dvg_ss = DVg[:, :nss, :].reshape(nl, nssd, nss_per, DVg.shape[-1])"
   ]
  },
  {
   "cell_type": "code",
   "execution_count": 741,
   "metadata": {
    "collapsed": false
   },
   "outputs": [
    {
     "data": {
      "text/plain": [
       "array([[ 0.63025],\n",
       "       [ 0.62258]])"
      ]
     },
     "execution_count": 741,
     "metadata": {},
     "output_type": "execute_result"
    }
   ],
   "source": [
    "sim.ssd"
   ]
  },
  {
   "cell_type": "code",
   "execution_count": 727,
   "metadata": {
    "collapsed": false
   },
   "outputs": [
    {
     "data": {
      "text/plain": [
       "array([[[[-0.00316,  0.     ,  0.00316, ...,  1.81914,  1.81399,  1.82535],\n",
       "         [ 0.00316,  0.00632,  0.00949, ...,  2.29656,  2.30872,  2.32092],\n",
       "         [ 0.00316,  0.00632,  0.00949, ...,  2.11547,  2.11083,  2.12269],\n",
       "         ..., \n",
       "         [-0.00316,  0.     , -0.00316, ...,  2.24717,  2.25925,  2.27136],\n",
       "         [ 0.00316,  0.     ,  0.00316, ...,  2.24717,  2.24276,  2.23832],\n",
       "         [ 0.00316,  0.     ,  0.00316, ...,  2.39534,  2.40767,  2.42003]]],\n",
       "\n",
       "\n",
       "       [[[-0.00316,  0.     ,  0.00316, ...,  1.81914,  1.81399,  1.82535],\n",
       "         [ 0.00316,  0.00632,  0.00949, ...,  2.29656,  2.30872,  2.32092],\n",
       "         [ 0.00316,  0.00632,  0.00949, ...,  2.11547,  2.11083,  2.12269],\n",
       "         ..., \n",
       "         [-0.00316,  0.     , -0.00316, ...,  2.24717,  2.25925,  2.27136],\n",
       "         [ 0.00316,  0.     ,  0.00316, ...,  2.24717,  2.24276,  2.23832],\n",
       "         [ 0.00316,  0.     ,  0.00316, ...,  2.39534,  2.40767,  2.42003]]]])"
      ]
     },
     "execution_count": 727,
     "metadata": {},
     "output_type": "execute_result"
    }
   ],
   "source": [
    "DVg[:, :nss, :].reshape(2, 1, 5000, 875)"
   ]
  },
  {
   "cell_type": "code",
   "execution_count": 723,
   "metadata": {
    "collapsed": false
   },
   "outputs": [
    {
     "ename": "ValueError",
     "evalue": "total size of new array must be unchanged",
     "output_type": "error",
     "traceback": [
      "\u001b[1;31m---------------------------------------------------------------------------\u001b[0m",
      "\u001b[1;31mValueError\u001b[0m                                Traceback (most recent call last)",
      "\u001b[1;32m<ipython-input-723-1c608a43c581>\u001b[0m in \u001b[0;36m<module>\u001b[1;34m()\u001b[0m\n\u001b[1;32m----> 1\u001b[1;33m \u001b[0mDVg\u001b[0m\u001b[1;33m[\u001b[0m\u001b[1;33m:\u001b[0m\u001b[1;33m,\u001b[0m \u001b[1;33m:\u001b[0m\u001b[0mnss\u001b[0m\u001b[1;33m,\u001b[0m \u001b[1;33m:\u001b[0m\u001b[1;33m]\u001b[0m\u001b[1;33m.\u001b[0m\u001b[0mreshape\u001b[0m\u001b[1;33m(\u001b[0m\u001b[0mnl\u001b[0m\u001b[1;33m,\u001b[0m \u001b[0mnssd\u001b[0m\u001b[1;33m,\u001b[0m \u001b[0mnss_per\u001b[0m\u001b[1;33m,\u001b[0m \u001b[0mDVg\u001b[0m\u001b[1;33m.\u001b[0m\u001b[0mshape\u001b[0m\u001b[1;33m[\u001b[0m\u001b[1;33m-\u001b[0m\u001b[1;36m1\u001b[0m\u001b[1;33m]\u001b[0m\u001b[1;33m)\u001b[0m\u001b[1;33m\u001b[0m\u001b[0m\n\u001b[0m",
      "\u001b[1;31mValueError\u001b[0m: total size of new array must be unchanged"
     ]
    }
   ],
   "source": [
    "DVg[:, :nss, :].reshape(nl, nssd, nss_per, DVg.shape[-1])"
   ]
  },
  {
   "cell_type": "code",
   "execution_count": 730,
   "metadata": {
    "collapsed": false
   },
   "outputs": [
    {
     "data": {
      "text/plain": [
       "1"
      ]
     },
     "execution_count": 730,
     "metadata": {},
     "output_type": "execute_result"
    }
   ],
   "source": [
    "nl"
   ]
  },
  {
   "cell_type": "code",
   "execution_count": 729,
   "metadata": {
    "collapsed": false
   },
   "outputs": [
    {
     "data": {
      "text/plain": [
       "5000"
      ]
     },
     "execution_count": 729,
     "metadata": {},
     "output_type": "execute_result"
    }
   ],
   "source": [
    "sim.nss_per_ssd"
   ]
  },
  {
   "cell_type": "code",
   "execution_count": 697,
   "metadata": {
    "collapsed": false
   },
   "outputs": [
    {
     "data": {
      "text/plain": [
       "[array([[ 1.     ,  0.48929,  0.77449,  0.80251,  0.82111,  0.84168,\n",
       "          0.87221,  0.7487 ,  0.78456,  0.80098,  0.81633,  0.83942],\n",
       "        [ 1.     ,  0.48195,  0.77406,  0.80032,  0.81762,  0.83532,\n",
       "          0.862  ,  0.73239,  0.76257,  0.79606,  0.81186,  0.83651]])]"
      ]
     },
     "execution_count": 697,
     "metadata": {},
     "output_type": "execute_result"
    }
   ],
   "source": [
    "m.observed"
   ]
  },
  {
   "cell_type": "code",
   "execution_count": 619,
   "metadata": {
    "collapsed": true
   },
   "outputs": [],
   "source": [
    "fp = m.fitparams\n",
    "sim = m.opt.simulator\n",
    "fp['y'] = m.observed[0]\n",
    "fp['wts'] = m.cond_wts[0]\n",
    "sim.__update__(fitparams = fp)"
   ]
  },
  {
   "cell_type": "code",
   "execution_count": 430,
   "metadata": {
    "collapsed": false
   },
   "outputs": [
    {
     "data": {
      "text/plain": [
       "[array([ 0.501,  0.529,  0.547,  0.568,  0.595]),\n",
       " array([ 0.506,  0.53 ,  0.549,  0.568,  0.595])]"
      ]
     },
     "execution_count": 430,
     "metadata": {},
     "output_type": "execute_result"
    }
   ],
   "source": [
    "sim.ssd = array([ 0.2 ,  0.25,  0.3 ,  0.35,  0.4 ])\n",
    "sim.nssd=5\n",
    "p = sim.vectorize_params(p)\n",
    "Pg, Tg = sim.__update_go_process__(p)\n",
    "Ps, Ts = sim.__update_stop_process__(p)\n",
    "\n",
    "ntot = sim.ntot\n",
    "nss = sim.nss\n",
    "\n",
    "nl = sim.nlevels\n",
    "dx = sim.dx\n",
    "\n",
    "DVg = sim.xtb[:, na] * csum(np.where((rs((nl, ntot, Tg.max())).T < Pg), dx, -dx).T, axis=2)\n",
    "# INITIALIZE DVs FROM DVg(t=SSD)\n",
    "init_ss = array([[DVg[i, :nss, ix] for ix in np.where(Ts < Tg[i], Tg[i] - Ts, 0)] for i in range(nl)])\n",
    "DVs = init_ss[:, :, :, na] + csum(np.where(rs((nss, Ts.max())) < Ps, dx, -dx), axis=1)\n",
    "#if analyze:\n",
    "sim.analyze_fx(DVg, DVs, p)\n",
    "#else:\n",
    "#    return [DVg, DVs]"
   ]
  },
  {
   "cell_type": "code",
   "execution_count": 620,
   "metadata": {
    "collapsed": false
   },
   "outputs": [
    {
     "data": {
      "text/plain": [
       "array([[ 0.63025],\n",
       "       [ 0.62258]])"
      ]
     },
     "execution_count": 620,
     "metadata": {},
     "output_type": "execute_result"
    }
   ],
   "source": [
    "sim.ssd"
   ]
  },
  {
   "cell_type": "code",
   "execution_count": 556,
   "metadata": {
    "collapsed": true
   },
   "outputs": [],
   "source": [
    "fp = m.fitparams\n",
    "sim = m.opt.simulator\n",
    "fp['y'] = m.observed[0]\n",
    "fp['wts'] = m.cond_wts[0]\n",
    "sim.__update__(fitparams = fp)"
   ]
  },
  {
   "cell_type": "code",
   "execution_count": 621,
   "metadata": {
    "collapsed": false
   },
   "outputs": [],
   "source": [
    "p = sim.vectorize_params(p)\n",
    "Pg, Tg = sim.__update_go_process__(p)\n",
    "Ps, Ts = sim.__update_stop_process__(p)\n",
    "\n",
    "ntot = sim.ntot\n",
    "nl = sim.nlevels\n",
    "nss = sim.nss\n",
    "nssd = sim.nssd\n",
    "nss_per = sim.nss_per_ssd\n",
    "ssd_ix = np.arange(nssd)\n",
    "dx = sim.dx\n",
    "\n",
    "dvg = sim.xtb[:, na] * csum(np.where((rs((nl, ntot, Tg.max())).T < Pg), dx, -dx).T, axis=2)\n",
    "dvg_ss = dvg[:, :nss, :].reshape(nl, nssd, nss_per, dvg.shape[-1])\n",
    "init_indx = np.where(Ts<Tg[:, None], Tg[:, None]-Ts, 0)\n",
    "init_ss = np.array([dvg_ss[i, ssd_ix, :, ix] for i, ix in enumerate(init_indx)])\n",
    "dvs = init_ss[:,:,:,na] + csum(np.where(rs((nl, nssd, nss_per, Ts.max())) < Ps, dx, -dx), axis=3)"
   ]
  },
  {
   "cell_type": "code",
   "execution_count": 475,
   "metadata": {
    "collapsed": true
   },
   "outputs": [],
   "source": [
    "goRT = lambda ontime, rbool: ontime[:, na] + (rbool*np.where(rbool==0, np.nan, 1))\n",
    "ssRT = lambda ontime, rbool: ontime[:, :, na] + (rbool*np.where(rbool==0, np.nan, 1))\n",
    "resp = lambda trace, upper: np.argmax((trace.T >= upper).T, axis=2) * sim.dt\n",
    "ss_resp = lambda trace, x: np.argmax((trace.T <= 0).T, axis=3) * sim.dt"
   ]
  },
  {
   "cell_type": "code",
   "execution_count": 622,
   "metadata": {
    "collapsed": false
   },
   "outputs": [],
   "source": [
    "gdec = resp(dvg, p['a'])\n",
    "sdec = ss_resp(dvs, p['a'])\n",
    "\n",
    "ssrt = ssRT(sim.ssd, sdec)\n",
    "#ssrt = ssrt.reshape(nl, nss)\n",
    "gort = goRT(p['tr'], gdec)\n",
    "ert = gort[:, :nss].reshape(nl, nssd, nss_per)\n",
    "#ert = np.tile(gort[:, :nss], nssd).reshape(nl, nssd, nss_per)\n",
    "#ert = gort[:, :nss].reshape(nl, nssd, nss_per)\n",
    "eq = sim.RTQ(zip(ert, ssrt))\n",
    "gq = sim.RTQ(zip(gort, [sim.tb] * nl))\n",
    "gacc = np.nanmean(np.where(gort < sim.tb, 1, 0), axis=1)\n",
    "sacc = np.where(ert < ssrt, 0, 1).mean(axis=2)"
   ]
  },
  {
   "cell_type": "code",
   "execution_count": 629,
   "metadata": {
    "collapsed": false
   },
   "outputs": [
    {
     "data": {
      "text/html": [
       "<div>\n",
       "<table border=\"1\" class=\"dataframe\">\n",
       "  <thead>\n",
       "    <tr style=\"text-align: right;\">\n",
       "      <th></th>\n",
       "      <th></th>\n",
       "      <th></th>\n",
       "      <th>GoTrial</th>\n",
       "      <th>StopSignal</th>\n",
       "      <th>choice</th>\n",
       "      <th>response</th>\n",
       "      <th>acc</th>\n",
       "      <th>rt</th>\n",
       "      <th>ssd</th>\n",
       "    </tr>\n",
       "    <tr>\n",
       "      <th>idx</th>\n",
       "      <th>Cond</th>\n",
       "      <th>ttype</th>\n",
       "      <th></th>\n",
       "      <th></th>\n",
       "      <th></th>\n",
       "      <th></th>\n",
       "      <th></th>\n",
       "      <th></th>\n",
       "      <th></th>\n",
       "    </tr>\n",
       "  </thead>\n",
       "  <tbody>\n",
       "    <tr>\n",
       "      <th rowspan=\"4\" valign=\"top\">1</th>\n",
       "      <th rowspan=\"2\" valign=\"top\">pro</th>\n",
       "      <th>go</th>\n",
       "      <td>120</td>\n",
       "      <td>120</td>\n",
       "      <td>120</td>\n",
       "      <td>120</td>\n",
       "      <td>120</td>\n",
       "      <td>120</td>\n",
       "      <td>120</td>\n",
       "    </tr>\n",
       "    <tr>\n",
       "      <th>stop</th>\n",
       "      <td>80</td>\n",
       "      <td>80</td>\n",
       "      <td>80</td>\n",
       "      <td>80</td>\n",
       "      <td>80</td>\n",
       "      <td>80</td>\n",
       "      <td>80</td>\n",
       "    </tr>\n",
       "    <tr>\n",
       "      <th rowspan=\"2\" valign=\"top\">reac</th>\n",
       "      <th>go</th>\n",
       "      <td>244</td>\n",
       "      <td>244</td>\n",
       "      <td>244</td>\n",
       "      <td>244</td>\n",
       "      <td>244</td>\n",
       "      <td>244</td>\n",
       "      <td>244</td>\n",
       "    </tr>\n",
       "    <tr>\n",
       "      <th>stop</th>\n",
       "      <td>62</td>\n",
       "      <td>62</td>\n",
       "      <td>62</td>\n",
       "      <td>62</td>\n",
       "      <td>62</td>\n",
       "      <td>62</td>\n",
       "      <td>62</td>\n",
       "    </tr>\n",
       "    <tr>\n",
       "      <th rowspan=\"4\" valign=\"top\">2</th>\n",
       "      <th rowspan=\"2\" valign=\"top\">pro</th>\n",
       "      <th>go</th>\n",
       "      <td>240</td>\n",
       "      <td>240</td>\n",
       "      <td>240</td>\n",
       "      <td>240</td>\n",
       "      <td>240</td>\n",
       "      <td>240</td>\n",
       "      <td>240</td>\n",
       "    </tr>\n",
       "    <tr>\n",
       "      <th>stop</th>\n",
       "      <td>160</td>\n",
       "      <td>160</td>\n",
       "      <td>160</td>\n",
       "      <td>160</td>\n",
       "      <td>160</td>\n",
       "      <td>160</td>\n",
       "      <td>160</td>\n",
       "    </tr>\n",
       "    <tr>\n",
       "      <th rowspan=\"2\" valign=\"top\">reac</th>\n",
       "      <th>go</th>\n",
       "      <td>488</td>\n",
       "      <td>488</td>\n",
       "      <td>488</td>\n",
       "      <td>488</td>\n",
       "      <td>488</td>\n",
       "      <td>488</td>\n",
       "      <td>488</td>\n",
       "    </tr>\n",
       "    <tr>\n",
       "      <th>stop</th>\n",
       "      <td>124</td>\n",
       "      <td>124</td>\n",
       "      <td>124</td>\n",
       "      <td>124</td>\n",
       "      <td>124</td>\n",
       "      <td>124</td>\n",
       "      <td>124</td>\n",
       "    </tr>\n",
       "    <tr>\n",
       "      <th rowspan=\"4\" valign=\"top\">3</th>\n",
       "      <th rowspan=\"2\" valign=\"top\">pro</th>\n",
       "      <th>go</th>\n",
       "      <td>114</td>\n",
       "      <td>114</td>\n",
       "      <td>114</td>\n",
       "      <td>114</td>\n",
       "      <td>114</td>\n",
       "      <td>114</td>\n",
       "      <td>114</td>\n",
       "    </tr>\n",
       "    <tr>\n",
       "      <th>stop</th>\n",
       "      <td>80</td>\n",
       "      <td>80</td>\n",
       "      <td>80</td>\n",
       "      <td>80</td>\n",
       "      <td>80</td>\n",
       "      <td>80</td>\n",
       "      <td>80</td>\n",
       "    </tr>\n",
       "    <tr>\n",
       "      <th rowspan=\"2\" valign=\"top\">reac</th>\n",
       "      <th>go</th>\n",
       "      <td>237</td>\n",
       "      <td>237</td>\n",
       "      <td>237</td>\n",
       "      <td>237</td>\n",
       "      <td>237</td>\n",
       "      <td>237</td>\n",
       "      <td>237</td>\n",
       "    </tr>\n",
       "    <tr>\n",
       "      <th>stop</th>\n",
       "      <td>62</td>\n",
       "      <td>62</td>\n",
       "      <td>62</td>\n",
       "      <td>62</td>\n",
       "      <td>62</td>\n",
       "      <td>62</td>\n",
       "      <td>62</td>\n",
       "    </tr>\n",
       "    <tr>\n",
       "      <th rowspan=\"3\" valign=\"top\">4</th>\n",
       "      <th rowspan=\"2\" valign=\"top\">pro</th>\n",
       "      <th>go</th>\n",
       "      <td>120</td>\n",
       "      <td>120</td>\n",
       "      <td>120</td>\n",
       "      <td>120</td>\n",
       "      <td>120</td>\n",
       "      <td>120</td>\n",
       "      <td>120</td>\n",
       "    </tr>\n",
       "    <tr>\n",
       "      <th>stop</th>\n",
       "      <td>80</td>\n",
       "      <td>80</td>\n",
       "      <td>80</td>\n",
       "      <td>80</td>\n",
       "      <td>80</td>\n",
       "      <td>80</td>\n",
       "      <td>80</td>\n",
       "    </tr>\n",
       "    <tr>\n",
       "      <th>reac</th>\n",
       "      <th>go</th>\n",
       "      <td>244</td>\n",
       "      <td>244</td>\n",
       "      <td>244</td>\n",
       "      <td>244</td>\n",
       "      <td>244</td>\n",
       "      <td>244</td>\n",
       "      <td>244</td>\n",
       "    </tr>\n",
       "    <tr>\n",
       "      <th>...</th>\n",
       "      <th>...</th>\n",
       "      <th>...</th>\n",
       "      <td>...</td>\n",
       "      <td>...</td>\n",
       "      <td>...</td>\n",
       "      <td>...</td>\n",
       "      <td>...</td>\n",
       "      <td>...</td>\n",
       "      <td>...</td>\n",
       "    </tr>\n",
       "    <tr>\n",
       "      <th rowspan=\"3\" valign=\"top\">39</th>\n",
       "      <th>pro</th>\n",
       "      <th>stop</th>\n",
       "      <td>80</td>\n",
       "      <td>80</td>\n",
       "      <td>80</td>\n",
       "      <td>80</td>\n",
       "      <td>80</td>\n",
       "      <td>80</td>\n",
       "      <td>80</td>\n",
       "    </tr>\n",
       "    <tr>\n",
       "      <th rowspan=\"2\" valign=\"top\">reac</th>\n",
       "      <th>go</th>\n",
       "      <td>243</td>\n",
       "      <td>243</td>\n",
       "      <td>243</td>\n",
       "      <td>243</td>\n",
       "      <td>243</td>\n",
       "      <td>243</td>\n",
       "      <td>243</td>\n",
       "    </tr>\n",
       "    <tr>\n",
       "      <th>stop</th>\n",
       "      <td>62</td>\n",
       "      <td>62</td>\n",
       "      <td>62</td>\n",
       "      <td>62</td>\n",
       "      <td>62</td>\n",
       "      <td>62</td>\n",
       "      <td>62</td>\n",
       "    </tr>\n",
       "    <tr>\n",
       "      <th rowspan=\"4\" valign=\"top\">40</th>\n",
       "      <th rowspan=\"2\" valign=\"top\">pro</th>\n",
       "      <th>go</th>\n",
       "      <td>120</td>\n",
       "      <td>120</td>\n",
       "      <td>120</td>\n",
       "      <td>120</td>\n",
       "      <td>120</td>\n",
       "      <td>120</td>\n",
       "      <td>120</td>\n",
       "    </tr>\n",
       "    <tr>\n",
       "      <th>stop</th>\n",
       "      <td>80</td>\n",
       "      <td>80</td>\n",
       "      <td>80</td>\n",
       "      <td>80</td>\n",
       "      <td>80</td>\n",
       "      <td>80</td>\n",
       "      <td>80</td>\n",
       "    </tr>\n",
       "    <tr>\n",
       "      <th rowspan=\"2\" valign=\"top\">reac</th>\n",
       "      <th>go</th>\n",
       "      <td>243</td>\n",
       "      <td>243</td>\n",
       "      <td>243</td>\n",
       "      <td>243</td>\n",
       "      <td>243</td>\n",
       "      <td>243</td>\n",
       "      <td>243</td>\n",
       "    </tr>\n",
       "    <tr>\n",
       "      <th>stop</th>\n",
       "      <td>62</td>\n",
       "      <td>62</td>\n",
       "      <td>62</td>\n",
       "      <td>62</td>\n",
       "      <td>62</td>\n",
       "      <td>62</td>\n",
       "      <td>62</td>\n",
       "    </tr>\n",
       "    <tr>\n",
       "      <th rowspan=\"4\" valign=\"top\">41</th>\n",
       "      <th rowspan=\"2\" valign=\"top\">pro</th>\n",
       "      <th>go</th>\n",
       "      <td>116</td>\n",
       "      <td>116</td>\n",
       "      <td>116</td>\n",
       "      <td>116</td>\n",
       "      <td>116</td>\n",
       "      <td>116</td>\n",
       "      <td>116</td>\n",
       "    </tr>\n",
       "    <tr>\n",
       "      <th>stop</th>\n",
       "      <td>80</td>\n",
       "      <td>80</td>\n",
       "      <td>80</td>\n",
       "      <td>80</td>\n",
       "      <td>80</td>\n",
       "      <td>80</td>\n",
       "      <td>80</td>\n",
       "    </tr>\n",
       "    <tr>\n",
       "      <th rowspan=\"2\" valign=\"top\">reac</th>\n",
       "      <th>go</th>\n",
       "      <td>242</td>\n",
       "      <td>242</td>\n",
       "      <td>242</td>\n",
       "      <td>242</td>\n",
       "      <td>242</td>\n",
       "      <td>242</td>\n",
       "      <td>242</td>\n",
       "    </tr>\n",
       "    <tr>\n",
       "      <th>stop</th>\n",
       "      <td>62</td>\n",
       "      <td>62</td>\n",
       "      <td>62</td>\n",
       "      <td>62</td>\n",
       "      <td>62</td>\n",
       "      <td>62</td>\n",
       "      <td>62</td>\n",
       "    </tr>\n",
       "    <tr>\n",
       "      <th rowspan=\"4\" valign=\"top\">42</th>\n",
       "      <th rowspan=\"2\" valign=\"top\">pro</th>\n",
       "      <th>go</th>\n",
       "      <td>119</td>\n",
       "      <td>119</td>\n",
       "      <td>119</td>\n",
       "      <td>119</td>\n",
       "      <td>119</td>\n",
       "      <td>119</td>\n",
       "      <td>119</td>\n",
       "    </tr>\n",
       "    <tr>\n",
       "      <th>stop</th>\n",
       "      <td>80</td>\n",
       "      <td>80</td>\n",
       "      <td>80</td>\n",
       "      <td>80</td>\n",
       "      <td>80</td>\n",
       "      <td>80</td>\n",
       "      <td>80</td>\n",
       "    </tr>\n",
       "    <tr>\n",
       "      <th rowspan=\"2\" valign=\"top\">reac</th>\n",
       "      <th>go</th>\n",
       "      <td>243</td>\n",
       "      <td>243</td>\n",
       "      <td>243</td>\n",
       "      <td>243</td>\n",
       "      <td>243</td>\n",
       "      <td>243</td>\n",
       "      <td>243</td>\n",
       "    </tr>\n",
       "    <tr>\n",
       "      <th>stop</th>\n",
       "      <td>62</td>\n",
       "      <td>62</td>\n",
       "      <td>62</td>\n",
       "      <td>62</td>\n",
       "      <td>62</td>\n",
       "      <td>62</td>\n",
       "      <td>62</td>\n",
       "    </tr>\n",
       "  </tbody>\n",
       "</table>\n",
       "<p>168 rows × 7 columns</p>\n",
       "</div>"
      ],
      "text/plain": [
       "                GoTrial  StopSignal  choice  response  acc   rt  ssd\n",
       "idx Cond ttype                                                      \n",
       "1   pro  go         120         120     120       120  120  120  120\n",
       "         stop        80          80      80        80   80   80   80\n",
       "    reac go         244         244     244       244  244  244  244\n",
       "         stop        62          62      62        62   62   62   62\n",
       "2   pro  go         240         240     240       240  240  240  240\n",
       "         stop       160         160     160       160  160  160  160\n",
       "    reac go         488         488     488       488  488  488  488\n",
       "         stop       124         124     124       124  124  124  124\n",
       "3   pro  go         114         114     114       114  114  114  114\n",
       "         stop        80          80      80        80   80   80   80\n",
       "    reac go         237         237     237       237  237  237  237\n",
       "         stop        62          62      62        62   62   62   62\n",
       "4   pro  go         120         120     120       120  120  120  120\n",
       "         stop        80          80      80        80   80   80   80\n",
       "    reac go         244         244     244       244  244  244  244\n",
       "...                 ...         ...     ...       ...  ...  ...  ...\n",
       "39  pro  stop        80          80      80        80   80   80   80\n",
       "    reac go         243         243     243       243  243  243  243\n",
       "         stop        62          62      62        62   62   62   62\n",
       "40  pro  go         120         120     120       120  120  120  120\n",
       "         stop        80          80      80        80   80   80   80\n",
       "    reac go         243         243     243       243  243  243  243\n",
       "         stop        62          62      62        62   62   62   62\n",
       "41  pro  go         116         116     116       116  116  116  116\n",
       "         stop        80          80      80        80   80   80   80\n",
       "    reac go         242         242     242       242  242  242  242\n",
       "         stop        62          62      62        62   62   62   62\n",
       "42  pro  go         119         119     119       119  119  119  119\n",
       "         stop        80          80      80        80   80   80   80\n",
       "    reac go         243         243     243       243  243  243  243\n",
       "         stop        62          62      62        62   62   62   62\n",
       "\n",
       "[168 rows x 7 columns]"
      ]
     },
     "execution_count": 629,
     "metadata": {},
     "output_type": "execute_result"
    }
   ],
   "source": [
    "m.data.groupby(m.groups+['ttype']).count()"
   ]
  },
  {
   "cell_type": "code",
   "execution_count": 623,
   "metadata": {
    "collapsed": false
   },
   "outputs": [
    {
     "data": {
      "text/plain": [
       "array([[ 0.63025],\n",
       "       [ 0.62258]])"
      ]
     },
     "execution_count": 623,
     "metadata": {},
     "output_type": "execute_result"
    }
   ],
   "source": [
    "sim.ssd"
   ]
  },
  {
   "cell_type": "code",
   "execution_count": 624,
   "metadata": {
    "collapsed": false
   },
   "outputs": [
    {
     "data": {
      "text/plain": [
       "array([ 1.,  1.])"
      ]
     },
     "execution_count": 624,
     "metadata": {},
     "output_type": "execute_result"
    }
   ],
   "source": [
    "gacc"
   ]
  },
  {
   "cell_type": "code",
   "execution_count": 625,
   "metadata": {
    "collapsed": false
   },
   "outputs": [
    {
     "data": {
      "text/plain": [
       "array([[ 0.9936],\n",
       "       [ 0.9934]])"
      ]
     },
     "execution_count": 625,
     "metadata": {},
     "output_type": "execute_result"
    }
   ],
   "source": [
    "sacc"
   ]
  },
  {
   "cell_type": "code",
   "execution_count": 598,
   "metadata": {
    "collapsed": false
   },
   "outputs": [
    {
     "data": {
      "text/plain": [
       "0.995"
      ]
     },
     "execution_count": 598,
     "metadata": {},
     "output_type": "execute_result"
    }
   ],
   "source": [
    "sim.tb"
   ]
  },
  {
   "cell_type": "code",
   "execution_count": 594,
   "metadata": {
    "collapsed": false
   },
   "outputs": [],
   "source": [
    "sacc = np.where(ert < ssrt, 0, 1).mean(axis=2)"
   ]
  },
  {
   "cell_type": "code",
   "execution_count": 605,
   "metadata": {
    "collapsed": false
   },
   "outputs": [],
   "source": [
    "p['ssv']=-1.9"
   ]
  },
  {
   "cell_type": "code",
   "execution_count": 595,
   "metadata": {
    "collapsed": false
   },
   "outputs": [
    {
     "data": {
      "text/plain": [
       "array([[ 0.9938],\n",
       "       [ 0.9914]])"
      ]
     },
     "execution_count": 595,
     "metadata": {},
     "output_type": "execute_result"
    }
   ],
   "source": [
    "sacc"
   ]
  },
  {
   "cell_type": "code",
   "execution_count": 478,
   "metadata": {
    "collapsed": false
   },
   "outputs": [],
   "source": [
    "p['v'] = np.array([.98, .94])"
   ]
  },
  {
   "cell_type": "code",
   "execution_count": 413,
   "metadata": {
    "collapsed": false
   },
   "outputs": [
    {
     "data": {
      "text/plain": [
       "array([[999,   3,   3, ...,   3,   3,   3],\n",
       "       [  3,   3,   3, ...,   3,   3,   3]])"
      ]
     },
     "execution_count": 413,
     "metadata": {},
     "output_type": "execute_result"
    }
   ],
   "source": [
    "np.where(gdec==0, 999, 3)"
   ]
  },
  {
   "cell_type": "code",
   "execution_count": 376,
   "metadata": {
    "collapsed": false
   },
   "outputs": [],
   "source": [
    "fx = lambda zpd: map((lambda x: x[0][x[0] < x[1]]), zpd)\n"
   ]
  },
  {
   "cell_type": "code",
   "execution_count": 380,
   "metadata": {
    "collapsed": true
   },
   "outputs": [],
   "source": [
    "quant = lambda zpd: map((lambda x: mq(x[0][x[0] < x[1]], sim.percentiles)), zpd)"
   ]
  },
  {
   "cell_type": "code",
   "execution_count": 377,
   "metadata": {
    "collapsed": false
   },
   "outputs": [
    {
     "data": {
      "text/plain": [
       "[array([ 0.518,  0.503,  0.494, ...,  0.6  ,  0.525,  0.597]),\n",
       " array([ 0.489,  0.47 ,  0.578, ...,  0.636,  0.518,  0.563])]"
      ]
     },
     "execution_count": 377,
     "metadata": {},
     "output_type": "execute_result"
    }
   ],
   "source": [
    "fx(zip(ert, ssrt))"
   ]
  },
  {
   "cell_type": "code",
   "execution_count": null,
   "metadata": {
    "collapsed": true
   },
   "outputs": [],
   "source": []
  },
  {
   "cell_type": "code",
   "execution_count": 381,
   "metadata": {
    "collapsed": false
   },
   "outputs": [
    {
     "data": {
      "text/plain": [
       "[array([ 0.51 ,  0.539,  0.561,  0.583,  0.614]),\n",
       " array([ 0.513,  0.541,  0.561,  0.583,  0.612])]"
      ]
     },
     "execution_count": 381,
     "metadata": {},
     "output_type": "execute_result"
    }
   ],
   "source": [
    "quant(zip(ert, ssrt))"
   ]
  },
  {
   "cell_type": "code",
   "execution_count": 148,
   "metadata": {
    "collapsed": false
   },
   "outputs": [
    {
     "data": {
      "text/plain": [
       "(2, 5, 1000, 454)"
      ]
     },
     "execution_count": 148,
     "metadata": {},
     "output_type": "execute_result"
    }
   ],
   "source": [
    "DVs.shape"
   ]
  },
  {
   "cell_type": "code",
   "execution_count": 204,
   "metadata": {
    "collapsed": true
   },
   "outputs": [],
   "source": [
    "dvg, dvs = sim.sim_fx(p, analyze=False)"
   ]
  },
  {
   "cell_type": "code",
   "execution_count": 212,
   "metadata": {
    "collapsed": false
   },
   "outputs": [],
   "source": [
    "RT = lambda ontime, rbool: ontime[:, :, na] + (rbool*np.where(rbool==0, np.nan, 3))\n",
    "ss_resp = lambda trace, x: np.argmax((trace.T <= 0).T, axis=3) * sim.dt\n",
    "#sim.RTQ = lambda zpd: map((lambda x: mq(x[0][x[0] < x[1]], prob)), zpd)"
   ]
  },
  {
   "cell_type": "code",
   "execution_count": 199,
   "metadata": {
    "collapsed": false
   },
   "outputs": [
    {
     "data": {
      "text/plain": [
       "(2, 5, 1000)"
      ]
     },
     "execution_count": 199,
     "metadata": {},
     "output_type": "execute_result"
    }
   ],
   "source": [
    "sdec.shape"
   ]
  },
  {
   "cell_type": "code",
   "execution_count": 225,
   "metadata": {
    "collapsed": false
   },
   "outputs": [
    {
     "data": {
      "text/plain": [
       "0.20000000000000001"
      ]
     },
     "execution_count": 225,
     "metadata": {},
     "output_type": "execute_result"
    }
   ],
   "source": [
    "sim.ssd"
   ]
  },
  {
   "cell_type": "code",
   "execution_count": 233,
   "metadata": {
    "collapsed": true
   },
   "outputs": [],
   "source": [
    "sim.ssd = sim.ssd[0]"
   ]
  },
  {
   "cell_type": "code",
   "execution_count": 256,
   "metadata": {
    "collapsed": false
   },
   "outputs": [
    {
     "data": {
      "text/plain": [
       "array([ 0.2 ,  0.25,  0.3 ,  0.35,  0.4 ])"
      ]
     },
     "execution_count": 256,
     "metadata": {},
     "output_type": "execute_result"
    }
   ],
   "source": [
    "sim.ssd"
   ]
  },
  {
   "cell_type": "code",
   "execution_count": 254,
   "metadata": {
    "collapsed": true
   },
   "outputs": [],
   "source": [
    "def simulate_dpm(p, analyze=True):\n",
    "    \"\"\" Simulate the dependent process model (DPM)\n",
    "    ::Arguments::\n",
    "        p (dict):\n",
    "            parameter dictionary. values can be single floats\n",
    "            or vectors where each element is the value of that\n",
    "            parameter for a given condition\n",
    "        analyze (bool <True>):\n",
    "            if True (default) return rt and accuracy information\n",
    "            (yhat in cost fx). If False, return Go and Stop proc.\n",
    "    ::Returns::\n",
    "        yhat of cost vector (ndarray)\n",
    "        or Go & Stop processes in list (list of ndarrays)\n",
    "    \"\"\"\n",
    "\n",
    "    p = sim.vectorize_params(p)\n",
    "    Pg, Tg = sim.__update_go_process__(p)\n",
    "    Ps, Ts = sim.__update_stop_process__(p)\n",
    "\n",
    "    ntot = sim.ntot\n",
    "    nl = sim.nlevels\n",
    "    nss = sim.nss\n",
    "    nssd = int(sim.nssd/nl)\n",
    "    nss_per = int(sim.nss/nssd)\n",
    "    dx = sim.dx\n",
    "    ssd_ix = np.arange(nssd)\n",
    "\n",
    "    DVg = sim.xtb[:, na] * csum(np.where((rs((nl, ntot, Tg.max())).T < Pg), dx, -dx).T, axis=2)\n",
    "    # INITIALIZE DVs FROM DVg(t=SSD)\n",
    "    dvg_ss = DVg[:, :nss, :].reshape(nl, nssd, nss_per, DVg.shape[-1])\n",
    "    init_indx = np.where(Ts<Tg[:, None], Tg[:, None]-Ts, 0)\n",
    "    init_ss = np.array([dvg_ss[i, ssd_ix, :, ix] for i, ix in enumerate(init_indx)])\n",
    "    #init_ss = np.array([DVg[i, nss:, ix] for i, ix in enumerate(init_indx)])\n",
    "    DVs = init_ss[:,:,:,na] + csum(np.where(rs((nl, nssd, nss_per, Ts.max())) < Ps, dx, -dx), axis=3)\n",
    "    #DVs = init_ss[:, :, :, na] + csum(np.where(rs((nl, nss, Ts.max())) < Ps, dx, -dx), axis=2)\n",
    "    if analyze:\n",
    "        return sim.analyze_fx(DVg, DVs, p)\n",
    "    else:\n",
    "        return [DVg, DVs]"
   ]
  },
  {
   "cell_type": "code",
   "execution_count": 259,
   "metadata": {
    "collapsed": false
   },
   "outputs": [
    {
     "data": {
      "text/plain": [
       "array([ 0.2 ,  0.25,  0.3 ,  0.35,  0.4 ])"
      ]
     },
     "execution_count": 259,
     "metadata": {},
     "output_type": "execute_result"
    }
   ],
   "source": [
    "sim.ssd"
   ]
  },
  {
   "cell_type": "code",
   "execution_count": 265,
   "metadata": {
    "collapsed": false
   },
   "outputs": [
    {
     "data": {
      "text/plain": [
       "(2, 5000)"
      ]
     },
     "execution_count": 265,
     "metadata": {},
     "output_type": "execute_result"
    }
   ],
   "source": [
    "ert.shape"
   ]
  },
  {
   "cell_type": "code",
   "execution_count": 271,
   "metadata": {
    "collapsed": false
   },
   "outputs": [
    {
     "data": {
      "text/plain": [
       "(2, 5, 1000)"
      ]
     },
     "execution_count": 271,
     "metadata": {},
     "output_type": "execute_result"
    }
   ],
   "source": [
    "ert.shape"
   ]
  },
  {
   "cell_type": "code",
   "execution_count": 270,
   "metadata": {
    "collapsed": false
   },
   "outputs": [],
   "source": [
    "ert = gort[:, :nss].reshape(nl, nssd, nss_per)"
   ]
  },
  {
   "cell_type": "code",
   "execution_count": 280,
   "metadata": {
    "collapsed": false
   },
   "outputs": [],
   "source": [
    "m = build.Model(data=re, inits=popt_flat, kind='xdpm', fit_on='average', depends_on={'v':'Cond'})\n",
    "fp = m.fitparams\n",
    "sim = m.opt.simulator\n",
    "fp['y'] = m.observed[0]\n",
    "fp['wts'] = m.cond_wts[0]\n",
    "sim.__update__(fitparams = fp)\n",
    "\n",
    "p = dict(deepcopy(popt_flat))\n",
    "p = sim.vectorize_params(p)\n",
    "\n",
    "dvg, dvs = simulate_dpm(p, analyze=False)\n",
    "gdec = sim.go_resp(dvg, p['a'])\n",
    "\n",
    "sdec = ss_resp(dvs, p['a'])\n",
    "ssrt = RT(sim.ssd, sdec)\n",
    "gort = sim.RT(p['tr'], gdec)\n",
    "ert = gort[:, :nss].reshape(nl, nssd, nss_per)\n",
    "#ert = np.tile(gort[:, :nss], nssd).reshape(nl, nssd, nss)\n",
    "#ert = gort[:, :nss].reshape(nl, nssd, nss_per)\n",
    "eq = sim.RTQ(zip(ert, ssrt))\n"
   ]
  },
  {
   "cell_type": "code",
   "execution_count": 281,
   "metadata": {
    "collapsed": false
   },
   "outputs": [
    {
     "data": {
      "text/plain": [
       "[array([ 0.513,  0.539,  0.559,  0.582,  0.612]),\n",
       " array([ 0.51 ,  0.541,  0.559,  0.582,  0.611])]"
      ]
     },
     "execution_count": 281,
     "metadata": {},
     "output_type": "execute_result"
    }
   ],
   "source": [
    "eq"
   ]
  },
  {
   "cell_type": "code",
   "execution_count": 274,
   "metadata": {
    "collapsed": false
   },
   "outputs": [
    {
     "data": {
      "text/plain": [
       "(2, 5, 1000)"
      ]
     },
     "execution_count": 274,
     "metadata": {},
     "output_type": "execute_result"
    }
   ],
   "source": [
    "ssrt.shape"
   ]
  },
  {
   "cell_type": "code",
   "execution_count": 213,
   "metadata": {
    "collapsed": false
   },
   "outputs": [],
   "source": [
    "sdec = ss_resp(dvs, p['a'])\n",
    "ssrt = RT(sim.ssd, sdec)"
   ]
  },
  {
   "cell_type": "code",
   "execution_count": 217,
   "metadata": {
    "collapsed": false
   },
   "outputs": [
    {
     "data": {
      "text/plain": [
       "(2, 5, 1000)"
      ]
     },
     "execution_count": 217,
     "metadata": {},
     "output_type": "execute_result"
    }
   ],
   "source": [
    "sdec.shape"
   ]
  },
  {
   "cell_type": "code",
   "execution_count": 192,
   "metadata": {
    "collapsed": false
   },
   "outputs": [
    {
     "data": {
      "text/plain": [
       "array([[ 0.2 ,  0.25,  0.3 ,  0.35,  0.4 ],\n",
       "       [ 0.2 ,  0.25,  0.3 ,  0.35,  0.4 ]])"
      ]
     },
     "execution_count": 192,
     "metadata": {},
     "output_type": "execute_result"
    }
   ],
   "source": [
    "sim.ssd#[:, na]"
   ]
  },
  {
   "cell_type": "code",
   "execution_count": 190,
   "metadata": {
    "collapsed": false
   },
   "outputs": [
    {
     "data": {
      "text/plain": [
       "array([[ 0.12],\n",
       "       [ 0.12]], dtype=float32)"
      ]
     },
     "execution_count": 190,
     "metadata": {},
     "output_type": "execute_result"
    }
   ],
   "source": [
    "p['tr'][:, na]"
   ]
  },
  {
   "cell_type": "code",
   "execution_count": 188,
   "metadata": {
    "collapsed": false
   },
   "outputs": [
    {
     "data": {
      "text/plain": [
       "array([[[ 0.2 ,  0.25,  0.3 ,  0.35,  0.4 ]],\n",
       "\n",
       "       [[ 0.2 ,  0.25,  0.3 ,  0.35,  0.4 ]]])"
      ]
     },
     "execution_count": 188,
     "metadata": {},
     "output_type": "execute_result"
    }
   ],
   "source": [
    "sim.ssd[:, na]"
   ]
  },
  {
   "cell_type": "code",
   "execution_count": 163,
   "metadata": {
    "collapsed": false
   },
   "outputs": [
    {
     "data": {
      "text/plain": [
       "(2, 5, 1000, 454)"
      ]
     },
     "execution_count": 163,
     "metadata": {},
     "output_type": "execute_result"
    }
   ],
   "source": [
    "dvs.shape"
   ]
  },
  {
   "cell_type": "code",
   "execution_count": 164,
   "metadata": {
    "collapsed": true
   },
   "outputs": [],
   "source": [
    "sdec = sim.ss_resp(DVs, p['a'])"
   ]
  },
  {
   "cell_type": "code",
   "execution_count": 168,
   "metadata": {
    "collapsed": false
   },
   "outputs": [
    {
     "data": {
      "text/plain": [
       "(2, 10000)"
      ]
     },
     "execution_count": 168,
     "metadata": {},
     "output_type": "execute_result"
    }
   ],
   "source": [
    "sdec.shape\n",
    "gdec = sim.go_resp(DVg, p['a'])\n",
    "gdec.shape"
   ]
  },
  {
   "cell_type": "code",
   "execution_count": null,
   "metadata": {
    "collapsed": true
   },
   "outputs": [],
   "source": [
    "sim.ss"
   ]
  },
  {
   "cell_type": "code",
   "execution_count": 171,
   "metadata": {
    "collapsed": true
   },
   "outputs": [],
   "source": [
    "\n",
    "ss_resp_lo = lambda trace, x: np.argmax((trace.T <= 0).T, axis=3) * sim.dt"
   ]
  },
  {
   "cell_type": "code",
   "execution_count": 181,
   "metadata": {
    "collapsed": false
   },
   "outputs": [],
   "source": [
    "x = np.argmax((dvs.T <= 0).T, axis=3)"
   ]
  },
  {
   "cell_type": "code",
   "execution_count": 182,
   "metadata": {
    "collapsed": false
   },
   "outputs": [
    {
     "data": {
      "text/plain": [
       "(2, 5, 1000)"
      ]
     },
     "execution_count": 182,
     "metadata": {},
     "output_type": "execute_result"
    }
   ],
   "source": [
    "x[]"
   ]
  },
  {
   "cell_type": "code",
   "execution_count": 172,
   "metadata": {
    "collapsed": false
   },
   "outputs": [],
   "source": [
    "sdec = ss_resp_lo(dvs, p['a'])"
   ]
  },
  {
   "cell_type": "code",
   "execution_count": 185,
   "metadata": {
    "collapsed": false
   },
   "outputs": [
    {
     "data": {
      "text/plain": [
       "0.00081370834452501595"
      ]
     },
     "execution_count": 185,
     "metadata": {},
     "output_type": "execute_result"
    }
   ],
   "source": [
    "dvs[0, 0, 0, 78]"
   ]
  },
  {
   "cell_type": "code",
   "execution_count": 174,
   "metadata": {
    "collapsed": false
   },
   "outputs": [
    {
     "data": {
      "text/plain": [
       "(2, 5, 1000, 454)"
      ]
     },
     "execution_count": 174,
     "metadata": {},
     "output_type": "execute_result"
    }
   ],
   "source": [
    "dvs.shape"
   ]
  },
  {
   "cell_type": "code",
   "execution_count": 218,
   "metadata": {
    "collapsed": false
   },
   "outputs": [
    {
     "ename": "ValueError",
     "evalue": "operands could not be broadcast together with shapes (10,5000) (5,1000) ",
     "output_type": "error",
     "traceback": [
      "\u001b[1;31m---------------------------------------------------------------------------\u001b[0m",
      "\u001b[1;31mValueError\u001b[0m                                Traceback (most recent call last)",
      "\u001b[1;32m<ipython-input-218-701c088b3c1f>\u001b[0m in \u001b[0;36m<module>\u001b[1;34m()\u001b[0m\n\u001b[1;32m----> 1\u001b[1;33m \u001b[0manalyze_reactive\u001b[0m\u001b[1;33m(\u001b[0m\u001b[0mdvg\u001b[0m\u001b[1;33m,\u001b[0m \u001b[0mdvs\u001b[0m\u001b[1;33m,\u001b[0m \u001b[0mp\u001b[0m\u001b[1;33m)\u001b[0m\u001b[1;33m\u001b[0m\u001b[0m\n\u001b[0m",
      "\u001b[1;32m<ipython-input-160-f0004dd9d17d>\u001b[0m in \u001b[0;36manalyze_reactive\u001b[1;34m(DVg, DVs, p)\u001b[0m\n\u001b[0;32m     17\u001b[0m     \u001b[0mert\u001b[0m \u001b[1;33m=\u001b[0m \u001b[0mnp\u001b[0m\u001b[1;33m.\u001b[0m\u001b[0mtile\u001b[0m\u001b[1;33m(\u001b[0m\u001b[0mgort\u001b[0m\u001b[1;33m[\u001b[0m\u001b[1;33m:\u001b[0m\u001b[1;33m,\u001b[0m \u001b[1;33m:\u001b[0m\u001b[0mnss\u001b[0m\u001b[1;33m]\u001b[0m\u001b[1;33m,\u001b[0m \u001b[0mnssd\u001b[0m\u001b[1;33m)\u001b[0m\u001b[1;33m.\u001b[0m\u001b[0mreshape\u001b[0m\u001b[1;33m(\u001b[0m\u001b[0mnl\u001b[0m\u001b[1;33m,\u001b[0m \u001b[0mnssd\u001b[0m\u001b[1;33m,\u001b[0m \u001b[0mnss\u001b[0m\u001b[1;33m)\u001b[0m\u001b[1;33m\u001b[0m\u001b[0m\n\u001b[0;32m     18\u001b[0m \u001b[1;33m\u001b[0m\u001b[0m\n\u001b[1;32m---> 19\u001b[1;33m     \u001b[0meq\u001b[0m \u001b[1;33m=\u001b[0m \u001b[0msim\u001b[0m\u001b[1;33m.\u001b[0m\u001b[0mRTQ\u001b[0m\u001b[1;33m(\u001b[0m\u001b[0mzip\u001b[0m\u001b[1;33m(\u001b[0m\u001b[0mert\u001b[0m\u001b[1;33m,\u001b[0m \u001b[0mssrt\u001b[0m\u001b[1;33m)\u001b[0m\u001b[1;33m)\u001b[0m\u001b[1;33m\u001b[0m\u001b[0m\n\u001b[0m\u001b[0;32m     20\u001b[0m     \u001b[0mgq\u001b[0m \u001b[1;33m=\u001b[0m \u001b[0msim\u001b[0m\u001b[1;33m.\u001b[0m\u001b[0mRTQ\u001b[0m\u001b[1;33m(\u001b[0m\u001b[0mzip\u001b[0m\u001b[1;33m(\u001b[0m\u001b[0mgort\u001b[0m\u001b[1;33m,\u001b[0m \u001b[1;33m[\u001b[0m\u001b[0mtb\u001b[0m\u001b[1;33m]\u001b[0m \u001b[1;33m*\u001b[0m \u001b[0mnl\u001b[0m\u001b[1;33m)\u001b[0m\u001b[1;33m)\u001b[0m\u001b[1;33m\u001b[0m\u001b[0m\n\u001b[0;32m     21\u001b[0m     \u001b[0mgacc\u001b[0m \u001b[1;33m=\u001b[0m \u001b[0mnp\u001b[0m\u001b[1;33m.\u001b[0m\u001b[0mnanmean\u001b[0m\u001b[1;33m(\u001b[0m\u001b[0mnp\u001b[0m\u001b[1;33m.\u001b[0m\u001b[0mwhere\u001b[0m\u001b[1;33m(\u001b[0m\u001b[0mgort\u001b[0m \u001b[1;33m<\u001b[0m \u001b[0mtb\u001b[0m\u001b[1;33m,\u001b[0m \u001b[1;36m1\u001b[0m\u001b[1;33m,\u001b[0m \u001b[1;36m0\u001b[0m\u001b[1;33m)\u001b[0m\u001b[1;33m,\u001b[0m \u001b[0maxis\u001b[0m\u001b[1;33m=\u001b[0m\u001b[1;36m1\u001b[0m\u001b[1;33m)\u001b[0m\u001b[1;33m\u001b[0m\u001b[0m\n",
      "\u001b[1;32m/home/kyle/Dropbox/Git/radd/radd/models.py\u001b[0m in \u001b[0;36m<lambda>\u001b[1;34m(zpd)\u001b[0m\n\u001b[0;32m    121\u001b[0m         \u001b[0mself\u001b[0m\u001b[1;33m.\u001b[0m\u001b[0mss_resp_lo\u001b[0m \u001b[1;33m=\u001b[0m \u001b[1;32mlambda\u001b[0m \u001b[0mtrace\u001b[0m\u001b[1;33m,\u001b[0m \u001b[0mx\u001b[0m\u001b[1;33m:\u001b[0m \u001b[0mnp\u001b[0m\u001b[1;33m.\u001b[0m\u001b[0margmax\u001b[0m\u001b[1;33m(\u001b[0m\u001b[1;33m(\u001b[0m\u001b[0mtrace\u001b[0m\u001b[1;33m.\u001b[0m\u001b[0mT\u001b[0m \u001b[1;33m<=\u001b[0m \u001b[1;36m0\u001b[0m\u001b[1;33m)\u001b[0m\u001b[1;33m.\u001b[0m\u001b[0mT\u001b[0m\u001b[1;33m,\u001b[0m \u001b[0maxis\u001b[0m\u001b[1;33m=\u001b[0m\u001b[0mss_axis\u001b[0m\u001b[1;33m)\u001b[0m \u001b[1;33m*\u001b[0m \u001b[0mdt\u001b[0m\u001b[1;33m\u001b[0m\u001b[0m\n\u001b[0;32m    122\u001b[0m         \u001b[0mself\u001b[0m\u001b[1;33m.\u001b[0m\u001b[0mRT\u001b[0m \u001b[1;33m=\u001b[0m \u001b[1;32mlambda\u001b[0m \u001b[0montime\u001b[0m\u001b[1;33m,\u001b[0m \u001b[0mrbool\u001b[0m\u001b[1;33m:\u001b[0m \u001b[0montime\u001b[0m\u001b[1;33m[\u001b[0m\u001b[1;33m:\u001b[0m\u001b[1;33m,\u001b[0m \u001b[0mna\u001b[0m\u001b[1;33m]\u001b[0m \u001b[1;33m+\u001b[0m \u001b[1;33m(\u001b[0m\u001b[0mrbool\u001b[0m\u001b[1;33m*\u001b[0m\u001b[0mnp\u001b[0m\u001b[1;33m.\u001b[0m\u001b[0mwhere\u001b[0m\u001b[1;33m(\u001b[0m\u001b[0mrbool\u001b[0m\u001b[1;33m==\u001b[0m\u001b[1;36m0\u001b[0m\u001b[1;33m,\u001b[0m \u001b[0mnp\u001b[0m\u001b[1;33m.\u001b[0m\u001b[0mnan\u001b[0m\u001b[1;33m,\u001b[0m \u001b[0mrt_axis\u001b[0m\u001b[1;33m)\u001b[0m\u001b[1;33m)\u001b[0m\u001b[1;33m\u001b[0m\u001b[0m\n\u001b[1;32m--> 123\u001b[1;33m         \u001b[0mself\u001b[0m\u001b[1;33m.\u001b[0m\u001b[0mRTQ\u001b[0m \u001b[1;33m=\u001b[0m \u001b[1;32mlambda\u001b[0m \u001b[0mzpd\u001b[0m\u001b[1;33m:\u001b[0m \u001b[0mmap\u001b[0m\u001b[1;33m(\u001b[0m\u001b[1;33m(\u001b[0m\u001b[1;32mlambda\u001b[0m \u001b[0mx\u001b[0m\u001b[1;33m:\u001b[0m \u001b[0mmq\u001b[0m\u001b[1;33m(\u001b[0m\u001b[0mx\u001b[0m\u001b[1;33m[\u001b[0m\u001b[1;36m0\u001b[0m\u001b[1;33m]\u001b[0m\u001b[1;33m[\u001b[0m\u001b[0mx\u001b[0m\u001b[1;33m[\u001b[0m\u001b[1;36m0\u001b[0m\u001b[1;33m]\u001b[0m \u001b[1;33m<\u001b[0m \u001b[0mx\u001b[0m\u001b[1;33m[\u001b[0m\u001b[1;36m1\u001b[0m\u001b[1;33m]\u001b[0m\u001b[1;33m]\u001b[0m\u001b[1;33m,\u001b[0m \u001b[0mprob\u001b[0m\u001b[1;33m)\u001b[0m\u001b[1;33m)\u001b[0m\u001b[1;33m,\u001b[0m \u001b[0mzpd\u001b[0m\u001b[1;33m)\u001b[0m\u001b[1;33m\u001b[0m\u001b[0m\n\u001b[0m\u001b[0;32m    124\u001b[0m \u001b[1;33m\u001b[0m\u001b[0m\n\u001b[0;32m    125\u001b[0m         \u001b[1;32mif\u001b[0m \u001b[1;34m'irace'\u001b[0m \u001b[1;32min\u001b[0m \u001b[0mself\u001b[0m\u001b[1;33m.\u001b[0m\u001b[0mkind\u001b[0m\u001b[1;33m:\u001b[0m\u001b[1;33m\u001b[0m\u001b[0m\n",
      "\u001b[1;32m/home/kyle/Dropbox/Git/radd/radd/models.py\u001b[0m in \u001b[0;36m<lambda>\u001b[1;34m(x)\u001b[0m\n\u001b[0;32m    121\u001b[0m         \u001b[0mself\u001b[0m\u001b[1;33m.\u001b[0m\u001b[0mss_resp_lo\u001b[0m \u001b[1;33m=\u001b[0m \u001b[1;32mlambda\u001b[0m \u001b[0mtrace\u001b[0m\u001b[1;33m,\u001b[0m \u001b[0mx\u001b[0m\u001b[1;33m:\u001b[0m \u001b[0mnp\u001b[0m\u001b[1;33m.\u001b[0m\u001b[0margmax\u001b[0m\u001b[1;33m(\u001b[0m\u001b[1;33m(\u001b[0m\u001b[0mtrace\u001b[0m\u001b[1;33m.\u001b[0m\u001b[0mT\u001b[0m \u001b[1;33m<=\u001b[0m \u001b[1;36m0\u001b[0m\u001b[1;33m)\u001b[0m\u001b[1;33m.\u001b[0m\u001b[0mT\u001b[0m\u001b[1;33m,\u001b[0m \u001b[0maxis\u001b[0m\u001b[1;33m=\u001b[0m\u001b[0mss_axis\u001b[0m\u001b[1;33m)\u001b[0m \u001b[1;33m*\u001b[0m \u001b[0mdt\u001b[0m\u001b[1;33m\u001b[0m\u001b[0m\n\u001b[0;32m    122\u001b[0m         \u001b[0mself\u001b[0m\u001b[1;33m.\u001b[0m\u001b[0mRT\u001b[0m \u001b[1;33m=\u001b[0m \u001b[1;32mlambda\u001b[0m \u001b[0montime\u001b[0m\u001b[1;33m,\u001b[0m \u001b[0mrbool\u001b[0m\u001b[1;33m:\u001b[0m \u001b[0montime\u001b[0m\u001b[1;33m[\u001b[0m\u001b[1;33m:\u001b[0m\u001b[1;33m,\u001b[0m \u001b[0mna\u001b[0m\u001b[1;33m]\u001b[0m \u001b[1;33m+\u001b[0m \u001b[1;33m(\u001b[0m\u001b[0mrbool\u001b[0m\u001b[1;33m*\u001b[0m\u001b[0mnp\u001b[0m\u001b[1;33m.\u001b[0m\u001b[0mwhere\u001b[0m\u001b[1;33m(\u001b[0m\u001b[0mrbool\u001b[0m\u001b[1;33m==\u001b[0m\u001b[1;36m0\u001b[0m\u001b[1;33m,\u001b[0m \u001b[0mnp\u001b[0m\u001b[1;33m.\u001b[0m\u001b[0mnan\u001b[0m\u001b[1;33m,\u001b[0m \u001b[0mrt_axis\u001b[0m\u001b[1;33m)\u001b[0m\u001b[1;33m)\u001b[0m\u001b[1;33m\u001b[0m\u001b[0m\n\u001b[1;32m--> 123\u001b[1;33m         \u001b[0mself\u001b[0m\u001b[1;33m.\u001b[0m\u001b[0mRTQ\u001b[0m \u001b[1;33m=\u001b[0m \u001b[1;32mlambda\u001b[0m \u001b[0mzpd\u001b[0m\u001b[1;33m:\u001b[0m \u001b[0mmap\u001b[0m\u001b[1;33m(\u001b[0m\u001b[1;33m(\u001b[0m\u001b[1;32mlambda\u001b[0m \u001b[0mx\u001b[0m\u001b[1;33m:\u001b[0m \u001b[0mmq\u001b[0m\u001b[1;33m(\u001b[0m\u001b[0mx\u001b[0m\u001b[1;33m[\u001b[0m\u001b[1;36m0\u001b[0m\u001b[1;33m]\u001b[0m\u001b[1;33m[\u001b[0m\u001b[0mx\u001b[0m\u001b[1;33m[\u001b[0m\u001b[1;36m0\u001b[0m\u001b[1;33m]\u001b[0m \u001b[1;33m<\u001b[0m \u001b[0mx\u001b[0m\u001b[1;33m[\u001b[0m\u001b[1;36m1\u001b[0m\u001b[1;33m]\u001b[0m\u001b[1;33m]\u001b[0m\u001b[1;33m,\u001b[0m \u001b[0mprob\u001b[0m\u001b[1;33m)\u001b[0m\u001b[1;33m)\u001b[0m\u001b[1;33m,\u001b[0m \u001b[0mzpd\u001b[0m\u001b[1;33m)\u001b[0m\u001b[1;33m\u001b[0m\u001b[0m\n\u001b[0m\u001b[0;32m    124\u001b[0m \u001b[1;33m\u001b[0m\u001b[0m\n\u001b[0;32m    125\u001b[0m         \u001b[1;32mif\u001b[0m \u001b[1;34m'irace'\u001b[0m \u001b[1;32min\u001b[0m \u001b[0mself\u001b[0m\u001b[1;33m.\u001b[0m\u001b[0mkind\u001b[0m\u001b[1;33m:\u001b[0m\u001b[1;33m\u001b[0m\u001b[0m\n",
      "\u001b[1;31mValueError\u001b[0m: operands could not be broadcast together with shapes (10,5000) (5,1000) "
     ]
    }
   ],
   "source": [
    "analyze_reactive(dvg, dvs, p)"
   ]
  },
  {
   "cell_type": "code",
   "execution_count": 160,
   "metadata": {
    "collapsed": true
   },
   "outputs": [],
   "source": [
    "def analyze_reactive(DVg, DVs, p):\n",
    "    \"\"\" get rt and accuracy of go and stop process for simulated\n",
    "    conditions generated from simulate_dpm\n",
    "    \"\"\"\n",
    "    nss = sim.nss\n",
    "    prob = sim.percentiles\n",
    "    ssd = sim.ssd\n",
    "    tb = sim.tb\n",
    "    nl = sim.nlevels\n",
    "    nssd = sim.nssd\n",
    "\n",
    "    gdec = sim.go_resp(DVg, p['a'])\n",
    "    sdec = sim.ss_resp_lo(DVs, p['a'])\n",
    "\n",
    "    gort = sim.RT(p['tr'], gdec)\n",
    "    ssrt = RT(ssd, sdec)\n",
    "    ert = np.tile(gort[:, :nss], nssd).reshape(nl, nssd, nss)\n",
    "\n",
    "    eq = sim.RTQ(zip(ert, ssrt))\n",
    "    gq = sim.RTQ(zip(gort, [tb] * nl))\n",
    "    gacc = np.nanmean(np.where(gort < tb, 1, 0), axis=1)\n",
    "    sacc = np.where(ert < ssrt, 0, 1).mean(axis=2)\n",
    "    return hs([hs([i[ii] for i in [gacc, sacc, gq, eq]]) for ii in range(nl)])\n",
    "\n"
   ]
  },
  {
   "cell_type": "code",
   "execution_count": 77,
   "metadata": {
    "collapsed": false
   },
   "outputs": [
    {
     "data": {
      "text/plain": [
       "(2, 5, 5000)"
      ]
     },
     "execution_count": 77,
     "metadata": {},
     "output_type": "execute_result"
    }
   ],
   "source": [
    "init_ss.shape"
   ]
  },
  {
   "cell_type": "code",
   "execution_count": 75,
   "metadata": {
    "collapsed": false
   },
   "outputs": [
    {
     "data": {
      "text/plain": [
       "(2, 5000, 534)"
      ]
     },
     "execution_count": 75,
     "metadata": {},
     "output_type": "execute_result"
    }
   ],
   "source": [
    "DVg[:, :nss, :].shape\n",
    "dvg_ss = DVg[:, :nss, :].reshape(nl, nss, DVg.shape[-1])\n",
    "dvg_ss.shape\n",
    "#DVg.shape"
   ]
  },
  {
   "cell_type": "code",
   "execution_count": 68,
   "metadata": {
    "collapsed": false
   },
   "outputs": [
    {
     "data": {
      "text/plain": [
       "(5, 5, 534)"
      ]
     },
     "execution_count": 68,
     "metadata": {},
     "output_type": "execute_result"
    }
   ],
   "source": [
    "dvg_ss[0, :, ix].shape"
   ]
  },
  {
   "cell_type": "code",
   "execution_count": 59,
   "metadata": {
    "collapsed": false
   },
   "outputs": [
    {
     "data": {
      "text/plain": [
       "(2, 5, 1000, 534)"
      ]
     },
     "execution_count": 59,
     "metadata": {},
     "output_type": "execute_result"
    }
   ],
   "source": [
    "dvg_ss.shape"
   ]
  },
  {
   "cell_type": "code",
   "execution_count": 62,
   "metadata": {
    "collapsed": false
   },
   "outputs": [
    {
     "data": {
      "text/plain": [
       "(2, 5, 5, 534)"
      ]
     },
     "execution_count": 62,
     "metadata": {},
     "output_type": "execute_result"
    }
   ],
   "source": [
    "init_ss.shape"
   ]
  },
  {
   "cell_type": "code",
   "execution_count": 60,
   "metadata": {
    "collapsed": false
   },
   "outputs": [
    {
     "data": {
      "text/plain": [
       "5"
      ]
     },
     "execution_count": 60,
     "metadata": {},
     "output_type": "execute_result"
    }
   ],
   "source": [
    "nssd"
   ]
  },
  {
   "cell_type": "code",
   "execution_count": 52,
   "metadata": {
    "collapsed": false
   },
   "outputs": [
    {
     "ename": "ValueError",
     "evalue": "operands could not be broadcast together with shapes (2,5,5,1,534) (2,5,1000,454) ",
     "output_type": "error",
     "traceback": [
      "\u001b[1;31m---------------------------------------------------------------------------\u001b[0m",
      "\u001b[1;31mValueError\u001b[0m                                Traceback (most recent call last)",
      "\u001b[1;32m<ipython-input-52-a92bda1a5460>\u001b[0m in \u001b[0;36m<module>\u001b[1;34m()\u001b[0m\n\u001b[0;32m     16\u001b[0m \u001b[0minit_indx\u001b[0m \u001b[1;33m=\u001b[0m \u001b[0mnp\u001b[0m\u001b[1;33m.\u001b[0m\u001b[0mwhere\u001b[0m\u001b[1;33m(\u001b[0m\u001b[0mTs\u001b[0m\u001b[1;33m<\u001b[0m\u001b[0mTg\u001b[0m\u001b[1;33m[\u001b[0m\u001b[1;33m:\u001b[0m\u001b[1;33m,\u001b[0m \u001b[0mNone\u001b[0m\u001b[1;33m]\u001b[0m\u001b[1;33m,\u001b[0m \u001b[0mTg\u001b[0m\u001b[1;33m[\u001b[0m\u001b[1;33m:\u001b[0m\u001b[1;33m,\u001b[0m \u001b[0mNone\u001b[0m\u001b[1;33m]\u001b[0m\u001b[1;33m-\u001b[0m\u001b[0mTs\u001b[0m\u001b[1;33m,\u001b[0m \u001b[1;36m0\u001b[0m\u001b[1;33m)\u001b[0m\u001b[1;33m\u001b[0m\u001b[0m\n\u001b[0;32m     17\u001b[0m \u001b[0minit_ss\u001b[0m \u001b[1;33m=\u001b[0m \u001b[0mnp\u001b[0m\u001b[1;33m.\u001b[0m\u001b[0marray\u001b[0m\u001b[1;33m(\u001b[0m\u001b[1;33m[\u001b[0m\u001b[0mdvg_ss\u001b[0m\u001b[1;33m[\u001b[0m\u001b[0mi\u001b[0m\u001b[1;33m,\u001b[0m \u001b[1;33m:\u001b[0m\u001b[1;33m,\u001b[0m \u001b[0mix\u001b[0m\u001b[1;33m]\u001b[0m \u001b[1;32mfor\u001b[0m \u001b[0mi\u001b[0m\u001b[1;33m,\u001b[0m \u001b[0mix\u001b[0m \u001b[1;32min\u001b[0m \u001b[0menumerate\u001b[0m\u001b[1;33m(\u001b[0m\u001b[0minit_indx\u001b[0m\u001b[1;33m)\u001b[0m\u001b[1;33m]\u001b[0m\u001b[1;33m)\u001b[0m\u001b[1;33m\u001b[0m\u001b[0m\n\u001b[1;32m---> 18\u001b[1;33m \u001b[0mDVs\u001b[0m \u001b[1;33m=\u001b[0m \u001b[0minit_ss\u001b[0m\u001b[1;33m[\u001b[0m\u001b[1;33m:\u001b[0m\u001b[1;33m,\u001b[0m\u001b[1;33m:\u001b[0m\u001b[1;33m,\u001b[0m\u001b[1;33m:\u001b[0m\u001b[1;33m,\u001b[0m\u001b[0mna\u001b[0m\u001b[1;33m]\u001b[0m \u001b[1;33m+\u001b[0m \u001b[0mcsum\u001b[0m\u001b[1;33m(\u001b[0m\u001b[0mnp\u001b[0m\u001b[1;33m.\u001b[0m\u001b[0mwhere\u001b[0m\u001b[1;33m(\u001b[0m\u001b[0mrs\u001b[0m\u001b[1;33m(\u001b[0m\u001b[1;33m(\u001b[0m\u001b[0mnl\u001b[0m\u001b[1;33m,\u001b[0m \u001b[0mnssd\u001b[0m\u001b[1;33m,\u001b[0m \u001b[0mnss_per\u001b[0m\u001b[1;33m,\u001b[0m \u001b[0mTs\u001b[0m\u001b[1;33m.\u001b[0m\u001b[0mmax\u001b[0m\u001b[1;33m(\u001b[0m\u001b[1;33m)\u001b[0m\u001b[1;33m)\u001b[0m\u001b[1;33m)\u001b[0m \u001b[1;33m<\u001b[0m \u001b[0mPs\u001b[0m\u001b[1;33m,\u001b[0m \u001b[0mdx\u001b[0m\u001b[1;33m,\u001b[0m \u001b[1;33m-\u001b[0m\u001b[0mdx\u001b[0m\u001b[1;33m)\u001b[0m\u001b[1;33m,\u001b[0m \u001b[0maxis\u001b[0m\u001b[1;33m=\u001b[0m\u001b[1;36m2\u001b[0m\u001b[1;33m)\u001b[0m\u001b[1;33m\u001b[0m\u001b[0m\n\u001b[0m\u001b[0;32m     19\u001b[0m \u001b[1;31m#DVs = init_ss[:, :, :, na] + csum(np.where(rs((nl, nss, Ts.max())) < Ps, dx, -dx), axis=2)\u001b[0m\u001b[1;33m\u001b[0m\u001b[1;33m\u001b[0m\u001b[0m\n",
      "\u001b[1;31mValueError\u001b[0m: operands could not be broadcast together with shapes (2,5,5,1,534) (2,5,1000,454) "
     ]
    }
   ],
   "source": [
    "DVs = init_ss[:,:,:,na] + csum(np.where(rs((nl, nssd, nss_per, Ts.max())) < Ps, dx, -dx), axis=2)\n",
    "#DVs = init_ss[:, :, :, na] + csum(np.where(rs((nl, nss, Ts.max())) < Ps, dx, -dx), axis=2)"
   ]
  },
  {
   "cell_type": "code",
   "execution_count": 99,
   "metadata": {
    "collapsed": true
   },
   "outputs": [],
   "source": [
    "Pg, Tg = sim.__update_go_process__(p)"
   ]
  },
  {
   "cell_type": "code",
   "execution_count": 200,
   "metadata": {
    "collapsed": false
   },
   "outputs": [],
   "source": [
    "dvg, dvs = sim.sim_fx(p, analyze=False)\n",
    "#init_ss, dvg = sim.sim_fx(p, analyze=False)"
   ]
  },
  {
   "cell_type": "code",
   "execution_count": 113,
   "metadata": {
    "collapsed": false
   },
   "outputs": [
    {
     "data": {
      "text/plain": [
       "(2, 10000, 534)"
      ]
     },
     "execution_count": 113,
     "metadata": {},
     "output_type": "execute_result"
    }
   ],
   "source": [
    "dvg.shape"
   ]
  },
  {
   "cell_type": "code",
   "execution_count": 194,
   "metadata": {
    "collapsed": false
   },
   "outputs": [],
   "source": [
    "nssd_perl = int(sim.nssd/nl)\n",
    "dvg_ss = dvg[:, sim.nss:, :]#.reshape(nl, nss, dvg.shape[-1])\n",
    "#dvg_ss = dvg_ss.reshape(nl, nss, dvg_ss.shape[-1])"
   ]
  },
  {
   "cell_type": "code",
   "execution_count": 130,
   "metadata": {
    "collapsed": false
   },
   "outputs": [
    {
     "data": {
      "text/plain": [
       "array([534, 534])"
      ]
     },
     "execution_count": 130,
     "metadata": {},
     "output_type": "execute_result"
    }
   ],
   "source": [
    "Tg"
   ]
  },
  {
   "cell_type": "code",
   "execution_count": 192,
   "metadata": {
    "collapsed": false
   },
   "outputs": [
    {
     "data": {
      "text/plain": [
       "array([[ 80, 130, 180, 230, 280],\n",
       "       [ 80, 130, 180, 230, 280]])"
      ]
     },
     "execution_count": 192,
     "metadata": {},
     "output_type": "execute_result"
    }
   ],
   "source": [
    "np.where(Ts<Tg[:, None], Tg[:, None]-Ts, 0)"
   ]
  },
  {
   "cell_type": "code",
   "execution_count": 152,
   "metadata": {
    "collapsed": true
   },
   "outputs": [],
   "source": [
    "nl = sim.nlevels\n",
    "nss = sim.nss\n",
    "dx = sim.dx\n",
    "nssd_perl = int(sim.nssd/nl)"
   ]
  },
  {
   "cell_type": "code",
   "execution_count": 155,
   "metadata": {
    "collapsed": false
   },
   "outputs": [
    {
     "data": {
      "text/plain": [
       "array([ 80, 130, 180, 230, 280])"
      ]
     },
     "execution_count": 155,
     "metadata": {},
     "output_type": "execute_result"
    }
   ],
   "source": [
    "ix"
   ]
  },
  {
   "cell_type": "code",
   "execution_count": 195,
   "metadata": {
    "collapsed": false
   },
   "outputs": [
    {
     "data": {
      "text/plain": [
       "(2, 5000, 534)"
      ]
     },
     "execution_count": 195,
     "metadata": {},
     "output_type": "execute_result"
    }
   ],
   "source": [
    "dvg_ss.shape"
   ]
  },
  {
   "cell_type": "code",
   "execution_count": 162,
   "metadata": {
    "collapsed": false
   },
   "outputs": [],
   "source": [
    "dvg_ss = dvg_ss.reshape(nl, nss, dvg_ss.shape[-1])"
   ]
  },
  {
   "cell_type": "code",
   "execution_count": 158,
   "metadata": {
    "collapsed": false
   },
   "outputs": [
    {
     "data": {
      "text/plain": [
       "0.1464791727426786"
      ]
     },
     "execution_count": 158,
     "metadata": {},
     "output_type": "execute_result"
    }
   ],
   "source": [
    "dvg_ss[0, 0, 0, 130]"
   ]
  },
  {
   "cell_type": "code",
   "execution_count": 166,
   "metadata": {
    "collapsed": false
   },
   "outputs": [
    {
     "data": {
      "text/plain": [
       "(2, 2, 5000, 5)"
      ]
     },
     "execution_count": 166,
     "metadata": {},
     "output_type": "execute_result"
    }
   ],
   "source": [
    "init_ss.shape"
   ]
  },
  {
   "cell_type": "code",
   "execution_count": 197,
   "metadata": {
    "collapsed": false
   },
   "outputs": [],
   "source": [
    "init_indx = np.where(Ts<Tg[:, None], Tg[:, None]-Ts, 0)\n",
    "\n",
    "init_ss = np.array([dvg[i, nss:, ix] for i, ix in enumerate(init_indx)])\n",
    "\n",
    "DVs = init_ss[:, :, :, None] + csum(np.where(rs((nl, nssd, nss, Ts.max())) < Ps, dx, -dx), axis=2)"
   ]
  },
  {
   "cell_type": "code",
   "execution_count": 190,
   "metadata": {
    "collapsed": false
   },
   "outputs": [
    {
     "data": {
      "text/plain": [
       "(2, 5, 5000, 454)"
      ]
     },
     "execution_count": 190,
     "metadata": {},
     "output_type": "execute_result"
    }
   ],
   "source": [
    "DVs.shape"
   ]
  },
  {
   "cell_type": "code",
   "execution_count": 124,
   "metadata": {
    "collapsed": false
   },
   "outputs": [
    {
     "data": {
      "text/plain": [
       "1000.0"
      ]
     },
     "execution_count": 124,
     "metadata": {},
     "output_type": "execute_result"
    }
   ],
   "source": [
    "sim.nss/(sim.nssd/sim.nlevels)"
   ]
  },
  {
   "cell_type": "code",
   "execution_count": 120,
   "metadata": {
    "collapsed": false
   },
   "outputs": [
    {
     "data": {
      "text/plain": [
       "5"
      ]
     },
     "execution_count": 120,
     "metadata": {},
     "output_type": "execute_result"
    }
   ],
   "source": [
    "nssd_per_level\n"
   ]
  },
  {
   "cell_type": "code",
   "execution_count": 125,
   "metadata": {
    "collapsed": false
   },
   "outputs": [],
   "source": [
    "nss_per_ssd = int(sim.nss/(sim.nssd/sim.nlevels))\n",
    "nssd_per_level = int(sim.nssd/sim.nlevels)\n",
    "#sim.nlevels"
   ]
  },
  {
   "cell_type": "code",
   "execution_count": null,
   "metadata": {
    "collapsed": true
   },
   "outputs": [],
   "source": [
    "nssd_"
   ]
  },
  {
   "cell_type": "code",
   "execution_count": 115,
   "metadata": {
    "collapsed": false
   },
   "outputs": [
    {
     "data": {
      "text/plain": [
       "500"
      ]
     },
     "execution_count": 115,
     "metadata": {},
     "output_type": "execute_result"
    }
   ],
   "source": [
    "nss_per_ssd"
   ]
  },
  {
   "cell_type": "code",
   "execution_count": 73,
   "metadata": {
    "collapsed": false
   },
   "outputs": [
    {
     "data": {
      "text/plain": [
       "array([[[ 0.05436,  0.08634,  0.07994, ...,  0.09913,  0.07355,  0.11192],\n",
       "        [ 0.0944 ,  0.13997,  0.11393, ...,  0.1595 ,  0.11393,  0.1595 ],\n",
       "        [ 0.17703,  0.19707,  0.13695, ...,  0.21044,  0.17035,  0.19707],\n",
       "        [ 0.2245 ,  0.27976,  0.15542, ...,  0.28667,  0.24522,  0.20378],\n",
       "        [ 0.28415,  0.35609,  0.2266 , ...,  0.38487,  0.32012,  0.26977]]])"
      ]
     },
     "execution_count": 73,
     "metadata": {},
     "output_type": "execute_result"
    }
   ],
   "source": [
    "\n",
    "array([[dvg[i, :sim.nss, ix] for ix in np.where(Ts[i]<Tg[i], Tg[i]-Ts[i], 0)] for i in range(sim.nlevels)])"
   ]
  },
  {
   "cell_type": "code",
   "execution_count": 80,
   "metadata": {
    "collapsed": false
   },
   "outputs": [
    {
     "data": {
      "text/plain": [
       "500"
      ]
     },
     "execution_count": 80,
     "metadata": {},
     "output_type": "execute_result"
    }
   ],
   "source": [
    "sim.nss"
   ]
  },
  {
   "cell_type": "code",
   "execution_count": 78,
   "metadata": {
    "collapsed": false
   },
   "outputs": [
    {
     "data": {
      "text/plain": [
       "(1, 10000, 534)"
      ]
     },
     "execution_count": 78,
     "metadata": {},
     "output_type": "execute_result"
    }
   ],
   "source": [
    "dvg.shape"
   ]
  },
  {
   "cell_type": "code",
   "execution_count": 77,
   "metadata": {
    "collapsed": false
   },
   "outputs": [
    {
     "name": "stderr",
     "output_type": "stream",
     "text": [
      "/Users/kyle/anaconda/lib/python2.7/site-packages/ipykernel/__main__.py:1: VisibleDeprecationWarning: using a non-integer number instead of an integer will result in an error in the future\n",
      "  if __name__ == '__main__':\n"
     ]
    },
    {
     "ename": "IndexError",
     "evalue": "too many indices for array",
     "output_type": "error",
     "traceback": [
      "\u001b[0;31m---------------------------------------------------------------------------\u001b[0m",
      "\u001b[0;31mIndexError\u001b[0m                                Traceback (most recent call last)",
      "\u001b[0;32m<ipython-input-77-6ef450038791>\u001b[0m in \u001b[0;36m<module>\u001b[0;34m()\u001b[0m\n\u001b[0;32m----> 1\u001b[0;31m \u001b[0mnp\u001b[0m\u001b[0;34m.\u001b[0m\u001b[0marray\u001b[0m\u001b[0;34m(\u001b[0m\u001b[0;34m[\u001b[0m\u001b[0mdvg\u001b[0m\u001b[0;34m[\u001b[0m\u001b[0;34m:\u001b[0m\u001b[0;34m,\u001b[0m \u001b[0msim\u001b[0m\u001b[0;34m.\u001b[0m\u001b[0mnssd\u001b[0m\u001b[0;34m/\u001b[0m\u001b[0;36m2\u001b[0m\u001b[0;34m,\u001b[0m \u001b[0msim\u001b[0m\u001b[0;34m.\u001b[0m\u001b[0mnss\u001b[0m\u001b[0;34m,\u001b[0m \u001b[0mix\u001b[0m\u001b[0;34m]\u001b[0m \u001b[0;32mfor\u001b[0m \u001b[0mix\u001b[0m \u001b[0;32min\u001b[0m \u001b[0mnp\u001b[0m\u001b[0;34m.\u001b[0m\u001b[0mwhere\u001b[0m\u001b[0;34m(\u001b[0m\u001b[0mTs\u001b[0m\u001b[0;34m<\u001b[0m\u001b[0mTg\u001b[0m\u001b[0;34m,\u001b[0m \u001b[0mTg\u001b[0m\u001b[0;34m-\u001b[0m\u001b[0mTs\u001b[0m\u001b[0;34m,\u001b[0m \u001b[0;36m0\u001b[0m\u001b[0;34m)\u001b[0m\u001b[0;34m]\u001b[0m\u001b[0;34m)\u001b[0m\u001b[0;34m.\u001b[0m\u001b[0mshape\u001b[0m\u001b[0;34m\u001b[0m\u001b[0m\n\u001b[0m",
      "\u001b[0;31mIndexError\u001b[0m: too many indices for array"
     ]
    }
   ],
   "source": [
    "np.array([dvg[:, sim.nss, ix] for ix in np.where(Ts<Tg, Tg-Ts, 0)]).shape"
   ]
  },
  {
   "cell_type": "code",
   "execution_count": 59,
   "metadata": {
    "collapsed": true
   },
   "outputs": [],
   "source": [
    "sdec = sim.ss_resp(dvs, p['a'])"
   ]
  },
  {
   "cell_type": "code",
   "execution_count": 31,
   "metadata": {
    "collapsed": false
   },
   "outputs": [
    {
     "data": {
      "text/plain": [
       "(1, 5, 500, 454)"
      ]
     },
     "execution_count": 31,
     "metadata": {},
     "output_type": "execute_result"
    }
   ],
   "source": [
    "dvs.shape"
   ]
  },
  {
   "cell_type": "code",
   "execution_count": 41,
   "metadata": {
    "collapsed": false
   },
   "outputs": [
    {
     "data": {
      "text/plain": [
       "array([[[ 0.031,  0.029,  0.085, ...,  0.019,  0.097,  0.113],\n",
       "        [ 0.039,  0.071,  0.128, ...,  0.091,  0.102,  0.162],\n",
       "        [ 0.069,  0.111,  0.174, ...,  0.155,  0.113,  0.252],\n",
       "        [ 0.13 ,  0.135,  0.255, ...,  0.192,  0.148,  0.284],\n",
       "        [ 0.227,  0.177,  0.291, ...,  0.277,  0.159,  0.359]]])"
      ]
     },
     "execution_count": 41,
     "metadata": {},
     "output_type": "execute_result"
    }
   ],
   "source": [
    "sdec"
   ]
  },
  {
   "cell_type": "code",
   "execution_count": 14,
   "metadata": {
    "collapsed": false
   },
   "outputs": [
    {
     "data": {
      "text/plain": [
       "array([534])"
      ]
     },
     "execution_count": 14,
     "metadata": {},
     "output_type": "execute_result"
    }
   ],
   "source": [
    "p"
   ]
  },
  {
   "cell_type": "code",
   "execution_count": 11,
   "metadata": {
    "collapsed": false
   },
   "outputs": [
    {
     "data": {
      "text/plain": [
       "array([[-199346, -249346, -299346, -349346, -399346],\n",
       "       [-199346, -249346, -299346, -349346, -399346]])"
      ]
     },
     "execution_count": 11,
     "metadata": {},
     "output_type": "execute_result"
    }
   ],
   "source": [
    "\n",
    "Ts"
   ]
  },
  {
   "cell_type": "code",
   "execution_count": null,
   "metadata": {
    "collapsed": true
   },
   "outputs": [],
   "source": []
  }
 ],
 "metadata": {
  "kernelspec": {
   "display_name": "Python 2",
   "language": "python",
   "name": "python2"
  },
  "language_info": {
   "codemirror_mode": {
    "name": "ipython",
    "version": 2
   },
   "file_extension": ".py",
   "mimetype": "text/x-python",
   "name": "python",
   "nbconvert_exporter": "python",
   "pygments_lexer": "ipython2",
   "version": "2.7.11"
  }
 },
 "nbformat": 4,
 "nbformat_minor": 0
}
