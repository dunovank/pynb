{
 "cells": [
  {
   "cell_type": "code",
   "execution_count": 4,
   "metadata": {
    "collapsed": false
   },
   "outputs": [],
   "source": [
    "import radd\n",
    "from radd import build\n",
    "\n",
    "\n",
    "from scipy.stats.mstats import mquantiles as mq\n",
    "from scipy.stats.mstats_extras import mjci\n",
    "\n",
    "homedir = os.path.expanduser('~')\n",
    "cox = pd.read_csv(os.path.join(homedir, \"Dropbox/Projects/Coxon/coxon_behav_data_binned.csv\"))\n",
    "#cox = pd.read_csv(os.path.join(homedir, \"Dropbox/Projects/Coxon/coxon_behav_data.csv\"))\n",
    "pro = pd.read_csv(os.path.join(homedir, \"Dropbox/Projects/SS/Proactive/pro_data.csv\"))\n",
    "re = pd.read_csv(os.path.join(homedir, \"Dropbox/Projects/SS/Reactive/Re_Data.csv\"), index_col=0)\n",
    "\n",
    "ssb = pd.read_csv(os.path.join(homedir, \"Dropbox/Projects/SSBayes/alldata_clean.csv\"), index_col=0)"
   ]
  },
  {
   "cell_type": "code",
   "execution_count": 5,
   "metadata": {
    "collapsed": false
   },
   "outputs": [],
   "source": [
    "re_popt = {'a': 0.45, 'v': 1.26, 'xb': 1.3, 'ssv': -1.3, 'tr': 0.2}"
   ]
  },
  {
   "cell_type": "code",
   "execution_count": 6,
   "metadata": {
    "collapsed": false
   },
   "outputs": [],
   "source": [
    "re_small = re[re.idx.isin(re.idx.unique()[:5])]"
   ]
  },
  {
   "cell_type": "code",
   "execution_count": 9,
   "metadata": {
    "collapsed": false
   },
   "outputs": [],
   "source": [
    "m = build.Model(data=re_small, depends_on={'v': 'Cond'}, kind='xdpm', fit_on='subjects', inits=re_popt)"
   ]
  },
  {
   "cell_type": "code",
   "execution_count": 10,
   "metadata": {
    "collapsed": false
   },
   "outputs": [
    {
     "name": "stdout",
     "output_type": "stream",
     "text": [
      "using default inits: fmin=0.015631664\n",
      "Finished Hopping Around\n",
      "Optimization terminated successfully.\n",
      "         Current function value: 0.000367\n",
      "         Iterations: 33\n",
      "         Function evaluations: 104\n",
      "Optimization terminated successfully.\n",
      "         Current function value: 0.002081\n",
      "         Iterations: 36\n",
      "         Function evaluations: 89\n",
      "using default inits: fmin=0.040612137\n",
      "Finished Hopping Around\n",
      "Optimization terminated successfully.\n",
      "         Current function value: 0.000243\n",
      "         Iterations: 42\n",
      "         Function evaluations: 104\n",
      "Warning: Maximum number of function evaluations has been exceeded.\n",
      "using default inits: fmin=0.028069271\n",
      "Finished Hopping Around\n",
      "Warning: Maximum number of function evaluations has been exceeded.\n",
      "Warning: Maximum number of function evaluations has been exceeded.\n",
      "using default inits: fmin=0.009474747\n",
      "Finished Hopping Around\n",
      "Optimization terminated successfully.\n",
      "         Current function value: 0.000113\n",
      "         Iterations: 54\n",
      "         Function evaluations: 127\n",
      "Optimization terminated successfully.\n",
      "         Current function value: 0.001573\n",
      "         Iterations: 128\n",
      "         Function evaluations: 338\n",
      "using default inits: fmin=0.004985583\n",
      "Finished Hopping Around\n",
      "Warning: Maximum number of function evaluations has been exceeded.\n",
      "Warning: Maximum number of function evaluations has been exceeded.\n"
     ]
    }
   ],
   "source": [
    "m.optimize(maxfev=5000, tol=1.e-4, btol=1.e-2, multiopt=True, nrand_inits=5, fit_flat=True, fit_cond=True, method='nelder', bdisp=True, disp=True)"
   ]
  },
  {
   "cell_type": "code",
   "execution_count": 230,
   "metadata": {
    "collapsed": false
   },
   "outputs": [
    {
     "data": {
      "text/plain": [
       "a          0.53625\n",
       "chi       0.039903\n",
       "cnvrg         True\n",
       "ndata           16\n",
       "nfev            36\n",
       "nvary            5\n",
       "ssv       -0.98396\n",
       "tr         0.17801\n",
       "v             1.26\n",
       "xb         0.87761\n",
       "df              11\n",
       "rchi     0.0036276\n",
       "logp       -89.907\n",
       "AIC        -79.907\n",
       "BIC        -85.525\n",
       "dtype: object"
      ]
     },
     "execution_count": 230,
     "metadata": {},
     "output_type": "execute_result"
    }
   ],
   "source": [
    "m.finfo_flat_list[0]"
   ]
  },
  {
   "cell_type": "code",
   "execution_count": 220,
   "metadata": {
    "collapsed": false
   },
   "outputs": [
    {
     "data": {
      "text/plain": [
       "array([[ 0.99174,  1.     ,  1.     ,  0.95   ,  0.6    ,  0.     ,\n",
       "         0.50509,  0.53191,  0.55812,  0.56643,  0.59818,  0.49608,\n",
       "         0.53166,  0.53187,  0.54585,  0.56744],\n",
       "       [ 0.97521,  1.     ,  1.     ,  0.95   ,  0.8    ,  0.1    ,\n",
       "         0.51767,  0.54517,  0.57184,  0.59735,  0.61186,  0.51983,\n",
       "         0.54525,  0.55858,  0.57181,  0.60212]])"
      ]
     },
     "execution_count": 220,
     "metadata": {},
     "output_type": "execute_result"
    }
   ],
   "source": [
    "m.observed[0]"
   ]
  },
  {
   "cell_type": "code",
   "execution_count": 219,
   "metadata": {
    "collapsed": false
   },
   "outputs": [
    {
     "data": {
      "text/plain": [
       "array([[ 0.951  ,  1.     ,  0.99956,  0.94212,  0.54772,  0.15283,\n",
       "         0.52707,  0.55465,  0.57494,  0.59569,  0.62462,  0.51909,\n",
       "         0.54436,  0.56208,  0.5811 ,  0.60953],\n",
       "       [ 0.92619,  1.     ,  0.99968,  0.95527,  0.60611,  0.19156,\n",
       "         0.53328,  0.56189,  0.58213,  0.60243,  0.63019,  0.5242 ,\n",
       "         0.54917,  0.56881,  0.58812,  0.61371]])"
      ]
     },
     "execution_count": 219,
     "metadata": {},
     "output_type": "execute_result"
    }
   ],
   "source": [
    "m.yhat_list[0].reshape(2,16)"
   ]
  },
  {
   "cell_type": "code",
   "execution_count": 117,
   "metadata": {
    "collapsed": false
   },
   "outputs": [
    {
     "data": {
      "text/plain": [
       "array([ 1.     ,  1.     ,  1.     ,  1.     ,  1.     ,  1.     ,\n",
       "        0.9907 ,  1.12914,  1.42145,  1.03089,  1.07182,  0.12239,\n",
       "        0.69461,  0.84625,  0.67763,  0.58567])"
      ]
     },
     "execution_count": 117,
     "metadata": {},
     "output_type": "execute_result"
    }
   ],
   "source": [
    "m.simulator.y\n",
    "m.simulator.wts"
   ]
  },
  {
   "cell_type": "code",
   "execution_count": 158,
   "metadata": {
    "collapsed": false
   },
   "outputs": [
    {
     "data": {
      "text/plain": [
       "5"
      ]
     },
     "execution_count": 158,
     "metadata": {},
     "output_type": "execute_result"
    }
   ],
   "source": [
    "m.opt.optmod.nvarys"
   ]
  },
  {
   "cell_type": "code",
   "execution_count": 159,
   "metadata": {
    "collapsed": false
   },
   "outputs": [],
   "source": [
    "m.finfo_flat_list[0]['nvary'] = m.opt.optmod.nvarys"
   ]
  },
  {
   "cell_type": "code",
   "execution_count": 163,
   "metadata": {
    "collapsed": false
   },
   "outputs": [],
   "source": [
    "m.fitinfo.loc[0, :] = m.assess_fit(m.finfo_flat_list[0])"
   ]
  },
  {
   "cell_type": "code",
   "execution_count": 169,
   "metadata": {
    "collapsed": false
   },
   "outputs": [
    {
     "data": {
      "text/plain": [
       "(6, 14)"
      ]
     },
     "execution_count": 169,
     "metadata": {},
     "output_type": "execute_result"
    }
   ],
   "source": [
    "m.fitinfo"
   ]
  },
  {
   "cell_type": "code",
   "execution_count": 160,
   "metadata": {
    "collapsed": false
   },
   "outputs": [
    {
     "data": {
      "text/plain": [
       "a         0.53625\n",
       "chi       0.03967\n",
       "ndata    16.00000\n",
       "nvary     5.00000\n",
       "ssv      -0.98396\n",
       "tr        0.17801\n",
       "v         1.26000\n",
       "xb        0.87761\n",
       "df       11.00000\n",
       "rchi      0.00361\n",
       "logp    -89.99889\n",
       "AIC     -79.99889\n",
       "BIC     -85.61686\n",
       "dtype: float64"
      ]
     },
     "execution_count": 160,
     "metadata": {},
     "output_type": "execute_result"
    }
   ],
   "source": [
    "m.assess_fit(m.finfo_flat_list[0])"
   ]
  },
  {
   "cell_type": "code",
   "execution_count": 142,
   "metadata": {
    "collapsed": false
   },
   "outputs": [
    {
     "data": {
      "text/plain": [
       "0.076356277249213858"
      ]
     },
     "execution_count": 142,
     "metadata": {},
     "output_type": "execute_result"
    }
   ],
   "source": [
    "np.sum(m.simulator.wts*(m.simulator.y-m.simulator.sim_fx(m.opt.optmod.params.valuesdict()))**2)"
   ]
  },
  {
   "cell_type": "code",
   "execution_count": 130,
   "metadata": {
    "collapsed": false
   },
   "outputs": [
    {
     "data": {
      "text/plain": [
       "array([ 0.954  ,  1.     ,  1.     ,  0.947  ,  0.509  ,  0.141  ,\n",
       "        0.52501,  0.55401,  0.57301,  0.59401,  0.62301,  0.51601,\n",
       "        0.54301,  0.56001,  0.58101,  0.60801])"
      ]
     },
     "execution_count": 130,
     "metadata": {},
     "output_type": "execute_result"
    }
   ],
   "source": [
    "m.simulator.sim_fx(m.opt.optmod.params.valuesdict())\n",
    "\n"
   ]
  },
  {
   "cell_type": "code",
   "execution_count": 98,
   "metadata": {
    "collapsed": false
   },
   "outputs": [],
   "source": [
    "fp = dict(deepcopy(m.fitparams))\n",
    "\n",
    "def breakdown_vector(vector, fp):\n",
    "    nssd = fp['nssd']+1\n",
    "    nquant = len(fp['percentiles'])\n",
    "    \n",
    "    presp = vector[1:nssd]\n",
    "    quant = vector[-nquant*2:]\n",
    "    quant_cor = quant[:nquant]\n",
    "    quant_err = quant[-nquant:]\n",
    "    #quant_err = vector[nssd+nquant:]\n",
    "    \n",
    "    return presp, quant_cor, quant_err\n",
    "\n",
    "\n",
    "phat, qchat, qehat = [], [], []\n",
    "for vector in m.yhat_flat_list:\n",
    "    presp, quant_cor, quant_err = breakdown_vector(vector, fp)\n",
    "    phat.append(presp)\n",
    "    qchat.append(quant_cor)\n",
    "    qehat.append(quant_err)\n",
    "\n",
    "p, qc, qe = [], [], []\n",
    "for vector in m.observed_flat:\n",
    "    presp, quant_cor, quant_err = breakdown_vector(vector, fp)\n",
    "    p.append(presp)\n",
    "    qc.append(quant_cor)\n",
    "    qe.append(quant_err)\n"
   ]
  },
  {
   "cell_type": "code",
   "execution_count": 85,
   "metadata": {
    "collapsed": false
   },
   "outputs": [
    {
     "name": "stdout",
     "output_type": "stream",
     "text": [
      "[ 200.  250.  300.  350.  400.]\n",
      "[ 200.  250.  300.  350.  400.]\n",
      "[ 200.  250.  300.  350.  400.]\n"
     ]
    },
    {
     "data": {
      "text/plain": [
       "[354.01740174017402,\n",
       " 354.01740174017402,\n",
       " 374.56345634563456,\n",
       " 374.56345634563456]"
      ]
     },
     "execution_count": 85,
     "metadata": {},
     "output_type": "execute_result"
    },
    {
     "data": {
      "image/png": "[encoded data removed]",
      "text/plain": [
       "<matplotlib.figure.Figure at 0x1240414d0>"
      ]
     },
     "metadata": {},
     "output_type": "display_data"
    },
    {
     "data": {
      "image/png": "[encoded data removed]",
      "text/plain": [
       "<matplotlib.figure.Figure at 0x11c55ac50>"
      ]
     },
     "metadata": {},
     "output_type": "display_data"
    },
    {
     "data": {
      "image/png": "[encoded data removed]",
      "text/plain": [
       "<matplotlib.figure.Figure at 0x117d03310>"
      ]
     },
     "metadata": {},
     "output_type": "display_data"
    }
   ],
   "source": [
    "vis.scurves([p[0], phat[0]],  colors=['k', 'r'])\n",
    "vis.scurves([p[1], phat[1]],  colors=['k', 'r'])\n",
    "vis.scurves([p[2], phat[2]],  colors=['k', 'r'])"
   ]
  },
  {
   "cell_type": "code",
   "execution_count": 108,
   "metadata": {
    "collapsed": false
   },
   "outputs": [
    {
     "data": {
      "text/plain": [
       "[<matplotlib.lines.Line2D at 0x1172fbdd0>]"
      ]
     },
     "execution_count": 108,
     "metadata": {},
     "output_type": "execute_result"
    },
    {
     "data": {
      "image/png": "[encoded data removed]",
      "text/plain": [
       "<matplotlib.figure.Figure at 0x116d3ae90>"
      ]
     },
     "metadata": {},
     "output_type": "display_data"
    }
   ],
   "source": [
    "#for qevec, qehatvec  in zip(qe, qehat):\n",
    "plt.plot(qe[0])\n",
    "plt.plot(qehat[0])\n",
    "\n"
   ]
  },
  {
   "cell_type": "code",
   "execution_count": 12,
   "metadata": {
    "collapsed": false
   },
   "outputs": [
    {
     "data": {
      "text/plain": [
       "array([ 0.98347,  1.     ,  1.     ,  0.95   ,  0.7    ,  0.05   ,\n",
       "        0.51138,  0.53854,  0.56498,  0.58189,  0.60502,  0.50795,\n",
       "        0.53846,  0.54522,  0.55883,  0.58478])"
      ]
     },
     "execution_count": 12,
     "metadata": {},
     "output_type": "execute_result"
    }
   ],
   "source": [
    "m.observed_flat[0]"
   ]
  },
  {
   "cell_type": "code",
   "execution_count": null,
   "metadata": {
    "collapsed": true
   },
   "outputs": [],
   "source": []
  }
 ],
 "metadata": {
  "kernelspec": {
   "display_name": "Python 2",
   "language": "python",
   "name": "python2"
  },
  "language_info": {
   "codemirror_mode": {
    "name": "ipython",
    "version": 2
   },
   "file_extension": ".py",
   "mimetype": "text/x-python",
   "name": "python",
   "nbconvert_exporter": "python",
   "pygments_lexer": "ipython2",
   "version": "2.7.11"
  }
 },
 "nbformat": 4,
 "nbformat_minor": 0
}
