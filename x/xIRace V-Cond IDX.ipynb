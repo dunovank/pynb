{
 "cells": [
  {
   "cell_type": "code",
   "execution_count": 1,
   "metadata": {
    "collapsed": true
   },
   "outputs": [],
   "source": [
    "from radd import build\n",
    "from radd.toolbox.utils import get_default_inits\n",
    "data = redf_store.redata"
   ]
  },
  {
   "cell_type": "code",
   "execution_count": 3,
   "metadata": {
    "collapsed": false
   },
   "outputs": [],
   "source": [
    "kind='xirace' \n",
    "dynamic='exp'\n",
    "depends_on={'v':'Cond'}\n",
    "inits = get_default_inits(kind=kind, dynamic=dynamic, depends_on=depends_on)"
   ]
  },
  {
   "cell_type": "code",
   "execution_count": 7,
   "metadata": {
    "collapsed": false
   },
   "outputs": [
    {
     "name": "stdout",
     "output_type": "stream",
     "text": [
      "\n",
      "      Model is prepared to fit xirace model (w/ exp dynamic bias) to average data,\n",
      "      allowing Drift-Rate to vary across levels of Cond (bsl, pnl)\n",
      "\n",
      "      Optimize On, Wayne \n",
      "\n"
     ]
    }
   ],
   "source": [
    "m = build.Model(data=data, kind=kind, dynamic=dynamic, depends_on=depends_on, fit_on='average')"
   ]
  },
  {
   "cell_type": "code",
   "execution_count": 10,
   "metadata": {
    "collapsed": false
   },
   "outputs": [
    {
     "data": {
      "text/plain": [
       "array([  1.03249491,  10.68561236,   6.12609577,   0.96948806,\n",
       "         0.3851006 ,   0.74262894,   1.08740772,   0.91089088,\n",
       "         0.83841778,   0.86138076,   0.952701  ,   0.31861469,\n",
       "         0.29347885,   0.27133311,   0.22974032,   0.23311285,\n",
       "         0.85181404,   0.85181404,   6.61194551,   1.21060267,\n",
       "         0.49128369,   0.55393549,   1.03819961,   0.97846296,\n",
       "         0.96614196,   0.90872592,   1.07851358,   0.2356138 ,\n",
       "         0.23643448,   0.25659533,   0.24776684,   0.27200598])"
      ]
     },
     "execution_count": 10,
     "metadata": {},
     "output_type": "execute_result"
    }
   ],
   "source": [
    "m.wts"
   ]
  },
  {
   "cell_type": "code",
   "execution_count": 8,
   "metadata": {
    "collapsed": false,
    "scrolled": false
   },
   "outputs": [
    {
     "name": "stdout",
     "output_type": "stream",
     "text": [
      "Warning: Maximum number of iterations has been exceeded.\n",
      "Warning: Maximum number of iterations has been exceeded.\n"
     ]
    }
   ],
   "source": [
    "m.optimize()"
   ]
  },
  {
   "cell_type": "markdown",
   "metadata": {
    "collapsed": true
   },
   "source": [
    "optimize(self, save=True, savepth='./', ntrials=10000, ftol=1.e-20, xtol=1.e-20, maxfev=5000, niter=500, log_fits=True, disp=True, prob=array([.1, .3, .5, .7, .9]))"
   ]
  },
  {
   "cell_type": "code",
   "execution_count": null,
   "metadata": {
    "collapsed": true
   },
   "outputs": [],
   "source": []
  }
 ],
 "metadata": {
  "kernelspec": {
   "display_name": "Python 2",
   "language": "python",
   "name": "python2"
  },
  "language_info": {
   "codemirror_mode": {
    "name": "ipython",
    "version": 2
   },
   "file_extension": ".py",
   "mimetype": "text/x-python",
   "name": "python",
   "nbconvert_exporter": "python",
   "pygments_lexer": "ipython2",
   "version": "2.7.10"
  }
 },
 "nbformat": 4,
 "nbformat_minor": 0
}
