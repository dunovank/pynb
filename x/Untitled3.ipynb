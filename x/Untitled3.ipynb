{
 "cells": [
  {
   "cell_type": "code",
   "execution_count": 7,
   "metadata": {
    "collapsed": true
   },
   "outputs": [],
   "source": [
    "#!/usr/local/bin/env python\n",
    "from __future__ import division\n",
    "from copy import deepcopy\n",
    "from radd import build, fit, vis, models"
   ]
  },
  {
   "cell_type": "code",
   "execution_count": 9,
   "metadata": {
    "collapsed": false
   },
   "outputs": [
    {
     "name": "stdout",
     "output_type": "stream",
     "text": [
      "\n",
      "      Model is prepared to fit xradd model (w/ exp dynamic bias) to average data,\n",
      "      allowing Onset Time to vary across levels of Cond (bsl, pnl)\n",
      "\n",
      "      See, it's not that simplex... \n",
      "\n"
     ]
    }
   ],
   "source": [
    "m = build.Model(data=redf_store.redata, kind='xradd', fit_on='average', depends_on={'tr': 'Cond'}, dynamic='exp')\n",
    "\n",
    "#m.make_simulator()"
   ]
  },
  {
   "cell_type": "code",
   "execution_count": 10,
   "metadata": {
    "collapsed": false
   },
   "outputs": [
    {
     "name": "stdout",
     "output_type": "stream",
     "text": [
      "['a' 'tr' 'v' 'xb']\n",
      "Warning: Maximum number of iterations has been exceeded.\n"
     ]
    }
   ],
   "source": [
    "m.optimize()"
   ]
  },
  {
   "cell_type": "code",
   "execution_count": null,
   "metadata": {
    "collapsed": true
   },
   "outputs": [],
   "source": [
    "yhat = m.fits.reshape(2,16)\n",
    "for i, y in enumerate(m.avg_y):\n",
    "      vis.plot_fits(y, yhat[i], kind='radd', save=True, savestr=['bsl', 'pnl'][i])"
   ]
  }
 ],
 "metadata": {
  "kernelspec": {
   "display_name": "Python 2",
   "language": "python",
   "name": "python2"
  },
  "language_info": {
   "codemirror_mode": {
    "name": "ipython",
    "version": 2
   },
   "file_extension": ".py",
   "mimetype": "text/x-python",
   "name": "python",
   "nbconvert_exporter": "python",
   "pygments_lexer": "ipython2",
   "version": "2.7.10"
  }
 },
 "nbformat": 4,
 "nbformat_minor": 0
}
