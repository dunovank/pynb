{
 "cells": [
  {
   "cell_type": "code",
   "execution_count": 2,
   "metadata": {
    "collapsed": false
   },
   "outputs": [],
   "source": [
    "from copy import deepcopy\n",
    "from radd.toolbox.theta import get_optimized_params\n",
    "from radd import fit, models, build\n",
    "from radd.toolbox.analyze import ensure_numerical_wts\n",
    "from radd.toolbox.messages import logger\n",
    "from numpy import array\n",
    "from radd import models\n",
    "from lmfit import Parameters, minimize\n",
    "from radd import fit"
   ]
  },
  {
   "cell_type": "markdown",
   "metadata": {},
   "source": [
    "# Build Model & Optimizer Objects"
   ]
  },
  {
   "cell_type": "code",
   "execution_count": 5,
   "metadata": {
    "collapsed": false,
    "scrolled": false
   },
   "outputs": [
    {
     "name": "stdout",
     "output_type": "stream",
     "text": [
      "/Users/kyle/Dropbox/TEST_NEW_FITS/RE_TESTS\n",
      "\n",
      "      Model is prepared to fit xradd model (w/ hyp dynamic bias) to average data,\n",
      "      allowing Drift-Rate to vary across levels of Cond (bsl, pnl)\n",
      "\n",
      "      It'll probably work this time \n",
      "\n",
      "Warning: Maximum number of function evaluations has been exceeded.\n",
      "at minimum 0.0028 accepted 1\n",
      "at minimum 0.0028 accepted 1\n",
      "at minimum 0.0025 accepted 1\n",
      "at minimum 0.0025 accepted 1\n",
      "at minimum 0.0025 accepted 1\n",
      "at minimum 0.0026 accepted 1\n",
      "at minimum 0.0025 accepted 1\n",
      "at minimum 0.0025 accepted 1\n",
      "at minimum 0.0025 accepted 1\n",
      "at minimum 0.0026 accepted 1\n",
      "at minimum 0.0024 accepted 1\n",
      "at minimum 0.0015 accepted 1\n",
      "at minimum 0.0015 accepted 1\n",
      "at minimum 0.0016 accepted 1\n",
      "at minimum 0.0015 accepted 1\n",
      "at minimum 0.0015 accepted 1\n",
      "at minimum 0.0016 accepted 1\n",
      "at minimum 0.0015 accepted 1\n",
      "at minimum 0.0016 accepted 1\n",
      "at minimum 0.0016 accepted 1\n",
      "at minimum 0.0015 accepted 1\n",
      "at minimum 0.0015 accepted 1\n",
      "at minimum 0.0015 accepted 1\n",
      "at minimum 0.0015 accepted 1\n",
      "at minimum 0.0015 accepted 1\n",
      "at minimum 0.0016 accepted 1\n",
      "at minimum 0.0016 accepted 1\n",
      "at minimum 0.0016 accepted 1\n",
      "at minimum 0.0016 accepted 1\n",
      "at minimum 0.0016 accepted 1\n",
      "at minimum 0.0016 accepted 1\n",
      "at minimum 0.0014 accepted 1\n",
      "at minimum 0.0015 accepted 1\n",
      "at minimum 0.0016 accepted 1\n",
      "at minimum 0.0016 accepted 1\n",
      "at minimum 0.0016 accepted 1\n",
      "at minimum 0.0015 accepted 1\n",
      "at minimum 0.0015 accepted 1\n",
      "at minimum 0.0015 accepted 1\n",
      "at minimum 0.0016 accepted 1\n",
      "at minimum 0.0015 accepted 1\n",
      "at minimum 0.0015 accepted 1\n",
      "at minimum 0.0016 accepted 1\n",
      "Warning: Maximum number of function evaluations has been exceeded.\n"
     ]
    }
   ],
   "source": [
    "os.chdir(pth+'TEST_NEW_FITS/')\n",
    "%cd RE_TESTS/\n",
    "\n",
    "data=redf_store.redata\n",
    "depends_on = {'v':'Cond'}\n",
    "kind = 'xradd'\n",
    "dynamic='hyp'\n",
    "m=build.Model(data=data, depends_on=depends_on, dynamic=dynamic, kind=kind, multiopt=True)\n",
    "#m.inits.pop('z')\n",
    "#m.inits['xb'] = 2\n",
    "m.optimize(tol=1e-5, ntrials=10000, maxfev=500)"
   ]
  },
  {
   "cell_type": "code",
   "execution_count": 8,
   "metadata": {
    "collapsed": false
   },
   "outputs": [
    {
     "name": "stdout",
     "output_type": "stream",
     "text": [
      "\n",
      "      Model is prepared to fit xradd model (w/ exp dynamic bias) to average data,\n",
      "      allowing Drift-Rate to vary across levels of Cond (bsl, pnl)\n",
      "\n",
      "      'They dont think it be like it is, but it do' -Oscar Gamble \n",
      "\n"
     ]
    }
   ],
   "source": [
    "os.chdir(pth+'TEST_NEW_FITS/RE_TESTS')\n",
    "#%cd RE_TESTS\n",
    "data=redf_store.redata\n",
    "depends_on = {'v':'Cond'}\n",
    "kind = 'xradd'\n",
    "dynamic='exp'\n",
    "m=build.Model(data=data, depends_on=depends_on, dynamic='exp', kind=kind, split=50, include_zero_rts=0, multiopt=True)\n",
    "#m.inits.pop('z')\n",
    "m.inits['xb'] = 2"
   ]
  },
  {
   "cell_type": "code",
   "execution_count": null,
   "metadata": {
    "collapsed": false
   },
   "outputs": [],
   "source": [
    "m.optimize(tol=.001, ntrials=5000, maxfev=100)"
   ]
  },
  {
   "cell_type": "code",
   "execution_count": null,
   "metadata": {
    "collapsed": true
   },
   "outputs": [],
   "source": [
    "m.simulate()"
   ]
  },
  {
   "cell_type": "code",
   "execution_count": 12,
   "metadata": {
    "collapsed": false
   },
   "outputs": [
    {
     "data": {
      "text/plain": [
       "[(array([ 0.93303,  0.99832,  0.99475,  0.92163,  0.52271,  0.11097,\n",
       "          0.51926,  0.54445,  0.56167,  0.5793 ,  0.60277,  0.5118 ,\n",
       "          0.53454,  0.55022,  0.5681 ,  0.59144]), 0.96934289021402698),\n",
       " (array([ 0.91655,  1.     ,  0.99571,  0.94848,  0.60625,  0.19046,\n",
       "          0.52269,  0.54909,  0.56819,  0.58504,  0.60809,  0.51988,\n",
       "          0.54233,  0.55632,  0.57324,  0.59786]), 1.0120216520149818)]"
      ]
     },
     "execution_count": 12,
     "metadata": {},
     "output_type": "execute_result"
    }
   ],
   "source": [
    "zip(m.avg_y, m.fits)"
   ]
  },
  {
   "cell_type": "code",
   "execution_count": 15,
   "metadata": {
    "collapsed": false
   },
   "outputs": [
    {
     "data": {
      "image/png": "[encoded data removed]",
      "text/plain": [
       "<matplotlib.figure.Figure at 0x7f95cb304c90>"
      ]
     },
     "metadata": {},
     "output_type": "display_data"
    },
    {
     "data": {
      "image/png": "[encoded data removed]",
      "text/plain": [
       "<matplotlib.figure.Figure at 0x7f95ca835d10>"
      ]
     },
     "metadata": {},
     "output_type": "display_data"
    }
   ],
   "source": [
    "from radd import vis\n",
    "for y, yhat in zip(m.avg_y, m.fits.reshape(2,16)):\n",
    "      \n",
    "      vis.plot_fits(y, yhat, kind='radd')"
   ]
  },
  {
   "cell_type": "code",
   "execution_count": 25,
   "metadata": {
    "collapsed": false
   },
   "outputs": [
    {
     "ename": "NameError",
     "evalue": "name 'fp' is not defined",
     "output_type": "error",
     "traceback": [
      "\u001b[1;31m---------------------------------------------------------------------------\u001b[0m",
      "\u001b[1;31mNameError\u001b[0m                                 Traceback (most recent call last)",
      "\u001b[1;32m<ipython-input-25-621ec7662334>\u001b[0m in \u001b[0;36m<module>\u001b[1;34m()\u001b[0m\n\u001b[0;32m      5\u001b[0m \u001b[0minits\u001b[0m \u001b[1;33m=\u001b[0m \u001b[0mdict\u001b[0m\u001b[1;33m(\u001b[0m\u001b[0mdeepcopy\u001b[0m\u001b[1;33m(\u001b[0m\u001b[0mm\u001b[0m\u001b[1;33m.\u001b[0m\u001b[0minits\u001b[0m\u001b[1;33m)\u001b[0m\u001b[1;33m)\u001b[0m\u001b[1;33m\u001b[0m\u001b[0m\n\u001b[0;32m      6\u001b[0m \u001b[1;33m\u001b[0m\u001b[0m\n\u001b[1;32m----> 7\u001b[1;33m \u001b[0mopt\u001b[0m \u001b[1;33m=\u001b[0m \u001b[0mfit\u001b[0m\u001b[1;33m.\u001b[0m\u001b[0mOptimizer\u001b[0m\u001b[1;33m(\u001b[0m\u001b[0mdframes\u001b[0m\u001b[1;33m=\u001b[0m\u001b[0mm\u001b[0m\u001b[1;33m.\u001b[0m\u001b[0mdframes\u001b[0m\u001b[1;33m,\u001b[0m \u001b[0mfitparams\u001b[0m\u001b[1;33m=\u001b[0m\u001b[0mfp\u001b[0m\u001b[1;33m,\u001b[0m \u001b[0mkind\u001b[0m\u001b[1;33m=\u001b[0m\u001b[0mm\u001b[0m\u001b[1;33m.\u001b[0m\u001b[0mkind\u001b[0m\u001b[1;33m,\u001b[0m \u001b[0minits\u001b[0m\u001b[1;33m=\u001b[0m\u001b[0minits\u001b[0m\u001b[1;33m,\u001b[0m \u001b[0mdepends_on\u001b[0m\u001b[1;33m=\u001b[0m\u001b[0mm\u001b[0m\u001b[1;33m.\u001b[0m\u001b[0mdepends_on\u001b[0m\u001b[1;33m,\u001b[0m \u001b[0mfit_on\u001b[0m\u001b[1;33m=\u001b[0m\u001b[0mm\u001b[0m\u001b[1;33m.\u001b[0m\u001b[0mfit_on\u001b[0m\u001b[1;33m,\u001b[0m \u001b[0mwts\u001b[0m\u001b[1;33m=\u001b[0m\u001b[0mm\u001b[0m\u001b[1;33m.\u001b[0m\u001b[0mwts\u001b[0m\u001b[1;33m,\u001b[0m \u001b[0mpc_map\u001b[0m\u001b[1;33m=\u001b[0m\u001b[0mm\u001b[0m\u001b[1;33m.\u001b[0m\u001b[0mpc_map\u001b[0m\u001b[1;33m,\u001b[0m \u001b[0mmultiopt\u001b[0m\u001b[1;33m=\u001b[0m\u001b[0mTrue\u001b[0m\u001b[1;33m)\u001b[0m\u001b[1;33m\u001b[0m\u001b[0m\n\u001b[0m",
      "\u001b[1;31mNameError\u001b[0m: name 'fp' is not defined"
     ]
    }
   ],
   "source": [
    "#fp = m.set_fitparams(tol=.001, maxfev=50, ntrials=2500, get_params=True)\n",
    "\n",
    "m.__check_inits__()\n",
    "\n",
    "inits = dict(deepcopy(m.inits))\n",
    "\n",
    "opt = fit.Optimizer(dframes=m.dframes, fitparams=fp, kind=m.kind, inits=inits, depends_on=m.depends_on, fit_on=m.fit_on, wts=m.wts, pc_map=m.pc_map, multiopt=True)"
   ]
  },
  {
   "cell_type": "code",
   "execution_count": 664,
   "metadata": {
    "collapsed": false
   },
   "outputs": [
    {
     "data": {
      "text/plain": [
       "                  nfev: 319\n",
       " minimization_failures: 0\n",
       "                   fun: 6.4839296159123721e-05\n",
       "                     x: array([ 1.38793,  1.49569,  1.63167,  1.76764,  1.90361,  2.03958])\n",
       "               message: ['success condition satisfied']\n",
       "                   nit: 2"
      ]
     },
     "execution_count": 664,
     "metadata": {},
     "output_type": "execute_result"
    }
   ],
   "source": [
    "opt.basin"
   ]
  },
  {
   "cell_type": "code",
   "execution_count": 675,
   "metadata": {
    "collapsed": false
   },
   "outputs": [],
   "source": [
    "m.inits['tr'] = basin.x"
   ]
  },
  {
   "cell_type": "code",
   "execution_count": 681,
   "metadata": {
    "collapsed": false
   },
   "outputs": [
    {
     "data": {
      "text/plain": [
       "array([ 0.41155,  0.46931,  0.42599,  0.42599,  0.48014,  0.46209,\n",
       "        0.5112 ,  0.52533,  0.5337 ,  0.5412 ,  0.5497 ,  0.51546,\n",
       "        0.52608,  0.5352 ,  0.5422 ,  0.55194])"
      ]
     },
     "execution_count": 681,
     "metadata": {},
     "output_type": "execute_result"
    }
   ],
   "source": [
    "simulator.simulate_pro(m.inits)"
   ]
  },
  {
   "cell_type": "code",
   "execution_count": 689,
   "metadata": {
    "collapsed": false
   },
   "outputs": [
    {
     "data": {
      "text/plain": [
       "array([ 0.3721 ,  0.3215 ,  0.32824,  0.29265,  0.32772,  0.29323])"
      ]
     },
     "execution_count": 689,
     "metadata": {},
     "output_type": "execute_result"
    }
   ],
   "source": [
    "opt.basin.x"
   ]
  },
  {
   "cell_type": "code",
   "execution_count": 685,
   "metadata": {
    "collapsed": false
   },
   "outputs": [
    {
     "name": "stdout",
     "output_type": "stream",
     "text": [
      "Parameters({\n",
      "    'v_0': <Parameter 'v_0', 1.6960999999999999, bounds=[0.0001:4.0]>, \n",
      "    'v_20': <Parameter 'v_20', 1.6960999999999999, bounds=[0.0001:4.0]>, \n",
      "    'v_40': <Parameter 'v_40', 1.6960999999999999, bounds=[0.0001:4.0]>, \n",
      "    'v_60': <Parameter 'v_60', 1.6960999999999999, bounds=[0.0001:4.0]>, \n",
      "    'v_80': <Parameter 'v_80', 1.6960999999999999, bounds=[0.0001:4.0]>, \n",
      "    'v_100': <Parameter 'v_100', 1.6960999999999999, bounds=[0.0001:4.0]>, \n",
      "    'a': <Parameter 'a', value=0.4748 (fixed), bounds=[0.001:1.0]>, \n",
      "    'xb': <Parameter 'xb', value=0.09 (fixed), bounds=[0.01:10]>, \n",
      "    'z': <Parameter 'z', value=0.001 (fixed), bounds=[0.001:0.9]>, \n",
      "    'tr': <Parameter 'tr', value=0.2725 (fixed), bounds=[0.1:0.55]>, \n",
      "    })\n",
      "\n"
     ]
    }
   ],
   "source": [
    "lmParams.pretty_print()"
   ]
  },
  {
   "cell_type": "code",
   "execution_count": 692,
   "metadata": {
    "collapsed": false
   },
   "outputs": [
    {
     "data": {
      "text/plain": [
       "array([ 0.37443,  0.31093,  0.30389,  0.32597,  0.33074,  0.31697])"
      ]
     },
     "execution_count": 692,
     "metadata": {},
     "output_type": "execute_result"
    }
   ],
   "source": [
    "opt.basin.x"
   ]
  },
  {
   "cell_type": "code",
   "execution_count": 699,
   "metadata": {
    "collapsed": false
   },
   "outputs": [
    {
     "data": {
      "text/plain": [
       "array([ 0.20321])"
      ]
     },
     "execution_count": 699,
     "metadata": {},
     "output_type": "execute_result"
    }
   ],
   "source": [
    "opt.basin.x"
   ]
  },
  {
   "cell_type": "code",
   "execution_count": 702,
   "metadata": {
    "collapsed": false
   },
   "outputs": [
    {
     "name": "stdout",
     "output_type": "stream",
     "text": [
      "Warning: Maximum number of function evaluations has been exceeded.\n",
      "at minimum 0.0000 accepted 1\n",
      "at minimum 0.0000 accepted 1\n",
      "at minimum 0.0000 accepted 1\n",
      "at minimum 0.0000 accepted 1\n",
      "at minimum 0.0000 accepted 1\n",
      "at minimum 0.0000 accepted 1\n",
      "at minimum 0.0000 accepted 1\n",
      "at minimum 0.0000 accepted 1\n",
      "at minimum 0.0000 accepted 1\n",
      "at minimum 0.0000 accepted 1\n",
      "at minimum 0.0000 accepted 1\n",
      "at minimum 0.0000 accepted 1\n",
      "at minimum 0.0000 accepted 1\n",
      "at minimum 0.0000 accepted 1\n",
      "Parameters({\n",
      "    'tr_0': <Parameter 'tr_0', 0.37192247224568975, bounds=[0.1:0.55]>, \n",
      "    'tr_20': <Parameter 'tr_20', 0.3493074183749153, bounds=[0.1:0.55]>, \n",
      "    'tr_40': <Parameter 'tr_40', 0.32404826346270965, bounds=[0.1:0.55]>, \n",
      "    'tr_60': <Parameter 'tr_60', 0.30391605415529144, bounds=[0.1:0.55]>, \n",
      "    'tr_80': <Parameter 'tr_80', 0.25648242894291007, bounds=[0.1:0.55]>, \n",
      "    'tr_100': <Parameter 'tr_100', 0.23567729432524392, bounds=[0.1:0.55]>, \n",
      "    })\n",
      "\n",
      "Warning: Maximum number of function evaluations has been exceeded.\n"
     ]
    },
    {
     "data": {
      "text/plain": [
       "(array([ 0.89598,  0.73913,  0.47924,  0.24638,  0.0822 ,  0.08887,\n",
       "         0.53244,  0.54358,  0.55382,  0.59752,  0.55749,  0.52379,\n",
       "         0.5004 ,  0.43722,  0.51697,  0.54125]),\n",
       " {'AIC': -81.584329734221896,\n",
       "  'BIC': -76.948797400783207,\n",
       "  'CNVRG': False,\n",
       "  'a': array([ 0.32583]),\n",
       "  'chi': 0.028827211,\n",
       "  'nfev': 50,\n",
       "  'rchi': 0.0028827210888266565,\n",
       "  'tr_0': 0.37254519484319903,\n",
       "  'tr_100': 0.23634044872822793,\n",
       "  'tr_20': 0.34938354780399805,\n",
       "  'tr_40': 0.32401873301015321,\n",
       "  'tr_60': 0.30326386990639054,\n",
       "  'tr_80': 0.25884997169479718,\n",
       "  'v': array([ 1.3845]),\n",
       "  'xb': array([ 0.08945]),\n",
       "  'z': 0.00019230435772400002},\n",
       " {'a': array([ 0.32583]),\n",
       "  'tr_0': 0.37254519484319903,\n",
       "  'tr_100': 0.23634044872822793,\n",
       "  'tr_20': 0.34938354780399805,\n",
       "  'tr_40': 0.32401873301015321,\n",
       "  'tr_60': 0.30326386990639054,\n",
       "  'tr_80': 0.25884997169479718,\n",
       "  'v': array([ 1.3845]),\n",
       "  'xb': array([ 0.08945]),\n",
       "  'z': 0.00019230435772400002})"
      ]
     },
     "execution_count": 702,
     "metadata": {},
     "output_type": "execute_result"
    }
   ],
   "source": [
    "opt.optimize_model()"
   ]
  },
  {
   "cell_type": "markdown",
   "metadata": {},
   "source": [
    "# Setup Model/Parameters"
   ]
  },
  {
   "cell_type": "code",
   "execution_count": 527,
   "metadata": {
    "collapsed": false
   },
   "outputs": [
    {
     "data": {
      "text/plain": [
       "{'a': 0.3267, 'tr': 0.3192, 'v': 1.3813, 'xb': 0.09, 'z': 0}"
      ]
     },
     "execution_count": 527,
     "metadata": {},
     "output_type": "execute_result"
    }
   ],
   "source": [
    "inits"
   ]
  },
  {
   "cell_type": "code",
   "execution_count": 587,
   "metadata": {
    "collapsed": false
   },
   "outputs": [],
   "source": [
    "pnames = deepcopy(opt.pnames)\n",
    "pfit = list(set(m.inits.keys()).intersection(pnames))\n",
    "lim = set_bounds(dynamic=m.dynamic)\n",
    "fp = m.fitparams\n",
    "fp['tol']=.0001\n",
    "fp['maxfev']=1000\n",
    "is_flat = False\n",
    "\n",
    "ip = deepcopy(inits)\n",
    "lmParams=Parameters()\n",
    "\n",
    "for pkey, pc_list in m.pc_map.items():\n",
    "      if is_flat: \n",
    "            break\n",
    "      else:\n",
    "            pfit.remove(pkey)\n",
    "            #bump = np.linspace(.8,1.20,opt.ncond)\n",
    "            bump=np.ones(opt.ncond)\n",
    "            if pkey in ['a', 'tr']:                        \n",
    "                  bump = bump[::-1]\n",
    "            vals = ip[pkey]*bump\n",
    "            \n",
    "      mn = lim[pkey][0]; mx=lim[pkey][1]\n",
    "      d0 = [lmParams.add(pc, value=vals[i], vary=1, min=mn, max=mx) for i, pc in enumerate(pc_list)]\n",
    "\n",
    "p0 = [lmParams.add(k, value=ip[k], vary=is_flat, min=lim[k][0], max=lim[k][1]) for k in pfit]\n",
    "opt_kws = {'disp':fp['disp'], 'xtol':fp['tol'], 'ftol':fp['tol'], 'maxfev':fp['maxfev']}\n",
    "\n",
    "simulator = models.Simulator(model=m, inits=lmParams.valuesdict())\n",
    "if is_flat:\n",
    "      simulator.wts = fp['fwts']\n",
    "      simulator.y = fp['flat_y']\n",
    "else:\n",
    "      simulator.wts = m.wts\n",
    "      simulator.y = m.avg_y\n",
    "p = simulator.vectorize_params(m.inits)"
   ]
  },
  {
   "cell_type": "code",
   "execution_count": 581,
   "metadata": {
    "collapsed": false
   },
   "outputs": [],
   "source": [
    "simulator = models.Simulator(model=m, inits=lmParams.valuesdict())"
   ]
  },
  {
   "cell_type": "markdown",
   "metadata": {},
   "source": [
    "# Fit Model"
   ]
  },
  {
   "cell_type": "code",
   "execution_count": 500,
   "metadata": {
    "collapsed": true
   },
   "outputs": [],
   "source": [
    "def cost_fx_local(p):\n",
    "      \n",
    "      yhat = simulator.sim_fx(p.valuesdict(), analyze=True)\n",
    "      cost = (yhat - simulator.y)*simulator.wts\n",
    "      return cost"
   ]
  },
  {
   "cell_type": "code",
   "execution_count": 549,
   "metadata": {
    "collapsed": false,
    "scrolled": true
   },
   "outputs": [
    {
     "name": "stdout",
     "output_type": "stream",
     "text": [
      "[[Variables]]\n",
      "    tr_0:     0.31909833 (init= 0.3192)\n",
      "    tr_20:    0.31910618 (init= 0.3192)\n",
      "    tr_40:    0.31910566 (init= 0.3192)\n",
      "    tr_60:    0.31910255 (init= 0.3192)\n",
      "    tr_80:    0.31910552 (init= 0.3192)\n",
      "    tr_100:   0.31910322 (init= 0.3192)\n",
      "    a:        0.3267 (fixed)\n",
      "    xb:       0.09 (fixed)\n",
      "    z:        0.001 (fixed)\n",
      "    v:        1.3813 (fixed)\n",
      "[[Correlations]] (unreported correlations are <  0.100)\n"
     ]
    }
   ],
   "source": [
    "from lmfit import report_fit\n",
    "report_fit(optp)\n"
   ]
  },
  {
   "cell_type": "code",
   "execution_count": 551,
   "metadata": {
    "collapsed": false
   },
   "outputs": [],
   "source": [
    "# OPTIMIZE THETA\n",
    "optmod = minimize(simulator.__cost_fx__, lmParams, method='ba')#, options={'maxfev':1000})#opt_kws)\n",
    "optp = optmod.params\n",
    "finfo = {k:optp[k].value for k in optp.keys()}\n",
    "popt = deepcopy(finfo)\n",
    "residual = optmod.residual\n",
    "yhat = simulator.y + residual\n",
    "wts = simulator.wts\n",
    "log_arrays = {'y': simulator.y, 'yhat':yhat, 'wts':wts}\n",
    "logger(optmod=optmod, finfo=finfo, depends_on=fp['depends_on'], log_arrays=log_arrays, kind=m.kind, fit_id='test tr')"
   ]
  },
  {
   "cell_type": "code",
   "execution_count": 584,
   "metadata": {
    "collapsed": false
   },
   "outputs": [
    {
     "ename": "KeyError",
     "evalue": "'v'",
     "output_type": "error",
     "traceback": [
      "\u001b[0;31m---------------------------------------------------------------------------\u001b[0m",
      "\u001b[0;31mKeyError\u001b[0m                                  Traceback (most recent call last)",
      "\u001b[0;32m<ipython-input-584-a9a654a3a74b>\u001b[0m in \u001b[0;36m<module>\u001b[0;34m()\u001b[0m\n\u001b[0;32m----> 1\u001b[0;31m \u001b[0mp\u001b[0m \u001b[0;34m=\u001b[0m \u001b[0msimulator\u001b[0m\u001b[0;34m.\u001b[0m\u001b[0mvectorize_params\u001b[0m\u001b[0;34m(\u001b[0m\u001b[0mm\u001b[0m\u001b[0;34m.\u001b[0m\u001b[0minits\u001b[0m\u001b[0;34m)\u001b[0m\u001b[0;34m\u001b[0m\u001b[0m\n\u001b[0m",
      "\u001b[0;32m/Users/kyle/Dropbox/Git/radd/models.py\u001b[0m in \u001b[0;36mvectorize_params\u001b[0;34m(self, p)\u001b[0m\n\u001b[1;32m    165\u001b[0m                         \u001b[0;32mbreak\u001b[0m\u001b[0;34m\u001b[0m\u001b[0m\n\u001b[1;32m    166\u001b[0m                   \u001b[0;32melif\u001b[0m \u001b[0mpkc\u001b[0m\u001b[0;34m[\u001b[0m\u001b[0;36m0\u001b[0m\u001b[0;34m]\u001b[0m \u001b[0;32mnot\u001b[0m \u001b[0;32min\u001b[0m \u001b[0mp\u001b[0m\u001b[0;34m.\u001b[0m\u001b[0mkeys\u001b[0m\u001b[0;34m(\u001b[0m\u001b[0;34m)\u001b[0m\u001b[0;34m:\u001b[0m\u001b[0;34m\u001b[0m\u001b[0m\n\u001b[0;32m--> 167\u001b[0;31m                         \u001b[0mp\u001b[0m\u001b[0;34m[\u001b[0m\u001b[0mpkey\u001b[0m\u001b[0;34m]\u001b[0m \u001b[0;34m=\u001b[0m \u001b[0mp\u001b[0m\u001b[0;34m[\u001b[0m\u001b[0mpkey\u001b[0m\u001b[0;34m]\u001b[0m\u001b[0;34m*\u001b[0m\u001b[0mnp\u001b[0m\u001b[0;34m.\u001b[0m\u001b[0mones\u001b[0m\u001b[0;34m(\u001b[0m\u001b[0mlen\u001b[0m\u001b[0;34m(\u001b[0m\u001b[0mpkc\u001b[0m\u001b[0;34m)\u001b[0m\u001b[0;34m)\u001b[0m\u001b[0;34m\u001b[0m\u001b[0m\n\u001b[0m\u001b[1;32m    168\u001b[0m                   \u001b[0;32melse\u001b[0m\u001b[0;34m:\u001b[0m\u001b[0;34m\u001b[0m\u001b[0m\n\u001b[1;32m    169\u001b[0m                         \u001b[0;31m#if pkey in ['a', 'tr']:\u001b[0m\u001b[0;34m\u001b[0m\u001b[0;34m\u001b[0m\u001b[0m\n",
      "\u001b[0;31mKeyError\u001b[0m: 'v'"
     ]
    }
   ],
   "source": [
    "p = simulator.vectorize_params(m.inits)"
   ]
  },
  {
   "cell_type": "code",
   "execution_count": null,
   "metadata": {
    "collapsed": true
   },
   "outputs": [],
   "source": []
  },
  {
   "cell_type": "code",
   "execution_count": 557,
   "metadata": {
    "collapsed": false
   },
   "outputs": [
    {
     "data": {
      "text/plain": [
       "{'a': array([ 0.3267,  0.3267,  0.3267,  0.3267,  0.3267,  0.3267]),\n",
       " 'tr': array([ 0.3192,  0.3192,  0.3192,  0.3192,  0.3192,  0.3192]),\n",
       " 'v': array([ 1.3813,  1.3813,  1.3813,  1.3813,  1.3813,  1.3813]),\n",
       " 'xb': array([ 0.09,  0.09,  0.09,  0.09,  0.09,  0.09]),\n",
       " 'z': 0}"
      ]
     },
     "execution_count": 557,
     "metadata": {},
     "output_type": "execute_result"
    }
   ],
   "source": [
    "p['a'] = p['a'][0]\n",
    "p['tr'] = p['tr'][0]"
   ]
  },
  {
   "cell_type": "code",
   "execution_count": 565,
   "metadata": {
    "collapsed": false
   },
   "outputs": [
    {
     "data": {
      "text/plain": [
       "array([ 1.10504,  1.21554,  1.32605,  1.43655,  1.54706,  1.65756])"
      ]
     },
     "execution_count": 565,
     "metadata": {},
     "output_type": "execute_result"
    }
   ],
   "source": [
    "vals"
   ]
  },
  {
   "cell_type": "code",
   "execution_count": 602,
   "metadata": {
    "collapsed": false
   },
   "outputs": [],
   "source": [
    "\n",
    "for pkey, pc_list in m.pc_map.items():\n",
    "      if is_flat: \n",
    "            break\n",
    "      else:\n",
    "            #pfit.remove(pkey)\n",
    "            bump = np.linspace(.8,1.20,opt.ncond)\n",
    "            #bump=np.ones(opt.ncond)\n",
    "            if pkey in ['a', 'tr']:                        \n",
    "                  bump = bump[::-1]\n",
    "            vals = ip[pkey]*bump\n",
    "      for v in vals:\n",
    "            m.inits[pkey] = vals\n",
    "      #mn = lim[pkey][0]; mx=lim[pkey][1]\n",
    "      #d0 = [lmParams.add(pc, value=vals[i], vary=1, min=mn, max=mx) for i, pc in enumerate(pc_list)]\n"
   ]
  },
  {
   "cell_type": "code",
   "execution_count": 603,
   "metadata": {
    "collapsed": false,
    "scrolled": true
   },
   "outputs": [
    {
     "data": {
      "text/plain": [
       "{'a': 0.4748,\n",
       " 'tr': 0.2725,\n",
       " 'v': array([ 1.35688,  1.49257,  1.62826,  1.76394,  1.89963,  2.03532]),\n",
       " 'xb': 0.09,\n",
       " 'z': 0}"
      ]
     },
     "execution_count": 603,
     "metadata": {},
     "output_type": "execute_result"
    }
   ],
   "source": [
    "m.inits"
   ]
  },
  {
   "cell_type": "code",
   "execution_count": 623,
   "metadata": {
    "collapsed": false
   },
   "outputs": [
    {
     "name": "stdout",
     "output_type": "stream",
     "text": [
      "\n",
      "      Model is prepared to fit xpro model (w/ hyp dynamic bias) to average data,\n",
      "      allowing Drift-Rate to vary across levels of pGo (0, 20, 40, 60, 80, 100)\n",
      "\n",
      "      It'll probably work this time \n",
      "\n"
     ]
    }
   ],
   "source": [
    "data=prodf_store.prodata\n",
    "depends_on = {'v':'pGo'}\n",
    "kind = 'xpro'\n",
    "\n",
    "m=build.Model(data=data, depends_on=depends_on, kind=kind, split=50, include_zero_rts=0)\n",
    "fp = m.set_fitparams(tol=.00001, get_params=True)\n",
    "\n",
    "m.__check_inits__()\n",
    "\n",
    "inits = dict(deepcopy(m.inits))\n",
    "\n",
    "opt = fit.Optimizer(dframes=m.dframes, fitparams=fp, kind=m.kind, inits=inits, depends_on=m.depends_on, fit_on=m.fit_on, wts=m.wts, pc_map=m.pc_map)\n",
    "\n",
    "\n",
    "\n",
    "\n",
    "for pkey, pc_list in m.pc_map.items():\n",
    "      if is_flat: \n",
    "            break\n",
    "      else:\n",
    "            #pfit.remove(pkey)\n",
    "            bump = np.linspace(.8,1.20,opt.ncond)\n",
    "            #bump=np.ones(opt.ncond)\n",
    "            if pkey in ['a', 'tr']:                        \n",
    "                  bump = bump[::-1]\n",
    "            vals = ip[pkey]*bump\n",
    "      for v in vals:\n",
    "            m.inits[pkey] = vals\n",
    "      #mn = lim[pkey][0]; mx=lim[pkey][1]\n",
    "      #d0 = [lmParams.add(pc, value=vals[i], vary=1, min=mn, max=mx) for i, pc in enumerate(pc_list)]\n",
    "\n",
    "simulator = models.Simulator(m)\n",
    "simulator.minimize_simulator_params = m.inits\n",
    "simulator.minimize_simulator_name = 'v'\n",
    "simulator.y = m.avg_y\n"
   ]
  },
  {
   "cell_type": "code",
   "execution_count": 630,
   "metadata": {
    "collapsed": false
   },
   "outputs": [
    {
     "data": {
      "text/plain": [
       "array([ 1.35688,  1.49257,  1.62826,  1.76394,  1.89963,  2.03532])"
      ]
     },
     "execution_count": 630,
     "metadata": {},
     "output_type": "execute_result"
    }
   ],
   "source": [
    "x = m.inits['v']\n",
    "x"
   ]
  },
  {
   "cell_type": "code",
   "execution_count": 625,
   "metadata": {
    "collapsed": true
   },
   "outputs": [],
   "source": [
    "def print_fun(x, f, accepted):\n",
    "      print(\"at minimum %.4f accepted %d\" % (f, int(accepted)))"
   ]
  },
  {
   "cell_type": "code",
   "execution_count": 634,
   "metadata": {
    "collapsed": false
   },
   "outputs": [],
   "source": [
    "m.inits['v'] = array([ 1.39269,  1.48635,  1.6373 ,  1.77374,  1.91019,  2.04663])"
   ]
  },
  {
   "cell_type": "code",
   "execution_count": 636,
   "metadata": {
    "collapsed": false
   },
   "outputs": [
    {
     "data": {
      "text/plain": [
       "{'a': array([ 0.4748,  0.4748,  0.4748,  0.4748,  0.4748,  0.4748]),\n",
       " 'tr': array([ 0.2725,  0.2725,  0.2725,  0.2725,  0.2725,  0.2725]),\n",
       " 'v': array([ 1.39269,  1.48635,  1.6373 ,  1.77374,  1.91019,  2.04663]),\n",
       " 'xb': array([ 0.09,  0.09,  0.09,  0.09,  0.09,  0.09]),\n",
       " 'z': 0}"
      ]
     },
     "execution_count": 636,
     "metadata": {},
     "output_type": "execute_result"
    }
   ],
   "source": [
    "m.inits"
   ]
  },
  {
   "cell_type": "code",
   "execution_count": null,
   "metadata": {
    "collapsed": true
   },
   "outputs": [],
   "source": []
  },
  {
   "cell_type": "code",
   "execution_count": 635,
   "metadata": {
    "collapsed": false
   },
   "outputs": [
    {
     "data": {
      "text/plain": [
       "array([ 0.91697,  0.84838,  0.59567,  0.23466,  0.07581,  0.00722,\n",
       "        0.52134,  0.534  ,  0.542  ,  0.5485 ,  0.55579,  0.4987 ,\n",
       "        0.5085 ,  0.51583,  0.52317,  0.53246])"
      ]
     },
     "execution_count": 635,
     "metadata": {},
     "output_type": "execute_result"
    }
   ],
   "source": [
    "simulator.sim_fx(m.inits)"
   ]
  },
  {
   "cell_type": "code",
   "execution_count": 632,
   "metadata": {
    "collapsed": false,
    "scrolled": false
   },
   "outputs": [
    {
     "name": "stdout",
     "output_type": "stream",
     "text": [
      "at minimum 0.0072 accepted 1\n",
      "at minimum 0.0072 accepted 1\n"
     ]
    },
    {
     "data": {
      "text/plain": [
       "                  nfev: 359\n",
       " minimization_failures: 0\n",
       "                   fun: 1.4643028571569429e-06\n",
       "                     x: array([ 1.39269,  1.48635,  1.6373 ,  1.77374,  1.91019,  2.04663])\n",
       "               message: ['success condition satisfied']\n",
       "                   nit: 2"
      ]
     },
     "execution_count": 632,
     "metadata": {},
     "output_type": "execute_result"
    }
   ],
   "source": [
    "from scipy.optimize import basinhopping\n",
    "minimizer_kwargs = {\"method\":\"Nelder-Mead\", \"jac\":True}\n",
    "basin = basinhopping(simulator.minimize_simulator, x, stepsize=.5, minimizer_kwargs=minimizer_kwargs, niter_success=1, callback=print_fun)"
   ]
  },
  {
   "cell_type": "code",
   "execution_count": 582,
   "metadata": {
    "collapsed": false
   },
   "outputs": [],
   "source": [
    "x = m.inits.pop('v')"
   ]
  },
  {
   "cell_type": "code",
   "execution_count": 583,
   "metadata": {
    "collapsed": false
   },
   "outputs": [
    {
     "data": {
      "text/plain": [
       "1.6961"
      ]
     },
     "execution_count": 583,
     "metadata": {},
     "output_type": "execute_result"
    }
   ],
   "source": [
    "x"
   ]
  },
  {
   "cell_type": "code",
   "execution_count": 405,
   "metadata": {
    "collapsed": true
   },
   "outputs": [],
   "source": [
    "def set_bounds(a=(.001, 1.000), tr=(.01, .55), v=(.0001, 4.0000), z=(.001, .900), ssv=(-4.000, -.0001), xb=(.01,10), si=(.001, .2), dynamic='hyp'):\n",
    "\n",
    "      \"\"\" set and return boundaries to limit search space\n",
    "      of parameter optimization in <optimize_theta>\n",
    "      \"\"\"\n",
    "\n",
    "      if dynamic == 'exp':\n",
    "            xb = (.01, 10)\n",
    "      elif dynamic == 'hyp':\n",
    "            #xb = (.001, .1)\n",
    "            xb = (.01, 10)\n",
    "\n",
    "      if 'irace' in kind:\n",
    "            ssv=(abs(ssv[1]), abs(ssv[0]))\n",
    "\n",
    "      bounds = {'a': a, 'tr': tr, 'v': v, 'ssv': ssv, 'z': z, 'xb':xb, 'si':si}\n",
    "      return bounds\n"
   ]
  },
  {
   "cell_type": "code",
   "execution_count": 31,
   "metadata": {
    "collapsed": true
   },
   "outputs": [],
   "source": [
    "p = m.sim.vectorize_params(p)"
   ]
  },
  {
   "cell_type": "code",
   "execution_count": 309,
   "metadata": {
    "collapsed": false
   },
   "outputs": [
    {
     "data": {
      "text/plain": [
       "Parameters([('tr_0', <Parameter 'tr_0', 0.32008138204308784, bounds=[0.001:0.55]>), ('tr_20', <Parameter 'tr_20', 0.32008138204308784, bounds=[0.001:0.55]>), ('tr_40', <Parameter 'tr_40', 0.32008138204308784, bounds=[0.001:0.55]>), ('tr_60', <Parameter 'tr_60', 0.32008138204308784, bounds=[0.001:0.55]>), ('tr_80', <Parameter 'tr_80', 0.32008138204308784, bounds=[0.001:0.55]>), ('tr_100', <Parameter 'tr_100', 0.32008138204308784, bounds=[0.001:0.55]>), ('a', <Parameter 'a', value=0.32511466588689114 (fixed), bounds=[0.001:1.0]>), ('z', <Parameter 'z', value=0.0010029295479902526 (fixed), bounds=[0.001:0.9]>), ('v', <Parameter 'v', value=1.3800721260201678 (fixed), bounds=[0.0001:4.0]>)])"
      ]
     },
     "execution_count": 309,
     "metadata": {},
     "output_type": "execute_result"
    }
   ],
   "source": [
    "m.opt.lmParams"
   ]
  },
  {
   "cell_type": "code",
   "execution_count": 498,
   "metadata": {
    "collapsed": false
   },
   "outputs": [
    {
     "data": {
      "text/plain": [
       "[<matplotlib.lines.Line2D at 0x11595cfd0>]"
      ]
     },
     "execution_count": 498,
     "metadata": {},
     "output_type": "execute_result"
    },
    {
     "data": {
      "text/html": [
       "<img src='data:image/png;base64,iVBORw0KGgoAAAANSUhEUgAAA+cAAAK5CAYAAADdDV+PAAAABHNCSVQICAgIfAhkiAAAAAlwSFlz\n",
       "AAAWJQAAFiUBSVIk8AAAIABJREFUeJzs3XlcVXXi//H3ZRVFScQNCbdUNBcURdRps8WsUVNbXDLT\n",
       "TG1+Oos1NZUr5tRUztSYk2aZC2Fli+WkaU01WS6ISy6IuKOo4AIo+3Z+f/Tt2E2ckO3Dhdfz8ZjH\n",
       "o/O+98Abuz0e8/ZeznFYlmUJAAAAAAAY42a6AAAAAAAANR3jHAAAAAAAwxjnAAAAAAAYxjgHAAAA\n",
       "AMAwxjkAAAAAAIYxzgEAAAAAMIxxDgAAAACAYYxzAAAAAAAMY5wDAAAAAGAY4xwAAAAAAMMY5wAA\n",
       "AAAAGMY4vwrt2rVTu3btTNdANcJrCuWN1xTKG68plDdeUyhPvJ5Q3ky+phjnAAAAAAAYVi7jPDk5\n",
       "WWFhYVq6dGmJz0lLS1NkZKT69u2r0NBQDRkyRGvWrCn2uX/+858VEhJS7P/mzp1bHj8CAAAAAADG\n",
       "eJT1C2RmZmry5MnKzMyUw+Eo0TlZWVkaO3as4uPj1b9/fzVt2lTr1q3TlClTlJqaqpEjRzo9Pz4+\n",
       "XgEBARo2bNhlXyssLKysPwIAAAAAAEaVaZwnJSVp8uTJiouLu6rzli1bpri4OE2fPl0jRoyQJD32\n",
       "2GMaNmyYXn75ZfXv31/+/v6SpPz8fB05ckR9+/bVpEmTylIXAAAAAIAqqdQfa1+yZIkGDBighIQE\n",
       "RUREXNW50dHRCggI0PDhw+2sTp06mjhxorKzs7V69Wo7P3TokAoKCtS2bdvSVgUAAAAAoEor9Thf\n",
       "tmyZgoKCFBUVpUGDBpX4vMTERKWkpKh79+6XfQw+PDxckhQbG2tn+/fvlySFhISUtioAAAAAAFVa\n",
       "qT/WPnv2bPXu3VsOh0OHDx8u8XmJiYmSpODg4Msea9iwoby8vHT06FE7+2mcHz58WMOGDdP+/fvl\n",
       "4+Ojm266SX/605/UqFGj0v4IAAAAAABUCaV+57xPnz4lvgDcz6WlpUmS6tatW+zjvr6+unjxon38\n",
       "0zj/17/+peDgYA0bNkwtWrTQxx9/rPvuu0/JycmlaA8AAAAAQNVR5qu1X62CggJJkpeXV7GPe3l5\n",
       "KTc31z728fFRixYtNH/+fLVu3drOFyxYoFdeeUXPPfec5s2bV7GlAQAAAACoQJU+zr29vSX9eBX2\n",
       "4uTl5cnHx8c+fu2114p93oQJE7Ry5Up9/fXXys7OdjoHAAAAAABXUunj3M/PT5KcPrr+cxkZGWrY\n",
       "sOGvfh2Hw6GQkBAlJSXp9OnTatmyZan6tGvX7qrPufHGG9W8efNSfT+gOKNGjTJdAdUMrymUN15T\n",
       "KG+8plCeeD2hvF3NTvzpV7HLqtLHeYsWLSRJJ06cuOyxlJQU5eXl2UM7NzdX+/fvl7e3d7F/ODk5\n",
       "OZIuvRtfWZKTk/ldd5SrmJgY0xVQzfCaQnnjNYXyxmsK5YnXE6qDSh/ngYGBCgwM1LZt22RZltNF\n",
       "5X76jyo0NFTSjyP4/vvvV9u2bfXpp586fZ3s7GzFxcWpQYMGCgwMLHWfq/lbjhtvvFHJycmqW7eu\n",
       "2rdvX+rvCQAAAACoevbt26eLFy+qcePG+vbbbyv1e1f6OJekgQMHasGCBYqKirI/gpKRkaEFCxbI\n",
       "x8fHvm96cHCwQkJCFB8fr9WrV2vAgAGSJMuyNHfuXKWmpmrSpEmV1rt58+ZKTk5W+/bttXz58kr7\n",
       "vgAAAACAijdq1CjFxMQY+TXmCh/n8+bNk8PhcBrR48aN09q1azVnzhxt3bpVQUFBWr9+vZKSkjR1\n",
       "6lTVr1/ffu6sWbM0evRoPfnkk1q/fr0CAwMVGxurvXv3qkePHpowYUJF/wgAAAAAAFSoUt/n/Occ\n",
       "DscV73k+f/58zZ8/3ynz9fVVdHS0hg4dqtjYWK1YsUJ+fn6aO3euRo4c6fTcLl26aOXKlbr99tsV\n",
       "ExOj6OhoZWdn649//KMWL14sT0/P8vgRAAAAAAAwplzeOR88eLAGDx5c7GPx8fHF5g0aNNCcOXNK\n",
       "9PXbtGmjf/7zn6XuBwAAAABAVVYu75wDAAAAAIDSY5wDAAAAAGAY4xwAAAAAAMMY5wAAAAAAGMY4\n",
       "BwAAAADAMMY5AAAAAACGMc4BAAAAADCMcQ4AAAAAgGGMcwAAAAAADGOcAwAAAABgGOMcAAAAAADD\n",
       "GOcAAAAAABjGOAcAAAAAwDDGOQAAAAAAhjHOAQAAAAAwjHEOAAAAAIBhjHMAAAAAAAxjnAMAAAAA\n",
       "YBjjHAAAAAAAwxjnAAAAAAAYxjgHAAAAAMAwxjkAAAAAAIYxzgEAAAAAMIxxDgAAAACAYYxzAAAA\n",
       "AAAMY5wDAAAAAGAY4xwAAAAAAMMY5wAAAAAAGMY4BwAAAADAMMY5AAAAAACGMc4BAAAAADCMcQ4A\n",
       "AAAAgGGMcwAAAAAADGOcAwAAAABgGOMcAAAAAADDGOcAAAAAABjGOAcAAAAAwDDGOQAAAAAAhjHO\n",
       "AQAAAAAwjHEOAAAAAIBhjHMAAAAAAAxjnAMAAAAAYBjjHAAAAAAAwxjnAAAAAAAYxjgHAAAAAMAw\n",
       "xjkAAAAAAIYxzgEAAAAAMIxxDgAAAACAYYxzAAAAAAAM8zBdAAAAAAAAk44nX9SHXx9QSmqWsQ6M\n",
       "cwAAAABAjXX6XKaeem2DLmblK/mcuXHOx9oBAAAAADVSTm6B5rwdo4tZ+aarMM4BAAAAADWPZVn6\n",
       "5/s7dfTUBTvz8Tb34XLGOQAAAACgxvno64PasDPJPvbz9VJwk7rG+jDOAQAAAAA1yrb4ZC1dE2cf\n",
       "u7s59NRDPeTl6W6sE+McAAAAAFBjnDyboZeitsmyLmXjBnVUp9YB5kqJcQ4AAAAAqCGy/+8CcJnZ\n",
       "ly4Ad1uPYN3dp6XBVj9inAMAAAAAqj3LsvSPFduVePqinbUNvkaPDe0sh8NhsNmPGOcAAAAAgGrv\n",
       "/f8kaNPuU/bxNXW99czD4UZ/z/znGOcAAAAAgGpta9xpvfN5vH3s4e7Q06N7qIGfj8FWzhjnAAAA\n",
       "AIBq60TKRb38jvMF4MYP7qwOLRuYK1UMxjkAAAAAoFrKysnXnLdjlJVTYGf9Ipqrf68W5kpdAeMc\n",
       "AAAAAFDtFBVZ+nv0dp1IybCzkOb1NWFwJ4OtroxxDgAAAACodt79Yr+27D1tH/vX89bTD4fL06Nq\n",
       "XADulxjnAAAAAIBqZdPuU1qxfr997OHupqcfDpd/vVoGW/1vjHMAAAAAQLWRePqC/rFim1P2u6Gd\n",
       "FdLc31CjkmGcAwAAAACqhYzsHy8Al51baGd39W6h23s2N9iqZBjnAAAAAACXV1hk6eWoWJ08m2ln\n",
       "17dqoHGDquYF4H6JcQ4AAAAAcHnvfL5P2+JT7OMAv1p66qHu8vRwjdnrGi0BAAAAALiC7384qZX/\n",
       "OWAfe3q46Zkx4apft+peAO6XGOcAAAAAAJd19NQFvfLudqds0n1d1Oba+oYalQ7jHAAAAADgktIz\n",
       "cjV78Rbl5F26ANzAG1qpb/dgg61Kh3EOAAAAAHA5BYVFemHZVqWcz7KzztcFaMyA6w22Kj3GOQAA\n",
       "AADA5byxarf2HDpnHzf2r62nHuohD3fXnLmu2RoAAAAAUGOt3XhEazcetY99vN01bWxP1avjZa5U\n",
       "GTHOAQAAAAAuY/ehs1r48W6nbMqIMDVvWs9Qo/LBOAcAAAAAuITk81l6YelWFRZZdvbgnSGK6NjU\n",
       "YKvywTgHAAAAAFR52bkFem7xFl3IzLOzPl0Cdf9tbQ22Kj+McwAAAABAlVZUZOmVd7fr6KkLdtYq\n",
       "0E9/fKCrHA6HwWblh3EOAAAAAKjS3vtivzbuOmUf+/l66dmx4arl7WGwVflinAMAAAAAqqyNu04q\n",
       "ev1++9jD3aGnR4erUf3aBluVP8Y5AAAAAKBKOnIyXX9fsd0pmziki65v1cBQo4rDOAcAAAAAVDnp\n",
       "Gbl6bvEW5eYV2tlv+7RUv4jmBltVHMY5AAAAAKBKyS8o0vNLtyolNdvOOl8XoEcGdTTYqmIxzgEA\n",
       "AAAAVcqiVbu19/A5+7hJg9p66qEe8nCvvhO2+v5kAAAAAACXs2bjEa3ddNQ+9vF219SxPVWvjpex\n",
       "TpWBcQ4AAAAAqBJ2HzqrNz7ebR87HNLjI8LUvEk9g60qB+McAAAAAGDc6XOZen7JVhUWWXY28s4Q\n",
       "9ezY1GCrysM4BwAAAAAYlZ1boDlvx+hiVp6d3RDaTPff2tZgq8rFOAcAAAAAGFNUZGnuO9t09NQF\n",
       "O2vVzE+/fyBUDofDYLPKxTgHAAAAABizbE2ctuw9bR9f4+utZ8eEq5aXh8FWlY9xDgAAAAAw4qvY\n",
       "RH349UH72MPdTc+OCVej+rUNtjKDcQ4AAAAAqHT7jpzXvPd/cMom3x+qkBb+hhqZxTgHAAAAAFSq\n",
       "lPNZ+uuSGBUUFtnZvX3bqG/3aw22MotxDgAAAACoNNm5BZq9eIvSMnLtrOf1TTSqf3uDrcxjnAMA\n",
       "AAAAKkVxV2ZvGVhPj48Mk5tbzbkye3EY5wAAAACASrF87b7Lrsw+dWxP+XjXrCuzF4dxDgAAAACo\n",
       "cF/FJuqDrw7YxzX5yuzFYZwDAAAAACoUV2b/dYxzAAAAAECF4crsJcM4BwAAAABUCK7MXnKMcwAA\n",
       "AABAuSvuyuwtmnJl9ithnAMAAAAAyl1xV2afxpXZr4hxDgAAAAAoV1/FHi/+yuz+XJn9ShjnAAAA\n",
       "AIBy8+OV2Xc6ZVyZ/dcxzgEAAAAA5YIrs5ce4xwAAAAAUGZZOflcmb0Mym2cJycnKywsTEuXLi3x\n",
       "OWlpaYqMjFTfvn0VGhqqIUOGaM2aNSU69/e//71CQkJ08uTJ0lYGAAAAAJSDwiJLL0VxZfayKJfL\n",
       "5GVmZmry5MnKzMyUw1GyP/isrCyNHTtW8fHx6t+/v5o2bap169ZpypQpSk1N1ciRI6947rp167R+\n",
       "/foSfy8AAAAAQMVZ/Okexe5Lto+5MvvVK/M750lJSRo1apR27dp1VectW7ZMcXFxmjp1qubOnasn\n",
       "nnhCq1atUps2bfTyyy/r/PnzxZ7307vtAAAAAADz1mw8ok83HLaPPT3c9OxYrsx+tco0zpcsWaIB\n",
       "AwYoISFBERERV3VudHS0AgICNHz4cDurU6eOJk6cqOzsbK1evbrY855//nkVFBQoNDRUlmWVpT4A\n",
       "AAAAoAy2x6do4ce7nbI/DeumkOZcmf1qlWmcL1u2TEFBQYqKitKgQYNKfF5iYqJSUlLUvXv3yz6a\n",
       "Hh4eLkmKjY297Lxvv/1Wn3zyiZ5++mn5+/MvGwAAAABMOXb6gv62fKuKii69afrgnSG6oWszg61c\n",
       "V5nG+ezZs/XJJ59c9bvYiYmJkqTg4ODLHmvYsKG8vLx09OhRpzwjI0PTp09Xnz59dM8995SlNgAA\n",
       "AACgDNIu5iryrS3Kyimws1vCgnT/bW0NtnJtZfrt/D59+pTqvLS0NElS3bp1i33c19dXFy9edMpe\n",
       "euklpaena9asWaX6ngAAAACAssvLL9Sct7co5XyWnXVo6a/J94dy0e4yMHKf84KCH/92xcvLq9jH\n",
       "vby8lJt76d54MTExev/99/WHP/xBQUFBldIRAAAAAODMsiy9+t4OxR9LtbMmDWrrmYfD5enhbrCZ\n",
       "6zMyzr29vSVJ+fn5xT6el5cnHx8fSVJOTo6mTp2qjh07avTo0ZXWEQAAAADgbMX6/fp2R5J9XKeW\n",
       "h6Y/EiE/X2+DraoHIzed8/Pzk6TLPrr+k4yMDDVs2FCS9Oqrr+rkyZOaN29esR+RKOsV29u1a1em\n",
       "8wEAAACgJvhm+wmtWL/fPnZzc+gvo3vo2sbF/7qyK4uJiSnxVty/f/+vP6kEjIzzFi1aSJJOnDhx\n",
       "2WMpKSnKy8tTy5YtJUnr1q1TQUHBFa8Gf+utt0qS4uPjK6YsAAAAANRwcUfO6dV3dzhljw3prNC2\n",
       "jQw1qn6MjPPAwEAFBgZq27ZtsizL6R3xmJgYSVJoaKgkafTo0cW+w/7ZZ5/pyJEjGj169BUvLFcS\n",
       "V/O3HKNGjbL7AQAAAEBNcPpcpua8HaOCwiI7u+em1rqzVwtzpSpYeHi4li9fXqnf08g4l6SBAwdq\n",
       "wYIFioqK0qhRoyT9+HH2BQsWyMfHx36n/Eq/Zx4XF2eP88DAwErrDQAAAAA1RUZ2viLf2qwLmXl2\n",
       "1vP6Jnr4t9cbbFU9Vco4/+n3xSdNmmRn48aN09q1azVnzhxt3bpVQUFBWr9+vZKSkjR16lTVr1+/\n",
       "MqoBAAAAAIpRUFikvy3bquPJGXbWKtBPj48Mk7sbt0wrb+V2tXaHw3HFe9rNnz9f8+fPd8p8fX0V\n",
       "HR2toUOHKjY2VitWrJCfn5/mzp2rkSNHlun7AQAAAABKz7IsvfHxbu1MOGNn/vVqadojPeXjbewD\n",
       "2NVauf2pDh48WIMHDy72sStdrK1BgwaaM2dOqb7fL8c+AAAAAKB8fLrhsNZuOmofe3u5a9rYngq4\n",
       "xsdYp+rOyH3OAQAAAABVU8ze03rr0z32scMhPT6im6679hqDrao/xjkAAAAAQJJ08ESaXoyKlWVd\n",
       "ykbf1UG9OnER7orGOAcAAAAA6Exqtma/tVm5eYV2dnt4sIbccp3BVjUH4xwAAAAAarisnB9vmXb+\n",
       "Qq6ddb4uQI8N7cKFuCsJ4xwAAAAAarCCwiK9sHSrjp66YGfXNq6rpx8Ol6cHk7Gy8CcNAAAAADWU\n",
       "ZVl6/cNd2vGzW6ZdU9dbM8dFyNfH02CzmodxDgAAAAA11AdfHdD6LcfsYy/PH2+Z1si/tsFWNRPj\n",
       "HAAAAABqoA07krRszT772OGQ/vxgmNoG1zfYquZinAMAAABADRN35Jz+8e52p+yRgR0V0bGpoUZg\n",
       "nAMAAABADXLybIaeWxyj/IIiO/ttn5YaeEMrg63AOAcAAACAGuJCZp5mLdqsi1l5dhbeoYnG3dOJ\n",
       "W6YZxjgHAAAAgBogL79Qc97eopNnM+2sdZCfnngwTO5uDHPTGOcAAAAAUM0VFVl69b0dijty3s4C\n",
       "rvHR9Eci5OPtYbAZfsI4BwAAAIBq7p118fp2R5J97OPtoRnjIuRfr5bBVvg5xjkAAAAAVGNfbDmm\n",
       "979MsI/d3Bz6y+geatG0nsFW+CXGOQAAAABUUzsTUjT/gx+cst8N7aJu7RoZaoQrYZwDAAAAQDV0\n",
       "7NQFPb90qwqLLDu779Y26hfR3GArXAnjHAAAAACqmfMXcjTrrc3KyimwsxtCm+nBO9sbbIX/hXEO\n",
       "AAAAANVIdm6BZr+1WWdSs+2sfQt//XFYV7lxy7Qqi3EOAAAAANVEYWGRXlweq4Mn0u2saUAdPTsm\n",
       "XF6e7gab4dcwzgEAAACgGrAsS69/tEux+5LtrG5tL80cFyE/X2+DzVASjHMAAAAAqAbe/zJB6zYf\n",
       "s4+9PNw0/ZGeCmzoa7AVSopxDgAAAAAu7qvYREV9Hm8fOxzSEw+GKaSFv8FWuBqMcwAAAABwYTv2\n",
       "p+if7+10yh4d1Em9OgUaaoTSYJwDAAAAgIs6cjL9snuZD775Og24oZXBVigNxjkAAAAAuKAzqdma\n",
       "uWizsnOd72X+8N0dDLZCaTHOAQAAAMDFZGTna+abm3T+Qo6dXd+qAfcyd2GMcwAAAABwIfkFhXp+\n",
       "SYwST1+0s2sb+2oq9zJ3aYxzAAAAAHARlmXpn+/t1K6DZ+2sfl1vzRzXS761vQw2Q1kxzgEAAADA\n",
       "RSxfu0/fbD9hH/t4u2vGuAg18q9tsBXKA+McAAAAAFzA2o1HtPI/B+xjNzeH/vJQuFoHXWOwFcoL\n",
       "4xwAAAAAqriYvae14KNdTtmke7uoW0gjQ41Q3hjnAAAAAFCFJSSm6sWoWP3sVuYafkc73d6zublS\n",
       "KHeMcwAAAACook6dzVTkW5uVm1doZ7f1CNbwO9oZbIWKwDgHAAAAgCooPSNXMxdtUnpGnp11bdtQ\n",
       "/+++LnI4uJd5dcM4BwAAAIAqJievQLMXb9HJs5l21irQT38Z3UMe7sy46oh/qwAAAABQhRQWFunF\n",
       "5bHafyzVzhrW99H0cT1Vu5anwWaoSIxzAAAAAKgiLMvS/A9+0Na4ZDvz9fHUzHERauDnY7AZKhrj\n",
       "HAAAAACqiHfWxeuLmET72MvDTdMe6angJvUMtkJlYJwDAAAAQBWwduMRvfdFgn3s5pCeeLC7OrRs\n",
       "YLAVKgvjHAAAAAAM27T7pBZ8tMspmziks3p1amqoESob4xwAAAAADNp7+JxeitqmIutSNuz2durf\n",
       "u6W5Uqh0jHMAAAAAMOTY6QuavXiL8guK7OyOns01ol87g61gAuMcAAAAAAw4k5qtmW9sUmZ2vp2F\n",
       "d2ii3w3tLIfDYbAZTGCcAwAAAEAly8jK08w3N+lseo6dtWteX38eFSZ3d2ZaTcS/dQAAAACoRLn5\n",
       "hXru7Rglnr5oZ80a+mr6IxGq5eVhsBlMYpwDAAAAQCUpLLI0951t2nv4nJ351/NW5PheqlfHy2Az\n",
       "mMY4BwAAAIBKYFmWFn68S5t2n7Kz2rU8NPPRXmrkX9tgM1QFjHMAAAAAqATv/ydBazcetY893N30\n",
       "7JhwtQz0M1cKVQbjHAAAAAAq2Bdbjilqbbx97HBIU0Z0U+frGhpshaqEcQ4AAAAAFSgm7rRe++AH\n",
       "p2zcoI66IbSZoUaoihjnAAAAAFBB4o+d19+WxaqoyLKzobdcp4E3tDbYClUR4xwAAAAAKsCx0xc0\n",
       "a9Fm5eUX2lnf7tdq9N0dDLZCVcU4BwAAAIBylpKapRlvbFJGdr6ddWvXSJPvD5XD4TDYDFUV4xwA\n",
       "AAAAylF6Rq6mL9ykc+k5dtY2+Br9ZXQPebgzwVA8XhkAAAAAUE6ycws0683NSjqTYWdBjXw1/ZEI\n",
       "+Xh7GGyGqo5xDgAAAADlIL+gSH9dEqMDx9PsLMCvliLH95afr7fBZnAFjHMAAAAAKKPCIkv/WLFd\n",
       "OxPO2Fnd2p6KnNBbDev7GGwGV8E4BwAAAIAysCxLi1bt1oadSXbm7eWuGeMidG3jugabwZUwzgEA\n",
       "AACgDN79IkGffX/EPnZ3c+iZ0eFq19zfYCu4GsY5AAAAAJTSmo1HFL0u3j52OKQ/De+mbiGNDLaC\n",
       "K2KcAwAAAEApfPdDkhZ8tMspe3RQJ93ULchQI7gyxjkAAAAAXKWdCSma+842Wdal7IHb22rADa3M\n",
       "lYJLY5wDAAAAwFU4cDxVf10So4LCS8v8zl4tNLJfiMFWcHWMcwAAAAAooRMpFzVz0WZl5xbaWe/O\n",
       "TTVxSGc5HA6DzeDqGOcAAAAAUALn0rM1/Y1NupCZZ2edrwvQEyPD5O7GMEfZMM4BAAAA4FdczMrT\n",
       "9Dc26Uxqtp1dF+SnZ8eEy9PD3WAzVBeMcwAAAAD4H3LyCjT7rS1KPH3RzgID6mjGuF6qXcvTYDNU\n",
       "J4xzAAAAALiC/IIiPb90q/YdPW9n/vW8FTmht66p622wGaobxjkAAAAAFKOwyNLc6G3aHp9iZ3V8\n",
       "PDVrfG819q9tsBmqI8Y5AAAAAPyCZVn61wc/6PsfTtqZt5e7ZjwSoRZN6xlshuqKcQ4AAAAAP2NZ\n",
       "lpb8O07rtxyzMw93h54ZHa72Lf0NNkN1xjgHAAAAgJ/54KsD+uibg/axm0N6fGSYuoU0MtgK1R3j\n",
       "HAAAAAD+z9qNR7RszT6n7Hf3huo3XZoZaoSagnEOAAAAAJL+u/2EXv9ol1M25rfXq19Ec0ONUJMw\n",
       "zgEAAADUeFvjTusfK7bLsi5l993aRkNuuc5cKdQojHMAAAAANdqeQ2f1wtKtKiy6tMzv6t1Co/q3\n",
       "N9gKNQ3jHAAAAECNdfBEmmYv3qK8giI7u6lrkCYM7iyHw2GwGWoaxjkAAACAGulEykXNXLRJWTkF\n",
       "dta9fWP9cXhXubkxzFG5GOcAAAAAapyU1CxNW7hJ6Rl5dnZ9qwb6y+ge8nBnJqHy8aoDAAAAUKOk\n",
       "XczV9IUbdTYt285aB/lp+iM95e3pbrAZajLGOQAAAIAaIyM7XzPe2KSkM5l2FtTIV7Me7aXatTwN\n",
       "NkNNxzgHAAAAUCPk5BVo9lubdfhkup01rO+jyPG95efrbbAZwDgHAAAAUAPkFxTphaVbFXfkvJ1d\n",
       "4+ut2RN6q2F9H4PNgB8xzgEAAABUa4WFRZr7zjZti0+xszq1PDRrfC81a+hrsBlwCeMcAAAAQLVV\n",
       "VGTpn+/v1Pe7TtqZl6e7po+LUKtmfgabAc4Y5wAAAACqJcuytPDjXfoq9ridebg79OzD4erQsoHB\n",
       "ZsDlGOcAAAAAqh3LsrTk33Fas/Gonbm5OfTkqO7qFtLIXDHgChjnAAAAAKqd975M0EffHLSPHQ7p\n",
       "T8O6qlenQIOtgCtjnAMAAACoVlb995De+TzeKft/93bRzWHXGmoE/DrGOQAAAIBq4/NNR/XWp3uc\n",
       "skcGdlS/iBZG+gAlxTgHAAAAUC18s+24/vXhD07ZyDtDdM9NrQ01AkqOcQ4AAADA5W3afUr/eHeH\n",
       "LOtSNvSW6/TAbW3NlQKuAuMcAAAAgEvbHp+iF5fHqqjo0jK/q3cLjb67gxwOh8FmQMkxzgEAAAC4\n",
       "rD2HzmrOkhgVFBbZWd/u12rC4M4Mc7gUxjkAAAAAl5SQmKrIt7YoL7/Qzvp0DtTv7w+VmxvDHK6F\n",
       "cQ4AAADA5Rw5ma4Zb2xSdm6BnXVv31iPjwyTuzszB66HVy0AAAAAl5J0JkPTF25SRna+nXW+LkB/\n",
       "Gd1Dnh5MHLgmXrkAAAAAXEby+SxNff17pWXk2lm75vX17JhweXu6G2wGlA3jHAAAAIBLOJeerWkL\n",
       "Nupseo6dtQr008xxEapdy9NgM6DsGOcAAAAAqrzUCzl69vWNOnUu086ubeyryAm95Fvby2AzoHww\n",
       "zgEAAABUaekZuZq6cKOSzmTYWWP/2po9obf8fL0NNgPKD+McAAAAQJV1MStP0xZuVOLpi3bWsL6P\n",
       "/vpYHzXw8zHYDChfjHMAAAAAVVJmdr6mv7FJR05esDP/erU0Z2IfNfKvbbAZUP4Y5wAAAACqnKyc\n",
       "fM1ctEkHj6fZ2TV1vTXnsd5qGlDHYDOgYjDOAQAAAFQpObkFinxri+KPpdpZvTpeem5ibwU1qmuw\n",
       "GVBxGOdpR6yyAAAgAElEQVQAAAAAqozc/EI99/YW7T18zs58fTw1e0JvNW9Sz2AzoGKVyzhPTk5W\n",
       "WFiYli5dWuJz0tLSFBkZqb59+yo0NFRDhgzRmjVrin3uyZMn9dRTT+nmm2+2n7ty5cryqA4AAACg\n",
       "isgvKNTzS2L0w4Gzdla7lociJ/RSq2Z+BpsBFc+jrF8gMzNTkydPVmZmphwOR4nOycrK0tixYxUf\n",
       "H6/+/furadOmWrdunaZMmaLU1FSNHDnSfu7p06d13333KT09Xf369VPjxo21YcMGTZs2Tfv27dP0\n",
       "6dPL+iMAAAAAMKygsEh/WxarbfEpdlbLy12zHu2lNtfWN9gMqBxleuc8KSlJo0aN0q5du67qvGXL\n",
       "likuLk5Tp07V3Llz9cQTT2jVqlVq06aNXn75ZZ0/f95+7ksvvaRz585p3rx5mjt3rp588kmtWrVK\n",
       "YWFhio6O1oEDB8ryIwAAAAAwrLCwSC9HbdOWvaftzMvTXTPGRSikhb/BZkDlKfU4X7JkiQYMGKCE\n",
       "hARFRERc1bnR0dEKCAjQ8OHD7axOnTqaOHGisrOztXr1akmSZVlKSUlRp06ddMstt9jPdXd3V79+\n",
       "/SRJP/zwQ2l/BAAAAACGFRZZ+seKHfp+10k78/Rw07Sx4erYOsBgM6BylXqcL1u2TEFBQYqKitKg\n",
       "QYNKfF5iYqJSUlLUvXv3yz4GHx4eLkmKjY2VJDkcDi1fvrzY3y8/fPiwJCkggP9gAQAAAFdUVGTp\n",
       "tfd36r87TtiZh7tDzzwcrtC2jQw2AypfqX/nfPbs2erdu7ccDoc9lEsiMTFRkhQcHHzZYw0bNpSX\n",
       "l5eOHj1a7LmWZSk5OVkffvih3n//fXXo0EE33nhjqfoDAAAAMMeyLC34aJe+3JpoZ+5uDj31UA91\n",
       "b9/YYDPAjFKP8z59+pTqvLS0NElS3brF35/Q19dXFy9eLPaxJ5980v7Ie6tWrbRo0SK5uXE3OAAA\n",
       "AMCVWJalRZ/s0dpNR+3MzSE98WCYIjo2NdYLMKnSl21BQYEkycvLq9jHvby8lJubW+xj119/vR59\n",
       "9FH16dNHhw8f1vDhw5WUlFRhXQEAAACUL8uytOTfcVq94dKnbx0O6U8jwvSbLs0MNgPMKvOt1K6W\n",
       "t7e3JCk/P7/Yx/Py8uTj41PsYw8//LD9z9HR0YqMjFRkZKQWLlxY6j7t2rUr9bkAAAAASs6yLC39\n",
       "LE4ffXPQKf/9/aG6uVuQoVbA5WJiYkq8Fffv318u37PS3zn38/OTpCt+dD0jI+OKH3n/uREjRig4\n",
       "OFjfffed/W48AAAAgKrJsiwtX7tPH37tPMx/N7SzbgtvbqgVUHVU+jvnLVq0kCSdOHHissdSUlKU\n",
       "l5enli1bSpKys7MVExOjevXqqWvXrpc9PzAwUMePH1d6eroaNGhQqj5X87cco0aNUkxMTKm+DwAA\n",
       "AFBTWZaldz6P18r/HHDKJwzupP69WxpqBVxZeHi4li9fXqnfs9LfOQ8MDFRgYKC2bdsmy7KcHvtp\n",
       "+IaGhkqSLly4oAkTJmj27NmXfZ2CggIdPHhQvr6+ql+/fsUXBwAAAFAqK9bv13tfJjhlj97TUb/9\n",
       "TStDjYCqx8ilzgcOHKjTp08rKirKzjIyMrRgwQL5+PjY901v3Lixunbtqri4OK1Zs8Z+rmVZeuWV\n",
       "V3T27FkNGjSIK7YDAAAAVdSKdfFasd7506rjBnXUwBtaG2oEVE0V/rH2efPmyeFwaNKkSXY2btw4\n",
       "rV27VnPmzNHWrVsVFBSk9evXKykpSVOnTnV6J3zWrFkaOXKknnjiCX3++ecKDAzU9u3btWvXLnXq\n",
       "1EmPP/54Rf8IAAAAAErh3S/2K/oXw/yRgR016EaGOfBL5fKWs8PhkMPhKPax+fPna/78+U6Zr6+v\n",
       "oqOjNXToUMXGxmrFihXy8/PT3LlzNXLkSKfntm3bVh988IH69++vmJgYRUVF6cKFC5o0aZKioqKu\n",
       "eGV3AAAAAOa89+V+vfN5vFM2dsD1uucmhjlQnHJ553zw4MEaPHhwsY/Fx8cXmzdo0EBz5swp0ddv\n",
       "3ry55s6dW+p+AAAAACrPyv8kKGqt8w4Y89sOGnzzdYYaAVUfv6wNAAAAoNx88NUBLVuzzykbfXcH\n",
       "DbmljaFGgGtgnAMAAAAoFx99fUBLP4tzyh66q73u7cswB34N4xwAAABAmX38zUG9/W/nYf5g/xDd\n",
       "d2tbQ40A18I4BwAAAFAmq/57SItX73XKRt4Zogdua2eoEeB6GOcAAAAASu3Tbw/prU/3OGUj7min\n",
       "YbczzIGrwTgHAAAAUCqrNxzWok+ch/mw29tpeL8QQ40A18U4BwAAAHDVPvvusN5Ytdspe+C2thrR\n",
       "j3fMgdIol/ucAwAAAKg5Pt1wSItWOb9jft+tbTTyzhA5HA5DrQDXxjgHAAAAUGKr/nv575jf27eN\n",
       "RvVvzzAHyoBxDgAAAKBEPvr6wGW3S7u3bxs9dBfDHCgrxjkAAACAX7XyPwlatmafU/bAbW35KDtQ\n",
       "ThjnAAAAAP6n977Yr6jP452y4Xe00/A72jHMgXLCOAcAAABwRSvWxSt6/X6nbES/EA2/g6uyA+WJ\n",
       "cQ4AAADgMpZl6Z118XrviwSnfFT/9rr/traGWgHVF+McAAAAgBPLsrR87T6t/M8Bp3z03R10b982\n",
       "hloB1RvjHAAAAIDNsiwt/SxOH3590Ckf89vrNeSW6wy1Aqo/xjkAAAAAST8O88Wr92rVfw855Y8M\n",
       "7Kh7bmptqBVQMzDOAQAAAMiyLL356R59+u1hp/zRezpq4A0Mc6CiMc4BAACAGs6yLL2xarf+/d0R\n",
       "p3zi4E66+zetDLUCahbGOQAAAFCDFRVZWvjxLq3ZeNQp/929XdS/VwsjnYCaiHEOAAAA1FBFRZZe\n",
       "/2iXPt901CmfdF8X9YtoYaISUGMxzgEAAIAaqLDI0vyVO/VFTKKdORzS5PtCdXvP5gabATUT4xwA\n",
       "AACoYQoLi/TKuzv0zfYTduZwSH94oKtu7RFssBlQczHOAQAAgBokv6BIL78Tq427TtmZm0P64/Bu\n",
       "uiXsWoPNgJqNcQ4AAADUEHn5hXph2VZtjUu2M3c3hx4fGaYbQpsZbAaAcQ4AAADUADl5BZrzdox2\n",
       "JpyxMw93Nz31UHdFdGxqsBkAiXEOAAAAVHtZOfmavXiL9hw6Z2deHm56Zky4wkIaG2wG4CeMcwAA\n",
       "AKAay8zO18xFmxR/LNXOvL3cNW1sT3Vp09BgMwA/xzgHAAAAqqkLmXma8cZGHTyRbmc+3h6a+WiE\n",
       "OrRsYLAZgF9inAMAAADVUOrFHE1fuElHT12wM18fT80a30ttg+sbbAagOIxzAAAAoJo5l56tqQs2\n",
       "6kRKhp3Vq+Ol5yb2VstAP4PNAFwJ4xwAAACoRlLOZ2nqgo06dS7TzurX9dZzE3sruEk9g80A/C+M\n",
       "cwAAAKCaOHU2U88u+F5nUrPtLMCvluY81keBDX0NNgPwaxjnAAAAQDVwPPmipi7YqPMXcuyssX9t\n",
       "PText5o0qGOwGYCSYJwDAAAALu7oqQuatmCj0jJy7axZwzp6bmIfBVzjY7AZgJJinAMAAAAu7ODx\n",
       "NE1/Y6MuZuXbWXCTunpuQm/Vr1fLYDMAV4NxDgAAALiovYfPKfKtzcrKKbCzVoF+ipzQS36+3gab\n",
       "AbhajHMAAADABW2PT9GcJTHKyy+0s7bB12jWo73kW9vLYDMApcE4BwAAAFzMxl0n9VJUrAoKLTu7\n",
       "vlUDTX+kp2rX8jTYDEBpMc4BAAAAF/JVbKJefXeHii7tcnULaaSnR/dQLS/+7z3gqvivFwAAAHAR\n",
       "n313WAs+3u2U9ekcqMdHhsnTw81QKwDlgXEOAAAAuICV/0nQsjX7nLJbe1yryfeFyt2dYQ64OsY5\n",
       "AAAAUIVZlqVla/bpg68OOOUDbmilcQM7ys3NYagZgPLEOAcAAACqqKIiSws/3qU1G4865Q/c1lYj\n",
       "7wyRw8EwB6oLxjkAAABQBRUWFunV93bo620nnPKH7+6goX3bGGoFoKIwzgEAAIAqJr+gUC9FbdOm\n",
       "3afszOGQHhvSWf17tzTYDEBFYZwDAAAAVUhOboH+uiRGOxLO2Jmbm0N/GtZVN4dda7AZgIrEOAcA\n",
       "AACqiMzsfM16c7P2HT1vZx7ubnrqoe6K6NjUYDMAFY1xDgAAAFQB6Rm5mrFokw6dSLczby93TR0T\n",
       "rtC2jQw2A1AZGOcAAACAYefSszVt4UYdT86wszq1PDRjXC+1b+lvsBmAysI4BwAAAAxKOpOh6Qs3\n",
       "KiU1287q1fFS5Pheah10jcFmACoT4xwAAAAw5NCJNM1YtEnpGXl21sCvlmZP6K1rG9c12AxAZWOc\n",
       "AwAAAAbsOXRWsxdvUVZOgZ01Daij2RN6q7F/bYPNAJjAOAcAAAAq2ZY9p/Ti8ljlFRTZWatAP80c\n",
       "H6H6dWsZbAbAFMY5AAAAUIm+ik3Uq+/tVFGRZWfXt2qgaWN7qo6Pp8FmAExinAMAAACVZNV/D+mt\n",
       "T/c4ZeEdmujJh7rL29PdUCsAVQHjHAAAAKhglmUp6vN4vf9lglN+S1iQfv9AV3m4uxlqBqCqYJwD\n",
       "AAAAFaiwyNKCj3bp801HnfKBN7bSIwM6ys3NYaQXgKqFcQ4AAABUkPyCIv09epu+++GkU/5g/xDd\n",
       "f2tbORwMcwA/YpwDAAAAFSA7t0DPL4nRjoQzduZwSI8N6az+vVsabAagKmKcAwAAAOXsQmaeIt/c\n",
       "rP2JqXbm4e7QlBFhuiG0mcFmAKoqxjkAAABQjs6lZ2vawk06nnzRzry93PXM6HB1C2lksBmAqoxx\n",
       "DgAAAJSTk2cyNG3hRqWkZtuZr4+nZjwaoZDm/gabAajqGOcAAABAOTh4Ik2zFm1WWkaunfnX81bk\n",
       "+N5q3rSewWYAXAHjHAAAACijnQkp+uuSGGXnFtpZ04A6ihzfS00a1DHYDICrYJwDAAAAZfDtjhP6\n",
       "x4rtKii07KxVoJ9mjo9Q/bq1DDYD4EoY5wAAAEApffLtIb35yR6nrFPrAD07Jlx1fDwNtQLgihjn\n",
       "AAAAwFWyLEtLP4vTh18fdMr7dAnU4yO6ydPD3VAzAK6KcQ4AAABchYLCIs17f6e+ij3ulP+2T0uN\n",
       "u6eT3N0chpoBcGWMcwAAAKCEcnIL9MKyrdoWn+KUj+rfXvfd2kYOB8McQOkwzgEAAIASSM/IVeRb\n",
       "m5WQmGZnbm4OTbq3i27v2dxgMwDVAeMcAAAA+BXJ57M0442NSjqTaWdenu566qHuCu/QxGAzANUF\n",
       "4xwAAAD4H46cTNeMNzYp9WKundWt7anpj0QopIW/wWYAqhPGOQAAAHAFuw+e1XNvb1FWToGdBVzj\n",
       "o8jxvXRt47oGmwGobhjnAAAAQDG+/+GkXn5nmwoKi+wsuEldzXq0lwKu8THYDEB1xDgHAAAAfuGz\n",
       "7w5r4ardsqxLWYeW/po2tqd8a3uZKwag2mKcAwAAAP/HsixFfR6v979McMojOjbREw92l7enu6Fm\n",
       "AKo7xjkAAAAgqaCwSPPe36mvYo875f0imuuxoV3k7sY9zAFUHMY5AAAAarysnHw9v3SrdiacccqH\n",
       "39FOw+9oJ4eDYQ6gYjHOAQAAUKOdS8/WrDc368jJC3bm5pAmDu2i/r1amCsGoEZhnAMAAKDGOnb6\n",
       "gmYu2qyzadl25u3lridHdVd4hyYGmwGoaRjnAAAAqJF2HzyrOW9vUebP7mHu5+ul6Y9EqG1wfYPN\n",
       "ANREjHMAAADUON/uOKF/rNjhdA/zwIA6mvloLzUNqGOwGYCainEOAACAGsOyLH38zUG9/e84pzyk\n",
       "eX1NHdtTfr7ehpoBqOkY5wAAAKgRCossLVq1W599f8Qp79WpqR4fGcY9zAEYxTgHAABAtZeTV6CX\n",
       "o7Zpy97TTvlvf9NS4wZ14h7mAIxjnAMAAKBaS8/I1ezFW7T/WKpTPnbA9brnptbcwxxAlcA4BwAA\n",
       "QLV16mymZizapFNnM+3Mw91NU4Z30w1dmxlsBgDOGOcAAAColhISUxX51malZ+TZWR0fT00dE66O\n",
       "rQMMNgOAyzHOAQAAUO3E7D2tvy2PVV5+oZ01rO+jmeMiFNyknsFmAFA8xjkAAACqldUbDuvNT3ar\n",
       "yLqUtWrmpxnjIuRfr5a5YgDwPzDOAQAAUC0UFll669M9Wr3hsFPerV0jPfVQd9Wu5WmoGQD8OsY5\n",
       "AAAAXF527o+3SouJc75V2u3hwfrdvV3k4e5mqBkAlAzjHAAAAC7tXHq2Zi/eokMn0p3yh+5qr3v7\n",
       "tuFWaQBcAuMcAAAALuvIyXRFvrlZZ9Nz7MzTw01/Gsat0gC4FsY5AAAAXNK2+GT9bVmssnML7Kxe\n",
       "HS9NHdNT7Vv6G2wGAFePcQ4AAACXs3bjES34eLeKfnZJ9mYNfTVjXISaBtQx2AwASodxDgAAAJdR\n",
       "VGTp7X/v1ar/HnLKO7ZuoGceDlfd2l6GmgFA2TDOAQAA4BJy8gr09+jt2rT7lFN+S1iQJt8fKk8P\n",
       "d0PNAKDsGOcAAACo8lIv5Gj24i06cDzNKR/RL0TDbm/LFdkBuDzGOQAAAKq0Y6cvKPLNzUpJzbYz\n",
       "D3c3/f6BUN0Sdq3BZgBQfhjnAAAAqLJ2JqTo+aVblZVz6YrsdWt76pmHw9WxdYDBZgBQvhjnAAAA\n",
       "qJLWbzmmf33wgwp/dkX2pgF1NGNchJo19DXYDADKH+McAAAAVUphkaWln8Xp428OOuXtW/jr2THh\n",
       "8vP1NtQMACoO4xwAAABVRlZOvua+s10xcaed8htDm+kPw7rKy5MrsgOonhjnAAAAqBJSzmdp9uIt\n",
       "OnrqglP+wG1tNaJfiNzcuCI7gOqLcQ4AAADj4o+e15y3Y5SWkWtnnh5u+v0DXXVztyCDzQCgcriV\n",
       "1xdKTk5WWFiYli5dWuJz0tLSFBkZqb59+yo0NFRDhgzRmjVrin3u0aNH9cQTT6hPnz7q2LGjbr75\n",
       "Zs2cOVPnz58vrx8BAAAABnyz7bieef17p2F+ja+3/vpYH4Y5gBqjXN45z8zM1OTJk5WZmSmHo2Qf\n",
       "N8rKytLYsWMVHx+v/v37q2nTplq3bp2mTJmi1NRUjRw50n7uwYMHNWzYMGVlZenWW29VcHCw9uzZ\n",
       "o3fffVffffedVq5cqfr165fHjwIAAIBKUlRkKXpdvN77MsEpb9G0nqaN7alG/rUNNQOAylfmcZ6U\n",
       "lKTJkycrLi7uqs5btmyZ4uLiNH36dI0YMUKS9Nhjj2nYsGF6+eWX1b9/f/n7+0uSnn/+eWVkZOi1\n",
       "117TbbfdZn+N119/Xa+++qrmz5+vqVOnlvVHAQAAQCXJySvQKyt26PtdJ53yHh0a64mRYapdy9NQ\n",
       "MwAwo0wfa1+yZIkGDBighIQERUREXNW50dHRCggI0PDhw+2sTp06mjhxorKzs7V69WpJUkZGhjZv\n",
       "3qyOHTs6DXNJGj9+vLy8vLRhw4ay/BgAAACoROfSs/X0v76/bJgPvvk6PTumJ8McQI1UpnG+bNky\n",
       "BQUFKSoqSoMGDSrxeYmJiUpJSVH37t0v+xh8eHi4JCk2NtbO/vznP2vMmDGXfR03Nze5u7srKyur\n",
       "lD8BAAAAKtPBE2ma8sq3Ong8zc7c3RyafH+oxg64Xu5ckR1ADVWmj7XPnj1bvXv3lsPh0OHDh0t8\n",
       "XmJioiQpODj4sscaNmwoLy8vHT16VJLk6+urhx9+uNiv8/333ys7O1tdu3a96u4AAACoXBt3ndTc\n",
       "6O3Kyy+0s7q1PfX0w+Hq1DrAYDMAMK9M47xPnz6lOi8t7ce/Ka1bt26xj/v6+urixYv/82tkZ2fr\n",
       "hRdekCTdf//9peoBAACAimdZllb+54CWr93nlAc18tW0R3oqMMDXUDMAqDqM3Oe8oKBAkuTl5VXs\n",
       "415eXsrNzS32MUnKy8vTH/7wBx08eFC33Xab7rzzzgrpCQAAgLLJLyjUvPd36uttJ5zy0LYN9dRD\n",
       "PeTrw++XA4BkaJx7e3tLkvLz84t9PC8vTz4+PsU+lpWVpcmTJ+v7779X586d9eKLL5apS7t27cp0\n",
       "PgAAAIqXeiFHf10So/hjqU75Xb1baPw9neTuXqbLHwFAhYmJiSnxVty/f3+5fE8j49zPz0+SrvjR\n",
       "9YyMDDVs2PCy/Pz58xo/frz27Nmj0NBQvfnmm6pdm/tfAgAAVDUHj6dpzttbdDY9x87c3BwaP6ij\n",
       "7v5NK4PNAKBqMjLOW7RoIUk6ceLEZY+lpKQoLy9PLVu2dMqTkpI0duxYHTt2TL/5zW/02muvqVat\n",
       "WmXucjV/yzFq1CjFxMSU+XsCAABUZ//dfkL/fG+H8gqK7Kx2LQ899VAPdWvXyGAzACiZ8PBwLV++\n",
       "vFK/p5FxHhgYqMDAQG3btk2WZTndTu2n8RsaGmpn58+ft4f53XffrRdffFHu7u6V3hsAAABXVlhk\n",
       "KWrtPn3w1QGnvFnDOnp2TE9d27j4iwEDAMp4n/OyGDhwoE6fPq2oqCg7y8jI0IIFC+Tj4+N03/Tp\n",
       "06fr2LFjuuOOOzR37lyGOQAAQBWTlZOv5xZvuWyYdwtppJf/cBPDHAB+RaW8cz5v3jw5HA5NmjTJ\n",
       "zsaNG6e1a9dqzpw52rp1q4KCgrR+/XolJSVp6tSpql+/viRp7969+vLLL+VwOBQYGKh58+Zd9vW9\n",
       "vb01fvz4yvhRAAAA8Asnz2Toube36HhyhlM++ObrNPruDnJ3c1zhTADAT8ptnDscDqePp//c/Pnz\n",
       "Lxvnvr6+io6O1t///nd9/fXX2rBhg1q1aqUpU6borrvusp8XGxtr//OSJUuK/fr16tVjnAMAABiw\n",
       "Y3+K/rY8VpnZl+7C4+nhpkn3hapv92sNNgMA11Ju43zw4MEaPHhwsY/Fx8cXmzdo0EBz5sz5n193\n",
       "9OjRGj16dJn7AQAAoPxYlqVPNxz+/+3deXSV1dn+8euck3kkE2QmYUqYpxARHEARAQuIMlPEqlXs\n",
       "D7Uv2lerratLa99ah1qtVq0DMrWK1FnBiUFlTAADhBCGkJAEMs/zOef5/YGkHhMgQMjJ8P2slZWw\n",
       "9z7kzuJeIVee59lbb3y4T3bjv+OBfu565BeXqV90gPOKA4AOyCkbwgEAAKDjarDa9OK73+urnccd\n",
       "xvtFd9PDtyYqyN/TSZUBQMdFOAcAAECLlZTX6k/Ldigts8RhfPzISC2ZNUxurmzcCwAXgnAOAACA\n",
       "Fjl0vERPvLlDRWW1jWNmk3Trzwbqxqt7n3H/IQDAuRHOAQAAcE4bd2Xrhbd3q95qbxzz9nDRbxYm\n",
       "aGR8DydWBgCdA+EcAAAAZ2SzG1rxaarWbjjsMB4R4qPf3ZaoyO6cXw4ArYFwDgAAgGaVV9XrqZVJ\n",
       "2pNe4DA+Ir67fvPzBPl4ujqpMgDofAjnAAAAaCIjt0xPvLlDecXVDuM3jeujW24YIIuZ58sBoDUR\n",
       "zgEAAOBg465svfDOHtU32BrH3Fwtumf2MI0bEenEygCg8yKcAwAAQJJks9m17JNUvb/piMN490Av\n",
       "PXJronpF+DupMgDo/AjnAAAAUFllnf6yIkkphwsdxof1DdFvFibIz9vNSZUBQNdAOAcAAOjiDmeX\n",
       "6k/LdqigpMZh/ObxfbRwcn9ZLGYnVQYAXQfhHAAAoAv7Oum4Xlyzx+H8cnc3i+6bM1xXDotwYmUA\n",
       "0LUQzgEAALogq82uNz7ar4++OeowHhrkpUd+cZliwvycVBkAdE2EcwAAgC6mtKJOf16+U/uPFjmM\n",
       "j4jvrgcWjJSvF8+XA0BbI5wDAAB0IelZJfq/ZTtUWFbrMD7r2r5aMKk/55cDgJMQzgEAALqIL3dk\n",
       "6qW1KWr40fPlHm4W/XreCI0dEu7EygAAhHMAAIBOrsFq0z/f36fPth5zGA8P9tbDv0hUz1CeLwcA\n",
       "ZyOcAwAAdGL5JdV6cvlOpWeVOoyPGtBDS+ePlI+nq5MqAwD8GOEcAACgk9p9MF9PrUxWRXW9w/ic\n",
       "6/pp/sR4mXm+HADaDcI5AABAJ2O3G1rzdbpWrUuTYfx33NvDRUvnj1TiwFDnFQcAaBbhHAAAoBOp\n",
       "rK7Xs//apZ2peQ7jseF++u2iRIUFezupMgDA2RDOAQAAOomjOWX6v7d26GRRtcP4NQlR+tXMoXJ3\n",
       "tTipMgDAuRDOAQAAOoEvd2TpH2u/V/2PjklzsZh114zBun50T5lMPF8OAO0Z4RwAAKADq2+w6dX3\n",
       "92r9tkyH8ZAATz10yyj1iw5wUmUAgPNBOAcAAOig8our9X/Ld+rwccdj0ob3C9H9C0bK38fdSZUB\n",
       "AM4X4RwAAKAD2pWWr6dXJamiusFhfM51/TRvYrwsHJMGAB0K4RwAAKADsdsNvf1luv71+U+OSfN0\n",
       "1f3zR2jUAI5JA4COiHAOAADQQZRV1umZVcnanV7gMN4r3F+/vXWUQoM4Jg0AOirCOQAAQAew/2iR\n",
       "nlqZpKKyWofxCaOitfjmIRyTBgAdHOEcAACgHTMMQ+9tPKK3Pk2V3f7f+9hdXcy6a8YQTbwsmmPS\n",
       "AKATIJwDAAC0UxXV9XruX7u1I/Wkw3hYsLceumWUekX4O6kyAEBrI5wDAAC0Q+lZJXpy+U7ll9Q4\n",
       "jI8dGq57Zw+Tl4erkyoDAFwKhHMAAIB2xDAMffJdhl7/cJ+stv/exu5iMen2aYN0w9hYbmMHgE6I\n",
       "cA4AANBOVNc26Pl39ui773MdxrsHeOrBW0apX3SAkyoDAFxqhHMAAIB2ICO3TP/31k6dKKxyGE8c\n",
       "EKpfzxsuXy83J1UGAGgLhHMAAAAnMgxDn2/P0qvvpajeam8cN5tNWjRlgGaM681t7ADQBRDOAQAA\n",
       "nKSmzqp/rP1eG5KzHcaD/D30vwsTNCA2yEmVAQDaGuEcAADACTJyy/Tk8iTlFFQ6jA/vF6L7F4yU\n",
       "v4+7kyoDADgD4RwAAKANGYahdVuP6Z8f7FPDj29jN0nzro/XrGv7yWLmNnYA6GoI5wAAAG2ksqZB\n",
       "f39nj75LcdyNvZuvux5YMFJD+4Y4qTIAgLMRzgEAANpAelaJnlyRpPziaofx4f1C9D/zRyjA18NJ\n",
       "lUwyegwAACAASURBVAEA2gPCOQAAwCVktxt6f9MRLf80VTa70ThuNpv080nxunl8X5m5jR0AujzC\n",
       "OQAAwCVSVlmnv/5rl5LT8h3GQwI89ZsFCeofG+ikygAA7Q3hHAAA4BLYe7hQT69KVnF5rcP46EGh\n",
       "unfOcPl6uTmpMgBAe0Q4BwAAaEU2u6F3vjiof39xUD+6i10uFrNunzZQN4yNlcnEbewAAEeEcwAA\n",
       "gFZSVFajZ1bt0t4jhQ7jYcHeenBhgnpHdnNSZQCA9o5wDgAA0AqSDuTpr//apfKqeofxcSMidffN\n",
       "Q+Tl4eqkygAAHQHhHAAA4CLUN9j01iep+vCbow7j7m4WLZ4xWNeOiuY2dgDAORHOAQAALlDWyXI9\n",
       "vSpZGbnlDuM9Q331vwsTFB3q56TKAAAdDeEcAADgPBmGoXXbMvXaB/tU32BzmJt0eYzumD5I7q4W\n",
       "J1UHAOiICOcAAADnobyqXn9fs0db955wGPf1ctU9s4fp8sHhTqoMANCREc4BAABaaO/hQj2zOllF\n",
       "ZY5nlw/uHayl80couJunkyoDAHR0hHMAAIBzsNrsWr0+Te9+fUjGj84uN5tN+vmkeN00vq8sZjZ9\n",
       "AwBcOMI5AADAWZwsqtLTK5N1MKvEYTw0yEsPLBipuJ6BTqoMANCZEM4BAADOYEPycf1jbYpq6qwO\n",
       "4+NHRmrxTZxdDgBoPYRzAACAn6iubdA//pOijcnZDuOe7i761c1DNG5klJMqAwB0VoRzAACAHzmQ\n",
       "UaxnVicrr7jaYTwuOkAP/HykQoO8nVQZAKAzI5wDAADo1KZv//78oNZ8lS77jzZ9M5mkWdf207yJ\n",
       "cXKxmJ1XIACgUyOcAwCALi87v0LPrN6lw8dLHcaD/T20dMFIDe4d7KTKAABdBeEcAAB0WYZh6LOt\n",
       "x/T6h/tV32BzmLtiaLh+NXOofL3cnFMcAKBLIZwDAIAuqaSiVs+/vUdJB/Icxr08XLT4piEaNyJS\n",
       "JhNnlwMA2gbhHAAAdDnb953QC2v2qKyy3mF8YK8gLZ03Qt0DvZxUGQCgqyKcAwCALqOmzqrXP9yn\n",
       "9dsyHcZdLCYtmNRfM8b1kcXM1XIAQNsjnAMAgC4hLbNYz67epROFVQ7jUT18dP/8keod2c1JlQEA\n",
       "QDgHAACdnM1m19tfpuvtL9Nl//EZaZJ+dkWsbv3ZQLm7WpxUHQAApxDOAQBAp5VTUKm/rt6lg1kl\n",
       "DuOBfu66b84IjYjv7qTKAABwRDgHAACdjt1u6NMtGXrz49QmR6RdPjhMS2YNk583R6QBANoPwjkA\n",
       "AOhU8kuq9fzbu/X9oUKHcU93i+68cYiuHRXFEWkAgHaHcA4AADoFwzD01c7j+ucHe1Vda3WY6x8T\n",
       "qKXzRyg0yNtJ1QEAcHaEcwAA0OGVVNTqxTXfa/v+kw7jLhazFk7ur+lX9+aINABAu0Y4BwAAHdp3\n",
       "Kbl66d3vVV5V7zDeO9Jf/zNvhHqG+jmpMgAAWo5wDgAAOqTK6nq98t5ebdyV7TBuNps0Z0I/zZ7Q\n",
       "Ty4Ws5OqAwDg/BDOAQBAh7MrLV9/e3u3istrHcajevjof+aNUN+oACdVBgDAhSGcAwCADqOmzqo3\n",
       "PtqvdVuPOYybTNL0q3rr55P7y93V4pTaAAC4GIRzAADQIew/WqTn/r1LJ4uqHcZ7BHrp13OHa1Dv\n",
       "YCdVBgDAxSOcAwCAdq22zqrlnx3Qx98elWE4zl0/uqdumzpQXh6uzikOAIBWQjgHAADt1t4jhXr+\n",
       "7d1NrpYH+rnrntnDldC/h5MqAwCgdRHOAQBAu1NTZ9XyT1L18XcZTeauHh6pu24aLF8vNydUBgDA\n",
       "pUE4BwAA7UrK4QI9//Ye5RU7Xi3v5uuuX908VJcPDnNSZQAAXDqEcwAA0C7U1Fm17OP9+nTLsSZz\n",
       "40ZG6s4buVoOAOi8COcAAMDpvk8v0PNr9ii/uOmz5f9v5jAlDgx1UmUAALQNwjkAAHCa6toGvflx\n",
       "apNzyyXpmoQo/XL6IPlwtRwA0AUQzgEAgFPsPpivF9bsUUFJjcN4oJ+HlswaqlEDuFoOAOg6COcA\n",
       "AKBNVdU06M2P92v9tswmc9eOitId0wfLx5NzywEAXQvhHAAAtJnt+07opbUpKi6vdRgP8vfQklnD\n",
       "OLccANBlEc4BAMAlV1JRq1ff26tvv89tMnddYrRunzZI3lwtBwB0YYRzAABwyRiGoa+Tjuu1D/ap\n",
       "sqbBYS64m6eWzBqqkfFcLQcAgHAOAAAuibziar24Zo92pxc4jJtM0g1jYrVwSn95eXC1HAAAiXAO\n",
       "AABamc1u6JNvj2r5ZwdUV29zmIvs7qN7Zw9X/9hAJ1UHAED7RDgHAACtJvNkuV54e48OZpU4jFvM\n",
       "Js28tq/mTOgnVxeLk6oDAKD9IpwDAICL1mC1ac1Xh7Tmq3RZbYbDXN+obrp3znDFhPk5qToAANo/\n",
       "wjkAALgoaZnFev7tPTqeV+Ew7uZq0cLJ/TX1yl6ymE1Oqg4AgI6BcA4AAC5IdW2DVq5L08ffHpXh\n",
       "eLFcQ/sGa8msYQoN8nZOcQAAdDCEcwAAcN627s3VK+/tVVFZrcO4t6er7pg2UNeOipbJxNVyAABa\n",
       "inAOAABarKCkRq+8l6Lt+082mRs7JFx3zRisAD8PJ1QGAEDHRjgHAADnZLPZ9fF3GVr52QHV/uR4\n",
       "tGB/D905Y4guHxzmpOoAAOj4COcAAOCsDh8v1d/f3aMj2WUO42aT9LMremnBpHh5ebg6qToAADoH\n",
       "wjkAAGhWTZ1VK9cd0MffHJX9Jxu+9Yrw15JZQ9U3KsA5xQEA0MkQzgEAQBPb953Qy+/tVWFpjcO4\n",
       "h5tFCyb119QrYmWxmJ1UHQAAnQ/hHAAANCoqq9Er7+3V1r0nmswlDgjVXTcNVvcALydUBgBA50Y4\n",
       "BwAAstns+mRLhlZ+lqaaOqvDXKCfh+6aMViXDw7jeDQAAC4RwjkAAF1cWmax/vFuio7mOm74ZjJJ\n",
       "N4yN1cLJ/dnwDQCAS4xwDgBAF1VeVa+3PknV59szm8z1CvfX/5s1VP2i2fANAIC2QDgHAKCLsdsN\n",
       "fbEjS299kqqK6nqHOQ83i+ZNjNf0q3qx4RsAAG2IcA4AQBdyNKdML639XgczS5rMjR0SrjumD1Jw\n",
       "N08nVAYAQNdGOAcAoAuoqmnQqvVp+uTbpmeWhwV7a/GMIRoR3905xQEAALX6/Wp5eXkaOXKk3nrr\n",
       "rRa/prS0VI899piuueYaDRs2TDfddJM+/fTTc77uwIEDGjhwoL766quLKRkAgE7LMAxt3JWtu5/8\n",
       "Sh994xjMXV3Mmn99vP7+wHiCOQAATtaqV86rqqp0zz33qKqqqsVHrVRXV+u2225TWlqaJk+erLCw\n",
       "MK1fv15Lly5VSUmJFixY0OzrCgoKdO+998put7fmlwAAQKdxPK9CL/8nRSmHC5vMJfTvoTtvHKyw\n",
       "YG8nVAYAAH6q1cJ5Tk6O7rnnHqWmpp7X65YvX67U1FQ9+uijmj9/viTp7rvv1ty5c/X0009r8uTJ\n",
       "CgwMdHhNWlqalixZouzs7NYqHwCATqOmzqq3vzio9zcdke0n97AHd/PUnTcO0uhBnFkOAEB70iq3\n",
       "tS9btkxTp05Venq6Ro8efV6vXb16tYKDgzVv3rzGMW9vby1evFg1NTX66KOPHNb/5S9/0cyZM1VU\n",
       "VKSRI0e2RvkAAHQKhmFo0w+3sK/dcNghmFvMJs28pq/+8b/X6PLB4QRzAADamVYJ58uXL1dkZKRW\n",
       "rlyp6dOnt/h1WVlZys/PV0JCQpMfEhITEyVJSUlJDuNvvPGGhg4dqrVr1573LwIAAOisMnLL9NuX\n",
       "vtPTq5JVVFbrMDe4d7Cev3+cFt0wQB7u7AULAEB71Cr/Qz/++OMaM2aMTCaTjh492uLXZWVlSZKi\n",
       "o6ObzIWEhMjNzU3Hjh1zGH/11Vd11VVXXVS9AAB0FhXV9Vq1Lk2fbclosgt7gK+7bps2SFcPj+BK\n",
       "OQAA7VyrhPOxY8de0OtKS0slSb6+vs3O+/j4qKKiwmGMYA4AgGSzG/p8e6ZWfHpAFdX1DnMWs0nT\n",
       "ruqtudf1k5eHq5MqBAAA58Op97ZZrVZJkpubW7Pzbm5uqqura8uSAABo9w5kFOuV91N0JLusydyI\n",
       "uO66Y/ogRfVo/hffAACgfXJqOHd3d5ckNTQ0NDtfX18vT0/PtiwJAIB2q7i8Vss+3q8NyU1PK+kR\n",
       "6KU7pg/SZQNDuYUdAIAOyKnh3N/fX5Ka3Lp+WmVlpUJCQi5pDXFxcZf07wcA4GI1WO366Jsj+vcX\n",
       "B1VTZ3OYc3O1aPa1fTVjXB+5uVqcVCEAAJ3Ljh07WpwVDx482Cqf06nhPCYmRpKaPa88Pz9f9fX1\n",
       "io2NbeOqAABoP5LT8vTP9/cpp6CyydzYoeG6bepAdQ/wckJlAACgNTk1nIeHhys8PFzJyckyDMPh\n",
       "NrwdO3ZIkoYNG3ZJazif33IsXLiwsS4AAC6l43kVev3DfUpOy28yFx3qqztvHKyhfS/t3WUAAHRV\n",
       "iYmJWrFiRZt+zlY55/xiTJs2TSdPntTKlSsbxyorK/Xyyy/L09PzvM5NBwCgoyuvqtcr76VoydMb\n",
       "mgRzbw8X/fLGQXp+6TiCOQAAnUybXjl/4YUXZDKZtGTJksaxO+64Q5999pmeeOIJ7dy5U5GRkfr8\n",
       "88+Vk5Oj3/3udwoICGjLEgEAcAqrza5Pv8vQvz4/qMoax41STSbpusSeWji5v7r5ujupQgAAcCm1\n",
       "ejg3mUxn3CX2xRdfbBLOfXx8tHr1aj377LPasGGDvvnmG/Xq1UtLly7VlClTLvhzAQDQERiGoaQD\n",
       "eXr9w/3NPlc+qHeQfjl9sHpF+DuhOgAA0FZaPZzPmDFDM2bMaHYuLS2t2fGgoCA98cQT5/25lixZ\n",
       "4hD0AQDoSDJPluv1D/Zpd3pBk7nQIC/dNnWgRg8K4xfRAAB0AU7dEA4AgK6orLJOq9enad22TNnt\n",
       "hsOcl4eL5kyI09QrY+XqwtFoAAB0FYRzAADaSIPVrk++y9C/P09TVa3VYc5skiaOjtGC6+N5rhwA\n",
       "gC6IcA4AwCVmGIa27j2htz5JVW5hVZP5IX2Cdcf0QYoN57lyAAC6KsI5AACXUFpmsd74cL8OHCtu\n",
       "MhcW7K3bpw5U4sBQnisHAKCLI5wDAHAJ5BZWavknB/RdSm6TOW8PF82dGKcbxvaSq4vZCdUBAID2\n",
       "hnAOAEArKq+q19tfHNSnWzJktTlu9mYxmzTp8hjNmxgnfx+eKwcAAP9FOAcAoBXUN9j00TdHtear\n",
       "9CabvUnS5YPDtOiGAYoI8XFCdQAAoL0jnAMAcBHsdkObdmdrxWcHVFBS02Q+rmeAbps6UANig5xQ\n",
       "HQAA6CgI5wAAXKDvDxXozY/360h2WZO50CAvLbphgMYOCWezNwAAcE6EcwAAzlPmiXIt+yRVSQfy\n",
       "msz5erlq7nVxmjwmls3eAABAixHOAQBoobziaq1en6YNycdlOO71JlcXs6Zd2Uszr+0nH09X5xQI\n",
       "AAA6LMI5AADnUFpRpzVfpevTLcdktdmbzI8bGamFk/qre6CXE6oDAACdAeEcAIAzqK5t0Pubjuj9\n",
       "TYdVU2drMj+kT7B+8bOB6hPVzQnVAQCAzoRwDgDATzRYbfpsyzG9/WW6yqvqm8z3jvTXoikDNKxf\n",
       "CJu9AQCAVkE4BwDgBza7oY3Jx7VqfVqzx6KFB3vr55P7a+yQcJnNhHIAANB6COcAgC7PMAzt2H9S\n",
       "yz87oKyTFU3mA/3cNW9ivCYkRsvFwg7sAACg9RHOAQBd2r4jhVr+6QEdOFbcZM7b01Uzr+mrn10R\n",
       "Kw83/ssEAACXDj9pAAC6pIOZxVq5Lk170guazLm5mDX1yl6aeU1f+Xi5OaE6AADQ1RDOAQBdypHs\n",
       "Uq1an6adqXlN5sxmk65LjNa8iXEK8vd0QnUAAKCrIpwDALqEzJPlWr0+TVtSTjQ7P3ZouBZO7q+I\n",
       "EJ82rgwAAIBwDgDo5HIKKvWv9Qe1eU+2DKPpfOKAUC2YFK9eEf5tXxwAAMAPCOcAgE4pr7ha//78\n",
       "oL5OPi67vWkqH94vRD+f3F/9ogOcUB0AAIAjwjkAoFMpLK3RO1+m64sdmbLamobygb2CtHByfw3s\n",
       "FeSE6gAAAJpHOAcAdArF5bVa+/Uhfbb1mBqs9ibzcT0D9PNJ8RraN0Qmk6ntCwQAADgLwjkAoEMr\n",
       "KqvR2g2HtX7rMdU3E8p7Rfjr55PildC/B6EcAAC0W4RzAECHVFhao3e/PqTPt2c2e6U8OtRXC66P\n",
       "1+WDwwjlAACg3SOcAwA6lPySar379SF9sT1LVlvTUB4R4q15E+N1xbAIWcyEcgAA0DEQzgEAHUJe\n",
       "cbXWfJWur3ZmNbvRW2R3H825Lk5XEsoBAEAHRDgHALRrJ4uqtOarQ/pqZ5ZszRyJFh3qq7kT4jRm\n",
       "aDihHAAAdFiEcwBAu3SisErvfJl+xnPKe4b6au7EOI0ZHC4zoRwAAHRwhHMAQLuSdbJc7359SJt2\n",
       "5zQbymPD/TT3ujiNHhRGKAcAAJ0G4RwA0C6kZ5Xo3a8PaeveE83O94rw19zr4nTZwFBCOQAA6HQI\n",
       "5wAApzEMQ/uOFOmdr9K1J72g2TV9orpp3nVxGjWAc8oBAEDnRTgHALQ5wzC080Ce1nyZrrTMkmbX\n",
       "9I8J1OwJ/TQyvjuhHAAAdHqEcwBAm7HZDX33fY7WfHVIx06UN7tmRFx3zbq2rwb2CiKUAwCALoNw\n",
       "DgC45BqsNn2dlK21Gw7pRGFVs2suHxymWdf2Vd+ogDauDgAAwPkI5wCAS6amzqr12zL1/qbDKiqr\n",
       "bTJvNps0bkSkbh7fR9Ghfk6oEAAAoH0gnAMAWl1Jea0++vaoPt1yTFU1DU3mXV3Mui4xWjeN76se\n",
       "gV5OqBAAAKB9IZwDAFrN8bwKvbfxsDYkZ8tqszeZ93S3aMqYWE2/qrcC/DycUCEAAED7RDgHAFwU\n",
       "wzCUmlGs9zYe1vb9J5td4+vlpqlX9tLUK2Ll4+XWxhUCAAC0f4RzAMAFsdkN7dh/Qms3HNbBMxyH\n",
       "FhrkpRuv7qNrR0XJw43/cgAAAM6En5QAAOelrsGmr5OO6/2Nh5V7hp3X+0Z1083j+2r04DBZzByH\n",
       "BgAAcC6EcwBAi5RV1mnd1mP66NujKqusb3ZNQv8euml8Hw3ijHIAAIDzQjgHAJxV5slyffTNUW1I\n",
       "Oq56a9NN3lwsJo0bEaUZ43pzHBoAAMAFIpwDAJqw2w3tOpivDzcf0e70gmbXeHm4aPLlMZp6ZS8F\n",
       "+Xu2cYUAAACdC+EcANCott6qDUnH9eE3R5WdX9nsmmB/D027qreuH91TXh6ubVwhAABA50Q4BwCo\n",
       "sLRGn3yXoXVbj6mypqHZNf2iu2n6Vb01Zki4XCzmti0QAACgkyOcA0AXlp5Vog82HdG3Kbmy240m\n",
       "82azSWMGh2n61b0V3zPQCRUCAAB0DYRzAOhirDa7tqac0IffHFHaGc4n9/Z01fWX9dQNV8Sqe4BX\n",
       "G1cIAADQ9RDOAaCLKCqr0fptmVq/7ZiKy+uaXRMe7K1pV/XWNQlR8nTnvwgAAIC2wk9eANCJGYah\n",
       "1IxiffJdhrak5MrWzK3rkjSsb4imXdVLI+N7yGzmfHIAAIC2RjgHgE6ots6qTbuz9fG3GTp2orzZ\n",
       "NW4uZl09IlLTruqtmDDOJwcAAHAmwjkAdCK5hZX69Ltj+nJHpqpqrc2u6R7opRvGxGhCYk/5ebu1\n",
       "cYUAAABoDuEcADo4m93QrrQ8ffxdhnal5Z9x3Yi47rphbKxG9u8hC7euAwAAtCuEcwDooEoqavXl\n",
       "jiyt35apvOLqZtd4e7jo2sRoTRkTq4gQnzauEAAAAC1FOAeADsRuN5RyuEDrtmZq274TZ9zgrWeo\n",
       "r264opfGjYhk13UAAIAOgJ/YAKADKK2o01c7s7R+e6ZOFFY1u8ZsNunywWH62dhYDewVJJOJW9cB\n",
       "AAA6CsI5ALRThmFo75FCrduaqa17c2W1NX+VPMjfQ9cl9tSky3sqyN+zjasEAABAayCcA0A7U1ZZ\n",
       "p692Htf6bceUe4ar5CaTNDK+hyaN7qmE/j1ksZjbuEoAAAC0JsI5ALQDdruhfUcLtX5bpraknJDV\n",
       "Zm92XaCfu65L7KmJl/VU90CvNq4SAAAAlwrhHACcKL+kWl8nHdeXO7LOuOO6ySQNj+uuSaNjlDiA\n",
       "q+QAAACdEeEcANpYfYNN2/ed1Bc7MrXnUIGM5h8lV4CvuyYkRmviZT0VGuTdtkUCAACgTRHOAaCN\n",
       "HM0p0xfbM7VxV7YqaxqaXWMySUP7hmjS5TG6bGCoXLhKDgAA0CUQzgHgEqqortemXdn6YkeWjuaU\n",
       "nXFd90AvTRgVrWsToniWHAAAoAsinANAK7PZ7Pr+UKG+3JmlrXvPvLmbm4tZY4aEa0JitAb3DpbZ\n",
       "zLnkAAAAXRXhHABaSUZumb5OOq5Nu7JVUlF3xnV9orrpusRoXTU8Uj6erm1YIQAAANorwjkAXISi\n",
       "shpt2pWtDcnZOnai/IzrfL3cND4hUhNGRSs23L8NKwQAAEBHQDgHgPNUU2fV1r0ntCH5uFIOFch+\n",
       "ht3WzSZpRHwPTUiMVuKAULm6sLkbAAAAmkc4B4AWsNkNpRwq0Ibk49q694Rq621nXBsb7qfxI6N0\n",
       "9YhIBfp5tGGVAAAA6KgI5wBwBoZh6GhOmTbtztGmXdkqLq8949pAP3eNGxGl8QlRignza8MqAQAA\n",
       "0BkQzgHgJ7LzK7R5d442785RTkHlGde5u1k0ZnCYxo+M0pC+IbKw2zoAAAAuEOEcACTlF1frmz2n\n",
       "AvnR3DOfR24ySUP7hmj8yChdPjhMnu58GwUAAMDF46dKAF1WSUWtvt2Tq2/25OjAseKzro0J89P4\n",
       "kZG6ekSkgvw926hCAAAAdBWEcwBdSmV1vbbsPaHNu7O193DhGXdal6SwIG9dNTxCVw6PUM9QniMH\n",
       "AADApUM4B9DpVVTXa/u+k/ouJVd70vNltZ05kQf5e+jKYRG6aniE+kR2k8nEc+QAAAC49AjnADql\n",
       "sso6bdt3Qt99n6uUw4WyneUSua+Xm64YGq6rhkdoQGyQzGzsBgAAgDZGOAfQaZSU12rrD4F835Gz\n",
       "37Lu5eGi0YPCdNXwCA3tGyIXi7ntCgUAAAB+gnAOoEMrLK3Rlr252pJyQqkZRTLOEsg93S0a1T9U\n",
       "Y4eGK6F/D7m5WtquUAAAAOAsCOcAOpzcwkpt33dSW1JylZZZcta1Xh4uumxgqMYOCdfwuO4EcgAA\n",
       "ALRLhHMA7Z7dbij9eIm27zup7ftP6nhexVnX+3i6avSgMI0dGq6hfYPl6kIgBwAAQPtGOAfQLtU3\n",
       "2PT9oQJt339SO/afVElF3VnX+/u4nQrkQ8I1uE8wz5ADAACgQyGcA2g3yqvqlXTgpLbtO6ndB/NV\n",
       "W2876/oAX3ddPvjUFfKBsUGyEMgBAADQQRHOAThVbkGldqTmafv+E0rNKJb9bFusS4rq4avRg0J1\n",
       "2cBQ9Y0K4NgzAAAAdAqEcwBtqr7Bpn1Hi5R0IE9JB/J0orDqrOvNJql/bJAuGxiqywaFKjzYp40q\n",
       "BQAAANoO4RzAJZdfUq3ktHwlpebp+8MFqjvH7erubhYN7xeiywaGadSAHvL3cW+jSgEAAADnIJwD\n",
       "aHVWm11px4obr45nnjz77uqS1M3HXaMG9NDoQWEa2i9E7hx5BgAAgC6EcA6gVRSW1mhPer6S0vK1\n",
       "52C+qmqt53xNn6huGtW/hxL691CfyG48Pw4AAIAui3AO4ILU1Fm170ihdqcXaE96vo7nVZ7zNd4e\n",
       "Lhoe110J/XtoRHx3Bfh6tEGlAAAAQPtHOAfQIja7oSPZpdqdnq/dBwt0MLNYVtvZd1aXpJgwP42M\n",
       "PxXI42MCOX8cAAAAaAbhHMAZ5RVXa88PYfz7QwWqrGk452s83Cwa2jdEI/v3UEJ8D4UEeLZBpQAA\n",
       "AEDHRjgH0Ki4vFZ7Dxdq75FCpRwuPOcxZ5JkMkl9IrtpWL8QDY/rrviegXJ14eo4AAAAcD4I50AX\n",
       "VlpRp71HCrX38KkwnlNw7ufGJSkkwFPD+3XX8LgQDekTIj9vt0tcKQAAANC5Ec6BLqSssk77jhY1\n",
       "hvHjeec+4kySPN1dNKRPsIb3C9GwuO4KD/aWycTO6gAAAEBrIZwDnVhJea1SjxVr/w+B/NiJ8ha9\n",
       "zsViUr/oAA3pE6Jh/UIU1zOAjdwAAACAS4hwDnQShmEop6BSqRnFSs0oUmpGcYueGZcki9mkvlHd\n",
       "NLhPsIb0CVZ8TKA83Pj2AAAAALQVfvoGOqgGq11HckqVerRYB46dCuPlVfUteq3ZbFKfSH8N7h2s\n",
       "IX1C1D82UJ7ufDsAAAAAnIWfxoEOoryqXulZJTpw7NSV8fTMEtVb7S16rdkk9Yrw1+A+IRrSJ1gD\n",
       "YgPl5eF6iSsGAAAA0FKEc6AdarDalZFbpoOZJUrPKtHBrJIW36IuSe5uFsVFB6h/bKAGxAYpvmcA\n",
       "YRwAAABoxwjngJMZhqG84upTITzzVBA/mlOmhhZeFZekbj7ujUF8QGygekX4s4EbAAAA0IEQzoE2\n",
       "VlpRpyM5pTqcXar0zFIdzCpWWWXLnhU/LSLERwNiA394C1IYR5sBAAAAHRrhHLiEispqdCSnTEeO\n",
       "l556n12qwrLa8/o7vD1c1Dc6QHHRAerX89R7fx/3S1QxAAAAAGcgnAOtwDAMFZbW6nB2qY7klOpI\n",
       "9qkgXlJRd15/j9lsUkyY36kgHh2guJ4BigjxkdnMVXEAAACgMyOcA+epvsGmrLwKHcst17ET5co8\n",
       "Ua6juWUtPsbsx4L9PRTXM7AxiPeO9Od8cQAAAKALIgUAZ2AYhvJLanQst0zHTpQ3vuUWVMpunP/f\n",
       "1z3AU70ju6l3pL96R5x6H+Dr0fqFAwAAAOhwCOfo8gzDUElFnY7nVSg7r0KZJysag3hNnfWC/s6w\n",
       "IG/1ivRXn8hu6h3hr14R/jwnDgAAAOCMCOfoMmx2Q/nF1TqefyqEH8+rbPy4qvbCQrjFbFJkrttl\n",
       "5QAAFhFJREFUdx/1DPNT74hu6hPlr14R3eTjyZniAAAAAFqOcI5Op7q2QScKq5RbUHUqfOdX6nhe\n",
       "hXIKKs/r7PCfCvTzUEy4n2JC/U69D/NTZHdfubpwnjgAAACAi9Nq4TwvL09TpkzRvffeq0WLFrXo\n",
       "NaWlpXr++ee1ceNGFRcXq1evXrrjjjs0ZcqUJmtramr0yiuv6JNPPlF+fr4iIyM1f/58LViwoLW+\n",
       "BHQglTUNOlFYeSqEF1bpxI/eSivPb4f0n3JztahnqK9iwv4bwnuG+nFbOgAAAIBLplXCeVVVle65\n",
       "5x5VVVXJZGrZkU/V1dW67bbblJaWpsmTJyssLEzr16/X0qVLVVJS4hC6bTab7rvvPm3evFnjxo3T\n",
       "5MmTtWnTJj3++OPKzs7Wgw8+2BpfBtoRm82uorJa5ZdUK7+kWnlF1Y0hPLewShXV578z+k/5eLoq\n",
       "qoevIrv7KLK7r6J6+Ciqh69CArxk4egyAAAAAG3oosN5Tk6O7rnnHqWmpp7X65YvX67U1FQ9+uij\n",
       "mj9/viTp7rvv1ty5c/X0009r8uTJCgwMlCR9+umn2rx5s26//Xb95je/kSTde++9uuOOO7Rs2TLN\n",
       "mDFD/fr1u9gvBW2owWpXYWmN8ot/CN8l1SooqVFecbUKSqpVWFYr+4Vsid6MIH8PRXX3VeQP4fv0\n",
       "x9183Fv8yyQAAAAAuJQuKpwvW7ZMzz//vOrr6zV69Ght27atxa9dvXq1goODNW/evMYxb29vLV68\n",
       "WPfff78++uijxtvjV61aJRcXFy1evPi/hbu46Ne//rXmzp2rd999Vw8//PDFfCloRbV1VhWV16qo\n",
       "rEbFZbUqKqtVcfmp90VlNcovqVFJRa2M1snekqRuPu4KC/ZWWLC3wn94HxbsrYgQH3l5sDkbAAAA\n",
       "gPbtosL58uXLFRkZqccee0wZGRktDudZWVnKz8/XpEmTmly5TExMlCQlJSVp0aJFqq+v1969ezVg\n",
       "wAD5+vo6rB08eLA8PDyUlJR0MV8GWsBuN1RV26DSijqVVdaprLJepRW1P4Tw2lMhvLxGRWW1qr7A\n",
       "nc/PJdDPXWHBPg7hOyzo1HsCOAAAAICO7KLC+eOPP64xY8bIZDLp6NGjLX5dVlaWJCk6OrrJXEhI\n",
       "iNzc3HTs2DFJp26bt9lsza61WCwKDQ1VRkbGhX0BXViD1a7KmnpVVjeoqqZB5VX1Kq08FbxLK+tU\n",
       "XvnfP58O47ZWus38TAL93BUS4KXuAV7qHuCp7oE/+jjASx7uHC4AAAAAoHO6qLQzduzYC3pdaWmp\n",
       "JDW5En6aj4+PKioqWrTW19dXmZmZstvtMpu7xpFWNptdNfU21dZZVfPDW229VTW1pz6uqmlQRU2D\n",
       "KqsbGgN4Zc2pEF5ZXa+KmgbV1dvatGZ3N4uC/DwU5O+poG4e6hHgpZAAL/UIPBW8g7t5ys3V0qY1\n",
       "AQAAAEB74ZRLkVbrqdue3dzcmp13c3NTXV1di9dKUl1dnTw9PVu71GbV1luVkVsmu92Q3TBOvbfr\n",
       "1MeNf3b82GozVG+1qcFqV0ODTQ02u+ob7Kq32mS12lVvtau+4Yd5q10NVpvq6m2qrbc1CeD1F3FW\n",
       "d2szm6Ruvh4K8j/1Fng6gDd+fOrPXh4ubL4GAAAAAGfglHDu7n7qvOiGhoZm5+vr6xuDdkvWmkym\n",
       "NgvmknQoq1T3PrOxzT5fW3Nztaibr7u6+bjJ38dd3Xzc5f/DW+OYr7v8vN3UzdeDY8cAAAAA4CI5\n",
       "JZz7+/tLUuOt6z9VWVmpkJCQFq2tqKiQl5fXBdcSFxd33q+pK8/V8S0vX/DnbCsms0kuZpMsZpMs\n",
       "FrMsZpPMZpMsFpMs5lN/djn9scUkF4tZLhazzGaT6iXl//AGAAAAAF3BgQMHJEk7duxocVY8ePBg\n",
       "q3xup4TzmJgYSVJ2dnaTufz8fNXX1ys2NlaSFBERIVdX12bX2mw2nTx5Un379r2k9f6U3VqrmuKW\n",
       "b4AHAAAAAMDZOCWch4eHKzw8XMnJyTIMw+FZ5B07dkiShg0bdqpAFxcNHTpUKSkpqqqqkre3d+Pa\n",
       "lJQU1dbWNq69EOfzW47Tvznp0aOHevbsecGfEzjtdL+fPkIQuFj0FFobPYXWRk+hNdFPaG2ne6p/\n",
       "//56//332/RzO+1sqmnTpunll1/WypUrtXDhQkmnbmd/+eWX5enpqenTpzeunT59upKSkvTCCy/o\n",
       "oYceknTqGfS//e1vMplMmj17dpvWvnnz5jb9fOi8Tv/CZ8WKFU6uBJ0FPYXWRk+htdFTaE30E1rb\n",
       "6Z5q62AutVE4f+GFF2QymbRkyZLGsTvuuEOfffaZnnjiCe3cuVORkZH6/PPPlZOTo9/97ncKCAho\n",
       "XHvzzTfrP//5j5YtW6b09HQNGDBA33zzjQ4ePKjbb7+9zW9rBwAAAACgNbXaweAmk+mMR2W9+OKL\n",
       "evHFFx3GfHx8tHr1at18881KSkrSv/71L/n7++uZZ57RggULHIs0m/Xaa6/p1ltv1ZEjR7RixQrZ\n",
       "7XY9+uijeuCBB1rrSwAAAAAAwClMhmEYzi6iozh9i0Nr7cYH0FNobfQUWhs9hdZGT6E10U9obc7s\n",
       "qVa7cg4AAAAAAC4M4RwAAAAAACcjnAMAAAAA4GSEcwAAAAAAnIxwDgAAAACAkxHOAQAAAABwMo5S\n",
       "AwAAAADAybhyDgAAAACAkxHOAQAAAABwMsI5AAAAAABORjgHAAAAAMDJCOcAAAAAADgZ4RwAAAAA\n",
       "ACcjnAMAAAAA4GSEcwAAAAAAnIxwDgAAAACAkxHOAQAAAABwMsI5AAAAAABORjgHAAAAAMDJCOcA\n",
       "AAAAADgZ4byFrFarli1bpilTpmjo0KGaMGGCXnrpJVmtVmeXhnYmLy9PI0eO1FtvvdXs/Pvvv68b\n",
       "b7xRw4cP19VXX60///nPqq6ubnbtxo0bNWfOHI0YMUJjxozRI488ouLi4ktZPtqRgoICPfroo7r6\n",
       "6qs1aNAgXXHFFfrNb36j48ePN1lLX6ElSkpK9Mc//lETJkzQ0KFDdcMNN+i1116TzWZrspaewoV4\n",
       "8sknFR8fr507dzaZo6fQEs8995zi4+ObfVu6dKnDWnoKLfHhhx9q5syZGjZsmK644grde++9Onr0\n",
       "aJN17aGfTIZhGBf9t3QBjz76qN555x0lJCRoxIgRSk5OVnJysiZOnKjnn3/e2eWhnaiqqtIvfvEL\n",
       "paSk6OGHH9Ytt9ziMP/KK6/or3/9q+Lj43XVVVfp4MGD2rRpk4YNG6YVK1bI1dW1ce3HH3+sBx54\n",
       "QNHR0Zo4caJyc3O1bt06RUZGau3atfL19W3rLw9tqKCgQLNmzdLJkyc1duxYxcfH6+jRo9q4caP8\n",
       "/Pz0zjvvqGfPnpLoK7RMZWWlZs2apYyMDF1zzTWKjY1VcnKy9uzZo3Hjxunll19uXEtP4UKkpKRo\n",
       "7ty5MgxDy5cv16hRoxrn6Cm01OLFi7VlyxbdeeedTeb69euniRMnSqKn0DJ//etf9corrygmJkbX\n",
       "XHON8vLytG7dOnl7e2vt2rWKioqS1I76ycA5JScnG3FxccZ9993nMP7ggw8acXFxxoYNG5xTGNqV\n",
       "7OxsY8aMGUZcXJwRFxdnvPXWW03mBwwYYMydO9ewWq2N43/729+MuLg4Y+XKlY1jlZWVxqhRo4zr\n",
       "rrvOqKysbBx/9913jbi4OOPPf/7zpf+C4FS///3vjbi4OOPNN990GP/ggw+MuLg4Y/HixYZh0Fdo\n",
       "uWeeecaIi4szVqxY4TC+dOlSIy4uzti4caNhGPQULkxdXZ1xww03NP4fuGPHjsY5egrnY/z48caM\n",
       "GTPOuoaeQkt8//33RlxcnLFw4UKjrq6ucXzdunVGXFyc8dBDDxmG0b76idvaW2DVqlWSpCVLljiM\n",
       "L126VCaTSWvWrHFGWWhHli1bpqlTpyo9PV2jR49uds0777wjm82mxYsXy2KxNI4vXrxYPj4+Dn30\n",
       "ySefqLy8XIsWLZK3t3fj+M0336zY2Fi99957stvtl+4LgtN9+eWXCgoK0q233uowPm3aNEVFRem7\n",
       "776TYRj0FVosJydH4eHhmj9/vsP4lClTJEl79uyRxPcqXJiXX35ZmZmZGjNmTJM5egotVVlZqdzc\n",
       "XMXFxZ11HT2Flli1apXMZrMef/xxubm5NY5ff/31mj17tmJiYiS1r34inLdAUlKSAgMD1adPH4fx\n",
       "7t27q2fPnkpKSnJSZWgvli9frsjISK1cuVLTp09vds3OnTtlMpmUmJjoMO7m5qahQ4cqLS1NlZWV\n",
       "jWslNRv0R40apdLSUqWnp7fyV4H2wm63a/HixU1+IXiam5ubGhoa1NDQQF+hxZ555hl9/fXXMpsd\n",
       "/+s//dxdcHCwJL5X4fylpaXp1Vdf1V133dXkZyWJnkLLpaWlSdI5wzk9hZbYvHmz+vXr1/gY4I89\n",
       "9thjuuuuuyS1r34inJ9DfX298vLyFB0d3ex8RESEysrKVFJS0saVoT15/PHH9cEHH2jYsGEyzrCN\n",
       "Q1ZWloKCguTp6dlkLiIiQpJ07NgxSdLx48dlMpkan4P5scjISElSZmZmK1WP9sZsNuuWW27RvHnz\n",
       "mswdOXJER48eVXR0tNzc3OgrXLCioiKtWrVKL7zwgsLDwzVt2jRJfK/C+bHZbHrkkUcUGxuru+66\n",
       "q9n/A+kptNTBgwclScXFxfrFL36hUaNGKTExUffee68yMjIa19FTOJeioiKVlJSoT58+OnLkiJYs\n",
       "WaKEhAQlJCTovvvuU3Z2duPa9tRPhPNzKC0tlaQzPth/evz0b1PQNY0dO1Ymk+msa0pLS+Xn59fs\n",
       "3Ok+qqiokHRqR2U3NzeHW3BO8/HxcViLrsNut+vxxx+XYRiaPXu2JPoKF+a5557T2LFj9fjjj8vP\n",
       "z0+vv/56Y7/QUzgfr7/+ug4cOKA//vGPDhsm/Rg9hZY6Hc7feOMN+fr6as6cORoyZIg+//xzzZ49\n",
       "u/HKOj2Fc8nPz5d06hSl2bNnKzc3V7NmzdKIESO0fv16zZkzR7m5uZLaVz8Rzs/h9FFpzf0D/Hi8\n",
       "rq6uzWpCx2S1Ws/ZR/X19S1eS891LYZh6NFHH9W2bds0ePBgLVq0SBJ9hQsTHR2tO++8U9ddd52K\n",
       "i4u1YMECpaamSqKn0HIZGRn6+9//rvnz52vo0KFnXEdPoaVcXFwUERGhN998U88//7weeOABvfba\n",
       "a3rqqadUUVGhhx9+WBI9hXM7fQTazp07NXHiRK1du1YPPvigXn31Vf3ud79TUVGR/vSnP0lqX/3k\n",
       "csGv7CI8PDwkSQ0NDc3On/6Hau42CODHPDw8WtxHHh4eKioqOutaLy+vS1Al2iOr1arf//73eu+9\n",
       "9xQdHa2XXnpJLi6nvn3TV7gQN910U+PHGzdu1N13360HH3xQH330ET2FFjEMQ4888oiCg4N1//33\n",
       "n3UtPYWWevTRR5sdnzp1qt5++20lJycrIyODnsI5nd5fxcXFRb/97W8d7nBdsGCBli1bpk2bNqm2\n",
       "trZd9RNXzs/Bx8dHJpPpjLcnVFRUyGQycT4izsnPz++sfST999YZPz8/1dXVNfuN4vQjFPRc11BT\n",
       "U6Nf/epXeu+99xQTE6Ply5crJCSkcZ6+wsUaN26cRo8ercOHDysrK4ueQousWrVKu3bt0h/+8Idm\n",
       "L1D8+NlzegqtYcCAATIMQ9nZ2fQUzun0v2lERESTW9ZNJpPi4uJktVqVm5vbrvqJcH4Obm5uCg8P\n",
       "d9g04Meys7MVGBh4xucUgNNiYmJUVFTU+Fu1H8vJyZHFYmncTTImJkaGYSgnJ6fJ2tO9GBsbe2kL\n",
       "htOVlZVp0aJF2rx5swYMGKDVq1crNDTUYQ19hZaw2WzasmWLtmzZ0ux8eHi4DMNQSUmJYmJiVFhY\n",
       "SE/hrNavXy9JuvPOOxUfH9/4tmLFCknSLbfcovj4eOXk5NBTaBGbzab9+/crJSWl2fna2lpJkru7\n",
       "Oz2Fc4qKipLZbD7jFfHTjy57enq2q34inLdAQkKCCgoKGnfpOy0vL0+ZmZlnfc4KOC0hIUE2m63x\n",
       "CIbT6urqtGfPHvXp06fxNpiEhARJ0o4dO5r8Pdu3b5efn5969+596YuG09TV1emuu+5SSkqKEhMT\n",
       "tWLFCgUGBjZZR1+hJQzD0OLFi/XAAw80e/5qWlqazGazoqKilJCQILvdTk/hrG666SYtWbKkydvp\n",
       "n4lmzJihJUuWyM/Pj55Ci1itVs2ePVu//OUvm3yfMgxDu3fvlouLiwYMGEBP4Zzc3d01ePBg5ebm\n",
       "Kisry2HOarUqLS1N3bp1U48ePTRy5Mh200+E8xa48cYbJUnPPvts421ahmHo2WeflSTNmTPHabWh\n",
       "4/jZz34mi8WiF154weE3cy+//LKqqqoad9+WpAkTJsjb21uvvfaaysrKGsffffddZWZmaubMmW1a\n",
       "O9res88+qz179mj48OF67bXX5O3t3ew6+got4eLiookTJ6q4uFivvfaaw9zq1au1f/9+XX311QoM\n",
       "DKSn0CKnw/dP34YMGSLpv+Hd19eXnkKLuLu7a9y4cSorK9Orr77qMPfGG2/o0KFDmjp1qnx8fOgp\n",
       "tMjpPvjjH//YeKVcOtVPeXl5uvHGG2U2mzV16tR2008m40yHMsPB0qVL9emnn2rIkCFKTEzU7t27\n",
       "lZycrEmTJum5555zdnloR/7zn//o4Ycf1sMPP6xbbrnFYe6ZZ57RP//5T/Xu3Vvjxo3T4cOHtWnT\n",
       "Jo0cOVLLli1zOIbm3//+t/7whz8oLCxMkyZNUl5entatW6eePXvq7bff5lGKTqygoEDjx4+X1WrV\n",
       "zTff3ORW9tPuuusuubm50Vdokby8PM2ZM0cnT57UFVdcob59++rAgQPatm2boqKitHr16sb9DOgp\n",
       "XKgnnnhCK1as0IoVKzRq1KjGcXoKLXH8+HHNmTNHxcXFGjNmjOLi4rRv3z7t3LlTffv21cqVK+Xv\n",
       "7y+JnkLLLFmyRF9++aX69OmjK6+8UkeOHNHmzZsVGxurNWvWNB5/1l76yfKHP/zhDxf7RXcF1157\n",
       "rVxcXLR7925t2bJFLi4uWrRokR566CFZLBZnl4d2JC0tTV9//bWuvPLKJo88jBkzRgEBAdq3b5++\n",
       "+eYb1dXVaebMmXrssceabKgzaNAg9erVSwcOHNDmzZtVUlKi66+/Xn/5y18UEBDQll8S2tjWrVv1\n",
       "8ccfy2QyKTU1VTt37mzylpSUpNtvv11ubm70FVrk9NWmyspKJSUlafv27Y2/AHrqqaccHpugp3Ch\n",
       "vv32W6WkpGjGjBmKiIhoHKen0BL+/v6aMmWKysvLtXv37sZbh2fOnKknn3zSIfTQU2iJ66+/Xn5+\n",
       "fkpNTdW3336rqqoq3XjjjXrqqafaZT9x5RwAAAAAACfjmXMAAAAAAJyMcA4AAAAAgJMRzgEAAAAA\n",
       "cDLCOQAAAAAATkY4BwAAAADAyQjnAAAAAAA4GeEcAAAAAAAnI5wDAAAAAOBkhHMAAAAAAJyMcA4A\n",
       "AAAAgJMRzgEAAAAAcDLCOQAAAAAATkY4BwAAAADAyQjnAAAAAAA4GeEcAAAAAAAnI5wDAAAAAOBk\n",
       "hHMAAAAAAJzs/wPdUg4ODYhNGgAAAABJRU5ErkJggg==\n",
       "' width=499 height=348/>"
      ],
      "text/plain": [
       "<matplotlib.figure.Figure at 0x1151aff90>"
      ]
     },
     "metadata": {},
     "output_type": "display_data"
    }
   ],
   "source": [
    "p = simulator.vectorize_params(p)\n",
    "t = np.cumsum([.0005]*600)\n",
    "x = simulator.temporal_dynamics(p, t)\n",
    "plt.plot(x[0])"
   ]
  },
  {
   "cell_type": "code",
   "execution_count": 50,
   "metadata": {
    "collapsed": false
   },
   "outputs": [],
   "source": [
    "ex = np.exp(2.5*t)\n",
    "hy = np.cosh(2.5*t)"
   ]
  },
  {
   "cell_type": "code",
   "execution_count": 51,
   "metadata": {
    "collapsed": false
   },
   "outputs": [
    {
     "data": {
      "text/plain": [
       "[<matplotlib.lines.Line2D at 0x111d2bb50>]"
      ]
     },
     "execution_count": 51,
     "metadata": {},
     "output_type": "execute_result"
    },
    {
     "data": {
      "text/html": [
       "<img src='data:image/png;base64,iVBORw0KGgoAAAANSUhEUgAAA+cAAAK5CAYAAADdDV+PAAAABHNCSVQICAgIfAhkiAAAAAlwSFlz\n",
       "AAAWJQAAFiUBSVIk8AAAIABJREFUeJzs3Xl4lOXh9fEzk8mekABh32VfAyRAANe6ti6IVkRlkyAu\n",
       "lbr8REUUBFRKW1qVoqgoAUSqiFuttlqXgkIIYV8TIYAkQAgkgZA9M/P+weuDU0HJes9Mvp/r6h/3\n",
       "mYw50ZDmMMnz2Nxut1sAAAAAAMAYu+kCAAAAAADUd4xzAAAAAAAMY5wDAAAAAGAY4xwAAAAAAMMY\n",
       "5wAAAAAAGMY4BwAAAADAMMY5AAAAAACGMc4BAAAAADCMcQ4AAAAAgGGMcwAAAAAADGOcAwAAAABg\n",
       "GOO8Erp27aquXbuargFUG5/L8Bd8LsMf8HkMf8HnMvyByc9jxjkAAAAAAIbV2DjPzs5WXFycFi9e\n",
       "fN7P2b59u+677z4NGjRIvXr10pVXXqm5c+equLj4J29bXFys559/XldeeaViY2N17bXXatmyZTVV\n",
       "HwAAAAAAY2pknBcWFmrSpEkqLCyUzWY7r+ckJydr5MiR+uabb3TRRRdpzJgxio6O1muvvaYxY8ao\n",
       "rKzMelun06kHHnhACxYsUMeOHTV27Fg5HA7NmjVLc+bMqYkPAQAAAAAAYxzV/QdkZWVp0qRJ2rlz\n",
       "Z6WeN2PGDEnSsmXL1Lt3byufNm2a3nnnHb311lsaN26cJOmTTz7RqlWrlJiYqMmTJ0uSfv/732vC\n",
       "hAlKSkrS8OHD1aVLl+p+KAAAAAAAGFGtV86TkpJ0/fXXKz09XQkJCef9vD179mjfvn26/PLLPYa5\n",
       "JP3ud7+TJK1evdrKli1bJofDoXvuucfKHA6HHnzwQbndbr377rvV+TAAAAAAADCqWq+cL1myRK1b\n",
       "t9bMmTO1b98+JScnn9fzIiMjNXnyZHXu3PknjwUGBko6/aPyklRWVqZt27apR48eioyM9Hjb3r17\n",
       "KyQkRKmpqdX5MAAAAAAAMKpa43zWrFkaMmSIbDabMjIyzvt5zZo1U2Ji4lkf+/zzzyXJGu5ZWVly\n",
       "Op1q27btT942ICBAzZs31759+6rQHgAAAAAA71CtH2sfOnToeV8A7nwcO3ZML774omw2m0aMGCFJ\n",
       "ys/Pl6SfvGr+g8jISJWUlMjlctVYDwAAAAAA6pLX3Oe8oKBAEydO1PHjxzV69Gjrd9ErKiokSUFB\n",
       "QWd93g95aWlp3RQFAAAAAKCGecU4z83N1dixY7Vz505ddtllevzxx63HgoODJUnl5eVnfW5ZWZls\n",
       "NptCQ0PrpCsAAAAAADWt2rdSq67vv/9eiYmJOnjwoC6//HI9//zzstvP/J1BVFSUpNOvrJ9NQUGB\n",
       "wsLCqvz+u3btWunnXHzxxWrXrl2V3yfgLUaPHm26AlAj+FyGP+DzGP6Cz2X4g8rsxLS0tBp5n0bH\n",
       "+a5du5SYmKjc3FwNHz5czz77rMcwl6RWrVopMDBQmZmZP3m+0+nUkSNHznrV99qUnZ2t7OzsOn2f\n",
       "QG1ISUkxXQGoEXwuwx/weQx/wecyUDXGxvmBAwc0fvx45efn684779Rjjz121rdzOByKjY3V1q1b\n",
       "VVhYqPDwcOuxrVu3qqSkRH379q1yj8r8LcfFF1+s7OxsRUZGqnv37lV+nwAAAAAA77Nr1y4VFBSo\n",
       "WbNmWrVqVZ2+byPj3OVy6eGHH1ZeXp7Gjh17zmH+g2HDhik1NVXz5s2zfh+9vLxcL7zwgseV3Wtb\n",
       "u3btlJ2dre7du2vp0qV18j4BAAAAAHVj9OjRSklJMfJrzHUyzufNmyebzab7779fkvSf//xHO3bs\n",
       "UFBQkEJDQzVv3ryfPKdJkyYaOXKkJOnmm2/We++9p6SkJKWnp6tHjx5avXq10tLSlJiYWOc/1g4A\n",
       "AAAAQE2qsXFus9nOec/z+fPne4zz1NRUSadf/V6wYMFZn9O9e3drnNvtdi1cuFDz5s3Tp59+qg0b\n",
       "Nqht27aaNm2abrvttpr6EAAAAAAAMMLmdrvdpkv4ih9+xGHgwIH8WDsAAAAA+BmTm88r7nMOAAAA\n",
       "AEB9xjgHAAAAAMAwxjkAAAAAAIYxzgEAAAAAMIxxDgAAAACAYYxzAAAAAAAMY5wDAAAAAGAY4xwA\n",
       "AAAAAMMY5wAAAAAAGMY4BwAAAADAMMY5AAAAAACGMc4BAAAAADCMcQ4AAAAAgGGMcwAAAAAADGOc\n",
       "AwAAAABgGOMcAAAAAADDGOcAAAAAABjGOAcAAAAAwDDGOQAAAAAAhjHOAQAAAAAwjHEOAAAAAIBh\n",
       "jHMAAAAAAAxjnAMAAAAAYBjjHAAAAAAAwxjnAAAAAAAYxjgHAAAAAMAwxjkAAAAAAIYxzgEAAAAA\n",
       "MIxxDgAAAACAYYxzAAAAAAAMY5wDAAAAAGAY4xwAAAAAYFRRSbkyjxbI7XabrmKMw3QBAAAAAED9\n",
       "dSjnlJ58ZY1y8op1aVxr/d/tcaYrGcEr5wAAAAAAI8ornJqzNFU5ecWSpFWbslRe4TLcygzGOQAA\n",
       "AADAiKSPdyoj64R1ju0Uo0BH/Zyp9fOjBgAAAAAYlbLziD5anWGdw0MDdf8tfQ02MotxDgAAAACo\n",
       "U8dPFOv55Zs8st+P6KumjcIMNTKPcQ4AAAAAqDNOl1tzl21UQVGZlf16SHsN6dPSYCvzGOcAAAAA\n",
       "gDrz7hfp2rb3mHVu36KBEm/oZbCRd2CcAwAAAADqxM59x/XWZ2nWOSgwQJNHxSk4MMBgK+/AOAcA\n",
       "AAAA1LpTRWX687INcrncVjbxxt5q27yBwVbeg3EOAAAAAKhVbrdbL76z2bqfuSRdGNtSVw1qa7CV\n",
       "d2GcAwAAAABq1adr92vttsPWuWmjMN1/S1/ZbDZzpbwM4xwAAAAAUGv2HTqhhR9ut852u02TR8Up\n",
       "PDTQYCvvwzgHAAAAANSK4tIKzVmyXuUVLisb/evu6taukcFW3olxDgAAAACocW63Wy+t3KKsnEIr\n",
       "69+1qW66tJPBVt6LcQ4AAAAAqHFfrD+orzdkWudGDYL10G39Zbfze+ZnwzgHAAAAANSog9kFWvD+\n",
       "Vutst0mP3BGv6Mhgg628G+McAAAAAFBjSsudmrNkvUrLnFZ265Vd1btTjMFW3o9xDgAAAACoMa99\n",
       "sE0HjhRY594dY3TrlV0NNvINjHMAAAAAQI1YtSlT/04+YJ0bhAfp/+7orwB+z/wXMc4BAAAAANV2\n",
       "6Ngp/W3FFo/s4dv7q3FUqKFGvoVxDgAAAAColvIKp/60NFXFpRVWdvNlnRTXrZnBVr6FcQ4AAAAA\n",
       "qJakj3dqT+YJ69y1XUON+nV3g418D+McAAAAAFBla7cd1kerM6xzeGigHh0VL0cAc7My+LcFAAAA\n",
       "AKiSo7lFeuHtTR7ZA7f2U9NGYYYa+S7GOQAAAACg0iqcLv3pzVQVFpdb2XUXdtDg3i0MtvJdjHMA\n",
       "AAAAQKUt+9du7T6QZ507to7S+Ot7Gmzk2xjnAAAAAIBK2bj7qN798jvrHBrs0KOj4xXoCDDYyrcx\n",
       "zgEAAAAA5+34iWL9ZfkGj+z+W2LVMibCUCP/wDgHAAAAAJwXp8utucs26sSpMiu7OqGdLu7X2mAr\n",
       "/8A4BwAAAACcl3c+T9O2vcesc9vmkZowrJfBRv6DcQ4AAAAA+EVb0nO0/PM06xwUGKDHRscrJMhh\n",
       "sJX/YJwDAAAAAH5W7skS/XnZBrndZ7J7hvdW2+YNzJXyM4xzAAAAAMA5Of///czzT5Va2a/i2+iK\n",
       "gW0NtvI/jHMAAAAAwDkt+/dubd973Dq3aRape2/qI5vNZrCV/2GcAwAAAADOasPubK344sz9zIOD\n",
       "AjRl7ACFBPN75jWNcQ4AAAAA+ImcvGLNXbbRI/vdb2PVplmkoUb+jXEOAAAAAPBQ8f9/z7yg6Mz9\n",
       "zK8a1E6XxbUx2Mq/Mc4BAAAAAB6WfrJLu/bnWuf2LRpo4vDeBhv5P8Y5AAAAAMCSsuOI3vt6j3UO\n",
       "DQ7Q42MHKDgwwGAr/8c4BwAAAABIkrJzi/TX5Z6/Zz7pln5q1STCUKP6g3EOAAAAAFB5hUt/XLpe\n",
       "p4rLrew3Q9rron6tDLaqPxjnAAAAAAAlfbxD6d/nW+eOraM0YVgvg43qF8Y5AAAAANRza7Ye0ker\n",
       "M6xzeIhDj48ZoEAHv2deVxjnAAAAAFCPHT5WqBfe3uSRPTCyn5o3DjfUqH5inAMAAABAPVVW7tSc\n",
       "petVVFJhZTdcfIEG925psFX9xDgHAAAAgHpq4UfbtTfzhHXu0jZa467tabBR/cU4BwAAAIB6aNWm\n",
       "TH26Zr91jggN1GOjByjQwUw0gX/rAAAAAFDPZB4t0N9WbPbIHrq9v5o2CjPUCIxzAAAAAKhHSsoq\n",
       "NGdJqopLnVZ206WdNLBHc4OtwDgHAAAAgHrC7Xbr5ZVbtf/wSSvr3r6RRv+mu8FWkBjnAAAAAFBv\n",
       "fLbugL5MPWidG4QH6dHR8XIEMA1N478AAAAAANQDezLz9cr726yzzSY9ckecYqJDDbbCDxjnAAAA\n",
       "AODnThWVafbi9SqvcFnZ7Vd3U7+uTQ22wo8xzgEAAADAj7lcbv1l+UYdzS2ysrhuTTXi8i4GW+F/\n",
       "Mc4BAAAAwI+9++V3Wr8z2zo3bRiq/7sjTna7zWAr/C/GOQAAAAD4qS3pOVr2r13W2RFg1+NjBygy\n",
       "LMhgK5wN4xwAAAAA/NDxE8X607JUudxnsok39lLnNg3NlcI5Mc4BAAAAwM9UOF2asyRVJ06VWdll\n",
       "ca11zeD25krhZzHOAQAAAMDPJH28U7v251rnds0jdd9vY2Wz8Xvm3opxDgAAAAB+5JstWfpw1V7r\n",
       "HBrs0JRxAxUS5DDYCr+EcQ4AAAAAfiLzaIFefHuTR/bArf3UqkmEoUY4X4xzAAAAAPADJaUVmr14\n",
       "vYpLnVY27OKOGhrb0mArnC/GOQAAAAD4OLfbrfkrt+j7IwVW1r19I427rofBVqgMxjkAAAAA+Lh/\n",
       "rd2vrzdkWufoiGA9NiZejgAmn6/gvxQAAAAA+LD07/P06gfbrbPdJk0eHafGUaEGW6GyGOcAAAAA\n",
       "4KNOFpbpD0vWq8LpsrJRv+6uPp2aGGyFqmCcAwAAAIAPcrnc+stbG5STV2xlA3o0082XdTbYClXF\n",
       "OAcAAAAAH/T252nasPuodW7WKEwP39ZfdrvNYCtUFeMcAAAAAHzM+p1H9NZnadY50GHXlLEDFBEW\n",
       "ZLAVqoNxDgAAAAA+5PCxQs19a6NHdu9NfdSxdbShRqgJjHMAAAAA8BElZRV6LilFhcXlVnZ1Qjtd\n",
       "OaidwVaoCYxzAAAAAPABbrdb81ds0f7DJ62sS9to3T28t8FWqCmMcwAAAADwAR9/s09fb8y0zlER\n",
       "QXp8zEAFOgIMtkJNYZwDAAAAgJfbkXFcr3+03TrbbdLkUfFq0jDUYCvUJMY5AAAAAHix3JMlmrNk\n",
       "vZwut5WNvbaHYjs3MdgKNY1xDgAAAABeqsLp0pwl65VXUGplQ/u01PBLOxlshdrAOAcAAAAAL/XG\n",
       "P3Zo575c69ymWYR+f2tf2Ww2g61QGxjnAAAAAOCFvt6YqX+szrDOocEOTRk7UGEhgQZbobYwzgEA\n",
       "AADAy+w7dELz3tnskT04sp/aNIs01Ai1jXEOAAAAAF7kVHG5ZietV1m508puvqyThvRpabAVahvj\n",
       "HAAAAAC8hMvl1txlG3T4eKGVxXaO0ehfdzfYCnWBcQ4AAAAAXuLtz9OUuivbOsdEh2ryqHgFBDDd\n",
       "/B3/hQEAAADAC6Tuytbyz9OssyPAriljBygqIthgK9QVxjkAAAAAGHb4WKH+vGyD3O4z2T039VGX\n",
       "tg3NlUKdYpwDAAAAgEElZRWavThFhcXlVnbVoHa6OqGdwVaoa4xzAAAAADDE7XZr/oot2nfopJV1\n",
       "ahOtu4f3NtgKJjDOAQAAAMCQD1ft1dcbM61zg/AgTRk7QEGBAQZbwQTGOQAAAAAYsCU9R4v+scM6\n",
       "223So6Pi1bRhmMFWMIVxDgAAAAB1LDu3SHOWpsr1owvA3Xl9L8V2aWKuFIxinAMAAABAHSopq9Bz\n",
       "i1JUUFRmZZf2b61hF19gsBVMY5wDAAAAQB1xu92a985mZRw6YWUXtIrS726Jlc1mM9gMpjHOAQAA\n",
       "AKCOfPDfvVq1Kcs6NwgP0tRxAxUS5DDYCt6AcQ4AAAAAdWBz+lElffyjC8DZbXpsTLyaNuICcGCc\n",
       "AwAAAECtO3K8UH/8nwvAjb++p/p04gJwOI1xDgAAAAC1qKSsQs8lpaigqNzKLo1rrRsu4gJwOINx\n",
       "DgAAAAC1xO12a97bm7Xv0Ekr69g6Svff0pcLwMED4xwAAAAAasn7X+/Vqs2eF4B7YtxABQcGGGwF\n",
       "b8Q4BwAAAIBasCntqBb/0/MCcI+PGaCmDbkAHH6KcQ4AAAAANezI8UL96U3PC8AlXt9TvTvFmCsF\n",
       "r8Y4BwAAAIAaVFJaoWcXeV4A7lfxbXQ9F4DDz2CcAwAAAEANcbvdevGdzdp/+MwF4Dq1jtJ9v43l\n",
       "AnD4WYxzAAAAAKgh73+9R6t/dAG4qIggTeECcDgPjHMAAAAAqAGnLwC30zrb7TY9xgXgcJ4Y5wAA\n",
       "AABQTYeOndIfl3peAG7CDb3UuyMXgMP5YZwDAAAAQDUUlZTrmTfW6VSx5wXgrruwg8FW8DWMcwAA\n",
       "AACoIpfLrbnLNupg9ikr69wmmgvAodJqZJxnZ2crLi5OixcvrtLzv/rqK3Xr1k27d+8+6+OTJ09W\n",
       "t27dzvq/uXPnVqc6AAAAAFTZm//apZSdR6xzowbBmnonF4BD5Tmq+w8oLCzUpEmTVFhYWKW/Gdq7\n",
       "d6+mTJnys8/dvXu3YmJiNHLkyJ88FhcXV+n3CQAAAADVtWpTplZ88Z11DnTY9cS4gWocFWqwFXxV\n",
       "tcZ5VlaWJk2apJ07d/7yG59FcnKyHnroIeXn55/zbcrLy7Vv3z796le/0v3331/VqgAAAABQY/Zk\n",
       "5uuFtzd7ZPffEquu7RoZagRfV+Ufa09KStL111+v9PR0JSQkVOq5paWlmjp1qsaPHy9J6tGjxznf\n",
       "du/evaqoqFCXLl2qWhUAAAAAakxeQYmefWOdysqdVnbjJR31q/i2BlvB11V5nC9ZskStW7fWm2++\n",
       "qWHDhlXquTk5OVq5cqUuvfRSffjhhz87vNPS0iRJ3bp1q2pVAAAAAKgR5RVOzU5ar2MnSqysf9em\n",
       "GnftuV9wBM5HlX+sfdasWRoyZIhsNpsyMjIq9dzo6GgtX75c/fr1+8W3/WGcZ2RkaOTIkUpLS1No\n",
       "aKguueQSPfTQQ2ratGmV+gMAAABAZbjdbr28cqt27c+1spYx4Zo8Kk4BAdwIC9VT5c+goUOHVvnW\n",
       "ABEREec1zKUz4/yll15S27ZtNXLkSLVv317vv/++brnlFmVnZ1epAwAAAABUxsff7NPnKd9b57AQ\n",
       "h54cP0gRYUEGW8FfVPtq7bUtNDRU7du31/z589WxY0crX7BggZ5//nk988wzmjdvnsGGAAAAAPzd\n",
       "lvQcLfxou3W22aTJo+LVplmkwVbwJ14/zv/2t7+dNb/77ru1YsUKffXVVyouLlZoaNVuV9C1a9fq\n",
       "1AMAAADg544cL9ScpevlcrmtbMxveii+ezODrVCbUlJSznsr/vDT3tXls78YYbPZ1K1bN1VUVOjI\n",
       "kSOm6wAAAADwQ0Ul5Zr1xjoVFJVb2SX9WuvmyzoZbAV/5NWvnJeWliotLU3BwcFn/VuLkpLTV0gM\n",
       "Dg6u8vuozN9yjB49WikpKVV+XwAAAAB8h8vl1l/e2qjvjxRYWac20Zp0a98qX38LvmHgwIFaunRp\n",
       "nb5Prx7n2dnZGjFihLp06aKPPvrI47Hi4mLt3LlTjRs3VsuWLQ01BAAAAOCv3vr3bq3bceandKMj\n",
       "gzV13EAFBwYYbAV/5dU/1t62bVt169ZN6enp+sc//mHlbrdbc+fOVV5enm677TaDDQEAAAD4o2+2\n",
       "ZOnt/6RbZ0eAXVPHDVRMdNWudQX8klp/5XzevHmy2Wy6//77q/T8GTNmaOzYsXr00Uf12WefqWXL\n",
       "lkpNTdWOHTs0YMAA3X333TXcGAAAAEB9lpF1Qs//fZNH9rvf9lG39o0MNUJ9UCPj3GaznfN3LubP\n",
       "n/+L4/znnh8bG6sVK1Zo3rx5WrdunYqKitSmTRs9+OCDSkxMVGBgYE18CAAAAACgvIISPbNonUrL\n",
       "nFZ2w8UX6IqB7Qy2Qn1QI+N8+PDhGj58+Fkf27179y8+f/bs2Zo9e/Y5H+/cubNefPHFKvcDAAAA\n",
       "gF9SVu7U7KT1yskrtrK+XZpo/HU9DbZCfeHVv3MOAAAAAHXB7Xbrbys2a9f+XCtrEROuR0fHKyCA\n",
       "2YTax2cZAAAAgHpv5Vd79NWGTOscHuLQU+MHKTIsyGAr1CeMcwAAAAD1WvL2w1ryyU7rbLfb9OiY\n",
       "AWrTLNJgK9Q3jHMAAAAA9da+Qyc0d9kGud1nsgk39FL/rk3NlUK9xDgHAAAAUC/lFZRo5uvrVPKj\n",
       "K7P/enB7XXdhB4OtUF8xzgEAAADUO2XlTj23KEXH8s9cmb1PpxhNHN77nLd5BmoT4xwAAABAveJ2\n",
       "uzVvxWbtPpBnZS1iwvX42AFycGV2GMJnHgAAAIB65d0vv9PX/3Nl9mmJXJkdZjHOAQAAANQba7cd\n",
       "1pJPdllnu92mx8YMUOumXJkdZjHOAQAAANQLGVkn9Je3NnhkE4f1Uj+uzA4vwDgHAAAA4PfyTpZo\n",
       "1hv/c2X2Ie117YUXGGwFnME4BwAAAODXysqdevZ/rswe2zlGE2/sbbAV4IlxDgAAAMBvud1uzXtn\n",
       "s9K+P3Nl9pYx4Xp8DFdmh3fhsxEAAACA31rxxXf6euOPrsweGqinEgcpgiuzw8swzgEAAAD4pTVb\n",
       "D2npp55XZn98TDxXZodXYpwDAAAA8Dt7M/P1l+UbPbKJN/ZW3y5cmR3eiXEOAAAAwK8cP1GsWW+s\n",
       "U+mPrsz+myHtde3QDgZbAT+PcQ4AAADAbxSXVmjm6+t0/ESJlfXt3ER3cWV2eDnGOQAAAAC/4HS5\n",
       "NXfZBmVknbCy1k0j9NhYrswO78dnKAAAAAC/kPTxDq3bccQ6NwgP0vQJCYoIDTTYCjg/jHMAAAAA\n",
       "Pu/Ttfv1wX/3WudAh11P3jlIzRuHmysFVALjHAAAAIBP25R2VAve2+qRPXBrP3Xv0MhQI6DyGOcA\n",
       "AAAAfNb3R07qD0vWy+VyW9ntV3fTJf1bG2wFVB7jHAAAAIBPyi8o1YzX16mopMLKLo1rrZFXdjHY\n",
       "CqgaxjkAAAAAn1Na7tQzi9bpaG6RlfXo0Ei/H9FXNpvNYDOgahjnAAAAAHyKy+XWC3/fpLQDeVbW\n",
       "vHGYnhg3UIGOAIPNgKpjnAMAAADwKW99tlurN2dZ5/DQQE1LTFBURLDBVkD1MM4BAAAA+IwvU7/X\n",
       "25+nW+cAu01Txg5Qm2aRBlsB1cc4BwAAAOATtu89pnnvbPbI7vttrGI7NzHUCKg5jHMAAAAAXu/Q\n",
       "sVN6LilFFc4zt0y7+bJOumpQO4OtgJrDOAcAAADg1QqKyjRzYbIKisqtbHDvFhrzmx4GWwE1i3EO\n",
       "AAAAwGuVV7g0O2m9snIKraxTm2g9fHt/2e3cMg3+g3EOAAAAwCu53W79bcVmbdt7zMpiokP11PhB\n",
       "CglyGGwG1DzGOQAAAACv9PfP0/Vl6kHrHBocoGmJg9SoQYjBVkDtYJwDAAAA8Dpfpn6vt/692zrb\n",
       "bdKjoweoQ8sog62A2sM4BwAAAOBVtnyXoxff9rxl2j039VF892aGGgG1j3EOAAAAwGscOHJSs5NS\n",
       "5HR53jLt10M6GGwF1D7GOQAAAACvkHuyRDMWJquwpMLKLoxtyS3TUC8wzgEAAAAYV1xaoZmvJysn\n",
       "r9jKurdvpIdu45ZpqB8Y5wAAAACMcjpd+uPSVO3NPGFlLWPCNfXOgQoKDDDYDKg7jHMAAAAAxrjd\n",
       "br36wTal7sq2sgbhQZp+V4KiIoINNgPqFuMcAAAAgDHvf71Xn6zZb50DHXY9NX6QWsZEmCsFGMA4\n",
       "BwAAAGDEN1uytOjjHdbZZpP+7/Y4dWvfyGArwAzGOQAAAIA6t2tfrv7y1kaP7M7rempobEtDjQCz\n",
       "GOcAAAAA6tShnFOa9cY6lVe4rOzaoR104yUdDbYCzGKcAwAAAKgzJ06V6umFySooKrOyAT2a6a5h\n",
       "vWSzccs01F+McwAAAAB1orTcqWcXpejwsUIr69Q6So+OildAANME9Rt/AgAAAADUOpfLrb8u36hd\n",
       "+3OtrEnDUD2VmKCQYIfBZoB3YJwDAAAAqHVJ/9ypb7ccss7hIQ5Nn5CgRg1CDLYCvAfjHAAAAECt\n",
       "+sfqDL3/9R7r7Aiwacq4gWrXvIHBVoB3YZwDAAAAqDXfbj2k1z7c5pFNGtFXsZ2bGGoEeCfGOQAA\n",
       "AIBasSPjuOYu2yC3+0w26ppu+lV8W3OlAC/FOAcAAABQ474/clLP/M+9zK8Z3F4jruhisBXgvRjn\n",
       "AAAAAGrU8RPFenphsk4Vl1vZwB7Ndc/w3tzLHDgHxjkAAACAGlNYXK6nX0tWTl6xlXVt21CTR8dx\n",
       "L3PgZ/CnAwAAAECNKK9wafbiFO0/fNLKWsaE66nEQQoJ4l7mwM9hnAMAAACoNpfLrRff3qQt3x2z\n",
       "suiIYM2YOFhREcEGmwG+gXEOAAAAoNqWfLJTX2/MtM4hQQGaNmGQmjcON9gK8B2McwAAAADV8vE3\n",
       "GVr51R7rbLfb9NiYAercpqHBVoBvYZwDAAAAqLI1Ww/p1Q+2eWSTbolVfPdmhhoBvolxDgAAAKBK\n",
       "dmQc15+XbZDbfSa745puumJgO3OlAB/FOAcAAABQaQezC/TMG+tUXuGysqsT2unWK7oYbAX4LsY5\n",
       "AAAAgEo5fqJY019bq1PF5VY2sEdz3XtTH9lsNoPNAN/FOAcAAABw3opKyjVjYbJy8oqtrEvbaE0e\n",
       "FaeAAOYFUFX86QEAAABwXsorXJqdtF77Dp20shYx4ZqWmKCQYIfBZoDvY5wDAAAA+EUul1vP/32j\n",
       "Nn+XY2XREcGacddgRUUEG2wG+AfGOQAAAICf5Xa7tfCj7Vq1KcvKQoICNG3CILWICTfYDPAfjHMA\n",
       "AAAAP+t9ltdFAAAgAElEQVTdL7/TP1ZnWOcAu02Pjx2gzm0aGmwF+BfGOQAAAIBz+nzdAS35ZJdH\n",
       "9sDIforr1sxQI8A/Mc4BAAAAnNW67Yf1txWbPbLEG3rqsrg2hhoB/otxDgAAAOAndmQc1x+Xpsrl\n",
       "PpPdfFkn3XhJJ3OlAD/GOAcAAADg4cDhk5r1xjqVVbis7FfxbTT22h4GWwH+jXEOAAAAwHI0t0jT\n",
       "Xl2rwuJyK4vv3kyTRvSVzWYz2Azwb4xzAAAAAJKkE6dKNe3Vtco9WWJlXds11GNj4uUIYDoAtYk/\n",
       "YQAAAABUUlqhma8nKyvnlJW1aRahaYkJCglyGGwG1A+McwAAAKCeq3C6NHvJeqV/n29lMVEhmnHX\n",
       "EDUIDzLYDKg/GOcAAABAPeZyufXC25u0cfdRK4sMC9SMiYPVpGGowWZA/cI4BwAAAOqxRR/v0Ncb\n",
       "Mq1zUGCApiUmqG3zBgZbAfUP4xwAAACop9776jt98N+91tlut+nxMfHq1r6RwVZA/cQ4BwAAAOqh\n",
       "L9Z/r0Uf7/TIHri1rwb0aG6oEVC/Mc4BAACAemb9ziN68Z3NHtmd1/XQr+LbGmoEgHEOAAAA1CM7\n",
       "Mo7rD4vXy+VyW9mNl3TU8Es7GWwFgHEOAAAA1BN7M/M18/VklVW4rOzSuNa687qestlsBpsBYJwD\n",
       "AAAA9UBWzilNf22tikoqrCy+ezM9cGs/2e0Mc8A0xjkAAADg547lF+upV9boxKkyK+t5QWM9PnaA\n",
       "HAFMAsAb8CcRAAAA8GMnTpXqqVfWKCev2MouaBWlp8YPUnBggMFmAH6McQ4AAAD4qaKScj29MFmZ\n",
       "R09ZWasm4Zpx12CFhwYabAbgfzHOAQAAAD9UVu7Us4tStOdgvpXFRIVo5sQhio4MNtgMwNkwzgEA\n",
       "AAA/43S69Melqdq655iVRYYFaebdQ9S0UZjBZgDOhXEOAAAA+BGXy60X39msdTuOWFlocIBmTExQ\n",
       "m2aRBpsB+DmMcwAAAMBPuN1uvf6P7foy9aCVBTrsenL8IHVu09BgMwC/hHEOAAAA+Il3/pOuj1Zl\n",
       "WGe73aZHR8erT6cmBlsBOB+McwAAAMAP/PPbfXrzX7s9st+P6KuEXi0MNQJQGYxzAAAAwMd9vTFT\n",
       "r7y/1SO7a1gvXT6graFGACqLcQ4AAAD4sPU7j+j55Rvldp/JRl7ZVTdc3NFcKQCVxjgHAAAAfNSO\n",
       "jOP6w+L1crrOLPPrhnbQ7Vd3NdgKQFUwzgEAAAAftOdgvma+nqyyCpeVXdKvte66sbdsNpvBZgCq\n",
       "gnEOAAAA+JgDR05q2qtrVVRSYWXx3Zvpwdv6yW5nmAO+iHEOAAAA+JBDx07pqQVrVFBUZmU9L2is\n",
       "x8bEyxHAt/eAr+JPLwAAAOAjcvKK9eSCNcorKLWyzm2iNS1xkEKCHAabAaguxjkAAADgA/IKSvTU\n",
       "K98qJ6/Yytq3aKAZEwcrLCTQYDMANYFxDgAAAHi5gqIyTXtlrbJyCq2sZUy4Zt49WJFhQQabAagp\n",
       "jHMAAADAixWVlOvp19Zq/+GTVtakYahm3TNEDSNDDDYDUJMY5wAAAICXKimr0Kw31in9+3wraxgZ\n",
       "rGfuGaKmDcMMNgNQ0xjnAAAAgBcqr3Bq9uL12r73uJVFhgVq1t1D1DImwmAzALWBcQ4AAAB4GafT\n",
       "pT+9uUEbdx+1stBgh2ZMHKx2LRoYbAagtjDOAQAAAC/icrn1wtubtHbbYSsLCgzQ9AkJ6tymocFm\n",
       "AGoT4xwAAADwEm63Wwve36qvNmRamSPArql3DlTPCxobbAagtjHOAQAAAC/gdru1+J879ema/VZm\n",
       "t9v06Oh49e/a1FwxAHWCcQ4AAAB4gXf+k66VX+2xzjab9NDIfhrcu4XBVgDqCuMcAAAAMOyjVXv1\n",
       "5r92e2T33RyrS+PaGGoEoK4xzgEAAACD/rV2v177cLtHNv76nrpmcHsjfQCYwTgHAAAADPlPyvea\n",
       "/+4Wj+y2q7pq+KWdDDUCYArjHAAAADDg642ZevGdTR7ZjZd01G1XdTXUCIBJjHMAAACgjn275ZD+\n",
       "unyj3O4z2XUXdtD463vKZrOZKwbAGMY5AAAAUIfWbT+sP72ZKpfrzDK/OqGdJt7Ym2EO1GOMcwAA\n",
       "AKCObNidrT8sSZXzR8P88gFtdN/NsQxzoJ5jnAMAAAB1YEt6jp5blKIKp8vKLu7XSpNG9JPdzjAH\n",
       "6jvGOQAAAFDLdmQc16xF61RWcWaYD+nTQg/f1l8BDHMAYpwDAAAAtWr3/lzNWLhWpWVOKxvYo7ke\n",
       "uSNeAQF8Ow7gNL4aAAAAALXku4N5mv7aWhWXnhnm/bs11eNj4xXo4FtxAGfwFQEAAACoBfsOndC0\n",
       "V9aqqKTCyvp0itET4wYq0BFgsBkAb8Q4BwAAAGrYgSMn9eSCNTpVXG5lPS9orKfGD1JwIMMcwE8x\n",
       "zgEAAIAalHm0QE8uWKOThWVW1rVdQ01LHKSQYIfBZgC8GeMcAAAAqCGHjxVq6strlF9QamWdWkfp\n",
       "6bsGKywk0GAzAN6OcQ4AAADUgOzcIk1d8K1yT5ZYWfsWDTTz7iGKCGWYA/h5jHMAAACgmo7mFumJ\n",
       "l79VTl6xlbVpFqln7hmiyLAgg80A+ArGOQAAAFANR/NOD/OjuUVW1qpJuJ69Z4iiIoINNgPgSxjn\n",
       "AAAAQBXl5BXriZe+VfaPhnmLmHA9e+9QNWwQYrAZAF/DOAcAAACqICevWE+8/I3nMG8crufuHarG\n",
       "UaEGmwHwRYxzAAAAoJKO5Rdr6svf6sjxM8O8eeMwPXvvUMVEM8wBVB7jHAAAAKiE4ydO/yj74eOF\n",
       "Vta8cZieu/dCNWnIMAdQNYxzAAAA4DwdP1GsKf8zzJs1Ov2KOcMcQHUwzgEAAIDzYL1ifuzMMG/a\n",
       "KEzP3TtUTRuGGWwGwB8wzgEAAIBfcPzE6d8xP/TjYd4w9PQwb8QwB1B9jHMAAADgZ+SeLNHUl9co\n",
       "K+fMMG/SMFTP3XehmjHMAdQQxjkAAABwDnknSzT15W+VlXPKypr8/1fMGeYAalKNjfPs7GzFxcVp\n",
       "8eLFVXr+V199pW7dumn37t1nfby4uFjPP/+8rrzySsXGxuraa6/VsmXLqlMZAAAAOKe8ghI98fK3\n",
       "yjx6ZpjHRJ8e5s0bhxtsBsAf1cg4Lyws1KRJk1RYWCibzVbp5+/du1dTpkw553OdTqceeOABLViw\n",
       "QB07dtTYsWPlcDg0a9YszZkzp7r1AQAAAA95BadfMfcY5lEhDHMAtaba4zwrK0ujR4/W1q1bq/T8\n",
       "5ORkjRo1Svn5+XK73Wd9m08++USrVq1SYmKiFixYoIcfflgrV65UQkKCkpKSlJ6eXp0PAQAAALDk\n",
       "F5Rq6strdDD7zDBvHBWi5+67UC1iGOYAake1xnlSUpKuv/56paenKyEhoVLPLS0t1dSpUzV+/HhJ\n",
       "Uo8ePc75tsuWLZPD4dA999xjZQ6HQw8++KDcbrfefffdqn0AAAAAwI/knTz9o+wHswus7PQwH8ow\n",
       "B1CrqjXOlyxZotatW+vNN9/UsGHDKvXcnJwcrVy5Updeeqk+/PBDdenS5axvV1ZWpm3btql79+6K\n",
       "jIz0eKx3794KCQlRampqlT8GAAAAQDp9u7QpL3kO80YNTv8oe8uYCIPNANQHjuo8edasWRoyZIhs\n",
       "NpsyMjIq9dzo6GgtX75c/fr1+9m3y8rKktPpVNu2bX/yWEBAgJo3b659+/ZV6n0DAAAAP3Ys/6f3\n",
       "MW/U4PQr5i2bMMwB1L5qvXI+dOjQKl0ATpIiIiJ+cZhLUn5+viT95FXzH0RGRqqkpEQul6tKPQAA\n",
       "AFC/Hc0t0pSXvvEY5jHRoZr9u6FqxTAHUEe8/j7nFRUVkqSgoKCzPv5DXlpaWmedAAAA4B+OHC/U\n",
       "lJe+0ZHjRVbWtGGoZt/Hj7IDqFvV+rH2uhAcHCxJKi8vP+vjZWVlstlsCg0NrctaAAAA8HGHjxXq\n",
       "iZe/1bH8Yitr1ihMz907VE0bhRlsBqA+8vpxHhUVJUkqKCg46+MFBQUKC6v6F8+uXbtW+bkAAADw\n",
       "TYdyTumJl7/V8RMlVtYiJlzP3jNUTRryog9Q36WkpJz3VkxLS6uR9+n1P9beqlUrBQYGKjMz8yeP\n",
       "OZ1OHTlyRB06dDDQDAAAAL7oYHaBprz0jccwb9UkXLPvY5gDMMfrXzl3OByKjY3V1q1bVVhYqPDw\n",
       "M/eX3Lp1q0pKStS3b98q//Mr87cco0ePVkpKSpXfFwAAAMw6cOSknlywRvkFZ65X1KZZhJ69Z6ga\n",
       "Nggx2AyANxk4cKCWLl1ap+/T6185l6Rhw4aprKxM8+bNs7Ly8nK98MILstlsGjFihMF2AAAA8AX7\n",
       "D5/U1Je/9Rjm7ZpH6rl7L2SYAzCuTl45nzdvnmw2m+6///4qPf/mm2/We++9p6SkJKWnp6tHjx5a\n",
       "vXq10tLSlJiYqM6dO9dwYwAAAPiTjKwTenLBGhUUlVlZ+xYN9Mw9QxQVEWywGQCcVmOvnNtstnPe\n",
       "83z+/PmaP39+lZ9vt9u1cOFCjRs3Tnv37tXSpUvlcrk0bdo0PfLII9XuDgAAAP+152C+pr78rccw\n",
       "v6BVlJ69dyjDHIDXsLndbrfpEr7ih985N/H7BwAAAKi89O/zNO2VNSosqbCyTm2iNWviYEWEBRls\n",
       "BsAbmdx8Xn9BOAAAAKAqdh/I1fRX16roR8O8a9uGenriYEWEBhpsBgA/xTgHAACA39m295hmvZ6s\n",
       "4lKnlXVv30hP35WgsBCGOQDvwzgHAACAX9m4+6ieXbROZRUuK+t5QWNNn5Cg0GC+/QXgnfjqBAAA\n",
       "AL+RvP2w5ixJVYXzzDDv0ylGT40fpBCGOQAvxlcoAAAA+IVVmzI1962NcrnOXO84vnszPT52gIID\n",
       "Aww2A4BfxjgHAACAz/tPygG9+M5m/fg+REP6tNAjd8Qr0FFjdw8GgFrDOAcAAIBP++c3GVrw/jaP\n",
       "7NK41nrw1n4KCGCYA/ANjHMAAAD4rPe++k6LPt7pkV2d0E733Rwru91mqBUAVB7jHAAAAD7H7Xbr\n",
       "75+l6a3P0jzyGy6+QBNu6CWbjWEOwLcwzgEAAOBT3G63kj7eqfe+3uORj7iii0Zd041hDsAnMc4B\n",
       "AADgM1wut179YJv++e0+j3z0r7trxBVdDLUCgOpjnAMAAMAnOF1uzXtnk75Yf9AjnzCsl4Zd3NFQ\n",
       "KwCoGYxzAAAAeL0Kp0t/eWujVm/OsjKbTbrv5lhdM7i9uWIAUEMY5wAAAPBq5RVOzVmSqnU7jliZ\n",
       "3SY9eFt/XRbXxmAzAKg5jHMAAAB4rZKyCs1OWq+NaUetzBFg0yOj4jW0T0uDzQCgZjHOAQAA4JVO\n",
       "FZdr5sJk7dqfa2WBDrueGDdQ8d2bGWwGADWPcQ4AAACvk19QqumvrlXGoRNWFhwUoKfuHKTYLk0M\n",
       "NgOA2sE4BwAAgFc5mlekaa+sUVZOoZWFhzg0fcJgde/QyGAzAKg9jHMAAAB4jcyjBXrqlbU6ll9s\n",
       "ZdERwZp592B1aBllsBkA1C7GOQAAALzC3sx8TX9trU6cKrOyJg1D9czdQ9SySYTBZgBQ+xjnAAAA\n",
       "MG5HxnHNfD1ZRSUVVtaqSYRm3T1ETRqGGmwGAHWDcQ4AAACjUndla/bi9Sord1pZx9ZRmnHXYEVF\n",
       "BBtsBgB1h3EOAAAAY1ZvztLcZRvkdLmtrOcFjfXU+EEKDw002AwA6hbjHAAAAEb8O3m/5r+7Re4z\n",
       "u1zx3ZvpsTHxCgni21QA9Qtf9QAAAFDn3vvqOy36eKdHdnHfVnrwtv4KdNgNtQIAcxjnAAAAqDNu\n",
       "t1tLP92lFV9855FfM7i97rmpjwLsNkPNAMAsxjkAAADqhMvl1oL3t+rTNfs98psv66Sx1/aQzcYw\n",
       "B1B/Mc4BAABQ6yqcLj2/fJP+uynTIx/zm+665fIuhloBgPdgnAMAAKBWlZRWaM7SVKXuyrYym026\n",
       "96Y++vWQDgabAYD3YJwDAACg1hQUlWnGwmSlHcizsgC7TQ/d1l+X9G9tsBkAeBfGOQAAAGrFsfxi\n",
       "TXt1rQ5mF1hZUGCAHh8TrwE9mhtsBgDeh3EOAACAGncwu0DTXl2rY/nFVhYeGqjpiQnq3qGRwWYA\n",
       "4J0Y5wAAAKhRaQdyNWPhOhUUlVlZowYhmjlxsNq1aGCwGQB4L8Y5AAAAaszG3Uf13OIUlZY5raxV\n",
       "k3DNnDhETRuFGWwGAN6NcQ4AAIAa8d+Nmfrr8o1yutxW1rlNtKZPSFBURLDBZgDg/RjnAAAAqLaP\n",
       "Vu/Vax9s98j6dmmiJ8YNVGgw33ICwC/hKyUAAACqzO12a+mnu7Tii+888ov6ttJDt/VXoMNuqBkA\n",
       "+BbGOQAAAKrE6XTppZVb9dm6Ax75dUM76K4be8tutxlqBgC+h3EOAACASisrd+pPb6YqefsRj3zU\n",
       "Nd004ooustkY5gBQGYxzAAAAVEphcbmeWbRO2/cetzK7Tbr35lhdM7i9uWIA4MMY5wAAADhveSdL\n",
       "NP21tdp36KSVBTrseuSOOA3p09JgMwDwbYxzAAAAnJfMowWa/lqyjuYWWVlosENPjR+k3p1iDDYD\n",
       "AN/HOAcAAMAv2r0/VzNfT1ZBUbmVRUcG6+kJCerYOtpgMwDwD4xzAAAA/Ky12w7rz2+mqqzCZWXN\n",
       "G4dp5sQhahETbrAZAPgPxjkAAADO6ZM1+/TKe1vlcp/JOrWJ1vTEBEVHBpsrBgB+hnEOAACAn3C7\n",
       "3Vr66S6t+OI7jzy+ezM9NjpeIcF8GwkANYmvqgAAAPBQXuHS31Zs1pepBz3yqwa1030391FAgN1Q\n",
       "MwDwX4xzAAAAWIpKyjV78XptTs/xyG+/qqtGXtVVNpvNUDMA8G+McwAAAEiSck+WaMZryco4dMLK\n",
       "7HabfvfbWF01qJ3BZgDg/xjnAAAA0MHsAj392lodzSu2suCgAD02Ol4DejQ32AwA6gfGOQAAQD23\n",
       "c99xPfPGOo97mEdFBGlaYoK6tG1osBkA1B+McwAAgHps7bZD+vObGzzuYd4iJlwz7hrMPcwBoA4x\n",
       "zgEAAOqpf36ToVc+2Cb3j+5h3qVttKYlJigqgnuYA0BdYpwDAADUMy6XW0s+2amVX+3xyLmHOQCY\n",
       "w1deAACAeqSs3Knn/75JqzdneeRXJ7TTvTdxD3MAMIVxDgAAUE+cOFWqZxelaNf+XI/89qu7aeSV\n",
       "XbiHOQAYxDgHAACoBw7lnNLTC5N1+FihlQXYbbr/llhdMZB7mAOAaYxzAAAAP3f6VmkpKigqs7Kw\n",
       "EIeeGDtQsV2aGGwGAPgB4xwAAMCPrd6Upb/+faPKf3SrtCYNQzV9QoLaNW9gsBkA4McY5wAAAH7I\n",
       "7Xbr3S+/05JPdnnkndpEa9r4QWrYIMRQMwDA2TDOAQAA/EyF06WXV27VZ+sOeOSDejbXI3fEcas0\n",
       "APBCfGUGAADwI0Ul5frD4vXalJ7jkd9w0QUaf0MvBdi5IjsAeCPGOQAAgJ/IySvWzNeTtf/wSSuz\n",
       "2aQJw3rphos6GmwGAPgljHMAAAA/sDczXzNfT1buyVIrCw4K0OQ74jSoVwuDzQAA54NxDgAA4ONS\n",
       "d2VrzpL1KilzWll0ZLCmJQ5S5zYNDTYDAJwvxjkAAIAP+2TNPr3y3la53Geyts0jNT0xQU0bhZkr\n",
       "BgCoFMY5AACAD3K63Hrjo+36aHWGRx7bOUaPjx2oiNBAQ80AAFXBOAcAAPAxRSXl+tObG5S6K9sj\n",
       "v2JAW93321gFOuyGmgEAqopxDgAA4EOyc4s06/VkHThS4JGPuqabRlzRRTYbt0oDAF/EOAcAAPAR\n",
       "u/bl6tmkdTpxqszKghx2PXhbf13Ut5XBZgCA6mKcAwAA+ICvNxzUC29vVoXTZWUNI4P15PhB6tKW\n",
       "K7IDgK9jnAMAAHgxl8uttz7brbc/T/fIO7RsoKfGJ6hJw1BDzQAANYlxDgAA4KVKyir0/N836dst\n",
       "hzzyQT2b6//uiFNoMN/KAYC/4Cs6AACAF8o9WaJn3lin7w7me+Q3XdpJY67toQA7F34DAH/COAcA\n",
       "APAyezPz9cwb63TsRImVBdht+t1vY3XloHYGmwEAagvjHAAAwIus3XZYc9/aoNIyp5VFhgVqytiB\n",
       "6t0pxmAzAEBtYpwDAAB4Abfbrfe+2qPFn+yU230mb9UkQtMmDFLLmAhz5QAAtY5xDgAAYFh5hUsv\n",
       "vbtF/1n/vUce2zlGj48ZoIiwIEPNAAB1hXEOAABgUH5BqWYvTtHOfbke+TWD2+vu4b3lCLAbagYA\n",
       "qEuMcwAAAEMysk7omUXrlJNXbGV2m5R4Qy9df9EFstm4IjsA1BeMcwAAAAO+3XpIf12+0ePCb6HB\n",
       "Dk0eFacBPZobbAYAMIFxDgAAUIdcLrf+/nmaln+W5pG3aByuJ8cPVNvmDQw1AwCYxDgHAACoI8Wl\n",
       "Ffrr8o1au+2wRx7bOUaPjRmgSC78BgD1FuMcAACgDmTnFumZN9Zp/+GTHvn1F12gxOt7KoALvwFA\n",
       "vcY4BwAAqGU7Mo7ruaQUnSwsszJHgE333BSrqxPaGWwGAPAWjHMAAIBa9O/k/Xp55VY5XW4ri4oI\n",
       "0pSxA9XzgsYGmwEAvAnjHAAAoBZUOF16/cPt+vjbfR55h5YN9OSdg9S0UZihZgAAb8Q4BwAAqGEn\n",
       "C8s0Z8l6bd1zzCMf0qeFHhrZXyHBfAsGAPDE/zMAAADUoP2HT+rZRet05HiRR3771d106xVdZLfb\n",
       "DDUDAHgzxjkAAEANWb05Sy+8vUmlZU4rCw4K0MO39deQPi0NNgMAeDvGOQAAQDU5Xf+vvTuPj7q6\n",
       "9z/+nux7yEYgJCFhSULYISACLbhFQRFxYa3iVsUWbYva9kdbHr3Xem/vvWotVIsWFdlUREGpKFRl\n",
       "0SJCAhhZEraQkABZyEL2ZGa+vz+A6JgAIST5TpLX8/HIY+I5Z5LPPDzGec/3fM8xtHzDAb23+YhD\n",
       "e9cgb/3+wWsUGxFoUmUAgPaCcA4AAHAVyipr9dyKVO3OyHdoH9QnVL++N0mBfp4mVQYAaE8I5wAA\n",
       "AM10sfvLJ/+4tx64LVGuri4mVQYAaG8I5wAAAM3Q2P3lHm4uenzqEI0fHmViZQCA9ohwDgAAcAUu\n",
       "dX/5/PtHqndkF5MqAwC0Z4RzAACAJuL+cgBAayGcAwAANAH3lwMAWhPhHAAA4DIudn/53KlDdB33\n",
       "lwMAWgDhHAAA4CJsNruWf3ywwf3lYefvL+/D/eUAgBZCOAcAAGhESVmN/m9FitKOFDq0c385AKA1\n",
       "EM4BAAB+ID2rSH9+c5fOlFY7tN/+41568Lb+3F8OAGhxhHMAAIDzDMPQhu3HteSDb2W1GfXtnh6u\n",
       "evyeIRo3LNLE6gAAHRnhHAAAQFJ1rVUvrflGW1JzHNojQn01//6R6tk9wKTKAACdAeEcAAB0eicL\n",
       "y/XfS3fp+KmzDu2jBnTTL6cPk6+3u0mVAQA6C8I5AADo1HbuP60XVqWqotpa3+Zike6dmKi7rusj\n",
       "i8ViYnUAgM6CcA4AADolm93Qqo3pWv3pIYf2AF8P/fonSRocF2ZSZQCAzohwDgAAOp3S8ho9tzJV\n",
       "ew8VOLTHRXfRb+8bqbAgb5MqAwB0VoRzAADQqRw+Uaz/fnOXCoqrHNonjI7RTycPkLubq0mVAQA6\n",
       "M8I5AADoFAzD0MdfHdc/1u2T1Wavb/dwc9HP7h6sG0ZEm1ccAKDTI5wDAIAOr7K6Ti+t+Ubb9uQ6\n",
       "tIcH+2j+/SPVq0egSZUBAHAO4RwAAHRoWafO6r/f3KXcgnKH9qR+4Xpy5jD5+XiYVBkAAN8hnAMA\n",
       "gA7rs13Zevm9NNXW2erbXCzSTyb0013X9ZWLC8ekAQCcA+EcAAB0ODV1Nr3yfpr+tTPboT3I31NP\n",
       "35ukgb1DTaoMAIDGEc4BAECHcrKgXP/95i4dP3XWoX1Qn1A99ZPhCvL3MqkyAAAujnAOAAA6jC+/\n",
       "ydXCd/aqqsZa32axSFNvjNOM5AS5sowdAOCkCOcAAKDdq7Pa9fr6ffrnl5kO7f4+Hnpy1jANTwg3\n",
       "qTIAAJqGcA4AANq1/KJK/c/yXTqUXeLQ3i8mWE//JElhQd4mVQYAQNMRzgEAQLu188Bp/WXVbpVX\n",
       "1Tm03zGut2bfmig3VxeTKgMA4MoQzgEAQLtTZ7XrzY8O6INtRx3afb3c9Ivpw3TtwO4mVQYAQPMQ\n",
       "zgEAQLtyqrBC/7siRUdOOC5j79UjUL+9b4S6h/qaVBkAAM1HOAcAAO3GF3tz9bd396qy2urQPnF0\n",
       "jB66fYA83F1NqgwAgKtDOAcAAE6vps6mJR/s0ydfHXdo9/Vy0+PThmrMoAhT6gIAoKUQzgEAgFM7\n",
       "kVem/12eouOnzjq0x0V30dM/SVK3EJaxAwDaP8I5AABwWp/tytbf309TTa3NoX3K+D66d0I/ubux\n",
       "GzsAoGMgnAMAAKdTVWPV39/7RptTcxza/X08NG/mMCX1CzepMgAAWgfhHAAAOJVjuaX63+W7lFtQ\n",
       "4dDev1eInpo1XKFdvE2qDACA1kM4BwAATsEwDG3YflyvfbhPdVZ7fbvFIk27MV7Tb4qTqyvL2AEA\n",
       "HRPhHAAAmK60vEaLVu/V1/tPO7QH+XvqyVnDNbhvmEmVAQDQNgjnAADAVN8cLtALq3ar6Gy1Q/vQ\n",
       "uDD9auYwBfl7mVQZAABth3AOAABMYbXZtfKTdL23+bAM47t2VxeLZt2SoLuu6ysXF4t5BQIA0IYI\n",
       "5wAAoM2dLCzXcytSdfhEiUN79xBfPfWT4YqLDjKpMgAAzEE4BwAAbcYwDG1OPaHF76epqsbx7PLr\n",
       "k6L06JSB8vFyN6k6AADMQzgHAABtoqKqTn9/L01b9zieXe7j5abH7hqs8cMiTaoMAADzEc4BAECr\n",
       "Sz9epOdWpiqvqNKhPb5nkJ6aNVzdQnxNqgwAAOdAOAcAAK3GZje05rNDWrUpQ3b7d7u+uVike26M\n",
       "04yb4jm7HAAAEc4BAEAryS+u1Aurdmv/sTMO7aGBXnpy1nAN6B1qUmUAADgfwjkAAGhxW3bnaPF7\n",
       "3yvZdOYAACAASURBVKii2urQPnpQdz1+zxD5+XiYVBkAAM6JcA4AAFpMeWWt/v5+mrbtyXVo9/Rw\n",
       "1U8nD1TyNdGyWDi7HACAH2qRcJ6Xl6eJEyfqiSee0OzZs5v0nJKSEi1cuFBbtmxRUVGRevXqpYcf\n",
       "flgTJ05sMPbpp5/W+vXrG/05P/3pT/Xkk09eVf0AAODqfXO4QC++tVuFpdUO7b16BOqpWcMVFe5v\n",
       "UmUAADi/qw7nFRUVevzxx1VRUdHkT8IrKyv14IMPKj09XRMmTFD37t21ceNGzZs3T8XFxZo1a5bD\n",
       "+PT0dIWGhmr69OkNftbw4cOv9iUAAICrUGe1admGg1q39ahDu8Ui3X19X81ITpC7G5u+AQBwKVcV\n",
       "znNzc/X444/rwIEDV/S8ZcuW6cCBA1qwYIFmzpwpSXrsscc0ffp0Pffcc5owYYKCg4MlSXV1dcrM\n",
       "zNT111+vuXPnXk25AACghR0/dVbPr0zV8VNnHdq7Bnlr3szh6t8rxKTKAABoX5r9MfbSpUs1adIk\n",
       "HTp0SKNGjbqi565atUqhoaGaMWNGfZuvr6/mzJmjqqoqhyXsR48eldVqVVxcXHNLBQAALcxuN7Ru\n",
       "6xH96i9bGwTz65OitOip6wjmAABcgWaH82XLlikyMlIrVqzQ5MmTm/y87Oxs5efnKykpqcEy+JEj\n",
       "R0qSUlJS6tsyMjIkSQkJCc0tFQAAtKCC4ir94ZXteu3D/bLa7PXt/j7u+u19I/SrGcPk4+VuYoUA\n",
       "ALQ/zV7W/swzz2j06NGyWCw6duxYk5+XnZ0tSYqOjm7QFxYWJg8PDx0/fry+7UI4P3bsmKZPn66M\n",
       "jAx5e3tr3Lhx+tWvfqWuXbs29yUAAIArtG1Pjl5+L00VVXUO7UPiwvTL6UMVEuhtUmUAALRvzQ7n\n",
       "Y8aMadbzSkpKJEn+/o3v2Orn56eysrL6f74Qzl9++WUlJydr6NCh+uabb7R27Vpt375dq1evVnh4\n",
       "eLNqAQAATVNeWavF73+rrXtyHNrd3Vx0/22Jum1ML7m4cEQaAADN1ebnnFutVkmSh4dHo/0eHh6q\n",
       "qamp/2dvb2/FxMTopZdeUu/evevbFy9erBdffFF/+tOftGjRotYtGgCATiw1PU8L39mrorM/OCIt\n",
       "IlDzZg1Tz24BJlUGAEDH0ebh3NPTU9K5XdgbU1tbK2/v75bE/e1vf2t03KOPPqp3331XmzdvVlVV\n",
       "lcNzrkR8fHyzngcAQEdXWV2n19fv18YdWQ7tFot05/g+mnVLgtzdXE2qDgCA1rNz584mZ8ULq72v\n",
       "VpuH88DAQElyWLr+feXl5QoLC7vsz7FYLEpISFBubq5Onz6t2NjYFq0TAIDO7NujhXrx7T3KL6p0\n",
       "aO8a7KNfTh+qgb1DTaoMAICOqc3DeUxMjCQpJyenQV9+fr5qa2vrg3ZNTY0yMjLk6enZ6KcW1dXn\n",
       "ltdduBrfHFfyKce9996rnTt3Nvt3AQDg7GrqbFq+4aA+/OKoDMOx7+ZRPfXgpP7sxA4A6PBGjhyp\n",
       "5cuXt+nvbPNwHhERoYiICKWmpsowDIfj1C4E3yFDhkiS8vLyNHXqVMXFxenDDz90+DlVVVU6cOCA\n",
       "QkJCFBER0XYvAACADupQdrH+8tZu5eSXO7QHB3jpiWlDNDyBDVgBAGgtzT7n/GrcfvvtOn36tFas\n",
       "WFHfVl5ersWLF8vb27v+3PTo6GglJCTo0KFDWr9+ff1YwzD0/PPPq7i4WDNmzGjz+gEA6EjqrHat\n",
       "+Pignl70RYNgPn5YpF56+jqCOQAArazVr5wvWrRIFotFc+fOrW97+OGH9fHHH+vZZ5/Vrl27FBkZ\n",
       "qU2bNik3N1e///3vFRQUVD/2P/7jPzR79mz9+te/1qZNmxQREaGUlBTt379fI0aM0KOPPtraLwEA\n",
       "gA7r+Kmz+suq3Tp2stShPcDXQz+7e7DGDGJ1GgAAbaFFwrnFYnFYnv59L730UoNw7ufnp1WrVumF\n",
       "F17Q5s2b9cUXX6hXr16aN2+eJk6c6PD8wYMH691339WiRYv09ddfq7KyUlFRUfrlL3+phx56SO7u\n",
       "3PcGAMCVstkNvb/5sFZtTJfV5nhz+agB3fTzu4eoi3/z93QBAABXpkXC+ZQpUzRlypRG+9LT0xtt\n",
       "DwkJ0bPPPtukn9+3b18tXLiw2fUBAIDvZJ8+q7++s0eHsksc2n293PTIlEG6bnjkRT90BwAAraPN\n",
       "N4QDAADmsNnsen/LEa3amCGrze7QNzQuTE9MG6rQLt4mVQcAQOdGOAcAoBM4fuqs/vr2bh3Jcby3\n",
       "3MvDVQ9O6q9bro3hajkAACYinAMA0IFZbXa9+9lhrf40o8G95YP6hOrxqUPULcTXpOoAAMAFhHMA\n",
       "ADqoY7mlevHt3co8edah3dvTTQ9O6q+bR/XkajkAAE6CcA4AQAdTZ7XrnU8ztOazw7LZHa+WD40L\n",
       "09ypQ9Q1yMek6gAAQGMI5wAAdCBHTpTor+/s0fFTjlfLfbzc9PDtA3TjyGiulgMA4IQI5wAAdAB1\n",
       "Vpve2pSh9zYfkf0HV8uT+oXr53cPZid2AACcGOEcAIB27mBmkRa9u0cn8sod2n293fXIHQN03fAo\n",
       "rpYDAODkCOcAALRTldV1WrbhoDZsz5TheLFc1/TvpsfuGqSQQK6WAwDQHhDOAQBoh3YeOK2/r/lG\n",
       "haXVDu3+Pu56ZMogjRvag6vlAAC0I4RzAADakZKyGv1j3bfatje3Qd/YwRF65I6BCgrwMqEyAABw\n",
       "NQjnAAC0A4Zh6POUE3rtw30qq6xz6AsJ9NJjdw7SNQO6m1QdAAC4WoRzAACc3OkzFXppzTfae6ig\n",
       "Qd/E0TGafWuifLzcTagMAAC0FMI5AABOymaza/2Xx7Tik3TV1Noc+iK7+mnuPUPUv1eISdUBAICW\n",
       "RDgHAMAJZZ4s1cLVe3XkRIlDu6uLRXff0FdTb4iTh7urSdUBAICWRjgHAMCJVNda9famDK3belQ2\n",
       "u+P5aPHRQZo7dYhiugeYVB0AAGgthHMAAJxEysE8/f39NOUXVTq0e3m46t4J/XTr2F5ydeF4NAAA\n",
       "OiLCOQAAJjtTWqV/rNunf6edbNA3LL6rfnb3YIUH+5hQGQAAaCuEcwAATGKzG/p4e6aWbTioqhqr\n",
       "Q18XP089NHmAxg3tIYuFq+UAAHR0hHMAAExwNKdEL635Rod/sOGbJN1ybYxmT+wnPx8PEyoDAABm\n",
       "IJwDANCGqmqsWvlJutZ/cVQ/2O9NPbv56+d3D1G/2GBzigMAAKYhnAMA0EZ27DulV9Z+q8KSKod2\n",
       "D3dXzUyO1+RxveXm6mJSdQAAwEyEcwAAWllBcZVeWZumr/efbtCX1C9cc+4cxIZvAAB0coRzAABa\n",
       "SZ3Vrg+3HdXb/8pQda3NoS84wEuP3DFQowd1Z8M3AABAOAcAoDV8c7hAi99PU05+uUO7xSLdOiZW\n",
       "907oJx8vd5OqAwAAzoZwDgBACzpTWqXXP9yvbXtzG/T16hGon989WHHRQSZUBgAAnBnhHACAFmC1\n",
       "2bX+i2N6a1O6qmocl7D7ernp3gn9dMvoWLm6sIQdAAA0RDgHAOAqfXukUH9/P00n8soa9F2fFKX7\n",
       "b0tUkL+XCZUBAID2gnAOAEAzFZ2t1hvr92vL7pwGfTHdAzTnzkHq3yvEhMoAAEB7QzgHAOAK2Wx2\n",
       "/fPfmVr5SbqqaqwOfT5ebpp1S4JuHR0rV84sBwAATUQ4BwDgCnx7tFCvrv1Wx0+dbdA3fnikHrit\n",
       "v4IDWMIOAACuDOEcAIAmyC+u1Bvr9+vLb0426Ivu5q/H7hykAb1DTagMAAB0BIRzAAAuoabOpvc/\n",
       "P6w1m4+ots5xF3ZvT1fNvLmfbhsbKzeWsAMAgKtAOAcAoBGGYejfaSf1+vr9KiiuatA/bmikHpiU\n",
       "qJBAbxOqAwAAHQ3hHACAH8g8Wap/rNunb48WNujrHRmoR+4YqMRYdmEHAAAth3AOAMB5ZytqtfKT\n",
       "g/rkq+OyG459gX4eundCom4cGS1XF4sp9QEAgI6LcA4A6PRsNrs+2ZGllZ8cVFllnUOfq4tFt46N\n",
       "1YzkBPl5u5tUIQAA6OgI5wCATi3tSIH+sW5fo0ejDY0L00/vGKiocH8TKgMAAJ0J4RwA0CnlFpTr\n",
       "jfX79fX+0w36uoX46KHbB+ia/t1ksbCEHQAAtD7COQCgUymrrNXb/8rQR19myvaDG8u9PFw19cY4\n",
       "Tf5xb3m4u5pUIQAA6IwI5wCATqHOatfH2zP11qYMlVfVNegfPyxS99/G0WgAAMAchHMAQIdmGIZ2\n",
       "7j+t19fv18nCigb9/WKC9dDt/RXfM9iE6gAAAM4hnAMAOqxjuaV67cN9SjvS8LzyrsE+euC2RI0Z\n",
       "FMF95QAAwHSEcwBAh3OmtEorP0nXp7uyZfzgvHJvTzdNuzFOk37Ui/vKAQCA0yCcAwA6jOoaq9Zt\n",
       "O6r3Pj+s6lqbQ5+LRbr52hjNTE5QF39PkyoEAABoHOEcANDu2Wx2fbrrhFZtPKiiszUN+ocldNWD\n",
       "k/qrZ7cAE6oDAAC4PMI5AKDdurDZ25sbDuhEXnmD/qhwfz10e38NTwg3oToAAICmI5wDANql9Kwi\n",
       "vbF+vw5kFjXoC/Tz0KybE5R8TU+5urqYUB0AAMCVIZwDANqV3IJyLdtwQNvTTjXo8/Rw1R3jeuvO\n",
       "8X3k4+VuQnUAAADNQzgHALQLxWXVentThjbuyJLN7rgFu4uLRTeNjNbMmxMUHOBlUoUAAADNRzgH\n",
       "ADi1qhqr1m09qrVbDquqxtagf9SAbrpvYqKiwv1NqA4AAKBlEM4BAE7JarNr09dZemtThkrKGu7A\n",
       "ntAzSA9M6q/E2BATqgMAAGhZhHMAgFOx2Q19sSdHKzem6/SZygb9PcL8NPvWfho1oLssFosJFQIA\n",
       "ALQ8wjkAwCkYhqGv95/Wio8PKut0WYP+Lv6emnlzgpJHRrMDOwAA6HAI5wAA031zuEDLNxxURnZx\n",
       "gz5vTzdNGd9Hd4zrLW9P/rcFAAA6Jt7lAABMk5FVpOUfH9Q3hwsb9Lm7uejWMbG6+/q+CvTzNKE6\n",
       "AACAtkM4BwC0uaxTZ7Xik4Pase90gz4XF4uSr+mpaTfGKbSLtwnVAQAAtD3COQCgzZw+U6GVG9O1\n",
       "dXeODMejymWxSD8eEqmZt8QrItTPnAIBAABMQjgHALS6/OJKrf70kD7dmS2b3WjQf03/bpp1S4Ji\n",
       "IwJNqA4AAMB8hHMAQKspLKnS6s8O6V9fZ8lqaxjKB/YO1X0T+ykhJtiE6gAAAJwH4RwA0OLOlFbp\n",
       "3c8Oa+OOLFlt9gb9faO66L6J/TS4bxhnlQMAAIhwDgBoQUVnq7Xm88P65KvjqrM2DOWxEQGakZyg\n",
       "UQO6EcoBAAC+h3AOALhqxWXVeu/zI/p4e6ZqGwnlPbv5a8bNCbp2QHe5uBDKAQAAfohwDgBotpKy\n",
       "Gr23+bA2bD+u2jpbg/6ocH/NSI7XmEERhHIAAIBLIJwDAK5YcVm11m05qo+2Z6qmtmEo7xHmp5k3\n",
       "x2vM4B5yJZQDAABcFuEcANBkZ0qr9N7mI9r41fFGl69HhPpqRnK8fjQ0klAOAABwBQjnAIDLyiuq\n",
       "1JrPD+vTndmN7r7ePcRX05PjNG5opFxdXUyoEAAAoH0jnAMALiq3oFzvfnZIm1NzZLc3PKe8e4iv\n",
       "7rmhr65LipIboRwAAKDZCOcAgAayTp3V6s8O6cu9uWokkysq3E9Tb4jTj4b04Eo5AABACyCcAwDq\n",
       "Hckp0epPD+mrb0812h8bEaBpN8br2oEciQYAANCSCOcAAO0/dkZrPj+slIN5jfb3jeqi6TfFa0Ri\n",
       "uCwWQjkAAEBLI5wDQCdltxtKSc/Tms8O6+DxokbHJMYGa9pN8RoaF0YoBwAAaEWEcwDoZKw2u7bt\n",
       "ydV7mw8r+3RZo2OG9A3T1JviNLB3aBtXBwAA0DkRzgGgk6iusWrTziyt23pUBcVVjY4ZkRiuqTfE\n",
       "KSEmuI2rAwAA6NwI5wDQwZ2tqNVHXx7T+i8zVVZZ26DfxcWicUN76K7r+qpn9wATKgQAAADhHAA6\n",
       "qPziSn2w9ag2fp2lmlpbg34Pd1fdPKqn7vhxb3UN9jGhQgAAAFxAOAeADuZYbqnWbj2iL/bkytbI\n",
       "IeX+Pu66bWwv3TomVoF+niZUCAAAgB8inANAB2C3G9qdka+1W44o7Uhho2NCu3hryrjeuumanvL2\n",
       "5M8/AACAM+HdGQC0YzV1Nm1JPaEPth3VibzyRsdEhfvr7uv76MdDI+Xm6tLGFQIAAKApCOcA0A6V\n",
       "lNVow/ZMbdieqdLyhpu8SVL/XiGaMq63RiR2k4sLZ5QDAAA4M8I5ALQjJ/LKtG7rUW1OPaE6q71B\n",
       "v4uLRWMHRWjyuN6Kiw4yoUIAAAA0B+EcAJycYRhKO1KodVuPKuVgXqNjfLzclHxNT036US91DWLn\n",
       "dQAAgPaGcA4ATqq61qotqTn655fHlHW6rNExXYO8NelHvZV8TbR8vNzbuEIAAAC0FMI5ADiZvKJK\n",
       "ffTvTP3r6yyVV9U1OiYuuovuGNdHowd2lyubvAEAALR7hHMAcAKGYejbo4Va/8Ux7dx/Wo0cTy6L\n",
       "RRo1oLvuGNdb/WKCZbGwyRsAAEBHQTgHABNV11i1Zfell677ernppmt66tYxseoW4tvGFQIAAKAt\n",
       "EM4BwARNWboeFe6n28b20nXDo+TtyZ9rAACAjox3ewDQRux2Q3sO5evj7ce168DFl66P6NdNk34U\n",
       "q8F9w1i6DgAA0EkQzgGglZWW1+jTndn6ZMdxnT5T2egYlq4DAAB0boRzAGgFhmHoQGaRPt5+XP9O\n",
       "Oymrzd7oOJauAwAAQCKcA0CLqqyu0+aUE/r4q+MX3eDNxSKN7N9NE0fHakgcS9cBAABAOAeAFnEs\n",
       "t1Qbtmdq6+4cVdfaGh0THOCp5GtidPOongrt4t3GFQIAAMCZEc4BoJmqaqz6cm+uNu7IUkZ28UXH\n",
       "DekbpgmjYzSyfze5ubq0YYUAAABoLwjnAHAFDMPQoexibfo6W1/szVFVTeNXyf193HXDiGhNuDZG\n",
       "EWF+bVwlAAAA2hvCOQA0wdmKWm1JPaFNX2dd9F5ySYrvGaSJo2M0ZnAPebq7tmGFAAAAaM8I5wBw\n",
       "EXa7obQjBdr0dba++vbURXdc9/Z007hhkZpwbYx69Qhs4yoBAADQERDOAeAHCkuq9NmubG3ama38\n",
       "osbPJZekxNhg3TSyp8YOjpAXx6ABAADgKvBuEgAk1dbZ9PW+0/osJVt7MvJlNxofF+jnoeuTonXT\n",
       "yGhFhfu3bZEAAADosAjnADotwzCUfrxYn6Vk68u9uaqotjY6zmKRhsZ3VfI1PTUysZvc3dhxHQAA\n",
       "AC2LcA6g08kvqtTm1BP6POWEThZWXHRcWJC3bhoRrRtGRqtrkE8bVggAAIDOhnAOoFOoqrFqe9pJ\n",
       "fZ5yQmlHCi86zt3NRaMGdNeNI6I1OC5Mri6WNqwSAAAAnRXhHECHZbMb2ne0UJ+nnND2tJOqrm38\n",
       "THJJ6hcTrOuTojR2SA/5ebu3YZUAAAAA4RxAB2MYho7mlGrrnhxt25OrorPVFx0bFuSt64dH6fqk\n",
       "KEWE+bVhlQAAAIAjwjmADuFkQbm27snV1t05yi0ov+g4Lw9XjR4UoRtGRGlAr1C5sGwdAAAAToBw\n",
       "DqDdKjpbrS/2ngvkh0+UXHScxSIN7B2qG0ZE6dqBEfLmTHIAAAA4Gd6hAmhXKqrq9NW3J7Vld46+\n",
       "PVJ40fPIJalXRKDGDeuhsUN6sNs6AAAAnBrhHIDTq6yu084Defr3N7lKTc9XndV+0bHhwT4aNyxS\n",
       "44b2UHS3gDasEgAAAGg+wjkAp3QhkH+5N1e7My4dyLv4eWrskAiNGxap+OggWSzcRw4AAID2hXAO\n",
       "wGlUVtdp5/7T+vKbk5cN5N6ebrp2YHeNGxapwX1C5erq0oaVAgAAAC2LcA7AVFcSyD3cXDS8X7h+\n",
       "NKSHRvbvJk931zasFAAAAGg9hHMAbe5sRa127j+tHftONSmQJyWGa+ygHkpKDGendQAAAHRIvMsF\n",
       "0Cbyiyq1Y98p7dh3WvuPXXqXdQI5AAAAOhve8QJoFYZhKOt0mb769pR27DulY7mllxzv4e6qpH5d\n",
       "CeQAAADolHj3C6DF2OyG0o8Xnb9Cfkqnz1RecryXh6uGJRDIAQAAAN4JA7gqldV12nuoQLsO5Cnl\n",
       "YJ5KymsuOT7A10PX9O+mUQO7a3DfMDZ1AwAAAEQ4B9AMJwvLlXIgT7sO5GnfsUJZbZe4gVxS12Af\n",
       "XTugu0YN6KZ+sSFydeEccgAAAOD7COcALstqs+tA5hntOh/IcwvKL/ucXhGBGjXg3BXymO4BslgI\n",
       "5AAAAMDFEM4BNKqkrEap6XnadTBPezLyVVltveR4VxeLEmNDdM2Abrqmfzd1C/Fto0oBAACA9o9w\n",
       "DkCSVGe1Kz2rSHsy8rUnI19Hc0tlXHq1ugJ8PZTUL1wjEsM1NK6rfL3d26ZYAAAAoIMhnAOdlGEY\n",
       "OlVYoT0Z+dqdUaBvjxaoqsZ22ef1igjUiMRwJSWGq29UEPePAwAAAC2AcA50IhVVdUo7UqA9GQXa\n",
       "nZGvvKJLH3UmSZ4erhrSN0xJ/cKV1C9coV2826BSAAAAoHMhnAMdWJ3VrkPZxUo7XKC9hwuUnlUs\n",
       "u/0ya9UlRYX7aWh8Vw2L76qBvUPlwXFnAAAAQKsinAMdiM1m19HcUqUdKVTa4QIdOF6kmtrLL1X3\n",
       "83bX4LgwDYvvqqFxXRUWxNVxAAAAoC0RzoF2zG43lHX67PkwXqh9xwovu6u6JLm4WBQfHXT+6niY\n",
       "+nDvOAAAAGAqwjnQjtjthk7klWl/5hmlHSnUt0cKdbaitknPDQ/20ZDzV8cH9Q2THzurAwAAAE6D\n",
       "cA44sTqrXUdzS3Tg2BntP1akA5lnVF5V16TnBgd4aXDfUA3qE6qBfcIUHuzTytUCAAAAaC7COeBE\n",
       "qmqsSj9epP2ZZ3TgWJEysotVW3f5e8alc2eOD+wTqsF9QjWob5giQn1lsbBUHQAAAGgPCOeAic6U\n",
       "Vik9q1gHM88F8mO5pU3aTV2SfLzcNLD3uSvjg/qGKTrcXy7cNw4AAAC0S4RzoI3U1tl0NKdU6VlF\n",
       "ysgqVkZWkQpLq5v8/C7+nuofG6LEXsHqHxuimIhANnEDAAAAOgjCOdAKDMNQXlGl0s+H8IysYmWe\n",
       "LJXV1rSr4pLUPdT3XBiPDVb/XiHqzjJ1AAAAoMMinAMtoOhstY7klOjoiRIdySnVoexilZTXNPn5\n",
       "FosU2z3w3FXxXiFKjA1RcIBXK1YMAAAAwJkQzoErVHw+iB85H8SP5JSo6GzTl6dL5zZvS+gZrPie\n",
       "QYrvGaS+UV3k48XRZgAAAEBnRTgHLsIwDBWdrdax3NJzIfxESbOCuKuLRbE9ApUQHXQ+jAerW4gP\n",
       "S9QBAAAA1COcAzq3WVt2XpmOnyxV5qmzOn7yrDJPnlVZZe0V/6ywIG/1iexSf2W8T1QXebq7tkLV\n",
       "AAAAADoKwjk6lQtXwzNPnlXmydJzIfzUWeUWlDf5CLPvuxDEL3z1jgxUoJ9nK1QOAAAAoCMjnKND\n",
       "MgxDhSXVOpFXphP5Zecez3+VVdY162cSxAEAAAC0FsI52jWb3VB+UWV98M4+/5iTX6aqGluzfqar\n",
       "i0VR4f6KiQhQbPdAxUQEqHcPgjgAAACA1tNi4TwvL08TJ07UE088odmzZzfpOSUlJVq4cKG2bNmi\n",
       "oqIi9erVSw8//LAmTpzYYGxVVZVeeeUVffTRR8rPz1dkZKRmzpypWbNmtdRLgJOy2w0Vl1XrZEGF\n",
       "ThaW1z+eKqzQqcIK1Vrtzf7ZXfw8FRMRoJjuAYqNCFRsRIAiu/rL3c2lBV8BAAAAAFxai4TziooK\n",
       "Pf7446qoqGjyDtSVlZV68MEHlZ6ergkTJqh79+7auHGj5s2bp+LiYofQbbPZ9Itf/ELbtm3T+PHj\n",
       "NWHCBG3dulXPPPOMcnJy9Jvf/KYlXgZMVB/AzwfukwXl331fWKHauuZdBb/A29NNUeF+igr3V3S4\n",
       "v2LOB/Egf84SBwAAAGC+qw7nubm5evzxx3XgwIEret6yZct04MABLViwQDNnzpQkPfbYY5o+fbqe\n",
       "e+45TZgwQcHBwZKkDRs2aNu2bXrooYf09NNPS5KeeOIJPfzww1q6dKmmTJmiuLi4q30paEUXwnde\n",
       "UaXyiyqVV1yp/KKq+u8LiqtktTX/CvgF/j4eiu7mr6hwf0V1PRfGo8L9FRLoxdFlAAAAAJzWVYXz\n",
       "pUuXauHChaqtrdWoUaO0Y8eOJj931apVCg0N1YwZM+rbfH19NWfOHD355JNav359/fL4lStXys3N\n",
       "TXPmzPmucDc3/fKXv9T06dO1Zs0azZ8//2peCq6CYRgqq6zTmdIqnSmt1pnSahWVVqmgpEoFxVUt\n",
       "Gr4lycXFovBgH0WE+ioizE9RXf0Uef6KOPeFAwAAAGiPriqcL1u2TJGRkfrP//xPZWZmNjmcZ2dn\n",
       "Kz8/X7fcckuDq5kjR46UJKWkpGj27Nmqra3Vt99+q8TERPn7+zuMHThwoLy8vJSSknI1LwMXYRiG\n",
       "qmqsKimvUWlZrYrOVutMaZUKS6vrg3jR+e+v5r7vxrhYpK7BPooI9VNEqK+6h/nWf9812EdurtwT\n",
       "DgAAAKDjuKpw/swzz2j06NGyWCw6duxYk5+XnZ0tSYqOjm7QFxYWJg8PDx0/flzSuWXzNput0bGu\n",
       "rq7q1q2bMjMzm/cCOhnDMFRTZ1NFVZ3OVtSqtLxGJeW1KimrOfd9Wc25IF5+/rGspsVD9/f5+3go\n",
       "PNhbXYN91DXo3Fd4yLkr4uHBvmzKBgAAAKDTuKpwPmbMmGY9r6SkRJIaXAm/wM/PT2VlZU0a6+/v\n",
       "r6ysLNntdrm4dOwwZxiGqmttqq6xqqrGqsrzj9U1VlVU1amssk7lVXUqr6pVeWWdyivrVFZZe67t\n",
       "/GNdK4btHwrw9VDXoO/Cd3iwj7oG+yg8yEdhQd7y8XJvs1oAAAAAwJmZcs651WqVJHl4eDTag+bn\n",
       "2gAAD99JREFU7+HhoZqamiaPlaSamhp5e3u3dKmNqq61KvNkqex2Qza7IbthyG4//1X/vWQ3DNls\n",
       "dlnthurqbKq12r97tNpVa7Wpru78o9Wu2voxdlXVWFVVU3f+0XYuhNdaZRht8hIvyc3VouAAL4UE\n",
       "eis40Euhgd4KCfQ6/3Xu++AAL3m4u5pdKgAAAAC0C6aEc0/Pc5t21dXVNdpfW1tbH7SbMtZisbRZ\n",
       "MJekw9kleuL5LW32+9qCi4tFXfw8FOjnqS5+ngr0P/fYxc/zXJv/ua+QQC8F+nrKxYWdzwEAAACg\n",
       "pZgSzgMDAyWpfun6D5WXlyssLKxJY8vKyuTj49PsWuLj46/4OTVnT+rE9sXN/p2tzcXFIlcXi1xd\n",
       "LXJ1cTn/+P3vXeTmapGr67lHN1cXubpYZLdYVCyp2OwXAAAAAAAmOHjwoCRp586dTc6KGRkZLfK7\n",
       "TQnnMTExkqScnJwGffn5+aqtrVVsbKwkqUePHnJ3d290rM1m0+nTp9W3b99WrfeH7NZqVRU1fQM8\n",
       "AAAAAAAuxZRwHhERoYiICKWmpsowDIfj1Hbu3ClJGjJkyLkC3dw0ePBgpaWlqaKiQr6+vvVj09LS\n",
       "VF1dXT+2Oa7kU44Ln5yEh4erZ8+ezf6dgNku/Hd24ehCoL1iLqMjYB6jo2AuoyO4MI/79eundevW\n",
       "tenvNiWcS9Ltt9+uxYsXa8WKFbr33nslnVvOvnjxYnl7e2vy5Mn1YydPnqyUlBQtWrRIv/3tbyWd\n",
       "uwf9r3/9qywWi6ZOndqmtW/btq1Nfx/Q0i580LR8+XKTKwGuDnMZHQHzGB0FcxkdwYV53NbBXGqj\n",
       "cL5o0SJZLBbNnTu3vu3hhx/Wxx9/rGeffVa7du1SZGSkNm3apNzcXP3+979XUFBQ/di77rpL77//\n",
       "vpYuXapDhw4pMTFRX3zxhTIyMvTQQw+1+bJ2AAAAAABaUosdDG6xWByWp3/fSy+9pJdeesmhzc/P\n",
       "T6tWrdJdd92llJQUvfXWWwoMDNTzzz+vWbNmORbp4qIlS5bo/vvv19GjR7V8+XLZ7XYtWLBATz31\n",
       "VEu9BAAAAAAATGExDGc4Obt9uLDEoaV24wPMwlxGR8FcRkfAPEZHwVxGR2DmPG6xK+cAAAAAAKB5\n",
       "COcAAAAAAJiMcA4AAAAAgMkI5wAAAAAAmIxwDgAAAACAyQjnAAAAAACYjKPUAAAAAAAwGVfOAQAA\n",
       "AAAwGeEcAAAAAACTEc4BAAAAADAZ4RwAAAAAAJMRzgEAAAAAMBnhHAAAAAAAkxHOAQAAAAAwGeEc\n",
       "AAAAAACTEc4BAAAAADAZ4RwAAAAAAJMRzgEAAAAAMBnhHAAAAAAAkxHOAQAAAAAwGeG8iaxWq5Yu\n",
       "XaqJEydq8ODBuvHGG/Xyyy/LarWaXRogScrLy9Pw4cP15ptvNtq/bt063XHHHRo6dKjGjRunP//5\n",
       "z6qsrGx07JYtWzRt2jQNGzZMo0eP1u9+9zsVFRW1ZvmACgoKtGDBAo0bN04DBgzQ2LFj9fTTT+vE\n",
       "iRMNxjKf4ayKi4v1pz/9STfeeKMGDx6sW2+9VUuWLJHNZmswlnmM9uR//ud/lJCQoF27djXoYy7D\n",
       "Wb344otKSEho9GvevHkOY51hHlsMwzCu+qd0AgsWLNDq1auVlJSkYcOGKTU1VampqUpOTtbChQvN\n",
       "Lg+dXEVFhR544AGlpaVp/vz5uu+++xz6X3nlFf3lL39RQkKCfvzjHysjI0Nbt27VkCFDtHz5crm7\n",
       "u9eP/ec//6mnnnpK0dHRSk5O1smTJ/XJJ58oMjJS7733nvz9/dv65aETKCgo0D333KPTp09rzJgx\n",
       "SkhI0LFjx7RlyxYFBARo9erV6tmzpyTmM5xXeXm57rnnHmVmZur6669XbGysUlNTtXfvXo0fP16L\n",
       "Fy+uH8s8RnuSlpam6dOnyzAMLVu2TCNGjKjvYy7Dmc2ZM0fbt2/XI4880qAvLi5OycnJkpxoHhu4\n",
       "rNTUVCM+Pt74xS9+4dD+m9/8xoiPjzc2b95sTmGAYRg5OTnGlClTjPj4eCM+Pt548803G/QnJiYa\n",
       "06dPN6xWa337X//6VyM+Pt5YsWJFfVt5ebkxYsQI46abbjLKy8vr29esWWPEx8cbf/7zn1v/BaFT\n",
       "+sMf/mDEx8cbb7zxhkP7Bx98YMTHxxtz5swxDIP5DOf2/PPPG/Hx8cby5csd2ufNm2fEx8cbW7Zs\n",
       "MQyDeYz2paamxrj11lvr32fs3Lmzvo+5DGd33XXXGVOmTLnkGGeaxyxrb4KVK1dKkubOnevQPm/e\n",
       "PFksFr377rtmlAVo6dKlmjRpkg4dOqRRo0Y1Omb16tWy2WyaM2eOXF1d69vnzJkjPz8/h/n70Ucf\n",
       "6ezZs5o9e7Z8fX3r2++66y7FxsZq7dq1stvtrfeC0Gl9+umnCgkJ0f333+/QfvvttysqKkr//ve/\n",
       "ZRgG8xlOLTc3VxEREZo5c6ZD+8SJEyVJe/fulcTfZbQvixcvVlZWlkaPHt2gj7kMZ1ZeXq6TJ08q\n",
       "Pj7+kuOcaR4TzpsgJSVFwcHB6tOnj0N7165d1bNnT6WkpJhUGTq7ZcuWKTIyUitWrNDkyZMbHbNr\n",
       "1y5ZLBaNHDnSod3Dw0ODBw9Wenq6ysvL68dKajTojxgxQiUlJTp06FALvwp0dna7XXPmzGnwAegF\n",
       "Hh4eqqurU11dHfMZTu3555/X559/LhcXx7dXx44dkySFhoZK4u8y2o/09HS9+uqrevTRRxu8D5aY\n",
       "y3Bu6enpknTZcO5M85hwfhm1tbXKy8tTdHR0o/09evRQaWmpiouL27gyQHrmmWf0wQcfaMiQITIu\n",
       "sn1Edna2QkJC5O3t3aCvR48ekqTjx49Lkk6cOCGLxaKoqKgGYyMjIyVJWVlZLVQ9cI6Li4vuu+8+\n",
       "zZgxo0Hf0aNHdezYMUVHR8vDw4P5jHblzJkzWrlypRYtWqSIiAjdfvvtkvi7jPbBZrPpd7/7nWJj\n",
       "Y/Xoo482+j6DuQxnlpGRIUkqKirSAw88oBEjRmjkyJF64oknlJmZWT/OmeYx4fwySkpKJOmiN/Zf\n",
       "aL/waQrQlsaMGSOLxXLJMSUlJQoICGi078L8LSsrk3Rul2EPDw95eHg0GOvn5+cwFmhtdrtdzzzz\n",
       "jAzD0NSpUyUxn9F+vPjiixozZoyeeeYZBQQE6LXXXqufo8xjtAevvfaaDh48qD/96U8Om2F9H3MZ\n",
       "zuxCOH/99dfl7++vadOmadCgQdq0aZOmTp1af2XdmeYx4fwyLhyV1ti/gO+319TUtFlNwJWwWq2X\n",
       "nb+1tbVNHstcR1swDEMLFizQjh07NHDgQM2ePVsS8xntR3R0tB555BHddNNNKioq0qxZs3TgwAFJ\n",
       "zGM4v8zMTP3tb3/TzJkzNXjw4IuOYy7Dmbm5ualHjx564403tHDhQj311FNasmSJ/u///k9lZWWa\n",
       "P3++JOeax27NfmYn4eXlJUmqq6trtP/Cv6jGlkEAzsDLy6vJ89fLy0tnzpy55FgfH59WqBL4jtVq\n",
       "1R/+8AetXbtW0dHRevnll+Xmdu5/V8xntBd33nln/fdbtmzRY489pt/85jdav3498xhOzTAM/e53\n",
       "v1NoaKiefPLJS45lLsOZLViwoNH2SZMm6Z133lFqaqoyMzOdah5z5fwy/Pz8ZLFYLro8oaysTBaL\n",
       "hXMZ4bQCAgIuOX+l75bsBAQEqKamptE/UBdu3WCuozVVVVXpZz/7mdauXauYmBgtW7ZMYWFh9f3M\n",
       "Z7RH48eP16hRo3TkyBFlZ2czj+HUVq5cqd27d+uPf/xjoxefvn/vOXMZ7VViYqIMw1BOTo5TzWPC\n",
       "+WV4eHgoIiJCOTk5jfbn5OQoODj4ovcpAGaLiYnRmTNn6j/N+77c3Fy5urqqZ8+e9WMNw1Bubm6D\n",
       "sRf+G4iNjW3dgtFplZaWavbs2dq2bZsSExO1atUqdevWzWEM8xnOymazafv27dq+fXuj/RERETIM\n",
       "Q8XFxYqJiVFhYSHzGE5p48aNkqRHHnlECQkJ9V/Lly+XJN13331KSEhQbm4ucxlOy2azaf/+/UpL\n",
       "S2u0v7q6WpLk6enpVPOYcN4ESUlJKigoqN+l74K8vDxlZWVd8l4cwGxJSUmy2Wz1Rz9cUFNTo717\n",
       "96pPnz71y2+SkpIkSTt37mzwc77++msFBASod+/erV80Op2amho9+uijSktL08iRI7V8+XIFBwc3\n",
       "GMd8hrMyDENz5szRU0891egZt+np6XJxcVFUVJSSkpJkt9uZx3BKd955p+bOndvg68L73SlTpmju\n",
       "3LkKCAhgLsNpWa1WTZ06VT/96U8b/E02DEN79uyRm5ubEhMTnWoeE86b4I477pAkvfDCC/VLeQzD\n",
       "0AsvvCBJmjZtmmm1AZdz2223ydXVVYsWLXL4RHDx4sWqqKio3wVbkm688Ub5+vpqyZIlKi0trW9f\n",
       "s2aNsrKydPfdd7dp7eg8XnjhBe3du1dDhw7VkiVL5Ovr2+g45jOclZubm5KTk1VUVKQlS5Y49K1a\n",
       "tUr79+/XuHHjFBwczDyGU7sQvn/4NWjQIEnfhXd/f3/mMpyWp6enxo8fr9LSUr366qsOfa+//roO\n",
       "Hz6sSZMmyc/Pz6nmscW42OHIcDBv3jxt2LBBgwYN0siRI7Vnzx6lpqbqlltu0Ysvvmh2eYDef/99\n",
       "zZ8/X/Pnz9d9993n0Pf888/rH//4h3r37q3x48fryJEj2rp1q4YPH66lS5c6HJHy9ttv649//KO6\n",
       "d++uW265RXl5efrkk0/Us2dPvfPOO9zCgRZXUFCg6667TlarVXfddVeDpewXPProo/Lw8GA+w2nl\n",
       "5eVp2rRpOn36tMaOHau+ffvq4MGD2rFjh6KiorRq1ar6PRSYx2hvnn32WS1fvlzLly/XiBEj6tuZ\n",
       "y3BWJ06c0LRp01RUVKTRo0crPj5e+/bt065du9S3b1+tWLFCgYGBkpxnHhPOm8hqterVV1/V2rVr\n",
       "lZeXp4iICE2ePFkPP/zwRc9+BNrS2rVrNX/+fP2///f/GoRz6dwGL2+99Zays7MVFham5ORk/fzn\n",
       "P68/k/H7NmzYoCVLlujo0aPq0qWLxo4dq1/96lcKDQ1ti5eCTubTTz/V3LlzZbFYdLH/JVksFu3a\n",
       "tat+vjKf4awKCwu1cOFCbd68WcXFxeratauSk5P12GOP1b8JvIB5jPbkv/7rv7R8+XItW7bMIZxL\n",
       "zGU4r1OnTmnhwoX64osvVFJSom7duik5OVk/+9nPGsxPZ5jHhHMAAAAAAEzGPecAAAAAAJiMcA4A\n",
       "AAAAgMkI5wAAAAAAmIxwDgAAAACAyQjnAAAAAACYjHAOAAAAAIDJCOcAAAAAAJiMcA4AAAAAgMkI\n",
       "5wAAAAAAmIxwDgAAAACAyQjnAAAAAACYjHAOAAAAAIDJCOcAAAAAAJiMcA4AAAAAgMkI5wAAAAAA\n",
       "mIxwDgAAAACAyQjnAAAAAACY7P8DBAcUDTMWTsQAAAAASUVORK5CYII=\n",
       "' width=499 height=348/>"
      ],
      "text/plain": [
       "<matplotlib.figure.Figure at 0x1115eb050>"
      ]
     },
     "metadata": {},
     "output_type": "display_data"
    }
   ],
   "source": [
    "plt.plot(hy)"
   ]
  }
 ],
 "metadata": {
  "kernelspec": {
   "display_name": "Python 2",
   "language": "python",
   "name": "python2"
  },
  "language_info": {
   "codemirror_mode": {
    "name": "ipython",
    "version": 2
   },
   "file_extension": ".py",
   "mimetype": "text/x-python",
   "name": "python",
   "nbconvert_exporter": "python",
   "pygments_lexer": "ipython2",
   "version": "2.7.10"
  }
 },
 "nbformat": 4,
 "nbformat_minor": 0
}
