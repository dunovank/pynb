{
 "cells": [
  {
   "cell_type": "code",
   "execution_count": 1,
   "metadata": {
    "collapsed": true
   },
   "outputs": [],
   "source": [
    "from radd import build, vis\n",
    "from radd.toolbox import analyze\n",
    "from __future__ import division"
   ]
  },
  {
   "cell_type": "code",
   "execution_count": 5,
   "metadata": {
    "collapsed": true
   },
   "outputs": [],
   "source": [
    "iv = {'v':array([ 1.41106,  1.56252,  1.68275,  1.76071,  1.87995,  1.92475]), 'a': 0.487226, 'xb':   1.563474, 'tr':   0.292126}\n",
    "ivtr = {'a': 0.06720971, 'xb': 1.467605,  'v':array([ 0.83108,  0.97048,  0.96678,  0.97912,  0.93224,  1.07883]), 'tr':array([ 0.51509,  0.50619,  0.49248,  0.47988,  0.45145,  0.46361])}\n",
    "itr = {'a': 0.62868, 'v': 1.421123, 'xb': 0.640829, 'tr':array([ 0.18203,  0.16131,  0.13355,  0.11741,  0.08473,  0.07697])}\n",
    "ia = {'a':array([ 0.37922,  0.34356,  0.30503,  0.28076,  0.24567,  0.23642]), 'xb': 0.9136456, 'v': 1.127346, 'tr': 0.2997148}\n",
    "ixb={'a': 0.48158, 'xb': array([ 0.04638,  0.1547 ,  0.37575,  0.53875,  1.29523,  1.29254]), 'tr':0.27438, 'v': 1.54521}\n",
    "\n",
    "\n",
    "names = ['v', 'tr', 'a', 'xb']\n",
    "inits_list = [iv, itr, ia, ixb]\n",
    "for i, idc in enumerate(inits_list):\n",
    "      idc[names[i]] = np.mean(idc[names[i]])\n",
    "\n",
    "ivtr['v']=np.mean(ivtr['v'])\n",
    "ivtr['tr']=np.mean(ivtr['tr'])\n",
    "inits_list.append(ivtr)"
   ]
  },
  {
   "cell_type": "code",
   "execution_count": 6,
   "metadata": {
    "collapsed": true
   },
   "outputs": [],
   "source": [
    "parameter = 'xb'\n",
    "depends_on = {parameter:'pGo'}\n",
    "finfo_list, yhat_list = [], []\n",
    "d = '/'.join(['FinalPro', parameter])\n",
    "if not os.path.isdir(pth+d):\n",
    "      os.mkdir(pth+d)\n",
    "os.chdir(pth+d)\n",
    "finfo_list, yhat_list = [], []"
   ]
  },
  {
   "cell_type": "code",
   "execution_count": null,
   "metadata": {
    "collapsed": false
   },
   "outputs": [],
   "source": [
    "for i in range(20):\n",
    "      xinits_list = [dict(deepcopy(xinit)) for xinit in inits_list]\n",
    "      for xi in xinits_list:\n",
    "            model = build.Model(data=prodata, kind='xpro', inits=xi, depends_on=depends_on)\n",
    "            model.make_optimizer(tol=1.e-5, multiopt=True, maxfev=500)\n",
    "            opt=model.opt\n",
    "            opt.make_simulator()\n",
    "            \n",
    "            xi = model.__nudge_params__(xi)\n",
    "            ydata, ywts = model.avg_y, model.avg_wts\n",
    "            # STAGE 3 (Final Simplex)\n",
    "            yhat, finfo, xiv = opt.gradient_descent(y=ydata, wts=ywts, inits=xi, is_flat=False)\n",
    "            finfo_list.append(finfo)\n",
    "            yhat_list.append(yhat)"
   ]
  },
  {
   "cell_type": "code",
   "execution_count": null,
   "metadata": {
    "collapsed": true
   },
   "outputs": [],
   "source": [
    "dfx = pd.DataFrame([fi.T for fi in finfo_list])\n",
    "dff = dfx[['cnvrg', 'logp', 'chi', 'rchi', 'AIC', 'BIC', 'a', 'v', 'xb_0', 'xb_20', 'xb_40', 'xb_60', 'xb_80',  'xb_100', 'tr']]\n",
    "dff.to_csv('xpro_xb_bootinfo.csv', index=False)\n",
    "yhatdf = pd.DataFrame(np.asarray(yhat_list))\n",
    "yhatdf.to_csv('xpro_xb_bootfits.csv', index=False)"
   ]
  },
  {
   "cell_type": "code",
   "execution_count": null,
   "metadata": {
    "collapsed": true
   },
   "outputs": [],
   "source": []
  }
 ],
 "metadata": {
  "kernelspec": {
   "display_name": "Python 2",
   "language": "python",
   "name": "python2"
  },
  "language_info": {
   "codemirror_mode": {
    "name": "ipython",
    "version": 2
   },
   "file_extension": ".py",
   "mimetype": "text/x-python",
   "name": "python",
   "nbconvert_exporter": "python",
   "pygments_lexer": "ipython2",
   "version": "2.7.10"
  }
 },
 "nbformat": 4,
 "nbformat_minor": 0
}
