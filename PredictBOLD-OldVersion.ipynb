{
 "metadata": {
  "name": "",
  "signature": "sha256:d5af500be9e6dcc91b474548a1657b12e35c6f26624d353dcec5e65521c41f38"
 },
 "nbformat": 3,
 "nbformat_minor": 0,
 "worksheets": [
  {
   "cells": [
    {
     "cell_type": "code",
     "collapsed": false,
     "input": [
      "from __future__ import division\n",
      "from radd import ss, ssex, ssex_onsets, psy\n",
      "import seaborn as sns\n",
      "import pandas as pd\n",
      "import os\n",
      "import collections\n",
      "\n",
      "#globals\n",
      "a=.37; z=.5*a; Ter=.347; eta=.14; st=.0001; sz=.0001; s2=.01; xpo=[12, 12.29]\n",
      "mu_ss=-2.17; ssTer=.099; ssRe_TB=.653; ssPro_TB=.6; nt=3000; sTB=.00001; ssTer_var=.0001\n",
      "\n",
      "#ssRe\n",
      "ssdlist=[.2, .25, .3, .35, .4]\n",
      "#ssPro\n",
      "pGo_list=[0, .2, .4, .6, .8, 1]\n",
      "pSSD=.450\n",
      "vlist_bsl=[0.073, 0.26, 0.4385, 0.601, 0.93, 1.09]\n",
      "vlist_pnl=[0.05, 0.23, 0.425, 0.601, 0.93, 1.09]"
     ],
     "language": "python",
     "metadata": {},
     "outputs": [],
     "prompt_number": 13
    },
    {
     "cell_type": "heading",
     "level": 1,
     "metadata": {},
     "source": [
      "ssRe BSL"
     ]
    },
    {
     "cell_type": "code",
     "collapsed": false,
     "input": [
      "ssex=reload(ssex); ss=reload(ss)\n",
      "ReGO=dict()\n",
      "ReSS=dict()\n",
      "conditions=['200', '250', '300', '350', '400']\n",
      "gp={'a':a, 'z':z, 'v':0.611, 'Ter':Ter, 'eta':eta, 'st':st, 'sz':sz, 's2':s2}\n",
      "for i, ssd in enumerate(ssdlist):\n",
      "    sp={'mu_ss':mu_ss, 'pGo':.5, 'ssd':ssd, 'ssTer':ssTer, 'ssTer_var':ssTer_var}\n",
      "    re_glist, re_slist=ss.set_model(gParams=gp, sParams=sp, ntrials=nt, timebound=ssRe_TB, stb=sTB, \n",
      "                     t_exp=True, analyze=True, exp_scale=xpo, visual=False, true_onsets=True, \n",
      "                     task='ssReBSL', predictBOLD=True)\n",
      "    \n",
      "    ReGO[conditions[i]]=re_glist\n",
      "    ReSS[conditions[i]]=re_slist"
     ],
     "language": "python",
     "metadata": {},
     "outputs": [],
     "prompt_number": 14
    },
    {
     "cell_type": "code",
     "collapsed": false,
     "input": [
      "for i in ReGO.keys():\n",
      "    print i\n",
      "    print type(i)"
     ],
     "language": "python",
     "metadata": {},
     "outputs": [
      {
       "output_type": "stream",
       "stream": "stdout",
       "text": [
        "300\n",
        "<type 'str'>\n",
        "200\n",
        "<type 'str'>\n",
        "250\n",
        "<type 'str'>\n",
        "400\n",
        "<type 'str'>\n",
        "350\n",
        "<type 'str'>\n"
       ]
      }
     ],
     "prompt_number": 16
    },
    {
     "cell_type": "code",
     "collapsed": false,
     "input": [
      "\n",
      "gdf_list=[]\n",
      "sdf_list=[]\n",
      "gmu={}\n",
      "smu={}\n",
      "for gk, sk in zip(ReGO.keys(), ReSS.keys()):\n",
      "    \n",
      "    gdf=pd.DataFrame(ReGO[gk])\n",
      "    sdf=pd.DataFrame(ReSS[sk])\n",
      "    gdf['SSD']=gk*len(gdf)\n",
      "    sdf['SSD']=sk*len(sdf)\n",
      "    \n",
      "    gdf_list.append(gdf); sdf_list.append(sdf)\n",
      "    \n",
      "    gomean=pd.DataFrame(ReGO[gk]).describe().ix['mean']\n",
      "    ssmean=pd.DataFrame(ReSS[sk]).describe().ix['mean']\n",
      "   \n",
      "    gmu[gk]=gomean\n",
      "    smu[sk]=ssmean\n",
      "\n",
      "go_mu_df=pd.DataFrame(gmu)\n",
      "ss_mu_df=pd.DataFrame(smu)\n",
      "    \n",
      "for col in go_mu_df.columns:\n",
      "        ss.plot_mean_traces(pd.Series(go_mu_df[col]), pd.Series(ss_mu_df[col]))\n",
      "        \n",
      "#x={'k1':[1423, 4442, 154321, 23452345], 'k2':[2345, 2345234, 2345,523453254]}\n",
      "#y={'k1':[1423, 4442, 154321, 23452345], 'k2':[2345, 2345234, 2345,523453254]}\n",
      "#for xi,yi in zip(x.values(), y.values()):\n",
      "#    gomean=pd.DataFrame(xi).describe().ix['mean']\n",
      "#    ssmean=pd.DataFrame(yi).describe().ix['mean']\n",
      "#    print gomean.head(2)\n",
      "#    print ssmean.head(2)\n",
      "#    print len(gomean); print len(ssmean)\n",
      "#go20=list(pd.Series(df_dict['200']['go_paths']))\n",
      "#go25=list(pd.Series(df_dict['250']['go_paths']))\n",
      "#go3=list(pd.Series(df_dict['300']['go_paths']))\n",
      "#go35=list(pd.Series(df_dict['350']['go_paths']))\n",
      "#go4=list(pd.Series(df_dict['400']['go_paths']))\n",
      "\n",
      "\n",
      "#ss20=list(pd.Series(df_dict['200']['ss_paths']))\n",
      "#ss25=list(pd.Series(df_dict['250']['ss_paths']))\n",
      "#ss3=list(pd.Series(df_dict['300']['ss_paths']))\n",
      "#ss35=list(pd.Series(df_dict['350']['ss_paths']))\n",
      "#ss4=list(pd.Series(df_dict['400']['ss_paths']))"
     ],
     "language": "python",
     "metadata": {},
     "outputs": [
      {
       "ename": "NameError",
       "evalue": "name 'ReGO' is not defined",
       "output_type": "pyerr",
       "traceback": [
        "\u001b[1;31m---------------------------------------------------------------------------\u001b[0m\n\u001b[1;31mNameError\u001b[0m                                 Traceback (most recent call last)",
        "\u001b[1;32m<ipython-input-1-c9051b053601>\u001b[0m in \u001b[0;36m<module>\u001b[1;34m()\u001b[0m\n\u001b[0;32m      4\u001b[0m \u001b[0mgmu\u001b[0m\u001b[1;33m=\u001b[0m\u001b[1;33m{\u001b[0m\u001b[1;33m}\u001b[0m\u001b[1;33m\u001b[0m\u001b[0m\n\u001b[0;32m      5\u001b[0m \u001b[0msmu\u001b[0m\u001b[1;33m=\u001b[0m\u001b[1;33m{\u001b[0m\u001b[1;33m}\u001b[0m\u001b[1;33m\u001b[0m\u001b[0m\n\u001b[1;32m----> 6\u001b[1;33m \u001b[1;32mfor\u001b[0m \u001b[0mgk\u001b[0m\u001b[1;33m,\u001b[0m \u001b[0msk\u001b[0m \u001b[1;32min\u001b[0m \u001b[0mzip\u001b[0m\u001b[1;33m(\u001b[0m\u001b[0mReGO\u001b[0m\u001b[1;33m.\u001b[0m\u001b[0mkeys\u001b[0m\u001b[1;33m(\u001b[0m\u001b[1;33m)\u001b[0m\u001b[1;33m,\u001b[0m \u001b[0mReSS\u001b[0m\u001b[1;33m.\u001b[0m\u001b[0mkeys\u001b[0m\u001b[1;33m(\u001b[0m\u001b[1;33m)\u001b[0m\u001b[1;33m)\u001b[0m\u001b[1;33m:\u001b[0m\u001b[1;33m\u001b[0m\u001b[0m\n\u001b[0m\u001b[0;32m      7\u001b[0m \u001b[1;33m\u001b[0m\u001b[0m\n\u001b[0;32m      8\u001b[0m     \u001b[0mgdf\u001b[0m\u001b[1;33m=\u001b[0m\u001b[0mpd\u001b[0m\u001b[1;33m.\u001b[0m\u001b[0mDataFrame\u001b[0m\u001b[1;33m(\u001b[0m\u001b[0mReGO\u001b[0m\u001b[1;33m[\u001b[0m\u001b[0mgk\u001b[0m\u001b[1;33m]\u001b[0m\u001b[1;33m)\u001b[0m\u001b[1;33m\u001b[0m\u001b[0m\n",
        "\u001b[1;31mNameError\u001b[0m: name 'ReGO' is not defined"
       ]
      }
     ],
     "prompt_number": 1
    },
    {
     "cell_type": "code",
     "collapsed": false,
     "input": [
      "ReGO['250']"
     ],
     "language": "python",
     "metadata": {},
     "outputs": [],
     "prompt_number": "*"
    },
    {
     "cell_type": "code",
     "collapsed": false,
     "input": [
      "#for col in go_mu_df.columns:\n",
      "#        ss.plot_mean_traces(go_mu_df[col], ss_mu_df[col])\n",
      "\n",
      "for col in go_mu_df.columns:\n",
      "        ss.plot_mean_traces(pd.Series(go_mu_df[col]), pd.Series(ss_mu_df[col]))"
     ],
     "language": "python",
     "metadata": {},
     "outputs": [
      {
       "metadata": {},
       "output_type": "display_data",
       "png": "[encoded data removed]",
       "text": [
        "<matplotlib.figure.Figure at 0x79e82c50>"
       ]
      },
      {
       "metadata": {},
       "output_type": "display_data",
       "png": "[encoded data removed]",
       "text": [
        "<matplotlib.figure.Figure at 0x79eb5b90>"
       ]
      },
      {
       "metadata": {},
       "output_type": "display_data",
       "png": "[encoded data removed]",
       "text": [
        "<matplotlib.figure.Figure at 0x79ed8d10>"
       ]
      },
      {
       "metadata": {},
       "output_type": "display_data",
       "png": "[encoded data removed]",
       "text": [
        "<matplotlib.figure.Figure at 0x657ba090>"
       ]
      },
      {
       "metadata": {},
       "output_type": "display_data",
       "png": "[encoded data removed]",
       "text": [
        "<matplotlib.figure.Figure at 0x79e5fdd0>"
       ]
      }
     ],
     "prompt_number": 32
    },
    {
     "cell_type": "code",
     "collapsed": false,
     "input": [
      "pd.Series(ss_mu_df['400'])"
     ],
     "language": "python",
     "metadata": {},
     "outputs": [
      {
       "metadata": {},
       "output_type": "pyout",
       "prompt_number": 35,
       "text": [
        "0     0.293563\n",
        "1     0.293324\n",
        "2     0.293066\n",
        "3     0.292803\n",
        "4     0.292517\n",
        "5     0.292219\n",
        "6     0.292000\n",
        "7     0.291766\n",
        "8     0.291563\n",
        "9     0.291380\n",
        "10    0.291125\n",
        "11    0.290939\n",
        "12    0.290715\n",
        "13    0.290469\n",
        "14    0.290216\n",
        "...\n",
        "1699   NaN\n",
        "1700   NaN\n",
        "1701   NaN\n",
        "1702   NaN\n",
        "1703   NaN\n",
        "1704   NaN\n",
        "1705   NaN\n",
        "1706   NaN\n",
        "1707   NaN\n",
        "1708   NaN\n",
        "1709   NaN\n",
        "1710   NaN\n",
        "1711   NaN\n",
        "1712   NaN\n",
        "1713   NaN\n",
        "Name: 400, Length: 1714, dtype: float64"
       ]
      }
     ],
     "prompt_number": 35
    },
    {
     "cell_type": "code",
     "collapsed": true,
     "input": [
      "#gdf=pd.DataFrame({'200':go2, '250':go25, '300':go3, '350':go35, '400':go4})\n",
      "#ssdf=pd.DataFrame({'200':ss2, '250':ss25, '300':ss3, '350':ss35, '400':ss4})\n",
      "xxx.tail(20)"
     ],
     "language": "python",
     "metadata": {},
     "outputs": [
      {
       "html": [
        "<div style=\"max-height:1000px;max-width:1500px;overflow:auto;\">\n",
        "<table border=\"1\" class=\"dataframe\">\n",
        "  <thead>\n",
        "    <tr style=\"text-align: right;\">\n",
        "      <th></th>\n",
        "      <th>200</th>\n",
        "      <th>250</th>\n",
        "      <th>300</th>\n",
        "      <th>350</th>\n",
        "      <th>400</th>\n",
        "    </tr>\n",
        "  </thead>\n",
        "  <tbody>\n",
        "    <tr>\n",
        "      <th>3042</th>\n",
        "      <td> 0.337452</td>\n",
        "      <td> 0.342487</td>\n",
        "      <td> 0.348951</td>\n",
        "      <td> 0.344264</td>\n",
        "      <td> 0.345608</td>\n",
        "    </tr>\n",
        "    <tr>\n",
        "      <th>3043</th>\n",
        "      <td> 0.337847</td>\n",
        "      <td> 0.342488</td>\n",
        "      <td> 0.349080</td>\n",
        "      <td> 0.344585</td>\n",
        "      <td> 0.345833</td>\n",
        "    </tr>\n",
        "    <tr>\n",
        "      <th>3044</th>\n",
        "      <td> 0.338068</td>\n",
        "      <td> 0.343077</td>\n",
        "      <td> 0.349496</td>\n",
        "      <td> 0.344524</td>\n",
        "      <td> 0.346059</td>\n",
        "    </tr>\n",
        "    <tr>\n",
        "      <th>3045</th>\n",
        "      <td> 0.338029</td>\n",
        "      <td> 0.343549</td>\n",
        "      <td> 0.348535</td>\n",
        "      <td> 0.343218</td>\n",
        "      <td> 0.346284</td>\n",
        "    </tr>\n",
        "    <tr>\n",
        "      <th>3046</th>\n",
        "      <td> 0.338511</td>\n",
        "      <td> 0.343668</td>\n",
        "      <td> 0.348713</td>\n",
        "      <td> 0.343396</td>\n",
        "      <td> 0.346414</td>\n",
        "    </tr>\n",
        "    <tr>\n",
        "      <th>3047</th>\n",
        "      <td> 0.338820</td>\n",
        "      <td> 0.344023</td>\n",
        "      <td> 0.348691</td>\n",
        "      <td> 0.343774</td>\n",
        "      <td> 0.346545</td>\n",
        "    </tr>\n",
        "    <tr>\n",
        "      <th>3048</th>\n",
        "      <td> 0.338955</td>\n",
        "      <td> 0.344496</td>\n",
        "      <td> 0.348969</td>\n",
        "      <td> 0.344253</td>\n",
        "      <td> 0.347057</td>\n",
        "    </tr>\n",
        "    <tr>\n",
        "      <th>3049</th>\n",
        "      <td> 0.337680</td>\n",
        "      <td> 0.344263</td>\n",
        "      <td> 0.349448</td>\n",
        "      <td> 0.344931</td>\n",
        "      <td> 0.347569</td>\n",
        "    </tr>\n",
        "    <tr>\n",
        "      <th>3050</th>\n",
        "      <td> 0.338222</td>\n",
        "      <td> 0.344618</td>\n",
        "      <td> 0.348695</td>\n",
        "      <td> 0.345110</td>\n",
        "      <td> 0.347795</td>\n",
        "    </tr>\n",
        "    <tr>\n",
        "      <th>3051</th>\n",
        "      <td> 0.338401</td>\n",
        "      <td> 0.344856</td>\n",
        "      <td> 0.348717</td>\n",
        "      <td> 0.345389</td>\n",
        "      <td> 0.348117</td>\n",
        "    </tr>\n",
        "    <tr>\n",
        "      <th>3052</th>\n",
        "      <td> 0.335673</td>\n",
        "      <td> 0.345212</td>\n",
        "      <td> 0.349054</td>\n",
        "      <td> 0.340610</td>\n",
        "      <td> 0.347279</td>\n",
        "    </tr>\n",
        "    <tr>\n",
        "      <th>3053</th>\n",
        "      <td> 0.335952</td>\n",
        "      <td> 0.345685</td>\n",
        "      <td> 0.349181</td>\n",
        "      <td> 0.340731</td>\n",
        "      <td> 0.347559</td>\n",
        "    </tr>\n",
        "    <tr>\n",
        "      <th>3054</th>\n",
        "      <td> 0.336032</td>\n",
        "      <td> 0.345806</td>\n",
        "      <td> 0.348377</td>\n",
        "      <td> 0.341087</td>\n",
        "      <td> 0.346460</td>\n",
        "    </tr>\n",
        "    <tr>\n",
        "      <th>3055</th>\n",
        "      <td> 0.336112</td>\n",
        "      <td> 0.346398</td>\n",
        "      <td> 0.347104</td>\n",
        "      <td> 0.339207</td>\n",
        "      <td> 0.346587</td>\n",
        "    </tr>\n",
        "    <tr>\n",
        "      <th>3056</th>\n",
        "      <td> 0.336392</td>\n",
        "      <td> 0.346872</td>\n",
        "      <td> 0.347578</td>\n",
        "      <td> 0.339012</td>\n",
        "      <td> 0.346504</td>\n",
        "    </tr>\n",
        "    <tr>\n",
        "      <th>3057</th>\n",
        "      <td> 0.336873</td>\n",
        "      <td> 0.345206</td>\n",
        "      <td> 0.347817</td>\n",
        "      <td> 0.338943</td>\n",
        "      <td> 0.346421</td>\n",
        "    </tr>\n",
        "    <tr>\n",
        "      <th>3058</th>\n",
        "      <td> 0.337253</td>\n",
        "      <td> 0.345512</td>\n",
        "      <td> 0.348410</td>\n",
        "      <td> 0.339248</td>\n",
        "      <td> 0.346549</td>\n",
        "    </tr>\n",
        "    <tr>\n",
        "      <th>3059</th>\n",
        "      <td> 0.337534</td>\n",
        "      <td> 0.345568</td>\n",
        "      <td> 0.347696</td>\n",
        "      <td> 0.339429</td>\n",
        "      <td> 0.346993</td>\n",
        "    </tr>\n",
        "    <tr>\n",
        "      <th>3060</th>\n",
        "      <td> 0.343113</td>\n",
        "      <td> 0.345315</td>\n",
        "      <td> 0.342767</td>\n",
        "      <td> 0.338911</td>\n",
        "      <td> 0.353119</td>\n",
        "    </tr>\n",
        "    <tr>\n",
        "      <th>3061</th>\n",
        "      <td> 0.342273</td>\n",
        "      <td>      NaN</td>\n",
        "      <td>      NaN</td>\n",
        "      <td>      NaN</td>\n",
        "      <td>      NaN</td>\n",
        "    </tr>\n",
        "  </tbody>\n",
        "</table>\n",
        "<p>20 rows \u00d7 5 columns</p>\n",
        "</div>"
       ],
       "metadata": {},
       "output_type": "pyout",
       "prompt_number": 23,
       "text": [
        "           200       250       300       350       400\n",
        "3042  0.337452  0.342487  0.348951  0.344264  0.345608\n",
        "3043  0.337847  0.342488  0.349080  0.344585  0.345833\n",
        "3044  0.338068  0.343077  0.349496  0.344524  0.346059\n",
        "3045  0.338029  0.343549  0.348535  0.343218  0.346284\n",
        "3046  0.338511  0.343668  0.348713  0.343396  0.346414\n",
        "3047  0.338820  0.344023  0.348691  0.343774  0.346545\n",
        "3048  0.338955  0.344496  0.348969  0.344253  0.347057\n",
        "3049  0.337680  0.344263  0.349448  0.344931  0.347569\n",
        "3050  0.338222  0.344618  0.348695  0.345110  0.347795\n",
        "3051  0.338401  0.344856  0.348717  0.345389  0.348117\n",
        "3052  0.335673  0.345212  0.349054  0.340610  0.347279\n",
        "3053  0.335952  0.345685  0.349181  0.340731  0.347559\n",
        "3054  0.336032  0.345806  0.348377  0.341087  0.346460\n",
        "3055  0.336112  0.346398  0.347104  0.339207  0.346587\n",
        "3056  0.336392  0.346872  0.347578  0.339012  0.346504\n",
        "3057  0.336873  0.345206  0.347817  0.338943  0.346421\n",
        "3058  0.337253  0.345512  0.348410  0.339248  0.346549\n",
        "3059  0.337534  0.345568  0.347696  0.339429  0.346993\n",
        "3060  0.343113  0.345315  0.342767  0.338911  0.353119\n",
        "3061  0.342273       NaN       NaN       NaN       NaN\n",
        "\n",
        "[20 rows x 5 columns]"
       ]
      }
     ],
     "prompt_number": 23
    },
    {
     "cell_type": "code",
     "collapsed": false,
     "input": [
      "ss=reload(ss)\n",
      "ss.plot_mean_traces(gomean, ssmean)"
     ],
     "language": "python",
     "metadata": {},
     "outputs": [
      {
       "metadata": {},
       "output_type": "display_data",
       "png": "[encoded data removed]",
       "text": [
        "<matplotlib.figure.Figure at 0x115eee8d0>"
       ]
      }
     ],
     "prompt_number": 201
    },
    {
     "cell_type": "code",
     "collapsed": false,
     "input": [
      "#ssRE\n",
      "#Successful stops for early/late stop signals\n",
      "#Successful go vs incorrect\n",
      "\n",
      "#ssPro\n",
      "#100,80, 40, 0 (Go and NoGo)\n",
      "for gomean, ssmean in zip(\n",
      "go_idx = (np.abs(gomean-ssmean.max())).argmin()\n",
      "ss_idx = (np.abs(ssmean-.185)).argmin()#(np.abs(ssmean.max()-.185)).argmin()\n",
      "\n",
      "sum_g=gomean[:go_idx].cumsum().max()\n",
      "sum_s=(ssmean[:ss_idx]).cumsum().max()\n",
      "\n",
      "auc=sum_g+sum_s"
     ],
     "language": "python",
     "metadata": {},
     "outputs": [],
     "prompt_number": 231
    },
    {
     "cell_type": "code",
     "collapsed": false,
     "input": [
      "auc"
     ],
     "language": "python",
     "metadata": {},
     "outputs": [
      {
       "metadata": {},
       "output_type": "pyout",
       "prompt_number": 232,
       "text": [
        "72.39851423446575"
       ]
      }
     ],
     "prompt_number": 232
    },
    {
     "cell_type": "code",
     "collapsed": false,
     "input": [
      "ssex=reload(ssex); ss=reload(ss)\n",
      "\n",
      "df_dict=dict()\n",
      "\n",
      "for i,v in enumerate(vlist_bsl):\n",
      "    gp={'a':a, 'z':z, 'v':v, 'Ter':Ter, 'eta':eta, 'st':st, 'sz':sz, 's2':s2}\n",
      "    sp={'mu_ss':mu_ss, 'pGo':pGo_list[i], 'ssd':pSSD, 'ssTer':ssTer, 'ssTer_var':ssTer_var}\n",
      "    pro_glist, pro_slist=ss.set_model(gParams=gp, sParams=sp, ntrials=nt, timebound=ssPro_TB, stb=sTB, \n",
      "        t_exp=True, analyze=True, exp_scale=xpo, visual=False, true_onsets=True, \n",
      "        task='ssProBSL', predictBOLD=True) \n",
      "\n",
      "    df_dict[conditions[i]]=df"
     ],
     "language": "python",
     "metadata": {},
     "outputs": []
    },
    {
     "cell_type": "code",
     "collapsed": false,
     "input": [],
     "language": "python",
     "metadata": {},
     "outputs": []
    }
   ],
   "metadata": {}
  }
 ]
}