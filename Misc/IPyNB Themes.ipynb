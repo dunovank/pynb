{
 "cells": [
  {
   "cell_type": "code",
   "execution_count": 2,
   "metadata": {
    "collapsed": false
   },
   "outputs": [],
   "source": [
    "import os\n",
    "import subprocess\n",
    "import urllib\n",
    "\n"
   ]
  },
  {
   "cell_type": "code",
   "execution_count": 8,
   "metadata": {
    "collapsed": false
   },
   "outputs": [],
   "source": [
    "\n",
    "\n",
    "fav_dark=['flat', 'codeschool','monokai', 'brewer','ocean', 'twilight','tomorrow', 'railscasts']\n",
    "darknames=['flat', 'cs', 'kai', 'brewer', 'ocean', 'twlt', 'tmrw', 'rails']\n",
    "\n",
    "\n",
    "fav_light=['atelierheath', 'flat', 'codeschool', 'brewer', 'ocean', 'google']\n",
    "lightnames=['lite', 'lt_flat', 'lt_cs', 'lt_brewer', 'lt_ocean', 'lt_google']\n"
   ]
  },
  {
   "cell_type": "code",
   "execution_count": 9,
   "metadata": {
    "collapsed": true
   },
   "outputs": [
    {
     "name": "stdout",
     "output_type": "stream",
     "text": [
      "[ProfileCreate] Generating default config file: u'/home/kyle/.ipython/profile_cs/ipython_config.py'\n",
      "[ProfileCreate] Generating default config file: u'/home/kyle/.ipython/profile_cs/ipython_qtconsole_config.py'\n",
      "[ProfileCreate] Generating default config file: u'/home/kyle/.ipython/profile_cs/ipython_notebook_config.py'\n",
      "[ProfileCreate] Generating default config file: u'/home/kyle/.ipython/profile_cs/ipython_nbconvert_config.py'\n",
      "[ProfileCreate] Generating default config file: u'/home/kyle/.ipython/profile_kai/ipython_config.py'\n",
      "[ProfileCreate] Generating default config file: u'/home/kyle/.ipython/profile_kai/ipython_qtconsole_config.py'\n",
      "[ProfileCreate] Generating default config file: u'/home/kyle/.ipython/profile_kai/ipython_notebook_config.py'\n",
      "[ProfileCreate] Generating default config file: u'/home/kyle/.ipython/profile_kai/ipython_nbconvert_config.py'\n",
      "[ProfileCreate] Generating default config file: u'/home/kyle/.ipython/profile_brewer/ipython_config.py'\n",
      "[ProfileCreate] Generating default config file: u'/home/kyle/.ipython/profile_brewer/ipython_qtconsole_config.py'\n",
      "[ProfileCreate] Generating default config file: u'/home/kyle/.ipython/profile_brewer/ipython_notebook_config.py'\n",
      "[ProfileCreate] Generating default config file: u'/home/kyle/.ipython/profile_brewer/ipython_nbconvert_config.py'\n",
      "[ProfileCreate] Generating default config file: u'/home/kyle/.ipython/profile_ocean/ipython_config.py'\n",
      "[ProfileCreate] Generating default config file: u'/home/kyle/.ipython/profile_ocean/ipython_qtconsole_config.py'\n",
      "[ProfileCreate] Generating default config file: u'/home/kyle/.ipython/profile_ocean/ipython_notebook_config.py'\n",
      "[ProfileCreate] Generating default config file: u'/home/kyle/.ipython/profile_ocean/ipython_nbconvert_config.py'\n",
      "[ProfileCreate] Generating default config file: u'/home/kyle/.ipython/profile_twlt/ipython_config.py'\n",
      "[ProfileCreate] Generating default config file: u'/home/kyle/.ipython/profile_twlt/ipython_qtconsole_config.py'\n",
      "[ProfileCreate] Generating default config file: u'/home/kyle/.ipython/profile_twlt/ipython_notebook_config.py'\n",
      "[ProfileCreate] Generating default config file: u'/home/kyle/.ipython/profile_twlt/ipython_nbconvert_config.py'\n",
      "[ProfileCreate] Generating default config file: u'/home/kyle/.ipython/profile_tmrw/ipython_config.py'\n",
      "[ProfileCreate] Generating default config file: u'/home/kyle/.ipython/profile_tmrw/ipython_qtconsole_config.py'\n",
      "[ProfileCreate] Generating default config file: u'/home/kyle/.ipython/profile_tmrw/ipython_notebook_config.py'\n",
      "[ProfileCreate] Generating default config file: u'/home/kyle/.ipython/profile_tmrw/ipython_nbconvert_config.py'\n",
      "[ProfileCreate] Generating default config file: u'/home/kyle/.ipython/profile_rails/ipython_config.py'\n",
      "[ProfileCreate] Generating default config file: u'/home/kyle/.ipython/profile_rails/ipython_qtconsole_config.py'\n",
      "[ProfileCreate] Generating default config file: u'/home/kyle/.ipython/profile_rails/ipython_notebook_config.py'\n",
      "[ProfileCreate] Generating default config file: u'/home/kyle/.ipython/profile_rails/ipython_nbconvert_config.py'\n",
      "[ProfileCreate] Generating default config file: u'/home/kyle/.ipython/profile_lite/ipython_config.py'\n",
      "[ProfileCreate] Generating default config file: u'/home/kyle/.ipython/profile_lite/ipython_qtconsole_config.py'\n",
      "[ProfileCreate] Generating default config file: u'/home/kyle/.ipython/profile_lite/ipython_notebook_config.py'\n",
      "[ProfileCreate] Generating default config file: u'/home/kyle/.ipython/profile_lite/ipython_nbconvert_config.py'\n",
      "[ProfileCreate] Generating default config file: u'/home/kyle/.ipython/profile_lt_flat/ipython_config.py'\n",
      "[ProfileCreate] Generating default config file: u'/home/kyle/.ipython/profile_lt_flat/ipython_qtconsole_config.py'\n",
      "[ProfileCreate] Generating default config file: u'/home/kyle/.ipython/profile_lt_flat/ipython_notebook_config.py'\n",
      "[ProfileCreate] Generating default config file: u'/home/kyle/.ipython/profile_lt_flat/ipython_nbconvert_config.py'\n",
      "[ProfileCreate] Generating default config file: u'/home/kyle/.ipython/profile_lt_cs/ipython_config.py'\n",
      "[ProfileCreate] Generating default config file: u'/home/kyle/.ipython/profile_lt_cs/ipython_qtconsole_config.py'\n",
      "[ProfileCreate] Generating default config file: u'/home/kyle/.ipython/profile_lt_cs/ipython_notebook_config.py'\n",
      "[ProfileCreate] Generating default config file: u'/home/kyle/.ipython/profile_lt_cs/ipython_nbconvert_config.py'\n",
      "[ProfileCreate] Generating default config file: u'/home/kyle/.ipython/profile_lt_brewer/ipython_config.py'\n",
      "[ProfileCreate] Generating default config file: u'/home/kyle/.ipython/profile_lt_brewer/ipython_qtconsole_config.py'\n",
      "[ProfileCreate] Generating default config file: u'/home/kyle/.ipython/profile_lt_brewer/ipython_notebook_config.py'\n",
      "[ProfileCreate] Generating default config file: u'/home/kyle/.ipython/profile_lt_brewer/ipython_nbconvert_config.py'\n",
      "[ProfileCreate] Generating default config file: u'/home/kyle/.ipython/profile_lt_ocean/ipython_config.py'\n",
      "[ProfileCreate] Generating default config file: u'/home/kyle/.ipython/profile_lt_ocean/ipython_qtconsole_config.py'\n",
      "[ProfileCreate] Generating default config file: u'/home/kyle/.ipython/profile_lt_ocean/ipython_notebook_config.py'\n",
      "[ProfileCreate] Generating default config file: u'/home/kyle/.ipython/profile_lt_ocean/ipython_nbconvert_config.py'\n",
      "[ProfileCreate] Generating default config file: u'/home/kyle/.ipython/profile_lt_google/ipython_config.py'\n",
      "[ProfileCreate] Generating default config file: u'/home/kyle/.ipython/profile_lt_google/ipython_qtconsole_config.py'\n",
      "[ProfileCreate] Generating default config file: u'/home/kyle/.ipython/profile_lt_google/ipython_notebook_config.py'\n",
      "[ProfileCreate] Generating default config file: u'/home/kyle/.ipython/profile_lt_google/ipython_nbconvert_config.py'\n"
     ]
    }
   ],
   "source": [
    "for ii, i in enumerate(fav_dark):\n",
    "    name=darknames[ii]\n",
    "    !ipython profile create $name\n",
    "    profile_dir = !ipython locate profile $name\n",
    "    url = \"https://raw.githubusercontent.com/nsonnad/base16-ipython-notebook/master/base16-\" + i + \"-dark.css\"\n",
    "    tgt = os.path.join(profile_dir[0], 'static', 'custom', \"custom.css\")\n",
    "    urllib.urlretrieve (url, tgt)\n",
    "\n",
    "for ii, i in enumerate(fav_light):\n",
    "    name=lightnames[ii]\n",
    "    !ipython profile create $name\n",
    "    profile_dir = !ipython locate profile $name\n",
    "    url = \"https://raw.githubusercontent.com/nsonnad/base16-ipython-notebook/master/base16-\" + i + \"-light.css\"\n",
    "    tgt = os.path.join(profile_dir[0], 'static', 'custom', \"custom.css\")\n",
    "    urllib.urlretrieve (url, tgt)"
   ]
  },
  {
   "cell_type": "code",
   "execution_count": 8,
   "metadata": {
    "collapsed": false
   },
   "outputs": [],
   "source": [
    "theme_names = ['3024-dark',\n",
    "               '3024-light',\n",
    "               'atelierdune-dark',\n",
    "               'atelierdune-light',\n",
    "               'atelierforest-dark',\n",
    "               'atelierforest-light',\n",
    "               'atelierheath-dark',\n",
    "               'atelierheath-light',\n",
    "               'atelierlakeside-dark',\n",
    "               'atelierlakeside-light',\n",
    "               'atelierseaside-dark',\n",
    "               'atelierseaside-light',\n",
    "               'bespin-dark',\n",
    "               'bespin-light',\n",
    "               'chalk-dark',\n",
    "               'chalk-light',\n",
    "               'default-dark',\n",
    "               'default-light',\n",
    "               'eighties-dark',\n",
    "               'eighties-light',\n",
    "               'grayscale-dark',\n",
    "               'grayscale-light',\n",
    "               'greenscreen-dark',\n",
    "               'greenscreen-light',\n",
    "               'isotope-dark',\n",
    "               'isotope-light',\n",
    "               'londontube-dark',\n",
    "               'londontube-light',\n",
    "               'marrakesh-dark',\n",
    "               'marrakesh-light',\n",
    "               'mocha-dark',\n",
    "               'mocha-light',\n",
    "               'monokai-dark',\n",
    "               'monokai-light',\n",
    "               'ocean-dark',\n",
    "               'ocean-light',\n",
    "               'paraiso-dark',\n",
    "               'paraiso-light',\n",
    "               'railscasts-dark',\n",
    "               'railscasts-light',\n",
    "               'shapeshifter-dark',\n",
    "               'shapeshifter-light',\n",
    "               'solarized-dark',\n",
    "               'solarized-light',\n",
    "               'tomorrow-dark',\n",
    "               'tomorrow-light',\n",
    "               'twilight-dark',\n",
    "               'twilight-light']"
   ]
  },
  {
   "cell_type": "code",
   "execution_count": 7,
   "metadata": {
    "collapsed": false
   },
   "outputs": [
    {
     "data": {
      "text/plain": [
       "'/home/kyle/.ipython/profile_[lite,/static/custom/custom.css'"
      ]
     },
     "execution_count": 7,
     "metadata": {},
     "output_type": "execute_result"
    }
   ],
   "source": [
    "tgt"
   ]
  },
  {
   "cell_type": "code",
   "execution_count": null,
   "metadata": {
    "collapsed": false
   },
   "outputs": [],
   "source": []
  }
 ],
 "metadata": {
  "kernelspec": {
   "display_name": "Python 2",
   "language": "python",
   "name": "python2"
  },
  "language_info": {
   "codemirror_mode": {
    "name": "ipython",
    "version": 2
   },
   "file_extension": ".py",
   "mimetype": "text/x-python",
   "name": "python",
   "nbconvert_exporter": "python",
   "pygments_lexer": "ipython2",
   "version": "2.7.11"
  }
 },
 "nbformat": 4,
 "nbformat_minor": 0
}
