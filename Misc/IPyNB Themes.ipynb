{
 "metadata": {
  "name": "",
  "signature": "sha256:daab65e0d9520b727c2014c2ebabf62c18764987cd0fcc295fb9d48331f78b2d"
 },
 "nbformat": 3,
 "nbformat_minor": 0,
 "worksheets": [
  {
   "cells": [
    {
     "cell_type": "code",
     "collapsed": false,
     "input": [
      "import os\n",
      "import subprocess\n",
      "import urllib\n",
      "\n"
     ],
     "language": "python",
     "metadata": {},
     "outputs": [],
     "prompt_number": 5
    },
    {
     "cell_type": "code",
     "collapsed": false,
     "input": [
      "theme_names = ['3024-dark',\n",
      "               '3024-light',\n",
      "               'atelierdune-dark',\n",
      "               'atelierdune-light',\n",
      "               'atelierforest-dark',\n",
      "               'atelierforest-light',\n",
      "               'atelierheath-dark',\n",
      "               'atelierheath-light',\n",
      "               'atelierlakeside-dark',\n",
      "               'atelierlakeside-light',\n",
      "               'atelierseaside-dark',\n",
      "               'atelierseaside-light',\n",
      "               'bespin-dark',\n",
      "               'bespin-light',\n",
      "               'chalk-dark',\n",
      "               'chalk-light',\n",
      "               'default-dark',\n",
      "               'default-light',\n",
      "               'eighties-dark',\n",
      "               'eighties-light',\n",
      "               'grayscale-dark',\n",
      "               'grayscale-light',\n",
      "               'greenscreen-dark',\n",
      "               'greenscreen-light',\n",
      "               'isotope-dark',\n",
      "               'isotope-light',\n",
      "               'londontube-dark',\n",
      "               'londontube-light',\n",
      "               'marrakesh-dark',\n",
      "               'marrakesh-light',\n",
      "               'mocha-dark',\n",
      "               'mocha-light',\n",
      "               'monokai-dark',\n",
      "               'monokai-light',\n",
      "               'ocean-dark',\n",
      "               'ocean-light',\n",
      "               'paraiso-dark',\n",
      "               'paraiso-light',\n",
      "               'railscasts-dark',\n",
      "               'railscasts-light',\n",
      "               'shapeshifter-dark',\n",
      "               'shapeshifter-light',\n",
      "               'solarized-dark',\n",
      "               'solarized-light',\n",
      "               'tomorrow-dark',\n",
      "               'tomorrow-light',\n",
      "               'twilight-dark',\n",
      "               'twilight-light']"
     ],
     "language": "python",
     "metadata": {},
     "outputs": [],
     "prompt_number": 8
    },
    {
     "cell_type": "code",
     "collapsed": false,
     "input": [
      "\n",
      "\n",
      "fav=['atelierdune','flat',\n",
      "'default','monokai',\n",
      "'ocean','solarized',\n",
      "'twilight','tomorrow']"
     ],
     "language": "python",
     "metadata": {},
     "outputs": [],
     "prompt_number": 11
    },
    {
     "cell_type": "code",
     "collapsed": false,
     "input": [
      "for i in fav:\n",
      "    !ipython profile create $i\n",
      "    profile_dir = !ipython locate profile $i\n",
      "    url = \"https://raw.githubusercontent.com/nsonnad/base16-ipython-notebook/master/base16-\" + i + \"-dark.css\"\n",
      "    tgt = os.path.join(profile_dir[0], 'static', 'custom', \"custom.css\")\n",
      "    urllib.urlretrieve (url, tgt)"
     ],
     "language": "python",
     "metadata": {},
     "outputs": [
      {
       "output_type": "stream",
       "stream": "stdout",
       "text": [
        "[ProfileCreate] Generating default config file: u'/Users/kyle/.ipython/profile_flat/ipython_config.py'\r\n"
       ]
      },
      {
       "output_type": "stream",
       "stream": "stdout",
       "text": [
        "[ProfileCreate] Generating default config file: u'/Users/kyle/.ipython/profile_flat/ipython_notebook_config.py'\r\n"
       ]
      },
      {
       "output_type": "stream",
       "stream": "stdout",
       "text": [
        "[ProfileCreate] Generating default config file: u'/Users/kyle/.ipython/profile_flat/ipython_nbconvert_config.py'\r\n"
       ]
      },
      {
       "output_type": "stream",
       "stream": "stdout",
       "text": [
        "[ProfileCreate] Generating default config file: u'/Users/kyle/.ipython/profile_monokai/ipython_config.py'\r\n"
       ]
      },
      {
       "output_type": "stream",
       "stream": "stdout",
       "text": [
        "[ProfileCreate] Generating default config file: u'/Users/kyle/.ipython/profile_monokai/ipython_notebook_config.py'\r\n"
       ]
      },
      {
       "output_type": "stream",
       "stream": "stdout",
       "text": [
        "[ProfileCreate] Generating default config file: u'/Users/kyle/.ipython/profile_monokai/ipython_nbconvert_config.py'\r\n"
       ]
      },
      {
       "output_type": "stream",
       "stream": "stdout",
       "text": [
        "[ProfileCreate] Generating default config file: u'/Users/kyle/.ipython/profile_ocean/ipython_config.py'\r\n"
       ]
      },
      {
       "output_type": "stream",
       "stream": "stdout",
       "text": [
        "[ProfileCreate] Generating default config file: u'/Users/kyle/.ipython/profile_ocean/ipython_notebook_config.py'\r\n"
       ]
      },
      {
       "output_type": "stream",
       "stream": "stdout",
       "text": [
        "[ProfileCreate] Generating default config file: u'/Users/kyle/.ipython/profile_ocean/ipython_nbconvert_config.py'\r\n"
       ]
      },
      {
       "output_type": "stream",
       "stream": "stdout",
       "text": [
        "[ProfileCreate] Generating default config file: u'/Users/kyle/.ipython/profile_solarized/ipython_config.py'\r\n"
       ]
      },
      {
       "output_type": "stream",
       "stream": "stdout",
       "text": [
        "[ProfileCreate] Generating default config file: u'/Users/kyle/.ipython/profile_solarized/ipython_notebook_config.py'\r\n"
       ]
      },
      {
       "output_type": "stream",
       "stream": "stdout",
       "text": [
        "[ProfileCreate] Generating default config file: u'/Users/kyle/.ipython/profile_solarized/ipython_nbconvert_config.py'\r\n"
       ]
      },
      {
       "output_type": "stream",
       "stream": "stdout",
       "text": [
        "[ProfileCreate] Generating default config file: u'/Users/kyle/.ipython/profile_twilight/ipython_config.py'\r\n"
       ]
      },
      {
       "output_type": "stream",
       "stream": "stdout",
       "text": [
        "[ProfileCreate] Generating default config file: u'/Users/kyle/.ipython/profile_twilight/ipython_notebook_config.py'\r\n",
        "[ProfileCreate] Generating default config file: u'/Users/kyle/.ipython/profile_twilight/ipython_nbconvert_config.py'\r\n"
       ]
      },
      {
       "output_type": "stream",
       "stream": "stdout",
       "text": [
        "[ProfileCreate] Generating default config file: u'/Users/kyle/.ipython/profile_tomorrow/ipython_config.py'\r\n"
       ]
      },
      {
       "output_type": "stream",
       "stream": "stdout",
       "text": [
        "[ProfileCreate] Generating default config file: u'/Users/kyle/.ipython/profile_tomorrow/ipython_notebook_config.py'\r\n"
       ]
      },
      {
       "output_type": "stream",
       "stream": "stdout",
       "text": [
        "[ProfileCreate] Generating default config file: u'/Users/kyle/.ipython/profile_tomorrow/ipython_nbconvert_config.py'\r\n"
       ]
      }
     ],
     "prompt_number": 12
    },
    {
     "cell_type": "code",
     "collapsed": false,
     "input": [],
     "language": "python",
     "metadata": {},
     "outputs": [],
     "prompt_number": 10
    },
    {
     "cell_type": "code",
     "collapsed": false,
     "input": [],
     "language": "python",
     "metadata": {},
     "outputs": []
    }
   ],
   "metadata": {}
  }
 ]
}