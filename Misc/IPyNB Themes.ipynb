{
 "metadata": {
  "name": "",
  "signature": "sha256:eff3d837dd3bea847e7eb210cc15412a0540ca2655be671c394872c21abb0a85"
 },
 "nbformat": 3,
 "nbformat_minor": 0,
 "worksheets": [
  {
   "cells": [
    {
     "cell_type": "code",
     "collapsed": false,
     "input": [
      "import os\n",
      "import subprocess\n",
      "import urllib\n",
      "\n"
     ],
     "language": "python",
     "metadata": {},
     "outputs": [],
     "prompt_number": 2
    },
    {
     "cell_type": "code",
     "collapsed": false,
     "input": [
      "\n",
      "\n",
      "fav_dark=['flat', 'codeschool','monokai', 'brewer','ocean', 'twilight','tomorrow', 'railscasts']\n",
      "darknames=['flat', 'cs', 'kai', 'brewer', 'ocean', 'twlt', 'tmrw', 'rails']\n",
      "\n",
      "\n",
      "fav_light=['atelierheath', 'flat', 'codeschool', 'brewer', 'ocean', 'google']\n",
      "lightnames=['lite', 'lt_flat', 'lt_cs', 'lt_brewer', 'lt_ocean', 'lt_google']\n"
     ],
     "language": "python",
     "metadata": {},
     "outputs": [],
     "prompt_number": 8
    },
    {
     "cell_type": "code",
     "collapsed": true,
     "input": [
      "for ii, i in enumerate(fav_dark):\n",
      "    name=darknames[ii]\n",
      "    !ipython profile create $name\n",
      "    profile_dir = !ipython locate profile $name\n",
      "    url = \"https://raw.githubusercontent.com/nsonnad/base16-ipython-notebook/master/base16-\" + i + \"-dark.css\"\n",
      "    tgt = os.path.join(profile_dir[0], 'static', 'custom', \"custom.css\")\n",
      "    urllib.urlretrieve (url, tgt)\n",
      "\n",
      "for ii, i in enumerate(fav_light):\n",
      "    name=lightnames[ii]\n",
      "    !ipython profile create $name\n",
      "    profile_dir = !ipython locate profile $name\n",
      "    url = \"https://raw.githubusercontent.com/nsonnad/base16-ipython-notebook/master/base16-\" + i + \"-light.css\"\n",
      "    tgt = os.path.join(profile_dir[0], 'static', 'custom', \"custom.css\")\n",
      "    urllib.urlretrieve (url, tgt)"
     ],
     "language": "python",
     "metadata": {},
     "outputs": [
      {
       "output_type": "stream",
       "stream": "stdout",
       "text": [
        "[ProfileCreate] Generating default config file: u'/home/kyle/.ipython/profile_cs/ipython_config.py'\r\n",
        "[ProfileCreate] Generating default config file: u'/home/kyle/.ipython/profile_cs/ipython_qtconsole_config.py'\r\n",
        "[ProfileCreate] Generating default config file: u'/home/kyle/.ipython/profile_cs/ipython_notebook_config.py'\r\n",
        "[ProfileCreate] Generating default config file: u'/home/kyle/.ipython/profile_cs/ipython_nbconvert_config.py'\r\n"
       ]
      },
      {
       "output_type": "stream",
       "stream": "stdout",
       "text": [
        "[ProfileCreate] Generating default config file: u'/home/kyle/.ipython/profile_kai/ipython_config.py'\r\n"
       ]
      },
      {
       "output_type": "stream",
       "stream": "stdout",
       "text": [
        "[ProfileCreate] Generating default config file: u'/home/kyle/.ipython/profile_kai/ipython_qtconsole_config.py'\r\n",
        "[ProfileCreate] Generating default config file: u'/home/kyle/.ipython/profile_kai/ipython_notebook_config.py'\r\n",
        "[ProfileCreate] Generating default config file: u'/home/kyle/.ipython/profile_kai/ipython_nbconvert_config.py'\r\n"
       ]
      },
      {
       "output_type": "stream",
       "stream": "stdout",
       "text": [
        "[ProfileCreate] Generating default config file: u'/home/kyle/.ipython/profile_brewer/ipython_config.py'\r\n"
       ]
      },
      {
       "output_type": "stream",
       "stream": "stdout",
       "text": [
        "[ProfileCreate] Generating default config file: u'/home/kyle/.ipython/profile_brewer/ipython_qtconsole_config.py'\r\n",
        "[ProfileCreate] Generating default config file: u'/home/kyle/.ipython/profile_brewer/ipython_notebook_config.py'\r\n",
        "[ProfileCreate] Generating default config file: u'/home/kyle/.ipython/profile_brewer/ipython_nbconvert_config.py'\r\n"
       ]
      },
      {
       "output_type": "stream",
       "stream": "stdout",
       "text": [
        "[ProfileCreate] Generating default config file: u'/home/kyle/.ipython/profile_ocean/ipython_config.py'\r\n"
       ]
      },
      {
       "output_type": "stream",
       "stream": "stdout",
       "text": [
        "[ProfileCreate] Generating default config file: u'/home/kyle/.ipython/profile_ocean/ipython_qtconsole_config.py'\r\n",
        "[ProfileCreate] Generating default config file: u'/home/kyle/.ipython/profile_ocean/ipython_notebook_config.py'\r\n",
        "[ProfileCreate] Generating default config file: u'/home/kyle/.ipython/profile_ocean/ipython_nbconvert_config.py'\r\n"
       ]
      },
      {
       "output_type": "stream",
       "stream": "stdout",
       "text": [
        "[ProfileCreate] Generating default config file: u'/home/kyle/.ipython/profile_twlt/ipython_config.py'\r\n",
        "[ProfileCreate] Generating default config file: u'/home/kyle/.ipython/profile_twlt/ipython_qtconsole_config.py'\r\n"
       ]
      },
      {
       "output_type": "stream",
       "stream": "stdout",
       "text": [
        "[ProfileCreate] Generating default config file: u'/home/kyle/.ipython/profile_twlt/ipython_notebook_config.py'\r\n",
        "[ProfileCreate] Generating default config file: u'/home/kyle/.ipython/profile_twlt/ipython_nbconvert_config.py'\r\n"
       ]
      },
      {
       "output_type": "stream",
       "stream": "stdout",
       "text": [
        "[ProfileCreate] Generating default config file: u'/home/kyle/.ipython/profile_tmrw/ipython_config.py'\r\n",
        "[ProfileCreate] Generating default config file: u'/home/kyle/.ipython/profile_tmrw/ipython_qtconsole_config.py'\r\n",
        "[ProfileCreate] Generating default config file: u'/home/kyle/.ipython/profile_tmrw/ipython_notebook_config.py'\r\n"
       ]
      },
      {
       "output_type": "stream",
       "stream": "stdout",
       "text": [
        "[ProfileCreate] Generating default config file: u'/home/kyle/.ipython/profile_tmrw/ipython_nbconvert_config.py'\r\n"
       ]
      },
      {
       "output_type": "stream",
       "stream": "stdout",
       "text": [
        "[ProfileCreate] Generating default config file: u'/home/kyle/.ipython/profile_rails/ipython_config.py'\r\n",
        "[ProfileCreate] Generating default config file: u'/home/kyle/.ipython/profile_rails/ipython_qtconsole_config.py'\r\n",
        "[ProfileCreate] Generating default config file: u'/home/kyle/.ipython/profile_rails/ipython_notebook_config.py'\r\n"
       ]
      },
      {
       "output_type": "stream",
       "stream": "stdout",
       "text": [
        "[ProfileCreate] Generating default config file: u'/home/kyle/.ipython/profile_rails/ipython_nbconvert_config.py'\r\n"
       ]
      },
      {
       "output_type": "stream",
       "stream": "stdout",
       "text": [
        "[ProfileCreate] Generating default config file: u'/home/kyle/.ipython/profile_lite/ipython_config.py'\r\n",
        "[ProfileCreate] Generating default config file: u'/home/kyle/.ipython/profile_lite/ipython_qtconsole_config.py'\r\n",
        "[ProfileCreate] Generating default config file: u'/home/kyle/.ipython/profile_lite/ipython_notebook_config.py'\r\n"
       ]
      },
      {
       "output_type": "stream",
       "stream": "stdout",
       "text": [
        "[ProfileCreate] Generating default config file: u'/home/kyle/.ipython/profile_lite/ipython_nbconvert_config.py'\r\n"
       ]
      },
      {
       "output_type": "stream",
       "stream": "stdout",
       "text": [
        "[ProfileCreate] Generating default config file: u'/home/kyle/.ipython/profile_lt_flat/ipython_config.py'\r\n",
        "[ProfileCreate] Generating default config file: u'/home/kyle/.ipython/profile_lt_flat/ipython_qtconsole_config.py'\r\n",
        "[ProfileCreate] Generating default config file: u'/home/kyle/.ipython/profile_lt_flat/ipython_notebook_config.py'\r\n",
        "[ProfileCreate] Generating default config file: u'/home/kyle/.ipython/profile_lt_flat/ipython_nbconvert_config.py'\r\n"
       ]
      },
      {
       "output_type": "stream",
       "stream": "stdout",
       "text": [
        "[ProfileCreate] Generating default config file: u'/home/kyle/.ipython/profile_lt_cs/ipython_config.py'\r\n",
        "[ProfileCreate] Generating default config file: u'/home/kyle/.ipython/profile_lt_cs/ipython_qtconsole_config.py'\r\n",
        "[ProfileCreate] Generating default config file: u'/home/kyle/.ipython/profile_lt_cs/ipython_notebook_config.py'\r\n",
        "[ProfileCreate] Generating default config file: u'/home/kyle/.ipython/profile_lt_cs/ipython_nbconvert_config.py'\r\n"
       ]
      },
      {
       "output_type": "stream",
       "stream": "stdout",
       "text": [
        "[ProfileCreate] Generating default config file: u'/home/kyle/.ipython/profile_lt_brewer/ipython_config.py'\r\n"
       ]
      },
      {
       "output_type": "stream",
       "stream": "stdout",
       "text": [
        "[ProfileCreate] Generating default config file: u'/home/kyle/.ipython/profile_lt_brewer/ipython_qtconsole_config.py'\r\n",
        "[ProfileCreate] Generating default config file: u'/home/kyle/.ipython/profile_lt_brewer/ipython_notebook_config.py'\r\n",
        "[ProfileCreate] Generating default config file: u'/home/kyle/.ipython/profile_lt_brewer/ipython_nbconvert_config.py'\r\n"
       ]
      },
      {
       "output_type": "stream",
       "stream": "stdout",
       "text": [
        "[ProfileCreate] Generating default config file: u'/home/kyle/.ipython/profile_lt_ocean/ipython_config.py'\r\n"
       ]
      },
      {
       "output_type": "stream",
       "stream": "stdout",
       "text": [
        "[ProfileCreate] Generating default config file: u'/home/kyle/.ipython/profile_lt_ocean/ipython_qtconsole_config.py'\r\n",
        "[ProfileCreate] Generating default config file: u'/home/kyle/.ipython/profile_lt_ocean/ipython_notebook_config.py'\r\n",
        "[ProfileCreate] Generating default config file: u'/home/kyle/.ipython/profile_lt_ocean/ipython_nbconvert_config.py'\r\n"
       ]
      },
      {
       "output_type": "stream",
       "stream": "stdout",
       "text": [
        "[ProfileCreate] Generating default config file: u'/home/kyle/.ipython/profile_lt_google/ipython_config.py'\r\n"
       ]
      },
      {
       "output_type": "stream",
       "stream": "stdout",
       "text": [
        "[ProfileCreate] Generating default config file: u'/home/kyle/.ipython/profile_lt_google/ipython_qtconsole_config.py'\r\n",
        "[ProfileCreate] Generating default config file: u'/home/kyle/.ipython/profile_lt_google/ipython_notebook_config.py'\r\n",
        "[ProfileCreate] Generating default config file: u'/home/kyle/.ipython/profile_lt_google/ipython_nbconvert_config.py'\r\n"
       ]
      }
     ],
     "prompt_number": 9
    },
    {
     "cell_type": "code",
     "collapsed": false,
     "input": [
      "theme_names = ['3024-dark',\n",
      "               '3024-light',\n",
      "               'atelierdune-dark',\n",
      "               'atelierdune-light',\n",
      "               'atelierforest-dark',\n",
      "               'atelierforest-light',\n",
      "               'atelierheath-dark',\n",
      "               'atelierheath-light',\n",
      "               'atelierlakeside-dark',\n",
      "               'atelierlakeside-light',\n",
      "               'atelierseaside-dark',\n",
      "               'atelierseaside-light',\n",
      "               'bespin-dark',\n",
      "               'bespin-light',\n",
      "               'chalk-dark',\n",
      "               'chalk-light',\n",
      "               'default-dark',\n",
      "               'default-light',\n",
      "               'eighties-dark',\n",
      "               'eighties-light',\n",
      "               'grayscale-dark',\n",
      "               'grayscale-light',\n",
      "               'greenscreen-dark',\n",
      "               'greenscreen-light',\n",
      "               'isotope-dark',\n",
      "               'isotope-light',\n",
      "               'londontube-dark',\n",
      "               'londontube-light',\n",
      "               'marrakesh-dark',\n",
      "               'marrakesh-light',\n",
      "               'mocha-dark',\n",
      "               'mocha-light',\n",
      "               'monokai-dark',\n",
      "               'monokai-light',\n",
      "               'ocean-dark',\n",
      "               'ocean-light',\n",
      "               'paraiso-dark',\n",
      "               'paraiso-light',\n",
      "               'railscasts-dark',\n",
      "               'railscasts-light',\n",
      "               'shapeshifter-dark',\n",
      "               'shapeshifter-light',\n",
      "               'solarized-dark',\n",
      "               'solarized-light',\n",
      "               'tomorrow-dark',\n",
      "               'tomorrow-light',\n",
      "               'twilight-dark',\n",
      "               'twilight-light']"
     ],
     "language": "python",
     "metadata": {},
     "outputs": [],
     "prompt_number": 8
    },
    {
     "cell_type": "code",
     "collapsed": false,
     "input": [
      "tgt"
     ],
     "language": "python",
     "metadata": {},
     "outputs": [
      {
       "metadata": {},
       "output_type": "pyout",
       "prompt_number": 7,
       "text": [
        "'/home/kyle/.ipython/profile_[lite,/static/custom/custom.css'"
       ]
      }
     ],
     "prompt_number": 7
    },
    {
     "cell_type": "code",
     "collapsed": false,
     "input": [],
     "language": "python",
     "metadata": {},
     "outputs": []
    }
   ],
   "metadata": {}
  }
 ]
}