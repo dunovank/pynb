{
 "metadata": {
  "name": "",
  "signature": "sha256:46670da38080ad02cbd8f4dc41546f73fd18dfadbbff8a5002519528c0813114"
 },
 "nbformat": 3,
 "nbformat_minor": 0,
 "worksheets": [
  {
   "cells": [
    {
     "cell_type": "heading",
     "level": 2,
     "metadata": {},
     "source": [
      "Add these lines to <ipy profile dir>/static/custom/custom.js\n",
      "to automatically load these shortcuts for all notebooks"
     ]
    },
    {
     "cell_type": "code",
     "collapsed": false,
     "input": [
      "%%javascript\n",
      "\"use strict\";\n",
      "\n",
      "var add_edit_shortcuts = {\n",
      "        'Alt-c' : {\n",
      "            help    : 'Toggle comments',\n",
      "            help_index : 'eb',\n",
      "            handler : function (event) {\n",
      "                var cm=IPython.notebook.get_selected_cell().code_mirror\n",
      "                var from = cm.getCursor(\"start\"), to = cm.getCursor(\"end\");\n",
      "                cm.uncomment(from, to) || cm.lineComment(from, to);\n",
      "                return false;\n",
      "            }\n",
      "        },\n",
      "};\n",
      "\n",
      "var add_command_shortcuts = {\n",
      "        'Cmd-r' : {\n",
      "            help : 'run cell',\n",
      "            help_index : 'zz',\n",
      "            handler : function (event) {\n",
      "                IPython.notebook.execute_cell();\n",
      "                return false;\n",
      "            }\n",
      "        },\n",
      "        'Cmd-Enter' : {\n",
      "            help : 'run cell',\n",
      "            help_index : 'zz',\n",
      "            handler : function (event) {\n",
      "                IPython.notebook.execute_cell();\n",
      "                return false;\n",
      "            }\n",
      "        },    \n",
      "};\n",
      "\n",
      "IPython.keyboard_manager.edit_shortcuts.add_shortcuts(add_edit_shortcuts);\n",
      "IPython.keyboard_manager.command_shortcuts.add_shortcuts(add_command_shortcuts);\n",
      "\n"
     ],
     "language": "python",
     "metadata": {},
     "outputs": []
    }
   ],
   "metadata": {}
  }
 ]
}