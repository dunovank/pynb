{
 "cells": [
  {
   "cell_type": "code",
   "execution_count": null,
   "metadata": {
    "collapsed": false
   },
   "outputs": [],
   "source": [
    "#!/usr/local/bin/env python\n",
    "from __future__ import division\n",
    "import os\n",
    "import pandas as pd\n",
    "from sims import utils\n",
    "import numpy as np\n",
    "from lmfit import Parameters, Minimizer"
   ]
  },
  {
   "cell_type": "code",
   "execution_count": 2,
   "metadata": {
    "collapsed": false
   },
   "outputs": [],
   "source": [
    "def sim(theta, model='m1', ntrials=2000, timebound=0.560, tau=.0005, si=.01, **kwargs):\n",
    "\n",
    "    theta=fitfx.update_params(theta)\n",
    "    tr=theta['tt']; mu=theta['vv']; \n",
    "    z=theta['zz']; ssd=theta['ssd']; \n",
    "    ssv=-abs(theta['ssv']); a=theta['a'];\n",
    "\n",
    "    nSS=int(ntrials*(1-theta['pGo']))\n",
    "\n",
    "    dx=np.sqrt(si*tau)\n",
    "    Pg=0.5*(1 + mu*dx/si)\n",
    "    Ps=0.5*(1 + ssv*dx/si)\n",
    "\n",
    "    Tg=np.ceil((timebound-tr)/tau)\n",
    "    Ts=np.ceil((timebound-ssd)/tau)\n",
    "\n",
    "    trials=np.random.random_sample((ntrials, Tg))\n",
    "    DVg=z + np.cumsum(np.where(trials<Pg, dx, -dx), axis=1)\n",
    "\n",
    "    if tr<ssd:\n",
    "        IXs = Tg - Ts\n",
    "        init_ss = DVg[:nSS, IXs]\n",
    "        init_ss[init_ss>a] = np.nan\n",
    "    else:\n",
    "        init_ss = np.array([z]*nSS)\n",
    "\n",
    "    sstrials = np.random.random_sample((nSS, Ts))\n",
    "    DVs = init_ss[:, None] + np.cumsum(np.where(sstrials<Ps, dx, -dx), axis=1)\n",
    "\n",
    "    return DVg, DVs"
   ]
  },
  {
   "cell_type": "code",
   "execution_count": null,
   "metadata": {
    "collapsed": false
   },
   "outputs": [],
   "source": [
    "for model in model_list:\n",
    "\n",
    "    if not hasattr(model, 'columns'):\n",
    "        mstats=model.gen_stats()\n",
    "        mstats['param']=mstats.index\n",
    "    else:\n",
    "        mstats=model\n",
    "\n",
    "    slist=[int(i.split('.')[-1]) for i in mstats]\n",
    "\n",
    "    mstats['idx']=slist\n",
    "    serr=mstats.theta.sem()\n",
    "    mstats['mu']=mstats['theta'].values/serr"
   ]
  }
 ],
 "metadata": {
  "kernelspec": {
   "display_name": "Python 2",
   "language": "python",
   "name": "python2"
  },
  "language_info": {
   "codemirror_mode": {
    "name": "ipython",
    "version": 2
   },
   "file_extension": ".py",
   "mimetype": "text/x-python",
   "name": "python",
   "nbconvert_exporter": "python",
   "pygments_lexer": "ipython2",
   "version": "2.7.11"
  }
 },
 "nbformat": 4,
 "nbformat_minor": 0
}
