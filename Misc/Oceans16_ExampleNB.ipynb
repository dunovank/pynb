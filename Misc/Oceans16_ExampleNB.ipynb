{
 "cells": [
  {
   "cell_type": "code",
   "execution_count": null,
   "metadata": {
    "collapsed": false
   },
   "outputs": [],
   "source": [
    "#!/usr/local/bin/env python\n",
    "from __future__ import division\n",
    "import os\n",
    "import pandas as pd\n",
    "from sims import utils\n",
    "import numpy as np\n",
    "from lmfit import Parameters, Minimizer"
   ]
  },
  {
   "cell_type": "code",
   "execution_count": 2,
   "metadata": {
    "collapsed": false
   },
   "outputs": [],
   "source": [
    "def sim(theta, model='m1', ntrials=2000, timebound=0.560, tau=.0005, si=.01, **kwargs):\n",
    "\n",
    "      theta=fitfx.update_params(theta)\n",
    "      tr=theta['tt']; mu=theta['vv']; \n",
    "      z=theta['zz']; ssd=theta['ssd']; \n",
    "      ssv=-abs(theta['ssv']); a=theta['a'];\n",
    "\n",
    "      nSS=int(ntrials*(1-theta['pGo']))\n",
    "\n",
    "      dx=np.sqrt(si*tau)\n",
    "      Pg=0.5*(1 + mu*dx/si)\n",
    "      Ps=0.5*(1 + ssv*dx/si)\n",
    "\n",
    "      Tg=np.ceil((timebound-tr)/tau)\n",
    "      Ts=np.ceil((timebound-ssd)/tau)\n",
    "\n",
    "      trials=np.random.random_sample((ntrials, Tg))\n",
    "      DVg=z + np.cumsum(np.where(trials<Pg, dx, -dx), axis=1)\n",
    "\n",
    "      if tr<ssd:\n",
    "            IXs = Tg - Ts\n",
    "            init_ss = DVg[:nSS, IXs]\n",
    "            init_ss[init_ss>a] = np.nan\n",
    "      else:\n",
    "            init_ss = np.array([z]*nSS)\n",
    "\n",
    "      sstrials = np.random.random_sample((nSS, Ts))\n",
    "      DVs = init_ss[:, None] + np.cumsum(np.where(sstrials<Ps, dx, -dx), axis=1)\n",
    "\n",
    "      return DVg, DVs"
   ]
  },
  {
   "cell_type": "code",
   "execution_count": null,
   "metadata": {
    "collapsed": false
   },
   "outputs": [],
   "source": [
    "def radd_fitfx(theta, model='radd', timebound=.560, ttype='go', tau=.0005, si=.01, **kwargs):\n",
    "\n",
    "      if ttype=='stop':\n",
    "            sstrial=1\n",
    "      else: \n",
    "            sstrial=0\n",
    "\n",
    "      theta = update_params(theta)\n",
    "      mlist = ['ipb', 'radd']\n",
    "      if tr > ssd and sstrial: \n",
    "            t = ssd                     # start the time at ssd\n",
    "      else: \n",
    "            t = tr                      # start the time at tr\n",
    "\n",
    "      if model == 'ipa':\n",
    "            a=a-z; z = 0\n",
    "            ssxr = lambda x: x >= a\n",
    "\n",
    "      elif model in mlist:\n",
    "            ssxr = lambda x: x <= 0 \n",
    "\n",
    "      ss_started = False\n",
    "      no_choice_yet = True\n",
    "      dx = np.sqrt(si*tau)            # step size\n",
    "      e = z                           # starting point\n",
    "\n",
    "      p = 0.5 * (1 + mu * dx / si)\n",
    "      p_ss = 0.5 * (1 + ssv * dx / si)\n",
    "\n",
    "      while no_choice_yet: \n",
    "            t += tau\n",
    "      if t>=timebound and no_choice_yet:\n",
    "            choice='stop'\n",
    "            rt=timebound\n",
    "            no_choice_yet=False\n",
    "      if t>=tr:\n",
    "            r=np.random.random_sample()\n",
    "            if r < p:\n",
    "                  e = e + dx\n",
    "            else:\n",
    "                  e = e - dx\n",
    "            if e>=a and no_choice_yet:\n",
    "                  choice='go'\n",
    "                  response=1\n",
    "                  rt=t\n",
    "                  no_choice_yet=False\n",
    "\n",
    "      if sstrial and t>=ssd:\n",
    "            r_ss=np.random.random_sample()\n",
    "            if not ss_started and model=='radd':\n",
    "                  ss_started=True\n",
    "                  e_ss=e\n",
    "            else:\n",
    "                  if r_ss < p_ss:\n",
    "                          e_ss = e_ss + dx\n",
    "                  else:\n",
    "                        e_ss = e_ss - dx\n",
    "\n",
    "            if ssdecision(e_ss) and no_choice_yet:\n",
    "                  choice='stop'\n",
    "                  rt=t\n",
    "                  no_choice_yet=False\n",
    "                  response=0\n",
    "      if choice==ttype: \n",
    "        acc=1.00\n",
    "      else: \n",
    "        acc=0.00\n",
    "\n",
    "      return {'rt':rt, 'choice':choice, 'trial_type':ttype,\n",
    "        'acc':acc, 'ssd':ssd, 'pGo':theta['pGo'], 'response':response}"
   ]
  },
  {
   "cell_type": "code",
   "execution_count": null,
   "metadata": {
    "collapsed": false
   },
   "outputs": [],
   "source": [
    "for model in model_list:\n",
    "      \n",
    "      if not hasattr(model, 'columns'):\n",
    "            mstats=model.gen_stats()\n",
    "            mstats['param']=mstats.index\n",
    "      else:\n",
    "            mstats=model\n",
    "      \n",
    "      slist=[int(i.split('.')[-1]) for i in mstats]\n",
    "\n",
    "      mstats['idx']=slist\n",
    "      serr=mstats.theta.sem()\n",
    "\n",
    "mstats['mu']=mstats['theta'].values/serr"
   ]
  }
 ],
 "metadata": {
  "kernelspec": {
   "display_name": "Python 2",
   "language": "python",
   "name": "python2"
  },
  "language_info": {
   "codemirror_mode": {
    "name": "ipython",
    "version": 2
   },
   "file_extension": ".py",
   "mimetype": "text/x-python",
   "name": "python",
   "nbconvert_exporter": "python",
   "pygments_lexer": "ipython2",
   "version": "2.7.10"
  }
 },
 "nbformat": 4,
 "nbformat_minor": 0
}
