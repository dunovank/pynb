{
 "metadata": {
  "name": "",
  "signature": "sha256:87dedae87dac50220030487f3e0beb140c1c22950c30acbf8f0efe1b406d05e2"
 },
 "nbformat": 3,
 "nbformat_minor": 0,
 "worksheets": [
  {
   "cells": [
    {
     "cell_type": "heading",
     "level": 1,
     "metadata": {},
     "source": [
      "Example of setting up parallel model fits"
     ]
    },
    {
     "cell_type": "code",
     "collapsed": false,
     "input": [
      "def run_model(id):\n",
      "    import hddm\n",
      "    data = hddm.load_csv('mydata.csv')\n",
      "    m = hddm.HDDM(data)\n",
      "    m.find_starting_values()\n",
      "    m.sample(5000, burn=20, dbname='db%i'%id, db='pickle')\n",
      "    return m"
     ],
     "language": "python",
     "metadata": {},
     "outputs": []
    },
    {
     "cell_type": "code",
     "collapsed": false,
     "input": [
      "from IPython.parallel import Client\n",
      "\n",
      "# initialize IPython clusters \n",
      "# (ipynb home --> clusters)\n",
      "clients = Client()\n",
      "clients.block = True  # use synchronous computations\n",
      "\n",
      "allproc = clients.load_balanced_view()\n",
      "\n",
      "all_proc_stats = allproc.map(run_model, np.arange(len(clients)))\n",
      "allresults=pd.concat(all_proc_stats)\n",
      "allresults.to_csv(savepath+\"ipa_all_fits.csv\")"
     ],
     "language": "python",
     "metadata": {},
     "outputs": []
    }
   ],
   "metadata": {}
  }
 ]
}