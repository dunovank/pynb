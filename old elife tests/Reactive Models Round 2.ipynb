{
 "cells": [
  {
   "cell_type": "code",
   "execution_count": 1,
   "metadata": {
    "collapsed": false
   },
   "outputs": [],
   "source": [
    "from radd import pipeline"
   ]
  },
  {
   "cell_type": "code",
   "execution_count": 2,
   "metadata": {
    "collapsed": false,
    "scrolled": false
   },
   "outputs": [],
   "source": [
    "kinds='xradd'\n",
    "depends_keys=['v', 'tr', ['v', 'tr'], 'a', ['a', 'tr']]\n",
    "dynamics=['exp', 'hyp']\n",
    "\n",
    "condition='Cond'\n",
    "data=redf_store.redata"
   ]
  },
  {
   "cell_type": "code",
   "execution_count": null,
   "metadata": {
    "collapsed": false,
    "scrolled": false
   },
   "outputs": [],
   "source": [
    "mlist = pipeline.run_pipeline(data=data, kinds=kinds, depends_keys=depends_keys, dynamics=dynamics, condition=condition, ntrials=10000, tol=1.e-20, maxfev=1000)"
   ]
  }
 ],
 "metadata": {
  "kernelspec": {
   "display_name": "Python 2",
   "language": "python",
   "name": "python2"
  },
  "language_info": {
   "codemirror_mode": {
    "name": "ipython",
    "version": 2
   },
   "file_extension": ".py",
   "mimetype": "text/x-python",
   "name": "python",
   "nbconvert_exporter": "python",
   "pygments_lexer": "ipython2",
   "version": "2.7.10"
  }
 },
 "nbformat": 4,
 "nbformat_minor": 0
}
