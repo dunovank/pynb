{
 "cells": [
  {
   "cell_type": "code",
   "execution_count": 9,
   "metadata": {
    "collapsed": false
   },
   "outputs": [],
   "source": [
    "from scipy.stats.mstats_extras import mjci\n",
    "from scipy.stats.mstats import mquantiles as mq\n",
    "from radd.toolbox import analyze\n",
    "from scipy.stats.mstats_extras import mjci\n",
    "from radd import build"
   ]
  },
  {
   "cell_type": "code",
   "execution_count": 159,
   "metadata": {
    "collapsed": true
   },
   "outputs": [],
   "source": [
    "build=reload(build)\n",
    "analyze=reload(analyze)"
   ]
  },
  {
   "cell_type": "code",
   "execution_count": 42,
   "metadata": {
    "collapsed": false
   },
   "outputs": [],
   "source": [
    "m=build.Model(data=prodf_store.prodata, kind='pro', tb=.56)\n",
    "df=m.data\n",
    "prob=array([.1,.3,.5,.7,.9]); \n",
    "tb=m.tb\n",
    "as_ratio=True\n",
    "split='HL'"
   ]
  },
  {
   "cell_type": "code",
   "execution_count": 57,
   "metadata": {
    "collapsed": false
   },
   "outputs": [],
   "source": [
    "nquant = len(prob)\n",
    "ncond = len(df[split].unique())\n",
    "xdf=df.copy()\n",
    "\n",
    "# insert timeboundary\n",
    "df['response']=np.where(xdf.rt<tb, 1, 0)\n",
    "mjcix = lambda x: mjci(x.rt, prob=prob)\n",
    "\n",
    "godf = xdf[(xdf.response==1)&(xdf.rt<tb)]\n",
    "q_sem_obj = godf.groupby(['idx', 'HL']).apply(mjcix).values\n",
    "#q_sem_obj = godf.groupby(['HL']).apply(mjcix).values"
   ]
  },
  {
   "cell_type": "code",
   "execution_count": 75,
   "metadata": {
    "collapsed": false
   },
   "outputs": [
    {
     "data": {
      "text/plain": [
       "<seaborn.axisgrid.FacetGrid at 0x7f0814184ed0>"
      ]
     },
     "execution_count": 75,
     "metadata": {},
     "output_type": "execute_result"
    },
    {
     "data": {
      "image/png": "[encoded data removed]",
      "text/plain": [
       "<matplotlib.figure.Figure at 0x7f0803b09490>"
      ]
     },
     "metadata": {},
     "output_type": "display_data"
    }
   ],
   "source": [
    "g = sns.FacetGrid(m.data, col='HL')\n",
    "g.map(sns.kdeplot, 'rt', cumulative=True)"
   ]
  },
  {
   "cell_type": "code",
   "execution_count": 56,
   "metadata": {
    "collapsed": false
   },
   "outputs": [
    {
     "data": {
      "text/plain": [
       "array([ 1.     ,  1.90511,  1.15259,  0.57196,  0.06147])"
      ]
     },
     "execution_count": 56,
     "metadata": {},
     "output_type": "execute_result"
    }
   ],
   "source": [
    "np.median(q_sem_obj[1])/q_sem_obj[1]"
   ]
  },
  {
   "cell_type": "code",
   "execution_count": 58,
   "metadata": {
    "collapsed": false
   },
   "outputs": [],
   "source": [
    "qwts = np.median(np.vstack(q_sem_obj.reshape(2,61).mean(axis=1)), axis=1)[:, None]/np.vstack(q_sem_obj.reshape(2,61).mean(axis=1))"
   ]
  },
  {
   "cell_type": "code",
   "execution_count": 377,
   "metadata": {
    "collapsed": false
   },
   "outputs": [],
   "source": [
    "m=build.Model(data=redata, kind='xradd')"
   ]
  },
  {
   "cell_type": "code",
   "execution_count": 380,
   "metadata": {
    "collapsed": false
   },
   "outputs": [
    {
     "data": {
      "text/plain": [
       "array([ 1.     ,  1.     ,  1.     ,  1.     ,  1.     ,  1.     ,\n",
       "        0.6228 ,  1.0511 ,  1.28131,  1.17251,  0.89493,  0.23484,\n",
       "        0.33851,  0.35909,  0.32923,  0.29119,  1.     ,  1.     ,\n",
       "        1.     ,  1.     ,  1.     ,  1.     ,  0.63534,  0.91118,\n",
       "        1.01531,  1.2369 ,  1.07818,  0.18009,  0.29296,  0.31591,\n",
       "        0.31736,  0.27399])"
      ]
     },
     "execution_count": 380,
     "metadata": {},
     "output_type": "execute_result"
    }
   ],
   "source": [
    "m.avg_wts"
   ]
  },
  {
   "cell_type": "code",
   "execution_count": 286,
   "metadata": {
    "collapsed": false
   },
   "outputs": [],
   "source": [
    "prob=array([.1,.3,.5,.7,.9]); \n",
    "ncond=2\n",
    "nquant=len(prob)\n",
    "as_ratio=True\n",
    "df = redata"
   ]
  },
  {
   "cell_type": "code",
   "execution_count": 296,
   "metadata": {
    "collapsed": false
   },
   "outputs": [
    {
     "data": {
      "text/plain": [
       "array([[[ 0.59502,  1.00423,  1.22416,  1.12021,  0.85501],\n",
       "        [ 0.69615,  1.00347,  1.06448,  0.97595,  0.8632 ]],\n",
       "\n",
       "       [[ 0.61667,  0.88441,  0.98548,  1.20055,  1.0465 ],\n",
       "        [ 0.61371,  0.99837,  1.07656,  1.08151,  0.93372]]])"
      ]
     },
     "execution_count": 296,
     "metadata": {},
     "output_type": "execute_result"
    }
   ],
   "source": [
    ".9*analyze.reactive_mj_quanterr(df)"
   ]
  },
  {
   "cell_type": "code",
   "execution_count": 237,
   "metadata": {
    "collapsed": false
   },
   "outputs": [
    {
     "data": {
      "text/plain": [
       "array([[ 0.81613,  1.24069,  1.33945,  1.19748,  1.03362],\n",
       "       [ 0.55717,  1.09256,  1.15654,  1.20727,  0.98372]])"
      ]
     },
     "execution_count": 237,
     "metadata": {},
     "output_type": "execute_result"
    }
   ],
   "source": [
    "qe = qerr.reshape(2,61,5).mean(axis=1)\n",
    "np.mean(qe)/qe"
   ]
  },
  {
   "cell_type": "code",
   "execution_count": 287,
   "metadata": {
    "collapsed": false
   },
   "outputs": [],
   "source": [
    "mjcix = lambda x: mjci(x.rt, prob=prob)\n",
    "ica_err = np.vstack(df.query('response==1').groupby(['idx', 'Cond', 'acc']).apply(mjcix).values)\n",
    "#qe = qerr.reshape(ncond,int(len(qerr/2)),len(prob)).mean(axis=1)\n",
    "#np.mean(qe)/qe"
   ]
  },
  {
   "cell_type": "code",
   "execution_count": 280,
   "metadata": {
    "collapsed": false
   },
   "outputs": [
    {
     "data": {
      "text/plain": [
       "array([[[ 0.01879,  0.01114,  0.00914,  0.00998,  0.01308],\n",
       "        [ 0.00843,  0.00585,  0.00551,  0.00601,  0.0068 ]],\n",
       "\n",
       "       [[ 0.02159,  0.01505,  0.01351,  0.01109,  0.01272],\n",
       "        [ 0.01054,  0.00648,  0.00601,  0.00598,  0.00693]]])"
      ]
     },
     "execution_count": 280,
     "metadata": {},
     "output_type": "execute_result"
    }
   ],
   "source": [
    "c_a_q"
   ]
  },
  {
   "cell_type": "code",
   "execution_count": 292,
   "metadata": {
    "collapsed": false
   },
   "outputs": [
    {
     "data": {
      "text/plain": [
       "61"
      ]
     },
     "execution_count": 292,
     "metadata": {},
     "output_type": "execute_result"
    }
   ],
   "source": [
    "int(len(ica_err)/ncond/2)"
   ]
  },
  {
   "cell_type": "code",
   "execution_count": 293,
   "metadata": {
    "collapsed": false
   },
   "outputs": [],
   "source": [
    "# divide by 2 again because grouped by accuracy\n",
    "qx = ica_err.reshape(ncond,int(len(ica_err)/ncond/2),nquant,ncond)\n",
    "c_a_q = np.nanmean(qx, axis=1).reshape(ncond,2,nquant)\n",
    "# axes: cond, acc, quants \n",
    "# get mean err across first two axes and divide by vals\n",
    "qwts = np.mean(c_a_q, axis=2)[:,:,None]/c_a_q"
   ]
  },
  {
   "cell_type": "code",
   "execution_count": 294,
   "metadata": {
    "collapsed": false
   },
   "outputs": [
    {
     "data": {
      "text/plain": [
       "array([[[ 0.66113,  1.11581,  1.36018,  1.24468,  0.95001],\n",
       "        [ 0.7735 ,  1.11497,  1.18275,  1.08439,  0.95911]],\n",
       "\n",
       "       [[ 0.68519,  0.98268,  1.09498,  1.33395,  1.16278],\n",
       "        [ 0.6819 ,  1.1093 ,  1.19618,  1.20168,  1.03747]]])"
      ]
     },
     "execution_count": 294,
     "metadata": {},
     "output_type": "execute_result"
    }
   ],
   "source": [
    "qwts"
   ]
  },
  {
   "cell_type": "code",
   "execution_count": 297,
   "metadata": {
    "collapsed": false,
    "scrolled": false
   },
   "outputs": [],
   "source": [
    "go = m.data.groupby(['ttype', 'Cond']).mean()['response']\n",
    "#st = m.data.query('ttype==\"stop\"').groupby('Cond').mean()['response']"
   ]
  },
  {
   "cell_type": "code",
   "execution_count": 306,
   "metadata": {
    "collapsed": false
   },
   "outputs": [
    {
     "data": {
      "text/plain": [
       "array([[[ 0.66113,  1.11581,  1.36018,  1.24468,  0.95001],\n",
       "        [ 0.7735 ,  1.11497,  1.18275,  1.08439,  0.95911]],\n",
       "\n",
       "       [[ 0.68519,  0.98268,  1.09498,  1.33395,  1.16278],\n",
       "        [ 0.6819 ,  1.1093 ,  1.19618,  1.20168,  1.03747]]])"
      ]
     },
     "execution_count": 306,
     "metadata": {},
     "output_type": "execute_result"
    }
   ],
   "source": [
    "qwts"
   ]
  },
  {
   "cell_type": "code",
   "execution_count": 317,
   "metadata": {
    "collapsed": false
   },
   "outputs": [
    {
     "data": {
      "text/plain": [
       "array([[ 0.66113,  1.11581,  1.36018,  1.24468,  0.95001],\n",
       "       [ 0.7735 ,  1.11497,  1.18275,  1.08439,  0.95911],\n",
       "       [ 0.68519,  0.98268,  1.09498,  1.33395,  1.16278],\n",
       "       [ 0.6819 ,  1.1093 ,  1.19618,  1.20168,  1.03747]])"
      ]
     },
     "execution_count": 317,
     "metadata": {},
     "output_type": "execute_result"
    }
   ],
   "source": [
    "qwts.reshape(4,5)"
   ]
  },
  {
   "cell_type": "code",
   "execution_count": 361,
   "metadata": {
    "collapsed": false
   },
   "outputs": [],
   "source": [
    "wtd_qwts = (np.vstack(go.unstack().unstack().values)*qwts.reshape(4,5)).reshape(2,10)#.reshape(2,2,5)"
   ]
  },
  {
   "cell_type": "code",
   "execution_count": 374,
   "metadata": {
    "collapsed": false
   },
   "outputs": [
    {
     "data": {
      "text/plain": [
       "array([ 1.     ,  1.     ,  1.     ,  1.     ,  1.     ,  1.     ,\n",
       "        0.6228 ,  1.0511 ,  1.28131,  1.17251,  0.89493,  0.23484,\n",
       "        0.33851,  0.35909,  0.32923,  0.29119,  1.     ,  1.     ,\n",
       "        1.     ,  1.     ,  1.     ,  1.     ,  0.63534,  0.91118,\n",
       "        1.01531,  1.2369 ,  1.07818,  0.18009,  0.29296,  0.31591,\n",
       "        0.31736,  0.27399])"
      ]
     },
     "execution_count": 374,
     "metadata": {},
     "output_type": "execute_result"
    }
   ],
   "source": [
    "np.array([np.append(pwts, qw) for qw in wtd_qwts]).flatten()\n"
   ]
  },
  {
   "cell_type": "code",
   "execution_count": 320,
   "metadata": {
    "collapsed": true
   },
   "outputs": [],
   "source": [
    "#bslwt, pnlwt = wt_qwts[0],  wt_qwts[1]"
   ]
  },
  {
   "cell_type": "code",
   "execution_count": 322,
   "metadata": {
    "collapsed": false
   },
   "outputs": [
    {
     "data": {
      "text/plain": [
       "array([[ 0.20803,  0.29835,  0.33244,  0.405  ,  0.35303],\n",
       "       [ 0.18009,  0.29296,  0.31591,  0.31736,  0.27399]])"
      ]
     },
     "execution_count": 322,
     "metadata": {},
     "output_type": "execute_result"
    }
   ],
   "source": [
    "pnlwt"
   ]
  },
  {
   "cell_type": "code",
   "execution_count": 120,
   "metadata": {
    "collapsed": false
   },
   "outputs": [],
   "source": [
    "ovals = m.observed.groupby('Cond').sem().loc[:, 'Go':]"
   ]
  },
  {
   "cell_type": "code",
   "execution_count": 133,
   "metadata": {
    "collapsed": false
   },
   "outputs": [
    {
     "data": {
      "text/html": [
       "<div>\n",
       "<table border=\"1\" class=\"dataframe\">\n",
       "  <thead>\n",
       "    <tr style=\"text-align: right;\">\n",
       "      <th></th>\n",
       "      <th>c10</th>\n",
       "      <th>c30</th>\n",
       "      <th>c50</th>\n",
       "      <th>c70</th>\n",
       "      <th>c90</th>\n",
       "      <th>e10</th>\n",
       "      <th>e30</th>\n",
       "      <th>e50</th>\n",
       "      <th>e70</th>\n",
       "      <th>e90</th>\n",
       "    </tr>\n",
       "    <tr>\n",
       "      <th>Cond</th>\n",
       "      <th></th>\n",
       "      <th></th>\n",
       "      <th></th>\n",
       "      <th></th>\n",
       "      <th></th>\n",
       "      <th></th>\n",
       "      <th></th>\n",
       "      <th></th>\n",
       "      <th></th>\n",
       "      <th></th>\n",
       "    </tr>\n",
       "  </thead>\n",
       "  <tbody>\n",
       "    <tr>\n",
       "      <th>bsl</th>\n",
       "      <td>0.9285</td>\n",
       "      <td>0.9307</td>\n",
       "      <td>0.9054</td>\n",
       "      <td>0.9253</td>\n",
       "      <td>0.8925</td>\n",
       "      <td>1.0956</td>\n",
       "      <td>1.0217</td>\n",
       "      <td>0.9604</td>\n",
       "      <td>0.9259</td>\n",
       "      <td>0.8734</td>\n",
       "    </tr>\n",
       "    <tr>\n",
       "      <th>pnl</th>\n",
       "      <td>1.0835</td>\n",
       "      <td>1.0804</td>\n",
       "      <td>1.1167</td>\n",
       "      <td>1.0878</td>\n",
       "      <td>1.1370</td>\n",
       "      <td>0.9197</td>\n",
       "      <td>0.9792</td>\n",
       "      <td>1.0431</td>\n",
       "      <td>1.0870</td>\n",
       "      <td>1.1694</td>\n",
       "    </tr>\n",
       "  </tbody>\n",
       "</table>\n",
       "</div>"
      ],
      "text/plain": [
       "         c10     c30     c50     c70     c90     e10     e30     e50     e70  \\\n",
       "Cond                                                                           \n",
       "bsl   0.9285  0.9307  0.9054  0.9253  0.8925  1.0956  1.0217  0.9604  0.9259   \n",
       "pnl   1.0835  1.0804  1.1167  1.0878  1.1370  0.9197  0.9792  1.0431  1.0870   \n",
       "\n",
       "         e90  \n",
       "Cond          \n",
       "bsl   0.8734  \n",
       "pnl   1.1694  "
      ]
     },
     "execution_count": 133,
     "metadata": {},
     "output_type": "execute_result"
    }
   ],
   "source": [
    "np.mean(ovals.iloc[:, 6:])/ovals.iloc[:,6:]"
   ]
  },
  {
   "cell_type": "code",
   "execution_count": 119,
   "metadata": {
    "collapsed": false
   },
   "outputs": [
    {
     "data": {
      "text/html": [
       "<div>\n",
       "<table border=\"1\" class=\"dataframe\">\n",
       "  <thead>\n",
       "    <tr style=\"text-align: right;\">\n",
       "      <th></th>\n",
       "      <th>c10</th>\n",
       "      <th>c30</th>\n",
       "      <th>c50</th>\n",
       "      <th>c70</th>\n",
       "      <th>c90</th>\n",
       "    </tr>\n",
       "    <tr>\n",
       "      <th>Cond</th>\n",
       "      <th></th>\n",
       "      <th></th>\n",
       "      <th></th>\n",
       "      <th></th>\n",
       "      <th></th>\n",
       "    </tr>\n",
       "  </thead>\n",
       "  <tbody>\n",
       "    <tr>\n",
       "      <th>bsl</th>\n",
       "      <td>1.1138</td>\n",
       "      <td>1.1032</td>\n",
       "      <td>1</td>\n",
       "      <td>0.9747</td>\n",
       "      <td>0.9362</td>\n",
       "    </tr>\n",
       "    <tr>\n",
       "      <th>pnl</th>\n",
       "      <td>1.0537</td>\n",
       "      <td>1.0383</td>\n",
       "      <td>1</td>\n",
       "      <td>0.9289</td>\n",
       "      <td>0.9670</td>\n",
       "    </tr>\n",
       "  </tbody>\n",
       "</table>\n",
       "</div>"
      ],
      "text/plain": [
       "         c10     c30  c50     c70     c90\n",
       "Cond                                     \n",
       "bsl   1.1138  1.1032    1  0.9747  0.9362\n",
       "pnl   1.0537  1.0383    1  0.9289  0.9670"
      ]
     },
     "execution_count": 119,
     "metadata": {},
     "output_type": "execute_result"
    }
   ],
   "source": [
    "np.median(ovals.iloc[:,6:11], axis=1)[:,None]/ovals.iloc[:,6:11]\n"
   ]
  },
  {
   "cell_type": "code",
   "execution_count": 104,
   "metadata": {
    "collapsed": false
   },
   "outputs": [
    {
     "ename": "TypeError",
     "evalue": "unhashable type",
     "output_type": "error",
     "traceback": [
      "\u001b[1;31m---------------------------------------------------------------------------\u001b[0m",
      "\u001b[1;31mTypeError\u001b[0m                                 Traceback (most recent call last)",
      "\u001b[1;32m<ipython-input-104-dae1f767265a>\u001b[0m in \u001b[0;36m<module>\u001b[1;34m()\u001b[0m\n\u001b[0;32m      1\u001b[0m \u001b[1;33m\u001b[0m\u001b[0m\n\u001b[0;32m      2\u001b[0m \u001b[0movals\u001b[0m \u001b[1;33m=\u001b[0m \u001b[0mm\u001b[0m\u001b[1;33m.\u001b[0m\u001b[0mobserved\u001b[0m\u001b[1;33m.\u001b[0m\u001b[0mgroupby\u001b[0m\u001b[1;33m(\u001b[0m\u001b[1;34m'Cond'\u001b[0m\u001b[1;33m)\u001b[0m\u001b[1;33m.\u001b[0m\u001b[0mstd\u001b[0m\u001b[1;33m(\u001b[0m\u001b[1;33m)\u001b[0m\u001b[1;33m.\u001b[0m\u001b[0mloc\u001b[0m\u001b[1;33m[\u001b[0m\u001b[1;33m:\u001b[0m\u001b[1;33m,\u001b[0m \u001b[1;34m'Go'\u001b[0m\u001b[1;33m:\u001b[0m\u001b[1;33m]\u001b[0m\u001b[1;31m#/m.observed.std()[:6]\u001b[0m\u001b[1;33m\u001b[0m\u001b[0m\n\u001b[1;32m----> 3\u001b[1;33m \u001b[0mnp\u001b[0m\u001b[1;33m.\u001b[0m\u001b[0mmedian\u001b[0m\u001b[1;33m(\u001b[0m\u001b[0movals\u001b[0m\u001b[1;33m[\u001b[0m\u001b[1;33m:\u001b[0m\u001b[1;33m,\u001b[0m\u001b[1;33m:\u001b[0m\u001b[1;36m400\u001b[0m\u001b[1;33m]\u001b[0m\u001b[1;33m,\u001b[0m \u001b[0maxis\u001b[0m\u001b[1;33m=\u001b[0m\u001b[1;36m1\u001b[0m\u001b[1;33m)\u001b[0m\u001b[1;33m[\u001b[0m\u001b[1;33m:\u001b[0m\u001b[1;33m,\u001b[0m \u001b[0mNone\u001b[0m\u001b[1;33m]\u001b[0m\u001b[1;33m/\u001b[0m\u001b[0movals\u001b[0m\u001b[1;33m\u001b[0m\u001b[0m\n\u001b[0m",
      "\u001b[1;32m/home/kyle/anaconda/lib/python2.7/site-packages/pandas/core/frame.pyc\u001b[0m in \u001b[0;36m__getitem__\u001b[1;34m(self, key)\u001b[0m\n\u001b[0;32m   1795\u001b[0m             \u001b[1;32mreturn\u001b[0m \u001b[0mself\u001b[0m\u001b[1;33m.\u001b[0m\u001b[0m_getitem_multilevel\u001b[0m\u001b[1;33m(\u001b[0m\u001b[0mkey\u001b[0m\u001b[1;33m)\u001b[0m\u001b[1;33m\u001b[0m\u001b[0m\n\u001b[0;32m   1796\u001b[0m         \u001b[1;32melse\u001b[0m\u001b[1;33m:\u001b[0m\u001b[1;33m\u001b[0m\u001b[0m\n\u001b[1;32m-> 1797\u001b[1;33m             \u001b[1;32mreturn\u001b[0m \u001b[0mself\u001b[0m\u001b[1;33m.\u001b[0m\u001b[0m_getitem_column\u001b[0m\u001b[1;33m(\u001b[0m\u001b[0mkey\u001b[0m\u001b[1;33m)\u001b[0m\u001b[1;33m\u001b[0m\u001b[0m\n\u001b[0m\u001b[0;32m   1798\u001b[0m \u001b[1;33m\u001b[0m\u001b[0m\n\u001b[0;32m   1799\u001b[0m     \u001b[1;32mdef\u001b[0m \u001b[0m_getitem_column\u001b[0m\u001b[1;33m(\u001b[0m\u001b[0mself\u001b[0m\u001b[1;33m,\u001b[0m \u001b[0mkey\u001b[0m\u001b[1;33m)\u001b[0m\u001b[1;33m:\u001b[0m\u001b[1;33m\u001b[0m\u001b[0m\n",
      "\u001b[1;32m/home/kyle/anaconda/lib/python2.7/site-packages/pandas/core/frame.pyc\u001b[0m in \u001b[0;36m_getitem_column\u001b[1;34m(self, key)\u001b[0m\n\u001b[0;32m   1802\u001b[0m         \u001b[1;31m# get column\u001b[0m\u001b[1;33m\u001b[0m\u001b[1;33m\u001b[0m\u001b[0m\n\u001b[0;32m   1803\u001b[0m         \u001b[1;32mif\u001b[0m \u001b[0mself\u001b[0m\u001b[1;33m.\u001b[0m\u001b[0mcolumns\u001b[0m\u001b[1;33m.\u001b[0m\u001b[0mis_unique\u001b[0m\u001b[1;33m:\u001b[0m\u001b[1;33m\u001b[0m\u001b[0m\n\u001b[1;32m-> 1804\u001b[1;33m             \u001b[1;32mreturn\u001b[0m \u001b[0mself\u001b[0m\u001b[1;33m.\u001b[0m\u001b[0m_get_item_cache\u001b[0m\u001b[1;33m(\u001b[0m\u001b[0mkey\u001b[0m\u001b[1;33m)\u001b[0m\u001b[1;33m\u001b[0m\u001b[0m\n\u001b[0m\u001b[0;32m   1805\u001b[0m \u001b[1;33m\u001b[0m\u001b[0m\n\u001b[0;32m   1806\u001b[0m         \u001b[1;31m# duplicate columns & possible reduce dimensionaility\u001b[0m\u001b[1;33m\u001b[0m\u001b[1;33m\u001b[0m\u001b[0m\n",
      "\u001b[1;32m/home/kyle/anaconda/lib/python2.7/site-packages/pandas/core/generic.pyc\u001b[0m in \u001b[0;36m_get_item_cache\u001b[1;34m(self, item)\u001b[0m\n\u001b[0;32m   1080\u001b[0m         \u001b[1;34m\"\"\" return the cached item, item represents a label indexer \"\"\"\u001b[0m\u001b[1;33m\u001b[0m\u001b[0m\n\u001b[0;32m   1081\u001b[0m         \u001b[0mcache\u001b[0m \u001b[1;33m=\u001b[0m \u001b[0mself\u001b[0m\u001b[1;33m.\u001b[0m\u001b[0m_item_cache\u001b[0m\u001b[1;33m\u001b[0m\u001b[0m\n\u001b[1;32m-> 1082\u001b[1;33m         \u001b[0mres\u001b[0m \u001b[1;33m=\u001b[0m \u001b[0mcache\u001b[0m\u001b[1;33m.\u001b[0m\u001b[0mget\u001b[0m\u001b[1;33m(\u001b[0m\u001b[0mitem\u001b[0m\u001b[1;33m)\u001b[0m\u001b[1;33m\u001b[0m\u001b[0m\n\u001b[0m\u001b[0;32m   1083\u001b[0m         \u001b[1;32mif\u001b[0m \u001b[0mres\u001b[0m \u001b[1;32mis\u001b[0m \u001b[0mNone\u001b[0m\u001b[1;33m:\u001b[0m\u001b[1;33m\u001b[0m\u001b[0m\n\u001b[0;32m   1084\u001b[0m             \u001b[0mvalues\u001b[0m \u001b[1;33m=\u001b[0m \u001b[0mself\u001b[0m\u001b[1;33m.\u001b[0m\u001b[0m_data\u001b[0m\u001b[1;33m.\u001b[0m\u001b[0mget\u001b[0m\u001b[1;33m(\u001b[0m\u001b[0mitem\u001b[0m\u001b[1;33m)\u001b[0m\u001b[1;33m\u001b[0m\u001b[0m\n",
      "\u001b[1;31mTypeError\u001b[0m: unhashable type"
     ]
    }
   ],
   "source": [
    "\n",
    "ovals = m.observed.groupby('Cond').std().loc[:, 'Go':]#/m.observed.std()[:6]\n",
    "np.median(ovals[:,:400], axis=1)[:, None]/ovals"
   ]
  },
  {
   "cell_type": "code",
   "execution_count": 83,
   "metadata": {
    "collapsed": false
   },
   "outputs": [],
   "source": [
    "nc = m.ncond; cond=m.cond;\n",
    "if m.data_style=='re':\n",
    "      go = m.data.query('ttype==\"go\"').response.mean()\n",
    "      st = m.data.query('ttype==\"stop\"').response.mean()\n",
    "      if weight_by=='mj':\n",
    "            qwts = analyze.reactive_mj_quanterr(df=m.data)\n",
    "      else:\n",
    "            obsrts = m.observed.loc[:, 'c10':]\n",
    "            qwts = np.median(obsrts.std(axis=0))/obsrts.std(axis=0)\n",
    "            qwts = np.vstack(qwts.values.reshape(nc,5))\n",
    "      qwts = np.hstack(array([[go], [st]])*qwts)\n",
    "      pwts = array([1,1,1,1,1,1])\n",
    "      ovals = m.observed.groupby('Cond').std().loc[:, 'Go':]#/m.observed.std()[:6]\n",
    "      np.median(ovals, axis=1)[:, None]/ovals\n",
    "      m.flat_wts = np.hstack([pwts, qwts])\n",
    "      m.avg_wts = np.tile(m.flat_wts, nc)\n",
    "      \n",
    "elif m.data_style=='pro':\n",
    "      upper = m.data[m.data['HL']==1].mean()['response']\n",
    "      lower = m.data[m.data['HL']==2].mean()['response']\n",
    "\n",
    "      if weight_by=='mj':\n",
    "            qwts = analyze.proactive_mj_quanterr(df=m.data, split='HL', tb=m.tb)\n",
    "            qwts = np.hstack(np.array([upper, lower])[:,None]*qwts)\n",
    "      else:\n",
    "            qvar = m.observed.std().iloc[6:].values\n",
    "            hi = qvar[:5]; lo = qvar[5:]\n",
    "            qwts = np.hstack([upper*(hi[2]/hi), lower*(lo[2]/lo)])\n",
    "\n",
    "      pwts = array([1,1,1,1,1,1])#np.median(pvar)/pvar\n",
    "      m.avg_wts = np.hstack([pwts, qwts])\n",
    "\n",
    "      nogo = m.avg_wts[:nc].mean(); quant=m.avg_wts[nc:].reshape(2, 5).mean(axis=0)\n",
    "      m.flat_wts = np.hstack([nogo, quant])\n",
    "\n",
    "      qwts = analyze.proactive_mj_quanterr(df=m.data, split='HL', tb=m.tb)\n",
    "      qwts = np.hstack(np.array([upper, lower])[:,None]*qwts)\n",
    "      #pwts = np.array([1.5,1,1,1,1,1.5])\n",
    "      #pwts = np.array([1.5,1.25,1,1,1.25,1.5])\n",
    "      pwts = np.median(m.observed.std()[:6])/m.observed.std()[:6]\n",
    "      m.avg_wts = np.hstack([pwts, qwts])\n",
    "      # calculate flat weights (collapsing across conditions)\n",
    "      nogo = m.avg_wts[:nc].mean(); quant=m.avg_wts[nc:].reshape(2, 5).mean(axis=0)\n",
    "      m.flat_wts = np.hstack([nogo, quant])\n",
    "\n",
    "      ovar = m.observed.var().values\n",
    "      qvar = array(array([[upper], [lower]])*(1/ovar[nc:].reshape(2,5))).flatten()\n",
    "      m.qvar=qvar\n",
    "      m.uwts = np.concatenate([1/ovar[:nc], qvar], axis=1).flatten()\n",
    "      m.flat_uwts=np.append(m.uwts[:nc].mean(), m.uwts[nc:].reshape(2,5).mean(axis=0))\n",
    "\n",
    "m.avg_wts, m.flat_wts = analyze.ensure_numerical_wts(m.avg_wts, m.flat_wts)\n",
    "#m.avg_wts=np.ones_like(m.avg_wts); m.flat_wts=np.ones_like(m.flat_wts)\n"
   ]
  },
  {
   "cell_type": "code",
   "execution_count": 84,
   "metadata": {
    "collapsed": false
   },
   "outputs": [
    {
     "data": {
      "text/plain": [
       "array([ 1.     ,  1.     ,  1.     ,  1.     ,  1.     ,  1.     ,\n",
       "        0.7354 ,  0.93408,  0.99221,  0.99656,  0.852  ,  0.18693,\n",
       "        0.27972,  0.29962,  0.28591,  0.23456,  1.     ,  1.     ,\n",
       "        1.     ,  1.     ,  1.     ,  1.     ,  0.7354 ,  0.93408,\n",
       "        0.99221,  0.99656,  0.852  ,  0.18693,  0.27972,  0.29962,\n",
       "        0.28591,  0.23456])"
      ]
     },
     "execution_count": 84,
     "metadata": {},
     "output_type": "execute_result"
    }
   ],
   "source": [
    "m.avg_wts"
   ]
  },
  {
   "cell_type": "code",
   "execution_count": 239,
   "metadata": {
    "collapsed": false
   },
   "outputs": [
    {
     "data": {
      "text/plain": [
       "array([[ 0.25958,  1.     ,  2.05167,  2.50661,  0.43544],\n",
       "       [ 0.8629 ,  1.     ,  1.12056,  1.25492,  0.13557]])"
      ]
     },
     "execution_count": 239,
     "metadata": {},
     "output_type": "execute_result"
    }
   ],
   "source": [
    "m.__remove_outliers__(sd=2.5)\n",
    "analyze.proactive_mj_quanterr(m.data)"
   ]
  },
  {
   "cell_type": "code",
   "execution_count": 192,
   "metadata": {
    "collapsed": false
   },
   "outputs": [],
   "source": [
    "pwts, qwts = m.get_wts()"
   ]
  },
  {
   "cell_type": "code",
   "execution_count": 8,
   "metadata": {
    "collapsed": false
   },
   "outputs": [
    {
     "data": {
      "text/plain": [
       "array([[ 0.6668 ,  1.02132,  1.08535,  1.     ,  0.87895],\n",
       "       [     nan,  1.     ,  1.15488,  1.16127,  0.87805]])"
      ]
     },
     "execution_count": 8,
     "metadata": {},
     "output_type": "execute_result"
    }
   ],
   "source": [
    "redata.groupby('Cond').apply(analyze.reactive_mj_quanterr).values[0]#.shape#reshape(2,5)"
   ]
  },
  {
   "cell_type": "code",
   "execution_count": 154,
   "metadata": {
    "collapsed": false
   },
   "outputs": [],
   "source": [
    "df = m.data"
   ]
  },
  {
   "cell_type": "code",
   "execution_count": 2,
   "metadata": {
    "collapsed": true
   },
   "outputs": [],
   "source": [
    "prob=array([.1,.3,.5,.7,.9])"
   ]
  },
  {
   "cell_type": "code",
   "execution_count": 136,
   "metadata": {
    "collapsed": false
   },
   "outputs": [
    {
     "data": {
      "text/plain": [
       "0.6536152"
      ]
     },
     "execution_count": 136,
     "metadata": {},
     "output_type": "execute_result"
    }
   ],
   "source": []
  },
  {
   "cell_type": "code",
   "execution_count": 174,
   "metadata": {
    "collapsed": false
   },
   "outputs": [],
   "source": [
    "upper = m.data[m.data['HL']==1].mean()['response']"
   ]
  },
  {
   "cell_type": "code",
   "execution_count": 176,
   "metadata": {
    "collapsed": false
   },
   "outputs": [
    {
     "data": {
      "text/plain": [
       "array([[ 0.24264,  1.     ,  2.6738 ,  1.94895,  0.45662],\n",
       "       [ 0.19067,  1.     ,  1.69695,  1.63421,  0.41951]])"
      ]
     },
     "execution_count": 176,
     "metadata": {},
     "output_type": "execute_result"
    }
   ],
   "source": [
    "m.qwts"
   ]
  },
  {
   "cell_type": "code",
   "execution_count": null,
   "metadata": {
    "collapsed": true
   },
   "outputs": [],
   "source": [
    "q_sem_obj = godf.groupby(['idx', 'HL']).apply(mjcix).values\n",
    "      qwts = np.median(np.vstack(q_sem_obj.reshape(2,61).mean(axis=1)), axis=1)[:, None]/np.vstack(q_sem_obj.reshape(2,61).mean(axis=1))\n"
   ]
  },
  {
   "cell_type": "code",
   "execution_count": 172,
   "metadata": {
    "collapsed": false
   },
   "outputs": [
    {
     "data": {
      "text/plain": [
       "array([ 1.     ,  1.     ,  1.     ,  1.     ,  1.     ,  1.     ,\n",
       "        0.22189,  0.91449,  2.44517,  1.7823 ,  0.41757,  0.05262,\n",
       "        0.27596,  0.46829,  0.45097,  0.11577])"
      ]
     },
     "execution_count": 172,
     "metadata": {},
     "output_type": "execute_result"
    }
   ],
   "source": [
    "m.avg_wts"
   ]
  },
  {
   "cell_type": "code",
   "execution_count": 382,
   "metadata": {
    "collapsed": false
   },
   "outputs": [],
   "source": [
    "m=build.Model(data=prodf_store.prodata, kind='pro', tb=.56)"
   ]
  },
  {
   "cell_type": "code",
   "execution_count": 384,
   "metadata": {
    "collapsed": false
   },
   "outputs": [
    {
     "data": {
      "text/plain": [
       "array([ 1.     ,  1.     ,  1.     ,  1.     ,  1.     ,  1.     ,\n",
       "        0.32548,  1.22685,  5.27358,  3.70829,  0.90674,  0.09328,\n",
       "        0.52865,  1.22075,  1.06581,  0.28346])"
      ]
     },
     "execution_count": 384,
     "metadata": {},
     "output_type": "execute_result"
    }
   ],
   "source": [
    "m.avg_wts"
   ]
  },
  {
   "cell_type": "code",
   "execution_count": 221,
   "metadata": {
    "collapsed": true
   },
   "outputs": [],
   "source": [
    "df = pd.read_csv(pth+'ELife/Data/pro_data.csv')"
   ]
  },
  {
   "cell_type": "code",
   "execution_count": 198,
   "metadata": {
    "collapsed": false
   },
   "outputs": [
    {
     "data": {
      "text/plain": [
       "array([[ 0.2653 ,  1.     ,  4.29846,  3.0226 ,  0.73908],\n",
       "       [ 0.17645,  1.     ,  2.3092 ,  2.0161 ,  0.53621]])"
      ]
     },
     "execution_count": 198,
     "metadata": {},
     "output_type": "execute_result"
    }
   ],
   "source": [
    "analyze.proactive_mj_quanterr(df)#.mean(axis=0)"
   ]
  },
  {
   "cell_type": "code",
   "execution_count": null,
   "metadata": {
    "collapsed": true
   },
   "outputs": [],
   "source": []
  },
  {
   "cell_type": "code",
   "execution_count": 232,
   "metadata": {
    "collapsed": false
   },
   "outputs": [],
   "source": [
    "tb=.560; split='HL'\n",
    "\n",
    "godf = df[(df.response==1)&(df.rt<=tb)]  \n",
    "nquant = len(prob)\n",
    "ncond = len(godf[split].unique())\n",
    "\n",
    "mjcix = lambda x: mjci(x.rt, prob=prob)\n",
    "#godf = df[df.response==1].copy()\n",
    "q_sem_obj = godf.groupby(['idx', 'HL']).apply(mjcix).values\n",
    "qwts = np.mean(np.vstack(q_sem_obj.reshape(2,61).mean(axis=1)), axis=1)[:, None]/np.vstack(q_sem_obj.reshape(2,61).mean(axis=1))"
   ]
  },
  {
   "cell_type": "code",
   "execution_count": 226,
   "metadata": {
    "collapsed": false
   },
   "outputs": [
    {
     "data": {
      "text/plain": [
       "0.5599845999999999"
      ]
     },
     "execution_count": 226,
     "metadata": {},
     "output_type": "execute_result"
    }
   ],
   "source": [
    "godf.rt"
   ]
  },
  {
   "cell_type": "code",
   "execution_count": 233,
   "metadata": {
    "collapsed": false
   },
   "outputs": [
    {
     "data": {
      "text/plain": [
       "array([[ 0.35475,  1.33718,  5.74781,  4.04176,  0.98828],\n",
       "       [ 0.33389,  1.89227,  4.36963,  3.81502,  1.01465]])"
      ]
     },
     "execution_count": 233,
     "metadata": {},
     "output_type": "execute_result"
    }
   ],
   "source": [
    "qwts"
   ]
  },
  {
   "cell_type": "code",
   "execution_count": 206,
   "metadata": {
    "collapsed": false
   },
   "outputs": [
    {
     "data": {
      "text/plain": [
       "(122,)"
      ]
     },
     "execution_count": 206,
     "metadata": {},
     "output_type": "execute_result"
    }
   ],
   "source": [
    "q_sem_obj.shape"
   ]
  },
  {
   "cell_type": "code",
   "execution_count": 116,
   "metadata": {
    "collapsed": false
   },
   "outputs": [],
   "source": [
    "def proactive_mj_quanterr(df, split='HL', prob=array([.1,.3,.5,.7,.9]), tb=.560):\n",
    "      \n",
    "      godf = df[(df.response==1)&(df.rt<=tb)]  \n",
    "      nquant = len(prob)\n",
    "      ncond = len(godf[split].unique())\n",
    "      q_sem_obj = godf.groupby(split).rt.apply(mjci, prob).values\n",
    "      # hstack then reshape to automatically ensure float dtype (not object dtype)\n",
    "      q_sem = np.hstack(q_sem_obj).reshape(ncond, nquant)\n",
    "      qwts = np.median(q_sem, axis=1)[:,None]/q_sem\n",
    "      return qwts\n",
    "                  \n",
    "                  \n",
    "def reactive_mj_quanterr(df, avg_ssd=True, prob=array([.1,.3,.5,.7,.9])):\n",
    "      \n",
    "      cor = df.query('response==1&acc==1')\n",
    "      err = df.query('response==1&acc==0')\n",
    "      nssd = len(err.ssd.unique())\n",
    "      nquant = len(prob)\n",
    "      qe_var = np.hstack(err.groupby('ssd').rt.apply(mjci, prob)).reshape(nssd, nquant)\n",
    "      qc_var = mjci(cor.rt.values, prob)\n",
    "      # correct trial wts\n",
    "      qcwts = np.median(qc_var)/qc_var\n",
    "      # ss trial wts\n",
    "      if avg_ssd:\n",
    "            qewts = np.median(qe_var)/qe_var.mean(axis=1)\n",
    "      else:\n",
    "            qewts = np.median(qe_var,axis=1)[:,None]/qe_var\n",
    "      return qcwts, qewts"
   ]
  },
  {
   "cell_type": "code",
   "execution_count": 123,
   "metadata": {
    "collapsed": true
   },
   "outputs": [],
   "source": [
    "from radd.toolbox import analyze"
   ]
  },
  {
   "cell_type": "code",
   "execution_count": 179,
   "metadata": {
    "collapsed": false
   },
   "outputs": [
    {
     "data": {
      "text/plain": [
       "array([ 1.     ,  1.     ,  1.     ,  1.     ,  1.     ,  1.     ,\n",
       "        0.24341,  0.91749,  3.94381,  2.77322,  0.6781 ,  0.04929,\n",
       "        0.27937,  0.64512,  0.56324,  0.1498 ])"
      ]
     },
     "execution_count": 179,
     "metadata": {},
     "output_type": "execute_result"
    }
   ],
   "source": [
    "m.avg_wts"
   ]
  },
  {
   "cell_type": "code",
   "execution_count": 180,
   "metadata": {
    "collapsed": false
   },
   "outputs": [
    {
     "data": {
      "text/plain": [
       "array([[ 0.2653 ,  1.     ,  4.29846,  3.0226 ,  0.73908],\n",
       "       [ 0.17645,  1.     ,  2.3092 ,  2.0161 ,  0.53621]])"
      ]
     },
     "execution_count": 180,
     "metadata": {},
     "output_type": "execute_result"
    }
   ],
   "source": [
    "analyze.proactive_mj_quanterr(df)"
   ]
  },
  {
   "cell_type": "code",
   "execution_count": 1,
   "metadata": {
    "collapsed": false
   },
   "outputs": [
    {
     "ename": "NameError",
     "evalue": "name 'proactive_mj_quanterr' is not defined",
     "output_type": "error",
     "traceback": [
      "\u001b[1;31m---------------------------------------------------------------------------\u001b[0m",
      "\u001b[1;31mNameError\u001b[0m                                 Traceback (most recent call last)",
      "\u001b[1;32m<ipython-input-1-43ae03d5ee4e>\u001b[0m in \u001b[0;36m<module>\u001b[1;34m()\u001b[0m\n\u001b[1;32m----> 1\u001b[1;33m \u001b[0mnp\u001b[0m\u001b[1;33m.\u001b[0m\u001b[0mhstack\u001b[0m\u001b[1;33m(\u001b[0m\u001b[0mproactive_mj_quanterr\u001b[0m\u001b[1;33m(\u001b[0m\u001b[0mm\u001b[0m\u001b[1;33m.\u001b[0m\u001b[0mdata\u001b[0m\u001b[1;33m)\u001b[0m\u001b[1;33m)\u001b[0m\u001b[1;33m.\u001b[0m\u001b[0mreshape\u001b[0m\u001b[1;33m(\u001b[0m\u001b[1;36m2\u001b[0m\u001b[1;33m,\u001b[0m\u001b[1;36m5\u001b[0m\u001b[1;33m)\u001b[0m\u001b[1;33m\u001b[0m\u001b[0m\n\u001b[0m",
      "\u001b[1;31mNameError\u001b[0m: name 'proactive_mj_quanterr' is not defined"
     ]
    }
   ],
   "source": [
    "np.hstack(proactive_mj_quanterr(m.data)).reshape(2,5)"
   ]
  },
  {
   "cell_type": "code",
   "execution_count": 214,
   "metadata": {
    "collapsed": false
   },
   "outputs": [],
   "source": [
    "m.__remove_outliers__(2)"
   ]
  },
  {
   "cell_type": "code",
   "execution_count": 215,
   "metadata": {
    "collapsed": false
   },
   "outputs": [
    {
     "data": {
      "text/plain": [
       "array([[ 0.08614,  1.     ,  1.57865,  2.23218,  0.22066],\n",
       "       [ 0.88342,  1.     ,  1.25132,  1.19866,  0.16524]])"
      ]
     },
     "execution_count": 215,
     "metadata": {},
     "output_type": "execute_result"
    }
   ],
   "source": [
    "proactive_mj_quanterr(m.data)"
   ]
  },
  {
   "cell_type": "code",
   "execution_count": 112,
   "metadata": {
    "collapsed": true
   },
   "outputs": [
    {
     "ename": "TypeError",
     "evalue": "can't multiply sequence by non-int of type 'float'",
     "output_type": "error",
     "traceback": [
      "\u001b[0;31m---------------------------------------------------------------------------\u001b[0m",
      "\u001b[0;31mTypeError\u001b[0m                                 Traceback (most recent call last)",
      "\u001b[0;32m<ipython-input-112-2242a8ce349c>\u001b[0m in \u001b[0;36m<module>\u001b[0;34m()\u001b[0m\n\u001b[0;32m----> 1\u001b[0;31m \u001b[0mproactive_mj_quanterr\u001b[0m\u001b[0;34m(\u001b[0m\u001b[0mdf\u001b[0m\u001b[0;34m)\u001b[0m\u001b[0;34m\u001b[0m\u001b[0m\n\u001b[0m",
      "\u001b[0;32m<ipython-input-111-6271b67a6901>\u001b[0m in \u001b[0;36mproactive_mj_quanterr\u001b[0;34m(df, split, prob, tb)\u001b[0m\n\u001b[1;32m      8\u001b[0m       \u001b[0;31m# hstack then reshape to automatically ensure float dtype (not object dtype)\u001b[0m\u001b[0;34m\u001b[0m\u001b[0;34m\u001b[0m\u001b[0m\n\u001b[1;32m      9\u001b[0m       \u001b[0mq_sem\u001b[0m \u001b[0;34m=\u001b[0m \u001b[0mnp\u001b[0m\u001b[0;34m.\u001b[0m\u001b[0mhstack\u001b[0m\u001b[0;34m(\u001b[0m\u001b[0mq_sem_obj\u001b[0m\u001b[0;34m)\u001b[0m\u001b[0;34m.\u001b[0m\u001b[0mreshape\u001b[0m\u001b[0;34m(\u001b[0m\u001b[0mncond\u001b[0m\u001b[0;34m,\u001b[0m \u001b[0mnquant\u001b[0m\u001b[0;34m)\u001b[0m\u001b[0;34m\u001b[0m\u001b[0m\n\u001b[0;32m---> 10\u001b[0;31m       \u001b[0mqwts\u001b[0m \u001b[0;34m=\u001b[0m \u001b[0mdf\u001b[0m\u001b[0;34m.\u001b[0m\u001b[0mquery\u001b[0m\u001b[0;34m(\u001b[0m\u001b[0;34m'response==1'\u001b[0m\u001b[0;34m)\u001b[0m\u001b[0;34m.\u001b[0m\u001b[0mgroupby\u001b[0m\u001b[0;34m(\u001b[0m\u001b[0msplit\u001b[0m\u001b[0;34m)\u001b[0m\u001b[0;34m.\u001b[0m\u001b[0mapply\u001b[0m\u001b[0;34m(\u001b[0m\u001b[0mmjci\u001b[0m\u001b[0;34m,\u001b[0m \u001b[0mprob\u001b[0m\u001b[0;34m)\u001b[0m\u001b[0;34m\u001b[0m\u001b[0m\n\u001b[0m\u001b[1;32m     11\u001b[0m       \u001b[0;32mreturn\u001b[0m \u001b[0mqwts\u001b[0m\u001b[0;34m\u001b[0m\u001b[0m\n\u001b[1;32m     12\u001b[0m \u001b[0;34m\u001b[0m\u001b[0m\n",
      "\u001b[0;32m/Users/kyle/anaconda/lib/python2.7/site-packages/pandas/core/groupby.pyc\u001b[0m in \u001b[0;36mapply\u001b[0;34m(self, func, *args, **kwargs)\u001b[0m\n\u001b[1;32m    669\u001b[0m         \u001b[0;31m# ignore SettingWithCopy here in case the user mutates\u001b[0m\u001b[0;34m\u001b[0m\u001b[0;34m\u001b[0m\u001b[0m\n\u001b[1;32m    670\u001b[0m         \u001b[0;32mwith\u001b[0m \u001b[0moption_context\u001b[0m\u001b[0;34m(\u001b[0m\u001b[0;34m'mode.chained_assignment'\u001b[0m\u001b[0;34m,\u001b[0m\u001b[0mNone\u001b[0m\u001b[0;34m)\u001b[0m\u001b[0;34m:\u001b[0m\u001b[0;34m\u001b[0m\u001b[0m\n\u001b[0;32m--> 671\u001b[0;31m             \u001b[0;32mreturn\u001b[0m \u001b[0mself\u001b[0m\u001b[0;34m.\u001b[0m\u001b[0m_python_apply_general\u001b[0m\u001b[0;34m(\u001b[0m\u001b[0mf\u001b[0m\u001b[0;34m)\u001b[0m\u001b[0;34m\u001b[0m\u001b[0m\n\u001b[0m\u001b[1;32m    672\u001b[0m \u001b[0;34m\u001b[0m\u001b[0m\n\u001b[1;32m    673\u001b[0m     \u001b[0;32mdef\u001b[0m \u001b[0m_python_apply_general\u001b[0m\u001b[0;34m(\u001b[0m\u001b[0mself\u001b[0m\u001b[0;34m,\u001b[0m \u001b[0mf\u001b[0m\u001b[0;34m)\u001b[0m\u001b[0;34m:\u001b[0m\u001b[0;34m\u001b[0m\u001b[0m\n",
      "\u001b[0;32m/Users/kyle/anaconda/lib/python2.7/site-packages/pandas/core/groupby.pyc\u001b[0m in \u001b[0;36m_python_apply_general\u001b[0;34m(self, f)\u001b[0m\n\u001b[1;32m    673\u001b[0m     \u001b[0;32mdef\u001b[0m \u001b[0m_python_apply_general\u001b[0m\u001b[0;34m(\u001b[0m\u001b[0mself\u001b[0m\u001b[0;34m,\u001b[0m \u001b[0mf\u001b[0m\u001b[0;34m)\u001b[0m\u001b[0;34m:\u001b[0m\u001b[0;34m\u001b[0m\u001b[0m\n\u001b[1;32m    674\u001b[0m         keys, values, mutated = self.grouper.apply(f, self._selected_obj,\n\u001b[0;32m--> 675\u001b[0;31m                                                    self.axis)\n\u001b[0m\u001b[1;32m    676\u001b[0m \u001b[0;34m\u001b[0m\u001b[0m\n\u001b[1;32m    677\u001b[0m         return self._wrap_applied_output(keys, values,\n",
      "\u001b[0;32m/Users/kyle/anaconda/lib/python2.7/site-packages/pandas/core/groupby.pyc\u001b[0m in \u001b[0;36mapply\u001b[0;34m(self, f, data, axis)\u001b[0m\n\u001b[1;32m   1292\u001b[0m             \u001b[0;31m# group might be modified\u001b[0m\u001b[0;34m\u001b[0m\u001b[0;34m\u001b[0m\u001b[0m\n\u001b[1;32m   1293\u001b[0m             \u001b[0mgroup_axes\u001b[0m \u001b[0;34m=\u001b[0m \u001b[0m_get_axes\u001b[0m\u001b[0;34m(\u001b[0m\u001b[0mgroup\u001b[0m\u001b[0;34m)\u001b[0m\u001b[0;34m\u001b[0m\u001b[0m\n\u001b[0;32m-> 1294\u001b[0;31m             \u001b[0mres\u001b[0m \u001b[0;34m=\u001b[0m \u001b[0mf\u001b[0m\u001b[0;34m(\u001b[0m\u001b[0mgroup\u001b[0m\u001b[0;34m)\u001b[0m\u001b[0;34m\u001b[0m\u001b[0m\n\u001b[0m\u001b[1;32m   1295\u001b[0m             \u001b[0;32mif\u001b[0m \u001b[0;32mnot\u001b[0m \u001b[0m_is_indexed_like\u001b[0m\u001b[0;34m(\u001b[0m\u001b[0mres\u001b[0m\u001b[0;34m,\u001b[0m \u001b[0mgroup_axes\u001b[0m\u001b[0;34m)\u001b[0m\u001b[0;34m:\u001b[0m\u001b[0;34m\u001b[0m\u001b[0m\n\u001b[1;32m   1296\u001b[0m                 \u001b[0mmutated\u001b[0m \u001b[0;34m=\u001b[0m \u001b[0mTrue\u001b[0m\u001b[0;34m\u001b[0m\u001b[0m\n",
      "\u001b[0;32m/Users/kyle/anaconda/lib/python2.7/site-packages/pandas/core/groupby.pyc\u001b[0m in \u001b[0;36mf\u001b[0;34m(g)\u001b[0m\n\u001b[1;32m    665\u001b[0m         \u001b[0;34m@\u001b[0m\u001b[0mwraps\u001b[0m\u001b[0;34m(\u001b[0m\u001b[0mfunc\u001b[0m\u001b[0;34m)\u001b[0m\u001b[0;34m\u001b[0m\u001b[0m\n\u001b[1;32m    666\u001b[0m         \u001b[0;32mdef\u001b[0m \u001b[0mf\u001b[0m\u001b[0;34m(\u001b[0m\u001b[0mg\u001b[0m\u001b[0;34m)\u001b[0m\u001b[0;34m:\u001b[0m\u001b[0;34m\u001b[0m\u001b[0m\n\u001b[0;32m--> 667\u001b[0;31m             \u001b[0;32mreturn\u001b[0m \u001b[0mfunc\u001b[0m\u001b[0;34m(\u001b[0m\u001b[0mg\u001b[0m\u001b[0;34m,\u001b[0m \u001b[0;34m*\u001b[0m\u001b[0margs\u001b[0m\u001b[0;34m,\u001b[0m \u001b[0;34m**\u001b[0m\u001b[0mkwargs\u001b[0m\u001b[0;34m)\u001b[0m\u001b[0;34m\u001b[0m\u001b[0m\n\u001b[0m\u001b[1;32m    668\u001b[0m \u001b[0;34m\u001b[0m\u001b[0m\n\u001b[1;32m    669\u001b[0m         \u001b[0;31m# ignore SettingWithCopy here in case the user mutates\u001b[0m\u001b[0;34m\u001b[0m\u001b[0;34m\u001b[0m\u001b[0m\n",
      "\u001b[0;32m/Users/kyle/anaconda/lib/python2.7/site-packages/scipy/stats/mstats_extras.pyc\u001b[0m in \u001b[0;36mmjci\u001b[0;34m(data, prob, axis)\u001b[0m\n\u001b[1;32m    267\u001b[0m     \u001b[0;31m# Computes quantiles along axis (or globally)\u001b[0m\u001b[0;34m\u001b[0m\u001b[0;34m\u001b[0m\u001b[0m\n\u001b[1;32m    268\u001b[0m     \u001b[0;32mif\u001b[0m \u001b[0;34m(\u001b[0m\u001b[0maxis\u001b[0m \u001b[0;32mis\u001b[0m \u001b[0mNone\u001b[0m\u001b[0;34m)\u001b[0m\u001b[0;34m:\u001b[0m\u001b[0;34m\u001b[0m\u001b[0m\n\u001b[0;32m--> 269\u001b[0;31m         \u001b[0;32mreturn\u001b[0m \u001b[0m_mjci_1D\u001b[0m\u001b[0;34m(\u001b[0m\u001b[0mdata\u001b[0m\u001b[0;34m,\u001b[0m \u001b[0mp\u001b[0m\u001b[0;34m)\u001b[0m\u001b[0;34m\u001b[0m\u001b[0m\n\u001b[0m\u001b[1;32m    270\u001b[0m     \u001b[0;32melse\u001b[0m\u001b[0;34m:\u001b[0m\u001b[0;34m\u001b[0m\u001b[0m\n\u001b[1;32m    271\u001b[0m         \u001b[0;32mreturn\u001b[0m \u001b[0mma\u001b[0m\u001b[0;34m.\u001b[0m\u001b[0mapply_along_axis\u001b[0m\u001b[0;34m(\u001b[0m\u001b[0m_mjci_1D\u001b[0m\u001b[0;34m,\u001b[0m \u001b[0maxis\u001b[0m\u001b[0;34m,\u001b[0m \u001b[0mdata\u001b[0m\u001b[0;34m,\u001b[0m \u001b[0mp\u001b[0m\u001b[0;34m)\u001b[0m\u001b[0;34m\u001b[0m\u001b[0m\n",
      "\u001b[0;32m/Users/kyle/anaconda/lib/python2.7/site-packages/scipy/stats/mstats_extras.pyc\u001b[0m in \u001b[0;36m_mjci_1D\u001b[0;34m(data, p)\u001b[0m\n\u001b[1;32m    254\u001b[0m             \u001b[0;34m(\u001b[0m\u001b[0mm1\u001b[0m\u001b[0;34m,\u001b[0m\u001b[0mm2\u001b[0m\u001b[0;34m)\u001b[0m \u001b[0;34m=\u001b[0m \u001b[0;34m(\u001b[0m\u001b[0mm\u001b[0m\u001b[0;34m-\u001b[0m\u001b[0;36m1\u001b[0m\u001b[0;34m,\u001b[0m \u001b[0mn\u001b[0m\u001b[0;34m-\u001b[0m\u001b[0mm\u001b[0m\u001b[0;34m)\u001b[0m\u001b[0;34m\u001b[0m\u001b[0m\n\u001b[1;32m    255\u001b[0m             \u001b[0mW\u001b[0m \u001b[0;34m=\u001b[0m \u001b[0mbetacdf\u001b[0m\u001b[0;34m(\u001b[0m\u001b[0mx\u001b[0m\u001b[0;34m,\u001b[0m\u001b[0mm\u001b[0m\u001b[0;34m-\u001b[0m\u001b[0;36m1\u001b[0m\u001b[0;34m,\u001b[0m\u001b[0mn\u001b[0m\u001b[0;34m-\u001b[0m\u001b[0mm\u001b[0m\u001b[0;34m)\u001b[0m \u001b[0;34m-\u001b[0m \u001b[0mbetacdf\u001b[0m\u001b[0;34m(\u001b[0m\u001b[0my\u001b[0m\u001b[0;34m,\u001b[0m\u001b[0mm\u001b[0m\u001b[0;34m-\u001b[0m\u001b[0;36m1\u001b[0m\u001b[0;34m,\u001b[0m\u001b[0mn\u001b[0m\u001b[0;34m-\u001b[0m\u001b[0mm\u001b[0m\u001b[0;34m)\u001b[0m\u001b[0;34m\u001b[0m\u001b[0m\n\u001b[0;32m--> 256\u001b[0;31m             \u001b[0mC1\u001b[0m \u001b[0;34m=\u001b[0m \u001b[0mnp\u001b[0m\u001b[0;34m.\u001b[0m\u001b[0mdot\u001b[0m\u001b[0;34m(\u001b[0m\u001b[0mW\u001b[0m\u001b[0;34m,\u001b[0m\u001b[0mdata\u001b[0m\u001b[0;34m)\u001b[0m\u001b[0;34m\u001b[0m\u001b[0m\n\u001b[0m\u001b[1;32m    257\u001b[0m             \u001b[0mC2\u001b[0m \u001b[0;34m=\u001b[0m \u001b[0mnp\u001b[0m\u001b[0;34m.\u001b[0m\u001b[0mdot\u001b[0m\u001b[0;34m(\u001b[0m\u001b[0mW\u001b[0m\u001b[0;34m,\u001b[0m\u001b[0mdata\u001b[0m\u001b[0;34m**\u001b[0m\u001b[0;36m2\u001b[0m\u001b[0;34m)\u001b[0m\u001b[0;34m\u001b[0m\u001b[0m\n\u001b[1;32m    258\u001b[0m             \u001b[0mmj\u001b[0m\u001b[0;34m[\u001b[0m\u001b[0mi\u001b[0m\u001b[0;34m]\u001b[0m \u001b[0;34m=\u001b[0m \u001b[0mnp\u001b[0m\u001b[0;34m.\u001b[0m\u001b[0msqrt\u001b[0m\u001b[0;34m(\u001b[0m\u001b[0mC2\u001b[0m \u001b[0;34m-\u001b[0m \u001b[0mC1\u001b[0m\u001b[0;34m**\u001b[0m\u001b[0;36m2\u001b[0m\u001b[0;34m)\u001b[0m\u001b[0;34m\u001b[0m\u001b[0m\n",
      "\u001b[0;31mTypeError\u001b[0m: can't multiply sequence by non-int of type 'float'"
     ]
    }
   ],
   "source": [
    "proactive_mj_quanterr(df)"
   ]
  },
  {
   "cell_type": "code",
   "execution_count": null,
   "metadata": {
    "collapsed": true
   },
   "outputs": [],
   "source": []
  },
  {
   "cell_type": "code",
   "execution_count": 189,
   "metadata": {
    "collapsed": false
   },
   "outputs": [
    {
     "data": {
      "text/plain": [
       "array([ 0.06656,  1.24232,  0.01118,  1.53834,  1.     ,  0.36228,\n",
       "        0.17871,  0.81474,  1.84892,  1.92326])"
      ]
     },
     "execution_count": 189,
     "metadata": {},
     "output_type": "execute_result"
    }
   ],
   "source": [
    "q = np.hstack(analyze.reactive_mj_quanterr(redata, avg_ssd=True))\n",
    "q"
   ]
  },
  {
   "cell_type": "code",
   "execution_count": 183,
   "metadata": {
    "collapsed": false
   },
   "outputs": [
    {
     "data": {
      "text/plain": [
       "array([ 0.06656,  1.24232,  0.01118,  1.53834,  1.     ,  0.36228,\n",
       "        0.17871,  0.81474,  1.84892,  1.92326])"
      ]
     },
     "execution_count": 183,
     "metadata": {},
     "output_type": "execute_result"
    }
   ],
   "source": [
    "q"
   ]
  },
  {
   "cell_type": "code",
   "execution_count": 179,
   "metadata": {
    "collapsed": false
   },
   "outputs": [],
   "source": [
    "q=q.reshape(2,5)"
   ]
  },
  {
   "cell_type": "code",
   "execution_count": 181,
   "metadata": {
    "collapsed": false
   },
   "outputs": [
    {
     "data": {
      "text/plain": [
       "array([[ 0.06221,  1.16111,  0.01045,  1.43778,  0.93463],\n",
       "       [ 0.10283,  0.05073,  0.23127,  0.52482,  0.54592]])"
      ]
     },
     "execution_count": 181,
     "metadata": {},
     "output_type": "execute_result"
    }
   ],
   "source": [
    "go = redata.query('ttype==\"go\"').response.mean()\n",
    "st = redata.query('ttype==\"stop\"').response.mean()\n",
    "array([[go], [st]])*q"
   ]
  },
  {
   "cell_type": "code",
   "execution_count": 6,
   "metadata": {
    "collapsed": false
   },
   "outputs": [
    {
     "data": {
      "text/plain": [
       "array([ 0.06656,  1.24232,  0.01118,  1.53834,  1.     ])"
      ]
     },
     "execution_count": 6,
     "metadata": {},
     "output_type": "execute_result"
    }
   ],
   "source": [
    "np.median(mjci(cor.rt.values, prob))/mjci(cor.rt.values, prob)"
   ]
  },
  {
   "cell_type": "code",
   "execution_count": 8,
   "metadata": {
    "collapsed": false
   },
   "outputs": [
    {
     "data": {
      "text/plain": [
       "array([  1.     ,   0.17432,  27.91884,   0.70715,  18.73337])"
      ]
     },
     "execution_count": 8,
     "metadata": {},
     "output_type": "execute_result"
    }
   ],
   "source": [
    "\n",
    "np.median(mjci(err.rt.values, prob))/mjci(err.rt.values, prob)"
   ]
  },
  {
   "cell_type": "code",
   "execution_count": null,
   "metadata": {
    "collapsed": true
   },
   "outputs": [],
   "source": []
  }
 ],
 "metadata": {
  "kernelspec": {
   "display_name": "Python 2",
   "language": "python",
   "name": "python2"
  },
  "language_info": {
   "codemirror_mode": {
    "name": "ipython",
    "version": 2
   },
   "file_extension": ".py",
   "mimetype": "text/x-python",
   "name": "python",
   "nbconvert_exporter": "python",
   "pygments_lexer": "ipython2",
   "version": "2.7.10"
  }
 },
 "nbformat": 4,
 "nbformat_minor": 0
}
