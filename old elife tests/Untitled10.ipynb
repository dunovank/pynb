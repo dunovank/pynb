{
 "cells": [
  {
   "cell_type": "code",
   "execution_count": 1,
   "metadata": {
    "collapsed": true
   },
   "outputs": [],
   "source": [
    "from radd import build\n",
    "m=build.Model(data=redata, kind='xradd')"
   ]
  },
  {
   "cell_type": "code",
   "execution_count": null,
   "metadata": {
    "collapsed": false
   },
   "outputs": [
    {
     "name": "stdout",
     "output_type": "stream",
     "text": [
      "basinhopping step 0: f 0.011676\n",
      "basinhopping step 1: f 0.0649152 trial_f 0.0649152 accepted 1  lowest_f 0.011676\n",
      "basinhopping step 2: f 1.18898 trial_f 1.18898 accepted 1  lowest_f 0.011676\n",
      "basinhopping step 3: f 1.18898 trial_f 2.33651 accepted 0  lowest_f 0.011676\n",
      "basinhopping step 4: f 1.07625 trial_f 1.07625 accepted 1  lowest_f 0.011676"
     ]
    }
   ],
   "source": [
    "\n",
    "m.optimize(tol=1.e-4, maxfev=500, multiopt=True)"
   ]
  },
  {
   "cell_type": "code",
   "execution_count": 6,
   "metadata": {
    "collapsed": true
   },
   "outputs": [
    {
     "data": {
      "text/plain": [
       "False"
      ]
     },
     "execution_count": 6,
     "metadata": {},
     "output_type": "execute_result"
    }
   ],
   "source": [
    "m.opt.multiopt"
   ]
  },
  {
   "cell_type": "code",
   "execution_count": null,
   "metadata": {
    "collapsed": true
   },
   "outputs": [],
   "source": []
  }
 ],
 "metadata": {
  "kernelspec": {
   "display_name": "Python 2",
   "language": "python",
   "name": "python2"
  },
  "language_info": {
   "codemirror_mode": {
    "name": "ipython",
    "version": 2
   },
   "file_extension": ".py",
   "mimetype": "text/x-python",
   "name": "python",
   "nbconvert_exporter": "python",
   "pygments_lexer": "ipython2",
   "version": "2.7.10"
  }
 },
 "nbformat": 4,
 "nbformat_minor": 0
}
