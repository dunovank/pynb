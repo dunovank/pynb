{
 "cells": [
  {
   "cell_type": "code",
   "execution_count": 37,
   "metadata": {
    "collapsed": false
   },
   "outputs": [],
   "source": [
    "from __future__ import division\n",
    "import ipyparallel as ipp\n",
    "import numpy as np\n",
    "from numpy import array\n",
    "from numpy.random import sample as rs\n",
    "from numpy import newaxis as na\n",
    "import pandas as pd \n",
    "from scipy.stats import distributions\n",
    "from scipy.stats import sem\n",
    "import seaborn as sns\n",
    "from mpl_toolkits.axes_grid1 import make_axes_locatable\n",
    "\n",
    "from radd.rl import multirace, analyzer, visr\n",
    "from radd import theta\n",
    "from scipy.stats import pearsonr\n",
    "\n",
    "homedir = os.path.expanduser('~')\n",
    "cards = pd.read_csv(os.path.join(homedir, \"Dropbox/Projects/IGTob/IGTCards.csv\"))\n",
    "cards_scaled=cards.copy()*.01\n",
    "cards_normed = (cards-cards.mean().mean())/cards.std().mean()\n",
    "\n",
    "datadf = pd.read_csv(os.path.join(homedir, \"Dropbox/Projects/IGTob/IGT_data.csv\"))\n",
    "dat = datadf.dropna()\n"
   ]
  },
  {
   "cell_type": "code",
   "execution_count": 38,
   "metadata": {
    "collapsed": true
   },
   "outputs": [],
   "source": [
    "def run_parameter_set(env, p={'vd':.7, 'vi':.4, 'a':.4, 'tr':.2, 'xb': 1.5}):\n",
    "    \n",
    "    from radd.rl import multirace\n",
    "    multirace=reload(multirace)\n",
    "    \n",
    "    nagents=20\n",
    "    \n",
    "    ago = np.linspace(.01, .4, 10)\n",
    "    ano = np.array([.01, .2, .4])\n",
    "    a_go = np.tile(ago, ano.size)\n",
    "    a_no = np.tile(ano, ago.size)\n",
    "    betas = np.linspace(.05, 8, 10)\n",
    "    print(a_go.size==a_no.size)\n",
    "    #ag=hs([alpha_dist[k].rvs(10) for k in alpha_dist.keys()]) \n",
    "    #an=hs([alpha_dist[k].rvs(10) for k in alpha_dist.keys()]) \n",
    "    #dfsorted = pd.DataFrame({'g':ag, 'n':an, 'd': ag-an}, index=np.arange(len(ag))).sort_values(by='d')\n",
    "    \n",
    "    #ago = dfsorted['g'].values\n",
    "    #ano = dfsorted['n'].values\n",
    "    \n",
    "    df1, df2 = multirace.run_full_sims(p, env=env, alphas_go=a_go, alphas_no=a_no, betas=betas, nagents=nagents)\n",
    "    return [df1, df2]"
   ]
  },
  {
   "cell_type": "markdown",
   "metadata": {},
   "source": [
    "# Parallelize simulations of $\\alpha, \\beta$ across nagents"
   ]
  },
  {
   "cell_type": "code",
   "execution_count": null,
   "metadata": {
    "collapsed": false
   },
   "outputs": [],
   "source": [
    "c = ipp.Client()\n",
    "dataframes = c[:].apply_sync(run_parameter_set, cards_scaled.copy())"
   ]
  },
  {
   "cell_type": "code",
   "execution_count": 168,
   "metadata": {
    "collapsed": true
   },
   "outputs": [],
   "source": [
    "tdf_all = [dfs[0].copy() for dfs in dataframes]\n",
    "igdf_all = [dfs[1].copy() for dfs in dataframes]"
   ]
  },
  {
   "cell_type": "code",
   "execution_count": null,
   "metadata": {
    "collapsed": true
   },
   "outputs": [],
   "source": [
    "tdf = pd.concat(tdf_all)\n",
    "igdf = pd.concat(igdf_all)"
   ]
  },
  {
   "cell_type": "code",
   "execution_count": null,
   "metadata": {
    "collapsed": true
   },
   "outputs": [],
   "source": [
    "i=1\n",
    "for df in tdf_all[1:]:\n",
    "    tdfi = df.copy()\n",
    "    tdfpre = df[i-1].agent.max()\n",
    "    tdfi.loc[:, 'agent']=tdfi['agent']*tdf_all[i-1]['agent']\n",
    "    tdf_all[i]=tdfi"
   ]
  },
  {
   "cell_type": "code",
   "execution_count": 134,
   "metadata": {
    "collapsed": false
   },
   "outputs": [],
   "source": [
    "trialsdf = tdf.groupby(level=0).mean()\n",
    "igtdf = igdf.groupby(level=0).mean()"
   ]
  },
  {
   "cell_type": "code",
   "execution_count": 135,
   "metadata": {
    "collapsed": false
   },
   "outputs": [],
   "source": [
    "igtdf.loc[:, 'adiff'] = igtdf.a_go - igtdf.a_no"
   ]
  },
  {
   "cell_type": "code",
   "execution_count": 150,
   "metadata": {
    "collapsed": false
   },
   "outputs": [],
   "source": [
    "data = igtdf[igtdf['bgroup']==igtdf.bgroup.min()].pivot_table('Q', 'adiff')"
   ]
  },
  {
   "cell_type": "code",
   "execution_count": 51,
   "metadata": {
    "collapsed": true
   },
   "outputs": [
    {
     "data": {
      "text/plain": [
       "adiff\n",
       "-0.08980    63.018\n",
       "-0.08542    21.876\n",
       "-0.07652    19.392\n",
       "-0.07432    44.854\n",
       "-0.06526    61.908\n",
       "-0.04648    20.225\n",
       "-0.04141    47.865\n",
       "-0.04061    16.148\n",
       "-0.03963    19.544\n",
       "-0.02769     4.905\n",
       "-0.02698    64.680\n",
       "-0.02044    15.770\n",
       "-0.01943    19.833\n",
       "-0.00918     2.625\n",
       "-0.00361    28.340\n",
       "             ...  \n",
       " 0.01610    15.624\n",
       " 0.01662    29.097\n",
       " 0.01962     0.114\n",
       " 0.02296     4.676\n",
       " 0.02641    41.974\n",
       " 0.02736    -1.246\n",
       " 0.03068    62.991\n",
       " 0.03239    -0.192\n",
       " 0.03462    -1.993\n",
       " 0.03531    59.165\n",
       " 0.04219    39.196\n",
       " 0.05270    37.444\n",
       " 0.05558    10.287\n",
       " 0.06520    36.857\n",
       " 0.08568    31.188\n",
       "dtype: float64"
      ]
     },
     "execution_count": 51,
     "metadata": {},
     "output_type": "execute_result"
    }
   ],
   "source": [
    "data.mean(axis=1).sort_index()"
   ]
  },
  {
   "cell_type": "code",
   "execution_count": 170,
   "metadata": {
    "collapsed": false
   },
   "outputs": [],
   "source": [
    "ab_pivot = igtdf.pivot_table('Q', 'adiff', 'bgroup')\n",
    "data = ab_pivot.reset_index(drop=True)\n",
    "\n",
    "ab_pivot2 = igtdf.pivot_table('P', 'adiff', 'bgroup')\n",
    "data2 = ab_pivot2.reset_index(drop=True)"
   ]
  },
  {
   "cell_type": "code",
   "execution_count": 172,
   "metadata": {
    "collapsed": false
   },
   "outputs": [
    {
     "data": {
      "text/html": [
       "<div>\n",
       "<table border=\"1\" class=\"dataframe\">\n",
       "  <thead>\n",
       "    <tr style=\"text-align: right;\">\n",
       "      <th>bgroup</th>\n",
       "      <th>0.0</th>\n",
       "      <th>1.0</th>\n",
       "      <th>2.0</th>\n",
       "      <th>3.0</th>\n",
       "      <th>4.0</th>\n",
       "    </tr>\n",
       "  </thead>\n",
       "  <tbody>\n",
       "    <tr>\n",
       "      <th>0</th>\n",
       "      <td>0.272</td>\n",
       "      <td>15.760</td>\n",
       "      <td>20.744</td>\n",
       "      <td>21.456</td>\n",
       "      <td>22.072</td>\n",
       "    </tr>\n",
       "    <tr>\n",
       "      <th>1</th>\n",
       "      <td>0.632</td>\n",
       "      <td>18.480</td>\n",
       "      <td>26.880</td>\n",
       "      <td>28.424</td>\n",
       "      <td>30.816</td>\n",
       "    </tr>\n",
       "    <tr>\n",
       "      <th>2</th>\n",
       "      <td>0.600</td>\n",
       "      <td>19.096</td>\n",
       "      <td>26.880</td>\n",
       "      <td>33.264</td>\n",
       "      <td>36.336</td>\n",
       "    </tr>\n",
       "    <tr>\n",
       "      <th>3</th>\n",
       "      <td>-0.016</td>\n",
       "      <td>17.728</td>\n",
       "      <td>29.432</td>\n",
       "      <td>35.784</td>\n",
       "      <td>40.672</td>\n",
       "    </tr>\n",
       "    <tr>\n",
       "      <th>4</th>\n",
       "      <td>1.096</td>\n",
       "      <td>16.648</td>\n",
       "      <td>30.624</td>\n",
       "      <td>41.832</td>\n",
       "      <td>46.776</td>\n",
       "    </tr>\n",
       "  </tbody>\n",
       "</table>\n",
       "</div>"
      ],
      "text/plain": [
       "bgroup    0.0     1.0     2.0     3.0     4.0\n",
       "0       0.272  15.760  20.744  21.456  22.072\n",
       "1       0.632  18.480  26.880  28.424  30.816\n",
       "2       0.600  19.096  26.880  33.264  36.336\n",
       "3      -0.016  17.728  29.432  35.784  40.672\n",
       "4       1.096  16.648  30.624  41.832  46.776"
      ]
     },
     "execution_count": 172,
     "metadata": {},
     "output_type": "execute_result"
    }
   ],
   "source": [
    "data2"
   ]
  },
  {
   "cell_type": "code",
   "execution_count": 50,
   "metadata": {
    "collapsed": false
   },
   "outputs": [
    {
     "data": {
      "text/plain": [
       "400"
      ]
     },
     "execution_count": 50,
     "metadata": {},
     "output_type": "execute_result"
    }
   ],
   "source": [
    "ab_pivot.size"
   ]
  },
  {
   "cell_type": "code",
   "execution_count": 43,
   "metadata": {
    "collapsed": false
   },
   "outputs": [],
   "source": [
    "data=data.T"
   ]
  },
  {
   "cell_type": "code",
   "execution_count": 171,
   "metadata": {
    "collapsed": false,
    "scrolled": true
   },
   "outputs": [
    {
     "data": {
      "text/plain": [
       "u'https://plot.ly/~dunovank/108'"
      ]
     },
     "execution_count": 171,
     "metadata": {},
     "output_type": "execute_result"
    }
   ],
   "source": [
    "import plotly.plotly as plotly\n",
    "import plotly.graph_objs as go\n",
    "import plotly as py\n",
    "py.offline.init_notebook_mode() # run at the start of every notebook\n",
    "datam = [go.Surface(z=data.as_matrix()), go.Surface(z=data2.as_matrix())]\n",
    "plotly.plot(go.Figure(data=datam))"
   ]
  },
  {
   "cell_type": "markdown",
   "metadata": {},
   "source": [
    "# Single Sim"
   ]
  },
  {
   "cell_type": "code",
   "execution_count": 121,
   "metadata": {
    "collapsed": false
   },
   "outputs": [],
   "source": [
    "p={'vd':.7, 'vi':.4, 'a':.4, 'tr':.2, 'xb': 1.5}\n",
    "\n",
    "pdict = theta.random_inits(['vd', 'vi', 'tr', 'a', 'xb'])\n",
    "\n",
    "p = deepcopy(pdict)\n",
    "output = multirace.run_trials(p, cards_scaled, nblocks=2, si=.01, a_go=.25, a_no=.01, beta=3)\n",
    "choices, rts, all_traces, qdict, choice_prob, vdhist, vihist = output\n",
    "Pi,Qi = analyzer.igt_scores(np.asarray(choices))"
   ]
  },
  {
   "cell_type": "code",
   "execution_count": 97,
   "metadata": {
    "collapsed": false
   },
   "outputs": [
    {
     "data": {
      "text/plain": [
       "-10"
      ]
     },
     "execution_count": 97,
     "metadata": {},
     "output_type": "execute_result"
    }
   ],
   "source": [
    "Pi"
   ]
  },
  {
   "cell_type": "code",
   "execution_count": null,
   "metadata": {
    "collapsed": true
   },
   "outputs": [],
   "source": [
    "alpha_hi_dist = distributions.uniform(.25, .10)\n",
    "alpha_midhi_dist = distributions.uniform(.15, .10)\n",
    "alpha_midlow_dist = distributions.uniform(.05, .10)\n",
    "alpha_low_dist = distributions.uniform(.005, .05)\n",
    "\n",
    "alpha_dist = {'ahi':alpha_hi_dist, 'amidhi':alpha_midhi_dist, 'amidlow':alpha_midlow_dist, 'alow': alpha_low_dist}"
   ]
  }
 ],
 "metadata": {
  "kernelspec": {
   "display_name": "Python 2",
   "language": "python",
   "name": "python2"
  },
  "language_info": {
   "codemirror_mode": {
    "name": "ipython",
    "version": 2
   },
   "file_extension": ".py",
   "mimetype": "text/x-python",
   "name": "python",
   "nbconvert_exporter": "python",
   "pygments_lexer": "ipython2",
   "version": "2.7.11"
  }
 },
 "nbformat": 4,
 "nbformat_minor": 0
}
