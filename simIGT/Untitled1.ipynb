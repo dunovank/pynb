{
 "cells": [
  {
   "cell_type": "code",
   "execution_count": 1,
   "metadata": {
    "collapsed": true
   },
   "outputs": [],
   "source": [
    "from __future__ import division\n",
    "import ipyparallel as ipp\n",
    "import numpy as np\n",
    "from numpy import array\n",
    "from numpy.random import sample as rs\n",
    "from numpy import newaxis as na\n",
    "import pandas as pd \n",
    "from scipy.stats import distributions\n",
    "from scipy.stats import sem\n",
    "import seaborn as sns\n",
    "from mpl_toolkits.axes_grid1 import make_axes_locatable\n",
    "\n",
    "from radd.rl import multirace, analyzer, visr\n",
    "from radd import theta\n",
    "\n",
    "from scipy.stats import pearsonr\n",
    "from IPython.display import display, Latex\n",
    "\n",
    "temporal_dynamics = lambda p, t: np.cosh(p['xb'][:, na] * t)\n",
    "updateQ = lambda q, winner, r, A: q[winner][-1] + A*(r - q[winner][-1])\n",
    "boltzmann_choiceP = lambda q, name, B: np.exp(B*q[name][-1])/np.sum([np.exp(B*q[k][-1]) for k in q.keys()])\n",
    "\n",
    "homedir = os.path.expanduser('~')\n",
    "cards = pd.read_csv(os.path.join(homedir, \"Dropbox/Projects/IGTob/IGTCards.csv\"))\n",
    "cards_scaled=cards.copy()*.01\n",
    "cards_normed = (cards-cards.mean().mean())/cards.std().mean()\n",
    "\n",
    "datadf = pd.read_csv(os.path.join(homedir, \"Dropbox/Projects/IGTob/IGT_data.csv\"))\n",
    "dat = datadf.dropna()\n"
   ]
  },
  {
   "cell_type": "code",
   "execution_count": 2,
   "metadata": {
    "collapsed": true
   },
   "outputs": [],
   "source": [
    "alpha_hi_dist = distributions.uniform(.25, .10)\n",
    "alpha_midhi_dist = distributions.uniform(.15, .10)\n",
    "alpha_midlow_dist = distributions.uniform(.05, .10)\n",
    "alpha_low_dist = distributions.uniform(.005, .05)\n",
    "\n",
    "alpha_dist = {'ahi':alpha_hi_dist, 'amidhi':alpha_midhi_dist, 'amidlow':alpha_midlow_dist, 'alow': alpha_low_dist}"
   ]
  },
  {
   "cell_type": "code",
   "execution_count": 25,
   "metadata": {
    "collapsed": false
   },
   "outputs": [],
   "source": [
    "if np.argmax([len(alphas_go), len(betas)]):\n",
    "    #betas = np.hstack([betas]*len(alphas))\n",
    "    agroups = np.hstack([np.arange(len(alphas_go))]*len(betas))\n",
    "    bgroups = np.sort(np.hstack([np.arange(len(betas))]*np.max(agroups)))\n",
    "    \n",
    "else:\n",
    "    "
   ]
  },
  {
   "cell_type": "code",
   "execution_count": 27,
   "metadata": {
    "collapsed": false
   },
   "outputs": [
    {
     "data": {
      "text/plain": [
       "3600"
      ]
     },
     "execution_count": 27,
     "metadata": {},
     "output_type": "execute_result"
    }
   ],
   "source": [
    "len(agroups)"
   ]
  },
  {
   "cell_type": "code",
   "execution_count": 58,
   "metadata": {
    "collapsed": true
   },
   "outputs": [],
   "source": [
    "nagents=40\n",
    "\n",
    "ag=hs([alpha_dist[k].rvs(20) for k in alpha_dist.keys()]) \n",
    "an=hs([alpha_dist[k].rvs(20) for k in alpha_dist.keys()]) \n",
    "dfsorted = pd.DataFrame({'g':ag, 'n':an, 'd': ag-an}, index=np.arange(len(ag))).sort_values(by='d')\n",
    "\n",
    "alphas_go = dfsorted['g'].values\n",
    "alphas_no = dfsorted['n'].values\n",
    "betas = np.linspace(.05, 8, 20)\n"
   ]
  },
  {
   "cell_type": "code",
   "execution_count": 26,
   "metadata": {
    "collapsed": false
   },
   "outputs": [
    {
     "data": {
      "text/plain": [
       "array([ 0,  0,  0, ..., 89, 89, 89])"
      ]
     },
     "execution_count": 26,
     "metadata": {},
     "output_type": "execute_result"
    }
   ],
   "source": [
    "bgroups\n"
   ]
  },
  {
   "cell_type": "code",
   "execution_count": 62,
   "metadata": {
    "collapsed": true
   },
   "outputs": [],
   "source": [
    "agroups = np.hstack([np.hstack([np.arange(1, len(alphas_go)+1)]*len(betas))]*nagents)\n",
    "bgroups = np.hstack([np.sort(np.hstack([np.arange(1, len(betas)+1)]*len(alphas_go)))]*nagents)\n",
    "agents = np.sort(np.hstack([np.arange(1, nagents+1)]*len(alphas_go)*len(betas)))"
   ]
  },
  {
   "cell_type": "code",
   "execution_count": 61,
   "metadata": {
    "collapsed": false
   },
   "outputs": [
    {
     "data": {
      "text/plain": [
       "array([ 1,  2,  3, ..., 38, 39, 40])"
      ]
     },
     "execution_count": 61,
     "metadata": {},
     "output_type": "execute_result"
    }
   ],
   "source": [
    "agents"
   ]
  },
  {
   "cell_type": "code",
   "execution_count": 52,
   "metadata": {
    "collapsed": false
   },
   "outputs": [
    {
     "data": {
      "text/plain": [
       "True"
      ]
     },
     "execution_count": 52,
     "metadata": {},
     "output_type": "execute_result"
    }
   ],
   "source": [
    "len(bgroups)==agroups.size==agents.size"
   ]
  },
  {
   "cell_type": "code",
   "execution_count": 50,
   "metadata": {
    "collapsed": false
   },
   "outputs": [
    {
     "data": {
      "text/plain": [
       "2560000"
      ]
     },
     "execution_count": 50,
     "metadata": {},
     "output_type": "execute_result"
    }
   ],
   "source": [
    "agents.size"
   ]
  },
  {
   "cell_type": "code",
   "execution_count": null,
   "metadata": {
    "collapsed": true
   },
   "outputs": [],
   "source": []
  }
 ],
 "metadata": {
  "kernelspec": {
   "display_name": "Python 2",
   "language": "python",
   "name": "python2"
  },
  "language_info": {
   "codemirror_mode": {
    "name": "ipython",
    "version": 2
   },
   "file_extension": ".py",
   "mimetype": "text/x-python",
   "name": "python",
   "nbconvert_exporter": "python",
   "pygments_lexer": "ipython2",
   "version": "2.7.11"
  }
 },
 "nbformat": 4,
 "nbformat_minor": 0
}
