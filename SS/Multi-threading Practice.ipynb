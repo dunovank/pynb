{
 "metadata": {
  "name": "",
  "signature": "sha256:c8719478125d67cea9ecef5b4b9e18ef1a955ac62661a92a04a501e91be193fe"
 },
 "nbformat": 3,
 "nbformat_minor": 0,
 "worksheets": [
  {
   "cells": [
    {
     "cell_type": "heading",
     "level": 1,
     "metadata": {},
     "source": [
      "Multi - Processing/Threading Practice"
     ]
    },
    {
     "cell_type": "code",
     "collapsed": false,
     "input": [
      "from __future__ import division\n",
      "import os\n",
      "from collections import OrderedDict\n",
      "\n",
      "import multiprocessing as mp\n",
      "\n",
      "import seaborn as sns\n",
      "import pandas as pd\n",
      "from radd import qsim, psy, utils, ft, simfx, ss\n",
      "from radd.simfx import *\n",
      "import scipy as scp\n",
      "\n",
      "from lmfit import minimize, Parameters, Parameter, report_fit, Minimizer, fit_report"
     ],
     "language": "python",
     "metadata": {},
     "outputs": [],
     "prompt_number": 1
    },
    {
     "cell_type": "code",
     "collapsed": false,
     "input": [
      "pth=utils.find_path()+\"CoAx/SS/\"\n",
      "\n",
      "rePar=pd.read_csv(pth+\"HDDM/Reactive/vbias_full/vBP_SxStats.csv\")\n",
      "proPar=pd.read_csv(pth+\"HDDM/Proactive/vfull_sx/vfull_HiLo_550_SxStats.csv\")\n",
      "paramdf=proPar.query('subj_idx!=[39, 42, 66, 69]')\n",
      "testdf=proPar.query('subj_idx==[28, 29, 30]')\n",
      "#data=pd.read_csv(pth+\"Proactive/Pro_SxData_tb550.csv\")\n",
      "data=pd.read_csv(pth+\"Reactive/Re_AllData.csv\")\n",
      "\n",
      "ssvdf=pd.read_csv(pth+\"ReSSV_Sims/Nested/800trials_50maxfun/SxFitSummary.csv\", index_col='subj_idx')"
     ],
     "language": "python",
     "metadata": {},
     "outputs": [],
     "prompt_number": 3
    },
    {
     "cell_type": "code",
     "collapsed": false,
     "input": [
      "#ssv_dict={28:-0.75,29:-0.71,30:-1.92,31:-0.65,32:-0.82,33:-0.67,34:-0.61,35:-0.43,36:-1.23,37:-0.55,38:-0.74,40:-1.75,41:-1.62,42:-0.73,43:-0.67,44:-1.41,45:-1.21,47:-0.52,48:-0.74,50:-1.54,51:-0.70,52:-0.53,54:-0.54,55:-0.60,56:-0.51,57:-0.63,58:-0.74,59:-0.72,60:-0.69,61:-1.69,62:-0.69,63:-1.66,65:-0.72,67:-1.39,68:-0.76,70:-0.75,71:-0.84,72:-0.75,73:-0.54,74:-0.75,75:-0.62,76:-1.02,77:-0.89,78:-0.98,79:-1.93,80:-1.38,81:-0.88,82:-1.21,83:-0.72,84:-0.89,85:-1.30,86:-1.03,87:-0.86,88:-1.36,89:-1.07,90:-0.62,95:-1.41,97:-0.70}\n",
      "ssv_dict=ssvdf['ssv'].to_dict()\n",
      "ssv_dict[28]"
     ],
     "language": "python",
     "metadata": {},
     "outputs": [
      {
       "metadata": {},
       "output_type": "pyout",
       "prompt_number": 62,
       "text": [
        "-0.76590400760340216"
       ]
      }
     ],
     "prompt_number": 62
    },
    {
     "cell_type": "code",
     "collapsed": false,
     "input": [
      "def get_sx_params(sxdf):\n",
      "    \n",
      "    params=sxdf['mean']; params.index=sxdf['param']\n",
      "    a=params['a']*.1\n",
      "    z=a*params['z']\n",
      "    \n",
      "    lohi={'lo':params['v(Lo)']*.1,'hi':params['v(Hi)']*.1}\n",
      "    pGo_list=np.array([0,.2,.4,.6,.8,1])\n",
      "    tb=.550\n",
      "    \n",
      "    sp={'ssd':450,'ssTer':0.0, 'ssTer_var':0.0, 'pGo':0.0}\n",
      "    gp={'a':a, 'v':0.0, 'z':z, 'Ter':params['t'], 'eta':params['sv'], 'st':0.0, 'sz':0.0}\n",
      "    \n",
      "    return [gp, sp, lohi]"
     ],
     "language": "python",
     "metadata": {},
     "outputs": [],
     "prompt_number": 4
    },
    {
     "cell_type": "code",
     "collapsed": false,
     "input": [
      "ss=reload(ss); qsim=reload(qsim); simfx=reload(simfx); utils=reload(utils); ft=reload(ft)\n",
      "\n",
      "def ssvMinFunc2(p, gp, sp, ydata, ntrials=5000):\n",
      "    \n",
      "    #print\"drift\", p[\"pg\"+str(int(sp['pGo']*100))].value\n",
      "    gp['v']=p[\"pg\"+str(int(sp['pGo']*100))].value\n",
      "    \n",
      "    simdf=ss.set_model(gParams=gp, sParams=sp, mfx=simfx.sim_radd, ntrials=ntrials, timebound=.550, \n",
      "                     depHyper=True, visual=False, task='ssPro', return_all_beh=True, condition_str='bsl') \n",
      "\n",
      "    ymodel=round(np.array([len(simdf[simdf['choice']=='stop'])/len(simdf)]), 5)\n",
      "    #print \"ymodel\", ymodel\n",
      "    \n",
      "    residuals=round(np.abs(ymodel-ydata), 5)\n",
      "    #print residuals\n",
      "    return residuals"
     ],
     "language": "python",
     "metadata": {},
     "outputs": [],
     "prompt_number": 5
    },
    {
     "cell_type": "code",
     "collapsed": false,
     "input": [
      "sx_n=0; n=len(proPar.subj_idx.unique())"
     ],
     "language": "python",
     "metadata": {},
     "outputs": []
    },
    {
     "cell_type": "code",
     "collapsed": false,
     "input": [
      "def fitsx_drift_rate(output, sx, data, params=proPar, ntrials=100, maxiter=50):\n",
      "    \n",
      "    #get sx data\n",
      "    sxdata=data[data['subj_idx']==sx]\n",
      "\n",
      "    #get sx params\n",
      "    gp, sp, lohi = get_sx_params(params)\n",
      "    sp['mu_ss']=ssv_dict[sx]\n",
      "    \n",
      "    pGo_list=np.array([0,.2,.4,.6,.8,1])\n",
      "    pb=utils.PBinJ(len(pGo_list), color='seagreen')\n",
      "    fits={}\n",
      "    \n",
      "    x=0\n",
      "    for i, pg in enumerate(pGo_list):\n",
      "        \n",
      "        x+=1\n",
      "        \n",
      "        if pg==0:\n",
      "            pinit=.8\n",
      "        else:\n",
      "            pinit=p[pgstr].value+.2\n",
      "\n",
      "        pgstr=\"pg\"+str(int(pg*100))\n",
      "\n",
      "        p=Parameters()\n",
      "        p.add(pgstr, value=pinit, min=.5, max=3.0)\n",
      "\n",
      "        df=sxdata[sxdata['pGo']==pg]\n",
      "        ydata=round(np.array(len(df[df['response']==0])/len(df)), 5)\n",
      "        sp['pGo']=pg\n",
      "\n",
      "        out = Minimizer(ssvMinFunc2, p, fcn_args=(gp,sp,ydata,ntrials), \n",
      "                kws={\"full_output\":True, \"disp\":True, \"retall\":True}) \n",
      "        out.prepare_fit()\n",
      "        out.fmin(maxfun=maxiter, ftol=1.e-4, xtol=1.e-4)\n",
      "        #print and store fit stats for current conditions\n",
      "        print \"sx:%s\\t pGo:%s\\t drift:%.3f\\t residual:%.3f\" % (str(sx), str(pg), p[pgstr].value, out.residual)\n",
      "        fits[pgstr]={'v':p[pgstr].value, \"redchi\":out.redchi, \"chisq\":out.chisqr, \"residuals\":out.residual}\n",
      "\n",
      "        #update progress\n",
      "        pb.update_i(x)\n",
      "    \n",
      "    output.put({sx:pdict})"
     ],
     "language": "python",
     "metadata": {},
     "outputs": [],
     "prompt_number": 41
    },
    {
     "cell_type": "code",
     "collapsed": false,
     "input": [
      "# Define an output queue\n",
      "output = mp.Queue()"
     ],
     "language": "python",
     "metadata": {},
     "outputs": [],
     "prompt_number": 48
    },
    {
     "cell_type": "code",
     "collapsed": false,
     "input": [
      "# Setup a list of processes that we want to run\n",
      "#target: function to multithread\n",
      "#args: arguments for function\n",
      "\n",
      "\n",
      "\n",
      "processes=[mp.Process(target=fitsx_drift_rate, args=(output, sx, data, sxdf, 50, 5)) for sx, sxdf in testdf.groupby('subj_idx')]"
     ],
     "language": "python",
     "metadata": {},
     "outputs": [],
     "prompt_number": 49
    },
    {
     "cell_type": "code",
     "collapsed": false,
     "input": [
      "# Run processes\n",
      "for p in processes:\n",
      "    p.start()\n",
      "    \n",
      "# Exit the completed processes\n",
      "for p in processes:\n",
      "    p.join()"
     ],
     "language": "python",
     "metadata": {},
     "outputs": [],
     "prompt_number": 50
    },
    {
     "cell_type": "code",
     "collapsed": false,
     "input": [
      "# Exit the completed processes\n",
      "for p in processes:\n",
      "    p.join()"
     ],
     "language": "python",
     "metadata": {},
     "outputs": [
      {
       "output_type": "stream",
       "stream": "stdout",
       "text": [
        "sx:28\t pGo:0.0\t drift:0.836\t residual:0.014\n",
        "sx:29\t pGo:0.0\t drift:0.800\t residual:0.160\n",
        "sx:30\t pGo:0.0\t drift:0.800\t residual:0.000\n",
        "sx:28\t pGo:0.2\t drift:1.067\t residual:0.227\n",
        "sx:29\t pGo:0.2\t drift:1.000\t residual:0.209\n",
        "sx:30\t pGo:0.2\t drift:1.000\t residual:0.139\n",
        "sx:28\t pGo:0.4\t drift:1.408\t residual:0.146\n",
        "sx:29\t pGo:0.4\t drift:1.175\t residual:0.092\n",
        "sx:30\t pGo:0.4\t drift:1.200\t residual:0.370\n",
        "sx:28\t pGo:0.6\t drift:1.615\t residual:0.025\n",
        "sx:29\t pGo:0.6\t drift:1.356\t residual:0.056\n",
        "sx:30\t pGo:0.6\t drift:1.400\t residual:0.649\n",
        "sx:28\t pGo:0.8\t drift:1.828\t residual:0.107\n",
        "sx:29\t pGo:0.8\t drift:1.556\t residual:0.120\n",
        "sx:30\t pGo:0.8\t drift:1.607\t residual:0.879\n",
        "sx:28\t pGo:1.0\t drift:2.028\t residual:0.020\n",
        "sx:29\t pGo:1.0\t drift:1.756\t residual:0.020\n",
        "sx:30\t pGo:1.0\t drift:1.807\t residual:0.960\n"
       ]
      }
     ],
     "prompt_number": 51
    },
    {
     "cell_type": "code",
     "collapsed": false,
     "input": [
      "results = [output.get() for p in processes]"
     ],
     "language": "python",
     "metadata": {},
     "outputs": [],
     "prompt_number": 52
    },
    {
     "cell_type": "code",
     "collapsed": false,
     "input": [
      "zlist=[]\n",
      "for x in results:\n",
      "    zlist.append(pd.Series(x))\n",
      "pd.concat(zlist)"
     ],
     "language": "python",
     "metadata": {},
     "outputs": [
      {
       "metadata": {},
       "output_type": "pyout",
       "prompt_number": 55,
       "text": [
        "30    {u'pg80': {u'redchi': 0.87946, u'chisq': 0.879...\n",
        "29    {u'pg80': {u'redchi': 0.12, u'chisq': 0.12, u'...\n",
        "28    {u'pg80': {u'redchi': 0.10701, u'chisq': 0.107...\n",
        "dtype: object"
       ]
      }
     ],
     "prompt_number": 55
    },
    {
     "cell_type": "code",
     "collapsed": false,
     "input": [
      "paramdf.subj_idx.unique()"
     ],
     "language": "python",
     "metadata": {},
     "outputs": [
      {
       "metadata": {},
       "output_type": "pyout",
       "prompt_number": 64,
       "text": [
        "array([28, 29, 30, 31, 32, 33, 34, 35, 36, 37, 38, 40, 41, 43, 44, 45, 47,\n",
        "       48, 50, 51, 52, 54, 55, 56, 57, 58, 59, 60, 61, 62, 63, 65, 67, 68,\n",
        "       70, 71, 72, 73, 74, 75, 76, 77, 78, 79, 80, 81, 82, 83, 84, 85, 86,\n",
        "       87, 88, 89, 90, 95, 97])"
       ]
      }
     ],
     "prompt_number": 64
    },
    {
     "cell_type": "code",
     "collapsed": false,
     "input": [
      "for sx, sxdf in data.groupby('subj_idx'):\n",
      "    print \"sx:%s ntrials:%i\" %(str(sx), len(sxdf))"
     ],
     "language": "python",
     "metadata": {},
     "outputs": [
      {
       "output_type": "stream",
       "stream": "stdout",
       "text": [
        "sx:28 ntrials:442\n",
        "sx:29 ntrials:442\n",
        "sx:30 ntrials:442\n",
        "sx:31 ntrials:442\n",
        "sx:32 ntrials:442\n",
        "sx:33 ntrials:442\n",
        "sx:34 ntrials:442\n",
        "sx:35 ntrials:442\n",
        "sx:36 ntrials:442\n",
        "sx:37 ntrials:442\n",
        "sx:38 ntrials:442\n",
        "sx:39 ntrials:442\n",
        "sx:40 ntrials:442\n",
        "sx:41 ntrials:442\n",
        "sx:42 ntrials:442\n",
        "sx:43 ntrials:442\n",
        "sx:44 ntrials:442\n",
        "sx:45 ntrials:442\n",
        "sx:47 ntrials:442\n",
        "sx:48 ntrials:442\n",
        "sx:50 ntrials:442\n",
        "sx:51 ntrials:442\n",
        "sx:52 ntrials:442\n",
        "sx:54 ntrials:442\n",
        "sx:55 ntrials:442\n",
        "sx:56 ntrials:442\n",
        "sx:57 ntrials:442\n",
        "sx:58 ntrials:442\n",
        "sx:59 ntrials:442\n",
        "sx:60 ntrials:442\n",
        "sx:61 ntrials:442\n",
        "sx:62 ntrials:442\n",
        "sx:63 ntrials:442\n",
        "sx:65 ntrials:442\n",
        "sx:66 ntrials:442\n",
        "sx:67 ntrials:442\n",
        "sx:68 ntrials:442\n",
        "sx:69 ntrials:442\n",
        "sx:70 ntrials:442\n",
        "sx:71 ntrials:442\n",
        "sx:72 ntrials:442\n",
        "sx:73 ntrials:442\n",
        "sx:74 ntrials:442\n",
        "sx:75 ntrials:442\n",
        "sx:76 ntrials:442\n",
        "sx:77 ntrials:442\n",
        "sx:78 ntrials:442\n",
        "sx:79 ntrials:442\n",
        "sx:80 ntrials:442\n",
        "sx:81 ntrials:442\n",
        "sx:82 ntrials:442\n",
        "sx:83 ntrials:442\n",
        "sx:84 ntrials:442\n",
        "sx:85 ntrials:442\n",
        "sx:86 ntrials:442\n",
        "sx:87 ntrials:442\n",
        "sx:88 ntrials:442\n",
        "sx:89 ntrials:442\n",
        "sx:90 ntrials:442\n",
        "sx:95 ntrials:442\n",
        "sx:97 ntrials:442\n"
       ]
      }
     ],
     "prompt_number": 4
    },
    {
     "cell_type": "code",
     "collapsed": false,
     "input": [],
     "language": "python",
     "metadata": {},
     "outputs": []
    }
   ],
   "metadata": {}
  }
 ]
}