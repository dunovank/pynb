{
 "metadata": {
  "name": "",
  "signature": "sha256:1812fa3529e540448d39f7d97eae0eb05185131580d5d7362eb2ebcea136f072"
 },
 "nbformat": 3,
 "nbformat_minor": 0,
 "worksheets": [
  {
   "cells": [
    {
     "cell_type": "code",
     "collapsed": false,
     "input": [
      "import uuid\n",
      "import time\n",
      "from IPython.display import HTML, Javascript, display\n",
      "\n",
      "divid = str(uuid.uuid4())\n",
      "\n",
      "pb = HTML(\n",
      "\"\"\"\n",
      "<div style=\"border: 1px solid black; width:500px\">\n",
      "  <div id=\"%s\" style=\"background-color:blue; width:0%%\">&nbsp;</div>\n",
      "</div> \n",
      "\"\"\" % divid)\n",
      "display(pb)\n",
      "for i in range(1,101):\n",
      "    time.sleep(0.1)\n",
      "    \n",
      "    display(Javascript(\"$('div#%s').width('%i%%')\" % (divid, i)))"
     ],
     "language": "python",
     "metadata": {},
     "outputs": [
      {
       "html": [
        "\n",
        "<div style=\"border: 1px solid black; width:500px\">\n",
        "  <div id=\"85b3ea0e-37b4-403e-9097-7e5fc6198075\" style=\"background-color:blue; width:0%\">&nbsp;</div>\n",
        "</div> \n"
       ],
       "metadata": {},
       "output_type": "display_data",
       "text": [
        "<IPython.core.display.HTML at 0x7fd7beb4c410>"
       ]
      },
      {
       "javascript": [
        "$('div#85b3ea0e-37b4-403e-9097-7e5fc6198075').width('1%')"
       ],
       "metadata": {},
       "output_type": "display_data",
       "text": [
        "<IPython.core.display.Javascript at 0x7fd7beb4c4d0>"
       ]
      },
      {
       "javascript": [
        "$('div#85b3ea0e-37b4-403e-9097-7e5fc6198075').width('2%')"
       ],
       "metadata": {},
       "output_type": "display_data",
       "text": [
        "<IPython.core.display.Javascript at 0x7fd7beb4c490>"
       ]
      },
      {
       "javascript": [
        "$('div#85b3ea0e-37b4-403e-9097-7e5fc6198075').width('3%')"
       ],
       "metadata": {},
       "output_type": "display_data",
       "text": [
        "<IPython.core.display.Javascript at 0x7fd7beb4c390>"
       ]
      },
      {
       "javascript": [
        "$('div#85b3ea0e-37b4-403e-9097-7e5fc6198075').width('4%')"
       ],
       "metadata": {},
       "output_type": "display_data",
       "text": [
        "<IPython.core.display.Javascript at 0x7fd7beb4c690>"
       ]
      },
      {
       "javascript": [
        "$('div#85b3ea0e-37b4-403e-9097-7e5fc6198075').width('5%')"
       ],
       "metadata": {},
       "output_type": "display_data",
       "text": [
        "<IPython.core.display.Javascript at 0x7fd7beb4c610>"
       ]
      },
      {
       "javascript": [
        "$('div#85b3ea0e-37b4-403e-9097-7e5fc6198075').width('6%')"
       ],
       "metadata": {},
       "output_type": "display_data",
       "text": [
        "<IPython.core.display.Javascript at 0x7fd7beb4c7d0>"
       ]
      },
      {
       "javascript": [
        "$('div#85b3ea0e-37b4-403e-9097-7e5fc6198075').width('7%')"
       ],
       "metadata": {},
       "output_type": "display_data",
       "text": [
        "<IPython.core.display.Javascript at 0x7fd7beb4c6d0>"
       ]
      },
      {
       "javascript": [
        "$('div#85b3ea0e-37b4-403e-9097-7e5fc6198075').width('8%')"
       ],
       "metadata": {},
       "output_type": "display_data",
       "text": [
        "<IPython.core.display.Javascript at 0x7fd7beb4c710>"
       ]
      },
      {
       "javascript": [
        "$('div#85b3ea0e-37b4-403e-9097-7e5fc6198075').width('9%')"
       ],
       "metadata": {},
       "output_type": "display_data",
       "text": [
        "<IPython.core.display.Javascript at 0x7fd7beb4c750>"
       ]
      },
      {
       "javascript": [
        "$('div#85b3ea0e-37b4-403e-9097-7e5fc6198075').width('10%')"
       ],
       "metadata": {},
       "output_type": "display_data",
       "text": [
        "<IPython.core.display.Javascript at 0x7fd7beb4c790>"
       ]
      },
      {
       "javascript": [
        "$('div#85b3ea0e-37b4-403e-9097-7e5fc6198075').width('11%')"
       ],
       "metadata": {},
       "output_type": "display_data",
       "text": [
        "<IPython.core.display.Javascript at 0x7fd7beb4c810>"
       ]
      },
      {
       "javascript": [
        "$('div#85b3ea0e-37b4-403e-9097-7e5fc6198075').width('12%')"
       ],
       "metadata": {},
       "output_type": "display_data",
       "text": [
        "<IPython.core.display.Javascript at 0x7fd7beb4c850>"
       ]
      },
      {
       "javascript": [
        "$('div#85b3ea0e-37b4-403e-9097-7e5fc6198075').width('13%')"
       ],
       "metadata": {},
       "output_type": "display_data",
       "text": [
        "<IPython.core.display.Javascript at 0x7fd7beb4c890>"
       ]
      },
      {
       "javascript": [
        "$('div#85b3ea0e-37b4-403e-9097-7e5fc6198075').width('14%')"
       ],
       "metadata": {},
       "output_type": "display_data",
       "text": [
        "<IPython.core.display.Javascript at 0x7fd7beb4c8d0>"
       ]
      },
      {
       "javascript": [
        "$('div#85b3ea0e-37b4-403e-9097-7e5fc6198075').width('15%')"
       ],
       "metadata": {},
       "output_type": "display_data",
       "text": [
        "<IPython.core.display.Javascript at 0x7fd7beb4c910>"
       ]
      },
      {
       "javascript": [
        "$('div#85b3ea0e-37b4-403e-9097-7e5fc6198075').width('16%')"
       ],
       "metadata": {},
       "output_type": "display_data",
       "text": [
        "<IPython.core.display.Javascript at 0x7fd7beb4c950>"
       ]
      },
      {
       "javascript": [
        "$('div#85b3ea0e-37b4-403e-9097-7e5fc6198075').width('17%')"
       ],
       "metadata": {},
       "output_type": "display_data",
       "text": [
        "<IPython.core.display.Javascript at 0x7fd7beb4c990>"
       ]
      },
      {
       "javascript": [
        "$('div#85b3ea0e-37b4-403e-9097-7e5fc6198075').width('18%')"
       ],
       "metadata": {},
       "output_type": "display_data",
       "text": [
        "<IPython.core.display.Javascript at 0x7fd7beb4c9d0>"
       ]
      },
      {
       "javascript": [
        "$('div#85b3ea0e-37b4-403e-9097-7e5fc6198075').width('19%')"
       ],
       "metadata": {},
       "output_type": "display_data",
       "text": [
        "<IPython.core.display.Javascript at 0x7fd7beb4ca10>"
       ]
      },
      {
       "javascript": [
        "$('div#85b3ea0e-37b4-403e-9097-7e5fc6198075').width('20%')"
       ],
       "metadata": {},
       "output_type": "display_data",
       "text": [
        "<IPython.core.display.Javascript at 0x7fd7beb4ca50>"
       ]
      },
      {
       "javascript": [
        "$('div#85b3ea0e-37b4-403e-9097-7e5fc6198075').width('21%')"
       ],
       "metadata": {},
       "output_type": "display_data",
       "text": [
        "<IPython.core.display.Javascript at 0x7fd7beb4ca90>"
       ]
      },
      {
       "javascript": [
        "$('div#85b3ea0e-37b4-403e-9097-7e5fc6198075').width('22%')"
       ],
       "metadata": {},
       "output_type": "display_data",
       "text": [
        "<IPython.core.display.Javascript at 0x7fd7beb4cad0>"
       ]
      },
      {
       "javascript": [
        "$('div#85b3ea0e-37b4-403e-9097-7e5fc6198075').width('23%')"
       ],
       "metadata": {},
       "output_type": "display_data",
       "text": [
        "<IPython.core.display.Javascript at 0x7fd7beb4cb10>"
       ]
      },
      {
       "javascript": [
        "$('div#85b3ea0e-37b4-403e-9097-7e5fc6198075').width('24%')"
       ],
       "metadata": {},
       "output_type": "display_data",
       "text": [
        "<IPython.core.display.Javascript at 0x7fd7beb4cb50>"
       ]
      },
      {
       "javascript": [
        "$('div#85b3ea0e-37b4-403e-9097-7e5fc6198075').width('25%')"
       ],
       "metadata": {},
       "output_type": "display_data",
       "text": [
        "<IPython.core.display.Javascript at 0x7fd7beb4cb90>"
       ]
      },
      {
       "javascript": [
        "$('div#85b3ea0e-37b4-403e-9097-7e5fc6198075').width('26%')"
       ],
       "metadata": {},
       "output_type": "display_data",
       "text": [
        "<IPython.core.display.Javascript at 0x7fd7beb4cbd0>"
       ]
      },
      {
       "javascript": [
        "$('div#85b3ea0e-37b4-403e-9097-7e5fc6198075').width('27%')"
       ],
       "metadata": {},
       "output_type": "display_data",
       "text": [
        "<IPython.core.display.Javascript at 0x7fd7beb4cc10>"
       ]
      },
      {
       "javascript": [
        "$('div#85b3ea0e-37b4-403e-9097-7e5fc6198075').width('28%')"
       ],
       "metadata": {},
       "output_type": "display_data",
       "text": [
        "<IPython.core.display.Javascript at 0x7fd7beb4cc50>"
       ]
      },
      {
       "javascript": [
        "$('div#85b3ea0e-37b4-403e-9097-7e5fc6198075').width('29%')"
       ],
       "metadata": {},
       "output_type": "display_data",
       "text": [
        "<IPython.core.display.Javascript at 0x7fd7beb4cc90>"
       ]
      },
      {
       "javascript": [
        "$('div#85b3ea0e-37b4-403e-9097-7e5fc6198075').width('30%')"
       ],
       "metadata": {},
       "output_type": "display_data",
       "text": [
        "<IPython.core.display.Javascript at 0x7fd7beb4ccd0>"
       ]
      },
      {
       "javascript": [
        "$('div#85b3ea0e-37b4-403e-9097-7e5fc6198075').width('31%')"
       ],
       "metadata": {},
       "output_type": "display_data",
       "text": [
        "<IPython.core.display.Javascript at 0x7fd7beb4cd10>"
       ]
      },
      {
       "javascript": [
        "$('div#85b3ea0e-37b4-403e-9097-7e5fc6198075').width('32%')"
       ],
       "metadata": {},
       "output_type": "display_data",
       "text": [
        "<IPython.core.display.Javascript at 0x7fd7beb4cd50>"
       ]
      },
      {
       "javascript": [
        "$('div#85b3ea0e-37b4-403e-9097-7e5fc6198075').width('33%')"
       ],
       "metadata": {},
       "output_type": "display_data",
       "text": [
        "<IPython.core.display.Javascript at 0x7fd7beb4cd90>"
       ]
      },
      {
       "javascript": [
        "$('div#85b3ea0e-37b4-403e-9097-7e5fc6198075').width('34%')"
       ],
       "metadata": {},
       "output_type": "display_data",
       "text": [
        "<IPython.core.display.Javascript at 0x7fd7beb4cdd0>"
       ]
      },
      {
       "javascript": [
        "$('div#85b3ea0e-37b4-403e-9097-7e5fc6198075').width('35%')"
       ],
       "metadata": {},
       "output_type": "display_data",
       "text": [
        "<IPython.core.display.Javascript at 0x7fd7beb4ce10>"
       ]
      },
      {
       "javascript": [
        "$('div#85b3ea0e-37b4-403e-9097-7e5fc6198075').width('36%')"
       ],
       "metadata": {},
       "output_type": "display_data",
       "text": [
        "<IPython.core.display.Javascript at 0x7fd7beb4ce50>"
       ]
      },
      {
       "javascript": [
        "$('div#85b3ea0e-37b4-403e-9097-7e5fc6198075').width('37%')"
       ],
       "metadata": {},
       "output_type": "display_data",
       "text": [
        "<IPython.core.display.Javascript at 0x7fd7beb4ce90>"
       ]
      },
      {
       "javascript": [
        "$('div#85b3ea0e-37b4-403e-9097-7e5fc6198075').width('38%')"
       ],
       "metadata": {},
       "output_type": "display_data",
       "text": [
        "<IPython.core.display.Javascript at 0x7fd7beb4ced0>"
       ]
      },
      {
       "javascript": [
        "$('div#85b3ea0e-37b4-403e-9097-7e5fc6198075').width('39%')"
       ],
       "metadata": {},
       "output_type": "display_data",
       "text": [
        "<IPython.core.display.Javascript at 0x7fd7beb4cf10>"
       ]
      },
      {
       "javascript": [
        "$('div#85b3ea0e-37b4-403e-9097-7e5fc6198075').width('40%')"
       ],
       "metadata": {},
       "output_type": "display_data",
       "text": [
        "<IPython.core.display.Javascript at 0x7fd7beb4cf50>"
       ]
      },
      {
       "javascript": [
        "$('div#85b3ea0e-37b4-403e-9097-7e5fc6198075').width('41%')"
       ],
       "metadata": {},
       "output_type": "display_data",
       "text": [
        "<IPython.core.display.Javascript at 0x7fd7beb4cf90>"
       ]
      },
      {
       "javascript": [
        "$('div#85b3ea0e-37b4-403e-9097-7e5fc6198075').width('42%')"
       ],
       "metadata": {},
       "output_type": "display_data",
       "text": [
        "<IPython.core.display.Javascript at 0x7fd7beb4cfd0>"
       ]
      },
      {
       "javascript": [
        "$('div#85b3ea0e-37b4-403e-9097-7e5fc6198075').width('43%')"
       ],
       "metadata": {},
       "output_type": "display_data",
       "text": [
        "<IPython.core.display.Javascript at 0x7fd7beb4c650>"
       ]
      },
      {
       "javascript": [
        "$('div#85b3ea0e-37b4-403e-9097-7e5fc6198075').width('44%')"
       ],
       "metadata": {},
       "output_type": "display_data",
       "text": [
        "<IPython.core.display.Javascript at 0x7fd7beb60090>"
       ]
      },
      {
       "javascript": [
        "$('div#85b3ea0e-37b4-403e-9097-7e5fc6198075').width('45%')"
       ],
       "metadata": {},
       "output_type": "display_data",
       "text": [
        "<IPython.core.display.Javascript at 0x7fd7beb600d0>"
       ]
      },
      {
       "javascript": [
        "$('div#85b3ea0e-37b4-403e-9097-7e5fc6198075').width('46%')"
       ],
       "metadata": {},
       "output_type": "display_data",
       "text": [
        "<IPython.core.display.Javascript at 0x7fd7beb60110>"
       ]
      },
      {
       "javascript": [
        "$('div#85b3ea0e-37b4-403e-9097-7e5fc6198075').width('47%')"
       ],
       "metadata": {},
       "output_type": "display_data",
       "text": [
        "<IPython.core.display.Javascript at 0x7fd7beb60150>"
       ]
      },
      {
       "javascript": [
        "$('div#85b3ea0e-37b4-403e-9097-7e5fc6198075').width('48%')"
       ],
       "metadata": {},
       "output_type": "display_data",
       "text": [
        "<IPython.core.display.Javascript at 0x7fd7beb60190>"
       ]
      },
      {
       "javascript": [
        "$('div#85b3ea0e-37b4-403e-9097-7e5fc6198075').width('49%')"
       ],
       "metadata": {},
       "output_type": "display_data",
       "text": [
        "<IPython.core.display.Javascript at 0x7fd7beb601d0>"
       ]
      },
      {
       "javascript": [
        "$('div#85b3ea0e-37b4-403e-9097-7e5fc6198075').width('50%')"
       ],
       "metadata": {},
       "output_type": "display_data",
       "text": [
        "<IPython.core.display.Javascript at 0x7fd7beb60210>"
       ]
      },
      {
       "javascript": [
        "$('div#85b3ea0e-37b4-403e-9097-7e5fc6198075').width('51%')"
       ],
       "metadata": {},
       "output_type": "display_data",
       "text": [
        "<IPython.core.display.Javascript at 0x7fd7beb60250>"
       ]
      },
      {
       "javascript": [
        "$('div#85b3ea0e-37b4-403e-9097-7e5fc6198075').width('52%')"
       ],
       "metadata": {},
       "output_type": "display_data",
       "text": [
        "<IPython.core.display.Javascript at 0x7fd7beb60290>"
       ]
      },
      {
       "javascript": [
        "$('div#85b3ea0e-37b4-403e-9097-7e5fc6198075').width('53%')"
       ],
       "metadata": {},
       "output_type": "display_data",
       "text": [
        "<IPython.core.display.Javascript at 0x7fd7beb602d0>"
       ]
      },
      {
       "javascript": [
        "$('div#85b3ea0e-37b4-403e-9097-7e5fc6198075').width('54%')"
       ],
       "metadata": {},
       "output_type": "display_data",
       "text": [
        "<IPython.core.display.Javascript at 0x7fd7beb60310>"
       ]
      },
      {
       "javascript": [
        "$('div#85b3ea0e-37b4-403e-9097-7e5fc6198075').width('55%')"
       ],
       "metadata": {},
       "output_type": "display_data",
       "text": [
        "<IPython.core.display.Javascript at 0x7fd7beb4c650>"
       ]
      },
      {
       "javascript": [
        "$('div#85b3ea0e-37b4-403e-9097-7e5fc6198075').width('56%')"
       ],
       "metadata": {},
       "output_type": "display_data",
       "text": [
        "<IPython.core.display.Javascript at 0x7fd7beb4cfd0>"
       ]
      },
      {
       "javascript": [
        "$('div#85b3ea0e-37b4-403e-9097-7e5fc6198075').width('57%')"
       ],
       "metadata": {},
       "output_type": "display_data",
       "text": [
        "<IPython.core.display.Javascript at 0x7fd7beb4cf90>"
       ]
      },
      {
       "javascript": [
        "$('div#85b3ea0e-37b4-403e-9097-7e5fc6198075').width('58%')"
       ],
       "metadata": {},
       "output_type": "display_data",
       "text": [
        "<IPython.core.display.Javascript at 0x7fd7beb4cf50>"
       ]
      },
      {
       "javascript": [
        "$('div#85b3ea0e-37b4-403e-9097-7e5fc6198075').width('59%')"
       ],
       "metadata": {},
       "output_type": "display_data",
       "text": [
        "<IPython.core.display.Javascript at 0x7fd7beb4ced0>"
       ]
      },
      {
       "javascript": [
        "$('div#85b3ea0e-37b4-403e-9097-7e5fc6198075').width('60%')"
       ],
       "metadata": {},
       "output_type": "display_data",
       "text": [
        "<IPython.core.display.Javascript at 0x7fd7beb4ce90>"
       ]
      },
      {
       "javascript": [
        "$('div#85b3ea0e-37b4-403e-9097-7e5fc6198075').width('61%')"
       ],
       "metadata": {},
       "output_type": "display_data",
       "text": [
        "<IPython.core.display.Javascript at 0x7fd7beb4ce50>"
       ]
      },
      {
       "javascript": [
        "$('div#85b3ea0e-37b4-403e-9097-7e5fc6198075').width('62%')"
       ],
       "metadata": {},
       "output_type": "display_data",
       "text": [
        "<IPython.core.display.Javascript at 0x7fd7beb4ce10>"
       ]
      },
      {
       "javascript": [
        "$('div#85b3ea0e-37b4-403e-9097-7e5fc6198075').width('63%')"
       ],
       "metadata": {},
       "output_type": "display_data",
       "text": [
        "<IPython.core.display.Javascript at 0x7fd7beb4cdd0>"
       ]
      },
      {
       "javascript": [
        "$('div#85b3ea0e-37b4-403e-9097-7e5fc6198075').width('64%')"
       ],
       "metadata": {},
       "output_type": "display_data",
       "text": [
        "<IPython.core.display.Javascript at 0x7fd7beb4cd90>"
       ]
      },
      {
       "javascript": [
        "$('div#85b3ea0e-37b4-403e-9097-7e5fc6198075').width('65%')"
       ],
       "metadata": {},
       "output_type": "display_data",
       "text": [
        "<IPython.core.display.Javascript at 0x7fd7beb4cd50>"
       ]
      },
      {
       "javascript": [
        "$('div#85b3ea0e-37b4-403e-9097-7e5fc6198075').width('66%')"
       ],
       "metadata": {},
       "output_type": "display_data",
       "text": [
        "<IPython.core.display.Javascript at 0x7fd7beb4cd10>"
       ]
      },
      {
       "javascript": [
        "$('div#85b3ea0e-37b4-403e-9097-7e5fc6198075').width('67%')"
       ],
       "metadata": {},
       "output_type": "display_data",
       "text": [
        "<IPython.core.display.Javascript at 0x7fd7beb4ccd0>"
       ]
      },
      {
       "javascript": [
        "$('div#85b3ea0e-37b4-403e-9097-7e5fc6198075').width('68%')"
       ],
       "metadata": {},
       "output_type": "display_data",
       "text": [
        "<IPython.core.display.Javascript at 0x7fd7beb4cc90>"
       ]
      },
      {
       "javascript": [
        "$('div#85b3ea0e-37b4-403e-9097-7e5fc6198075').width('69%')"
       ],
       "metadata": {},
       "output_type": "display_data",
       "text": [
        "<IPython.core.display.Javascript at 0x7fd7beb4cc50>"
       ]
      },
      {
       "javascript": [
        "$('div#85b3ea0e-37b4-403e-9097-7e5fc6198075').width('70%')"
       ],
       "metadata": {},
       "output_type": "display_data",
       "text": [
        "<IPython.core.display.Javascript at 0x7fd7beb4cc10>"
       ]
      },
      {
       "javascript": [
        "$('div#85b3ea0e-37b4-403e-9097-7e5fc6198075').width('71%')"
       ],
       "metadata": {},
       "output_type": "display_data",
       "text": [
        "<IPython.core.display.Javascript at 0x7fd7beb4cbd0>"
       ]
      },
      {
       "javascript": [
        "$('div#85b3ea0e-37b4-403e-9097-7e5fc6198075').width('72%')"
       ],
       "metadata": {},
       "output_type": "display_data",
       "text": [
        "<IPython.core.display.Javascript at 0x7fd7beb4cb90>"
       ]
      },
      {
       "javascript": [
        "$('div#85b3ea0e-37b4-403e-9097-7e5fc6198075').width('73%')"
       ],
       "metadata": {},
       "output_type": "display_data",
       "text": [
        "<IPython.core.display.Javascript at 0x7fd7beb4cb50>"
       ]
      },
      {
       "javascript": [
        "$('div#85b3ea0e-37b4-403e-9097-7e5fc6198075').width('74%')"
       ],
       "metadata": {},
       "output_type": "display_data",
       "text": [
        "<IPython.core.display.Javascript at 0x7fd7beb4cb10>"
       ]
      },
      {
       "javascript": [
        "$('div#85b3ea0e-37b4-403e-9097-7e5fc6198075').width('75%')"
       ],
       "metadata": {},
       "output_type": "display_data",
       "text": [
        "<IPython.core.display.Javascript at 0x7fd7beb4cad0>"
       ]
      },
      {
       "javascript": [
        "$('div#85b3ea0e-37b4-403e-9097-7e5fc6198075').width('76%')"
       ],
       "metadata": {},
       "output_type": "display_data",
       "text": [
        "<IPython.core.display.Javascript at 0x7fd7beb4ca90>"
       ]
      },
      {
       "javascript": [
        "$('div#85b3ea0e-37b4-403e-9097-7e5fc6198075').width('77%')"
       ],
       "metadata": {},
       "output_type": "display_data",
       "text": [
        "<IPython.core.display.Javascript at 0x7fd7beb4ca50>"
       ]
      },
      {
       "javascript": [
        "$('div#85b3ea0e-37b4-403e-9097-7e5fc6198075').width('78%')"
       ],
       "metadata": {},
       "output_type": "display_data",
       "text": [
        "<IPython.core.display.Javascript at 0x7fd7beb4ca10>"
       ]
      },
      {
       "javascript": [
        "$('div#85b3ea0e-37b4-403e-9097-7e5fc6198075').width('79%')"
       ],
       "metadata": {},
       "output_type": "display_data",
       "text": [
        "<IPython.core.display.Javascript at 0x7fd7beb4c9d0>"
       ]
      },
      {
       "javascript": [
        "$('div#85b3ea0e-37b4-403e-9097-7e5fc6198075').width('80%')"
       ],
       "metadata": {},
       "output_type": "display_data",
       "text": [
        "<IPython.core.display.Javascript at 0x7fd7beb4c990>"
       ]
      },
      {
       "javascript": [
        "$('div#85b3ea0e-37b4-403e-9097-7e5fc6198075').width('81%')"
       ],
       "metadata": {},
       "output_type": "display_data",
       "text": [
        "<IPython.core.display.Javascript at 0x7fd7beb4c950>"
       ]
      },
      {
       "javascript": [
        "$('div#85b3ea0e-37b4-403e-9097-7e5fc6198075').width('82%')"
       ],
       "metadata": {},
       "output_type": "display_data",
       "text": [
        "<IPython.core.display.Javascript at 0x7fd7beb4c910>"
       ]
      },
      {
       "javascript": [
        "$('div#85b3ea0e-37b4-403e-9097-7e5fc6198075').width('83%')"
       ],
       "metadata": {},
       "output_type": "display_data",
       "text": [
        "<IPython.core.display.Javascript at 0x7fd7beb4c8d0>"
       ]
      },
      {
       "javascript": [
        "$('div#85b3ea0e-37b4-403e-9097-7e5fc6198075').width('84%')"
       ],
       "metadata": {},
       "output_type": "display_data",
       "text": [
        "<IPython.core.display.Javascript at 0x7fd7beb4c890>"
       ]
      },
      {
       "javascript": [
        "$('div#85b3ea0e-37b4-403e-9097-7e5fc6198075').width('85%')"
       ],
       "metadata": {},
       "output_type": "display_data",
       "text": [
        "<IPython.core.display.Javascript at 0x7fd7beb4c850>"
       ]
      },
      {
       "javascript": [
        "$('div#85b3ea0e-37b4-403e-9097-7e5fc6198075').width('86%')"
       ],
       "metadata": {},
       "output_type": "display_data",
       "text": [
        "<IPython.core.display.Javascript at 0x7fd7beb4c810>"
       ]
      },
      {
       "javascript": [
        "$('div#85b3ea0e-37b4-403e-9097-7e5fc6198075').width('87%')"
       ],
       "metadata": {},
       "output_type": "display_data",
       "text": [
        "<IPython.core.display.Javascript at 0x7fd7beb4c790>"
       ]
      },
      {
       "javascript": [
        "$('div#85b3ea0e-37b4-403e-9097-7e5fc6198075').width('88%')"
       ],
       "metadata": {},
       "output_type": "display_data",
       "text": [
        "<IPython.core.display.Javascript at 0x7fd7beb4c750>"
       ]
      },
      {
       "javascript": [
        "$('div#85b3ea0e-37b4-403e-9097-7e5fc6198075').width('89%')"
       ],
       "metadata": {},
       "output_type": "display_data",
       "text": [
        "<IPython.core.display.Javascript at 0x7fd7beb4c710>"
       ]
      },
      {
       "javascript": [
        "$('div#85b3ea0e-37b4-403e-9097-7e5fc6198075').width('90%')"
       ],
       "metadata": {},
       "output_type": "display_data",
       "text": [
        "<IPython.core.display.Javascript at 0x7fd7beb4c6d0>"
       ]
      },
      {
       "javascript": [
        "$('div#85b3ea0e-37b4-403e-9097-7e5fc6198075').width('91%')"
       ],
       "metadata": {},
       "output_type": "display_data",
       "text": [
        "<IPython.core.display.Javascript at 0x7fd7beb4c7d0>"
       ]
      },
      {
       "javascript": [
        "$('div#85b3ea0e-37b4-403e-9097-7e5fc6198075').width('92%')"
       ],
       "metadata": {},
       "output_type": "display_data",
       "text": [
        "<IPython.core.display.Javascript at 0x7fd7beb4c610>"
       ]
      },
      {
       "javascript": [
        "$('div#85b3ea0e-37b4-403e-9097-7e5fc6198075').width('93%')"
       ],
       "metadata": {},
       "output_type": "display_data",
       "text": [
        "<IPython.core.display.Javascript at 0x7fd7beb4c690>"
       ]
      },
      {
       "javascript": [
        "$('div#85b3ea0e-37b4-403e-9097-7e5fc6198075').width('94%')"
       ],
       "metadata": {},
       "output_type": "display_data",
       "text": [
        "<IPython.core.display.Javascript at 0x7fd7beb4c390>"
       ]
      },
      {
       "javascript": [
        "$('div#85b3ea0e-37b4-403e-9097-7e5fc6198075').width('95%')"
       ],
       "metadata": {},
       "output_type": "display_data",
       "text": [
        "<IPython.core.display.Javascript at 0x7fd7beb4c490>"
       ]
      },
      {
       "javascript": [
        "$('div#85b3ea0e-37b4-403e-9097-7e5fc6198075').width('96%')"
       ],
       "metadata": {},
       "output_type": "display_data",
       "text": [
        "<IPython.core.display.Javascript at 0x7fd7beb4c4d0>"
       ]
      },
      {
       "javascript": [
        "$('div#85b3ea0e-37b4-403e-9097-7e5fc6198075').width('97%')"
       ],
       "metadata": {},
       "output_type": "display_data",
       "text": [
        "<IPython.core.display.Javascript at 0x7fd7beb4cf10>"
       ]
      },
      {
       "javascript": [
        "$('div#85b3ea0e-37b4-403e-9097-7e5fc6198075').width('98%')"
       ],
       "metadata": {},
       "output_type": "display_data",
       "text": [
        "<IPython.core.display.Javascript at 0x7fd7beb56090>"
       ]
      },
      {
       "javascript": [
        "$('div#85b3ea0e-37b4-403e-9097-7e5fc6198075').width('99%')"
       ],
       "metadata": {},
       "output_type": "display_data",
       "text": [
        "<IPython.core.display.Javascript at 0x7fd7beb560d0>"
       ]
      },
      {
       "javascript": [
        "$('div#85b3ea0e-37b4-403e-9097-7e5fc6198075').width('100%')"
       ],
       "metadata": {},
       "output_type": "display_data",
       "text": [
        "<IPython.core.display.Javascript at 0x7fd7beb56110>"
       ]
      }
     ],
     "prompt_number": 1
    },
    {
     "cell_type": "code",
     "collapsed": false,
     "input": [
      "class BlueBar:\n",
      "    \n",
      "    def __init__(self, n, color='blue'):\n",
      "        self.divid=str(uuid.uuid4())\n",
      "        self.pb=HTML(\"\"\"\n",
      "            <div style=\"border: 1px solid black; width:500px\">\n",
      "            <div id=\"%s\" style=\"background-color:%s; width:0%%\">&nbsp;</div>\n",
      "            </div> \n",
      "            \"\"\" % (self.divid, color))\n",
      "        \n",
      "        self.display=display\n",
      "    \n",
      "    def update(self, n):\n",
      "        display(self.pb)\n",
      "        for i in range(n):\n",
      "            self.update_i(i)\n",
      "            \n",
      "    def update_i(self, i):\n",
      "        time.sleep(0.05)\n",
      "        self.display(Javascript(\"$('div#%s').width('%i%%')\" % (self.divid, i)))"
     ],
     "language": "python",
     "metadata": {},
     "outputs": [],
     "prompt_number": 15
    },
    {
     "cell_type": "code",
     "collapsed": false,
     "input": [
      "x=BlueBar(101, color='red')"
     ],
     "language": "python",
     "metadata": {},
     "outputs": [],
     "prompt_number": 16
    },
    {
     "cell_type": "code",
     "collapsed": false,
     "input": [
      "x.update(101)"
     ],
     "language": "python",
     "metadata": {},
     "outputs": [
      {
       "html": [
        "\n",
        "            <div style=\"border: 1px solid black; width:500px\">\n",
        "            <div id=\"b9d7892f-16cf-4a23-b781-d9ebcce600f3\" style=\"background-color:red; width:0%\">&nbsp;</div>\n",
        "            </div> \n",
        "            "
       ],
       "metadata": {},
       "output_type": "display_data",
       "text": [
        "<IPython.core.display.HTML at 0x7fd7beb3d590>"
       ]
      },
      {
       "javascript": [
        "$('div#b9d7892f-16cf-4a23-b781-d9ebcce600f3').width('0%')"
       ],
       "metadata": {},
       "output_type": "display_data",
       "text": [
        "<IPython.core.display.Javascript at 0x7fd7beb3d450>"
       ]
      },
      {
       "javascript": [
        "$('div#b9d7892f-16cf-4a23-b781-d9ebcce600f3').width('1%')"
       ],
       "metadata": {},
       "output_type": "display_data",
       "text": [
        "<IPython.core.display.Javascript at 0x7fd7beb3d650>"
       ]
      },
      {
       "javascript": [
        "$('div#b9d7892f-16cf-4a23-b781-d9ebcce600f3').width('2%')"
       ],
       "metadata": {},
       "output_type": "display_data",
       "text": [
        "<IPython.core.display.Javascript at 0x7fd7beb3d690>"
       ]
      },
      {
       "javascript": [
        "$('div#b9d7892f-16cf-4a23-b781-d9ebcce600f3').width('3%')"
       ],
       "metadata": {},
       "output_type": "display_data",
       "text": [
        "<IPython.core.display.Javascript at 0x7fd7beb4c690>"
       ]
      },
      {
       "javascript": [
        "$('div#b9d7892f-16cf-4a23-b781-d9ebcce600f3').width('4%')"
       ],
       "metadata": {},
       "output_type": "display_data",
       "text": [
        "<IPython.core.display.Javascript at 0x7fd7beb3d850>"
       ]
      },
      {
       "javascript": [
        "$('div#b9d7892f-16cf-4a23-b781-d9ebcce600f3').width('5%')"
       ],
       "metadata": {},
       "output_type": "display_data",
       "text": [
        "<IPython.core.display.Javascript at 0x7fd7beb3d550>"
       ]
      },
      {
       "javascript": [
        "$('div#b9d7892f-16cf-4a23-b781-d9ebcce600f3').width('6%')"
       ],
       "metadata": {},
       "output_type": "display_data",
       "text": [
        "<IPython.core.display.Javascript at 0x7fd7beb3d390>"
       ]
      },
      {
       "javascript": [
        "$('div#b9d7892f-16cf-4a23-b781-d9ebcce600f3').width('7%')"
       ],
       "metadata": {},
       "output_type": "display_data",
       "text": [
        "<IPython.core.display.Javascript at 0x7fd7beb3d510>"
       ]
      },
      {
       "javascript": [
        "$('div#b9d7892f-16cf-4a23-b781-d9ebcce600f3').width('8%')"
       ],
       "metadata": {},
       "output_type": "display_data",
       "text": [
        "<IPython.core.display.Javascript at 0x7fd7beb3d790>"
       ]
      },
      {
       "javascript": [
        "$('div#b9d7892f-16cf-4a23-b781-d9ebcce600f3').width('9%')"
       ],
       "metadata": {},
       "output_type": "display_data",
       "text": [
        "<IPython.core.display.Javascript at 0x7fd7beb3d890>"
       ]
      },
      {
       "javascript": [
        "$('div#b9d7892f-16cf-4a23-b781-d9ebcce600f3').width('10%')"
       ],
       "metadata": {},
       "output_type": "display_data",
       "text": [
        "<IPython.core.display.Javascript at 0x7fd7beb3d8d0>"
       ]
      },
      {
       "javascript": [
        "$('div#b9d7892f-16cf-4a23-b781-d9ebcce600f3').width('11%')"
       ],
       "metadata": {},
       "output_type": "display_data",
       "text": [
        "<IPython.core.display.Javascript at 0x7fd7beb3d910>"
       ]
      },
      {
       "javascript": [
        "$('div#b9d7892f-16cf-4a23-b781-d9ebcce600f3').width('12%')"
       ],
       "metadata": {},
       "output_type": "display_data",
       "text": [
        "<IPython.core.display.Javascript at 0x7fd7beb3d950>"
       ]
      },
      {
       "javascript": [
        "$('div#b9d7892f-16cf-4a23-b781-d9ebcce600f3').width('13%')"
       ],
       "metadata": {},
       "output_type": "display_data",
       "text": [
        "<IPython.core.display.Javascript at 0x7fd7beb3d990>"
       ]
      },
      {
       "javascript": [
        "$('div#b9d7892f-16cf-4a23-b781-d9ebcce600f3').width('14%')"
       ],
       "metadata": {},
       "output_type": "display_data",
       "text": [
        "<IPython.core.display.Javascript at 0x7fd7beb3d9d0>"
       ]
      },
      {
       "javascript": [
        "$('div#b9d7892f-16cf-4a23-b781-d9ebcce600f3').width('15%')"
       ],
       "metadata": {},
       "output_type": "display_data",
       "text": [
        "<IPython.core.display.Javascript at 0x7fd7beb3da10>"
       ]
      },
      {
       "javascript": [
        "$('div#b9d7892f-16cf-4a23-b781-d9ebcce600f3').width('16%')"
       ],
       "metadata": {},
       "output_type": "display_data",
       "text": [
        "<IPython.core.display.Javascript at 0x7fd7beb3d7d0>"
       ]
      },
      {
       "javascript": [
        "$('div#b9d7892f-16cf-4a23-b781-d9ebcce600f3').width('17%')"
       ],
       "metadata": {},
       "output_type": "display_data",
       "text": [
        "<IPython.core.display.Javascript at 0x7fd7beb3d810>"
       ]
      },
      {
       "javascript": [
        "$('div#b9d7892f-16cf-4a23-b781-d9ebcce600f3').width('18%')"
       ],
       "metadata": {},
       "output_type": "display_data",
       "text": [
        "<IPython.core.display.Javascript at 0x7fd7beb3da50>"
       ]
      },
      {
       "javascript": [
        "$('div#b9d7892f-16cf-4a23-b781-d9ebcce600f3').width('19%')"
       ],
       "metadata": {},
       "output_type": "display_data",
       "text": [
        "<IPython.core.display.Javascript at 0x7fd7beb3db10>"
       ]
      },
      {
       "javascript": [
        "$('div#b9d7892f-16cf-4a23-b781-d9ebcce600f3').width('20%')"
       ],
       "metadata": {},
       "output_type": "display_data",
       "text": [
        "<IPython.core.display.Javascript at 0x7fd7beb3da90>"
       ]
      },
      {
       "javascript": [
        "$('div#b9d7892f-16cf-4a23-b781-d9ebcce600f3').width('21%')"
       ],
       "metadata": {},
       "output_type": "display_data",
       "text": [
        "<IPython.core.display.Javascript at 0x7fd7beb3dad0>"
       ]
      },
      {
       "javascript": [
        "$('div#b9d7892f-16cf-4a23-b781-d9ebcce600f3').width('22%')"
       ],
       "metadata": {},
       "output_type": "display_data",
       "text": [
        "<IPython.core.display.Javascript at 0x7fd7beb3db50>"
       ]
      },
      {
       "javascript": [
        "$('div#b9d7892f-16cf-4a23-b781-d9ebcce600f3').width('23%')"
       ],
       "metadata": {},
       "output_type": "display_data",
       "text": [
        "<IPython.core.display.Javascript at 0x7fd7beb3db90>"
       ]
      },
      {
       "javascript": [
        "$('div#b9d7892f-16cf-4a23-b781-d9ebcce600f3').width('24%')"
       ],
       "metadata": {},
       "output_type": "display_data",
       "text": [
        "<IPython.core.display.Javascript at 0x7fd7beb3dbd0>"
       ]
      },
      {
       "javascript": [
        "$('div#b9d7892f-16cf-4a23-b781-d9ebcce600f3').width('25%')"
       ],
       "metadata": {},
       "output_type": "display_data",
       "text": [
        "<IPython.core.display.Javascript at 0x7fd7beb3dc10>"
       ]
      },
      {
       "javascript": [
        "$('div#b9d7892f-16cf-4a23-b781-d9ebcce600f3').width('26%')"
       ],
       "metadata": {},
       "output_type": "display_data",
       "text": [
        "<IPython.core.display.Javascript at 0x7fd7beb3dc50>"
       ]
      },
      {
       "javascript": [
        "$('div#b9d7892f-16cf-4a23-b781-d9ebcce600f3').width('27%')"
       ],
       "metadata": {},
       "output_type": "display_data",
       "text": [
        "<IPython.core.display.Javascript at 0x7fd7beb3dc90>"
       ]
      },
      {
       "javascript": [
        "$('div#b9d7892f-16cf-4a23-b781-d9ebcce600f3').width('28%')"
       ],
       "metadata": {},
       "output_type": "display_data",
       "text": [
        "<IPython.core.display.Javascript at 0x7fd7beb3dcd0>"
       ]
      },
      {
       "javascript": [
        "$('div#b9d7892f-16cf-4a23-b781-d9ebcce600f3').width('29%')"
       ],
       "metadata": {},
       "output_type": "display_data",
       "text": [
        "<IPython.core.display.Javascript at 0x7fd7beb3dd10>"
       ]
      },
      {
       "javascript": [
        "$('div#b9d7892f-16cf-4a23-b781-d9ebcce600f3').width('30%')"
       ],
       "metadata": {},
       "output_type": "display_data",
       "text": [
        "<IPython.core.display.Javascript at 0x7fd7beb3dd50>"
       ]
      },
      {
       "javascript": [
        "$('div#b9d7892f-16cf-4a23-b781-d9ebcce600f3').width('31%')"
       ],
       "metadata": {},
       "output_type": "display_data",
       "text": [
        "<IPython.core.display.Javascript at 0x7fd7bf634d90>"
       ]
      },
      {
       "javascript": [
        "$('div#b9d7892f-16cf-4a23-b781-d9ebcce600f3').width('32%')"
       ],
       "metadata": {},
       "output_type": "display_data",
       "text": [
        "<IPython.core.display.Javascript at 0x7fd7beb4c690>"
       ]
      },
      {
       "javascript": [
        "$('div#b9d7892f-16cf-4a23-b781-d9ebcce600f3').width('33%')"
       ],
       "metadata": {},
       "output_type": "display_data",
       "text": [
        "<IPython.core.display.Javascript at 0x7fd7beb4ccd0>"
       ]
      },
      {
       "javascript": [
        "$('div#b9d7892f-16cf-4a23-b781-d9ebcce600f3').width('34%')"
       ],
       "metadata": {},
       "output_type": "display_data",
       "text": [
        "<IPython.core.display.Javascript at 0x7fd7beb4c490>"
       ]
      },
      {
       "javascript": [
        "$('div#b9d7892f-16cf-4a23-b781-d9ebcce600f3').width('35%')"
       ],
       "metadata": {},
       "output_type": "display_data",
       "text": [
        "<IPython.core.display.Javascript at 0x7fd7beb4c610>"
       ]
      },
      {
       "javascript": [
        "$('div#b9d7892f-16cf-4a23-b781-d9ebcce600f3').width('36%')"
       ],
       "metadata": {},
       "output_type": "display_data",
       "text": [
        "<IPython.core.display.Javascript at 0x7fd7beb4cc10>"
       ]
      },
      {
       "javascript": [
        "$('div#b9d7892f-16cf-4a23-b781-d9ebcce600f3').width('37%')"
       ],
       "metadata": {},
       "output_type": "display_data",
       "text": [
        "<IPython.core.display.Javascript at 0x7fd7beb4cad0>"
       ]
      },
      {
       "javascript": [
        "$('div#b9d7892f-16cf-4a23-b781-d9ebcce600f3').width('38%')"
       ],
       "metadata": {},
       "output_type": "display_data",
       "text": [
        "<IPython.core.display.Javascript at 0x7fd7beb4cb10>"
       ]
      },
      {
       "javascript": [
        "$('div#b9d7892f-16cf-4a23-b781-d9ebcce600f3').width('39%')"
       ],
       "metadata": {},
       "output_type": "display_data",
       "text": [
        "<IPython.core.display.Javascript at 0x7fd7beb4cd10>"
       ]
      },
      {
       "javascript": [
        "$('div#b9d7892f-16cf-4a23-b781-d9ebcce600f3').width('40%')"
       ],
       "metadata": {},
       "output_type": "display_data",
       "text": [
        "<IPython.core.display.Javascript at 0x7fd7beb4cd50>"
       ]
      },
      {
       "javascript": [
        "$('div#b9d7892f-16cf-4a23-b781-d9ebcce600f3').width('41%')"
       ],
       "metadata": {},
       "output_type": "display_data",
       "text": [
        "<IPython.core.display.Javascript at 0x7fd7beb4cd90>"
       ]
      },
      {
       "javascript": [
        "$('div#b9d7892f-16cf-4a23-b781-d9ebcce600f3').width('42%')"
       ],
       "metadata": {},
       "output_type": "display_data",
       "text": [
        "<IPython.core.display.Javascript at 0x7fd7beb4cc50>"
       ]
      },
      {
       "javascript": [
        "$('div#b9d7892f-16cf-4a23-b781-d9ebcce600f3').width('43%')"
       ],
       "metadata": {},
       "output_type": "display_data",
       "text": [
        "<IPython.core.display.Javascript at 0x7fd7beb4cc90>"
       ]
      },
      {
       "javascript": [
        "$('div#b9d7892f-16cf-4a23-b781-d9ebcce600f3').width('44%')"
       ],
       "metadata": {},
       "output_type": "display_data",
       "text": [
        "<IPython.core.display.Javascript at 0x7fd7beb4cdd0>"
       ]
      },
      {
       "javascript": [
        "$('div#b9d7892f-16cf-4a23-b781-d9ebcce600f3').width('45%')"
       ],
       "metadata": {},
       "output_type": "display_data",
       "text": [
        "<IPython.core.display.Javascript at 0x7fd7beb4ce90>"
       ]
      },
      {
       "javascript": [
        "$('div#b9d7892f-16cf-4a23-b781-d9ebcce600f3').width('46%')"
       ],
       "metadata": {},
       "output_type": "display_data",
       "text": [
        "<IPython.core.display.Javascript at 0x7fd7beb4ce10>"
       ]
      },
      {
       "javascript": [
        "$('div#b9d7892f-16cf-4a23-b781-d9ebcce600f3').width('47%')"
       ],
       "metadata": {},
       "output_type": "display_data",
       "text": [
        "<IPython.core.display.Javascript at 0x7fd7beb4ce50>"
       ]
      },
      {
       "javascript": [
        "$('div#b9d7892f-16cf-4a23-b781-d9ebcce600f3').width('48%')"
       ],
       "metadata": {},
       "output_type": "display_data",
       "text": [
        "<IPython.core.display.Javascript at 0x7fd7beb4ced0>"
       ]
      },
      {
       "javascript": [
        "$('div#b9d7892f-16cf-4a23-b781-d9ebcce600f3').width('49%')"
       ],
       "metadata": {},
       "output_type": "display_data",
       "text": [
        "<IPython.core.display.Javascript at 0x7fd7beb4cf50>"
       ]
      },
      {
       "javascript": [
        "$('div#b9d7892f-16cf-4a23-b781-d9ebcce600f3').width('50%')"
       ],
       "metadata": {},
       "output_type": "display_data",
       "text": [
        "<IPython.core.display.Javascript at 0x7fd7d4824b50>"
       ]
      },
      {
       "javascript": [
        "$('div#b9d7892f-16cf-4a23-b781-d9ebcce600f3').width('51%')"
       ],
       "metadata": {},
       "output_type": "display_data",
       "text": [
        "<IPython.core.display.Javascript at 0x7fd7beb4cfd0>"
       ]
      },
      {
       "javascript": [
        "$('div#b9d7892f-16cf-4a23-b781-d9ebcce600f3').width('52%')"
       ],
       "metadata": {},
       "output_type": "display_data",
       "text": [
        "<IPython.core.display.Javascript at 0x7fd7beb4c650>"
       ]
      },
      {
       "javascript": [
        "$('div#b9d7892f-16cf-4a23-b781-d9ebcce600f3').width('53%')"
       ],
       "metadata": {},
       "output_type": "display_data",
       "text": [
        "<IPython.core.display.Javascript at 0x7fd7beb4cf90>"
       ]
      },
      {
       "javascript": [
        "$('div#b9d7892f-16cf-4a23-b781-d9ebcce600f3').width('54%')"
       ],
       "metadata": {},
       "output_type": "display_data",
       "text": [
        "<IPython.core.display.Javascript at 0x7fd7beb4cf10>"
       ]
      },
      {
       "javascript": [
        "$('div#b9d7892f-16cf-4a23-b781-d9ebcce600f3').width('55%')"
       ],
       "metadata": {},
       "output_type": "display_data",
       "text": [
        "<IPython.core.display.Javascript at 0x7fd7beb1cfd0>"
       ]
      },
      {
       "javascript": [
        "$('div#b9d7892f-16cf-4a23-b781-d9ebcce600f3').width('56%')"
       ],
       "metadata": {},
       "output_type": "display_data",
       "text": [
        "<IPython.core.display.Javascript at 0x7fd7beb1cf50>"
       ]
      },
      {
       "javascript": [
        "$('div#b9d7892f-16cf-4a23-b781-d9ebcce600f3').width('57%')"
       ],
       "metadata": {},
       "output_type": "display_data",
       "text": [
        "<IPython.core.display.Javascript at 0x7fd7beb1cf90>"
       ]
      },
      {
       "javascript": [
        "$('div#b9d7892f-16cf-4a23-b781-d9ebcce600f3').width('58%')"
       ],
       "metadata": {},
       "output_type": "display_data",
       "text": [
        "<IPython.core.display.Javascript at 0x7fd7beb3dd90>"
       ]
      },
      {
       "javascript": [
        "$('div#b9d7892f-16cf-4a23-b781-d9ebcce600f3').width('59%')"
       ],
       "metadata": {},
       "output_type": "display_data",
       "text": [
        "<IPython.core.display.Javascript at 0x7fd7beb3de10>"
       ]
      },
      {
       "javascript": [
        "$('div#b9d7892f-16cf-4a23-b781-d9ebcce600f3').width('60%')"
       ],
       "metadata": {},
       "output_type": "display_data",
       "text": [
        "<IPython.core.display.Javascript at 0x7fd7beb3de50>"
       ]
      },
      {
       "javascript": [
        "$('div#b9d7892f-16cf-4a23-b781-d9ebcce600f3').width('61%')"
       ],
       "metadata": {},
       "output_type": "display_data",
       "text": [
        "<IPython.core.display.Javascript at 0x7fd7beb3de90>"
       ]
      },
      {
       "javascript": [
        "$('div#b9d7892f-16cf-4a23-b781-d9ebcce600f3').width('62%')"
       ],
       "metadata": {},
       "output_type": "display_data",
       "text": [
        "<IPython.core.display.Javascript at 0x7fd7beb3d6d0>"
       ]
      },
      {
       "javascript": [
        "$('div#b9d7892f-16cf-4a23-b781-d9ebcce600f3').width('63%')"
       ],
       "metadata": {},
       "output_type": "display_data",
       "text": [
        "<IPython.core.display.Javascript at 0x7fd7beb3ddd0>"
       ]
      },
      {
       "javascript": [
        "$('div#b9d7892f-16cf-4a23-b781-d9ebcce600f3').width('64%')"
       ],
       "metadata": {},
       "output_type": "display_data",
       "text": [
        "<IPython.core.display.Javascript at 0x7fd7beb3ded0>"
       ]
      },
      {
       "javascript": [
        "$('div#b9d7892f-16cf-4a23-b781-d9ebcce600f3').width('65%')"
       ],
       "metadata": {},
       "output_type": "display_data",
       "text": [
        "<IPython.core.display.Javascript at 0x7fd7beb3dd10>"
       ]
      },
      {
       "javascript": [
        "$('div#b9d7892f-16cf-4a23-b781-d9ebcce600f3').width('66%')"
       ],
       "metadata": {},
       "output_type": "display_data",
       "text": [
        "<IPython.core.display.Javascript at 0x7fd7beb3dcd0>"
       ]
      },
      {
       "javascript": [
        "$('div#b9d7892f-16cf-4a23-b781-d9ebcce600f3').width('67%')"
       ],
       "metadata": {},
       "output_type": "display_data",
       "text": [
        "<IPython.core.display.Javascript at 0x7fd7beb3dc90>"
       ]
      },
      {
       "javascript": [
        "$('div#b9d7892f-16cf-4a23-b781-d9ebcce600f3').width('68%')"
       ],
       "metadata": {},
       "output_type": "display_data",
       "text": [
        "<IPython.core.display.Javascript at 0x7fd7beb3dc50>"
       ]
      },
      {
       "javascript": [
        "$('div#b9d7892f-16cf-4a23-b781-d9ebcce600f3').width('69%')"
       ],
       "metadata": {},
       "output_type": "display_data",
       "text": [
        "<IPython.core.display.Javascript at 0x7fd7beb3dc10>"
       ]
      },
      {
       "javascript": [
        "$('div#b9d7892f-16cf-4a23-b781-d9ebcce600f3').width('70%')"
       ],
       "metadata": {},
       "output_type": "display_data",
       "text": [
        "<IPython.core.display.Javascript at 0x7fd7beb3dbd0>"
       ]
      },
      {
       "javascript": [
        "$('div#b9d7892f-16cf-4a23-b781-d9ebcce600f3').width('71%')"
       ],
       "metadata": {},
       "output_type": "display_data",
       "text": [
        "<IPython.core.display.Javascript at 0x7fd7beb3db90>"
       ]
      },
      {
       "javascript": [
        "$('div#b9d7892f-16cf-4a23-b781-d9ebcce600f3').width('72%')"
       ],
       "metadata": {},
       "output_type": "display_data",
       "text": [
        "<IPython.core.display.Javascript at 0x7fd7beb3db50>"
       ]
      },
      {
       "javascript": [
        "$('div#b9d7892f-16cf-4a23-b781-d9ebcce600f3').width('73%')"
       ],
       "metadata": {},
       "output_type": "display_data",
       "text": [
        "<IPython.core.display.Javascript at 0x7fd7beb3dad0>"
       ]
      },
      {
       "javascript": [
        "$('div#b9d7892f-16cf-4a23-b781-d9ebcce600f3').width('74%')"
       ],
       "metadata": {},
       "output_type": "display_data",
       "text": [
        "<IPython.core.display.Javascript at 0x7fd7beb3da90>"
       ]
      },
      {
       "javascript": [
        "$('div#b9d7892f-16cf-4a23-b781-d9ebcce600f3').width('75%')"
       ],
       "metadata": {},
       "output_type": "display_data",
       "text": [
        "<IPython.core.display.Javascript at 0x7fd7beb3db10>"
       ]
      },
      {
       "javascript": [
        "$('div#b9d7892f-16cf-4a23-b781-d9ebcce600f3').width('76%')"
       ],
       "metadata": {},
       "output_type": "display_data",
       "text": [
        "<IPython.core.display.Javascript at 0x7fd7beb3da50>"
       ]
      },
      {
       "javascript": [
        "$('div#b9d7892f-16cf-4a23-b781-d9ebcce600f3').width('77%')"
       ],
       "metadata": {},
       "output_type": "display_data",
       "text": [
        "<IPython.core.display.Javascript at 0x7fd7beb3d810>"
       ]
      },
      {
       "javascript": [
        "$('div#b9d7892f-16cf-4a23-b781-d9ebcce600f3').width('78%')"
       ],
       "metadata": {},
       "output_type": "display_data",
       "text": [
        "<IPython.core.display.Javascript at 0x7fd7beb3d7d0>"
       ]
      },
      {
       "javascript": [
        "$('div#b9d7892f-16cf-4a23-b781-d9ebcce600f3').width('79%')"
       ],
       "metadata": {},
       "output_type": "display_data",
       "text": [
        "<IPython.core.display.Javascript at 0x7fd7beb3da10>"
       ]
      },
      {
       "javascript": [
        "$('div#b9d7892f-16cf-4a23-b781-d9ebcce600f3').width('80%')"
       ],
       "metadata": {},
       "output_type": "display_data",
       "text": [
        "<IPython.core.display.Javascript at 0x7fd7beb3d9d0>"
       ]
      },
      {
       "javascript": [
        "$('div#b9d7892f-16cf-4a23-b781-d9ebcce600f3').width('81%')"
       ],
       "metadata": {},
       "output_type": "display_data",
       "text": [
        "<IPython.core.display.Javascript at 0x7fd7beb3d990>"
       ]
      },
      {
       "javascript": [
        "$('div#b9d7892f-16cf-4a23-b781-d9ebcce600f3').width('82%')"
       ],
       "metadata": {},
       "output_type": "display_data",
       "text": [
        "<IPython.core.display.Javascript at 0x7fd7beb3d950>"
       ]
      },
      {
       "javascript": [
        "$('div#b9d7892f-16cf-4a23-b781-d9ebcce600f3').width('83%')"
       ],
       "metadata": {},
       "output_type": "display_data",
       "text": [
        "<IPython.core.display.Javascript at 0x7fd7beb3d910>"
       ]
      },
      {
       "javascript": [
        "$('div#b9d7892f-16cf-4a23-b781-d9ebcce600f3').width('84%')"
       ],
       "metadata": {},
       "output_type": "display_data",
       "text": [
        "<IPython.core.display.Javascript at 0x7fd7beb3d8d0>"
       ]
      },
      {
       "javascript": [
        "$('div#b9d7892f-16cf-4a23-b781-d9ebcce600f3').width('85%')"
       ],
       "metadata": {},
       "output_type": "display_data",
       "text": [
        "<IPython.core.display.Javascript at 0x7fd7beb3d890>"
       ]
      },
      {
       "javascript": [
        "$('div#b9d7892f-16cf-4a23-b781-d9ebcce600f3').width('86%')"
       ],
       "metadata": {},
       "output_type": "display_data",
       "text": [
        "<IPython.core.display.Javascript at 0x7fd7beb3d790>"
       ]
      },
      {
       "javascript": [
        "$('div#b9d7892f-16cf-4a23-b781-d9ebcce600f3').width('87%')"
       ],
       "metadata": {},
       "output_type": "display_data",
       "text": [
        "<IPython.core.display.Javascript at 0x7fd7beb3d510>"
       ]
      },
      {
       "javascript": [
        "$('div#b9d7892f-16cf-4a23-b781-d9ebcce600f3').width('88%')"
       ],
       "metadata": {},
       "output_type": "display_data",
       "text": [
        "<IPython.core.display.Javascript at 0x7fd7beb3d390>"
       ]
      },
      {
       "javascript": [
        "$('div#b9d7892f-16cf-4a23-b781-d9ebcce600f3').width('89%')"
       ],
       "metadata": {},
       "output_type": "display_data",
       "text": [
        "<IPython.core.display.Javascript at 0x7fd7beb3d550>"
       ]
      },
      {
       "javascript": [
        "$('div#b9d7892f-16cf-4a23-b781-d9ebcce600f3').width('90%')"
       ],
       "metadata": {},
       "output_type": "display_data",
       "text": [
        "<IPython.core.display.Javascript at 0x7fd7beb3d850>"
       ]
      },
      {
       "javascript": [
        "$('div#b9d7892f-16cf-4a23-b781-d9ebcce600f3').width('91%')"
       ],
       "metadata": {},
       "output_type": "display_data",
       "text": [
        "<IPython.core.display.Javascript at 0x7fd7beb3d690>"
       ]
      },
      {
       "javascript": [
        "$('div#b9d7892f-16cf-4a23-b781-d9ebcce600f3').width('92%')"
       ],
       "metadata": {},
       "output_type": "display_data",
       "text": [
        "<IPython.core.display.Javascript at 0x7fd7beb3d650>"
       ]
      },
      {
       "javascript": [
        "$('div#b9d7892f-16cf-4a23-b781-d9ebcce600f3').width('93%')"
       ],
       "metadata": {},
       "output_type": "display_data",
       "text": [
        "<IPython.core.display.Javascript at 0x7fd7beb3d450>"
       ]
      },
      {
       "javascript": [
        "$('div#b9d7892f-16cf-4a23-b781-d9ebcce600f3').width('94%')"
       ],
       "metadata": {},
       "output_type": "display_data",
       "text": [
        "<IPython.core.display.Javascript at 0x7fd7beb3d2d0>"
       ]
      },
      {
       "javascript": [
        "$('div#b9d7892f-16cf-4a23-b781-d9ebcce600f3').width('95%')"
       ],
       "metadata": {},
       "output_type": "display_data",
       "text": [
        "<IPython.core.display.Javascript at 0x7fd7beb3d290>"
       ]
      },
      {
       "javascript": [
        "$('div#b9d7892f-16cf-4a23-b781-d9ebcce600f3').width('96%')"
       ],
       "metadata": {},
       "output_type": "display_data",
       "text": [
        "<IPython.core.display.Javascript at 0x7fd7beb3d250>"
       ]
      },
      {
       "javascript": [
        "$('div#b9d7892f-16cf-4a23-b781-d9ebcce600f3').width('97%')"
       ],
       "metadata": {},
       "output_type": "display_data",
       "text": [
        "<IPython.core.display.Javascript at 0x7fd7beb3d210>"
       ]
      },
      {
       "javascript": [
        "$('div#b9d7892f-16cf-4a23-b781-d9ebcce600f3').width('98%')"
       ],
       "metadata": {},
       "output_type": "display_data",
       "text": [
        "<IPython.core.display.Javascript at 0x7fd7beb3d1d0>"
       ]
      },
      {
       "javascript": [
        "$('div#b9d7892f-16cf-4a23-b781-d9ebcce600f3').width('99%')"
       ],
       "metadata": {},
       "output_type": "display_data",
       "text": [
        "<IPython.core.display.Javascript at 0x7fd7beb3d190>"
       ]
      },
      {
       "javascript": [
        "$('div#b9d7892f-16cf-4a23-b781-d9ebcce600f3').width('100%')"
       ],
       "metadata": {},
       "output_type": "display_data",
       "text": [
        "<IPython.core.display.Javascript at 0x7fd7beb3d150>"
       ]
      }
     ],
     "prompt_number": 17
    },
    {
     "cell_type": "code",
     "collapsed": false,
     "input": [],
     "language": "python",
     "metadata": {},
     "outputs": []
    }
   ],
   "metadata": {}
  }
 ]
}