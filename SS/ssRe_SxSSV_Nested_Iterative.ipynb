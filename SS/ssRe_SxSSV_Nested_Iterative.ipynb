{
 "metadata": {
  "name": "",
  "signature": "sha256:b887812eb810b3f11a8ec17387b4a43048885235bfc8cd676ef2aacba19191d7"
 },
 "nbformat": 3,
 "nbformat_minor": 0,
 "worksheets": [
  {
   "cells": [
    {
     "cell_type": "code",
     "collapsed": false,
     "input": [
      "from __future__ import division\n",
      "import os\n",
      "from collections import OrderedDict\n",
      "\n",
      "#import multiprocessing as mp\n",
      "\n",
      "import seaborn as sns\n",
      "import pandas as pd\n",
      "from radd import qsim, psy, utils, ft, simfx, ss\n",
      "from radd.simfx import *\n",
      "import scipy as scp\n",
      "\n",
      "from lmfit import minimize, Parameters, Parameter, report_fit, Minimizer, fit_report"
     ],
     "language": "python",
     "metadata": {},
     "outputs": [],
     "prompt_number": 1
    },
    {
     "cell_type": "code",
     "collapsed": false,
     "input": [
      "pth=utils.find_path()+\"CoAx/SS/\"\n",
      "pd.set_option('precision',4)\n",
      "#load params & drop subjects with failed HDDM fits\n",
      "rePar=pd.read_csv(pth+\"HDDM/Reactive/vbias_full/vBP_SxStats.csv\")\n",
      "paramdf=rePar.query('subj_idx!=[39, 66, 69]')\n",
      "#proPar=pd.read_csv(pth+\"HDDM/Proactive/vfull_sx/vfull_HiLo_550_SxStats.csv\")\n",
      "\n",
      "#slice a few subjects for testing\n",
      "testdf=paramdf.query('subj_idx==[28, 29, 30]')\n",
      "\n",
      "#load data & isolate bsl condition\n",
      "data=pd.read_csv(pth+\"Reactive/Re_AllData.csv\")\n",
      "data=data[data.Cond=='bsl']\n",
      "\n",
      "#load ss drift-rates fitted from reactive data\n",
      "ssvdf=pd.read_csv(pth+\"ReSSV_Sims/Nested/800trials_50maxfun/SxFitSummary.csv\", index_col='subj_idx')\n",
      "ssvdf=pd.read_csv(pth+\"ReSSV_Sims/sxparams_ssv800.csv\")\n",
      "#ssvdf2=pd.read_csv(pth+\"ReSSV_Sims/sxparams_w_ssv5000.csv\")\n",
      "#ssvdict=ssvdf.to_dict()"
     ],
     "language": "python",
     "metadata": {},
     "outputs": [],
     "prompt_number": 2
    },
    {
     "cell_type": "code",
     "collapsed": false,
     "input": [
      "inits={28: 0.73, 29: 0.71, 30: 1.92, 31: 0.6, 32: 0.82, 33: 0.67, 34: 0.61, 35: 0.43, 36: 1.23, \n",
      "       37: 0.55, 38: 1.8, 40: 1.75, 41: 1.62, 42: 0.73, 43: 0.6, 44: 1.41, 45: 1.21, 47: 0.52, 48: 0.74, \n",
      "       50: 1.54, 51: 0.7, 52: 0.53, 54: 0.54, 55: 0.6, 56: 0.51, 57: 0.63, 58: 1.2, 59: 1.2, \n",
      "       60: 0.69, 61: 1.69, 62: 0.6, 63: 1.66, 65: 1.2, 67: 1.39, 68: 0.76, 70: 0.75, 71: 0.84, 72: 0.75, \n",
      "       73: 0.54, 74: 0.75, 75: 0.62, 76: 1.02, 77: 0.89, 78: 0.98, 79: 1.93, 80: 1.38, 81: 0.88, \n",
      "       82: 1.21, 83: 0.72, 84: 0.89, 85: 1.3, 86: 1.03, 87: 0.86, 88: 1.36, 89: 1.07, 90: 0.5, 95: 1.41, 97: 0.65}\n"
     ],
     "language": "python",
     "metadata": {},
     "outputs": [],
     "prompt_number": 3
    },
    {
     "cell_type": "heading",
     "level": 1,
     "metadata": {},
     "source": [
      "Functions to Optimize SSV for Nested Model"
     ]
    },
    {
     "cell_type": "heading",
     "level": 3,
     "metadata": {},
     "source": [
      "Get Individual Sx Params for Simulating"
     ]
    },
    {
     "cell_type": "code",
     "collapsed": false,
     "input": [
      "def get_sx_params(sxdf):\n",
      "    \n",
      "    params=sxdf['mean']; params.index=sxdf['param']\n",
      "    a=params['a']*.1\n",
      "    z=a*params['z']\n",
      "    v=params['v(bsl)']*.1\n",
      "    \n",
      "    sp={'ssTer':0.0, 'ssTer_var':0.0, 'pGo':0.0}\n",
      "    gp={'a':a, 'v':v, 'z':z, 'Ter':params['t'], 'eta':params['sv'], 'st':0.0, 'sz':0.0}\n",
      "    \n",
      "    return [gp, sp]"
     ],
     "language": "python",
     "metadata": {},
     "outputs": [],
     "prompt_number": 4
    },
    {
     "cell_type": "heading",
     "level": 3,
     "metadata": {},
     "source": [
      "Simulate & Residuals F(x)"
     ]
    },
    {
     "cell_type": "code",
     "collapsed": false,
     "input": [
      "ss=reload(ss); qsim=reload(qsim); simfx=reload(simfx); utils=reload(utils); ft=reload(ft)\n",
      "\n",
      "def ssvMinFunc(p, gp, sp, ydata, ntrials=1000):\n",
      "    \n",
      "    ssdlist=np.arange(.20, .45, .05)\n",
      "    simdf_list=[]\n",
      "    sp['mu_ss'] =  -p['mu_ss'].value\n",
      "    \n",
      "    for ssd in ssdlist:\n",
      "        \n",
      "        sp['ssd']=ssd\n",
      "        out=ss.set_model(gParams=gp, sParams=sp, mfx=simfx.sim_radd, ntrials=ntrials, timebound=.650, \n",
      "                         depHyper=True, visual=False, task='ssRe', return_all_beh=True, condition_str='bsl') \n",
      "        simdf_list.append(out)\n",
      "    \n",
      "    simdf=pd.concat(simdf_list)\n",
      "    ym=simdf.groupby('ssd').mean()['acc'].values\n",
      "    \n",
      "    residuals=ym-ydata\n",
      "    #residuals = scp.sqrt(residuals ** 2 / ysigma ** 2)\n",
      "    \n",
      "    return residuals"
     ],
     "language": "python",
     "metadata": {},
     "outputs": []
    },
    {
     "cell_type": "heading",
     "level": 3,
     "metadata": {},
     "source": [
      "Gradient-Descent Optimization of SSV "
     ]
    },
    {
     "cell_type": "code",
     "collapsed": false,
     "input": [
      "utils=reload(utils)\n",
      "ntrials=2000; maxiter=100; n=len(paramdf.subj_idx.unique()); sx_n=0\n",
      "\n",
      "fitdf=pd.DataFrame(columns=['subj_idx', 'ssv', 'init', 'ssd', 'residuals', 'ydata', 'yhat', 'chisq', 'redchi','sse'], \n",
      "                   index=paramdf.subj_idx.unique())\n",
      "\n",
      "pb=utils.PBinJ(n, color=\"#4168B7\")\n",
      "\n",
      "for sx, sxdf in paramdf.groupby('subj_idx'):\n",
      "    \n",
      "    sx_n +=1\n",
      "    \n",
      "    sxdata=data[data['subj_idx']==sx]\n",
      "    ydata=sxdata.groupby('ssd').mean()['acc'].values[:-1]\n",
      "    \n",
      "    gp, sp = get_sx_params(sxdf)\n",
      "    p=Parameters()\n",
      "    p.add('mu_ss', value=inits[sx], min=0.1, max=2.5)\n",
      "\n",
      "    out = Minimizer(ssvMinFunc, p, fcn_args=(gp,sp,ydata,ntrials), \n",
      "                    kws={\"full_output\":True, \"disp\":True, \"retall\":True}) \n",
      "    \n",
      "    out.prepare_fit()\n",
      "    \n",
      "    out.fmin(maxfun=maxiter, ftol=1.e-4, xtol=1.e-4)\n",
      "    \n",
      "    fitdf.loc[sx]=pd.Series({\"subj_idx\":sx,'ssv':-p['mu_ss'].value, 'init':inits[sx], 'ssd':np.arange(.20, .45, .05), \n",
      "                      \"residuals\":out.residual,\"ydata\":ydata.astype('float'),'yhat':ydata+out.residual,\n",
      "                      \"chisq\":out.chisqr,\"redchi\":out.redchi, 'sse':np.sum([i**2 for i in out.residual])})\n",
      "    \n",
      "    fitdf.to_csv(pth+\"ReSSV_Sims/Nested/2000trials_100maxfun/ReSSV_2kOpt_\"+str(sx)+\".csv\")\n",
      "    \n",
      "    pb.update_i(sx_n)"
     ],
     "language": "python",
     "metadata": {},
     "outputs": [
      {
       "html": [
        "\n",
        "\t    <div style=\"border: 1px solid black; width:500px\">\n",
        "\t    <div id=\"3221a9dc-1b76-4570-9eb6-b2f8bda9c072\" style=\"background-color:#4168B7; width:0%\">&nbsp;</div>\n",
        "\t    </div> \n",
        "\t    "
       ],
       "metadata": {},
       "output_type": "display_data",
       "text": [
        "<IPython.core.display.HTML at 0x7f133aa30910>"
       ]
      }
     ]
    },
    {
     "cell_type": "heading",
     "level": 3,
     "metadata": {},
     "source": [
      "Format Fit Summaries and Save"
     ]
    },
    {
     "cell_type": "code",
     "collapsed": false,
     "input": [
      "fdf['SSE']=[np.sum(i**2) for i in fdf.residuals.values]\n",
      "\n",
      "fdf.to_csv(pth+\"ReSSV_Sims/SxFitSummary_5Ktrials_500fxeval.csv\")"
     ],
     "language": "python",
     "metadata": {},
     "outputs": [],
     "prompt_number": 76
    },
    {
     "cell_type": "code",
     "collapsed": false,
     "input": [
      "a=ssvdf.query('param==\"a\"')\n",
      "plt.plot(a.subj_idx, a['mean'].values)\n",
      "plt.setp(plt.gca(), title='Boundary separation (on y) for each Sx (on x)')"
     ],
     "language": "python",
     "metadata": {},
     "outputs": [
      {
       "metadata": {},
       "output_type": "pyout",
       "prompt_number": 16,
       "text": [
        "[<matplotlib.text.Text at 0x7fe9e6b2f910>]"
       ]
      },
      {
       "metadata": {},
       "output_type": "display_data",
       "png": "[encoded data removed]",
       "text": [
        "<matplotlib.figure.Figure at 0x7fe9e6c68510>"
       ]
      }
     ],
     "prompt_number": 16
    }
   ],
   "metadata": {}
  }
 ]
}