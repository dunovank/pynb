{
 "metadata": {
  "name": "",
  "signature": "sha256:34bc1e397b7f37e492dd194c570986706b8a4e86883e3e9fd2d424be02deb9fe"
 },
 "nbformat": 3,
 "nbformat_minor": 0,
 "worksheets": [
  {
   "cells": [
    {
     "cell_type": "code",
     "collapsed": false,
     "input": [
      "from __future__ import division\n",
      "import os\n",
      "from collections import OrderedDict\n",
      "\n",
      "#import multiprocessing as mp\n",
      "\n",
      "import seaborn as sns\n",
      "import pandas as pd\n",
      "from radd import qsim, psy, utils, ft, simfx, ss, opt\n",
      "from radd.simfx import *\n",
      "import scipy as scp\n",
      "\n",
      "from lmfit import minimize, Parameters, Parameter, report_fit, Minimizer, fit_report"
     ],
     "language": "python",
     "metadata": {},
     "outputs": [],
     "prompt_number": 1
    },
    {
     "cell_type": "code",
     "collapsed": false,
     "input": [
      "inits={28: 0.73, 29: 0.71, 30: 1.92, 31: 0.6, 32: 0.82, 33: 0.67, 34: 0.61, 35: 0.43, 36: 1.23, \n",
      "       37: 0.55, 38: 1.8, 40: 1.75, 41: 1.62, 42: 0.73, 43: 0.6, 44: 1.41, 45: 1.21, 47: 0.52, 48: 0.74, \n",
      "       50: 1.54, 51: 0.7, 52: 0.53, 54: 0.54, 55: 0.6, 56: 0.51, 57: 0.63, 58: 1.2, 59: 1.2, \n",
      "       60: 0.69, 61: 1.69, 62: 0.6, 63: 1.66, 65: 1.2, 67: 1.39, 68: 0.76, 70: 0.75, 71: 0.84, 72: 0.75, \n",
      "       73: 0.54, 74: 0.75, 75: 0.62, 76: 1.02, 77: 0.89, 78: 0.98, 79: 1.93, 80: 1.38, 81: 0.88, \n",
      "       82: 1.21, 83: 0.72, 84: 0.89, 85: 1.3, 86: 1.03, 87: 0.86, 88: 1.36, 89: 1.07, 90: 0.5, 95: 1.41, 97: 0.65}\n"
     ],
     "language": "python",
     "metadata": {},
     "outputs": [],
     "prompt_number": 33
    },
    {
     "cell_type": "code",
     "collapsed": false,
     "input": [
      "pth=utils.find_path()+\"CoAx/SS/\"\n",
      "pd.set_option('precision',4)\n",
      "#load params & drop subjects with failed HDDM fits\n",
      "rePar=pd.read_csv(pth+\"HDDM/Reactive/vbias_full/vBP_SxStats.csv\")\n",
      "paramdf=rePar.query('subj_idx!=[39, 66, 69]')\n",
      "#proPar=pd.read_csv(pth+\"HDDM/Proactive/vfull_sx/vfull_HiLo_550_SxStats.csv\")\n",
      "\n",
      "#slice a few subjects for testing\n",
      "testdf=paramdf.query('subj_idx==[28, 29, 30]')\n",
      "\n",
      "#load data & isolate bsl condition\n",
      "data=pd.read_csv(pth+\"Reactive/Re_AllData.csv\")\n",
      "data=data[data.Cond=='bsl']"
     ],
     "language": "python",
     "metadata": {},
     "outputs": [],
     "prompt_number": 2
    },
    {
     "cell_type": "code",
     "collapsed": false,
     "input": [
      "opt=reload(opt)\n",
      "\n",
      "sxtofit=data.query('subj_idx!=[39, 66, 69]')\n",
      "\n",
      "dat=sxtofit.query('55<subj_idx<66')\n",
      "par=paramdf.query('55<subj_idx<66')\n",
      "\n",
      "opt.optRadd(dat, par, ntrials=20000)"
     ],
     "language": "python",
     "metadata": {},
     "outputs": [
      {
       "html": [
        "\n",
        "\t    <div style=\"border: 1px solid black; width:500px\">\n",
        "\t    <div id=\"bb1c6335-c951-4f66-a150-5b1dfa443031\" style=\"background-color:#4168B7; width:0%\">&nbsp;</div>\n",
        "\t    </div> \n",
        "\t    "
       ],
       "metadata": {},
       "output_type": "display_data",
       "text": [
        "<IPython.core.display.HTML at 0x7fc756c228d0>"
       ]
      },
      {
       "output_type": "stream",
       "stream": "stdout",
       "text": [
        "Subject 56: Successfully converged\n",
        "--------------------------------------\n"
       ]
      },
      {
       "javascript": [
        "$('div#bb1c6335-c951-4f66-a150-5b1dfa443031').width('11.11%')"
       ],
       "metadata": {},
       "output_type": "display_data",
       "text": [
        "<IPython.core.display.Javascript at 0x7fc756be8b50>"
       ]
      },
      {
       "output_type": "stream",
       "stream": "stdout",
       "text": [
        "Subject 57: Successfully converged\n",
        "--------------------------------------\n"
       ]
      },
      {
       "javascript": [
        "$('div#bb1c6335-c951-4f66-a150-5b1dfa443031').width('22.22%')"
       ],
       "metadata": {},
       "output_type": "display_data",
       "text": [
        "<IPython.core.display.Javascript at 0x7fc756afd090>"
       ]
      },
      {
       "output_type": "stream",
       "stream": "stdout",
       "text": [
        "Subject 58: Successfully converged\n",
        "--------------------------------------\n"
       ]
      },
      {
       "javascript": [
        "$('div#bb1c6335-c951-4f66-a150-5b1dfa443031').width('33.33%')"
       ],
       "metadata": {},
       "output_type": "display_data",
       "text": [
        "<IPython.core.display.Javascript at 0x7fc756b988d0>"
       ]
      },
      {
       "output_type": "stream",
       "stream": "stdout",
       "text": [
        "Subject 59: Successfully converged\n",
        "--------------------------------------\n"
       ]
      },
      {
       "javascript": [
        "$('div#bb1c6335-c951-4f66-a150-5b1dfa443031').width('44.44%')"
       ],
       "metadata": {},
       "output_type": "display_data",
       "text": [
        "<IPython.core.display.Javascript at 0x7fc756a8fcd0>"
       ]
      },
      {
       "output_type": "stream",
       "stream": "stdout",
       "text": [
        "Subject 60: Successfully converged\n",
        "--------------------------------------\n"
       ]
      },
      {
       "javascript": [
        "$('div#bb1c6335-c951-4f66-a150-5b1dfa443031').width('55.56%')"
       ],
       "metadata": {},
       "output_type": "display_data",
       "text": [
        "<IPython.core.display.Javascript at 0x7fc756ab4950>"
       ]
      },
      {
       "output_type": "stream",
       "stream": "stdout",
       "text": [
        "Subject 61: Successfully converged\n",
        "--------------------------------------\n"
       ]
      },
      {
       "javascript": [
        "$('div#bb1c6335-c951-4f66-a150-5b1dfa443031').width('66.67%')"
       ],
       "metadata": {},
       "output_type": "display_data",
       "text": [
        "<IPython.core.display.Javascript at 0x7fc756bc0050>"
       ]
      },
      {
       "output_type": "stream",
       "stream": "stdout",
       "text": [
        "Subject 62: Successfully converged\n",
        "--------------------------------------\n"
       ]
      },
      {
       "javascript": [
        "$('div#bb1c6335-c951-4f66-a150-5b1dfa443031').width('77.78%')"
       ],
       "metadata": {},
       "output_type": "display_data",
       "text": [
        "<IPython.core.display.Javascript at 0x7fc756ba8d90>"
       ]
      },
      {
       "output_type": "stream",
       "stream": "stdout",
       "text": [
        "Subject 63: Successfully converged\n",
        "--------------------------------------\n"
       ]
      },
      {
       "javascript": [
        "$('div#bb1c6335-c951-4f66-a150-5b1dfa443031').width('88.89%')"
       ],
       "metadata": {},
       "output_type": "display_data",
       "text": [
        "<IPython.core.display.Javascript at 0x7fc756aa2e90>"
       ]
      },
      {
       "output_type": "stream",
       "stream": "stdout",
       "text": [
        "Subject 65: Successfully converged\n",
        "--------------------------------------\n"
       ]
      },
      {
       "javascript": [
        "$('div#bb1c6335-c951-4f66-a150-5b1dfa443031').width('100.00%')"
       ],
       "metadata": {},
       "output_type": "display_data",
       "text": [
        "<IPython.core.display.Javascript at 0x7fc756ad6310>"
       ]
      }
     ],
     "prompt_number": 3
    },
    {
     "cell_type": "code",
     "collapsed": false,
     "input": [],
     "language": "python",
     "metadata": {},
     "outputs": []
    }
   ],
   "metadata": {}
  }
 ]
}