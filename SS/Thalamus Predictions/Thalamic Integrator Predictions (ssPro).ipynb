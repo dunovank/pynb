{
 "metadata": {
  "name": "",
  "signature": "sha256:36a9514fe5161c2fca03ba27f7832676e4bd4b2184e6b93cb254af3c99491919"
 },
 "nbformat": 3,
 "nbformat_minor": 0,
 "worksheets": [
  {
   "cells": [
    {
     "cell_type": "code",
     "collapsed": false,
     "input": [
      "from __future__ import division\n",
      "from radd import ss, psy, simfx\n",
      "from radd.simfx import sim_radd, sim_ss, sustained_integrator, integrator\n",
      "import seaborn as sns\n",
      "import pandas as pd\n",
      "import os\n",
      "import collections\n",
      "from itertools import cycle"
     ],
     "language": "python",
     "metadata": {},
     "outputs": [],
     "prompt_number": 4
    },
    {
     "cell_type": "code",
     "collapsed": false,
     "input": [
      "#globals\n",
      "a=.37; z=.5*a; Ter=.347; eta=.14; st=.0001; sz=.0001; s2=.01; xpo=[12, 12.29]; pSSD=.450;\n",
      "mu_ss=-2.17; ssTer=.099; ssRe_TB=.653; ssPro_TB=.6; nt=1000; sTB=.00001; ssTer_var=.0001"
     ],
     "language": "python",
     "metadata": {},
     "outputs": [],
     "prompt_number": 5
    },
    {
     "cell_type": "code",
     "collapsed": false,
     "input": [
      "ss=reload(ss); simfx=reload(simfx); psy=reload(psy)"
     ],
     "language": "python",
     "metadata": {},
     "outputs": [],
     "prompt_number": 6
    },
    {
     "cell_type": "code",
     "collapsed": false,
     "input": [
      "ss=reload(ss); ssex=reload(ssex); modelfx=reload(modelfx); psy=reload(psy)\n",
      "\n",
      "dfv=[]\n",
      "pGo=np.linspace(0, 1, 18)\n",
      "vlist=np.linspace(0.073, 1.09, 18)\n",
      "\n",
      "for i, v in enumerate(vlist):\n",
      "    \n",
      "    gp={'a':a, 'z':z, 'v':v, 'Ter':Ter, 'eta':eta, 'st':st, 'sz':sz, 's2':s2}\n",
      "    sp={'mu_ss':mu_ss, 'pGo':pGo[i], 'ssd':pSSD, 'ssTer':ssTer, 'ssTer_var':ssTer_var}\n",
      "    \n",
      "    dfout=ss.set_model(gParams=gp, sParams=sp, ntrials=nt, timebound=ssPro_TB, t_exp=True, \n",
      "                       exp_scale=xpo, visual=False, task='ssProBSL', predictBOLD=True)\n",
      "    \n",
      "    dfv.append(dfout)"
     ],
     "language": "python",
     "metadata": {},
     "outputs": []
    },
    {
     "cell_type": "code",
     "collapsed": false,
     "input": [
      "pgo_strings=[str(s) for s in pGo]\n",
      "\n",
      "go_conds=collections.OrderedDict()\n",
      "stop_conds=collections.OrderedDict()\n",
      "\n",
      "for i, dfout in enumerate(dfv):\n",
      "\n",
      "    go_conds[pgo_strings[i]]=dfout.ix[dfout['choice']=='go', 'thalamus'].dropna()\n",
      "    stop_conds[pgo_strings[i]]=dfout.ix[dfout['choice']=='stop', 'thalamus'].dropna()\n",
      "\n",
      "gcond_means={}\n",
      "scond_means={}\n",
      "    \n",
      "for k in go_conds.keys():\n",
      "\n",
      "    gcond_means[k]=np.mean([pd.Series(gtrace).cumsum().max() for gtrace in go_conds[k][:]])\n",
      "    scond_means[k]=np.mean([pd.Series(strace).cumsum().max() for strace in stop_conds[k][:]])\n",
      "\n",
      "conditions={'go':gcond_means, 'stop': scond_means}"
     ],
     "language": "python",
     "metadata": {},
     "outputs": [],
     "prompt_number": 89
    },
    {
     "cell_type": "code",
     "collapsed": false,
     "input": [
      "#cdf=pd.DataFrame(conditions).fillna(0)\n",
      "cdf=pd.read_csv(\"/Users/kyle/Dropbox/CoAx/SS/Proactive/ssPro_IntToBound_predictBOLD.csv\")\n",
      "cdf.index=cdf['Unnamed: 0']"
     ],
     "language": "python",
     "metadata": {},
     "outputs": [],
     "prompt_number": 8
    },
    {
     "cell_type": "code",
     "collapsed": false,
     "input": [
      "plt.ion()\n",
      "\n",
      "#cdf=pd.DataFrame(conditions).fillna(0)\n",
      "\n",
      "sns.set(style=\"white\", context='poster')\n",
      "x=np.array([str(i)[:4] for i in cdf.index])\n",
      "palG=sns.blend_palette([\"Red\", 'Gray', \"LimeGreen\"], n_colors=len(x))\n",
      "#sns.axes_style({'xlabel':'', 'ylabel':''})\n",
      "\n",
      "f, (ax1, ax2) = plt.subplots(2, 1, figsize=(8, 6.5), sharex=True)\n",
      "\n",
      "y1=cdf['go']\n",
      "sns.barplot(x, y1, ci=None, palette=palG, hline=0.1, ax=ax1)\n",
      "\n",
      "y2=cdf['stop']\n",
      "sns.barplot(x, y2, ci=None, palette=palG, hline=0.1, ax=ax2)\n",
      "\n",
      "sns.despine()\n",
      "\n",
      "for ax in f.axes:\n",
      "    for label in ax.xaxis.get_ticklabels()[1:-1]:\n",
      "        label.set_visible(False)\n",
      "\n",
      "ax1.set_title('Go Choice')\n",
      "ax2.set_title('Stop Choice')\n",
      "ax2.set_xlabel(\"P(Go)\", fontsize=18)\n",
      "plt.setp(f.axes, ylim=(400, 900), yticks=[], ylabel='BOLD A.U.')\n",
      "\n",
      "plt.tight_layout(h_pad=3)\n",
      "f.savefig(\"/Users/kyle/Dropbox/CoAx/SS/Proactive/ssPro_IntToBound.png\", format='png', dpi=600)"
     ],
     "language": "python",
     "metadata": {},
     "outputs": [
      {
       "metadata": {},
       "output_type": "display_data",
       "png": "[encoded data removed]",
       "text": [
        "<matplotlib.figure.Figure at 0x112501f90>"
       ]
      }
     ],
     "prompt_number": 9
    },
    {
     "cell_type": "code",
     "collapsed": false,
     "input": [
      "plt.ion()\n",
      "\n",
      "#cdf=pd.DataFrame(conditions).fillna(0)\n",
      "\n",
      "sns.set(style=\"white\", context='poster')\n",
      "\n",
      "x=np.array([str(i)[:4] for i in cdf.index])\n",
      "\n",
      "palG=sns.blend_palette([\"Red\", 'Gray', \"LimeGreen\"], n_colors=len(x))\n",
      "\n",
      "sns.axes_style({'xlabel':'', 'ylabel':''})\n",
      "\n",
      "f, (ax1, ax2) = plt.subplots(2, 1, figsize=(8, 8), sharex=True)\n",
      "\n",
      "y1=cdf['go']\n",
      "sns.barplot(x, y1, ci=None, palette=palG, hline=.1, ax=ax1)\n",
      "\n",
      "y2=cdf['stop']\n",
      "sns.barplot(x, y2, ci=None, palette=palG, hline=.1, ax=ax2)\n",
      "\n",
      "sns.despine()\n",
      "plt.tight_layout(h_pad=7)\n",
      "\n",
      "for ax in f.axes:\n",
      "    for label in ax.xaxis.get_ticklabels()[1:-1]:\n",
      "        label.set_visible(False)\n",
      "\n",
      "ax1.set_title('Go Choice')\n",
      "ax2.set_title('Stop Choice')\n",
      "plt.setp(f.axes, ylim=(400, 700), yticks=[], ylabel='BOLD Magnitude')\n",
      "\n",
      "ax2.set_xlabel(\"P(Go)\", fontsize=18)"
     ],
     "language": "python",
     "metadata": {},
     "outputs": [
      {
       "metadata": {},
       "output_type": "pyout",
       "prompt_number": 6,
       "text": [
        "<matplotlib.text.Text at 0x111e67950>"
       ]
      },
      {
       "metadata": {},
       "output_type": "display_data",
       "png": "[encoded data removed]",
       "text": [
        "<matplotlib.figure.Figure at 0x111dc6a10>"
       ]
      }
     ],
     "prompt_number": 6
    },
    {
     "cell_type": "code",
     "collapsed": false,
     "input": [
      "cdf.to_csv(\"/home/kyle/Dropbox/CoAx/ss/ssProBoldPredictions.csv\")"
     ],
     "language": "python",
     "metadata": {},
     "outputs": [],
     "prompt_number": 99
    },
    {
     "cell_type": "heading",
     "level": 1,
     "metadata": {},
     "source": [
      "Old stuff..."
     ]
    },
    {
     "cell_type": "code",
     "collapsed": false,
     "input": [
      "#dfv_copy=dfv\n",
      "\n",
      "pgo_strings=[str(s) for s in pGo]\n",
      "\n",
      "conditions=collections.OrderedDict()\n",
      "\n",
      "for i, dfout in enumerate(dfv):\n",
      "    \n",
      "    ttypes=collections.OrderedDict()\n",
      "    \n",
      "    for ttype in dfout.keys():\n",
      "        dfout[ttype].dropna(inplace=True)\n",
      "        dfout[ttype].index=np.arange(len(dfout[ttype]))\n",
      "        \n",
      "        predictions=[]\n",
      "\n",
      "        for trace in dfout[ttype][:]:\n",
      "            csum_max=pd.Series(trace).cumsum().max()\n",
      "            predictions.append(csum_max)\n",
      "        \n",
      "        ttypes[ttype]=np.mean(predictions)\n",
      "        \n",
      "    conditions[pgo_strings[i]]=ttypes"
     ],
     "language": "python",
     "metadata": {},
     "outputs": [],
     "prompt_number": 64
    },
    {
     "cell_type": "code",
     "collapsed": false,
     "input": [
      "plt.ion()\n",
      "\n",
      "cdf=pd.DataFrame(conditions).fillna(0)\n",
      "\n",
      "sns.set(style=\"white\", context='poster')\n",
      "\n",
      "x=np.array([str(i)[:4] for i in cdf.columns])\n",
      "\n",
      "#palS=sns.blend_palette(['#E60000', '#FACCCC'], n_colors=len(x))\n",
      "#palG=sns.blend_palette([\"MediumSpringGreen\", \"DarkGreen\"], n_colors=len(x))\n",
      "palG=sns.blend_palette([\"Red\", 'Gray', \"LimeGreen\"], n_colors=len(x))\n",
      "\n",
      "sns.axes_style({'xlabel':''})\n",
      "\n",
      "f, (ax1, ax2, ax3, ax4) = plt.subplots(4, 1, figsize=(7, 8), sharex=True)\n",
      "#f, (ax1, ax2, ax4) = plt.subplots(3, 1, figsize=(7, 8), sharex=True)\n",
      "\n",
      "y1=cdf.ix['CorrectGo']\n",
      "sns.barplot(x, y1, ci=None, palette=palG, hline=.1, ax=ax1)\n",
      "\n",
      "y2=cdf.ix['CorrectStop']\n",
      "sns.barplot(x, y2, ci=None, palette=palG, hline=.1, ax=ax2)\n",
      "\n",
      "y3=cdf.ix['IncorrectGo']\n",
      "sns.barplot(x, y3, ci=None, palette=palG, hline=.1, ax=ax3)\n",
      "\n",
      "y4=cdf.ix['IncorrectStop']\n",
      "sns.barplot(x, y4, ci=None, palette=palG, hline=.1, ax=ax4)\n",
      "\n",
      "sns.despine()\n",
      "plt.tight_layout(h_pad=3)\n",
      "\n",
      "for ax in f.axes:\n",
      "    for label in ax.xaxis.get_ticklabels()[1:-1]:\n",
      "        label.set_visible(False)\n",
      "\n",
      "plt.setp(f.axes, ylim=(400, 700))\n",
      "plt.setp(f.axes, yticks=[])\n",
      "\n",
      "\n",
      "ax4.set_xlabel(\"P(Go)\", fontsize=18)"
     ],
     "language": "python",
     "metadata": {},
     "outputs": [
      {
       "metadata": {},
       "output_type": "pyout",
       "prompt_number": 67,
       "text": [
        "<matplotlib.text.Text at 0x110f28390>"
       ]
      },
      {
       "metadata": {},
       "output_type": "display_data",
       "png": "[encoded data removed]",
       "text": [
        "<matplotlib.figure.Figure at 0x1104351d0>"
       ]
      }
     ],
     "prompt_number": 67
    },
    {
     "cell_type": "code",
     "collapsed": false,
     "input": [
      "f, ax = plt.subplots(1, figsize=(7, 8))\n",
      "ion()\n",
      "\n",
      "xticklabels=['CorrectGo', 'CorrectStop', 'IncorrectGo', 'IncorrectStop']\n",
      "yavgs=np.array([np.mean(cdf.ix[trialtype]) for trialtype in cdf.index])\n",
      "ysems=np.array([np.std(cdf.ix[trialtype]) for trialtype in cdf.index])/np.sqrt(len(cdf))\n",
      " \n",
      "#bars=plt.bar(np.arange(0, 8, 2), yavgs, yerr=ysems, ecolor='k', align='center', width=1.75)\n",
      "bars=plt.bar(np.arange(0, 8, 2), yavgs, align='center', width=1.75)\n",
      "\n",
      "colors = [\"LimeGreen\", \"Red\", \"LightGreen\", \"#FF826C\", \"#34495e\", \"#2ecc71\"]\n",
      "\n",
      "for ci, i in enumerate(bars):\n",
      "    i.set_color(colors[ci])\n",
      "\n",
      "ax.set_xticks(np.arange(0, 8, 2))\n",
      "ax.set_xticklabels(xticklabels)\n",
      "ax.set_ylim(350, 650)\n",
      "sns.despine()\n",
      "ax.set_title(\"ssPro Thalamic Predictions\", fontsize=24)"
     ],
     "language": "python",
     "metadata": {},
     "outputs": [
      {
       "metadata": {},
       "output_type": "pyout",
       "prompt_number": 144,
       "text": [
        "<matplotlib.text.Text at 0x112c71210>"
       ]
      },
      {
       "metadata": {},
       "output_type": "display_data",
       "png": "[encoded data removed]",
       "text": [
        "<matplotlib.figure.Figure at 0x112958990>"
       ]
      }
     ],
     "prompt_number": 144
    },
    {
     "cell_type": "code",
     "collapsed": false,
     "input": [
      "cdf=pd.read_csv(\"/Users/kyle/Dropbox/CoAx/SS/ssProBoldPredictions.csv\")"
     ],
     "language": "python",
     "metadata": {},
     "outputs": [],
     "prompt_number": 4
    },
    {
     "cell_type": "code",
     "collapsed": false,
     "input": [
      "#s=cdf.ix[['CorrectStop', 'IncorrectStop']].T\n",
      "m=np.mean(cdf.iloc[0].values)# cdf.iloc[0].values) \n",
      "m"
     ],
     "language": "python",
     "metadata": {},
     "outputs": [
      {
       "metadata": {},
       "output_type": "pyout",
       "prompt_number": 15,
       "text": [
        "493.1743608608374"
       ]
      }
     ],
     "prompt_number": 15
    },
    {
     "cell_type": "code",
     "collapsed": false,
     "input": [
      "cdf.to_csv(\"/Users/kyle/Dropbox/CoAx/SS/ssProBoldPredictions.csv\", index=False)"
     ],
     "language": "python",
     "metadata": {},
     "outputs": []
    },
    {
     "cell_type": "code",
     "collapsed": false,
     "input": [
      "#len(cdf.columns)\n",
      "pGo=np.linspace(0, 1, 18)\n",
      "rows=['CorrectGo', 'CorrectStop', 'IncorrectGo', 'IncorrectStop']\n",
      "data=np.random.rand(4, 18)*150\n",
      "conditions=[str(s) for s in pGo]\n",
      "\n",
      "cdf=pd.DataFrame(data, index=rows, columns=conditions)\n",
      "cdf.T.columns\n",
      "len(cdf.T)\n",
      "len(x)"
     ],
     "language": "python",
     "metadata": {},
     "outputs": [
      {
       "metadata": {},
       "output_type": "pyout",
       "prompt_number": 46,
       "text": [
        "18"
       ]
      }
     ],
     "prompt_number": 46
    },
    {
     "cell_type": "code",
     "collapsed": false,
     "input": [
      "#plt.plot(x, y1)\n",
      "print x"
     ],
     "language": "python",
     "metadata": {},
     "outputs": [
      {
       "output_type": "stream",
       "stream": "stdout",
       "text": [
        "['0.0' '0.0' '0.1' '0.1' '0.2' '0.2' '0.3' '0.4' '0.4' '0.5' '0.5' '0.6'\n",
        " '0.7' '0.7' '0.8' '0.8' '0.9' '1.0']\n"
       ]
      }
     ],
     "prompt_number": 48
    },
    {
     "cell_type": "code",
     "collapsed": false,
     "input": [],
     "language": "python",
     "metadata": {},
     "outputs": []
    }
   ],
   "metadata": {}
  }
 ]
}