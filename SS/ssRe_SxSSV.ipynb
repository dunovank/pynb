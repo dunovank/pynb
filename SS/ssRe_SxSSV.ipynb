{
 "metadata": {
  "name": "",
  "signature": "sha256:f058bb8309f55f33138da8afc476dcf5beb49b7a1244b86eea900152179bf458"
 },
 "nbformat": 3,
 "nbformat_minor": 0,
 "worksheets": [
  {
   "cells": [
    {
     "cell_type": "code",
     "collapsed": false,
     "input": [
      "from __future__ import division\n",
      "import os\n",
      "from collections import OrderedDict\n",
      "\n",
      "import seaborn as sns\n",
      "import pandas as pd\n",
      "from radd import qsim, psy, utils, ft, simfx, ss\n",
      "from radd.simfx import *\n",
      "\n",
      "from lmfit import minimize, Parameters, Parameter, report_fit, Minimizer, fit_report"
     ],
     "language": "python",
     "metadata": {},
     "outputs": [],
     "prompt_number": 46
    },
    {
     "cell_type": "code",
     "collapsed": false,
     "input": [
      "pth=utils.find_path()\n",
      "\n",
      "rePar=pd.read_csv(pth+\"CoAx/SS/HDDM/Reactive/vbias_full/vBP_SxStats.csv\")\n",
      "proPar=pd.read_csv(pth+\"CoAx/SS/HDDM/Proactive/vfull_sx/vfull_HiLo_550_SxStats.csv\")\n",
      "data=pd.read_csv(pth+\"CoAx/SS/Reactive/Re_AllData.csv\")\n"
     ],
     "language": "python",
     "metadata": {},
     "outputs": [],
     "prompt_number": 6
    },
    {
     "cell_type": "code",
     "collapsed": false,
     "input": [
      "test=rePar.query('subj_idx<29')"
     ],
     "language": "python",
     "metadata": {},
     "outputs": [],
     "prompt_number": 7
    },
    {
     "cell_type": "code",
     "collapsed": false,
     "input": [
      "def ssvMinFunc(p, gp, sp, emp_curve):\n",
      "    simdf_list=[]\n",
      "    ssdlist=np.arange(.20, .45, .05)\n",
      "    \n",
      "    sp['mu_ss'] =  -p['mu_ss'].value\n",
      "    \n",
      "    for ssd in ssdlist:\n",
      "        sp['ssd']=ssd\n",
      "\n",
      "        out=ss.set_model(gParams=gp, sParams=sp, mfx=simfx.sim_radd, ntrials=400, timebound=.650, \n",
      "                         depHyper=True, visual=False, task='ssRe', return_all_beh=True, condition_str='bsl') \n",
      "\n",
      "        simdf_list.append(out)\n",
      "    \n",
      "    simdf=pd.concat(simdf_list)\n",
      "    simdf['acc']=simdf['acc'].astype(float)\n",
      "    \n",
      "    stops=simdf.query('trial_type==\"stop\"').groupby('ssd').mean()['acc'].values\n",
      "\n",
      "    e=stops-emp_curve\n",
      "    \n",
      "    print p['mu_ss'].value\n",
      "    print np.sum(e**2)\n",
      "    print stops\n",
      "    \n",
      "    return e\n",
      "    \n",
      "for sx, sxdf in test.groupby('subj_idx'):\n",
      "    print \"%s\\n\"%str(sx)\n",
      "    sxdata=data[data['subj_idx']==sx]\n",
      "    emp_curve=sxdata.groupby('ssd').mean()['acc'].values[:-1]\n",
      "    \n",
      "    params=sxdf['mean']\n",
      "    params.index=sxdf['param']\n",
      "\n",
      "    a=params['a']*.1\n",
      "    z=a*params['z']\n",
      "    v=params['v(bsl)']*.1\n",
      "    \n",
      "    sp={'mu_ss':-1.0, 'ssTer':0.0, 'ssTer_var':0.0, 'pGo':0.0}\n",
      "    gp={'a':a, 'v':v, 'z':z, 'Ter':params['t'], 'eta':params['sv'], 'st':0.0, 'sz':0.0}\n",
      "\n",
      "    p=Parameters()\n",
      "    p.add('mu_ss', value=.6, min=0.4, max=1.5)\n",
      "    out = Minimizer(ssvMinFunc, p, fcn_args=(gp,sp,emp_curve), method='Nelder-Mead') \n",
      "    out.fmin(maxfun=20)"
     ],
     "language": "python",
     "metadata": {},
     "outputs": [
      {
       "output_type": "stream",
       "stream": "stdout",
       "text": [
        "28\n",
        "\n",
        "0.6"
       ]
      },
      {
       "output_type": "stream",
       "stream": "stdout",
       "text": [
        "\n",
        "0.14861875\n",
        "[ 0.935   0.835   0.7225  0.5025  0.2125]\n",
        "0.585578700505"
       ]
      },
      {
       "output_type": "stream",
       "stream": "stdout",
       "text": [
        "\n",
        "0.18526875\n",
        "[ 0.9075  0.83    0.6875  0.4625  0.2   ]\n",
        "0.614837574088"
       ]
      },
      {
       "output_type": "stream",
       "stream": "stdout",
       "text": [
        "\n",
        "0.11165\n",
        "[ 0.95   0.835  0.74   0.56   0.185]\n",
        "0.630073775612"
       ]
      },
      {
       "output_type": "stream",
       "stream": "stdout",
       "text": [
        "\n",
        "0.11975\n",
        "[ 0.9525  0.8675  0.7275  0.545   0.2125]\n",
        "0.630073775612"
       ]
      },
      {
       "output_type": "stream",
       "stream": "stdout",
       "text": [
        "\n",
        "0.1063875\n",
        "[ 0.9425  0.8675  0.77    0.55    0.225 ]\n",
        "0.645690483304"
       ]
      },
      {
       "output_type": "stream",
       "stream": "stdout",
       "text": [
        "\n",
        "0.093525\n",
        "[ 0.9575  0.8975  0.76    0.5575  0.2075]\n",
        "0.645690483304"
       ]
      },
      {
       "output_type": "stream",
       "stream": "stdout",
       "text": [
        "\n",
        "0.08425625\n",
        "[ 0.94    0.9225  0.77    0.545   0.185 ]\n"
       ]
      }
     ],
     "prompt_number": 49
    },
    {
     "cell_type": "code",
     "collapsed": false,
     "input": [
      "out.redchi"
     ],
     "language": "python",
     "metadata": {},
     "outputs": [
      {
       "metadata": {},
       "output_type": "pyout",
       "prompt_number": 51,
       "text": [
        "0.021064062499999991"
       ]
      }
     ],
     "prompt_number": 51
    },
    {
     "cell_type": "code",
     "collapsed": false,
     "input": [
      "qsim=reload(qsim); psy=reload(psy); qsim=reload(qsim); psy=reload(psy);\n",
      "x=qsim.fit_sx_ssv(test, ssvlist=[-0.7288], ntrials=100)"
     ],
     "language": "python",
     "metadata": {},
     "outputs": [
      {
       "output_type": "stream",
       "stream": "stdout",
       "text": [
        " \r",
        "[                  0%                  ]"
       ]
      },
      {
       "output_type": "stream",
       "stream": "stdout",
       "text": [
        " \r",
        "[                  0%                  ]"
       ]
      },
      {
       "output_type": "stream",
       "stream": "stdout",
       "text": [
        " 5\n",
        "5\n"
       ]
      },
      {
       "metadata": {},
       "output_type": "display_data",
       "png": "[encoded data removed]",
       "text": [
        "<matplotlib.figure.Figure at 0x7f027b9a6fd0>"
       ]
      }
     ],
     "prompt_number": 159
    },
    {
     "cell_type": "code",
     "collapsed": false,
     "input": [
      "x"
     ],
     "language": "python",
     "metadata": {},
     "outputs": [
      {
       "html": [
        "<div style=\"max-height:1000px;max-width:1500px;overflow:auto;\">\n",
        "<table border=\"1\" class=\"dataframe\">\n",
        "  <thead>\n",
        "    <tr style=\"text-align: right;\">\n",
        "      <th></th>\n",
        "      <th>subj_idx</th>\n",
        "      <th>mse_mu</th>\n",
        "      <th>mse_sem</th>\n",
        "    </tr>\n",
        "  </thead>\n",
        "  <tbody>\n",
        "    <tr>\n",
        "      <th>0</th>\n",
        "      <td> 28</td>\n",
        "      <td> [0.125751963153, 0.296186082944]</td>\n",
        "      <td> [0.0101275378251, 0.0598872043163]</td>\n",
        "    </tr>\n",
        "    <tr>\n",
        "      <th>1</th>\n",
        "      <td> 29</td>\n",
        "      <td> [0.247830881878, 0.351526973466]</td>\n",
        "      <td> [0.0292156929201, 0.0574486811656]</td>\n",
        "    </tr>\n",
        "  </tbody>\n",
        "</table>\n",
        "</div>"
       ],
       "metadata": {},
       "output_type": "pyout",
       "prompt_number": 25,
       "text": [
        "  subj_idx                            mse_mu  \\\n",
        "0       28  [0.125751963153, 0.296186082944]   \n",
        "1       29  [0.247830881878, 0.351526973466]   \n",
        "\n",
        "                              mse_sem  \n",
        "0  [0.0101275378251, 0.0598872043163]  \n",
        "1  [0.0292156929201, 0.0574486811656]  "
       ]
      }
     ],
     "prompt_number": 25
    },
    {
     "cell_type": "code",
     "collapsed": false,
     "input": [
      "print emp_curve"
     ],
     "language": "python",
     "metadata": {},
     "outputs": [
      {
       "output_type": "stream",
       "stream": "stdout",
       "text": [
        "[ 1.     1.     1.     0.825  0.175]\n"
       ]
      }
     ],
     "prompt_number": 108
    },
    {
     "cell_type": "code",
     "collapsed": false,
     "input": [
      "data=pd.read_csv(pth+\"CoAx/SS/Reactive/Re_AllData.csv\")\n",
      "data.columns"
     ],
     "language": "python",
     "metadata": {},
     "outputs": [
      {
       "metadata": {},
       "output_type": "pyout",
       "prompt_number": 29,
       "text": [
        "Index([u'subj_idx', u'GoTrial', u'StopSignal', u'Cond', u'trial_type', u'choice', u'response', u'acc', u'rt', u'ssd'], dtype='object')"
       ]
      }
     ],
     "prompt_number": 29
    },
    {
     "cell_type": "code",
     "collapsed": false,
     "input": [
      "stops=data.query('trial_type==\"stop\"').groupby('ssd').mean()['acc'].values\n",
      "#stops.groupby('ssd').mean()['acc'].values\n",
      "#data.groupby('ssd').mean()['acc'].values[::-1]\n",
      "stops"
     ],
     "language": "python",
     "metadata": {},
     "outputs": [
      {
       "metadata": {},
       "output_type": "pyout",
       "prompt_number": 37,
       "text": [
        "array([ 0.99385246,  0.98401639,  0.91106557,  0.54959016,  0.14221311])"
       ]
      }
     ],
     "prompt_number": 37
    },
    {
     "cell_type": "code",
     "collapsed": false,
     "input": [
      "    sse=[]\n",
      "    mse_mu=[]\n",
      "\n",
      "\tsimdf['acc']=simdf['acc'].astype(float)\n",
      "\n",
      "\temp_curve=data.groupby('ssd').mean()['acc'].values[:-1][::-1]\n",
      "\t#print \"sx: %s\\n pstop: %s\" % (str(sx), str(emp_curve))\n",
      "\tfor ssv, ssv_df in simdf.groupby('ssv'):\n",
      "\t\tptable = utils.makePivot(ssv_df.query('trial_type==\"stop\" & condition==\"bsl\"'), cols='simn', index='ssd', values='acc')\n",
      "\t\t\n",
      "\t\tfor c in ptable.columns:\n",
      "\t\t\tsse.append(np.sum((ptable[c]-emp_curve[::-1])**2))\n",
      "\n",
      "\t\tmse_mu.append(np.average(sse))"
     ],
     "language": "python",
     "metadata": {},
     "outputs": []
    }
   ],
   "metadata": {}
  }
 ]
}