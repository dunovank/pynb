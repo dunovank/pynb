{
 "metadata": {
  "name": "",
  "signature": "sha256:6515606e5fdcb7572472c1ddc2c79b3f14c6f53f20e3766c480890fbf7ab88ad"
 },
 "nbformat": 3,
 "nbformat_minor": 0,
 "worksheets": [
  {
   "cells": [
    {
     "cell_type": "code",
     "collapsed": false,
     "input": [
      "import pandas as pd\n",
      "import hddm\n",
      "import seaborn as sns\n",
      "from radd import utils, ft, ss, psy, simfx, qsim\n",
      "from radd.simfx import *\n",
      "import os"
     ],
     "language": "python",
     "metadata": {},
     "outputs": [],
     "prompt_number": 1
    },
    {
     "cell_type": "code",
     "collapsed": false,
     "input": [
      "simfx=reload(simfx); utils=reload(utils); ss=reload(ss); qsim=reload(qsim); ft=reload(ft); psy=reload(psy)\n",
      "\n",
      "pth=utils.find_path()\n",
      "pro=pd.read_csv(pth+\"CoAx/SS/Proactive/Pro_AllSx_Data.csv\")\n",
      "vfull_stats=pd.read_csv(pth+\"CoAx/SS/HDDM/Proactive/vfull_sx/vfull_HiLo_550_SxStats.csv\")\n",
      "prodf=pd.read_csv(pth+\"CoAx/SS/Proactive/Pro_AllData.csv\") #(incl errors)"
     ],
     "language": "python",
     "metadata": {},
     "outputs": [],
     "prompt_number": 2
    },
    {
     "cell_type": "code",
     "collapsed": false,
     "input": [
      "sx_hi=pd.concat([sxdata.query('HiLo==\"Hi\"').describe().ix['mean'] for sx, sxdata in prodf.groupby('subj_idx')])\n",
      "sx_lo=pd.concat([sxdata.query('HiLo==\"Lo\"').describe().ix['mean'] for sx, sxdata in prodf.groupby('subj_idx')])\n",
      "print \"data: P(Inhibit|Hi_pGo) = %s\" % str(1-sx_hi.ix['response'].mean())[:5]\n",
      "print \"data: P(Inhibit|Lo_pGo) = %s\" % str(1-sx_lo.ix['response'].mean())[:5]"
     ],
     "language": "python",
     "metadata": {},
     "outputs": [
      {
       "output_type": "stream",
       "stream": "stdout",
       "text": [
        "data: P(Inhibit|Hi_pGo) = 0.082\n",
        "data: P(Inhibit|Lo_pGo) = 0.720\n"
       ]
      }
     ],
     "prompt_number": 37
    },
    {
     "cell_type": "heading",
     "level": 1,
     "metadata": {},
     "source": [
      "P(Go)={Hi,Lo}: Sim Range of SSV"
     ]
    },
    {
     "cell_type": "code",
     "collapsed": false,
     "input": [
      "qsim=reload(qsim); ss=reload(ss)\n",
      "\n",
      "p=ft.stats_summary(vfull_stats)['mean'].to_dict()\n",
      "\n",
      "a=p['a']*.1; \n",
      "z=p['z']*a; \n",
      "\n",
      "vlist=[p['v(Lo)']*.1, p['v(Hi)']*.1]\n",
      "ssvlist=-1*np.arange(0, 2, .01)\n",
      "\n",
      "gp={'a':a, 'z':z, 'Ter':p['t'], 'eta':p['sv'], 'st':0.000001, 'sz':0.000001}\n",
      "sp={'ssTer':0.0, 'ssTer_var':0.0}\n",
      "\n",
      "LoSims=[];HiSims=[]\n",
      "\n",
      "for ssv in ssvlist:\n",
      "    \n",
      "    sp['mu_ss']=ssv\n",
      "    \n",
      "    simdf=qsim.simConditions(gp, sp, vlist, pGo_list=[.2, .8], ssd=.450, mfx=simfx.thal, \n",
      "                   ntrials=1000, tb=.560, task='ssPro', conditions=['Lo', 'Hi'], return_all_beh=True)\n",
      "    \n",
      "    LoSims.append(simdf[simdf['condition']=='Lo'])\n",
      "    HiSims.append(simdf[simdf['condition']=='Hi'])\n",
      "\n",
      "    \n",
      "lo_df=pd.concat(LoSims)\n",
      "hi_df=pd.concat(HiSims)"
     ],
     "language": "python",
     "metadata": {},
     "outputs": []
    },
    {
     "cell_type": "code",
     "collapsed": false,
     "input": [
      "pstop_lo_data=1-sx_lo.ix['response'].mean()\n",
      "pstop_hi_data=1-sx_hi.ix['response'].mean()\n",
      "pstop_lo_sims=np.array([ss.anl(lo_df)['pstop'] for lo_df in LoSims])\n",
      "pstop_hi_sims=np.array([ss.anl(hi_df)['pstop'] for hi_df in HiSims])"
     ],
     "language": "python",
     "metadata": {},
     "outputs": []
    },
    {
     "cell_type": "code",
     "collapsed": false,
     "input": [
      "#lo_summary=pd.concat([ss.anl(cdf) for c, cdf in lo_df.groupby('condition')])\n",
      "f, ax = plt.subplots(1, figsize=(8, 5))\n",
      "sns.set_style('white')\n",
      "sns.set_context('poster')\n",
      "\n",
      "x=ssvlist*-1\n",
      "ax.plot(x, pstop_lo_sims, 'Purple')\n",
      "ax.plot(x, pstop_hi_sims, 'LimeGreen')\n",
      "\n",
      "lo_data=plt.hlines(y=pstop_lo_data, xmin=0, xmax=x[-1], lw=3, label=\"Low PGo Data\", color='#441B5F')\n",
      "hi_data=plt.hlines(y=pstop_hi_data, xmin=0, xmax=x[-1], lw=3, label=\"Hi PGo Data\", color='#195E19')\n",
      "\n",
      "ax.set_ylim=(pstop_lo_sims.min()-.1, pstop_lo_data+.1)\n",
      "axx=plt.setp(ax, ylabel='P(Stop)', xlabel='|SS Drift|', xticks=x, xticklabels=x, xlim=(0-.01, x[-1]+.01))\n",
      "sns.despine(bottom=False, left=False, right=True, top=True)"
     ],
     "language": "python",
     "metadata": {},
     "outputs": []
    },
    {
     "cell_type": "code",
     "collapsed": false,
     "input": [
      "sxdf=pd.read_csv(pth+\"CoAx/SS/HDDM/Proactive/sxfit_summary.csv\")\n",
      "\n",
      "n=len(pro.subj_idx.unique())\n",
      "EmpLowRT=pro.query('HiLo==\"Lo\"').describe().ix['mean', 'rt']\n",
      "SimLowRT=sxdf.query('condition==\"Lo\"').describe().ix['mean', 'go_rt_all']\n",
      "EmpHiRT=pro.query('HiLo==\"Hi\"').describe().ix['mean', 'rt']\n",
      "SimHiRT=sxdf.query('condition==\"Hi\"').describe().ix['mean', 'go_rt_all']\n",
      "\n",
      "\n",
      "estdlo=pro.query('HiLo==\"Lo\"').describe().ix['std', 'rt']\n",
      "sstdlo=sxdf.query('condition==\"Lo\"').describe().ix['std', 'go_rt_all']\n",
      "estdhi=pro.query('HiLo==\"Hi\"').describe().ix['std', 'rt']\n",
      "sstdhi=sxdf.query('condition==\"Hi\"').describe().ix['std', 'go_rt_all']\n",
      "\n",
      "\n",
      "sim_rt=np.array([SimLowRT, SimHiRT]) \n",
      "emp_rt=np.array([EmpLowRT, EmpHiRT])\n",
      "sim_err=np.array([sstdlo/np.sqrt(n-1), sstdhi/np.sqrt(n-1)])\n",
      "emp_err=np.array([estdlo/np.sqrt(n), estdhi/np.sqrt(n)])"
     ],
     "language": "python",
     "metadata": {},
     "outputs": [],
     "prompt_number": 24
    },
    {
     "cell_type": "code",
     "collapsed": false,
     "input": [
      "psy=reload(psy)\n",
      "psy.go_rt_evs(sim_rt=sim_rt, emp_rt=emp_rt, sim_err=sim_err, emp_err=emp_err, task='HiLo') "
     ],
     "language": "python",
     "metadata": {},
     "outputs": [
      {
       "metadata": {},
       "output_type": "display_data",
       "png": "[encoded data removed]",
       "text": [
        "<matplotlib.figure.Figure at 0x7fdda421fe90>"
       ]
      }
     ],
     "prompt_number": 25
    },
    {
     "cell_type": "code",
     "collapsed": false,
     "input": [
      "sxmeans=[data.rt.mean() for sx, data in pro.groupby('subj_idx')]\n",
      "\n",
      "emp_GoRT=np.mean(sxmeans)\n",
      "emp_GoRT_std=np.std(sxmeans)    \n",
      "\n",
      "print emp_GoRT\n",
      "print emp_GoRT_std"
     ],
     "language": "python",
     "metadata": {},
     "outputs": [
      {
       "metadata": {},
       "output_type": "pyout",
       "prompt_number": 53,
       "text": [
        "0.0088997859052256639"
       ]
      }
     ],
     "prompt_number": 53
    },
    {
     "cell_type": "code",
     "collapsed": false,
     "input": [
      "pth=utils.find_path()\n",
      "pro_data=pd.read_csv(pth+\"CoAx/SS/Proactive/SS_v2p3_fullsummary.dat\", sep=\"\\t\")\n",
      "pro_data['RT_sec']=pro_data['RT'].copy()*.001\n",
      "prodf=pro_data.rename(columns={'RT':'RT_msec', 'RT_sec':'rt', 'Keypress':'response'}, axis=1)\n",
      "\n",
      "prodf.ix[pro_data['Cond']==1, 'Cond']='bsl'\n",
      "prodf.ix[pro_data['Cond']==2, 'Cond']='pnl'\n",
      "#pro_df=pro.ix[pro['response']==1]\n",
      "#prodf=prodf.query(\"rt < .550\")\n",
      "\n",
      "#prosx=prodf['SubID']\n",
      "prodf['subj_idx']=[int(subj[1:]) for subj in prodf['SubID']]\n",
      "\n",
      "prodf['PGo']=['x']*len(prodf)\n",
      "prodf['HiLo']=['x']*len(prodf)\n",
      "\n",
      "prodf.ix[(prodf['StopProb']==0.0)|(prodf['StopProb']==0.2)|(prodf['StopProb']==0.4), 'HiLo']='Hi'\n",
      "prodf.ix[(prodf['StopProb']==0.6)|(prodf['StopProb']==0.8)|(prodf['StopProb']==1.0), 'HiLo']='Lo'\n",
      "\n",
      "#prodf.ix[(prodf['StopProb']==0.0)|(prodf['StopProb']==0.2), 'PGo']='bHi'\n",
      "#prodf.ix[(prodf['StopProb']==0.4)|(prodf['StopProb']==0.6), 'PGo']='bMed'\n",
      "#prodf.ix[(prodf['StopProb']==0.8)|(prodf['StopProb']==1.0), 'PGo']='cLo'\n",
      "\n",
      "prodf=prodf[['subj_idx', 'StopProb', 'HiLo', 'Cond', 'response', 'rt']]\n",
      "\n",
      "prodf.to_csv(pth+\"CoAx/SS/Proactive/Pro_AllData.csv\", index=False)\n"
     ],
     "language": "python",
     "metadata": {},
     "outputs": [],
     "prompt_number": 33
    }
   ],
   "metadata": {}
  }
 ]
}