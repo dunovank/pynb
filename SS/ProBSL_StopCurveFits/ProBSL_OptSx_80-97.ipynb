{
 "metadata": {
  "name": "",
  "signature": "sha256:a6992afc33c2e9b13684a4db10afd4b110e4ae166ac61f767f3ece7fb3160818"
 },
 "nbformat": 3,
 "nbformat_minor": 0,
 "worksheets": [
  {
   "cells": [
    {
     "cell_type": "code",
     "collapsed": false,
     "input": [
      "from __future__ import division\n",
      "import pandas as pd\n",
      "from radd import utils, simfx, ss, qsim, opt, psy, hd\n",
      "import os\n",
      "import seaborn as sns"
     ],
     "language": "python",
     "metadata": {},
     "outputs": [],
     "prompt_number": 1
    },
    {
     "cell_type": "code",
     "collapsed": false,
     "input": [
      "pth=utils.find_path()\n",
      "data=pd.read_csv(pth+\"Proactive/Pro_AllSx_tb550.csv\")"
     ],
     "language": "python",
     "metadata": {},
     "outputs": [],
     "prompt_number": 2
    },
    {
     "cell_type": "code",
     "collapsed": false,
     "input": [
      "bsl_data=data[data.Cond=='bsl']\n",
      "paramdf=pd.read_csv(pth+\"fullRaDD/ReBSL/kdfitted_sxparameters.csv\", index_col='subj_idx')\n",
      "paramdf['subj_idx']=paramdf.index.values\n",
      "paramdf.index=np.arange(len(paramdf))\n",
      "\n",
      "sxparams1=paramdf.iloc[:9,:]\n",
      "sxparams2=paramdf.iloc[9:18,:]\n",
      "sxparams3=paramdf.iloc[18:27,:]\n",
      "sxparams4=paramdf.iloc[27:36,:]\n",
      "sxparams5=paramdf.iloc[36:45,:]\n",
      "sxparams6=paramdf.iloc[45:,:]\n",
      "\n",
      "#sx 90 needs to be refit to get ReBSL params\n",
      "sxparams6=sxparams6.query('subj_idx!=90')"
     ],
     "language": "python",
     "metadata": {},
     "outputs": [],
     "prompt_number": 12
    },
    {
     "cell_type": "code",
     "collapsed": false,
     "input": [
      "ss=reload(ss); opt=reload(opt);ss=reload(ss); opt=reload(opt);\n",
      "\n",
      "sxdata6=bsl_data[bsl_data['subj_idx'].isin(sxparams6.subj_idx.unique())]\n",
      "sxdata6.subj_idx.unique()"
     ],
     "language": "python",
     "metadata": {},
     "outputs": [
      {
       "metadata": {},
       "output_type": "pyout",
       "prompt_number": 13,
       "text": [
        "array([80, 81, 82, 83, 84, 85, 86, 87, 88, 89, 95, 97])"
       ]
      }
     ],
     "prompt_number": 13
    },
    {
     "cell_type": "code",
     "collapsed": true,
     "input": [
      "opt.opt_sx_proactive(sxdata6, sxparams6, nsims=500)"
     ],
     "language": "python",
     "metadata": {},
     "outputs": []
    },
    {
     "cell_type": "heading",
     "level": 1,
     "metadata": {},
     "source": [
      "All Sx Finished (Need to re-fit sx90 on ReBSL)"
     ]
    },
    {
     "cell_type": "code",
     "collapsed": false,
     "input": [],
     "language": "python",
     "metadata": {},
     "outputs": []
    }
   ],
   "metadata": {}
  }
 ]
}