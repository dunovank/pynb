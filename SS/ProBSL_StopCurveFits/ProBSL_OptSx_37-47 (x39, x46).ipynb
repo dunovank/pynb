{
 "metadata": {
  "name": "",
  "signature": "sha256:7cc8adac45978037192bf06022da4980a3b3b00fd9ff592305b3216d67dda9da"
 },
 "nbformat": 3,
 "nbformat_minor": 0,
 "worksheets": [
  {
   "cells": [
    {
     "cell_type": "code",
     "collapsed": false,
     "input": [
      "from __future__ import division\n",
      "import pandas as pd\n",
      "from radd import utils, simfx, ss, qsim, opt, psy, hd\n",
      "import os\n",
      "import seaborn as sns"
     ],
     "language": "python",
     "metadata": {},
     "outputs": [],
     "prompt_number": 1
    },
    {
     "cell_type": "code",
     "collapsed": false,
     "input": [
      "pth=utils.find_path()\n",
      "data=pd.read_csv(pth+\"Proactive/Pro_AllSx_tb550.csv\")"
     ],
     "language": "python",
     "metadata": {},
     "outputs": [],
     "prompt_number": 2
    },
    {
     "cell_type": "code",
     "collapsed": false,
     "input": [
      "bsl_data=data[data.Cond=='bsl']\n",
      "paramdf=pd.read_csv(pth+\"fullRaDD/ReBSL/kdfitted_sxparameters.csv\", index_col='subj_idx')\n",
      "paramdf['subj_idx']=paramdf.index.values\n",
      "paramdf.index=np.arange(len(paramdf))\n",
      "\n",
      "sxparams1=paramdf.iloc[:9,:]\n",
      "sxparams2=paramdf.iloc[9:18,:]\n",
      "sxparams3=paramdf.iloc[18:27,:]\n",
      "sxparams4=paramdf.iloc[27:36,:]\n",
      "sxparams5=paramdf.iloc[36:45,:]\n",
      "sxparams6=paramdf.iloc[45:,:]\n"
     ],
     "language": "python",
     "metadata": {},
     "outputs": [],
     "prompt_number": 3
    },
    {
     "cell_type": "code",
     "collapsed": false,
     "input": [
      "ss=reload(ss); opt=reload(opt);ss=reload(ss); opt=reload(opt);\n",
      "\n",
      "sxdata2=bsl_data[bsl_data['subj_idx'].isin(sxparams2.subj_idx.unique())]\n",
      "\n",
      "sxdata2.subj_idx.unique()"
     ],
     "language": "python",
     "metadata": {},
     "outputs": [
      {
       "metadata": {},
       "output_type": "pyout",
       "prompt_number": 6,
       "text": [
        "array([37, 38, 40, 41, 42, 43, 44, 45, 47])"
       ]
      }
     ],
     "prompt_number": 6
    },
    {
     "cell_type": "code",
     "collapsed": true,
     "input": [
      "opt.opt_sx_proactive(sxdata2, sxparams2, nsims=500)"
     ],
     "language": "python",
     "metadata": {},
     "outputs": [
      {
       "html": [
        "\n",
        "\t    <div style=\"border: 1px solid black; width:500px\">\n",
        "\t    <div id=\"3bf58c3f-a8d5-460c-8e40-b5b1251fcd2c\" style=\"background-color:#4168B7; width:0%\">&nbsp;</div>\n",
        "\t    </div> \n",
        "\t    "
       ],
       "metadata": {},
       "output_type": "display_data",
       "text": [
        "<IPython.core.display.HTML at 0x7fc77a576290>"
       ]
      },
      {
       "output_type": "stream",
       "stream": "stdout",
       "text": [
        "Subject 37 P(Go=0.0): Converged\n"
       ]
      },
      {
       "javascript": [
        "$('div#3bf58c3f-a8d5-460c-8e40-b5b1251fcd2c').width('1.85%')"
       ],
       "metadata": {},
       "output_type": "display_data",
       "text": [
        "<IPython.core.display.Javascript at 0x7fc77a5a74d0>"
       ]
      },
      {
       "output_type": "stream",
       "stream": "stdout",
       "text": [
        "Subject 37 P(Go=0.2): Converged\n"
       ]
      },
      {
       "javascript": [
        "$('div#3bf58c3f-a8d5-460c-8e40-b5b1251fcd2c').width('3.70%')"
       ],
       "metadata": {},
       "output_type": "display_data",
       "text": [
        "<IPython.core.display.Javascript at 0x7fc77a6259d0>"
       ]
      },
      {
       "output_type": "stream",
       "stream": "stdout",
       "text": [
        "Subject 37 P(Go=0.4): Converged\n"
       ]
      },
      {
       "javascript": [
        "$('div#3bf58c3f-a8d5-460c-8e40-b5b1251fcd2c').width('5.56%')"
       ],
       "metadata": {},
       "output_type": "display_data",
       "text": [
        "<IPython.core.display.Javascript at 0x7fc77a6fe590>"
       ]
      },
      {
       "output_type": "stream",
       "stream": "stdout",
       "text": [
        "Subject 37 P(Go=0.6): Converged\n"
       ]
      },
      {
       "javascript": [
        "$('div#3bf58c3f-a8d5-460c-8e40-b5b1251fcd2c').width('7.41%')"
       ],
       "metadata": {},
       "output_type": "display_data",
       "text": [
        "<IPython.core.display.Javascript at 0x7fc77a607710>"
       ]
      },
      {
       "output_type": "stream",
       "stream": "stdout",
       "text": [
        "Subject 37 P(Go=0.8): Converged\n"
       ]
      },
      {
       "javascript": [
        "$('div#3bf58c3f-a8d5-460c-8e40-b5b1251fcd2c').width('9.26%')"
       ],
       "metadata": {},
       "output_type": "display_data",
       "text": [
        "<IPython.core.display.Javascript at 0x7fc77a594b50>"
       ]
      },
      {
       "output_type": "stream",
       "stream": "stdout",
       "text": [
        "Subject 37 P(Go=1.0): Converged\n"
       ]
      },
      {
       "javascript": [
        "$('div#3bf58c3f-a8d5-460c-8e40-b5b1251fcd2c').width('11.11%')"
       ],
       "metadata": {},
       "output_type": "display_data",
       "text": [
        "<IPython.core.display.Javascript at 0x7fc77a5b4350>"
       ]
      },
      {
       "output_type": "stream",
       "stream": "stdout",
       "text": [
        "----------------------------------------------------------------------------------------------------\n",
        "Subject 38 P(Go=0.0): Converged"
       ]
      },
      {
       "output_type": "stream",
       "stream": "stdout",
       "text": [
        "\n"
       ]
      },
      {
       "javascript": [
        "$('div#3bf58c3f-a8d5-460c-8e40-b5b1251fcd2c').width('12.96%')"
       ],
       "metadata": {},
       "output_type": "display_data",
       "text": [
        "<IPython.core.display.Javascript at 0x7fc77a537050>"
       ]
      },
      {
       "output_type": "stream",
       "stream": "stdout",
       "text": [
        "Subject 38 P(Go=0.2): Converged\n"
       ]
      },
      {
       "javascript": [
        "$('div#3bf58c3f-a8d5-460c-8e40-b5b1251fcd2c').width('14.81%')"
       ],
       "metadata": {},
       "output_type": "display_data",
       "text": [
        "<IPython.core.display.Javascript at 0x7fc77a537610>"
       ]
      },
      {
       "output_type": "stream",
       "stream": "stdout",
       "text": [
        "Subject 38 P(Go=0.4): Converged\n"
       ]
      },
      {
       "javascript": [
        "$('div#3bf58c3f-a8d5-460c-8e40-b5b1251fcd2c').width('16.67%')"
       ],
       "metadata": {},
       "output_type": "display_data",
       "text": [
        "<IPython.core.display.Javascript at 0x7fc77a565f10>"
       ]
      },
      {
       "output_type": "stream",
       "stream": "stdout",
       "text": [
        "Subject 38 P(Go=0.6): Converged\n"
       ]
      },
      {
       "javascript": [
        "$('div#3bf58c3f-a8d5-460c-8e40-b5b1251fcd2c').width('18.52%')"
       ],
       "metadata": {},
       "output_type": "display_data",
       "text": [
        "<IPython.core.display.Javascript at 0x7fc77a68df90>"
       ]
      },
      {
       "output_type": "stream",
       "stream": "stdout",
       "text": [
        "Subject 38 P(Go=0.8): Converged\n"
       ]
      },
      {
       "javascript": [
        "$('div#3bf58c3f-a8d5-460c-8e40-b5b1251fcd2c').width('20.37%')"
       ],
       "metadata": {},
       "output_type": "display_data",
       "text": [
        "<IPython.core.display.Javascript at 0x7fc77a68a190>"
       ]
      },
      {
       "output_type": "stream",
       "stream": "stdout",
       "text": [
        "Subject 38 P(Go=1.0): Converged\n"
       ]
      },
      {
       "javascript": [
        "$('div#3bf58c3f-a8d5-460c-8e40-b5b1251fcd2c').width('22.22%')"
       ],
       "metadata": {},
       "output_type": "display_data",
       "text": [
        "<IPython.core.display.Javascript at 0x7fc77a5d8f90>"
       ]
      },
      {
       "output_type": "stream",
       "stream": "stdout",
       "text": [
        "----------------------------------------------------------------------------------------------------\n",
        "Subject 40 P(Go=0.0): Converged"
       ]
      },
      {
       "output_type": "stream",
       "stream": "stdout",
       "text": [
        "\n"
       ]
      },
      {
       "javascript": [
        "$('div#3bf58c3f-a8d5-460c-8e40-b5b1251fcd2c').width('24.07%')"
       ],
       "metadata": {},
       "output_type": "display_data",
       "text": [
        "<IPython.core.display.Javascript at 0x7fc77a5d8850>"
       ]
      },
      {
       "output_type": "stream",
       "stream": "stdout",
       "text": [
        "Subject 40 P(Go=0.2): Converged\n"
       ]
      },
      {
       "javascript": [
        "$('div#3bf58c3f-a8d5-460c-8e40-b5b1251fcd2c').width('25.93%')"
       ],
       "metadata": {},
       "output_type": "display_data",
       "text": [
        "<IPython.core.display.Javascript at 0x7fc77a548610>"
       ]
      },
      {
       "output_type": "stream",
       "stream": "stdout",
       "text": [
        "Subject 40 P(Go=0.4): Converged\n"
       ]
      },
      {
       "javascript": [
        "$('div#3bf58c3f-a8d5-460c-8e40-b5b1251fcd2c').width('27.78%')"
       ],
       "metadata": {},
       "output_type": "display_data",
       "text": [
        "<IPython.core.display.Javascript at 0x7fc77a4f5a10>"
       ]
      },
      {
       "output_type": "stream",
       "stream": "stdout",
       "text": [
        "Subject 40 P(Go=0.6): Converged\n"
       ]
      },
      {
       "javascript": [
        "$('div#3bf58c3f-a8d5-460c-8e40-b5b1251fcd2c').width('29.63%')"
       ],
       "metadata": {},
       "output_type": "display_data",
       "text": [
        "<IPython.core.display.Javascript at 0x7fc77a4f5690>"
       ]
      },
      {
       "output_type": "stream",
       "stream": "stdout",
       "text": [
        "Subject 40 P(Go=0.8): Converged\n"
       ]
      },
      {
       "javascript": [
        "$('div#3bf58c3f-a8d5-460c-8e40-b5b1251fcd2c').width('31.48%')"
       ],
       "metadata": {},
       "output_type": "display_data",
       "text": [
        "<IPython.core.display.Javascript at 0x7fc77a68ced0>"
       ]
      },
      {
       "output_type": "stream",
       "stream": "stdout",
       "text": [
        "Subject 40 P(Go=1.0): Converged\n"
       ]
      },
      {
       "javascript": [
        "$('div#3bf58c3f-a8d5-460c-8e40-b5b1251fcd2c').width('33.33%')"
       ],
       "metadata": {},
       "output_type": "display_data",
       "text": [
        "<IPython.core.display.Javascript at 0x7fc77a686350>"
       ]
      },
      {
       "output_type": "stream",
       "stream": "stdout",
       "text": [
        "----------------------------------------------------------------------------------------------------\n",
        "Subject 41 P(Go=0.0): Converged"
       ]
      },
      {
       "output_type": "stream",
       "stream": "stdout",
       "text": [
        "\n"
       ]
      },
      {
       "javascript": [
        "$('div#3bf58c3f-a8d5-460c-8e40-b5b1251fcd2c').width('35.19%')"
       ],
       "metadata": {},
       "output_type": "display_data",
       "text": [
        "<IPython.core.display.Javascript at 0x7fc77a689c90>"
       ]
      },
      {
       "output_type": "stream",
       "stream": "stdout",
       "text": [
        "Subject 41 P(Go=0.2): Converged\n"
       ]
      },
      {
       "javascript": [
        "$('div#3bf58c3f-a8d5-460c-8e40-b5b1251fcd2c').width('37.04%')"
       ],
       "metadata": {},
       "output_type": "display_data",
       "text": [
        "<IPython.core.display.Javascript at 0x7fc77a617550>"
       ]
      },
      {
       "output_type": "stream",
       "stream": "stdout",
       "text": [
        "Subject 41 P(Go=0.4): Converged\n"
       ]
      },
      {
       "javascript": [
        "$('div#3bf58c3f-a8d5-460c-8e40-b5b1251fcd2c').width('38.89%')"
       ],
       "metadata": {},
       "output_type": "display_data",
       "text": [
        "<IPython.core.display.Javascript at 0x7fc77a5daed0>"
       ]
      },
      {
       "output_type": "stream",
       "stream": "stdout",
       "text": [
        "Subject 41 P(Go=0.6): Converged\n"
       ]
      },
      {
       "javascript": [
        "$('div#3bf58c3f-a8d5-460c-8e40-b5b1251fcd2c').width('40.74%')"
       ],
       "metadata": {},
       "output_type": "display_data",
       "text": [
        "<IPython.core.display.Javascript at 0x7fc77a50b810>"
       ]
      },
      {
       "output_type": "stream",
       "stream": "stdout",
       "text": [
        "Subject 41 P(Go=0.8): Converged\n"
       ]
      },
      {
       "javascript": [
        "$('div#3bf58c3f-a8d5-460c-8e40-b5b1251fcd2c').width('42.59%')"
       ],
       "metadata": {},
       "output_type": "display_data",
       "text": [
        "<IPython.core.display.Javascript at 0x7fc77a519e50>"
       ]
      },
      {
       "output_type": "stream",
       "stream": "stdout",
       "text": [
        "Subject 41 P(Go=1.0): Converged\n"
       ]
      },
      {
       "javascript": [
        "$('div#3bf58c3f-a8d5-460c-8e40-b5b1251fcd2c').width('44.44%')"
       ],
       "metadata": {},
       "output_type": "display_data",
       "text": [
        "<IPython.core.display.Javascript at 0x7fc77a71c210>"
       ]
      },
      {
       "output_type": "stream",
       "stream": "stdout",
       "text": [
        "----------------------------------------------------------------------------------------------------\n",
        "Subject 42 P(Go=0.0): Converged"
       ]
      },
      {
       "output_type": "stream",
       "stream": "stdout",
       "text": [
        "\n"
       ]
      },
      {
       "javascript": [
        "$('div#3bf58c3f-a8d5-460c-8e40-b5b1251fcd2c').width('46.30%')"
       ],
       "metadata": {},
       "output_type": "display_data",
       "text": [
        "<IPython.core.display.Javascript at 0x7fc77a6b66d0>"
       ]
      },
      {
       "output_type": "stream",
       "stream": "stdout",
       "text": [
        "Subject 42 P(Go=0.2): Converged\n"
       ]
      },
      {
       "javascript": [
        "$('div#3bf58c3f-a8d5-460c-8e40-b5b1251fcd2c').width('48.15%')"
       ],
       "metadata": {},
       "output_type": "display_data",
       "text": [
        "<IPython.core.display.Javascript at 0x7fc77a6c2090>"
       ]
      },
      {
       "output_type": "stream",
       "stream": "stdout",
       "text": [
        "Subject 42 P(Go=0.4): Converged\n"
       ]
      },
      {
       "javascript": [
        "$('div#3bf58c3f-a8d5-460c-8e40-b5b1251fcd2c').width('50.00%')"
       ],
       "metadata": {},
       "output_type": "display_data",
       "text": [
        "<IPython.core.display.Javascript at 0x7fc77a5c0e10>"
       ]
      },
      {
       "output_type": "stream",
       "stream": "stdout",
       "text": [
        "Subject 42 P(Go=0.6): Converged\n"
       ]
      },
      {
       "javascript": [
        "$('div#3bf58c3f-a8d5-460c-8e40-b5b1251fcd2c').width('51.85%')"
       ],
       "metadata": {},
       "output_type": "display_data",
       "text": [
        "<IPython.core.display.Javascript at 0x7fc77a5d6c50>"
       ]
      },
      {
       "output_type": "stream",
       "stream": "stdout",
       "text": [
        "Subject 42 P(Go=0.8): Converged\n"
       ]
      },
      {
       "javascript": [
        "$('div#3bf58c3f-a8d5-460c-8e40-b5b1251fcd2c').width('53.70%')"
       ],
       "metadata": {},
       "output_type": "display_data",
       "text": [
        "<IPython.core.display.Javascript at 0x7fc77a56e590>"
       ]
      },
      {
       "output_type": "stream",
       "stream": "stdout",
       "text": [
        "Subject 42 P(Go=1.0): Converged\n"
       ]
      },
      {
       "javascript": [
        "$('div#3bf58c3f-a8d5-460c-8e40-b5b1251fcd2c').width('55.56%')"
       ],
       "metadata": {},
       "output_type": "display_data",
       "text": [
        "<IPython.core.display.Javascript at 0x7fc77a691f50>"
       ]
      },
      {
       "output_type": "stream",
       "stream": "stdout",
       "text": [
        "----------------------------------------------------------------------------------------------------\n",
        "Subject 43 P(Go=0.0): Converged"
       ]
      },
      {
       "output_type": "stream",
       "stream": "stdout",
       "text": [
        "\n"
       ]
      },
      {
       "javascript": [
        "$('div#3bf58c3f-a8d5-460c-8e40-b5b1251fcd2c').width('57.41%')"
       ],
       "metadata": {},
       "output_type": "display_data",
       "text": [
        "<IPython.core.display.Javascript at 0x7fc77a731ad0>"
       ]
      },
      {
       "output_type": "stream",
       "stream": "stdout",
       "text": [
        "Subject 43 P(Go=0.2): Converged\n"
       ]
      },
      {
       "javascript": [
        "$('div#3bf58c3f-a8d5-460c-8e40-b5b1251fcd2c').width('59.26%')"
       ],
       "metadata": {},
       "output_type": "display_data",
       "text": [
        "<IPython.core.display.Javascript at 0x7fc77a6bde10>"
       ]
      },
      {
       "output_type": "stream",
       "stream": "stdout",
       "text": [
        "Subject 43 P(Go=0.4): Converged\n"
       ]
      },
      {
       "javascript": [
        "$('div#3bf58c3f-a8d5-460c-8e40-b5b1251fcd2c').width('61.11%')"
       ],
       "metadata": {},
       "output_type": "display_data",
       "text": [
        "<IPython.core.display.Javascript at 0x7fc77a703250>"
       ]
      },
      {
       "output_type": "stream",
       "stream": "stdout",
       "text": [
        "Subject 43 P(Go=0.6): Converged\n"
       ]
      },
      {
       "javascript": [
        "$('div#3bf58c3f-a8d5-460c-8e40-b5b1251fcd2c').width('62.96%')"
       ],
       "metadata": {},
       "output_type": "display_data",
       "text": [
        "<IPython.core.display.Javascript at 0x7fc77a5e05d0>"
       ]
      },
      {
       "output_type": "stream",
       "stream": "stdout",
       "text": [
        "Subject 43 P(Go=0.8): Converged\n"
       ]
      },
      {
       "javascript": [
        "$('div#3bf58c3f-a8d5-460c-8e40-b5b1251fcd2c').width('64.81%')"
       ],
       "metadata": {},
       "output_type": "display_data",
       "text": [
        "<IPython.core.display.Javascript at 0x7fc77a556190>"
       ]
      },
      {
       "output_type": "stream",
       "stream": "stdout",
       "text": [
        "Subject 43 P(Go=1.0): Converged\n"
       ]
      },
      {
       "javascript": [
        "$('div#3bf58c3f-a8d5-460c-8e40-b5b1251fcd2c').width('66.67%')"
       ],
       "metadata": {},
       "output_type": "display_data",
       "text": [
        "<IPython.core.display.Javascript at 0x7fc77a6cf350>"
       ]
      },
      {
       "output_type": "stream",
       "stream": "stdout",
       "text": [
        "----------------------------------------------------------------------------------------------------\n",
        "Subject 44 P(Go=0.0): Converged"
       ]
      },
      {
       "output_type": "stream",
       "stream": "stdout",
       "text": [
        "\n"
       ]
      },
      {
       "javascript": [
        "$('div#3bf58c3f-a8d5-460c-8e40-b5b1251fcd2c').width('68.52%')"
       ],
       "metadata": {},
       "output_type": "display_data",
       "text": [
        "<IPython.core.display.Javascript at 0x7fc77a68fed0>"
       ]
      },
      {
       "output_type": "stream",
       "stream": "stdout",
       "text": [
        "Subject 44 P(Go=0.2): Converged\n"
       ]
      },
      {
       "javascript": [
        "$('div#3bf58c3f-a8d5-460c-8e40-b5b1251fcd2c').width('70.37%')"
       ],
       "metadata": {},
       "output_type": "display_data",
       "text": [
        "<IPython.core.display.Javascript at 0x7fc77a731cd0>"
       ]
      },
      {
       "output_type": "stream",
       "stream": "stdout",
       "text": [
        "Subject 44 P(Go=0.4): Converged\n"
       ]
      },
      {
       "javascript": [
        "$('div#3bf58c3f-a8d5-460c-8e40-b5b1251fcd2c').width('72.22%')"
       ],
       "metadata": {},
       "output_type": "display_data",
       "text": [
        "<IPython.core.display.Javascript at 0x7fc77a7315d0>"
       ]
      },
      {
       "output_type": "stream",
       "stream": "stdout",
       "text": [
        "Subject 44 P(Go=0.6): Converged\n"
       ]
      },
      {
       "javascript": [
        "$('div#3bf58c3f-a8d5-460c-8e40-b5b1251fcd2c').width('74.07%')"
       ],
       "metadata": {},
       "output_type": "display_data",
       "text": [
        "<IPython.core.display.Javascript at 0x7fc77a59aa90>"
       ]
      },
      {
       "output_type": "stream",
       "stream": "stdout",
       "text": [
        "Subject 44 P(Go=0.8): Converged\n"
       ]
      },
      {
       "javascript": [
        "$('div#3bf58c3f-a8d5-460c-8e40-b5b1251fcd2c').width('75.93%')"
       ],
       "metadata": {},
       "output_type": "display_data",
       "text": [
        "<IPython.core.display.Javascript at 0x7fc77a5eaf50>"
       ]
      },
      {
       "output_type": "stream",
       "stream": "stdout",
       "text": [
        "Subject 44 P(Go=1.0): Converged\n"
       ]
      },
      {
       "javascript": [
        "$('div#3bf58c3f-a8d5-460c-8e40-b5b1251fcd2c').width('77.78%')"
       ],
       "metadata": {},
       "output_type": "display_data",
       "text": [
        "<IPython.core.display.Javascript at 0x7fc77a546450>"
       ]
      },
      {
       "output_type": "stream",
       "stream": "stdout",
       "text": [
        "----------------------------------------------------------------------------------------------------\n",
        "Subject 45 P(Go=0.0): Converged"
       ]
      },
      {
       "output_type": "stream",
       "stream": "stdout",
       "text": [
        "\n"
       ]
      },
      {
       "javascript": [
        "$('div#3bf58c3f-a8d5-460c-8e40-b5b1251fcd2c').width('79.63%')"
       ],
       "metadata": {},
       "output_type": "display_data",
       "text": [
        "<IPython.core.display.Javascript at 0x7fc77a6c5990>"
       ]
      },
      {
       "output_type": "stream",
       "stream": "stdout",
       "text": [
        "Subject 45 P(Go=0.2): Converged\n"
       ]
      },
      {
       "javascript": [
        "$('div#3bf58c3f-a8d5-460c-8e40-b5b1251fcd2c').width('81.48%')"
       ],
       "metadata": {},
       "output_type": "display_data",
       "text": [
        "<IPython.core.display.Javascript at 0x7fc77a70b0d0>"
       ]
      },
      {
       "output_type": "stream",
       "stream": "stdout",
       "text": [
        "Subject 45 P(Go=0.4): Converged\n"
       ]
      },
      {
       "javascript": [
        "$('div#3bf58c3f-a8d5-460c-8e40-b5b1251fcd2c').width('83.33%')"
       ],
       "metadata": {},
       "output_type": "display_data",
       "text": [
        "<IPython.core.display.Javascript at 0x7fc77a691050>"
       ]
      },
      {
       "output_type": "stream",
       "stream": "stdout",
       "text": [
        "Subject 45 P(Go=0.6): Converged\n"
       ]
      },
      {
       "javascript": [
        "$('div#3bf58c3f-a8d5-460c-8e40-b5b1251fcd2c').width('85.19%')"
       ],
       "metadata": {},
       "output_type": "display_data",
       "text": [
        "<IPython.core.display.Javascript at 0x7fc77a71f210>"
       ]
      },
      {
       "output_type": "stream",
       "stream": "stdout",
       "text": [
        "Subject 45 P(Go=0.8): Converged\n"
       ]
      },
      {
       "javascript": [
        "$('div#3bf58c3f-a8d5-460c-8e40-b5b1251fcd2c').width('87.04%')"
       ],
       "metadata": {},
       "output_type": "display_data",
       "text": [
        "<IPython.core.display.Javascript at 0x7fc77a535490>"
       ]
      },
      {
       "output_type": "stream",
       "stream": "stdout",
       "text": [
        "Subject 45 P(Go=1.0): Converged\n"
       ]
      },
      {
       "javascript": [
        "$('div#3bf58c3f-a8d5-460c-8e40-b5b1251fcd2c').width('88.89%')"
       ],
       "metadata": {},
       "output_type": "display_data",
       "text": [
        "<IPython.core.display.Javascript at 0x7fc77a535e10>"
       ]
      },
      {
       "output_type": "stream",
       "stream": "stdout",
       "text": [
        "----------------------------------------------------------------------------------------------------\n",
        "Subject 47 P(Go=0.0): Converged"
       ]
      },
      {
       "output_type": "stream",
       "stream": "stdout",
       "text": [
        "\n"
       ]
      },
      {
       "javascript": [
        "$('div#3bf58c3f-a8d5-460c-8e40-b5b1251fcd2c').width('90.74%')"
       ],
       "metadata": {},
       "output_type": "display_data",
       "text": [
        "<IPython.core.display.Javascript at 0x7fc77a5f91d0>"
       ]
      },
      {
       "output_type": "stream",
       "stream": "stdout",
       "text": [
        "Subject 47 P(Go=0.2): Converged\n"
       ]
      },
      {
       "javascript": [
        "$('div#3bf58c3f-a8d5-460c-8e40-b5b1251fcd2c').width('92.59%')"
       ],
       "metadata": {},
       "output_type": "display_data",
       "text": [
        "<IPython.core.display.Javascript at 0x7fc77a68d710>"
       ]
      },
      {
       "output_type": "stream",
       "stream": "stdout",
       "text": [
        "Subject 47 P(Go=0.4): Converged\n"
       ]
      },
      {
       "javascript": [
        "$('div#3bf58c3f-a8d5-460c-8e40-b5b1251fcd2c').width('94.44%')"
       ],
       "metadata": {},
       "output_type": "display_data",
       "text": [
        "<IPython.core.display.Javascript at 0x7fc77a68d190>"
       ]
      },
      {
       "output_type": "stream",
       "stream": "stdout",
       "text": [
        "Subject 47 P(Go=0.6): Converged\n"
       ]
      },
      {
       "javascript": [
        "$('div#3bf58c3f-a8d5-460c-8e40-b5b1251fcd2c').width('96.30%')"
       ],
       "metadata": {},
       "output_type": "display_data",
       "text": [
        "<IPython.core.display.Javascript at 0x7fc77a6b6c90>"
       ]
      },
      {
       "output_type": "stream",
       "stream": "stdout",
       "text": [
        "Subject 47 P(Go=0.8): Converged\n"
       ]
      },
      {
       "javascript": [
        "$('div#3bf58c3f-a8d5-460c-8e40-b5b1251fcd2c').width('98.15%')"
       ],
       "metadata": {},
       "output_type": "display_data",
       "text": [
        "<IPython.core.display.Javascript at 0x7fc77a60e8d0>"
       ]
      },
      {
       "output_type": "stream",
       "stream": "stdout",
       "text": [
        "Subject 47 P(Go=1.0): Converged\n"
       ]
      },
      {
       "javascript": [
        "$('div#3bf58c3f-a8d5-460c-8e40-b5b1251fcd2c').width('100.00%')"
       ],
       "metadata": {},
       "output_type": "display_data",
       "text": [
        "<IPython.core.display.Javascript at 0x7fc77a5e0750>"
       ]
      },
      {
       "output_type": "stream",
       "stream": "stdout",
       "text": [
        "----------------------------------------------------------------------------------------------------\n"
       ]
      }
     ],
     "prompt_number": 7
    }
   ],
   "metadata": {}
  }
 ]
}