{
 "metadata": {
  "name": "stats_intro_patsy"
 },
 "nbformat": 3,
 "nbformat_minor": 0,
 "worksheets": [
  {
   "cells": [
    {
     "cell_type": "markdown",
     "metadata": {},
     "source": [
      "Patsy\n",
      "=====\n",
      "\n",
      "Patsy is a new package enabling R-style model specification in statsmodels.\n",
      "\n",
      "\"It's only a model!\"\n",
      "--------------------\n",
      "\n",
      "![Alt text](http://jseabold.net/presentations/img/patsy_holygrail.jpeg)\n",
      "\n",
      "But first, some general imports and settings:"
     ]
    },
    {
     "cell_type": "code",
     "collapsed": false,
     "input": [
      "import pandas\n",
      "import statsmodels.api as sm\n",
      "import numpy as np\n",
      "\n",
      "from statsmodels.formula.api import ols"
     ],
     "language": "python",
     "metadata": {},
     "outputs": [
      {
       "output_type": "stream",
       "stream": "stdout",
       "text": [
        "   female  read  write  math   lgwrite    lgmath\n",
        "0    male    57     52    41  3.951244  3.713572\n",
        "1  female    68     59    53  4.077538  3.970292\n",
        "2    male    44     33    54  3.496508  3.988984\n",
        "3    male    63     44    47  3.784190  3.850147\n",
        "4    male    47     52    57  3.951244  4.043051\n",
        "5    male    44     52    51  3.951244  3.931826\n",
        "6    male    50     59    42  4.077538  3.737670\n",
        "7    male    34     46    45  3.828641  3.806663\n",
        "8    male    63     57    54  4.043051  3.988984\n",
        "9    male    57     55    52  4.007333  3.951244\n"
       ]
      }
     ],
     "prompt_number": 5
    },
    {
     "cell_type": "raw",
     "metadata": {},
     "source": [
      "Lets load in some data to show you the syntax (these are student ratings, but not really important for now, we'll do a more complete example after this)."
     ]
    },
    {
     "cell_type": "code",
     "collapsed": false,
     "input": [
      "url = \"http://www.ats.ucla.edu/stat/mult_pkg/faq/general/lgtrans.csv\"\n",
      "data = pandas.read_csv(url)\n",
      "print data.head(10)"
     ],
     "language": "python",
     "metadata": {},
     "outputs": [
      {
       "output_type": "stream",
       "stream": "stdout",
       "text": [
        "   female  read  write  math   lgwrite    lgmath\n",
        "0    male    57     52    41  3.951244  3.713572\n",
        "1  female    68     59    53  4.077538  3.970292\n",
        "2    male    44     33    54  3.496508  3.988984\n",
        "3    male    63     44    47  3.784190  3.850147\n",
        "4    male    47     52    57  3.951244  4.043051\n",
        "5    male    44     52    51  3.951244  3.931826\n",
        "6    male    50     59    42  4.077538  3.737670\n",
        "7    male    34     46    45  3.828641  3.806663\n",
        "8    male    63     57    54  4.043051  3.988984\n",
        "9    male    57     55    52  4.007333  3.951244\n"
       ]
      }
     ],
     "prompt_number": 6
    },
    {
     "cell_type": "raw",
     "metadata": {},
     "source": [
      "Is there a relationship between the writing score and the sex, math and reading scores?\n",
      "\n",
      "There are actually quite a few things here:\n",
      "1. C(female) means that the colum named 'female' contains categorical data.\n",
      "2. We want to use log transformed math and reading scores. Note that we can just use numpy transforms (or any other) in our model descriptions."
     ]
    },
    {
     "cell_type": "code",
     "collapsed": false,
     "input": [
      "model = \"write ~ C(female) + np.log(math) + np.log(read)\"\n",
      "test_scores = ols(model, data).fit()\n",
      "print test_scores.summary()"
     ],
     "language": "python",
     "metadata": {},
     "outputs": [
      {
       "output_type": "stream",
       "stream": "stdout",
       "text": [
        "                            OLS Regression Results                            \n",
        "==============================================================================\n",
        "Dep. Variable:                  write   R-squared:                       0.530\n",
        "Model:                            OLS   Adj. R-squared:                  0.523\n",
        "Method:                 Least Squares   F-statistic:                     73.70\n",
        "Date:                Sat, 01 Dec 2012   Prob (F-statistic):           5.92e-32\n",
        "Time:                        12:06:11   Log-Likelihood:                -657.58\n",
        "No. Observations:                 200   AIC:                             1323.\n",
        "Df Residuals:                     196   BIC:                             1336.\n",
        "Df Model:                           3                                         \n",
        "=====================================================================================\n",
        "                        coef    std err          t      P>|t|      [95.0% Conf. Int.]\n",
        "-------------------------------------------------------------------------------------\n",
        "Intercept           -93.7752     10.766     -8.710      0.000      -115.007   -72.543\n",
        "C(female)[T.male]    -5.3888      0.931     -5.789      0.000        -7.224    -3.553\n",
        "np.log(math)         20.9410      3.431      6.104      0.000        14.175    27.707\n",
        "np.log(read)         16.8522      3.063      5.501      0.000        10.811    22.894\n",
        "==============================================================================\n",
        "Omnibus:                        2.259   Durbin-Watson:                   1.999\n",
        "Prob(Omnibus):                  0.323   Jarque-Bera (JB):                2.286\n",
        "Skew:                          -0.253   Prob(JB):                        0.319\n",
        "Kurtosis:                       2.866   Cond. No.                         135.\n",
        "==============================================================================\n"
       ]
      }
     ],
     "prompt_number": 7
    },
    {
     "cell_type": "code",
     "collapsed": false,
     "input": [
      "X = [['female', 65, 70]]\n",
      "X = pandas.DataFrame(X, columns=[\"female\", \"math\", \"read\"])\n",
      "print test_scores.predict(X)"
     ],
     "language": "python",
     "metadata": {},
     "outputs": [
      {
       "output_type": "stream",
       "stream": "stdout",
       "text": [
        "[ 65.2368995]\n"
       ]
      }
     ],
     "prompt_number": 8
    },
    {
     "cell_type": "code",
     "collapsed": false,
     "input": [
      "X = dict(female=['female'], read=[70], math=[65])\n",
      "print test_scores.predict(X)"
     ],
     "language": "python",
     "metadata": {},
     "outputs": [
      {
       "output_type": "stream",
       "stream": "stdout",
       "text": [
        "[ 65.2368995]\n"
       ]
      }
     ],
     "prompt_number": 9
    },
    {
     "cell_type": "raw",
     "metadata": {},
     "source": [
      "Operator\t            Meaning\n",
      "   ~        Separate the left-hand side from the right-hand side. If omitted, formula is assumed right-hand side only.\n",
      "   +        Combines terms on either side (set union).\n",
      "   -        Removes terms on the right from set of terms on the left (set difference).\n",
      "   *        a*b is shorthand for the expansion a + b + a:b.\n",
      "   /        a/b is shorthand for the expansion a + a:b. It is used when b is nested within a (e.g., states and counties)\n",
      "   :        Computes the interaction between terms on the left and right.\n",
      "   **       Takes a set of terms on the left and an integer n on the right and computes the * of that set of terms with itself n times."
     ]
    },
    {
     "cell_type": "code",
     "collapsed": false,
     "input": [
      "from patsy import EvalEnvironment, ModelDesc\n",
      "\n",
      "env = EvalEnvironment.capture()\n",
      "formula = \"y ~ (a + b):(c + d)\"\n",
      "desc = ModelDesc.from_formula(formula, env)\n",
      "desc.describe()"
     ],
     "language": "python",
     "metadata": {},
     "outputs": [
      {
       "output_type": "pyout",
       "prompt_number": 11,
       "text": [
        "'y ~ a:c + a:d + b:c + b:d'"
       ]
      }
     ],
     "prompt_number": 11
    },
    {
     "cell_type": "raw",
     "metadata": {},
     "source": [
      "Factors\n",
      "These are not R factors\n",
      "Factors can be arbitrary Python code log(x) if x > 1e-5 else log(1e-5)\n",
      "How to tell Python operators from Patsy operators?\n",
      "Python code factors begin when a token is not a Patsy operator or a paranthesis\n",
      "They end when there is a token that is not a Patsy token and it is not in a paranthesis-like expression (), ], })"
     ]
    },
    {
     "cell_type": "code",
     "collapsed": false,
     "input": [
      "formula = \"(x1*x2)**2\" # patsy factors\n",
      "desc = ModelDesc.from_formula(formula, env)\n",
      "desc.describe()"
     ],
     "language": "python",
     "metadata": {},
     "outputs": [
      {
       "output_type": "pyout",
       "prompt_number": 12,
       "text": [
        "'~ x1 + x2 + x1:x2'"
       ]
      }
     ],
     "prompt_number": 12
    },
    {
     "cell_type": "code",
     "collapsed": false,
     "input": [
      "formula = \"I((x1+x2)**2)\" # Python factors\n",
      "desc = ModelDesc.from_formula(formula, env)\n",
      "desc.describe()"
     ],
     "language": "python",
     "metadata": {},
     "outputs": [
      {
       "output_type": "pyout",
       "prompt_number": 14,
       "text": [
        "'~ I((x1 + x2) ** 2)'"
       ]
      }
     ],
     "prompt_number": 14
    }
   ],
   "metadata": {}
  }
 ]
}