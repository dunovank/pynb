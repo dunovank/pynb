{
 "metadata": {
  "name": "stats_linear_models"
 },
 "nbformat": 3,
 "nbformat_minor": 0,
 "worksheets": [
  {
   "cells": [
    {
     "cell_type": "raw",
     "metadata": {},
     "source": [
      "This notebook introduces the use of pandas and the formula framework in statsmodels in the context of linear modeling."
     ]
    },
    {
     "cell_type": "heading",
     "level": 4,
     "metadata": {},
     "source": [
      "It is based heavily on Jonathan Taylor's class notes that use R\n",
      "http://www.stanford.edu/class/stats191/interactions.html"
     ]
    },
    {
     "cell_type": "heading",
     "level": 3,
     "metadata": {},
     "source": [
      "Formula interface may change slightly before 0.5.0 release."
     ]
    },
    {
     "cell_type": "raw",
     "metadata": {},
     "source": [
      "Some general imports"
     ]
    },
    {
     "cell_type": "code",
     "collapsed": false,
     "input": [
      "import numpy as np\n",
      "import statsmodels.api as sm\n",
      "import matplotlib.pyplot as plt\n",
      "import pandas\n",
      "from scipy import stats\n",
      "\n",
      "np.set_printoptions(precision=4, suppress=True)\n",
      "pandas.set_printoptions(notebook_repr_html=False,\n",
      "                        precision=4,\n",
      "                        max_columns=12)"
     ],
     "language": "python",
     "metadata": {},
     "outputs": [],
     "prompt_number": 1
    },
    {
     "cell_type": "code",
     "collapsed": false,
     "input": [
      "from statsmodels.formula.api import ols\n",
      "from statsmodels.graphics.api import interaction_plot, abline_plot, qqplot\n",
      "from statsmodels.stats.api import anova_lm"
     ],
     "language": "python",
     "metadata": {},
     "outputs": [],
     "prompt_number": 2
    },
    {
     "cell_type": "heading",
     "level": 2,
     "metadata": {},
     "source": [
      "Example 1: IT salary data"
     ]
    },
    {
     "cell_type": "raw",
     "metadata": {},
     "source": [
      "Outcome:    S, salaries for IT staff in a corporation\n",
      "Predictors: X, experience in years\n",
      "            M, managment, 2 levels, 0=non-management, 1=management\n",
      "            E, education, 3 levels, 1=Bachelor's, 2=Master's, 3=Ph.D"
     ]
    },
    {
     "cell_type": "code",
     "collapsed": false,
     "input": [
      "try:\n",
      "    salary_table = pandas.read_csv('salary.table')\n",
      "except:\n",
      "    url = 'http://stats191.stanford.edu/data/salary.table'\n",
      "    salary_table = pandas.read_table(url) # needs pandas 0.7.3\n",
      "    salary_table.to_csv('salary.table', index=False)"
     ],
     "language": "python",
     "metadata": {},
     "outputs": [],
     "prompt_number": 3
    },
    {
     "cell_type": "code",
     "collapsed": false,
     "input": [
      "print salary_table.head(10)"
     ],
     "language": "python",
     "metadata": {},
     "outputs": [
      {
       "output_type": "stream",
       "stream": "stdout",
       "text": [
        "       S  X  E  M\n",
        "0  13876  1  1  1\n",
        "1  11608  1  3  0\n",
        "2  18701  1  3  1\n",
        "3  11283  1  2  0\n",
        "4  11767  1  3  0\n",
        "5  20872  2  2  1\n",
        "6  11772  2  2  0\n",
        "7  10535  2  1  0\n",
        "8  12195  2  3  0\n",
        "9  12313  3  2  0\n"
       ]
      }
     ],
     "prompt_number": 4
    },
    {
     "cell_type": "code",
     "collapsed": false,
     "input": [
      "E = salary_table.E # Education\n",
      "M = salary_table.M # Management\n",
      "X = salary_table.X # Experience\n",
      "S = salary_table.S # Salary"
     ],
     "language": "python",
     "metadata": {},
     "outputs": [],
     "prompt_number": 5
    },
    {
     "cell_type": "raw",
     "metadata": {},
     "source": [
      "A context manager that mimics R's with() function can be found here: https://gist.github.com/2347382"
     ]
    },
    {
     "cell_type": "raw",
     "metadata": {},
     "source": [
      "Let's explore the data"
     ]
    },
    {
     "cell_type": "code",
     "collapsed": false,
     "input": [
      "fig = plt.figure(figsize=(10,8))\n",
      "ax = fig.add_subplot(111, xlabel='Experience', ylabel='Salary',\n",
      "            xlim=(0, 27), ylim=(9600, 28800))\n",
      "symbols = ['D', '^']\n",
      "man_label = [\"Non-Mgmt\", \"Mgmt\"]\n",
      "educ_label = [\"Bachelors\", \"Masters\", \"PhD\"]\n",
      "colors = ['r', 'g', 'blue']\n",
      "factor_groups = salary_table.groupby(['E','M'])\n",
      "for values, group in factor_groups:\n",
      "    i,j = values\n",
      "    label = \"%s - %s\" % (man_label[j], educ_label[i-1])\n",
      "    ax.scatter(group['X'], group['S'], marker=symbols[j], color=colors[i-1],\n",
      "               s=350, label=label)\n",
      "ax.legend(scatterpoints=1, markerscale=.7, labelspacing=1);"
     ],
     "language": "python",
     "metadata": {},
     "outputs": [
      {
       "output_type": "display_data",
       "png": "[encoded data removed]",
       "text": [
        "<matplotlib.figure.Figure at 0xaebeaac>"
       ]
      }
     ],
     "prompt_number": 6
    },
    {
     "cell_type": "markdown",
     "metadata": {},
     "source": [
      "Fit a linear model\n",
      "\n",
      "$$S_i = \\beta_0 + \\beta_1X_i + \\beta_2E_{i2} + \\beta_3E_{i3} + \\beta_4M_i + \\epsilon_i$$\n",
      "\n",
      "where\n",
      "\n",
      "$$ E_{i2}=\\cases{1,&if $E_i=2$;\\cr 0,&otherwise. \\cr}$$ \n",
      "$$ E_{i3}=\\cases{1,&if $E_i=3$;\\cr 0,&otherwise. \\cr}$$ \n"
     ]
    },
    {
     "cell_type": "code",
     "collapsed": false,
     "input": [
      "formula = 'S ~ C(E) + C(M) + X'\n",
      "lm = ols(formula, salary_table).fit()\n",
      "print lm.summary()"
     ],
     "language": "python",
     "metadata": {},
     "outputs": [
      {
       "output_type": "stream",
       "stream": "stdout",
       "text": [
        "                            OLS Regression Results                            \n",
        "==============================================================================\n",
        "Dep. Variable:                      S   R-squared:                       0.957\n",
        "Model:                            OLS   Adj. R-squared:                  0.953\n",
        "Method:                 Least Squares   F-statistic:                     226.8\n",
        "Date:                Sat, 01 Dec 2012   Prob (F-statistic):           2.23e-27\n",
        "Time:                        12:28:58   Log-Likelihood:                -381.63\n",
        "No. Observations:                  46   AIC:                             773.3\n",
        "Df Residuals:                      41   BIC:                             782.4\n",
        "Df Model:                           4                                         \n",
        "==============================================================================\n",
        "                 coef    std err          t      P>|t|      [95.0% Conf. Int.]\n",
        "------------------------------------------------------------------------------\n",
        "Intercept   8035.5976    386.689     20.781      0.000      7254.663  8816.532\n",
        "C(E)[T.2]   3144.0352    361.968      8.686      0.000      2413.025  3875.045\n",
        "C(E)[T.3]   2996.2103    411.753      7.277      0.000      2164.659  3827.762\n",
        "C(M)[T.1]   6883.5310    313.919     21.928      0.000      6249.559  7517.503\n",
        "X            546.1840     30.519     17.896      0.000       484.549   607.819\n",
        "==============================================================================\n",
        "Omnibus:                        2.293   Durbin-Watson:                   2.237\n",
        "Prob(Omnibus):                  0.318   Jarque-Bera (JB):                1.362\n",
        "Skew:                          -0.077   Prob(JB):                        0.506\n",
        "Kurtosis:                       2.171   Cond. No.                         33.5\n",
        "==============================================================================\n"
       ]
      }
     ],
     "prompt_number": 7
    },
    {
     "cell_type": "heading",
     "level": 2,
     "metadata": {},
     "source": [
      "Aside: Contrasts (see contrasts notebook)"
     ]
    },
    {
     "cell_type": "raw",
     "metadata": {},
     "source": [
      "Look at the design matrix created for us. Every results instance has a reference to the model."
     ]
    },
    {
     "cell_type": "code",
     "collapsed": false,
     "input": [
      "lm.model.exog"
     ],
     "language": "python",
     "metadata": {},
     "outputs": [
      {
       "output_type": "pyout",
       "prompt_number": 24,
       "text": [
        "array([[  1.,   0.,   0.,   1.,   1.],\n",
        "       [  1.,   0.,   1.,   0.,   1.],\n",
        "       [  1.,   0.,   1.,   1.,   1.],\n",
        "       [  1.,   1.,   0.,   0.,   1.],\n",
        "       [  1.,   0.,   1.,   0.,   1.],\n",
        "       [  1.,   1.,   0.,   1.,   2.],\n",
        "       [  1.,   1.,   0.,   0.,   2.],\n",
        "       [  1.,   0.,   0.,   0.,   2.],\n",
        "       [  1.,   0.,   1.,   0.,   2.],\n",
        "       [  1.,   1.,   0.,   0.,   3.],\n",
        "       [  1.,   0.,   0.,   1.,   3.],\n",
        "       [  1.,   1.,   0.,   1.,   3.],\n",
        "       [  1.,   0.,   1.,   1.,   3.],\n",
        "       [  1.,   0.,   0.,   0.,   4.],\n",
        "       [  1.,   0.,   1.,   1.,   4.],\n",
        "       [  1.,   0.,   1.,   0.,   4.],\n",
        "       [  1.,   1.,   0.,   0.,   4.],\n",
        "       [  1.,   1.,   0.,   0.,   5.],\n",
        "       [  1.,   0.,   1.,   0.,   5.],\n",
        "       [  1.,   0.,   0.,   1.,   5.],\n",
        "       [  1.,   0.,   0.,   0.,   6.],\n",
        "       [  1.,   0.,   1.,   1.,   6.],\n",
        "       [  1.,   1.,   0.,   0.,   6.],\n",
        "       [  1.,   1.,   0.,   1.,   6.],\n",
        "       [  1.,   0.,   0.,   1.,   7.],\n",
        "       [  1.,   1.,   0.,   0.,   8.],\n",
        "       [  1.,   0.,   0.,   1.,   8.],\n",
        "       [  1.,   0.,   1.,   1.,   8.],\n",
        "       [  1.,   0.,   0.,   0.,   8.],\n",
        "       [  1.,   0.,   0.,   0.,  10.],\n",
        "       [  1.,   1.,   0.,   0.,  10.],\n",
        "       [  1.,   0.,   1.,   1.,  10.],\n",
        "       [  1.,   1.,   0.,   1.,  10.],\n",
        "       [  1.,   1.,   0.,   1.,  11.],\n",
        "       [  1.,   0.,   0.,   0.,  11.],\n",
        "       [  1.,   1.,   0.,   0.,  12.],\n",
        "       [  1.,   0.,   1.,   1.,  12.],\n",
        "       [  1.,   0.,   0.,   0.,  13.],\n",
        "       [  1.,   1.,   0.,   1.,  13.],\n",
        "       [  1.,   1.,   0.,   0.,  14.],\n",
        "       [  1.,   0.,   1.,   1.,  15.],\n",
        "       [  1.,   1.,   0.,   1.,  16.],\n",
        "       [  1.,   1.,   0.,   0.,  16.],\n",
        "       [  1.,   0.,   0.,   0.,  16.],\n",
        "       [  1.,   1.,   0.,   0.,  17.],\n",
        "       [  1.,   0.,   0.,   0.,  20.]])"
       ]
      }
     ],
     "prompt_number": 24
    },
    {
     "cell_type": "raw",
     "metadata": {},
     "source": [
      "Since we initially passed in a DataFrame, we have a transformed DataFrame available."
     ]
    },
    {
     "cell_type": "code",
     "collapsed": false,
     "input": [
      "try: # interface changed in most recent statsmodels\n",
      "    print lm.model._data._orig_exog.head(10)\n",
      "except Exception:\n",
      "    print lm.model.data.orig_exog.head(10)"
     ],
     "language": "python",
     "metadata": {},
     "outputs": [
      {
       "output_type": "stream",
       "stream": "stdout",
       "text": [
        "   Intercept  C(E)[T.2]  C(E)[T.3]  C(M)[T.1]  X\n",
        "0          1          0          0          1  1\n",
        "1          1          0          1          0  1\n",
        "2          1          0          1          1  1\n",
        "3          1          1          0          0  1\n",
        "4          1          0          1          0  1\n",
        "5          1          1          0          1  2\n",
        "6          1          1          0          0  2\n",
        "7          1          0          0          0  2\n",
        "8          1          0          1          0  2\n",
        "9          1          1          0          0  3\n"
       ]
      }
     ],
     "prompt_number": 25
    },
    {
     "cell_type": "raw",
     "metadata": {},
     "source": [
      "There is a reference to the original untouched data in"
     ]
    },
    {
     "cell_type": "code",
     "collapsed": false,
     "input": [
      "try:\n",
      "    print lm.model._data.frame.head(10)\n",
      "except Exception:\n",
      "    print lm.model.data.frame.head(10)"
     ],
     "language": "python",
     "metadata": {},
     "outputs": [
      {
       "output_type": "stream",
       "stream": "stdout",
       "text": [
        "       S  X  E  M\n",
        "0  13876  1  1  1\n",
        "1  11608  1  3  0\n",
        "2  18701  1  3  1\n",
        "3  11283  1  2  0\n",
        "4  11767  1  3  0\n",
        "5  20872  2  2  1\n",
        "6  11772  2  2  0\n",
        "7  10535  2  1  0\n",
        "8  12195  2  3  0\n",
        "9  12313  3  2  0\n"
       ]
      }
     ],
     "prompt_number": 10
    },
    {
     "cell_type": "raw",
     "metadata": {},
     "source": [
      "If you use the formula interface, statsmodels remembers this transformation. Say you want to know the predicted salary for someone with 12 years experience and a Master's degree who is in a management position"
     ]
    },
    {
     "cell_type": "code",
     "collapsed": false,
     "input": [
      "lm.predict({'X' : [12], 'M' : [1], 'E' : [2]})"
     ],
     "language": "python",
     "metadata": {},
     "outputs": [
      {
       "output_type": "pyout",
       "prompt_number": 11,
       "text": [
        "array([ 24617.3721])"
       ]
      }
     ],
     "prompt_number": 11
    },
    {
     "cell_type": "raw",
     "metadata": {},
     "source": [
      "So far we've assumed that the effect of experience is the same for each level of education and professional role.\n",
      "Perhaps this assumption isn't merited. We can formally test this using some interactions."
     ]
    },
    {
     "cell_type": "raw",
     "metadata": {},
     "source": [
      "We can start by seeing if our model assumptions are met. Let's look at a residuals plot."
     ]
    },
    {
     "cell_type": "raw",
     "metadata": {},
     "source": [
      "And some formal tests"
     ]
    },
    {
     "cell_type": "raw",
     "metadata": {},
     "source": [
      "Plot the residuals within the groups separately."
     ]
    },
    {
     "cell_type": "code",
     "collapsed": false,
     "input": [
      "resid = lm.resid"
     ],
     "language": "python",
     "metadata": {},
     "outputs": [],
     "prompt_number": 12
    },
    {
     "cell_type": "code",
     "collapsed": false,
     "input": [
      "fig = plt.figure(figsize=(12,8))\n",
      "xticks = []\n",
      "ax = fig.add_subplot(111, xlabel='Group (E, M)', ylabel='Residuals')\n",
      "for values, group in factor_groups:\n",
      "    i,j = values\n",
      "    xticks.append(str((i, j)))\n",
      "    group_num = i*2 + j - 1 # for plotting purposes\n",
      "    x = [group_num] * len(group)\n",
      "    ax.scatter(x, resid[group.index], marker=symbols[j], color=colors[i-1],\n",
      "            s=144, edgecolors='black')\n",
      "ax.set_xticks([1,2,3,4,5,6])\n",
      "ax.set_xticklabels(xticks)\n",
      "ax.axis('tight');\n"
     ],
     "language": "python",
     "metadata": {},
     "outputs": [
      {
       "output_type": "display_data",
       "png": "[encoded data removed]",
       "text": [
        "<matplotlib.figure.Figure at 0xb0584ec>"
       ]
      }
     ],
     "prompt_number": 13
    },
    {
     "cell_type": "markdown",
     "metadata": {},
     "source": [
      "Add an interaction between salary and experience, allowing different intercepts for level of experience.\n",
      "\n",
      "$$S_i = \\beta_0+\\beta_1X_i+\\beta_2E_{i2}+\\beta_3E_{i3}+\\beta_4M_i+\\beta_5E_{i2}X_i+\\beta_6E_{i3}X_i+\\epsilon_i$$"
     ]
    },
    {
     "cell_type": "code",
     "collapsed": false,
     "input": [
      "interX_lm = ols('S ~ C(E)*X + C(M)', salary_table).fit()\n",
      "print interX_lm.summary()"
     ],
     "language": "python",
     "metadata": {},
     "outputs": [
      {
       "output_type": "stream",
       "stream": "stdout",
       "text": [
        "                            OLS Regression Results                            \n",
        "==============================================================================\n",
        "Dep. Variable:                      S   R-squared:                       0.961\n",
        "Model:                            OLS   Adj. R-squared:                  0.955\n",
        "Method:                 Least Squares   F-statistic:                     158.6\n",
        "Date:                Sat, 01 Dec 2012   Prob (F-statistic):           8.23e-26\n",
        "Time:                        12:28:59   Log-Likelihood:                -379.47\n",
        "No. Observations:                  46   AIC:                             772.9\n",
        "Df Residuals:                      39   BIC:                             785.7\n",
        "Df Model:                           6                                         \n",
        "===============================================================================\n",
        "                  coef    std err          t      P>|t|      [95.0% Conf. Int.]\n",
        "-------------------------------------------------------------------------------\n",
        "Intercept    7256.2800    549.494     13.205      0.000      6144.824  8367.736\n",
        "C(E)[T.2]    4172.5045    674.966      6.182      0.000      2807.256  5537.753\n",
        "C(E)[T.3]    3946.3649    686.693      5.747      0.000      2557.396  5335.333\n",
        "C(M)[T.1]    7102.4539    333.442     21.300      0.000      6428.005  7776.903\n",
        "X             632.2878     53.185     11.888      0.000       524.710   739.865\n",
        "C(E)[T.2]:X  -125.5147     69.863     -1.797      0.080      -266.826    15.796\n",
        "C(E)[T.3]:X  -141.2741     89.281     -1.582      0.122      -321.861    39.313\n",
        "==============================================================================\n",
        "Omnibus:                        0.432   Durbin-Watson:                   2.179\n",
        "Prob(Omnibus):                  0.806   Jarque-Bera (JB):                0.590\n",
        "Skew:                           0.144   Prob(JB):                        0.744\n",
        "Kurtosis:                       2.526   Cond. No.                         69.7\n",
        "==============================================================================\n"
       ]
      }
     ],
     "prompt_number": 14
    },
    {
     "cell_type": "markdown",
     "metadata": {},
     "source": [
      "Test that $B_5 = \\beta_6 = 0$. We can use anova_lm or we can use an F-test."
     ]
    },
    {
     "cell_type": "code",
     "collapsed": false,
     "input": [
      "print anova_lm(lm, interX_lm)"
     ],
     "language": "python",
     "metadata": {},
     "outputs": [
      {
       "output_type": "stream",
       "stream": "stdout",
       "text": [
        "   df_resid           ssr  df_diff      ss_diff      F  Pr(>F)\n",
        "0        41  43280719.493        0          NaN    NaN     NaN\n",
        "1        39  39410679.808        2  3870039.685  1.915   0.161\n"
       ]
      }
     ],
     "prompt_number": 15
    },
    {
     "cell_type": "code",
     "collapsed": false,
     "input": [
      "print interX_lm.f_test('C(E)[T.2]:X = C(E)[T.3]:X = 0')"
     ],
     "language": "python",
     "metadata": {},
     "outputs": [
      {
       "output_type": "stream",
       "stream": "stdout",
       "text": [
        "<F test: F=array([[ 1.9149]]), p=[[ 0.161]], df_denom=39, df_num=2>\n"
       ]
      }
     ],
     "prompt_number": 16
    },
    {
     "cell_type": "raw",
     "metadata": {},
     "source": [
      "The contrasts are created here under the hood by patsy."
     ]
    },
    {
     "cell_type": "raw",
     "metadata": {},
     "source": [
      "Interact education with management"
     ]
    },
    {
     "cell_type": "code",
     "collapsed": false,
     "input": [
      "interM_lm = ols('S ~ X + C(E)*C(M)', salary_table).fit()\n",
      "print interM_lm.summary()"
     ],
     "language": "python",
     "metadata": {},
     "outputs": [
      {
       "output_type": "stream",
       "stream": "stdout",
       "text": [
        "                            OLS Regression Results                            \n",
        "==============================================================================\n",
        "Dep. Variable:                      S   R-squared:                       0.999\n",
        "Model:                            OLS   Adj. R-squared:                  0.999\n",
        "Method:                 Least Squares   F-statistic:                     5517.\n",
        "Date:                Sat, 01 Dec 2012   Prob (F-statistic):           1.67e-55\n",
        "Time:                        12:29:00   Log-Likelihood:                -298.74\n",
        "No. Observations:                  46   AIC:                             611.5\n",
        "Df Residuals:                      39   BIC:                             624.3\n",
        "Df Model:                           6                                         \n",
        "=======================================================================================\n",
        "                          coef    std err          t      P>|t|      [95.0% Conf. Int.]\n",
        "---------------------------------------------------------------------------------------\n",
        "Intercept            9472.6854     80.344    117.902      0.000      9310.175  9635.196\n",
        "C(E)[T.2]            1381.6706     77.319     17.870      0.000      1225.279  1538.063\n",
        "C(E)[T.3]            1730.7483    105.334     16.431      0.000      1517.690  1943.806\n",
        "C(M)[T.1]            3981.3769    101.175     39.351      0.000      3776.732  4186.022\n",
        "C(E)[T.2]:C(M)[T.1]  4902.5231    131.359     37.322      0.000      4636.825  5168.222\n",
        "C(E)[T.3]:C(M)[T.1]  3066.0351    149.330     20.532      0.000      2763.986  3368.084\n",
        "X                     496.9870      5.566     89.283      0.000       485.728   508.246\n",
        "==============================================================================\n",
        "Omnibus:                       74.761   Durbin-Watson:                   2.244\n",
        "Prob(Omnibus):                  0.000   Jarque-Bera (JB):             1037.873\n",
        "Skew:                          -4.103   Prob(JB):                    4.25e-226\n",
        "Kurtosis:                      24.776   Cond. No.                         79.0\n",
        "==============================================================================\n"
       ]
      }
     ],
     "prompt_number": 17
    },
    {
     "cell_type": "code",
     "collapsed": false,
     "input": [
      "print anova_lm(lm, interM_lm)"
     ],
     "language": "python",
     "metadata": {},
     "outputs": [
      {
       "output_type": "stream",
       "stream": "stdout",
       "text": [
        "   df_resid           ssr  df_diff       ss_diff        F     Pr(>F)\n",
        "0        41  43280719.493        0           NaN      NaN        NaN\n",
        "1        39   1178167.865        2  42102551.628  696.844  3.026e-31\n"
       ]
      }
     ],
     "prompt_number": 18
    },
    {
     "cell_type": "code",
     "collapsed": false,
     "input": [
      "infl = interM_lm.get_influence()\n",
      "resid = infl.resid_studentized_internal"
     ],
     "language": "python",
     "metadata": {},
     "outputs": [],
     "prompt_number": 19
    },
    {
     "cell_type": "code",
     "collapsed": false,
     "input": [
      "fig = plt.figure(figsize=(12,8))\n",
      "ax = fig.add_subplot(111, xlabel='X', ylabel='standardized resids')\n",
      "\n",
      "for values, group in factor_groups:\n",
      "    i,j = values\n",
      "    idx = group.index\n",
      "    ax.scatter(X[idx], resid[idx], marker=symbols[j], color=colors[i-1],\n",
      "            s=144, edgecolors='black')\n",
      "ax.axis('tight');"
     ],
     "language": "python",
     "metadata": {},
     "outputs": [
      {
       "output_type": "display_data",
       "png": "[encoded data removed]",
       "text": [
        "<matplotlib.figure.Figure at 0xaed538c>"
       ]
      }
     ],
     "prompt_number": 20
    },
    {
     "cell_type": "raw",
     "metadata": {},
     "source": [
      "There looks to be an outlier."
     ]
    },
    {
     "cell_type": "code",
     "collapsed": false,
     "input": [
      "outl = interM_lm.outlier_test('fdr_bh')\n",
      "outl.sort('unadj_p', inplace=True)\n",
      "print outl"
     ],
     "language": "python",
     "metadata": {},
     "outputs": [
      {
       "output_type": "stream",
       "stream": "stdout",
       "text": [
        "    student_resid    unadj_p  fdr_bh(p)\n",
        "32        -14.951  1.677e-17  7.714e-16\n",
        "33          1.288  2.055e-01  9.599e-01\n",
        "23          1.023  3.127e-01  9.599e-01\n",
        "41          0.942  3.520e-01  9.599e-01\n",
        "11          0.897  3.756e-01  9.599e-01\n",
        "5           0.891  3.787e-01  9.599e-01\n",
        "39          0.835  4.089e-01  9.599e-01\n",
        "38          0.819  4.178e-01  9.599e-01\n",
        "21          0.730  4.700e-01  9.599e-01\n",
        "20         -0.726  4.722e-01  9.599e-01\n",
        "30          0.704  4.854e-01  9.599e-01\n",
        "28          0.603  5.500e-01  9.599e-01\n",
        "44         -0.600  5.523e-01  9.599e-01\n",
        "1          -0.590  5.584e-01  9.599e-01\n",
        "17         -0.565  5.755e-01  9.599e-01\n",
        "0          -0.482  6.322e-01  9.599e-01\n",
        "34         -0.475  6.377e-01  9.599e-01\n",
        "6          -0.464  6.453e-01  9.599e-01\n",
        "7           0.429  6.705e-01  9.599e-01\n",
        "45         -0.426  6.722e-01  9.599e-01\n",
        "4           0.424  6.736e-01  9.599e-01\n",
        "3          -0.419  6.779e-01  9.599e-01\n",
        "35          0.382  7.043e-01  9.599e-01\n",
        "43          0.361  7.203e-01  9.599e-01\n",
        "12          0.358  7.224e-01  9.599e-01\n",
        "37          0.343  7.338e-01  9.599e-01\n",
        "2          -0.292  7.721e-01  9.599e-01\n",
        "24          0.287  7.756e-01  9.599e-01\n",
        "31         -0.285  7.771e-01  9.599e-01\n",
        "36         -0.275  7.848e-01  9.599e-01\n",
        "13         -0.269  7.896e-01  9.599e-01\n",
        "27         -0.260  7.964e-01  9.599e-01\n",
        "15          0.252  8.023e-01  9.599e-01\n",
        "16          0.250  8.040e-01  9.599e-01\n",
        "42          0.196  8.458e-01  9.599e-01\n",
        "9          -0.195  8.466e-01  9.599e-01\n",
        "10          0.191  8.497e-01  9.599e-01\n",
        "26         -0.166  8.691e-01  9.599e-01\n",
        "19          0.165  8.697e-01  9.599e-01\n",
        "25         -0.162  8.724e-01  9.599e-01\n",
        "14          0.148  8.831e-01  9.599e-01\n",
        "29          0.147  8.837e-01  9.599e-01\n",
        "40         -0.130  8.973e-01  9.599e-01\n",
        "18         -0.072  9.426e-01  9.855e-01\n",
        "22          0.016  9.872e-01  9.879e-01\n",
        "8          -0.015  9.879e-01  9.879e-01\n"
       ]
      }
     ],
     "prompt_number": 21
    },
    {
     "cell_type": "code",
     "collapsed": false,
     "input": [
      "salary_table_clean = salary_table.drop(32)\n",
      "print salary_table_clean"
     ],
     "language": "python",
     "metadata": {},
     "outputs": [
      {
       "output_type": "stream",
       "stream": "stdout",
       "text": [
        "        S   X  E  M\n",
        "0   13876   1  1  1\n",
        "1   11608   1  3  0\n",
        "2   18701   1  3  1\n",
        "3   11283   1  2  0\n",
        "4   11767   1  3  0\n",
        "5   20872   2  2  1\n",
        "6   11772   2  2  0\n",
        "7   10535   2  1  0\n",
        "8   12195   2  3  0\n",
        "9   12313   3  2  0\n",
        "10  14975   3  1  1\n",
        "11  21371   3  2  1\n",
        "12  19800   3  3  1\n",
        "13  11417   4  1  0\n",
        "14  20263   4  3  1\n",
        "15  13231   4  3  0\n",
        "16  12884   4  2  0\n",
        "17  13245   5  2  0\n",
        "18  13677   5  3  0\n",
        "19  15965   5  1  1\n",
        "20  12336   6  1  0\n",
        "21  21352   6  3  1\n",
        "22  13839   6  2  0\n",
        "23  22884   6  2  1\n",
        "24  16978   7  1  1\n",
        "25  14803   8  2  0\n",
        "26  17404   8  1  1\n",
        "27  22184   8  3  1\n",
        "28  13548   8  1  0\n",
        "29  14467  10  1  0\n",
        "30  15942  10  2  0\n",
        "31  23174  10  3  1\n",
        "33  25410  11  2  1\n",
        "34  14861  11  1  0\n",
        "35  16882  12  2  0\n",
        "36  24170  12  3  1\n",
        "37  15990  13  1  0\n",
        "38  26330  13  2  1\n",
        "39  17949  14  2  0\n",
        "40  25685  15  3  1\n",
        "41  27837  16  2  1\n",
        "42  18838  16  2  0\n",
        "43  17483  16  1  0\n",
        "44  19207  17  2  0\n",
        "45  19346  20  1  0\n"
       ]
      }
     ],
     "prompt_number": 22
    },
    {
     "cell_type": "markdown",
     "metadata": {},
     "source": [
      "Exercise\n",
      "--------"
     ]
    },
    {
     "cell_type": "raw",
     "metadata": {},
     "source": [
      "1. Fit the same linear model as above (i.e. without interaction terms) but with the cleaned data (=salary_table_clean). Remember to call the .fit() method on your model.\n",
      "\n",
      "Print the model summary.\n",
      "\n",
      "Compare the R-squared between this and the previous model."
     ]
    },
    {
     "cell_type": "code",
     "collapsed": false,
     "input": [],
     "language": "python",
     "metadata": {},
     "outputs": [],
     "prompt_number": 22
    },
    {
     "cell_type": "raw",
     "metadata": {},
     "source": [
      "2. Fit the same linear model above but with an interaction term between education and experience. Again, use the cleaned data set. \n",
      "Print the model summary."
     ]
    },
    {
     "cell_type": "code",
     "collapsed": false,
     "input": [],
     "language": "python",
     "metadata": {},
     "outputs": [],
     "prompt_number": 22
    },
    {
     "cell_type": "raw",
     "metadata": {},
     "source": [
      "3. Run an ANOVA (or F-test) to test whether the interaction (education*experience) is significant (there are two valid ways to do this)."
     ]
    },
    {
     "cell_type": "code",
     "collapsed": false,
     "input": [],
     "language": "python",
     "metadata": {},
     "outputs": [],
     "prompt_number": 22
    },
    {
     "cell_type": "raw",
     "metadata": {},
     "source": [
      "4. Run an ANOVA to test whether there exists an interaction between *education* and *management* on salary. Is there?\n",
      "Note: so that the code will continue to run below, create an interaction model and call it \"interM_lm32\"."
     ]
    },
    {
     "cell_type": "code",
     "collapsed": false,
     "input": [],
     "language": "python",
     "metadata": {},
     "outputs": [],
     "prompt_number": 22
    },
    {
     "cell_type": "raw",
     "metadata": {},
     "source": [
      "Re-plotting the residuals"
     ]
    },
    {
     "cell_type": "code",
     "collapsed": false,
     "input": [
      "idx = salary_table.index.drop(32)\n",
      "interM_lm32 = ols('S ~ X + C(E) * C(M)', salary_table, subset=idx).fit()\n",
      "resid = interM_lm32.get_influence().summary_frame()['standard_resid']\n",
      "fig = plt.figure(figsize=(12,8))\n",
      "ax = fig.add_subplot(111, xlabel='X[~[32]]', ylabel='standardized resids')\n",
      "\n",
      "for values, group in factor_groups:\n",
      "    i,j = values\n",
      "    idx = group.index\n",
      "    ax.scatter(X[idx], resid[idx], marker=symbols[j], color=colors[i-1],\n",
      "            s=144, edgecolors='black')\n",
      "ax.axis('tight');"
     ],
     "language": "python",
     "metadata": {},
     "outputs": [
      {
       "output_type": "display_data",
       "png": "[encoded data removed]",
       "text": [
        "<matplotlib.figure.Figure at 0xb07fe8c>"
       ]
      }
     ],
     "prompt_number": 26
    },
    {
     "cell_type": "raw",
     "metadata": {},
     "source": [
      "r final plot of the fitted values"
     ]
    },
    {
     "cell_type": "code",
     "collapsed": false,
     "input": [
      "lm_final = ols('S ~ X + C(E)*C(M)', salary_table.drop([32])).fit()\n",
      "try:\n",
      "    mf = lm_final.model._data._orig_exog\n",
      "except Exception:\n",
      "    mf = lm_final.model.data.orig_exog\n",
      "lstyle = ['-','--']\n",
      "\n",
      "fig = plt.figure(figsize=(12,8))\n",
      "ax = fig.add_subplot(111, xlabel='Experience', ylabel='Salary')\n",
      "\n",
      "for values, group in factor_groups:\n",
      "    i,j = values\n",
      "    idx = group.index\n",
      "    ax.scatter(X[idx], S[idx], marker=symbols[j], color=colors[i-1],\n",
      "            s=144, edgecolors='black')\n",
      "    # drop NA because there is no idx 32 in the final model\n",
      "    ax.plot(mf.X[idx].dropna(), lm_final.fittedvalues[idx].dropna(),\n",
      "            ls=lstyle[j], color=colors[i-1])\n",
      "ax.axis('tight');"
     ],
     "language": "python",
     "metadata": {},
     "outputs": []
    },
    {
     "cell_type": "raw",
     "metadata": {},
     "source": [
      "From our first look at the data, the difference between Master's and PhD in the management group is different than in the non-management group. This is an interaction between the two qualitative variables management, M and education, E. We can visualize this by first removing the effect of experience, then plotting the means within each of the 6 groups using interaction.plot."
     ]
    },
    {
     "cell_type": "code",
     "collapsed": false,
     "input": [
      "U = S - X * interM_lm32.params['X']\n",
      "U.name = 'Salary|X'\n",
      "\n",
      "fig = plt.figure(figsize=(12,8))\n",
      "ax = fig.add_subplot(111)\n",
      "ax = interaction_plot(E, M, U, colors=['red','blue'], markers=['^','D'],\n",
      "        markersize=10, ax=ax)"
     ],
     "language": "python",
     "metadata": {},
     "outputs": [
      {
       "output_type": "display_data",
       "png": "[encoded data removed]",
       "text": [
        "<matplotlib.figure.Figure at 0xb05cdac>"
       ]
      }
     ],
     "prompt_number": 27
    }
   ],
   "metadata": {}
  }
 ]
}