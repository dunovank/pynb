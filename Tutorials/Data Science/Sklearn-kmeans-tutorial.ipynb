{
 "metadata": {
  "name": "Sklearn-kmeans-tutorial"
 },
 "nbformat": 3,
 "nbformat_minor": 0,
 "worksheets": [
  {
   "cells": [
    {
     "cell_type": "code",
     "collapsed": false,
     "input": [
      "#IPython notebook for tutorial on using Scikit-learn for color space compression \n",
      "#using k-means\n",
      "#Created by Ryan Feather Nov 17, 2012 (ryan.feather@gmail.com)\n",
      "#Downloadable from http://featherconflagration.com/tutorials\n",
      "#For more information on scikit-learn, visit http://scikit-learn.org/stable/\n",
      "#Additional information in scikit image processing http://scikit-image.org/"
     ],
     "language": "python",
     "metadata": {},
     "outputs": [],
     "prompt_number": 1
    },
    {
     "cell_type": "code",
     "collapsed": false,
     "input": [
      "from scipy import misc #scipy image reading utilities\n",
      "import numpy as np\n",
      "import matplotlib.pyplot as plt #to display images\n",
      "#Read in an image\n",
      "IM_PATH = 'IMG_3589.jpg'\n",
      "rawImage = misc.imread(IM_PATH)\n",
      "plt.imshow(rawImage)\n",
      "plt.show()"
     ],
     "language": "python",
     "metadata": {},
     "outputs": [],
     "prompt_number": 2
    },
    {
     "cell_type": "code",
     "collapsed": false,
     "input": [
      "#Record the original shape\n",
      "imageShape = rawImage.shape\n",
      "imageShape"
     ],
     "language": "python",
     "metadata": {},
     "outputs": [
      {
       "output_type": "pyout",
       "prompt_number": 3,
       "text": [
        "(548, 822, 3)"
       ]
      }
     ],
     "prompt_number": 3
    },
    {
     "cell_type": "code",
     "collapsed": false,
     "input": [
      "numberOfChannels = imageShape[2] #This won't work for images that are already 1 channel\n",
      "#Reshape into (m*n)x(d) d = number of color chanels\n",
      "columnImage = np.reshape(rawImage,(imageShape[0]*imageShape[1],numberOfChannels))\n",
      "columnImage"
     ],
     "language": "python",
     "metadata": {},
     "outputs": [
      {
       "output_type": "pyout",
       "prompt_number": 4,
       "text": [
        "array([[234, 202, 164],\n",
        "       [236, 206, 168],\n",
        "       [225, 195, 159],\n",
        "       ..., \n",
        "       [ 92,  96,  99],\n",
        "       [ 78,  82,  85],\n",
        "       [ 85,  89,  92]], dtype=uint8)"
       ]
      }
     ],
     "prompt_number": 4
    },
    {
     "cell_type": "code",
     "collapsed": false,
     "input": [
      "#Number of colors to use\n",
      "COLORS=32\n",
      "#Instantiate a kmeans clusterer\n",
      "from sklearn.cluster import KMeans\n",
      "clusterer = KMeans(k=COLORS, n_jobs=-1)"
     ],
     "language": "python",
     "metadata": {},
     "outputs": [],
     "prompt_number": 10
    },
    {
     "cell_type": "code",
     "collapsed": false,
     "input": [
      "clusterer"
     ],
     "language": "python",
     "metadata": {},
     "outputs": [
      {
       "output_type": "pyout",
       "prompt_number": 11,
       "text": [
        "KMeans(copy_x=True, init='k-means++', k=32, max_iter=300, n_init=10,\n",
        "    n_jobs=-1, precompute_distances=True, random_state=None, tol=0.0001,\n",
        "    verbose=0)"
       ]
      }
     ],
     "prompt_number": 11
    },
    {
     "cell_type": "code",
     "collapsed": false,
     "input": [
      "#Find clusters and label pixels\n",
      "labels = clusterer.fit_predict(columnImage)\n",
      "labels"
     ],
     "language": "python",
     "metadata": {},
     "outputs": [],
     "prompt_number": "*"
    },
    {
     "cell_type": "code",
     "collapsed": false,
     "input": [
      "# colors for each label, normalized for use in a colormap\n",
      "kColors = clusterer.cluster_centers_/255.0\n",
      "#create a new indexed image based on the kmeans compressed color space\n",
      "kmeansImage = np.reshape(labels,(imageShape[0],imageShape[1]))"
     ],
     "language": "python",
     "metadata": {},
     "outputs": [],
     "prompt_number": "*"
    },
    {
     "cell_type": "code",
     "collapsed": false,
     "input": [
      "#display new image beside the orignal\n",
      "from matplotlib.colors import ListedColormap\n",
      "plt.subplot(1,2,1)\n",
      "plt.title('Original')\n",
      "plt.imshow(rawImage)\n",
      "plt.axis('off')\n",
      "plt.subplot(1,2,2)\n",
      "plt.title(str(COLORS)+' Color Version')\n",
      "plt.imshow(kmeansImage,cmap=ListedColormap(kColors.tolist()))\n",
      "plt.axis('off')\n",
      "plt.show()"
     ],
     "language": "python",
     "metadata": {},
     "outputs": [],
     "prompt_number": "*"
    }
   ],
   "metadata": {}
  }
 ]
}