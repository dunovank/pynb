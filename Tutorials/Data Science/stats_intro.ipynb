{
 "metadata": {
  "name": "stats_intro"
 },
 "nbformat": 3,
 "nbformat_minor": 0,
 "worksheets": [
  {
   "cells": [
    {
     "cell_type": "markdown",
     "metadata": {},
     "source": [
      "About me\n",
      "========\n",
      "\n",
      "Name: Thomas Wiecki\n",
      "\n",
      "Twitter: https://twitter.com/twiecki\n",
      "\n",
      "GitHub: http://github.com/twiecki\n",
      "\n",
      "What I do: \n",
      "\n",
      "* PhD student at Brown University ( https://sites.google.com/a/brown.edu/lncc/home/members/thomas-wiecki )\n",
      "  * Bayesian Modeling\n",
      "  * Machine Learning\n",
      "  * Computational Psychiatry\n",
      "* Quantitative Researcher at Quantopian ( http://www.Quantopian.com )\n",
      "  * Online platform to develop trading algorithms that get backtested on historical financial data\n",
      "  * Easy to use web-based Python IDE\n",
      "  * Great, beginner-friendly community.\n",
      "\n",
      "_Not_ a statsmodels developer but a statsmodels user."
     ]
    },
    {
     "cell_type": "markdown",
     "metadata": {},
     "source": [
      "Statsmodels basics\n",
      "======\n",
      "\n",
      "* Docs: http://statsmodels.sf.net\n",
      "* Github: http://github.com/statsmodels/statsmodels\n",
      "* Mailing list: https://groups.google.com/group/pystatsmodels\n",
      "\n",
      "Here are the dependency packages we will use during the tutorial, basic stuff."
     ]
    },
    {
     "cell_type": "heading",
     "level": 3,
     "metadata": {},
     "source": [
      "Statsmodels Import Convention"
     ]
    },
    {
     "cell_type": "code",
     "collapsed": false,
     "input": [
      "import statsmodels.api as sm"
     ],
     "language": "python",
     "metadata": {},
     "outputs": [],
     "prompt_number": 5
    },
    {
     "cell_type": "markdown",
     "metadata": {},
     "source": [
      "Current import convention for models for which a formula is available. **This may change in the next release.**"
     ]
    },
    {
     "cell_type": "code",
     "collapsed": false,
     "input": [
      "from statsmodels.formula.api import ols, rlm, glm #etc."
     ],
     "language": "python",
     "metadata": {},
     "outputs": [],
     "prompt_number": 6
    },
    {
     "cell_type": "heading",
     "level": 3,
     "metadata": {},
     "source": [
      "Package Overview"
     ]
    },
    {
     "cell_type": "markdown",
     "metadata": {},
     "source": [
      "* Regression models in statsmodels.regression\n",
      "* Discrete choice models in statsmodels.discrete\n",
      "* Robust linear models in statsmodels.robust\n",
      "* Generalized linear models in statsmodels.genmod\n",
      "* Time Series Analysis in statsmodels.tsa\n",
      "* Nonparametric models in statsmodels.nonparametric\n",
      "* Plotting functions in statsmodels.graphics\n",
      "* Input/Output in statsmodels.iolib (Foreign data, ascii, HTML,  $\\LaTeX$ tables)\n",
      "* Statistical tests, ANOVA in statsmodels.stats\n",
      "* Datasets in statsmodels.datasets (See also the new GPL package Rdatasets: https://github.com/vincentarelbundock/Rdatasets)"
     ]
    },
    {
     "cell_type": "heading",
     "level": 2,
     "metadata": {},
     "source": [
      "Next up: Intro to linear models. Please go back to the notebook viewer and open the stats_linear_models notebook."
     ]
    }
   ],
   "metadata": {}
  }
 ]
}