{
 "cells": [
  {
   "cell_type": "code",
   "execution_count": 1,
   "metadata": {
    "collapsed": false
   },
   "outputs": [],
   "source": [
    "import numpy as np"
   ]
  },
  {
   "cell_type": "markdown",
   "metadata": {},
   "source": [
    "# our lone neuron"
   ]
  },
  {
   "cell_type": "markdown",
   "metadata": {},
   "source": [
    "![](single-neuron-gradient-descent.png)"
   ]
  },
  {
   "cell_type": "markdown",
   "metadata": {},
   "source": [
    "# some parameters"
   ]
  },
  {
   "cell_type": "code",
   "execution_count": 2,
   "metadata": {
    "collapsed": true
   },
   "outputs": [],
   "source": [
    "ACTIVATION = 3\n",
    "INITIAL_WEIGHT = .5\n",
    "INITIAL_BIAS = 2\n",
    "ACTUAL_OUTPUT_NEURON_ACTIVATION = 0\n",
    "N_EPOCHS = 1000\n",
    "LEARNING_RATE = .05"
   ]
  },
  {
   "cell_type": "markdown",
   "metadata": {},
   "source": [
    "# all the pieces we need"
   ]
  },
  {
   "cell_type": "code",
   "execution_count": 3,
   "metadata": {
    "collapsed": true
   },
   "outputs": [],
   "source": [
    "def cost_function(y_predicted):\n",
    "    return .5*(ACTUAL_OUTPUT_NEURON_ACTIVATION - y_predicted)**2"
   ]
  },
  {
   "cell_type": "code",
   "execution_count": 4,
   "metadata": {
    "collapsed": true
   },
   "outputs": [],
   "source": [
    "def cost_function_prime(y_predicted):\n",
    "    return y_predicted - ACTUAL_OUTPUT_NEURON_ACTIVATION"
   ]
  },
  {
   "cell_type": "code",
   "execution_count": 5,
   "metadata": {
    "collapsed": true
   },
   "outputs": [],
   "source": [
    "def sigmoid(linear_combination):\n",
    "    return 1/(1 + np.exp(-linear_combination))"
   ]
  },
  {
   "cell_type": "code",
   "execution_count": 6,
   "metadata": {
    "collapsed": true
   },
   "outputs": [],
   "source": [
    "def activation_function(linear_combination):\n",
    "    return sigmoid(linear_combination)"
   ]
  },
  {
   "cell_type": "code",
   "execution_count": 7,
   "metadata": {
    "collapsed": true
   },
   "outputs": [],
   "source": [
    "def activation_function_prime(linear_combination):\n",
    "    return sigmoid(linear_combination)*(1-sigmoid(linear_combination))"
   ]
  },
  {
   "cell_type": "code",
   "execution_count": 8,
   "metadata": {
    "collapsed": true
   },
   "outputs": [],
   "source": [
    "def feed_forward(weight, bias):\n",
    "    linear_combination = ACTIVATION * weight + bias\n",
    "    return linear_combination, activation_function(linear_combination)"
   ]
  },
  {
   "cell_type": "code",
   "execution_count": 9,
   "metadata": {
    "collapsed": true
   },
   "outputs": [],
   "source": [
    "def back_propagate(linear_combination, prediction, weight, bias):\n",
    "    weight_gradient = cost_function_prime(prediction)*activation_function_prime(linear_combination)*ACTIVATION\n",
    "    bias_gradient = cost_function_prime(prediction)*activation_function_prime(linear_combination)\n",
    "    return weight_gradient, bias_gradient"
   ]
  },
  {
   "cell_type": "markdown",
   "metadata": {},
   "source": [
    "# run it live"
   ]
  },
  {
   "cell_type": "code",
   "execution_count": 10,
   "metadata": {
    "collapsed": false
   },
   "outputs": [
    {
     "name": "stdout",
     "output_type": "stream",
     "text": [
      "iterations: 0 | cost: 0.471117372684454\n",
      "iterations: 100 | cost: 0.08009999161826546\n",
      "iterations: 200 | cost: 0.006898517164612306\n",
      "iterations: 300 | cost: 0.003235101899172852\n",
      "iterations: 400 | cost: 0.002075246837316176\n",
      "iterations: 500 | cost: 0.0015172576638674323\n",
      "iterations: 600 | cost: 0.001191719904968802\n",
      "iterations: 700 | cost: 0.0009792811328075911\n",
      "iterations: 800 | cost: 0.0008300864977082135\n",
      "iterations: 900 | cost: 0.0007197278463177123\n"
     ]
    }
   ],
   "source": [
    "weight = INITIAL_WEIGHT\n",
    "bias = INITIAL_BIAS\n",
    "\n",
    "for i in range(N_EPOCHS):\n",
    "    linear_combination, prediction = feed_forward(weight, bias)\n",
    "    cost = cost_function(prediction)\n",
    "    if i % 100 == 0: print('iterations: {} | cost: {}'.format(i, cost))\n",
    "    weight_gradient, bias_gradient = back_propagate(linear_combination, prediction, weight, bias)\n",
    "    weight += -LEARNING_RATE * weight_gradient\n",
    "    bias += -LEARNING_RATE * bias_gradient"
   ]
  }
 ],
 "metadata": {
  "kernelspec": {
   "display_name": "Python 3",
   "language": "python",
   "name": "python3"
  },
  "language_info": {
   "codemirror_mode": {
    "name": "ipython",
    "version": 3
   },
   "file_extension": ".py",
   "mimetype": "text/x-python",
   "name": "python",
   "nbconvert_exporter": "python",
   "pygments_lexer": "ipython3",
   "version": "3.4.3"
  }
 },
 "nbformat": 4,
 "nbformat_minor": 0
}
