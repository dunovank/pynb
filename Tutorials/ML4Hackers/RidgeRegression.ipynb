{
 "metadata": {
  "name": "ch7"
 },
 "nbformat": 3,
 "nbformat_minor": 0,
 "worksheets": [
  {
   "cells": [
    {
     "cell_type": "code",
     "collapsed": false,
     "input": [
      "%pylab inline"
     ],
     "language": "python",
     "metadata": {},
     "outputs": [
      {
       "output_type": "stream",
       "stream": "stdout",
       "text": [
        "\n",
        "Welcome to pylab, a matplotlib-based Python environment [backend: module://IPython.zmq.pylab.backend_inline].\n",
        "For more information, type 'help(pylab)'.\n"
       ]
      }
     ],
     "prompt_number": 1
    },
    {
     "cell_type": "code",
     "collapsed": false,
     "input": [
      "import numpy as np\n",
      "from pandas import *\n",
      "import matplotlib.pyplot as plt\n",
      "from pandas import *\n",
      "import scipy.optimize as opt\n",
      "import statsmodels.api as sm\n",
      "from statsmodels.formula.api import ols\n",
      "import os\n",
      "import random"
     ],
     "language": "python",
     "metadata": {},
     "outputs": [],
     "prompt_number": 10
    },
    {
     "cell_type": "markdown",
     "metadata": {},
     "source": [
      "# Ridge regression by explicit SSE minimization."
     ]
    },
    {
     "cell_type": "code",
     "collapsed": false,
     "input": [
      "heights_weights = read_csv('data/01_heights_weights_genders.csv')"
     ],
     "language": "python",
     "metadata": {},
     "outputs": [],
     "prompt_number": 11
    },
    {
     "cell_type": "markdown",
     "metadata": {},
     "source": [
      "## The OLS estimate"
     ]
    },
    {
     "cell_type": "code",
     "collapsed": false,
     "input": [
      "ols_fit = ols('Weight ~ Height', df = heights_weights).fit()\n",
      "ols_sse = ols_fit.mse_resid * (ols_fit.df_resid) \n",
      "\n",
      "print np.round(ols_fit.params, 3)\n",
      "print 'MSE   %i' % round(ols_sse)"
     ],
     "language": "python",
     "metadata": {},
     "outputs": [
      {
       "output_type": "stream",
       "stream": "stdout",
       "text": [
        "Intercept   -350.737\n",
        "Height         7.717\n",
        "MSE   1492935\n"
       ]
      }
     ],
     "prompt_number": 24
    },
    {
     "cell_type": "markdown",
     "metadata": {},
     "source": [
      "## Set up the ridge regression. \n",
      "\n",
      "We'll explicitly set up the ridge SSE function to minimize. We'll also provide explicit functions for the gradient and hessian of the SSE, since they're pretty straightforward.\n",
      "\n",
      "We'll try a couple of different optimization algorithms, some use the gradient and hessians, other (e.g., Nelder-Mead) don't use either."
     ]
    },
    {
     "cell_type": "code",
     "collapsed": false,
     "input": [
      "y = heights_weights['Weight'].values\n",
      "Xmat = sm.add_constant(heights_weights['Height'], prepend = True)\n",
      "\n",
      "def ridge_error(params, y, Xmat, lam):\n",
      "    '''\n",
      "    Compute SSE of the ridge regression.\n",
      "    This is the normal regression SSE, plus the\n",
      "    L2 cost of the parameters.\n",
      "    '''\n",
      "    predicted = np.dot(Xmat, params)\n",
      "    sse = ((y - predicted) ** 2).sum()\n",
      "    sse += lam * (params ** 2).sum()\n",
      "    \n",
      "    return sse\n",
      "\n",
      "def ridge_grad(params, y, Xmat, lam):\n",
      "    '''\n",
      "    The gradiant of the ridge regression SSE.\n",
      "    '''\n",
      "    grad = np.dot(np.dot(Xmat.T, Xmat), params) - np.dot(Xmat.T, y)\n",
      "    grad += lam * params\n",
      "    grad *= 2\n",
      "    return grad\n",
      "\n",
      "def ridge_hess(params, y, Xmat, lam):\n",
      "    ''' \n",
      "    The hessian of the ridge regression SSE.\n",
      "    '''\n",
      "    return np.dot(Xmat.T, Xmat) + np.eye(2) * lam"
     ],
     "language": "python",
     "metadata": {},
     "outputs": [],
     "prompt_number": 25
    },
    {
     "cell_type": "markdown",
     "metadata": {},
     "source": [
      "## Minimize the ridge SSE using different algorithms"
     ]
    },
    {
     "cell_type": "markdown",
     "metadata": {},
     "source": [
      "Set the starting parameters (constant, coefficient)."
     ]
    },
    {
     "cell_type": "code",
     "collapsed": false,
     "input": [
      "params0 = np.array([0.0, 0.0])"
     ],
     "language": "python",
     "metadata": {},
     "outputs": [],
     "prompt_number": 26
    },
    {
     "cell_type": "markdown",
     "metadata": {},
     "source": [
      "**Nelder-Mead Simplex:** no gradient required. This is the default of `optim` in R."
     ]
    },
    {
     "cell_type": "code",
     "collapsed": false,
     "input": [
      "\n",
      "ridge_fit = opt.fmin(ridge_error, params0, args = (y, Xmat, 1))\n",
      "print 'Solution: a = %8.3f, b = %8.3f ' % tuple(ridge_fit)"
     ],
     "language": "python",
     "metadata": {},
     "outputs": [
      {
       "output_type": "stream",
       "stream": "stdout",
       "text": [
        "Optimization terminated successfully.\n",
        "         Current function value: 1612442.197636\n",
        "         Iterations: 117\n",
        "         Function evaluations: 221\n",
        "Solution: a = -340.565, b =    7.565 \n"
       ]
      }
     ],
     "prompt_number": 28
    },
    {
     "cell_type": "markdown",
     "metadata": {},
     "source": [
      "**Newton conjugate gradient:** requires gradient, hessian optional."
     ]
    },
    {
     "cell_type": "markdown",
     "metadata": {},
     "source": [
      "First without the hessian."
     ]
    },
    {
     "cell_type": "code",
     "collapsed": false,
     "input": [
      "ridge_fit = opt.fmin_ncg(ridge_error, params0, fprime = ridge_grad, args = (y, Xmat, 1))\n",
      "print 'Solution: a = %8.3f, b = %8.3f ' % tuple(ridge_fit)"
     ],
     "language": "python",
     "metadata": {},
     "outputs": [
      {
       "output_type": "stream",
       "stream": "stdout",
       "text": [
        "Optimization terminated successfully.\n",
        "         Current function value: 1612442.197636\n",
        "         Iterations: 3\n",
        "         Function evaluations: 4\n",
        "         Gradient evaluations: 11\n",
        "         Hessian evaluations: 0\n",
        "Solution: a = -340.565, b =    7.565 \n"
       ]
      }
     ],
     "prompt_number": 34
    },
    {
     "cell_type": "markdown",
     "metadata": {},
     "source": [
      "Now, with the hessian. This shaves a little bit of time off."
     ]
    },
    {
     "cell_type": "code",
     "collapsed": false,
     "input": [
      "ridge_fit = opt.fmin_ncg(ridge_error, params0, fprime = ridge_grad, \n",
      "                         fhess = ridge_hess, args = (y, Xmat, 1))\n",
      "print 'Solution: a = %8.3f, b = %8.3f ' % tuple(ridge_fit)"
     ],
     "language": "python",
     "metadata": {},
     "outputs": [
      {
       "output_type": "stream",
       "stream": "stdout",
       "text": [
        "Optimization terminated successfully.\n",
        "         Current function value: 1612442.197636\n",
        "         Iterations: 3\n",
        "         Function evaluations: 7\n",
        "         Gradient evaluations: 3\n",
        "         Hessian evaluations: 3\n",
        "Solution: a = -340.565, b =    7.565 \n"
       ]
      }
     ],
     "prompt_number": 35
    },
    {
     "cell_type": "markdown",
     "metadata": {},
     "source": [
      "**BFGS:** Uses the gradient, no hessian"
     ]
    },
    {
     "cell_type": "code",
     "collapsed": false,
     "input": [
      "ridge_fit = opt.fmin_bfgs(ridge_error, params0, fprime = ridge_grad, \n",
      "                          args = (y, Xmat, 1))\n",
      "print 'Solution: ', ridge_fit"
     ],
     "language": "python",
     "metadata": {},
     "outputs": [
      {
       "output_type": "stream",
       "stream": "stdout",
       "text": [
        "Optimization terminated successfully.\n",
        "         Current function value: 1612442.197636\n",
        "         Iterations: 15\n",
        "         Function evaluations: 290\n",
        "         Gradient evaluations: 243\n",
        "Solution:  [-340.565481     7.5645375]\n"
       ]
      }
     ],
     "prompt_number": 36
    },
    {
     "cell_type": "markdown",
     "metadata": {},
     "source": [
      "# Deciphering text with the Metropolis-Hastings Algorithm"
     ]
    },
    {
     "cell_type": "markdown",
     "metadata": {},
     "source": [
      "The lexical database is a collection of words and their frequency on Wikipedia."
     ]
    },
    {
     "cell_type": "code",
     "collapsed": false,
     "input": [
      "lexical_database = read_csv('data/lexical_database.csv', index_col = 0, \n",
      "                            header = None, skiprows = 1, squeeze = True)\n",
      "lexical_database.index.name = 'word'"
     ],
     "language": "python",
     "metadata": {},
     "outputs": [],
     "prompt_number": 37
    },
    {
     "cell_type": "code",
     "collapsed": false,
     "input": [
      "letters = ['a', 'b', 'c', 'd', 'e', 'f', 'g', 'h', \n",
      "           'i', 'j', 'k', 'l', 'm', 'n', 'o', 'p', \n",
      "           'q', 'r', 's', 't', 'u', 'v', 'w', 'x', \n",
      "           'y', 'z']"
     ],
     "language": "python",
     "metadata": {},
     "outputs": [],
     "prompt_number": 38
    },
    {
     "cell_type": "markdown",
     "metadata": {},
     "source": [
      "The \"Ceasar Cipher\" is a cipher that encrypts text by translating each letter in the text to the next letter in the alphabet (with Z going back to A). We'll represent the cipher, and its key, as mappings in a dictionary."
     ]
    },
    {
     "cell_type": "code",
     "collapsed": false,
     "input": [
      "ceasar_cipher = {i: j for i, j in zip(letters, letters[1:] + letters[:1])}\n",
      "inverse_ceasar_cipher = {ceasar_cipher[k]: k for k in ceasar_cipher}"
     ],
     "language": "python",
     "metadata": {},
     "outputs": [],
     "prompt_number": 39
    },
    {
     "cell_type": "markdown",
     "metadata": {},
     "source": [
      "Functions that cipher (encrypt) and decipher a test string. `decipher_text` doesn't need an explicit deciphering key, it will invert the cipher dictionary used by `cipher_text`."
     ]
    },
    {
     "cell_type": "code",
     "collapsed": false,
     "input": [
      "def cipher_text(text, cipher_dict = ceasar_cipher):\n",
      "    # Split the string into a list of characters to apply\n",
      "    # the decoder over.\n",
      "    strlist = list(text)\n",
      "    \n",
      "    ciphered = ''.join([cipher_dict.get(x) or x for x in strlist])\n",
      "    return ciphered\n",
      "\n",
      "def decipher_text(text, cipher_dict = ceasar_cipher):\n",
      "    # Split the string into a list of characters to apply\n",
      "    # the decoder over.\n",
      "    strlist = list(text)\n",
      "    \n",
      "    # Invert the cipher dictionary (k, v) -> (v, k)\n",
      "    decipher_dict = {cipher_dict[k]: k for k in cipher_dict}\n",
      "\n",
      "    deciphered = ''.join([decipher_dict.get(x) or x for x in strlist]) \n",
      "    return deciphered"
     ],
     "language": "python",
     "metadata": {},
     "outputs": [],
     "prompt_number": 40
    },
    {
     "cell_type": "markdown",
     "metadata": {},
     "source": [
      "The following functions are used to generate proposal ciphers for the Metropolis algorithm.\n",
      "The idea is to randomly generate ciphers and see what text they result in. If the text resulting from a proposed cipher is more likely (according to the lexical database) than the current cipher, we accept the proposal. If it's not, we accept it wil a probability that is lower the less likely the resulting text is.\n",
      "\n",
      "The method of generating new proposals is important. The authors use a method that chooses a key (letter) at random from the current cipher, and swaps its with some other letter. For example, if we start with the Ceasar Cipher, our proposal might randomly choose to re-map A to N (instead of B). The proposal would then be the same a the Ceasar Cipher, but with A $\\rightarrow$ N and M $\\rightarrow$ B (since A originally mapped to B and M originally mapped to N). This proposal-generating mechanism is encapsulated in `propose_modified_cipher_from_cipher`. \n",
      "\n",
      "This is inefficient in a few ways. First, the letter chosen to modify in the cipher may not even appear in the text, so the proposed cipher won't modify the text at all and you end up wasting cycles generating a lot of useless proposals. Second, we may end up picking a letter that occurs in a highly likely word, which will increase the probability of generating an inferior proposal.\n",
      "\n",
      "We'll suggest another mechanism that, instead of selecting a letter from the current cipher to re-map, will choose a letter amongst the non-words in the current deciphered text. For example, if our current deciphered text is \"hello wqrld\", we will only select amongst {w, q, r, l, d} to modify at random. The minimizes the chances that a modified cipher will turn real words into gibberish and produce less likely text. The function `propose_modified_cipher_from_text` performs this proposal mechanism.\n",
      "\n",
      "One way to think of this is that it's analogous to tuning the variance of the proposal distribution in the typical Metropolis algorithm. If the variance is too low, our algorithm won't efficiently explore the target distribution. If it's too high, we'll end up generating lots of lousy proposals. Our cipher proposal rules can suffer from similar problems."
     ]
    },
    {
     "cell_type": "code",
     "collapsed": false,
     "input": [
      "def generate_random_cipher():\n",
      "    '''\n",
      "    Randomly generate a cipher dictionary (a one-to-one letter -> letter map).\n",
      "    Used to generate the starting cipher of the algorithm.\n",
      "    '''\n",
      "    cipher = []\n",
      "\n",
      "    input  = letters\n",
      "    output = letters[:]\n",
      "    random.shuffle(output)\n",
      "    \n",
      "    cipher_dict = {k: v for (k, v) in zip(input, output)}\n",
      "    \n",
      "    return cipher_dict\n",
      "\n",
      "def modify_cipher(cipher_dict, input, new_output):\n",
      "    '''\n",
      "     Swap a single key in a cipher dictionary.\n",
      "\n",
      "     Old: a -> b, ..., m -> n, ...\n",
      "     New: a -> n, ..., m -> b, ...\n",
      "     '''\n",
      "    decipher_dict = {cipher_dict[k]: k for k in cipher_dict}\n",
      "    old_output = cipher_dict[input]\n",
      "    \n",
      "    new_cipher = cipher_dict.copy()\n",
      "    new_cipher[input] = new_output\n",
      "    new_cipher[decipher_dict[new_output]] = old_output\n",
      "    \n",
      "    return new_cipher\n",
      "    \n",
      "def propose_modified_cipher_from_cipher(text, cipher_dict, \n",
      "                                        lexical_db = lexical_database):\n",
      "    '''\n",
      "    Generates a new cipher by choosing and swapping a key in the\n",
      "    current cipher.\n",
      "    '''\n",
      "    _          = text # Unused\n",
      "    input      = random.sample(cipher_dict.keys(), 1)[0]\n",
      "    new_output = random.sample(letters, 1)[0]\n",
      "    return modify_cipher(cipher_dict, input, new_output)\n",
      "\n",
      "def propose_modified_cipher_from_text(text, cipher_dict, \n",
      "                                      lexical_db = lexical_database):\n",
      "    \n",
      "    '''\n",
      "    Generates a new cipher by choosing a swapping a key in the current\n",
      "    cipher, but only chooses keys that are letters that appear in the\n",
      "    gibberish words in the current text.\n",
      "    '''\n",
      "    deciphered = decipher_text(text, cipher_dict).split()\n",
      "    letters_to_sample = ''.join([t for t in deciphered \n",
      "                                 if lexical_db.get(t) is None])\n",
      "    letters_to_sample = letters_to_sample or ''.join(set(deciphered))\n",
      "    \n",
      "    input      = random.sample(letters_to_sample, 1)[0]\n",
      "    new_output = random.sample(letters, 1)[0]\n",
      "    return modify_cipher(cipher_dict, input, new_output)"
     ],
     "language": "python",
     "metadata": {},
     "outputs": [],
     "prompt_number": 60
    },
    {
     "cell_type": "markdown",
     "metadata": {},
     "source": [
      "The following functions compute the likelihood of text generated by proposed ciphers. To find a word's probability, we just look it up in the lexical database. To compute the log probability of some text, we just sum up the log probabilities of the words in it."
     ]
    },
    {
     "cell_type": "code",
     "collapsed": false,
     "input": [
      "def one_gram_prob(one_gram, lexical_db = lexical_database):\n",
      "    return lexical_db.get(one_gram) or np.finfo(float).eps \n",
      "\n",
      "def text_logp(text, cipher_dict, lexical_db = lexical_database):\n",
      "    deciphered = decipher_text(text, cipher_dict).split()\n",
      "    logp = np.array([math.log(one_gram_prob(w)) for w in deciphered]).sum()\n",
      "    return logp"
     ],
     "language": "python",
     "metadata": {},
     "outputs": [],
     "prompt_number": 43
    },
    {
     "cell_type": "markdown",
     "metadata": {},
     "source": [
      "Now the Metropolis algorithm step. We generate a proposal cipher, and compute the log probability of the its decoded text. If this is greater than the log probability of the decoded text of the current cipher, we accept the proposal for sure. Otherwise, we only accept it with a probability given by its likelihood relative to that of the current cipher, so the less likely its decoded text is, the less likely we accept it."
     ]
    },
    {
     "cell_type": "code",
     "collapsed": false,
     "input": [
      "def metropolis_step(text, cipher_dict, proposal_rule, lexical_db = lexical_database):\n",
      "    proposed_cipher = proposal_rule(text, cipher_dict)\n",
      "    lp1 = text_logp(text, cipher_dict)\n",
      "    lp2 = text_logp(text, proposed_cipher)\n",
      "    \n",
      "    if lp2 > lp1:\n",
      "        return proposed_cipher\n",
      "    else:\n",
      "        a = math.exp(lp2 - lp1)\n",
      "        x = random.random()\n",
      "        if x < a:\n",
      "            return proposed_cipher\n",
      "        else:\n",
      "            return cipher_dict"
     ],
     "language": "python",
     "metadata": {},
     "outputs": [],
     "prompt_number": 44
    },
    {
     "cell_type": "markdown",
     "metadata": {},
     "source": [
      "Create a message and decode it with the Ceaser Cipher. Then set up the Metropolis algorithm which generates proposal ciphers (we can provide different proposal mechanisms), and calls the Metropolis step defined above. This runs for a fixed number of iterations. "
     ]
    },
    {
     "cell_type": "code",
     "collapsed": false,
     "input": [
      "message = 'here is some sample text'\n",
      "ciphered_text = cipher_text(message, ceasar_cipher)\n",
      "niter = 250000\n",
      "\n",
      "def metropolis_decipher(ciphered_text, proposal_rule, niter, seed = 4):\n",
      "    random.seed(seed)\n",
      "    cipher = generate_random_cipher()\n",
      "\n",
      "    deciphered_text_list = []\n",
      "    logp_list = []\n",
      "\n",
      "    for i in xrange(niter):\n",
      "        logp = text_logp(ciphered_text, cipher)\n",
      "        current_deciphered_text = decipher_text(ciphered_text, cipher)\n",
      "\n",
      "        deciphered_text_list.append(current_deciphered_text)\n",
      "        logp_list.append(logp)\n",
      "    \n",
      "        cipher = metropolis_step(ciphered_text, cipher, proposal_rule)\n",
      "    \n",
      "    results = DataFrame({'deciphered_text': deciphered_text_list, 'logp': logp_list})\n",
      "    results.index = np.arange(1, niter + 1)\n",
      "    return results"
     ],
     "language": "python",
     "metadata": {},
     "outputs": [],
     "prompt_number": 45
    },
    {
     "cell_type": "markdown",
     "metadata": {},
     "source": [
      "First, let's try the author's proposal rule."
     ]
    },
    {
     "cell_type": "code",
     "collapsed": false,
     "input": [
      "results0 = metropolis_decipher(ciphered_text, \n",
      "                               propose_modified_cipher_from_cipher, niter)"
     ],
     "language": "python",
     "metadata": {},
     "outputs": [],
     "prompt_number": 46
    },
    {
     "cell_type": "markdown",
     "metadata": {},
     "source": [
      "Looking at the deciphered text of every 10,000th entry, we find we're not even close after 250,000 iteration, and we seem to be locked in a pocket of the target distribution that's the proposal rule has trouble escaping from."
     ]
    },
    {
     "cell_type": "code",
     "collapsed": false,
     "input": [
      "results0.ix[10000::10000]"
     ],
     "language": "python",
     "metadata": {},
     "outputs": [
      {
       "html": [
        "<div style=\"max-height:1000px;max-width:1500px;overflow:auto;\">\n",
        "<table border=\"1\" class=\"dataframe\">\n",
        "  <thead>\n",
        "    <tr style=\"text-align: right;\">\n",
        "      <th></th>\n",
        "      <th>deciphered_text</th>\n",
        "      <th>logp</th>\n",
        "    </tr>\n",
        "  </thead>\n",
        "  <tbody>\n",
        "    <tr>\n",
        "      <td><strong>10000 </strong></td>\n",
        "      <td> kudu of feru fyrvbu hush</td>\n",
        "      <td>-86.585205</td>\n",
        "    </tr>\n",
        "    <tr>\n",
        "      <td><strong>20000 </strong></td>\n",
        "      <td> wudu of feru fbrkxu hush</td>\n",
        "      <td>-87.124919</td>\n",
        "    </tr>\n",
        "    <tr>\n",
        "      <td><strong>30000 </strong></td>\n",
        "      <td> kudu of feru fnrbau hush</td>\n",
        "      <td>-86.585205</td>\n",
        "    </tr>\n",
        "    <tr>\n",
        "      <td><strong>40000 </strong></td>\n",
        "      <td> wudu of feru fmrjiu hush</td>\n",
        "      <td>-87.124919</td>\n",
        "    </tr>\n",
        "    <tr>\n",
        "      <td><strong>50000 </strong></td>\n",
        "      <td> kudu of feru fyrnbu hush</td>\n",
        "      <td>-86.585205</td>\n",
        "    </tr>\n",
        "    <tr>\n",
        "      <td><strong>60000 </strong></td>\n",
        "      <td> kudu of feru fxrnvu hush</td>\n",
        "      <td>-86.585205</td>\n",
        "    </tr>\n",
        "    <tr>\n",
        "      <td><strong>70000 </strong></td>\n",
        "      <td> pudu of feru fvrnlu hush</td>\n",
        "      <td>-87.561022</td>\n",
        "    </tr>\n",
        "    <tr>\n",
        "      <td><strong>80000 </strong></td>\n",
        "      <td> kudu of feru fvrxgu hush</td>\n",
        "      <td>-86.585205</td>\n",
        "    </tr>\n",
        "    <tr>\n",
        "      <td><strong>90000 </strong></td>\n",
        "      <td> kudu of feru fbrvtu hush</td>\n",
        "      <td>-86.585205</td>\n",
        "    </tr>\n",
        "    <tr>\n",
        "      <td><strong>100000</strong></td>\n",
        "      <td> kudu of feru fjrnlu hush</td>\n",
        "      <td>-86.585205</td>\n",
        "    </tr>\n",
        "    <tr>\n",
        "      <td><strong>110000</strong></td>\n",
        "      <td> kudu of feru fprbju hush</td>\n",
        "      <td>-86.585205</td>\n",
        "    </tr>\n",
        "    <tr>\n",
        "      <td><strong>120000</strong></td>\n",
        "      <td> kudu of feru fnrjcu hush</td>\n",
        "      <td>-86.585205</td>\n",
        "    </tr>\n",
        "    <tr>\n",
        "      <td><strong>130000</strong></td>\n",
        "      <td> kudu of feru flrvpu hush</td>\n",
        "      <td>-86.585205</td>\n",
        "    </tr>\n",
        "    <tr>\n",
        "      <td><strong>140000</strong></td>\n",
        "      <td> puku of feru flrvxu hush</td>\n",
        "      <td>-88.028362</td>\n",
        "    </tr>\n",
        "    <tr>\n",
        "      <td><strong>150000</strong></td>\n",
        "      <td> kudu of feru fxrviu hush</td>\n",
        "      <td>-86.585205</td>\n",
        "    </tr>\n",
        "    <tr>\n",
        "      <td><strong>160000</strong></td>\n",
        "      <td> pulu of feru ftrdzu hush</td>\n",
        "      <td>-88.323162</td>\n",
        "    </tr>\n",
        "    <tr>\n",
        "      <td><strong>170000</strong></td>\n",
        "      <td> wuzu of feru flrxdu hush</td>\n",
        "      <td>-89.575925</td>\n",
        "    </tr>\n",
        "    <tr>\n",
        "      <td><strong>180000</strong></td>\n",
        "      <td> kudu of feru firamu hush</td>\n",
        "      <td>-86.585205</td>\n",
        "    </tr>\n",
        "    <tr>\n",
        "      <td><strong>190000</strong></td>\n",
        "      <td> wudu of feru fyrzqu hush</td>\n",
        "      <td>-87.124919</td>\n",
        "    </tr>\n",
        "    <tr>\n",
        "      <td><strong>200000</strong></td>\n",
        "      <td> wudu of feru fnraxu hush</td>\n",
        "      <td>-87.124919</td>\n",
        "    </tr>\n",
        "    <tr>\n",
        "      <td><strong>210000</strong></td>\n",
        "      <td> puku of feru fjrnyu hush</td>\n",
        "      <td>-88.028362</td>\n",
        "    </tr>\n",
        "    <tr>\n",
        "      <td><strong>220000</strong></td>\n",
        "      <td> puku of feru firyau hush</td>\n",
        "      <td>-88.028362</td>\n",
        "    </tr>\n",
        "    <tr>\n",
        "      <td><strong>230000</strong></td>\n",
        "      <td> pudu of feru fkrcvu hush</td>\n",
        "      <td>-87.561022</td>\n",
        "    </tr>\n",
        "    <tr>\n",
        "      <td><strong>240000</strong></td>\n",
        "      <td> kudu of feru ftrwzu hush</td>\n",
        "      <td>-86.585205</td>\n",
        "    </tr>\n",
        "    <tr>\n",
        "      <td><strong>250000</strong></td>\n",
        "      <td> kudu of feru fprxzu hush</td>\n",
        "      <td>-86.585205</td>\n",
        "    </tr>\n",
        "  </tbody>\n",
        "</table>\n",
        "</div>"
       ],
       "output_type": "pyout",
       "prompt_number": 47,
       "text": [
        "                 deciphered_text       logp\n",
        "10000   kudu of feru fyrvbu hush -86.585205\n",
        "20000   wudu of feru fbrkxu hush -87.124919\n",
        "30000   kudu of feru fnrbau hush -86.585205\n",
        "40000   wudu of feru fmrjiu hush -87.124919\n",
        "50000   kudu of feru fyrnbu hush -86.585205\n",
        "60000   kudu of feru fxrnvu hush -86.585205\n",
        "70000   pudu of feru fvrnlu hush -87.561022\n",
        "80000   kudu of feru fvrxgu hush -86.585205\n",
        "90000   kudu of feru fbrvtu hush -86.585205\n",
        "100000  kudu of feru fjrnlu hush -86.585205\n",
        "110000  kudu of feru fprbju hush -86.585205\n",
        "120000  kudu of feru fnrjcu hush -86.585205\n",
        "130000  kudu of feru flrvpu hush -86.585205\n",
        "140000  puku of feru flrvxu hush -88.028362\n",
        "150000  kudu of feru fxrviu hush -86.585205\n",
        "160000  pulu of feru ftrdzu hush -88.323162\n",
        "170000  wuzu of feru flrxdu hush -89.575925\n",
        "180000  kudu of feru firamu hush -86.585205\n",
        "190000  wudu of feru fyrzqu hush -87.124919\n",
        "200000  wudu of feru fnraxu hush -87.124919\n",
        "210000  puku of feru fjrnyu hush -88.028362\n",
        "220000  puku of feru firyau hush -88.028362\n",
        "230000  pudu of feru fkrcvu hush -87.561022\n",
        "240000  kudu of feru ftrwzu hush -86.585205\n",
        "250000  kudu of feru fprxzu hush -86.585205"
       ]
      }
     ],
     "prompt_number": 47
    },
    {
     "cell_type": "markdown",
     "metadata": {},
     "source": [
      "Now, let's try the alternative proposal rule, which only chooses letters from gibberish words when it modifies the current cipher to propose a new one."
     ]
    },
    {
     "cell_type": "code",
     "collapsed": false,
     "input": [
      "results1 = metropolis_decipher(ciphered_text, \n",
      "                               propose_modified_cipher_from_text, niter)"
     ],
     "language": "python",
     "metadata": {},
     "outputs": [],
     "prompt_number": 48
    },
    {
     "cell_type": "markdown",
     "metadata": {},
     "source": [
      "The algorithm doesn't find the actual message, but it actually finds a more likely message (according the the lexical database) within 20,000 iterations."
     ]
    },
    {
     "cell_type": "code",
     "collapsed": false,
     "input": [
      "results1.ix[10000::10000]"
     ],
     "language": "python",
     "metadata": {},
     "outputs": [
      {
       "html": [
        "<div style=\"max-height:1000px;max-width:1500px;overflow:auto;\">\n",
        "<table border=\"1\" class=\"dataframe\">\n",
        "  <thead>\n",
        "    <tr style=\"text-align: right;\">\n",
        "      <th></th>\n",
        "      <th>deciphered_text</th>\n",
        "      <th>logp</th>\n",
        "    </tr>\n",
        "  </thead>\n",
        "  <tbody>\n",
        "    <tr>\n",
        "      <td><strong>10000 </strong></td>\n",
        "      <td> were mi isle izlkde text</td>\n",
        "      <td>-68.946850</td>\n",
        "    </tr>\n",
        "    <tr>\n",
        "      <td><strong>20000 </strong></td>\n",
        "      <td> were as some simple text</td>\n",
        "      <td>-35.784429</td>\n",
        "    </tr>\n",
        "    <tr>\n",
        "      <td><strong>30000 </strong></td>\n",
        "      <td> were as some simple text</td>\n",
        "      <td>-35.784429</td>\n",
        "    </tr>\n",
        "    <tr>\n",
        "      <td><strong>40000 </strong></td>\n",
        "      <td> were as some simple text</td>\n",
        "      <td>-35.784429</td>\n",
        "    </tr>\n",
        "    <tr>\n",
        "      <td><strong>50000 </strong></td>\n",
        "      <td> were as some simple text</td>\n",
        "      <td>-35.784429</td>\n",
        "    </tr>\n",
        "    <tr>\n",
        "      <td><strong>60000 </strong></td>\n",
        "      <td> were as some simple text</td>\n",
        "      <td>-35.784429</td>\n",
        "    </tr>\n",
        "    <tr>\n",
        "      <td><strong>70000 </strong></td>\n",
        "      <td> were us some simple text</td>\n",
        "      <td>-38.176725</td>\n",
        "    </tr>\n",
        "    <tr>\n",
        "      <td><strong>80000 </strong></td>\n",
        "      <td> were as some simple text</td>\n",
        "      <td>-35.784429</td>\n",
        "    </tr>\n",
        "    <tr>\n",
        "      <td><strong>90000 </strong></td>\n",
        "      <td> were as some simple text</td>\n",
        "      <td>-35.784429</td>\n",
        "    </tr>\n",
        "    <tr>\n",
        "      <td><strong>100000</strong></td>\n",
        "      <td> were as some simple text</td>\n",
        "      <td>-35.784429</td>\n",
        "    </tr>\n",
        "    <tr>\n",
        "      <td><strong>110000</strong></td>\n",
        "      <td> were as some simple text</td>\n",
        "      <td>-35.784429</td>\n",
        "    </tr>\n",
        "    <tr>\n",
        "      <td><strong>120000</strong></td>\n",
        "      <td> were as some simple text</td>\n",
        "      <td>-35.784429</td>\n",
        "    </tr>\n",
        "    <tr>\n",
        "      <td><strong>130000</strong></td>\n",
        "      <td> were as some simple text</td>\n",
        "      <td>-35.784429</td>\n",
        "    </tr>\n",
        "    <tr>\n",
        "      <td><strong>140000</strong></td>\n",
        "      <td> were as some simple text</td>\n",
        "      <td>-35.784429</td>\n",
        "    </tr>\n",
        "    <tr>\n",
        "      <td><strong>150000</strong></td>\n",
        "      <td> were us some simple text</td>\n",
        "      <td>-38.176725</td>\n",
        "    </tr>\n",
        "    <tr>\n",
        "      <td><strong>160000</strong></td>\n",
        "      <td> were as some simple text</td>\n",
        "      <td>-35.784429</td>\n",
        "    </tr>\n",
        "    <tr>\n",
        "      <td><strong>170000</strong></td>\n",
        "      <td> were is some sample text</td>\n",
        "      <td>-37.012894</td>\n",
        "    </tr>\n",
        "    <tr>\n",
        "      <td><strong>180000</strong></td>\n",
        "      <td> were as some simple text</td>\n",
        "      <td>-35.784429</td>\n",
        "    </tr>\n",
        "    <tr>\n",
        "      <td><strong>190000</strong></td>\n",
        "      <td> were as some simple text</td>\n",
        "      <td>-35.784429</td>\n",
        "    </tr>\n",
        "    <tr>\n",
        "      <td><strong>200000</strong></td>\n",
        "      <td> were as some simple text</td>\n",
        "      <td>-35.784429</td>\n",
        "    </tr>\n",
        "    <tr>\n",
        "      <td><strong>210000</strong></td>\n",
        "      <td> were as some simple text</td>\n",
        "      <td>-35.784429</td>\n",
        "    </tr>\n",
        "    <tr>\n",
        "      <td><strong>220000</strong></td>\n",
        "      <td> were as some simple text</td>\n",
        "      <td>-35.784429</td>\n",
        "    </tr>\n",
        "    <tr>\n",
        "      <td><strong>230000</strong></td>\n",
        "      <td> were as some simple text</td>\n",
        "      <td>-35.784429</td>\n",
        "    </tr>\n",
        "    <tr>\n",
        "      <td><strong>240000</strong></td>\n",
        "      <td> were as some simple text</td>\n",
        "      <td>-35.784429</td>\n",
        "    </tr>\n",
        "    <tr>\n",
        "      <td><strong>250000</strong></td>\n",
        "      <td> were is some sample text</td>\n",
        "      <td>-37.012894</td>\n",
        "    </tr>\n",
        "  </tbody>\n",
        "</table>\n",
        "</div>"
       ],
       "output_type": "pyout",
       "prompt_number": 49,
       "text": [
        "                 deciphered_text       logp\n",
        "10000   were mi isle izlkde text -68.946850\n",
        "20000   were as some simple text -35.784429\n",
        "30000   were as some simple text -35.784429\n",
        "40000   were as some simple text -35.784429\n",
        "50000   were as some simple text -35.784429\n",
        "60000   were as some simple text -35.784429\n",
        "70000   were us some simple text -38.176725\n",
        "80000   were as some simple text -35.784429\n",
        "90000   were as some simple text -35.784429\n",
        "100000  were as some simple text -35.784429\n",
        "110000  were as some simple text -35.784429\n",
        "120000  were as some simple text -35.784429\n",
        "130000  were as some simple text -35.784429\n",
        "140000  were as some simple text -35.784429\n",
        "150000  were us some simple text -38.176725\n",
        "160000  were as some simple text -35.784429\n",
        "170000  were is some sample text -37.012894\n",
        "180000  were as some simple text -35.784429\n",
        "190000  were as some simple text -35.784429\n",
        "200000  were as some simple text -35.784429\n",
        "210000  were as some simple text -35.784429\n",
        "220000  were as some simple text -35.784429\n",
        "230000  were as some simple text -35.784429\n",
        "240000  were as some simple text -35.784429\n",
        "250000  were is some sample text -37.012894"
       ]
      }
     ],
     "prompt_number": 49
    },
    {
     "cell_type": "markdown",
     "metadata": {},
     "source": [
      "Let's take a look at the likelihood paths of the algorithm with the two proposal rules. We can compute the probability of the original message, which is somewhat less than the message the \"propose from text\" rule converges to."
     ]
    },
    {
     "cell_type": "code",
     "collapsed": false,
     "input": [
      "plt.figure(figsize = (10, 7))\n",
      "results0.logp.plot(style = 'r-', label = 'propose from cipher')\n",
      "results1.logp.plot(style = 'k-', label = 'propose from text')\n",
      "plt.xlabel('Iteration')\n",
      "plt.ylabel('Log Probability')\n",
      "\n",
      "plt.axhline(text_logp(ciphered_text, ceasar_cipher), label = 'log prob of true text')\n",
      "plt.legend(loc = 'best')"
     ],
     "language": "python",
     "metadata": {},
     "outputs": [
      {
       "output_type": "pyout",
       "prompt_number": 50,
       "text": [
        "<matplotlib.legend.Legend at 0x10df05f90>"
       ]
      },
      {
       "output_type": "display_data",
       "png": "[encoded data removed]"
      }
     ],
     "prompt_number": 50
    },
    {
     "cell_type": "markdown",
     "metadata": {},
     "source": [
      "The Metropolis algorithm is kind of pointless for this application. It's really just jumping around looking for the most likely phrase. But since the likelihood of a message is just the sum of the log probabilities of the log probabilities of its component words, we just need to look for the most likely words of the lengths of the words of the ciphered message.\n",
      "\n",
      "If the message at some point is \"fgk tp hpdt\", then, if run long enough, the algorithm should just find the most likely three-letter word, the most likely two-letter word, and the most likely four-letter word. But we can look these up directly.\n",
      "\n",
      "For example, the message we encrypted is 'here is some sample text', which has word lengths 4, 2, 4, 6, 4. What's the most likely message with these word lengths?"
     ]
    },
    {
     "cell_type": "code",
     "collapsed": false,
     "input": [
      "def maxprob_message(word_lens = (4, 2, 4, 6, 4), lexical_db = lexical_database):\n",
      "    db_word_series = Series(lexical_db.index)\n",
      "    db_word_len    = db_word_series.str.len() \n",
      "    max_prob_wordlist = []\n",
      "    logp = 0.0\n",
      "    for i in word_lens:\n",
      "        db_words_i = list(db_word_series[db_word_len == i])\n",
      "        db_max_prob_word = lexical_db[db_words_i].idxmax()\n",
      "        logp += math.log(lexical_db[db_words_i].max())\n",
      "        max_prob_wordlist.append(db_max_prob_word)\n",
      "    return max_prob_wordlist, logp"
     ],
     "language": "python",
     "metadata": {},
     "outputs": [],
     "prompt_number": 64
    },
    {
     "cell_type": "code",
     "collapsed": false,
     "input": [
      "maxprob_message()"
     ],
     "language": "python",
     "metadata": {},
     "outputs": [
      {
       "output_type": "pyout",
       "prompt_number": 65,
       "text": [
        "(['with', 'of', 'with', 'united', 'with'], -25.642396806584493)"
       ]
      }
     ],
     "prompt_number": 65
    }
   ],
   "metadata": {}
  }
 ]
}