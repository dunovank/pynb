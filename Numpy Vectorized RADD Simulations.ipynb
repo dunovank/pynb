{
 "metadata": {
  "name": "",
  "signature": "sha256:fecd3abafc1145e08aaf86461c39144d18845d6dab1dc118359765921d01e60b"
 },
 "nbformat": 3,
 "nbformat_minor": 0,
 "worksheets": [
  {
   "cells": [
    {
     "cell_type": "code",
     "collapsed": false,
     "input": [
      "from radd.fitfx import radd_fitfx\n",
      "from radd.fitre import simulate\n",
      "from radd import fitfx, npsim"
     ],
     "language": "python",
     "metadata": {},
     "outputs": [],
     "prompt_number": 3
    },
    {
     "cell_type": "code",
     "collapsed": false,
     "input": [
      "theta={'v':1, 'a':.4, 'z':.15, 't':.29, 'pGo':.5, 'ssd':.45, 'ssv':-.97} \n",
      "ntrials=50000; timebound=0.650; tau=.0005; si=.01;"
     ],
     "language": "python",
     "metadata": {},
     "outputs": [],
     "prompt_number": 2
    },
    {
     "cell_type": "code",
     "collapsed": false,
     "input": [
      "def radd_lcfit(theta, model='radd', ntrials=2000, timebound=0.560, tau=.0005, si=.01, **kwargs):\n",
      "\n",
      "    np.random.seed(12345)\n",
      "    \n",
      "    theta=fitfx.update_params(theta)\n",
      "    tr=theta['tt']; mu=theta['vv'];\n",
      "    a=theta['a']; z=theta['zz'];\n",
      "    ssd=theta['ssd']; ssv=-abs(theta['ssv'])\n",
      "\n",
      "    ngo_trials=int(theta['pGo']*ntrials)\n",
      "    nSS=ntrials-ngo_trials\n",
      "\n",
      "    dx=np.sqrt(si*tau)\n",
      "    Pg=0.5*(1 + mu*dx/si)\n",
      "    Ps=0.5*(1 + ssv*dx/si)\n",
      "\n",
      "    Tg=np.arange(tr, timebound, tau)\n",
      "    Ts=np.arange(ssd, timebound, tau)\n",
      "\n",
      "    #simulate all go signal paths\n",
      "    DVg=[z + np.cumsum([dx if np.random.random_sample()<Pg else -dx for i, t in enumerate(Tg)]) for n in xrange(ngo_trials)]\n",
      "\n",
      "    if tr<ssd:\n",
      "        # get the index of the go path\n",
      "        # where ss is initiated\n",
      "        IXs = len(Tg) - len(Ts)\n",
      "        # lambda fx to init ss dv at value of go dv when t=ssd\n",
      "        init_ss = lambda gvector: gvector[IXs]\n",
      "        # lambda fx to test if a response has occurred before ssd\n",
      "        no_choice_yet = lambda gvector: np.all(gvector[:IXs]<a)\n",
      "    else:\n",
      "        # when ssd<tr, init ss dv at z\n",
      "        init_ss = lambda gvector: z\n",
      "        # dummy fx when ssd < tr\n",
      "        #(impossible for response to have occurred already)\n",
      "        no_choice_yet = lambda x: x.all()==x.all()\n",
      "\n",
      "    #simulate all ss paths\n",
      "    DVs=[init_ss(DVgn) + np.cumsum([dx if np.random.random_sample()<Ps else -dx for i, t in enumerate(Ts)]) if no_choice_yet(DVgn) else np.nan for DVgn in DVg[:nSS]]\n",
      "\n",
      "    return DVg, DVs"
     ],
     "language": "python",
     "metadata": {},
     "outputs": [],
     "prompt_number": 4
    },
    {
     "cell_type": "code",
     "collapsed": false,
     "input": [
      "def radd_npfit(theta, model='radd', ntrials=2000, timebound=0.560, tau=.0005, si=.01, **kwargs):\n",
      "    \n",
      "    np.random.seed(12345)\n",
      "    \n",
      "    theta=fitfx.update_params(theta)\n",
      "    tr=theta['tt']; mu=theta['vv'];\n",
      "    a=theta['a']; z=theta['zz'];\n",
      "    ssd=theta['ssd']; ssv=-abs(theta['ssv'])\n",
      "\n",
      "    nGO=int(theta['pGo']*ntrials)\n",
      "    nSS=ntrials-nGO\n",
      "\n",
      "    dx=np.sqrt(si*tau)\n",
      "    Pg=0.5*(1 + mu*dx/si)\n",
      "    Ps=0.5*(1 + ssv*dx/si)\n",
      "\n",
      "    Tg=np.ceil((timebound-tr)/tau)\n",
      "    Ts=np.ceil((timebound-ssd)/tau)\n",
      "    \n",
      "    #generate random probability vectors [nGo Trials x nTimesteps TR -> TB]\n",
      "    gotrials=np.random.random_sample((nGO, Tg))\n",
      "\n",
      "    #simulate all go signal paths\n",
      "    DVg=z + np.cumsum(np.where(gotrials<Pg, dx, -dx), axis=1)\n",
      "    \n",
      "    if tr<ssd:\n",
      "        \n",
      "        IXs = Tg - Ts\n",
      "        init_ss = DVg[:nSS, IXs]\n",
      "        init_ss[init_ss>a] = np.nan\n",
      "        \n",
      "    else:\n",
      "        \n",
      "        init_ss = z\n",
      "    \n",
      "    #generate random probability vectors [nGo Trials x nTimesteps SSD -> TB]\n",
      "    sstrials = np.random.random_sample((nSS, Ts))\n",
      "    \n",
      "    #simulate all ss signal paths\n",
      "    DVs = init_ss[:, None] + np.cumsum(np.where(sstrials<Ps, dx, -dx), axis=1)\n",
      "    \n",
      "    return DVg, DVs"
     ],
     "language": "python",
     "metadata": {},
     "outputs": [],
     "prompt_number": 5
    },
    {
     "cell_type": "code",
     "collapsed": false,
     "input": [
      "%timeit origdf = simulate(theta, ntrials=5000, return_all=True)"
     ],
     "language": "python",
     "metadata": {},
     "outputs": [
      {
       "output_type": "stream",
       "stream": "stdout",
       "text": [
        "1 loops, best of 3: 5 s per loop\n"
       ]
      }
     ],
     "prompt_number": 14
    },
    {
     "cell_type": "code",
     "collapsed": false,
     "input": [
      "%timeit dvg_lcfit, dvs_lcfit = radd_lcfit(theta=theta, ntrials=5000)"
     ],
     "language": "python",
     "metadata": {},
     "outputs": [
      {
       "output_type": "stream",
       "stream": "stdout",
       "text": [
        "1 loops, best of 3: 607 ms per loop\n"
       ]
      }
     ],
     "prompt_number": 15
    },
    {
     "cell_type": "code",
     "collapsed": false,
     "input": [
      "%timeit dvg_npfit, dvs_npfit = radd_npfit(theta=theta, ntrials=5000)"
     ],
     "language": "python",
     "metadata": {},
     "outputs": [
      {
       "output_type": "stream",
       "stream": "stdout",
       "text": [
        "10 loops, best of 3: 30.8 ms per loop\n"
       ]
      }
     ],
     "prompt_number": 16
    },
    {
     "cell_type": "code",
     "collapsed": false,
     "input": [
      "dvg_npfit, dvs_npfit = npsim.radd(theta=theta, ntrials=5000)\n",
      "npsim.analyze_reactive_trials(dvg_npfit, dvs_npfit, theta)"
     ],
     "language": "python",
     "metadata": {},
     "outputs": [
      {
       "metadata": {},
       "output_type": "pyout",
       "prompt_number": 6,
       "text": [
        "(0.0, 0.51418661462850535)"
       ]
      }
     ],
     "prompt_number": 6
    },
    {
     "cell_type": "code",
     "collapsed": false,
     "input": [
      "%%timeit\n",
      "dvg_lcfit, dvs_lcfit = radd_lcfit(theta=theta, ntrials=200000)"
     ],
     "language": "python",
     "metadata": {},
     "outputs": [
      {
       "output_type": "stream",
       "stream": "stdout",
       "text": [
        "1 loops, best of 3: 1min 25s per loop\n"
       ]
      }
     ],
     "prompt_number": 242
    },
    {
     "cell_type": "code",
     "collapsed": false,
     "input": [
      "%%timeit\n",
      "dvg_npfit, dvs_npfit = radd_npfit(theta=theta, ntrials=200000)"
     ],
     "language": "python",
     "metadata": {},
     "outputs": [
      {
       "output_type": "stream",
       "stream": "stdout",
       "text": [
        "1 loops, best of 3: 5.27 s per loop\n"
       ]
      }
     ],
     "prompt_number": 243
    },
    {
     "cell_type": "code",
     "collapsed": false,
     "input": [],
     "language": "python",
     "metadata": {},
     "outputs": []
    },
    {
     "cell_type": "heading",
     "level": 1,
     "metadata": {},
     "source": [
      "Test: Go Vectors are Equivalent"
     ]
    },
    {
     "cell_type": "code",
     "collapsed": false,
     "input": [
      "dvg_lcfit=np.array(dvg_lcfit)\n",
      "\n",
      "np.array_equal(dvg_npfit, dvg_lcfit)"
     ],
     "language": "python",
     "metadata": {},
     "outputs": [
      {
       "metadata": {},
       "output_type": "pyout",
       "prompt_number": 244,
       "text": [
        "True"
       ]
      }
     ],
     "prompt_number": 244
    },
    {
     "cell_type": "heading",
     "level": 1,
     "metadata": {},
     "source": [
      "Test: Stop Vectors are Equivalent"
     ]
    },
    {
     "cell_type": "code",
     "collapsed": false,
     "input": [
      "dvs_lcfit=np.array(dvs_lcfit)\n",
      "np.array_equal(dvs_npfit, dvs_lcfit)"
     ],
     "language": "python",
     "metadata": {},
     "outputs": [
      {
       "metadata": {},
       "output_type": "pyout",
       "prompt_number": 245,
       "text": [
        "True"
       ]
      }
     ],
     "prompt_number": 245
    }
   ],
   "metadata": {}
  }
 ]
}