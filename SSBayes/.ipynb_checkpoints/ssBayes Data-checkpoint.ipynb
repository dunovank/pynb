{
 "metadata": {
  "name": "",
  "signature": "sha256:c0626a61c08b3cbf6f7804392ab3734d05e7b2ec5971b44f5cd0733b03a90448"
 },
 "nbformat": 3,
 "nbformat_minor": 0,
 "worksheets": [
  {
   "cells": [
    {
     "cell_type": "code",
     "collapsed": false,
     "input": [
      "from __future__ import division\n",
      "import pandas as pd\n",
      "import os\n",
      "from radd import utils\n"
     ],
     "language": "python",
     "metadata": {},
     "outputs": [],
     "prompt_number": 3
    },
    {
     "cell_type": "heading",
     "level": 1,
     "metadata": {},
     "source": [
      "Reformat ssBayes Data for RaDD"
     ]
    },
    {
     "cell_type": "code",
     "collapsed": false,
     "input": [
      "#All datasets were formatted as follows:\n",
      "os.chdir(\"/Users/kyle/Dropbox/CoAx/SSBayes/raw_beh\")\n",
      "\n",
      "#read in original\n",
      "orig=pd.read_csv(\"SSBayes_EarlyGaussianGroup.dat\", delim_whitespace=True)"
     ],
     "language": "python",
     "metadata": {},
     "outputs": [],
     "prompt_number": 41
    },
    {
     "cell_type": "code",
     "collapsed": false,
     "input": [
      "histo=plt.hist(orig.RT)"
     ],
     "language": "python",
     "metadata": {},
     "outputs": [
      {
       "metadata": {},
       "output_type": "display_data",
       "png": "[encoded data removed]",
       "text": [
        "<matplotlib.figure.Figure at 0x1151ab450>"
       ]
      }
     ],
     "prompt_number": 46
    },
    {
     "cell_type": "code",
     "collapsed": false,
     "input": [
      "df=orig.rename(columns={'RT':'rt_msec', 'RT_sec':'rt', 'Keypress':'response'}, axis=1)\n",
      "# delete all stop-signal trials that were drawn from the context pdf\n",
      "# (Leaves only the probe stop trials and go trials (no stop signal appeared))\n",
      "df=edf[edf['StopSignal'].isin([0.0, 0.4, 0.5, 0.6, 0.7, 0.8])]\n",
      "\n",
      "df.rename(columns={'SubjID':'subj_idx','StopTrial':'trial_type', 'StopSignal':'ssd_perc', 'rt_msec':'rt'}, inplace=True)\n",
      "df['ssd']=df['ssd_perc']*.500\n",
      "\n",
      "df.replace({'trial_type':{0:'go', 1:'stop'}}, inplace=True)\n",
      "df['choice']=df['response'].copy()\n",
      "df.ix[(df['response']==0), 'choice']='go'\n",
      "df.ix[(df['response']==1), 'choice']='stop'\n",
      "\n",
      "#edf['choice']=edf['response'].copy()\n",
      "df['acc']=np.zeros(len(df))\n",
      "\n",
      "df.ix[(df['choice']=='stop')&(df['trial_type']=='stop'), 'acc']=1\n",
      "df.ix[(df['choice']=='go')&(df['trial_type']=='go'), 'acc']=1\n",
      "df.to_csv(\"ssb_uniform.csv\",index=False)"
     ],
     "language": "python",
     "metadata": {},
     "outputs": [],
     "prompt_number": 38
    },
    {
     "cell_type": "heading",
     "level": 1,
     "metadata": {},
     "source": [
      "Load Reformatted ssBayes Data"
     ]
    },
    {
     "cell_type": "code",
     "collapsed": false,
     "input": [
      "os.chdir(\"/Users/kyle/Dropbox/CoAx/SSBayes/raw_beh\")\n",
      "\n",
      "\n",
      "#load early gaussian group data \n",
      "ssb_e=pd.read_csv(\"ssb_early.csv\")\n",
      "\n",
      "#load late gaussian group data \n",
      "ssb_l=pd.read_csv(\"ssb_late.csv\")\n",
      "\n",
      "#load uniform group data \n",
      "ssb_u=pd.read_csv(\"ssb_uniform.csv\")"
     ],
     "language": "python",
     "metadata": {},
     "outputs": [],
     "prompt_number": 40
    }
   ],
   "metadata": {}
  }
 ]
}