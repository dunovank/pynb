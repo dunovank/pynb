{
 "metadata": {
  "name": "",
  "signature": "sha256:9ac83908a2bcbed3d9e7abfbc2ea347df6e3177bf7bd4fbe8523997f9d8ccac7"
 },
 "nbformat": 3,
 "nbformat_minor": 0,
 "worksheets": [
  {
   "cells": [
    {
     "cell_type": "code",
     "collapsed": false,
     "input": [
      "inits_opt={'a':0.4380473426, 'ssv':-0.9784438748, 't':0.3063577618, 'z':0.1664076139,'v': 1.0515686029}\n",
      "from radd import fitre, utils"
     ],
     "language": "python",
     "metadata": {},
     "outputs": [],
     "prompt_number": 1
    },
    {
     "cell_type": "code",
     "collapsed": false,
     "input": [
      "df=fitre.simConditions(inits_opt, return_all=False)"
     ],
     "language": "python",
     "metadata": {},
     "outputs": [],
     "prompt_number": 9
    },
    {
     "cell_type": "code",
     "collapsed": false,
     "input": [
      "print df.pivot_table('acc', 'ssd', 'trial_type')['stop'].values"
     ],
     "language": "python",
     "metadata": {},
     "outputs": [
      {
       "output_type": "stream",
       "stream": "stdout",
       "text": [
        "[ 0.9959893   0.98950131  0.92254495  0.496       0.12255541]\n"
       ]
      }
     ],
     "prompt_number": 13
    },
    {
     "cell_type": "code",
     "collapsed": false,
     "input": [],
     "language": "python",
     "metadata": {},
     "outputs": []
    }
   ],
   "metadata": {}
  }
 ]
}