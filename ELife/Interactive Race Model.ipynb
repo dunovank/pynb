{
 "cells": [
  {
   "cell_type": "code",
   "execution_count": 642,
   "metadata": {
    "collapsed": false
   },
   "outputs": [
    {
     "data": {
      "text/plain": [
       "array([ 0.9554,  0.999 ,  0.993 ,  0.9582,  0.5328,  0.1384,  0.5144,\n",
       "        0.5434,  0.5644,  0.5864,  0.6204,  0.5054,  0.5314,  0.5504,\n",
       "        0.5704,  0.6024,  0.9542,  0.9992,  0.9938,  0.961 ,  0.5356,\n",
       "        0.1336,  0.5154,  0.5424,  0.5634,  0.5854,  0.6194,  0.5074,\n",
       "        0.5314,  0.5514,  0.5724,  0.6034])"
      ]
     },
     "execution_count": 642,
     "metadata": {},
     "output_type": "execute_result"
    }
   ],
   "source": [
    "#!/usr/local/bin/env python\n",
    "from __future__ import division\n",
    "import time\n",
    "from numpy import array\n",
    "\n",
    "from copy import deepcopy\n",
    "from numpy.random import random_sample as rs\n",
    "from scipy.stats.mstats import mquantiles as mq\n",
    "from radd import build\n",
    "from radd.models import Simulator\n",
    "from radd import models\n",
    "model=reload(models)\n",
    "\n",
    "model=reload(models)\n",
    "ss = Simulator(model=m)\n",
    "DVg, DVs = ss.sim_fx(ss.inits,analyze=False)\n",
    "y1 = ss.analyze_radd(DVg, DVs, ss.inits)\n",
    "y2 = ss.new_analyze_radd(DVg, DVs, ss.inits)\n",
    "y1\n"
   ]
  },
  {
   "cell_type": "code",
   "execution_count": 629,
   "metadata": {
    "collapsed": false
   },
   "outputs": [],
   "source": [
    "resp_up = lambda a, dvg: np.argmax((dvg.T>=a).T, axis=2)*.0005\n",
    "resp_lo = lambda dvs: np.argmax((dvs.T<=0).T, axis=3)*.0005\n",
    "RT = lambda ot, ru: ot[:, None]+(ru*np.where(ru==0, np.nan, 1))\n",
    "#RT = lambda ru: (ru*np.where(ru==0, np.nan, 1))\n",
    "\n",
    "gp = resp_up(a, DVg); sp=resp_lo(DVs)\n",
    "s1 = RT(ssd, sp)\n",
    "ert1 = RT(tr, gp)[:, :nss][:, None] * np.ones_like(s1)\n",
    "\n",
    "\n",
    "s2 = SRT2(ssd, DVs)\n",
    "ert2 = RT2(a, tr, DVg)[:, :nss]\n",
    "ert2 = np.array([ert2[i] * np.ones_like(s2[i]) for i in range(ncond)])"
   ]
  },
  {
   "cell_type": "code",
   "execution_count": 591,
   "metadata": {
    "collapsed": false
   },
   "outputs": [
    {
     "ename": "ValueError",
     "evalue": "operands could not be broadcast together with shapes (2,10000) (2,5,5000) ",
     "output_type": "error",
     "traceback": [
      "\u001b[0;31m---------------------------------------------------------------------------\u001b[0m",
      "\u001b[0;31mValueError\u001b[0m                                Traceback (most recent call last)",
      "\u001b[0;32m<ipython-input-591-99db0fae286a>\u001b[0m in \u001b[0;36m<module>\u001b[0;34m()\u001b[0m\n\u001b[0;32m----> 1\u001b[0;31m \u001b[0mlen\u001b[0m\u001b[0;34m(\u001b[0m\u001b[0mt1\u001b[0m\u001b[0;34m[\u001b[0m\u001b[0mt1\u001b[0m\u001b[0;34m<\u001b[0m\u001b[0ms2\u001b[0m\u001b[0;34m]\u001b[0m\u001b[0;34m)\u001b[0m\u001b[0;34m\u001b[0m\u001b[0m\n\u001b[0m\u001b[1;32m      2\u001b[0m \u001b[0;31m#len(t1.flatten())\u001b[0m\u001b[0;34m\u001b[0m\u001b[0;34m\u001b[0m\u001b[0m\n",
      "\u001b[0;31mValueError\u001b[0m: operands could not be broadcast together with shapes (2,10000) (2,5,5000) "
     ]
    }
   ],
   "source": [
    "len([t1<s2])\n",
    "#len(t1.flatten())"
   ]
  },
  {
   "cell_type": "code",
   "execution_count": 625,
   "metadata": {
    "collapsed": false
   },
   "outputs": [],
   "source": [
    "ert2 = t2[:, :nss]\n",
    "ert1 = t1[:, :nss][:, None] * np.ones_like(s1)"
   ]
  },
  {
   "cell_type": "code",
   "execution_count": 626,
   "metadata": {
    "collapsed": false
   },
   "outputs": [
    {
     "data": {
      "text/plain": [
       "array([[[ 0.5734,  0.5914,  0.5134, ...,  0.5414,  0.5384,  0.5474],\n",
       "        [ 0.5734,  0.5914,  0.5134, ...,  0.5414,  0.5384,  0.5474],\n",
       "        [ 0.5734,  0.5914,  0.5134, ...,  0.5414,  0.5384,  0.5474],\n",
       "        [ 0.5734,  0.5914,  0.5134, ...,  0.5414,  0.5384,  0.5474],\n",
       "        [ 0.5734,  0.5914,  0.5134, ...,  0.5414,  0.5384,  0.5474]],\n",
       "\n",
       "       [[ 0.5654,  0.6014,  0.5014, ...,  0.5564,  0.5214,  0.6084],\n",
       "        [ 0.5654,  0.6014,  0.5014, ...,  0.5564,  0.5214,  0.6084],\n",
       "        [ 0.5654,  0.6014,  0.5014, ...,  0.5564,  0.5214,  0.6084],\n",
       "        [ 0.5654,  0.6014,  0.5014, ...,  0.5564,  0.5214,  0.6084],\n",
       "        [ 0.5654,  0.6014,  0.5014, ...,  0.5564,  0.5214,  0.6084]]])"
      ]
     },
     "execution_count": 626,
     "metadata": {},
     "output_type": "execute_result"
    }
   ],
   "source": [
    "ert1"
   ]
  },
  {
   "cell_type": "code",
   "execution_count": 614,
   "metadata": {
    "collapsed": false
   },
   "outputs": [],
   "source": [
    "ert1 = ert1[:, None]*np.ones_like(s1)\n",
    "ert2 = np.array([ert2[i] * np.ones_like(s2[i]) for i in range(ncond)])\n"
   ]
  },
  {
   "cell_type": "code",
   "execution_count": 632,
   "metadata": {
    "collapsed": false
   },
   "outputs": [],
   "source": [
    "x2 = np.where(ert2<s2, 0, 1).mean(axis=2)\n",
    "x1 = np.where(ert1<s1, 0, 1).mean(axis=2)"
   ]
  },
  {
   "cell_type": "code",
   "execution_count": 634,
   "metadata": {
    "collapsed": false
   },
   "outputs": [
    {
     "data": {
      "text/plain": [
       "array([[ 0.9994,  0.9932,  0.9586,  0.5414,  0.1392],\n",
       "       [ 0.999 ,  0.9924,  0.9614,  0.5382,  0.1338]])"
      ]
     },
     "execution_count": 634,
     "metadata": {},
     "output_type": "execute_result"
    }
   ],
   "source": [
    "x1"
   ]
  },
  {
   "cell_type": "code",
   "execution_count": 619,
   "metadata": {
    "collapsed": false
   },
   "outputs": [
    {
     "data": {
      "text/plain": [
       "True"
      ]
     },
     "execution_count": 619,
     "metadata": {},
     "output_type": "execute_result"
    }
   ],
   "source": [
    "np.all(x1==x2)"
   ]
  },
  {
   "cell_type": "code",
   "execution_count": 598,
   "metadata": {
    "collapsed": false
   },
   "outputs": [
    {
     "data": {
      "text/plain": [
       "array([], dtype=float64)"
      ]
     },
     "execution_count": 598,
     "metadata": {},
     "output_type": "execute_result"
    }
   ],
   "source": [
    "ert2[ert2 < ert1]"
   ]
  },
  {
   "cell_type": "code",
   "execution_count": 569,
   "metadata": {
    "collapsed": false
   },
   "outputs": [
    {
     "data": {
      "text/plain": [
       "0"
      ]
     },
     "execution_count": 569,
     "metadata": {},
     "output_type": "execute_result"
    }
   ],
   "source": [
    "len(s2[np.isnan(s2)])"
   ]
  },
  {
   "cell_type": "code",
   "execution_count": 570,
   "metadata": {
    "collapsed": false
   },
   "outputs": [
    {
     "data": {
      "text/plain": [
       "array([ 0.35,  0.4 ,  0.4 ,  0.4 ,  0.4 ,  0.4 ,  0.4 ,  0.4 ,  0.4 ,\n",
       "        0.4 ,  0.4 ,  0.4 ,  0.4 ,  0.4 ,  0.4 ,  0.4 ,  0.4 ,  0.4 ,\n",
       "        0.4 ,  0.4 ,  0.4 ,  0.4 ,  0.4 ,  0.4 ,  0.4 ,  0.4 ,  0.4 ,\n",
       "        0.4 ,  0.4 ,  0.4 ,  0.4 ,  0.4 ,  0.4 ,  0.4 ,  0.4 ,  0.4 ,\n",
       "        0.4 ,  0.4 ,  0.35,  0.35,  0.4 ,  0.4 ,  0.4 ,  0.4 ,  0.4 ,\n",
       "        0.4 ,  0.4 ,  0.4 ,  0.4 ,  0.4 ,  0.4 ,  0.4 ,  0.4 ,  0.4 ,\n",
       "        0.4 ,  0.4 ,  0.4 ,  0.4 ,  0.4 ,  0.4 ,  0.4 ,  0.4 ,  0.4 ,\n",
       "        0.4 ,  0.4 ,  0.4 ,  0.4 ,  0.4 ,  0.4 ,  0.4 ,  0.4 ,  0.4 ,\n",
       "        0.4 ,  0.4 ,  0.4 ,  0.4 ,  0.4 ,  0.4 ,  0.4 ,  0.4 ])"
      ]
     },
     "execution_count": 570,
     "metadata": {},
     "output_type": "execute_result"
    }
   ],
   "source": [
    "len(s1[s1!=s2])\n",
    "s1[s1!=s2]"
   ]
  },
  {
   "cell_type": "code",
   "execution_count": 557,
   "metadata": {
    "collapsed": false
   },
   "outputs": [
    {
     "data": {
      "text/plain": [
       "array([ nan,  nan,  nan,  nan,  nan,  nan,  nan,  nan,  nan,  nan,  nan,\n",
       "        nan,  nan,  nan,  nan,  nan,  nan,  nan,  nan,  nan,  nan,  nan,\n",
       "        nan,  nan,  nan,  nan,  nan,  nan,  nan,  nan,  nan,  nan,  nan,\n",
       "        nan,  nan,  nan,  nan,  nan,  nan,  nan,  nan,  nan,  nan,  nan,\n",
       "        nan,  nan,  nan,  nan,  nan,  nan,  nan,  nan,  nan,  nan,  nan,\n",
       "        nan,  nan,  nan,  nan,  nan,  nan,  nan,  nan,  nan,  nan,  nan,\n",
       "        nan,  nan,  nan,  nan,  nan,  nan,  nan,  nan,  nan,  nan,  nan,\n",
       "        nan,  nan,  nan])"
      ]
     },
     "execution_count": 557,
     "metadata": {},
     "output_type": "execute_result"
    }
   ],
   "source": [
    "len(s2[s2!=s1])\n",
    "s2[s2!=s1]"
   ]
  },
  {
   "cell_type": "code",
   "execution_count": null,
   "metadata": {
    "collapsed": true
   },
   "outputs": [],
   "source": [
    "ert = array([ertx[i] * np.ones_like(ssrt[i]) for i in range(ncond)])\n"
   ]
  },
  {
   "cell_type": "code",
   "execution_count": 588,
   "metadata": {
    "collapsed": false
   },
   "outputs": [],
   "source": [
    "RT2 = lambda a, tr, dvg: (tr+(np.where((DVg.max(axis=2).T>=a).T, np.argmax((dvg.T>=a).T,axis=2)*.0005, np.nan).T)).T\n",
    "\n",
    "SRT2 = lambda ssd, DVs: np.where(np.any(DVs<=0, axis=3), ssd[:, None]+np.argmax(DVs<=0, axis=3)*.0005,np.nan)"
   ]
  },
  {
   "cell_type": "code",
   "execution_count": 458,
   "metadata": {
    "collapsed": false
   },
   "outputs": [
    {
     "ename": "KeyboardInterrupt",
     "evalue": "",
     "output_type": "error",
     "traceback": [
      "\u001b[0;31m---------------------------------------------------------------------------\u001b[0m",
      "\u001b[0;31mKeyboardInterrupt\u001b[0m                         Traceback (most recent call last)",
      "\u001b[0;32m<ipython-input-458-1079a6da0e83>\u001b[0m in \u001b[0;36m<module>\u001b[0;34m()\u001b[0m\n\u001b[0;32m----> 1\u001b[0;31m \u001b[0mget_ipython\u001b[0m\u001b[0;34m(\u001b[0m\u001b[0;34m)\u001b[0m\u001b[0;34m.\u001b[0m\u001b[0mrun_cell_magic\u001b[0m\u001b[0;34m(\u001b[0m\u001b[0;34mu'timeit'\u001b[0m\u001b[0;34m,\u001b[0m \u001b[0;34mu''\u001b[0m\u001b[0;34m,\u001b[0m \u001b[0;34mu'for i in xrange(5):\\n      DVg, DVs = ss.sim_fx(ss.inits,analyze=False)\\n      yhat = ss.analyze_radd(DVg, DVs, ss.inits)'\u001b[0m\u001b[0;34m)\u001b[0m\u001b[0;34m\u001b[0m\u001b[0m\n\u001b[0m",
      "\u001b[0;32m/Users/kyle/anaconda/lib/python2.7/site-packages/IPython/core/interactiveshell.pyc\u001b[0m in \u001b[0;36mrun_cell_magic\u001b[0;34m(self, magic_name, line, cell)\u001b[0m\n\u001b[1;32m   2262\u001b[0m             \u001b[0mmagic_arg_s\u001b[0m \u001b[0;34m=\u001b[0m \u001b[0mself\u001b[0m\u001b[0;34m.\u001b[0m\u001b[0mvar_expand\u001b[0m\u001b[0;34m(\u001b[0m\u001b[0mline\u001b[0m\u001b[0;34m,\u001b[0m \u001b[0mstack_depth\u001b[0m\u001b[0;34m)\u001b[0m\u001b[0;34m\u001b[0m\u001b[0m\n\u001b[1;32m   2263\u001b[0m             \u001b[0;32mwith\u001b[0m \u001b[0mself\u001b[0m\u001b[0;34m.\u001b[0m\u001b[0mbuiltin_trap\u001b[0m\u001b[0;34m:\u001b[0m\u001b[0;34m\u001b[0m\u001b[0m\n\u001b[0;32m-> 2264\u001b[0;31m                 \u001b[0mresult\u001b[0m \u001b[0;34m=\u001b[0m \u001b[0mfn\u001b[0m\u001b[0;34m(\u001b[0m\u001b[0mmagic_arg_s\u001b[0m\u001b[0;34m,\u001b[0m \u001b[0mcell\u001b[0m\u001b[0;34m)\u001b[0m\u001b[0;34m\u001b[0m\u001b[0m\n\u001b[0m\u001b[1;32m   2265\u001b[0m             \u001b[0;32mreturn\u001b[0m \u001b[0mresult\u001b[0m\u001b[0;34m\u001b[0m\u001b[0m\n\u001b[1;32m   2266\u001b[0m \u001b[0;34m\u001b[0m\u001b[0m\n",
      "\u001b[0;32m/Users/kyle/anaconda/lib/python2.7/site-packages/IPython/core/magics/execution.pyc\u001b[0m in \u001b[0;36mtimeit\u001b[0;34m(self, line, cell)\u001b[0m\n",
      "\u001b[0;32m/Users/kyle/anaconda/lib/python2.7/site-packages/IPython/core/magic.pyc\u001b[0m in \u001b[0;36m<lambda>\u001b[0;34m(f, *a, **k)\u001b[0m\n\u001b[1;32m    191\u001b[0m     \u001b[0;31m# but it's overkill for just that one bit of state.\u001b[0m\u001b[0;34m\u001b[0m\u001b[0;34m\u001b[0m\u001b[0m\n\u001b[1;32m    192\u001b[0m     \u001b[0;32mdef\u001b[0m \u001b[0mmagic_deco\u001b[0m\u001b[0;34m(\u001b[0m\u001b[0marg\u001b[0m\u001b[0;34m)\u001b[0m\u001b[0;34m:\u001b[0m\u001b[0;34m\u001b[0m\u001b[0m\n\u001b[0;32m--> 193\u001b[0;31m         \u001b[0mcall\u001b[0m \u001b[0;34m=\u001b[0m \u001b[0;32mlambda\u001b[0m \u001b[0mf\u001b[0m\u001b[0;34m,\u001b[0m \u001b[0;34m*\u001b[0m\u001b[0ma\u001b[0m\u001b[0;34m,\u001b[0m \u001b[0;34m**\u001b[0m\u001b[0mk\u001b[0m\u001b[0;34m:\u001b[0m \u001b[0mf\u001b[0m\u001b[0;34m(\u001b[0m\u001b[0;34m*\u001b[0m\u001b[0ma\u001b[0m\u001b[0;34m,\u001b[0m \u001b[0;34m**\u001b[0m\u001b[0mk\u001b[0m\u001b[0;34m)\u001b[0m\u001b[0;34m\u001b[0m\u001b[0m\n\u001b[0m\u001b[1;32m    194\u001b[0m \u001b[0;34m\u001b[0m\u001b[0m\n\u001b[1;32m    195\u001b[0m         \u001b[0;32mif\u001b[0m \u001b[0mcallable\u001b[0m\u001b[0;34m(\u001b[0m\u001b[0marg\u001b[0m\u001b[0;34m)\u001b[0m\u001b[0;34m:\u001b[0m\u001b[0;34m\u001b[0m\u001b[0m\n",
      "\u001b[0;32m/Users/kyle/anaconda/lib/python2.7/site-packages/IPython/core/magics/execution.pyc\u001b[0m in \u001b[0;36mtimeit\u001b[0;34m(self, line, cell)\u001b[0m\n\u001b[1;32m   1034\u001b[0m             \u001b[0mnumber\u001b[0m \u001b[0;34m=\u001b[0m \u001b[0;36m1\u001b[0m\u001b[0;34m\u001b[0m\u001b[0m\n\u001b[1;32m   1035\u001b[0m             \u001b[0;32mfor\u001b[0m \u001b[0m_\u001b[0m \u001b[0;32min\u001b[0m \u001b[0mrange\u001b[0m\u001b[0;34m(\u001b[0m\u001b[0;36m1\u001b[0m\u001b[0;34m,\u001b[0m \u001b[0;36m10\u001b[0m\u001b[0;34m)\u001b[0m\u001b[0;34m:\u001b[0m\u001b[0;34m\u001b[0m\u001b[0m\n\u001b[0;32m-> 1036\u001b[0;31m                 \u001b[0mtime_number\u001b[0m \u001b[0;34m=\u001b[0m \u001b[0mtimer\u001b[0m\u001b[0;34m.\u001b[0m\u001b[0mtimeit\u001b[0m\u001b[0;34m(\u001b[0m\u001b[0mnumber\u001b[0m\u001b[0;34m)\u001b[0m\u001b[0;34m\u001b[0m\u001b[0m\n\u001b[0m\u001b[1;32m   1037\u001b[0m                 \u001b[0mworst_tuning\u001b[0m \u001b[0;34m=\u001b[0m \u001b[0mmax\u001b[0m\u001b[0;34m(\u001b[0m\u001b[0mworst_tuning\u001b[0m\u001b[0;34m,\u001b[0m \u001b[0mtime_number\u001b[0m \u001b[0;34m/\u001b[0m \u001b[0mnumber\u001b[0m\u001b[0;34m)\u001b[0m\u001b[0;34m\u001b[0m\u001b[0m\n\u001b[1;32m   1038\u001b[0m                 \u001b[0;32mif\u001b[0m \u001b[0mtime_number\u001b[0m \u001b[0;34m>=\u001b[0m \u001b[0;36m0.2\u001b[0m\u001b[0;34m:\u001b[0m\u001b[0;34m\u001b[0m\u001b[0m\n",
      "\u001b[0;32m/Users/kyle/anaconda/lib/python2.7/site-packages/IPython/core/magics/execution.pyc\u001b[0m in \u001b[0;36mtimeit\u001b[0;34m(self, number)\u001b[0m\n\u001b[1;32m    130\u001b[0m         \u001b[0mgc\u001b[0m\u001b[0;34m.\u001b[0m\u001b[0mdisable\u001b[0m\u001b[0;34m(\u001b[0m\u001b[0;34m)\u001b[0m\u001b[0;34m\u001b[0m\u001b[0m\n\u001b[1;32m    131\u001b[0m         \u001b[0;32mtry\u001b[0m\u001b[0;34m:\u001b[0m\u001b[0;34m\u001b[0m\u001b[0m\n\u001b[0;32m--> 132\u001b[0;31m             \u001b[0mtiming\u001b[0m \u001b[0;34m=\u001b[0m \u001b[0mself\u001b[0m\u001b[0;34m.\u001b[0m\u001b[0minner\u001b[0m\u001b[0;34m(\u001b[0m\u001b[0mit\u001b[0m\u001b[0;34m,\u001b[0m \u001b[0mself\u001b[0m\u001b[0;34m.\u001b[0m\u001b[0mtimer\u001b[0m\u001b[0;34m)\u001b[0m\u001b[0;34m\u001b[0m\u001b[0m\n\u001b[0m\u001b[1;32m    133\u001b[0m         \u001b[0;32mfinally\u001b[0m\u001b[0;34m:\u001b[0m\u001b[0;34m\u001b[0m\u001b[0m\n\u001b[1;32m    134\u001b[0m             \u001b[0;32mif\u001b[0m \u001b[0mgcold\u001b[0m\u001b[0;34m:\u001b[0m\u001b[0;34m\u001b[0m\u001b[0m\n",
      "\u001b[0;32m<magic-timeit>\u001b[0m in \u001b[0;36minner\u001b[0;34m(_it, _timer)\u001b[0m\n",
      "\u001b[0;32m/Users/kyle/Dropbox/Git/radd/models.py\u001b[0m in \u001b[0;36msimulate_radd\u001b[0;34m(self, p, analyze)\u001b[0m\n\u001b[1;32m    184\u001b[0m             \u001b[0;31m# a/tr/v Bias: ALL CONDITIONS, ALL SSD\u001b[0m\u001b[0;34m\u001b[0m\u001b[0;34m\u001b[0m\u001b[0m\n\u001b[1;32m    185\u001b[0m             \u001b[0mDVg\u001b[0m \u001b[0;34m=\u001b[0m \u001b[0mself\u001b[0m\u001b[0;34m.\u001b[0m\u001b[0mlowerb\u001b[0m\u001b[0;34m+\u001b[0m\u001b[0;34m(\u001b[0m\u001b[0mself\u001b[0m\u001b[0;34m.\u001b[0m\u001b[0mxtb\u001b[0m\u001b[0;34m[\u001b[0m\u001b[0;34m:\u001b[0m\u001b[0;34m,\u001b[0m\u001b[0mNone\u001b[0m\u001b[0;34m]\u001b[0m\u001b[0;34m*\u001b[0m\u001b[0mnp\u001b[0m\u001b[0;34m.\u001b[0m\u001b[0mcumsum\u001b[0m\u001b[0;34m(\u001b[0m\u001b[0mnp\u001b[0m\u001b[0;34m.\u001b[0m\u001b[0mwhere\u001b[0m\u001b[0;34m(\u001b[0m\u001b[0;34m(\u001b[0m\u001b[0mrs\u001b[0m\u001b[0;34m(\u001b[0m\u001b[0;34m(\u001b[0m\u001b[0mself\u001b[0m\u001b[0;34m.\u001b[0m\u001b[0mncond\u001b[0m\u001b[0;34m,\u001b[0m \u001b[0mself\u001b[0m\u001b[0;34m.\u001b[0m\u001b[0mntot\u001b[0m\u001b[0;34m,\u001b[0m \u001b[0mTg\u001b[0m\u001b[0;34m.\u001b[0m\u001b[0mmax\u001b[0m\u001b[0;34m(\u001b[0m\u001b[0;34m)\u001b[0m\u001b[0;34m)\u001b[0m\u001b[0;34m)\u001b[0m\u001b[0;34m.\u001b[0m\u001b[0mT\u001b[0m\u001b[0;34m<\u001b[0m\u001b[0mPg\u001b[0m\u001b[0;34m)\u001b[0m\u001b[0;34m,\u001b[0m \u001b[0mself\u001b[0m\u001b[0;34m.\u001b[0m\u001b[0mdx\u001b[0m\u001b[0;34m,\u001b[0m\u001b[0;34m-\u001b[0m\u001b[0mself\u001b[0m\u001b[0;34m.\u001b[0m\u001b[0mdx\u001b[0m\u001b[0;34m)\u001b[0m\u001b[0;34m.\u001b[0m\u001b[0mT\u001b[0m\u001b[0;34m,\u001b[0m \u001b[0maxis\u001b[0m\u001b[0;34m=\u001b[0m\u001b[0;36m2\u001b[0m\u001b[0;34m)\u001b[0m\u001b[0;34m)\u001b[0m\u001b[0;34m\u001b[0m\u001b[0m\n\u001b[0;32m--> 186\u001b[0;31m             \u001b[0minit_ss\u001b[0m \u001b[0;34m=\u001b[0m \u001b[0marray\u001b[0m\u001b[0;34m(\u001b[0m\u001b[0;34m[\u001b[0m\u001b[0;34m[\u001b[0m\u001b[0mDVc\u001b[0m\u001b[0;34m[\u001b[0m\u001b[0;34m:\u001b[0m\u001b[0mself\u001b[0m\u001b[0;34m.\u001b[0m\u001b[0mnss\u001b[0m\u001b[0;34m,\u001b[0m \u001b[0mix\u001b[0m\u001b[0;34m]\u001b[0m \u001b[0;32mfor\u001b[0m \u001b[0mix\u001b[0m \u001b[0;32min\u001b[0m \u001b[0mnp\u001b[0m\u001b[0;34m.\u001b[0m\u001b[0mwhere\u001b[0m\u001b[0;34m(\u001b[0m\u001b[0mTs\u001b[0m\u001b[0;34m<\u001b[0m\u001b[0mTg\u001b[0m\u001b[0;34m[\u001b[0m\u001b[0mi\u001b[0m\u001b[0;34m]\u001b[0m\u001b[0;34m,\u001b[0m \u001b[0mTg\u001b[0m\u001b[0;34m[\u001b[0m\u001b[0mi\u001b[0m\u001b[0;34m]\u001b[0m\u001b[0;34m-\u001b[0m\u001b[0mTs\u001b[0m\u001b[0;34m,\u001b[0m \u001b[0;36m0\u001b[0m\u001b[0;34m)\u001b[0m\u001b[0;34m]\u001b[0m \u001b[0;32mfor\u001b[0m \u001b[0mi\u001b[0m\u001b[0;34m,\u001b[0m \u001b[0mDVc\u001b[0m \u001b[0;32min\u001b[0m \u001b[0menumerate\u001b[0m\u001b[0;34m(\u001b[0m\u001b[0mDVg\u001b[0m\u001b[0;34m)\u001b[0m\u001b[0;34m]\u001b[0m\u001b[0;34m)\u001b[0m\u001b[0;34m\u001b[0m\u001b[0m\n\u001b[0m\u001b[1;32m    187\u001b[0m             \u001b[0mDVs\u001b[0m \u001b[0;34m=\u001b[0m \u001b[0minit_ss\u001b[0m\u001b[0;34m[\u001b[0m\u001b[0;34m:\u001b[0m\u001b[0;34m,\u001b[0m \u001b[0;34m:\u001b[0m\u001b[0;34m,\u001b[0m \u001b[0;34m:\u001b[0m\u001b[0;34m,\u001b[0m \u001b[0mNone\u001b[0m\u001b[0;34m]\u001b[0m\u001b[0;34m+\u001b[0m\u001b[0mnp\u001b[0m\u001b[0;34m.\u001b[0m\u001b[0mcumsum\u001b[0m\u001b[0;34m(\u001b[0m\u001b[0mnp\u001b[0m\u001b[0;34m.\u001b[0m\u001b[0mwhere\u001b[0m\u001b[0;34m(\u001b[0m\u001b[0mrs\u001b[0m\u001b[0;34m(\u001b[0m\u001b[0;34m(\u001b[0m\u001b[0mself\u001b[0m\u001b[0;34m.\u001b[0m\u001b[0mnss\u001b[0m\u001b[0;34m,\u001b[0m \u001b[0mTs\u001b[0m\u001b[0;34m.\u001b[0m\u001b[0mmax\u001b[0m\u001b[0;34m(\u001b[0m\u001b[0;34m)\u001b[0m\u001b[0;34m)\u001b[0m\u001b[0;34m)\u001b[0m\u001b[0;34m<\u001b[0m\u001b[0mPs\u001b[0m\u001b[0;34m,\u001b[0m \u001b[0mself\u001b[0m\u001b[0;34m.\u001b[0m\u001b[0mdx\u001b[0m\u001b[0;34m,\u001b[0m \u001b[0;34m-\u001b[0m\u001b[0mself\u001b[0m\u001b[0;34m.\u001b[0m\u001b[0mdx\u001b[0m\u001b[0;34m)\u001b[0m\u001b[0;34m,\u001b[0m \u001b[0maxis\u001b[0m\u001b[0;34m=\u001b[0m\u001b[0;36m1\u001b[0m\u001b[0;34m)\u001b[0m\u001b[0;34m\u001b[0m\u001b[0m\n\u001b[1;32m    188\u001b[0m \u001b[0;34m\u001b[0m\u001b[0m\n",
      "\u001b[0;31mKeyboardInterrupt\u001b[0m: "
     ]
    }
   ],
   "source": [
    "%%timeit \n",
    "for i in xrange(5):\n",
    "      DVg, DVs = ss.sim_fx(ss.inits,analyze=False)\n",
    "      yhat = ss.analyze_radd(DVg, DVs, ss.inits)"
   ]
  },
  {
   "cell_type": "code",
   "execution_count": 383,
   "metadata": {
    "collapsed": false
   },
   "outputs": [
    {
     "name": "stdout",
     "output_type": "stream",
     "text": [
      "1 loops, best of 3: 4.03 s per loop\n"
     ]
    }
   ],
   "source": [
    "%%timeit \n",
    "for i in xrange(5):\n",
    "      DVg, DVs = ss.sim_fx(ss.inits,analyze=False)\n",
    "      yhat = ss.new_analyze_radd(DVg, DVs, ss.inits)"
   ]
  },
  {
   "cell_type": "code",
   "execution_count": 640,
   "metadata": {
    "collapsed": false
   },
   "outputs": [
    {
     "data": {
      "text/plain": [
       "[<matplotlib.lines.Line2D at 0x11fd9e950>]"
      ]
     },
     "execution_count": 640,
     "metadata": {},
     "output_type": "execute_result"
    },
    {
     "data": {
      "text/html": [
       "<img src='data:image/png;base64,iVBORw0KGgoAAAANSUhEUgAAA9IAAAK5CAYAAABT1xbzAAAABHNCSVQICAgIfAhkiAAAAAlwSFlz\n",
       "AAAWJQAAFiUBSVIk8AAAIABJREFUeJzs3Xd4VGX+/vH7TEsCaYQS+oSWiKKgS5HFFXctICqCDcui\n",
       "P/26FkRxUSmKZVEUUFEprqvrigi6wrq6dlGXYluRooKQBIEEgxBaEhJSpv7+GJghJCFlkpyU9+u6\n",
       "5ko+zzPnzGc0QO45zznH8Pv9fgEAAAAAgCqxmN0AAAAAAACNCUEaAAAAAIBqIEgDAAAAAFANBGkA\n",
       "AAAAAKqBIA0AAAAAQDUQpAEAAAAAqAaCNAAAAAAA1UCQBgAAAACgGgjSAAAAAABUA0EaAAAAAIBq\n",
       "IEgDAAAAAFANBOkjUlJSlJKSYnYbQFj4OUZTwc8ymgJ+jtFU8LOMpqC2f44J0gAAAAAAVEOtBuns\n",
       "7Gz95je/0auvvlrlbXJzczV9+nT94Q9/UL9+/XTZZZfpww8/rM22AAAAAACoNbba2tHhw4d15513\n",
       "6vDhwzIMo0rbFBYW6qabblJqaqouvPBCdejQQZ988okmTpyonJwcXXfddbXVHgAAAAAAtaJWjkjv\n",
       "2rVLY8eO1Y8//lit7RYtWqTNmzdr2rRpevrpp3XvvffqnXfeUa9evfTUU0/p4MGDtdEeAAAAAAC1\n",
       "JuwgvXDhQl1yySVKT0/XmWeeWa1tX3/9dbVp00bXXHNNcKxly5a67bbbVFRUpPfeey/c9gAAAAAA\n",
       "qFVhB+lFixapc+fOWrx4sS699NIqb7dz507t3btX/fv3L7MUfODAgZKktWvXhtseAAAAAAC1Kuxz\n",
       "pB999FH99re/lWEY2r59e5W327lzpySpa9euZebatm0rh8OhjIyMcNsDAAAAAKBWhR2khwwZUqPt\n",
       "cnNzJUkxMTHlzkdHRys/P7/GfQEAAAAAUBdMu4+0x+ORJDkcjnLnHQ6HSkpK6rMlAAAAAAAqZVqQ\n",
       "joiIkCS53e5y510ul6KiouqzJQAAAAAAKlVr95Gurri4OEmqcPl2QUGB2rZtG9ZrpKSkVHubs88+\n",
       "W06nM6zXBcw2duxYs1sAagU/y2gK+DlGU8HPMpqC6mTEtLS0CudMC9JJSUmSpKysrDJze/fulcvl\n",
       "Urdu3eq5Kyk7O1vZ2dn1/rpAbVqzZo3ZLQC1gp9lNAX8HKOp4GcZCDEtSHfs2FEdO3bUunXr5Pf7\n",
       "S90C6+gf0n79+oX1Gif6BOF4Z599trKzsxUTE6PevXuH9bpAbfD7/Sosdiv3cJHyiwt12FWkEl+h\n",
       "PCqU3/CUu4193wDJZ6/ya7jbrpUsrio/377/N5I3our7b7NOslb9Wgf2A2fI6o+UYUiGIVksKvP9\n",
       "sV8L7NvkN7wyDEMWGTIMy5Hvj3w1LLIYgXGLYSjO1lZWi7XC/R3/mj65ZbEYslosslqMMrfqAwAA\n",
       "QOOwZcsW5efnKzExUatXrw57f6YFaUkaOXKkXnjhBS1evDi4VKSgoEAvvPCCoqKiqnVf6nA5nU5l\n",
       "Z2erd+/eeu211+rtdQG/X9q9W0pPl9LSAl/T06W0dL92DD9VvoiDVd5Xq08nyJE9uMrP3zeoj3wR\n",
       "RVV+fpt/LZC1uOqnXOwbdJp8kblV3/9b82UtSqz6/i/vJ1/U3qrv/9/rZC3sUPX9X3aGfC32BGvD\n",
       "b5Phc8jiP/KQXVY5ZPU7ZJVDZ2QuVoylrex2yeEo/bDbpYgIlZpb739FfkuJIm0RirDb5bDZ1cIR\n",
       "oQibXZEOh6KOPCLtdrWMdKhXq5PUMtJRZj8Oh2SzBcI/AAAAyho7dqzWrFlTa6fx1luQnjdvngzD\n",
       "0Pjx44NjN998sz766CPNmDFD3333nTp37qzly5dr165dmjZtmlq1alVf7QF1zu+Xdu3yKz3dCIbl\n",
       "o4+CgvK2MGTN6yVfu29PuF+rr4XivcnqFJWsi2+KUf+ukscjud1SSUngq8sVeBz7vcslrTBGqch3\n",
       "SG6fS26fSx6/S16/W25/ibxyy+t3ySuXvIZLPrnVOi5CPkdo3z5fJe/ZUv7FBCtieMu/in+Fqr3/\n",
       "qh9NlyRZSx+t9xse+a0e+VRY7tN//MGQpbjqu993xTPyRe6v8vPb/Ot7WYvbVTh/fMDePvhi+e2H\n",
       "AmHfsMsmh6yGQzbDLrsRIZvFLpvhkMPqkM1i11DjAcU4YisM/seH95+LvpXNriOB366WkRFqEWFX\n",
       "iwhH4BFpV0xUhFpG2uWwW6v+HwYAAKCBq9UgbRgVL31csGBBmSAdHR2t119/XXPmzNGKFSv0xRdf\n",
       "qHv37po4caJGjBhRm60B9cbnk37aflArN6bpux3pSt2Xrl8K03TQSFPMqherdcTYlpsi95EgbfVF\n",
       "Kd6brM5RKUppk6wznMk6p0+KzujVSVZLTS/A/1gNtwvweksH8+PD+8Z9b6jQVaIilyv4KHYHHiVu\n",
       "t4rcJXJ53XJ5XCrxuDTwthbyuSve3/EfBnzn7y63K09eueQzQg+/4ZbPUs6S8mose5ckfzWWvdfH\n",
       "/o1K9l9SEngcddi+XT5HJSsC/JKOnCmQuWyyyvvPVpF9V/5f1VdM+C3q8sEPivS1LnOkvqKj9rs7\n",
       "/F3xrT06pWOS+nVz6syTnGoT16LqDQIAANSRWg3So0eP1ujRo8udS01NLXe8devWmjFjRm22AdQL\n",
       "n0/6aVuOVmxK09odaUrdm66dhenKsaTJ4zjuKOORA6GeuLRKg3RMjJSSIvXqJbXsdp3iOp2ns09J\n",
       "0Rk9wwnMdcNqlaKiAo/y9FF41zmo3HsVzvh8fhW7PDpc7FZBUYkOl7gVe2dLuV0nPkp/bHhfkfOA\n",
       "itxFcnldKvG45fK65PK65Pa6VeItkcfnPuZovltnDI6Qz3XiDxeOjrndqv4RdV/1jqhX+4OAaq4I\n",
       "qNb+DZ+KD9vlqsZb3j/qJXndv0h7JK0PjDnc7RSvJCVGOuWMcyolMUmndXVqUEqSenRMkMXC+nYA\n",
       "AFD3TD1HGmgMfD5p587AEuytW0PnMW/dKmWfOktFyYtCT4488b488enB72NjQ4E5JUVKTg482rc/\n",
       "9lzXU488UF0Wi6EWkXa1iLSrbXzNjmL+UTfUclchPp+UX/STDhe7VVjsUkGxS0UlbhWWuHS4xKWi\n",
       "EpeKXW4ddpWo2OVWidut3mdFyOcpHdRP9GHAf+0j5fIVye0vkdsXWKrv8bvkUWAJv1eBJfxHj+TH\n",
       "RtvlLQnsw+utwpuwVveIetWDut/ikrflrjLjLvte7dVe7fWu0caD0vsHJW2R9Ink/HiderbvIKdT\n",
       "SkqSnE4Fv+/YMfDBDwAAQG0gSANHeL3S9gyPdmyzlbro188/S0UVXI/Lllf5feis/kjF+3qpc1Sy\n",
       "Bp87UFffEwjPiYlcHKo5s1ikuJaRimtZyacvYZlT46d7veUfTT82rK/f+2ZwyX6J261CV4lK3O7A\n",
       "0n2PS8Uel1wet0o8gSX8g29xlFkRcPwHAUdfM9e7Twd8UfJaD1epdcMbqaL9idq0X9q0qey83S51\n",
       "6aJSIftg/Gfq262LBvd2Kj66Lv8/AACApoYgjWbH65U2bc3Tyk3pWrsjTVv2pSmrKLAk2545QrFr\n",
       "Hq/yvmy5ycHvA4G5pzpHJat32xSd4UzR0D7J6teti2wcCkMjY7UGHpEnyJena1AddtBJPl+6tu46\n",
       "oG/TMrRxZ6ZSszO0My9Te0sylasMuez7Qv0WdJWhik99cLul7dsDD0ny2Q9p35jrpbWBOsLdXvFy\n",
       "qn1kkpzxTp3UPkmnOZ06MyVJzsR4lowDAIBSCNJosjweKW1bkT77cZPW7kgvFZg9kdmln3zkHF9L\n",
       "XOX3Hk9ICCzBTkmRuvQ8TUVtXgkE5qSuBGagFlkshlK6tFFKlzaS+peZ35tzWP9Ly9T3OzKVne1X\n",
       "TCspI0PKzJSysk68PN0bk1mqLrHvUbb2KNv7rX44IL17QNJPkj6UbN5YJbj6aaTrn6WOaCclSR06\n",
       "BFYXAACA5oUgjUbP7Q784nzsuctpadK2bVJBq/XKOf/KwBMNSZWcKuuJDwXp1q1D5y4fex5zmzbH\n",
       "bhEjaVgtvyMAVdGuVUuNPPNkjTzz5DJzbre0a1fg74aj4frYr8UxO6r8Oh7rIeUcLtB7H5edczik\n",
       "rl1Ln4/tdEqdurrVsZOXJeMAADRRBGk0Gm63lPpzsTK3RZa6B/O2bUeugFyOKp3DLIfi/T3UJSpF\n",
       "KZ2Tdfsyj04+yabWrWv5DQCoN3Z7INQmJUlDh5ae8/ulHbt+ry+2/Ec/7MxQ+t5M7czLUHZJpvKM\n",
       "DLltB8rsz1rgLPd1XK7AdRR+/vm48cS1yjn/CkW6OyjecKrDkSXjKe2d6peUpEEpTjkT42vnzQIA\n",
       "gHpHkEaD43JJm9ILtPqndK3dka7UfWn6pShNOZat8luL1HZZOVcSqoCluI0sJQnyRRyU1bAr3nck\n",
       "MLdN1oBuKTr7lBT1dTpls/BHAWguDEPq3jlG3TsPkDSgzPyvB/L1bWqmfsjIVOqeTG0/mCFbXH95\n",
       "uwSOcvt8lb+GNzpTkl/F9l+1R79qj+cbbdgvab+kTZLel2yeeMX6nWrnSFLf2HM0sseY4JHt9u1Z\n",
       "Mg4AQENGeoBpSkqk7dv9+vj777UuM01b9qbrl6I05VrT5W1xzG1vrJKiQ6Uvcr8sxW3K7O+oxMTS\n",
       "t5UqafuS+iW31WldnbJb7XX3hgA0CR1bx2j0kD4aPaRPmTmXK3D+9bFLxY9+v3Nn6Ar/3piMSl/H\n",
       "Y8vVQeXqoP8HZa6N0coFY4JzkZGBq4wfez720a+dO0sR1bulOAAAqGUEadS5kpLA8utj78Gcni7t\n",
       "2CF5vYb2XXG9fJEHAj+NMZXvzxOXJkdxG3XoUPYezL16SfFlVksOroN3BaA5cjik7t0Dj+P5/VJ2\n",
       "diBYL98yVN/ssmjnoQztdWXqkJEpt+1ghfu15ieVqouLA39nbt1a9rmGIUX+ZqlKei5T+yinusUn\n",
       "6aT2TvXrFlgy3rltbHhvEgAAVIogjVpTXCxtSivU9p9t2vGzo1RgPtFSSFteslyR31Q4b7XYFO/v\n",
       "pi5RKTqpbYqufK6Dft9XiourgzcBADVkGIEl2e3bS4MGDdbxH+Jl7Tukb9My9f2ODKXuydSO3Azt\n",
       "KcpUjj9DtoJuVX4dv1/aa/yoQttX2u3+Shv2SdonaWNg3u5JOLJk3KmusUnq1c6p3/c6U2ee5OT+\n",
       "9QAA1BKCNKotEJiLtHrTVq3LSNOWfenKOrokO3qnWn26TI7sIVXenzUvRUr8RlaLNRCYW6QcuQ9z\n",
       "soaekqJTu3STw+qow3cEAHWvc9tYdW57qi4/69QycyUlgSXj5V1hfOfOwPyxAudgl89tO6gDOqgD\n",
       "/g3akid9kie9unimWmy9XlFRgauMH10qfuyy8S5dAhdpAwAAlSNIo0JFRYEr0a7euE1fbd+g1P1p\n",
       "yipMV64tEJglf+CJjiOPIzzx6ScM0p07h+7D3KuXFN35T2rfeaxO7dxdETZO/APQ/ERESD16BB7H\n",
       "8/mkPXtKn4/91v5eynDv1yEjUx5bbqX7txYkSQr8vZ6WFngcz2KROnUKBOui7kvVos1+ndTeqb5J\n",
       "Tg3unaT2CdFlNwIAoJkiSEOFhYHAfOz5y+npgaMgfr90aODLKkpeWCYwV8QTF/gNrUuXsvdh7tlT\n",
       "ii7zu1jVlzQCQHNjsUgdOwYeg4+sFp+ih4Lzmdm5gSXjGRlK25OpzNxM7S7OUK4/U8X2XyVJ1vyu\n",
       "lb6Ozyf98kvgcTDqDbm930rZkn6Q9B/J7mmtOH+SEiOc6hqXpOR2TvXtmqT+vZzq3bWtLBbWjAMA\n",
       "mg+CdDNy+LC0KbVYP6UX6ddtrYKB+ZdfAoG5Irbc5BPu12a1KE5J6hKVrJPapui8Yb/VmMFSixa1\n",
       "/AYAAGU4E+PlTIzXVWf3LTOXW1Cs79J+kfe8zsraWfpK4zt3Bq5CXp7ylo67bQe0Xwe037dOP+VI\n",
       "H+VISpP0qdRh5btKielf5grjTmdgFZKN3zYAAE0M/7Q1QQUFgcD8xU/btD4zcB/mrKJ05dnS5Y3J\n",
       "UNTWPyp2zcwq78+WlxL4arUoXknqHNVLJ7VN0YBuKTrr5GT16dhDkbbIuno7AIAaio+O1Pm/6VXu\n",
       "nNcbWDJ+/HnZ2zNdWu0oUhVulx3k2Z+kLVnSli1l56zWQJg+Nlwfbv2lkrsm6Le9k9Qmjk9dAQCN\n",
       "D0G6EcvPDxxRXp96QP/9+YtQYLanyxuzQzKO/BoUdeRxhCe+nJPjjrBYAr/kHL2dVEqK1LVHP6nV\n",
       "cvXp2JPADABNhNUaOCe6UydpSKnLWjjk821WZnau/peWoR8zM5W6J0OZuZnaU5yhXGWqxL4n+GzD\n",
       "01JGcesKX8frDR0FX71a8suvfWNukn9tQeDV3G0VryS1i3Cqa5xTJyUm6dSuTg1KSVKvTq1ZMg4A\n",
       "aJAI0o3AoUOBwHz8fZh/DZz6JldiunLOHye1UOBRCW9cugyLX927GWXuw9yjhxRZJitHSepTu28K\n",
       "ANBgWSyGunVopW4dWukanV5m/uChIn2btlPf78jUjt15avP/jOAR7V9+kTyeivftjzgov70gWLvs\n",
       "+7RX+7TX95025Ugf5khKlbRcsnqjFeNN0qjDH6h7kr3UlcY7dgx8GAAAgBkI0g1IXp60aUuJ1qbu\n",
       "0cEdTqWlBcLz7t0n3s6Wm3LieauhOKOrurZI0Ultk/Wbbsm65QmfWrbgNxAAQPUlxEbpwgEpunBA\n",
       "2X9/PJ7AB73H38br6NfcqIwqv47XWqBDrn366IOy9+Wy2wMXtTz+vOwuXX1q36lErWKiymwDAEBt\n",
       "IUibIDdX+inVpa82b9fajDSl709XVlG68iPS5InZIYsrVm2WbZKhqi1ns5QkyFrSRkbL/YpT6cD8\n",
       "u94pOqV9L0XZ+YUCAFD3bLbAvaq7dpV+97vSc36/lJV9slZselcbd2YqNTtDO/MytbckU7nKkMu+\n",
       "r8z+rPnOcl/H7Za2bw88juWNztL+UWcqwp2oOMOp9pFJcsY5dVL7JJ3W1akzT0pSUmIrlowDAMJC\n",
       "kK5DOTmBJdipqX598PN7SjuQrqzCdBUcCcyyHFn7Fn3kcYQvIke+yH2yFrcrs0+bTerevfR9mFNS\n",
       "JF/823ImdFALOxdtAQA0TIYhdWkfpevb95fUv8z83pzD+l9apr7fkaktv2ZoR06mPJFO2Z1SVlbg\n",
       "fOvKHL3ieIk9W3uVrb2eNfrxgPTeAUk/SfpIsnpjFOtNUluHUymx/XVV91uCR7Tbt2fJOACgcgTp\n",
       "WnDwYOjc5WPPY94X/GDd0L4rpskXvb9UYD6hNmlKadmuVFhOTg78I+8o917OPWrjrQAAYJp2rVpq\n",
       "5Jkna+SZJ5eZc7ulXbsqXjJeVBR4nidmR6Wv47XmK8e6UTnaqIzUQq15/pbgnMMROJp+7PnYwWXj\n",
       "Xcq7jggAoDkiSFfDgQPST1vc+npLhg7s6KQd6S2UlhYYr4wtN0Wu9vvLjBtG4JPvOEsndWmRot5t\n",
       "k/WbpGRdOTVZnVvVwZsAAKARstsDYTYpSRo6tPSc3x/48DozU1qV2k8rsyZqZ16GsksylWdkyG2r\n",
       "+B9qW35Sqdrlkn7+OfA4nmFI0X1WqeCUueoQmSRnvFMp7Z3ql5SkQSlOORPjw36fAIDGgSB9nKP/\n",
       "GG9O9eibLRlal5mmtH3pyipO1+HINHljt8lvcavVZ2/Ksed3le/wCEdBiny2r44E5mT1bpuiAd2T\n",
       "NTg5WScnJivaUdVD1QAA4FiGIbVrF3gMGHCa7tVppeZ3HyjQ/1Iz9ENGplL3ZGr7wQztKcrUQX+G\n",
       "bPndq/w6fr+0x7tZBbZvtMfzjTbsl7Rf0iZJ70s2T7xi/U61cySpS4xTye2SNLBHL119zumyWS21\n",
       "+p4BAOYiSB/nq9R0dX7g3COB2RUYLOcDZk/c1nKDdESE1LNn6fsw9+olRbf9s1pETFZMREwdvwMA\n",
       "AHCsDq2jNXpIH40eUvZWji5X4PzrY5eKH/1+587QkvGjjp6DXR6PLVcHlauD/h+Uekj69JC04Gdp\n",
       "7kd36NsnH5DB9c0AoMkgSB/H69gvT/wvlT+xdZpOPVVl7sPctWtFFylpXdutAgCAMDkcgYt4di/n\n",
       "wLTfL2Vnlw7Z72d3Uar7DB0yMuS2HTzhvg1vhFpumqBffrpd750tjRxZN+8BAFD/CNKVMIzAlbJj\n",
       "Le0DS7Lbpah/t2Sdd8oZ6pNodncAAKCuGEbgKt7t20uDBgXGJukOSXdIkrL2HdKatJ36PiNDqXsy\n",
       "tSMntGS82LZbcatfUsSu8yRJDz0knXOOFBtrznsBANQugvRxbBaH+rUaoN7tkjWgW4rOTE5WSpte\n",
       "io/kAiIAACCkc9tYdW7bR5edVXbJeH6hSw/O3Kc3/+6XIUN790qzZkkzZpjQKACg1hGkjzOkW3+9\n",
       "NvU1s9sAAACNWEwLh2ZM7qSvPgrctkuSFi6UrrhCOv10U1sDANQCLiEJAABQB1q2LH0E2u+XJk2S\n",
       "PB7zegIA1A6CNAAAQB254ALpwgtD9U8/SX//u3n9AABqB0EaAACgDj36aODo9FFPPhm45RYAoPEi\n",
       "SAMAANShjh2lyZNDdVGRNG1aYKk3AKBxIkgDAADUsRtvlE49NVQvXy59/LF5/QAAwkOQBgAAqGNW\n",
       "a2BJt+WY37wemObXwTyXeU0BAGqMIA0AAFAPTjstcGRakjyx27TllDEaNecxc5sCANQIQRoAAKCe\n",
       "TJokOQa+ooMXnytX+y/1VeE/9K8vfjS7LQBANRGkAQAA6klMjHTjVYnyW44s6TZ8uu3fk+Rye81t\n",
       "DABQLQRpAACAevTg1Reqm++CYJ1j/1G3/HWheQ0BAKqNIA0AAFCPLBZDb/zpMVl8UcGx1zNnav3W\n",
       "X03sCgBQHQRpAACAejYgpbOu6HhvsPZaD+uaFx8ysSMAQHUQpAEAAEzwjztuVrzrlGD9s/Ghnli6\n",
       "3MSOAABVRZAGAAAwQVSEXXNHzpJkBMce++YB7c8rNK8pAECVEKQBAABMct0fztCgiBuCdbF9l8Y8\n",
       "97SJHQEAqoIgDQAAYKKld02Rw90uWK/Kf1H/+fonEzsCAFSGIA0AAGCizm1jNfGM6cE6YucIzZvd\n",
       "Wl5uLQ0ADRZBGgAAwGSPXneJUkr+qPgVrynui79p85r2eu01s7sCAFSEIA0AAGAyi8XQx/fMVvzB\n",
       "c4NjTzwhZWeb2BQAoEIEaQAAgAaga1fpz38O1fn50sMPm9cPAKBiBGkAAIAG4tZbpZSUUP3uu9KK\n",
       "Feb1AwAoH0EaAACggbDbpdmzS49NnSoVFZnTDwCgfARpAACABmTAAOm660L1zp3SM8+Y1w8AoCyC\n",
       "NAAAQANz//1Smzah+oUXpNRU8/oBAJRGkAYAAGhgWrWSHnkkVHs80uTJks9nWksAgGOEHaQ9Ho8W\n",
       "LlyoESNGqG/fvjrvvPP0/PPPy+PxVGn71NRUjRs3TgMGDFD//v01duxYrVq1Kty2AAAAGrXRo6Wz\n",
       "zw7V330nvfGGef0AAELCDtLTp0/XzJkzlZCQoBtuuEGJiYmaO3euJk6cWOm2a9as0ZgxY7RixQoN\n",
       "GDBAV1xxhXJycnTrrbfq5ZdfDrc1AACARsswAveSjogI1D5bge7+9wxt2bnP3MYAALKFs/H69eu1\n",
       "dOlSDR8+XM8++2xwfMqUKXrnnXe0cuVKnXPOOeVu6/V6df/998vlcunpp5/WiBEjJElut1vjxo3T\n",
       "nDlzdNZZZynl2HtAAAAANCPdukl33unXY29+pPwBD8rXYrfGPL9bP86cb3ZrANCshXVEesmSJZKk\n",
       "8ePHlxqfOHGiDMPQsmXLKtx248aNysrK0pAhQ4IhWpLsdrsmTZokr9erhQsXhtMeAABAo3fLbR55\n",
       "B8+Ur8VuSdJPvn9r/ntfmNwVADRvYQXptWvXKiEhQT179iw13q5dOzmdTq1du7bCbbOysiRJ/fr1\n",
       "KzPXo0cP2Ww2rV+/Ppz2AAAAGr3oFnY9OWxWqbH7P5+i3IJikzoCANQ4SLtcLmVnZ6tr167lznfq\n",
       "1El5eXnKyckpd97hcEgKLOU+XlFRkTwej3bt2lXT9gAAAJqMWy4crH62q4P1YccOXTd3nokdAUDz\n",
       "VuMgnZubK0mKiYkpd/7oeEFBQbnzffr0kST997//ldfrLTW3YsUKSYHzqIuL+bQVAABg6fhpsnsS\n",
       "gvUnOfP16bqtJnYEAM1XjYP00dtbHT2yfLyj4yUlJeXOd+zYUcOGDdPWrVt19913a8eOHSooKNAn\n",
       "n3yiGTNmKCoqSpLk9/tr2iIAAECT0aNjgm4/+aFg7TfcumHxZPl8/K4EAPWtxlftjoyMlFT+0mwp\n",
       "sPRbUjAQl+exxx5Tbm6uPv30U3366aeBhmw2TZgwQZ9//rl+/PFHRRy950MNcMVvAADQlDx905Va\n",
       "du9S7bZ9LUnKtv9Pd//9Tc295epKtgQASIFbMFc1J6alpVU4V+MgHR0dLcMwlJ+fX+58fn6+DMOo\n",
       "cOm3FFj+/eqrr+qbb77RTz/9pBYtWmjo0KHq1KmT3njjDbVq1UoWS9i3ugYAAGgSLBZDr46dqWFL\n",
       "zpPfEjho8WLqY5rw6wXq0TGhkq0BALWlxkHa4XCoY8eOwatvHy8rK0sJCQmKjY2tdF+DBw/W4MGD\n",
       "g/XBgwf166+/atCgQTVtT9KJP0E43tixY7VmzZqwXg8AAKCunXt6Tw3/eLw+ypkjSXLbDuqKedO1\n",
       "4YlnTe4MABq+gQMH6rXXXgt7P2Ed7u3fv7/27dunjIyMUuPZ2dnKzMxU3759K9zW7XZr2LBhZe5B\n",
       "LUmfffaZJOnss88Opz0AAIAmafGd49XS1T1Ybz6wUf/9otDEjgCgeQkrSI8aNUqSNGfOnOBFwfx+\n",
       "v+bMCXxCOmbMmAq3tdvtateunVavXq0dO3YEx3fv3q158+YpLi7uhNsDAAA0V/HRkXr83CdkeKIU\n",
       "vX6aEj78WI880EIVXOMVAFDLary0WwosyR4xYoQ+/PBDjRkzRgMHDtSGDRu0bt06DR8+XEOHDg0+\n",
       "d968eTIMo9QR6MmTJ+vqq6/WNddco4svvlgej0cfffSRCgsLNX/+fEVHR4fTHgAAQJM1/pLf6YdP\n",
       "v9MHmwOzGkjNAAAgAElEQVTnRv/8s7RggTRxosmNAUAzEPaVvGbPnq277rpLOTk5WrRokQ4cOKAJ\n",
       "EyboySefLPW8BQsWaMGCBaXG+vTpo9dff129e/fWe++9p+XLl+uMM87QG2+8USqEAwAAoKwnHkpQ\n",
       "fHyonjdP2rbNvH4AoLkI64i0FLhd1bhx4zRu3LgTPi81NbXc8dNOO02vvPJKuG0AAAA0O23aSNOm\n",
       "SffeG6hLSqSpU6U335QMw9zeAKAp495SAAAAjdjVV0sDB4bqL7+U/v1v8/oBgOaAIA0AANCIWSzS\n",
       "rFmS7Zh1ho88IuXkmNYSADR5BGkAAIBGLiVFuv32UH3ggDRjhnn9AEBTR5AGAABoAu6+W3I6Q/Xr\n",
       "r0tr1pjXDwA0ZQRpAACAJiAqSnriidJjkyZJLpc5/QBAU0aQBgAAaCLOOUcaNSpUp6X79Mjzm03r\n",
       "BwCaKoI0AABAE/LII1JsrOSJS1fOBZfryayL9eWmDLPbAoAmhSANAADQhLRrJ113zwYdvOh8udt9\n",
       "K5+lWH985X75fH6zWwOAJoMgDQAA0MRMvamvWntPDda/WFdq2uJ3TewIAJoWgjQAAEATY7Na9NKY\n",
       "2TL81uDYMxse0s69eSZ2BQBNB0EaAACgCRp55sk6J+bWYO2y79OYeTNN7AgAmg6CNAAAQBP1zwkT\n",
       "FeXuHKzXlCzS4s/XmdgRADQNBGkAAIAmqk1cC0377YxjRvy6673JKix2m9YTADQFBGkAAIAmbMqV\n",
       "56uX/6JgnefYrJsWvGRiRwDQ+BGkAQAAmrh/3jZdVm90sH5r99Nak5plYkcA0LgRpAEAAJq4fj06\n",
       "6DrnlGDtsxRp7IuPy8+tpQGgRgjSAAAAzcDfbr9BCe6+kqTIHZcp952/6MMPTW4KABopgjQAAEAz\n",
       "4LBb9eIVTynhv28q7qv5sha31YMPSvn5ZncGAI0PQRoAAKCZGD3kFI276HfBes8eadYsExsCgEaK\n",
       "IA0AANCM3Hef1LFjqH7lFen7783rBwAaI4I0AABAMxIdLT32WKj2+6XJkyWPx7yeAKCxIUgDAAA0\n",
       "M8OHS8OGheqNGwNHpgEAVUOQBgAAaIZmzJBatAjVs2ZJv/5qXj8A0JgQpAEAAJqhjh2lSZNCdWGh\n",
       "NG2aef0AQGNCkAYAAGimbrpJ6tMnVH/8sfTJJ+b1AwCNBUEaAACgmbLZAku6DSM0Nm2aVFDgN68p\n",
       "AGgECNIAAADN2OmnSzfeGPje58jTlk5TNfLpx068EQA0cwRpAACAZm7SJCmqz3IduGSoipJf1aqC\n",
       "v+ntrzaZ3RYANFgEaQAAgGYuNla67nqXfFF7AwOGT7f+a5Jcbq+5jQFAA0WQBgAAgB659iI5vecG\n",
       "6wP273XbC4tM7AgAGi6CNAAAAGSxGHrj5sdl8UUFxxZnPKEft+8xsSsAaJgI0gAAAJAkDerdRZd3\n",
       "uCdYe60FGvPCQyZ2BAANE0EaAAAAQf+440+Kc/UO1ul6X0++9bmJHQFAw0OQBgAAQFCLSLuevXhW\n",
       "qbG/fDlV+/MKTeoIABoegjQAAABKuf68/urvGBusi+xZumbuMyZ2BAANC0EaAAAAZSy9c6ocnjbB\n",
       "esWhv+n9b7eY2BEANBwEaQAAAJThTIzX3X2nB2trzkl66imffD4TmwKABoIgDQAAgHLNGHupktwj\n",
       "FLPuESV89KHSvzpFS5aY3RUAmI8gDQAAgHJZLIY+u+slJey4RYbfJkmaMUPau9fkxgDAZARpAAAA\n",
       "VKhbN0N33x2qDx2SHnnEtHYAoEEgSAMAAOCEbrtNSk4O1e+8I61aZV4/AGA2gjQAAABOyOGQZpW+\n",
       "tbSmTJGKi83pBwDMRpAGAABApQYNkq65JlRnZkrPPWdePwBgJoI0AAAAqmTaNCkhIVQ//7yUnm5e\n",
       "PwBgFoI0AAAAqqRVq9IXGnO7pUmTxL2lATQ7BGkAAABU2eWXS2edFarXrJHefNO8fgDADARpAAAA\n",
       "VJlhSE88EbgAmST55dN9i5Zoa9YBcxsDgHpEkAYAAEC19Ogh3Xmn5I7frJzhl2r3qffpygXTzW4L\n",
       "AOoNQRoAAADVNu4On9zn3yF3m3WSpI3eZXr+/S9N7goA6gdBGgAAANUWFWnRExc8Vmps6mdTlVvA\n",
       "zaUBNH0EaQAAANTI7RcN0anWK4N1gWObxs5bYGJHAFA/CNIAAACosWV3PCS7p1Ww/ujAPP33+20m\n",
       "dgQAda9WgrTH49HChQs1YsQI9e3bV+edd56ef/55eTyeKm2fmpqq2267TQMGDNBpp52mkSNHaunS\n",
       "pbXRGgAAAOpQr86tdctJDwZrv8Wl6xdNls/nN7ErAKhbtRKkp0+frpkzZyohIUE33HCDEhMTNXfu\n",
       "XE2cOLHSbTdv3qyrr75aX375pYYOHaprr71WhYWFeuihh/TUU0/VRnsAAACoQ8/ePEaJnkHBerft\n",
       "a937yr9M7AgA6lbYQXr9+vVaunSphg8frsWLF2vixIlasmSJRo0apeXLl2vlypUn3P6ZZ55RcXGx\n",
       "nnvuOT311FOaMmWK3n33XSUlJekf//iHsrKywm0RAAAAdchiMbTwulky/Pbg2PM//UU7dueY2BUA\n",
       "1J2wg/SSJUskSePHjy81PnHiRBmGoWXLlp1w+82bNysuLk7nnntucKxFixa66KKL5PP5tHHjxnBb\n",
       "BAAAQB274DfJOj9+XLB22w7qynmPnWALAGi8wg7Sa9euVUJCgnr27FlqvF27dnI6nVq7du0Jt2/d\n",
       "urUKCgp06NChUuPZ2dmSpISEhHBbBAAAQD14Y8IEtXAlBesfDn+i5V9wVBpA0xNWkHa5XMrOzlbX\n",
       "rl3Lne/UqZPy8vKUk1PxX6A33nijvF6v7rnnHu3cuVMFBQX617/+pXfeeUennHKKBg4cGE6LAAAA\n",
       "qCfx0ZF6/A8zJUlR265W63dXa8a0VnK5TG4MAGqZLZyNc3NzJUkxMTHlzh8dLygoUKtWrcp9zujR\n",
       "o2W1WnX//ffrggsuCI4PGTJEzzzzjAzDCKdFAAAA1KM7R56t/322Siu+6SVJ2rpV+utfpQkTTG4M\n",
       "AGpRWEekj97eyuFwlDt/dLykpKTCfXz99deaMWOGHA6HRo8ereuvv149evTQ119/reeeey6c9gAA\n",
       "AGCCZx/spbi4Y+pnpR07zOsHAGpbWEekIyMjJUlut7vcedeRdTxRUVHlzufl5Wn8+PGy2+16++23\n",
       "5XQ6g/u79957tWTJEvXo0UPXXnttjfpLSUmp0XYAAACoubZtpQcekCZNCtQlJdLUqdIbb0gsNgRg\n",
       "pjVr1lQ5J6alpVU4F9YR6ejoaBmGofz8/HLn8/PzZRhGhUu/V6xYocLCQo0dOzYYoiXJbrfroYce\n",
       "kiS9/fbb4bQIAAAAE1x7rTRgQKhevVp65x3z+gGA2hTWEWmHw6GOHTtWeK/nrKwsJSQkKDY2ttz5\n",
       "o1fm7t69e5m51q1bKz4+Xrt3765xfyf6BOF4Y8eO1Zo1a2r8WgAAAAixWKSZM6Vhw6QjZwPq4Yel\n",
       "3/9eio83tzcAzdfAgQP12muvhb2fsG9/1b9/f+3bt08ZGRmlxrOzs5WZmam+fftWuG27du0kSTvK\n",
       "OWkmLy9Pubm5atu2bbgtAgAAwAS9e0u33hqq9++XnnjCvH4AoLaEHaRHjRolSZozZ478fr8kye/3\n",
       "a86cOZKkMWPGVLjtOeeco6ioKC1evFi//PJLcNzr9WrmzMCtEy666KJwWwQAAIBJJk6UunQJ1a+9\n",
       "Jn33nXn9AEBtCGtptyQNHjxYI0aM0IcffqgxY8Zo4MCB2rBhg9atW6fhw4dr6NChwefOmzdPhmFo\n",
       "/PjxkqRWrVrpkUce0dSpUzVq1CgNGzZMMTEx+t///qe0tDQNHDhQN9xwQ7gtAgAAwCRRUYGj0H/8\n",
       "Y2hs8mTpk08ku928vgAgHGEfkZak2bNn66677lJOTo4WLVqkAwcOaMKECXryySdLPW/BggVasGBB\n",
       "qbFLL71Ur776qk4//XR9+umnev311+XxeHT33Xfr5Zdflp2/YQEAABq1P/xBuuSSUJ2aKj39wl7z\n",
       "GgKAMIV9RFqSbDabxo0bp3Hjxp3weampqeWODxgwQAOOvawjAAAAmpS//EVauVLKK8lRwRkz9GDm\n",
       "2xq6eYUGn9zV7NYAoNpq5Yg0AAAAcCLt20s33bNNB0aeraKer8tnKdK1Lz8gn89vdmsAUG0EaQAA\n",
       "ANSLP9+YpFbW0JXHdlo/18NL3jevIQCoIYI0AAAA6oXDbtXfrpgtw28Njj29/iFl7TtkYlcAUH0E\n",
       "aQAAANSb0UP66HfRNwfrEnu2xsybZWJHAFB9BGkAAADUqzfvuleR7k7B+n/FC/XGyg0mdgQA1UOQ\n",
       "BgAAQL1q16qlpg2eccyIX+Pfmaxil8e0ngCgOgjSAAAAqHdTr7pAPfzDg3WuY5P+b8HLJnYEAFVH\n",
       "kAYAAIAp/nnLY7J6WwbrpVlPam36LhM7AoCqIUgDAADAFGf06qiru04K1j5roa558UETOwKAqiFI\n",
       "AwAAwDQvjbtRrVynSpLsB/op96OJ+vhjk5sCgEoQpAEAAGCaCLtNL1z+pGLXzlCrj9+TPaePHnhA\n",
       "KigwuzMAqBhBGgAAAKa64nenafyQG2X4rZKk3bulJ580uSkAOAGCNAAAAEw3aZLUvn2ofvllaeNG\n",
       "8/oBgBMhSAMAAMB0MTHSY4+Fap9Puu8+yes1rycAqAhBGgAAAA3ChRdK558fqn/8UVq40LR2AKBC\n",
       "BGkAAAA0CIYhzZghRUWFxmbNCpwzDQANCUEaAAAADUbnztK994bqggLpoYfM6wcAykOQBgAAQINy\n",
       "883SKaeE6g8+kD791Lx+AOB4BGkAAAA0KHZ7YEm3YYTG7r9fKiw0rycAOBZBGgAAAA3OGWdI118f\n",
       "+N5veLU1+mVd9tTT5jYFAEcQpAEAANAgTZkixfTYpJzhFyt/wIP6LP9Z/efrn8xuCwAI0gAAAGiY\n",
       "4uKky/+0Te7WP0gKHJm+ZdlkudzcXBqAuQjSAAAAaLAe++NIdfGeE6z329frjhcXm9cQAIggDQAA\n",
       "gAbMYjG05KYnZPFFBscWbX9Cm3Zkm9gVgOaOIA0AAIAGbcgpTo1K/HOw9lgPacwLj5jXEIBmjyAN\n",
       "AACABm/hnbcq1pUSrFP9/9Gct1eY2BGA5owgDQAAgAavZaRDz140u9TYQ6un6uChIpM6AtCcEaQB\n",
       "AADQKNxw/gCdYb8uWBfZd+qauc+a2BGA5oogDQAAgEZj6fj7Zfe0Dtaf5/1VH65JNbEjAM0RQRoA\n",
       "AACNRrcOrXTXqX8J1kZJvB6fmy2fz8SmADQ7BGkAAAA0KjNvGK1OnrMVtXWsWr+7Wtv/O1RvvGF2\n",
       "VwCaE4I0AAAAGhWLxdCn415T2+9nyeKKlyTNmCHt329yYwCaDYI0AAAAGp2UnnbddVeozs2V/vKX\n",
       "ip8PALWJIA0AAIBGadw4qWfPUP3WW9IXX5jXD4DmgyANAACARikiQpo1q/TYlClScbE5/QBoPgjS\n",
       "AAAAaLQGD5bGjAnVO3ZI8+aZ1w+A5oEgDQAAgEbtwQelhIRQPX++9PPP5vUDoOkjSAMAAKBRS0gI\n",
       "hOmj3G5p8mTJ7zevJwBNG0EaAAAAjd5VVwWWeR/1zTfS0qXm9QOgaSNIAwAAoNEzjMCFx+z20NjU\n",
       "57/Stl8PmtcUgCaLIA0AAIAmoWdP6c47JV/EAeX9doIyB12pK+c9anZbAJoggjQAAACajPHjJddF\n",
       "/0/F3ZdJkn7wvqm/ffi1yV0BaGoI0gAAAGgyIiOl6cMmlRqbtHyKDh0uMakjAE0RQRoAAABNyvhL\n",
       "fqdTLJcH6wLHz7p+3vMmdgSgqSFIAwAAoMlZdsfDsnnig/UH++dq5Q/bTewIQFNCkAYAAECTk9Kl\n",
       "jW5OfiBY+ywluv7VqfL5uLk0gPARpAEAANAkPfena9TOPTBY77J9ocmv/tvEjgA0FQRpAAAANEk2\n",
       "q0X/uHaWDL8tODZv4yPasTvHxK4ANAUEaQAAADRZFw5I0blxtwdrt+2Arpr/uIkdAWgKCNIAAABo\n",
       "0t64625FubsG6w0lS/XB6l9N7AhAY0eQBgAAQJOWEBul6Wc/IUmy7xughA8/0VMPd5TLZXJjABot\n",
       "gjQAAACavImjf6+Li/+pVp+8LVvuSUpLk/72N7O7AtBY2Sp/yol5PB4tXrxYS5cu1a5du9S2bVtd\n",
       "dtlluuWWW2SzVbz7b7/9VjfccEOl+09NTQ23RQAAAEAvPnC2hi6XDh0K1M88I40cKTmd5vYFoPEJ\n",
       "O0hPnz5dS5cuVf/+/XXeeedp3bp1mjt3rlJTUzV37twKt+vcubPGjx9f7tyPP/6o1atXa8CAAeG2\n",
       "BwAAAEiSEhOlqVMDD0kqLg58v2SJZBjm9gagcQkrSK9fv15Lly7V8OHD9eyzzwbHp0yZonfeeUcr\n",
       "V67UOeecU+62nTp1KjdI5+fn65JLLlFCQkKpfQIAAADhGjtWWrZMWr8+UK9cKb37rnTppaa2BaCR\n",
       "Cesc6SVLlkhSmUA8ceJEGYahZcuWVXufs2bN0p49e/TAAw+odevW4bQHAAAAlGKxSLNnS1ZraOzh\n",
       "h6W8PPN6AtD4hBWk165dq4SEBPXs2bPUeLt27eR0OrV27dpq7S89PV1vvfWW+vfvr4suuiic1gAA\n",
       "AIBynXyydOutoXrvXmnmTPP6AdD41DhIu1wuZWdnq2vXruXOd+rUSXl5ecrJyanyPufMmSO/3697\n",
       "7723pm0BAAAAlZo4UercOVQvWiStW2dePwAalxoH6dzcXElSTExMufNHxwsKCqq0v4yMDK1cuVL9\n",
       "+/dXv379atoWAAAAUKkWLaQZM0K13y9Nniy53eb1BKDxqHGQ9ng8kiSHw1Hu/NHxkpKSKu1v8eLF\n",
       "kqSbb765pi0BAAAAVXb++dKxZxNu3iz99aVi8xoC0GjU+KrdkZGRkiR3BR/buVwuSVJUVFSl+/J6\n",
       "vXr//feVmJhY4VW+ayIlJaXW9gUAAICmZ/p0adUqKb/QrcKT/q770v+qwWkfakBK58o3BtDorFmz\n",
       "pso5MS0trcK5Gh+Rjo6OlmEYys/PL3c+Pz9fhmFUuPT7WBs2bFBubq4uuOCCmrYDAAAAVFuHDtLt\n",
       "9+3RwQtHqOCMR+Vx7NfVLz0gn89vdmsAGrAaH5F2OBzq2LGjsrKyyp3PyspSQkKCYmNjK93XqlWr\n",
       "JEnDhg2raTvlOtEnCMcbO3as1qxZU6uvDwAAgIbvjv/XVo9vtungkTrD8qke/edHevjaEab2BaD2\n",
       "DRw4UK+99lrY+wnr9lf9+/fXvn37lJGRUWo8OztbmZmZ6tu3b5X28/3338tut1f5+QAAAEBtcdit\n",
       "euHy2ZI/9KvxrO+m6dcD5a+8BICwgvSoUaMkhW5bJUl+v19z5syRJI0ZM6ZK+0lNTVXPnj1lt9vD\n",
       "aQcAAACokcvPOlVntfy/YF1i36Mxc2eb2BGAhiysID148GCNGDFCy5cv15gxY/TUU0/pj3/8o/7z\n",
       "n/9o+PDhGjp0aPC58+bN0/z588vsIycnR/n5+WrXrl04rQAAAABhefOu+xTp7hisvy76h5au/sHE\n",
       "jgA0VGEFaUmaPXu27rrrLuXk5GjRokU6cOCAJkyYoCeffLLU8xYsWKAFCxaU2f7o/aijo6PDbQUA\n",
       "AACosfYJ0Zo66LFjRvwa9+9JKnZ5TOsJQMNU44uNBXdgs2ncuHEaN27cCZ+Xmppa7ni3bt0qnAMA\n",
       "AADq07Srh+vVtcO03fKJJCnHsVG3PP+KFt39J5M7A9CQhH1EGgAAAGhK3rjlMVm8LYL1P3+ZrfVb\n",
       "fzWxIwANDUEaAAAAOEb/5E66qvN9wdprPayrX5xmYkcAGhqCNAAAAHCcl+/4P8W7+kiSLEWJ2v/F\n",
       "ZfrkE7/JXQFoKAjSAAAAwHEiHTbNHzVLLdJuUut3Vyly58WaNs3Q4cNmdwagISBIAwAAAOW45pzT\n",
       "dVefx2Rxx0qSdu2SnnrK5KYANAgEaQAAAKACkydLiYmh+u9/lzZtMq8fAA0DQRoAAACoQGysNH16\n",
       "qPZ6pUmTAl8BNF8EaQAAAOAELr5YOvfcUP3999KiReb1A8B8BGkAAADgBAxDevxxKSoqNDZzprRn\n",
       "j3k9ATAXQRoAAACoRJcu0j33hOr8fOnhh83rB4C5CNIAAABAFfzpT1Lv3qH6vfekzz83rx8A5iFI\n",
       "AwAAAFVgt0uzZpUeu/9+qajInH4AmIcgDQAAAFRR//7S2LGh+mfPKl3z1EvmNQTAFARpAAAAoBqm\n",
       "TpXiO+1V3lnjlHvuNXr/0KN6/9stZrcFoB4RpAEAAIBqiI+XLh3/tYqT3pEk+Q2Pbv7nZHm8PpM7\n",
       "A1BfCNIAAABANc0Ye6k6ec4O1vvsa3Xni6+b2BGA+kSQBgAAAKrJYjG05MYnZPFFBMf+sXWGtuzc\n",
       "Z2JXAOoLQRoAAACogd+d2k2XtLs7WHtsebpqwSPmNQSg3hCkAQAAgBpadOftinH1Ctab/W/ruf+s\n",
       "MrEjAPWBIA0AAADUUHSUQ09fWPrm0tNWTFVuQbFJHQGoDwRpAAAAIAz/N+xMnW67JlgXOjJ07XNz\n",
       "TewIQF0jSAMAAABhWnbnNNk9CcF6ee4Cfbpuq4kdAahLBGkAAAAgTN06tNK4Ux4ODfilB+ZvkI9b\n",
       "SwNNEkEaAAAAqAVP3XiFOniGyJE9WAnvf6asT67S0qVmdwWgLhCkAQAAgFpgsRh6/09/V7tV/5Lt\n",
       "UOBK3o8+Kh04YHJjAGodQRoAAACoJf16x+muO41gnZMjTZ9uYkMA6gRBGgAAAKhF48dLPXqE6mXL\n",
       "pK++Mq8fALWPIA0AAADUoogIaebM0mNTpkglJeb0A6D2EaQBAACAWjZkiHTllaF62zZp/nzz+gFQ\n",
       "uwjSAAAAQB146CGpVatQPW9eIFADaPwI0gAAAEAdaN1aevDBUO1ySVOnSn6/eT0BqB0EaQAAAKCO\n",
       "jBkjDRoUqr/8UnrrLfP6AVA7CNIAAABAHTEMadYsyW4Pjd0/O1M7dueY1xSAsBGkAQAAgDqUnCyN\n",
       "Gyf5LS4d7jNX23/3e1057zGz2wIQBoI0AAAAUMcmTJC8I25VQb+Z8luLtcHzhl7+5Fuz2wJQQwRp\n",
       "AAAAoI5FRkrTLvp/pcbu+WiSCopc5jQEICwEaQAAAKAe3HXpUPU2RgXrfMdWXT/vryZ2BKCmCNIA\n",
       "AABAPXnz9kdk88YG6/f2PqcvN2WY1xCAGiFIAwAAAPXklKR2urHHA8HaZynWda9Mlc/HzaWBxoQg\n",
       "DQAAANSj+bdep7bu/sE6y7pKD7z2HxM7AlBdBGkAAACgHtmsFv396lky/Lbg2LPfP6zM7FwTuwJQ\n",
       "HQRpAAAAoJ5dPKi3fh97a7B22ffpqnlPmNgRgOogSAMAAAAm+OeEPyvK3TlYr3W9pn+v2mpiRwCq\n",
       "iiANAAAAmKB1bAs9fFbgKLS1sKPiV76i+X/pJbfb5MYAVIogDQAAAJjkvsvP1e9LnlHCuysVkTVM\n",
       "qanSSy+Z3RWAyhCkAQAAABMtnjpGcVHRwfrpp6VffjGxIQCVIkgDAAAAJmrfXpoyJVQXFUn33y/5\n",
       "ubU00GARpAEAAACTXX+91K9fqP78c+mDD8zrB8CJEaQBAAAAk1mt0uzZga9HPfigdOiQeT0BqBhB\n",
       "GgAAAGgA+vSRbr45VGdnB8I1gIaHIA0AAAA0EPfeK3XqFKpfeUXasMG8fgCUjyANAAAANBAtW0oz\n",
       "ZoRqv1+aPFnyeMzrCUBZtRKkPR6PFi5cqBEjRqhv374677zz9Pzzz8tTxT/xJSUlmj9/voYNG6bT\n",
       "TjtN559/vh5//HEd4qQQAAAANDMXXCANHx6qN22SXn6ZS3gDDUmtBOnp06dr5syZSkhI0A033KDE\n",
       "xETNnTtXEydOrHRbt9utm2++WfPnz1diYqKuv/56tW/fXosWLdJNN930/9m786io6/2P46/vsAiG\n",
       "G26FN7GyXLKsq1G2gUZF2KKZYgtq6m0xFMVMzOW6pqKiothebpRhpd7KyjK97T8C7d4WtdS0aEFT\n",
       "VDBlGJjfH1xmIkGBGfgOw/NxTufw/nzn+51X59A5vfh+Zr6yWq3uiAgAAADUGTNnltydlqSCNu9p\n",
       "9Je9lPndz+aGAuDg6+oFtm3bpvT0dEVFRWnRokWO9cTERK1fv15bt25VREREheevXLlSX3zxhYYP\n",
       "H65HH33UsT5jxgylpaXprbfeUt++fV2NCQAAANQZISHSyEePKXHLWBW0LXkO1t3PTNL38180ORkA\n",
       "yQ13pNPS0iRJcXFxZdYTEhJkGIbWrl17xvP/9re/acyYMWXWhw4dqr59+6phw4auRgQAAADqnAfu\n",
       "b6iGZ//omPda3tXMNe+YmAhAKZeLdGZmpoKDg9W+ffsy661atVJoaKgyMzMrPHf37t365Zdf1KtX\n",
       "L/n8+aF5ktq0aaPZs2fr5ptvdjUiAAAAUOcE+Ptq2Z1Jkt35v+yz/2+Sfjucb2IqAJKLRdpqtSon\n",
       "J0dt27Yt93ibNm109OhR5ebmlnv8u+++kyRdeOGF+ve//62BAwfqsssu03XXXae5c+fqxIkTrsQD\n",
       "AAAA6rQB13dVj4ZDHPNJv18UkzLfvEAAJLlYpI8cOSJJatSoUbnHS9fz88v/q9mBAwckSZs3b9aD\n",
       "Dz6opk2b6u6771bLli314osvavjw4ZX+5m8AAADAG6WPGq8GhWc75o+PP6fXPv7KxEQAXCrSpSXX\n",
       "39+/3OOl6wUFBeUeL73jvHXrVs2YMUNPPfWUxo8fr1dffVVRUVHKysrSSy+95EpEAAAAoE4Lad5I\n",
       "j3Wf4VwwivXQa4/JWlhkXiignnOpSAcEBEgqeYRVeUofXRUYGFj+m1tK3r5z587q379/mfXHHntM\n",
       "kvT222+7EhEAAACo86bcHa12xZGO+bDff/TgkytMTATUby49/iooKEiGYSgvL6/c43l5eTIMo8Kt\n",
       "30FBQZKkiy+++JRjISEhatSokX766adq5+vQoUO1zwUAAAA8hcVi6OXhs3TNc5+o2FKyqzNt/xzF\n",
       "7zJhQ9kAACAASURBVLlFl11wjsnpgLojIyOj0j1x165dFR5z6Y60v7+/QkJClJ2dXe7x7OxsBQcH\n",
       "q3HjxuUeP++88yRVfEfbZrNVeDcbAAAAqE/COp6rfueMdcxFPvka+NQUExMB9ZdLd6QlqXv37tqw\n",
       "YYP27dundu3aOdZzcnK0f/9+9erVq8JzL730Uvn5+SkjI0PFxcWOrd6StGfPHp04ccKlu8qn+wvC\n",
       "X8XGxiojI6Pa7wUAAADUtBce+Yc2Jb6uo/7fyihqoF+/vljvbirWzTe5/FRboF4ICwvTqlWrXL6O\n",
       "y//F9enTR5KUnJwsu90uSbLb7UpOTpYkxcTEVHhuUFCQoqOj9csvv+iZZ55xrBcWFmrevHmSpH79\n",
       "+rkaEQAAAPAKDQP8lHLbXDX4NVzBb36gs74arUkTLfrjD7OTAfWLy3eke/TooejoaG3cuFExMTEK\n",
       "CwvT9u3blZWVpaioKIWHhzteu2TJEhmGobi4OMfa+PHj9eWXX2rRokWO/eqfffaZdu7cqd69e6tn\n",
       "z56uRgQAAAC8xn03dNM377+sFZtL5p9/lpKTpUmTzM0F1Cdu2QOSlJSkUaNGKTc3VytXrtShQ4cU\n",
       "Hx/vuKtcKjU1VampqWXWgoOD9corryg2NlZ79+5VWlqarFarHnvsMc2fz8PmAQAAgL9KTJRatXLO\n",
       "Tz8tffONeXmA+sawl+7HrudKPyPtrj3zAAAAQE3asEF6+GHn3K1byZqFj0sDp3B33+M/MwAAAKAO\n",
       "uv12KSLCOWdlSatXmxYHqFco0gAAAEAdZBjS7NlSQIBz7YknpAMHzMsE1BcUaQAAAKCOCg2Vxoxx\n",
       "zseOSVOnmhYHqDco0gAAAEAd9uCDUocOznn9emnrVtPiAPUCRRoAAACow/z9paSksmuJidKJE+bk\n",
       "AeoDijQAAABQx11xhXTPPc5575E9Grog3bxAgJejSAMAAABeYOJEqVnLAuVfukCHb71Ba48+qre/\n",
       "2GV2LMArUaQBAAAAL9CsmXT76Pd0/NIFslusshs2DX1pvGxFxWZHA7wORRoAAADwErMG91Yb23WO\n",
       "+YBfhuKfXWNiIsA7UaQBAAAAL2GxGFox+AlZihs41p77bqZ2/fS7iakA70ORBgAAALxIz64XKLrF\n",
       "SMds8z2iAanTTUwEeB+KNAAAAOBlVo18REHW9o756+JXtfSNj0xMBHgXijQAAADgZRqf1UDzbp5T\n",
       "Zu3xzRN0JP+kSYkA70KRBgAAALzQA7dcrUt9Bzjm4/57dd+SpSYmArwHRRoAAADwUq/GTZGfLdgx\n",
       "v3NoqTZv321iIsA7UKQBAAAAL3VBSLAe7DTJMdstViU8+ZbsdhNDAV6AIg0AAAB4sYXDYnS27Sr5\n",
       "5J+rpltW6eCb8Vq71uxUQN1GkQYAAAC8mMViaO39qWr9zlY1+PkGSdL06dLhwyYHA+owijQAAADg\n",
       "5a6+5ByNejjQMR8+LM2caWIgoI6jSAMAAAD1wMiR0nnnOec1a6TPPjMvD1CXUaQBAACAeiAgQJpT\n",
       "9tHSGj9eKigwJw9Ql1GkAQAAgHriuuukO+90zrt3S08+aV4eoK6iSAMAAAD1yNSpUtOmznnxYmnv\n",
       "XtPiAHUSRRoAAACoR1q0kCZOdM4FBdLjj4tnSwNVQJEGAAAA6pm775bCwpzzhx9K69aZlweoayjS\n",
       "AAAAQD1jsUhz50q+vs61yTPytf+3Y+aFAuoQijQAAABQD3XoID38sGSXXSfPfVvfXROuu5bMMDsW\n",
       "UCdQpAEAAIB6avRoyXLDJB0NH6bihr9qW2GaVrz3hdmxAI9HkQYAAADqqcBAKaHvDWXWRr/1mPJP\n",
       "WE1KBNQNFGkAAACgHht7Zy91NG53zMf8d+n+pc+YmAjwfBRpAAAAoJ575aFp8ilq5JjX5yzUJ9/s\n",
       "NzER4Nko0gAAAEA91+W81hp03gTHXGw5oXtfeFzFxTxcGigPRRoAAACAnnwoVi0K/+6Yf/LZoslp\n",
       "b5iYCPBcFGkAAAAA8vP10TP958qw+zjWkrdN0Y8HjpqYCvBMFGkAAAAAkqQ7rr5Y4Y0ecMxWvwMa\n",
       "uGSuiYkAz0SRBgAAAODwSvxYBRS2ccz/V7BCr2z9r4mJAM9DkQYAAADg0KJJQ02++glJkmELVND2\n",
       "x/XME51ks5kcDPAgFGkAAAAAZST2v1FXWieq+ZtbdNY3j2jH1356hkdLAw4UaQAAAACneG38I2qi\n",
       "to553jxp924TAwEehCINAAAA4BTnnCM9/rhzLiiQxoyRiorMywR4Coo0AAAAgHINGiRdfbVzzsqS\n",
       "nn3WvDyAp6BIAwAAACiXxSItWCAFBjrXkpKkPXvMywR4Aoo0AAAAgAqFhkoTJzrnkyelsWPZ4o36\n",
       "jSINAAAA4LSGDJGuvNI5Z2RIL7xgWhzAdBRpAAAAAKdlsUjJyWW3eM+ZI/3wg3mZADNRpAEAAACc\n",
       "0XnnSYmJzvnECWl0gk22omLzQgEmoUgDAAAAqJShQ6WwsJKfbU136t3g2/SP1OWmZgLMQJEGAAAA\n",
       "UCk+PiXf4m3t+qQOR9+swub/0eofZ+njr/ebHQ2oVRRpAAAAAJV2wQXSTTcaslsKJUnFlhMa+MJY\n",
       "tnijXqFIAwAAAKiS5SP/oRaF3Rzzr76f6qEnV5qYCKhdFGkAAAAAVeLv56O02GRZihs41lb8MFOf\n",
       "ffujiamA2kORBgAAAFBlkX+/UP3OGeeYi33+0IDnHlVxsd3EVEDtcLlI22w2LV++XNHR0eratasi\n",
       "IyO1bNky2Wy2Sp1/zz33qGPHjuX+s2bNGlfjAQAAAKghy0c+oOaFlzvmX3w/1oinVpuYCKgdvq5e\n",
       "YPr06UpPT1f37t0VGRmprKwspaSkaOfOnUpJSTnj+bt27dL555+v6OjoU45dcsklrsYDAAAAUEMC\n",
       "/H216t6F6r3mJtktVknSC3uma9iunrqiw99MTgfUHJeK9LZt25Senq6oqCgtWrTIsZ6YmKj169dr\n",
       "69atioiIqPD87OxsHT9+XOHh4YqLi3MlCgAAAAAT3Nz9IvXZMlbrDs6WJBX5HFe/px/Vvvkvy2Ix\n",
       "TE4H1AyXtnanpaVJ0iklOCEhQYZhaO3atac9f9euXZKkDh06uBIDAAAAgIlWxz+sZoWXOuaffT9U\n",
       "/LPpJiYCapZLRTozM1PBwcFq3759mfVWrVopNDRUmZmZpz2fIg0AAADUfQH+vlp59yIZdj9JUuCe\n",
       "gdqYEqVffjE5GFBDql2krVarcnJy1LZt23KPt2nTRkePHlVubm6F19i1a5cMw1BmZqb69u2ryy+/\n",
       "XOHh4XriiSeUn59f3WgAAAAAall0WEcNaDlNTT9YrcafJetEbhONGyfZ+RJveKFqF+kjR45Ikho1\n",
       "alTu8dL10xXiXbt2yW63KyUlRV26dNGAAQMUHByslStX6u6776ZMAwAAAHXIijFD1L15L8e8ZYv0\n",
       "yismBgJqSLWLdOnjrfz9/cs9XrpeUFBQ7nG73a4mTZqoc+fOeuuttzRjxgxNmDBBr7/+umJiYvT9\n",
       "999r6dKl1Y0HAAAAoJb5+UkLF0q+f/pK46lTxRZveJ1qF+mAgABJUmFhYbnHrdaSr78PDAws97hh\n",
       "GHrllVf0+uuvq1WrVmXWx48fr4CAAL311lvVjQcAAADABJ07S/HxzvnYMWn8eLZ4w7tU+/FXQUFB\n",
       "MgxDeXl55R7Py8uTYRgVbv0+nYYNG6pdu3batWuXrFZrhXe9z4QvMQMAAABq38iR0jvvSN98UzJv\n",
       "3iy9+qrUv7+5uYCMjIxK98TSL8cuT7XvSPv7+yskJETZ2dnlHs/OzlZwcLAaN25c7vH8/Hx9+eWX\n",
       "2rdvX7nHT548KYvFIj8/v+pGBAAAAGACf/9Tt3hPmSL99pt5mQB3qvYdaUnq3r27NmzYoH379qld\n",
       "u3aO9ZycHO3fv1+9evWq8NyvvvpK999/v3r27Kknn3yyzLEDBw4oOztbnTp1kmFU/yHup/sLwl/F\n",
       "xsYqIyOj2u8FAAAAwKlLl5I70wsXlsxHj0qJidKLL0ou/C8+4JKwsDCtWrXK5eu49BzpPn36SJKS\n",
       "k5Nl/9+HHux2u5KTkyVJMTExFZ7brVs3NW/eXB9++GGZ501brVbNmDFDNptN9957ryvxAAAAAJgo\n",
       "Pl7q1Mk5b9okrVtnXh7AXVy6I92jRw9FR0dr48aNiomJUVhYmLZv366srCxFRUUpPDzc8dolS5bI\n",
       "MAzFxcVJKtkaPm3aNMXHx2vIkCG65ZZb1KRJE3366afau3evevfurb59+7r2bwcAAADANKVbvHv3\n",
       "loqKStYmTZKu7FGoNufwEU7UXS7dkZakpKQkjRo1Srm5uVq5cqUOHTqk+Ph4zZs3r8zrUlNTlZqa\n",
       "WmYtMjJSK1eu1FVXXaUtW7bo1VdfVYMGDTR58mQtWLDA1WgAAAAATHbppdL/7qWp2P+I9neOV8/k\n",
       "B1VczNd4o+5y6Y60JPn6+mrEiBEaMWLEaV+3c+fOcte7deum5557ztUYAAAAADzU6NHSms8+0tfn\n",
       "jlJxYI72SJq4aoNmD+5jdjSgWly+Iw0AAAAAp9OggZQ4ppGKAw461hb+Z5J2/HjwNGcBnosiDQAA\n",
       "AKDGxYRfphsaO3exFvoeVp+lExxfWgzUJRRpAAAAALUifUyCGlkvdMy7tVGTV79hYiKgeijSAAAA\n",
       "AGpF06AALb0tWbI7a8j87Y/r++xDJqYCqo4iDQAAAKDW3HdDN0U0etAxF/oe1h0pE01MBFQdRRoA\n",
       "AABArXotYZyCrBc45l36l6amvWViIqBqKNIAAAAAalXToACl9E6WZDjW5mZN0J5fDpsXCqgCijQA\n",
       "AACAWjf4xit03Vn/cMxW39/Vd/FU8wIBVUCRBgAAAGCK18eM11nW8yRJfr//Xb/9K07vvGNyKKAS\n",
       "KNIAAAAATBHcOFCLblmoRtsnqdm7G+R79CKNHy/l5pqdDDg9ijQAAAAA0wy9OUyjeoyQYfeRJB08\n",
       "KE2ZYnIo4Awo0gAAAABMlZgohYY659dekzZtMi8PcCYUaQAAAACmathQSk4uuzZ+vHTkiDl5gDOh\n",
       "SAMAAAAwXY8e0tChzjknR5o61bQ4wGlRpAEAAAB4hAkTpLZtnXN6uvT+++blASpCkQYAAADgEc46\n",
       "S5o/v+za+PHS0aPm5AEqQpEGAAAA4DGuvVYaPNg5//qrNH26eXmA8lCkAQAAAHiUiROlv/3NOb/8\n",
       "svTe5kLzAgF/QZEGAAAA4FGCgqQFC0p+thtFOt7pKd25oZd+/j3P3GDA/1CkAQAAAHic666T7oj9\n",
       "Wbk391F+t+n6I2CP+i6cYXYsQBJFGgAAAICHmvxYY/k0+c0xZxWu1pJ/fWRiIqAERRoAAACARwpp\n",
       "3kizwueVWUvckqDfDueblAgoQZEGAAAA4LFG94nQ5b53O+aTfj+rT/JMExMBFGkAAAAAHm7dmCkK\n",
       "KDzHMX9hXallb35sYiLUdxRpAAAAAB7t3JZNNO3apDJrj20eqwO5x01KhPqOIg0AAADA4z3a7wZ1\n",
       "9YlxzCf8flLfhU+YmAj1GUUaAAAAQJ2wbvQ/1aDwbMf8+ckX9czGz0xMhPqKIg0AAACgTght3VRT\n",
       "rp5bZm3sewnKPVZgUiLUVxRpAAAAAHVGYv8b1cVylyTJcqKV/D+ZquR5DUxOhfqGIg0AAACgTlkf\n",
       "P00tfhqq5m9sUYPsm/X889Lnn5udCvUJRRoAAABAnXLeOc20cshMWazNHGsJCdKJEyaGQr1CkQYA\n",
       "AABQ59x8s9S3r3Pet0+aO7fClwNuRZEGAAAAUCfNnCm1aOGcn31W+uIL8/Kg/qBIAwAAAKiTmjWT\n",
       "5sxxznZ7yRbvkyfNy4T6gSINAAAAoM6KjpbuuMM579kjzZtnXh7UDxRpAAAAAHXazJlS8+bO+emn\n",
       "pcxM8/LA+1GkAQAAANRpzZtLs2c75+JitnijZlGkAQAAANR5t95a8k+p3bulpPmF5gWCV6NIAwAA\n",
       "APAKTzwhBQeX/FxwzlbN/PVavbx1u7mh4JUo0gAAAAC8QosW0rSZhTp21VgdueEeFZ31kx5eP0bH\n",
       "jheYHQ1ehiINAAAAwGv0vd1XIRccccx5/t9pwMKFJiaCN6JIAwAAAPAaFouhdY/Mlp+tmWPt/aOp\n",
       "Sv/wPyamgrehSAMAAADwKhe3a6X4S2c4ZrtRpAdfZ4s33IciDQAAAMDrzB7UV+cX3+yYj/nv1N2L\n",
       "F5uYCN6EIg0AAADA65Rs8Z4jX1sTx9q7uUv02sdfmZgK3oIiDQAAAMArdTmvteIuLrvF+x+vjlH+\n",
       "CauJqeANKNIAAAAAvNa8+/upXXGkYz7q/63uXrTExETwBhRpAAAAAF7LYjH02sNz5VvU2LH29uHF\n",
       "evPzXSamQl1HkQYAAADg1S674Bw91HGaJMko9tNZ/03Qon+er8JCk4OhzqJIAwAAAPB6C4cNUJeT\n",
       "Dyt447s666vR+vYrPy1danYq1FUUaQAAAABez2Ix9HbiZDUr6uhYW7RI2rHDxFCosyjSAAAAAOqF\n",
       "kBBp6lTnXFgojR4ttnijyijSAAAAAOqNgQOl8HDn/NVX0pNPmpcHdZNbirTNZtPy5csVHR2trl27\n",
       "KjIyUsuWLZPNZqvytYqKijRgwAB17NjxzC8GAAAAgCowDGn+fCkoyLmWnCzt4ku8UQVuKdLTp0/X\n",
       "nDlzFBwcrMGDB6t169ZKSUlRQkJCla+1YsUK/fe//5VhGO6IBgAAAABltGkjTZninK1WacwYqRr3\n",
       "AVFPuVykt23bpvT0dEVFRWn16tVKSEhQWlqa+vTpo02bNmnr1q2Vvtb+/fu1ePFiVyMBAAAAwGnd\n",
       "e690/fXO+csvpaefNi8P6haXi3RaWpokKS4ursx6QkKCDMPQ2rVrK3Udu92uSZMm6eyzz1a7du1c\n",
       "jQUAAAAAFTIMad48qWFD59r8+dL335uXCXWHy0U6MzNTwcHBat++fZn1Vq1aKTQ0VJmZmZW6zpo1\n",
       "a/TFF19oxowZatCggauxAAAAAOC0zj1XmjzZORcUSKPHFMtaWGReKNQJLhVpq9WqnJwctW3bttzj\n",
       "bdq00dGjR5Wbm3va6/z666+aN2+e+vfvr7CwMFciAQAAAEClxcZK11xT8rOt0Q/a3OIuDV7yrLmh\n",
       "4PFcKtJHjhyRJDVq1Kjc46Xr+fn5p73OlClTFBQUpPHjx7sSBwAAAACqxGIp2dJtu3ilDveOVGGr\n",
       "z/XqL0n64Ms9ZkeDB3OpSJc+3srf37/c46XrBQUFFV5j/fr1+uijjzR58mQF/fk76AEAAACgFoSG\n",
       "SrfebpPd94QkqdhyUveuSGCLNyrk68rJAQEBkqTCwsJyj1utVklSYGBgucd///13zZ49WzfddJNu\n",
       "vPFGV6KUq0OHDm6/JgAAAADv88yIIXpn3BvK8f0/SdIBvy80LPUFrRr9D5OTwZ0yMjIq3RN3nebh\n",
       "4i7dkQ4KCpJhGMrLyyv3eF5engzDqHDr9/Tp01VcXKzJf/6EPwAAAADUMl8fi9YMSZal2HkTcE32\n",
       "HG39z14TU8FTuXRH2t/fXyEhIcrOzi73eHZ2toKDg9W4ceNyj2/atEmSdN1115V7vGPHjgoJCdEH\n",
       "H3xQrXyn+wvCX8XGxiojI6Na7wMAAACg7rv+0vN0z7kTtPrnKZKkYssJ3b08QT/Nf12+Pi4/8Age\n",
       "ICwsTKtWrXL5Oi4VaUnq3r27NmzYoH379pV5/nNOTo7279+vXr16VXjuX589XWrNmjX6/fffFRcX\n",
       "V2EJBwAAAAB3ez5uqDY9+qYO+JXcZDvgl6HhqS9q+ahhJieDJ3G5SPfp00cbNmxQcnKyFi9eLMMw\n",
       "ZLfblZycLEmKiYmp8NyKivR7772nQ4cOVXgcAAAAAGqCr49FLw9J1o2rIlVsOSlJSvvxCQ3/+gZd\n",
       "26WdueHgMVzen9CjRw9FR0dr06ZNiomJ0fz583Xfffdpw4YNioqKUnh4uOO1S5Ys0dKlSyt1Xbvd\n",
       "7mo0AAAAAKiyiK7na0Ab56N5iy0nFPPCWNmKik1MBU/ilo3+SUlJGjVqlHJzc7Vy5UodOnRI8fHx\n",
       "mjdvXpnXpaamKjU19YzXMwxDhmG4IxoAAAAAVNmLccPVsrC7Y/7N9zM9tGy1iYngSVze2i1Jvr6+\n",
       "GjFihEaMGHHa1+3cubNS11u/fr07YgEAAABAtfj7+Sht0EJFpUWq2FKggH13aPObvfXjHVLbtman\n",
       "g9n46jkAAAAAKMcNl1+ge0Kmq8mHz6rJx0+q4EhzjR0rFbPDu96jSAMAAABABV6Ij9XVLXo75k8+\n",
       "kVazw7veo0gDAAAAQAV8fKSFC6UGDZxrM2ZI2dnmZYL5KNIAAAAAcBoXXiiNHeucjx+XHn1U4kFD\n",
       "9RdFGgAAAADO4KGHpK5dnfOHH0ovvWReHpiLIg0AAAAAZ+DrW7LF29/fuTZtmvTzz+Zlgnko0gAA\n",
       "AABQCR07SmPGOOf8fGncOLZ410cUaQAAAACopBEjpEsucc5bt0qvvGJaHJiEIg0AAAAAleTnV7LF\n",
       "28/PufbPf0o/ZtvMC4VaR5EGAAAAgCro3FmKjy/5udg3Xz93mqCIhferuJg93vUFRRoAAAAAqmjk\n",
       "SOncq77Q4dt66cRFK7TfZ7PGvrDW7FioJRRpAAAAAKgiPz8pcWygihv+5lhbtmOK/rPnVxNTobZQ\n",
       "pAEAAACgGvpe00VRwaMcs83nmO58MpEt3vUARRoAAAAAqmnN6FFqYu3kmPdZ3tP45a+bmAi1gSIN\n",
       "AAAAANUUFOivZ+9aJMPu41hL+Xqyvv4hx8RUqGkUaQAAAABwQb9rL9GNTeMcs833iPqmssXbm1Gk\n",
       "AQAAAMBFr4wercbWDo55r+VdTVy1wcREqEkUaQAAAABwUeOzGuipvgtl/KliLfzPRO348aCJqVBT\n",
       "KNIAAAAA4AYx4ZfphsYjHHOhb67uXDJZdnZ4ex2KNAAAAAC4ySujE9TIeqEkyTe3s35/+xG98YbJ\n",
       "oeB2FGkAAAAAcJOmQQFKvX2hgr5KUPDbG+V3+BI9/rj0++9mJ4M7UaQBAAAAwI3u7fV3PXbtozKK\n",
       "/SVJhw9LEyeaHApuRZEGAAAAADcbO1Zq3945v/GG9Oab5uWBe1GkAQAAAMDNAgKk5GTJMJxrEyaU\n",
       "3J1G3UeRBgAAAIAa0L279OCDzvnQIWnSJPPywH0o0gAAAABQQx57TDr/fOe8fr309tvm5YF7UKQB\n",
       "AAAAoIaUt8U7MVHKzTUvE1xHkQYAAACAGhQWJg0f7pwPHpQmTzYvD1xHkQYAAACAGpaYKLVr55xf\n",
       "f116+12baXngGoo0AAAAANSwwMCSLd6SZFex/rhohe56K0I//Moe77qIIg0AAAAAteCqq6QBQ3N0\n",
       "JDJGeWETdDJgr/qmTDU7FqqBIg0AAAAAtWTio0Hyaf6TY/6qaK2SXn3fxESoDoo0AAAAANSSlk3P\n",
       "0rzIBWXWpn7ymH48cNSkRKgOijQAAAAA1KKHe1+jKxsMccwFfr+p76Jp5gVClVGkAQAAAKCWrU+Y\n",
       "qMDCvznmL21rtOD1LSYmQlVQpAEAAACglrVqdpbm9Cq7xXvKR+OUffCYSYlQFRRpAAAAADBB3G3X\n",
       "qbt/rGM+6feL+i6aYWIiVBZFGgAAAABMsm7MJAUUtnHM2wrTtHjDv01MhMqgSAMAAACASUKaN9IT\n",
       "EfPLrD2+9VHlHP7DpESoDIo0AAAAAJgo/o5wXe53jyTJUtBMDf7vcS2YG2hyKpwORRoAAAAATLZ+\n",
       "9BS1/PU+Bb+xRQH7+mr1KkMffWR2KlSEIg0AAAAAJvtby8Z6eWiSfE62cqyNHSvl55sYChWiSAMA\n",
       "AACAB+jZUxo40DlnZ0tPPGFeHlSMIg0AAAAAHuKf/5TOPts5L18uffKJaXFQAYo0AAAAAHiIJk2k\n",
       "pKSya2PHSn/wJd4ehSINAAAAAB4kMlLq3985//gjW7w9DUUaAAAAADzMtGlS69bO+YUXpM8/Ny8P\n",
       "yqJIAwAAAICHadpUmju37FpCgnTihDl5UBZFGgAAAAA80E03SXfe6Zz37ZOemGMzLQ+cKNIAAAAA\n",
       "4KFmzJBatiz52drqcyXl9NSLmzLMDQWKNAAAAAB4qmbNpFmzi5R3xSTl3nSnbI33KH5jgg4fY4+3\n",
       "mSjSAAAAAODBbo32UWjHw475uP9e9VuYdJozUNNcLtI2m03Lly9XdHS0unbtqsjISC1btkw2W+X2\n",
       "7n///feKi4vTtddeq8svv1z33HOP3nvvPVdjAQAAAIDX2BA/U3625o75w+PPaMV7X5iYqH5zuUhP\n",
       "nz5dc+bMUXBwsAYPHqzWrVsrJSVFCQkJZzx3586d6t+/vz755BOFh4crJiZGOTk5GjlypJ5//nlX\n",
       "owEAAACAV7ggJFiJ3eb8acWuUW+N1ZH8k6Zlqs9cKtLbtm1Tenq6oqKitHr1aiUkJCgtLU19+vTR\n",
       "pk2btHXr1tOeP3XqVBUVFSktLU2zZs1SYmKi3njjDYWGhiolJUVHjhxxJR4AAAAAeI2p9/bWRbrN\n",
       "Mef779ZdC+ebmKj+cqlIp6WlSZLi4uLKrCckJMgwDK1du7bCc/Pz83XixAn17NlTnTt3dqw3bNhQ\n",
       "ERERKigo0I4dO1yJBwAAAABeZf3IWfKzBTvmLceeUtoH20xMVD+5VKQzMzMVHBys9u3bl1lv1aqV\n",
       "QkNDlZmZWeG5QUFB2rBhg1JSUk45tnfvXklSixYtXIkHAAAAAF6lw7ktNPayWc4Fo1iP/GsMW7xr\n",
       "WbWLtNVqVU5Ojtq2bVvu8TZt2ujo0aPKzc2t1PWKioq0f/9+zZw5Ux999JF69uypCy+8sLrxAAAA\n",
       "AMArzbjvdrW3RzvmPP/vFbNooYmJ6p9qF+nSzy83atSo3OOl6/n5+ZW6XmxsrG6++WatXr1a3bp1\n",
       "U3JycnWjAQAAAIDXslgMrR85W362Zo6194+mau2HX5mYqn6pdpEufbyVv79/ucdL1wsKCip1vSuv\n",
       "vFLDhg3TZZddpqysLA0ePFhHjx6tbjwAAAAA8Fqd2rbU6K4zSwa7RWd9O0JLpl2oStYvuMi35I1W\n",
       "tgAAHulJREFUuicGBARIkgoLC8s9brVaJUmBgYGVul58fLzj53nz5un555/X4sWLNWXKlOpGVIcO\n",
       "Hap9LgAAAAB4sidi++jdhK+Uvfl2+R26TLslLV4sPfaY2ck8V0ZGRqV74q5duyo8Vu070kFBQTIM\n",
       "Q3l5eeUez8vLk2EYFW79Pp3Ro0crICBAH3zwQXXjAQAAAIBXs1gMvTNhiloWXeZYW7JE+ood3jWu\n",
       "2nek/f39FRISouzs7HKPZ2dnKzg4WI0bNy73+NGjR5WVlaU2bdqc8hcBPz8/tWzZUgcOHKhuPEmn\n",
       "/wvCX8XGxiojI8Ol9wMAAACA2tS6tTRjhjRyZMlcVCSNHi29/bZUwadw67WwsDCtWrXK5eu49Pir\n",
       "7t276+DBg9q3b1+Z9ZycHO3fv19du3at8Nzdu3drxIgRSk1NPeVYXl6efvnllwq/ERwAAAAAUOLO\n",
       "O6Ubb3TOO3aU3JlGzXGpSPfp00eSlJycLLvdLkmy2+2Ob9yOiYmp8NzLL79cISEh2rx5s7Kyshzr\n",
       "NptN06ZNU1FRkfr16+dKPAAAAADweoYhzZ0rNWniXFu8WPr6a/Myebtqb+2WpB49eig6OlobN25U\n",
       "TEyMwsLCtH37dmVlZSkqKkrh4eGO1y5ZskSGYSguLk6SZLFYNGvWLD3wwAMaMmSIbrnlFjVt2lSf\n",
       "fvqpdu/erYiICA0aNMi1fzsAAAAAqAfOPluaNq1kW7ck2WxSQoL01luSn5+52byRS3ekJSkpKUmj\n",
       "Ro1Sbm6uVq5cqUOHDik+Pl7z5s0r87rU1NRTtnH36NFDa9as0TXXXKMtW7ZozZo1slgsmjBhgp58\n",
       "8klZLC7HAwAAAIB6oX9/qVcv5/z119LSpebl8WYu3ZGWJF9fX40YMUIjRow47et27txZ7vrFF1+s\n",
       "p556ytUYAAAAAFCvGYaUlCT17CmVPlxp0SLp5pulzp3NzeZtuOULAAAAAF4iJKRki3epwkJp9Bi7\n",
       "ThYUmRfKC1GkAQAAAMCLxMRIERElPxc1/EUftbxP9yw+9WlJqD6KNAAAAAB4EcOQ5s2T7J1e1aHb\n",
       "ImQN2aJ/HUjW2xm7zI7mNSjSAAAAAOBl2rSR+vQ/KbtfviTJbrFq0EtjdNJqMzmZd6BIAwAAAIAX\n",
       "Sn3gXrWxXe+YD/t/qUEpT5uYyHtQpAEAAADAC1kshl59YJ58ihs61l7/bZ7ezfzOxFTegSINAAAA\n",
       "AF4qrOO5GnLeZMdst1gVm5agAivf4u0KijQAAAAAeLFlD8UqxHaNYz7kt02DlzxjYqK6jyINAAAA\n",
       "AF7M18ei9OELZClybvF+7dckbd6+28RUdRtFGgAAAAC8XI/ObRXbbqJjLrYU6N6VCbIWssW7OijS\n",
       "AAAAAFAPPDNisM62XeWYD/platjSF01MVHdRpAEAAACgHvD1seiVocmyFAdKkhr8HKl/P9dbe/ea\n",
       "HKwOokgDAAAAQD1xbZd2uj90hhp/kqImW1bIlnuOEhKkInZ4VwlFGgAAAADqkaceuUcRre6SIUOS\n",
       "lJEhvcgO7yqhSAMAAABAPWKxSAsWSAEBzrXZs6UffjAvU11DkQYAAACAeub886XEROd84oQ0dqxU\n",
       "XGxeprqEIg0AAAAA9dCwYdIVVzjnzz+XVqwwL09dQpEGAAAAgHrIx0dKTi67xXvWLGn/fvMy1RUU\n",
       "aQAAAACopy64QBo3zjn/8QdbvCuDIg0AAAAA9dgDD0jdujnnTz+VVq0yL09dQJEGAAAAgHqsdIt3\n",
       "gwbOtRkzpH37ebh0RSjSAAAAAFDPXXih9OijJT/bfU4qp8NMhS+OVXGx3dxgHooiDQAAAADQgw9K\n",
       "F/T4Sod736Q/Ll6mbN+teuTpNLNjeSSKNAAAAABAvr7S44n+Kgr60bH2/O5p+uK7bBNTeSaKNAAA\n",
       "AABAknTLFR10R6sEx1zkc1x3Pf0oW7z/giINAAAAAHBIGz1CzQovdczZPh8q/tk1JibyPBRpAAAA\n",
       "AIBDgL+vlg9cKMPu51h7+rup2vb9Lyam8iwUaQAAAABAGbde2Um3Nh/tmIt88tTvqXFs8f4fijQA\n",
       "AAAA4BQvjY5TU2sXx/yjzxaNeT7dxESegyINAAAAADhFwwA/vTBgoQy7r2PtqZ3/1Jd7fjUxlWeg\n",
       "SAMAAAAAynXH1RfrluB4x2zzOaZ+yybIXs93eFOkAQAAAAAVenn0SDWxdpYk+Ry7QEfff0SvvWZy\n",
       "KJNRpAEAAAAAFQoK9Nfz/RcpaMfDav7We/I/eIUmT5ZycsxOZh6KNAAAAADgtPpe00UTr5ssoyhA\n",
       "knT0qJSYqHq7xZsiDQAAAAA4o/h4qWNH5/zuu9L69eblMRNFGgAAAABwRg0aSAsXSj4+zrVJk6QD\n",
       "B8zLZBaKNAAAAACgUrp2lUaMcM65udKECfVvizdFGgAAAABQaQkJ0kUXOee335b+9S/z8piBIg0A\n",
       "AAAAqLTSLd6WP7XJiROl3383L1Nto0gDAAAAAKrk8sulhx92zocPS48/bl6e2kaRBgAAAABU2dix\n",
       "Uvv2zvnNN6X1/yoyL1AtokgDAAAAAKosIMC5xdsuu06c96ru3dRT32cfMjtajaNIAwAAAACqpVs3\n",
       "KfaBwzoaMUTHrhmlkw13q8+SyWbHqnEUaQAAAABAtY1PaCi/Vnsd8077ek17aaOJiWoeRRoAAAAA\n",
       "UG1NgwKU0jtZkuFYm5OZqB9+zTUvVA2jSAMAAAAAXDL4xit0bcPhjtnq+7tuXzTJxEQ1iyINAAAA\n",
       "AHDZuoREnVXYzjF/a1+nWa+8a16gGkSRBgAAAAC4LLhxoBZGLdSft3jP/Hy8V27xpkgDAAAAANxi\n",
       "2M1Xqkfg/Y7Z6ndAfRb/08RENYMiDQAAAABwm/UJj6thYahj/rr4Vc1Z+56JidyPIg0AAAAAcJsW\n",
       "TRpq/o0LyqxN/3S8fjqQZ1Ii96NIAwAAAADc6sHoq3VVwBBJklEYpAZZj2rB7CBzQ7mRW4q0zWbT\n",
       "8uXLFR0dra5duyoyMlLLli2TzWar1Plff/21RowYoSuvvFJdunTRjTfeqAULFujEiRPuiAcAAAAA\n",
       "qGXrxkxUywMD1fyNrQrcfY/SXzH0wQdmp3IPtxTp6dOna86cOQoODtbgwYPVunVrpaSkKCEh4Yzn\n",
       "fv755xo4cKA+/vhjXXfddRo0aJCaNm2qZ599VoMGDZLVanVHRAAAAABALWrV7Cy9OjxZPn+EONbG\n",
       "jZOOHTMxlJv4unqBbdu2KT09XVFRUVq0aJFjPTExUevXr9fWrVsVERFR4fnTpk2TJKWlpemSSy5x\n",
       "rE+ZMkXp6el66aWXNGTIEFdjAgAAAABq2bXXSoMGSStXlsy//ipNmyYtWHD68zydy3ek09LSJElx\n",
       "cXFl1hMSEmQYhtauXVvhubt379YPP/ygG264oUyJlqRHHnlEkvTRRx+5GhEAAAAAYJJJk6Q2bZzz\n",
       "yy9LW7eaFsctXC7SmZmZCg4OVvv27cust2rVSqGhocrMzKzw3EaNGmncuHHq16/fKcf8/PwkSceP\n",
       "H3c1IgAAAADAJEFBp96BHjdOyqvDX+LtUpG2Wq3KyclR27Ztyz3epk0bHT16VLm5ueUeb926tYYN\n",
       "G6brr7/+lGPvvVfynLELL7zQlYgAAAAAAJNdf710773O+eefpRkzzMvjKpeK9JEjRySV3FkuT+l6\n",
       "fn5+la77+++/KyUlRYZhaMCAAa5EBAAAAAB4gClTym7xXr1aqquf5HWpSJc+3srf37/c46XrBQUF\n",
       "lb5mXl6eHnjgAR06dEixsbGnfHYaAAAAAFD3NGokzZtXdm3sWKmK9109gkvf2h0QECBJKiwsLPd4\n",
       "6aOrAgMDK3W9w4cPa/jw4fr222/Vs2dPJSYmuhJPHTp0cOl8AAAAAID7RERId99d8oVjkpSdLc2Y\n",
       "VaS5s31q5f0zMjIq3RN37dpV4TGX7kgHBQXJMAzlVfAp8by8PBmGUeHW7z/78ccfFRMTo2+//VY3\n",
       "3HCDUlJSZLG45THXAAAAAAAPMWWKdM45JT8XBv9Hiw7dpGVvfmJuqCpy6Y60v7+/QkJClJ2dXe7x\n",
       "7OxsBQcHq3Hjxqe9zo4dOzRs2DAdPnxYffv21axZs9xSok/3F4S/io2NVUZGhsvvCQAAAACoWJMm\n",
       "0ty5dt2ZPEfHL14mGUV6bPNY3XXNZrVqdlaNvndYWJhWrVrl8nVcbqvdu3fXwYMHtW/fvjLrOTk5\n",
       "2r9/v7p27Xra8/fv36+hQ4cqNzdX999/v2bPns2daAAAAADwYpGRhi7omiMZRZKkE34/6s6Fs01O\n",
       "VXkuN9Y+ffpIkpKTk2W32yVJdrtdycnJkqSYmJgKzy0uLlZCQoJyc3M1aNAgjR8/3tU4AAAAAIA6\n",
       "YP3oqWpQ2Noxf3byBT3z9mcmJqo8l7Z2S1KPHj0UHR2tjRs3KiYmRmFhYdq+fbuysrIUFRWl8PBw\n",
       "x2uXLFkiwzAUFxcnSXr//ff1zTffyN/fX4GBgVqyZMkp12/ZsqUGDhzoakwAAAAAgAcJbd1Uk3vM\n",
       "1aTMIY61se+O1Z1Xv68WTRqaF6wSXC7SkpSUlKT27dtr3bp1WrlypUJCQhQfH6/hw4eXeV1qamqZ\n",
       "Ip2ZmSmp5Fu/n3rqqXKv3alTJ4o0AAAAAHihCQNu0svb+umb4tckSX/479OdyXP04bTpJic7PcNe\n",
       "uh+7niv9sjF3ffgcAAAAAHBmP/yaq85JEbL6HfzfiqHnItfp/pvC3PYe7u57fKsXAAAAAMA0553T\n",
       "TBOvnPunFbviNybo8LETpmU6E4o0AAAAAMBUkwZGqZPRxzEf99+rfguTTEx0ehRpAAAAAIDpNsTP\n",
       "lL+thWP+8PgzWvl+lomJKkaRBgAAAACY7oKQYI3v5nyWdMNd9+vpmR118qSJoSpAkQYAAAAAeISp\n",
       "9/bW34sfUrP3XlOjL2bqh+/O0vz5Zqc6FUUaAAAAAOAx3pkwRWcX9nDMTz0lZXnYDm+KNAAAAADA\n",
       "YzRvLs127vBWcbE0Zow8aos3RRoAAAAA4FFuu03q3ds5794tJSebl+evKNIAAAAAAI/zxBNScLBz\n",
       "XrZM+vJL8/L8GUUaAAAAAOBxWraUZs1yzsXF0ujRUkGBeZlKUaQBAAAAAB7p9tulqCjn/N130qJF\n",
       "5uUpRZEGAAAAAHgkw5DmzJGaNnWuLV0q/fe/5mWSKNIAAAAAAA/WqpU0c6ZzLiqSRo+x62RBsWmZ\n",
       "KNIAAAAAAI/Wt690000lPxcFHNTnLf+hu0z8Gm+KNAAAAADAo5Vu8fbp+JYO3xahgrYb9c7hFK37\n",
       "5GtT8lCkAQAAAAAe7+yzpbvuOa7iBrmSJLth0/C1Y5R/wlrrWSjSAAAAAIA6YcHQ/gotusExH/H/\n",
       "RvcuXlrrOSjSAAAAAIA6wWIx9PqIJPkWNXasvXVokTZ8+k3t5qjVdwMAAAAAwAWXXXCOHuww1THb\n",
       "DZuGpSfoj5OFtZaBIg0AAAAAqFMWDY/RuUURjjnX/yvdl7Ks1t6fIg0AAAAAqFMsFkOvPzRfPkVB\n",
       "jrV/HUzWxoydtfP+tfIuAAAAAAC40d8vDNE/LvynY7YbhRr80hidtNpq/L0p0gAAAACAOmnJA/eo\n",
       "je16x3zY/z+KXfx0jb8vRRoAAAAAUCdZLIZee3C+fIrOkiT551ytz5bfqu++q+H3rdnLAwAAAABQ\n",
       "c67o8Df9o/0MNcqYrabvpas4N1Rjxki2GtzhTZEGAAAAANRpSx8aqJtaDZbxv4q7fbv0zDM1934U\n",
       "aQAAAABAnWYY0oIFUsOGzrV586Tdu2vm/SjSAAAAAIA679xzpUmTnHNBgTRmjFRU5P73okgDAAAA\n",
       "ALzCoEHS1Vc756ws6dln3f8+FGkAAAAAgFewWEq2eAcGOteSkqQTJ9z8Pu69HAAAAAAA5gkNlSZO\n",
       "dM4nT0p79rj3PSjSAAAAAACvMmSIdOWVzvnYMfdenyINAAAAAPAqFouUnFx2i7dbr18zlwUAAAAA\n",
       "wDznnSclJv5vMIrdem2KNAAAAADAKw0dKnW6bpdswV+79boUaQAAAACAV/LxkSZN8FODP85363Up\n",
       "0gAAAAAAr9XzsvN1+cVBbr0mRRoAAAAA4NX8/d17PYo0AAAAAABVQJEGAAAAAKAKKNIAAAAAAFQB\n",
       "RRoAAAAAgCqgSAMAAAAAUAUUaQAAAAAAqoAiDQAAAABAFVCkAQAAAACoAoo0AAAAAABVQJEGAAAA\n",
       "AKAKKNIAAAAAAFQBRRoAAAAAgCqgSAMAAAAAUAUUaQAAAAAAqsCtRdpms2n58uWKjo5W165dFRkZ\n",
       "qWXLlslms1X5Wlu2bFHHjh21c+dOd0YEAAAAAMAlbi3S06dP15w5cxQcHKzBgwerdevWSklJUUJC\n",
       "QpWus2fPHk2YMEGGYbgzHgAAAAAALvN114W2bdum9PR0RUVFadGiRY71xMRErV+/Xlu3blVERMQZ\n",
       "r/P5559rzJgxOnLkiLuiAQAAAADgNm67I52WliZJiouLK7OekJAgwzC0du3a055fUFCgiRMnaujQ\n",
       "oZKkzp07uysaAAAAAABu47YinZmZqeDgYLVv377MeqtWrRQaGqrMzMzTnn/w4EG99tprioiI0IYN\n",
       "G3TRRRe5KxoAAAAAAG7jlq3dVqtVOTk5uuyyy8o93qZNG+3bt0+5ublq1qxZua9p2rSpXn75ZV1+\n",
       "+eXuiAQAAAAAQI1wyx3p0s8zN2rUqNzjpev5+fkVXiMoKIgSDQAAAADweG4p0qWPt/L39y/3eOl6\n",
       "QUGBO94OAAAAAADTuKVIBwQESJIKCwvLPW61WiVJgYGB7ng7AAAAAABM45bPSAcFBckwDOXl5ZV7\n",
       "PC8vT4ZhVLj1u6Z06NChyufs2LFDsbGxNZAGAAAAAGCGHTt2SJIyMjIq3RN37dpV4TG3FGl/f3+F\n",
       "hIQoOzu73OPZ2dkKDg5W48aN3fF2NSovL08ZGRlmxwAAAAAAeCi3FGlJ6t69uzZs2KB9+/apXbt2\n",
       "jvWcnBzt379fvXr1ctdbVdrp/oLwV6V/lWjdurVCQ0NrKhJQo0r/CBQWFmZyEsA1/C7DG/B7DG/B\n",
       "7zK8QenvcadOnbR+/XqXr+e2It2nTx9t2LBBycnJWrx4sQzDkN1uV3JysiQpJibGXW9Voz788EOz\n",
       "IwDVVvoHoVWrVpmcBHANv8vwBvwew1vwuwxvUPp77I4SLbmxSPfo0UPR0dHauHGjYmJiFBYWpu3b\n",
       "tysrK0tRUVEKDw93vHbJkiUyDENxcXHuensAAAAAAGqF24q0JCUlJal9+/Zat26dVq5cqZCQEMXH\n",
       "x2v48OFlXpeamnrGIm0YhgzDcGc8AAAAAABcZtjtdrvZITxB6a3+qnyuGvA0/B7DW/C7DG/A7zG8\n",
       "Bb/L8Abu/j12y3OkAQAAAACoLyjSAAAAAABUAUUaAAAAAIAqoEgDAAAAAFAFFGkAAAAAAKqAIg0A\n",
       "AAAAQBXw+CsAAAAAAKqAO9IAAAAAAFQBRRoAAAAAgCqgSAMAAAAAUAUUaQAAAAAAqoAiDQAAAABA\n",
       "FVCkAQAAAACoAoo0AAAAAABVQJEGAAAAAKAKKNIAAAAAAFQBRRoAAAAAgCqgSAMAAAAAUAUUaQAA\n",
       "AAAAqoAiDQAAAABAFdT7Im2z2bR8+XJFR0era9euioyM1LJly2Sz2cyOBlRLTk6OunXrphUrVpgd\n",
       "BaiygwcPasqUKQoPD1eXLl107bXXaty4cfrpp5/MjgZUSW5urmbOnKnIyEh17dpVvXv31nPPPaei\n",
       "oiKzowHVNnfuXHXs2FFffPGF2VGAKlm0aJE6duxY7j8JCQnVuqavmzPWOdOnT1d6erq6d++uyMhI\n",
       "ZWVlKSUlRTt37lRKSorZ8YAqOX78uEaOHKnjx4/LMAyz4wBVcvDgQfXv31+//fabrrnmGt16663a\n",
       "u3ev3nzzTf1/e3cWUlXXgHH82WJWZAU2H9M0rChogrLBCy1oIDDSCyWJsiizaIBGaSKyi2gQs2jC\n",
       "rAS7sMJsgqJ5NLNMqTwZdSoqksgyhcrpvBehH9Lpe9uncOt7/r8rWWuzePDiuJ+ztntdv35d2dnZ\n",
       "6tOnj9UxgX9VVVWluLg4ORwOjR8/XpMmTdL9+/e1fft2FRQUaN++fVZHBEwrLi7WkSNHuL9Aq2S3\n",
       "2+Xj46OEhISf5vr37+/Wmh5dpB88eKDs7GxNnjxZqampjeNJSUk6efKkrl69qoiICOsCAia8fftW\n",
       "ixcv1pMnT6yOArhl165dev/+vZKSkhQfH984furUKa1atUpbtmzR3r17rQsI/KYDBw7I4XBo3bp1\n",
       "mjFjRuP48uXLdfbsWV27dk3h4eEWJgTMqa6u1po1a1RfX291FMAtpaWlCgkJ0aJFi/7amh79aHdW\n",
       "VpYk/fQLXbZsmQzD0LFjx6yIBZh2+PBhRUZGqrS0VKNHj7Y6DuCWixcvqkuXLk1KtCRNnTpVAQEB\n",
       "unXrljXBAJPevn0rm82muLi4JuNTpkyRJD18+NCKWIDb9u3bp1evXmns2LFWRwFMq6qq0rt37zRg\n",
       "wIC/uq5H70gXFBTIz89PISEhTca7d++uPn36qKCgwKJkgDmZmZnq3bu3Nm3aJIfDoby8PKsjAabU\n",
       "19crMTFRbdq0cTnv4+Ojmpoa1dTU/PIaoKXYsWOHy/EXL15Ikrp27dqccYA/YrfbdeDAASUmJurL\n",
       "ly+6ffu21ZEAU+x2uyT99SLtsTvS1dXVKisrU2BgoMt5f39/VVRU6NOnT82cDDAvOTlZubm5GjZs\n",
       "mJxOp9VxANO8vLw0c+ZMTZ8+/ae558+f68WLFwoMDKREo1X6+PGjsrKytGvXLtlsNk2dOtXqSMBv\n",
       "qaur09q1axUcHKz58+dzj4FW6enTp5Kk8vJyzZ49WyNHjlRoaKiWLFkih8Ph9roeW6Q/f/4sSerY\n",
       "saPL+YbxqqqqZssEuCssLIyXf+A/qb6+XsnJyXI6nYqJibE6DmBaamqqwsLClJycrE6dOikjI+OX\n",
       "9x5AS3Pw4EGVlJRo8+bNfJGJVquhSDd8/sbGxmrIkCG6cOGCYmJiGneszfLYIt1wvJWPj4/L+Ybx\n",
       "79+/N1smAMD/OJ1ObdiwQXl5eRo8eLBmzZpldSTAtMDAQCUkJGjChAkqLy9XXFwcL4VEq+BwOLR7\n",
       "927FxcVp6NChVscB3Obt7S1/f38dOnRIaWlpWrFihdLT07Vt2zZVVlZqzZo17q37l3O2Gu3atZMk\n",
       "1dTUuJyvrq6WJLVv377ZMgEAfqitrdX69euVk5OjwMBA7dmzR97eHvsnC61YdHR0489Xr17VggUL\n",
       "tHr1ap0+fdrCVMD/53Q6tXbtWnXt2lXLly+3Og7wRzZs2OByPDIyUtnZ2bp3754cDoeCg4NNreux\n",
       "O9K+vr4yDEOVlZUu5ysrK2UYBo9fAUAz+/r1qxYuXKicnBwFBQUpMzNT3bp1szoW8MciIiI0ZswY\n",
       "PXv2TK9fv7Y6DvBLWVlZevDggTZu3OhyU4n/lcZ/xcCBAyX9OG3BLI/9et/Hx0c2m01v3rxxOf/m\n",
       "zRv5+fmpU6dOzZwMADxXRUWF5s2bp+LiYg0aNEjp6eny8/OzOhbw2+rq6nT37l1JcnlUUK9evST9\n",
       "eFfLr154Cljt/PnzkqSEhASX8zNnzpQkXb58WTabrdlyAWbV1dXJbrerrq5OQ4YM+Wn+27dvkqS2\n",
       "bduaXttji7QkjRgxQrm5uXr58qWCgoIax8vKyvTq1SuNHz/eunAA4GG+f/+u+fPnq7i4WKGhodq7\n",
       "d686dOhgdSzAFKfTqcTERPn6+urmzZvy8mr68J/dbpeXl5d69+5tUULg30VHR2vUqFE/jd+4cUNF\n",
       "RUWKioqSv78/T26ixautrVVMTIx8fX11586dJp/JTqdThYWF8vb2btyZNsOji/S0adOUm5urlJQU\n",
       "7dy5U4ZhyOl0KiUlRZIUGxtrcUIA8BwpKSl6+PChhg8frvT09F++DBJoyby9vTVx4kSdOXNG6enp\n",
       "TXb0jh49qsePH2vcuHE8aYEWLSoqyuV4RUWFioqKFB0drZEjRzZzKsC8tm3bKiIiQpcuXWo8D71B\n",
       "RkaGnj17pqioKPn6+ppe26OL9JgxYzRlyhSdO3dOsbGxCg0NVWFhoe7fv6/JkycrPDzc6ogA4BE+\n",
       "fPigrKwsSVLfvn21f//+n64xDEMJCQkUbLR4K1euVEFBgVJSUpSfn69+/fqppKREeXl5CggI0KZN\n",
       "m6yOCAAeIykpSYWFhUpNTVV+fr4GDBigR48e6d69e+rXr5+SkpLcWteji7Qkbd26VSEhIcrJyVFm\n",
       "ZqZsNpuWLl2quXPnWh0NcIthGJwpjVanqKhItbW1MgxDJ06ccHmNYRiKj4+nSKPF69Gjh44fP660\n",
       "tDRduXJFeXl56t69u+Lj47VgwQJ17tzZ6oiAW7jHQGsUEBCgEydOKC0tTTdu3FB+fr569uypOXPm\n",
       "aOHChW7tRkuS4eS1ewAAAAAA/DaPPf4KAAAAAAB3UKQBAAAAADCBIg0AAAAAgAkUaQAAAAAATKBI\n",
       "AwAAAABgAkUaAAAAAAATKNIAAAAAAJhAkQYAAAAAwASKNAAAAAAAJlCkAQAAAAAwgSINAAAAAIAJ\n",
       "FGkAAAAAAEygSAMAAAAAYAJFGgAAAAAAEyjSAAAAAACYQJEGAAAAAMAEijQAAAAAACb8A1Fxsm6O\n",
       "Yd8lAAAAAElFTkSuQmCC\n",
       "' width=489 height=348/>"
      ],
      "text/plain": [
       "<matplotlib.figure.Figure at 0x11fb1d550>"
      ]
     },
     "metadata": {},
     "output_type": "display_data"
    }
   ],
   "source": [
    "x = np.arange(len(y1[:6]))\n",
    "plt.plot(x, y1[:6], alpha=.9, color='Blue', linestyle='-')\n",
    "plt.plot(x, y2[:6], alpha=.9, color='Green', linestyle='--')"
   ]
  },
  {
   "cell_type": "code",
   "execution_count": 641,
   "metadata": {
    "collapsed": false
   },
   "outputs": [
    {
     "data": {
      "text/plain": [
       "[<matplotlib.lines.Line2D at 0x11fb1d950>]"
      ]
     },
     "execution_count": 641,
     "metadata": {},
     "output_type": "execute_result"
    },
    {
     "data": {
      "text/html": [
       "<img src='data:image/png;base64,iVBORw0KGgoAAAANSUhEUgAAA+YAAAK5CAYAAAAyzzSxAAAABHNCSVQICAgIfAhkiAAAAAlwSFlz\n",
       "AAAWJQAAFiUBSVIk8AAAIABJREFUeJzs3XtYVWXe//HPgg2BASopGipoaaSdzMzJ51diZmkqj8c8\n",
       "hqaSCREUj+YhpzGZyWOkgHioJsVDZqVYKabVlGlNeNY0aTC1wERLNBF1s2H//mDEduCJrSwO79d1\n",
       "zSV873vt9V3uuWx/9r0Oht1utwsAAAAAAJjCxewGAAAAAACozgjmAAAAAACYiGAOAAAAAICJCOYA\n",
       "AAAAAJiIYA4AAAAAgIkI5gAAAAAAmIhgDgAAAACAiQjmAAAAAACYiGAOAAAAAICJCOYAAAAAAJiI\n",
       "YA4AAAAAgIkI5mUQFBSkoKAgs9tAGfDeVW68f5UX713lxvtXufH+VV68d5Ub71/lZcZ7RzAHAAAA\n",
       "AMBElmvxIjabTYsXL9by5cuVlZWlunXrqlevXhoxYoQslsvv4ty5c3rjjTf00Ucf6ZdfflG9evX0\n",
       "8MMPKzIyUj4+Pg5zDx48qMTERH3zzTc6efKk6tSpo/bt2ysqKkq+vr7X4nAAAAAAACg312TFfNKk\n",
       "SZoyZYp8fX01ZMgQ1atXT/Hx8YqJibnstvn5+QoLC1NiYqLq1aunwYMHq379+kpOTtawYcNktVqL\n",
       "52ZkZKhPnz5as2aNWrVqpSFDhigwMFDLli1T3759lZOTcy0OBwAAAACAcuP0ivm2bdu0fPlyde7c\n",
       "WTNnziyujx07VikpKfriiy/Uvn37i26fnJyszZs3KywsTKNGjSqux8bGasmSJVq9erV69uwpSZo8\n",
       "ebJyc3OVmJiojh07Fs+dM2eOZs2apdmzZ2vChAnOHhIAAAAAAOXG6RXzJUuWSJIiIyMd6jExMTIM\n",
       "Q++9995lt2/YsKFeeOEFh/qwYcPUs2dP1ahRQ5KUm5urf//737rzzjsdQrkkjRgxQu7u7vrqq6+c\n",
       "PRwAAAAAAMqV0yvmW7Zska+vr5o2bepQ9/PzU2BgoLZs2XLRbTMyMnT48GENHjxYrq6uDmMNGjTQ\n",
       "5MmTHWqjR49W3bp1S7yOi4uLXF1dlZeX58SRAAAAAABQ/pxaMbdarcrOzlZAQECp4w0aNNDJkycv\n",
       "eu33Dz/8IElq1qyZvvzyS/Xv318tW7bUQw89pKlTp+rMmTPFc728vPTUU0+pa9euJV5n06ZNOnPm\n",
       "jJo1a+bM4QAAAAAAUO6cCuYnTpyQJHl7e5c6fr6em5tb6vjRo0clSZ999pmeeeYZ1apVSwMGDFDd\n",
       "unX19ttvKywsTDab7ZI9nDlzRlOmTJEk9e3bt0zHAQAAAACAWZw6lf18aHZ3dy91/Hz93LlzpY6f\n",
       "XxH/4osvFBsbqyeeeEKSVFhYqJiYGK1du1ZLly7V4MGDS93earUqOjpaGRkZ6tixozp37uzM4QAA\n",
       "AAAAUO6cWjH38PCQVPTIs9Kcf9SZp6dn6Tt3Kdp9ixYtikP5+fqLL74oSUpNTS1127y8PIWHh2vD\n",
       "hg26++67NW3atLIdBAAAAAAAJnJqxdzLy0uGYejUqVOljp86dUqGYVz0VHcvLy9J0h133FFizN/f\n",
       "X97e3vr5559LjB0/flwjRozQd999p5YtW+rNN98svnt7WQUFBV31Nu3atVNgYKBT+4U5QkNDzW4B\n",
       "TuD9q7x47yo33r/Kjfev8uK9q9x4/yqvq8mI6enpTu3LqWDu7u4uf39/ZWZmljqemZkpX19f+fj4\n",
       "lDrepEkTSRdfcbfZbKpVq5ZDLSsrS8OGDdOhQ4f04IMPKjExsXjlvrxlZ2crOzvblH3DOWlpaWa3\n",
       "ACfw/lVevHeVG+9f5cb7V3nx3lVuvH+4Ek4/Lq1169ZatWqVDh48qMaNGxfXs7OzdejQIXXo0OGi\n",
       "2959991yc3NTWlqaCgsLi09tl6T9+/frzJkzDt9SHD9+vDiUd+3aVdOmTSvxmLWyuppvONq1a6fs\n",
       "7Gx5e3urefPm12T/AAAAAADzff/99zp16pTq1aunDRs2lMs+nQ7mPXr00KpVqxQXF6dZs2bJMAzZ\n",
       "7XbFxcVJkvr163fRbb28vNSlSxetWrVK8+fP18iRIyUVraBPnz5dktS7d+/i+S+//LIOHTqkxx57\n",
       "TK+99pqzrZdZYGCgsrOz1bx5cy1atMi0PgAAAAAA11ZoaKjS0tLK9bJlp4N527Zt1aVLF61Zs0b9\n",
       "+vVTmzZttH37dm3dulWdO3dWcHBw8dyEhAQZhqHIyMji2pgxY7Rjxw7NnDlTaWlpCgoK0jfffKN9\n",
       "+/apa9euevjhhyVJe/bs0aeffirDMOTv76+EhIQSvdxwww0aMWKEs4cEAAAAAEC5cTqYS9K0adPU\n",
       "tGlTrVy5UsnJyfL391d0dLTCwsIc5s2ePbtEMPf19dW7776r2bNna/369dqyZYsaNmyoF198UUOH\n",
       "Di2et2XLluKfFyxYUGofPj4+BHMAAAAAQKVi2O12u9lNVDbnT21o06YNp7IDAAAAQBViRt5z6jnm\n",
       "AAAAAADAOQRzAAAAAABMRDAHAAAAAMBEBHMAAAAAAExEMAcAAAAAwEQEcwAAAAAATEQwBwAAAADA\n",
       "RARzAAAAAABMRDAHAAAAAMBEBHMAAAAAAExEMAcAAAAAwEQEcwAAAAAATEQwBwAAAADARARzAAAA\n",
       "AABMRDAHAAAAAMBEBHMAAAAAAExEMAcAAAAAwEQEcwAAAAAATEQwBwAAAADARARzAAAAAABMRDAH\n",
       "AAAAAMBEBHMAAAAAAExEMAcAAAAAwEQEcwAAAAAATEQwBwAAAADARARzAAAAAABMRDAHAAAAAMBE\n",
       "BHMAAAAAAExEMAcAAAAAwEQEcwAAAAAATEQwBwAAAADARARzAAAAAABMRDAHAAAAAMBEBHMAAAAA\n",
       "AExEMAcAAAAAwEQEcwAAAAAATEQwBwAAAADARARzAAAAAABMRDAHAAAAAMBEBHMAAAAAAExEMAcA\n",
       "AAAAwEQEcwAAAAAATEQwBwAAAADARARzAAAAAABMRDAHAAAAAMBEBHMAAAAAAExEMAcAAAAAwEQE\n",
       "cwAAAAAATEQwBwAAAADARARzAAAAAABMRDAHAAAAAMBEBHMAAAAAAExEMAcAAAAAwEQEcwAAAAAA\n",
       "TEQwBwAAAADARARzAAAAAABMRDAHAAAAAMBEBHMAAAAAAExEMAcAAAAAwEQEcwAAAAAATEQwBwAA\n",
       "AADARARzAAAAAABMRDAHAAAAAMBEBHMAAAAAAExEMAcAAAAAwEQEcwAAAAAATEQwBwAAAADARARz\n",
       "AAAAAABMRDAHAAAAAMBEBHMAAAAAAExEMAcAAAAAwEQEcwAAAAAATEQwBwAAAADARARzAAAAAABM\n",
       "RDAHAAAAAMBEBHMAAAAAAExEMAcAAAAAwEQEcwAAAAAAJB04IO3dW/77JZgDAAAAAKq9lBSpUyfp\n",
       "xIny37el/HcJAAAAAEDFkJcnTZggLVtW9LunZ/n3QDAHAAAAAFRLe/ZI4eFSRoa5fXAqOwAAAACg\n",
       "WikstOutt23q1q1kKG/QoPz7IZgDAAAAAKqNA7/k6PYxYXp+5Ss6d+5CvU4d6Z13pMDA8u+JYA4A\n",
       "AAAAqBYWrt+sO6c9pv1GqvJuf0vnGq6TJLVrJ336qRQcbE5fXGMOAAAAAKjSrPkF6heXqI9+nSG7\n",
       "W0Fx/dQDo/VyUDs9F+4hFxOXrQnmAAAAAIAqa9ePR9Q1MUqHLRsl40LdM7+R5vWYo0EdPMxr7r8I\n",
       "5gAAAACAKmnGB59rwqYo5VuOO9RvU4g+GTdNAX41TerMkdPB3GazafHixVq+fLmysrJUt25d9erV\n",
       "SyNGjJDFcvmXP3funN544w199NFH+uWXX1SvXj09/PDDioyMlI+Pj8PcM2fOaN68eVq9erWOHj2q\n",
       "hg0bauDAgRo0aJCzhwEAAAAAqCJyz1gVMm2KNpye65B6XQo99HTTWCWOGCgXF+PiL1DOnD6LftKk\n",
       "SZoyZYp8fX01ZMgQ1atXT/Hx8YqJibnstvn5+QoLC1NiYqLq1aunwYMHq379+kpOTtawYcNktVqL\n",
       "5xYUFCg6Olpz587VrbfeqiFDhshisSg2NlZTp0519jAAAAAAAFXAV7sPqsn47kWh/A98rEH6sF+q\n",
       "kkYOqlChXHJyxXzbtm1avny5OnfurJkzZxbXx44dq5SUFH3xxRdq3779RbdPTk7W5s2bFRYWplGj\n",
       "RhXXY2NjtWTJEq1evVo9e/aUJK1Zs0YbNmzQ8OHDNXr0aElSVFSUwsLCtGDBAvXs2VO33XabM4cD\n",
       "AAAAAKjEUlKk6MkndPyhPQ711u6hSp0wUb4+niZ1dmlOrZgvWbJEkhQZGelQj4mJkWEYeu+99y67\n",
       "fcOGDfXCCy841IcNG6aePXuqRo0aDnMtFotGjhxZXLNYLHr++edlt9v1/vvvO3MoAAAAAIBKKi9P\n",
       "iomRIiKk/J9bymvHOEmSpcBH4++ap2//PrXChnLJyRXzLVu2yNfXV02bNnWo+/n5KTAwUFu2bLno\n",
       "thkZGTp8+LAGDx4sV1dXh7EGDRpo8uTJxb9brVbt3r1bLVq0kLe3t8Pcu+66Sx4eHpfcFwAAAACg\n",
       "atqzRwoPlzIyLtRq7H1G9Zsc14IXQtW2RYB5zV2hMq+YW61WZWdnKyCg9INs0KCBTp48qZycnFLH\n",
       "f/jhB0lSs2bN9OWXX6p///5q2bKlHnroIU2dOlVnzpwpnpuVlaWCgoJS9+Xq6qr69evrwIEDZT0U\n",
       "AAAAAEAlY7dLCxZI3bo5hnJJei7SRd8lvVQpQrnkRDA/ceKEJJVYwT7vfD03N7fU8aNHj0qSPvvs\n",
       "Mz3zzDOqVauWBgwYoLp16+rtt99WWFiYbDbbFe/r7NmzKiwsLOvhAAAAAAAqiZwcKSxMGj9eOnfu\n",
       "Qr1OHemdd4rqbm7m9Xe1ynwq+/nQ7O7uXur4+fq5P/4t/cH5FfEvvvhCsbGxeuKJJyRJhYWFiomJ\n",
       "0dq1a7V06VINHjz4qvbl6VlxrxsAAAAAADhn8+aia8mzshzr7dpJ8fGSn585fTmjzMHcw8NDUtEj\n",
       "z0pz/lFnFwvKLi5Fi/UtWrQoDuXn6y+++KLWrl2rtWvXavDgwbrhhhsuuy/DMJwK5UFBQWXeFgAA\n",
       "AABwfRUUSAkJ0muvFf18nsUijR0rjRwpuTj9QPAL0tLSrjgnpqenO7WvMgdzLy8vGYahU6dOlTp+\n",
       "6tQpGYZx0dPPvby8JEl33HFHiTF/f395e3vrp59+kiTVrFmz+DUvtq8/3sEdAAAAAFB17PrxiLrH\n",
       "j1femolyLbhw3XijRtKcOVKrViY2dw2UOZi7u7vL399fmZmZpY5nZmbK19dXPj4+pY43adJE0sVX\n",
       "wW02m2rVqiWp6EZybm5upe6roKBAR44cUbNmzcpyGMWu5huO0NBQpaWlObU/AAAAAMDlzfjgc03Y\n",
       "FKV89+NyezBbtdelyCh0U0iING2a9N913GuuTZs2WrRo0fV58T9xaqG/devWOnbsmA4ePOhQz87O\n",
       "1qFDh3TPPfdcdNu7775bbm5uSktLK3HTtv379+vMmTPFpw1YLBbdc8892rt3r06fPu0wd9euXTp7\n",
       "9qxatmzpzKEAAAAAACqQ3DNWPfzKJI359knlW45LkvLrbNe5+6Zr+nRp7tzrF8rLm1PBvEePHpKk\n",
       "uLg42e12SZLdbldcXJwkqV+/fhfd1svLS126dNHhw4c1f/784np+fr6mT58uSerdu3dxvXv37rJa\n",
       "rUpISHCYO2vWLBmGob59+zpzKAAAAACACmLDrgNqMr67Npye61D3sQZpyYTeGjRIMgyTmrsOynwq\n",
       "uyS1bdtWXbp00Zo1a9SvXz+1adNG27dv19atW9W5c2cFBwcXz01ISJBhGIqMjCyujRkzRjt27NDM\n",
       "mTOLL6z/5ptvtG/fPnXt2lUPP/xw8dzevXtrxYoVWrBggX744Qe1aNFCX331ldLT0zV8+HCnT2UH\n",
       "AAAAAJhv3MIUvbbrRRW4OT56+373wUr960TV9vYwqbPrx7CfX+ouI5vNpvnz52vlypXKzs6Wv7+/\n",
       "unfvrrCwMLn94cFxt99+uwzD0Pfff++w/YkTJzR79mytX79ex48fV8OGDdWnTx8NHTpUxp++Ajl9\n",
       "+rQSEhKUmpqqEydOKCAgQAMGDNCAAQNKzL2ezl9jXp7XHAAAAABAVfbryTx1mjpBO2zLHOqWAh+N\n",
       "uXeGJj3ZrVz6MCPvOR3MqyOCOQAAAABcO6u+3qPBy8OV657hUK+Tf59WPZ2kB1o0KrdezMh7Tp3K\n",
       "DgAAAABAWdnt0sKFUtQns3W60R9DuaFHvJ9VyujRquHhdtHtqwqCOQAAAACg3OXkSKNGSampUg33\n",
       "V3XWd7MKbsySe35dTW2foKju7cxusdwQzAEAAAAA5WrzZikiQsrKKvrdxVpLPhuT5PVIvNY8H6cW\n",
       "gXXNbbCcEcwBAAAAAOWioEBKSJBee63o5/MsFmnCM/dr5MhFcnHqod6VE8EcAAAAAHDdHTkiPfec\n",
       "tGmTY71RI2nOHKlVK3P6qgiq4XcRAAAAAIDy9NlnUseOJUN5SIi0bl31DuUSK+YAAAAAgOvEapUm\n",
       "T5bmzXOse3hIsbHSwIGSYZjTW0VCMAcAAAAAXHNf7T6o8BnrdXz90w71oCBp7tyiP1GEU9kBAAAA\n",
       "ANfUuIUpemTBY/q+3t90ttHa4npoqLRmDaH8z1gxBwAAAABcE7+ezFOnqX/VDts7kmtR7VTbGNW2\n",
       "3qWZkxooJMTc/ioqgjkAAAAAwGkffrNXoe+OVK57hkPd17hFS5fa9ZfmJjVWCRDMAQAAAABlVlho\n",
       "14ikhVp48BUVup9zGHvEO1Ipo0erhoebSd1VDgRzAAAAAECZHDxyQo+99n/ab6Q63MHM3VZHU4IT\n",
       "FN092LzmKhGCOQAAAADgqi1cv1kRayJ01i3Lod7QFqzU6Hi1CKxrUmeVD8EcAAAAAHDFCgqkKbN+\n",
       "09+y+svudqa4btgt6lN/rBY/P1IWVx4AdjX42wIAAAAAXJEjR6T+/aXZM26S144xxXXP/EZa+HiK\n",
       "lv1fBKG8DFgxBwAAAABc1mefSdHR0vHjRb97fv+0rPU3qnGDGlo7bqoC/Gqa22AlRjAHAAAAAFyU\n",
       "1SpNnizNm+dY9/Qw9Grn+Roy6Aa5uBjmNFdFEMwBAAAAAKU6cECKiJB27nSsBwVJc+dKQUEe5jRW\n",
       "xXDyPwAAAACghJQUqVOnkqE8NFRas6YonOPaYMUcAAAAAFAsL0+aMEFatsyx7uMjTZ8uhYSY01dV\n",
       "RjAHAAAAAEiSVn29R/+YeKMyv2vsUG/VSkpKkgICzOmrquNUdgAAAACo5goL7QpLXKA+K7ppV6Nw\n",
       "2V2sxWORkdLKlYTy64kVcwAAAACoxg78kqNOcaO030iVXKTCm3Yqt+UUNfnpZSUkSMHBZndY9RHM\n",
       "AQAAAKCaWrh+syLWROisW5ZD3fe2fVr7pk3+9YmM5YG/ZQAAAACoZqz5Ber/eqI+PDZDdreC4rph\n",
       "t6hP/bFa/PxIWVy58rm8EMwBAAAAoBrZ9eMRdU2M0mHLRsm4UPfMb6R5IXM0qEMr85qrpgjmAAAA\n",
       "AFBNzPjgc03YFKV8y3GH+m0K0SfjpinAr6ZJnVVvBHMAAAAAqOKsVil08gq9fzrSIQW6FHro6aax\n",
       "ShwxUC4uxsVfANcVwRwAAAAAqrADB6SICGn794/ItWtDFdyYKUnysQZp6aC5evz+IJM7BFfzAwAA\n",
       "AEAVlZIideok7dwpuVhryuerJKnQotbuodo/aQ2hvIJgxRwAAAAAqpi8PGnCBGnZMsd6HWtrvfrA\n",
       "vzSiz63mNIZSEcwBAAAAoArZs0cKD5cyMhzrrVpJSUlSQAChvKLhVHYAAAAAqALsdmnBAqlbt5Kh\n",
       "PDJSWrlSCggwpTVcBivmAAAAAFDJ5eRIo0ZJqamO9Tp1pIQEKTjYnL5wZVgxBwAAAIBK7MMNh/TY\n",
       "YyVDebt20qefEsorA4I5AAAAAFRC1vwC9Zo2S70+elD7XVcX1y2Wohu/LV0q+fmZ2CCuGKeyAwAA\n",
       "AEAls+vHI+qaGKXDlo2SIf3+wCi5/XaPGvs21Jw5RTd6Q+XBijkAAAAAVCIzPvhcbRI7FoXy/7K7\n",
       "n9QtIcu1bh2hvDJixRwAAAAAKoHcM1aFTJusDafnOSQ5l0IPPd00VokjBsqFpddKiWAOAAAAABXc\n",
       "hl0H1PvtCB132+lQ97EGaemguXr8/iCTOsO1QDAHAAAAgAps3MIUvbbrRRW45TrUW7uHKnXCRPn6\n",
       "eJrUGa4VgjkAAAAAVEB5eVL72HHaWrBQcr1QtxT46MWW0xUbGmJec7imCOYAAAAAUMHs2SOFh0s/\n",
       "uDaV7r9Qr5N/n1Y9naQHWjQyrzlcc9waAAAAAAAqCLtdWrBA6tZNysiQPNOH6YbMxyQZesQ7Ugcm\n",
       "ryCUV0GsmAMAAABABZCTI40aJaWmXqgZMtQ4PU7h/fboue4PmdccriuCOQAAAACYbPNmKSJCyspy\n",
       "rLdrJ8XH+8rPj1BelRHMAQAAAMAkBQVSYqI0Y0bRz+dZLNLYsdLIkeLZ5NUAwRwAAAAATHDkiPTc\n",
       "c9KmTY71Ro2kOXOkVq3M6Qvlj+9eAAAAAKCcpa4/p44dS4bykBBp3TpCeXXDijkAAAAAlJPcM1aF\n",
       "TJuib37+WrVPrJKhGyRJHh5SbKw0cKBkGCY3iXLHijkAAAAAlIOvdh9Uk/HdteH0XOX77lLuvZMl\n",
       "SUFBRXdiHzSIUF5dEcwBAAAA4DobtzBFjyx4TMfddhbX8prPV5fB32vNmqJwjuqLU9kBAAAA4Dr5\n",
       "9WSeOk39q3bY3pFcL9QtBT56seV0xYY2N685VBgEcwAAAAC4Dj78Zq9C3x2pXPcMh3qd/FZKeTpJ\n",
       "bVsEmNQZKhqCOQAAAABcQ4WFdo1IWqiFB19Rofs5h7FHvCOVMnq0ani4mdQdKiKCOQAAAABcI4eO\n",
       "nNSjr8Vov5HqcEcv9/y6mto+QVHd25nXHCosbv4GAAAAANfA5s1Sz56GDp7+zqHe0Basrc9/SijH\n",
       "RRHMAQAAAMAJBQXSrFlSr17SkUM+qrlxjlRokWG36Il6E7R/+hK1CKxrdpuowDiVHQAAAADK6MgR\n",
       "KSpK2rjxQs3t11ZqvH+KJj0XpEEd7jOvOVQaBHMAAAAAKIPPPpOio6Xjxx3rISHStGkDVbOmOX2h\n",
       "8iGYAwAAAMBVsFqlyZOlefMc6x4eUmysNHCgZBjm9IbKiWAOAAAAAFfowAEpIkLaudOxHhQkzZ1b\n",
       "9Cdwtbj5GwAAAABcgZQUqVOnkqE8NFRas4ZQjrJjxRwAAAAALuHXk3nqNPWvOvCv9vLIDSmu+/hI\n",
       "06cXXVMOOINgDgAAAAAXserrPRq8PFy57hky/rJabr+2lOvpRmrVSkpKkgICzO4QVQGnsgMAAADA\n",
       "nxQW2hWWuEB9VnRTrnuGJMnu/rtOPhipZ5+1a+VKQjmuHVbMAQAAAOAPDvySo05xo7TfSHVYynTP\n",
       "r6upPf5PUd255TquLYI5AAAAAPzXwvWbFbEmQmfdshzqDW3BSn0+Xi0C65rUGaoygjkAAACAas+a\n",
       "X6D+ryfqw2MzZHcrKK4bdov61B+rxc+PlMWVK4FxfRDMAQAAAFRru348oq6JUTps2Sj94Sx1z/xG\n",
       "mhcyR4M6tDKvOVQLfOUDAAAAoNr67DOpy3PrikL5H9ymEO0dt45QjnJBMAcAAABQ7Vit0iuvSKGh\n",
       "UsH2UN2Q2UmS5FLooWduma49U+YqwK+myV2iuuBUdgAAAADVyoEDUkSEtHNn0e+GDPl8HSd7l0gt\n",
       "GPqyHr8/yNwGUe0QzAEAAABUGykp0osvSrm5jvUh/Wpr4sQl8vQ0py9UbwRzAAAAAFVeXp40YYK0\n",
       "bJlj3cdHmj5dCgkxpy9AIpgDAAAAqOL27JHCw6WMDMd6q1ZSUpIUEGBOX8B53PwNAAAAQJVkt0sL\n",
       "FkjdupUM5ZGR0sqVhHJUDKyYAwAAAKhyDvySoz7TZuvwe6NlFN5QXK9TR0pIkIKDTWwO+BNWzAEA\n",
       "AABUKQvXb9ad0x7TDrck5bb6e3G9XTvp008J5ah4WDEHAAAAUCVY8wvU//VEfXhshuxuBZKkvNvf\n",
       "kuexhzQx9DGNHCm5sDSJCohgDgAAAKDS2/XjEXVNjNJhy0bJuFD3zG+k1/9RR4M6mNcbcDkEcwAA\n",
       "AACV2owPPteETVHKtxx3qN+mEH0ybpoC/Gqa1BlwZQjmAAAAACql3DNWhUybog2n5zokG5dCDz3d\n",
       "NFaJIwbKxcW4+AsAFQTBHAAAAECls2HXAfV+O0LH3XY61H2sQVo6aK4evz/IpM6Aq0cwBwAAAFCp\n",
       "rFxp15NrR+pszd0O9dbuoUqdMFG+Pp4mdQaUjdPB3GazafHixVq+fLmysrJUt25d9erVSyNGjJDF\n",
       "cvmXHzhwoLZt21bq2MSJE9W/f//i33/++WfNnDlTmzZtUm5urho0aKDevXtr+PDhcnV1dfZQAAAA\n",
       "AFRgeXnShAnSsmWGavhO07nO/yu7S74sBT56seV0xYaGmN0iUCZOB/NJkyZp+fLlat26tTp27Kit\n",
       "W7cqPj5e+/btU3x8/GW3T09P1y233KIuXbqUGLvrrruKf/7ll1/Ut29f5eTk6JFHHlFgYKC++uor\n",
       "xcXF6fvvv9frr7/u7KEAAAAAqKD27JHCw6WMjKLf3Y7foxu3j5PH3R8r5ekktW0RYG6DgBOcCubb\n",
       "tm3T8uXL1blzZ82cObO4PnbsWKWkpOiLL75Q+/btL7p9ZmamTp8+reDgYEVGRl5yX/PmzVNOTo7G\n",
       "jx+vwYMHS5JiYmI0dOhQpaamauDAgbr//vudORwAAAAAFYzdLi1cKL3yinTunOPY6A4jFPN/w1XD\n",
       "w82c5oBrxMWZjZcsWSJJJUJ1TEyMDMPQe++9d8nt09PTJUlBQZe/McPevXtlGIZ69+5dXLNYLOrV\n",
       "q5ckaefOnRfbFAAAAEAllJMjhYVJ48c7hvI6daR33pEmvORCKEeV4FQw37Jli3x9fdW0aVOHup+f\n",
       "nwIDA7Vly5ZLbn81wfymm26S3W5XVlaWQ/3IkSOSJF9f36tpHQAAAEAFtnmz9NhjUmqqY71dO+nT\n",
       "T6XgYHO/YoF7AAAgAElEQVT6Aq6HMgdzq9Wq7OxsBQSUfi1HgwYNdPLkSeXk5Fz0NdLT02UYhrZs\n",
       "2aKePXvq3nvvVXBwsF599VXl5uY6zB08eLAsFovGjx+vffv2KS8vT59++qnefPNN+fv7q1OnTmU9\n",
       "FAAAAAAVREGBNGuW1KuX9Mc1OYul6MZvS5dKfn7m9QdcD2UO5idOnJAkeXt7lzp+vv7ngP1H6enp\n",
       "stvtio+P15133qm+ffvK19dXycnJGjBggMO2bdu21fz583Xw4EH16NFDrVq1UmRkpAIDA/XOO+/o\n",
       "xhtvLOuhAAAAAKgAdv14RI8O36ipU4sC+nmNGkkpKVJEhOTi1Dm/QMVU5v9b22w2SZK7u3up4+fr\n",
       "5/58h4b/stvtqlmzplq0aKHVq1crNjZW48aN04oVK9SvXz/95z//UWJiYvH8ffv2afz48Tp37py6\n",
       "du2qoUOH6s4779TevXv1j3/8Q1artayHAgAAAMBk0z/4TG0SO2pD7eEq8PqpuB4SIq1bJ7VqZWJz\n",
       "wHVW5ruye3h4SJLy8/NLHT8flD09PUsdNwxD7777bqn1MWPGaNWqVfr44481duxY2Ww2RURE6Lff\n",
       "flNycrLuvffe4vmvvvqqkpOTNWvWLI0ePbqsh3NF17kDAAAAuLZyz1gVMm2yNpyeV5xOTj4Yrpu/\n",
       "TNHfJ7lp4EDJMMztEdVTWlraFefE8/dPK6syr5h7eXnJMAydOnWq1PFTp07JMIyLnup+KTVq1FDj\n",
       "xo3122+/yWq1avv27Tp8+LC6devmEMolafTo0fL29tbKlSvLdBwAAAAAzLFh1wE1Gd+9KJT/gadP\n",
       "nhZ+cEyDBhHKUT2UecXc3d1d/v7+yszMLHU8MzNTvr6+8vHxKXU8NzdXGRkZqlWrlho3blxi/OzZ\n",
       "s3JxcZGbm5uys7MlSbfcckuJeW5ubgoICNDevXtltVovemr95VzNNxyhoaFKS0sr034AAAAASOMW\n",
       "pui1XS+qwM3xnlSt3UOVOmGifH1KP/MWKC9t2rTRokWLymVfTt06oXXr1jp27JgOHjzoUM/Oztah\n",
       "Q4d0zz33XHTb3bt3q3///po6dWqJsaNHjyozM1PNmzeXYRiqW7euJOnAgQMl5tpsNmVmZsrHx6fM\n",
       "oRwAAABA+fj1ZJ7uGx+jaXsiVOB6IZRbCnw0/q55+vbvUwnlqHacCuY9evSQJMXFxclut0squqlb\n",
       "XFycJKlfv34X3fa+++7TTTfdpA0bNjg879xqtSo2NlY2m02DBg0qnlu/fn2tXr1au3fvdnid2bNn\n",
       "6+TJk+rSpYszhwIAAADgOlv19R7d+rfO2mFb5lCvk3+fvhy+XrGhISZ1BpirzKeyS0WPMOvSpYvW\n",
       "rFmjfv36qU2bNtq+fbu2bt2qzp07Kzg4uHhuQkKCDMNQZGSkpKJT4V955RVFR0frqaee0uOPP66a\n",
       "NWvq66+/1o8//qiuXbuqZ8+eRU1aLJo8ebJGjhypQYMG6dFHH5Wfn5927Nih7du3q1mzZoqJiXHm\n",
       "UAAAAABcJ3a7NOXNdL2c3k2F7n98apOhR7yfVcro0arh4WZaf4DZnArmkjRt2jQ1bdpUK1euVHJy\n",
       "svz9/RUdHa2wsDCHebNnz3YI5pLUsWNHJScna86cOfrXv/4lm82mJk2a6K9//Wvxavl5bdu21bvv\n",
       "vqukpCRt2rRJubm5uvnmmzV8+HCFh4fLy8vL2UMBAAAAcI3l5EijRklrUm+TW3AHnWuUKklyz6+r\n",
       "qe0TFNW9nckdAuZzOphbLBZFREQoIiLikvP27dtXav2+++7Tm2++eUX7uv322xUfH3/VPQIAAAAo\n",
       "f5s3SxERUlaWZMiQzzev6bjvLt18Q1OlPh+vFoF1zW4RqBCcDuYAAAAA8EcFBVJiojRjRtHP57kX\n",
       "1tLE21fpxYj6srg6dbsroEohmAMAAAC4Zo4ckaKipI0bHeuNGklz5kitWvmb0xhQgfE1FQAAAIBr\n",
       "4vPPpY4dS4bykBBp3TqpVStz+gIqOlbMAQAAADjFapUmT5bmzXOse3hIsbHSwIGSYZjTG1AZEMwB\n",
       "AAAAlNnG3Yc0aUw9fbfDw6EeFCTNnVv0J4BL41R2AAAAAGUybmGKOix4VF+7xTrUQ0OlNWsI5cCV\n",
       "YsUcAAAAwFX59WSeOk2doB22ZZKrdCbobbkfeUh+Jztr+vSia8oBXDmCOQAAAIArturrPRq8PFy5\n",
       "7hkOdc+/LNa6UZ0VEGBSY0AlxqnsAAAAAC6rsNCusMQF6rOiW4lQ/oh3pP4z7W1COVBGrJgDAAAA\n",
       "uKQDv+SoU9wo7TdSHZb23G11NCU4QdHdg81rDqgCCOYAAAAALmrh+s2KWBOhs25ZDvUGtnZKjYrX\n",
       "HY39TOoMqDoI5gAAAABKKCiQnopbrHeOjpPdraC4btgt6lN/rBY/P1IWV66MBa4FgjkAAAAAB0eO\n",
       "SFFR0r/23i11dpGMomDumd9I80KSNKjDfSZ3CFQtfMUFAAAAoNjnn0sdO0obN0pux++W17YJkqTb\n",
       "FKK949YRyoHrgBVzAAAAALJapcmTpXnzHOu1D4YpfEAT/WP4I3JxMcxpDqjiCOYAAABANXfggBQR\n",
       "Ie3c6VgPCpLmzjUUFNTRnMaAaoJT2QEAAIBqLCVF6tSpZCgPDZXWrCkK5wCuL1bMAQAAgGooL0+a\n",
       "MEFatsyx7uMjTZ8uhYSY0xdQHRHMAQAAgGpmy848xTxXQxkZjvVWraSkJCkgwJy+gOqKU9kBAACA\n",
       "aqKw0K6wxAX6n7f/on1HDjqMRUZKK1cSygEzsGIOAAAAVAMHfslRp7hR2m+kSu7S7w+Fq/Ynq1TX\n",
       "110JCVJwsNkdAtUXK+YAAABAFbdw/WbdOe2xolD+X/k37VRgl3f16aeEcsBsrJgDAAAAVZQ1v0D9\n",
       "X0/Uh8dmyO5WUFw37Bb1qT9WiycPksXVxAYBSCKYAwAAAFXSrh+PqGviczps2SQZF+qe+Y00L2SO\n",
       "BnVoZV5zABwQzAEAAIAqZsYHn2nCpmjlW4471G9TiD4ZN00BfjVN6gxAaQjmAAAAQBVx5myBukz9\n",
       "hzacnuvwSd+l0ENPN41V4oiBcnExLv4CAExBMAcAAACqgAMHpPAIF6X5ZEmBF+o+1iAtHTRXj98f\n",
       "ZF5zAC6Ju7IDAAAAlVxKitSpk7RrpyHvb6fJ9XRDSVJr91Dtn7SGUA5UcKyYAwAAAJVUXp40YYK0\n",
       "bNmFmou1pvy3zVFoxGHFhoaY1xyAK0YwBwAAACqhPXuk8HApI8Ox3qqVlJR0nwIC7jOnMQBXjVPZ\n",
       "AQAAgErEbpcWLJC6dSsZyiMjpZUrpYAAU1oDUEasmAMAAACVRE6ONGqUlJrqWK9TR0pIkIKDzekL\n",
       "gHMI5gAAAEAlkJZm17PPGsrKcqy3ayfFx0t+fub0BcB5BHMAAACgArPmF6j/64n69Otj8sr6e3Hd\n",
       "YpHGjpVGjpRcuEAVqNQI5gAAAEAFtevHI+qaGKXDlo3SbZLlSFt5/NRVjRpJc+YU3egNQOXHd2sA\n",
       "AABABTTt/U/VJrFjUSj/r98fGKWO3Y9p3TpCOVCVsGIOAAAAVBCFhXYlrd6oKf+apV8sXzt8Wncp\n",
       "9FDY7S9p9og6nLoOVDEEcwAAAMBkhYV2TX1/vV7/ZpZ+c9te4lO6jzVISwfN1eP3B5nTIIDrimAO\n",
       "AAAAmKSgQIpd+onit07XSfe9klvJOa3dQ5U6YaJ8fTzLv0EA5YJgDgAAAJSz/Hzpgw+k2bOlnd7b\n",
       "dfrOvX+aYShIIZrc4zl1/587TOkRQPkhmAMAAADl5OxZadkyKSlJyswsqtW44Wnl3f6G7JYzMuyu\n",
       "utvSRzP6RapDy1vNbRZAuSGYAwAAANfZ6dNScrI0b5509KjjmMu5m+S9f5huvztXMwdG6C/NG5nT\n",
       "JADTEMwBAACA6+TECemf/5TeekvKySk5XqOGNHiw9MwzL6levfLvD0DFQDAHAAAArrFff5Xmz5cW\n",
       "LJByc0uO+/hIw4dLYWFS7drl3h6ACoZgDgAAAFwj2/5zWM8vnqvvdt4gj7SXSozfdJM0YoQ0ZEhR\n",
       "OAcAiWAOAAAAOG3jdwf1wjuztd26XHYjX8atHnLbNUKuZ+tKkm6+WQoPlwYNkjx56hmAPyGYAwAA\n",
       "AGX0yZYfNPr9eO0pSJGMQskoqttdzyqv+XzdefwlRUZKffpIN9xgbq8AKi6COQAAAHCVPti4W+NX\n",
       "zVKGsaaoYDiOe1ubKbzP3YoNlSx84gZwGfwzAQAAAFyht9el6ZVPZuln13+VCOOSVNt6lyLbRGlC\n",
       "v8dlcXUp/wYBVEoEcwAAAOAS7Hbpq6+kCW9+qU31B0iuJef45bfRqIei9EKPh+XiUkpiB4BLIJgD\n",
       "AAAApSgslNavl2bNknbskOzGg3INuUUFPj8Wz2lga6cJj0YrrNMDBHIAZUYwBwAAAP6goED6+OOi\n",
       "QL5v34W6YXfVjXsi9XvbGN1S2EmTukVpQPt7zWsUQJVBMAcAAAAkWa3SihVSYqL0448lxw1D6ntX\n",
       "L4X0vkfd/tK8/BsEUGURzAEAAFCtnT0rvfOOlJQkZWWVHLdYih539uyz0q23uksilAO4tgjmAAAA\n",
       "qJaOHM/VywvX6dsFvXTsWMnxG26QBg6UwsOlhg3Lvz8A1QfBHAAAANXKgV9yFLXgn1p37C3ZLCdU\n",
       "W43krvuLx2vUkJ56ShoxQvLzM69PANUHwRwAAADVwvc/HVPUwvn68sQCFbieLv4kfPquWXL/fLFq\n",
       "1pSGDy/6X+3a5vYKoHohmAMAAKBK2/afw4palKRv85aq0OVsyeeQ++3SC+NyNPKp2vL2NqVFANUc\n",
       "wRwAAABV0oZdBxSzLFE78t+X3ciXXBzHPfL99USTcMU9NVC+Pp7mNAkAIpgDAACgitmzt0D9F0Zr\n",
       "b2GKZBRKhuN4DWtjDb49UlOH9JGXp7s5TQLAHxDMAQAAUCXs3CnNmiWtXeuqE8F5UqNCh3Fv6216\n",
       "pmW0XhkYIg93PgYDqDj4FwkAAACV2r//XRTIv/zyQu3G3dE612itJKl2/t2KahOt8X07yeLqcpFX\n",
       "AQDzEMwBAABQ6djtRUF81izp229Ljrsdv0dBvz+rEZ3/n6L+N1guLkbJSQBQQRDMAQAAUGkUFkqf\n",
       "fFIUyHftKn1OcLAUHS098MBL5dscAJQRwRwAAAAV3lmrTR99bFdSgpvS00uf07mzFBUltWxZvr0B\n",
       "gLMI5gAAAKiwcs9YNWbh+0relyjX7SNV4z+DHcZdXKTu3aXnnpNuv92kJgHASQRzAAAAVDjHfz+j\n",
       "mAVL9d6BOTrrdlhyl1zvmC3P/QNkFLrJzU3q00eKjJSaNDG7WwBwDsEcAAAAFcbh307p+beT9dHh\n",
       "ebJafpXcLowVeP2swmYpevr/PaGICMnf37w+AeBaIpgDAADAdAd+yVHUgre07thbsllOlviU6lpw\n",
       "o9rVGqL4BcFqEWhOjwBwvRDMAQAAYJo9B48qOnm+NpxcqALX0yU+nVpstfRY3eGKf2qYmtxc25wm\n",
       "AeA6I5gDAACg3GVlSUlJ0txdyTrRPElydRx3t9VR9wYjNXPoYNX39TKnSQAoJwRzAAAAlJsff5Rm\n",
       "z5bee0+y2SQ39+Eyms2V3ZInSfLI91e/WyIUN3Sganl5mNwtAJQPgjkAAACuu++/lxISpA8/lAoL\n",
       "L9RdrLXl+cNgGU0/0ZDmkZo8uLe8PN3NaxQATEAwBwAAwHWzfbsUHy998knp47ffLj0zbJS6dxsv\n",
       "D3c+mgKonvjXDwAAANeU3S79+9/SrFnShg2lz2nZUoqOlh59VHJxqVG+DQJABUMwBwAAwDVRWGjX\n",
       "6ylfaPHHPyp77fBS5zzwQFEgb9dOMoxybhAAKiiCOQAAAJxiKyjUq+9+ovi0Wcpx3yWj9g26ybOb\n",
       "XM/UK57z8MNFgbxNGxMbBYAKimAOAACAMjlrtemviz/UG7sSdMo9XfrvPdvsrueU13yevLe9rMcf\n",
       "Lwrkd99tbq8AUJERzAEAAHBVfj99TmMXva9F+2Yrz/1gcSAvZndRszty9c5rUlCQGR0CQOVCMAcA\n",
       "AMAVOf77Gb3w9lK9f3COzrodLhHIDbub7nV/QnH9n9VDdzUxp0kAqIQI5gAAALikU6ek6W/t17Sf\n",
       "eijf8pvk5jjuUuihB24cpFlPhqtVM39zmgSASoxgDgAAgFLl5Ehvvim99ZZ08vcmsv9vbcnnt+Jx\n",
       "1wIvBdcaooSnRuj2RnVN7BQAKjeCOQAAABxkZ0vz5knJyVJeXlHNkItqfPecfv+faLnZaquT33DF\n",
       "Dx2mwHq1zG0WAKoAgjkAAAAkST//LCUlScuWSefOlRwPON1D99TP1fShT6heba/ybxAAqiiCOQAA\n",
       "QDW3f7+UmCh98IFks5Ucb9BAevZZqX9/N3l4DC3/BgGgiiOYAwAAVFNrv/1RKW/foo8+kuz2kuO3\n",
       "3CJFRkq9e0tubiXHAQDXhtPB3GazafHixVq+fLmysrJUt25d9erVSyNGjJDFcvmXHzhwoLZt21bq\n",
       "2MSJE9W/f//i3wsKCrR06VItX75cP/30k3x9ffXAAw/o+eefV7169Zw9FAAAgGphyefb9Lc18Trg\n",
       "sk61/71C7vYHHMZbtJCee07q1k1ydTWpSQCoRpwO5pMmTdLy5cvVunVrdezYUVu3blV8fLz27dun\n",
       "+Pj4y26fnp6uW265RV26dCkxdtdddzn8PmbMGH388ce644479OSTT2r//v1auXKlvv32W61cuVI1\n",
       "a9Z09nAAAACqpMJCu+anfqNXP5ulLMtXkktR/fRds+T+WVEwv/deKTpaevRRyTBMbBYAqhmngvm2\n",
       "bdu0fPlyde7cWTNnziyujx07VikpKfriiy/Uvn37i26fmZmp06dPKzg4WJGRkZfc19q1a/Xxxx+r\n",
       "a9eueu2114rr//znPzVt2jQtWrTosq8BAABQ3RQW2jVjxeeK2xSvY26bS3z6s978pe5qn64J4UF6\n",
       "8EECOQCYwcWZjZcsWSJJJQJxTEyMDMPQe++9d8nt09PTJUlBQUGX3dfixYvl5eWlv/3tbw71AQMG\n",
       "qHv37qpbl2dnAgAAnGcrKNTLiz+WX0xnjUsLLQrlfxJQ2EH/fHSVPlkapIceIpQDgFmcWjHfsmWL\n",
       "fH191bRpU4e6n5+fAgMDtWXLlktuf6XB/PTp09q6das6dOggHx8fhzFPT09NnTq1DN0DAABUPfn5\n",
       "0rjkFXpj9yzluv9Hcv/zDEPN7F30j+5R6v3gXaW9BACgnJV5xdxqtSo7O1sBAQGljjdo0EAnT55U\n",
       "Tk7ORV8jPT1dhmFoy5Yt6tmzp+69914FBwfr1VdfVW5ubvG8/fv3y263q2nTptqxY4eGDh2qe++9\n",
       "Vw888IBeeuklHT9+vKyHAQAAUCWcOyctWiQ99JCUtD61KJT/gWF31R0uvbWm77+0b/obhHIAqEDK\n",
       "HMxPnDghSfL29i51/Hz9jwH7z9LT02W32xUfH68777xTffv2la+vr5KTkzVgwIDibY8ePSpJ2rNn\n",
       "j5588knZbDb1799fTZs21QcffKCBAwdecj8AAABVVV6eNH++1LatNGaM9NNP0o27o4vHjUJ33ef2\n",
       "pL58aqN2TUlQp9a3mdgtAKA0ZT6V3WazSZLc3UucH+VQP3fuXKnjdrtdNWvWVIsWLTR37lz5+fkV\n",
       "1ydOnKh3331XiYmJGjt2rPLy8iRJGzduVHh4uKKjL/zHZurUqXr77beVkJCgcePGlfVwAAAAKpXf\n",
       "f5cWLCgK5X8+edAt507dmBWie5vV16zQkWp5682m9AgAuDJlXjH38PCQJOXn55c6brVaJRVdA14a\n",
       "wzD07rvvasWKFcWh/Hx9zJgx8vDw0OrVq4uadClqs06dOiVuNBcVFSVPT0+tXbu2rIcCAABQaRw/\n",
       "Lk2dKrVpI02ZUjKUe3sXPYN8/8y5+nLiK4RyAKgEyrxi7uXlJcMwdOrUqVLHT506JcMwLnqq+6XU\n",
       "qFFDjRs3Vnp6uqxWa/Fr3HbbbXJ1dXWY6+npqcDAwOK5F1vBv5wruTM8AACAWY4ckebNk5KTpTNn\n",
       "So77+kphYdLQoVLNmpLELdYBwBlpaWlXnBPP39i8rMoczN3d3eXv76/MzMxSxzMzM+Xr61viLurn\n",
       "5ebmKiMjQ7Vq1VLjxo1LjJ89e1YuLi5yc3NTYGCgpIuvzttsNrm6upY5lAMAAFRU337/s6KXzFbG\n",
       "13fKfd+TJcb9/KTwcOnJJ6UbbzShQQCA05x6XFrr1q21atUqHTx40CFcZ2dn69ChQ+rQocNFt929\n",
       "e7eGDh2qhx9+WHPmzHEYO3r0qDIzM9W8eXMZhqGAgADVqVNHu3fv1unTp3XjH/6r8/vvv+unn35S\n",
       "s2bNnDmUq/qGIzQ0VGlpaU7tDwAA4FI+256h/1ueoO9sK2Q3CuTavIFu+qGvjMKihYiGDaVnn5X6\n",
       "9ZP+e4UhAOAaatOmjRYtWlQu+yrzNeaS1KNHD0lSXFyc7Ha7pKKbt8XFxUmS+vXrd9Ft77vvPt10\n",
       "003asGGDw/POrVarYmNjZbPZNGjQoKImXVzUt29fnT17tsQzy+Pi4mS1WtW7d29nDgUAAKBCWLnp\n",
       "OzV/8Rk99k6wdhe8J7tRIEkquDFLZ5us+P/s3XmcjvX+x/HXfc9iZgwyokhFtnQop6SjjVOSpU0L\n",
       "ItkmdSQ6/SqKZEnrqWMrlSFZklEnKop2ndSRpfVkDhVFolO2YcZs9++POam7GSXD3LO8no9HD3w/\n",
       "32vmfVfMvF3XfV3Urw9jx8I770DPnpZySSoLinTGvGXLlnTo0IGFCxfSpUsXWrRowapVq1ixYgXt\n",
       "2rWjVatWe/dOmDCBQCCw9+ZtsbGxjBw5kkGDBtGrVy/at29PlSpVWLp0KV988QUdO3akU6dOe4+/\n",
       "9tprWbp0KampqaSlpXHyySfz4YcfsnLlSpo3b063bt2K8lIkSZIiavqryxn58njWBV8tdH5Y9gn8\n",
       "9boa3NYVfnHLHUlSKRcI/Xiq+wDl5OTw+OOP89xzz7F582Zq1arFxRdfTHJyMjExMXv3HX/88QQC\n",
       "AT777LOw41esWMGkSZP44IMPyMnJoW7dulx++eV7z5b/XGZmJo8//jgvvvgimzZt4ogjjqBjx45c\n",
       "f/31xfr+8h8vZS/OSxskSVLZk5cX4tGF73D36+PYFP1OoXsOzz6ZG08fyODLziMY9IZuknSoRaLv\n",
       "FbmYl0cWc0mSVBShELz6Ktw6cxYfHXFLoXtq5pzBbX8eyF86nmkhl6RiFIm+V6RL2SVJkrT/cnNh\n",
       "wQKYMAE+/RTyYjsS6DSSUEz63j3H5p3Lne0G0rPNqRFMKkkqThZzSZKkQyw7G557DiZOhLVrf1oP\n",
       "Zh1Gwn96sesPD9OQjtx98UA6ndEkckElSRFhMZckSTpEMjNhzhx45BH4+uuC86gouLLBdVzR9Qra\n",
       "nFy0R79Kkkovi7kkSdJBtns3zJgBjz4KmzcXnMfGQteu0L8/HHNMEpBU7BklSSWHxVySJOkg+WrL\n",
       "du6Z/j5vT2vDDz8UnMfHw9VXw7XXwpFHFn8+SVLJZDGXJEkqojUbvueGaZN5fesT5AUyqZb5LlHU\n",
       "2juvVAn69IFrroEkT45Lkn7BYi5JknSAPvh8E4NmPMrS9JnkBTMgKn999wmPUmn5KJKSoF8/6NUL\n",
       "KleOaFRJUglmMZckSfqdln76FX996mFW7JlDKJgFwfB5qM5r3NFxOD17RJOQEJmMkqTSw2IuSZK0\n",
       "nxavWMMtcyfwae5zhAK5BQp5fPbRXNVgAPf37Ezlin6bJUnaP37FkCRJ+g3vrtpO76duYU1gARCC\n",
       "QPg8Mas+fZvewF3dLyEhLiYiGSVJpZfFXJIkaR/efx/GjYPXXq/EDxesgcNCYfPDsppwffOBDOvS\n",
       "ntiYqAillCSVdhZzSZKknwmF4J//zC/kS5fmrwUIUvGTgWw/83oAqmc35//OHMT/dTqHYDDwKx9N\n",
       "kqTfZjGXJEkiv5C/8kp+IV+1quC8wvoLqdf8Tf56fmeubX+6hVySdNBYzCVJUrmWmwsvvggTJsC/\n",
       "/134nrZt4YYbojnllHHFG06SVC5YzCVJUrm0OzOb+c9F88gjAT7/vOA8EIALL4QbboA//KH480mS\n",
       "yg+LuSRJKle2pWdy87SnefrzR4h76yFivz0zbB4dDZddBgMGQL16EQopSSpXLOaSJKlc2LJ1F4Oe\n",
       "mMG8rx8lK2YLxEBuk3F7i3mFCtC1K/TvD0cfHeGwkqRyxWIuSZLKtPWbtzPwiaks2pJCdvRW+Nlj\n",
       "xrOOfIdg7eX0u6A5114LRxwRuZySpPLLYi5JksqktK//yw3THufNbdPIjUov8F1PdG5l2lTrw8T5\n",
       "9ahbMzIZJUkCi7kkSSpjVq75hkEzJ/HerqfIC2ZAVPg8JqcaF9Tsx9hePaldvXJkQkqS9DMWc0mS\n",
       "VCasWwcPPwyPfj2G3cc8B8HweYXsmlxR5y/8vXd3kirHRySjJEmFsZhLkqRSLS0t/xnk8+ZBXh7E\n",
       "HXZ9fjH/n4TsY+nRaAD39ricyhUrRDCpJEmFs5hLkqRS6aOPYNw4eOml8PWYbSdQYcP5xNb4gmtO\n",
       "HMjoqy4mLtZveSRJJZdfpSRJUqmybFl+IX/jjcLnTZtCn64PcVnHKkRHBQvfJElSCWIxlyRJJV4o\n",
       "BEuW5Bfy994rfE+LFjBwIPz5zxAIVC3egJIkFYHFXJIklVg5uXnc98wr/GN+FpvevLDQPWefDYMG\n",
       "wZ/+BIFAMQeUJOkgsJhLkqQSJys7lzufeoFHV41nR+xqgklHcniwLYG8n27edv75+WfI//jHCAaV\n",
       "JOkgsJhLkqQSIz0ji9umP8uTn01kV+yXEJu/npfwLRn15lJx7VVcfDHccAM0bhzZrJIkHSwWc0mS\n",
       "FHHb0jO56YnZzPniETJjNu4t5D8KhKJp2vIbpk2FevUik1GSpEPFYi5JkiLm2x/SufGJ6czf8BhZ\n",
       "Md9BTPg8mFeBFglXMrZ7f05tVDsyISVJOsQs5pIkqdht3QojJi/j0W97kRO9rWAhz03g7Co9GXd1\n",
       "P8zRjsEAACAASURBVJrUOSIyISVJKiYWc0mSVGy++w4efxymTYOdWceT2ykvbB6dU4XzDu/DhN7J\n",
       "1K3pI88kSeWDxVySJB1yGzfCpEnw1FOQmZm/FqQyCWm92dV0HDE51bio1rWM7d2TWtUqRTasJEnF\n",
       "zGIuSZIOmS+/hIkT4ZlnIDu74Py4bddwUu1q/L1Xd5Iqxxd/QEmSSgCLuSRJOuhWr4bx4+H55yEv\n",
       "r+C8Th0YMAAuvzyJ2NjkYs8nSVJJYjGXJEkHzeJ3NzL78aNYtKjwecOGMGgQXHghRPtdiCRJgMVc\n",
       "kiQdBCkvv8foV8axIfAOh/9zKVGEP9rsxBPzC/n550MwGKGQkiSVUBZzSZJ0QPLyQox//i3uf2sc\n",
       "m2P+BVH567tOmETl98cAcNpp+YW8VSsIBCIYVpKkEsxiLkmSfpec3DzuSV3MuGVj2RrzUYFnkGfW\n",
       "n835iTdzyw1V+dOfIpNRkqTSxGIuSZL2S2ZWDnc+9QKPfzCeHbFpBQo5wHGh87nrokF0aeUzyCVJ\n",
       "2l8Wc0mS9KsyMnO55clUnvxsArtj10HsLzaEgjQOXsR9l91AxxaNIxFRkqRSzWIuSZIKtXUrzJ4N\n",
       "U6YG+eSPU8ipui5sHghF0yzmCh7sej2tTjwuMiElSSoDLOaSJCnMmjUwZQrMnQsZGQABKsYMZPtZ\n",
       "1wEQzIvjtIRujOvxF05pcFREs0qSVBZYzCVJEnl58OabkJKS/+MvVfiqI3HbTqLl0Wcw/up+nHBs\n",
       "jeKOKElSmWUxlySpHNu1K//M+NSpsHZt4Xtq1ICePaO4uucCqiX5EHJJkg42i7kkSeXQ+2kbWDDn\n",
       "SJ5+KpodOwrfc9JJkJwMF14IsbEAlnJJkg4Fi7kkSeVEXl6IJ15ZxgOvprCGl6iy5HHidnQI2xMV\n",
       "BR065Bfy5s0hEIhQWEmSyhGLuSRJZdyOXXsY8fTzTP84ha2xH8P/yvbuxinEfZ1fzA87DLp3h169\n",
       "4Cjv5yZJUrGymEuSVEZ99tV33DprOq9umU5WzHcFnj+eXeM9ap70bwZdeQKXXw4JCZHJKUlSeWcx\n",
       "lySpjHnunU8Y9WIKH2fPIxTMgpiCe47J/TODzrqGAfccT3RU8WeUJEk/sZhLklQG5ObCyy+H+Msr\n",
       "PdgY+3r+4i/u1RbMi+fU+M6MvrQv5/6xfvGHlCRJhbKYS5JUim3fDrNnwxNPwNdfB9hx2lHQIHxP\n",
       "XPZRXFS7D/dedSXHHnFYZIJKkqR9sphLklQKff55/rPH58yB3bt/Wk9Y3ZeMBjMAOCL7NPo1T2bI\n",
       "FecTF+uXfEmSSiq/SkuSVEqEQrBkCaSkwGuvFb4nfndDzmYYAy46i8vObFq8ASVJ0gGxmEuSVMJl\n",
       "ZMAzz8CUKfCf/xS+5/DDoWdP6NEDatToX7wBJUlSkVjMJUkqoVau+YbBT0/jq+eS2fltjUL3NGkC\n",
       "yclw8cVQoUIxB5QkSQeFxVySpBIkFIKZr6/g3kUppIVeJBTIpWKNCiR++3979wSDcP75cM01cNpp\n",
       "EAhEMLAkSSoyi7kkSSVAekYWo+cs4IkPU/g+ZlX+4v8Kd0bD6VT8ZACVK1agWzfo3RuOOSZyWSVJ\n",
       "0sFlMZckKYLWbvyBW2fN4OVNT7In5luIKbgnPliJG4dv4Ppu9UhMLP6MkiTp0LKYS5IUAQv+tZo7\n",
       "56fwYdY/yAtmFlrIj8o5mwGnJ3NTp3OIjgoWf0hJklQsLOaSJBWT3Nz8x5xNTgnxfFI/ciqvhV/0\n",
       "7WBePH+scBkjL+lL+1MbRSaoJEkqVhZzSZIOsZ07Yc4cmDoV1q0DCBDfqDc7Tx26d09cdi061OrF\n",
       "/Vd1p27NqpGKKkmSIsBiLknSIbJuXX4Zf/ppSE8Pn8V93pn0k+7j8EBD+vyxL8M6dyAhrpDr2SVJ\n",
       "UplnMZck6SAKheCdd2DKFFi8OP/XvxQdDRdeWJGLu7xB25Y1iz+kJEkqUSzmkiQdBNvSM1n4fAWm\n",
       "TAnw2WeF70lKgh494OqroWZNAEu5JEmymEuSVCQfffEtQ2ZP5/Xvp5P4+hRit5xWYE/jxpCcDJ06\n",
       "QVxcBEJKkqQSzWIuSdIBePrNDxjzUgqf5T1PKJAD0bD7+JS9xTwQgLZtoW9fOOOM/F9LkiQVxmIu\n",
       "SdJ+2p2ZzZjUl5iyKoXvYpbnL/6scO85+iUq1PiaHhcdTe/eULduZHJKkqTSxWIuSdJv+HLTVm6d\n",
       "OYuF30wjM+YbKOTm6QnZx9CpTl/ue60qNasVf0ZJklR6WcwlSdqHtLQQPacPZcWeOeQFMwot5DVz\n",
       "zqD/n5K5uVMbYmOiij+kJEkq9SzmkiT9TF4evPEGTJ4MS5YE2Hb2d+QdkxG2J5hXgZNiL2X4hX24\n",
       "qOUfIpRUkiSVFRZzSZKAXbsgNRWmToXPP/9pPWF1MnuOWQBAbE4N2h3Ri/u796BBba9XlyRJB4fF\n",
       "XJJUrn39NTzxBDz1FOzYUXAes6UFR+/oQufTzmJ41wtIjI8t/pCSJKlMs5hLksqdUAj+9S9ISYGX\n",
       "X86/fP2XoqKgY0fo2zdA8+Z/93FnkiTpkLGYS5LKjR279jBi9gt8+Gx7PvuwYqF7DjsMuneH3r2h\n",
       "Vq1iDihJksoli7kkqcz79/rvGPzUdF7dMp2smO+olHE3CfQK29OgASQnw2WXQUJCZHJKkqTyyWIu\n",
       "SSqznv3nx4xekMIn2fMJBbP2Pu5s9/FTiP/P1QQIcu65+YX87LPxcnVJkhQRFnNJUpmyJyuXe+Yu\n",
       "4vHlk9kc86/8xWD4nlDFTVzcey239GlIvXrFn1GSJOnnLOaSpDLhqy3bGTxzNi98PZWMmA17z47/\n",
       "XHx2bS46ug/3XnUlx9SoUvwhJUmSCmExlySVap9/DilTQvx9e3uyK64rtJAfkX0a1556DYMvb0tc\n",
       "rF/6JElSyeJ3J5KkUicUgiVLYPJkeP11gACxJ15G9okP7t0TyIulacwlDL8gmU5nNIlYVkmSpN9i\n",
       "MZcklRq7d8Mzz8CUKbBmTfgs/j9Xs7vJBGLyKtOmek/u7341jY+pHpmgkiRJv4PFXJJU4m3cCNOm\n",
       "waxZsG1b4XuaNahOq6apDLj8JCpXrFCs+SRJkorCYi5JKpFCIVi+HFJSYOFCyM0tuCcYhHbt8h93\n",
       "dtppEAi0KP6gkiRJRWQxlySVKOkZWYx+egFPfJgCi/5O9PaGBfZUrgzdukHv3nD00REIKUmSdBBZ\n",
       "zCVJJcKaDd9z66wZLPr2SfbEbIZYiD9+CpX/dd/ePfXqQZ8+0LkzVKwYwbCSJEkHkcVckhRRz7/7\n",
       "b0a+MIWPsv5BXnBP2OPOMus+Q+KqIfy5ZVWSk+HPf86/fF2SJKksKXIxz8nJYebMmaSmprJx40aq\n",
       "V6/OpZdeSr9+/YiO/u0P361bN1auXFnobMSIEXTt2nWfxw4cOJDFixfz+uuvU6tWrQN+DZKk4pWV\n",
       "ncvf/vEaj/xrMpui38lf/EXhDubFc3LC5Yx9PpuWJxZ/RkmSpOJS5GI+atQoUlNTad68OW3atGHF\n",
       "ihWMHz+e1atXM378+N88Pi0tjeOOO44OHToUmDVt2nSfxy1atIjFixcTCASKlF+SVHx27AgxYOoU\n",
       "nls/hd0x6wv9KhSXXYuOR/Xmvu7dqFuzavGHlCRJKmZFKuYrV64kNTWVdu3aMXbs2L3rQ4YMYd68\n",
       "ebz55pu0bt16n8dv2LCBXbt20apVKwYMGLDfn3fbtm2MGjWqKNElScXoyy9h6lSYMyfAV6cvJLvG\n",
       "+gJ7amSfSp+T+zL0ivYkxMUU8lEkSZLKpiK9U2/WrFkABUr1TTfdRCAQYO7cub96fFpaGgCNGjX6\n",
       "XZ/3nnvuIScnh2bNmhEKhX7XsZKk4hEKwdtvQ69ecOaZMGUKpKdDwmfJe/cEQtH8IXgpT3VcyKa/\n",
       "z2dMj4ss5ZIkqdwp0hnz5cuXk5SURP369cPWa9SowbHHHsvy5ct/9fgDKeZLlixh/vz53HvvvSxe\n",
       "vPj3h5YkHVKZmfCPf+Q/f3z16oLzChvOJ2FHM846ujX3Xnk1Jx53ZPGHlCRJKkEOuJhnZWWxefNm\n",
       "mjVrVuj8qKOOYt26dWzdupWqVQt/j2BaWhqBQIDly5dz++23s27dOipXrsz555/PwIEDSUxMDNuf\n",
       "np7O8OHDOeOMM7jkkkss5pJUgmzaBE8+CTNnwg8/FL6ncWO45pooLr54AfHx3iNEkiQJilDMt23b\n",
       "BkClSpUKnf+4np6e/qvFPBQKMX78eNq1a0eLFi1YtmwZ06dP591332X27Nlh5fyBBx5g+/btjBw5\n",
       "8kBjS5IOsqff/IA3Uv/ASy/GkJNTcB4IQNu2kJwMp5+e/2uwlEuSJP3ogIt5zv+++4qNjS10/uP6\n",
       "nj17Cp2HQiGqVKnCCSecwKOPPkqNGjX2ro8YMYI5c+YwceJEhgwZAsCyZctITU1l8ODB1K5d+0Bj\n",
       "S5IOgt2Z2dyVupApq1L4b8wKqqx6lLici8L2JCZC167Qpw/UqROZnJIkSaXBARfzuLg4ALKzswud\n",
       "Z2VlARAfH1/oPBAIMGfOnELXBw8ezPz581mwYAFDhgwhMzOTYcOG0aRJE3r27HmgkX/V770BnSSV\n",
       "R19u2sqtM2ex4Jsn2BOzCf53n7bdx6cQtz6/mNepk1/Gu3SBfVxUJUmSVOItW7Zsv3vij/dPO1AH\n",
       "XMwTExMJBALs3Lmz0PnOnTsJBAL7vNT91yQkJFCnTh3S0tLIyspi3LhxfPPNN0yYMKHQ55Z7Z3ZJ\n",
       "OrReej+NO+dNYdWeZ8kLZuwt5D/Krr6ck875D3+9uiHnngtRUZHJKUmSVBodcDGPjY2lVq1abNiw\n",
       "odD5hg0bSEpKonLlyoXO09PTWbt2LYcddhh1CrnGMTMzk2AwSHR0NIsWLSInJ4eLL7640I917rnn\n",
       "ArC6sNv/7qff8zccPXr0YNmyZQf8uSSpNMjJzeOh515n4tIUNkYvyV/8xUM2g3kVOCn2UoZf1JeL\n",
       "/tSw+ENKkiQdIi1atGDGjBnF8rmK9Li05s2bM3/+fNatWxdWrjdv3sz69es555xz9nnsxx9/TO/e\n",
       "vfnzn//MpEmTwmZbtmxhw4YNNG7cmGAwSM+ePQs9M79gwQK+/PJLevbseUBn5iVJBaWnw5zUPG5e\n",
       "1Z4d8R8X+pWiQvaRtKvZk/u6XUWD2tWKP6QkSVIZUqRifskllzB//nweeughxo0bRyAQIBQK8dBD\n",
       "DwHQpUuXfR57yimnUK1aNZYsWcLy5ctp3rw5kP/e9NGjR5OTk0P37t0B9vm+8n//+997i3mtWrWK\n",
       "8lIkqdz76it44gl46inYuTNI9qnNodHHYXuqZf2RPs2uYViXDiTGF37zT0mSJP0+RSrmLVu2pEOH\n",
       "DixcuJAuXbrQokULVq1axYoVK2jXrh2tWrXau/fH94cPGDAAyL8UfuTIkQwaNIhevXrRvn17qlSp\n",
       "wtKlS/niiy/o2LEjnTp1KtqrkyT9qlAI3nsPUlJg0SLIy/tplpDWh4xGTxAIRdEoeAFD2iZz1Tmn\n",
       "UMitPiRJklQERSrmAPfffz/169fnueeeY/r06dSqVYtBgwaRnJwctu/hhx8OK+YAbdq0Yfr06Uya\n",
       "NIk33niDnJwc6tatyx133LH3bPmvCQQChd4MTpL06zIzYf78/EL+6aeF7zk8WI9zKj/ErV3O5uQG\n",
       "XpUkSZJ0qBS5mEdHR9O/f3/69+//q/v2dWO2U045hZSUlAP63A8//PABHSdJ5dWWLTB9Ojz5JHz/\n",
       "feF7GjaE5GS47DKIj+9avAElSZLKoSIXc0lSyffM2x9x14Ip/HfeEPJ21Cx0T5s2+YX8rLPwcnVJ\n",
       "kqRiZDGXpDIqMyuHe+Yu4vHlk9kSk/+Ix4p1a5H44eC9exISoGtX6N0b6tWLVFJJkqTyzWIuSWXM\n",
       "+s3bGDxzNi9smEpmzEaI+WmW0XAGFT8ZxDG14ujTJ7+UV6kSuaySJEmymEtSmfHaqs+54x9TeD9j\n",
       "DnnBjLBC/qPqwYbcO+E7ul94NFFRxZ9RkiRJBVnMJakUy8sLMf75JYx7ezJfRb2evxgM3xPIi6Vp\n",
       "zCUMvyCZTmc0Kf6QkiRJ+lUWc0kqhXbvhmeegckpsKzxneRU+U+BPbHZ1TmvRk/u696DxsdUj0BK\n",
       "SZIk7Q+LuSSVIhs3wrRpMHMmbN8OECA+kMzO027du6dqVlN6Nr2GO7teSOWKFSIVVZIkSfvJYi5J\n",
       "JVwoBMuXw+TJ8NJLkJsbPo//4jJ2NbuPerF/4tY219DrvFMJBn3emSRJUmlhMZekEiorC154Ib+Q\n",
       "f/RR4XsqV4bu3ePp3P09Gh1XsXgDSpIk6aCwmEtSCbNmww+8kFqV6dMDbNlS+J769aFPH7jiCqhY\n",
       "EcBSLkmSVFpZzCWphJi/9FNGvTiFj7Keo8rrM4jdcmaBPa1bQ3Jy/o/BYIGxJEmSSiGLuSRFUFZ2\n",
       "Lvc/+wqPLkthU/TS/MUg7D5+CrHf5hfz+Pj8M+N9+0KDBhEMK0mSpEPCYi5JEbDhux0MmfU089ZP\n",
       "JSPmqwJ/Gu+pvZjD66/juq51uPJKqFo1MjklSZJ06FnMJakYvfnhFwx7dirLds0hN2oXxBTcUyO7\n",
       "Bdecksztd9UmLrb4M0qSJKl4Wcwl6RALhWDJ23n0fT6ZL4OLgBBEhe8JhGI4IeoihnVIpvPZJ0Uk\n",
       "pyRJkiLDYi5Jh0hmJjz7LKSkQFpakO1nVoA6obA9MTlJnFutJ/deeTVNjzsiQkklSZIUSRZzSTrI\n",
       "vvkGnnwSZs2CH374aT1hdTKZdeYDUCXrBK46IZlR3S7hsMS4CCWVJElSSWAxl6SDZOXK/LPjL74I\n",
       "OTkF57Hfn8JJWf3pd9459GvfkmAwUPwhJUmSVOJYzCWpCLKzYeFCmDw5v5gXJjERrrwSeveGOnWG\n",
       "FW9ASZIklXgWc0k6AF9u2sqtM59izdyr2bKhUqF76tTJf/Z4585QqfAtkiRJksVckn6Pl5alMXx+\n",
       "Ch/seZa8YCaVEiuQQHLYnrPOyi/k554LUVH7+ECSJEnS/1jMJek35OTm8bd/vMYj705hY/SS/MVg\n",
       "/g+7G00lPq038RWiuPTS/ELeuHHkskqSJKn0sZhL0j58+0M6t81M5dkvprIr9otC/8SMjsuk381f\n",
       "MahnXZKSij+jJEmSSj+LuST9wtJPv+L2uVNZunM2uVE7IbbgnmrZJ9O3WTJ3dOlIQlxM8YeUJElS\n",
       "mWExlyQgFIJ334XJKXnMir+M3Iob4RfvDw+Eojg+eCFD2vblqnNPiUxQSZIklTkWc0nlWmYmzJsH\n",
       "U6bAp58CBIlv0oP0Zvfu3ROTU5VWSVdxT5eenNygVsSySpIkqWyymEsqlzZvhunT8//5/vvwWfya\n",
       "q9jVdCyJucfQ7fhruKvbpSRVjo9MUEmSJJV5FnNJ5cqHH0JKCjz/PGRnF76n7VlJtGu7iK7n1ScY\n",
       "DBRvQEmSJJU7FnNJZd6erFwWL4piyhRYtqzwPQkJ0LUr9O4N9eoBNCjOiJIkSSrHLOaSyqwvN23l\n",
       "tqdm88KGJ0hY9CQx204osOfoo6FPn/xSXqVKBEJKkiSp3LOYSypzXlmxhjuem8KKzLnkBTMgBgLH\n",
       "TyHmvQf37mnZEpKToW1biIr6lQ8mSZIkHWIWc0llQk5uHuPmv8WEdybzddSb+YvBn+aZdf9B1U9v\n",
       "5/IO1ejbF5o0iUhMSZIkqQCLuaRS7bttu7lt5lzmrp1CeuzaAs8eB4jNrkHbI67modeiqVe7+DNK\n",
       "kiRJv8ZiLqlU+urrPPo8cTdvb5tFTvR2iC24p2rWifQ68Rru7HohlRIK2SBJkiSVABZzSaVGKATv\n",
       "v5//uLOFC4N8f87H5By5/RebgjQMdGRwm2SubtPcx51JkiSpxLOYSyoVXn8d7r8fPvrop7WE1X3J\n",
       "OvJtAKJzqnDWYVdxT5denNroqAillCRJkn4/i7mkEm39ehgxAhYtKjiL3dCGw3ecy8VNz+Puqy7n\n",
       "8CoJxZ5PkiRJKiqLuaQSKTMTHn4YJk6EPXsKzlu3hmuuCdKq1QyCwYJzSZIkqbSwmEsqUUIhWLwY\n",
       "hg+Hr78OnwUC0KUL/OUv0KBBZPJJkiRJB5vFXFKJ8daHX/Lg2ByWLyrYups1g7vvzv9RkiRJKkss\n",
       "5pIi7r/bd9NjwgRe2TaJaE6kKvMIkH99elIS3H47dO2Kl6xLkiSpTLKYS4qYvLwQI2cv5G/LR5AZ\n",
       "sxGCkF19OZn15lLxyy5cfTXccgtUrRrppJIkSdKhYzGXFBGvrFhD31l3sDF6CcSEzyo3W8yCSV1o\n",
       "0iQy2SRJkqTiZDGXVKy+/SGd7hPH8tbOxwlF54TNYrOr85cmw3ig1+VERUUooCRJklTMLOaSikVe\n",
       "XoihM+Yz7oNR7In5FgI/zQKhKE5P6MNTt/wftatXjlxISZIkKQIs5pIOuQ8/yaLDlO58G/NOgcvW\n",
       "j8xuyeNdx9DxtOMjE06SJEmKMO9xLOmQ2bEj/3nkF7SPZftXR4fNKmQfya1/mMTXDz5jKZckSVK5\n",
       "5hlzSQddXh488wzcdRf897/5a4mrbifz6IUQs5vWlfoxc8CNHJmUGNmgkiRJUglgMZd0UH3yCQwd\n",
       "Cu+/H74ezDycM3aMZ9j1dTnvlAaRCSdJkiSVQBZzSQfF1q3wwAMwfXr+GfOfO+oouPNO6NixLYFA\n",
       "4cdLkiRJ5ZXFXFKR5OXB00/D3XfDDz+Ez2Jj4brrYOBASEiITD5JkiSppLOYSzpgb7+/nXvurMIH\n",
       "HxScnXMOjBoFxx1X/LkkSZKk0sRiLul3+/ybH+j68D18kP4y1f69hCBV986OPhpGj4bzzsPL1iVJ\n",
       "kqT94OPSJO23rOxcrnn4SU7425mszJ5FXoXvSW92HwAVKsD//R+89Ra0bWsplyRJkvaXZ8wl7Zfp\n",
       "ry7npheHsjX247A/OTIazqBd9Wt5cFhdjj02cvkkSZKk0spiLulXffbVd3SbNIaPclMhNnxWMasu\n",
       "w88azc2X1Y1MOEmSJKkMsJhLKlRmVg7XTnqS2esfIDd6R9gsmBfPRTUG8cT111K5YoUIJZQkSZLK\n",
       "Bou5pAKmvLyMm1++jR2xnxX4U6IhFzCj3500b3hUZMJJkiRJZYzFXNJe336bf0f1WZ+ksfO0z8Jm\n",
       "iVn1ueucMdxw0VkRSidJkiSVTRZzSWRlwZQp8NBDsGsXxAe6kdFgJjlJHxOVW5FLa91ESv++JMbH\n",
       "/vYHkyRJkvS7WMylcu7tt2HoUFi79qe1QCiKysvu5oj2U5jZ/w6a1asZuYCSJElSGWcxl8qpb76B\n",
       "kSPhhRcKzo4/HsaMOYWWLU8p/mCSJElSOWMxl8qZPXvg8cdh7FjIyAifVaoEt9wCPXtCTExk8kmS\n",
       "JEnljcVcKkfeeAPuuAO++KLgrHNnuP12qFGj+HNJkiRJ5ZnFXCoH3vv311w9dQRbF19PzH9PDps1\n",
       "aQJjxsCpp0YonCRJklTOWcylMmxbeiZXT3iEl76fSF4wk5gWG6n60gICoSiqVIHBg6FHD4iKinRS\n",
       "SZIkqfyymEtlUCgE985dzJh3h5MR8xUE89ezkz4is/5s+p56FbfdBtWqRTanJEmSJIu5VOYs+ehL\n",
       "ej15J+ujXoVf3MAtKasZE0Y2oWvriESTJEmSVAiLuVRG/LAjg+4TxvPK1kmEorLCZjE5SfRteDvj\n",
       "rulKdFQwQgklSZIkFcZiLpVyeXkhRs1+iQeW30lmzMa9l60DEApyWtzVzPrrLdStWTViGSVJkiTt\n",
       "m8VcKsXWroVBIz/n5ZrXQEwobFY9uzmPXHY3l57ZJELpJEmSJO0Pr2mVSqH0dLjrLjjnHFj1Wn3i\n",
       "11y1dxabczgDG45lw9/mWcolSZKkUsAz5lIpEgrB88/DyJHw7bc/rSeuGkLWMS/xp8MuYdb1N3N0\n",
       "jcqRCylJkiTpd7GYS6XE6tUwbBgsXVpwdvrJVbmt71JOPTGx+INJkiRJKhKLuVTC7dgBDz4IU6dC\n",
       "bm747IgjYPhwuOQSCAQs5ZIkSVJpZDGXSqhQCJ55Jv+95N99Fz6LjoZrroEbb4RKlSKTT5IkSdLB\n",
       "YTGXSqDn3vmE+x/dwPrX2hWYnXVWfllv0CACwSRJkiQddBZzqQRZv3kb3R5+gPcyniRQrRKHVziV\n",
       "4J5qANSqBXfeCRdcAIFAhINKkiRJOmh8XJpUAuTk5nHDY7NpdN+ZvJf5BATyCMVuJ/2PdxMTAzfc\n",
       "AEuWwIUXWsolSZKkssYz5lKEpS75kAHPDeX7mJUFfkdWr7uFl+/LoVEDf6tKkiRJZZXf7UsR8sU3\n",
       "W+n68D2syJ4FMaGwWXz20dz2p1HcdkVbgkFPkUuSJEllmcVcKmZZ2bkMeHwW0z+/j+zorWGzYF4F\n",
       "2lUbwIwbruewxLgIJZQkSZJUnCzmUjFavhwumtaTzQmvF/jdd1ze+UzrPYIz/nBsZMJJkiRJighv\n",
       "/iYVg//+F266CS66CDI+vCBslpBVh3tPm8Gavz1hKZckSZLKIc+YS4dQTg48+SQ88ADs2JG/Fvd5\n",
       "ZzIazCQ36TMurDGIqf37edm6JEmSVI5ZzKVD5L33YOhQ+Oyz8PUAQS6KHcut/eJp3vCoyISTJEmS\n",
       "VGIclGKek5PDzJkzSU1NZePGjVSvXp1LL72Ufv36ER3925+iW7durFy5stDZiBEj6Nq1695fr1u3\n",
       "jokTJ/Luu++yfft2Dj/8cFq3bs3AgQNJSko6GC9HKpLNm2H0aPjHPwrO6teHu+6Cs8+uX/zBJEmS\n",
       "JJVIB6WYjxo1itTUVJo3b06bNm1YsWIF48ePZ/Xq1YwfP/43j09LS+O4446jQ4cOBWZNmzbd+/O1\n",
       "a9fStWtXdu/ezbnnnssxxxzDJ598wtNPP80///lP5s6dS9WqVQ/GS5J+t+xsmDIFHnwQdu0KnyUk\n",
       "5L/HPDkZYmMjk0+SJElSyVTkYr5y5UpSU1Np164dY8eO3bs+ZMgQ5s2bx5tvvknr1q33efyGDRvY\n",
       "tWsXrVq1YsCAAb/6ue655x7S09OZOHEibdq02bs+adIkxo0bx8MPP8ywYcOK+pKk3+2pxf/hKrfG\n",
       "LwAAIABJREFUsTENWbOm4OySS+COO6BmzeLPJUmSJKnkK/Jd2WfNmgVQoFTfdNNNBAIB5s6d+6vH\n",
       "p6WlAdCoUaNf3Zeens57771HkyZNwko5QL9+/YiNjeXtt9/+vfGlIlm55htOuPU6erzamk+3LQub\n",
       "NWoEzzwDjzxiKZckSZK0b0U+Y758+XKSkpKoXz/8PbM1atTg2GOPZfny5b96/P4Wc4BbbrmF6tWr\n",
       "F1gPBoNERUWxe/fu35FcOnA7du2h7yOTmbf57+QFMwDY2WIoSQtfpnJiFDffDL16QUxMZHNKkiRJ\n",
       "KvmKVMyzsrLYvHkzzZo1K3R+1FFHsW7dOrZu3brP936npaURCARYvnw5t99+O+vWraNy5cqcf/75\n",
       "DBw4kMTERAASExPp1atXoR/jnXfeISMjgz/+8Y9FeTnSfhk7703ufPMO0mM/D7vmJKfqp5zR9R0e\n",
       "GXw2NWpELp8kSZKk0qVIl7Jv27YNgEqVKhU6/3E9PT19nx8jLS2NUCjE+PHjadKkCZ07dyYpKYnp\n",
       "06dz5ZVX/uqxABkZGdx7770AdO7c+UBehrRf/vXZ1zS8pS//t7Rbfin/mcOymjD1vPk886ClXJIk\n",
       "SdLvU6Qz5jk5OQDE7uM20z+u79mzp9B5KBSiSpUqnHDCCTz66KPU+F+jCYVCjBgxgjlz5jBx4kSG\n",
       "DBlS6PFZWVkMGjSItWvX0qZNG9q1a1eUlyMValt6Jj0nTmLhfyeQF8wMm0XnVOGquoN55NoeVIiN\n",
       "ilBCSZIkSaVZkYp5XFwcANnZ2YXOs7KyAIiPjy90HggEmDNnTqHrgwcPZv78+SxYsKDQYr57925u\n",
       "uOEG3nnnHU488UTuv//+A30ZwP69x13lz/hnlzH07RvZHbvuF9eXBPhj9JXMHngbDWpXi1A6SZIk\n",
       "SYfKsmXL9rsn/njvtANVpGKemJhIIBBg586dhc537txJIBDY56XuvyYhIYE6deqQlpZGVlZW2Fn5\n",
       "H374gX79+vHJJ5/QrFkzUlJSSEhIOODXIf3SunUwfDi8tKIiuzt8FTZLyj6J8RffzZWtvaeBJEmS\n",
       "pKIrUjGPjY2lVq1abNiwodD5hg0bSEpKonLlyoXO09PTWbt2LYcddhh16tQpMM/MzCQYDBLzs1tb\n",
       "b9y4kT59+rB+/XrOPPNMJk6cuPfMfVH8nr/h6NGjB8uWLfvtjSp1MjJgwoT8R5xlZUEMfyDhP73Y\n",
       "3WgqMTlJ9G5wG+OSuxIb42XrkiRJUlnWokULZsyYUSyfq8jPMW/evDnfffcd69atC1vfvHkz69ev\n",
       "56STTtrnsR9//DFdu3blvvvuKzDbsmULGzZsoHHjxgQCASD/TPmPpbxjx4489thjB6WUS6EQLFwI\n",
       "Z58NY8fml/IfJX54C6fHXsdnt7zNpL90t5RLkiRJOqiKXMwvueQSAB566CFCoRCQf/O2hx56CIAu\n",
       "Xbrs89hTTjmFatWqsWTJkrDnnWdlZTF69GhycnLo3r373vXhw4ezfv162rZty4MPPkhUlAVJRff5\n",
       "59CtGyQnw8aN4bNTToHFL1Th7buGU7dm4Y/8kyRJkqSiKNKl7AAtW7akQ4cOLFy4kC5dutCiRQtW\n",
       "rVrFihUraNeuHa1atdq7d8KECQQCAQYMGADkXwo/cuRIBg0aRK9evWjfvj1VqlRh6dKlfPHFF3Ts\n",
       "2JFOnToB8Omnn/Lqq68SCASoVasWEyZMKJClQoUK9OvXr6gvSeXErl35Z8cffxx+ef/CatVg2DC4\n",
       "4goIFvmvryRJkiRp34pczAHuv/9+6tevz3PPPcf06dOpVasWgwYNIjk5OWzfww8/HFbMAdq0acP0\n",
       "6dOZNGkSb7zxBjk5OdStW5c77rgj7Gz5z8+oT5s2rdAclStXtpjrN+XlhZj3fB5jRkexaVP4LBiE\n",
       "3r3h5puhSpXI5JMkSZJUvgRCP15/rv32483fivNmADo4Xno/jWtmDyP9g7YkrL4mbHbaaTBmDJxw\n",
       "QoTCSZIkSYq4SPS9g3LGXCrpvvl+J90mPMQ/d00hFJ1D4KSPqLDuYqIya1CjRv6j0Tp1gv/dZ1CS\n",
       "JEmSio3FXGVaXl6IwdP+wcSPR5MVswX+V7xDMTvZfcrd3NJ0LH/9K1SqFNmckiRJksovi7nKrPlL\n",
       "P+W6uUPZErMMYsJntXLOJGVwf85vHplskiRJkvQji7nKnK+2bKfbxAd4N2MaxOSFzeKya3HTyXcy\n",
       "svsFBINety5JkiQp8izmKjNycvO4aUoqj68eQ3b093svWwcIhGI4t8p1zLh+IDWqVoxcSEmSJEn6\n",
       "BYu5yoQPP4TBd+zmtWPvJS/++7DZ0bmtmdpjNOc0qxehdJIkSZK0b8FIB5CKYutWGDwYOnSAj5Yn\n",
       "krjyjr2z+KyjGXXyE3zxwCxLuSRJkqQSyzPmKpVyc+Gpp+Dee/PL+Y/ivryUrAZz+XOj5swYMICq\n",
       "leIiF1KSJEmS9oPFXKXOihUwdCh89FHB2fltA9x552zq1vXGbpIkSZJKB4u5So3//hfuvhuefrrg\n",
       "rE4dGDUK2rSBsLu+SZIkSVIJZzFXiZeTAzNmwP33w/bt4bP4eLjhBrjuOojzqnVJkiRJpZDFXCXa\n",
       "tMXvM2bWm+x65ZYCsw4dYMQIqF27+HNJkiRJ0sFiMVeJ9MmXm+n+2Bg+yXsGjoCqR5xB7ObTAahf\n",
       "H0aPhlatIhxSkiRJkg4Ci7lKlN2Z2fSb9ASpG/5GblT63vWdpw6l9huL+b+/xpCcDLGxEQwpSZIk\n",
       "SQeRxVwlxqQF73DbK8PYGZsGUeGz+lWP59lXdnN8nSqRCSdJkiRJh4jFXBG3cs039EgZzerQfPjF\n",
       "mfBKWQ2557wx/KXjGZEJJ0mSJEmHmMVcEZOekUWfhyfz3Ka/kxe1O2wWlZtI56Nv5vHrepMQFxOh\n",
       "hJIkSZJ06FnMFRFvvQXdnryNbw+fXeCy9SbBy5nVfyhN6hwRmXCSJEmSVIyCkQ6g8mXDBkhOhiuv\n",
       "hOx3r4W8n/5uqErWCaS0mceH9463lEuSJEkqNzxjrmKRmQmTJsHEiZCRkb8Wvb0hCWl9yWrwNN3r\n",
       "3soj1/YgLtb/JSVJkiSVL7YgHXKvvgrDh8O6dQVnvRrexIAbr6fR0YcXey5JkiRJKgks5jpk1q2D\n",
       "O++EV14pODvxRLj7bjj55EpApeKOJkmSJEklhsVcB11GRv4l6488Anv2hM+qVoXbbst/j3lUVOHH\n",
       "S5IkSVJ5YjHXQZOXF+K+1Nd59u9n8c3X4Q8kDwSgRw8YPDi/nEuSJEmS8lnMdVC8/sHn9JlxB19H\n",
       "vUlipWFUpP/e2ckn51+2fuKJEQwoSZIkSSWUxVxF8t223XSfMJbXdzxGKCobgF0nPkTcuk7UiK/J\n",
       "0KHQuTMEfTCfJEmSJBXKYq4DkpcX4o5ZLzB25SgyY76BwE+zUFQmZ175T6befAVVqkQuoyRJkiSV\n",
       "BhZz/W6Llv+H5KeG8U30PyEmfFYjuwWPdb6bi1qeEJlwkiRJklTKWMy13775fifdJz7E2+lTCEXn\n",
       "hM1is2tww4nDubdnJ4LBwD4+giRJkiTplyzm+k2hEIyd/TG3L+9BVvSWsMvWA6EozkpMZtaAm6hV\n",
       "zeeRS5IkSdLvZTHXr/r3v2HoUHh3xXHkXBQV9n9MzZwzmHzlXbQ/tVHkAkqSJElSKee9slWo7dth\n",
       "2DBo2xb+9S8I5lSk0orhAFTIrsmQpo/y1d9SLeWSJEmSVESeMVeYvDxITYUxY+D778Nnid9cxLmV\n",
       "d/Dw9ZdSo2rFyASUJEmSpDLGYq69Pvoo/7L1FSsKzlq1grvuClCvXo/iDyZJkiRJZZjFXGzdCvfd\n",
       "BzNm5N/o7edq14aRI6FdOwh4s3VJkiRJOugs5uVYVnYuT87exbj7K/PDD+GzChWgf38YMADi4yOT\n",
       "T5IkSZLKA4t5OfXUG6sY9Pzt7NpUm8N+mBw2O++8/LPkdepEJpskSZIklScW83JmzYbvufKRu1mV\n",
       "MxtigGM+ZE/NJVTYdDbHHgujRuUXc0mSJElS8bCYlxOZWTn0f2wGs768n5zo7WGz3c3vYmijRfTv\n",
       "HyAuLkIBJUmSJKmcspiXA0++8j43LbidbbGfFvgvXi/Unhk3juC0xt7ZTZIkSZIiwWJehn26bgvd\n",
       "Hx3Dx3lzITZ8lphVj5GtR3PjJa0jkk2SJEmSlM9iXgbtycqj7yMppH79N3Kj0sNmwdwEOtX8Kyl/\n",
       "SaZyxQoRSihJkiRJ+pHFvIxZuhRuHxrgX7XfILdmeCk/PnARM64bzskNakUonSRJkiTpl4KRDqCD\n",
       "Y9Om/OeOX345/CctQKX37yKQFwNApayGTDg7lU/ve9RSLkmSJEkljGfMS7msLEhJgYcegt27f1qP\n",
       "3lGPqml/pe05cUz+S18S4mIiF1KSJEmStE8W81JsyRIYNgzWri04u+wyGDbsRo44ovhzSZIkSZL2\n",
       "n8W8FNq4EUaMgAULCs5OOAHGjIHTTiv2WJIkSZKkA2AxL0UyM+Gxx2D8eMjICJ9Vrgy33gpXXw3R\n",
       "/leVJEmSpFLDCldKPPDsa9z3yhRiFkwlkBsXNrvySrjtNjj88AiFkyRJkiQdMIt5CffOp+vp+cSd\n",
       "fBlcDJUh8YRHqfjxjQA0bQp33w2nnBLhkJIkSZKkA2YxL6G2pWdy1YSJLPr+YfKCe/au7/rDBI74\n",
       "/nLuGFSbbt0gKiqCISVJkiRJRWYxL2Hy8kLcnbqIe/91JxkxX//iSfMBTkm4jKdfqEjdmpFKKEmS\n",
       "JEk6mCzmJcibH35Br+l38HXUG/CLx44fnn0yEzqNofPZJ0UmnCRJkiTpkLCYlwD/3b6b7hPG8dq2\n",
       "xwhFZYXNYnKS6Hf8MB7q25noqOA+PoIkSZIkqbSymEdQKAQvvgjXPzmVjcdNCL9sPRSkZXwvZl1/\n",
       "M8cecVjEMkqSJEmSDi2LeYSsWQPDhsHbb0Moqi9RRzxJbsWNANTIbsGkK+7iktObRDilJEmSJOlQ\n",
       "s5gXs/R0+PvfYfJkyMnJXwvkxpO4fCQZp99G/yZ38EDvywgGA5ENKkmSJEkqFhbzYhIKwbx5MGoU\n",
       "bN4cPouKgoEd2nPdDa04MqliZAJKkiRJkiLCYl4MPvsMhg6F994rODv9dBgzBho1CgCWckmSJEkq\n",
       "byzmh9D27fC3v8G0aZCbGz6rWROGD4eLLoKAV61LkiRJUrllMT8EcnLzuHnqM7w85TR2fHVs2Cwm\n",
       "Bvr1gxtvhIqeIJckSZKkcs9ifpA9+8+Puf7ZoXwXs5wKx7XlsK+m7Z2dfXb+Zev16kUunyRJkiSp\n",
       "ZLGYHyRfbtpKt0fuZ9me6RATAmBP7cXsOepVjqMNI0dC+/Zeti5JkiRJCmcxL6Kc3DwGTp7N1P/c\n",
       "Q3b0D2GzQF4s53T6mul/hfj4CAWUJEmSJJVoFvMi2LxtJ7VuvoDvYz4o8G/y2LxzmXb1KM4+sW5k\n",
       "wkmSJEmSSgWLeRGs/v4Tvm+8O2wtPvsYhrYcxW2d20YolSRJkiSpNLGYF0lo78+CeXF0OHwATw7o\n",
       "z2GJcRHMJEmSJEkqTSzmB0G9UDtm9B3JaY2PjnQUSZIkSVIpYzEvgmAongdapnBTpz9HOookSZIk\n",
       "qZQKRjpAaday7kmWckmSJElSkVjMiyA6yn99kiRJkqSisVlKkiRJkhRBFnNJkiRJkiLIYi5JkiRJ\n",
       "UgRZzCVJkiRJiiCLuSRJkiRJEWQxlyRJkiQpgizmkiRJkiRFkMVckiRJkqQIsphLkiRJkhRBFnNJ\n",
       "kiRJkiLIYi5JkiRJUgRZzCVJkiRJiiCLuSRJkiRJEWQxlyRJkiQpgizmkiRJkiRFUHRRP0BOTg4z\n",
       "Z84kNTWVjRs3Ur16dS699FL69etHdPRvf/hu3bqxcuXKQmcjRoyga9eue3+dkZHBY489xoIFC9iy\n",
       "ZQu1a9emW7dudO/evagvQ5IkSZKkiChyMR81ahSpqak0b96cNm3asGLFCsaPH8/q1asZP378bx6f\n",
       "lpbGcccdR4cOHQrMmjZtuvfnubm5DBo0iCVLltC6dWvat2/PW2+9xejRo9mwYQODBw8u6kuRJEmS\n",
       "JKnYFamYr1y5ktTUVNq1a8fYsWP3rg8ZMoR58+bx5ptv0rp1630ev2HDBnbt2kWrVq0YMGDAr36u\n",
       "hQsXsmTJEvr27cstt9wCwMCBA0lOTmbatGl06tSJhg0bFuXlSJIkSZJU7Ir0HvNZs2YBFCjVN910\n",
       "E4FAgLlz5/7q8WlpaQA0atRovz5XdHQ011133d616OhobrzxRkKhEM8888zvjS9JkiRJUsQVqZgv\n",
       "X76cpKQk6tevH7Zeo0YNjj32WJYvX/6rx+9vMc/KyuLjjz+mcePGVKpUKWzWtGlT4uLifvNzSZIk\n",
       "SZJUEh1wMc/K+v/27j+mqvqP4/jrkOLPxOGP9KqITneV+QMnUaYb6Zz5KxUtnbhM09QcjY3WNE1n\n",
       "Yq5aMgMT5qgU1IU1jJU2m2nTcqaQhmuAGf7CTfwROq6pePF8/zDuV/JehHuEc6nnY/Of8zlvzjl7\n",
       "74W87z333EqVlZUpLCzM63q3bt10/fp1lZeX+/wZxcXFMgxDeXl5io2N1ZAhQxQTE6O1a9fK5XJ5\n",
       "9rtw4YKqqqq8Huuxxx5Tly5ddPr0aX8vBQAAAAAA2/g9mF+7dk2SHngHu1r19vsH7H8qLi6WaZpK\n",
       "SUnRgAEDNH36dIWGhiozM1MzZ8701NblWLdu3dLdu3f9vRwAAAAAAGzh98Pf3G63JCk4ONjrevX2\n",
       "27dve103TVMhISGKiIhQenq6Onfu7Nm+atUqZWdna8OGDVq6dGm9jtWqVSt/LwkAAAAAgEbn9zvm\n",
       "LVu2lCTduXPH63plZaUk+RyUDcNQdna2cnJyPEN59fYlS5aoZcuW2rVrlySpRYsWDz2WYRgM5QAA\n",
       "AACAJsfvd8zbtm0rwzBUUVHhdb2iokKGYfi8/bw2rVu3Vnh4uIqLi1VZWamQkBDPz/R1rNatW9f7\n",
       "OPery5Ph/6mwsFAvvfSSpeMCAAAAAAJHYWGhJOnIkSN1nhOrH2zuL78H8+DgYDkcDpWWlnpdLy0t\n",
       "VWhoqNq1a+d13eVy6dSpU2rfvr3Cw8MfWL9165aCgoLUvHlzdevWTc2bN/d6rKqqKl28eFF9+/b1\n",
       "91L8VlFRoSNHjjT6cQEAAAAA/x5+D+aSFBUVpdzcXJ05c6bGcF1WVqazZ89q1KhRPmtPnDihuXPn\n",
       "auTIkUpLS6uxdunSJZWWlqp///4yDEPNmjXT4MGDVVBQoBs3bqhNmzaefQsKCnTr1i1FRkZauZR6\n",
       "vcJR/arJE088oZ49e1o6LhpX9Qsp0dHRNp8J/EH/mi5617TRv6aN/jVd9K5po39NV3Xv+vfvr6++\n",
       "+qpRjmlpMJ8yZYpyc3OVnJysjz76SIZhyDRNJScnS5JmzJjhs3bo0KHq0KGDDhw4oLy8PEVFRUm6\n",
       "93nxpKQkud1uzZo1y7P/5MmTlZeXp9TUVC1dulTSvc+cVx93+vTpVi7FLwcOHGj0Y8Ka6hdVsrKy\n",
       "bD4T+IP+NV30rmmjf00b/Wu66F3TRv+arureNdZQLlkczIcNG6bx48dr9+7dmjFjhqKjo3Xs2DHl\n",
       "5+dr7NixiomJ8eybmpoqwzAUHx8v6d6t8O+8844SEhI0Z84cjRs3TiEhITp06JBKSko0YcIExcbG\n",
       "euqnTZumnJwcbd68WSdPnlRERIQOHjyo4uJizZs3z5Zb2QEAAAAAsMrSYC5JH3zwgfr06aOdO3cq\n",
       "MzNTDodDCQkJmj9/fo39Pv744xqDuSSNHj1amZmZSktL0/79++V2u9WrVy+tWLGixrvlkhQUFKSM\n",
       "jAylpqbq22+/VX5+vsLCwrRy5UrNnDnT6mUAAAAAAGALy4N5s2bNtHjxYi1evLjW/YqKirxuHzp0\n",
       "qDIyMup0rDZt2mjp0qWeW9kBAAAAAGjq/P4ecwAAAAAAYB2DOQAAAAAANmIwBwAAAADARgzmAAAA\n",
       "AADYiMEcAAAAAAAbMZgDAAAAAGAjwzRN0+6TAAAAAADgv4p3zAEAAAAAsBGDOQAAAAAANmIwBwAA\n",
       "AADARgzmAAAAAADYiMEcAAAAAAAbMZgDAAAAAGAjBnMAAAAAAGzEYA4AAAAAgI0YzAEAAAAAsBGD\n",
       "OQAAAAAANmIwBwAAAADARgzmAAAAAADYiMEcAAAAAAAbMZjfx+12a/PmzRo/frwGDx6s0aNHa+PG\n",
       "jXK73XWqv3btmlavXq1Ro0YpMjJSU6dO1e7duxv4rCFZ711cXJz69evn9d/nn3/ewGcPSSorK9PQ\n",
       "oUO1ZcuWOteQucDhT//Inf0uX76slStXKiYmRgMGDNCIESP05ptv6vz583WqJ4P2sdo78mev8vJy\n",
       "rVmzRqNHj9bgwYM1YcIEZWRkqKqqqk71ZM9eVvtH/gLH+++/r379+uno0aN12r8hs9fskfyUf4nV\n",
       "q1drx44dioqK0ujRo5Wfn6+UlBQVFRUpJSWl1tq//vpLr7zyioqKijRu3Dh17dpVe/bsUWJiosrL\n",
       "yzVr1qxGuor/Jiu9k6Ti4mL17t1b48ePf2Bt4MCBDXHKuM+NGzf0+uuv68aNGzIMo041ZC5w+NM/\n",
       "idzZ7fLly3rxxRd18eJFDR8+XBMnTlRJSYm++eYbHThwQDt27FDPnj191pNB+1jtnUT+7ORyuRQX\n",
       "F6fTp09r1KhReu6555Sfn68PP/xQeXl5Sk9Pr7We7NnLav8k8hcoCgoKtGXLlsD529OEaZqmmZ+f\n",
       "bzqdTjMhIaHG9iVLlphOp9Pcv39/rfVpaWmm0+k0t23b5tnmcrnMiRMnmpGRkebVq1cb4rRhWu/d\n",
       "+fPnTafTab733nsNeJbwpbS01IyNjTWdTqfpdDrNLVu21KmOzAUGf/tH7uy3YsUK0+l0mp999lmN\n",
       "7bm5uabT6TQXLVpUaz0ZtI/V3pE/e61bt850Op1mVlZWje2JiYmm0+k0f/jhh1rryZ69rPaP/AWG\n",
       "27dvmxMmTPD8/XLkyJGH1jR09riV/W/btm2TJMXHx9fYnpiYKMMw9MUXX9Rav337dnXs2FEzZ870\n",
       "bGvTpo0WLVqkmzdv6uuvv370Jw1J1ntXXFwsSXI6nQ1zgvBp8+bNev7553Xy5Ek9/fTT9aolc/az\n",
       "0j9yZ7+9e/eqQ4cOmjNnTo3tkyZNUo8ePfTTTz/VWk8G7WO1d+TPXhcuXJDD4VBcXFyN7dXvnh4/\n",
       "frzWerJnL6v9I3+BIT09XWfPntUzzzxT55qGzh6D+d/y8vIUGhqqPn361NjeuXNn9ezZU3l5eT5r\n",
       "z507p0uXLikqKuqBWyGio6M9Px8Nw0rvJH5B2ikzM1Pdu3fX1q1bNXny5DrXkbnA4G//JHJnt7t3\n",
       "72rRokUPvKBZLTg4WHfu3NGdO3e8rpNB+1jtnUT+7LZu3Trt27dPQUE1/wwvKSmRJHXs2NFnLdmz\n",
       "n5X+SeQvEBQVFWnTpk1auHDhA/ODL42RPQZzSZWVlSorK1NYWJjX9W7duun69esqLy/3un7u3DlJ\n",
       "8lrfqVMnBQcH68yZM4/sfPF/Vnsn3fsFaRiG8vLyFBsbqyFDhigmJkZr166Vy+VqqFOHpKSkJOXm\n",
       "5ioyMlKmada5jswFBn/7J5E7uwUFBWn27Nk1XvWv9scff6ikpERhYWFq3ry513oyaB+rvZPIX6C5\n",
       "evWqtm3bptTUVDkcDk2aNMnnvmQv8NSnfxL5s1tVVZWWL1+uXr16aeHChXX++6UxssdgrntP15Ok\n",
       "xx9/3Ot69XZfYXlYfdu2bVVRUWH1NOGF1d5J935BmqaplJQUDRgwQNOnT1doaKgyMzM1c+ZMfkk2\n",
       "oOHDh9frYWHVyFxg8Ld/ErkLVHfv3lVSUpJM09T06dN97kcGA09deyeRv0Cyfv16DR8+XElJSWrX\n",
       "rp0+/fRTn7mSyF6gqW//JPJnt08++USFhYVas2ZNrS9g/lNjZI+nskuer9QKDg72ul69/fbt237X\n",
       "+6qFNVZ7Z5qmQkJCFBERofT0dHXu3NmzfdWqVcrOztaGDRu0dOnSBjh7+IvMNW3kLjCZpqmVK1fq\n",
       "8OHDGjhwoF5++WWf+5LBwFKf3pG/wBIWFqYFCxbo9OnT+v777xUXF6eMjAxFRER43Z/sBZb69o/8\n",
       "2ev06dPasGGD4uLiNHjw4HrVNkb2eMdcUsuWLSXJ5+exKisrJUmtWrXyut6iRYuH1vuqhTVWe2cY\n",
       "hrKzs5WTk+P55Vi9fcmSJWrZsqV27dr1iM8aVpG5po3cBR63261ly5bpyy+/VFhYmDZu3KhmzXy/\n",
       "dk8GA0d9e0f+AsvUqVOVmJio1NRUbdy4UeXl5VqyZInP/cleYKlv/8iffUzT1PLly9WxY0e98cYb\n",
       "9a5vjOwxmOverQeGYfi8/aCiokKGYfi8dSEkJMSznzcul+uht7XAP1Z7V5vWrVsrPDxcV65c8Qz4\n",
       "CAxk7t+L3DW+mzdvavHixdq5c6fCw8OVmZmpTp061VpDBgODP72rDfmz17PPPqthw4bp999/93ye\n",
       "9Z/IXuCqS/9qQ/4a1rZt2/TLL79o1apVXgfoh33WvDGyx63sunfrgcPhUGlpqdf10tJShYaGql27\n",
       "dl7Xw8PDPfv906VLl1RZWalevXo9svPF/1ntncvl0qlTp9S+fXtPH+9369YtBQUF1eszKGh4ZK5p\n",
       "I3eB4/r163r11VdVUFCgiIgIZWRkKDQ09KF1ZNB+/vaO/NmrqqpKP//8syR5/Zqmrl27Srr3eVZv\n",
       "D5kie/ay2j/yZ589e/ZIkhYsWOB1ffbs2ZKkffv2yeFwPLDeGNljMP9bVFSUcnNzdebMmRpBKSsr\n",
       "09mzZzVq1CiftQ6HQw6HQ/n5+TJNs8bDkI4cOSJJioyMbLBz/6+z0rsTJ05o7ty5GjlypNLS0mqs\n",
       "Xbp0SaWlperfv7/fD7hCwyBzTRu5Cwy3b9/WwoULVVBQoOjoaKWlpalNmzZ1qiWD9rLSO/JnL9M0\n",
       "tWjRIrVt21Y//vjjA1+5VVRUpKCgIHXv3t1rPdmzl9X+kT/7TJ06VU899dQD2w8ePKidOGEoAAAD\n",
       "N0lEQVRff/1VsbGx6tatm893vRsje9zK/rcpU6ZIkpKTkz23MpimqeTkZEnSjBkzaq2fNGmSLl68\n",
       "qK1bt3q2uVwupaenq1WrVvX+jl/UnZXeDR06VB06dNCBAwdqfPdgZWWlkpKS5Ha7NWvWrAY8e/iL\n",
       "zDVd5C4wJCcn6/jx4xoyZIgyMjLqPNhVI4P2sdI78mevZs2aacyYMfrzzz+VkZFRY2379u367bff\n",
       "FBMTU+vdD2TPPlb7R/7sExsbq/j4+Af+DRo0SNK9wT0+Pr7W29EbOnuGWd8vn/0XS0xM1O7duzVo\n",
       "0CBFR0fr2LFjys/P19ixY7V+/XrPfqmpqTIMQ/Hx8Z5tLpdL06ZN09mzZzVmzBh1795d3333nS5c\n",
       "uKC3336bkDUwK73bu3evEhISZBiGxo0bp5CQEB06dEglJSWaMGGC1q1bZ8cl/efk5ORo2bJlWrZs\n",
       "med2ompkLvDVt3/kzl6XL1/WyJEj5Xa7NW3aNHXp0sXrfgsXLlRwcDAZDCCPonfkz15lZWWaMWOG\n",
       "Ll68qBEjRqhv374qLCzU4cOH1aNHD23fvt3zrACyF3is9o/8BZZ3331XWVlZysrK0pNPPunZbkf2\n",
       "GMzv43a7tWnTJu3cuVNlZWVyOByaPHmy5s+fX+OzHv369ZNhGCosLKxRf/XqVSUnJ2v//v26efOm\n",
       "evfurXnz5mn8+PGNfSn/OVZ7l5+fr7S0NB0/flxut1u9evXSCy+8wH9ujWjnzp1atmyZ3nrrrQcG\n",
       "OzIX+PzpH7mzz969exUfHy/DMHw+8MYwDB09elRt27YlgwHkUfWO/NnrypUrSklJ0f79+1VeXq7O\n",
       "nTtrzJgxeu211zwPmZL4/y9QWe0f+Qsca9euVVZWljIzM2sM5nZkj8EcAAAAAAAb8RlzAAAAAABs\n",
       "xGAOAAAAAICNGMwBAAAAALARgzkAAAAAADZiMAcAAAAAwEYM5gAAAAAA2IjBHAAAAAAAGzGYAwAA\n",
       "AABgIwZzAAAAAABsxGAOAAAAAICNGMwBAAAAALARgzkAAAAAADZiMAcAAAAAwEYM5gAAAAAA2IjB\n",
       "HAAAAAAAGzGYAwAAAABgIwZzAAAAAABs9D+2jrSnVQKenwAAAABJRU5ErkJggg==\n",
       "' width=499 height=348/>"
      ],
      "text/plain": [
       "<matplotlib.figure.Figure at 0x11fb1dc50>"
      ]
     },
     "metadata": {},
     "output_type": "display_data"
    }
   ],
   "source": [
    "x = np.arange(len(y1[6:11]))\n",
    "plt.plot(x, y1[11:16], alpha=.9, color='Blue', linestyle='-')\n",
    "plt.plot(x, y2[11:16], alpha=.9, color='Green', linestyle='--')"
   ]
  },
  {
   "cell_type": "code",
   "execution_count": 325,
   "metadata": {
    "collapsed": true
   },
   "outputs": [],
   "source": [
    "\n",
    "yhat = ss.analyze_radd(DVg, DVs, ss.inits)\n",
    "yhat =  (DVg, DVs, ss.inits) "
   ]
  },
  {
   "cell_type": "code",
   "execution_count": 219,
   "metadata": {
    "collapsed": true
   },
   "outputs": [],
   "source": [
    "lbd = lambda DVg, a, tr: (tr+(np.where((DVg[:, ss.nss:, :].max(axis=2).T>=a).T, np.argmax((DVg[:, ss.nss:, :].T>=a).T,axis=2)*.0005, np.nan).T)).T\n",
    "\n",
    "gort_func = lambda gtrace, a, t: (tr+(np.where((gtrace.max(axis=2).T>=a).T, np.argmax((gtrace.T>=a).T,axis=2)*.0005, np.nan).T)).T\n",
    "\n",
    "ssrt_func = lambda strace: np.where(np.any(strace<=0, axis=3), ss.ssd[:, None]+np.argmax(strace<=0, axis=3)*.0005, np.nan)\n",
    "\n",
    "ssrt_func2 = lambda strace: ss.ssd[:, None] + np.where(DVs.min(axis=3)<=0, np.argmax(DVs<=0,axis=3)*.0005, np.nan)"
   ]
  },
  {
   "cell_type": "code",
   "execution_count": null,
   "metadata": {
    "collapsed": true
   },
   "outputs": [],
   "source": [
    "4202 function calls in 27.292 seconds\n",
    "3602 function calls in 23.881 seconds"
   ]
  },
  {
   "cell_type": "code",
   "execution_count": 118,
   "metadata": {
    "collapsed": false
   },
   "outputs": [
    {
     "data": {
      "text/plain": [
       "(array([   0,    0,    1, ..., 9998, 9999, 9999]),\n",
       " array([0, 1, 0, ..., 1, 0, 1]))"
      ]
     },
     "execution_count": 118,
     "metadata": {},
     "output_type": "execute_result"
    }
   ],
   "source": [
    "np.where(DVg.max(axis=2).T>=a)"
   ]
  },
  {
   "cell_type": "code",
   "execution_count": 228,
   "metadata": {
    "collapsed": true
   },
   "outputs": [],
   "source": [
    "resp_up = lambda trace, a: np.argmax((trace.T>=a).T, axis=2)*.0005\n",
    "resp_lo = lambda trace, b: np.argmax((trace.T<=b).T, axis=3)*.0005\n",
    "RT = lambda ontime, rbool: ontime[:, None]+(rbool*np.where(rbool==0, np.nan, 1))\n"
   ]
  },
  {
   "cell_type": "code",
   "execution_count": 239,
   "metadata": {
    "collapsed": false
   },
   "outputs": [
    {
     "data": {
      "text/plain": [
       "array([[ 0.192 ,  0.202 ,  0.2455, ...,  0.227 ,  0.1615,  0.189 ],\n",
       "       [ 0.2465,  0.199 ,  0.1845, ...,  0.1865,  0.1305,  0.167 ]])"
      ]
     },
     "execution_count": 239,
     "metadata": {},
     "output_type": "execute_result"
    }
   ],
   "source": [
    "go_dec"
   ]
  },
  {
   "cell_type": "code",
   "execution_count": 254,
   "metadata": {
    "collapsed": false
   },
   "outputs": [],
   "source": [
    "ert = ertx[:, None]*np.ones_like(ssrt)"
   ]
  },
  {
   "cell_type": "code",
   "execution_count": 261,
   "metadata": {
    "collapsed": false
   },
   "outputs": [
    {
     "name": "stdout",
     "output_type": "stream",
     "text": [
      "1000 loops, best of 3: 1.17 ms per loop\n"
     ]
    }
   ],
   "source": [
    "%timeit eq = map((lambda x: mq(x[0][x[0]<x[1]], prob)), zip(ert, ssrt))"
   ]
  },
  {
   "cell_type": "code",
   "execution_count": 262,
   "metadata": {
    "collapsed": false
   },
   "outputs": [
    {
     "name": "stdout",
     "output_type": "stream",
     "text": [
      "1000 loops, best of 3: 1.32 ms per loop\n"
     ]
    }
   ],
   "source": [
    "%timeit eq = [mq(ert[i][ert[i]<ssrt[i]], prob=prob)*scale for i in range(ncond)]"
   ]
  },
  {
   "cell_type": "code",
   "execution_count": 258,
   "metadata": {
    "collapsed": false
   },
   "outputs": [
    {
     "data": {
      "text/plain": [
       "[array([ 0.4519,  0.4704,  0.4829,  0.4979,  0.5209]),\n",
       " array([ 0.4529,  0.4709,  0.4839,  0.4984,  0.5219])]"
      ]
     },
     "execution_count": 258,
     "metadata": {},
     "output_type": "execute_result"
    }
   ],
   "source": [
    "eq"
   ]
  },
  {
   "cell_type": "code",
   "execution_count": 260,
   "metadata": {
    "collapsed": false
   },
   "outputs": [
    {
     "data": {
      "text/plain": [
       "[array([ 0.4519,  0.4704,  0.4829,  0.4979,  0.5209]),\n",
       " array([ 0.4529,  0.4709,  0.4839,  0.4984,  0.5219])]"
      ]
     },
     "execution_count": 260,
     "metadata": {},
     "output_type": "execute_result"
    }
   ],
   "source": [
    "eq"
   ]
  },
  {
   "cell_type": "code",
   "execution_count": 253,
   "metadata": {
    "collapsed": false
   },
   "outputs": [
    {
     "data": {
      "text/plain": [
       "(array([ 0.5169,  0.4584,  0.5014, ...,  0.4914,  0.4354,  0.4719]),\n",
       " array([[ 0.3995,  0.3165,  0.3475, ...,  0.3915,  0.3025,  0.3535],\n",
       "        [ 0.4495,  0.3665,  0.3975, ...,  0.4415,  0.3525,  0.4035],\n",
       "        [ 0.4995,  0.4165,  0.4475, ...,  0.4915,  0.4025,  0.4535],\n",
       "        [ 0.5615,  0.5375,  0.5565, ...,  0.5745,  0.5035,  0.5435],\n",
       "        [ 0.6215,  0.626 ,  0.663 , ...,  0.631 ,  0.5865,  0.656 ]]))"
      ]
     },
     "execution_count": 253,
     "metadata": {},
     "output_type": "execute_result"
    }
   ],
   "source": [
    " zip(ertx, ssrt)[1]"
   ]
  },
  {
   "cell_type": "code",
   "execution_count": 240,
   "metadata": {
    "collapsed": false
   },
   "outputs": [
    {
     "name": "stdout",
     "output_type": "stream",
     "text": [
      "1 loops, best of 3: 1.69 s per loop\n"
     ]
    }
   ],
   "source": [
    "%%timeit\n",
    "for i in xrange(20):\n",
    "      go_dec = resp_up(DVg, a)\n",
    "      ss_dec = resp_lo(DVs, 0)\n",
    "      gort = RT(tr, go_dec[:, :nss])\n",
    "      ssrt = RT(ss.ssd, ss_dec)      \n",
    "\n",
    "      ert = RT(tr, go_dec[:, nss:])[:,None]*np.ones_like(ssrt)\n"
   ]
  },
  {
   "cell_type": "code",
   "execution_count": 234,
   "metadata": {
    "collapsed": false
   },
   "outputs": [
    {
     "data": {
      "text/plain": [
       "array([[[ 0.3995,  0.3165,  0.3475, ...,  0.3915,  0.3025,  0.3535],\n",
       "        [ 0.4495,  0.3665,  0.3975, ...,  0.4415,  0.3525,  0.4035],\n",
       "        [ 0.4995,  0.4165,  0.4475, ...,  0.4915,  0.4025,  0.4535],\n",
       "        [ 0.598 ,  0.557 ,  0.5605, ...,  0.609 ,  0.4805,  0.5215],\n",
       "        [ 0.7095,  0.6875,  0.647 , ...,  0.8   ,  0.6095,  0.6785]],\n",
       "\n",
       "       [[ 0.3995,  0.3165,  0.3475, ...,  0.3915,  0.3025,  0.3535],\n",
       "        [ 0.4495,  0.3665,  0.3975, ...,  0.4415,  0.3525,  0.4035],\n",
       "        [ 0.4995,  0.4165,  0.4475, ...,  0.4915,  0.4025,  0.4535],\n",
       "        [ 0.5615,  0.5375,  0.5565, ...,  0.5745,  0.5035,  0.5435],\n",
       "        [ 0.6215,  0.626 ,  0.663 , ...,  0.631 ,  0.5865,  0.656 ]]])"
      ]
     },
     "execution_count": 234,
     "metadata": {},
     "output_type": "execute_result"
    }
   ],
   "source": [
    "ssrt"
   ]
  },
  {
   "cell_type": "code",
   "execution_count": null,
   "metadata": {
    "collapsed": true
   },
   "outputs": [],
   "source": [
    "%%timeit\n",
    "for i in xrange(200):\n",
    "      grt\n",
    "      grt = resp_up(DVg[:, :nss, :], a)\n",
    "      ertx = resp_up(DVg[:, nss:, :], a)\n",
    "      ssrtx = ssrt_func(DVs)"
   ]
  },
  {
   "cell_type": "code",
   "execution_count": 222,
   "metadata": {
    "collapsed": false
   },
   "outputs": [
    {
     "name": "stdout",
     "output_type": "stream",
     "text": [
      "1 loops, best of 3: 2.5 s per loop\n"
     ]
    }
   ],
   "source": [
    "%%timeit\n",
    "for i in xrange(20):\n",
    "      grt = gort_func(DVg[:, :nss, :], a, tr)\n",
    "      ertx = gort_func(DVg[:, nss:, :], a, tr)\n",
    "      ssrtx = ssrt_func(DVs)"
   ]
  },
  {
   "cell_type": "code",
   "execution_count": 223,
   "metadata": {
    "collapsed": false
   },
   "outputs": [
    {
     "name": "stdout",
     "output_type": "stream",
     "text": [
      "1 loops, best of 3: 2.56 s per loop\n"
     ]
    }
   ],
   "source": [
    "%%timeit\n",
    "for i in xrange(20):\n",
    "      grt = (tr+(np.where((DVg[:, nss:, :].max(axis=2).T>=a).T, np.argmax((DVg[:, nss:, :].T>=a).T,axis=2)*dt, np.nan).T)).T\n",
    "      ertx = (tr+(np.where((DVg[:, :nss, :].max(axis=2).T>=a).T, np.argmax((DVg[:, :nss, :].T>=a).T,axis=2)*dt, np.nan).T)).T\n",
    "      #ssrt = ss.ssd[:, None] + np.where((DVs.min(axis=3).T<=0).T, np.argmax((DVs.T<=0).T,axis=3)*.0005, np.nan).T\n",
    "      ssrt = np.where(np.any(DVs<=0, axis=3), ss.ssd[:, None]+np.argmax(DVs<=0, axis=3)*.0005, np.nan)\n"
   ]
  },
  {
   "cell_type": "code",
   "execution_count": 102,
   "metadata": {
    "collapsed": false
   },
   "outputs": [
    {
     "name": "stdout",
     "output_type": "stream",
     "text": [
      "10 loops, best of 3: 99.4 ms per loop\n"
     ]
    }
   ],
   "source": [
    "%timeit ssrt = np.where(np.any(DVs<=0, axis=3), ss.ssd[:, None]+np.argmax(DVs<=0, axis=3)*.0005, np.nan)"
   ]
  },
  {
   "cell_type": "code",
   "execution_count": 109,
   "metadata": {
    "collapsed": false
   },
   "outputs": [
    {
     "name": "stdout",
     "output_type": "stream",
     "text": [
      "10 loops, best of 3: 82.8 ms per loop\n"
     ]
    }
   ],
   "source": [
    "%timeit ssrt = ss.ssd[:, None] + np.where(DVs.min(axis=3)<=0, np.argmax(DVs<=0,axis=3)*.0005, np.nan)"
   ]
  },
  {
   "cell_type": "code",
   "execution_count": 50,
   "metadata": {
    "collapsed": true
   },
   "outputs": [],
   "source": [
    "def x(p, a_dots=False, a_fewerdots=False, a_nodots=False):\n",
    "      \n",
    "      p = ss.vectorize_params(p)\n",
    "      Pg, Tg = ss.__update_go_process__(p)\n",
    "      Ps, Ts = ss.__update_stop_process__(p)\n",
    "\n",
    "      # a/tr/v Bias: ALL CONDITIONS, ALL SSD\n",
    "      DVg = ss.lowerb+(ss.xtb[:,None]*np.cumsum(np.where((rs((ss.ncond, ss.ntot, Tg.max())).T<Pg), ss.dx,-ss.dx).T, axis=2))\n",
    "      init_ss = array([[DVc[:ss.nss, ix] for ix in np.where(Ts<Tg[i], Tg[i]-Ts, 0)] for i, DVc in enumerate(DVg)])\n",
    "      DVs = init_ss[:, :, :, None]+np.cumsum(np.where(rs((ss.nss, Ts.max()))<Ps, ss.dx, -ss.dx), axis=1)\n",
    "\n",
    "      if a_dots:\n",
    "            return dots(DVg, DVs, p)\n",
    "      elif a_fewerdots:\n",
    "            return fewerdots(DVg, DVs, p)\n",
    "      elif a_nodots:\n",
    "            return nodots(DVg, DVs, p)\n",
    "      else:\n",
    "            return DVg, DVs"
   ]
  },
  {
   "cell_type": "code",
   "execution_count": 64,
   "metadata": {
    "collapsed": true
   },
   "outputs": [],
   "source": [
    "dt=ss.dt; nss=ss.nss; ncond=ss.ncond; ssd=ss.ssd; ntot=ss.ntot\n",
    "tb=ss.tb; prob=ss.prob; scale=ss.scale; a=p['a']; tr=p['tr']; dx=ss.dx\n"
   ]
  },
  {
   "cell_type": "code",
   "execution_count": null,
   "metadata": {
    "collapsed": true
   },
   "outputs": [],
   "source": [
    "\n",
    "      dt=ss.dt; nss=ss.nss; ncond=ss.ncond; ssd=ss.ssd;\n",
    "      tb=ss.tb; prob=ss.prob; scale=ss.scale; a=p['a']; tr=p['tr']\n",
    "      \n",
    "      \n",
    "      p = ss.vectorize_params(p)\n",
    "      Pg, Tg = ss.__update_go_process__(p)\n",
    "      Ps, Ts = ss.__update_stop_process__(p)\n",
    "\n",
    "      # a/tr/v Bias: ALL CONDITIONS, ALL SSD\n",
    "      DVg = ss.lowerb+(ss.xtb[:,None]*np.cumsum(np.where((rs((ss.ncond, ss.ntot, Tg.max())).T<Pg), ss.dx,-ss.dx).T, axis=2))\n",
    "      init_ss = array([[DVc[:ss.nss, ix] for ix in np.where(Ts<Tg[i], Tg[i]-Ts, 0)] for i, DVc in enumerate(DVg)])\n",
    "      DVs = init_ss[:, :, :, None]+np.cumsum(np.where(rs((ss.nss, Ts.max()))<Ps, ss.dx, -ss.dx), axis=1)\n",
    "      \n",
    "\n",
    "      grt = (tr+(np.where((DVg[:, nss:, :].max(axis=2).T>=a).T, np.argmax((DVg[:, nss:, :].T>=a).T,axis=2)*dt, np.nan).T)).T\n",
    "      ertx = (tr+(np.where((DVg[:, :nss, :].max(axis=2).T>=a).T, np.argmax((DVg[:, :nss, :].T>=a).T,axis=2)*dt, np.nan).T)).T\n",
    "      ssrt = np.where(np.any(DVs<=0, axis=3), ssd[:, None]+np.argmax(DVs<=0, axis=3)*dt,np.nan)\n",
    "\n",
    "      # compute RT quantiles for correct and error resp.\n",
    "      ert = array([ertx[i] * np.ones_like(ssrt[i]) for i in range(ncond)])\n",
    "      gq = np.vstack([mq(rtc[rtc<tb], prob=prob)*scale for rtc in grt])\n",
    "      eq = [mq(ert[i][ert[i]<ssrt[i]], prob=prob)*scale for i in range(ncond)]\n",
    "      # Get response and stop accuracy information\n",
    "      gac = np.nanmean(np.where(grt<tb, 1, 0), axis=1)\n",
    "      sacc = np.where(ert<ssrt, 0, 1).mean(axis=2)\n",
    "\n",
    "      return np.hstack([np.hstack([i[ii] for i in [gac, sacc, gq, eq]]) for ii in range(ncond)])\n"
   ]
  },
  {
   "cell_type": "code",
   "execution_count": null,
   "metadata": {
    "collapsed": true
   },
   "outputs": [],
   "source": [
    "grt = (tr+(np.where((DVg[:, nss:, :].max(axis=2).T>=a).T, np.argmax((DVg[:, nss:, :].T>=a).T,axis=2)*.0005, np.nan).T)).T"
   ]
  },
  {
   "cell_type": "code",
   "execution_count": null,
   "metadata": {
    "collapsed": true
   },
   "outputs": [],
   "source": [
    "l = []\n",
    "map(, )\n",
    "#[ertx[i] * np.ones_like(ssrt[i]) for i in range(ncond)]"
   ]
  },
  {
   "cell_type": "markdown",
   "metadata": {},
   "source": [
    "- a_dots              3702 function calls in 8.593 seconds\n",
    "- a_fewerdots         3702 function calls in 8.102 seconds\n",
    "- a_nodots            3702 function calls in 9.375 seconds"
   ]
  },
  {
   "cell_type": "code",
   "execution_count": null,
   "metadata": {
    "collapsed": true
   },
   "outputs": [],
   "source": [
    "      grt = (tr+(np.where((DVg[:, nss:, :].max(axis=2).T>=a).T, np.argmax((DVg[:, ss.nss:, :].T>=a).T,axis=2)*dt, np.nan).T)).T\n",
    "      ertx = (tr+(np.where((DVg[:, :nss, :].max(axis=2).T>=a).T, np.argmax((DVg[:, :nss, :].T>=a).T,axis=2)*dt, np.nan).T)).T\n",
    "      ssrt = np.where(np.any(DVs<=0, axis=3), ssd[:, None]+np.argmax(DVs<=0, axis=3)*dt,np.nan)\n",
    "\n",
    "      # compute RT quantiles for correct and error resp.\n",
    "      ert = array([ertx[i] * np.ones_like(ssrt[i]) for i in range(ncond)])\n",
    "      gq = np.vstack([mq(rtc[rtc<tb], prob=prob)*scale for rtc in grt])\n",
    "      eq = [mq(ert[i][ert[i]<ssrt[i]], prob=prob)*scale for i in range(ncond)]\n",
    "      # Get response and stop accuracy information\n",
    "      gac = np.nanmean(np.where(grt<tb, 1, 0), axis=1)\n",
    "      sacc = np.where(ert<ssrt, 0, 1).mean(axis=2)\n",
    "\n",
    "      return np.hstack([np.hstack([i[ii] for i in [gac, sacc, gq, eq]]) for ii in range(ncond)])"
   ]
  },
  {
   "cell_type": "code",
   "execution_count": null,
   "metadata": {
    "collapsed": true
   },
   "outputs": [],
   "source": [
    "\n",
    "def simulate_and_analyze(p):\n",
    "      \n",
    "      \n",
    "      dt=ss.dt; nss=ss.nss; ncond=ss.ncond; ssd=ss.ssd;\n",
    "      tb=ss.tb; prob=ss.prob; scale=ss.scale; a=p['a']; tr=p['tr']\n",
    "      \n",
    "      p = ss.vectorize_params(p)\n",
    "      Pg, Tg = ss.__update_go_process__(p)\n",
    "      Ps, Ts = ss.__update_stop_process__(p)\n",
    "\n",
    "      # a/tr/v Bias: ALL CONDITIONS, ALL SSD\n",
    "      DVg = ss.lowerb+(ss.xtb[:,None]*np.cumsum(np.where((rs((ss.ncond, ss.ntot, Tg.max())).T<Pg), ss.dx,-ss.dx).T, axis=2))\n",
    "      init_ss = array([[DVc[:ss.nss, ix] for ix in np.where(Ts<Tg[i], Tg[i]-Ts, 0)] for i, DVc in enumerate(DVg)])\n",
    "      DVs = init_ss[:, :, :, None]+np.cumsum(np.where(rs((ss.nss, Ts.max()))<Ps, ss.dx, -ss.dx), axis=1)\n",
    "      \n",
    "      grt = (tr+(np.where((DVg[:, nss:, :].max(axis=2).T>=a).T, np.argmax((DVg[:, ss.nss:, :].T>=a).T,axis=2)*dt, np.nan).T)).T\n",
    "      ertx = (tr+(np.where((DVg[:, :nss, :].max(axis=2).T>=a).T, np.argmax((DVg[:, :nss, :].T>=a).T,axis=2)*dt, np.nan).T)).T\n",
    "      ssrt = np.where(np.any(DVs<=0, axis=3), ssd[:, None]+np.argmax(DVs<=0, axis=3)*dt,np.nan)\n",
    "\n",
    "      # compute RT quantiles for correct and error resp.\n",
    "      ert = array([ertx[i] * np.ones_like(ssrt[i]) for i in range(ncond)])\n",
    "      gq = np.vstack([mq(rtc[rtc<tb], prob=prob)*scale for rtc in grt])\n",
    "      eq = [mq(ert[i][ert[i]<ssrt[i]], prob=prob)*scale for i in range(ncond)]\n",
    "      # Get response and stop accuracy information\n",
    "      gac = np.nanmean(np.where(grt<tb, 1, 0), axis=1)\n",
    "      sacc = np.where(ert<ssrt, 0, 1).mean(axis=2)\n",
    "\n",
    "      return np.hstack([np.hstack([i[ii] for i in [gac, sacc, gq, eq]]) for ii in range(ncond)])"
   ]
  }
 ],
 "metadata": {
  "kernelspec": {
   "display_name": "Python 2",
   "language": "python",
   "name": "python2"
  },
  "language_info": {
   "codemirror_mode": {
    "name": "ipython",
    "version": 2
   },
   "file_extension": ".py",
   "mimetype": "text/x-python",
   "name": "python",
   "nbconvert_exporter": "python",
   "pygments_lexer": "ipython2",
   "version": "2.7.10"
  }
 },
 "nbformat": 4,
 "nbformat_minor": 0
}
