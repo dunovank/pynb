{
 "cells": [
  {
   "cell_type": "code",
   "execution_count": 1,
   "metadata": {
    "collapsed": true
   },
   "outputs": [],
   "source": [
    "from radd import build, fit, fit_flat"
   ]
  },
  {
   "cell_type": "code",
   "execution_count": 2,
   "metadata": {
    "collapsed": false
   },
   "outputs": [],
   "source": [
    "data = redf_store['redata']\n",
    "binits = {k: v for k,v in redf_store['rebsl_boot_popt'].items()}\n",
    "binits['ssv']=-abs(binits['ssv'])\n",
    "pinits = {k: v for k,v in redf_store['repnl_boot_popt'].items()}\n",
    "inits = {k: np.mean([binits[k], pinits[k]]) for k in binits.keys()}"
   ]
  },
  {
   "cell_type": "code",
   "execution_count": 13,
   "metadata": {
    "collapsed": false
   },
   "outputs": [
    {
     "data": {
      "text/plain": [
       "{'a': 0.44409409206000017,\n",
       " 'ssv': -0.94733930097466645,\n",
       " 'tr': 0.30487069814466666,\n",
       " 'v': 1.0917075579863329,\n",
       " 'z': 0.15424655482600008}"
      ]
     },
     "execution_count": 13,
     "metadata": {},
     "output_type": "execute_result"
    }
   ],
   "source": [
    "m = build.Model(data=data, inits=inits,)"
   ]
  },
  {
   "cell_type": "code",
   "execution_count": null,
   "metadata": {
    "collapsed": true
   },
   "outputs": [],
   "source": []
  }
 ],
 "metadata": {
  "kernelspec": {
   "display_name": "Python 2",
   "language": "python",
   "name": "python2"
  },
  "language_info": {
   "codemirror_mode": {
    "name": "ipython",
    "version": 2
   },
   "file_extension": ".py",
   "mimetype": "text/x-python",
   "name": "python",
   "nbconvert_exporter": "python",
   "pygments_lexer": "ipython2",
   "version": "2.7.10"
  }
 },
 "nbformat": 4,
 "nbformat_minor": 0
}
