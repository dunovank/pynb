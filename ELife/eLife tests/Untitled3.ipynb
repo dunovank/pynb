{
 "cells": [
  {
   "cell_type": "code",
   "execution_count": 251,
   "metadata": {
    "collapsed": true
   },
   "outputs": [],
   "source": [
    "from numba import jit, autojit"
   ]
  },
  {
   "cell_type": "code",
   "execution_count": 1,
   "metadata": {
    "collapsed": true
   },
   "outputs": [],
   "source": [
    "from __future__ import division\n",
    "from radd.build import rangl_data\n",
    "import time\n",
    "import numpy as np\n",
    "from lmfit import Parameters, minimize, fit_report\n",
    "from numpy.random import random_sample as rs\n",
    "from scipy.stats.mstats import mquantiles as mq\n",
    "import line_profiler\n",
    "import memory_profiler\n",
    "\n",
    "def load_ipython_extension(ip):\n",
    "      ip.define_magic('lprun', line_profiler.magic_lprun)\n",
    "\n",
    "def load_ipython_extension(ip):\n",
    "      ip.define_magic('memit', memory_profiler.magic_memit)\n",
    "      ip.define_magic('mprun', memory_profiler.magic_mprun)"
   ]
  },
  {
   "cell_type": "code",
   "execution_count": 280,
   "metadata": {
    "collapsed": false
   },
   "outputs": [],
   "source": [
    "inits = {k:v for k,v in redf_store['rebsl_boot_popt'].items()}\n",
    "cinits = {k:v for k,v in redf_store['rebsl_boot_popt'].items()}\n",
    "theta = {k:v for k,v in redf_store['rebsl_boot_popt'].items()}\n",
    "\n",
    "vval = cinits.pop('v')\n",
    "for i in range(2):\n",
    "      cinits['v'+str(i)] = vval\n",
    "      \n",
    "data = redf_store['redata'].copy()\n",
    "y = data.groupby('Cond').apply(rangl_data, kind='reactive')"
   ]
  },
  {
   "cell_type": "code",
   "execution_count": 395,
   "metadata": {
    "collapsed": false
   },
   "outputs": [],
   "source": [
    "a, tr, v, ssv, z  = theta['a'], theta['tr'], theta['v'], -abs(theta['ssv']),  theta['z']"
   ]
  },
  {
   "cell_type": "code",
   "execution_count": 396,
   "metadata": {
    "collapsed": false
   },
   "outputs": [],
   "source": [
    "tr=np.array([tr*1.05, tr*.95])"
   ]
  },
  {
   "cell_type": "code",
   "execution_count": 397,
   "metadata": {
    "collapsed": true
   },
   "outputs": [],
   "source": [
    "nssd=len(ssd)\n",
    "dx=np.sqrt(si*dt)\n",
    "Pg = 0.5*(1 + v*dx/si)\n",
    "Tg = np.asarray(np.ceil((tb-tr)/dt).astype(int))\n",
    "\n",
    "Ps = 0.5*(1 + ssv*dx/si)\n",
    "Ts = np.asarray(np.ceil((tb-ssd)/dt).astype(int))"
   ]
  },
  {
   "cell_type": "code",
   "execution_count": 398,
   "metadata": {
    "collapsed": false
   },
   "outputs": [
    {
     "data": {
      "text/plain": [
       "array([660, 721])"
      ]
     },
     "execution_count": 398,
     "metadata": {},
     "output_type": "execute_result"
    }
   ],
   "source": [
    "Tg"
   ]
  },
  {
   "cell_type": "code",
   "execution_count": 294,
   "metadata": {
    "collapsed": false
   },
   "outputs": [],
   "source": [
    "DVg = z + np.cumsum(np.where((rs((1, ntot, Tg.max())).T < Pg), dx, -dx).T, axis=2)"
   ]
  },
  {
   "cell_type": "code",
   "execution_count": 364,
   "metadata": {
    "collapsed": false
   },
   "outputs": [],
   "source": [
    "# Onset Time Bias: ALL CONDITIONS, ALL SSD\n",
    "\n",
    "DVg = z + np.cumsum(np.where((rs((ncond, ntot, Tg.max())).T < Pg), dx, -dx).T, axis=2)\n",
    "if bias=='tr':\n",
    "      init_ss = np.array([[DVc[:nss, ix] for ix in np.where(Ts<Tg[i], Tg[i]-Ts, 0)] for i, DVc in enumerate(DVg)])\n",
    "DVs = init_ss[:, :, :, None] + np.cumsum(np.where(rs((nss, Ts.max()))<Ps, dx, -dx), axis=1)\n",
    "\n",
    "\n",
    "# ALL CONDITIONS, ALL SSD\n",
    "grt = (tr + (np.where(DVg[:, nss:, :].max(axis=2)>=a, np.argmax(DVg[:, nss:, :]>=a, axis=2)*dt, np.nan).T)).T\n",
    "ert = (tr + (np.where(DVg[:, :nss, :].max(axis=2)>=a, np.argmax(DVg[:, :nss, :]>=a, axis=2)*dt, np.nan).T)).T\n",
    "ssrt = np.where(np.any(DVs<=0, axis=3), ssd[:, None]+np.argmax(DVs<=0, axis=3)*dt, np.nan)\n",
    "\n",
    "\n",
    "#collapse across SSD and get average ssrt vector for each condition\n",
    "c_ssrt = ssrt.mean(axis=1)\n",
    "\n",
    "# compute RT quantiles for correct and error resp.\n",
    "gq = np.vstack([mq(rtc[rtc<tb], prob=p)*10 for rtc in grt])\n",
    "eq = np.array([mq(np.extract(ert[i]<c_ssrt[i], ert[i]), prob=p)*10 for i in range(ncond)])\n",
    "\n",
    "# Get response and stop accuracy information\n",
    "gac = np.where(grt<tb, 1, 0).mean(axis=1)\n",
    "sacc = np.array([1 - np.where(ert[i]<ssrt[i], 1, 0).mean(axis=1) for i in range(ncond)])\n",
    "\n",
    "yhat = [gac, sacc, gq, eq]\n",
    "yhat_grouped = np.array([np.hstack([i[ii] for i in yhat]) for ii in range(ncond)])"
   ]
  },
  {
   "cell_type": "code",
   "execution_count": 366,
   "metadata": {
    "collapsed": false
   },
   "outputs": [
    {
     "data": {
      "text/plain": [
       "array([ 0.32011423,  0.28962716])"
      ]
     },
     "execution_count": 366,
     "metadata": {},
     "output_type": "execute_result"
    }
   ],
   "source": [
    "DVg = z + np.cumsum(np.where((rs((ncond, ntot, Tg.max())).T < Pg), dx, -dx).T, axis=2)\n",
    "init_ss = np.array([[DVc[:nss, ix] for ix in np.where(Ts<Tg[i], Tg[i]-Ts, 0)] for i, DVc in enumerate(DVg)])\n",
    "DVs = init_ss[:, :, :, None] + np.cumsum(np.where(rs((nss, Ts.max()))<Ps, dx, -dx), axis=1)\n",
    "\n",
    "\n",
    "# ALL CONDITIONS, ALL SSD\n",
    "grt = (tr + (np.where(DVg[:, nss:, :].max(axis=2)>=a, np.argmax(DVg[:, nss:, :]>=a, axis=2)*dt, np.nan).T)).T\n",
    "ert = (tr + (np.where(DVg[:, :nss, :].max(axis=2)>=a, np.argmax(DVg[:, :nss, :]>=a, axis=2)*dt, np.nan).T)).T\n",
    "ssrt = np.where(np.any(DVs<=0, axis=3), ssd[:, None]+np.argmax(DVs<=0, axis=3)*dt, np.nan)\n"
   ]
  },
  {
   "cell_type": "code",
   "execution_count": 365,
   "metadata": {
    "collapsed": false
   },
   "outputs": [
    {
     "data": {
      "text/plain": [
       "array([[ 0.946     ,  0.9988    ,  0.9948    ,  0.9672    ,  0.69      ,\n",
       "         0.178     ,  5.24614233,  5.51614233,  5.72614233,  5.93614233,\n",
       "         6.20694233,  4.94254233,  5.14614233,  5.31614233,  5.46614233,\n",
       "         5.71794233],\n",
       "       [ 0.9796    ,  0.9968    ,  0.9808    ,  0.868     ,  0.304     ,\n",
       "         0.0668    ,  4.94127163,  5.22127163,  5.42127163,  5.66127163,\n",
       "         6.02127163,  4.73847163,  4.93127163,  5.09127163,  5.25127163,\n",
       "         5.50127163]])"
      ]
     },
     "execution_count": 365,
     "metadata": {},
     "output_type": "execute_result"
    }
   ],
   "source": [
    "yhat_grouped"
   ]
  },
  {
   "cell_type": "code",
   "execution_count": 363,
   "metadata": {
    "collapsed": false
   },
   "outputs": [
    {
     "data": {
      "text/plain": [
       "2445"
      ]
     },
     "execution_count": 363,
     "metadata": {},
     "output_type": "execute_result"
    }
   ],
   "source": []
  },
  {
   "cell_type": "code",
   "execution_count": 360,
   "metadata": {
    "collapsed": false
   },
   "outputs": [
    {
     "data": {
      "text/plain": [
       "2445"
      ]
     },
     "execution_count": 360,
     "metadata": {},
     "output_type": "execute_result"
    }
   ],
   "source": [
    "np.sum(x)"
   ]
  },
  {
   "cell_type": "code",
   "execution_count": 391,
   "metadata": {
    "collapsed": false
   },
   "outputs": [],
   "source": [
    "# ALL CONDITIONS, ALL SSD\n",
    "grt = (tr + (np.where(DVg[:, nss:, :].max(axis=2)>=a, np.argmax(DVg[:, nss:, :]>=a, axis=2)*dt, np.nan).T)).T\n",
    "ert = (tr + (np.where(DVg[:, :nss, :].max(axis=2)>=a, np.argmax(DVg[:, :nss, :]>=a, axis=2)*dt, np.nan).T)).T\n",
    "ssrt = np.where(np.any(DVs<=0, axis=3), ssd[:, None]+np.argmax(DVs<=0, axis=3)*dt, np.nan)"
   ]
  },
  {
   "cell_type": "code",
   "execution_count": 329,
   "metadata": {
    "collapsed": false
   },
   "outputs": [
    {
     "data": {
      "text/plain": [
       "array([[ 0.52661423,  0.50361423,  0.62361423, ...,  0.52361423,\n",
       "         0.54261423,  0.62461423],\n",
       "       [ 0.49612716,  0.52012716,  0.57012716, ...,  0.50912716,\n",
       "         0.55112716,  0.50712716]])"
      ]
     },
     "execution_count": 329,
     "metadata": {},
     "output_type": "execute_result"
    }
   ],
   "source": [
    "grt"
   ]
  },
  {
   "cell_type": "code",
   "execution_count": 380,
   "metadata": {
    "collapsed": false
   },
   "outputs": [
    {
     "ename": "SyntaxError",
     "evalue": "'return' outside function (<ipython-input-380-4bfd482ab8cb>, line 15)",
     "output_type": "error",
     "traceback": [
      "\u001b[0;36m  File \u001b[0;32m\"<ipython-input-380-4bfd482ab8cb>\"\u001b[0;36m, line \u001b[0;32m15\u001b[0m\n\u001b[0;31m    return yhat_grouped\u001b[0m\n\u001b[0;31mSyntaxError\u001b[0m\u001b[0;31m:\u001b[0m 'return' outside function\n"
     ]
    }
   ],
   "source": [
    "#collapse across SSD and get average ssrt vector for each condition\n",
    "c_ssrt = ssrt.mean(axis=1)\n",
    "\n",
    "# compute RT quantiles for correct and error resp.\n",
    "gq = np.vstack([mq(rtc[rtc<tb], prob=p)*10 for rtc in grt])\n",
    "eq = np.array([mq(np.extract(ert[i]<c_ssrt[i], ert[i]), prob=p)*10 for i in range(ncond)])\n",
    "\n",
    "# Get response and stop accuracy information\n",
    "gac = np.where(grt<tb, 1, 0).mean(axis=1)\n",
    "sacc = np.array([1 - np.where(ert[i]<ssrt[i], 1, 0).mean(axis=1) for i in range(ncond)])\n",
    "\n",
    "yhat = [gac, sacc, gq, eq]\n",
    "yhat_grouped = np.array([np.hstack([i[ii] for i in yhat]) for ii in range(ncond)])"
   ]
  },
  {
   "cell_type": "code",
   "execution_count": 276,
   "metadata": {
    "collapsed": false
   },
   "outputs": [
    {
     "name": "stdout",
     "output_type": "stream",
     "text": [
      "1 loops, best of 3: 3.26 s per loop\n"
     ]
    }
   ],
   "source": [
    "%%timeit\n",
    "iter_recost_new2(theta, y, nruns=5, ntrials=5000)\n",
    "#iter_recost(cinits, y, nruns=5, ntrials=5000)"
   ]
  },
  {
   "cell_type": "code",
   "execution_count": 368,
   "metadata": {
    "collapsed": true
   },
   "outputs": [],
   "source": [
    "a=np.array(theta['a']*1.05, theta['a']*.9)"
   ]
  },
  {
   "cell_type": "code",
   "execution_count": 389,
   "metadata": {
    "collapsed": false
   },
   "outputs": [],
   "source": [
    "grt = np.where(DVg[:, nss:, :].max(axis=2)>=a, tr + np.argmax(DVg[:, nss:, :]>=a, axis=2)*dt, np.nan)\n",
    "ert = np.where(DVg[:, :nss, :].max(axis=2)>=a, tr + np.argmax(DVg[:, :nss, :]>=a, axis=2)*dt, np.nan)\n",
    "ssrt = np.where(np.any(DVs<=0, axis=3), ssd[:, None]+np.argmax(DVs<=0, axis=3)*dt, np.nan)\n"
   ]
  },
  {
   "cell_type": "code",
   "execution_count": 392,
   "metadata": {
    "collapsed": false
   },
   "outputs": [
    {
     "data": {
      "text/plain": [
       "array([[ 0.62661423,  0.65861423,  0.57961423, ...,  0.61761423,\n",
       "         0.58661423,  0.64261423],\n",
       "       [ 0.54961423,  0.55861423,  0.57661423, ...,  0.56061423,\n",
       "         0.61061423,  0.56161423]])"
      ]
     },
     "execution_count": 392,
     "metadata": {},
     "output_type": "execute_result"
    }
   ],
   "source": [
    "grt"
   ]
  },
  {
   "cell_type": "code",
   "execution_count": 275,
   "metadata": {
    "collapsed": false
   },
   "outputs": [],
   "source": [
    "def iter_recost_new2(inits, y, nruns=5, ntrials=5000):\n",
    "      ip=inits.copy()\n",
    "      for i in range(nruns):\n",
    "            cost = recost_new2(ip, y, ntrials=ntrials)\n",
    "\n",
    "def recost_new2(theta, y, bias=['v'], ncond=2, ntrials=2000, pGo=.5, wts=None, nssd=5, ssd=np.arange(.2, .45, .05), p=np.array([.1, .3, .5, .7, .9])):\n",
    "\n",
    "      if not type(theta)==dict:\n",
    "            theta = theta.valuesdict()\n",
    "\n",
    "      for bk in bias:\n",
    "            theta[bk] = np.array([theta[bk+str(i)] for i in range(ncond)])\n",
    "\n",
    "      yhat = simulate_full_new2(theta['a'], theta['tr'], theta['v'], theta['ssv'], theta['z'], ncond=ncond, ssd=ssd, nss=int((1-pGo)*ntrials), nssd=len(ssd), ntot=ntrials)\n",
    "      y=np.vstack(y)\n",
    "      cost = np.vstack(y) - yhat\n",
    "      return cost\n",
    "\n",
    "\n",
    "def simulate_full_new2(a, tr, v, ssv, z, analyze=True, ncond=2, p=np.array([.1, .3, .5, .7, .9]), ssd=np.arange(.2, .45, .05), nssd=5, ntot=2000, tb=0.650, dt=.0005, si=.01, nss=1000):\n",
    "      \"\"\"\n",
    "\n",
    "      Simulates all Conditions, SSD, trials, timepoints simultaneously by\n",
    "      treating drift-rate as a vector, containing a value for each condition.\n",
    "\n",
    "      args:\n",
    "            a, tr, ssv, z (float):        model parameters (excl 'v')\n",
    "            v (array):                    array of drift-rates (1/cond)\n",
    "            ssd  (array):                 full set of stop signal delays\n",
    "            nss  (int):                   number of stop trials\n",
    "            ntot (int):                   number of total trials\n",
    "            tb (float):                   time boundary\n",
    "\n",
    "      returns:\n",
    "\n",
    "            DVg (Go Process):       3d array for all conditions, trials, timepoints\n",
    "                                    (i.e. DVg = [COND [NTrials [NTime]]] )\n",
    "                                    All conditions are simulated simultaneously (i.e., BSL & PNL)\n",
    "\n",
    "            DVs (Stop Process):     4d array for all conditions, SSD, SS trials, timepoints.\n",
    "                                    i.e. ( DVs = [COND [SSD [nSSTrials [NTime]]]] )\n",
    "                                    All ss decision traces are initiated from DVg[Cond](t=SSD | SSD<tr)\n",
    "\n",
    "      Output can be passed to <analyze_reactive_full()> to extract\n",
    "      expected values to be entered into the cost f(x)\n",
    "      \"\"\"\n",
    "\n",
    "      #nssd=len(ssd)\n",
    "      #nss=int(ntot/2)\n",
    "      dx=np.sqrt(si*dt)\n",
    "      Pg = 0.5*(1 + v*dx/si)\n",
    "      Tg = np.ceil((tb-tr)/dt).astype(int)\n",
    "\n",
    "      Ps = 0.5*(1 + ssv*dx/si)\n",
    "      Ts = np.ceil((tb-ssd)/dt).astype(int)\n",
    "\n",
    "      # ALL CONDITIONS, ALL SSD\n",
    "      DVg = z + np.cumsum(np.where((rs((ncond, ntot, Tg)).T < Pg), dx, -dx).T, axis=2)\n",
    "      init_ss = np.array([[DVc[:nss, ix] for ix in np.where(Ts<Tg, Tg-Ts, 0)] for DVc in DVg])\n",
    "      DVs = init_ss[:, :, :, None] + np.cumsum(np.where(rs((nss, Ts.max()))<Ps, dx, -dx), axis=1) \n",
    "\n",
    "\n",
    "      # ALL CONDITIONS, ALL SSD\n",
    "      grt = np.where(DVg[:, nss:, :].max(axis=2)>=a, tr + np.argmax(DVg[:, nss:, :]>=a, axis=2)*dt, np.nan)\n",
    "      ert = np.where(DVg[:, :nss, :].max(axis=2)>=a, tr + np.argmax(DVg[:, :nss, :]>=a, axis=2)*dt, np.nan)\n",
    "      ssrt = np.where(np.any(DVs<=0, axis=3), ssd[:, None]+np.argmax(DVs<=0, axis=3)*dt, np.nan)\n",
    "\n",
    "      #collapse across SSD and get average ssrt vector for each condition\n",
    "      c_ssrt = ssrt.mean(axis=1)\n",
    "\n",
    "      # compute RT quantiles for correct and error resp.\n",
    "      gq = np.vstack([mq(rtc[rtc<tb], prob=p)*10 for rtc in grt])\n",
    "      eq = np.array([mq(np.extract(ert[i]<c_ssrt[i], ert[i]), prob=p)*10 for i in range(ncond)])\n",
    "\n",
    "      # Get response and stop accuracy information\n",
    "      gac = np.where(grt<tb, 1, 0).mean(axis=1)\n",
    "      sacc = np.array([1 - np.where(ert[i]<ssrt[i], 1, 0).mean(axis=1) for i in range(ncond)])\n",
    "\n",
    "      yhat = [gac, sacc, gq, eq]\n",
    "      yhat_grouped = np.array([np.hstack([i[ii] for i in yhat]) for ii in range(ncond)])\n",
    "\n",
    "      return yhat_grouped"
   ]
  },
  {
   "cell_type": "code",
   "execution_count": 237,
   "metadata": {
    "collapsed": false
   },
   "outputs": [],
   "source": [
    "#3290 function calls in 3.539 seconds\n",
    "#3290 function calls in 3.355 seconds\n",
    "def iter_recost_new1(inits, y, nruns=5, ntrials=5000):\n",
    "      ip=inits.copy()\n",
    "      for i in range(nruns):\n",
    "            cost = recost_new1(ip, y, ntrials=ntrials)\n",
    "\n",
    "def recost_new1(theta, y, bias=['v'], ncond=2, ntrials=2000, wts=None, nssd=5, ssd=np.arange(.2, .45, .05), p=np.array([.1, .3, .5, .7, .9])):\n",
    "\n",
    "      if not type(theta)==dict:\n",
    "            theta = theta.valuesdict()\n",
    "\n",
    "      for bk in bias:\n",
    "            theta[bk] = np.array([theta[bk+str(i)] for i in range(ncond)])\n",
    "\n",
    "      yhat = simulate_full_new1(theta['a'], theta['tr'], theta['v'], theta['ssv'], theta['z'], nssd=nssd, ncond=ncond, ssd=ssd, ntot=ntrials)\n",
    "      y=np.vstack(y)\n",
    "      cost = np.vstack(y) - yhat\n",
    "      return cost\n",
    "\n",
    "\n",
    "\n",
    "\n",
    "def simulate_full_new1(a, tr, v, ssv, z, analyze=True, ncond=2, nssd=5, p=np.array([.1, .3, .5, .7, .9]), ssd=np.arange(.2, .45, .05), ntot=2000, tb=0.650, dt=.0005, si=.01):\n",
    "      \"\"\"\n",
    "\n",
    "      Simulates all Conditions, SSD, trials, timepoints simultaneously by\n",
    "      treating drift-rate as a vector, containing a value for each condition.\n",
    "\n",
    "      args:\n",
    "            a, tr, ssv, z (float):        model parameters (excl 'v')\n",
    "            v (array):                    array of drift-rates (1/cond)\n",
    "            ssd  (array):                 full set of stop signal delays\n",
    "            nss  (int):                   number of stop trials\n",
    "            ntot (int):                   number of total trials\n",
    "            tb (float):                   time boundary\n",
    "\n",
    "      returns:\n",
    "\n",
    "            DVg (Go Process):       3d array for all conditions, trials, timepoints\n",
    "                                    (i.e. DVg = [COND [NTrials [NTime]]] )\n",
    "                                    All conditions are simulated simultaneously (i.e., BSL & PNL)\n",
    "\n",
    "            DVs (Stop Process):     4d array for all conditions, SSD, SS trials, timepoints.\n",
    "                                    i.e. ( DVs = [COND [SSD [nSSTrials [NTime]]]] )\n",
    "                                    All ss decision traces are initiated from DVg[Cond](t=SSD | SSD<tr)\n",
    "\n",
    "      Output can be passed to <analyze_reactive_full()> to extract\n",
    "      expected values to be entered into the cost f(x)\n",
    "      \"\"\"\n",
    "      \n",
    "      nssd=len(ssd)\n",
    "      nss = int(ntot/nssd)\n",
    "      \n",
    "      dx=np.sqrt(si*dt)\n",
    "      Pg = 0.5*(1 + v*dx/si)\n",
    "      Tg = np.ceil((tb-tr)/dt).astype(int)\n",
    "\n",
    "      Ps = 0.5*(1 + ssv*dx/si)\n",
    "      Ts = np.ceil((tb-ssd)/dt).astype(int)\n",
    "\n",
    "      # ALL CONDITIONS, ALL SSD\n",
    "      DVg = z + np.cumsum(np.where((rs((ncond, ntot, Tg)).T < Pg), dx, -dx).T, axis=2)\n",
    "      init_ss = np.array([[DVc[:nss, ix] for ix in np.where(Ts<Tg, Tg-Ts, 0)] for DVc in DVg])\n",
    "      DVs = init_ss[:,:,:,None]+np.cumsum(np.where(rs((ntot*ncond, Ts.max()))<Ps, dx, -dx), axis=1).reshape(ncond, nssd, nss, Ts.max())\n",
    "\n",
    "      # ALL CONDITIONS, ALL SSD\n",
    "      grt = np.where(DVg[:, nss:, :].max(axis=2)>=a, tr + np.argmax(DVg[:, nss:, :]>=a, axis=2)*dt, np.nan)\n",
    "      ert = np.where(DVg[:, :nss, :].max(axis=2)>=a, tr + np.argmax(DVg[:, :nss, :]>=a, axis=2)*dt, np.nan)\n",
    "      ssrt = np.where(np.any(DVs<=0, axis=3), ssd[:, None]+np.argmax(DVs<=0, axis=3)*dt, np.nan)\n",
    "\n",
    "      #collapse across SSD and get average ssrt vector for each condition\n",
    "      c_ssrt = ssrt.mean(axis=1)\n",
    "\n",
    "      # compute RT quantiles for correct and error resp.\n",
    "      gq = np.vstack([mq(rtc[rtc<tb], prob=p)*10 for rtc in grt])\n",
    "      eq = np.array([mq(np.extract(ert[i]<c_ssrt[i], ert[i]), prob=p)*10 for i in range(ncond)])\n",
    "\n",
    "      # Get response and stop accuracy information\n",
    "      gac = np.where(grt<tb, 1, 0).mean(axis=1)\n",
    "      sacc = np.array([1 - np.where(ert[i]<ssrt[i], 1, 0).mean(axis=1) for i in range(ncond)])\n",
    "\n",
    "      yhat = [gac, sacc, gq, eq]\n",
    "      yhat_grouped = np.array([np.hstack([i[ii] for i in yhat]) for ii in range(ncond)])\n",
    "\n",
    "      return yhat_grouped\n",
    "\n",
    "      #else:\n",
    "\n",
    "      #     return DVg, DVs"
   ]
  },
  {
   "cell_type": "code",
   "execution_count": 271,
   "metadata": {
    "collapsed": false
   },
   "outputs": [],
   "source": [
    "\n",
    "def iter_recost(inits, y, nruns=5, ntrials=5000):\n",
    "      ip=inits.copy()\n",
    "      for i in range(nruns):\n",
    "            cost = recost(ip, y, ntrials=ntrials)\n",
    "\n",
    "\n",
    "def recost(theta, y, bias=['v'], ncond=2, ntrials=2000, wts=None, pGo=.5, ssd=np.arange(.2, .45, .05), p=np.array([.1, .3, .5, .7, .9])):\n",
    "\n",
    "      if not type(theta)==dict:\n",
    "            theta = theta.valuesdict()\n",
    "\n",
    "      #theta[bias] = np.array([bias+str(i) for i in range(ncond)])\n",
    "      for bk in bias:\n",
    "            theta[bk] = np.array([theta[bk+str(i)] for i in range(ncond)])\n",
    "      a, tr, v, ssv, z  = theta['a'], theta['tr'], theta['v'], -abs(theta['ssv']),  theta['z']\n",
    "      nss = int((1-pGo)*ntrials)\n",
    "\n",
    "      yhat = simulate_full(a, tr, v, ssv, z, p=p, ncond=ncond, ssd=ssd, nss=nss, ntot=ntrials)\n",
    "      #wtc, wte = wts[0], wts[1]\n",
    "      y=np.vstack(y)\n",
    "      cost = np.vstack(y) - yhat\n",
    "      #cost = np.hstack([y[:6]-yhat[:6], wtc*y[6:11]-wtc*yhat[6:11], wte*y[11:]-wte*yhat[11:]]).astype(np.float32)\n",
    "\n",
    "      return cost\n",
    "\n",
    "\n",
    "\n",
    "def set_bounds(a=(.01, .6), tr=(.001, .5), v=(.01, 4.), z=(.001, .9), ssv=(-4., -.01)):\n",
    "\n",
    "      return {'a': a, 'tr': tr, 'v': v, 'ssv': ssv, 'z': z}\n",
    "\n",
    "\n",
    "\n",
    "def simulate_full(a, tr, v, ssv, z, analyze=True, ncond=1, p=np.array([.1, .3, .5, .7, .9]), ssd=np.arange(.2, .45, .05), nss=1000, ntot=2000, tb=0.650, dt=.0005, si=.01):\n",
    "      \"\"\"\n",
    "\n",
    "      Simulates all Conditions, SSD, trials, timepoints simultaneously by\n",
    "      treating drift-rate as a vector, containing a value for each condition.\n",
    "\n",
    "      args:\n",
    "            a, tr, ssv, z (float):        model parameters (excl 'v')\n",
    "            v (array):                    array of drift-rates (1/cond)\n",
    "            ssd  (array):                 full set of stop signal delays\n",
    "            nss  (int):                   number of stop trials\n",
    "            ntot (int):                   number of total trials\n",
    "            tb (float):                   time boundary\n",
    "\n",
    "      returns:\n",
    "\n",
    "            DVg (Go Process):       3d array for all conditions, trials, timepoints\n",
    "                                    (i.e. DVg = [COND [NTrials [NTime]]] )\n",
    "                                    All conditions are simulated simultaneously (i.e., BSL & PNL)\n",
    "\n",
    "            DVs (Stop Process):     4d array for all conditions, SSD, SS trials, timepoints.\n",
    "                                    i.e. ( DVs = [COND [SSD [nSSTrials [NTime]]]] )\n",
    "                                    All ss decision traces are initiated from DVg[Cond](t=SSD | SSD<tr)\n",
    "\n",
    "      Output can be passed to <analyze_reactive_full()> to extract\n",
    "      expected values to be entered into the cost f(x)\n",
    "      \"\"\"\n",
    "\n",
    "      nssd=len(ssd)\n",
    "      dx=np.sqrt(si*dt)\n",
    "      Pg = 0.5*(1 + v*dx/si)\n",
    "      Tg = np.ceil((tb-tr)/dt).astype(int)\n",
    "\n",
    "      Ps = 0.5*(1 + ssv*dx/si)\n",
    "      Ts = np.ceil((tb-ssd)/dt).astype(int)\n",
    "\n",
    "      # ALL CONDITIONS, ALL SSD\n",
    "      DVg = z + np.cumsum(np.where((rs((ncond, ntot, Tg)).T < Pg), dx, -dx).T, axis=2)\n",
    "      init_ss = np.array([np.array([DVc[:nss, ix] for ix in np.where(Ts<Tg, Tg-Ts, 0)]) for DVc in DVg])\n",
    "      DVs = init_ss[:, :, :, None] + np.cumsum(np.where(rs((ncond, nssd, nss, Ts.max()))<Ps, dx, -dx), axis=3)\n",
    "\n",
    "      # ALL CONDITIONS, ALL SSD\n",
    "      grt = np.where(DVg[:, nss:, :].max(axis=2)>=a, tr + np.argmax(DVg[:, nss:, :]>=a, axis=2)*dt, np.nan)\n",
    "      ert = np.where(DVg[:, :nss, :].max(axis=2)>=a, tr + np.argmax(DVg[:, :nss, :]>=a, axis=2)*dt, np.nan)\n",
    "      ssrt = np.where(np.any(DVs<=0, axis=3), ssd[:, None]+np.argmax(DVs<=0, axis=3)*dt, np.nan)\n",
    "\n",
    "      #collapse across SSD and get average ssrt vector for each condition\n",
    "      c_ssrt = ssrt.mean(axis=1)\n",
    "\n",
    "      # compute RT quantiles for correct and error resp.\n",
    "      gq = np.vstack([mq(rtc[rtc<tb], prob=p)*10 for rtc in grt])\n",
    "      eq = np.array([mq(np.extract(ert[i]<c_ssrt[i], ert[i]), prob=p)*10 for i in range(ncond)])\n",
    "\n",
    "      # Get response and stop accuracy information\n",
    "      gac = np.where(grt<tb, 1, 0).mean(axis=1)\n",
    "      sacc = np.array([1 - np.where(ert[i]<ssrt[i], 1, 0).mean(axis=1) for i in range(ncond)])\n",
    "\n",
    "      yhat = [gac, sacc, gq, eq]\n",
    "      yhat_grouped = np.array([np.hstack([i[ii] for i in yhat]) for ii in range(ncond)])\n",
    "\n",
    "      return yhat_grouped"
   ]
  },
  {
   "cell_type": "code",
   "execution_count": 268,
   "metadata": {
    "collapsed": true
   },
   "outputs": [],
   "source": [
    "theta['v'] = np.array([theta['v']*1.05, theta['v']*.99])\n",
    "v = theta['v']\n",
    "theta = {k:v for k,v in redf_store['rebsl_boot_popt'].items()}\n",
    "theta['v'] = np.array([theta['v']*1.05, theta['v']*.99])\n",
    "v = theta['v']\n"
   ]
  },
  {
   "cell_type": "code",
   "execution_count": 287,
   "metadata": {
    "collapsed": false
   },
   "outputs": [
    {
     "ename": "ValueError",
     "evalue": "total size of new array must be unchanged",
     "output_type": "error",
     "traceback": [
      "\u001b[0;31m---------------------------------------------------------------------------\u001b[0m",
      "\u001b[0;31mValueError\u001b[0m                                Traceback (most recent call last)",
      "\u001b[0;32m<ipython-input-287-b808ac25ed54>\u001b[0m in \u001b[0;36m<module>\u001b[0;34m()\u001b[0m\n\u001b[0;32m----> 1\u001b[0;31m \u001b[0mget_ipython\u001b[0m\u001b[0;34m(\u001b[0m\u001b[0;34m)\u001b[0m\u001b[0;34m.\u001b[0m\u001b[0mrun_cell_magic\u001b[0m\u001b[0;34m(\u001b[0m\u001b[0;34mu'timeit'\u001b[0m\u001b[0;34m,\u001b[0m \u001b[0;34mu''\u001b[0m\u001b[0;34m,\u001b[0m \u001b[0;34mu\"a=theta['a']\\ntr=theta['tr']\\nssv=-abs(theta['ssv'])\\nv = theta['v']\\nz=theta['z']\\nncond=2\\np=np.array([.1, .3, .5, .7, .9])\\nssd=np.arange(.2, .45, .05)\\nntot=5000\\nnssd=len(ssd)\\nnss=int(ntot/2/len(ssd))\\ntb=0.650\\ndt=.0005\\nsi=.01\\n\\ndx=np.sqrt(si*dt)\\nPg = 0.5*(1 + v*dx/si)\\nTg = np.ceil((tb-tr)/dt).astype(int)\\n\\nPs = 0.5*(1 + ssv*dx/si)\\nTs = np.ceil((tb-ssd)/dt).astype(int)\\n\\n# ALL CONDITIONS, ALL SSD\\nDVg = z + np.cumsum(np.where((rs((ncond, ntot, Tg)).T < Pg), dx, -dx).T, axis=2)\\n#init_ss = np.array([np.array([DVc[:nss, ix] for ix in np.where(Ts<Tg, Tg-Ts, 0)]) for DVc in DVg])\\n#DVs = init_ss[:, :, :, None] + np.cumsum(np.where(rs((ncond, nssd, nss, Ts.max()))<Ps, dx, -dx), axis=3)\\ninit_ss = np.array([[DVc[:nss, ix] for ix in np.where(Ts<Tg, Tg-Ts, 0)] for DVc in DVg])\\nDVs = init_ss[:, :, :, None] + np.cumsum(np.where(rs((nss*ncond, Ts.max()))<Ps, dx, -dx), axis=1).reshape(ncond, nssd, nss, Ts.max())\\n#if analyze:\\n\\n# ALL CONDITIONS, ALL SSD\\ngrt = np.where(DVg[:, nss:, :].max(axis=2)>=a, tr + np.argmax(DVg[:, nss:, :]>=a, axis=2)*dt, np.nan)\\nert = np.where(DVg[:, :nss, :].max(axis=2)>=a, tr + np.argmax(DVg[:, :nss, :]>=a, axis=2)*dt, np.nan)\\nssrt = np.where(np.any(DVs<=0, axis=3), ssd[:, None]+np.argmax(DVs<=0, axis=3)*dt, np.nan)\"\u001b[0m\u001b[0;34m)\u001b[0m\u001b[0;34m\u001b[0m\u001b[0m\n\u001b[0m",
      "\u001b[0;32m/Users/kyle/anaconda/lib/python2.7/site-packages/IPython/core/interactiveshell.pyc\u001b[0m in \u001b[0;36mrun_cell_magic\u001b[0;34m(self, magic_name, line, cell)\u001b[0m\n\u001b[1;32m   2262\u001b[0m             \u001b[0mmagic_arg_s\u001b[0m \u001b[0;34m=\u001b[0m \u001b[0mself\u001b[0m\u001b[0;34m.\u001b[0m\u001b[0mvar_expand\u001b[0m\u001b[0;34m(\u001b[0m\u001b[0mline\u001b[0m\u001b[0;34m,\u001b[0m \u001b[0mstack_depth\u001b[0m\u001b[0;34m)\u001b[0m\u001b[0;34m\u001b[0m\u001b[0m\n\u001b[1;32m   2263\u001b[0m             \u001b[0;32mwith\u001b[0m \u001b[0mself\u001b[0m\u001b[0;34m.\u001b[0m\u001b[0mbuiltin_trap\u001b[0m\u001b[0;34m:\u001b[0m\u001b[0;34m\u001b[0m\u001b[0m\n\u001b[0;32m-> 2264\u001b[0;31m                 \u001b[0mresult\u001b[0m \u001b[0;34m=\u001b[0m \u001b[0mfn\u001b[0m\u001b[0;34m(\u001b[0m\u001b[0mmagic_arg_s\u001b[0m\u001b[0;34m,\u001b[0m \u001b[0mcell\u001b[0m\u001b[0;34m)\u001b[0m\u001b[0;34m\u001b[0m\u001b[0m\n\u001b[0m\u001b[1;32m   2265\u001b[0m             \u001b[0;32mreturn\u001b[0m \u001b[0mresult\u001b[0m\u001b[0;34m\u001b[0m\u001b[0m\n\u001b[1;32m   2266\u001b[0m \u001b[0;34m\u001b[0m\u001b[0m\n",
      "\u001b[0;32m/Users/kyle/anaconda/lib/python2.7/site-packages/IPython/core/magics/execution.pyc\u001b[0m in \u001b[0;36mtimeit\u001b[0;34m(self, line, cell)\u001b[0m\n",
      "\u001b[0;32m/Users/kyle/anaconda/lib/python2.7/site-packages/IPython/core/magic.pyc\u001b[0m in \u001b[0;36m<lambda>\u001b[0;34m(f, *a, **k)\u001b[0m\n\u001b[1;32m    191\u001b[0m     \u001b[0;31m# but it's overkill for just that one bit of state.\u001b[0m\u001b[0;34m\u001b[0m\u001b[0;34m\u001b[0m\u001b[0m\n\u001b[1;32m    192\u001b[0m     \u001b[0;32mdef\u001b[0m \u001b[0mmagic_deco\u001b[0m\u001b[0;34m(\u001b[0m\u001b[0marg\u001b[0m\u001b[0;34m)\u001b[0m\u001b[0;34m:\u001b[0m\u001b[0;34m\u001b[0m\u001b[0m\n\u001b[0;32m--> 193\u001b[0;31m         \u001b[0mcall\u001b[0m \u001b[0;34m=\u001b[0m \u001b[0;32mlambda\u001b[0m \u001b[0mf\u001b[0m\u001b[0;34m,\u001b[0m \u001b[0;34m*\u001b[0m\u001b[0ma\u001b[0m\u001b[0;34m,\u001b[0m \u001b[0;34m**\u001b[0m\u001b[0mk\u001b[0m\u001b[0;34m:\u001b[0m \u001b[0mf\u001b[0m\u001b[0;34m(\u001b[0m\u001b[0;34m*\u001b[0m\u001b[0ma\u001b[0m\u001b[0;34m,\u001b[0m \u001b[0;34m**\u001b[0m\u001b[0mk\u001b[0m\u001b[0;34m)\u001b[0m\u001b[0;34m\u001b[0m\u001b[0m\n\u001b[0m\u001b[1;32m    194\u001b[0m \u001b[0;34m\u001b[0m\u001b[0m\n\u001b[1;32m    195\u001b[0m         \u001b[0;32mif\u001b[0m \u001b[0mcallable\u001b[0m\u001b[0;34m(\u001b[0m\u001b[0marg\u001b[0m\u001b[0;34m)\u001b[0m\u001b[0;34m:\u001b[0m\u001b[0;34m\u001b[0m\u001b[0m\n",
      "\u001b[0;32m/Users/kyle/anaconda/lib/python2.7/site-packages/IPython/core/magics/execution.pyc\u001b[0m in \u001b[0;36mtimeit\u001b[0;34m(self, line, cell)\u001b[0m\n\u001b[1;32m   1034\u001b[0m             \u001b[0mnumber\u001b[0m \u001b[0;34m=\u001b[0m \u001b[0;36m1\u001b[0m\u001b[0;34m\u001b[0m\u001b[0m\n\u001b[1;32m   1035\u001b[0m             \u001b[0;32mfor\u001b[0m \u001b[0m_\u001b[0m \u001b[0;32min\u001b[0m \u001b[0mrange\u001b[0m\u001b[0;34m(\u001b[0m\u001b[0;36m1\u001b[0m\u001b[0;34m,\u001b[0m \u001b[0;36m10\u001b[0m\u001b[0;34m)\u001b[0m\u001b[0;34m:\u001b[0m\u001b[0;34m\u001b[0m\u001b[0m\n\u001b[0;32m-> 1036\u001b[0;31m                 \u001b[0mtime_number\u001b[0m \u001b[0;34m=\u001b[0m \u001b[0mtimer\u001b[0m\u001b[0;34m.\u001b[0m\u001b[0mtimeit\u001b[0m\u001b[0;34m(\u001b[0m\u001b[0mnumber\u001b[0m\u001b[0;34m)\u001b[0m\u001b[0;34m\u001b[0m\u001b[0m\n\u001b[0m\u001b[1;32m   1037\u001b[0m                 \u001b[0mworst_tuning\u001b[0m \u001b[0;34m=\u001b[0m \u001b[0mmax\u001b[0m\u001b[0;34m(\u001b[0m\u001b[0mworst_tuning\u001b[0m\u001b[0;34m,\u001b[0m \u001b[0mtime_number\u001b[0m \u001b[0;34m/\u001b[0m \u001b[0mnumber\u001b[0m\u001b[0;34m)\u001b[0m\u001b[0;34m\u001b[0m\u001b[0m\n\u001b[1;32m   1038\u001b[0m                 \u001b[0;32mif\u001b[0m \u001b[0mtime_number\u001b[0m \u001b[0;34m>=\u001b[0m \u001b[0;36m0.2\u001b[0m\u001b[0;34m:\u001b[0m\u001b[0;34m\u001b[0m\u001b[0m\n",
      "\u001b[0;32m/Users/kyle/anaconda/lib/python2.7/site-packages/IPython/core/magics/execution.pyc\u001b[0m in \u001b[0;36mtimeit\u001b[0;34m(self, number)\u001b[0m\n\u001b[1;32m    130\u001b[0m         \u001b[0mgc\u001b[0m\u001b[0;34m.\u001b[0m\u001b[0mdisable\u001b[0m\u001b[0;34m(\u001b[0m\u001b[0;34m)\u001b[0m\u001b[0;34m\u001b[0m\u001b[0m\n\u001b[1;32m    131\u001b[0m         \u001b[0;32mtry\u001b[0m\u001b[0;34m:\u001b[0m\u001b[0;34m\u001b[0m\u001b[0m\n\u001b[0;32m--> 132\u001b[0;31m             \u001b[0mtiming\u001b[0m \u001b[0;34m=\u001b[0m \u001b[0mself\u001b[0m\u001b[0;34m.\u001b[0m\u001b[0minner\u001b[0m\u001b[0;34m(\u001b[0m\u001b[0mit\u001b[0m\u001b[0;34m,\u001b[0m \u001b[0mself\u001b[0m\u001b[0;34m.\u001b[0m\u001b[0mtimer\u001b[0m\u001b[0;34m)\u001b[0m\u001b[0;34m\u001b[0m\u001b[0m\n\u001b[0m\u001b[1;32m    133\u001b[0m         \u001b[0;32mfinally\u001b[0m\u001b[0;34m:\u001b[0m\u001b[0;34m\u001b[0m\u001b[0m\n\u001b[1;32m    134\u001b[0m             \u001b[0;32mif\u001b[0m \u001b[0mgcold\u001b[0m\u001b[0;34m:\u001b[0m\u001b[0;34m\u001b[0m\u001b[0m\n",
      "\u001b[0;32m<magic-timeit>\u001b[0m in \u001b[0;36minner\u001b[0;34m(_it, _timer)\u001b[0m\n",
      "\u001b[0;31mValueError\u001b[0m: total size of new array must be unchanged"
     ]
    }
   ],
   "source": [
    "%%timeit\n",
    "a=theta['a']\n",
    "tr=theta['tr']\n",
    "ssv=-abs(theta['ssv'])\n",
    "v = theta['v']\n",
    "z=theta['z']\n",
    "ncond=2\n",
    "p=np.array([.1, .3, .5, .7, .9])\n",
    "ssd=np.arange(.2, .45, .05)\n",
    "ntot=5000\n",
    "nssd=len(ssd)\n",
    "nss=int(ntot/2/len(ssd))\n",
    "tb=0.650\n",
    "dt=.0005\n",
    "si=.01\n",
    "\n",
    "dx=np.sqrt(si*dt)\n",
    "Pg = 0.5*(1 + v*dx/si)\n",
    "Tg = np.ceil((tb-tr)/dt).astype(int)\n",
    "\n",
    "Ps = 0.5*(1 + ssv*dx/si)\n",
    "Ts = np.ceil((tb-ssd)/dt).astype(int)\n",
    "\n",
    "# ALL CONDITIONS, ALL SSD\n",
    "DVg = z + np.cumsum(np.where((rs((ncond, ntot, Tg)).T < Pg), dx, -dx).T, axis=2)\n",
    "#init_ss = np.array([np.array([DVc[:nss, ix] for ix in np.where(Ts<Tg, Tg-Ts, 0)]) for DVc in DVg])\n",
    "#DVs = init_ss[:, :, :, None] + np.cumsum(np.where(rs((ncond, nssd, nss, Ts.max()))<Ps, dx, -dx), axis=3)\n",
    "init_ss = np.array([[DVc[:nss, ix] for ix in np.where(Ts<Tg, Tg-Ts, 0)] for DVc in DVg])\n",
    "DVs = init_ss[:, :, :, None] + np.cumsum(np.where(rs((nss*ncond, Ts.max()))<Ps, dx, -dx), axis=1).reshape(ncond, nssd, nss, Ts.max())\n",
    "#if analyze:\n",
    "\n",
    "# ALL CONDITIONS, ALL SSD\n",
    "grt = np.where(DVg[:, nss:, :].max(axis=2)>=a, tr + np.argmax(DVg[:, nss:, :]>=a, axis=2)*dt, np.nan)\n",
    "ert = np.where(DVg[:, :nss, :].max(axis=2)>=a, tr + np.argmax(DVg[:, :nss, :]>=a, axis=2)*dt, np.nan)\n",
    "ssrt = np.where(np.any(DVs<=0, axis=3), ssd[:, None]+np.argmax(DVs<=0, axis=3)*dt, np.nan)"
   ]
  },
  {
   "cell_type": "code",
   "execution_count": null,
   "metadata": {
    "collapsed": false
   },
   "outputs": [],
   "source": [
    "init_ss.shape[:, :, ]"
   ]
  },
  {
   "cell_type": "code",
   "execution_count": 579,
   "metadata": {
    "collapsed": false
   },
   "outputs": [],
   "source": [
    "ssrt2 = np.where(np.any(DVs2<=0, axis=3), ssd[:, None]+np.argmax(DVs2<=0, axis=3)*dt, np.nan)\n"
   ]
  },
  {
   "cell_type": "code",
   "execution_count": 593,
   "metadata": {
    "collapsed": false
   },
   "outputs": [],
   "source": [
    "init_ss = np.array([np.array([DVc[:nss, ix] for ix in np.where(Ts<Tg, Tg-Ts, 0)]) for DVc in DVg])\n",
    "DVs1 = init_ss[:, :, :, None] + np.cumsum(np.where(rs((ncond, nssd, nss, Ts.max()))<Ps, dx, -dx), axis=2)\n",
    "DVs2 = init_ss[:, :, :, None] + b#np.cumsum(np.where(rs((nss, Ts.max()))<Ps, dx, -dx), axis=1) "
   ]
  },
  {
   "cell_type": "code",
   "execution_count": 590,
   "metadata": {
    "collapsed": false
   },
   "outputs": [],
   "source": [
    "a = np.cumsum(np.where(rs((nss, Ts.max()))<Ps, dx, -dx), axis=1) \n",
    "b=np.copy(a)"
   ]
  },
  {
   "cell_type": "code",
   "execution_count": 615,
   "metadata": {
    "collapsed": false
   },
   "outputs": [],
   "source": [
    "a = init_ss[:, :, :, None] + np.array([np.cumsum(np.where(rs((nss, Ts.max()))<Ps, dx, -dx), axis=1)]*5)"
   ]
  },
  {
   "cell_type": "code",
   "execution_count": 616,
   "metadata": {
    "collapsed": false
   },
   "outputs": [
    {
     "data": {
      "text/plain": [
       "(2, 5, 2500, 900)"
      ]
     },
     "execution_count": 616,
     "metadata": {},
     "output_type": "execute_result"
    }
   ],
   "source": [
    "a.shape"
   ]
  },
  {
   "cell_type": "code",
   "execution_count": 591,
   "metadata": {
    "collapsed": false
   },
   "outputs": [
    {
     "data": {
      "text/plain": [
       "(5, 2500, 900)"
      ]
     },
     "execution_count": 591,
     "metadata": {},
     "output_type": "execute_result"
    }
   ],
   "source": [
    "b.shape"
   ]
  },
  {
   "cell_type": "code",
   "execution_count": 52,
   "metadata": {
    "collapsed": true
   },
   "outputs": [],
   "source": [
    "x = init_ss[:,:,:]"
   ]
  },
  {
   "cell_type": "code",
   "execution_count": 57,
   "metadata": {
    "collapsed": false
   },
   "outputs": [
    {
     "ename": "ValueError",
     "evalue": "operands could not be broadcast together with shapes (2500,5,2) (2,1,5,2500,900) ",
     "output_type": "error",
     "traceback": [
      "\u001b[0;31m---------------------------------------------------------------------------\u001b[0m",
      "\u001b[0;31mValueError\u001b[0m                                Traceback (most recent call last)",
      "\u001b[0;32m<ipython-input-57-762e07e55f7f>\u001b[0m in \u001b[0;36m<module>\u001b[0;34m()\u001b[0m\n\u001b[0;32m----> 1\u001b[0;31m \u001b[0mx\u001b[0m\u001b[0;34m.\u001b[0m\u001b[0mT\u001b[0m \u001b[0;34m+\u001b[0m \u001b[0mnp\u001b[0m\u001b[0;34m.\u001b[0m\u001b[0marray\u001b[0m\u001b[0;34m(\u001b[0m\u001b[0;34m[\u001b[0m\u001b[0mdvs\u001b[0m\u001b[0;34m]\u001b[0m\u001b[0;34m*\u001b[0m\u001b[0;36m2\u001b[0m\u001b[0;34m)\u001b[0m\u001b[0;34m\u001b[0m\u001b[0m\n\u001b[0m",
      "\u001b[0;31mValueError\u001b[0m: operands could not be broadcast together with shapes (2500,5,2) (2,1,5,2500,900) "
     ]
    }
   ],
   "source": [
    "x.T + n"
   ]
  },
  {
   "cell_type": "code",
   "execution_count": 63,
   "metadata": {
    "collapsed": false
   },
   "outputs": [
    {
     "data": {
      "text/plain": [
       "(2500, 900)"
      ]
     },
     "execution_count": 63,
     "metadata": {},
     "output_type": "execute_result"
    }
   ],
   "source": [
    "dvs.shape\n",
    "#init_ss.shape"
   ]
  },
  {
   "cell_type": "code",
   "execution_count": 64,
   "metadata": {
    "collapsed": true
   },
   "outputs": [],
   "source": [
    "sxi = np.array([np.array([DVc[:nss, ix] for ix in np.where(Ts<Tg, Tg-Ts, 0)]) for DVc in DVg])"
   ]
  },
  {
   "cell_type": "code",
   "execution_count": 90,
   "metadata": {
    "collapsed": false
   },
   "outputs": [
    {
     "data": {
      "text/plain": [
       "0.15871869060699953"
      ]
     },
     "execution_count": 90,
     "metadata": {},
     "output_type": "execute_result"
    }
   ],
   "source": [
    "x = sxi[:, :, :nss, None] + dvs\n",
    "x[1,1,1,0]"
   ]
  },
  {
   "cell_type": "code",
   "execution_count": 75,
   "metadata": {
    "collapsed": false
   },
   "outputs": [
    {
     "data": {
      "text/plain": [
       "(2, 5, 2500, 900)"
      ]
     },
     "execution_count": 75,
     "metadata": {},
     "output_type": "execute_result"
    }
   ],
   "source": [
    "(sxi[:, :, :nss, None] + dvs).shape"
   ]
  },
  {
   "cell_type": "code",
   "execution_count": 69,
   "metadata": {
    "collapsed": false
   },
   "outputs": [
    {
     "data": {
      "text/plain": [
       "(2500, 900)"
      ]
     },
     "execution_count": 69,
     "metadata": {},
     "output_type": "execute_result"
    }
   ],
   "source": [
    "\n",
    "sxi.shape.reshape()\n",
    "dvs.shape\n"
   ]
  },
  {
   "cell_type": "code",
   "execution_count": 60,
   "metadata": {
    "collapsed": false
   },
   "outputs": [
    {
     "ename": "TypeError",
     "evalue": "only length-1 arrays can be converted to Python scalars",
     "output_type": "error",
     "traceback": [
      "\u001b[0;31m---------------------------------------------------------------------------\u001b[0m",
      "\u001b[0;31mTypeError\u001b[0m                                 Traceback (most recent call last)",
      "\u001b[0;32m<ipython-input-60-cad3803e17f2>\u001b[0m in \u001b[0;36m<module>\u001b[0;34m()\u001b[0m\n\u001b[1;32m      1\u001b[0m \u001b[0mdvs\u001b[0m \u001b[0;34m=\u001b[0m \u001b[0mnp\u001b[0m\u001b[0;34m.\u001b[0m\u001b[0mcumsum\u001b[0m\u001b[0;34m(\u001b[0m\u001b[0mnp\u001b[0m\u001b[0;34m.\u001b[0m\u001b[0mwhere\u001b[0m\u001b[0;34m(\u001b[0m\u001b[0mrs\u001b[0m\u001b[0;34m(\u001b[0m\u001b[0;34m(\u001b[0m\u001b[0mnss\u001b[0m\u001b[0;34m,\u001b[0m \u001b[0mTs\u001b[0m\u001b[0;34m.\u001b[0m\u001b[0mmax\u001b[0m\u001b[0;34m(\u001b[0m\u001b[0;34m)\u001b[0m\u001b[0;34m)\u001b[0m\u001b[0;34m)\u001b[0m\u001b[0;34m<\u001b[0m\u001b[0mPs\u001b[0m\u001b[0;34m,\u001b[0m \u001b[0mdx\u001b[0m\u001b[0;34m,\u001b[0m \u001b[0;34m-\u001b[0m\u001b[0mdx\u001b[0m\u001b[0;34m)\u001b[0m\u001b[0;34m,\u001b[0m \u001b[0maxis\u001b[0m\u001b[0;34m=\u001b[0m\u001b[0;36m1\u001b[0m\u001b[0;34m)\u001b[0m\u001b[0;34m\u001b[0m\u001b[0m\n\u001b[0;32m----> 2\u001b[0;31m \u001b[0mnp\u001b[0m\u001b[0;34m.\u001b[0m\u001b[0msum\u001b[0m\u001b[0;34m(\u001b[0m\u001b[0minit_ss\u001b[0m\u001b[0;34m,\u001b[0m \u001b[0mdvs\u001b[0m\u001b[0;34m)\u001b[0m\u001b[0;34m\u001b[0m\u001b[0m\n\u001b[0m",
      "\u001b[0;32m/Users/kyle/anaconda/lib/python2.7/site-packages/numpy/core/fromnumeric.pyc\u001b[0m in \u001b[0;36msum\u001b[0;34m(a, axis, dtype, out, keepdims)\u001b[0m\n\u001b[1;32m   1722\u001b[0m     \u001b[0;32melse\u001b[0m\u001b[0;34m:\u001b[0m\u001b[0;34m\u001b[0m\u001b[0m\n\u001b[1;32m   1723\u001b[0m         return _methods._sum(a, axis=axis, dtype=dtype,\n\u001b[0;32m-> 1724\u001b[0;31m                             out=out, keepdims=keepdims)\n\u001b[0m\u001b[1;32m   1725\u001b[0m \u001b[0;34m\u001b[0m\u001b[0m\n\u001b[1;32m   1726\u001b[0m \u001b[0;32mdef\u001b[0m \u001b[0mproduct\u001b[0m \u001b[0;34m(\u001b[0m\u001b[0ma\u001b[0m\u001b[0;34m,\u001b[0m \u001b[0maxis\u001b[0m\u001b[0;34m=\u001b[0m\u001b[0mNone\u001b[0m\u001b[0;34m,\u001b[0m \u001b[0mdtype\u001b[0m\u001b[0;34m=\u001b[0m\u001b[0mNone\u001b[0m\u001b[0;34m,\u001b[0m \u001b[0mout\u001b[0m\u001b[0;34m=\u001b[0m\u001b[0mNone\u001b[0m\u001b[0;34m,\u001b[0m \u001b[0mkeepdims\u001b[0m\u001b[0;34m=\u001b[0m\u001b[0mFalse\u001b[0m\u001b[0;34m)\u001b[0m\u001b[0;34m:\u001b[0m\u001b[0;34m\u001b[0m\u001b[0m\n",
      "\u001b[0;32m/Users/kyle/anaconda/lib/python2.7/site-packages/numpy/core/_methods.pyc\u001b[0m in \u001b[0;36m_sum\u001b[0;34m(a, axis, dtype, out, keepdims)\u001b[0m\n\u001b[1;32m     30\u001b[0m \u001b[0;34m\u001b[0m\u001b[0m\n\u001b[1;32m     31\u001b[0m \u001b[0;32mdef\u001b[0m \u001b[0m_sum\u001b[0m\u001b[0;34m(\u001b[0m\u001b[0ma\u001b[0m\u001b[0;34m,\u001b[0m \u001b[0maxis\u001b[0m\u001b[0;34m=\u001b[0m\u001b[0mNone\u001b[0m\u001b[0;34m,\u001b[0m \u001b[0mdtype\u001b[0m\u001b[0;34m=\u001b[0m\u001b[0mNone\u001b[0m\u001b[0;34m,\u001b[0m \u001b[0mout\u001b[0m\u001b[0;34m=\u001b[0m\u001b[0mNone\u001b[0m\u001b[0;34m,\u001b[0m \u001b[0mkeepdims\u001b[0m\u001b[0;34m=\u001b[0m\u001b[0mFalse\u001b[0m\u001b[0;34m)\u001b[0m\u001b[0;34m:\u001b[0m\u001b[0;34m\u001b[0m\u001b[0m\n\u001b[0;32m---> 32\u001b[0;31m     \u001b[0;32mreturn\u001b[0m \u001b[0mumr_sum\u001b[0m\u001b[0;34m(\u001b[0m\u001b[0ma\u001b[0m\u001b[0;34m,\u001b[0m \u001b[0maxis\u001b[0m\u001b[0;34m,\u001b[0m \u001b[0mdtype\u001b[0m\u001b[0;34m,\u001b[0m \u001b[0mout\u001b[0m\u001b[0;34m,\u001b[0m \u001b[0mkeepdims\u001b[0m\u001b[0;34m)\u001b[0m\u001b[0;34m\u001b[0m\u001b[0m\n\u001b[0m\u001b[1;32m     33\u001b[0m \u001b[0;34m\u001b[0m\u001b[0m\n\u001b[1;32m     34\u001b[0m \u001b[0;32mdef\u001b[0m \u001b[0m_prod\u001b[0m\u001b[0;34m(\u001b[0m\u001b[0ma\u001b[0m\u001b[0;34m,\u001b[0m \u001b[0maxis\u001b[0m\u001b[0;34m=\u001b[0m\u001b[0mNone\u001b[0m\u001b[0;34m,\u001b[0m \u001b[0mdtype\u001b[0m\u001b[0;34m=\u001b[0m\u001b[0mNone\u001b[0m\u001b[0;34m,\u001b[0m \u001b[0mout\u001b[0m\u001b[0;34m=\u001b[0m\u001b[0mNone\u001b[0m\u001b[0;34m,\u001b[0m \u001b[0mkeepdims\u001b[0m\u001b[0;34m=\u001b[0m\u001b[0mFalse\u001b[0m\u001b[0;34m)\u001b[0m\u001b[0;34m:\u001b[0m\u001b[0;34m\u001b[0m\u001b[0m\n",
      "\u001b[0;31mTypeError\u001b[0m: only length-1 arrays can be converted to Python scalars"
     ]
    }
   ],
   "source": [
    "dvs = np.cumsum(np.where(rs((nss, Ts.max()))<Ps, dx, -dx), axis=1)\n",
    "np.sum(init_ss, dvs)"
   ]
  },
  {
   "cell_type": "code",
   "execution_count": 93,
   "metadata": {
    "collapsed": false
   },
   "outputs": [],
   "source": [
    "\n",
    "a=theta['a']\n",
    "tr=theta['tr']\n",
    "ssv=-abs(theta['ssv'])\n",
    "v = theta['v']\n",
    "z=theta['z']\n",
    "ncond=2\n",
    "p=np.array([.1, .3, .5, .7, .9])\n",
    "ssd=np.arange(.2, .45, .05)\n",
    "ntot=5000\n",
    "nssd=len(ssd)\n",
    "nss=int(ntot/len(ssd))\n",
    "nss=5000/2\n",
    "tb=0.650\n",
    "dt=.0005\n",
    "si=.01\n",
    "\n",
    "dx=np.sqrt(si*dt)\n",
    "Pg = 0.5*(1 + v*dx/si)\n",
    "Tg = np.ceil((tb-tr)/dt).astype(int)\n",
    "\n",
    "Ps = 0.5*(1 + ssv*dx/si)\n",
    "Ts = np.ceil((tb-ssd)/dt).astype(int)\n",
    "\n",
    "# ALL CONDITIONS, ALL SSD\n",
    "DVg = z + np.cumsum(np.where((rs((ncond, ntot, Tg)).T < Pg), dx, -dx).T, axis=2)\n",
    "init_ss = np.array([np.array([DVc[:nss, ix] for ix in np.where(Ts<Tg, Tg-Ts, 0)]) for DVc in DVg])\n",
    "DVs = init_ss[:, :, :, None] + np.cumsum(np.where(rs((nss, Ts.max()))<Ps, dx, -dx), axis=1) \n",
    "#DVs2 = init_ss[:, :, :, None] + np.array([np.cumsum(np.where(rs((nssd, nss, Ts.max()))<Ps, dx, -dx), axis=1)])\n",
    "#if analyze:\n",
    "\n",
    "# ALL CONDITIONS, ALL SSD\n",
    "grt = np.where(DVg[:, nss:, :].max(axis=2)>=a, tr + np.argmax(DVg[:, nss:, :]>=a, axis=2)*dt, np.nan)\n",
    "ert = np.where(DVg[:, :nss, :].max(axis=2)>=a, tr + np.argmax(DVg[:, :nss, :]>=a, axis=2)*dt, np.nan)\n",
    "ssrt1 = np.where(np.any(DVs1<=0, axis=3), ssd[:, None]+np.argmax(DVs1<=0, axis=3)*dt, np.nan)\n",
    "ssrt2 = np.where(np.any(DVs2<=0, axis=3), ssd[:, None]+np.argmax(DVs2<=0, axis=3)*dt, np.nan)\n",
    "\n",
    "#collapse across SSD and get average ssrt vector for each condition\n",
    "c_ssrt1 = np.nanmean(ssrt1, axis=1)\n",
    "c_ssrt2 = np.nanmean(ssrt2, axis=1)\n",
    "\n",
    "# compute RT quantiles for correct and error resp.\n",
    "gq = np.vstack([mq(rtc[rtc<tb], prob=p)*10 for rtc in grt])\n",
    "eq1 = np.array([mq(np.extract(ert[i]<c_ssrt1[i], ert[i]), prob=p)*10 for i in range(ncond)])\n",
    "eq2 = np.array([mq(np.extract(ert[i]<c_ssrt2[i], ert[i]), prob=p)*10 for i in range(ncond)])\n",
    "\n",
    "# Get response and stop accuracy information\n",
    "gac = np.where(grt<tb, 1, 0).mean(axis=1)\n",
    "sacc1 = np.array([1 - np.where(ert[i]<ssrt1[i], 1, 0).mean(axis=1) for i in range(ncond)])\n",
    "sacc2 = np.array([1 - np.where(ert[i]<ssrt2[i], 1, 0).mean(axis=1) for i in range(ncond)])\n",
    "\n",
    "yhat1 = [gac, sacc1, gq, eq1]\n",
    "yhat2 = [gac, sacc2, gq, eq2]\n",
    "\n",
    "yhat_grouped1 = np.array([np.hstack([i[ii] for i in yhat1]) for ii in range(ncond)])\n",
    "yhat_grouped2 = np.array([np.hstack([i[ii] for i in yhat2]) for ii in range(ncond)])\n",
    "\n"
   ]
  },
  {
   "cell_type": "code",
   "execution_count": 226,
   "metadata": {
    "collapsed": true
   },
   "outputs": [],
   "source": [
    "\n",
    "def simulate_full(a, tr, v, ssv, z, analyze=True, ncond=1, p=np.array([.1, .3, .5, .7, .9]), ssd=np.arange(.2, .45, .05), ntot=2000, tb=0.650, dt=.0005, si=.01):\n",
    "      \"\"\"\n",
    "\n",
    "      Simulates all Conditions, SSD, trials, timepoints simultaneously by\n",
    "      treating drift-rate as a vector, containing a value for each condition.\n",
    "\n",
    "      args:\n",
    "            a, tr, ssv, z (float):        model parameters (excl 'v')\n",
    "            v (array):                    array of drift-rates (1/cond)\n",
    "            ssd  (array):                 full set of stop signal delays\n",
    "            nss  (int):                   number of stop trials\n",
    "            ntot (int):                   number of total trials\n",
    "            tb (float):                   time boundary\n",
    "\n",
    "      returns:\n",
    "\n",
    "            DVg (Go Process):       3d array for all conditions, trials, timepoints\n",
    "                                    (i.e. DVg = [COND [NTrials [NTime]]] )\n",
    "                                    All conditions are simulated simultaneously (i.e., BSL & PNL)\n",
    "\n",
    "            DVs (Stop Process):     4d array for all conditions, SSD, SS trials, timepoints.\n",
    "                                    i.e. ( DVs = [COND [SSD [nSSTrials [NTime]]]] )\n",
    "                                    All ss decision traces are initiated from DVg[Cond](t=SSD | SSD<tr)\n",
    "\n",
    "      Output can be passed to <analyze_reactive_full()> to extract\n",
    "      expected values to be entered into the cost f(x)\n",
    "      \"\"\"\n",
    "\n",
    "      nssd=len(ssd)\n",
    "      dx=np.sqrt(si*dt)\n",
    "      Pg = 0.5*(1 + v*dx/si)\n",
    "      Tg = np.ceil((tb-tr)/dt).astype(int)\n",
    "\n",
    "      Ps = 0.5*(1 + ssv*dx/si)\n",
    "      Ts = np.ceil((tb-ssd)/dt).astype(int)\n",
    "\n",
    "      # ALL CONDITIONS, ALL SSD\n",
    "      DVg = z + np.cumsum(np.where((rs((ncond, ntot, Tg)).T < Pg), dx, -dx).T, axis=2)\n",
    "      init_ss = np.array([[DVc[:nss, ix] for ix in np.where(Ts<Tg, Tg-Ts, 0)] for DVc in DVg])\n",
    "      DVs = init_ss[:, :, :, None] + np.cumsum(np.where(rs((nss, Ts.max()))<Ps, dx, -dx), axis=1) \n",
    "\n",
    "\n",
    "      # ALL CONDITIONS, ALL SSD\n",
    "      grt = np.where(DVg[:, nss:, :].max(axis=2)>=a, tr + np.argmax(DVg[:, nss:, :]>=a, axis=2)*dt, np.nan)\n",
    "      ert = np.where(DVg[:, :nss, :].max(axis=2)>=a, tr + np.argmax(DVg[:, :nss, :]>=a, axis=2)*dt, np.nan)\n",
    "      ssrt = np.where(np.any(DVs<=0, axis=3), ssd[:, None]+np.argmax(DVs<=0, axis=3)*dt, np.nan)\n",
    "\n",
    "      #collapse across SSD and get average ssrt vector for each condition\n",
    "      c_ssrt = ssrt.mean(axis=1)\n",
    "\n",
    "      # compute RT quantiles for correct and error resp.\n",
    "      gq = np.vstack([mq(rtc[rtc<tb], prob=p)*10 for rtc in grt])\n",
    "      eq = np.array([mq(np.extract(ert[i]<c_ssrt[i], ert[i]), prob=p)*10 for i in range(ncond)])\n",
    "\n",
    "      # Get response and stop accuracy information\n",
    "      gac = np.where(grt<tb, 1, 0).mean(axis=1)\n",
    "      sacc = np.array([1 - np.where(ert[i]<ssrt[i], 1, 0).mean(axis=1) for i in range(ncond)])\n",
    "\n",
    "      yhat = [gac, sacc, gq, eq]\n",
    "      yhat_grouped = np.array([np.hstack([i[ii] for i in yhat]) for ii in range(ncond)])\n",
    "\n",
    "      return yhat_grouped"
   ]
  },
  {
   "cell_type": "code",
   "execution_count": 139,
   "metadata": {
    "collapsed": false
   },
   "outputs": [
    {
     "data": {
      "text/plain": [
       "2500"
      ]
     },
     "execution_count": 139,
     "metadata": {},
     "output_type": "execute_result"
    }
   ],
   "source": [
    "c_ssrt1 = np.nanmean(ssrt1, axis=1)"
   ]
  },
  {
   "cell_type": "code",
   "execution_count": 156,
   "metadata": {
    "collapsed": false
   },
   "outputs": [
    {
     "data": {
      "text/plain": [
       "array([ 0.92724562,  0.9934426 ,  0.98524588,  0.92540985,  0.5942623 ,\n",
       "        0.18114755,  5.18260765,  5.45125008,  5.71676922,  5.97715616,\n",
       "        6.25050116,  5.04096556,  5.31758499,  5.45331287,  5.71764088,\n",
       "        5.98438311], dtype=float32)"
      ]
     },
     "execution_count": 156,
     "metadata": {},
     "output_type": "execute_result"
    }
   ],
   "source": [
    "y[1]"
   ]
  },
  {
   "cell_type": "code",
   "execution_count": 161,
   "metadata": {
    "collapsed": false,
    "scrolled": true
   },
   "outputs": [
    {
     "data": {
      "text/plain": [
       "array([[ 0.9628    ,  0.9988    ,  0.9884    ,  0.9436    ,  0.484     ,\n",
       "         0.106     ,  5.08370698,  5.36370698,  5.55370698,  5.78370698,\n",
       "         6.11370698,  4.88370698,  5.05370698,  5.19370698,  5.34310698,\n",
       "         5.56750698],\n",
       "       [ 0.9628    ,  0.9988    ,  0.988     ,  0.944     ,  0.4704    ,\n",
       "         0.0936    ,  5.10370698,  5.37370698,  5.59370698,  5.80370698,\n",
       "         6.14370698,  4.83370698,  5.03370698,  5.16370698,  5.34370698,\n",
       "         5.59370698]])"
      ]
     },
     "execution_count": 161,
     "metadata": {},
     "output_type": "execute_result"
    }
   ],
   "source": [
    "yhat_grouped2"
   ]
  },
  {
   "cell_type": "code",
   "execution_count": 142,
   "metadata": {
    "collapsed": false
   },
   "outputs": [],
   "source": [
    "eq1 = np.array([mq(ert[0][ert[0]<c_ssrt1[0]], prob=p)*10 for i in range(ncond)])\n",
    "eq2 = np.array([mq(ert[0][ert[0]<c_ssrt2[0]], prob=p)*10 for i in range(ncond)])"
   ]
  },
  {
   "cell_type": "code",
   "execution_count": 143,
   "metadata": {
    "collapsed": false
   },
   "outputs": [
    {
     "data": {
      "text/plain": [
       "array([[ 4.79690698,  4.92530698,  5.03370698,  5.12370698,  5.26050698],\n",
       "       [ 4.79690698,  4.92530698,  5.03370698,  5.12370698,  5.26050698]])"
      ]
     },
     "execution_count": 143,
     "metadata": {},
     "output_type": "execute_result"
    }
   ],
   "source": [
    "eq1"
   ]
  },
  {
   "cell_type": "code",
   "execution_count": 144,
   "metadata": {
    "collapsed": false
   },
   "outputs": [
    {
     "data": {
      "text/plain": [
       "array([[ 4.88370698,  5.05370698,  5.19370698,  5.34310698,  5.56750698],\n",
       "       [ 4.88370698,  5.05370698,  5.19370698,  5.34310698,  5.56750698]])"
      ]
     },
     "execution_count": 144,
     "metadata": {},
     "output_type": "execute_result"
    }
   ],
   "source": [
    "eq2"
   ]
  },
  {
   "cell_type": "code",
   "execution_count": 121,
   "metadata": {
    "collapsed": false
   },
   "outputs": [
    {
     "name": "stdout",
     "output_type": "stream",
     "text": [
      "-0.2281210695\n",
      "-0.187871845905\n"
     ]
    }
   ],
   "source": [
    "print DVs1[0,0,6,899]\n",
    "print DVs2[0,0,6,899]\n"
   ]
  },
  {
   "cell_type": "code",
   "execution_count": 168,
   "metadata": {
    "collapsed": false
   },
   "outputs": [
    {
     "data": {
      "text/plain": [
       "array([ 0.3465,  0.3235,  0.3365, ...,  0.4075,  0.3265,  0.4725])"
      ]
     },
     "execution_count": 168,
     "metadata": {},
     "output_type": "execute_result"
    }
   ],
   "source": [
    "ssrt2[1][0]"
   ]
  },
  {
   "cell_type": "code",
   "execution_count": null,
   "metadata": {
    "collapsed": true
   },
   "outputs": [],
   "source": []
  },
  {
   "cell_type": "code",
   "execution_count": 225,
   "metadata": {
    "collapsed": false
   },
   "outputs": [
    {
     "data": {
      "text/plain": [
       "<matplotlib.axes._subplots.AxesSubplot at 0x1abcd82d0>"
      ]
     },
     "execution_count": 225,
     "metadata": {},
     "output_type": "execute_result"
    },
    {
     "data": {
      "text/html": [
       "<img src='data:image/png;base64,iVBORw0KGgoAAAANSUhEUgAAA9kAAAK5CAYAAACrN+0EAAAABHNCSVQICAgIfAhkiAAAAAlwSFlz\n",
       "AAAWJQAAFiUBSVIk8AAAIABJREFUeJzs3Xd8W/d97/83QHAvcYoiKZGSKB1qURKpvS1vx46dUduZ\n",
       "zrxt2iZpbpo2vbcj93dvmya/tGma0dsmrrPjOk7iPSNZe1LUHhBFcYlTpMS9Adw/JB0AGrQGgAMQ\n",
       "r+fjoYfwOcDh+ciQRX7w/ZzP1+bxeAQAAAAAAO6c3eoEAAAAAACYKCiyAQAAAAAIEIpsAAAAAAAC\n",
       "hCIbAAAAAIAAocgGAAAAACBAKLIBAAAAAAgQimwAAAAAAAKEIhsAAAAAgAChyAYAAAAAIEAosgEA\n",
       "AAAACBCKbAAAAAAAAiSqimzDMDyGYXiszgOhx3sf3Xj/oxfvfXTj/Y9uvP/Ri/c+uoXD+x9VRTYA\n",
       "AAAAAMHkCNQXMgzjjyV9T9Ikp9PZc9VzDklfkPQZSUWS2iX9VtLfOZ3OvkDlAAAAAACAlQKykm0Y\n",
       "hl3SpyTdaFn+/0r6lqQxSf8pySnpS5K2GoYRF4gcAAAAAACw2h2tZBuGUSZpsaRPSirXdYpswzA2\n",
       "6FIB/rakh5xOp+vy8b+R9L8kfUXS399JHgAAAAAAhIPbXsk2DCNF0iFJz0haN85L/+Ty71+9UmBf\n",
       "9k+6tLL92dvNAQAAAACAcHIn7eKDkp68/OtDkk7e4HXrJLU5nc6DvgedTueApCpJ0wzDKLqDPAAA\n",
       "AAAACAu33S5+eVX6uSuxYRifk1Tq+xrDMAok5UjacoMvc0LSMkmzJNXfbi4AAAAAAISDYG/hlXX5\n",
       "97YbPN91+ffMIOcBAAAAAEDQBbvITrv8+/ANnu+//HvAthIDAAAAAMAqwS5uRy//nniD569s3zUQ\n",
       "5DxkGEaOz+PVkoaCfU2EH8MwKqzOAdbh/Y9evPfRjfc/uvH+Ry/e+6iUcOWBYRg5TqfzvBVJBLvI\n",
       "vvKHyrjB81fayZtv9wKGYdxob+7x7Ljd6yHiVVqdACzF+x+9eO+jG+9/dOP9j16899Gt3TCMm3qh\n",
       "0+m0BfLCwW4Xr9elKeTzb/B8iSSXLg1AAwAAAAAgogV1JdvpdLoMw9gi6UHDMOY7nc5jV54zDCNd\n",
       "lyaL73U6nX13cI2b+tThcov4Dkn65je/qZkzZ97uJQEAAAAAYaampkZ/8Rd/cSVc43Q6d1qRRygG\n",
       "jv1fSQ9K+gfDMB51Op1X2ru/rks9898LQQ6Szz3YM2fO1Pz5N1pcBwAAAABEOMtmcAW6yL5mVdnp\n",
       "dL5sGMZzkh6XdMAwjF2SlujSKvZLTqfz2QDnAAAAAACAJQJ5T7bn8q/r+Yikv5aUKunTujTw7G8l\n",
       "fTCA1wcAAAAAwFIBW8l2Op13jfOcS9I/XP4FAAAAAMCEFOzp4gAAAAAARA2KbAAAAAAAAoQiGwAA\n",
       "AACAAKHIBgAAAAAgQCiyAQAAAAAIEIpsAAAAAAAChCIbAAAAAIAAocgGAAAAACBAKLIBAAAAAAgQ\n",
       "imwAAAAAAAKEIhsAAAAAgAChyAYAAAAAIEAosgEAAAAACBCKbAAAAAAAAoQiGwAAAACAAKHIBgAA\n",
       "AAAgQCiyAQAAAAAIEIpsAAAAAAAChCIbAAAAAIAAocgGAAAAACBAKLIBAAAAAAgQimwAAAAAAAKE\n",
       "IhsAAAAAgAChyAYAAAAAIEAosgEAAAAACBCKbAAAAAAAAoQiGwAAAACAAKHIBgAAAAAgQCiyAQAA\n",
       "AAAIEIpsAAAAAAAChCIbAAAAAIAAocgGAAAAACBAKLIBAAAAAAgQimwAAIAAGnO7NOZ2WZ0GAMAi\n",
       "DqsTAAAAiARuj1udAxfV0tuu5t42Nfe0qaWvTV1DvRoaHdLg2JAGx4Y16hqVJKXGpygzcZIyEycp\n",
       "IzFduclZKp+yQEWTCmSz2Sz+0wAAgoUiGwAA4DoGR4dU3VkrZ0eNnB1nVd1Zq8GxoZs+v3e4T73D\n",
       "farvOmcee/boSypIy9PqaUu1ZtoS5aXmBiN1AICFKLIBAAAkeTwe1Xc1aX/TIR1oPqrarkZ5PJ6A\n",
       "X6epp1XPHXtZzx17WTMzi/SBuQ9pSUFZwK8DALAGRTYAAIhabo9bpzvOau+5Q9rfdEjt/Z03fW5s\n",
       "TKympOQqOzlTSY4EJcQmKCk2QQmOBLk9bl0c7NaFwa5LvwYuqnek/5qvUXOhXt/c8W+6a/oqPbX4\n",
       "g0qKTQzkHw8AYAGKbAAAEHX6Rvq1tXaP3qrZppbe9nd9fU5ylozsmSrJLFJBWp7yUycrKylDdtvN\n",
       "zZD1eDxq6G7SzoZK7Wyo1Pmrivl3anfpWLtTf7r8Kc3JmXVbfyYAQHigyAYAAFHj7IUGvXVmq3Y0\n",
       "7NfI5QFl1zM5OVvl+QtUmjNTRvZMZSZOuqPr2mw2FU0qVNGkQn1owaOq7qzV5rM7tbl2l/ma8/2d\n",
       "+trmb+uR0nv1xPyHFRsTe0fXBABYgyIbAABMeDUX6vXs0Rd1uPXkDV8zPWOqlhYs0rKChZqanh+0\n",
       "CeA2m02zs2dodvYMrZq2RD/Y91NdGOySJHnk0Uun3pKzo0Z/vf4LinfEBSUHAEDwUGQDAIAJ61xP\n",
       "i/7r6Mvae+7gdZ9Pi0/RxhmrdfeM1ZqckhPi7KSyvDn61gN/racPPKudDZXmcWdHjb6z+2n9+eo/\n",
       "lN1+cy3pAIDwQJENAAAmnI6BC3ru6CvaWr/nuhPCjeyZur9knZYXLra8LTslLllfXPlpLSko0w8r\n",
       "f6WB0UFJUmXzEf1n1X/p0xVPsq82AEQQimwAADBhuN1uvXFmi3519CUNjw1f8/ziKfP1xPyHNSOz\n",
       "yILsxrd62lJlJWbof2/5jkbdY5Kkt2q2KTs5U4/Nud/i7AAAN4siGwAATAh1F8/p3yt/rpoL9dc8\n",
       "NyenRB9a8KhKc0osyOzmleaU6PMrPqlv7/qRPLq0Av/LIy8oKzFDa4uXWZwdAOBmUGQDAICINjw2\n",
       "ouePv6qXnb+X2+P2e65oUqE+UvaYFubNjZiW6xVTy/XxRR/QTw49bx77wf6fKiMxTfMnl1qYGQDg\n",
       "ZlBkAwCAiFV7sVHf2f20mnvb/I7Hx8TpiQWP6MFZdynGHmNRdrfvPcbd6hi4qFdPb5IkudwufWvn\n",
       "f+ifH/hbZSbd2XZiAIDgosgGAAARx+Px6PXqd/Tzw7/T2OX7l69YlDdXn1nyYeUmZ1mUXWB8bNH7\n",
       "1Tl4UXsaqyRJA6OD+smh5/WlVZ+xODMAwHgosgEAQETpGerVD/b9VFUtx/yOp8Wn6BOLH9fqaUsi\n",
       "pjV8PHabXX+6/BNq7mlTQ3eTJGl34wHd1bJKi6bMtTg7AMCNsPEiAACIGMfanPrKm39/TYG9eMo8\n",
       "/dMDf6M1RUsnRIF9RVxMrD5T8SG/Y09XPauRsRGLMgIAvBuKbAAAEPY8Ho9ecW7S/976HV0c6jaP\n",
       "x9hj9PFFH9Bfrv1jpSekWZhh8JTmzNTGGavNuK3vvF449aaFGQEAxkORDQAAwtqIa1Tf3/cT/fTQ\n",
       "8/J4PObxvJQc/Z+7v6KHjXtkt03sH2k+UvaYUuNTzPiFk29dM+wNABAeJvZ3JAAAENEuDHTp7zb/\n",
       "k7bV7fU7vnraEn3jvv+hmZlFFmUWWqnxKfpo2fvMeMw9pqcPPOv3oQMAIDww+AwAotSYy622CwNq\n",
       "Pt+nlo5+NXf0q6tvWDPy03X/iiKlp8RbnSKi3OmOs/rWzn9X11CPecxms+mjZe/Xw8bdE+re65ux\n",
       "fvoKbanbrZPnz0iSjrad0s6GSq0pWmpxZgAAXxTZABBFms736ZdvntLphotqvzgot/vaVbCdh5v1\n",
       "X287dffSaXp0/UwV5KRc5ysBwbW78YC+u+fHfttzJccm6s9WfUYL86JzsrbdZtdnKj6kv3jz7+Xy\n",
       "uCVJPz30vMrz5yspNtHi7AAAV1BkA0CU2Fp1Tt9//pAGh13v+tqRMbde312nN/bUadncPL1vQ4nm\n",
       "Ts+MupVDWOP10+/oxwd/LY+8HwIVpk3RX6z5I+Wl5lqYmfWmpufrPcY9eunUW5KkrqEevXVmmx6b\n",
       "c7/FmQEArqDIBoAJbnjUpR++cFRv7qkf93XxcTGKc8Sod8C7NZDHI+093qq9x1tlTMvQZx6br9Ki\n",
       "zGCnjCjl9rj1yyMvmgXkFRX5C/SFFZ9SYmyCRZmFlw/Oe0hb6/ao+3Ib/aunN+uhWXcpzhFncWYA\n",
       "AIkiGwAmtHPtvfrGTytV19Ljd7ykMF0LZ+VoSnaK8nOSlZ+drMy0BLncHu083KzfbT2jmnPdfuc4\n",
       "Gy7qf/5gp/7qE8u0ZM7kUP4xEAXGXGP6wf6faUf9Pr/j985cq0+XPym7nVmtVyQ44vWe2Rv1yyMv\n",
       "SJK6h3q0pW6P7itZZ3FmAACJIhsAJqwbtYd/cOMsfeSBUjliri1aHDE2rS8v1LrFBTpW06nfbjmj\n",
       "ypPebYJGxtz6+2f26isfXaJVZflB/zMgOgyNDetbO/5dR9pO+h1/csF79b45D3CbwnXcV7JOL5x8\n",
       "UwOjg5Kkl069pbtnrFaMPcbizAAAfCwMABOMy+3RD35zWN/6xQG/Ajs1KU5/95kVeuo9c69bYPuy\n",
       "2WxaUJKtv/vMCn3/K3dp8ewc87kxl0ff+Fml3jnQGLQ/A6LH0Niw/nHb9/0KbLvNrs8t/ZjeP/dB\n",
       "CuwbSIpN9Fu5bu/v1O7GAxZmBAC4giIbACaYX7xxUq/vqvM7Nqc4U//65Q231eY9LS9Nf/PpFVq9\n",
       "0Lty7XZ79O1fVemN3XU3PA94N1cK7BPnq81j8TFx+su1n9NdM1ZZmFlkeM/sjYqNiTXjF06+xb7Z\n",
       "ABAGKLIBYALZd6JVv95U7Xfsgxtn6R/+eLWyJ93+Fj+xDru+8pEKbVwy1Tzm8Ujff/6wXthac9tf\n",
       "F9FraGxYX7+qwE50JOhvNnxRi6fMtzCzyJGekKaN070fRjR0N+lgyzELMwIASBTZADBhtHb2659/\n",
       "WeV37ItPLLqp9vCbERNj1xefWKwHVxX7HX/6pWN69m0nK2i4aUOjQ/r6tu/rpG+BHZug/7n+85qd\n",
       "PcPCzCLPI6X3ym7z/v/9u5NvWpgNAECiyAaACWFk1KVv/HS/+gdHzWMPrCzWPcuKAnodu92mz72/\n",
       "TO/bUOJ3/BdvnNKL21jRxrsbGhvW17f/4NoCex0F9u3ITc7S6mlLzNjZUeP33xYAEHoU2QAwAfzw\n",
       "xWM647PlVklhuj77aHBabm02mz758Fx9+P5Sv+PPvHJCx2o6gnJNTAxut1v/uvs/rymw/3r9Fyiw\n",
       "78Bjc+73i19gNRsALEWRDQARbnNlo98AspTEWH31qWWKiw3eVj42m00fus/Qxx+aYx5zuz365s8q\n",
       "daFnKGjXRWT7yaHnVdl8xIyvFNizsqZbmFXkm5qeryX5ZWZ8sOW46rvOWZgRAEQ3imwAiGB1LT36\n",
       "/vOH/Y799w+Xa3JmUkiu/8GNs7TGZ+r4xd5hffNnlXK53CG5PiLHa6c36/Xqd8w41u7QX639Ewrs\n",
       "ALl6NfvtM9stygQAQJENABFqYGhUX//xPo2MevfCfvye2Vo6Ny9kOdhsNn3+8UUqzE0xjx0/26mf\n",
       "vnZynLMQbfadO6SfHHze79ifLH9KpTklNzgDt2p29gyVZBab8faGfRoeG7EuIQCIYhTZABChvvfr\n",
       "w2ru6DfjhbOyr7lPOhSSEmL1V08tVUKctz39t1vOaPfRlpDngvBzprNO/7rnP+WRd/r8h8se0yqf\n",
       "YV0IjI0zVpuPB0eHtLvxgIXZAED0osgGgAh00Nmu7YeazDgrPUF//pElirHbLMlnWl6aPv/4Ir9j\n",
       "//JslZo7+izJB+HhfH+nvrH9Bxpxeafe3zNjjR4tvc/CrCau1dOWKN4Rb8abz+60MBsAiF4U2QAQ\n",
       "YVwut55+6ZgZ22zSVz66RJNS48c5K/jWLS7Uw2u899cODI3p6z/er6GRMQuzglXG3C79y64fqXu4\n",
       "1zy2KG+uPl3xpGw2az4MmugSYxO0emqFGZ/qqNG5HjpKACDUKLIBIMK8tbde9a3ewmXjkqmaNyPL\n",
       "woy8PvXIfBlFGWZc19Kjf/vNEXk8nnHOwkT03LGXVX2hzoyL0gv0pVWfVYw9eFPvId09c41fvLmG\n",
       "1WwACDWKbACIIH2Do/r5G6fMOCEuRh97cM44Z4RWrMOuv/zYUqUlx5nHNlc2auvBpnHOwkRzpPWk\n",
       "Xjz5lhknOhL05TV/qMTYBAuzig4lmcWamu6d+L+1fq9Gfdr1AQDBR5ENABHkud+fVk+/d2LwBzfO\n",
       "UlZ6ooUZXSsnI1Ff+WiFfDuC/+9vDuv8xUHrkkLIdA/16Ht7f+w36OyzSz6kvJQcC7OKHjabTXf7\n",
       "DEDrHe7T/qYj45wBAAg0imwAiBDNHX16eXuNGWdPStRjG8JzC6RFs3P1wY2zzLh/aEz/8myV3G7a\n",
       "xicyt8et7+/9ibqGesxjG4pXak3RMguzij7ripYr1u4wYwagAUBoUWQDQIR45uXjGnN5i9RPPjxX\n",
       "8bHhe3/rh+4r1YyCdDM+cqZDL+84a2FGCLbXTm/WodYTZpyfOlmfKn/cwoyiU0p8spYXLjbjI20n\n",
       "1d7XYWFGABBdKLIBIAIcOXNee461mnFpUYbWLiqwMKN3F+uw68sfLlesw/ut5ievnlBDa884ZyFS\n",
       "nb1Qr18cecGMHXaH/mzlp5XAfdiWuGYAWi2r2QAQKhTZABDmXG6PfvTiMb9jn3l0fkRsgzQtL01P\n",
       "vWeuGY+OufVPv6zS6JjbwqwQaC63S/++/xdyuV3msY8ufJ+KM6ZamFV0m5szy+8++Hdqd/u9PwCA\n",
       "4KHIBoAw9/t9Dapt9rnHtaJQRlGmhRndmkfWzFBZSbYZn23q1q/eOjXOGYg0b53ZptquRjMuz1+g\n",
       "B2fdZWFGsNls2ugzAO3iYLdfKz8AIHgosgEgjA0Mjernr58047jYGD310Nxxzgg/drtNf/ZkuZIT\n",
       "vIOYfrO5WidqOy3MCoHSNditZ4+9ZMbxjnh9tuJDEdFpMdFtKF6hGJv3R73tdXstzAYAogdFNgCE\n",
       "sd+8c0ZdfcNm/IG7SpQ9Kby27LoZORmJ+qMPLDRjt0f69q+qNDDE/r2R7meHf6vB0SEz/oN5Dykr\n",
       "KcPCjHDFpMR0leV5P5SrbD6iIZ/3CgAQHBTZABCm+gdH9YrPNO6s9AS9P0y37LoZ6xcX+A1ra+0c\n",
       "0H++fNzCjHCnTrSf1vb6fWZcmDZFD82+28KMcLU105aaj0dco+yZDQAhQJENAGHqtV21GhgaM+Mn\n",
       "7jWUEO8Y54zwZrPZ9LkPlCkzzTtt+s099dp3vHWcsxCuxtwuPX3gWb9jn654Ug57+G4rF42WFpQp\n",
       "LibWjHc07LcwGwCIDhTZABCGhkddemmbdxU7IzVedy+J/EnNqUlx+uITi/2Offe5Q+rqHb7BGQhX\n",
       "r53erMaeFjNeU7RM83JnW5gRrichNkFLCry3ahxuPaGeoV4LMwKAiY8iGwDC0O/3Nfjdi/3oupmK\n",
       "i50YK4Tlpbl6ePV0M+7qG9b3fn1IHo/HwqxwKzoHLurXx18148TYBH184fstzAjjWTNtifnY7XFr\n",
       "z7kqC7MBgImPIhsAwozL5dZvt5wx4+TEWD24qti6hILgqYfnqiAnxYz3Hm/V7/c1WJgRbsUvjryg\n",
       "4THvh0BPzH9EkxLTLcwI41mUN0/JcUlmvLOh0sJsAGDio8gGgDCz/VCT2i8MmPF7Vk9XUkLsOGdE\n",
       "noQ4h778kXLF2L3bPP3wxaNq7ey3MCvcjHPdLdpZ772vt2hSoe4vWW9hRng3jhiHVhSWm/HJ82fU\n",
       "0X/BwowAYGKjyAaAMOLxePT85mozjnPY9ciaGRZmFDyzpmboyfsMMx4cdunbv6qSy03beDh7/vir\n",
       "8sj7Hn1s4fsVw7CzsLemaKlfzGo2AAQPRTYAhJH9J9tU3+odSnTf8iJNSo23MKPg+oONs2RM8+6p\n",
       "fKL2gn7n0yqP8NLQ1aTdjd77eUuzZ2rB5FILM8LNmpNdoszESWa8kynjABA0FNkAEEae3+Rdxbbb\n",
       "bXosgvfFvhkxMXZ96cPlio/zroT+4o2TOtvUbWFWuJHnj7/mt4r9+PyHZbPZxjkD4cJut2vV1Aoz\n",
       "rus6p3PdLeOcAQC4XRTZABAmjp/t1Mk6732S6xcXaHJm0jhnTAwFOSn69CPzzHjM5dE//fKARkZd\n",
       "FmaFq9V3nfObSj03Z5bm5RrjnIFwc3XLOHtmA0BwUGQDQJj49abTfvEHNs6yKJPQe2BlsSpKc824\n",
       "obVXP3rpmIUZ4Wq/PvaqX8wqduSZnjFNU1K9/5/trN/P1nkAEAQU2QAQBmqbu3XgVLsZL5+Xp6K8\n",
       "NAszCi2bzaYvPLFYqUlx5rHXd9Vpc2WjhVnhitqLjdrXdMiM5+camps728KMcDtsNpvWTPOuZrf1\n",
       "d6jmQr2FGQHAxESRDQBhwPdebEn64N3Rs4p9RWZagv7sycV+x77//GHVNnN/ttV+fewVv/jx+Q9b\n",
       "lAnu1GpaxgEg6CiyAcBirZ392nG4yYznz8xSaVGmhRlZZ9m8PP2BzwcMI6Muff3H+9U3OGphVtHt\n",
       "7IV6VTYfMeOyyXNUmjOxB/JNZPmpkzUjY5oZ7208KLfHbWFGADDxUGQDgMVe3Vkr362h/2BjdLfh\n",
       "fuSBOVo0K8eMWzr79S+/qpKb/bMt8fzx1/xiVrEj34qp5ebjzsGLqu6stTAbAJh4KLIBwELDoy5t\n",
       "2t9gxtPyUrXYyBnnjIkvxm7Tn3+0QtmTEs1je4+36jfvVI9zFoKhtbddB5qPmvHCvLmanT3DwowQ\n",
       "CCt9imxJ2t1wwKJMAGBiosgGAAvtONSk3gFvK/RDK4uZ2CwpPSVeX/34EjlivP8tfv76SR0+fd7C\n",
       "rKLPG2e2+u2L/WjpfRZmg0CZnJKjmRlFZrznHC3jABBIFNkAYKHXd9WZjxPiYnTXkqnWJRNmjKJM\n",
       "ffaxBWbs9kjf/Hmlzl8ctDCr6DE4OqR3aneZ8dT0fM1joviE4dsyfmGwS6c7aBkHgEChyAYAi5w5\n",
       "1yVnw0Uz3lAxVUkJsRZmFH4eXFmsuyoKzbinf0T/+NN9GhoZszCr6LC1bo8GR4fM+KFZd9FlMYFc\n",
       "0zLeSMs4AAQKRTYAWMR3FVuSHlpVbEke4cxms+mPP7hQxVO8e4afbujSN39WqTEX7a3B4va49Xr1\n",
       "O2acEpesNUXLLMwIgZabkq2Zmb4t41W0jANAgFBkA4AF+gZHtfXgOTOeU5yp6fnpFmYUvhLiHPqr\n",
       "TyxVcoLDPLb/RJu++9wheTxMHA+GI60n1dLbbsZ3z1iteEechRkhGHxXsy8Odut0x1kLswGAiYMi\n",
       "GwAssLmyQcMjLjN+kFXsceVnp+ivP7VcsQ7vt63NlY165pUTFmY1cfmuYtttdt1fst7CbBAsK6ZW\n",
       "+MW7aBkHgICgyAaAEPN4PH6t4qlJcVpdlm9dQhFi/sxs/cXHlsjuc1vw77ac0W/Z2iugmntadbDl\n",
       "uBkvK1ik7ORMCzNCsOQmZ/m1jO9tZMo4AAQCRTYAhNjRmg6da+8z4/uWT1NcbIyFGUWOFfOn6POP\n",
       "L/I79swrJ/T7ffUWZTTxvFG91S9+cPYGaxJBSKz0Wc2+ONQtZ0eNhdkAwMRAkQ0AIfaazyq2zSY9\n",
       "sLLYslwi0T3LivSJ98z1O/bdXx/W3mMtFmU0cQyMDGpL3W4zLp5UqNLsEgszQrBdM2W8ocqiTABg\n",
       "4qDIBoAQutAzpD1HvcVguZGrvKxkCzOKTO+/q0SPrZ9pxm63R9/8WaWO1nRYmFXk21K3W0Njw2b8\n",
       "INt2TXg5yVkqySw2473nDsrtpmUcAO5EyIpswzDyDMP4oWEYzYZhDBuG0WAYxncNw5gUqhwAwGpv\n",
       "7a2Xy+2diP3QqukWZhO5bDabPvnwPG1cMtU8NjLm1tf+Y7f2n2i1MLPI5fF49KZPq3hqfIpWFy21\n",
       "MCOEytUt46doGQeAOxKSItswjExJuyR9WlKVpB9JapX0J5K2G4bBMg6ACc/lcuvN3XVmnJORqIo5\n",
       "ky3LJ9LZ7TZ9/vFFWjrX+99wZMyt//PMPm2ubLQws8jk7KhRS5//tl1xMbEWZoRQWTF1sV+8mynj\n",
       "AHBHQrWS/ZeSiiV9wel0Pux0Ov/E6XQuk/S0pHmSPh+iPADAMvtOtKmje8iMH1hRrBg7rbh3whFj\n",
       "119+fKmW+HxY4XZ79O1fVemFrazG3Yp3anf7xRtnrLYoE4RaTnKWZtEyDgABE6oi+z5JLkn/cdXx\n",
       "b1z+fU2I8gAAy7y+q9Z87Iix6d7l0yzMZuKIj43R//zkMm2oKPQ7/vRLx/TT107I4/Hc4ExcMTQ2\n",
       "7Ld6OSdnlvJScizMCKG2cpq3ZbxrqEenOs5YmA0ARLZQFdl2SR5JVy/ZXOlD6xMATGDtFwZ08PR5\n",
       "M161IF8ZqQkWZjSxOGLs+tKT5Xrvuhl+x3+9qVrf+/VhuVysyo1nb+NBv4FnG4pXWJgNrLCi0H/K\n",
       "+C5axgHgtoWqyN4uySHpC1cOGIZh06U2cknaFKI8AMAS71T53yN834oiizKZuOx2mz7z3vn62INz\n",
       "/I6/tbde3/hZpYZHXRZlFv58t+2Kd8Rfs60TJr7s5EzNyvIOYtx77hAt4wBwm0JVZH9N0hFJ3zAM\n",
       "4x3DMH4gab+kj0t6RdIzIcoDAELO4/Fo835vkZ2TkagFM7MtzGjistlsevye2frTP1go39vddx9t\n",
       "0Ve/t10dXYPWJRem2vs6dLz9tBmvLCxXQixdFtHId8p491CPTtIyDgC3JVRF9oCkKx+Tr5P0R5Ku\n",
       "fEzeGMI8ACDknPUX1dzRb8Z3VUyVnYFnQXX/imL95ceXyhHj/fZy5ly3vvQvW3Wy9oKFmYWfLXV7\n",
       "/OIN02kVj1bXTBlvoGUcAG5HqIrbZyX9oaSfSzIkJUlaKmmzpM9J+laI8gCAkLt6OynfvZ0RPKvK\n",
       "8vX//beVSk3ybkPV1Tus//FvO/TW3noLMwsfbo9bW32K7MnJ2SrNKbEwI1gpOylTs7O8cw2YMg4A\n",
       "t8cR7AsYhlEm6WFJlU6n8+M+Tx0wDONRSacl/ZFhGF92Op2jt/H1GRsLIGyNjLq07VCTGZcWZagg\n",
       "J8XCjKL7n1PFAAAgAElEQVTLgpJs/fOfrdf//s+9amjtlSSNuTz67nOHVNvUrU8/Ot9vtTvanGiv\n",
       "1vn+TjNeP32F7Lbo/e8BaeXUcp3uPCtJ6h7u1Ynz1Zo/2bA4KwC4LZWGcXP/fjmdzoC2GIbiO+mV\n",
       "CTRbr37C6XT2S9qnS8U+U4AATDj7TrSqf9D7+SGr2KGXl5Ws///za7VywRS/46/srNXf/cdudfcN\n",
       "3+DMiW+Lz97YNtm0nqniUW/FVUPvdjNlHABuWdBXsiX1Xv59yg2en6RL23tdvJ0vfrOfOhiGUSGp\n",
       "8nauAQC3a5PPwLNYh11rFxVYmE30SkqI1Vc/vlTPvu3Ur95ymsePnOnQf//ONv3Np5areEqahRmG\n",
       "3sDooPacqzLj+ZNnKyc5y8KMEA6ykjJkZM2Q8/Jq9r5zh/Sp8icUY4+xODMAuGVLnE6nJZ8UhmIl\n",
       "e7suFdofNAxjme8ThmFslLRW0nan09l5vZMBIFJd7B1SlbPdjJfNy1NKUpyFGUU3u92mD99fqq8+\n",
       "tVQJcd6Cof3CgL7yr9u080izhdmF3p7GKo24vF0W64tXWpgNwsnKaT5Txod7dfJ8tYXZAEDkCXqR\n",
       "7XQ6e3VpuFmMpB2GYbxsGMb3DcN4TdLbkrol/XGw8wCAUNta1SS32zs24m5axcPC6rJ8ffPza5Wb\n",
       "mWQeGxpx6R9/sl+/eOOU33s2kfm2iic6ErS8cPE4r0Y0ufrvwq7Gqhu8EgBwPSGZbuJ0On8paYWk\n",
       "FyQtk/RZSQt1adr4UqfTeSIUeQBAKG2ubDAfT0qJ12Ij18Js4Gt6frr++YvrVFbiv1/5s2879fWf\n",
       "7NPA0C3P4Ywo5/s7daqjxoxXTqtQvIMuC1ySlZQhI3umGe87d1Aut8vCjAAgsoTinmxJ0uV++MdD\n",
       "dT0AsFJtc7dqm3vMeH15YVRPsQ5H6Snx+l//baWefvGYXtlZax7fc6xVX/nudv31J5drSnayhRkG\n",
       "z9XDrNYVLbvBKxGtVk4tl/PyBzE9w306cb5aCyaXWpwVAEQGfuIDgCC4em/su5fSKh6OHDF2/eH7\n",
       "y/Snf7BIjhjvHM2G1l59+TtbdfRMh4XZBc+uBm+RnZGYzt7YuMaKwqumjDcwZRwAbhZFNgAEmMvl\n",
       "1paqc2Y8PT9N0/PTLcwI7+b+FUX6h8+t0aTUePNY78Co/u6Hu7X7aIuFmQVea2+7zl703sqwsrCc\n",
       "vbFxjcykSSr1aRnf23SIlnEAuEl8VwWAAKtytqur17v3MntjR4Y50zP1z19cr5JC7wcio2Nu/eNP\n",
       "9untvfUWZhZYu65qFV81bYlFmSDcrZzqnTLeO9yn4+2nLcwGACIHRTYABNgmn1Zxu92m9eWFFmaD\n",
       "W5GTkah//NO1Wj4vzzzm9kj/+twh/WbzxNjGyLdVPDspU7OypluYDcLZ8qmLZZP3NordTBkHgJtC\n",
       "kQ0AAdQ3MKJ9x1vNuNzIVUZqgoUZ4VbFx8bor55aes199D9+9YSeefm4PJ7I3eLrXE+LGrqbzHjl\n",
       "1HLZbLZxzkA0y0ycpNIcpowDwK2iyAaAANp+uFmjY24zZuBZZIqJseuLTyzW+zb4DwT77ZYz+tf/\n",
       "OiSXy32DM8PbrgZaxXFrfAeg9Y700zIOADeBIhsAAmirz8Cz5MRYLZubN86rEc5sNps+9cg8feI9\n",
       "c/2O/35/g77+k/0aHYusFT2Px+M3IXpycrZmZEyzMCNEgqtbxq++px8AcC2KbAAIkM7uQZ2o7TTj\n",
       "VQumKC42xsKMEAgf2DhLn398kew+XdV7j7fq2786KLc7clrHG7qb1NTrvZVh5bQKWsXxri61jHs7\n",
       "OvafO6QxWsYBYFwU2QAQIDuPNMv3dt21iwqsSwYBdd/yIn31qaVyxHi/bW4/1KSnXz4WMfdoX9Mq\n",
       "PpVWcdyclVOvbhl3WpgNAIQ/imwACJAdh5rNx2nJcSorybYwGwTaygX5+ptPLVeMz5L2S9vO6ndb\n",
       "aizM6uZ4PB6/Nt+C1DwVTeJDINyc5YVXTRlvoGUcAMZDkQ0AAdDRNaiTdRfMeFVZvmJi+Cd2oikv\n",
       "zdUXn1zsd+yZV47rnQONNzgjPNRebFBb33kzplUctyIjMV1zfFrG9zUdpmUcAMbBT4AAEAA7Djf7\n",
       "xWsW5luUCYLtroqp+uTD/sPQvvPsQVU52y3K6N3tbKj0i1dNq7AoE0SqFT4t430j/TrWRss4ANwI\n",
       "RTYABMCOw969hyelxGv+TFrFJ7L3bSjRe9fNMGOX26N//Mk+nWnssjCr6/N4PNrdWGXG09ILVJg2\n",
       "xcKMEIlWXN0yzpRxALghimwAuEPtFwbkrL9oxqvKpvjdt4uJx2az6dOPzPcbbjc47NL/+tEetXT0\n",
       "W5jZtWou1KtjwOdWBlaxcRsmJaZrbu4sM97XxJRxALgRimwAuEPXtIozVTwq2O02felDi/0G3HX1\n",
       "DetrP9ytgaFRCzPzt7/psF+8onDxDV4JjG9FobdlvH9kQMfaTlmYDQCEL4psALhDvq3imWnxmjs9\n",
       "y8JsEEqxjhj9j08s0/T8NPNYc0e//u03R8Jma699TYfMxwWpecpPy7MwG0Sy5YWL/AbmXb0tHADg\n",
       "EopsALgDrZ39qva5D3dVWT6t4lEmOTFWX/vsSmWmJZjHtlSd0+ZK6yeON/e0qqmn1YyXFi60MBtE\n",
       "ukmJ6Zqb420Z39t0UCNjIxZmBADhiSIbAO7AtVPFaRWPRplpCfrzj1bI9/OVf/vtEZ1r77UuKV3a\n",
       "asnXsoJFFmWCiWL1tKXm48HRIR1oOWphNgAQniiyAeAO+LaKZ6UnaE5xpoXZwEoLZmbriXsNMx4e\n",
       "cembP6vUyKh1w6H2n/O2imclZmhmZpFluWBiWDm1XA67w4y31e21MBsACE8U2QBwm5o7+lRzrtuM\n",
       "Vy/Ml51W8aj2xD2zNW+G95782uYePfPKcUtyuTDQpeoLdWa8tGCh3/20wO1IjktSRf4CMz7Uclw9\n",
       "w30WZgQA4YciGwBu045D/q3ia2kVj3oxMXZ9+cMVSk2KNY+9sqNWe461hDyXq6eKcz82AmVd8XLz\n",
       "scvj1q6GSguzAYDwQ5ENALfJt1U8JyNRRlGGhdkgXORkJOqLT/hvk/WdZw/q/MXBkObhW2QnxyVp\n",
       "js/AKuBOLM6bp5S4ZDPeXr/PwmwAIPxQZAPAbTjX3qva5h4zXl2WTysuTMvnT9Eja2eYcd/gqL71\n",
       "i0q5XO6QXL9vpF/H251mXJG/QA57TEiujYnPEePQqqkVZlzdWauW3nYLMwKA8EKRDQC34eqp4msX\n",
       "0SoOf598eK5m5Keb8YnaC3ru96dDcu2q5mNyebwFPVPFEWi+LeOStL2eAWgAcAVFNgDchh2HvK3i\n",
       "uZlJmjV1koXZIBzFOmL0lY9VKCHOu4L83KbqkGzrta/JO1U8LiZWC/PmBv2aiC6zsqZrckqOGW+v\n",
       "2yePx2NhRgAQPiiyAeAWNbb1qr7VWyitXUirOK6vMDdVn33MO4l5zOXWv/3mSFCLkZGxER1uOWHG\n",
       "C/PmKt4RF7TrITrZbDatLVpmxm39HTrdedbCjAAgfFBkA8At2n3Uf1L06oX5FmWCSHDvsml+23od\n",
       "OdOhrQebxjnjzhxpO6lh14gZ0yqOYFnnU2RLl1azAQAU2QBwy3y3Y8rJSFRJIa3iuDGbzabPfaBM\n",
       "MT57qD/94jH1DY4G5Xr7znmnitttdr89jYFAykvN1ews74C/XY0HNOYaszAjAAgPFNkAcAs6ugZV\n",
       "3dhlxivmT6FVHO+qKC9N79tQYsZdfcP62Wsnxjnj9rjcLh1oPmLG83JnKSU+eZwzgDvj2zLeN9Kv\n",
       "qpZjFmYDAOGBIhsAbsHe461+8fJ5eRZlgkjzxL2zlZuRaMav767T6YaLAb2Gs+Osekf6zXgpreII\n",
       "slXTKhTjsz3cNqaMAwBFNgDcir0+reIpibF+99oC40mIc+gP319mxh6P9P3nDwd072zfVWxJWpJf\n",
       "doNXAoGRGp+ixVPmm/GB5qPqGQr+BH0ACGcU2QBwk/oGR3XkTIcZL507WY4Y/hnFzVs2N08r5nu7\n",
       "H842devVXbUB+/pVzd5W3aJJhcpOzgzY1wZuZEPxCvOxy+3StnoGoAGIbvx0CAA36cDJNrnc3q2X\n",
       "ls+fYmE2iFSffWyB397ZP3/9lDq7B+/467b2tqup13s7AwPPECrl+QuUHp9qxu+c3cme2QCiGkU2\n",
       "ANwk3/uxYx12lRu5FmaDSJWbkaQP3VdqxoPDY/rRi3c+LKqy+ahfTJGNUHHYY7SueLkZN/a06MyF\n",
       "OusSAgCLUWQDwE0YHXOp8mSbGS+anaPEeIeFGSGSvXfdDBVPSTPjHYebdfj0+Tv6mlU+RXZ6fKpm\n",
       "Zhbd0dcDbsXGGav94s1nd1mUCQBYjyIbAG7CkTMdGhz27v+6glZx3AFHjF2f+4D/ULJnXj0ut/v2\n",
       "WmwHRgZ18ny1GS/Ony+7jW/xCJ2CtDwZvntmN1RqaGzYwowAwDp8BwaAm7D3mLdV3Ga7NPQMuBNz\n",
       "p2dpQ0WhGdec69bOw8239bUOtR6Xy+OdUs5UcVjhLp/V7MGxIe1prLIwGwCwDkU2ALwLt9ujvce9\n",
       "W3eVFmUqIzXBwowwUXz0gTl+E+p/9vpJjd3Gll4HfFrFHXaHyiaXjvNqIDhWTS1XgiPejDef3Wlh\n",
       "NgBgHYpsAHgX1Y0XdaHH2/ZIqzgCZXJmkh5aVWzGLZ39enNP/S19DZfbpYMtx814Xu5sJcTyIRBC\n",
       "LyE2QaumVpjxqY4aNfe0jnMGAExMFNkA8C72HPP/IdF3n2PgTj1+z2y/IXrPvu30u///3ZzuPKu+\n",
       "kX4zZqo4rHTNALTa3RZlAgDWocgGgHfh2yo+dXKq8nNSLMwGE016Srzef1eJGXf1DuvFbTU3ff6B\n",
       "Zv/tvyiyYaVZWdNVkOb9IHJr3R6NuV0WZgQAoUeRDQDjONfeq8a2PjNmFRvB8Oi6mZqU6r2X9bfv\n",
       "nFF3381NZj7QfMR8PC29QDnJWQHPD7hZNptNG6d7V7O7h3p0sOXO94EHgEhCkQ0A49h7Tas492Mj\n",
       "8BLjHXryXsOMB4fH9Nym0+96XmvfeTX53PPKKjbCwbriZYrx2UKOAWgAog1FNgCMY+9xbwGTmZag\n",
       "ksJJFmaDiez+FUWakpVsxq/trFPbhYFxz6nymSouUWQjPKQnpKmiwLuNXFXLMXUOXLQwIwAILYps\n",
       "ALiBiz1DOlV/wYyXz8+T3W6zMCNMZI4Yuz724BwzHnO59Ys3To57jm+reFp8ikoyi4OVHnBL7pmx\n",
       "xnzs8Xi06ewOC7MBgNCiyAaAG9h3olUejzemVRzBtnphvmYWppvxlqpzqm3uvu5rB0YGdaK92owX\n",
       "T5kvu51v6wgPZXlzNDk524w31exkABqAqMF3YwC4Ad+tu5ISHFowM3ucVwN3zm636amH5pqxxyP9\n",
       "9LXrr2YfaTspl8dtxrSKI5zYbXbdM3OtGV8c6lZl02ELMwKA0KHIBoDrGBoe0+Hq82a8pHSyYh38\n",
       "k4ngW2zkatGsHDOuPNmm0w3X3s9a5TOxOcZmV1nenGteA1jprukr5bB794B/u2abhdkAQOjwEyMA\n",
       "XMeRMx0aHfOuEi6dx9ZdCJ2Pv8e/YP6vt/0njXs8Hh1qOW7GpTklSopNDEluwM1KS0jVisLFZny0\n",
       "zanm3jYLMwKA0KDIBoDr2H/S+4Og3SZVlOZamA2izaypGX5/5/adaNXZJu+92XVd59Q11GPGi6fM\n",
       "D2l+wM26r2SdX/z7M9stygQAQociGwCu4vF4VHnCez+2UZSp1KQ4CzNCNHriHsMv9t03+6BPq7gk\n",
       "lVNkI0wZ2TM1NT3fjN+p262RsRELMwKA4KPIBoCr1LX0qKN7yIyXzp1sYTaIVnOmZ6qsxDtsb9eR\n",
       "ZjW29UqSDjZ7i+ycpEwVpHE7A8KTzWbTfTO9q9n9IwPa1XjAwowAIPgosgHgKpUn/e8ZXDKHIhvW\n",
       "ePye2eZjj0f69abT6h3u0+kLtebxxVPmy2Zj/3aEr7XFyxTviDfjt88wAA3AxEaRDQBX8S2ys9MT\n",
       "VDwlzcJsEM3KSrI1pzjTjLcebNLW6kPy+GzgvjifVnGEt6TYRK0tWmbG1RfqVHux0cKMACC4KLIB\n",
       "wEfvwIhO1V0w4yVz81glhGVsNpvfarbb7dEbx/eZcazdoXm5s693KhBWfFvGJVazAUxsFNkA4KPq\n",
       "VLvc3kVCLWGqOCxWUZqrmYXplyOP2kbrzOfm5s5Wgk8bLhCuijMKNTtrhhlvr9+n/pEBCzMCgOCh\n",
       "yAYAH76t4rEOuxbOyrEwG+DSavYTl1ezbcndssWOms8tnjLPqrSAW+a7ndewa0Rb6/ZYmA0ABA9F\n",
       "NgBc5nJ7dOBUuxkvmJmthHiHhRkBlyyfN0XT8lIVM+m833G27kIkWTG1XKnxKWb85pmtcnvcFmYE\n",
       "AMFBkQ0Al52uv6jeAe/+rUwVR7iw2216/O7Zikn3FtlJtnTlpXI7AyJHXEys7p6x2oxbett1tO2U\n",
       "hRkBQHBQZAPAZftPtvrF7I+NcDK/NFX2lB4z7m/PUHffsIUZAbfuvpnr/IZJvlG9xbpkACBIKLIB\n",
       "4LIDJ72t4oW5KcrLSrYwG8DfsbaTfvHIhSy9vP2sRdkAtyc7OVNL8xeacVXzMbX3dViYEQAEHkU2\n",
       "AEjq7B7U2eZuM6ZVHOHmYMsx87HHZZe7J1Ov7qzV0PCYhVkBt+6BWevNxx559FYN23kBmFgosgFA\n",
       "/lPFJYpshBeX26XDrSfM2N2TJXli1Dc4qt/vb7AwM+DWzcs1VJCWZ8abz+7SyNjIOGcAQGShyAYA\n",
       "SftPeIvsxHiH5k7PsjAbwF91Z636RwfN2DHgLVBe3FYjl+/m7kCYs9lsur/Eu5rdN9KvnQ2VFmYE\n",
       "AIFFkQ0g6o2OuXS42ju1ebGRo1gH/zwifBxqPe4XbzQqzMetnQPac6wl1CkBd2R98QolOhLM+I3q\n",
       "LfJ4+LAIwMTAT5EAot7Rmk4NjbjMeCmt4ggzh1q8reIFqXl6fO1COWK838J/t+WMFWkBty0xNkHr\n",
       "i1eYcW1Xo6o7ay3MCAAChyIbQNS7+n7silKKbISP7qEenb3ove964ZS5ykhL0F0VheYxZ/1Fnay9\n",
       "YEV6wG2732cAmsR2XgAmDopsAFHPt8guKUxXRlrCOK8GQutwq//WXYvy5kmSHl0/0+/477aymo3I\n",
       "UpCWpwWTDTPefa5KXUM945wBAJGBIhtAVGs636eWjn4zXjInb5xXA6F3yGeqeGxMrObmlEiSivLS\n",
       "VFGaaz6351iLmjv6Qp4fcCfuL9lgPna5XdpUs8O6ZAAgQCiyAUQ136nikrR0Lq3iCB9uj9tv6655\n",
       "ObMU54gz4/etLzEfezzSi1trQpofcKcq8hcoOynTjN+u2a4xt2ucMwAg/FFkA4hqB055i+z0lDiV\n",
       "FE6yMBvAX+3FRvUOe1enF02Z5/d82axszchPN+Pf729UTz/7DSNyxNhjdF/JOjO+MNilyqbDFmYE\n",
       "AHeOIhtA1BoaGdPxs51mXG7kym63WZgR4O9Qi//WXYvy5vrFNptNj23w3ps9MurS67uY0IzIsnH6\n",
       "KsXaHWbMADQAkY4iG0DUOlbTqdExtxmXG7njvBoIPd/7sXOSszQl9drbGdYuKlBWundY3ys7ajUy\n",
       "SrstIkdaQqpWTVtixifOV6uhq8nCjADgzlBkA4haB53t5mObTVpMkY0w0jfSr9OdZ814Ud5c2WzX\n",
       "dlo4Yux679oZZtzVN6x3DpwLSY5AoNxfctV2Xme2WpQJANw5imwAUevAKW+RPbNwktJT4i3MBvB3\n",
       "rM0pj8djxlffj+3r/hXFSoz3ttu+uO2M3G7PDV8PhJuSrGKVZBab8fa6veofGbAuIQC4AxTZAKJS\n",
       "24UBNZ33DpSiVRzhxvd+7BibXfNzjRu+NjkxVvevKDLjxrY+Vfl0agCR4IFZG8zHw64Rba3bY10y\n",
       "AHAHKLIBRKWrCxCKbIQTj8fjdz92aU6JEmMTxjlDemTtDL/BfS9vPzvOq4Hws2JqudLiU8z4zeqt\n",
       "cnvc45wBAOGJIhtAVKry2borOcGh0qIMC7MB/DV2N+vCYJcZL7xqqvj15GYkaeX8KWZc5WzXufbe\n",
       "oOQHBENcTKzunrHGjFv62nWk9ZSFGQHA7aHIBhB1xlxuHa7uMOOyWTmKieGfQ4QP31VsSVqUd+P7\n",
       "sX094jMATZJe3cF2Xogs985c6zfg740zW6xLBgBuEz9VAog6p+ouaHB4zIwrSmkVR3g53Oq9H3tS\n",
       "QpqKJhXc1Hlzp2dqen6aGW+qbNDA0GjA8wOCJTs5U0vzF5rxweZjau/rGOcMAAg/FNkAos7V92Oz\n",
       "dRfCydDokE6erzHjRXnzrrt11/XYbDY9ssa7mj047NKm/Y0BzxEIpgdmebfz8sijt2q2WZgNANw6\n",
       "imwAUcd3666pk1OUm5FkYTaAv+PnqzXm9nZaLJry7vdj+1pXXqjUpDgzfmXHWbbzQkSZl2uoIC3P\n",
       "jDed3anhsRELMwKAW0ORDSCqXOwd0tmmbjMuNyZbmA1wrcMt3vuxbTabFkwuvaXz42Nj/Lbzau7o\n",
       "18HTbOeFyGGz2fRAyQYz7h8Z0M6GSusSAoBbRJENIKocdJ73i8u5Hxth5nCbt8guyShSqs+WRjfr\n",
       "wVXF8tnNS68wAA0RZl3xciU6vNvWvVH9jjweOjIARAaKbABR5aDP/dhxDrvmzciyMBvAX3t/p1p6\n",
       "vX9Hy25i667ryc1I0nKf7bwqT7ap+XzfHecHhEpibILWF68w47quczrdyd7vACIDRTaAqOF2e/yG\n",
       "ns0vyVZ8bIyFGQH+jly1ddfN7I99I9ds57WT1WxElvt9BqBJ0hvVW6xJBABuEUU2gKhR09Slnn7v\n",
       "8JwKpoojzBxuPWk+ToxNUElW8W1/rfkzslQ8xbud19v72M4LkaUgLc9vJsGecwfVNdg9zhkAEB4o\n",
       "sgFEDbbuQjhzuV062nbKjOfnGnLYb7/Twmaz6WG/7bzG9E4l23khsjwwa4P52OV26fdnd1qXDADc\n",
       "JIpsAFGjymfrrtyMRBXm3vpAKSBYai7Ua2B00IzvpFX8ivXlBUpJjDXjV3bWsp0XIkrFlAXKTso0\n",
       "47drtmnM7bIwIwB4dxTZAKJC/+CoTtVfNOPy0smy2WzjnAGE1uFr7seec8dfMyHO4bed17n2Ph2q\n",
       "Pj/OGUB4sdvtuq9knRlfHOzW/qZDFmYEAO+OIhtAVDhcfd5vBa/cyLEwG+Bavvdj56XkaHJKYP6O\n",
       "PrRqut92Xi9vZ0IzIsvG6asUa3eY8RvVWy3MBgDeHUU2gKjgez92jN2mshKKbISP/pEBVV/wTv8u\n",
       "C8Aq9hW5mf7beR041abWzv6AfX0g2NISUrVq2hIzPnm+Wg1dTRZmBADjo8gGMOF5PP5bd5UWZyrZ\n",
       "5z5VwGpH207J4/F2WgTifmxf71k93Xzs8Uhv7a0P6NcHgu3+Ev/tvDYxAA1AGKPIBjDhnWvv0/mL\n",
       "3oFS5UwVR5g54tMqHmOza17u7IB+/bKSbBXkJJvx23sbNDrmDug1gGAqySrW9ElTzXhb/V6NuNiS\n",
       "DkB4osgGMOEdvGrrLopshBOPx+M39Gx29gwlxSYG9Bo2m00PrPSuZnf1DWvPsZaAXgMItrtnrjYf\n",
       "948MaG/jQQuzAYAbo8gGMOEdPO2dppyWHKcZBekWZgP4a+lr1/mBC2Yc6FbxK+5eOlWxDu+3/Td2\n",
       "1wXlOkCwrJm2THEx3lt9NtfSMg4gPFFkA5jQRsdcOlrTYcaLZuXIbmfrLoQP31ZxSSqbHLihZ75S\n",
       "k+K0dlGB97pnOtTY1huUawHBkBSXqJVTK8z4ePtptfS2j3MGAFiDIhvAhHaq7qKGR1xmvGg2U8UR\n",
       "Xg75tIqnxiVrRsa0oF3rwZXFfvEbe+qCdi0gGO6escYvZgAagHBEkQ1gQjt42n+VY9Fs7sdG+Bhz\n",
       "jel4+2kzXjC5VHZ78L41G0UZKp6SZsab9jdqeNQ1zhlAeDGyZ6ggLc+Mt9bu1pibv8MAwgtFNoAJ\n",
       "zfd+7KmTU5STEdiBUsCdON15VsNjw2ZcFqT7sa+w2Wx6cFWxGfcPjmrHIfYbRuSw2Wx+q9ndw706\n",
       "0HzEwowA4FoU2QAmrJ7+EdWc6zJjVrERbg5fdT/2wrzg3I/ta0N5oRLjY8z49d11Qb8mEEjripfL\n",
       "YXeY8aaaHRZmAwDXosgGMGEdrj4vj8cbL+Z+bISZI23eIrsgLU9ZSRlBv2ZSQqzWl3v3G3bWX9TZ\n",
       "pu6gXxcIlLT4FC0rWGjGh1tPqqP/wjhnAEBoUWQDmLAO+bSKO2Jsmj8z28JsAH99w/06e6HBjIM1\n",
       "Vfx6HlhR5BeznRcizd0zvS3jHnm0uXaXhdkAgD+KbAATksfj8Rt6VlqcqcR4xzhnAKF1rN0pj7yt\n",
       "FmUhaBW/YmbhJBnTvKvmW6oaNTA0GrLrA3dqXu5s5SZnmfE7tbvkdrstzAgAvCiyAUxIzR39On9x\n",
       "0IzZugvh5kjbKfNxjM2uuTmzQnr9B3y28xocdmlr1bmQXh+4E3abXRtnrDbjzoGLOtx2YpwzACB0\n",
       "KLIBTEgHnf5bdy1m6BnCzFGfIntW1nQlxiaE9PprFuUrOTHWjF/fXSeP7xADIMzdNX2V7Dbvj7Jb\n",
       "6/ZamA0AeFFkA5iQDjq992OnJMZqZuEkC7MB/LX3daitz/t3dMHk0pDnkBDn0N1LvAPQapt75Gy4\n",
       "GPI8gNuVkZiuhT7b3u1vOqyBkcFxzgCA0AhpkW0YxqOGYewyDKP78q8thmHcHcocAEx8Yy63jtZ4\n",
       "C5iFs3MUY7dZmBHgz3equBTa+7F9+baMS9Lru+osyQO4XeuLl5uPR12j2t14wMJsAOCSkBXZhmH8\n",
       "saTfSSqU9EtJmyStlPS6YRhLQpUHgInPWX9Rg8MuM6ZVHOHG937sREeCSjKLLclj6uRUzZ/pHR61\n",
       "80gzA9AQUZbklykpNtGMt9btsTAbALgkJEW2YRhTJf2LpP2S5jqdzs85nc73S3qvJIekr4UiDwDR\n",
       "wXpYsZEAACAASURBVHequMT+2Agvbrdbx9qcZjwvd7Zi7DGW5XPfcu92XsMjLm072GRZLsCtinPE\n",
       "aeXUCjM+1VGjVp9bMQDACqFayf5TXSqm/8jpdPZdOeh0Ot+UtE3S3BudCAC36pDP/dgFOcnKzUyy\n",
       "MBvAX21Xo/pG+s3YqlbxK1aV5Ss5wbu93dv76i3MBrh1vi3jkrSNAWgALBaqIvt+SdVOp/Pg1U84\n",
       "nc4NTqdzRojyADDB9Q2MqLrRO7xpEa3iCDO+U8Ula4ae+YqPjdG68kIzPt3QpfqWHgszAm6NkT1T\n",
       "k5OzzXhb3R65PeyZDcA6QS+yDcNIljRf0iHDMGyGYbzXMIyvGYbxt4Zh3BXs6wOILofPdMjtswsR\n",
       "reIIN0davUPPshIzlJ862cJsLrlvWZFf/Pa+BosyAW6dzWbTOp/V7Pb+Tjk7aizMCEC0C8VK9pTL\n",
       "1xmVtFPSC5L+Vpfuw95kGMYmwzDYWwdAQBw67W0Vt9ttWlCSPc6rgdAaHhvRKZ8f/hfklcpms37y\n",
       "/czCdE3PTzPjdw40anSMlUBEjnVXtYxvrWUAGgDrhKLIzrj8+4ckTZJ0j6QkSUWSfibpLknPhCAP\n",
       "ABOcx+NRldM79Ky0KENJCbEWZgT4O9VxRmPuMTMus7hV/AqbzaZ7fVaze/pHtO94q4UZAbdmckqO\n",
       "5uSUmPHuxiqNjI1YmBGAaOZ495fcsbjLv49JetTpdFZfjhsNw/i0LhXZjxqGke90Optv9YsbhuF5\n",
       "91cBiAYtnf1qvzBgxtyPjXDj2youSfPDpMiWpA0VhXrmlePmCvZb++q1emG+xVkBN2998QqdPH9G\n",
       "kjQ4NqR9TYe1pmipxVkBsFClYRg39UKn0xnQtrJQrGRfmSZ+2qfAliQ5nc4xSa9dDq0drwog4vm2\n",
       "ikvSYoP7sRFefIeeFaUXaFJC2jivDq3UpDitnD/FjA8623X+4qCFGQG3ZkVhuWJjvN1L29gzG4BF\n",
       "QrGSXXf5974bPH9lH5Pb+vTgZj91MAyjQlLl7VwDQGQ46NMqnpzg0KxCxj0gfHQP9aiu65wZL7B4\n",
       "667ruXf5NG07dGmfbI9H2lTZoCfvvblVAMBqSXGJWlawUDsbLv24d7jtpC4Mdikzke8FQJRa4nQ6\n",
       "D1hx4aCvZDudzm5JJyTNvTxp/GrlkjySjgY7FwATl8vl1pEzHWZcNitHMTGh2qUQeHdH25x+cdnk\n",
       "8Cuyy0py/PaVf3tfg9xu7spC5FhfvMJ87PF4tLOe9RUAoReqn0B/KClV0jcNwzBXng3DeK+k9ZJe\n",
       "cTqdbSHKBcAEdLqhSwND3oFSiw3ux0Z4OebTKu6w/z/27js6rvM8F/2zZwa99w6iERsAUQl2SqJE\n",
       "SZZtSa6S7MSOndiOs3JSTu65WclN7smJk3Occ0vKSXyzzkkcR3YSd9mOZdmSrUYVNpCoRBsUAkTv\n",
       "vU/Z9w9J394DkkOABObbe+b5reXleeEZ+/lDBvBiv9/7OXyWNJmFzabgkaP5op6aW8M1wx+viMyu\n",
       "OqPc5xjGhSE22UQUeIFqsr8C4OcAfhPv3Jf9D6qqvgDgBwDGAPxWgHIQUZBq6ZnyqXk/NpnNtSn9\n",
       "SXZpSiEiHOF+3i3Pw0fzYLxV7BcNN+SFIdolm82Gk3n1ou6fv4Hx5Sk/nyAi2nsBabKdTqcXwIcA\n",
       "/BGASAC/CqAOwDcAHHM6nSO3/zQR0Z01G5aeZaXEIDPlVqdTiOSYXJnG9OqsqM20VXy79KRo1Bk2\n",
       "81+8No6VNV6FRNZxOv+IT82n2UQUaIFYfAYAcDqdLgD/97v/IiLaM6vrLjiH5kVdy6fYZDLt285j\n",
       "V2WYe5nYo8fzxZ3zLrcX55pG8MR9RZJTEe3MwZRCpEUnY3ptDgBwfugqPlbxASjKnt7QQ0R0W9wK\n",
       "RESW19Y347OciVd3kdkYR8UjHREoTi6QF2YHjh/KRFy0Ps7+8uUhiWmIdkdRFJwyPM0eWRrH8OKY\n",
       "xEREFGrYZBOR5TUbzmPbFKCqhE02mYemaegwPMkuTzsIh80uMdGdhTnseOhIrqivjy2ib2RBYiKi\n",
       "3Tmdf9SnPs+RcSIKIDbZRGR5LYbz2KX5SYiNCpOYhsjX8OIYFjeXRW32UfH3vO/YAZ/69avDkpIQ\n",
       "7d6BxBzkxGWK+sLQVWgar6MjosBgk01EljYxu4rxmVVR15by6i4yl/Yp3/PYlenWaLIPZMWjJDdB\n",
       "1G80j8Dt8UpMRLRziqLg9AF9ZHxydQb9c9yUT0SBwSabiCzN+BQb4HlsMh/j0rO48BjkJ+ZITLM7\n",
       "D9XnideLK1tiGRqRFZzatmX87aErkpIQUahhk01ElmY8jx0V4UBpfpLENES+PF4POqZ7RH0oXYVN\n",
       "sc6P3gfqcmGz6RuZOTJOVpIdl4HCJP0PRReHGuH1chqDiPafdX7SExFt4/FqaO2dEXV1SSocdn5b\n",
       "I/MYmB/GumtD1JUWOY/9nsS4CNSX6UcwLndMYGXdJTER0e4YF6DNbyyia6ZPYhoiChX8bZSILKtv\n",
       "eB6rhl/461SexyZzuTbZ7VNbrckGgLNH9CeBLrcX51tHJaYh2p1TefU+NbeME1EgsMkmIsu66Tx2\n",
       "Kc9jk7kYl56lRCUhK9Z6fwg6VpGJmEiHqF/jyDhZSGpMMspSi0V9ebgJbq9HYiIiCgVssonIspoN\n",
       "TXZ6cjSyUmMkpiHyteVxoXumX9SVGSoURfHzCXMKD7Pjvlp9WVvnwJzPRn8iszMuQFveWkXbRJfE\n",
       "NEQUCthkE5ElrW240D04J+q60jRLNjAUvHpnB+Dy6McZrHJ1160Yt4wDwLlGPs0m6ziZd9jn58Ol\n",
       "4SaJaYgoFLDJJiJLau+fhceribqO92OTyQTDeez3VBQmIyM5WtSvN45A0zQ/nyAyj4TIeFSml4r6\n",
       "ymgL3B63xEREFOzYZBORJTUb7utVFKD6YKrENEQ3M96PnRWXjpRo614vpyiKzwK08dlVdA/OS0xE\n",
       "tDvHcw+L16uudbRP9fh5NxHRvWGTTUSWZDyPfTAvEXHR4RLTEPlad22gb25Q1FXpZfLC7JHtI+Ov\n",
       "cWScLORYbi0U6CPjl0eaJaYhomDHJpuILGdqfg2j0yuiruWoOJlM13QvvJpX1FYeFX9PVmoMyguS\n",
       "Rf1Wyyi2XNzSTNaQGBmP8rQSUTeMtsDDLeNEtE/YZBOR5fDqLjI746i4AgWHDOdBrewhw8j46roL\n",
       "VzonJaYh2p3juXXi9fLmCrqmeyWmIaJgxiabiCzHeB47MtwO9UCyn3cTBV6H4bzngcQcxEXESkyz\n",
       "d+6vyYbDrv/qwDuzyUqMTTYAXBrmyDgR7Q822URkKR6vhtZe/Ul2VUkqwhz8VkbmsbK1isGFEVEf\n",
       "svDVXdvFRofj+KFMUTd2T2JxZVNiIqKdS45OhJpSJOqG0RZ4vV4/nyAiujv8zZSILOX66AKW1/S7\n",
       "h3l1F5lN93QfNOjXWx1KPygxzd4zbhn3eDW82TwqMQ3R7hzP07eML2wswTnbLzENEQUrNtlEZCnN\n",
       "Tt/z2LU8j00mY7waSIGC8rTgarIPl6UjPkbf5v/a1SGJaYh253hurU/NkXEi2g9ssonIUoxLz1IT\n",
       "o5CbHhxnXSl4dBqa7IKkXMSER0tMs/ccdhseqMsRdd/Ios+2fyIzS4tJQXHyAVFfHmn2uQmAiGgv\n",
       "sMkmIstY33Sja3BW1HWlaVAUxc8niAJrZXMVNxb08elDacGxVXy7Bw/n+tRvNo3c5p1E5nMiVx8Z\n",
       "n1tfQN/soLwwRBSU2GQTkWV0XJ+F26OfdeV5bDKbrhnf89gVQXJ113al+UnITNGf0L/RPApN0/x8\n",
       "gsg8judt2zI+wpFxItpbbLKJyDKMV3cpClB9MFViGqKbGa/uUhQF5WklEtPsH0VRcH+tPjI+Or2C\n",
       "66OLEhMR7VxmbBoKEvVpjMvDTfwjERHtKTbZRGQZzYbz2MU5CUiIjZCYhuhmxia7MDEv6M5jG52p\n",
       "2zYyzi3jZCEnDFvGp9fmcH2eC/yIaO+wySYiS5hZWMfw5LKoazkqTiazsrmKIcN57GAdFX/Pgax4\n",
       "FGTFi/rN5hF4vXwaSNZwInfbyPhwk6QkRBSM2GQTkSUYt4oDQJ3Kq7vIXDqne7fdjx3cTTYAny3j\n",
       "M4sb6Bqck5iGaOey4zORF58l6iujrRLTEFGwYZNNRJbQ3KOfx44It6O8IFliGqKbdW4/j50anOex\n",
       "jYznsgHgjWZuGSfrOGq4M3tseRIjS+MS0xBRMGGTTUSm5/VqPk+yK4tSEOawS0xEdDPjeeyixHxE\n",
       "h0dJTBMYmSkxUA8kifp86xjcHt45TNZwLKfWp74ywqfZRLQ32GQTkekNjC1iaXVL1HUqz2OTuSxv\n",
       "ruDGovE89kGJaQLLODK+tLqF1t5pP+8mMo/CpDykRutTUQ2jLRLTEFEwYZNNRKbXvO08dm0pz2OT\n",
       "uXRN9/nUoXAe+z331+TApug1t4yTVSiKgqM5NaLun7uB2bV5iYmIKFiwySYi02sxnMdOjo9Efkac\n",
       "xDREN9t+P3ZZCJzHfk9SfCSqSvQ76y9eG8emyyMxEdHOGZtsgAvQiGhvsMkmIlPb2HKj47q+sbi2\n",
       "NA2Kovj5BFHg+ZzHTgqN89hGxjuz1zfduNo1KTEN0c6Vp5UgNjxG1GyyiWgvsMkmIlPrvD7ns0iJ\n",
       "57HJbJY2VzBkOI8dSqPi7zlZnQ2HXf+V4o0mbhkna7Db7KjPrhJ151QPVrZWJSYiomDAJpuITM14\n",
       "dRcA1B7keWwyl67pXp+6Ii30muzYqDDUl+l/ALvaNYnVdZfEREQ7d8xwlZdH86JprF1iGiIKBmyy\n",
       "icjUjFd3FWUnIDEuQmIaopsZR8Vtig1lacUS08hjHBl3ub241M47h8kaqjPKEW4PEzW3jBPRvWKT\n",
       "TUSmNbe0gcHxJVFzqziZUdeU/iS7MCkP0WGhdR77PUcPZSAyXL+/nlvGySoiHOGoyawQdet4J7bc\n",
       "W34+QUTkH5tsIjKtlm2j4nUqm2wyl5XNVQwtjom6Ii107sfeLjLcgeOHskTd0juNxZVNiYmIdu5Y\n",
       "jj4yvunZQttkl8Q0RGR1bLKJyLSM92OHO2yoKEyRmIboZt0z/dCgibo8hJtsAHjgcI547fVqeLt1\n",
       "zM+7icyjPrsKNkX/tbiBW8aJ6B6wySYiU9I0zec89qGiFISH2f18gijwjEvPFCghex77PXWl6YiL\n",
       "1s+2vtXCkXGyhtiIGJ9JlMbRNni8vO+diO4Om2wiMqXB8SUsLOujpry6i8yoa7pPvM5PyPa5bzcU\n",
       "hTlsOFmVLerOgVnMLW1ITES0c0dzasTr5a1VOGf6JaYhIitjk01EptTsnPapufSMzGbDtYHr80Oi\n",
       "DvVR8ffcV6M32ZoGXGjjyDhZw9HcGp+6YYRbxono7rDJJiJTMi49S4yLQEFWvMQ0RDfrmR2AV/OK\n",
       "ujy9RGIa86guSUVcdLioeS6brCI1OhlFSfmivjLaCk3T/HyCiOjW2GQTkelsuTzouD4r6trSNCiK\n",
       "IjER0c2Mo+IAUJ7KJhsA7HYbTlXrW8Y7B2Yxu7guMRHRzh3L1beMT6/NYXBhRGIaIrIqNtlEZDod\n",
       "12ex5dafENZxVJxMyLj0LCs2HYlRCRLTmMvNI+PjEtMQ7ZzxXDYAXBnlyDgR7R6bbCIyHePVXQBQ\n",
       "W8qlZ2QuLo8LvbMDoi5P41Nso6riVMTHGEfGuWWcrCE3PgtZsfrPnIYRXuVFRLvHJpuITKfZqZ/H\n",
       "LsiKR3J8pMQ0RDfrn7sBl9ctai4982W323CySh8Z7xqc48g4WYKiKD4L0IYWRzGxMu3nE0REN2OT\n",
       "TUSmMre0gcHxJVHz6i4yo07DqDgAlKezyd7u/poc8VrTgPPcMk4WcSyn1qe+wqfZRLRLbLKJyFRa\n",
       "to2K8zw2mZFx6VlKdBLSopMlpjGnyuIUn5Hx89wyThZRklKAxEj9Rgueyyai3WKTTUSm0my4uivc\n",
       "YUNFUYrENEQ383g9cM70i7o87SC339/CO1vG9QVonQMcGSdrsCk2HDEsQHPOXMfixpKfTxAR+WKT\n",
       "TUSm4fVqPk+yDxWlICLMLjER0c0GF0aw4d4UdQWXnt3WfYYmG+DTbLKOY4YmW4OGq6NtEtMQkdWw\n",
       "ySYi07gxsYSFZb15OVzG89hkPjfdj82lZ7dVWZyChFjjlnE22WQNlekqosL0pZtXRnkum4h2jk02\n",
       "EZmGcas4ANTx6i4yIeP92PERsciOy5CYxtzsdhtOVelPs7sG5zCzwJFxMj+H3YG6rEpRt012Y921\n",
       "ITEREVkJm2wiMo1mpz4qnhwfgfzMOIlpiG7m1bzoNjzJLksr4XnsOzhds21knFvGySKMW8bdXjda\n",
       "JjokpiEiK2GTTUSmsLHlRsfArKhrS9PZvJDpjC5NYHlrVdQVHBW/o8qiFCTGRoia57LJKmqzKuCw\n",
       "OUTdMMIt40S0M2yyicgUOq7PwuX2ipr3Y5MZdW2/H5tN9h3Z7TacrM4SddfgHKbnOTJO5hcdFoWq\n",
       "jDJRN423w+1xS0xERFbBJpuITME4Kg4AtQd5PzaZT6dhVDwqLBIHEnIkprGO+7aNjF+4xqfZZA1H\n",
       "DVvG110baJ/qkZiGiKyCTTYRmYLxfuyinAQkxkX4eTdR4Gma5nseO7UYNht/jO7EoaJUn5Hxt1tG\n",
       "JaYh2rkjOdVQoB9dujLKkXEiujP+dkBE0s0urmNoYlnUdaV8ik3mM7s2j7n1BVGrqcUS01iL3abg\n",
       "lGFkvPvGPKbm1yQmItqZxMh4lKYWifrqaBu8mtfPJ4iI2GQTkQlsHxXn/dhkRt0z/T51GZvsXbmv\n",
       "xne0/uK1cUlJiHbHuGV8fmMRfbOD8sIQkSWwySYi6Yyj4hHhdpQXJEtMQ3RrTkOTbVdsKE4ukBfG\n",
       "giq4ZZws6mhOtU/dMNoqKQkRWQWbbCKSyuvV0NKjP8muKk5FmMMuMRHRrfXMXBevC5LyEOEIl5jG\n",
       "euw2BSerfLeMzy5yyziZX2ZcOvIS9OV9V0ZaoGmaxEREZHZssolIqutji1ha3RI1z2OTGa27NjC4\n",
       "OCJqnse+O6ert20Zb+PIOFmDcWR8fGUKo0sTEtMQkdmxySYiqZqdUz4178cmM+qdHfB5csXz2Hen\n",
       "sjgF8TH6BMD5No6MkzUYr/ICgAZuGSciP9hkE5FUxlHx1IRI5KbHSkxDdGvObUvPjNuGaefsdpvP\n",
       "yHjnwCzmlzYkJiLamcKkPKRG6/tCrozwXDYR3R6bbCKSZn3Tjc6BWVHXqelQFMXPJ4jk6JnVz2On\n",
       "xaQgOSpRYhprO2UYGdc04GI7R8bJ/BRF8Xma3T9/AzNrcxITEZGZsckmImna+2fg9ugjuHWlHBUn\n",
       "8/F6veiZGRA1z2Pfm+qSVMRFh4maW8bJKo7l1vrUV0fbJCUhIrNjk01E0jQbRsUVBajh0jMyoaHF\n",
       "May79ZHmMo6K3xOH3YYTlfrIeHv/DBaWNyUmItqZstRixIXHiPoKz2UT0W2wySYiaYxLz0pyE30W\n",
       "IhGZRc+s73lsPsm+d8aRca8GXOLIOFmA3WZHfbZ+Z3bHVC9WNlclJiIis2KTTURSTM2vYWRqRdTc\n",
       "Kk5m1W24HzsqLBJ58dl+3k07UXMwDTGRDlFzyzhZxdFc/Vy2V/OiabxdYhoiMis22UQkhXGrOMD7\n",
       "scm8jJvFS1MKYbPxR+e9CnPYcNwwMt7WN4PFFY6Mk/nVZJQjwq5PXTWMcGSciG7G3xSISArjqHhU\n",
       "hB3qgWQ/7yaSY259AdOr+gZ8jorvndPGkXGvhssdExLTEO1MuCMcNZkVom6Z6MCme0tiIiIyIzbZ\n",
       "RBRwHq+G1l79SXZVcRrCHPx2RObTYxgVB4DSFC492yt1ahqiIjgyTtZj3DK+5XGhbbJLYhoiMiP+\n",
       "VktEAdc/soDlNZeo61SOipM5dRtGxRVFwcGUQolpgkuYw47jhzJF3dozjZU1PhEk8zucVQmbov8K\n",
       "fWWkVWIaIjIjNtlEFHDNPVM+NZeekVkZz2MXJOQiKixSYprgY9wy7uHIOFlEbEQMDqUfFPWVsVa4\n",
       "vR6JiYjIbNhkE1HANTv1UfH05Ghkp8b4eTeRHJvuLQzOD4ua57H33uGydERF2EX9ditHxskajuXU\n",
       "iderW2ton3RKTENEZsMmm4gCam3Dhe7BOVHXlaZBURSJiYhurX9uEB7NK+rSVJ7H3msRYXYcLddH\n",
       "xlt6prC67vLzCSJzOJ5bCwX6z66Lw40S0xCR2bDJJqKAutY3A49XEzVHxcmsjOexAaCMT7L3xaka\n",
       "fWTc7dHQ0MmRcTK/xKgElKeViPrKKEfGiUjHJpuIAqrZcD+2TQFqSlIlpiG6Padhs3hKVBJSY3jN\n",
       "3H6oL0tHRLg+Mn6eI+NkESfyDovXK1urHBknIoFNNhEFlPF+7IP5SYiNDpeYhujWvJoXPbN6k61y\n",
       "VHzfRIY7cKQsQ9RNzimsbXBknMzvRG6dz8j4JY6ME9G72GQTUcBMzK5ibGZV1HWlHBUncxpbmsTq\n",
       "1pqoeR57f502bBl3ub240jkpMQ3RzmwfGW/gyDgRvYtNNhEFTIthVBzg/dhkXjyPHVhHKjIQ7tB/\n",
       "JTnfxpFxsobtI+MdUxwZJyI22UQUQMb7saMjHSjNT5KYhuj2jPdjR9jDcSAxV2Ka4BcV4UB9uT4y\n",
       "3tg1ifVNt8RERDuzfWT84hBHxomITTYRBYjH40Vr74yoq0tS4bDzWxCZU49h6VlJSgHsNrufd9Ne\n",
       "OGUYGd9ye9HYzZFxMr/EqASUcWSciLbhb7hEFBC9Iws+998e5tVdZFKLG0sYX9GnLlSOigfEsYoM\n",
       "hBlGxt/mlnGyiJMcGSeibdhkE1FANDu3n8dmk03mZLy6C+B57ECJjgzz+ePb1a5JbGxxZJzM7/j2\n",
       "kfHhJolpiMgM2GQTUUAYr+7KSolBZkqMxDREt2e8ukuBgoMphRLThBbjyPjmlgdN3VN+3k1kDknb\n",
       "RsavjLRwZJwoxLHJJqJ9t7LugnNoXtS13CpOJuac1pee5SZkISY8WmKa0HLsUCYcdv2JILeMk1UY\n",
       "R8aXOTJOFPLYZBPRvrvWNw2vVxM178cms9ryuNA/PyRqnscOrNioMNQavj9c6ZzAlotPBMn8ODJO\n",
       "REZssolo3xnPY9tsCqpLUiWmIbq963NDcHv1c8A8jx14p6uzxOv1TQ+anBwZJ/N7Z2Rc/37RMNIC\n",
       "t4c7BYhCFZtsItp3xvux1fwkxESFSUxDdHs9s/0+tZpaJClJ6DpemQW7jSPjZD0n8+rF65WtVbRM\n",
       "dEhMQ0Qysckmon01PrOKidk1UXOrOJlZt2GzeEJkPNJjOHURaHHR4ag5qO9taOiYgMvNkXEyv1N5\n",
       "9bAr+q/Wb95okJiGiGRik01E+2r7qOdhLj0jk9I0DT0z+pNsNbUIiqL4+QTtF+OW8bUNN1p6pv28\n",
       "m8gc4iPjUJN1SNSNo21Y21qXmIiIZGGTTUT7ynh1V0xUGErykiSmIbq98ZUpLG2uiJrnseU5UZkJ\n",
       "m2Fk/O1WjoyTNTxw4Jh47fK6cWmkWWIaIpKFTTYR7RuX24u2Pv0JVG1pms9ZSyIz6TGMigNAaQrP\n",
       "Y8uSEBuBquIUUV/umIDL7ZWYiGhnjmRXI8oRKeq3blyWmIaIZGGTTUT7pntwDuub+lnKep7HJhPr\n",
       "NoyKh9nDUJSULzENna7JEa9X110+f7AjMqtwRziO59WJumOqBzOrcxITEZEMbLKJaN80dk/61IfL\n",
       "2GSTeTkNTXZJ8gE47A6JaehEZSaMgy/nOTJOFmEcGQeAt4euSEpCRLKwySaifWNcelaQFY+UhCiJ\n",
       "aYhub2VzFaNLE6JWeR5buqS4SBwq0re7X2ofh9vDkXEyv4q0UiRHJYr6rcHL0DRNYiIiCjQ22US0\n",
       "L2YX1zEwtiRqXt1FZtYzy/PYZnS6Oku8Xl5z4VrfjMQ0RDtjs9lwn+Fp9vDSOG4sjEhMRESBxiab\n",
       "iPZFs9P3/CTPY5OZGc9jA+9c30XynazOhvEWNW4ZJ6vYPjLOO7OJQgubbCLaF8aruyLC7agoSpaY\n",
       "hsg/p2GzeE5cJuIiYiWmofckx0eiolDfMn7x2hi3jJMl5Cfm4ECCvrzv/I0r8Hr5zy5RqGCTTUR7\n",
       "zuPV0NyjN9nVJakIc9glJiK6PbfXg765QVHzKba5PFCnNyrLay609nLLOFnD/QXHxev5jUW0Tzkl\n",
       "piGiQGKTTUR7rm94HstrLlEf5qg4mdjg/DBcHv2f11IuPTOVU1XZPlvG32zm2Vayhvvyj0KB/g/v\n",
       "m7wzmyhksMkmoj3X1D3lU/PqLjKz7eexy/gk21QS4yJQfTBN1JfaJ7Dp8khMRLQzydGJqMwoFfXl\n",
       "kRasuzYkJiKiQGGTTUR7znh1V1ZKDLJTeb6VzKvHcB47LjwGWXEZEtPQrTxQq4+Mr2+60dg1KTEN\n",
       "0c7df0AfGd90b+I878wmCglssoloTy2vbaFnaF7UfIpNZqZpGpyGJ9mlqUVQjOusyRROVmXBYTeM\n",
       "3baMSkxDtHMn8+oRHRYl6lf635aYhogChU02Ee2plp5peDW9ZpNNZja9Oov5jUVRqzyPbUqx0eE4\n",
       "rOoTBlc6J7G+6ZaYiGhnIhzheMDwNPv6/BCuz92QmIiIAkFak62q6v+pqqpXVdXPyspARHvPeB7b\n",
       "YVdQVZwqMQ2Rfzefx2aTbVb3G7aMb7k8aOiYkJiGaOceKb7Pp+bTbKLgJ6XJVlW1DMCfANDe/RcR\n",
       "BQFN03zOY1cUpiAqwiExEZF/xvPYdpsdRckHJKYhf44fykR4mH4V4FscGSeLyE/MQWmKvlDx7aEr\n",
       "XIBGFOQC3mSrqmoD8E8AwgHw4BtRELkxsYy5Jf0Xh3qOipPJGc9jFyXlI9weJjEN+RMV4cDRcn1k\n",
       "vLF7EitrWxITEe2c8Wn2BhegEQU9GU+yfwvAKQDPS/jfJqJ91NTtu/H3cBm3NJN5rW2tY2hxTNQ8\n",
       "j21+xpFxt0fDpfZxiWmIdo4L0IhCS0CbbFVV8wH8BYCvAXg9kP/bRLT/Gg3nsZPjI3EgM05iLi2S\n",
       "bQAAIABJREFUGiL/emYHoBlOLPE8tvkdKc9AVIQ+Mv5mM0fGyRq4AI0otAT6SfY/AFgG8PvgqDhR\n",
       "UFnfdKNzYFbUh9V0XoVEptYz67v0rDS16DbvJLOICLPjeGWWqFv7ZrCwvCkxEdHOcQEaUegIWJOt\n",
       "qupnADwG4HedTufind5PRNZyrX8Gbo/+VJBXd5HZGc9jZ8SmITEyXmIa2qkHavWRca9Xw4VrY37e\n",
       "TWQeXIBGFDoC0mSrqpoO4G8A/MTpdD4XiP9NIgos49VdNgWoLU2TmIbIP4/Xg57ZQVGrfIptGbWl\n",
       "6YiN0hfUcWScrIQL0IhCQ6Du1vnKu/9b/2Gv/4tVVeUVYEQmYGyyD+YnIS46XGIaIv+GFsew6dbH\n",
       "jHke2zrCHDacqs7GLy6/c561c2AWMwvrSE2MusMnieQ7mVePrzd/H2uudQDAy/1v4ZHi+yWnIgpa\n",
       "V1VV3dEbnU7nnp5x3Pcn2aqqPg7gaQB/7HQ6b/XnZh7aJLK4sZkVjM+uirpe5ag4mZtxVByAzwgn\n",
       "md/9tdnitaYBb7dyZJysYfsCtIH54Zu+HxGR9QXiSfbRd//9K6qqfuUW//mzqqo+C+DPnE7nn+32\n",
       "v3ynf3VQVbUewNXd/vcT0Z0Zn2IDPI9N5tdt+KU2JiwKuQlZft5NZlNVnIrE2AgsrLwzjfBWywg+\n",
       "cobTCGQNj5bcj5f6zon6J85XeIUg0f444nQ6G2X8DweiyT4P4K8AbB/rrgfwEIAXAXS8+z4isqAm\n",
       "p95kx0WHoSQvSWIaojszPjkqTS2CTQn0ZRt0L+x2G07XZOOn5wcAAD1DCxifWUVWaozkZER3lpeQ\n",
       "jdrMCrRMdAIAroy0YmJ5Cplx/AM1UbDY9ybb6XS+DODl7V9XVfX38E6T/V2n0/kv+52DiPaHy+1B\n",
       "W9+MqGtL02G38RQImdfM2hxm1+ZFzSdI1nR/bY5osgHgXOMwfumxMomJiHbuybJHRZOtQcNPe17D\n",
       "5+s/KTkVEe0V/umeiO5J5/U5bG55RH2Y57HJ5HpmrvvUPI9tTeUFychIjhb1a43D0DTuQiVrqExX\n",
       "UZCYK+rXBy5geXNFYiIi2ksym2wNN4+QE5HFNDp5HpusxXge26bYUJJSIC8M3TWbTcHZI3minphd\n",
       "Q+fAnMRERDunKAqeUB8R9ZbHhV/0vSkxERHtJWlNttPp/Fun02nnqDiRtTUbmuzC7Hgkx0dKTEN0\n",
       "Z8Yn2YWJeYh0REhMQ/fiofo8n/q1q8OSkhDt3qn8I0iOShT1S31vYMvjkpiIiPYKx8WJ6K7NLq5j\n",
       "cHxJ1BwVJ7PbcG1gcGFE1GoqR8WtLCs1BhWFyaJ+u3UUmy6Pn08QmYfDZscHSx8S9eLGEt6+0SAx\n",
       "ERHtFTbZRHTXeHUXWU3f3CC8mlfUpVx6ZnnGkfG1DTcut49LTEO0O48U3Y8ohz4B9hPnKz7fo4jI\n",
       "mthkE9FdM57Hjgy3o7wgRWIaojvr3rb0rIxNtuXdV5ODcIf+6wxHxslKosOj8HDRaVGPLk2gZbxT\n",
       "YiIi2gtssonorng8XrT0TIu65mAawhz8lkLm1mNYepYWnYzk6EQ/7yYriIkKw4nKLFE3O6cwt7Qh\n",
       "MRHR7nyw9Cxsiv7z8wXnKxLTENFe4G/ERHRXeocXsLquL2ip43lsMjmv5kXPrH6vcinPYweNhwwj\n",
       "414NeKNpxM+7icwlNSYZJ/MOi7p9ynnTVYNEZC1ssonorjRuO49dz/PYZHIji+NYc62LWuWoeNCo\n",
       "K01DUpy+Jf61q7wzm6zlSfVRn/r7HS9ISkJEe4FNNhHdlSbnpHidnRqDzJQYiWmI7sx4PzbA89jB\n",
       "xG634czhXFEPji9hYGzJzyeIzKUoOR/12VWibp3oQvd0n8RERHQv2GQT0a4trmyid3hB1NwqTlZg\n",
       "HL+MdEQgPyFHYhraaw8fzfepX706JCkJ0d15pvJJn/p77XyaTWRVbLKJaNdae6dhnMTk/dhkBU7D\n",
       "k+yDKYWw2fgjMJgUZMWjKDtB1G82jcLt4VVIZB2FSXk4llMr6vYpJzqmeiQmIqK7xd8wiGjXjOex\n",
       "HXYbqopTJaYhurOF9UVMrs6Imuexg9PZo/oCtIWVTTQ5p/y8m8h8nql8wqf+XvtPuF+AyILYZBPR\n",
       "rni9ms8vrpVFKYiMcEhMRHRnzlnejx0KHqjLgc2miJp3ZpPV5Cfm4GRevai7pvtwbbJbYiIiuhts\n",
       "soloVwbHl7CwvClqnscmK3BO66PiiqKgJKVAXhjaN0lxkT43HVxun8DK2pbERES79/Shx6FA/2PR\n",
       "d/k0m8hy2GQT0a40dk/61DyPTVZgPI+dn5CD6LAoiWloP5013Jnt9njxVuuYxDREu5ebkIXTB46K\n",
       "und2AC0THRITEdFusckmol1pdk6L1ykJkcjPjJOYhujOttxbuL6gjw2rqUUS09B+O1aRiZioMFG/\n",
       "2sAt42Q9Tx36IBRFf5r9vWsv8Gk2kYWwySaiHVvbcKFzYFbUh9V0n18CiMyof/4GPF6PqHkeO7iF\n",
       "h9nxQK1+PZtzaB4DY4sSExHtXnZcBh44cFzU/fM3cGmkSWIiItoNNtlEtGNtfTPwePW/pNeXZUhM\n",
       "Q7QzzhnfpWelbLKD3mMnDvjUP7swKCcI0T34+KEPwq7ov6p/s/VH2PK4JCYiop1ik01EO9ZkuLrL\n",
       "ZlNQU5omMQ3RznQbzmMnRSUgLTpZYhoKhOLcRKj5SaI+1ziMtQ02J2QtmbFpeKzkjKinVmfxUu/r\n",
       "EhMR0U6xySaiHdE0zWfpmZqfhFjDuUciM9I0DT2GJ9lqajGPOISID5wqEK83tjx4vXFEXhiiu/TU\n",
       "occREx4t6h90voiljWWJiYhoJ9hkE9GODE8uY2p+XdT1vLqLLGBseRIrW6ui5nns0HFfbY7PHwJf\n",
       "vDDAxVFkObERMXj60OOiXndt4HvtL0hMREQ7wSabiHbkapfv1V1Hynkem8zPeHUXAJSmcLN4qIgI\n",
       "s+ORY/mivjGxjM6BOYmJiO7O+4ofQFas/oftl6+/heFFXk1HZGZssoloR6526eexk+MjUJSTIDEN\n",
       "0c4Yz2NH2MNRkJTn590UbD5wssCnfpEL0MiCHHYHPl37MVFrmoZ/a/2hxEREdCdssonojlbXfa/u\n",
       "qi/L4LlWsgTjeeySlAI4bHaJaSjQstNiUXtQX9B4vm0MiyubEhMR3Z0j2dU4lF4q6ubxDrSMd0pM\n",
       "RET+sMkmojtq6Zn2ubqLo+JkBUubKxhbNizrS+WoeCgyLkBze7x4uWFIXhiiu6QoCj5T+xQU6H/g\n",
       "/teW5+DxeiSmIqLbYZNNRHdkPI/tsCuo5dVdZAHd030+dWkKl56FomOHMpEcHynqly4OwuvlAjSy\n",
       "nsKkPJwpPCHq4aVx/KLvTYmJiOh22GQTkV9er4arhqu7KgpTEB3Jq7vI/IznsRUofJIdohx2G953\n",
       "/ICoJ+fW0OSc8vMJIvP6paoPI8IRIervtD+PhY0liYmI6FbYZBORX9dHF7GwrJ9h5Kg4WYXxSXZ+\n",
       "Yo7PXbMUWh47cQA2mz5mywVoZFVJUQl4quKDol53beDfWrgEjchs2GQTkV/Gp9gAm2yyhg33Jgbm\n",
       "9bO35aklEtOQbKmJUThWoX/vuto1gan5NYmJiO7e46VnkROfKeo3b1xG51SvxEREtB2bbCLy62qn\n",
       "3mRnJEcjNz1WYhqinemdHYBH84q6LI1Ndqj7wKlC8dqrAT+/dENiGqK757A78PnDn/T52teavgM3\n",
       "l6ARmQabbCK6rcWVTfQMz4v6SDmv7iJr6Nq29KwsjUvPQl3twTRkpcSI+heXb8Dl9vr5BJF5VWao\n",
       "OJ1/RNTDi2N4qfecvEBE5INNNhHdVpNzCpphCS9HxckqnDN6k50Rk4rkqESJacgMbDYF7z9ZIOqF\n",
       "5U1cujYuLxDRPfpM7VOIcuib87/f/gLm1hckJiKi97DJJqLbMo6Kh4fZUVWSKjEN0c64vR70zAyI\n",
       "mqPi9J5HjuUjzKH/6vPDc73QNF7nRdaUFJWAZyqfEPW6ewP/2vIDiYmI6D1ssonoljwer881N9Ul\n",
       "qYgIs0tMRLQzg/PD2PRsibqcTTa9Kz4mHGeP5Im6b2QRrb3TEhMR3Zv3H3wQ+Qk5oj4/dBXXJrsl\n",
       "JiIigE02Ed1G9415rKy7RM1RcbKKm89js8km3cceLIFxtcQPXuu7/ZuJTM5us+Pz9Z/w+do/NX4b\n",
       "Lo/rNp8gokBgk01Et9TIq7vIoroM57ETIuKQFZsuMQ2ZTXZaLE5VZ4u6pXcavYYFj0RWU552EA8W\n",
       "nBT1+PIU/r3r5xITERGbbCK6patdepOdlxGHjORoiWmIdsareeE0PMlW04q5EZ9u8tRDB31qPs0m\n",
       "q/t07ccQG65vz/9R188xtjzp5xNEtJ/YZBPRTWYW1jEwtiRqPsUmqxhbnsTy1qqoy1M5Kk43K8lL\n",
       "RO3BNFFfuDaG0ekViYmI7k18RCw+XfMxUbu9bnyt8dtc7EckCZtsIrrJzaPiHLcla+jedh6bS8/o\n",
       "dp46qz/N1jTgh6/zaTZZ24OFJ3y+512bdOLtG1ckJiIKXWyyiegmxlHxqAgHKgpTJKYh2jnj0rNI\n",
       "RwQOJOZKTENmVn0wFSV5+v3pr10dwuziusRERPfGptjwhfpfgl3Rf73/l5bnsGKY7iGiwGCTTUQ+\n",
       "XG4PWnr0K23q1DQ47PxWQdZgfJJdmlIEu43XztGtKYri8zTb7dHw4zevS0xEdO/yErLxZNmjol7c\n",
       "XMa32n4sMRFRaOJvzkTko+P6LDa2PKI+yvPYZBEza3OYXpsTNa/uojs5UZmFnDR9WdRLFwewsrbl\n",
       "5xNE5vfxig8iPUafQHul/y30zPAPSESBxCabiHw0dPqexz5cxiabrKF7ut+n5nlsuhO7TcHHDJvG\n",
       "1zc9+OmFAYmJiO5dhCMcn6//pM/X/vHqt+D2em7zCSLaa2yyiUjQNA0NHROiLslLRHJ8pMRERDtn\n",
       "HBW32+w4mFwgLwxZxkP1uT7f537y1nVsutiMkLXVZVXiRN5hUQ8tjuJnPa9KTEQUWthkE5EwNLmM\n",
       "ybk1UR+ryJSYhmh3umb0Jrs46QDCHeES05BVhDns+MiZYlEvrmzhlYYhiYmI9sav1j2NKIf+B6Tv\n",
       "t/8U06uzEhMRhQ422UQkGJ9iA8DxQ2yyyRpWNlcxvDgm6rK0Yj/vJvL12IkDiIkKE/UPz/XB7fFK\n",
       "TER075KjEvHJqg+JetOzhX9u+i7vziYKADbZRCQYm+zUxCgUZsdLTEO0c90zvnccl6XyPDbtXHRk\n",
       "GB4/XSjqqbk1/PzSDYmJiPbGYyVnUJSUL+rGsWu4MtoqMRFRaGCTTUQAgIXlTTiH5kV9tCIDiqJI\n",
       "TES0c+1TPeK1AoVLz2jXPnR/EaIiHKL+9i+6sbbhkpiI6N7ZbDZ88cgv+/w8f7bpe1h3bUhMRRT8\n",
       "2GQTEQDgatckjBNkHBUnK+k0NNkFSbmICY+WmIasKCE2Ah8/q/9xZnFlCz881+fnE0TWUJR8AO8v\n",
       "eVDUs+vz+F77C/ICEYUANtlEBABo6NRHxSPD7agqTpWYhmjnVjZXcWNhVNSH0lWJacjKPvxAsc+m\n",
       "8X9/ox9zS3ziR9b3iaonkRSVIOqf9b6GgflhiYmIghubbCLClsuDZueUqOvUdISH2SUmItq5zule\n",
       "aNDHMA6ll0pMQ1YWGe7Ap95fJurNLQ++9fNuiYmI9kZ0WBR+re4ZUWuahn9q/Da8Ghf8Ee0HNtlE\n",
       "hGv9M9jY0u+FPVaRITEN0e50GM9jKwrKufSM7sHDR/KQnxkn6pcv38Dw5LLERER743huHeqyKkXd\n",
       "OzuANwYuSUxEFLzYZBORz1ZxRQGOlPM8NlmHsckuSsxHdHiUxDRkdXa7DZ99vELUXg34xk87JSYi\n",
       "2huKouDXDj+DMJu+4O/f2n6Ela1ViamIghObbKIQp2kaGjonRa3mJyExLkJiIqKdW9pcwdCi4Tx2\n",
       "BkfF6d4dLc9AZXGKqC93TKC9f0ZiIqK9kRmbhg+Xv0/Uy5sr+M615yUmIgpObLKJQtzA2BJmFtZF\n",
       "fYxbxclCjFvFAZ7Hpr2hKAp+7YlDPl979oUOaMYrGIgs6iNljyEtRv8j0st9b+H63JDERETBh002\n",
       "UYgzbhUH2GSTtXRO9YrXNsWGMp7Hpj1Smp+E+2tzRN0ztIDzbWMSExHtjXBHuO8SNGj4WtN3uASN\n",
       "aA+xySYKcZcN57EzkqORnxHn591E5tIx5RSvi5PyERUW6efdRLvzKx8oh8OuiPpfftoFl5uNCFnf\n",
       "kZxqHM6uEnXv7ADOcQka0Z5hk00UwmYX19E3vCDqY4cyoSiKn08QmcfixhKGl8ZFXcFRcdpjWakx\n",
       "+OCpQlGPz67ixYsDEhMR7Z1fq3vaZwnaN9t+hJVNLkEj2gtssolC2NWuSZ+aV3eRlXRO9/rUh9JV\n",
       "SUkomD3zSCmiIw2NyEvdmF1c9/MJImvIiE3DR8ofE/Xy5gq+084laER7gU02UQhr6NCb7OhIBw4V\n",
       "pUpMQ7Q7HZP60jO7YkNZapHENBSsEmIj8MzD+pTE2oYb//MHbVyCRkHhw2XvQ7pxCVr/WxhaGPXz\n",
       "CSLaCTbZRCFqY8uNlp4pUR9W0xHm4LcEso6Oab3JLk4uQCTPY9M++fCZYhRmx4v6cscELrSN+/kE\n",
       "kTWEO8Lx2bqnRa1pGr7R8n3+EYnoHvE3aqIQ1dY7gy3DAh9uFScrWVhfxOiSvrSPV3fRfnLYbfid\n",
       "Z2phM6ys+F8/asPy2pa8UER75Eh2Naoy9OM21yaduDrWJjERkfWxySYKUcaru2w2BUfKeR6brOPm\n",
       "89hssml/HcxLwofP6FfELSxv4tmfdEhMRLQ3FEXBZ2uf9ll8+i8tP4DL45KYisja2GQThSCvV0OD\n",
       "4equ8oJkxEWHS0xEtDvtU4bz2DY7SnkemwLglx9TkZkSLeqXG4bQ2jMtMRHR3shPzMGjxfeLenJl\n",
       "Gi/2vi4xEZG1sckmCkE9w/OYX94U9bEKjoqTtXQamuyS5AJEOiIkpqFQERnuwG8/Vevztf/vuRZs\n",
       "bLklJSLaO89UPomYsChR/6DjRSxsLElMRGRdbLKJQtCla74Le05Usckm65hbX8DYsr4Zn6PiFEg1\n",
       "pWl45Gi+qCdm1/CtnzslJiLaG/ERsXi68glRr7s38J22H0tMRGRdbLKJQoymabhgaLIPZMYhOzVW\n",
       "YiKi3TFe3QWwyabA+9yHDiExTp+e+PEbfegdnpeYiGhvvK/kDHLi9T+8vz5wEdfnhiQmIrImNtlE\n",
       "IWZoYhnjM6uiPlmVLTEN0e61TnSK12H2MKgpPI9NgRUXHY7f+GiVqL0a8HffbYHb4/XzKSLzc9js\n",
       "+GztU6LWoOEbLc/xSi+iXWKTTRRiLrb7joqfrMqSlIRo9zRNQ+tkl6gr0koQ7uDSPgq809XZOG64\n",
       "+nBwfAnffKlbYiKivVGbdQh1WZWi7pruRdN4u8RERNbDJpsoxFw0jIqnJ0ejMDteYhqi3RlaHMWi\n",
       "YRFPdUaFxDQUyhRFwW9+vBrRkQ7xtede60Vj96SfTxFZw6/UfMznSq9vtv4IHq9HYiIia2GTTRRC\n",
       "JmZXcX10UdSnqrJ8fogSmV3rRJdPXZNZLikJEZCSEIX/8PEan6/99beaMLu4LikR0d7ITcjCw4Wn\n",
       "RT2yNI5zAxclJiKyFjbZRCHkUvuET32ikqPiZC1thiY7KTIBeQncKUBynTmci8dOHBD10uoW/t9/\n",
       "a4SH57PJ4p6ufAIRdv04zvfaX8CGe9PPJ4joPWyyiULIJcN57MTYCJQVJEtMQ7Q7W+4tdE33iro6\n",
       "s5yTGGQKv/6RKhRk6UdvOq7P4ps/5/lssrakqAQ8WfaIqOc3FvFT56sSExFZB5tsohAxv7yBzoFZ\n",
       "UR+vzITdxgaFrKNrpg8ur1vUHBUns4gIs+MPP3MEkeF28bXnXutFU/eUxFRE9+5J9VEkRMSJ+sfd\n",
       "v8CCYS8GEd0am2yiENHQMQHjDRzcKk5W0zre6VNXZZRJSkJ0s9z0OPzWU/r5bE0D/vrbjTyfTZYW\n",
       "FRaJpysfF/WGexPPdfxUYiIia2CTTRQijFvFoyMdqC5Jk5iGaPeMV3cVJuYhIZKb8clcHqzPw6PH\n",
       "8kW9uLKFv/wmz2eTtZ0tug9ZcemifqX/bYwtTfj5BBGxySYKAavrLrT2zoj6SHkGwhz8vz9Zx9z6\n",
       "AoYXx0RdzVFxMqkvfrQKBzL18dr2/ll86xdOiYmI7o3DZsenqj8qaq/mxbevPS8xEZH58bdsohBw\n",
       "tWsSbsOTlFNV3MhM1tJ209VdvB+bzCky3IE//MxRRBjOZ3/vlR683ToqMRXRvTmaUwM1pUjUl0ea\n",
       "cX1uSGIiInNjk00UAi4atoqHOWw4XJbu591E5mNssiPs4VBTi/y8m0iuvIy4m+7P/ptvN6NnaF5S\n",
       "IqJ7oygKPlXzUZ+vfbf9J5LSEJkfm2yiILfl8qCxa1LUdaXpiIpwSExEtDtezYs2w3nsivRShNnD\n",
       "JCYiurOzR/Lw5P36H4O2XB58+dnLmFngIjSyprK0EtQapoiax9vhnOmXmIjIvNhkEwW5lp5pbGx5\n",
       "RM2t4mQ1g/MjWNpcETWv7iKr+PyTh3wmh+aWNvFf//kyNjbdfj5FZF6fqPqQT/0dns0muiU22URB\n",
       "zrhV3GZTcOxQpsQ0RLtnfIoNcOkZWYfdbsMffPoI8jL0RWjXRxfxV99qhNer+fkkkTkVJx/A0Rz9\n",
       "KETHVA+uTXZLTERkTmyyiYKYx+PF5Q79mo3KohTEx4RLTES0e60T+v3YKVFJyInjH4rIOmKiwvBf\n",
       "Pn/c53vvpfYJ/OuLXX4+RWRen6h8EgoUUX/n2vPQNP7RiMiITTZREOsYmMXy2paoOSpOVrPh3kS3\n",
       "4cxfTWY5FEXx8wki88lMicEf/+oxOOz6r13PvdaLVxq4nZmsJz8xB6fy60XdOzuA5vF2iYmIzIdN\n",
       "NlEQM46KA8CJSjbZZC2dUz3wePWdAtW8uoss6lBRCn7nGd+N43//XAva+2ckJSK6e09XPgGborcR\n",
       "37n2PLya188niEILm2yiIOX1arjQNibqg3mJSE2MkpiIaPcax66J14qioCpDlZiG6N6cPZKPpx8+\n",
       "KGq3R8OXn23A0MSSxFREu5cdl4EzBSdEPbgwgoaRFomJiMyFTTZRkOoanMPc0qao76vJlpiGaPc0\n",
       "TcPVsTZRqylFiIuIlZiI6N59+v3lPkd3VtZd+NOvXsLsIq/2Imt56tAHYbfZRf299hf4NJvoXWyy\n",
       "iYLUWy2jPvXpmhxJSYjuzsD8EObXF0V9JKdaYhqivWGzKfhPv3wY6oEk8bWZhXV86auXsLrukpiM\n",
       "aHfSYlLwSNF9oh5ZGufTbKJ3sckmCkIer4bzhlFxNT8JGcnREhMR7Z7xKTYAHMlmk03BITLcgT/5\n",
       "3HFkp8aIrw2OL+Evvt4Al5tPAsk6PlL+GBw2h6h/2PkiN40TgU02UVDquD6DhWXDqHgtR8XJeq6O\n",
       "6k12Vlw6suN5dRcFj4TYCPzZF08iMS5CfK2tbwZ/+51m3qFNlpESnYQHC0+KenBhBE3cNE7EJpso\n",
       "GL3dMuZTn67mqDhZy8zqHAYXRkTNp9gUjDJTYvCnXziBqAj9XOsbzSP4xk87/XyKyFw+UvY+n03j\n",
       "P+z4GZ9mU8hjk00UZDweLy5c05vs8oJkpCVxqzhZy02j4jyPTUGqJDcR/8dnj8Fu0+9//+G5Pjz/\n",
       "Zr+fTxGZR3psKu4/cEzUvXODuDbZLTERkXxssomCzLX+GSyubImaW8XJihoNTXZceAxKU4okpiHa\n",
       "X4fVdPzOM7U+X/un59txvnXsNp8gMpePlj8GBYY/FHW+KDENkXxssomCzNuGX8oUBTjNJpssZs21\n",
       "jvapHlHXZVf6XBNDFIwePpqPX/lAuag1DfirbzWivX9GYiqincmOz8TJvMOi7pzuRdd0r8RERHKx\n",
       "ySYKIm6PFxfaxkVdUZiClASOipO1tE50wuP1iJrnsSlUPP3wQXzgVIGoXW4v/tuzDbgxsSQvFNEO\n",
       "faziAz41n2ZTKGOTTRRE2npnsLzGUXGyNuNWcYfNgZrMColpiAJHURT8xkercaJS36S/uu7Cl/7x\n",
       "ImYX1yUmI7qz/MQcHM2pEXXrRBf6ZgflBSKSiE02URB5u3VUvFYU4HQ1m2yyFo/X43P9S2V6KaLC\n",
       "IiUmIgosu03B73/6CMoOJImvzSxu4EtfvYTVdZfEZER3tv1p9g86fyYpCZFcbLKJgoTL7cXFa/qo\n",
       "eGVRKpLi2ZyQtThn+rG6tSZqbhWnUBQRZseffP4EctJixdcGx5fwF19vgMvt8fNJIrmKkw+g1jB9\n",
       "1Dh2DSNL434+QRSc2GQTBYnW3mmsGJ5y3F/Lp9hkPcZRcQCo53lsClHxMeH4sy+eRFJchPhaW98M\n",
       "/se3m+H18g5iMq+PVrzfp37B+aqkJETysMkmChJvteij4jYFOFnFJpusRdM0XDFc3VWYlIeU6CQ/\n",
       "nyAKbhnJ0fjTL5xAVIS+Xf/NllE8+0KHxFRE/pWllqAkuUDUbw5exsL6orxARBKwySYKAi63B5fb\n",
       "9XGsqpJUJBqefhBZwejyBCZXpkXNp9hEQHFuIv7os8dgt+l3EP/7G/348Zv9ElMR3Z6iKHiy7BFR\n",
       "u71uvNT3hsRERIHHJpsoCDQ7p7G64Rb1/bU5EtMQ3Z0rI60+Na/uInpHnZqO3/1Enc/XvvZ8u88E\n",
       "E5GZHMupRVpMiqh/0fcmNt1bfj5BFFzYZBMFgbcMW8VtNgUnKrMkpiG6OxeGrorXqdHJKEzKk5iG\n",
       "yFzOHsnDZz5YLmpNA/76W0241j8jMRXRrdltdjxeelbUK1urODdwUWIiosBik01kcVsuDy63T4i6\n",
       "piQVCbEcFSdrGVkcx41F/Y9Fp/LroSiKn08QhZ6nzh7E46cLRe32ePHlf76MG+NLElMR3drZwlOI\n",
       "CYsS9Qs9r8Lr9UpMRBQ4bLKJLK6xexLrmxwVJ2u7MHzVpz6Vd0RSEiLzUhQFv/6RKpxU3kb9AAAg\n",
       "AElEQVSs0qeVVjfc+NJXL2JmYV1iMqKbRYZF4tGSB0Q9uTKNq2Ntfj5BFDzYZBNZ3LmmEfHaYVdw\n",
       "ooqj4mQtmqbhvGFUPCs2naPiRLdhtyn43z9Vj/KCZPG1mcUNfOmrF32ucSQyg/cffBB2m74d/yfd\n",
       "L0tMQxQ4bLKJLGxlbQsNHZOiri/LQFx0uMRERLs3MD+M8eUpUZ8+cISj4kR+RITZ8Z8/dxy56bHi\n",
       "azcmlvHlZy/D5fZITEbkKzkqEffnHxO1c/Y6emauS0xEFBhssoks7HzbGNwe/XzTQ/V8+kfWw1Fx\n",
       "ot2LjwnHn/36SSTH6zs42vtn8XffbYGmaRKTEfl6Qn3Yp/6J8xVJSYgCJ2BNtqqqyaqq/p2qqgOq\n",
       "qm6oqjqtquq/q6pad+dPE9GtvN6oj4rHRDpwtCJDYhqi3fNqXlwYahT1gYQc5CbwyAPRTqQnR+NP\n",
       "v3ASUREO8bVzTSN47rVeiamIfOUn5qAms0LUDSMtmFrhVnwKbgFpslVVTQBwGcBvAxgC8FUArQA+\n",
       "BOBtVVX52IJol6bm1tBxfVbUp2tyEB5m9/MJIvPpnR3AzNqcqE/l88cB0W4U5STgjz57FDabfsTi\n",
       "X37WhYvXxiWmIvL1pPqIeK1Bwy/635KYhmj/BepJ9h8CKAbwX51O5xmn0/k7TqfzEQC/AyAKwN8H\n",
       "KAdR0DAuPAOAB+tzJSUhunvGhWfAO1d3EdHu1Knp+OKHK32+9tffasTA2KKkRES+qjLKkB2nT9u9\n",
       "fv08ttxbEhMR7a9ANdlPAVgD8BfGLzqdzr8HMAngiKqqPExKtEOapuH1xmFRpyVF4VBhisRERLvn\n",
       "9XpxcbhJ1CXJBciITZOYiMi6Hr+vCB84VSDqjS0P/vxrlzG/tCEvFNG7FEXBYyVnRL28tYoLw41+\n",
       "PkFkbfveZKuqqgAoANDtdDo3b/GWEQAKAF7uS7RD/aOLGJlaEfWDh3N9RgWJrKBjugeLG0uiPs1R\n",
       "caJ78sWPVKHmYKqoZxbW8eWvN2DLxY3jJN+ZwhOIdOiL+l7qPcclfRS0AvEkWwHwNIDf3f4fqKoa\n",
       "D0AFoAGY2v6fE9GtnWvcNip+mKPiZD3GUXEFCk7mcVSc6F447Db84WeOIis1RnzNeWMeX/k+N46T\n",
       "fNFhUXjgwHFRX58fQt/coLxARPto35tsp9PpdTqdP3Y6nReMX1dV1Q7gfwGIBdDudDp5aR7RDng8\n",
       "XrzZrDfZRTkJyM+Ml5iIaPfcHjcujzSLujytBMnRiRITEQWHuOhw/MnnjiMm0rBxvJEbx8kcHjt4\n",
       "xqd+qfecnCBE+0zKPdmqqhYDOAfgkwA2APymjBxEVtTaO4P5Zf3kxUNceEYW1DbZhdWtNVFzqzjR\n",
       "3snLiMMffMZ34/i/vtiFho4JiamIgLyEbBxKLxX1xeEmn2NDRMEioE22qqphqqr+MYBrAE4DuAHg\n",
       "7Pan3ER0e6836QvPbArwQB2bbLKec4OXxGubYsOJ3DqJaYiCz2E1HV/4kL5xXNOAv/xmI4YnlyWm\n",
       "IoLPAjS3141Xr5+XmIZofzju/Ja9oapqIYDnANQB8AD4CoA/djqdq/f438tDRhQy1jfdPnef1hxM\n",
       "Q3J8pMRERLu3uLGEK6Otoq7NrEB8ZJzERETB6Yn7CnFjYgk/v3QDwDs/Q7787GX85X88g9ioMMnp\n",
       "KFQdzalBSlQSZtfnAQAv972FD5e9D3abXXIyCkJXVVXd0RudTueebhAOyJNsVVVzALyNdxrsFgDH\n",
       "nE7nf7zXBpso1FxuH8fmlr4l9sF63nxH1vPG4CV4vPo/xw8X3ycxDVHwUhQFv/HRapQXJIuvjU6v\n",
       "4q++2QiPl88oSA67zY5HS+4X9ez6PBrHrklMRLT3AvUk+68AZAF4EcBHnU7nnt0+v9O/OqiqWg/g\n",
       "6h3fSGRirxu2ikeE23GyKktiGqLd0zTNZzQwKTIBh7Mq/XyCiO5FmMOGP/rsUfxv/+MNzC6+c2f2\n",
       "1a5JfPOlLnzmgxWS01GoOlt0Gt/v+Kn4g+tLvedwLLdWcioKQkecTqeUC9kDcU92DIAPA5gG8Im9\n",
       "bLCJQsn80gZaevSb7k4cykJURMBOfBDtia7pXowv6/8cP1h4kiOCRPssKT4Sf/yrxxDm0H/t+/6r\n",
       "vXirZVRiKgpliZHxPtc2tk85MbrExXwUPALxG/phABEAZgF86TZz8RqALzudzoUA5CGypDdbRmGc\n",
       "7nvoCBeekfW8sm3BzdmiU5KSEIWW0vwk/PbTNfibb+tX5/3td5uRmx6LwuwEickoVL2/5AzevtEg\n",
       "6levn8dnaj8uMRHR3gnEmeyMd/9dBfCf/PyLF/0S+fF6o75VPDE2ArUH0ySmIdq9lc1VXB5uEnVV\n",
       "RhkyYvnPMVGgnD2Sjw89UCTqzS0P/tuzDVhc2fTzKaL9cTClEHkJ2aJ+Y/ASXB6XxEREe2ffn2Q7\n",
       "nc7nIOk+bqJgMTC2iP6RRVE/UJcDu53/tyJrefPGZbi8blE/XMSFZ0SB9rknDuHG+BJae2cAAFNz\n",
       "a/h//vUq/vyLJ/lzhQJKURQ8XHQaX2/+PgBgeXMFV8fafMbIiayK302JLOCVhiGf+uwRbhUna9m+\n",
       "8CwuIhZHc6olJiIKTXa7DX/wK0eRnhwtvtbWN4N//kmHxFQUqh44cBxhNv2Z36v9vDObggObbCKT\n",
       "c7k9PqPiRTkJKM5NlJiIaPd6ZwcwvDgm6jMFJxBm5z29RDLEx4TjP//aMUSE60sHn3/rOl69MuTn\n",
       "U0R7LzYiBsdz60TdNtmFqZUZiYmI9gabbCKTu9Q+geU1/YzS+47lS0xDdHde5cIzIlMpzE7A732y\n",
       "zudrf/9cK3qG5iUlolD1cLHv0aHXBvg0m6yPTTaRyb18+YZ4Heaw4cxhbhUna1lzrePC0FVRl6UW\n",
       "Izeed7wTyXZfTQ6efvigqF1uL778bAPmlzYkpqJQU5F2EFmx6aJ+feCiuD+byKrYZBOZ2NTcGlp6\n",
       "p0V9qiobsdHhEhMR7d75G1ex6dkSNReeEZnHp99fjiPlGaKeW9rAf//GFbjcbHIoMBRFwdmi06Ke\n",
       "X19E83i7xERE945NNpGJvXplCJrhbuxHj3NUnKzFq3nxs97XRB0dFoUTeYclJiIiI5tNwe9/qh45\n",
       "abHia12Dc/iHH12DZvwBRLSPzhSegF3R25JXrnNknKyNTTaRSXm9Gl4xLKHJSI5GVXGqxEREu9cy\n",
       "3oHRpQlRP1h4EhEOTmMQmUlMVBj+8+eOITpS3/L880s38OLFQWmZKLQkRsbjSE6NqJvH2zG3tiAx\n",
       "EdG9YZNNZFKtvdOYml8X9aPH8mGzKRITEe3e890vi9c2xYbHS89KTENEt5ObHoff/1Q9FMOPmX/8\n",
       "0TVc6+emZwoM41EiTdPw+sAFiWmI7g2bbCKTetlwN7ZNAR4+ylFxspa+2UF0TveK+lRePdJiUiQm\n",
       "IiJ/jlZk4lPvLxO1x6vhv3+9AWMzKxJTUaiozixDWnSyqF8buACv5pWYiOjusckmMqGl1S1cvDYu\n",
       "6jo1HamJURITEe3eC85XfOon1EckJSGinXrm4VKcrskW9fKaC3/+T5ewvLbl51NE986m2PCQYQHa\n",
       "9Oos2iedEhMR3T022UQmdK5pGG6P/tfbR48fkJiGaPemVmdxcaRJ1JXpKoqSOY1BZHaKouD3PlmH\n",
       "krxE8bXR6VX8X9+4ApebTxVpfz1UeBIK9DMLbwxekpiG6O6xySYyGU3T8PJlfVQ8PiYcxyoyJSYi\n",
       "2r2fOl/12Uz8obJHJaYhot2IDHfgTz53HKkJkeJrbX0z+J8/aOXGcdpXKdFJqMrQjyw0jLRg3cV7\n",
       "28l62GQTmUz/yCIGx5dE/VB9HsIc/L8qWcfK5ipeMyysyUvIRk1mhcRERLRbyfGR+C9fOIHIcLv4\n",
       "2ssNQ/jRuT6JqSgUnCk4IV5verZwabjJz7uJzOn/b+++46Mo8z+Af7al95AKKRBggIQSiAm9iVhP\n",
       "PRXbqSe2U7EXPPXuPL37KfZTUc92YvewnJ6ICic91NAhZAIhpJDee7Lt98duZndDEgjZ7MxmP+/X\n",
       "K6/leWYm+w1Pns18Z555Hp65EynMmp0FDmWujU3uZm3eZrQb2qXyb4QFUKk4Mz6RuxkeG4xHb0hz\n",
       "mHF8xY/Z2HawRL6gaNBLHzYJvlrbKAoOGSd3xCSbSEHa9UZs2lMslYX4UCREB8kYEVHf6I16/HR0\n",
       "vVQO9Q3GzPhzZIyIiPojPTkat/wmRSqbzcBLn+3BsSKuYUwDw1vrhalxk6VyduVRVDRxKTlyL0yy\n",
       "iRRk64ESNLcZpDLvYpO72VywC3VttscdLhw1D1qNVsaIiKi/Lps9AhdOS5TKHXoj/vav7SirbpYv\n",
       "KBrU7IeMA7ybTe6HSTaRgvy87YT0b28vDWZNGipbLER9ZTAZ8Z/sn6Syj9Yb5yXNkjEiInIGlUqF\n",
       "O347HpNGR0h1NQ3t+Ms721DTwEmpyPnGRCQh0j9cKm86sYOT7pFbYZJNpBD5JfXIzq+RyrMnDYWf\n",
       "j07GiIj6Zv3xrShvtg3pW5A0C/5efjJGRETOotWo8dhN5yA+OlCqK61uxlPvbkMT19AmJ1Or1Jht\n",
       "dze7vLkKOVWcdI/cB5NsIoVYvfWEQ/mi6cPlCYToLHQYOvBN9mqp7KP1xuVjFsoYERE5W4CvDs/c\n",
       "MQ2RYbaLZydKG/D0+9vR1m7o5UiivpuTmOFQ3pjPIePkPphkEylAc6seG3YXSWUhPhQj40JkjIio\n",
       "b9bkbUJNq20ipItHn4sgn8BejiAidxQe7Iu//WEaQgK9pbqcglr834qd0BuMMkZGg01UQATGRoyU\n",
       "ytuK9qDdwFET5B6YZBMpwLqsIrR12E5OLpqRKF8wRH3Uqm/Df478IpX9vfzwG2GBjBER0UCKHRKA\n",
       "Z+6YBn9f2yNN+3Ir8dJnu2E08blZcp45idOkf7ca2rDr5D4ZoyE6c0yyiWRmNpuxemu+VA7088LM\n",
       "iZzwjNzHj7nr0NjeJJUvH3M+/Lx8ZYyIiAba8Nhg/PW2qfD20kh1Ww+U4s2v9nGCKnKaqXGp8NLY\n",
       "LuZwlnFyF0yyiWR24FgViitsCcrCjHh46TS9HEGkHE3tzfhBXCuVQ3yCcMGoufIFREQuMyYxDE/e\n",
       "nA6tRiXVrd1ZiHe/OwgT72iTE/jpfJE+LFUqHyjPQU0L12gn5WOSTSQz+7vYKhVwgd1apERK933O\n",
       "GrTqbUv4XDHuQnhrvWSMiIhcKVWIxCO/S4Palmdj1ZZ8vL5yL4xGk3yB0aAx126WcbPZjE0FO2SM\n",
       "hujMMMkmklFVXSu2HyqTylPGRCE63F/GiIjOXG1rPX46ul4qR/iFYcGImTJGRERymDExFksWTXKo\n",
       "+3VXEZ7/JIuToVG/pUQKCPO1TQa78cR2PpJAisckm0hGv2wvcBhSd/EMLttF7uObw6vRYdRL5UUp\n",
       "l0Cr0coYERHJZWFGAu6/JtXhjva2g6V45oMdXN6L+kWtVmO23XJeJxvKkFdTIGNERKfHJJtIJnqD\n",
       "Cb9sPyGVo8P9MFmIlC8goj44UVuMtcc3S+XYwCjMSkiXMSIiktuC9Hg8dtM50Gpsp5f7civx53e2\n",
       "oqmFSy/R2ZtjN2Qc4ARopHxMsolksv1QKWob26XyhdOGQ21/C4BIocxmMz7c+2+H4XrXT7gcGjUn\n",
       "7CPydNMnxOKp2zLgYzfreE5BLR5/KxO1DW29HEnUs6FB0RgZliiVMwuzoLcbSUWkNEyyiWTyY6Zt\n",
       "wjMvrRoL0uNljIbozGUWZuFI5TGpPDF6LM4ZOlHGiIhISSaNjsTf7pzusI72idIGPPbmFpRUNvVy\n",
       "JFHP7O9mN3U0Y0/pIRmjIeodk2wiGRSUNuDw8WqpPCt1KIL8OSMzKV+bvg2f7P9GKmvUGixOvRoq\n",
       "FUdhEJHNmIQwLFsyE6GB3lJdaVUzHvrHRuzMLuvlSKLuzYhPg1Ztm/djQ/42GaMh6h2TbCIZ/Gi3\n",
       "bBcAXDSdE56Re/gm+yfUttZL5YtHz0dsULSMERGRUiXGBGHZPTMRGeYn1TW3GfC3D3bgizUi19Km\n",
       "Pgnw9seU2PFSeV/pYdS3NcgYEVHPmGQTuVhLmx4bdhdJ5ZFxIRgdHypjRERnpqSxHKtyf5XKoT7B\n",
       "uHLcRTJGRERKFzskAC/cMxNjEhz/zn3+Sw6eXbETza18rpbOnP2QcaPZhC0Fu2SMhqhnTLKJXGzt\n",
       "zkK0ttvWDb2Yd7HJDZjNZqzYsxJGk+1394aJV8BX5yNjVETkDsKDffHs3TNwwbREh/odh8vw8Gsb\n",
       "UVTeKE9g5HYmxSQjyDtAKnOWcVIqJtlELmQ0mvDfTXlSOcjfC7NSh8oYEdGZ2V1yAPvKsqXymCFJ\n",
       "mJlwjowREZE70Wk1WHLVRNyzaJLDEl8nK5vx8Gsbkbm/RMboyF1o1RrMtFsu8kRdMQrqimWMiKh7\n",
       "TLKJXGjrgVJU1LZK5YtnDIe3jssekbK16tvwrz0rpbJKpcItk6/lZGdE1GfnT03AsiUzEB5sGwXT\n",
       "2m7Eso934dUv9qCJw8fpNOZ2XTM7n3ezSXmYZBO5iNlsxrcbbcse6bRqTnhGbuGzA/9BVUuNVF6Y\n",
       "NBuJocNkjIiI3JmQEIZXH5yD5BHhDvXrsopw74vrsFeskCkycgeJoXFICLaNAtxcuMvhUSYiJWCS\n",
       "TeQih49X41hRnVSenxaHELulTYiU6HBFLtYc2ySVw3xDcN34y2SMiIgGg9BAH/z9zum4bHaSQ31V\n",
       "fRv+8u42vPXNfrS2G2SKjpRuznDb3ez6tgbst3uciUgJmGQTuch/NuQ5lLueWBApTZuhHf/c+YlD\n",
       "3R1p18PPy1emiIhoMNFq1LjtshT8313TERnq+Lny09YTuP/lDTh8vFqm6EjJZiakQ62ypTEbOAEa\n",
       "KQyTbCIXKK5oxM7sMqmcPi4acVGBMkZEdHr/PvgDypurpPLshAxMtlujlIjIGSaMjMAbj8zDwowE\n",
       "h/rS6mY8/tYWvPPtAT6rTQ5CfIIwKXqcVM46eQBNHc0yRkTkiEk2kQt8t9HxLvZv5/IuNilbbtVx\n",
       "rM5dJ5WDfYJwc+oiGSMiosHMz0eHe6+ehKdum4qwINujVGYzsCozH3c9/ys27C6C2WyWMUpSEvsh\n",
       "4waTAVsLd8sYDZEjJtlEA6yusR3rsoqk8si4kFMmeyFSkg6jHm/v/ARm2E5mb5tyLQK8/WWMiog8\n",
       "QdrYKCx/dD5md1nesq6xHS9/vgdPvr0VhWUNMkVHSjIldgL8vfykMtfMJiVhkk00wFZvzYfeYJLK\n",
       "V8wZyaWPSNG+PvwjTjbaHm+YGjcZGcNSZYyIiDxJoJ8XHr0hDX9anH7Ks9oH86pw38sbsGLVYbRx\n",
       "YjSP5qXRYUZcmlQ+Wp2PkoayXo4gch0m2UQDqK3DgB8z86VyZKgvpk+IkTEiot4dqTyK73PWSOVA\n",
       "L3/cMvkaGSMiIk+VkRKDNx+dj0XnjoJWY7s4bTSZ8c36Y7jrhXXI3F/CIeQezH7IOMAJ0Eg5mGQT\n",
       "DaD1WUVoaO6QypfOToJGw25HytTc0YI3tq9wOGFdPPlqhPgEyRgVEXkyH28tbrpoHF5/eB4mjBzi\n",
       "sK2qrhXLPt6FP7+zFUXljTJFSHIaGZaI2MAoqbz5xE6YTKZejiByDZ7tEw0Qk8nsMOGZv48W56XH\n",
       "yxgRUe8+2P0lqlpqpPL0+DTMiD9HxoiIiCziogLx9zun45HfTUFooLfDtv1Hq3DvS+vxwX8PoaWN\n",
       "s5B7EpVKhTmJtrvZ1a21OFQhyhgRkQWTbKIBsjO7DCVVtuUkLpiWCD8fnYwREfVs84md2FK4SyoP\n",
       "8QvD7VOu4/wBRKQYKpUKcyYPw9uPnYtLZ4+AWu04hPy7jXmchdwDzU7MgAq23wVOgEZKwCSbaACY\n",
       "zWb8Z8MxqaxRq/CbWSNkjIioZxVNVXh/zxdSWQUV7sm42WHWViIipfD31eH2y8bj9YfmIiXJcbWO\n",
       "mgbLLOR/fHML8kvqZYqQXCncLxQpUYJU3lm8D636NhkjImKSTTQgDuZVITvfNux2dupQhAf79nIE\n",
       "kTyMJiPe2LHC4YTk8rHnY1zkKBmjIiI6vYSYIDx71wwsvSEN4cE+Dtuy82vwwCsb8M63B9DU0tHD\n",
       "d6DBwn7IeLuxA9uL9sgYDRGTbKIB8cUax+eBrpzHhIWU6T9HfoFYZZs7ICk0AYtSLpExIiKiM6dS\n",
       "qTArdSjefuxcXDlvpMMs5CYzsCozH39Y9ivW7CiAycQh5INV+rBJ8NHantXnkHGSG5NsIic7eKwK\n",
       "h/KqpfKMibFIiOHszKQ8RyqP4qvDq6Syt8YL9027BVq1RsaoiIj6ztdbi5svScYbj8xD6ugIh20N\n",
       "zR14Y+U+PPrGJuQW1soUIQ0kH603psZNlsrZlUdR0VQlY0Tk6ZhkEzlZ17vY154n9LAnkXzq2xrw\n",
       "j20fOEwOdHPqIsQERsoYFRFR/wyLDMTTd0zDEzenIzLU8TGt3MI6PPL6Jvzz2wOchXwQmpvINbNJ\n",
       "OZhkEznRwbwqHMyzXTmdMSEWibyLTQpjMpuwfMcK1LbaJgWaHp+G+SNmyBgVEZFzqFQqTBsfgzeX\n",
       "zsd1CwXotLbTXbMZ+DEzH/e8tB57cipkjJKcbUzESET62ybC25C/jWtmk2yYZBM50Zdd72Iv5F1s\n",
       "Up7vjvyC/WVHpHJMQCTuSLuey3UR0aDi46XF9eePwVtL5yMjOdphW2VtK556bxte/WIPGjkx2qCg\n",
       "VqkdLhZXtdTgQHmOjBGRJ2OSTeQkh/KqcOCY7S729AkxvItNipNdcRT/PvSDVNaptXhw+m3w03H2\n",
       "eyIanKLD/fGnWzLw5OJ0hAV5O2xbl1WEu19Yh8wDJTJFR840N3GawwXjdcczZYyGPBmTbCIn4bPY\n",
       "pHT1bQ14bXvX57CvRmJonIxRERG5xtSUGLy59FycPzXBob6usR3LPtqF5z7aifqmdpmiI2cI8wtB\n",
       "akyKVN5Vsh/1bQ0yRkSeikk2kRMcPl7tcBd72vgYDI8NljEiIkcmU/fPYS9ImiljVERErhXgq8M9\n",
       "iybh73dOR3S4n8O2rQdKce9L67E7p1ym6MgZzrUbMm40GbHpxE4ZoyFPxSSbyAm6Pot9HZ/FJoX5\n",
       "6vCPfA6biMhq4qgIvPHwPFw+Jwlqu4/B2sZ2/PW97Xjn2wNo1xvlC5DOWmpMCkJ8bI/rrTue6TCC\n",
       "i8gVmGQT9VN2fjX2Ha2UylNTonkXmxRld8lBfJO9WirrNDo+h01EHs/HW4tbL03B8/fOQuwQf4dt\n",
       "qzLz8eCrG5BXXCdTdHS2tGoN5g6fJpVPNpZBrDouY0TkiZhkE/UTn8UmJStrqsTy7R861N0+5To+\n",
       "h01EZDUmIQyvPTQXF0xLdKgvKm/CI69vwtfrjsJo4p1QdzJv+HSHMidAI1djkk3UD0fya7Av13YX\n",
       "OyM5GknDQmSMiMim3dCBlzPfRbO+VapbkDTL4Qo/ERFZ7movuWoi/rQ4HUH+XlK9wWjGRz9m4y/v\n",
       "bEVNQ5uMEVJfxARGIjlytFTeVrQbLR2tvRxB5FxMsonOktlsxoofDzvU8VlsUgqz2Yz3dn+Ogrpi\n",
       "qS4pLAGLUxfJGBURkbJlpMRg+SPzkDY2yqH+wLEq3P/yBuzLrZApMuqr+cNtE6C1GzuQWZglYzTk\n",
       "aZhkE52lrQdLkZ1fI5WnpvAuNinH2rzN2HRih1QO9PLHw9PvgE6jkzEqIiLlCw3ywV9uzcBdV06A\n",
       "l04j1dc1teMv727DZz/ncPi4G8gYNgn+dnOPcMg4uRKTbKKzoDcYsWKV7S62Rq3C7y8eJ2NERDZi\n",
       "VR4+3LtSKqtUKtw/7VYM8Q+TMSoiIvehUqlw0fTheOWB2YiLCpTqzWbgy7Uih4+7AS+tF2YlZEjl\n",
       "vNoCnKgtkjEi8iRMsonOwo+Z+SirbpHKF80YjmGRgb0cQeQaNS11eDnzXRhNtqVnrkn5DSZEj5Ux\n",
       "KiIi95QQHYRX7p+Nc89xnCySw8fdw3y7NbMByygvIldgkk3UR/VN7Q7rYvv76jijOClCh1GPlzLf\n",
       "QV1bg1R3ztCJuHzs+TJGRUTk3ny8tXjg2sm4/5rUboePf7FGhInDxxUpMXQYksISpPKmEzvQ3NHS\n",
       "yxFEzsEkm6iPvlwrornNIJWvPW+0w0ykRHIwm814P+sLHKs5IdUNC4rBPRk3Q63iRz0RUX8tSI/v\n",
       "dvj457/k4JkPtqOxpUPG6KgnF4ycK/273diB9flb5QuGPAbPvIj6oKi8Eau3npDKMeH+uHjGcPkC\n",
       "IrL65dhGbDixTSr763yxdOad8NX5yBgVEdHg0tPw8d05FXjg1Y04VlwnU2TUk+nxUxDsbbsw8svR\n",
       "jTCZTDJGRJ6ASTZRH6xYle0wJOzmS8ZBp9X0cgTRwDtckYsVe7+Syp0TnUUHRsoYFRHR4NQ5fPze\n",
       "qydBp7WdSlfUtGDpG5uxZkeBjNFRVzqNDguSZknl8uYq7Ck9JGNE5AmYZBOdof25ldiZXSaVk0eE\n",
       "Y9r4GBkjIgIqmqrwytb3YDLbrspfP/5yTIpJljEqIqLBb2FGAl64ZxYiw/ykOr3BhDdW7sPr/96L\n",
       "dr2xl6PJlc4bOQsau0enfjq6XsZoyBMwySY6A0aTGR/84HjV89ZLk6FSqWSKiAho0bfi+c1vobG9\n",
       "SaqbHp+GS8ecJ2NURESeY2RcCP7x4BykjY1yqF+7sxCPLd+MsupmmSIje2G+IciImyyVD5bnoLi+\n",
       "VMaIaLBjkk10BtbtKkR+iW3G5nlThmFUXKiMEZGnM5qMeG3bByhqsJ0kJIYMw13n3MiLP0RELhTo\n",
       "54U/35KB688fA/uP37ziejz46kZkHSmXLziSXDRqnkP556Mb5AmEPAKTbKLTaGnT45OfjkhlL50G\n",
       "N144TsaIiIBP9n2DvaWHpXKITxAem3U3vLWc6Z6IyNXUahWuWyjgqdumItBPJ9U3terx9Pvb8dnP\n",
       "OTBymS9ZjQofjqRQ23JeG09s53JeNGCYZBOdxoofs1Hb2C6VfzsnCRGhvjJGRE0zFWsAACAASURB\n",
       "VJ5u7bHNWG33PJlOo8PSmXch3I+jK4iI5DRlTBRefXAuRg4Ldqj/cq2IZ97fjoZmLvMlF5VKhQtH\n",
       "2+5mczkvGkhMsol6cfBYFX6yW7IrPNgHV8wbKV9A5PEOlefgX3u+dKhbkv57jAxPlCcgIiJyEBXm\n",
       "h+fvmYXzpyY41O8RK/DAqxuQW1grU2Q0LW6yw3JePx/dwOW8aEAwySbqQVu7Aa+v3OtQt+SqifDz\n",
       "0fVwBNHAKm4oxctb34PRbibxRckXY3r8FBmjIiKirrx0GtyzaBLuvyYVXnbLfFXWtuKx5Vvw07YT\n",
       "MJs5fNzVui7nVdFcjT2lB2WMiAYrJtlEPfj05xyUVdue1Zk3ZRjOGRctY0TkyWpb6/HcxuUOz49N\n",
       "j0/DVckXyxgVERH1ZkF6PF68bzai7Jb5MhhNeOvr/Xjps91oadPLGJ1n6rqc1/c5a3nBg5yOSTZR\n",
       "N3IKavDfzXlSOSTAG7ddNl7GiMiTterbsGzTm6hsqZHqRoUl4m7OJE5EpHgjhgZ3u8zXpr0n8dA/\n",
       "NiK/pF6myDxTmG8IpsWnSWWxKg+HK0QZI6LBiEk2URcdeiNe//de2F/UvPPKCQjy56zN5HoGkxGv\n",
       "bH0X+XVFUl10QAQem3U3vDiTOBGRWwiwLvN144Vjoba7NnqyshmPvLYJv2wv4N1UF7pi7AVQwdYQ\n",
       "Xx9eLWM0NBgxySbq4su1IorKm6TyjAmxmDEhVsaIyFOZzWa8s+tT7C+zLSEX5B2AJ+bciyCfwF6O\n",
       "JCIipVGrVbh6wWj8/a4ZCAvyluo7DCYs/2ofXvliD1rbDTJG6DmGBcdgatxkqZxdeRTZFbkyRkSD\n",
       "DZNsIjt5xXX4Zv0xqRzop8MfruAwcZLHykOrsPHEdqnsrfHCH2ctQXRAhIxRERFRf4xPGoLXHpqH\n",
       "SaMdP8s37C7m8HEXunLchQ7lb7J5N5uch0k2kZXBaMJr/94Lk8k2XOv2y8cjNNBHxqjIU/2Uu97h\n",
       "D75KpcID02/jUl1ERINASKA3/nr7NPzugjGwn1qjuKIJD/1jE77flOdwPkLOFx8yFOnDJknlg+Ui\n",
       "cirzejmC6MwxySay+urXo8gvaZDKaWOjMHfyMBkjIk+17vhWfLh3pUPd7VOuw5RYjqogIhosNGoV\n",
       "rj1PwN/+MB0hgbbh4wajCe9/fwhPvbcN1fWtMkY4+F017iKHMu9mk7MwySYCsFeswJdrcqSyn48W\n",
       "S66ayJmbyeUyC3fhnV2fOtRdlXyRw7qeREQ0eEwcFYHXH5qL1C7Dx/flVuLelzZg28FSmSIb/BJD\n",
       "45A2dKJU3l+WjaPV+TJGRIMFk2zyeOU1LXjx0yzYj8q65TcpGBLiK19Q5JGyTu7H8u0rYIbtl/Hi\n",
       "0ediUfIlMkZFREQDLTTIB3+9fRpuvywFOq3t9LyxpQPPrtiJ5V/tQxsnRRsQV3V9NpszjZMTMMkm\n",
       "j9auN+LZFTvR2KKX6uZNGYaFGfEyRkWe6EDZEbyy9X0YzSapbsGImbhp0pUcUUFE5AHUahUunZ2E\n",
       "Vx6Yg4RoxxUkftlegPtf2YDDx6tlim7wGhGWgMkxKVJ5T+khHK8pkDEiGgyYZJPHMpvNeOvr/Th+\n",
       "0jaL54ihwViyaBKTGnKpQ+UiXtzyTxhMtrsUMxPScduU6/i7SETkYRJjgvDKA3Nw6awRDvUlVc34\n",
       "45tb8M9vD6ClTd/D0XQ2rkx2fDb7i4Pfc91y6hcm2eSxfszMx7qsIqkc6OeFJ25Oh7dOI2NU5Gn2\n",
       "lBzCc5vfRLuxQ6o7Z+hELEm/CWo1P6KJiDyRl06D2y8fj7/ePtVhUjTAcv5yz0vrsSenQqboBp9R\n",
       "4cMxMXqcVN5fdgS7Tu6XMSJydzyDI490+Hg13v/+kFRWq4ClN05BVJifjFGRp9letAcvZv4TeqPt\n",
       "jsTE6HF4YNqt0Kh5sYeIyNNNGROF5Y/Mw5xUx9VOKmtb8dR72/DqF3vQ2NLRw9HUFzdM/K3D6LGP\n",
       "9n6FDgP/b+nsMMkmj1Nd34plH++C0W6ms5suGodJoyNljIo8zcb87Xh12/swmoxS3ZTY8Xh05p3Q\n",
       "aXQyRkZEREoSHOCNR26Ygj/fkoHwYB+HbeuyirDkhXXYvPckhzf3U0LIMJw/co5UrmypwXc5a2SM\n",
       "iNwZk2zyKHqDEcs+2oW6xnapbsbEWFwxb6SMUZGnWXNsI97c+ZHDCdH0uCl4eMYf4MUEm4iIupGe\n",
       "HI03H52P86cmONTXNrbjhU+z8OTbW3GitEGm6AaHa1J+gyDvAKn8/ZFfUNFUJWNE5K6YZJPH0BtM\n",
       "eP7jLOQU1Ep1cVGBuP+aVE4uRS5hNpux8tAPeH/3lw71c4dPw31Tb4GWQ8SJiKgX/r463LNoEv5+\n",
       "5/RTHnE7mFeF+19ej3e+PYAmDiE/K/5efrh+wm+lst5kwEf7vpYxInJXTLLJI+gNJrzwyS7sOFwm\n",
       "1fn5aPHk4nT4emtljIw8RYehA69t+wBfd1l/84JRc3HnOTdwkjMiIjpjE0dFYPkj83D5nCRo1LYb\n",
       "BSYzsCozH39Y9it+2X7C4dE4OjNzh0/FyLBEqbzr5H7sKz0sX0DklnhWR4OewWjCi59mYfshW4Kt\n",
       "06rxx5vOwdCIgF6OJHKOurYGPL3hH9hatNuh/vKx52Nx6tVQq/hRTEREfePjrcWtl6bgjUfmYdLo\n",
       "CIdtDc0dWP7Vfjz82kbsFSv4vHYfqFVq3DL5Gqhgu3jx4Z6VDpOUEp0Oz+xoUDMYTXjhkyxsO1gq\n",
       "1em0avxpcQZSBU50RgOvsO4knlj7PI5W50t1GpUad6T9DtdPuJyPKhARUb/ERQXimTum4Ymb0xHZ\n",
       "ZQh5XnE9/vLuNjzxdiay86tlitD9jAxPxLwR06VyaVMFfhD/J2NE5G6YZNOg1VOC/eTidEwewwSb\n",
       "Bt72oj34868voaqlRqrz1/niyTn3YkHSTBkjIyKiwUSlUmHa+Bi8tXQ+fnfBGHjpHOf4OJRXjceW\n",
       "b8HT729HXnGdTFG6l+vHXwZ/na9U/urQKuRWHZcxInInTLJpUOocIm6fYGs1lgR7ypgoGSMjT9Bh\n",
       "6MC7WZ/jla3vodXQJtVHBUTg/xYsRUrUGBmjIyKiwcpbp8G15wl4e+l8zJ0yDF0HS2UdKccDr27E\n",
       "so93obCMM5H3Jsgn0GESNKPZhH9s+wBN7c0yRkXugkk2DTqt7QY8//EubD3ABJtcr6i+BI//73n8\n",
       "L2+zQ/3YiFF4dsFSxAZFyxQZERF5isgwPzx8/RS88fA8TBsfc8r2zP0lWPLiejzzwXYcyqviM9s9\n",
       "WJA0E+lDJ0nlqpYavLXzY/5/0WlxWmUaVArLGvDcR7tQXNEk1XUm2GljmWDTwDGbzVh3PBMf7l2J\n",
       "ji6To1wy+lxcP+FyaDX8yCUiItdJiAnCEzenI7ewFp/+dAR7cysdtu/KLseu7HKMigvBFfNGYtr4\n",
       "WIfZyj2dSqXCXek3In9NESqbLc+0Z5UcwI+563CJcK7M0ZGS8YyPBo2Ne4qx/Kt9aOswSnVajQpP\n",
       "3HwOE2waUBXN1fhg95fYW3rIoT7QOwBL0n+PybEpMkVGREQEjI4PxTN/mI6DeVX4ZPURHDlR47D9\n",
       "aFEdnv84C1Fhfrh8ThLmp8XBz0cnU7TK4u/lhwen3YY/r3sJRpPlHPOz/d9CGDICo8KHyxwdKZXK\n",
       "U4Y7CIIwBUAWAHzzzTdISeFJ72ChN5jwr/8ewqrMfIf60EBvLL0xDSlJQ2SKjAY7g8mI1bm/YuWh\n",
       "VafcvU6OHI17py5GmG+ITNERERGdymw2Izu/Bt+uP4ad2WXd7uPjpcGsSUOxcGoChPhQroQBYHXu\n",
       "OqzY+5VUjvALw/MLn0CAt7+MUVFXhw4dwpVXXtlZTBNFcXdv+w8U3skmt1ZR24IXPs6CWFjrUJ88\n",
       "IhyP3ZiG0CAfmSKjwe5odT7e3fUZCupPOtSrVWosSr4Yvx17AdRqTntBRETKolKpkDwiHMkjwlFU\n",
       "3ojvNuZhXVYRDEaTtE9bhxFrdxZi7c5CJEQHYmFGAuZOiUOQv5eMkcvrwlHzkF1xFDtP7gMAVLbU\n",
       "4NVt7+GxmXfDS+u5/y/UPd7JJrdkNpuxae9JvPOfg2hs6XDYduW8kbjxwrHQaJjgkPNVNFVh5eFV\n",
       "2HxiJ8xw/PwcGZaIO9KuR2JonEzRERER9V1tQxtWZeZjdWY+mlr13e6j06qRkRyN2alDMXlMFLy7\n",
       "LBPmCZo6mvHYmuek57MBYGL0ODw68054aTi8Xgl4J5voLOUW1uL97w+d8jyRv48WD1w3GVNTTp1F\n",
       "k6i/alvr8U32avx6PFN6JquTr9YH1024DAuTZvPuNRERuZ3QIB/ceOFYLDp3FLYeKMGaHYU4fLza\n",
       "YR+9wYQt+0uwZX8JfL01yEiOwcyJsUgVIk9Zl3uwCvDyx0PTb8df17+KdkM7AGB/WTZe2vJPPMJE\n",
       "m+wwySa3UdPQho9+zMa6rKJTtg2PDcLjv09HzBA+F0POVdfWgFXir/j56PpTnrsGgIxhqVicejXC\n",
       "/PjsNRERuTcfLy3mp8Vjflo8isobsWZHAdZlFaGh2XHUYGu7ERv2FGPDnmL4+WiRnhyNqSkxmDQq\n",
       "Av6+gzvRTApLwOOz7sZzm95Eu9Hy/7KvLBsvZ76DR2b8ATom2gQOFyc30KE34ruNefjq11yHmcMB\n",
       "y+zhl8wcgRsuHOuRw5Zo4OTXFmF17jpkFmbBYDKcsn1EaDyum3AZJkaPkyE6IiIi19AbTNhxuBT/\n",
       "21mIfbmVMJp6zh3UahXGJoZhyphITBkTheGxQYN20rTDFblYZpdoA0BqTAoemXEHE20ZKWW4OJNs\n",
       "Uqz6pnas2VGA1Zn5qKpvO2V7+rho3HppMmIjAmSIjgYjo8mI3SUH8WPuOhypPNrtPkMDo3HN+N8g\n",
       "Y1jqoD1xICIi6k5jSwd2HCrF5v0l2H+ahBuwrPSSKkRifNIQJI8IR3S436D623moXMSyzW86jHQb\n",
       "GzEK901djHC/UBkj81xMsl2MSbb7yC2sxaotx7F5X4nDTJed4qICcftlKUgVImWIjgYbs9mM47WF\n",
       "2HxiBzILs1Df3tjtfhF+YViUcglmJ2TwuWsiIvJ4Dc0d2H6oFFv2ncSBY1WnTbgBICzIR5rZPHlE\n",
       "OOKjAqFWu3fSfag8B8s2v+WQaPt7+eGuc25E+rBJMkbmmTwuyRYEwQ/A4wCuAxALoAjApwCeE0Xx\n",
       "1LGYzn9/JtkK1tZuwNaDJVi1JR9Hi+q63SfQT4ffnT8GF0xL5Mzh1C9msxknG8uwo2gvNhfsRElj\n",
       "eY/7CkOScPHo+Thn6ERo1HwkgYiIqKuWNj32H63E7pwK7D5S3u0IxO74+WgxcliI7SsuxC3vdh8s\n",
       "z8ELm992GDoOAAuSZuH3k66CN5f4chmlJNkumfhMEAQtgG8BLASwHcBPAFIBPA0gA8AlroiDlKWm\n",
       "oQ27ssuw43AZ9udWosNw6l1rAAgP9sEF0xJx8YzhCPTjhxSdHb1Rj+zKo9hdchB7Sg6iorm6x301\n",
       "ag2mx03BRaPnIykswYVREhERuR8/Hx2mjY/FtPGxMJvNKCxvxO4jFdgjluNIfk2P53gtbQYcOFaF\n",
       "A8eqpDp/Xx1GDgtGYkwwEqIDkRAThLioQPh6K3e+5vFRY/Dcwj/itW3/QkFdsVT/v7zNyKk8hrvS\n",
       "b8So8OEyRkiu5pI72YIg3AzgXwA+FEXxVrv6DwAsBnCjKIqfDXAMvJMtM5PJjIKyBuzKLsfOw2UQ\n",
       "C2t73X980hBcPHM4MpKjoeWda+ojg9GAvNoCHKk8huyKXBypypOW2+jJ8NA4zErIwMz4NIT4Brso\n",
       "UiIiosFLbzDiWFE9DudX4/DxamTnV6Olre+DWCPD/BAfFYiE6EDEDAlA7BB/xEb4IzTQRzFDzjuM\n",
       "enx+4Duszl13yrZJ0eNwVfLFGD1khAyReQ6PupMNYAkAA4A/dqlfBkuSfTuAAU2yyfWaWvXILahF\n",
       "TkENck7UQCysPe2Hqo+XBvPS4nDx9OFIiAlyUaTk7sxmM6pbanG8thB5NQU4Wp2P3Orj3S651VWE\n",
       "XxhmJqRjVkI6hgVzjXUiIiJn0mk1GDs8DGOHh+Gq+aNgNJlRUNqA7PxqHC2qw7HiOhSXN+J0j3RX\n",
       "1LSgoqYFWUccH/Hy0mkQO8QfMUP8ERXmh4hQX0SE+CEy1BcRoX4I9NO5bPi5l0aHm1MXYULUWLy1\n",
       "8yM0tDdJ2/aVZWNfWTYmRI3FVckXYUzESJfERPIY8DvZgiAEAqgFkCWK4tRutpcCCAUQMJDPZvNO\n",
       "9sAxmswor2lGUVkjCssbUVTeiLyT9Sgqb8SZ/Hr5+WgxZUwUMpKjkTY2atCvr0j906ZvQ3FDGYob\n",
       "SlHcUIqCupM4XluIRrs/ZKczMiwRk2PHY3JMCoaHxrnds19ERESDSWu7AcdP1iOvuA5Hi+uQV1yP\n",
       "ksqmM5pM7XR8vDQYEuKLsCAfhAX5IDTIB2FB3ggNtJRDAr0R6OeFQD+dU+f8qWutx7u7v0DWyf3d\n",
       "bk8IHoqMuFSkD52EuOBYnos4iSfdyZ4AQA0gu4ftRwDMBZAI4JgL4qGz0NZuQGVdKypqW1BR24rK\n",
       "2haU17SgqLwRxRVN0PfwrE1PIkJ9kTEuGhkp0UgeMQQ6LYeDk4XZbEZjRzOqmmtQ0VyFsqZKVDRV\n",
       "oby5CqWNFahqqenz9wz1Dca4iFEYHzUWk2OSORSciIhIQXy9tdKM4530BhNKqppQWNqIgvIGFJY1\n",
       "oqC0AWU1LTD1Iflu6zCiuKIJxRWnvxjv56O1JNz+Xgjy80KAnw5B1nKg9KpDoJ8XfL218PPRwtdb\n",
       "Cx8v7SlD1kN8g7F05p04Vn0C32Svxu6Sgw7bC+pPoqD+JFYeWoWYgEikD5uE5EgBI8LiEeTN5Wnd\n",
       "nSuS7M7e0tP0vZ1TSYe5IBay0huMaGrVo9n61diiR31TO+oa21HXZPmqt/67qq4NjS0dp/+mvYgO\n",
       "98OYhDCMSQjFuBHhSIwJ4hU7D2E2m9Fu7EBTezOaOprR2NGMxvZmNHU0obHdUq5va0BNaz1qWmpR\n",
       "01oHval/g1piAiIhDEnC2IiRGBc5CpH+Q/j7RkRE5EZ0WjUSooOQEB2EWRgq1RuMJlTUtKCkqhkl\n",
       "VU0orWxGSXUzSiubUVnX2u3yr2eqpc2AljYDymta+nScSgX4eNmSbturDr7eWoR4z8Qsv3HI02eh\n",
       "RJ93yvGlTRX4PmcNvs9ZAwAI8wnF8NA4JIUlYGhwFIb4hWGIXxiCfQKhVvHGlDtwRZLd+WBtTzMO\n",
       "NbswlgFV39SOmgbLkgUmkxlmADADJuuYaZPZDJgBc3d1MMNssryazJDqjEYz9EYTjEYTDEYTDEaz\n",
       "9dUEg8Hyb6PRZN3HUu4wmNDWYUB7hxHtHUa0dRjQ1mFEe4cBzW0GtLTqe5zl0RmCA7wQFxUIIT4U\n",
       "QkIYxiSGIjTQZ8DejywMRgOO1xbCYJegdr3O6/h4iONWMwCjyQST2QiDyQij2QijyQSj/b+t2/RG\n",
       "PdqNHegwdKDN+tpu7ECHsQPtBuuXsQPN+hY0tTf3O2nuiUqlQnRABIaHxGFEWAJGhMZjRGg8/Lx8\n",
       "B+T9iIiISF5ajRqxEQGIjQgAEOWwzWQyo66pHZXSyMtWVNa1oKquFbUN7ahpbENtQxsMRuc+Lms2\n",
       "W4a8t7af7nxnFFS+0dAMOQlNaDnUPq3d7lXTVoua0lrsLj3Q5Y1UUBv9oDV5Qwvrl8obOpU3dCod\n",
       "tGottGoddGodvNQ6DPGKRaAuGFqNGjqtGlqNGhqNCiqVCmqVCho1oFbbymp15yukssr6qlGpoLKr\n",
       "79y38x6GCipA+jekmxv29zhUKhVUsKwcFDDIVwxyRWLbOfNQT2e9nf/Dfbtk1HdSlpeXd+oVpP7a\n",
       "uLcY/92Yd9pJGwYLtQoICvBGZKgvosL8EB1umWwiKtwfAdIz1WYA1ThZUI2TcgbrAdr07Xhjx4eo\n",
       "bu19xnZ35aP1QbhvCMJ8QxAZMARR/kMQ6T8EQ/xDoVVbP8YMACr1OF7p/P5NRERE7iVUC4RGAKMj\n",
       "1AD8rV+WGw4tbQY0NHegobkDTa16tLTq0dymR0ub3nJDqs2A5jbLaM/WNj1a243OC6wOQGkAAH+o\n",
       "fFqgDqqGJqgGKp8zTYXqz/itzGbAkJ8CU4uyJhNWq1W4ZsFopCdHO/17d8nzZLvL54oku9L6GtrD\n",
       "9nBYsrGSs/nmgiD0Oa1dunTp2bwVERERERGRG8mSO4BuPb/JJW+zRRCEM9pRFEWnPlfoikH9nROe\n",
       "9TSd90gAVaIoVrggFiIiIiIiIqIBM+BLeAGAIAiHASQBiBVFscaufjSAHACfi6J4wwDHEAGgM5Gf\n",
       "CaBtIN+PFKfzMl6arFGQXNj+nott79nY/p6N7e+52PaeywfAFuu/I0VRrOxt54HiqiT7XgCvAXhb\n",
       "FMUl1jotgG8BXAxgpiiK21wQhxlw/nAAUj62vWdj+3sutr1nY/t7Nra/52LbezYltL+rZvR+C8A1\n",
       "AO4SBGE8gAOwrI09DsAbrkiwiYiIiIiIiAaaSxZaE0XRCOA8AK8ASARwi3XTvaIo3u+KGIiIiIiI\n",
       "iIgGmsvWphZFsRXAI9YvIiIiIiIiokHHJXeyiYiIiIiIiDwBk2wiIiIiIiIiJ2GSTUREREREROQk\n",
       "TLKJiIiIiIiInIRJNhEREREREZGTMMkmIiIiIiIichKV2WyWOwYiIiIiIiKiQYF3somIiIiIiIic\n",
       "hEk2ERERERERkZMwySYiIiIiIiJyEibZRERERERERE7CJJuIiIiIiIjISZhkExERERERETkJk2wi\n",
       "IiIiIiIiJ2GSTUREREREROQkTLKJiIiIiIiInIRJNhEREREREZGTMMkmIiIiIiIichIm2URERERE\n",
       "REROwiSbiIiIiIiIyEm0cgfQF4Ig+AF4HMB1AGIBFAH4FMBzoigazuD4mwDcC2AcADOAHAD/AvC2\n",
       "KIpmu/18APy9l2/1miiKRWf7c9DZ6W/7d/leXgD2ABgniuIpF5sEQYgH8H8AzgUQCCAbwKuiKH7Z\n",
       "rx+Czoqr2p59X5n60/6CIAwF8GAPm80AnhZFscluf/Z9BXFV27PvK5MTzvsCAPwRwNUA4gDUAPgZ\n",
       "wOOiKFZ02Zd9X0Fc1fbs+8rkzPO+M3ivAen7bpNkC4KgBfAtgIUAtgP4CUAqgKcBZAC45DTH/xHA\n",
       "swDKAXwByx/YSwEst36f2+12HwngoR6+lRnASlgam1ykv+3fjSdhu9jS9b1iAWyBpVP/AOAkgPMB\n",
       "fC4IQpwoii+e5Y9BZ8GVbQ/2fcVxQvunovc2fRFAZ6LFvq8grmx7sO8rjhPO+7wBrAYwE8BGAGsB\n",
       "TAWwGMAkQRDSOm+wsO8riyvbHuz7itOf9hcEYQWAm87gbRJFUSwcyL7vNkk2gBtg+c/+UBTFWzsr\n",
       "BUH4AMBiQRB+J4riZ90dKAhCCIC/AsgDcI4oinXW+scAZAG4VRCEZaIo5lkPSbK+pouimDUgPw31\n",
       "1Vm3f1eCIKTAcnWsJ88CGAbg96IofmI9xhfADgB/FwTha1EU88/y56C+c2Xbs+8rT3/bv7NNI0VR\n",
       "rDrNe7HvK4sr2559X3n62/4PwpJkPS6K4vPWY1UAPgFwPYArAXxt3Zd9X1lc2fbs+8rTn/ZfDaCi\n",
       "h20+AO6G5aJJtbVuwPq+Oz2TvQSAAZahH/aWWV9vR88uAOAF4P3OBBsARFGsAdDZSKl2+3d2uGNn\n",
       "HS05W3/aXyIIggbAB7BccMnpZnsILB/ABzs7GwCIotgK4A0AOgC/72vw1C8uaXsr9n3l6W/7JwFo\n",
       "OF2Sxb6vSC5pe7t9AfZ9JTnr9hcEQQ3gPgAHOpMsALDevXwWQD2ASdZ92feVxyVtb8W+rzxn3f6i\n",
       "KK4URXFpd1+w3FzWA7hCFMXmge77bpFkC4IQCEsSvEcUxUr7baIoHoVlCPhU6/CC7gQCOAHgUDfb\n",
       "TNbXFru6EQBq7RNyko8T2t/e/QDSYOmgHd1snw5LJ/ypm22brK+zzzB06icXtz3Avq8oTmr/EbBc\n",
       "WDkd9n0FcXHbd+7Lvq8QTmj/CQCiAfy76wZRFLNFUQwVRfFP1ir2fQVxcdsD7PuK4uTzPvvvezmA\n",
       "OwE8JYriXmv1gPZ9dxkuPgGWCwLZPWw/AmAugER0cyVKFMX3ALzXtV4QhCAA18LyTNYOu01JAPIE\n",
       "QRBgGfcfDqAAwHeiKJaf7Q9BZ61f7d9JEIQRAP4G4D1RFLdYmvcUnSMaunuvXFiezxl9JkGTU7iy\n",
       "7QH2faVxRvsnATgkCEIagAWwXHTNhaVN6+32Y99XFle2fee+7PvK0d/2n2p93ScIQiSAK2CZ/KoC\n",
       "ljYtsNuXfV9ZXNn2APu+0jjlvM+eNXFfDuAAgJfsNg1o33eLO9mw/MIDlqsX3em8+hR2Jt9MEIRX\n",
       "rOP6cwAMBXCnKIrVdruMADAKljvfL8IyXOFtAMcFQVjcx9ip/5zV/u8BqAWw9GzeyzrUqP4M3oec\n",
       "x5VtD7DvK02/2t/6DF4igHkAdsIyVPBxAB/C0qYXncl7se/LwpVtD7DvK01/P/uHWV9TYTlZfguW\n",
       "9n8VwFFBEB4+k/di35eFK9seYN9XGqfmfFZPwTKx2X2iKJrs6ge077tLkh1kfW3vYXuz9fVM78w/\n",
       "AOBmWIaTmGF7HqPzWY4EABoAdwEIhaURFgNoA/C+IAjn9yF26r9+t78gCLfBcrJ1ryiKDf18L3cZ\n",
       "ATIYuKzt2fcVqb/tPxSANyzPYF0NIACWP7QPA/AF8I0gCOP78F7s+67jsrZn31ek/rZ/qPX1bwC+\n",
       "geU8zxvAHACFAF60Dh890/di33cdl7U9+74iOTXnEwRhGIB7AKwTRXFTl80D2vfd5UNDb3317WG7\n",
       "l/W1pYftDkRRVAuCMASW4QavAHhaEIRiURQ/hOXCwzUAjomieNjusI8EQWiApcM+CeCXvv0I1A/9\n",
       "an9BEGJguTr5nSiK/3HCe53R7xk5hSvbnn1fefr72d8A4HJYJjXJt9v3CU0suwAABW1JREFUVesj\n",
       "Ay8DeBSW5T7Y95XFlW3Pvq88/W3/zu2b7WcnBrBZEIQlsDyDeTeA787wvdj3XceVbc++rzxOzflg\n",
       "GcXgBeC5s3yvs+777pJkdz74HtrD9nBY7kiXnOk3tM42+rUgCDUA/gfL7HEfipYFzr/v4bDvYZkw\n",
       "KbWH7TQw+tv+rwNQwXIl66zfy3rFMxScgdKVXNb27PuK1K/2t45c+G8Px66EJdHqbFP2fWVxWduz\n",
       "7ytSfz/7O9c//6HrBlEUfxEEoR3A2NO9F/u+LFzW9uz7iuS0nE8QhGBYRi7niqL4a1/eyxl9312S\n",
       "7M4H0lN62D4SQJUoit2uiyYIwiewPKNxeTeTneyyvkadLghRFE2CILTCfYbZDxb9an9YZpQOAlDc\n",
       "3YRXgiB0Pp8x3O69xp+yIxAPS5/pbpZ6GhiuavtEURQLewqCfV82/W3/3nSeiHX+DhyxvrLvK4Mr\n",
       "275H7Puy6W/7n7C+NvWwvQWWC7AA+77SuLLte8S+LxtnfvbfCMtd6o9O814D0vfd4hdHFMUyWD4E\n",
       "JwuC4PAAuiAIo2H5j1jby7eIgeVZjIndbBtqfS2yfr9lgiCYBEG4suuOgiCMAxAMYH+ffwg6a05o\n",
       "/3dhmU2w61fnFazOch2A9bCceJ3XzfdZaH1dc1Y/CPWZC9u+gX1fefrb/oIgfGlt0yndbJ5hfe1s\n",
       "U/Z9BXFl27PvK48TPvszra/pXTcIgpAAyx2qA9Yq9n0FcWXbs+8rjxPa3961sNz1/rqH7QPa990i\n",
       "ybb6Jyxj4//WWWFdI+0lWP4D3+ysEwRhjHXJnk7fWl8fsd7+7zzeF7ap3FdaX3+2vi4VBMHPbl8d\n",
       "LM9vA8D7TvmJqC/Ouv1FUXyuh0XpSwGY7erqrcs1fA9L515k915RAJ6AJTk7Ze1FGlCuaPs6sO8r\n",
       "VX8++zvb9M+CIGjsjg+EZbZpM6xtav3Dzr6vLC5pe7DvK1V/PvuzAOwDcKMgCLO6HP+CtfiedV/2\n",
       "feVxSduDfV+p+vPZ37n/EADTAORb19c+xUCf87vLcHHAMgX/NQDuEiwzgh6AZeKycQDeEEVxm3W/\n",
       "YbDc/i+AZfgvYOlMN8Oy/t1hQRA2wDJ8YL51/x8BfAAAoihuEAThMwC/A5ArCMJPsDwYfx4sMxT+\n",
       "IIrixwP5g1K3+tP+veluyNADAGYB+FwQhKsB1MAygU4YgOtEUWzsx89BfeeStmffV6z+tP8nsMy3\n",
       "cSmAI4Ig/ArL372LYBnhtLzLbKPs+8rikrZn31es/n72/x7ABgC/CoLwCyzPcE4HkAzg0y6TYbLv\n",
       "K4tL2p59X7Gccd43C5bzvEz0bsD6vtvcyRZF0QjLL/0rsKx9eYt1072iKN7fzSFmu2P1ABbAMsuw\n",
       "Bpap+a+A5W7WfQAuta6H1rn/jbB0uAIAiwDcAMtQ4oesx5GL9af9e2Hubj9RFIsAZMAyAmIeLMNN\n",
       "cgBcKIpiT0NOaIC4uO3Z9xWmn5/9ncfeA6ARlvZcBOA4gFtEUbyvy3ux7yuIi9uefV9h+vvZL4ri\n",
       "QVjm5VgJyx2tG2EZGvogLEmY/b7s+wri4rZn31cYJ533pVnrd57mvQas76vM5jM5HyUiIiIiIiKi\n",
       "03GbO9lERERERERESsckm4iIiIiIiMhJmGQTEREREREROQmTbCIiIiIiIiInYZJNRERERERE5CRM\n",
       "somIiIiIiIichEk2ERERERERkZMwySYiIiIiIiJyEibZRERERERERE7CJJuIiIiIiIjISZhkExER\n",
       "ERERETkJk2wiIiIiIiIiJ2GSTUREREREROQkTLKJiIiIiIiInIRJNhEREREREZGTMMkmIiIiIiIi\n",
       "chIm2URERERERERO8v+Sqp/l4ceX9QAAAABJRU5ErkJggg==\n",
       "' width=492 height=348/>"
      ],
      "text/plain": [
       "<matplotlib.figure.Figure at 0x1abcd8f10>"
      ]
     },
     "metadata": {},
     "output_type": "display_data"
    }
   ],
   "source": [
    "#sns.distplot(c_ssrt1[1])\n",
    "sns.kdeplot(c_ssrt2[1])\n",
    "sns.kdeplot(grt[1])\n",
    "\n",
    "#sns.distplot(ert[1])"
   ]
  },
  {
   "cell_type": "code",
   "execution_count": 214,
   "metadata": {
    "collapsed": false
   },
   "outputs": [
    {
     "ename": "SyntaxError",
     "evalue": "can't assign to operator (<unknown>, line 1)",
     "output_type": "error",
     "traceback": [
      "\u001b[0;36m  File \u001b[0;32m\"<unknown>\"\u001b[0;36m, line \u001b[0;32m1\u001b[0m\n\u001b[0;31mSyntaxError\u001b[0m\u001b[0;31m:\u001b[0m can't assign to operator\n"
     ]
    }
   ],
   "source": [
    "data.query('trial_type==stop & acc=0').rt.values"
   ]
  },
  {
   "cell_type": "code",
   "execution_count": 219,
   "metadata": {
    "collapsed": false
   },
   "outputs": [
    {
     "data": {
      "text/plain": [
       "(0.4, 0.7)"
      ]
     },
     "execution_count": 219,
     "metadata": {},
     "output_type": "execute_result"
    },
    {
     "data": {
      "text/html": [
       "<img src='data:image/png;base64,iVBORw0KGgoAAAANSUhEUgAAA9kAAAK5CAYAAACrN+0EAAAABHNCSVQICAgIfAhkiAAAAAlwSFlz\n",
       "AAAWJQAAFiUBSVIk8AAAIABJREFUeJzs3Xd4VOeZ///PjHpFBQlRhEQ9oncMCISNKTbucYrLZjfO\n",
       "buxN7N/m5+SKneSbONl443y92ThrO4md4thJwMbYFNMMxhiwML2aOnTUQKihjsrMfP8QnNEAkkFM\n",
       "0Yzer+viGu7nnDPPjSxf0j3POc9tcTqdAgAAAAAAN8/q7wQAAAAAAAgWFNkAAAAAAHgIRTYAAAAA\n",
       "AB5CkQ0AAAAAgIdQZAMAAAAA4CEU2QAAAAAAeAhFNgAAAAAAHkKRDQAAAACAh1BkAwAAAADgIRTZ\n",
       "AAAAAAB4CEU2AAAAAAAe0qWKbMMwnIZhOP2dB4IH31PwJL6f4Gl8T8HT+J6Cp/E9hWDUpYpsAAAA\n",
       "AAC8KdRTb2QYxnck/U5Sgs1mq7riWJSkH0v6qqR0SRcl7ZL0K5vN9omncgAAAAAAwJ88spJtGIZV\n",
       "0jclXXWrh2EYYZLWSfo/kmokvSEpV9JtktYYhnGPJ3IAAAAAAMDfbmol2zCMkZLGSHpM0lhdo8i+\n",
       "dGySpL/ZbLbHWl17t6Rlkv5gGMaHNput+WZyAQAAAADA3zq8km0YRqykvZLelJTTzqlfvvT6XOtB\n",
       "m822QtJ2Sb0lTe5oHgAAAAAAdBY3c7t4vaSHLv15WNLhNs7rL6ncZrPlX+PY5bHeN5EHAAAAAACd\n",
       "QodvF7fZbHZJCy/HhmF8W1LWNU59StJVt4IbhhGqllvMJel8R/MAAAAAAKCz8Nju4m2x2Wyr2zj0\n",
       "gqR+aimwP/N2HgAAAAAAeJvXi+wrGYbRQ9Lrku6T5JD0lM1ma/B1HgAAAAAAeJrF6bzWhuA3zjCM\n",
       "DZKmSUq8sk/2peMWSd+S9H8lJUgqk/TYpQ3QvM4wjBS5bkufqpZe3cDN2nnpdbxfs0Cw4PsJnsb3\n",
       "FDyN7yl4Gt9T8KRISZmX/v6RzWYr8UcSPimyDcNIlrRA0u1qafO1QNL/74l/tGEYnvkHAAAAAAC6\n",
       "HJvNZvHk+3n9dnHDMOIkbZA0TNIpSY/bbLZ13p4XAAAAAABf88Uz2f9HLQX2bkkzbTbbBU+++fV+\n",
       "6mAYRrakTZL03//93xowYIAn0wAAAAAA+NGJEyf0zDPPXA6n2mw2v2yw7Ysi+xFJjZIe8HSBfYPM\n",
       "Z7AHDBig4cOH+zEVAAAAAIAX+W0PLk8X2W6ryoZhpEvqI+mspO8ahtHWdX+w2WwnPZwLAAAAAAA+\n",
       "5cki23npT2tprV6/1851yyRRZAMAAAAAAprHimybzXbbNcZ2SLJ6ag4AAAAAADozCmAAAAAAADyE\n",
       "IhsAAAAAAA+hyAYAAAAAwEMosgEAAAAA8BCKbAAAAAAAPIQiGwAAAAAAD6HIBgAAAADAQyiyAQAA\n",
       "AADwEIpsAAAAAAA8hCIbAAAAAAAPocgGAAAAAMBDKLIBAAAAAPAQimwAAAAA6KKqqqqUlZWlH/3o\n",
       "R/5OJWhQZAMAAAAAOuTVV19VVlaWPv74Y3+n0mlQZAMAAAAAborFYvF3Cp0GRTYAAAAABIj6+vpr\n",
       "jjc3N6uxsdHH2bg4nU6/zd3ZUGQDAAAAgA81NDTotdde05133qmRI0dq2rRp+slPfqKzZ8+6nXf5\n",
       "Vuzdu3fr5Zdf1pQpU/Tyyy9LkmbMmKE777xTBQUF+ta3vqVx48bp5MmT7c67adMmPfzwwxo9erQm\n",
       "TZqkZ555RqWlpdc8d+vWrXriiSeUnZ2t0aNHa/bs2Xr++edVUFBgnjNjxgz9/ve/lyQ99dRTysrK\n",
       "Mo81NjbqzTff1P3336+xY8fqlltu0Ve+8hXNmzdPdru9Q1+3QBHq7wQAAAAAoKtobGzUN7/5Te3a\n",
       "tUujR4/W5MmTdf78eS1dulRr1qzR/PnzNXjwYLdrXnjhBeXl5SknJ0fjx483x2tqavToo4+qW7du\n",
       "+tKXvqTExMQ25/3kk0/05JNPKjIyUjNnzlRYWJhyc3O1e/fuq85dt26dnnzySXXr1k05OTmKj4/X\n",
       "oUOHNH/+fK1evVoffvih4uPj9bWvfU3r16/X3r17NXPmTPXt29d8j+9///tau3atDMPQvffeq4aG\n",
       "Bm3atEn/9V//paNHj+oXv/iFB76anRNFNgAAAAC/qqxp0PzVR5R/vtrfqbQrPTVO/3TnEMXHhHf4\n",
       "PV577TXt2rVL3/ve9/T444+b4zt37tS//Mu/6Oc//7nefvttt2sKCwu1ePFi9enTx228pKREd9xx\n",
       "h1566SVZrW3fpNzY2Kif/exnioyM1HvvvaeBAwdKkioqKvTNb37zqvMXLFigiIgILVq0yG3On/70\n",
       "p3rvvfe0ZcsWzZkzR0888YQaGxu1d+9ePfDAA7r99tslSaWlpVq7dq1ycnL0xz/+0Xxeu7q6WrNn\n",
       "z9aKFSsosgEAAADAW+avPqIPt5z2dxpf6MCJMknSd748qkPXOxwOvf3228rIyHArsCVp/Pjxmjp1\n",
       "qjZu3KiysjIlJyebxx5++OGrCmypZbOx73//++0W2JL06aefqqSkRI899phZYEtSYmKinn766aty\n",
       "ueuuu3TXXXddNeeAAQMktf1c+GVWq1XPPvusJk6c6LYhWlxcnFJTU3X06NF2rw90FNkAAAAA4AOn\n",
       "Tp1SZWWl4uLi9OKLL151vKyszDyvdZF95e3jl0VGRio9Pf0L5927d68kacKECVcdGzXq6g8M7r//\n",
       "fknSiRMnZLPZVFhYqPz8fK1Zs+YL55KkpKQkPfbYY2psbNTOnTt1+vRpFRYW6siRI7LZbEG/EzlF\n",
       "NgAAAAC/evSOLMki5Rd38tvFe8Tpn+4Y0uHrL1y4IEkqKCjQm2++ec1zLBaLamtr3cbCwsKueW5b\n",
       "423N271796uORUVFXTW2b98+/fjHP9aJEyckSSkpKTIMQ2PGjNGGDRuua84//elPeu2111RfX6/Q\n",
       "0FClp6dr7NixSktLU3Fx8XW9R6CiyAYAAADgV91iI/SdBzt2C3YgiY6OliTNmjVLr776qs/mvVxI\n",
       "V1RUXHXsyoL3woULeuKJJ+R0OvXKK68oOztbMTExkqS33nrruorspUuX6qWXXtLkyZP17LPPyjAM\n",
       "c/X63nvvDfoimxZeAAAAAOAD/fv3V1hYmI4cOXLN42+88YZ+8IMfqKamxqPzDhnSsvq+bdu2q47t\n",
       "2LHDLd67d68uXLighx56SLNnzzYLbEnKz8+/rvk++eQTSdLPf/5zZWVlmQV2c3Ozzp0716F/QyCh\n",
       "yAYAAAAAH4iIiNDdd9+t/Pz8q3YQ37hxo1566SWdO3dOsbGxHp131qxZiomJ0fvvv+/W57qyslKv\n",
       "v/6627nh4S07p1/Zs3vHjh1avHixJMnpdJrjrQvoyyIiIiRJRUVF5pjdbtevf/1rVVVVeeKf1Klx\n",
       "uzgAAAAA+Mgzzzyj3bt36xe/+IVWr16tfv36KS8vT1u3blW3bt30n//5nx6fMy4uTs8995x++MMf\n",
       "6v7779eMGTMUFRWl9evXq1+/fjp//rx57rhx45SZmally5aptLRUmZmZOnr0qPbs2aO5c+dq+fLl\n",
       "evvtt5WYmKhbb71VvXr1kiT97ne/044dO/STn/xEX/rSl7RixQo99dRTmj17tqxWq7Zs2SKpZfO1\n",
       "HTt26Nlnn9UPf/jDdnt7BypWsgEAAADARxITE7Vw4UJ9/etf15kzZ7R48WKdOXNGX/7yl/XBBx+o\n",
       "f//+5rkWi8VjO3Hfd999ev3115WZmanVq1dr/fr1mjt3rl5//XW3OSIiIvTGG29o5syZOnjwoFau\n",
       "XKnY2FjNnz9fL7zwgrKzs2Wz2cxbx+fMmaPs7Gzl5eVpxYoVkqTJkyfr5ZdfVp8+fbRq1Spt3bpV\n",
       "c+bM0dKlS/WDH/xAKSkp+uSTT9xWv4OJpfVSfzAzDGOcpJ2StGjRIg0fPtzPGQEAAAAAPOXAgQN6\n",
       "8MEHL4fjbTbbLn/kwUo2AAAAAAAeQpENAAAAAICHUGQDAAAAAOAhFNkAAAAAAHgIRTYAAAAAAB5C\n",
       "kQ0AAAAAgIdQZAMAAAAA4CEU2QAAAAAAeAhFNgAAAAAAHkKRDQAAAACAh1BkAwAAAADgIRTZAAAA\n",
       "AAB4CEU2AAAAAAAeQpENAAAAAJAkfec731FWVpa/0whoFNkAAAAAAJPFYunQdQUFBcrKytKTTz7p\n",
       "4YwCC0U2AAAAAOCmXS7OO1qkBwuKbAAAAAAIMvX19T6f0+l0+nzOzogiGwAAAAB8qLS0VM8995ym\n",
       "Tp2q0aNH66677tIf/vCHqwrj8vJy/fKXv9SMGTM0YsQI5eTk6LnnnlNxcbHbea+++qqysrK0e/du\n",
       "vfzyy5oyZYr+93//9wtz+NGPfqTJkydr9OjR+trXvqbc3Nxrnnv+/Hn96le/0qxZszRq1ChNmzZN\n",
       "//Zv/6b169e75TBz5kxJ0scff6ysrCwtWbLEPL5161Y98cQTys7O1ujRozV79mw9//zzKigouKGv\n",
       "XSAI9XcCAAAAANBVnD9/Xg899JCKi4s1ffp09ejRQ7t27dIrr7yiHTt26M0335QklZSU6OGHH1ZB\n",
       "QYGys7M1Y8YMFRQUaPHixVq7dq3mzZunAQMGuL33Cy+8oLy8POXk5GjChAlt5lBVVaVHH31UZ86c\n",
       "0bhx45SVlaX9+/fr29/+tlJSUtzOra2t1UMPPaSioiJNmTJF06dPV0lJiT799FNt2rRJv/71r3XP\n",
       "Pfdo7Nix+upXv6qFCxcqIyNDt99+uwYPHixJWrdunZ588kl169ZNOTk5io+P16FDhzR//nytXr1a\n",
       "H374oeLj4z38lfYfimwAAAAAflXVUKN39y9TYdU5f6fSrt7xaXpoxL2Ki4jt8Hv88pe/VFFRkV56\n",
       "6SXNnTtXkuRwOPT4449r06ZN2rVrl8aNG6cXXnhBBQUFev755/WVr3zFvH7Tpk16/PHH9aMf/UgL\n",
       "Fy50e+/CwkItXrxYffr0aTeH1157TWfOnNFTTz2lp556yhx/5ZVX9Ic//MHtmeqNGzeqqKhITz/9\n",
       "tJ544glzfPfu3XrkkUe0cuVK3XPPPcrOzlZmZqYWLlyoQYMG6ZlnnjHPXbBggSIiIrRo0SK33H76\n",
       "05/qvffe05YtWzRnzpwb/Ep2XhTZAAAAAPzq3f3LtPbEtW9V7kwOlRyTJH1r/CMdur6iokJr167V\n",
       "0KFDzQJbkqxWq5544gnV1NSouLhY5eXlWrNmjTIzM90KbEmaOnWqJk+erM8++0xnzpxRRkaGeezh\n",
       "hx/+wgLb4XBo8eLFSk1NdSuaJempp57SwoULVVZWZo5lZmbq2Wef1X333ed27sCBAyVJdXV15lhb\n",
       "z2Tfdddduuuuu67K7fJKvD+eH/cmimwAAAAA8IGDBw/K4XDolltuuerYhAkTtGDBAklSbm6uHA6H\n",
       "pk2bds33GTlypD777DMdO3bMrci+fHt2e06dOqXKykrNmjVLYWFhbsesVqtGjBihDRs2mGNDhw7V\n",
       "0KFDVVlZqY0bN6qgoECFhYXatm3b9fyTJUn333+/JOnEiROy2WwqLCxUfn6+1qxZc93vEUgosgEA\n",
       "AAD41ddG3CuLLCqoOuvvVNrVJ76nvjbing5fX1FRIUnq3r37dZ2Xmpp6zeNRUVGSpIaGBrfxK4vm\n",
       "a7lw4UK7OURHR7vFNTU1ev7557Vs2TI5nU5FRUWpf//+GjNmjA4ePPiF80nSvn379OMf/1gnTpyQ\n",
       "JKWkpMgwDI0ZM8atoA8WFNkAAAAA/Co+Ilb/Nv5hf6fhdeHh4ZKk6urqax5vbm5WSEiIWURXVlZe\n",
       "87zLu4snJSXdcA6Xi+jy8vJ23/uyX/7yl/rggw/0z//8z/rGN76hXr16SWrZPG3evHlfON+FCxf0\n",
       "xBNPyOl06pVXXlF2drZiYmIkSW+99VZQFtm08AIAAAAAHzAMQ5K0f//+q44tXrxYw4cP18KFC83z\n",
       "duzYcc33yc3NVWhoqIYPH37DOQwYMEChoaHas2eP7Ha727GamhodPnzYbWz9+vVKTU3Vj3/8Y7PA\n",
       "lqS8vLzrmm/v3r26cOGCHnroIc2ePdsssCUpPz//hvMPBBTZAAAAAOADmZmZGjVqlDZv3qw9e/aY\n",
       "4zU1Nfrzn/+s0NBQTZ8+XX379tXo0aO1b98+rV271u09li1bpry8PM2ZM0dxcXE3nEN4eLjmzp2r\n",
       "8+fPX7US/fvf/161tbVXnV9XV6eqqipzrLKyUi+++OJV7221tpSXzc3N5lhERIQk6exZ90cBduzY\n",
       "ocWLF0tqe8O0QMXt4gAAAADgIz//+c/16KOP6hvf+IZmzZqlqKgo5ebmqri4WI8//rjS0tIkSb/4\n",
       "xS/06KOP6rvf/a5ycnLUp08f5efnKzc3V7169dKzzz7b4RyeeeYZ7dixQ7/61a+0YcMGDRgwQIcP\n",
       "H9ahQ4c0YcIEtxX0Bx98UK+99poeeOABTZs2TZWVlcrNzdWoUaOUnJysQ4cO6be//a2efvppJScn\n",
       "KywsTFu2bNHPfvYzPfjggxo7dqwyMzO1bNkylZaWKjMzU0ePHtWePXs0d+5cLV++XG+//bYSExN1\n",
       "66233uyXt1NgJRsAAAAAfGTIkCF65513NHnyZK1fv15r1qxRWlqafvOb3+jpp582zxs8eLDef/99\n",
       "3Xnnndq3b58WLFig48eP66GHHtJ7773ntimaxWJx6239Rbp3764FCxbo7rvv1oEDB7RkyRJFRkbq\n",
       "nXfe0eDBg93e66mnntJ3v/tdSdKSJUt08uRJffe739Wf//xnPfXUU3I6ndq8ebOkllXr733ve4qK\n",
       "itKSJUtUXFysiIgIvfHGG5o5c6YOHjyolStXKjY2VvPnz9cLL7yg7Oxs2Wy2oLp13BJsS/NtMQxj\n",
       "nKSdkrRo0aIOPb8AAAAAAOicDhw4oAcffPByON5ms+3yRx6sZAMAAAAA4CEU2QAAAAAAeAhFNgAA\n",
       "AAAAHkKRDQAAAACAh1BkAwAAAADgIRTZAAAAAAB4CEU2AAAAAAAeQpENAAAAAICHUGQDAAAAAOAh\n",
       "FNkAAAAAAHgIRTYAAAAAAB5CkQ0AAAAAgIdQZAMAAAAA4CEU2QAAAAAAeAhFNgAAAAAAHkKRDQAA\n",
       "AACAh1BkAwAAAADgIRTZAAAAAAB4CEU2AAAAAAAeQpENAAAAAICHUGQDAAAAAOAhFNkAAAAAAHgI\n",
       "RTYAAAAAAB5CkQ0AAAAAgIdQZAMA0EnZHU45nU5/pwEAAG5AqL8TAAAALnaHU1sPnNUHG0/IdqZc\n",
       "Iwem6Nl/maDYqDB/pwYAAK4DRTYAAJ3AxYZmfbwjTx98ekLnyurM8b3HSvTKu3v0o3+ZIIvF4scM\n",
       "AQDA9aDIBgDAj8qrLmrFppP6cPNp1dQ3XfOcLfvPalnuSd2XM8DH2QEAgBtFkQ0AgB+cOVelpRtO\n",
       "aMPuAjXbHVcdD7Fa5JTkcLQ8k/3m8oMyMhKVlZHk40wBAMCNoMgGAMBHnE6nPj9WqsUbj2v3kfPX\n",
       "PCcqIlS3DEvT5BE9te9YiVZtPi2p5VntF/++Uy9/71bFx4T7MGsAAHAjPFZkG4bxHUm/k5Rgs9mq\n",
       "rjgWKuk/JP2bpAxJ5yUtlvQzm81W46kcAADojJrtDuXuLdTSDSd0sqjymuckxUcqe1QvjTNSFR4W\n",
       "IknKHtlLp89W6dCpcklS6YV6/fad3frpN2+R1crz2QAAdEYeKbINw7BK+qaktvqMvH7p+AFJf5U0\n",
       "SNLTkm41DGOyzWZr9EQeAAB0JrX1TVqz9bSW5Z5UWeXFa57Tt0ecpo7uraGZSVcVzhaLRQ/eNkjn\n",
       "yvapvKrl+p2Hi7Vo/TF95fbBXs8fAADcuJsqsg3DGClpjKTHJI3VNYpswzBuVUuBvVbSXJvNZr80\n",
       "/lNJ/ynpB5J+eTN5AADQmdgdTr3z0REt+/Sk6huarzpukTS0X7Kmju6ljLT4dt8rKiJUD8829Pri\n",
       "z2W/9Hz2vA8PKyszSSMGdPdG+gAA4CZYO3qhYRixkvZKelNSTjunPnnp9YeXC+xLfiOpWdK3OpoD\n",
       "AACd0bwPD+vdtUevKrDDQq2aNDxN33tkrB69I+sLC+zLeqfE6u6p/czY4ZT+Z95OVVRfe3UcAAD4\n",
       "T4eLbEn1kh669OdhSYfbOC9HUrHNZtvTetBms9VJ2i2pr2EYGTeRBwAAncapokot3nDcbSw2Kkyz\n",
       "JvbVs18fr3unDVByt6gbft+JQ9M0cqBr5bq8qkG/mb/LXN0GAACdQ4dvF7+0Kr3wcmwYxrclZbU+\n",
       "xzCM3pJSJG1o420OSZqolme0z3Q0FwAAOgO7w6nfv7fPbLslSbNvyVD2yF4KC72Zz7Vbns9+YPoA\n",
       "FZXWqvRCvSRp37FSvbvWpkfmZH3B1QAAwFdu7if+F0u+9FrcxvELl15p+gkACHirt5yWLa/CjAel\n",
       "J2j6mN43XWBfFhEeqkdmG27vt2CtTXts124HBgAAfM/bRfblh80a2jhee+mVft0AgIBWVlmvv686\n",
       "ZMZhoVbdlzNAFotnW22lJcfo3mn9zdjplH7z9i6VVdZ7dB4AANAx3i5umy69tvXwWfil17qOTmAY\n",
       "Bg+jAQD87s9LD6juomujsxnj05UUH+mVucZl9dDps1XadaRlBbuyplH//Y+d+uW3sxUa4u3PzwEA\n",
       "CAg7DcO4rhNtNptHPxH39k/ikkuviW0cv3w7eZGX8wAAwGu2Hzqnzz53/ShLS4rW1JG9vDrnPVP7\n",
       "q0dStBkfOlWueR+2tQcpAADwFW+vZJ9Ryy7kw9s4PlCSXS0boHXI9X7qYBjGOEk7OzoPAADXUt/Q\n",
       "rNcXf27GFkn3Tx+oEC+vKIeHheiR2YZ+v2ifGpsckqRF649raL9kTRyW5tW5AQAIAONtNtsuf0zs\n",
       "1d8ALu1AvkFSmmEYboW2YRjd1LKz+DabzVbjzTwAAPCWt9ccUUmF63noicPS1DctzidzpyRG64Hp\n",
       "A93GfvvObhWXd/gpLAAAcJN88eDW65deXzAMo/Wq868kRUr6nQ9yAADA444XXNCyT0+YcVx0mObc\n",
       "kuHTHEYNStEtrVaua+qb9OLfd6ip2eHTPAAAQAtPF9lX3bpts9mWq6Wf9t2SdhmG8TvDMLZK+ndJ\n",
       "y2w22wIP5wAAgNe19MTeq1YtsXX31P6KjPB9w4y5U/qpV/cYMz6Wf0Fvrjjo8zwAAIBni2znpT/X\n",
       "8qikn0iKk/Svatnw7DlJX/bg/AAA+MzKTSd1vKDSjI2MRA3vn9zOFd4TFmrVI3OyFBkeYo4tzz2p\n",
       "z/axrygAAL7msY/bbTbbbe0cs0t64dIfAAACWklFveatdu3kHRZq1b3T+nu8J/aNSIqP1IO3DdL8\n",
       "NUfMsZff3aN+vePVq3us3/ICAKCroZkmAAA36I9LPld9g92MZ03sq8Q47/TEvhHD+idr6ihX67D6\n",
       "hma9+Ledamiyt3MVAADwJIpsAABuwJb9Rdp28JwZ9+oeo8kjvNsT+0bMuSVDfXu4djc/WVRJ/2wA\n",
       "AHyIIhsAgOtUd7FJf1yy34wtFun+6QMUYvXfbeJXCgmx6qHZhqIjXU+Erdh0SqUX6tu5CgAAeApF\n",
       "NgAA1+kfHx5WWeVFM540vKf6pPqmJ/aNSIiN0N3Z/c242e7Qwo+P+jEjAAC6DopsAACuw9G8Cq38\n",
       "7JQZx8eEa/bEvn7MqH0jB3VXamK0Ga/dfkbF5XV+zAgAgK6BIhsAgC9gtzv0u/f2ytmqUeW90/or\n",
       "Itz3PbGvl9Vi0cwJ6WbcbHfq3bU2P2YEAEDXQJENAMAX+ODTkzpVVGXGQ/slaWg///TEvhFD+yer\n",
       "Z/cYM163M19FpTV+zAgAgOBHkQ0AQDuKy+v09keu3tPhYVbdM7V/O1d0Hi2r2a5b2h0OpxZ8xGo2\n",
       "AADeRJENAEAbnE6nXl/8uRoaXX2mZ0/MULfYCD9mdWOyMhLVJzXWjDfuLlB+cbUfMwIAILhRZAMA\n",
       "0IZN+4q083CxGfdOidWk4T39mNGNs1y5mu2U3mE1GwAAr6HIBgDgGmrqm/Tnpa6e2FaL9MD0AbJ2\n",
       "op7Y12tQeoIy0lytxnL3Fur02ap2rgAAAB1FkQ0AwDX8feUhVVQ3mPGUkb3UKyW2nSs6L4vFoplX\n",
       "tBt7e82RNs4GAAA3gyIbAIArHDldrg+3nDbjhNgI3T6h8/bEvh4Deieof69uZrxl/1kdL7jgx4wA\n",
       "AAhOFNkAALTidDr12uLP3cbuzemviLAQP2XkObOuWM2ev5rVbAAAPI0iGwCAVvafKNXJwkozHj4g\n",
       "WVkZSX7MyHMyesZrUHqCGe88XKwjZ8r9mBEAAMGHIhsAgFaW5540/26RNOeWDP8l4wUzJ7CaDQCA\n",
       "N1FkAwBwSXF5nbYfPGfGRkaikrtF+TEjz0vvEaesjEQz3nu0RAdPlvkxIwAAggtFNgAAl6z67JQc\n",
       "Tlc8eUQv/yXjRVeuZs9bfVhOp7ONswEAwI2gyAYAQNLFhmat2XbGjFMSojSwT7d2rghcvVJiNaxf\n",
       "shkfOFGmz4+V+jEjAACCB0U2AACSNuwuUG19kxlPHtFTFovFjxl51+0T0tX6X8dqNgAAnkGRDQDo\n",
       "8pxOp5Zvcm14FhEeojFGqh8z8r605BiNGNjdjI+cqdBu23k/ZgQAQHCgyAYAdHmfHy9V3rlqMx6f\n",
       "1SMo+mJ/kdvHp6v1Yv281UdYzQYA4CZRZAMAurwVm9zbdk0anua/ZHwoJTFaowelmPHx/Atuu6sD\n",
       "AIAbR5ENAOjSzpXVBn3brvbMGJ8ua6vV7PlrjsjhYDUbAICOosgGAHRpqzaf7hJtu9qS3C1KY7N6\n",
       "mPGpoipt2X/WjxkBABDYKLIBAF3WxYZmfdS6bVdi8Lbtas9t4/oopNVy9vw1R2RnNRsAgA6hyAYA\n",
       "dFnrr2zbNTy423a1JTEuUuOHuFaz84urlbu30I8ZAQAQuCiyAQBdktPpdNvwLLILtO1qz61j+yg0\n",
       "xPUBwztrjshud/gxIwAAAhNFNgCgS7qqbdeQrtG2qy3dYiM0cahrV/Wi0lqt31Xgx4wAAAhMFNkA\n",
       "gC5pee6Vbbt6+i+ZTmL62D4KC3X9arBgrU3NrGYDAHBDKLIBAF3OubJabT/k3rYrKT7Sjxl1DnHR\n",
       "4W4fNhTCHjh7AAAgAElEQVSX1+nj7Xl+zAgAgMBDkQ0A6HJWfnZKzlabZ08Z2bXadrUnZ3RvhYe5\n",
       "fj149+Ojamq2+zEjAAACC0U2AKBLudjQrLWtVmdTEqM0oHfXa9vVlpioME1p1Su89EK91mw9084V\n",
       "AACgNYpsAECXcmXbrikjumbbrvZMG91bkeGuTeDeW3dUdReb2rkCAABcRpENAOgynE6n24ZnkeEh\n",
       "GjO467btaktURKiyR7lWs8urGvS3lYf8mBEAAIGDIhsA0GV8fqxU+cXubbvCu3DbrvZkj+yl+Jhw\n",
       "M161+bT2nyj1Y0YAAAQGimwAQJexfBNtu65XZHio7s8Z4Db26sK9utjY7KeMAAAIDBTZAIAu4cq2\n",
       "XVmZSbTt+gJZmUkaPSjFjM+W1urtNTY/ZgQAQOdHkQ0A6BKubNs1eQSr2Nfjrux+iokMM+MPNh7X\n",
       "0bwKP2YEAEDnRpENAAh69Q3NWrvN1YYqlbZd1y0mKkz3TOtvxg6n9PK7e+idDQBAGyiyAQBBb8Ou\n",
       "fNVedD1LPJm2XTdkxIBkDe2XZMZ556q18ONjfswIAIDOiyIbABDUnE6nlm86Zca07bpxFotF904b\n",
       "cFXv7FNFlX7MCgCAzokiGwAQ1Gjb5RnxMeG6O9t127jd4dQr7+6R3e7wY1YAAHQ+FNkAgKBG2y7P\n",
       "GWOkaHB6ghkfL6jUko0n/JgRAACdD0U2ACBo0bbLsywWi+6fPlDhYa5fH95ec0QF56vbuQoAgK6F\n",
       "IhsAELRo2+V5CXERumNSphk3NTv0yrt7ZXc4274IAIAuhCIbABCUaNvlPROHpSmzZ7wZHz5drpWf\n",
       "nWzniuvX7LCrtLZcttIT2l10QCfKz6iivlIOB89+AwACQ6i/EwAAwBuubtvVi7ZdHmK1WPSlWwfq\n",
       "lYV71Xxp47O/rzqsiUPTlJYc0+Z1jfYmlddfUHldhcrqLqisvkLlV7xWXqyWU1evilssFiVExisp\n",
       "KkGJUQlKiuqmpKiES3E38zUmLJr/zgAAv6LIBgAEnZa2Xa6V1Za2XSl+zCj4dE+I0qyJffXhltOS\n",
       "pIZGu3733l49/8QU2R12bcrboaNlp1oK6kuFdXVjbYfnczqdqqivVEV9paQzbZ4XHhJ2qQhvKcQn\n",
       "9B6tKX3HdXheAABuFEU2ACDo7DtWovziGjOeQNsur8ge2Uv7T5Sq4HzL13rfsVIt23xEuxtW6XDJ\n",
       "cb/k1GhvUnFNiYprSiRJn+XtVKg1RBP7jPZLPgCArociGwAQdJbnnjL/brHQtstbrFaLHrxtkH73\n",
       "XsvGZ5bIGs0/8Rcpou663yM8JEzxEXGKj4hVfESs4lr9PTI0QrVNdapuqFVVQ41qGmtU1VCj6oZa\n",
       "VTfWqqG54brmmLdvscb2HK7QEH7tAQB4Hz9tAABB5VxZrXYcbtW2KyNJibTt8poeSdG6bVy6PrHt\n",
       "UfjAPVKo6zn4EGuIkqMSzaI5PiJO8ZGxbkV1RGhEh+dubG5UdWOtqhtqzNeWYrxWxTWlKq0rlySd\n",
       "qynRRyc+1dzBM2763wsAwBehyAYABJU1W8+4te2aQtsur4tPP6sI7ZQsri98lDVW3xj3gFJju3tt\n",
       "3vDQcCWHhis5OvGqY7WNdXp165tqsDdKkt4/uErTMycpJjzaa/kAACDRwgsAEESa7Q6t25Fnxt0T\n",
       "otSftl1e43A6tDb/Q31YsNytwHbUdFP9wUmKtiT4LbeY8GhNzZhoxjWNtVpyeLXf8gEAdB0U2QCA\n",
       "oLHzcLEqql3P6U4Y0oN2Tl7SaG/Qeyfe0dbzm93Gm8vS1HB4ouqrQ7Xs42I/Zdfilj5j1C0izoxX\n",
       "HV2v87VlfswIANAVUGQDAILGR9tcrZ1CrBbadnlJVWOl3rL9RUcrj7iND08craiScZKzZSf3z49U\n",
       "6eDRan+kKEkKCwnVjP7ZZtzsaNY7ny/1Wz4AgK6BIhsAEBTKKuu167Br5XRIZpJio8P9mFFwKqot\n",
       "1BtH/qjietfmclaLVVPTpmtMyljdOsn9FvGlH51V3UW7r9M0jeiRpZ5xqWb8Wd5OHS877bd8AADB\n",
       "jyIbABAUPt6RJ0erDc/GD+nhv2SC1OGKg/qb7Q3VNLlWpyNCIjWrz53qFz9AkpSWGqHhRox5vLrW\n",
       "rpXr/HfbuMVi0ewBOW5j/9i3SM7Wu+MBAOBBFNkAgIDncDi1dptrw7OE2AgN7OO/TbeCjdPp1Gfn\n",
       "PtX7Jxeo2dlkjncLT9Cdfe9RapT7BxoTRscpLibEjHcdqNQBW5XP8r1SZmK6jO79zfhwyXHtKNzn\n",
       "t3wAAMGNIhsAEPD2Hy9VcXmdGY/LSpXVyoZnnmB3NGv5maX6pHCt23jP6N66I/1uxYXFXXVNWJhV\n",
       "OVfcNr5gRZFO5dddda6vzOw/zW0TvPn7lqjZ4b/b2AEAwYsiGwAQ8FpveGaRNC6LW8U9oa65TvOO\n",
       "/U37yna7jQ/ulqUZvWcpPKTtZ95794zQ0MGuntTNzU79bVG+zpVc9Fq+7ekek6RxvUaa8dma8/r4\n",
       "RK5fcgEABDeKbABAQKuqbdTm/WfNeFB6ghLiIvyYUXAou1iqN4/8UXk1p80xiyyakDJJE1Mny2r5\n",
       "4l8hpozvpr69Xf8tLjY49MbCfJVXNnoj5S90a+Yktw8G3juwQnWN9X7JBQAQvCiyAQABbcOufDXb\n",
       "HWbMhmc373T1Kf31yJ9U3lBujoVaQnVbr5nKShx63b3HrVaLZk5LVI+UMHOsuqZZf12Yr5q6Zo/n\n",
       "/UViwqM1NWOCK5fGWi05vNrneQAAghtFNgAgYDmdTrdbxWMiw5SVmeTHjALfoYoDevvY33TR7lrh\n",
       "jQmN0R1971bv2PQbfr/QUKvm3JqsxG6h5lhpeaPeej9fDY2Odq70jkl9xio+ItaMVx39RCW1ZT7P\n",
       "AwAQvCiyAQAB62hehc6cc7WTGmukKDSEH20dtfP8Ni06uVB2p2tDsO6RKbqz7z1KjOj4hxeREVbd\n",
       "OSNZMdGuHccLzl7UvCUFarb7tpVWWEioZvTPNuMmR7Pe2b/MpzkAAIIbv4kAAALWmq1n3OJx3Cre\n",
       "IU6nUxuK1unD/BWSXEVv39gMzepzp6JCo9u++DrFxoRo7u1Jigh33Wp+7HSt3ltZJIePe1aP7DFE\n",
       "abGpZrzpzHadKD/TzhUAAFw/imwAQECqu9ik3L2FZpzZM16piTdfDHY1DqdDq/KWKffsBrfxQd0M\n",
       "Tet5m0Ktode+sAMSu4XpzhnJCg1xFdr7Dldp5bpiOX1YaFssFs0emOM29o+9i3yaAwAgeFFkAwAC\n",
       "Uu7eIl1sdN3WzIZnN67Z0aT3Ty7Q7tKdbuMjk8foltQp17WD+I1K7R6umTmJar132me7KrRxm2+f\n",
       "i+6XmK7Byf3N+FDJMe0q+tynOQAAghNFNgAgIK1tteFZRHiIhvdP9mM2gedic73mH/u7bBcOu43f\n",
       "kjpFo5LHXPcO4h3Rt3ekpk9OcBtbvbFEOz6/4LU5r2XmgKlu/855+5ao2WFv5woAAL4YRTYAIOCc\n",
       "PlslW16FGY8elKLwsJB2rkBr1Y1V+tvRN9x6YFstVuX0nKHBCVk+yWFw/2hNGhvvNrZ49VkdOlbd\n",
       "xhWelxKTrHE9R5hxUXWx1p3Y5LP5AQDBiSIbABBwWq9iS9wqfiPKLpbqLdufdb6+2BwLs4bp9t5z\n",
       "lBGX6dNcRg6N1cihMWbsdEpvLyvU6YI6n+Vwa7/JCg8JN+OFB1eorrG+nSsAAGgfRTYAIKA0Ntm1\n",
       "fle+GffqHqPeKbHtXIHLimoL9Jbtz7rQ6LotOzIkSrP7zFVadE+/5HTLmHgN7h9lxs3NTr31fr7O\n",
       "lVz0yfwx4dGa2neCGVc31GjpkTU+mRsAEJwosgEAAWXrgbOqrmsyY1axr8/JquP6+9E3VdfsWiWO\n",
       "C4vTHel3KSnSf8+zWywW5UxKUN/eEebYxQaH/rowXxWVTe1c6TmT0scoPsL1Qc3Ko5+otLbcJ3MD\n",
       "AIIPRTYAIKB81OpW8dAQq0YNSvFjNoHhQPnneuf4PDU5Gs2xpIhkzUm/W3Hh8e1c6RtWq0UzpyUq\n",
       "tXuYOVZV06y/LsxTbV2z1+cPCwnTjP7ZZtxkb9KC/cu8Pi8AIDhRZAMAAsa5slrtO1ZqxiMGJCsq\n",
       "wnN9nIPRtuItWnLqPTmcrl2z06J7alafOxUVGtXOlb4VGmrVHbclK6Gb679nSXmj3no/Xw2NDq/P\n",
       "P7LHEKXFuj6w+fTMNp0sz/P6vACA4EORDQAIGGu3uxc93CreNqfTqXWFH+mjglVu4xmx/TSj12y3\n",
       "zb46i8gIq+bOSFZMtOvXk/yzFzV/aYGa7U6vzm2xWDR7YI7b2D/2LZLT6d15AQDBhyIbABAQ7HaH\n",
       "Pm5VZCd3i1RmT//f6twZOZx2LT+zVJvP5bqNGwlDNK3nrQqxdt52Z7ExIZp7e7Iiwl39q4+eqtXi\n",
       "1We9XvD2S+yrQcn9zPjg+aPaffaAV+cEAAQfimwAQEDYZTuv8irXjtMThvSQxWJp54quqbqxSu8e\n",
       "n699Zbvdxkcnj9OElEkB8TVL7BamO25LVkiIK9fdByq1eXdFO1d5xqwB02SRa955exfL7rC3cwUA\n",
       "AO4osgEAAeGjra4Nz6xWi8YYqX7MpvNxOB3acX6r/nDwFR2vOmaOW2TRpB7ZGpE8KiAK7Mt6pIRr\n",
       "Vk6iWqe88pNincr3bg/tlJhkje013IwLq89p3clNXp0TABBcKLIBAJ1eWWW9dhwuNuOsjETFRXe+\n",
       "Z4r95Wxdkf565E9anb9SjY4GczzEEqLpvWZoUDfDj9l1XN/ekZo42vVIgMMhzf+gQFXV3m3tdWvm\n",
       "ZIWHuHY6X7B/uaobarw6JwAgeFBkAwA6vU925svhcD2PO2FImh+z6Twa7A1ak79Kbxx+XWfrCt2O\n",
       "JYQnanb6XKXHZvgpO88YOTRG/fpGmnFNrV3zlhZ6dSO02IgYTe070TVnY63e3b/ca/MBAIILRTYA\n",
       "oFNzOJxau8214Vm3mHANSk/wY0b+53Q6dbjioF47+Iq2n98ip1wFZ4glVGO7T9BdGfepe2Tg9xC3\n",
       "WCyaPjlBia1ae+UV1WvFuuJ2rrp5k9PHKjGymxmvPZmr0xX5Xp0TABAcKLIBAJ3agZOlOltWa8bj\n",
       "snrIag2cZ4s97UJDhd49MV/vn1yg6qYqt2O9Y9J1b+aXNCxphKyW4PkRHx5m1aycJIWFuf67b91T\n",
       "oZ37L3htztCQUM0ZNN2MnU6n3tj9Li29AABfKHh+AgMAgtJHW12r2BZJ47K65oZndqddm8/l6vVD\n",
       "r+pYpc3tWHRotKb3nKHbes1UbFisnzL0roRuobptivsdDEvXnFPhuXqvzTk4ub8GJblaetlKTyj3\n",
       "zHavzQcACA4U2QCATqu6rlGb9xeZ8cD0BCXGR7ZzRXDKr8nTXw6/pnWFH6nJ4dr0yyKLshKG6t7M\n",
       "B9U3LjOgdg/viMz0KI0Z7voQodnu1D+WFKq2rtkr81ksFs0ZNF0hFldf8fn7lqi+6WI7VwEAujqK\n",
       "bABAp7VhV4Gamh1mPH5IDz9m43v1zfVaeeYDvWX7s87Xuz+DnBzRXXf2vUcTUicpzBrWxjsEn3Ej\n",
       "45TeK8KML1Q16Z1lRW4b43lScnSiJqePNeOKi5VadGiVV+YCAASH0C8+xTMMw0iT9LykuyQlSyqW\n",
       "9IGkn9psNu89VAUACEhOp1MfbXP1xo6ODNWQzCQ/ZuQ7TqdTB8o/19qCD1XbXOt2LMwaptHJ4zQ4\n",
       "ISuonru+XlarRbdlJ2rJhyWqrrFLko6fqdVHuSW6Y7p3HiWYljFR+4oPm228VtrW6bZ+U9Q7nl3u\n",
       "AQBX88lPZ8MwkiRtlvSvknZL+oukc5KelJRrGEaML/IAAASOY/kXdPqsa2OvsUaqQkOCv6isa67T\n",
       "/GN/09LT719VYGfEZurezAeVlTi0SxbYl0VGWDV7epJCQly3x2/YWqb9tqp2ruq48NBwzR6QY8Z2\n",
       "p0Nv7l7IJmgAgGvy1U/oZyVlSvoPm812t81me9Jms02U9IakYZL+Px/lAQAIEK1XsaWWXcWDndPp\n",
       "0OKT7+pU9Qm38diwWM3oPUs5vWYoOjTaT9l1LsmJYcq5pZvb2Hurzup8aYNX5huWOlgZCX3M+PPi\n",
       "w9pRuM8rcwEAApuviuzZkuyS/nTF+IuXXqf6KA8AQACob2jWp3sKzLhvWpx6JAV/cbnt/Badqj5p\n",
       "xhZZNDxppO7J+JJ6x6T7MbPOaVD/aA1vdTNcY6ND/1hSoIsNdo/PZbFYdOeg29w2l/vb3vfV2Nzo\n",
       "8bkAAIHNV0W2VZJTLd1XWru8U0uNj/IAAASAz/YVqr5VoTShC2x4dq7urD4pXGvGVkuI7uh7t8Z0\n",
       "H69Qq8+2UAk4k8bFKy013IxLyhu1cGWRHF64lbtHbHdN6DXKNVdtmT448pHH5wEABDZfFdm5atlk\n",
       "7T8uDxiGYVHLbeSStM5HeQAAAsCara5bxSPCQjR8QHc/ZuN9zY4mLT31vuxO1wcLY7uPV/fIFD9m\n",
       "FRisVotmTktUdJTrV5pDx2q0cWuZV+a7rd9kRYdFmfHSIx/pfK135gIABCZfFdk/l/S5pBcNw1hv\n",
       "GMYfJO2Q9M+SVkh600d5AAA6uTPnqnTkTIUZjxzUXRFhIe1cEfjWFa5VycXzZtwzureyEob6MaPA\n",
       "Eh0Volk5SbK2+q3mo09LdPSU52+UiwyL1O39XU+5Ndmb9Pc973t8HgBA4PJVkV0naculv+dI+ndJ\n",
       "l5tO5vswDwBAJ7d2W55bHOy3ip+oOq7t57eYcYQ1QlPSprk9+4sv1iMlXFPGuzZCc0pasKxI5Rc8\n",
       "/8z0mJ7D1CvO9X25vXCv9p075PF5AACByVcPeS2QdLekeZJ+IalALbuKvyjp22rZFO0/2ry6HYZh\n",
       "0D8DAILExcZmrdvhKrJ7Jseod0qsHzPyrrrmWi07vdhtbFKPbHYQ76Ahg6J1vrRRR0/WS5LqLtr1\n",
       "jyUF+vY/ZSo8zHOf51ssFs0dPEN/2fWOOfbm7oX6nzk/UWgIz88DQCex0zCM6zrRZrN59JNtr68g\n",
       "G4YxUi0F9k6bzfbPNpvtuM1mu2iz2XZJuk/SWUn/bhhGWLtvBAAIeht3F6qmvsmMJwztEbQruk6n\n",
       "UyvOfKCapmpzbGD8YPWNy/RfUgHOYrFo6sQEdU9y/Upx9nyDln50zuM9rXvHp2l0z2FmXFRdrFXH\n",
       "1nt0DgBAYPLFx61DLr1uvPKAzWarNQxju1qK7QxJx2/0za/3UwfDMMZJ2nmj7w8A8A2n06kVm1zt\n",
       "qyLCQzTGSPVjRt61r2y3bBcOm3FcWJzGp97ix4yCQ2ioRbNyErX4w1I1NDgkSbsPVCq9Z6Qmj03y\n",
       "6Fwz+0/V4ZLjamhu6c39/sGVmpoxQUlRCR6dBwDQIeMvLez6nC+ehb78EX3PNo4nqOXRqYo2jgMA\n",
       "uoCDJ8t0+myVGY8zUoN2w7Pyi2Vanb/KjC2yKDttusKs3NTlCXGxobp9aoJa3wSxfF2xzpVc9Og8\n",
       "MeHRuq3fZDO+2Nyg+fuWeHQOAEDg8UWRnauWQvvLhmFMbH3AMIwZkqZJyrXZbPS/AIAubMVnp9zi\n",
       "ScPb+mw2sNmddi09/b6aHK4NuUYmj1ZKVPCu2vtDn56RmjAqzowdDmnjNs//qjGh1yilxiSbce6Z\n",
       "7TpScsM35gEAgojXi2ybzVatls3NQiRtMgxjuWEYvzcMY5WktZIqJX3H23kAADqv0gv12rL/rBkP\n",
       "Tk9Q94Sodq4IXJvOblRhbYEZp0SmanjSKD9mFLxGDYtVWkq4Ge87XKULVU3tXHHjrFar7hx0m9vY\n",
       "X3e/K4fD4dF5AACBwyets2w229uSJklaKmmipG9JGqWW3cYn2Gw2+l4AQBe2estpORyujakmjQjO\n",
       "VeyCmjzlnt1gxqGWUGWn5chqoZOlN1gsFo0a5tqd3uGQNu8q9/g8mYnpGpY62IxPXyjQxydzPT4P\n",
       "ACAw+KzPxKWHzr/qq/kAAIGhqdmuNVvPmHFSfKQG9030Y0be0WBv0NJT78sp14cJE1MnKy483o9Z\n",
       "Bb++vSPULT5UlVXNkqRtey9oxpTuiozw7PP+swfk6GjpSTU5WuZ5Z/8yTUofp/iI4G1BBwC4Nj46\n",
       "BwD41aZ9RbpQ02DGk4anyRqEbbvW5K9SRaNrj8++sZnqHz/Qjxl1DRaLRSOHxJhxQ6NDO/Zd8Pg8\n",
       "8ZFxmpbp2h2+trFOC/Yv8/g8AIDOjyIbAOBXrdt2hYVaNS6rhx+z8Y7DFQe1r2y3GUeFRGtSjylB\n",
       "2wO8sxnUP1qREa5feTbtLJfd7tm+2ZI0OX2sW/uudSc26WR5nsfnAQB0bhTZAAC/OZpXoaN5rlXF\n",
       "MYNTFBXhsyeZfKKqsUorznzgNpadNk0RIZF+yqjrCQ2xaJjhWs2urG7WfltVO1d0cB5rqOYMnG7G\n",
       "TjlbNkFzsgkaAHQlFNkAAL9pvYotBV/bLqfToWWnF+uivd4cG5I4TD1jevsxq65p2OBohbR6DPvT\n",
       "7WVyOj2/mj24e38NTu5nxkfLTir39HaPzwMA6LwosgEAfnGhukG5e4vMuF+veKUlx7RzReDZdn6r\n",
       "TlWfMOOE8ESNSR7nx4y6rsjIEBkDos24qLhBJ/LqvDLXnIG3KsTiqujf2L1A+4uPeGUuAEDnQ5EN\n",
       "APCLNdtOq9nuuo12cpCtYhfXndMnhR+ZsdUSoqk9b1WINbhuhw8kI7Lcd/rO3V7mlXmSohM0ua/r\n",
       "w5SLzQ164dPfaXPeLq/MBwDoXCiyAQA+12x36MPNp824W2y4hvRL9l9CHtbsaNKSU+/J7rSbY2O7\n",
       "j1diRPC1Jgsk3eJDlZnuehbedrJWxSUN7VzRcdMzblFmQroZ2x12vbzlDX14dL1X5gMAdB4U2QAA\n",
       "n9t24JzKKi+a8S3DeirEGjw7bX9SuFYlF8+bcc/oXspKGOrHjHBZ63ZekpS7wzur2aEhoXp05P0a\n",
       "mjLIHHPKqTf3LNSC/R945XlwAEDnQJENAPC55a02PAsNsWj8kOBp23Wi6ri2nd9ixhHWCE1Jy6Fd\n",
       "VyfRIyVcqd3DzHjPoSpV1TR5Za7QkFA9OGyuxvce5Ta++NBq/XHHPNkd9jauBAAEMopsAIBPnSqq\n",
       "1MGTrtXDkQNTFBsV1s4VgaO+uU7LTy92G5vUI1vRodFtXAFfs1gsGjnU9Wy23e7Ult0VXpvParFq\n",
       "7qDbdGu/yW7jn5zarN989ic1Njd6bW4AgH9QZAMAfGrlZ6fc4knD0/yUiWc5nU6tyluu6qZqc2xA\n",
       "/CD1jcv0X1K4psw+kYqLde3+vXVPhRobvdfL2mKxaHrmJN1t3C6LXHc07Cz6XP+18RXVNNZ6bW4A\n",
       "gO9RZAMAfKa6rlHrdxWYcXqPOPVJjfNjRp5zoOJzHao4YMaxYXGakDrJjxmhLVarRSOHuFaz6y86\n",
       "tHP/Ba/PO67XSH1l+N0KsboK/COlJ/Szdb9ReZ335wcA+AZFNgDAZz7enqfGJtdzqJODZBW7qrFS\n",
       "q/NWmLFFFmWn5SjMGhy3wQejwQOiFBHuWlXetKNcDof3NyMbkjJQXx/1JUWERphj+VVn9ZN1v1Zh\n",
       "1Tmvzw8A8D6KbACAT9gdTrdbxWOjwjR8QHc/ZuQZTqdDy04v1kW7a7f0oYkjlBoVPJu5BaOwUKuG\n",
       "DnbtNF5e2aSDR6vbucJzMhL66LExX1FsuGv+0rpy/XTd/+hY2al2rgQABAKKbACAT+w6Uqzi8joz\n",
       "njg0TaEhgf9jaEfJNp2qdu2WnhiRpFHdx/gxI1yvYUaMrK2+BT/dXuaz1lo9YlP0r2O/puQoV+/0\n",
       "msZa/WL9/2rP2QPtXAkA6OwC/7cbAEBAWJHrKkStVosmDgv8ld6S+vNaV/CRGVstVmWnTVeIJaSd\n",
       "q9BZREeFaFA/187v+Wcv6kxhvc/mT4jqpsfGflW94lz/LzTYG/Vi7mvaeGqrz/IAAHgWRTYAwOsK\n",
       "zldrz9ESMx7WP1nxMRHtXNH52Z12fXB6kZqdzebYmO7jlRiR2M5V6GxGDolxiz/dXtbGmd4REx6t\n",
       "fxn9ZQ1IyjDHHE6Hfr/9b1p2ZK1PcwEAeAZFNgDA665s2zV5eE8/ZeI5uWc36GxdkRn3iErTkIRh\n",
       "fswIHZGYEKa+vV0f+Bw+VqOS8gaf5hAeGq6HR9ynET2y3Mbn7Vusv+9dJIfTe+3FAACeR5ENAPCq\n",
       "uotNWrcj34x7do9RRlpgt+0qrM3XprOfmnGYNUxT0nJksVjauQqdVet2Xk617DTuayHWED0w5A5N\n",
       "Sh/rNr7C9rF+u/kvOldT0saVAIDOhiIbAOBV63fmq77BdUv15OE9A7oYbbQ3aumpRXLKtbo4IXWS\n",
       "YsNi27kKnVnPHuHqnuRqt7brQKVq6prbucI7LBaL5gycrpkDprmNbyvYo++u+ple2fqm8iuL2rga\n",
       "ANBZUGQDALzG6XRqRatbxaMiQjVqUGC37fq4cI3KG1zP7faNzVD/uIF+zAg3y2KxuD2b3dzs1Nbd\n",
       "FX7LJ7vveN0/ZI7bh1FOp1ObzmzX91c/r19vel3Hy077LT8AQPsosgEAXrPvWIkKzteY8YQhPRQW\n",
       "Grg7bx+vPKZdJdvNODIkSrf0yA7olXm06J8RpdgY1/fmlt0Vamry37PQo9KG6uujHlRabOpVx3YU\n",
       "7tOPP35R/7XhFR06f9RnbccAANeHIhsA4DUrNrlWsS0W6ZZhaX7M5ubUNddp+ZklbmOTe0xVZEik\n",
       "nzKCJ1mtFg3Pcq1m19bbtftgpR8zkvolpuvx8Y/okZH3K71br6uOf158WD9f/1s9t+5/tLtoP8U2\n",
       "AHQSFNkAAK8oLq/T9kPnzDgrI0mJ8YFZkDqdTq3KW6aapmpzbFA3Q31i0/2YFTwta2C0wsNcdyXk\n",
       "7iiXw8+Fq8Vi0aDkfvrm2K/pG2O+4tbq6zJb2Un939w/6JmPXtDmvF1yONiNHAD8KdTfCfw/9u48\n",
       "OK71PBP7c3rfADT2nQCI5WDn5Xp5r3wlXWuxNkv2eElmMqVkMqkktpMZV00mlUzKUzM1mbjicTJ2\n",
       "aSBF4mkAACAASURBVMaSbMuOVm9aLOnumy4JktgBAgRBNlfsS2MHGkDvJ3/w3u90U5d9CRLor0/3\n",
       "86tiXbxNHPKBSgDP2993vpeIiLLTK5fvI7E/ea7LuGO7JtbHcWPjuqjzrHk4XXpOYiI6CjarCa3N\n",
       "LoxP7gIAVtfDuHkngPbmzDgNv85bgzpvDRZ2lnFpegA3Vu4k/f705hz+qPfPUZlXhl9p/SW8UP8s\n",
       "LCbjPp5BRGRUXMkmIqJDFwxH8Ub/tKhLC51orC6QmOjJbYW38OrsS6JWoOAjFR+D1WRNcRUZVafq\n",
       "QeIj9hcH1h79yZJU5ZXjNzt/Gb997ss4UdH2c2cCLO748dXBb+Ofvfyv8drtdxGOhiUlJSLKTWyy\n",
       "iYjo0F0cnUdgPyJqo47t0rQ4fjL1Q4RiQfFaR1EXSp0/fxgVZQeP24ymeqeop+b2MbuwLzHRo5W6\n",
       "i/ErbZ/B//zsP8GZqm6YH1q1Xt1bx1+M/A1+5+XfQ9/siKSURES5h002EREdKk3T8NKle6K2W804\n",
       "2VIqMdGTG/D3Y2pH/1qK7MXoLj4pMRGlQ3d78szznsHMW81OVOgswOfVT+Cfn/9v8VztaVjNybss\n",
       "toLb+H+v/Bn+qPcb2AkFHvGnEBHRYWGTTUREh2ry/jruL2yL+lRrGew24x0BsrLvxzvzb4japJjx\n",
       "kYqPwqzwGddsV1xoRXWlXdTXfDtY38z8Ldd5dg8+3fRR/O5z/xQfqz8Ph8We9PtXZobwL177dxia\n",
       "H5eUkIgoN7DJJiKiQ5W4ig082CpuNLF4FH8/9QNEtah47VTJGXjthRJTUTp1t+njvDQNuDS0LjHN\n",
       "wbisTny84Tn87nP/HZ6rPZ30e5vBbfzBpa/iT/q/hb1wZm6DJyIyOjbZRER0aNa29tF7bVHUzbVe\n",
       "lHidKa7ITBcX38XS3oKoK5yVaPW2S0xE6VZTaUehV9+BMTS+ib39mMREB2e32PDppo/in5z8TRQ5\n",
       "vUm/9+5UL/7Fa/8OY0uTktIREWUvNtlERHRoXuudRiyuz+0y4ir2XGAWl5cuitpqsuL5ihcMeXAb\n",
       "PTlFUXCiTX82OxzR0H91Q2KiJ3fMW43/4ew/xtnqZ5JeX9vfwL+/8BX86dD3sB8JPuJqIiI6KDbZ\n",
       "RER0KCLROF7rmxJ1YZ4dLceMtb06Eo/gx1Pfhwb9jYJzZc/BbfWkuIqyVWO9Ey6nfqvUN7qBeMKb\n",
       "SEZiM1vxuZYX8eVnfg0Fjvyk33vrbg/+5ev/Jyb9tySlIyLKLmyyiYjoUPReW8DmTkjU5zsrYTIZ\n",
       "a/V3bG0U6yH92dtjnno05DVKTEQymc0K2lv0Z7O3dqK4dX9XYqKn11B4DL919h/jVGVn0uv+3TX8\n",
       "m5/9R/x/I3+LEOdqExE9FTbZRER0KF66dF98bDGbcLrVWLOkNS2OgeVeUdtMNpwvf57bxHNca6ML\n",
       "if8XGBgz5pbxRHaLHb/c+in8o+5fQZ7NnfR7r9z+Gf7X1/89bq3ee8TVRET0YdhkExHRU7s3v4Ub\n",
       "U/oK8InmErgc1hRXZJ6723exFloVdVOBCrvZITERZQKXy4y6Gv3/BzfvBLAdiEhMdHiaixvwW+e+\n",
       "jO7ytqTXFwN+/N47f4jvjv0IkVh2fK1EROnEJpuIiJ7ay5fvJ9XnDXjg2YD/ivhYgYJWb1uKz6Zc\n",
       "0trkEh/HNWD42pbENIfLaXXgV9s/g/+i84twW/WvU9M0/PjmG/jf3vh93FuflpiQiMh42GQTEdFT\n",
       "CeyF8e7InKiPleehutRYB4Wt7Ptxd/uOqGs9dTzsjISaSjvcLrOoB8c2EdeMeQDao7SWNuK3z30Z\n",
       "7aXNSa/Pbi/iX731B7g41S8pGRGR8bDJJiKip/LW4AzCEX1+sBFXsQf9fUl1W2GHpCSUiUwmJWk1\n",
       "e30rgrtTxj4A7YO4bE78RucX8Gvtn4PTom+Rj2tx/OnQd7EX3peYjojIONhkExHRE4vHNbxyeUrU\n",
       "HqcVnY3F8gI9gf3oHsbXr4q62F6CUoexDm2jo6f+3AFom/LCHLHOchW/fe7LaCluEK+FYxH0zY1I\n",
       "TEVEZBxssomI6ImN+PxYXNNX9M62l8NiNtY/LaOrw4jE9cOdWgvbeaI4/RyP24yaSruoJ2/vILAb\n",
       "lZjoaHnsbvx6xxdgN9vEa9wyTkT0eIx1J0RERBkl8cAzkwKca6+QmObg4loMg369cXCanajLa0hx\n",
       "BeWytmZ9y3gsDgxPZM8BaB/EaragrUx/Rnty5TZWdtckJiIiMgY22URE9EQWV3cxfHNZ1G0NxSjw\n",
       "2FNckXlubt7AdkRvlFq8bTAr5hRXUC47Vu2Ay6nfOg2ObULLsgPQHnbiofFePdMDkpIQERkHm2wi\n",
       "Inoir1y5j8T+4jkDHng2sNwrPjYpZjQXqBLTUKYzmRS0NOqr2asbYdyb3ZOY6OjVeWtQYM8Tdc/U\n",
       "QNa/sUBE9LTYZBMR0YEFw1G8OTAj6rJCFxqq8iUmOriF3XnM7upfQ0PecTgtTomJyAgSTxkHHqxm\n",
       "ZzNFUdBV3irq+Z0l3NuYSXEFERGxySYiogO7ODqP3X39sLDznRWGOyxswN+bVLcWtktKQkaS77Gg\n",
       "OuEAtAnfDnb3s/cANADorkjeMs4D0IiIUmOTTUREB6JpGl6+pB94ZreZcVI11sirnfA2rm9MiLrc\n",
       "WYEiu7FGj5E8bQmr2dGYhtGJbYlpjl6puxiVefr3+OWZQUTjMYmJiIgyG5tsIiI6kJtTG7i3oB8W\n",
       "dkotg91qrMPChlYGENf0JqGtsENiGjKauhoHHHb9FmpgbCPrn1PuTjgAbTsUwPjSpMQ0RESZjU02\n",
       "EREdyEuX7yXVz3YYa2xXNB7ByOqgqD1WD6rdtRITkdGYzQpaGvXn9/1rYczM70tMdPS6yluTHgnh\n",
       "lnEiokdjk01ERI9tYzuIK+MLom6qKUBZoSvFFZlnYn0ce1H9ROhWbwdMCv85pINpbXIn1f1ZfgCa\n",
       "2+ZCU2G9qAcXxrEXzu43FoiInhTvKoiI6LG93j+NaEzfFnveYGO7NE1Df8KBZxbFgsb8ZomJyKi8\n",
       "+RZUlttEfe3mNvaD2f2ccuIBaJFYBH1zIxLTEBFlLjbZRET0WKKxOF69MiVqr8eO1roieYGewHTg\n",
       "Pvz7y6JuKmiBzWxLcQXRoyUegBaJarg6uZXis41PLWlM+n7hlnEiog/GJpuIiB5L/8QS1reDon62\n",
       "owImk7HGdvUvJ4/tUr0c20VPrv6YE3ab/j0wMLaZ1QegWc0WtJfqOz8mV25jZXdNYiIioszEJpuI\n",
       "iB5L4oFnFrOC023lEtMc3HpoHbe2fKKucdci35YvMREZncWsoPm4vpq96A9hbimY4grje3hmds/0\n",
       "gKQkRESZi002ERF9qKnFbUzc1VesuhpL4HFaJSY6uCF/HwB9lbGVY7voECRuGQeAgavZfQBavbcG\n",
       "+fY8UfdMDWT16j0R0ZNgk01ERB/qlcv3k+rnuox14FkoFsToqn5Ik9dWiAqnsb4GykyFXivKS/Xn\n",
       "lMdubCEUyt4D0BRFQVd5q6jnd5Zwb2NGYiIioszDJpuIiFLa3Y/gZ8Ozoq4p86CmLC/FFZlnbG0U\n",
       "4XhI1K2FHUkzf4meRuJqdjiiYezGtsQ0R+/EQ1vGeQAaEVEyNtlERJTS20MzCIb1lTmjje2Ka3EM\n",
       "+PtEbTfZ0ZB3XGIiyjbH6xywWZMPQMtmpe5iVHrKRH15ZhDRePau3hMRHRSbbCIieqR4XEvaKu5y\n",
       "WNDVWCIx0cHd2bqFjdC6qJu9rbCYLBITUbaxWExoanCKem4piIXl3DkAbTsUwPjSpMQ0RESZhU02\n",
       "ERE90tjtFcyv7Ir6bFs5rBZj/dPR79fHdilQoHrbUnw20ZNpa3Yn1dm+mt1ZriY9csEt40REOmPd\n",
       "KRERUVq9nLCKrSjAuY4KiWkObnl/CVM7+uixurwGuCyuFFcQPZniQitKi/UT90evbyEcjktMdLQ8\n",
       "NjcaC+tEPbgwjr3wvsRERESZg002ERF9oOX1PQxMLom6ta4IhXkOiYkObmC5L6lu83JsFx2dxAPQ\n",
       "QuE4xn3ZfQBa4pbxSCyCvrlRiWmIiDIHm2wiIvpAr165j8Txt0Yb27Ub2cW19TFRlzrKUOIslZiI\n",
       "sl1jvRNWi76FejDLt4y3ljTCZtbHl/VMc8s4ERHAJpuIiD5AOBLDG/367NsSrxON1QUSEx3cyOog\n",
       "YlpU1K2F7RLTUC6wWk1orNcPQJue38fySijFFcZmNVvRXtok6uv+W1jdXU9xBRFRbmCTTUREP6fn\n",
       "6jx29sKiPt9ZYai50rF4FMMrA6J2Wdw45qmXF4hyRltz8jP/A2MbkpKkR/dDM7N7pgce8ZlERLmD\n",
       "TTYRESXRNA0vXdIPC7NZTTillqW4IvNMbl7HTmRH1Kq3FSaF/+TR0SspsqK4UB8RN3J9C5Fo9h6A\n",
       "Vu+tRb49T9QXp/uhJT5nQkSUg3jHQURESW7NbODO3JaoT7aUwWEzzlxpTdMwsKyP7TIrZjQXqBIT\n",
       "US5RFAWtTfo4r/1gHBO+nRRXGJuiKOgqbxX1/PYS7m/MpLiCiCj7sckmIqIkiWO7AOB8p7EOPJvf\n",
       "ncXC3ryoj+c3wW421qnoZGzNDU6YzfrjFdk+M/vEQ1vGOTObiHIdm2wiIhI2d0Loubog6oaqfJQX\n",
       "GWuudL+/N6lu9fLAM0ovm82Exjr9jZ37s3tYWc/eA9BK3cWo9OiPlFyeGUIsHpOYiIhILjbZREQk\n",
       "vDkwjWhMf370OYOtYm+Ft3BjY1LUla5qeO2FEhNRrmptdifV2T7OK/EAtK3QDsaWbkhMQ0QkF5ts\n",
       "IiICAMTjGl7vmxZ1vtuGtoZiiYkObsjfDw36mwRtXMUmScpLrCgs0M8yGJ7YQjSWvQeCdZarSRMI\n",
       "LnJmNhHlMDbZREQEABi/s4Ll9T1Rn2krh9lknLFdkXgYI6tDos635qPKXSMxEeUyRVHQmjDOa3cv\n",
       "hsnb2XsAmsfmRmNhnagH58ewF9mXmIiISB422UREBAB4LWEVWwFwprVcXpgnML42hmBMv6lvLWw3\n",
       "1Gxvyj7NDS6YE+60Bq7mzpbxSCyC/tlRiWmIiORhk01ERNgKhNA/sSjq5mOF8ObZJSY6GE3TMJBw\n",
       "4JnVZMPx/GaJiYgAh92EhmNOUd+Z3sXaRlhioqPVWtIIm9kmam4ZJ6JcxSabiIjw9uBs0vOi59qN\n",
       "tYp9b+cuVoMrom4uaIHVZJWYiOiBxC3jANA3uiEpydGzmq1oL20S9aT/Nlb31iUmIiKSg002EVGO\n",
       "0zQNb/RPiTrPZYV6zFgncg8sXxEfK1Cg8sAzyhCVZbakA9CGrm0iHImnuMLYEreMa9BwaXpQYhoi\n",
       "IjnYZBMR5biJe2uYX9kV9Sm1HGazcf55WA2u4M72bVHXeurgsXokJiLSKYqC9hZ9nNd+MI6xG9sS\n",
       "Ex2tem8t8u3699/FqX5oWvaeqk5E9EGMcxdFRERH4o2EA88A4ExbmaQkT2bQ35dUtxVyFZsyS/Nx\n",
       "J6xW/RC+3pH1rG08FUVBV3mrqOe2F3F/Y1ZiIiKi9GOTTUSUw3b2wrg8viDqppoCFBc4U1yRWfaj\n",
       "+xhb008wLrIXo9RhrOfJKfvZrCa0HNefzV5YDmFmIXvHWyVuGQd4ABoR5R422UREOexnw7OIRPXn\n",
       "Q8+0VUhMc3Cjq8OIxCOibivs4NguykjtLckHoPWOZO8BaGXuElR49B0xl2eGEIvHJCYiIkovNtlE\n",
       "RDlK0zS8nrBV3OWwoL2hSGKig4lrMQyt6FvFnWYn6jwNEhMRPVphgRVVFfp4q2s3t7GzG5WY6Ggl\n",
       "rmZvBbcxvnxDYhoiovRik01ElKN80xuYWdoR9Sm1DBYDHXh2c/MGtsJbom7xtsJsMktMRJRaR8IB\n",
       "aLE4MDi2KTHN0eoqU6FA31VycYpbxokodxjnboqIiA7V6w8deHa2zVjPMg8s94qPTYoJzQWtKT6b\n",
       "SL66GgfcLv2NoP6rG4jFs/MANI/djcaiOlEPzo9hL5K9z6ETESVik01ElIN29yPoGZsXdX1lPkoL\n",
       "XSmuyCwLu/OY3Z0RdUNeI5wW4xzYRrnJZFLQ1qx/n23tRHHj9k6KK4wtcct4OBbBwNxViWmIiNKH\n",
       "TTYRUQ66MDqHUFg/iOhsu8FWsf29SXUrx3aRQbQ1u2BKuPvqHc3eA9BaSxphNVtFfXlmUGIaIqL0\n",
       "YZNNRJSDEreKO2xmdB4vlpjmYHYiO7i+MSHqcmcFiuzGyU+5zekw4/gxfdfF3ek9+FdDEhMdHavZ\n",
       "iraSRlGPL9/EZnBbYiIiovRIa5OtquqXVFW9oqrq1nu/3lVV9RPpzEBElOvuzG7i3rx+YNhJtQxW\n",
       "i3EODBteGUBc01fh2wo7JKYhOrgO1Z1UZ/Nqdme5flaCpmnonRmWmIaIKD3S1mSrqvrbAH4EoAbA\n",
       "9wC8DeA5AK+qqnomXTmIiHLd6/3GPfAsGo9geGVA1B5rHqrdtRITER1cWYkVJUX6NuqRiS2EQtk5\n",
       "R/p44TG4rPrK/eWZIYlpiIjSIy1NtqqqtQD+CMAggHafz/dbPp/vHwD4IgALgH+TjhxERLluPxTF\n",
       "hZFZUdeW56Gi2J3iiswysT6OveieqFu97TApfPKJjEVRFLQnjPMKheMYub6V4grjMpvMaC9rEfWt\n",
       "tXtYDqxITEREdPTSdWfyP+FBM/0/+ny+wPsv+ny+1wFcBMATa4iI0qDn6jz2E1bMjLSKrWka+hMO\n",
       "PLOarGjMb5aYiOjJNdU7YLfpc6R7Rzagadk5zqurTE2quZpNRNkuXU32LwG47fP5Rh/+DZ/P93Gf\n",
       "z3c8TTmIiHLaGwkHntmtZnQ3lUhMczDTgfvw7y+LujG/GTazTWIioidnsZigNurjvPxrYdyb2Utx\n",
       "hXHVFlShwJ4n6kvTg1n7hgIREfBgdflIqarqBtAJ4AeqqioAfhnAKQBxAD0+n+9nR52BiIiAqcVt\n",
       "+Gb0A5ZONJfCZjXOgWf9yw+N7fJyExQZW3uLG+M3dkXdO7KBxjrjPL7xuBRFQWe5Klaw57YXMbM1\n",
       "jzpvjeRkRERHIx0r2ZXv/T0RAJcB/D2Af40Hz2G/rarq26qqetOQg4gop73eN5VUG2k29npoHbe2\n",
       "fKKucR9Dni1fYiKip5efZ0FtlV3Uk7d3sLUdkZjo6HQlnDIOPFjNJiLKVulosgvf++8/BOAF8EkA\n",
       "LgB1AL4N4EUAf5mGHEREOSsUieFnw3Oiripxo7rUIzHRwQz6+wDo20s5touyReI4r7gG9F/NznFe\n",
       "Ze4SlLr1efaXZ4YQ1+ISExERHZ10NNnvPzAXBfAln8/3js/nC/p8vlkA/xTAHIAvqapalYYsREQ5\n",
       "6fLYAnb39RWys+0VEtMcTCgWxNXVEVEX2gpR7jROfqJUaqvsyPfoj20MjG8iGsu+55UVRUFXmb6a\n",
       "vbq3jlur9yQmIiI6Okf+TDaA908Tv+Xz+W4n/obP54uqqvoKgP8eQBuAhYP+4aqqZt+/REREh+yN\n",
       "hNnYVosJJ5qNc+DZ1dVRhOMhUbcWdkBRlBRXEBnH++O8+ka2AQCB3RgmfNt4pr1AcrLD11mu4p37\n",
       "l0V9aXoQraVNEhMRUZYbUlX1wz8LgM/nO9Qbi3SsZE+999/AI37//RM/eMdERHQEZpd3cP3emqi7\n",
       "m0rgsKXjPdanF9fiGEwY22U3O9CQx4EUlF1aGl0wm5PHeWWjQmcBavIrRd07O4xoPJbiCiIiYzry\n",
       "uyyfz7elquokgHZVVd0+n2/3oU85hQcP2l17wj//sZpzVVVPA+BgRiLKOYmr2ABwts04W61vb/mw\n",
       "EdYbjpYCFWaTMd4gIHpcDrsJTfVO+O4+GOE1Pb+PheUgqsodkpMdvq7yVsxtLwIAdsK7GF+6gVNV\n",
       "nZJTEVGWOuPz+YZl/MXpmpP9ZwDyAPzBe2O8AACqqn4RwMcAvOTz+ZYfdTERET2ZSDSGtwdnRV1R\n",
       "5EJtuXEOPBtIWMU2wYQWb5vENERHJ/EANCB7V7Pby5qTHve4NMNTxoko+6Sryf4KgNcB/BaAq6qq\n",
       "fl1V1ZcA/AAPnsP+nTTlICLKKX3XlrCzFxb1mfZywzzPvLS3iKmd+6Kuy2uAy+KSmIjo6JQUWVFe\n",
       "YhX11ckt7AWzbyu1x+bG8cJjoh6cH0MoGk5xBRGR8aSlyfb5fHEAXwTwvwNwAPhvAJwE8E0A53w+\n",
       "39yjryYioif1ev+U+NhiNuFkS5m8MAc04O9Lqjm2i7Jd4mp2JKpheHxTYpqj01mmH0QUioYwvDAu\n",
       "MQ0R0eFL24NtPp8vAuD/fu8XEREdscXVXYzdXhV1Z2MxnHZjPM+8GwlgYn1M1KWOMhQ7jHMiOtGT\n",
       "aDjmhHN4G/vBB/Oj+0Y38JGzRTAZZPfJ42orbcJLt95G7L1Dzy5ND+L5Y2ckpyIiOjzp2i5ORERp\n",
       "9vMHnpVLSnJww6uDiGn6VlmuYlMuMJsVtDbpj0SsbUZw+97D58Uan91ih1qsTwkYXbqOQCj7vk4i\n",
       "yl1ssomIslA0FsdbgzOiLvE6UV+ZLzHR44vGoxj2D4jabXGj1lMnMRFR+rQ1u5G4cN07mp0HoHWW\n",
       "t4qPY/EY+uZGJaYhIjpcbLKJiLLQ4OQSNndCoj7bZpwDzyY3JhCIBkStetthUvjPFeUGj9uMuhp9\n",
       "dJfvbgBrm9l3MFhzUT3sFruoL/OUcSLKIrxrISLKQq/16VvFzSYFJ1VjHHimaRr6E8Z2mRULmgpa\n",
       "JCYiSr/EA9A0AP1ZuJptMVvQVtok6kn/baztZd/XSUS5iU02EVGW8a/vYdTnF3V7QxE8TmuKKzLH\n",
       "7O4MlvYWRN2Y3wS72Z7iCqLsU1Vug7dAP6RwaHwLkUhcYqKj0VWmbxnXoOHKzLDENEREh4dNNhFR\n",
       "lnlzYAaaptdn2yvkhTmg/uUrSXVrYbukJETyKIqCjhZ9NXsvGMPYjW2JiY5GfWENPDb9oLdLMwMp\n",
       "PpuIyDjYZBMRZZFYLI63BvSt4kX5DhyvLpCY6PH595dxc/OGqKtcNSiweSUmIpKnucEJq0U/R6F3\n",
       "ZANa4rtnWcCkmNCRMDP7/sYs5reXJCYiIjocbLKJiLLIsM+P1a2gqM+0lRtmxm7P4rt48ATqA+1F\n",
       "ndKyEMlms5nQfNwp6vnlIGYXgimuMKauhFPGAR6ARkTZgU02EVEWeSPhwDOTApwyyIFn/v1lTG5c\n",
       "F3WZsxwVzkqJiYjkS9wyDgC9o+uSkhydqrxyFDn1HSuXpgezbsWeiHIPm2wioiyxFQhh8MayqFvr\n",
       "i5DvtklM9PguLvwMiavYJ4pPGWbkGNFRKfRaUVWufw+P39xBYDcqMdHhUxQFnQlbxpcCK7i7Pp3i\n",
       "CiKizMcmm4goS1wZX0A8rjeqp1vLJaZ5fMv7S7ixqa9ilzsrUOHiKjYRkDzOKxbTMDC2KTHN0egs\n",
       "V5PqyzNDkpIQER0ONtlERFmi56o++sphM6O51hiHhj1YxdZ1F5+UlIQo89TVOOB26bdrvSPriEaz\n",
       "a5xXqbsYFR790ZYrM0OIx7PraySi3MImm4goC6xvBzFxb1XUHceLYTFn/o/4pb1F3NycFDVXsYmS\n",
       "mUxK0mr2zm4Mo5PZN86rK2E1eyO4hcmVWxLTEBE9ncy/AyMiog91aWw+aTZ2d1OJvDAHcHExeRX7\n",
       "RPEpSUmIMldbsztpnFfPwBriWXY4WOJz2cCDA9CIiIyKTTYRURa4lLBV3OWw4Hh15m8VX9pbhC9h\n",
       "LnaFsxLlrgqJiYgyk91mQmuTS9T+tTBu3QtITHT48h15qPPWiLpvbhSRWERiIiKiJ8cmm4jI4FY2\n",
       "9nFjSh/t03m8BGZT5p/MfWHhnaT6RAmfxSZ6lK42NxIP3L84kH3jvBK3jO9F9jG6eD3FZxMRZS42\n",
       "2UREBndpbD6pNsJW8cW9BdzauinqClcVypxcxSZ6FI/bgsY6p6jvzexhbnFfYqLD11baDJOi35pe\n",
       "muGWcSIyJjbZREQGd/Gq3mTnuayor8yXmObxPHyi+AmeKE70obrbPUl1tq1mu6xONBXVi3p44Rr2\n",
       "Itn1RgIR5QY22UREBra4uos7s/rc3M7GEpgyfKv44u580ip2pasKZU5jzPQmkqmkyIrqCpuor/m2\n",
       "sb4Zlpjo8HWVt4qPI7EIBufGJKYhInoybLKJiAzMiFvFL/BEcaInlriarWnApaHsWs1uKTkOq9kq\n",
       "am4ZJyIjYpNNRGRgPQlbxQs8NtSW50lM8+EWdudwe8sn6ipXNUqdZRITERlLTaUdhV6LqAfHN7G3\n",
       "H5OY6HDZzFa0ljSK+tryTWwGs28uOBFlNzbZREQGNbu8g/sL+s1nV2MJTEpmbxW/8NCz2N18Fpvo\n",
       "QBRFwYk2fTU7EtHQf3VDYqLDlzgzO67F0Tc7IjENEdHBsckmIjKoS1eNtVV8fncOd7ZvibrKVcNV\n",
       "bKIn0FjvhMup38JdHl5HNBqXmOhwNRbVwWl1iPryNLeME5GxsMkmIjIgTdPQk/A8dlG+A9WlnhRX\n",
       "yHfx4bnYXMUmeiJms4LOVreoA7sxjF7Pni3VZpMZ7aUtovat3YM/sCoxERHRwbDJJiIyoOmlHcwu\n",
       "B0Td1VgCJYO3is8FZnFn+7aoq901KHGWSkxEZGztzW5Yrfr3fM/gGuKaJjHR4eoqV5PqyzNDkpIQ\n",
       "ER0cm2wiIgPqMdhW8YuLyavYfBab6OnYbCa0NrlE7V8Lw3c3kOIKYzlWUI18u36QI08ZJyIjYZNN\n",
       "RGQwmqahZ1Rvsku9TlQUu1JcIddcYAZ3t++IutpdixIHV7GJnlZXqxuJG1guDmTPOC9FUdCZsJo9\n",
       "u7WAmc35FFcQEWUONtlERAZzd24Li2u7ou5qyuyt4hf4LDbRkfC4LWisc4r6/uweZhf3JSY6XF3l\n",
       "rUn1u/d7JSUhIjoYNtlERAZjpK3is4Fp3Nu5K+oa9zEUOzI3L5HRdLcnH3jYM7AmKcnhK3eXoNRd\n",
       "LOo3713CTih7tsQTUfZik01EZCAPnypeUeRCWWHmbhV/eC42V7GJDldJkRXVFTZRX/PtYH0zAtMh\n",
       "IAAAIABJREFULDHR4VEUBedr9J8ZoWgIr9z6WYoriIgyA5tsIiID8U1vYGVD3w6ayavYM4Fp3H9o\n",
       "FbvIUZziCiJ6Eomr2ZoGXBrKnmezT1S0oyDhALRXb/8Me+Hs2RJPRNmJTTYRkYE8vFW8K4ObbD6L\n",
       "TZQeNZV2FHktoh4c38TefkxiosNjNpnxkbqzot6L7OPV21zNJqLMxiabiMgg4nENl8YWRF1d6kZx\n",
       "gTPFFfJM70xhaueeqGs9dVzFJjoiiqIkrWZHIhr6RjckJjpcJys64LG5Rf3yrXewHwlKTERElBqb\n",
       "bCIig5i8v4b1bf3Gsqsxc1exH56LzVVsoqPVWOeE26Xf1l0ZWUckGpeY6PBYzBY8f+yMqAPhXbx5\n",
       "96LEREREqbHJJiIyiIsG2So+vXMfUzv3RX3MU49Ce5HERETZz2xW0Knqq9mB3RhGr29JTHS4zlR1\n",
       "wWXVd+789OZbCEWz44A3Iso+bLKJiAwgFovjyri+VfxYeR4K8xwSEz3aw89idxc/IykJUW5pa3bB\n",
       "alVE3TOwjrimSUx0eKxmK56rPS3qrdAO3r53SWIiIqJHY5NNRGQA1+6uYiugr9pk6ir21M49TAem\n",
       "RM1VbKL0sdlMaGvSR/qtrIfhu5s9c6XPVp+A06K/ufjjm28gHItITERE9MHYZBMRGUDPVX0VWwHQ\n",
       "1Zh5h4hpmvYBq9h8FpsonTpbPVD0xWxcHMiecV52iw3P1uo/Uzb2t/Du/V6JiYiIPhibbCKiDBeJ\n",
       "Jm8Vr6/KR77bLjHRB5vdncFMYFrUdZ4GFNoLJSYiyj0etxmN9fqzy/dn9zC7kD1zpZ+tfgZ2s03U\n",
       "P77xOqLx7BhXRkTZg002EVGGG7u9gsC+viUyU08VH/L3J9V8FptIju42T1J9cWBNUpLD57A6cK5G\n",
       "/9mysreOi1P9Ka4gIko/NtlERBmuJ+FUcUUBOo9n3lbxQGQHNzYnRV3pqoaXq9hEUpQUWVFdoa/2\n",
       "Ttzawdpm9pzEfb7mFKxmq6h/dOM1xLiaTUQZhE02EVEGC0di6JtYFHVjdQE8LluKK+QYWR1CXNNv\n",
       "clVvm8Q0RHSiXV/N1jTg0mD2PJvtsjlxtqpb1MuBFVyeGZKYiIgoGZtsIqIMNnzTj71gVNTdTaUS\n",
       "03ywuBbDyIp+g+u2uFHtrpGYiIiqK+0o8lpEPXRtE7v70RRXGMtzx07DYjKL+keTryGuxSUmIiLS\n",
       "sckmIspglxK2iptMCtobMm8clm/zJnYi26Ju9rbCpPCfFyKZFEVBd8JqdiSioW90U2Kiw+WxuXGq\n",
       "qkvU8ztL6J8blZiIiEjHuyAiogwVDEcxMLkk6uYaL1wOa4or5Bha0Q8dMikmNOe3SExDRO9rrHPC\n",
       "7dJv9XqH1xGJZs9q70eOnYVZ0Vezf3j9Va5mE1FGYJNNRJShhm4sIxjWn3Puasq8U8VX9v2Y2rkv\n",
       "6jpPAxwWZ4oriChdzGYFnaq+mh3Yi2H0+pbERIcr3+7BM5Udop7emsfwwjWJiYiIHmCTTUSUoS6O\n",
       "6lvFLWYF7fWZt1V8aGUgqeaBZ0SZpa3ZBatVEXXPwDpicU1iosP1C3Vnkx5P+eH1V6Fp2fP1EZEx\n",
       "sckmIspAe8EIhm8si7rlWCEcdkuKK9IvFAthfO2qqIvsxShxZN7BbES5zGYzoa3JJeqV9TBGJrJn\n",
       "NdvryEd3hf7m3t2NaYwtTaa4gojo6LHJJiLKQAPXlxBOeHayqzHztopfW7uKcDwkatXbBkVRUlxB\n",
       "RDJ0t3lgNuvfm2/2rCASyZ5nl184dg4K9K/vB9df4Wo2EUnFJpuIKAP1XF0QH1stJrRm2FZxTdMw\n",
       "mHDgmc1kQ33ecYmJiOhRXC4zutvcot4ORHF5OHvmZhe5vOgsV0XtW7uH636fxERElOvYZBMRZZjA\n",
       "XhgjPn2reGtdIexWc4or0m86MIXV4IqomwpaYDFl1nZ2ItKdaPfAbtdv+97tW8PefizFFcbyQt25\n",
       "pPoHk69KSkJExCabiCjj9E0sIhrTtzp2NWXec85D/v6kuqWgVVISInocNpsJpzr1k8aDoTje7VuV\n",
       "mOhwlbqL0V7aLOrr/lu4uXJXYiIiymVssomIMkziVnGb1QT1mFdimp+3Hd7Gzc0boq5y1SDPli8x\n",
       "ERE9jvYWN/Lc+q6YK8Mb2NyOSEx0uD5a/2xS/YPJVyQlIaJcxyabiCiDbAVCuHpb34bdXl8MqyWz\n",
       "toqPrA5Cg35oEsd2ERmD2azgzDN5oo7GNLzRs5LiCmMp95RCLdHPhhhbmsSdtSl5gYgoZ7HJJiLK\n",
       "IFeuLSKeMMO2uymzThWPxaMYXRkStcfqQZW7WmIiIjqIpnonigv18xNGJ7awtBKUmOhwfbSOq9lE\n",
       "JB+bbCKiDHLp6rz42GEzo6k2s7aK39y8gUA0IOqWgjaYFP5TQmQUiqLg2ZP64x0agNcuZM9qdlV+\n",
       "BZqK6kU9vHANUxuz8gIRUU7inRERUYbY2A5i4q5+EFHH8WJYzJn1Y3ooYWyXWTGjqaA5xWcTUSaq\n",
       "rrSjusIm6pt3A7g3sysx0eF6+NnsH06+JikJEeWqzLp7IyLKYZfHF5CwUxxdjZm1VXx5fwkzgWlR\n",
       "1+cdh93skJiIiJ6Eoig4dzL5sMJX3/VD07RHXGEstQVVaPDWirp/bhRzW4sSExFRrmGTTUSUIS6O\n",
       "6lvFXQ4LGqsLJKb5eUP+gaSaB54RGVdpsQ2NdU5Rzy4GMXFrR2Kiw5W4mq1Bww85N5uI0ohNNhFR\n",
       "BvCv7+HG1LqoO4+XwJxBW8WDsSCurY+JuthRgmJHZq20E9HBnH0mD4qi169fWEEslh2r2XXeGtQW\n",
       "VIn68uwQFnf8EhMRUS7JnDs4IqIc1pNw4BkAnGjOrAZ2fG0UkXhY1FzFJjK+/DwL2lvcol7dCGNw\n",
       "fFNiosOjKErSSeOaxtVsIkofNtlERBngYkKTne+2oa4yP8Vnp5emaUlbxe1mB+o9DRITEdFhOdXl\n",
       "gdWiL2e/dXkFoXBcYqLD01hUh6q8clFfmOrDzZU7EhMRUa5gk01EJNmcfwf35rdE3d1UAlPiHk7J\n",
       "7u/cw1pIP/W8Kb8ZZpMlxRVEZBROhxnd7R5RB3ZjuDS4JjHR4VEUBS82PJ/02lcHv41wLCIpERHl\n",
       "CjbZRESS9YwmbxXvbsqsreKJY7sAoMXbKikJER2F7jY3nA79lvDCwDoCe1GJiQ5PU3E9OstUUS/u\n",
       "+PH96y9LTEREuYBNNhGRRJqm4UJCk12U70B1qSfFFem1Fd7Erc2boq5x18JjzZOYiIgOm9Vqwulu\n",
       "/fs6HI7jnSurKa4wls80fxwuq36S+k9uvol76zMSExFRtmOTTUQk0f2FbcyvBETd3VQCJYO2ig+v\n",
       "DEKDftowDzwjyk6tTS4U5JlF3T+6gbXNcIorjMNtc+EzzR8XdVyL42uD30Y0HpMXioiyGptsIiKJ\n",
       "Lo7OJdWZtFU8Go9idHVY1HnWfFS6qiUmIqKjYjIpOPuMfuBiLA68cXFFYqLD1VmmoqVYP7BxanMO\n",
       "P735psRERJTN2GQTEUmiaVrSqeLlRS5UFLtTXJFeNzauYy+6K+oWb2tGrbIT0eFqOOZAabFV1GM3\n",
       "tjG/tC8x0eFRFAWfb/kEbGabeO3711/G/PaSxFRElK3YZBMRSXJzagMrG/oNbCatYgPJB56ZFTMa\n",
       "85slpiGio6YoCp49mTw+8NV3s2c1O9+Rh081viDqSDyKrw18G3EtO0aWEVHmYJNNRCTJxauZu1V8\n",
       "cW8Bc7uzom7Ia4TdbJeYiIjSoarCjtoq/Xv9zvQubt8PpLjCWE5XdaHeWyNq39o9vHHnosRERJSN\n",
       "2GQTEUkQi8VxaWxB1DVlHhQXOFNckV5D/oGkmgeeEeWOcw+vZl/wI65pj/hsY1EUBb+sfgoWk37I\n",
       "23fH/x7+3eyYDU5EmYFNNhGRBBN317C5ExJ1Jq1i70f3MbE+LupSRxmKHMUSExFROhUXWtF8XH/T\n",
       "b2E5hPEb2xITHa4ilxcvNjwv6lA0hD8b+i60LHkjgYjkY5NNRCRB4oFnCoCuxsxpssfWRhDVIqJu\n",
       "4So2Uc45eyIP5oS7xNcvriAazZ5nl8/XnEJVXrmox5Zu4MJUn8RERJRN2GQTEaVZJBrHlXF9q3h9\n",
       "VT4KPJnxvLOmxTG0om8Vt5sdqPPUywtERFJ43BZ0qPq0g42tCPqvbkpMdLhMJhO+2PppmBT9Vvib\n",
       "V7+Pzf0tiamIKFuwySYiSrPRW34E9vWV4kzaKn53+y42Quuibi5ogTnh2UUiyh3PdObBZtXH9r1z\n",
       "ZRXBUExiosNV7inBL9SdFfVueA/fGPkbiYmIKFuwySYiSrOLI/pWcZMCdB7PnCY7cWyXAgUtBa0S\n",
       "0xCRTA67Cc90ekS9ux/Dxf7sOiDshbpzKHXrZ070z42ib3ZEYiIiygZssomI0igYjqL/+qKom2q8\n",
       "cDutEhPpNkIbuL11S9Q17lq4rZ4UVxBRtutUPXC79NvFnqF1bAciKa4wFovJgi+qn0p67Rsjf4NA\n",
       "eFdSIiLKBmyyiYjSaHByGcGwvt2yu7lUYppkwyv9APTTdTm2i4gsFgWnu/NEHYloeP3CisREh6+m\n",
       "oBLna06Jeiu4jW+N/kBiIiIyOjbZRERp1JNwqrjFrKC9vkhiGl0wFsTwypCo860FqHBVSUxERJmi\n",
       "5bgLhQUWUQ9PbGFmfl9iosP34vHnUegoEPW7U70YW5qUmIiIjIxNNhFRmuzuRzB0Y1nULccK4bBb\n",
       "UlyRPiMrgwjH9bnd7YWdUBQlxRVElCtMJgXPnylIeu0nby0hnkVzpW1mK3659ZNJr/3p4HcRjAQl\n",
       "JSIiI2OTTUSUJn0Ti4gkzJk9kSFbxaPxKPr9vaJ2mJ04nt8oMRERZZrqSjsajjlEPbcUxPB4do27\n",
       "aig8hpOVnaJe2VvH9679WGIiIjIqNtlERGlycVTfKm6zmqAeK5SYRjexPoZAZEfUrYXtMJsyY4Wd\n",
       "iDLH+VP5MCdM9Hvtoh/7wewZ6QUAn258AXk2fT7467cv4ObKXYmJiMiI2GQTEaXBViCEq7f1w4La\n",
       "64ths8qfP61pcVxZviRqi2Lh2C4i+kB5HgtOtCeM9NqL4a3LqxITHT6H1YHPq58QtQYNXx/8DsKx\n",
       "7DlRnYiOHptsIqI0uDy+gHhcf36xuykzZmPf2vJhLajfJDd7VdjNdomJiCiTPdORB49bf4Owd3gd\n",
       "yyuhFFcYj1rSiI6yFlHP7yzhB9dfkZiIiIyGTTYRURokbhV32i1oqvVKTKPrXdJXsRUoaPN2SExD\n",
       "RJnOYlFw/nS+qOMa8NO3l6Bl0SFoAPDZ5hfhtOrPoP/45huY2piVmIiIjIRNNhHREVvd3Mfk/TVR\n",
       "dxwvhsUs/8fvbGAas7szom7Ib4Tb6klxBRER0FDrQHWFTdR3pvcwcWsnxRXG47a58Jmmj4s6rsXx\n",
       "1YFvI8Jt40T0GOTf5RERZblLY/NIXOQ5kSFbxa8krGIDD8Z2ERF9GEVR8NyZAiRO+Xv5nWWEI/FH\n",
       "X2RAXeWtaC5qEPX9zVl8bfA7WbdqT0SHT1qTrarq/6GqalxV1f9aVgYionS4kLBVPM9lRUNVQYrP\n",
       "To/V4Apubd0UdbW7BoX2IomJiMhIirxWdKj6Kdyb21Fc7F9LcYXxKIqCz6ufgN2sr9r3TA/g+9df\n",
       "lpiKiIxASpOtqmorgN8DoL33i4goKy2sBnBndlPUnY0lMJmUFFekR+/S5aS6o7BLUhIiMqrT3Xlw\n",
       "2PVbyXf717C+FZaY6PAVOPLw6x2fh5KwbP9311/Gxal+iamIKNOlvclWVdUE4M8B2ADIv9MkIjpC\n",
       "PQmr2EBmbBXfCW/j2vpVURc7SlDmrJCYiIiMyG4z4dzJPFFHoxpeeccvMdHRaCqux+eafzHpta8N\n",
       "fgeT/tuSEhFRppOxkv07AJ4H8BMJfzcRUVpdvKo32d48O2rL81J8dnoM+PsQ02Ki7ijsTlqlISJ6\n",
       "XGqjC6VFVlFP3NrBnaldiYmOxpnqbjxXe1rU0XgUf3j561jcyb43FYjo6aW1yVZV9RiA/wvANwD8\n",
       "LJ1/NxFRuk0vbmNmST9xt7upRHozG4oFMbwyIOo8az5qPcckJiIiI1MUBc+fTT5n4idvLSEWy76n\n",
       "AT/V+ALaSptEHQjv4vcv/ifshAISUxFRJkr3SvbXAewA+F/AreJElOUujM4l1d0ZsFV8ZGUIoXhI\n",
       "1O2FnTApHDRBRE+uvNSGluNOUfvXwugd3ZCY6GgoioJfbfsMqvLKxWtLgRX8h0tf42gvIkqStjsr\n",
       "VVW/DOCXAPwzn8+3la6/l4hIBk3T0JOwVbzU60RlsTvFFUcvFo+i339F1A6zA8fzm1JcQUT0eM6d\n",
       "zIfVqq+fvHVpBYHdqMRER8NqtuIfdn0JBXb90Z+bq3fx1YFvc7QXEQlpabJVVS0D8B8B/NTn830/\n",
       "HX8nEZFMt2c3sbS2J+pM2Co+sT6OnYi+fb3V2w6LySIxERFlC5fTjNNdeuMZDMXx2sXsfF7ZY3fj\n",
       "H3X/StJor0szg/g7jvYiovek6+7qK+/9Xb992H+wqqp825CIMs7Fh04Vl71VXNPiuLJ8SdQWxYIW\n",
       "b5vERESUbTpUN27e2cPm9oMV7OHxLTz7TCFqK50fcqXxlHlK8BudX8B3x38kVrC/f/1llLtL8LGG\n",
       "85LTEdF7hlRVfaxP9Pl8h7oScuQr2aqqfh7AbwD4Vz6fb/4DPoXPZhNRVonFk7eKV5W4UVrokpgI\n",
       "uL11G6vBFVE3Faiwm+0SExFRtjGbFTx/Jl/UGoCfvLmEeJZuo24sqsPnWz6R9NrXhr6DSf8tSYmI\n",
       "KFOkYyX77Hv//Yqqql/5gN//S1VV/xLAv/X5fP/2oH/4477roKrqaQBDB/3ziYgOavL+Gta3g6KW\n",
       "vYoNAL3LPeJjBQraCzskpiGibFVT5UBdjQPTcw9+Bs4uBjEysYUzXV7JyY7G6aourO9v4srMg1vM\n",
       "WDyG/3D56/j3n/iXqMqvkJyOKOed8fl8wzL+4nQ8k30ZwP8D4A8f+vX+CK9X36svpyELEdGR+/mt\n",
       "4qWSkjwwF5jBTGBa1PV5x+G2eiQmIqJs9tzpfJgT7jBfu+BHMBSTF+iIffL4LySN9toN7+H3e/4E\n",
       "2xztRZSzjnwl2+fzvQngzYdfV1X1dwG8COBvfD7ft446BxFROkRjcVweWxB1XUUevHlyt2UnPosN\n",
       "AB1FXZKSEFEuyM+zoLvdg9GJB01mYDeGty+v4vO/WP4hVxrT+6O9toPfx/zOEgBg+b3RXr/38X8O\n",
       "m9kqOSERpRuHoxIRHaKrt1awsxcWtexV7NXgCnybN0Vd5apGob1IYiIiygUnOz1wu8yivjy8Dv9q\n",
       "SGKio2U1W/Ffdn8RBQ79mXTf6l18deBbHO1FlINkNtnae7+IiLJG4oFnigJ0NhZLTAP0LV9B4o/a\n",
       "jqJueWGIKGdYLCacP603nPE48NO3l7O64fTY3PivHhrtdXlmCH878ZLEVEQkg7Qm2+fz/bHP5zNz\n",
       "qzgRZYtQJIbea4uibqwuQJ7LluKKoxWI7GB8bVTUxfYSlDt5EA8RpcfxYw5Ulus/A29P7WLydnY/\n",
       "p1zqLsZvdn4BJkW/xf7B5Cu4cL9PYioiSjduFyciOiTDN5axH4qKWvZW8QF/H2KafthQR1EXFIVT\n",
       "E4koPRRFwUfOFCDxx85L7ywjEonLC5UGx4vq8PmWX0x67WtD38F1jvYiyhlssomIDkniqeJmk4KO\n",
       "4/K2iodiIQytDIjaY81DradOWh4iyk1FhVa0t7hFvbEVwcWBNYmJ0uNUVRc+cuyMqGPxGP7w0tew\n",
       "uOOXmIqI0oVNNhHRIdjYCaL/ur5VvLnWC6f9yAc4PNLo6hBCMX1Wd3thZ9L2RSKidDnTnQe7Xf/5\n",
       "827/GrZ2IhITpccnjv8C2kubRb0b2cd/7v8m4vHsXsknIjbZRESH4o3+aURj+oE+Z9rkjaqJxaPo\n",
       "X74iarvZgcb85hRXEBEdHbvdhLMn8kQdiWh4/eKKxETpoSgKfqXtM6jO08/CuLV2D6/deVdeKCJK\n",
       "CzbZRERPKRaL47UrU6Iu8Nig1skbkzWxcQ3bkW1Rt3rbYTHJW1UnImptcqHIq/8cGpnYwuzivsRE\n",
       "6WE1W/APOj6b9DP4e+N/j6VA9r/JQJTL2GQTET2lgcklrG7pW7PPtVfAbJJzwJimaehduiRqs2KB\n",
       "6m2VkoWI6H0mk4LnzhQkvfZSlo/0el+R04tPHP+IqMOxCL4++B3ENW4bJ8pWbLKJiJ7SK5enxMdm\n",
       "kyJ1q/id7dtYCeoH6zQXtMBudkjLQ0T0vuoKO+pq9J9H0/P7GL+5IzFR+pyreQY1+ZWivu6/hbfv\n",
       "XpaYiIiOEptsIqKnMOffwdXb+ra/juPFUmdj9y71iI8VKGgr7JCWhYjoYedP5cOUcPf56rvZP9IL\n",
       "AEyKCV9q/TTMJrN47TtjP8Tq7rrEVER0VNhkExE9hVcTnsUGgOc6Kz/4E9NgfncW04EpUdflNcBj\n",
       "zXv0BUREaVaQb0Gnqo/02tyOomcwNxrNEncRPl5/XtT70SC+PvTdnNgyT5Rr2GQTET2hYCiKtwdn\n",
       "RF1R7MKxCnlN7ZWEZ7EBoKOwS1ISIqJHO9mVB0fiSK++VWznwEgvAHi+9gwq88pEPbY0iQtTfRIT\n",
       "EdFRYJNNRPSELozOYTcYFfX5zkooipwDzzZCG/Bt3hB1pasaRY5iKVmIiFKx20w4kzDSKxzR8HpP\n",
       "bpy2bTI92DZuUvRb8G+O/h3W9zclpiKiw8Ymm4joCWiahpcv3xe13WbGM82l0vIM+fugQd9y2M5n\n",
       "sYkog7U2uVBYkDDS69oW5payf6QXAJR7SvFC3TlR70b28edDf8Vt40RZhE02EdETuDm1gfsL+izq\n",
       "U2oZbFZziiuOTigWwujqsKgLbF5UuqqlZCEiehwPRnrli1pD7oz0AoAX6s6hzK3vNhpaGMeV2SGJ\n",
       "iYjoMLHJJiJ6Aomr2ABwvqNCUhJgbG0UoXhI1G3eDmnb1omIHldNpQPHqu2inprbx4QvN0Z6mU1m\n",
       "fKn101Cg/6z+i5G/xXYwN75+omzHJpuI6IA2d0K4PD4v6sbqApQWuqRkiWtxDPh7RW032dGQ3ygl\n",
       "CxHRQZ0/VYDE9wRfedePSDT7R3oBQFV+BZ4/dlrUO6EA/mLkbyQmIqLDwiabiOiA3uifRjSmb2k8\n",
       "L3Fs1+0tHzZC+vibZq8Ki8mS4goioszhLbCgI2Gk18ZWBJeHcmOkFwB8rP45FLsKRX1ldhgDc1cl\n",
       "JiKiw8Amm4joAGJxDa/2Tom6wG1Da32RtDyJq9gKFKgFbdKyEBE9idNdebDb9OXsd3rXsBOIprgi\n",
       "e1jNFnxR/VTSa38+/FcIhHYlJSKiw8Amm4joAAYnl7C6qZ+Ae7ajAmaTnOefl/YWMbWjPxtel9cA\n",
       "l9Wd4goiosxjt5tw5oR+CFo4HMfrPX6JidLrmLcaz9acFPVmcBvfvPp9iYmI6GmxySYiOoDEA8/M\n",
       "JgVn28qlZRnw9yXVbV6O7SIiY2prTh7pNTy+hfnloMRE6fWLxz8Cr0N/o+HCVB9GFyckJiKip8Em\n",
       "m4joMc2vBHD11oqoO44XI89lk5JlNxLAxPqYqEsdZShxypvTTUT0NEwmBedP5+5IL5vZii+2Jm8b\n",
       "/9PB72Evkhuzw4myDZtsIqLH9MqV5LFdz0oc2zW8MoiYFhN1WyFXsYnI2GqrHKit0kd63Z/dw/Xb\n",
       "uTPSqqHwGE5XdYl6bX8D3xn7kcRERPSk2GQTET2GYCiKtwdmRF1R5EJ9ZX6KK45ONB7F0MqAqN0W\n",
       "N2o9dVKyEBEdpvOn85NHev3Mj2iOjPQCgE81voB8u0fUb93twcTyTYmJiOhJsMkmInoMF0bnsRvU\n",
       "T7t9trMCiiLnwLPrG9ewGw2IWvW2w6TwxzkRGV9hgRXtLfoBjuubEVwe3pCYKL3sFju+oH4y6bWv\n",
       "DX4HwWhIUiIiehK8KyMi+hCapuGVhAPP7DYznmkpk5alf/mKqC2KBU0FLVKyEBEdhdPdD430urKK\n",
       "nd3cGOkFAM3FDThR0S5q/+4a/nr8xxITEdFBsckmIvoQvukN3FvYEvUptQx2q1lKlpnAFJb3l0Td\n",
       "mN8Mu9me4goiImNx2E043Z0n6lA4jjd7VlJckX1+qeljcNtcon719ru4uXJXYiIiOgg22UREH+Ll\n",
       "DDrwrN/fm1S3FrY/4jOJiIyrvcWNgnx9pNfg+CYW/Lkz0stpdeDzLZ8QtQYNXx38FsLRsMRURPS4\n",
       "2GQTEaWwuRPCpasLoj5eXYCyQleKK47ORmgdvk39AJxqdy3ybQVSshARHSWTScFziSO9tNwa6QUA\n",
       "baVN6CjTHwda3PHjb6+/JDERET0uNtlERCm8OTCNaEw/2fa8xFXsQX8fHkyPfaDNy1VsIspetVV2\n",
       "1FTqj8Pcm9nD5J1Aiiuyz2ebX4TT6hD1T2++hWs8bZwo47HJJiJ6hFhcw2u9U6LOd9vQ1lAsJUso\n",
       "FsTo6oioC2xeVLiqpGQhIkoHRVF+fqTXO8s5NdLLbXPhc82/KGoNGr7S95fYDubO/HAiI2KTTUT0\n",
       "CMM3luHf2Bf12fZymE1yxnZdXR1FOK6PcGkr7JA2QoyIKF2KvFa0NeuP6KxtRnBlJHdGegFAZ7ma\n",
       "dNr4ZnAb/3ngWzm1dZ7IaNhkExE9wssJY7tMJgVn2+RsFY9rcQwkHHhmN9nRkNcoJQsRUbqd6c6D\n",
       "7aGRXrt7uTPSCwA+1/wiipxeUY8uTuCVW+9ITEREqbDJJiL6AAsrAYz4/KLuaChCvtsmJcutrZvY\n",
       "DOsrN83eVlhMlhRXEBFlD4fDjFNd+kivYCiOS0PrEhOln81iw693fA4mRb91/874j3BvfUZiKiJ6\n",
       "FDbZREQf4NXeqaT6fGellBwAMLCsr2KbYILqbZOWhYhIho4WN/LcZlFfGd7AXjAmMVH6VeaV45ON\n",
       "L4g6Fo/hj3u/gWAkd0abERkFm2wioocEw1G8OaCvDpQVulBfmZ/iiqOzuLeA6cCUqOt7cjouAAAg\n",
       "AElEQVTyGuCyyBkhRkQki9ms4ESHR9ShcBxXcmw1GwDO15xEc1GDqBcDfvzFyN9KTEREH4RNNhHR\n",
       "Q3pG57G7HxH1+c4KaYeMDfj7kuq2wg4pOYiIZFMbXXC79FvXS0PrCIZyazVbURR8qe3T8Nj0N1vf\n",
       "nerFpekBiamI6GFssomIEmiahpev6Aee2a1mnGwplZIlENnB9fVxUZc5y1HsKJGShYhItger2cnP\n",
       "Zvfm2EnjwIOxXr/a9tmk1/5s6K+wFFiRlIiIHsYmm4gowa2ZDdyd2xL1SbUUdpucQ8aGVwYR0/RV\n",
       "mlYvV7GJKLe1Nrngcuq3rz2D6wiFc2du9vuOFx3DR46dFfV+NIg/7v0GorHcOnWdKFOxySYiSpA4\n",
       "tgsAnu2Qc+BZNB7B8Iq+/c9t8aDWc0xKFiKiTGExK+hu15/N3tuPoW8091azAeDFhudQna+Plry7\n",
       "Po2/nvipxERE9D422URE79kKhNBzdUHUDVX5KC+Sc8jY9fVr2I3uirrV25Y0uoWIKFe1N7vgsCes\n",
       "Zg+sIRzJvdVss8mMX2v/HOxmfbzkT26+gbGlSYmpiAhgk01EJLw5MINoTL9RkzW2S9M09PmviNqi\n",
       "WNBU0CIlCxFRprFYTOhud4s6sBfDwNimxETyFDoL8AX1k0mv/af+b2IzuC0pEREBbLKJiAAAsbiW\n",
       "NBs7321De32RlCzTgfvw7y+LurGgGTazXUoWIqJM1N7iht2mT3240L+GSDT3VrMBoLNcxTOV+pkd\n",
       "W8Ft/En/NxHXcvN/D6JMwCabiAjAlfEF+Nf3RH22rRxms5wfkf3LvUl1q7ddSg4iokxls5rQ1aY/\n",
       "m70TiGJoPDdXswHgs80vothVKOqrS5N42feOxEREuY1NNhHlvFhcw1+94RO12aTgbHu5lCzrwTXc\n",
       "2tKz1LhrkW8rkJKFiCiTdapu2Kz6ava7fWuIxjSJieSxma349fbPwayYxWvfu/b3uLs+LTEVUe5i\n",
       "k01EOe/y2Dxml3dEfba9HPluOduzB1f6AOg3ia2FHNtFRPRBbDYTOlv1Z7O3dqIYuZa7q9kVeWX4\n",
       "VNMLoo7FY/jj3m9gPxKUmIooN7HJJqKc9vAqtsWs4GMna6RkCcaCuLo6ImqvrRAVTjmHrxERGUFn\n",
       "qwdWS/JqdixHV7MB4Fz1M2gpbhD1UmAF3xj+a4mJiHITm2wiymk9V+cx5w+I+mx7BQo8claxr66O\n",
       "IBwPi7qtsAOKoqS4gogotznsJnSo+mr2+lYEo5NbEhPJpSgKvtT6S8iz6f+bXJzux8WpfompiHIP\n",
       "m2wiylmxWBx//cZNUVvMJnzsZLWULHEtjkG/fuCZ3exAQ95xKVmIiIykq80NizlhNbt3DfF47q5m\n",
       "u2xO/Gr7Z5Ne+/Phv8Lijl9SIqLcwyabiHLWhdF5zK/sivqcxGexr62PYTOsP0vYUtAKs8kiJQsR\n",
       "kZE4HWa0t7hEvboRxvjN3J4T3VBYixfqzok6GA3hj3u/gWgsKjEVUe5gk01EOSkWi+Ov30x8FtuE\n",
       "j0p6Fjsaj+LCgj5qxayYoXpbpWQhIjKi7nYPzPrB2njnyiriWu6uZgPAx+ufQ02+fq7HvY0ZfO/a\n",
       "jyUmIsodbLKJKCe9OzKHxVV9FfvZjgrku21SsoyuDmMrYRVb9bbDaXGluIKIiBK5nGa0NenPIfvX\n",
       "wpjw7aS44v9n777D47rPO9F/z/SGKegdIAhySBSiEOyd6rGqbblsnJuN4+TGke3k2c1uspt2fa9T\n",
       "1opjJ7ZsWS6yKiVRhaK62HvvBRj03jumt3P/AHkGwwI2YA4G+H6eZ4T5/c4c4AUFYM573l+Z/RQK\n",
       "Bb5U9Ai0qsgIrQ8dO3Gy45yMURHNDUyyiWjOCYXCeHNHrdRWqxRYL9NcbH/IjwNdeyOxKNQoSSyV\n",
       "JRYionhWVmyCYsKVLavZgFVvwWP2+6P6njv2EnqcfTJFRDQ3MMkmojlnz6k2dA1Eqtgri9ORYJCn\n",
       "in2i7yhcwcjq5kW2UmiVOlliISKKZ0aDEosKI6OAuvt8qK5zTnLG3FCcuhBVWWVS2xXw4N8P/wr+\n",
       "UEDGqIhmNybZRDSnBENhvHFNFXtduTxVbG/Qg8PdB6S2VqnDYluxLLEQEc0GZUUmTNz5cPfhfohz\n",
       "vJoNAA8VrkdmQprUbhpqw4un35IxIqLZjUk2Ec0pu060oWfQLbVXlWTAJFMV+0jPIXhDXqldkrgE\n",
       "aoValliIiGaDBJMK9vmRanZHjxeORtckZ8wNKoUKT5c8Cr0qMlJqV+NB7G06MslZRHS3mGQT0ZwR\n",
       "CIbx1s7IiuIaGavYzoATxybsi21QGWG3cEVxIqJ7VV4cXc3edaiP1WwAVp0ZTxU9HNX3q1Nb0DLc\n",
       "LlNERLMXk2wimjN2nWhF75BHaq8qzYBRL0/l+FD3PgTCfqm9JKmc+2ITEU0Bc4IKC+bppXZblxf1\n",
       "zaxmA8CCpHlYn7dCagdCAfzo0Atw+z2TnEVEd4pJNhHNCYFgGG/tiszF1qjlq2IP+4Zxqu+E1E5Q\n",
       "mzHfvECWWIiIZqPykoToajbnZks2zFuJAluu1O529uHnJ17mvw/RFGKSTURzws7jLeibUMVeXZoJ\n",
       "g06eKvaBrj0IiSGpXZZUCYXAP8dERFPFalahIC9SzW5u96CxzT3JGXOHQlDgi0WPIEFrkvqOt5/F\n",
       "R7W7ZIyKaHbhVR0RzXqBYAhv7YxUsbUaJdaWZcoSS7+3D+cGzkhtmzYR+QnzZImFiGg2qygxRbV3\n",
       "H+6XKZKZx6gx4OniL0Td4H313Huo6auXMSqi2YNJNhHNep8fa0X/SGQV79WlGbJVsfd17oaIyJC8\n",
       "8qSlECaOaSQioimRaFVjXm5kNe2GFjea21nNvirHkokH5q+T2mExjB8f/jWGvaMyRkU0OzDJJqJZ\n",
       "zR+IrmLrNEqsLZNnLnaXuxOXhy5K7RRdKrKM2bLEQkQ0F1SWJkS1Wc2OtiK7AkUpkTVBhrwj+M8j\n",
       "v0U4HJYxKqL4xySbiGa1z462YHB0QhV7SSb0WnlW8d7bsTOqXZHMKjYR0XRKsqmRlx2pZtc2udDW\n",
       "yZW0rxIEAY8vegBJepvUd7HXgTcvfiBjVETxj0k2Ec1avkAIb++OrmKvWSLPXOzWsWbUj9ZJ7QxD\n",
       "FtIMGbLEQkQ0l1SWRs/N3sVqdhStSouvlDwK1YRtJN+r/hSnOi/IGBVRfGOSTUSz1mdHmjE46pPa\n",
       "a8rkqWKLoojdnddXsYmIaPqlJGmQk6mV2jUNTnT0eCc5Y+5JNSXjUft9UX0/O/oiep28IUF0N5hk\n",
       "E9GsNF7FjlSO9VoV1pTKU8VuGK1Dm7NFauea8pGkS5YlFiKiuYhzs2+tLL0ISzNLpbYr4MGPDr8A\n",
       "fyggY1RE8YlJNhHNSp8cbsbQWKSKvbYsEzpZqthh7JkwF1uAgLKkipjHQUQ0l6WlaJCVrpHal2rH\n",
       "0NPnm+SMuenhwo3ISEiV2k1Dbfjdma0yRkQUn5hkE9Gs4/UF8c41VexVpfLMf64evoxuT5fUnmee\n",
       "D6vWNskZREQ0Ha6tZu85ymr2tVRKFb5S/Ch0qsjw+p0NB7C/+ZiMURHFHybZRDTrfHy4GcPOSIVi\n",
       "XXkWdJrYV7HDYgh7O3ZJbQUUrGITEckkI02L9NRINftc9Sj6B/0yRjQzWfUWPLX44ai+F06+htbh\n",
       "DpkiIoo/TLKJaFbx+oJ4d2+kim3QqbCqJF2WWM4PnMOAL1IpWWC1w6ROmOQMIiKaTpUlkZXGRRHY\n",
       "y2r2DS1MLsDavOVS2x8K4EeHXoA7wO3PiG4Hk2wimlU+OtSEEWekMrGuPAtaGarYwXAQ+7t2S22l\n",
       "oERpYlnM4yAiooisDC1SktRS+/SlEQyNcGGvG9k0bxXmWXOkdpezF88ffxWiKMoYFVF8YJJNRLOG\n",
       "xxfEu3vrpbZBp8LKEnnmYp/uP4ER/4jUXmQthl5lkCUWIiIaJwgCKkoiI4rCYWDfsQEZI5q5FIIC\n",
       "Xyx+BCaNUeo72n4aHzh2yBgVUXxgkk1Es8aHBxsx6opUsdeXZ0GrVsY8Dn/Ih4Nd+6S2WqFBcWLp\n",
       "JGcQEVGs5GVrkWiNjHA6eX4Yo2OsZt+ISWPE08VfgCAIUt9r57bhdOdFGaMimvmYZBPRrOD2BvDe\n",
       "hCq2Ua+WrYp9vPcoXEGX1C62lUKr1E5yBhERxYogCKiYsNJ4MCRi/4lBGSOa2XKtWXhw/nqpLULE\n",
       "fxz9DTpGu2WMimhmY5JNRLPCe3sbMOaOVCI2VGRBI0MV2xN043DPQamtU+qwyFYU8ziIiOjm5uXo\n",
       "YDFHqtnHzg7B6Q7KGNHMtiK7AuXpxVLbE/Dihwd+AaffNclZRHMXk2wiintNnSN4e3et1Dbp1Vhe\n",
       "JM+K4od7DsIX8krt0sRyqBXqSc4gIqJYUygEVExYaTwQEHHoJKvZNyMIAr5g34xsc2SEWJezFz85\n",
       "/BuEwiEZIyOamZhkE1FcC4bC+MkbZxAMRVY7fWB5rixVbGdgDMd7jkpto8qIBRZ7zOMgIqJbK8zX\n",
       "I8EUea84fGoIbi8TxptRKVT4asljMGsjNyfO91Tj1XPvyRgV0czEJJuI4trWXXVo7Iis4r0gx4qq\n",
       "xWmyxHKwax+CYmTI+pKkCigVsU/2iYjo1hQKAeXFkYTR5w/jyClWsydj0hrxtdLHoVJEhtp/VLsL\n",
       "e5uOyBgV0czDJJuI4lZT5wje3OGQ2lq1Ek9tKIxaBTVWhnxDONV/UmqbNRYUmAtjHgcREd2+hQUG\n",
       "GA2Ry+FDJ4fg87GaPZmMhDQ8sejBqL4XTr6O2v5GmSIimnmYZBNRXAqGwvjJljMIhSPDxH9vdT6s\n",
       "CbFfxTsshrC9+R2ExciFWXlSJRQC/8QSEc1kSqWAsqJINdvtDeHo2WEZI4oPJWl2rMtbLrWD4SCe\n",
       "PfRLDLiHZIyKaObgFSARxaWtu+rQ2Dkzhonv69yDVmeL1E7SJiPXlC9LLEREdGcWFRqg10UuiQ8c\n",
       "H0AgEJYxoviwad5q2JPnS+0R7yiePfg8fEG/jFERzQxMsoko7lw3TFyjxFMb5Rkm3jhaj4Pd+6W2\n",
       "SlBhTcYGWWIhIqI7p1IpULrYKLWd7hCOn2c1+1YEQcBTix9GijFJ6mscasUvTrwCURQnOZNo9mOS\n",
       "TURx5UbDxL+weh6sptgPEx8LjOG9prcBRGJZkbYaFo0l5rEQEdHdK1pohFYTuTm6/9gAgkFWs29F\n",
       "q9Lg66WPQ6/SSX2HW09iW/VnMkZFJD8m2UQUV7burI0aJr4wx4qli1JjHkdYDGNb01a4gy6pb755\n",
       "ARc7IyKKQxq1AiWLInOzR8aCOH1xZJIz6Cqb3oqnSx6NGsH1xoXtONlxTsaoiOTFJJuI4kZjxwje\n",
       "3FkrteUcJn6gay+ax5qktkVjxfLUVTGPg4iIpkaJ3Qi1OvJ+svfoQNSoKbq5ebYcPLJgk9QWIeI/\n",
       "j76ItpFOGaMikg+TbCKKC4FgGD954/R1w8QtMgwTbxptxP6uvVJbKaiwPmNT1L6hREQUX7RaBYoX\n",
       "RuZmD44EcO7yqIwRxZeqzCVYmlkqtb1BH3544BcY8zlljIpIHkyyiSgubN1Vi6bOyMXOwlybLMPE\n",
       "nQEntjVtRdQ87NRVsGptMY+FiIimVuliI5TKSDV7z5F+hFnNvi2CIOCRBZuQZ8mS+npc/fjx4V8j\n",
       "GObe4zS3xCzJttvtiXa7/T/tdnuT3W732u32Prvdvs1ut1fEKgYiik+NHSN4a8IwcZ1Giac2zI/5\n",
       "MPHxedhvwxmM3JUvMBdivmVBTOMgIqLpodcpUbTAILX7Bv246BiTMaL4olQo8XTJo7DozFLfxV4H\n",
       "Xj77toxREcVeTJJsu91uAXAMwHcAtAL4FYBzAB4HcNBut1fFIg4iij+BYBg/3nLNMPE18gwTP9S9\n",
       "H01jDVLbrLFwHjYR0SyzpMgE5YQr5N1H+hHmllS3zagx4Gulj0M9YQrVp3V7sbPhoIxREcVWrCrZ\n",
       "fw1gPoD/z+FwbHA4HN91OBz3A/guAD2A52IUBxHFmbd21qK5KzJM3J5rQ6U99sPEW8aasK9zt9RW\n",
       "Ckqsz9gEtUId81iIiGj6GA1K2Asj1ezuPh9q6jmv+E6km1Lw5OKHo/p+c/oNVPfVyRQRUWzFKsn+\n",
       "MgA3gH+e2OlwOJ4D0AOgym6358QoFiKKEw3tw9i6K3qY+JMyDBN3BVx4r2krxAnzsJelroRNmxjT\n",
       "OIiIKDbKikyY+Faz+0g/RFaz70hR6gJsyF8ptUPhEH506AX0uQZkjIooNqY9ybbb7QKAfAA1DofD\n",
       "d4OXtAMQAGTd4BgRzVHjq4mfkX2YuCiG8X7z2xgLRObk5ScUoNC8MKZxEBFR7CSYVFhYEKlmt3d5\n",
       "UdfskjGi+LQhfyUWpxRK7VGfE/9++FdcCI1mvVhUsgUATwP43rUH7Ha7GYAd48v09sYgFiKKE2/u\n",
       "dEQPE8+TZ5j44Z6DaBitl9pmtRkr09bIsjc3ERHFTnnxNdXsw/3yBROnBEHAk4sfRpopReprGGzB\n",
       "e5c/kTEqouk37Um2w+EIOxyO9x0Ox+GJ/Xa7XQngeQAmABcdDkfjdMdCRPGhvn0YW3dF5m3pNEo8\n",
       "uT72w8RbnS3Y07FLaisEJdZlch42EdFcYDGrMD9PL7Wb2z1obHPLGFF80ijV+GrJY9AoNVLfO5c/\n",
       "Qd1Ak4xREU0vWfbJttvt8wHsBfA1AF4A35YjDiKaeQLBMP7jjTNR+5I+uqYg5sPE3UEX3mt8CyLC\n",
       "Ut+ylBVI1CbFNA4iIpJPeYkpqr2H1ey7YtNb8MiCjVI7LIbxs6O/gzd4o5mkRPFPdeuXTB273a4G\n",
       "8D8A/B0AHYAWAF93OBxH7+FzchUKolnkzR3XDxOvsKdMcsbUE8Uw3m96F6OBSBx5pnlYYLHHNA4i\n",
       "IpJXolWN/Bwdmtu8AIC6ZhdaOz3IzdTf4ky6Vll6ERz9jajpH5+C1eXsxatn38W3qr4uc2Q0i520\n",
       "22/v2s3hcEzpcMmYVbLtdvs8AEcB/ACAGsBPAZTcS4JNRLNLfdswtu6OHib+lAyriR/pOYz60ciq\n",
       "5gnqBM7DJiKaoyqvrWYfYTX7bgiCgEft98GoiSwo93nDfpzpuihjVETTIyaVbLvdngXgIIAMAGcB\n",
       "/LHD4TgzFZ/7du862O32pQBOTsXXJKKpFwiG8JM3TkcPE19bALMxtsPE252t2N2xQ2orBAXWZWyK\n",
       "mktGRERzR3KSBjmZWrR1jg9trq53orPHi8w0ncyRxR+jxoAnFj2I189vk/p+cfwV/NvDfw+z1jTJ\n",
       "mUR3pcrhcJyS4wvHqpL9I4wn2J8AWDlVCTYRzR5bPnegpTuyTdaiPBsqFsZ2mLgn6Ma7TdHzsJcm\n",
       "L0eSLjmmcRAR0cxSWZoQ1WY1++4tSJqHpZlLpPawdxQvnHyN+5DTrBKLfbKNAJ4A0Afgqw6Hwz/d\n",
       "X5OI4stnR5uvX008xsPERVHE9ub3MOIfkfpyTXmwWxfHLAYiIpqZ0lI0yEyPjGi64BhDSztXGr9b\n",
       "DxauR6LeKrWPt5/F/uZjMkZENLViMVy8EoAWwACA/+cmk89FAP/kcDiGYxAPEc0ge0614bm3z0X1\n",
       "PSbDMPGjvYdRO1IjtY0qE1alreU8bCIiAgBUliSgs3tAar/3eTe++4fzoFTyfeJOaZRqPLX4Yfz2\n",
       "zJtSBfu3p9/E4tQFSDVyFw+Kf7EYLp525aMdwH+b5GGOQSxENIMcOteJn2w5jYkjxNaWZaI8xsPE\n",
       "HcPV2Nn+mdRWQIH1GZugUcY20SciopkrM12LgtzIPOzuPh8OnRqUMaL4lm3JwLq85VLbE/TiuWO/\n",
       "QzgcnuQsovgw7ZVsh8PxNmTaj5uIZq4Tl7vx7KsnMWGdM6woTscjq/JjWj3udLXj3catGB9QM64y\n",
       "ZRmS9bFN9ImIaOZbVWVBW5cPgcD4e8bOg31YssgMq1ktc2TxaX3eCtQPNKNzrAcAUN1Xjw9rd+Lx\n",
       "RQ/KHBnRvWHyS0Qxd7a2F//y0gmEJmTYlfZUPLauIKYJ9pBvCG/Uv4qgGJD6Ci0LschaFLMYiIgo\n",
       "fhgNSlSVRRZB8wdEfLCrR8aI4ptSocRTRQ9DpYjU/bZc2I7moXYZoyK6d0yyiSimLjUO4AcvHkcg\n",
       "GBkOVlqYjC9uLIQihgm2J+jBG/WvwBV0SX2ZhiysSF3NedhERHRTxQuNSLJFKteXasdQXT82yRk0\n",
       "mWRDIh4sXC+1Q+EQfnbsd/CHApOcRTSzMckmopipbR3C9399FD5/SOpbnJ+Ir2xeAIUidoltKBzE\n",
       "1oYt6Pf2SX02jQ3rMjZBIfDPIhER3ZxCIWDdCktU3/adPfAHOJf4blVlLsH8xDyp3TrSgTcvbJcx\n",
       "IqJ7w6tJIoqJxo4R/MMLR+DxBaW+BTlWfP1BO5TK2P0pEkURH7RsQ4uzSerTKw3YlPUgNErNJGcS\n",
       "ERGNS03WoGihQWoPjQSw+zD3zr5bgiDgiUUPQq+KLCz3oWMXLvXWyhgV0d1jkk1E0661exR//8vD\n",
       "cHkiQ7/mZZrx+w8tgiqGCTYA7O/agwuDkS3DVIIKm7MegFFtjGkcREQU35aVm6HXRd7D9h8fQE+/\n",
       "T8aI4luC1oRH7fdJbREifnbsd3D7PTJGRXR3mGQT0bTq7Hfi7395GKMuv9SXm5aA/+uRxdColTGN\n",
       "5dzAGezv2iO1BQhYn7kJiTruyUlERHdGq1Fg5dLIDrThMLDt825p32e6c0WpC7EkbbHUHnAP4ben\n",
       "35QxIqK7wySbiKZN76Abf/f8YQyORu7sZyYb8YdfKIJWM+07CEZpGm3Ah83bovqWp65CljEnpnEQ\n",
       "EdHsUZivR2Z6ZKpRU5sbpy+OyBhR/Htk4SZYtJEV3Pe3HMORtlMyRkR055hkE9G0GBjx4O+eP4y+\n",
       "ocgwr7REA775WDH02tgm2H2eXmxtfANhRBalKbaVYqF1UUzjICKi2UUQBKxdZoViwhX1x3t64faE\n",
       "bn4STUqn0uLJxQ9H9f3q5BYMeoZliojozjHJJqIpNzzmw989fxhdA5HtsZItOnzzsWIYdOpJzpx6\n",
       "zsAYttS/Al/IK/XlmeahIrkqpnEQEdHsZLWoUFZkktouTwif7uuVMaL4l2/LxqqcpVLb6XfhF8df\n",
       "4VB8ihtMsoloSo25/fiHFw6jvdcp9dkStPjjx0uQYIjt6t3+kB9v1L+GEX/k7neKLhVr0tdxL2wi\n",
       "IpoyFSUJSDBF1hk5fm4YLe1uGSOKf5sLViPVmCy1z3Vfxuf1+2WMiOj2Mckmoinj9gbwjy8cQVPn\n",
       "qNRnNmrwx4+XwGLSxjSWsBjGe01b0eXukPoS1GZszLofSkVsh6sTEdHsplIJWLs8eu/s9z7vRijM\n",
       "yuvdUilU+GLRw1AKkZsXr5x7B52j3TJGRXR7mGQT0ZTw+oL4/q+Poq4tUjU26dX41uMlSDTrJjlz\n",
       "euxo/wS1IzVSW6vQYnPWA9ApYx8LERHNfjmZOhTkRt5juvt8OHxyUMaI4l+aKQWbClZLbX8ogJ8e\n",
       "/R3C4fAkZxHJj0k2Ed0ztzeAH7x4DJebIhcTBp0K33ysGMlWfczjOdZzBMd7j0pthaDExqz7YdZY\n",
       "JjmLiIjo3qyqskCtjkxH2nGwD8OjARkjin+rciqRZ8mS2g1DLTjReU7GiIhujUk2Ed2TmpZBfO9H\n",
       "e3Gurl/q02mU+KNHi5GeZIx9PMOX8Xn7J1F9a9LXIVWfFvNYiIhobjEalKgqi2w/5Q+I+GBXj4wR\n",
       "xT+FoMCTix+KGjb+fvXnXASNZjQm2UR0V0JhEW/trMVf/+wgegYji7toVAr81y8UISvFNMnZ06PD\n",
       "1Y73Gt8GEHnjrUyuQn5CQcxjISKiual4oRFJtshOGpdqx1BdPyZjRPHPqrdgSfpiqV0/2IzqvnoZ\n",
       "IyKaHJNsIrpjAyMe/MMvD+OVT6oRnrCoi8WowTcfK0ZuujnmMQ35hvBm/asIipFheQssdhTZSmMe\n",
       "CxERzV0KhYB1K6KnJ23f2QN/gPOI78WqnMqo9nbHDpkiIbo1JtlEdEeOXezCd/9tL87X90f1F81L\n",
       "xHe/Ui5Lgj3qH8XrdS/BFYzsy51pyMLy1FXcqouIiGIuNVmDooUGqT00EsDuw/2TnEG3kmJMgj05\n",
       "MjLtdOcFtI90yRgR0c0xySai2+ILhPD8u+fxgxePY8ztl/pVSgWeWD8fv//QIhh06kk+w/QY9g3j\n",
       "ZcevMegbkPps2kSsz9wMhcA/cUREJI9l5WbodZH3of3HB9DT75Mxovi3Oqcqqs1qNs1UvAIloltq\n",
       "6R7Ff//JPnx0qCmqPz3RgGe+XIYVxemyVIwHvQN4ufbXGPIPSX0GlRGbMx+AWhH7hJ+IiOgqrUaB\n",
       "lUsjo7vCYWDb591csOse5FqzkG3OkNoHWo5j0D08yRlE8mCSTUQ3JYoiPjnchP/2431o6Y5etGVl\n",
       "SQa+/aUypCUabnL29Orz9OKl2t9gxD8i9ZnUJjyU83swqGO/qjkREdG1CvP1yEzXSO2mNjdOXxyZ\n",
       "5Ay6lTW5kWp2KBzCx3W7ZYyG6MaYZBPRDY26/Pjn3x3Hz985D38wsliLQafCHzyyGI+vK4BaJc+f\n",
       "kG53F16u/S2cgUjib1Zb8FD2F2BSJ0xyJhERUewIgoC1y6xQTHi7/HhPL9yekHxBxTl78nwk6W1S\n",
       "e0fDAbj9HhkjIroek2wius6F+n5870d7cPRid1R/QZYF3326HIvzE2WKDOh0teOV2hfhnrDImVVj\n",
       "w4OsYBMR0QxktahQVhTZ1tLlCeHTfb0yRhTfBEHAqtylUtsT8GJn4wEZIyK6HpNsIpKEQmG8+kk1\n",
       "/vb5QxgY8Ur9CoWAh1bk4ZuPFsNi0soWX6uzBa/U/g7eUOSOdaI2CQ/kPAK9Si9bXERERJOpKElA\n",
       "gkkptY+fG0Z9i2uSM2gyZWmLYdREpqt9VLsbwVBQxoiIojHJJiIAQM+gG3/z3EG8ubMWE9dkSTTr\n",
       "8H8/WYoNldlQKOTbDqtptBGv170EfziyMmuyLgUPZD8MnVInW1xERES3olIJWPrl9e0AACAASURB\n",
       "VLs8eu/s17a1o2+Qq43fDZVShRVZFVJ7yDOCg60nZIyIKBqTbKI5ThRF7D7Ziu/9aA9qWoaijpUv\n",
       "TMF3ni5DTpq885zrR2rxRv0rCIQDUl+aPh33Zz8MjVK+yjoREdHtysnUoXBeZNSVxxvG795ug8vD\n",
       "CuzdqMpaArUyspPI9podCIvhSc4gih0m2URzWM+gG//4whH8eMsZuL2RN3mNWoGnNy/AV+5bCJ1G\n",
       "JWOEQM3QZbzZ8DqCYiS+DEMWNmc9yG26iIgorqxfYUVKUuS9a2AogFfebUcwyOTwTunVOizNKJXa\n",
       "7aNdONN1ScaIiCKYZBPNQaGwiPf3N+CZZ3fjTG1f1LHsVBO++3Q5KuypMkUXcXHwPN5ufBNhMbIK\n",
       "a7YxB5sy74NKIW/yT0REdKdUKgEPbUyEyRiZn93c7sE7n3L/7LuxMqcCghCZyra9ZoeM0RBFMMkm\n",
       "mmNaukbx1z89gF+/fxE+fyR5VSgEbFqajT99shRJFvkXETvbfxrvNb0NEZG7+3mmfKzP3AwlE2wi\n",
       "IopTBr0SD29KhFodSQ7PXBrB7iMDMkYVnyw6M0pT7VK7uq8Otf2NMkZENI5JNtEcEQiG8NqnNfjL\n",
       "H++FozV67nV2qgnf+XIZHlieB5VS/j8LJ3uP4YOW9wBE7uoXJMzH2oyNUArKm59IREQUBxKtaty/\n",
       "zoYJRVjsONCHc5dH5AsqTq3OrYpqb3ewmk3yYzmIaA6obhrET7eeQVuPM6pfrVLgweV5WFWaIevK\n",
       "4RMd7TmEHe2fRvUVWhZiZeqaqCFhRERE8SwnU4c1yyw4eDySWG/9uAtWixp5WYZJzqSJ0kwpmJ+Y\n",
       "h4bBFgDAifZz6BrrRUaC/NPeaO6Sv2RFRNPG7Q3gl++ex18/d+C6BLsw24q/+GoF1pRlzpgE+0DX\n",
       "3usS7EXWIibYREQ0KxUtNKJkkVFqB0MiXn63HYPDfhmjij9rJlSzRYj4wLFTxmiImGQTzVonq3vw\n",
       "nX/bgw8PNUXte63XqvDlTQvwR48WIdE8M/aXFkURuzt2YG/nrqj+YlspqlJWMMEmIqJZa2WlGblZ\n",
       "ke0oXe4Qfvd2Gzze0CRn0UT51pyoyvW+piMY9o7KGBHNdUyyiWaZEacPP3rtFL7/66PoG/JEHSud\n",
       "n4S//FoFKhelzpjEVRRF7OnciUPd+6P6y5IqUJFcNWPiJCIimg4KhYD71tqQZIvM4uwd8OP19zsQ\n",
       "CnHF8dshCAJW50Sq2YFwEJ/W7ZUvIJrzmGQTzRKiKGLv6Xb8+Q93Y+/p9qhjZqMGf/DwInz9wUVI\n",
       "MGhkivDG9nXtvi7BrkyuwpKkCibYREQ0J6jVCjy0MQkGfeTSvK7Zhfd3cGuv21WUsgBWnVlqf1a/\n",
       "D96AV8aIaC5jkk00C/QNefD//uYYfvTaKYy6oudxLS9Kw19+tQKL5yXJFN3NHejaiwNde6P6qlJW\n",
       "oDhxiTwBERERycRkVOLhjYlQKSM3mI+fG8aBE4MyRhU/FAoFVuUsldouvxu7mw7LGBHNZUyyieKY\n",
       "KIr47GgLnnl2N05W90QdS7Lo8K0nSvDkhkLotDNvI4FD3fuvm4O9NGU5FtuKZYqIiIhIXslJGmxe\n",
       "a43q+2RPLy7VjskUUXwpzyiGXh1Zb+ZDxy4Ew5zbTrHHJJsoTg2MePD9Xx/Fz7aehccXlPoVArCh\n",
       "Ihvf+0o5CjItMkZ4c0d6DmF3R/Q+lpXJVSiylcgUERER0cyQn6PHysrIsGcRwBsfdqC923PzkwgA\n",
       "oFGqsTyrXGr3uwdxtO2UjBHRXMUkmyjOiKKI3Sfb8Myze3CqpjfqWGayEX/+5TI8tDIPapVSpggn\n",
       "d6znCHZes01XeVIlh4gTERFdUbrYiMULIntlBwIiXnqnHSOjARmjig/LssqgUkSugbbX7OC8doo5\n",
       "JtlEcWRozIt/evE4frzlNFyeyButUiHg/uW5+PYXlyAz2SRjhJM72XsMn7d/HNW3JLEcpUnlNzmD\n",
       "iIho7hEEAWuWWZCVEdnaa8wZxO/eaYPPH5YxspnPqDGgPCMyMq55uB0XempkjIjmIibZRHHiwNkO\n",
       "PPPDPTh2qTuqPz3JgD//Uhk2L82BUjlzf6VP953AJ20fRvWVJC7BkqQKmSIiIiKauRQKAQ+ss8Fm\n",
       "iayr0tXrw5btHQiHWZmdzKqcSgiILCD3fs3nMkZDc9HMvSInIgDj+17/n5dP4IevnMSYO7JyuEIA\n",
       "Ni3Nxp9/qQwZyUYZI7y1s/2n8VHr9qi+IlspypOWcpsuIiKim9BoFHh4UyL0usgle02DEx/t6Z3k\n",
       "LErUW7E4pVBqX+ipQdNQm4wR0VzDJJtoBjt6sQvfeXYPDp7rjOpPsenxZ19cggeW50E1g6vXAHB+\n",
       "4Cw+aNkW1bfIWozK5Com2ERERLeQYFLhwQ2JmPh2f+jkIPYe7edc40mszq2Kam9nNZtiaGZfnRPN\n",
       "UU63H//++in804vHMez0Sf0CgHXlWfjOl8uRnZogX4C36eLgeWxvfhfja6OOs1sXoyplORNsIiKi\n",
       "25SWosHG1baovk/39WHrx10IBDlH+0ayzOnIt+ZI7SNtp9HrGpAxIppLmGQTzTAnq3vwzLN7sOdU\n",
       "e1R/kkWHP32qFI+syodaNfN/dS8PXcS2pncgTkiwF1jsWJaykgk2ERHRHZqfr0dVWfQN9tMXR/DC\n",
       "6y0YHeOq4zeyOnep9DwshvGRY5eM0dBcMvOv1InmCLc3gP988wy+/+ujGBz1Rh1bVZqB7z5djrx0\n",
       "803Onllqhi/jvcatEBG5u15oXogVqauZYBMREd2lihITVlSaMfGttK3Li5++1ISWDrd8gc1QhYn5\n",
       "SDUmSe3djYcw5nPKGBHNFUyyiWaAc7V9+M6/7cGO461R/bYELb71eAkeW1sAjXpm7nt9rdphB95p\n",
       "fAvhCQl2gbkQK9PWMMEmIiK6B4IgoKzIhIc3JUKjibynjrlCeGFLK06cG5YxuplHEISoudm+kB+f\n",
       "1e+XMSKaK5hkE8nI7Q3g52+fw9/98jD6hjxRx5YXpeF7XylHQZZFpujuXP1IHd5u3IKwGJL68hMK\n",
       "sCptLRNsIiKiKZKTqcNTj6REbe8VCol459MuvL+jG6EQF0S7qiTVDrPWJLU/rdsDf9A/yRlE945J\n",
       "NpFMTtf04pln9+CTI81R/RajBn/0aBGe3FAIrUZ1w3NnosbRerzV8DpCExLsvIR5WJO+HgqBf2qI\n",
       "iIimkiVBhSceTkZeti6q/8jpIfzmrVY43UGZIptZlAolVmZXSu1RnxO7Gg/JGBHNBbzyJYoxp9uP\n",
       "/3jjDP7xV0fQPxxdva60p+J7X63AghzbTc6emRpG6vBm/WsIiZE39FxTPtamb2CCTURENE00agUe\n",
       "3GBDZakpqr+x1Y2fvdSMzh7vTc6cWyozS6FVaaX2u9Wfwhvgvw1NH179EsXQsYtdeObZ3dh5Inru\n",
       "tdmowR/+3mJ8efMC6LXxU70WRRHHe49iS/2rCE5IsLONuVibwQSbiIhougmCgKoyMx5Yb4NKFZma\n",
       "NTwawC9ebca56lEZo5sZtCoNVudEVhof8Y7io9rdMkZEs138XM0TxbERpw+/2nYR+860X3ds2eI0\n",
       "PLIqH7o4Sq4BICSG8GnrhzjdfzKqP8uYjfUZm6AU4mOhNiIiotlgXq4eFrMKn+0dxJhzfOpWIChi\n",
       "y/YOdPV68eC6FCgUc3d9lJXZFTjecRYu//gq7NsdO/BA4fqo+dpEU4VlJqJpJIoiDp7rwDPP7r4u\n",
       "wbYlaPHNx4rx1MbCuEuw3UE3Xqt96boEuyBhPjZk3Aelggk2ERFRrCVa1XjqkRRkZWij+vceHcBL\n",
       "77TB4w3d5MzZT6PSYH3eCqntCXix7fKnMkZEsxmTbKJpMjTqxb+8dAL/5+WTGHFGr2K5qjQD3/tq\n",
       "BQqzrTJFd/f6PL34bfXzaHE2RfVXJldhdfp6JthEREQy0mkVeGRTIkoXG6P6HY0uPPdKM3oHfDJF\n",
       "Jr+lmaWw6SK7tnxWvw/9rkEZI6LZikk20RQTRRF7TrXhmWd348iFrqhjSRYd/uSJ8X2vtXGy7/VE\n",
       "9SO1eLHmBQz5h6Q+laDCxsz7UZy4hNt0ERERzQAKhYBVSy3YuNoK5YSr/f5BP557uRnV9WPyBScj\n",
       "pUKJTQWrpXYgHMTWSx/JGBHNVvE1RpVohusf9uC5t8/hZHVPVL8gAGuXZOK+ZbnQxGFyLYoijvUe\n",
       "xs72zyAisvemUWXCpqz7YdMmyhgdERER3cjCAgNsFhU+3zcIlzsMAPD5w3j5nXZsWp2MTSuToFbP\n",
       "rZpbSaodh1pPosfZBwDY23wEj9nvR7YlQ+bIaDaZW79VRNNEFEV8drQFzzy7+7oEO9Wmx589tQSP\n",
       "rJ4Xlwl2KBzEhy3bsKP906gEO1Wfht/LfYwJNhER0QyWkqTBU4+kIC1FI/WJAHYf7sezLzTg+Lkh\n",
       "hMLizT/BLCMIAu4rWCO1RVHEGxe2yxgRzUasZBPdo55BN3721lmcreuL6lcIwIbKbGxamgOVMj7v\n",
       "Z7kCLrzduAWtzpao/vnmBViRuprzr4mIiOKAQa/Eo/cn4dCJEdTUu6X+UWcQ737ajQPHB/HQ+hQU\n",
       "L0yYE1O/ChPzkWfJQstIBwDgeMdZ1A00YUHSPJkjo9kiPq/8iWaAYCiMd/fU4Zlnd1+XYGckG/Hn\n",
       "XyrDA8vz4jbB7vX04Lc1z1+XYC9NXoZVaWuZYBMREcURpVLA+pVWrF9pgVYbfW3SN+jHq9s68PNX\n",
       "mtHQ6pIpwtgRBAH3zV8b1ff6+W0QxblT0afpxUo20V2oaRnEc1vPoblrNKpfqRCwqSoHG8qzoIzT\n",
       "5BoAaodr8F7TVvjDkVXR1Qo11qVvRJYpR8bIiIiI6F4sKjSiIFePc5eduFDtQjAUSSzburz41ZZW\n",
       "2AuMeGhDKjJTdTJGOr1yLJmwJ8+Ho78BAHCptxbnuqtRnlEkc2Q0GzDJJroDLk8AL398GZ8caca1\n",
       "NzuzU0340qYFSEs0yBLbVBBFEUd6DmJXxw5gwvxrkzoBmzLvh1Vrky84IiIimhIajQLLys0oXmjE\n",
       "6YtjqK5zR13XOBpdqG1sQlmRGQ+uS0GiVXPzTxbHNheslpJsAHj9/HtYkr4ICiF+CyU0MzDJJroN\n",
       "oiji0PlO/GrbBQyORu8vqVUr8eCKPKwoTodCEb/zmILhID5qeR/nB89G9afp07E+czN0ytl7N5uI\n",
       "iGguMhiUWLvcitLFJpw4O4rGFq90TARw9vIoLtSMYkWFDZtXJcNknF2pQ6oxGWXpRTjXfRkA0Dzc\n",
       "jiNtp7Amd5nMkVG8m12/KUTToGfQjeffPX/dquEAUFKQhC+smQeLSStDZFPHGRjD1oYtaHe1RfUX\n",
       "WhZieeoqKAXOvyYiIpqtLAkq3L8uEX1Ffhw/O4aOrkhBIRQGDp8awskLI1i/LBHrliVCq5091wUb\n",
       "563CxR4HQmIIAPDGhQ+wIrsSKq49Q/eASTbRTQRDYWzf34DXPnPAHwhFHbOatHh8XQEW5cf39lWu\n",
       "gBNHeg7hVN/xqPnXAgQsTVmORdaiObHKKBEREY1v9/WF+5LQ3uXD8TOj6B8MSMf8/jB2HurHkTND\n",
       "2Lw6GSvKbVAp4/8awaozoyprCY61nwEA9Dj7sLvxIB4s3CBzZBTPmGQT3cDNFjZTCMCaJZnYvCwX\n",
       "2jjc8/qqUf8ojvQcxOm+kwiKgahjaoUG6zM2ItOYLVN0REREJKfsDC2y0pPR2OrFibOjGB2LFBtc\n",
       "7hA+2NmDgycGsaLciqUlViSY4julWJe3HGe6LsEfGi84vH3pY6zPXwmdKr5HKpJ84vs3gmiKuTwB\n",
       "vPTxZXx65MYLmz25YT4yk02yxDYVhn3DONxzAGf7T0nDoiYyqy3YmHUfLBqrDNERERHRTCEIAubn\n",
       "6TEvR4eaejdOnR+DxxuWjg+NBPDpvj58vr8PiwpNqFpihb3ABGUcrk9j1BiwOmcp9jYfAQAMe0fx\n",
       "Se0ePFX0sMyRUbxikk2EyMJmL7x3AUNjN1jYbGUeVhTF78Jmg94BHOrej/MDZxFG+LrjJnUCShLL\n",
       "UGCez/nXREREJFEoBBQtNGJBgR4Xa1w4e8mJQCBSiQiLwOU6Jy7XOZFgUqGq1IKqUiuSbPG1IvnK\n",
       "nEoc7zgLd8ADAHi/5nM8MH8dTFqjzJFRPGKSTXNe94ALz797Hqdqeq87VlKQhEfXzoPZGJ/Dhfo8\n",
       "vTjYvQ+XBi9AhHjdcbPagtKkMuQnFHC7CiIiIroptUqBipIELF5gxMUaJxwNbrjc0Tfux5xB7Dky\n",
       "gD1HBlCQa8CyJVaULEyAWj3zrzG0Kg3W56/Ap3V7AQDugAfbaj7DN8q+KG9gFJeYZNOc1T/swTt7\n",
       "6vDZ0RYEgtFvEvG+sFm3uwsHu/ahevgycIPk2qqxoTSpDLmmfCbXREREdNt0WgWqysyoLE1Ae5cP\n",
       "NfVutLR7r5tm19jqRmOrG+9rFagotmDZEisy02b2dqBLM0txtO00hr3ja/J8UrcXjyzYhCSDTebI\n",
       "KN4wyaY5p3fIjbd312HHsVYEQ9HJ9dWFze5blgtNHC5s1ulqx4Gufagdqbnh8URtEpYklSPbmMtV\n",
       "w4mIiOiuKRQCcrN0yM3Swe0Joa7Rg5p6F0bGotd88frCOHJ6CEdODyErTYdlZVaULTZDr5t511kq\n",
       "hQob563CturPAACBUABbL32EP1v2DZkjo3jDJJvmjO4BF97eXYddJ1oRDF1f3Y3Xhc2C4SBanM04\n",
       "1nMIDaP1N3xNii4VpUnlyDRkMbkmIiKiKWXQK1FWbMKSIiN6+vyoqXejocWL0DXXWx09XnR83o2P\n",
       "dvegxG7G8jIr8rP1M+rapDRtEQ63nkKvqx8AsKfpMB6z348sc7rMkVE8YZJNs15Xvwtbd9Vi98k2\n",
       "hMLXJ9cpNj02VeZgSWFy3CxsNuwbRsNoLepH6tA01ojAhD2uJ0rTp6M0qRzp+owZ9QZGREREs48g\n",
       "CEhP1SI9VYvVVWHUN3vgaHCjbyB6u9BAUMSZSyM4c2kEqUkarCi3oaLEAsMMqG4rBAXuK1iDLRfe\n",
       "BzC+OO4bF7bjv6/5U5kjo3jCJJtmrY4+J97aWYu9p9sRvkFynZZowOaqHBQXJEExwxPQYDiINmcL\n",
       "6kfrUD9Si35v36SvzzRkoTSpDKl63nUlIiKi2NNoFChaaETRQiMGhgKoqXejvskNnz/6mqx3wI8P\n",
       "dvXgk329WLLIjJXlNuRk6mQtDixImoccSybaRjoBAMfaz6B+oBmFSfmyxUTxhUk2zTqt3aN4a2cd\n",
       "Dpxtxw1ya2QkG7F5aQ4Wz0uc0cn17VarJ8o25qA0sRzJ+pQYREhERER0a0k2NdYss2BFpRnNrR7U\n",
       "NLjR2R19XRMMijh9cQSnL44gPUWLFeVWVBRboNPGvrotCALuL1iLF8+8JfVtubANf7/xL2MeC8Un\n",
       "Jtk0azR3jeLNHQ4cOt953QqXAJCVYsLmqhwsyrPNyKHTd1qtBgC1QoMMQyayjNnINGbDoDLEIFIi\n",
       "IiKiO6dSCiicZ0DhPANGxoKornOhtsEDry96IdruPh/e39GDT/b2omyxBSvKrcjO0Mc01lxrFhYm\n",
       "zUPtQBMA4EKPA+e7q7EkfXFM46D4xCSb4l5jxwje2OHAkQtdNzyek2rC5qpcLMy1zpjkWhTDGPIP\n",
       "o8fdhR5PN7pcnWhxNt9WtdqmTRxPqg3ZSNGncgsuIiIiijuWBBVWVlqwrMyMplYPquvc6OqNvg7y\n",
       "B0ScOD+ME+eHkZWuw4oyK8qKLNBqYnPts7lgrZRkA8Dr57ehJM3Oay+6JSbZFHd8gRAuNQ7gjKMX\n",
       "px29aO0eu+Hr8tITsLkqF4XZFlmT62A4gD5PL7o93ehxd1352A1/2Hdb57NaTURERLOVckJ1e2gk\n",
       "gOo6N+oar5+73dHtxbvd3fhoTy8qis1YXm5DZur07rudZkrGkrTFON9TDQBoHGrFsfYzWJWzdFq/\n",
       "LsU/Jtk044miiLaeMZx29OGMoxcXG/rhD4Zv+vp5mWZsrspBQWbsk2t30IVu99Vkugs97m70e/sh\n",
       "4ubx3ohNm4hMQzayjKxWExER0dxgs6ixusqC5eVmNLZ6UF3nQk9f9MrkPn8YR88M4+iZYeRm6rF+\n",
       "eSKKFiZM2zo7G+etwsVeB8Li+LXcG+e3Y1lWOVQK+VdCp5mLSTbNSE63H+fq+nH6SrW6f9hzy3Pm\n",
       "Z1mw6UpyPd3CYggD3gH0eLrR6+lBj7sbPZ5ujAVG7+rzmdQmJGmTkclqNREREc1xKpWAhQUGLCww\n",
       "YHAogMt1LtQ1eRAIRFe3Wzs9eHVbB5ITNVi/PBGVxRaoVFNbmLDpLajKXILjHWcBAF3OXnxSuweP\n",
       "Lbp/Sr8OzS5MsmlGCIVF1LUN4UzNeFJd2zp0w5XBr5WRbMTCHCuK5iUhJy1hWmJzB13ocfeg19ON\n",
       "Hk8Pejzd6PP0IiQG7/hzKQQFrBobbNpEJGqTYNMmwqZNhEapmYbIiYiIiOJbok2NtcutWFFpRkOz\n",
       "F9V1ruv23e4f9OPdT7ux40Af1lQlYmWFbUpXJV+fvwJnui8hEBr/uq+cewcjvjH8l9InoFBwtCFd\n",
       "j0k2xZQvEMLAiAcDw170DXswMOJBQ8cIztX2wekJ3PJ8o06NBTlWLMixojDHigTD1CWnITGEAW8/\n",
       "eq7Mme71jCfWY4Ebz/m+Fa1CC5tuYjKdBIvGwqHfRERERHdIrVJgUaEBiwoN6B8M4GKNE/XNHoQn\n",
       "zMgbc4Xw6b4+7DkygJUVNqypssFsUt/z1zZqDFiXuxy7mw5JfdtrPkfbSCf+YuU3YdDEduVzmvmY\n",
       "ZNOU8fqCGBj1on/Ig/6R8cfAsHf8+bAH/cNejLlvvXr2RAqFgLz0BCzIsWFBjhUZycZ7nnPjD/kw\n",
       "4BvAgLdfevR7+9Dv7UNIDN3V50xQm69UpxOlhNqgMsyY1cyJiIiIZovkRDU2rrahqsyMizVOVNe5\n",
       "EQhGhkD6/GHsOzaAgycHUVFsxoblSUhJ0t7T11ybtwzekA+HW09KfWe6LuJvd/4Q/3Pdt5GRkHpP\n",
       "n59mFybZt0EURfgCIXh8wfGHd/yjLxBCIBhGMBQe/zjxeSiMwIT+QOjqcRGBYAjBkIhgaPzWm0IQ\n",
       "oFAIVz4CgiBAqZjYJ0AQILWvHhOEyHGFAtIxQYg+N3Ierj9PEKSYr8Y48Xu6GmsgeM33Kh0PY9Tl\n",
       "R/+w57Yq0bcj0ayTqtUFWRboNHf+YxoWwxjxD0cS6QlJ9d3OmwbGV/q2aW2wacaTaavWBqvWBrXi\n",
       "3u+SEhEREdHtMxmVWLnUgorSBFyudeFijQseb6S0HQqJOHl+BKfOj6BoYQI2rEhCbubdVZ0FQcAD\n",
       "89chzZiM7Y4dCIXHCzMdY9343zv+FX+5+lsoSy+aku+L4t+cTLJPVPegcVAP15Vk2eMLwuuLPHdf\n",
       "0/b6grc1P5jujk6jRH6GGQtybViYY0WS5fb++ImiCFfQhSHfIAa9/ej3RSrTQ77Bu65KA4AA4Up1\n",
       "2nYlmR5Pqo0qI6vTRERERDOIVqNARUkCShebUNfoxrnLToyORa4DRQCXasdwqXYM83IM2LAiCfaC\n",
       "u7umW5K+GEkGG968sB1jfhcAwBXw4J/3/wx/UPYlfGHhZl4r0txMsl//tAY6q1PuMOYEnUYJi0k7\n",
       "/jBqYDZpYDFqYTFpYDFpYTZqJq1Uh8UwRv0j44m0bxBDVx6DvgEM+4bgD9/Z8PMb0SsNMGvMUjKd\n",
       "qE2ERWOFSjEnfz2IiIiI4pJKKWDxAiPs8w1obvPi3CUn+gajR1o2tbnR1OZGeooWG1YkodSecMcr\n",
       "kmeZ0/EnVf8Fb178AB2j3QDGiz8vn30brcMd+JOqr0Ot5CjHuYxZRAyolAKUCgWUSgEqpQJKhQDl\n",
       "lY8AEBZFiGERYXH8F1QUr/SJIsJhQISIcDi6P/J8emMfjzUSt0qpgFKpgOrq96AUoNeoYDFpYL6S\n",
       "SEcSai206luv7BgMBzDkG7ryGJiQSA9i2D+M8D1UpK9SCSqYNRaYNWaY1ZYrz8cfHOpNRERENHso\n",
       "FAIK8vSYl6tDV48fZy850d7li3pNd58Pb37YiQ92KrFksRlLSyzIztDddhU6QWvCfy1/Gh/W7sS5\n",
       "7mqpf2/zEXSO9eCv1vwprPrp31aWZqY5n2SrlApo1UpoNUpo1Upo1ONtjdRWRh2X+jRKaFQKKemM\n",
       "JKBC5PmEudPT5dqkfGLyHQ6LkWRdBMSwCBET+8fPV1yJ9+rNAJUychNgKmL3hXwY8Q+PP3zDGL76\n",
       "/ErbGZyaUQUCBBjVJpjV5qgk2qy2cBEyIiIiojlGEARkpmuRma5F/2AA5y870dDiiSpSub0hHD0z\n",
       "hKNnhpCSqEFliQWVxRZYzLcuwqiUKjyx6CGkGVOwo+EAxq+0gdqBRvzNjn/F/1j7Z5ifmDdd3x7N\n",
       "YII43aXQK+x2uwHA/wLwdQCZANoAvArgXxwOx51vOHznX38pgJMA8L9+8HMsXlwErUYlVZPp7oii\n",
       "CHfQHUmarzyGfVefj8Ab8kzZ1xMgwKQ2waQ2I0GdgATNlY9X2koO8SYiIiKimxhzBnG+2oWaejdC\n",
       "oRvnQQKA+XlGLC21oHhBAjSaWw8nrx9oxtuXP4YvGKmYq5VqfHvZN7A2b/lUhU+3cPHiRXzpS1+6\n",
       "2qxyOByn5IgjJhmJ3W5XAXgXwIMAjgL4BEAFgO8DWAHg0VjEcZXVpIVBxyHCkwmEA3AGnHAFxuAM\n",
       "OOEMOuG8+jwwBlfAKfVPxXDuiZSCEglqM0zqBCRoribQ40m0UW3iPtNEREREdFcSTCqsWWbB0iUJ\n",
       "aGj2oK7Jjd7+6HnbIoD6FhfqW1zQaBQoXZiAylIL5uUYbrqVbGFSPv5k6dex5cL7GHAPAQACoQD+\n",
       "8+iLaB3pxNdKHodCwWvYuSJWZb9vYDzBftHhcPzx1U673f4bAH9kt9t/3+FwvBajWOYkURThC3nh\n",
       "CrrhDrrgCjrhDkSeO68mzVcSaF/Yd+tPepcECDCojDCpTTCqTTCqTDCp6MUivwAAEGtJREFUTeOJ\n",
       "tMYMvVLPod1ERERENG10WgWK7UYU240YHgmgtnE84Xa5w1Gv8/vDOHVxBKcujsBqVqOy2IzKEiuS\n",
       "EzXXfc4kgw3fWvp1vHPpY9QPNkv926o/Q+twB7636pswqO9uCzGKL7FKsp8BEATwN9f0/yuAPwLw\n",
       "JwCYZN8mURQRCPvhC/vhC3nhCbrhCriuJMwuuINuuAJOuK8k1OP97imvON+MUlDCqLqSQKuNMKmi\n",
       "k2m9ysBqNBERERHNCFaLGssr1KgqS0Bnjx91jW40tXoRvGY4+fBoALuPDGD3kQHkZelRWWLBovkm\n",
       "mE0qqUCkU2nx9SVPYFfDQRxui4xUPt11EX+784f4n2u/jYyE1Jh+fxR7055k2+32BIwPDT/pcDj6\n",
       "Jh5zOBx1dru9B8BKu92uisXc7OkyvrhYCCExjJAYusHz0JXn1xwPB+EL++AP+eALjSfN/vCE5yGf\n",
       "lExffe4P+aSFFWJNq9RBr9RDr9JDr9RDpzJAr9LDqDJKibROefsrMxIRERERzQQKhYDsDC2yM7RY\n",
       "szyMplYv6hrd6Oy5fsvYlg4PWjrG1x0y6pVIT9UiPUWHjFQtMlK02Ji/FmmmFGx37EAoPF7o6hjt\n",
       "xv/e8a94bNEDKLDlId+WDavOHNPvkWIjFpXsJQAUAC7f5Hg1gI0A8gHUxyAebKl/BUaPBaIYvpKq\n",
       "XvmvOOH5df8df0EktR1/Fr6SXIcRPbQknqgEFfRXkmXdNQm0QamHTqWHXmWATqljBZqIiIiIZj2N\n",
       "WgH7fAPs8w0YcwZR1+RBXaMbI2PXjwx1eUJoaHGjocUt9SkEIDlRg8z0jegxHoYf4wm5K+DBGxe2\n",
       "S6+z6szIt2Yj35aDfGsO8m3ZSDel8Jo7zsUiyU668rHnJseHr3xMjEEsAABX0AkxMHt/cFWCCjqV\n",
       "DlqlDjqlHjqlDjrllbZKd6Wtl/pUXJGbiIiIiOiGEkwqVJYmoKLEhN7+AGob3Who9sAfuPnI0rAI\n",
       "9A740TugBtQroF1wBgrTyHWvG/aO4mz3ZZztjtQjtSot8ixZyLdljyfe1mzkWjKhUV0/D5xmplhk\n",
       "V1fHQNxsJS1XDGOJC2qFGmqF5srHiY/xPpVCDc2VtkqhhlapjUqkmTQTEREREU0tQRCQlqJBWooG\n",
       "q6os6O7xoX8ogMGhIAaGAxgeCeKGuyMHdPBVL4cquw6q5E4I6uuHn0/kC/pQO9CI2oHGSKcoQA8L\n",
       "LMoU5GoXY56pEAadChaTFhX2VOi1vP6fSWLxf+Pqmvg3W0rv6i0Z902OTxXd1ScWZwLMozYIEHD9\n",
       "zGEh6vmNjgsTXipAgCAIUEABhSBAEBRQQAFBECBAAaWgAITxYwooIEx8nSBAISigElRQKdRQCSoo\n",
       "BWVkPnP4yuMWRATgQQAejN3+vwYREREREd2TZP34A5lAKCxizBnCyFgQo6NBjIwFMTwagt9/5YJ+\n",
       "yARgIaDyQ6FzQdC5IOjcUOicgNaLWy1p5MYIBtCKRpzCjsYShN3jtcxUmx5/9Y0qqFWzd6Tu7Wpo\n",
       "aJjY1N3sddMtFkn21cXObDc5noTxCc6dd/PJ7Xb7Ha8AdvLVPXfzpYiIiIiIiGaAk9KzVgBf+0C+\n",
       "SGawg3a7/bZe6HA4pnTV5ljc7rg6waDkJscLAfQ7HI7eGMRCRERERERENG0E8YYTB6aW3W6/BGA+\n",
       "gEyHwzE4oX8hgBoArzscjm9McwwpAK4m8msBeKfz69GccfU2YpWsUdBswZ8nmmr8maKpxp8pmmr8\n",
       "maKppMP4rlUA8Pm1W0jHSqyS7O8C+A8Av3A4HM9c6VMBeBfAFwCsdTgcR2IQhwhM/XAAmrv4M0VT\n",
       "iT9PNNX4M0VTjT9TNNX4M0WzUayWofs5gK8C+Lbdbi8FcB7je2MXAfhpLBJsIiIiIiIioukWkyXo\n",
       "HA5HCMADAP4d4+X7b1459F2Hw/EXsYiBiIiIiIiIaLrFbEM1h8PhAfBXVx5EREREREREsw43UyMi\n",
       "IiIiIiKaIkyyiYiIiIiIiKYIk2wiIiIiIiKiKcIkm4iIiIiIiGiKMMkmIiIiIiIimiJMsomIiIiI\n",
       "iIimiCCKotwxEBEREREREc0KrGQTERERERERTREm2URERERERERThEk2ERERERER0RRhkk1ERERE\n",
       "REQ0RZhkExEREREREU0RJtlEREREREREU4RJNhEREREREdEUYZJNRERERERENEWYZBMRERERERFN\n",
       "ESbZRERERERERFOESTYRERERERHRFGGSTURERERERDRFmGQTERERERERTRGV3AHcCbvdbgD+//bu\n",
       "P/aquo7j+BNJkSYZ2iwVlcB8F6mTYkoW/Vipy7nmcKCmRFht+QtDF5OsOYeJhelS+7HQmaHOGBrE\n",
       "JpKjzB+rnDNDAt/4g4B+SaaAvzKJb398Prdul3u+937vOffTPfe8Hhs7437OvZ9zv9/X933O5/xk\n",
       "HnAmcBCwBbgNWODuO4f4WXsBjwET3H23nQ1mdijwdeDjwChgHXCdu9+Z60tIT0mVKTPbG7hykLd/\n",
       "2923DKU/6U15MmVmBwNzMpoHgCvc/eW6+VWnKiBVplSnqiHves/M9gEuBaYDhwAvAPcC89x9a8O8\n",
       "qlEVkCpTqlHVUeT2eRt9daVOlWaQbWZvAu4GTgR+DawEJgJXAMcBpwzxIy8DJhA2Mhr7Ogh4iPBL\n",
       "XQH8CTgJuMPMDnH3hR1+DekhKTMFHA5cnPG+AWAJoYBIiRWQqYkMnpOFQG1ApDpVASkzhepU38ub\n",
       "JzMbAdwDfAj4JXAfMBmYBRxjZpPcfSDOqxpVASkzhWpUJeTJlJn9EPhMG92MdffN3axTpRlkA2cT\n",
       "fti3uPvnai+a2c3ALDM7y91vb+eDzOxIwt6RLFcBY4CZ7r44vmck8BvgSjNb6u4bO/we0jtSZmp8\n",
       "nB7r7o92usDS8/JmqpaTA9z9+RZ9qU5VQ8pMqU71v7x5mkMYDM1z92/E9w4DFgOfBk4DlsZ5VaOq\n",
       "IWWmVKOqIU+m7gG2ZrTtDZxH2BHz9/ha1+pUma7JPh/YSTidpN7VcfqFdj7EzIYDNwPPAE82aX8r\n",
       "4Y/6idoPG8DdXwNuAPYEZg514aUnJclUVFsxPD3EZZRyyZup8cCOVoMh1alKSZKpunlBdaqfdZwn\n",
       "M9sDmA2sqQ2GAOJRxquA7cAxcV7VqOpIkqlINaoaOs6Uuy9x97nN/hEOLr8BTHX3V7pdp0oxyDaz\n",
       "UYTTBB5z97/Vt7n7U8BzwOR4ekErFwGTCL+gfzZpP57wS1jZpO2BOP1wm4suPSpxpgDGAS+6+7bO\n",
       "l1p6WUGZGkfYWdOK6lQFJM5UbV7VqT5VQJ6OBt4B/Lixwd3Xuftod/9qfEk1qgISZwpUo/pewdvn\n",
       "9Z97KvBF4HJ3/218uat1qiynix9N2CGwLqN9PfBRYCyD7N0ys3HAfGCRuz9kZs1mmxinzfraQLjm\n",
       "44h2Flp6WspMQdj7+oyFGU4B9gc2Acvc/bkOll96TxGZGg+sNbNJwCcIN+DYQMjJ9rr5VKeqIWWm\n",
       "avOqTvWvvHmaHKePm9kBwFTCTaq2EjKyqW5e1ahqSJkpUI2qgkK2z+vFgfuNwBrgmrqmrtapUhzJ\n",
       "JvwRQdh70Uxtj9Z+LT5nEfAiMLeTvuLpK9vb6Ed6X8pMQdj7+i5gLeFGQ5cC3wOeNbNZLZdWyiBX\n",
       "puI1aGOBjwGPEE6VmwfcQsjJye30pTrVV1JmClSn+l3e9d6YOJ1I2AD9LiFP1wFPmdkl7fSlGtVX\n",
       "UmYKVKOqoKjt83qXE25sNtvdd7XTVxF1qiyD7LfE6esZ7a/EaeaReTP7PGFD40J335Gzr7KcASDZ\n",
       "kmUqXnN0GDAcOBcYTfjDngX8A7jJzE4a0tJLL8qbqYOBEYTrhaYD+xBWCpcAI4G7zOyoIfSlOlV+\n",
       "yTKlOlUJefM0Ok7nA3cRjiqOAD4CbAYWxlMy2+1LNar8kmVKNaoycm+f1zOzMcAFwM/d/YGG5q7W\n",
       "qbIUuDfidGRG+15x+mqzRjM7kLDHa5m7/6SAvpr2I6WSMlN7AKcDT7v77+tev9XMdhBWLJcBq9pZ\n",
       "cOlZuTIF7ABOJdyAY2PdvNfFyxC+BXyZ8GgK1alqSJkp1an+lzdPtfYH6+/4CzxoZucTrms8D1jW\n",
       "Zl+qUeWXMlOqUdWQN1ON5sX3LOiwr47rVFkG2bUL30dntO9POG/+zxnt1wPDCHsyOu4r7kUbje5q\n",
       "2A+SZcrddwLLM5qXE26WNjGjXcojV6bi2RA/zXjvEsKAqJYT1alqSJYp1alKyLveqz1PfUVjg7uv\n",
       "MrPXgfe06ks1qq8ky5RqVGXkzdR/mNm+wGeBDe6+eih9FVGnyjLIrl2QfmRG++HA8+6e9Vy0SYRT\n",
       "Av7Y7MZUZlY7P/+ddX0dtduMcCjhZ7a2jWWW3pYqU2PdfXPWQrj7LjN7jfJcuiHZ8mZqMLUNkVqu\n",
       "1sep6lR/S5mpTKpTfSNvnv4Qpy9ntL9K2PkMqlFVkTJTmVSj+kqR670ZhKPUt7boqyt1qhRhdPe/\n",
       "Egr2+8zsfy5AN7MjCD+I+wb5iB8Q7ibX+K+2B6P2/23ALwgbHSc0+ZwT4/RnHX0R6RkJM7XDzK42\n",
       "s11mdlrjh5jZBGBf4Hf5vpH8v+XNlJndGXPy/ibNH4zTWk5UpyogZaZUp/pfAeu9h+P02MYGMzuM\n",
       "cNRnTXxJNaoCUmZKNaoaCshUvTMIR72XZrR3tU6VYpAdfZ9wbvz82gvxGWnXEH6A36m9Zmbvjo9W\n",
       "AsDdF2Q8lPwvwEDda9vjIwCWE3650+r6ejvwFcIgarfn+UkppcjUNuDe+La5Zvbmur72BK6N/72p\n",
       "i99T0uk4U/w3J18zs+F17x9FuCv0ADEncSWkOlUNSTKF6lRV5FnvPQo8DswwsykN7/9m/O+iOK9q\n",
       "VHUkyRSqUVWSZ71Xm/9twAeAjfH52rvp9pivLKeLQ7it/+nAufFuqGsIz0mbANzg7r+K840hHP7f\n",
       "RDj9u5Vmp6F8CZgC3GFm04EXCDeP2Q84091fyvE9pHckyZS7329mtwNnARvMbCXhZgsnEO6kucLd\n",
       "f5T/60gPyJOpxcBM4FPAejNbTajRJwMHAjc23BlTdaoakmRKdaoy8q73ZgL3A6vNbBXhusjjgfcC\n",
       "tzXcCFQ1qhqSZEo1qlKK2D6fQtgef5jBda1OleZItrv/i/CHdC3huZ/nxKYL3f2iJm8ZaONjB5rN\n",
       "5+5bgOOAuwmPaDoDeBL4pLtnnXIgJZM4UzMIK4ZNwDTgbMLlCRcDU4e67NKb8mSq7r0XAC8RMjIN\n",
       "eBY4x91nN/SlOlUBiTOlOtXn8q733P0Jwj1JlhCOEs0gnG45hzBYqp9XNaoCEmdKNaoCCto+nxRf\n",
       "f6RFX12rU8MGBtoZN4iIiIiIiIhIK6U5ki0iIiIiIiLS6zTIFhERERERESmIBtkiIiIiIiIiBdEg\n",
       "W0RERERERKQgGmSLiIiIiIiIFESDbBEREREREZGCaJAtIiIiIiIiUhANskVEREREREQKokG2iIiI\n",
       "iIiISEE0yBYREREREREpiAbZIiIiIiIiIgXRIFtERERERESkIBpki4iIiIiIiBREg2wRERERERGR\n",
       "gmiQLSIiIiIiIlIQDbJFRERERERECqJBtoiIiIiIiEhB/g2FZV2xH4ccoQAAAABJRU5ErkJggg==\n",
       "' width=492 height=348/>"
      ],
      "text/plain": [
       "<matplotlib.figure.Figure at 0x1a937f8d0>"
      ]
     },
     "metadata": {},
     "output_type": "display_data"
    }
   ],
   "source": [
    "ert_data = data.query('trial_type==\"stop\" & acc==0').rt.values\n",
    "grt_data = data.query('trial_type==\"go\" & acc==1').rt.values\n",
    "sns.kdeplot(ert_data, shade=True, label='err data')\n",
    "sns.kdeplot(grt_data, shade=True, label='cor data')\n",
    "plt.gca().set_xlim(.4,.7)"
   ]
  },
  {
   "cell_type": "code",
   "execution_count": 211,
   "metadata": {
    "collapsed": false
   },
   "outputs": [
    {
     "data": {
      "text/plain": [
       "<matplotlib.axes._subplots.AxesSubplot at 0x1a8b1c810>"
      ]
     },
     "execution_count": 211,
     "metadata": {},
     "output_type": "execute_result"
    },
    {
     "data": {
      "text/html": [
       "<img src='data:image/png;base64,iVBORw0KGgoAAAANSUhEUgAAA9sAAAK5CAYAAACvwj05AAAABHNCSVQICAgIfAhkiAAAAAlwSFlz\n",
       "AAAWJQAAFiUBSVIk8AAAIABJREFUeJzs3Xt8nHWd9//3NYecD03THNqmTU/0CqWtBQIIFnCBIhXQ\n",
       "VXEVEP2hq7erePv74WPZW2VvQF123ftedllUdtdlWU+AHCoiIkWqVMq5B+iJXrRN25zatE1zaE4z\n",
       "mcz8/khyzUyapGlyzVyZmdfzoY/O95prrutDH3k0eef7/X4uIxKJCAAAAAAAOMfjdgEAAAAAAKQb\n",
       "wjYAAAAAAA4jbAMAAAAA4DDCNgAAAAAADiNsAwAAAADgMMI2AAAAAAAOI2wDAAAAAOAwwjYAAAAA\n",
       "AA4jbAMAAAAA4DDCNgAAAAAADiNsAwAAAADgsIwL26ZpRkzTjLhdB9IHX1NwGl9TcBpfU3ASX09w\n",
       "Gl9TcNp0+ZrKuLANAAAAAECi+aZ6AdM0Z0q6W9L1kmZLOinpFUn3WJa1Lea8WyWdM8ZlXrUsa91U\n",
       "awEAAAAAYDqYUtg2TbNY0huSFkt6WdKzks6W9BFJa0zTvNyyrM1Dp39V0nmjXCYiKU8SYRsAAAAA\n",
       "kBamOrP9NxoM2t+1LOuu4YOmaX5V0gOSfijpoqHDiyX9yLKs26Z4TwAAAAAAprWp7tm+QVKPpHtj\n",
       "D1qW9UNJLZJqTdOsGlpqXixp3xTvBwAAAADAtDfpmW3TNA1JCyRttywrMMopjZIqJFVJCg0d2z/Z\n",
       "+wEAAAAAkCqmsozckPRJScdGvmGaZpEkU4P7sY9KumDorWOmaX5O0lmSuiX9wbKsN6ZQAwAAAAAA\n",
       "086kw7ZlWWFJvx553DRNr6R/k1QgaYdlWXWmaX5q6O3fSCodcf6vJN1iWVbPZGsBAAAAAGA6cfQ5\n",
       "26ZpLpb0kqRPS+qT9FdDby0e+vM5SUsl5Up6vwYfEfYxST92sg4AAAAAANxkRCKRKV/ENE2/pL+W\n",
       "dKekHEmHJN1oWdbrQ+9fKGmmZVnPj/hcoaTdkuZKOsuyrITu6TZNs0yDy9olabUGfyEATNXw4+1q\n",
       "Xa0C6YSvKTiNryk4ia8nOI2vKTgpR9KmodfllmWdsu05WaYctk3TXCjpSUnnShqQ9CNJ37Isq3uC\n",
       "n/+xpC9I+qRlWU9Nsoap/8YAAAAAAJCRLMsynL7mlJ6zbZrmXA3+1mC2pLclfcGyrG1neJmuoT/D\n",
       "U6kFAAAAAIDpYkphW9I/aTBo/07SxyzLCo48wTTNGg0uFf+tZVnXj3KND2iwa/k7ky1ior+FME3z\n",
       "AxpaUvCP//iPWrx48Wk+AQAAAABIFfv379cdd9wxPFxtWdYrbtUyleds50v6qAYf/fWp0YK2JFmW\n",
       "tcc0zYOSPmSa5sWWZb0Wc41bNLg34yXLsuomW8sZsPdoL168WMuXL0/CLQEAAAAALnC1R9dUZrbP\n",
       "k5QtqVXS3aZpjnZORNLfSfqKBh8T9pJpmr+V1KDB53CvkXRc0penUAcAAAAAANPKVMJ2xdCfpqSa\n",
       "Mc6JSHrAsqznTdNcJelvNdgF/MOSjkh6SNLfWZZ1aAp1AAAAAAAwrUw6bFuW9aTO4DndlmW9K+mm\n",
       "yd4PAAAAAIBUMeGwDAAAAAAAJoawDQAAAACAwwjbAAAAAAA4jLANAAAAAIDDCNsAAAAAADiMsA0A\n",
       "AAAAgMMI2wAAAAAAOIywDQAAAACAwwjbAAAAAAA4jLANAAAAAIDDCNsAAAAAADiMsA0AAAAAgMMI\n",
       "2wAAAACApLvhhhv01a9+1e0yEoawDQAAAACYlCuuuEIXXHDBGX9uz5492rlzpwzDSEBV04PP7QIA\n",
       "AAAAAKlrooG5q6tLe/bs0ebNm/Wzn/0swVW5j7ANAAAAABmgt7dXubm5pxwPhUIKh8PKysqa0HUi\n",
       "kYgCgYBycnLO6P5PP/20vve9753RZ1IZy8gBAAAAIEUEAgE9+OCDWrt2rVauXKlLL71Ud955pw4f\n",
       "Phx33gMPPKCamhpt3bpV999/vy655BLdf//9kgaXfq9du1aNjY364he/qPPPP191dXVj3vOWW27R\n",
       "ypUr1dbWpttvv121tbXatGmTampq1NzcrM7OTtXU1Oib3/zmuLVfeumluu+++3TffffpzjvvnPpf\n",
       "xjTHzDYAAAAApIBgMKjPf/7z2rJli1atWqWLL75YR48e1dNPP63169frF7/4hZYuXRr3mXvvvVf1\n",
       "9fW67LLLVFtbax/v6urSzTffrOLiYn384x9XSUnJuPcOh8O69dZb1dPTo2uvvVZVVVW69dZb9cQT\n",
       "TygYDOozn/mMVqxYMe41qqurVV1dLUlqbGxM+1luwjYAAACAlNUZ6NIvdzyjps4jbpcyrrlFlfr0\n",
       "io+oMLtg0td48MEHtWXLFt1+++360pe+ZB/fvHmzPve5z+nuu+/WI488EveZpqYmrVu3TlVVVXHH\n",
       "jx07pmuuuUb33XefPJ7TL3gOhULKz8/XY489Zi8fr6mp0fr169XV1aU77rhj0v9d6YqwDQAAACBl\n",
       "/XLHM/r9/pfdLuO0dh/bK0n6Yu1Nk/p8OBzWI488ourq6rigLUm1tbVavXq1Nm7cqNbWVpWWltrv\n",
       "3XjjjacEbWmwqdk3vvGNCQXtYV/72tfOeJ92JiNsAwAAAMA0d+DAAXV0dKiwsFDf//73T3m/tbXV\n",
       "Pi82bI9cVj4sJydH8+bNm/D9DcMY81oYHWEbAAAAQMr61IqPyJChxs7Dpz/ZRVVFs/WpFddP+vPt\n",
       "7e2SBvc6P/zww6OeYxiGuru74475/f5Rzx3r+Hgm2q0cgwjbAAAAAFJWUXaB/rL2RrfLSLi8vDxJ\n",
       "0po1a/TAAw+4XA0mgkd/AQAAAMA0t2jRIvn9fu3Zs2fU9x966CH99V//tbq6upJcGcZC2AYAAACA\n",
       "aS47O1vXXXedGhoaTuk4vnHjRt133306cuSICgom3+18MgzDUCgUSuo9UwXLyAEAAAAgBdxxxx3a\n",
       "unWrvvOd7+j555/XwoULVV9fr9dff13FxcW65557EnbvSCQy6vE5c+aoqalJX//613XVVVfp+usn\n",
       "vy893TCzDQAAAAApoKSkRI8//rhuueUWHTp0SOvWrdOhQ4d0ww036Ne//rUWLVpkn2sYhgzDcOze\n",
       "Y13rtttuU1VVlTZs2KBdu3Y5dr90YIz1G4p0ZJrm+ZI2S9JTTz2l5cuXu1wRAAAAAMApO3fu1Cc+\n",
       "8YnhYa1lWVvcqoWZbQAAAAAAHEbYBgAAAADAYYRtAAAAAAAcRtgGAAAAAMBhhG0AAAAAABxG2AYA\n",
       "AAAAwGGEbQAAAAAAHEbYBgAAAADAYYRtAAAAAAAcRtgGAAAAAMBhhG0AAAAAABxG2AYAAAAAwGGE\n",
       "bQAAAAAAHOZzuwAAAAAAQGbYvHmz/v3f/13bt29XT0+PZs+erTVr1ugrX/mK8vPz3S7PUcxsAwAA\n",
       "AAAm5YorrtAFF1wwoXM3bNigz372s9qyZYtWr16tj33sYwqHw3rooYf0hS98QQMDAwmuNrmY2QYA\n",
       "AAAATJphGKc9JxwO6zvf+Y6ys7P1+OOPa8mSJZKkQCCgz3/+89qyZYt++ctf6qabbkp0uUnDzDYA\n",
       "AAAAZIDe3t5Rj4dCIQWDwQlfJxKJqK+v74zu/fbbb6ulpUVr1661g7YkZWdn68tf/rIkaf369Wd0\n",
       "zemOsA0AAAAAKSIQCOjBBx/U2rVrtXLlSl166aW68847dfjw4bjzHnjgAdXU1Gjr1q26//77dckl\n",
       "l+j++++XNLj0e+3atWpsbNQXv/hFnX/++aqrqxvznrfccotWrlyptrY23X777aqtrdWmTZtUU1Oj\n",
       "5uZmdXZ2qqamRt/85jfHvEZ9fb0kadmyZae8V1lZKUlqaWk547+P6Yxl5AAAAACQAoLBoL3ketWq\n",
       "Vbr44ot19OhRPf3001q/fr1+8YtfaOnSpXGfuffee1VfX6/LLrtMtbW19vGuri7dfPPNKi4u1sc/\n",
       "/nGVlJSMe+9wOKxbb71VPT09uvbaa1VVVaVbb71VTzzxhILBoD7zmc9oxYoVY36+trZWP/zhD0cN\n",
       "29u3b5cklZaWnslfx7RH2AYAAACQsvo7O1X/i0fV09jkdinjyquaq/k33yR/UeGkr/Hggw9qy5Yt\n",
       "uv322/WlL33JPr5582Z97nOf0913361HHnkk7jNNTU1at26dqqqq4o4fO3ZM11xzje677z55PKdf\n",
       "8BwKhZSfn6/HHntMOTk5kqSamhqtX79eXV1duuOOO8b9fFVV1Sk1SIMz3v/8z/8sSbrqqqtOW0cq\n",
       "IWwDAAAASFn1v3hUR55/we0yTqtz5y5J0uK/+h+T+nw4HNYjjzyi6urquKAtDc4ar169Whs3blRr\n",
       "a2vcDPGNN944asg1DEPf+MY3JhS0h33ta1+zg7YTnn32WX33u99VR0eHli9frptvvtmxa08HhG0A\n",
       "AAAAmOYOHDigjo4OFRYW6vvf//4p77e2ttrnxYbtkcvKh+Xk5GjevHkTvr9hGGNe60w1Njbqnnvu\n",
       "0csvvyzDMHT11Vfr3nvvVVZWliPXny4I2wAAAABS1vybb5QMQz0NjW6XMq68eVWaf9ONk/58e3u7\n",
       "pMGg+vDDD496jmEY6u7ujjvm9/tHPXes4+NxIgw/88wzuuuuu9Tb26vy8nJ985vf1Nq1a6d83emI\n",
       "sA0AAAAgZfmLirT4y186/YkpLi8vT5K0Zs0aPfDAAy5XMzlPPfWUvv3tb8swDN100036xje+ofz8\n",
       "fLfLShjCNgAAAABMc4sWLZLf79eePXtGff+hhx7Snj17dNddd6mgoCDJ1Z3eiRMn9L3vfU+GYejv\n",
       "//7v9ed//udul5RwPGcbAAAAAKa57OxsXXfddWpoaDil4/jGjRt133336ciRI0kP2oZhKBQKnfa8\n",
       "DRs2qLe3V3/xF3+REUFbYmYbAAAAAFLCHXfcoa1bt+o73/mOnn/+eS1cuFD19fV6/fXXVVxcrHvu\n",
       "uSdh945EIqMenzNnjpqamvT1r39dV111la6//vpRz9u2bZskqa2tbdQGb5I0f/583Xjj5Pe1TzeE\n",
       "bQAAAABIASUlJXr88cf1gx/8QC+88IK2bdumsrIy3XDDDbrttttUUVFhn2sYhgzDcOzeY13rtttu\n",
       "07e//W1t2LBBs2fPHjNst7a2yjAMvfDC2I9pu/DCC9MqbBtj/YYiHZmmeb6kzdLg5vzly5e7XBEA\n",
       "AAAAwCk7d+7UJz7xieFhrWVZW9yqhT3bAAAAAAA4jLANAAAAAIDDCNsAAAAAADiMsA0AAAAAgMMI\n",
       "2wAAAAAAOIywDQAAAACAwwjbAAAAAAA4jLANAAAAAIDDCNsAAAAAADiMsA0AAAAAgMMI2wAAAAAA\n",
       "OIywDQAAAACAwwjbAAAAAAA4jLANAAAAAIDDCNsAAAAAADiMsA0AAAAAgMMI2wAAAAAAOIywDQAA\n",
       "AACAwwjbAAAAAAA4jLANAAAAAIDDCNsAAAAAADiMsA0AAAAAgMMI2wAAAAAAOIywDQAAAACAwwjb\n",
       "AAAAAAA4jLANAAAAAIDDCNsAAAAAADiMsA0AAAAAgMMI2wAAAAAAOIywDQAAAACAwwjbAAAAAAA4\n",
       "jLANAAAAAIDDCNsAAAAAADiMsA0AAAAAgMMI2wAAAAAAOIywDQAAAACAwwjbAAAAAAA4jLANAAAA\n",
       "AIDDCNsAAAAAADiMsA0AAAAAgMMI2wAAAAAAOIywDQAAAACAwwjbAAAAAAA4jLANAAAAAIDDCNsA\n",
       "AAAAADiMsA0AAAAAgMMI2wAAAAAAOIywDQAAAACAwwjbAAAAAAA4jLANAAAAAIDDfFO9gGmaMyXd\n",
       "Lel6SbMlnZT0iqR7LMvaFnOeT9L/lPSXkqolHZW0TtJdlmV1TbUOAAAAAACmiynNbJumWSzpDUm3\n",
       "SaqX9GNJ70j6iKRNpmnWxpz+b5L+r6SQpP+SZEn6/yRtNE0zayp1AAAAAAAwnUx1ZvtvJC2W9F3L\n",
       "su4aPmia5lclPSDph5IuMk3zg5I+L+n3kj5sWdbA0Hl/K+keSX8t6e+mWAsAAAAAANPCVPds3yCp\n",
       "R9K9sQcty/qhpBZJtaZpzpP01aG3/tdw0B7yTxqc6f7iFOsAgIzT0depF/dv0n9vfVzPvfcHNXUe\n",
       "USQScbssAAAAaAoz26ZpGpIWSNpuWVZglFMaJZVLqpJ0maSW2D3ckmRZVo9pmlslXWiaZrVlWYcm\n",
       "Ww8AZIJQeEB/qNukV+o3a8+x/YooPlyX5paodu5K3XDOh1WcU+RSlQAAAJjKMnJD0iclHRv5hmma\n",
       "RZLMoaFfUpmkl8a4zm5JF0o6SxJhGwDG0BXs1j+98h/adfS9Mc9p7W3T+n0bte3wTn3rsts0p6gy\n",
       "iRUCAABg2KTDtmVZYUm/HnncNE2vBpuhFUjaIalt6K2WMS7VPvTnzMnWAgDprqXrmP7hTz9S08kj\n",
       "Ezr/aHer7tzwf3XH6r9STdniBFcHAACAkab86K9YpmkulvTfkj4gqU/SX0kqHnp7tKXmktSdiFoA\n",
       "IF28d7xO39/0oE4Gok9J9Ht8WlFRo7PLztKCGVU62tOquhOHtKV5h9r7OiUNzoR/96V/0dfef6ve\n",
       "P+88t8oHAADISI4EXNM0/RrsKH6npBwNLge/0bKs103TvGjotNwxPj782K8eJ2oBgHTS3HlE39v4\n",
       "r+oLRX9fWZhdoJtWfFSVheX2sTmFFZpTWKFzZy/XI9ufVvPJwcVE/eGQ7n/tIZXnl2rRzOqk1w8A\n",
       "AJCpphy2TdNcKOlJSedKGtDgI7++ZVnW8Iz18J7ukjEuUTr0Z/MUaqD9LoC0EwgFdd+r/xkXtCsL\n",
       "ynXjyo+qKLtg1M/kZ+Xpc+d+Uk/tek7vtdZJkgYiYf3gjZ/oH67+prK8/qTUDgAAMA1sNk3z9GdJ\n",
       "sizLcPrmU3r0l2macyVt0mDQflvShZZlfT0maEuDs9y9kpaPcZklGgzpu6dSCwCkm//a+kvVdzTZ\n",
       "43nFc3TruZ8cM2gPy/L69akV12tp6UL7WGPnYf1yxzMJqxUAAADxpjqz/U+SZkv6naSPWZYVHHmC\n",
       "ZVkDpmm+JGmtaZrLLcvaOfyeaZrFGuxE/oZlWV0jPztRE/0thGma50vaPNn7AECyvHTgNf3xwKv2\n",
       "OM+fqxvOuVZZvqxxPhXlMTy63lyjH731U/X290mSnrU26IK571NN2ZKE1AwAADDN1FqWtcWtm096\n",
       "Zts0zXxJH9XgMvFPjRa0Y/zb0J/3Dj2fe9jfa3CP9w8mWwcApJvGjsP6zy2Pxh37+LK1p53RHqkg\n",
       "O1/XLr3SHkcU0Q/f+In6hsI3AAAAEmcqM9vnScqW1Crp7nHWwn/PsqzfmKb5uKS/kLTFNM1XJdVq\n",
       "cFb7GcuyHptCHQCQNiKRiP79rZ8rONBvH7tswUVaPMnmZueUL9WeY/u086glSWrpPq7Hd/1Wn131\n",
       "CUfqBQAAwOimErYrhv40JdWMcU5E0r9q8FnaN0vaLulWSV+Q1Cjpf0v6hynUAABpZdOht2QNNTaT\n",
       "pAUz5unyBe+f0jU/vPQKHWxvUFdw8KEPL+zbqI/UrNGMnKIpXRcAAABjm3TYtizrSZ3BMnTLsgYk\n",
       "3Tv0fwDACH39ffr59nX22GN4dJ15pTzGlHpZKtefo6sWX6qn310vSQoO9OuZPb9ndhsAACCBpvYT\n",
       "HADAMevefV5tvR32+OJ556k0b6ynJp6ZFeU1mpk7wx6/sG+jOvo6Hbk2AAAATkXYBoBp4EjXMT1r\n",
       "bbDHBVn5urT6Iseu7/F4dGn1hfY4ONCv31gvOnZ9AAAAxCNsA8A08NNtTyoUDtnjqxavVvYEH/M1\n",
       "USsrzlZJbrE9Xr93ozr7Tjp6DwAAAAwibAOAy6zj+7W5ebs9riqarZUVZzt+n8HZ7ehseWAgyOw2\n",
       "AABAghC2AcBlT+56Lm58zVkflGEYCbnXyoqauC7kz+/bqK5gd0LuBQAAkMkI2wDgor2tB/TOkd32\n",
       "2Jy1SHOLKhN2P6/HGz+7HQroTwffSNj9AAAAMhVhGwBcNHJW+7IpPlN7IlZW1ijPn2uPX9y/SZFI\n",
       "JOH3BQAAyCSEbQBwyb7Wg9p2eKc9Pqt0oeYUViT8vj6PT++rXGaPGzsPyzpel/D7AgAAZBLCNgC4\n",
       "5Knd8bPalydhVnvY+XNWxI1f3P9y0u4NAACQCQjbAOCCuhP12tK8wx4vmbkgoXu1RyrNK9GCGfPs\n",
       "8WsNW9QVoFEaAACAUwjbAOCCX+95IW582YKLxjgzcWJnt/vDIf3pEI3SAAAAnELYBoAkO959Qm80\n",
       "brPHC2fM07ziOUmvo6ZsMY3SAAAAEoSwDQBJ9vy+jQpHwvb44vnnu1KHz+PTqlMape13pRYAAIB0\n",
       "Q9gGgCTq6+/ThphmZKV5JVoyc4Fr9Zw3olHahrpXXKoEAAAgvRC2ASCJNh58Q939vfb4oqpzZRiG\n",
       "a/WMbJT2ZtPbCg70u1YPAABAuiBsA0CShCNhPbf3D/Y4x5cd97xrt6yoMO3Xvf19evvwLherAQAA\n",
       "SA+EbQBIkrcP79bhk0ft8XlzVijL63exokFnl50ljxH9dvBq/WYXqwEAAEgPhG0ASJLn3ovOahuG\n",
       "oQvnrnKxmqhcf44Wz6y2x1uad6gvFHCxIgAAgNRH2AaAJGjuPKLtLe/a42VlZ6k4p9DFiuItL48u\n",
       "JQ8MBLW5abuL1QAAAKQ+wjYAJMGLI7p8X1R1rkuVjM6ctVg+j9ces5QcAABgagjbAJBg/QP92njg\n",
       "NXtcnl+qqqLZLlZ0qmxflpaWLrLH247sUlew28WKAAAAUhthGwAS7M2mt3UyJrieN2eFq4/7Gss5\n",
       "MUvJB8IDeqvxHRerAQAASG2EbQBIsBf3b7Jf+zxeraw428VqxnZW6cK47uivNrCUHAAAYLII2wCQ\n",
       "QM0nW7Tr6Hv2+Jzypcr157hY0dj8Xp9qZi22xztaLHX2nXSxIgAAgNRF2AaABPrDiMZo581e4VIl\n",
       "ExO7lDwcCWtL8w4XqwEAAEhdhG0ASJD+gX79MaYxWlneTM0rnuNiRae3qGS+/DFLyd9q5hFgAAAA\n",
       "k0HYBoAEeatpu04GuuzxdG2MFsvn9WnJzGp7vP3IbgVCQRcrAgAASE2EbQBIkJcOvGq/9nq8el/l\n",
       "MhermbiaWUvs18GBfm1vedfFagAAAFITYRsAEqC9t0PvxITUs2ctmbaN0UY6q3Rh3Az8W008AgwA\n",
       "AOBMEbYBIAE21W9WJBKxxysrp+fjvkaT689RdXGVPd7avEPhcNjFigAAAFIPYRsAEuBPB1+3X+dn\n",
       "5WlxSfU4Z08/5qxF9uvOQJfea61zsRoAAIDUQ9gGAIfVtzfpYHujPV5RXiOPJ7X+uY193rbEUnIA\n",
       "AIAzlVo//QFACvjToTfixqm0hHzYjNxiVeTPssdvNb0TtyweAAAA4yNsA4CDwuGwXj70pj0uzy9V\n",
       "ZUGZixVNnlkWnd0+0nVMTZ1HXKwGAAAgtRC2AcBBO49aauvtsMcrK86e9s/WHgtLyQEAACaPsA0A\n",
       "DvrTwfgl5CtScAn5sMqCchVlF9rjrYd3ulgNAABAaiFsA4BD+kIBvdH0tj1eVDJfRdkFLlY0NYZh\n",
       "6KzSBfb4vdY6dQW73SsIAAAghRC2AcAh2w7vVCAUsMcrKmpcrMYZS2YutF9HIhFtP7LHxWoAAABS\n",
       "B2EbABzyWsNW+7XX8KqmbImL1ThjYck8eYzot4q3j+xysRoAAIDUQdgGAAf0hQLa1hzd07x4ZrVy\n",
       "fNkuVuSMbF+Wqovn2uN3Du/mEWAAAAATQNgGAAdsO7xTgYGgPV5WfpaL1ThrScy+7ba+Dh1qb3Sv\n",
       "GAAAgBRB2AYAB4xcQm6OeGxWKlsyc0HceNthlpIDAACcDmEbAKYoXZeQDyvLL43rqs6+bQAAgNMj\n",
       "bAPAFKXzEnJp8BFgsbPb1vE6dQd73CsIAAAgBRC2AWCK0nkJ+bAlpdFHgIUjYe1o4RFgAAAA4yFs\n",
       "A8AUpPsS8mGLRjwCjH3bAAAA4yNsA8AUpPsS8mHZvmzNL55jj98+sotHgAEAAIyDsA0AU/BW4zv2\n",
       "63RdQj4sdt92W2+HGjqa3SsGAABgmiNsA8AkhcID2nY4uoR8Ycm8tFxCPmxxzPO2JWk7+7YBAADG\n",
       "RNgGgEmyju9Xd3+vPTZnLXKxmsSryJ+lPH+uPaZJGgAAwNgI2wAwSVuatseNl5amd9g2DEOLSubb\n",
       "493H9io0EHKxIgAAgOmLsA0AkxCJRLS5ORq2KwvKVZRT6GJFybFoZjRsB0IBvdd6wMVqAAAApi/C\n",
       "NgBMQvPJFh3pOmaP030J+bDYmW2JpeQAAABjIWwDwCRsHrmEPEPCdnFOkUpzS+wxYRsAAGB0hG0A\n",
       "mIQtMUvIC7PyNbug3MVqkmthzFLyfScOqifYO87ZAAAAmYmwDQBnqDPQJau1zh4vnbVIhmG4WFFy\n",
       "xS4lD0fC2nXsPRerAQAAmJ4I2wBwhrY171QkErHH6d6FfKSFM6pkKPrLhR1HWEoOAAAwEmEbAM7Q\n",
       "luYd9mu/x6eFI5qGpbscf47mFFXY4+0t77pYDQAAwPRE2AaAMxAaCOmdI7vt8aKZ1fJ7fS5W5I7Y\n",
       "peTNJ1t0vOeEi9UAAABMP4RtADgD77UeUG+ozx4vLV3oYjXuWVRSHTfe2WK5VAkAAMD0RNgGgDOw\n",
       "vWV33HjxzOoxzkxvVcWV8nuiM/rbeQQYAABAHMI2AJyB7THNwGblzVRxTpGL1bjH5/FpfvFce7z7\n",
       "6HtxTeMAAAAyHWEbACaoK9Ct/ScO2eNFGdYYbaQFJVX26xO97WrpOuZiNQAAANMLYRsAJmjH0T2K\n",
       "KDp7m6lLyIctmDEvbrzzKM/bBgAAGEbYBoAJeudI9BFXHsOjBTOqxjk7/c0uLFeW12+PdxO2AQAA\n",
       "bIRtAJiASCSiHTFhe17RbGX5slysyH1ejzdu3/Yu9m0DAADYCNsAMAGHu47qWMyzpBdl+BLyYbGz\n",
       "+219HTrcddTFagAAAKYPwjYATMD2mFltif3awxaUxO/bZik5AADAIMI2AExAbNjO8WVrdmG5i9VM\n",
       "H7MLypXljS6np0kaAADAIMI2AJxGKDygnUcte7yoZL48Bv98SpLH41E1z9sGAAA4BT8tAsBp7G2t\n",
       "U18oYI8CTMkOAAAgAElEQVRZQh4v9nnb7X2daj7Z4mI1AAAA0wNhGwBOY0fLnrgxzdHijXwE2i6W\n",
       "kgMAABC2AeB0dh/da78uyS3WjJwiF6uZfioLy5Uds2+bsA0AAEDYBoBx9Q/0a2/rAXtcPWIWF5LH\n",
       "8Kh6Bvu2AQAAYhG2AWAc+04cVH84ZI9HLpnGoAUzoo8A6wicZN82AADIeIRtABjHu8f2xY2Z2R7d\n",
       "/JiZbenUvzcAAIBMQ9gGgHHE7tcuzi5kv/YYZheUy+/12+M9hG0AAJDhCNsAMIZQeEBWa509ZlZ7\n",
       "bB6PR/OKZtvjd48TtgEAQGYjbAPAGA601SsQ83zt6hFLpRFvfnH07+dYd6tae9pcrAYAAMBdhG0A\n",
       "GMO7x/bGjZnZHt/Ifdt7mN0GAAAZjLANAGOI3a9dkJWnmbkzXKxm+qsqqpTHiH5boUkaAADIZIRt\n",
       "ABhFOBzWnuP77XH1jCoZhuFiRdOf3+vXnMIKe7zn2P5xzgYAAEhvhG0AGMWhjib19PfaY5aQT8y8\n",
       "4jn264aOZnUFu12sBgAAwD2EbQAYxan7tWmONhGxf08RRWQdrxvnbAAAgPRF2AaAUcTu187z56os\n",
       "r9TFalJH7My2xL5tAACQuQjbADBCJBKJe070/OK57NeeoDx/rsryo7+Y2EPYBgAAGYqwDQAjHO46\n",
       "qpOBLns88pFWGF/s87b3tx1SMBR0sRoAAAB3ELYBYIS9xw/EjecVzXapktQUu297IDygvScOulcM\n",
       "AACASwjbADDC3tZo2PYaXlUWlrlYTeqJndmW2LcNAAAyE2EbAEZ4rzXaQXt2Ybl8Hp+L1aSe4pxC\n",
       "FWcX2uO9rXQkBwAAmYewDQAx+kIBHepossdVLCGflNiu5O8dr1M4EnaxGgAAgOQjbANAjP0nDikS\n",
       "idjjquJKF6tJXVXF0V9SdPf3qvlki4vVAAAAJB9hGwBixO7XlqSqojljnInxjGwq995xlpIDAIDM\n",
       "QtgGgBixobAwK19F2QUuVpO6KgrK4va6W4RtAACQYQjbADAkEonEzWxXFc+WYRguVpS6vB6v5hZW\n",
       "2OP3aJIGAAAyDGEbAIYc7T6ujsBJe0xztKmpimmS1tR5RF2BbherAQAASC7CNgAMOXW/NmF7KuYV\n",
       "x//97T1xYIwzAQAA0g9hGwCGvBcTtj2GR7NjlkHjzI38ZQX7tgEAQCYhbAPAkL3Ho2G7sqBMfq9v\n",
       "nLNxOvlZeZqZO8Me05EcAABkEsI2AEgKhoI62N5gj+eyhNwRsUvJ9504qIHwgIvVAAAAJA9hGwAk\n",
       "1bXVayAStscj9xtjcmKXkveFAmroaHaxGgAAgOQhbAOA4vdrS1JVUaVLlaSXeTEdySUeAQYAADIH\n",
       "YRsAJNWdOGS/zvPnakZOsYvVpI+y/FJlebPsMU3SAABApiBsA4AGl5EPm11YLsMwXKwmfXgMT9wq\n",
       "AZqkAQCATEHYBpDxeoK9OtJ1zB7zyC9nVcXsf2/pPq6Ovk4XqwEAAEgOwjaAjBc7qy1Jcwjbjhr5\n",
       "vO39MUv2AQAA0hVhG0DGq2uLD39zCstdqiQ9zS2Mbza3t/WgO4UAAAAkkc/pC5qm+RVJP5A0w7Ks\n",
       "zhHv3SrpnDE++qplWeucrgcATqfuRHRmO8+fq6LsQherST95WbkqySlWW1+HpMHnbQMAAKQ7R8O2\n",
       "aZoeSZ+XFBnjlK9KOm+U4xFJeZII2wCSLnYZ+ZzCCpqjJcDcosq4sB2JRPh7BgAAac2RsG2a5kpJ\n",
       "50q6VYNheqywvVjSjyzLus2J+wLAVHUHe0Y0R2MJeSLMLarUzqOWpOjfOX/XAAAgnU05bJumWSDp\n",
       "7QmcN1NSsaR9U70nADjlwIjmaHQiT4y5RfH7tve1HiRsAwCAtOZEg7ReSZ8e+v+Nkt4d47xFQ3/u\n",
       "d+CeAOCIUzuREwATobKgXB4j+i2HfdsAACDdTXlm27KsAUmPD49N0/wrSTWjnLp46M9jpml+TtJZ\n",
       "krol/cGyrDemWgcATAbN0ZLD7/WpIn+WDncdlSTtaz3gckUAAACJ5Xg38nEMz2z/RlJp7Bumaf5K\n",
       "0i2WZfUksR4A0H6aoyXN3KJKO2wfaG9UaCAknzeZ34YAAACSJ5nP2R6e2X5O0lJJuZLeL+kVSR+T\n",
       "9OMk1gIA6g72qIXmaEkTu287FA7pYHuji9UAAAAkVjKnFP5D0pOWZT0fc+xN0zQ/LGm3pBtN0/zf\n",
       "lmWd8Z5u0zTH6n4OAGMa2RxtDs3REuqUJmknDmpJ6QJ3igEAAJlgs2maEzrRsizHlzcmbWbbsqw3\n",
       "RwTt4eMnJQ0fX5WsegBg/wk6kSfTrLyZyvJm2WOapAEAgHQ2XTbLdQ39GZ7Mhyf6WwjTNM+XtHky\n",
       "9wCQfmI7kQ82RytwsZr0ZxiG5hZW6EB7g6TBx38BAAAkUK1lWVvcunlSZrZN06wxTTNsmuZvxjjl\n",
       "A5Iikt5JRj0AIMWHbZqjJUfsUvLmky3qDtIXEwAApKekhG3LsvZIOijpQ6ZpXhz7nmmat0iqlbTR\n",
       "sqy6ZNQDAD39vTRHc8HIfdv7TxxyqRIAAIDEStQy8tGmh74i6deSXjJN87eSGiSZktZIOi7pywmq\n",
       "BQBOUd/eFDeuLChzqZLMMlqTtJWVZ7tUDQAAQOIkYmY7MvT/OEPN0VZJekqDM9n/Q1KNpIckXWBZ\n",
       "1nsJqAUARjXysVOVBcxsJ0NhdkHc3vi6EU3qAAAA0oXjM9uWZf3ZOO+9K+kmp+8JAGcqNmxnef0q\n",
       "yS12sZrMMruwQp2Bwb6Y+9tYRg4AANJT0h79BQDTyaG2aNiuyJ9Fc7Qkin2eeWtPmzr6Ol2sBgAA\n",
       "IDEI2wAyzkB4QPWdzfa4gv3aSTWyGV1sV3gAAIB0QdgGkHEOnzyq/oF+e1xZSNhOptiZbUnaz75t\n",
       "AACQhgjbADLOyOZoFfmE7WTKz8pTUXahPWZmGwAApCPCNoCMcygmbBsyVFEwy8VqMlPs7HYdz9oG\n",
       "AABpiLANIOPEzmzPzJshv9fvYjWZKXbf9onedrX3drhYDQAAgPMI2wAyTuzMdiXN0Vwxct82S8kB\n",
       "AEC6IWwDyCjtfZ1qj3nUFJ3I3UHYBgAA6Y6wDSCjHBrRHI2ZbXfkZeWqOKfIHu9n3zYAAEgzhG0A\n",
       "GYWwPX3Midm3zcw2AABIN4RtABnlYFs0bOf5c1WQle9iNZltdsxS8rbeDp3obXexGgAAAGcRtgFk\n",
       "lJHN0QzDcLGazHbKvu0TzG4DAID0QdgGkDGCA/1qOtlij2mO5q7Yx39JLCUHAADphbANIGM0djQr\n",
       "HAnbY/ZruyvPn6sZMU3S6miSBgAA0ghhG0DGODiiORoz2+6LXUq+n5ltAACQRgjbADJGfXuT/dpj\n",
       "eDQrr8TFaiDFLyXv6OtUW2+Hi9UAAAA4h7ANIGM0dDbbr8vyZsrr8bpYDSSpsiB+3/YBZrcBAECa\n",
       "IGwDyBj17dGwXV4wy8VKMGxkk7QDbQ0uVQIAAOAswjaAjNDR16mOwEl7XJ5f6mI1GJaflafC7AJ7\n",
       "fKCdsA0AANIDYRtARmjoaI4bl+czsz1dzI5pVHeQmW0AAJAmCNsAMkL9iLBdwTLyaSN23/bR7lZ1\n",
       "B3tcrAYAAMAZPrcLAIBkiO1Enu3NUlF2oYvVpK9wT6/CR45J4YhkSJIx+L+CfHnKZsowjFM+Uzli\n",
       "3/bB9kadU740OQUDAAAkCGEbQEaIXUZenl86aujDmYlEIgo3HlFo30GF6ho0cLBxMGiPwSjMl2/J\n",
       "AnmXVMu3pFre6rkyvN64ZeTSYEdywjYAAEh1hG0AaS8cCau+87A9phP51EQCQQXffEfBP76mgYbD\n",
       "p//A8OdOdqt/2y71b9slSTJKipW9ZrWKVtcqx5etvlBAEh3JAQBAeiBsA0h7x7pbFRgKchLN0SZr\n",
       "4GirAn94VcFXt0q9fVO+XqStQ32P/1aBZ/+gDy6boY3zw+rN8dAkDQAApAXCNoC0RyfyqYn0BdT3\n",
       "2z8q8PtN0sDA6Cdl+eWpLJN3drk8FbMk/9C3l4ikSESRtnYNNLVooPHIKUE90tMrc3OvFm2T3lye\n",
       "r23LjigYCirLl5XY/zAAAIAEImwDSHsjO5GXF/CM7YmIRCLq37xDvY//VpH2zlNPyPLLd85S+VaY\n",
       "YzY/i5ovf+3gNSNtHQrtqVP/tp1Sb3TFgX9A+sA73VrYHFTd+3ao5uzznf+PAgAASBLCNoC0F9uJ\n",
       "vCArX3n+XBerSQ0DLcfV+/OnFdqz/5T3jFkz5T93mXxnL5GR5T+j6xqGIWPmDGVdcp78F6xUaIel\n",
       "/s3bFensss+Zc6xfx+/6P2r54l+q/KoraWYHAABSEmEbQNqLXUZewRLy0wq+tV09P3lKCgTjjhv5\n",
       "ecr64EXy1ix2JAAbfp/8550j3/vOVv/2d9Xz0mvyD0QG3wv0a98PHtSJtzbrrP/3f8qXlzfl+wEA\n",
       "ACSTx+0CACCRQgMhNZ9sscdlLCEfU6Q/pJ5f/Fo9//FofND2GPLVrlDu5z85OJvt8Eyz4fUo69xz\n",
       "9OJHFuhwafzvgE+88ZZ23nmXgu0djt4TAAAg0QjbANJa08kjGoiE7TEz26MbOHZCXd//NwVfej3u\n",
       "uGdOuXI/+wllf/D9MrIT27Asv7RMT6wp0asr8zUQk+e799dpx//6lvpaWsb+MAAAwDRD2AaQ1k7p\n",
       "RM4ztk/Rv2e/Tn73AQ0caoo77q9dqZxPXS/PrJKk1FHpL1bEY+it5fl6Yk2JjLzo3vq+w0e0/W++\n",
       "pe4DB5NSCwAAwFQRtgGktZGdyMvyZrpUyfQUfGu7uu9/OP5xXDnZyv7Y1cr64EUyvMn7NlHpL7Zf\n",
       "t8zy6+Snr5R/xgz7WH9bu3Z862/VsWt30moCAACYLMI2gLQW24l8Zu4M+b1n1j07nfW9uGlwf3Yo\n",
       "+uxsT2WZcm/5mHyLq5NeT5m/SIai68fr8wJa9KUvKLui3D420NOj3d/5O3XV1SW9PgAAgDNB2AaQ\n",
       "1uI6kbOEXJIUCYfV+8Rz6vvlb+OOe89aoJxPXydPcaErdfkMr0p9Bfa4MdAqf1GRFv3l55VXPd8+\n",
       "Hu7r0+57/k59R464USYAAMCEELYBpK3e/j4d6zlhj8vy6UQeCYfV899PKvDCy3HHfauWKfv6K2X4\n",
       "3H0iZEXMUvKGvuOKRCLy5uZqwf/zWeUvXGC/19/erl13f5cu5QAAYNoibANIW02d8TOf5RketoeD\n",
       "dv9r2+KO+y+9QFlXXiLD4/63hHJfkf26a6BPHaEeSZLH79f8m29UTmWF/X7f4SN693v3aqC3N+l1\n",
       "AgAAnI77P1kBQIKM7ERelpe5YTsSDqv3p7+KD9qGoaxrLlfWRascf3b2ZJX7i+LGDX3H7dfenBxV\n",
       "f/YzcU3Tuvbu055//CeFQ6Gk1QgAADARhG0Aaauh87D92mN4VJqXnEdYTTeRcFi9P39awVc2Rw8a\n",
       "hrKvu0L+5UvdK2wUscvIpcF927H8RUVa8Llb5M3Ls4+1b92mgw//JCn1AQAATBRhG0DaaooJ2zNz\n",
       "Z8jr8bpYjTsikYh6H31GwZffih40DGVf+2fymYvcK2wM+Z5s5Xmy7HFjzMz2sOyyWaq+5SYZ/mhn\n",
       "+cPPPqdjL7+SlBoBAAAmgrANIG01dETDdll+Zj5fu+9X6xV86Y24Y9lrPyhfzWKXKhqfYRgq98U0\n",
       "SQucGrYlKW/ePFXd8PG4Y/t+8CP1NDQmtD4AAICJImwDSEu9/X06nuGdyAN/fE2B322MO5Z1zeXy\n",
       "LVviUkUTUxGzb7sl0K7+8Oj7sYvPWaZZqy+xx+G+Pu35h/9DwzQAADAtELYBpKVM70Qe3LZLvY/+\n",
       "Ju5Y1tWXTrs92qMpj9m3HVZEzYETY55bseYq5VVX2+Pexkbt++GDikQiCa0RAADgdAjbANJSJnci\n",
       "D+0/pJ4fPybFBE7/JefLv7LGxaombmRH8pFN0mIZXq/mffqT8hUU2MeOv/yKjjz3u4TVBwAAMBGE\n",
       "bQBpKVM7kQ8cOabuH/xU6o8uvfatMOW/+FwXqzozs3yF8ij6KLKGUZqkxfIXFmrepz4pxTwn/MB/\n",
       "/UTdBw8mqkQAAIDTImwDSEuZ2Ik83N2j7n/9b0W6euxj3oXzlLVm9bR5jvZEeA2PZvkK7XFj39gz\n",
       "28PyFy5QxZor7XEkFNLef3lA4f7+RJQIAABwWoRtAGkp0zqRRwYG1PMfjyp8LLq/2VMxS9nXXynD\n",
       "k3r/1McuJW/oOz6hPdizVn9ABUuiXda7DxxUw2OPJ6Q+AACA00m9n8AA4DQysRN537r1Cu3eZ4+N\n",
       "ogLlfPxDMrL843xq+qqIaZLWEw6oLdR12s8YhqG5H/uoPDk59rHGdU/rpPVeQmoEAAAYD2EbQNrJ\n",
       "tE7kwTfeVuCFl6MHfF5l//nVMvLz3Ctqisp98U3SGiawlFyS/MXFmn3th6MHwmG99y8PaCAQcLI8\n",
       "AACA0yJsA0g7mdSJPFTfrJ6fros7ln3N5fKWp/Z/c+zjvySp8TRN0mLNWLVSRcvOtsd9zc069NOf\n",
       "O1YbAADARBC2AaSdTOlEHj7Zpe4f/kwKRpuA+S9YKV/N4nE+lRryvdnK92Tb4/Ee/zWSYRia89Hr\n",
       "5c3Pt48dfvY5tW/f4WiNAAAA4yFsA0g7mdCJPBIOq+ehxxU50W4f8y6YK/+lF7hYlbNi922fycy2\n",
       "JPny8zX3o9fHHdv/o39TOBh0pDYAAIDTIWwDSDuZ0Ik88PtNCu3aa4+N4kJlX3tFSnYeH0tsR/KW\n",
       "YIcC4TN7jFfRsrM1Y9X77HHf4SNqeOIpx+oDAAAYT/r8VAYAyoxO5KEDDer71froAa9H2R9dIyM3\n",
       "Z+wPpaDYJmkRRdQcODHO2aOrXPshefOijeKa1j2tnsZGR+oDAAAYD2EbQFpJ907kkd4+9fz4MWkg\n",
       "bB/LuvyilG+INppTm6RNfN/2MF9+viqvudoeR0Ih7X/wPyb03G4AAICpIGwDSCvp3Ik8Eomo5xe/\n",
       "VvhYdIbXu7havnPPcbGqxCn1Fcgb822q4Qz3bQ+bce4q5S1YYI87d+7SsT++NMXqAAAAxkfYBpBW\n",
       "0rkTef9rW9X/xtv22CjIV/Y1l8kwDBerShyv4dEsf6E9bgxMLmwbhqG5H71OhjfaKO/Awz9Vf+fJ\n",
       "KdcIAAAwFsI2gLSSrp3IB46dUM8jz0QPGIayr/2ztNunPVJFzL7txr7WSS//zi4r06xLP2CPQ52d\n",
       "OviTn025PgAAgLEQtgGklXTsRB4Jh9X7k6ekQPSxVf73nyvvvNkuVpUcsfu2e8NBtfZPfja67PLL\n",
       "lDUz+jVx9MUN6txjTak+AACAsRC2AaSNdO1EHvzTWwpZdfbYM7tc/ovPdbGi5Il9/Jc0+aXkkuTx\n",
       "+zXnI9fFHTvwn/+lSDg8xicAAAAmj7ANIG2kYyfycGubep98LnrA61X2NZen1fO0x+NER/JYBUsW\n",
       "q+icZfa4a+8+HXvpT1O6JgAAwGgy46c1ABkh3TqRRyIR9fx0Xfzy8UvOk6d0hotVJVeeJ0uFnui+\n",
       "9IYphm1JqvzQ1TJ8Pnt88Kc/10Bv75SvCwAAEIuwDSBtpFsn8uCmzQrt3mePPRWz5L9gpYsVuSN2\n",
       "dnsqy8iHZc0sUeklF9vj/rY2NT65bsrXBQAAiEXYBpA20qkTebitQ71P/DZ6wOPJqOXjsSpi9m0f\n",
       "C3aoLxwc5+yJKbv8UvkKCuxx069/o76WlilfFwAAYFjm/dQGIG2lUyfynkeekXoD9th/8bnylKX2\n",
       "f9NklcWE7Yikpr4TY588Qd7sbFVcvSZ63f5+HXz4p1O+LgAAwDDCNoC0kE6dyPt3WAq9vdsee8pm\n",
       "yn/hKhcrcleFb0STNAeWkkvSjFUrlTt3rj1ufe11dezc5ci1AQAACNsA0kK6dCKP9IfU+9hv4o5l\n",
       "fegyGd7M/ed6pi9fvphvV1PtSD7M8Hg0+9pr4o4deOhhHgUGAAAckbk/vQFIK+nSiTzw4iaFj0bD\n",
       "pG9ljbyVZS5W5D6P4YlbSt7Q58zMtiTlzZ+v4pUr7HF33QEdf/kVx64PAAAyF2EbQFpIh07k4RMd\n",
       "6nv2D9ED2VnKWl3rXkHTSHlM2G4MtCociTh27Yo1V8rwRpvpHfr5Iwr39zt2fQAAkJkI2wDSQjp0\n",
       "Iu998jkpGA15WatrZeTluljR9FEes287EO7X8f5Ox66dVVKime+/MHr9o0d15HfrHbs+AADITIRt\n",
       "AGkh1TuR91t16n9ruz32lM2U731nu1jR9BI7sy05t297WNnll8mTk2OPGx5/UqHubkfvAQAAMgth\n",
       "G0DKS/VO5JGBAfU++kzcsawrL8nIZ2qPpcI/oiO5g/u2JcmXl6eyy1bb49DJk2pa97Sj9wAAAJmF\n",
       "n+QApLxU70QefHmzwk0t9th79mJ5q2a7WNH0k+Pxq8gbXVLfGHB2ZluSSi9+v3xF0Rn05meeVaDV\n",
       "+fsAAIDMQNgGkPJSuRN5JBBU37Mbogf8PmVddpF7BU1j5b6YJmkOz2xLksfvV8WVV9jjcDCohkcf\n",
       "d/w+AAAgMxC2AaS8VO5EHvjja4p0nLTH/tqV8hTmu1jR9BW7b/t4f6f6wkHH7zHj3Pcpu6LcHrds\n",
       "+IN6Ghodvw8AAEh/hG0AKS9VO5GHe3oV+N3G6IHcbPlrV4z9gQxXHrNvOyKpue/E2CdPkuHxqPLq\n",
       "NdED4bDqH3nM8fsAAID0R9gGkPJStRN5YP3LivT02uOsC1fJyM5ysaLpLXYZuZSYfduSVLD0LOVV\n",
       "V9vj1ldfU1ddXULuBQAA0hdhG0BKS9VO5OHOkwpseMUeG4X58q1a5mJF099MX768Md+2nH781zDD\n",
       "MFSx5sq4Y/U/fzQh9wIAAOmLsA0gpaVqJ/K+3/5RCkT3HPsvPk+G3+diRdOfx/CozF9oj5sSNLMt\n",
       "SfkLqlVw1hJ73LZlqzrf3ZOw+wEAgPRD2AaQ0lKxE/nA8TYFN75pj42SYvmWL3WxotQR35G8VZFI\n",
       "JGH3qrjqirjxoZ8/ktD7AQCA9ELYBpDSUrETed8zL0oDA/Y46wPny/Dwz/FExDZJ6wkH1BbqSti9\n",
       "cufOVdGys+1x585d6nhne8LuBwAA0gs/3QFIaanWiXzg2An1v77NHnvKS+U1F7lYUWop849okpag\n",
       "fdvDyq+8QjIMe3zo548yuw0AACaEsA0gpaVaJ/LACy9LMWHN/4FaGTFhDuNLVkfyYTkV5SpeGX0c\n",
       "W9fevTrx5uaE3hMAAKQHwjaAlJVqncjDnScVfCUa1DxlM+VdNM/FilJPvjdb+Z5se5zomW1JKr/i\n",
       "g1LMMv/6Rx5VJBxO+H0BAEBqI2wDSFmp1ok8sOFVqT9kj/0Xvo9Z7Ukoj1lK3hg4nvD7ZZeWquS8\n",
       "c+1xz8FDOvHGm+N8AgAAgLANIIWlUifySG+fAn983R4bxYXs1Z6kcl+0SVpLoF394dA4Zzuj7IOX\n",
       "yfBG+wHUP/pLZrcBAMC4CNsAUlYqdSIP/OlNqbfPHvsvWEkH8kmKndkOK6LDgbaE3zNrxgyVnB8z\n",
       "u32oXq2vv5Hw+wIAgNTFT3oAUlaqdCKP9Pcr8PtN9tjIy+W52lNQPrIjeYKbpA2bddmlcbPbDY89\n",
       "zuw2AAAYE2EbQMpKlU7kwde2KdJx0h77zl8uw+dzsaLUVuorkEfRve6NfYnfty0xuw0AAM4MYRtA\n",
       "SkqVTuSRcFiB5zdGD2T55V+1zL2C0oDP8KrUV2CPkzWzLTG7DQAAJo6wDSAlpUon8v6tuxQ+Fv2l\n",
       "gH/VMhnZWS5WlB7K/dEmacl4/Newwdnt8+xxz6F6tb7G7DYAADgVYRtASkqVTuSBDa9GB16vfOct\n",
       "d6+YNFLui+7bPjnQq85QT9Lufcrs9i+Z3QYAAKcibANISanQiXyg8bAG9h20x76zF8tTkOdeQWnk\n",
       "lCZpSZ3dLmZ2GwAAnBZhG0BKSoVO5LHP1ZYkH3u1HXNqR/LkNEkbxuw2AAA4HcI2gJQ03TuRh3t6\n",
       "FXx9mz32zC6Xt7LMxYrSS4EnR7mG3x4nc2ZbGprdrh05u/36OJ8AAACZhrANIOWkQify4KtbpGC/\n",
       "Pfafy6y2kwzDUFlsk7QkdiQfNutSOpMDAICxEbYBpJzp3ok8Eg4rGLuEPDdH3qWL3CsoTcUuJT8c\n",
       "OKFQZCCp9z9ldru+gdltAABgI2wDSDnTvRN56N19Ch+NzrT6V9bI8E2/PeWpLrYjeSgSVkugPek1\n",
       "lPHcbQAAMAbCNoCUExu2p2Mn8rjGaIYh3/vOdq+YNHZqk7TkLyX3FxerpPZ8e9xT36DWV19Leh0A\n",
       "AGD6IWwDSDkNndGwXZpXMq06kQ8cb1No+x577F08X56iAhcrSl9lvsK4cVOSm6TZdVy2Om52u57Z\n",
       "bQAAIMI2gBRU3x4N29Ntv3Zw4xtSJGKP/eee42I16c3v8WmmN98euzGzLZ06u93b0MjsNgAAIGwD\n",
       "SC0nA11q6+uwx+X5s1ysJl6kP6Tgps322JhZLM/8OS5WlP7KYzuSuzSzLY0xuz2Q3IZtAABgeiFs\n",
       "A0gpsc/X1v/P3n2HR3VfeQP/3ntnRqPeuxAqwAgQILoNBrc4LontxJs4dbPPpm2avZtsNts3b97N\n",
       "pmzKJrt5nWyq15vmJI6xjQs2ppjeO2iEEKij3qUpt7x/CG4RSDTNvTOa7+d5/KAzM1f32AYxZ37n\n",
       "d36IrmI7fPwMtOERPXbXLIAgCA5mNPOZ9233ycMYUQKO5OFOT0fmSuvqdvduTiYnIiKKZyy2iSim\n",
       "TJxEnpcSPW3koV2HjECS4Fow17lk4oR5Ijng9Or2hMnkz3J1m4iIKJ6x2CaimGIutl2iC5ne9Cle\n",
       "bR+1fxDyyTo9lubMhuBNcDCj+BANE8kvc6elXbm6vYt7t4mIiOIVi20iiinmSeR5ydlR06Yd2nfU\n",
       "MhjNVT3PwWziR7qUBI/g0mOnJpJflrt+HQSXkU/zs7/n6jYREVGcYrFNRDFD0zQ09bfqcbRMItc0\n",
       "zdJCLqQkQZpd7GBG8UMQBEsreUug28FsLq1umyeTt3B1m4iIKF65rv2SG+Pz+T4D4AcAMvx+/+CE\n",
       "52MWgiAAACAASURBVFwAngTwcQCzAXQC+COAL/v9/uHpzoWIZpa+sQGMhMf0ODdKhqMpF1qgtnfq\n",
       "sWvBXAgiP8u0S647DS3hXgBAa7AXqqZCFJz775+7/g70HTwETZYBjK9u56y93bKfm4iIiGa+aX03\n",
       "4vP5RAAfBaBN8pIfAfg2ABnAzwH4AXwewHafz+eZzlyIaOZpmjgcLUpWtkO7D1litpDby7xvO6TJ\n",
       "6AoNTvHqyLv66vZuBzMiIiIiJ0xLse3z+Rb7fL4/A7AFwLJJXnMXxgvxNwAs9fv9T/j9/gcAfBnA\n",
       "UgB/Mx25ENHMdeUkcudXtrVwGOH9x/RYLMqDmJXhYEbx54qJ5EFnW8mBS+duc+82ERFRXLvlYtvn\n",
       "86UAOArgFwDWT/HSz1769e/8fr/5Hcd3ML7S/YlbzYWIZjZzse11JSDVk+xgNuPCR89AGzXOdnYt\n",
       "5Kq23a6YSO7wkDRgfHU7yzyZvKWVq9tERERxZjpWtscAvP/SPx8AcGaS160H0OH3+4+YH/T7/aMA\n",
       "DgMo9fl8s6chHyKaoczFdl5yTlRMIg/tOmgELgmuqkrnkolTCaIbGVKSHjc7PCTtspx1XN0mIiKK\n",
       "Z7dcbPv9fsXv9//u0j/PAuia+Bqfz1cMIBeTF+KnL/0691bzIaKZSdXUK479cpraNwD5dL0eS3PL\n",
       "ICRw/IQTzKvbTp61bTa+ur1Cj8daWtG9k6vbRERE8cKuca2X3xV3TPJ8/6Vfs2zIhYhiUOdwN0JK\n",
       "WI+jYb92aO8Ry9nabraQOybPla5/3RMewqgSdDAbQ84Ve7d/x9VtIiKiOGFXsX15yWGydz8jl36d\n",
       "9qPIiGhmiMZJ5KF9xmA0ITUZYmmRg9nEt/wJ+7ajpZXcnZpqXd1ubUPXjl0OZkRERER2sau4vbwc\n",
       "lTjJ85f7Lkdv5pv7fL7Jjhojohli4iTyXIeLbaW1A2rrRT12VVXybG0H5bnTLXFLoBu+5GKHsrHK\n",
       "WX8Heg8ctJy7nbtuLc/dJiIiiryDPp/vul7o9/unfRiQXe8ML+/jzpzk+cvvmtsmeZ6I4py52E7x\n",
       "JCPJPdlnd/YIHTxuiSUORnNUhpQEj2Bq146SfdvApdXtVcbqdqCNq9tERETxwK6V7UaMTy2vnuT5\n",
       "OQAUGIPSbsj1fgrh8/mWAzh4zRcSUdRpGoie4WiapiF8wCi2hcw0iHnOt7XHM0EQkOdOQ0uoF8D4\n",
       "ynY0yVl3B3r3c3WbiIjIZiv8fv8hp25uy8r2pXO1twEo8Pl8loLb5/OlA1gFYJ/f7x+2Ix8iii0h\n",
       "JYy2IWO+otPD0ZTmdqgdRjHn8lVGxTFk8S7fNCStNdgLRVMdzMbq6qvbOx3MiIiIiCLNzg2GP7r0\n",
       "69d8Pp/5XenXAXgB/MDGXIgohrQMtEM1FU4FKbkOZgOE9x+zxDxbOzqYj/+SNQUdof4pXm0/nrtN\n",
       "REQUXyJVbF+xxOP3+18C8DsA7wRwyOfz/cDn8+0F8CkAL/r9/t9GKBciinGN/S2WOD/ZuZVtTdMs\n",
       "+7WFnEyIOZONoyA75U8YkhYtE8kvG1/dXqnHgbZ2dG7b7lg+mqZhaDSExvZBtHePYGA4iLAcPd0A\n",
       "REREsS4Se7a1S/9czYcAHAfw5wA+BqAFwL8A+EYE8iCiGaJxoFX/WhRE5CRnOZaL0tAMrcdYMeWq\n",
       "dvTIdaVCgPEXUHOgG6vTo+vs85x1a8cnk4fHD+lo/u3vkbt+HUS3O2L31DQNLZ3DOHmuG23dI+jo\n",
       "HUVHzygu9o5gNCBf8Xq3S0Sy142UJDfmzMrAosocLKrMQUF2ErdLEBER3YBpL7b9fv/dUzynAPja\n",
       "pX+IiK6LeWU7JykLLtGu2Y5XCh2Y0ELuq3AoE5rILbqQ6UpBrzw+/qMlED0TyS9zp6Yi+7bV6L60\n",
       "XzvY2YmOzW+i8MEHpvU+YVnFqYZuHDjdgQOnO9DeM3JD1/YPB9E/HERL5zC2HRr/85ed7sWiyhxU\n",
       "V+ZgzeJCpCZ5rvGdiIiI4ptz71iJiK6Dpmlo7DdWtgscHI6mqSrCB0/osZifAzEzfYoryG75rjSj\n",
       "2A5GVxv5ZTnr1qJ3/wGowSAAoOV3zyHvnrshJSTc0vdVVQ0Hazvw5oEmHPF3YSx45ar1regZCGDb\n",
       "4RZsO9yCH284gbuWleCdd5SjvIh/BoiIiK6GxTYRRbW+sQEMh4xVuTwHh6PJZy9AGxjSY7aQR588\n",
       "dzrOBMaPiRuQRzEojyLNleRwVlaupCTkrL0dnVu2AQBCvb24+OomFL/rkZv6fiNjYWw+0ISXd56/\n",
       "5gq2JArISE1AVpoXmZd+TU9JgKJoCIRlBEIKgiEFwZCMvqEgGtsHEbrKPu5QWMHr+xrx+r5GLKzI\n",
       "xjvvKMdt1YVwSXbOXSUiIopuLLaJKKpdmDAczclJ5BOnkEtsIY86+aaJ5MD4vu2FKaUOZTO57DW3\n",
       "o2fvfiijowCAlueeR/7b74MrKfG6v0dzxxA27mzAloPNCIQmn2pekpcCX2kmfLMzUZSTAlG8/n3X\n",
       "iqKitWsE59sG0NA2cNXi+1RDD0419CA73Yv3vW0e3r56NiQW3URERCy2iSi6XTGJ3KE2ck1WED58\n",
       "So/F4nyIaSmO5EKTmziRvCVKi23J60XOurXo2PQGAEAeHET7xpcx6/H3XPPapouD+NWmWuw+3n7V\n",
       "50UB8M3OwvyyLMwrzURa8s3vrZYkEaUFqSgtSMWdy0ogKypOnuvBnpPtaO4Ysry2ZyCAp547jpd3\n",
       "ncfHHqnGUl/eTd+XiIhoJmCxTURRzTyJPNmThBRPsiN5yHXnoQ0bLbocjBadUkQvEkUPxtQQAKA5\n",
       "GH1D0i7LXr0KPbv2QB4e32PeuuEFFD70AFwpV/8Qp717BL95vRbbDrdAu8qZH0leF1YtKMDqhQVI\n",
       "T7m1/d+TcUkiaublomZeLlo6h7D35EUcr++CrBgJNV4cwr/8eA9WzM/HRx9eiFn5qRHJhYiIKNqx\n",
       "2CaiqGZe2XbyfO3wkZOWWJpX7lAmNBVBEJDnSkNjaHw4WkuUnbVtJno8yL1rPdo3vgIAUEZG0fLH\n",
       "DSj7yIctr+vuH8Ozm+vwxr5GKOqVVXZRTjLWLCrCojk5cLvsa98uyUvFe+5JxQO3l2HvyXbsONpq\n",
       "Oaf74JkOHPF34sE1ZfjQA/ORkhi5482IiIiiEYttIopaITmEtqEOPc53aL+2pqoIHzmtx2JRHsQU\n",
       "Z1bY6dry3el6sd0e7ENIleFx8Li4qWSuWI7uHbsQHhgAALS/9DIK3/EQErKzMBaU8fs367Bh+zlL\n",
       "EXtZWWEa3raqFOWFaY6ef52S6MbbVpZi1YJ8vL6vCUf8nfpZ54qqYePO89hzoh2fe28NVszPdyxP\n",
       "IiIiu0Xnuw8iIgAtg+3QTP2yTg1HU863WKaQS3PKHMmDro9537YKDW3BXpQlRuf+YdHlQt49d6P1\n",
       "+Q0AADUUQvNvf4fGVQ/hmVdOo3cweMU1xbkpuG9VKebOynC0yJ4oLTkB77lnLm5fVIiXd53HhfZB\n",
       "/bmegQC+8tO9uGfFLHzi0Wqk8IxuIiKKAyy2iShqXTCdrw04t7IdPnLKErvmljmSB12fiUPSmgJd\n",
       "UVtsA0DG0iXo3rUbwc5OAED7G5vxTG0Sej3Wf4/8rCTct6oU88uyoqrInqg4NwWfeLQapxp68Mqe\n",
       "C+gfMj4w2HKwGUfruvDZ9y7BqgUFziVJRERkA57NQURRy7xfWxRE5CRl2p6DpmmWYlvIyYKYmT7F\n",
       "FeS0HFcKXKa/3pqjeN82AAiiiOT1d+mxqGlY33NEj1OT3HjP3XPxxHtrsKA8O6oL7csEQUB1ZQ7+\n",
       "8vEarF5oLap7BwP415/tw3d/fQjDY2GHMiQiIoo8FttEFLWaTJPIc5OzIYmS7TmobZ1QO42J1lzV\n",
       "jn6iICLXdN52U6DLwWympqgaXjvdj3856UWz1+jcqBppQkmoG3ctK8EXPrgcy6rybuh87GiR4HHh\n",
       "0fWV+NjDC5GZap2QvvVQC5749lacOBfdH4YQERHdLBbbRBSVNE3DBdPKdoFD52tfMYWcxXZMMLeS\n",
       "twR6oGpXDhhzWn1XAP+ysQW/3N+DgAxsy15uef6DYh3uW1WKBLf9HzJNt8qSDDz5vqW4rdq6yt3d\n",
       "P4Z//OEuPL3x1FWHwBEREcUyFttEFJV6xvowEhrV4/xkp/ZrG1PIhbQUiLlZjuRBN8ZcbIc0GR2h\n",
       "fgezsRoOKvjZ7i585eVWNPaG9MdbE/PQlDZLj8UL9VD8p672LWJSglvCI+sq8fFHqi2r3JoGPLe1\n",
       "Hn/zX2+huWNoiu9AREQUW1hsE1FUarxiOJr9K9tKdx+UpjY9luaWxcR+WQIKrhiS5nyrsqZpeKt+\n",
       "EF96vglb6wZhPjHbIwH3z0tG5f13AabfY4GNz0NTZ9aKb0VxOp54bw1q5lk/QDvXMoC/+o/teGX3\n",
       "ecspBERERLGKxTYRRaXzfU2WuCDF/mnS4aMTp5CX254D3Zw8VxrMH4s4vW+7pS+Er77Whh/v7MJg\n",
       "wFo8L8jz4Ik1mVg7OxHunFxIvgX6c2p7C8KH9tmdbsR5E1x4/N55eN/b5sHrMdrkQ2EFP3zuOP71\n",
       "5/ssU8yJiIhiEYttIopKDX3N+tfpCalI8iTanoO5hRxJiRCLovf4KLJyiy5kuVL02KmJ5IGwit8e\n",
       "7ME/vtgMf0fA8lxmoogPL03D+5ekId1rFJzulWsAyYiDr26AFgphJloyNxdPPr4U5UVplscPnO7A\n",
       "E9/eioNnOhzKjIiI6Nax2CaiqHS+11jZLky1v8hVB4ehnL2gx645syGI/JEZSwrcGfrXTYEuW1uT\n",
       "NU3DwcYR/O2GZmw82Q/FdGtJAO4sT8Tnbs/EvBzPFdeKKalwLV5mfK+BfoS2v2FH2o7ISE3Axx6u\n",
       "xv23zYZkmrjePxzEV366Fz987hgCIdnBDImIiG4O3zkSUdQZCAyiZ6xPjwtT823PIXzszPjkpkuk\n",
       "OWW250C3xjwkbUQJolcetuW+nUNhfPfNi/je1ovoGbEWiRVZbnz29kzcOycZbmny/f/uZasAr9HN\n",
       "EdyyCergQMRydpooCrhzaQk+9dhi5GRYu1he2X0BX/jedpxriZ4hd0RERNeDxTYRRZ3zphZywJmV\n",
       "7fAR035tjxtSaZHtOdCtyZ8wJC3SreSyouGF4334uw3NONIyankuxSPgvYtS8WfL0pCTfO2jvARP\n",
       "wng7+WWhIIKvvTjdKUed4twUfO49S7B6ofWIsOaOYXzxP9/Cc1vOQlU5PI2IiGIDi20iijoNE4aj\n",
       "2V1sa6EwZH+DHksVpRBcsX/Wcby5ciJ55IaknW4fwz+82IzfH+5FyNQzLgC4bZYXT67JxKKChBua\n",
       "Zu9asAhCpnHUXHj/LijtrVNcMTN43BIeXV+Jjzw4H8let/64rGh4+uXT+Kcf7UZX35iDGRIREV0f\n",
       "FttEFHXMxXaqJxkpnmRb7y/7G4BQWI9dFbOmeDVFq0TRgzTJaEmOxMp2/6iMp97qwNc2taFtIGx5\n",
       "rjjNhb9YnYGHqlLgdd/4X7eCKMJz+3rjAU1D4MU/3GrKMaOqLAtPvq8GvtJMy+MnznXjie9sxY4j\n",
       "M/+DByIiim0stoko6liHozmwX/tErSWWylhsxypzK/l0rmyrqoY3zgzgS883Y3eDdS+41yXg4fnJ\n",
       "+MSqdBSluW7pPmJpOcSSUj1W6k5Drj15S98zlqQmefCRh+bjkXUVcEnGW5aRsTD+/ZcH8d1fH8Jo\n",
       "IDzFdyAiInIOi20iiipDwWF0jfbqse0t5JoG+bhfj8XCPAhJXltzoOmT7zKK7d7wMIblwBSvvj4N\n",
       "3QF8+eVW/M++boyGrWdm1xQm4Mm1mVhZkgjxBlrGJyMIAjy332l5LPDiH6Apyi1/71ghCAJuqy7E\n",
       "5967BEU51i6XrYda8MS3t+Kwv9Oh7IiIiCbHYpuIoorTw9HUi11Qe4xJ6BJbyGPaxH3bzbewuj0S\n",
       "VPD03i58eWMrzvcELc/lJkv48+XpeKw6FSme6f2rVczJhVRVrcdqRztCO7dO6z1iQV5mEj712GKs\n",
       "rymG+WOMzr4xfPnHe/AfvzmModGZeR45ERHFJhbbRBRVrhyOZm8befiE3xJLFaWTvJJiwcSJ5DfT\n",
       "Sq5pGvY0DOFLzzdjc+0gzLOw3SJw35wkfPq2DJRnuSf9HrfKs3ot4DbO5A6+/hLUocGI3S9auSQR\n",
       "D9xeho8+shDpydYzyrccbMZnvrkFO4+12nqmOhER0WRYbBNRVDEX28meJKTaPRztuLFfW0hOgpiX\n",
       "bev9aXqlSYlIFI2irPEGi+3OoTC+tbkd/++tTgwErK3bVbkePLEmE+vKk+ASb71lfCpCUjLcK283\n",
       "HggEEHz5+YjeM5pVFmfgyfctxYr51g/j+oeD+OYzB/G1p/ejZ4ATy4mIyFkstokoqpjbyAtT8m7o\n",
       "qKRbpY0FINdf0GOpvMTW+9P0EwQBhe4MPb4wdn17e2VVw8YT42dmH2+1Fm0ZXhEfrEnFB2vSkJFo\n",
       "35Fwruoa61FgB3ZDbjxv2/2jTWKCC4/dNQcffXghstKscxX2nryIT39zC1546xwURZ3kOxAREUUW\n",
       "i20iihojoVF0DBsrj7a3kJ+uB0xvzNlCPjMUmIrtrvAgRpXgFK8G6jsD+OeXWvDbQ9Yzs0UBuKMs\n",
       "EZ9bk4mq3ISI5TsZQZLgWXu35bHA87+FpsZ3MTmnJANPPl6DO5YUwfzZ2FhQxk9fOIm//O42nDw3\n",
       "/ce+ERERXQuLbSKKGuev2K9t73A02bxfWxQgzS629f4UGYUT9m1P1ko+GlLwiz1d+MorrWjusw7a\n",
       "Kkl34VOrM/D2ucnwSM51O0izZkMqn6PHavMFhA/scSyfaOFxS3hoTTk+/dhiFGQlWZ5rvDiEv39q\n",
       "F77zq0PoHbz1afRERETXi8U2EUWNhgmTyItsLLY1VUX4pOnIr+ICCAmeKa6gWGFe2QaApgmt5Jqm\n",
       "Yd+FYfzN8814028dgJbgEvDOqmR8fGU6ClJv7czs6eJecycgGe3rwVeehzY26mBG0aMkLxWffc8S\n",
       "PLSmDB639S3OtsMt+NQ33sQft9YjFI6fo9OIiMg5LLaJKGqYh6Mlur1IS0i17d5Kczu0gSE9drGF\n",
       "fMZIkxKRZBqSdsG0st01FMa337yI/9rWgYExawG2MM+DJ27PwKpZ03Nm9nQR09Lhqlmpx9rwEIKv\n",
       "b3Qwo+giSSLuWFKML3xgGZbMzbE8NxaU8YuNp/Dpb76JbYdboKqcWk5ERJHDYpuIokZDb6P+td3D\n",
       "0eQTtZaY52vPHIIgWFa3G8c6oaoaXj3Vj797oRnHWqyrwuleER+qScP7lqQhzWvfALQb4V66EkKK\n",
       "8WFUaOdWKBfbHMwo+qQlJ+B9b/Ph449WIy/T2lre2TeG7/zqEP76+9txvP7mz14nIiKaCottIooK\n",
       "Q8FhXDQNRytOK7T1/ubztYX0VAhZGVO8mmLNxCFp//f1C/jVgR4EZesAtDWzE/G52zPhy43uLQSC\n",
       "2z3eTn6ZqiKw4VmeL30VFUXpeOK9S/CONeVITLBuBahvGcA//nA3vvLTvWi6GH/nlhMRUWRFxwY0\n",
       "Iop7Z3suWOKStALb7q0ODUM536LHUvksHvk1w0wcktYw0gXAOEO9KM2FR+enoDAtdv5alCrmQiye\n",
       "BbV1fNaBcrYW8okjcC9e5nBm0UeSRKxdUoRlVXnYeqgZe060QzG1kB8804HDtR24b/VsfPD+qiuO\n",
       "EiMiIroZXNkmoqhwtsd6XnCxjcW2fOosYFoR5JFfM0+ibO1UEJMHAABuEXhgXjI+uSo9pgptYLw9\n",
       "3nPH3TCfdxV48ffQQqEpropviQkuPLSmHJ+/yn5uVQM27W3EJ7++Gb96rRZjQdmhLImIaKZgsU1E\n",
       "UcFcbGcmpiPZkzTFq6eXuYUcLgnSLHtb2ClyNE3DgQsKnt4mQgsbreFC8iBKM1z4zG2ZWDM7ugag\n",
       "3QgxKweu6ho91vp6Edy6ycGMYkNWmhfve5sPn/mTxSgvSrM8Fwwp+O0bfnzy65vx6p4LUJT4Psec\n",
       "iIhuHottInKcqqmo772gxyU27tfWFAXyyTo9lkqLILhja4WTri4Q1vDsARkvHpURVgSoI0ZRlZIx\n",
       "hI+uSEd2cnQOQLsR7pW3A95EPQ5t2QS1t9vBjGJHSV4qPv5INT7y4HzkZiZanusfCuKpPxzDZ7+1\n",
       "FXtOtHE/PBER3TAW20TkuLahDoyGx/TYzhZy5XwztFHj3lI5W8hngpY+FU9tDeFUm7EqaS62A9II\n",
       "gpgZ7dZCghee2+4wHpDDCLz4B+cSijGCIKCqLAtPPr4U776zEqlJbsvzrV3D+NrTB/C3P9iJ0+d7\n",
       "HMqSiIhiEYttInLc2W7rfm07V7bDx/2WmEd+xTZV07DzrIyfvBVGn+lELwEaKpOs57Z3KL02Zxc5\n",
       "UlU1xNx8PZZPHIFce8rBjGKPJApYuaAAX/jgcty7YhY8LutbpDMXevG3P9iJr/58H5o7hhzKkoiI\n",
       "YgmLbSJynHm/tiRKKEjJte3eliO/sjMgpqdO8WqKZiNBDb/cK2PTKQWmQdNI8Wh41yIFq3NTLK+/\n",
       "OIOKbUEQ4F53j+WxwPO/hSaHHcoodiW4Jdy7shR//aHlWL2wAOKE7fz7Tl3E5761BU/94RgGhoPO\n",
       "JElERDGBxTYROe6sab92UUoeJNGefbRq7wDUlnY9dnEKeczqGFTxo+0hnO2wDrMqz1LxeI2MwjQN\n",
       "yUiAF0aL8EwqtgFAyi+ENL9aj9XuToS2veFgRrEtNcmDR9dX4q/evwzVFdmW51QNeHXPBXzy65vx\n",
       "x631CMuKM0kSEVFUY7FNRI4KhANoGmjV4+J0G1vIT05oIS9nC3ksqm1X8OO3wug3tY2LgoZ1FQoe\n",
       "qFLgvVRfC4KAbMHYt92uzLz9t57V64CEBD0Obn4Fau/M+/e0U05GIj54fxU+/dhilBVaJ5ePBmT8\n",
       "YuMpfPbfOUSNiIiuxGKbiBx1rq/J8ga1xMbhaJYjvzxuiMX23ZtunaZp2HFWxq/3yQiZjkROS9Dw\n",
       "J4tlLCpUMfFErxzB2CbQrw5jVA3YlK09hMREuFebhqWFwwi8+DvnEppBZuWn4hOPVuNPH5yPnHSv\n",
       "5bn2nhF87ekD+Mcf7kbjxUGHMiQiomjDYpuIHGXerw3YNxxNC8uQz9TrsVRWAkHij8RYISsa/nhY\n",
       "xuunFJjXEovSVPzJEhkTtmfrcoV0SzwTV7dd8xdNGJZ2FHLtSQczmjkEQcD8siw8+b6leMeacng9\n",
       "1i0vJ8514y+/sw3/8/JpBMyfABERUVziO0sicpS52E7xJCMtwZ4BZfLZ80DQOPqJLeSxYySo4ee7\n",
       "wjjabN2fPT9fxcMLFSS6J7kQQI5gbQNum4HFtiCKVxmW9iyHpU0jlyRi7ZIifPFDy3FbdaFliJqi\n",
       "avjDlrP43Le24lBth3NJEhGR41hsE5FjNE2zFNslaYUQJvb9Roh8gkd+xaLBMQ0/3RFGc6+xni1A\n",
       "w9pyBXdVKrhWc0Ki4EEKjBbgNqU7Uqk6anxY2iI95rC0yEjyuvHIugo88fhSVBZbuyY6ekfxf36y\n",
       "F9985gB6B2fWdgUiIro+LLaJyDHdo73oDxj7G23dr328Vv9azM+BmJxk273p5vSNaPjpjhC6h41C\n",
       "2yNpeMcCBUuKrtyfPZncCUPSZupQK8/qO4AE44OF8WFpM/PDBaflZyXhow8vxOP3zkXyhNaKncfa\n",
       "8OlvvoktB5tm7O81IiK6OhbbROQYf3eDJS62ab+20tENtdNoH5Z45FfU6x5W8dOdIfSZJo4nezQ8\n",
       "tlhGaeaNFTA5pn3bY1oQ/drwdKUZVYTERHhumzAs7YXfO5fQDCcIAmrm5eELH1iGlQvyLc+NBmT8\n",
       "x2+O4JvPHMTgSGiS70BERDMNi20icsyZrrP616Igojgtf4pXTx+2kMeWiwMqfrYjjMEx47E0r4Z3\n",
       "L5KRdRMNCbkT923LM3e1V6qqhphnGpZ28ijCZ044mNHMl5jgwrvvnIO/eNci5E/4DbrreBue+PYW\n",
       "HK7tdCg7IiKyE4ttInLMaVOxXZyaD7c0xWSraWQ58ivRC7Eg15b70o1r7VPx851hDAeNxzISNbyr\n",
       "Wkaad/LrppItpEKA0XM+EyeSXzY+LO1ey2OB55+FFuawtEibXZiGz71nCe5eXmLZ4tA7GMSXf7IH\n",
       "P/rjcU4sJyKa4VhsE5EjBgKDaB28qMezM0psua8WDEGuM9rXXeUltg1loxvT0qfiF7vCGDPVhdnJ\n",
       "44V2SsLNf1+XICETyXo8EyeSm0l5BXAtWKzHWk8XQttedzCj+CFJIu5bNRt/8a5FyJrw6dDLu87j\n",
       "r767nedyExHNYCy2icgRtd3nLLFdxbZ8ph6QFT3mfu3o1DWk4n/3hBE0Lfzlp6h4tFpGkufWv3+O\n",
       "aLSSdyi9UDR1ilfHPvfqtYDXPCztVag9M7d9PtqUFqThicdrsHK+datMa9cwvvj9t7DzWKtDmRER\n",
       "USSx2CYiR5zuNFrIBQiYlW7PcDRLC7kgQCqzp8in6zcwpuF/docxapojVZQ2foa21zU998g1DUmT\n",
       "oaBL7ZuebxylBG8iPKvXGQ/IYQRe+J1zCcWhBLeEd981B3/6QBWSvcaWmUBIwTefOYinN56Coszs\n",
       "D32IiOINi20icoR5OFphah4SXLfQF3ydNE2zFNticT4Eb+TvS9dvNDReaA+YhqHlpah4xwIFnmkq\n",
       "tIGrDUmb2a3kACDNr4aYZxyvJ586Brn2pIMZxaf55dl48n01KC+y/h58bms9vvyTPRgwDyggIqKY\n",
       "xmKbiGw3HBpBY7/RNlmaUWzLfdXWDmh9A3oslXMKeTQJyRp+uTeMriHjKK8M7/g52m5peu+VjmS4\n",
       "YHzTmTwk7TJBEOBZP2FY2obfQZM5pMtuqUkefPSdC7F2sbWj59jZbnzhe9tR39LvUGZERDSdWGwT\n",
       "ke383Q3QYBRUZTbt1w6fqLXELu7XjhqKquHZAzKae43fF8keDQ8vlJEYgSH1oiAgR0jV4zYlfqNL\n",
       "wgAAIABJREFUPvYvi7n5kOZX67Ha1YHQrq0OZhS/JEnEO9ZW4PF758HtMt6OdfaN4W//awf2nGh3\n",
       "MDsiIpoOLLaJyHbmFnIAKE23Z2Xb3EIupCZDyMm05b40NVXT8PwRGXUdxn7VBEnDOxfISL3J472u\n",
       "R45p33a3OoCgFpri1TOHZ9UdgMfYPhF8fSPUIU7EdkrNvFx86t2LkZlq/D8JySq+8T/78eqeC47l\n",
       "RUREt47FNhHZzjwcLS85B4nuCFZUl6gjY1DONemxVDGLR35Fie1+BceajUJbEjU8tEBBdvIUF02D\n",
       "ifu225XeyN4wSghJSXCvuM14IBBA8JUNziVEKMxJxmffswRzZ2Xoj6ka8NQfjuGXr52BpmlTXE1E\n",
       "RNGKxTYR2SoQDqChzyh6bTvy6/RZQDUVdOVsIY8GZ9oVbKk1jmIToOF+n4LCtMgXF1cOSYuPVnIA\n",
       "cFXXQMjM0uPw/l1Qmi44lxAhyevGRx5agOVVeZbHn32jDv/1u6OcVE5EFINYbBORrep6zkM1nWk8\n",
       "26bhaOHjpv3akgiptMiW+9LkOodUPHfIOpxrfaWCsix7VvGSBS+SYbTutihdttw3GgiSBM/auyyP\n",
       "BTb8FprKgs5Jkijgsbvm4O7l1g8h39jfhK/+Yj8CQQ6zIyKKJSy2ichWp7vqLLEdxbamqpBPGveV\n",
       "ZhVC8ERg6hZdt0BYw6/3yTDXDgsLFCwssLddNs+0b7tV6Yqrdl1pVhmksko9VhrPI3x4v4MZETA+\n",
       "Nf6+VbPx6PoKmHe6HDzTgX/6790YHgs7lxwREd0QFttEZKtTpv3a2UmZSPFEeGMuAOVCC7ThET1m\n",
       "C7mzVE3D7w/K6Bk2CtuCVBV3lNu/qpprKrYDWgi9anwNCnOvuRMQjSPQgq88Dy0UH4Piot3qhYX4\n",
       "0P1VcEnGWzV/Yx++/GMW3EREsYLFNhHZZjQ0hrM95/XYviO//JZYquD52k7ackaxTB5P9mh4oEqB\n",
       "5MDfSHlChiWOp1ZyABDTM+BaskyPtYF+hLa/4WBGZLagPBsfe3ghEhNc+mN1Tf348o93Y4QFNxFR\n",
       "1GOxTUS2Odnpt+zXrswqs+W+svnIr8w0iJnpU7yaIulUq4LtdcZANEkYL7STPM7kky2kQDL9Vdgq\n",
       "x1exDQDuZasAb6IeB7dsgjo44GBGZDa7MA0fe+TKgvtfWHATEUU9FttEZJtjF0/rXwuCgPLMyK8w\n",
       "qwNDUBpb9ViqYAu5U7qGVPzxsHXA052VCvJTndsnLQoickxTyVuV+JlIfpngSYB71RrjgVAQwVdf\n",
       "cC4hukJRTgoLbiKiGMRim4hsoWmapdguSSuE15UwxRXTI3zS2kLuKmcLuRPCiobfHZARMha1sahQ\n",
       "QVW+8wPJzEPSutUBjGlBB7Nxhmv+IgiZ2XocPrAbSluzgxnRREU5KZO0lO9hwU1EFKVYbBORLTqG\n",
       "u9A50qPHlVmzbbmvuYUcbhfEkkJb7ktWr59ScHHQKKwL01SsKYuOY6bMxTYQX+dtXyaIIjy3rzce\n",
       "0DQEXvxDXE1njwVFuVcW3P6mPnz5J3t4LBgRURRisU1EtjhqWtUGgMrMyBfbmqwgfNqYfi7NLobg\n",
       "kqa4giKhtl3B3gZjSTvBpeG+ec4MRLuaicV2vA1Ju0wsLYM4y/hzqZythXzmpIMZ0dVcteBu7MPX\n",
       "nzkAWYmOD7CIiGhclLzVIaKZ7vjFM/rXXlcCitLyI35P+VwjMGa0BHO/tv0GxzQ8f8S64nb3HAUp\n",
       "kd9BcN28ggdpMAaEtcbhyjYwPkfBc/t6mA93Dr70B2iKMsVV5ISrFdyHazvx/WePQFXZjUBEFC1Y\n",
       "bBNRxMmKjJOdRjt3RWYpRCHyP37kiUd+ldtz1BiNUzUNfzgUxqjp2ObqAgUV2dFXDJiPAGtTui1T\n",
       "8+OJmJ0LqWqhHqudFxE+sNvBjGgyRbkp+LOH5sPtMn6WbjvUgqdfPj3FVUREZCcW20QUcXU95xGQ\n",
       "jRVmu478Ch+v1b8Wc7MgpqbYcl8at+OsgvPdRmGdlaRFzT7tifJEo5U8DBmdar+D2TjLs2ot4HLr\n",
       "cXDTRmih0BRXkFNKC9Lwgft8EI1mBDy/rR5/3FrvXFJERKRjsU1EEXds4n5tG4ajKd19UNs79Zgt\n",
       "5PZq7lWx5YzpPG1Rw9t9MqJ1y3zuhH3b8Xje9mVCUjJcS5bpsTbYj9DOLQ5mRFOpKsvCu++aY3ns\n",
       "FxtPYcvBJocyIiKiy1hsE1HEmYvtnKQspHtTI35P+UStJZZ45JdtAmENvz8Yhnnr6B3lKrKSnMvp\n",
       "WjKQDDeMTwJa43RI2mXumhWA16vHwS2boI2OOJgRTWV5VT4euM36Ieb3nz2Kg2c6HMqIiIgAFttE\n",
       "FGGDwWGc7zPO67XryK+web+2NwFiUZ4t9yXgtZMy+kaNuCJbxYL86Gwfv0wUBMvqdnMcr2wDgOBJ\n",
       "gHvZauOBsVEEt7zmXEJ0TetqirF2cZEeq6qGbz5zAA2tAw5mRUQU31hsE1FEHWk7CQ3GEqcdxbYW\n",
       "CkP2N+ixVFYCQeSPOzvUdSg41GgU1skeDXdVKuYB11Er3zQkbVAbwYA67GA2znMtXAIhxehCCe3Y\n",
       "CrW/z8GMaCqCIODBNWVYMjdHfywQUvCvP9uL3sGAg5kREcUvvvskoog60HZM/9otulCWEfl2btnf\n",
       "AITCeuyqYAu5HcZCGjZc5Zgvr3uSC6JMganYBoBmuXOSV8YHweWCe+Ua4wE5jODrG51LiK5JFAT8\n",
       "yd1zUVFsdGl0DwTw1Z/vQyAkT3ElERFFAottIoqYkBzCsXZjv3ZlVhnckmuKK6ZHeOJ+7TIe+WWH\n",
       "l0/IGDItoC3IV1CaGX3HfE0mR0iDCGMJvlmJ72IbAKR58yFkZetxeP8uKB0XHcyIrsUlifjQ/VXI\n",
       "STf23J9t7sf3fsMzuImI7MZim4gi5kSnH0HFODKoKrcy4vfUNA3ycWO/tliYByEpMeL3jXdn2hUc\n",
       "azbax1MToveYr8m4BAm5Qpoex/vKNgAIogj36juMBzQNwddecC4hui6JCS585KEFSEwwPtzcdbwN\n",
       "v95UO8VVREQ03VhsE1HEHGg5qn8tCALmZpdH/J7qxS6oPca+Uokt5BE3EtTwwlFri+o9cxR4It/E\n",
       "MO3yhUz96x51ECMq97pKsysgFhiDt+Tjh6G0Nk9xBUWDnIxEfOj+KkimQ7if3VyHrYf4/46IyC4s\n",
       "tokoIlRVxcG243o8O70YSe7IrzBbppCD52vbYeNxGSNBI15UqKA4IzbbVa/Yt81WcgiCAPfqtZbH\n",
       "gptecigbuhEVxel4153WjqL/fPYoTp/vcSgjIqL4wmKbiCKiruc8BoPGNGdfTuRbyAFAPm60SQrJ\n",
       "iRDzsqd4Nd2qk60KTrYa7eLpXg23zY6t9nGzPCEd5sHpzTLPKQYAqWgWxGLjgyv51DEozRecS4iu\n",
       "2/KqfKyvKdZjWVHx9acPoKtvzMGsiIjiA4ttIoqIA61HLXGVDcW2NhqAXH9Bj6XyWRBi4cypGDUS\n",
       "1PDSMXP7uIZ75ipwS46ldMvcggvZgnHcFfdtG9yr1lji4Gtc3Y4Vb79tNhaUZ+lx/3AQ//b0PgTD\n",
       "ioNZERHNfCy2iWjaaZqGA63GkV/5KbnISEyf4orpET5VByjGqipbyCPrlRMyRo35d1hSpKIwLTbb\n",
       "x83M5213qH0IaKEpXh0/pIIiiLPK9FiuPQn5wjnnEqLrJgoC3nvvPBRkJemPnWsZwA9+dxSaFvt/\n",
       "ZomIohWLbSKadq2DF3FxuEuP7VjVBoDw8TNGIIk88iuC6joUHG8xPtjI8GpYXRq77eNm5iFpANAi\n",
       "d03yyvjD1e3YleCW8OEH51smlG873IIN2/mBCRFRpLDYJqJpt39CC7kd+7U1RYFsGo4mzSqC4HFH\n",
       "/L7xKChreHHC9PE75yhwxXD7uFm+YO3C4JA0g5RXAGl2hR4rZ89APlfnYEZ0I7LSvPjA230wDSjH\n",
       "0xtP4bCfv8eJiCKBxTYRTbt9zUf0r9MTUlGQkhvxeyrnmqCNGAN/pEq2kEfKm6cVDJhmKy3IV1Cc\n",
       "PnNaUb2CBxlI1mMOSbO6cnX7RbYix5A5JRl48HbjGEZVA771vwfR3j3iYFZERDMTi20imlZtgxdx\n",
       "vt84x7Uqd44tQ8rCpinkAPdrR0pzr4q9DcZQpSS3htvLZkb7uFmBaOzbbld6ENbkKV4dX8ScPEgV\n",
       "c/VYaTgLpd4/xRUUbdYsLsQyX54eD4+F8dVf7MNoIOxgVkREMw+LbSKaVjubDlriRflVttw3fMzY\n",
       "ry3mZkFMT53i1XQzZFXDhqMyzGuY6ysVmLaAzhjmIWkqNLQq3Ldt5l5xuyUOvvGyQ5nQzRAEAY+u\n",
       "r0RJXor+WNPFIXzvt0egquxSICKaLiy2iWjaaJqGXY0H9DgzMR1FqfkRv6/S2Q31olEMsYU8Mnae\n",
       "VdA5aLwRr8hWUZE9M9+YF0wYktbIVnILMTvHurp9rg5yw1kHM6Ib5XaJ+ND9VUhJNGZb7DnRjmc3\n",
       "cw8+EdF0YbFNRNPmfF8T2oeNQTvVeVX2tJAfm9BCXjk74veMN11DKrb5jfZxj6RhXfnMPaM3SUhA\n",
       "Ooxjkhrliw5mE53cy2+zxFzdjj3pKQn40ANVkEwT0369qRb7TrY7mBUR0czBYpuIps2VLeQ+W+4r\n",
       "m1rIhaREiAWRH8gWT1RNwwtHZfMR5lhTpiA5wbmc7FAoGqvbbUoPgjxv20LMyYVUZpw0oNSdgdx4\n",
       "3sGM6GbMLkjDI+sqLI9959eH0dwx5FBGREQzB4ttIpoWqqZit6nYzk/JRW5yduTvOzoGuf6CHksV\n",
       "s2xZTY8nBy+oaOwx2sWL0lTMz5+Z7eNmhUKW/rUGDc0yj0eayL3Curod4up2TFq5oACrFxbo8VhQ\n",
       "xld/vg/DYxyYRkR0K1hsE9G0qO2qR+9Yvx5X59m0qn2yDuYlV7aQT6/BMQ2vnzImcUuChrvmKIiH\n",
       "zzO4b/vaxNx8iKXGMVLymRNQWpoczIhu1jvWlmN2QZoet3WP4Fu/PAiFA9OIiG4ai20imhYTW8ir\n",
       "bWohN08hhyRBml1sy33jgaZpeOmYjKDp1KsVpSoyEp3LyU5ewY0sGFPtuW/76tzLV1ti7t2OTS5J\n",
       "xAfv9yE92aM/dri2E//7ymkHsyIiim0stonolsmKjL3Nh/V4VlohMrxpU1wxPTRFGV/ZvkQqLYLg\n",
       "cU9xBd2IU20qai8aXQPZSRpqimbemdpTMe/b7lD7MKoGHMwmOkkFRRBLjBMA5JNHobS1OJgR3azU\n",
       "JA8+/OB8uCTj7eFzW+vx1hH+/yQiuhkstonolh25eArDoRE9rrbpbG2lvhHa6Jge88iv6TMW0vDy\n",
       "cWNJW8B4+7gUZ39rFE5oJW9S2Ep+NVdMJt/8ikOZ0K0qzk3BY3dVWh77/rNHca6lf5IriIhoMnH2\n",
       "tomIImFrw279a1EQsTBvni33tbSQA5AqWGxPl02nZAwHjXhxkYr81Pjbu1kgZECAsUH9AvdtX5VU\n",
       "VAKxqESP5eOHoXTxv1WsqpmXhzuWFOlxKKzg357ejwHzDwUiIromFttEdEv6xwZwuP2kHvtyKpDs\n",
       "SZriiumhaRrCR07psZiXDTEtJeL3jQcNXSoONRrt4qkJGlaVxlf7+GVuwYUcwdgSwX3bk7Ps3dY0\n",
       "hLZsci4ZumX331aGOSUZetzVN4ZvPHMAshKfPwuIiG4Gi20iuiVvNe6DqhlvvmoKFtpyX6W5HWp3\n",
       "nx5Lc8tsue9MF1Y0vHDUetzPnZUK3JJDCUWBIlMrea86iCF11MFsopdYXAoxL1+Pwwf3QO3rdTAj\n",
       "uhWSKOD9981DVppXf+zkuR787IWTU1xFRERmLLaJ6KZpmoYtphbyFE8y5mSV2XJv86o2ALjmlk/y\n",
       "SroRW2sV9Brb7+HLVVGaGX/t42YT921f4Or2VQmCANcy0+q2qiK0/Q3nEqJbluR148MPVMHjMt4u\n",
       "btx1Hm/sa3QwKyKi2MFim4huWl1PA9qGjH2ZNQULIIr2/FgJHzJWV4SsdAjZGVO8mq5He7+KXfWK\n",
       "Hie6NawtV6a4Ij7kCumQTH9dspV8clJZJYTMbD0O7d0BdXjIwYzoVhVkJ+O991rncDz13HHUNrJr\n",
       "gYjoWlhsE9FNMw9GA4CaQptayNs7obZ36rFrbjkEQZjiCroWRdWw4agM1bSIfUe5Ai9PUoNLkJAn\n",
       "pOvxBfkiNC2+V/snIwgC3EtXGg+EwwjteNO5hGhaLKzIxj3LZ+mxrKj4+tP70TMwNsVVRETEYpuI\n",
       "bkogHMDu5kN6XJpejOykzCmumD7hI6ctMfdr37q95xS09RsFZGmmijk5LCgvKxKy9K+HtFF0qwMO\n",
       "ZhPdpDk+CKnGULnQzm3QAizKYt09K2dhfpnx56B3MIiv/88BhGV2vxARTYbFNhHdlL0tRxCQjWNg\n",
       "ltq0qg0A4cOmFvLUZIj5ObbdeybqHdHwZq3xhtklarizUgGbBQzFYrYlPi+3OZRJ9BMkCa6aFcYD\n",
       "gTGEdm93LiGaFqIg4L33zkVuZqL+mL+xDz987jg7PYiIJsFim4huyuZzO/WvPZIbC3Ln2nJftacf\n",
       "SmOrHktsIb8lmqbhxaNhhE2LU7fNVpGa4FxO0SgLKfDC6KlvkNsdzCb6uaoWAonGEYCh7ZuhhUMO\n",
       "ZkTTwetx4U8fmA+vxzie4I39TXh513kHsyIiil4stonohl3oa0FdT4MeL8zzwePy2HLvK6eQl9ly\n",
       "35nqaLOKc13GqlR+qorqQp6jO5EgCCgWjNXtZrkTYU12MKPoJrjccC9Zrsfa8BDC+3dPcQXFipyM\n",
       "RLz/Ph/MH3H+5IWTOFHf7VhORETRymX3DX0+3xcAFE3y9Ea/37/NxnSI6Ca8fu4tS7yyeLFt9w6Z\n",
       "i+1EL8Ti/MlfTFMaDmh49YRRMIqChrvnKBDZKHBVxWIWzinjk8hlKGiWO1HhnuyvM3ItXIzw4f1A\n",
       "aHy7SXDr63Dftg6CFMeHts8Q80oz8fbbZmPT3vEjwFRVwzeeOYD/+Ks7kZeVdI2riYjihxMr2/8A\n",
       "4AtX+efzAFY5kA8R3YDR8Bh2NO7X4+K0AhSm2lPwqoNDUM5e0GPX3DIINh01NhO9ckLGWNiIl5Wo\n",
       "4PvkyZmHpAHAebaST0nwJMC1qEaPtb4ehI/sn+IKiiXra4qxeI4xL2NwJIR/+8V+BELs+CAiuszW\n",
       "d6k+ny8dQBaAL/n9fnHCP5Lf7/93O/Mhohu348J+BE2D0VYU2beqHT56BjAN4uEU8pvnv6jgRKvR\n",
       "Lp6RqGF5CdvHp5IoJCALKXrcwCFp1+RetAxwGU10oS2boKn8fTYTCIKAx+6ag8KcZP2xhrYB/Oez\n",
       "RzkwjYjoEruXhCov/Vpv832JaBpomobX642pwl5XAhbm+Wy7v2W/tscNqZQtvDcjENbw4jHr6tPd\n",
       "cxRIbBK4JvNU8m51AIPqiIPZRD8hMRGuBcYHcmpHO+RTxxzMiKaTxy3hww9UIclrfKCy42grfrWp\n",
       "1sGsiIiih91vrSou/XrO5vsS0TSo7a5H86DROltTuBBuyZ7RD+rIGOQzxo8OqXI2937epE2nZAya\n",
       "jj1eWKCgMI0rUdejmK3kN8y1ZDlg2u4RfPNVrnzOIJmpXnzw7VWWWQ/PvlGHjTsbJr+IiChOOLWy\n",
       "PeTz+f7C5/N9zefzfdHn89l3QC8R3bTX662D0WxtIT98ElBMZ0GzhfymNHSpOHjBaONN8Wi4fTbb\n",
       "eq9XnpABF4wPeVhsX5uYkgpp3gI9VpsbodSdcTAjmm4Vxel4eF2l5bEfbziBHUdbJ7mCiCg+OLGy\n",
       "rQI4DOCHAP4OwL8DOO7z+Z7y+XxsYiSKUv2BQextOaLHFZmlyE7KtO3+4QOm1lOPG1L5LNvuPVOE\n",
       "ZA0bjoQtj901R4HH9nMpYpckiCgQMvT4vNwOVeOHFdfiXroSEIylz+CW1xzMhiJh9cIC3LPC+Lms\n",
       "acB3f30IR+s6HcyKiMhZThTbAoCfAigFkAzgbQDOAPgUgH+1OR8iuk6bz+2AohoryyuKl9h2b7V/\n",
       "EHKt0ZLomlsGwc0K8UZtPq2gb9SIq/JUlGaynfdGmc/bDmghtCu9DmYTG8SMTEiV8/RYqfdDvsAd\n",
       "ZTPNvStmYdWCAj2WFQ1fe3o/zjb3OZgVEZFz7C62/w3APX6//0t+v7/F7/eP+f3+LQAeBDAC4PM+\n",
       "ny956m9BRHYLK2FsMrWQpyekwpddMcUV03z/gyesU8irKqd4NV1NY4+KvQ3GhyVJbg1rypUprqDJ\n",
       "mIekAcA5ma2y18O9dKUlDr3J1e2ZRhAEPLKuAtUVxp+RsaCCr/x0L9q6hh3MjIjIGbYuDfn9/m2T\n",
       "PN7s8/n2AbgHQBWAQzfyfX0+H5dmiCJoT/NhDAQG9XhVSQ1EG8+3Du03tZAneiHNLrbt3jNBWNGw\n",
       "4YgM8w/K9ZUKvGwOuCnpQhLSkIhBjE+ZOxduxXqvfZ0esUrMyYNYWg616TwAQD59HEp7K6RC/nme\n",
       "SURRwONvm4fRjafR0DYAABgYDuGff7wH3/jMHcjNTHQ4QyKKMwd9vus7Ocfv9wvXftWNiaY90kOX\n",
       "fuXmN6IoomkaXq57U4/dogtLC6ttu7/S1QvlfLMeu3wVEGws9GeCrbUKuoeNUntOjoqKbH5GeStm\n",
       "iTn61xfVXgypo1O8mi5zL1tliYNc3Z6RXJKIDz9YhSLTGdydvaP4+6d2oqOXf1aIKH7Ytq7h8/ke\n",
       "APAKgP/n9/ufmPCcG8BKAEGM79++Idf7KYTP51sO4OCNfn+ieObvPofzfUaxu6RwIRLdXtvuH95v\n",
       "PZPXNZ8t5DeitV/FrnqjXdzr0rCugu3jt6pEyMEpGH8uzsmtqPHMdTCj2CAVFkMsLIbaPt56Lx89\n",
       "APWBRyDm5DqcGU03r8eFP3vHAvz38yfQOxgAAHRcKrj/7VNrUZjDXYNEZIsVfr//hrqmp5Ody0M7\n",
       "Mb4v+8M+n2/iO5K/A1AE4Dd+vz9gY05EdA0v122xxKtLamy9v7mFXEhLgViUb+v9Y5msaPjjIRmq\n",
       "aRF7XYWCRLdzOc0U+UIG3KYjwOrD3Ld9vSyr25qG4NZNziVDEZWa5MHHH6lGVprxAW1X3xj+/qmd\n",
       "3MNNRHHBtmLb7/cPA/g8gHQAh30+3298Pt9/+ny+nQC+AqABwJfsyoeIrq1rpAf7W4/q8ZysMuQk\n",
       "Zdl2f6XlItS2Dj12VVVCEKZ9O82MtaVWQeeQUWmXZamYk8P28ekgCSKKBOPPwgX5ImSNHQPXQ5xV\n",
       "BiEnT4/DB/ZAHeh3MCOKpIzUBHzi0WrkpBsFd89AAH//1E40dwxNcSURUeyzdeOj3+//KYA1ALYC\n",
       "uAvAJwDkAfgPAKv9fn+3nfkQ0dReO7sNmmkK+OqSpbbeP7T/qCVmC/n1a+pVsfOsUfwluDTcWamA\n",
       "n1VMH/O+7TBkNMkdU7yaLhMEwbq6rcgIbd/sXEIUcekpCfj4o4ssw9F6B4P4h6d2obF9cIoriYhi\n",
       "m+2zaP1+/14Aj9h9XyK6MYFwAFsadulxTlIWKrNm23Z/TdMQ3n9cj4XsDAg59q2qx7KQPN4+bpk+\n",
       "XqEg2eNYSjNSiWA9AqxebkWFu8ihbGKLVD4HQnomtIHx85dDe96C594HICanOJwZRUpasgefeKQa\n",
       "P3/pFC5eGpLWPxzE3z+1C//456uwsCL7Gt+BiCj2cKQvEV3V9gv7MBIe0+PVJTW2tnArDU1Qe/r0\n",
       "mC3k1++N0wp6RoxSuzKb7eORkCgkIEdI0+Nz4VZLJwhNThBFuJeZzt0OBRHeudW5hMgWKUkefOyR\n",
       "astwtKHREP7pR7ux9VDzFFcSEcUmFttEdAVVU/HqWeONr9eVgMUFC2zNIbRvYgv5HFvvH6saulTs\n",
       "bTDaxxPdGtazfTxiZglGK3m/NowelS2x10uaOx9CSqoeB3dsgRbgjNSZLjnRjY89vBDFuUYXg6yo\n",
       "+O6vD+OXr56BqvIDKyKaOVhsE9EVjl08jbYhY//psqJF8Ej2jbDWwmGE9xlTyMWCXIgZaVNcQQAQ\n",
       "CGt4/nDY8thdlZw+Hkkl4sRW8haHMok9giTBVbPCeGBsFKG9O5xLiGyT5HXjE49WY0G5dWvQs5vr\n",
       "8K1fHkQwzGGDRDQzsNgmoiu8UmesaguCgFXFS2y9f/jwKWijRgu7q3qerfePVa+dlNFv/GeDL1dF\n",
       "eTZXiSIpG6lIQoIe8wiwG+Oqqga8xtCs0PY3oMnhKa6gmcLjlvDB+6uwvqbY8vjOY234h6d2om+Q\n",
       "XQ5EFPtYbBORRctgO45dPK3H83PmIN1r76pyaOdBI3BJbCG/DnUXFRxqVPU42aPhjgquDkWaIAiW\n",
       "1e0WpQsjKouE6yW43XAvXqbH2uAAwgf2OJgR2UkUBDxwexkeu2sORNHY61LX1I/Pf287jtd3OZgd\n",
       "EdGtY7FNRBav1lmHFNl93JfS1Qu59pweu+ZVQEjgGO2pDAc1PH9Etjx29xwFCbafNxGfZgu5+tca\n",
       "NLaS3yBX9RLAY/wZD27dBE3hB0XxZMX8fPz5Oxcg0fRDq2cggH/60W4888ppyIo6xdVERNGLxTYR\n",
       "6YaDI9h+Ya8eF6XmY1a6vUcZWVa1AbgW+2y9f6zRNA0bDssYDhqPLchXUJrJ9nG7FApZcEPS47ow\n",
       "pyrfCCHBC9dCY6uK1tMN+dghBzMiJ1QWZ+DTjy1GdrpXf0zTgN+/eRZ/+4MdaO8ecTA7IqKbw2Kb\n",
       "iHRvNuxCSDH2S64uWWrrcVuaoiC023iTLWSmQywusO3+sejABRX+DmPVJ8OrYW05V4HsJAmi5czt\n",
       "83I7Qhr3Hd8I9+JlgGR8YBF881VoKn8fx5ucjER89j1LsHReruXxuqZ+/OV3t/F4MCKKOSy2iQgA\n",
       "oKgKXqvfpscpniQszLN3MJl86iy0fuPoJNciH8/WnkLXkIrXThrt46Kg4W0+GW5piosoIkpFozhQ\n",
       "oKJBbnMwm9gjJCXDNX+RHqsX2yCfOeFgRuQUr8eF9947D4/fOxcJph9mY0EZ3/31YXwHHDX8AAAg\n",
       "AElEQVTjmQPoGRib4jsQEUUPFttEBADY33oUPaN9eryieAkk0d6qzdJCLghwLZxr6/1jiaxq+MNB\n",
       "GeYTclaWqshLmfwaipwSIQciTAOe2Ep+w1w1KwDReFsSevNVaBq3Q8Srmnl5eOLxGsya8ENt17E2\n",
       "fPqbW/DSjgYoPJObiKIci20iAgC84t+ify2JElYULbb1/urgEMLHzxg5VJZCTE6yNYdYsuWMgrYB\n",
       "441mUZqKpcVsu3WKR3ChUDDODK4Pt0LR+P/jRoipaZDmVumx0ngeyrk6BzMip2WlefHJdy3CXctK\n",
       "YO5xGgvK+PGGE/ji97fjbHPfpNcTETmNxTYRob7nAvw9DXq8KK8KyR57C93QniOAaeKsaxEHo03m\n",
       "fJeKnWeNJW2PpOHeeQpEdtw7qlTI0b8OIowmucPBbGKTe+lKSxzc/KpDmVC0kCQRb189G5981yLk\n",
       "Z1n/XqpvGcBff/8t/OiPxzE8xjkJRBR9WGwTEV45O+G4r1n2HvelaRpCOw7osZCcBKl8lq05xIqx\n",
       "kIbnDodhbp68s1JBaoJjKdEl5n3bAFAns5X8RomZ2ZAqjO0jytkzkC+cm+IKihezC9PwufcswQO3\n",
       "zYbbZbx91TTg5V3n8cmvvYEN288hLPPYOCKKHiy2ieJc71g/9jQbE8DLMkpQkJI7xRXTT/Y3QO3o\n",
       "1mNX9TwIIn88TaRpGjYckWGeDTQvV8XcXO5bjAZJQgJyhXQ9rgs3c8/xTXAvW2WJg5tecigTijaS\n",
       "JGL90hL81fuXYn5ZluW5odEwfvbiSXzqm1uw/XALVO7nJqIowHezRHHu9fq3oKjGSsDqkmW25xDc\n",
       "vMsSs4X86vafV3G63Wi1T03QsK6CqzjRZLZgfFA1rI2hTeme4tV0NWJuPqSySj1W6s5AbjjrYEYU\n",
       "bTJTvfjTB+fjww9UISPF2tbT2TuKb//qEP76+9tx7GyXQxkSEY1jsU0Ux0JKGG+c26HHGd40zMsp\n",
       "tzUHpbMb8vFaPZYqSyFmpNmaQyxo71fx6oRjvu7zKUhwOZgUXWFiK3ltuMmhTGKbe8Xtlpir23Q1\n",
       "C8qz8fkPLMUDt82G12M9PaO+ZQD/9KPd+Of/3o26Jg5RIyJnsNgmimM7Gw9gKDisx6tKlkIU7P2x\n",
       "EHxz9/imu0vcyxdN8er4FAxrePagbJ4fh9WlKgpS2SYZbdKFJGTBOKqoNtzEVvKbIObmQSqfo8dK\n",
       "vR9yvd/BjChauV0S1i8twRc/tBx3LCmCNGFS5NG6Lvz199/CV3++DxfaBx3KkojiFYttojilaRpe\n",
       "rTOO+/JIbiwtXGhrDuroGEK7jP3iYm4WxFmFtuYQ7TRNw0vHZPQMGwVbaYaKGh7zFbXKxHz960Ft\n",
       "BG1Kj4PZxC73yomr2y/ygwuaVJLXjYfWlOMLH1iGmrlXzh3Zd+oinvzOVnzrfw+itWv4Kt+BiGj6\n",
       "sdgmilOnOuvQONCqxzUFC+F12TvSOrTjABAM6bFr+SIIAs+vMjvSpOJYi1FYJ7nHj/nif6boVSbm\n",
       "WeLacKNDmcQ2MTsXUuU8PVYa6qGcrZ3iCiIgM82Lx982D597zxL4ZmdantM04K2jrfjMv2/Bfz57\n",
       "BJ29ow5lSUTxgsU2UZyaeNzXqpIaW++vKQqCW/YYDyQlwlVVOfkFcahzSMXG48Y+bQHj+7QT3Q4m\n",
       "Rdd0ZSt5I1dkb9IVe7df4+o2XZ+i3BT82UML8Kl3L0JFUbrlOVXV8Mb+JvzFNzbjv/94HL2DAYey\n",
       "JKKZjsU2URy6ONyFQ63H9XhedjmykzKnuGL6hY+chtbbr8fumvkQXNIUV8SXsKLh2QMywqZh48tn\n",
       "qShOZ6ERC6yt5KOcSn6TxKxsSHOr9FhpbIBce8rBjCjWlBak4eOPVuNjDy/ErPxUy3OyomHjrvP4\n",
       "xNc24xcvncLgSGiS70L/n737Do/jOg89/JvZil5JdHZy2cAmSiRFqlqiZPVqWbaVOLYT1zhxnJsb\n",
       "3eTGN4njptiKbEvukqxmS5Zk9UqKvVexD9grQJDoZevMuX8siN0lAbAA2F3sfu/z4FnOmZ2dj+TB\n",
       "2flmThFCXBpJtoVIQ+/tXYoikrQlfLkvm45j+uS4x5CszozTrm+N/B+V51rMrpJx2kPFuV3JZVby\n",
       "S+W4bC7R4yb8776GsuR3QVycsZX5fOXuav7ik5MoK8qK2RcImry6dB9f+q8P+dPiGvxBWVJRCDEw\n",
       "JNkWIs10Br0sObC6e3t4VhGjC6riGkPo4FHM/ZFxrPZJ49CyMuIaQzLbdNhiy5FIMuG2K26cYKLL\n",
       "OO0hQ7qSDxy9oBDbhEnd29bxo4S2bEhgRGKo0jSNiaMK+fr903lwoYdh+bHfO15/iGfe2c1Xf7iY\n",
       "pZuOYlnyOyuE6B9JtoVIM0sPrsEbioxPm1M5M+6Tkvk/WBGzLct9RRxvtng7apw2XeO0s+I7d50Y\n",
       "ANKVfOA4Lr8SbJFhJr53X0cFgwmMSAxluqZRPbaYbz4wk/uuG09BTmwDe6rJy49f2Mw//nQ5Ow/I\n",
       "agJCiEsnybYQacSyLN7du7R7O8PhprpkUu8HDALz+EmCm3Z0b+sjytGHFcY1hmTVGVD8cX2QUFQP\n",
       "2StGWFTly9OVoejsruS7ZVbyS6bn5GKfGpnEUTU1EFi9NGHxiNRg0zVmTRzOtx6cxW0LRpPptsfs\n",
       "33u0mX9+fCXfe3q9zFwuhLgkkmwLkUY21+7gZPup7u3LyqfhsNn7OGLg+d5aHF5/pYtzTnxnQU9W\n",
       "llK8silEc9T13IgCi8sqZWzqUHV2V/LdwcNYSv4/L5XjsjngijyB9H/4DqqzI4ERiVRht+lcWV3O\n",
       "tz9zGVdNL8d21pidNdtr+dojH/HKR3sJmfI7LIS4cJJsC5FG3qn5qPvPuqZzecX0uJ7fPF4X+1S7\n",
       "ogR9RHlcY0hWy2tMak5GLuJyXIobxst62kPdGL20+8/tyssRsz6B0QxtmsuNY9acSIG3E//i9xIX\n",
       "kEg5GS47n7xyNN96cBbVY4ti9vkDJk+/vYu/+8lS6VouhLhgkmwLkSaONB9nR73RvT152HhyXdl9\n",
       "HDHwfG9+FPtUe/5lcR8vnoz21Vt8tDsy+62uKW6aGMIt62kPeaOjxm0D7AocTFAkqcE+dQZadmT5\n",
       "psDKj7CaGhMYkUhFhbluHlw4ka/cXU3FsNiZy4/UtfHPj6/kf/64mZZ2f4IiFEIMFZJsC5Emop9q\n",
       "Q3hitHgyj9UR3LS9e1uvLEWvkqfazZ2KP20MEj0q+6oxJsPjex9EDJJszU2Jlt+9vSd4hJCSZYUu\n",
       "lWa345gzP1IQCuF/7/XEBSRS2ojSXL56z3RuXzAGl9MWs2/xhqN89YcfsWLL8QRFJ4QYCiTZFiIN\n",
       "tPraWHF4ffd2RW4plXllcY3B9+bimG3nlfJUOxBSvLAuSGcgUuYZbjG5RCZESyVjo7qS+wmyPyQX\n",
       "5/1hGz8JrXhY93Zw0zrMo4cSF5BIabquMa+6jG99ehbTxhXH7GvrDPCj5zbyg2c2yFNuIUSPJNkW\n",
       "Ig0sOrCSoBVZTmpu5ay4nt88Wktwc9RY7aoybGk+VlspxetbQ9S2RBLroizF1WNknHaqGaUNRyfy\n",
       "n7ozcChxwaQATdNwzr06UqAUvlf/iLJk4ioxeHKznHz6Rg9fuH0KxXnumH2rPj7B1x/5iDXbTyQo\n",
       "OiFEspJkW4gUFzSDvBe13FeOK5tJw8bFNYaenmqnuzX7TbYdiyQHLrvikxNDOGx9HCSGJJfmoEKL\n",
       "TLa0L3QMnwr0cYQ4H1vVSGwjx3Rvm0cOEtywOoERiXQxrjKfv/3UTK6eWRFzY7SlPcD3nt7Aj5/f\n",
       "RFun/H4LIcIk2RYixa0+solmX2v39hUVM7Dp8cvoQoePE9yys3tbryrDVhXfLuzJZn+9xXs7IuN2\n",
       "NRQ3eUxy3X0cJIa06K7kJhY1waMJjCY1OBZcB7ZIW+Z/61VZCkzEhcOuc/PcUXz5rupznnIv3XyM\n",
       "bzyyhG37TvVytBAinUiyLUQKU0rxVk3kqbJDt3NZeXVcz+/941sxZc756f1Uu6lD8eKG2AnRrhxl\n",
       "UZkv47RTWZVWjJ1IYrhTZiXvNz03D8fMK7q3VWcHvndeS2BEIt2MKM3lG/fPYP60MqJH/zS2+vjX\n",
       "X67muXd3Y8q63EKkNUm2hUhhO+sNDjcf696eUTaVDEf8Hp8GN27H3Heoe9s2ugpbZfo+1T4zIZo3\n",
       "GCmbMMxiWrlcjKU6u2ZjpBaZ1OuQWUeb1ZnAiFKDfeZstNy87u3g2hWYRw8nMCKRbpwOG7fOH8OX\n",
       "7pxKQY6ru1wpeHFRDQ8/sYr6JvldFyJdSbItRAp7y4gdKz03jst9KX8A78vvRAp0Ded1c+N2/mSj\n",
       "lOLPW0LUtUaeYA/LUlw7ViZESxfRXckBdgTl6XZ/aXYHzvnXRQqUwvfqH2SyNBF3o8vz+OanZjBz\n",
       "wrCY8t2HGvnmj5eyeptMniZEOpJkW4gUdby1js21kRnAJxaPpTAzv48jBpb//eWoxpbubfusqeiF\n",
       "8Tt/sllWY7LjeCQByHAobp4Uwi4ToqWNMq2QTCJPvrYH9qOUDB/oL9uoMedOlrZeJksT8edy2rn/\n",
       "ExO47/rxOO2RS+wOb5Dv/34Dv3jlY4Ihs49PEEKkGkm2hUhRb9d8FLM9typ+y31ZDc343l8eKchw\n",
       "45wX3+XGksnO4yaLd8dOiLbQYxLV41CkAV3TGBf1dLvBauWEeTqBEaUOx4JrYyZL8735MlZzU+IC\n",
       "Emltlmc437h/BuXFWTHl76w+xD8/vlK6lQuRRiTZFiIFtfrbWXZobfd2Wc5wRuRVxO383lfehUBk\n",
       "YLLzqsvRXM64nT+ZnGi2eGVzKKbsqjEWFXnyRDMdjdNj15ffHjyQoEhSi56bj2NWZLI0fF68Lz4j\n",
       "PQdEwhTnZ/CVe6Yxf1rsPCU1R5r5+58sY2tNfYIiE0LEkyTbQqSgD/ctJ2hGkt15VZehxWlgcKjm\n",
       "IMEN27q39eFF2KdOiMu5k02bT/H8uiDBqF6D1WUmU8tkPGm6ytMyGa5FJvTaFThEUIX6OEJcKPvM\n",
       "K9CKI+NlzZpdBNeuSGBEIt3ZbTq3zh/DQzdPxO2M9Lxo6wzwb79ew4uLDCxLbggJkcok2RYixQTN\n",
       "IO/vW9a9nePKZvKw8XE5twqZdP7hjZgy5/Xz0PT0a2qCZnjm8VZvpKwy32L+aEm00904PfKky09Q\n",
       "1tweIJrNhuv6myGqvfG98TJWg3TVF4k1aXQRX79vOmVFkW7lSsFz7+7hv55aT3v0EhVCiJSSflfA\n",
       "QqS4VUc20uxr7d6eUzEDmx6fWbj87y7FOlbXvW3zjEnLpb6UUry2JcSxpsgTi3x3eJy2LjOPp73R\n",
       "Wgm2qK/fbdKVfMDoRcNwzJ4XKQj48b74e5mdXCRcUV4GX767mlme4THl63fV8Q+PLuNwXWsvRwoh\n",
       "hjJJtoVIIUop3o5a7sthczCrvDou5zaP1eJ7O2pSNpcT57XpudTX8hqTbcciF/cum+KWySHc9gQG\n",
       "JZKGU7MzUotccB8K1dJqdSQwotRin3k5+vDIRHTm/hoCK5ckMCIhwpwOG/deN467rhmLLerOa21D\n",
       "B//42HLWbJflwYRINZJsC5FCdtQbHG453r09s3QKGQ73oJ9XhUw6n3oZzEiC6bx2LnpOVh9Hpabt\n",
       "x00WnT3z+EST/IwEBiWSzng9tsfH9oA83R4omq7jvP7mmNnJ/W//GbNOEhmReJqmccXkUr58dzX5\n",
       "2ZElKXwBk+89vYHn39sj47iFSCGSbAuRQt6KeqoNMKdqZlzO639/OeaRyIWsbVRlWk6KdqTR4tVN\n",
       "5848XpUvF04iVplWQBaRG2HbZM3tAaUXFOKYsyBSEArifeoXKK+394OEiKPK4Tl87b7pjC7PjSn/\n",
       "44cG//XUejp9Mo5biFQgybYQKeJYay1band0b08sHkdhRv6gn9c8fhLfW1FJvtOBc+FVcZv9PFk0\n",
       "diheWBskFDU0VGYeF73RNC3m6XazaudgqDaBEaUee/VM9PKq7m3rdD3ePzwl47dF0sjOcPCF26Yw\n",
       "rzq2p8v6XXV8+7HlHKtvS1BkQoiBIsm2ECni7Kfa86pmDfo5lWnS+fTLEIp0m3ZeMwc9N3vQz51M\n",
       "vAHFs2uCdAQiZSMLZOZx0bcJejnRt6S2BPYmLJZUpOk6rhtvRcuKtEehnR8TWPJ+AqMSIpbNpnP7\n",
       "gjHce924mHHcx+rb+fZjy9mwq66Po4UQyU6SbSFSQGNnM8sOre3eLs8poSqvfNDP63t7CeahY93b\n",
       "+ohy7NMmDvp5k0nIUvxhfZDT7ZEuwMVZMvO4OL8szU2lVty9vTd0jDarM4ERpR4tMxPnwttilgPz\n",
       "v/s6IWNXAqMS4lyXTSzhb+6qJjfL2V3W6Qvxn0+u46VFNTLMRIghSpJtIVLA2zWLMa3I0+UFIy8f\n",
       "9G7cwd378b8VNfu4w47rpqvTqvu4Uoo3t4Y4eDpyEZTlVNwyKYQjPqutiSHOo1d0/1mh2BbYn8Bo\n",
       "UpOttBzH/OsiBUrhfe63WI0NiQtKiB5UleTwtXunM6Ikp7tMKXj23d388JmNeP2hPo4WQiQjSbaF\n",
       "GOLaAx18uH9F93ZRZgETi8cN6jmt1jY6f/di+Cqgi/P6K9Hzcvo4KvUsqzHZfCTSVdyuK26dFCJq\n",
       "glkh+lShFcVMlLY1sA9LyfCDgWafMg2bZ3L3tursoPN3P0d1ypJrIrnkZjn50p1TuXxSSUz5qm0n\n",
       "+KefraCuQeqsEEOJJNtCDHHv712GL+Tv3p4/YvagPl1WlkXnb19CtUQmbrFPHp92s49vPWKy+Owl\n",
       "vjwmxek1XF30k65pTNAjQz5aVQcHZKK0AadpGs6rP4FWHFnf3Ko7Qedvf4by+xIYmRDnstt07r52\n",
       "HHdePRY9ajzSodpWvvXoMrYY9QmMTghxMSTZFmII84cCvLN3Sfd2jiub6pLBHTPtf2cpod37ure1\n",
       "wnycN8xPq+7j++ot/rwltjvf/NEWowplTJ24eOGJ0iK/P1tlorRBodkduG66HS0zq7vMPHyQzqd/\n",
       "iQrJMksi+cyZUsqX7phKdoaju6zdG+T//WYNf166T8ZxCzEESLItxBC25OBq2vzt3dvzKmdh1+2D\n",
       "dr6QcQDfG4siBXYb7ts/geZ09H5Qiqltsfjj+iBW1DXO9HKTaeXS9VdcmkzNRVXURGn7QsdpsaSr\n",
       "6GDQc/Nw3XYvuCJjPcya3Xif+x3KNPs4UojEGFWWy9fvm07FsEi3KUvBk2/u5MfPb8YXkHHcQiQz\n",
       "SbaFGKJCZog393zYve22u5hVXj1o57MaW+j4zR/PHac9rHDQzplsmjvDS3xFz1EztsjiylGSaIv+\n",
       "mXjWRGmb/UYCo0ltelExrlvuBnvkJmFo+xZ8Lz8va3CLpJSX7eJv7prKzAnDYsqXbTnG//75Suqb\n",
       "ZBUDIZKVJNtCDFHLDq3lVGdj9/blFTNw2Z19HHHplD9Ax+PPxIzTtk0ah73aMyjnS0begOKZNUHa\n",
       "ooZ3ludafGKCSRr1oBeDpFwrJJfM7u2twX0ElTyxGiy20nJcn7wD9MiyAcH1q/A+/6R0KRdJyWG3\n",
       "cd/147l1/uiYZSUPHG/hH/5nGdv3n05ccEKIXkmyLcQQFLJMXt39Xve20+ZgbuXMQTmXUorOp1/G\n",
       "PHKiu0wrLsB1Y/qM0w6ZihfWBTnVFnmqX5ChuHmSiV1aUTEANE1jsl7Zve1TAXYEDyYwotRnqxyJ\n",
       "88ZbiL5bFtq6gc5f/1RmKRdJSdM05k8r569um0KmOzJkrKU9wP/95WreWnlAxnELkWTkMlGIIWj5\n",
       "oXWc6oisEXt5xQwynRmDci7/2x8R3Lg9UpDhwn3XQjTn4DxFTzaWUry8KcShhti1tG+bEsI9eMPj\n",
       "RRoap5fhJFKpNvr3yIXzILOPGY/z+ptBj1wOmftr6Pj5I1hNjX0cKUTijK3M52v3TqesKGqyP0vx\n",
       "qz9v52cvbSUYkvkHhEgWkmwLMcSELJM/73q3e9thc3Bl1WWDcq7Aph34Xo+aEE3XcN9xI3p+7qCc\n",
       "L9kopXjr4xA7T0TGcTpsilsnh8iRtbTFAHNodsZHLQN22mrhkFmXwIjSg33CpPAYbkfkBqJ1spaO\n",
       "n/4A89iRBEYmRO8Kc918+e5qqscVx5R/uP4IDz++ioYWb4IiE0JEk2RbiCFm5eH1nOyIjM26vGL6\n",
       "oDzVDh05QeeTL8WUOT8xH1tV2YCfK1kt2WOy4VAk0dY1xc0TTYqz+jhIiH6YFNWVHMJPt8Xgs1WN\n",
       "xH3XA2hZkV9u1dpCx09/iH/5YulhIJKS02Hj0zdM4Oa5I4ke1GUcaeJbjy5jzyHpnSFEokmyLcQQ\n",
       "Ylomr0Q/1dbtg/JU2zzVSMdjT0EgMlGQfeZkHNMnDfi5ktXaAyZLjOiueIobJphU5ctFtxg8OVoG\n",
       "I85aBqzRbOvjCDFQ9OJhuO5+EK2gKFJohvC//hKdv/0ZVltr4oIToheapnH1zEr+8tbJuJ2RCf+a\n",
       "2vw8/MRK3l97OIHRCSEk2RZiCFlxeD0n2091b8+umE6WM7OPIy6e1dZOx/88iWqNrN+tjyjHed28\n",
       "AT1PMtt2zOSdbbEzQV89xmJcsSTaYvBN1qtitjcG5Ol2vOg5ubjvfgC9amRMublnJx3//R8Ed23v\n",
       "5UghEmvCiAK+du90hhdEerqFTMXP/7SVJ175mGBIlrUTIhEk2RZiiAiYQV7c8Wb3tl23c+WIgX2q\n",
       "rfwBOn72e6z6yORrWnEh7jtvRNPTo7nYV2/x6qYQ0Wn15VUmU8vkQkXER6lWQAHZ3dsfB/bRafn6\n",
       "OEIMJM3lxnXrPTiuvCZmaTDV3ob3dz+n85lfYzU29PEJQiRGcX4GX71nGpNHF8aUv7v6EP/3V6tp\n",
       "apN2RIh4S4+rZyFSwPt7l9HQ2dS9PadyBtnOgRs8rEyTjl+9gHnwWHeZlpON+96b0VzpMfP40UaL\n",
       "P6wLYkZl2lNLTWZXSaIt4kfTNKptI7q3Q5hskKfbcaVpGo7pl+G+90G0gtjEJfTxJtp/+B1877+J\n",
       "CgQSFKEQPXM57Xzmpol84vLYHjI7DzTwD48uY+/Rpl6OFEIMBkm2hRgCOgKd/DlqXW233cWCEZcP\n",
       "2OcrpfA++xqh7Uak0O3Cfd/N6DnpMRtYbYvFM2uCBKKGaY8tslgwxiJNlhMXSWS0VkI27u7tzf4a\n",
       "/EoSu3jTi4fjvvez2KdMj90RChL44C3af/QdAhvXokxZakkkD13T+MTsETx080RcjkjvjNMtPv73\n",
       "z1fy0UaZZV+IeJFkW4gh4PU9H9Ae6OjevmrkFbgd7j6OuHBKKXwvvU1g1cZIod2G++6F6EUFA3KO\n",
       "ZFffZvH7VUF8kfngqMyzuGGCiS6JtkgAXdOZqkeebvsIsCWwN4ERpS/N4cB59Sdw3f1p9GElMftU\n",
       "UyO+PzxFx4/+H4H1qyTpFkll0ugivnrvNIryItcLwZDFo3/Ywm9e345pSq8tIQabJNtCJLnGzmbe\n",
       "qfmoezvXlcMVFTMG7PN9byzCv2hVpEDTcN16PbaK0gE7RzJr7FA8vSpIR9RDw5Ici09OMrFJCykS\n",
       "aLxejhtH9/Z6/25CSpK5RLGVluO69zM4r70R3LHLLVqn6/G9+AztP/i/BNYsRwWlF4JIDsMLMvna\n",
       "vdPxjIi9ef7G8gP8yy9X09gq47iFGExyKSlEkvvTzrcJmJFHrteOnofdZh+Qz/a9vxz/Wx/FlDkX\n",
       "XoV9/KgB+fxk19KpeGpVgOg5Y4qzFLdNNonqeSdEQtg1G5Ojnm53KB/bgwcSGJHQNA37pGoyPvMF\n",
       "7NMvA3tsW6waG/C9/Dzt3/0/+N5/U5YLE0khw2XnoU9O4tpZlTHlOw808Pc/WcqO/acTFJkQqU+S\n",
       "bSGS2MGmo3x0MPLUeVhWEdNLB2ata//SdfhefjemzHn9PBzVngH5/GTX7lM8tTpIc2ekrCBDcfuU\n",
       "EK6BuZchRL9N1CtwELnzs9a/E0tJ189E01wunFdeQ8Znv4h9xmywO2L2q/a28Jju7z6M98VnMOtO\n",
       "JChSIcJ0XWPhnJE8uNCD0x65/G9q8/Mvv1zNn5fuQylZ3lKIgSbJthBJSinFk5v+GPPld8OYBeha\n",
       "/39tA6s34X3h9Zgyx4LZOGZN7fdnDwWdAcXTq4M0tEf+bfPcijumhshw9HGgEHHm0hx49MjTqGar\n",
       "nR3BgwmMSETTMrNwzruajM99CfusOeA8a+WGUIjg+lV0PPLvdPz6MULGLkloREJVjy3ma/dNZ1jU\n",
       "etyWpXjyzZ18//cb6IyevEQI0W+SbAuRpFYcXo/REOkyOq5wFOOLRvf7cwOrN9P59CsQdcHnuGI6\n",
       "zrkz+/3ZQ0GHX/HUyiAnWyN//2xXONHOSo8VzsQQM1Wvwh71db3St03GbicZLSMD55z5ZDz01ziu\n",
       "vAYtJ/ec95jGLjp//Rgd//0fBNatRAUlqRGJcWYcd/W44pjyNdtr+dajyzhcK8MfhBgokmwLkYQ6\n",
       "g16e/fjV7m2bZuPm8dei9XMNqsCazXQ+/XJMom2fORnHVQO3jFgy6/ArnloVpC4q0c50KO6cEiLH\n",
       "lcDAhOhDhuZikh5ZM7dFdfBxYF8CIxK90Zyu8Prcn/kCzoW3oZeUnfMeq+4Evpeepf27D+OXcd0i\n",
       "QVwOG5++YQK3LRiNHrXsxonTHXz7p8tZuuloAqMTInVIsi1EEnp5x9u0+CIXYPOqZlGU2b9luAJr\n",
       "t9D51FmJ9vSJOK+/st9J/FDQ7lM8edYT7QxH+Il2XkYfBwqRBKr1kTFjt1f7dxBUoQRGJPqi6Tr2\n",
       "sRNw3/Mgrrs/jW3sBDirnVXtbfjPjOt+6VnMk7UJilakK03TuLK6nL++cyq5UV27/AGTH7+wmV+8\n",
       "8jHBkPSiEaI/JNkWIskcaT7Ou3uXdG/nurK5atScfn1mYO0WOp/807mJ9g0L0iLRbvMpnlwVpL4t\n",
       "9on2XVNDFGYmMDAhLpBLc8Ssu92uvGwO1CQwInGhbKXluBbehvszX8A+bRY4ejaFcVoAACAASURB\n",
       "VBjXvW4lHY/8O94XnsQ6fSoxgYq0NbI0l2/cN50xFXkx5e+sPsTDj6/iVJM3QZEJMfRJsi1EEjEt\n",
       "k19seBYzarbhheOuxmm79Fm7/Ks2nptoT0ufRLvVG36ifeqsRPvOqSEKJNEWQ8hkfQSuqHW31/h3\n",
       "4lcy7neo0HPzcM6/NjKuOzsn9g1KEdy0jvYf/hvel5/Ham5KTKAiLWVnOvnCbVO4Zmbs8mDGkSb+\n",
       "7idL2WLUJygyIYY2SbaFSCJvGovY33i4e3t0QRWTh0245M/zL1mD96zJ0OzTJuK8MT0S7ZbO8BPt\n",
       "01Gzjmc5FXdVS6Ithh6nZqdaH9m97VV+1vl3JTAicSk0V9e47s9+EeeNt6IPL419g2URXLOc9u//\n",
       "K753/ozy+xMTqEg7uq5x09yRPHTzRNzOyLCVts4A3/nNGl780MCyZDZ9IS6GJNtCJIljLbW8tOOt\n",
       "7m2HzcEdnhsvOSn2fbAC7wtvxJSlU6Jd32bx6xWBmOW9sp3hruP5MkZbDFGT9EoyiHRDXuffRYvV\n",
       "kcCIxKXSdB37OA+uex7Edds96MNKYt8QChFY/B7tP/wOwS0bZMkwETeTRhfx9fumU1aU1V2mFDz3\n",
       "3h7+88l1tHUGEhidEEOLJNtCJAHTMnl8/e8JWZEJj24cexX5GXl9HNUzpRS+txbj+9M7MeX2WVPT\n",
       "JtE+2mjx2+VBWqOGmWW7FHdWy2RoYmizazZm2cZ0b4cwWeLbnMCIRH9pmoatahSuez+D8+Y70AqL\n",
       "Yvarlia8z/2Wzl/8BLP2eIKiFOmmKC+Dr9xTzSzP8JjyjbtP8vePLmPf0eYERSbE0CLJthBJ4Jzu\n",
       "4/lVzC6fdtGfo5TC98p7+F5fFFPumDMD53Vz0yLR3nvS4qlVQbxRQ1nzMxR3V4fIcycuLiEGyjit\n",
       "nCIi4313Bw9zJHQygRGJgaBpGvbR43Df/xDO62+GzKyY/eb+Gjp+8l1877+JCslM9GLwOew27r1u\n",
       "HHdfMxa7LXL9UN/YyT/9fAXvrz0sPS6EOA9JtoVIsJrTB3hxe6S7t9Pm4I6JF999XJkm3t+/gv/9\n",
       "5THljvmX4bzq8rRItLcdM3l+bZBg1Eolw7Mt7q6WdbRF6tA1jTm22LkcPvRuxIqaWFEMXZquY/dM\n",
       "JuPBz2OffhnoUZdqlkXgg7foeOwHmCdkHWQx+DRN4/LJpXz57mkURH2RBkMWP//TVn764lb8QVke\n",
       "TIjeSLItRAK1+tt5dPVvY2Yfv5Tu4yoQpOMXzxNYtSmm3HnNHJzzZg1IrMlu7X6TlzeGMKNuslfm\n",
       "W9w51STj0idzFyIplej5jNEiY3zrrSY+Du5PYERioGlOF84rr8H9qYfQK0fE7LNOHKXj0e/h//Bt\n",
       "lCmJjhh8FcOy+fp90/GMKIgpX7ThCP/rp8upPS1zRwjRE0m2hUgQS1k8vu5pGryR5V0mDRvHZRfZ\n",
       "fVx1+mh/7ClCH++OFGoazpuuxnH5xXdFH2pMS/H2thBvbw8R3ZltXLHFrZNMHLZeDxViSLvMNg5b\n",
       "1Nf4Mt9WOixfAiMSg0EvKMJ12704r7sJnFFddCwL/3tv0PGzH2E1yNrcYvBluh08dMskbrhiBNF9\n",
       "5Q6eaOVbjy5l3Y7ahMUmRLKSZFuIBHl99wdsqd3ZvV3gzuOOiQsvqru31dxK2yO/xqw5GCm02XDd\n",
       "cQOOas9AhpuUvAHFs2uCrD0Q+2SnuszkxgkmNmnhRArL1txM00d1b3uVnw986xMXkBg0mqZhnzgF\n",
       "9wN/gV41KmafdfQQ7T/5LsGtGxMTnEgruqZx/WVVfP62KWS67d3lHb4Q331qPc+8swvTlCEtQpwh\n",
       "l6JCJMDW2l38cUdknLZNt3H/1Ftx2y98YLF5rI627z2BdSzqTrLTgfvem7GPHzWA0SanU20Wv1oW\n",
       "ZP+p2MlZrhhhsmC0RRoMUReCqfoI8ogsGr8neIQ9wSMJjEgMJj07B9etd+O8diE4I0vA4fPhffY3\n",
       "eP/0HCogyzKJwTe+Kp9v3DeDyuHZMeV/WryXf/v1GprbZH14IUCSbSHi7lDTMR5d/ZuYGTxvHnct\n",
       "ZTklfRwVK7izhrYf/hLV1BIpzMzA/cBt2EaUD2S4SWlfvcWvlwVp6Ij8G9p1xU2eELOrJNEW6cOu\n",
       "2ZhvmxRT9r53PZ3SnTxlaZqGfdJU3Pc/hD68NGZfcO0KOh77PmZ9XYKiE+kkP8fF39xVzdypsfVw\n",
       "277T/N1PlrL7YGOCIhMieUiyLUQcNXQ28YMVj+MNRS6Ep5VM4rLy6gv+DP+KDXT89Pfgi9w11grz\n",
       "yPjMHdhKigc03mSjlGL1vhDPrA7ii1r5JtsZXtprbLEsQSLST4mezxS9qnu7U/n40CddilOdnpuH\n",
       "664HwjOWR7HqTtDx2PcJ7tqWoMhEOrHbdO64aiyf+sR4HPZIWtHY6uPhJ1byxor9sjyYSGuSbAsR\n",
       "J51BLz9Y/jiN3ubuspH5ldw+8YYLGqetLAvvy+/ifeZVsCLjofTKUjIevAM9P3dQ4k4WnQHFC+tC\n",
       "vLvDjJkIrSTH4r7pIYZl93qoEClvlj6WHDK6t3cFD7EneDiBEYl40Gw2nFdeg+uWu8Ed+f/H58P7\n",
       "u8fxf/AWypLxs2LwzZgwnK/eM42iPHd3mWkpfvPaDh55bhNev6wNL9KTJNtCxIE/FOCRlb/kcMvx\n",
       "7rLizEIemHo7dt3ex5FhVoeXjp/9/pw1tG2TxuK+7xa0DHcvR6aGQ6ctHl8SYE9d7EWjZ1h4aa9M\n",
       "Zy8HCpEm7JqNBWd1J3+ncy2NZmuCIhLxZBs5OrxEWElZTLn//TfxPv1LlM+boMhEOiktyuLr901n\n",
       "yuiimPIVW4/z7ceWcfRkW4IiEyJxJNkWYpD5QwF+uOIJdtbXdJdlOTL5zLS7yHCcP0k2T5yk/XuP\n",
       "E9pRE1PumDsT1y3XodlTd20rSyk+2hPiyZVBWqOuFXVNceUok+vHm9ilFRMCgFK9IKY7uZ8gf+5c\n",
       "TlDJE6V0oGdl47rzfuyTY5d8DO38mI7HfoB5UsZxi8Hndtr5zE0ePjlvFHpUp72jJ9v5h/9Zxoqt\n",
       "x3s/WIgUJJepQgwifyjAj1Y+wY56o7vMaXPw4LQ7KcjIO+/xwa27wjOO1zdECu02XLdch3PB7Ita\n",
       "JmyoafEqnloZZMme2G7juW7F3dUmMypkIjQhznaZPo5hWqRtqbea+cC7IYERiXjSbHac19yA85ob\n",
       "QI9c4ln1deFx3Ds+TmB0Il1omsZVMyr44h1Tycl0dJf7AiY/enYjv3ltO8GQDG8Q6UGSbSEGiS/o\n",
       "40crn2D7ydhE+7PT7qYit7SPI0GFTLwvv0vH48+CP7KMi5aThfvTt2OfPG7Q4k40Syk2HDT5+eIA\n",
       "hxpiJ1UZV2xx//QQJTky2YoQPbFpOtfapuIicoG7LbifjwP7EhiViDf75Gm47vwUWmZWpNDvw/vU\n",
       "E/jff1PGcYu4GF2ex9fvm8Gostg5Zd5YcYB/+cUqGlpkeINIfZJsCzEImr0tfGfJT3pMtEfkV/R5\n",
       "rNXQRPsjvzpnfLZeWUrG5+7GVjpsUGJOBvWtFr9bEeSNj0Mxs43bdcV140LcOMHEdf4h7kKktWzN\n",
       "zTW2KTFl73nXczBYm6CIRCLYSstx3/dZ9NLY5SD9H7yF96lfoLyS6IjBl5vl5Iu3T+Gq6bH1cPeh\n",
       "Rv7+J8v4eO+pBEUmRHxIsi3EADveWse/LH6Eg01Hu8suNNEObNlJ23/8FPPA0Zhy+/RJuO+/BS0r\n",
       "o5cjh7agqVi8O8QTS4IcaYx9al2UqbhveohJJUq6jQtxgSr0Imbqo7u3LSxe6VzGidDpBEYl4k3L\n",
       "ysZ1x/3Yp0yPKQ/t2kbHT38g63GLuLDZdD555Wg+c9NEXI7IPDPN7X7+7Ver+dPiGixLeqyJ1CTJ\n",
       "thADaFd9Df+6+BFOdUTGWGc6Mnho+r19JtrKH6DzhdfpfOI5VGdkDW6cDly3XY/rxgVottScCG3/\n",
       "KYsnlgRZapiYUd+1Nk0xZ4TJfdNDFGYmLj4hhqrp+mhGacO7t4OEeKlzCQ0yQ3la0Ww2nFd/Aue1\n",
       "N4Ie+R7pHse9a3sCoxPpZOqYIr5+33RKor7ULQXPvLOb7z29nnZvMIHRCTE4JNkWYgAopXjLWMx/\n",
       "LH2MjkBnd3lBRh5fnPVpKvPKej02VHOQtn9/jMCStTHlekkxGQ/djX3i2EGLO5FONFv8fnWAp1cF\n",
       "Od0ee0e7Is/igZkhLquysEkrJcQl0TSNq21TKNMKusu8ys+LHYtpsdoTGJlIBPukalx3fQotK2oc\n",
       "t8+H98nH8S96B6XkyaIYfMX5GXz1nmnMmBA7JG7dzjr+4dFlHDjekqDIhBgcchkrRD/5gj4eW/M7\n",
       "ntn6MpaKTDpTkVPKF2d9msLM/B6PU4Eg3hffov2/f4N1qjFmn33WFNwP3oFecP4Zy4eaxg7FSxuD\n",
       "/GJpkH31sRd3Lrvi+nEh7phikp+aPeaFiCubpnO9bRpF5HSXtagOnm3/gFNmcwIjE4lgKynDfe9n\n",
       "Y9fjVgr/u6/jfebXKJ+v94OFGCBOh437rx/PHVeNwRa1PlhtQwf/66fLWbT+SAKjE2JgyVRDQvTD\n",
       "kebj/M+a33GsNXbioSnDJ3DnxIU4bI4ejwvu3o/3+dewTsaOn9SyMnAuvAr72JGDFnOitPkUy2tM\n",
       "NhyM7S4epvAMU8wbZZLpTER0QqQup2bnRvt03g5too3wpFhtqpPnOj7g/szrqLSn7qSL4lxa13rc\n",
       "gRVLMHdHupCHtm2mo/Y4GZ//CrazJlUTYqBpmsbcqWVUDMvmhQ/20NIeXnklELJ47MUt7DncyN/c\n",
       "VY3TkZpD6ET6kGRbiEtgKYv39i7l+Y//TNCKTJutaRoLx17NnMqZPa6BbTW14P3TOwQ3bDtnn23S\n",
       "WFzXX4mW4R7U2OPtZKvF6n0mHx+1ekiyYUS+xdyRJsXZ8Y9NiHSRobn4pH0W74e20EJ4qItPBfhD\n",
       "xyLuyJyPxzEiwRGKeDqzHndo2HCCK5dA11Jg1qmTdDz2AzLu/xyOWVckOEqRDqpKcvjGfTN4cVEN\n",
       "+45Fetu8v/Yw+441878fupyy4qw+PkGI5CbJthAXqdHbzC/WP8vHdbtiyrOcmdw/5VZG5leec4wK\n",
       "mfg/Wo3vjUUx62YDkOHGdeMC7BNGn3PcUKWU4uBpxap9JjUne17PdXi2xbyRFhX5Mk5QiHjI0tzc\n",
       "Yp/NInMrp1R4krQQJq92Ludy50Suc8/EpslTpHShaRqOKdPRC4sJfPAWqrMjvCPgx/v87zAPH8B1\n",
       "+31odrlUFIMrK8PB52+dzEcbj/LRpshqLPuPtfDNHy/hC7dP4eZ5o3p8iCFEspMWVIgLpJRiycE1\n",
       "PLP1ZTqDseuTji0YyZ2TFpLjyj7nmODmnfhe+wCr7ty1JO1TxuO8Zg5aZmoMUPYFFTuOW2w4ZHKi\n",
       "ueckOt+tmDPSZEyRLOUlRLy5NQc32WaxxNzOcRVZNWFDYA/HzFPclXkV+bp0M0kntrIK3Pd/Dv+H\n",
       "b2OdONZdHli5hNCh/WR87kvYhpUkMEKRDnRd44YrRlBVks1Li/fi9Yd7DfoCJk+8so21O+r45gMz\n",
       "KMpLjeslkT60dJp90uPxXAZsBHjllVeYOnVqgiMSQ8WpjgZ+teF5tp3cHVNu02zcMHZBj93Gg3v2\n",
       "43v1PcyDxzibPqwQ5yfmY6ssHdS440EpxeEGxeYjJjuOWwTNnt9XkmMxo8JidKFClyRbiISylMU6\n",
       "q4Y91vGYchcOrnZPZ5ZzAromc6imE2VZBNevIrRlQ+wOpwv3XQ/guOJKebIo4qKp1ccfF9Vw9GRb\n",
       "THlWhoMv313NtbMqpS6KPu3YsYN77733zOZswzA2JSoWebItRB9ClsnbxmJe3vk2fjO2+/fwrGLu\n",
       "mXwzJdmxkwuF9h3G99ZiQjv3nvuBTgfO+bOxz5yMpg/tC9nGDsX24yZbDls0dPR2004xulAxo8Ki\n",
       "LDd9buwJkex0TWeebSKlWgGrzN0ECd8l8xPkQ99GtgX2szDjCpk8LY1ouo5z7lXoJWUEPnofAv7w\n",
       "joAf30vPENqzg4z7P4eWKeNnxeAqyHXz5buqWbH1OIs2HMG0wtcPHd4gP3lhM2u21/KVe6ZRmJta\n",
       "c9yI1CTJthC92FW/l99u+sM5M43rms7VI+ewYOTl2PTw+EalFKEdNfjeXYq599C5H6Zr2KdNwjFv\n",
       "JnpWZhyiHxwN7RY7TljsPG5R29J78uy0KSYMs5hWbskSXkIksdF6CcVaLkvN7ZxWkadIJ60mnu14\n",
       "n4mOEcx3VTPcVtDHp4hUYh89Dv1Twwkseger7kR3eWjbZtoPH8B932dxTJ6WwAhFOtB1jWtmVTJh\n",
       "ZAEvL95LbUNH974122v5eO8pPnvTRG6dPxqbbWg/vBCpTbqRC3GWUx0NPL/tNVYf2XjOvvKcEu6Y\n",
       "uJCS7GIAVDBEcNN2/B+swDxae877AWwTx+JcMBs9P3dQ4x4MllLUtihq6ix2nrA42dp3e1GRZzFx\n",
       "uMWYIoWs1iHE0GEpi53WUbZaBwlx7lgQj72Kee6plNmKEhCdSARlWYQ2ryO4cS2cda1onzEb910P\n",
       "oOcMve81MfSETIuPNh5l2ZZjZ1dFRpXl8pV7pjFljLRNIkK6kQuRhHxBH6/t+YA3jUUEzWDMPpfN\n",
       "yfVj5jO7Yhq6pmM1NONfvo7Aio2otvYeP882pgrH/NnYSorjEf6A8QYU+05Z7K2z2Ftv0e7v+/1Z\n",
       "TsXE4eEkW+YtEWJo0jWdattIxuglrDf3ckjVx+w3Qkcx2o9SbitmpnM8kxwjcWhyCZHKNF3HMXse\n",
       "euVIAoveQbW1du8Lbd1Iu7EL9x3347h8noyfFYPKbtNZOGckk0YV8sqSfdQ3dXbvO1Tbyj8/vpLr\n",
       "Z1fx+dsmU5AjXctFcpEn2yLtBc0giw+s4pVd79Liaz1nf3XJRBaOvZosm4vgdoPAqk2Etu05504/\n",
       "AJqGbeIYnFdMRx82NO6yBk3F0UbFgVMWB09bHGtSWOdpFrJdirFFFmOLFCU5Mqu4EKmm1mpiq3WA\n",
       "OtXc43635mSSYySTHaOosg2XZCvFqYCf4NqVhHZ+fM4+2+hxuG6/D/vI1Fm+UiQv07RYs6OWRRuO\n",
       "EAjGLi2a6bZz19VjuePqsWRlOBIUoUgGyfRkW5JtkbZMy2Tl4Q28tPMtTnU0nLO/NHs4N4+7mopm\n",
       "CKzZTHDDNlR7Zw+fBNht2KdMwHH5tKTvLh40FcebFAdPh5Pro42KUM9LYcfIdSnGFFmMLVYMz5YE\n",
       "W4h0UGc1sdU6SK1q6vU9OVomEx0jGO+opMo2XGYxT2Fm7XECSz9ENTees88+43Lct9yFXjS0enOJ\n",
       "oam1w887qw+xbd/pc/ZlZzi4+9px3LZgNJluSbrTkSTbCSLJtgAImSGWHVrLa3s+4GT7uWtfZzsy\n",
       "+KRzEqOOdBLavAPr1LkXFWdoBbk4ZkzGPmUCmts1mGFfsna/4kiDxZFGxeEGi9pmhXkBv/a6pijP\n",
       "VYwsUIwoCE90Jgm2EOmpUbWxxzrOfquuxzHdZ7hxMsZRznh7JWMc5bg1ZxyjFPGgzBDBTesJbVkP\n",
       "1ll3am12nPOvwXntQvS8/MQEKNLK/mPNvLHyAKeavOfsy8l0cu9147h1/mjcLhn2kk7SOtn2eDyZ\n",
       "wMPAg0A5cBR4Dvi+YRihQT63JNtprDPg5aODq3m7ZjENnbFPaWymYtRpxdzWXIbtO41qOrc7eTdd\n",
       "wzZmBI4Zk9FHViRV90l/SFHbrDjeZHGs67Wpl4fxPcl3KyryLUbkKyrzZZIzIUSsgApxwKpjv6qj\n",
       "XrX0+V4djSpbCeMc5YyylzFMz0+q9lL0j9XUSHDtCsxD+8/dabPjuGwOzusWYhteGv/gRFoJmRYb\n",
       "d59k6eZjtHYEztmfk+nkhitGcPO8kZQXZycgQhFvaZtsezweO/AWsBBYC2wCZgJXAu8YhnHbIJ9f\n",
       "ku00dKLtJO/VLGXpoTX4Ql2zfSlFfpvJiNoAo2uDVNUHsZ2nL7VeOgz7lPHYPWPRMhM/AUdnIDxT\n",
       "eF1LeBmu2mbFqTbFxfxG57gUFXmKijyLijxFdnI+nBdCJKE25eWgdZKDVj2NtJ33/dlaBqPspYy2\n",
       "lzHKXka2LjMqpgLzxDGCq5dhnTp57k5Nwz5lOs4F12EbOwFNlyEGYvAEQxbrd9WxbPMx2r3BHt8z\n",
       "Y8IwPjlvFHOmlMqSYSksnZPtzwNPAk8ZhvHFqPLfAX8FPGQYxvODeH5JttOEN+hjzdHNLDu0ht2n\n",
       "9oFSFLSaVNYHqagPUFEfJNt7/oHKWnEB9vGjsU8ci16UmC5x/pDidJuivi2cTJ9sVdS1WrSe22Pq\n",
       "PBRFmVCaa1GWoyjNVeQm/p6BECIFdCgfR63THFGnqVNNmJy/fR2u5zPSXsoIewmVtuFk6nK3b6hS\n",
       "SmHuMwhuWI1q6XlSPa2gCMfsuThnz0MvHhbnCEU6CQRN1u2sY/mW43T4ek66C3PdXD+7innVZYyr\n",
       "zEfXpddNKknnZHsDMB2oMAzjVFT5eMAAlhuGce0gnl+S7RTmC/rYUreTdce2suPAFgrqOyk9HaS0\n",
       "IURpQxB34MLqul5SjG3CaOzjR6EXxifBNi1Fc6eioUPR2A4NHYqGdotTbYrmi06qw9x2xfCc8GRm\n",
       "pTnhWcNlyJIQYrAFVYgTqpGj1mmOqQa8nNutsyfD9HxG2EsYYR9Ola2ELF3uBg41yrIwD+4jtHUD\n",
       "Vn0PT7q72EaNxT5lOvbJ1eglZTK8QAwKf9Bk85561u2spb6HMd1nFOa6mTO1lLlTy6geW4zDLk+8\n",
       "h7q0TLY9Hk8O0ARsNAxjbg/7a4ECIHuwxm5Lsp1alFIcazjKzt3rOWZsp+PgIYoaAxQ3h8jpvIDp\n",
       "tc9wu7CNqsQ2uhL7qEq0rMwBj9MfCk9U1uKF5k5FS6ei2RtOsJs7w+XnW26rLy67oigznFifSbBz\n",
       "XDKhmRAisZRSNNHOcauRE6qRk6r5gp56A+Tr2ZTZirp/SmyFuDSZWXgoUEphnThKcMtGrKOH+nyv\n",
       "VliMfdJU7OM82EaNRc/Ni0+QIm0opThU28q6nXXsPNCA2ccFV6bbTvXYYiaOKmTSqELGVeXjkgls\n",
       "hpxkSrbj+ZxrGqADu3rZvxu4FhgF7ItPSGIosAIBfPX1tB4/xolDBo1HD+E9UYv9VDPZbUFyFEy6\n",
       "mA90OrBVlKJXlWGrKkMvKb7ocWRKKQIh6AxAm1/R7lO0++l6jfy5za/o8EOw98l7L4pGuOt3UZai\n",
       "uOunKEuR7ZTEWgiRfDRNo5AcCm05VDOSkDI5qZo5oRo5YTX1Oda72Wqn2Wpnd/Bwd1mRnkeZrYhh\n",
       "tjwK9VwK9VwK9GxsmlwMJxNN07BVjMBWMQKrrRWzZhehPTtRredOqqcaTxNctZTgqqXhYwuKsI0a\n",
       "g23EKGylFeEn37l58vRbXDJN0xhdnsfo8jzaOwNsMurZYtT3+LS70xdi3c461u2sA8Cma4ytzGPi\n",
       "yEJGleVSOTyHypJscjJlpQVxYeKZbBd1vfbWr+jMIJ/COMQiEkgpheX3Y3Z6CbW3EWhq7vpporPh\n",
       "NB0Np/A1NhBsboGWNmze2C6IGV0/F0rLy0EvG46tbDha+XCs4iKClo43BAFTEWyBQMgiaIafQPuC\n",
       "4A0qfAHwBRXeYPi1uzwYfk9/nkSfj01X5LkhP0NRmKEoyAz/5GeA9G4SQgxVds1GhVZEBUVgA78K\n",
       "Uq9aqFNN1KlmGlQbfU3z2GC10GC1QNQwTA2NPD2Loq7kO0fPJFvLIFvPIFvLIEvPwIVDkrUE0XNy\n",
       "0S+bi33WHKza44RqdmMdPoDq7Ojx/aqpgVBTA6EtGyKF7gxsJWXoxcPQ8gvRC8I/Wl4BWnYOWmYW\n",
       "mk1uuIjzy850cs3MSq6ZWcnpZi+7Djaw61AjR+vaemx5TEtRc6SZmiOxcxHkZTupHJ5DxbBsivPc\n",
       "FOZlUJTnpjDXTVGem5xMp4wDF0B8k+3crld/L/vPtLoyqjROTJ+Ptj0GVjCIshRNrV78gRBKqXAm\n",
       "qRRKWaDCCTJdf0ZZKNNEBUOoUDD8EwzS1tlEIOCFULhcCwbR/AE0nx/NH0D3B9ADQWyBINoFJKqX\n",
       "8rXZlpFBc0YxTZlFnHYXcjKjmFbNTdCEQC0Ej4JiUFeYu2AZDkWOK9zdO9etyHMr8jIgz63IkifV\n",
       "Qog04NIcVGnFVFEMhMd716sWTqpmTqs2TqtW/PQ8wdEZCtX9FHw/J3p8jx0b2VoGLs2BS3PgjH4l\n",
       "/GrTdGzYsKF3/Tm8rWsaOhoQfi21Fcl48kugaRq28kps5ZUopVCn6zEPH8Q8fACrvq7vg31ezMMH\n",
       "MA8f6P3zM7PQsrLBnYHmdKI5XeB0orncaE4nOF3hV5cLze4A3QY2G5rNhpaZhW3chHC5SBvF+Rlc\n",
       "PbOSq2dW0tYZYM+hRmqONnOkrpW2zr7bnZb2AC3tDew80NDjfl3XyHI7yM5wkJVhJzvDSVaGg0y3\n",
       "Hbtdx2m34bDrOO16eNsRvW3Daddx2HVsNh1dC3+ermnouoZN1xhVnifd24eIeCa2Z2ptbw8lz/TH\n",
       "uIhVgS9a97fj/v09rAuZRoJt7dT896OE2s+/XEuysTRod9tocbtotWfTpBXQogppduYS1LqqtK/r\n",
       "p/l03ONz2hVue3iCMrcd3A5w28HlUGQ4INOhyHTCOStOmGC1Q1N7eHIDIYRIV8NwMww3ShXTSYAW\n",
       "1UFz108LnQQv4aZp6wC1rDoan3TPZbi9YEA+L62VlEJJKSoQQDU2YDWewmo4jdVwGkJ9Jzvn8Hmh\n",
       "8dK/8/XSctwP/KX0gEhjhQ6YOwbmjMmhvSNIbUMHdY0d1J3upKHFe9E9GjuBU+d916XJcNv51qdn\n",
       "MaxAllDsyVl5XkLvjsZzgrTrgUXAbw3D+Jse9i8CrgPKDMOov8jPjt+U6kIIIYQQQgghUophGAN+\n",
       "ty2eoz/PTIzW2xTg44DTF5toCyGEEEIIIYQQySbe62zvBMYC5YZhNEaVVvJiXQAADAFJREFUTwD2\n",
       "AC8YhvG5QTz/MOBMMr+AcEdjIfprY9fr7IRGIVKJ1Ckx0KROiYEk9UkMNKlTYiC5gZVdfx5uGMZg\n",
       "9eg/r3gn238LPAb8wjCMr3eV2YFXgVuBBYZhrBnkGBQMTjcBkZ6kTomBJnVKDDSpU2IgSX0SA03q\n",
       "lBhoyVKn4j3z9xPAA8BXPR5PNbCN8Nrak4GfDXaiLYQQQgghhBBCxENcV+w1DMMEbgR+AowCvtC1\n",
       "628Nw/i7eMYihBBCCCGEEEIMlrivaW0Yhhf4x64fIYQQQgghhBAi5cT1ybYQQgghhBBCCJEOJNkW\n",
       "QgghhBBCCCEGmCTbQgghhBBCCCHEAJNkWwghhBBCCCGEGGCSbAshhBBCCCGEEANMkm0hhBBCCCGE\n",
       "EGKAaUqpRMcghBBCCCGEEEKkFHmyLYQQQgghhBBCDDBJtoUQQgghhBBCiAEmybYQQgghhBBCCDHA\n",
       "JNkWQgghhBBCCCEGmCTbQgghhBBCCCHEAJNkWwghhBBCCCGEGGCSbAshhBBCCCGEEANMkm0hhBBC\n",
       "CCGEEGKASbIthBBCCCGEEEIMMEm2hRBCCCGEEEKIASbJthBCCCGEEEIIMcAk2RZCCCGEEEIIIQaY\n",
       "JNtCCCGEEEIIIcQAsyc6gIvl8XgygYeBB4Fy4CjwHPB9wzBCF/lZTmAzMNkwjHNuPHg8nhHAfwGf\n",
       "AHKAXcCjhmH8sV9/CZFU4lWnPB6PG/huH4c/ZhjG0Ys5n0hO/alTHo+nAvhWL7sV8O+GYbRHvV/a\n",
       "qTQQrzol7VT66O93n8fjyQb+GfgUUAU0Au8BDxuGUX/We6WdSnHxqk/SRqWPgbw+v4BzDVobNaSS\n",
       "bY/HYwdeBRYCa4F3gZnAvwNzgNsu8iP/BZhM+GLj7HOVAysJ/+e+CRwHbgJe8Hg8VYZhPHKJfw2R\n",
       "ROJZp4BxwD/0cpwCXiLckIghbADq1Ez6riePAGcSI2mn0kA86xTSTqWF/tYpj8fjAt4BFgDLgA+B\n",
       "ucBfATM8Hs9swzBU13ulnUpx8axPSBuVFvpTpzwez9PAX1zAaUYZhnFksNuoIZVsA58j/I/+lGEY\n",
       "XzxT6PF4fgf8lcfj+axhGM9fyAd5PJ6phO+W9OZ7QCXwl4ZhPNt1TAawDviux+N52TCMg5f49xDJ\n",
       "I551amzX6xWGYWy81IBF0utvnTpTT4YbhnH6POeSdio9xLNOSTuVHvpbp75FODF62DCMH3YdqwHP\n",
       "Ap8B7gVe7nqvtFOpL571Sdqo9NCfOvUOUN/LPjfwNcI3ZBq6yga1jRpqY7a/DoQIdzOJ9oOu17++\n",
       "kA/xeDw24HfAfmBPD/vzCf9ybz/zjw5gGIYX+BngAP7yYoMXSSkudarLmS+IfRcZoxha+lunxgKt\n",
       "50uKpJ1KK3GpU1HvBWmnUt0l1ymPx6MD3wS2nUmMALqePH4PaAFmdL1X2qn0EJf61EXaqPRwyXXK\n",
       "MIyXDMP4p55+CD9oDgL3GIbREY82asgk2x6PJ4dw94HNhmGcit5nGMZe4CQwt6vbwfn8HTCb8H9U\n",
       "oIf9VxL+z3i3h33Lu16vvsDQRZKKc50CGAM0GYbRfOlRi2Q2QHVqDOGbNucj7VQaiHOdOvNeaadS\n",
       "2ADUqWlAKfDi2TsMw9hlGEaBYRj/2lUk7VSKi3N9AmmjUt4AX59Hf+5dwFeA7xiGsaWreNDbqKHU\n",
       "jXwa4ZsDu3rZvxu4FhhFH3e7PB7PGOA/gd8YhrHS4/H09LaZXa89nauG8JiQCRcStEhq8axTEL4b\n",
       "u98TfsNtQBFwGHjNMIyTlxC/SD4DUafGAjs8Hs9s4AbCE3XUEK4nLVHvk3YqPcSzTp15r7RTqa2/\n",
       "dWpu1+tWj8czHLiH8IRW9YTryeGo90o7lfriWZ9A2qh0MCDX59G6EvifA9uA/47aNeht1JB5sk34\n",
       "lwnCdzN6cuYOV+F5Puc3QBPwT5dyrq5uLS0XcB6R/OJZpyB8N3Y8sIPwhET/DPwCOODxeP7qvNGK\n",
       "oaBfdaprjNoo4DpgPeEudA8DTxGuJ7dcyLmknUop8axTIO1UOujvd19l1+tMwhejTxCuU48Cez0e\n",
       "z7cv5FzSTqWMeNYnkDYqHQzU9Xm07xCeAO2bhmFYF3KugWqjhlKyndv16u9lf0fXa69P6z0ez5cI\n",
       "X3D8rWEYrf0811DqFSB6Frc61TUmaSRgA74KFBD+Bf8rwAf81uPx3HRR0Ytk1N86VQG4CI8n+hSQ\n",
       "TfjL4dtABvCKx+OpvohzSTs19MWtTkk7lTb6W6cKul7/E3iF8JNGF3ANcAR4pKu75oWeS9qpoS1u\n",
       "9UnaqLTR7+vzaB6PpxL4BvCRYRjLz9o96G3UUGrggl2vGb3sd3a9dva00+PxlBG+A/aaYRh/HoBz\n",
       "9XgeMaTEs07pwAPAPsMwdkaV/97j8bQS/oL5F+D9CwlcJK1+1SmgFbiL8EQdB6Pe+2jX8IQfA/+L\n",
       "8JIW0k6lh3jWKWmn0kN/69SZ/SuiZwkGVng8nq8THvv4NeC1CzyXtFNDWzzrk7RR6aG/depsD3cd\n",
       "8/1LPFe/2qihlGyfGSBf0Mv+IsL96k/0sv+ngEb4zsYln6vrrloBMgtiKohbnTIMIwS83svu1wlP\n",
       "qjazl/1i6OhXnerqHfFGL8e+RDgxOlNPpJ1KD3GrU9JOpY3+fvedWZP9zbN3GIbxvsfj8QOTzncu\n",
       "aadSRtzqk7RRaaO/daqbx+PJAz4P1BiGsfhizjVQbdRQSrbPDFyf2sv+ccBpwzB6W1dtNuGuAsd6\n",
       "msDK4/Gc6b8/Oupc1ee8EUYQ/nfbcQExi+QWrzo1yjCMI70FYRiG5fF4vAytYR2iZ/2tU305c0Fy\n",
       "pl7t7nqVdiq1xbNO9UraqZTS3zp1qOu1vZf9nYRvRIO0U+kgnvWpV9JGpZSB/N57iPBT69+f51yD\n",
       "1kYNmQppGEYd4UZ7lsfjiRmo7vF4JhD+B/mwj4/4NeHZ587+OXNH48x2M7CE8MXHjT18zsKu1w8u\n",
       "6S8ikkYc61Srx+P5gcfjsTwez71nf4jH45kM5AEf9+9vJBKtv3XK4/H8saueXNbD7vldr2fqibRT\n",
       "aSCedUraqfQwAN99q7perzh7h8fjGUn4SdC2riJpp1JcPOuTtFHpYQDqVLRPE34K/nIv+we9jRoy\n",
       "yXaXXxLuO/+fZwq61lj7b8L/kI+fKfN4PBO7lmQCwDCM7/eyuHktoKLKWrqWDnid8H/y/VHnKgH+\n",
       "z/9v745drDjiOIB/RWyENGIj2A/ENiAKV1poYSEYDckh2AmaGIt0+QcsrtFOKxMtLNKk0BSCjQhi\n",
       "IUmhY6FI+iBYy0sxG3LcnXr65pZ77ufTvbvd27fwu9+8LztvJi1MrdsPkIU0Rk29TnJ3OO2nUsru\n",
       "VdfalWRleHl9C++T8XxyTeX/Ovm5lLJz1flfpK0iPctQJ8NgpE9Nwyg1FX1qSuYZ+x4neZJkuZSy\n",
       "tOb8y8PLa8Ox+tQ0jFJP0aOmZJ5x77/j9yY5lOTlsD/3OmNkvkWaRp607QBOJTk3rJ76Z9o+a18m\n",
       "uVJrfTgctz9tWsCrtGnhH7LR9JSLSZaS3CqlfJ3kn7RFZvYk+abW+maO+2D7GKWmaq33Syk3k3yb\n",
       "5Hkp5U7aogxH0lbe/L3WemP+22EbmKemfklyJsnxJE9LKffS+vSxJPuSXF2zkqY+NQ2j1JQ+NSnz\n",
       "jn1nktxPcq+U8kfadycPJzmQ5Nc1i4bqU5+/UepJj5qUHp/Pl9I+jz/I+21pj1qoJ9u11rdp/1Ar\n",
       "afuGnh1+daHW+sMGp8w28WdnGx1Xa/07ycEkv6Vt7XQ6ybMkR2ut75qKwIIZuaaW0waIV0lOJvku\n",
       "7WsLl5Kc+Nj3zvY0T02tOvd8kjdpNXIyyYskZ2ut36+5lj41ASPXlD41AfOOfbXWv9LWLbmd9uRo\n",
       "OW0q5o9pwWn1sfrUZ27ketKjJqDT5/Ovhp8/+sC1trRH7ZjNNpMdAAAAgM1aqCfbAAAAsAiEbQAA\n",
       "AOhM2AYAAIDOhG0AAADoTNgGAACAzoRtAAAA6EzYBgAAgM6EbQAAAOhM2AYAAIDOhG0AAADoTNgG\n",
       "AACAzoRtAAAA6EzYBgAAgM6EbQAAAOhM2AYAAIDOhG0AAADoTNgGAACAzv4FvUog3c6nUqoAAAAA\n",
       "SUVORK5CYII=\n",
       "' width=493 height=348/>"
      ],
      "text/plain": [
       "<matplotlib.figure.Figure at 0x1a8e2a9d0>"
      ]
     },
     "metadata": {},
     "output_type": "display_data"
    }
   ],
   "source": [
    "ert_bsl = ert[0]\n",
    "srt_bsl1 = c_ssrt1[0]\n",
    "srt_bsl2 = c_ssrt2[0]\n",
    "sns.kdeplot(ert_bsl, shade=True)\n",
    "\n",
    "sns.kdeplot(ert_bsl[ert_bsl<srt_bsl1], shade=True, label='err rt 1')\n",
    "sns.kdeplot(ert_bsl[ert_bsl<srt_bsl], shade=True, label='err rt 2')"
   ]
  },
  {
   "cell_type": "code",
   "execution_count": 196,
   "metadata": {
    "collapsed": false
   },
   "outputs": [
    {
     "data": {
      "text/html": [
       "<img src='data:image/png;base64,iVBORw0KGgoAAAANSUhEUgAAA9sAAAK5CAYAAACvwj05AAAABHNCSVQICAgIfAhkiAAAAAlwSFlz\n",
       "AAAWJQAAFiUBSVIk8AAAIABJREFUeJzs3Xl0W/d95/3PBUAAJEFwp0RROyVfSV5jO3ESZ209rROn\n",
       "k+R0S7pkazvTpu08M6dP0z7TTtI2adLptHOeZ9rOtEmaTNekWTppEjtO4iR2Gjux43iRLEpX1kJJ\n",
       "3PcFBIj1Pn9QBC4okaLIC1ws79c5OuQPuAC+EmRTH/x+v+/PsG1bAAAAAADAPT6vCwAAAAAAoNYQ\n",
       "tgEAAAAAcBlhGwAAAAAAlxG2AQAAAABwGWEbAAAAAACXEbYBAAAAAHAZYRsAAAAAAJcRtgEAAAAA\n",
       "cBlhGwAAAAAAlxG2AQAAAABwGWEbAAAAAACX1V3YNk3TNk3T9roOeIP3v37x3tc33v/6xXtf33j/\n",
       "6xfvfX2rlPe/7sI2AAAAAAClFtjuE5im2SHp9yT9mKReSYuSHpf0+5ZlPeu4LiDpP0j6RUn7JE1I\n",
       "+mdJH7AsK7bdOgAAAAAAqBTbmtk2TbNV0pOSfk3SJUkfk/S8pH8r6Tumad7tuPwvJf2JpIykT0iy\n",
       "JP0nSY+ZphncTh0AAAAAAFSS7c5s/5akfkkftCzrA6s3mqb5q5L+TNJfSLrHNM3XSXqPpK9LeqNl\n",
       "Wdkr1/0XSb8v6Tcl/eE2awEAAAAAoCJsd8/2T0iKS/qw80bLsv5C0riku03T3CPpV6/c9durQfuK\n",
       "P9XKTPcvbbMOAAAAAAAqxpbDtmmahqT9kk5blpW8xiVDV77ulvQaSePOPdySZFlWXNIzkvaaprlv\n",
       "q7UAAAAAAFBJtjOzbUj6Sa00PStimmZUknll2CCpW9KpdZ5n4MrXw9uoBQAAAACAirHlPduWZeUk\n",
       "/cva203T9GulGVpE0glJs1fuGl/nqeaufO3Yai0AAAAAAFQSV8/ZNk2zX9Kjkt4maVnSr0hqvXL3\n",
       "tZaaS9LSla/bPoYMAAAAAIBK4ErANU2zQSsdxX9XUljSRUlvtyzre6Zp3nPlssZ1Hr567FfcjVo2\n",
       "Yppmt+P7e7XygQDqkGmad3ldA7zBe1/feP/rF+99feP9r1+893UpvPqNaZrdlmVNelXItsO2aZoH\n",
       "JH1O0kskZbVy5Nd/tixrdcZ69TfXvs5TdF75OrKNGuwtPOw7W3091ISnvS4AnuG9r2+8//WL976+\n",
       "8f7XL977+jZhmub1r5JkWZbh9otvK2ybptmnldDaK+k5Sb+wtuO4Vma5E5JuWedpDmklpA+scz8A\n",
       "AAAAAFXFsO2tTAqvME3z05J+StJXJL3VsqzUOtc9KOkNkm6zLOsFx+2tkkYlPWNZ1qu2XMjm671X\n",
       "V2a0//iP/1j9/f2lfkkAAAAAQJmcO3dO73vf+1aHr7Is63GvatnyzLZpms2S3qyVZeI/vV7QvuIv\n",
       "tRK2P2ya5psty1pN+B/Rypr6P99qHTcov0e7v79ft9yy3mQ7AAAAAKDKedqjazvLyO+UFJI0Len3\n",
       "NlgL/yHLsr5kmuZntDIL/gPTNJ+QdLekl0n6omVZn95GHQAAAAAAVJTthO0dV76ako6sc40t6X9o\n",
       "5Sztn5V0XNK7Jf2CpCFJ75f0R9uoAQAAAACAirPlsG1Z1ud0A+d0W5aVlfThK78AAAAAAKhZmw7L\n",
       "AAAAAABgcwjbAAAAAAC4bFvnbAMA4PTgw49oIbbR4RQF0UhQD9x/X4krAgAA8AZhGwDgmoVYSu19\n",
       "xzZ17ezwQImrAQAA8A7LyAEAAAAAcBlhGwAAAAAAlxG2AQAAAABwGWEbAAAAAACXEbYBAAAAAHAZ\n",
       "YRsAAAAAAJcRtgEAAAAAcBlhGwAAAAAAlxG2AQAAAABwGWEbAAAAAACXEbYBAAAAAHAZYRsAAAAA\n",
       "AJcRtgEAAAAAcBlhGwAAAAAAlxG2AQAAAABwGWEbAAAAAACXEbYBAAAAAHAZYRsAAAAAAJcRtgEA\n",
       "AAAAcBlhGwAAAAAAlxG2AQAAAABwGWEbAAAAAACXEbYBAAAAAHAZYRsAAAAAAJcRtgEAAAAAcBlh\n",
       "GwAAAAAAlxG2AQAAAABwGWEbAAAAAACXEbYBAAAAAHAZYRsAAAAAAJcRtgEAAAAAcBlhGwAAAAAA\n",
       "lxG2AQAAAABwGWEbAAAAAACXEbYBAAAAAHAZYRsAAAAAAJcRtgEAAAAAcBlhGwAAAAAAlxG2AQAA\n",
       "AABwGWEbAAAAAACXEbYBAAAAAHAZYRsAAAAAAJcRtgEAAAAAcBlhGwAAAAAAlxG2AQAAAABwWcDr\n",
       "AgAAuJ4HH35EC7HUpq+PRoJ64P77SlgRAADAxgjbAICKtxBLqb3v2Kavnx0eKGE1AAAA18cycgAA\n",
       "AAAAXEbYBgAAAADAZYRtAAAAAABcRtgGAAAAAMBlhG0AAAAAAFxG2AYAAAAAwGWEbQAAAAAAXEbY\n",
       "BgAAAADAZYRtAAAAAABcRtgGAAAAAMBlAa8LAABAktKZrKyLszo7NK+2lpBefstOhYP8mAIAANWJ\n",
       "f8UAADwzPhPXN75/SSfOTcm6OKt0Jpe/ryMa1tt/xNR9L9vrYYUAAABbQ9gGAHhiYiGn9/7xN5VK\n",
       "Z695/8zCsv7ic8/rnx89qwPtObXtsmUYRpmrBAAA2Br2bAMAym5uMalvW9l1g7bT6NSSnngxqy/9\n",
       "63llsrnrXg8AAFAJmNkGAJTVciqjLz9+XqlM4bbu9kbdcbhbt/R36vCedn372WF94bGzWk4Vwvjl\n",
       "iZi+9YMh3ffSPcxwAwCAikfYBgCUTTaX01eeGNR8LJW/7dCeNn3kvfcWNUP72fuP6IF7D+iz3zij\n",
       "h54YzM9on7k0q45oSHcd2VH22gEAAG4Ey8gBAGVh27Ye/cGQRqaW8rd1tTXqv7znnmt2HW9rCemX\n",
       "3nKr3v8L98g5j/29F8Z0fmS+DBUDAABsHWEbAFAWz52Z1OmLs/lxwC994Bdfro5oeMPHvcTs0Z37\n",
       "i39cff3JS5qaS5SkTgAAADcQtgEAJbecyuipgfH82JD0qsN+7e+NburxN+306eaDnflxJpvTg09c\n",
       "UHw57XapAAAAriBsAwBK7uT56aJO4q+8bZd2tW/+R5BhGHr1HX3q647kb4vF03rsmWFX6wQAAHAL\n",
       "YRsAUFLZbE7Hz07lx83hgG491LnBI67N7zN0/yv2qTUSzN92fmReo4494AAAAJWCsA0AKKkzl+cU\n",
       "Xy6c83XboW75fVv78RMOBnTfS/cW3fbE8RHZtr2tGgEAANxG2AYAlIxt23ruzGR+3BAo3nu9FTs7\n",
       "m9Xf15ofj83EdWFkYVvPCQAA4DbCNgCgZC6NL2pmYTk/Prq/Q6Ggf9vP+/JbeuVznAf23ROjyuaY\n",
       "3QYAAJWDsA0AKBnnrLYh6fbD3a48b1tLqGiGfC6W1KkL0648NwAAgBsI2wCAkpicS2hoIpYf9+9u\n",
       "U7Q5uMEjbszdR3eoIVD4MfbUwLhS6axrzw8AALAdhG0AQEk4Z7Ul6Y6b3JnVXtUUbtBLburJjxPJ\n",
       "zFWvCQAA4BXCNgDAdbF4Smcvz+bHu7qataOjyfXXueOmLjWFA/nxs2cmFV9Ou/46AAAAN4qwDQBw\n",
       "3emLs3L2K3N7VntVQ8Cvlx3bmR9nsjkNXJgpyWsBAADcCMI2AMB1zqO4Ik0N2t8bLdlrHd3foUhj\n",
       "Q3588sK0cpy7DQAAPEbYBgC4aimR1sRsPD8+uKtVhmFs8Ijt8fkMHTtQ6Ewei6c1OkfYBgAA3iJs\n",
       "AwBcNTi6UDQu5az2qmMHOuTM8y+O5Ur+mgAAABshbAMAXHVhZD7/fbDBp13dkZK/ZnNjgw7uas2P\n",
       "R+ZsTczEN3gEAABAaRG2AQCuSWftorO19+2Myu8r3RJyp5sPdhaNv/rkxbK8LgAAwLUQtgEArhmb\n",
       "s5V1tCE/sKv0S8hX7e6JqDUSzI+/9uRFpTMsJwcAAN4gbAMAXDM8Wwi3PkPau6N8YdswjKLZ7bnF\n",
       "pJ48OVq21wcAAHAibAMAXJHN2RqeLcxq7+qOKBT0l7WGo/s6ipatf+WJwbK+PgAAwKqA1wUAAGrD\n",
       "6cEZJTOF8fWWkD9//MSmn/vEyVN6Td+x614XDgV0aHebrEuzkqTjZ6f0V3/3oKKN6+8bj0aCeuD+\n",
       "+zZdCwAAwGYQtgEArnjq5FjReH9v6zpXrkhmpPZNBGhJSjyz+WB+S39nPmxL0uVYm151qG/d62eH\n",
       "Bzb93AAAAJvFMnIAgCuc+6M7W8OKNgc3uLp0dnQ0KWgs58dnLs8pZ9sbPAIAAMB9hG0AwLYNTSxq\n",
       "eHIpPz6wa+NZ7VIyDENRX+Gs70Qyo9GppQ0eAQAA4D7CNgBg2558oXgJeTmP/LqWZv9i0fjc0JxH\n",
       "lQAAgHpF2AYAbNuTjv3azeGAutsaPaxGajAy2tHRlB+fG56XzVJyAABQRoRtAMC2xJfTsi7O5Mf7\n",
       "d7XKMNbv/l0u/bsLS9njyxmNTcc9rAYAANQbwjYAYFtODc4o55g03rujxbtiHPr72orGLCUHAADl\n",
       "RNgGAGzLwIWZonFvV7NHlRSLNgfV015Yzs5ScgAAUE6EbQDAtpw8P53/PhqWGkMBD6sp5pzdjiXS\n",
       "Gp9hKTkAACgPwjYAYMvSmaxevDSbH3dHvd+r7XRwd/ERZOeG5te5EgAAwF2EbQDAlp29PK9UJpcf\n",
       "d7dU1o+VtkhIXW3h/Pjc8BxLyQEAQFlU1r+KAABVZeDCdNG40ma2peKl5IvxtCZnEx5WAwAA6gVh\n",
       "GwCwZScdYbsjGlIk5GEx6+hfu5R8mK7kAACg9AjbAIAtyeVsnXJ0Ij96oLMiztdeq70lrI5oYSn5\n",
       "2SG6kgMAgNIjbAMAtuTy+KJiiXR+fPOBTg+r2dghx+z2wlJKU3MsJQcAAKVF2AYAbMna/drHDnR4\n",
       "VMn1HXTs25aki2OLHlUCAADqBWEbALAlJ88XlpA3hgLav6t1g6u91RENKdoczI8vjS14WA0AAKgH\n",
       "hG0AwJYMDBZmto/u75DfV3n7tVcZhqG9O1ry47HpuJZTGQ8rAgAAtY6wDQC4YROz8aIjtI4drNwl\n",
       "5Kv27iyEbVvS0ETMu2IAAEDNI2wDAG7YgKMLuSQdq+DmaKv6uiNyTr5fYt82AAAoIcI2AOCGDZwv\n",
       "LCEP+A3dtLfdw2o2J9jgV29Xc358eXyRI8AAAEDJELYBADfM2Yn80O42hRr8HlazeXt3RPPfxxJp\n",
       "zSwkPawGAADUMsI2AOCGLMZTRUdn3Xyw8peQr3Lu25akS+N0JQcAAKVB2AYA3JBTVbhfe1Vna1hN\n",
       "4UB+zL5tAABQKoRtAMANOTVYHLaPHqj8TuSr1h4BNjK1pEyWfdsAAMB9hG0AwA05e3ku/31fd0Qt\n",
       "TUEPq7lxzqXkuZyt8QXCNgAAcB9hGwCwabZt69xwIWwf2t3mYTVbs6eneN/26BxhGwAAuI+wDQDY\n",
       "tInZhBbj6fz40J5WD6vZmnAooJ72pvx4dC7nYTUAAKBWEbYBAJt2bmiuaNzfV30z21LxUvLFZWl0\n",
       "asnDagAAQC0ibAMANu3smrB9sK/6ZrYlad+aI8CesSY8qgQAANQqwjYAYNPODc/nv+/talZzY4OH\n",
       "1WxdT3uTQg3+/PhZwjYAAHAZYRsAsCm2bRctI++v0lltSfL5DO3eEcmPj5+dVCbL3m0AAOAewjYA\n",
       "YFOm55c1H0vlx9XYidzJ2ZU8kcxetR8dAABgOwjbAIBNuao52u7qndmWVs4IdzpxbtqjSgAAQC0i\n",
       "bAMANuXs0HzRuL/KZ7ZbI0E1hwP58YlzUx5WAwAAag1hGwCwKeeGCzPbPR1NamkKeljN9hmGob6e\n",
       "wuz2wPlp9m0DAADXELYBAJviXEZ+qMqXkK9yLiVfTmWvOtoMAABgqwjbAIDrmllY1sxCMj/u76vu\n",
       "JeSrdq3dt32WpeQAAMAdhG0AwHXVWnO0Va3NQTU6VsMTtgEAgFsI2wCA6zo3vKY5Wo3MbBuGoR1R\n",
       "Iz8eGJxh3zYAAHBF4PqXAABqyYMPP6IFx3nZG4lGgnrg/vt09nJhZrurNay2llCpyiu7HVGfBqey\n",
       "kqRkKquzl+d0ZH+Hx1UBAIBqR9gGgDqzEEupve/Ypq6dHR6QVDyzXe1Hfq3V02oUjY+fnSJsAwCA\n",
       "bWMZOQBgQ/OxpKbmEvlxrYXtSEjqamvMjzlvGwAAuIGwDQDY0Lmh4v3atXLs1yrDMHRrf2d+fGpw\n",
       "RukM+7YBAMD2ELYBABs6N7y2E3ltzWxL0q39XfnvV/dtAwAAbAdhGwCwobOOY7/aW0LqiIY9rKY0\n",
       "bj3UVTQ+fm7So0oAAECtIGwDADbkXEZei7PakrSjo0nd7YV92y+cnfawGgAAUAsI2wCAdaUytsZn\n",
       "4vlxf43t1161sm+7MLs9wL5tAACwTYRtAMC65uJ20fjgrtoM25KKmqSl0lmduTTrYTUAAKDauX7O\n",
       "tmma75X055LaLMtaWHPfuyXdvM5Dn7As65/drgcAsHXza8L2/t6oR5WU3q2HuovGL5yb0s0HO9e5\n",
       "GgAAYGOuhm3TNH2S3iPJXueSX5V05zVutyU1SSJsA0AFmSusIFcw4NOOzmbviimxHR1N6mprzJ8p\n",
       "PjA443FFAACgmrkStk3TvE3SSyS9Wyther2w3S/pf1qW9WtuvC4AoLScM9t7drbI7zM8rKb0jh3o\n",
       "0LefHZYknR6cUTZn1/zvGQAAlMa292ybphmR9JykT0p6zQbXdUhqlXR2u68JACg927Y1lyiE7X07\n",
       "a3cJ+apjBwrLxuPLGV0aW9jgagAAgPW50SAtIeltV369XdKpda47eOXrORdeEwBQYvHljFKZwnjf\n",
       "zhbviimTYwc6isYD5zkCDAAAbM22l5FblpWV9JnVsWmavyLpyDUu7b/yddI0zXdKOixpSdI3Lct6\n",
       "crt1AADcNbOwXDTeWwcz23t3RtUcDmhpeeVThoHBGT3wqoPXeRQAAMDVXO9GvoHVf618SVJRe1fT\n",
       "NP+PpJ+3LCt+1aMAAJ6Yni8O2/WwjNzvM3Rkf4d+cHpCkjRwgSZpAABga8p5zvbqzPZDkm6S1Cjp\n",
       "5ZIel/RWSR8rYy0AgOtwzmw3hQPqagt7WE35OPdtT80lNDHL58AAAODGlXNm+6OSPmdZ1sOO254y\n",
       "TfONkgYkvd00zfdblnXDe7pN01yv+zkAYIucYXvfzqgMoz66cl+1b/vCjHramzyqBgAAbMPTpmlu\n",
       "6kLLslz/h07ZZrYty3pqTdBevX1R0urtd5SrHgDA+mzbLgrbe+ugOdqqw3vbFfAXft4OXKBJGgAA\n",
       "uHHlnNneSOzK19xWHrzZTyFM07xL0tNbeQ0AqCeL8bTSmcL/kuthv/aqUINfh3a36fTFWUnSKfZt\n",
       "AwBQre62LOsHXr14WWa2TdM8YppmzjTNL61zyb2SbEnPl6MeAMDGZtY2R+utn5ltqXjf9sWxBcXi\n",
       "KQ+rAQAA1agsYduyrNOSBiX9qGmar3DeZ5rmz0u6W9JjlmWdL0c9AICNTS8kisb1NLMtFe/btm3l\n",
       "Z7kBAAA2q1TLyK+1rPu9kv5F0qOmaT4o6bIkU9K/kTQl6ZdLVAsA4AY592u3RUJqjYQ8rKb8juxf\n",
       "2yRtWncf3eFRNQAAoBqVYmbbvvKryJXmaHdI+rxWZrL/vaQjkv5a0kstyzpTgloAAFvgPGO7npqj\n",
       "rWqNhLRnRyQ/5rxtAABwo1yf2bYs6/Ub3HdK0s+4/ZoAAPfkcrZmF5P58b7e+lpCvuro/k5dHl/p\n",
       "33nm0qzSmawaAn6PqwIAANWiUrqRAwAqxHwsqVyusEBpfPiiPvW5y5t67ImTp/SavmOlKq2sjh3o\n",
       "0NeevChJSmdyOnt5XkfXnMENAACwHsI2AKDI9EJxJ/I9+w6ovbN5U49NPHOiFCV5wtmRXFrZt03Y\n",
       "BgAAm1WWbuQAgOqx9tivjmjYo0q8tbOzSe0thcZwpwbZtw0AADaPsA0AKOLsRB5QWsGG+tynbBhG\n",
       "0ez2wIXpouX1AAAAGyFsAwCKOJeRB33JDa6sfc7zthfjaQ1PxjysBgAAVBPCNgAgL5PNad7RiTxo\n",
       "1HfYXnve9mmWkgMAgE0ibAMA8mYXk3IulK73sH2wr7VoGT37tgEAwGYRtgEAeWubo4XqPGwH/D4d\n",
       "3tOWH5++OOthNQAAoJoQtgEAeTMLifz3hqQGI+VdMRXiqGMp+eXxRcXi/JkAAIDrI2wDAPJmFgoz\n",
       "2dFIUD6D7ttH1+7bZnYbAABsAmEbAJA352iO1t5Sn+drr2Xuay8a0yQNAABsBmEbACBJyuZyml9y\n",
       "hu2Qh9VUjtZISH3dzfkxTdIAAMBmELYBAJKkhVhKtmPVeBthO8/cV1hKfubSrLLZnIfVAACAahDw\n",
       "ugAAQGWYXSzuPN7eEtZlj2opp+ePn7juNbGZQrheTmU1OLqg/t1tGzwCAADUO8I2AEBS8X5tqX5m\n",
       "tpMZqb3v2IbXHIwk9NT5M/nx6cEZwjYAANgQy8gBAJKk2cXCGdvhoF+NIT6PXdURDSsYKPzIPDVI\n",
       "R3IAALAxwjYAQFLxMvJ6mdXeLMMwtLPT0STtIk3SAADAxgjbAADZts2xX9exs7Mp//3ETFwzC8sb\n",
       "XA0AAOodYRsAoEQyo2Q6mx8zs30158y2xHnbAABgY4RtAMBVzdE4Y/tqOzqaZDjGnLcNAAA2QtgG\n",
       "AFx17Bcz21cLNvjV0VpYXs/MNgAA2AhhGwBQNLPtM6RoM2H7WnodS8nPDs0r5Vh6DwAA4ETYBgAU\n",
       "HfsVjYTk9xkbXF2/nPu2M9mczg3Ne1gNAACoZIRtAIDmYs5O5Mxqr8fZkVxi3zYAAFgfYRsA6lw2\n",
       "m9NCLJUft0UI2+uJNgcVbiiMT3PeNgAAWAdhGwDq3PxSSrZj3B7ljO31GIahrkhhif2pwRnZtr3B\n",
       "IwAAQL0ibANAnXPu15aY2b6erpZC2J5bTGp8Ju5hNQAAoFIRtgGgznHG9o3pbiluHse+bQAAcC2E\n",
       "bQCoc84ztsNBv8KhgIfVVL6OiKGAv3gpOQAAwFqEbQCoc86Z7fYW9mtfj99nqH93W35sDc56WA0A\n",
       "AKhUhG0AqGO2bRft2W5jCfmmHN3fkf9+cHRe8eW0h9UAAIBKRNgGgDqWSGaUSufyY/Zrb84RR9jO\n",
       "2dKLl+Y8rAYAAFQiwjYA1LHZNc3RmNnenCP72ovGpzhvGwAArEHYBoA6dnUncvZsb0Zna6N6Opry\n",
       "Y5qkAQCAtQjbAFDHnPu1fYahaHPQw2qqi3N22xqcUS5ne1gNAACoNIRtAKhjzpnt1khQPp+xwdVw\n",
       "cjZJW1rO6PLEoofVAACASkPYBoA65tyzzX7tG+NskiZJp1lKDgAAHAjbAFCnMtmcFpdS+TH7tW/M\n",
       "gd6oQkF/fsy+bQAA4BTwugAAgDfmY0k5dxkzs705zx8/kf++LZzT+JXPK546cVmfCowVXRuNBPXA\n",
       "/feVszwAAFAhCNsAUKfmY6micVuEsL0ZyYzU3ndMkrR7dlTjCxOSpMVlKdx1kxpDhR+ts8MDntQI\n",
       "AAC8xzJyAKhT87HiY79aI3Qiv1E7O5uLxuPTcY8qAQAAlYawDQB1at6xX7sh4CuakcXm7OxsKhqP\n",
       "Ti95VAkAAKg0hG0AqFPOme3WSEiGwbFfNyocDKjdsdd9jLANAACuIGwDQJ0qDtssId8q51Lyidm4\n",
       "sjl7g6sBAEC9IGwDQB3KZnNajKfzY5qjbZ1zKXkma2t6LuFhNQAAoFIQtgGgDi0sFXcibyVsb9na\n",
       "Jmns2wYAABJhGwDq0tpjv1qbWUa+Ve0tIYUa/PnxGB3JAQCACNsAUJfml9Ye+8XM9lYZhlG0lJwm\n",
       "aQAAQCJsA0BdcjZHC/h9agpz7Nd2OJeSxxJpLcZTG1wNAADqAWEbAOqQcxl5ayTIsV/btHbfNkvJ\n",
       "AQAAYRsA6tDcmjO2sT09HY1yfl7BUnIAAEDYBoA6k8vZRcucaY62fcGAX12tjfkxM9sAAICwDQB1\n",
       "Zikp2XZhzMy2O5xN0qbm4spkcx5WAwAAvEbYBoA6s7hsF40J2+5w7tvO2dLEDLPbAADUM8I2ANSZ\n",
       "q8M2y8jdQJM0AADgRNgGgDqzuFz43u8zFGls8K6YGtLS1KBmxxFqozRJAwCgrhG2AaDOxBwz21GO\n",
       "/XKNYRhFs9tj00uybXuDRwAAgFpG2AaAOuNcRt7azH5tNznD9nIqW7SKAAAA1BfCNgDUkWw2p6XC\n",
       "Eds0R3OZsyO5JE0tMrMNAEC9ImwDQB2ZnEso58h/bTRHc1V3W6P8vsKyfMI2AAD1i7ANAHVkdKq4\n",
       "aRcz2+7y+33qaW/MjycXOWsbAIB6RdgGgDqytkM2Ydt9zn3b8wlpKZH2sBoAAOAVwjYA1BHnzLbP\n",
       "MBRp4tgvt609b9u6NOtRJQAAwEuB618CAKgVzrAdjQTl49gv161tkvbZh56UdcJ/3cdFI0E9cP99\n",
       "pSoLAACUGWEbAOrIiCNstzbTHK0UmsINijYHtbCUkiTNpZrU3td/3cfNDg+UujQAAFBGLCMHgDqR\n",
       "y9kac+zZZr926fR2FZaSj03Hlc3RlRwAgHpD2AaAOjE9v6x0ptAdm7BdOr2OfduZbE7TcwkPqwEA\n",
       "AF4gbANAnRidjhWNWzlju2R2dRU3SVvbBR4AANQ+wjYA1AnO2C6ftpaQwsFCU7S1f/YAAKD2EbYB\n",
       "oE6MTBYCn2FILU3MbJeKYRhF+7ZHppZk2+zbBgCgnhC2AaBOOJcytzQF5fdx7FcpOfdtJ5IZzcdS\n",
       "HlYDAADKjbANAHXCuZS5jSXkJdfLvm0AAOoaYRsA6oBt28VnbNMcreS62xtlqND9nX3bAADUF8I2\n",
       "ANSBmYVlpdLZ/JjmaKXn9/kUNgpHfhG2AQCoL4RtAKgDV3UibyZsl0PYVwjbc7Gk4stpD6sBAADl\n",
       "RNgGgDpw9bFfLCMvB2fYlqSx6bhHlQAAgHIjbANAHXA25zIkRZsJ2+XQaCTk7Pk+MhXzrBYAAFBe\n",
       "hG0AqAPO5mhNIcnv53//5eAzcupsC+fH7NsGAKB+8K8tAKgDzpDXEuZ87XLq7Yrkv5+cSyidyW5w\n",
       "NQAAqBWEbQCocbZtF4XtCGG7rHo7C+dt27Y0PsO+bQAA6gFhGwBq3HwspUQykx+3hDe4GK7r7Wou\n",
       "GrOUHACGMW1LAAAgAElEQVSA+kDYBoAatzbcsYy8vCKNDUUN6UYI2wAA1AXCNgDUuNHp4g7YLCMv\n",
       "P+dS8rHpuHI528NqAABAORC2AaDGrZ1JjYQ8KqSOOZeSZ7I5Tc0nNrgaAADUAsI2ANQ45zLyrtaw\n",
       "An5mtsuNfdsAANQfwjYA1DhnsHMeQ4XyaW8JKRz058eEbQAAah9hGwBqmG3bRcvI186wojwMw9BO\n",
       "x77t0ekl2Tb7tgEAqGWEbQCoYYvxtJYS6fyYsO0d5599fDmj+aWUh9UAAIBSI2wDQA0bnSruRE7Y\n",
       "9s4u9m0DAFBXCNsAUMPWBrq1gQ/l093eKL+v0JyOsA0AQG0jbANADVsb6Jz7hlFefp9POzqa8uPR\n",
       "acI2AAC1jLANADVsxBHo2ltCagwFPKwGzmX8c4tJJZIZD6sBAAClRNgGgBrmnNne1c2xX17jvG0A\n",
       "AOoHYRsAaljRGdssIffc2mX8I4RtAABqFmEbAGpULJHWguN4KTqRey/U4FdXWzg/ZmYbAIDaRdgG\n",
       "gBo1tibIEbYrg3OFwdRcXOlM1sNqAABAqRC2AaBGrZ01JWxXBuf7kLOl8ZmEh9UAAIBSIWwDQI0a\n",
       "mY4VjdmzXRnWvg8sJQcAoDYRtgGgRjlDXGskqObGBg+rwapIU1AtTcH8eHQqtsHVAACgWhG2AaBG\n",
       "0Ym8cjmXko/NxJXL2R5WAwAASoGwDQA1qihss1+7ouxyvB/pTE7T8+zbBgCg1hC2AaAGJZIZzS4m\n",
       "8+PeroiH1WCttR9+cN42AAC1h7ANADVobJpO5JWsvSWkUNCfH49OE7YBAKg1hG0AqEEjk8XhbRdh\n",
       "u6IYhlG0j350akm2zb5tAABqCWEbAGrQyJoO18xsVx7nexJfziiW3OBiAABQdQjbAFCDnM3RIo0N\n",
       "RUdNoTKsXW0wucDMNgAAtYSwDQA1yLkHmFntytTd1ii/z8iPJxdzHlYDAADcRtgGgBrEsV+Vz+/3\n",
       "aUdHU348ucjMNgAAtYSwDQA1ZjmV0fT8cn68i2O/Kpbzg5CFhDTPxm0AAGoGYRsAasz4dLxozMx2\n",
       "5XJ2JJekU4MzHlUCAADcRtgGgBozMsWxX9Vi55qwffL8tEeVAAAAtxG2AaDGjK4J28xsV65Q0K/O\n",
       "1nB+fOoCM9sAANQKwjYA1BhnJ/KmcEDRZo79qmTOlQdnh+a0nMp4WA0AAHALYRsAaszoVCz/fW9X\n",
       "swzD2OBqeM258iCbs/XipTkPqwEAAG4hbANAjSk69quTJeSVbu17NHCBfdsAANQCwjYA1JB0JqvJ\n",
       "uUR+zH7tyhdpCqqlqSE/pkkaAAC1gbANADVkbDou2y6M6UReHXodZ6GfvjijbDbnYTUAAMANhG0A\n",
       "qCHO5mhScYhD5XKuQEgksxocXfCwGgAA4AbCNgDUEI79qk5X79vmCDAAAKodYRsAaogzbIeCfrW3\n",
       "hDysBpvVEQ0p6C+MaZIGAED1I2wDQA0ZmXQc+9XJsV/VwjAMdUUL79XAhRnZzs33AACg6hC2AaCG\n",
       "OPdss4S8uvS0FML2zMKyxmfiHlYDAAC2i7ANADUinclpwhHQ6EReXbpbilchsG8bAIDqRtgGgBox\n",
       "ORtXzrHymJnt6tIRMRTwFwL36YuEbQAAqhlhGwBqxMiaTuS7OParqvh9hvr72vJja3DWw2oAAMB2\n",
       "EbYBoEZw7Ff1M/e3578fHJ1XIpnxsBoAALAdhG0AqBHO5mjBgE8d0bCH1WArjuzryH+fs6UXLzO7\n",
       "DQBAtSJsA0CNcM5s7+xqls/HsV/Vxhm2Jek0S8kBAKhahG0AqBGjU8VnbKP6dLc3qrO1sCKBJmkA\n",
       "AFQvwjYA1IBsNld0LjP7tauXc3bbujgr27Y3uBoAAFQqwjYA1IDJuYQy2UIo44zt6nXE0SRtYSl1\n",
       "VeM7AABQHQjbAFAD6EReO67at81ScgAAqhJhGwBqgLMTuST1csZ21erf3aqAv/DjmSZpAABUJ8I2\n",
       "ANQA58x2wG+oq63Rw2qwHQ0Bv/p3t+bHzGwDAFCdCNsAUAOcYXtHR7P8HPtV1ZxLyS+OLii+nPaw\n",
       "GgAAsBWEbQCoASPOY7/Yr131nE3Scrb04uU5D6sBAABbQdgGgCqXzeaKZrb7utmvXe1okgYAQPUL\n",
       "uP2Epmm+V9KfS2qzLGthzX0BSf9B0i9K2idpQtI/S/qAZVmxtc8FALi+8dl40bFffd3MbFe7rrZG\n",
       "dbWGNTW/LIkmaQAAVCNXZ7ZN0/RJeo8ke51L/lLSn0jKSPqEJEvSf5L0mGmaQTdrAYB6MTJZ3Im8\n",
       "r4eZ7Vpg7i/MblsXZ2Xb6/1oBQAAlciVsG2a5m2mab5T0jcl3bnONa/TShD/uqSXWJb165Zl3S/p\n",
       "A5JeIuk33agFAOrN0ETxwiCWkdcG51LyxXhKI2vOUgcAAJVt22HbNM2IpOckfVLSaza49FevfP1t\n",
       "y7Kyjtv/VCsz3b+03VoAoB4NTxbCdmPIr45o2MNq4BZnkzRJOj3Ivm0AAKqJGzPbCUlvu/Lr7ZJO\n",
       "rXPdaySNW5b1rPNGy7Likp6RtNc0zX0u1AMAdWXEEbZ3dUdkGBz7VQv6+1oV8Bd+TJ++yL5tAACq\n",
       "ybYbpF2Zpf7M6tg0zV+RdMR5jWmafZK6JT26ztMMSHqZpMOSLm63JgCoJ85l5Cwhrx0NAb8O7W7N\n",
       "h2xmtgEAqC7lOvqr88rX8XXuXz1AtGOd+wEA1xBfTmtmYTk/3k3YrimmY9/2pfFFLacyHlYDAABu\n",
       "hOtHf60jeuVrcp37V7u+lKseAKgJa5tm7bqBsP30M48pmUtseM3g+Bk9/vTDm37O1etDvkbdfedr\n",
       "N/04XNvhPW3573M5WxeGF3T0AJ9LAwBQDcoVbtNXvjauc//qsV/xMtQCADVjeE0n8heOP6+R88c3\n",
       "fMyJk6f0mr5jSuYS6jyyc8Nru5O9173mWtdPnx7b9GOw4vnjJ666bSFRfNzXp7/8uI70+iVJ0UhQ\n",
       "D9x/X1lqAwAAN65cYXvyytf2de5fXWY+spUnN02Tw0cB1CVnJ3JJ2tN/RMGAf8PHJJ65OtTBe8mM\n",
       "1N53rOi2NttW6ORJJdMrh3jEclG19630Ep0dHih7jQAAVJmnTdPc1IWWZbneYbZce7YvaqVr+S3r\n",
       "3H9IUlYrjdIAAJvkDNvN4cB1gzaqi2EY6m4vLAqbmNl42T8AAKgcZZnZtiwra5rmo5LeYJrmLZZl\n",
       "vbB6n2marVrpRP6kZVmx9Z7jOs+/qU8hTNO8S9LTW3kNAKhEzrDd1sL52rWop70p33F+LpZUMpVV\n",
       "KMiHKgAAbMLdlmX9wKsXL9fMtiT95ZWvHzZN0xmOPyIpLOnPy1gLAFQ927aLzthuawl5WA1KZUdH\n",
       "U9F4Ypb2JgAAVINSzWxfNdNsWdaXTNP8jKSfkvQD0zSfkHS3Vma1v2hZ1qdLVAsA1KSZhWUlktn8\n",
       "uC1C2K5FPe3FvUUnZuPas6PFo2oAAMBmlWJm277y61p+VtLvSmqR9AtaaYz2fkk/UYI6AKCmrW2O\n",
       "xsx2bWpubFBTuPDZ+MQs+7YBAKgGrs9sW5b1+g3uy0r68JVfAIBtWHvsVzthuyYZhqGe9iYNji5I\n",
       "kiZmWEYOAEA1KOeebQCAi4Ynl/Lf+wyppSnoYTUopZ72wr7tWCKt+HLaw2oAAMBmELYBoEo5l5FH\n",
       "wpLP5/rxkKgQPR1r9m1zBBgAABWPsA0AVcq5jDwaJmjXMufMtkRHcgAAqgFhGwCqUDqT0/hMYRl5\n",
       "SyNhu5Y1hgJF2wQI2wAAVD7CNgBUobHpJeUc5z5ECds1z7mUfGI2Idte7+APAABQCQjbAFCFhtZ0\n",
       "Io+GPSoEZeNcSp5IZhRPeVgMAAC4LsI2AFShkTVnbLOMvPbtWLNvezrGzDYAAJWMsA0AVaioE3lj\n",
       "g0IBD4tBWXS3F3ckJ2wDAFDZCNsAUIWcy8j7eiIyDGa2a12wwa/2llB+PEPYBgCgohG2AaAKjUw5\n",
       "wnZ3xMNKUE49HYWl5DNLtnI5AjcAAJWKsA0AVSYWT2k+VuiORdiuH84maels8XYCAABQWQjbAFBl\n",
       "htYErL4ewna96Fmzb/vs0JxHlQAAgOshbANAlRlec+wXM9v1o6utUc7t+eeH570rBlexbVu5dFqZ\n",
       "eELphUWl5uaUiSdk53JelwYA8AD9awGgylwaW8x/7/MZ6utu9rAalFPA71N7S1gzC8uSCNvlkE0k\n",
       "lJyaVnJqSsnJKaWmppSanVV6YVGZxUWlFxaUWYwps7QkO52+9pMYhvzhsPyNjfI3NSncu0NNe/eq\n",
       "ed8+Ne3bo8a+PvkaGsr7GwMAlBxhGwCqzKXxQtju7WxWQ8DvYTUot+62xnzYPjc8L9u26UbvguT0\n",
       "tOIXLykxNKz40LASQ0NKDA0rPe/CBxq2rWwioWwiIc3MKDE0pNnv/yB/t+H3q+WIqa5X36uuV75C\n",
       "Da2t239NAIDnCNsAUOEeeuQrWkwWlo6futAgaSVc+bSgf3rws/r+wAk1j17a1PMNjp/R408/rMFB\n",
       "S51HdpaiZJRQV1ujrEuzkqSlRFrjM3Ht7GR1w43IxGJaPPOiYmfPKfbiWS2+eFbp2VnP6rGzWS2c\n",
       "HNDCyQGd/+hfq+2O29X96lep4+X3KNDUeP0nAABUJMI2AFS4xWQsH4pTaVtL3yyEgt69Teo80qSu\n",
       "pSk1tW8uOHcne9V5ZKfODr5QknpRWt1txeHr/PA8Yfs6ssmkFgZOaf74Cc09f1xL5y9I9taPTfM3\n",
       "NyvQ3CR/Y9OVr43yNzbKaAjI8AfkC/hl+P2Sz6dcKqVcMqVcMqlsMqlsPK7k5KRSM7PXriGX09wz\n",
       "z2rumWfl//gntOenf0K9b3wDy8wBoAoRtgGgiszMZIvGHR0sIa83XdcI26+8bZdH1VSu5OSkpr/3\n",
       "lGae+r4WBk7JzmQ2/VhfMKhQd5eCXV0KdXWpoa1NDa1RNbS2qqE1Kl9g+/98yqVSSk5OanlsQvFL\n",
       "l7QwcGplmblDdmlJg5/4G4195ava/653qOOel7FlAACqCGEbAKrIzGxx2O4kbNedUNCvaHNQC0sr\n",
       "Z62fo0laXnxoSNPffVLT331SS+fObeoxgWhUTbv71Ni3S+FduxTu6VYgGi15qPUFg2rs61NjX5/a\n",
       "73qJen/sAcXOntP88RNaPG0pl0rlr10eHdPpj/yxWm+9Rfvf8y5FDh4oaW0AAHcQtgGgikw7ZrYN\n",
       "Q2prI2zXo662xnzYrveO5KnZWU1++zuafPSxleXh1xHa0aPIwYNqPnhAjbv71NDSUoYqr88XCCh6\n",
       "xFT0iKlcKqWZp76viUe/rdzycv6a+RMv6PnfeJ8OvOed6n3TA8xyA0CFI2wDQBVxhu22Vp8Cfv6x\n",
       "XY+62xrzIXtmYVlzi0m1tYQ8rqp8cqmUpr/3pCYffUyzzz4vbXCOtb+pSS3mTYocOqRI/wEFIpV/\n",
       "Lr0vGFTXq+5V20vu0MQ3v6WZ7/+g8HvM5XTh45/U0oWL6v+Vf8debgCoYIRtAKgizj3bLCGvX9fa\n",
       "t33nkR6PqimfxPCIxr76NU1881vKLMbWva6htVXRY0cVPXZUTfv2yvD5ylilewLNzdr1Y29Sxz0v\n",
       "09hXvqrYi2fz901845tKDA3pyG+/T8GOdg+rBACsh7ANAFUilbK1GCvM4G23OZotW1k7o3QurYx9\n",
       "5deV7/1GQC2BVtnaesdmlM7ajuTnhudqNmznMhnNPPmUxh7+muaPn1j3On9zs9puv1Vtt9+m8K5d\n",
       "NbXEOtzTo33v+DlNP/6Exr769XwX80XrjJ7/jffpyH/+LbUcPuRxlQCAtQjbAFAlrmqO1n7jYTuT\n",
       "SyvZvKwTC08qd3dOT85+Y8PrjV2GTi8+q5ZAm1oCbYoEovIZzKh7rbmxQeEGaTm9Mq7FfduZ2JLG\n",
       "vvZ1jX75QaWmZ655jREIKHrsqNruuF2R/oMrx23VKMMw1PWqexXq6dHlz3wuv5c7NTOjE//P7+rI\n",
       "b/+mOu6+y+MqAQBOhG0AqBLTWzz2y7ZtzaWnNZka1nRqQnZHTspI2sTKWttvayY9oZn0hCTJkKH2\n",
       "hm71NR5QS6DtRn8LcFF7s6HRuZUZzloK28tjYxr50oMaf+SbRc3BnEI7etTx0rvVdsft8ofDZa7Q\n",
       "Wy03HVb/L/+SLv3Dp5ScnJIk2em0rP/6Jzr2/t9R6623eFwhAGAVYRsAqoRzv7bPJ7VfpxN5Mres\n",
       "seVLmkyOKGUnXanBViF8twY61Nd4UK2BjppaslstnGF7ZGpJ8eW0msLV2ywrfumyLn/ms5p6/LvX\n",
       "bHhmBAJqveVmdbzsbjXu2VPXf+dCXV06+O9/SUOf/bwWrTOSVprGDXzoI7rlg7+nlpsOe1whAEAi\n",
       "bANA1ZieLe5E7l+nE7lt2xpPDuli3FJW2Wte4zcCyo1ntXffYQV8DQoYjl++BiWzCS1m5jQyfUFq\n",
       "NpS2U1c9x3xmRvOLM4r4W7W78aDaG7rd+Y1iUzqai9//CyMLuvlgp0fVbF0+ZH/nifxeZKdAJKKO\n",
       "e16mjpfdrUBzswcVViZ/OKy9P/M2XfrUP2nxtCVJyi0va+D3P6Rb/vAP1Lx/n8cVAgAI2wBQJZzL\n",
       "yNdbQp7ILunc0kktZGaveX9bQ5dSo8u67fDL9f0nv6W+IweueV3IF1a0oV3z09M62neXkrmEFjJz\n",
       "mkqNai49VXRtLDuv07Fn1eSPyAjX72xjubU3Ff9Znx+er6qwHR8a1uVP/9O6ITu0Y4e67n2FWm+7\n",
       "Vb4A/1y5FsPv156f/kld/Lt/yJ8xnonFdPIDf6BbP/JBNe7a5XGFAFDf+OkFAFUgmbIVc3QiX9sc\n",
       "zbZtDScu6HLirHIqXoIb9jVpR2i3ukO9CvrCGjj/9A01OTMMQ2F/k8L+JvWEdimWWdDw8nlNp8aL\n",
       "rotnY1K39GLsuKJGxxZ+l7gRkbDUGAookcxIqp5925lYTJc+/RmNPfSw7OzVKy+a9u1V9+teq8ih\n",
       "/rpeKr5ZvoYG7f3Zt2vwf/+tEpeHJEnpuTmdfP/v69Y/+rBCXdXzAQwA1BrCNgBUgdnZ9ZujzcTn\n",
       "9KLOKp5IFF1jyKc9jf3aFd4vn+HeOcORQFRm5A4lsksaTlzQZGqk6IiwydSoZjontWepXweajhCY\n",
       "SsQwDB3si+rk+WlJlR+27WxWY197RJf+4VPKLC5edX/Tvn3q+aHXqfngAf7O3CB/KKT97/g5Xfjr\n",
       "T2p5bOVDsOTklE59+L/qtj/6kHzBoMcVAkB9ImwDQBVY24m880rYPjV5Vo9fevqq2eyWQJv6m29W\n",
       "kz9Sspoa/c06FLlFe7L9urx8ThPJ4fx9WV9Gj05/UefjA3pF+4+oOdBSsjrq2cG+1nzYvjS+oHQm\n",
       "p4aAex+suGX+hZM6/9GPK37x0lX3Ne3dq54ffj0he5v8jY3a/6536PzHP6HU1MrfiaVz53Turz6m\n",
       "Q7/2Xv5sAcADhG0AqALTazqRt0Z9emroOT03NlB0nU9+7Ws6rJ2hvWX7x3XI36hDzbeoO7hLp2Z+\n",
       "oFxDIfhfSpzV6PIlvbT99TKbb+cf/C47uKs1/30ma+vS2IL6d1fOkWzZZFIX//bvNfrlh666r6Gt\n",
       "TTvf8KOKHjvK3wuXBCIR7X/Hz+vc//orZa+sdJl45Jtquemwdv7oj3hcHQDUn8r7+BsAcBXnsV+t\n",
       "rYa+fel7VwXttkCn7mi9V73hfZ6El9aGDrWMt2lXeL8cq8qVtlN6YuaremTy80pk42Wvq5b1724t\n",
       "GlfSUvJF64ye+4//91VB2xcMque+H9Lh/+vX1HrzMYK2y4Id7dr9Uz8hOf5cz3/0r7V45kUPqwKA\n",
       "+kTYBoAqkJ/Z9qdl7/++zs4MFt2/Qz062nKXwv7G8hfnYNiG9jeZ2jd7+KqjwC4vn9MXRj+h4cQF\n",
       "j6qrPXt2tCjgL/woP1cBYTuXTuvi3/+jjv/272h5ZKTovtbbbtXh//jr6nnda+VrqN4zwStdy+FD\n",
       "6vmh1+fHdiaj03/035Sa8/7vBwDUE8I2AFS4VEaKLeVkBBMKHX1SyYbC0VuGDL1m3z3qNXZW1Axh\n",
       "ONOkN+98p+5sfbV8jh81idySvjr5GT01+y3ZxtXHPeHGBPw+7est7If3emY7OTmp47/1Oxr67Oel\n",
       "XGE7gb+5WXt/5m3a81M/oYZo1MMK60f3a1+tliNmfpyantaZP/nv1+wADwAoDcI2AFS4+SVDRuOC\n",
       "Qse+J19TLH97gy+g+w+/Vke6+z2sbn0+w687Wl+pN+38eUUDxUeBvbD4lCYPjWo+Pe1RdbXDuW/7\n",
       "wsi8cjlvPsRYOHVaz//Gb2np3Lmi26PHjurwr79X0WNHPamrXhk+n3b/+FsV7Cz8tzd/4gVd+sdP\n",
       "e1gVANQXGqQBQAV68OFHtBBLSZKevnBWoWNDMvyFGamAAjqQO6DRszMa1YyGR0Z1uL3Xq3I31BXc\n",
       "qTfvfKeenP2Gziwdz9+ebkrpX8b+Ri9v/2Edbr6tombmq8Hzx09IkmYmCn8vllNZffwfH1JLuPjP\n",
       "MhoJ6oH77ytZLePf+KbO/c+/kp3J5G/zhcPa9aY3qvV23luv+Bsbtfdn3qZzf/kx2em0JGno8/9H\n",
       "bXfeodabb/a4OgCofcxsA0AFWoil1N53TOruVvzAcFHQbvQ167bWV6qr46Ca2nvV1N6rdCa3wbN5\n",
       "r8EX1Ks636DXd71ZQSOUvz1jp/WdmYf1ral/UTK37GGF1SeZkdr7jmnvvgNFt6fDfWrvO1b0a/WD\n",
       "G7fZ2awufPJvdPZ//EVR0A7t2KFD7/1ltd1BB3qvhXfsUN9b/m3hBtvWi//vnymztORdUQBQJwjb\n",
       "AFChFtKzenjinyR/IcQo3qZbo/d43ghtqw40HdFbet+jHaHdRbcPJix9YfQTGlu+7FFl1auztfjv\n",
       "wtRceT60yC4v69Qf/pFGvvDFottbjh7RwX/3Cwp2tJelDlxf2+23qfX22/Lj5MSkzn/0rz2sCADq\n",
       "A8vIAcAFDz3yFS0mY9e/cJO+e+Y5TadiSvsLM5K5WKuis3cpsLu6/9cdCUT1hp636/NPfUyx3nnZ\n",
       "V84JW8ou6isTn9Lt0VfojtZ75TP4PHgzQkG/WpoatBhfWSY8PZ8o+WtmEwkNfPDDWjhZfPxc92tf\n",
       "o54ffr0MH+9dpdn1pjcqPnhR6fmVJnqTjz6mjpfepa5X3etxZQBQu6r7X2wAUCEWkzF1HtnpynMl\n",
       "0suajS0pLUfQjkeUtO5Sy8Ha+N+2z/ApOtGm19zxgB6b+rJi2ZUAYMvWcwtPaGR5UK/t+jG1BNo8\n",
       "rrQ6dLY2OsJ2aWe2M/GETn3wD7UwcCp/mxEIqO+tb1Hb7beW9LWxdf7GRvX9+Fs1+Mm/keyVD7jO\n",
       "/a+PquXIEYW6Oj2uDgBqEx89A0AFSWZSeujFbympZP623HKTktbdUjaolpYNHlyFdoR26y2979bB\n",
       "puJO1ROpEX1h9JN6MXZCts0RYdfT1RrOf7+wlFIqXZrjnTLxuAb+4ENFQdsXCunAe95J0K4CkYMH\n",
       "1HXvK/PjTCymF/+/P5Odq+yeDwBQrQjbAFAh0tmMHj77mKbjs/nb/LmwUqfvltIrYSpSg0cUB30h\n",
       "vbbzx/TqjgcUMIL529N2Sv8685C+OvlPygTTHlZY+Trb1uzbLsFS8szSkgZ+70NaPHU6f5svFNL+\n",
       "d71DTXv3uv56KI2e+35I4Z2FVTjzx09o9MsPeVgRANQuwjYAVICcndMj57+j8dhk/raAEVTjxF2y\n",
       "U02SpIYGW6HQes9Q3QzD0OHILXrLznepK1h8hNnI8kVN3DSiFxaeUs5mBu5autY0SXN7KXkmntDJ\n",
       "3/ugFi0rf5svHNb+d79TTXt2b/BIVBpfIKDdP/njMgKFLSkX/+4fFB8a9rAqAKhNhG0AqABPDj2n\n",
       "y/Mj+bFPPh1ruUvxmUj+tkhUqvVTlKIN7XrTjp/VHdFXyuf4EWX7bT019y19efzvNZOa8LDCyhSN\n",
       "BBXwF/68pubcm9m2s1lZ/+1PFTvzYv42f2OjDrz7nWra3efa66B8wjt6tONHCueu51KplePbsqXZ\n",
       "fgAA9YqwDQAes6bO68R4YWmu3/DroA6o0Ygq7jgKt9b2a6/HZ/h1Z9ur9ead71L3mlnuqdSo/mXs\n",
       "b/T03LeVzpXm7Ohq5DMMdTr2bbs1s23bts791cc198yz+dv8jY3a/+53qLFvlyuvAW90vvweNe3f\n",
       "lx8vWpZGvvhlDysCgNpD2AYAD43FJvWvF58quu21++9RxGjWUkyy7cJUdi3u195Ie7BbD+z4Od3T\n",
       "9sMysoU/B1s5HV/4rj438lGdjj3H0vIr1oZtNxrLjXzhixr/6tfyY6OhQfve+XNq3EXQrnaGz6e+\n",
       "t75FRkND/raL//ApxYeGPKwKAGpLbZwhAwBVKJZc0tfP/mtRWLxj58061LlfTw2+oNhi8fX1MrPt\n",
       "5DN8ujl6twafOK3AnQ0aXh7M35fILemJma/q6YlH1R3rVXMqKkMroXxw/Iwef/rhTb3G4PgZPf3M\n",
       "Y7r7zteW4rdQNs5925lsTvOxlNpatr7Jf+qJ72rwf/9t4QbD0J6f/HE17WaPdq0IdXZo54/+m3yD\n",
       "NPv/Z+++o+O47jzRf6s650ZGIxMMAHMQgySaVjQly5Io2ZIsy571hF175705Z8/umdmZNztv5s3u\n",
       "eOxxnLEt2dbYI9kKVs7BkhUoWYk5gCQIEiByaGR0jlXvD4hV3SQBgkR3Vzfw/ZyjY/4uurp/Mlvo\n",
       "/tW993fjcZz+t59i3Xe+BUGn0zg7IqLCx2KbiEgD8WQCb7S/j3BCXe5b767Blup1Suz3qY8XRRlW\n",
       "Wy4zzC/6uAE7y+7B68d/izGXF3FZXUIe00fR7+6CU1+EeusKOPRulEU9cz73vCzqQVTKfPfuXCtx\n",
       "m9Pi0anwZRfb/rZTOP2jH6eNVd68E85VK2e4ggpV8dYt8B0/gWBnFwAgcOo0+l98GTVfvEPbxIiI\n",
       "FgAuIyciyjFZlrG762OMhdUjvoosLly35CoIKR3Q/Ckz2zY7IC7y39iCIMAVKcYm9w7UmJdCRPrM\n",
       "m074rXgAACAASURBVC8xgRbfHrT6Dy7Ko8JKMtSRPOIdRuu3vg0ppt7QKN62BSVXXzWv/Cg/TS8n\n",
       "3wXRqB671/P4Ewj1cjk5EdF8LfKvbkREuXdw8Bg6J3qV2Kw34aZl18CoU/dOyjIQSJnZdiyy/dqz\n",
       "0Ql61FmXYZN7BypMtQDSW7RPxEcQqPChxbcHYzFvRvYuFwKTQQeHVS2YLqcjuRSPo+2730d8Sn3z\n",
       "2Vcsh+eWz6fdCKKFxVhcjIqbPqfEZ5eTszs5EdH8sNgmIsqhroleHBhoUWJBEHDj0s/AabKnPS4a\n",
       "1SGZ0hTMvgj3a1+MUTRhqW0VNriuRrGh/Lyf+xOTaAscxuGpD+GN9EKSF37hUOpObZJ26cV210O/\n",
       "QaC9Q4nNlZWo/fLd3L+7CBRv2QzbkiVKHDh9Gv3Pv6hhRkREhY/FNhFRjvijAezu+iRt7DN1W1Dl\n",
       "qDjvscGQIS1msT0zq86OZsdGrHFshdtQet7Pw1IQHaETODD5PnpCpxFNFv7+7JmkLiX3h+KIxuZ+\n",
       "g2H0w48x+OprSiyazai7717oTJffZI0KxwWXk//2SYR6ejTMioiosLHYJiLKAUmS8PaZDxFLqnuJ\n",
       "V5Utx8qyZRd8fDCYXmwvxk7kl8ppKMIqxxVY77wahqBJ6Ux+VlyOoS9yBgem3ker/yAmYiMLbol5\n",
       "6TlN0uY6ux0eHEL7Tx9IG6v54h0wFhdlLDfKf8biIlTevFOJ5USCy8mJiOaBxTYRUQ7s7T+C4eCY\n",
       "Epdai3FV7aYZHx9KmdkWEILeMOND6Rw2vQO2cTs2uT+LKnMDdDh/CfREfAStgYM4OPU+Io4QEuLC\n",
       "aKh2bpO00Tk0SZNiMbR99/tIhkLq81x9FTuPL1JFWzbD1tioxIH2DvQ994KGGRERFS4W20REWdYz\n",
       "NYCj3lYlNoh63Ni4HTpx5n2wwZB6MqMI/4yPo5mZRDMarE24wn0N6i0rYBYt5z0mKkUQcYfRUXIC\n",
       "746+iMFId0HPdrtsRhj06kf7XGa2O//jYQTPdCqxpaYGFTtvzEp+lP8EQThvOXnvE08h2M3l5ERE\n",
       "l4rFNhFRFgVjIezu/Dht7LMN2+A0z7wuPByREIupxbaOxfa86EUDqi1LsNG1A6scV3zaTO2cztoC\n",
       "0Bk6ideHn8Czg7/EMd++gtzbLQgCSpzqUvLRydlntkc//AhDr7+hxDqLBbX33g1Rr5/lKlrojEVu\n",
       "VH7+JiU+u5xcSiQ0zIqIqPDw05SIKEskWcI7nR8hkogqY82ly7C0uH7W60ZH0/dHFuLMdueZkxd9\n",
       "TJf3FD7c/7s5Pd/Zx3Z1taGkufKychIEAW5DKdyGUsSkCLzRfnijfYhJ6QWpLzGOvZPv4MDU+1hi\n",
       "bcYqxxUoNV7ea2qhxG3B0Pj0kvBxXxjSDDP1sfEJdPzsF2ljNXd9EUa3O+s5Uv4r2nwFpo6dQLBj\n",
       "ujt9sKMD/c+9gNp77tI4MyKiwsFim4goSw4NHsegf1iJiywuXF038z7ts0ZG02ePCrHYToqJixbF\n",
       "ZVHPnAvns49t7zqWifRgFM2otSxFjXkJjp76BHACQVP6/89JOYH24DG0B4/BY6rHWudWVJuXzPCM\n",
       "+aPUpc5sJ5IypgLR8x4jyzLa7/8ZEv6Aet1nroajaUVOcqT8N72c/Ha0/+QBSNHp91Dvk0+jeOtm\n",
       "2BoatE2OiKhAcBk5EVEWDPi8ODigFoZ6UYcbGz8DvXjxe5wjKTPbeoMMAecXS5QZgiDCEDGiZqoR\n",
       "d1d9E+ucV8IsWs973GC0G2+OPI0Xhh5CyB3I6zO7z22SNnaBJmnDb7+Dif0HlNhUXo7yG2/Iem5U\n",
       "WIxuLicnIpoPFttERBkWSUTxTudHkKEu391etwVFFtecrk8tth2O83YXU5Y49G5sdl+DL1f/X7i2\n",
       "5HZUmmrPe8xEfAQT9aN4euBBHPftQ0LKvy7mJa70479GJ9P3nkeGh9H5y4fUAVFEzV1f5D5tuqCi\n",
       "KzbBvlw9ojB4phP9zz6vYUZERIWDn6xERBn2Yc9+hOJqgbOsuAErSua2/DiRkDExmVJsO4Hx8Yyn\n",
       "SOe40B5zF4ph0psxbh2B3zSZdtcjmPRhz+Q7ODD2B5QGPHBG3eed6w1M7zXff/A9bN50TTbTT2M0\n",
       "6OC0GeELxgB8OrP96XHZsiSh/ScPIBlW35/l110DS5UnZ/lRYREEAVW7bkf7T+4/Zzn5FtiWNGia\n",
       "GxFRvmOxTUSUQWfGe9Ax3q3ETpMdn6nfAkGY2/z0+EQSkqTGdgfAWjv7ZttjXo1GRJIhDES6MRzt\n",
       "gwT1Lyihi2PI1QO/bhIN1ia4DMVp15ZFPYhKue9qXuqyKMV26sz20Ou/w9TRFiW2VFeh7LM7cp4f\n",
       "FRaj2wXPLTej//kXAQByMonT//ZTrPv+d7gigohoFlxGTkSUIeF4BB/07Esbu7bhKhh1hjk/x8g5\n",
       "ncjtzoykRvNk1lnRaFuJK9zXwDxlgV5I/zsNJn047t+Hk/5DCCeDGmWpKnGrS8kD4ThiCRnh/gF0\n",
       "PfyIMi7o9aj+0p0QdDOf9050lnvTRthXLFfiYGcn+p55TsOMiIjyH4ttIqIMkGUZf+jem3bM17qK\n",
       "lah0lF3S83iH1cZDgiDDZstYipQBBtEIs8+KTa4dqDI3nLd0fDw+jMNTH6Iz2IqkrF0TqdJzmqRN\n",
       "BCS0//QBSLGYMlZx4/Uwl5fnOjUqUIIgoHrXbRDN6o2cvqeeQeBMp4ZZERHlNxbbREQZ0Jvwomuy\n",
       "T4ndZic2V6+95OdJLbYdTkDkb+m8pBcNaLA2YaNrx3lncMuQMRjtweGpj5AwatNA7dwmabb2U/Cd\n",
       "aFVia30dSq6+KtdpUYEzuKaXk581vZz8J2k3cYiISMWvcURE8zQensTh6CklFiDg2oYr53TMV6pE\n",
       "UsbomLqM3Dm35uWkIbPOghX29Vjr3AaH3p32s6gURqDch2HbABI5nuV22oww6Kc/4m2JMJad2q/8\n",
       "TNDrUX3nLgi8k0OXwb1xQ9p57KGubnT95lENMyIiyl/8pCUimgdZlvHgvscQh1pMra9ciXJ76SU/\n",
       "19hYenM0FtuFw6F3Y41jK1bY18MgmNQfCMCEbQQvDT2M0dhQzvIRBEGZ3b5hdB+MSXXmseyaHTCV\n",
       "Xvr7kwg42538Nugs6laFwZdfxXjKue1ERDSNxTYR0Ty81/UJDg4eU+JiixtXVF368nEgfQk5ML2M\n",
       "nAqHIAgoNVZig+vq85aWT8bH8PLQb3Bw8gNIcnKGZ8isUpcFjcE+rAp0KWOm8jKU7vhMTl6fFi6D\n",
       "04nqO3eljbX/+KeIjU9olBERUX5isU1EdJlGQ+N46NBTSiwI08vHdeLldXdOLbZFUYLNPu8USQMG\n",
       "0YgV9vVYYV8PIak2UJMh47DvQ7zqfRyhhD/reZTZdLhpZE/aWNXtt/GoJsoI56qVKN66WYnjUz6c\n",
       "/refQE5dnkNEtMix2CYiugxnl4+H4xFlbGPlapTaime5anbeYXXG02aLY45Hc1OeKjVWwjHkhi2a\n",
       "vkRhJDaAF72/wXB0IKuvv6L9I7gS6jFk8eb1sDXUZ/U1aXGpvPkmmMrVExcmDx/BwIsva5gREVF+\n",
       "YbFNRHQZPurdj8NDJ5TYJdqxybPmsp8vHpcxPqEW23abNl2sKbNESUT1VAN2FN8Cg2BUxsPJAF7z\n",
       "Po7TgZbsvO5QH9zHPlbigM6C9qVXZuW1aPESjUbU3nM3hJTVEt2PPAb/6XYNsyIiyh8stomILlEw\n",
       "FsLDh55RYlEQsdm0EuI8ujuPjCYgy2pst/MonYVCgIDl9rW4vfLrcOnVlQ8SkvjD+GvYM/E2JDmD\n",
       "S28lCebfPQMh5Q31+7It6ApyqQRlnrmyApU371RiOZnEqR/8CIlgcJariIgWB27cIiK6RI8ffQFT\n",
       "EZ8S39p0Iwx98zvaKXUJOcCZ7YWk88xJ5c9lQhUSzgSCJvX9c9y/H51jJzE1Po4P9/9uzs/bM3Dh\n",
       "2UPD0T3QDfUqcbu1Gm22ehSPRy8je6KLK962FYH2DvhPtgEAIoNDaP/J/Wj667+CwP0wRLSIsdgm\n",
       "IroEp0bP4Pcdf1DiMlsJ7lp9C17se2lez5vaHM1kEmAy5aZjNWVfUkygpFntTl4mV6E33I6+yBll\n",
       "LGQMwLTDDEuJHVbd3DrjSYcvMBseDsK0+7WU19bh92XbAEHAeCiJQDQJu+nyGvgRzUQQBFTfuQvt\n",
       "9/8cCd/0jaSxj/dg4MWXUX3H7RpnR0SkHS4jJyKao4SUxIP7H08b+7NN98KsN81wxdylFtsVZTo2\n",
       "R1vABEFAnXU5VtjXQ4Ra+Ep6Ccd8e+FPTF32c5veew1CJKTEg8s2Y8qgFu8949yeQNmht9lQd+89\n",
       "QMp2mq5fP4Kp48c1zIqISFsstomI5ujVtrfRM9WvxFfWbsKmqstvinZWNCphckqdpawo56KjxaDU\n",
       "WIm1zq0wiWZlLCHHcdy3D1Px8Ut+PnGwF4bD6lFfCYcbsTVb0h7TM8Gl5JQ91rpaeD5/kzogSWj7\n",
       "3g95/jYRLVostomI5mA4OIanj7+ixBaDGX+88e6MPLd3JH3JOIvtxcOmd2Kd8yrYderxYBKSOOE/\n",
       "gPHY8NyfSJZgfvM5CFCbogU2Xweb1QiDTl0mwZltyrbiK7fBtVa9CRmfmETb934AKTG/vhZERIWI\n",
       "xTYR0UXIsoxfHXgCsaTatOwra3eh2OLOyPOnLiEHgHIW24uKQTRitXML9BH1712GhJOBw3M+i9tw\n",
       "dC90gz1KHK1ZilhNIwRBQLFVXarOmW3KNkEQUHXH7TCVqedv+060ovuRxzTMiohIGyy2iYguYk/f\n",
       "IRwaPKbES4vrsXPpZzP2/MMpxbbVKsBu44btxUYn6GEbcaLYUJ4yKqM92ILBSPfsF4dDMO5+Vb1K\n",
       "p4d/83VKXGxVi/j+iTiSkgyibNKZTKj9ypchGtWz5QdeeAkj7/9hlquIiBYeFttERLMIxcJ46OBT\n",
       "SiwKIr65+avzOlP7XKnHflWU63lUziIlQECTfT3KjFVp452hk+gNt0OWL1wkm95/HWJYbYoWXLMV\n",
       "ksOlxEU2tdiOSzKGfDxWjrLPXF6G6jt3pY21/+QBBNo7NMqIiCj3WGwTEc3iqWMvYyKidoe+Zfl1\n",
       "aCiqzdjzh0IS/AE2R6NpgiBimW0NKk11aeO94Q70hs8vUkTvAAyHP1bipN2F0Or0pmipM9sA0M3z\n",
       "tilHXGvXoGT71UosxWJo/efvIDbBhmlEtDiw2CYimkHv1AB+1/6eEpdYi3DPmlsz+hrn7teuKOMZ\n",
       "yIudIAhYYm1GjXlp2nhfpAN9YfVsbsgyTG+/ACFlxtu/+TpAl15cF1n1QErjNDZJo1yqvOlzsC9f\n",
       "psSxsXGc/PZ3IcW5woKIFj4W20REFyDLMh4+9BQkWZ11/vqGu2A2mGe56tKxEzldyPRZ3MtQb2lK\n",
       "G+8Jn8ZApAsAsDwWh75Hne2OVjUgVtN43nMZdAJsevV91jvBYptyRxBF1N5zF4ylJcqYv+0UOh74\n",
       "xYxbI4iIFgoW20REF7Cv/whavG1KvKa8CdtqNmb8dVJntp0OERYLfy2TqtrSgDrL8rSxrlAbvIEu\n",
       "XBuMKGOyICCw+Vpghv3+LoNabLMjOeWazmJB/Vfvg2hWb1YOv/MuBl9+dZariIgKH7/VERGdI5aI\n",
       "4deHn1FiURDxxxvvznjjMlmW04rt8nIuIafz1Vgaz1tSXnzoIFySuuoi3LQRSVfJuZcqXEb1fTYR\n",
       "SsIXSc74WKJsMJWVovaeu9JuCHU+9GtMHDioYVZERNnFYpuI6Bwvt72FkeCYEu9c9lnUuasz/jo+\n",
       "v4RwWF1GySXkNJNay1JUm5cAAGyhJDYfV7uPSyYzguuumvV6tzG9N0D3GGe3KfccK5aj8qbPqQOS\n",
       "hLbv/RDB7p6ZLyIiKmAstomIUoyGxvF86++U2GG0Zbwp2lmDQ+kFkKeCxTZdmCAIqLMsh8dUj+2H\n",
       "gzAm1Js0veuaIZtm7yXgMqS/1zpZbJNGSrZfDffGDUqcDIfR+k/fRmxyapariIgKE4ttIqIUjx5+\n",
       "DrGk2iX33rW7YDfasvJaQ161ABJFzmzT7ARBwGpfMVZ2qXu1R906vLx0EIPywKzXmnUSXGZ1mwKP\n",
       "/yKtCIKAql23wVpfr4xFh4dx8tv/AinG5n1EtLCw2CYi+tSJ4dP4qPeAEje4a3BD4/asvV7qzHZp\n",
       "iQ56fWb3hNMCI8uo/2B/2tB7mxxIijI+kN7DuDw2w4XT22TrS4xK3M3jv0hDol6Puvu+DENRkTLm\n",
       "P9mG9vt/xg7lRLSgsNgmIgKQlJJ46OCTaWN/uunLEMXs/JpMJGSMjqlNqjyVnNWm2RWf7oLdqxbU\n",
       "p0sN6KucLqATSGC39A78sn/G6+uLTcqfh3xxhGLSjI8lyja9zYb6P7oPokl9X47sfh99zzynYVZE\n",
       "RJnFYpuICMDbZz5A91S/Em+v24zmsmVZez3vcAIpzaRZbNOshEQSNR8fUmJJFPB2WEA5KpSxKCLY\n",
       "Lb2FsBy+4HMsKTGlxTwCjLRmLi9H7b33TO+j+VTPo49j9MOPNcyKiChz+O2OiBaV1956Hf5oIG0s\n",
       "JsfxRlD9cqeDCOeoEU+++vScn/do6zFc11w558cPetkcjeau4uhJmPxBJR5asQQdLYex/fRaGGsN\n",
       "iJmn+wwEEMBroZfg6amAKKsFTGhiACExAqBWGXtpfwtai3znvZZNb8HOrdnbPkGUyrF8GTxf+Hza\n",
       "mdun//XHMJWXwbE8ezc8iYhygd/uiGhR8UcDKDmnKP649wBiQbX43Vi1BrVVDZf0vJGj+y/+oBRD\n",
       "Kfu1rVYBDgcXGtGF6cMRePa3KHHcaEDfmuUQ2o6gfEUV3HIpTuIEopieqY6ZY5hYMYXlaIIoTL+v\n",
       "QpMy6prKYOyTEUtM9waImN0oWXl+87+x1sEc/FsRqUq2bUV0ZATjn+wFAEixGFq/9R2s//6/wFQ6\n",
       "8/nxRET5jt/uiGhRm4r4cXz4tBI7jDasq1yZ1deUZTmtOZqnQg9BYHM0urCqfUehj6kd8vvWrkDC\n",
       "pDY7MwpGrEAz9Cn3z33woRNn0ppNCQJQ4lLj0Sm+5yh/eD5/M+wpM9nxiQm0fuvbSEYis1xFRJTf\n",
       "WGwT0aK2p+8wJFndPL21ZgP0om6WK+bP55cQCqtFD/dr00xMEz6UHTulxGG7FUPLG857nFkwYwWa\n",
       "IKZ8rI9jDL3oSXtciUt9r0/4BSSSIMoLgk6H2i/fDVN5mTIWPNOJUz/8N8gSm/kRUWFisU1Ei9ag\n",
       "fxhdk71KXG4rQWNRXfZfdyh9v3Yl92vTDGo/PghRUm/MdG9cCVl34Y9um2DHMiyHAHXG2oshDMte\n",
       "JS51q0WLLAuY8HF2m/KHzmxG/dfug85qVcbG9+xF9yOPaZgVEdHlY7FNRIuSLMv4pPdg2thVtZty\n",
       "spx7KKU5migCFeUstul89n4vis6oN4N8pUUYr/XMeo1LcKMBjWlj3ehCQD/dobzUlX6G8egUvwZQ\n",
       "fjEWF6Puvnsh6NQVRv3PvQDv2+9omBUR0eXhpywRLUrt410YCY0rcWNRHSrsZbNckTmpM9ulJTro\n",
       "9ZxdpHPIMmo/PJA21HXF6umN1xdRKpSiCtVpY73WUUzEA3DbZehE7tum/GZrqEfVHbenjXU88AtM\n",
       "HT+uUUZERJeHxTYRLToJKYG9/UeUWBREbK3ZkJPXjsdljI6pG2W5X5supPh0F+zDY0o8Wl+FQGnR\n",
       "nK+vQjVKoHZxlgQZ7060ICrHUOxUi+0xzmxTnirauAFl1+xQYjmRwMlvfxfhwSENsyIiujT8lCWi\n",
       "RafF24ZgLKTEa8qb4DTZc/LawyMJpPb6YbFN5xISSdR8fEiJJVFE94ZL65AvCAIa0Ag7HMpYMBnF\n",
       "uxMtKHarnc3HfALYe4ryVfkN18O5epUSJ/wBtP7TPyMRCM5yFRFR/mCxTUSLSkSK4fCguhTRpDdh\n",
       "o2d1zl7/3OZoHjZHo3NUHD0Jk18tJgabliBqt85yxYWJgohlWA4TTMrYWNwPf8kxANOz28mkgMkA\n",
       "l5JTfhJEETVfuhPmqiplLNzXj7bv/QBykq30iSj/sdgmokXlROwM4pJa8G6uWguT3jjLFZk1mNIc\n",
       "zWoV4HDw1zCp9OEIPPtblDhuNKBv9bJZrpidQTBgOZqgk9T32YRuBPoa9TixMe7bpjwmGo2o/9pX\n",
       "oHeoqzQmDx/BmX//Vdo58kRE+Yjf8oho0eidGkBnYkCJXWYnVpZefiFzqWRZTpvZ9lToc9L9nApH\n",
       "1d6j0MfUZd69a1cgaZrfzSCLYEFtqBRiypFghqpO6Er6AbAjOeU/g9OJ+j+6D4LBoIwNvf4Ghl5/\n",
       "Q8OsiIgujp+wRLRoPHrkubT4ypoNEMXc/Rr0+SWEw+pMDPdrUypnKIqy4+qMc9hhg3d5Q0ae25Y0\n",
       "40pXU9qYYclxCLZJdiSngmCpqkLt3V9KG+v81UPwtZ7UKCMiootjsU1Ei8Ix70kcStmrXeWoQJ2r\n",
       "epYrMu/c/dqVLLYpxRVdwxAl9WZM94aVkHWZ+5heaq3EaludEguiBNPyQxgLxMHVuFQInKtWovzG\n",
       "G5RYTiRw8l++j9jEhIZZERHNjMU2ES14kizh0SPPp41dWbsx50u4h1L2a4siUFHGYpumOfq9qBsL\n",
       "KLGvrBjjtZUZf50NjiWoNhUrsWCMQmg8hMkgW5JTYSi7Zgecq9Tu/PGJCbR99weQEolZriIi0gaL\n",
       "bSJa8D7uPYAzEz1KvKy4AaXW4lmuyI7Ume2yUh30ei7fJQCyjNoPD6QNdW1aBWThZpAoCPiMexWs\n",
       "ULubi/Yp7PWdYrMpKgiCIKD6i3fAWFqqjPlOtKLr4Uc0zIqI6MI4rUJEC1oimcATR19SYhECtlSv\n",
       "y3ke8biMkdEE8GmTKkGYwt4DvTM+vn9gEMuLPDnKjrRU3N4N2/CYEo/UVyNQWpS11zOKelxbtAav\n",
       "jhyEoJ++ATQsDOFkyI6VtpqsvS5RpujMZtTddy/O/PxBSLEYAGDw5VfgWLEMZZ/doXF2REQqzmwT\n",
       "0YL2Zsf78AZHlbjRUAOHyZ7zPIZHEpBldaaypNIGa5Fnxn/iCS7rXQyEpITqTw4rsSSK6NnQnPXX\n",
       "LTFbYehfl7ZX+4CvHYNR7n2lwmAuL0P1F+9IG2v/yQMIdnVpkxAR0QWw2CaiBSsUD+PZE68rsdVg\n",
       "QbOxQZNczm2O5nJrkgblmdITp2Ge8ivx0Ip6RO3WWa7InApDCRK9aodyGcD7E8cREmM5eX2i+XKt\n",
       "WY3SHduVWIrF0PbdHyAZDmuYFRGRisU2ES1YL518E/6o2nTqjpU3wSQYZrkiewZTmqMZTTLMZk3S\n",
       "oDwixuKo3ndUiWOigL7Vy3P2+uVFEhJDDUiMqtsVYnICB2z9iErxWa4kyh8VN94AW2OjEof7B3Dm\n",
       "wV9qmBERkYrFNhEtSOPhSbzS9rYSF1vcuGX5dZrkIsty2sy2y52V3ldUYCqOtMIQiihxS6ULCbMp\n",
       "d69fJAEQEO9cAynoVMb9uhgeHdzNhmlUEASdDrX3fAl6u7o9aPid3Rh+d7d2SRERfYrFNhEtSE8d\n",
       "ewWxpDo7d8+a22DUGzXJxeeTEA6rhQuXkJM+HIHn4AkljplNOFbhnOWKzCt2ydCJMiDrED21CaKk\n",
       "rvr4ZOoU3ps4PsvVRPlDb7ej5u4vpd3F7Pj5vyPU169hVkRELLaJaAHqmxrEu50fKXGt04NrG67U\n",
       "LJ/UJeQAi20CPPtboIurN4P61q5AQpfbj2SdCJS6Pr0JFDfD0L8OqQsunvT+AZ1hb05zIrpc9qWN\n",
       "aZ3IpUgEp77/Q6VbORGRFlhsE9GC8/jRF9KWwN63/k6Iona/7lKXkAuCDEduJzApzxh9AZS3nFLi\n",
       "sN0K77I6TXIpK1K73k8NlWKtbYkSJ2QJP+/7HfwJNpuiwlB+/bWw1qv/LQU7u9D50K+1S4iIFj2e\n",
       "s01EC8rJkXbsH1CbTq0qW45NnjUaZgQMpcxsO5yATqdhMqS56j1HIEpqkduzvhlylm8G9Q+PXHA8\n",
       "FHYCmD5bW5YFTLQbYTQJiBVP36wajwfwy/7f47/V3QpR4P15ym+CToeau+9Cx/0/UzqSD732O7jX\n",
       "rUPJVds0zo6IFiN+chLRgiHLMh458lza2NfWfxGCht3I4nEZI6NJJXZyCfmiZhmbQEnbGSUOFDkx\n",
       "Vl+V9ddNyAKsbs95/5RWONIeF0cFKseqYUmo/Q1OBHvxysj+rOdIlAlGt+v887fv/xli4zxDnohy\n",
       "j8U2ES0Ye/sP4/RYpxJfWbsJy0oatEsIgHc4gdSmztyvvbhV7zmSti+6e+NKTVvTm4wSDHp1lt0f\n",
       "0EMn6bBxcikMgroE45XRfWjxd2uRItElc65sRslVap+OhN+P9p8+wA77RJRzLLaJaEFISEk8fvQF\n",
       "JdYJIu5bu0vDjKYNsTkafcrmHUXRmV4lnqoowVRlmYYZTdf5Drv6HvUFp3eXORNWfNVzjTIuA/jV\n",
       "wO8xGvPlOkWiy1Kx80aYysuVeOLAQXjf/L2GGRHRYsRim4gWhHfOfIhB/7AS37h0Byod5bNckRup\n",
       "ncgNhiTMZg2TIU1Vf3I4Le5Z35wXB6477eo2h1hMRFyaLri3u1dih3uV8rNgMooH+99EQk6e9xxE\n",
       "+UY0GFBz1xchpDTJ6PyPXyM8OKRhVkS02LDYJqKCF4lH8PTxV5XYrDfhrtW3aJjRNFmW0zqRO+yx\n",
       "fKitSAP2fi9cvYNKPFFVDn9ZsYYZqVJntgEgnLQof/5K5Q7UmdXZ986wFy8N781ZbkTzYanyoOy6\n",
       "a5VYikRw+kc/hpzkDSMiyg0W20RU8F5uewtTEXV56+3Nn4PLrP35Wj6fhHBY3SPocPC810VJllFz\n",
       "oVntPOGwJTC9UHxaOKEuvzCIenyz5iaYRYMy9vrYQRwP9OQyRaLLVrZjOyy1tUrsb2tD33MvzHIF\n",
       "EVHmsNgmooI2GfHhpba3lNhlduLWFTdomJFq8Jz92nZ7XKNMSEt1oSgcg+oWh9E6D4LFLg0zwl7H\n",
       "5AAAIABJREFUSqfXA1aL2iQtdWYbAMqNLnzNc23a2H/0vwVfIpSL9IjmRdDpUHPXnRCNaof93t8+\n",
       "icCZM7NcRUSUGSy2iaigPXP8VUQTUSW+e/UXYDbkx8bo1CXkogjYbZzZXnRkGVeOB9RQAHrXNWmY\n",
       "0IWlLiUPJy04t2nzNtcKbHevVGJfMoxf9b8Fid2dqQCYSkpQefNOJZaTSZz+159AivMGKBFlF4tt\n",
       "IipYg/5hvN3xgRJ7HOW4vnG7hhmlS+1EXlaqg8jfuItO3Zgf5VH1C/3IkhqEXY5ZrtDG9FLyaTJE\n",
       "+OK68x7zlcodqDQWKfGJYC/eHDuUk/yI5qtoy2bYVyxX4lB3D/qefV7DjIhoMeBXPyIqWL89+iKS\n",
       "srr89b51d0Avnl8kaCEelzEyqjbh8VTqNcyGNCFJ2Ng1ooaigN61+TerDaR3JAeA8ZjhvMeYRAO+\n",
       "WbMT+pTzt18Y3oMzIXZ3pvwnCAKq77gdYsqREH1PPYNgF8+PJ6LsYbFNRAXp9FgnPuk7qMQrShqx\n",
       "tXqDhhml8w4n0pbiVlaw2F5sik93wx1Wtw4ML61D1G7VMKOZ2axJiKL6hp2IXvj9WmMuxT0V6uqR\n",
       "JCQ82P8mQsnoBR9PlE8MTic8n79ZieVkEu0/uZ/dyYkoa1hsE1HBkWUZjx5JX/73tfVfhJBH52qd\n",
       "2xyNM9uLjCShat9RJUzqRPSuWaFhQrMThPSl5Bea2T7r2qI12OhoVOKxuB+/GXwXMvdvUwFwb9oA\n",
       "+7KlShxo70D/iy9rmBERLWQstomo4BwcPIbWkdNKvLl6PZrLls5yRe4NpTRHs1kFOOz8dbuYFJ/u\n",
       "gmVSPY7Ou7wecWt+NO6biSNlKbk/rkModuHZPkEQ8PWq61CstytjB3wd+HiqLes5Es2XIAio2nV7\n",
       "WnfynsefQKivX8OsiGih4lQLERWUpJTEYymz2oIg4L51uzTJpeV4K8KR6YKks7sfew8cAwDIMtDT\n",
       "VwFgem+ryRTCvoP96B8YxPIijya5Ug5JEqr2tShhAkD/qmXa5TNHTnvqagwBD+/+BB57eMbHr9AV\n",
       "YY89APnTBSWP9L+LzpNnYJWMM15j01uwc2v+NDGkxclY5EbFzhsx+MprAAA5HkfH/T/Dmm/9bwjs\n",
       "ZElEGcRim4gKyntdn6DPN6jE1y/ZjhqnNgVsOJKE9dPi2WRzK38OhYBEQl3SXlxuhrXIg3gPZ04W\n",
       "g5JzZrWP2oyIW/J7VhsAXI70rQ8BaylKViZmeDRQAiDkF3E0MN1gKiFIOFE6js8Vb4A4w5aOsdbB\n",
       "C44T5Vrx1i2YajmOUPf0+9d3ohWDr/0OVbfeonFmRLSQ8PYdERWMaCKGJ4+pe+uMOgPuXvMFDTO6\n",
       "sKnJ9Njl1iYP0oAkoWqvulc7IQjYbzNpmNDcGQwybFa1uB4cvfhXhLX2epQY1KPMhmNTaA32ZiU/\n",
       "okwSRBHVd+6CoFfnnbofeQzRkVENsyKihYbFNhEVjNdOvYOJ8JQS39p0A4ot+VfJphbbgiDD4dQu\n",
       "F8qtklNdME/5lfhkuQMhXeF81LqdarE9OikgFp/lwQBEQcR290roUr5OHPZ3YjweyFaKRBljKi1B\n",
       "xY3XK7EUieDMg79ksz8iypjC+QZARIuaLxrACyffUGKHyY7bm3dqmNHMfCnFtsMJ6PLj6G/Ktgt0\n",
       "ID9aWVh3WlKXkssQMDR28a8JLr0VVzjVBoUSZHwweQJJmccpUf4ruepKmKvUrUjje/dh/JM9GmZE\n",
       "RAsJi20iKgjPnXgd4XhEib+06vOwGiwaZnRhyQQQUCc2uYR8ESk51Zk2q+1d3oCwobBao7icCaQe\n",
       "ED8wh6XkALDCWoUqU7ESTyVCOOTvzHh+RJkm6HSo3nX79Pl3nzrz4K+QCAY1zIqIFgoW20SU94YD\n",
       "o3ij/T0lrrCVYufSz2qY0cx8PkCW1S9tLLYXiXM6kCd1YkF0ID+XQS9DkNTmbnMttgVBwFWuJhgF\n",
       "9eZCa7APg9GJjOdIlGmW6iqUXLVNiWPj4+h+9HENMyKihYLFNhHlvSdaXkJSUpek3rvuduh1+Tlj\n",
       "yOZoi9O5s9pDKxoQtxRGY7RziZLaIGpsSkD0Ivu2z7LqTLjS1ZQ29tHkScSkOT4BkYbKb7geBpdL\n",
       "iYdefwP+tlMaZkREC0HOv602NTX9DwBVM/z4lba2tt05TIeI8tyZ8R580LNPiZcW1eOq2is0zGh2\n",
       "qcW2ySTDlP8nPtF8SRI8+48pYVInYqAAZ7XPEpOjSBqm92Cf3bddXynN6dp6SxkaoxU4E/YCAEJS\n",
       "FHt97fiMe2XW8iXKBJ3JBM9tX0DP2RltWUb7/T/D+h9+D6I+P2/uElH+0+K3x98CKL7AuAxgGMDu\n",
       "nGZDRHlLlmU8dvS5tLGvrr8TopCfi3JkOb3YdrrTtgHSAlV0pjftXG3v8gbEzYU5qw0AYnIM0x/J\n",
       "02/egdG5F9sAsMW5HN7YJILJKACgM+xFvbkMtebSLGRLlDnO5iY4V6+C7/gJAECouwcDL76Mmi/d\n",
       "qXFmRFSoclpsNzU1uTBdaP/Ptra27+fytYmo8BwZakWLt02JN3pWY01F0yxXaCscBuIx7tdeVGQ5\n",
       "ba+2JIroX7l0lgvyn4A4LKYIwtHpBoRzOW87lVHUY7trJd4cP6yMfTLVhnKja5ariPKD5wufR6C9\n",
       "A1J0+mZR7xNPoXT7VTBXVmqcGREVolxPD539BtKe49clogIjSRIeO/q8EgsQcN+6OzTM6OK4X3vx\n",
       "cXX1wTqmNgEbXlqLuLXw9w44rCHlz6OXsG/7rAqTG83WaiWOSHHsnTqdqfSIssbgdKJi541KLMVi\n",
       "6PjZgzx7m4guS66L7cZP/7cjx69LRAXmD9170T3Zp8SfbdiGeneNhhldXGqxLQgyHIV1xDJdKllG\n",
       "1X51VlsWhILsQH4hTmvqsUdzO2/7XBscjXDo1BsPXZFhDBn8s1xBlB+Kt2yGpVb9vJk8fASj73+g\n",
       "YUZEVKhyvWf77My2v6mp6ZsA6gGMA3i9ra3teI5zIaI8FUvE8PD+p5RYhAjrsIgnX3163s99tPUY\n",
       "rmvOznJAX0qx7XACOl1WXobyhLNvCHbvmBKPLKlB1G7VMKPMsVtCmM++bQAwiDpc5W7Gm2PqcvJj\n",
       "Fi/8iTAceksGsyXKLEEUUb3rdrQ/8HNAmn7fd/7qP+DetAEGh0Pj7IiokOS62G4EIAE4CCB1geW/\n",
       "NDU1/QLAX7S1tV3apzkRLTivn96NoBRW4rWVzaitacjIc0eO7s/I85xLhohgyqQdl5AvfJ6Uvdoy\n",
       "gL7VC2NWGwD0OgklLhljU2qxfTkqjG4022pwMji9SiUmJvHboT/gGzU7M5YrUTaYKytQ+pmrlRnt\n",
       "+JQP3b9+FMv+4s81zoyICokWy8gFAL8EUAfABuBGAK0A/iuA/5PjfIgoz/ijATzf+jslNulN2FC5\n",
       "SsOM5iYJF2SZzdEWC/uAF84BrxKP1lch4rRrmFHmVZWq977HpgREY5f3PBsdS+DQqTPZ+3ynccDH\n",
       "3WSU/8qvvQaGoiIl9v7+LUx92qmciGgucj2z/S0A/9TW1vZeytg7TU1NnwdwAsB/b2pq+ue2trbg\n",
       "hS+/sKamJnatIFognj3xOkJxdVZ7k2c1THqjhhnNjYT0Tsssthe2qpRztQGgf/VyjTLJnqpSCS1K\n",
       "TSxgcExEg+fSF5/pBR2udjfjjbFDythjg+9hhbWKy8kpr4lGI6puvxXdv35EGet44OfY8K8/gGgw\n",
       "aJgZEV2C/U1NczvJpq2tLeMHtuZ0ZrutrW33OYX22fFeAHsAmAE05zInIsof3sAI3mhXf0U4THas\n",
       "KiuMIiaZsjPGZJJhKvyG1DSDEn8Yrp4BJR6rqUCoaOF1w6sskTC9QH7a5S4lB4ByowsrbWrDKX8y\n",
       "jMeH3p9PekQ54Vi+DK51a5U43NePvmefn+UKIiJVrme2Z3N2t+Ml3zaf612IpqamKwBkZ8MmEc3b\n",
       "b1teQlJKKvHW6vXQifnfZUyWp5eRn+VyA0LG741SvljTN5YW969ZoVEm2WUyAKUuGaOf7tvu9YrA\n",
       "2otcNIsNjiXo8XkR1E2fI7bf147NvqW4wrlw9rrTwuS55WYETrcjGZ5eddX39LMo/cx2WGuqL3Il\n",
       "EeWBzW1tbQe0evGczWw3NTXd3NTUJDU1Nf3kAj8zANgCIIrp/dtEtMi0j3Xhox71XliR6EBjUZ2G\n",
       "Gc1dOAQA6lJ3V9GMD6UCZ5ryo25U7YQ3WVmKQMnC3TNQl9KBfCooYjJw+XeR9IIO60IepD7DY4Pv\n",
       "w58Iz3gNUT7Q2+2ouOlzSiwnEuj42S949jYRXVQul5F/ACAI4GtNTU3nrgv9GwBVAH7b1tYWyWFO\n",
       "RJQHZFnGo0eeSxtba1oGoUCmh1PP1wa4X3shqzh8Iu2Dc6Gcqz2TuopkWtzjnd/XhqKkBZ8r3qDE\n",
       "/mQYTwz9YV7PSZQLRVdsgrWhXol9x45j+O13NcyIiApBzorttra2AID/DsAF4GBTU9Nvm5qaftzU\n",
       "1PQBgH8EcAbA/8xVPkSUPw4OHsOJkdNKfEXVWpTpCmd6eHJC/bMoynAsvO27BEAfjqDshNpFO1Dk\n",
       "xFRlqYYZZV+ZW4bFpM7e9QzN/2vDrvJtKDeq2y72+k7jsL9z3s9LlE2CIKB6120QdOrWpq6Hf434\n",
       "1JSGWRFRvst1g7RfArgawLsArgXwXwCUA/gRgG1tbW2jucyHiLSXlJJ47IjabEYQBHx13Z0aZnTp\n",
       "Ume2HS5AzPWhipQT5UfbICbVmd6BlUsX/OZ8QUif3R4cExGLz+85jaIeX/dcnzb26OBuBJNc2Eb5\n",
       "zVRWhtLP7lDihD+Azv94WLuEiCjv5bxBWltb2ycAbs/16xJRftrd+TH6fINKfP2S7ahxeTTM6NLE\n",
       "40AwoMZuLiFfkMR4AuUtbUocsVkwVl+lYUa5U1choa1n+s+yLKBvWERj9aUfAZZqha0K1xWtxbsT\n",
       "LQCAqUQIT3s/xB9X3TDfdImyquyaHZhqOYbY6PT80Mju91F+3bVwb1ivcWZElI84/0JEmokkonjq\n",
       "2CtKbNIZcc+aWzXM6NL5JgGktHzifu2FqbS1A4ZIVIkHmxshL5IlDNVlEkRBXUre7c3MCQFfrLgS\n",
       "JQaHEn84eRLHAt0ZeW6ibBH1elTvui1trONnDyIZjc5wBREtZovjmwIR5aVX2t7GRETd73Zb840o\n",
       "srhmuSL/nNsczclie+GRJFQcPqGEUZ0I79LC6JSfCUYD4ClVZ7J7vSKkDDRhNotGfN1zXdrYIwO7\n",
       "EU7G5v/kRFlkW9IA96aNShwZGkLfU89olxAR5a18OmebiArMa2+9Dn80cPEHXkBEiuGN0MdKbBIM\n",
       "iHUF8GT30wCAo63HcF1zZUbyzKbUYttilWEyaZcLZUdRRw/MPvV93lrugGRYXB+f9RUS+kemZ7Qj\n",
       "MQEjEwIqiudfca+01+Kz7lV4f3L6ZsZ4IoBnhz/C1zzXzvu5ibKp8uad8LedQjIYBAD0P/8iSrZf\n",
       "DXvjEo0zI6J8sri+LRBRRvmjAZRcZkH8Qfc+JEJq46UttRtQWV6jxJGj+y90WV6R5fRim0vIFyBZ\n",
       "hufgcSWURBHHy51YbF+n6yolfHRMjXu8OlQUJzLy3F+quBotgR5MJKZvaLw3cRxXOJdhpa3mIlcS\n",
       "aUdvtcLz+ZvR98yzAAA5mUT7j3+Kdd/7DkSDQePsiChfcBk5EeXcZMSH1pF2JXaZHGguXaphRpcn\n",
       "FNIjmeR+7YXM0e+FbWRciYcbaxAxZGbPciFx2mS47epS8kwcAXaWVWfCH50zk/2bgXcRlebZ9pwo\n",
       "y1zr18K+YrkSBzu70Pfs87NcQUSLDYttIsq5vX1HIENdgrqtZgPEAmw25Q8Y02JX4RwNTnNUmTKr\n",
       "LePT474WqbpKtdge84kIhDP33Gsd9bjK1azEo3Efnh/+JHMvQJQFgiCg+o7bIZrNyljfU88g2Nml\n",
       "XVJElFcK79stERW0If8IuiZ7lbjCXoZ6d2EuF00vthOw2zVLhbLAMjoBd8+AEo/XViLiXLx/yfUp\n",
       "520DQM9QZmf4v1y5HS69VYnfGT+K06GBWa4g0p7B6YTnlpuVWE4mcfrffgopkZltFkRU2FhsE1HO\n",
       "yLKMPX2H0saurNkAQRBmuCK/+f1qsa3DFAr0X4NmUHnoRFrcv4hntQGgoliG0aCuSOnxZvYrhE1n\n",
       "xtc81yixDODXA+8iJrFoofzm3rjhnOXkneh75jkNMyKifMFim4hypmuyD97gqBIvKapFhb1Mw4wu\n",
       "XzAkIRpVe0yKmJzl0VRojP4gik93KrGvrBiBsmINM9KeKAK15epS8v4REZmevNvgaMQWp1q0eGOT\n",
       "eGlkb2ZfhCjDBEFA9a7bIKYcR8Hl5EQEsNgmohyRJAl7+w4rsSAI2Fq9XsOM5mdoKL3K0GFqhkdS\n",
       "Iao4chJiymHS/asW96z2WXUpS8mTkoCe4cx/jfhK5Q44dBYlfnPsMDrD3oy/DlEmGVyuCy8nj7PR\n",
       "H9FixmKbiHKidbQdU1G/Eq8qWw6X2alhRvMzmFZsyyy2FxBdNIay46eUOOS0Y6K6QsOM8kddpQRR\n",
       "VG9CtPdlvjO7Q2/BVyp3KLEMGQ8NvI24lJzlKiLtuTdthH35MiUOdnai5/EnNMyIiLTGYpuIsi6W\n",
       "jOPAQIsSG0Q9NnnWaJjR/A2kFNs2OyCA+0oXirJjp6CLq3+fAyuXghvyp5kMQF3KUvJer4hYFibu\n",
       "NjuXYZOjUYkHoxN4dXR/5l+IKIMEQUDVrtvTlpP3P/8iJo8c1TArItKS/uIPISKan8ODxxFJRJV4\n",
       "feUqWAzmWa7Ib4mkjOERtRhzuQFfQMOEKGOEZBIVR04qccxswsiSag0z0kb/8MiMPxMFJ4DpEwSS\n",
       "koAPj4zjus1z28/e0n7q4g/6VJEgwOAQEReni/vXRvZjsnMEruT5vztsegt2bt0+5+cmyhaj24Wq\n",
       "Xbeh76lnpgdkGad+9GNs/PEPYXAW7mouIro8LLaJKKv80SBavGrxYjNYsK6ieZYr8t/ISBLJlBWt\n",
       "7iLA16ddPpQ5JW2dMIbUA6QHm5dA1mV+qXS+S8gCrG7PBX9mcgBdXhmSND3b752cewERF5IoWXnh\n",
       "572QrSEDPpya/v0hC8CJolHcUnoFRCF9Yd5Y6+Ccn5Mo29zr1iJwuh2Th6b7lMQnJnD6x/dj5f/6\n",
       "m4I9fYOILg+XkRNRVu3rP4ykrC473VK9HnpdYd/nGxxKXzfrcmuUCGWWLKPy0HElTOp1GFreoF0+\n",
       "eUqnA0qKYkrsC9oQic5ywTwssVSg2qTOmk8kgjgW6MnOixFlkOfWW2AsSXnv7tuPodff0DAjItIC\n",
       "i20iyprhwCjax7uVuNRahOUlSzTMKDNSm6MZDDIsVg2ToYxxdfXBMuFTYu+yeiSNBg0zyl/lJak3\n",
       "nAScGcjO7L8gCNjmWgGDoD7/0UA3xuP+Wa4i0p7OZELtPXdNn5n3qa6Hfo1gN28WES0mLLaJKCtk\n",
       "WcbHfYfSxq6s3VTwS+hkWcagN32/doH/K9GnPAdPKH+WBAEDzY2zPHpxK3LFodepK1Y6+rO31N6m\n",
       "M+MKp9rhWYaMDyZbkZTZnZzym6W6GhWfu0GJpVgMp77/QySjWVoKQkR5h8U2EWVF50QvvAG1yVKD\n",
       "uwZVjsI/PskfkBAMqkcfuYo0TIYypjIcg2NwWIlHG6oRs1lmuWJxE0WgtFid3R4cExAIz3LBPC2z\n",
       "VKYtJ59KhHDY35W9FyTKkNLtV8PWqN64C/X0ouP+n0OW5VmuIqKFgsU2EWVcUkpiT/9hJRYEAVtr\n",
       "NmiYUeakn6/N/doLxcbJ9HbyAyuXapRJ4SgriaVEAs5kcXZbEARc5WqCSVD7PZwI9sIbm8zaaxJl\n",
       "giCKqLnrTuis6n6jkffex8BLr2iYFRHlCottIsq448On4I+qxcvqshVwmxfGkSepxbYgyHC6NEyG\n",
       "MsIZiqIxqC7rnPCUIVS0MN6v2eR2JmA05GYpOQBYdCZsc61IG/to8iTiEs+4p/xmcDpR++W70/Yc\n",
       "dT38G0webdEwKyLKBRbbRJRRkXgEBwePKbFRZ8CmqjUaZpRZqcW21RrHIjwVasFZ1T+O1G33/auW\n",
       "zfhYUgkCUFqszm6PTIqYCmS3gUG9pRwN5nIlDiQj2O/ryOprEmWCfWkjKm/eqQ5IEtq++wNEvMMz\n",
       "X0REBY/FNhFl1IHBY4gl1b2cmzxrYdabNMwoc2JxGSOjalMmhyM2y6OpEOhDYSzzTilxoNgFX0WJ\n",
       "hhkVlvKS9P8GOvqz/7Viq2s5LKJRidvDgxjWB2a5gig/lFx9FVzr1ylxwu/HyW9/lw3TiBYwFttE\n",
       "lDGTER9OjJxWYqfJjtXlyzXMKLO8wwmk9rRx2FlsF7qKo23Qpfyl9q9cyvbyl8BhT8KoV/87ONWr\n",
       "Q7b7PplEA652N6eNtViHEEhEsvvCRPMkCAKqd90Gs6dSGQt2drJhGtECxmKbiDJmT9+htC8M22o2\n",
       "QicunHXWg4Ppe0NZbBc2MRZHeUubEkfsVozVeTTMqPAIAlDiUlcG+IIiBkaz/9WiylSMFdYqJY6K\n",
       "STw6tJsFC+U90WhE3X33ntcwrffJpzXMioiyhcU2EWXEgM+L7sl+Ja60l6HBXaNhRpmXul/bbhNh\n",
       "MkmzPJryXWlrO/RR9YbJQHPj9JlWdElKXZMA1CL3ZHdubrBtciyFQ2dW4gO+DnwydSonr000H8ai\n",
       "ovMapvX+9kkM/e5NDbMiomzgtwoimjdJlvBx78G0sStrN0FYQMtxZVnGoFcttj2V+lkeTXlPklB5\n",
       "uFUJw4KA4aW1GiZUuEyGOGrK1RtPnYMiIjnYgmoQdbjavTKtud1jg7sxFOVxYJT/7Esb4bn1lrSx\n",
       "jl/8O8Y+2aNRRkSUDSy2iWjeTo91YSw8ocTLihtQbltYTaYmJiVEo+rsHYvtwlbc3g2TP6jER2xG\n",
       "SHr+nV6ulfVq40BJEnCqNzez2+VGF1bb65Q4KifwYP8bPA6MCkLJtq0ou+az6oAkoe37P8LU8RPa\n",
       "JUVEGcVim4jmJZ5MYF//ESXWCTpsrV6vYUbZkbqEHGCxXdBkGZUHjythQhBwxGqc5QK6mPpKCRaT\n",
       "ejOqtTv7jdLOWm9vQFHCosS9kVE87f0oNy9ONE/lN16Pois2KbEcj6P1W99BsKtbw6yIKFNYbBPR\n",
       "vBz1tiIUDyvx2opm2E02DTPKjtRiW68HykoXTuO3xcbZNwTbqLoS43SpHWEdPw7nQxSBpjp1dnsq\n",
       "IGJoPDfbSERBxIagB1ZRPWLw3YkWHPSdycnrE82HIAiouv1WOJqblLFkMIgT//hPiAwNaZgZEWUC\n",
       "v10Q0WULS1EcGVKXu1n0ZmzwrNIwo+wZHFLPDq8o10OnWzj70Reb1FltGUBLhVO7ZBaQ5pSl5ADQ\n",
       "2pW71R8W2YA/qb4hbezXA+9gLObLWQ5El0vQ6VB7z12w1Kp9I2Lj42j5279HeHBQw8yIaL5YbBPR\n",
       "ZTseO4OEpH7B3ly9DkadQcOMsiMSkTA+oTaA8lRwCXmhsoyMw9Wrfnkdq/PAb15471ktOG0yqkvV\n",
       "3wedAyIiOTwdb4NjCW4oXqfEISmKf+//PRJycpariPKDaDSi/o/ug6msTBmLjY3h2N/+PUJ9/bNc\n",
       "SUT5jMU2EV2WroledCfUoqXI4kJTaaOGGWVPahdyAPB4WGwXKs+h42nxwMqlGmWyMDU3qIVtUhLQ\n",
       "nqNGaWd9qfxq1JnVYqUjPISXhvfmNAeiy6W3WtHwp1+HqaxUGYuNj+PY3/09Qj29GmZGRJeLxTYR\n",
       "XTJZlvGbw8+mjV1VswmisDB/pZzbHK2SM9sFyegLoPi02nRoqrwEgdIiDTNaeBoqJZiN2jRKA6aP\n",
       "A/tG9U6YRHW1wutjB3E80JO7JIjmweBwYMmf/QlM5epNo/jEJI793T8g2M33MVGhWZjfjIkoqw4O\n",
       "HsOx4TYlrnV6UOPyaJhRdg0OqsW22yXCauGvzkJUcaQVQkrlN7CKs9qZptMBK2rV2e0Jf+4apZ1V\n",
       "YXLjjzzXpo39qv8tjMX9Oc2D6HLp7fbpgruiQhmLT03h2N/9AwLtHRpmRkSXit8YieiSJKQkHkmZ\n",
       "1RYgYFvtRg0zyq5EUk5bRl7FJeQFSReJouxEuxKHXA5MVJVrmNHC0T88goMnzyj/SFJX2s//cDiq\n",
       "/Kx/ZDQnOW1zrcB290ol9ifDeKD3NUSl+CxXEeUPvc2GJX/6dZg9lcpYwudDy//6e0wcPKRhZkR0\n",
       "KVhsE9El+X37+xjwe5W4uWwpii1uDTPKLq83gWRKf6XqKjbTKkTlx05BF1dvmvSvXAoI7CifCQlZ\n",
       "gNXtUf4pLi9BsVstaicDDgjmaljdHiRy2KvsK5U7UG0qUeKeyCgeHngHci7XtRPNg95mQ8OffB3m\n",
       "qiplTIpEcOL//DO8b7+jYWZENFcstoloznzRAJ469rIS66HDFVVrNcwo+/oH0vdr11RxZrvQCIkk\n",
       "Ko6eVOKoxYzRhmoNM1r4qisjKZGAvkHTjI/NFpNowP9dewvsOrMytt/XjtdGD+Q8F6LLpbdaseRP\n",
       "vw5bY0oDUklC+4/vR++TT/PmEVGeY7FNRHP2ZMtLCMbDStxsbIDVYNEwo+zrH1Bn6Ox2EQ4Hf20W\n",
       "mpK2MzCE1OJvsHkJZB3/HrPJ7UzAZlVvVHlHTYjHc7+SoMzoxH+tuRm6lK87L4zswWH/mZznQnS5\n",
       "dGYz6v/TV+Favy5tvOfxJ9DxwM8hJ3m8HVG+4rcNIpqTrok+vHXmAyWutJdhmaFWw4yyL5mU0zqR\n",
       "11TpIXDpcWGRJHgOqsd9JfR6eJfVa5jQ4iAIQI0nqsSSJGBgOPez2wDQZKvGvZU70sZ+2f8W+iJj\n",
       "muRDdDlEvR41X7oTpTu2p41733wLx//xnxD3swEgUT5isU1EFyXLMh469FTacrWvb7wbugV61NdZ\n",
       "wyNJpGzzRTWXkBecoo4emKfUL6He5fVIGrnvPhfKimMwGiQlHvCaIGv0tePa4jW4tmi1ZqeSAAAg\n",
       "AElEQVSNEkelOO7vfQ3+RHiWq4jyiyCKqLxpJzy33pLWc2LqyFEc/cu/QaiHR4MR5ZuF/U2ZiDLi\n",
       "k76DaB05rcTrK1dhk2fNLFcsDP2D6Z2L2RytwMgyqg4cU0JJFDGwsnGWCyiTRDF973Y8LgJm7f7/\n",
       "/3LlZ9BkVffqj8Z9+EXfG0jIXIJLhaXkym2ovfceCAb1MykyNIQjf/X/YGzPPg0zI6JzsdgmollF\n",
       "EzE8cvg5JdYJIv54492LYjl1f786rW21CnC7+CuzkLh6BmAdnVDi4aW1iFvMs1xBmeYpj0Enqiti\n",
       "ZMtKaNXPSS/o8M2am1BicChjbaF+PDb4HptMUcFxrV6Fxm/8GQwulzImRSI4+e1/Qe9Tz/A9TZQn\n",
       "+M2RiGb10sk3MRoaV+Kbl1+HamflLFcsDJIkYyBtv7ZhUdxgWEg8+9VZbVkQpo/7opzS62VUlkdT\n",
       "BorQN6zdVw+H3oK/qP0CTIK6JeSDyVY8M/wRixMqOBaPB0v//Buw1qf0oZBl9Dz2W7R97wdIRiIz\n",
       "X0xEOcFim4hmNBocx4sn31Rip8mOu1bfomFGuTM6lkQspn755n7twlI+FYJjcFiJR+urEHXYNMxo\n",
       "8aqujAJQ/1s63K7TLhkANeYS/Fn15yBAvXn25thhHglGBUlvt6PhT/4TirZsThsf+/BjtPzN3yEy\n",
       "PDzDlUSUC/z2SEQzeuTIc4gl1X3L967dBZvRqmFGudN3zvna3K9dWNb2jqbF/auXaZQJmU0Syorj\n",
       "GBk3AgAGR3UYGEmiqky6yJVz19J+6pKvWWMsR4vVq8QvjOzBqe5ONMSK0h5n01uwc+v2cy8nyhui\n",
       "Xo/qXbfBXFmBwVdfB6Tp/7aCnZ04+pd/jaa//iu4Vq/SOEuixYnFNhFd0Inh0/i4V53pWeKuxfVL\n",
       "rtYwo9xKPV/bYhZQXMSFQIXCOjKOmomgEo/VVCDkdmqYEdVWR5RiGwD2ndTj9tIYMrUzIy4kUbLS\n",
       "c0nXlMADY8COA/4OZeyEdRhFnmI0WtWtMmOtg5lJkijLSrZthbm8HD2/fRLJUAgAEJ/y4fj/+/+h\n",
       "8Rv/GZU379Q4Q6LFh98eieg8SSmJhw49lTb2J5vugSgujl8ZsixjIGVmu4rnaxcUT0oHcgDoX71c\n",
       "o0zoLLs1ibLimBJ7x0X0jWj/+2SVvRZr7ennrn80dRK9kdEZriDKb7YlDVj659+AubJCGZOTSXT8\n",
       "7Bfo+PmDkBKJmS8moozT/pOOiPLO7zv+gO7JPiXeXrcZzWWLZxnu2HgSkai6x7SGS8gLhmnCh6L2\n",
       "biWerChFoLRolisoV+prwoCsLh3f36rXrDN5qvX2hrQjwWQA708cx2B0YuaLiPKYsagIS/7Ln8F5\n",
       "ztLxodffwPF/+N+I+3waZUa0+LDYJqI0kxEfnmh5SYlNehO+uv5ODTPKrZbjrfjwk560sYnJLuw9\n",
       "cOy8f/oHuLw033gOHUfqGoT+NYvnJlG+s1okINqpxCOTInq82n8NEQQBW5zL0GhRZwIlyNg90YIh\n",
       "FtxUoHQmE2q/fDfKr78ubdx37DiO/OVfI9jdM8OVRJRJ2n/K/f/s3Xd8ZFd5+P/PvdOLeu99tb03\n",
       "r7sxtrGNDcYG0xI6ad/km/zyhZAQCCGQQAghhdCLYzBgjDGwuHu9rutt3qqVtOq9aySNps/c+/tD\n",
       "uzM7q+1FdyQ979dLL+mcuXf20Uqauc895zxHCJFSfnLocfyRQLx9//I7yXVmGxjR3AoEY/iDiX1L\n",
       "zWad3JI8nFlFsz4i0StX4ElcPuuUl5ymxPpbb04mkwW5BkYkTqf4D6MoieHsfU2pMbqtKArXZNRT\n",
       "Zkv8vkR1jRfGDzNo8RoYmRCXTlFV8m+5ifL3PYhqTdRMCA0Nc/hTn2Fs9x7jghNikZBkWwgR1zjS\n",
       "wsudu+PtkvRC7lpyi4ERzT1dB88pg1mZWVyxIk7i6ireewRVS2RuvSvq5IeXYpSYl7qyWLw9NqnS\n",
       "OZAalyKqonJ91jIKrYllBxo6bzr7ednTYGBkQlye9OXLqP7Ex7BkZsb7tGCQpi9/hZ5HH5M95oW4\n",
       "ilLjHU4IYbioFuP7+3+e1PfR9Q9iNi2uTQuCQTORcCJBy1w8g/rzmm3SS25Te7w96rTiKS04xxnC\n",
       "KOuXxFJydBvApJi4JXtl0gg3Cjw8sJPfj+yTpETMW/bCAmr++BM4KyuT+rt/+jOOf+3fiYVCxgQm\n",
       "xAInybYQAoCnW3bSM9kfb19bvpGVBfUGRmSMiUlbUjtLku15oWjvEZRTEqE3izNlVDtFpbt0llYk\n",
       "Rrc9XpWWntS5HDEpJm7IWk6tozCp/4mR3fxi6FU0SbjFPGV2uaj68B+QvXljUv/oq69x5DOfJTQi\n",
       "VfiFuNJS591NCGGY8cAEvzy6Pd52mO18cO27DIzIOBMTiWTbYtFJk+2ZU55tYorc5sSo9nR2Bj0Z\n",
       "DgMjEuezbkkUk5pIWvccsxCOnOOEOaYqKlsz6lnpKk/qf2H8MD/oe46oHjvLmUKkNsVkoviet1P0\n",
       "9rvglO08fW3tHPrrTzPV1GxgdEIsPJJsCyF4+OCvCESD8fYDK+8m25F5jjMWpmhUZ8qbKCKTnSuD\n",
       "o/NB8Wmj2j2r6+UHl+LcDlhVk0hY/SGFgy2ptWRFURTWpVezLJCX1L9nqoX/7N7O9CmvmULMNzlb\n",
       "NlP5oT/A5HTG+yITExz9u88xvONFAyMTYmGRZFuIRe7oUBOvde+Lt8syirmj7ibjAjJQ30AUTUu8\n",
       "LOZIIeuUZ/dMknM8sZ2UNycTT3G+gRGJC7W2LorTlrhJcqTNxJQv9W6SVIWy+UjxrainbCrX6Ovl\n",
       "ix2/oCMwZGBkQlwed3UVNX/0cWwFiddMPRql5T/+m+6f/UJqFAhxBUiyLcQiFo1F+cGbv0jq+9iG\n",
       "BzGrJoMiMlZXd/I81mxJtlPerFHtVUtkVHuesFpg8/LE31xMU3ijIbVGt0+6JrOePy27E6uSiG88\n",
       "Ms1XOx/nZU+DJCVi3rJmZ1P9iY+RtjS5RkvPzx+l5Rv/hRZJofUdQsxDkmwLsYj9/vgO+qYG4+0b\n",
       "KrawLK/OwIiMdWqynZauY7Od42BhOPv4JNktnfG2NyeTCRnVnlfqyjTyMhP71XcOmOgbSc1Lk9Vp\n",
       "lXy66j5yLYlCDlFd4+GBnfy4fwdhLWpgdEJcOpPNRvn7HiT3+uuS+kd2vsSxL/wT0WmfQZEJMf+l\n",
       "5juaEOKqG5oe4ZcNpxRFs9j5wNr7DIzIWF5vjHFPYg2pjGqnvuK9h2Wt9jynKLBtVfLI2a6jZjTt\n",
       "LCcYrNyex2erH2CVuyKp//XJJv6l81eMhCcNikyIy6OoKoW3v5Xie+5OKpw2eeQoh//mbwkODRsY\n",
       "nRDzlyTbQixCuq7z3X2PEI4lLnLfu+peMu2Lt/R2V0/yBb+s105tzuExck4Z1Z7KzWKiKO/sJ4iU\n",
       "VZCtU1uauNE1PqXS2JW6S1lcJjt/VnYX9+Zt4dRbOz3BUf6p/Zfsm2o1LDYhLlf25k1UfOB9qNZE\n",
       "sdBATy+HP/0ZfJ2dxgUmxDwlybYQi9ArXXs4MtQUb9flVHFbzQ0GRmS8U6eQm0w6GYuvGPv8oeuU\n",
       "vf5mUlfPGhnVns+2LI9gNiVmKextNONP4WLfqqJwd95G/qL87bhN9ni/Xwvxnd5n+Hbv03ijAQMj\n",
       "FOLSpS2po+rjH8Gclhbvi3gmOPK3f89kwzEDIxNi/knNSiRCiCvqyeefwhuaBiCkh3nWtzv+mIJC\n",
       "hT+PXz71q4t+3sONR7l5aeEVi9MosZhOd29ivWV2TtIsOpFi0rv7Se9N1BrwFOUxWSij2vOZyzFT\n",
       "nXxfkwWAcERh11ELb9mY2sWZVrjL+WzVA3yr9xm6golptvun2mj29fH+ohvZmF5rYIRCXBpHURHV\n",
       "n/w4XQ//hNCJKeQxn59j//BFlvz1X5GzZZPBEQoxP0iyLcQi4A1Nk3MiKd7R/jphX+ICdm3RcqpL\n",
       "Lu1iMHh43/kPmgcGh6OEw4lRNVmvnbqU00a1daBr3XLjAhJXzJraGK29JiamZ+50tfWZqCuLUV6Q\n",
       "ogu4T8ixpvPpyvv4zchunh07iM7Ma8l0LMh3ep9hf3ob7yu8gTSzw+BIhbg41swMqj/2EboefgR/\n",
       "dzcAWjhM0798ldo//WMKbr3F4AiFSH0ydiPEItI7OUDreGe8nWFLY13RSuMCShGnb/kl67VT11Jv\n",
       "AOfYRLw9XF2GP2vx1hpYSEwmuGFt8t/iq4csROZBkW+LauL+gm18uvI+CqzJa1D2TbXy+bafsX+q\n",
       "VbYIE/OOyeGg8kMfJK1+SaJT02j9r2/S+/gTxgUmxDwhI9tCLBKRWJRXuvYk9V1fsXnR7ql9qlOT\n",
       "bbs9gsMpL42pSI1E2TLmjbdjJnVmrbaYNzxTXt5saj/nMXkZhYxMZgMwHVDY32Rm68p5kHEDNc5C\n",
       "Plf9Hn4zvJvnxg9yMrX2xgJ8u/cZVrjKebDwOgptWYbGKcTFUK1Wyt/3IH1P/JaJAwfj/V0PPYwW\n",
       "ClH24LtRpGaGEGckV5RCLBL7+4/gDSf2yqzPraE4vcDAiFKD368xPJKohJyZGUJeGlNTwaFG3LHE\n",
       "lOKBpdWEnTI1dz6JAc7MonMeU+dWmDysEY7MTL470maitjRGbub8GBW2qmYeKLyWdenV/Lh/B0Ph\n",
       "xEyMBl83/9D2c96as5a78jZgV63neCYhUodiMlFy3zswu5yMvvp6vL/n54+ihcNU/MEHJOEW4gxk\n",
       "GrkQi4An5k2qPu4w29laus7AiFJHd2/ytNXMjJBBkYhzsYWjFO1viLcjNit9y6Xw1EJkNuvUVPjj\n",
       "bR2Flw9aUnbv7bOpdRbxuer38NbsNSinbBIWQ+PpsTf5+9ZH2DvZIlPLxbyhKAqFd9xOwVvfktTf\n",
       "9/gTdHz/h/K7LMQZyPCNEAtcTIvxZqgpXrQHYFv5BmxmGVGB07f8gvR0SbZT0ZqeUUyRxM+qZ9US\n",
       "YlaLgRGJqyk3O0J2ZpjxiZnXqdFJlaPtJlbXxs5zZmqxqmbeXXgd2zKX8sjgy7T4B+KPTUR9fLfv\n",
       "WR7rfIXlgQLSNdsV+TddZge3bb72ijyXEGeSd+MNKBYLg08+He8b2P4kWiRCzR99AkW28xAiTpJt\n",
       "IRa43zU/z4SWWOdanlFMdVa5gRGljmhMp70zkcCVFJsxyTVCynGMeagf8MTbgTQXQ7UVBkYkrjZF\n",
       "gdpKP/sOmdD0mboS+5rMVBVrpDnn3+hZqT2X/1fxTnZPHeexodeZjCZG7sctAV6zdFLrLGKNuwqH\n",
       "6fJuhI41Dpz/ICEuU+62a1BMJgZ+9/t439Azz6FHItT+2Z+gmKQejBAg08iFWNC6J/p49Oj2eNus\n",
       "mrmufJOsqzqhuzuStOVXbbWM9qccXafipT2op+RX3WuXostdkQXPbtMpyRuJt6MxhVcPmZmvM1UV\n",
       "RWFrRj1frHk/t+WsRTnl+9CBFv8AT4zs5sh0F1F9fo3gi8UpZ8tmSt75jpm7YycM79hJ6/98B32+\n",
       "rfsQ4iqRkW0hFqioFuObex4iqiWq+G4tXYfb5jIwqtTS3BKOf62qUFtj5UjDOU4Qcy6nuZ20/uF4\n",
       "u8tqZqzs3AW2xMKRnzlOMJzPyMTMzZWeYRNtfTFqS+fuQv5I6/Er/pxmoGjAhLYmncFwYtZGVI9x\n",
       "0NtBi7+fdWnVVNrz5eaoSGlZG9ahmM30/upxThZWGH7+BVSLhepPfkx+f8WiJ8m2EAvUE41P0+Hp\n",
       "ibdL0gpZlicFpU6KRHTaOxPJdnmpBYddRktTiSkYouy1/fG2pqq8mGFniVy8LRqKMrP39uMvWdH1\n",
       "mZ/7rqMWSvND2OdoIkpEiZGz7Mrf4NHaGrk1ezV9oXH2T7UxFUtMLffFQrw60UijpZeN6bXkWzOu\n",
       "+L8vxJWSuWYViqrQ8+hjnJx6MvjU06gWM5Uf+ZAk3GJRk2RbiAWo09PDrxqejLfNmLixcou84Z2i\n",
       "vTNM9JSte5fUyRTyVFP6xkEsgUTBur7lNUyMDZ/jDLHQ9A3PTCMvyMpncDwXgEBI4cnXA1QWJtYm\n",
       "dw2O0tDWwYqaKkPivFSKolBqz6HYlkWLf4BD3g5CeuKFaSzi5ZmxA1TY81iXVk2aWba6E6kpY9VK\n",
       "tGiMvsd/HU+4+3+7HcVioeKD75frD7FoyTCOEAtMNBblm7sfIqYnplmusdXJ9PHTHD9lCrnJBNVV\n",
       "kmynEtfQKHlHE9N3p6xm+lbUGRiRMEJUV3BmFlFTbcJuS6xjHp3MIqyW4cwswplZhNWZQSgyTxdz\n",
       "A6qiUu8q4R35W1juKkMlOTHpCo7w25E97J9qI6xFzvIsQhgra90aiu99e1Jf369+Tc8vfmlQREIY\n",
       "T5JtIRaYx479nq7Jvnh7XdFKKsyyxvVUwaBG5ylbflVVWLBZ5a57ytA0KnbuTko33ijPRjNLddvF\n",
       "ymSCuip/Ul9Lh3Pe7b19PlbVwob0Gu7J20yFPS/pMQ2dY74enhjZQ7OvD01fYN+8WBCyN26g6O47\n",
       "k/p6fvYL+rc/eZYzhFjYZBq5EAtI61gnTzQ+G2+7LA4+uen9PLfjOQOjSj1tHZGki/QldVdmf1tx\n",
       "ZeQ1tOAaGY+3x0oL6Ml0sMzAmITxsjKi5OeGGB6d+XsNBE1099upLA0CiSnnF8JmUVJ6ynma2cEN\n",
       "WSsYDk+yb6qVsUhi+8aQFmHPVAtNvj42pNdQYsuWKboipeRs3YIeizH41DPxvo7v/xBrZga518ke\n",
       "8GJxkWRbiAUiHIvwzT0PJY12fHj9e8h2ZBoYVWo63pJYB2y1zIxsi9RgmfZRuutAvB0zqXRuWAl9\n",
       "bQZGJVJFdXmA8QkL0eiJ6uT9dvKyZ5aEnJxyfiH8E/NjL+p8awZvy1lPZ3CYN6fa8WuJ166pmJ8X\n",
       "PUcotGaxMb2GLIvbwEiFSJZ77Ta0UJjhHS/OdOg6x//9PzGnpZG5ZrWxwQkxh2QauRALxKNHf0ff\n",
       "1GC8vbFkDddXbDYwotQU1Sz09CUKEFVXWTGbZVQoJeg6VS+8jjmcmOLfu2oJIbfTwKBEKrFadGrK\n",
       "A/G2riu0dLiYv6u1z09RFKocBdybv5m1aVWYleTlFINhD9tH97FroplALHSWZxFi7uXdfCPZWzbF\n",
       "23o0StM/f5Xp9nYDoxJibkmyLcQCcHSoid81PR9vp1ldfGLj+2Rq4RlMh3JOFkoFpAp5Ksk/cpyM\n",
       "nsQNI19WOv1LawyMSKSi/NwwmemJGzJT02Zi5goDI5obZsXEKncF78jbTJ2ziNNf3VsDAzwxsptW\n",
       "2xhhLXrG5xBiLimKQtFdd5K+Ynm8LxYIcOwLXyI4OHiOM4VYOCTZFmKe84am+a/dP0Y/ZWznoxve\n",
       "S6Y93cCoUtdUKDf+td2mUF4qU8hTgd0zSenryXtqt2xbh26StymRTFFmiqWpSuI1L2pdQUxbHDfO\n",
       "HCYbWzPquSt3I0XWrKTHorrGcccon2t7hMPeTmMCFOIUiqpSev99OCsr432RiQkaPv9FIpOTxgUm\n",
       "xByRqxgh5jFd1/nW3p/gCSTesG6o3MK28g0GRpW6prwxgtHETYjaGismk4z+G07TqHr+NUzRxNZO\n",
       "3WuW4s+UG0bizBx2jfLSxHRyFAvTgcU1CyLL4uYt2au5JWsVGebkpRZjES//1fN7vtnzZFJxNSGM\n",
       "oFosVHzgvdgLC+J9wcFBGv/5q2gR2cpOLGySbAsxjz3X9gr7+g7F2wXuPD66/kEDI0pth48mr2es\n",
       "lynkKaFo/1HcQ2Px9mReNv1Lqw2MSMwHpYUhXI7EdOlwJI8xz+KaqaIoCiX2HO7O3cjm9DpsavL3\n",
       "f9DbwedaH+Gp0TeJ6rGzPIsQV5/JbqfiDz6AJTNRtNXb2ETrN7+Nri/kqgtisZNkW4h5qmeyn4cO\n",
       "PhZvmxSVv9j6ERwWu4FRpa5wWOdIQyLZzkhXKS6SDRmM5hweo3jv4Xg7ZjbRes1aUGXGgTg3VYW6\n",
       "aj+csoSmvdux4PbevhCqolLvKuHevM2UhzKT1nOH9SiPD+/iH9t/QbOvz7AYhbCkp1Pxwfej2hLb\n",
       "bY68uJO+X/3awKiEuLok2RZiHgrHIvzHrh8SiSWmX71n1T3U5lQaF1SKO3osSDicuChfv9aOKgmd\n",
       "ocwxjernXkPVEj+Xjg0rCKW5DIxKzCfp7hhF+eF4OxA00T9kO8cZC5tNtbAyUMBnqu6nwp6X9NhA\n",
       "yMPXup7gh33PMxX1GxShWOzsBfmUveeBmeILJ3Q9/FPGdr1hYFRCXD2SbAsxD/3k0ON0TyZGKFbm\n",
       "13PP0rcaGFFqi8V0DhxKjGo7HArLly7eC/KUoOtc0zKAw5OoNzBeUsBwTbmBQYn5qKI0AHrixmN3\n",
       "n51IZHHfSKtyFPC3VffzvsIbcKjJy2V2TTbz962PsHP8KJq+CKcBCMOlLamj6M47kvqO//t/Mt0m\n",
       "W4KJhUeSbSHmmf39R3i6ZWe8nWZ18WdbPoSqyJ/z2RxvDTPtS1xUrllpl721DVZwqInqkal4O2Kz\n",
       "0rZlddJohxAXwmrRMYeb4+1oTKWrT5bTqIrKzdmr+GLt+9iasSTpMb8W4qeDL/Hljl/RGRg2KEKx\n",
       "mGVv3UL25sQe3FooROM//TPhcY+BUQlx5cmCRSHmEU9gkv/Z879JfX+0+YNkOzPPcobQdZ39B4Lx\n",
       "tkKM1StlVNtIaX1DlL2W2OZLVxSar9tAxCEJkrg0pmgHmqMGTXMA0D9ko7gghNOx+EZuj7Qen9WX\n",
       "jcIWcxkNjiGmTYlp913BYb7U/kvKw5nUB3Ox6KZzPrfL7OC2zdde8ZjF4jOzB/fbCI2N4Tsxoh0e\n",
       "H6fpq19j5Rf/AdWyuIodioVLkm0h5omYFuM/dv0Ab2g63ndb7Q1sKlljYFSpr7snwth4ogpvhn0Y\n",
       "hyPvHGeIq8ky7afm6ZdRTqk+27luGVOFuec4S4hzU9Bw29uZ8q+I97R3O1lZP33O8xaiiBIjZ1nR\n",
       "rP4coEavotHXw2FvFzFO3IhQoNs2wbDDx8b0Wirt+ShnmWEy1jhwFSMXi41iMlH+4Ltp+873CY+O\n",
       "AjMVyjt/9BDVn/iYwdEJcWXIvFMh5omfHfktx0Za4u2y9CL+YM27DIxofth36qi2AlmOfgOjWdyU\n",
       "WIzap17CEkj8TEYrihmQbb7EFWC1jJGRlli7PT5hYXxCxhROZVJUVroruCdvM6W2nKTHglqEVyca\n",
       "eX78sBRQE3PG5HBQ8f73JlUoH/j9Uwzv2GlcUEJcQZJsCzEP7Ok9yG+bno23bWYbf7nt41jNsk/0\n",
       "uQyPROntS+zDW1ttxWIKneMMcTWVv7IP99BovD3usNC6dY2s0xZXhKJATUWA5K3AnMgWvrO5zXZu\n",
       "zl7FTVkrcZmSl28Mhj38bmQvh7ydxGRvbjEHbHm5lL7rnUl9bd/6DtPtUjBNzH+SbAuR4ga9w3xz\n",
       "z0NJfZ/c+H5KM2ZPExTJ9r4ZSGpvWCdrgo1S+GYD+UcTa0mjFjMv1OSjmWXkUVw5bleMgrzEmmR/\n",
       "wMTQqNyUPJsyey735G1ipasc5ZTduTV0Dk938ruRfQyExg2MUCwW6cuXkXfj9fG2Fg7T9M//SsTr\n",
       "NTAqIS6fJNtCpLBQNMy/vfZdApHEtNs76m7iuopN5zhLAHR1h2ltS0wpLS0xU5AviZ0RcpraKHv9\n",
       "zaS+lm3rmbJLARxx5VWWBlDVxHB2V68dbfHVSbtgZsXEuvRq7s7dSL4lI+kxbyzA8+OHednTgC8W\n",
       "PMszCHFl5L/lFty1NfF2aHiY4//2DfSYzLAQ85ck20KkKF3X+d7+R+g6ZT/tupwqWad9ASIRnR0v\n",
       "Ja853LrZYVA0i1tGZx9VL+xK6utcuwxPaYFBEYmFzmbVKS5ILBcJhU0MDssOBOeTaXFxW85arsmo\n",
       "x6Yk35jsCo7wm5E9tNrGiGiS+IirQ1FVSt99P5bMxA4rEwcO0vPoYwZGJcTlkWRbiBT1QvurvNy5\n",
       "O95Os7n5y20fw2yS0dnzeWNPgClvYihr5XIbJUUyijrXXAMj1Dz9UlLl8f6l1fQvrznHWUJcvrKi\n",
       "ICbTKaPb/XZkcOz8FEWh1lnEPfmbqXEUJj0W0zWOO0b5fNsjHPJ2GhOgWPDMTifl73sQ5ZQlRj2/\n",
       "+CUTh48YGJUQl06SbSFSUNt4Fz9889F4W0HhL7Z+hFxntoFRzQ9Dw1EOHE5Md3Q6Fa67Rka151pW\n",
       "OMKS7TswRRMZznBlCZ3rl0tBNHHVWSw6pUWJ14FIRKVvSEa3L5RdtbItcym356wly+xOemwkMsV/\n",
       "9/ye/+zezlBowqAIxULmKC6i+O13Jzp0neNf/wbhiUnjghLiEskQmRAp5Mnnn2I0OM4O/z6ieqKK\n",
       "9nJrFY37j9LI0Ut63sONR7l5aeH5D5znNE3nhZ2+pOrDN13vwmaT+4pzyTbp5Z7+cczRxOwCT1Ee\n",
       "bdeslURbzJmSwiD9gzYi0Zm//95+O8X5YcxmKU9+ofKtmdyZu4EWfz8HvR2ET3lfOjLdxbHpHm7M\n",
       "XsFduRtJNzsNjFQsNJnr1+Lr6GDi4CEAIp4JWv79P1j++c+iqPKeLuYPSbaFSCGTwSn2K8fx64kR\n",
       "mfKMYrbVbkG5jCQleHjflQgv5R04FGRkNDGSWlVpobZapo/PpQx/iKW/egbrKYm2NyeT5hs2ossF\n",
       "kphDZhOUFQdp755JAqMxlZ4BG1VlUujrYqiKQr2rhEpHPm90N9Bjm0Q/sb1aDI0d40d4baKJ27LX\n",
       "clvOWuwmqf4uLp+iKBS9/S78vb2ER8cAmDh4iL7Hn6D0/vsMjk6ICyfJthApQtd1DoSaGYgOx/vS\n",
       "rC5uqrrmshLtxWLcE+ONvYmtviwWuPl6J4qicKShkUBwJgnv6Opjz/6zzxDo6x+gLku2VbsUjtFx\n",
       "bj/chTWSuOHhT3fTeNNm2eJLGKK4IETfoJ1QeOZGT9+gnZLC0HnOEmdiUy2sDBTwh0tv42eDr9Aa\n",
       "GIg/FtIi/G50Lzs9R7krdwM3ZK3EopoMjFYsBCabjbL3vJv273wPPTozq6LrpzHJVVwAACAASURB\n",
       "VD8jfcVy0pctNTg6IS6MDDMIkSKePL6Dzmji4sWimrm97kbsZllneD7+gMZvf+8lmpjhyLVbnaSl\n",
       "zVzsBYIxnFlFOLOKsLky41+f6SMSlT2CLoVraJSlv34Ox6mJdkYaDbdeQ9Quv8PCGKoK5SWJm3Ca\n",
       "ptDdZzcwovmv3JHHpyrfySdLbyffOnursJ8Pvcrft/2U1yYaiepSlU5cHkdRIUV33pHo0DSav/bv\n",
       "RKZk/20xP0iyLUQKODBwlP899KukvluqryXbkXmWM8RJ0ajO9qemmZxKJMnFRWZWrZAEb664+4eo\n",
       "f+J5zKFwvG/IrHL01muIOCSxEcYqzAvjsCeSvoFhG6GILC+5HIqisDG9li/UvJcPFN1Ixmnrtcci\n",
       "Xn7cv4O/a/kJz48dIqRFDIpULARZmzaSvnJFvB0eHaXlP/8bXZf6CyL1ybw+IQzWOzXAN3b9IOlN\n",
       "Y0vpOioySwyMKrWdnBau69DSlsnYWOJCz2aLUlw0yL4DieRbpoZfPZlt3VQ/92pS1fGp3CweN8VY\n",
       "IyPaIgUoClSUBmhqnamqresK/aO5Bke1MJgVEzdmrWRrRj0vjB/m6dE3CWiJm27j0Wl+MfQq20f3\n",
       "ckv2am7JWo3bLDfgxMVRFIWSd9xDoK+fiMcDgGfvPvp/u52Se99ucHRCnJuMbAthIG9omq+88i0C\n",
       "kUTBniU51awukLVI53JyWvjgWFFSom0266zdZCIjv0Cmhl9tuk7h/qPUPfVSUqLdn2bn2C1bCalS\n",
       "Z0CkjrzsCC5nYp3J2FQmE175Hb1SbKqFO3M38OXaD3JbzlqsSvJYji8W4ncje/l0y0P8fPAV2TJM\n",
       "XDST3U7Zex5AMSVqAXT970/wHm8xMCohzk+SbSEMEo1F+frr32NoeiTel6NmcH3FJimIdgH6e6Gz\n",
       "LfH/pCg6q9aB232Ok8QVocRiVO7YRdmuA0n9nuJ8nq3LR7PIpCmRWhQFqsoCp/awr0l+T680t9nO\n",
       "AwXX8pW6P+TteZtwmZJnt4T1KC+MH+azbT/la51PsGeyhYgm67rFhXGWllBw+1vjbT0apflrXyc6\n",
       "7TMwKiHOTZJtIQyg6zrff/PnNAwfj/flObPZal+FSSq4ntfIqIPG0wqKL10B2TnGxLOYmAIhlvzm\n",
       "efIa25L6B+sqaLpxEzHZ3kukqKyMKOnuxOh2e7+J0Qm5sXk1uM127snbzFfq/pD3FFxHtnn2XdBm\n",
       "fx/f63uWT7X8mF8OvsZgyGNApGK+yblmK2lL6+Pt0NAwrd/8lqzfFilLroqEMMAvG7azo/21eNtu\n",
       "tvHp6/8Euyr7k55PY1OI1rZMIHGRXFGlU1xqXEyLhWPUw/LHniK9P7E9na5A+4YVtG9aJftoi5Q2\n",
       "e3Qb9jbK6PbVZFMt3Jqzhi/VfYAPF7+FYlv2rGOmY0GeHT/I37c9wlc6HufF8SNMRf0GRCvmA0VR\n",
       "KLnvHVgyEpXwx17fxeDTzxgYlRBnJ+8yQsyxZ1tf5rGGJ+NtBYU/3/phyjNL2GVgXPPBsaYQz+3w\n",
       "cWqiXVyqU7PEuJgWi5zGNipe2p20PjtmNnH8ug14SgoMjEyIC5eRHiUrI4JncqYaec+wiYHRKEW5\n",
       "Mip2NZkVE9syl3JNRj1tgUFe9jSwb6qVyGlbg7UGBmgNDPCzwVeodxazKaOOdWnVpJkdBkUuUpHZ\n",
       "6aTsPffT/v0fgTZTk6XjBz8mrb4ed3WVwdEJkUyGIYSYQ7t7D/CD/T9P6vvohgfZWLLGoIjmj4bG\n",
       "k4l2QkmZztIVMyNW4uowxTQqX3id6hdeT0q0gy4HR267ThJtMe9Unja6vafRgsxAnRuKolDrLOIj\n",
       "Jbfyr0s+xIOF11NyhtFuHZ0mfx8PD+zkr4//iG90/Y6XPQ1MRmVtrpjhLC+n4NZb4m09EqH5X79O\n",
       "1B84x1lCzD0Z2RZijhwbPs5/7vohOomruvtX3MlttTcYGNX8cPRYkBd2Jk8rLCnTqV8uifbVZJuY\n",
       "4s5DnWT7Qkn9E4W5tFy7nohs7SXmoTRXjKy0STzemWmoQ+MqXYMqlUWya8FccpnsvCV7NbdkreLn\n",
       "+5+jxTTMoMVLRE3+OWjoNPi6afB18/AAZEbt5EfcFETcuDUrCud+E3CZHdy2+dqr+a0Ig+Redy2+\n",
       "jk6mW1oBCPb30/7t71L3l38uhWZFypBkW4g50DXRy1de/RYRLVGc59bq63hgxd0GRpVaTu6dfVJH\n",
       "Vx979h9laNhJe0dm0rFu9zD1y/Mk0b5adJ2c4x1U7NyDKRJJdAO9K+voWVUPsrWXmMdKckeYmE5H\n",
       "12d+j99oMFNWEMYk8/3mnKIo2MMqNy1bh6ZrDIQ8dAVH6A6OzJpmDjBhDjJhDnLcMYrbZKfUnkuZ\n",
       "LYd8awaqMvsHONY4MBffhjCAoqqUvuudtH7z20S9XgBGXnqZjNWrkka9hTCSJNtCXGXDvjG+/NJ/\n",
       "J+2lvbFkDR/d8KDceT3Fyb2zT7K5Mhn3FtHekfx/VFquEw13oSh5cx3iomAKhqh4aTc5LV1J/RGb\n",
       "hZZt65kozjcoMiGuHLs1zLLKGMc6Zi6DpnwqDR0mVtfINlRGUhWVEnsOJfYctuhL6A+N0xkYpi80\n",
       "dsbEezoWpMnXS5OvF6tipsSWTak9l2JbNlZVLnEXA7PbTekD76LzRw9xcj1I+3e+R9qSOpzlZQZH\n",
       "J4Qk20JcVVOhab780n/hCU7G+5bm1vB/t35Etvg6jwilNB9LTrTLKnTqlkLjYYOCWuDSegeofv51\n",
       "rNPJU/ancrM4ft0Gwi4pUiQWjo31UVp7TISjM68zbzabWVIWwy6bQqQEk6JSZs+lzJ5LTNcYCk/Q\n",
       "GxyjNzSKLxaadXxYj9IRHKYjOIyKQoE1kzJ7Li5FbqAsdO7qKvJvvpHhHTsB0MJhmv/131j9ta9g\n",
       "sslyJ2EsSbaFuEqmQtN88cVv0O8diveVpRfxqev/GKtZrubOpbcbQixL6juZaMtkgCtPicYo2X2Q\n",
       "wgPHklY/6gocLMwgeNM22dZLLDh2G6yvj/JGw0xl8nBE4c1mM9tWRc9zpphrJkWl2JZNsS2bTXot\n",
       "nug0vcExekKjjEemZx2voTMQ9jAQ9kAGtLX/gjXuKtakVVFuz5VZZQtQ3k034uvowtfRAYC/u4f2\n",
       "7/6Auv/zJwZHJhY7SbaFuAq8oWm+uPM/6Jrsi/flOLP42xv/D26ry8DIUt9AH7NGtMsrdWrrJdG+\n",
       "GlwDI1TteB2HZyqpP+h20nLNOt709LFMEm2xQK2oitHQYcLrn/kdb+gwsbwyRmaalCc/kyOtx6/K\n",
       "8zZ0tnHDsqLzH8jMGu9sSxrZljRWp1XiiwVPjHiPMRjyoDH7Z9cdHKU7OMrvRveSZXazJq2SNWlV\n",
       "1DtLsMgsswVBUVVK3/0uWv/7W8R8M1Xrh59/gYxVK8m/SQrRCuNIsi3ERXry+afwhmbfST8ppEd4\n",
       "JXCASS1xjE2xsp4lPP/i8+d87sONR7l5aeEVi3W+GRmGxqPJfZJoXx1qJMJ1I5Ms+9XTs2r5DleX\n",
       "0bFxBTGLBTx9ZzxfiIXAZIItK6I8v3dmtpGuK7xxzMwdWyLnOXNxiigxci4wKb4YobbGSz7XZbJT\n",
       "7yqh3lVCRIvSHxqnNzRGb3CMsD57loInOs1Oz1F2eo5iVy2scJez1l3FqrQKXCb75XwbwmCWtDRK\n",
       "77+Procejve1/c+3cVVV4qooNy4wsahJsi3ERfKGpsk5S0IcjIbY2bwjKdF2mO3cXf8WshwZ533u\n",
       "4OF9VyzO+WZyykpTM/HqwAClFZJoXw2FEz5W/Gw79qnktdkRm4X2TasZqyg2KDIh5l5VkUZhjsbg\n",
       "2Mzodvegid7hGKX5shXYfGNRzVQ48qlw5KPpGiPhKVr6u5hOizESmZp1fFCLsH+qjf1Tbago1DmL\n",
       "WZtWxYb0GrIsbgO+A3G50upqyb3hekZffgUALRSi6V++ypqvfQWzS2YWirknybYQV0gwGuL3x3cw\n",
       "FvDE+y4m0V7MhoajNDdno2mJrNpMP0uWFkmifQWZQmFKX9vPpmPdsx4bLS+mY9NK2TtbLDqKAtes\n",
       "iPDrlxO/+68eNvOum8JY5Cpp3lIVlQJbJuZggHesewuDYQ8HvR0c8nbSHhicNdlcQ6fZ30ezv49H\n",
       "h15libOELRlLWJ9eLSPe80zBW24m0NuLr31m/Xawf4CW//gvlv7Np1BkWZSYY/I2IsQVEE+0/ZJo\n",
       "XyyPJ8YT273EtMQbYG6+TmD4GIpy5acrLlYZHb1U7tyN1Zc8mh2222jfvIrxMvm/FotXXpbOkrIY\n",
       "x3tm1u9O+VR2N5i5bo0US1sIFEWhyJZNkS2bt+VuYCrq57C3k4PeDhp9vbOmm+sQT7wfGXyJle4K\n",
       "tmQsYbW7UrYUmwcUk4myd99P6/98h+jUzIyG8d176Xv8CUrvv8/g6MRiI68YQlwmfyTAUy07kxJt\n",
       "u9nGXfW3SKJ9Hj6/xhPbvQSDiTGGrGydlWtg33NSoOhKMAVCVLyyl5zjHbMea3BYmL7rJmI2qY4v\n",
       "xNaVEXqGVQKhmek0xzrNVBbJVPL57lxF3UqwUUgVo2Y/w5ZphizThNXkrcKiusZBbwcHvR2YdZWi\n",
       "cBpl4QyKlSxu33zd1Q5fXCKz2035e99Dx/d/iB6b+Zl2/fRnuGtryFy7xuDoxGIiybYQl2EyOMWT\n",
       "LTuTCqbZzTburn8L2Y5MAyNLfZGIzm9/72XKm7iYTUvXWb1+pmiRuEy6TvbxTspf3YclEEx6aNpq\n",
       "ovvajTzX1MRmSbSFAMBuhRvWRnhmd+Jv4qUDFnJ1uVSazy6kqFs+sBzQdJ2hsIeOwDDdwREi+mmJ\n",
       "t6LRY5ukxzaJOzaIMuZia0Y96Wbn1fsGxCVzlpVSdNfb6P/t9pkOTaP5377B2q9/FVtenrHBiUVD\n",
       "Fi4IcYmGp0f5TdNzkmhfAk3TeerZaYZHEhcyNluUtRvBLNe1l80+Pkn9E89R89yrsxLtgbpKHl9R\n",
       "wkRxvkHRCZG6Kgo16ssTU4p9QYUxfbmBEYm5pJ6Ybr4tcykPFGzjxswVlNtzUWft2QDTpjC/HHqd\n",
       "Tx1/iG/2PMlBbwfR05JzYbysTRvJXLc23o5OTdH45a8QCwQMjEosJnJZK8Ql6Jro44X2V4lqiTfW\n",
       "NKuLty25mUx7uoGRpT5d19n5ip+OrsTWOna7wtIlY1itkgBeDjUSoXjvEQoONqJqydNfA2ku2ras\n",
       "Zqogl0jzEYMiFCL1XbMySt+IienATII1rZfSORCWKeWLjEkxUe7Io9yRR1iL0hUcps0/OKuqeYzE\n",
       "NHOrZqI0nE5pOAO3dmnFJl1mB7dtvvZKfAuCmfX6xffcTXBwkODAIAC+9g6a/+0bLPvMp1BkKp24\n",
       "yiTZFuIidUT6OdDajH5KLdNcZxZ31N2E0+IwMLL5Yf/BIEcaQvG2yQRvf5ub3n4ZEbhkuk7ZqJeV\n",
       "j/wOm9eX9JCmKPQvq6F3VR2aTBsQ4rysFrhxXYTfv56YTv7KIQs5GWHSnFJLYjGyqmbqnMXUOYuZ\n",
       "jPpo8w/SONGNZkke8Q6rMdrtHtrtHnIt6dQ6C6mw519UUbWxxoErHf6ip1oslL/3PbR9+3vE/DNF\n",
       "Qj1799Hxo/+l+mMfNjg6sdDJNHIhLpCu6zx6dDtvhpqSEu3S9CLurr9VEu0L0NwS4rVdyVO3br/V\n",
       "TXGRxaCI5j/bpJe67S9yS2PvrER7siCHQ3fdSPe6ZZJoC3ERSvI0VlQlppMHQgpPvm4hEDrHSWJR\n",
       "yDC7WJ9eQ95hnZuzVlJmy0U5wzTz0cgUb0we57Gh13ltopHBkAddl5s1RrFmZ1P+/veinPJeOPC7\n",
       "7Qz8/ikDoxKLgVx9CXEBgtEQ39v3CK907Unqr8up4saKLaiyb+N59fZFeO6F5GTw+mud1NVIga5L\n",
       "oURjFB5ooHjfUdRY8qyAsN1G5/rljFaWIBuVC3FptiyP0j+q4vHOvL5P+lSe2mXl7mvDWOX+4KKn\n",
       "AKX2XErtuQRiYToCQ7QGBpiMJm+vGEOjPTBEe2AIt8lOjaOQGmeh7N1tAFdFOSX3vYPeRx+L97V/\n",
       "/4fYCvLJ3rjBwMjEQibJthDn0Tc1yNdf+y49U8lTu9YVrWBj8WoUSWbOa3w8xvanp4mdsuRx7Sob\n",
       "61Zf2pq2RU3Xyejqp/yVvdgnvckPKTCwpIqe1fXEJBsQ4rKYzXDnNWF+/qxOjJmZS6OTKs/tsXDH\n",
       "1ojsmiDiHCYry91lLHOVMhbx0hYYpCMwNKua+XQsyKHpTg5Nd1Jsy6LGUUSZPReTIjfs50rm6lWE\n",
       "x8cZfn7HTIem0fyvX2fVP/8T7uoqY4MTC5Ik20Kcw6tde/nOvp8SiibPHbyufBPL8+sMimr+ONLQ\n",
       "yOSUztGGXELhxMtNdlYAu6OfvW8mju3rH6Au69zbsyx2jjEPZa/uJ6Nn9pq+YZeNgRu24MuWvd2F\n",
       "uFJcDihU9zBmvoFgeObGat+oiRffhFs2RlDlXqs4haIo5FrTybWmsyG9hp7gKK3+QQbDnlnH9oc8\n",
       "9Ic8WBUzVY4Cap2FZFvSDIh68cm78QbCY+NMHDgIgBYMcuwL/8TKL30BZ2mpwdGJhUaSbSHOIBKL\n",
       "8NCBx3i27eWk/gxbGquVWpZJon1Bpn0ax9sKCYUTV6TpGTqrN9oxmZIT60h331yHN284ojEqXnyD\n",
       "vGOtKKet+YtYLXStW8ZL0UmWSaItxBVnVXzcsTXM9tesRGMzr2Xt/Sa0vXDTuohMKRdnZFZMVDkK\n",
       "qHIUMB0N0BYYoi0wgC+WfPM+rEdp9vfR7O8jy+ymyOpkOhrEbZZp5leLoigU3/t2IhOT+Do6AIhM\n",
       "THD0s//Aqi/9I46SYoMjFAuJzFsR4jTDvjE+98K/zUq0l+XV8pXb/5Z8c5ZBkc0v0ahO8/FsvFOJ\n",
       "RNvh1FmzAZl+eYHUSISifUf4YNcI+Q0tSYm2DgzWlnPg7TczXFsha7OFuIrys3Ru2xxBVRJ/g50D\n",
       "Jh5/ycrohPztiXNzmx2sSavknXlbuTV7DZX2/DPu3e2JTnPMOcz/a/kR/9PzFPun2oho0TM8o7hc\n",
       "qtlM+fveg72wIN4X8Xg4+tnPExiQivDiypGRbSFO0HWdFzt28fDBx/BFkitm37v0Nh5cdQ8mVbLE\n",
       "CxGL6Tz5zDSTU4k12RaLztoNYJV6aOelxGIs7Rtn9f4nsPiDsx6fKMylc/1y/Fkyki3EXCnN17h5\n",
       "Q4Qd+y3o+kyiNOVT+c0rVratirK0Iib3vMQ5KYpCkS2LIlsWIS1CZ2CYtsAgY5Hk+htRXeOAt50D\n",
       "3nYcqpX16TVsyVhCvbMYVdZ3XzEmh4PKD/8hHT/8MaGhYQDC4+Mc/bvPs+rL/4i9sNDgCMVCIMm2\n",
       "EEC/d4jv7XuEhuHjSf0ui4M/3fKHbCxZY1Bk84+m6TzzvI+Orki8z2SaGdF2ugwMbD7QNHKaOyjZ\n",
       "c2jWNl4AgTQXneuX4ykpkJFsIQxQU6LhcoR5Ya8VX3DmbzCmKbxyyELfiMqWFVHZi1tcEJtqod5V\n",
       "Qr2rBE9kmtbAIB3+QUJ68kh2QAvz2kQjr000kml2sSm9lg3ptVQ5ClDlfeCymV0uqk4m3MMjAITH\n",
       "xjj62c+z8ktfxF6Qb3CEYr6TZFssatFYlN80Pcvjx56aNVWrOqucv9r2cfLduQZFN//ous7zL/po\n",
       "aQvH+1RVZ/V6yMg0MLAUp8Ri5DR3ULT/6KwK4wB+VWFw/QqG6irQZZs5IQxVmK3zrptC7HjTQu9w\n",
       "YrZTe7+JzgGVgmwP+ZkjWMyxczwLdA2O8mZTOzaLwooaqYK8mGVZ3Gyy1LI+rZrGtlb0QhtHvF3E\n",
       "0JKOm4j6eG78EM+NHyLT7GJ9ejUb0mqpdRbKiPdlMLvdMyPcP/gx4dFRAEIjoxz5zN+x7O8+g7um\n",
       "2uAIxXwmybZYtJpG2vjuvp/Se9qWXmbVzDuX3c47lt2OxSSVby6Uruu8+LKfxuZEoq0oOqvWQXaO\n",
       "gYGlMDUSJfdYC0UHjmGd9s96PGox07e8hu2DA6yrl4txIVKF3QZv2xrhwHGN/U1m9BPrbzVdYWAs\n",
       "myFPFqVFQUoKQlgsZx7ptjozcGYW4Z+Q9aFihklRKYqk8c6yW/HFguyfamP35HGO+/tnHTsR9bFj\n",
       "/Ag7xo+QbnKwLr2atWnV1DuLsahyeX+xLGlpVH3kRMI9NgZAeGycI5/5LEv+6i/I2brF4AjFfCV/\n",
       "jWLRGZ4e5bGGJ9nZuWvWY8vyavnExvdTki7rdC5GNKrz7AvJI9qKAnW1HnLzpKDc6cy+APkNLeQf\n",
       "bsISDM16PGZSOZrnJnTdNURtViLDgwZEKYQ4F0WB9fUxinI1Xj9iYWwyMbKoaQrdfQ56+u3k5YQp\n",
       "LgiR7j73SLcQp3KZ7NyQtYIbslYwHvGyZ7KF3ZPH6Q2NzTp2KhbgJU8DL3kasClmlrnLWOWuYLW7\n",
       "kkyLrN+6UJb0dKo++iE6fvhQfIRbC4Vo+pd/peIPPkDJO+9Fkan74iJJsi0WjeHpUR4/9hQvdb5B\n",
       "TE+emuWyOPjAmvu4uXqbTMW6SMGgxvanp+nrT56Gf9stLqamZ9+NX7R0nbwpP9XPvkJWazeqps06\n",
       "JGY2MVhXSf+yag53t7DMJtXkhLga+k6szbwQXYOjNLR1nHWqd1GOzn03hmnvV9nXaGbSl3gP0XWF\n",
       "4VEbw6M23K4oRfkh8rLDmOXqS5zFkdbjZ31sNbnUqOkMWrwMWqaZNM8uoBnSoxz0dnDQO7OlVXrU\n",
       "Rn7UTW7ESYmSxR2br79qsS8ElvR0aj75Mbp/9ii+9vaZTl2n66GHCfT2UfPHn0C1yKxHceHk5V4s\n",
       "eMO+sZkku2PXrCQbYFvZBj607gEyHVLZ+WJFYlZ++Wsv457EiI2qwltvcbF0iY09+w0MLkWYQmGy\n",
       "WrvIP3oc18j4GY+JWC0MLK1mcEklUUmwhbjqorqCM7Pogo61OjMIRc5d9ExRZoqnVRWFeW7POAPj\n",
       "hYQjyTdup31mWjrMtHU6ycmKEDMVcIZ7bmKRiygxcpad/XczByg/8fV0NEh3cITu4AgjkakzHj9l\n",
       "DjFlDtFqH8Ok99LY5WGZq5RlrlLK7LkywHAGJoeDyj/8AP3bn8Szd1+8f/iFHQR6e6n98z/DWVpi\n",
       "YIRiPpFkWyxY3RN9PNWyk50dr58xya7KKuO9q+5lbdEKA6Kb/waHonRPriKmJRJtqwXuelsa5aWL\n",
       "/K6vppHRM0BOUztZ7T2osTNPHw05HQwsrWKwtgLNIi/HQsx3qgp5mROUlTsY81joH7Ix6U1+PdR0\n",
       "hZFxK9i3svuARpZbo6xQITdDl00GxEVxm+0sd5ex3F1GIBamPzRGb2iMgZCHiD77fSem6Bzz9XDM\n",
       "1wOAU7WxxFVMraOQGmcRFfY8We99gmIyUXzP3djychl86hnQZ264eZuPc+gv/5ry97+X4rffhWKS\n",
       "LWHFuclflFhQ/OEAr3XvY0fHa7SNd53xmKrMMh5YeRcbilfL2ptLEIvp7N0fYM/+ILqe2Efb5VK4\n",
       "96408nIX58uKouuk9Q6S1d5DdmvnGffHPmmiMJeBJVUzW3ip8jsoxEKjqpCXEyEvJ4LPr9I/NDOV\n",
       "PKYl/71HoirDEzn8+iXIdGvUlcWoLY2R5jQocDFvOUxWapxF1DiLiOkaw+FJ+kJj9AXHmIoFzniO\n",
       "XwslTTk3KyoV9nxqHIXUOAupdOSTZXYv2mslRVHI3XYNtpwceh59DC00U2NFC4fp/NFDjO16g7o/\n",
       "/zMcJcUGRypS2ZxfFdfX1zuBzwDvBYqBHuAnwD83NzdHz3WuEGei6zrHRlp4sf113uh9k3Ascsbj\n",
       "KjNLeWDl3WyUJPuSeTwxnnlhmqHh5Dvm2Vkm7r3bTXra4rrDa45pZLZ1k9Xew6qOIextZy9kFrWY\n",
       "OZ7pILRlA4GMtDmMUghhJJdTo64qQHVFgDGPheFRG+MTZiD5fWhiWmVvo8reRgu5GRqVRTEqizSy\n",
       "0mTEW1wck6JSZMuiyJbFxvRafLEggyEPnSMD+JxRJqOzd78AiOoabYFB2gKDcGLVU5rJQbk9j3J7\n",
       "LhWOfMrteeRa0hbVdVRa/RJq/uST9D3+G/xdiYEcb1MzB//v/0fpu++n+O47MTkcBkYpUtWcJtv1\n",
       "9fVm4HHgNuAN4ClgHfAFYAtw91zGI+avYCTI0eFmDgw0cGCggVH/mdfCwsx+2fctfxsbS1bL2qRL\n",
       "FI3pHD4aYtduP9HTbonVVFm49WYXdvvC/79VYhqu4VHSewZJ6x1g/cAwJr35rMfrioKnKI+R6jI8\n",
       "JQU0tB1jmSTaQsw7F1NQrX9klNozrAc3qZCfEyE/J0I4orBvVw/27GVM+2Zfio1OqoxOquxrApsl\n",
       "TLpzmjSnn5x0P+uWls86XohzcZns1DiLyPTDO9a8hcHwBE2+Xpp8vbT6B8468g3gjQVo8HXT4OuO\n",
       "9zlVG8W2bIptWSc+Z1NkyybD7FywSbgtJ4eqj36IsTd2M/TcC+iRmYEdLRym+yeP0P/b7ZS8816K\n",
       "7rwDk91ubLAipcz1yPYHmEm0f9Tc3PzRk5319fU/AD5cX1///ubm5p/OcUxiHtB1nX7v0Ink+iiN\n",
       "I61EtbNPhHBZHFxXsZlbqq+lKqtsDiNdWGIxnWNNIfbsDzI9nbzu3WqBLFsLd92xecG+uZqCIVxD\n",
       "Y7iHRnANjpI2MIwpcv4JON6cTEYrihmtLCXisJ33eCFEaruYgmqRodHzHmO16Jij7axfWcqRY224\n",
       "3SsYGrMRDs++aRmKWBmZzGZkMpv2AWjp0yjI1shO1098aMjLjLhQiqLER71vzl6FruuMRqZo8w/S\n",
       "GhigzT9IX2iMc5UE9GshWgMDtAaS94h3qjaKbFnkWzPIt2aSb82gwJpBnjUDp2n+/5IqqkrutmtI\n",
       "W7KEvl8/gb8rcQMiOjVF10MP0//Ebyh55zsofNvtknQLYO6T7T8FosDfnNb/L8CHgY8DkmwLpkLT\n",
       "tI130jrWSet4F63jnXhD0+c9b1VBPTdXXcvm0rVYTYu8SNdliER0mltm21gWqQAAF3pJREFUkmyv\n",
       "d3ZxueIiM7e9xcXrT48smETb7A/gHPWwvHeMquHXcA2P4vCcubrr6TRFocdiIrpmGZ7SAsJOmUom\n",
       "hLgwZpOfqvIglWVBJr1mxjwWxjwWgqEzL8uZmFaZmE5Oyh02Hbdj5mNMW8bhVhNOu47VMpPY28wz\n",
       "n60WMJuQaekiTlEU8k4kxFsz6wEIxMJ0BoboDo7QFRylKzjMcHjyvM/l10KJaeincZvs5FjSybGk\n",
       "kWNxk2NJI9uSRo4ljSyLG7fJPm+uJ2y5OVR99MOM79nL8IsvEfP54o9FJqfo/PH/0vOLX5JzzVby\n",
       "br6RjBXLpZDaIjZnyXZ9fX0aM1PG9zU3NyfNx2pubm6pr68fArbW19ebZe324hGIBOn3DtE/NUS/\n",
       "d4i+qUE6PN0M+c4/MgAzbxJLcqpZV7SC6yo2k+/KucoRL1zRmE5Xd4TjLWHaO8OzposDWK0KmzfY\n",
       "WbfGjjoPC3spMY2McJSMzl7sE1PYJ7zYJ6ZwjE1gCZxa0Gz4vM8VdDvpsqtQv4SJ4nx2vbqLzUsq\n",
       "r1rsQoiFTVEgMz1KZnqU6vIAvoCJsXELnikz3mkzun7219xASCEQUhiZAKjijYZz/DvomEwxTGoM\n",
       "k0nDpMYwqxpWS4yCnDSsZh2bJZGc2yw6dhs4rPrJgsxigXOYrCxzl7HMnZgZGIiF6TmRePeFxugP\n",
       "jtMf9hDSzlwn53TTsSDTsSBdwTO/v5pQSTc7STc7SDc7yTA7459Pfp1umvnaploMT8wVVSVn6xay\n",
       "1q9jbPceRl95jZg/sRY+FggwvONFhne8iDUnm7wbbyBn6xZcNdWo5sVZSHaxmsuf9mpABY6d5fFG\n",
       "4CagEmidm5DE1eaPBBjzexIfAQ9j/gmGfaP0Tw3hCZ7/TunpMmxprC1awbqiFawuWIbb5jrjcU8+\n",
       "/9QFjYZfrMONR7l5aeEVf965Fg7rDI9EGRyOMjQUpbs3Sjh85ispqwXWrrGzbrU9ZddmK9EYFn9g\n",
       "5iMQxOILYJ32YfX6KB8YJPNgN9ZpPxt1HbpfvOjnD7oceHOzmCzMZbIgl1Cai8bmIyyrlL02hRBX\n",
       "lqKA2xnD7YxRAcRiMDVtZnQ4iK7kMDapEIleWrKhoxCNmYnGzHBanjTkOd/Zd/Dw0woOm47DOpOE\n",
       "2606DpuO3Qr2U/odVh2bVUbRU8mR1uNX5HkygAyyWEomQSVK82g36cVZeE0h/GoYnxohrJ55y8uz\n",
       "iaHhiU7jiZ7/us2qmEk3O3GZbDhNNpzqic+ntF0mGw7TzOeTjztMVszKlR1hVq1W8q6/juzNmxjf\n",
       "vYfRV19PSroBwmPj9D3+BH2PP4Fqt5O+bCkZK1eQvmI57toaVIvMxFzI5jLZPjnkOHSWxydOfM6e\n",
       "g1jERYppMfyRAL5IAH84gD+S+JgKTZ/48DIVmsYbnPk8GfISjIYu+9+2a1bSNRfpMRdZWhppfieK\n",
       "J8qRY4c4wiGKiwpIz8hIOsesqEwEpshffuW3Ywge3nfFn1PXdaJRiGkmgkENTZvZ0lHTdDT95Ncz\n",
       "x53ZqVczM88VjepEojrRCEwG83ljj59pn870tMaUN4ZnYvb08NNZzLB2tZ11a+045irJ1nVM4Qhp\n",
       "kSiO0XFMoQjmcBhTKIIpHMYUCuPuHqSg/yUsgSBmfxCLP4A5fGF31y9ExGrBn5WONzcLb24W0zlZ\n",
       "svZaCGEYkwmyMqLY9BHWL01D12E6AONTKuNTChNeFV8QpgMKXp+OztWasqoSCM2MpF8IhZmEO56M\n",
       "W3XsJ762WfWZthVCegZTPgW7VcdilgT9aokoMXKWXVjtgYvRuL2VTdetSOoLa1G8sQDeaCD+2RcL\n",
       "4ouF8MWCaOdcFX5uYT3KaGSK0Ut427coJmyqBZtqwaqasSsWrCfaMx/mxOOKGbtqwaKasShmzIqK\n",
       "RTVhVsxYFBNmxTTzWT3x+Zp1FG9YTajxONOHjuLv7OT0b1MLBpk4cJCJAwdnOlQVe0E+jtJSnGWl\n",
       "OEpLsBcWYs3O+v/bu/sgSer6juPvnp19uONu75Y7TuFQEAg/OY/HEEGEGIxoYlIUhQVoABGMKREB\n",
       "UUMkJmUoDGAwUAYiVgCJAQkhSCCUIgqGCJbyoEEUuC9yHHcgD8dxz7t7Ow/d+ePXfTfMzdzuTvf0\n",
       "9t5+XlVTv9l+nv3ud7a/3b/upm9oSNd97wTyLLYH47Zd9ZVc8DCt+1bU6jVeGX6NKIr8i6TbVURE\n",
       "Uiw1vieepvH91ndN84bbzRdGIfWwTj1pw5B6VH/jsK2tH14Na1TqVTYMjzBaHaNSr1KpV6iGVSr1\n",
       "KtXQv2rhtvf1aHJHKDsVjg0Qjc4hHJ5HuHke4fA8Rmv9bDvYHlEqQank2yAI6Xu+wuxZ6ymXoacM\n",
       "5Z6A6sgI/T1lBteNUC5DuRzEL+iN3/fE160FQRC3zS//397HEsK44B2uzGfF85WGYduK21o9bmuN\n",
       "w3zB6wvfuACuwfCI76odhgFhmBSyR7D8m+tb/GYmbm51mNn1LQQN3/AB81n10Itbf4ezgFn+bTy+\n",
       "YdogYs4uFeYNjjE4t0LPuohVP4oIwogNa19n13lDEEWUwoj+ZStZ+Z8/IAgjgihqaEOCMGJo40YW\n",
       "LniVUq1OqVYjqNXpidtSvUapWqdUr1Oq1jhgdISBh5+lp1IlAA4DWPndHXzScU/BjKte7mF0cA6j\n",
       "g3MYmT/I8Py5/HLtS+y19BDt7YlI4bS7K/q8XfwL4OcPPcbBRx7BS2s2snixo1YP/KsWUI/bWr0U\n",
       "t9vGjY3ViOglirI7sBoRsKUCWyrjfZ++m1vv8+9KgS/Qk8K8r+wP/JZ7Iso9/prz3nIUt354T4l4\n",
       "nwBK8SsIIoKSL+TXrA8g2HZYOplu3hw9Vq1b+kplFpT8NdnNoihiNKxsLbxH6mNsCSuMhhXf1uP3\n",
       "9WrzE/JSq0Z1qvU6m+tbxp+4U7OBd8HcgxZywMox3IpRdt3Q5grZMGTLy6+w5eVXWPfo9idz6v1l\n",
       "qnMGCGf3Ew70EQ30EfmuI0R9fZR6ywRl/yqVywS9ZUrlXkq9/hWUewgWDBEsHKIUBH6fl+3b8cbR\n",
       "ZppkXBBA0CZYzV3+k+kGevtZOHvnP8eaZ2GbHH9qd+egvrht/fC/bGw9PLR8+fLMF756eA3feORm\n",
       "RmrtH6EgENV6odJPWBkgGptFVJkVtwMQNh6NrwATf9xKS0+nm721QZbfsqwbC07t8PVPsXTziq4t\n",
       "f17Tz+8AeOXnbacfBCqsaju+2yKg2t/H5iAimD+f6qwBnn9tNQuW7M/YLrOp9fc1zRGyetNmdnmp\n",
       "/fOyG21+fT1rfuvvxjqyafPW9xOZvgjLznq53Vz2ZJbbybInutxuLnuyv+va6FhXtnlk02aC14Ou\n",
       "LHsy2zyZZXdzm7u17OTvYjLbsn7NBoZ22W2H09TrPVTH6mxe+zKVub4CL7FtJ4ue+NX09bdi5bO8\n",
       "ba/9CCOo1+PCPGwo0GsBL7+4mvm7vZlNm0bp7Z2ztVAPw2wromx3BPfiubta70vMnR3ynsNq9HWw\n",
       "N7xh/SZeXPlSym3Lb7ndXHaa5ZaBQXoY3HYaYKufPfgohxx1MGNRlUpYYyyssiVuK2HVF86RP4lU\n",
       "i2pUo3qqM+ZZGwFenQ8PHFJm7nDAonU1Fq2tsmhdjdlbJridW4ANm1Jvy+P7z+LpfYp3lnzpordz\n",
       "6kEnZH4NflOdN6UfPGjfLTVbzrn3AvcB15vZX7QYfx9wLLC7mY1/d6I3zluczBIREREREZFpxcwy\n",
       "7+uS552OkhujLW0zfj9gzWQLbREREREREZGiye3MNoBz7klgX2APM1vbMHx/YBlwi5md1sX178a2\n",
       "Z/ocje+cITNLckHM4VO6FTIVFPuZTfGfuRT7mU3xn7kU+5lrAHgofr+o+bHTecq72D4X+BpwrZmd\n",
       "Ew8rA3cAfwIcbWY/7fI2RNCdbgJSfIr/zKXYz2yK/8yl2M9siv/MpdjPbEWJf953/v46cApwtnPu\n",
       "QOAJ/LO1lwBXd7vQFhEREREREclDntdsY2Z14DjgSmBv4Kx41Llmdn6e2yIiIiIiIiLSLbk/09rM\n",
       "RoHPxy8RERERERGRnU6uZ7ZFREREREREZgIV2yIiIiIiIiIZU7EtIiIiIiIikjEV2yIiIiIiIiIZ\n",
       "U7EtIiIiIiIikjEV2yIiIiIiIiIZC6IomuptEBEREREREdmp6My2iIiIiIiISMZUbIuIiIiIiIhk\n",
       "TMW2iIiIiIiISMZUbIuIiIiIiIhkTMW2iIiIiIiISMZUbIuIiIiIiIhkTMW2iIiIiIiISMZUbIuI\n",
       "iIiIiIhkTMW2iIiIiIiISMZUbIuIiIiIiIhkTMW2iIiIiIiISMZUbIuIiIiIiIhkTMW2iIiIiIiI\n",
       "SMbKU70Bk+Wcmw1cBHwE2AN4AbgZuMzMahOY/6PAucASIAKWAd8ErjWzqGG6AeDLO1jU18zshU4/\n",
       "h3QmbfybltUH/AJYYmbbHXhyzr0V+HvgD4G5wFPAVWZ2a6oPIR3LK/7K/+JJE3vn3GLggjajI+Bi\n",
       "M9vcML1yv2Dyir9yv3gy2O+bA3wBOBl4C7AW+D5wkZmtbppWuV8wecVfuV88We7zTWBdXcv9aVVs\n",
       "O+fKwB3A+4GfAfcAhwIXA0cAfzrO/F8ALgVeBf4d/0/2eOCaeDmfaJh8P+CzbRYVAbfhgy45SRv/\n",
       "Fr7ItoMuzevaA3gIn9x3A78FPgDc4px7i5ld0eHHkA7lGX+U/4WSQewPZcfxvAJIii3lfsHkGX+U\n",
       "+4WSwX5fP/A94Gjgf4EfAkcCZwKHOOcOT060KPeLJ8/4o9wvlDSxd879K/DRCaxmbzNb1e3cn1bF\n",
       "NnAa/pd+o5l9PBnonLsBONM5d6qZfbvVjM65+cDfAcuB3zOz9fHwvwIeAz7unLvczJbHs+wbt+80\n",
       "s8e68mlksjqOfzPn3FL80bJ2LgX2BM4ws5vieWYBDwNfds7dbmYrOvwc0pk846/8L5a0sU/iucjM\n",
       "1oyzLuV+8eQZf+V+saSN/QX4QusiM/tKPG8A3AT8GfAh4PZ4WuV+8eQZf+V+saSJ/feA1W3GDQCf\n",
       "wh84eT0e1tXcn27XbJ8D1PDdQRpdHrefoL0/AvqA65NCG8DM1gJJsA5tmD5Jumc73lrJWpr4b+Wc\n",
       "6wFuwB94WdZi/Hz8l/CvkqQDMLNR4GqgFzhjshsvqeUS/5jyv1jSxn5fYON4hZZyv7ByiX/DtKDc\n",
       "L4qOY++cKwHnAU8khRZAfCbzUmADcEg8rXK/mHKJf0y5Xywdx97MbjOzC1u98Ceaq8CJZjacR+5P\n",
       "m2LbOTcXXwz/wsxeaxxnZr/Bdw0/Mu520Mpc4Hng1y3GhXE70jBsH2BdY2EuUyeD+Dc6Hzgcn6iV\n",
       "FuOPwifjPS3G/Thuf3+Cmy4ZyDn+oPwvjIxivw/+4Mp4lPsFk3P8k2mV+wWQQewPAt4M/EfzCDN7\n",
       "ysyGzOxv4kHK/YLJOf6g3C+MjPf5Gpd7AvBJ4Etm9n/x4K7n/nTqRn4Q/uDAU23GPw38AbA3LY5K\n",
       "mdl1wHXNw51zg8CH8ddrPdwwal9guXPO4a8LWACsBO40s1c7/RDSsVTxTzjn9gEuAa4zs4d8eLeT\n",
       "9HBota5n8Nfu7D+RjZbM5Bl/UP4XSRax3xf4tXPucOB9+IOvz+DjuaFhOuV+8eQZ/2Ra5X4xpI39\n",
       "kXH7uHNuEXAi/gZZq/HxXNkwrXK/ePKMPyj3iySTfb5GcQF/DfAE8NWGUV3P/WlzZhv/Rw/+aEYr\n",
       "yZGoXSeyMOfclXG//2XAYuCTZvZ6wyT7AL+DPxN+Bb4bw7XAc865Mye57ZJeVvG/DlgHXNjJuuLu\n",
       "RxsmsB7JVp7xB+V/kaSKfXx93t7AscAj+O6DFwE34uP5wYmsS7k/ZfKMPyj3iyTt9/6ecXsofqf5\n",
       "6/jYXwX8xjn3uYmsS7k/ZfKMPyj3iyTTmi/2JfwN0M4zs7BheNdzfzoV24NxO9Zm/HDcTvRs/WeA\n",
       "j+G7mERsu1Yjuc5jL6AHOBsYwgfjTGALcL1z7gOT2HZJL3X8nXN/jt/hOtfMNqZc13TqFbIzyC3+\n",
       "yv/CSRv7xUA//hqtk4E5+H+4nwNmAd9xzh04iXUp9/OVW/yV+4WTNvZDcXsJ8B38fl4/8B5gFXBF\n",
       "3K10outS7ucrt/gr9wsn05rPObcn8GngR2b246bRXc/96fTFUY3bWW3G98XtSJvxb2BmJefcQnw3\n",
       "hCuBi51zL5rZjfiDEKcAz5rZkw2zfcs5txGftF8E7p3cR5AUUsXfObc7/kjlnWb2Xxmsa0J/Z5KZ\n",
       "POOv/C+WtN/9G4ET8Dc/WdEw7VXxZQT/CPwl/jEhyv3iyTP+yv1iSRv7ZPyDjXczBh50zp2Dv0bz\n",
       "U8CdE1yXcj9fecZfuV8smdZ8+B4NfcBlHa4rVe5Pp2I7uUB+qM34Bfgz1C9NdIHxnUlvd86tBe7D\n",
       "323uRvMPSr+rzWx34W+qdGib8dIdaeP/T0CAP7LV8brio59D6G6Vecst/sr/wkkV+7gXw3+3mfc2\n",
       "fLGVxFO5Xzy5xV+5Xzhpv/eTZ6ff3TzCzO51zo0BB4y3LuX+lMkt/sr9wsms5nPOzcP3ZH7GzO6f\n",
       "zLqyyv3pVGwnF64vbTN+P2CNmbV8rppz7ib89RsntLghyqNx+6bxNsLMQufcKNOrC/7OIFX88Xef\n",
       "HgRebHVTLOdccv3G2xrWdeB2E8Jb8XnT6q720j15xX9vM1vVbiOU/1Mibex3JNkZS+L/dNwq94sj\n",
       "z/i3pdyfEmlj/3zcbm4zfgR/EBaU+0WUZ/zbUu5PiSy/90/Hn7X+1jjr6lruT5s/HDN7Bf9leJhz\n",
       "7g0Xqjvn9sf/Qn64g0Xsjr9O4+AW4xbH7Qvx8i53zoXOuQ81T+icWwLMA3456Q8hHcsg/v+Cv/tg\n",
       "8ys5opX8vB74H/zO13EtlvP+uP1BRx9EOpJj/Dcq/4slbeydc7fG8fzdFqPfHbdJPJX7BZNn/JX7\n",
       "xZLB9/5P4vadzSOcc3vhz1g9EQ9S7hdMnvFX7hdLBrFv9GH8WfDb24zveu5Pm2I79g183/lLkgHx\n",
       "M9a+iv9F/nMyzDn39vgxP4k74vbzcbeAZP5ZbLsF/G1x+/24vdA5N7th2l789d0A12fyiWQyOo6/\n",
       "mV3W5uH2LwNRw7AN8SMe7sIn+UkN63oT8Nf4Am275zZK1+UR//Uo/4sozXd/Es+/dc71NMw/F39n\n",
       "6og4nvE/eOV+8eQSf5T7RZTme/8x4HHgdOfcMU3z/0P843XxtMr9Ysol/ij3iyjN934y/ULgXcCK\n",
       "+Pnc28ljn386dSMHf9v+U4Cznb976BP4G5wtAa42s5/G0+2J7xawEt8tGHxCfQz/7LwnnXMP4LsV\n",
       "vDee/rvADQBm9oBz7tvAqcAzzrl78BfQH4e/m+HdZvZv3fyg0lKa+O9Iq25EnwGOAW5xzp0MrMXf\n",
       "ZGdX4CNmtinF55DO5BJ/5X8hpYn9Tfj7cRwPPO2cux//v++D+B5P1zTdnVS5Xzy5xF+5X0hpv/fP\n",
       "AB4A7nfO3Yu/xvMo4B3AzU03zFTuF08u8VfuF1IW+3zH4PfxfsKOdTX3p9WZbTOr4//wr8Q/N/Os\n",
       "eNS5ZnZ+i1mihnmrwPvwdyTuwd/O/0T8ma3zgOPj56kl05+OT7qVwEnAafguxp+N55OcpYn/DkSt\n",
       "pjOzF4Aj8D0ijsV3Q1kG/LGZteuKIl2Uc/yV/wWS8rs/mffTwCZ8LE8CngPOMrPzmtal3C+YnOOv\n",
       "3C+QtN/7ZvYr/D07bsOf4Tod32X0Anwh1jitcr9gco6/cr9AMtrnOzwe/sg46+pq7gdRNJH9URER\n",
       "ERERERGZqGl1ZltERERERERkOlCxLSIiIiIiIpIxFdsiIiIiIiIiGVOxLSIiIiIiIpIxFdsiIiIi\n",
       "IiIiGVOxLSIiIiIiIpIxFdsiIiIiIiIiGVOxLSIiIiIiIpIxFdsiIiIiIiIiGVOxLSIiIiIiIpIx\n",
       "FdsiIiIiIiIiGVOxLSIiIiIiIpIxFdsiIiIiIiIiGVOxLSIiIiIiIpIxFdsiIiIiIiIiGVOxLSIi\n",
       "IiIiIpIxFdsiIiIiIiIiGft/6DSB1lc0hxwAAAAASUVORK5CYII=\n",
       "' width=493 height=348/>"
      ],
      "text/plain": [
       "<matplotlib.figure.Figure at 0x185394e50>"
      ]
     },
     "metadata": {},
     "output_type": "display_data"
    }
   ],
   "source": [
    "sns.distplot(c_ssrt1[1])\n",
    "sns.distplot(c_ssrt2[1])\n",
    "sns.kdeplot(grt[1], shade=True)\n",
    "e300 = ert[1][ert[1]<.4]"
   ]
  },
  {
   "cell_type": "code",
   "execution_count": 198,
   "metadata": {
    "collapsed": false
   },
   "outputs": [
    {
     "ename": "ZeroDivisionError",
     "evalue": "0.0 cannot be raised to a negative power",
     "output_type": "error",
     "traceback": [
      "\u001b[0;31m---------------------------------------------------------------------------\u001b[0m",
      "\u001b[0;31mZeroDivisionError\u001b[0m                         Traceback (most recent call last)",
      "\u001b[0;32m<ipython-input-198-3db355af3fa3>\u001b[0m in \u001b[0;36m<module>\u001b[0;34m()\u001b[0m\n\u001b[0;32m----> 1\u001b[0;31m \u001b[0msns\u001b[0m\u001b[0;34m.\u001b[0m\u001b[0mkdeplot\u001b[0m\u001b[0;34m(\u001b[0m\u001b[0me300\u001b[0m\u001b[0;34m,\u001b[0m \u001b[0mshade\u001b[0m\u001b[0;34m=\u001b[0m\u001b[0mTrue\u001b[0m\u001b[0;34m)\u001b[0m\u001b[0;34m\u001b[0m\u001b[0m\n\u001b[0m",
      "\u001b[0;32m/Users/kyle/anaconda/lib/python2.7/site-packages/seaborn/distributions.pyc\u001b[0m in \u001b[0;36mkdeplot\u001b[0;34m(data, data2, shade, vertical, kernel, bw, gridsize, cut, clip, legend, ax, cumulative, **kwargs)\u001b[0m\n\u001b[1;32m    864\u001b[0m         ax = _univariate_kdeplot(data, shade, vertical, kernel, bw,\n\u001b[1;32m    865\u001b[0m                                  \u001b[0mgridsize\u001b[0m\u001b[0;34m,\u001b[0m \u001b[0mcut\u001b[0m\u001b[0;34m,\u001b[0m \u001b[0mclip\u001b[0m\u001b[0;34m,\u001b[0m \u001b[0mlegend\u001b[0m\u001b[0;34m,\u001b[0m \u001b[0max\u001b[0m\u001b[0;34m,\u001b[0m\u001b[0;34m\u001b[0m\u001b[0m\n\u001b[0;32m--> 866\u001b[0;31m                                  cumulative=cumulative, **kwargs)\n\u001b[0m\u001b[1;32m    867\u001b[0m \u001b[0;34m\u001b[0m\u001b[0m\n\u001b[1;32m    868\u001b[0m     \u001b[0;32mreturn\u001b[0m \u001b[0max\u001b[0m\u001b[0;34m\u001b[0m\u001b[0m\n",
      "\u001b[0;32m/Users/kyle/anaconda/lib/python2.7/site-packages/seaborn/distributions.pyc\u001b[0m in \u001b[0;36m_univariate_kdeplot\u001b[0;34m(data, shade, vertical, kernel, bw, gridsize, cut, clip, legend, ax, cumulative, **kwargs)\u001b[0m\n\u001b[1;32m    629\u001b[0m         x, y = _statsmodels_univariate_kde(data, kernel, bw,\n\u001b[1;32m    630\u001b[0m                                            \u001b[0mgridsize\u001b[0m\u001b[0;34m,\u001b[0m \u001b[0mcut\u001b[0m\u001b[0;34m,\u001b[0m \u001b[0mclip\u001b[0m\u001b[0;34m,\u001b[0m\u001b[0;34m\u001b[0m\u001b[0m\n\u001b[0;32m--> 631\u001b[0;31m                                            cumulative=cumulative)\n\u001b[0m\u001b[1;32m    632\u001b[0m     \u001b[0;32melse\u001b[0m\u001b[0;34m:\u001b[0m\u001b[0;34m\u001b[0m\u001b[0m\n\u001b[1;32m    633\u001b[0m         \u001b[0;31m# Fall back to scipy if missing statsmodels\u001b[0m\u001b[0;34m\u001b[0m\u001b[0;34m\u001b[0m\u001b[0m\n",
      "\u001b[0;32m/Users/kyle/anaconda/lib/python2.7/site-packages/seaborn/distributions.pyc\u001b[0m in \u001b[0;36m_statsmodels_univariate_kde\u001b[0;34m(data, kernel, bw, gridsize, cut, clip, cumulative)\u001b[0m\n\u001b[1;32m    687\u001b[0m     \u001b[0mfft\u001b[0m \u001b[0;34m=\u001b[0m \u001b[0mkernel\u001b[0m \u001b[0;34m==\u001b[0m \u001b[0;34m\"gau\"\u001b[0m\u001b[0;34m\u001b[0m\u001b[0m\n\u001b[1;32m    688\u001b[0m     \u001b[0mkde\u001b[0m \u001b[0;34m=\u001b[0m \u001b[0msm\u001b[0m\u001b[0;34m.\u001b[0m\u001b[0mnonparametric\u001b[0m\u001b[0;34m.\u001b[0m\u001b[0mKDEUnivariate\u001b[0m\u001b[0;34m(\u001b[0m\u001b[0mdata\u001b[0m\u001b[0;34m)\u001b[0m\u001b[0;34m\u001b[0m\u001b[0m\n\u001b[0;32m--> 689\u001b[0;31m     \u001b[0mkde\u001b[0m\u001b[0;34m.\u001b[0m\u001b[0mfit\u001b[0m\u001b[0;34m(\u001b[0m\u001b[0mkernel\u001b[0m\u001b[0;34m,\u001b[0m \u001b[0mbw\u001b[0m\u001b[0;34m,\u001b[0m \u001b[0mfft\u001b[0m\u001b[0;34m,\u001b[0m \u001b[0mgridsize\u001b[0m\u001b[0;34m=\u001b[0m\u001b[0mgridsize\u001b[0m\u001b[0;34m,\u001b[0m \u001b[0mcut\u001b[0m\u001b[0;34m=\u001b[0m\u001b[0mcut\u001b[0m\u001b[0;34m,\u001b[0m \u001b[0mclip\u001b[0m\u001b[0;34m=\u001b[0m\u001b[0mclip\u001b[0m\u001b[0;34m)\u001b[0m\u001b[0;34m\u001b[0m\u001b[0m\n\u001b[0m\u001b[1;32m    690\u001b[0m     \u001b[0;32mif\u001b[0m \u001b[0mcumulative\u001b[0m\u001b[0;34m:\u001b[0m\u001b[0;34m\u001b[0m\u001b[0m\n\u001b[1;32m    691\u001b[0m         \u001b[0mgrid\u001b[0m\u001b[0;34m,\u001b[0m \u001b[0my\u001b[0m \u001b[0;34m=\u001b[0m \u001b[0mkde\u001b[0m\u001b[0;34m.\u001b[0m\u001b[0msupport\u001b[0m\u001b[0;34m,\u001b[0m \u001b[0mkde\u001b[0m\u001b[0;34m.\u001b[0m\u001b[0mcdf\u001b[0m\u001b[0;34m\u001b[0m\u001b[0m\n",
      "\u001b[0;32m/Users/kyle/anaconda/lib/python2.7/site-packages/statsmodels/nonparametric/kde.pyc\u001b[0m in \u001b[0;36mfit\u001b[0;34m(self, kernel, bw, fft, weights, gridsize, adjust, cut, clip)\u001b[0m\n\u001b[1;32m    144\u001b[0m             density, grid, bw = kdensityfft(endog, kernel=kernel, bw=bw,\n\u001b[1;32m    145\u001b[0m                     \u001b[0madjust\u001b[0m\u001b[0;34m=\u001b[0m\u001b[0madjust\u001b[0m\u001b[0;34m,\u001b[0m \u001b[0mweights\u001b[0m\u001b[0;34m=\u001b[0m\u001b[0mweights\u001b[0m\u001b[0;34m,\u001b[0m \u001b[0mgridsize\u001b[0m\u001b[0;34m=\u001b[0m\u001b[0mgridsize\u001b[0m\u001b[0;34m,\u001b[0m\u001b[0;34m\u001b[0m\u001b[0m\n\u001b[0;32m--> 146\u001b[0;31m                     clip=clip, cut=cut)\n\u001b[0m\u001b[1;32m    147\u001b[0m         \u001b[0;32melse\u001b[0m\u001b[0;34m:\u001b[0m\u001b[0;34m\u001b[0m\u001b[0m\n\u001b[1;32m    148\u001b[0m             density, grid, bw = kdensity(endog, kernel=kernel, bw=bw,\n",
      "\u001b[0;32m/Users/kyle/anaconda/lib/python2.7/site-packages/statsmodels/nonparametric/kde.pyc\u001b[0m in \u001b[0;36mkdensityfft\u001b[0;34m(X, kernel, bw, weights, gridsize, adjust, clip, cut, retgrid)\u001b[0m\n\u001b[1;32m    461\u001b[0m         \u001b[0mbw\u001b[0m \u001b[0;34m=\u001b[0m \u001b[0mfloat\u001b[0m\u001b[0;34m(\u001b[0m\u001b[0mbw\u001b[0m\u001b[0;34m)\u001b[0m\u001b[0;34m\u001b[0m\u001b[0m\n\u001b[1;32m    462\u001b[0m     \u001b[0;32mexcept\u001b[0m\u001b[0;34m:\u001b[0m\u001b[0;34m\u001b[0m\u001b[0m\n\u001b[0;32m--> 463\u001b[0;31m         \u001b[0mbw\u001b[0m \u001b[0;34m=\u001b[0m \u001b[0mbandwidths\u001b[0m\u001b[0;34m.\u001b[0m\u001b[0mselect_bandwidth\u001b[0m\u001b[0;34m(\u001b[0m\u001b[0mX\u001b[0m\u001b[0;34m,\u001b[0m \u001b[0mbw\u001b[0m\u001b[0;34m,\u001b[0m \u001b[0mkern\u001b[0m\u001b[0;34m)\u001b[0m \u001b[0;31m# will cross-val fit this pattern?\u001b[0m\u001b[0;34m\u001b[0m\u001b[0m\n\u001b[0m\u001b[1;32m    464\u001b[0m     \u001b[0mbw\u001b[0m \u001b[0;34m*=\u001b[0m \u001b[0madjust\u001b[0m\u001b[0;34m\u001b[0m\u001b[0m\n\u001b[1;32m    465\u001b[0m \u001b[0;34m\u001b[0m\u001b[0m\n",
      "\u001b[0;32m/Users/kyle/anaconda/lib/python2.7/site-packages/statsmodels/nonparametric/bandwidths.pyc\u001b[0m in \u001b[0;36mselect_bandwidth\u001b[0;34m(x, bw, kernel)\u001b[0m\n\u001b[1;32m    170\u001b[0m \u001b[0;31m#TODO: uncomment checks when we have non-rule of thumb bandwidths for diff. kernels\u001b[0m\u001b[0;34m\u001b[0m\u001b[0;34m\u001b[0m\u001b[0m\n\u001b[1;32m    171\u001b[0m \u001b[0;31m#    if kernel == \"gauss\":\u001b[0m\u001b[0;34m\u001b[0m\u001b[0;34m\u001b[0m\u001b[0m\n\u001b[0;32m--> 172\u001b[0;31m     \u001b[0;32mreturn\u001b[0m \u001b[0mbandwidth_funcs\u001b[0m\u001b[0;34m[\u001b[0m\u001b[0mbw\u001b[0m\u001b[0;34m]\u001b[0m\u001b[0;34m(\u001b[0m\u001b[0mx\u001b[0m\u001b[0;34m,\u001b[0m \u001b[0mkernel\u001b[0m\u001b[0;34m)\u001b[0m\u001b[0;34m\u001b[0m\u001b[0m\n\u001b[0m\u001b[1;32m    173\u001b[0m \u001b[0;31m#    else:\u001b[0m\u001b[0;34m\u001b[0m\u001b[0;34m\u001b[0m\u001b[0m\n\u001b[1;32m    174\u001b[0m \u001b[0;31m#        raise ValueError(\"Only Gaussian Kernels are currently supported\")\u001b[0m\u001b[0;34m\u001b[0m\u001b[0;34m\u001b[0m\u001b[0m\n",
      "\u001b[0;32m/Users/kyle/anaconda/lib/python2.7/site-packages/statsmodels/nonparametric/bandwidths.pyc\u001b[0m in \u001b[0;36mbw_scott\u001b[0;34m(x, kernel)\u001b[0m\n\u001b[1;32m     53\u001b[0m     \u001b[0mA\u001b[0m \u001b[0;34m=\u001b[0m \u001b[0m_select_sigma\u001b[0m\u001b[0;34m(\u001b[0m\u001b[0mx\u001b[0m\u001b[0;34m)\u001b[0m\u001b[0;34m\u001b[0m\u001b[0m\n\u001b[1;32m     54\u001b[0m     \u001b[0mn\u001b[0m \u001b[0;34m=\u001b[0m \u001b[0mlen\u001b[0m\u001b[0;34m(\u001b[0m\u001b[0mx\u001b[0m\u001b[0;34m)\u001b[0m\u001b[0;34m\u001b[0m\u001b[0m\n\u001b[0;32m---> 55\u001b[0;31m     \u001b[0;32mreturn\u001b[0m \u001b[0;36m1.059\u001b[0m \u001b[0;34m*\u001b[0m \u001b[0mA\u001b[0m \u001b[0;34m*\u001b[0m \u001b[0mn\u001b[0m \u001b[0;34m**\u001b[0m \u001b[0;34m(\u001b[0m\u001b[0;34m-\u001b[0m\u001b[0;36m0.2\u001b[0m\u001b[0;34m)\u001b[0m\u001b[0;34m\u001b[0m\u001b[0m\n\u001b[0m\u001b[1;32m     56\u001b[0m \u001b[0;34m\u001b[0m\u001b[0m\n\u001b[1;32m     57\u001b[0m \u001b[0;32mdef\u001b[0m \u001b[0mbw_silverman\u001b[0m\u001b[0;34m(\u001b[0m\u001b[0mx\u001b[0m\u001b[0;34m,\u001b[0m \u001b[0mkernel\u001b[0m\u001b[0;34m=\u001b[0m\u001b[0mNone\u001b[0m\u001b[0;34m)\u001b[0m\u001b[0;34m:\u001b[0m\u001b[0;34m\u001b[0m\u001b[0m\n",
      "\u001b[0;31mZeroDivisionError\u001b[0m: 0.0 cannot be raised to a negative power"
     ]
    },
    {
     "data": {
      "text/html": [
       "<img src='data:image/png;base64,iVBORw0KGgoAAAANSUhEUgAAA9oAAAK5CAYAAABAAFYHAAAABHNCSVQICAgIfAhkiAAAAAlwSFlz\n",
       "AAAWJQAAFiUBSVIk8AAAIABJREFUeJzs3XGwrXV93/sPeiRq1BHQxBhqURh+Bg+kKOMQRYNzK3OT\n",
       "9BqnZEJRrIMptIjoeK9lJNxO65AGa6h3GpRaHcqYS8yYGEKnVSMO0UQSJy1Bx6TQ71VSiJbIgTHW\n",
       "UVABz/3jebY5nOx1zmY/370P7L5eM3t+Z6/fetb6ncPjdr/X86xnHbZ3794AAAAAPR53qBcAAAAA\n",
       "O4nQBgAAgEZCGwAAABoJbQAAAGgktAEAAKCR0AYAAIBGQhsAAAAaCW0AAABoJLQBAACgkdAGAACA\n",
       "RkIbAAAAGgnt2Rhj7xhj76FeByxhP2ansC+zU9iX2Qnsx+wU27kvC20AAABotKv7AccYb0zyniRP\n",
       "r6pvbHCb3Ul+KclLkzwhyeeSXF5VN3SvDwAAALZS6xHtMcbjkrwhyYYPx8+RfVOSM5J8MslvJBlJ\n",
       "PjbGOKtzfQAAALDVWkJ7jHHSGOP1SX4vyQsf4ebvSfKUJD9VVa+pqguS/HiSPUmuGmM8pWONAAAA\n",
       "sB0Wh/Ycwp9Pck2Slz/CbV8wb/PRqvr9tdur6p758Y5I8nNL1wgAAADbpeOI9v1J/sH8dXaS2x7B\n",
       "tj85jx9fZ+4P5vERxTsAAAAcSosvhlZVDyX5zbXvxxgXJHn+Bjc/eR5vXWduLdiP3/zqAAAAYHsd\n",
       "6o/3Omoe715n7uvzeOQ2rQUAAAAWO9Sh/bR5/M46c9+ax/aPIAMAAICtcqgj9oF5fNI6c4fP431b\n",
       "vYgxxjP3+fNLk3x7q58TttIY40WHeg3Qwb7MTmFfZiewH/MY98S1P4wxnjlfgHvLHOrQXvvLHbHO\n",
       "3Npp5Xdt9sHHGBv+PO993LTZ54NHkZsP9QKgiX2ZncK+zE5gP2an2DPG2NAdq+qwzTzBoT51fO0i\n",
       "aCeuM3fcPP7ZNq0FAAAAFjvUR7RvnMdXJvl3+82dMY83bPbBN/rqw3y6+E1J8q53vSvHHnvsZp8S\n",
       "AACAR5nbb789F1988dq3p1XVH27l821baI8xdmU6Sv3dqvrzJKmq/zLGuCXJz44xfqKqPjvfdyR5\n",
       "Y6Yj3jeuesxG339P9rHHHpvdu3dvw1MCAABwCGz5Nbm2KrTXO5J8dKZwvjPJc/e5/fwkn0ly4xjj\n",
       "I0keSnJmptPaz6+qzbzPGgAAAA6JrXiP9t7560Dz31dVtyR5aZJPJXnV/HVTktOr6o+2YH0AAACw\n",
       "ZdqPaFfVK1bcfkdWhH1VfT7Jz3SvBQAAALbbob7qOAAAAOwoQhsAAAAaCW0AAABoJLQBAACgkdAG\n",
       "AACARkIbAAAAGgltAAAAaCS0AQAAoJHQBgAAgEZCGwAAABoJbQAAAGgktAEAAKCR0AYAAIBGQhsA\n",
       "AAAaCW0AAABoJLQBAACgkdAGAACARkIbAAAAGgltAAAAaCS0AQAAoJHQBgAAgEZCGwAAABoJbQAA\n",
       "AGgktAEAAKCR0AYAAIBGQhsAAAAaCW0AAABoJLQBAACgkdAGAACARkIbAAAAGgltAAAAaCS0AQAA\n",
       "oJHQBgAAgEZCGwAAABoJbQAAAGgktAEAAKCR0AYAAIBGQhsAAAAaCW0AAABoJLQBAACgkdAGAACA\n",
       "RkIbAAAAGgltAAAAaCS0AQAAoJHQBgAAgEZCGwAAABoJbQAAAGgktAEAAKCR0AYAAIBGQhsAAAAa\n",
       "CW0AAABoJLQBAACgkdAGAACARkIbAAAAGgltAAAAaCS0AQAAoJHQBgAAgEZCGwAAABoJbQAAAGgk\n",
       "tAEAAKCR0AYAAIBGQhsAAAAaCW0AAABoJLQBAACgkdAGAACARkIbAAAAGgltAAAAaCS0AQAAoJHQ\n",
       "BgAAgEZCGwAAABoJbQAAAGgktAEAAKCR0AYAAIBGQhsAAAAaCW0AAABoJLQBAACgkdAGAACARkIb\n",
       "AAAAGgltAAAAaCS0AQAAoJHQBgAAgEZCGwAAABoJbQAAAGgktAEAAKCR0AYAAIBGQhsAAAAaCW0A\n",
       "AABoJLQBAACgkdAGAACARkIbAAAAGgltAAAAaCS0AQAAoJHQBgAAgEZCGwAAABoJbQAAAGgktAEA\n",
       "AKCR0AYAAIBGQhsAAAAaCW0AAABoJLQBAACgkdAGAACARkIbAAAAGgltAAAAaCS0AQAAoJHQBgAA\n",
       "gEZCGwAAABoJbQAAAGi0q+NBxhhPTnJJkrOTPDvJl5Ncm+TyqnpwA9v/3SSXJjklyeOT3JbkV6vq\n",
       "gx3rAwAAgO2y+Ij2GGNXkusyhfKeJFcnuSfJO5Jcv4Htz0zyiSQnJPlIkg8nOTrJNWOMf7F0fQAA\n",
       "ALCdOk4dPyfJGUmuqaqXVNVFVXVakmuS/PQY47WrNhxjPD7JlUm+keTkqjq3qs5NcmKSv0zyi2OM\n",
       "oxvWCAAAANuiI7QvTPJgkrfvd/s75/G8A2y7O8mzkvynqrpr7caq2pMp1HclObVhjQAAALAtFoX2\n",
       "GOOpSU5OcktV3bPvXFV9McndSU6dTy8/0PPvXWfuCfP4zSVrBAAAgO209Ij2SfNj3Lpi/rYkhyc5\n",
       "5gDz9yZ51RjjuLUbxxjPSvL6TJH9xwvXCAAAANtmaWgfNY93r5j/+jweud5kVX07yfmZThH/3Bjj\n",
       "2jHGNUn+NMkRSS6qqr9auEYAAADYNks/3utp8/idFfPf2sDz3JHk9kwXQHvNPrffm+kiaQAAAPCY\n",
       "sfSI9gPz+KQV84fP433rTY4xnpfk05lOLT8vyTMzHSU/Z77Lb40xTlm4RgAAANg2S49or10A7YgV\n",
       "80dlutDZXSvm35TpqPibq+rqfW7/0Bjj/iS/neTNSf7hZhY3xljvImsAAAD8r+vmMcaG7lhVh23m\n",
       "CZYe0V67CNruFfPHJbl3/riu9fzYPH5qnbnfm8fnbXJtAAAAsO0WHdGuqq+OMW5L8sIxxpFV9bW1\n",
       "uTHG8Umek+RDB3iItY/u+pEk/3W/uafP49eySRt99WGM8aIkN2/2eQAAAHjMOKWq/mQrn2DpEe0k\n",
       "eV+m92JftnbD/LnZV2Q6bfy9a7eNMZ4/vy97zUfn8Z+PMX5wn+0fl+Sfzd9e17BGAAAA2BZL36Od\n",
       "JFclOSvJBWOME5N8IcnpSU5IcmVVfXa+39GZTjW/M8lz59t+LcmZSX4mSY0xPp3pSuUvS/L8JL+b\n",
       "5IMNawQAAIBtsfiIdlU9lOSVSd6d6erhb5inLqqqt6yzyfcvUFZV30vyqiT/JMmXk7w6yeuSPJjk\n",
       "kiT/R1W5oBkAAACPGR1HtFNV9yd52/y16j53ZJ2wn0P6/fMXAAAAPKZ1vEcbAAAAmAltAAAAaCS0\n",
       "AQAAoJHQBgAAgEZCGwAAABoJbQAAAGgktAEAAKCR0AYAAIBGQhsAAAAaCW0AAABoJLQBAACgkdAG\n",
       "AACARkIbAAAAGgltAAAAaCS0AQAAoJHQBgAAgEZCGwAAABoJbQAAAGgktAEAAKCR0AYAAIBGQhsA\n",
       "AAAaCW0AAABoJLQBAACgkdAGAACARkIbAAAAGgltAAAAaCS0AQAAoJHQBgAAgEZCGwAAABoJbQAA\n",
       "AGgktAEAAKCR0AYAAIBGQhsAAAAaCW0AAABoJLQBAACgkdAGAACARkIbAAAAGgltAAAAaCS0AQAA\n",
       "oJHQBgAAgEZCGwAAABoJbQAAAGgktAEAAKCR0AYAAIBGQhsAAAAaCW0AAABoJLQBAACgkdAGAACA\n",
       "RkIbAAAAGgltAAAAaCS0AQAAoJHQBgAAgEZCGwAAABoJbQAAAGgktAEAAKCR0AYAAIBGQhsAAAAa\n",
       "CW0AAABoJLQBAACgkdAGAACARkIbAAAAGgltAAAAaCS0AQAAoJHQBgAAgEZCGwAAABoJbQAAAGgk\n",
       "tAEAAKCR0AYAAIBGQhsAAAAaCW0AAABoJLQBAACgkdAGAACARkIbAAAAGgltAAAAaCS0AQAAoJHQ\n",
       "BgAAgEZCGwAAABoJbQAAAGgktAEAAKCR0AYAAIBGQhsAAAAaCW0AAABoJLQBAACgkdAGAACARkIb\n",
       "AAAAGgltAAAAaCS0AQAAoJHQBgAAgEZCGwAAABoJbQAAAGgktAEAAKCR0AYAAIBGQhsAAAAaCW0A\n",
       "AABoJLQBAACgkdAGAACARkIbAAAAGgltAAAAaCS0AQAAoJHQBgAAgEZCGwAAABoJbQAAAGgktAEA\n",
       "AKCR0AYAAIBGQhsAAAAaCW0AAABoJLQBAACg0a6OBxljPDnJJUnOTvLsJF9Ocm2Sy6vqwQ1s/5Qk\n",
       "b0/y80n+VpKvJfndJJdU1Z6ONQIAAMB2WHxEe4yxK8l1SS5NsifJ1UnuSfKOJNdvYPsfSPKxJL+Y\n",
       "5H8k+fdJvprk3CQfH2MctnSNAAAAsF06Th0/J8kZSa6pqpdU1UVVdVqSa5L89BjjtQfZ/q1JTst0\n",
       "9PoVVXVhklOSfCjJyUnObFgjAAAAbIuO0L4wyYOZTv3e1zvn8bxVG44xHpfkzUm+UFX/au32qtqb\n",
       "5JeT/M8kf6dhjQAAALAtFr1He4zx1ExHnW+uqnv2nauqL44x7k5y6hhj14r3ap+U5FlJrtx/oqpu\n",
       "TXLEkvUBAADAdlt6MbSTMh0Vv3XF/G1JTk9yTJIvrTN/6jx+fozxQ0n+fqaLoe1Jcn1V3blwfQAA\n",
       "ALCtlp46ftQ83r1i/uvzeOSK+aPn8eQk/1+SqzJdvfz/SfLFMcb/tXB9AAAAsK2WhvbT5vE7K+a/\n",
       "NY+rjpyvnRp+WZLfTnJskh9I8pNJ/iLJr4wxXr1wjQAAALBtlp46/sA8PmnF/OHzeN9B5j9TVb+w\n",
       "z+2fGWNcmOTjSd6YDXxM2HrGGHs3sx0AAAA71s1jjA3dsao29XHTS49or10AbdVFy45KsjfJXSvm\n",
       "vzmP/3H/iar6RKYj5T+2ZIEAAACwnZYe0V67CNruFfPHJbm3qvasmL9jHr+5Yv6+JJt6BSHZ+KsP\n",
       "Y4wXJbl5s88DAADAY8YpVfUnW/kEi45oV9VXM11Z/IVjjIdd8GyMcXyS5yT55AEe4g/n8cX7T4wx\n",
       "/namI+VfWLJGAAAA2E5LTx1Pkvdleq/1ZWs3jDF2Jbki02nj7127bYzx/DHG89buV1U3J/l8kteN\n",
       "MV623/bvmr/9QMMaAQAAYFssPXU8mT6S66wkF4wxTsx0BPr0JCckubKqPjvf7+hMp5rfmeS5+2z/\n",
       "+iSfTnLjGOMTmd7P/ZIkL0hybVX9TsMaAQAAYFssPqJdVQ8leWWSdyc5Jskb5qmLquot62zysCuB\n",
       "V9WfJjklyW8m+Ykkr0vyvSRvzRThAAAA8JjRcUQ7VXV/krfNX6vuc0dWhH1V/fck53SsBQAAAA6l\n",
       "jvdoAwAAADOhDQAAAI2ENgAAADQS2gAAANBIaAMAAEAjoQ0AAACNhDYAAAA0EtoAAADQSGgDAABA\n",
       "I6ENAAAAjYQ2AAAANBLaAAAA0EhoAwAAQCOhDQAAAI2ENgAAADQS2gAAANBIaAMAAEAjoQ0AAACN\n",
       "hDYAAAA0EtoAAADQSGgDAABAI6ENAAAAjYQ2AAAANBLaAAAA0EhoAwAAQCOhDQAAAI2ENgAAADQS\n",
       "2gAAANBIaAMAAEAjoQ0AAACNhDYAAAA0EtoAAADQSGgDAABAI6ENAAAAjYQ2AAAANBLaAAAA0Eho\n",
       "AwAAQCOhDQAAAI2ENgAAADQS2gAAANBIaAMAAEAjoQ0AAACNhDYAAAA0EtoAAADQSGgDAABAI6EN\n",
       "AAAAjYQ2AAAANBLaAAAA0EhoAwAAQCOhDQAAAI2ENgAAADQS2gAAANBIaAMAAEAjoQ0AAACNhDYA\n",
       "AAA0EtoAAADQSGgDAABAI6ENAAAAjYQ2AAAANBLaAAAA0EhoAwAAQCOhDQAAAI2ENgAAADQS2gAA\n",
       "ANBIaAMAAEAjoQ0AAACNhDYAAAA0EtoAAADQSGgDAABAI6ENAAAAjYQ2AAAANBLaAAAA0EhoAwAA\n",
       "QCOhDQAAAI2ENgAAADQS2gAAANBIaAMAAEAjoQ0AAACNhDYAAAA0EtoAAADQSGgDAABAI6ENAAAA\n",
       "jYQ2AAAANBLaAAAA0EhoAwAAQCOhDQAAAI2ENgAAADQS2gAAANBIaAMAAEAjoQ0AAACNhDYAAAA0\n",
       "EtoAAADQSGgDAABAI6ENAAAAjYQ2AAAANBLaAAAA0EhoAwAAQCOhDQAAAI2ENgAAADQS2gAAANBI\n",
       "aAMAAEAjoQ0AAACNhDYAAAA0EtoAAADQSGgDAABAI6ENAAAAjYQ2AAAANNq19AHGGE9OckmSs5M8\n",
       "O8mXk1yb5PKqevARPtbhSW5JckJVeREAAACAx5xFMTvG2JXkuiSXJtmT5Ook9yR5R5LrN/GQlyY5\n",
       "IcneJesCAACAQ2XpEe1zkpyR5Jqq+oW1G8cYVyc5d4zx2qr69Y080Bhjd6Yj4wAAAPCYtfT07AuT\n",
       "PJjk7fvd/s55PG8jDzLGeHymo+G3J/lvC9cEAAAAh8ymQ3uM8dQkJye5paru2Xeuqr6Y5O4kp86n\n",
       "lx/MW5KckinMv7vZNQEAAMChtuSI9knz9reumL8tyeFJjjnQg4wxnpfksiQfqKqbFqwHAAAADrkl\n",
       "oX3UPN69Yv7r83jkQR7nA0n+KsnFC9YCAAAAjwpLLob2tHn8zor5bx3sOcYY/yjJK5KcWVXfWLAW\n",
       "AAAAeFRYEtoPzOOTVswfPo/3rTc5xviRJL+S5Pqq+p0F61hpjOFjwgAAANjXzWOMDd2xqg7bzBMs\n",
       "OXV87QJoR6yYPyrT52HftWL+V5McluRNC9YAAAAAjypLjmivXQRt94r545LcW1V7Vsyfkun086+s\n",
       "92rCGON78x+Pqaq/2MwCN/rqwxjjRUlu3sxzAAAA8JhySlX9yVY+waZDu6q+Osa4LckLxxhHVtXX\n",
       "1ubGGMcneU6SDx3gId6f9Y+Gvz7JM5NcMX/vvdsAAAA8Ziw5op0k70vybzJ9PNeFSTJ/bvYVmU4b\n",
       "f+8+tx2X5LtV9edJUlWXr/eAY4wzkjyjqlyFHAAAgMecpaF9VZKzklwwxjgxyReSnJ7khCRXVtVn\n",
       "5/sdnelU8zuTPHcDj7upN5wDAADAobbkYmipqoeSvDLJu5Mck+QN89RFVfWWdTbZyFXA927wfgAA\n",
       "APCos/SIdqrq/iRvm79W3eeObDDqq+rkpWsCAACAQ2XREW0AAADg4YQ2AAAANBLaAAAA0EhoAwAA\n",
       "QCOhDQAAAI2ENgAAADQS2gAAANBIaAMAAEAjoQ0AAACNhDYAAAA0EtoAAADQSGgDAABAI6ENAAAA\n",
       "jYQ2AAAANBLaAAAA0EhoAwAAQCOhDQAAAI2ENgAAADQS2gAAANBIaAMAAEAjoQ0AAACNhDYAAAA0\n",
       "EtoAAADQSGgDAABAI6ENAAAAjYQ2AAAANBLaAAAA0EhoAwAAQCOhDQAAAI2ENgAAADQS2gAAANBI\n",
       "aAMAAEAjoQ0AAACNhDYAAAA0EtoAAADQSGgDAABAI6ENAAAAjYQ2AAAANBLaAAAA0EhoAwAAQCOh\n",
       "DQAAAI2ENgAAADQS2gAAANBIaAMAAEAjoQ0AAACNhDYAAAA0EtoAAADQSGgDAABAI6ENAAAAjYQ2\n",
       "AAAANBLaAAAA0EhoAwAAQCOhDQAAAI2ENgAAADQS2gAAANBIaAMAAEAjoQ0AAACNhDYAAAA0EtoA\n",
       "AADQSGgDAABAI6ENAAAAjYQ2AAAANBLaAAAA0EhoAwAAQCOhDQAAAI2ENgAAADQS2gAAANBIaAMA\n",
       "AEAjoQ0AAACNhDYAAAA0EtoAAADQSGgDAABAI6ENAAAAjYQ2AAAANBLaAAAA0EhoAwAAQCOhDQAA\n",
       "AI2ENgAAADQS2gAAANBIaAMAAEAjoQ0AAACNhDYAAAA0EtoAAADQSGgDAABAI6ENAAAAjYQ2AAAA\n",
       "NBLaAAAA0EhoAwAAQCOhDQAAAI2ENgAAADQS2gAAANBIaAMAAEAjoQ0AAACNhDYAAAA0EtoAAADQ\n",
       "SGgDAABAI6ENAAAAjYQ2AAAANBLaAAAA0EhoAwAAQCOhDQAAAI2ENgAAADQS2gAAANBIaAMAAEAj\n",
       "oQ0AAACNhDYAAAA02tXxIGOMJye5JMnZSZ6d5MtJrk1yeVU9uIHtXzZv/+IkT5m3vy7JZVX1zY41\n",
       "AgAAwHZYfER7jLErUxRfmmRPkquT3JPkHUmu38D2r0ryqSSnJflEkg/O6/qnSW4YYzx+6RoBAABg\n",
       "u3Qc0T4nyRlJrqmqX1i7cYxxdZJzxxivrapfX2/DMcbjkrw3ybeTnFpVt863PzHJDZni+/wk/7Zh\n",
       "nQAAALDlOt6jfWGSB5O8fb/b3zmP5x1g21OT/GiSD69FdpJU1beT/Mv5259rWCMAAABsi0WhPcZ4\n",
       "apKTk9xSVffsO1dVX0xyd5JT59PL13PsPH5unbmvzOOPLlkjAAAAbKelR7RPmh/j1hXztyU5PMkx\n",
       "K+Y/k+TVSf7DOnMvnsc9C9YHAAAA22rpe7SPmse7V8x/fR6PXG+yqu5Icsf+t48xjk3yy/O3B72g\n",
       "GgAAADxaLD2i/bR5/M6K+W/N44aDfoxxdpL/nOSHk9yc5D2bXh0AAABss6VHtB+YxyetmD98Hu87\n",
       "2AONMY5JclWS/z3J3iS/neQNVfXdhWsEAACAbbM0tNcugHbEivmjMkXzXQd6kDHGa5O8L8kPzvd9\n",
       "a1X91sK1ZYyxd+ljAAAAsKPcPMbY0B2r6rDNPMHSU8fXLoK2e8X8cUnuraqVFzQbY5yb5P9N8uRM\n",
       "R7Sf3xHZAAAAcCgsOqJdVV8dY9yW5IVjjCOr6mtrc2OM45M8J8mHVm0/xnhGkiszHfU+t6p+bcl6\n",
       "1lnfhl59GGO8KNP7wQEAANjZTqmqP9nKJ1h6RDuZTvk+PMllazfMn5t9RaaAfu/abWOM548xnrfP\n",
       "tj+b6Uj2+7sjGwAAAA6Fpe/RTqbTvc9KcsEY48QkX0hyepITklxZVZ+d73d0plPN70zy3Pm2l8zj\n",
       "M8YYV6x4/C9V1fsa1gkAAABbbnFoV9VDY4xXZjqi/fNJTkny50kuqqr3rrPJvhco++H5+zMP8BSf\n",
       "znTUHAAAAB71Oo5op6ruT/K2+WvVfe7IfqeqV9Xf63h+AAAAeLToeI82AAAAMBPaAAAA0EhoAwAA\n",
       "QCOhDQAAAI2ENgAAADQS2gAAANBIaAMAAEAjoQ0AAACNhDYAAAA0EtoAAADQSGgDAABAI6ENAAAA\n",
       "jYQ2AAAANBLaAAAA0EhoAwAAQCOhDQAAAI2ENgAAADQS2gAAANBIaAMAAEAjoQ0AAACNhDYAAAA0\n",
       "EtoAAADQSGgDAABAI6ENAAAAjYQ2AAAANBLaAAAA0EhoAwAAQCOhDQAAAI2ENgAAADQS2gAAANBI\n",
       "aAMAAEAjoQ0AAACNhDYAAAA0EtoAAADQSGgDAABAI6ENAAAAjYQ2AAAANBLaAAAA0EhoAwAAQCOh\n",
       "DQAAAI2ENgAAADQS2gAAANBIaAMAAEAjoQ0AAACNhDYAAAA0EtoAAADQSGgDAABAI6ENAAAAjYQ2\n",
       "AAAANBLaAAAA0EhoAwAAQCOhDQAAAI2ENgAAADQS2gAAANBIaAMAAEAjoQ0AAACNhDYAAAA0EtoA\n",
       "AADQSGgDAABAI6ENAAAAjYQ2AAAANBLaAAAA0EhoAwAAQCOhDQAAAI2ENgAAADQS2gAAANBIaAMA\n",
       "AEAjoQ0AAACNhDYAAAA0EtoAAADQSGgDAABAI6ENAAAAjYQ2AAAANBLaAAAA0EhoAwAAQCOhDQAA\n",
       "AI2ENgAAADQS2gAAANBIaAMAAEAjoQ0AAACNhDYAAAA0EtoAAADQSGgDAABAI6ENAAAAjYQ2AAAA\n",
       "NBLaAAAA0EhoAwAAQCOhDQAAAI2ENgAAADQS2gAAANBIaAMAAEAjoQ0AAACNhDYAAAA0EtoAAADQ\n",
       "SGgDAABAI6ENAAAAjYQ2AAAANBLaAAAA0EhoAwAAQCOhDQAAAI2ENgAAADQS2gAAANBIaAMAAEAj\n",
       "oQ0AAACNhDYAAAA0EtoAAADQSGgDAABAo10dDzLGeHKSS5KcneTZSb6c5Nokl1fVgxvYfneSX0ry\n",
       "0iRPSPK5edsbOtYHAAAA22XxEe0xxq4k1yW5NMmeJFcnuSfJO5Jcv4Htdye5KckZST6Z5DeSjCQf\n",
       "G2OctXR9AAAAsJ06Th0/J1MkX1NVL6mqi6rqtCTXJPnpMcZrD7L9e5I8JclPVdVrquqCJD+eKdqv\n",
       "GmM8pWGNAAAAsC06QvvCJA8meft+t79zHs9bteEY4wVJXp7ko1X1+2u3V9U9mUL9iCQ/17BGAAAA\n",
       "2BaLQnuM8dQkJye5ZY7j76uqLya5O8mp8+nl6/nJefz4OnN/MI8vX7JGAAAA2E5Lj2ifND/GrSvm\n",
       "b0tyeJJjVsyfPI/rbX/bPB6/2cUBAADAdlsa2kfN490r5r8+j0duYvuDbQsAAACPOktD+2nz+J0V\n",
       "89+ax1Wnjh9o+4NtCwAAAI86SyP2gXl80or5w+fxvk1sf7BtOz1x7Q+33377NjwdAAAA22W/znvi\n",
       "qvt1WRraaxdAO2LF/FFJ9ia5axPbr51Wvmrbgxpj7H2k21x88cWbfToAAAAe/W4aY2zojlV12Gae\n",
       "YOmp42sXMdu9Yv64JPdW1Z6DbH/iim2T5M82uTYAAADYdouOaFfVV8cYtyV54RjjyKr62trcGOP4\n",
       "JM9J8qEDPMSN8/jKJP9uv7kz5vGGBevb0KsPY4xnJll7MeC0JN/e7HPCIXbzPJ5ySFcBy9mX2Sns\n",
       "y+wE9mN2gicmuWn+8w/t//HU3Q7bu/cRn139MGOMi5L8myT/tqounG/bleS6JD+T5LSq+ux823FJ\n",
       "vltVf77P9jcn+fEkL6+qz863jSR/nOQrSU6sqmWL3NjfY2+y+VMD4NHAfsxOYV9mp7AvsxPYj9kp\n",
       "tnNf7rii91VJzkpywRjjxCRfSHJ6khOSXLkWz0mOznSq+J1JnrvP9ucn+UySG8cYH0nyUJIzM53W\n",
       "fv52RDYAAAB0Wfoe7VTVQ5lO/X53kmOSvGGeuqiq3rLOJg8L56q6JclLk3wqyavmr5uSnF5Vf7R0\n",
       "fQAAALCdWj6juqruT/K2+WvVfe7IirCvqs9nOs0cAAAAHtMWH9EGAAAA/prQBgAAgEZCGwAAABoJ\n",
       "bQAAAGj1VJR1AAAJS0lEQVQktAEAAKCR0AYAAIBGh+3du/fg9wIAAAA2xBFtAAAAaCS0AQAAoJHQ\n",
       "BgAAgEZCGwAAABoJbQAAAGgktAEAAKCR0AYAAIBGQhsAAAAaCW0AAABoJLQBAACgkdAGAACARkIb\n",
       "AAAAGgltAAAAaLTrUC9gq40xnpzkkiRnJ3l2ki8nuTbJ5VX14Aa2353kl5K8NMkTknxu3vaGLVs0\n",
       "7KdhP37ZvP2Lkzxl3v66JJdV1Te3at2wv6X78n6PdXiSW5KcUFVeOGbbNPxMfkqStyf5+SR/K8nX\n",
       "kvxukkuqas9WrRv217Av/90klyY5Jcnjk9yW5Fer6oNbtmg4gDHGG5O8J8nTq+obG9xmS3pvR/9i\n",
       "MsbYlSkmLk2yJ8nVSe5J8o4k129g+91JbkpyRpJPJvmNJCPJx8YYZ23RsuFhGvbjVyX5VJLTknwi\n",
       "yQcz/W//nya5YYzx+K1ZOTzc0n15HZcmOSHJ3q41wsE0/Ez+gSQfS/KLSf5Hkn+f5KtJzk3y8THG\n",
       "YVuzcni4hn35zEy/V5yQ5CNJPpzk6CTXjDH+xdasGlYbYzwuyRvyCH4v2Mre29GhneScTP9o11TV\n",
       "S6rqoqo6Lck1SX56jPHag2z/nkxH/36qql5TVRck+fFMP4yuml+Rhq226f14/oHz3iTfTnJqVb22\n",
       "qv5xkhdk+qFyapLzt/xvAJOlP5O/b/4/xku2aJ1wIEv347dmeuHzkqp6RVVdmOlo4IeSnJzkzC1c\n",
       "O+xrye8Xj09yZZJvJDm5qs6tqnOTnJjkL5P84hjj6K3/K0AyxjhpjPH6JL+X5IWPcPMt672dHtoX\n",
       "Jnkw0+lZ+3rnPJ63asMxxguSvDzJR6vq99dur6p7Mv0AOiLJz7WuFta36f04U0j/aJIPV9WtazdW\n",
       "1beT/Mv5W/sx22XJvvx98y94Vye5Pcl/a1sdbMyS3y0el+TNSb5QVf9q7faq2pvkl5P8zyR/p3W1\n",
       "sNqSn8m7kzwryX+qqrvWbpzf+nBNprenntq3VFjfHMKfz7TfvfwRbrulvbdjQ3uM8dRMrwzfMv9j\n",
       "fV9VfTHJ3UlOnU+bWc9PzuPH15n7g3l8RP8x4ZFq2I+PncfPrTP3lXn80Y61woE07Mv7ekumI4Dn\n",
       "Jflu91phlYb9+KRMcfLh/Seq6taqOqKq/u/mZcPf0LAvrzXEeqfoPmEeXQOG7XB/kn8wf52d6ToB\n",
       "G7WlvbeTL4Z2UqYfAreumL8tyelJjknypXXmT57H9bZf+w94/OaXBxuydD/+TJJXZ/3QfvE8uvAO\n",
       "22HpvpwkGWM8L8llST5QVTeNMXpXCQe2dD9eO8L3+THGDyX5+5kuhrYnyfVVdWfnYuEAlu7LtyW5\n",
       "N8mrxhjHVdWXkmSM8awkr88U2X/cu2T4m6rqoSS/ufb9GOOCJM/f4OZb2ns7ObSPmse7V8x/fR6P\n",
       "3MT2B9sWuizaj6vqjiR37H/7GOPYTKcpJpu7CBU8Ukt/Jq/5QJK/SnJxx6LgEVq6H6+9Z/XkTBfc\n",
       "edo+c78yxrikqv71siXChiz9/eLbY4zzM12h/HNjjP+Q5IEkfy/Tfn1+Vf1V43phK2xp7+3YU8fz\n",
       "1//n9Z0V89+ax1UvNhxo+4NtC12W7sd/wxjj7CT/OckPJ7k500UgYKst3pfHGP8oySuSXLTRj+yA\n",
       "Zkv34yPm8bIkv53p7T0/kOn0xb/IFNuvblgnHEzH7xd3ZLpWxg8meU2mI9lHZbrWgJ/RPBZsae/t\n",
       "5NB+YB6ftGL+8Hm8bxPbH2xb6LJ0P/6+McYxY4yPJfn1JE/P9Eve/1ZV3uPKdli0L48xfiTJr2Q6\n",
       "vfZ3mtcGG7X0Z/La/Geq6heq6r9X1QNV9ZlMF6ZKkjc2rBMOZunP5Ocl+XSmU8vPS/LMTJF9znyX\n",
       "3xpjnNKxUNhCW9p7O/mI7NqFHY5YMX9Upgs43LVi/kDbr51msGpb6LJ0P06SzB/R8b5MrzrfleSt\n",
       "VfVbXYuEDVi6L/9qksOSvKl5XfBILN2P1y4O9R/3n6iqT4wxvpPkxxatEDZm6b78pkxHA99cVVfv\n",
       "c/uHxhj3Z3ox/81J/mHDWmGrbGnv7eTQXntT++4V88cluXf+GIIDbX9ikj9aZ9sk+bPNLw82ZOl+\n",
       "nDHGuZk+CmlvkquSvL2qXAmU7bZ0Xz4l0y91X1nvAmhjjO/Nfzymqv5iyULhAJbux3fM46qfwfdl\n",
       "ekEJttrSfXntBaFPrTP3e/P4vE2uDbbLlvbejj11vKq+mulqcS8cYzzsTexjjOOTPCfJJw/wEDfO\n",
       "4yvXmTtjHm9Yuk44kKX78RjjGUmuzBTZ51bVm0Q2h0LDz+T3J7lina+1V6PXvve+QLZMw378h/P4\n",
       "4v0nxhh/O9NRlS/0rBZWa9iX136X+JF15p4+j19buk7YYlvaezs2tGfvy3R+/WVrN8yfB3hFpvB4\n",
       "79ptY4znz+83SZJU1X9JckuSnx1j/MQ+249M75+6NX/9Hwe20qb34yQ/m+TJSd5fVb+2fUuGdS35\n",
       "mXx5VV28/1eSv0yyd5/bvh7YWkv245uTfD7J68YYL9tv+3fN335gy/8GMFny+8VH5/GfjzF+cJ/t\n",
       "H5fkn83fXreFa4dH5FD03k4+dTyZTpM9K8kFY4wTM71KfHqSE5JcWVWfne93dKZ/yDuTPHef7c/P\n",
       "9DnEN44xPpLkoSRnZnqB4vyq2rsdfwn+l7dkP37JPD5jjHHFisf/UlW9bysWDvtZ+jN5Fafasp2W\n",
       "7sevz3QRqRvHGJ/I9P6/lyR5QZJrXeyPbbRkX/61TL8T/0ySGmN8OtNVml+W6TOMfzfJB7flbwF/\n",
       "03q/F2x77+3oI9rzB5i/Msm7M10V8Q3z1EVV9ZZ1NnnYP2RV3ZLkpZnef/Kq+eumJKdX1f7n8cOW\n",
       "WLgf//D8/ZlJ/s8VXz+/JQuH/Sz9mbzC3g3eD1o0/G7xp5muOfCbSX4iyeuSfC/JWzNFOGyLJfty\n",
       "VX0v0+/F/yTJl5O8OtO+/GD+//bs6ARAIIaCYCzQgq76swR/lhNkpodAljezZuY2SPGRt7/gWO9d\n",
       "e7sBAAAAqPx60QYAAIDThDYAAACEhDYAAACEhDYAAACEhDYAAACEhDYAAACEhDYAAACEhDYAAACE\n",
       "hDYAAACEhDYAAACEhDYAAACEhDYAAACEhDYAAACEhDYAAACEhDYAAACEhDYAAACEhDYAAACEHhCu\n",
       "Rrm+RfVRAAAAAElFTkSuQmCC\n",
       "' width=493 height=348/>"
      ],
      "text/plain": [
       "<matplotlib.figure.Figure at 0x1853c4c50>"
      ]
     },
     "metadata": {},
     "output_type": "display_data"
    }
   ],
   "source": [
    "sns.kdeplot(e300, shade=True)"
   ]
  },
  {
   "cell_type": "code",
   "execution_count": 91,
   "metadata": {
    "collapsed": false
   },
   "outputs": [
    {
     "data": {
      "text/plain": [
       "array([[ 0.5139,  0.4467,  0.4649, ...,  0.5181,  0.4727,  0.4491],\n",
       "       [ 0.5357,  0.5281,  0.4837, ...,  0.4775,  0.4815,  0.5189]])"
      ]
     },
     "execution_count": 91,
     "metadata": {},
     "output_type": "execute_result"
    }
   ],
   "source": [
    "c_ssrt1"
   ]
  },
  {
   "cell_type": "code",
   "execution_count": 92,
   "metadata": {
    "collapsed": false
   },
   "outputs": [
    {
     "data": {
      "text/plain": [
       "array([[ nan,  nan,  nan, ...,  0.3,  0.3,  0.3],\n",
       "       [ nan,  nan,  nan, ...,  0.3,  0.3,  0.3]])"
      ]
     },
     "execution_count": 92,
     "metadata": {},
     "output_type": "execute_result"
    }
   ],
   "source": [
    "c_ssrt2"
   ]
  },
  {
   "cell_type": "code",
   "execution_count": null,
   "metadata": {
    "collapsed": true
   },
   "outputs": [],
   "source": [
    "gq = np.vstack([mq(rtc[rtc<tb], prob=p)*10 for rtc in grt])\n",
    "eq1 = mq(np.extract(ert[i]<c_ssrt1[i], ert[i]), prob=p)#*10 for i in range(ncond)])\n",
    "eq2 = mq(np.extract(ert[i]<c_ssrt2[i], ert[i]), prob=p)#*10 for i in range(ncond)])"
   ]
  },
  {
   "cell_type": "code",
   "execution_count": 710,
   "metadata": {
    "collapsed": false
   },
   "outputs": [
    {
     "data": {
      "text/plain": [
       "array([ 0.4793707,  0.4983707,  0.5128707,  0.5263707,  0.5483707])"
      ]
     },
     "execution_count": 710,
     "metadata": {},
     "output_type": "execute_result"
    }
   ],
   "source": [
    "c_ssrt1 = np.nanmean(ssrt1, axis=1)\n",
    "c_ssrt2 = np.nanmean(ssrt2, axis=1)\n",
    "mq(ert[0][ert[0]<c_ssrt2[0]], prob=p)# ert[i]<c_ssrt1[i], ert[i], ), prob=p)*10"
   ]
  },
  {
   "cell_type": "code",
   "execution_count": 707,
   "metadata": {
    "collapsed": false
   },
   "outputs": [],
   "source": [
    "c_ssrt1 = np.mean(ssrt1, axis=1)\n",
    "c_ssrt2 = np.mean(ssrt2, axis=1)"
   ]
  },
  {
   "cell_type": "code",
   "execution_count": null,
   "metadata": {
    "collapsed": true
   },
   "outputs": [],
   "source": []
  },
  {
   "cell_type": "code",
   "execution_count": 668,
   "metadata": {
    "collapsed": false
   },
   "outputs": [
    {
     "data": {
      "text/plain": [
       "2500"
      ]
     },
     "execution_count": 668,
     "metadata": {},
     "output_type": "execute_result"
    }
   ],
   "source": [
    "#np.count_nonzero(ssrt1[1][4])\n",
    "np.count_nonzero(~np.isnan(ssrt1[0][1]))"
   ]
  },
  {
   "cell_type": "code",
   "execution_count": 703,
   "metadata": {
    "collapsed": false
   },
   "outputs": [
    {
     "name": "stdout",
     "output_type": "stream",
     "text": [
      "[ 0.4145  0.4385  0.4585  0.4815  0.5205]\n",
      "[ 0.4125  0.4375  0.4575  0.4785  0.5145]\n"
     ]
    }
   ],
   "source": [
    "\n",
    "#pd.Series(ssrt1[1][5]).hist()\n",
    "#pd.Series(ssrt2[1][5]).hist()\n",
    "print mq(ssrt1[0][2], prob=p)\n",
    "print mq(ssrt2[0][2], prob=p)"
   ]
  },
  {
   "cell_type": "code",
   "execution_count": 32,
   "metadata": {
    "collapsed": false
   },
   "outputs": [
    {
     "name": "stdout",
     "output_type": "stream",
     "text": [
      "ERROR! Session/line number was not unique in database. History logging moved to new session 1550\n"
     ]
    },
    {
     "data": {
      "text/plain": [
       "0.49574673387096779"
      ]
     },
     "execution_count": 32,
     "metadata": {},
     "output_type": "execute_result"
    }
   ],
   "source": [
    "np.nanmean(np.nanmean(ssrt2.mean(axis=1), axis=1))"
   ]
  },
  {
   "cell_type": "code",
   "execution_count": 31,
   "metadata": {
    "collapsed": false
   },
   "outputs": [
    {
     "data": {
      "text/plain": [
       "0.49531124712771768"
      ]
     },
     "execution_count": 31,
     "metadata": {},
     "output_type": "execute_result"
    }
   ],
   "source": [
    "np.nanmean(np.nanmean(ssrt1.mean(axis=1), axis=1))"
   ]
  },
  {
   "cell_type": "code",
   "execution_count": 46,
   "metadata": {
    "collapsed": false
   },
   "outputs": [
    {
     "data": {
      "text/plain": [
       "0.60650000000000004"
      ]
     },
     "execution_count": 46,
     "metadata": {},
     "output_type": "execute_result"
    }
   ],
   "source": [
    "ssrt1[0][1].max()"
   ]
  },
  {
   "cell_type": "code",
   "execution_count": 47,
   "metadata": {
    "collapsed": false
   },
   "outputs": [
    {
     "data": {
      "text/plain": [
       "0.57650000000000001"
      ]
     },
     "execution_count": 47,
     "metadata": {},
     "output_type": "execute_result"
    }
   ],
   "source": [
    "ssrt2[0][1].max()"
   ]
  },
  {
   "cell_type": "code",
   "execution_count": 37,
   "metadata": {
    "collapsed": false
   },
   "outputs": [
    {
     "ename": "AttributeError",
     "evalue": "max must be larger than min in range parameter.",
     "output_type": "error",
     "traceback": [
      "\u001b[0;31m---------------------------------------------------------------------------\u001b[0m",
      "\u001b[0;31mAttributeError\u001b[0m                            Traceback (most recent call last)",
      "\u001b[0;32m<ipython-input-37-38008d00c79d>\u001b[0m in \u001b[0;36m<module>\u001b[0;34m()\u001b[0m\n\u001b[0;32m----> 1\u001b[0;31m \u001b[0msns\u001b[0m\u001b[0;34m.\u001b[0m\u001b[0mdistplot\u001b[0m\u001b[0;34m(\u001b[0m\u001b[0mssrt1\u001b[0m\u001b[0;34m.\u001b[0m\u001b[0mmean\u001b[0m\u001b[0;34m(\u001b[0m\u001b[0maxis\u001b[0m\u001b[0;34m=\u001b[0m\u001b[0;36m1\u001b[0m\u001b[0;34m)\u001b[0m\u001b[0;34m[\u001b[0m\u001b[0;36m0\u001b[0m\u001b[0;34m]\u001b[0m\u001b[0;34m)\u001b[0m\u001b[0;34m\u001b[0m\u001b[0m\n\u001b[0m",
      "\u001b[0;32m/Users/kyle/anaconda/lib/python2.7/site-packages/seaborn/distributions.pyc\u001b[0m in \u001b[0;36mdistplot\u001b[0;34m(a, bins, hist, kde, rug, fit, hist_kws, kde_kws, rug_kws, fit_kws, color, vertical, norm_hist, axlabel, label, ax)\u001b[0m\n\u001b[1;32m    574\u001b[0m         \u001b[0mhist_color\u001b[0m \u001b[0;34m=\u001b[0m \u001b[0mhist_kws\u001b[0m\u001b[0;34m.\u001b[0m\u001b[0mpop\u001b[0m\u001b[0;34m(\u001b[0m\u001b[0;34m\"color\"\u001b[0m\u001b[0;34m,\u001b[0m \u001b[0mcolor\u001b[0m\u001b[0;34m)\u001b[0m\u001b[0;34m\u001b[0m\u001b[0m\n\u001b[1;32m    575\u001b[0m         ax.hist(a, bins, orientation=orientation,\n\u001b[0;32m--> 576\u001b[0;31m                 color=hist_color, **hist_kws)\n\u001b[0m\u001b[1;32m    577\u001b[0m         \u001b[0;32mif\u001b[0m \u001b[0mhist_color\u001b[0m \u001b[0;34m!=\u001b[0m \u001b[0mcolor\u001b[0m\u001b[0;34m:\u001b[0m\u001b[0;34m\u001b[0m\u001b[0m\n\u001b[1;32m    578\u001b[0m             \u001b[0mhist_kws\u001b[0m\u001b[0;34m[\u001b[0m\u001b[0;34m\"color\"\u001b[0m\u001b[0;34m]\u001b[0m \u001b[0;34m=\u001b[0m \u001b[0mhist_color\u001b[0m\u001b[0;34m\u001b[0m\u001b[0m\n",
      "\u001b[0;32m/Users/kyle/anaconda/lib/python2.7/site-packages/matplotlib/axes/_axes.pyc\u001b[0m in \u001b[0;36mhist\u001b[0;34m(self, x, bins, range, normed, weights, cumulative, bottom, histtype, align, orientation, rwidth, log, color, label, stacked, **kwargs)\u001b[0m\n\u001b[1;32m   5676\u001b[0m             \u001b[0;31m# this will automatically overwrite bins,\u001b[0m\u001b[0;34m\u001b[0m\u001b[0;34m\u001b[0m\u001b[0m\n\u001b[1;32m   5677\u001b[0m             \u001b[0;31m# so that each histogram uses the same bins\u001b[0m\u001b[0;34m\u001b[0m\u001b[0;34m\u001b[0m\u001b[0m\n\u001b[0;32m-> 5678\u001b[0;31m             \u001b[0mm\u001b[0m\u001b[0;34m,\u001b[0m \u001b[0mbins\u001b[0m \u001b[0;34m=\u001b[0m \u001b[0mnp\u001b[0m\u001b[0;34m.\u001b[0m\u001b[0mhistogram\u001b[0m\u001b[0;34m(\u001b[0m\u001b[0mx\u001b[0m\u001b[0;34m[\u001b[0m\u001b[0mi\u001b[0m\u001b[0;34m]\u001b[0m\u001b[0;34m,\u001b[0m \u001b[0mbins\u001b[0m\u001b[0;34m,\u001b[0m \u001b[0mweights\u001b[0m\u001b[0;34m=\u001b[0m\u001b[0mw\u001b[0m\u001b[0;34m[\u001b[0m\u001b[0mi\u001b[0m\u001b[0;34m]\u001b[0m\u001b[0;34m,\u001b[0m \u001b[0;34m**\u001b[0m\u001b[0mhist_kwargs\u001b[0m\u001b[0;34m)\u001b[0m\u001b[0;34m\u001b[0m\u001b[0m\n\u001b[0m\u001b[1;32m   5679\u001b[0m             \u001b[0mm\u001b[0m \u001b[0;34m=\u001b[0m \u001b[0mm\u001b[0m\u001b[0;34m.\u001b[0m\u001b[0mastype\u001b[0m\u001b[0;34m(\u001b[0m\u001b[0mfloat\u001b[0m\u001b[0;34m)\u001b[0m  \u001b[0;31m# causes problems later if it's an int\u001b[0m\u001b[0;34m\u001b[0m\u001b[0m\n\u001b[1;32m   5680\u001b[0m             \u001b[0;32mif\u001b[0m \u001b[0mmlast\u001b[0m \u001b[0;32mis\u001b[0m \u001b[0mNone\u001b[0m\u001b[0;34m:\u001b[0m\u001b[0;34m\u001b[0m\u001b[0m\n",
      "\u001b[0;32m/Users/kyle/anaconda/lib/python2.7/site-packages/numpy/lib/function_base.pyc\u001b[0m in \u001b[0;36mhistogram\u001b[0;34m(a, bins, range, normed, weights, density)\u001b[0m\n\u001b[1;32m    174\u001b[0m         \u001b[0;32mif\u001b[0m \u001b[0;34m(\u001b[0m\u001b[0mmn\u001b[0m \u001b[0;34m>\u001b[0m \u001b[0mmx\u001b[0m\u001b[0;34m)\u001b[0m\u001b[0;34m:\u001b[0m\u001b[0;34m\u001b[0m\u001b[0m\n\u001b[1;32m    175\u001b[0m             raise AttributeError(\n\u001b[0;32m--> 176\u001b[0;31m                 'max must be larger than min in range parameter.')\n\u001b[0m\u001b[1;32m    177\u001b[0m \u001b[0;34m\u001b[0m\u001b[0m\n\u001b[1;32m    178\u001b[0m     \u001b[0;32mif\u001b[0m \u001b[0;32mnot\u001b[0m \u001b[0miterable\u001b[0m\u001b[0;34m(\u001b[0m\u001b[0mbins\u001b[0m\u001b[0;34m)\u001b[0m\u001b[0;34m:\u001b[0m\u001b[0;34m\u001b[0m\u001b[0m\n",
      "\u001b[0;31mAttributeError\u001b[0m: max must be larger than min in range parameter."
     ]
    },
    {
     "data": {
      "text/html": [
       "<img src='data:image/png;base64,iVBORw0KGgoAAAANSUhEUgAAA/cAAAK5CAYAAAD6o95nAAAABHNCSVQICAgIfAhkiAAAAAlwSFlz\n",
       "AAAWJQAAFiUBSVIk8AAAIABJREFUeJzs3X/wbXV93/sXESkYJDlQm1u1DhTkk+hBRdGqWCBjYC7a\n",
       "aKImRDQptSMRhDG5NVaqE+VKgjXW3EQlaKrkNkZtxzq0iVAh3ARBHQSPFhnwfQ1GQ2IEIiXxB1XA\n",
       "c//Y62u/ftn7+/1yzpd9zpv7eMx858PZa33WWpvZ/zzXWnvtfXbu3BkAAACgrx/Y0wcAAAAA7B5x\n",
       "DwAAAM2JewAAAGhO3AMAAEBz4h4AAACaE/cAAADQnLgHAACA5sQ9AAAANCfuAQAAoDlxDwAAAM2J\n",
       "ewAAAGhO3D/Axhg7xxg79/Rx8ODhM8VW85liq/lMsdV8pthKPk9stb3lMyXuAQAAoLl9l73DMcbD\n",
       "kpyT5MVJHpnkliTvS3J+Vd2zifnbk5yX5NgkD03ymWnuZXPW3S/JWUn+ZZLDknwjyZ8mOaeqbt6K\n",
       "9wMAAAB72lKv3I8x9k3y4SSvS3JbkvckuT3JuUku3sT87UmuTnJSksuTfCDJSHLJGOOUNevuk+Q/\n",
       "JHlrkruSvDfJTUlelORPxxg/uDXvCgAAAPasZd+W/9LMwvyiqnpmVZ1dVc9KclGS54wxXrLB/Hck\n",
       "OTDJyVV1alWdkeSJmZ0ouGCMceCqdU9J8rNJLqyqY6rqrKo6Psm/TfKoJGds7VsDAACAPWPZcf/K\n",
       "JPckee2a1988jS9fNHGM8fgkxyX5SFVdufJ6Vd2e2cmBbZldlV/xy5lF/y+v2dT5Sf5HkifswvED\n",
       "AADAXmdpcT/GeHiSo5PsmIL8e6rqC0luTfL06db9eY6fxkvnLPvYNB437WtbkmOS/Jeq+vaaff1d\n",
       "VR1SVb+wa+8EAAAA9i7LfKDeEzI7mXDjguU3JTkhyaFJ/mzO8qOncd78m6bxyGn8J0n2SfLZMcZB\n",
       "SV6Q5Igkf5vZlf9FxwAAAADtLDPuD5nGWxcsv3MaD96F+WvnPnoaH5VZ+P/DVeu+eYzx21W19nZ9\n",
       "AAAAaGmZ37k/aBq/vWD5N6dx0QmH9eavnbttGs9JsiPJ9iR/L8mTp3+/aozxqk0cMwAAAOz1lnnl\n",
       "/u5pPGDB8v2m8Vu7MH/t3JV//1mSF1TVytzPjjF+IckNmT3c77c2OujdMcZ4xKr/PjbJ/3wg98f/\n",
       "v4wxnrKnj4EHF58ptprPFFvNZ4qt5PPEFtl/5T/GGI9Y+3y5ZVpm3K+8yW0Llh+SZGeSr+zC/JVb\n",
       "9lfmfmMaL1sV9kmSqrppjPGFJI8dYzykqu7d8MjXGGPsvL9zkly9C3NgPdft6QPgQcdniq3mM8VW\n",
       "85liK/k8sdVuG2NsasWq2merd77M2/JXHmK3fcHyI5L8TVXdtsH8oxbMTWZX5JPkS9P4jfuumuR/\n",
       "3ca/5f9DAQAAYNmWduW+qr46xrgpyZPHGAdX1R0ry8YYRyZ5TJL3r7OJK6bxxCTvWrPspGm8bBqv\n",
       "SfLdJE9bu5Exxg9m9lT9qqp77vcbyebPsky34l+dJG95y1ty+OGH78ruAAAA2AvdfPPNec1rXrPy\n",
       "z2dV1cf31LEs87b8JLkws++5vymz77xn+l37t2Z2S/47V712RJLvVNUXk6Sqrh1j7Ejy/DHGM6rq\n",
       "k9O6I8mZmV3Zv2Ja96tjjD+c1v25qvrgqmP4P5P8YJLffaDfbFZ9x/7www/P9u2LbloAAACguT36\n",
       "jLVlx/0FSU5JcsYY46gk12f22/aPS/L2lWDP7Kfsbkzy5SSHrZp/epKrklwxxvhQknuTvDCzrxec\n",
       "XlWrvwv/yiRPSvL+Mca/THLz9O+nJfnTPMAP0wMAAIBlWeZ37jM9vO7EJG9LcmiSl02Lzq6qeT9N\n",
       "930PrquqHUmOTfInSZ43/V2d5ISq+sSadb+SWchfmNn3/E9L8sNJzk1yclV9d0veFAAAAOxhy75y\n",
       "n6q6K8mrp79F63wpC048VNVnkzx3k/u6PbNb9s+83wcKAAAATSz1yj0AAACw9cQ9AAAANCfuAQAA\n",
       "oDlxDwAAAM2JewAAAGhO3AMAAEBz4h4AAACaE/cAAADQnLgHAACA5sQ9AAAANCfuAQAAoDlxDwAA\n",
       "AM2JewAAAGhO3AMAAEBz4h4AAACaE/cAAADQnLgHAACA5sQ9AAAANCfuAQAAoDlxDwAAAM2JewAA\n",
       "AGhO3AMAAEBz4h4AAACaE/cAAADQnLgHAACA5sQ9AAAANCfuAQAAoDlxDwAAAM2JewAAAGhO3AMA\n",
       "AEBz4h4AAACaE/cAAADQnLgHAACA5sQ9AAAANCfuAQAAoDlxDwAAAM2JewAAAGhO3AMAAEBz4h4A\n",
       "AACaE/cAAADQnLgHAACA5sQ9AAAANCfuAQAAoDlxDwAAAM2JewAAAGhO3AMAAEBz4h4AAACaE/cA\n",
       "AADQnLgHAACA5sQ9AAAANCfuAQAAoDlxDwAAAM2JewAAAGhO3AMAAEBz4h4AAACaE/cAAADQnLgH\n",
       "AACA5sQ9AAAANCfuAQAAoDlxDwAAAM2JewAAAGhO3AMAAEBz4h4AAACaE/cAAADQnLgHAACA5sQ9\n",
       "AAAANCfuAQAAoDlxDwAAAM2JewAAAGhO3AMAAEBz4h4AAACaE/cAAADQnLgHAACA5sQ9AAAANCfu\n",
       "AQAAoDlxDwAAAM2JewAAAGhO3AMAAEBz4h4AAACaE/cAAADQnLgHAACA5sQ9AAAANCfuAQAAoDlx\n",
       "DwAAAM2JewAAAGhO3AMAAEBz4h4AAACa23fZOxxjPCzJOUlenOSRSW5J8r4k51fVPZuYvz3JeUmO\n",
       "TfLQJJ+Z5l62ibmXJfmJJIdW1V/s8psAAACAvchSr9yPMfZN8uEkr0tyW5L3JLk9yblJLt7E/O1J\n",
       "rk5yUpLLk3wgyUhyyRjjlA3m/ovMwn7nbrwFAAAA2Oss+7b8l2YW5hdV1TOr6uyqelaSi5I8Z4zx\n",
       "kg3mvyPJgUlOrqpTq+qMJE/M7ETBBWOMA+dNGmP8b0n+3Za9CwAAANiLLDvuX5nkniSvXfP6m6fx\n",
       "5YsmjjEen+S4JB+pqitXXq+q2zM7ObAtyYsWTH9nknuTfDzJPrt05AAAALCXWlrcjzEenuToJDum\n",
       "IP+eqvpCkluTPH26dX+e46fx0jnLPjaNx83Z7wuS/HSSX0rytV04dAAAANirLfPK/ROm/d24YPlN\n",
       "SfZLcuiC5UdP47z5N03jkatfHGP8cGa38n+0qv7g/hwsAAAAdLHMuD9kGm9dsPzOaTx4F+Yvmvu2\n",
       "JA9P8orNHCAAAAB0tMyfwjtoGr+9YPk3p3HRMa03/z5zxxg/keS0JP+qqr68+cMEAACAXpYZ93dP\n",
       "4wELlu83jd/ahfnfN3eM8bAk707y6ST/1/07zI2NMfycHgAAAKtdN8bY1IpVteUPel9m3K88RG/b\n",
       "guWHZPYb9F/Zhfkrt+yvzD03yT9K8oKqmhfinpgPAADAg8Yy437lQXjbFyw/IsnfVNVtG8w/Kskn\n",
       "5sxNkhum8alJHpJkx4IzJ38+vX5CVX1s3grr2exZljHGU5Jcd3+3DwAAQDvHVNWn99TOlxb3VfXV\n",
       "McZNSZ48xji4qu5YWTbGODLJY5K8f51NXDGNJyZ515plJ03jZdP4wSSfmrONn8rsRMC7k/xdklvu\n",
       "15sAAACAvdAyr9wnyYVJfivJm5K8Mkmm37V/a2a35L9z1WtHJPlOVX0xSarq2jHGjiTPH2M8o6o+\n",
       "Oa07kpyZ2ZX9K6Z1L5y38+kkwhFJfr2q/uKBepMAAACwTMuO+wuSnJLkjDHGUUmuT3JCkscleftK\n",
       "sCd5dGax/uUkh62af3qSq5JcMcb4UJJ7k7wws5/0O33B9+sBAADgQW2Zv3Ofqro3s9vq35bk0CQv\n",
       "mxadXVWvmjPl+2K9qnYkOTbJnyR53vR3dWbfnV/7Pfx5dq7dJgAAAHS37Cv3qaq7krx6+lu0zpey\n",
       "4MRDVX02yXN3cd8/vSvzAAAAYG+21Cv3AAAAwNYT9wAAANCcuAcAAIDmxD0AAAA0J+4BAACgOXEP\n",
       "AAAAzYl7AAAAaE7cAwAAQHPiHgAAAJoT9wAAANCcuAcAAIDmxD0AAAA0J+4BAACgOXEPAAAAzYl7\n",
       "AAAAaE7cAwAAQHPiHgAAAJoT9wAAANCcuAcAAIDmxD0AAAA0J+4BAACgOXEPAAAAzYl7AAAAaE7c\n",
       "AwAAQHPiHgAAAJoT9wAAANCcuAcAAIDmxD0AAAA0J+4BAACgOXEPAAAAzYl7AAAAaE7cAwAAQHPi\n",
       "HgAAAJoT9wAAANCcuAcAAIDmxD0AAAA0J+4BAACgOXEPAAAAzYl7AAAAaE7cAwAAQHPiHgAAAJoT\n",
       "9wAAANCcuAcAAIDmxD0AAAA0J+4BAACgOXEPAAAAzYl7AAAAaE7cAwAAQHPiHgAAAJoT9wAAANCc\n",
       "uAcAAIDmxD0AAAA0J+4BAACgOXEPAAAAzYl7AAAAaE7cAwAAQHPiHgAAAJoT9wAAANCcuAcAAIDm\n",
       "xD0AAAA0J+4BAACgOXEPAAAAzYl7AAAAaE7cAwAAQHPiHgAAAJoT9wAAANCcuAcAAIDmxD0AAAA0\n",
       "J+4BAACgOXEPAAAAzYl7AAAAaE7cAwAAQHPiHgAAAJoT9wAAANCcuAcAAIDmxD0AAAA0J+4BAACg\n",
       "OXEPAAAAzYl7AAAAaE7cAwAAQHPiHgAAAJoT9wAAANCcuAcAAIDmxD0AAAA0J+4BAACgOXEPAAAA\n",
       "ze277B2OMR6W5JwkL07yyCS3JHlfkvOr6p5NzN+e5LwkxyZ5aJLPTHMvm7PuUUl+Nck/TbItyVeT\n",
       "XJLkDVV125a8IQAAANjDlnrlfoyxb5IPJ3ldktuSvCfJ7UnOTXLxJuZvT3J1kpOSXJ7kA0lGkkvG\n",
       "GKesWfeYJNck+ckkH5/29bdJfjHJx8cYB23NuwIAAIA9a9m35b80szC/qKqeWVVnV9WzklyU5Dlj\n",
       "jJdsMP8dSQ5McnJVnVpVZyR5YmYnCi4YYxy4at3fTrJfkudW1Qur6swkT0ryn5IcntkJBgAAAGhv\n",
       "2XH/yiT3JHntmtffPI0vXzRxjPH4JMcl+UhVXbnyelXdntnJgW1JXjSt+6gkT09yZVVdsWrd7yZ5\n",
       "w/TPF+7WOwEAAIC9xNLifozx8CRHJ9kxBfn3VNUXktya5OnTrfvzHD+Nl85Z9rFpPG4a//E0fmbO\n",
       "un85jY/ezHEDAADA3m6ZV+6fMO3vxgXLb8rsNvpDFyw/ehrnzb9pGo+cxkryU0nePWfdp02jB+oB\n",
       "AADwoLDMp+UfMo23Llh+5zQevAvzv2/u9CT8/7p2pTHGIzL73n6yiQf4AQAAQAfLvHK/8nT6by9Y\n",
       "/s1pXHTCYb35G83NGOMnknw6yY8l+fMkb1y0LgAAAHSyzCv3d0/jAQuW7zeN39qF+QvnjjH+fpK3\n",
       "Zfak/iS5MsmLq+qOdY92HWOMnbs6FwAAgAel68YYm1qxqvbZ6p0vM+5XHqK3bcHyQ5LsTPKVXZi/\n",
       "csv+980dY5yY5H1JHpHZrfuvq6rf2ewBAwAAQAfLjPuVB+FtX7D8iCR/M31ffr35RyX5xJy5SXLD\n",
       "ygtjjJOS/FFm7/FDSc5aZ9v3y2bPsowxnpLkuq3YJwAAAHu1Y6rq03tq50v7zn1VfTWzp9o/eYzx\n",
       "fQ/NG2McmeQxSS5fZxMrv1d/4pxlJ03jZdP29k3yniQPSfKGqvrZrQp7AAAA2Nss84F6SXJhZt+P\n",
       "f9PKC1OIvzWzW/LfufLaGONHxxgrv1efqro2yY4kzx9jPGPV/JHkzMyu7K+cADg+yaOSXFZV39sX\n",
       "AAAAPBgt87b8JLkgySlJzhhjHJXk+iQnJHlckrdX1Sen9R6dWax/Oclhq+afnuSqJFeMMT6U5N4k\n",
       "L8zsJMXpVbXyoLtnTuMPjDHeuuBYvlZV52/JuwIAAIA9aKlxX1X3Tg+5e1OSn01yTJIvJjm7qt45\n",
       "Z8rONfN3jDGOTfJrSZ6XWdxfneRXq2r1d9t/ZBp/IvNv40+SLyUR9wAAALS37Cv3qaq7krx6+lu0\n",
       "zpey4CsDVfXZJM/dYB9nJTlr148SAAAA+lj2d+4BAACALSbuAQAAoDlxDwAAAM2JewAAAGhO3AMA\n",
       "AEBz4h4AAACaE/cAAADQnLgHAACA5sQ9AAAANCfuAQAAoDlxDwAAAM2JewAAAGhO3AMAAEBz4h4A\n",
       "AACaE/cAAADQnLgHAACA5sQ9AAAANCfuAQAAoDlxDwAAAM2JewAAAGhO3AMAAEBz4h4AAACaE/cA\n",
       "AADQnLgHAACA5sQ9AAAANCfuAQAAoDlxDwAAAM2JewAAAGhO3AMAAEBz4h4AAACaE/cAAADQnLgH\n",
       "AACA5sQ9AAAANCfuAQAAoDlxDwAAAM2JewAAAGhO3AMAAEBz4h4AAACaE/cAAADQnLgHAACA5sQ9\n",
       "AAAANCfuAQAAoDlxDwAAAM2JewAAAGhO3AMAAEBz4h4AAACaE/cAAADQnLgHAACA5sQ9AAAANCfu\n",
       "AQAAoDlxDwAAAM2JewAAAGhO3AMAAEBz4h4AAACaE/cAAADQnLgHAACA5sQ9AAAANCfuAQAAoDlx\n",
       "DwAAAM2JewAAAGhO3AMAAEBz4h4AAACaE/cAAADQnLgHAACA5sQ9AAAANCfuAQAAoDlxDwAAAM2J\n",
       "ewAAAGhO3AMAAEBz4h4AAACaE/cAAADQnLgHAACA5sQ9AAAANCfuAQAAoDlxDwAAAM2JewAAAGhO\n",
       "3AMAAEBz4h4AAACaE/cAAADQnLgHAACA5sQ9AAAANCfuAQAAoDlxDwAAAM2JewAAAGhO3AMAAEBz\n",
       "4h4AAACa23fZOxxjPCzJOUlenOSRSW5J8r4k51fVPZuYvz3JeUmOTfLQJJ+Z5l42Z93HJPm1JM9O\n",
       "8vAkNyb5zar64Na8GwAAANjzlnrlfoyxb5IPJ3ldktuSvCfJ7UnOTXLxJuZvT3J1kpOSXJ7kA0lG\n",
       "kkvGGKesWfeR07ovTnJNkv87ycFJ3j/G+JUteksAAACwxy37tvyXZhbmF1XVM6vq7Kp6VpKLkjxn\n",
       "jPGSDea/I8mBSU6uqlOr6owkT8zsRMEFY4wDV63760keneRfVNVPV9VZSZ6Q5IYk540xDtvatwYA\n",
       "AAB7xrLj/pVJ7kny2jWvv3kaX75o4hjj8UmOS/KRqrpy5fWquj2zkwPbkrxoWveHk5ya5HNV9fur\n",
       "1r0rydszu53/n+/umwEAAIC9wdLifozx8CRHJ9kxBfn3VNUXktya5OnTrfvzHD+Nl85Z9rFpPG4a\n",
       "n5nZ8wQ2sy4AAAC0tswr90+Y9nfjguU3JdkvyaELlh89jfPm3zSNR25i3f83yc5V6wIAAEBry4z7\n",
       "Q6bx1gXL75zGg3dh/tq5C9etqp1J/nad/QAAAEAry4z7g6bx2wuWf3MaF92Wv978tXM3s6+l/wwg\n",
       "AAAAPBCWGfd3T+MBC5bvN43f2oX5a+duZl+L9gMAAACtLPPq9cpD9LYtWH5IZt+F/8ouzF+5Df8r\n",
       "G607xviB6fU/W+9g1zPG2LmrcwEAAHhQum6MsakVq2qfrd75Mq/crzzcbvuC5Uck+Zuqum2D+Uct\n",
       "mJvMfsM++V8P2Ju37mMyO6lxw5xlAAAA0M7SrtxX1VfHGDclefIY4+CqumNl2RjjyMyi+/3rbOKK\n",
       "aTwxybvWLDtpGi+bxv8nyXendc/ZYN37bbNnWcYYT0ly3a7uBwAAgDaOqapP76mdL/PKfZJcmNn3\n",
       "3d+08sL0u/ZvzeyW/HeuvDbG+NExxj9eWa+qrk2yI8nzxxjPWDV/JDkzsyv7V0zr3prkv2R2IuFn\n",
       "Vq37I0n+TWa37f/HB+g9AgAAwFIt+4nxFyQ5JckZY4yjklyf5IQkj0vy9qr65LTeozOL9S8nOWzV\n",
       "/NOTXJXkijHGh5Lcm+SFmZ2kOH36mbsVv5TknyZ5/xjjZ5PckeSnMvsJvBdX1dcfkHcIAAAAS7bU\n",
       "K/dVdW9mt8q/LcmhSV42LTq7ql41Z8r3PbiuqnYkOTbJnyR53vR3dZITquoTa9a9Jck/SfLhJD+e\n",
       "5OeSfD7JyVX1oS16SwAAALDHLf233qvqriSvnv4WrfOlLDjxUFWfTfLcTe7rzzO7UwAAAAAetJb9\n",
       "nXsAAABgi4l7AAAAaE7cAwAAQHPiHgAAAJoT9wAAANCcuAcAAIDmxD0AAAA0J+4BAACgOXEPAAAA\n",
       "zYl7AAAAaE7cAwAAQHPiHgAAAJoT9wAAANCcuAcAAIDmxD0AAAA0J+4BAACgOXEPAAAAzYl7AAAA\n",
       "aE7cAwAAQHPiHgAAAJoT9wAAANCcuAcAAIDmxD0AAAA0J+4BAACgOXEPAAAAzYl7AAAAaE7cAwAA\n",
       "QHPiHgAAAJoT9wAAANCcuAcAAIDmxD0AAAA0J+4BAACgOXEPAAAAzYl7AAAAaE7cAwAAQHPiHgAA\n",
       "AJoT9wAAANCcuAcAAIDmxD0AAAA0J+4BAACgOXEPAAAAzYl7AAAAaE7cAwAAQHPiHgAAAJoT9wAA\n",
       "ANCcuAcAAIDmxD0AAAA0J+4BAACgOXEPAAAAzYl7AAAAaE7cAwAAQHPiHgAAAJoT9wAAANCcuAcA\n",
       "AIDmxD0AAAA0J+4BAACgOXEPAAAAzYl7AAAAaE7cAwAAQHPiHgAAAJoT9wAAANCcuAcAAIDmxD0A\n",
       "AAA0J+4BAACgOXEPAAAAzYl7AAAAaE7cAwAAQHPiHgAAAJoT9wAAANCcuAcAAIDmxD0AAAA0J+4B\n",
       "AACgOXEPAAAAzYl7AAAAaE7cAwAAQHPiHgAAAJoT9wAAANCcuAcAAIDmxD0AAAA0J+4BAACgOXEP\n",
       "AAAAzYl7AAAAaE7cAwAAQHPiHgAAAJoT9wAAANCcuAcAAIDmxD0AAAA0t++ydzjG2J7kvCTHJnlo\n",
       "ks8kOb+qLrsf2zgtyauSPDbJnUkuTfL6qrp1zrovS/KLSX4ss5MZn0/y76vqwt17JwAAALB3WOqV\n",
       "+ynsr05yUpLLk3wgyUhyyRjjlE1u4/VJ3pvkh5L8XpJPJTktyTVjjEPWrPsbSf59kkcmeX+Si5Mc\n",
       "nuSCaRkAAAC0t+zb8t+R5MAkJ1fVqVV1RpInJrkts+A+cL3JY4zDk7wxyfVJjqqqs6rqBUleluQx\n",
       "Sd68at2R5F8luSHJ46rqFVX10ml/dyT5P8YYj9vqNwgAAADLtrS4H2M8PslxST5SVVeuvF5Vtye5\n",
       "KMm2JC/aYDOvyOyYz62qb67axu8n+eskLxlj7D+9/MJp/I2q+vqqdf8iye8m2WfVOgAAANDWMq/c\n",
       "Hz+Nl85Z9rFpPG4T27g3yUfnLLsqyf5Jnjb9+/AkOzP7Tv9afzmNj9pgfwAAALDXW2bcHz2NN85Z\n",
       "dtM0HrnBNp6U5Jaq+tacZSvbXdnG7yT56SQ3z1l35QTAbRvsDwAAAPZ6y3xa/srD7u7zRPvMnnif\n",
       "JAcvmjzGOCiz4503/z7bqKrrFmznnyV5aWZX9S9e/5ABAABg77fMuD9oGr89Z9nK9+fXO5715m+4\n",
       "jTHGfkl+NclrM/u+/Tuqasc6+wMAAIAWlhn3d0/jAXOW7TeN826338z8dbcxxjguybsy+9m9e5K8\n",
       "sarOW/do1zHG2LmrcwEAAHhQum72o20bq6p9tnrnuxX3Y4xDk3xxk6v/4TRum7Ns5Zb9r6wz/44k\n",
       "310wf+42xhgPSfKWJL88vXRtkl+sqs9u5oABAACgg929cv/1JH+Q2ffXN/L5JD+Z5Kgkn1iz7Ihp\n",
       "vGHR5Kq6e4xxc5LDxhgHVNVdm9jGe5P8fJJvJDmnqt65iePc0GbPsowxnpJk7nf/AQAAeFA5pqo+\n",
       "vad2vltxX1VfyyyeNzTGeGqS85KcmNkt8qudNI2XbbCZP05yRpJnJ/mjVdt+yPTaX1XVjdNr//t0\n",
       "bHcmOb6qPreZ4wQAAIBulvZTeFV1bZIdSZ4/xnjGyutj9qWEMzP7KbsrVr1+yBjjR8cYh6zazLsz\n",
       "u0vgjWOMv7fq9Vdn9pv1q6/Mv2QazxD2AAAAPJgt84F6SXJ6kquSXDHG+FCSe5O8MLOTDKdX1erb\n",
       "+8/O7On2505/qar/Psb4jSSvSfK5McYfJ3lsZlftr03ytlXzn5nZiYCnT3cNzPPRqrp8q94cAAAA\n",
       "7AlLjfuq2jHGODbJryV5XmZxf3WSX53zu/Q7V/2t3sZrxxhfSnJWktOS3JbkN5O8oaq+s2rVH5nG\n",
       "Vy04nJ1J/i6JuAcAAKC1ZV+5z/Sk+uduYr3vXbGfs+zCJBduMP/AXTpAAAAAaGZp37kHAAAAHhji\n",
       "HgAAAJoT9wAAANCcuAcAAIDmxD0AAAA0J+4BAACgOXEPAAAAzYl7AAAAaE7cAwAAQHPiHgAAAJoT\n",
       "9wAAANCcuAcAAIDmxD0AAAA0J+4BAACgOXEPAAAAzYl7AAAAaE7cAwAAQHPiHgAAAJoT9wAAANCc\n",
       "uAcAAIDmxD0AAAA0J+4BAACgOXEPAAAAzYl7AAAAaE7cAwAAQHPiHgAAAJoT9wAAANCcuAcAAIDm\n",
       "xD0AAAA0J+4BAACgOXEPAAAAzYl7AAAAaE7cAwAAQHPiHgAAAJoT9wAAANCcuAcAAIDmxD0AAAA0\n",
       "J+4BAACgOXEPAAAAzYl7AAAAaE7cAwAAQHPiHgAAAJoT9wAAANCcuAcAAIDmxD0AAAA0J+4BAACg\n",
       "OXEPAAAAzYl7AAAAaE7cAwAAQHPiHgAAAJoT9wAAANCcuAcAAIDmxD0AAAA0J+4BAACgOXEPAAAA\n",
       "zYl7AAAAaE7cAwAAQHPiHgAAAJoT9wAAANCcuAcAAIDmxD0AAAA0J+4BAACgOXEPAAAAzYl7AAAA\n",
       "aE7cAwAAQHPiHgAAAJoT9wAAANCcuAcAAIDmxD0AAAA0J+4BAACgOXEPAAAAzYl7AAAAaE7cAwAA\n",
       "QHPiHgAAAJoT9wAAANCcuAcAAIDmxD0AAAA0J+4BAACgOXEPAAAAzYl7AAAAaE7cAwAAQHPiHgAA\n",
       "AJoT9wAAANCcuAcAAIDmxD0AAAA0J+4BAACguX2XubMxxvYk5yU5NslDk3wmyflVddn92MZpSV6V\n",
       "5LFJ7kxyaZLXV9WtG8w7Isn1Sa6pqh/fpTcAAAAAe6GlXbmfwv7qJCcluTzJB5KMJJeMMU7Z5DZe\n",
       "n+S9SX7ViaNIAAAXTklEQVQoye8l+VSS05JcM8Y4ZJ15+yT53ST7J9m5y28CAAAA9kLLvC3/HUkO\n",
       "THJyVZ1aVWckeWKS25JcMMY4cL3JY4zDk7wxs6vvR1XVWVX1giQvS/KYJG9eZ/rpSY7f/bcAAAAA\n",
       "e5+lxP0Y4/FJjkvykaq6cuX1qro9yUVJtiV50QabeUVmx3tuVX1z1TZ+P8lfJ3nJGOOAOft+VJK3\n",
       "JLl4d98HAAAA7I2WdeV+5ar5pXOWfWwaj9vENu5N8tE5y67K7Jb7p81Z9jtJ7kry6o0PEwAAAPpZ\n",
       "VtwfPY03zll20zQeucE2npTklqr61pxlK9t97OoXxxg/l+SfJfmlJHds7lABAACgl2XF/crD7uY9\n",
       "0f7OaTx40eQxxkGZPdl/0RPx77ON6QF7v53kkqr64P06WgAAAGhkWXF/0DR+e86yle/Pr/ezfOvN\n",
       "X7SN38rsVv0zNnOAAAAA0NWyfuf+7mm8zwPvkuw3jfNut9/M/PtsY4xxcpJTk/xSVd0yLduyn8Ab\n",
       "Y/g5PQAAAFa7boyxqRWrap+t3vkux/0Y49AkX9zk6n84jdvmLFu5Zf8r68y/I8l3F8z/vm1MT8y/\n",
       "MMmnkrx91Tpb/j8PAAAA9ga7c+X+60n+IJu7Iv75JD+Z5Kgkn1iz7IhpvGHR5Kq6e4xxc5LDxhgH\n",
       "VNVd62zjR5L8o+nv3jlnTk4YY3w3yZer6rBNHPu849nUiYIxxlOSXLcr+wAAAKCVY6rq03tq57sc\n",
       "91X1tSQ/v5l1xxhPTXJekhOTvGvN4pOm8bINNvPHmX1//tlJ/mjVth8yvfZXVXXjGOOHk/y73Pek\n",
       "w/5JzkpyS5L/GE/PBwAA4EFiKd+5r6prxxg7kjx/jPGMqvpkkozZZfUzM/spuytW1p+edP+IJLdP\n",
       "JxGS5N1JXpHkjWOMy6tq5eF6r07yqCT/ZtrXnUl+Ze0xjDF+KLO4v7mqXvMAvE0AAADYI5b1tPwk\n",
       "OT3Jd5JcMcb4D2OMi5Jcm9kJhtOravWV9rMzC/6zVl6oqv+e5DeSPDnJ58YYF4wxLk9y/rSdt22w\n",
       "f9+5BwAA4EFpaXFfVTuSHJvkT5I8b/q7OskJVbX2e/g7V/2t3sZrM7vS/50kpyV5bJLfTPLsqvrO\n",
       "A3n8AAAAsLda1k/hJUmq6rNJnruJ9c5Ncu6CZRdm9jT8+7vvO7PcOxUAAABgKcQuAAAANCfuAQAA\n",
       "oDlxDwAAAM2JewAAAGhO3AMAAEBz4h4AAACaE/cAAADQnLgHAACA5sQ9AAAANCfuAQAAoDlxDwAA\n",
       "AM2JewAAAGhO3AMAAEBz4h4AAACaE/cAAADQnLgHAACA5sQ9AAAANCfuAQAAoDlxDwAAAM2JewAA\n",
       "AGhO3AMAAEBz4h4AAACaE/cAAADQnLgHAACA5sQ9AAAANCfuAQAAoDlxDwAAAM2JewAAAGhO3AMA\n",
       "AEBz4h4AAACaE/cAAADQnLgHAACA5sQ9AAAANCfuAQAAoDlxDwAAAM2JewAAAGhO3AMAAEBz4h4A\n",
       "AACaE/cAAADQnLgHAACA5sQ9AAAANCfuAQAAoDlxDwAAAM2JewAAAGhO3AMAAEBz4h4AAACaE/cA\n",
       "AADQnLgHAACA5sQ9AAAANCfuAQAAoDlxDwAAAM2JewAAAGhO3AMAAEBz4h4AAACaE/cAAADQnLgH\n",
       "AACA5sQ9AAAANCfuAQAAoDlxDwAAAM2JewAAAGhO3AMAAEBz4h4AAACaE/cAAADQnLgHAACA5sQ9\n",
       "AAAANCfuAQAAoDlxDwAAAM2JewAAAGhO3AMAAEBz4h4AAACaE/cAAADQnLgHAACA5sQ9AAAANCfu\n",
       "AQAAoDlxDwAAAM2JewAAAGhO3AMAAEBz4h4AAACaE/cAAADQnLgHAACA5sQ9AAAANCfuAQAAoDlx\n",
       "DwAAAM2JewAAAGhO3AMAAEBz4h4AAACa23fZOxxjbE9yXpJjkzw0yWeSnF9Vl92PbZyW5FVJHpvk\n",
       "ziSXJnl9Vd06Z91Dk7wpyY8nOSTJXyR5f5Lzqure3XkvAAAAsDdY6pX7KeyvTnJSksuTfCDJSHLJ\n",
       "GOOUTW7j9Unem+SHkvxekk8lOS3JNWOMQ9ase1iSa5L8TJJPJnlfkv2TvCHJW3f7DQEAAMBeYNm3\n",
       "5b8jyYFJTq6qU6vqjCRPTHJbkgvGGAeuN3mMcXiSNya5PslRVXVWVb0gycuSPCbJm9dM+Z3MTgKc\n",
       "WFU/U1Uvn/Z3U5Izxxj/cOveGgAAAOwZS4v7McbjkxyX5CNVdeXK61V1e5KLkmxL8qINNvOKzI75\n",
       "3Kr65qpt/H6Sv07ykjHGAdP+HpfZHQLvqqqrVq17Z5LfSvLNzEIfAAAAWlvmlfvjp/HSOcs+No3H\n",
       "bWIb9yb56JxlV2V2y/1Tp3+fNI0fXLtiVb27qg6uqv+2wf4AAABgr7fMB+odPY03zll20zQeucE2\n",
       "npTklqr61pxlK9s9MrOTBU9PsjPJ9dNV/OdkdnfAF5L856r6+v04dgAAANhrLfPK/crD7u7zRPvM\n",
       "nnifJAcvmjzGOCizkxHz5s/bxqOT/M8kZyf5XJK3JDkns4fxfXGM8exNHzkAAADsxZYZ9wdN47fn\n",
       "LFv5/vx6dxKsN3/eNrZldpv+G5P8SpJ/kOThSX4hyQ8muXiM8agNjxoAAAD2csu8Lf/uaTxgzrL9\n",
       "pnHe7fabmT9vG/sl2SfJv62qt61a733Tw/3+dZJ/nuTX1zvo3bT/yn/cfPPND+BuAAAAWLY1nbf/\n",
       "ovWWYbfifoxxaJIvbnL1P5zGbXOWrdyy/5V15t+R5LsL5s/bxjem8b/OWffizOL+x9bZ30JjjJ33\n",
       "d85rXvOaXdkVAAAAPVw9xtjUilW1z1bvfHev3H89yR9k9uC6jXw+yU8mOSrJJ9YsO2Iab1g0uaru\n",
       "HmPcnOSwMcYBVXXXBtv4UmY/dfeN3NfK1f0t/x8KAAAAy7ZbcV9VX0vy85tZd4zx1CTnJTkxybvW\n",
       "LF752brLNtjMHyc5I8mzk/zRqm0/ZHrtr6pq5an5H0/y/CRPS1JrtvPkabx+M8e+1mbPsowxHpHk\n",
       "tumfz8rsAX+wu66bxmP26FHwYOIzxVbzmWKr+UyxlXye2Er7J7l6+u9/UFW376kD2Wfnzvt9h/ku\n",
       "G2Ncl9nV9OOq6pPTayPJNUn+MslRVbVzev2QJI9Icvt0EiHj/2vv3oMsqeoDjn9XCGLQxIUQIgvU\n",
       "Eh6/hIAiBYoQYSlYKijqCkFACFmxQJZH8Yi8xAAbN4BZlAQEVhRJAmwwRSxNIoZXXARiEZLlZbn+\n",
       "ggSBhIcGgoIhIMvkj9N3cnP3zp07M3d6bk++n6pbXdt9+nF2ftXdv+7T50S8DVgN3AfsmZkvV/PP\n",
       "BC4EPpGZF1Xz3kIZ9u7pan9PVvM3Be4EtgS2zcynprnOIzA9zS70/5MxpUEzpjRoxpQGzZjSIBlP\n",
       "GrRhiak6O9QDOJaSWN8eETcCa4GDKb32H9tK7CsnAecCS6sfmflARCwHzgAeiojbgO0ob+3vBUY7\n",
       "zsvMpyJiCXANZaz7W4FXKC0HNqv2N62JvSRJkiRJdahzKDwyczWwJ/BN4P3V7y5gQWZ2foc/0vZr\n",
       "38ZZwPGURH0xJbm/BNg3M1/pKHstsB/wAOV7/0WUJvoHZubVg6ybJEmSJEkzpe4392Tm/cB7+yg3\n",
       "+sa+y7IVwIo+97cKWNX/EUqSJEmS1Cy1vrmXJEmSJEmDZ3IvSZIkSVLDmdxLkiRJktRwJveSJEmS\n",
       "JDWcyb0kSZIkSQ1nci9JkiRJUsPNGRkZGb+UJEmSJEkaWr65lyRJkiSp4UzuJUmSJElqOJN7SZIk\n",
       "SZIazuRekiRJkqSGM7mXJEmSJKnhTO4lSZIkSWo4k3tJkiRJkhrO5F6SJEmSpIYzuZckSZIkqeFM\n",
       "7iVJkiRJajiTe0mSJEmSGs7kXpIkSZKkhjO5lyRJkiSp4daf6QNoqojYEVgG7An8HHAfcGFm3jKB\n",
       "bSwGTga2A54HvgF8MjOf6VJ2PvApYB9gE+BxYCWwLDPXTqUuGg51x1THetsCDwL3ZOY+k6qAhs4M\n",
       "nKeOBj4G/Drl4fH3gC9m5oqp1UR1i4ifB84GDgc2B54ArqPEz6t9rN937EXEVsAfAvsCbwK+C1yS\n",
       "mTcMpjYaBjXH1E7AucC7gbnA08BNwHmZ+cOBVEgzrs6Y6rLuLcB+wPzMfHzSldDQqPkctQFwIvBR\n",
       "YGvgRWAVcHZmPjKVevjmfhKqP95dwP7ArcBfAAHcFBGH9rmNTwJfAn4R+FPgH4HFwD0RsUlH2a2B\n",
       "e4BDgG9TAm1D4Dzg4ilXSDOu7pjqWG8O8AVKTI1MuhIaKjNwnloOfJFyQVwJfBXYBriiWqaGiIj1\n",
       "ga8A5wA/BK4GfgQspfxdx1u/79iLiM2rsodTrnN/BmwMrIyI0wdUJc2wmmNqV0osvQ+4u9rXjykP\n",
       "Hu+OiF8YTK00k+qMqS7rfoSS2HvPNEvUfI6aA/w5JYd7iXKftQb4bWBVRGw0lbqY3E/O54A3Agdk\n",
       "5oczcwnwNkowXBERb+y1ckRsA5xPeVO6U2aemJkHAUcDWwEXdaxyJeXmemFmHpKZx1T7WwMcHxFv\n",
       "GVzVNEPqjql2xwJ7T70KGjK1xVREBPB7wHeAHTLzuMw8strfc8BpEbHDoCuoaXMk5QblmszcIzNP\n",
       "yszfBK4B3hMRR4yz/kRi7wJgC+AjmfnBzDwReCsllpZVD7fVfHXG1KXABsB7M/PgzDwe2Bn4S8oD\n",
       "x3MGWjPNlDpjalRE/ArwmYHVQsOizng6FPgQsCIzd63ur/YGPg3MA5ZMpSIm9xMUEb8B7AV8PTPv\n",
       "aM3PzB9RAmAu5clLL8dR/u+XZuZP27ZxLfAUcEREvKHa3w6UYPt8Zt7ZVvZ54E+An1KCRw1Vd0x1\n",
       "7Hse8Ef08VRSzVFjTG1YzT64mi7PzBfayj5OaRUyp62Mht8JwKvAWR3zWw90jhlrxYnEXkS8Gfgw\n",
       "8FAVV62yLwGXUZo1/u5UK6OhUFdMzQN2B+7IzNvbyr5Gae0Inotmi1piqovLgbWUViFzJnXkGkZ1\n",
       "xtOplKT/1I5NXQj8J+UB96SZ3E9c6w3nN7os+1Y13auPbawFbu6y7E5K8+jdqn/vX03X+fYwM6/K\n",
       "zI0z8+/G2Z+GW10x9Y4uy66kNAn6+PiHqQapO6a2oTRPvK9L2X+rpvPG2Z+GQES8CXg7sLq6MRmV\n",
       "mQ8DzwC7V00Yu5lI7O1B6ftnKnGqIVdzTP1qNe11Ltqin+PW8Ko5ptr3exDwQeAU4NlJHLqGUJ3x\n",
       "FBFzgV2Br2Xmyx37+klmbpKZR02uJoUd6k3c26vpd7ssW1NNtx9nGzsDT2Tmf3VZ1tru9pSA2J1y\n",
       "0/xg9Rb/PZQnQA8Df9X+lkyNVVdMbQeMPlGMiMOAAylvzp7r+2jVBHWfp64EvgZ06wSm9QDATqya\n",
       "4a2UB//dYgdK/CwA5gPf77J8IrHXq+y/UK5948Wphl+dMZXAIkpnnp08F80edcYUMNrS6HPAzZl5\n",
       "fUQcMrFD1hCrM57eSWnxcX/V/8dBwLaUfkG+npljHUPfTO4nrtWJVLfex5+vphuPtXL1h1x/jPW7\n",
       "bWML4L+Bkyi9Cbc3AVoeEYe1Nz1TI9UdU1SdoV0K3JSZN1QXLc0etcZUZv7TGNs5kPId2wh++tEU\n",
       "vWIHxo+ficTemGUzcyQiftxjP2qO2mKq6gn/rzsLRcSmlMQMPBfNBnWep1o+SxnN47h+DlCNUmc8\n",
       "tVoOzaMk/u39pl0UEZdmZmdz/QmxWf7EtXpZfbnLstZ3qb0emvRav9s25lKav54PnA78MuXkchSw\n",
       "EfDV6hszNVfdMQWlv4YNmWKnHRpaMxFToyJig4hYRrmJngNcnpmre+xPw2NKf/tx1u9ct599+RKi\n",
       "+eqMqXVExH7AP1OG6HyUcj+lZqs1pqoYWgycm5mP9X+Yaog642luNT0bWA3sCLwe2KX698kRcXIf\n",
       "xzwmL5oT97Nquk7nZJTeWQG6NWPtZ/1u29iAcnP86cz8bFu566oOHM6kdDh0Qa+D1lCrNaYi4gBK\n",
       "U/xTMvOJapnDucwudZ+nRkXEXsDnKUPAvAqcn5nLeh6thsmk//Z9rN+5bj/76hWnaoY6Y2pURPwS\n",
       "5W3rkdWsO4DDM9PP0Jqvtpiqxj6/ivKA6I8ndphqiDrPUa1/fx84KDNb694fEUdRRoo5gfISblJM\n",
       "7oGImA/8a5/F/6aazu2yrNUs48ke6z8HvDbG+t228WI1XaeZGeWt2JmUp9EaIsMaU1WP+Sso45Vf\n",
       "1lbGHl+H3LDGVNvxrUcZeaHVnOxe4GOZeX8/B6yh0epMqNfffoSx46fX+p1xM2bZiHhdNb/b941q\n",
       "ljpjCoCIWAhcB2xKaRZ7TmZe2e8Ba+jVGVNLgS0piVi3FyHePzVfnfHUyutuaUvsAcjMNRHxMLBd\n",
       "RKyXmWvHPfIuTO6LF4Dr6e/t5feA9wE7Af/QsWzbavqdsVbOzJ9FxCPA1hHxhmrIn17b+AFlqLsX\n",
       "WVfrKZAnluEzrDG1GeUitSWwtgxP/n8siIjXgMcy0/Glh8uwxlTLl4DfoZyrzs7My/s4Tg2fVmc+\n",
       "O46xfFvgP6pvm3ut30/srWkr22kryj3KmHGqxqgzpoiI/YG/pcTPjcCJPbatZqozpnYD1gNWd7ln\n",
       "Ani0mr8gM7/VrYCGXp3x9INq2i2vg/9txj/p3M7kHsjMZyk3peOKiN2AZcBCStPTdq1h624ZZzO3\n",
       "Ub513pdyAWpte71q3r+39ZZ4N/ABSi+v2bGdXarpg/0cu+ozrDFVdZz3GdZNEDcETgSeAL6MvecP\n",
       "nWGNqWreb1XH9jywd2Y+1M9xavhk5tMRsQbYJSI2bm/CHBHbU5LulT020ergtZ/Y+3tKC5GFlO8P\n",
       "e5VVQ9UZU9VQVVdTkrHzMvNTA6iChkzN56kbKK0dOy2iJG5XAT+h3D+pgWqOp3so1711hqeOiI0o\n",
       "vepnZr464YpU7FBvgjLzXkqHBx+IiHe15kd5bHc85enN7W3zN4mIX6t6J2+5ipJcnR8Rr2+b/3FK\n",
       "74ntb7yup7yhPy8iNm/b7qaUm6GXgGsHVD3NgDpjKjOfz8zTM/OM9h/w+1X5R6p5F01DVVWTGThP\n",
       "HVFNl5jYzworKN8FjiZGVdJ0MSUmLm/Nq+KmNbb4hGIvM5+hDKG4S/uwUhGxGfAJSlPHL09THVWv\n",
       "WmKKMt70PEqTVxP72a2u89SKznum6r6p9RLugmreo9NZWU27uuLpacqnk/tUQ1K3+wNKZ+lfmEpF\n",
       "fHM/OccCdwK3R8SNwFrgYMrDkmM7vsk5CTiX8s3OUoDMfCAilgNnAA9FxG2UMcj3pXynOtpxXmY+\n",
       "FRFLgGsoY93fCrxCeTq0WbW/p6azsqpFbTE1Bj/tmH3qjKk9KBe/3atWA93cnJm3DqpymlZXAIcC\n",
       "SyJiJ0rrsAXADsBlmfntqtwWlJuWx4D2z3gmEnunAO8GVkbEhyithhZRhg06PDNfmJYaqm51xdQe\n",
       "1fR1EXHxGMfybGZeOJBaaSbVeZ7S7FdnPJ0A7Ey57n0UeKT69zuAVUyhMz3wzf2kVEM67Ql8E3h/\n",
       "9buL8r1N57cWI22/9m2cRXma8wpleI3tgEuAfTPzlY6y1wL7AQ9QvqNdRGmif2BmXj3Iumlm1B1T\n",
       "mv1qjqnNqunJwGldfqcC70KNUHXis5DyAGc+cHS16KTM7DZET2fc9B171Ygd7wS+AuwDHEbpM+KA\n",
       "zLxxQFXSDKsxplrnov3ofi46DThm6jXSTKvzPDWGda6Zaq6ar3tPUhL5FZTv/BcDb6a8XDkgM1+b\n",
       "Sl3mjIwYl5IkSZIkNZlv7iVJkiRJajiTe0mSJEmSGs7kXpIkSZKkhjO5lyRJkiSp4UzuJUmSJElq\n",
       "OJN7SZIkSZIazuRekiRJkqSGM7mXJEmSJKnhTO4lSZIkSWo4k3tJkiRJkhrO5F6SJEmSpIYzuZck\n",
       "SZIkqeFM7iVJkiRJajiTe0mSJEmSGs7kXpIkSZKkhjO5lyRJkiSp4UzuJUmSJElquP8BTPbWmFm/\n",
       "M3YAAAAASUVORK5CYII=\n",
       "' width=507 height=348/>"
      ],
      "text/plain": [
       "<matplotlib.figure.Figure at 0x164c56b10>"
      ]
     },
     "metadata": {},
     "output_type": "display_data"
    }
   ],
   "source": [
    "sns.distplot()"
   ]
  },
  {
   "cell_type": "code",
   "execution_count": null,
   "metadata": {
    "collapsed": true
   },
   "outputs": [],
   "source": [
    "plt.hist(np.nanmean(ssrt1, axis=1))"
   ]
  },
  {
   "cell_type": "code",
   "execution_count": 552,
   "metadata": {
    "collapsed": false
   },
   "outputs": [
    {
     "data": {
      "text/plain": [
       "array([ 4.661,  4.819,  4.939,  5.059,  5.251])"
      ]
     },
     "execution_count": 552,
     "metadata": {},
     "output_type": "execute_result"
    }
   ],
   "source": [
    "c_ssrt1 = np.nanmean(ssrt1, axis=1)\n",
    "c_ssrt2 = np.nanmean(ssrt2, axis=1)\n",
    "mq(c_ssrt1[i], prob=p)*10"
   ]
  },
  {
   "cell_type": "code",
   "execution_count": 540,
   "metadata": {
    "collapsed": false
   },
   "outputs": [],
   "source": [
    "acc1 = np.array([np.where(ert[i]<ssrt1[i], 1, 0).mean(axis=1).astype(np.float16) for i in range(ncond)])\n",
    "acc2 = np.array([np.where(ert[i]<ssrt2[i], 1, 0).mean(axis=1) for i in range(ncond)])"
   ]
  },
  {
   "cell_type": "code",
   "execution_count": 542,
   "metadata": {
    "collapsed": false
   },
   "outputs": [
    {
     "data": {
      "text/plain": [
       "array([[ 0.99853516,  0.98779297,  0.92773438,  0.39697266,  0.06933594],\n",
       "       [ 0.99902344,  0.9921875 ,  0.95605469,  0.53515625,  0.12939453]], dtype=float16)"
      ]
     },
     "execution_count": 542,
     "metadata": {},
     "output_type": "execute_result"
    }
   ],
   "source": [
    "1 - acc1"
   ]
  },
  {
   "cell_type": "code",
   "execution_count": 543,
   "metadata": {
    "collapsed": false
   },
   "outputs": [
    {
     "data": {
      "text/plain": [
       "array([[ 0.9972,  0.9844,  0.934 ,  0.4028,  0.0668],\n",
       "       [ 0.9984,  0.9932,  0.9596,  0.5336,  0.1312]])"
      ]
     },
     "execution_count": 543,
     "metadata": {},
     "output_type": "execute_result"
    }
   ],
   "source": [
    "1 - acc2"
   ]
  },
  {
   "cell_type": "code",
   "execution_count": 531,
   "metadata": {
    "collapsed": false
   },
   "outputs": [
    {
     "name": "stdout",
     "output_type": "stream",
     "text": [
      "[ 0.49596162  0.49349324]\n",
      "[ 0.49717488  0.49484618]\n"
     ]
    }
   ],
   "source": [
    "print np.nanmean(ssrt2, axis=1).mean(axis=1)\n",
    "print np.nanmean(ssrt1, axis=1).mean(axis=1)"
   ]
  },
  {
   "cell_type": "code",
   "execution_count": 621,
   "metadata": {
    "collapsed": false
   },
   "outputs": [
    {
     "data": {
      "text/plain": [
       "array([[ 0.9868    ,  0.9984    ,  0.9876    ,  0.928     ,  0.3976    ,\n",
       "         0.0876    ,  5.02370698,  5.27370698,  5.47370698,  5.69370698,\n",
       "         6.02370698,  4.75370698,  4.92330698,  5.00370698,  5.08370698,\n",
       "         5.24370698],\n",
       "       [ 0.9612    ,  0.9996    ,  0.99      ,  0.9452    ,  0.504     ,\n",
       "         0.112     ,  5.12370698,  5.39370698,  5.60370698,  5.83370698,\n",
       "         6.12370698,  4.81370698,  4.95430698,  5.07370698,  5.14370698,\n",
       "         5.28370698]])"
      ]
     },
     "execution_count": 621,
     "metadata": {},
     "output_type": "execute_result"
    }
   ],
   "source": [
    "yhat_grouped1"
   ]
  },
  {
   "cell_type": "code",
   "execution_count": 620,
   "metadata": {
    "collapsed": false
   },
   "outputs": [
    {
     "data": {
      "text/plain": [
       "array([[ 0.9868    ,  0.9984    ,  0.9876    ,  0.928     ,  0.3976    ,\n",
       "         0.0876    ,  5.02370698,  5.27370698,  5.47370698,  5.69370698,\n",
       "         6.02370698,  4.81370698,  5.00370698,  5.13370698,  5.28510698,\n",
       "         5.54150698],\n",
       "       [ 0.9612    ,  0.9996    ,  0.99      ,  0.9452    ,  0.504     ,\n",
       "         0.112     ,  5.12370698,  5.39370698,  5.60370698,  5.83370698,\n",
       "         6.12370698,  4.89190698,  5.09370698,  5.23370698,  5.37370698,\n",
       "         5.63370698]])"
      ]
     },
     "execution_count": 620,
     "metadata": {},
     "output_type": "execute_result"
    }
   ],
   "source": [
    "yhat_grouped2"
   ]
  },
  {
   "cell_type": "code",
   "execution_count": 483,
   "metadata": {
    "collapsed": false
   },
   "outputs": [
    {
     "data": {
      "text/plain": [
       "array([-0.26166209, -0.26389816, -0.26613423, -0.26389816, -0.26613423,\n",
       "       -0.26837029, -0.26613423, -0.26837029, -0.27060636, -0.26837029])"
      ]
     },
     "execution_count": 483,
     "metadata": {},
     "output_type": "execute_result"
    }
   ],
   "source": [
    "#init_ss[:, :, 1] + \n",
    "DVs1[0, 4, 1][-10:]"
   ]
  },
  {
   "cell_type": "code",
   "execution_count": 484,
   "metadata": {
    "collapsed": false
   },
   "outputs": [
    {
     "data": {
      "text/plain": [
       "array([-0.06041597, -0.0581799 , -0.06041597, -0.06265204, -0.06488811,\n",
       "       -0.06265204, -0.06488811, -0.06265204, -0.06488811, -0.06712418])"
      ]
     },
     "execution_count": 484,
     "metadata": {},
     "output_type": "execute_result"
    }
   ],
   "source": [
    "DVs2[0, 4, 1][-10:]"
   ]
  },
  {
   "cell_type": "code",
   "execution_count": 393,
   "metadata": {
    "collapsed": false
   },
   "outputs": [
    {
     "data": {
      "text/plain": [
       "array([[ 0.9952,  0.9892,  0.9252,  0.3968,  0.0676],\n",
       "       [ 0.9996,  0.994 ,  0.9548,  0.4936,  0.1176]])"
      ]
     },
     "execution_count": 393,
     "metadata": {},
     "output_type": "execute_result"
    }
   ],
   "source": [
    "sacc1"
   ]
  },
  {
   "cell_type": "code",
   "execution_count": 394,
   "metadata": {
    "collapsed": false
   },
   "outputs": [
    {
     "data": {
      "text/plain": [
       "array([[ 0.9968,  0.9892,  0.9376,  0.3876,  0.064 ],\n",
       "       [ 0.9988,  0.9924,  0.9584,  0.5124,  0.1216]])"
      ]
     },
     "execution_count": 394,
     "metadata": {},
     "output_type": "execute_result"
    }
   ],
   "source": [
    "sacc2"
   ]
  },
  {
   "cell_type": "code",
   "execution_count": 400,
   "metadata": {
    "collapsed": false
   },
   "outputs": [
    {
     "data": {
      "text/plain": [
       "array([[ 0.4589,  0.4669,  0.4723, ...,  0.4773,  0.5105,  0.5439],\n",
       "       [ 0.4619,  0.4367,  0.4511, ...,  0.4573,  0.5209,  0.5427]])"
      ]
     },
     "execution_count": 400,
     "metadata": {},
     "output_type": "execute_result"
    }
   ],
   "source": [
    "ssrt2.mean(axis=1)"
   ]
  },
  {
   "cell_type": "code",
   "execution_count": 399,
   "metadata": {
    "collapsed": false
   },
   "outputs": [
    {
     "data": {
      "text/plain": [
       "array([[ 0.5193,  0.4873,  0.4847, ...,  0.4987,  0.4873,  0.4669],\n",
       "       [ 0.4885,  0.4919,  0.4807, ...,  0.5117,  0.4883,  0.4853]])"
      ]
     },
     "execution_count": 399,
     "metadata": {},
     "output_type": "execute_result"
    }
   ],
   "source": [
    "ssrt1.mean(axis=1)"
   ]
  },
  {
   "cell_type": "code",
   "execution_count": 396,
   "metadata": {
    "collapsed": false
   },
   "outputs": [
    {
     "data": {
      "text/plain": [
       "array([[ 4.80370698,  5.01370698,  5.13370698,  5.28370698,  5.51750698],\n",
       "       [ 4.83590698,  5.04370698,  5.19370698,  5.36370698,  5.59370698]])"
      ]
     },
     "execution_count": 396,
     "metadata": {},
     "output_type": "execute_result"
    }
   ],
   "source": [
    "eq2"
   ]
  },
  {
   "cell_type": "code",
   "execution_count": 385,
   "metadata": {
    "collapsed": false
   },
   "outputs": [
    {
     "data": {
      "text/plain": [
       "array([[ 0.9832    ,  0.998     ,  0.9856    ,  0.9356    ,  0.424     ,\n",
       "         0.0796    ,  5.01370698,  5.25370698,  5.46370698,  5.69370698,\n",
       "         6.01370698,  4.76370698,  4.90370698,  4.99370698,  5.10370698,\n",
       "         5.26370698],\n",
       "       [ 0.9564    ,  0.9988    ,  0.9908    ,  0.9456    ,  0.4904    ,\n",
       "         0.1208    ,  5.11890698,  5.41130698,  5.60370698,  5.82370698,\n",
       "         6.14370698,  4.77370698,  4.90370698,  5.02370698,  5.12370698,\n",
       "         5.29930698]])"
      ]
     },
     "execution_count": 385,
     "metadata": {},
     "output_type": "execute_result"
    }
   ],
   "source": [
    "yhat_grouped2"
   ]
  },
  {
   "cell_type": "code",
   "execution_count": 383,
   "metadata": {
    "collapsed": false
   },
   "outputs": [
    {
     "data": {
      "text/plain": [
       "array([[ 0.9808    ,  0.9992    ,  0.9896    ,  0.9344    ,  0.4056    ,\n",
       "         0.07      ,  5.00990698,  5.26370698,  5.48370698,  5.68370698,\n",
       "         6.02370698,  4.81370698,  5.00370698,  5.13370698,  5.28110698,\n",
       "         5.50370698],\n",
       "       [ 0.9568    ,  0.9996    ,  0.9944    ,  0.952     ,  0.4908    ,\n",
       "         0.1196    ,  5.10370698,  5.38370698,  5.60370698,  5.82370698,\n",
       "         6.13370698,  4.82370698,  5.03370698,  5.18370698,  5.32370698,\n",
       "         5.55370698]])"
      ]
     },
     "execution_count": 383,
     "metadata": {},
     "output_type": "execute_result"
    }
   ],
   "source": [
    "yhat_grouped"
   ]
  },
  {
   "cell_type": "code",
   "execution_count": 412,
   "metadata": {
    "collapsed": false
   },
   "outputs": [],
   "source": [
    "#%%timeit\n",
    "\n",
    "DVg = z + np.cumsum(np.where((rs((ncond, ntot, Tg)).T < Pg), dx, -dx).T, axis=2)\n",
    "init_ss = np.array([np.array([DVc[:nss, ix] for ix in np.where(Ts<Tg, Tg-Ts, 0)]) for DVc in DVg])\n",
    "s2 = init_ss[:, :, :, None] + np.cumsum(np.where(rs((ncond, nssd, nss, Ts.max()))<Ps, dx, -dx), axis=3)"
   ]
  },
  {
   "cell_type": "code",
   "execution_count": 350,
   "metadata": {
    "collapsed": true
   },
   "outputs": [],
   "source": [
    "t1 = rs((ncond, nssd, nss, Ts.max()))"
   ]
  },
  {
   "cell_type": "code",
   "execution_count": 347,
   "metadata": {
    "collapsed": true
   },
   "outputs": [],
   "source": [
    "t2 = rs((ntot/2, Ts.max()))"
   ]
  },
  {
   "cell_type": "code",
   "execution_count": 348,
   "metadata": {
    "collapsed": false
   },
   "outputs": [
    {
     "data": {
      "text/plain": [
       "array([[ 0.5488135 ,  0.71518937,  0.60276338, ...,  0.62773476,\n",
       "         0.40142795,  0.41669176],\n",
       "       [ 0.81083862,  0.34819194,  0.2114548 , ...,  0.56112093,\n",
       "         0.83654718,  0.27805024],\n",
       "       [ 0.54695006,  0.29361682,  0.96820439, ...,  0.60916405,\n",
       "         0.77595844,  0.07614516],\n",
       "       ..., \n",
       "       [ 0.18451403,  0.17575554,  0.64260219, ...,  0.53958294,\n",
       "         0.47411735,  0.69915741],\n",
       "       [ 0.66083996,  0.71201579,  0.86133357, ...,  0.64729701,\n",
       "         0.41225408,  0.83713883],\n",
       "       [ 0.27183393,  0.27243429,  0.63328953, ...,  0.22162773,\n",
       "         0.15155548,  0.81608519]])"
      ]
     },
     "execution_count": 348,
     "metadata": {},
     "output_type": "execute_result"
    }
   ],
   "source": [
    "t2"
   ]
  },
  {
   "cell_type": "code",
   "execution_count": 406,
   "metadata": {
    "collapsed": false
   },
   "outputs": [
    {
     "data": {
      "text/plain": [
       "array([[ 0.15648262,  0.15648262,  0.15648262, ...,  0.15648262,\n",
       "         0.15648262,  0.15648262],\n",
       "       [ 0.15648262,  0.15648262,  0.15648262, ...,  0.15648262,\n",
       "         0.15648262,  0.15648262],\n",
       "       [ 0.15648262,  0.15648262,  0.15648262, ...,  0.15648262,\n",
       "         0.15648262,  0.15648262],\n",
       "       [ 0.21014825,  0.23250893,  0.22356466, ...,  0.21909253,\n",
       "         0.18778757,  0.19673185],\n",
       "       [ 0.24145321,  0.31300738,  0.33536806, ...,  0.28170243,\n",
       "         0.25934175,  0.27275816]])"
      ]
     },
     "execution_count": 406,
     "metadata": {},
     "output_type": "execute_result"
    }
   ],
   "source": [
    "init_ss[0][:, :]"
   ]
  },
  {
   "cell_type": "code",
   "execution_count": 416,
   "metadata": {
    "collapsed": false
   },
   "outputs": [
    {
     "data": {
      "text/plain": [
       "0.15424655465199996"
      ]
     },
     "execution_count": 416,
     "metadata": {},
     "output_type": "execute_result"
    }
   ],
   "source": [
    "z"
   ]
  },
  {
   "cell_type": "code",
   "execution_count": 407,
   "metadata": {
    "collapsed": true
   },
   "outputs": [],
   "source": [
    "s = np.cumsum(np.where(rs((ntot/2, Ts.max()))<Ps, dx, -dx), axis=1) "
   ]
  },
  {
   "cell_type": "code",
   "execution_count": 404,
   "metadata": {
    "collapsed": false
   },
   "outputs": [
    {
     "ename": "ValueError",
     "evalue": "operands could not be broadcast together with shapes (2,1,5,2500) (2500,900) ",
     "output_type": "error",
     "traceback": [
      "\u001b[0;31m---------------------------------------------------------------------------\u001b[0m",
      "\u001b[0;31mValueError\u001b[0m                                Traceback (most recent call last)",
      "\u001b[0;32m<ipython-input-404-b0d2a67ea62c>\u001b[0m in \u001b[0;36m<module>\u001b[0;34m()\u001b[0m\n\u001b[1;32m      3\u001b[0m \u001b[0minit_ss\u001b[0m \u001b[0;34m=\u001b[0m \u001b[0mnp\u001b[0m\u001b[0;34m.\u001b[0m\u001b[0marray\u001b[0m\u001b[0;34m(\u001b[0m\u001b[0;34m[\u001b[0m\u001b[0mnp\u001b[0m\u001b[0;34m.\u001b[0m\u001b[0marray\u001b[0m\u001b[0;34m(\u001b[0m\u001b[0;34m[\u001b[0m\u001b[0mDVc\u001b[0m\u001b[0;34m[\u001b[0m\u001b[0;34m:\u001b[0m\u001b[0mntot\u001b[0m\u001b[0;34m/\u001b[0m\u001b[0;36m2\u001b[0m\u001b[0;34m,\u001b[0m \u001b[0mix\u001b[0m\u001b[0;34m]\u001b[0m \u001b[0;32mfor\u001b[0m \u001b[0mix\u001b[0m \u001b[0;32min\u001b[0m \u001b[0mnp\u001b[0m\u001b[0;34m.\u001b[0m\u001b[0mwhere\u001b[0m\u001b[0;34m(\u001b[0m\u001b[0mTs\u001b[0m\u001b[0;34m<\u001b[0m\u001b[0mTg\u001b[0m\u001b[0;34m,\u001b[0m \u001b[0mTg\u001b[0m\u001b[0;34m-\u001b[0m\u001b[0mTs\u001b[0m\u001b[0;34m,\u001b[0m \u001b[0;36m0\u001b[0m\u001b[0;34m)\u001b[0m\u001b[0;34m]\u001b[0m\u001b[0;34m)\u001b[0m \u001b[0;32mfor\u001b[0m \u001b[0mDVc\u001b[0m \u001b[0;32min\u001b[0m \u001b[0mDVg\u001b[0m\u001b[0;34m]\u001b[0m\u001b[0;34m)\u001b[0m\u001b[0;34m\u001b[0m\u001b[0m\n\u001b[1;32m      4\u001b[0m \u001b[0;31m#DVs = init_ss[:, :, :, None] + np.cumsum(np.where(rs((ncond, nssd, ntot/2, Ts.max()))<Ps, dx, -dx), axis=3)\u001b[0m\u001b[0;34m\u001b[0m\u001b[0;34m\u001b[0m\u001b[0m\n\u001b[0;32m----> 5\u001b[0;31m \u001b[0mDSv\u001b[0m \u001b[0;34m=\u001b[0m \u001b[0minit_ss\u001b[0m\u001b[0;34m[\u001b[0m\u001b[0;34m:\u001b[0m\u001b[0;34m,\u001b[0m \u001b[0mNone\u001b[0m\u001b[0;34m]\u001b[0m \u001b[0;34m+\u001b[0m \u001b[0mnp\u001b[0m\u001b[0;34m.\u001b[0m\u001b[0mcumsum\u001b[0m\u001b[0;34m(\u001b[0m\u001b[0mnp\u001b[0m\u001b[0;34m.\u001b[0m\u001b[0mwhere\u001b[0m\u001b[0;34m(\u001b[0m\u001b[0mrs\u001b[0m\u001b[0;34m(\u001b[0m\u001b[0;34m(\u001b[0m\u001b[0mntot\u001b[0m\u001b[0;34m/\u001b[0m\u001b[0;36m2\u001b[0m\u001b[0;34m,\u001b[0m \u001b[0mTs\u001b[0m\u001b[0;34m.\u001b[0m\u001b[0mmax\u001b[0m\u001b[0;34m(\u001b[0m\u001b[0;34m)\u001b[0m\u001b[0;34m)\u001b[0m\u001b[0;34m)\u001b[0m\u001b[0;34m<\u001b[0m\u001b[0mPs\u001b[0m\u001b[0;34m,\u001b[0m \u001b[0mdx\u001b[0m\u001b[0;34m,\u001b[0m \u001b[0;34m-\u001b[0m\u001b[0mdx\u001b[0m\u001b[0;34m)\u001b[0m\u001b[0;34m,\u001b[0m \u001b[0maxis\u001b[0m\u001b[0;34m=\u001b[0m\u001b[0;36m1\u001b[0m\u001b[0;34m)\u001b[0m\u001b[0;34m\u001b[0m\u001b[0m\n\u001b[0m",
      "\u001b[0;31mValueError\u001b[0m: operands could not be broadcast together with shapes (2,1,5,2500) (2500,900) "
     ]
    }
   ],
   "source": [
    "#%%timeit\n",
    "\n",
    "init_ss = np.array([np.array([DVc[:ntot/2, ix] for ix in np.where(Ts<Tg, Tg-Ts, 0)]) for DVc in DVg])\n",
    "#DVs = init_ss[:, :, :, None] + np.cumsum(np.where(rs((ncond, nssd, ntot/2, Ts.max()))<Ps, dx, -dx), axis=3)\n",
    "DSv = init_ss[:, None] + np.cumsum(np.where(rs((ntot/2, Ts.max()))<Ps, dx, -dx), axis=1) "
   ]
  },
  {
   "cell_type": "code",
   "execution_count": 319,
   "metadata": {
    "collapsed": true
   },
   "outputs": [],
   "source": [
    "init_ss = np.array([[DVc[:ntot/2, ix] for ix in np.where(Ts<Tg, Tg-Ts, 0)] for DVc in DVg])"
   ]
  },
  {
   "cell_type": "code",
   "execution_count": 320,
   "metadata": {
    "collapsed": false
   },
   "outputs": [
    {
     "data": {
      "text/plain": [
       "(2, 5, 1000)"
      ]
     },
     "execution_count": 320,
     "metadata": {},
     "output_type": "execute_result"
    }
   ],
   "source": [
    "init_ss.shape"
   ]
  },
  {
   "cell_type": "code",
   "execution_count": 316,
   "metadata": {
    "collapsed": false
   },
   "outputs": [],
   "source": [
    "DVs = np.cumsum(np.where(rs((ntot/2, Ts.max()))<Ps, dx, -dx), axis=1) "
   ]
  },
  {
   "cell_type": "code",
   "execution_count": 360,
   "metadata": {
    "collapsed": false
   },
   "outputs": [],
   "source": [
    "\n",
    "init_ss = np.array([np.array([DVc[:ntot/2, ix] for ix in np.where(Ts<Tg, Tg-Ts, 0)]) for DVc in DVg])\n",
    "vs = init_ss[:, :, :, None] + np.cumsum(np.where(rs((ntot/2, Ts.max()))<Ps, dx, -dx), axis=1) "
   ]
  },
  {
   "cell_type": "code",
   "execution_count": 361,
   "metadata": {
    "collapsed": false
   },
   "outputs": [
    {
     "data": {
      "text/plain": [
       "(2, 5, 1000, 900)"
      ]
     },
     "execution_count": 361,
     "metadata": {},
     "output_type": "execute_result"
    }
   ],
   "source": [
    "vs.shape"
   ]
  },
  {
   "cell_type": "code",
   "execution_count": 317,
   "metadata": {
    "collapsed": false
   },
   "outputs": [
    {
     "data": {
      "text/plain": [
       "(1000, 900)"
      ]
     },
     "execution_count": 317,
     "metadata": {},
     "output_type": "execute_result"
    }
   ],
   "source": [
    "DVs.shape"
   ]
  },
  {
   "cell_type": "code",
   "execution_count": 314,
   "metadata": {
    "collapsed": false
   },
   "outputs": [
    {
     "data": {
      "text/plain": [
       "(2, 9)"
      ]
     },
     "execution_count": 314,
     "metadata": {},
     "output_type": "execute_result"
    }
   ],
   "source": [
    "#sc = np.cumsum(np.where(rs((ntot*n, Ts.max()))<Ps, dx, -dx), axis=1)\n",
    "a=np.array([1,2,3])\n",
    "np.tile(a,(2,3)).shape"
   ]
  },
  {
   "cell_type": "code",
   "execution_count": 275,
   "metadata": {
    "collapsed": false
   },
   "outputs": [
    {
     "name": "stdout",
     "output_type": "stream",
     "text": [
      "10 loops, best of 3: 24.2 ms per loop\n"
     ]
    }
   ],
   "source": [
    "%%timeit\n",
    "x = rs((ncond, ntot, Tg)).T<"
   ]
  },
  {
   "cell_type": "code",
   "execution_count": 244,
   "metadata": {
    "collapsed": false
   },
   "outputs": [],
   "source": [
    "int(ntot/len(ssd))\n",
    "nss=400\n",
    "nssd=5"
   ]
  },
  {
   "cell_type": "code",
   "execution_count": 253,
   "metadata": {
    "collapsed": false
   },
   "outputs": [],
   "source": [
    "rr = rs((ntot, Tg))\n",
    "dvg = np.where(rr<Pg, dx, -dx)"
   ]
  },
  {
   "cell_type": "code",
   "execution_count": 257,
   "metadata": {
    "collapsed": false
   },
   "outputs": [
    {
     "data": {
      "text/plain": [
       "0.67746066160103902"
      ]
     },
     "execution_count": 257,
     "metadata": {},
     "output_type": "execute_result"
    }
   ],
   "source": [
    "Pg = "
   ]
  },
  {
   "cell_type": "code",
   "execution_count": 256,
   "metadata": {
    "collapsed": false
   },
   "outputs": [
    {
     "data": {
      "text/plain": [
       "(2, 2000, 346)"
      ]
     },
     "execution_count": 256,
     "metadata": {},
     "output_type": "execute_result"
    }
   ],
   "source": [
    "dvg.shape\n"
   ]
  },
  {
   "cell_type": "code",
   "execution_count": 294,
   "metadata": {
    "collapsed": false
   },
   "outputs": [],
   "source": [
    "#%%timeit\n",
    "DVg = z + np.cumsum(np.where((rs((ncond, ntot, Tg)).T < Pg), dx, -dx).T, axis=2)\n",
    "init_ss = np.array([[DVc[:int(ntot/nssd), ix] for ix in np.where(Ts<Tg, Tg-Ts, 0)] for DVc in DVg])\n",
    "DVs = init_ss[:, :, :, None] + np.cumsum(np.where(rs((ntot*ncond, Ts.max()))<Ps, dx, -dx), axis=1).reshape(ncond, nssd, int(ntot/nssd), Ts.max())"
   ]
  },
  {
   "cell_type": "code",
   "execution_count": 295,
   "metadata": {
    "collapsed": false
   },
   "outputs": [
    {
     "data": {
      "text/plain": [
       "(2, 5, 400, 900)"
      ]
     },
     "execution_count": 295,
     "metadata": {},
     "output_type": "execute_result"
    }
   ],
   "source": [
    "DVs.shape"
   ]
  },
  {
   "cell_type": "code",
   "execution_count": 28,
   "metadata": {
    "collapsed": false
   },
   "outputs": [
    {
     "name": "stdout",
     "output_type": "stream",
     "text": [
      "1000 loops, best of 3: 978 µs per loop\n"
     ]
    }
   ],
   "source": [
    "%%timeit\n",
    "#collapse across SSD and get average ssrt vector for each condition\n",
    "c_ssrt = ssrt.mean(axis=1)\n",
    "\n",
    "# compute RT quantiles for correct and error resp.\n",
    "gq = np.vstack([mq(rtc[rtc<tb], prob=p)*10 for rtc in grt])\n",
    "eq = np.array([mq(np.extract(ert[i]<c_ssrt[i], ert[i]), prob=p)*10 for i in range(ncond)])\n",
    "\n",
    "# Get response and stop accuracy information\n",
    "gac = np.where(grt<tb, 1, 0).mean(axis=1)\n",
    "sacc = np.array([1 - np.where(ert[i]<ssrt[i], 1, 0).mean(axis=1) for i in range(ncond)])\n",
    "\n",
    "yhat = [gac, sacc, gq, eq]\n",
    "yhat_grouped = np.array([np.hstack([i[ii] for i in yhat]) for ii in range(ncond)])"
   ]
  },
  {
   "cell_type": "code",
   "execution_count": 21,
   "metadata": {
    "collapsed": false
   },
   "outputs": [
    {
     "name": "stderr",
     "output_type": "stream",
     "text": [
      "ERROR: Line magic function `%lprun` not found.\n"
     ]
    }
   ],
   "source": [
    "%prun iter_recost(cinits, y, nruns=5, ntrials=5000)\n"
   ]
  },
  {
   "cell_type": "code",
   "execution_count": 133,
   "metadata": {
    "collapsed": false
   },
   "outputs": [
    {
     "data": {
      "text/plain": [
       "array([450, 400, 350, 301, 251])"
      ]
     },
     "execution_count": 133,
     "metadata": {},
     "output_type": "execute_result"
    }
   ],
   "source": [
    "Ts"
   ]
  },
  {
   "cell_type": "code",
   "execution_count": 170,
   "metadata": {
    "collapsed": false
   },
   "outputs": [
    {
     "name": "stdout",
     "output_type": "stream",
     "text": [
      "1 loops, best of 3: 277 ms per loop\n"
     ]
    }
   ],
   "source": [
    "%%timeit\n",
    "\n",
    "Vpg = rs((ncond, ntot, Tg)).T\n",
    "       \n",
    "Vps = rs((ncond, ntot, Tg)).T\n",
    "\n",
    "# ALL CONDITIONS, ALL SSD\n",
    "DVg = z + np.cumsum(np.where((rs((ncond, ntot, Tg)).T < Pg), dx, -dx).T, axis=2)\n",
    "init_ss = np.array([np.array([DVc[:nss, ix] for ix in np.where(Ts<Tg, Tg-Ts, 0)]) for DVc in DVg])\n",
    "DVs = init_ss[:, :, :, None] + np.cumsum(np.where(rs((ncond, nssd, nss, Ts.max()))<Ps, dx, -dx), axis=3)"
   ]
  },
  {
   "cell_type": "code",
   "execution_count": 194,
   "metadata": {
    "collapsed": false
   },
   "outputs": [],
   "source": [
    "DVg = z + np.cumsum(np.where((rs((ncond, ntot, Tg)).T < Pg), dx, -dx).T, axis=2)\n",
    "init_ss = np.array([np.array([DVc[:nss, ix] for ix in np.where(Ts<Tg, Tg-Ts, 0)]) for DVc in DVg])\n",
    "#DVs = init_ss[:, :, :, None] + np.cumsum(np.where(rs((ncond, nssd, nss, Ts.max()))<Ps, dx, -dx), axis=3)"
   ]
  },
  {
   "cell_type": "code",
   "execution_count": 195,
   "metadata": {
    "collapsed": false
   },
   "outputs": [
    {
     "data": {
      "text/plain": [
       "(2, 5, 1000)"
      ]
     },
     "execution_count": 195,
     "metadata": {},
     "output_type": "execute_result"
    }
   ],
   "source": [
    "init_ss.shape"
   ]
  },
  {
   "cell_type": "code",
   "execution_count": 193,
   "metadata": {
    "collapsed": false
   },
   "outputs": [
    {
     "data": {
      "text/plain": [
       "(2, 5, 1000)"
      ]
     },
     "execution_count": 193,
     "metadata": {},
     "output_type": "execute_result"
    }
   ],
   "source": [
    "init_ss = np.array([[DVc[:nss, ix] for ix in np.where(Ts<Tg, Tg-Ts, 0)] for DVc in DVg])\n",
    "init_ss.shape"
   ]
  },
  {
   "cell_type": "code",
   "execution_count": 199,
   "metadata": {
    "collapsed": false
   },
   "outputs": [
    {
     "name": "stdout",
     "output_type": "stream",
     "text": [
      "10 loops, best of 3: 68.7 ms per loop\n"
     ]
    }
   ],
   "source": [
    "%%timeit\n",
    "init_ss = np.array([[DVc[:int(ntot/len(ssd)), ix] for ix in np.where(Ts<Tg, Tg-Ts, 0)] for DVc in DVg])\n",
    "DVs = init_ss[:, :, :, None] + np.cumsum(np.where(rs((ntot*ncond, Ts.max()))<Ps, dx, -dx), axis=1).reshape(ncond, len(ssd), int(ntot/len(ssd)), Ts.max())"
   ]
  },
  {
   "cell_type": "code",
   "execution_count": 179,
   "metadata": {
    "collapsed": false
   },
   "outputs": [
    {
     "name": "stdout",
     "output_type": "stream",
     "text": [
      "10 loops, best of 3: 62.5 ms per loop\n"
     ]
    }
   ],
   "source": [
    "%%timeit\n",
    "#DVs = init_ss[:, :, :, None] + np.cumsum(np.where(rs((ntot*ncond, Ts.max()))<Ps, dx, -dx), axis=1).reshape(ncond, len(ssd), int(ntot/len(ssd)), Ts.max())\n",
    "DVs = np.cumsum(np.where(rs((ntot*ncond, Ts.max()))<Ps, dx, -dx), axis=1).reshape(ncond, len(ssd), int(ntot/len(ssd)), Ts.max())"
   ]
  },
  {
   "cell_type": "code",
   "execution_count": 180,
   "metadata": {
    "collapsed": false
   },
   "outputs": [
    {
     "data": {
      "text/plain": [
       "(2, 5, 1000, 450)"
      ]
     },
     "execution_count": 180,
     "metadata": {},
     "output_type": "execute_result"
    }
   ],
   "source": [
    "DVs.shape"
   ]
  },
  {
   "cell_type": "code",
   "execution_count": 152,
   "metadata": {
    "collapsed": false
   },
   "outputs": [
    {
     "data": {
      "text/plain": [
       "5"
      ]
     },
     "execution_count": 152,
     "metadata": {},
     "output_type": "execute_result"
    }
   ],
   "source": [
    "\n",
    "int(ntot/len(ssd))"
   ]
  },
  {
   "cell_type": "code",
   "execution_count": 160,
   "metadata": {
    "collapsed": false
   },
   "outputs": [
    {
     "data": {
      "text/plain": [
       "1000"
      ]
     },
     "execution_count": 160,
     "metadata": {},
     "output_type": "execute_result"
    }
   ],
   "source": [
    "5*200"
   ]
  },
  {
   "cell_type": "code",
   "execution_count": 161,
   "metadata": {
    "collapsed": true
   },
   "outputs": [
    {
     "data": {
      "text/plain": [
       "array([[[ 1.,  1.,  1., ...,  1.,  1.,  1.],\n",
       "        [ 1.,  1.,  1., ...,  1.,  1.,  1.],\n",
       "        [ 1.,  1.,  1., ...,  1.,  1.,  1.],\n",
       "        ..., \n",
       "        [ 1.,  1.,  1., ...,  1.,  1.,  1.],\n",
       "        [ 1.,  1.,  1., ...,  1.,  1.,  1.],\n",
       "        [ 1.,  1.,  1., ...,  1.,  1.,  1.]],\n",
       "\n",
       "       [[ 1.,  1.,  1., ...,  1.,  1.,  1.],\n",
       "        [ 1.,  1.,  1., ...,  1.,  1.,  1.],\n",
       "        [ 1.,  1.,  1., ...,  1.,  1.,  1.],\n",
       "        ..., \n",
       "        [ 1.,  1.,  1., ...,  1.,  1.,  1.],\n",
       "        [ 1.,  1.,  1., ...,  1.,  1.,  1.],\n",
       "        [ 1.,  1.,  1., ...,  1.,  1.,  1.]],\n",
       "\n",
       "       [[ 1.,  1.,  1., ...,  1.,  1.,  1.],\n",
       "        [ 1.,  1.,  1., ...,  1.,  1.,  1.],\n",
       "        [ 1.,  1.,  1., ...,  1.,  1.,  1.],\n",
       "        ..., \n",
       "        [ 1.,  1.,  1., ...,  1.,  1.,  1.],\n",
       "        [ 1.,  1.,  1., ...,  1.,  1.,  1.],\n",
       "        [ 1.,  1.,  1., ...,  1.,  1.,  1.]],\n",
       "\n",
       "       [[ 1.,  1.,  1., ...,  1.,  1.,  1.],\n",
       "        [ 1.,  1.,  1., ...,  1.,  1.,  1.],\n",
       "        [ 1.,  1.,  1., ...,  1.,  1.,  1.],\n",
       "        ..., \n",
       "        [ 1.,  1.,  1., ...,  1.,  1.,  1.],\n",
       "        [ 1.,  1.,  1., ...,  1.,  1.,  1.],\n",
       "        [ 1.,  1.,  1., ...,  1.,  1.,  1.]],\n",
       "\n",
       "       [[ 1.,  1.,  1., ...,  1.,  1.,  1.],\n",
       "        [ 1.,  1.,  1., ...,  1.,  1.,  1.],\n",
       "        [ 1.,  1.,  1., ...,  1.,  1.,  1.],\n",
       "        ..., \n",
       "        [ 1.,  1.,  1., ...,  1.,  1.,  1.],\n",
       "        [ 1.,  1.,  1., ...,  1.,  1.,  1.],\n",
       "        [ 1.,  1.,  1., ...,  1.,  1.,  1.]]])"
      ]
     },
     "execution_count": 161,
     "metadata": {},
     "output_type": "execute_result"
    }
   ],
   "source": [
    "np.ones_like(DVs).reshape(5, 200, 450)"
   ]
  },
  {
   "cell_type": "code",
   "execution_count": 162,
   "metadata": {
    "collapsed": true
   },
   "outputs": [
    {
     "data": {
      "text/plain": [
       "array([[[-0.00316228, -0.00632456, -0.00948683, ..., -0.43639432,\n",
       "         -0.43955659, -0.44271887],\n",
       "        [-0.00316228, -0.00632456, -0.00948683, ..., -0.42374521,\n",
       "         -0.42690748, -0.43006976],\n",
       "        [ 0.00316228,  0.        , -0.00316228, ..., -0.45536798,\n",
       "         -0.45853026, -0.46169254],\n",
       "        ..., \n",
       "        [-0.00316228, -0.00632456, -0.00948683, ..., -0.37947332,\n",
       "         -0.3826356 , -0.38579787],\n",
       "        [-0.00316228, -0.00632456, -0.00948683, ..., -0.51861354,\n",
       "         -0.52177581, -0.51861354],\n",
       "        [-0.00316228, -0.00632456, -0.00948683, ..., -0.45536798,\n",
       "         -0.45853026, -0.45536798]],\n",
       "\n",
       "       [[ 0.00316228,  0.        , -0.00316228, ..., -0.37314876,\n",
       "         -0.36998649, -0.37314876],\n",
       "        [-0.00316228, -0.00632456, -0.00948683, ..., -0.3541751 ,\n",
       "         -0.35733738, -0.36049965],\n",
       "        [ 0.00316228,  0.        ,  0.00316228, ..., -0.44904343,\n",
       "         -0.45220571, -0.45536798],\n",
       "        ..., \n",
       "        [-0.00316228, -0.00632456, -0.00316228, ..., -0.46169254,\n",
       "         -0.46485482, -0.46801709],\n",
       "        [ 0.00316228,  0.        , -0.00316228, ..., -0.28460499,\n",
       "         -0.28776727, -0.29092954],\n",
       "        [ 0.00316228,  0.        ,  0.00316228, ..., -0.29092954,\n",
       "         -0.29409182, -0.2972541 ]],\n",
       "\n",
       "       [[-0.00316228,  0.        , -0.00316228, ..., -0.42374521,\n",
       "         -0.42690748, -0.42374521],\n",
       "        [-0.00316228,  0.        , -0.00316228, ..., -0.42374521,\n",
       "         -0.42690748, -0.42374521],\n",
       "        [-0.00316228, -0.00632456, -0.00948683, ..., -0.42374521,\n",
       "         -0.42058293, -0.42374521],\n",
       "        ..., \n",
       "        [-0.00316228, -0.00632456, -0.00948683, ..., -0.4806662 ,\n",
       "         -0.48382848, -0.48699076],\n",
       "        [-0.00316228, -0.00632456, -0.00948683, ..., -0.4110961 ,\n",
       "         -0.41425837, -0.41742065],\n",
       "        [-0.00316228,  0.        ,  0.00316228, ..., -0.44904343,\n",
       "         -0.45220571, -0.45536798]],\n",
       "\n",
       "       [[-0.00316228,  0.        ,  0.00316228, ..., -0.4806662 ,\n",
       "         -0.48382848, -0.4806662 ],\n",
       "        [-0.00316228,  0.        ,  0.00316228, ..., -0.37947332,\n",
       "         -0.37631104, -0.37314876],\n",
       "        [-0.00316228,  0.        , -0.00316228, ..., -0.46801709,\n",
       "         -0.47117937, -0.46801709],\n",
       "        ..., \n",
       "        [-0.00316228, -0.00632456, -0.00948683, ..., -0.51228898,\n",
       "         -0.51545126, -0.51861354],\n",
       "        [-0.00316228, -0.00632456, -0.00948683, ..., -0.44271887,\n",
       "         -0.43955659, -0.44271887],\n",
       "        [ 0.00316228,  0.        , -0.00316228, ..., -0.3541751 ,\n",
       "         -0.35733738, -0.3541751 ]],\n",
       "\n",
       "       [[ 0.00316228,  0.00632456,  0.00316228, ..., -0.46801709,\n",
       "         -0.47117937, -0.47434165],\n",
       "        [ 0.00316228,  0.00632456,  0.00948683, ..., -0.32255232,\n",
       "         -0.31939004, -0.31622777],\n",
       "        [-0.00316228, -0.00632456, -0.00316228, ..., -0.36682421,\n",
       "         -0.36366193, -0.36682421],\n",
       "        ..., \n",
       "        [-0.00316228, -0.00632456, -0.00316228, ..., -0.39844699,\n",
       "         -0.40160926, -0.40477154],\n",
       "        [ 0.00316228,  0.00632456,  0.00316228, ..., -0.31622777,\n",
       "         -0.31939004, -0.32255232],\n",
       "        [ 0.00316228,  0.        , -0.00316228, ..., -0.36682421,\n",
       "         -0.36998649, -0.37314876]]])"
      ]
     },
     "execution_count": 162,
     "metadata": {},
     "output_type": "execute_result"
    }
   ],
   "source": [
    "DVs.reshape(len(ssd), int(nss/len(ssd)), Ts.max())"
   ]
  },
  {
   "cell_type": "code",
   "execution_count": 166,
   "metadata": {
    "collapsed": false
   },
   "outputs": [
    {
     "data": {
      "text/plain": [
       "(2, 5, 1000)"
      ]
     },
     "execution_count": 166,
     "metadata": {},
     "output_type": "execute_result"
    }
   ],
   "source": [
    "init_ss.shape# == \n",
    "#init_ss.reshape(1,10000)"
   ]
  },
  {
   "cell_type": "code",
   "execution_count": 134,
   "metadata": {
    "collapsed": false
   },
   "outputs": [
    {
     "data": {
      "text/plain": [
       "(2, 2000, 346)"
      ]
     },
     "execution_count": 134,
     "metadata": {},
     "output_type": "execute_result"
    }
   ],
   "source": [
    "DVg.shape"
   ]
  },
  {
   "cell_type": "code",
   "execution_count": 129,
   "metadata": {
    "collapsed": true
   },
   "outputs": [
    {
     "data": {
      "text/plain": [
       "array([[[ 0.15740883,  0.15740883,  0.15740883,  0.21749211,  0.28073766],\n",
       "        [ 0.15740883,  0.15740883,  0.15740883,  0.19851844,  0.27441311],\n",
       "        [ 0.15740883,  0.15740883,  0.15740883,  0.21116755,  0.25543944],\n",
       "        ..., \n",
       "        [ 0.15740883,  0.15740883,  0.15740883,  0.19851844,  0.26808855],\n",
       "        [ 0.15740883,  0.15740883,  0.15740883,  0.23646577,  0.29971133],\n",
       "        [ 0.15740883,  0.15740883,  0.15740883,  0.21116755,  0.261764  ]],\n",
       "\n",
       "       [[ 0.15108428,  0.15108428,  0.15108428,  0.19851844,  0.28706222],\n",
       "        [ 0.15108428,  0.15108428,  0.15108428,  0.21749211,  0.261764  ],\n",
       "        [ 0.15740883,  0.15740883,  0.15740883,  0.22381666,  0.30603588],\n",
       "        ..., \n",
       "        [ 0.15740883,  0.15740883,  0.15740883,  0.17322022,  0.22381666],\n",
       "        [ 0.15108428,  0.15108428,  0.15108428,  0.19851844,  0.24279033],\n",
       "        [ 0.15740883,  0.15740883,  0.15740883,  0.24279033,  0.33765866]]])"
      ]
     },
     "execution_count": 129,
     "metadata": {},
     "output_type": "execute_result"
    }
   ],
   "source": [
    "ixx = np.where(Ts<Tg, Tg-Ts, 0)\n",
    "DVg[:, ixx.T]"
   ]
  },
  {
   "cell_type": "code",
   "execution_count": 168,
   "metadata": {
    "collapsed": true
   },
   "outputs": [],
   "source": [
    "init_ss = np.array([[DVc[:nss, ix] for ix in np.where(Ts<Tg, Tg-Ts, 0)] for DVc in DVg])\n"
   ]
  },
  {
   "cell_type": "code",
   "execution_count": 169,
   "metadata": {
    "collapsed": false
   },
   "outputs": [
    {
     "data": {
      "text/plain": [
       "(2, 5, 1000)"
      ]
     },
     "execution_count": 169,
     "metadata": {},
     "output_type": "execute_result"
    }
   ],
   "source": [
    "init_ss.shape"
   ]
  },
  {
   "cell_type": "code",
   "execution_count": 111,
   "metadata": {
    "collapsed": false
   },
   "outputs": [
    {
     "ename": "ValueError",
     "evalue": "operands could not be broadcast together with shapes (2,5,1000) (450,1000) ",
     "output_type": "error",
     "traceback": [
      "\u001b[0;31m---------------------------------------------------------------------------\u001b[0m",
      "\u001b[0;31mValueError\u001b[0m                                Traceback (most recent call last)",
      "\u001b[0;32m<ipython-input-111-c935658945b7>\u001b[0m in \u001b[0;36m<module>\u001b[0;34m()\u001b[0m\n\u001b[0;32m----> 1\u001b[0;31m \u001b[0minit_ss\u001b[0m\u001b[0;34m[\u001b[0m\u001b[0;34m:\u001b[0m\u001b[0;34m,\u001b[0m \u001b[0;34m:\u001b[0m\u001b[0;34m,\u001b[0m \u001b[0;34m:\u001b[0m\u001b[0;34m]\u001b[0m\u001b[0;34m+\u001b[0m\u001b[0mDVs\u001b[0m\u001b[0;34m[\u001b[0m\u001b[0;34m:\u001b[0m\u001b[0;34m,\u001b[0m \u001b[0;34m:\u001b[0m\u001b[0;34m]\u001b[0m\u001b[0;34m.\u001b[0m\u001b[0mT\u001b[0m\u001b[0;34m\u001b[0m\u001b[0m\n\u001b[0m\u001b[1;32m      2\u001b[0m \u001b[0;31m#np.sum(init_ss, DVs., axis=2)\u001b[0m\u001b[0;34m\u001b[0m\u001b[0;34m\u001b[0m\u001b[0m\n",
      "\u001b[0;31mValueError\u001b[0m: operands could not be broadcast together with shapes (2,5,1000) (450,1000) "
     ]
    }
   ],
   "source": [
    "init_ss[:, :, :]+DVs[:, :].T\n",
    "#np.sum(init_ss, DVs., axis=2)"
   ]
  },
  {
   "cell_type": "code",
   "execution_count": 84,
   "metadata": {
    "collapsed": false
   },
   "outputs": [
    {
     "name": "stdout",
     "output_type": "stream",
     "text": [
      "10 loops, best of 3: 80 ms per loop\n"
     ]
    }
   ],
   "source": [
    "%%timeit\n",
    "#init_ss = np.array([np.array([DVc[:nss, ix] for ix in np.where(Ts<Tg, Tg-Ts, 0)]) for DVc in DVg])\n",
    "DVs = np.cumsum(np.where(rs((nssd, nss, Ts.max()))<Ps, dx, -dx), axis=2)"
   ]
  },
  {
   "cell_type": "code",
   "execution_count": 32,
   "metadata": {
    "collapsed": false
   },
   "outputs": [],
   "source": [
    "#%%timeit\n",
    "# ALL CONDITIONS, ALL SSD\n",
    "grt = np.where(DVg[:, nss:, :].max(axis=2)>=a, tr + np.argmax(DVg[:, nss:, :]>=a, axis=2)*dt, np.nan)\n",
    "ert = np.where(DVg[:, :nss, :].max(axis=2)>=a, tr + np.argmax(DVg[:, :nss, :]>=a, axis=2)*dt, np.nan)\n",
    "ssrt = np.where(np.any(DVs<=0, axis=3), ssd[:, None]+np.argmax(DVs<=0, axis=3)*dt, np.nan)"
   ]
  },
  {
   "cell_type": "code",
   "execution_count": 44,
   "metadata": {
    "collapsed": false
   },
   "outputs": [
    {
     "name": "stdout",
     "output_type": "stream",
     "text": [
      "100 loops, best of 3: 2 ms per loop\n"
     ]
    }
   ],
   "source": [
    "%%timeit\n",
    "xx = tr + np.argmax(DVg[:, nss:, :]>=a, axis=2)*dt\n"
   ]
  },
  {
   "cell_type": "code",
   "execution_count": null,
   "metadata": {
    "collapsed": true
   },
   "outputs": [],
   "source": []
  },
  {
   "cell_type": "code",
   "execution_count": 45,
   "metadata": {
    "collapsed": false
   },
   "outputs": [
    {
     "name": "stdout",
     "output_type": "stream",
     "text": [
      "100 loops, best of 3: 3.29 ms per loop\n"
     ]
    }
   ],
   "source": [
    "\n",
    "grt = np.where(DVg[:, nss:, :].max(axis=2)>=a, tr + np.argmax(DVg[:, nss:, :]>=a, axis=2)*dt, np.nan)\n"
   ]
  },
  {
   "cell_type": "code",
   "execution_count": 47,
   "metadata": {
    "collapsed": false
   },
   "outputs": [
    {
     "data": {
      "text/plain": [
       "nan"
      ]
     },
     "execution_count": 47,
     "metadata": {},
     "output_type": "execute_result"
    }
   ],
   "source": [
    "grt[0][4]"
   ]
  },
  {
   "cell_type": "code",
   "execution_count": 69,
   "metadata": {
    "collapsed": false
   },
   "outputs": [
    {
     "name": "stdout",
     "output_type": "stream",
     "text": [
      "100 loops, best of 3: 3.5 ms per loop\n"
     ]
    }
   ],
   "source": [
    "%%timeit\n",
    "grt = np.where(DVg[:, nss:, :].max(axis=2)>=a, tr + np.argmax(DVg[:, nss:, :]>=a, axis=2)*dt, np.nan)\n",
    "ert = np.where(DVg[:, :nss, :].max(axis=2)>=a, tr + np.argmax(DVg[:, :nss, :]>=a, axis=2)*dt, np.nan)"
   ]
  },
  {
   "cell_type": "code",
   "execution_count": 70,
   "metadata": {
    "collapsed": false
   },
   "outputs": [
    {
     "name": "stdout",
     "output_type": "stream",
     "text": [
      "100 loops, best of 3: 3.39 ms per loop\n"
     ]
    }
   ],
   "source": [
    "%%timeit\n",
    "yyy = np.where(DVg[:, :, :].max(axis=2)>=a, tr + np.argmax(DVg[:, :, :]>=a, axis=2)*dt, np.nan)\n",
    "\n",
    "e = yyy[:,:nss]\n",
    "g = yyy[:,nss:]"
   ]
  },
  {
   "cell_type": "code",
   "execution_count": null,
   "metadata": {
    "collapsed": true
   },
   "outputs": [],
   "source": []
  }
 ],
 "metadata": {
  "kernelspec": {
   "display_name": "Python 2",
   "language": "python",
   "name": "python2"
  },
  "language_info": {
   "codemirror_mode": {
    "name": "ipython",
    "version": 2
   },
   "file_extension": ".py",
   "mimetype": "text/x-python",
   "name": "python",
   "nbconvert_exporter": "python",
   "pygments_lexer": "ipython2",
   "version": "2.7.10"
  }
 },
 "nbformat": 4,
 "nbformat_minor": 0
}
