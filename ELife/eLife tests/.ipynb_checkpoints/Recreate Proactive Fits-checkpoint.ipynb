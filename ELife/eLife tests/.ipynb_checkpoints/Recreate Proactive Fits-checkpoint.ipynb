{
 "metadata": {
  "name": "",
  "signature": "sha256:2727a9a044ad09bd058abd1786ad8c7451a9b24de7bf6e299b5f57c54b524c26"
 },
 "nbformat": 3,
 "nbformat_minor": 0,
 "worksheets": [
  {
   "cells": [
    {
     "cell_type": "code",
     "collapsed": false,
     "input": [
      "from radd import Models, fitre, fitpro, utils, RADD\n",
      "from radd_buggy import proboot\n",
      "\n",
      "data=pd.read_csv('/home/kyle/Dropbox/CoAx/SS/Proactive/pro_data.csv', index_col=0)\n",
      "os.mkdir('/home/kyle/Desktop/test_pro/')\n",
      "savepath = '/home/kyle/Desktop/test_pro/'\n",
      "\n",
      "theta = {'a':.4758, 't':.30, 'v':1.57, 'z':.15, 'ssv':-1, 'ssd':.450, 'pGo':1.00}\n",
      "df = data.copy()\n",
      "dfgo = df.query('response==1')\n",
      "dfgf = dfgo[dfgo.rt<=.54502]"
     ],
     "language": "python",
     "metadata": {},
     "outputs": [],
     "prompt_number": 3
    },
    {
     "cell_type": "code",
     "collapsed": false,
     "input": [
      "#%%timeit\n",
      "ps_pred, rt_pred, fit_df = proboot.Proboot(data, inits, niter=1, ntrials=2000, maxfun=500, ftol=1.e-2, xtol=1.e-2, tb=.560)\n",
      "\n",
      "\n",
      "dvg, dvs = RADD.run(inits)\n",
      "simdf = fitpro.gen_prosim_df(dvg, inits)\n",
      "utils.rangl_pro(simdf)"
     ],
     "language": "python",
     "metadata": {},
     "outputs": []
    },
    {
     "cell_type": "code",
     "collapsed": false,
     "input": [
      "inits = {'a':.4758, 't':.30, 'v':1.37, 'z':.15, 'ssv':-1}\n",
      "promodel = Models.Model(kind='proactive', depends_on={'v':'pGo'}, data=data, fit='bootstrap', niter=1, inits=inits)\n",
      "promodel.set_fitparams(maxfun=500, niter=1, ftol=1.e-2, xtol=1.e-2)\n",
      "savepath = '/home/kyle/Desktop/test_pro/'\n",
      "#%%timeit"
     ],
     "language": "python",
     "metadata": {},
     "outputs": []
    },
    {
     "cell_type": "code",
     "collapsed": false,
     "input": [
      "theta = {'a':.4758, 't':.30, 'v':1.57, 'z':.15, 'ssv':-1, 'ssd':.450, 'pGo':.60}; \n",
      "ntrials=2000; tb=.56; rt_cutoff=.54502"
     ],
     "language": "python",
     "metadata": {},
     "outputs": [],
     "prompt_number": 8
    },
    {
     "cell_type": "code",
     "collapsed": false,
     "input": [
      "vtheta['pGo']=pg*.1"
     ],
     "language": "python",
     "metadata": {},
     "outputs": [],
     "prompt_number": 144
    },
    {
     "cell_type": "code",
     "collapsed": false,
     "input": [
      "from radd import RADD\n",
      "from radd_buggy import npsim"
     ],
     "language": "python",
     "metadata": {},
     "outputs": [],
     "prompt_number": 149
    },
    {
     "cell_type": "code",
     "collapsed": false,
     "input": [
      "%%timeit\n",
      "theta = prodf_store['vtheta']; vdict = prodf_store['vopt']; vtheta['ssv']=-1\n",
      "for pg, v in vdict.items():\n",
      "      vtheta['pGo']=pg*.01; vtheta['v']=v      \n",
      "      dvg, dvs = RADD.run(vtheta, ntrials=ntrials, tb=tb, kind='proactive')\n",
      "      simdf = fitpro.gen_prosim_df(dvg, theta, tb=tb)\n",
      "      yhat = utils.rangl_pro(simdf, tb=tb, rt_cutoff=rt_cutoff)"
     ],
     "language": "python",
     "metadata": {},
     "outputs": [
      {
       "output_type": "stream",
       "stream": "stdout",
       "text": [
        "1 loops, best of 3: 221 ms per loop\n"
       ]
      }
     ],
     "prompt_number": 159
    },
    {
     "cell_type": "code",
     "collapsed": false,
     "input": [
      "yhat"
     ],
     "language": "python",
     "metadata": {},
     "outputs": [
      {
       "metadata": {},
       "output_type": "pyout",
       "prompt_number": 157,
       "text": [
        "array([ 4.93536781,  5.09536781,  5.20536781,  5.27536781,  5.33536781,\n",
        "        0.036125  ,  0.180625  ,  0.36125   ,  0.541875  ,  0.686375  ])"
       ]
      }
     ],
     "prompt_number": 157
    },
    {
     "cell_type": "code",
     "collapsed": false,
     "input": [
      "%%timeit\n",
      "theta = prodf_store['vtheta']; vdict = prodf_store['vopt']; vtheta['ssv']=-1\n",
      "for pg, v in vdict.items():\n",
      "      vtheta['pGo']=pg*.01; vtheta['v']=v      \n",
      "      dvg, dvs = npsim.radd(vtheta, model='radd', no_ss=True, kind='proactive')\n",
      "      pstop, rt = npsim.analyze_proactive_trials(dvg, dvs, theta, tb=tb)\n",
      "      #yhat = utils.rangl_pro(simdf, tb=tb, rt_cutoff=rt_cutoff)"
     ],
     "language": "python",
     "metadata": {},
     "outputs": [
      {
       "output_type": "stream",
       "stream": "stdout",
       "text": [
        "1 loops, best of 3: 230 ms per loop\n"
       ]
      }
     ],
     "prompt_number": 158
    },
    {
     "cell_type": "code",
     "collapsed": false,
     "input": [
      "yhat"
     ],
     "language": "python",
     "metadata": {},
     "outputs": [
      {
       "metadata": {},
       "output_type": "pyout",
       "prompt_number": 155,
       "text": [
        "array([ 4.93536781,  5.09536781,  5.20536781,  5.27536781,  5.33536781,\n",
        "        0.036125  ,  0.180625  ,  0.36125   ,  0.541875  ,  0.686375  ])"
       ]
      }
     ],
     "prompt_number": 155
    },
    {
     "cell_type": "code",
     "collapsed": false,
     "input": [
      "yhat"
     ],
     "language": "python",
     "metadata": {},
     "outputs": [
      {
       "metadata": {},
       "output_type": "pyout",
       "prompt_number": 148,
       "text": [
        "array([ 4.93536781,  5.09536781,  5.20536781,  5.27536781,  5.33536781,\n",
        "        0.036125  ,  0.180625  ,  0.36125   ,  0.541875  ,  0.686375  ])"
       ]
      }
     ],
     "prompt_number": 148
    },
    {
     "cell_type": "code",
     "collapsed": false,
     "input": [
      "yhat"
     ],
     "language": "python",
     "metadata": {},
     "outputs": [
      {
       "metadata": {},
       "output_type": "pyout",
       "prompt_number": 13,
       "text": [
        "array([ 4.645   ,  4.855   ,  5.015   ,  5.155   ,  5.315   ,  0.048275,\n",
        "        0.241375,  0.48275 ,  0.724125,  0.917225])"
       ]
      }
     ],
     "prompt_number": 13
    },
    {
     "cell_type": "code",
     "collapsed": false,
     "input": [
      "for pgo in pgo=np.arange(0,120,20):\n",
      "      \n",
      "      vtheta['pGo']=pgo*.1; v=vdict[pgo]\n",
      "      \n",
      "      dvg, dvs = RADD.run(theta, ntrials=ntrials, tb=tb)\n",
      "      simdf = fitpro.gen_prosim_df(dvg, theta, tb=tb)\n",
      "      yhat = utils.rangl_pro(simdf, tb=tb, rt_cutoff=rt_cutoff)\n"
     ],
     "language": "python",
     "metadata": {},
     "outputs": [],
     "prompt_number": 12
    },
    {
     "cell_type": "code",
     "collapsed": false,
     "input": [
      "promodel.run_model(save=False, savepth=savepath, live_update=False, disp=False)"
     ],
     "language": "python",
     "metadata": {},
     "outputs": []
    }
   ],
   "metadata": {}
  }
 ]
}