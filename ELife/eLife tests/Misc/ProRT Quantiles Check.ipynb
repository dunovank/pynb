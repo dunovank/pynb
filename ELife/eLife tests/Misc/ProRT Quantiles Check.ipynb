{
 "metadata": {
  "name": "",
  "signature": "sha256:eef3321215c2e3360015c2c9d6563173cd6637692aed5f73f88eef6c52832cf4"
 },
 "nbformat": 3,
 "nbformat_minor": 0,
 "worksheets": [
  {
   "cells": [
    {
     "cell_type": "code",
     "collapsed": false,
     "input": [],
     "language": "python",
     "metadata": {},
     "outputs": []
    },
    {
     "cell_type": "code",
     "collapsed": false,
     "input": [],
     "language": "python",
     "metadata": {},
     "outputs": []
    }
   ],
   "metadata": {}
  }
 ]
}