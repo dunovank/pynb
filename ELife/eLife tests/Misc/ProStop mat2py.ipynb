{
 "metadata": {
  "name": "",
  "signature": "sha256:a9568be9d7689d9d379b6b983576e7a7e67a43900e06f46c3170444ce3ec1994"
 },
 "nbformat": 3,
 "nbformat_minor": 0,
 "worksheets": [
  {
   "cells": [
    {
     "cell_type": "code",
     "collapsed": false,
     "input": [
      "import numpy as np\n",
      "from scipy.io import loadmat, whosmat  # this is the SciPy module that loads mat-files\n",
      "import matplotlib.pyplot as plt\n",
      "from datetime import datetime, date, time\n",
      "import pandas as pd\n",
      "import fnmatch\n",
      "import os\n",
      "import re\n"
     ],
     "language": "python",
     "metadata": {},
     "outputs": [],
     "prompt_number": 1
    },
    {
     "cell_type": "code",
     "collapsed": false,
     "input": [
      "from radd.utils import mat2py"
     ],
     "language": "python",
     "metadata": {},
     "outputs": [],
     "prompt_number": 170
    },
    {
     "cell_type": "code",
     "collapsed": false,
     "input": [
      "df = mat2py(indir='/Users/kyle/Desktop/data/', outdir='/Users/kyle/Dropbox/ProImg/')"
     ],
     "language": "python",
     "metadata": {},
     "outputs": [],
     "prompt_number": 178
    }
   ],
   "metadata": {}
  }
 ]
}