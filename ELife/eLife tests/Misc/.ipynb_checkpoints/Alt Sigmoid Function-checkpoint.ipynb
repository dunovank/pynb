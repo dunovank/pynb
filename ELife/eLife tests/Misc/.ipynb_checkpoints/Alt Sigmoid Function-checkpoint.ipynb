{
 "metadata": {
  "name": "",
  "signature": "sha256:59b256e1cb2029b8945952fd0a943c7a86d6fa8d0629cbb966609b79bc449aeb"
 },
 "nbformat": 3,
 "nbformat_minor": 0,
 "worksheets": [
  {
   "cells": [
    {
     "cell_type": "code",
     "collapsed": false,
     "input": [
      "from scipy.stats.mstats import mquantiles as mq\n",
      "from radd import utils, fitre, vis\n",
      "from scipy import optimize\n",
      "from scipy.stats import pearsonr, spearmanr, ttest_rel"
     ],
     "language": "python",
     "metadata": {},
     "outputs": []
    },
    {
     "cell_type": "code",
     "collapsed": false,
     "input": [
      "def sigmoid(p,x):\n",
      "    x0,y0,c,k=p\n",
      "    y = c / (1 + np.exp(-k*(x-x0))) + y0\n",
      "    return y\n",
      "\n",
      "def residuals(p,x,y):\n",
      "    return y - sigmoid(p,x)\n",
      "\n",
      "def resize(arr,lower=0.0,upper=1.0):\n",
      "    arr=arr.copy()\n",
      "    if lower>upper: lower,upper=upper,lower\n",
      "    arr -= arr.min()\n",
      "    arr *= (upper-lower)/arr.max()\n",
      "    arr += lower\n",
      "    return arr\n",
      "\n",
      "def get_reactive_pse(y, print_params=0, show=0):\n",
      "    \n",
      "    x = np.arange(2.0, 4.5, .5)    \n",
      "    #x=resize(x, lower=0)\n",
      "    #y=resize(y, lower=0)\n",
      "    p_guess=(np.median(x), np.median(y), 1.0, 1.0)\n",
      "    p, cov, infodict, mesg, ier = optimize.leastsq(\n",
      "        residuals, p_guess, args=(x,y),full_output=1)  \n",
      "    \n",
      "    x0,y0,c,k=p\n",
      "    \n",
      "    if print_params:\n",
      "        pstring='''\\nx={x}\\ny={y}\\nx0={x0}\\ny0={y0}\\nc={c}\\nk={k}'''\n",
      "        print(pstring.format(x=x, y=y, x0=x0, y0=y0, c=c, k=k))\n",
      "    \n",
      "    if show:\n",
      "        plot_sigmoid(p, x, y)\n",
      "    \n",
      "    return x0*.1\n",
      "\n",
      "\n",
      "def plot_sigmoid(p, x, y):\n",
      "    \n",
      "    xp = np.linspace(2, 4.5, 1500)\n",
      "    pxp=sigmoid(p,xp)\n",
      "\n",
      "    # Plot the results\n",
      "    plt.plot(x, y, '.', xp, pxp, '-')\n",
      "    plt.xlabel('x')\n",
      "    plt.ylabel('y',rotation='horizontal') \n",
      "    plt.grid(True)\n",
      "    plt.show()\n",
      "    sns.despine()\n"
     ],
     "language": "python",
     "metadata": {},
     "outputs": []
    }
   ],
   "metadata": {}
  }
 ]
}