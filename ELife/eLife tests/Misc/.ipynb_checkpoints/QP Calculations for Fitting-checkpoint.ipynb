{
 "metadata": {
  "name": "",
  "signature": "sha256:54c3bad263aa5977349d3f327787d87224ed823335f3732b1b8b393f76224301"
 },
 "nbformat": 3,
 "nbformat_minor": 0,
 "worksheets": [
  {
   "cells": [
    {
     "cell_type": "code",
     "collapsed": false,
     "input": [
      "from scipy.stats.mstats import mquantiles as mq\n",
      "from radd import utils, fitre, vis"
     ],
     "language": "python",
     "metadata": {},
     "outputs": [],
     "prompt_number": 15
    },
    {
     "cell_type": "code",
     "collapsed": false,
     "input": [
      "redf = pd.read_csv(\"/Users/kyle/Dropbox/CoAx/SS/Reactive/Re_Data.csv\")"
     ],
     "language": "python",
     "metadata": {},
     "outputs": [],
     "prompt_number": 10
    },
    {
     "cell_type": "code",
     "collapsed": false,
     "input": [
      "popt = pd.read_csv(\"/Users/kyle/Dropbox/CoAx/SS/Reactive/BSL/Boot/RADD/rwr_rebsl_popt_radd.csv\", index_col=0)\n",
      "popt = popt.mean().to_dict()\n",
      "popt['pGo']=.5\n",
      "simdf = fitre.simple_resim(popt, return_all=True)\n",
      "#df.replace(to_replace={'GoRT':{999.:np.nan}, 'SSRT':{999.:np.nan}}, inplace=True)"
     ],
     "language": "python",
     "metadata": {},
     "outputs": [],
     "prompt_number": 14
    },
    {
     "cell_type": "code",
     "collapsed": false,
     "input": [
      "vis.plot_allrt_quants()"
     ],
     "language": "python",
     "metadata": {},
     "outputs": [],
     "prompt_number": 18
    },
    {
     "cell_type": "code",
     "collapsed": false,
     "input": [
      "vis.plot_allrt_quants()"
     ],
     "language": "python",
     "metadata": {},
     "outputs": [],
     "prompt_number": 17
    },
    {
     "cell_type": "markdown",
     "metadata": {},
     "source": [
      "###Quantile Probabilty Fitting\n",
      "\n",
      "* Calculate probability of a correct response\n",
      "    * acc = redf.query('trial_type==\"go\"').mean()['acc']\n",
      "    \n",
      "* Define probabilities for RT quantiles: \n",
      "    * prob = np.array([.025, .25, .5, .75, .975])\n",
      "    \n",
      "* Get RT quantiles:\n",
      "    * from scipy.stats.mstats import mquantiles as mq\n",
      "    * rtquants = mq(redf.rt, prob=prob)\n",
      "    \n",
      "* Calculate defective probabilities\n",
      "    * pdefective = acc * prob\n",
      "    * cost_vector = np.append(rtquants, pdefective)\n"
     ]
    },
    {
     "cell_type": "code",
     "collapsed": false,
     "input": [
      "###Quantile Probabilty Fitting\n",
      "\n",
      "# Calculate probability of a correct response\n",
      "acc = redf.query('trial_type==\"go\"').mean()['acc']\n",
      "    \n",
      "# Define probabilities for RT quantiles: \n",
      "prob = np.array([.025, .25, .5, .75, .975])\n",
      "    \n",
      "# Get RT quantiles:\n",
      "from scipy.stats.mstats import mquantiles as mq\n",
      "rtquants = mq(redf.rt, prob=prob)\n",
      "    \n",
      "# Calculate defective probabilities\n",
      "pdefective = acc * prob\n",
      "cost_vector = np.append(rtquants, pdefective)"
     ],
     "language": "python",
     "metadata": {},
     "outputs": [],
     "prompt_number": 12
    },
    {
     "cell_type": "code",
     "collapsed": false,
     "input": [
      "f, axes = plt.subplots(2, 3, figsize=(15, 7))\n",
      "axes = np.array(axes).flatten()\n",
      "prob = np.arange(.025, .975, .25)\n",
      "\n",
      "for i, (ssd, df) in enumerate(redf.groupby('ssd')):\n",
      "    \n",
      "    allgo = redf.query('choice==\"go\"')\n",
      "    sgo = df.query('trial_type==\"stop\" & choice==\"go\"')\n",
      "    sim_errs = simdf.query('trial_type==\"stop\" & choice==1')#.GoRT.values\n",
      "    sim_cor = simdf.query('trial_type==\"go\" & choice==1')#.GoRT.values\n",
      "    sim_errs = sim_errs[sim_errs['SSD'].isin([ssd])].GoRT.values-ssd*.001\n",
      "    if len(sgo)<1:\n",
      "\n",
      "    elif len(sim_errs)<1:\n",
      "        continue\n",
      "    \n",
      "    try:\n",
      "        sns.distplot(sim_cor.GoRT.values, bins=15, hist=True, kde=False, ax=axes[i], color=greens[4], norm_hist=True)\n",
      "    exce\n",
      "\n",
      "    sns.distplot(allgo.rt.values, bins=15, hist=True, kde=False, ax=axes[i], color=greens[3], norm_hist=True)\n",
      "    sns.distplot(sgo.rt.values-ssd*.001, bins=15, hist=True, kde=False, \n",
      "                 ax=axes[i], color=reds[5], label=str(ssd), norm_hist=True)\n",
      "    sns.distplot(sim_errs, bins=15, hist=True, kde=False, ax=axes[i], color=reds[6], norm_hist=True)\n",
      "    sns.distplot(sim_cor.GoRT.values, bins=15, hist=True, kde=False, ax=axes[i], color=greens[4], norm_hist=True)\n",
      "    \n",
      "    sns.despine()\n",
      "    axes[i].set_xlim(0.0,.8)\n",
      "    axes[i].legend(loc=0)\n",
      "    \n",
      "all_sgo = redf.query('trial_type==\"stop\" & choice==\"go\"')\n",
      "qg = mq(allgo.rt, prob = prob)\n",
      "qsg = mq(all_sgo.rt, prob = prob)\n",
      "qsim = mq(np.array(rts).flatten()[0], prob = prob)\n",
      "\n",
      "pdefect = redf.query('trial_type==\"go\"').mean()['acc']\n",
      "axes[-1].plot(qg, prob*pdefect, marker='o', color=greens[3], label='Emp Correct')\n",
      "axes[-1].plot(qsg, prob*(1-pdefect), marker='o', color=reds[5], label='Emp Err')\n",
      "axes[-1].plot(qsim, prob*pdefect, marker='o', color=blues[1], label='Sim Correct')\n",
      "axes[-1].set_ylim(-.05, .8); axes[-1].set_xlim(.43, .62); \n",
      "plt.tight_layout()\n",
      "plt.legend(loc=0)"
     ],
     "language": "python",
     "metadata": {},
     "outputs": [
      {
       "ename": "IndentationError",
       "evalue": "expected an indented block (<ipython-input-13-baadc302122e>, line 14)",
       "output_type": "pyerr",
       "traceback": [
        "\u001b[0;36m  File \u001b[0;32m\"<ipython-input-13-baadc302122e>\"\u001b[0;36m, line \u001b[0;32m14\u001b[0m\n\u001b[0;31m    elif len(sim_errs)<1:\u001b[0m\n\u001b[0m       ^\u001b[0m\n\u001b[0;31mIndentationError\u001b[0m\u001b[0;31m:\u001b[0m expected an indented block\n"
       ]
      }
     ],
     "prompt_number": 13
    },
    {
     "cell_type": "code",
     "collapsed": false,
     "input": [],
     "language": "python",
     "metadata": {},
     "outputs": [],
     "prompt_number": 14
    },
    {
     "cell_type": "code",
     "collapsed": false,
     "input": [
      "df.replace(to_replace={'GoRT':{999.:np.nan}, 'SSRT':{999.:np.nan}}, inplace=True)"
     ],
     "language": "python",
     "metadata": {},
     "outputs": [],
     "prompt_number": 78
    }
   ],
   "metadata": {}
  }
 ]
}