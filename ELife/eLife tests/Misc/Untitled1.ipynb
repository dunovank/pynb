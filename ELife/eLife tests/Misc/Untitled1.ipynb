{
 "metadata": {
  "name": "",
  "signature": "sha256:c7b8e4d1c11b60d5310fa93bc3cbf2590d98d295506bc7ede2fa6f72c9e99e7d"
 },
 "nbformat": 3,
 "nbformat_minor": 0,
 "worksheets": [
  {
   "cells": [
    {
     "cell_type": "code",
     "collapsed": false,
     "input": [],
     "language": "python",
     "metadata": {},
     "outputs": []
    }
   ],
   "metadata": {}
  }
 ]
}