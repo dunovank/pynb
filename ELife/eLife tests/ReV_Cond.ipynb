{
 "cells": [
  {
   "cell_type": "code",
   "execution_count": 245,
   "metadata": {
    "collapsed": true
   },
   "outputs": [],
   "source": [
    "from radd import build, fit, vis"
   ]
  },
  {
   "cell_type": "markdown",
   "metadata": {},
   "source": [
    "## Dir"
   ]
  },
  {
   "cell_type": "code",
   "execution_count": 246,
   "metadata": {
    "collapsed": false
   },
   "outputs": [
    {
     "name": "stdout",
     "output_type": "stream",
     "text": [
      "/home/kyle/Dropbox/ELife/ReV_Cond\n"
     ]
    }
   ],
   "source": [
    "%cd /home/kyle/Dropbox/ELife/ReV_Cond/"
   ]
  },
  {
   "cell_type": "markdown",
   "metadata": {},
   "source": [
    "## Prepare Data/Params"
   ]
  },
  {
   "cell_type": "code",
   "execution_count": 276,
   "metadata": {
    "collapsed": false
   },
   "outputs": [],
   "source": [
    "data = redf_store['redata']\n",
    "binits = {k: v for k,v in redf_store['rebsl_boot_popt'].items()}\n",
    "binits['ssv']=-abs(binits['ssv'])\n",
    "pinits = {k: v for k,v in redf_store['repnl_boot_popt'].items()}\n",
    "\n",
    "# since these were unchanged when fitting the flat model to the mean data\n",
    "# note, these \"init\" parameters were optimized on the mean RT and SC\n",
    "# as part of the initial submission to eLife so they're obviously in the ball park\n",
    "# and the flat model fit with the new routine had liberal convergence criteria.\n",
    "\n",
    "# TODO: this is a test. need to fit the flat model with different init parameters\n",
    "# and with more stringent convergence criteria\n",
    "\n",
    "inits = {k: np.mean([binits[k], pinits[k]]) for k in binits.keys()}"
   ]
  },
  {
   "cell_type": "markdown",
   "metadata": {},
   "source": [
    "## optimize"
   ]
  },
  {
   "cell_type": "code",
   "execution_count": 248,
   "metadata": {
    "collapsed": false
   },
   "outputs": [
    {
     "name": "stdout",
     "output_type": "stream",
     "text": [
      "preparing reactive model to fit on average data\n",
      "Warning: Maximum number of iterations has been exceeded.\n"
     ]
    }
   ],
   "source": [
    "m = build.Model(data=data, inits=inits, fit_on='average', depends_on={'v':'Cond'}, prepare=1)\n",
    "popt, yhat = m.optimize(xtol=.1e-8, ftol=.1e-8, ntrials=5000, maxfev=5000)"
   ]
  },
  {
   "cell_type": "code",
   "execution_count": 250,
   "metadata": {
    "collapsed": false
   },
   "outputs": [
    {
     "data": {
      "text/plain": [
       "array([[ 0.922027  ,  0.98972479,  0.97557391,  0.83704296,  0.50503596,\n",
       "         0.08695739,  5.12858731,  5.46171239,  5.64244469,  5.80043007,\n",
       "         6.0592462 ,  5.00890135,  5.37630303,  5.55544222,  5.7000466 ,\n",
       "         6.01601423],\n",
       "       [ 0.92809159,  0.98888531,  0.97649201,  0.89082018,  0.61892472,\n",
       "         0.19109509,  5.15727563,  5.51219641,  5.71865953,  5.90243999,\n",
       "         6.14384194,  4.98771993,  5.34285794,  5.55000026,  5.79605229,\n",
       "         6.08787661]])"
      ]
     },
     "execution_count": 250,
     "metadata": {},
     "output_type": "execute_result"
    }
   ],
   "source": [
    "yhat"
   ]
  },
  {
   "cell_type": "markdown",
   "metadata": {},
   "source": [
    "##visualize fits"
   ]
  },
  {
   "cell_type": "code",
   "execution_count": 254,
   "metadata": {
    "collapsed": false
   },
   "outputs": [
    {
     "data": {
      "text/plain": [
       "array([[ 0.9420135 ,  0.9942624 ,  0.98278695,  0.89672148,  0.50491798,\n",
       "         0.1032787 ,  5.1263442 ,  5.42573977,  5.62966871,  5.82118464,\n",
       "         6.10313177,  4.97953939,  5.29185534,  5.48165798,  5.67573452,\n",
       "         5.94282818],\n",
       "       [ 0.9272458 ,  0.99344265,  0.985246  ,  0.92541009,  0.59426236,\n",
       "         0.18114755,  5.16524601,  5.49016476,  5.69891739,  5.90304947,\n",
       "         6.17696142,  4.96908236,  5.29388809,  5.53158092,  5.71655416,\n",
       "         5.9969182 ]], dtype=float32)"
      ]
     },
     "execution_count": 254,
     "metadata": {},
     "output_type": "execute_result"
    }
   ],
   "source": [
    "m.y"
   ]
  },
  {
   "cell_type": "code",
   "execution_count": 271,
   "metadata": {
    "collapsed": true
   },
   "outputs": [],
   "source": [
    "p = inits.copy(); ncond=2; bias = ['v']"
   ]
  },
  {
   "cell_type": "code",
   "execution_count": 487,
   "metadata": {
    "collapsed": false
   },
   "outputs": [
    {
     "data": {
      "text/plain": [
       "array([[ 0.85057508,  0.94201328,  0.85581924,  0.83270821,  0.80039883],\n",
       "       [ 0.78309863,  0.92151512,  0.92724563,  0.8677305 ,  0.90131412],\n",
       "       [ 0.10908232,  0.1329466 ,  0.28385246,  0.25557591,  0.25618065]])"
      ]
     },
     "execution_count": 487,
     "metadata": {},
     "output_type": "execute_result"
    }
   ],
   "source": [
    "wts"
   ]
  },
  {
   "cell_type": "code",
   "execution_count": 493,
   "metadata": {
    "collapsed": false
   },
   "outputs": [
    {
     "data": {
      "text/plain": [
       "array([ 0.94201326,  0.99426228,  0.98278689,  0.8967213 ,  0.50491804,\n",
       "        0.10327869,  5.05134583,  5.32041454,  5.58484221,  5.85082388,\n",
       "        6.24409151,  4.91785669,  5.18539333,  5.45045137,  5.58876324,\n",
       "        5.9842329 ], dtype=float32)"
      ]
     },
     "execution_count": 493,
     "metadata": {},
     "output_type": "execute_result"
    }
   ],
   "source": [
    "data.groupby('Cond').apply(build.rangl_data)['bsl']"
   ]
  },
  {
   "cell_type": "code",
   "execution_count": 498,
   "metadata": {
    "collapsed": false
   },
   "outputs": [
    {
     "data": {
      "text/plain": [
       "array([[ 0.99173552,  1.        ,  1.        ,  1.        ,  0.89999998,\n",
       "         0.        ,  5.25041199,  5.45125628,  5.58501434,  5.7196002 ,\n",
       "         5.98435068,  5.26764107,  5.45099211,  5.58452368,  5.70915556,\n",
       "         5.90187311],\n",
       "       [ 0.96694213,  1.        ,  1.        ,  1.        ,  0.75      ,\n",
       "         0.34999999,  5.31446838,  5.59965944,  5.85019016,  5.9848609 ,\n",
       "         6.24977255,  5.31439829,  5.44767141,  5.51706028,  5.75070906,\n",
       "         5.98038673]], dtype=float32)"
      ]
     },
     "execution_count": 498,
     "metadata": {},
     "output_type": "execute_result"
    }
   ],
   "source": [
    "m.dat[:][1]"
   ]
  },
  {
   "cell_type": "code",
   "execution_count": 491,
   "metadata": {
    "collapsed": false
   },
   "outputs": [
    {
     "name": "stdout",
     "output_type": "stream",
     "text": [
      "preparing reactive model to fit on average data\n"
     ]
    },
    {
     "data": {
      "text/plain": [
       "array([[[ 0.99173552,  1.        ,  1.        , ...,  5.31869507,\n",
       "          5.45847368,  5.67435551],\n",
       "        [ 0.97520661,  1.        ,  1.        , ...,  5.58578682,\n",
       "          5.71808434,  6.02119255]],\n",
       "\n",
       "       [[ 0.99173552,  1.        ,  1.        , ...,  5.58452368,\n",
       "          5.70915556,  5.90187311],\n",
       "        [ 0.96694213,  1.        ,  1.        , ...,  5.51706028,\n",
       "          5.75070906,  5.98038673]],\n",
       "\n",
       "       [[ 0.94214875,  1.        ,  1.        , ...,  5.85349989,\n",
       "          6.09803867,  6.2075572 ],\n",
       "        [ 0.86776859,  1.        ,  1.        , ...,  5.71828604,\n",
       "          5.86901045,  5.98520994]],\n",
       "\n",
       "       ..., \n",
       "       [[ 0.99173552,  1.        ,  1.        , ...,  5.60195398,\n",
       "          5.85134649,  6.02187443],\n",
       "        [ 0.93388432,  1.        ,  1.        , ...,  5.85976267,\n",
       "          6.05565214,  6.24967098]],\n",
       "\n",
       "       [[ 1.        ,  1.        ,  0.89999998, ...,  5.05077314,\n",
       "          5.1843133 ,  5.44650364],\n",
       "        [ 0.97520661,  1.        ,  0.89999998, ...,  5.31748676,\n",
       "          5.45217609,  5.89949703]],\n",
       "\n",
       "       [[ 1.        ,  1.        ,  1.        , ...,  5.31744194,\n",
       "          5.45081663,  5.58399677],\n",
       "        [ 0.95867771,  0.94999999,  1.        , ...,  5.3166256 ,\n",
       "          5.45115805,  5.63492632]]], dtype=float32)"
      ]
     },
     "execution_count": 491,
     "metadata": {},
     "output_type": "execute_result"
    }
   ],
   "source": [
    "m = build.Model(data=data, inits=inits, fit_on='average', depends_on={'v':'Cond'}, prepare=1)\n",
    "np.array([np.vstack(cset) for cset in m.datdf.unstack().values])"
   ]
  },
  {
   "cell_type": "code",
   "execution_count": 296,
   "metadata": {
    "collapsed": false
   },
   "outputs": [],
   "source": [
    "inits['v0'] = popt['v0']\n",
    "inits['v1'] = popt['v1']"
   ]
  },
  {
   "cell_type": "code",
   "execution_count": 289,
   "metadata": {
    "collapsed": true
   },
   "outputs": [],
   "source": [
    "p['tr'] = np.array([p['tr']]*ncond)"
   ]
  },
  {
   "cell_type": "code",
   "execution_count": 332,
   "metadata": {
    "collapsed": true
   },
   "outputs": [],
   "source": [
    "y, yhat = y.reshape(ncond, 16), yhat.reshape(ncond, 16)"
   ]
  },
  {
   "cell_type": "code",
   "execution_count": 341,
   "metadata": {
    "collapsed": false
   },
   "outputs": [
    {
     "data": {
      "text/plain": [
       "array([[ 0.08773828,  0.15795705,  0.14348039,  0.05013136,  0.15390228],\n",
       "       [ 0.26532713,  0.25809657,  0.0702856 ,  0.28949285,  0.31456847]])"
      ]
     },
     "execution_count": 341,
     "metadata": {},
     "output_type": "execute_result"
    }
   ],
   "source": [
    "wtc, wte = wts.T[:5].T, wts.T[5:].T\n",
    "wte*y[:, 11:] - wte*yhat[:, 11:]"
   ]
  },
  {
   "cell_type": "code",
   "execution_count": 356,
   "metadata": {
    "collapsed": false
   },
   "outputs": [],
   "source": [
    "y, yhat = y.reshape(ncond, 16), yhat.reshape(ncond, 16)\n",
    "cost = np.hstack([y[:, :6] - yhat[:, :6], wtc*(y[:, 6:11] - yhat[:, 6:11]), wte*y[:, 11:] - wte*yhat[:, 11:]]).astype(np.float32)"
   ]
  },
  {
   "cell_type": "code",
   "execution_count": 469,
   "metadata": {
    "collapsed": false
   },
   "outputs": [
    {
     "data": {
      "text/plain": [
       "array([ 0.10908232,  0.1329466 ,  0.28385246,  0.25557591,  0.25618065])"
      ]
     },
     "execution_count": 469,
     "metadata": {},
     "output_type": "execute_result"
    }
   ],
   "source": [
    "pe*(sde.min()/sde.values)"
   ]
  },
  {
   "cell_type": "code",
   "execution_count": 465,
   "metadata": {
    "collapsed": false
   },
   "outputs": [
    {
     "data": {
      "text/plain": [
       "0.28385245901639344"
      ]
     },
     "execution_count": 465,
     "metadata": {},
     "output_type": "execute_result"
    }
   ],
   "source": [
    "pe"
   ]
  },
  {
   "cell_type": "code",
   "execution_count": 464,
   "metadata": {
    "collapsed": false
   },
   "outputs": [
    {
     "data": {
      "text/plain": [
       "array([ 0.49555742,  0.40660352,  0.19043891,  0.21150879,  0.21100951])"
      ]
     },
     "execution_count": 464,
     "metadata": {},
     "output_type": "execute_result"
    }
   ],
   "source": [
    "sde.values"
   ]
  },
  {
   "cell_type": "code",
   "execution_count": 481,
   "metadata": {
    "collapsed": false
   },
   "outputs": [
    {
     "data": {
      "text/plain": [
       "array([[ 0.85057508,  0.94201328,  0.85581924,  0.83270821,  0.80039883],\n",
       "       [ 0.78309863,  0.92151512,  0.92724563,  0.8677305 ,  0.90131412]])"
      ]
     },
     "execution_count": 481,
     "metadata": {},
     "output_type": "execute_result"
    }
   ],
   "source": [
    "wtc"
   ]
  },
  {
   "cell_type": "code",
   "execution_count": 486,
   "metadata": {
    "collapsed": false
   },
   "outputs": [],
   "source": [
    "ncond = 2\n",
    "\n",
    "sd = m.observed.groupby(m.cond).std()\n",
    "\n",
    "pc = m.data.query('trial_type==\"go\"').groupby(m.cond).response.mean().values\n",
    "pe = m.data.query('trial_type==\"stop\"').response.mean()\n",
    "\n",
    "sdc = sd.loc[:,'c5':'c95'].values\n",
    "sde = sd.loc[:,'e5':'e95'].mean(axis=0)\n",
    "\n",
    "wtc = (pc*(sdc.min(axis=1)/sdc.T)).T\n",
    "wte = pe*(sde.min()/sde.values)\n",
    "#wte =(sde.min(axis=1)/sde.T).T\n",
    "\n",
    "wts = np.append(wtc, wte).reshape(ncond+1, 5)"
   ]
  },
  {
   "cell_type": "code",
   "execution_count": 484,
   "metadata": {
    "collapsed": false
   },
   "outputs": [
    {
     "data": {
      "text/plain": [
       "array([ 0.85057508,  0.94201328,  0.85581924,  0.83270821,  0.80039883,\n",
       "        0.78309863,  0.92151512,  0.92724563,  0.8677305 ,  0.90131412,\n",
       "        0.10908232,  0.1329466 ,  0.28385246,  0.25557591,  0.25618065])"
      ]
     },
     "execution_count": 484,
     "metadata": {},
     "output_type": "execute_result"
    }
   ],
   "source": [
    "wts"
   ]
  },
  {
   "cell_type": "code",
   "execution_count": 478,
   "metadata": {
    "collapsed": false
   },
   "outputs": [
    {
     "data": {
      "text/plain": [
       "array([[ 0.76319699,  0.8452419 ,  0.76790242,  0.74716555,  0.71817526],\n",
       "       [ 0.78309863,  0.92151512,  0.92724563,  0.8677305 ,  0.90131412]])"
      ]
     },
     "execution_count": 478,
     "metadata": {},
     "output_type": "execute_result"
    }
   ],
   "source": [
    "pc*(sdc.flatten().min()/sdc.flatten()).reshape(2,5).T"
   ]
  },
  {
   "cell_type": "code",
   "execution_count": 471,
   "metadata": {
    "collapsed": false
   },
   "outputs": [
    {
     "data": {
      "text/plain": [
       "array([[ 0.85057508,  0.94201328,  0.85581924,  0.83270821,  0.80039883],\n",
       "       [ 0.78309863,  0.92151512,  0.92724563,  0.8677305 ,  0.90131412]])"
      ]
     },
     "execution_count": 471,
     "metadata": {},
     "output_type": "execute_result"
    }
   ],
   "source": [
    "wtc"
   ]
  },
  {
   "cell_type": "code",
   "execution_count": 436,
   "metadata": {
    "collapsed": false
   },
   "outputs": [
    {
     "data": {
      "text/plain": [
       "1852"
      ]
     },
     "execution_count": 436,
     "metadata": {},
     "output_type": "execute_result"
    }
   ],
   "source": [
    "len(serr[serr.Cond=='bsl'].rt)"
   ]
  },
  {
   "cell_type": "code",
   "execution_count": 435,
   "metadata": {
    "collapsed": false
   },
   "outputs": [
    {
     "data": {
      "text/plain": [
       "1611"
      ]
     },
     "execution_count": 435,
     "metadata": {},
     "output_type": "execute_result"
    }
   ],
   "source": [
    "len(serr[serr.Cond=='pnl'].rt)"
   ]
  },
  {
   "cell_type": "code",
   "execution_count": 444,
   "metadata": {
    "collapsed": false
   },
   "outputs": [
    {
     "data": {
      "text/plain": [
       "(-3.5265067633967706, 0.00081382710194226782)"
      ]
     },
     "execution_count": 444,
     "metadata": {},
     "output_type": "execute_result"
    }
   ],
   "source": [
    "serr = m.data.query('trial_type==\"go\" & acc==1')\n",
    "from scipy.stats import ttest_rel\n",
    "x = pd.pivot_table(serr, values='rt', index='idx', columns='Cond').values.T\n",
    "ttest_rel(x[0], x[1])"
   ]
  },
  {
   "cell_type": "code",
   "execution_count": 431,
   "metadata": {
    "collapsed": false
   },
   "outputs": [
    {
     "data": {
      "text/plain": [
       "0.28385245901639344"
      ]
     },
     "execution_count": 431,
     "metadata": {},
     "output_type": "execute_result"
    }
   ],
   "source": [
    "np.sum(pe)/2"
   ]
  },
  {
   "cell_type": "code",
   "execution_count": 411,
   "metadata": {
    "collapsed": false
   },
   "outputs": [
    {
     "data": {
      "text/plain": [
       "array([ 0.76856523,  0.9389982 ,  1.        ,  0.84810571,  0.80219476])"
      ]
     },
     "execution_count": 411,
     "metadata": {},
     "output_type": "execute_result"
    }
   ],
   "source": [
    "e[0]"
   ]
  },
  {
   "cell_type": "code",
   "execution_count": 372,
   "metadata": {
    "collapsed": false
   },
   "outputs": [
    {
     "data": {
      "text/plain": [
       "array([[[ 0.90293322,  1.        ,  0.90850019,  0.88396654,  0.84966831],\n",
       "        [ 0.84454281,  0.99381986,  1.        ,  0.93581514,  0.97203382]],\n",
       "\n",
       "       [[ 0.76856523,  0.9389982 ,  1.        ,  0.84810571,  0.80219476],\n",
       "        [ 0.24227354,  0.29502821,  0.9621859 ,  0.92643648,  1.        ]]])"
      ]
     },
     "execution_count": 372,
     "metadata": {},
     "output_type": "execute_result"
    }
   ],
   "source": [
    "wts"
   ]
  },
  {
   "cell_type": "code",
   "execution_count": 361,
   "metadata": {
    "collapsed": false
   },
   "outputs": [
    {
     "data": {
      "text/plain": [
       "trial_type\n",
       "go      14762\n",
       "stop    12200\n",
       "Name: response, dtype: int64"
      ]
     },
     "execution_count": 361,
     "metadata": {},
     "output_type": "execute_result"
    }
   ],
   "source": [
    "data.groupby(['Cond', 'trial_type', 'response']).count()\n",
    "pr = data.groupby(['trial_type']).response.count()\n",
    "pr "
   ]
  },
  {
   "cell_type": "code",
   "execution_count": 357,
   "metadata": {
    "collapsed": false
   },
   "outputs": [
    {
     "data": {
      "text/plain": [
       "array([-0.0239865 , -0.0047376 , -0.01321305, -0.07427852, -0.01008202,\n",
       "        0.0082787 ,  0.64621675,  0.71716541,  0.69098043,  0.81526083,\n",
       "        0.76153576,  0.1037405 ,  0.1691111 ,  0.15380469,  0.0531407 ,\n",
       "        0.16247624, -0.0037542 , -0.00655735, -0.013754  , -0.03658991,\n",
       "        0.03126236,  0.00914755,  0.67053771,  0.66375405,  0.66034776,\n",
       "        0.78072715,  0.77066278,  0.24415164,  0.2693319 ,  0.0756136 ,\n",
       "        0.32191011,  0.35380164], dtype=float32)"
      ]
     },
     "execution_count": 357,
     "metadata": {},
     "output_type": "execute_result"
    }
   ],
   "source": [
    "cost.flatten()"
   ]
  },
  {
   "cell_type": "code",
   "execution_count": 327,
   "metadata": {
    "collapsed": false
   },
   "outputs": [
    {
     "data": {
      "text/plain": [
       "array([ 0.75974097,  0.83798701,  0.86329519,  0.85917884,  0.88595345])"
      ]
     },
     "execution_count": 327,
     "metadata": {},
     "output_type": "execute_result"
    }
   ],
   "source": [
    "#cst[6:11]*wtc\n",
    "#cst[11:]*wte\n",
    "cst[6:11]"
   ]
  },
  {
   "cell_type": "code",
   "execution_count": 349,
   "metadata": {
    "collapsed": false
   },
   "outputs": [
    {
     "ename": "IndexError",
     "evalue": "invalid index to scalar variable.",
     "output_type": "error",
     "traceback": [
      "\u001b[1;31m---------------------------------------------------------------------------\u001b[0m",
      "\u001b[1;31mIndexError\u001b[0m                                Traceback (most recent call last)",
      "\u001b[1;32m<ipython-input-349-46254269de41>\u001b[0m in \u001b[0;36m<module>\u001b[1;34m()\u001b[0m\n\u001b[1;32m----> 1\u001b[1;33m \u001b[0mnp\u001b[0m\u001b[1;33m.\u001b[0m\u001b[0mhstack\u001b[0m\u001b[1;33m(\u001b[0m\u001b[1;33m[\u001b[0m\u001b[0mi\u001b[0m\u001b[1;33m[\u001b[0m\u001b[0mii\u001b[0m\u001b[1;33m]\u001b[0m \u001b[1;32mfor\u001b[0m \u001b[0mi\u001b[0m \u001b[1;32min\u001b[0m \u001b[1;33m[\u001b[0m\u001b[0myh\u001b[0m\u001b[1;33m[\u001b[0m\u001b[1;36m0\u001b[0m\u001b[1;33m]\u001b[0m\u001b[1;33m,\u001b[0m \u001b[0myh\u001b[0m\u001b[1;33m[\u001b[0m\u001b[1;36m1\u001b[0m\u001b[1;33m]\u001b[0m\u001b[1;33m,\u001b[0m \u001b[0myh\u001b[0m\u001b[1;33m[\u001b[0m\u001b[1;36m2\u001b[0m\u001b[1;33m]\u001b[0m\u001b[1;33m*\u001b[0m\u001b[0mwtc\u001b[0m\u001b[1;33m,\u001b[0m \u001b[0myh\u001b[0m\u001b[1;33m[\u001b[0m\u001b[1;36m3\u001b[0m\u001b[1;33m]\u001b[0m\u001b[1;33m]\u001b[0m \u001b[1;32mfor\u001b[0m \u001b[0mii\u001b[0m \u001b[1;32min\u001b[0m \u001b[0mrange\u001b[0m\u001b[1;33m(\u001b[0m\u001b[0mncond\u001b[0m\u001b[1;33m)\u001b[0m\u001b[1;33m]\u001b[0m\u001b[1;33m)\u001b[0m\u001b[1;33m\u001b[0m\u001b[0m\n\u001b[0m",
      "\u001b[1;31mIndexError\u001b[0m: invalid index to scalar variable."
     ]
    }
   ],
   "source": [
    "np.hstack([i[ii] for i in [yh[0], yh[1], yh[2]*wtc, yh[3]] for ii in range(ncond)])"
   ]
  },
  {
   "cell_type": "code",
   "execution_count": 314,
   "metadata": {
    "collapsed": false
   },
   "outputs": [
    {
     "ename": "ValueError",
     "evalue": "operands could not be broadcast together with shapes (2,) (2,5) ",
     "output_type": "error",
     "traceback": [
      "\u001b[1;31m---------------------------------------------------------------------------\u001b[0m",
      "\u001b[1;31mValueError\u001b[0m                                Traceback (most recent call last)",
      "\u001b[1;32m<ipython-input-314-ad880a25d422>\u001b[0m in \u001b[0;36m<module>\u001b[1;34m()\u001b[0m\n\u001b[1;32m----> 1\u001b[1;33m \u001b[0msum\u001b[0m\u001b[1;33m(\u001b[0m\u001b[1;33m[\u001b[0m\u001b[0myh\u001b[0m\u001b[1;33m[\u001b[0m\u001b[1;36m0\u001b[0m\u001b[1;33m]\u001b[0m\u001b[1;33m,\u001b[0m \u001b[0myh\u001b[0m\u001b[1;33m[\u001b[0m\u001b[1;36m1\u001b[0m\u001b[1;33m]\u001b[0m\u001b[1;33m,\u001b[0m \u001b[0myh\u001b[0m\u001b[1;33m[\u001b[0m\u001b[1;36m2\u001b[0m\u001b[1;33m]\u001b[0m\u001b[1;33m*\u001b[0m\u001b[0mwtc\u001b[0m\u001b[1;33m,\u001b[0m \u001b[0myh\u001b[0m\u001b[1;33m[\u001b[0m\u001b[1;36m3\u001b[0m\u001b[1;33m]\u001b[0m\u001b[1;33m*\u001b[0m\u001b[0mwte\u001b[0m\u001b[1;33m]\u001b[0m\u001b[1;33m,\u001b[0m \u001b[1;36m1\u001b[0m\u001b[1;33m)\u001b[0m\u001b[1;33m\u001b[0m\u001b[0m\n\u001b[0m",
      "\u001b[1;31mValueError\u001b[0m: operands could not be broadcast together with shapes (2,) (2,5) "
     ]
    }
   ],
   "source": [
    "sum([yh[0], yh[1], yh[2]*wtc, \n",
    "     yh[3]*wte"
   ]
  },
  {
   "cell_type": "code",
   "execution_count": 538,
   "metadata": {
    "collapsed": false
   },
   "outputs": [
    {
     "data": {
      "text/plain": [
       "array([[ 0.9420135 ,  0.9942624 ,  0.98278695,  0.89672148,  0.50491798,\n",
       "         0.1032787 ,  5.1263442 ,  5.42573977,  5.62966871,  5.82118464,\n",
       "         6.10313177,  4.97953939,  5.29185534,  5.48165798,  5.67573452,\n",
       "         5.94282818],\n",
       "       [ 0.9272458 ,  0.99344265,  0.985246  ,  0.92541009,  0.59426236,\n",
       "         0.18114755,  5.16524601,  5.49016476,  5.69891739,  5.90304947,\n",
       "         6.17696142,  4.96908236,  5.29388809,  5.53158092,  5.71655416,\n",
       "         5.9969182 ]], dtype=float32)"
      ]
     },
     "execution_count": 538,
     "metadata": {},
     "output_type": "execute_result"
    }
   ],
   "source": [
    "y"
   ]
  },
  {
   "cell_type": "code",
   "execution_count": 353,
   "metadata": {
    "collapsed": false
   },
   "outputs": [],
   "source": [
    "yhat =  fit.recost(inits, m.y, wts=m.wts, ncond=2)\n",
    "y=m.y"
   ]
  },
  {
   "cell_type": "code",
   "execution_count": 278,
   "metadata": {
    "collapsed": false
   },
   "outputs": [],
   "source": [
    "inits['v'] = np.array([1.111, 1.065])"
   ]
  },
  {
   "cell_type": "code",
   "execution_count": 516,
   "metadata": {
    "collapsed": false
   },
   "outputs": [],
   "source": [
    "a, tr, v0, v1, ssv, z = popt['a'], popt['tr'], popt['v0'], popt['v1'], popt['ssv'], popt['z']"
   ]
  },
  {
   "cell_type": "code",
   "execution_count": 517,
   "metadata": {
    "collapsed": true
   },
   "outputs": [],
   "source": [
    "v=np.array([v0, v1])"
   ]
  },
  {
   "cell_type": "code",
   "execution_count": 546,
   "metadata": {
    "collapsed": false
   },
   "outputs": [],
   "source": [
    "yhat = fit.simulate_full(a, tr, v, ssv, z, ncond=2, )"
   ]
  },
  {
   "cell_type": "code",
   "execution_count": 552,
   "metadata": {
    "collapsed": false
   },
   "outputs": [],
   "source": [
    "yhat=yhat.reshape(2,16)\n",
    "cost = np.hstack([y[:, :6] - yhat[:, :6], wtc*y[:, 6:11] - wtc*yhat[:, 6:11], wte*y[:, 11:] - wte*yhat[:, 11:]]).astype(np.float32)\n"
   ]
  },
  {
   "cell_type": "code",
   "execution_count": 555,
   "metadata": {
    "collapsed": false
   },
   "outputs": [
    {
     "data": {
      "text/plain": [
       "array([[ 0.964     ,  0.994     ,  0.989     ,  0.951     ,  0.51      ,\n",
       "         0.102     ,  5.11190698,  5.38370698,  5.58370698,  5.81370698,\n",
       "         6.12370698,  4.87370698,  5.06370698,  5.19370698,  5.33910698,\n",
       "         5.61530698],\n",
       "       [ 0.933     ,  0.997     ,  0.99      ,  0.962     ,  0.585     ,\n",
       "         0.176     ,  5.18370698,  5.46370698,  5.67370698,  5.89010698,\n",
       "         6.19650698,  4.90850698,  5.11370698,  5.25370698,  5.40370698,\n",
       "         5.65010698]])"
      ]
     },
     "execution_count": 555,
     "metadata": {},
     "output_type": "execute_result"
    }
   ],
   "source": [
    "yhat"
   ]
  },
  {
   "cell_type": "code",
   "execution_count": 554,
   "metadata": {
    "collapsed": false
   },
   "outputs": [
    {
     "data": {
      "text/plain": [
       "array([[ 0.92002702,  0.99452478,  0.97657388,  0.84244299,  0.49983597,\n",
       "         0.10455739,  5.13862419,  5.46533537,  5.66900349,  5.82741117,\n",
       "         6.08666325,  4.99108362,  5.32218695,  5.56339359,  5.76176834,\n",
       "         6.02673292],\n",
       "       [ 0.92149156,  0.98988533,  0.980492  ,  0.88882017,  0.60352474,\n",
       "         0.18629509,  5.15078926,  5.51454592,  5.72229385,  5.91427994,\n",
       "         6.15934467,  4.97568989,  5.31784248,  5.61045599,  5.79651022,\n",
       "         6.08576441]], dtype=float32)"
      ]
     },
     "execution_count": 554,
     "metadata": {},
     "output_type": "execute_result"
    }
   ],
   "source": [
    "yhat = y+cost"
   ]
  },
  {
   "cell_type": "code",
   "execution_count": 548,
   "metadata": {
    "collapsed": false
   },
   "outputs": [
    {
     "data": {
      "text/plain": [
       "array([[ 0.9420135 ,  0.9942624 ,  0.98278695,  0.89672148,  0.50491798,\n",
       "         0.1032787 ,  5.1263442 ,  5.42573977,  5.62966871,  5.82118464,\n",
       "         6.10313177,  4.97953939,  5.29185534,  5.48165798,  5.67573452,\n",
       "         5.94282818],\n",
       "       [ 0.9272458 ,  0.99344265,  0.985246  ,  0.92541009,  0.59426236,\n",
       "         0.18114755,  5.16524601,  5.49016476,  5.69891739,  5.90304947,\n",
       "         6.17696142,  4.96908236,  5.29388809,  5.53158092,  5.71655416,\n",
       "         5.9969182 ]], dtype=float32)"
      ]
     },
     "execution_count": 548,
     "metadata": {},
     "output_type": "execute_result"
    }
   ],
   "source": [
    "cost = np.array([y[:, :6] - yhat[:, :6], wtc*y[:, 6:11] - wtc*yhat[:, 6:11], wte*y[:, 11:] - wte*yhat[:, 11:]]).astype(np.float32)"
   ]
  },
  {
   "cell_type": "code",
   "execution_count": 507,
   "metadata": {
    "collapsed": false
   },
   "outputs": [],
   "source": [
    "yhat = yh.reshape(2,16)"
   ]
  },
  {
   "cell_type": "code",
   "execution_count": 274,
   "metadata": {
    "collapsed": false
   },
   "outputs": [
    {
     "ename": "ValueError",
     "evalue": "operands could not be broadcast together with shapes (5,) (2,) ",
     "output_type": "error",
     "traceback": [
      "\u001b[1;31m---------------------------------------------------------------------------\u001b[0m",
      "\u001b[1;31mValueError\u001b[0m                                Traceback (most recent call last)",
      "\u001b[1;32m<ipython-input-274-1968f5a7b709>\u001b[0m in \u001b[0;36m<module>\u001b[1;34m()\u001b[0m\n\u001b[0;32m      7\u001b[0m \u001b[0ma\u001b[0m\u001b[1;33m,\u001b[0m \u001b[0mtr\u001b[0m\u001b[1;33m,\u001b[0m \u001b[0mv\u001b[0m\u001b[1;33m,\u001b[0m \u001b[0mssv\u001b[0m\u001b[1;33m,\u001b[0m \u001b[0mz\u001b[0m \u001b[1;33m=\u001b[0m \u001b[0mp\u001b[0m\u001b[1;33m[\u001b[0m\u001b[1;34m'a'\u001b[0m\u001b[1;33m]\u001b[0m\u001b[1;33m,\u001b[0m \u001b[0mp\u001b[0m\u001b[1;33m[\u001b[0m\u001b[1;34m'tr'\u001b[0m\u001b[1;33m]\u001b[0m\u001b[1;33m,\u001b[0m \u001b[0mp\u001b[0m\u001b[1;33m[\u001b[0m\u001b[1;34m'v'\u001b[0m\u001b[1;33m]\u001b[0m\u001b[1;33m,\u001b[0m \u001b[1;33m-\u001b[0m\u001b[0mabs\u001b[0m\u001b[1;33m(\u001b[0m\u001b[0mp\u001b[0m\u001b[1;33m[\u001b[0m\u001b[1;34m'ssv'\u001b[0m\u001b[1;33m]\u001b[0m\u001b[1;33m)\u001b[0m\u001b[1;33m,\u001b[0m  \u001b[0mp\u001b[0m\u001b[1;33m[\u001b[0m\u001b[1;34m'z'\u001b[0m\u001b[1;33m]\u001b[0m\u001b[1;33m\u001b[0m\u001b[0m\n\u001b[0;32m      8\u001b[0m \u001b[1;33m\u001b[0m\u001b[0m\n\u001b[1;32m----> 9\u001b[1;33m \u001b[0myhat\u001b[0m \u001b[1;33m=\u001b[0m \u001b[0mfit\u001b[0m\u001b[1;33m.\u001b[0m\u001b[0msimulate_full\u001b[0m\u001b[1;33m(\u001b[0m\u001b[0ma\u001b[0m\u001b[1;33m,\u001b[0m \u001b[0mtr\u001b[0m\u001b[1;33m,\u001b[0m \u001b[0mv\u001b[0m\u001b[1;33m,\u001b[0m \u001b[0mssv\u001b[0m\u001b[1;33m,\u001b[0m \u001b[0mz\u001b[0m\u001b[1;33m,\u001b[0m \u001b[0mwts\u001b[0m\u001b[1;33m=\u001b[0m\u001b[0mm\u001b[0m\u001b[1;33m.\u001b[0m\u001b[0mwts\u001b[0m\u001b[1;33m,\u001b[0m \u001b[0mncond\u001b[0m\u001b[1;33m=\u001b[0m\u001b[1;36m2\u001b[0m\u001b[1;33m)\u001b[0m\u001b[1;33m\u001b[0m\u001b[0m\n\u001b[0m",
      "\u001b[1;32m/home/kyle/Dropbox/Git/radd/fit.py\u001b[0m in \u001b[0;36msimulate_full\u001b[1;34m(a, tr, v, ssv, z, wts, ncond, prob, ssd, ntot, tb, dt, si, return_traces)\u001b[0m\n\u001b[0;32m    278\u001b[0m       \u001b[1;31m# a/tr/v Bias: ALL CONDITIONS, ALL SSD\u001b[0m\u001b[1;33m\u001b[0m\u001b[1;33m\u001b[0m\u001b[0m\n\u001b[0;32m    279\u001b[0m       \u001b[0mDVg\u001b[0m \u001b[1;33m=\u001b[0m \u001b[0mz\u001b[0m \u001b[1;33m+\u001b[0m \u001b[0mnp\u001b[0m\u001b[1;33m.\u001b[0m\u001b[0mcumsum\u001b[0m\u001b[1;33m(\u001b[0m\u001b[0mnp\u001b[0m\u001b[1;33m.\u001b[0m\u001b[0mwhere\u001b[0m\u001b[1;33m(\u001b[0m\u001b[1;33m(\u001b[0m\u001b[0mrs\u001b[0m\u001b[1;33m(\u001b[0m\u001b[1;33m(\u001b[0m\u001b[0mncond\u001b[0m\u001b[1;33m,\u001b[0m \u001b[0mntot\u001b[0m\u001b[1;33m,\u001b[0m \u001b[0mTg\u001b[0m\u001b[1;33m.\u001b[0m\u001b[0mmax\u001b[0m\u001b[1;33m(\u001b[0m\u001b[1;33m)\u001b[0m\u001b[1;33m)\u001b[0m\u001b[1;33m)\u001b[0m\u001b[1;33m.\u001b[0m\u001b[0mT\u001b[0m \u001b[1;33m<\u001b[0m \u001b[0mPg\u001b[0m\u001b[1;33m)\u001b[0m\u001b[1;33m,\u001b[0m \u001b[0mdx\u001b[0m\u001b[1;33m,\u001b[0m \u001b[1;33m-\u001b[0m\u001b[0mdx\u001b[0m\u001b[1;33m)\u001b[0m\u001b[1;33m.\u001b[0m\u001b[0mT\u001b[0m\u001b[1;33m,\u001b[0m \u001b[0maxis\u001b[0m\u001b[1;33m=\u001b[0m\u001b[1;36m2\u001b[0m\u001b[1;33m)\u001b[0m\u001b[1;33m\u001b[0m\u001b[0m\n\u001b[1;32m--> 280\u001b[1;33m       \u001b[0minit_ss\u001b[0m \u001b[1;33m=\u001b[0m \u001b[0mnp\u001b[0m\u001b[1;33m.\u001b[0m\u001b[0marray\u001b[0m\u001b[1;33m(\u001b[0m\u001b[1;33m[\u001b[0m\u001b[1;33m[\u001b[0m\u001b[0mDVc\u001b[0m\u001b[1;33m[\u001b[0m\u001b[1;33m:\u001b[0m\u001b[0mnss\u001b[0m\u001b[1;33m,\u001b[0m \u001b[0mix\u001b[0m\u001b[1;33m]\u001b[0m \u001b[1;32mfor\u001b[0m \u001b[0mix\u001b[0m \u001b[1;32min\u001b[0m \u001b[0mnp\u001b[0m\u001b[1;33m.\u001b[0m\u001b[0mwhere\u001b[0m\u001b[1;33m(\u001b[0m\u001b[0mTs\u001b[0m\u001b[1;33m<\u001b[0m\u001b[0mTg\u001b[0m\u001b[1;33m[\u001b[0m\u001b[0mi\u001b[0m\u001b[1;33m]\u001b[0m\u001b[1;33m,\u001b[0m \u001b[0mTg\u001b[0m\u001b[1;33m[\u001b[0m\u001b[0mi\u001b[0m\u001b[1;33m]\u001b[0m\u001b[1;33m-\u001b[0m\u001b[0mTs\u001b[0m\u001b[1;33m,\u001b[0m \u001b[1;36m0\u001b[0m\u001b[1;33m)\u001b[0m\u001b[1;33m]\u001b[0m \u001b[1;32mfor\u001b[0m \u001b[0mi\u001b[0m\u001b[1;33m,\u001b[0m \u001b[0mDVc\u001b[0m \u001b[1;32min\u001b[0m \u001b[0menumerate\u001b[0m\u001b[1;33m(\u001b[0m\u001b[0mDVg\u001b[0m\u001b[1;33m)\u001b[0m\u001b[1;33m]\u001b[0m\u001b[1;33m)\u001b[0m\u001b[1;33m\u001b[0m\u001b[0m\n\u001b[0m\u001b[0;32m    281\u001b[0m       \u001b[0mDVs\u001b[0m \u001b[1;33m=\u001b[0m \u001b[0minit_ss\u001b[0m\u001b[1;33m[\u001b[0m\u001b[1;33m:\u001b[0m\u001b[1;33m,\u001b[0m \u001b[1;33m:\u001b[0m\u001b[1;33m,\u001b[0m \u001b[1;33m:\u001b[0m\u001b[1;33m,\u001b[0m \u001b[0mNone\u001b[0m\u001b[1;33m]\u001b[0m \u001b[1;33m+\u001b[0m \u001b[0mnp\u001b[0m\u001b[1;33m.\u001b[0m\u001b[0mcumsum\u001b[0m\u001b[1;33m(\u001b[0m\u001b[0mnp\u001b[0m\u001b[1;33m.\u001b[0m\u001b[0mwhere\u001b[0m\u001b[1;33m(\u001b[0m\u001b[0mrs\u001b[0m\u001b[1;33m(\u001b[0m\u001b[1;33m(\u001b[0m\u001b[0mnss\u001b[0m\u001b[1;33m,\u001b[0m \u001b[0mTs\u001b[0m\u001b[1;33m.\u001b[0m\u001b[0mmax\u001b[0m\u001b[1;33m(\u001b[0m\u001b[1;33m)\u001b[0m\u001b[1;33m)\u001b[0m\u001b[1;33m)\u001b[0m\u001b[1;33m<\u001b[0m\u001b[0mPs\u001b[0m\u001b[1;33m,\u001b[0m \u001b[0mdx\u001b[0m\u001b[1;33m,\u001b[0m \u001b[1;33m-\u001b[0m\u001b[0mdx\u001b[0m\u001b[1;33m)\u001b[0m\u001b[1;33m,\u001b[0m \u001b[0maxis\u001b[0m\u001b[1;33m=\u001b[0m\u001b[1;36m1\u001b[0m\u001b[1;33m)\u001b[0m\u001b[1;33m\u001b[0m\u001b[0m\n\u001b[0;32m    282\u001b[0m \u001b[1;33m\u001b[0m\u001b[0m\n",
      "\u001b[1;31mValueError\u001b[0m: operands could not be broadcast together with shapes (5,) (2,) "
     ]
    }
   ],
   "source": [
    "if 'tr' not in bias:\n",
    "      p['tr'] = np.array([p['tr']]*ncond)\n",
    "\n",
    "p['v0'] = 1.1117057600158933\n",
    "p['v1'] = 1.0650061340336903\n",
    "p['v'] = np.array([p['v0'], p['v1']])\n",
    "a, tr, v, ssv, z = p['a'], p['tr'], p['v'], -abs(p['ssv']),  p['z']\n",
    "\n",
    "yhat = fit.simulate_full(a, tr, v, ssv, z, wts=m.wts, ncond=2)\n"
   ]
  },
  {
   "cell_type": "code",
   "execution_count": 502,
   "metadata": {
    "collapsed": false
   },
   "outputs": [
    {
     "ename": "AttributeError",
     "evalue": "'Model' object has no attribute 'y'",
     "output_type": "error",
     "traceback": [
      "\u001b[1;31m---------------------------------------------------------------------------\u001b[0m",
      "\u001b[1;31mAttributeError\u001b[0m                            Traceback (most recent call last)",
      "\u001b[1;32m<ipython-input-502-2180c9e62a4b>\u001b[0m in \u001b[0;36m<module>\u001b[1;34m()\u001b[0m\n\u001b[1;32m----> 1\u001b[1;33m \u001b[0my\u001b[0m \u001b[1;33m=\u001b[0m \u001b[0mm\u001b[0m\u001b[1;33m.\u001b[0m\u001b[0my\u001b[0m\u001b[1;33m\u001b[0m\u001b[0m\n\u001b[0m\u001b[0;32m      2\u001b[0m \u001b[1;33m\u001b[0m\u001b[0m\n\u001b[0;32m      3\u001b[0m \u001b[1;33m\u001b[0m\u001b[0m\n\u001b[0;32m      4\u001b[0m \u001b[0mwtc\u001b[0m\u001b[1;33m,\u001b[0m \u001b[0mwte\u001b[0m \u001b[1;33m=\u001b[0m \u001b[0mwts\u001b[0m\u001b[1;33m.\u001b[0m\u001b[0mT\u001b[0m\u001b[1;33m[\u001b[0m\u001b[1;33m:\u001b[0m\u001b[1;36m5\u001b[0m\u001b[1;33m]\u001b[0m\u001b[1;33m.\u001b[0m\u001b[0mT\u001b[0m\u001b[1;33m,\u001b[0m \u001b[0mwts\u001b[0m\u001b[1;33m.\u001b[0m\u001b[0mT\u001b[0m\u001b[1;33m[\u001b[0m\u001b[1;36m5\u001b[0m\u001b[1;33m:\u001b[0m\u001b[1;33m]\u001b[0m\u001b[1;33m.\u001b[0m\u001b[0mT\u001b[0m\u001b[1;33m\u001b[0m\u001b[0m\n\u001b[0;32m      5\u001b[0m \u001b[0mycost\u001b[0m \u001b[1;33m=\u001b[0m \u001b[0mnp\u001b[0m\u001b[1;33m.\u001b[0m\u001b[0mhstack\u001b[0m\u001b[1;33m(\u001b[0m\u001b[0mnp\u001b[0m\u001b[1;33m.\u001b[0m\u001b[0mhstack\u001b[0m\u001b[1;33m(\u001b[0m\u001b[1;33m[\u001b[0m\u001b[0my\u001b[0m\u001b[1;33m[\u001b[0m\u001b[1;33m:\u001b[0m\u001b[1;33m,\u001b[0m \u001b[1;33m:\u001b[0m\u001b[1;36m6\u001b[0m\u001b[1;33m]\u001b[0m\u001b[1;33m,\u001b[0m \u001b[0mwtc\u001b[0m\u001b[1;33m*\u001b[0m\u001b[0my\u001b[0m\u001b[1;33m[\u001b[0m\u001b[1;33m:\u001b[0m\u001b[1;33m,\u001b[0m \u001b[1;36m6\u001b[0m\u001b[1;33m:\u001b[0m\u001b[1;36m11\u001b[0m\u001b[1;33m]\u001b[0m\u001b[1;33m,\u001b[0m \u001b[0mwte\u001b[0m\u001b[1;33m*\u001b[0m\u001b[0my\u001b[0m\u001b[1;33m[\u001b[0m\u001b[1;33m:\u001b[0m\u001b[1;33m,\u001b[0m \u001b[1;36m11\u001b[0m\u001b[1;33m:\u001b[0m\u001b[1;33m]\u001b[0m\u001b[1;33m]\u001b[0m\u001b[1;33m)\u001b[0m\u001b[1;33m)\u001b[0m\u001b[1;33m.\u001b[0m\u001b[0mastype\u001b[0m\u001b[1;33m(\u001b[0m\u001b[0mnp\u001b[0m\u001b[1;33m.\u001b[0m\u001b[0mfloat32\u001b[0m\u001b[1;33m)\u001b[0m\u001b[1;33m\u001b[0m\u001b[0m\n",
      "\u001b[1;31mAttributeError\u001b[0m: 'Model' object has no attribute 'y'"
     ]
    }
   ],
   "source": [
    "y = m.y\n",
    "\n",
    "\n",
    "wtc, wte = wts.T[:5].T, wts.T[5:].T\n",
    "ycost = np.hstack(np.hstack([y[:, :6], wtc*y[:, 6:11], wte*y[:, 11:]])).astype(np.float32)\n",
    "yhcost = np.hstack(np.hstack([yhat[:, :6], wtc*yhat[:, 6:11], wte*yhat[:, 11:]])).astype(np.float32)"
   ]
  },
  {
   "cell_type": "code",
   "execution_count": 264,
   "metadata": {
    "collapsed": false
   },
   "outputs": [
    {
     "data": {
      "text/plain": [
       "array([ 0.01998651,  0.00453758,  0.00721306,  0.05967849, -0.00011796,\n",
       "        0.0163213 , -0.00190783, -0.03078604, -0.01022577,  0.01912594,\n",
       "        0.03808069, -0.00685132, -0.02563882, -0.0179702 , -0.00189433,\n",
       "       -0.01790655, -0.00084579,  0.00455737,  0.00875401,  0.03458989,\n",
       "       -0.02466238, -0.00994754,  0.00750828, -0.01834583, -0.01546001,\n",
       "        0.00056553,  0.02985096, -0.0053134 , -0.01260924, -0.00117853,\n",
       "       -0.02020144, -0.02402198], dtype=float32)"
      ]
     },
     "execution_count": 264,
     "metadata": {},
     "output_type": "execute_result"
    }
   ],
   "source": [
    "ycost - yhcost"
   ]
  },
  {
   "cell_type": "code",
   "execution_count": 545,
   "metadata": {
    "collapsed": false
   },
   "outputs": [
    {
     "data": {
      "text/plain": [
       "array([ 0.953     ,  0.998     ,  0.984     ,  0.95      ,  0.532     ,\n",
       "        0.121     ,  5.12370698,  5.38370698,  5.57370698,  5.82370698,\n",
       "        6.15370698,  4.88790698,  5.08830698,  5.20870698,  5.40370698,\n",
       "        5.70370698,  0.925     ,  0.997     ,  0.987     ,  0.957     ,\n",
       "        0.566     ,  0.147     ,  5.16370698,  5.49330698,  5.69370698,\n",
       "        5.91370698,  6.22450698,  4.94370698,  5.11490698,  5.25370698,\n",
       "        5.43310698,  5.69650698])"
      ]
     },
     "execution_count": 545,
     "metadata": {},
     "output_type": "execute_result"
    }
   ],
   "source": [
    "yhat"
   ]
  },
  {
   "cell_type": "code",
   "execution_count": 499,
   "metadata": {
    "collapsed": true
   },
   "outputs": [],
   "source": [
    "from copy import deepcopy\n",
    "ic = deepcopy(inits)\n",
    "ic['tr']=np.array([inits['tr']]*2)"
   ]
  },
  {
   "cell_type": "code",
   "execution_count": 501,
   "metadata": {
    "collapsed": false
   },
   "outputs": [
    {
     "data": {
      "text/plain": [
       "{'a': 0.44409409206000017,\n",
       " 'ssv': -0.94733930097466645,\n",
       " 'tr': 0.30487069814466666,\n",
       " 'v': array([ 1.111,  1.065]),\n",
       " 'v0': 1.1117057600158933,\n",
       " 'v1': 1.0650061340336903,\n",
       " 'z': 0.15424655482600008}"
      ]
     },
     "execution_count": 501,
     "metadata": {},
     "output_type": "execute_result"
    }
   ],
   "source": [
    "inits"
   ]
  },
  {
   "cell_type": "code",
   "execution_count": 541,
   "metadata": {
    "collapsed": false
   },
   "outputs": [
    {
     "data": {
      "text/plain": [
       "array([ 0.953     ,  0.998     ,  0.984     ,  0.95      ,  0.532     ,\n",
       "        0.121     ,  5.12370698,  5.38370698,  5.57370698,  5.82370698,\n",
       "        6.15370698,  4.88790698,  5.08830698,  5.20870698,  5.40370698,\n",
       "        5.70370698,  0.925     ,  0.997     ,  0.987     ,  0.957     ,\n",
       "        0.566     ,  0.147     ,  5.16370698,  5.49330698,  5.69370698,\n",
       "        5.91370698,  6.22450698,  4.94370698,  5.11490698,  5.25370698,\n",
       "        5.43310698,  5.69650698])"
      ]
     },
     "execution_count": 541,
     "metadata": {},
     "output_type": "execute_result"
    }
   ],
   "source": [
    "yhat.reshape(2,16)"
   ]
  },
  {
   "cell_type": "code",
   "execution_count": 557,
   "metadata": {
    "collapsed": false
   },
   "outputs": [
    {
     "data": {
      "image/png": "[encoded data removed]",
      "text/plain": [
       "<matplotlib.figure.Figure at 0x7f27ec2e6250>"
      ]
     },
     "metadata": {},
     "output_type": "display_data"
    }
   ],
   "source": [
    "yhat = y+cost\n",
    "vis.plot_fits(y[0], yhat[0], bw=.2, plot_acc=True, save=False, savestr='Re_Vbsl_qp')"
   ]
  },
  {
   "cell_type": "code",
   "execution_count": 560,
   "metadata": {
    "collapsed": false
   },
   "outputs": [
    {
     "data": {
      "image/png": "[encoded data removed]",
      "text/plain": [
       "<matplotlib.figure.Figure at 0x7f27ec301f90>"
      ]
     },
     "metadata": {},
     "output_type": "display_data"
    }
   ],
   "source": [
    "yhat = y+cost\n",
    "vis.plot_fits(y[0], y[1], bw=.2, plot_acc=True, save=False, savestr='Re_Data_qp')"
   ]
  },
  {
   "cell_type": "code",
   "execution_count": 559,
   "metadata": {
    "collapsed": false
   },
   "outputs": [
    {
     "data": {
      "image/png": "[encoded data removed]",
      "text/plain": [
       "<matplotlib.figure.Figure at 0x7f27c67e7990>"
      ]
     },
     "metadata": {},
     "output_type": "display_data"
    }
   ],
   "source": [
    "vis.plot_fits(y[1], yhat[1], bw=.2, plot_acc=True, save=True, savestr='Re_Vpnl_qp')"
   ]
  },
  {
   "cell_type": "code",
   "execution_count": null,
   "metadata": {
    "collapsed": true
   },
   "outputs": [],
   "source": []
  }
 ],
 "metadata": {
  "kernelspec": {
   "display_name": "Python 2",
   "language": "python",
   "name": "python2"
  },
  "language_info": {
   "codemirror_mode": {
    "name": "ipython",
    "version": 2
   },
   "file_extension": ".py",
   "mimetype": "text/x-python",
   "name": "python",
   "nbconvert_exporter": "python",
   "pygments_lexer": "ipython2",
   "version": "2.7.10"
  }
 },
 "nbformat": 4,
 "nbformat_minor": 0
}
