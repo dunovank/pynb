{
 "cells": [
  {
   "cell_type": "code",
   "execution_count": 5,
   "metadata": {
    "collapsed": true
   },
   "outputs": [],
   "source": [
    "from radd import CORE, models, fit, vis, build"
   ]
  },
  {
   "cell_type": "code",
   "execution_count": 4,
   "metadata": {
    "collapsed": false
   },
   "outputs": [
    {
     "name": "stdout",
     "output_type": "stream",
     "text": [
      "/home/kyle/Dropbox/pro_idx_tr_fits\n"
     ]
    }
   ],
   "source": [
    "%mkdir /home/kyle/Dropbox/pro_idx_tr_fits\n",
    "%cd ~/Dropbox/pro_idx_tr_fits"
   ]
  },
  {
   "cell_type": "code",
   "execution_count": 6,
   "metadata": {
    "collapsed": false
   },
   "outputs": [
    {
     "name": "stdout",
     "output_type": "stream",
     "text": [
      "\n",
      "      Model is prepared to fit xpro model (w/ exp dynamic bias) to subjects data,\n",
      "      allowing Onset Time to vary across levels of pGo (0, 20, 40, 60, 80, 100)\n",
      "\n",
      "      See, it's not that simplex... \n",
      "\n"
     ]
    }
   ],
   "source": [
    "data = prodf_store.prodata\n",
    "m=build.Model(data=data, kind='xpro', fit_on='subjects', dynamic='exp', depends_on={'tr':'pGo'})"
   ]
  },
  {
   "cell_type": "code",
   "execution_count": null,
   "metadata": {
    "collapsed": true
   },
   "outputs": [],
   "source": []
  }
 ],
 "metadata": {
  "kernelspec": {
   "display_name": "Python 2",
   "language": "python",
   "name": "python2"
  },
  "language_info": {
   "codemirror_mode": {
    "name": "ipython",
    "version": 2
   },
   "file_extension": ".py",
   "mimetype": "text/x-python",
   "name": "python",
   "nbconvert_exporter": "python",
   "pygments_lexer": "ipython2",
   "version": "2.7.10"
  }
 },
 "nbformat": 4,
 "nbformat_minor": 0
}
