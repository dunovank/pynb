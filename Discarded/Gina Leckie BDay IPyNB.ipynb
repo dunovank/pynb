{
 "metadata": {
  "name": "",
  "signature": "sha256:4755c0a78b5ace86fc7848798f5cf26adb9cc67d370432032656d5b37fb928e4"
 },
 "nbformat": 3,
 "nbformat_minor": 0,
 "worksheets": [
  {
   "cells": [
    {
     "cell_type": "markdown",
     "metadata": {},
     "source": [
      "![Happy bday G](https://www.evernote.com/shard/s430/nl/75967440/dcb3ff86-516a-4c62-acc3-da02f85733fa//res/11a5f529-3b38-4021-a260-ab2ca55cf0fb/10580817_10153055762604418_4980406920967117915_o.jpg?resizeSmall&width=832)"
     ]
    },
    {
     "cell_type": "heading",
     "level": 1,
     "metadata": {},
     "source": [
      "dis is gina"
     ]
    },
    {
     "cell_type": "markdown",
     "metadata": {},
     "source": [
      "![Gina Leckie](http://themodernmage.com/wp-content/uploads/2013/07/Wolverine-Angry-HD-660x350.jpg)\n"
     ]
    },
    {
     "cell_type": "heading",
     "level": 1,
     "metadata": {},
     "source": [
      "gina r good @ science"
     ]
    },
    {
     "cell_type": "markdown",
     "metadata": {},
     "source": [
      "![GinaGoodScience](https://www.evernote.com/shard/s430/nl/75967440/ccb95fef-5879-4231-abba-0fd020f97dc3//res/4ded1ed2-09ae-4c1d-9b94-1bb5b1148229/10565156_10152263166023450_7110486675660344937_n.jpg?resizeSmall&width=832)"
     ]
    },
    {
     "cell_type": "heading",
     "level": 1,
     "metadata": {},
     "source": [
      "and gina r good @ sass"
     ]
    },
    {
     "cell_type": "markdown",
     "metadata": {},
     "source": [
      "![sassaface](https://www.evernote.com/shard/s430/nl/75967440/70031148-e925-4ca3-a20e-f20910d4d09c//res/92c1dd39-d9b0-4926-9c71-9489f703a102/1551760_10101326517120857_6015947336164121698_n.jpg?resizeSmall&width=832)"
     ]
    },
    {
     "cell_type": "heading",
     "level": 1,
     "metadata": {},
     "source": [
      "and drinking"
     ]
    },
    {
     "cell_type": "markdown",
     "metadata": {},
     "source": [
      "![drunky](https://fbcdn-sphotos-f-a.akamaihd.net/hphotos-ak-xaf1/v/t1.0-9/1071_684827388546_1768917762_n.jpg?oh=15dfd535c5c66d5380bd633ef8348445&oe=54824406&__gda__=1417466415_d606aaad7ee8858d36c729b0a057fde7)"
     ]
    },
    {
     "cell_type": "heading",
     "level": 1,
     "metadata": {},
     "source": [
      "but gina r mostly bad at camping"
     ]
    },
    {
     "cell_type": "markdown",
     "metadata": {},
     "source": [
      "![bad gina camper](https://www.evernote.com/shard/s430/nl/75967440/6ef5cea6-96c3-4503-bfd1-f46c7293d7f8//res/29f4a782-5171-4bd9-946a-a767a54e8e37/1560513_696997724146_7276223843976320_n.jpg?resizeSmall&width=832)\n"
     ]
    },
    {
     "cell_type": "heading",
     "level": 1,
     "metadata": {},
     "source": [
      "But at least she is photogenic\n"
     ]
    },
    {
     "cell_type": "markdown",
     "metadata": {},
     "source": [
      "![how to take a picture](https://www.evernote.com/shard/s430/nl/75967440/252659ff-50fa-4cb6-8d97-c493121e8cfe//res/b96889d8-619e-40f3-911c-6e8765fa285d/10524260_10153066255219418_9043600954367740121_o.jpg?resizeSmall&width=832)"
     ]
    },
    {
     "cell_type": "heading",
     "level": 1,
     "metadata": {},
     "source": [
      "So we love her anyway"
     ]
    },
    {
     "cell_type": "markdown",
     "metadata": {},
     "source": [
      "![best buds](https://fbcdn-sphotos-b-a.akamaihd.net/hphotos-ak-xap1/v/t1.0-9/p180x540/10509697_696997933726_6105462467224305416_n.jpg?oh=7d9a7703abf1b67ddbc9f9a4c75a7c68&oe=54705A3C&__gda__=1417793990_54107863852d54511314239c776df24d)"
     ]
    },
    {
     "cell_type": "code",
     "collapsed": false,
     "input": [],
     "language": "python",
     "metadata": {},
     "outputs": []
    }
   ],
   "metadata": {}
  }
 ]
}