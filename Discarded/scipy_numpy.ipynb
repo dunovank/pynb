{
 "metadata": {
  "name": "",
  "signature": "sha256:3f7aa94509486bdbde1feeeeee7e14de76e8dc3a67340934578e03d65bd15a4c"
 },
 "nbformat": 3,
 "nbformat_minor": 0,
 "worksheets": []
}