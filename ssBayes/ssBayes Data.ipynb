{
 "cells": [
  {
   "cell_type": "code",
   "execution_count": 1,
   "metadata": {
    "collapsed": false
   },
   "outputs": [],
   "source": [
    "from __future__ import division\n",
    "import pandas as pd\n",
    "import os\n",
    "\n",
    "from radd.bk import react, fitfx, utils"
   ]
  },
  {
   "cell_type": "markdown",
   "metadata": {},
   "source": [
    "# Load Reformatted ssBayes Data"
   ]
  },
  {
   "cell_type": "code",
   "execution_count": 3,
   "metadata": {
    "collapsed": false
   },
   "outputs": [],
   "source": [
    "os.chdir(\"/Users/kyle/Dropbox/CoAx/SSBayes/raw_beh\")\n",
    "\n",
    "#load early gaussian group data \n",
    "ssb_e=pd.read_csv(\"ssb_early.csv\")\n",
    "\n",
    "#load late gaussian group data \n",
    "ssb_l=pd.read_csv(\"ssb_late.csv\")\n",
    "\n",
    "#load uniform group data \n",
    "ssb_u=pd.read_csv(\"ssb_uniform.csv\")\n",
    "\n",
    "inits={'a': 0.4315506305896373,\n",
    " 'ssv': 0.9698666206553722,\n",
    " 't': 0.30656375144494813,\n",
    " 'v': .9,\n",
    " 'z': 0.16611261860323445}"
   ]
  },
  {
   "cell_type": "code",
   "execution_count": 14,
   "metadata": {
    "collapsed": false
   },
   "outputs": [],
   "source": [
    "#load early gaussian group data \n",
    "ssb_e=pd.read_csv(\"ssb_early.csv\")\n",
    "df=ssb_e.copy()\n",
    "\n",
    "idx_list=df.idx.unique()\n",
    "\n",
    "\n",
    "dfsx1=df[df['idx'].isin(idx_list[:5])]\n",
    "dfsx2=df[df['idx'].isin(idx_list[5:10])]\n",
    "dfsx3=df[df['idx'].isin(idx_list[10:15])]\n",
    "dfsx4=df[df['idx'].isin(idx_list[15:20])]\n",
    "dfsx5=df[df['idx'].isin(idx_list[20:])]                "
   ]
  },
  {
   "cell_type": "code",
   "execution_count": 99,
   "metadata": {
    "collapsed": false
   },
   "outputs": [
    {
     "data": {
      "text/html": [
       "\n",
       "\t    <div style=\"border: 1px solid black; width:500px\">\n",
       "\t    <div id=\"8e6533b3-f434-4cbd-8b02-4a7eab1406fb\" style=\"background-color:#009B76; width:0%\">&nbsp;</div>\n",
       "\t    </div> \n",
       "\t    "
      ],
      "text/plain": [
       "<IPython.core.display.HTML at 0x116173850>"
      ]
     },
     "metadata": {},
     "output_type": "display_data"
    },
    {
     "name": "stdout",
     "output_type": "stream",
     "text": [
      "Warning: Maximum number of function evaluations has been exceeded.\n"
     ]
    },
    {
     "data": {
      "application/javascript": [
       "$('div#8e6533b3-f434-4cbd-8b02-4a7eab1406fb').width('100.00%')"
      ],
      "text/plain": [
       "<IPython.core.display.Javascript at 0x115f40950>"
      ]
     },
     "metadata": {},
     "output_type": "display_data"
    }
   ],
   "source": [
    "react=reload(react)\n",
    "\n",
    "flatdf=ssb_e.copy()\n",
    "flatdf['idx']=np.ones_like(flatdf['idx'])*1000\n",
    "\n",
    "pred = react.fit_reactive_sx(flatdf, inits, ntrials=100, all_params=1)"
   ]
  },
  {
   "cell_type": "markdown",
   "metadata": {},
   "source": [
    "# Reformat ssBayes Data for RaDD"
   ]
  },
  {
   "cell_type": "code",
   "execution_count": 34,
   "metadata": {
    "collapsed": false
   },
   "outputs": [],
   "source": [
    "#All datasets were formatted as follows:\n",
    "os.chdir(\"/Users/kyle/Dropbox/CoAx/SSBayes/raw_beh\")\n",
    "\n",
    "#read in original\n",
    "early=pd.read_csv(\"SSBayes_EarlyGaussianGroup.dat\", delim_whitespace=True)\n",
    "late=pd.read_csv(\"SSBayes_LateGaussianGroup.dat\", delim_whitespace=True)\n",
    "uniform=pd.read_csv(\"SSBayes_UniformGroup.dat\", delim_whitespace=True)\n",
    "\n",
    "group_dfs={\"early\":early, \"late\":late, \"uniform\":uniform}"
   ]
  },
  {
   "cell_type": "code",
   "execution_count": 49,
   "metadata": {
    "collapsed": false
   },
   "outputs": [],
   "source": [
    "for group in group_dfs.keys():\n",
    "    \n",
    "    orig=group_dfs[group]\n",
    "\n",
    "    df=orig.rename(columns={'RT':'rt_msec', 'RT_sec':'rt', 'Keypress':'response'}, axis=1)\n",
    "    # delete all stop-signal trials that were drawn from the context pdf\n",
    "    # (Leaves only the probe stop trials and go trials (no stop signal appeared))\n",
    "    df=df[df['StopSignal'].isin([0.0, 0.4, 0.5, 0.6, 0.7, 0.8])]\n",
    "\n",
    "    df.rename(columns={'SubjID':'idx','StopTrial':'trial_type', \n",
    "                       'StopSignal':'ssd_perc', 'rt_msec':'rt'}, inplace=True)\n",
    "    df['ssd']=df['ssd_perc']*.500\n",
    "    \n",
    "    dfgo=df[df.loc[:,'response']==0]\n",
    "    dfstop=df[df.loc[:,'response']==1]\n",
    "    dfgo.loc[:,'response']=np.ones(len(dfgo))\n",
    "    dfstop.loc[:,'response']=np.zeros(len(dfstop))\n",
    "    \n",
    "    df.replace({'trial_type':{0:'go', 1:'stop'}}, inplace=True)\n",
    "    \n",
    "    df['choice']=df['response'].copy()\n",
    "    df.ix[(df['response']==0), 'choice']='go'\n",
    "    df.ix[(df['response']==1), 'choice']='stop'\n",
    "    df.replace({'response':{0:5, 1:6}}, inplace=True)\n",
    "    df.replace({'response':{5:1, 6:0}}, inplace=True)\n",
    "    #edf['choice']=edf['response'].copy()\n",
    "    df['acc']=np.zeros(len(df))\n",
    "\n",
    "    df.ix[(df['choice']=='stop')&(df['trial_type']=='stop'), 'acc']=1\n",
    "    df.ix[(df['choice']=='go')&(df['trial_type']=='go'), 'acc']=1\n",
    "    #df.to_csv(\"ssb_\"+group+\".csv\",index=False)"
   ]
  }
 ],
 "metadata": {
  "anaconda-cloud": {},
  "kernelspec": {
   "display_name": "Python [Root]",
   "language": "python",
   "name": "Python [Root]"
  },
  "language_info": {
   "codemirror_mode": {
    "name": "ipython",
    "version": 2
   },
   "file_extension": ".py",
   "mimetype": "text/x-python",
   "name": "python",
   "nbconvert_exporter": "python",
   "pygments_lexer": "ipython2",
   "version": "2.7.12"
  }
 },
 "nbformat": 4,
 "nbformat_minor": 0
}
