{
 "cells": [
  {
   "cell_type": "code",
   "execution_count": 330,
   "metadata": {
    "collapsed": false
   },
   "outputs": [],
   "source": [
    "from radd import build, models, fit, vis\n",
    "from radd.toolbox import theta"
   ]
  },
  {
   "cell_type": "code",
   "execution_count": 329,
   "metadata": {
    "collapsed": false
   },
   "outputs": [],
   "source": [
    "#!/usr/local/bin/env python\n",
    "from __future__ import division\n",
    "from radd import models\n",
    "from radd.toolbox import theta\n",
    "from radd.toolbox.messages import logger, global_logger\n",
    "from lmfit import Parameters, minimize\n",
    "from radd.CORE import RADDCore\n",
    "from scipy.optimize import basinhopping, differential_evolution, brute"
   ]
  },
  {
   "cell_type": "code",
   "execution_count": 6,
   "metadata": {
    "collapsed": false
   },
   "outputs": [
    {
     "name": "stdout",
     "output_type": "stream",
     "text": [
      "/home/kyle/Dropbox/Git/pynb/ELIFE_FINAL\n",
      "/home/kyle/Dropbox/xpro_test\n"
     ]
    }
   ],
   "source": [
    "%cd /home/kyle/Dropbox/\n",
    "%mkdir xpro_test\n",
    "%cd xpro_test\n"
   ]
  },
  {
   "cell_type": "code",
   "execution_count": 331,
   "metadata": {
    "collapsed": true
   },
   "outputs": [],
   "source": [
    "build=reload(build)"
   ]
  },
  {
   "cell_type": "code",
   "execution_count": 358,
   "metadata": {
    "collapsed": false
   },
   "outputs": [],
   "source": [
    "po = m.__get_optimized_params__()"
   ]
  },
  {
   "cell_type": "code",
   "execution_count": 356,
   "metadata": {
    "collapsed": false
   },
   "outputs": [
    {
     "data": {
      "text/plain": [
       "{'a': 0.48758096, 'tr': 0.29223792, 'v': 1.69870371, 'xb': 1.5}"
      ]
     },
     "execution_count": 356,
     "metadata": {},
     "output_type": "execute_result"
    }
   ],
   "source": [
    "m.inits"
   ]
  },
  {
   "cell_type": "code",
   "execution_count": 375,
   "metadata": {
    "collapsed": true
   },
   "outputs": [],
   "source": [
    "x = np.mean(po['v'])\n",
    "xx = x*np.ones(m.ncond)"
   ]
  },
  {
   "cell_type": "code",
   "execution_count": 376,
   "metadata": {
    "collapsed": false
   },
   "outputs": [
    {
     "data": {
      "text/plain": [
       "1.6921012283333334"
      ]
     },
     "execution_count": 376,
     "metadata": {},
     "output_type": "execute_result"
    }
   ],
   "source": [
    "x"
   ]
  },
  {
   "cell_type": "code",
   "execution_count": 378,
   "metadata": {
    "collapsed": false
   },
   "outputs": [
    {
     "data": {
      "text/plain": [
       "array([ 1.18447,  1.38752,  1.59058,  1.79363,  1.99668,  2.19973])"
      ]
     },
     "execution_count": 378,
     "metadata": {},
     "output_type": "execute_result"
    }
   ],
   "source": [
    "x+ x*np.linspace(-.3,.3,m.ncond)"
   ]
  },
  {
   "cell_type": "code",
   "execution_count": 369,
   "metadata": {
    "collapsed": false
   },
   "outputs": [
    {
     "data": {
      "text/plain": [
       "array([-0.50763, -0.50763, -0.50763, -0.50763, -0.50763, -0.50763])"
      ]
     },
     "execution_count": 369,
     "metadata": {},
     "output_type": "execute_result"
    }
   ],
   "source": [
    "xx*np.arange(-.3,.3,m.ncond)"
   ]
  },
  {
   "cell_type": "code",
   "execution_count": 362,
   "metadata": {
    "collapsed": false
   },
   "outputs": [
    {
     "data": {
      "text/plain": [
       "{'a': array([ 0.48758,  0.48758,  0.48758,  0.48758,  0.48758,  0.48758]),\n",
       " 'tr': array([ 0.29224,  0.29224,  0.29224,  0.29224,  0.29224,  0.29224]),\n",
       " 'v': array([ 1.66778,  1.62578,  1.79208,  1.82898,  1.87333,  1.88919]),\n",
       " 'xb': array([ 1.5,  1.5,  1.5,  1.5,  1.5,  1.5])}"
      ]
     },
     "execution_count": 362,
     "metadata": {},
     "output_type": "execute_result"
    }
   ],
   "source": [
    "p"
   ]
  },
  {
   "cell_type": "code",
   "execution_count": 361,
   "metadata": {
    "collapsed": false
   },
   "outputs": [
    {
     "data": {
      "text/plain": [
       "array([ 0.68607,  0.7623 ,  0.40636,  0.32173,  0.21729,  0.17827,\n",
       "        0.51224,  0.52324,  0.53024,  0.53824,  0.54524,  0.51724,\n",
       "        0.52824,  0.53624,  0.54124,  0.54724])"
      ]
     },
     "execution_count": 361,
     "metadata": {},
     "output_type": "execute_result"
    }
   ],
   "source": [
    "m.opt.simulator.sim_fx(p)"
   ]
  },
  {
   "cell_type": "code",
   "execution_count": 360,
   "metadata": {
    "collapsed": false
   },
   "outputs": [
    {
     "data": {
      "text/plain": [
       "array([ 0.94754,  0.79627,  0.55578,  0.34832,  0.12668,  0.09254,\n",
       "        0.52486,  0.53896,  0.54297,  0.54493,  0.54529,  0.54026,\n",
       "        0.54454,  0.5447 ,  0.54518,  0.54532])"
      ]
     },
     "execution_count": 360,
     "metadata": {},
     "output_type": "execute_result"
    }
   ],
   "source": [
    "m.avg_y"
   ]
  },
  {
   "cell_type": "code",
   "execution_count": 359,
   "metadata": {
    "collapsed": false
   },
   "outputs": [
    {
     "data": {
      "text/plain": [
       "array([ 0.95378,  0.82533,  0.57803,  0.35054,  0.12125,  0.09484,\n",
       "        0.50524,  0.51724,  0.52624,  0.53424,  0.54324,  0.52324,\n",
       "        0.53224,  0.53924,  0.54424,  0.54624])"
      ]
     },
     "execution_count": 359,
     "metadata": {},
     "output_type": "execute_result"
    }
   ],
   "source": [
    "\n",
    "m.opt.simulator.sim_fx(po)"
   ]
  },
  {
   "cell_type": "code",
   "execution_count": 352,
   "metadata": {
    "collapsed": false,
    "scrolled": false
   },
   "outputs": [
    {
     "name": "stdout",
     "output_type": "stream",
     "text": [
      "basinhopping step 0: f 1.43671\n",
      "warning: basinhopping: local minimization failure\n",
      "basinhopping step 1: f 1.43671 trial_f 1.66183 accepted 0  lowest_f 1.43671\n",
      "basinhopping step 2: f 1.32835 trial_f 1.32835 accepted 1  lowest_f 1.32835\n",
      "found new global minimum on step 2 with function value 1.32835\n",
      "basinhopping step 3: f 1.51511 trial_f 1.51511 accepted 1  lowest_f 1.32835\n",
      "basinhopping step 4: f 1.21783 trial_f 1.21783 accepted 1  lowest_f 1.21783\n",
      "found new global minimum on step 4 with function value 1.21783\n",
      "basinhopping step 5: f 1.25976 trial_f 1.25976 accepted 1  lowest_f 1.21783\n",
      "basinhopping step 6: f 1.09284 trial_f 1.09284 accepted 1  lowest_f 1.09284\n",
      "found new global minimum on step 6 with function value 1.09284\n",
      "warning: basinhopping: local minimization failure\n",
      "basinhopping step 7: f 1.00372 trial_f 1.00372 accepted 1  lowest_f 1.00372\n",
      "found new global minimum on step 7 with function value 1.00372\n",
      "basinhopping step 8: f 1.07998 trial_f 1.07998 accepted 1  lowest_f 1.00372\n",
      "basinhopping step 9: f 0.726265 trial_f 0.726265 accepted 1  lowest_f 0.726265\n",
      "found new global minimum on step 9 with function value 0.726265\n",
      "basinhopping step 10: f 0.545312 trial_f 0.545312 accepted 1  lowest_f 0.545312\n",
      "found new global minimum on step 10 with function value 0.545312\n",
      "basinhopping step 11: f 0.435625 trial_f 0.435625 accepted 1  lowest_f 0.435625\n",
      "found new global minimum on step 11 with function value 0.435625\n",
      "basinhopping step 12: f 0.586403 trial_f 0.586403 accepted 1  lowest_f 0.435625\n",
      "basinhopping step 13: f 0.412787 trial_f 0.412787 accepted 1  lowest_f 0.412787\n",
      "found new global minimum on step 13 with function value 0.412787\n",
      "basinhopping step 14: f 0.412787 trial_f 0.523191 accepted 0  lowest_f 0.412787\n",
      "basinhopping step 15: f 0.306668 trial_f 0.306668 accepted 1  lowest_f 0.306668\n",
      "found new global minimum on step 15 with function value 0.306668\n",
      "basinhopping step 16: f 0.323638 trial_f 0.323638 accepted 1  lowest_f 0.306668\n",
      "warning: basinhopping: local minimization failure\n",
      "basinhopping step 17: f 0.217719 trial_f 0.217719 accepted 1  lowest_f 0.217719\n",
      "found new global minimum on step 17 with function value 0.217719\n",
      "basinhopping step 18: f 0.258177 trial_f 0.258177 accepted 1  lowest_f 0.217719\n",
      "basinhopping step 19: f 0.219584 trial_f 0.219584 accepted 1  lowest_f 0.217719\n",
      "basinhopping step 20: f 0.297504 trial_f 0.297504 accepted 1  lowest_f 0.217719\n",
      "basinhopping step 21: f 0.406047 trial_f 0.406047 accepted 1  lowest_f 0.217719\n",
      "warning: basinhopping: local minimization failure\n",
      "basinhopping step 22: f 0.321406 trial_f 0.321406 accepted 1  lowest_f 0.217719\n",
      "basinhopping step 23: f 0.34652 trial_f 0.34652 accepted 1  lowest_f 0.217719\n",
      "basinhopping step 24: f 0.346128 trial_f 0.346128 accepted 1  lowest_f 0.217719\n",
      "basinhopping step 25: f 0.317781 trial_f 0.317781 accepted 1  lowest_f 0.217719\n",
      "warning: basinhopping: local minimization failure\n",
      "basinhopping step 26: f 0.303144 trial_f 0.303144 accepted 1  lowest_f 0.217719\n",
      "warning: basinhopping: local minimization failure\n",
      "basinhopping step 27: f 0.422385 trial_f 0.422385 accepted 1  lowest_f 0.217719\n",
      "warning: basinhopping: local minimization failure\n",
      "basinhopping step 28: f 0.419642 trial_f 0.419642 accepted 1  lowest_f 0.217719\n",
      "warning: basinhopping: local minimization failure\n",
      "basinhopping step 29: f 0.558924 trial_f 0.558924 accepted 1  lowest_f 0.217719\n",
      "warning: basinhopping: local minimization failure\n",
      "basinhopping step 30: f 0.505334 trial_f 0.505334 accepted 1  lowest_f 0.217719\n",
      "warning: basinhopping: local minimization failure\n",
      "basinhopping step 31: f 0.529649 trial_f 0.529649 accepted 1  lowest_f 0.217719\n",
      "basinhopping step 32: f 0.545307 trial_f 0.545307 accepted 1  lowest_f 0.217719\n",
      "basinhopping step 33: f 0.48489 trial_f 0.48489 accepted 1  lowest_f 0.217719\n",
      "warning: basinhopping: local minimization failure\n",
      "basinhopping step 34: f 0.312621 trial_f 0.312621 accepted 1  lowest_f 0.217719\n",
      "warning: basinhopping: local minimization failure\n",
      "basinhopping step 35: f 0.245958 trial_f 0.245958 accepted 1  lowest_f 0.217719\n",
      "basinhopping step 36: f 0.289782 trial_f 0.289782 accepted 1  lowest_f 0.217719\n",
      "basinhopping step 37: f 0.175081 trial_f 0.175081 accepted 1  lowest_f 0.175081\n",
      "found new global minimum on step 37 with function value 0.175081\n",
      "basinhopping step 38: f 0.201994 trial_f 0.201994 accepted 1  lowest_f 0.175081\n",
      "warning: basinhopping: local minimization failure\n",
      "basinhopping step 39: f 0.246679 trial_f 0.246679 accepted 1  lowest_f 0.175081\n",
      "basinhopping step 40: f 0.24028 trial_f 0.24028 accepted 1  lowest_f 0.175081\n",
      "basinhopping step 41: f 0.188676 trial_f 0.188676 accepted 1  lowest_f 0.175081\n",
      "warning: basinhopping: local minimization failure\n",
      "basinhopping step 42: f 0.31232 trial_f 0.31232 accepted 1  lowest_f 0.175081\n",
      "basinhopping step 43: f 0.521681 trial_f 0.521681 accepted 1  lowest_f 0.175081\n",
      "basinhopping step 44: f 0.695672 trial_f 0.695672 accepted 1  lowest_f 0.175081\n",
      "basinhopping step 45: f 0.737307 trial_f 0.737307 accepted 1  lowest_f 0.175081\n",
      "basinhopping step 46: f 1.00035 trial_f 1.00035 accepted 1  lowest_f 0.175081\n",
      "warning: basinhopping: local minimization failure\n",
      "basinhopping step 47: f 1.1588 trial_f 1.1588 accepted 1  lowest_f 0.175081\n",
      "basinhopping step 48: f 1.16201 trial_f 1.16201 accepted 1  lowest_f 0.175081\n",
      "basinhopping step 49: f 0.734016 trial_f 0.734016 accepted 1  lowest_f 0.175081\n",
      "adaptive stepsize: acceptance rate 0.940000 target 0.500000 new stepsize 0.0555556 old stepsize 0.05\n",
      "basinhopping step 50: f 0.734016 trial_f 0.93714 accepted 0  lowest_f 0.175081\n",
      "basinhopping step 51: f 0.556909 trial_f 0.556909 accepted 1  lowest_f 0.175081\n",
      "basinhopping step 52: f 0.769289 trial_f 0.769289 accepted 1  lowest_f 0.175081\n",
      "basinhopping step 53: f 0.510909 trial_f 0.510909 accepted 1  lowest_f 0.175081\n",
      "basinhopping step 54: f 0.422253 trial_f 0.422253 accepted 1  lowest_f 0.175081\n",
      "basinhopping step 55: f 0.395705 trial_f 0.395705 accepted 1  lowest_f 0.175081\n",
      "basinhopping step 56: f 0.400601 trial_f 0.400601 accepted 1  lowest_f 0.175081\n",
      "basinhopping step 57: f 0.595704 trial_f 0.595704 accepted 1  lowest_f 0.175081\n",
      "warning: basinhopping: local minimization failure\n",
      "basinhopping step 58: f 0.597967 trial_f 0.597967 accepted 1  lowest_f 0.175081\n"
     ]
    }
   ],
   "source": [
    "m = build.Model(data=prodf_store.prodata, kind='xpro', dynamic='hyp', depends_on={'v':'pGo'}, tb=.550)\n",
    "m.make_optimizer(multiopt=True)\n",
    "m.opt.make_simulator()\n",
    "p, fmin = m.opt.multivariate_basinhopping(m.inits)\n",
    "#m.optimize(tol=1.e-10, ntrials=10000, maxfev=5000)"
   ]
  },
  {
   "cell_type": "code",
   "execution_count": 339,
   "metadata": {
    "collapsed": false
   },
   "outputs": [
    {
     "data": {
      "text/plain": [
       "{'a': 0.4433013, 'sso': 0.1999348, 'ssv': 3.018744, 'tr': 0.2171978, 'v': 1.29}"
      ]
     },
     "execution_count": 339,
     "metadata": {},
     "output_type": "execute_result"
    }
   ],
   "source": [
    "m.inits"
   ]
  },
  {
   "cell_type": "code",
   "execution_count": 348,
   "metadata": {
    "collapsed": false
   },
   "outputs": [],
   "source": [
    "m.avg_y=m.avg_y.flatten()"
   ]
  },
  {
   "cell_type": "code",
   "execution_count": 350,
   "metadata": {
    "collapsed": false
   },
   "outputs": [
    {
     "name": "stdout",
     "output_type": "stream",
     "text": [
      "Warning: Maximum number of iterations has been exceeded.\n",
      "Warning: Maximum number of iterations has been exceeded.\n"
     ]
    }
   ],
   "source": [
    "m = build.Model(data=redf_store.redata, kind='xiact', dynamic='hyp', depends_on={'v':'Cond'})\n",
    "m.optimize(tol=1.e-10, ntrials=10000, maxfev=5000)"
   ]
  },
  {
   "cell_type": "code",
   "execution_count": 271,
   "metadata": {
    "collapsed": true
   },
   "outputs": [],
   "source": [
    "wts = array([1.7453, 1.0, 0.8537, 0.9899, 2.2004, 2.2004, 0.2066, 0.3122, 0.5341, 1.8537, 3.1526, 0.0995, 0.2675, 0.2767, 0.9439, 0.9439])"
   ]
  },
  {
   "cell_type": "code",
   "execution_count": 273,
   "metadata": {
    "collapsed": false
   },
   "outputs": [],
   "source": [
    "p = {'a': 0.487581,'xb':1.840808, 'tr':.29223, 'v':array([1.39423800,1.53535562,1.65557698,1.75515234,1.88985329,1.92243114])}\n",
    "m.opt.simulator.wts =wts\n",
    "m.opt.simulator.ncond = 6"
   ]
  },
  {
   "cell_type": "code",
   "execution_count": 275,
   "metadata": {
    "collapsed": false
   },
   "outputs": [],
   "source": [
    "\n",
    "simfx=m.opt.simulator.sim_fx\n"
   ]
  },
  {
   "cell_type": "code",
   "execution_count": 317,
   "metadata": {
    "collapsed": false
   },
   "outputs": [
    {
     "data": {
      "text/plain": [
       "array([ 0.9496 ,  0.82353,  0.58885,  0.35974,  0.12396,  0.08177,\n",
       "        0.51216,  0.57756,  0.56847,  0.54969,  0.54591,  0.65948,\n",
       "        0.58766,  0.56445,  0.54723,  0.54628])"
      ]
     },
     "execution_count": 317,
     "metadata": {},
     "output_type": "execute_result"
    }
   ],
   "source": [
    "m.y+m.opt.simulator.__cost_fx__(p)"
   ]
  },
  {
   "cell_type": "code",
   "execution_count": null,
   "metadata": {
    "collapsed": true
   },
   "outputs": [],
   "source": []
  },
  {
   "cell_type": "code",
   "execution_count": null,
   "metadata": {
    "collapsed": true
   },
   "outputs": [],
   "source": []
  }
 ],
 "metadata": {
  "kernelspec": {
   "display_name": "Python 2",
   "language": "python",
   "name": "python2"
  },
  "language_info": {
   "codemirror_mode": {
    "name": "ipython",
    "version": 2
   },
   "file_extension": ".py",
   "mimetype": "text/x-python",
   "name": "python",
   "nbconvert_exporter": "python",
   "pygments_lexer": "ipython2",
   "version": "2.7.10"
  }
 },
 "nbformat": 4,
 "nbformat_minor": 0
}
