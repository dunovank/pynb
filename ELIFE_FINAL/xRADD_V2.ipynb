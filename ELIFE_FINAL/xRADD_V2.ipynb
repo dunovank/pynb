{
 "cells": [
  {
   "cell_type": "code",
   "execution_count": 2,
   "metadata": {
    "collapsed": false
   },
   "outputs": [],
   "source": [
    "from radd import build, models, fit, vis\n",
    "from radd.toolbox import theta"
   ]
  },
  {
   "cell_type": "code",
   "execution_count": 1,
   "metadata": {
    "collapsed": false
   },
   "outputs": [
    {
     "name": "stdout",
     "output_type": "stream",
     "text": [
      "/Users/kyle/Dropbox/XRADD_v_Final\n"
     ]
    }
   ],
   "source": [
    "#%mkdir XRADD_v_Final\n",
    "%cd XRADD_v_Final"
   ]
  },
  {
   "cell_type": "code",
   "execution_count": 3,
   "metadata": {
    "collapsed": false
   },
   "outputs": [],
   "source": [
    "m = build.Model(data=redf_store.redata, kind='xradd', dynamic='hyp', depends_on={'v':'Cond'})\n",
    "m.make_optimizer(tol=1.e-3, multiopt=True)"
   ]
  },
  {
   "cell_type": "code",
   "execution_count": 4,
   "metadata": {
    "collapsed": false
   },
   "outputs": [
    {
     "name": "stdout",
     "output_type": "stream",
     "text": [
      "Optimization terminated successfully.\n",
      "         Current function value: 0.000003\n",
      "         Iterations: 45\n",
      "         Function evaluations: 102\n",
      "Optimization terminated successfully.\n",
      "         Current function value: 0.000015\n",
      "         Iterations: 14\n",
      "         Function evaluations: 32\n"
     ]
    }
   ],
   "source": [
    "m.optimize(ntrials=2000, multiopt=True)\n",
    "#vis.plot_reactive_fits(m, save=True)"
   ]
  },
  {
   "cell_type": "code",
   "execution_count": 10,
   "metadata": {
    "collapsed": false
   },
   "outputs": [
    {
     "data": {
      "text/plain": [
       "{'AIC': nan,\n",
       " 'BIC': nan,\n",
       " 'CNVRG': True,\n",
       " 'a': 0.4464114702841392,\n",
       " 'chi': 2.5681727045041443e-05,\n",
       " 'nfev': 51,\n",
       " 'rchi': -2.5681727045041443e-05,\n",
       " 'ssv': -0.93151835146040174,\n",
       " 'tr_bsl': 0.29938269530024597,\n",
       " 'tr_pnl': 0.30895023432049284,\n",
       " 'v': 0.9763792969008169,\n",
       " 'xb': 1.3536579844747179,\n",
       " 'z': 0.16007108342618384}"
      ]
     },
     "execution_count": 10,
     "metadata": {},
     "output_type": "execute_result"
    }
   ],
   "source": [
    "m.fitinfo"
   ]
  },
  {
   "cell_type": "code",
   "execution_count": null,
   "metadata": {
    "collapsed": true
   },
   "outputs": [],
   "source": [
    "m.opt."
   ]
  }
 ],
 "metadata": {
  "kernelspec": {
   "display_name": "Python 2",
   "language": "python",
   "name": "python2"
  },
  "language_info": {
   "codemirror_mode": {
    "name": "ipython",
    "version": 2
   },
   "file_extension": ".py",
   "mimetype": "text/x-python",
   "name": "python",
   "nbconvert_exporter": "python",
   "pygments_lexer": "ipython2",
   "version": "2.7.10"
  }
 },
 "nbformat": 4,
 "nbformat_minor": 0
}
