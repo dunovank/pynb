{
 "cells": [
  {
   "cell_type": "code",
   "execution_count": 1,
   "metadata": {
    "collapsed": false
   },
   "outputs": [],
   "source": [
    "from radd import build, fit"
   ]
  },
  {
   "cell_type": "code",
   "execution_count": 4,
   "metadata": {
    "collapsed": false
   },
   "outputs": [],
   "source": [
    "d = 'ELife/FinalDI/boots'\n",
    "if not os.path.isdir(pth+d):\n",
    "      os.mkdir(pth+d)\n",
    "os.chdir(pth+d)\n",
    "\n",
    "m =build.Model(data=redata, kind='xradd')"
   ]
  },
  {
   "cell_type": "code",
   "execution_count": 5,
   "metadata": {
    "collapsed": false
   },
   "outputs": [],
   "source": [
    "i_xiact={'a': 0.44422598, 'sso': 0.2040, 'ssv': 3.02348, 'tr': 0.21841, 'v': 1.31063, 'xb': 1.46335}\n",
    "i_xsab={'a':0.33184, 'sso': 0.096734, 'v': 1.15267, 'xb': 1.54195, 'ssv': -1.33500, 'tr': 0.29102}\n",
    "i_xradd={'a': 0.4489, 'z': 0.1766345, 'v': 0.959424, 'xb': 1.46335, 'ssv': -0.9862407, 'tr': 0.30588}\n",
    "i_xirace={'a': 0.24266,  'v': 1.05866,  'xb': 1.5, 'ssv': 1.12441, 'tr': 0.335, 'xb': 1.46335}"
   ]
  },
  {
   "cell_type": "code",
   "execution_count": 6,
   "metadata": {
    "collapsed": true
   },
   "outputs": [],
   "source": [
    "kinds = ['xradd', 'xirace', 'xiact']\n",
    "initslist=[i_xradd, i_xirace, i_xiact]"
   ]
  },
  {
   "cell_type": "code",
   "execution_count": null,
   "metadata": {
    "collapsed": true
   },
   "outputs": [],
   "source": [
    "\n",
    "#finfo_all=[xradd_finfo, xirace_finfo, xiact_finfo]"
   ]
  },
  {
   "cell_type": "code",
   "execution_count": null,
   "metadata": {
    "collapsed": true
   },
   "outputs": [],
   "source": []
  },
  {
   "cell_type": "code",
   "execution_count": 7,
   "metadata": {
    "collapsed": true
   },
   "outputs": [],
   "source": [
    "\n",
    "mlist = [build.Model(data=redata, kind=k, inits=initslist[i]) for i,k in enumerate(kinds)]"
   ]
  },
  {
   "cell_type": "code",
   "execution_count": null,
   "metadata": {
    "collapsed": true
   },
   "outputs": [],
   "source": [
    "m.flat_y=m.avg_y[0]\n",
    "m.flat_wts=m.avg_wts[0]\n",
    "y=m.avg_y[0]\n",
    "\n",
    "for i in range(20):\n",
    "      finfo_dict = {}\n",
    "      for km in mlist:\n",
    "            kind=km.kind\n",
    "            km.optimize(stage='flat', multiopt=True, y=y)\n",
    "            finfo_dict[kind] = km.flat_fitinfo\n",
    "            "
   ]
  }
 ],
 "metadata": {
  "kernelspec": {
   "display_name": "Python 2",
   "language": "python",
   "name": "python2"
  },
  "language_info": {
   "codemirror_mode": {
    "name": "ipython",
    "version": 2
   },
   "file_extension": ".py",
   "mimetype": "text/x-python",
   "name": "python",
   "nbconvert_exporter": "python",
   "pygments_lexer": "ipython2",
   "version": "2.7.10"
  }
 },
 "nbformat": 4,
 "nbformat_minor": 0
}
