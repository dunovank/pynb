{
 "cells": [
  {
   "cell_type": "code",
   "execution_count": 1,
   "metadata": {
    "collapsed": false
   },
   "outputs": [],
   "source": [
    "from radd import build, models, fit, vis\n",
    "from radd.toolbox import theta"
   ]
  },
  {
   "cell_type": "code",
   "execution_count": 5,
   "metadata": {
    "collapsed": false
   },
   "outputs": [],
   "source": [
    "#!/usr/local/bin/env python\n",
    "from __future__ import division\n",
    "from radd import models\n",
    "from radd.toolbox import theta\n",
    "from radd.toolbox.messages import logger, global_logger\n",
    "from lmfit import Parameters, minimize\n",
    "from radd.CORE import RADDCore\n",
    "from scipy.optimize import basinhopping, differential_evolution, brute"
   ]
  },
  {
   "cell_type": "code",
   "execution_count": 6,
   "metadata": {
    "collapsed": false
   },
   "outputs": [
    {
     "name": "stdout",
     "output_type": "stream",
     "text": [
      "/home/kyle/Dropbox/Git/pynb/ELIFE_FINAL\n",
      "/home/kyle/Dropbox/xpro_test\n"
     ]
    }
   ],
   "source": [
    "%cd /home/kyle/Dropbox/\n",
    "%mkdir xpro_test\n",
    "%cd xpro_test\n"
   ]
  },
  {
   "cell_type": "code",
   "execution_count": 59,
   "metadata": {
    "collapsed": false
   },
   "outputs": [],
   "source": [
    "m = build.Model(data=prodf_store.prodata, kind='xpro', dynamic='hyp', depends_on={'v':'pGo'})\n",
    "m.make_optimizer(tol=1.e-5, random_inits=True, fit_seq='flat')\n",
    "simfx = m.opt.simulator.sim_fx"
   ]
  },
  {
   "cell_type": "code",
   "execution_count": 70,
   "metadata": {
    "collapsed": false
   },
   "outputs": [
    {
     "data": {
      "text/plain": [
       "{'a': 0.79125939119566002,\n",
       " 'tr': 0.1357586136142328,\n",
       " 'v': 1.4156329227911075,\n",
       " 'xb': 1.9702660978635951}"
      ]
     },
     "execution_count": 70,
     "metadata": {},
     "output_type": "execute_result"
    }
   ],
   "source": [
    "p1"
   ]
  },
  {
   "cell_type": "code",
   "execution_count": 68,
   "metadata": {
    "collapsed": false
   },
   "outputs": [
    {
     "name": "stdout",
     "output_type": "stream",
     "text": [
      "Warning: Maximum number of iterations has been exceeded.\n"
     ]
    }
   ],
   "source": [
    "#m.opt.simulator.sim_fx(p1)\n",
    "yhat1, finfo1, p1 = m.opt.__gradient_descent__(y=m.opt.flat_y, inits=p1, is_flat=True)"
   ]
  },
  {
   "cell_type": "code",
   "execution_count": 73,
   "metadata": {
    "collapsed": false
   },
   "outputs": [],
   "source": [
    "p1['v'] = p1['v'][0]"
   ]
  },
  {
   "cell_type": "code",
   "execution_count": 84,
   "metadata": {
    "collapsed": false
   },
   "outputs": [],
   "source": [
    "popt = 'popt = {'+arr_str(pdict)+'}'"
   ]
  },
  {
   "cell_type": "code",
   "execution_count": 85,
   "metadata": {
    "collapsed": false
   },
   "outputs": [
    {
     "data": {
      "text/plain": [
       "\"popt = {'a':0., 'xb':1, 'tr':0, 'v':1.}\""
      ]
     },
     "execution_count": 85,
     "metadata": {},
     "output_type": "execute_result"
    }
   ],
   "source": [
    "popt"
   ]
  },
  {
   "cell_type": "code",
   "execution_count": 81,
   "metadata": {
    "collapsed": false
   },
   "outputs": [
    {
     "data": {
      "text/plain": [
       "[\"'a':0.791259446065\",\n",
       " \"'xb':1.97026820892\",\n",
       " \"'tr':0.135758591063\",\n",
       " \"'v':1.41563360224\"]"
      ]
     },
     "execution_count": 81,
     "metadata": {},
     "output_type": "execute_result"
    }
   ],
   "source": [
    "pdict=[':'.join([\"'\"+str(k)+\"'\",str(v)]) for k,v in p1.items()]\n",
    "pdict"
   ]
  },
  {
   "cell_type": "code",
   "execution_count": 82,
   "metadata": {
    "collapsed": false
   },
   "outputs": [],
   "source": [
    "#'popt = {'+pdict+'}'\n",
    "arr_str = lambda x: ', '.join(str(elem)[:6] for elem in x)"
   ]
  },
  {
   "cell_type": "code",
   "execution_count": 75,
   "metadata": {
    "collapsed": false
   },
   "outputs": [
    {
     "name": "stdout",
     "output_type": "stream",
     "text": [
      "basinhopping step 0: f 0.073296\n",
      "basinhopping step 1: f 0.073296 trial_f 7.96175 accepted 0  lowest_f 0.073296\n",
      "basinhopping step 2: f 0.073296 trial_f 7.96175 accepted 0  lowest_f 0.073296\n",
      "basinhopping step 3: f 0.073296 trial_f 7.96175 accepted 0  lowest_f 0.073296\n",
      "basinhopping step 4: f 0.073296 trial_f 7.96175 accepted 0  lowest_f 0.073296\n",
      "adaptive stepsize: acceptance rate 0.000000 target 0.500000 new stepsize 0.45 old stepsize 0.5\n",
      "basinhopping step 5: f 0.073296 trial_f 7.96175 accepted 0  lowest_f 0.073296\n",
      "basinhopping step 6: f 0.073296 trial_f 7.96175 accepted 0  lowest_f 0.073296\n",
      "basinhopping step 7: f 0.073296 trial_f 2.43796 accepted 0  lowest_f 0.073296\n",
      "basinhopping step 8: f 0.073296 trial_f 7.96175 accepted 0  lowest_f 0.073296\n",
      "basinhopping step 9: f 0.483569 trial_f 0.483569 accepted 1  lowest_f 0.073296\n",
      "adaptive stepsize: acceptance rate 0.100000 target 0.500000 new stepsize 0.405 old stepsize 0.45\n",
      "basinhopping step 10: f 0.483569 trial_f 7.96175 accepted 0  lowest_f 0.073296\n",
      "basinhopping step 11: f 0.483569 trial_f 7.96175 accepted 0  lowest_f 0.073296\n",
      "basinhopping step 12: f 0.483569 trial_f 7.96175 accepted 0  lowest_f 0.073296\n",
      "warning: basinhopping: local minimization failure\n",
      "basinhopping step 13: f 0.483569 trial_f 0.64391 accepted 0  lowest_f 0.073296\n",
      "basinhopping step 14: f 0.514067 trial_f 0.514067 accepted 1  lowest_f 0.073296\n",
      "adaptive stepsize: acceptance rate 0.133333 target 0.500000 new stepsize 0.3645 old stepsize 0.405\n",
      "warning: basinhopping: local minimization failure\n",
      "basinhopping step 15: f 0.514067 trial_f 5.74249 accepted 0  lowest_f 0.073296\n",
      "basinhopping step 16: f 0.514067 trial_f 7.96175 accepted 0  lowest_f 0.073296\n",
      "basinhopping step 17: f 0.514067 trial_f 7.96175 accepted 0  lowest_f 0.073296\n",
      "basinhopping step 18: f 0.514067 trial_f 1.72721 accepted 0  lowest_f 0.073296\n",
      "warning: basinhopping: local minimization failure\n",
      "basinhopping step 19: f 0.514067 trial_f 1.25899 accepted 0  lowest_f 0.073296\n",
      "adaptive stepsize: acceptance rate 0.100000 target 0.500000 new stepsize 0.32805 old stepsize 0.3645\n",
      "basinhopping step 20: f 0.514067 trial_f 5.14431 accepted 0  lowest_f 0.073296\n",
      "basinhopping step 21: f 0.514067 trial_f 7.96175 accepted 0  lowest_f 0.073296\n",
      "warning: basinhopping: local minimization failure\n",
      "basinhopping step 22: f 0.514067 trial_f 4.03425 accepted 0  lowest_f 0.073296\n",
      "basinhopping step 23: f 0.514067 trial_f 4.26923 accepted 0  lowest_f 0.073296\n",
      "basinhopping step 24: f 0.596043 trial_f 0.596043 accepted 1  lowest_f 0.073296\n",
      "adaptive stepsize: acceptance rate 0.120000 target 0.500000 new stepsize 0.295245 old stepsize 0.32805\n",
      "warning: basinhopping: local minimization failure\n",
      "basinhopping step 25: f 0.596043 trial_f 2.93696 accepted 0  lowest_f 0.073296\n",
      "basinhopping step 26: f 0.368423 trial_f 0.368423 accepted 1  lowest_f 0.073296\n",
      "basinhopping step 27: f 0.368423 trial_f 2.92738 accepted 0  lowest_f 0.073296\n",
      "basinhopping step 28: f 0.368423 trial_f 1.52443 accepted 0  lowest_f 0.073296\n",
      "basinhopping step 29: f 0.298889 trial_f 0.298889 accepted 1  lowest_f 0.073296\n",
      "adaptive stepsize: acceptance rate 0.166667 target 0.500000 new stepsize 0.265721 old stepsize 0.295245\n",
      "basinhopping step 30: f 0.298889 trial_f 7.96175 accepted 0  lowest_f 0.073296\n",
      "basinhopping step 31: f 0.298889 trial_f 4.00817 accepted 0  lowest_f 0.073296\n",
      "basinhopping step 32: f 0.520265 trial_f 0.520265 accepted 1  lowest_f 0.073296\n",
      "basinhopping step 33: f 0.520265 trial_f 7.96175 accepted 0  lowest_f 0.073296\n",
      "basinhopping step 34: f 0.520265 trial_f 7.96175 accepted 0  lowest_f 0.073296\n",
      "adaptive stepsize: acceptance rate 0.171429 target 0.500000 new stepsize 0.239148 old stepsize 0.265721\n",
      "basinhopping step 35: f 0.520265 trial_f 4.17455 accepted 0  lowest_f 0.073296\n",
      "warning: basinhopping: local minimization failure\n",
      "basinhopping step 36: f 0.366761 trial_f 0.366761 accepted 1  lowest_f 0.073296\n",
      "basinhopping step 37: f 0.366761 trial_f 2.75972 accepted 0  lowest_f 0.073296\n",
      "basinhopping step 38: f 0.366761 trial_f 7.96175 accepted 0  lowest_f 0.073296\n",
      "basinhopping step 39: f 0.366761 trial_f 3.52783 accepted 0  lowest_f 0.073296\n",
      "adaptive stepsize: acceptance rate 0.175000 target 0.500000 new stepsize 0.215234 old stepsize 0.239148\n",
      "warning: basinhopping: local minimization failure\n",
      "basinhopping step 40: f 0.366761 trial_f 0.736735 accepted 0  lowest_f 0.073296\n",
      "basinhopping step 41: f 1.02858 trial_f 1.02858 accepted 1  lowest_f 0.073296\n",
      "basinhopping step 42: f 0.408013 trial_f 0.408013 accepted 1  lowest_f 0.073296\n",
      "warning: basinhopping: local minimization failure\n",
      "basinhopping step 43: f 0.404697 trial_f 0.404697 accepted 1  lowest_f 0.073296\n",
      "basinhopping step 44: f 0.307749 trial_f 0.307749 accepted 1  lowest_f 0.073296\n",
      "adaptive stepsize: acceptance rate 0.244444 target 0.500000 new stepsize 0.19371 old stepsize 0.215234\n",
      "basinhopping step 45: f 0.307749 trial_f 7.96175 accepted 0  lowest_f 0.073296\n",
      "basinhopping step 46: f 0.766307 trial_f 0.766307 accepted 1  lowest_f 0.073296\n",
      "basinhopping step 47: f 0.766307 trial_f 7.96175 accepted 0  lowest_f 0.073296\n",
      "basinhopping step 48: f 0.766307 trial_f 4.31427 accepted 0  lowest_f 0.073296\n",
      "warning: basinhopping: local minimization failure\n",
      "basinhopping step 49: f 0.766307 trial_f 7.96175 accepted 0  lowest_f 0.073296\n",
      "adaptive stepsize: acceptance rate 0.240000 target 0.500000 new stepsize 0.174339 old stepsize 0.19371\n",
      "basinhopping step 50: f 0.717264 trial_f 0.717264 accepted 1  lowest_f 0.073296\n",
      "basinhopping step 51: f 0.717264 trial_f 7.96175 accepted 0  lowest_f 0.073296\n",
      "basinhopping step 52: f 0.455226 trial_f 0.455226 accepted 1  lowest_f 0.073296\n",
      "basinhopping step 53: f 0.455226 trial_f 2.89048 accepted 0  lowest_f 0.073296\n",
      "basinhopping step 54: f 0.16148 trial_f 0.16148 accepted 1  lowest_f 0.073296\n",
      "adaptive stepsize: acceptance rate 0.272727 target 0.500000 new stepsize 0.156905 old stepsize 0.174339\n",
      "warning: basinhopping: local minimization failure\n",
      "basinhopping step 55: f 0.16148 trial_f 7.96175 accepted 0  lowest_f 0.073296\n",
      "basinhopping step 56: f 0.16148 trial_f 7.96175 accepted 0  lowest_f 0.073296\n",
      "basinhopping step 57: f 0.428276 trial_f 0.428276 accepted 1  lowest_f 0.073296\n",
      "warning: basinhopping: local minimization failure\n",
      "basinhopping step 58: f 0.428276 trial_f 1.09822 accepted 0  lowest_f 0.073296\n",
      "basinhopping step 59: f 0.605051 trial_f 0.605051 accepted 1  lowest_f 0.073296\n",
      "adaptive stepsize: acceptance rate 0.283333 target 0.500000 new stepsize 0.141215 old stepsize 0.156905\n",
      "warning: basinhopping: local minimization failure\n",
      "basinhopping step 60: f 0.390488 trial_f 0.390488 accepted 1  lowest_f 0.073296\n",
      "basinhopping step 61: f 0.391426 trial_f 0.391426 accepted 1  lowest_f 0.073296\n",
      "basinhopping step 62: f 0.391426 trial_f 7.96175 accepted 0  lowest_f 0.073296\n",
      "basinhopping step 63: f 0.391426 trial_f 7.96175 accepted 0  lowest_f 0.073296\n",
      "basinhopping step 64: f 0.391426 trial_f 7.96175 accepted 0  lowest_f 0.073296\n",
      "adaptive stepsize: acceptance rate 0.292308 target 0.500000 new stepsize 0.127093 old stepsize 0.141215\n",
      "basinhopping step 65: f 0.345277 trial_f 0.345277 accepted 1  lowest_f 0.073296\n",
      "basinhopping step 66: f 0.758185 trial_f 0.758185 accepted 1  lowest_f 0.073296\n",
      "warning: basinhopping: local minimization failure\n",
      "basinhopping step 67: f 0.795344 trial_f 0.795344 accepted 1  lowest_f 0.073296\n",
      "basinhopping step 68: f 0.795344 trial_f 7.96175 accepted 0  lowest_f 0.073296\n",
      "warning: basinhopping: local minimization failure\n",
      "basinhopping step 69: f 0.775337 trial_f 0.775337 accepted 1  lowest_f 0.073296\n",
      "adaptive stepsize: acceptance rate 0.328571 target 0.500000 new stepsize 0.114384 old stepsize 0.127093\n",
      "warning: basinhopping: local minimization failure\n",
      "basinhopping step 70: f 0.759721 trial_f 0.759721 accepted 1  lowest_f 0.073296\n",
      "basinhopping step 71: f 0.544368 trial_f 0.544368 accepted 1  lowest_f 0.073296\n",
      "basinhopping step 72: f 0.544368 trial_f 7.96175 accepted 0  lowest_f 0.073296\n",
      "warning: basinhopping: local minimization failure\n",
      "basinhopping step 73: f 0.512569 trial_f 0.512569 accepted 1  lowest_f 0.073296\n",
      "basinhopping step 74: f 0.456685 trial_f 0.456685 accepted 1  lowest_f 0.073296\n",
      "adaptive stepsize: acceptance rate 0.360000 target 0.500000 new stepsize 0.102946 old stepsize 0.114384\n",
      "basinhopping step 75: f 0.617781 trial_f 0.617781 accepted 1  lowest_f 0.073296\n",
      "basinhopping step 76: f 0.617781 trial_f 0.795054 accepted 0  lowest_f 0.073296\n",
      "warning: basinhopping: local minimization failure\n",
      "basinhopping step 77: f 0.498627 trial_f 0.498627 accepted 1  lowest_f 0.073296\n",
      "warning: basinhopping: local minimization failure\n",
      "basinhopping step 78: f 0.741137 trial_f 0.741137 accepted 1  lowest_f 0.073296\n",
      "warning: basinhopping: local minimization failure\n",
      "basinhopping step 79: f 0.47818 trial_f 0.47818 accepted 1  lowest_f 0.073296\n",
      "adaptive stepsize: acceptance rate 0.387500 target 0.500000 new stepsize 0.092651 old stepsize 0.102946\n",
      "basinhopping step 80: f 0.440265 trial_f 0.440265 accepted 1  lowest_f 0.073296\n",
      "basinhopping step 81: f 0.621126 trial_f 0.621126 accepted 1  lowest_f 0.073296\n",
      "basinhopping step 82: f 0.817009 trial_f 0.817009 accepted 1  lowest_f 0.073296\n",
      "basinhopping step 83: f 0.455983 trial_f 0.455983 accepted 1  lowest_f 0.073296\n",
      "basinhopping step 84: f 0.455983 trial_f 7.96175 accepted 0  lowest_f 0.073296\n",
      "adaptive stepsize: acceptance rate 0.411765 target 0.500000 new stepsize 0.0833859 old stepsize 0.092651\n",
      "basinhopping step 85: f 0.517111 trial_f 0.517111 accepted 1  lowest_f 0.073296\n",
      "basinhopping step 86: f 0.756515 trial_f 0.756515 accepted 1  lowest_f 0.073296\n",
      "basinhopping step 87: f 0.484442 trial_f 0.484442 accepted 1  lowest_f 0.073296\n",
      "basinhopping step 88: f 0.839964 trial_f 0.839964 accepted 1  lowest_f 0.073296\n",
      "basinhopping step 89: f 1.03793 trial_f 1.03793 accepted 1  lowest_f 0.073296\n",
      "adaptive stepsize: acceptance rate 0.444444 target 0.500000 new stepsize 0.0750473 old stepsize 0.0833859\n",
      "basinhopping step 90: f 0.827103 trial_f 0.827103 accepted 1  lowest_f 0.073296\n",
      "basinhopping step 91: f 0.98158 trial_f 0.98158 accepted 1  lowest_f 0.073296\n",
      "basinhopping step 92: f 0.681748 trial_f 0.681748 accepted 1  lowest_f 0.073296\n",
      "basinhopping step 93: f 0.681748 trial_f 7.96175 accepted 0  lowest_f 0.073296\n",
      "warning: basinhopping: local minimization failure\n",
      "basinhopping step 94: f 0.681748 trial_f 7.96175 accepted 0  lowest_f 0.073296\n",
      "adaptive stepsize: acceptance rate 0.452632 target 0.500000 new stepsize 0.0675426 old stepsize 0.0750473\n",
      "basinhopping step 95: f 0.806235 trial_f 0.806235 accepted 1  lowest_f 0.073296\n",
      "basinhopping step 96: f 0.789382 trial_f 0.789382 accepted 1  lowest_f 0.073296\n",
      "basinhopping step 97: f 0.692711 trial_f 0.692711 accepted 1  lowest_f 0.073296\n",
      "basinhopping step 98: f 0.477695 trial_f 0.477695 accepted 1  lowest_f 0.073296\n",
      "basinhopping step 99: f 1.06587 trial_f 1.06587 accepted 1  lowest_f 0.073296\n",
      "adaptive stepsize: acceptance rate 0.480000 target 0.500000 new stepsize 0.0607883 old stepsize 0.0675426\n",
      "basinhopping step 100: f 1.06587 trial_f 7.96175 accepted 0  lowest_f 0.073296\n"
     ]
    }
   ],
   "source": [
    "p1['v'] = p1['v'][0]\n",
    "p1, fxmin = m.opt.__global_opt__(method='basinhopping', inits=p1, is_flat=True)"
   ]
  },
  {
   "cell_type": "code",
   "execution_count": 64,
   "metadata": {
    "collapsed": false,
    "scrolled": true
   },
   "outputs": [
    {
     "name": "stdout",
     "output_type": "stream",
     "text": [
      "basinhopping step 0: f 0.224428\n",
      "basinhopping step 1: f 1.00109 trial_f 1.00109 accepted 1  lowest_f 0.224428\n",
      "basinhopping step 2: f 1.00109 trial_f 7.96175 accepted 0  lowest_f 0.224428\n",
      "basinhopping step 3: f 1.00109 trial_f 2.6718 accepted 0  lowest_f 0.224428\n",
      "basinhopping step 4: f 1.00109 trial_f 7.96175 accepted 0  lowest_f 0.224428\n",
      "adaptive stepsize: acceptance rate 0.200000 target 0.500000 new stepsize 0.45 old stepsize 0.5\n",
      "warning: basinhopping: local minimization failure\n",
      "basinhopping step 5: f 0.72651 trial_f 0.72651 accepted 1  lowest_f 0.224428\n",
      "basinhopping step 6: f 2.24713 trial_f 2.24713 accepted 1  lowest_f 0.224428\n",
      "basinhopping step 7: f 0.536702 trial_f 0.536702 accepted 1  lowest_f 0.224428\n",
      "basinhopping step 8: f 0.536702 trial_f 7.96175 accepted 0  lowest_f 0.224428\n",
      "basinhopping step 9: f 0.536702 trial_f 3.11164 accepted 0  lowest_f 0.224428\n",
      "adaptive stepsize: acceptance rate 0.400000 target 0.500000 new stepsize 0.405 old stepsize 0.45\n",
      "basinhopping step 10: f 0.536702 trial_f 7.96175 accepted 0  lowest_f 0.224428\n",
      "basinhopping step 11: f 0.843457 trial_f 0.843457 accepted 1  lowest_f 0.224428\n",
      "basinhopping step 12: f 0.843457 trial_f 1.12897 accepted 0  lowest_f 0.224428\n",
      "basinhopping step 13: f 1.89447 trial_f 1.89447 accepted 1  lowest_f 0.224428\n",
      "basinhopping step 14: f 0.532652 trial_f 0.532652 accepted 1  lowest_f 0.224428\n",
      "adaptive stepsize: acceptance rate 0.466667 target 0.500000 new stepsize 0.3645 old stepsize 0.405\n",
      "warning: basinhopping: local minimization failure\n",
      "basinhopping step 15: f 0.145787 trial_f 0.145787 accepted 1  lowest_f 0.145787\n",
      "found new global minimum on step 15 with function value 0.145787\n",
      "basinhopping step 16: f 0.145787 trial_f 7.96175 accepted 0  lowest_f 0.145787\n",
      "basinhopping step 17: f 1.8246 trial_f 1.8246 accepted 1  lowest_f 0.145787\n",
      "basinhopping step 18: f 1.8246 trial_f 7.96175 accepted 0  lowest_f 0.145787\n",
      "warning: basinhopping: local minimization failure\n",
      "basinhopping step 19: f 1.8246 trial_f 3.73481 accepted 0  lowest_f 0.145787\n",
      "adaptive stepsize: acceptance rate 0.450000 target 0.500000 new stepsize 0.32805 old stepsize 0.3645\n",
      "basinhopping step 20: f 0.629926 trial_f 0.629926 accepted 1  lowest_f 0.145787\n",
      "basinhopping step 21: f 0.629926 trial_f 7.96175 accepted 0  lowest_f 0.145787\n",
      "basinhopping step 22: f 0.629926 trial_f 7.96175 accepted 0  lowest_f 0.145787\n",
      "basinhopping step 23: f 0.629926 trial_f 7.96175 accepted 0  lowest_f 0.145787\n",
      "basinhopping step 24: f 0.629926 trial_f 7.96175 accepted 0  lowest_f 0.145787\n",
      "adaptive stepsize: acceptance rate 0.400000 target 0.500000 new stepsize 0.295245 old stepsize 0.32805\n",
      "basinhopping step 25: f 0.629926 trial_f 7.96175 accepted 0  lowest_f 0.145787\n",
      "basinhopping step 26: f 0.736433 trial_f 0.736433 accepted 1  lowest_f 0.145787\n",
      "basinhopping step 27: f 1.07917 trial_f 1.07917 accepted 1  lowest_f 0.145787\n",
      "basinhopping step 28: f 1.07917 trial_f 4.10844 accepted 0  lowest_f 0.145787\n",
      "basinhopping step 29: f 0.878137 trial_f 0.878137 accepted 1  lowest_f 0.145787\n",
      "adaptive stepsize: acceptance rate 0.433333 target 0.500000 new stepsize 0.265721 old stepsize 0.295245\n",
      "basinhopping step 30: f 0.60691 trial_f 0.60691 accepted 1  lowest_f 0.145787\n",
      "basinhopping step 31: f 0.60691 trial_f 7.96175 accepted 0  lowest_f 0.145787\n",
      "basinhopping step 32: f 0.60691 trial_f 3.3189 accepted 0  lowest_f 0.145787\n",
      "basinhopping step 33: f 0.60691 trial_f 1.369 accepted 0  lowest_f 0.145787\n",
      "basinhopping step 34: f 0.927099 trial_f 0.927099 accepted 1  lowest_f 0.145787\n",
      "adaptive stepsize: acceptance rate 0.428571 target 0.500000 new stepsize 0.239148 old stepsize 0.265721\n",
      "basinhopping step 35: f 0.927099 trial_f 7.96175 accepted 0  lowest_f 0.145787\n",
      "basinhopping step 36: f 0.927099 trial_f 3.54757 accepted 0  lowest_f 0.145787\n",
      "basinhopping step 37: f 0.927099 trial_f 7.96175 accepted 0  lowest_f 0.145787\n",
      "basinhopping step 38: f 0.374799 trial_f 0.374799 accepted 1  lowest_f 0.145787\n",
      "warning: basinhopping: local minimization failure\n",
      "basinhopping step 39: f 1.23245 trial_f 1.23245 accepted 1  lowest_f 0.145787\n",
      "adaptive stepsize: acceptance rate 0.425000 target 0.500000 new stepsize 0.215234 old stepsize 0.239148\n",
      "basinhopping step 40: f 0.235198 trial_f 0.235198 accepted 1  lowest_f 0.145787\n",
      "basinhopping step 41: f 0.235198 trial_f 0.711059 accepted 0  lowest_f 0.145787\n",
      "basinhopping step 42: f 0.81428 trial_f 0.81428 accepted 1  lowest_f 0.145787\n",
      "basinhopping step 43: f 0.707285 trial_f 0.707285 accepted 1  lowest_f 0.145787\n",
      "basinhopping step 44: f 0.707285 trial_f 3.07664 accepted 0  lowest_f 0.145787\n",
      "adaptive stepsize: acceptance rate 0.444444 target 0.500000 new stepsize 0.19371 old stepsize 0.215234\n",
      "basinhopping step 45: f 1.95077 trial_f 1.95077 accepted 1  lowest_f 0.145787\n",
      "basinhopping step 46: f 1.95077 trial_f 2.70529 accepted 0  lowest_f 0.145787\n",
      "basinhopping step 47: f 1.20237 trial_f 1.20237 accepted 1  lowest_f 0.145787\n",
      "basinhopping step 48: f 1.20237 trial_f 2.29763 accepted 0  lowest_f 0.145787\n",
      "basinhopping step 49: f 0.14081 trial_f 0.14081 accepted 1  lowest_f 0.14081\n",
      "found new global minimum on step 49 with function value 0.14081\n",
      "adaptive stepsize: acceptance rate 0.460000 target 0.500000 new stepsize 0.174339 old stepsize 0.19371\n",
      "basinhopping step 50: f 0.14081 trial_f 7.96175 accepted 0  lowest_f 0.14081\n",
      "basinhopping step 51: f 0.14081 trial_f 0.586982 accepted 0  lowest_f 0.14081\n",
      "basinhopping step 52: f 0.923916 trial_f 0.923916 accepted 1  lowest_f 0.14081\n",
      "basinhopping step 53: f 0.600995 trial_f 0.600995 accepted 1  lowest_f 0.14081\n",
      "basinhopping step 54: f 0.291593 trial_f 0.291593 accepted 1  lowest_f 0.14081\n",
      "adaptive stepsize: acceptance rate 0.472727 target 0.500000 new stepsize 0.156905 old stepsize 0.174339\n",
      "warning: basinhopping: local minimization failure\n",
      "basinhopping step 55: f 0.291593 trial_f 1.41724 accepted 0  lowest_f 0.14081\n",
      "basinhopping step 56: f 0.291593 trial_f 7.96175 accepted 0  lowest_f 0.14081\n",
      "basinhopping step 57: f 0.349936 trial_f 0.349936 accepted 1  lowest_f 0.14081\n",
      "basinhopping step 58: f 0.349936 trial_f 2.01782 accepted 0  lowest_f 0.14081\n",
      "basinhopping step 59: f 0.302442 trial_f 0.302442 accepted 1  lowest_f 0.14081\n",
      "adaptive stepsize: acceptance rate 0.466667 target 0.500000 new stepsize 0.141215 old stepsize 0.156905\n",
      "basinhopping step 60: f 0.302442 trial_f 1.48955 accepted 0  lowest_f 0.14081\n",
      "basinhopping step 61: f 0.553865 trial_f 0.553865 accepted 1  lowest_f 0.14081\n",
      "basinhopping step 62: f 1.05579 trial_f 1.05579 accepted 1  lowest_f 0.14081\n",
      "warning: basinhopping: local minimization failure\n",
      "basinhopping step 63: f 1.19143 trial_f 1.19143 accepted 1  lowest_f 0.14081\n",
      "basinhopping step 64: f 0.754253 trial_f 0.754253 accepted 1  lowest_f 0.14081\n",
      "adaptive stepsize: acceptance rate 0.492308 target 0.500000 new stepsize 0.127093 old stepsize 0.141215\n",
      "basinhopping step 65: f 0.754253 trial_f 2.12396 accepted 0  lowest_f 0.14081\n",
      "basinhopping step 66: f 0.395064 trial_f 0.395064 accepted 1  lowest_f 0.14081\n",
      "basinhopping step 67: f 0.395064 trial_f 7.96175 accepted 0  lowest_f 0.14081\n",
      "basinhopping step 68: f 0.512039 trial_f 0.512039 accepted 1  lowest_f 0.14081\n",
      "basinhopping step 69: f 0.512039 trial_f 7.96175 accepted 0  lowest_f 0.14081\n",
      "adaptive stepsize: acceptance rate 0.485714 target 0.500000 new stepsize 0.114384 old stepsize 0.127093\n",
      "warning: basinhopping: local minimization failure\n",
      "basinhopping step 70: f 0.376715 trial_f 0.376715 accepted 1  lowest_f 0.14081\n",
      "basinhopping step 71: f 0.376715 trial_f 7.96175 accepted 0  lowest_f 0.14081\n",
      "warning: basinhopping: local minimization failure\n",
      "basinhopping step 72: f 0.284635 trial_f 0.284635 accepted 1  lowest_f 0.14081\n",
      "warning: basinhopping: local minimization failure\n",
      "basinhopping step 73: f 0.325546 trial_f 0.325546 accepted 1  lowest_f 0.14081\n",
      "warning: basinhopping: local minimization failure\n",
      "basinhopping step 74: f 0.436445 trial_f 0.436445 accepted 1  lowest_f 0.14081\n",
      "adaptive stepsize: acceptance rate 0.506667 target 0.500000 new stepsize 0.127093 old stepsize 0.114384\n",
      "basinhopping step 75: f 0.436445 trial_f 7.96175 accepted 0  lowest_f 0.14081\n",
      "basinhopping step 76: f 0.334568 trial_f 0.334568 accepted 1  lowest_f 0.14081\n",
      "basinhopping step 77: f 0.468816 trial_f 0.468816 accepted 1  lowest_f 0.14081\n",
      "basinhopping step 78: f 0.427745 trial_f 0.427745 accepted 1  lowest_f 0.14081\n",
      "basinhopping step 79: f 0.427745 trial_f 0.680827 accepted 0  lowest_f 0.14081\n",
      "adaptive stepsize: acceptance rate 0.512500 target 0.500000 new stepsize 0.141215 old stepsize 0.127093\n",
      "basinhopping step 80: f 0.368747 trial_f 0.368747 accepted 1  lowest_f 0.14081\n",
      "basinhopping step 81: f 0.406465 trial_f 0.406465 accepted 1  lowest_f 0.14081\n",
      "basinhopping step 82: f 0.406465 trial_f 7.96175 accepted 0  lowest_f 0.14081\n",
      "basinhopping step 83: f 0.479621 trial_f 0.479621 accepted 1  lowest_f 0.14081\n",
      "basinhopping step 84: f 0.479621 trial_f 7.96175 accepted 0  lowest_f 0.14081\n",
      "adaptive stepsize: acceptance rate 0.517647 target 0.500000 new stepsize 0.156905 old stepsize 0.141215\n",
      "basinhopping step 85: f 0.479621 trial_f 7.96175 accepted 0  lowest_f 0.14081\n",
      "basinhopping step 86: f 0.479621 trial_f 7.96175 accepted 0  lowest_f 0.14081\n",
      "basinhopping step 87: f 0.479621 trial_f 0.755289 accepted 0  lowest_f 0.14081\n",
      "basinhopping step 88: f 0.479621 trial_f 7.96175 accepted 0  lowest_f 0.14081\n",
      "basinhopping step 89: f 0.479621 trial_f 7.96175 accepted 0  lowest_f 0.14081\n",
      "adaptive stepsize: acceptance rate 0.488889 target 0.500000 new stepsize 0.141215 old stepsize 0.156905\n",
      "warning: basinhopping: local minimization failure\n",
      "basinhopping step 90: f 0.670805 trial_f 0.670805 accepted 1  lowest_f 0.14081\n",
      "basinhopping step 91: f 0.375502 trial_f 0.375502 accepted 1  lowest_f 0.14081\n",
      "basinhopping step 92: f 0.375502 trial_f 7.96175 accepted 0  lowest_f 0.14081\n",
      "basinhopping step 93: f 0.375502 trial_f 7.96175 accepted 0  lowest_f 0.14081\n",
      "basinhopping step 94: f 0.342506 trial_f 0.342506 accepted 1  lowest_f 0.14081\n",
      "adaptive stepsize: acceptance rate 0.494737 target 0.500000 new stepsize 0.127093 old stepsize 0.141215\n",
      "warning: basinhopping: local minimization failure\n",
      "basinhopping step 95: f 0.342506 trial_f 0.903093 accepted 0  lowest_f 0.14081\n",
      "warning: basinhopping: local minimization failure\n",
      "basinhopping step 96: f 0.334501 trial_f 0.334501 accepted 1  lowest_f 0.14081\n",
      "basinhopping step 97: f 0.334501 trial_f 0.620019 accepted 0  lowest_f 0.14081\n",
      "basinhopping step 98: f 0.334501 trial_f 7.96175 accepted 0  lowest_f 0.14081\n",
      "warning: basinhopping: local minimization failure\n",
      "basinhopping step 99: f 0.741329 trial_f 0.741329 accepted 1  lowest_f 0.14081\n",
      "adaptive stepsize: acceptance rate 0.490000 target 0.500000 new stepsize 0.114384 old stepsize 0.127093\n",
      "basinhopping step 100: f 0.741329 trial_f 7.96175 accepted 0  lowest_f 0.14081\n"
     ]
    }
   ],
   "source": [
    "p1, fxmin = m.opt.__global_opt__(method='basinhopping', inits=m.inits, is_flat=True)"
   ]
  },
  {
   "cell_type": "code",
   "execution_count": 61,
   "metadata": {
    "collapsed": false,
    "scrolled": true
   },
   "outputs": [
    {
     "name": "stdout",
     "output_type": "stream",
     "text": [
      "basinhopping step 0: f 0.259218\n",
      "warning: basinhopping: local minimization failure\n",
      "basinhopping step 1: f 0.259218 trial_f 2.15075 accepted 0  lowest_f 0.259218\n",
      "basinhopping step 2: f 0.259218 trial_f 7.96175 accepted 0  lowest_f 0.259218\n",
      "basinhopping step 3: f 0.514545 trial_f 0.514545 accepted 1  lowest_f 0.259218\n",
      "warning: basinhopping: local minimization failure\n",
      "basinhopping step 4: f 0.514545 trial_f 5.32074 accepted 0  lowest_f 0.259218\n",
      "adaptive stepsize: acceptance rate 0.200000 target 0.500000 new stepsize 0.45 old stepsize 0.5\n",
      "basinhopping step 5: f 0.514545 trial_f 7.96175 accepted 0  lowest_f 0.259218\n",
      "warning: basinhopping: local minimization failure\n",
      "basinhopping step 6: f 0.514545 trial_f 2.94682 accepted 0  lowest_f 0.259218\n",
      "basinhopping step 7: f 0.514545 trial_f 2.03749 accepted 0  lowest_f 0.259218\n",
      "basinhopping step 8: f 0.514545 trial_f 5.25081 accepted 0  lowest_f 0.259218\n",
      "basinhopping step 9: f 1.79625 trial_f 1.79625 accepted 1  lowest_f 0.259218\n",
      "adaptive stepsize: acceptance rate 0.200000 target 0.500000 new stepsize 0.405 old stepsize 0.45\n",
      "basinhopping step 10: f 1.64505 trial_f 1.64505 accepted 1  lowest_f 0.259218\n",
      "basinhopping step 11: f 0.698941 trial_f 0.698941 accepted 1  lowest_f 0.259218\n",
      "basinhopping step 12: f 0.698941 trial_f 1.99775 accepted 0  lowest_f 0.259218\n",
      "basinhopping step 13: f 0.698941 trial_f 2.88653 accepted 0  lowest_f 0.259218\n",
      "basinhopping step 14: f 0.698941 trial_f 7.96175 accepted 0  lowest_f 0.259218\n",
      "adaptive stepsize: acceptance rate 0.266667 target 0.500000 new stepsize 0.3645 old stepsize 0.405\n",
      "basinhopping step 15: f 0.77526 trial_f 0.77526 accepted 1  lowest_f 0.259218\n",
      "basinhopping step 16: f 0.77526 trial_f 4.48719 accepted 0  lowest_f 0.259218\n",
      "basinhopping step 17: f 0.77526 trial_f 7.96175 accepted 0  lowest_f 0.259218\n",
      "basinhopping step 18: f 0.946375 trial_f 0.946375 accepted 1  lowest_f 0.259218\n",
      "basinhopping step 19: f 1.48597 trial_f 1.48597 accepted 1  lowest_f 0.259218\n",
      "adaptive stepsize: acceptance rate 0.350000 target 0.500000 new stepsize 0.32805 old stepsize 0.3645\n",
      "basinhopping step 20: f 0.730177 trial_f 0.730177 accepted 1  lowest_f 0.259218\n",
      "basinhopping step 21: f 0.730177 trial_f 7.96175 accepted 0  lowest_f 0.259218\n",
      "basinhopping step 0: f 0.360601\n",
      "basinhopping step 1: f 0.360601 trial_f 7.96175 accepted 0  lowest_f 0.360601\n",
      "basinhopping step 2: f 0.360601 trial_f 7.96175 accepted 0  lowest_f 0.360601\n",
      "basinhopping step 3: f 0.360601 trial_f 7.96175 accepted 0  lowest_f 0.360601\n",
      "basinhopping step 4: f 0.360601 trial_f 5.03257 accepted 0  lowest_f 0.360601\n",
      "adaptive stepsize: acceptance rate 0.000000 target 0.500000 new stepsize 0.45 old stepsize 0.5\n",
      "basinhopping step 5: f 0.553897 trial_f 0.553897 accepted 1  lowest_f 0.360601\n",
      "basinhopping step 6: f 0.581354 trial_f 0.581354 accepted 1  lowest_f 0.360601\n",
      "basinhopping step 7: f 0.36102 trial_f 0.36102 accepted 1  lowest_f 0.360601\n",
      "basinhopping step 8: f 0.70098 trial_f 0.70098 accepted 1  lowest_f 0.360601\n",
      "basinhopping step 9: f 0.70098 trial_f 7.96175 accepted 0  lowest_f 0.360601\n",
      "adaptive stepsize: acceptance rate 0.400000 target 0.500000 new stepsize 0.405 old stepsize 0.45\n",
      "basinhopping step 10: f 0.70098 trial_f 5.56166 accepted 0  lowest_f 0.360601\n",
      "basinhopping step 11: f 0.70098 trial_f 7.96175 accepted 0  lowest_f 0.360601\n",
      "basinhopping step 12: f 0.70098 trial_f 7.96175 accepted 0  lowest_f 0.360601\n",
      "basinhopping step 13: f 0.70098 trial_f 2.83651 accepted 0  lowest_f 0.360601\n",
      "basinhopping step 14: f 0.70098 trial_f 2.1921 accepted 0  lowest_f 0.360601\n",
      "adaptive stepsize: acceptance rate 0.266667 target 0.500000 new stepsize 0.3645 old stepsize 0.405\n",
      "basinhopping step 15: f 0.31745 trial_f 0.31745 accepted 1  lowest_f 0.31745\n",
      "found new global minimum on step 15 with function value 0.31745\n",
      "basinhopping step 16: f 0.31745 trial_f 1.69589 accepted 0  lowest_f 0.31745\n",
      "warning: basinhopping: local minimization failure\n",
      "basinhopping step 17: f 0.31745 trial_f 2.17359 accepted 0  lowest_f 0.31745\n",
      "basinhopping step 18: f 0.31745 trial_f 7.96175 accepted 0  lowest_f 0.31745\n",
      "basinhopping step 19: f 0.31745 trial_f 1.94249 accepted 0  lowest_f 0.31745\n",
      "adaptive stepsize: acceptance rate 0.250000 target 0.500000 new stepsize 0.32805 old stepsize 0.3645\n",
      "basinhopping step 20: f 0.31745 trial_f 7.96175 accepted 0  lowest_f 0.31745\n",
      "basinhopping step 21: f 0.31745 trial_f 0.387544 accepted 0  lowest_f 0.31745\n",
      "basinhopping step 22: f 0.31745 trial_f 7.96175 accepted 0  lowest_f 0.31745\n",
      "basinhopping step 23: f 0.454476 trial_f 0.454476 accepted 1  lowest_f 0.31745\n",
      "basinhopping step 24: f 0.454476 trial_f 7.96175 accepted 0  lowest_f 0.31745\n",
      "adaptive stepsize: acceptance rate 0.240000 target 0.500000 new stepsize 0.295245 old stepsize 0.32805\n",
      "warning: basinhopping: local minimization failure\n",
      "basinhopping step 25: f 0.454476 trial_f 2.6927 accepted 0  lowest_f 0.31745\n",
      "basinhopping step 26: f 0.698481 trial_f 0.698481 accepted 1  lowest_f 0.31745\n",
      "warning: basinhopping: local minimization failure\n",
      "basinhopping step 27: f 2.67254 trial_f 2.67254 accepted 1  lowest_f 0.31745\n",
      "basinhopping step 28: f 2.68521 trial_f 2.68521 accepted 1  lowest_f 0.31745\n",
      "basinhopping step 29: f 0.619426 trial_f 0.619426 accepted 1  lowest_f 0.31745\n",
      "adaptive stepsize: acceptance rate 0.333333 target 0.500000 new stepsize 0.265721 old stepsize 0.295245\n",
      "basinhopping step 30: f 0.619426 trial_f 4.36908 accepted 0  lowest_f 0.31745\n",
      "basinhopping step 31: f 0.554504 trial_f 0.554504 accepted 1  lowest_f 0.31745\n",
      "basinhopping step 32: f 0.554504 trial_f 7.96175 accepted 0  lowest_f 0.31745\n",
      "basinhopping step 33: f 0.554504 trial_f 4.88258 accepted 0  lowest_f 0.31745\n",
      "warning: basinhopping: local minimization failure\n",
      "basinhopping step 34: f 0.742205 trial_f 0.742205 accepted 1  lowest_f 0.31745\n",
      "adaptive stepsize: acceptance rate 0.342857 target 0.500000 new stepsize 0.239148 old stepsize 0.265721\n",
      "basinhopping step 35: f 0.466803 trial_f 0.466803 accepted 1  lowest_f 0.31745\n",
      "basinhopping step 36: f 0.466803 trial_f 1.46336 accepted 0  lowest_f 0.31745\n",
      "warning: basinhopping: local minimization failure\n",
      "basinhopping step 0: f 7.96175\n",
      "basinhopping step 1: f 3.69451 trial_f 3.69451 accepted 1  lowest_f 3.69451\n",
      "found new global minimum on step 1 with function value 3.69451\n",
      "basinhopping step 2: f 3.69451 trial_f 7.96175 accepted 0  lowest_f 3.69451\n",
      "basinhopping step 3: f 3.69451 trial_f 7.96175 accepted 0  lowest_f 3.69451\n",
      "basinhopping step 4: f 3.69451 trial_f 5.89403 accepted 0  lowest_f 3.69451\n",
      "adaptive stepsize: acceptance rate 0.200000 target 0.500000 new stepsize 0.45 old stepsize 0.5\n",
      "basinhopping step 5: f 3.69451 trial_f 7.96175 accepted 0  lowest_f 3.69451\n",
      "basinhopping step 6: f 3.69451 trial_f 7.96175 accepted 0  lowest_f 3.69451\n",
      "basinhopping step 7: f 0.510842 trial_f 0.510842 accepted 1  lowest_f 0.510842\n",
      "found new global minimum on step 7 with function value 0.510842\n",
      "basinhopping step 8: f 0.510842 trial_f 7.96175 accepted 0  lowest_f 0.510842\n",
      "basinhopping step 9: f 0.510842 trial_f 7.96175 accepted 0  lowest_f 0.510842\n",
      "adaptive stepsize: acceptance rate 0.200000 target 0.500000 new stepsize 0.405 old stepsize 0.45\n",
      "basinhopping step 10: f 0.510842 trial_f 4.39542 accepted 0  lowest_f 0.510842\n",
      "basinhopping step 11: f 0.510842 trial_f 7.96175 accepted 0  lowest_f 0.510842\n",
      "basinhopping step 12: f 0.599781 trial_f 0.599781 accepted 1  lowest_f 0.510842\n",
      "basinhopping step 13: f 1.92165 trial_f 1.92165 accepted 1  lowest_f 0.510842\n",
      "basinhopping step 14: f 1.903 trial_f 1.903 accepted 1  lowest_f 0.510842\n",
      "adaptive stepsize: acceptance rate 0.333333 target 0.500000 new stepsize 0.3645 old stepsize 0.405\n",
      "basinhopping step 15: f 1.903 trial_f 7.96175 accepted 0  lowest_f 0.510842\n",
      "basinhopping step 16: f 1.903 trial_f 7.96175 accepted 0  lowest_f 0.510842\n",
      "basinhopping step 17: f 1.903 trial_f 7.96175 accepted 0  lowest_f 0.510842\n",
      "warning: basinhopping: local minimization failure\n",
      "basinhopping step 18: f 2.00465 trial_f 2.00465 accepted 1  lowest_f 0.510842\n",
      "basinhopping step 19: f 2.00465 trial_f 7.96175 accepted 0  lowest_f 0.510842\n",
      "adaptive stepsize: acceptance rate 0.300000 target 0.500000 new stepsize 0.32805 old stepsize 0.3645\n",
      "basinhopping step 20: f 2.00465 trial_f 5.31119 accepted 0  lowest_f 0.510842\n",
      "basinhopping step 21: f 2.00465 trial_f 7.96175 accepted 0  lowest_f 0.510842\n",
      "basinhopping step 22: f 2.4797 trial_f 2.4797 accepted 1  lowest_f 0.510842\n",
      "basinhopping step 23: f 2.4797 trial_f 7.96175 accepted 0  lowest_f 0.510842\n",
      "warning: basinhopping: local minimization failure\n",
      "basinhopping step 24: f 0.73913 trial_f 0.73913 accepted 1  lowest_f 0.510842\n",
      "adaptive stepsize: acceptance rate 0.320000 target 0.500000 new stepsize 0.295245 old stepsize 0.32805\n",
      "basinhopping step 25: f 0.73913 trial_f 7.96175 accepted 0  lowest_f 0.510842\n",
      "basinhopping step 26: f 1.60282 trial_f 1.60282 accepted 1  lowest_f 0.510842\n",
      "basinhopping step 27: f 1.60284 trial_f 1.60284 accepted 1  lowest_f 0.510842\n",
      "basinhopping step 28: f 1.60284 trial_f 7.96175 accepted 0  lowest_f 0.510842\n",
      "warning: basinhopping: local minimization failure\n",
      "basinhopping step 0: f 0.551135\n",
      "basinhopping step 1: f 0.384596 trial_f 0.384596 accepted 1  lowest_f 0.384596\n",
      "found new global minimum on step 1 with function value 0.384596\n",
      "warning: basinhopping: local minimization failure\n",
      "basinhopping step 2: f 1.6096 trial_f 1.6096 accepted 1  lowest_f 0.384596\n",
      "warning: basinhopping: local minimization failure\n",
      "basinhopping step 3: f 1.48532 trial_f 1.48532 accepted 1  lowest_f 0.384596\n",
      "basinhopping step 4: f 1.48532 trial_f 7.96175 accepted 0  lowest_f 0.384596\n",
      "adaptive stepsize: acceptance rate 0.600000 target 0.500000 new stepsize 0.555556 old stepsize 0.5\n",
      "basinhopping step 5: f 0.672187 trial_f 0.672187 accepted 1  lowest_f 0.384596\n",
      "basinhopping step 6: f 1.20125 trial_f 1.20125 accepted 1  lowest_f 0.384596\n",
      "basinhopping step 7: f 1.20125 trial_f 7.80198 accepted 0  lowest_f 0.384596\n",
      "warning: basinhopping: local minimization failure\n",
      "basinhopping step 8: f 1.20125 trial_f 1.81956 accepted 0  lowest_f 0.384596\n",
      "basinhopping step 9: f 1.20125 trial_f 7.96175 accepted 0  lowest_f 0.384596\n",
      "adaptive stepsize: acceptance rate 0.500000 target 0.500000 new stepsize 0.5 old stepsize 0.555556\n",
      "warning: basinhopping: local minimization failure\n",
      "basinhopping step 10: f 0.409095 trial_f 0.409095 accepted 1  lowest_f 0.384596\n",
      "basinhopping step 11: f 0.409095 trial_f 7.96175 accepted 0  lowest_f 0.384596\n",
      "basinhopping step 12: f 0.409095 trial_f 7.96175 accepted 0  lowest_f 0.384596\n",
      "basinhopping step 13: f 0.409095 trial_f 7.96175 accepted 0  lowest_f 0.384596\n",
      "basinhopping step 14: f 0.409095 trial_f 4.62595 accepted 0  lowest_f 0.384596\n",
      "adaptive stepsize: acceptance rate 0.400000 target 0.500000 new stepsize 0.45 old stepsize 0.5\n",
      "basinhopping step 15: f 0.409095 trial_f 3.80629 accepted 0  lowest_f 0.384596\n",
      "basinhopping step 16: f 0.409095 trial_f 2.66642 accepted 0  lowest_f 0.384596\n",
      "warning: basinhopping: local minimization failure\n",
      "basinhopping step 17: f 0.409095 trial_f 3.46416 accepted 0  lowest_f 0.384596\n",
      "basinhopping step 18: f 0.409095 trial_f 7.96175 accepted 0  lowest_f 0.384596\n",
      "basinhopping step 19: f 0.479084 trial_f 0.479084 accepted 1  lowest_f 0.384596\n",
      "adaptive stepsize: acceptance rate 0.350000 target 0.500000 new stepsize 0.405 old stepsize 0.45\n",
      "basinhopping step 20: f 0.479084 trial_f 7.96175 accepted 0  lowest_f 0.384596\n",
      "warning: basinhopping: local minimization failure\n",
      "basinhopping step 21: f 0.479084 trial_f 0.731101 accepted 0  lowest_f 0.384596\n",
      "basinhopping step 22: f 0.421494 trial_f 0.421494 accepted 1  lowest_f 0.384596\n",
      "warning: basinhopping: local minimization failure\n",
      "basinhopping step 0: f 0.532174\n",
      "basinhopping step 1: f 0.577018 trial_f 0.577018 accepted 1  lowest_f 0.532174\n",
      "basinhopping step 2: f 0.577018 trial_f 7.96175 accepted 0  lowest_f 0.532174\n",
      "basinhopping step 3: f 0.577018 trial_f 7.96175 accepted 0  lowest_f 0.532174\n",
      "basinhopping step 4: f 0.577018 trial_f 7.96175 accepted 0  lowest_f 0.532174\n",
      "adaptive stepsize: acceptance rate 0.200000 target 0.500000 new stepsize 0.45 old stepsize 0.5\n",
      "basinhopping step 5: f 0.617378 trial_f 0.617378 accepted 1  lowest_f 0.532174\n",
      "basinhopping step 6: f 0.617378 trial_f 7.96175 accepted 0  lowest_f 0.532174\n",
      "basinhopping step 7: f 0.617378 trial_f 7.96175 accepted 0  lowest_f 0.532174\n",
      "basinhopping step 8: f 0.617378 trial_f 7.96175 accepted 0  lowest_f 0.532174\n",
      "basinhopping step 9: f 0.617378 trial_f 7.96175 accepted 0  lowest_f 0.532174\n",
      "adaptive stepsize: acceptance rate 0.200000 target 0.500000 new stepsize 0.405 old stepsize 0.45\n",
      "basinhopping step 10: f 0.617378 trial_f 7.96175 accepted 0  lowest_f 0.532174\n",
      "basinhopping step 11: f 0.617378 trial_f 2.75124 accepted 0  lowest_f 0.532174\n",
      "basinhopping step 12: f 0.617378 trial_f 1.97064 accepted 0  lowest_f 0.532174\n",
      "basinhopping step 13: f 0.617378 trial_f 7.96175 accepted 0  lowest_f 0.532174\n",
      "basinhopping step 14: f 0.617378 trial_f 7.96175 accepted 0  lowest_f 0.532174\n",
      "adaptive stepsize: acceptance rate 0.133333 target 0.500000 new stepsize 0.3645 old stepsize 0.405\n",
      "basinhopping step 15: f 0.617378 trial_f 7.96175 accepted 0  lowest_f 0.532174\n",
      "basinhopping step 16: f 0.617378 trial_f 7.96175 accepted 0  lowest_f 0.532174\n",
      "warning: basinhopping: local minimization failure\n",
      "basinhopping step 17: f 0.409586 trial_f 0.409586 accepted 1  lowest_f 0.409586\n",
      "found new global minimum on step 17 with function value 0.409586\n",
      "basinhopping step 18: f 1.16023 trial_f 1.16023 accepted 1  lowest_f 0.409586\n",
      "basinhopping step 19: f 1.16023 trial_f 3.93877 accepted 0  lowest_f 0.409586\n",
      "adaptive stepsize: acceptance rate 0.200000 target 0.500000 new stepsize 0.32805 old stepsize 0.3645\n",
      "basinhopping step 20: f 1.16023 trial_f 2.04878 accepted 0  lowest_f 0.409586\n",
      "basinhopping step 21: f 0.852762 trial_f 0.852762 accepted 1  lowest_f 0.409586\n",
      "basinhopping step 22: f 0.852762 trial_f 4.84621 accepted 0  lowest_f 0.409586\n",
      "basinhopping step 23: f 0.852762 trial_f 7.96175 accepted 0  lowest_f 0.409586\n",
      "basinhopping step 24: f 0.852762 trial_f 7.96175 accepted 0  lowest_f 0.409586\n",
      "adaptive stepsize: acceptance rate 0.200000 target 0.500000 new stepsize 0.295245 old stepsize 0.32805\n",
      "basinhopping step 25: f 0.852762 trial_f 2.80248 accepted 0  lowest_f 0.409586\n",
      "warning: basinhopping: local minimization failure\n",
      "basinhopping step 26: f 0.852762 trial_f 3.60125 accepted 0  lowest_f 0.409586\n",
      "basinhopping step 27: f 0.611382 trial_f 0.611382 accepted 1  lowest_f 0.409586\n",
      "basinhopping step 28: f 0.153028 trial_f 0.153028 accepted 1  lowest_f 0.153028\n",
      "found new global minimum on step 28 with function value 0.153028\n",
      "basinhopping step 29: f 0.153028 trial_f 7.96175 accepted 0  lowest_f 0.153028\n",
      "adaptive stepsize: acceptance rate 0.233333 target 0.500000 new stepsize 0.265721 old stepsize 0.295245\n",
      "basinhopping step 30: f 0.153028 trial_f 7.96175 accepted 0  lowest_f 0.153028\n",
      "basinhopping step 31: f 0.153028 trial_f 3.27912 accepted 0  lowest_f 0.153028\n",
      "basinhopping step 32: f 0.178307 trial_f 0.178307 accepted 1  lowest_f 0.153028\n",
      "basinhopping step 33: f 0.178307 trial_f 7.96175 accepted 0  lowest_f 0.153028\n",
      "basinhopping step 34: f 0.178307 trial_f 7.96175 accepted 0  lowest_f 0.153028\n",
      "adaptive stepsize: acceptance rate 0.228571 target 0.500000 new stepsize 0.239148 old stepsize 0.265721\n",
      "basinhopping step 35: f 0.471432 trial_f 0.471432 accepted 1  lowest_f 0.153028\n",
      "basinhopping step 36: f 0.471432 trial_f 2.93869 accepted 0  lowest_f 0.153028\n",
      "basinhopping step 37: f 0.471432 trial_f 2.25094 accepted 0  lowest_f 0.153028\n",
      "basinhopping step 38: f 0.723538 trial_f 0.723538 accepted 1  lowest_f 0.153028\n",
      "basinhopping step 39: f 0.723538 trial_f 7.96175 accepted 0  lowest_f 0.153028\n",
      "adaptive stepsize: acceptance rate 0.250000 target 0.500000 new stepsize 0.215234 old stepsize 0.239148\n",
      "basinhopping step 40: f 0.478214 trial_f 0.478214 accepted 1  lowest_f 0.153028\n",
      "basinhopping step 41: f 0.597332 trial_f 0.597332 accepted 1  lowest_f 0.153028\n",
      "basinhopping step 42: f 0.597332 trial_f 7.96175 accepted 0  lowest_f 0.153028\n",
      "warning: basinhopping: local minimization failure\n",
      "basinhopping step 43: f 0.597332 trial_f 1.13826 accepted 0  lowest_f 0.153028\n",
      "basinhopping step 44: f 0.417695 trial_f 0.417695 accepted 1  lowest_f 0.153028\n",
      "adaptive stepsize: acceptance rate 0.288889 target 0.500000 new stepsize 0.19371 old stepsize 0.215234\n",
      "basinhopping step 45: f 0.417695 trial_f 0.497617 accepted 0  lowest_f 0.153028\n",
      "basinhopping step 46: f 0.417695 trial_f 7.96175 accepted 0  lowest_f 0.153028\n",
      "basinhopping step 47: f 0.417695 trial_f 7.96175 accepted 0  lowest_f 0.153028\n",
      "basinhopping step 48: f 0.417695 trial_f 3.12348 accepted 0  lowest_f 0.153028\n",
      "basinhopping step 49: f 0.417695 trial_f 7.96175 accepted 0  lowest_f 0.153028\n",
      "basinhopping step 0: f 0.468032\n",
      "basinhopping step 1: f 0.468032 trial_f 7.96175 accepted 0  lowest_f 0.468032\n",
      "basinhopping step 2: f 0.468032 trial_f 7.96175 accepted 0  lowest_f 0.468032\n",
      "basinhopping step 3: f 0.357405 trial_f 0.357405 accepted 1  lowest_f 0.357405\n",
      "found new global minimum on step 3 with function value 0.357405\n",
      "basinhopping step 4: f 0.357405 trial_f 7.96175 accepted 0  lowest_f 0.357405\n",
      "adaptive stepsize: acceptance rate 0.200000 target 0.500000 new stepsize 0.45 old stepsize 0.5\n",
      "basinhopping step 5: f 0.357405 trial_f 3.38733 accepted 0  lowest_f 0.357405\n",
      "basinhopping step 6: f 0.357405 trial_f 7.96175 accepted 0  lowest_f 0.357405\n",
      "warning: basinhopping: local minimization failure\n",
      "basinhopping step 7: f 0.357405 trial_f 3.06416 accepted 0  lowest_f 0.357405\n",
      "basinhopping step 8: f 0.357405 trial_f 7.96175 accepted 0  lowest_f 0.357405\n",
      "basinhopping step 9: f 2.73606 trial_f 2.73606 accepted 1  lowest_f 0.357405\n",
      "adaptive stepsize: acceptance rate 0.200000 target 0.500000 new stepsize 0.405 old stepsize 0.45\n",
      "warning: basinhopping: local minimization failure\n",
      "basinhopping step 10: f 2.73606 trial_f 3.86351 accepted 0  lowest_f 0.357405\n",
      "basinhopping step 11: f 0.390752 trial_f 0.390752 accepted 1  lowest_f 0.357405\n",
      "basinhopping step 12: f 0.390752 trial_f 7.96175 accepted 0  lowest_f 0.357405\n",
      "basinhopping step 13: f 0.390752 trial_f 7.96175 accepted 0  lowest_f 0.357405\n",
      "basinhopping step 14: f 0.390752 trial_f 7.96175 accepted 0  lowest_f 0.357405\n",
      "adaptive stepsize: acceptance rate 0.200000 target 0.500000 new stepsize 0.3645 old stepsize 0.405\n",
      "basinhopping step 15: f 0.614545 trial_f 0.614545 accepted 1  lowest_f 0.357405\n",
      "basinhopping step 16: f 0.614545 trial_f 7.96175 accepted 0  lowest_f 0.357405\n",
      "basinhopping step 17: f 0.614545 trial_f 7.96175 accepted 0  lowest_f 0.357405\n",
      "basinhopping step 18: f 0.614545 trial_f 7.96175 accepted 0  lowest_f 0.357405\n",
      "basinhopping step 19: f 0.590675 trial_f 0.590675 accepted 1  lowest_f 0.357405\n",
      "adaptive stepsize: acceptance rate 0.250000 target 0.500000 new stepsize 0.32805 old stepsize 0.3645\n",
      "warning: basinhopping: local minimization failure\n",
      "basinhopping step 20: f 0.538688 trial_f 0.538688 accepted 1  lowest_f 0.357405\n",
      "basinhopping step 21: f 0.538688 trial_f 7.96175 accepted 0  lowest_f 0.357405\n",
      "basinhopping step 22: f 0.538688 trial_f 7.96175 accepted 0  lowest_f 0.357405\n",
      "basinhopping step 23: f 0.538688 trial_f 3.01469 accepted 0  lowest_f 0.357405\n",
      "basinhopping step 24: f 0.538688 trial_f 7.96175 accepted 0  lowest_f 0.357405\n",
      "basinhopping step 0: f 0.432949\n",
      "basinhopping step 1: f 0.432949 trial_f 2.46442 accepted 0  lowest_f 0.432949\n",
      "warning: basinhopping: local minimization failure\n",
      "basinhopping step 2: f 0.160937 trial_f 0.160937 accepted 1  lowest_f 0.160937\n",
      "found new global minimum on step 2 with function value 0.160937\n",
      "basinhopping step 3: f 0.160937 trial_f 5.99982 accepted 0  lowest_f 0.160937\n",
      "warning: basinhopping: local minimization failure\n",
      "basinhopping step 4: f 0.160937 trial_f 5.52665 accepted 0  lowest_f 0.160937\n",
      "adaptive stepsize: acceptance rate 0.200000 target 0.500000 new stepsize 0.45 old stepsize 0.5\n",
      "basinhopping step 5: f 2.10129 trial_f 2.10129 accepted 1  lowest_f 0.160937\n",
      "basinhopping step 6: f 0.411701 trial_f 0.411701 accepted 1  lowest_f 0.160937\n",
      "basinhopping step 7: f 0.411701 trial_f 7.96175 accepted 0  lowest_f 0.160937\n",
      "basinhopping step 8: f 0.450356 trial_f 0.450356 accepted 1  lowest_f 0.160937\n",
      "basinhopping step 9: f 0.450356 trial_f 3.10423 accepted 0  lowest_f 0.160937\n",
      "adaptive stepsize: acceptance rate 0.400000 target 0.500000 new stepsize 0.405 old stepsize 0.45\n",
      "basinhopping step 10: f 0.450356 trial_f 7.96175 accepted 0  lowest_f 0.160937\n",
      "basinhopping step 11: f 0.450356 trial_f 7.96175 accepted 0  lowest_f 0.160937\n",
      "basinhopping step 12: f 0.450356 trial_f 7.96175 accepted 0  lowest_f 0.160937\n",
      "basinhopping step 13: f 0.450356 trial_f 1.36296 accepted 0  lowest_f 0.160937\n",
      "warning: basinhopping: local minimization failure\n",
      "basinhopping step 14: f 0.450356 trial_f 5.37425 accepted 0  lowest_f 0.160937\n",
      "adaptive stepsize: acceptance rate 0.266667 target 0.500000 new stepsize 0.3645 old stepsize 0.405\n",
      "basinhopping step 15: f 2.48261 trial_f 2.48261 accepted 1  lowest_f 0.160937\n",
      "basinhopping step 16: f 2.48261 trial_f 7.96175 accepted 0  lowest_f 0.160937\n",
      "basinhopping step 17: f 1.40132 trial_f 1.40132 accepted 1  lowest_f 0.160937\n",
      "basinhopping step 18: f 2.37933 trial_f 2.37933 accepted 1  lowest_f 0.160937\n",
      "basinhopping step 19: f 2.37933 trial_f 7.96175 accepted 0  lowest_f 0.160937\n",
      "adaptive stepsize: acceptance rate 0.350000 target 0.500000 new stepsize 0.32805 old stepsize 0.3645\n",
      "warning: basinhopping: local minimization failure\n",
      "basinhopping step 20: f 3.57942 trial_f 3.57942 accepted 1  lowest_f 0.160937\n",
      "basinhopping step 21: f 3.29786 trial_f 3.29786 accepted 1  lowest_f 0.160937\n",
      "basinhopping step 22: f 3.29786 trial_f 7.96175 accepted 0  lowest_f 0.160937\n",
      "basinhopping step 23: f 3.29786 trial_f 7.96175 accepted 0  lowest_f 0.160937\n",
      "warning: basinhopping: local minimization failure\n",
      "basinhopping step 0: f 0.632319\n",
      "basinhopping step 1: f 0.632319 trial_f 7.96175 accepted 0  lowest_f 0.632319\n",
      "basinhopping step 2: f 0.632319 trial_f 7.96175 accepted 0  lowest_f 0.632319\n",
      "basinhopping step 3: f 0.802363 trial_f 0.802363 accepted 1  lowest_f 0.632319\n",
      "warning: basinhopping: local minimization failure\n",
      "basinhopping step 4: f 0.446443 trial_f 0.446443 accepted 1  lowest_f 0.446443\n",
      "found new global minimum on step 4 with function value 0.446443\n",
      "adaptive stepsize: acceptance rate 0.400000 target 0.500000 new stepsize 0.45 old stepsize 0.5\n",
      "basinhopping step 5: f 0.446443 trial_f 1.9108 accepted 0  lowest_f 0.446443\n",
      "basinhopping step 6: f 0.968511 trial_f 0.968511 accepted 1  lowest_f 0.446443\n",
      "basinhopping step 7: f 0.968511 trial_f 7.96175 accepted 0  lowest_f 0.446443\n",
      "basinhopping step 8: f 0.507889 trial_f 0.507889 accepted 1  lowest_f 0.446443\n",
      "warning: basinhopping: local minimization failure\n",
      "basinhopping step 9: f 1.67543 trial_f 1.67543 accepted 1  lowest_f 0.446443\n",
      "adaptive stepsize: acceptance rate 0.500000 target 0.500000 new stepsize 0.405 old stepsize 0.45\n",
      "basinhopping step 10: f 1.67543 trial_f 7.96175 accepted 0  lowest_f 0.446443\n",
      "basinhopping step 11: f 1.67543 trial_f 7.96175 accepted 0  lowest_f 0.446443\n",
      "basinhopping step 12: f 0.791225 trial_f 0.791225 accepted 1  lowest_f 0.446443\n",
      "basinhopping step 13: f 0.791225 trial_f 6.10506 accepted 0  lowest_f 0.446443\n",
      "warning: basinhopping: local minimization failure\n",
      "basinhopping step 14: f 0.791225 trial_f 4.20704 accepted 0  lowest_f 0.446443\n",
      "adaptive stepsize: acceptance rate 0.400000 target 0.500000 new stepsize 0.3645 old stepsize 0.405\n",
      "basinhopping step 15: f 0.791225 trial_f 7.96175 accepted 0  lowest_f 0.446443\n",
      "basinhopping step 16: f 0.445529 trial_f 0.445529 accepted 1  lowest_f 0.445529\n",
      "found new global minimum on step 16 with function value 0.445529\n",
      "basinhopping step 17: f 0.445529 trial_f 7.96175 accepted 0  lowest_f 0.445529\n",
      "basinhopping step 18: f 0.445529 trial_f 7.96175 accepted 0  lowest_f 0.445529\n",
      "basinhopping step 19: f 0.445529 trial_f 7.96175 accepted 0  lowest_f 0.445529\n",
      "adaptive stepsize: acceptance rate 0.350000 target 0.500000 new stepsize 0.32805 old stepsize 0.3645\n",
      "basinhopping step 20: f 0.445529 trial_f 7.96175 accepted 0  lowest_f 0.445529\n",
      "basinhopping step 21: f 0.503234 trial_f 0.503234 accepted 1  lowest_f 0.445529\n",
      "basinhopping step 22: f 0.503234 trial_f 7.96175 accepted 0  lowest_f 0.445529\n",
      "basinhopping step 23: f 0.503234 trial_f 7.96175 accepted 0  lowest_f 0.445529\n",
      "basinhopping step 24: f 0.503234 trial_f 7.96175 accepted 0  lowest_f 0.445529\n",
      "adaptive stepsize: acceptance rate 0.320000 target 0.500000 new stepsize 0.295245 old stepsize 0.32805\n",
      "basinhopping step 25: f 0.503234 trial_f 7.96175 accepted 0  lowest_f 0.445529\n",
      "basinhopping step 26: f 0.503234 trial_f 7.96175 accepted 0  lowest_f 0.445529\n",
      "basinhopping step 27: f 0.503234 trial_f 7.96175 accepted 0  lowest_f 0.445529\n",
      "basinhopping step 28: f 0.503234 trial_f 7.96175 accepted 0  lowest_f 0.445529\n",
      "basinhopping step 29: f 0.588613 trial_f 0.588613 accepted 1  lowest_f 0.445529\n",
      "adaptive stepsize: acceptance rate 0.300000 target 0.500000 new stepsize 0.265721 old stepsize 0.295245\n",
      "basinhopping step 30: f 0.588613 trial_f 5.11579 accepted 0  lowest_f 0.445529\n",
      "warning: basinhopping: local minimization failure\n",
      "basinhopping step 31: f 0.447669 trial_f 0.447669 accepted 1  lowest_f 0.445529\n",
      "warning: basinhopping: local minimization failure\n",
      "basinhopping step 32: f 0.447669 trial_f 7.96175 accepted 0  lowest_f 0.445529\n",
      "basinhopping step 33: f 0.447669 trial_f 7.96175 accepted 0  lowest_f 0.445529\n",
      "basinhopping step 34: f 0.447669 trial_f 7.96175 accepted 0  lowest_f 0.445529\n",
      "adaptive stepsize: acceptance rate 0.285714 target 0.500000 new stepsize 0.239148 old stepsize 0.265721\n",
      "basinhopping step 35: f 0.447669 trial_f 7.96175 accepted 0  lowest_f 0.445529\n",
      "warning: basinhopping: local minimization failure\n",
      "basinhopping step 36: f 0.447669 trial_f 7.96175 accepted 0  lowest_f 0.445529\n",
      "warning: basinhopping: local minimization failure\n",
      "basinhopping step 37: f 0.447669 trial_f 7.96175 accepted 0  lowest_f 0.445529\n",
      "basinhopping step 0: f 7.96175\n",
      "basinhopping step 1: f 0.446945 trial_f 0.446945 accepted 1  lowest_f 0.446945\n",
      "found new global minimum on step 1 with function value 0.446945\n",
      "basinhopping step 2: f 0.446945 trial_f 4.07013 accepted 0  lowest_f 0.446945\n",
      "basinhopping step 3: f 0.446945 trial_f 7.96175 accepted 0  lowest_f 0.446945\n",
      "basinhopping step 4: f 0.382399 trial_f 0.382399 accepted 1  lowest_f 0.382399\n",
      "found new global minimum on step 4 with function value 0.382399\n",
      "adaptive stepsize: acceptance rate 0.400000 target 0.500000 new stepsize 0.45 old stepsize 0.5\n",
      "basinhopping step 5: f 0.382399 trial_f 7.96175 accepted 0  lowest_f 0.382399\n",
      "warning: basinhopping: local minimization failure\n",
      "basinhopping step 6: f 0.382399 trial_f 3.03105 accepted 0  lowest_f 0.382399\n",
      "basinhopping step 7: f 0.382399 trial_f 2.30744 accepted 0  lowest_f 0.382399\n",
      "basinhopping step 8: f 0.382399 trial_f 7.96175 accepted 0  lowest_f 0.382399\n",
      "warning: basinhopping: local minimization failure\n",
      "basinhopping step 9: f 0.382399 trial_f 2.01549 accepted 0  lowest_f 0.382399\n",
      "adaptive stepsize: acceptance rate 0.200000 target 0.500000 new stepsize 0.405 old stepsize 0.45\n",
      "basinhopping step 10: f 0.382399 trial_f 5.02654 accepted 0  lowest_f 0.382399\n",
      "warning: basinhopping: local minimization failure\n",
      "basinhopping step 11: f 0.382399 trial_f 3.14119 accepted 0  lowest_f 0.382399\n",
      "basinhopping step 12: f 0.382399 trial_f 7.96175 accepted 0  lowest_f 0.382399\n",
      "basinhopping step 13: f 0.382399 trial_f 7.96175 accepted 0  lowest_f 0.382399\n",
      "basinhopping step 14: f 0.382399 trial_f 7.96175 accepted 0  lowest_f 0.382399\n",
      "adaptive stepsize: acceptance rate 0.133333 target 0.500000 new stepsize 0.3645 old stepsize 0.405\n",
      "basinhopping step 15: f 0.382399 trial_f 7.96175 accepted 0  lowest_f 0.382399\n",
      "basinhopping step 16: f 0.382399 trial_f 7.96175 accepted 0  lowest_f 0.382399\n",
      "basinhopping step 17: f 0.541788 trial_f 0.541788 accepted 1  lowest_f 0.382399\n",
      "basinhopping step 18: f 0.506121 trial_f 0.506121 accepted 1  lowest_f 0.382399\n",
      "basinhopping step 19: f 0.506121 trial_f 7.96175 accepted 0  lowest_f 0.382399\n",
      "adaptive stepsize: acceptance rate 0.200000 target 0.500000 new stepsize 0.32805 old stepsize 0.3645\n",
      "basinhopping step 20: f 0.506121 trial_f 7.96175 accepted 0  lowest_f 0.382399\n",
      "basinhopping step 21: f 0.562144 trial_f 0.562144 accepted 1  lowest_f 0.382399\n",
      "basinhopping step 22: f 0.562144 trial_f 7.96175 accepted 0  lowest_f 0.382399\n",
      "basinhopping step 23: f 0.562144 trial_f 7.96175 accepted 0  lowest_f 0.382399\n",
      "basinhopping step 24: f 0.371643 trial_f 0.371643 accepted 1  lowest_f 0.371643\n",
      "found new global minimum on step 24 with function value 0.371643\n",
      "adaptive stepsize: acceptance rate 0.240000 target 0.500000 new stepsize 0.295245 old stepsize 0.32805\n",
      "basinhopping step 25: f 0.371643 trial_f 7.96175 accepted 0  lowest_f 0.371643\n",
      "basinhopping step 26: f 0.371643 trial_f 7.96175 accepted 0  lowest_f 0.371643\n",
      "basinhopping step 27: f 0.371643 trial_f 7.96175 accepted 0  lowest_f 0.371643\n",
      "warning: basinhopping: local minimization failure\n",
      "basinhopping step 28: f 0.414903 trial_f 0.414903 accepted 1  lowest_f 0.371643\n",
      "warning: basinhopping: local minimization failure\n",
      "basinhopping step 29: f 0.496226 trial_f 0.496226 accepted 1  lowest_f 0.371643\n",
      "adaptive stepsize: acceptance rate 0.266667 target 0.500000 new stepsize 0.265721 old stepsize 0.295245\n",
      "warning: basinhopping: local minimization failure\n",
      "basinhopping step 30: f 0.496226 trial_f 3.42355 accepted 0  lowest_f 0.371643\n",
      "basinhopping step 31: f 0.496226 trial_f 4.33725 accepted 0  lowest_f 0.371643\n",
      "basinhopping step 32: f 0.496226 trial_f 7.96175 accepted 0  lowest_f 0.371643\n",
      "warning: basinhopping: local minimization failure\n",
      "basinhopping step 33: f 0.496226 trial_f 1.44318 accepted 0  lowest_f 0.371643\n",
      "warning: basinhopping: local minimization failure\n",
      "basinhopping step 34: f 0.496226 trial_f 1.73591 accepted 0  lowest_f 0.371643\n",
      "adaptive stepsize: acceptance rate 0.228571 target 0.500000 new stepsize 0.239148 old stepsize 0.265721\n",
      "basinhopping step 35: f 0.496226 trial_f 4.80027 accepted 0  lowest_f 0.371643\n",
      "basinhopping step 36: f 0.496226 trial_f 4.1354 accepted 0  lowest_f 0.371643\n",
      "basinhopping step 37: f 0.496226 trial_f 2.13957 accepted 0  lowest_f 0.371643\n",
      "basinhopping step 38: f 0.496226 trial_f 7.96175 accepted 0  lowest_f 0.371643\n",
      "basinhopping step 39: f 0.65793 trial_f 0.65793 accepted 1  lowest_f 0.371643\n",
      "adaptive stepsize: acceptance rate 0.225000 target 0.500000 new stepsize 0.215234 old stepsize 0.239148\n",
      "basinhopping step 40: f 0.65793 trial_f 1.90918 accepted 0  lowest_f 0.371643\n",
      "basinhopping step 41: f 0.65793 trial_f 1.25145 accepted 0  lowest_f 0.371643\n",
      "basinhopping step 42: f 0.583198 trial_f 0.583198 accepted 1  lowest_f 0.371643\n",
      "basinhopping step 43: f 0.354478 trial_f 0.354478 accepted 1  lowest_f 0.354478\n",
      "found new global minimum on step 43 with function value 0.354478\n",
      "basinhopping step 44: f 0.354478 trial_f 7.96175 accepted 0  lowest_f 0.354478\n",
      "adaptive stepsize: acceptance rate 0.244444 target 0.500000 new stepsize 0.19371 old stepsize 0.215234\n",
      "basinhopping step 45: f 0.528376 trial_f 0.528376 accepted 1  lowest_f 0.354478\n",
      "warning: basinhopping: local minimization failure\n",
      "basinhopping step 46: f 0.501174 trial_f 0.501174 accepted 1  lowest_f 0.354478\n",
      "basinhopping step 47: f 0.501174 trial_f 7.96175 accepted 0  lowest_f 0.354478\n",
      "basinhopping step 48: f 0.40554 trial_f 0.40554 accepted 1  lowest_f 0.354478\n",
      "warning: basinhopping: local minimization failure\n",
      "basinhopping step 49: f 0.478111 trial_f 0.478111 accepted 1  lowest_f 0.354478\n",
      "adaptive stepsize: acceptance rate 0.300000 target 0.500000 new stepsize 0.174339 old stepsize 0.19371\n",
      "basinhopping step 50: f 0.478111 trial_f 7.96175 accepted 0  lowest_f 0.354478\n",
      "basinhopping step 51: f 0.963781 trial_f 0.963781 accepted 1  lowest_f 0.354478\n",
      "basinhopping step 52: f 0.487848 trial_f 0.487848 accepted 1  lowest_f 0.354478\n",
      "basinhopping step 53: f 0.487848 trial_f 7.96175 accepted 0  lowest_f 0.354478\n",
      "basinhopping step 54: f 0.487848 trial_f 1.84469 accepted 0  lowest_f 0.354478\n",
      "adaptive stepsize: acceptance rate 0.309091 target 0.500000 new stepsize 0.156905 old stepsize 0.174339\n",
      "basinhopping step 55: f 0.487848 trial_f 3.39972 accepted 0  lowest_f 0.354478\n",
      "basinhopping step 56: f 0.489022 trial_f 0.489022 accepted 1  lowest_f 0.354478\n",
      "basinhopping step 57: f 0.340492 trial_f 0.340492 accepted 1  lowest_f 0.340492\n",
      "found new global minimum on step 57 with function value 0.340492\n",
      "basinhopping step 58: f 0.340492 trial_f 7.96175 accepted 0  lowest_f 0.340492\n",
      "basinhopping step 59: f 0.340492 trial_f 7.96175 accepted 0  lowest_f 0.340492\n",
      "adaptive stepsize: acceptance rate 0.316667 target 0.500000 new stepsize 0.141215 old stepsize 0.156905\n",
      "basinhopping step 60: f 0.340492 trial_f 7.96175 accepted 0  lowest_f 0.340492\n",
      "basinhopping step 61: f 0.357059 trial_f 0.357059 accepted 1  lowest_f 0.340492\n",
      "basinhopping step 62: f 0.402403 trial_f 0.402403 accepted 1  lowest_f 0.340492\n",
      "basinhopping step 63: f 0.402403 trial_f 7.96175 accepted 0  lowest_f 0.340492\n",
      "basinhopping step 64: f 0.690068 trial_f 0.690068 accepted 1  lowest_f 0.340492\n",
      "adaptive stepsize: acceptance rate 0.338462 target 0.500000 new stepsize 0.127093 old stepsize 0.141215\n",
      "basinhopping step 65: f 0.711076 trial_f 0.711076 accepted 1  lowest_f 0.340492\n",
      "basinhopping step 66: f 0.711076 trial_f 7.96175 accepted 0  lowest_f 0.340492\n",
      "basinhopping step 67: f 0.282278 trial_f 0.282278 accepted 1  lowest_f 0.282278\n",
      "found new global minimum on step 67 with function value 0.282278\n",
      "basinhopping step 68: f 0.472219 trial_f 0.472219 accepted 1  lowest_f 0.282278\n",
      "basinhopping step 69: f 0.506556 trial_f 0.506556 accepted 1  lowest_f 0.282278\n",
      "adaptive stepsize: acceptance rate 0.371429 target 0.500000 new stepsize 0.114384 old stepsize 0.127093\n",
      "basinhopping step 70: f 0.700016 trial_f 0.700016 accepted 1  lowest_f 0.282278\n",
      "basinhopping step 71: f 0.303118 trial_f 0.303118 accepted 1  lowest_f 0.282278\n",
      "basinhopping step 72: f 0.481719 trial_f 0.481719 accepted 1  lowest_f 0.282278\n",
      "basinhopping step 73: f 0.481719 trial_f 7.96175 accepted 0  lowest_f 0.282278\n",
      "basinhopping step 74: f 2.38472 trial_f 2.38472 accepted 1  lowest_f 0.282278\n",
      "adaptive stepsize: acceptance rate 0.400000 target 0.500000 new stepsize 0.102946 old stepsize 0.114384\n",
      "warning: basinhopping: local minimization failure\n",
      "basinhopping step 75: f 2.75717 trial_f 2.75717 accepted 1  lowest_f 0.282278\n",
      "warning: basinhopping: local minimization failure\n",
      "basinhopping step 76: f 0.775203 trial_f 0.775203 accepted 1  lowest_f 0.282278\n",
      "basinhopping step 77: f 0.775203 trial_f 2.21339 accepted 0  lowest_f 0.282278\n",
      "basinhopping step 78: f 0.49001 trial_f 0.49001 accepted 1  lowest_f 0.282278\n",
      "warning: basinhopping: local minimization failure\n",
      "basinhopping step 79: f 0.49001 trial_f 1.86994 accepted 0  lowest_f 0.282278\n",
      "adaptive stepsize: acceptance rate 0.412500 target 0.500000 new stepsize 0.092651 old stepsize 0.102946\n",
      "warning: basinhopping: local minimization failure\n",
      "basinhopping step 80: f 0.49001 trial_f 1.15505 accepted 0  lowest_f 0.282278\n",
      "warning: basinhopping: local minimization failure\n",
      "basinhopping step 81: f 0.625896 trial_f 0.625896 accepted 1  lowest_f 0.282278\n",
      "basinhopping step 82: f 0.625896 trial_f 7.96175 accepted 0  lowest_f 0.282278\n",
      "basinhopping step 83: f 0.473115 trial_f 0.473115 accepted 1  lowest_f 0.282278\n",
      "basinhopping step 84: f 0.473115 trial_f 7.96175 accepted 0  lowest_f 0.282278\n",
      "adaptive stepsize: acceptance rate 0.411765 target 0.500000 new stepsize 0.0833859 old stepsize 0.092651\n",
      "warning: basinhopping: local minimization failure\n",
      "basinhopping step 85: f 0.311597 trial_f 0.311597 accepted 1  lowest_f 0.282278\n",
      "warning: basinhopping: local minimization failure\n",
      "basinhopping step 86: f 0.311597 trial_f 1.37808 accepted 0  lowest_f 0.282278\n",
      "basinhopping step 87: f 0.311597 trial_f 0.602466 accepted 0  lowest_f 0.282278\n",
      "basinhopping step 88: f 0.703496 trial_f 0.703496 accepted 1  lowest_f 0.282278\n",
      "basinhopping step 0: f 0.402755\n",
      "basinhopping step 1: f 0.402755 trial_f 7.96175 accepted 0  lowest_f 0.402755\n",
      "basinhopping step 2: f 0.402755 trial_f 7.96175 accepted 0  lowest_f 0.402755\n",
      "basinhopping step 3: f 0.402755 trial_f 7.96175 accepted 0  lowest_f 0.402755\n",
      "basinhopping step 4: f 0.402755 trial_f 7.96175 accepted 0  lowest_f 0.402755\n",
      "adaptive stepsize: acceptance rate 0.000000 target 0.500000 new stepsize 0.45 old stepsize 0.5\n",
      "warning: basinhopping: local minimization failure\n",
      "basinhopping step 5: f 0.402755 trial_f 7.43155 accepted 0  lowest_f 0.402755\n",
      "basinhopping step 6: f 0.646164 trial_f 0.646164 accepted 1  lowest_f 0.402755\n",
      "basinhopping step 7: f 0.558081 trial_f 0.558081 accepted 1  lowest_f 0.402755\n",
      "warning: basinhopping: local minimization failure\n",
      "basinhopping step 8: f 0.373557 trial_f 0.373557 accepted 1  lowest_f 0.373557\n",
      "found new global minimum on step 8 with function value 0.373557\n",
      "warning: basinhopping: local minimization failure\n",
      "basinhopping step 9: f 1.39634 trial_f 1.39634 accepted 1  lowest_f 0.373557\n",
      "adaptive stepsize: acceptance rate 0.400000 target 0.500000 new stepsize 0.405 old stepsize 0.45\n",
      "basinhopping step 10: f 1.39634 trial_f 7.96175 accepted 0  lowest_f 0.373557\n",
      "basinhopping step 11: f 1.39634 trial_f 7.96175 accepted 0  lowest_f 0.373557\n",
      "basinhopping step 12: f 1.39634 trial_f 7.96175 accepted 0  lowest_f 0.373557\n",
      "basinhopping step 13: f 1.39634 trial_f 7.96175 accepted 0  lowest_f 0.373557\n",
      "basinhopping step 14: f 0.197211 trial_f 0.197211 accepted 1  lowest_f 0.197211\n",
      "found new global minimum on step 14 with function value 0.197211\n",
      "adaptive stepsize: acceptance rate 0.333333 target 0.500000 new stepsize 0.3645 old stepsize 0.405\n",
      "basinhopping step 15: f 0.237064 trial_f 0.237064 accepted 1  lowest_f 0.197211\n",
      "basinhopping step 16: f 0.237064 trial_f 7.96175 accepted 0  lowest_f 0.197211\n",
      "basinhopping step 17: f 0.237064 trial_f 7.96175 accepted 0  lowest_f 0.197211\n",
      "warning: basinhopping: local minimization failure\n",
      "basinhopping step 18: f 0.612237 trial_f 0.612237 accepted 1  lowest_f 0.197211\n",
      "basinhopping step 19: f 0.612237 trial_f 7.96175 accepted 0  lowest_f 0.197211\n",
      "adaptive stepsize: acceptance rate 0.350000 target 0.500000 new stepsize 0.32805 old stepsize 0.3645\n",
      "basinhopping step 20: f 0.612237 trial_f 7.96175 accepted 0  lowest_f 0.197211\n",
      "basinhopping step 21: f 0.612237 trial_f 7.96175 accepted 0  lowest_f 0.197211\n",
      "basinhopping step 22: f 0.612237 trial_f 7.96175 accepted 0  lowest_f 0.197211\n",
      "basinhopping step 23: f 0.612237 trial_f 7.96175 accepted 0  lowest_f 0.197211\n",
      "basinhopping step 24: f 0.612237 trial_f 7.96175 accepted 0  lowest_f 0.197211\n",
      "adaptive stepsize: acceptance rate 0.280000 target 0.500000 new stepsize 0.295245 old stepsize 0.32805\n",
      "warning: basinhopping: local minimization failure\n",
      "basinhopping step 25: f 0.467494 trial_f 0.467494 accepted 1  lowest_f 0.197211\n",
      "basinhopping step 26: f 0.467494 trial_f 7.96175 accepted 0  lowest_f 0.197211\n",
      "basinhopping step 27: f 0.259849 trial_f 0.259849 accepted 1  lowest_f 0.197211\n",
      "basinhopping step 28: f 0.259849 trial_f 7.96175 accepted 0  lowest_f 0.197211\n",
      "basinhopping step 29: f 0.259849 trial_f 7.96175 accepted 0  lowest_f 0.197211\n",
      "adaptive stepsize: acceptance rate 0.300000 target 0.500000 new stepsize 0.265721 old stepsize 0.295245\n",
      "basinhopping step 30: f 0.259849 trial_f 7.96175 accepted 0  lowest_f 0.197211\n",
      "warning: basinhopping: local minimization failure\n",
      "basinhopping step 31: f 0.259849 trial_f 2.34617 accepted 0  lowest_f 0.197211\n",
      "basinhopping step 32: f 0.259849 trial_f 7.96175 accepted 0  lowest_f 0.197211\n",
      "basinhopping step 33: f 0.259849 trial_f 7.96175 accepted 0  lowest_f 0.197211\n",
      "basinhopping step 34: f 0.498905 trial_f 0.498905 accepted 1  lowest_f 0.197211\n",
      "adaptive stepsize: acceptance rate 0.285714 target 0.500000 new stepsize 0.239148 old stepsize 0.265721\n",
      "basinhopping step 35: f 0.498905 trial_f 1.58782 accepted 0  lowest_f 0.197211\n",
      "Warning: Maximum number of iterations has been exceeded.\n",
      "basinhopping step 0: f 1.76024\n",
      "basinhopping step 1: f 2.14496 trial_f 2.14496 accepted 1  lowest_f 1.76024\n",
      "basinhopping step 2: f 2.18998 trial_f 2.18998 accepted 1  lowest_f 1.76024\n",
      "basinhopping step 3: f 2.18998 trial_f 2.53891 accepted 0  lowest_f 1.76024\n",
      "basinhopping step 4: f 2.56545 trial_f 2.56545 accepted 1  lowest_f 1.76024\n",
      "adaptive stepsize: acceptance rate 0.600000 target 0.500000 new stepsize 0.555556 old stepsize 0.5\n",
      "basinhopping step 5: f 2.4469 trial_f 2.4469 accepted 1  lowest_f 1.76024\n",
      "warning: basinhopping: local minimization failure\n",
      "basinhopping step 6: f 2.48892 trial_f 2.48892 accepted 1  lowest_f 1.76024\n",
      "basinhopping step 7: f 2.1088 trial_f 2.1088 accepted 1  lowest_f 1.76024\n",
      "basinhopping step 8: f 2.34453 trial_f 2.34453 accepted 1  lowest_f 1.76024\n",
      "basinhopping step 9: f 2.34453 trial_f 3.05804 accepted 0  lowest_f 1.76024\n",
      "adaptive stepsize: acceptance rate 0.700000 target 0.500000 new stepsize 0.617284 old stepsize 0.555556\n",
      "basinhopping step 10: f 2.49574 trial_f 2.49574 accepted 1  lowest_f 1.76024\n",
      "basinhopping step 11: f 2.49574 trial_f 2.70274 accepted 0  lowest_f 1.76024\n",
      "basinhopping step 12: f 2.49574 trial_f 2.67 accepted 0  lowest_f 1.76024\n",
      "basinhopping step 13: f 1.64233 trial_f 1.64233 accepted 1  lowest_f 1.64233\n",
      "found new global minimum on step 13 with function value 1.64233\n",
      "basinhopping step 14: f 1.98851 trial_f 1.98851 accepted 1  lowest_f 1.64233\n",
      "adaptive stepsize: acceptance rate 0.666667 target 0.500000 new stepsize 0.685871 old stepsize 0.617284\n",
      "basinhopping step 15: f 1.85148 trial_f 1.85148 accepted 1  lowest_f 1.64233\n",
      "basinhopping step 16: f 1.53378 trial_f 1.53378 accepted 1  lowest_f 1.53378\n",
      "found new global minimum on step 16 with function value 1.53378\n",
      "warning: basinhopping: local minimization failure\n",
      "basinhopping step 17: f 2.15069 trial_f 2.15069 accepted 1  lowest_f 1.53378\n",
      "basinhopping step 18: f 2.48801 trial_f 2.48801 accepted 1  lowest_f 1.53378\n",
      "basinhopping step 19: f 2.38487 trial_f 2.38487 accepted 1  lowest_f 1.53378\n",
      "adaptive stepsize: acceptance rate 0.750000 target 0.500000 new stepsize 0.762079 old stepsize 0.685871\n",
      "basinhopping step 20: f 2.63329 trial_f 2.63329 accepted 1  lowest_f 1.53378\n",
      "basinhopping step 21: f 3.01463 trial_f 3.01463 accepted 1  lowest_f 1.53378\n",
      "basinhopping step 22: f 2.481 trial_f 2.481 accepted 1  lowest_f 1.53378\n",
      "basinhopping step 23: f 2.62948 trial_f 2.62948 accepted 1  lowest_f 1.53378\n",
      "warning: basinhopping: local minimization failure\n",
      "basinhopping step 24: f 2.34579 trial_f 2.34579 accepted 1  lowest_f 1.53378\n",
      "adaptive stepsize: acceptance rate 0.800000 target 0.500000 new stepsize 0.846754 old stepsize 0.762079\n",
      "basinhopping step 25: f 2.44151 trial_f 2.44151 accepted 1  lowest_f 1.53378\n",
      "basinhopping step 26: f 2.82162 trial_f 2.82162 accepted 1  lowest_f 1.53378\n",
      "basinhopping step 27: f 2.74665 trial_f 2.74665 accepted 1  lowest_f 1.53378\n",
      "basinhopping step 28: f 2.71957 trial_f 2.71957 accepted 1  lowest_f 1.53378\n",
      "warning: basinhopping: local minimization failure\n",
      "basinhopping step 29: f 1.96447 trial_f 1.96447 accepted 1  lowest_f 1.53378\n",
      "adaptive stepsize: acceptance rate 0.833333 target 0.500000 new stepsize 0.940838 old stepsize 0.846754\n",
      "warning: basinhopping: local minimization failure\n",
      "basinhopping step 30: f 1.96447 trial_f 2.42803 accepted 0  lowest_f 1.53378\n",
      "basinhopping step 31: f 1.9293 trial_f 1.9293 accepted 1  lowest_f 1.53378\n",
      "basinhopping step 32: f 1.61165 trial_f 1.61165 accepted 1  lowest_f 1.53378\n",
      "basinhopping step 33: f 2.09953 trial_f 2.09953 accepted 1  lowest_f 1.53378\n",
      "basinhopping step 34: f 2.10398 trial_f 2.10398 accepted 1  lowest_f 1.53378\n",
      "adaptive stepsize: acceptance rate 0.828571 target 0.500000 new stepsize 1.04538 old stepsize 0.940838\n",
      "basinhopping step 35: f 2.10398 trial_f 3.26897 accepted 0  lowest_f 1.53378\n",
      "basinhopping step 36: f 2.5826 trial_f 2.5826 accepted 1  lowest_f 1.53378\n",
      "warning: basinhopping: local minimization failure\n",
      "basinhopping step 37: f 2.38829 trial_f 2.38829 accepted 1  lowest_f 1.53378\n",
      "warning: basinhopping: local minimization failure\n",
      "basinhopping step 38: f 2.91392 trial_f 2.91392 accepted 1  lowest_f 1.53378\n",
      "basinhopping step 39: f 3.24683 trial_f 3.24683 accepted 1  lowest_f 1.53378\n",
      "adaptive stepsize: acceptance rate 0.825000 target 0.500000 new stepsize 1.16153 old stepsize 1.04538\n",
      "warning: basinhopping: local minimization failure\n",
      "basinhopping step 40: f 3.02525 trial_f 3.02525 accepted 1  lowest_f 1.53378\n",
      "basinhopping step 41: f 3.15139 trial_f 3.15139 accepted 1  lowest_f 1.53378\n",
      "basinhopping step 42: f 3.14904 trial_f 3.14904 accepted 1  lowest_f 1.53378\n",
      "basinhopping step 43: f 2.75994 trial_f 2.75994 accepted 1  lowest_f 1.53378\n",
      "warning: basinhopping: local minimization failure\n",
      "basinhopping step 44: f 2.75994 trial_f 3.3181 accepted 0  lowest_f 1.53378\n",
      "adaptive stepsize: acceptance rate 0.822222 target 0.500000 new stepsize 1.29059 old stepsize 1.16153\n",
      "basinhopping step 45: f 2.75994 trial_f 3.23158 accepted 0  lowest_f 1.53378\n",
      "basinhopping step 46: f 2.75994 trial_f 3.07266 accepted 0  lowest_f 1.53378\n",
      "basinhopping step 47: f 2.56724 trial_f 2.56724 accepted 1  lowest_f 1.53378\n",
      "basinhopping step 48: f 2.56724 trial_f 3.18696 accepted 0  lowest_f 1.53378\n",
      "warning: basinhopping: local minimization failure\n",
      "basinhopping step 49: f 2.56724 trial_f 3.37248 accepted 0  lowest_f 1.53378\n",
      "adaptive stepsize: acceptance rate 0.760000 target 0.500000 new stepsize 1.43399 old stepsize 1.29059\n",
      "warning: basinhopping: local minimization failure\n",
      "basinhopping step 50: f 2.81833 trial_f 2.81833 accepted 1  lowest_f 1.53378\n",
      "warning: basinhopping: local minimization failure\n",
      "basinhopping step 51: f 2.6439 trial_f 2.6439 accepted 1  lowest_f 1.53378\n",
      "warning: basinhopping: local minimization failure\n",
      "basinhopping step 52: f 3.10702 trial_f 3.10702 accepted 1  lowest_f 1.53378\n",
      "basinhopping step 53: f 3.36687 trial_f 3.36687 accepted 1  lowest_f 1.53378\n",
      "basinhopping step 54: f 3.07665 trial_f 3.07665 accepted 1  lowest_f 1.53378\n",
      "adaptive stepsize: acceptance rate 0.781818 target 0.500000 new stepsize 1.59332 old stepsize 1.43399\n",
      "warning: basinhopping: local minimization failure\n",
      "basinhopping step 55: f 3.07665 trial_f 3.37364 accepted 0  lowest_f 1.53378\n",
      "basinhopping step 56: f 3.38775 trial_f 3.38775 accepted 1  lowest_f 1.53378\n",
      "basinhopping step 57: f 3.09763 trial_f 3.09763 accepted 1  lowest_f 1.53378\n",
      "basinhopping step 58: f 3.35128 trial_f 3.35128 accepted 1  lowest_f 1.53378\n",
      "warning: basinhopping: local minimization failure\n",
      "basinhopping step 59: f 3.3311 trial_f 3.3311 accepted 1  lowest_f 1.53378\n",
      "adaptive stepsize: acceptance rate 0.783333 target 0.500000 new stepsize 1.77035 old stepsize 1.59332\n",
      "warning: basinhopping: local minimization failure\n",
      "basinhopping step 60: f 3.40813 trial_f 3.40813 accepted 1  lowest_f 1.53378\n",
      "basinhopping step 61: f 3.12154 trial_f 3.12154 accepted 1  lowest_f 1.53378\n",
      "basinhopping step 62: f 3.03827 trial_f 3.03827 accepted 1  lowest_f 1.53378\n",
      "basinhopping step 63: f 2.86072 trial_f 2.86072 accepted 1  lowest_f 1.53378\n",
      "basinhopping step 64: f 2.7952 trial_f 2.7952 accepted 1  lowest_f 1.53378\n",
      "adaptive stepsize: acceptance rate 0.800000 target 0.500000 new stepsize 1.96706 old stepsize 1.77035\n",
      "warning: basinhopping: local minimization failure\n",
      "basinhopping step 65: f 2.7952 trial_f 3.18148 accepted 0  lowest_f 1.53378\n",
      "warning: basinhopping: local minimization failure\n",
      "basinhopping step 66: f 3.46827 trial_f 3.46827 accepted 1  lowest_f 1.53378\n",
      "warning: basinhopping: local minimization failure\n",
      "basinhopping step 67: f 2.96498 trial_f 2.96498 accepted 1  lowest_f 1.53378\n",
      "basinhopping step 68: f 2.40562 trial_f 2.40562 accepted 1  lowest_f 1.53378\n",
      "basinhopping step 69: f 3.38371 trial_f 3.38371 accepted 1  lowest_f 1.53378\n",
      "adaptive stepsize: acceptance rate 0.800000 target 0.500000 new stepsize 2.18562 old stepsize 1.96706\n",
      "basinhopping step 70: f 3.40605 trial_f 3.40605 accepted 1  lowest_f 1.53378\n",
      "warning: basinhopping: local minimization failure\n",
      "basinhopping step 71: f 3.30918 trial_f 3.30918 accepted 1  lowest_f 1.53378\n",
      "basinhopping step 72: f 3.37729 trial_f 3.37729 accepted 1  lowest_f 1.53378\n",
      "basinhopping step 73: f 3.40632 trial_f 3.40632 accepted 1  lowest_f 1.53378\n",
      "warning: basinhopping: local minimization failure\n",
      "basinhopping step 74: f 3.07827 trial_f 3.07827 accepted 1  lowest_f 1.53378\n",
      "adaptive stepsize: acceptance rate 0.813333 target 0.500000 new stepsize 2.42847 old stepsize 2.18562\n",
      "basinhopping step 75: f 3.37824 trial_f 3.37824 accepted 1  lowest_f 1.53378\n",
      "basinhopping step 76: f 3.43354 trial_f 3.43354 accepted 1  lowest_f 1.53378\n",
      "basinhopping step 77: f 3.34049 trial_f 3.34049 accepted 1  lowest_f 1.53378\n",
      "basinhopping step 78: f 2.29581 trial_f 2.29581 accepted 1  lowest_f 1.53378\n",
      "basinhopping step 79: f 3.07216 trial_f 3.07216 accepted 1  lowest_f 1.53378\n",
      "adaptive stepsize: acceptance rate 0.825000 target 0.500000 new stepsize 2.6983 old stepsize 2.42847\n",
      "warning: basinhopping: local minimization failure\n",
      "basinhopping step 80: f 2.50308 trial_f 2.50308 accepted 1  lowest_f 1.53378\n",
      "warning: basinhopping: local minimization failure\n",
      "basinhopping step 81: f 2.50308 trial_f 3.03986 accepted 0  lowest_f 1.53378\n",
      "basinhopping step 82: f 2.50308 trial_f 3.28394 accepted 0  lowest_f 1.53378\n",
      "basinhopping step 83: f 2.853 trial_f 2.853 accepted 1  lowest_f 1.53378\n",
      "basinhopping step 84: f 2.73306 trial_f 2.73306 accepted 1  lowest_f 1.53378\n",
      "adaptive stepsize: acceptance rate 0.811765 target 0.500000 new stepsize 2.99811 old stepsize 2.6983\n",
      "basinhopping step 85: f 2.85854 trial_f 2.85854 accepted 1  lowest_f 1.53378\n",
      "basinhopping step 86: f 2.72209 trial_f 2.72209 accepted 1  lowest_f 1.53378\n",
      "basinhopping step 87: f 2.72209 trial_f 3.36232 accepted 0  lowest_f 1.53378\n",
      "basinhopping step 88: f 2.72209 trial_f 3.3291 accepted 0  lowest_f 1.53378\n",
      "basinhopping step 89: f 2.72209 trial_f 3.34635 accepted 0  lowest_f 1.53378\n",
      "adaptive stepsize: acceptance rate 0.788889 target 0.500000 new stepsize 3.33123 old stepsize 2.99811\n",
      "basinhopping step 90: f 2.72209 trial_f 3.43184 accepted 0  lowest_f 1.53378\n",
      "basinhopping step 91: f 2.72209 trial_f 3.37573 accepted 0  lowest_f 1.53378\n",
      "basinhopping step 92: f 2.94493 trial_f 2.94493 accepted 1  lowest_f 1.53378\n",
      "basinhopping step 93: f 3.35557 trial_f 3.35557 accepted 1  lowest_f 1.53378\n",
      "basinhopping step 94: f 2.29973 trial_f 2.29973 accepted 1  lowest_f 1.53378\n",
      "adaptive stepsize: acceptance rate 0.778947 target 0.500000 new stepsize 3.70137 old stepsize 3.33123\n",
      "basinhopping step 95: f 2.29973 trial_f 3.38821 accepted 0  lowest_f 1.53378\n",
      "basinhopping step 96: f 2.29973 trial_f 2.93991 accepted 0  lowest_f 1.53378\n",
      "basinhopping step 97: f 2.29973 trial_f 2.82407 accepted 0  lowest_f 1.53378\n",
      "basinhopping step 98: f 2.29973 trial_f 3.12123 accepted 0  lowest_f 1.53378\n",
      "warning: basinhopping: local minimization failure\n",
      "basinhopping step 99: f 3.22613 trial_f 3.22613 accepted 1  lowest_f 1.53378\n",
      "adaptive stepsize: acceptance rate 0.750000 target 0.500000 new stepsize 4.11263 old stepsize 3.70137\n",
      "basinhopping step 100: f 2.79892 trial_f 2.79892 accepted 1  lowest_f 1.53378\n"
     ]
    },
    {
     "ename": "ValueError",
     "evalue": "The truth value of an array with more than one element is ambiguous. Use a.any() or a.all()",
     "output_type": "error",
     "traceback": [
      "\u001b[1;31m---------------------------------------------------------------------------\u001b[0m",
      "\u001b[1;31mValueError\u001b[0m                                Traceback (most recent call last)",
      "\u001b[1;32m<ipython-input-61-68dbe65363ec>\u001b[0m in \u001b[0;36m<module>\u001b[1;34m()\u001b[0m\n\u001b[1;32m----> 1\u001b[1;33m \u001b[0mm\u001b[0m\u001b[1;33m.\u001b[0m\u001b[0moptimize\u001b[0m\u001b[1;33m(\u001b[0m\u001b[1;33m)\u001b[0m\u001b[1;33m\u001b[0m\u001b[0m\n\u001b[0m",
      "\u001b[1;32m/home/kyle/Dropbox/Git/radd/build.pyc\u001b[0m in \u001b[0;36moptimize\u001b[1;34m(self, save, savepth, ntrials, tol, maxfev, niter, disp, prob, random_inits, fit_seq)\u001b[0m\n\u001b[0;32m     78\u001b[0m                   \u001b[0mself\u001b[0m\u001b[1;33m.\u001b[0m\u001b[0mmake_optimizer\u001b[0m\u001b[1;33m(\u001b[0m\u001b[0mntrials\u001b[0m\u001b[1;33m=\u001b[0m\u001b[0mntrials\u001b[0m\u001b[1;33m,\u001b[0m \u001b[0mtol\u001b[0m\u001b[1;33m=\u001b[0m\u001b[0mtol\u001b[0m\u001b[1;33m,\u001b[0m \u001b[0mmaxfev\u001b[0m\u001b[1;33m=\u001b[0m\u001b[0mmaxfev\u001b[0m\u001b[1;33m,\u001b[0m \u001b[0mniter\u001b[0m\u001b[1;33m=\u001b[0m\u001b[0mniter\u001b[0m\u001b[1;33m,\u001b[0m \u001b[0mdisp\u001b[0m\u001b[1;33m=\u001b[0m\u001b[0mdisp\u001b[0m\u001b[1;33m,\u001b[0m \u001b[0mprob\u001b[0m\u001b[1;33m=\u001b[0m\u001b[0mprob\u001b[0m\u001b[1;33m,\u001b[0m \u001b[0mrandom_inits\u001b[0m\u001b[1;33m=\u001b[0m\u001b[0mrandom_inits\u001b[0m\u001b[1;33m)\u001b[0m\u001b[1;33m\u001b[0m\u001b[0m\n\u001b[0;32m     79\u001b[0m \u001b[1;33m\u001b[0m\u001b[0m\n\u001b[1;32m---> 80\u001b[1;33m             \u001b[0mself\u001b[0m\u001b[1;33m.\u001b[0m\u001b[0mfits\u001b[0m\u001b[1;33m,\u001b[0m \u001b[0mself\u001b[0m\u001b[1;33m.\u001b[0m\u001b[0mfitinfo\u001b[0m\u001b[1;33m,\u001b[0m \u001b[0mself\u001b[0m\u001b[1;33m.\u001b[0m\u001b[0mpopt\u001b[0m \u001b[1;33m=\u001b[0m \u001b[0mself\u001b[0m\u001b[1;33m.\u001b[0m\u001b[0mopt\u001b[0m\u001b[1;33m.\u001b[0m\u001b[0moptimize_model\u001b[0m\u001b[1;33m(\u001b[0m\u001b[0msave\u001b[0m\u001b[1;33m=\u001b[0m\u001b[0msave\u001b[0m\u001b[1;33m,\u001b[0m \u001b[0msavepth\u001b[0m\u001b[1;33m=\u001b[0m\u001b[0msavepth\u001b[0m\u001b[1;33m)\u001b[0m\u001b[1;33m\u001b[0m\u001b[0m\n\u001b[0m\u001b[0;32m     81\u001b[0m             \u001b[1;31m# get residuals\u001b[0m\u001b[1;33m\u001b[0m\u001b[1;33m\u001b[0m\u001b[0m\n\u001b[0;32m     82\u001b[0m             \u001b[0mself\u001b[0m\u001b[1;33m.\u001b[0m\u001b[0mresidual\u001b[0m \u001b[1;33m=\u001b[0m \u001b[0mself\u001b[0m\u001b[1;33m.\u001b[0m\u001b[0mopt\u001b[0m\u001b[1;33m.\u001b[0m\u001b[0mresidual\u001b[0m\u001b[1;33m\u001b[0m\u001b[0m\n",
      "\u001b[1;32m/home/kyle/Dropbox/Git/radd/fit.py\u001b[0m in \u001b[0;36moptimize_model\u001b[1;34m(self, save, savepth)\u001b[0m\n\u001b[0;32m     79\u001b[0m             \u001b[1;32mif\u001b[0m \u001b[0mself\u001b[0m\u001b[1;33m.\u001b[0m\u001b[0mfit_on\u001b[0m\u001b[1;33m==\u001b[0m\u001b[1;34m'average'\u001b[0m\u001b[1;33m:\u001b[0m\u001b[1;33m\u001b[0m\u001b[0m\n\u001b[0;32m     80\u001b[0m                   \u001b[1;32mif\u001b[0m \u001b[0mself\u001b[0m\u001b[1;33m.\u001b[0m\u001b[0mfit_seq\u001b[0m \u001b[1;32min\u001b[0m \u001b[1;33m[\u001b[0m\u001b[1;34m'flat'\u001b[0m\u001b[1;33m,\u001b[0m \u001b[1;34m'all'\u001b[0m\u001b[1;33m]\u001b[0m\u001b[1;33m:\u001b[0m\u001b[1;33m\u001b[0m\u001b[0m\n\u001b[1;32m---> 81\u001b[1;33m                         \u001b[0mself\u001b[0m\u001b[1;33m.\u001b[0m\u001b[0mflat_fits\u001b[0m\u001b[1;33m,\u001b[0m \u001b[0mself\u001b[0m\u001b[1;33m.\u001b[0m\u001b[0mflat_fitinfo\u001b[0m\u001b[1;33m,\u001b[0m \u001b[0mself\u001b[0m\u001b[1;33m.\u001b[0m\u001b[0mflat_popt\u001b[0m \u001b[1;33m=\u001b[0m \u001b[0mself\u001b[0m\u001b[1;33m.\u001b[0m\u001b[0m__flat_opt_routine__\u001b[0m\u001b[1;33m(\u001b[0m\u001b[1;33m)\u001b[0m\u001b[1;33m\u001b[0m\u001b[0m\n\u001b[0m\u001b[0;32m     82\u001b[0m                         \u001b[0mself\u001b[0m\u001b[1;33m.\u001b[0m\u001b[0mparams_io\u001b[0m\u001b[1;33m(\u001b[0m\u001b[0mflat_popt\u001b[0m\u001b[1;33m,\u001b[0m \u001b[0mio\u001b[0m\u001b[1;33m=\u001b[0m\u001b[1;34m'w'\u001b[0m\u001b[1;33m,\u001b[0m \u001b[0miostr\u001b[0m\u001b[1;33m=\u001b[0m\u001b[0msavepth\u001b[0m\u001b[1;33m+\u001b[0m\u001b[1;34m'flat_popt'\u001b[0m\u001b[1;33m)\u001b[0m\u001b[1;33m\u001b[0m\u001b[0m\n\u001b[0;32m     83\u001b[0m                         \u001b[0mself\u001b[0m\u001b[1;33m.\u001b[0m\u001b[0mfits_io\u001b[0m\u001b[1;33m(\u001b[0m\u001b[0mself\u001b[0m\u001b[1;33m.\u001b[0m\u001b[0mflat_fits\u001b[0m\u001b[1;33m,\u001b[0m \u001b[0mio\u001b[0m\u001b[1;33m=\u001b[0m\u001b[1;34m'w'\u001b[0m\u001b[1;33m,\u001b[0m \u001b[0miostr\u001b[0m\u001b[1;33m=\u001b[0m\u001b[0msavepth\u001b[0m\u001b[1;33m+\u001b[0m\u001b[1;34m'flat_yhat'\u001b[0m\u001b[1;33m)\u001b[0m\u001b[1;33m\u001b[0m\u001b[0m\n",
      "\u001b[1;32m/home/kyle/Dropbox/Git/radd/fit.py\u001b[0m in \u001b[0;36m__flat_opt_routine__\u001b[1;34m(self)\u001b[0m\n\u001b[0;32m    118\u001b[0m                   \u001b[0mp1\u001b[0m \u001b[1;33m=\u001b[0m \u001b[0mself\u001b[0m\u001b[1;33m.\u001b[0m\u001b[0m__nudge_params__\u001b[0m\u001b[1;33m(\u001b[0m\u001b[0mp1\u001b[0m\u001b[1;33m,\u001b[0m \u001b[0mlim\u001b[0m\u001b[1;33m=\u001b[0m\u001b[1;33m(\u001b[0m\u001b[1;36m1.0\u001b[0m\u001b[1;33m,\u001b[0m \u001b[1;36m1.0\u001b[0m\u001b[1;33m)\u001b[0m\u001b[1;33m)\u001b[0m\u001b[1;33m\u001b[0m\u001b[0m\n\u001b[0;32m    119\u001b[0m                   \u001b[0mp1\u001b[0m\u001b[1;33m,\u001b[0m \u001b[0mfxmin\u001b[0m \u001b[1;33m=\u001b[0m \u001b[0mself\u001b[0m\u001b[1;33m.\u001b[0m\u001b[0m__global_opt__\u001b[0m\u001b[1;33m(\u001b[0m\u001b[0mmethod\u001b[0m\u001b[1;33m=\u001b[0m\u001b[1;34m'basinhopping'\u001b[0m\u001b[1;33m,\u001b[0m \u001b[0minits\u001b[0m\u001b[1;33m=\u001b[0m\u001b[0mp1\u001b[0m\u001b[1;33m)\u001b[0m\u001b[1;33m\u001b[0m\u001b[0m\n\u001b[1;32m--> 120\u001b[1;33m                   \u001b[0myhat1\u001b[0m\u001b[1;33m,\u001b[0m \u001b[0mfinfo1\u001b[0m\u001b[1;33m,\u001b[0m \u001b[0mp1\u001b[0m \u001b[1;33m=\u001b[0m \u001b[0mself\u001b[0m\u001b[1;33m.\u001b[0m\u001b[0m__gradient_descent__\u001b[0m\u001b[1;33m(\u001b[0m\u001b[0my\u001b[0m\u001b[1;33m=\u001b[0m\u001b[0mself\u001b[0m\u001b[1;33m.\u001b[0m\u001b[0mflat_y\u001b[0m\u001b[1;33m,\u001b[0m \u001b[0minits\u001b[0m\u001b[1;33m=\u001b[0m\u001b[0mp1\u001b[0m\u001b[1;33m,\u001b[0m \u001b[0mis_flat\u001b[0m\u001b[1;33m=\u001b[0m\u001b[0mTrue\u001b[0m\u001b[1;33m)\u001b[0m\u001b[1;33m\u001b[0m\u001b[0m\n\u001b[0m\u001b[0;32m    121\u001b[0m                   \u001b[0mxtra_i\u001b[0m\u001b[1;33m+=\u001b[0m\u001b[1;36m1\u001b[0m\u001b[1;33m\u001b[0m\u001b[0m\n\u001b[0;32m    122\u001b[0m             \u001b[0mself\u001b[0m\u001b[1;33m.\u001b[0m\u001b[0mstorage\u001b[0m\u001b[1;33m[\u001b[0m\u001b[1;34m'yhat1'\u001b[0m\u001b[1;33m]\u001b[0m\u001b[1;33m=\u001b[0m\u001b[0myhat1\u001b[0m\u001b[1;33m;\u001b[0m \u001b[0mself\u001b[0m\u001b[1;33m.\u001b[0m\u001b[0mstorage\u001b[0m\u001b[1;33m[\u001b[0m\u001b[1;34m'finfo1'\u001b[0m\u001b[1;33m]\u001b[0m\u001b[1;33m=\u001b[0m\u001b[0mfinfo1\u001b[0m\u001b[1;33m;\u001b[0m \u001b[0mself\u001b[0m\u001b[1;33m.\u001b[0m\u001b[0mstorage\u001b[0m\u001b[1;33m[\u001b[0m\u001b[1;34m'p1'\u001b[0m\u001b[1;33m]\u001b[0m\u001b[1;33m=\u001b[0m\u001b[0mp1\u001b[0m\u001b[1;33m\u001b[0m\u001b[0m\n",
      "\u001b[1;32m/home/kyle/Dropbox/Git/radd/fit.py\u001b[0m in \u001b[0;36m__gradient_descent__\u001b[1;34m(self, y, inits, is_flat)\u001b[0m\n\u001b[0;32m    249\u001b[0m             \u001b[0mopt_kws\u001b[0m \u001b[1;33m=\u001b[0m \u001b[1;33m{\u001b[0m\u001b[1;34m'disp'\u001b[0m\u001b[1;33m:\u001b[0m\u001b[0mfp\u001b[0m\u001b[1;33m[\u001b[0m\u001b[1;34m'disp'\u001b[0m\u001b[1;33m]\u001b[0m\u001b[1;33m,\u001b[0m \u001b[1;34m'xtol'\u001b[0m\u001b[1;33m:\u001b[0m\u001b[0mfp\u001b[0m\u001b[1;33m[\u001b[0m\u001b[1;34m'tol'\u001b[0m\u001b[1;33m]\u001b[0m\u001b[1;33m,\u001b[0m \u001b[1;34m'ftol'\u001b[0m\u001b[1;33m:\u001b[0m\u001b[0mfp\u001b[0m\u001b[1;33m[\u001b[0m\u001b[1;34m'tol'\u001b[0m\u001b[1;33m]\u001b[0m\u001b[1;33m,\u001b[0m \u001b[1;34m'maxfev'\u001b[0m\u001b[1;33m:\u001b[0m\u001b[0mfp\u001b[0m\u001b[1;33m[\u001b[0m\u001b[1;34m'maxfev'\u001b[0m\u001b[1;33m]\u001b[0m\u001b[1;33m}\u001b[0m\u001b[1;33m\u001b[0m\u001b[0m\n\u001b[0;32m    250\u001b[0m             \u001b[1;31m# OPTIMIZE THETA\u001b[0m\u001b[1;33m\u001b[0m\u001b[1;33m\u001b[0m\u001b[0m\n\u001b[1;32m--> 251\u001b[1;33m             \u001b[0moptmod\u001b[0m \u001b[1;33m=\u001b[0m \u001b[0mminimize\u001b[0m\u001b[1;33m(\u001b[0m\u001b[0mself\u001b[0m\u001b[1;33m.\u001b[0m\u001b[0msimulator\u001b[0m\u001b[1;33m.\u001b[0m\u001b[0m__cost_fx__\u001b[0m\u001b[1;33m,\u001b[0m \u001b[0mlmParams\u001b[0m\u001b[1;33m,\u001b[0m \u001b[0mmethod\u001b[0m\u001b[1;33m=\u001b[0m\u001b[1;34m'nelder'\u001b[0m\u001b[1;33m,\u001b[0m \u001b[0moptions\u001b[0m\u001b[1;33m=\u001b[0m\u001b[0mopt_kws\u001b[0m\u001b[1;33m)\u001b[0m\u001b[1;33m\u001b[0m\u001b[0m\n\u001b[0m\u001b[0;32m    252\u001b[0m             \u001b[0moptp\u001b[0m \u001b[1;33m=\u001b[0m \u001b[0moptmod\u001b[0m\u001b[1;33m.\u001b[0m\u001b[0mparams\u001b[0m\u001b[1;33m\u001b[0m\u001b[0m\n\u001b[0;32m    253\u001b[0m             \u001b[0mfinfo\u001b[0m \u001b[1;33m=\u001b[0m \u001b[1;33m{\u001b[0m\u001b[0mk\u001b[0m\u001b[1;33m:\u001b[0m\u001b[0moptp\u001b[0m\u001b[1;33m[\u001b[0m\u001b[0mk\u001b[0m\u001b[1;33m]\u001b[0m\u001b[1;33m.\u001b[0m\u001b[0mvalue\u001b[0m \u001b[1;32mfor\u001b[0m \u001b[0mk\u001b[0m \u001b[1;32min\u001b[0m \u001b[0moptp\u001b[0m\u001b[1;33m.\u001b[0m\u001b[0mkeys\u001b[0m\u001b[1;33m(\u001b[0m\u001b[1;33m)\u001b[0m\u001b[1;33m}\u001b[0m\u001b[1;33m\u001b[0m\u001b[0m\n",
      "\u001b[1;32m/home/kyle/anaconda/lib/python2.7/site-packages/lmfit-0.8.3_115_gb405f5b-py2.7.egg/lmfit/minimizer.pyc\u001b[0m in \u001b[0;36mminimize\u001b[1;34m(fcn, params, method, args, kws, scale_covar, iter_cb, **fit_kws)\u001b[0m\n\u001b[0;32m    758\u001b[0m     fitter = Minimizer(fcn, params, fcn_args=args, fcn_kws=kws,\n\u001b[0;32m    759\u001b[0m                        iter_cb=iter_cb, scale_covar=scale_covar, **fit_kws)\n\u001b[1;32m--> 760\u001b[1;33m     \u001b[1;32mreturn\u001b[0m \u001b[0mfitter\u001b[0m\u001b[1;33m.\u001b[0m\u001b[0mminimize\u001b[0m\u001b[1;33m(\u001b[0m\u001b[0mmethod\u001b[0m\u001b[1;33m=\u001b[0m\u001b[0mmethod\u001b[0m\u001b[1;33m)\u001b[0m\u001b[1;33m\u001b[0m\u001b[0m\n\u001b[0m",
      "\u001b[1;32m/home/kyle/anaconda/lib/python2.7/site-packages/lmfit-0.8.3_115_gb405f5b-py2.7.egg/lmfit/minimizer.pyc\u001b[0m in \u001b[0;36mminimize\u001b[1;34m(self, method, params, **kws)\u001b[0m\n\u001b[0;32m    690\u001b[0m         \u001b[1;32melif\u001b[0m \u001b[0muser_method\u001b[0m\u001b[1;33m.\u001b[0m\u001b[0mstartswith\u001b[0m\u001b[1;33m(\u001b[0m\u001b[1;34m'lbfgsb'\u001b[0m\u001b[1;33m)\u001b[0m\u001b[1;33m:\u001b[0m\u001b[1;33m\u001b[0m\u001b[0m\n\u001b[0;32m    691\u001b[0m             \u001b[0mfunction\u001b[0m \u001b[1;33m=\u001b[0m \u001b[0mself\u001b[0m\u001b[1;33m.\u001b[0m\u001b[0mlbfgsb\u001b[0m\u001b[1;33m\u001b[0m\u001b[0m\n\u001b[1;32m--> 692\u001b[1;33m         \u001b[1;32mreturn\u001b[0m \u001b[0mfunction\u001b[0m\u001b[1;33m(\u001b[0m\u001b[1;33m**\u001b[0m\u001b[0mkwargs\u001b[0m\u001b[1;33m)\u001b[0m\u001b[1;33m\u001b[0m\u001b[0m\n\u001b[0m\u001b[0;32m    693\u001b[0m \u001b[1;33m\u001b[0m\u001b[0m\n\u001b[0;32m    694\u001b[0m def minimize(fcn, params, method='leastsq', args=None, kws=None,\n",
      "\u001b[1;32m/home/kyle/anaconda/lib/python2.7/site-packages/lmfit-0.8.3_115_gb405f5b-py2.7.egg/lmfit/minimizer.pyc\u001b[0m in \u001b[0;36mscalar_minimize\u001b[1;34m(self, method, params, **kws)\u001b[0m\n\u001b[0;32m    433\u001b[0m             \u001b[1;32mraise\u001b[0m \u001b[0mNotImplementedError\u001b[0m\u001b[1;33m\u001b[0m\u001b[0m\n\u001b[0;32m    434\u001b[0m \u001b[1;33m\u001b[0m\u001b[0m\n\u001b[1;32m--> 435\u001b[1;33m         \u001b[0mresult\u001b[0m \u001b[1;33m=\u001b[0m \u001b[0mself\u001b[0m\u001b[1;33m.\u001b[0m\u001b[0mprepare_fit\u001b[0m\u001b[1;33m(\u001b[0m\u001b[0mparams\u001b[0m\u001b[1;33m=\u001b[0m\u001b[0mparams\u001b[0m\u001b[1;33m)\u001b[0m\u001b[1;33m\u001b[0m\u001b[0m\n\u001b[0m\u001b[0;32m    436\u001b[0m         \u001b[0mvars\u001b[0m   \u001b[1;33m=\u001b[0m \u001b[0mresult\u001b[0m\u001b[1;33m.\u001b[0m\u001b[0minit_vals\u001b[0m\u001b[1;33m\u001b[0m\u001b[0m\n\u001b[0;32m    437\u001b[0m         \u001b[0mparams\u001b[0m \u001b[1;33m=\u001b[0m \u001b[0mresult\u001b[0m\u001b[1;33m.\u001b[0m\u001b[0mparams\u001b[0m\u001b[1;33m\u001b[0m\u001b[0m\n",
      "\u001b[1;32m/home/kyle/anaconda/lib/python2.7/site-packages/lmfit-0.8.3_115_gb405f5b-py2.7.egg/lmfit/minimizer.pyc\u001b[0m in \u001b[0;36mprepare_fit\u001b[1;34m(self, params)\u001b[0m\n\u001b[0;32m    314\u001b[0m             \u001b[0mself\u001b[0m\u001b[1;33m.\u001b[0m\u001b[0mparams\u001b[0m \u001b[1;33m=\u001b[0m \u001b[0mparams\u001b[0m\u001b[1;33m\u001b[0m\u001b[0m\n\u001b[0;32m    315\u001b[0m         \u001b[1;32mif\u001b[0m \u001b[0misinstance\u001b[0m\u001b[1;33m(\u001b[0m\u001b[0mself\u001b[0m\u001b[1;33m.\u001b[0m\u001b[0mparams\u001b[0m\u001b[1;33m,\u001b[0m \u001b[0mParameters\u001b[0m\u001b[1;33m)\u001b[0m\u001b[1;33m:\u001b[0m\u001b[1;33m\u001b[0m\u001b[0m\n\u001b[1;32m--> 316\u001b[1;33m             \u001b[0mresult\u001b[0m\u001b[1;33m.\u001b[0m\u001b[0mparams\u001b[0m \u001b[1;33m=\u001b[0m \u001b[0mdeepcopy\u001b[0m\u001b[1;33m(\u001b[0m\u001b[0mself\u001b[0m\u001b[1;33m.\u001b[0m\u001b[0mparams\u001b[0m\u001b[1;33m)\u001b[0m\u001b[1;33m\u001b[0m\u001b[0m\n\u001b[0m\u001b[0;32m    317\u001b[0m         \u001b[1;32melif\u001b[0m \u001b[0misinstance\u001b[0m\u001b[1;33m(\u001b[0m\u001b[0mself\u001b[0m\u001b[1;33m.\u001b[0m\u001b[0mparams\u001b[0m\u001b[1;33m,\u001b[0m \u001b[1;33m(\u001b[0m\u001b[0mlist\u001b[0m\u001b[1;33m,\u001b[0m \u001b[0mtuple\u001b[0m\u001b[1;33m)\u001b[0m\u001b[1;33m)\u001b[0m\u001b[1;33m:\u001b[0m\u001b[1;33m\u001b[0m\u001b[0m\n\u001b[0;32m    318\u001b[0m             \u001b[0mresult\u001b[0m\u001b[1;33m.\u001b[0m\u001b[0mparams\u001b[0m \u001b[1;33m=\u001b[0m \u001b[0mParameters\u001b[0m\u001b[1;33m(\u001b[0m\u001b[1;33m)\u001b[0m\u001b[1;33m\u001b[0m\u001b[0m\n",
      "\u001b[1;32m/home/kyle/anaconda/lib/python2.7/copy.pyc\u001b[0m in \u001b[0;36mdeepcopy\u001b[1;34m(x, memo, _nil)\u001b[0m\n\u001b[0;32m    172\u001b[0m             \u001b[0mcopier\u001b[0m \u001b[1;33m=\u001b[0m \u001b[0mgetattr\u001b[0m\u001b[1;33m(\u001b[0m\u001b[0mx\u001b[0m\u001b[1;33m,\u001b[0m \u001b[1;34m\"__deepcopy__\"\u001b[0m\u001b[1;33m,\u001b[0m \u001b[0mNone\u001b[0m\u001b[1;33m)\u001b[0m\u001b[1;33m\u001b[0m\u001b[0m\n\u001b[0;32m    173\u001b[0m             \u001b[1;32mif\u001b[0m \u001b[0mcopier\u001b[0m\u001b[1;33m:\u001b[0m\u001b[1;33m\u001b[0m\u001b[0m\n\u001b[1;32m--> 174\u001b[1;33m                 \u001b[0my\u001b[0m \u001b[1;33m=\u001b[0m \u001b[0mcopier\u001b[0m\u001b[1;33m(\u001b[0m\u001b[0mmemo\u001b[0m\u001b[1;33m)\u001b[0m\u001b[1;33m\u001b[0m\u001b[0m\n\u001b[0m\u001b[0;32m    175\u001b[0m             \u001b[1;32melse\u001b[0m\u001b[1;33m:\u001b[0m\u001b[1;33m\u001b[0m\u001b[0m\n\u001b[0;32m    176\u001b[0m                 \u001b[0mreductor\u001b[0m \u001b[1;33m=\u001b[0m \u001b[0mdispatch_table\u001b[0m\u001b[1;33m.\u001b[0m\u001b[0mget\u001b[0m\u001b[1;33m(\u001b[0m\u001b[0mcls\u001b[0m\u001b[1;33m)\u001b[0m\u001b[1;33m\u001b[0m\u001b[0m\n",
      "\u001b[1;32m/home/kyle/anaconda/lib/python2.7/site-packages/lmfit-0.8.3_115_gb405f5b-py2.7.egg/lmfit/parameter.pyc\u001b[0m in \u001b[0;36m__deepcopy__\u001b[1;34m(self, memo)\u001b[0m\n\u001b[0;32m     51\u001b[0m             \u001b[1;32mif\u001b[0m \u001b[0misinstance\u001b[0m\u001b[1;33m(\u001b[0m\u001b[0mpar\u001b[0m\u001b[1;33m,\u001b[0m \u001b[0mParameter\u001b[0m\u001b[1;33m)\u001b[0m\u001b[1;33m:\u001b[0m\u001b[1;33m\u001b[0m\u001b[0m\n\u001b[0;32m     52\u001b[0m                 \u001b[0mname\u001b[0m \u001b[1;33m=\u001b[0m \u001b[0mpar\u001b[0m\u001b[1;33m.\u001b[0m\u001b[0mname\u001b[0m\u001b[1;33m\u001b[0m\u001b[0m\n\u001b[1;32m---> 53\u001b[1;33m                 \u001b[0m_pars\u001b[0m\u001b[1;33m.\u001b[0m\u001b[0madd\u001b[0m\u001b[1;33m(\u001b[0m\u001b[0mname\u001b[0m\u001b[1;33m,\u001b[0m \u001b[0mvalue\u001b[0m\u001b[1;33m=\u001b[0m\u001b[0mpar\u001b[0m\u001b[1;33m.\u001b[0m\u001b[0mvalue\u001b[0m\u001b[1;33m,\u001b[0m \u001b[0mmin\u001b[0m\u001b[1;33m=\u001b[0m\u001b[0mpar\u001b[0m\u001b[1;33m.\u001b[0m\u001b[0mmin\u001b[0m\u001b[1;33m,\u001b[0m \u001b[0mmax\u001b[0m\u001b[1;33m=\u001b[0m\u001b[0mpar\u001b[0m\u001b[1;33m.\u001b[0m\u001b[0mmax\u001b[0m\u001b[1;33m)\u001b[0m\u001b[1;33m\u001b[0m\u001b[0m\n\u001b[0m\u001b[0;32m     54\u001b[0m                 \u001b[0m_pars\u001b[0m\u001b[1;33m[\u001b[0m\u001b[0mname\u001b[0m\u001b[1;33m]\u001b[0m\u001b[1;33m.\u001b[0m\u001b[0mvary\u001b[0m \u001b[1;33m=\u001b[0m \u001b[0mpar\u001b[0m\u001b[1;33m.\u001b[0m\u001b[0mvary\u001b[0m\u001b[1;33m\u001b[0m\u001b[0m\n\u001b[0;32m     55\u001b[0m                 \u001b[0m_pars\u001b[0m\u001b[1;33m[\u001b[0m\u001b[0mname\u001b[0m\u001b[1;33m]\u001b[0m\u001b[1;33m.\u001b[0m\u001b[0mstderr\u001b[0m \u001b[1;33m=\u001b[0m \u001b[0mpar\u001b[0m\u001b[1;33m.\u001b[0m\u001b[0mstderr\u001b[0m\u001b[1;33m\u001b[0m\u001b[0m\n",
      "\u001b[1;32m/home/kyle/anaconda/lib/python2.7/site-packages/lmfit-0.8.3_115_gb405f5b-py2.7.egg/lmfit/parameter.pyc\u001b[0m in \u001b[0;36madd\u001b[1;34m(self, name, value, vary, min, max, expr)\u001b[0m\n\u001b[0;32m    142\u001b[0m         \"\"\"\n\u001b[0;32m    143\u001b[0m         self.__setitem__(name, Parameter(value=value, name=name, vary=vary,\n\u001b[1;32m--> 144\u001b[1;33m                                          min=min, max=max, expr=expr))\n\u001b[0m\u001b[0;32m    145\u001b[0m \u001b[1;33m\u001b[0m\u001b[0m\n\u001b[0;32m    146\u001b[0m     \u001b[1;32mdef\u001b[0m \u001b[0madd_many\u001b[0m\u001b[1;33m(\u001b[0m\u001b[0mself\u001b[0m\u001b[1;33m,\u001b[0m \u001b[1;33m*\u001b[0m\u001b[0mparlist\u001b[0m\u001b[1;33m)\u001b[0m\u001b[1;33m:\u001b[0m\u001b[1;33m\u001b[0m\u001b[0m\n",
      "\u001b[1;32m/home/kyle/anaconda/lib/python2.7/site-packages/lmfit-0.8.3_115_gb405f5b-py2.7.egg/lmfit/parameter.pyc\u001b[0m in \u001b[0;36m__init__\u001b[1;34m(self, name, value, vary, min, max, expr)\u001b[0m\n\u001b[0;32m    311\u001b[0m         \u001b[0mself\u001b[0m\u001b[1;33m.\u001b[0m\u001b[0mcorrel\u001b[0m \u001b[1;33m=\u001b[0m \u001b[0mNone\u001b[0m\u001b[1;33m\u001b[0m\u001b[0m\n\u001b[0;32m    312\u001b[0m         \u001b[0mself\u001b[0m\u001b[1;33m.\u001b[0m\u001b[0mfrom_internal\u001b[0m \u001b[1;33m=\u001b[0m \u001b[1;32mlambda\u001b[0m \u001b[0mval\u001b[0m\u001b[1;33m:\u001b[0m \u001b[0mval\u001b[0m\u001b[1;33m\u001b[0m\u001b[0m\n\u001b[1;32m--> 313\u001b[1;33m         \u001b[0mself\u001b[0m\u001b[1;33m.\u001b[0m\u001b[0m_init_bounds\u001b[0m\u001b[1;33m(\u001b[0m\u001b[1;33m)\u001b[0m\u001b[1;33m\u001b[0m\u001b[0m\n\u001b[0m\u001b[0;32m    314\u001b[0m \u001b[1;33m\u001b[0m\u001b[0m\n\u001b[0;32m    315\u001b[0m     \u001b[1;32mdef\u001b[0m \u001b[0mset\u001b[0m\u001b[1;33m(\u001b[0m\u001b[0mself\u001b[0m\u001b[1;33m,\u001b[0m \u001b[0mvalue\u001b[0m\u001b[1;33m=\u001b[0m\u001b[0mNone\u001b[0m\u001b[1;33m,\u001b[0m \u001b[0mvary\u001b[0m\u001b[1;33m=\u001b[0m\u001b[0mNone\u001b[0m\u001b[1;33m,\u001b[0m \u001b[0mmin\u001b[0m\u001b[1;33m=\u001b[0m\u001b[0mNone\u001b[0m\u001b[1;33m,\u001b[0m \u001b[0mmax\u001b[0m\u001b[1;33m=\u001b[0m\u001b[0mNone\u001b[0m\u001b[1;33m,\u001b[0m \u001b[0mexpr\u001b[0m\u001b[1;33m=\u001b[0m\u001b[0mNone\u001b[0m\u001b[1;33m)\u001b[0m\u001b[1;33m:\u001b[0m\u001b[1;33m\u001b[0m\u001b[0m\n",
      "\u001b[1;32m/home/kyle/anaconda/lib/python2.7/site-packages/lmfit-0.8.3_115_gb405f5b-py2.7.egg/lmfit/parameter.pyc\u001b[0m in \u001b[0;36m_init_bounds\u001b[1;34m(self)\u001b[0m\n\u001b[0;32m    346\u001b[0m         \u001b[1;31m#_val is None means - infinity.\u001b[0m\u001b[1;33m\u001b[0m\u001b[1;33m\u001b[0m\u001b[0m\n\u001b[0;32m    347\u001b[0m         \u001b[1;32mif\u001b[0m \u001b[0mself\u001b[0m\u001b[1;33m.\u001b[0m\u001b[0m_val\u001b[0m \u001b[1;32mis\u001b[0m \u001b[1;32mnot\u001b[0m \u001b[0mNone\u001b[0m\u001b[1;33m:\u001b[0m\u001b[1;33m\u001b[0m\u001b[0m\n\u001b[1;32m--> 348\u001b[1;33m             \u001b[1;32mif\u001b[0m \u001b[0mself\u001b[0m\u001b[1;33m.\u001b[0m\u001b[0mmax\u001b[0m \u001b[1;32mis\u001b[0m \u001b[1;32mnot\u001b[0m \u001b[0mNone\u001b[0m \u001b[1;32mand\u001b[0m \u001b[0mself\u001b[0m\u001b[1;33m.\u001b[0m\u001b[0m_val\u001b[0m \u001b[1;33m>\u001b[0m \u001b[0mself\u001b[0m\u001b[1;33m.\u001b[0m\u001b[0mmax\u001b[0m\u001b[1;33m:\u001b[0m\u001b[1;33m\u001b[0m\u001b[0m\n\u001b[0m\u001b[0;32m    349\u001b[0m                 \u001b[0mself\u001b[0m\u001b[1;33m.\u001b[0m\u001b[0m_val\u001b[0m \u001b[1;33m=\u001b[0m \u001b[0mself\u001b[0m\u001b[1;33m.\u001b[0m\u001b[0mmax\u001b[0m\u001b[1;33m\u001b[0m\u001b[0m\n\u001b[0;32m    350\u001b[0m             \u001b[1;32mif\u001b[0m \u001b[0mself\u001b[0m\u001b[1;33m.\u001b[0m\u001b[0mmin\u001b[0m \u001b[1;32mis\u001b[0m \u001b[1;32mnot\u001b[0m \u001b[0mNone\u001b[0m \u001b[1;32mand\u001b[0m \u001b[0mself\u001b[0m\u001b[1;33m.\u001b[0m\u001b[0m_val\u001b[0m \u001b[1;33m<\u001b[0m \u001b[0mself\u001b[0m\u001b[1;33m.\u001b[0m\u001b[0mmin\u001b[0m\u001b[1;33m:\u001b[0m\u001b[1;33m\u001b[0m\u001b[0m\n",
      "\u001b[1;31mValueError\u001b[0m: The truth value of an array with more than one element is ambiguous. Use a.any() or a.all()"
     ]
    }
   ],
   "source": [
    "m.optimize()"
   ]
  },
  {
   "cell_type": "code",
   "execution_count": 41,
   "metadata": {
    "collapsed": false
   },
   "outputs": [
    {
     "data": {
      "text/plain": [
       "[]"
      ]
     },
     "execution_count": 41,
     "metadata": {},
     "output_type": "execute_result"
    }
   ],
   "source": [
    "m.opt.logs"
   ]
  },
  {
   "cell_type": "code",
   "execution_count": 27,
   "metadata": {
    "collapsed": false
   },
   "outputs": [
    {
     "data": {
      "text/plain": [
       "{'a': array([ 0.46394,  0.3614 ]),\n",
       " 'tr': array([ 0.33228,  0.33903]),\n",
       " 'v': array([ 1.08263,  1.03498]),\n",
       " 'xb': array([ 0.92819,  0.96722])}"
      ]
     },
     "execution_count": 27,
     "metadata": {},
     "output_type": "execute_result"
    }
   ],
   "source": [
    "m.opt.random_inits"
   ]
  },
  {
   "cell_type": "code",
   "execution_count": 33,
   "metadata": {
    "collapsed": true
   },
   "outputs": [
    {
     "ename": "NameError",
     "evalue": "global name 'yhat' is not defined",
     "output_type": "error",
     "traceback": [
      "\u001b[1;31m---------------------------------------------------------------------------\u001b[0m",
      "\u001b[1;31mNameError\u001b[0m                                 Traceback (most recent call last)",
      "\u001b[1;32m<ipython-input-33-727ee22ea47f>\u001b[0m in \u001b[0;36m<module>\u001b[1;34m()\u001b[0m\n\u001b[1;32m----> 1\u001b[1;33m \u001b[0mp0\u001b[0m \u001b[1;33m=\u001b[0m \u001b[0mm\u001b[0m\u001b[1;33m.\u001b[0m\u001b[0mopt\u001b[0m\u001b[1;33m.\u001b[0m\u001b[0m__hop_around__\u001b[0m\u001b[1;33m(\u001b[0m\u001b[0mniter\u001b[0m\u001b[1;33m=\u001b[0m\u001b[1;36m1\u001b[0m\u001b[1;33m,\u001b[0m \u001b[0mnsuccess\u001b[0m\u001b[1;33m=\u001b[0m\u001b[1;36m1\u001b[0m\u001b[1;33m)\u001b[0m\u001b[1;33m\u001b[0m\u001b[0m\n\u001b[0m",
      "\u001b[1;32m/home/kyle/Dropbox/Git/radd/fit.py\u001b[0m in \u001b[0;36m__hop_around__\u001b[1;34m(self, niter, nsuccess)\u001b[0m\n\u001b[0;32m    167\u001b[0m \u001b[1;33m\u001b[0m\u001b[0m\n\u001b[0;32m    168\u001b[0m             \u001b[1;31m# test against original inits and return better\u001b[0m\u001b[1;33m\u001b[0m\u001b[1;33m\u001b[0m\u001b[0m\n\u001b[1;32m--> 169\u001b[1;33m             \u001b[0mp0\u001b[0m \u001b[1;33m=\u001b[0m \u001b[0mself\u001b[0m\u001b[1;33m.\u001b[0m\u001b[0m__test_global__\u001b[0m\u001b[1;33m(\u001b[0m\u001b[0mpopt_fmin\u001b[0m\u001b[1;33m=\u001b[0m\u001b[1;33m[\u001b[0m\u001b[0mxpopt\u001b[0m\u001b[1;33m,\u001b[0m \u001b[0mxfmin\u001b[0m\u001b[1;33m]\u001b[0m\u001b[1;33m)\u001b[0m\u001b[1;33m\u001b[0m\u001b[0m\n\u001b[0m\u001b[0;32m    170\u001b[0m             \u001b[1;32mreturn\u001b[0m \u001b[0mp0\u001b[0m\u001b[1;33m\u001b[0m\u001b[0m\n\u001b[0;32m    171\u001b[0m \u001b[1;33m\u001b[0m\u001b[0m\n",
      "\u001b[1;32m/home/kyle/Dropbox/Git/radd/fit.py\u001b[0m in \u001b[0;36m__test_global__\u001b[1;34m(self, popt_fmin, contender)\u001b[0m\n\u001b[0;32m    312\u001b[0m \u001b[1;33m\u001b[0m\u001b[0m\n\u001b[0;32m    313\u001b[0m             \u001b[0myhat_contender\u001b[0m \u001b[1;33m=\u001b[0m \u001b[0mself\u001b[0m\u001b[1;33m.\u001b[0m\u001b[0msimulator\u001b[0m\u001b[1;33m.\u001b[0m\u001b[0msim_fx\u001b[0m\u001b[1;33m(\u001b[0m\u001b[0mcontender\u001b[0m\u001b[1;33m)\u001b[0m\u001b[1;33m\u001b[0m\u001b[0m\n\u001b[1;32m--> 314\u001b[1;33m             \u001b[0mcost_contender\u001b[0m \u001b[1;33m=\u001b[0m \u001b[0mnp\u001b[0m\u001b[1;33m.\u001b[0m\u001b[0msum\u001b[0m\u001b[1;33m(\u001b[0m\u001b[1;33m(\u001b[0m\u001b[1;33m(\u001b[0m\u001b[0myhat\u001b[0m \u001b[1;33m-\u001b[0m \u001b[0mself\u001b[0m\u001b[1;33m.\u001b[0m\u001b[0msimulator\u001b[0m\u001b[1;33m.\u001b[0m\u001b[0my\u001b[0m\u001b[1;33m)\u001b[0m\u001b[1;33m**\u001b[0m\u001b[1;36m2\u001b[0m\u001b[1;33m)\u001b[0m\u001b[1;33m*\u001b[0m\u001b[0mself\u001b[0m\u001b[1;33m.\u001b[0m\u001b[0msimulator\u001b[0m\u001b[1;33m.\u001b[0m\u001b[0mwts\u001b[0m\u001b[1;33m)\u001b[0m\u001b[1;33m\u001b[0m\u001b[0m\n\u001b[0m\u001b[0;32m    315\u001b[0m \u001b[1;33m\u001b[0m\u001b[0m\n\u001b[0;32m    316\u001b[0m             \u001b[0myhat_inits\u001b[0m \u001b[1;33m=\u001b[0m \u001b[0mself\u001b[0m\u001b[1;33m.\u001b[0m\u001b[0msimulator\u001b[0m\u001b[1;33m.\u001b[0m\u001b[0msim_fx\u001b[0m\u001b[1;33m(\u001b[0m\u001b[0morig_inits\u001b[0m\u001b[1;33m)\u001b[0m\u001b[1;33m\u001b[0m\u001b[0m\n",
      "\u001b[1;31mNameError\u001b[0m: global name 'yhat' is not defined"
     ]
    }
   ],
   "source": [
    "p0 = m.opt.__hop_around__(niter=1, nsuccess=1)"
   ]
  },
  {
   "cell_type": "code",
   "execution_count": 791,
   "metadata": {
    "collapsed": false
   },
   "outputs": [
    {
     "data": {
      "text/plain": [
       "[0.007272626381189729]"
      ]
     },
     "execution_count": 791,
     "metadata": {},
     "output_type": "execute_result"
    }
   ],
   "source": [
    "funcmin"
   ]
  },
  {
   "cell_type": "code",
   "execution_count": 833,
   "metadata": {
    "collapsed": true
   },
   "outputs": [],
   "source": [
    "fp = m.opt.fitparams\n",
    "#if is_flat:\n",
    "bdata=[m.opt.flat_y]\n",
    "bwts=[fp['flat_wts']]\n",
    "ncond=1\n",
    "basin_keys=p.keys()\n",
    "p={k:array([v]) for k,v in p.items()}\n",
    "#else:\n",
    "#      basin_keys=self.pc_map.keys()\n",
    "#      # get condition wise y vectors\n",
    "#      bdata, bwts = self.__prep_basin_data__()\n",
    "#      ncond=self.ncond\n",
    "#if bounds != None:\n",
    "xmax = [bounds[pk][1] for pk in basin_keys]\n",
    "xmin = [bounds[pk][0] for pk in basin_keys]\n",
    "take_step = RandomDisplacementBounds(xmin, xmax)\n",
    "xbnd=[bounds[pk] for pk in basin_keys]\n",
    "mkwargs = {\"method\": \"L-BFGS-B\", \"bounds\": xbnd, 'tol':1.e-4}"
   ]
  },
  {
   "cell_type": "code",
   "execution_count": 823,
   "metadata": {
    "collapsed": false
   },
   "outputs": [],
   "source": [
    "m.opt.simulator.y = m.y.flatten()\n",
    "m.opt.simulator.wts=m.wts.flatten()"
   ]
  },
  {
   "cell_type": "code",
   "execution_count": 832,
   "metadata": {
    "collapsed": false
   },
   "outputs": [
    {
     "data": {
      "text/plain": [
       "0.018085202991403631"
      ]
     },
     "execution_count": 832,
     "metadata": {},
     "output_type": "execute_result"
    }
   ],
   "source": [
    "m.opt.simulator.basin_keys=['v']\n",
    "m.opt.simulator.ncond=2\n",
    "m.opt.simulator.basin_params=m.inits\n",
    "m.opt.simulator.basinhopping_minimizer(x)"
   ]
  },
  {
   "cell_type": "code",
   "execution_count": 812,
   "metadata": {
    "collapsed": true
   },
   "outputs": [],
   "source": [
    " x=[params[pk] for pk in basin_keys]"
   ]
  },
  {
   "cell_type": "code",
   "execution_count": 843,
   "metadata": {
    "collapsed": false
   },
   "outputs": [],
   "source": [
    "xmin, xmax, x = [], [], []"
   ]
  },
  {
   "cell_type": "code",
   "execution_count": 814,
   "metadata": {
    "collapsed": false
   },
   "outputs": [],
   "source": [
    "x = m.inits['v']"
   ]
  },
  {
   "cell_type": "code",
   "execution_count": null,
   "metadata": {
    "collapsed": true
   },
   "outputs": [],
   "source": [
    "m.opt.basin"
   ]
  },
  {
   "cell_type": "code",
   "execution_count": 866,
   "metadata": {
    "collapsed": false
   },
   "outputs": [
    {
     "data": {
      "text/plain": [
       "([(0.01, 4.0), (0.01, 4.0)], [0.01, 0.01], [4.0, 4.0])"
      ]
     },
     "execution_count": 866,
     "metadata": {},
     "output_type": "execute_result"
    }
   ],
   "source": [
    "basin_keys = m.pc_map.keys()\n",
    "theta.format_basinhopping_bounds(basin_keys, m.ncond, kind='radd')"
   ]
  },
  {
   "cell_type": "code",
   "execution_count": 872,
   "metadata": {
    "collapsed": false
   },
   "outputs": [
    {
     "data": {
      "text/plain": [
       "{'a': array([ 0.44471,  0.44471]),\n",
       " 'ssv': -0.9415135,\n",
       " 'tr': array([ 0.30481,  0.30481]),\n",
       " 'v': array([ 1.5382 ,  1.32511]),\n",
       " 'xb': array([ 1.5,  1.5]),\n",
       " 'z': 0.15049553}"
      ]
     },
     "execution_count": 872,
     "metadata": {},
     "output_type": "execute_result"
    }
   ],
   "source": [
    "m.inits"
   ]
  },
  {
   "cell_type": "code",
   "execution_count": 874,
   "metadata": {
    "collapsed": false
   },
   "outputs": [
    {
     "data": {
      "text/plain": [
       "array([ 0.9994 ,  0.997  ,  0.9822 ,  0.9046 ,  0.2732 ,  0.0286 ,\n",
       "        0.48981,  0.51081,  0.52681,  0.54381,  0.57181,  0.48581,\n",
       "        0.50481,  0.52081,  0.53581,  0.56081,  0.9734 ,  0.9978 ,\n",
       "        0.9934 ,  0.9642 ,  0.551  ,  0.124  ,  0.51681,  0.54381,\n",
       "        0.56281,  0.58381,  0.61381,  0.50881,  0.53381,  0.55081,\n",
       "        0.57081,  0.59681])"
      ]
     },
     "execution_count": 874,
     "metadata": {},
     "output_type": "execute_result"
    }
   ],
   "source": [
    "pdict = {'a': array([ 0.44471,  0.44471]),\n",
    "  'ssv': -0.9415135,\n",
    "  'tr': array([ 0.30481,  0.30481]),\n",
    "  'v': array([ 1.24193,  1.04404]),\n",
    "  'xb': array([ 1.5,  1.5]),\n",
    "  'z': 0.15049553}\n",
    "m.opt.simulator.sim_fx(pdict)"
   ]
  },
  {
   "cell_type": "code",
   "execution_count": null,
   "metadata": {
    "collapsed": true
   },
   "outputs": [],
   "source": [
    "m.w"
   ]
  },
  {
   "cell_type": "code",
   "execution_count": 934,
   "metadata": {
    "collapsed": false
   },
   "outputs": [],
   "source": [
    "m = build.Model(data=redf_store.redata, kind='xradd', dynamic='hyp', depends_on={'v':'Cond'})\n",
    "m.make_optimizer(tol=1.e-5, random_inits=True, fit_seq='flat')\n",
    "simfx = m.opt.simulator.sim_fx\n",
    "\n",
    "p = m.__get_optimized_params__()\n",
    "px = dict(deepcopy(p))"
   ]
  },
  {
   "cell_type": "code",
   "execution_count": 930,
   "metadata": {
    "collapsed": true
   },
   "outputs": [],
   "source": [
    "p = m.opt.__nudge_params__(m.inits)\n",
    "fit = reload(fit)"
   ]
  },
  {
   "cell_type": "code",
   "execution_count": 939,
   "metadata": {
    "collapsed": false
   },
   "outputs": [],
   "source": [
    "wts = m.opt.weight_by_simulated_variance(p, nsims=20)\n"
   ]
  },
  {
   "cell_type": "code",
   "execution_count": 940,
   "metadata": {
    "collapsed": false
   },
   "outputs": [
    {
     "data": {
      "text/plain": [
       "array([ 1.11111,  5.     ,  2.     ,  0.90909,  0.26316,  0.41667,\n",
       "        1.     ,  0.88889,  1.     ,  0.88889,  1.     ,  0.72727,\n",
       "        0.8    ,  1.14286,  1.14286,  1.     ,  0.81818,  6.75   ,\n",
       "        5.4    ,  1.28571,  0.54   ,  0.51923,  1.     ,  1.     ,\n",
       "        1.25   ,  1.     ,  1.42857,  0.58824,  0.83333,  0.90909,\n",
       "        1.11111,  0.71429])"
      ]
     },
     "execution_count": 940,
     "metadata": {},
     "output_type": "execute_result"
    }
   ],
   "source": [
    "wts"
   ]
  },
  {
   "cell_type": "code",
   "execution_count": 888,
   "metadata": {
    "collapsed": false
   },
   "outputs": [],
   "source": [
    "#l=[]\n",
    "#for i in range(200):\n",
    "nsims = [m.opt.simulator.sim_fx(p) for i in range(200)]"
   ]
  },
  {
   "cell_type": "code",
   "execution_count": 893,
   "metadata": {
    "collapsed": false
   },
   "outputs": [
    {
     "data": {
      "text/plain": [
       "(200, 32)"
      ]
     },
     "execution_count": 893,
     "metadata": {},
     "output_type": "execute_result"
    }
   ],
   "source": [
    "np.array(nsims).shape"
   ]
  },
  {
   "cell_type": "code",
   "execution_count": 894,
   "metadata": {
    "collapsed": true
   },
   "outputs": [],
   "source": [
    "from pandas import DataFrame as DF\n",
    "df = DF(np.asarray(nsims))"
   ]
  },
  {
   "cell_type": "code",
   "execution_count": 915,
   "metadata": {
    "collapsed": false
   },
   "outputs": [],
   "source": [
    "def weight_by_simulated_variance(params, nsims):\n",
    "      sims = [m.opt.simulator.sim_fx(p) for i in range(200)]\n",
    "      x = df.std().values.reshape(self.ncond,16)\n",
    "\n",
    "      x[:, :6] = np.median(x[:, :6], axis=1)[:,None]/x[:, :6]\n",
    "      x[:, 6:] = np.median(x[:, 6:], axis=1)[:,None]/x[:, 6:]\n",
    "#np.mean(x[:, 6:], axis=1)[:,None]/x[:, :6]\n",
    "#wts = np.median(x[:, 6:], axis=1)[:,None]/x[:, 6:]"
   ]
  },
  {
   "cell_type": "code",
   "execution_count": 917,
   "metadata": {
    "collapsed": false
   },
   "outputs": [
    {
     "data": {
      "text/plain": [
       "array([ 1.20793,  5.29499,  2.40383,  0.85314,  0.38612,  0.80831,\n",
       "        0.93239,  1.03262,  0.93813,  0.9128 ,  0.87738,  0.25785,\n",
       "        0.31503,  0.3355 ,  0.28454,  0.26913,  0.99303,  3.80336,\n",
       "        2.74566,  1.00707,  0.48012,  0.60222,  0.81177,  0.95525,\n",
       "        0.96119,  0.8995 ,  0.93431,  0.07426,  0.09043,  0.29491,\n",
       "        0.28395,  0.3065 ])"
      ]
     },
     "execution_count": 917,
     "metadata": {},
     "output_type": "execute_result"
    }
   ],
   "source": [
    "m.wts"
   ]
  },
  {
   "cell_type": "code",
   "execution_count": 1056,
   "metadata": {
    "collapsed": true
   },
   "outputs": [],
   "source": [
    "p = m.__get_optimized_params__()"
   ]
  },
  {
   "cell_type": "code",
   "execution_count": 1057,
   "metadata": {
    "collapsed": false
   },
   "outputs": [
    {
     "data": {
      "text/plain": [
       "{'a': 0.44470913,\n",
       " 'ssv': -0.9415135,\n",
       " 'tr': 0.30481227,\n",
       " 'v': array([ 1.11356,  1.02797]),\n",
       " 'xb': 0.09996123,\n",
       " 'z': 0.15049553}"
      ]
     },
     "execution_count": 1057,
     "metadata": {},
     "output_type": "execute_result"
    }
   ],
   "source": [
    "p"
   ]
  },
  {
   "cell_type": "code",
   "execution_count": 1055,
   "metadata": {
    "collapsed": false
   },
   "outputs": [
    {
     "data": {
      "text/plain": [
       "array([ 0.0023 ,  1.     ,  1.     ,  1.     ,  1.     ,  0.9992 ,\n",
       "        0.60257,  0.62761,  0.64281,  0.64745,  0.64981,  0.61781,\n",
       "        0.62639,  0.63681,  0.64519,  0.64981,  1.     ,  0.9608 ,\n",
       "        0.8032 ,  0.3848 ,  0.0036 ,  0.1086 ,  0.42981,  0.43981,\n",
       "        0.44481,  0.45281,  0.46481,  0.42981,  0.43981,  0.44481,\n",
       "        0.45081,  0.46481])"
      ]
     },
     "execution_count": 1055,
     "metadata": {},
     "output_type": "execute_result"
    }
   ],
   "source": [
    "simfx(m.inits)"
   ]
  },
  {
   "cell_type": "code",
   "execution_count": null,
   "metadata": {
    "collapsed": false,
    "scrolled": true
   },
   "outputs": [
    {
     "name": "stdout",
     "output_type": "stream",
     "text": [
      "basinhopping step 0: f 1.42302\n",
      "basinhopping step 1: f 1.42302 trial_f 7.87936 accepted 0  lowest_f 1.42302\n",
      "basinhopping step 2: f 1.42302 trial_f 7.43658 accepted 0  lowest_f 1.42302\n",
      "basinhopping step 3: f 1.42302 trial_f 6.55989 accepted 0  lowest_f 1.42302"
     ]
    }
   ],
   "source": [
    "p, fmin = m.opt.perform_basinhopping(p=p, stepsize=1.2)"
   ]
  },
  {
   "cell_type": "code",
   "execution_count": 998,
   "metadata": {
    "collapsed": false
   },
   "outputs": [
    {
     "data": {
      "text/plain": [
       "array([ 0.9642 ,  0.9994 ,  0.995  ,  0.9634 ,  0.5352 ,  0.1194 ,\n",
       "        0.51781,  0.54381,  0.56581,  0.58581,  0.61681,  0.51181,\n",
       "        0.53581,  0.55381,  0.57181,  0.60081,  0.901  ,  0.9996 ,\n",
       "        0.9972 ,  0.9802 ,  0.6642 ,  0.2182 ,  0.52981,  0.55981,\n",
       "        0.58181,  0.60081,  0.63081,  0.52181,  0.54781,  0.56781,\n",
       "        0.58981,  0.61481])"
      ]
     },
     "execution_count": 998,
     "metadata": {},
     "output_type": "execute_result"
    }
   ],
   "source": [
    "yhat"
   ]
  },
  {
   "cell_type": "code",
   "execution_count": 1004,
   "metadata": {
    "collapsed": false
   },
   "outputs": [],
   "source": [
    "res = m.wts*r**2\n"
   ]
  },
  {
   "cell_type": "code",
   "execution_count": 792,
   "metadata": {
    "collapsed": false
   },
   "outputs": [
    {
     "data": {
      "text/plain": [
       "[array([ 0.44471,  1.5    , -0.94151,  0.30481,  1.0705 ,  0.1505 ])]"
      ]
     },
     "execution_count": 792,
     "metadata": {},
     "output_type": "execute_result"
    }
   ],
   "source": [
    "xopt"
   ]
  },
  {
   "cell_type": "code",
   "execution_count": 783,
   "metadata": {
    "collapsed": true
   },
   "outputs": [],
   "source": [
    "class RandomDisplacementBounds(object):\n",
    "      \"\"\"random displacement with bounds\"\"\"\n",
    "      def __init__(self, xmin, xmax, stepsize=0.5):\n",
    "            self.xmin = xmin\n",
    "            self.xmax = xmax\n",
    "            self.stepsize = stepsize\n",
    "\n",
    "      def __call__(self, x):\n",
    "            \"\"\"take a random step but ensure the new position is within the bounds\"\"\"\n",
    "            while True:\n",
    "                  #return np.clip( x + np.random.uniform(-self.stepsize, self.stepsize, np.shape(x)), xmin, xmax )\n",
    "                  # this could be done in a much more clever way, but it will work for example purposes\n",
    "                  xnew = x + np.random.uniform(-self.stepsize, self.stepsize, np.shape(x))\n",
    "                  if np.all(xnew < xmax) and np.all(xnew > xmin):\n",
    "                        break\n",
    "            return xnew\n",
    "\n"
   ]
  },
  {
   "cell_type": "code",
   "execution_count": null,
   "metadata": {
    "collapsed": true
   },
   "outputs": [],
   "source": [
    "vis.plot_reactive_fits(m, save=True)"
   ]
  }
 ],
 "metadata": {
  "kernelspec": {
   "display_name": "Python 2",
   "language": "python",
   "name": "python2"
  },
  "language_info": {
   "codemirror_mode": {
    "name": "ipython",
    "version": 2
   },
   "file_extension": ".py",
   "mimetype": "text/x-python",
   "name": "python",
   "nbconvert_exporter": "python",
   "pygments_lexer": "ipython2",
   "version": "2.7.10"
  }
 },
 "nbformat": 4,
 "nbformat_minor": 0
}
