{
 "cells": [
  {
   "cell_type": "markdown",
   "metadata": {},
   "source": [
    "# Reactive Vii"
   ]
  },
  {
   "cell_type": "code",
   "execution_count": 2,
   "metadata": {
    "collapsed": true
   },
   "outputs": [],
   "source": [
    "from radd import build, vis\n",
    "from radd.toolbox import analyze"
   ]
  },
  {
   "cell_type": "code",
   "execution_count": null,
   "metadata": {
    "collapsed": true
   },
   "outputs": [],
   "source": [
    "xi1={'a': array([ 0.67453]), 'z': 0.0010132587773621401, 'v': array([ 1.21102]), 'xb': array([ 1.20662]), 'ssv': -1.5640145715127098, 'tr': array([ 0.09438])}\n",
    "xi2={'a': array([ 0.3964]), 'z': 0.11776271765753309, 'v': array([ 0.90978]), 'xb': array([ 1.66779]), 'ssv': -0.78812139050158159, 'tr': array([ 0.29153])}\n",
    "xi3={'a': array([ 0.54262]), 'z': 0.043672738124915685, 'v': array([ 1.20861]), 'xb': array([ 0.8175]), 'ssv': -1.1048747883708683, 'tr': array([ 0.18567])}\n",
    "xi4={'a': array([ 0.44534]), 'z': 0.15913361713683202, 'v': array([ 0.96577]), 'xb': array([ 1.52569]), 'ssv': -0.90737967491616311, 'tr': array([ 0.30453])}"
   ]
  },
  {
   "cell_type": "code",
   "execution_count": 12,
   "metadata": {
    "collapsed": false
   },
   "outputs": [],
   "source": [
    "x1 = {'a_bsl':   0.529353,\n",
    "'a_pnl': 0.553150,\n",
    "'xb': 0.817502,\n",
    "'ssv': -1.104875,\n",
    "'tr': 0.185667,\n",
    "'v': 1.208608,\n",
    "'z': 0.0436727}\n",
    "\n",
    "x2 = {'a': 0.3964024,\n",
    " 'ssv': -0.7881214,\n",
    " 'tr': 0.2915253,\n",
    " 'v_bsl': 0.93931011,\n",
    " 'v_pnl': 0.88324705,\n",
    " 'xb': 1.667787,\n",
    " 'z': 0.1177627}\n",
    "\n",
    "x3={'a': 0.44534253,\n",
    " 'ssv':  -.9073797,\n",
    " 'tr_bsl':   0.29969275,\n",
    " 'tr_pnl':   0.31056620,\n",
    " 'v': 0.965766,\n",
    " 'xb': 1.52569355,\n",
    " 'z': 0.1591336}\n",
    "\n",
    "x4={'a': 0.44534253,\n",
    " 'ssv':  -1.564015,\n",
    " 'tr_bsl': 0.19521031,\n",
    " 'tr_pnl': 0.19703793,\n",
    " 'v_bsl': 1.80694264,\n",
    " 'v_pnl': 1.75763984,\n",
    " 'xb': 1.206618,\n",
    " 'z': 0.001013259}\n",
    "\n",
    "x4['tr'] = np.mean([x4['tr_bsl'], x4['tr_pnl']])\n",
    "x4['v'] = np.mean([x4['v_bsl'], x4['v_pnl']])\n",
    "x2['v'] = np.mean([x2['v_bsl'], x2['v_pnl']])\n",
    "x3['tr'] = np.mean([x3['tr_bsl'], x3['tr_pnl']])\n",
    "x1['a'] = np.mean([x1['a_bsl'], x1['a_pnl']])"
   ]
  },
  {
   "cell_type": "code",
   "execution_count": 25,
   "metadata": {
    "collapsed": true
   },
   "outputs": [],
   "source": [
    "#aic_list, bic_list, rchi_list, finfo_list, yhat_list = [], [], [], [], []\n",
    "\n",
    "rchi_list = [fi.rchi for fi in finfo_list]\n",
    "bic_list = [fi.BIC for fi in finfo_list]\n",
    "aic_list = [fi.AIC for fi in finfo_list]"
   ]
  },
  {
   "cell_type": "code",
   "execution_count": 27,
   "metadata": {
    "collapsed": false,
    "scrolled": false
   },
   "outputs": [
    {
     "name": "stdout",
     "output_type": "stream",
     "text": [
      "Optimization terminated successfully.\n",
      "         Current function value: 0.000028\n",
      "         Iterations: 24\n",
      "         Function evaluations: 57\n",
      "Optimization terminated successfully.\n",
      "         Current function value: 0.000029\n",
      "         Iterations: 26\n",
      "         Function evaluations: 63\n",
      "Optimization terminated successfully.\n",
      "         Current function value: 0.000029\n",
      "         Iterations: 27\n",
      "         Function evaluations: 62\n",
      "Optimization terminated successfully.\n",
      "         Current function value: 0.000029\n",
      "         Iterations: 26\n",
      "         Function evaluations: 66\n",
      "Optimization terminated successfully.\n",
      "         Current function value: 0.000031\n",
      "         Iterations: 31\n",
      "         Function evaluations: 68\n",
      "Optimization terminated successfully.\n",
      "         Current function value: 0.000029\n",
      "         Iterations: 29\n",
      "         Function evaluations: 73\n",
      "Optimization terminated successfully.\n",
      "         Current function value: 0.000027\n",
      "         Iterations: 27\n",
      "         Function evaluations: 61\n",
      "Optimization terminated successfully.\n",
      "         Current function value: 0.000028\n",
      "         Iterations: 24\n",
      "         Function evaluations: 59\n",
      "Optimization terminated successfully.\n",
      "         Current function value: 0.000029\n",
      "         Iterations: 28\n",
      "         Function evaluations: 68\n",
      "Optimization terminated successfully.\n",
      "         Current function value: 0.000028\n",
      "         Iterations: 30\n",
      "         Function evaluations: 72\n",
      "Optimization terminated successfully.\n",
      "         Current function value: 0.000031\n",
      "         Iterations: 27\n",
      "         Function evaluations: 66\n",
      "Optimization terminated successfully.\n",
      "         Current function value: 0.000030\n",
      "         Iterations: 27\n",
      "         Function evaluations: 62\n",
      "Optimization terminated successfully.\n",
      "         Current function value: 0.000027\n",
      "         Iterations: 22\n",
      "         Function evaluations: 58\n",
      "Optimization terminated successfully.\n",
      "         Current function value: 0.000028\n",
      "         Iterations: 26\n",
      "         Function evaluations: 66\n",
      "Optimization terminated successfully.\n",
      "         Current function value: 0.000029\n",
      "         Iterations: 26\n",
      "         Function evaluations: 60\n",
      "Optimization terminated successfully.\n",
      "         Current function value: 0.000028\n",
      "         Iterations: 27\n",
      "         Function evaluations: 63\n",
      "Optimization terminated successfully.\n",
      "         Current function value: 0.000029\n",
      "         Iterations: 22\n",
      "         Function evaluations: 56\n",
      "Optimization terminated successfully.\n",
      "         Current function value: 0.000026\n",
      "         Iterations: 21\n",
      "         Function evaluations: 57\n",
      "Optimization terminated successfully.\n",
      "         Current function value: 0.000030\n",
      "         Iterations: 27\n",
      "         Function evaluations: 71\n",
      "Optimization terminated successfully.\n",
      "         Current function value: 0.000029\n",
      "         Iterations: 27\n",
      "         Function evaluations: 62\n",
      "Optimization terminated successfully.\n",
      "         Current function value: 0.000029\n",
      "         Iterations: 22\n",
      "         Function evaluations: 59\n",
      "Optimization terminated successfully.\n",
      "         Current function value: 0.000027\n",
      "         Iterations: 27\n",
      "         Function evaluations: 73\n",
      "Optimization terminated successfully.\n",
      "         Current function value: 0.000029\n",
      "         Iterations: 21\n",
      "         Function evaluations: 55\n",
      "Optimization terminated successfully.\n",
      "         Current function value: 0.000031\n",
      "         Iterations: 25\n",
      "         Function evaluations: 64\n",
      "Optimization terminated successfully.\n",
      "         Current function value: 0.000030\n",
      "         Iterations: 23\n",
      "         Function evaluations: 55\n",
      "Optimization terminated successfully.\n",
      "         Current function value: 0.000028\n",
      "         Iterations: 21\n",
      "         Function evaluations: 54\n",
      "Optimization terminated successfully.\n",
      "         Current function value: 0.000030\n",
      "         Iterations: 21\n",
      "         Function evaluations: 57\n",
      "Optimization terminated successfully.\n",
      "         Current function value: 0.000030\n",
      "         Iterations: 24\n",
      "         Function evaluations: 56\n",
      "Optimization terminated successfully.\n",
      "         Current function value: 0.000026\n",
      "         Iterations: 25\n",
      "         Function evaluations: 62\n",
      "Optimization terminated successfully.\n",
      "         Current function value: 0.000030\n",
      "         Iterations: 23\n",
      "         Function evaluations: 62\n",
      "Optimization terminated successfully.\n",
      "         Current function value: 0.000031\n",
      "         Iterations: 28\n",
      "         Function evaluations: 67\n",
      "Optimization terminated successfully.\n",
      "         Current function value: 0.000032\n",
      "         Iterations: 27\n",
      "         Function evaluations: 67\n",
      "Optimization terminated successfully.\n",
      "         Current function value: 0.000030\n",
      "         Iterations: 24\n",
      "         Function evaluations: 60\n",
      "Optimization terminated successfully.\n",
      "         Current function value: 0.000031\n",
      "         Iterations: 21\n",
      "         Function evaluations: 54\n",
      "Optimization terminated successfully.\n",
      "         Current function value: 0.000029\n",
      "         Iterations: 23\n",
      "         Function evaluations: 57\n",
      "Optimization terminated successfully.\n",
      "         Current function value: 0.000030\n",
      "         Iterations: 31\n",
      "         Function evaluations: 71\n",
      "Optimization terminated successfully.\n",
      "         Current function value: 0.000033\n",
      "         Iterations: 26\n",
      "         Function evaluations: 66\n",
      "Optimization terminated successfully.\n",
      "         Current function value: 0.000029\n",
      "         Iterations: 22\n",
      "         Function evaluations: 53\n",
      "Optimization terminated successfully.\n",
      "         Current function value: 0.000036\n",
      "         Iterations: 27\n",
      "         Function evaluations: 68\n",
      "Optimization terminated successfully.\n",
      "         Current function value: 0.000027\n",
      "         Iterations: 30\n",
      "         Function evaluations: 67\n",
      "Optimization terminated successfully.\n",
      "         Current function value: 0.000029\n",
      "         Iterations: 23\n",
      "         Function evaluations: 59\n",
      "Optimization terminated successfully.\n",
      "         Current function value: 0.000027\n",
      "         Iterations: 33\n",
      "         Function evaluations: 82\n",
      "Optimization terminated successfully.\n",
      "         Current function value: 0.000030\n",
      "         Iterations: 27\n",
      "         Function evaluations: 65\n",
      "Optimization terminated successfully.\n",
      "         Current function value: 0.000031\n",
      "         Iterations: 24\n",
      "         Function evaluations: 66\n",
      "Optimization terminated successfully.\n",
      "         Current function value: 0.000031\n",
      "         Iterations: 22\n",
      "         Function evaluations: 55\n",
      "Optimization terminated successfully.\n",
      "         Current function value: 0.000027\n",
      "         Iterations: 26\n",
      "         Function evaluations: 65\n",
      "Optimization terminated successfully.\n",
      "         Current function value: 0.000027\n",
      "         Iterations: 27\n",
      "         Function evaluations: 63\n",
      "Optimization terminated successfully.\n",
      "         Current function value: 0.000031\n",
      "         Iterations: 26\n",
      "         Function evaluations: 63\n",
      "Optimization terminated successfully.\n",
      "         Current function value: 0.000028\n",
      "         Iterations: 23\n",
      "         Function evaluations: 61\n",
      "Optimization terminated successfully.\n",
      "         Current function value: 0.000029\n",
      "         Iterations: 23\n",
      "         Function evaluations: 60\n",
      "Optimization terminated successfully.\n",
      "         Current function value: 0.000027\n",
      "         Iterations: 23\n",
      "         Function evaluations: 62\n",
      "Optimization terminated successfully.\n",
      "         Current function value: 0.000027\n",
      "         Iterations: 21\n",
      "         Function evaluations: 57\n",
      "Optimization terminated successfully.\n",
      "         Current function value: 0.000031\n",
      "         Iterations: 25\n",
      "         Function evaluations: 67\n",
      "Optimization terminated successfully.\n",
      "         Current function value: 0.000031\n",
      "         Iterations: 29\n",
      "         Function evaluations: 69\n",
      "Optimization terminated successfully.\n",
      "         Current function value: 0.000031\n",
      "         Iterations: 21\n",
      "         Function evaluations: 57\n",
      "Optimization terminated successfully.\n",
      "         Current function value: 0.000036\n",
      "         Iterations: 27\n",
      "         Function evaluations: 64\n",
      "Optimization terminated successfully.\n",
      "         Current function value: 0.000028\n",
      "         Iterations: 24\n",
      "         Function evaluations: 56\n",
      "Optimization terminated successfully.\n",
      "         Current function value: 0.000029\n",
      "         Iterations: 32\n",
      "         Function evaluations: 85\n",
      "Optimization terminated successfully.\n",
      "         Current function value: 0.000030\n",
      "         Iterations: 25\n",
      "         Function evaluations: 60\n",
      "Optimization terminated successfully.\n",
      "         Current function value: 0.000032\n",
      "         Iterations: 28\n",
      "         Function evaluations: 64\n",
      "Optimization terminated successfully.\n",
      "         Current function value: 0.000032\n",
      "         Iterations: 26\n",
      "         Function evaluations: 63\n",
      "Optimization terminated successfully.\n",
      "         Current function value: 0.000031\n",
      "         Iterations: 24\n",
      "         Function evaluations: 58\n",
      "Optimization terminated successfully.\n",
      "         Current function value: 0.000029\n",
      "         Iterations: 27\n",
      "         Function evaluations: 64\n",
      "Optimization terminated successfully.\n",
      "         Current function value: 0.000029\n",
      "         Iterations: 27\n",
      "         Function evaluations: 68\n",
      "Optimization terminated successfully.\n",
      "         Current function value: 0.000031\n",
      "         Iterations: 21\n",
      "         Function evaluations: 57\n",
      "Optimization terminated successfully.\n",
      "         Current function value: 0.000030\n",
      "         Iterations: 22\n",
      "         Function evaluations: 57\n",
      "Optimization terminated successfully.\n",
      "         Current function value: 0.000029\n",
      "         Iterations: 24\n",
      "         Function evaluations: 55\n",
      "Optimization terminated successfully.\n",
      "         Current function value: 0.000027\n",
      "         Iterations: 27\n",
      "         Function evaluations: 68\n",
      "Optimization terminated successfully.\n",
      "         Current function value: 0.000033\n",
      "         Iterations: 23\n",
      "         Function evaluations: 57\n",
      "Optimization terminated successfully.\n",
      "         Current function value: 0.000034\n",
      "         Iterations: 24\n",
      "         Function evaluations: 60\n",
      "Optimization terminated successfully.\n",
      "         Current function value: 0.000027\n",
      "         Iterations: 34\n",
      "         Function evaluations: 80\n",
      "Optimization terminated successfully.\n",
      "         Current function value: 0.000030\n",
      "         Iterations: 21\n",
      "         Function evaluations: 53\n",
      "Optimization terminated successfully.\n",
      "         Current function value: 0.000025\n",
      "         Iterations: 28\n",
      "         Function evaluations: 65\n",
      "Optimization terminated successfully.\n",
      "         Current function value: 0.000029\n",
      "         Iterations: 25\n",
      "         Function evaluations: 61\n",
      "Optimization terminated successfully.\n",
      "         Current function value: 0.000029\n",
      "         Iterations: 24\n",
      "         Function evaluations: 61\n",
      "Optimization terminated successfully.\n",
      "         Current function value: 0.000029\n",
      "         Iterations: 26\n",
      "         Function evaluations: 64\n",
      "Optimization terminated successfully.\n",
      "         Current function value: 0.000028\n",
      "         Iterations: 22\n",
      "         Function evaluations: 56\n",
      "Optimization terminated successfully.\n",
      "         Current function value: 0.000032\n",
      "         Iterations: 21\n",
      "         Function evaluations: 56\n",
      "Optimization terminated successfully.\n",
      "         Current function value: 0.000026\n",
      "         Iterations: 25\n",
      "         Function evaluations: 58\n",
      "Optimization terminated successfully.\n",
      "         Current function value: 0.000031\n",
      "         Iterations: 23\n",
      "         Function evaluations: 57\n"
     ]
    }
   ],
   "source": [
    "for i in range(20):\n",
    "      \n",
    "      xinits_list = [deepcopy(xdct) for xdct in [x1,x2,x3,x4]]\n",
    "      parameter = 'v'\n",
    "      depends_on = {parameter:'Cond'}\n",
    "\n",
    "      d = '/'.join(['FinalRe', parameter+'iii'])\n",
    "      if not os.path.isdir(pth+d):\n",
    "            os.mkdir(pth+d)\n",
    "      os.chdir(pth+d)\n",
    "\n",
    "      for xi in xinits_list:\n",
    "            model = build.Model(data=redata, kind='xradd', inits=xi, depends_on=depends_on)\n",
    "            model.make_optimizer(tol=1.e-5, multiopt=True, maxfev=500)\n",
    "            opt=model.opt\n",
    "            opt.make_simulator()\n",
    "\n",
    "            ydata, ywts = model.avg_y, model.avg_wts\n",
    "            # STAGE 3 (Final Simplex)\n",
    "            yhat, finfo, xiv = opt.gradient_descent(y=ydata, wts=ywts, inits=xi, is_flat=False)\n",
    "            \n",
    "            aic_list.append(finfo.AIC)\n",
    "            bic_list.append(finfo.BIC)\n",
    "            rchi_list.append(finfo.rchi)\n",
    "            finfo_list.append(finfo)\n",
    "            yhat_list.append(yhat)"
   ]
  },
  {
   "cell_type": "code",
   "execution_count": 42,
   "metadata": {
    "collapsed": true
   },
   "outputs": [],
   "source": [
    "cnvrg_list = [fi.cnvrg for fi in finfo_list]"
   ]
  },
  {
   "cell_type": "code",
   "execution_count": 45,
   "metadata": {
    "collapsed": false
   },
   "outputs": [],
   "source": [
    "df = pd.DataFrame({'rchi':rchi_list, 'bic':bic_list, 'aic':aic_list})\n",
    "#df.to_csv('xradd_v_bstats.csv', index=False)"
   ]
  },
  {
   "cell_type": "code",
   "execution_count": 56,
   "metadata": {
    "collapsed": false
   },
   "outputs": [],
   "source": [
    "#finfo_list_big\n",
    "yhlist = deepcopy(yhat_list[:100])\n",
    "fil = deepcopy(finfo_list[:100])"
   ]
  },
  {
   "cell_type": "code",
   "execution_count": 46,
   "metadata": {
    "collapsed": false
   },
   "outputs": [],
   "source": [
    "df.insert(0, 'cnvrg', cnvrg_list)"
   ]
  },
  {
   "cell_type": "code",
   "execution_count": null,
   "metadata": {
    "collapsed": true
   },
   "outputs": [],
   "source": []
  },
  {
   "cell_type": "code",
   "execution_count": 58,
   "metadata": {
    "collapsed": false
   },
   "outputs": [],
   "source": [
    "dfx = pd.DataFrame([fi.T for fi in finfo_list])\n",
    "dff = dfx[['cnvrg', 'logp', 'chi', 'rchi', 'AIC', 'BIC', 'a', 'v_bsl', 'v_pnl', 'ssv', 'xb', 'tr', 'z']]\n",
    "dff.to_csv('xradd_v_bootinfo_all170.csv', index=False)\n",
    "\n",
    "yfits = np.vstack([np.vstack(yh.reshape(2,16)) for yh in yhat_list])\n",
    "cond = ['bsl', 'pnl']*int(len(yfits)/2)\n",
    "yhatdf = pd.DataFrame(yfits)\n",
    "yhatdf.insert(0, 'Cond', cond)\n",
    "yhatdf.to_csv('xradd_v_bootfits_all170.csv')"
   ]
  },
  {
   "cell_type": "code",
   "execution_count": 38,
   "metadata": {
    "collapsed": false
   },
   "outputs": [
    {
     "data": {
      "text/plain": [
       "<matplotlib.axes._subplots.AxesSubplot at 0x7f9035144f50>"
      ]
     },
     "execution_count": 38,
     "metadata": {},
     "output_type": "execute_result"
    },
    {
     "data": {
      "image/png": "[encoded data removed]",
      "text/plain": [
       "<matplotlib.figure.Figure at 0x7f903511b410>"
      ]
     },
     "metadata": {},
     "output_type": "display_data"
    }
   ],
   "source": [
    "sns.pointplot(data=df)"
   ]
  },
  {
   "cell_type": "code",
   "execution_count": 28,
   "metadata": {
    "collapsed": false
   },
   "outputs": [
    {
     "data": {
      "text/plain": [
       "-267.76469822041264"
      ]
     },
     "execution_count": 28,
     "metadata": {},
     "output_type": "execute_result"
    }
   ],
   "source": [
    "#np.mean([fi.AIC for fi in finfo_list])\n",
    "np.mean(aic_list)"
   ]
  },
  {
   "cell_type": "code",
   "execution_count": 22,
   "metadata": {
    "collapsed": false
   },
   "outputs": [],
   "source": [
    "l=list()\n",
    "#np.mean([fi.AIC for fi in finfo_list])\n",
    "for fi in finfo_list:\n",
    "      if fi.cnvrg:\n",
    "            l.append(fi.AIC)"
   ]
  },
  {
   "cell_type": "code",
   "execution_count": 23,
   "metadata": {
    "collapsed": false
   },
   "outputs": [
    {
     "data": {
      "text/plain": [
       "80"
      ]
     },
     "execution_count": 23,
     "metadata": {},
     "output_type": "execute_result"
    }
   ],
   "source": []
  },
  {
   "cell_type": "code",
   "execution_count": null,
   "metadata": {
    "collapsed": true
   },
   "outputs": [],
   "source": [
    "f, axes = plt.subplots(2,3,figsize=(12, 7))\n",
    "sns.set_context('notebook', font_scale=1.6)\n",
    "fits=m.fits.reshape(2,16)\n",
    "y=m.avg_y\n",
    "labels=['Baseline', 'Caution']\n",
    "datas=[redata.query('Cond==\"bsl\"'), redata.query('Cond==\"pnl\"')]\n",
    "colors=[\"#e74c3c\"]*2\n",
    "for i in range(m.ncond):\n",
    "      vis.plot_fits(y[i], fits[i], kind='radd', colors=[\"#e74c3c\"]*2, data=datas[i], axes=axes[i])\n",
    "\n",
    "for ax in axes.flatten():\n",
    "      if ax.is_last_col():\n",
    "            continue\n",
    "      ax.set_ylim(0,11)\n",
    "\n",
    "plt.savefig('re_drift_fitsII.png', dpi=500)\n",
    "plt.savefig('re_drift_fitsII.svg', rasterized=True)"
   ]
  }
 ],
 "metadata": {
  "kernelspec": {
   "display_name": "Python 2",
   "language": "python",
   "name": "python2"
  },
  "language_info": {
   "codemirror_mode": {
    "name": "ipython",
    "version": 2
   },
   "file_extension": ".py",
   "mimetype": "text/x-python",
   "name": "python",
   "nbconvert_exporter": "python",
   "pygments_lexer": "ipython2",
   "version": "2.7.10"
  }
 },
 "nbformat": 4,
 "nbformat_minor": 0
}
