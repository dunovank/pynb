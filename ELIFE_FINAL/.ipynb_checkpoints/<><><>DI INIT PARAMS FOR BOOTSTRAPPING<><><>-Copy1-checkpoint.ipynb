{
 "cells": [
  {
   "cell_type": "code",
   "execution_count": 1,
   "metadata": {
    "collapsed": false
   },
   "outputs": [],
   "source": [
    "from radd import build, fit"
   ]
  },
  {
   "cell_type": "code",
   "execution_count": 4,
   "metadata": {
    "collapsed": false
   },
   "outputs": [],
   "source": [
    "d = 'ELife/FinalDI/boots'\n",
    "if not os.path.isdir(pth+d):\n",
    "      os.mkdir(pth+d)\n",
    "os.chdir(pth+d)\n",
    "\n",
    "m =build.Model(data=redata, kind='xradd')"
   ]
  },
  {
   "cell_type": "code",
   "execution_count": 5,
   "metadata": {
    "collapsed": false
   },
   "outputs": [],
   "source": [
    "i_xiact={'a': 0.44422598, 'sso': 0.2040, 'ssv': 3.02348, 'tr': 0.21841, 'v': 1.31063, 'xb': 1.46335}\n",
    "i_xsab={'a':0.33184, 'sso': 0.096734, 'v': 1.15267, 'xb': 1.54195, 'ssv': -1.33500, 'tr': 0.29102}\n",
    "i_xradd={'a': 0.4489, 'z': 0.1766345, 'v': 0.959424, 'xb': 1.46335, 'ssv': -0.9862407, 'tr': 0.30588}\n",
    "i_xirace={'a': 0.24266,  'v': 1.05866,  'xb': 1.5, 'ssv': 1.12441, 'tr': 0.335, 'xb': 1.46335}"
   ]
  },
  {
   "cell_type": "code",
   "execution_count": 6,
   "metadata": {
    "collapsed": true
   },
   "outputs": [],
   "source": [
    "kinds = ['xradd', 'xirace', 'xiact']\n",
    "initslist=[i_xradd, i_xirace, i_xiact]"
   ]
  },
  {
   "cell_type": "code",
   "execution_count": null,
   "metadata": {
    "collapsed": true
   },
   "outputs": [],
   "source": [
    "\n",
    "#finfo_all=[xradd_finfo, xirace_finfo, xiact_finfo]"
   ]
  },
  {
   "cell_type": "code",
   "execution_count": null,
   "metadata": {
    "collapsed": true
   },
   "outputs": [],
   "source": []
  },
  {
   "cell_type": "code",
   "execution_count": 7,
   "metadata": {
    "collapsed": true
   },
   "outputs": [],
   "source": [
    "\n",
    "mlist = [build.Model(data=redata, kind=k, inits=initslist[i]) for i,k in enumerate(kinds)]"
   ]
  },
  {
   "cell_type": "code",
   "execution_count": null,
   "metadata": {
    "collapsed": false
   },
   "outputs": [
    {
     "name": "stdout",
     "output_type": "stream",
     "text": [
      "basinhopping step 0: f 0.0285293\n",
      "basinhopping step 1: f 0.0285293 trial_f 0.258385 accepted 0  lowest_f 0.0285293\n",
      "basinhopping step 2: f 0.25086 trial_f 0.25086 accepted 1  lowest_f 0.0285293\n",
      "basinhopping step 3: f 0.212391 trial_f 0.212391 accepted 1  lowest_f 0.0285293\n",
      "basinhopping step 4: f 0.461486 trial_f 0.461486 accepted 1  lowest_f 0.0285293\n",
      "basinhopping step 5: f 0.461486 trial_f 0.749788 accepted 0  lowest_f 0.0285293\n",
      "basinhopping step 6: f 0.242228 trial_f 0.242228 accepted 1  lowest_f 0.0285293"
     ]
    }
   ],
   "source": [
    "m.flat_y=m.avg_y[0]\n",
    "m.flat_wts=m.avg_wts[0]\n",
    "y=m.avg_y[0]\n",
    "finfo_list = []\n",
    "\n",
    "for i in range(20):\n",
    "      finfo_dict = {}\n",
    "      for km in mlist:\n",
    "            kind=km.kind\n",
    "            km.optimize(stage='flat', multiopt=True, y=y)\n",
    "            finfo_dict[kind] = km.flat_fitinfo\n",
    "      finfo_list.append(finfo_dict) "
   ]
  },
  {
   "cell_type": "code",
   "execution_count": null,
   "metadata": {
    "collapsed": true
   },
   "outputs": [],
   "source": []
  }
 ],
 "metadata": {
  "kernelspec": {
   "display_name": "Python 2",
   "language": "python",
   "name": "python2"
  },
  "language_info": {
   "codemirror_mode": {
    "name": "ipython",
    "version": 2
   },
   "file_extension": ".py",
   "mimetype": "text/x-python",
   "name": "python",
   "nbconvert_exporter": "python",
   "pygments_lexer": "ipython2",
   "version": "2.7.10"
  }
 },
 "nbformat": 4,
 "nbformat_minor": 0
}
