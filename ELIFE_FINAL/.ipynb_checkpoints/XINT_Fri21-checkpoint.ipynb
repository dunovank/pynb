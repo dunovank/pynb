{
 "cells": [
  {
   "cell_type": "code",
   "execution_count": 178,
   "metadata": {
    "collapsed": false
   },
   "outputs": [],
   "source": [
    "from __future__ import division\n",
    "from radd import build, models, fit, vis\n",
    "from radd.toolbox import theta\n",
    "import os\n",
    "import time\n",
    "from copy import deepcopy\n",
    "import numpy as np\n",
    "import pandas as pd\n",
    "from numpy import array\n",
    "from radd import models\n",
    "from radd.toolbox import theta\n",
    "from radd.toolbox.messages import logger, basin_accept_fun\n",
    "from lmfit import Parameters, minimize\n",
    "from radd.CORE import RADDCore\n",
    "from scipy.optimize import basinhopping, differential_evolution, brute\n",
    "from radd.toolbox import analyze\n",
    "analyze=reload(analyze)"
   ]
  },
  {
   "cell_type": "code",
   "execution_count": 324,
   "metadata": {
    "collapsed": false
   },
   "outputs": [],
   "source": [
    "os.chdir('/home/kyle/Dropbox/')"
   ]
  },
  {
   "cell_type": "code",
   "execution_count": 303,
   "metadata": {
    "collapsed": false
   },
   "outputs": [
    {
     "data": {
      "text/plain": [
       "{'a': 0.4433013, 'sso': 0.1999348, 'ssv': 3.018744, 'tr': 0.2171978, 'v': 1.29}"
      ]
     },
     "execution_count": 303,
     "metadata": {},
     "output_type": "execute_result"
    }
   ],
   "source": [
    "mx.inits"
   ]
  },
  {
   "cell_type": "code",
   "execution_count": 320,
   "metadata": {
    "collapsed": false
   },
   "outputs": [],
   "source": [
    "x = mx.opt.simulator.vectorize_params(x)"
   ]
  },
  {
   "cell_type": "code",
   "execution_count": 323,
   "metadata": {
    "collapsed": false
   },
   "outputs": [
    {
     "name": "stdout",
     "output_type": "stream",
     "text": [
      "[[Variables]]\n",
      "    a:     0.44996000 (init= 0.44996)\n",
      "    xb:    1          (init= 1)\n",
      "    ssv:   3.01561443 (init= 3.015614)\n",
      "    tr:    0.22108000 (init= 0.22108)\n",
      "    sso:   0.20066315 (init= 0.2006632)\n",
      "    v:     1.33306000 (init= 1.33306)\n",
      "[[Correlations]] (unreported correlations are <  0.100)\n"
     ]
    }
   ],
   "source": [
    "report_fit(theta.loadParameters(x, kind='xiact'))"
   ]
  },
  {
   "cell_type": "code",
   "execution_count": 296,
   "metadata": {
    "collapsed": false
   },
   "outputs": [],
   "source": [
    "POPT={'a': 0.45087785462921737, 'sso': 0.19945697034006749, 'ssv': 3.0039059461957929, 'tr':0.2224022953742677, 'v': 1.2996995656763999, 'xb':1.5}\n"
   ]
  },
  {
   "cell_type": "code",
   "execution_count": 300,
   "metadata": {
    "collapsed": false
   },
   "outputs": [],
   "source": [
    "mx = build.Model(data=redf_store.redata, kind='iact', dynamic='hyp', depends_on={'v':'Cond'})\n",
    "mx.make_optimizer(tol=1.e-10, ntrials=10000, maxfev=500, multiopt=True)\n",
    "mx.opt.flat_y=m.avg_y[0]"
   ]
  },
  {
   "cell_type": "code",
   "execution_count": 306,
   "metadata": {
    "collapsed": true
   },
   "outputs": [],
   "source": [
    "xx = {'a': 0.44995708038108517, 'sso': 0.20066315391373163, 'ssv': 3.0156144329698669, 'tr': 0.22108332311498552, 'v': 1.3330581659332139}\n",
    "\n",
    "x = {'a': array([ 0.44996]), 'xb': array([ 1.]), 'ssv': 3.0156144329698669, 'tr': array([ 0.22108]), 'sso': 0.20066315391373163, 'v': array([ 1.33306])}"
   ]
  },
  {
   "cell_type": "code",
   "execution_count": 301,
   "metadata": {
    "collapsed": false
   },
   "outputs": [
    {
     "name": "stdout",
     "output_type": "stream",
     "text": [
      "Warning: Maximum number of function evaluations has been exceeded.\n"
     ]
    },
    {
     "data": {
      "text/plain": [
       "(array([ 0.987  ,  1.     ,  0.998  ,  0.938  ,  0.568  ,  0.151  ,\n",
       "        0.51108,  0.53708,  0.55708,  0.57708,  0.60908,  0.49908,\n",
       "        0.52108,  0.53708,  0.55108,  0.57908]), {'a': 0.44995708038108517, 'sso': 0.20066315391373163, 'ssv': 3.0156144329698669, 'tr': 0.22108332311498552, 'v': 1.3330581659332139}, {'a': array([ 0.44996]), 'xb': array([ 1.]), 'ssv': 3.0156144329698669, 'tr': array([ 0.22108]), 'sso': 0.20066315391373163, 'v': array([ 1.33306])})"
      ]
     },
     "execution_count": 301,
     "metadata": {},
     "output_type": "execute_result"
    }
   ],
   "source": [
    "y,f,p = mx.opt.gradient_descent(y=mx.flat_y, wts=mx.flat_wts, inits=POPT)"
   ]
  },
  {
   "cell_type": "code",
   "execution_count": 292,
   "metadata": {
    "collapsed": false
   },
   "outputs": [
    {
     "data": {
      "text/plain": [
       "array([   127.91932,  15325.98481,   1606.0928 ,    109.71185,\n",
       "           20.36156,     53.72995,   1537.11735,   1503.58553,\n",
       "         1281.16538,   1182.17258,   1146.41371,   1319.70555,\n",
       "         1486.04522,   1558.01559,   1230.00824,   1214.54393])"
      ]
     },
     "execution_count": 292,
     "metadata": {},
     "output_type": "execute_result"
    }
   ],
   "source": [
    "mx.flat_uwts"
   ]
  },
  {
   "cell_type": "code",
   "execution_count": 32,
   "metadata": {
    "collapsed": false
   },
   "outputs": [],
   "source": [
    "%%bash\n",
    "cd /home/kyle/Dropbox/FinalTests/\n",
    "#mkdir xiact\n",
    "cd xiact\n",
    "ls"
   ]
  },
  {
   "cell_type": "code",
   "execution_count": 199,
   "metadata": {
    "collapsed": false
   },
   "outputs": [],
   "source": [
    "wts = analyze.reactive_mj_quanterr(redata, as_ratio=True)\n",
    "uwts = analyze.reactive_mj_quanterr(redata, as_ratio=False)"
   ]
  },
  {
   "cell_type": "code",
   "execution_count": 203,
   "metadata": {
    "collapsed": true
   },
   "outputs": [],
   "source": [
    "go = m.data.query('ttype==\"go\"').response.mean()\n",
    "st = m.data.query('ttype==\"stop\"').response.mean()"
   ]
  },
  {
   "cell_type": "code",
   "execution_count": 204,
   "metadata": {
    "collapsed": false
   },
   "outputs": [
    {
     "data": {
      "text/plain": [
       "0.9340756934007378"
      ]
     },
     "execution_count": 204,
     "metadata": {},
     "output_type": "execute_result"
    }
   ],
   "source": [
    "go"
   ]
  },
  {
   "cell_type": "code",
   "execution_count": 205,
   "metadata": {
    "collapsed": false
   },
   "outputs": [
    {
     "data": {
      "text/plain": [
       "0.279719703215169"
      ]
     },
     "execution_count": 205,
     "metadata": {},
     "output_type": "execute_result"
    }
   ],
   "source": [
    "st"
   ]
  },
  {
   "cell_type": "code",
   "execution_count": 207,
   "metadata": {
    "collapsed": false
   },
   "outputs": [
    {
     "data": {
      "text/plain": [
       "array([ 0.36184,  0.43462,  1.     ,  1.43998,  1.61744])"
      ]
     },
     "execution_count": 207,
     "metadata": {},
     "output_type": "execute_result"
    }
   ],
   "source": [
    "np.median(uwts[1])/uwts[1]"
   ]
  },
  {
   "cell_type": "code",
   "execution_count": 202,
   "metadata": {
    "collapsed": false
   },
   "outputs": [
    {
     "data": {
      "text/plain": [
       "array([[ 0.06655,  1.24213,  0.01118,  1.538  ,  1.     ],\n",
       "       [ 0.36228,  0.17871,  0.81474,  1.84892,  1.92326]])"
      ]
     },
     "execution_count": 202,
     "metadata": {},
     "output_type": "execute_result"
    }
   ],
   "source": [
    "wts"
   ]
  },
  {
   "cell_type": "code",
   "execution_count": null,
   "metadata": {
    "collapsed": true
   },
   "outputs": [],
   "source": [
    "np.median(uwts, axis=1)[:,None]/uwts.mean(axis)"
   ]
  },
  {
   "cell_type": "code",
   "execution_count": 193,
   "metadata": {
    "collapsed": false
   },
   "outputs": [
    {
     "data": {
      "text/plain": [
       "array([[  3.81841e-04,   2.04572e-05,   2.27227e-03,   1.65218e-05,\n",
       "          2.54105e-05],\n",
       "       [  1.68590e-02,   3.41767e-02,   7.49644e-03,   3.30338e-03,\n",
       "          3.17568e-03]])"
      ]
     },
     "execution_count": 193,
     "metadata": {},
     "output_type": "execute_result"
    }
   ],
   "source": [
    "uwts"
   ]
  },
  {
   "cell_type": "code",
   "execution_count": 196,
   "metadata": {
    "collapsed": false
   },
   "outputs": [
    {
     "data": {
      "text/plain": [
       "array([ 0.44465,  0.21934,  1.     ,  2.26933,  2.36058])"
      ]
     },
     "execution_count": 196,
     "metadata": {},
     "output_type": "execute_result"
    }
   ],
   "source": [
    "np.median(uwts[1])/uwts[1]"
   ]
  },
  {
   "cell_type": "code",
   "execution_count": 195,
   "metadata": {
    "collapsed": false
   },
   "outputs": [
    {
     "data": {
      "text/plain": [
       "array([ 0.06655,  1.24213,  0.01118,  1.538  ,  1.     ])"
      ]
     },
     "execution_count": 195,
     "metadata": {},
     "output_type": "execute_result"
    }
   ],
   "source": [
    "np.median(uwts[0])/uwts[0]"
   ]
  },
  {
   "cell_type": "code",
   "execution_count": 186,
   "metadata": {
    "collapsed": false
   },
   "outputs": [
    {
     "data": {
      "text/plain": [
       "array([ 0.01686,  0.03418,  0.0075 ,  0.0033 ,  0.00318])"
      ]
     },
     "execution_count": 186,
     "metadata": {},
     "output_type": "execute_result"
    }
   ],
   "source": [
    "uwts"
   ]
  },
  {
   "cell_type": "code",
   "execution_count": 210,
   "metadata": {
    "collapsed": false
   },
   "outputs": [],
   "source": [
    "wtsu = np.hstack([np.ones(6), uwts[0], uwts[1]])"
   ]
  },
  {
   "cell_type": "code",
   "execution_count": 218,
   "metadata": {
    "collapsed": false
   },
   "outputs": [],
   "source": [
    "u = (m.avg_y.flatten()[:16] - m.fits[:16])/wtsu\n",
    "r  = (m.avg_y.flatten()[:16] - m.fits[:16])*m.avg_wts[:16]\n",
    "un = (m.avg_y.flatten()[:16] - m.fits[:16])"
   ]
  },
  {
   "cell_type": "code",
   "execution_count": 254,
   "metadata": {
    "collapsed": false
   },
   "outputs": [],
   "source": [
    "bvar = m.observed.groupby('Cond').var().loc['bsl', 'Go':]"
   ]
  },
  {
   "cell_type": "code",
   "execution_count": 255,
   "metadata": {
    "collapsed": false
   },
   "outputs": [
    {
     "data": {
      "text/plain": [
       "Go     0.0067\n",
       "200    0.0002\n",
       "250    0.0009\n",
       "300    0.0125\n",
       "350    0.0655\n",
       "400    0.0147\n",
       "c10    0.0004\n",
       "c30    0.0004\n",
       "c50    0.0005\n",
       "c70    0.0006\n",
       "c90    0.0006\n",
       "e10    0.0004\n",
       "e30    0.0004\n",
       "e50    0.0004\n",
       "e70    0.0005\n",
       "e90    0.0006\n",
       "Name: bsl, dtype: float64"
      ]
     },
     "execution_count": 255,
     "metadata": {},
     "output_type": "execute_result"
    }
   ],
   "source": [
    "bvar"
   ]
  },
  {
   "cell_type": "code",
   "execution_count": 247,
   "metadata": {
    "collapsed": false
   },
   "outputs": [],
   "source": [
    "bvar[-5:]=(bvar[-5:]*.25)*1000\n",
    "bvar[6:-5]=(bvar[6:-5]*.94)*1000"
   ]
  },
  {
   "cell_type": "code",
   "execution_count": 261,
   "metadata": {
    "collapsed": false
   },
   "outputs": [
    {
     "data": {
      "text/plain": [
       "Go      148.7203\n",
       "200    6251.9696\n",
       "250    1111.5332\n",
       "300      79.7074\n",
       "350      15.2612\n",
       "400      68.0264\n",
       "Name: bsl, dtype: float64"
      ]
     },
     "execution_count": 261,
     "metadata": {},
     "output_type": "execute_result"
    }
   ],
   "source": [
    "1/bvar[:6]"
   ]
  },
  {
   "cell_type": "code",
   "execution_count": 271,
   "metadata": {
    "collapsed": false
   },
   "outputs": [
    {
     "data": {
      "text/plain": [
       "array([[  6.72403e-03,   1.59950e-04,   8.99658e-04,   1.25459e-02,\n",
       "          6.55255e-02,   1.47002e-02,   4.27736e-04,   4.35959e-04,\n",
       "          5.30612e-04,   5.58553e-04,   6.05381e-04,   4.28580e-04,\n",
       "          4.00721e-04,   4.05659e-04,   5.36405e-04,   5.90960e-04],\n",
       "       [  9.33547e-03,   4.09836e-05,   4.76043e-04,   7.15736e-03,\n",
       "          3.92744e-02,   2.53591e-02,   3.14126e-04,   3.23527e-04,\n",
       "          3.48797e-04,   4.04201e-04,   3.73023e-04,   6.08157e-04,\n",
       "          4.36312e-04,   3.43883e-04,   3.89228e-04,   3.29672e-04]])"
      ]
     },
     "execution_count": 271,
     "metadata": {},
     "output_type": "execute_result"
    }
   ],
   "source": [
    "ovar"
   ]
  },
  {
   "cell_type": "code",
   "execution_count": 277,
   "metadata": {
    "collapsed": false
   },
   "outputs": [],
   "source": [
    "ovar = m.observed.groupby('Cond').var().loc[:, 'Go':].values\n",
    "qvar = array(array([[go], [st]])*(1/ovar[:, 6:]))\n",
    "#uwts = np.hstack([(1/ovar[:6]), qvar])\n",
    "\n",
    "uwts = np.concatenate([1/ovar[:, :6], qvar],axis=1)"
   ]
  },
  {
   "cell_type": "code",
   "execution_count": 248,
   "metadata": {
    "collapsed": false
   },
   "outputs": [
    {
     "data": {
      "text/plain": [
       "Go      0.0820\n",
       "200     0.0126\n",
       "250     0.0300\n",
       "300     0.1120\n",
       "350     0.2560\n",
       "400     0.1212\n",
       "c10    19.4409\n",
       "c30    19.6269\n",
       "c50    21.6529\n",
       "c70    22.2157\n",
       "c90    23.1282\n",
       "e10     5.1755\n",
       "e30     5.0045\n",
       "e50     5.0352\n",
       "e70     5.7901\n",
       "e90     6.0774\n",
       "Name: bsl, dtype: float64"
      ]
     },
     "execution_count": 248,
     "metadata": {},
     "output_type": "execute_result"
    }
   ],
   "source": [
    "bvar"
   ]
  },
  {
   "cell_type": "code",
   "execution_count": 284,
   "metadata": {
    "collapsed": false
   },
   "outputs": [
    {
     "data": {
      "text/plain": [
       "[<matplotlib.lines.Line2D object at 0x7f231fbd3e50>]"
      ]
     },
     "execution_count": 284,
     "metadata": {},
     "output_type": "execute_result"
    },
    {
     "data": {
      "image/png": "[encoded data removed]",
      "text/plain": [
       "<matplotlib.figure.Figure object at 0x7f2344411410>"
      ]
     },
     "metadata": {},
     "output_type": "display_data"
    }
   ],
   "source": [
    "plt.plot(((m.avg_y.flatten() - m.fits.flatten())*uwts.flatten()))"
   ]
  },
  {
   "cell_type": "code",
   "execution_count": 220,
   "metadata": {
    "collapsed": false
   },
   "outputs": [
    {
     "data": {
      "text/plain": [
       "array([ 0.94125,  0.99668,  0.98653,  0.90386,  0.50872,  0.10362,\n",
       "        0.51461,  0.54372,  0.56341,  0.58263,  0.61047,  0.50345,\n",
       "        0.53184,  0.54934,  0.56775,  0.59466,  0.92624,  0.99918,\n",
       "        0.9908 ,  0.93297,  0.59871,  0.18197,  0.52012,  0.55012,\n",
       "        0.57034,  0.59051,  0.61803,  0.51074,  0.53919,  0.55427,\n",
       "        0.5731 ,  0.60007])"
      ]
     },
     "execution_count": 220,
     "metadata": {},
     "output_type": "execute_result"
    }
   ],
   "source": [
    "y"
   ]
  },
  {
   "cell_type": "code",
   "execution_count": 227,
   "metadata": {
    "collapsed": false
   },
   "outputs": [
    {
     "data": {
      "text/plain": [
       "array([-0.03975, -0.00332, -0.01047, -0.02114,  0.00772, -0.02638,\n",
       "        0.00689,  0.008  ,  0.00968,  0.00691,  0.00275,  0.00972,\n",
       "        0.01211,  0.01361,  0.01803,  0.01694])"
      ]
     },
     "execution_count": 227,
     "metadata": {},
     "output_type": "execute_result"
    }
   ],
   "source": [
    "m.avg_y[0] - m.fits[:16]"
   ]
  },
  {
   "cell_type": "code",
   "execution_count": 223,
   "metadata": {
    "collapsed": false
   },
   "outputs": [
    {
     "data": {
      "text/plain": [
       "array([ 0.00541,  0.00541,  0.00541,  0.00541,  0.00541,  0.00541,\n",
       "        0.00541,  0.00541,  0.00541,  0.00541,  0.00541,  0.00541,\n",
       "        0.00541,  0.00541,  0.00541,  0.00541])"
      ]
     },
     "execution_count": 223,
     "metadata": {},
     "output_type": "execute_result"
    }
   ],
   "source": [
    "yhat-m.avg_y[0]"
   ]
  },
  {
   "cell_type": "code",
   "execution_count": null,
   "metadata": {
    "collapsed": true
   },
   "outputs": [],
   "source": []
  },
  {
   "cell_type": "code",
   "execution_count": 217,
   "metadata": {
    "collapsed": false
   },
   "outputs": [
    {
     "data": {
      "text/plain": [
       "[<matplotlib.lines.Line2D object at 0x7f2346000110>]"
      ]
     },
     "execution_count": 217,
     "metadata": {},
     "output_type": "execute_result"
    },
    {
     "data": {
      "image/png": "[encoded data removed]",
      "text/plain": [
       "<matplotlib.figure.Figure object at 0x7f2344557cd0>"
      ]
     },
     "metadata": {},
     "output_type": "display_data"
    }
   ],
   "source": [
    "#plt.plot(u)\n",
    "plt.plot(r)"
   ]
  },
  {
   "cell_type": "code",
   "execution_count": null,
   "metadata": {
    "collapsed": true
   },
   "outputs": [],
   "source": [
    "plt.plot()"
   ]
  },
  {
   "cell_type": "code",
   "execution_count": 184,
   "metadata": {
    "collapsed": false
   },
   "outputs": [
    {
     "data": {
      "text/plain": [
       "0.0077733705881924808"
      ]
     },
     "execution_count": 184,
     "metadata": {},
     "output_type": "execute_result"
    }
   ],
   "source": [
    "np.sum(((m.avg_y.flatten()-m.fits)**2)*m.avg_wts)"
   ]
  },
  {
   "cell_type": "code",
   "execution_count": 169,
   "metadata": {
    "collapsed": false
   },
   "outputs": [],
   "source": [
    "m = build.Model(data=redf_store.redata, kind='xiact', dynamic='hyp', depends_on={'v':'Cond'})\n",
    "m.make_optimizer(tol=1.e-20, ntrials=10000, maxfev=5000, multiopt=True)\n",
    "m.opt.flat_y=m.avg_y[0]"
   ]
  },
  {
   "cell_type": "code",
   "execution_count": null,
   "metadata": {
    "collapsed": true
   },
   "outputs": [],
   "source": [
    "popt={'a': array([ 0.44462,  0.44462]), 'v_pnl': 0.9689235891638055, 'z': 0.15225778581757374, 'v': array([ 1.04458,  0.96892], dtype=float32), 'xb': array([ 1.3909,  1.3909]), 'ssv': -0.92778056287176547, 'tr': array([ 0.30429,  0.30429]), 'v_bsl': 1.0445817952733745}"
   ]
  },
  {
   "cell_type": "code",
   "execution_count": 173,
   "metadata": {
    "collapsed": false
   },
   "outputs": [],
   "source": [
    "from radd.toolbox import colors\n",
    "cmaps = colors.get_cmaps()"
   ]
  },
  {
   "cell_type": "code",
   "execution_count": 170,
   "metadata": {
    "collapsed": false
   },
   "outputs": [
    {
     "name": "stdout",
     "output_type": "stream",
     "text": [
      "Warning: Maximum number of iterations has been exceeded.\n",
      "basinhopping step 0: f 0.037908\n",
      "basinhopping step 1: f 0.10444 trial_f 0.10444 accepted 1  lowest_f 0.037908\n",
      "basinhopping step 2: f 0.0800808 trial_f 0.0800808 accepted 1  lowest_f 0.037908\n",
      "basinhopping step 3: f 0.181642 trial_f 0.181642 accepted 1  lowest_f 0.037908\n",
      "warning: basinhopping: local minimization failure\n",
      "basinhopping step 4: f 0.11892 trial_f 0.11892 accepted 1  lowest_f 0.037908\n",
      "warning: basinhopping: local minimization failure\n",
      "basinhopping step 5: f 0.203737 trial_f 0.203737 accepted 1  lowest_f 0.037908\n",
      "basinhopping step 6: f 0.108505 trial_f 0.108505 accepted 1  lowest_f 0.037908\n",
      "warning: basinhopping: local minimization failure\n",
      "basinhopping step 7: f 0.0818706 trial_f 0.0818706 accepted 1  lowest_f 0.037908\n",
      "warning: basinhopping: local minimization failure\n",
      "basinhopping step 8: f 0.0857533 trial_f 0.0857533 accepted 1  lowest_f 0.037908\n",
      "basinhopping step 9: f 0.0875885 trial_f 0.0875885 accepted 1  lowest_f 0.037908\n",
      "adaptive stepsize: acceptance rate 0.900000 target 0.500000 new stepsize 0.0777778 old stepsize 0.07\n",
      "basinhopping step 10: f 0.0589941 trial_f 0.0589941 accepted 1  lowest_f 0.037908\n",
      "basinhopping step 11: f 0.00812434 trial_f 0.00812434 accepted 1  lowest_f 0.00812434\n",
      "found new global minimum on step 11 with function value 0.00812434\n",
      "basinhopping step 12: f 0.0706188 trial_f 0.0706188 accepted 1  lowest_f 0.00812434\n",
      "basinhopping step 13: f 0.0183825 trial_f 0.0183825 accepted 1  lowest_f 0.00812434\n",
      "basinhopping step 14: f 0.0187445 trial_f 0.0187445 accepted 1  lowest_f 0.00812434\n",
      "basinhopping step 15: f 0.0351182 trial_f 0.0351182 accepted 1  lowest_f 0.00812434\n",
      "basinhopping step 16: f 0.0122678 trial_f 0.0122678 accepted 1  lowest_f 0.00812434\n",
      "basinhopping step 17: f 0.0883296 trial_f 0.0883296 accepted 1  lowest_f 0.00812434\n",
      "warning: basinhopping: local minimization failure\n",
      "basinhopping step 18: f 0.199572 trial_f 0.199572 accepted 1  lowest_f 0.00812434\n",
      "basinhopping step 19: f 0.235971 trial_f 0.235971 accepted 1  lowest_f 0.00812434\n",
      "adaptive stepsize: acceptance rate 0.950000 target 0.500000 new stepsize 0.0864198 old stepsize 0.0777778\n",
      "basinhopping step 20: f 0.0591044 trial_f 0.0591044 accepted 1  lowest_f 0.00812434\n",
      "warning: basinhopping: local minimization failure\n",
      "basinhopping step 21: f 0.0846309 trial_f 0.0846309 accepted 1  lowest_f 0.00812434\n",
      "basinhopping step 22: f 0.0992886 trial_f 0.0992886 accepted 1  lowest_f 0.00812434\n",
      "basinhopping step 23: f 0.109578 trial_f 0.109578 accepted 1  lowest_f 0.00812434\n",
      "warning: basinhopping: local minimization failure\n",
      "basinhopping step 24: f 0.0664377 trial_f 0.0664377 accepted 1  lowest_f 0.00812434\n",
      "basinhopping step 25: f 0.0558174 trial_f 0.0558174 accepted 1  lowest_f 0.00812434\n",
      "basinhopping step 26: f 0.0110978 trial_f 0.0110978 accepted 1  lowest_f 0.00812434\n",
      "basinhopping step 27: f 0.0280649 trial_f 0.0280649 accepted 1  lowest_f 0.00812434\n",
      "basinhopping step 28: f 0.0168296 trial_f 0.0168296 accepted 1  lowest_f 0.00812434\n",
      "basinhopping step 29: f 0.0849485 trial_f 0.0849485 accepted 1  lowest_f 0.00812434\n",
      "adaptive stepsize: acceptance rate 0.966667 target 0.500000 new stepsize 0.0960219 old stepsize 0.0864198\n",
      "basinhopping step 30: f 0.0396815 trial_f 0.0396815 accepted 1  lowest_f 0.00812434\n",
      "basinhopping step 31: f 0.0740293 trial_f 0.0740293 accepted 1  lowest_f 0.00812434\n",
      "warning: basinhopping: local minimization failure\n",
      "basinhopping step 32: f 0.0109263 trial_f 0.0109263 accepted 1  lowest_f 0.00812434\n",
      "Warning: Maximum number of iterations has been exceeded.\n"
     ]
    }
   ],
   "source": [
    "m.optimize()"
   ]
  },
  {
   "cell_type": "code",
   "execution_count": 172,
   "metadata": {
    "collapsed": false
   },
   "outputs": [
    {
     "data": {
      "image/png": "[encoded data removed]",
      "text/plain": [
       "<matplotlib.figure.Figure object at 0x7f23465298d0>"
      ]
     },
     "metadata": {},
     "output_type": "display_data"
    }
   ],
   "source": [
    "vis.plot_reactive_fits(m)"
   ]
  },
  {
   "cell_type": "code",
   "execution_count": null,
   "metadata": {
    "collapsed": false
   },
   "outputs": [],
   "source": [
    "yhat, finfo, popt = m.opt.gradient_descent(y=bsly, wts=bslwts, inits=m.inits, is_flat=True)"
   ]
  }
 ],
 "metadata": {
  "kernelspec": {
   "display_name": "Python 2",
   "language": "python",
   "name": "python2"
  },
  "language_info": {
   "codemirror_mode": {
    "name": "ipython",
    "version": 2
   },
   "file_extension": ".py",
   "mimetype": "text/x-python",
   "name": "python",
   "nbconvert_exporter": "python",
   "pygments_lexer": "ipython2",
   "version": "2.7.10"
  }
 },
 "nbformat": 4,
 "nbformat_minor": 0
}
