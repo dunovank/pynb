{
 "metadata": {
  "name": "",
  "signature": "sha256:d6f3d93744e0bf22c52a68b70e355ad761d9e8eb12d4230e9fa6876de03d8432"
 },
 "nbformat": 3,
 "nbformat_minor": 0,
 "worksheets": [
  {
   "cells": [
    {
     "cell_type": "code",
     "collapsed": false,
     "input": [
      "from __future__ import division\n",
      "import os\n",
      "import numpy as np\n",
      "import scipy.stats as stats\n",
      "import pandas as pd\n",
      "import matplotlib.pyplot as plt\n",
      "\n",
      "from radd import utils, fitre\n",
      "from lmfit import Minimizer, Parameters\n",
      "from collections import OrderedDict\n",
      "\n",
      "%matplotlib inline\n",
      "pth=utils.find_path()"
     ],
     "language": "python",
     "metadata": {},
     "outputs": [],
     "prompt_number": 1
    },
    {
     "cell_type": "heading",
     "level": 1,
     "metadata": {},
     "source": [
      "Read DFs"
     ]
    },
    {
     "cell_type": "code",
     "collapsed": false,
     "input": [
      "utils=reload(utils); \n",
      "\n",
      "#df to resample for pstop\n",
      "origdf=pd.read_csv(pth+\"DataFiles/RePNL_Data.csv\", index_col=0)\n",
      "\n",
      "#init params df\n",
      "paramdf=pd.read_csv(pth+\"ParamFiles/RePNL_HDDM_Params.csv\", index_col='subj_idx')\n",
      "\n",
      "#go to proactive bootstrap directory\n",
      "os.chdir(utils.find_path()+\"OptAccRT/reboot/\")"
     ],
     "language": "python",
     "metadata": {},
     "outputs": [],
     "prompt_number": 2
    },
    {
     "cell_type": "heading",
     "level": 1,
     "metadata": {},
     "source": [
      "Run main bootstrapping function here"
     ]
    },
    {
     "cell_type": "code",
     "collapsed": false,
     "input": [
      "fitre=reload(fitre); utils=reload(utils); fitre=reload(fitre)\n",
      "\n",
      "ypred=main_reboot(origdf, paramdf, niter=150, ntrials=2000)"
     ],
     "language": "python",
     "metadata": {},
     "outputs": []
    },
    {
     "cell_type": "heading",
     "level": 1,
     "metadata": {},
     "source": [
      "Main bootstrapping function"
     ]
    },
    {
     "cell_type": "code",
     "collapsed": false,
     "input": [
      "def main_reboot(data, params, niter=200, ntrials=2000):\n",
      "    \n",
      "    pth=utils.find_path()+\"OptAccRT/reboot/\"\n",
      "    \n",
      "    inits=params.mean()\n",
      "    fit_results=list()\n",
      "    cols=[200, 250, 300, 350, 400, 'rt']\n",
      "    y_pred=pd.DataFrame(columns=cols, index=np.arange(niter))\n",
      "    \n",
      "    for i in range(niter):\n",
      "        \n",
      "        yxdf=pd.DataFrame(columns=cols, index=data.subj_idx.unique())\n",
      "        # sample proportionally given experimental trial counts \n",
      "        # like generating synthetic sx THEN averging\n",
      "        # more similar to how we calculated the \n",
      "        # empirical means we fit on, better index of \n",
      "        # observed variability\n",
      "        for nsample in yxdf.index.values:    \n",
      "            sample_y = resample_reactive(data)\n",
      "            yxdf.loc[nsample] = sample_y\n",
      "            \n",
      "        bxY=yxdf.mean().values\n",
      "        \n",
      "        fits_i, yhat_i = fit_reactive(bxY, inits=inits, nx=i, ntrials=ntrials, names=cols)\n",
      "\n",
      "        fit_results.append(fits_i)   \n",
      "        y_pred.loc[i,:]=np.array(yhat_i)\n",
      "        y_pred.to_csv(pth+\"subsample_reboot_yhat_pnl.csv\", index=False)\n",
      "        \n",
      "    fit_df=pd.concat(fit_results)\n",
      "    fit_df.to_csv(pth+\"subsample_reboot_fits_pnl.csv\")\n",
      "    \n",
      "    return y_pred"
     ],
     "language": "python",
     "metadata": {},
     "outputs": [],
     "prompt_number": 3
    },
    {
     "cell_type": "heading",
     "level": 1,
     "metadata": {},
     "source": [
      "Fit single reactive dataset"
     ]
    },
    {
     "cell_type": "code",
     "collapsed": false,
     "input": [
      "def fit_reactive(y, inits={}, names=[], nx=0, ntrials=2000, **kwargs):\n",
      "    \n",
      "    inits['pGo']=.50\n",
      "    \n",
      "    p=Parameters()\n",
      "    p.add('ssv', value=inits['ssv'], vary=True)\n",
      "    p.add('a', value=inits['a'], min=0.0, vary=True)\n",
      "    p.add('v', value=inits['v'], min=0.0, vary=True)\n",
      "    p.add('t', value=inits['t'], min=0.0, max=.649, vary=True)\n",
      "    p.add('z', value=inits['z'], min=0.0, vary=True)\n",
      "\n",
      "    popt = Minimizer(fitre.ssre_minfunc, p, fcn_args=(inits, y, ntrials), method='Nelder-Mead') \n",
      "    popt.fmin(maxfun=200, ftol=5.e-2, xtol=1.e-2, full_output=True, disp=True)\n",
      "    yhat_i=y+popt.residual\n",
      "    \n",
      "    fit_results=pd.DataFrame.from_dict(OrderedDict([('niter',nx), ('names',names), \n",
      "                                    ('y',y), ('yhat',yhat_i), ('resid',popt.residual), \n",
      "                                    ('chi',[popt.chisqr]*len(names))]), orient='columns')\n",
      "\n",
      "    return fit_results, yhat_i"
     ],
     "language": "python",
     "metadata": {},
     "outputs": [],
     "prompt_number": 10
    },
    {
     "cell_type": "heading",
     "level": 1,
     "metadata": {},
     "source": [
      "Resample index for reactive DF"
     ]
    },
    {
     "cell_type": "code",
     "collapsed": false,
     "input": [
      "def resample_reactive(df, n=None):\n",
      "    \n",
      "    bootlist=list()\n",
      "    df=df.copy()\n",
      "\n",
      "    for ssd, ssdf in df.groupby('ssd'):\n",
      "        \n",
      "        if n==None:\n",
      "            n=len(ssdf)\n",
      "        \n",
      "        boots = ssdf.reset_index(drop=True)\n",
      "        orig_ix=np.asarray(boots.index[:])\n",
      "        \n",
      "        resampled_ix=rwr(orig_ix, get_index=True, n=n)\n",
      "        bootdf=ssdf.irow(resampled_ix)\n",
      "\n",
      "        bootlist.append(bootdf)\n",
      "\n",
      "    #concatenate all resampled conditions\n",
      "    bootdf=pd.concat(bootlist)\n",
      "\n",
      "    sample_y=list(bootdf[bootdf['trial_type']=='stop'].groupby('ssd').mean()['acc'].values)\t\n",
      "    mrt=bootdf[(bootdf['acc']==1)&(bootdf['response']==1)].groupby('ssd').mean()['rt'].mean()*10\n",
      "    sample_y.append(mrt)\n",
      "    \n",
      "    return sample_y"
     ],
     "language": "python",
     "metadata": {},
     "outputs": [],
     "prompt_number": 11
    },
    {
     "cell_type": "heading",
     "level": 1,
     "metadata": {},
     "source": [
      "Generic resample with replacement algorithm"
     ]
    },
    {
     "cell_type": "code",
     "collapsed": false,
     "input": [
      "def rwr(X, get_index=False, n=None):\n",
      "    \n",
      "    \"\"\"\n",
      "    Modified from http://nbviewer.ipython.org/gist/aflaxman/6871948\n",
      "    \"\"\"\n",
      "\n",
      "    if isinstance(X, pd.Series):\n",
      "        X = X.copy()\n",
      "        X.index = range(len(X.index))\n",
      "    if n == None:\n",
      "        n = len(X)\n",
      "    \n",
      "    \n",
      "    resample_i = np.floor(np.random.rand(n)*len(X)).astype(int)\n",
      "    X_resample = np.array(X[resample_i])\n",
      "    \n",
      "    if get_index:\n",
      "        return resample_i\n",
      "    else:\n",
      "        return X_resample"
     ],
     "language": "python",
     "metadata": {},
     "outputs": [],
     "prompt_number": 12
    }
   ],
   "metadata": {}
  }
 ]
}