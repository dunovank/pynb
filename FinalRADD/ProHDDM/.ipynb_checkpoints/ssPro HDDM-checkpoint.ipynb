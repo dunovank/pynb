{
 "metadata": {
  "name": "",
  "signature": "sha256:8c38144d102e2c65bda1865e1332238f65a4e6933e4306e48a37f029ec4a1899"
 },
 "nbformat": 3,
 "nbformat_minor": 0,
 "worksheets": [
  {
   "cells": [
    {
     "cell_type": "code",
     "collapsed": false,
     "input": [
      "import pandas as pd\n",
      "import hddm\n",
      "import seaborn as sns\n",
      "from radd import utils, ft\n",
      "import os"
     ],
     "language": "python",
     "metadata": {},
     "outputs": [],
     "prompt_number": 13
    },
    {
     "cell_type": "code",
     "collapsed": false,
     "input": [
      "cd /Users/kyle/Dropbox/CoAx/SS/Proactive/sx_hddm_fits"
     ],
     "language": "python",
     "metadata": {},
     "outputs": []
    },
    {
     "cell_type": "code",
     "collapsed": false,
     "input": [
      "utils=reload(utils)\n",
      "pth=utils.find_path()\n",
      "pro=pd.read_csv(pth+\"CoAx/SS/Proactive/Pro_AllSx_Data.csv\")\n",
      "len(pro)"
     ],
     "language": "python",
     "metadata": {},
     "outputs": [
      {
       "metadata": {},
       "output_type": "pyout",
       "prompt_number": 14,
       "text": [
        "5113"
       ]
      }
     ],
     "prompt_number": 14
    },
    {
     "cell_type": "code",
     "collapsed": false,
     "input": [
      "#data=pro[pro.subj_idx != 81]\n",
      "data=pro.drop('subj_idx', axis=1)\n",
      "pro_m=hddm.HDDM(data, depends_on={'v':'StopProb'}, bias=False, include=['sv', 'st', 'sz'])\n",
      "pro_m.find_starting_values()\n",
      "pro_m.sample(8000, burn=2000, thin=2)\n",
      "pro_m.print_stats()"
     ],
     "language": "python",
     "metadata": {},
     "outputs": []
    },
    {
     "cell_type": "code",
     "collapsed": false,
     "input": [
      "#data=pro[pro.subj_idx != 81]\n",
      "#data=pro.drop('subj_idx', axis=1)\n",
      "data=pro_df.query(\"subj_idx==[28,29,30,31,32,33,34]\")\n",
      "ft=reload(ft)\n",
      "m=hddm.HDDM(pro, depends_on={'v':'HiLo'}, bias=False)#, include=['sv', 'st', 'sz'])\n",
      "\n",
      "sxdf=ft.fit_sxhddm(m, task='ssPro', save_str=\"V_HiLo_545\")\n"
     ],
     "language": "python",
     "metadata": {},
     "outputs": []
    },
    {
     "cell_type": "code",
     "collapsed": false,
     "input": [
      "data=pro_df.query(\"subj_idx==[28,29,30,31,32,33,34]\")\n"
     ],
     "language": "python",
     "metadata": {},
     "outputs": []
    },
    {
     "cell_type": "code",
     "collapsed": false,
     "input": [
      "#data=pro[pro.subj_idx != 81]\n",
      "#data=pro.drop('subj_idx', axis=1)\n",
      "ft=reload(ft)\n",
      "m=hddm.HDDM(data, depends_on={'v':'PGo'}, bias=False)\n",
      "sxdf=ft.fit_sxhddm(m, mname=\"HiLo\")"
     ],
     "language": "python",
     "metadata": {},
     "outputs": []
    },
    {
     "cell_type": "code",
     "collapsed": false,
     "input": [
      "param_summary=ft.stats_summary(sxdf)"
     ],
     "language": "python",
     "metadata": {},
     "outputs": []
    },
    {
     "cell_type": "code",
     "collapsed": false,
     "input": [
      "ion()\n",
      "\n",
      "sns.set_style(style='white')\n",
      "sns.set_context('talk')\n",
      "\n",
      "#pro_df \n",
      "fig, axes = plt.subplots(2)\n",
      "\n",
      "i=0\n",
      "for pg, pgdata in pro_df.groupby('HiLo'):\n",
      "    #d=pro_df[pro_df['PGo']==pg]\n",
      "    #print pgdata\n",
      "    sns.distplot(pgdata['rt'], bins=10, kde=True, hist_kws={\"histtype\": \"stepfilled\",\"alpha\":.6}, ax=axes.flatten()[i])\n",
      "    i+=1\n",
      "for ax in axes:\n",
      "    plt.setp(ax, xlim=(.4,.6))\n",
      "plt.tight_layout()"
     ],
     "language": "python",
     "metadata": {},
     "outputs": []
    },
    {
     "cell_type": "code",
     "collapsed": false,
     "input": [
      "axes.flatten()"
     ],
     "language": "python",
     "metadata": {},
     "outputs": []
    },
    {
     "cell_type": "code",
     "collapsed": false,
     "input": [
      "len(pro_df)"
     ],
     "language": "python",
     "metadata": {},
     "outputs": []
    },
    {
     "cell_type": "heading",
     "level": 1,
     "metadata": {},
     "source": [
      "ssPro Data formatting for HDDM"
     ]
    },
    {
     "cell_type": "code",
     "collapsed": false,
     "input": [
      "pth=utils.find_path()\n",
      "pro=pd.read_csv(pth+\"CoAx/SS/Proactive/SS_v2p3_fullsummary.dat\", sep=\"\\t\")\n",
      "pro['RT_sec']=pro['RT'].copy()*.001\n",
      "pro=pro.rename(columns={'RT':'RT_msec', 'RT_sec':'rt', 'Keypress':'response'}, axis=1)\n",
      "\n",
      "pro.ix[pro['Cond']==1, 'Cond']='bsl'\n",
      "pro.ix[pro['Cond']==2, 'Cond']='pnl'\n",
      "pro_df=pro.ix[pro['response']==1]\n",
      "\n",
      "pro_df=pro_df.query(\"rt < .545\")\n",
      "\n",
      "pro_sx=pro_df['SubID']\n",
      "pro_df['subj_idx']=[int(subj[1:]) for subj in pro_sx]\n",
      "\n",
      "pro_df['PGo']=['x']*len(pro_df)\n",
      "pro_df['HiLo']=['x']*len(pro_df)\n",
      "\n",
      "pro_df.ix[(pro_df['StopProb']==0.0)|(pro_df['StopProb']==0.2)|(pro_df['StopProb']==0.4), 'HiLo']='aHi'\n",
      "pro_df.ix[(pro_df['StopProb']==0.6)|(pro_df['StopProb']==0.8)|(pro_df['StopProb']==1.0), 'HiLo']='bLo'\n",
      "\n",
      "pro_df.ix[(pro_df['StopProb']==0.0)|(pro_df['StopProb']==0.2), 'PGo']='bHi'\n",
      "pro_df.ix[(pro_df['StopProb']==0.4)|(pro_df['StopProb']==0.6), 'PGo']='bMed'\n",
      "pro_df.ix[(pro_df['StopProb']==0.8)|(pro_df['StopProb']==1.0), 'PGo']='cLo'\n",
      "\n",
      "pro_df=pro_df[['subj_idx', 'StopProb', 'PGo', 'HiLo', 'Cond', 'response', 'rt']]\n",
      "\n",
      "pro_df.to_csv(pth+\"CoAx/SS/Proactive/Pro_AllSx_Data.csv\", index=False)"
     ],
     "language": "python",
     "metadata": {},
     "outputs": [],
     "prompt_number": 7
    },
    {
     "cell_type": "code",
     "collapsed": false,
     "input": [
      "sxdf"
     ],
     "language": "python",
     "metadata": {},
     "outputs": []
    },
    {
     "cell_type": "code",
     "collapsed": false,
     "input": [
      "len(pro_df)"
     ],
     "language": "python",
     "metadata": {},
     "outputs": []
    },
    {
     "cell_type": "code",
     "collapsed": false,
     "input": [],
     "language": "python",
     "metadata": {},
     "outputs": []
    }
   ],
   "metadata": {}
  }
 ]
}