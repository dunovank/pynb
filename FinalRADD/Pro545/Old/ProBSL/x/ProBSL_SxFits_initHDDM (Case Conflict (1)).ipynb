{
 "metadata": {
  "name": "",
  "signature": "sha256:62045b94d2d6a3773d59b507f7a799bfce38ceb5bcf06cf6ae9c1e79b2fcc875"
 },
 "nbformat": 3,
 "nbformat_minor": 0,
 "worksheets": [
  {
   "cells": [
    {
     "cell_type": "heading",
     "level": 1,
     "metadata": {},
     "source": [
      "Pro-BSL SxFits RADD"
     ]
    },
    {
     "cell_type": "code",
     "collapsed": false,
     "input": [
      "from __future__ import division\n",
      "import pandas as pd\n",
      "from radd import utils, xopt, psy, ss, simfx\n",
      "from lmfit import Parameters, Minimizer\n",
      "import seaborn as sns\n",
      "import os"
     ],
     "language": "python",
     "metadata": {},
     "outputs": [],
     "prompt_number": 2
    },
    {
     "cell_type": "heading",
     "level": 3,
     "metadata": {},
     "source": [
      "Load in data"
     ]
    },
    {
     "cell_type": "code",
     "collapsed": false,
     "input": [
      "pth=utils.find_path()\n",
      "pro_bsl=pd.read_csv(pth+\"DataFiles/ProBSL_AllData.csv\", index_col=0)\n",
      "pro_bsl=pd.read_csv(pth+\"DataFiles/ProBSL_Data.csv\", index_col=0)\n",
      "bsl=pro_bsl.copy()\n",
      "bsl['pGo']=bsl['pGo']*100*.01\n",
      "bsl['pGo'].unique()"
     ],
     "language": "python",
     "metadata": {},
     "outputs": [
      {
       "metadata": {},
       "output_type": "pyout",
       "prompt_number": 4,
       "text": [
        "array([ 1. ,  0.6,  0.2,  0.8,  0. ,  0.4])"
       ]
      }
     ],
     "prompt_number": 4
    },
    {
     "cell_type": "code",
     "collapsed": false,
     "input": [
      "print bsl.rt.max()\n",
      "bsl.head()"
     ],
     "language": "python",
     "metadata": {},
     "outputs": [
      {
       "output_type": "stream",
       "stream": "stdout",
       "text": [
        "0.5473672\n"
       ]
      },
      {
       "html": [
        "<div style=\"max-height:1000px;max-width:1500px;overflow:auto;\">\n",
        "<table border=\"1\" class=\"dataframe\">\n",
        "  <thead>\n",
        "    <tr style=\"text-align: right;\">\n",
        "      <th></th>\n",
        "      <th>subj_idx</th>\n",
        "      <th>pGo</th>\n",
        "      <th>HiLo</th>\n",
        "      <th>HML</th>\n",
        "      <th>Cond</th>\n",
        "      <th>response</th>\n",
        "      <th>choice</th>\n",
        "      <th>rt</th>\n",
        "    </tr>\n",
        "  </thead>\n",
        "  <tbody>\n",
        "    <tr>\n",
        "      <th>0</th>\n",
        "      <td> 28</td>\n",
        "      <td> 1</td>\n",
        "      <td> aHi</td>\n",
        "      <td> bHi</td>\n",
        "      <td> bsl</td>\n",
        "      <td> 1</td>\n",
        "      <td> go</td>\n",
        "      <td> 0.479849</td>\n",
        "    </tr>\n",
        "    <tr>\n",
        "      <th>1</th>\n",
        "      <td> 28</td>\n",
        "      <td> 1</td>\n",
        "      <td> aHi</td>\n",
        "      <td> bHi</td>\n",
        "      <td> bsl</td>\n",
        "      <td> 1</td>\n",
        "      <td> go</td>\n",
        "      <td> 0.371613</td>\n",
        "    </tr>\n",
        "    <tr>\n",
        "      <th>2</th>\n",
        "      <td> 28</td>\n",
        "      <td> 1</td>\n",
        "      <td> aHi</td>\n",
        "      <td> bHi</td>\n",
        "      <td> bsl</td>\n",
        "      <td> 1</td>\n",
        "      <td> go</td>\n",
        "      <td> 0.504975</td>\n",
        "    </tr>\n",
        "    <tr>\n",
        "      <th>3</th>\n",
        "      <td> 28</td>\n",
        "      <td> 1</td>\n",
        "      <td> aHi</td>\n",
        "      <td> bHi</td>\n",
        "      <td> bsl</td>\n",
        "      <td> 1</td>\n",
        "      <td> go</td>\n",
        "      <td> 0.518304</td>\n",
        "    </tr>\n",
        "    <tr>\n",
        "      <th>4</th>\n",
        "      <td> 28</td>\n",
        "      <td> 1</td>\n",
        "      <td> aHi</td>\n",
        "      <td> bHi</td>\n",
        "      <td> bsl</td>\n",
        "      <td> 1</td>\n",
        "      <td> go</td>\n",
        "      <td> 0.491720</td>\n",
        "    </tr>\n",
        "  </tbody>\n",
        "</table>\n",
        "</div>"
       ],
       "metadata": {},
       "output_type": "pyout",
       "prompt_number": 5,
       "text": [
        "   subj_idx  pGo HiLo  HML Cond  response choice        rt\n",
        "0        28    1  aHi  bHi  bsl         1     go  0.479849\n",
        "1        28    1  aHi  bHi  bsl         1     go  0.371613\n",
        "2        28    1  aHi  bHi  bsl         1     go  0.504975\n",
        "3        28    1  aHi  bHi  bsl         1     go  0.518304\n",
        "4        28    1  aHi  bHi  bsl         1     go  0.491720"
       ]
      }
     ],
     "prompt_number": 5
    },
    {
     "cell_type": "heading",
     "level": 3,
     "metadata": {},
     "source": [
      "Generate list of Arrays: Array([PStop, RT]) For each P(Go) Cond"
     ]
    },
    {
     "cell_type": "code",
     "collapsed": false,
     "input": [
      "ydata=[[ss.anl(pgdf, task='ssPro').values] for pg, pgdf in bsl.groupby('pGo')]\n",
      "ydata"
     ],
     "language": "python",
     "metadata": {},
     "outputs": [
      {
       "metadata": {},
       "output_type": "pyout",
       "prompt_number": 6,
       "text": [
        "[[array([ 0.93333333,  0.53047021])],\n",
        " [array([ 0.74377395,  0.54016022])],\n",
        " [array([ 0.47084337,  0.54063922])],\n",
        " [array([ 0.23450906,  0.54018439])],\n",
        " [array([ 0.03153153,  0.53055018])],\n",
        " [array([ 0.00438322,  0.52670961])]]"
       ]
      }
     ],
     "prompt_number": 6
    },
    {
     "cell_type": "heading",
     "level": 3,
     "metadata": {},
     "source": [
      "Define Initial Parameter Values (Optimal Sx Params For ReBSL)"
     ]
    },
    {
     "cell_type": "code",
     "collapsed": false,
     "input": [
      "paramdf=pd.read_csv(pth+\"ParamFiles/ProBSL_HDDM_Params.csv\", index_col='subj_idx')"
     ],
     "language": "python",
     "metadata": {},
     "outputs": [],
     "prompt_number": 7
    },
    {
     "cell_type": "code",
     "collapsed": false,
     "input": [
      "paramdf.loc[28]"
     ],
     "language": "python",
     "metadata": {},
     "outputs": [
      {
       "metadata": {},
       "output_type": "pyout",
       "prompt_number": 8,
       "text": [
        "a        0.652405\n",
        "sv       0.141117\n",
        "t        0.242069\n",
        "v(Hi)    1.669997\n",
        "v(Lo)    1.537587\n",
        "z        0.184336\n",
        "ssv      0.730000\n",
        "Name: 28, dtype: float64"
       ]
      }
     ],
     "prompt_number": 8
    },
    {
     "cell_type": "heading",
     "level": 3,
     "metadata": {},
     "source": [
      "Fit Single Sx - RePNL Nested Model (RADD)"
     ]
    },
    {
     "cell_type": "code",
     "collapsed": false,
     "input": [
      "xopt=reload(xopt); simfx=reload(simfx)\n",
      "\n",
      "pgo_list=[0.2, 0.4, 0.6, 0.8, 1.0]\n",
      "paramdf=pd.read_csv(pth+\"ParamFiles/ProBSL_HDDM_Params.csv\", index_col='subj_idx')\n",
      "\n",
      "pb=utils.PBinJ(len(paramdf)*len(pgo_list), color=\"#009B76\"); sx_n=0\n",
      "os.chdir(utils.find_path()+\"OptAccRT/ProBSL_500Trials/\")\n",
      "\n",
      "ntrials=500; depHyper=True\n",
      "# init sx concat list\n",
      "sxpred_list=[]\n",
      "\n",
      "for sx in paramdf.index.unique():\n",
      "\n",
      "    pstop_residuals=[]; pstop_radd=[]; rt_residuals=[]\n",
      "    rt_radd=[]; chi_list=[]; vlist=[]\n",
      "    \n",
      "    sx_n+=1  \n",
      "    \n",
      "    sxdf=bsl[bsl['subj_idx']==sx]\n",
      "    ydata={pg: ss.anl(sxdf[sxdf['pGo']==pg], task='ssPro').values for pg in pgo_list}\n",
      "    rt_data=[ydata[pg][1] for pg in pgo_list]\n",
      "    pstop_data=[ydata[pg][0] for pg in pgo_list]\n",
      "\n",
      "    sxtheta=paramdf.loc[sx].to_dict()\n",
      "    constants=paramdf.loc[sx].to_dict()\n",
      "    \n",
      "    #del constants['v']\n",
      "    del constants['sv']\n",
      "    constants['ssd']=.450\n",
      "    \n",
      "    for i, pg in enumerate(pgo_list):    \n",
      "        \n",
      "        #if i==0: continue\n",
      "        \n",
      "        if pg<=.5:\n",
      "            vinit=constants['v(Lo)']\n",
      "        else:\n",
      "            vinit=constants['v(Hi)']\n",
      "        #sx-loop info\n",
      "        p=Parameters()\n",
      "        \n",
      "        pb.update_i(sx_n)\n",
      "        sx_n +=1\n",
      "        \n",
      "        pstop=pstop_data[i]\n",
      "        rt=rt_data[i]*10\n",
      "        y=[pstop, rt]\n",
      "        constants['pGo']=pg\n",
      "        vID=\"v\"+str(int(pg*100))\n",
      "        p=Parameters()\n",
      "        p.add(vID, value=vinit, min=0.0, vary=True)\n",
      "\n",
      "        #Simplex Minimization\n",
      "        popt = Minimizer(xopt.sspro_accrt_minfunc, p, fcn_args=(constants, y, ntrials), method='Nelder-Mead') \n",
      "\n",
      "        popt.fmin(maxfun=1000, ftol=5.e-2, xtol=1.e-2, full_output=True, disp=True)      \n",
      "        \n",
      "        #store fit results\n",
      "        chi_list.append(popt.chisqr)\n",
      "        vlist.append(p[vID].value)\n",
      "        \n",
      "        if not hasattr(y, 'insert'):\n",
      "\n",
      "            pstop_residuals.append(popt.residual)\n",
      "            pstop_radd.append(pstop+popt.residual)\n",
      "            \n",
      "            rt_residuals.append(\"na\")\n",
      "            rt_radd.append(\"na\")\n",
      "            \n",
      "        else:\n",
      "            \n",
      "            pstop_residuals.append(popt.residual[0])\n",
      "            pstop_radd.append(pstop+popt.residual[0])\n",
      "            \n",
      "            rtscaled=rt_data[i]*10\n",
      "            rt_pred=(rtscaled+popt.residual[1])/10\n",
      "            rt_residuals.append(popt.residual[1])\n",
      "            rt_radd.append(rt_pred)        \n",
      "    \n",
      "    pb.update_i(sx_n)\n",
      "    \n",
      "    print \"-\"*100\n",
      "\n",
      "    sxpred=pd.DataFrame.from_dict({'subj_idx':[sx]*len(pgo_list),'pGo':pgo_list, 'v':vlist, \n",
      "            'pstop_data':pstop_data, 'pstop_residuals':pstop_residuals, 'rt_residuals': rt_residuals,\n",
      "            'pstop_radd':pstop_radd, 'rt_data':rt_data, 'rt_radd':rt_radd, 'chi':chi_list}, orient='columns')\n",
      "\n",
      "    sxpred.to_csv(\"sx\"+str(sx)+\"_pro_bsl_fits.csv\")"
     ],
     "language": "python",
     "metadata": {},
     "outputs": [
      {
       "html": [
        "\n",
        "\t    <div style=\"border: 1px solid black; width:500px\">\n",
        "\t    <div id=\"8daecc03-c480-48d0-8c62-6a6407ca02bc\" style=\"background-color:#009B76; width:0%\">&nbsp;</div>\n",
        "\t    </div> \n",
        "\t    "
       ],
       "metadata": {},
       "output_type": "display_data",
       "text": [
        "<IPython.core.display.HTML at 0x7f8b78381310>"
       ]
      },
      {
       "javascript": [
        "$('div#8daecc03-c480-48d0-8c62-6a6407ca02bc').width('0.35%')"
       ],
       "metadata": {},
       "output_type": "display_data",
       "text": [
        "<IPython.core.display.Javascript at 0x7f8b782e9dd0>"
       ]
      },
      {
       "output_type": "stream",
       "stream": "stdout",
       "text": [
        "Optimization terminated successfully.\n",
        "         Current function value: 0.002612\n",
        "         Iterations: 8\n",
        "         Function evaluations: 16\n"
       ]
      },
      {
       "javascript": [
        "$('div#8daecc03-c480-48d0-8c62-6a6407ca02bc').width('0.70%')"
       ],
       "metadata": {},
       "output_type": "display_data",
       "text": [
        "<IPython.core.display.Javascript at 0x7f8b78301a50>"
       ]
      },
      {
       "output_type": "stream",
       "stream": "stdout",
       "text": [
        "Optimization terminated successfully.\n",
        "         Current function value: 0.002376\n",
        "         Iterations: 6\n",
        "         Function evaluations: 12\n"
       ]
      },
      {
       "javascript": [
        "$('div#8daecc03-c480-48d0-8c62-6a6407ca02bc').width('1.05%')"
       ],
       "metadata": {},
       "output_type": "display_data",
       "text": [
        "<IPython.core.display.Javascript at 0x7f8b78366910>"
       ]
      },
      {
       "output_type": "stream",
       "stream": "stdout",
       "text": [
        "Optimization terminated successfully.\n",
        "         Current function value: 0.006733\n",
        "         Iterations: 6\n",
        "         Function evaluations: 12\n"
       ]
      },
      {
       "javascript": [
        "$('div#8daecc03-c480-48d0-8c62-6a6407ca02bc').width('1.40%')"
       ],
       "metadata": {},
       "output_type": "display_data",
       "text": [
        "<IPython.core.display.Javascript at 0x7f8b78575450>"
       ]
      },
      {
       "output_type": "stream",
       "stream": "stdout",
       "text": [
        "Optimization terminated successfully.\n",
        "         Current function value: 0.002490\n",
        "         Iterations: 5\n",
        "         Function evaluations: 10\n"
       ]
      },
      {
       "javascript": [
        "$('div#8daecc03-c480-48d0-8c62-6a6407ca02bc').width('1.75%')"
       ],
       "metadata": {},
       "output_type": "display_data",
       "text": [
        "<IPython.core.display.Javascript at 0x7f8b7859e7d0>"
       ]
      },
      {
       "output_type": "stream",
       "stream": "stdout",
       "text": [
        "Optimization terminated successfully.\n",
        "         Current function value: 0.001254\n",
        "         Iterations: 5\n",
        "         Function evaluations: 12\n"
       ]
      },
      {
       "javascript": [
        "$('div#8daecc03-c480-48d0-8c62-6a6407ca02bc').width('2.11%')"
       ],
       "metadata": {},
       "output_type": "display_data",
       "text": [
        "<IPython.core.display.Javascript at 0x7f8b782e9e50>"
       ]
      },
      {
       "output_type": "stream",
       "stream": "stdout",
       "text": [
        "----------------------------------------------------------------------------------------------------\n"
       ]
      },
      {
       "javascript": [
        "$('div#8daecc03-c480-48d0-8c62-6a6407ca02bc').width('2.46%')"
       ],
       "metadata": {},
       "output_type": "display_data",
       "text": [
        "<IPython.core.display.Javascript at 0x7f8b7840db50>"
       ]
      },
      {
       "output_type": "stream",
       "stream": "stdout",
       "text": [
        "Optimization terminated successfully.\n",
        "         Current function value: 0.005700\n",
        "         Iterations: 9\n",
        "         Function evaluations: 20\n"
       ]
      },
      {
       "javascript": [
        "$('div#8daecc03-c480-48d0-8c62-6a6407ca02bc').width('2.81%')"
       ],
       "metadata": {},
       "output_type": "display_data",
       "text": [
        "<IPython.core.display.Javascript at 0x7f8b784cfcd0>"
       ]
      },
      {
       "output_type": "stream",
       "stream": "stdout",
       "text": [
        "Optimization terminated successfully.\n",
        "         Current function value: 0.001836\n",
        "         Iterations: 10\n",
        "         Function evaluations: 20\n"
       ]
      },
      {
       "javascript": [
        "$('div#8daecc03-c480-48d0-8c62-6a6407ca02bc').width('3.16%')"
       ],
       "metadata": {},
       "output_type": "display_data",
       "text": [
        "<IPython.core.display.Javascript at 0x7f8b78305c90>"
       ]
      },
      {
       "output_type": "stream",
       "stream": "stdout",
       "text": [
        "Optimization terminated successfully.\n",
        "         Current function value: 0.002022\n",
        "         Iterations: 7\n",
        "         Function evaluations: 14\n"
       ]
      },
      {
       "javascript": [
        "$('div#8daecc03-c480-48d0-8c62-6a6407ca02bc').width('3.51%')"
       ],
       "metadata": {},
       "output_type": "display_data",
       "text": [
        "<IPython.core.display.Javascript at 0x7f8b78572e50>"
       ]
      },
      {
       "output_type": "stream",
       "stream": "stdout",
       "text": [
        "Optimization terminated successfully.\n",
        "         Current function value: 0.001430\n",
        "         Iterations: 5\n",
        "         Function evaluations: 10\n"
       ]
      },
      {
       "javascript": [
        "$('div#8daecc03-c480-48d0-8c62-6a6407ca02bc').width('3.86%')"
       ],
       "metadata": {},
       "output_type": "display_data",
       "text": [
        "<IPython.core.display.Javascript at 0x7f8b7859e4d0>"
       ]
      },
      {
       "output_type": "stream",
       "stream": "stdout",
       "text": [
        "Optimization terminated successfully.\n",
        "         Current function value: 0.000169\n",
        "         Iterations: 6\n",
        "         Function evaluations: 12\n"
       ]
      },
      {
       "javascript": [
        "$('div#8daecc03-c480-48d0-8c62-6a6407ca02bc').width('4.21%')"
       ],
       "metadata": {},
       "output_type": "display_data",
       "text": [
        "<IPython.core.display.Javascript at 0x7f8b782fde50>"
       ]
      },
      {
       "output_type": "stream",
       "stream": "stdout",
       "text": [
        "----------------------------------------------------------------------------------------------------\n"
       ]
      },
      {
       "javascript": [
        "$('div#8daecc03-c480-48d0-8c62-6a6407ca02bc').width('4.56%')"
       ],
       "metadata": {},
       "output_type": "display_data",
       "text": [
        "<IPython.core.display.Javascript at 0x7f8b78398190>"
       ]
      },
      {
       "output_type": "stream",
       "stream": "stdout",
       "text": [
        "Optimization terminated successfully.\n",
        "         Current function value: 0.001669\n",
        "         Iterations: 8\n",
        "         Function evaluations: 18\n"
       ]
      },
      {
       "javascript": [
        "$('div#8daecc03-c480-48d0-8c62-6a6407ca02bc').width('4.91%')"
       ],
       "metadata": {},
       "output_type": "display_data",
       "text": [
        "<IPython.core.display.Javascript at 0x7f8b7837e910>"
       ]
      },
      {
       "output_type": "stream",
       "stream": "stdout",
       "text": [
        "Optimization terminated successfully.\n",
        "         Current function value: 0.000036\n",
        "         Iterations: 7\n",
        "         Function evaluations: 15\n"
       ]
      },
      {
       "javascript": [
        "$('div#8daecc03-c480-48d0-8c62-6a6407ca02bc').width('5.26%')"
       ],
       "metadata": {},
       "output_type": "display_data",
       "text": [
        "<IPython.core.display.Javascript at 0x7f8b7835c2d0>"
       ]
      },
      {
       "output_type": "stream",
       "stream": "stdout",
       "text": [
        "Optimization terminated successfully.\n",
        "         Current function value: 0.000925\n",
        "         Iterations: 8\n",
        "         Function evaluations: 19\n"
       ]
      },
      {
       "javascript": [
        "$('div#8daecc03-c480-48d0-8c62-6a6407ca02bc').width('5.61%')"
       ],
       "metadata": {},
       "output_type": "display_data",
       "text": [
        "<IPython.core.display.Javascript at 0x7f8b78501d90>"
       ]
      },
      {
       "output_type": "stream",
       "stream": "stdout",
       "text": [
        "Optimization terminated successfully.\n",
        "         Current function value: 0.008795\n",
        "         Iterations: 7\n",
        "         Function evaluations: 16\n"
       ]
      },
      {
       "javascript": [
        "$('div#8daecc03-c480-48d0-8c62-6a6407ca02bc').width('5.96%')"
       ],
       "metadata": {},
       "output_type": "display_data",
       "text": [
        "<IPython.core.display.Javascript at 0x7f8b78406e50>"
       ]
      },
      {
       "output_type": "stream",
       "stream": "stdout",
       "text": [
        "Optimization terminated successfully.\n",
        "         Current function value: 0.000150\n",
        "         Iterations: 6\n",
        "         Function evaluations: 13\n"
       ]
      },
      {
       "javascript": [
        "$('div#8daecc03-c480-48d0-8c62-6a6407ca02bc').width('6.32%')"
       ],
       "metadata": {},
       "output_type": "display_data",
       "text": [
        "<IPython.core.display.Javascript at 0x7f8b782ebf10>"
       ]
      },
      {
       "output_type": "stream",
       "stream": "stdout",
       "text": [
        "----------------------------------------------------------------------------------------------------\n"
       ]
      },
      {
       "javascript": [
        "$('div#8daecc03-c480-48d0-8c62-6a6407ca02bc').width('6.67%')"
       ],
       "metadata": {},
       "output_type": "display_data",
       "text": [
        "<IPython.core.display.Javascript at 0x7f8b7837ea50>"
       ]
      },
      {
       "output_type": "stream",
       "stream": "stdout",
       "text": [
        "Optimization terminated successfully.\n",
        "         Current function value: 0.000534\n",
        "         Iterations: 7\n",
        "         Function evaluations: 15\n"
       ]
      },
      {
       "javascript": [
        "$('div#8daecc03-c480-48d0-8c62-6a6407ca02bc').width('7.02%')"
       ],
       "metadata": {},
       "output_type": "display_data",
       "text": [
        "<IPython.core.display.Javascript at 0x7f8b78398d50>"
       ]
      },
      {
       "output_type": "stream",
       "stream": "stdout",
       "text": [
        "Optimization terminated successfully.\n",
        "         Current function value: 0.001024\n",
        "         Iterations: 5\n",
        "         Function evaluations: 11\n"
       ]
      },
      {
       "javascript": [
        "$('div#8daecc03-c480-48d0-8c62-6a6407ca02bc').width('7.37%')"
       ],
       "metadata": {},
       "output_type": "display_data",
       "text": [
        "<IPython.core.display.Javascript at 0x7f8b784b64d0>"
       ]
      },
      {
       "output_type": "stream",
       "stream": "stdout",
       "text": [
        "Optimization terminated successfully.\n",
        "         Current function value: 0.003867\n",
        "         Iterations: 5\n",
        "         Function evaluations: 11\n"
       ]
      },
      {
       "javascript": [
        "$('div#8daecc03-c480-48d0-8c62-6a6407ca02bc').width('7.72%')"
       ],
       "metadata": {},
       "output_type": "display_data",
       "text": [
        "<IPython.core.display.Javascript at 0x7f8b783cc210>"
       ]
      },
      {
       "output_type": "stream",
       "stream": "stdout",
       "text": [
        "Optimization terminated successfully.\n",
        "         Current function value: 0.000095\n",
        "         Iterations: 6\n",
        "         Function evaluations: 12\n"
       ]
      },
      {
       "javascript": [
        "$('div#8daecc03-c480-48d0-8c62-6a6407ca02bc').width('8.07%')"
       ],
       "metadata": {},
       "output_type": "display_data",
       "text": [
        "<IPython.core.display.Javascript at 0x7f8b7828e950>"
       ]
      },
      {
       "output_type": "stream",
       "stream": "stdout",
       "text": [
        "Optimization terminated successfully.\n",
        "         Current function value: 0.001720\n",
        "         Iterations: 5\n",
        "         Function evaluations: 10\n"
       ]
      },
      {
       "javascript": [
        "$('div#8daecc03-c480-48d0-8c62-6a6407ca02bc').width('8.42%')"
       ],
       "metadata": {},
       "output_type": "display_data",
       "text": [
        "<IPython.core.display.Javascript at 0x7f8b78580d10>"
       ]
      },
      {
       "output_type": "stream",
       "stream": "stdout",
       "text": [
        "----------------------------------------------------------------------------------------------------\n"
       ]
      },
      {
       "javascript": [
        "$('div#8daecc03-c480-48d0-8c62-6a6407ca02bc').width('8.77%')"
       ],
       "metadata": {},
       "output_type": "display_data",
       "text": [
        "<IPython.core.display.Javascript at 0x7f8b784f02d0>"
       ]
      },
      {
       "output_type": "stream",
       "stream": "stdout",
       "text": [
        "Optimization terminated successfully.\n",
        "         Current function value: 0.000388\n",
        "         Iterations: 8\n",
        "         Function evaluations: 16\n"
       ]
      },
      {
       "javascript": [
        "$('div#8daecc03-c480-48d0-8c62-6a6407ca02bc').width('9.12%')"
       ],
       "metadata": {},
       "output_type": "display_data",
       "text": [
        "<IPython.core.display.Javascript at 0x7f8b784f0910>"
       ]
      },
      {
       "output_type": "stream",
       "stream": "stdout",
       "text": [
        "Optimization terminated successfully.\n",
        "         Current function value: 0.000837\n",
        "         Iterations: 6\n",
        "         Function evaluations: 13\n"
       ]
      },
      {
       "javascript": [
        "$('div#8daecc03-c480-48d0-8c62-6a6407ca02bc').width('9.47%')"
       ],
       "metadata": {},
       "output_type": "display_data",
       "text": [
        "<IPython.core.display.Javascript at 0x7f8b78618d10>"
       ]
      },
      {
       "output_type": "stream",
       "stream": "stdout",
       "text": [
        "Optimization terminated successfully.\n",
        "         Current function value: 0.009339\n",
        "         Iterations: 5\n",
        "         Function evaluations: 11\n"
       ]
      },
      {
       "javascript": [
        "$('div#8daecc03-c480-48d0-8c62-6a6407ca02bc').width('9.82%')"
       ],
       "metadata": {},
       "output_type": "display_data",
       "text": [
        "<IPython.core.display.Javascript at 0x7f8b78400e90>"
       ]
      },
      {
       "output_type": "stream",
       "stream": "stdout",
       "text": [
        "Optimization terminated successfully.\n",
        "         Current function value: 0.036733\n",
        "         Iterations: 5\n",
        "         Function evaluations: 10\n"
       ]
      },
      {
       "javascript": [
        "$('div#8daecc03-c480-48d0-8c62-6a6407ca02bc').width('10.18%')"
       ],
       "metadata": {},
       "output_type": "display_data",
       "text": [
        "<IPython.core.display.Javascript at 0x7f8b78645910>"
       ]
      },
      {
       "output_type": "stream",
       "stream": "stdout",
       "text": [
        "Optimization terminated successfully.\n",
        "         Current function value: 0.022604\n",
        "         Iterations: 5\n",
        "         Function evaluations: 10\n"
       ]
      },
      {
       "javascript": [
        "$('div#8daecc03-c480-48d0-8c62-6a6407ca02bc').width('10.53%')"
       ],
       "metadata": {},
       "output_type": "display_data",
       "text": [
        "<IPython.core.display.Javascript at 0x7f8b78575c90>"
       ]
      },
      {
       "output_type": "stream",
       "stream": "stdout",
       "text": [
        "----------------------------------------------------------------------------------------------------\n"
       ]
      },
      {
       "javascript": [
        "$('div#8daecc03-c480-48d0-8c62-6a6407ca02bc').width('10.88%')"
       ],
       "metadata": {},
       "output_type": "display_data",
       "text": [
        "<IPython.core.display.Javascript at 0x7f8b783054d0>"
       ]
      },
      {
       "output_type": "stream",
       "stream": "stdout",
       "text": [
        "Optimization terminated successfully.\n",
        "         Current function value: 0.004647\n",
        "         Iterations: 8\n",
        "         Function evaluations: 17\n"
       ]
      },
      {
       "javascript": [
        "$('div#8daecc03-c480-48d0-8c62-6a6407ca02bc').width('11.23%')"
       ],
       "metadata": {},
       "output_type": "display_data",
       "text": [
        "<IPython.core.display.Javascript at 0x7f8b78572bd0>"
       ]
      },
      {
       "output_type": "stream",
       "stream": "stdout",
       "text": [
        "Optimization terminated successfully.\n",
        "         Current function value: 0.009753\n",
        "         Iterations: 6\n",
        "         Function evaluations: 12\n"
       ]
      },
      {
       "javascript": [
        "$('div#8daecc03-c480-48d0-8c62-6a6407ca02bc').width('11.58%')"
       ],
       "metadata": {},
       "output_type": "display_data",
       "text": [
        "<IPython.core.display.Javascript at 0x7f8b78505850>"
       ]
      },
      {
       "output_type": "stream",
       "stream": "stdout",
       "text": [
        "Optimization terminated successfully.\n",
        "         Current function value: 0.071741\n",
        "         Iterations: 5\n",
        "         Function evaluations: 10\n"
       ]
      },
      {
       "javascript": [
        "$('div#8daecc03-c480-48d0-8c62-6a6407ca02bc').width('11.93%')"
       ],
       "metadata": {},
       "output_type": "display_data",
       "text": [
        "<IPython.core.display.Javascript at 0x7f8b784f0cd0>"
       ]
      },
      {
       "output_type": "stream",
       "stream": "stdout",
       "text": [
        "Optimization terminated successfully.\n",
        "         Current function value: 0.041455\n",
        "         Iterations: 6\n",
        "         Function evaluations: 14\n"
       ]
      },
      {
       "javascript": [
        "$('div#8daecc03-c480-48d0-8c62-6a6407ca02bc').width('12.28%')"
       ],
       "metadata": {},
       "output_type": "display_data",
       "text": [
        "<IPython.core.display.Javascript at 0x7f8b784a8950>"
       ]
      },
      {
       "output_type": "stream",
       "stream": "stdout",
       "text": [
        "Optimization terminated successfully.\n",
        "         Current function value: 0.060191\n",
        "         Iterations: 5\n",
        "         Function evaluations: 12\n"
       ]
      },
      {
       "javascript": [
        "$('div#8daecc03-c480-48d0-8c62-6a6407ca02bc').width('12.63%')"
       ],
       "metadata": {},
       "output_type": "display_data",
       "text": [
        "<IPython.core.display.Javascript at 0x7f8b7837e310>"
       ]
      },
      {
       "output_type": "stream",
       "stream": "stdout",
       "text": [
        "----------------------------------------------------------------------------------------------------\n"
       ]
      },
      {
       "javascript": [
        "$('div#8daecc03-c480-48d0-8c62-6a6407ca02bc').width('12.98%')"
       ],
       "metadata": {},
       "output_type": "display_data",
       "text": [
        "<IPython.core.display.Javascript at 0x7f8b7841dfd0>"
       ]
      },
      {
       "output_type": "stream",
       "stream": "stdout",
       "text": [
        "Optimization terminated successfully.\n",
        "         Current function value: 0.001271\n",
        "         Iterations: 8\n",
        "         Function evaluations: 17\n"
       ]
      },
      {
       "javascript": [
        "$('div#8daecc03-c480-48d0-8c62-6a6407ca02bc').width('13.33%')"
       ],
       "metadata": {},
       "output_type": "display_data",
       "text": [
        "<IPython.core.display.Javascript at 0x7f8b783babd0>"
       ]
      },
      {
       "output_type": "stream",
       "stream": "stdout",
       "text": [
        "Optimization terminated successfully.\n",
        "         Current function value: 0.001085\n",
        "         Iterations: 6\n",
        "         Function evaluations: 13\n"
       ]
      },
      {
       "javascript": [
        "$('div#8daecc03-c480-48d0-8c62-6a6407ca02bc').width('13.68%')"
       ],
       "metadata": {},
       "output_type": "display_data",
       "text": [
        "<IPython.core.display.Javascript at 0x7f8b7837e910>"
       ]
      },
      {
       "output_type": "stream",
       "stream": "stdout",
       "text": [
        "Optimization terminated successfully.\n",
        "         Current function value: 0.000231\n",
        "         Iterations: 6\n",
        "         Function evaluations: 12\n"
       ]
      },
      {
       "javascript": [
        "$('div#8daecc03-c480-48d0-8c62-6a6407ca02bc').width('14.04%')"
       ],
       "metadata": {},
       "output_type": "display_data",
       "text": [
        "<IPython.core.display.Javascript at 0x7f8b78366c90>"
       ]
      },
      {
       "output_type": "stream",
       "stream": "stdout",
       "text": [
        "Optimization terminated successfully.\n",
        "         Current function value: 0.006709\n",
        "         Iterations: 6\n",
        "         Function evaluations: 13\n"
       ]
      },
      {
       "javascript": [
        "$('div#8daecc03-c480-48d0-8c62-6a6407ca02bc').width('14.39%')"
       ],
       "metadata": {},
       "output_type": "display_data",
       "text": [
        "<IPython.core.display.Javascript at 0x7f8b78575250>"
       ]
      },
      {
       "output_type": "stream",
       "stream": "stdout",
       "text": [
        "Optimization terminated successfully.\n",
        "         Current function value: 0.000594\n",
        "         Iterations: 5\n",
        "         Function evaluations: 12\n"
       ]
      },
      {
       "javascript": [
        "$('div#8daecc03-c480-48d0-8c62-6a6407ca02bc').width('14.74%')"
       ],
       "metadata": {},
       "output_type": "display_data",
       "text": [
        "<IPython.core.display.Javascript at 0x7f8b78396d50>"
       ]
      },
      {
       "output_type": "stream",
       "stream": "stdout",
       "text": [
        "----------------------------------------------------------------------------------------------------\n"
       ]
      },
      {
       "javascript": [
        "$('div#8daecc03-c480-48d0-8c62-6a6407ca02bc').width('15.09%')"
       ],
       "metadata": {},
       "output_type": "display_data",
       "text": [
        "<IPython.core.display.Javascript at 0x7f8b78580bd0>"
       ]
      },
      {
       "output_type": "stream",
       "stream": "stdout",
       "text": [
        "Optimization terminated successfully.\n",
        "         Current function value: 0.000076\n",
        "         Iterations: 7\n",
        "         Function evaluations: 14\n"
       ]
      },
      {
       "javascript": [
        "$('div#8daecc03-c480-48d0-8c62-6a6407ca02bc').width('15.44%')"
       ],
       "metadata": {},
       "output_type": "display_data",
       "text": [
        "<IPython.core.display.Javascript at 0x7f8b784abb10>"
       ]
      },
      {
       "output_type": "stream",
       "stream": "stdout",
       "text": [
        "Optimization terminated successfully.\n",
        "         Current function value: 0.013831\n",
        "         Iterations: 6\n",
        "         Function evaluations: 13\n"
       ]
      },
      {
       "javascript": [
        "$('div#8daecc03-c480-48d0-8c62-6a6407ca02bc').width('15.79%')"
       ],
       "metadata": {},
       "output_type": "display_data",
       "text": [
        "<IPython.core.display.Javascript at 0x7f8b783ccc50>"
       ]
      },
      {
       "output_type": "stream",
       "stream": "stdout",
       "text": [
        "Optimization terminated successfully.\n",
        "         Current function value: 0.001847\n",
        "         Iterations: 7\n",
        "         Function evaluations: 15\n"
       ]
      },
      {
       "javascript": [
        "$('div#8daecc03-c480-48d0-8c62-6a6407ca02bc').width('16.14%')"
       ],
       "metadata": {},
       "output_type": "display_data",
       "text": [
        "<IPython.core.display.Javascript at 0x7f8b785936d0>"
       ]
      },
      {
       "output_type": "stream",
       "stream": "stdout",
       "text": [
        "Optimization terminated successfully.\n",
        "         Current function value: 0.000291\n",
        "         Iterations: 5\n",
        "         Function evaluations: 11\n"
       ]
      },
      {
       "javascript": [
        "$('div#8daecc03-c480-48d0-8c62-6a6407ca02bc').width('16.49%')"
       ],
       "metadata": {},
       "output_type": "display_data",
       "text": [
        "<IPython.core.display.Javascript at 0x7f8b784a4e10>"
       ]
      },
      {
       "output_type": "stream",
       "stream": "stdout",
       "text": [
        "Optimization terminated successfully.\n",
        "         Current function value: 0.000188\n",
        "         Iterations: 8\n",
        "         Function evaluations: 16\n"
       ]
      },
      {
       "javascript": [
        "$('div#8daecc03-c480-48d0-8c62-6a6407ca02bc').width('16.84%')"
       ],
       "metadata": {},
       "output_type": "display_data",
       "text": [
        "<IPython.core.display.Javascript at 0x7f8b783b6f50>"
       ]
      },
      {
       "output_type": "stream",
       "stream": "stdout",
       "text": [
        "----------------------------------------------------------------------------------------------------\n"
       ]
      },
      {
       "javascript": [
        "$('div#8daecc03-c480-48d0-8c62-6a6407ca02bc').width('17.19%')"
       ],
       "metadata": {},
       "output_type": "display_data",
       "text": [
        "<IPython.core.display.Javascript at 0x7f8b78396390>"
       ]
      },
      {
       "output_type": "stream",
       "stream": "stdout",
       "text": [
        "Optimization terminated successfully.\n",
        "         Current function value: 0.004740\n",
        "         Iterations: 8\n",
        "         Function evaluations: 17\n"
       ]
      },
      {
       "javascript": [
        "$('div#8daecc03-c480-48d0-8c62-6a6407ca02bc').width('17.54%')"
       ],
       "metadata": {},
       "output_type": "display_data",
       "text": [
        "<IPython.core.display.Javascript at 0x7f8b78396e50>"
       ]
      },
      {
       "output_type": "stream",
       "stream": "stdout",
       "text": [
        "Optimization terminated successfully.\n",
        "         Current function value: 0.001171\n",
        "         Iterations: 8\n",
        "         Function evaluations: 17\n"
       ]
      },
      {
       "javascript": [
        "$('div#8daecc03-c480-48d0-8c62-6a6407ca02bc').width('17.89%')"
       ],
       "metadata": {},
       "output_type": "display_data",
       "text": [
        "<IPython.core.display.Javascript at 0x7f8b78396d90>"
       ]
      },
      {
       "output_type": "stream",
       "stream": "stdout",
       "text": [
        "Optimization terminated successfully.\n",
        "         Current function value: 0.000672\n",
        "         Iterations: 6\n",
        "         Function evaluations: 12\n"
       ]
      },
      {
       "javascript": [
        "$('div#8daecc03-c480-48d0-8c62-6a6407ca02bc').width('18.25%')"
       ],
       "metadata": {},
       "output_type": "display_data",
       "text": [
        "<IPython.core.display.Javascript at 0x7f8b7830d210>"
       ]
      },
      {
       "output_type": "stream",
       "stream": "stdout",
       "text": [
        "Optimization terminated successfully.\n",
        "         Current function value: 0.007001\n",
        "         Iterations: 5\n",
        "         Function evaluations: 10\n"
       ]
      },
      {
       "javascript": [
        "$('div#8daecc03-c480-48d0-8c62-6a6407ca02bc').width('18.60%')"
       ],
       "metadata": {},
       "output_type": "display_data",
       "text": [
        "<IPython.core.display.Javascript at 0x7f8b78580790>"
       ]
      },
      {
       "output_type": "stream",
       "stream": "stdout",
       "text": [
        "Optimization terminated successfully.\n",
        "         Current function value: 0.002330\n",
        "         Iterations: 6\n",
        "         Function evaluations: 14\n"
       ]
      },
      {
       "javascript": [
        "$('div#8daecc03-c480-48d0-8c62-6a6407ca02bc').width('18.95%')"
       ],
       "metadata": {},
       "output_type": "display_data",
       "text": [
        "<IPython.core.display.Javascript at 0x7f8b784cf8d0>"
       ]
      },
      {
       "output_type": "stream",
       "stream": "stdout",
       "text": [
        "----------------------------------------------------------------------------------------------------\n"
       ]
      },
      {
       "javascript": [
        "$('div#8daecc03-c480-48d0-8c62-6a6407ca02bc').width('19.30%')"
       ],
       "metadata": {},
       "output_type": "display_data",
       "text": [
        "<IPython.core.display.Javascript at 0x7f8b78580b50>"
       ]
      },
      {
       "output_type": "stream",
       "stream": "stdout",
       "text": [
        "Optimization terminated successfully.\n",
        "         Current function value: 0.003075\n",
        "         Iterations: 6\n",
        "         Function evaluations: 12\n"
       ]
      },
      {
       "javascript": [
        "$('div#8daecc03-c480-48d0-8c62-6a6407ca02bc').width('19.65%')"
       ],
       "metadata": {},
       "output_type": "display_data",
       "text": [
        "<IPython.core.display.Javascript at 0x7f8b78487b10>"
       ]
      },
      {
       "output_type": "stream",
       "stream": "stdout",
       "text": [
        "Optimization terminated successfully.\n",
        "         Current function value: 0.004485\n",
        "         Iterations: 7\n",
        "         Function evaluations: 15\n"
       ]
      },
      {
       "javascript": [
        "$('div#8daecc03-c480-48d0-8c62-6a6407ca02bc').width('20.00%')"
       ],
       "metadata": {},
       "output_type": "display_data",
       "text": [
        "<IPython.core.display.Javascript at 0x7f8b78366890>"
       ]
      },
      {
       "output_type": "stream",
       "stream": "stdout",
       "text": [
        "Optimization terminated successfully.\n",
        "         Current function value: 0.000503\n",
        "         Iterations: 5\n",
        "         Function evaluations: 10\n"
       ]
      },
      {
       "javascript": [
        "$('div#8daecc03-c480-48d0-8c62-6a6407ca02bc').width('20.35%')"
       ],
       "metadata": {},
       "output_type": "display_data",
       "text": [
        "<IPython.core.display.Javascript at 0x7f8b78353a10>"
       ]
      },
      {
       "output_type": "stream",
       "stream": "stdout",
       "text": [
        "Optimization terminated successfully.\n",
        "         Current function value: 0.000166\n",
        "         Iterations: 5\n",
        "         Function evaluations: 10\n"
       ]
      },
      {
       "javascript": [
        "$('div#8daecc03-c480-48d0-8c62-6a6407ca02bc').width('20.70%')"
       ],
       "metadata": {},
       "output_type": "display_data",
       "text": [
        "<IPython.core.display.Javascript at 0x7f8b78637590>"
       ]
      },
      {
       "output_type": "stream",
       "stream": "stdout",
       "text": [
        "Optimization terminated successfully.\n",
        "         Current function value: 0.001824\n",
        "         Iterations: 5\n",
        "         Function evaluations: 12\n"
       ]
      },
      {
       "javascript": [
        "$('div#8daecc03-c480-48d0-8c62-6a6407ca02bc').width('21.05%')"
       ],
       "metadata": {},
       "output_type": "display_data",
       "text": [
        "<IPython.core.display.Javascript at 0x7f8b78406bd0>"
       ]
      },
      {
       "output_type": "stream",
       "stream": "stdout",
       "text": [
        "----------------------------------------------------------------------------------------------------\n"
       ]
      },
      {
       "javascript": [
        "$('div#8daecc03-c480-48d0-8c62-6a6407ca02bc').width('21.40%')"
       ],
       "metadata": {},
       "output_type": "display_data",
       "text": [
        "<IPython.core.display.Javascript at 0x7f8b78637710>"
       ]
      },
      {
       "output_type": "stream",
       "stream": "stdout",
       "text": [
        "Optimization terminated successfully.\n",
        "         Current function value: 0.000112\n",
        "         Iterations: 7\n",
        "         Function evaluations: 15\n"
       ]
      },
      {
       "javascript": [
        "$('div#8daecc03-c480-48d0-8c62-6a6407ca02bc').width('21.75%')"
       ],
       "metadata": {},
       "output_type": "display_data",
       "text": [
        "<IPython.core.display.Javascript at 0x7f8b783d5f90>"
       ]
      },
      {
       "output_type": "stream",
       "stream": "stdout",
       "text": [
        "Optimization terminated successfully.\n",
        "         Current function value: 0.000050\n",
        "         Iterations: 6\n",
        "         Function evaluations: 12\n"
       ]
      },
      {
       "javascript": [
        "$('div#8daecc03-c480-48d0-8c62-6a6407ca02bc').width('22.11%')"
       ],
       "metadata": {},
       "output_type": "display_data",
       "text": [
        "<IPython.core.display.Javascript at 0x7f8b784aba10>"
       ]
      },
      {
       "output_type": "stream",
       "stream": "stdout",
       "text": [
        "Optimization terminated successfully.\n",
        "         Current function value: 0.001583\n",
        "         Iterations: 6\n",
        "         Function evaluations: 13\n"
       ]
      },
      {
       "javascript": [
        "$('div#8daecc03-c480-48d0-8c62-6a6407ca02bc').width('22.46%')"
       ],
       "metadata": {},
       "output_type": "display_data",
       "text": [
        "<IPython.core.display.Javascript at 0x7f8b784a47d0>"
       ]
      },
      {
       "output_type": "stream",
       "stream": "stdout",
       "text": [
        "Optimization terminated successfully.\n",
        "         Current function value: 0.017165\n",
        "         Iterations: 6\n",
        "         Function evaluations: 14\n"
       ]
      },
      {
       "javascript": [
        "$('div#8daecc03-c480-48d0-8c62-6a6407ca02bc').width('22.81%')"
       ],
       "metadata": {},
       "output_type": "display_data",
       "text": [
        "<IPython.core.display.Javascript at 0x7f8b783d2d90>"
       ]
      },
      {
       "output_type": "stream",
       "stream": "stdout",
       "text": [
        "Optimization terminated successfully.\n",
        "         Current function value: 0.007167\n",
        "         Iterations: 7\n",
        "         Function evaluations: 17\n"
       ]
      },
      {
       "javascript": [
        "$('div#8daecc03-c480-48d0-8c62-6a6407ca02bc').width('23.16%')"
       ],
       "metadata": {},
       "output_type": "display_data",
       "text": [
        "<IPython.core.display.Javascript at 0x7f8b7850de90>"
       ]
      },
      {
       "output_type": "stream",
       "stream": "stdout",
       "text": [
        "----------------------------------------------------------------------------------------------------\n"
       ]
      },
      {
       "javascript": [
        "$('div#8daecc03-c480-48d0-8c62-6a6407ca02bc').width('23.51%')"
       ],
       "metadata": {},
       "output_type": "display_data",
       "text": [
        "<IPython.core.display.Javascript at 0x7f8b7830b390>"
       ]
      },
      {
       "output_type": "stream",
       "stream": "stdout",
       "text": [
        "Optimization terminated successfully.\n",
        "         Current function value: 0.000763\n",
        "         Iterations: 8\n",
        "         Function evaluations: 16\n"
       ]
      },
      {
       "javascript": [
        "$('div#8daecc03-c480-48d0-8c62-6a6407ca02bc').width('23.86%')"
       ],
       "metadata": {},
       "output_type": "display_data",
       "text": [
        "<IPython.core.display.Javascript at 0x7f8b78366f90>"
       ]
      },
      {
       "output_type": "stream",
       "stream": "stdout",
       "text": [
        "Optimization terminated successfully.\n",
        "         Current function value: 0.000591\n",
        "         Iterations: 6\n",
        "         Function evaluations: 13\n"
       ]
      },
      {
       "javascript": [
        "$('div#8daecc03-c480-48d0-8c62-6a6407ca02bc').width('24.21%')"
       ],
       "metadata": {},
       "output_type": "display_data",
       "text": [
        "<IPython.core.display.Javascript at 0x7f8b7840e750>"
       ]
      },
      {
       "output_type": "stream",
       "stream": "stdout",
       "text": [
        "Optimization terminated successfully.\n",
        "         Current function value: 0.008831\n",
        "         Iterations: 5\n",
        "         Function evaluations: 11\n"
       ]
      },
      {
       "javascript": [
        "$('div#8daecc03-c480-48d0-8c62-6a6407ca02bc').width('24.56%')"
       ],
       "metadata": {},
       "output_type": "display_data",
       "text": [
        "<IPython.core.display.Javascript at 0x7f8b7859e650>"
       ]
      },
      {
       "output_type": "stream",
       "stream": "stdout",
       "text": [
        "Optimization terminated successfully.\n",
        "         Current function value: 0.016676\n",
        "         Iterations: 6\n",
        "         Function evaluations: 14\n"
       ]
      },
      {
       "javascript": [
        "$('div#8daecc03-c480-48d0-8c62-6a6407ca02bc').width('24.91%')"
       ],
       "metadata": {},
       "output_type": "display_data",
       "text": [
        "<IPython.core.display.Javascript at 0x7f8b78572510>"
       ]
      },
      {
       "output_type": "stream",
       "stream": "stdout",
       "text": [
        "Optimization terminated successfully.\n",
        "         Current function value: 0.029047\n",
        "         Iterations: 5\n",
        "         Function evaluations: 13\n"
       ]
      },
      {
       "javascript": [
        "$('div#8daecc03-c480-48d0-8c62-6a6407ca02bc').width('25.26%')"
       ],
       "metadata": {},
       "output_type": "display_data",
       "text": [
        "<IPython.core.display.Javascript at 0x7f8b784875d0>"
       ]
      },
      {
       "output_type": "stream",
       "stream": "stdout",
       "text": [
        "----------------------------------------------------------------------------------------------------\n"
       ]
      },
      {
       "javascript": [
        "$('div#8daecc03-c480-48d0-8c62-6a6407ca02bc').width('25.61%')"
       ],
       "metadata": {},
       "output_type": "display_data",
       "text": [
        "<IPython.core.display.Javascript at 0x7f8b7850d590>"
       ]
      },
      {
       "output_type": "stream",
       "stream": "stdout",
       "text": [
        "Optimization terminated successfully.\n",
        "         Current function value: 0.012019\n",
        "         Iterations: 6\n",
        "         Function evaluations: 13\n"
       ]
      },
      {
       "javascript": [
        "$('div#8daecc03-c480-48d0-8c62-6a6407ca02bc').width('25.96%')"
       ],
       "metadata": {},
       "output_type": "display_data",
       "text": [
        "<IPython.core.display.Javascript at 0x7f8b784a8850>"
       ]
      },
      {
       "output_type": "stream",
       "stream": "stdout",
       "text": [
        "Optimization terminated successfully.\n",
        "         Current function value: 0.005515\n",
        "         Iterations: 7\n",
        "         Function evaluations: 14\n"
       ]
      },
      {
       "javascript": [
        "$('div#8daecc03-c480-48d0-8c62-6a6407ca02bc').width('26.32%')"
       ],
       "metadata": {},
       "output_type": "display_data",
       "text": [
        "<IPython.core.display.Javascript at 0x7f8b784a8e10>"
       ]
      },
      {
       "output_type": "stream",
       "stream": "stdout",
       "text": [
        "Optimization terminated successfully.\n",
        "         Current function value: 0.028253\n",
        "         Iterations: 5\n",
        "         Function evaluations: 11\n"
       ]
      },
      {
       "javascript": [
        "$('div#8daecc03-c480-48d0-8c62-6a6407ca02bc').width('26.67%')"
       ],
       "metadata": {},
       "output_type": "display_data",
       "text": [
        "<IPython.core.display.Javascript at 0x7f8b7837e7d0>"
       ]
      },
      {
       "output_type": "stream",
       "stream": "stdout",
       "text": [
        "Optimization terminated successfully.\n",
        "         Current function value: 0.062434\n",
        "         Iterations: 7\n",
        "         Function evaluations: 14\n"
       ]
      },
      {
       "javascript": [
        "$('div#8daecc03-c480-48d0-8c62-6a6407ca02bc').width('27.02%')"
       ],
       "metadata": {},
       "output_type": "display_data",
       "text": [
        "<IPython.core.display.Javascript at 0x7f8b785751d0>"
       ]
      },
      {
       "output_type": "stream",
       "stream": "stdout",
       "text": [
        "Optimization terminated successfully.\n",
        "         Current function value: 0.018726\n",
        "         Iterations: 5\n",
        "         Function evaluations: 11\n"
       ]
      },
      {
       "javascript": [
        "$('div#8daecc03-c480-48d0-8c62-6a6407ca02bc').width('27.37%')"
       ],
       "metadata": {},
       "output_type": "display_data",
       "text": [
        "<IPython.core.display.Javascript at 0x7f8b783d56d0>"
       ]
      },
      {
       "output_type": "stream",
       "stream": "stdout",
       "text": [
        "----------------------------------------------------------------------------------------------------\n"
       ]
      },
      {
       "javascript": [
        "$('div#8daecc03-c480-48d0-8c62-6a6407ca02bc').width('27.72%')"
       ],
       "metadata": {},
       "output_type": "display_data",
       "text": [
        "<IPython.core.display.Javascript at 0x7f8b78580310>"
       ]
      },
      {
       "output_type": "stream",
       "stream": "stdout",
       "text": [
        "Optimization terminated successfully.\n",
        "         Current function value: 0.002374\n",
        "         Iterations: 7\n",
        "         Function evaluations: 14\n"
       ]
      },
      {
       "javascript": [
        "$('div#8daecc03-c480-48d0-8c62-6a6407ca02bc').width('28.07%')"
       ],
       "metadata": {},
       "output_type": "display_data",
       "text": [
        "<IPython.core.display.Javascript at 0x7f8b7859e8d0>"
       ]
      },
      {
       "output_type": "stream",
       "stream": "stdout",
       "text": [
        "Optimization terminated successfully.\n",
        "         Current function value: 0.014944\n",
        "         Iterations: 6\n",
        "         Function evaluations: 12\n"
       ]
      },
      {
       "javascript": [
        "$('div#8daecc03-c480-48d0-8c62-6a6407ca02bc').width('28.42%')"
       ],
       "metadata": {},
       "output_type": "display_data",
       "text": [
        "<IPython.core.display.Javascript at 0x7f8b7835ca90>"
       ]
      },
      {
       "output_type": "stream",
       "stream": "stdout",
       "text": [
        "Optimization terminated successfully.\n",
        "         Current function value: 0.017567\n",
        "         Iterations: 6\n",
        "         Function evaluations: 12\n"
       ]
      },
      {
       "javascript": [
        "$('div#8daecc03-c480-48d0-8c62-6a6407ca02bc').width('28.77%')"
       ],
       "metadata": {},
       "output_type": "display_data",
       "text": [
        "<IPython.core.display.Javascript at 0x7f8b782f50d0>"
       ]
      },
      {
       "output_type": "stream",
       "stream": "stdout",
       "text": [
        "Optimization terminated successfully.\n",
        "         Current function value: 0.010010\n",
        "         Iterations: 5\n",
        "         Function evaluations: 10\n"
       ]
      },
      {
       "javascript": [
        "$('div#8daecc03-c480-48d0-8c62-6a6407ca02bc').width('29.12%')"
       ],
       "metadata": {},
       "output_type": "display_data",
       "text": [
        "<IPython.core.display.Javascript at 0x7f8b786759d0>"
       ]
      },
      {
       "output_type": "stream",
       "stream": "stdout",
       "text": [
        "Optimization terminated successfully.\n",
        "         Current function value: 0.019981\n",
        "         Iterations: 6\n",
        "         Function evaluations: 13\n"
       ]
      },
      {
       "javascript": [
        "$('div#8daecc03-c480-48d0-8c62-6a6407ca02bc').width('29.47%')"
       ],
       "metadata": {},
       "output_type": "display_data",
       "text": [
        "<IPython.core.display.Javascript at 0x7f8b7830b990>"
       ]
      },
      {
       "output_type": "stream",
       "stream": "stdout",
       "text": [
        "----------------------------------------------------------------------------------------------------\n"
       ]
      },
      {
       "javascript": [
        "$('div#8daecc03-c480-48d0-8c62-6a6407ca02bc').width('29.82%')"
       ],
       "metadata": {},
       "output_type": "display_data",
       "text": [
        "<IPython.core.display.Javascript at 0x7f8b786751d0>"
       ]
      },
      {
       "output_type": "stream",
       "stream": "stdout",
       "text": [
        "Optimization terminated successfully.\n",
        "         Current function value: 0.000108\n",
        "         Iterations: 8\n",
        "         Function evaluations: 16\n"
       ]
      },
      {
       "javascript": [
        "$('div#8daecc03-c480-48d0-8c62-6a6407ca02bc').width('30.18%')"
       ],
       "metadata": {},
       "output_type": "display_data",
       "text": [
        "<IPython.core.display.Javascript at 0x7f8b7864e590>"
       ]
      },
      {
       "output_type": "stream",
       "stream": "stdout",
       "text": [
        "Optimization terminated successfully.\n",
        "         Current function value: 0.000306\n",
        "         Iterations: 6\n",
        "         Function evaluations: 12\n"
       ]
      },
      {
       "javascript": [
        "$('div#8daecc03-c480-48d0-8c62-6a6407ca02bc').width('30.53%')"
       ],
       "metadata": {},
       "output_type": "display_data",
       "text": [
        "<IPython.core.display.Javascript at 0x7f8b7837ec10>"
       ]
      },
      {
       "output_type": "stream",
       "stream": "stdout",
       "text": [
        "Optimization terminated successfully.\n",
        "         Current function value: 0.006902\n",
        "         Iterations: 5\n",
        "         Function evaluations: 10\n"
       ]
      },
      {
       "javascript": [
        "$('div#8daecc03-c480-48d0-8c62-6a6407ca02bc').width('30.88%')"
       ],
       "metadata": {},
       "output_type": "display_data",
       "text": [
        "<IPython.core.display.Javascript at 0x7f8b7837eb10>"
       ]
      },
      {
       "output_type": "stream",
       "stream": "stdout",
       "text": [
        "Optimization terminated successfully.\n",
        "         Current function value: 0.012255\n",
        "         Iterations: 5\n",
        "         Function evaluations: 10\n"
       ]
      },
      {
       "javascript": [
        "$('div#8daecc03-c480-48d0-8c62-6a6407ca02bc').width('31.23%')"
       ],
       "metadata": {},
       "output_type": "display_data",
       "text": [
        "<IPython.core.display.Javascript at 0x7f8b784cf5d0>"
       ]
      },
      {
       "output_type": "stream",
       "stream": "stdout",
       "text": [
        "Optimization terminated successfully.\n",
        "         Current function value: 0.026767\n",
        "         Iterations: 6\n",
        "         Function evaluations: 14\n"
       ]
      },
      {
       "javascript": [
        "$('div#8daecc03-c480-48d0-8c62-6a6407ca02bc').width('31.58%')"
       ],
       "metadata": {},
       "output_type": "display_data",
       "text": [
        "<IPython.core.display.Javascript at 0x7f8b78505cd0>"
       ]
      },
      {
       "output_type": "stream",
       "stream": "stdout",
       "text": [
        "----------------------------------------------------------------------------------------------------\n"
       ]
      },
      {
       "javascript": [
        "$('div#8daecc03-c480-48d0-8c62-6a6407ca02bc').width('31.93%')"
       ],
       "metadata": {},
       "output_type": "display_data",
       "text": [
        "<IPython.core.display.Javascript at 0x7f8b7828ecd0>"
       ]
      },
      {
       "output_type": "stream",
       "stream": "stdout",
       "text": [
        "Optimization terminated successfully.\n",
        "         Current function value: 0.019869\n",
        "         Iterations: 7\n",
        "         Function evaluations: 15\n"
       ]
      },
      {
       "javascript": [
        "$('div#8daecc03-c480-48d0-8c62-6a6407ca02bc').width('32.28%')"
       ],
       "metadata": {},
       "output_type": "display_data",
       "text": [
        "<IPython.core.display.Javascript at 0x7f8b78398850>"
       ]
      },
      {
       "output_type": "stream",
       "stream": "stdout",
       "text": [
        "Optimization terminated successfully.\n",
        "         Current function value: 0.002463\n",
        "         Iterations: 6\n",
        "         Function evaluations: 13\n"
       ]
      },
      {
       "javascript": [
        "$('div#8daecc03-c480-48d0-8c62-6a6407ca02bc').width('32.63%')"
       ],
       "metadata": {},
       "output_type": "display_data",
       "text": [
        "<IPython.core.display.Javascript at 0x7f8b78406f90>"
       ]
      },
      {
       "output_type": "stream",
       "stream": "stdout",
       "text": [
        "Optimization terminated successfully.\n",
        "         Current function value: 0.010427\n",
        "         Iterations: 5\n",
        "         Function evaluations: 11\n"
       ]
      },
      {
       "javascript": [
        "$('div#8daecc03-c480-48d0-8c62-6a6407ca02bc').width('32.98%')"
       ],
       "metadata": {},
       "output_type": "display_data",
       "text": [
        "<IPython.core.display.Javascript at 0x7f8b7840d6d0>"
       ]
      },
      {
       "output_type": "stream",
       "stream": "stdout",
       "text": [
        "Optimization terminated successfully.\n",
        "         Current function value: 0.008512\n",
        "         Iterations: 5\n",
        "         Function evaluations: 11\n"
       ]
      },
      {
       "javascript": [
        "$('div#8daecc03-c480-48d0-8c62-6a6407ca02bc').width('33.33%')"
       ],
       "metadata": {},
       "output_type": "display_data",
       "text": [
        "<IPython.core.display.Javascript at 0x7f8b784e2c50>"
       ]
      },
      {
       "output_type": "stream",
       "stream": "stdout",
       "text": [
        "Optimization terminated successfully.\n",
        "         Current function value: 0.011887\n",
        "         Iterations: 5\n",
        "         Function evaluations: 11\n"
       ]
      },
      {
       "javascript": [
        "$('div#8daecc03-c480-48d0-8c62-6a6407ca02bc').width('33.68%')"
       ],
       "metadata": {},
       "output_type": "display_data",
       "text": [
        "<IPython.core.display.Javascript at 0x7f8b78580850>"
       ]
      },
      {
       "output_type": "stream",
       "stream": "stdout",
       "text": [
        "----------------------------------------------------------------------------------------------------\n"
       ]
      },
      {
       "javascript": [
        "$('div#8daecc03-c480-48d0-8c62-6a6407ca02bc').width('34.04%')"
       ],
       "metadata": {},
       "output_type": "display_data",
       "text": [
        "<IPython.core.display.Javascript at 0x7f8b7864e890>"
       ]
      },
      {
       "output_type": "stream",
       "stream": "stdout",
       "text": [
        "Optimization terminated successfully.\n",
        "         Current function value: 0.001921\n",
        "         Iterations: 8\n",
        "         Function evaluations: 17\n"
       ]
      },
      {
       "javascript": [
        "$('div#8daecc03-c480-48d0-8c62-6a6407ca02bc').width('34.39%')"
       ],
       "metadata": {},
       "output_type": "display_data",
       "text": [
        "<IPython.core.display.Javascript at 0x7f8b782e7550>"
       ]
      },
      {
       "output_type": "stream",
       "stream": "stdout",
       "text": [
        "Optimization terminated successfully.\n",
        "         Current function value: 0.006426\n",
        "         Iterations: 7\n",
        "         Function evaluations: 15\n"
       ]
      },
      {
       "javascript": [
        "$('div#8daecc03-c480-48d0-8c62-6a6407ca02bc').width('34.74%')"
       ],
       "metadata": {},
       "output_type": "display_data",
       "text": [
        "<IPython.core.display.Javascript at 0x7f8b783d2490>"
       ]
      },
      {
       "output_type": "stream",
       "stream": "stdout",
       "text": [
        "Optimization terminated successfully.\n",
        "         Current function value: 0.026779\n",
        "         Iterations: 6\n",
        "         Function evaluations: 12\n"
       ]
      },
      {
       "javascript": [
        "$('div#8daecc03-c480-48d0-8c62-6a6407ca02bc').width('35.09%')"
       ],
       "metadata": {},
       "output_type": "display_data",
       "text": [
        "<IPython.core.display.Javascript at 0x7f8b783417d0>"
       ]
      },
      {
       "output_type": "stream",
       "stream": "stdout",
       "text": [
        "Optimization terminated successfully.\n",
        "         Current function value: 0.089276\n",
        "         Iterations: 5\n",
        "         Function evaluations: 10\n"
       ]
      },
      {
       "javascript": [
        "$('div#8daecc03-c480-48d0-8c62-6a6407ca02bc').width('35.44%')"
       ],
       "metadata": {},
       "output_type": "display_data",
       "text": [
        "<IPython.core.display.Javascript at 0x7f8b78572d90>"
       ]
      },
      {
       "output_type": "stream",
       "stream": "stdout",
       "text": [
        "Optimization terminated successfully.\n",
        "         Current function value: 0.066710\n",
        "         Iterations: 6\n",
        "         Function evaluations: 14\n"
       ]
      },
      {
       "javascript": [
        "$('div#8daecc03-c480-48d0-8c62-6a6407ca02bc').width('35.79%')"
       ],
       "metadata": {},
       "output_type": "display_data",
       "text": [
        "<IPython.core.display.Javascript at 0x7f8b7865b850>"
       ]
      },
      {
       "output_type": "stream",
       "stream": "stdout",
       "text": [
        "----------------------------------------------------------------------------------------------------\n"
       ]
      },
      {
       "javascript": [
        "$('div#8daecc03-c480-48d0-8c62-6a6407ca02bc').width('36.14%')"
       ],
       "metadata": {},
       "output_type": "display_data",
       "text": [
        "<IPython.core.display.Javascript at 0x7f8b784a8650>"
       ]
      },
      {
       "output_type": "stream",
       "stream": "stdout",
       "text": [
        "Optimization terminated successfully.\n",
        "         Current function value: 0.001163\n",
        "         Iterations: 7\n",
        "         Function evaluations: 15\n"
       ]
      },
      {
       "javascript": [
        "$('div#8daecc03-c480-48d0-8c62-6a6407ca02bc').width('36.49%')"
       ],
       "metadata": {},
       "output_type": "display_data",
       "text": [
        "<IPython.core.display.Javascript at 0x7f8b7850d350>"
       ]
      },
      {
       "output_type": "stream",
       "stream": "stdout",
       "text": [
        "Optimization terminated successfully.\n",
        "         Current function value: 0.005424\n",
        "         Iterations: 5\n",
        "         Function evaluations: 11\n"
       ]
      },
      {
       "javascript": [
        "$('div#8daecc03-c480-48d0-8c62-6a6407ca02bc').width('36.84%')"
       ],
       "metadata": {},
       "output_type": "display_data",
       "text": [
        "<IPython.core.display.Javascript at 0x7f8b784cff10>"
       ]
      },
      {
       "output_type": "stream",
       "stream": "stdout",
       "text": [
        "Optimization terminated successfully.\n",
        "         Current function value: 0.028991\n",
        "         Iterations: 7\n",
        "         Function evaluations: 15\n"
       ]
      },
      {
       "javascript": [
        "$('div#8daecc03-c480-48d0-8c62-6a6407ca02bc').width('37.19%')"
       ],
       "metadata": {},
       "output_type": "display_data",
       "text": [
        "<IPython.core.display.Javascript at 0x7f8b784e2810>"
       ]
      },
      {
       "output_type": "stream",
       "stream": "stdout",
       "text": [
        "Optimization terminated successfully.\n",
        "         Current function value: 0.000403\n",
        "         Iterations: 5\n",
        "         Function evaluations: 10\n"
       ]
      },
      {
       "javascript": [
        "$('div#8daecc03-c480-48d0-8c62-6a6407ca02bc').width('37.54%')"
       ],
       "metadata": {},
       "output_type": "display_data",
       "text": [
        "<IPython.core.display.Javascript at 0x7f8b785058d0>"
       ]
      },
      {
       "output_type": "stream",
       "stream": "stdout",
       "text": [
        "Optimization terminated successfully.\n",
        "         Current function value: 0.000111\n",
        "         Iterations: 5\n",
        "         Function evaluations: 10\n"
       ]
      },
      {
       "javascript": [
        "$('div#8daecc03-c480-48d0-8c62-6a6407ca02bc').width('37.89%')"
       ],
       "metadata": {},
       "output_type": "display_data",
       "text": [
        "<IPython.core.display.Javascript at 0x7f8b782fc190>"
       ]
      },
      {
       "output_type": "stream",
       "stream": "stdout",
       "text": [
        "----------------------------------------------------------------------------------------------------\n"
       ]
      },
      {
       "javascript": [
        "$('div#8daecc03-c480-48d0-8c62-6a6407ca02bc').width('38.25%')"
       ],
       "metadata": {},
       "output_type": "display_data",
       "text": [
        "<IPython.core.display.Javascript at 0x7f8b784e2690>"
       ]
      },
      {
       "output_type": "stream",
       "stream": "stdout",
       "text": [
        "Optimization terminated successfully.\n",
        "         Current function value: 0.003565\n",
        "         Iterations: 7\n",
        "         Function evaluations: 15\n"
       ]
      },
      {
       "javascript": [
        "$('div#8daecc03-c480-48d0-8c62-6a6407ca02bc').width('38.60%')"
       ],
       "metadata": {},
       "output_type": "display_data",
       "text": [
        "<IPython.core.display.Javascript at 0x7f8b7837eb90>"
       ]
      },
      {
       "output_type": "stream",
       "stream": "stdout",
       "text": [
        "Optimization terminated successfully.\n",
        "         Current function value: 0.020645\n",
        "         Iterations: 6\n",
        "         Function evaluations: 13\n"
       ]
      },
      {
       "javascript": [
        "$('div#8daecc03-c480-48d0-8c62-6a6407ca02bc').width('38.95%')"
       ],
       "metadata": {},
       "output_type": "display_data",
       "text": [
        "<IPython.core.display.Javascript at 0x7f8b7832e590>"
       ]
      },
      {
       "output_type": "stream",
       "stream": "stdout",
       "text": [
        "Optimization terminated successfully.\n",
        "         Current function value: 0.036313\n",
        "         Iterations: 6\n",
        "         Function evaluations: 12\n"
       ]
      },
      {
       "javascript": [
        "$('div#8daecc03-c480-48d0-8c62-6a6407ca02bc').width('39.30%')"
       ],
       "metadata": {},
       "output_type": "display_data",
       "text": [
        "<IPython.core.display.Javascript at 0x7f8b784b62d0>"
       ]
      },
      {
       "output_type": "stream",
       "stream": "stdout",
       "text": [
        "Optimization terminated successfully.\n",
        "         Current function value: 0.030263\n",
        "         Iterations: 6\n",
        "         Function evaluations: 13\n"
       ]
      },
      {
       "javascript": [
        "$('div#8daecc03-c480-48d0-8c62-6a6407ca02bc').width('39.65%')"
       ],
       "metadata": {},
       "output_type": "display_data",
       "text": [
        "<IPython.core.display.Javascript at 0x7f8b784c0e90>"
       ]
      },
      {
       "output_type": "stream",
       "stream": "stdout",
       "text": [
        "Optimization terminated successfully.\n",
        "         Current function value: 0.005683\n",
        "         Iterations: 6\n",
        "         Function evaluations: 14\n"
       ]
      },
      {
       "javascript": [
        "$('div#8daecc03-c480-48d0-8c62-6a6407ca02bc').width('40.00%')"
       ],
       "metadata": {},
       "output_type": "display_data",
       "text": [
        "<IPython.core.display.Javascript at 0x7f8b78333950>"
       ]
      },
      {
       "output_type": "stream",
       "stream": "stdout",
       "text": [
        "----------------------------------------------------------------------------------------------------\n"
       ]
      },
      {
       "javascript": [
        "$('div#8daecc03-c480-48d0-8c62-6a6407ca02bc').width('40.35%')"
       ],
       "metadata": {},
       "output_type": "display_data",
       "text": [
        "<IPython.core.display.Javascript at 0x7f8b785050d0>"
       ]
      },
      {
       "output_type": "stream",
       "stream": "stdout",
       "text": [
        "Optimization terminated successfully.\n",
        "         Current function value: 0.001009\n",
        "         Iterations: 7\n",
        "         Function evaluations: 17\n"
       ]
      },
      {
       "javascript": [
        "$('div#8daecc03-c480-48d0-8c62-6a6407ca02bc').width('40.70%')"
       ],
       "metadata": {},
       "output_type": "display_data",
       "text": [
        "<IPython.core.display.Javascript at 0x7f8b7850dc10>"
       ]
      },
      {
       "output_type": "stream",
       "stream": "stdout",
       "text": [
        "Optimization terminated successfully.\n",
        "         Current function value: 0.000080\n",
        "         Iterations: 7\n",
        "         Function evaluations: 15\n"
       ]
      },
      {
       "javascript": [
        "$('div#8daecc03-c480-48d0-8c62-6a6407ca02bc').width('41.05%')"
       ],
       "metadata": {},
       "output_type": "display_data",
       "text": [
        "<IPython.core.display.Javascript at 0x7f8b7837ec50>"
       ]
      },
      {
       "output_type": "stream",
       "stream": "stdout",
       "text": [
        "Optimization terminated successfully.\n",
        "         Current function value: 0.001224\n",
        "         Iterations: 6\n",
        "         Function evaluations: 12\n"
       ]
      },
      {
       "javascript": [
        "$('div#8daecc03-c480-48d0-8c62-6a6407ca02bc').width('41.40%')"
       ],
       "metadata": {},
       "output_type": "display_data",
       "text": [
        "<IPython.core.display.Javascript at 0x7f8b7837e150>"
       ]
      },
      {
       "output_type": "stream",
       "stream": "stdout",
       "text": [
        "Optimization terminated successfully.\n",
        "         Current function value: 0.011349\n",
        "         Iterations: 5\n",
        "         Function evaluations: 11\n"
       ]
      },
      {
       "javascript": [
        "$('div#8daecc03-c480-48d0-8c62-6a6407ca02bc').width('41.75%')"
       ],
       "metadata": {},
       "output_type": "display_data",
       "text": [
        "<IPython.core.display.Javascript at 0x7f8b78353ed0>"
       ]
      },
      {
       "output_type": "stream",
       "stream": "stdout",
       "text": [
        "Optimization terminated successfully.\n",
        "         Current function value: 0.023959\n",
        "         Iterations: 5\n",
        "         Function evaluations: 12\n"
       ]
      },
      {
       "javascript": [
        "$('div#8daecc03-c480-48d0-8c62-6a6407ca02bc').width('42.11%')"
       ],
       "metadata": {},
       "output_type": "display_data",
       "text": [
        "<IPython.core.display.Javascript at 0x7f8b78572350>"
       ]
      },
      {
       "output_type": "stream",
       "stream": "stdout",
       "text": [
        "----------------------------------------------------------------------------------------------------\n"
       ]
      },
      {
       "javascript": [
        "$('div#8daecc03-c480-48d0-8c62-6a6407ca02bc').width('42.46%')"
       ],
       "metadata": {},
       "output_type": "display_data",
       "text": [
        "<IPython.core.display.Javascript at 0x7f8b78263490>"
       ]
      },
      {
       "output_type": "stream",
       "stream": "stdout",
       "text": [
        "Optimization terminated successfully.\n",
        "         Current function value: 0.000704\n",
        "         Iterations: 7\n",
        "         Function evaluations: 15\n"
       ]
      },
      {
       "javascript": [
        "$('div#8daecc03-c480-48d0-8c62-6a6407ca02bc').width('42.81%')"
       ],
       "metadata": {},
       "output_type": "display_data",
       "text": [
        "<IPython.core.display.Javascript at 0x7f8b78572710>"
       ]
      },
      {
       "output_type": "stream",
       "stream": "stdout",
       "text": [
        "Optimization terminated successfully.\n",
        "         Current function value: 0.001265\n",
        "         Iterations: 5\n",
        "         Function evaluations: 11\n"
       ]
      },
      {
       "javascript": [
        "$('div#8daecc03-c480-48d0-8c62-6a6407ca02bc').width('43.16%')"
       ],
       "metadata": {},
       "output_type": "display_data",
       "text": [
        "<IPython.core.display.Javascript at 0x7f8b7841d750>"
       ]
      },
      {
       "output_type": "stream",
       "stream": "stdout",
       "text": [
        "Optimization terminated successfully.\n",
        "         Current function value: 0.002578\n",
        "         Iterations: 5\n",
        "         Function evaluations: 11\n"
       ]
      },
      {
       "javascript": [
        "$('div#8daecc03-c480-48d0-8c62-6a6407ca02bc').width('43.51%')"
       ],
       "metadata": {},
       "output_type": "display_data",
       "text": [
        "<IPython.core.display.Javascript at 0x7f8b78398450>"
       ]
      },
      {
       "output_type": "stream",
       "stream": "stdout",
       "text": [
        "Optimization terminated successfully.\n",
        "         Current function value: 0.000452\n",
        "         Iterations: 5\n",
        "         Function evaluations: 10\n"
       ]
      },
      {
       "javascript": [
        "$('div#8daecc03-c480-48d0-8c62-6a6407ca02bc').width('43.86%')"
       ],
       "metadata": {},
       "output_type": "display_data",
       "text": [
        "<IPython.core.display.Javascript at 0x7f8b7837e650>"
       ]
      },
      {
       "output_type": "stream",
       "stream": "stdout",
       "text": [
        "Optimization terminated successfully.\n",
        "         Current function value: 0.000256\n",
        "         Iterations: 5\n",
        "         Function evaluations: 11\n"
       ]
      },
      {
       "javascript": [
        "$('div#8daecc03-c480-48d0-8c62-6a6407ca02bc').width('44.21%')"
       ],
       "metadata": {},
       "output_type": "display_data",
       "text": [
        "<IPython.core.display.Javascript at 0x7f8b7840dd90>"
       ]
      },
      {
       "output_type": "stream",
       "stream": "stdout",
       "text": [
        "----------------------------------------------------------------------------------------------------\n"
       ]
      },
      {
       "javascript": [
        "$('div#8daecc03-c480-48d0-8c62-6a6407ca02bc').width('44.56%')"
       ],
       "metadata": {},
       "output_type": "display_data",
       "text": [
        "<IPython.core.display.Javascript at 0x7f8b78406610>"
       ]
      },
      {
       "output_type": "stream",
       "stream": "stdout",
       "text": [
        "Optimization terminated successfully.\n",
        "         Current function value: 0.129212\n",
        "         Iterations: 9\n",
        "         Function evaluations: 20\n"
       ]
      },
      {
       "javascript": [
        "$('div#8daecc03-c480-48d0-8c62-6a6407ca02bc').width('44.91%')"
       ],
       "metadata": {},
       "output_type": "display_data",
       "text": [
        "<IPython.core.display.Javascript at 0x7f8b782f29d0>"
       ]
      },
      {
       "output_type": "stream",
       "stream": "stdout",
       "text": [
        "Optimization terminated successfully.\n",
        "         Current function value: 0.038746\n",
        "         Iterations: 8\n",
        "         Function evaluations: 19\n"
       ]
      },
      {
       "javascript": [
        "$('div#8daecc03-c480-48d0-8c62-6a6407ca02bc').width('45.26%')"
       ],
       "metadata": {},
       "output_type": "display_data",
       "text": [
        "<IPython.core.display.Javascript at 0x7f8b78640e90>"
       ]
      },
      {
       "output_type": "stream",
       "stream": "stdout",
       "text": [
        "Optimization terminated successfully.\n",
        "         Current function value: 0.019269\n",
        "         Iterations: 8\n",
        "         Function evaluations: 18\n"
       ]
      },
      {
       "javascript": [
        "$('div#8daecc03-c480-48d0-8c62-6a6407ca02bc').width('45.61%')"
       ],
       "metadata": {},
       "output_type": "display_data",
       "text": [
        "<IPython.core.display.Javascript at 0x7f8b7865b6d0>"
       ]
      },
      {
       "output_type": "stream",
       "stream": "stdout",
       "text": [
        "Optimization terminated successfully.\n",
        "         Current function value: 0.000116\n",
        "         Iterations: 6\n",
        "         Function evaluations: 13\n"
       ]
      },
      {
       "javascript": [
        "$('div#8daecc03-c480-48d0-8c62-6a6407ca02bc').width('45.96%')"
       ],
       "metadata": {},
       "output_type": "display_data",
       "text": [
        "<IPython.core.display.Javascript at 0x7f8b7841d510>"
       ]
      },
      {
       "output_type": "stream",
       "stream": "stdout",
       "text": [
        "Optimization terminated successfully.\n",
        "         Current function value: 0.000047\n",
        "         Iterations: 5\n",
        "         Function evaluations: 10\n"
       ]
      },
      {
       "javascript": [
        "$('div#8daecc03-c480-48d0-8c62-6a6407ca02bc').width('46.32%')"
       ],
       "metadata": {},
       "output_type": "display_data",
       "text": [
        "<IPython.core.display.Javascript at 0x7f8b784e2710>"
       ]
      },
      {
       "output_type": "stream",
       "stream": "stdout",
       "text": [
        "----------------------------------------------------------------------------------------------------\n"
       ]
      },
      {
       "javascript": [
        "$('div#8daecc03-c480-48d0-8c62-6a6407ca02bc').width('46.67%')"
       ],
       "metadata": {},
       "output_type": "display_data",
       "text": [
        "<IPython.core.display.Javascript at 0x7f8b78396410>"
       ]
      },
      {
       "output_type": "stream",
       "stream": "stdout",
       "text": [
        "Optimization terminated successfully.\n",
        "         Current function value: 0.004154\n",
        "         Iterations: 7\n",
        "         Function evaluations: 16\n"
       ]
      },
      {
       "javascript": [
        "$('div#8daecc03-c480-48d0-8c62-6a6407ca02bc').width('47.02%')"
       ],
       "metadata": {},
       "output_type": "display_data",
       "text": [
        "<IPython.core.display.Javascript at 0x7f8b78320150>"
       ]
      },
      {
       "output_type": "stream",
       "stream": "stdout",
       "text": [
        "Optimization terminated successfully.\n",
        "         Current function value: 0.003153\n",
        "         Iterations: 7\n",
        "         Function evaluations: 15\n"
       ]
      },
      {
       "javascript": [
        "$('div#8daecc03-c480-48d0-8c62-6a6407ca02bc').width('47.37%')"
       ],
       "metadata": {},
       "output_type": "display_data",
       "text": [
        "<IPython.core.display.Javascript at 0x7f8b784a8150>"
       ]
      },
      {
       "output_type": "stream",
       "stream": "stdout",
       "text": [
        "Optimization terminated successfully.\n",
        "         Current function value: 0.000208\n",
        "         Iterations: 6\n",
        "         Function evaluations: 14\n"
       ]
      },
      {
       "javascript": [
        "$('div#8daecc03-c480-48d0-8c62-6a6407ca02bc').width('47.72%')"
       ],
       "metadata": {},
       "output_type": "display_data",
       "text": [
        "<IPython.core.display.Javascript at 0x7f8b784cf550>"
       ]
      },
      {
       "output_type": "stream",
       "stream": "stdout",
       "text": [
        "Optimization terminated successfully.\n",
        "         Current function value: 0.000790\n",
        "         Iterations: 6\n",
        "         Function evaluations: 12\n"
       ]
      },
      {
       "javascript": [
        "$('div#8daecc03-c480-48d0-8c62-6a6407ca02bc').width('48.07%')"
       ],
       "metadata": {},
       "output_type": "display_data",
       "text": [
        "<IPython.core.display.Javascript at 0x7f8b784c0350>"
       ]
      },
      {
       "output_type": "stream",
       "stream": "stdout",
       "text": [
        "Optimization terminated successfully.\n",
        "         Current function value: 0.000415\n",
        "         Iterations: 6\n",
        "         Function evaluations: 13\n"
       ]
      },
      {
       "javascript": [
        "$('div#8daecc03-c480-48d0-8c62-6a6407ca02bc').width('48.42%')"
       ],
       "metadata": {},
       "output_type": "display_data",
       "text": [
        "<IPython.core.display.Javascript at 0x7f8b7830d510>"
       ]
      },
      {
       "output_type": "stream",
       "stream": "stdout",
       "text": [
        "----------------------------------------------------------------------------------------------------\n"
       ]
      },
      {
       "javascript": [
        "$('div#8daecc03-c480-48d0-8c62-6a6407ca02bc').width('48.77%')"
       ],
       "metadata": {},
       "output_type": "display_data",
       "text": [
        "<IPython.core.display.Javascript at 0x7f8b784007d0>"
       ]
      },
      {
       "output_type": "stream",
       "stream": "stdout",
       "text": [
        "Optimization terminated successfully.\n",
        "         Current function value: 0.003629\n",
        "         Iterations: 7\n",
        "         Function evaluations: 14\n"
       ]
      },
      {
       "javascript": [
        "$('div#8daecc03-c480-48d0-8c62-6a6407ca02bc').width('49.12%')"
       ],
       "metadata": {},
       "output_type": "display_data",
       "text": [
        "<IPython.core.display.Javascript at 0x7f8b784f0b50>"
       ]
      },
      {
       "output_type": "stream",
       "stream": "stdout",
       "text": [
        "Optimization terminated successfully.\n",
        "         Current function value: 0.002183\n",
        "         Iterations: 7\n",
        "         Function evaluations: 16\n"
       ]
      },
      {
       "javascript": [
        "$('div#8daecc03-c480-48d0-8c62-6a6407ca02bc').width('49.47%')"
       ],
       "metadata": {},
       "output_type": "display_data",
       "text": [
        "<IPython.core.display.Javascript at 0x7f8b784f0990>"
       ]
      },
      {
       "output_type": "stream",
       "stream": "stdout",
       "text": [
        "Optimization terminated successfully.\n",
        "         Current function value: 0.000062\n",
        "         Iterations: 7\n",
        "         Function evaluations: 14\n"
       ]
      },
      {
       "javascript": [
        "$('div#8daecc03-c480-48d0-8c62-6a6407ca02bc').width('49.82%')"
       ],
       "metadata": {},
       "output_type": "display_data",
       "text": [
        "<IPython.core.display.Javascript at 0x7f8b78505610>"
       ]
      },
      {
       "output_type": "stream",
       "stream": "stdout",
       "text": [
        "Optimization terminated successfully.\n",
        "         Current function value: 0.000019\n",
        "         Iterations: 5\n",
        "         Function evaluations: 11\n"
       ]
      },
      {
       "javascript": [
        "$('div#8daecc03-c480-48d0-8c62-6a6407ca02bc').width('50.18%')"
       ],
       "metadata": {},
       "output_type": "display_data",
       "text": [
        "<IPython.core.display.Javascript at 0x7f8b78505850>"
       ]
      },
      {
       "output_type": "stream",
       "stream": "stdout",
       "text": [
        "Optimization terminated successfully.\n",
        "         Current function value: 0.003476\n",
        "         Iterations: 7\n",
        "         Function evaluations: 15\n"
       ]
      },
      {
       "javascript": [
        "$('div#8daecc03-c480-48d0-8c62-6a6407ca02bc').width('50.53%')"
       ],
       "metadata": {},
       "output_type": "display_data",
       "text": [
        "<IPython.core.display.Javascript at 0x7f8b78542d10>"
       ]
      },
      {
       "output_type": "stream",
       "stream": "stdout",
       "text": [
        "----------------------------------------------------------------------------------------------------\n"
       ]
      },
      {
       "javascript": [
        "$('div#8daecc03-c480-48d0-8c62-6a6407ca02bc').width('50.88%')"
       ],
       "metadata": {},
       "output_type": "display_data",
       "text": [
        "<IPython.core.display.Javascript at 0x7f8b7840e310>"
       ]
      },
      {
       "output_type": "stream",
       "stream": "stdout",
       "text": [
        "Optimization terminated successfully.\n",
        "         Current function value: 0.000107\n",
        "         Iterations: 6\n",
        "         Function evaluations: 13\n"
       ]
      },
      {
       "javascript": [
        "$('div#8daecc03-c480-48d0-8c62-6a6407ca02bc').width('51.23%')"
       ],
       "metadata": {},
       "output_type": "display_data",
       "text": [
        "<IPython.core.display.Javascript at 0x7f8b7841dd50>"
       ]
      },
      {
       "output_type": "stream",
       "stream": "stdout",
       "text": [
        "Optimization terminated successfully.\n",
        "         Current function value: 0.001348\n",
        "         Iterations: 6\n",
        "         Function evaluations: 14\n"
       ]
      },
      {
       "javascript": [
        "$('div#8daecc03-c480-48d0-8c62-6a6407ca02bc').width('51.58%')"
       ],
       "metadata": {},
       "output_type": "display_data",
       "text": [
        "<IPython.core.display.Javascript at 0x7f8b784abd90>"
       ]
      },
      {
       "output_type": "stream",
       "stream": "stdout",
       "text": [
        "Optimization terminated successfully.\n",
        "         Current function value: 0.003735\n",
        "         Iterations: 6\n",
        "         Function evaluations: 12\n"
       ]
      },
      {
       "javascript": [
        "$('div#8daecc03-c480-48d0-8c62-6a6407ca02bc').width('51.93%')"
       ],
       "metadata": {},
       "output_type": "display_data",
       "text": [
        "<IPython.core.display.Javascript at 0x7f8b78300e90>"
       ]
      },
      {
       "output_type": "stream",
       "stream": "stdout",
       "text": [
        "Optimization terminated successfully.\n",
        "         Current function value: 0.005870\n",
        "         Iterations: 7\n",
        "         Function evaluations: 15\n"
       ]
      },
      {
       "javascript": [
        "$('div#8daecc03-c480-48d0-8c62-6a6407ca02bc').width('52.28%')"
       ],
       "metadata": {},
       "output_type": "display_data",
       "text": [
        "<IPython.core.display.Javascript at 0x7f8b7840ea90>"
       ]
      },
      {
       "output_type": "stream",
       "stream": "stdout",
       "text": [
        "Optimization terminated successfully.\n",
        "         Current function value: 0.003851\n",
        "         Iterations: 5\n",
        "         Function evaluations: 11\n"
       ]
      },
      {
       "javascript": [
        "$('div#8daecc03-c480-48d0-8c62-6a6407ca02bc').width('52.63%')"
       ],
       "metadata": {},
       "output_type": "display_data",
       "text": [
        "<IPython.core.display.Javascript at 0x7f8b78406d90>"
       ]
      },
      {
       "output_type": "stream",
       "stream": "stdout",
       "text": [
        "----------------------------------------------------------------------------------------------------\n"
       ]
      },
      {
       "javascript": [
        "$('div#8daecc03-c480-48d0-8c62-6a6407ca02bc').width('52.98%')"
       ],
       "metadata": {},
       "output_type": "display_data",
       "text": [
        "<IPython.core.display.Javascript at 0x7f8b7841d390>"
       ]
      },
      {
       "output_type": "stream",
       "stream": "stdout",
       "text": [
        "Optimization terminated successfully.\n",
        "         Current function value: 0.010381\n",
        "         Iterations: 8\n",
        "         Function evaluations: 19\n"
       ]
      },
      {
       "javascript": [
        "$('div#8daecc03-c480-48d0-8c62-6a6407ca02bc').width('53.33%')"
       ],
       "metadata": {},
       "output_type": "display_data",
       "text": [
        "<IPython.core.display.Javascript at 0x7f8b78575750>"
       ]
      },
      {
       "output_type": "stream",
       "stream": "stdout",
       "text": [
        "Optimization terminated successfully.\n",
        "         Current function value: 0.184867\n",
        "         Iterations: 6\n",
        "         Function evaluations: 13\n"
       ]
      },
      {
       "javascript": [
        "$('div#8daecc03-c480-48d0-8c62-6a6407ca02bc').width('53.68%')"
       ],
       "metadata": {},
       "output_type": "display_data",
       "text": [
        "<IPython.core.display.Javascript at 0x7f8b78575f90>"
       ]
      },
      {
       "output_type": "stream",
       "stream": "stdout",
       "text": [
        "Optimization terminated successfully.\n",
        "         Current function value: 0.296152\n",
        "         Iterations: 6\n",
        "         Function evaluations: 14\n"
       ]
      },
      {
       "javascript": [
        "$('div#8daecc03-c480-48d0-8c62-6a6407ca02bc').width('54.04%')"
       ],
       "metadata": {},
       "output_type": "display_data",
       "text": [
        "<IPython.core.display.Javascript at 0x7f8b784a4f90>"
       ]
      },
      {
       "output_type": "stream",
       "stream": "stdout",
       "text": [
        "Optimization terminated successfully.\n",
        "         Current function value: 0.273400\n",
        "         Iterations: 4\n",
        "         Function evaluations: 9\n"
       ]
      },
      {
       "javascript": [
        "$('div#8daecc03-c480-48d0-8c62-6a6407ca02bc').width('54.39%')"
       ],
       "metadata": {},
       "output_type": "display_data",
       "text": [
        "<IPython.core.display.Javascript at 0x7f8b783ba510>"
       ]
      },
      {
       "output_type": "stream",
       "stream": "stdout",
       "text": [
        "Optimization terminated successfully.\n",
        "         Current function value: 0.237146\n",
        "         Iterations: 4\n",
        "         Function evaluations: 10\n"
       ]
      },
      {
       "javascript": [
        "$('div#8daecc03-c480-48d0-8c62-6a6407ca02bc').width('54.74%')"
       ],
       "metadata": {},
       "output_type": "display_data",
       "text": [
        "<IPython.core.display.Javascript at 0x7f8b78487510>"
       ]
      },
      {
       "output_type": "stream",
       "stream": "stdout",
       "text": [
        "----------------------------------------------------------------------------------------------------\n"
       ]
      },
      {
       "javascript": [
        "$('div#8daecc03-c480-48d0-8c62-6a6407ca02bc').width('55.09%')"
       ],
       "metadata": {},
       "output_type": "display_data",
       "text": [
        "<IPython.core.display.Javascript at 0x7f8b78396b90>"
       ]
      },
      {
       "output_type": "stream",
       "stream": "stdout",
       "text": [
        "Optimization terminated successfully.\n",
        "         Current function value: 0.001603\n",
        "         Iterations: 7\n",
        "         Function evaluations: 14\n"
       ]
      },
      {
       "javascript": [
        "$('div#8daecc03-c480-48d0-8c62-6a6407ca02bc').width('55.44%')"
       ],
       "metadata": {},
       "output_type": "display_data",
       "text": [
        "<IPython.core.display.Javascript at 0x7f8b7859e050>"
       ]
      },
      {
       "output_type": "stream",
       "stream": "stdout",
       "text": [
        "Optimization terminated successfully.\n",
        "         Current function value: 0.000040\n",
        "         Iterations: 5\n",
        "         Function evaluations: 10\n"
       ]
      },
      {
       "javascript": [
        "$('div#8daecc03-c480-48d0-8c62-6a6407ca02bc').width('55.79%')"
       ],
       "metadata": {},
       "output_type": "display_data",
       "text": [
        "<IPython.core.display.Javascript at 0x7f8b78575f50>"
       ]
      },
      {
       "output_type": "stream",
       "stream": "stdout",
       "text": [
        "Optimization terminated successfully.\n",
        "         Current function value: 0.003118\n",
        "         Iterations: 5\n",
        "         Function evaluations: 10\n"
       ]
      },
      {
       "javascript": [
        "$('div#8daecc03-c480-48d0-8c62-6a6407ca02bc').width('56.14%')"
       ],
       "metadata": {},
       "output_type": "display_data",
       "text": [
        "<IPython.core.display.Javascript at 0x7f8b78617e50>"
       ]
      },
      {
       "output_type": "stream",
       "stream": "stdout",
       "text": [
        "Optimization terminated successfully.\n",
        "         Current function value: 0.011165\n",
        "         Iterations: 5\n",
        "         Function evaluations: 10\n"
       ]
      },
      {
       "javascript": [
        "$('div#8daecc03-c480-48d0-8c62-6a6407ca02bc').width('56.49%')"
       ],
       "metadata": {},
       "output_type": "display_data",
       "text": [
        "<IPython.core.display.Javascript at 0x7f8b784aba90>"
       ]
      },
      {
       "output_type": "stream",
       "stream": "stdout",
       "text": [
        "Optimization terminated successfully.\n",
        "         Current function value: 0.017282\n",
        "         Iterations: 5\n",
        "         Function evaluations: 10\n"
       ]
      },
      {
       "javascript": [
        "$('div#8daecc03-c480-48d0-8c62-6a6407ca02bc').width('56.84%')"
       ],
       "metadata": {},
       "output_type": "display_data",
       "text": [
        "<IPython.core.display.Javascript at 0x7f8b784f04d0>"
       ]
      },
      {
       "output_type": "stream",
       "stream": "stdout",
       "text": [
        "----------------------------------------------------------------------------------------------------\n"
       ]
      },
      {
       "javascript": [
        "$('div#8daecc03-c480-48d0-8c62-6a6407ca02bc').width('57.19%')"
       ],
       "metadata": {},
       "output_type": "display_data",
       "text": [
        "<IPython.core.display.Javascript at 0x7f8b78396910>"
       ]
      },
      {
       "output_type": "stream",
       "stream": "stdout",
       "text": [
        "Optimization terminated successfully.\n",
        "         Current function value: 0.001154\n",
        "         Iterations: 7\n",
        "         Function evaluations: 14\n"
       ]
      },
      {
       "javascript": [
        "$('div#8daecc03-c480-48d0-8c62-6a6407ca02bc').width('57.54%')"
       ],
       "metadata": {},
       "output_type": "display_data",
       "text": [
        "<IPython.core.display.Javascript at 0x7f8b783a3e10>"
       ]
      },
      {
       "output_type": "stream",
       "stream": "stdout",
       "text": [
        "Optimization terminated successfully.\n",
        "         Current function value: 0.005259\n",
        "         Iterations: 5\n",
        "         Function evaluations: 10\n"
       ]
      },
      {
       "javascript": [
        "$('div#8daecc03-c480-48d0-8c62-6a6407ca02bc').width('57.89%')"
       ],
       "metadata": {},
       "output_type": "display_data",
       "text": [
        "<IPython.core.display.Javascript at 0x7f8b78366590>"
       ]
      },
      {
       "output_type": "stream",
       "stream": "stdout",
       "text": [
        "Optimization terminated successfully.\n",
        "         Current function value: 0.021054\n",
        "         Iterations: 6\n",
        "         Function evaluations: 13\n"
       ]
      },
      {
       "javascript": [
        "$('div#8daecc03-c480-48d0-8c62-6a6407ca02bc').width('58.25%')"
       ],
       "metadata": {},
       "output_type": "display_data",
       "text": [
        "<IPython.core.display.Javascript at 0x7f8b7837ec90>"
       ]
      },
      {
       "output_type": "stream",
       "stream": "stdout",
       "text": [
        "Optimization terminated successfully.\n",
        "         Current function value: 0.034763\n",
        "         Iterations: 5\n",
        "         Function evaluations: 11\n"
       ]
      },
      {
       "javascript": [
        "$('div#8daecc03-c480-48d0-8c62-6a6407ca02bc').width('58.60%')"
       ],
       "metadata": {},
       "output_type": "display_data",
       "text": [
        "<IPython.core.display.Javascript at 0x7f8b78396510>"
       ]
      },
      {
       "output_type": "stream",
       "stream": "stdout",
       "text": [
        "Optimization terminated successfully.\n",
        "         Current function value: 0.027940\n",
        "         Iterations: 7\n",
        "         Function evaluations: 15\n"
       ]
      },
      {
       "javascript": [
        "$('div#8daecc03-c480-48d0-8c62-6a6407ca02bc').width('58.95%')"
       ],
       "metadata": {},
       "output_type": "display_data",
       "text": [
        "<IPython.core.display.Javascript at 0x7f8b78366a10>"
       ]
      },
      {
       "output_type": "stream",
       "stream": "stdout",
       "text": [
        "----------------------------------------------------------------------------------------------------\n"
       ]
      },
      {
       "javascript": [
        "$('div#8daecc03-c480-48d0-8c62-6a6407ca02bc').width('59.30%')"
       ],
       "metadata": {},
       "output_type": "display_data",
       "text": [
        "<IPython.core.display.Javascript at 0x7f8b786456d0>"
       ]
      },
      {
       "output_type": "stream",
       "stream": "stdout",
       "text": [
        "Optimization terminated successfully.\n",
        "         Current function value: 0.001562\n",
        "         Iterations: 9\n",
        "         Function evaluations: 23\n"
       ]
      },
      {
       "javascript": [
        "$('div#8daecc03-c480-48d0-8c62-6a6407ca02bc').width('59.65%')"
       ],
       "metadata": {},
       "output_type": "display_data",
       "text": [
        "<IPython.core.display.Javascript at 0x7f8b78505110>"
       ]
      },
      {
       "output_type": "stream",
       "stream": "stdout",
       "text": [
        "Optimization terminated successfully.\n",
        "         Current function value: 0.034280\n",
        "         Iterations: 6\n",
        "         Function evaluations: 14\n"
       ]
      },
      {
       "javascript": [
        "$('div#8daecc03-c480-48d0-8c62-6a6407ca02bc').width('60.00%')"
       ],
       "metadata": {},
       "output_type": "display_data",
       "text": [
        "<IPython.core.display.Javascript at 0x7f8b784cf850>"
       ]
      },
      {
       "output_type": "stream",
       "stream": "stdout",
       "text": [
        "Optimization terminated successfully.\n",
        "         Current function value: 0.026602\n",
        "         Iterations: 6\n",
        "         Function evaluations: 14\n"
       ]
      },
      {
       "javascript": [
        "$('div#8daecc03-c480-48d0-8c62-6a6407ca02bc').width('60.35%')"
       ],
       "metadata": {},
       "output_type": "display_data",
       "text": [
        "<IPython.core.display.Javascript at 0x7f8b784ab0d0>"
       ]
      },
      {
       "output_type": "stream",
       "stream": "stdout",
       "text": [
        "Optimization terminated successfully.\n",
        "         Current function value: 0.029617\n",
        "         Iterations: 5\n",
        "         Function evaluations: 10\n"
       ]
      },
      {
       "javascript": [
        "$('div#8daecc03-c480-48d0-8c62-6a6407ca02bc').width('60.70%')"
       ],
       "metadata": {},
       "output_type": "display_data",
       "text": [
        "<IPython.core.display.Javascript at 0x7f8b784cfd10>"
       ]
      },
      {
       "output_type": "stream",
       "stream": "stdout",
       "text": [
        "Optimization terminated successfully.\n",
        "         Current function value: 0.035014\n",
        "         Iterations: 7\n",
        "         Function evaluations: 16\n"
       ]
      },
      {
       "javascript": [
        "$('div#8daecc03-c480-48d0-8c62-6a6407ca02bc').width('61.05%')"
       ],
       "metadata": {},
       "output_type": "display_data",
       "text": [
        "<IPython.core.display.Javascript at 0x7f8b78572090>"
       ]
      },
      {
       "output_type": "stream",
       "stream": "stdout",
       "text": [
        "----------------------------------------------------------------------------------------------------\n"
       ]
      },
      {
       "javascript": [
        "$('div#8daecc03-c480-48d0-8c62-6a6407ca02bc').width('61.40%')"
       ],
       "metadata": {},
       "output_type": "display_data",
       "text": [
        "<IPython.core.display.Javascript at 0x7f8b784ab850>"
       ]
      },
      {
       "output_type": "stream",
       "stream": "stdout",
       "text": [
        "Optimization terminated successfully.\n",
        "         Current function value: 0.000924\n",
        "         Iterations: 8\n",
        "         Function evaluations: 17\n"
       ]
      },
      {
       "javascript": [
        "$('div#8daecc03-c480-48d0-8c62-6a6407ca02bc').width('61.75%')"
       ],
       "metadata": {},
       "output_type": "display_data",
       "text": [
        "<IPython.core.display.Javascript at 0x7f8b784b65d0>"
       ]
      },
      {
       "output_type": "stream",
       "stream": "stdout",
       "text": [
        "Optimization terminated successfully.\n",
        "         Current function value: 0.000030\n",
        "         Iterations: 6\n",
        "         Function evaluations: 12\n"
       ]
      },
      {
       "javascript": [
        "$('div#8daecc03-c480-48d0-8c62-6a6407ca02bc').width('62.11%')"
       ],
       "metadata": {},
       "output_type": "display_data",
       "text": [
        "<IPython.core.display.Javascript at 0x7f8b783a6e90>"
       ]
      },
      {
       "output_type": "stream",
       "stream": "stdout",
       "text": [
        "Optimization terminated successfully.\n",
        "         Current function value: 0.001437\n",
        "         Iterations: 6\n",
        "         Function evaluations: 12\n"
       ]
      },
      {
       "javascript": [
        "$('div#8daecc03-c480-48d0-8c62-6a6407ca02bc').width('62.46%')"
       ],
       "metadata": {},
       "output_type": "display_data",
       "text": [
        "<IPython.core.display.Javascript at 0x7f8b78263890>"
       ]
      },
      {
       "output_type": "stream",
       "stream": "stdout",
       "text": [
        "Optimization terminated successfully.\n",
        "         Current function value: 0.023943\n",
        "         Iterations: 5\n",
        "         Function evaluations: 11\n"
       ]
      },
      {
       "javascript": [
        "$('div#8daecc03-c480-48d0-8c62-6a6407ca02bc').width('62.81%')"
       ],
       "metadata": {},
       "output_type": "display_data",
       "text": [
        "<IPython.core.display.Javascript at 0x7f8b78575ad0>"
       ]
      },
      {
       "output_type": "stream",
       "stream": "stdout",
       "text": [
        "Optimization terminated successfully.\n",
        "         Current function value: 0.026118\n",
        "         Iterations: 5\n",
        "         Function evaluations: 11\n"
       ]
      },
      {
       "javascript": [
        "$('div#8daecc03-c480-48d0-8c62-6a6407ca02bc').width('63.16%')"
       ],
       "metadata": {},
       "output_type": "display_data",
       "text": [
        "<IPython.core.display.Javascript at 0x7f8b784a83d0>"
       ]
      },
      {
       "output_type": "stream",
       "stream": "stdout",
       "text": [
        "----------------------------------------------------------------------------------------------------\n"
       ]
      },
      {
       "javascript": [
        "$('div#8daecc03-c480-48d0-8c62-6a6407ca02bc').width('63.51%')"
       ],
       "metadata": {},
       "output_type": "display_data",
       "text": [
        "<IPython.core.display.Javascript at 0x7f8b78575410>"
       ]
      },
      {
       "output_type": "stream",
       "stream": "stdout",
       "text": [
        "Optimization terminated successfully.\n",
        "         Current function value: 0.000832\n",
        "         Iterations: 7\n",
        "         Function evaluations: 15\n"
       ]
      },
      {
       "javascript": [
        "$('div#8daecc03-c480-48d0-8c62-6a6407ca02bc').width('63.86%')"
       ],
       "metadata": {},
       "output_type": "display_data",
       "text": [
        "<IPython.core.display.Javascript at 0x7f8b7837e8d0>"
       ]
      },
      {
       "output_type": "stream",
       "stream": "stdout",
       "text": [
        "Optimization terminated successfully.\n",
        "         Current function value: 0.000890\n",
        "         Iterations: 7\n",
        "         Function evaluations: 15\n"
       ]
      },
      {
       "javascript": [
        "$('div#8daecc03-c480-48d0-8c62-6a6407ca02bc').width('64.21%')"
       ],
       "metadata": {},
       "output_type": "display_data",
       "text": [
        "<IPython.core.display.Javascript at 0x7f8b78398750>"
       ]
      },
      {
       "output_type": "stream",
       "stream": "stdout",
       "text": [
        "Optimization terminated successfully.\n",
        "         Current function value: 0.009137\n",
        "         Iterations: 6\n",
        "         Function evaluations: 13\n"
       ]
      },
      {
       "javascript": [
        "$('div#8daecc03-c480-48d0-8c62-6a6407ca02bc').width('64.56%')"
       ],
       "metadata": {},
       "output_type": "display_data",
       "text": [
        "<IPython.core.display.Javascript at 0x7f8b7835cad0>"
       ]
      },
      {
       "output_type": "stream",
       "stream": "stdout",
       "text": [
        "Optimization terminated successfully.\n",
        "         Current function value: 0.029855\n",
        "         Iterations: 5\n",
        "         Function evaluations: 11\n"
       ]
      },
      {
       "javascript": [
        "$('div#8daecc03-c480-48d0-8c62-6a6407ca02bc').width('64.91%')"
       ],
       "metadata": {},
       "output_type": "display_data",
       "text": [
        "<IPython.core.display.Javascript at 0x7f8b78359810>"
       ]
      },
      {
       "output_type": "stream",
       "stream": "stdout",
       "text": [
        "Optimization terminated successfully.\n",
        "         Current function value: 0.028247\n",
        "         Iterations: 5\n",
        "         Function evaluations: 12\n"
       ]
      },
      {
       "javascript": [
        "$('div#8daecc03-c480-48d0-8c62-6a6407ca02bc').width('65.26%')"
       ],
       "metadata": {},
       "output_type": "display_data",
       "text": [
        "<IPython.core.display.Javascript at 0x7f8b784879d0>"
       ]
      },
      {
       "output_type": "stream",
       "stream": "stdout",
       "text": [
        "----------------------------------------------------------------------------------------------------\n"
       ]
      },
      {
       "javascript": [
        "$('div#8daecc03-c480-48d0-8c62-6a6407ca02bc').width('65.61%')"
       ],
       "metadata": {},
       "output_type": "display_data",
       "text": [
        "<IPython.core.display.Javascript at 0x7f8b784e2450>"
       ]
      },
      {
       "output_type": "stream",
       "stream": "stdout",
       "text": [
        "Optimization terminated successfully.\n",
        "         Current function value: 0.003162\n",
        "         Iterations: 9\n",
        "         Function evaluations: 19\n"
       ]
      },
      {
       "javascript": [
        "$('div#8daecc03-c480-48d0-8c62-6a6407ca02bc').width('65.96%')"
       ],
       "metadata": {},
       "output_type": "display_data",
       "text": [
        "<IPython.core.display.Javascript at 0x7f8b78572110>"
       ]
      },
      {
       "output_type": "stream",
       "stream": "stdout",
       "text": [
        "Optimization terminated successfully.\n",
        "         Current function value: 0.000010\n",
        "         Iterations: 7\n",
        "         Function evaluations: 14\n"
       ]
      },
      {
       "javascript": [
        "$('div#8daecc03-c480-48d0-8c62-6a6407ca02bc').width('66.32%')"
       ],
       "metadata": {},
       "output_type": "display_data",
       "text": [
        "<IPython.core.display.Javascript at 0x7f8b78406350>"
       ]
      },
      {
       "output_type": "stream",
       "stream": "stdout",
       "text": [
        "Optimization terminated successfully.\n",
        "         Current function value: 0.003898\n",
        "         Iterations: 5\n",
        "         Function evaluations: 10\n"
       ]
      },
      {
       "javascript": [
        "$('div#8daecc03-c480-48d0-8c62-6a6407ca02bc').width('66.67%')"
       ],
       "metadata": {},
       "output_type": "display_data",
       "text": [
        "<IPython.core.display.Javascript at 0x7f8b78406e90>"
       ]
      },
      {
       "output_type": "stream",
       "stream": "stdout",
       "text": [
        "Optimization terminated successfully.\n",
        "         Current function value: 0.008147\n",
        "         Iterations: 5\n",
        "         Function evaluations: 11\n"
       ]
      },
      {
       "javascript": [
        "$('div#8daecc03-c480-48d0-8c62-6a6407ca02bc').width('67.02%')"
       ],
       "metadata": {},
       "output_type": "display_data",
       "text": [
        "<IPython.core.display.Javascript at 0x7f8b783c9950>"
       ]
      },
      {
       "output_type": "stream",
       "stream": "stdout",
       "text": [
        "Optimization terminated successfully.\n",
        "         Current function value: 0.004424\n",
        "         Iterations: 5\n",
        "         Function evaluations: 10\n"
       ]
      },
      {
       "javascript": [
        "$('div#8daecc03-c480-48d0-8c62-6a6407ca02bc').width('67.37%')"
       ],
       "metadata": {},
       "output_type": "display_data",
       "text": [
        "<IPython.core.display.Javascript at 0x7f8b7850de90>"
       ]
      },
      {
       "output_type": "stream",
       "stream": "stdout",
       "text": [
        "----------------------------------------------------------------------------------------------------\n"
       ]
      },
      {
       "javascript": [
        "$('div#8daecc03-c480-48d0-8c62-6a6407ca02bc').width('67.72%')"
       ],
       "metadata": {},
       "output_type": "display_data",
       "text": [
        "<IPython.core.display.Javascript at 0x7f8b784a8090>"
       ]
      },
      {
       "output_type": "stream",
       "stream": "stdout",
       "text": [
        "Optimization terminated successfully.\n",
        "         Current function value: 0.001085\n",
        "         Iterations: 7\n",
        "         Function evaluations: 15\n"
       ]
      },
      {
       "javascript": [
        "$('div#8daecc03-c480-48d0-8c62-6a6407ca02bc').width('68.07%')"
       ],
       "metadata": {},
       "output_type": "display_data",
       "text": [
        "<IPython.core.display.Javascript at 0x7f8b78396390>"
       ]
      },
      {
       "output_type": "stream",
       "stream": "stdout",
       "text": [
        "Optimization terminated successfully.\n",
        "         Current function value: 0.000697\n",
        "         Iterations: 5\n",
        "         Function evaluations: 10\n"
       ]
      },
      {
       "javascript": [
        "$('div#8daecc03-c480-48d0-8c62-6a6407ca02bc').width('68.42%')"
       ],
       "metadata": {},
       "output_type": "display_data",
       "text": [
        "<IPython.core.display.Javascript at 0x7f8b7859e4d0>"
       ]
      },
      {
       "output_type": "stream",
       "stream": "stdout",
       "text": [
        "Optimization terminated successfully.\n",
        "         Current function value: 0.013353\n",
        "         Iterations: 5\n",
        "         Function evaluations: 10\n"
       ]
      },
      {
       "javascript": [
        "$('div#8daecc03-c480-48d0-8c62-6a6407ca02bc').width('68.77%')"
       ],
       "metadata": {},
       "output_type": "display_data",
       "text": [
        "<IPython.core.display.Javascript at 0x7f8b7837ed90>"
       ]
      },
      {
       "output_type": "stream",
       "stream": "stdout",
       "text": [
        "Optimization terminated successfully.\n",
        "         Current function value: 0.023950\n",
        "         Iterations: 5\n",
        "         Function evaluations: 10\n"
       ]
      },
      {
       "javascript": [
        "$('div#8daecc03-c480-48d0-8c62-6a6407ca02bc').width('69.12%')"
       ],
       "metadata": {},
       "output_type": "display_data",
       "text": [
        "<IPython.core.display.Javascript at 0x7f8b78487d90>"
       ]
      },
      {
       "output_type": "stream",
       "stream": "stdout",
       "text": [
        "Optimization terminated successfully.\n",
        "         Current function value: 0.021229\n",
        "         Iterations: 5\n",
        "         Function evaluations: 11\n"
       ]
      },
      {
       "javascript": [
        "$('div#8daecc03-c480-48d0-8c62-6a6407ca02bc').width('69.47%')"
       ],
       "metadata": {},
       "output_type": "display_data",
       "text": [
        "<IPython.core.display.Javascript at 0x7f8b78580d50>"
       ]
      },
      {
       "output_type": "stream",
       "stream": "stdout",
       "text": [
        "----------------------------------------------------------------------------------------------------\n"
       ]
      },
      {
       "javascript": [
        "$('div#8daecc03-c480-48d0-8c62-6a6407ca02bc').width('69.82%')"
       ],
       "metadata": {},
       "output_type": "display_data",
       "text": [
        "<IPython.core.display.Javascript at 0x7f8b784b6950>"
       ]
      },
      {
       "output_type": "stream",
       "stream": "stdout",
       "text": [
        "Optimization terminated successfully.\n",
        "         Current function value: 0.000296\n",
        "         Iterations: 7\n",
        "         Function evaluations: 15\n"
       ]
      },
      {
       "javascript": [
        "$('div#8daecc03-c480-48d0-8c62-6a6407ca02bc').width('70.18%')"
       ],
       "metadata": {},
       "output_type": "display_data",
       "text": [
        "<IPython.core.display.Javascript at 0x7f8b78651d90>"
       ]
      },
      {
       "output_type": "stream",
       "stream": "stdout",
       "text": [
        "Optimization terminated successfully.\n",
        "         Current function value: 0.001689\n",
        "         Iterations: 6\n",
        "         Function evaluations: 13\n"
       ]
      },
      {
       "javascript": [
        "$('div#8daecc03-c480-48d0-8c62-6a6407ca02bc').width('70.53%')"
       ],
       "metadata": {},
       "output_type": "display_data",
       "text": [
        "<IPython.core.display.Javascript at 0x7f8b784ab390>"
       ]
      },
      {
       "output_type": "stream",
       "stream": "stdout",
       "text": [
        "Optimization terminated successfully.\n",
        "         Current function value: 0.009917\n",
        "         Iterations: 6\n",
        "         Function evaluations: 12\n"
       ]
      },
      {
       "javascript": [
        "$('div#8daecc03-c480-48d0-8c62-6a6407ca02bc').width('70.88%')"
       ],
       "metadata": {},
       "output_type": "display_data",
       "text": [
        "<IPython.core.display.Javascript at 0x7f8b783d2d90>"
       ]
      },
      {
       "output_type": "stream",
       "stream": "stdout",
       "text": [
        "Optimization terminated successfully.\n",
        "         Current function value: 0.025897\n",
        "         Iterations: 5\n",
        "         Function evaluations: 12\n"
       ]
      },
      {
       "javascript": [
        "$('div#8daecc03-c480-48d0-8c62-6a6407ca02bc').width('71.23%')"
       ],
       "metadata": {},
       "output_type": "display_data",
       "text": [
        "<IPython.core.display.Javascript at 0x7f8b78580a10>"
       ]
      },
      {
       "output_type": "stream",
       "stream": "stdout",
       "text": [
        "Optimization terminated successfully.\n",
        "         Current function value: 0.003953\n",
        "         Iterations: 5\n",
        "         Function evaluations: 11\n"
       ]
      },
      {
       "javascript": [
        "$('div#8daecc03-c480-48d0-8c62-6a6407ca02bc').width('71.58%')"
       ],
       "metadata": {},
       "output_type": "display_data",
       "text": [
        "<IPython.core.display.Javascript at 0x7f8b7841de50>"
       ]
      },
      {
       "output_type": "stream",
       "stream": "stdout",
       "text": [
        "----------------------------------------------------------------------------------------------------\n"
       ]
      },
      {
       "javascript": [
        "$('div#8daecc03-c480-48d0-8c62-6a6407ca02bc').width('71.93%')"
       ],
       "metadata": {},
       "output_type": "display_data",
       "text": [
        "<IPython.core.display.Javascript at 0x7f8b7840ebd0>"
       ]
      },
      {
       "output_type": "stream",
       "stream": "stdout",
       "text": [
        "Optimization terminated successfully.\n",
        "         Current function value: 0.000232\n",
        "         Iterations: 7\n",
        "         Function evaluations: 14\n"
       ]
      },
      {
       "javascript": [
        "$('div#8daecc03-c480-48d0-8c62-6a6407ca02bc').width('72.28%')"
       ],
       "metadata": {},
       "output_type": "display_data",
       "text": [
        "<IPython.core.display.Javascript at 0x7f8b7840ebd0>"
       ]
      },
      {
       "output_type": "stream",
       "stream": "stdout",
       "text": [
        "Optimization terminated successfully.\n",
        "         Current function value: 0.001602\n",
        "         Iterations: 5\n",
        "         Function evaluations: 10\n"
       ]
      },
      {
       "javascript": [
        "$('div#8daecc03-c480-48d0-8c62-6a6407ca02bc').width('72.63%')"
       ],
       "metadata": {},
       "output_type": "display_data",
       "text": [
        "<IPython.core.display.Javascript at 0x7f8b784cf410>"
       ]
      },
      {
       "output_type": "stream",
       "stream": "stdout",
       "text": [
        "Optimization terminated successfully.\n",
        "         Current function value: 0.001558\n",
        "         Iterations: 6\n",
        "         Function evaluations: 14\n"
       ]
      },
      {
       "javascript": [
        "$('div#8daecc03-c480-48d0-8c62-6a6407ca02bc').width('72.98%')"
       ],
       "metadata": {},
       "output_type": "display_data",
       "text": [
        "<IPython.core.display.Javascript at 0x7f8b783cfcd0>"
       ]
      },
      {
       "output_type": "stream",
       "stream": "stdout",
       "text": [
        "Optimization terminated successfully.\n",
        "         Current function value: 0.015028\n",
        "         Iterations: 6\n",
        "         Function evaluations: 14\n"
       ]
      },
      {
       "javascript": [
        "$('div#8daecc03-c480-48d0-8c62-6a6407ca02bc').width('73.33%')"
       ],
       "metadata": {},
       "output_type": "display_data",
       "text": [
        "<IPython.core.display.Javascript at 0x7f8b7827e710>"
       ]
      },
      {
       "output_type": "stream",
       "stream": "stdout",
       "text": [
        "Optimization terminated successfully.\n",
        "         Current function value: 0.002522\n",
        "         Iterations: 6\n",
        "         Function evaluations: 12\n"
       ]
      },
      {
       "javascript": [
        "$('div#8daecc03-c480-48d0-8c62-6a6407ca02bc').width('73.68%')"
       ],
       "metadata": {},
       "output_type": "display_data",
       "text": [
        "<IPython.core.display.Javascript at 0x7f8b783c9c10>"
       ]
      },
      {
       "output_type": "stream",
       "stream": "stdout",
       "text": [
        "----------------------------------------------------------------------------------------------------\n"
       ]
      },
      {
       "javascript": [
        "$('div#8daecc03-c480-48d0-8c62-6a6407ca02bc').width('74.04%')"
       ],
       "metadata": {},
       "output_type": "display_data",
       "text": [
        "<IPython.core.display.Javascript at 0x7f8b78400350>"
       ]
      },
      {
       "output_type": "stream",
       "stream": "stdout",
       "text": [
        "Optimization terminated successfully.\n",
        "         Current function value: 0.004784\n",
        "         Iterations: 8\n",
        "         Function evaluations: 17\n"
       ]
      },
      {
       "javascript": [
        "$('div#8daecc03-c480-48d0-8c62-6a6407ca02bc').width('74.39%')"
       ],
       "metadata": {},
       "output_type": "display_data",
       "text": [
        "<IPython.core.display.Javascript at 0x7f8b78505510>"
       ]
      },
      {
       "output_type": "stream",
       "stream": "stdout",
       "text": [
        "Optimization terminated successfully.\n",
        "         Current function value: 0.002304\n",
        "         Iterations: 7\n",
        "         Function evaluations: 15\n"
       ]
      },
      {
       "javascript": [
        "$('div#8daecc03-c480-48d0-8c62-6a6407ca02bc').width('74.74%')"
       ],
       "metadata": {},
       "output_type": "display_data",
       "text": [
        "<IPython.core.display.Javascript at 0x7f8b7840e3d0>"
       ]
      },
      {
       "output_type": "stream",
       "stream": "stdout",
       "text": [
        "Optimization terminated successfully.\n",
        "         Current function value: 0.000831\n",
        "         Iterations: 8\n",
        "         Function evaluations: 17\n"
       ]
      },
      {
       "javascript": [
        "$('div#8daecc03-c480-48d0-8c62-6a6407ca02bc').width('75.09%')"
       ],
       "metadata": {},
       "output_type": "display_data",
       "text": [
        "<IPython.core.display.Javascript at 0x7f8b78396250>"
       ]
      },
      {
       "output_type": "stream",
       "stream": "stdout",
       "text": [
        "Optimization terminated successfully.\n",
        "         Current function value: 0.001011\n",
        "         Iterations: 7\n",
        "         Function evaluations: 14\n"
       ]
      },
      {
       "javascript": [
        "$('div#8daecc03-c480-48d0-8c62-6a6407ca02bc').width('75.44%')"
       ],
       "metadata": {},
       "output_type": "display_data",
       "text": [
        "<IPython.core.display.Javascript at 0x7f8b78341dd0>"
       ]
      },
      {
       "output_type": "stream",
       "stream": "stdout",
       "text": [
        "Optimization terminated successfully.\n",
        "         Current function value: 0.004539\n",
        "         Iterations: 6\n",
        "         Function evaluations: 15\n"
       ]
      },
      {
       "javascript": [
        "$('div#8daecc03-c480-48d0-8c62-6a6407ca02bc').width('75.79%')"
       ],
       "metadata": {},
       "output_type": "display_data",
       "text": [
        "<IPython.core.display.Javascript at 0x7f8b7850d390>"
       ]
      },
      {
       "output_type": "stream",
       "stream": "stdout",
       "text": [
        "----------------------------------------------------------------------------------------------------\n"
       ]
      },
      {
       "javascript": [
        "$('div#8daecc03-c480-48d0-8c62-6a6407ca02bc').width('76.14%')"
       ],
       "metadata": {},
       "output_type": "display_data",
       "text": [
        "<IPython.core.display.Javascript at 0x7f8b78575c50>"
       ]
      },
      {
       "output_type": "stream",
       "stream": "stdout",
       "text": [
        "Optimization terminated successfully.\n",
        "         Current function value: 0.000148\n",
        "         Iterations: 7\n",
        "         Function evaluations: 15\n"
       ]
      },
      {
       "javascript": [
        "$('div#8daecc03-c480-48d0-8c62-6a6407ca02bc').width('76.49%')"
       ],
       "metadata": {},
       "output_type": "display_data",
       "text": [
        "<IPython.core.display.Javascript at 0x7f8b784a4b50>"
       ]
      },
      {
       "output_type": "stream",
       "stream": "stdout",
       "text": [
        "Optimization terminated successfully.\n",
        "         Current function value: 0.002033\n",
        "         Iterations: 7\n",
        "         Function evaluations: 15\n"
       ]
      },
      {
       "javascript": [
        "$('div#8daecc03-c480-48d0-8c62-6a6407ca02bc').width('76.84%')"
       ],
       "metadata": {},
       "output_type": "display_data",
       "text": [
        "<IPython.core.display.Javascript at 0x7f8b78366610>"
       ]
      },
      {
       "output_type": "stream",
       "stream": "stdout",
       "text": [
        "Optimization terminated successfully.\n",
        "         Current function value: 0.012439\n",
        "         Iterations: 6\n",
        "         Function evaluations: 12\n"
       ]
      },
      {
       "javascript": [
        "$('div#8daecc03-c480-48d0-8c62-6a6407ca02bc').width('77.19%')"
       ],
       "metadata": {},
       "output_type": "display_data",
       "text": [
        "<IPython.core.display.Javascript at 0x7f8b78400310>"
       ]
      },
      {
       "output_type": "stream",
       "stream": "stdout",
       "text": [
        "Optimization terminated successfully.\n",
        "         Current function value: 0.023151\n",
        "         Iterations: 5\n",
        "         Function evaluations: 11\n"
       ]
      },
      {
       "javascript": [
        "$('div#8daecc03-c480-48d0-8c62-6a6407ca02bc').width('77.54%')"
       ],
       "metadata": {},
       "output_type": "display_data",
       "text": [
        "<IPython.core.display.Javascript at 0x7f8b78651c90>"
       ]
      },
      {
       "output_type": "stream",
       "stream": "stdout",
       "text": [
        "Optimization terminated successfully.\n",
        "         Current function value: 0.010003\n",
        "         Iterations: 5\n",
        "         Function evaluations: 10\n"
       ]
      },
      {
       "javascript": [
        "$('div#8daecc03-c480-48d0-8c62-6a6407ca02bc').width('77.89%')"
       ],
       "metadata": {},
       "output_type": "display_data",
       "text": [
        "<IPython.core.display.Javascript at 0x7f8b78406d10>"
       ]
      },
      {
       "output_type": "stream",
       "stream": "stdout",
       "text": [
        "----------------------------------------------------------------------------------------------------\n"
       ]
      },
      {
       "javascript": [
        "$('div#8daecc03-c480-48d0-8c62-6a6407ca02bc').width('78.25%')"
       ],
       "metadata": {},
       "output_type": "display_data",
       "text": [
        "<IPython.core.display.Javascript at 0x7f8b78300b50>"
       ]
      },
      {
       "output_type": "stream",
       "stream": "stdout",
       "text": [
        "Optimization terminated successfully.\n",
        "         Current function value: 0.004014\n",
        "         Iterations: 7\n",
        "         Function evaluations: 15\n"
       ]
      },
      {
       "javascript": [
        "$('div#8daecc03-c480-48d0-8c62-6a6407ca02bc').width('78.60%')"
       ],
       "metadata": {},
       "output_type": "display_data",
       "text": [
        "<IPython.core.display.Javascript at 0x7f8b7840ee90>"
       ]
      },
      {
       "output_type": "stream",
       "stream": "stdout",
       "text": [
        "Optimization terminated successfully.\n",
        "         Current function value: 0.000431\n",
        "         Iterations: 6\n",
        "         Function evaluations: 12\n"
       ]
      },
      {
       "javascript": [
        "$('div#8daecc03-c480-48d0-8c62-6a6407ca02bc').width('78.95%')"
       ],
       "metadata": {},
       "output_type": "display_data",
       "text": [
        "<IPython.core.display.Javascript at 0x7f8b785753d0>"
       ]
      },
      {
       "output_type": "stream",
       "stream": "stdout",
       "text": [
        "Optimization terminated successfully.\n",
        "         Current function value: 0.026831\n",
        "         Iterations: 7\n",
        "         Function evaluations: 15\n"
       ]
      },
      {
       "javascript": [
        "$('div#8daecc03-c480-48d0-8c62-6a6407ca02bc').width('79.30%')"
       ],
       "metadata": {},
       "output_type": "display_data",
       "text": [
        "<IPython.core.display.Javascript at 0x7f8b78366210>"
       ]
      },
      {
       "output_type": "stream",
       "stream": "stdout",
       "text": [
        "Optimization terminated successfully.\n",
        "         Current function value: 0.008119\n",
        "         Iterations: 5\n",
        "         Function evaluations: 12\n"
       ]
      },
      {
       "javascript": [
        "$('div#8daecc03-c480-48d0-8c62-6a6407ca02bc').width('79.65%')"
       ],
       "metadata": {},
       "output_type": "display_data",
       "text": [
        "<IPython.core.display.Javascript at 0x7f8b783d5ed0>"
       ]
      },
      {
       "output_type": "stream",
       "stream": "stdout",
       "text": [
        "Optimization terminated successfully.\n",
        "         Current function value: 0.029046\n",
        "         Iterations: 5\n",
        "         Function evaluations: 12\n"
       ]
      },
      {
       "javascript": [
        "$('div#8daecc03-c480-48d0-8c62-6a6407ca02bc').width('80.00%')"
       ],
       "metadata": {},
       "output_type": "display_data",
       "text": [
        "<IPython.core.display.Javascript at 0x7f8b78572c90>"
       ]
      },
      {
       "output_type": "stream",
       "stream": "stdout",
       "text": [
        "----------------------------------------------------------------------------------------------------\n"
       ]
      },
      {
       "javascript": [
        "$('div#8daecc03-c480-48d0-8c62-6a6407ca02bc').width('80.35%')"
       ],
       "metadata": {},
       "output_type": "display_data",
       "text": [
        "<IPython.core.display.Javascript at 0x7f8b784cf7d0>"
       ]
      },
      {
       "output_type": "stream",
       "stream": "stdout",
       "text": [
        "Optimization terminated successfully.\n",
        "         Current function value: 0.011210\n",
        "         Iterations: 6\n",
        "         Function evaluations: 12\n"
       ]
      },
      {
       "javascript": [
        "$('div#8daecc03-c480-48d0-8c62-6a6407ca02bc').width('80.70%')"
       ],
       "metadata": {},
       "output_type": "display_data",
       "text": [
        "<IPython.core.display.Javascript at 0x7f8b78637190>"
       ]
      },
      {
       "output_type": "stream",
       "stream": "stdout",
       "text": [
        "Optimization terminated successfully.\n",
        "         Current function value: 0.009435\n",
        "         Iterations: 6\n",
        "         Function evaluations: 13\n"
       ]
      },
      {
       "javascript": [
        "$('div#8daecc03-c480-48d0-8c62-6a6407ca02bc').width('81.05%')"
       ],
       "metadata": {},
       "output_type": "display_data",
       "text": [
        "<IPython.core.display.Javascript at 0x7f8b7827dcd0>"
       ]
      },
      {
       "output_type": "stream",
       "stream": "stdout",
       "text": [
        "Optimization terminated successfully.\n",
        "         Current function value: 0.034405\n",
        "         Iterations: 5\n",
        "         Function evaluations: 10\n"
       ]
      },
      {
       "javascript": [
        "$('div#8daecc03-c480-48d0-8c62-6a6407ca02bc').width('81.40%')"
       ],
       "metadata": {},
       "output_type": "display_data",
       "text": [
        "<IPython.core.display.Javascript at 0x7f8b7850d550>"
       ]
      },
      {
       "output_type": "stream",
       "stream": "stdout",
       "text": [
        "Optimization terminated successfully.\n",
        "         Current function value: 0.012060\n",
        "         Iterations: 5\n",
        "         Function evaluations: 11\n"
       ]
      },
      {
       "javascript": [
        "$('div#8daecc03-c480-48d0-8c62-6a6407ca02bc').width('81.75%')"
       ],
       "metadata": {},
       "output_type": "display_data",
       "text": [
        "<IPython.core.display.Javascript at 0x7f8b784e2e50>"
       ]
      },
      {
       "output_type": "stream",
       "stream": "stdout",
       "text": [
        "Optimization terminated successfully.\n",
        "         Current function value: 0.003373\n",
        "         Iterations: 5\n",
        "         Function evaluations: 11\n"
       ]
      },
      {
       "javascript": [
        "$('div#8daecc03-c480-48d0-8c62-6a6407ca02bc').width('82.11%')"
       ],
       "metadata": {},
       "output_type": "display_data",
       "text": [
        "<IPython.core.display.Javascript at 0x7f8b784a8450>"
       ]
      },
      {
       "output_type": "stream",
       "stream": "stdout",
       "text": [
        "----------------------------------------------------------------------------------------------------\n"
       ]
      },
      {
       "javascript": [
        "$('div#8daecc03-c480-48d0-8c62-6a6407ca02bc').width('82.46%')"
       ],
       "metadata": {},
       "output_type": "display_data",
       "text": [
        "<IPython.core.display.Javascript at 0x7f8b783966d0>"
       ]
      },
      {
       "output_type": "stream",
       "stream": "stdout",
       "text": [
        "Optimization terminated successfully.\n",
        "         Current function value: 0.070046\n",
        "         Iterations: 7\n",
        "         Function evaluations: 17\n"
       ]
      },
      {
       "javascript": [
        "$('div#8daecc03-c480-48d0-8c62-6a6407ca02bc').width('82.81%')"
       ],
       "metadata": {},
       "output_type": "display_data",
       "text": [
        "<IPython.core.display.Javascript at 0x7f8b7837e4d0>"
       ]
      },
      {
       "output_type": "stream",
       "stream": "stdout",
       "text": [
        "Optimization terminated successfully.\n",
        "         Current function value: 0.106987\n",
        "         Iterations: 8\n",
        "         Function evaluations: 19\n"
       ]
      },
      {
       "javascript": [
        "$('div#8daecc03-c480-48d0-8c62-6a6407ca02bc').width('83.16%')"
       ],
       "metadata": {},
       "output_type": "display_data",
       "text": [
        "<IPython.core.display.Javascript at 0x7f8b785724d0>"
       ]
      },
      {
       "output_type": "stream",
       "stream": "stdout",
       "text": [
        "Optimization terminated successfully.\n",
        "         Current function value: 0.016696\n",
        "         Iterations: 6\n",
        "         Function evaluations: 15\n"
       ]
      },
      {
       "javascript": [
        "$('div#8daecc03-c480-48d0-8c62-6a6407ca02bc').width('83.51%')"
       ],
       "metadata": {},
       "output_type": "display_data",
       "text": [
        "<IPython.core.display.Javascript at 0x7f8b784f62d0>"
       ]
      },
      {
       "output_type": "stream",
       "stream": "stdout",
       "text": [
        "Optimization terminated successfully.\n",
        "         Current function value: 0.000065\n",
        "         Iterations: 7\n",
        "         Function evaluations: 18\n"
       ]
      },
      {
       "javascript": [
        "$('div#8daecc03-c480-48d0-8c62-6a6407ca02bc').width('83.86%')"
       ],
       "metadata": {},
       "output_type": "display_data",
       "text": [
        "<IPython.core.display.Javascript at 0x7f8b7841d390>"
       ]
      },
      {
       "output_type": "stream",
       "stream": "stdout",
       "text": [
        "Optimization terminated successfully.\n",
        "         Current function value: 0.000356\n",
        "         Iterations: 7\n",
        "         Function evaluations: 14\n"
       ]
      },
      {
       "javascript": [
        "$('div#8daecc03-c480-48d0-8c62-6a6407ca02bc').width('84.21%')"
       ],
       "metadata": {},
       "output_type": "display_data",
       "text": [
        "<IPython.core.display.Javascript at 0x7f8b78400810>"
       ]
      },
      {
       "output_type": "stream",
       "stream": "stdout",
       "text": [
        "----------------------------------------------------------------------------------------------------\n"
       ]
      },
      {
       "javascript": [
        "$('div#8daecc03-c480-48d0-8c62-6a6407ca02bc').width('84.56%')"
       ],
       "metadata": {},
       "output_type": "display_data",
       "text": [
        "<IPython.core.display.Javascript at 0x7f8b78398550>"
       ]
      },
      {
       "output_type": "stream",
       "stream": "stdout",
       "text": [
        "Warning: Maximum number of iterations has been exceeded.\n"
       ]
      },
      {
       "javascript": [
        "$('div#8daecc03-c480-48d0-8c62-6a6407ca02bc').width('84.91%')"
       ],
       "metadata": {},
       "output_type": "display_data",
       "text": [
        "<IPython.core.display.Javascript at 0x7f8b785052d0>"
       ]
      },
      {
       "output_type": "stream",
       "stream": "stdout",
       "text": [
        "Optimization terminated successfully.\n",
        "         Current function value: 0.003373\n",
        "         Iterations: 7\n",
        "         Function evaluations: 15\n"
       ]
      },
      {
       "javascript": [
        "$('div#8daecc03-c480-48d0-8c62-6a6407ca02bc').width('85.26%')"
       ],
       "metadata": {},
       "output_type": "display_data",
       "text": [
        "<IPython.core.display.Javascript at 0x7f8b78505a90>"
       ]
      },
      {
       "output_type": "stream",
       "stream": "stdout",
       "text": [
        "Optimization terminated successfully.\n",
        "         Current function value: 0.002313\n",
        "         Iterations: 6\n",
        "         Function evaluations: 13\n"
       ]
      },
      {
       "javascript": [
        "$('div#8daecc03-c480-48d0-8c62-6a6407ca02bc').width('85.61%')"
       ],
       "metadata": {},
       "output_type": "display_data",
       "text": [
        "<IPython.core.display.Javascript at 0x7f8b78400f10>"
       ]
      },
      {
       "output_type": "stream",
       "stream": "stdout",
       "text": [
        "Optimization terminated successfully.\n",
        "         Current function value: 0.009914\n",
        "         Iterations: 5\n",
        "         Function evaluations: 11\n"
       ]
      },
      {
       "javascript": [
        "$('div#8daecc03-c480-48d0-8c62-6a6407ca02bc').width('85.96%')"
       ],
       "metadata": {},
       "output_type": "display_data",
       "text": [
        "<IPython.core.display.Javascript at 0x7f8b7841d3d0>"
       ]
      },
      {
       "output_type": "stream",
       "stream": "stdout",
       "text": [
        "Optimization terminated successfully.\n",
        "         Current function value: 0.002588\n",
        "         Iterations: 6\n",
        "         Function evaluations: 13\n"
       ]
      },
      {
       "javascript": [
        "$('div#8daecc03-c480-48d0-8c62-6a6407ca02bc').width('86.32%')"
       ],
       "metadata": {},
       "output_type": "display_data",
       "text": [
        "<IPython.core.display.Javascript at 0x7f8b784c0850>"
       ]
      },
      {
       "output_type": "stream",
       "stream": "stdout",
       "text": [
        "----------------------------------------------------------------------------------------------------\n"
       ]
      },
      {
       "javascript": [
        "$('div#8daecc03-c480-48d0-8c62-6a6407ca02bc').width('86.67%')"
       ],
       "metadata": {},
       "output_type": "display_data",
       "text": [
        "<IPython.core.display.Javascript at 0x7f8b78333c10>"
       ]
      },
      {
       "output_type": "stream",
       "stream": "stdout",
       "text": [
        "Optimization terminated successfully.\n",
        "         Current function value: 0.000604\n",
        "         Iterations: 8\n",
        "         Function evaluations: 18\n"
       ]
      },
      {
       "javascript": [
        "$('div#8daecc03-c480-48d0-8c62-6a6407ca02bc').width('87.02%')"
       ],
       "metadata": {},
       "output_type": "display_data",
       "text": [
        "<IPython.core.display.Javascript at 0x7f8b784f61d0>"
       ]
      },
      {
       "output_type": "stream",
       "stream": "stdout",
       "text": [
        "Optimization terminated successfully.\n",
        "         Current function value: 0.000165\n",
        "         Iterations: 6\n",
        "         Function evaluations: 12\n"
       ]
      },
      {
       "javascript": [
        "$('div#8daecc03-c480-48d0-8c62-6a6407ca02bc').width('87.37%')"
       ],
       "metadata": {},
       "output_type": "display_data",
       "text": [
        "<IPython.core.display.Javascript at 0x7f8b786174d0>"
       ]
      },
      {
       "output_type": "stream",
       "stream": "stdout",
       "text": [
        "Optimization terminated successfully.\n",
        "         Current function value: 0.000701\n",
        "         Iterations: 6\n",
        "         Function evaluations: 12\n"
       ]
      },
      {
       "javascript": [
        "$('div#8daecc03-c480-48d0-8c62-6a6407ca02bc').width('87.72%')"
       ],
       "metadata": {},
       "output_type": "display_data",
       "text": [
        "<IPython.core.display.Javascript at 0x7f8b7859ead0>"
       ]
      },
      {
       "output_type": "stream",
       "stream": "stdout",
       "text": [
        "Optimization terminated successfully.\n",
        "         Current function value: 0.003533\n",
        "         Iterations: 5\n",
        "         Function evaluations: 11\n"
       ]
      },
      {
       "javascript": [
        "$('div#8daecc03-c480-48d0-8c62-6a6407ca02bc').width('88.07%')"
       ],
       "metadata": {},
       "output_type": "display_data",
       "text": [
        "<IPython.core.display.Javascript at 0x7f8b78572c10>"
       ]
      },
      {
       "output_type": "stream",
       "stream": "stdout",
       "text": [
        "Optimization terminated successfully.\n",
        "         Current function value: 0.003754\n",
        "         Iterations: 5\n",
        "         Function evaluations: 12\n"
       ]
      },
      {
       "javascript": [
        "$('div#8daecc03-c480-48d0-8c62-6a6407ca02bc').width('88.42%')"
       ],
       "metadata": {},
       "output_type": "display_data",
       "text": [
        "<IPython.core.display.Javascript at 0x7f8b78396850>"
       ]
      },
      {
       "output_type": "stream",
       "stream": "stdout",
       "text": [
        "----------------------------------------------------------------------------------------------------\n"
       ]
      },
      {
       "javascript": [
        "$('div#8daecc03-c480-48d0-8c62-6a6407ca02bc').width('88.77%')"
       ],
       "metadata": {},
       "output_type": "display_data",
       "text": [
        "<IPython.core.display.Javascript at 0x7f8b7834d310>"
       ]
      },
      {
       "output_type": "stream",
       "stream": "stdout",
       "text": [
        "Optimization terminated successfully.\n",
        "         Current function value: 0.004115\n",
        "         Iterations: 6\n",
        "         Function evaluations: 13\n"
       ]
      },
      {
       "javascript": [
        "$('div#8daecc03-c480-48d0-8c62-6a6407ca02bc').width('89.12%')"
       ],
       "metadata": {},
       "output_type": "display_data",
       "text": [
        "<IPython.core.display.Javascript at 0x7f8b7834dc90>"
       ]
      },
      {
       "output_type": "stream",
       "stream": "stdout",
       "text": [
        "Optimization terminated successfully.\n",
        "         Current function value: 0.011779\n",
        "         Iterations: 6\n",
        "         Function evaluations: 13\n"
       ]
      },
      {
       "javascript": [
        "$('div#8daecc03-c480-48d0-8c62-6a6407ca02bc').width('89.47%')"
       ],
       "metadata": {},
       "output_type": "display_data",
       "text": [
        "<IPython.core.display.Javascript at 0x7f8b7831f510>"
       ]
      },
      {
       "output_type": "stream",
       "stream": "stdout",
       "text": [
        "Optimization terminated successfully.\n",
        "         Current function value: 0.028452\n",
        "         Iterations: 6\n",
        "         Function evaluations: 13\n"
       ]
      },
      {
       "javascript": [
        "$('div#8daecc03-c480-48d0-8c62-6a6407ca02bc').width('89.82%')"
       ],
       "metadata": {},
       "output_type": "display_data",
       "text": [
        "<IPython.core.display.Javascript at 0x7f8b7865b3d0>"
       ]
      },
      {
       "output_type": "stream",
       "stream": "stdout",
       "text": [
        "Optimization terminated successfully.\n",
        "         Current function value: 0.016217\n",
        "         Iterations: 5\n",
        "         Function evaluations: 11\n"
       ]
      },
      {
       "javascript": [
        "$('div#8daecc03-c480-48d0-8c62-6a6407ca02bc').width('90.18%')"
       ],
       "metadata": {},
       "output_type": "display_data",
       "text": [
        "<IPython.core.display.Javascript at 0x7f8b786450d0>"
       ]
      },
      {
       "output_type": "stream",
       "stream": "stdout",
       "text": [
        "Optimization terminated successfully.\n",
        "         Current function value: 0.010845\n",
        "         Iterations: 5\n",
        "         Function evaluations: 12\n"
       ]
      },
      {
       "javascript": [
        "$('div#8daecc03-c480-48d0-8c62-6a6407ca02bc').width('90.53%')"
       ],
       "metadata": {},
       "output_type": "display_data",
       "text": [
        "<IPython.core.display.Javascript at 0x7f8b78366c10>"
       ]
      },
      {
       "output_type": "stream",
       "stream": "stdout",
       "text": [
        "----------------------------------------------------------------------------------------------------\n"
       ]
      },
      {
       "javascript": [
        "$('div#8daecc03-c480-48d0-8c62-6a6407ca02bc').width('90.88%')"
       ],
       "metadata": {},
       "output_type": "display_data",
       "text": [
        "<IPython.core.display.Javascript at 0x7f8b784e2a90>"
       ]
      },
      {
       "output_type": "stream",
       "stream": "stdout",
       "text": [
        "Optimization terminated successfully.\n",
        "         Current function value: 0.006443\n",
        "         Iterations: 8\n",
        "         Function evaluations: 16\n"
       ]
      },
      {
       "javascript": [
        "$('div#8daecc03-c480-48d0-8c62-6a6407ca02bc').width('91.23%')"
       ],
       "metadata": {},
       "output_type": "display_data",
       "text": [
        "<IPython.core.display.Javascript at 0x7f8b7840e350>"
       ]
      },
      {
       "output_type": "stream",
       "stream": "stdout",
       "text": [
        "Optimization terminated successfully.\n",
        "         Current function value: 0.005092\n",
        "         Iterations: 9\n",
        "         Function evaluations: 20\n"
       ]
      },
      {
       "javascript": [
        "$('div#8daecc03-c480-48d0-8c62-6a6407ca02bc').width('91.58%')"
       ],
       "metadata": {},
       "output_type": "display_data",
       "text": [
        "<IPython.core.display.Javascript at 0x7f8b7834d9d0>"
       ]
      },
      {
       "output_type": "stream",
       "stream": "stdout",
       "text": [
        "Optimization terminated successfully.\n",
        "         Current function value: 0.000587\n",
        "         Iterations: 7\n",
        "         Function evaluations: 15\n"
       ]
      },
      {
       "javascript": [
        "$('div#8daecc03-c480-48d0-8c62-6a6407ca02bc').width('91.93%')"
       ],
       "metadata": {},
       "output_type": "display_data",
       "text": [
        "<IPython.core.display.Javascript at 0x7f8b78296f10>"
       ]
      },
      {
       "output_type": "stream",
       "stream": "stdout",
       "text": [
        "Optimization terminated successfully.\n",
        "         Current function value: 0.000019\n",
        "         Iterations: 6\n",
        "         Function evaluations: 13\n"
       ]
      },
      {
       "javascript": [
        "$('div#8daecc03-c480-48d0-8c62-6a6407ca02bc').width('92.28%')"
       ],
       "metadata": {},
       "output_type": "display_data",
       "text": [
        "<IPython.core.display.Javascript at 0x7f8b7827c190>"
       ]
      },
      {
       "output_type": "stream",
       "stream": "stdout",
       "text": [
        "Optimization terminated successfully.\n",
        "         Current function value: 0.003228\n",
        "         Iterations: 6\n",
        "         Function evaluations: 12\n"
       ]
      },
      {
       "javascript": [
        "$('div#8daecc03-c480-48d0-8c62-6a6407ca02bc').width('92.63%')"
       ],
       "metadata": {},
       "output_type": "display_data",
       "text": [
        "<IPython.core.display.Javascript at 0x7f8b78320910>"
       ]
      },
      {
       "output_type": "stream",
       "stream": "stdout",
       "text": [
        "----------------------------------------------------------------------------------------------------\n"
       ]
      },
      {
       "javascript": [
        "$('div#8daecc03-c480-48d0-8c62-6a6407ca02bc').width('92.98%')"
       ],
       "metadata": {},
       "output_type": "display_data",
       "text": [
        "<IPython.core.display.Javascript at 0x7f8b7837e3d0>"
       ]
      },
      {
       "output_type": "stream",
       "stream": "stdout",
       "text": [
        "Optimization terminated successfully.\n",
        "         Current function value: 0.000975\n",
        "         Iterations: 7\n",
        "         Function evaluations: 14\n"
       ]
      },
      {
       "javascript": [
        "$('div#8daecc03-c480-48d0-8c62-6a6407ca02bc').width('93.33%')"
       ],
       "metadata": {},
       "output_type": "display_data",
       "text": [
        "<IPython.core.display.Javascript at 0x7f8b783962d0>"
       ]
      },
      {
       "output_type": "stream",
       "stream": "stdout",
       "text": [
        "Optimization terminated successfully.\n",
        "         Current function value: 0.001443\n",
        "         Iterations: 6\n",
        "         Function evaluations: 14\n"
       ]
      },
      {
       "javascript": [
        "$('div#8daecc03-c480-48d0-8c62-6a6407ca02bc').width('93.68%')"
       ],
       "metadata": {},
       "output_type": "display_data",
       "text": [
        "<IPython.core.display.Javascript at 0x7f8b783b68d0>"
       ]
      },
      {
       "output_type": "stream",
       "stream": "stdout",
       "text": [
        "Optimization terminated successfully.\n",
        "         Current function value: 0.003477\n",
        "         Iterations: 5\n",
        "         Function evaluations: 11\n"
       ]
      },
      {
       "javascript": [
        "$('div#8daecc03-c480-48d0-8c62-6a6407ca02bc').width('94.04%')"
       ],
       "metadata": {},
       "output_type": "display_data",
       "text": [
        "<IPython.core.display.Javascript at 0x7f8b783961d0>"
       ]
      },
      {
       "output_type": "stream",
       "stream": "stdout",
       "text": [
        "Optimization terminated successfully.\n",
        "         Current function value: 0.009463\n",
        "         Iterations: 5\n",
        "         Function evaluations: 12\n"
       ]
      },
      {
       "javascript": [
        "$('div#8daecc03-c480-48d0-8c62-6a6407ca02bc').width('94.39%')"
       ],
       "metadata": {},
       "output_type": "display_data",
       "text": [
        "<IPython.core.display.Javascript at 0x7f8b784abfd0>"
       ]
      },
      {
       "output_type": "stream",
       "stream": "stdout",
       "text": [
        "Optimization terminated successfully.\n",
        "         Current function value: 0.001638\n",
        "         Iterations: 5\n",
        "         Function evaluations: 11\n"
       ]
      },
      {
       "javascript": [
        "$('div#8daecc03-c480-48d0-8c62-6a6407ca02bc').width('94.74%')"
       ],
       "metadata": {},
       "output_type": "display_data",
       "text": [
        "<IPython.core.display.Javascript at 0x7f8b78572850>"
       ]
      },
      {
       "output_type": "stream",
       "stream": "stdout",
       "text": [
        "----------------------------------------------------------------------------------------------------\n"
       ]
      },
      {
       "javascript": [
        "$('div#8daecc03-c480-48d0-8c62-6a6407ca02bc').width('95.09%')"
       ],
       "metadata": {},
       "output_type": "display_data",
       "text": [
        "<IPython.core.display.Javascript at 0x7f8b784f0590>"
       ]
      },
      {
       "output_type": "stream",
       "stream": "stdout",
       "text": [
        "Optimization terminated successfully.\n",
        "         Current function value: 0.008538\n",
        "         Iterations: 11\n",
        "         Function evaluations: 23\n"
       ]
      },
      {
       "javascript": [
        "$('div#8daecc03-c480-48d0-8c62-6a6407ca02bc').width('95.44%')"
       ],
       "metadata": {},
       "output_type": "display_data",
       "text": [
        "<IPython.core.display.Javascript at 0x7f8b78487bd0>"
       ]
      },
      {
       "output_type": "stream",
       "stream": "stdout",
       "text": [
        "Optimization terminated successfully.\n",
        "         Current function value: 0.004752\n",
        "         Iterations: 8\n",
        "         Function evaluations: 18\n"
       ]
      },
      {
       "javascript": [
        "$('div#8daecc03-c480-48d0-8c62-6a6407ca02bc').width('95.79%')"
       ],
       "metadata": {},
       "output_type": "display_data",
       "text": [
        "<IPython.core.display.Javascript at 0x7f8b78406650>"
       ]
      },
      {
       "output_type": "stream",
       "stream": "stdout",
       "text": [
        "Optimization terminated successfully.\n",
        "         Current function value: 0.001315\n",
        "         Iterations: 7\n",
        "         Function evaluations: 15\n"
       ]
      },
      {
       "javascript": [
        "$('div#8daecc03-c480-48d0-8c62-6a6407ca02bc').width('96.14%')"
       ],
       "metadata": {},
       "output_type": "display_data",
       "text": [
        "<IPython.core.display.Javascript at 0x7f8b78333190>"
       ]
      },
      {
       "output_type": "stream",
       "stream": "stdout",
       "text": [
        "Optimization terminated successfully.\n",
        "         Current function value: 0.000240\n",
        "         Iterations: 10\n",
        "         Function evaluations: 22\n"
       ]
      },
      {
       "javascript": [
        "$('div#8daecc03-c480-48d0-8c62-6a6407ca02bc').width('96.49%')"
       ],
       "metadata": {},
       "output_type": "display_data",
       "text": [
        "<IPython.core.display.Javascript at 0x7f8b7833a590>"
       ]
      },
      {
       "output_type": "stream",
       "stream": "stdout",
       "text": [
        "Optimization terminated successfully.\n",
        "         Current function value: 0.001752\n",
        "         Iterations: 6\n",
        "         Function evaluations: 13\n"
       ]
      },
      {
       "javascript": [
        "$('div#8daecc03-c480-48d0-8c62-6a6407ca02bc').width('96.84%')"
       ],
       "metadata": {},
       "output_type": "display_data",
       "text": [
        "<IPython.core.display.Javascript at 0x7f8b78505ad0>"
       ]
      },
      {
       "output_type": "stream",
       "stream": "stdout",
       "text": [
        "----------------------------------------------------------------------------------------------------\n"
       ]
      },
      {
       "javascript": [
        "$('div#8daecc03-c480-48d0-8c62-6a6407ca02bc').width('97.19%')"
       ],
       "metadata": {},
       "output_type": "display_data",
       "text": [
        "<IPython.core.display.Javascript at 0x7f8b786750d0>"
       ]
      },
      {
       "output_type": "stream",
       "stream": "stdout",
       "text": [
        "Optimization terminated successfully.\n",
        "         Current function value: 0.001910\n",
        "         Iterations: 7\n",
        "         Function evaluations: 16\n"
       ]
      },
      {
       "javascript": [
        "$('div#8daecc03-c480-48d0-8c62-6a6407ca02bc').width('97.54%')"
       ],
       "metadata": {},
       "output_type": "display_data",
       "text": [
        "<IPython.core.display.Javascript at 0x7f8b78366190>"
       ]
      },
      {
       "output_type": "stream",
       "stream": "stdout",
       "text": [
        "Optimization terminated successfully.\n",
        "         Current function value: 0.015327\n",
        "         Iterations: 6\n",
        "         Function evaluations: 14\n"
       ]
      },
      {
       "javascript": [
        "$('div#8daecc03-c480-48d0-8c62-6a6407ca02bc').width('97.89%')"
       ],
       "metadata": {},
       "output_type": "display_data",
       "text": [
        "<IPython.core.display.Javascript at 0x7f8b78675b50>"
       ]
      },
      {
       "output_type": "stream",
       "stream": "stdout",
       "text": [
        "Optimization terminated successfully.\n",
        "         Current function value: 0.063664\n",
        "         Iterations: 7\n",
        "         Function evaluations: 15\n"
       ]
      },
      {
       "javascript": [
        "$('div#8daecc03-c480-48d0-8c62-6a6407ca02bc').width('98.25%')"
       ],
       "metadata": {},
       "output_type": "display_data",
       "text": [
        "<IPython.core.display.Javascript at 0x7f8b784063d0>"
       ]
      },
      {
       "output_type": "stream",
       "stream": "stdout",
       "text": [
        "Optimization terminated successfully.\n",
        "         Current function value: 0.053920\n",
        "         Iterations: 5\n",
        "         Function evaluations: 11\n"
       ]
      },
      {
       "javascript": [
        "$('div#8daecc03-c480-48d0-8c62-6a6407ca02bc').width('98.60%')"
       ],
       "metadata": {},
       "output_type": "display_data",
       "text": [
        "<IPython.core.display.Javascript at 0x7f8b783a6790>"
       ]
      },
      {
       "output_type": "stream",
       "stream": "stdout",
       "text": [
        "Optimization terminated successfully.\n",
        "         Current function value: 0.029622\n",
        "         Iterations: 6\n",
        "         Function evaluations: 14\n"
       ]
      },
      {
       "javascript": [
        "$('div#8daecc03-c480-48d0-8c62-6a6407ca02bc').width('98.95%')"
       ],
       "metadata": {},
       "output_type": "display_data",
       "text": [
        "<IPython.core.display.Javascript at 0x7f8b78398a90>"
       ]
      },
      {
       "output_type": "stream",
       "stream": "stdout",
       "text": [
        "----------------------------------------------------------------------------------------------------\n"
       ]
      },
      {
       "javascript": [
        "$('div#8daecc03-c480-48d0-8c62-6a6407ca02bc').width('99.30%')"
       ],
       "metadata": {},
       "output_type": "display_data",
       "text": [
        "<IPython.core.display.Javascript at 0x7f8b785754d0>"
       ]
      },
      {
       "output_type": "stream",
       "stream": "stdout",
       "text": [
        "Optimization terminated successfully.\n",
        "         Current function value: 0.033629\n",
        "         Iterations: 8\n",
        "         Function evaluations: 17\n"
       ]
      },
      {
       "javascript": [
        "$('div#8daecc03-c480-48d0-8c62-6a6407ca02bc').width('99.65%')"
       ],
       "metadata": {},
       "output_type": "display_data",
       "text": [
        "<IPython.core.display.Javascript at 0x7f8b7837ec10>"
       ]
      },
      {
       "output_type": "stream",
       "stream": "stdout",
       "text": [
        "Optimization terminated successfully.\n",
        "         Current function value: 0.000105\n",
        "         Iterations: 6\n",
        "         Function evaluations: 12\n"
       ]
      },
      {
       "javascript": [
        "$('div#8daecc03-c480-48d0-8c62-6a6407ca02bc').width('100.00%')"
       ],
       "metadata": {},
       "output_type": "display_data",
       "text": [
        "<IPython.core.display.Javascript at 0x7f8b784b6b10>"
       ]
      },
      {
       "output_type": "stream",
       "stream": "stdout",
       "text": [
        "Optimization terminated successfully.\n",
        "         Current function value: 0.093507\n",
        "         Iterations: 6\n",
        "         Function evaluations: 13\n"
       ]
      },
      {
       "javascript": [
        "$('div#8daecc03-c480-48d0-8c62-6a6407ca02bc').width('100.35%')"
       ],
       "metadata": {},
       "output_type": "display_data",
       "text": [
        "<IPython.core.display.Javascript at 0x7f8b78366f90>"
       ]
      },
      {
       "output_type": "stream",
       "stream": "stdout",
       "text": [
        "Optimization terminated successfully.\n",
        "         Current function value: 0.134176\n",
        "         Iterations: 5\n",
        "         Function evaluations: 11\n"
       ]
      },
      {
       "javascript": [
        "$('div#8daecc03-c480-48d0-8c62-6a6407ca02bc').width('100.70%')"
       ],
       "metadata": {},
       "output_type": "display_data",
       "text": [
        "<IPython.core.display.Javascript at 0x7f8b78406910>"
       ]
      },
      {
       "output_type": "stream",
       "stream": "stdout",
       "text": [
        "Optimization terminated successfully.\n",
        "         Current function value: 0.170907\n",
        "         Iterations: 5\n",
        "         Function evaluations: 11\n"
       ]
      },
      {
       "javascript": [
        "$('div#8daecc03-c480-48d0-8c62-6a6407ca02bc').width('101.05%')"
       ],
       "metadata": {},
       "output_type": "display_data",
       "text": [
        "<IPython.core.display.Javascript at 0x7f8b784e2150>"
       ]
      },
      {
       "output_type": "stream",
       "stream": "stdout",
       "text": [
        "----------------------------------------------------------------------------------------------------\n"
       ]
      },
      {
       "javascript": [
        "$('div#8daecc03-c480-48d0-8c62-6a6407ca02bc').width('101.40%')"
       ],
       "metadata": {},
       "output_type": "display_data",
       "text": [
        "<IPython.core.display.Javascript at 0x7f8b7831c910>"
       ]
      },
      {
       "output_type": "stream",
       "stream": "stdout",
       "text": [
        "Optimization terminated successfully.\n",
        "         Current function value: 0.000361\n",
        "         Iterations: 6\n",
        "         Function evaluations: 12\n"
       ]
      },
      {
       "javascript": [
        "$('div#8daecc03-c480-48d0-8c62-6a6407ca02bc').width('101.75%')"
       ],
       "metadata": {},
       "output_type": "display_data",
       "text": [
        "<IPython.core.display.Javascript at 0x7f8b7827c150>"
       ]
      },
      {
       "output_type": "stream",
       "stream": "stdout",
       "text": [
        "Optimization terminated successfully.\n",
        "         Current function value: 0.012652\n",
        "         Iterations: 6\n",
        "         Function evaluations: 12\n"
       ]
      },
      {
       "javascript": [
        "$('div#8daecc03-c480-48d0-8c62-6a6407ca02bc').width('102.11%')"
       ],
       "metadata": {},
       "output_type": "display_data",
       "text": [
        "<IPython.core.display.Javascript at 0x7f8b78396550>"
       ]
      },
      {
       "output_type": "stream",
       "stream": "stdout",
       "text": [
        "Optimization terminated successfully.\n",
        "         Current function value: 0.014923\n",
        "         Iterations: 6\n",
        "         Function evaluations: 14\n"
       ]
      },
      {
       "javascript": [
        "$('div#8daecc03-c480-48d0-8c62-6a6407ca02bc').width('102.46%')"
       ],
       "metadata": {},
       "output_type": "display_data",
       "text": [
        "<IPython.core.display.Javascript at 0x7f8b784f0590>"
       ]
      },
      {
       "output_type": "stream",
       "stream": "stdout",
       "text": [
        "Optimization terminated successfully.\n",
        "         Current function value: 0.031523\n",
        "         Iterations: 6\n",
        "         Function evaluations: 14\n"
       ]
      },
      {
       "javascript": [
        "$('div#8daecc03-c480-48d0-8c62-6a6407ca02bc').width('102.81%')"
       ],
       "metadata": {},
       "output_type": "display_data",
       "text": [
        "<IPython.core.display.Javascript at 0x7f8b78396650>"
       ]
      },
      {
       "output_type": "stream",
       "stream": "stdout",
       "text": [
        "Optimization terminated successfully.\n",
        "         Current function value: 0.005216\n",
        "         Iterations: 5\n",
        "         Function evaluations: 11\n"
       ]
      },
      {
       "javascript": [
        "$('div#8daecc03-c480-48d0-8c62-6a6407ca02bc').width('103.16%')"
       ],
       "metadata": {},
       "output_type": "display_data",
       "text": [
        "<IPython.core.display.Javascript at 0x7f8b784a4250>"
       ]
      },
      {
       "output_type": "stream",
       "stream": "stdout",
       "text": [
        "----------------------------------------------------------------------------------------------------\n"
       ]
      },
      {
       "javascript": [
        "$('div#8daecc03-c480-48d0-8c62-6a6407ca02bc').width('103.51%')"
       ],
       "metadata": {},
       "output_type": "display_data",
       "text": [
        "<IPython.core.display.Javascript at 0x7f8b785804d0>"
       ]
      },
      {
       "output_type": "stream",
       "stream": "stdout",
       "text": [
        "Optimization terminated successfully.\n",
        "         Current function value: 0.004708\n",
        "         Iterations: 6\n",
        "         Function evaluations: 12\n"
       ]
      },
      {
       "javascript": [
        "$('div#8daecc03-c480-48d0-8c62-6a6407ca02bc').width('103.86%')"
       ],
       "metadata": {},
       "output_type": "display_data",
       "text": [
        "<IPython.core.display.Javascript at 0x7f8b7865b2d0>"
       ]
      },
      {
       "output_type": "stream",
       "stream": "stdout",
       "text": [
        "Optimization terminated successfully.\n",
        "         Current function value: 0.006495\n",
        "         Iterations: 5\n",
        "         Function evaluations: 10\n"
       ]
      },
      {
       "javascript": [
        "$('div#8daecc03-c480-48d0-8c62-6a6407ca02bc').width('104.21%')"
       ],
       "metadata": {},
       "output_type": "display_data",
       "text": [
        "<IPython.core.display.Javascript at 0x7f8b782fcbd0>"
       ]
      },
      {
       "output_type": "stream",
       "stream": "stdout",
       "text": [
        "Optimization terminated successfully.\n",
        "         Current function value: 0.025753\n",
        "         Iterations: 5\n",
        "         Function evaluations: 10\n"
       ]
      },
      {
       "javascript": [
        "$('div#8daecc03-c480-48d0-8c62-6a6407ca02bc').width('104.56%')"
       ],
       "metadata": {},
       "output_type": "display_data",
       "text": [
        "<IPython.core.display.Javascript at 0x7f8b7840e910>"
       ]
      },
      {
       "output_type": "stream",
       "stream": "stdout",
       "text": [
        "Optimization terminated successfully.\n",
        "         Current function value: 0.018895\n",
        "         Iterations: 5\n",
        "         Function evaluations: 11\n"
       ]
      },
      {
       "javascript": [
        "$('div#8daecc03-c480-48d0-8c62-6a6407ca02bc').width('104.91%')"
       ],
       "metadata": {},
       "output_type": "display_data",
       "text": [
        "<IPython.core.display.Javascript at 0x7f8b7840d850>"
       ]
      },
      {
       "output_type": "stream",
       "stream": "stdout",
       "text": [
        "Optimization terminated successfully.\n",
        "         Current function value: 0.006320\n",
        "         Iterations: 5\n",
        "         Function evaluations: 10\n"
       ]
      },
      {
       "javascript": [
        "$('div#8daecc03-c480-48d0-8c62-6a6407ca02bc').width('105.26%')"
       ],
       "metadata": {},
       "output_type": "display_data",
       "text": [
        "<IPython.core.display.Javascript at 0x7f8b784be110>"
       ]
      },
      {
       "output_type": "stream",
       "stream": "stdout",
       "text": [
        "----------------------------------------------------------------------------------------------------\n"
       ]
      },
      {
       "javascript": [
        "$('div#8daecc03-c480-48d0-8c62-6a6407ca02bc').width('105.61%')"
       ],
       "metadata": {},
       "output_type": "display_data",
       "text": [
        "<IPython.core.display.Javascript at 0x7f8b7840e610>"
       ]
      },
      {
       "output_type": "stream",
       "stream": "stdout",
       "text": [
        "Optimization terminated successfully.\n",
        "         Current function value: 0.019513\n",
        "         Iterations: 8\n",
        "         Function evaluations: 18\n"
       ]
      },
      {
       "javascript": [
        "$('div#8daecc03-c480-48d0-8c62-6a6407ca02bc').width('105.96%')"
       ],
       "metadata": {},
       "output_type": "display_data",
       "text": [
        "<IPython.core.display.Javascript at 0x7f8b78617250>"
       ]
      },
      {
       "output_type": "stream",
       "stream": "stdout",
       "text": [
        "Optimization terminated successfully.\n",
        "         Current function value: 0.001425\n",
        "         Iterations: 6\n",
        "         Function evaluations: 14\n"
       ]
      },
      {
       "javascript": [
        "$('div#8daecc03-c480-48d0-8c62-6a6407ca02bc').width('106.32%')"
       ],
       "metadata": {},
       "output_type": "display_data",
       "text": [
        "<IPython.core.display.Javascript at 0x7f8b784e2e90>"
       ]
      },
      {
       "output_type": "stream",
       "stream": "stdout",
       "text": [
        "Optimization terminated successfully.\n",
        "         Current function value: 0.018546\n",
        "         Iterations: 5\n",
        "         Function evaluations: 12\n"
       ]
      },
      {
       "javascript": [
        "$('div#8daecc03-c480-48d0-8c62-6a6407ca02bc').width('106.67%')"
       ],
       "metadata": {},
       "output_type": "display_data",
       "text": [
        "<IPython.core.display.Javascript at 0x7f8b784c0550>"
       ]
      },
      {
       "output_type": "stream",
       "stream": "stdout",
       "text": [
        "Optimization terminated successfully.\n",
        "         Current function value: 0.041093\n",
        "         Iterations: 5\n",
        "         Function evaluations: 11\n"
       ]
      },
      {
       "javascript": [
        "$('div#8daecc03-c480-48d0-8c62-6a6407ca02bc').width('107.02%')"
       ],
       "metadata": {},
       "output_type": "display_data",
       "text": [
        "<IPython.core.display.Javascript at 0x7f8b784e2490>"
       ]
      },
      {
       "output_type": "stream",
       "stream": "stdout",
       "text": [
        "Optimization terminated successfully.\n",
        "         Current function value: 0.030547\n",
        "         Iterations: 5\n",
        "         Function evaluations: 11\n"
       ]
      },
      {
       "javascript": [
        "$('div#8daecc03-c480-48d0-8c62-6a6407ca02bc').width('107.37%')"
       ],
       "metadata": {},
       "output_type": "display_data",
       "text": [
        "<IPython.core.display.Javascript at 0x7f8b786458d0>"
       ]
      },
      {
       "output_type": "stream",
       "stream": "stdout",
       "text": [
        "----------------------------------------------------------------------------------------------------\n"
       ]
      },
      {
       "javascript": [
        "$('div#8daecc03-c480-48d0-8c62-6a6407ca02bc').width('107.72%')"
       ],
       "metadata": {},
       "output_type": "display_data",
       "text": [
        "<IPython.core.display.Javascript at 0x7f8b784e2e90>"
       ]
      },
      {
       "output_type": "stream",
       "stream": "stdout",
       "text": [
        "Optimization terminated successfully.\n",
        "         Current function value: 0.001883\n",
        "         Iterations: 7\n",
        "         Function evaluations: 14\n"
       ]
      },
      {
       "javascript": [
        "$('div#8daecc03-c480-48d0-8c62-6a6407ca02bc').width('108.07%')"
       ],
       "metadata": {},
       "output_type": "display_data",
       "text": [
        "<IPython.core.display.Javascript at 0x7f8b78617490>"
       ]
      },
      {
       "output_type": "stream",
       "stream": "stdout",
       "text": [
        "Optimization terminated successfully.\n",
        "         Current function value: 0.007097\n",
        "         Iterations: 7\n",
        "         Function evaluations: 16\n"
       ]
      },
      {
       "javascript": [
        "$('div#8daecc03-c480-48d0-8c62-6a6407ca02bc').width('108.42%')"
       ],
       "metadata": {},
       "output_type": "display_data",
       "text": [
        "<IPython.core.display.Javascript at 0x7f8b7840e9d0>"
       ]
      },
      {
       "output_type": "stream",
       "stream": "stdout",
       "text": [
        "Optimization terminated successfully.\n",
        "         Current function value: 0.017986\n",
        "         Iterations: 7\n",
        "         Function evaluations: 14\n"
       ]
      },
      {
       "javascript": [
        "$('div#8daecc03-c480-48d0-8c62-6a6407ca02bc').width('108.77%')"
       ],
       "metadata": {},
       "output_type": "display_data",
       "text": [
        "<IPython.core.display.Javascript at 0x7f8b7841d0d0>"
       ]
      },
      {
       "output_type": "stream",
       "stream": "stdout",
       "text": [
        "Optimization terminated successfully.\n",
        "         Current function value: 0.000195\n",
        "         Iterations: 5\n",
        "         Function evaluations: 11\n"
       ]
      },
      {
       "javascript": [
        "$('div#8daecc03-c480-48d0-8c62-6a6407ca02bc').width('109.12%')"
       ],
       "metadata": {},
       "output_type": "display_data",
       "text": [
        "<IPython.core.display.Javascript at 0x7f8b78487390>"
       ]
      },
      {
       "output_type": "stream",
       "stream": "stdout",
       "text": [
        "Optimization terminated successfully.\n",
        "         Current function value: 0.006619\n",
        "         Iterations: 6\n",
        "         Function evaluations: 14\n"
       ]
      },
      {
       "javascript": [
        "$('div#8daecc03-c480-48d0-8c62-6a6407ca02bc').width('109.47%')"
       ],
       "metadata": {},
       "output_type": "display_data",
       "text": [
        "<IPython.core.display.Javascript at 0x7f8b78400f10>"
       ]
      },
      {
       "output_type": "stream",
       "stream": "stdout",
       "text": [
        "----------------------------------------------------------------------------------------------------\n"
       ]
      },
      {
       "javascript": [
        "$('div#8daecc03-c480-48d0-8c62-6a6407ca02bc').width('109.82%')"
       ],
       "metadata": {},
       "output_type": "display_data",
       "text": [
        "<IPython.core.display.Javascript at 0x7f8b78400f10>"
       ]
      },
      {
       "output_type": "stream",
       "stream": "stdout",
       "text": [
        "Optimization terminated successfully.\n",
        "         Current function value: 0.003363\n",
        "         Iterations: 6\n",
        "         Function evaluations: 12\n"
       ]
      },
      {
       "javascript": [
        "$('div#8daecc03-c480-48d0-8c62-6a6407ca02bc').width('110.18%')"
       ],
       "metadata": {},
       "output_type": "display_data",
       "text": [
        "<IPython.core.display.Javascript at 0x7f8b78396d90>"
       ]
      },
      {
       "output_type": "stream",
       "stream": "stdout",
       "text": [
        "Optimization terminated successfully.\n",
        "         Current function value: 0.003255\n",
        "         Iterations: 5\n",
        "         Function evaluations: 11\n"
       ]
      },
      {
       "javascript": [
        "$('div#8daecc03-c480-48d0-8c62-6a6407ca02bc').width('110.53%')"
       ],
       "metadata": {},
       "output_type": "display_data",
       "text": [
        "<IPython.core.display.Javascript at 0x7f8b78396dd0>"
       ]
      },
      {
       "output_type": "stream",
       "stream": "stdout",
       "text": [
        "Optimization terminated successfully.\n",
        "         Current function value: 0.000308\n",
        "         Iterations: 6\n",
        "         Function evaluations: 14\n"
       ]
      },
      {
       "javascript": [
        "$('div#8daecc03-c480-48d0-8c62-6a6407ca02bc').width('110.88%')"
       ],
       "metadata": {},
       "output_type": "display_data",
       "text": [
        "<IPython.core.display.Javascript at 0x7f8b78366a50>"
       ]
      },
      {
       "output_type": "stream",
       "stream": "stdout",
       "text": [
        "Optimization terminated successfully.\n",
        "         Current function value: 0.037352\n",
        "         Iterations: 5\n",
        "         Function evaluations: 12\n"
       ]
      },
      {
       "javascript": [
        "$('div#8daecc03-c480-48d0-8c62-6a6407ca02bc').width('111.23%')"
       ],
       "metadata": {},
       "output_type": "display_data",
       "text": [
        "<IPython.core.display.Javascript at 0x7f8b784c0110>"
       ]
      },
      {
       "output_type": "stream",
       "stream": "stdout",
       "text": [
        "Optimization terminated successfully.\n",
        "         Current function value: 0.012610\n",
        "         Iterations: 5\n",
        "         Function evaluations: 10\n"
       ]
      },
      {
       "javascript": [
        "$('div#8daecc03-c480-48d0-8c62-6a6407ca02bc').width('111.58%')"
       ],
       "metadata": {},
       "output_type": "display_data",
       "text": [
        "<IPython.core.display.Javascript at 0x7f8b78398710>"
       ]
      },
      {
       "output_type": "stream",
       "stream": "stdout",
       "text": [
        "----------------------------------------------------------------------------------------------------\n"
       ]
      },
      {
       "javascript": [
        "$('div#8daecc03-c480-48d0-8c62-6a6407ca02bc').width('111.93%')"
       ],
       "metadata": {},
       "output_type": "display_data",
       "text": [
        "<IPython.core.display.Javascript at 0x7f8b78487b50>"
       ]
      },
      {
       "output_type": "stream",
       "stream": "stdout",
       "text": [
        "Optimization terminated successfully.\n",
        "         Current function value: 0.002859\n",
        "         Iterations: 7\n",
        "         Function evaluations: 16\n"
       ]
      },
      {
       "javascript": [
        "$('div#8daecc03-c480-48d0-8c62-6a6407ca02bc').width('112.28%')"
       ],
       "metadata": {},
       "output_type": "display_data",
       "text": [
        "<IPython.core.display.Javascript at 0x7f8b7865b0d0>"
       ]
      },
      {
       "output_type": "stream",
       "stream": "stdout",
       "text": [
        "Optimization terminated successfully.\n",
        "         Current function value: 0.002826\n",
        "         Iterations: 7\n",
        "         Function evaluations: 15\n"
       ]
      },
      {
       "javascript": [
        "$('div#8daecc03-c480-48d0-8c62-6a6407ca02bc').width('112.63%')"
       ],
       "metadata": {},
       "output_type": "display_data",
       "text": [
        "<IPython.core.display.Javascript at 0x7f8b78505f10>"
       ]
      },
      {
       "output_type": "stream",
       "stream": "stdout",
       "text": [
        "Optimization terminated successfully.\n",
        "         Current function value: 0.000563\n",
        "         Iterations: 6\n",
        "         Function evaluations: 12\n"
       ]
      },
      {
       "javascript": [
        "$('div#8daecc03-c480-48d0-8c62-6a6407ca02bc').width('112.98%')"
       ],
       "metadata": {},
       "output_type": "display_data",
       "text": [
        "<IPython.core.display.Javascript at 0x7f8b784f0d10>"
       ]
      },
      {
       "output_type": "stream",
       "stream": "stdout",
       "text": [
        "Optimization terminated successfully.\n",
        "         Current function value: 0.000115\n",
        "         Iterations: 5\n",
        "         Function evaluations: 11\n"
       ]
      },
      {
       "javascript": [
        "$('div#8daecc03-c480-48d0-8c62-6a6407ca02bc').width('113.33%')"
       ],
       "metadata": {},
       "output_type": "display_data",
       "text": [
        "<IPython.core.display.Javascript at 0x7f8b78398b10>"
       ]
      },
      {
       "output_type": "stream",
       "stream": "stdout",
       "text": [
        "Optimization terminated successfully.\n",
        "         Current function value: 0.000583\n",
        "         Iterations: 5\n",
        "         Function evaluations: 10\n"
       ]
      },
      {
       "javascript": [
        "$('div#8daecc03-c480-48d0-8c62-6a6407ca02bc').width('113.68%')"
       ],
       "metadata": {},
       "output_type": "display_data",
       "text": [
        "<IPython.core.display.Javascript at 0x7f8b78617c10>"
       ]
      },
      {
       "output_type": "stream",
       "stream": "stdout",
       "text": [
        "----------------------------------------------------------------------------------------------------\n"
       ]
      },
      {
       "javascript": [
        "$('div#8daecc03-c480-48d0-8c62-6a6407ca02bc').width('114.04%')"
       ],
       "metadata": {},
       "output_type": "display_data",
       "text": [
        "<IPython.core.display.Javascript at 0x7f8b78396550>"
       ]
      },
      {
       "output_type": "stream",
       "stream": "stdout",
       "text": [
        "Optimization terminated successfully.\n",
        "         Current function value: 0.009624\n",
        "         Iterations: 7\n",
        "         Function evaluations: 15\n"
       ]
      },
      {
       "javascript": [
        "$('div#8daecc03-c480-48d0-8c62-6a6407ca02bc').width('114.39%')"
       ],
       "metadata": {},
       "output_type": "display_data",
       "text": [
        "<IPython.core.display.Javascript at 0x7f8b785725d0>"
       ]
      },
      {
       "output_type": "stream",
       "stream": "stdout",
       "text": [
        "Optimization terminated successfully.\n",
        "         Current function value: 0.000634\n",
        "         Iterations: 5\n",
        "         Function evaluations: 11\n"
       ]
      },
      {
       "javascript": [
        "$('div#8daecc03-c480-48d0-8c62-6a6407ca02bc').width('114.74%')"
       ],
       "metadata": {},
       "output_type": "display_data",
       "text": [
        "<IPython.core.display.Javascript at 0x7f8b7865c950>"
       ]
      },
      {
       "output_type": "stream",
       "stream": "stdout",
       "text": [
        "Optimization terminated successfully.\n",
        "         Current function value: 0.001295\n",
        "         Iterations: 6\n",
        "         Function evaluations: 13\n"
       ]
      },
      {
       "javascript": [
        "$('div#8daecc03-c480-48d0-8c62-6a6407ca02bc').width('115.09%')"
       ],
       "metadata": {},
       "output_type": "display_data",
       "text": [
        "<IPython.core.display.Javascript at 0x7f8b78267310>"
       ]
      },
      {
       "output_type": "stream",
       "stream": "stdout",
       "text": [
        "Optimization terminated successfully.\n",
        "         Current function value: 0.015300\n",
        "         Iterations: 5\n",
        "         Function evaluations: 11\n"
       ]
      },
      {
       "javascript": [
        "$('div#8daecc03-c480-48d0-8c62-6a6407ca02bc').width('115.44%')"
       ],
       "metadata": {},
       "output_type": "display_data",
       "text": [
        "<IPython.core.display.Javascript at 0x7f8b784e2690>"
       ]
      },
      {
       "output_type": "stream",
       "stream": "stdout",
       "text": [
        "Optimization terminated successfully.\n",
        "         Current function value: 0.010884\n",
        "         Iterations: 5\n",
        "         Function evaluations: 10\n"
       ]
      },
      {
       "javascript": [
        "$('div#8daecc03-c480-48d0-8c62-6a6407ca02bc').width('115.79%')"
       ],
       "metadata": {},
       "output_type": "display_data",
       "text": [
        "<IPython.core.display.Javascript at 0x7f8b78271510>"
       ]
      },
      {
       "output_type": "stream",
       "stream": "stdout",
       "text": [
        "----------------------------------------------------------------------------------------------------\n"
       ]
      },
      {
       "javascript": [
        "$('div#8daecc03-c480-48d0-8c62-6a6407ca02bc').width('116.14%')"
       ],
       "metadata": {},
       "output_type": "display_data",
       "text": [
        "<IPython.core.display.Javascript at 0x7f8b7837e590>"
       ]
      },
      {
       "output_type": "stream",
       "stream": "stdout",
       "text": [
        "Optimization terminated successfully.\n",
        "         Current function value: 0.023084\n",
        "         Iterations: 6\n",
        "         Function evaluations: 14\n"
       ]
      },
      {
       "javascript": [
        "$('div#8daecc03-c480-48d0-8c62-6a6407ca02bc').width('116.49%')"
       ],
       "metadata": {},
       "output_type": "display_data",
       "text": [
        "<IPython.core.display.Javascript at 0x7f8b78396710>"
       ]
      },
      {
       "output_type": "stream",
       "stream": "stdout",
       "text": [
        "Optimization terminated successfully.\n",
        "         Current function value: 0.026818\n",
        "         Iterations: 5\n",
        "         Function evaluations: 10\n"
       ]
      },
      {
       "javascript": [
        "$('div#8daecc03-c480-48d0-8c62-6a6407ca02bc').width('116.84%')"
       ],
       "metadata": {},
       "output_type": "display_data",
       "text": [
        "<IPython.core.display.Javascript at 0x7f8b78400490>"
       ]
      },
      {
       "output_type": "stream",
       "stream": "stdout",
       "text": [
        "Optimization terminated successfully.\n",
        "         Current function value: 0.066369\n",
        "         Iterations: 5\n",
        "         Function evaluations: 11\n"
       ]
      },
      {
       "javascript": [
        "$('div#8daecc03-c480-48d0-8c62-6a6407ca02bc').width('117.19%')"
       ],
       "metadata": {},
       "output_type": "display_data",
       "text": [
        "<IPython.core.display.Javascript at 0x7f8b784ab8d0>"
       ]
      },
      {
       "output_type": "stream",
       "stream": "stdout",
       "text": [
        "Optimization terminated successfully.\n",
        "         Current function value: 0.008925\n",
        "         Iterations: 5\n",
        "         Function evaluations: 10\n"
       ]
      },
      {
       "javascript": [
        "$('div#8daecc03-c480-48d0-8c62-6a6407ca02bc').width('117.54%')"
       ],
       "metadata": {},
       "output_type": "display_data",
       "text": [
        "<IPython.core.display.Javascript at 0x7f8b784ab9d0>"
       ]
      },
      {
       "output_type": "stream",
       "stream": "stdout",
       "text": [
        "Optimization terminated successfully.\n",
        "         Current function value: 0.001887\n",
        "         Iterations: 5\n",
        "         Function evaluations: 10\n"
       ]
      },
      {
       "javascript": [
        "$('div#8daecc03-c480-48d0-8c62-6a6407ca02bc').width('117.89%')"
       ],
       "metadata": {},
       "output_type": "display_data",
       "text": [
        "<IPython.core.display.Javascript at 0x7f8b78487d50>"
       ]
      },
      {
       "output_type": "stream",
       "stream": "stdout",
       "text": [
        "----------------------------------------------------------------------------------------------------\n"
       ]
      },
      {
       "javascript": [
        "$('div#8daecc03-c480-48d0-8c62-6a6407ca02bc').width('118.25%')"
       ],
       "metadata": {},
       "output_type": "display_data",
       "text": [
        "<IPython.core.display.Javascript at 0x7f8b782fcc50>"
       ]
      },
      {
       "output_type": "stream",
       "stream": "stdout",
       "text": [
        "Optimization terminated successfully.\n",
        "         Current function value: 0.000229\n",
        "         Iterations: 7\n",
        "         Function evaluations: 15\n"
       ]
      },
      {
       "javascript": [
        "$('div#8daecc03-c480-48d0-8c62-6a6407ca02bc').width('118.60%')"
       ],
       "metadata": {},
       "output_type": "display_data",
       "text": [
        "<IPython.core.display.Javascript at 0x7f8b78366650>"
       ]
      },
      {
       "output_type": "stream",
       "stream": "stdout",
       "text": [
        "Optimization terminated successfully.\n",
        "         Current function value: 0.009289\n",
        "         Iterations: 5\n",
        "         Function evaluations: 10\n"
       ]
      },
      {
       "javascript": [
        "$('div#8daecc03-c480-48d0-8c62-6a6407ca02bc').width('118.95%')"
       ],
       "metadata": {},
       "output_type": "display_data",
       "text": [
        "<IPython.core.display.Javascript at 0x7f8b78580990>"
       ]
      },
      {
       "output_type": "stream",
       "stream": "stdout",
       "text": [
        "Optimization terminated successfully.\n",
        "         Current function value: 0.000362\n",
        "         Iterations: 5\n",
        "         Function evaluations: 10\n"
       ]
      },
      {
       "javascript": [
        "$('div#8daecc03-c480-48d0-8c62-6a6407ca02bc').width('119.30%')"
       ],
       "metadata": {},
       "output_type": "display_data",
       "text": [
        "<IPython.core.display.Javascript at 0x7f8b78580c50>"
       ]
      },
      {
       "output_type": "stream",
       "stream": "stdout",
       "text": [
        "Optimization terminated successfully.\n",
        "         Current function value: 0.000306\n",
        "         Iterations: 6\n",
        "         Function evaluations: 12\n"
       ]
      },
      {
       "javascript": [
        "$('div#8daecc03-c480-48d0-8c62-6a6407ca02bc').width('119.65%')"
       ],
       "metadata": {},
       "output_type": "display_data",
       "text": [
        "<IPython.core.display.Javascript at 0x7f8b78572c90>"
       ]
      },
      {
       "output_type": "stream",
       "stream": "stdout",
       "text": [
        "Optimization terminated successfully.\n",
        "         Current function value: 0.000145\n",
        "         Iterations: 5\n",
        "         Function evaluations: 11\n"
       ]
      },
      {
       "javascript": [
        "$('div#8daecc03-c480-48d0-8c62-6a6407ca02bc').width('120.00%')"
       ],
       "metadata": {},
       "output_type": "display_data",
       "text": [
        "<IPython.core.display.Javascript at 0x7f8b7841dc90>"
       ]
      },
      {
       "output_type": "stream",
       "stream": "stdout",
       "text": [
        "----------------------------------------------------------------------------------------------------\n"
       ]
      }
     ],
     "prompt_number": 18
    },
    {
     "cell_type": "code",
     "collapsed": false,
     "input": [
      "# append prediction df's in a\n",
      "# list (concatenated below)\n",
      "sxpred_list.append(sxpred)\n",
      "\n",
      "allsx_pred=pd.concat(sxpred_list)\n",
      "\n",
      "# make a save string with the range of subject ID's \n",
      "savestr=\"PredictSx_ProBSL.csv\"\n",
      "allsx_pred.to_csv(savestr, index=False)"
     ],
     "language": "python",
     "metadata": {},
     "outputs": []
    },
    {
     "cell_type": "heading",
     "level": 3,
     "metadata": {},
     "source": [
      "Read in Fit and Prediction Summaries for Each Subject and Concatenate"
     ]
    },
    {
     "cell_type": "code",
     "collapsed": false,
     "input": [
      "sxl=list()\n",
      "for sx in paramdf.index.unique():\n",
      "    try:\n",
      "        sxl.append(pd.read_csv(pth+\"OptAccRT/SxFits/OptAccRT_Sx\"+str(sx)+\".csv\", index_col=0))\n",
      "    except:\n",
      "        pass\n",
      "df=pd.concat(sxl)"
     ],
     "language": "python",
     "metadata": {},
     "outputs": [],
     "prompt_number": 18
    },
    {
     "cell_type": "heading",
     "level": 3,
     "metadata": {},
     "source": [
      "Save Concatenated Sx-Fits-Predictions DataFrame to File"
     ]
    },
    {
     "cell_type": "code",
     "collapsed": false,
     "input": [
      "df.to_csv(pth+\"OptAccRT/SxFits/RePNL_AllSx_OptAccRT.csv\")"
     ],
     "language": "python",
     "metadata": {},
     "outputs": []
    },
    {
     "cell_type": "heading",
     "level": 3,
     "metadata": {},
     "source": [
      "Calculate Summary Stop Acc & RT Values"
     ]
    },
    {
     "cell_type": "code",
     "collapsed": false,
     "input": [
      "avg=df.groupby('ssdlist').mean()\n",
      "sem=df.groupby('ssdlist').sem()\n",
      "\n",
      "avg=df.groupby('ssdlist').mean()\n",
      "yd=avg['ydata'][:-1]\n",
      "yh=avg['yhat'][:-1]\n",
      "rtd=avg['ydata'][-1]\n",
      "rth=avg['yhat'][-1]\n",
      "\n",
      "sns.palplot(sparams['colors'])"
     ],
     "language": "python",
     "metadata": {},
     "outputs": [
      {
       "metadata": {},
       "output_type": "display_data",
       "png": "[encoded data removed]",
       "text": [
        "<matplotlib.figure.Figure at 0x7f7b58439ed0>"
       ]
      }
     ],
     "prompt_number": 47
    },
    {
     "cell_type": "heading",
     "level": 3,
     "metadata": {},
     "source": [
      "Plot Observed/Predicted Stop Curves/RT "
     ]
    },
    {
     "cell_type": "code",
     "collapsed": false,
     "input": [
      "import seaborn as sns\n",
      "psy=reload(psy)\n",
      "utils=reload(utils)\n",
      "\n",
      "sparams=utils.style_params()\n",
      "colors=sparams['colors']\n",
      "sns.set_style('ticks', rc=sparams['style'])\n",
      "sns.set_context('paper', rc=sparams['context'])\n",
      "\n",
      "stopmeans=[yd[::-1], yh[::-1]]\n",
      "stoperr=[sem['ydata'][:-1][::-1]*2, sem['yhat'][:-1][::-1]*2]\n",
      "\n",
      "ax=psy.scurves(ysim=stopmeans, yerr=stoperr, title='SingleSx_OptAccRT_Final_+-2SEM.png', \n",
      "               colors=[colors[-8], colors[-1]], labels=['Data', 'RADD'])"
     ],
     "language": "python",
     "metadata": {},
     "outputs": []
    },
    {
     "cell_type": "code",
     "collapsed": false,
     "input": [
      "#plot rt\n",
      "ff, axx=plt.subplots(1, figsize=(5, 6.5))\n",
      "\n",
      "axx.bar(0, rtd, yerr=sem['ydata'][-1], color=colors[-8], error_kw={\"elinewidth\":3, \"capthick\":2.5, \n",
      "        \"capsize\":3, \"ecolor\":'k'}, alpha=.9,align='center', label='Data')\n",
      "\n",
      "axx.errorbar(0, rth, yerr=sem['yhat'][-1], marker='o', markersize=15, \n",
      "             elinewidth=2, ecolor=colors[-1], color=colors[-1], alpha=.8, label='RADD')   \n",
      "\n",
      "plt.setp(axx, xlim=(-.7, .7), ylim=(.5, .6), ylabel='RT (s)', xticks=[], xticklabels=[], xlabel='ssRe BSL')\n",
      "axx.set_xlabel('Baseline', fontsize=19)\n",
      "plt.setp(axx.get_yticklabels(), fontsize=17)\n",
      "axx.set_ylabel('RT (s)', fontsize=19, labelpad=8) \n",
      "axx.legend(loc=0, fontsize=17)\n",
      "sns.despine()\n",
      "plt.tight_layout()\n",
      "ff.savefig(pth+\"SingleSxReBSL_OptRT_Final.png\", dpi=600)    "
     ],
     "language": "python",
     "metadata": {},
     "outputs": []
    },
    {
     "cell_type": "code",
     "collapsed": false,
     "input": [
      "pth=utils.find_path()\n",
      "pro=pd.read_csv(pth+\"Proactive/SS_v2p3_fullsummary.dat\", sep=\"\\t\")\n",
      "pro['RT_sec']=pro['RT'].copy()*.001\n",
      "pro=pro.rename(columns={'RT':'rt_msec', 'RT_sec':'rt', 'Keypress':'response'}, axis=1)\n",
      "\n",
      "pro.ix[pro['Cond']==1, 'Cond']='bsl'\n",
      "pro.ix[pro['Cond']==2, 'Cond']='pnl'\n",
      "pro_df=pro.copy()\n",
      "\n",
      "#pro_df=pro_df.query(\"rt < .550\")\n",
      "\n",
      "pro_sx=pro_df['SubID']\n",
      "pro_df['subj_idx']=[int(subj[1:]) for subj in pro_sx]\n",
      "\n",
      "pro_df['pGo']=1-pro_df['StopProb']\n",
      "pro_df['HiLo']=['x']*len(pro_df)\n",
      "pro_df['HML']=['x']*len(pro_df)\n",
      "pro_df['choice']=['x']*len(pro_df)\n",
      "\n",
      "pro_df.ix[(pro_df['response']==1), 'choice']='go'\n",
      "pro_df.ix[(pro_df['response']==0), 'choice']='stop'\n",
      "\n",
      "pro_df.ix[(pro_df['StopProb']==0.0)|(pro_df['StopProb']==0.2)|(pro_df['StopProb']==0.4), 'HiLo']='aHi'\n",
      "pro_df.ix[(pro_df['StopProb']==0.6)|(pro_df['StopProb']==0.8)|(pro_df['StopProb']==1.0), 'HiLo']='bLo'\n",
      "\n",
      "pro_df.ix[(pro_df['StopProb']==0.0)|(pro_df['StopProb']==0.2), 'HML']='bHi'\n",
      "pro_df.ix[(pro_df['StopProb']==0.4)|(pro_df['StopProb']==0.6), 'HML']='bMed'\n",
      "pro_df.ix[(pro_df['StopProb']==0.8)|(pro_df['StopProb']==1.0), 'HML']='cLo'\n",
      "\n",
      "pro_df=pro_df[['subj_idx', 'pGo', 'HiLo', 'HML', 'Cond', 'response', 'choice', 'rt']]\n",
      "bsl_df=pro_df.query('Cond==\"bsl\"')\n",
      "pnl_df=pro_df.query('Cond==\"pnl\"')\n",
      "pro_df.to_csv(pth+\"Proactive/Pro_AllData.csv\", index=False)"
     ],
     "language": "python",
     "metadata": {},
     "outputs": [],
     "prompt_number": 24
    }
   ],
   "metadata": {}
  }
 ]
}