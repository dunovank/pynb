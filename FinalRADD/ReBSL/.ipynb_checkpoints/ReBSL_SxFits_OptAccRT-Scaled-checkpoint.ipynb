{
 "metadata": {
  "name": "",
  "signature": "sha256:33ccc7c0d53dccfc35f3e88a580403652a7e906db05afa252ca07cccbeb87834"
 },
 "nbformat": 3,
 "nbformat_minor": 0,
 "worksheets": [
  {
   "cells": [
    {
     "cell_type": "heading",
     "level": 1,
     "metadata": {},
     "source": [
      "Single SX RE-BSL Data Nested Fits"
     ]
    },
    {
     "cell_type": "code",
     "collapsed": false,
     "input": [
      "from __future__ import division\n",
      "import pandas as pd\n",
      "from radd import utils, xopt, psy\n",
      "from lmfit import Parameters, Minimizer\n",
      "import seaborn as sns"
     ],
     "language": "python",
     "metadata": {},
     "outputs": [],
     "prompt_number": 1
    },
    {
     "cell_type": "heading",
     "level": 3,
     "metadata": {},
     "source": [
      "Load in data"
     ]
    },
    {
     "cell_type": "code",
     "collapsed": false,
     "input": [
      "pth=utils.find_path()\n",
      "redata_bsl=pd.read_csv(pth+\"DataFiles/ReBSL_Data.csv\", index_col=0)\n",
      "bsl=redata_bsl.copy()"
     ],
     "language": "python",
     "metadata": {},
     "outputs": [],
     "prompt_number": 2
    },
    {
     "cell_type": "heading",
     "level": 3,
     "metadata": {},
     "source": [
      "Get Subject RT Vector"
     ]
    },
    {
     "cell_type": "code",
     "collapsed": false,
     "input": [
      "gocor=bsl[(bsl['trial_type']=='go')&(bsl['acc']==1)&(bsl['rt']<.650)]\n",
      "rts=np.array([sxdf.rt.mean() for sx, sxdf in gocor.groupby('subj_idx')])\n"
     ],
     "language": "python",
     "metadata": {},
     "outputs": [],
     "prompt_number": 3
    },
    {
     "cell_type": "heading",
     "level": 3,
     "metadata": {},
     "source": [
      "Get DF of Stop Curves (cols=SSD, index=sx) and Append Column w/ Avg Sx RTs"
     ]
    },
    {
     "cell_type": "code",
     "collapsed": false,
     "input": [
      "stops=bsl[bsl['trial_type']=='stop']\n",
      "stopdata=utils.makePivot(stops, cols='ssd', index='subj_idx', values='acc')\n",
      "ydata=stopdata.copy()\n",
      "ydata['rt']=rts*10"
     ],
     "language": "python",
     "metadata": {},
     "outputs": [],
     "prompt_number": 4
    },
    {
     "cell_type": "heading",
     "level": 3,
     "metadata": {},
     "source": [
      "Define Initial Parameter Values (Optimal Group-Mean Params Fit to Flat Data)"
     ]
    },
    {
     "cell_type": "code",
     "collapsed": false,
     "input": [
      "# optimized parameters fit to flat group data using RaDD \n",
      "# passed to sx fitting function as initial params for each sx\n",
      "optmean={'a': 0.43155063058963727, 'ssv': 0.96986662065537221, \n",
      "         't': 0.30656375144494813, 'v': 1.0366001760617101, 'z': 0.16611261860323445}"
     ],
     "language": "python",
     "metadata": {},
     "outputs": [],
     "prompt_number": 20
    },
    {
     "cell_type": "heading",
     "level": 3,
     "metadata": {},
     "source": [
      "Fit Single Sx - ReBSL Nested Model (RADD)"
     ]
    },
    {
     "cell_type": "code",
     "collapsed": false,
     "input": [
      "xopt=reload(xopt)\n",
      "\n",
      "out=xopt.fit_reactive_sx(ydata, opt_theta=optmean, depHyper=True, ntrials=1000)"
     ],
     "language": "python",
     "metadata": {},
     "outputs": [
      {
       "output_type": "stream",
       "stream": "stdout",
       "text": [
        "[40 41 42 43 44 45 47 48 50 51 52 54 55 56 57 58 59 60 61 62 63 65 67 68 70\n",
        " 71 72 73 74 75 76 77 78 79 80 81 82 83 84 85 86 87 88 89 90 95 97]\n"
       ]
      },
      {
       "html": [
        "\n",
        "\t    <div style=\"border: 1px solid black; width:500px\">\n",
        "\t    <div id=\"09e687dd-3a60-466f-9995-e1df5203ef35\" style=\"background-color:#009B76; width:0%\">&nbsp;</div>\n",
        "\t    </div> \n",
        "\t    "
       ],
       "metadata": {},
       "output_type": "display_data",
       "text": [
        "<IPython.core.display.HTML at 0x7f73340d7e50>"
       ]
      },
      {
       "output_type": "stream",
       "stream": "stdout",
       "text": [
        "[-0.00206612 -0.02272727  0.02801556  0.10101833  0.04881423 -0.07270398]\n",
        "[-0.0060241  -0.0078125   0.0541109   0.11888668  0.10725806 -0.09079337]"
       ]
      },
      {
       "output_type": "stream",
       "stream": "stdout",
       "text": [
        "\n",
        "[ 0.         -0.00806452  0.05510204  0.25413534  0.20313808  0.18493043]"
       ]
      },
      {
       "output_type": "stream",
       "stream": "stdout",
       "text": [
        "\n",
        "[-0.00584795 -0.02186879 -0.02092131 -0.04779874  0.01589147 -0.20269596]"
       ]
      },
      {
       "output_type": "stream",
       "stream": "stdout",
       "text": [
        "\n",
        "[-0.00410678 -0.01590457  0.03027888  0.076       0.04330629 -0.0823679 ]"
       ]
      },
      {
       "output_type": "stream",
       "stream": "stdout",
       "text": [
        "\n",
        "[-0.00395257 -0.0610998  -0.09315895 -0.09758813  0.02535642 -0.19947981]"
       ]
      },
      {
       "output_type": "stream",
       "stream": "stdout",
       "text": [
        "\n",
        "[-0.00956023 -0.05273438 -0.14505929 -0.18875969 -0.01551724 -0.48326384]"
       ]
      },
      {
       "output_type": "stream",
       "stream": "stdout",
       "text": [
        "\n",
        "[ 0.         -0.00616016  0.05542636  0.15426357  0.09889336  0.04168108]"
       ]
      },
      {
       "output_type": "stream",
       "stream": "stdout",
       "text": [
        "\n",
        "[ 0.         -0.002079    0.07058824  0.25208748  0.11666667  0.03033684]"
       ]
      },
      {
       "output_type": "stream",
       "stream": "stdout",
       "text": [
        "\n",
        "[-0.00422833 -0.02994012 -0.04371257 -0.04854369  0.02459677 -0.14139577]"
       ]
      },
      {
       "output_type": "stream",
       "stream": "stdout",
       "text": [
        "\n",
        "[ 0.         -0.01212121  0.06435644  0.21349693  0.1957265   0.0929327 ]"
       ]
      },
      {
       "output_type": "stream",
       "stream": "stdout",
       "text": [
        "\n",
        "[ 0.         -0.01020408  0.0127789   0.04074844  0.04904762 -0.12707761]"
       ]
      },
      {
       "output_type": "stream",
       "stream": "stdout",
       "text": [
        "\n",
        "[-0.00398406 -0.02057613 -0.02340426 -0.02692308  0.02       -0.24026323]"
       ]
      },
      {
       "output_type": "stream",
       "stream": "stdout",
       "text": [
        "\n",
        "[-0.00210084 -0.02061856  0.04105691  0.09312377  0.07109375 -0.00972961]"
       ]
      },
      {
       "output_type": "stream",
       "stream": "stdout",
       "text": [
        "\n",
        "[-0.00625    -0.01632653 -0.00337972  0.00039062  0.02959184 -0.11476495]"
       ]
      },
      {
       "output_type": "stream",
       "stream": "stdout",
       "text": [
        "\n",
        "[-0.00595238 -0.05058366 -0.06872428 -0.11604938  0.01177606 -0.12810279]"
       ]
      },
      {
       "output_type": "stream",
       "stream": "stdout",
       "text": [
        "\n",
        "[ 0.         -0.01464435  0.02125984  0.11340206  0.08752456 -0.03552435]"
       ]
      },
      {
       "output_type": "stream",
       "stream": "stdout",
       "text": [
        "\n",
        "[-0.002      -0.01449275  0.04047619  0.02827869  0.06242604 -0.06818936]"
       ]
      },
      {
       "output_type": "stream",
       "stream": "stdout",
       "text": [
        "\n",
        "[-0.00206186 -0.0101833   0.0218107   0.03883495  0.07133072 -0.01282707]"
       ]
      },
      {
       "output_type": "stream",
       "stream": "stdout",
       "text": [
        "\n",
        "[ 0.         -0.00813008  0.03050193  0.11778656  0.16230159  0.04912621]"
       ]
      },
      {
       "output_type": "stream",
       "stream": "stdout",
       "text": [
        "\n",
        "[-0.00198413 -0.01626016  0.00361446  0.03614931  0.06764706 -0.02780523]"
       ]
      },
      {
       "output_type": "stream",
       "stream": "stdout",
       "text": [
        "\n",
        "[-0.00417537 -0.01782178  0.01783567  0.03522267  0.03651911 -0.02097334]"
       ]
      },
      {
       "output_type": "stream",
       "stream": "stdout",
       "text": [
        "\n",
        "[-0.00202429 -0.0242915  -0.00861423 -0.00126582  0.04202454 -0.07927959]"
       ]
      },
      {
       "output_type": "stream",
       "stream": "stdout",
       "text": [
        "\n",
        "[-0.01639344 -0.02020202  0.02978723 -0.016       0.04230769 -0.04062419]"
       ]
      },
      {
       "output_type": "stream",
       "stream": "stdout",
       "text": [
        "\n",
        "[ 0.         -0.01587302  0.04327731  0.1         0.08580247  0.04186832]"
       ]
      },
      {
       "output_type": "stream",
       "stream": "stdout",
       "text": [
        "\n",
        "[-0.00417537 -0.01821862 -0.02810707  0.03055556  0.03431373 -0.06423465]"
       ]
      },
      {
       "output_type": "stream",
       "stream": "stdout",
       "text": [
        "\n",
        "[-0.01156069 -0.04263566 -0.02645914 -0.00990099  0.062      -0.02763599]"
       ]
      },
      {
       "output_type": "stream",
       "stream": "stdout",
       "text": [
        "\n",
        "[-0.00207469 -0.01405622  0.01053678  0.05603272  0.07650602  0.0138707 ]"
       ]
      },
      {
       "output_type": "stream",
       "stream": "stdout",
       "text": [
        "\n",
        "[-0.00412371 -0.03168317  0.00890688  0.00909091  0.04631148 -0.06778925]"
       ]
      },
      {
       "output_type": "stream",
       "stream": "stdout",
       "text": [
        "\n",
        "[-0.00773694 -0.02901354  0.01446029  0.03191489  0.0527668  -0.00186192]"
       ]
      },
      {
       "output_type": "stream",
       "stream": "stdout",
       "text": [
        "\n",
        "[-0.00425532 -0.01405622  0.0049505   0.07204969  0.07449799  0.04787925]"
       ]
      },
      {
       "output_type": "stream",
       "stream": "stdout",
       "text": [
        "\n",
        "[-0.00393701 -0.01984127  0.00267176  0.00552017  0.03617234 -0.04468041]"
       ]
      },
      {
       "output_type": "stream",
       "stream": "stdout",
       "text": [
        "\n",
        "[-0.00194175 -0.01377953  0.03069307  0.06462715  0.0608742  -0.01634798]"
       ]
      },
      {
       "output_type": "stream",
       "stream": "stdout",
       "text": [
        "\n",
        "[-0.0039604  -0.041841   -0.04522822  0.01699605  0.04756098 -0.00408996]"
       ]
      },
      {
       "output_type": "stream",
       "stream": "stdout",
       "text": [
        "\n",
        "[-0.00421941 -0.0375     -0.02923729 -0.05039063  0.00510204 -0.03814041]"
       ]
      },
      {
       "output_type": "stream",
       "stream": "stdout",
       "text": [
        "\n",
        "[-0.00379507 -0.02414487  0.01538462  0.01751527  0.03380952 -0.06398149]"
       ]
      },
      {
       "output_type": "stream",
       "stream": "stdout",
       "text": [
        "\n",
        "[-0.00202429 -0.02244898 -0.01176471 -0.03178295  0.04255533 -0.02122807]"
       ]
      },
      {
       "output_type": "stream",
       "stream": "stdout",
       "text": [
        "\n",
        "[-0.00396825 -0.01821862  0.03501048  0.1030303   0.08562753 -0.01224332]"
       ]
      },
      {
       "output_type": "stream",
       "stream": "stdout",
       "text": [
        "\n",
        "[-0.00775194 -0.02729045 -0.00707071 -0.04742268  0.03298755 -0.02630702]"
       ]
      },
      {
       "output_type": "stream",
       "stream": "stdout",
       "text": [
        "\n",
        "[-0.00792079 -0.02935421 -0.0206544   0.02584746  0.05687023 -0.01991221]"
       ]
      },
      {
       "output_type": "stream",
       "stream": "stdout",
       "text": [
        "\n",
        "[-0.00795229 -0.03740157  0.00380762 -0.04932563  0.03467742 -0.02713379]"
       ]
      },
      {
       "output_type": "stream",
       "stream": "stdout",
       "text": [
        "\n",
        "[-0.00202429 -0.02970297  0.01372549  0.07115385  0.03284024 -0.0574189 ]"
       ]
      },
      {
       "output_type": "stream",
       "stream": "stdout",
       "text": [
        "\n",
        "[-0.00412371 -0.01584158  0.00060852 -0.02035225  0.06205074 -0.00693289]"
       ]
      },
      {
       "output_type": "stream",
       "stream": "stdout",
       "text": [
        "\n",
        "[-0.0060241  -0.01829268  0.00515464  0.03434343  0.05958904 -0.0081714 ]"
       ]
      },
      {
       "output_type": "stream",
       "stream": "stdout",
       "text": [
        "\n",
        "[-0.00396825 -0.03564728  0.01532258  0.01201717  0.06468813 -0.03850317]"
       ]
      },
      {
       "output_type": "stream",
       "stream": "stdout",
       "text": [
        "\n",
        "[-0.00604839 -0.02376238  0.00059642  0.02040816  0.0624498  -0.02448672]"
       ]
      },
      {
       "output_type": "stream",
       "stream": "stdout",
       "text": [
        "\n",
        "[-0.01214575 -0.02544031  0.00532544  0.05247148  0.04108911 -0.00578076]"
       ]
      },
      {
       "output_type": "stream",
       "stream": "stdout",
       "text": [
        "\n",
        "[-0.00204499 -0.03100775  0.01984733 -0.04842105  0.03757637 -0.04015332]"
       ]
      },
      {
       "output_type": "stream",
       "stream": "stdout",
       "text": [
        "\n",
        "[-0.00809717 -0.02962963 -0.00261569 -0.0012024   0.03380952 -0.01472578]"
       ]
      },
      {
       "output_type": "stream",
       "stream": "stdout",
       "text": [
        "\n",
        "[ 0.         -0.0139165   0.038       0.05117187  0.05136452 -0.0220262 ]"
       ]
      },
      {
       "output_type": "stream",
       "stream": "stdout",
       "text": [
        "\n",
        "[-0.00204918 -0.02542373  0.01666667  0.00040241  0.07909836 -0.01354939]"
       ]
      },
      {
       "output_type": "stream",
       "stream": "stdout",
       "text": [
        "\n",
        "[-0.0019802  -0.02669405 -0.03469388 -0.00114504  0.05196078 -0.01913241]"
       ]
      },
      {
       "output_type": "stream",
       "stream": "stdout",
       "text": [
        "\n",
        "[ 0.         -0.02671756 -0.00294118  0.03217054  0.07401575 -0.01383011]"
       ]
      },
      {
       "output_type": "stream",
       "stream": "stdout",
       "text": [
        "\n",
        "[-0.00613497 -0.02610442 -0.00021322  0.01005803  0.03789062 -0.0255181 ]"
       ]
      },
      {
       "output_type": "stream",
       "stream": "stdout",
       "text": [
        "\n",
        "[-0.00382409 -0.01949318  0.00060852  0.03609023  0.05891089 -0.02867262]"
       ]
      },
      {
       "output_type": "stream",
       "stream": "stdout",
       "text": [
        "\n",
        "[-0.00772201 -0.01149425  0.00057361  0.0507874   0.03893281 -0.02553695]"
       ]
      },
      {
       "output_type": "stream",
       "stream": "stdout",
       "text": [
        "\n",
        "Optimization terminated successfully.\n",
        "         Current function value: 0.002312\n",
        "         Iterations: 24\n",
        "         Function evaluations: 56\n",
        "[ 0.         -0.00814664 -0.01020408  0.00836653  0.03961303 -0.02292506]"
       ]
      },
      {
       "output_type": "stream",
       "stream": "stdout",
       "text": [
        "\n"
       ]
      },
      {
       "javascript": [
        "$('div#09e687dd-3a60-466f-9995-e1df5203ef35').width('2.13%')"
       ],
       "metadata": {},
       "output_type": "display_data",
       "text": [
        "<IPython.core.display.Javascript at 0x7f7334089110>"
       ]
      },
      {
       "output_type": "stream",
       "stream": "stdout",
       "text": [
        "[-0.00199203 -0.00965251 -0.08183633 -0.49313725  0.08255361 -0.27295262]\n",
        "[ 0.         -0.00627615 -0.05533597 -0.40719844  0.08849287 -0.27460509]"
       ]
      },
      {
       "output_type": "stream",
       "stream": "stdout",
       "text": [
        "\n",
        "[ 0.          0.         -0.02615694 -0.30580524  0.20447316 -0.01122215]"
       ]
      },
      {
       "output_type": "stream",
       "stream": "stdout",
       "text": [
        "\n",
        "[ 0.         -0.03092784 -0.10291262 -0.56122244 -0.01101365 -0.42939481]"
       ]
      },
      {
       "output_type": "stream",
       "stream": "stdout",
       "text": [
        "\n",
        "[-0.0019305  -0.00982318 -0.09343936 -0.4872549   0.02429719 -0.29670736]"
       ]
      },
      {
       "output_type": "stream",
       "stream": "stdout",
       "text": [
        "\n",
        "[-0.00798403 -0.0305499  -0.15779093 -0.63737475 -0.00116773 -0.41482839]"
       ]
      },
      {
       "output_type": "stream",
       "stream": "stdout",
       "text": [
        "\n",
        "[ 0.         -0.00401606 -0.01740812 -0.25813953  0.16518987 -0.13197018]"
       ]
      },
      {
       "output_type": "stream",
       "stream": "stdout",
       "text": [
        "\n",
        "[ 0.          0.         -0.00194175 -0.14047619  0.27921811 -0.0175194 ]"
       ]
      },
      {
       "output_type": "stream",
       "stream": "stdout",
       "text": [
        "\n",
        "[ 0.          0.         -0.00422833 -0.14047619  0.33932806  0.04304593]"
       ]
      },
      {
       "output_type": "stream",
       "stream": "stdout",
       "text": [
        "\n",
        "[ 0.          0.         -0.01204819 -0.11458333  0.34130435  0.05963045]"
       ]
      },
      {
       "output_type": "stream",
       "stream": "stdout",
       "text": [
        "\n",
        "[ 0.          0.          0.         -0.03167331  0.53044807  0.1783981 ]"
       ]
      },
      {
       "output_type": "stream",
       "stream": "stdout",
       "text": [
        "\n",
        "[ 0.          0.         -0.00399202 -0.11161616  0.35792079  0.07224476]"
       ]
      },
      {
       "output_type": "stream",
       "stream": "stdout",
       "text": [
        "\n",
        "[ 0.          0.          0.         -0.00487805  0.61666667  0.25378439]"
       ]
      },
      {
       "output_type": "stream",
       "stream": "stdout",
       "text": [
        "\n",
        "[ 0.          0.         -0.01659751 -0.27924335  0.188      -0.11442998]"
       ]
      },
      {
       "output_type": "stream",
       "stream": "stdout",
       "text": [
        "\n",
        "[ 0.         -0.00580271 -0.015625   -0.29423077  0.18185484 -0.08899316]"
       ]
      },
      {
       "output_type": "stream",
       "stream": "stdout",
       "text": [
        "\n",
        "[ 0.          0.         -0.01871102 -0.29046693  0.16298174 -0.1361873 ]"
       ]
      },
      {
       "output_type": "stream",
       "stream": "stdout",
       "text": [
        "\n",
        "[ 0.          0.         -0.00197239 -0.14681909  0.25478088 -0.0738192 ]"
       ]
      },
      {
       "output_type": "stream",
       "stream": "stdout",
       "text": [
        "\n",
        "[ 0.          0.          0.         -0.08438735  0.30569106 -0.10966248]"
       ]
      },
      {
       "output_type": "stream",
       "stream": "stdout",
       "text": [
        "\n",
        "[ 0.          0.         -0.02615694 -0.34130435  0.09342629 -0.25351665]"
       ]
      },
      {
       "output_type": "stream",
       "stream": "stdout",
       "text": [
        "\n",
        "[ 0.         -0.00206186 -0.00419287 -0.17779923  0.26034483  0.00801977]"
       ]
      },
      {
       "output_type": "stream",
       "stream": "stdout",
       "text": [
        "\n",
        "[ 0.          0.         -0.00590551 -0.13275154  0.35778689 -0.01973379]"
       ]
      },
      {
       "output_type": "stream",
       "stream": "stdout",
       "text": [
        "\n",
        "[ 0.          0.         -0.01408451 -0.22944112  0.1765625  -0.09417438]"
       ]
      },
      {
       "output_type": "stream",
       "stream": "stdout",
       "text": [
        "\n",
        "[ 0.          0.         -0.00190114 -0.12303823  0.27854209 -0.02692163]"
       ]
      },
      {
       "output_type": "stream",
       "stream": "stdout",
       "text": [
        "\n",
        "[ 0.          0.         -0.00188679 -0.05196078  0.35039448  0.02247827]"
       ]
      },
      {
       "output_type": "stream",
       "stream": "stdout",
       "text": [
        "\n",
        "[-0.00202429 -0.00194553 -0.00590551 -0.11833667  0.30234216 -0.01261889]"
       ]
      },
      {
       "output_type": "stream",
       "stream": "stdout",
       "text": [
        "\n",
        "[ 0.          0.         -0.01072961 -0.24678639  0.23429423 -0.07005154]"
       ]
      },
      {
       "output_type": "stream",
       "stream": "stdout",
       "text": [
        "\n",
        "[ 0.          0.         -0.00385356 -0.10643564  0.23719008 -0.01285862]"
       ]
      },
      {
       "output_type": "stream",
       "stream": "stdout",
       "text": [
        "\n",
        "[ 0.          0.         -0.00609756 -0.12907445  0.26212724 -0.09648706]"
       ]
      },
      {
       "output_type": "stream",
       "stream": "stdout",
       "text": [
        "\n",
        "[ 0.          0.         -0.00994036 -0.17874494  0.27352941 -0.11068804]"
       ]
      },
      {
       "output_type": "stream",
       "stream": "stdout",
       "text": [
        "\n",
        "[ 0.          0.         -0.008      -0.128       0.28200795 -0.03851204]"
       ]
      },
      {
       "output_type": "stream",
       "stream": "stdout",
       "text": [
        "\n",
        "[-0.00211416  0.         -0.00614754 -0.18284823  0.24158111 -0.08854189]"
       ]
      },
      {
       "output_type": "stream",
       "stream": "stdout",
       "text": [
        "\n",
        "[ 0.          0.         -0.00967118 -0.167119    0.26021195 -0.05434813]"
       ]
      },
      {
       "output_type": "stream",
       "stream": "stdout",
       "text": [
        "\n",
        "[ 0.          0.         -0.00555556 -0.10520629  0.27377049 -0.05906725]"
       ]
      },
      {
       "output_type": "stream",
       "stream": "stdout",
       "text": [
        "\n",
        "[ 0.          0.         -0.012      -0.19163569  0.24273504 -0.04218085]"
       ]
      },
      {
       "output_type": "stream",
       "stream": "stdout",
       "text": [
        "\n",
        "[-0.00201207  0.         -0.00198807 -0.13442623  0.29914611 -0.03246955]"
       ]
      },
      {
       "output_type": "stream",
       "stream": "stdout",
       "text": [
        "\n",
        "[ 0.         -0.002      -0.00399202 -0.15080321  0.29860558 -0.05827928]"
       ]
      },
      {
       "output_type": "stream",
       "stream": "stdout",
       "text": [
        "\n",
        "[ 0.          0.         -0.00417537 -0.13930041  0.27734531 -0.02371966]"
       ]
      },
      {
       "output_type": "stream",
       "stream": "stdout",
       "text": [
        "\n",
        "[ 0.          0.         -0.00426439 -0.17177419  0.29243697 -0.0326175 ]"
       ]
      },
      {
       "output_type": "stream",
       "stream": "stdout",
       "text": [
        "\n",
        "[ 0.          0.         -0.00389864 -0.17200772  0.23682171 -0.05169559]"
       ]
      },
      {
       "output_type": "stream",
       "stream": "stdout",
       "text": [
        "\n",
        "[ 0.         -0.00202429 -0.00632911 -0.18353293  0.27291667 -0.07238894]"
       ]
      },
      {
       "output_type": "stream",
       "stream": "stdout",
       "text": [
        "\n",
        "[ 0.         -0.00211864 -0.0059761  -0.14348269  0.23744939 -0.0420762 ]"
       ]
      },
      {
       "output_type": "stream",
       "stream": "stdout",
       "text": [
        "\n",
        "[ 0.          0.          0.         -0.07523719  0.32525355 -0.01197649]"
       ]
      },
      {
       "output_type": "stream",
       "stream": "stdout",
       "text": [
        "\n",
        "[ 0.          0.         -0.00608519 -0.16606119  0.24158513 -0.04812014]"
       ]
      },
      {
       "output_type": "stream",
       "stream": "stdout",
       "text": [
        "\n",
        "Optimization terminated successfully.\n",
        "         Current function value: 0.067768\n",
        "         Iterations: 20\n",
        "         Function evaluations: 43\n",
        "[ 0.          0.         -0.00619835 -0.10714286  0.26349206 -0.0230426 ]"
       ]
      },
      {
       "output_type": "stream",
       "stream": "stdout",
       "text": [
        "\n"
       ]
      },
      {
       "javascript": [
        "$('div#09e687dd-3a60-466f-9995-e1df5203ef35').width('4.26%')"
       ],
       "metadata": {},
       "output_type": "display_data",
       "text": [
        "<IPython.core.display.Javascript at 0x7f7334040ad0>"
       ]
      },
      {
       "output_type": "stream",
       "stream": "stdout",
       "text": [
        "[-0.00212766 -0.0059761   0.08474088  0.29834711  0.06309524  0.27563425]\n",
        "[-0.00407332 -0.02028398  0.09949495  0.34699399  0.10020576  0.28197365]"
       ]
      },
      {
       "output_type": "stream",
       "stream": "stdout",
       "text": [
        "\n",
        "[ 0.         -0.00185529  0.12535934  0.50931864  0.20204918  0.55145586]"
       ]
      },
      {
       "output_type": "stream",
       "stream": "stdout",
       "text": [
        "\n",
        "[-0.00804829 -0.01547389  0.04662028  0.19126984  0.00749487  0.14229108]"
       ]
      },
      {
       "output_type": "stream",
       "stream": "stdout",
       "text": [
        "\n",
        "[-0.00199601 -0.01192843  0.08181818  0.32227533  0.08253012  0.27893396]"
       ]
      },
      {
       "output_type": "stream",
       "stream": "stdout",
       "text": [
        "\n",
        "[-0.00193424 -0.06160164 -0.04096509  0.11680244  0.01639839  0.16227497]"
       ]
      },
      {
       "output_type": "stream",
       "stream": "stdout",
       "text": [
        "\n",
        "[-0.02235772 -0.08179959 -0.09744376  0.06052632 -0.03383838 -0.14606155]"
       ]
      },
      {
       "output_type": "stream",
       "stream": "stdout",
       "text": [
        "\n",
        "[-0.04347826 -0.19123506 -0.3610664  -0.08617021 -0.04616858 -0.50771918]"
       ]
      },
      {
       "output_type": "stream",
       "stream": "stdout",
       "text": [
        "\n",
        "[-0.01746725 -0.06444906 -0.07413793  0.08828125 -0.01928983  0.00951875]"
       ]
      },
      {
       "output_type": "stream",
       "stream": "stdout",
       "text": [
        "\n",
        "[-0.04191617 -0.1507431  -0.28877551 -0.00992218 -0.03945148 -0.14062054]"
       ]
      },
      {
       "output_type": "stream",
       "stream": "stdout",
       "text": [
        "\n",
        "[-0.01584158 -0.08251473 -0.12087576  0.03631179 -0.03027613 -0.10805969]"
       ]
      },
      {
       "output_type": "stream",
       "stream": "stdout",
       "text": [
        "\n",
        "[-0.03100775 -0.1476378  -0.28319838 -0.05534979 -0.03643411 -0.26281751]"
       ]
      },
      {
       "output_type": "stream",
       "stream": "stdout",
       "text": [
        "\n",
        "[ 0.         -0.02053388 -0.00071283  0.1750478   0.04213052  0.14762365]"
       ]
      },
      {
       "output_type": "stream",
       "stream": "stdout",
       "text": [
        "\n",
        "[-0.02830189 -0.11560694 -0.20510204  0.01731518 -0.03380567 -0.1395305 ]"
       ]
      },
      {
       "output_type": "stream",
       "stream": "stdout",
       "text": [
        "\n",
        "[ 0.         -0.03180915 -0.02012448  0.12066116  0.00426357  0.07608108]"
       ]
      },
      {
       "output_type": "stream",
       "stream": "stdout",
       "text": [
        "\n",
        "[-0.02901354 -0.09958506 -0.14821074 -0.02047619 -0.03249027 -0.16342031]"
       ]
      },
      {
       "output_type": "stream",
       "stream": "stdout",
       "text": [
        "\n",
        "[-0.0075188  -0.04347826  0.00214008  0.13486056 -0.01259843  0.07624456]"
       ]
      },
      {
       "output_type": "stream",
       "stream": "stdout",
       "text": [
        "\n",
        "[-0.01149425 -0.06936416 -0.12364185  0.002      -0.03181818 -0.19219816]"
       ]
      },
      {
       "output_type": "stream",
       "stream": "stdout",
       "text": [
        "\n",
        "[-0.00585938 -0.04448743 -0.04175258  0.10447316  0.00378486  0.06851938]"
       ]
      },
      {
       "output_type": "stream",
       "stream": "stdout",
       "text": [
        "\n",
        "[-0.00431965 -0.04303279 -0.01634051  0.12808471 -0.01923077  0.19064814]"
       ]
      },
      {
       "output_type": "stream",
       "stream": "stdout",
       "text": [
        "\n",
        "[-0.01185771 -0.04391218 -0.06782178  0.0685567  -0.03050682 -0.05739487]"
       ]
      },
      {
       "output_type": "stream",
       "stream": "stdout",
       "text": [
        "\n",
        "[-0.00394477 -0.02811245  0.04285714  0.18        0.02293666  0.17660328]"
       ]
      },
      {
       "output_type": "stream",
       "stream": "stdout",
       "text": [
        "\n",
        "[-0.00988142 -0.07269155 -0.06936759  0.05486815 -0.01254682 -0.04049065]"
       ]
      },
      {
       "output_type": "stream",
       "stream": "stdout",
       "text": [
        "\n",
        "[-0.01394422 -0.06540084 -0.09550898  0.0496008  -0.02773279 -0.04147103]"
       ]
      },
      {
       "output_type": "stream",
       "stream": "stdout",
       "text": [
        "\n",
        "[-0.01188119 -0.10192308 -0.16346154  0.06247563 -0.04032882 -0.11479709]"
       ]
      },
      {
       "output_type": "stream",
       "stream": "stdout",
       "text": [
        "\n",
        "[-0.00389864 -0.04339623 -0.04009901  0.1097137  -0.02565923  0.03974358]"
       ]
      },
      {
       "output_type": "stream",
       "stream": "stdout",
       "text": [
        "\n",
        "[-0.02186879 -0.06949807 -0.15371901  0.04262295 -0.02281553 -0.12022677]"
       ]
      },
      {
       "output_type": "stream",
       "stream": "stdout",
       "text": [
        "\n",
        "[-0.01176471 -0.05870445 -0.03181818  0.11611227 -0.00625     0.01762516]"
       ]
      },
      {
       "output_type": "stream",
       "stream": "stdout",
       "text": [
        "\n",
        "[-0.01646091 -0.04791667 -0.03016194  0.13431373 -0.00047619  0.02743156]"
       ]
      },
      {
       "output_type": "stream",
       "stream": "stdout",
       "text": [
        "\n",
        "[-0.01616162 -0.05833333 -0.09703557  0.04791667 -0.01774194 -0.02991041]"
       ]
      },
      {
       "output_type": "stream",
       "stream": "stdout",
       "text": [
        "\n",
        "[-0.0167364  -0.0655106  -0.08421589  0.04246032 -0.02297297 -0.0523592 ]"
       ]
      },
      {
       "output_type": "stream",
       "stream": "stdout",
       "text": [
        "\n",
        "[-0.0040404  -0.05253283 -0.05570265  0.115625   -0.02205589 -0.04734038]"
       ]
      },
      {
       "output_type": "stream",
       "stream": "stdout",
       "text": [
        "\n",
        "[-0.01616162 -0.05162524 -0.09949698  0.06011673 -0.01289425 -0.02697314]"
       ]
      },
      {
       "output_type": "stream",
       "stream": "stdout",
       "text": [
        "\n",
        "[-0.00604839 -0.0831643  -0.15783939  0.018357   -0.03661568 -0.11303839]"
       ]
      },
      {
       "output_type": "stream",
       "stream": "stdout",
       "text": [
        "\n",
        "[-0.01803607 -0.0417495  -0.06263158  0.05668058 -0.02089397 -0.00734267]"
       ]
      },
      {
       "output_type": "stream",
       "stream": "stdout",
       "text": [
        "\n",
        "[-0.01234568 -0.05697446 -0.06285141  0.07093023 -0.02076023 -0.0417464 ]"
       ]
      },
      {
       "output_type": "stream",
       "stream": "stdout",
       "text": [
        "\n",
        "[-0.01632653 -0.05664062 -0.06370968  0.1101626  -0.00857988 -0.01430593]"
       ]
      },
      {
       "output_type": "stream",
       "stream": "stdout",
       "text": [
        "\n",
        "[-0.01606426 -0.0696325  -0.084       0.07727273 -0.00940959 -0.05394778]"
       ]
      },
      {
       "output_type": "stream",
       "stream": "stdout",
       "text": [
        "\n",
        "[-0.01185771 -0.05942623 -0.09596774  0.05907298 -0.02565923 -0.03316366]"
       ]
      },
      {
       "output_type": "stream",
       "stream": "stdout",
       "text": [
        "\n",
        "[-0.02886598 -0.06048387 -0.04960861  0.06936759 -0.02470817 -0.01466376]"
       ]
      },
      {
       "output_type": "stream",
       "stream": "stdout",
       "text": [
        "\n",
        "[-0.01449275 -0.06628788 -0.06267894  0.11789366  0.00753968 -0.03032823]"
       ]
      },
      {
       "output_type": "stream",
       "stream": "stdout",
       "text": [
        "\n",
        "[-0.01340996 -0.05811623 -0.08481781  0.07132797 -0.03085106 -0.03753739]"
       ]
      },
      {
       "output_type": "stream",
       "stream": "stdout",
       "text": [
        "\n",
        "[-0.00742115 -0.0511811  -0.08274162  0.06206226 -0.03065764 -0.01373049]"
       ]
      },
      {
       "output_type": "stream",
       "stream": "stdout",
       "text": [
        "\n",
        "Optimization terminated successfully.\n",
        "         Current function value: 0.009694\n",
        "         Iterations: 19\n",
        "         Function evaluations: 43\n",
        "[-0.01825558 -0.0698152  -0.05939335  0.09342105 -0.01470588 -0.00276615]"
       ]
      },
      {
       "output_type": "stream",
       "stream": "stdout",
       "text": [
        "\n"
       ]
      },
      {
       "javascript": [
        "$('div#09e687dd-3a60-466f-9995-e1df5203ef35').width('6.38%')"
       ],
       "metadata": {},
       "output_type": "display_data",
       "text": [
        "<IPython.core.display.Javascript at 0x7f73341ce650>"
       ]
      },
      {
       "output_type": "stream",
       "stream": "stdout",
       "text": [
        "[-0.00380952 -0.01619433 -0.05780347 -0.38195876 -0.06750503 -0.27412342]\n",
        "[-0.00193798 -0.01659751 -0.06512605 -0.31868687 -0.02142857 -0.28339999]"
       ]
      },
      {
       "output_type": "stream",
       "stream": "stdout",
       "text": [
        "\n",
        "[ 0.          0.         -0.03250478 -0.22548638  0.11692456 -0.02348612]"
       ]
      },
      {
       "output_type": "stream",
       "stream": "stdout",
       "text": [
        "\n",
        "[ 0.         -0.02713178 -0.13877551 -0.52729084 -0.10454545 -0.43061512]"
       ]
      },
      {
       "output_type": "stream",
       "stream": "stdout",
       "text": [
        "\n",
        "[ 0.         -0.01541426 -0.06666667 -0.40443548 -0.03514851 -0.28490926]"
       ]
      },
      {
       "output_type": "stream",
       "stream": "stdout",
       "text": [
        "\n",
        "[-0.00784314 -0.0473251  -0.17082534 -0.52806841 -0.08346774 -0.40507112]"
       ]
      },
      {
       "output_type": "stream",
       "stream": "stdout",
       "text": [
        "\n",
        "[-0.00383877 -0.01030928 -0.03018109 -0.2110586   0.06102662 -0.08642623]"
       ]
      },
      {
       "output_type": "stream",
       "stream": "stdout",
       "text": [
        "\n",
        "[ 0.         -0.00421053 -0.01550388 -0.09897959  0.25938166  0.03885856]"
       ]
      },
      {
       "output_type": "stream",
       "stream": "stdout",
       "text": [
        "\n",
        "[ 0.          0.         -0.01212121 -0.10702811  0.17038835  0.01242745]"
       ]
      },
      {
       "output_type": "stream",
       "stream": "stdout",
       "text": [
        "\n",
        "[ 0.          0.          0.          0.046       0.40405405  0.13079259]"
       ]
      },
      {
       "output_type": "stream",
       "stream": "stdout",
       "text": [
        "\n",
        "[ 0.          0.         -0.01734104 -0.0778481   0.18648393  0.01057937]"
       ]
      },
      {
       "output_type": "stream",
       "stream": "stdout",
       "text": [
        "\n",
        "[ 0.          0.         -0.0019685  -0.00320911  0.28991853  0.12316384]"
       ]
      },
      {
       "output_type": "stream",
       "stream": "stdout",
       "text": [
        "\n",
        "[-0.00205761  0.         -0.00819672  0.00685072  0.458       0.21030242]"
       ]
      },
      {
       "output_type": "stream",
       "stream": "stdout",
       "text": [
        "\n",
        "[-0.00194553 -0.00410678 -0.027833   -0.18820459  0.07178218 -0.1215645 ]"
       ]
      },
      {
       "output_type": "stream",
       "stream": "stdout",
       "text": [
        "\n",
        "[ 0.         -0.01202405 -0.05050505 -0.32232472 -0.00773196 -0.20509784]"
       ]
      },
      {
       "output_type": "stream",
       "stream": "stdout",
       "text": [
        "\n",
        "[ 0.          0.         -0.00411523 -0.11285714  0.20849057  0.03880209]"
       ]
      },
      {
       "output_type": "stream",
       "stream": "stdout",
       "text": [
        "\n",
        "[ 0.         -0.00214592 -0.01512287 -0.06904762  0.18401639 -0.0497182 ]"
       ]
      },
      {
       "output_type": "stream",
       "stream": "stdout",
       "text": [
        "\n",
        "[ 0.         -0.00821355 -0.01886792 -0.2113963   0.06247563 -0.13631261]"
       ]
      },
      {
       "output_type": "stream",
       "stream": "stdout",
       "text": [
        "\n",
        "[ 0.         -0.00396825 -0.01002004 -0.09254473  0.16147541  0.00735781]"
       ]
      },
      {
       "output_type": "stream",
       "stream": "stdout",
       "text": [
        "\n",
        "[ 0.          0.         -0.00204082 -0.02681729  0.20437882  0.01180196]"
       ]
      },
      {
       "output_type": "stream",
       "stream": "stdout",
       "text": [
        "\n",
        "[ 0.          0.         -0.00402414  0.0097561   0.36730769  0.10559823]"
       ]
      },
      {
       "output_type": "stream",
       "stream": "stdout",
       "text": [
        "\n",
        "[ 0.         -0.0019802  -0.01894737 -0.12362205  0.13427419 -0.07153335]"
       ]
      },
      {
       "output_type": "stream",
       "stream": "stdout",
       "text": [
        "\n",
        "[ 0.         -0.00200401 -0.03696498 -0.18078394  0.09756335 -0.05066147]"
       ]
      },
      {
       "output_type": "stream",
       "stream": "stdout",
       "text": [
        "\n",
        "[ 0.          0.         -0.00601202 -0.04238095  0.17459677  0.01729828]"
       ]
      },
      {
       "output_type": "stream",
       "stream": "stdout",
       "text": [
        "\n",
        "[ 0.         -0.00204499 -0.02357564 -0.1199784   0.12959184  0.01474097]"
       ]
      },
      {
       "output_type": "stream",
       "stream": "stdout",
       "text": [
        "\n",
        "[ 0.          0.         -0.00959693 -0.10636008  0.10581395  0.04863612]"
       ]
      },
      {
       "output_type": "stream",
       "stream": "stdout",
       "text": [
        "\n",
        "[ 0.         -0.00408163 -0.01639344 -0.06443299  0.132      -0.0225429 ]"
       ]
      },
      {
       "output_type": "stream",
       "stream": "stdout",
       "text": [
        "\n",
        "[ 0.          0.         -0.00643777 -0.10426945  0.1290224  -0.0429546 ]"
       ]
      },
      {
       "output_type": "stream",
       "stream": "stdout",
       "text": [
        "\n",
        "[-0.002079    0.         -0.01890756 -0.16019523  0.12613412  0.00218353]"
       ]
      },
      {
       "output_type": "stream",
       "stream": "stdout",
       "text": [
        "\n",
        "[ 0.         -0.00200401 -0.01022495 -0.10851703  0.14479769 -0.02031389]"
       ]
      },
      {
       "output_type": "stream",
       "stream": "stdout",
       "text": [
        "\n",
        "[ 0.          0.         -0.00394477 -0.06489362  0.20687023  0.07477822]"
       ]
      },
      {
       "output_type": "stream",
       "stream": "stdout",
       "text": [
        "\n",
        "[ 0.          0.         -0.00796813 -0.126       0.16630648 -0.0359536 ]"
       ]
      },
      {
       "output_type": "stream",
       "stream": "stdout",
       "text": [
        "\n",
        "[ 0.         -0.00202429 -0.01632653 -0.13282828  0.1326087   0.01176457]"
       ]
      },
      {
       "output_type": "stream",
       "stream": "stdout",
       "text": [
        "\n",
        "[ 0.         -0.00417537 -0.00795229 -0.07427984  0.13861789 -0.00847469]"
       ]
      },
      {
       "output_type": "stream",
       "stream": "stdout",
       "text": [
        "\n",
        "[ 0.          0.         -0.01960784 -0.09346076  0.18005894 -0.00384021]"
       ]
      },
      {
       "output_type": "stream",
       "stream": "stdout",
       "text": [
        "\n",
        "[ 0.          0.         -0.0139165  -0.08865878  0.10557809 -0.02015122]"
       ]
      },
      {
       "output_type": "stream",
       "stream": "stdout",
       "text": [
        "\n",
        "[ 0.         -0.0039604  -0.01635992 -0.13515625  0.15081301 -0.03876897]"
       ]
      },
      {
       "output_type": "stream",
       "stream": "stdout",
       "text": [
        "\n",
        "[ 0.         -0.00203252 -0.01380671 -0.07077922  0.20440613  0.03214837]"
       ]
      },
      {
       "output_type": "stream",
       "stream": "stdout",
       "text": [
        "\n",
        "[ 0.         -0.00414079 -0.01212121 -0.09900398  0.13455285 -0.0222912 ]"
       ]
      },
      {
       "output_type": "stream",
       "stream": "stdout",
       "text": [
        "\n",
        "[ 0.         -0.00189036 -0.01214575 -0.104       0.16836735 -0.01772893]"
       ]
      },
      {
       "output_type": "stream",
       "stream": "stdout",
       "text": [
        "\n",
        "[ 0.          0.         -0.01434426 -0.11122449  0.12238095 -0.00124783]"
       ]
      },
      {
       "output_type": "stream",
       "stream": "stdout",
       "text": [
        "\n",
        "[ 0.          0.         -0.00835073 -0.11388889  0.15278884 -0.06689673]"
       ]
      },
      {
       "output_type": "stream",
       "stream": "stdout",
       "text": [
        "\n",
        "[ 0.         -0.00604839 -0.01992032 -0.11446281  0.16568228  0.01723292]"
       ]
      },
      {
       "output_type": "stream",
       "stream": "stdout",
       "text": [
        "\n",
        "[ 0.          0.         -0.01629328 -0.13378378  0.13922495 -0.0067307 ]"
       ]
      },
      {
       "output_type": "stream",
       "stream": "stdout",
       "text": [
        "\n",
        "[-0.00203666  0.         -0.01026694 -0.0834004   0.16325301  0.00046305]"
       ]
      },
      {
       "output_type": "stream",
       "stream": "stdout",
       "text": [
        "\n",
        "[ 0.          0.         -0.00607287 -0.14831933  0.20496183 -0.0035014 ]"
       ]
      },
      {
       "output_type": "stream",
       "stream": "stdout",
       "text": [
        "\n",
        "[ 0.         -0.00208768 -0.01612903 -0.10730994  0.194294   -0.01235205]"
       ]
      },
      {
       "output_type": "stream",
       "stream": "stdout",
       "text": [
        "\n",
        "[ 0.         -0.0020284  -0.01616162 -0.11175869  0.16416838 -0.00921308]"
       ]
      },
      {
       "output_type": "stream",
       "stream": "stdout",
       "text": [
        "\n",
        "[ 0.         -0.00214133 -0.01489758 -0.12831094  0.13313253 -0.02168916]"
       ]
      },
      {
       "output_type": "stream",
       "stream": "stdout",
       "text": [
        "\n",
        "[ 0.          0.         -0.01346154 -0.09950495  0.17727273  0.01488265]"
       ]
      },
      {
       "output_type": "stream",
       "stream": "stdout",
       "text": [
        "\n",
        "[ 0.         -0.00203252 -0.00581395 -0.08540856  0.12944112 -0.00358299]"
       ]
      },
      {
       "output_type": "stream",
       "stream": "stdout",
       "text": [
        "\n",
        "[ 0.          0.         -0.00813008 -0.1086558   0.14434698 -0.0172273 ]"
       ]
      },
      {
       "output_type": "stream",
       "stream": "stdout",
       "text": [
        "\n",
        "[ 0.          0.         -0.00598802 -0.09074074  0.19913793 -0.00701916]"
       ]
      },
      {
       "output_type": "stream",
       "stream": "stdout",
       "text": [
        "\n",
        "[ 0.         -0.0021322  -0.01727447 -0.09744376  0.14531568  0.00229307]"
       ]
      },
      {
       "output_type": "stream",
       "stream": "stdout",
       "text": [
        "\n",
        "[-0.00184162 -0.00198807 -0.01705757 -0.10941423  0.13600406 -0.01780758]"
       ]
      },
      {
       "output_type": "stream",
       "stream": "stdout",
       "text": [
        "\n",
        "[ 0.          0.         -0.01367188 -0.13087649  0.19004024 -0.01516654]"
       ]
      },
      {
       "output_type": "stream",
       "stream": "stdout",
       "text": [
        "\n",
        "[ 0.          0.         -0.01197605 -0.09385246  0.15842912  0.00597939]"
       ]
      },
      {
       "output_type": "stream",
       "stream": "stdout",
       "text": [
        "\n",
        "[ 0.          0.         -0.02357564 -0.10651303  0.13601695 -0.0214838 ]"
       ]
      },
      {
       "output_type": "stream",
       "stream": "stdout",
       "text": [
        "\n",
        "[ 0.         -0.00403226 -0.01422764 -0.1111336   0.15426357 -0.01112824]"
       ]
      },
      {
       "output_type": "stream",
       "stream": "stdout",
       "text": [
        "\n",
        "[ 0.         -0.00410678 -0.0218254  -0.1245098   0.1483871  -0.03065998]"
       ]
      },
      {
       "output_type": "stream",
       "stream": "stdout",
       "text": [
        "\n",
        "[ 0.         -0.00395257 -0.00590551 -0.10896414  0.15555556 -0.01394702]"
       ]
      },
      {
       "output_type": "stream",
       "stream": "stdout",
       "text": [
        "\n",
        "[ 0.         -0.00199203 -0.0105042  -0.09058577  0.16863727 -0.00480217]"
       ]
      },
      {
       "output_type": "stream",
       "stream": "stdout",
       "text": [
        "\n",
        "Optimization terminated successfully.\n",
        "         Current function value: 0.019607\n",
        "         Iterations: 25\n",
        "         Function evaluations: 62\n",
        "[ 0.         -0.00198807 -0.01335878 -0.14979879  0.16663327 -0.02173697]"
       ]
      },
      {
       "output_type": "stream",
       "stream": "stdout",
       "text": [
        "\n"
       ]
      },
      {
       "javascript": [
        "$('div#09e687dd-3a60-466f-9995-e1df5203ef35').width('8.51%')"
       ],
       "metadata": {},
       "output_type": "display_data",
       "text": [
        "<IPython.core.display.Javascript at 0x7f73340c6610>"
       ]
      },
      {
       "output_type": "stream",
       "stream": "stdout",
       "text": [
        "[-0.00831601 -0.02040816  0.00725806  0.05816327 -0.08247012 -0.1189074 ]\n",
        "[ 0.         -0.00195695  0.06130346  0.076      -0.06337761 -0.12838312]"
       ]
      },
      {
       "output_type": "stream",
       "stream": "stdout",
       "text": [
        "\n",
        "[-0.002       0.          0.06819085  0.20368852  0.062       0.13310654]"
       ]
      },
      {
       "output_type": "stream",
       "stream": "stdout",
       "text": [
        "\n",
        "[-0.00392157 -0.02429907 -0.02851406 -0.08293651 -0.1500998  -0.27752784]"
       ]
      },
      {
       "output_type": "stream",
       "stream": "stdout",
       "text": [
        "\n",
        "[ 0.         -0.01386139  0.00854871  0.01277666 -0.10215264 -0.12331587]"
       ]
      },
      {
       "output_type": "stream",
       "stream": "stdout",
       "text": [
        "\n",
        "[-0.01068376 -0.0562249  -0.06500994 -0.1563655  -0.14683027 -0.25207467]"
       ]
      },
      {
       "output_type": "stream",
       "stream": "stdout",
       "text": [
        "\n",
        "[ 0.          0.          0.09034749  0.19811133  0.03352166  0.05747754]"
       ]
      },
      {
       "output_type": "stream",
       "stream": "stdout",
       "text": [
        "\n",
        "[ 0.         -0.00199203  0.08565574  0.3094697   0.148659    0.17888175]"
       ]
      },
      {
       "output_type": "stream",
       "stream": "stdout",
       "text": [
        "\n",
        "[-0.00803213 -0.00970874  0.02929293 -0.02053942 -0.07007874 -0.14577322]"
       ]
      },
      {
       "output_type": "stream",
       "stream": "stdout",
       "text": [
        "\n",
        "[-0.00197239 -0.01004016 -0.02474849 -0.09403292 -0.12063492 -0.36621561]"
       ]
      },
      {
       "output_type": "stream",
       "stream": "stdout",
       "text": [
        "\n",
        "[ 0.         -0.00965251  0.06421471  0.13835341 -0.02129278  0.03962656]"
       ]
      },
      {
       "output_type": "stream",
       "stream": "stdout",
       "text": [
        "\n",
        "[-0.00414079 -0.04517454 -0.02326044 -0.09285714 -0.13220339 -0.25855547]"
       ]
      },
      {
       "output_type": "stream",
       "stream": "stdout",
       "text": [
        "\n",
        "[-0.0019685  -0.01048218  0.0765625   0.16969112 -0.02270916 -0.01289412]"
       ]
      },
      {
       "output_type": "stream",
       "stream": "stdout",
       "text": [
        "\n",
        "[-0.00823045 -0.02723735  0.         -0.07677485 -0.10818363 -0.17780657]"
       ]
      },
      {
       "output_type": "stream",
       "stream": "stdout",
       "text": [
        "\n",
        "[ 0.         -0.01054852  0.05490196  0.05775194 -0.06070686 -0.04646758]"
       ]
      },
      {
       "output_type": "stream",
       "stream": "stdout",
       "text": [
        "\n",
        "[-0.00194932 -0.0248566   0.03385214  0.03170732 -0.09211618 -0.04426957]"
       ]
      },
      {
       "output_type": "stream",
       "stream": "stdout",
       "text": [
        "\n",
        "[ 0.         -0.01010101  0.03762575  0.10247525 -0.00149813  0.01394896]"
       ]
      },
      {
       "output_type": "stream",
       "stream": "stdout",
       "text": [
        "\n",
        "[-0.00393701 -0.00407332  0.053125    0.19621677  0.03590814  0.08367764]"
       ]
      },
      {
       "output_type": "stream",
       "stream": "stdout",
       "text": [
        "\n",
        "[-0.0020284  -0.00384615  0.06130346  0.16100196  0.004       0.06441487]"
       ]
      },
      {
       "output_type": "stream",
       "stream": "stdout",
       "text": [
        "\n",
        "[ 0.         -0.00840336  0.04422311  0.03268839 -0.08793103 -0.08710053]"
       ]
      },
      {
       "output_type": "stream",
       "stream": "stdout",
       "text": [
        "\n",
        "[-0.00382409 -0.02890173  0.01028037 -0.00959596 -0.07866928 -0.14810651]"
       ]
      },
      {
       "output_type": "stream",
       "stream": "stdout",
       "text": [
        "\n",
        "[ 0.         -0.01008065  0.02943548  0.13812261 -0.03556405 -0.02147948]"
       ]
      },
      {
       "output_type": "stream",
       "stream": "stdout",
       "text": [
        "\n",
        "[ 0.         -0.0019802   0.05        0.15665362 -0.02765531  0.05049061]"
       ]
      },
      {
       "output_type": "stream",
       "stream": "stdout",
       "text": [
        "\n",
        "[-0.00200401 -0.016       0.05228628  0.04392713 -0.06627907 -0.06770354]"
       ]
      },
      {
       "output_type": "stream",
       "stream": "stdout",
       "text": [
        "\n",
        "[-0.00204918 -0.01526718  0.02985972  0.03046875 -0.06973948 -0.10073136]"
       ]
      },
      {
       "output_type": "stream",
       "stream": "stdout",
       "text": [
        "\n",
        "[ 0.         -0.00769231  0.05        0.05       -0.04329897 -0.01318481]"
       ]
      },
      {
       "output_type": "stream",
       "stream": "stdout",
       "text": [
        "\n",
        "[ 0.         -0.00819672  0.07457627  0.08280318 -0.016       0.0165744 ]"
       ]
      },
      {
       "output_type": "stream",
       "stream": "stdout",
       "text": [
        "\n",
        "[ 0.         -0.00200803  0.05499022  0.12594937 -0.06638831  0.00825365]"
       ]
      },
      {
       "output_type": "stream",
       "stream": "stdout",
       "text": [
        "\n",
        "[ 0.         -0.01030928  0.04129555  0.11487026 -0.07649402 -0.06197785]"
       ]
      },
      {
       "output_type": "stream",
       "stream": "stdout",
       "text": [
        "\n",
        "[ 0.         -0.0101833   0.05009597  0.11164384 -0.02936508  0.00178671]"
       ]
      },
      {
       "output_type": "stream",
       "stream": "stdout",
       "text": [
        "\n",
        "[ 0.         -0.01217039  0.04780793  0.07620545 -0.0540305  -0.05005491]"
       ]
      },
      {
       "output_type": "stream",
       "stream": "stdout",
       "text": [
        "\n",
        "[ 0.         -0.02173913  0.03158954  0.08212851 -0.07380497 -0.03935551]"
       ]
      },
      {
       "output_type": "stream",
       "stream": "stdout",
       "text": [
        "\n",
        "[ 0.         -0.01584158  0.04026975  0.07818372 -0.06558045 -0.05106093]"
       ]
      },
      {
       "output_type": "stream",
       "stream": "stdout",
       "text": [
        "\n",
        "[ 0.         -0.01156069  0.03816631  0.08009709 -0.05245902 -0.05375076]"
       ]
      },
      {
       "output_type": "stream",
       "stream": "stdout",
       "text": [
        "\n",
        "[ 0.         -0.01219512  0.03110647  0.03681542 -0.06705202 -0.05362441]"
       ]
      },
      {
       "output_type": "stream",
       "stream": "stdout",
       "text": [
        "\n",
        "[ 0.         -0.01768173  0.04421488  0.06330798 -0.08577586 -0.06940169]"
       ]
      },
      {
       "output_type": "stream",
       "stream": "stdout",
       "text": [
        "\n",
        "[-0.00643777 -0.01402806  0.04422311  0.07400835 -0.06464646 -0.04186078]"
       ]
      },
      {
       "output_type": "stream",
       "stream": "stdout",
       "text": [
        "\n",
        "[ 0.         -0.00790514  0.04911937  0.06568627 -0.04526112 -0.02793775]"
       ]
      },
      {
       "output_type": "stream",
       "stream": "stdout",
       "text": [
        "\n",
        "[ 0.         -0.01792829  0.01836735  0.022      -0.06929461 -0.06859497]"
       ]
      },
      {
       "output_type": "stream",
       "stream": "stdout",
       "text": [
        "\n",
        "[-0.00195312 -0.01204819  0.02716535  0.04905482 -0.07010309 -0.02598222]"
       ]
      },
      {
       "output_type": "stream",
       "stream": "stdout",
       "text": [
        "\n",
        "[ 0.         -0.00573614  0.03251534  0.05619835 -0.07447699 -0.06831417]"
       ]
      },
      {
       "output_type": "stream",
       "stream": "stdout",
       "text": [
        "\n",
        "[-0.00200401 -0.00978474  0.0410609   0.0560241  -0.04130019 -0.02534232]"
       ]
      },
      {
       "output_type": "stream",
       "stream": "stdout",
       "text": [
        "\n",
        "[-0.00187266 -0.01028807  0.05306122  0.07459016 -0.05185185 -0.03425322]"
       ]
      },
      {
       "output_type": "stream",
       "stream": "stdout",
       "text": [
        "\n",
        "[-0.00207469 -0.01984127  0.03123772  0.06881188 -0.06680328 -0.04764207]"
       ]
      },
      {
       "output_type": "stream",
       "stream": "stdout",
       "text": [
        "\n",
        "[-0.0039604  -0.00970874  0.01786448  0.09132231 -0.0515625  -0.02122441]"
       ]
      },
      {
       "output_type": "stream",
       "stream": "stdout",
       "text": [
        "\n",
        "[-0.00202429 -0.01609658  0.02246521  0.12285429 -0.07051793 -0.02642086]"
       ]
      },
      {
       "output_type": "stream",
       "stream": "stdout",
       "text": [
        "\n",
        "[-0.00204499 -0.00808081  0.0375      0.09223969 -0.06615679 -0.03171309]"
       ]
      },
      {
       "output_type": "stream",
       "stream": "stdout",
       "text": [
        "\n",
        "[ 0.         -0.01006036  0.04366197  0.04506903 -0.06734694 -0.04595063]"
       ]
      },
      {
       "output_type": "stream",
       "stream": "stdout",
       "text": [
        "\n",
        "[-0.00206612 -0.01757812  0.04422311  0.06893939 -0.06354379 -0.02466543]"
       ]
      },
      {
       "output_type": "stream",
       "stream": "stdout",
       "text": [
        "\n",
        "[ 0.         -0.00990099  0.03787575  0.06976285 -0.04804928 -0.01722227]"
       ]
      },
      {
       "output_type": "stream",
       "stream": "stdout",
       "text": [
        "\n",
        "[-0.00406504 -0.00980392  0.04685039  0.06313131 -0.03300199 -0.04572076]"
       ]
      },
      {
       "output_type": "stream",
       "stream": "stdout",
       "text": [
        "\n",
        "[ 0.         -0.0094162   0.04567404  0.06716738 -0.07671233 -0.04508372]"
       ]
      },
      {
       "output_type": "stream",
       "stream": "stdout",
       "text": [
        "\n",
        "[-0.00210084  0.          0.03561368  0.08225806 -0.03430799 -0.01983809]"
       ]
      },
      {
       "output_type": "stream",
       "stream": "stdout",
       "text": [
        "\n",
        "[ 0.         -0.01020408  0.05582329  0.06612903 -0.07148594 -0.04138722]"
       ]
      },
      {
       "output_type": "stream",
       "stream": "stdout",
       "text": [
        "\n",
        "[-0.00187617 -0.00927644  0.0453125   0.05877193 -0.03299799 -0.03692507]"
       ]
      },
      {
       "output_type": "stream",
       "stream": "stdout",
       "text": [
        "\n",
        "[-0.00197239 -0.00601202  0.05029821  0.10688623 -0.04444444 -0.01988993]"
       ]
      },
      {
       "output_type": "stream",
       "stream": "stdout",
       "text": [
        "\n",
        "[-0.0020284  -0.00559701  0.04214876  0.10876289 -0.08015717 -0.04354503]"
       ]
      },
      {
       "output_type": "stream",
       "stream": "stdout",
       "text": [
        "\n",
        "[-0.00194175 -0.01142857  0.02132505  0.05787402 -0.07276342 -0.01697384]"
       ]
      },
      {
       "output_type": "stream",
       "stream": "stdout",
       "text": [
        "\n",
        "[ 0.         -0.00976562  0.04715447  0.05826446 -0.05299807 -0.03451364]"
       ]
      },
      {
       "output_type": "stream",
       "stream": "stdout",
       "text": [
        "\n",
        "[ 0.         -0.012       0.03164062  0.08373016 -0.09021956 -0.03127964]"
       ]
      },
      {
       "output_type": "stream",
       "stream": "stdout",
       "text": [
        "\n",
        "[ 0.         -0.01268499  0.05686275  0.08601695 -0.04512428 -0.02255461]"
       ]
      },
      {
       "output_type": "stream",
       "stream": "stdout",
       "text": [
        "\n",
        "[ 0.         -0.00796813  0.05895522  0.04798387 -0.05433071 -0.02017069]"
       ]
      },
      {
       "output_type": "stream",
       "stream": "stdout",
       "text": [
        "\n",
        "Optimization terminated successfully.\n",
        "         Current function value: 0.007108\n",
        "         Iterations: 26\n",
        "         Function evaluations: 62\n",
        "[ 0.         -0.00992063  0.04683027  0.07609603 -0.03203125 -0.02835982]"
       ]
      },
      {
       "output_type": "stream",
       "stream": "stdout",
       "text": [
        "\n"
       ]
      },
      {
       "javascript": [
        "$('div#09e687dd-3a60-466f-9995-e1df5203ef35').width('10.64%')"
       ],
       "metadata": {},
       "output_type": "display_data",
       "text": [
        "<IPython.core.display.Javascript at 0x7f733405abd0>"
       ]
      },
      {
       "output_type": "stream",
       "stream": "stdout",
       "text": [
        "[ 0.05        0.03102467  0.23398058  0.03697479  0.07240664  0.00063395]\n",
        "[ 0.05        0.04003984  0.25274102  0.08214286  0.07989691  0.01026955]"
       ]
      },
      {
       "output_type": "stream",
       "stream": "stdout",
       "text": [
        "\n",
        "[ 0.05        0.04575372  0.26586345  0.226       0.18552124  0.26493743]"
       ]
      },
      {
       "output_type": "stream",
       "stream": "stdout",
       "text": [
        "\n",
        "[ 0.04118943  0.03762887  0.20123457 -0.03738318  0.01090373 -0.13678161]"
       ]
      },
      {
       "output_type": "stream",
       "stream": "stdout",
       "text": [
        "\n",
        "[ 0.05        0.03383838  0.21897233  0.06230159  0.06708253 -0.0103895 ]"
       ]
      },
      {
       "output_type": "stream",
       "stream": "stdout",
       "text": [
        "\n",
        "[ 0.04419729  0.01504854  0.15355649 -0.09879518 -0.0114561  -0.125408  ]"
       ]
      },
      {
       "output_type": "stream",
       "stream": "stdout",
       "text": [
        "\n",
        "[ 0.03597194 -0.02889546  0.04480151 -0.21927711 -0.02460938 -0.41017361]"
       ]
      },
      {
       "output_type": "stream",
       "stream": "stdout",
       "text": [
        "\n",
        "[ 0.0458159   0.01767677  0.11836735 -0.10520231 -0.00201536 -0.23789546]"
       ]
      },
      {
       "output_type": "stream",
       "stream": "stdout",
       "text": [
        "\n",
        "[ 0.0460396   0.04390244  0.24501018  0.16374502  0.11847826  0.12775155]"
       ]
      },
      {
       "output_type": "stream",
       "stream": "stdout",
       "text": [
        "\n",
        "[ 0.05        0.0189441   0.175      -0.07729084  0.         -0.1504161 ]"
       ]
      },
      {
       "output_type": "stream",
       "stream": "stdout",
       "text": [
        "\n",
        "[ 0.03828125  0.00507813  0.11213307 -0.14428274  0.00325444 -0.16255887]"
       ]
      },
      {
       "output_type": "stream",
       "stream": "stdout",
       "text": [
        "\n",
        "[ 0.03969072 -0.00544148  0.09550102 -0.17992278 -0.02154472 -0.24020884]"
       ]
      },
      {
       "output_type": "stream",
       "stream": "stdout",
       "text": [
        "\n",
        "[ 0.0374739   0.02674419  0.1970297  -0.01099796  0.06650485 -0.04952462]"
       ]
      },
      {
       "output_type": "stream",
       "stream": "stdout",
       "text": [
        "\n",
        "[ 0.04420849  0.01640316  0.15404339 -0.0129666   0.0744898  -0.04492715]"
       ]
      },
      {
       "output_type": "stream",
       "stream": "stdout",
       "text": [
        "\n",
        "[ 0.03814229  0.01819085  0.12281059 -0.00279441  0.09897959 -0.00205931]"
       ]
      },
      {
       "output_type": "stream",
       "stream": "stdout",
       "text": [
        "\n",
        "[ 0.05        0.00463511  0.12424242 -0.06007905  0.03333333  0.00424736]"
       ]
      },
      {
       "output_type": "stream",
       "stream": "stdout",
       "text": [
        "\n",
        "[ 0.0374739  -0.00984556  0.14867076 -0.0325167   0.04879032  0.06756858]"
       ]
      },
      {
       "output_type": "stream",
       "stream": "stdout",
       "text": [
        "\n",
        "[ 0.04606299  0.03795181  0.23634497  0.07115385  0.11632444  0.08403348]"
       ]
      },
      {
       "output_type": "stream",
       "stream": "stdout",
       "text": [
        "\n",
        "[ 0.04425287  0.00857988  0.13702213 -0.09418386  0.00165289 -0.11205628]"
       ]
      },
      {
       "output_type": "stream",
       "stream": "stdout",
       "text": [
        "\n",
        "[ 0.02265625 -0.04109312  0.0578125  -0.14332649  0.02676768 -0.11673258]"
       ]
      },
      {
       "output_type": "stream",
       "stream": "stdout",
       "text": [
        "\n",
        "[ 0.03440546  0.00419847  0.1590998   0.01093117  0.05590631  0.01211804]"
       ]
      },
      {
       "output_type": "stream",
       "stream": "stdout",
       "text": [
        "\n",
        "[ 0.02363083 -0.04960937  0.03372781 -0.11663244  0.02331976 -0.02657058]"
       ]
      },
      {
       "output_type": "stream",
       "stream": "stdout",
       "text": [
        "\n",
        "[-0.01776181 -0.1128866  -0.06016097 -0.19690522  0.06585366 -0.04824324]"
       ]
      },
      {
       "output_type": "stream",
       "stream": "stdout",
       "text": [
        "\n",
        "[ 0.036      -0.03984375  0.08957916 -0.05843621  0.05323887  0.03963296]"
       ]
      },
      {
       "output_type": "stream",
       "stream": "stdout",
       "text": [
        "\n",
        "[ 0.02       -0.04583333  0.02783505 -0.02704918  0.13554688  0.06922132]"
       ]
      },
      {
       "output_type": "stream",
       "stream": "stdout",
       "text": [
        "\n",
        "[ 0.04582463  0.01041667  0.14962406  0.04752475  0.15539419  0.10560235]"
       ]
      },
      {
       "output_type": "stream",
       "stream": "stdout",
       "text": [
        "\n",
        "[ 0.02642436 -0.03416834  0.06953908 -0.14409449  0.03447937 -0.06164198]"
       ]
      },
      {
       "output_type": "stream",
       "stream": "stdout",
       "text": [
        "\n",
        "[ 0.04365751  0.01215139  0.14708249  0.04632768  0.10769944  0.04798124]"
       ]
      },
      {
       "output_type": "stream",
       "stream": "stdout",
       "text": [
        "\n",
        "[ 0.03892989 -0.02453416  0.08383838 -0.09979716  0.04736308 -0.01653916]"
       ]
      },
      {
       "output_type": "stream",
       "stream": "stdout",
       "text": [
        "\n",
        "[ 0.02709924 -0.042       0.03146293 -0.08263473  0.04037328 -0.05066597]"
       ]
      },
      {
       "output_type": "stream",
       "stream": "stdout",
       "text": [
        "\n",
        "[ 0.0107438  -0.07427184  0.00505051 -0.12779923  0.03350731 -0.06817311]"
       ]
      },
      {
       "output_type": "stream",
       "stream": "stdout",
       "text": [
        "\n",
        "[ 0.0131068  -0.07648221 -0.03739837 -0.11936759  0.05683761 -0.01013186]"
       ]
      },
      {
       "output_type": "stream",
       "stream": "stdout",
       "text": [
        "\n",
        "[ 0.02560976 -0.04356725  0.04633124 -0.11134021  0.02364341 -0.00775534]"
       ]
      },
      {
       "output_type": "stream",
       "stream": "stdout",
       "text": [
        "\n",
        "[-0.01286837 -0.08833992 -0.07995825 -0.13728814  0.0489899  -0.05344224]"
       ]
      },
      {
       "output_type": "stream",
       "stream": "stdout",
       "text": [
        "\n",
        "[ 0.03964803  0.01392786  0.10160321 -0.07241379  0.07145749 -0.01238121]"
       ]
      },
      {
       "output_type": "stream",
       "stream": "stdout",
       "text": [
        "\n",
        "[ 0.01502058 -0.05612245 -0.01927711 -0.09642857  0.04626719 -0.00915531]"
       ]
      },
      {
       "output_type": "stream",
       "stream": "stdout",
       "text": [
        "\n",
        "[ 0.00626243 -0.072       0.00532319 -0.11196755  0.10492958  0.00492209]"
       ]
      },
      {
       "output_type": "stream",
       "stream": "stdout",
       "text": [
        "\n",
        "[ 0.03377282 -0.02415254  0.04798387 -0.06918715  0.05964083 -0.03053219]"
       ]
      },
      {
       "output_type": "stream",
       "stream": "stdout",
       "text": [
        "\n",
        "[ 0.03823529 -0.02569721  0.07052632 -0.06205534  0.10120968  0.01110444]"
       ]
      },
      {
       "output_type": "stream",
       "stream": "stdout",
       "text": [
        "\n",
        "[ 0.04207921 -0.05934394  0.05815739 -0.08639053  0.05569106 -0.03038808]"
       ]
      },
      {
       "output_type": "stream",
       "stream": "stdout",
       "text": [
        "\n",
        "[ 0.02864078 -0.03301158  0.07730193 -0.06805846  0.05609037 -0.02800443]"
       ]
      },
      {
       "output_type": "stream",
       "stream": "stdout",
       "text": [
        "\n",
        "[ 0.02741273 -0.04338521  0.05653924 -0.0899384   0.0359375  -0.0224047 ]"
       ]
      },
      {
       "output_type": "stream",
       "stream": "stdout",
       "text": [
        "\n",
        "[ 0.02205589 -0.05609037  0.0358871  -0.13895582  0.05961538 -0.02689866]"
       ]
      },
      {
       "output_type": "stream",
       "stream": "stdout",
       "text": [
        "\n",
        "[ 0.0289272  -0.02753479  0.04606299 -0.08647541  0.07749004  0.005034  ]"
       ]
      },
      {
       "output_type": "stream",
       "stream": "stdout",
       "text": [
        "\n",
        "[ 0.03007968 -0.03070866  0.01597633 -0.13180077  0.0484556  -0.03735505]"
       ]
      },
      {
       "output_type": "stream",
       "stream": "stdout",
       "text": [
        "\n",
        "[ 0.01963124 -0.05365854  0.04793388 -0.08        0.07903226 -0.0210451 ]"
       ]
      },
      {
       "output_type": "stream",
       "stream": "stdout",
       "text": [
        "\n",
        "[ 0.03594378 -0.03245243  0.07062374 -0.07583497  0.07       -0.0084982 ]"
       ]
      },
      {
       "output_type": "stream",
       "stream": "stdout",
       "text": [
        "\n",
        "[ 0.02565923 -0.02283465  0.08674948 -0.05662651  0.09375    -0.00825695]"
       ]
      },
      {
       "output_type": "stream",
       "stream": "stdout",
       "text": [
        "\n",
        "[ 0.032      -0.03284024  0.08850103 -0.06458333  0.07331407 -0.02142359]"
       ]
      },
      {
       "output_type": "stream",
       "stream": "stdout",
       "text": [
        "\n",
        "[ 0.02165992 -0.03595388  0.03861386 -0.10436508  0.05586011 -0.02225331]"
       ]
      },
      {
       "output_type": "stream",
       "stream": "stdout",
       "text": [
        "\n",
        "[ 0.03189135 -0.03704453  0.01751412 -0.08875502  0.05294118 -0.01993106]"
       ]
      },
      {
       "output_type": "stream",
       "stream": "stdout",
       "text": [
        "\n",
        "[ 0.03538622 -0.01060606  0.08585462 -0.0765286   0.08529412 -0.00631474]"
       ]
      },
      {
       "output_type": "stream",
       "stream": "stdout",
       "text": [
        "\n",
        "[ 0.02470817 -0.04741551  0.06033058 -0.09345794  0.04381238 -0.02053294]"
       ]
      },
      {
       "output_type": "stream",
       "stream": "stdout",
       "text": [
        "\n",
        "[ 0.03627451 -0.01679764  0.07862595 -0.07755102  0.06568627 -0.02706804]"
       ]
      },
      {
       "output_type": "stream",
       "stream": "stdout",
       "text": [
        "\n",
        "[ 0.00294118 -0.02364341  0.08350515 -0.08106996  0.05392157 -0.03154412]"
       ]
      },
      {
       "output_type": "stream",
       "stream": "stdout",
       "text": [
        "\n",
        "[ 0.03130841 -0.02185629  0.08510638 -0.07786561  0.04166667 -0.00939361]"
       ]
      },
      {
       "output_type": "stream",
       "stream": "stdout",
       "text": [
        "\n",
        "[ 0.03054475 -0.05970464  0.05291829 -0.08442623  0.08043478 -0.00529748]"
       ]
      },
      {
       "output_type": "stream",
       "stream": "stdout",
       "text": [
        "\n",
        "[ 0.03487713 -0.02014028  0.05291829 -0.07827869  0.04736308 -0.02271289]"
       ]
      },
      {
       "output_type": "stream",
       "stream": "stdout",
       "text": [
        "\n",
        "[ 0.04175258 -0.01237817  0.06679842 -0.10097087  0.03823529 -0.00348215]"
       ]
      },
      {
       "output_type": "stream",
       "stream": "stdout",
       "text": [
        "\n",
        "[ 0.02485493 -0.01088561  0.08099174 -0.08945313  0.0647541  -0.0251616 ]"
       ]
      },
      {
       "output_type": "stream",
       "stream": "stdout",
       "text": [
        "\n",
        "[ 0.02938144 -0.01756757  0.06556017 -0.10242915  0.04311741 -0.0280665 ]"
       ]
      },
      {
       "output_type": "stream",
       "stream": "stdout",
       "text": [
        "\n",
        "[ 0.03125    -0.01653226  0.08823529 -0.05918367  0.04807692 -0.02047842]"
       ]
      },
      {
       "output_type": "stream",
       "stream": "stdout",
       "text": [
        "\n",
        "[ 0.03023715 -0.03548708  0.04404762 -0.11679688  0.04090909 -0.02970882]"
       ]
      },
      {
       "output_type": "stream",
       "stream": "stdout",
       "text": [
        "\n",
        "[ 0.02341513 -0.04145129  0.05       -0.08737475  0.05526316 -0.01591276]"
       ]
      },
      {
       "output_type": "stream",
       "stream": "stdout",
       "text": [
        "\n",
        "[ 0.02782258 -0.02676768  0.04846626 -0.11607516  0.04148936 -0.01238377]"
       ]
      },
      {
       "output_type": "stream",
       "stream": "stdout",
       "text": [
        "\n",
        "Optimization terminated successfully.\n",
        "         Current function value: 0.013303\n",
        "         Iterations: 27\n",
        "         Function evaluations: 65\n",
        "[ 0.02795591 -0.02269155  0.07919321 -0.12447013  0.04343936 -0.02496579]"
       ]
      },
      {
       "output_type": "stream",
       "stream": "stdout",
       "text": [
        "\n"
       ]
      },
      {
       "javascript": [
        "$('div#09e687dd-3a60-466f-9995-e1df5203ef35').width('12.77%')"
       ],
       "metadata": {},
       "output_type": "display_data",
       "text": [
        "<IPython.core.display.Javascript at 0x7f7333ffc2d0>"
       ]
      },
      {
       "output_type": "stream",
       "stream": "stdout",
       "text": [
        "[ 0.         -0.00943396 -0.0331643  -0.11574803  0.07371134 -0.14275782]\n",
        "[ 0.         -0.01204819 -0.00672269 -0.08049281  0.08255361 -0.14835455]"
       ]
      },
      {
       "output_type": "stream",
       "stream": "stdout",
       "text": [
        "\n",
        "[ 0.         -0.00613497  0.01070727  0.04612326  0.17332016  0.12579967]"
       ]
      },
      {
       "output_type": "stream",
       "stream": "stdout",
       "text": [
        "\n",
        "[-0.00592885 -0.0297619  -0.06287129 -0.27307692 -0.0109375  -0.27370893]"
       ]
      },
      {
       "output_type": "stream",
       "stream": "stdout",
       "text": [
        "\n",
        "[-0.00401606 -0.01663202 -0.03935361 -0.11260504  0.06287129 -0.1396951 ]"
       ]
      },
      {
       "output_type": "stream",
       "stream": "stdout",
       "text": [
        "\n",
        "[-0.00618557 -0.0440613  -0.14675456 -0.32245763  0.00648536 -0.27356661]"
       ]
      },
      {
       "output_type": "stream",
       "stream": "stdout",
       "text": [
        "\n",
        "[ 0.          0.          0.01923077  0.09014085  0.17920892  0.0344453 ]"
       ]
      },
      {
       "output_type": "stream",
       "stream": "stdout",
       "text": [
        "\n",
        "[ 0.         -0.00396825  0.03823529  0.1782516   0.30067437  0.14547741]"
       ]
      },
      {
       "output_type": "stream",
       "stream": "stdout",
       "text": [
        "\n",
        "[-0.00203252 -0.00397614  0.0131068   0.07206478  0.17718053  0.04115946]"
       ]
      },
      {
       "output_type": "stream",
       "stream": "stdout",
       "text": [
        "\n",
        "[-0.00195312 -0.01744186 -0.01949807 -0.14065041  0.03910891 -0.27867068]"
       ]
      },
      {
       "output_type": "stream",
       "stream": "stdout",
       "text": [
        "\n",
        "[-0.00199203 -0.0059761   0.00381526 -0.00763052  0.1962406   0.04135805]"
       ]
      },
      {
       "output_type": "stream",
       "stream": "stdout",
       "text": [
        "\n",
        "[-0.00407332 -0.02765957 -0.06836735 -0.236       0.04108527 -0.18411908]"
       ]
      },
      {
       "output_type": "stream",
       "stream": "stdout",
       "text": [
        "\n",
        "[ 0.         -0.00617284  0.02674419  0.02993763  0.1459596   0.00330879]"
       ]
      },
      {
       "output_type": "stream",
       "stream": "stdout",
       "text": [
        "\n",
        "[-0.00199203 -0.00214592  0.02410359  0.1         0.19853229  0.04698909]"
       ]
      },
      {
       "output_type": "stream",
       "stream": "stdout",
       "text": [
        "\n",
        "[-0.00410678 -0.0125261   0.00247934 -0.11446281  0.05085837 -0.07198767]"
       ]
      },
      {
       "output_type": "stream",
       "stream": "stdout",
       "text": [
        "\n",
        "[-0.00390625 -0.00843882 -0.00476673 -0.1254902   0.06895161 -0.18217391]"
       ]
      },
      {
       "output_type": "stream",
       "stream": "stdout",
       "text": [
        "\n",
        "[ 0.         -0.00588235  0.02177419 -0.01747573  0.15634921 -0.01147912]"
       ]
      },
      {
       "output_type": "stream",
       "stream": "stdout",
       "text": [
        "\n",
        "[-0.00438596 -0.01778656 -0.0305501  -0.1988024   0.02961165 -0.21548565]"
       ]
      },
      {
       "output_type": "stream",
       "stream": "stdout",
       "text": [
        "\n",
        "[ 0.         -0.00398406  0.002      -0.00983607  0.12213115  0.00394371]"
       ]
      },
      {
       "output_type": "stream",
       "stream": "stdout",
       "text": [
        "\n",
        "[ 0.         -0.00412371  0.03128898  0.08699187  0.16780303  0.03121447]"
       ]
      },
      {
       "output_type": "stream",
       "stream": "stdout",
       "text": [
        "\n",
        "[-0.00193424 -0.01176471 -0.00776892 -0.00234375  0.12706237  0.00579686]"
       ]
      },
      {
       "output_type": "stream",
       "stream": "stdout",
       "text": [
        "\n",
        "[ 0.          0.          0.02741273  0.01825726  0.17269807  0.07338253]"
       ]
      },
      {
       "output_type": "stream",
       "stream": "stdout",
       "text": [
        "\n",
        "[-0.00192678 -0.00659341 -0.01275304 -0.04624746  0.08085937 -0.08065242]"
       ]
      },
      {
       "output_type": "stream",
       "stream": "stdout",
       "text": [
        "\n",
        "[ 0.         -0.0102459   0.01296296 -0.01478439  0.08609467 -0.06163528]"
       ]
      },
      {
       "output_type": "stream",
       "stream": "stdout",
       "text": [
        "\n",
        "[ 0.         -0.00564972  0.02035573  0.014       0.0976378  -0.07952145]"
       ]
      },
      {
       "output_type": "stream",
       "stream": "stdout",
       "text": [
        "\n",
        "[ 0.         -0.01923077 -0.01324111 -0.0434968   0.10728155 -0.06403858]"
       ]
      },
      {
       "output_type": "stream",
       "stream": "stdout",
       "text": [
        "\n",
        "[-0.0019305   0.          0.02684211  0.04139344  0.14829424 -0.00850039]"
       ]
      },
      {
       "output_type": "stream",
       "stream": "stdout",
       "text": [
        "\n",
        "[ 0.         -0.00988142  0.00686275 -0.07609562  0.08867187 -0.07397407]"
       ]
      },
      {
       "output_type": "stream",
       "stream": "stdout",
       "text": [
        "\n",
        "[-0.00214133 -0.0040568   0.01007605  0.04636542  0.11969697 -0.02642883]"
       ]
      },
      {
       "output_type": "stream",
       "stream": "stdout",
       "text": [
        "\n",
        "[ 0.         -0.00198413  0.02325103  0.04609053  0.14502868  0.00955666]"
       ]
      },
      {
       "output_type": "stream",
       "stream": "stdout",
       "text": [
        "\n",
        "[ 0.         -0.00804829  0.00092025  0.00678643  0.08921569 -0.05877178]"
       ]
      },
      {
       "output_type": "stream",
       "stream": "stdout",
       "text": [
        "\n",
        "[ 0.         -0.00414938  0.01421471 -0.00763052  0.09822547 -0.04382289]"
       ]
      },
      {
       "output_type": "stream",
       "stream": "stdout",
       "text": [
        "\n",
        "[-0.0042735  -0.01006036  0.01502058 -0.08707753  0.06924686 -0.10476125]"
       ]
      },
      {
       "output_type": "stream",
       "stream": "stdout",
       "text": [
        "\n",
        "[ 0.         -0.00808081  0.01215139  0.00574949  0.14206681 -0.0365746 ]"
       ]
      },
      {
       "output_type": "stream",
       "stream": "stdout",
       "text": [
        "\n",
        "[-0.0020202  -0.00788955  0.00560254  0.0023622   0.11923077 -0.05577874]"
       ]
      },
      {
       "output_type": "stream",
       "stream": "stdout",
       "text": [
        "\n",
        "[ 0.         -0.00399202 -0.01496063 -0.01699605  0.13       -0.05555225]"
       ]
      },
      {
       "output_type": "stream",
       "stream": "stdout",
       "text": [
        "\n",
        "[-0.00198413 -0.00387597  0.01346154 -0.01666667  0.1143002  -0.0272747 ]"
       ]
      },
      {
       "output_type": "stream",
       "stream": "stdout",
       "text": [
        "\n",
        "[ 0.         -0.00806452  0.00284872 -0.02348008  0.13199234 -0.06925564]"
       ]
      },
      {
       "output_type": "stream",
       "stream": "stdout",
       "text": [
        "\n",
        "[ 0.         -0.0019685   0.03121086  0.00714286  0.12588933 -0.03903151]"
       ]
      },
      {
       "output_type": "stream",
       "stream": "stdout",
       "text": [
        "\n",
        "Optimization terminated successfully.\n",
        "         Current function value: 0.011525\n",
        "         Iterations: 17\n",
        "         Function evaluations: 39\n",
        "[ 0.         -0.00598802  0.00857988 -0.02190669  0.13072289 -0.06133075]"
       ]
      },
      {
       "output_type": "stream",
       "stream": "stdout",
       "text": [
        "\n"
       ]
      },
      {
       "javascript": [
        "$('div#09e687dd-3a60-466f-9995-e1df5203ef35').width('14.89%')"
       ],
       "metadata": {},
       "output_type": "display_data",
       "text": [
        "<IPython.core.display.Javascript at 0x7f73341c8710>"
       ]
      },
      {
       "output_type": "stream",
       "stream": "stdout",
       "text": [
        "[-0.00588235 -0.01209677  0.07276423  0.39414063  0.09125475  0.15576052]\n",
        "[ 0.         -0.01757812  0.08256262  0.42890792  0.13498099  0.15785046]"
       ]
      },
      {
       "output_type": "stream",
       "stream": "stdout",
       "text": [
        "\n",
        "[-0.00203666 -0.0039604   0.134       0.55789474  0.24116424  0.42637188]"
       ]
      },
      {
       "output_type": "stream",
       "stream": "stdout",
       "text": [
        "\n",
        "[-0.00576923 -0.01717557  0.04285714  0.25339806  0.0501002   0.01764653]"
       ]
      },
      {
       "output_type": "stream",
       "stream": "stdout",
       "text": [
        "\n",
        "[-0.00393701 -0.01639344  0.08291405  0.41004016  0.11776447  0.15832334]"
       ]
      },
      {
       "output_type": "stream",
       "stream": "stdout",
       "text": [
        "\n",
        "[-0.0094162  -0.04015296 -0.02948718  0.23669355  0.07484407  0.04020013]"
       ]
      },
      {
       "output_type": "stream",
       "stream": "stdout",
       "text": [
        "\n",
        "[-0.01467505 -0.06995885 -0.12494908  0.10669291  0.016      -0.27354966]"
       ]
      },
      {
       "output_type": "stream",
       "stream": "stdout",
       "text": [
        "\n",
        "[-0.00821355 -0.08097928 -0.11476578  0.12626263  0.03359684 -0.10051902]"
       ]
      },
      {
       "output_type": "stream",
       "stream": "stdout",
       "text": [
        "\n",
        "[-0.03434343 -0.15809524 -0.27331288  0.03671875  0.01010101 -0.25465403]"
       ]
      },
      {
       "output_type": "stream",
       "stream": "stdout",
       "text": [
        "\n",
        "[-0.01590457 -0.08364312 -0.15815109  0.11259843  0.02350427 -0.21233233]"
       ]
      },
      {
       "output_type": "stream",
       "stream": "stdout",
       "text": [
        "\n",
        "[-0.01898734 -0.14171657 -0.31215139 -0.0010101   0.0101833  -0.37877713]"
       ]
      },
      {
       "output_type": "stream",
       "stream": "stdout",
       "text": [
        "\n",
        "[-0.0039604  -0.0204499   0.01514523  0.26755647  0.05        0.02316752]"
       ]
      },
      {
       "output_type": "stream",
       "stream": "stdout",
       "text": [
        "\n",
        "[-0.00819672 -0.03469388  0.02968442  0.27328094  0.06313646  0.16739682]"
       ]
      },
      {
       "output_type": "stream",
       "stream": "stdout",
       "text": [
        "\n",
        "[-0.00619835 -0.04642166 -0.06052632  0.11722114  0.03138075 -0.15091975]"
       ]
      },
      {
       "output_type": "stream",
       "stream": "stdout",
       "text": [
        "\n",
        "[-0.00393701 -0.01219512  0.06164659  0.33514644  0.11134454  0.15099499]"
       ]
      },
      {
       "output_type": "stream",
       "stream": "stdout",
       "text": [
        "\n",
        "[-0.01008065 -0.08008214 -0.09117647  0.12857143  0.03006012 -0.14101072]"
       ]
      },
      {
       "output_type": "stream",
       "stream": "stdout",
       "text": [
        "\n",
        "[-0.01619433 -0.06054688 -0.13099174  0.08975332  0.02474227 -0.15495953]"
       ]
      },
      {
       "output_type": "stream",
       "stream": "stdout",
       "text": [
        "\n",
        "[-0.04098361 -0.16502947 -0.21706349  0.05204678  0.0210325  -0.23030526]"
       ]
      },
      {
       "output_type": "stream",
       "stream": "stdout",
       "text": [
        "\n",
        "[-0.00198807 -0.036       0.00170341  0.22157676  0.04440154 -0.03695261]"
       ]
      },
      {
       "output_type": "stream",
       "stream": "stdout",
       "text": [
        "\n",
        "[-0.01747573 -0.05697446 -0.14568789  0.09628099  0.00808081 -0.26250497]"
       ]
      },
      {
       "output_type": "stream",
       "stream": "stdout",
       "text": [
        "\n",
        "[-0.01754386 -0.04771372 -0.03126273  0.17070707  0.04517454 -0.03840549]"
       ]
      },
      {
       "output_type": "stream",
       "stream": "stdout",
       "text": [
        "\n",
        "[-0.00410678 -0.02755906 -0.0036965   0.22815534  0.052      -0.02825457]"
       ]
      },
      {
       "output_type": "stream",
       "stream": "stdout",
       "text": [
        "\n",
        "[-0.01041667 -0.04008016 -0.11252505  0.15416667  0.03893443 -0.13526133]"
       ]
      },
      {
       "output_type": "stream",
       "stream": "stdout",
       "text": [
        "\n",
        "[-0.00612245 -0.0433925  -0.08408624  0.14048096  0.02390438 -0.10726517]"
       ]
      },
      {
       "output_type": "stream",
       "stream": "stdout",
       "text": [
        "\n",
        "[-0.01584158 -0.04703476 -0.03295218  0.15773196  0.05294118 -0.08633352]"
       ]
      },
      {
       "output_type": "stream",
       "stream": "stdout",
       "text": [
        "\n",
        "[-0.00202429 -0.06237817 -0.02835671  0.17218935  0.03921569 -0.09603657]"
       ]
      },
      {
       "output_type": "stream",
       "stream": "stdout",
       "text": [
        "\n",
        "[-0.01188119 -0.0545809  -0.01735537  0.17165354  0.03564728 -0.04192524]"
       ]
      },
      {
       "output_type": "stream",
       "stream": "stdout",
       "text": [
        "\n",
        "[-0.01219512 -0.04487179 -0.07222222  0.11183206  0.03319502 -0.1156577 ]"
       ]
      },
      {
       "output_type": "stream",
       "stream": "stdout",
       "text": [
        "\n",
        "[-0.01757812 -0.04008439 -0.04038817  0.16550388  0.03013183 -0.08354467]"
       ]
      },
      {
       "output_type": "stream",
       "stream": "stdout",
       "text": [
        "\n",
        "[-0.00763359 -0.0372549  -0.05641283  0.19012346  0.03359684 -0.00733231]"
       ]
      },
      {
       "output_type": "stream",
       "stream": "stdout",
       "text": [
        "\n",
        "[-0.00606061 -0.04678363 -0.05117187  0.14612403  0.05335968 -0.07061356]"
       ]
      },
      {
       "output_type": "stream",
       "stream": "stdout",
       "text": [
        "\n",
        "[-0.01       -0.05295316 -0.02907445  0.16242545  0.03080082 -0.06567708]"
       ]
      },
      {
       "output_type": "stream",
       "stream": "stdout",
       "text": [
        "\n",
        "[ 0.         -0.0392562  -0.03269231  0.16838966  0.05371901 -0.06089997]"
       ]
      },
      {
       "output_type": "stream",
       "stream": "stdout",
       "text": [
        "\n",
        "[-0.01229508 -0.04590818 -0.03292683  0.15523013  0.03578947 -0.05935055]"
       ]
      },
      {
       "output_type": "stream",
       "stream": "stdout",
       "text": [
        "\n",
        "[-0.00811359 -0.05532787 -0.05042644  0.12040816  0.03219316 -0.10139178]"
       ]
      },
      {
       "output_type": "stream",
       "stream": "stdout",
       "text": [
        "\n",
        "[-0.01176471 -0.05928854 -0.07774327  0.14130879  0.04545455 -0.12374976]"
       ]
      },
      {
       "output_type": "stream",
       "stream": "stdout",
       "text": [
        "\n",
        "[-0.01188119 -0.07226562 -0.08440454  0.14470135  0.03966597 -0.14676065]"
       ]
      },
      {
       "output_type": "stream",
       "stream": "stdout",
       "text": [
        "\n",
        "[-0.01167315 -0.06947368 -0.00728155  0.17091633  0.04651163 -0.07772339]"
       ]
      },
      {
       "output_type": "stream",
       "stream": "stdout",
       "text": [
        "\n",
        "[ 0.         -0.04761905 -0.03011257  0.19201681  0.03680982 -0.09547262]"
       ]
      },
      {
       "output_type": "stream",
       "stream": "stdout",
       "text": [
        "\n",
        "[-0.01167315 -0.03792415 -0.05175439  0.15296443  0.048      -0.08520957]"
       ]
      },
      {
       "output_type": "stream",
       "stream": "stdout",
       "text": [
        "\n",
        "[-0.00584795 -0.07352941 -0.04919517  0.10038536  0.02209945 -0.12187591]"
       ]
      },
      {
       "output_type": "stream",
       "stream": "stdout",
       "text": [
        "\n",
        "[-0.01346154 -0.04453441 -0.0203854   0.14654832  0.02680412 -0.09534571]"
       ]
      },
      {
       "output_type": "stream",
       "stream": "stdout",
       "text": [
        "\n",
        "[-0.00576923 -0.0499002  -0.03664047  0.11843687  0.03488372 -0.08041126]"
       ]
      },
      {
       "output_type": "stream",
       "stream": "stdout",
       "text": [
        "\n",
        "Optimization terminated successfully.\n",
        "         Current function value: 0.025576\n",
        "         Iterations: 17\n",
        "         Function evaluations: 43\n",
        "[-0.00603622 -0.02994012 -0.06102662  0.13856859  0.03598485 -0.08307764]"
       ]
      },
      {
       "output_type": "stream",
       "stream": "stdout",
       "text": [
        "\n"
       ]
      },
      {
       "javascript": [
        "$('div#09e687dd-3a60-466f-9995-e1df5203ef35').width('17.02%')"
       ],
       "metadata": {},
       "output_type": "display_data",
       "text": [
        "<IPython.core.display.Javascript at 0x7f7334064c90>"
       ]
      },
      {
       "output_type": "stream",
       "stream": "stdout",
       "text": [
        "[ 0.         -0.01593625  0.26268191  0.01575342 -0.05742574  0.07861383]\n",
        "[-0.00196078 -0.008       0.29824017  0.06244813 -0.04897959  0.08210807]"
       ]
      },
      {
       "output_type": "stream",
       "stream": "stdout",
       "text": [
        "\n",
        "[ 0.         -0.003861    0.31620278  0.21071429  0.04853229  0.34931865]"
       ]
      },
      {
       "output_type": "stream",
       "stream": "stdout",
       "text": [
        "\n",
        "[-0.00628931 -0.01348748  0.23135593 -0.07903226 -0.12957746 -0.04352468]"
       ]
      },
      {
       "output_type": "stream",
       "stream": "stdout",
       "text": [
        "\n",
        "[ 0.         -0.01771654  0.24896907  0.04901768 -0.07115385  0.08480785]"
       ]
      },
      {
       "output_type": "stream",
       "stream": "stdout",
       "text": [
        "\n",
        "[-0.00588235 -0.04752066  0.1747012  -0.13199234 -0.14666667 -0.02397516]"
       ]
      },
      {
       "output_type": "stream",
       "stream": "stdout",
       "text": [
        "\n",
        "[-0.00821355 -0.04251012  0.0469112  -0.23252427 -0.18085106 -0.32017502]"
       ]
      },
      {
       "output_type": "stream",
       "stream": "stdout",
       "text": [
        "\n",
        "[-0.004158   -0.02766798  0.19412955 -0.13665377 -0.15039683 -0.1257345 ]"
       ]
      },
      {
       "output_type": "stream",
       "stream": "stdout",
       "text": [
        "\n",
        "[-0.01004016 -0.05675147  0.12777778 -0.18333333 -0.15416667 -0.11088282]"
       ]
      },
      {
       "output_type": "stream",
       "stream": "stdout",
       "text": [
        "\n",
        "[-0.00191939 -0.01388889  0.27927308 -0.02520325 -0.10853659  0.14932129]"
       ]
      },
      {
       "output_type": "stream",
       "stream": "stdout",
       "text": [
        "\n",
        "[-0.00598802 -0.03353057  0.22771203 -0.10737052 -0.14747899 -0.06843485]"
       ]
      },
      {
       "output_type": "stream",
       "stream": "stdout",
       "text": [
        "\n",
        "[-0.00402414 -0.02615694  0.28195876 -0.0946281  -0.12460317  0.06164215]"
       ]
      },
      {
       "output_type": "stream",
       "stream": "stdout",
       "text": [
        "\n",
        "[-0.00197628 -0.02713987  0.20098039 -0.09668094 -0.11666667 -0.02266723]"
       ]
      },
      {
       "output_type": "stream",
       "stream": "stdout",
       "text": [
        "\n",
        "[ 0.         -0.00606061  0.30427435  0.08119093 -0.06692759  0.14448349]"
       ]
      },
      {
       "output_type": "stream",
       "stream": "stdout",
       "text": [
        "\n",
        "[-0.00787402 -0.02750491  0.21328125 -0.12117988 -0.15967742 -0.0434096 ]"
       ]
      },
      {
       "output_type": "stream",
       "stream": "stdout",
       "text": [
        "\n",
        "[-0.00617284 -0.01744186  0.25672451  0.03888889 -0.10219561  0.08567999]"
       ]
      },
      {
       "output_type": "stream",
       "stream": "stdout",
       "text": [
        "\n",
        "[-0.00404858 -0.01596806  0.26919192 -0.04118236 -0.08761905  0.03817715]"
       ]
      },
      {
       "output_type": "stream",
       "stream": "stdout",
       "text": [
        "\n",
        "[-0.00196078 -0.04150198  0.22351779 -0.07076271 -0.13013972 -0.00061982]"
       ]
      },
      {
       "output_type": "stream",
       "stream": "stdout",
       "text": [
        "\n",
        "[-0.01004016 -0.0308642   0.15079681 -0.14918699 -0.15602294 -0.11992014]"
       ]
      },
      {
       "output_type": "stream",
       "stream": "stdout",
       "text": [
        "\n",
        "[-0.00204082 -0.02564103  0.28663366 -0.00882353 -0.09941973  0.04443037]"
       ]
      },
      {
       "output_type": "stream",
       "stream": "stdout",
       "text": [
        "\n",
        "[-0.00389864 -0.03448276  0.18578947 -0.14589552 -0.13       -0.02646033]"
       ]
      },
      {
       "output_type": "stream",
       "stream": "stdout",
       "text": [
        "\n",
        "[-0.00394477 -0.04150198  0.2188172  -0.07138085 -0.14211577 -0.03459938]"
       ]
      },
      {
       "output_type": "stream",
       "stream": "stdout",
       "text": [
        "\n",
        "[-0.003861   -0.018       0.25335306 -0.05081466 -0.0981289   0.03869633]"
       ]
      },
      {
       "output_type": "stream",
       "stream": "stdout",
       "text": [
        "\n",
        "[-0.00572519 -0.012       0.21538462 -0.10182186 -0.14117647 -0.03949724]"
       ]
      },
      {
       "output_type": "stream",
       "stream": "stdout",
       "text": [
        "\n",
        "[ 0.         -0.02156863  0.26778203 -0.02142857 -0.1258517   0.04768197]"
       ]
      },
      {
       "output_type": "stream",
       "stream": "stdout",
       "text": [
        "\n",
        "[-0.00776699 -0.04733728  0.20658153 -0.16115538 -0.16184739 -0.07001747]"
       ]
      },
      {
       "output_type": "stream",
       "stream": "stdout",
       "text": [
        "\n",
        "[-0.00816327 -0.0239521   0.23469185 -0.044      -0.1304175   0.00699862]"
       ]
      },
      {
       "output_type": "stream",
       "stream": "stdout",
       "text": [
        "\n",
        "[-0.0018622  -0.02713178  0.26535433 -0.03398438 -0.1254902   0.04098313]"
       ]
      },
      {
       "output_type": "stream",
       "stream": "stdout",
       "text": [
        "\n",
        "[ 0.         -0.02697495  0.22755102 -0.08232323 -0.11570881 -0.01073446]"
       ]
      },
      {
       "output_type": "stream",
       "stream": "stdout",
       "text": [
        "\n",
        "[-0.00986193 -0.05304519  0.19710744 -0.14371197 -0.15983936 -0.07546877]"
       ]
      },
      {
       "output_type": "stream",
       "stream": "stdout",
       "text": [
        "\n",
        "[-0.00399202 -0.0235546   0.23640974 -0.0669265  -0.12475248  0.00072921]"
       ]
      },
      {
       "output_type": "stream",
       "stream": "stdout",
       "text": [
        "\n",
        "[-0.00603622 -0.02923977  0.20772358 -0.10991903 -0.13737374 -0.04945953]"
       ]
      },
      {
       "output_type": "stream",
       "stream": "stdout",
       "text": [
        "\n",
        "[-0.00198807 -0.02579365  0.24194915 -0.11122449 -0.13096647 -0.00469233]"
       ]
      },
      {
       "output_type": "stream",
       "stream": "stdout",
       "text": [
        "\n",
        "[ 0.         -0.03030303  0.22077535 -0.11112266 -0.12248062 -0.03489009]"
       ]
      },
      {
       "output_type": "stream",
       "stream": "stdout",
       "text": [
        "\n",
        "[-0.0020284  -0.03036053  0.21558045 -0.13377823 -0.13333333 -0.02571121]"
       ]
      },
      {
       "output_type": "stream",
       "stream": "stdout",
       "text": [
        "\n",
        "[-0.0019685  -0.0244898   0.25342052 -0.09990329 -0.12716535 -0.01826691]"
       ]
      },
      {
       "output_type": "stream",
       "stream": "stdout",
       "text": [
        "\n",
        "[-0.00587084 -0.02647658  0.21437247 -0.09534884 -0.13110236 -0.02861443]"
       ]
      },
      {
       "output_type": "stream",
       "stream": "stdout",
       "text": [
        "\n",
        "[-0.00404858 -0.02886598  0.21836935 -0.08983903 -0.12829457 -0.01026415]"
       ]
      },
      {
       "output_type": "stream",
       "stream": "stdout",
       "text": [
        "\n",
        "Optimization terminated successfully.\n",
        "         Current function value: 0.064606\n",
        "         Iterations: 13\n",
        "         Function evaluations: 38\n",
        "[-0.00193798 -0.02868852  0.22866928 -0.12065868 -0.11038697 -0.02467524]"
       ]
      },
      {
       "output_type": "stream",
       "stream": "stdout",
       "text": [
        "\n"
       ]
      },
      {
       "javascript": [
        "$('div#09e687dd-3a60-466f-9995-e1df5203ef35').width('19.15%')"
       ],
       "metadata": {},
       "output_type": "display_data",
       "text": [
        "<IPython.core.display.Javascript at 0x7f7334041ad0>"
       ]
      },
      {
       "output_type": "stream",
       "stream": "stdout",
       "text": [
        "[-0.00207469 -0.02653061 -0.074      -0.4443299  -0.19236791 -0.38609437]\n",
        "[-0.00214133 -0.00572519 -0.06095238 -0.38080808 -0.1490566  -0.36045729]"
       ]
      },
      {
       "output_type": "stream",
       "stream": "stdout",
       "text": [
        "\n",
        "[ 0.         -0.00190114 -0.0368932  -0.22617188 -0.09209979 -0.1124391 ]"
       ]
      },
      {
       "output_type": "stream",
       "stream": "stdout",
       "text": [
        "\n",
        "[-0.0039604  -0.02663934 -0.13438735 -0.55742574 -0.23629344 -0.51795601]"
       ]
      },
      {
       "output_type": "stream",
       "stream": "stdout",
       "text": [
        "\n",
        "[-0.00391389 -0.014      -0.08870968 -0.45165692 -0.18957055 -0.36444625]"
       ]
      },
      {
       "output_type": "stream",
       "stream": "stdout",
       "text": [
        "\n",
        "[-0.00817996 -0.03917526 -0.21153846 -0.64538745 -0.23186373 -0.50826523]"
       ]
      },
      {
       "output_type": "stream",
       "stream": "stdout",
       "text": [
        "\n",
        "[ 0.         -0.00389105 -0.02448211 -0.24205231 -0.06337449 -0.20048298]"
       ]
      },
      {
       "output_type": "stream",
       "stream": "stdout",
       "text": [
        "\n",
        "[ 0.         -0.00409836 -0.01571709 -0.1552381   0.04869739 -0.07812212]"
       ]
      },
      {
       "output_type": "stream",
       "stream": "stdout",
       "text": [
        "\n",
        "[ 0.         -0.0039604  -0.00195312 -0.02678937  0.26479691  0.05550273]"
       ]
      },
      {
       "output_type": "stream",
       "stream": "stdout",
       "text": [
        "\n",
        "[ 0.         -0.00200401 -0.00604839 -0.16778243  0.03752621 -0.08247259]"
       ]
      },
      {
       "output_type": "stream",
       "stream": "stdout",
       "text": [
        "\n",
        "[ 0.          0.          0.         -0.07777778  0.15454545 -0.00182973]"
       ]
      },
      {
       "output_type": "stream",
       "stream": "stdout",
       "text": [
        "\n",
        "[ 0.          0.          0.          0.0241517   0.35756303  0.14238863]"
       ]
      },
      {
       "output_type": "stream",
       "stream": "stdout",
       "text": [
        "\n",
        "[ 0.          0.         -0.00398406 -0.03062099  0.23254438  0.08973381]"
       ]
      },
      {
       "output_type": "stream",
       "stream": "stdout",
       "text": [
        "\n",
        "[ 0.          0.         -0.0019685  -0.00961538  0.26188605  0.10730875]"
       ]
      },
      {
       "output_type": "stream",
       "stream": "stdout",
       "text": [
        "\n",
        "[ 0.          0.         -0.00416667 -0.09195612  0.17165992  0.04140056]"
       ]
      },
      {
       "output_type": "stream",
       "stream": "stdout",
       "text": [
        "\n",
        "[ 0.          0.         -0.00191571 -0.00114504  0.30552268  0.08436953]"
       ]
      },
      {
       "output_type": "stream",
       "stream": "stdout",
       "text": [
        "\n",
        "[-0.00197239 -0.00404858 -0.01593625 -0.15536062  0.01176471 -0.05596831]"
       ]
      },
      {
       "output_type": "stream",
       "stream": "stdout",
       "text": [
        "\n",
        "[ 0.         -0.00419287 -0.04637097 -0.27250996 -0.09207921 -0.22009207]"
       ]
      },
      {
       "output_type": "stream",
       "stream": "stdout",
       "text": [
        "\n",
        "[ 0.          0.         -0.00401606 -0.08181818  0.15098039  0.03951736]"
       ]
      },
      {
       "output_type": "stream",
       "stream": "stdout",
       "text": [
        "\n",
        "[ 0.          0.         -0.01632653 -0.16181102 -0.00542636 -0.12400176]"
       ]
      },
      {
       "output_type": "stream",
       "stream": "stdout",
       "text": [
        "\n",
        "[ 0.         -0.00402414 -0.00814664 -0.07979798  0.09105058  0.00371965]"
       ]
      },
      {
       "output_type": "stream",
       "stream": "stdout",
       "text": [
        "\n",
        "[ 0.          0.         -0.00596421 -0.05587045  0.16707819  0.04013754]"
       ]
      },
      {
       "output_type": "stream",
       "stream": "stdout",
       "text": [
        "\n",
        "[ 0.          0.         -0.00395257 -0.04717742  0.18795181  0.08158874]"
       ]
      },
      {
       "output_type": "stream",
       "stream": "stdout",
       "text": [
        "\n",
        "[ 0.          0.         -0.00968992 -0.11471173  0.07764933 -0.0370764 ]"
       ]
      },
      {
       "output_type": "stream",
       "stream": "stdout",
       "text": [
        "\n",
        "[ 0.          0.         -0.0040568  -0.12857143  0.0364486  -0.07599985]"
       ]
      },
      {
       "output_type": "stream",
       "stream": "stdout",
       "text": [
        "\n",
        "[ 0.          0.         -0.01318267 -0.14038462 -0.00746888 -0.09893436]"
       ]
      },
      {
       "output_type": "stream",
       "stream": "stdout",
       "text": [
        "\n",
        "[ 0.         -0.00785855 -0.01156069 -0.20923695 -0.00610687 -0.1163693 ]"
       ]
      },
      {
       "output_type": "stream",
       "stream": "stdout",
       "text": [
        "\n",
        "[ 0.          0.         -0.00785855 -0.094       0.0875502  -0.01422727]"
       ]
      },
      {
       "output_type": "stream",
       "stream": "stdout",
       "text": [
        "\n",
        "[ 0.         -0.00195695 -0.00801603 -0.0902834   0.12443064  0.01901723]"
       ]
      },
      {
       "output_type": "stream",
       "stream": "stdout",
       "text": [
        "\n",
        "[ 0.         -0.00392157 -0.00804829 -0.04779271  0.18884381  0.00323866]"
       ]
      },
      {
       "output_type": "stream",
       "stream": "stdout",
       "text": [
        "\n",
        "[-0.002079   -0.00206186 -0.01388889 -0.09373777  0.03811475 -0.04184669]"
       ]
      },
      {
       "output_type": "stream",
       "stream": "stdout",
       "text": [
        "\n",
        "[ 0.          0.         -0.01176471 -0.17592955  0.0299389  -0.08171563]"
       ]
      },
      {
       "output_type": "stream",
       "stream": "stdout",
       "text": [
        "\n",
        "[ 0.          0.         -0.00610998 -0.12020202  0.121875    0.00285842]"
       ]
      },
      {
       "output_type": "stream",
       "stream": "stdout",
       "text": [
        "\n",
        "[ 0.          0.         -0.00603622 -0.11659919  0.08293651 -0.00824681]"
       ]
      },
      {
       "output_type": "stream",
       "stream": "stdout",
       "text": [
        "\n",
        "[ 0.         -0.0019802  -0.00934579 -0.13242188  0.12768595 -0.02450792]"
       ]
      },
      {
       "output_type": "stream",
       "stream": "stdout",
       "text": [
        "\n",
        "[-0.00208333  0.         -0.00948767 -0.13662551  0.07759336 -0.03417391]"
       ]
      },
      {
       "output_type": "stream",
       "stream": "stdout",
       "text": [
        "\n",
        "[ 0.         -0.00420168 -0.00391389 -0.11118012  0.07711864 -0.04733713]"
       ]
      },
      {
       "output_type": "stream",
       "stream": "stdout",
       "text": [
        "\n",
        "[ 0.         -0.00393701 -0.00773694 -0.0954262   0.07860082  0.00724804]"
       ]
      },
      {
       "output_type": "stream",
       "stream": "stdout",
       "text": [
        "\n",
        "[ 0.          0.         -0.00801603 -0.15248509  0.0950104  -0.0278894 ]"
       ]
      },
      {
       "output_type": "stream",
       "stream": "stdout",
       "text": [
        "\n",
        "[ 0.          0.         -0.00998004 -0.10982987  0.1194831  -0.04638165]"
       ]
      },
      {
       "output_type": "stream",
       "stream": "stdout",
       "text": [
        "\n",
        "[ 0.          0.         -0.00840336 -0.09507576  0.09665971 -0.02448904]"
       ]
      },
      {
       "output_type": "stream",
       "stream": "stdout",
       "text": [
        "\n",
        "[-0.002079   -0.00579151 -0.01303538 -0.09493177  0.06523438 -0.02444742]"
       ]
      },
      {
       "output_type": "stream",
       "stream": "stdout",
       "text": [
        "\n",
        "[ 0.          0.         -0.00808081 -0.06380952  0.14023904  0.00724839]"
       ]
      },
      {
       "output_type": "stream",
       "stream": "stdout",
       "text": [
        "\n",
        "[ 0.          0.         -0.01160542 -0.11011673  0.06190476 -0.03643596]"
       ]
      },
      {
       "output_type": "stream",
       "stream": "stdout",
       "text": [
        "\n",
        "[ 0.         -0.00195312 -0.00816327 -0.11713147  0.04773663 -0.03045318]"
       ]
      },
      {
       "output_type": "stream",
       "stream": "stdout",
       "text": [
        "\n",
        "[ 0.          0.         -0.01619433 -0.11372549  0.07351779 -0.02198508]"
       ]
      },
      {
       "output_type": "stream",
       "stream": "stdout",
       "text": [
        "\n",
        "[ 0.          0.         -0.00792079 -0.10359281  0.10638298 -0.03029678]"
       ]
      },
      {
       "output_type": "stream",
       "stream": "stdout",
       "text": [
        "\n",
        "[ 0.          0.         -0.00612245 -0.10238095  0.09207921 -0.00788902]"
       ]
      },
      {
       "output_type": "stream",
       "stream": "stdout",
       "text": [
        "\n",
        "[-0.0020202  -0.00196078 -0.00560748 -0.12699387  0.07623762 -0.0284975 ]"
       ]
      },
      {
       "output_type": "stream",
       "stream": "stdout",
       "text": [
        "\n",
        "[ 0.          0.         -0.01207243 -0.11138211  0.06252546 -0.02793954]"
       ]
      },
      {
       "output_type": "stream",
       "stream": "stdout",
       "text": [
        "\n",
        "[ 0.          0.         -0.00775194 -0.13952096  0.03732535 -0.04720966]"
       ]
      },
      {
       "output_type": "stream",
       "stream": "stdout",
       "text": [
        "\n",
        "[ 0.         -0.00198807 -0.00380952 -0.11807466  0.06174242 -0.03217117]"
       ]
      },
      {
       "output_type": "stream",
       "stream": "stdout",
       "text": [
        "\n",
        "Optimization terminated successfully.\n",
        "         Current function value: 0.012192\n",
        "         Iterations: 24\n",
        "         Function evaluations: 52\n",
        "[ 0.         -0.0020284  -0.00996016 -0.13684211  0.03333333 -0.02608372]"
       ]
      },
      {
       "output_type": "stream",
       "stream": "stdout",
       "text": [
        "\n"
       ]
      },
      {
       "javascript": [
        "$('div#09e687dd-3a60-466f-9995-e1df5203ef35').width('21.28%')"
       ],
       "metadata": {},
       "output_type": "display_data",
       "text": [
        "<IPython.core.display.Javascript at 0x7f73341ec590>"
       ]
      },
      {
       "output_type": "stream",
       "stream": "stdout",
       "text": [
        "[-0.00210084 -0.01908397  0.09578313  0.26733871  0.12670565  0.31186324]\n",
        "[ 0.         -0.01158301  0.09313725  0.38541667  0.12301587  0.29830717]"
       ]
      },
      {
       "output_type": "stream",
       "stream": "stdout",
       "text": [
        "\n",
        "[-0.00196078 -0.00193424  0.128389    0.50913758  0.2424812   0.57899248]"
       ]
      },
      {
       "output_type": "stream",
       "stream": "stdout",
       "text": [
        "\n",
        "[-0.00198807 -0.0210325   0.03174274  0.2252495   0.05932203  0.16332075]"
       ]
      },
      {
       "output_type": "stream",
       "stream": "stdout",
       "text": [
        "\n",
        "[-0.00201207 -0.00394477  0.08248945  0.31028513  0.10076046  0.29571133]"
       ]
      },
      {
       "output_type": "stream",
       "stream": "stdout",
       "text": [
        "\n",
        "[-0.01335878 -0.01923077 -0.00717092  0.16417625  0.07312253  0.19497088]"
       ]
      },
      {
       "output_type": "stream",
       "stream": "stdout",
       "text": [
        "\n",
        "[-0.01383399 -0.06185567 -0.08076923  0.04230769  0.01814516 -0.12139392]"
       ]
      },
      {
       "output_type": "stream",
       "stream": "stdout",
       "text": [
        "\n",
        "[-0.03558052 -0.19731801 -0.34609375 -0.07292089  0.00578035 -0.48641075]"
       ]
      },
      {
       "output_type": "stream",
       "stream": "stdout",
       "text": [
        "\n",
        "[-0.01273885 -0.09181637 -0.12494908  0.08366337  0.03617021  0.03645839]"
       ]
      },
      {
       "output_type": "stream",
       "stream": "stdout",
       "text": [
        "\n",
        "[-0.01428571 -0.08118812 -0.14045643  0.05038536  0.01461378 -0.05865034]"
       ]
      },
      {
       "output_type": "stream",
       "stream": "stdout",
       "text": [
        "\n",
        "[-0.03483607 -0.14226804 -0.29333996 -0.03823529  0.00828157 -0.22172241]"
       ]
      },
      {
       "output_type": "stream",
       "stream": "stdout",
       "text": [
        "\n",
        "[-0.02231237 -0.10794297 -0.17285115  0.02017208  0.01449275 -0.08277997]"
       ]
      },
      {
       "output_type": "stream",
       "stream": "stdout",
       "text": [
        "\n",
        "[-0.05811623 -0.16798419 -0.26568627 -0.04393939  0.01509434 -0.19900827]"
       ]
      },
      {
       "output_type": "stream",
       "stream": "stdout",
       "text": [
        "\n",
        "[ 0.         -0.04040404 -0.04077568  0.13323699  0.04819277  0.08311209]"
       ]
      },
      {
       "output_type": "stream",
       "stream": "stdout",
       "text": [
        "\n",
        "[-0.03256705 -0.07531381 -0.18194154 -0.03104839  0.00608519 -0.2323154 ]"
       ]
      },
      {
       "output_type": "stream",
       "stream": "stdout",
       "text": [
        "\n",
        "[-0.01372549 -0.05494505 -0.05        0.09710425  0.06160164  0.08667004]"
       ]
      },
      {
       "output_type": "stream",
       "stream": "stdout",
       "text": [
        "\n",
        "[-0.00390625 -0.03962264 -0.03534483  0.17258065  0.04048583  0.10091597]"
       ]
      },
      {
       "output_type": "stream",
       "stream": "stdout",
       "text": [
        "\n",
        "[-0.003861   -0.03789474 -0.06604938  0.1450495   0.05040323  0.04650545]"
       ]
      },
      {
       "output_type": "stream",
       "stream": "stdout",
       "text": [
        "\n",
        "[-0.01030928 -0.05400372 -0.05849421  0.10360825  0.02935421 -0.02905991]"
       ]
      },
      {
       "output_type": "stream",
       "stream": "stdout",
       "text": [
        "\n",
        "[-0.00407332 -0.02474227 -0.02164179  0.12639155  0.02819549 -0.05648268]"
       ]
      },
      {
       "output_type": "stream",
       "stream": "stdout",
       "text": [
        "\n",
        "[-0.00570342 -0.02186879  0.0197479   0.19262948  0.06882591  0.10232175]"
       ]
      },
      {
       "output_type": "stream",
       "stream": "stdout",
       "text": [
        "\n",
        "[-0.00587084 -0.06918239 -0.08625255  0.02623762  0.01512287 -0.0297536 ]"
       ]
      },
      {
       "output_type": "stream",
       "stream": "stdout",
       "text": [
        "\n",
        "[-0.00190476 -0.04930966 -0.07047244  0.06499014  0.03913894 -0.05420912]"
       ]
      },
      {
       "output_type": "stream",
       "stream": "stdout",
       "text": [
        "\n",
        "[-0.01369863 -0.08387097 -0.14108911  0.03259023  0.0240481  -0.14704786]"
       ]
      },
      {
       "output_type": "stream",
       "stream": "stdout",
       "text": [
        "\n",
        "[-0.00795229 -0.05       -0.04315895  0.12667984  0.03017241  0.04050012]"
       ]
      },
      {
       "output_type": "stream",
       "stream": "stdout",
       "text": [
        "\n",
        "[-0.00779727 -0.04255319 -0.01602317  0.10409836  0.05108055  0.10191151]"
       ]
      },
      {
       "output_type": "stream",
       "stream": "stdout",
       "text": [
        "\n",
        "[-0.00804829 -0.05306122 -0.06775899  0.06611002  0.01383399 -0.04935886]"
       ]
      },
      {
       "output_type": "stream",
       "stream": "stdout",
       "text": [
        "\n",
        "[-0.00767754 -0.04457364 -0.09756335  0.05689655  0.03012048 -0.17914058]"
       ]
      },
      {
       "output_type": "stream",
       "stream": "stdout",
       "text": [
        "\n",
        "[-0.01684211 -0.04511278 -0.01862745  0.10992063  0.03082852  0.05336368]"
       ]
      },
      {
       "output_type": "stream",
       "stream": "stdout",
       "text": [
        "\n",
        "[-0.00396825 -0.042      -0.05121951  0.07134387  0.02777778 -0.05614023]"
       ]
      },
      {
       "output_type": "stream",
       "stream": "stdout",
       "text": [
        "\n",
        "[-0.00970874 -0.06072874 -0.11693227  0.01839917  0.01714286 -0.12722675]"
       ]
      },
      {
       "output_type": "stream",
       "stream": "stdout",
       "text": [
        "\n",
        "[-0.01803607 -0.04743083 -0.07821577  0.1035497   0.0212766  -0.04879673]"
       ]
      },
      {
       "output_type": "stream",
       "stream": "stdout",
       "text": [
        "\n",
        "[-0.00792079 -0.048583   -0.04277108  0.08943662  0.03454894 -0.03428864]"
       ]
      },
      {
       "output_type": "stream",
       "stream": "stdout",
       "text": [
        "\n",
        "[-0.00965251 -0.06321839 -0.07393822  0.01363636  0.02357564 -0.13539618]"
       ]
      },
      {
       "output_type": "stream",
       "stream": "stdout",
       "text": [
        "\n",
        "[-0.00580271 -0.04038462 -0.06298174  0.0796748   0.02658487 -0.02026748]"
       ]
      },
      {
       "output_type": "stream",
       "stream": "stdout",
       "text": [
        "\n",
        "[-0.01757812 -0.05833333 -0.05792079  0.09744376  0.04453441 -0.02059095]"
       ]
      },
      {
       "output_type": "stream",
       "stream": "stdout",
       "text": [
        "\n",
        "[-0.00198413 -0.03797468 -0.0795082   0.06367521  0.03885481 -0.04510107]"
       ]
      },
      {
       "output_type": "stream",
       "stream": "stdout",
       "text": [
        "\n",
        "[-0.01026694 -0.05957447 -0.05781893  0.09466019  0.02794411 -0.04775959]"
       ]
      },
      {
       "output_type": "stream",
       "stream": "stdout",
       "text": [
        "\n",
        "[-0.00808081 -0.0392562  -0.04688109  0.05428016  0.01680672 -0.03964726]"
       ]
      },
      {
       "output_type": "stream",
       "stream": "stdout",
       "text": [
        "\n",
        "[-0.00398406 -0.05040323 -0.07244094  0.06384929  0.0218254  -0.04276615]"
       ]
      },
      {
       "output_type": "stream",
       "stream": "stdout",
       "text": [
        "\n",
        "[-0.01609658 -0.06490872 -0.12744511  0.05886076  0.02217742 -0.03418173]"
       ]
      },
      {
       "output_type": "stream",
       "stream": "stdout",
       "text": [
        "\n",
        "[-0.00393701 -0.04655493 -0.0645749   0.08780488  0.02713178 -0.04030759]"
       ]
      },
      {
       "output_type": "stream",
       "stream": "stdout",
       "text": [
        "\n",
        "[-0.00592885 -0.05577689 -0.04653179  0.10585938  0.03792415 -0.02888465]"
       ]
      },
      {
       "output_type": "stream",
       "stream": "stdout",
       "text": [
        "\n",
        "[-0.00992063 -0.04928131 -0.08647295  0.07970297  0.03292181 -0.0385283 ]"
       ]
      },
      {
       "output_type": "stream",
       "stream": "stdout",
       "text": [
        "\n",
        "[-0.01768173 -0.0443038  -0.06181263  0.07900763  0.03131115 -0.00944687]"
       ]
      },
      {
       "output_type": "stream",
       "stream": "stdout",
       "text": [
        "\n",
        "[-0.0059761  -0.05       -0.09324324  0.06188119  0.01859504 -0.03824135]"
       ]
      },
      {
       "output_type": "stream",
       "stream": "stdout",
       "text": [
        "\n",
        "[-0.008      -0.04705882 -0.0539604   0.07846442  0.02952756 -0.04682505]"
       ]
      },
      {
       "output_type": "stream",
       "stream": "stdout",
       "text": [
        "\n",
        "[-0.0105042  -0.05175983 -0.0827044   0.09693878  0.03065134 -0.01972289]"
       ]
      },
      {
       "output_type": "stream",
       "stream": "stdout",
       "text": [
        "\n",
        "[-0.00614754 -0.03809524 -0.06280603  0.07823985  0.01814516 -0.05829028]"
       ]
      },
      {
       "output_type": "stream",
       "stream": "stdout",
       "text": [
        "\n",
        "[-0.00596421 -0.04077253 -0.07201493  0.08705179  0.01972387 -0.07462717]"
       ]
      },
      {
       "output_type": "stream",
       "stream": "stdout",
       "text": [
        "\n",
        "[-0.00203252 -0.05295316 -0.03618042  0.08242188  0.0341556  -0.0373507 ]"
       ]
      },
      {
       "output_type": "stream",
       "stream": "stdout",
       "text": [
        "\n",
        "[-0.00595238 -0.05075188 -0.0516129   0.11546906  0.01702128 -0.02918672]"
       ]
      },
      {
       "output_type": "stream",
       "stream": "stdout",
       "text": [
        "\n",
        "[-0.00579151 -0.04242424 -0.04105691  0.08858921  0.03382664 -0.0234965 ]"
       ]
      },
      {
       "output_type": "stream",
       "stream": "stdout",
       "text": [
        "\n",
        "[-0.00793651 -0.05588822 -0.08668639  0.10349301  0.04048583 -0.03105093]"
       ]
      },
      {
       "output_type": "stream",
       "stream": "stdout",
       "text": [
        "\n",
        "[-0.00594059 -0.05691057 -0.04807692  0.07020202  0.02514507 -0.05906743]"
       ]
      },
      {
       "output_type": "stream",
       "stream": "stdout",
       "text": [
        "\n",
        "[-0.00411523 -0.05283757 -0.0519802   0.09439919  0.04330709 -0.03457207]"
       ]
      },
      {
       "output_type": "stream",
       "stream": "stdout",
       "text": [
        "\n",
        "[-0.01440329 -0.05625    -0.05226843  0.05039293  0.03305785 -0.05147249]"
       ]
      },
      {
       "output_type": "stream",
       "stream": "stdout",
       "text": [
        "\n",
        "[-0.00792079 -0.06225681 -0.09151697  0.07268041  0.0210325  -0.02513076]"
       ]
      },
      {
       "output_type": "stream",
       "stream": "stdout",
       "text": [
        "\n",
        "[-0.01219512 -0.05510204 -0.0504008   0.10335893  0.02880658 -0.03679712]"
       ]
      },
      {
       "output_type": "stream",
       "stream": "stdout",
       "text": [
        "\n",
        "[-0.01190476 -0.06586826 -0.07567288  0.03237705  0.02647658 -0.05207061]"
       ]
      },
      {
       "output_type": "stream",
       "stream": "stdout",
       "text": [
        "\n",
        "[-0.00413223 -0.06586826 -0.05416667  0.0980315   0.04678363 -0.03705363]"
       ]
      },
      {
       "output_type": "stream",
       "stream": "stdout",
       "text": [
        "\n",
        "[-0.00422833 -0.02674897 -0.04556452  0.08446894  0.04098361 -0.02607322]"
       ]
      },
      {
       "output_type": "stream",
       "stream": "stdout",
       "text": [
        "\n",
        "[-0.00389105 -0.03941909 -0.06355236  0.09517375  0.03       -0.03241577]"
       ]
      },
      {
       "output_type": "stream",
       "stream": "stdout",
       "text": [
        "\n",
        "[-0.00579151 -0.05168986 -0.05703934  0.0795082   0.02731092 -0.03299131]"
       ]
      },
      {
       "output_type": "stream",
       "stream": "stdout",
       "text": [
        "\n",
        "Optimization terminated successfully.\n",
        "         Current function value: 0.008605\n",
        "         Iterations: 28\n",
        "         Function evaluations: 64\n",
        "[-0.0039604  -0.04528302 -0.04649805  0.05977597  0.0311284  -0.04777348]"
       ]
      },
      {
       "output_type": "stream",
       "stream": "stdout",
       "text": [
        "\n"
       ]
      },
      {
       "javascript": [
        "$('div#09e687dd-3a60-466f-9995-e1df5203ef35').width('23.40%')"
       ],
       "metadata": {},
       "output_type": "display_data",
       "text": [
        "<IPython.core.display.Javascript at 0x7f733421a710>"
       ]
      },
      {
       "output_type": "stream",
       "stream": "stdout",
       "text": [
        "[-0.00384615 -0.0078125   0.08032787  0.45384615  0.102       0.32522995]\n",
        "[ 0.         -0.01217039  0.106       0.52929293  0.11088296  0.33203335]"
       ]
      },
      {
       "output_type": "stream",
       "stream": "stdout",
       "text": [
        "\n",
        "[ 0.         -0.00403226  0.11728016  0.66857143  0.24596774  0.59059632]"
       ]
      },
      {
       "output_type": "stream",
       "stream": "stdout",
       "text": [
        "\n",
        "[-0.00614754 -0.0307377   0.03477366  0.36885246  0.055666    0.18595495]"
       ]
      },
      {
       "output_type": "stream",
       "stream": "stdout",
       "text": [
        "\n",
        "[-0.00380952 -0.00828157  0.06053678  0.43243243  0.1037182   0.31999889]"
       ]
      },
      {
       "output_type": "stream",
       "stream": "stdout",
       "text": [
        "\n",
        "[-0.0059761  -0.04032258 -0.0471831   0.28942116  0.043222    0.19611326]"
       ]
      },
      {
       "output_type": "stream",
       "stream": "stdout",
       "text": [
        "\n",
        "[-0.00990099 -0.07042254 -0.09159664  0.19917012  0.02745098 -0.09334554]"
       ]
      },
      {
       "output_type": "stream",
       "stream": "stdout",
       "text": [
        "\n",
        "[-0.042      -0.18218623 -0.31351085  0.09876543  0.00787402 -0.45874495]"
       ]
      },
      {
       "output_type": "stream",
       "stream": "stdout",
       "text": [
        "\n",
        "[-0.02074689 -0.05882353 -0.08586745  0.22653061  0.028463    0.06264034]"
       ]
      },
      {
       "output_type": "stream",
       "stream": "stdout",
       "text": [
        "\n",
        "[-0.01629328 -0.05927342 -0.15165289  0.17254902  0.01737452 -0.07177905]"
       ]
      },
      {
       "output_type": "stream",
       "stream": "stdout",
       "text": [
        "\n",
        "[-0.052      -0.15885947 -0.32216495  0.09881423  0.00571429 -0.26955571]"
       ]
      },
      {
       "output_type": "stream",
       "stream": "stdout",
       "text": [
        "\n",
        "[-0.03639847 -0.15306122 -0.29378698  0.109375    0.00384615 -0.20540946]"
       ]
      },
      {
       "output_type": "stream",
       "stream": "stdout",
       "text": [
        "\n",
        "[-0.04356846 -0.17693837 -0.36439539  0.07959184  0.00643777 -0.25954935]"
       ]
      },
      {
       "output_type": "stream",
       "stream": "stdout",
       "text": [
        "\n",
        "[-0.00606061 -0.02474227 -0.02473684  0.25248509  0.03448276  0.07731448]"
       ]
      },
      {
       "output_type": "stream",
       "stream": "stdout",
       "text": [
        "\n",
        "[-0.00393701 -0.01677149  0.05077821  0.41015625  0.104       0.28456643]"
       ]
      },
      {
       "output_type": "stream",
       "stream": "stdout",
       "text": [
        "\n",
        "[-0.02822581 -0.08316832 -0.18398821  0.15168539  0.01084599 -0.09030317]"
       ]
      },
      {
       "output_type": "stream",
       "stream": "stdout",
       "text": [
        "\n",
        "[-0.03024194 -0.11392405 -0.18011583  0.11022044  0.0122449  -0.24547395]"
       ]
      },
      {
       "output_type": "stream",
       "stream": "stdout",
       "text": [
        "\n",
        "[-0.03359684 -0.0797546  -0.15612245  0.148       0.00390625 -0.11242153]"
       ]
      },
      {
       "output_type": "stream",
       "stream": "stdout",
       "text": [
        "\n",
        "[-0.00809717 -0.03762376 -0.03019802  0.23166023  0.05316973  0.04243087]"
       ]
      },
      {
       "output_type": "stream",
       "stream": "stdout",
       "text": [
        "\n",
        "[-0.01026694 -0.04426559  0.01409736  0.32065217  0.0483871   0.10596797]"
       ]
      },
      {
       "output_type": "stream",
       "stream": "stdout",
       "text": [
        "\n",
        "[-0.01635992 -0.1003937  -0.16836735  0.17322835  0.02135922 -0.16663292]"
       ]
      },
      {
       "output_type": "stream",
       "stream": "stdout",
       "text": [
        "\n",
        "[-0.01174168 -0.05749487 -0.05        0.22995781  0.0210325   0.01325415]"
       ]
      },
      {
       "output_type": "stream",
       "stream": "stdout",
       "text": [
        "\n",
        "[-0.00948767 -0.06225681 -0.09897119  0.20392157  0.01629328 -0.1535295 ]"
       ]
      },
      {
       "output_type": "stream",
       "stream": "stdout",
       "text": [
        "\n",
        "[-0.016      -0.07364341 -0.06984436  0.22821577  0.02339181  0.00595478]"
       ]
      },
      {
       "output_type": "stream",
       "stream": "stdout",
       "text": [
        "\n",
        "[-0.00584795 -0.04674797 -0.04096509  0.26953125  0.03543307  0.10973497]"
       ]
      },
      {
       "output_type": "stream",
       "stream": "stdout",
       "text": [
        "\n",
        "[-0.01541426 -0.05631068 -0.13571429  0.18307087  0.0212766  -0.05826704]"
       ]
      },
      {
       "output_type": "stream",
       "stream": "stdout",
       "text": [
        "\n",
        "[-0.00595238 -0.05490196 -0.10661914  0.23658052  0.02923977 -0.08084625]"
       ]
      },
      {
       "output_type": "stream",
       "stream": "stdout",
       "text": [
        "\n",
        "[-0.00798403 -0.06883365 -0.038       0.22774327  0.026      -0.01060537]"
       ]
      },
      {
       "output_type": "stream",
       "stream": "stdout",
       "text": [
        "\n",
        "[-0.02708333 -0.06772908 -0.07088353  0.20120724  0.02816901  0.04187107]"
       ]
      },
      {
       "output_type": "stream",
       "stream": "stdout",
       "text": [
        "\n",
        "[-0.01778656 -0.07436399 -0.13714859  0.19635628  0.02208835  0.10181962]"
       ]
      },
      {
       "output_type": "stream",
       "stream": "stdout",
       "text": [
        "\n",
        "[-0.00796813 -0.03206413 -0.01188525  0.25301205  0.03495146  0.07661629]"
       ]
      },
      {
       "output_type": "stream",
       "stream": "stdout",
       "text": [
        "\n",
        "[-0.02330508 -0.09619238 -0.06399177  0.16500994  0.01217039 -0.03616503]"
       ]
      },
      {
       "output_type": "stream",
       "stream": "stdout",
       "text": [
        "\n",
        "[-0.01984127 -0.08964143 -0.13219697  0.17136659  0.0139165  -0.02801402]"
       ]
      },
      {
       "output_type": "stream",
       "stream": "stdout",
       "text": [
        "\n",
        "[-0.01239669 -0.09343936 -0.13309572  0.12180747  0.01818182 -0.05629984]"
       ]
      },
      {
       "output_type": "stream",
       "stream": "stdout",
       "text": [
        "\n",
        "[-0.01431493 -0.05846774 -0.10775194  0.19879518  0.03174603  0.03120868]"
       ]
      },
      {
       "output_type": "stream",
       "stream": "stdout",
       "text": [
        "\n",
        "[-0.03543307 -0.09179688 -0.15669546  0.11111111  0.02        0.0007535 ]"
       ]
      },
      {
       "output_type": "stream",
       "stream": "stdout",
       "text": [
        "\n",
        "[-0.01596806 -0.09221311 -0.12217742  0.15686275  0.00835073 -0.07779392]"
       ]
      },
      {
       "output_type": "stream",
       "stream": "stdout",
       "text": [
        "\n",
        "[-0.01587302 -0.07399577 -0.08232323  0.22044088  0.0260521   0.01193843]"
       ]
      },
      {
       "output_type": "stream",
       "stream": "stdout",
       "text": [
        "\n",
        "[-0.0185567  -0.07645875 -0.14058116  0.16666667  0.01768173 -0.04870288]"
       ]
      },
      {
       "output_type": "stream",
       "stream": "stdout",
       "text": [
        "\n",
        "[-0.01237113 -0.0977131  -0.10941423  0.17821782  0.02794411 -0.04057868]"
       ]
      },
      {
       "output_type": "stream",
       "stream": "stdout",
       "text": [
        "\n",
        "[-0.018      -0.09638554 -0.15161943  0.13102119  0.01002004 -0.03803798]"
       ]
      },
      {
       "output_type": "stream",
       "stream": "stdout",
       "text": [
        "\n",
        "[-0.01380671 -0.06550218 -0.09539877  0.1969697   0.02898551 -0.00219476]"
       ]
      },
      {
       "output_type": "stream",
       "stream": "stdout",
       "text": [
        "\n",
        "[-0.01568627 -0.07099391 -0.13456914  0.17684211  0.02083333 -0.06386385]"
       ]
      },
      {
       "output_type": "stream",
       "stream": "stdout",
       "text": [
        "\n",
        "[-0.02873563 -0.06286837 -0.10910931  0.21146245  0.00867679 -0.04905475]"
       ]
      },
      {
       "output_type": "stream",
       "stream": "stdout",
       "text": [
        "\n",
        "[-0.00416667 -0.08070866 -0.12680312  0.19507187  0.02140078 -0.00945735]"
       ]
      },
      {
       "output_type": "stream",
       "stream": "stdout",
       "text": [
        "\n",
        "[-0.01785714 -0.08506616 -0.09395161  0.21526419  0.027897   -0.01744962]"
       ]
      },
      {
       "output_type": "stream",
       "stream": "stdout",
       "text": [
        "\n",
        "[-0.02231237 -0.08840864 -0.11035503  0.17073171  0.012      -0.02589319]"
       ]
      },
      {
       "output_type": "stream",
       "stream": "stdout",
       "text": [
        "\n",
        "[-0.01079914 -0.07827789 -0.10138632  0.19087137  0.03099174  0.00584888]"
       ]
      },
      {
       "output_type": "stream",
       "stream": "stdout",
       "text": [
        "\n",
        "[-0.01941748 -0.07212476 -0.10656566  0.16767677  0.0251938  -0.04362644]"
       ]
      },
      {
       "output_type": "stream",
       "stream": "stdout",
       "text": [
        "\n",
        "[-0.02524272 -0.0887574  -0.11774848  0.15247525  0.01871102 -0.03006041]"
       ]
      },
      {
       "output_type": "stream",
       "stream": "stdout",
       "text": [
        "\n",
        "[-0.01984127 -0.08366534 -0.13716904  0.20242915  0.02330097 -0.03424634]"
       ]
      },
      {
       "output_type": "stream",
       "stream": "stdout",
       "text": [
        "\n",
        "[-0.01229508 -0.07630522 -0.11628352  0.22309198  0.01431493 -0.02342216]"
       ]
      },
      {
       "output_type": "stream",
       "stream": "stdout",
       "text": [
        "\n",
        "[-0.01807229 -0.10763209 -0.08412698  0.22176591  0.01394422 -0.049698  ]"
       ]
      },
      {
       "output_type": "stream",
       "stream": "stdout",
       "text": [
        "\n",
        "[-0.00784314 -0.07824427 -0.10825243  0.20610687  0.02734375 -0.03925902]"
       ]
      },
      {
       "output_type": "stream",
       "stream": "stdout",
       "text": [
        "\n",
        "[-0.01639344 -0.0708502  -0.11694045  0.184       0.02204409 -0.03313515]"
       ]
      },
      {
       "output_type": "stream",
       "stream": "stdout",
       "text": [
        "\n",
        "[-0.01526718 -0.07561437 -0.1004817   0.13867188  0.01612903 -0.02676326]"
       ]
      },
      {
       "output_type": "stream",
       "stream": "stdout",
       "text": [
        "\n",
        "[-0.03082852 -0.06066536 -0.06818182  0.22155689  0.03541667 -0.01812921]"
       ]
      },
      {
       "output_type": "stream",
       "stream": "stdout",
       "text": [
        "\n",
        "[-0.00968992 -0.0859375  -0.14324895  0.19793814  0.02719665 -0.03815996]"
       ]
      },
      {
       "output_type": "stream",
       "stream": "stdout",
       "text": [
        "\n",
        "Optimization terminated successfully.\n",
        "         Current function value: 0.036253\n",
        "         Iterations: 23\n",
        "         Function evaluations: 58\n",
        "[-0.01033058 -0.07572816 -0.10258799  0.19238477  0.01851852 -0.02365193]"
       ]
      },
      {
       "output_type": "stream",
       "stream": "stdout",
       "text": [
        "\n"
       ]
      },
      {
       "javascript": [
        "$('div#09e687dd-3a60-466f-9995-e1df5203ef35').width('25.53%')"
       ],
       "metadata": {},
       "output_type": "display_data",
       "text": [
        "<IPython.core.display.Javascript at 0x7f7334092ed0>"
       ]
      },
      {
       "output_type": "stream",
       "stream": "stdout",
       "text": [
        "[-0.00372439 -0.01559454 -0.02662083  0.19506903  0.11960784  0.0975505 ]\n",
        "[ 0.         -0.00798403  0.01161616  0.20383142  0.15660377  0.11169096]"
       ]
      },
      {
       "output_type": "stream",
       "stream": "stdout",
       "text": [
        "\n",
        "[-0.00197239 -0.01014199  0.02623762  0.37134269  0.26033058  0.39030411]"
       ]
      },
      {
       "output_type": "stream",
       "stream": "stdout",
       "text": [
        "\n",
        "[ 0.         -0.021611   -0.0624498   0.05672515  0.05316973 -0.01163691]"
       ]
      },
      {
       "output_type": "stream",
       "stream": "stdout",
       "text": [
        "\n",
        "[-0.00417537 -0.02244898 -0.02414449  0.14333996  0.14031621  0.10975442]"
       ]
      },
      {
       "output_type": "stream",
       "stream": "stdout",
       "text": [
        "\n",
        "[-0.00197628 -0.04150943 -0.12635271  0.01325301  0.04733728 -0.01238427]"
       ]
      },
      {
       "output_type": "stream",
       "stream": "stdout",
       "text": [
        "\n",
        "[-0.01489362 -0.05263158 -0.16900826 -0.12194617  0.0254902  -0.32612491]"
       ]
      },
      {
       "output_type": "stream",
       "stream": "stdout",
       "text": [
        "\n",
        "[-0.00204918 -0.02857143 -0.08636364  0.01863727  0.06225681 -0.11107569]"
       ]
      },
      {
       "output_type": "stream",
       "stream": "stdout",
       "text": [
        "\n",
        "[-0.01026694 -0.05555556 -0.16649485 -0.028       0.03305785 -0.09967688]"
       ]
      },
      {
       "output_type": "stream",
       "stream": "stdout",
       "text": [
        "\n",
        "[-0.00779727 -0.06613226 -0.19212598 -0.08514056  0.02964427 -0.1737263 ]"
       ]
      },
      {
       "output_type": "stream",
       "stream": "stdout",
       "text": [
        "\n",
        "[-0.01440329 -0.01443299 -0.01445312  0.11153082  0.08108108  0.04418675]"
       ]
      },
      {
       "output_type": "stream",
       "stream": "stdout",
       "text": [
        "\n",
        "[-0.01033058 -0.08097166 -0.19904215 -0.09358717  0.02723735 -0.190339  ]"
       ]
      },
      {
       "output_type": "stream",
       "stream": "stdout",
       "text": [
        "\n",
        "[-0.00594059 -0.01915709 -0.052       0.12510121  0.08249497  0.02545576]"
       ]
      },
      {
       "output_type": "stream",
       "stream": "stdout",
       "text": [
        "\n",
        "[-0.00198807 -0.01158301 -0.01762295  0.15362903  0.11342155  0.05420039]"
       ]
      },
      {
       "output_type": "stream",
       "stream": "stdout",
       "text": [
        "\n",
        "[-0.00197628 -0.01646091 -0.02326733  0.0992016   0.10838446  0.00023655]"
       ]
      },
      {
       "output_type": "stream",
       "stream": "stdout",
       "text": [
        "\n",
        "[-0.0059761  -0.03366337 -0.08052209  0.018       0.06525912 -0.06068181]"
       ]
      },
      {
       "output_type": "stream",
       "stream": "stdout",
       "text": [
        "\n",
        "[-0.00198807 -0.02884615 -0.04218437  0.07951807  0.06876228  0.09513629]"
       ]
      },
      {
       "output_type": "stream",
       "stream": "stdout",
       "text": [
        "\n",
        "[-0.00384615 -0.02079002 -0.03514851  0.10316206  0.07515658  0.04996144]"
       ]
      },
      {
       "output_type": "stream",
       "stream": "stdout",
       "text": [
        "\n",
        "[-0.00613497 -0.03531599 -0.094      -0.01347249  0.05578512 -0.04143086]"
       ]
      },
      {
       "output_type": "stream",
       "stream": "stdout",
       "text": [
        "\n",
        "[-0.01239669 -0.03824092 -0.09689266 -0.01014493  0.05454545 -0.08191   ]"
       ]
      },
      {
       "output_type": "stream",
       "stream": "stdout",
       "text": [
        "\n",
        "[-0.00792079 -0.03522505 -0.1052795   0.02170543  0.04901961 -0.04994832]"
       ]
      },
      {
       "output_type": "stream",
       "stream": "stdout",
       "text": [
        "\n",
        "[-0.00785855 -0.04509804 -0.15980392 -0.08138528  0.03448276 -0.12560659]"
       ]
      },
      {
       "output_type": "stream",
       "stream": "stdout",
       "text": [
        "\n",
        "[-0.00402414 -0.01616162 -0.06313131  0.04291581  0.09716599  0.02141849]"
       ]
      },
      {
       "output_type": "stream",
       "stream": "stdout",
       "text": [
        "\n",
        "[-0.01       -0.02066116 -0.05040161  0.06345382  0.03354298 -0.05467688]"
       ]
      },
      {
       "output_type": "stream",
       "stream": "stdout",
       "text": [
        "\n",
        "[ 0.         -0.02898551 -0.0436255   0.07288136  0.07561437 -0.00544186]"
       ]
      },
      {
       "output_type": "stream",
       "stream": "stdout",
       "text": [
        "\n",
        "[-0.00197628 -0.02521008 -0.08255361  0.04068136  0.03258656 -0.07579868]"
       ]
      },
      {
       "output_type": "stream",
       "stream": "stdout",
       "text": [
        "\n",
        "[-0.00190114 -0.02294455 -0.07015504  0.06692015  0.04320988 -0.01910553]"
       ]
      },
      {
       "output_type": "stream",
       "stream": "stdout",
       "text": [
        "\n",
        "[-0.00396825 -0.01622718 -0.05816327  0.04502924  0.07992203  0.02272986]"
       ]
      },
      {
       "output_type": "stream",
       "stream": "stdout",
       "text": [
        "\n",
        "[ 0.         -0.01028807 -0.01868687  0.122       0.05613306 -0.01618923]"
       ]
      },
      {
       "output_type": "stream",
       "stream": "stdout",
       "text": [
        "\n",
        "[-0.00594059 -0.02352941 -0.07179487 -0.00672098  0.0515873  -0.05129784]"
       ]
      },
      {
       "output_type": "stream",
       "stream": "stdout",
       "text": [
        "\n",
        "[-0.00612245 -0.03991597 -0.074       0.01163708  0.06517312 -0.02797647]"
       ]
      },
      {
       "output_type": "stream",
       "stream": "stdout",
       "text": [
        "\n",
        "[-0.00567108 -0.02020202 -0.03431373 -0.01314741  0.04330709 -0.08809706]"
       ]
      },
      {
       "output_type": "stream",
       "stream": "stdout",
       "text": [
        "\n",
        "[-0.00409836 -0.02385686 -0.05344828  0.03133733  0.04526749 -0.07018951]"
       ]
      },
      {
       "output_type": "stream",
       "stream": "stdout",
       "text": [
        "\n",
        "[-0.00389105 -0.02873563 -0.10009747 -0.02920696  0.04809619 -0.10184278]"
       ]
      },
      {
       "output_type": "stream",
       "stream": "stdout",
       "text": [
        "\n",
        "[-0.00389864 -0.01568627 -0.08097713  0.06647173  0.03191489 -0.045559  ]"
       ]
      },
      {
       "output_type": "stream",
       "stream": "stdout",
       "text": [
        "\n",
        "[-0.00813008 -0.02484472 -0.07909836  0.05515873  0.04040404 -0.02440551]"
       ]
      },
      {
       "output_type": "stream",
       "stream": "stdout",
       "text": [
        "\n",
        "[-0.00996016 -0.01953125 -0.04716599  0.03333333  0.05338809 -0.05082288]"
       ]
      },
      {
       "output_type": "stream",
       "stream": "stdout",
       "text": [
        "\n",
        "[-0.00400802 -0.03225806 -0.06867704  0.032       0.05590062 -0.04665272]"
       ]
      },
      {
       "output_type": "stream",
       "stream": "stdout",
       "text": [
        "\n",
        "[-0.00192678 -0.01778656 -0.05728745  0.05225049  0.04642166 -0.05887326]"
       ]
      },
      {
       "output_type": "stream",
       "stream": "stdout",
       "text": [
        "\n",
        "[-0.00420168 -0.02208835 -0.06133201  0.07051793  0.04989605 -0.03966792]"
       ]
      },
      {
       "output_type": "stream",
       "stream": "stdout",
       "text": [
        "\n",
        "[-0.00411523 -0.03212851 -0.07291667  0.05625     0.05410822 -0.05389397]"
       ]
      },
      {
       "output_type": "stream",
       "stream": "stdout",
       "text": [
        "\n",
        "[-0.002079   -0.02272727 -0.06302682  0.05073069  0.0480167  -0.03066251]"
       ]
      },
      {
       "output_type": "stream",
       "stream": "stdout",
       "text": [
        "\n",
        "[-0.0020202  -0.02345416 -0.05465116  0.06511156  0.062249   -0.06484988]"
       ]
      },
      {
       "output_type": "stream",
       "stream": "stdout",
       "text": [
        "\n",
        "[-0.00194175 -0.02434077 -0.03565737  0.01976744  0.05490196 -0.03404957]"
       ]
      },
      {
       "output_type": "stream",
       "stream": "stdout",
       "text": [
        "\n",
        "[-0.00191939 -0.02140078 -0.05344828  0.04782609  0.04918033 -0.03685233]"
       ]
      },
      {
       "output_type": "stream",
       "stream": "stdout",
       "text": [
        "\n",
        "[-0.00404858 -0.02352941 -0.07623274  0.0313253   0.05859375 -0.01539657]"
       ]
      },
      {
       "output_type": "stream",
       "stream": "stdout",
       "text": [
        "\n",
        "[-0.00200401 -0.0170778  -0.04514563  0.03604888  0.0465587  -0.01460178]"
       ]
      },
      {
       "output_type": "stream",
       "stream": "stdout",
       "text": [
        "\n",
        "[-0.0040404  -0.01992032 -0.04657948  0.0254902   0.05       -0.04196582]"
       ]
      },
      {
       "output_type": "stream",
       "stream": "stdout",
       "text": [
        "\n",
        "[-0.00202429 -0.01796407 -0.04129512  0.06919831  0.05102041 -0.04729305]"
       ]
      },
      {
       "output_type": "stream",
       "stream": "stdout",
       "text": [
        "\n",
        "[-0.00187266 -0.0214425  -0.03        0.05770751  0.05427975 -0.02911988]"
       ]
      },
      {
       "output_type": "stream",
       "stream": "stdout",
       "text": [
        "\n",
        "[-0.00572519 -0.02231237 -0.03961303  0.04004024  0.05753968 -0.04476998]"
       ]
      },
      {
       "output_type": "stream",
       "stream": "stdout",
       "text": [
        "\n",
        "[-0.00592885 -0.02208835 -0.08963039  0.06893204  0.0502008  -0.02590017]"
       ]
      },
      {
       "output_type": "stream",
       "stream": "stdout",
       "text": [
        "\n",
        "[-0.00655022 -0.03162055 -0.06478599  0.04939759  0.03409091 -0.04308289]"
       ]
      },
      {
       "output_type": "stream",
       "stream": "stdout",
       "text": [
        "\n",
        "[-0.00195312 -0.01568627 -0.04663866  0.06290323  0.04821803 -0.03360622]"
       ]
      },
      {
       "output_type": "stream",
       "stream": "stdout",
       "text": [
        "\n",
        "[-0.00192308 -0.02173913 -0.07371134  0.06652542  0.05122951 -0.02982429]"
       ]
      },
      {
       "output_type": "stream",
       "stream": "stdout",
       "text": [
        "\n",
        "[-0.00616016 -0.03006012 -0.08894325  0.07274549  0.05490196 -0.04350884]"
       ]
      },
      {
       "output_type": "stream",
       "stream": "stdout",
       "text": [
        "\n",
        "[ 0.         -0.01237113 -0.05        0.05928144  0.06165703 -0.04390921]"
       ]
      },
      {
       "output_type": "stream",
       "stream": "stdout",
       "text": [
        "\n",
        "[ 0.         -0.02057613 -0.05474308  0.05934292  0.06225681 -0.02289489]"
       ]
      },
      {
       "output_type": "stream",
       "stream": "stdout",
       "text": [
        "\n",
        "Optimization terminated successfully.\n",
        "         Current function value: 0.006014\n",
        "         Iterations: 29\n",
        "         Function evaluations: 58\n",
        "[-0.00392157 -0.02235772 -0.03712871  0.05714286  0.07       -0.02367438]"
       ]
      },
      {
       "output_type": "stream",
       "stream": "stdout",
       "text": [
        "\n"
       ]
      },
      {
       "javascript": [
        "$('div#09e687dd-3a60-466f-9995-e1df5203ef35').width('27.66%')"
       ],
       "metadata": {},
       "output_type": "display_data",
       "text": [
        "<IPython.core.display.Javascript at 0x7f7333fdcb50>"
       ]
      },
      {
       "output_type": "stream",
       "stream": "stdout",
       "text": [
        "[ 0.         -0.02766798  0.08921569 -0.04720617 -0.01956522 -0.04535922]\n",
        "[ 0.         -0.00621118  0.07600423  0.01568627 -0.03823529 -0.04128453]"
       ]
      },
      {
       "output_type": "stream",
       "stream": "stdout",
       "text": [
        "\n",
        "[ 0.         -0.00592885  0.1194501   0.13917526  0.09        0.23529912]"
       ]
      },
      {
       "output_type": "stream",
       "stream": "stdout",
       "text": [
        "\n",
        "[-0.00434783 -0.02610442  0.0352459  -0.158      -0.11039604 -0.18531592]"
       ]
      },
      {
       "output_type": "stream",
       "stream": "stdout",
       "text": [
        "\n",
        "[ 0.         -0.01383399  0.08647541 -0.04775828 -0.04840637 -0.05048737]"
       ]
      },
      {
       "output_type": "stream",
       "stream": "stdout",
       "text": [
        "\n",
        "[-0.01046025 -0.05070994 -0.03200837 -0.20807453 -0.09257426 -0.15830316]"
       ]
      },
      {
       "output_type": "stream",
       "stream": "stdout",
       "text": [
        "\n",
        "[-0.01048218 -0.06586826 -0.06679687 -0.3004158  -0.11981132 -0.46809701]"
       ]
      },
      {
       "output_type": "stream",
       "stream": "stdout",
       "text": [
        "\n",
        "[ 0.         -0.00775194  0.10402299  0.04527938 -0.0147541   0.08057903]"
       ]
      },
      {
       "output_type": "stream",
       "stream": "stdout",
       "text": [
        "\n",
        "[ 0.          0.          0.13050682  0.12075848  0.03525896  0.05920902]"
       ]
      },
      {
       "output_type": "stream",
       "stream": "stdout",
       "text": [
        "\n",
        "[ 0.         -0.00203252  0.13340249  0.16602687  0.11305609  0.16642152]"
       ]
      },
      {
       "output_type": "stream",
       "stream": "stdout",
       "text": [
        "\n",
        "[ 0.         -0.02658487  0.07759295 -0.02822581 -0.07946058 -0.0775207 ]"
       ]
      },
      {
       "output_type": "stream",
       "stream": "stdout",
       "text": [
        "\n",
        "[-0.00411523 -0.02988048 -0.00308151 -0.18537074 -0.08       -0.12018207]"
       ]
      },
      {
       "output_type": "stream",
       "stream": "stdout",
       "text": [
        "\n",
        "[ 0.         -0.00403226  0.12211155  0.05384615 -0.0015625   0.01348816]"
       ]
      },
      {
       "output_type": "stream",
       "stream": "stdout",
       "text": [
        "\n",
        "[ 0.         -0.01171875  0.11062992  0.11046512  0.05235756  0.07677312]"
       ]
      },
      {
       "output_type": "stream",
       "stream": "stdout",
       "text": [
        "\n",
        "[ 0.         -0.00823045  0.06942149 -0.01084813 -0.01907021 -0.06170428]"
       ]
      },
      {
       "output_type": "stream",
       "stream": "stdout",
       "text": [
        "\n",
        "[-0.00582524 -0.01359223  0.06871456 -0.04805726 -0.05356394 -0.12626896]"
       ]
      },
      {
       "output_type": "stream",
       "stream": "stdout",
       "text": [
        "\n",
        "[ 0.         -0.00206186  0.10740365  0.01669941 -0.0046169   0.02705752]"
       ]
      },
      {
       "output_type": "stream",
       "stream": "stdout",
       "text": [
        "\n",
        "[-0.00211416 -0.03099174  0.05138067 -0.07115385 -0.06355599 -0.07650086]"
       ]
      },
      {
       "output_type": "stream",
       "stream": "stdout",
       "text": [
        "\n",
        "[-0.00576923 -0.00601202  0.11680498 -0.00203252  0.00459883 -0.00349265]"
       ]
      },
      {
       "output_type": "stream",
       "stream": "stdout",
       "text": [
        "\n",
        "[ 0.         -0.01052632  0.10238095  0.07317073 -0.01427146 -0.00364343]"
       ]
      },
      {
       "output_type": "stream",
       "stream": "stdout",
       "text": [
        "\n",
        "[-0.00382409 -0.00952381  0.08279022 -0.06211813 -0.05285714 -0.02643876]"
       ]
      },
      {
       "output_type": "stream",
       "stream": "stdout",
       "text": [
        "\n",
        "[ 0.         -0.00194175  0.10884774  0.05870445 -0.01004057 -0.01071196]"
       ]
      },
      {
       "output_type": "stream",
       "stream": "stdout",
       "text": [
        "\n",
        "[ 0.         -0.01234568  0.087751   -0.00992063 -0.02548638 -0.03664115]"
       ]
      },
      {
       "output_type": "stream",
       "stream": "stdout",
       "text": [
        "\n",
        "[ 0.         -0.00808081  0.07843327 -0.05769231 -0.04205703 -0.04689973]"
       ]
      },
      {
       "output_type": "stream",
       "stream": "stdout",
       "text": [
        "\n",
        "[-0.0018797  -0.01425662  0.06260163 -0.02272727 -0.03333333 -0.04262168]"
       ]
      },
      {
       "output_type": "stream",
       "stream": "stdout",
       "text": [
        "\n",
        "[-0.00390625 -0.00798403  0.09807692 -0.00202429  0.00876289  0.00290906]"
       ]
      },
      {
       "output_type": "stream",
       "stream": "stdout",
       "text": [
        "\n",
        "[ 0.         -0.01918977  0.09824017 -0.00880626 -0.0375502  -0.08847213]"
       ]
      },
      {
       "output_type": "stream",
       "stream": "stdout",
       "text": [
        "\n",
        "[-0.00199601 -0.01041667  0.10043103  0.01859504 -0.01614173  0.0041912 ]"
       ]
      },
      {
       "output_type": "stream",
       "stream": "stdout",
       "text": [
        "\n",
        "[-0.00195312 -0.01158301  0.09280079 -0.01157895 -0.05322581 -0.06471399]"
       ]
      },
      {
       "output_type": "stream",
       "stream": "stdout",
       "text": [
        "\n",
        "[ 0.         -0.00200803  0.10608782  0.036      -0.0097561  -0.01932453]"
       ]
      },
      {
       "output_type": "stream",
       "stream": "stdout",
       "text": [
        "\n",
        "[ 0.         -0.0210084   0.08256262  0.00684932 -0.03607595 -0.02904159]"
       ]
      },
      {
       "output_type": "stream",
       "stream": "stdout",
       "text": [
        "\n",
        "[ 0.         -0.01301115  0.08650794  0.06487026 -0.02254902 -0.0189208 ]"
       ]
      },
      {
       "output_type": "stream",
       "stream": "stdout",
       "text": [
        "\n",
        "[-0.00200401 -0.00819672  0.10284872 -0.00793651  0.01500994 -0.04530294]"
       ]
      },
      {
       "output_type": "stream",
       "stream": "stdout",
       "text": [
        "\n",
        "[-0.00395257 -0.00380952  0.11215139 -0.02272727 -0.0302521  -0.03752772]"
       ]
      },
      {
       "output_type": "stream",
       "stream": "stdout",
       "text": [
        "\n",
        "[ 0.         -0.02286902  0.09071146  0.02087912 -0.02920792 -0.01098779]"
       ]
      },
      {
       "output_type": "stream",
       "stream": "stdout",
       "text": [
        "\n",
        "[-0.0020284  -0.00824742  0.09343434  0.04489796 -0.01481113 -0.0367067 ]"
       ]
      },
      {
       "output_type": "stream",
       "stream": "stdout",
       "text": [
        "\n",
        "[ 0.         -0.01383399  0.10339806 -0.01919192 -0.04154013 -0.05473951]"
       ]
      },
      {
       "output_type": "stream",
       "stream": "stdout",
       "text": [
        "\n",
        "[-0.00575816 -0.002079    0.08824701 -0.0334728  -0.00801217 -0.0291257 ]"
       ]
      },
      {
       "output_type": "stream",
       "stream": "stdout",
       "text": [
        "\n",
        "[ 0.         -0.02226721  0.08181818 -0.01138716 -0.04823875 -0.03534551]"
       ]
      },
      {
       "output_type": "stream",
       "stream": "stdout",
       "text": [
        "\n",
        "[-0.0039604  -0.02135922  0.07957746 -0.00393701 -0.04256198 -0.02664248]"
       ]
      },
      {
       "output_type": "stream",
       "stream": "stdout",
       "text": [
        "\n",
        "[ 0.         -0.01632653  0.0875     -0.00411523 -0.02640449 -0.0319077 ]"
       ]
      },
      {
       "output_type": "stream",
       "stream": "stdout",
       "text": [
        "\n",
        "[ 0.         -0.02066116  0.0852381  -0.00191571 -0.05725806 -0.04477008]"
       ]
      },
      {
       "output_type": "stream",
       "stream": "stdout",
       "text": [
        "\n",
        "[-0.00194175 -0.00821355  0.08061224  0.03518124 -0.03955823 -0.02965108]"
       ]
      },
      {
       "output_type": "stream",
       "stream": "stdout",
       "text": [
        "\n",
        "[-0.00391389 -0.01178782  0.06417166 -0.03692615 -0.05784314 -0.0405862 ]"
       ]
      },
      {
       "output_type": "stream",
       "stream": "stdout",
       "text": [
        "\n",
        "[-0.00192678 -0.01046025  0.09023904 -0.00607287 -0.01965812 -0.03692096]"
       ]
      },
      {
       "output_type": "stream",
       "stream": "stdout",
       "text": [
        "\n",
        "[-0.0020284  -0.00603622  0.07015968 -0.01446281 -0.00996055 -0.04119529]"
       ]
      },
      {
       "output_type": "stream",
       "stream": "stdout",
       "text": [
        "\n",
        "[-0.00413223 -0.00813008  0.08280632 -0.04700855 -0.0125498  -0.03071496]"
       ]
      },
      {
       "output_type": "stream",
       "stream": "stdout",
       "text": [
        "\n",
        "[-0.00198807 -0.01388889  0.07534381 -0.00098232 -0.02279843 -0.03577026]"
       ]
      },
      {
       "output_type": "stream",
       "stream": "stdout",
       "text": [
        "\n",
        "Optimization terminated successfully.\n",
        "         Current function value: 0.006968\n",
        "         Iterations: 20\n",
        "         Function evaluations: 48\n",
        "[-0.00403226 -0.01188119  0.094       0.05335968 -0.04430894 -0.02819769]"
       ]
      },
      {
       "output_type": "stream",
       "stream": "stdout",
       "text": [
        "\n"
       ]
      },
      {
       "javascript": [
        "$('div#09e687dd-3a60-466f-9995-e1df5203ef35').width('29.79%')"
       ],
       "metadata": {},
       "output_type": "display_data",
       "text": [
        "<IPython.core.display.Javascript at 0x7f73340dd0d0>"
       ]
      },
      {
       "output_type": "stream",
       "stream": "stdout",
       "text": [
        "[-0.0019802   0.04171843  0.13164062  0.32764228  0.09108911  0.14578168]\n",
        "[ 0.          0.03638132  0.14501018  0.39508197  0.15068493  0.14835131]"
       ]
      },
      {
       "output_type": "stream",
       "stream": "stdout",
       "text": [
        "\n",
        "[-0.00195695  0.04409449  0.16215139  0.50742574  0.24571429  0.40832048]"
       ]
      },
      {
       "output_type": "stream",
       "stream": "stdout",
       "text": [
        "\n",
        "[-0.00202429  0.034375    0.09163498  0.20166994  0.04715128 -0.01787533]"
       ]
      },
      {
       "output_type": "stream",
       "stream": "stdout",
       "text": [
        "\n",
        "[-0.00423729  0.03993964  0.12534381  0.29166667  0.10139165  0.1392606 ]"
       ]
      },
      {
       "output_type": "stream",
       "stream": "stdout",
       "text": [
        "\n",
        "[-0.01383399  0.00325203  0.0065764   0.15284553  0.07156673  0.02477121]"
       ]
      },
      {
       "output_type": "stream",
       "stream": "stdout",
       "text": [
        "\n",
        "[-0.0233463  -0.00859375 -0.04329502  0.00592516  0.016      -0.28536352]"
       ]
      },
      {
       "output_type": "stream",
       "stream": "stdout",
       "text": [
        "\n",
        "[-0.01988072 -0.01809339 -0.06538462  0.03924303  0.03992016 -0.13478684]"
       ]
      },
      {
       "output_type": "stream",
       "stream": "stdout",
       "text": [
        "\n",
        "[-0.04780876 -0.11064257 -0.19921722 -0.05585774  0.00575816 -0.27275099]"
       ]
      },
      {
       "output_type": "stream",
       "stream": "stdout",
       "text": [
        "\n",
        "[-0.0164271  -0.01813627 -0.10571992  0.00087041  0.02380952 -0.23936502]"
       ]
      },
      {
       "output_type": "stream",
       "stream": "stdout",
       "text": [
        "\n",
        "[-0.03474903 -0.11498994 -0.23653846 -0.06700405  0.00622407 -0.40014995]"
       ]
      },
      {
       "output_type": "stream",
       "stream": "stdout",
       "text": [
        "\n",
        "[-0.00396825  0.032       0.075       0.18723197  0.07184466  0.0082907 ]"
       ]
      },
      {
       "output_type": "stream",
       "stream": "stdout",
       "text": [
        "\n",
        "[ 0.          0.00914397  0.05831622  0.19745763  0.07337526  0.13888261]"
       ]
      },
      {
       "output_type": "stream",
       "stream": "stdout",
       "text": [
        "\n",
        "[-0.00408163  0.02647059  0.13529412  0.3007874   0.13450292  0.23543245]"
       ]
      },
      {
       "output_type": "stream",
       "stream": "stdout",
       "text": [
        "\n",
        "[-0.01612903  0.00582329 -0.00125786  0.1         0.0304878  -0.10329523]"
       ]
      },
      {
       "output_type": "stream",
       "stream": "stdout",
       "text": [
        "\n",
        "[-0.01014199  0.00047619 -0.02494888  0.04560878  0.03245436 -0.24424956]"
       ]
      },
      {
       "output_type": "stream",
       "stream": "stdout",
       "text": [
        "\n",
        "[-0.008      -0.00100182  0.02413088  0.10995807  0.05060729 -0.11913363]"
       ]
      },
      {
       "output_type": "stream",
       "stream": "stdout",
       "text": [
        "\n",
        "[-0.01147228 -0.05655738 -0.07254509  0.05192308  0.03515625 -0.14739573]"
       ]
      },
      {
       "output_type": "stream",
       "stream": "stdout",
       "text": [
        "\n",
        "[-0.02674897 -0.0451417  -0.17843137  0.01129032  0.0148423  -0.24281357]"
       ]
      },
      {
       "output_type": "stream",
       "stream": "stdout",
       "text": [
        "\n",
        "[-0.00576923  0.02017893  0.04677419  0.13039216  0.04069767 -0.07380608]"
       ]
      },
      {
       "output_type": "stream",
       "stream": "stdout",
       "text": [
        "\n",
        "[-0.00201613  0.02755102  0.08271605  0.20670103  0.04819277 -0.01599593]"
       ]
      },
      {
       "output_type": "stream",
       "stream": "stdout",
       "text": [
        "\n",
        "[-0.00806452 -0.02056452 -0.05568182  0.09008351  0.03125    -0.10949114]"
       ]
      },
      {
       "output_type": "stream",
       "stream": "stdout",
       "text": [
        "\n",
        "[-0.015625   -0.00976096 -0.02692308  0.11853707  0.0417495  -0.01064332]"
       ]
      },
      {
       "output_type": "stream",
       "stream": "stdout",
       "text": [
        "\n",
        "[-0.02489627 -0.04349593 -0.02727273  0.118       0.05521472  0.04593361]"
       ]
      },
      {
       "output_type": "stream",
       "stream": "stdout",
       "text": [
        "\n",
        "[-0.02669405 -0.005666   -0.06060606  0.02034068  0.01619433 -0.19359982]"
       ]
      },
      {
       "output_type": "stream",
       "stream": "stdout",
       "text": [
        "\n",
        "[-0.00589391  0.00381526  0.02149712  0.09854369  0.0407332  -0.05296911]"
       ]
      },
      {
       "output_type": "stream",
       "stream": "stdout",
       "text": [
        "\n",
        "[-0.02805611 -0.0372211  -0.1046729   0.05564516  0.02952756 -0.12434695]"
       ]
      },
      {
       "output_type": "stream",
       "stream": "stdout",
       "text": [
        "\n",
        "[-0.01428571  0.00247148 -0.00038911  0.14961089  0.05882353 -0.07319624]"
       ]
      },
      {
       "output_type": "stream",
       "stream": "stdout",
       "text": [
        "\n",
        "[-0.01587302 -0.01286837  0.03367556  0.12290837  0.03909465 -0.04940892]"
       ]
      },
      {
       "output_type": "stream",
       "stream": "stdout",
       "text": [
        "\n",
        "[-0.00956023 -0.00186722  0.02352941  0.13323699  0.03225806 -0.08938534]"
       ]
      },
      {
       "output_type": "stream",
       "stream": "stdout",
       "text": [
        "\n",
        "[-0.00612245 -0.00555556 -0.04906367  0.12394636  0.04918033 -0.08038839]"
       ]
      },
      {
       "output_type": "stream",
       "stream": "stdout",
       "text": [
        "\n",
        "[-0.01633394 -0.00905512 -0.03719165  0.09016563  0.04722793 -0.08593253]"
       ]
      },
      {
       "output_type": "stream",
       "stream": "stdout",
       "text": [
        "\n",
        "[-0.00199203  0.00020747  0.02401656  0.12722772  0.05416667 -0.05857045]"
       ]
      },
      {
       "output_type": "stream",
       "stream": "stdout",
       "text": [
        "\n",
        "[-0.01574803 -0.00991736  0.01002088  0.13397566  0.05451128 -0.04356588]"
       ]
      },
      {
       "output_type": "stream",
       "stream": "stdout",
       "text": [
        "\n",
        "[-0.01538462  0.01138211  0.01673307  0.13346457  0.07086614 -0.02481465]"
       ]
      },
      {
       "output_type": "stream",
       "stream": "stdout",
       "text": [
        "\n",
        "[-0.01046025 -0.00432596  0.01983806  0.16352459  0.03703704 -0.0202782 ]"
       ]
      },
      {
       "output_type": "stream",
       "stream": "stdout",
       "text": [
        "\n",
        "[-0.01006036 -0.01530612 -0.01616162  0.11954733  0.03250478 -0.06683698]"
       ]
      },
      {
       "output_type": "stream",
       "stream": "stdout",
       "text": [
        "\n",
        "[-0.01204819  0.00372233  0.0021978   0.10403226  0.06041667 -0.02394109]"
       ]
      },
      {
       "output_type": "stream",
       "stream": "stdout",
       "text": [
        "\n",
        "[-0.01221996 -0.0009165   0.03497053  0.16111111  0.05577689 -0.04681586]"
       ]
      },
      {
       "output_type": "stream",
       "stream": "stdout",
       "text": [
        "\n",
        "[-0.00619835  0.00463918 -0.01703854  0.08454158  0.044      -0.04239048]"
       ]
      },
      {
       "output_type": "stream",
       "stream": "stdout",
       "text": [
        "\n",
        "[-0.01464435 -0.01066946  0.02974138  0.127666    0.04025424 -0.04725801]"
       ]
      },
      {
       "output_type": "stream",
       "stream": "stdout",
       "text": [
        "\n",
        "[ -1.62271805e-02   9.59692898e-05   4.07331976e-04   1.19306931e-01\n",
        "   3.72549020e-02  -4.44450481e-02]"
       ]
      },
      {
       "output_type": "stream",
       "stream": "stdout",
       "text": [
        "\n",
        "[-0.00406504  0.00533981  0.01176471  0.13076923  0.05263158 -0.01852284]"
       ]
      },
      {
       "output_type": "stream",
       "stream": "stdout",
       "text": [
        "\n",
        "[-0.01192843 -0.02920792  0.01923077  0.13661088  0.04313725  0.00596592]"
       ]
      },
      {
       "output_type": "stream",
       "stream": "stdout",
       "text": [
        "\n",
        "[-0.00607287  0.00608782 -0.01063395  0.11693227  0.03944773 -0.0469136 ]"
       ]
      },
      {
       "output_type": "stream",
       "stream": "stdout",
       "text": [
        "\n",
        "[-0.01568627  0.01245059 -0.00874751  0.1189243   0.04752852 -0.03830457]"
       ]
      },
      {
       "output_type": "stream",
       "stream": "stdout",
       "text": [
        "\n",
        "[-0.01526718  0.01551724 -0.01272366  0.12683616  0.04948454 -0.05135111]"
       ]
      },
      {
       "output_type": "stream",
       "stream": "stdout",
       "text": [
        "\n",
        "[-0.0040404   0.00171026 -0.0033195   0.12325581  0.03807615 -0.03247709]"
       ]
      },
      {
       "output_type": "stream",
       "stream": "stdout",
       "text": [
        "\n",
        "[-0.00965251 -0.01772908  0.0153527   0.11785714  0.04665314 -0.04350732]"
       ]
      },
      {
       "output_type": "stream",
       "stream": "stdout",
       "text": [
        "\n",
        "[-0.00809717 -0.01425703  0.01335953  0.10319149  0.046875   -0.03892394]"
       ]
      },
      {
       "output_type": "stream",
       "stream": "stdout",
       "text": [
        "\n",
        "[-0.00829876 -0.01275304  0.00784314  0.0946184   0.04807692 -0.04741634]"
       ]
      },
      {
       "output_type": "stream",
       "stream": "stdout",
       "text": [
        "\n",
        "[-0.00606061 -0.01734694 -0.00750988  0.12254509  0.07222222 -0.02379738]"
       ]
      },
      {
       "output_type": "stream",
       "stream": "stdout",
       "text": [
        "\n",
        "Optimization terminated successfully.\n",
        "         Current function value: 0.011230\n",
        "         Iterations: 20\n",
        "         Function evaluations: 52\n",
        "[-0.01226994 -0.02226562 -0.01384929  0.13340081  0.04158416 -0.05028174]"
       ]
      },
      {
       "output_type": "stream",
       "stream": "stdout",
       "text": [
        "\n"
       ]
      },
      {
       "javascript": [
        "$('div#09e687dd-3a60-466f-9995-e1df5203ef35').width('31.91%')"
       ],
       "metadata": {},
       "output_type": "display_data",
       "text": [
        "<IPython.core.display.Javascript at 0x7f733401ef50>"
       ]
      },
      {
       "output_type": "stream",
       "stream": "stdout",
       "text": [
        "[ 0.09418605  0.18412698  0.05457256 -0.10314961 -0.26067961 -0.1634908 ]\n",
        "[ 0.09798793  0.1980198   0.09653465 -0.02389558 -0.22007874 -0.16164583]"
       ]
      },
      {
       "output_type": "stream",
       "stream": "stdout",
       "text": [
        "\n",
        "[ 0.0979716   0.1961165   0.11146435  0.07828283 -0.11923077  0.10392198]"
       ]
      },
      {
       "output_type": "stream",
       "stream": "stdout",
       "text": [
        "\n",
        "[ 0.09579832  0.17254902  0.02704918 -0.19049587 -0.28177388 -0.31459409]"
       ]
      },
      {
       "output_type": "stream",
       "stream": "stdout",
       "text": [
        "\n",
        "[ 0.09416342  0.18412698  0.0469697  -0.06383399 -0.25384615 -0.18774333]"
       ]
      },
      {
       "output_type": "stream",
       "stream": "stdout",
       "text": [
        "\n",
        "[ 0.08224852  0.15375723 -0.03452381 -0.26875    -0.30409182 -0.29731912]"
       ]
      },
      {
       "output_type": "stream",
       "stream": "stdout",
       "text": [
        "\n",
        "[ 0.1         0.19787234  0.13151951  0.15146138 -0.12062374  0.00795492]"
       ]
      },
      {
       "output_type": "stream",
       "stream": "stdout",
       "text": [
        "\n",
        "[ 0.1         0.19804305  0.13031496  0.16142285 -0.00060241  0.12921287]"
       ]
      },
      {
       "output_type": "stream",
       "stream": "stdout",
       "text": [
        "\n",
        "[ 0.1         0.19815157  0.14595142  0.21907631 -0.01666667  0.11680963]"
       ]
      },
      {
       "output_type": "stream",
       "stream": "stdout",
       "text": [
        "\n",
        "[ 0.1         0.2         0.14591002  0.28233533  0.05162272  0.20935233]"
       ]
      },
      {
       "output_type": "stream",
       "stream": "stdout",
       "text": [
        "\n",
        "[ 0.1         0.18765432  0.09904459  0.01787763 -0.18499006 -0.05647339]"
       ]
      },
      {
       "output_type": "stream",
       "stream": "stdout",
       "text": [
        "\n",
        "[ 0.1         0.19796748  0.13760331  0.22514793  0.04181287  0.22761302]"
       ]
      },
      {
       "output_type": "stream",
       "stream": "stdout",
       "text": [
        "\n",
        "[ 0.1         0.19607843  0.10516569  0.04631148 -0.15078895 -0.03759831]"
       ]
      },
      {
       "output_type": "stream",
       "stream": "stdout",
       "text": [
        "\n",
        "[ 0.09793814  0.18995984  0.11828753 -0.03015873 -0.20981308 -0.08310274]"
       ]
      },
      {
       "output_type": "stream",
       "stream": "stdout",
       "text": [
        "\n",
        "[ 0.1         0.19350649  0.12528517  0.03955224 -0.17226981 -0.03405272]"
       ]
      },
      {
       "output_type": "stream",
       "stream": "stdout",
       "text": [
        "\n",
        "[ 0.1         0.19031008  0.09257426 -0.04706458 -0.27089249 -0.15833629]"
       ]
      },
      {
       "output_type": "stream",
       "stream": "stdout",
       "text": [
        "\n",
        "[ 0.1         0.1958159   0.12674419  0.11153846 -0.08828125  0.06106531]"
       ]
      },
      {
       "output_type": "stream",
       "stream": "stdout",
       "text": [
        "\n",
        "[ 0.1         0.19805825  0.08724696 -0.01245059 -0.11968504  0.01505782]"
       ]
      },
      {
       "output_type": "stream",
       "stream": "stdout",
       "text": [
        "\n",
        "[ 0.09161426  0.18027613  0.06295547 -0.03453608 -0.12461707  0.007915  ]"
       ]
      },
      {
       "output_type": "stream",
       "stream": "stdout",
       "text": [
        "\n",
        "[ 0.09799197  0.1943609   0.10394737  0.06382114 -0.13207739  0.0357034 ]"
       ]
      },
      {
       "output_type": "stream",
       "stream": "stdout",
       "text": [
        "\n",
        "[ 0.1         0.19598394  0.11718147  0.13774704 -0.07137405  0.12245313]"
       ]
      },
      {
       "output_type": "stream",
       "stream": "stdout",
       "text": [
        "\n",
        "[ 0.09795918  0.19596774  0.1207113   0.02928118 -0.13864971  0.00326208]"
       ]
      },
      {
       "output_type": "stream",
       "stream": "stdout",
       "text": [
        "\n",
        "[ 0.09621212  0.19215686  0.11502058 -0.01201232 -0.18141762 -0.07219453]"
       ]
      },
      {
       "output_type": "stream",
       "stream": "stdout",
       "text": [
        "\n",
        "[ 0.09353448  0.19575372  0.11428571  0.08211382 -0.12596741  0.06213394]"
       ]
      },
      {
       "output_type": "stream",
       "stream": "stdout",
       "text": [
        "\n",
        "[ 0.1         0.17478992  0.07089249 -0.0686722  -0.19765625 -0.05071531]"
       ]
      },
      {
       "output_type": "stream",
       "stream": "stdout",
       "text": [
        "\n",
        "[ 0.1         0.19383984  0.12346939  0.09828897 -0.12079108  0.01832712]"
       ]
      },
      {
       "output_type": "stream",
       "stream": "stdout",
       "text": [
        "\n",
        "[ 0.0959432   0.18635478  0.09375    -0.03637317 -0.16906615 -0.02094907]"
       ]
      },
      {
       "output_type": "stream",
       "stream": "stdout",
       "text": [
        "\n",
        "[ 0.09799197  0.19391481  0.07433538 -0.02047244 -0.20940594 -0.0640485 ]"
       ]
      },
      {
       "output_type": "stream",
       "stream": "stdout",
       "text": [
        "\n",
        "[ 0.1         0.19415205  0.09477318  0.09081633 -0.14107505  0.02572667]"
       ]
      },
      {
       "output_type": "stream",
       "stream": "stdout",
       "text": [
        "\n",
        "[ 0.09779736  0.18312236  0.064      -0.00540797 -0.10670103  0.07116603]"
       ]
      },
      {
       "output_type": "stream",
       "stream": "stdout",
       "text": [
        "\n",
        "[ 0.09796748  0.19036609  0.10209581 -0.00725646 -0.13752437  0.01999472]"
       ]
      },
      {
       "output_type": "stream",
       "stream": "stdout",
       "text": [
        "\n",
        "[ 0.09799599  0.1979798   0.08522267  0.06396304 -0.10337187  0.08123059]"
       ]
      },
      {
       "output_type": "stream",
       "stream": "stdout",
       "text": [
        "\n",
        "[ 0.09601594  0.19159664  0.06056911 -0.05393701 -0.10967413  0.08368256]"
       ]
      },
      {
       "output_type": "stream",
       "stream": "stdout",
       "text": [
        "\n",
        "[ 0.09600798  0.166      -0.02764471 -0.06272016 -0.1221519   0.05962099]"
       ]
      },
      {
       "output_type": "stream",
       "stream": "stdout",
       "text": [
        "\n",
        "[ 0.0778672   0.14683027 -0.10403226 -0.11547619 -0.071174    0.04528339]"
       ]
      },
      {
       "output_type": "stream",
       "stream": "stdout",
       "text": [
        "\n",
        "[ 0.0894958   0.15736434  0.00433071 -0.11633663 -0.12690802  0.02952516]"
       ]
      },
      {
       "output_type": "stream",
       "stream": "stdout",
       "text": [
        "\n",
        "[ 0.09398798  0.14339623 -0.01326531 -0.09110899 -0.0962406   0.09128216]"
       ]
      },
      {
       "output_type": "stream",
       "stream": "stdout",
       "text": [
        "\n",
        "[ 0.08403194  0.13263158 -0.0719917  -0.13858268 -0.06819961  0.10736989]"
       ]
      },
      {
       "output_type": "stream",
       "stream": "stdout",
       "text": [
        "\n",
        "[ 0.09373695  0.15286885 -0.01390041 -0.15721063 -0.16425486  0.01657811]"
       ]
      },
      {
       "output_type": "stream",
       "stream": "stdout",
       "text": [
        "\n",
        "[ 0.09599198  0.15219124  0.0489899  -0.02692308 -0.10409836  0.08538552]"
       ]
      },
      {
       "output_type": "stream",
       "stream": "stdout",
       "text": [
        "\n",
        "[ 0.06819085  0.11717172 -0.06881391 -0.1583499  -0.13163265  0.00764664]"
       ]
      },
      {
       "output_type": "stream",
       "stream": "stdout",
       "text": [
        "\n",
        "[ 0.09798793  0.18434442  0.05888889 -0.05625    -0.12821782  0.07842187]"
       ]
      },
      {
       "output_type": "stream",
       "stream": "stdout",
       "text": [
        "\n",
        "[ 0.09586777  0.15626243 -0.00913556 -0.06       -0.11516634  0.08141706]"
       ]
      },
      {
       "output_type": "stream",
       "stream": "stdout",
       "text": [
        "\n",
        "[ 0.08859316  0.14015444 -0.02082534 -0.07674897 -0.10763747  0.05432466]"
       ]
      },
      {
       "output_type": "stream",
       "stream": "stdout",
       "text": [
        "\n",
        "[ 0.09604743  0.18594378  0.05336134 -0.02283702 -0.12272727  0.05165824]"
       ]
      },
      {
       "output_type": "stream",
       "stream": "stdout",
       "text": [
        "\n",
        "[ 0.09614644  0.1752381  -0.00102041 -0.05684932 -0.0995183   0.04749285]"
       ]
      },
      {
       "output_type": "stream",
       "stream": "stdout",
       "text": [
        "\n",
        "[ 0.09615385  0.18993964  0.08083004 -0.01492986 -0.10751503  0.08673457]"
       ]
      },
      {
       "output_type": "stream",
       "stream": "stdout",
       "text": [
        "\n",
        "[ 0.08765432  0.162818    0.00306122 -0.07897196 -0.15234834  0.03016233]"
       ]
      },
      {
       "output_type": "stream",
       "stream": "stdout",
       "text": [
        "\n",
        "[ 0.08221344  0.12692308 -0.02519685 -0.1120155  -0.03682505  0.06751962]"
       ]
      },
      {
       "output_type": "stream",
       "stream": "stdout",
       "text": [
        "\n",
        "[ 0.07227723  0.09378758 -0.14063098 -0.13034026 -0.06259843  0.09016048]"
       ]
      },
      {
       "output_type": "stream",
       "stream": "stdout",
       "text": [
        "\n",
        "[ 0.09395161  0.14514768  0.03931298 -0.05207469 -0.08465704  0.10306622]"
       ]
      },
      {
       "output_type": "stream",
       "stream": "stdout",
       "text": [
        "\n",
        "[ 0.08282443  0.1489603   0.00192308 -0.10381605 -0.10100402  0.06609332]"
       ]
      },
      {
       "output_type": "stream",
       "stream": "stdout",
       "text": [
        "\n",
        "[ 0.09074074  0.14176707 -0.00749526 -0.09       -0.10151515  0.08602066]"
       ]
      },
      {
       "output_type": "stream",
       "stream": "stdout",
       "text": [
        "\n",
        "[ 0.08627451  0.15463511  0.00433071 -0.07277228 -0.075       0.08682437]"
       ]
      },
      {
       "output_type": "stream",
       "stream": "stdout",
       "text": [
        "\n",
        "[ 0.09175258  0.17346939  0.02473461 -0.05901804 -0.10251509  0.06069221]"
       ]
      },
      {
       "output_type": "stream",
       "stream": "stdout",
       "text": [
        "\n",
        "[ 0.088       0.16090535  0.01144578 -0.07694611 -0.06317829  0.08412208]"
       ]
      },
      {
       "output_type": "stream",
       "stream": "stdout",
       "text": [
        "\n",
        "[ 0.07177419  0.12957746 -0.04807692 -0.08893443 -0.08833671  0.08353976]"
       ]
      },
      {
       "output_type": "stream",
       "stream": "stdout",
       "text": [
        "\n",
        "[ 0.075       0.12007797 -0.08137255 -0.164      -0.08996176  0.07512716]"
       ]
      },
      {
       "output_type": "stream",
       "stream": "stdout",
       "text": [
        "\n",
        "[ 0.09798387  0.15        0.00207101 -0.06919192 -0.07349272  0.09444556]"
       ]
      },
      {
       "output_type": "stream",
       "stream": "stdout",
       "text": [
        "\n",
        "[ 0.07473684  0.12828685 -0.03016194 -0.09070981 -0.11876268  0.05266727]"
       ]
      },
      {
       "output_type": "stream",
       "stream": "stdout",
       "text": [
        "\n",
        "[ 0.08039216  0.15560254 -0.04878296 -0.12029703 -0.05934959  0.07612213]"
       ]
      },
      {
       "output_type": "stream",
       "stream": "stdout",
       "text": [
        "\n",
        "[ 0.08464491  0.15283019 -0.0064482  -0.09313725 -0.10287356  0.06563983]"
       ]
      },
      {
       "output_type": "stream",
       "stream": "stdout",
       "text": [
        "\n",
        "[ 0.08987854  0.11472868 -0.06991701 -0.10172414 -0.06142285  0.06971868]"
       ]
      },
      {
       "output_type": "stream",
       "stream": "stdout",
       "text": [
        "\n",
        "[ 0.07674419  0.12785571 -0.0402834  -0.0880117  -0.0625      0.03895148]"
       ]
      },
      {
       "output_type": "stream",
       "stream": "stdout",
       "text": [
        "\n",
        "[ 0.07535934  0.15482546 -0.05386266 -0.12228916 -0.09224806  0.06828158]"
       ]
      },
      {
       "output_type": "stream",
       "stream": "stdout",
       "text": [
        "\n",
        "[ 0.08958333  0.14813278 -0.01049383 -0.04390244 -0.1025355   0.09003781]"
       ]
      },
      {
       "output_type": "stream",
       "stream": "stdout",
       "text": [
        "\n",
        "[ 0.08597194  0.12260692 -0.01500994 -0.11818182 -0.08291925  0.07092984]"
       ]
      },
      {
       "output_type": "stream",
       "stream": "stdout",
       "text": [
        "\n",
        "[ 0.07750511  0.13885602 -0.03951613 -0.08971487 -0.08372781  0.0886407 ]"
       ]
      },
      {
       "output_type": "stream",
       "stream": "stdout",
       "text": [
        "\n",
        "[ 0.08406375  0.10804598 -0.05155039 -0.12668712 -0.07912424  0.06154638]"
       ]
      },
      {
       "output_type": "stream",
       "stream": "stdout",
       "text": [
        "\n",
        "[ 0.08989899  0.12720307 -0.04472617 -0.152      -0.12131783  0.06504062]"
       ]
      },
      {
       "output_type": "stream",
       "stream": "stdout",
       "text": [
        "\n",
        "[ 0.07843137  0.15983087 -0.058413   -0.10598456 -0.0781746   0.09496353]"
       ]
      },
      {
       "output_type": "stream",
       "stream": "stdout",
       "text": [
        "\n",
        "[ 0.08841699  0.14423077 -0.03312757 -0.13691207 -0.03410853  0.08280628]"
       ]
      },
      {
       "output_type": "stream",
       "stream": "stdout",
       "text": [
        "\n",
        "[ 0.08422091  0.13529412 -0.03712274 -0.11477733 -0.04747899  0.07048504]"
       ]
      },
      {
       "output_type": "stream",
       "stream": "stdout",
       "text": [
        "\n",
        "[ 0.07346939  0.14018692 -0.06413721 -0.08182752 -0.08930754  0.07089928]"
       ]
      },
      {
       "output_type": "stream",
       "stream": "stdout",
       "text": [
        "\n",
        "[ 0.086       0.13608247 -0.02792793 -0.06814516 -0.08045267  0.06257758]"
       ]
      },
      {
       "output_type": "stream",
       "stream": "stdout",
       "text": [
        "\n",
        "[ 0.08425197  0.13320965 -0.0134981  -0.11997972 -0.09845361  0.09746563]"
       ]
      },
      {
       "output_type": "stream",
       "stream": "stdout",
       "text": [
        "\n",
        "Optimization terminated successfully.\n",
        "         Current function value: 0.037029\n",
        "         Iterations: 38\n",
        "         Function evaluations: 76\n",
        "[ 0.07363083  0.09224953 -0.06181263 -0.11445313 -0.08799127  0.04898914]"
       ]
      },
      {
       "output_type": "stream",
       "stream": "stdout",
       "text": [
        "\n"
       ]
      },
      {
       "javascript": [
        "$('div#09e687dd-3a60-466f-9995-e1df5203ef35').width('34.04%')"
       ],
       "metadata": {},
       "output_type": "display_data",
       "text": [
        "<IPython.core.display.Javascript at 0x7f73342db490>"
       ]
      },
      {
       "output_type": "stream",
       "stream": "stdout",
       "text": [
        "[ 0.         -0.01174168  0.1292543  -0.118      -0.03888889 -0.08541977]\n",
        "[-0.00221239  0.          0.15       -0.05643154 -0.00360825 -0.1072796 ]"
       ]
      },
      {
       "output_type": "stream",
       "stream": "stdout",
       "text": [
        "\n",
        "[ 0.         -0.00627615  0.16606786  0.1007874   0.11104418  0.1624648 ]"
       ]
      },
      {
       "output_type": "stream",
       "stream": "stdout",
       "text": [
        "\n",
        "[-0.00582524 -0.02165354  0.09803922 -0.29742489 -0.08796992 -0.24607554]"
       ]
      },
      {
       "output_type": "stream",
       "stream": "stdout",
       "text": [
        "\n",
        "[-0.00192308 -0.01606426  0.10729783 -0.13815261 -0.04980354 -0.10375041]"
       ]
      },
      {
       "output_type": "stream",
       "stream": "stdout",
       "text": [
        "\n",
        "[-0.02303263 -0.04380952  0.03238095 -0.29183673 -0.0889002  -0.2281804 ]"
       ]
      },
      {
       "output_type": "stream",
       "stream": "stdout",
       "text": [
        "\n",
        "[-0.00210084 -0.00205761  0.15020747 -0.0086444   0.09637681  0.10256554]"
       ]
      },
      {
       "output_type": "stream",
       "stream": "stdout",
       "text": [
        "\n",
        "[ 0.          0.          0.19593496  0.1782516   0.16422925  0.17206043]"
       ]
      },
      {
       "output_type": "stream",
       "stream": "stdout",
       "text": [
        "\n",
        "[-0.00196464 -0.00198807  0.17171717  0.063286    0.05850202  0.10631944]"
       ]
      },
      {
       "output_type": "stream",
       "stream": "stdout",
       "text": [
        "\n",
        "[ 0.         -0.02195609  0.10630975 -0.15098039 -0.08265306 -0.22814543]"
       ]
      },
      {
       "output_type": "stream",
       "stream": "stdout",
       "text": [
        "\n",
        "[ 0.         -0.00816327  0.1623431   0.01980198  0.02901235  0.08795193]"
       ]
      },
      {
       "output_type": "stream",
       "stream": "stdout",
       "text": [
        "\n",
        "[-0.00191939 -0.02554028  0.10495868 -0.22939959 -0.07291667 -0.13636903]"
       ]
      },
      {
       "output_type": "stream",
       "stream": "stdout",
       "text": [
        "\n",
        "[ 0.         -0.00200803  0.15824635  0.03168317  0.06242485  0.0309885 ]"
       ]
      },
      {
       "output_type": "stream",
       "stream": "stdout",
       "text": [
        "\n",
        "[ 0.         -0.00414938  0.1688716   0.06986564  0.15528376  0.11652672]"
       ]
      },
      {
       "output_type": "stream",
       "stream": "stdout",
       "text": [
        "\n",
        "[ 0.         -0.00829876  0.12585551 -0.05490982 -0.01168224 -0.04069286]"
       ]
      },
      {
       "output_type": "stream",
       "stream": "stdout",
       "text": [
        "\n",
        "[-0.00204082 -0.01553398  0.13319415 -0.15387524 -0.08230174 -0.16643607]"
       ]
      },
      {
       "output_type": "stream",
       "stream": "stdout",
       "text": [
        "\n",
        "[-0.00422833 -0.00389105  0.16007984  0.02523191  0.04565217  0.04076117]"
       ]
      },
      {
       "output_type": "stream",
       "stream": "stdout",
       "text": [
        "\n",
        "[ 0.         -0.00630252  0.17959184  0.07878788  0.04793814  0.09715088]"
       ]
      },
      {
       "output_type": "stream",
       "stream": "stdout",
       "text": [
        "\n",
        "[-0.00583658 -0.00625     0.15610687 -0.0501992  -0.01266094 -0.04174355]"
       ]
      },
      {
       "output_type": "stream",
       "stream": "stdout",
       "text": [
        "\n",
        "[-0.00200803  0.          0.15560254 -0.00254237  0.07179732  0.13148567]"
       ]
      },
      {
       "output_type": "stream",
       "stream": "stdout",
       "text": [
        "\n",
        "[ 0.         -0.00202429  0.14736842 -0.07484909  0.01735537 -0.04363286]"
       ]
      },
      {
       "output_type": "stream",
       "stream": "stdout",
       "text": [
        "\n",
        "[ 0.         -0.00642398  0.15619048 -0.13280318 -0.02109375 -0.08130127]"
       ]
      },
      {
       "output_type": "stream",
       "stream": "stdout",
       "text": [
        "\n",
        "[-0.00570342 -0.01008065  0.15303327 -0.01420118  0.05        0.05159369]"
       ]
      },
      {
       "output_type": "stream",
       "stream": "stdout",
       "text": [
        "\n",
        "[ 0.         -0.01691332  0.12827004 -0.10095602 -0.00380117 -0.06004827]"
       ]
      },
      {
       "output_type": "stream",
       "stream": "stdout",
       "text": [
        "\n",
        "[ 0.         -0.01489362  0.14831014 -0.10612245  0.02       -0.03565991]"
       ]
      },
      {
       "output_type": "stream",
       "stream": "stdout",
       "text": [
        "\n",
        "[ 0.         -0.01219512  0.13957115 -0.09706458 -0.00862786 -0.03972719]"
       ]
      },
      {
       "output_type": "stream",
       "stream": "stdout",
       "text": [
        "\n",
        "[ 0.         -0.00988142  0.13656716 -0.04969199  0.00936255 -0.00140204]"
       ]
      },
      {
       "output_type": "stream",
       "stream": "stdout",
       "text": [
        "\n",
        "[ 0.         -0.00824742  0.14931774 -0.07817048 -0.01847195 -0.0402657 ]"
       ]
      },
      {
       "output_type": "stream",
       "stream": "stdout",
       "text": [
        "\n",
        "[-0.00396825 -0.01006036  0.14129159 -0.00824742  0.01633663  0.01524174]"
       ]
      },
      {
       "output_type": "stream",
       "stream": "stdout",
       "text": [
        "\n",
        "[ 0.         -0.01635992  0.14716243 -0.04176707  0.02254174  0.00789336]"
       ]
      },
      {
       "output_type": "stream",
       "stream": "stdout",
       "text": [
        "\n",
        "[ 0.         -0.00614754  0.15740365 -0.04094488 -0.00170341  0.01466338]"
       ]
      },
      {
       "output_type": "stream",
       "stream": "stdout",
       "text": [
        "\n",
        "[ 0.         -0.00823045  0.15299145 -0.04580777  0.01334661  0.03411341]"
       ]
      },
      {
       "output_type": "stream",
       "stream": "stdout",
       "text": [
        "\n",
        "[ 0.         -0.01431493  0.14444444 -0.04111776  0.01806723 -0.01591491]"
       ]
      },
      {
       "output_type": "stream",
       "stream": "stdout",
       "text": [
        "\n",
        "[-0.00201207 -0.00835073  0.1334638  -0.08127341 -0.02265136 -0.01759672]"
       ]
      },
      {
       "output_type": "stream",
       "stream": "stdout",
       "text": [
        "\n",
        "[-0.00187617 -0.01156069  0.14674556 -0.08670757  0.02988395 -0.01105189]"
       ]
      },
      {
       "output_type": "stream",
       "stream": "stdout",
       "text": [
        "\n",
        "[ 0.         -0.00976562  0.14226804 -0.07169811  0.02241379 -0.00904009]"
       ]
      },
      {
       "output_type": "stream",
       "stream": "stdout",
       "text": [
        "\n",
        "[-0.00417537 -0.00195695  0.16296296 -0.08571429 -0.00404339  0.01897903]"
       ]
      },
      {
       "output_type": "stream",
       "stream": "stdout",
       "text": [
        "\n",
        "[-0.00592885 -0.00788955  0.14824017 -0.00847784  0.02741935  0.00045665]"
       ]
      },
      {
       "output_type": "stream",
       "stream": "stdout",
       "text": [
        "\n",
        "[ 0.         -0.00587084  0.14672131 -0.02535787  0.05348837 -0.00659713]"
       ]
      },
      {
       "output_type": "stream",
       "stream": "stdout",
       "text": [
        "\n",
        "[ 0.         -0.00829876  0.14820717 -0.04129555  0.00145228  0.01529574]"
       ]
      },
      {
       "output_type": "stream",
       "stream": "stdout",
       "text": [
        "\n",
        "Optimization terminated successfully.\n",
        "         Current function value: 0.020647\n",
        "         Iterations: 14\n",
        "         Function evaluations: 40\n",
        "[ 0.         -0.01190476  0.16122449 -0.04636015  0.05159681 -0.00017216]"
       ]
      },
      {
       "output_type": "stream",
       "stream": "stdout",
       "text": [
        "\n"
       ]
      },
      {
       "javascript": [
        "$('div#09e687dd-3a60-466f-9995-e1df5203ef35').width('36.17%')"
       ],
       "metadata": {},
       "output_type": "display_data",
       "text": [
        "<IPython.core.display.Javascript at 0x7f733401e690>"
       ]
      },
      {
       "output_type": "stream",
       "stream": "stdout",
       "text": [
        "[-0.00202429 -0.02254098  0.12083333  0.03073022  0.02984496  0.04059017]\n",
        "[ 0.         -0.00968992  0.13413174  0.05205761  0.02665406  0.04367215]"
       ]
      },
      {
       "output_type": "stream",
       "stream": "stdout",
       "text": [
        "\n",
        "[ 0.         -0.012       0.17017893  0.20995976  0.17811861  0.31292398]"
       ]
      },
      {
       "output_type": "stream",
       "stream": "stdout",
       "text": [
        "\n",
        "[-0.00202429 -0.03448276  0.06573146 -0.06523438 -0.04018692 -0.10824913]"
       ]
      },
      {
       "output_type": "stream",
       "stream": "stdout",
       "text": [
        "\n",
        "[-0.00617284 -0.01792829  0.13058161  0.01868687 -0.02015968  0.03098053]"
       ]
      },
      {
       "output_type": "stream",
       "stream": "stdout",
       "text": [
        "\n",
        "[-0.00934579 -0.04483431  0.01196581 -0.08690476 -0.05445135 -0.07680035]"
       ]
      },
      {
       "output_type": "stream",
       "stream": "stdout",
       "text": [
        "\n",
        "[-0.00583658 -0.05973025 -0.04756335 -0.24157895 -0.06881497 -0.39819644]"
       ]
      },
      {
       "output_type": "stream",
       "stream": "stdout",
       "text": [
        "\n",
        "[ 0.         -0.00608519  0.15882353  0.10151515  0.05983607  0.16158982]"
       ]
      },
      {
       "output_type": "stream",
       "stream": "stdout",
       "text": [
        "\n",
        "[-0.00200803 -0.02366864  0.00516899 -0.1510101  -0.04117647 -0.20219126]"
       ]
      },
      {
       "output_type": "stream",
       "stream": "stdout",
       "text": [
        "\n",
        "[-0.00408163 -0.01035197  0.12871287  0.04798387  0.0205074   0.0733046 ]"
       ]
      },
      {
       "output_type": "stream",
       "stream": "stdout",
       "text": [
        "\n",
        "[-0.00197628 -0.01821862  0.06603774 -0.11132265 -0.04178794 -0.09981665]"
       ]
      },
      {
       "output_type": "stream",
       "stream": "stdout",
       "text": [
        "\n",
        "[ 0.         -0.01263158  0.11860465 -0.05446247  0.00805085  0.03515701]"
       ]
      },
      {
       "output_type": "stream",
       "stream": "stdout",
       "text": [
        "\n",
        "[-0.01687764 -0.05443548  0.04081633 -0.15850202 -0.05619048 -0.06976528]"
       ]
      },
      {
       "output_type": "stream",
       "stream": "stdout",
       "text": [
        "\n",
        "[ 0.         -0.01059322  0.13223819  0.00920304  0.0030303   0.00443253]"
       ]
      },
      {
       "output_type": "stream",
       "stream": "stdout",
       "text": [
        "\n",
        "[-0.00189394 -0.00972763  0.13713163  0.11494845  0.08442623  0.11879635]"
       ]
      },
      {
       "output_type": "stream",
       "stream": "stdout",
       "text": [
        "\n",
        "[-0.00585938 -0.01875     0.06226415 -0.01673114 -0.016      -0.033742  ]"
       ]
      },
      {
       "output_type": "stream",
       "stream": "stdout",
       "text": [
        "\n",
        "[-0.00199601 -0.02439024  0.08865096 -0.09448669 -0.03023256 -0.05100986]"
       ]
      },
      {
       "output_type": "stream",
       "stream": "stdout",
       "text": [
        "\n",
        "[-0.00210526 -0.03100775  0.12168675 -0.01069364  0.00444874  0.00141143]"
       ]
      },
      {
       "output_type": "stream",
       "stream": "stdout",
       "text": [
        "\n",
        "[ 0.         -0.00201613  0.17660819  0.11573705  0.0299435   0.10343703]"
       ]
      },
      {
       "output_type": "stream",
       "stream": "stdout",
       "text": [
        "\n",
        "[-0.00604839 -0.01945525  0.08977956 -0.07042389 -0.03256262 -0.01656401]"
       ]
      },
      {
       "output_type": "stream",
       "stream": "stdout",
       "text": [
        "\n",
        "[-0.00613497 -0.01046025  0.075      -0.05       -0.03762575 -0.05135861]"
       ]
      },
      {
       "output_type": "stream",
       "stream": "stdout",
       "text": [
        "\n",
        "[ 0.         -0.02729045  0.06947791 -0.09202335 -0.0311828  -0.07184499]"
       ]
      },
      {
       "output_type": "stream",
       "stream": "stdout",
       "text": [
        "\n",
        "[-0.00199601 -0.02173913  0.14055202 -0.00836576 -0.00593047  0.00217753]"
       ]
      },
      {
       "output_type": "stream",
       "stream": "stdout",
       "text": [
        "\n",
        "[-0.00606061 -0.02811245  0.08109162 -0.04921415 -0.02540323 -0.04301896]"
       ]
      },
      {
       "output_type": "stream",
       "stream": "stdout",
       "text": [
        "\n",
        "[-0.00788955 -0.02409639  0.1        -0.08333333 -0.01129032 -0.03829001]"
       ]
      },
      {
       "output_type": "stream",
       "stream": "stdout",
       "text": [
        "\n",
        "[-0.00212314 -0.01836735  0.10661479 -0.02925636 -0.01033138 -0.01943786]"
       ]
      },
      {
       "output_type": "stream",
       "stream": "stdout",
       "text": [
        "\n",
        "[-0.00607287 -0.02235772  0.10684411 -0.0011811  -0.01631799 -0.00375648]"
       ]
      },
      {
       "output_type": "stream",
       "stream": "stdout",
       "text": [
        "\n",
        "[ 0.         -0.018       0.11170825 -0.03125    -0.02244898 -0.01280969]"
       ]
      },
      {
       "output_type": "stream",
       "stream": "stdout",
       "text": [
        "\n",
        "[-0.00200803 -0.01207243  0.11389432 -0.02200811 -0.01188525 -0.01327975]"
       ]
      },
      {
       "output_type": "stream",
       "stream": "stdout",
       "text": [
        "\n",
        "[-0.00397614 -0.03099174  0.09939638 -0.06452514 -0.03045113 -0.0554794 ]"
       ]
      },
      {
       "output_type": "stream",
       "stream": "stdout",
       "text": [
        "\n",
        "[-0.00199601 -0.0122449   0.1030303  -0.01136821 -0.00373281 -0.02000974]"
       ]
      },
      {
       "output_type": "stream",
       "stream": "stdout",
       "text": [
        "\n",
        "[-0.00634249 -0.01851852  0.09409369 -0.05496183 -0.03436293 -0.04601398]"
       ]
      },
      {
       "output_type": "stream",
       "stream": "stdout",
       "text": [
        "\n",
        "[ 0.         -0.02222222  0.11355599 -0.04047619 -0.03319415 -0.01792673]"
       ]
      },
      {
       "output_type": "stream",
       "stream": "stdout",
       "text": [
        "\n",
        "[-0.00585938 -0.00869565  0.10711462 -0.04163347 -0.01067961 -0.01508239]"
       ]
      },
      {
       "output_type": "stream",
       "stream": "stdout",
       "text": [
        "\n",
        "[-0.00201207 -0.03061224  0.07931034 -0.07658228 -0.02246521 -0.02902705]"
       ]
      },
      {
       "output_type": "stream",
       "stream": "stdout",
       "text": [
        "\n",
        "[-0.0039604  -0.01878914  0.11929134 -0.06020408 -0.01295547 -0.06398262]"
       ]
      },
      {
       "output_type": "stream",
       "stream": "stdout",
       "text": [
        "\n",
        "[-0.0056926  -0.01386139  0.09299611 -0.01237624 -0.03319415 -0.02013134]"
       ]
      },
      {
       "output_type": "stream",
       "stream": "stdout",
       "text": [
        "\n",
        "[-0.00851064 -0.00788955  0.11601562 -0.03536585  0.00309278 -0.02918907]"
       ]
      },
      {
       "output_type": "stream",
       "stream": "stdout",
       "text": [
        "\n",
        "Optimization terminated successfully.\n",
        "         Current function value: 0.005937\n",
        "         Iterations: 13\n",
        "         Function evaluations: 38\n",
        "[ 0.         -0.024       0.08911704 -0.04486166 -0.03975904 -0.03734577]"
       ]
      },
      {
       "output_type": "stream",
       "stream": "stdout",
       "text": [
        "\n"
       ]
      },
      {
       "javascript": [
        "$('div#09e687dd-3a60-466f-9995-e1df5203ef35').width('38.30%')"
       ],
       "metadata": {},
       "output_type": "display_data",
       "text": [
        "<IPython.core.display.Javascript at 0x7f73340c3c50>"
       ]
      },
      {
       "output_type": "stream",
       "stream": "stdout",
       "text": [
        "[-0.00598802 -0.00779727 -0.03349901 -0.19653465 -0.03819876 -0.22445831]\n",
        "[ 0.         -0.00972763 -0.02188161 -0.12188755 -0.03071571 -0.23209016]"
       ]
      },
      {
       "output_type": "stream",
       "stream": "stdout",
       "text": [
        "\n",
        "[ 0.          0.          0.01055227  0.02395626  0.07129436  0.04707973]"
       ]
      },
      {
       "output_type": "stream",
       "stream": "stdout",
       "text": [
        "\n",
        "[-0.00607287 -0.02559055 -0.07368973 -0.28488844 -0.1127451  -0.37593566]"
       ]
      },
      {
       "output_type": "stream",
       "stream": "stdout",
       "text": [
        "\n",
        "[-0.00402414 -0.01612903 -0.04284333 -0.20691057 -0.03649706 -0.21778189]"
       ]
      },
      {
       "output_type": "stream",
       "stream": "stdout",
       "text": [
        "\n",
        "[-0.00956023 -0.03536346 -0.12777778 -0.38151751 -0.08724696 -0.35408748]"
       ]
      },
      {
       "output_type": "stream",
       "stream": "stdout",
       "text": [
        "\n",
        "[ 0.         -0.00392157  0.02983871  0.01535433  0.04393939 -0.05190948]"
       ]
      },
      {
       "output_type": "stream",
       "stream": "stdout",
       "text": [
        "\n",
        "[ 0.          0.          0.03991935  0.15961538  0.17936508  0.05653012]"
       ]
      },
      {
       "output_type": "stream",
       "stream": "stdout",
       "text": [
        "\n",
        "[ 0.         -0.00582524  0.03272553  0.09409449  0.175       0.07792867]"
       ]
      },
      {
       "output_type": "stream",
       "stream": "stdout",
       "text": [
        "\n",
        "[ 0.         -0.0020202   0.03960499  0.1092233   0.19279919  0.0612209 ]"
       ]
      },
      {
       "output_type": "stream",
       "stream": "stdout",
       "text": [
        "\n",
        "[ 0.          0.          0.04592668  0.19713376  0.32010309  0.15262377]"
       ]
      },
      {
       "output_type": "stream",
       "stream": "stdout",
       "text": [
        "\n",
        "[ 0.         -0.00813008  0.01336207 -0.05681363  0.05       -0.10631659]"
       ]
      },
      {
       "output_type": "stream",
       "stream": "stdout",
       "text": [
        "\n",
        "[ 0.          0.          0.04236641  0.16312127  0.23722555  0.17942964]"
       ]
      },
      {
       "output_type": "stream",
       "stream": "stdout",
       "text": [
        "\n",
        "[ 0.          0.          0.02445972 -0.01956522  0.03404908 -0.08305677]"
       ]
      },
      {
       "output_type": "stream",
       "stream": "stdout",
       "text": [
        "\n",
        "[ 0.         -0.01247401 -0.00242718 -0.12119342 -0.00884692 -0.12657961]"
       ]
      },
      {
       "output_type": "stream",
       "stream": "stdout",
       "text": [
        "\n",
        "[-0.00585938 -0.00570342 -0.02003891 -0.1892562  -0.02524752 -0.23221397]"
       ]
      },
      {
       "output_type": "stream",
       "stream": "stdout",
       "text": [
        "\n",
        "[ 0.         -0.0038835   0.03185484  0.02304015  0.11185567  0.01673542]"
       ]
      },
      {
       "output_type": "stream",
       "stream": "stdout",
       "text": [
        "\n",
        "[ 0.         -0.00409836  0.03640777  0.0973904   0.16536926  0.05092418]"
       ]
      },
      {
       "output_type": "stream",
       "stream": "stdout",
       "text": [
        "\n",
        "[ 0.         -0.00811359  0.01116505 -0.05442656  0.01071429 -0.08082775]"
       ]
      },
      {
       "output_type": "stream",
       "stream": "stdout",
       "text": [
        "\n",
        "[ 0.         -0.00200401  0.04161426  0.02258383  0.18192389  0.02497427]"
       ]
      },
      {
       "output_type": "stream",
       "stream": "stdout",
       "text": [
        "\n",
        "[ 0.         -0.00205339  0.01473029 -0.02096774  0.03674699 -0.07384885]"
       ]
      },
      {
       "output_type": "stream",
       "stream": "stdout",
       "text": [
        "\n",
        "[ 0.         -0.00808081  0.00841584 -0.05412371 -0.00714286 -0.10584963]"
       ]
      },
      {
       "output_type": "stream",
       "stream": "stdout",
       "text": [
        "\n",
        "[-0.00202429  0.          0.01233522 -0.04740821  0.0537037  -0.05968222]"
       ]
      },
      {
       "output_type": "stream",
       "stream": "stdout",
       "text": [
        "\n",
        "[ 0.         -0.00383877  0.01710526  0.00767635  0.08188406 -0.0055518 ]"
       ]
      },
      {
       "output_type": "stream",
       "stream": "stdout",
       "text": [
        "\n",
        "[ 0.         -0.00407332  0.02979798  0.03136273  0.07200393  0.01502754]"
       ]
      },
      {
       "output_type": "stream",
       "stream": "stdout",
       "text": [
        "\n",
        "[ 0.         -0.00782779  0.03210736  0.042607    0.11652452  0.04205225]"
       ]
      },
      {
       "output_type": "stream",
       "stream": "stdout",
       "text": [
        "\n",
        "[ 0.         -0.00410678  0.03782961 -0.03541667  0.04153226 -0.04377053]"
       ]
      },
      {
       "output_type": "stream",
       "stream": "stdout",
       "text": [
        "\n",
        "[ 0.         -0.00202429  0.03412698  0.03089431  0.07891566 -0.1093634 ]"
       ]
      },
      {
       "output_type": "stream",
       "stream": "stdout",
       "text": [
        "\n",
        "[-0.00205339 -0.0060241   0.03192771  0.01132265  0.07008547  0.00512509]"
       ]
      },
      {
       "output_type": "stream",
       "stream": "stdout",
       "text": [
        "\n",
        "[ 0.          0.          0.03455598  0.05018975  0.096       0.03007134]"
       ]
      },
      {
       "output_type": "stream",
       "stream": "stdout",
       "text": [
        "\n",
        "[ 0.         -0.00400802  0.02194389 -0.02090164  0.0755489  -0.04611166]"
       ]
      },
      {
       "output_type": "stream",
       "stream": "stdout",
       "text": [
        "\n",
        "[ 0.         -0.00402414  0.02291667  0.0265286   0.04845857 -0.0352325 ]"
       ]
      },
      {
       "output_type": "stream",
       "stream": "stdout",
       "text": [
        "\n",
        "[ 0.         -0.00403226  0.04418605  0.00481172  0.04114688 -0.0672507 ]"
       ]
      },
      {
       "output_type": "stream",
       "stream": "stdout",
       "text": [
        "\n",
        "[ 0.         -0.00195695  0.03120301  0.05259481  0.06638655 -0.03793863]"
       ]
      },
      {
       "output_type": "stream",
       "stream": "stdout",
       "text": [
        "\n",
        "[ 0.         -0.00204918  0.04352052  0.00753425  0.06314741 -0.01548047]"
       ]
      },
      {
       "output_type": "stream",
       "stream": "stdout",
       "text": [
        "\n",
        "[-0.0019685   0.          0.03458574 -0.02250996  0.06008403 -0.05699476]"
       ]
      },
      {
       "output_type": "stream",
       "stream": "stdout",
       "text": [
        "\n",
        "[ 0.         -0.00194932  0.02773279  0.03        0.062      -0.05851261]"
       ]
      },
      {
       "output_type": "stream",
       "stream": "stdout",
       "text": [
        "\n",
        "[ 0.         -0.0020284   0.01082474  0.02557252  0.06868787 -0.03905946]"
       ]
      },
      {
       "output_type": "stream",
       "stream": "stdout",
       "text": [
        "\n",
        "[ 0.          0.          0.02708333  0.06548117  0.10502008  0.00172988]"
       ]
      },
      {
       "output_type": "stream",
       "stream": "stdout",
       "text": [
        "\n",
        "[ 0.         -0.00191939  0.01907216  0.03292683  0.04111969 -0.03897103]"
       ]
      },
      {
       "output_type": "stream",
       "stream": "stdout",
       "text": [
        "\n",
        "[ 0.         -0.00197628  0.03011928  0.03273092  0.058      -0.01955413]"
       ]
      },
      {
       "output_type": "stream",
       "stream": "stdout",
       "text": [
        "\n",
        "[ 0.          0.          0.02669492  0.00830116  0.1        -0.02570871]"
       ]
      },
      {
       "output_type": "stream",
       "stream": "stdout",
       "text": [
        "\n",
        "[ 0.         -0.00202429  0.02478992  0.02735471  0.10149701 -0.03925478]"
       ]
      },
      {
       "output_type": "stream",
       "stream": "stdout",
       "text": [
        "\n",
        "[ 0.         -0.00205761  0.01480331  0.02238095  0.04675456 -0.02594573]"
       ]
      },
      {
       "output_type": "stream",
       "stream": "stdout",
       "text": [
        "\n",
        "[ 0.          0.          0.03003992  0.01738197  0.09899598 -0.01772015]"
       ]
      },
      {
       "output_type": "stream",
       "stream": "stdout",
       "text": [
        "\n",
        "[ 0.         -0.00200803  0.02959184  0.05736434  0.0475052  -0.05266768]"
       ]
      },
      {
       "output_type": "stream",
       "stream": "stdout",
       "text": [
        "\n",
        "[ 0.         -0.00571429  0.02222222  0.01410749  0.04681909 -0.04001213]"
       ]
      },
      {
       "output_type": "stream",
       "stream": "stdout",
       "text": [
        "\n",
        "[ 0.         -0.0041841   0.03259188  0.01210937  0.078      -0.04511674]"
       ]
      },
      {
       "output_type": "stream",
       "stream": "stdout",
       "text": [
        "\n",
        "Optimization terminated successfully.\n",
        "         Current function value: 0.003583\n",
        "         Iterations: 20\n",
        "         Function evaluations: 48\n",
        "[ 0.         -0.00421053  0.02674419  0.01733068  0.1084493  -0.02666364]"
       ]
      },
      {
       "output_type": "stream",
       "stream": "stdout",
       "text": [
        "\n"
       ]
      },
      {
       "javascript": [
        "$('div#09e687dd-3a60-466f-9995-e1df5203ef35').width('40.43%')"
       ],
       "metadata": {},
       "output_type": "display_data",
       "text": [
        "<IPython.core.display.Javascript at 0x7f7333f6ced0>"
       ]
      },
      {
       "output_type": "stream",
       "stream": "stdout",
       "text": [
        "[-0.00198807 -0.01367188 -0.09775967 -0.06292247  0.0891863  -0.03095177]\n",
        "[ 0.         -0.021611   -0.05222437 -0.046       0.0890593  -0.04980589]"
       ]
      },
      {
       "output_type": "stream",
       "stream": "stdout",
       "text": [
        "\n",
        "[ 0.         -0.01265823 -0.03193613  0.13346774  0.20203252  0.2161928 ]"
       ]
      },
      {
       "output_type": "stream",
       "stream": "stdout",
       "text": [
        "\n",
        "[-0.004      -0.03       -0.15212982 -0.22178503  0.01042885 -0.17728555]"
       ]
      },
      {
       "output_type": "stream",
       "stream": "stdout",
       "text": [
        "\n",
        "[-0.00408998 -0.0260521  -0.06483301 -0.08269231  0.06196911 -0.03218652]"
       ]
      },
      {
       "output_type": "stream",
       "stream": "stdout",
       "text": [
        "\n",
        "[-0.01417004 -0.04142012 -0.18074656 -0.25019342  0.01772908 -0.17631051]"
       ]
      },
      {
       "output_type": "stream",
       "stream": "stdout",
       "text": [
        "\n",
        "[ 0.         -0.00196078 -0.01810865  0.11800805  0.182       0.13248892]"
       ]
      },
      {
       "output_type": "stream",
       "stream": "stdout",
       "text": [
        "\n",
        "[-0.00581395 -0.02390438 -0.11881188 -0.24052224  0.01339468 -0.3370511 ]"
       ]
      },
      {
       "output_type": "stream",
       "stream": "stdout",
       "text": [
        "\n",
        "[ 0.         -0.004158   -0.03448276 -0.008159    0.12234469  0.10844619]"
       ]
      },
      {
       "output_type": "stream",
       "stream": "stdout",
       "text": [
        "\n",
        "[ 0.         -0.00209644 -0.0186722   0.19741201  0.28057851  0.20285913]"
       ]
      },
      {
       "output_type": "stream",
       "stream": "stdout",
       "text": [
        "\n",
        "[-0.00380228 -0.01351351 -0.06835938 -0.10489022  0.0372093  -0.05657404]"
       ]
      },
      {
       "output_type": "stream",
       "stream": "stdout",
       "text": [
        "\n",
        "[-0.00441501 -0.03366337 -0.17849899 -0.24215686  0.03350731 -0.20192248]"
       ]
      },
      {
       "output_type": "stream",
       "stream": "stdout",
       "text": [
        "\n",
        "[ 0.         -0.00588235 -0.02985075  0.0520202   0.0909002   0.06701844]"
       ]
      },
      {
       "output_type": "stream",
       "stream": "stdout",
       "text": [
        "\n",
        "[-0.00619835 -0.01778656 -0.07773109 -0.13613861  0.03627451 -0.17172056]"
       ]
      },
      {
       "output_type": "stream",
       "stream": "stdout",
       "text": [
        "\n",
        "[-0.0019802  -0.0056926  -0.04093567 -0.00210728  0.05        0.05015051]"
       ]
      },
      {
       "output_type": "stream",
       "stream": "stdout",
       "text": [
        "\n",
        "[ 0.         -0.00419287 -0.04887984  0.00252101  0.08867187  0.0313241 ]"
       ]
      },
      {
       "output_type": "stream",
       "stream": "stdout",
       "text": [
        "\n",
        "[-0.00197628 -0.00616016 -0.02626263  0.07884615  0.1609375   0.0835942 ]"
       ]
      },
      {
       "output_type": "stream",
       "stream": "stdout",
       "text": [
        "\n",
        "[ 0.         -0.01008065 -0.0815534  -0.02945205  0.03906883 -0.04218382]"
       ]
      },
      {
       "output_type": "stream",
       "stream": "stdout",
       "text": [
        "\n",
        "[ 0.         -0.00407332 -0.0245283   0.08178295  0.11898608  0.0685679 ]"
       ]
      },
      {
       "output_type": "stream",
       "stream": "stdout",
       "text": [
        "\n",
        "[ 0.         -0.00766284 -0.07768924 -0.02514911  0.07170385  0.01161063]"
       ]
      },
      {
       "output_type": "stream",
       "stream": "stdout",
       "text": [
        "\n",
        "[ 0.         -0.01271186 -0.07429719 -0.07705411  0.06089109 -0.08557762]"
       ]
      },
      {
       "output_type": "stream",
       "stream": "stdout",
       "text": [
        "\n",
        "[ 0.         -0.00413223 -0.048583    0.03285714  0.1057377   0.03781686]"
       ]
      },
      {
       "output_type": "stream",
       "stream": "stdout",
       "text": [
        "\n",
        "[-0.00413223 -0.00792079 -0.06029106 -0.05609756  0.07055336 -0.03337991]"
       ]
      },
      {
       "output_type": "stream",
       "stream": "stdout",
       "text": [
        "\n",
        "[ 0.         -0.01785714 -0.07291667 -0.05517598  0.10520629  0.01462521]"
       ]
      },
      {
       "output_type": "stream",
       "stream": "stdout",
       "text": [
        "\n",
        "[ 0.         -0.00804829 -0.06175299  0.06078998  0.06133201 -0.02476732]"
       ]
      },
      {
       "output_type": "stream",
       "stream": "stdout",
       "text": [
        "\n",
        "[ 0.         -0.0041841  -0.05697446  0.04266802  0.09173228  0.05519271]"
       ]
      },
      {
       "output_type": "stream",
       "stream": "stdout",
       "text": [
        "\n",
        "[-0.00194932 -0.01606426 -0.06485356 -0.0450495   0.04859155 -0.02561661]"
       ]
      },
      {
       "output_type": "stream",
       "stream": "stdout",
       "text": [
        "\n",
        "[-0.00205339 -0.00809717 -0.04660194 -0.00841393  0.07449799  0.0104528 ]"
       ]
      },
      {
       "output_type": "stream",
       "stream": "stdout",
       "text": [
        "\n",
        "[ 0.         -0.00607287 -0.062      -0.01307385  0.06372549  0.02414062]"
       ]
      },
      {
       "output_type": "stream",
       "stream": "stdout",
       "text": [
        "\n",
        "[ 0.         -0.00606061 -0.04545455 -0.02128713  0.0940678  -0.016539  ]"
       ]
      },
      {
       "output_type": "stream",
       "stream": "stdout",
       "text": [
        "\n",
        "[ 0.         -0.00978474 -0.02982107 -0.02094188  0.07605042  0.00597251]"
       ]
      },
      {
       "output_type": "stream",
       "stream": "stdout",
       "text": [
        "\n",
        "[ 0.         -0.01377953 -0.05961538  0.0385947   0.12063492  0.04920893]"
       ]
      },
      {
       "output_type": "stream",
       "stream": "stdout",
       "text": [
        "\n",
        "[ 0.         -0.0078125  -0.04313725 -0.02961165  0.07658228 -0.00771355]"
       ]
      },
      {
       "output_type": "stream",
       "stream": "stdout",
       "text": [
        "\n",
        "[ 0.         -0.00596421 -0.02922756  0.02746479  0.09141414  0.0479138 ]"
       ]
      },
      {
       "output_type": "stream",
       "stream": "stdout",
       "text": [
        "\n",
        "[-0.00570342 -0.00583658 -0.07269155  0.00049505  0.08496933 -0.01563749]"
       ]
      },
      {
       "output_type": "stream",
       "stream": "stdout",
       "text": [
        "\n",
        "[ 0.         -0.00803213 -0.0408998  -0.01326531  0.10230461  0.01509192]"
       ]
      },
      {
       "output_type": "stream",
       "stream": "stdout",
       "text": [
        "\n",
        "[ 0.         -0.0078125  -0.05242718 -0.00098039  0.08319672  0.03356442]"
       ]
      },
      {
       "output_type": "stream",
       "stream": "stdout",
       "text": [
        "\n",
        "[ 0.         -0.00202429 -0.05482042 -0.05497018  0.07820513  0.02829273]"
       ]
      },
      {
       "output_type": "stream",
       "stream": "stdout",
       "text": [
        "\n",
        "[ 0.         -0.00406504 -0.06324111 -0.01705426  0.09258189  0.005744  ]"
       ]
      },
      {
       "output_type": "stream",
       "stream": "stdout",
       "text": [
        "\n",
        "[ 0.         -0.01310044 -0.07407407 -0.04064449  0.08692946 -0.00460126]"
       ]
      },
      {
       "output_type": "stream",
       "stream": "stdout",
       "text": [
        "\n",
        "[ 0.         -0.00407332 -0.05615551  0.02200811  0.09851485  0.04657245]"
       ]
      },
      {
       "output_type": "stream",
       "stream": "stdout",
       "text": [
        "\n",
        "[ 0.         -0.0020284  -0.04989605 -0.05803213  0.09653465  0.01649145]"
       ]
      },
      {
       "output_type": "stream",
       "stream": "stdout",
       "text": [
        "\n",
        "[ 0.         -0.00996016 -0.04069767 -0.00302714  0.08529412  0.01757721]"
       ]
      },
      {
       "output_type": "stream",
       "stream": "stdout",
       "text": [
        "\n",
        "[ 0.         -0.00753296 -0.03861789  0.0026839   0.08877551  0.03218581]"
       ]
      },
      {
       "output_type": "stream",
       "stream": "stdout",
       "text": [
        "\n",
        "[ 0.         -0.00811359 -0.0625      0.01619145  0.09978903  0.04509424]"
       ]
      },
      {
       "output_type": "stream",
       "stream": "stdout",
       "text": [
        "\n",
        "[-0.0019685  -0.00980392 -0.0465587   0.00463918  0.07040816  0.0288213 ]"
       ]
      },
      {
       "output_type": "stream",
       "stream": "stdout",
       "text": [
        "\n",
        "[-0.00403226 -0.00793651 -0.05625    -0.02206166  0.0852381   0.03341284]"
       ]
      },
      {
       "output_type": "stream",
       "stream": "stdout",
       "text": [
        "\n",
        "Optimization terminated successfully.\n",
        "         Current function value: 0.006732\n",
        "         Iterations: 19\n",
        "         Function evaluations: 47\n",
        "[-0.00195312 -0.00976562 -0.04901961 -0.044       0.08361169  0.04312986]"
       ]
      },
      {
       "output_type": "stream",
       "stream": "stdout",
       "text": [
        "\n"
       ]
      },
      {
       "javascript": [
        "$('div#09e687dd-3a60-466f-9995-e1df5203ef35').width('42.55%')"
       ],
       "metadata": {},
       "output_type": "display_data",
       "text": [
        "<IPython.core.display.Javascript at 0x7f73341a4ed0>"
       ]
      },
      {
       "output_type": "stream",
       "stream": "stdout",
       "text": [
        "[-0.00386847 -0.01836735  0.06581109  0.38547718  0.12        0.29421621]\n",
        "[ 0.         -0.00785855  0.11131528  0.43658537  0.10700389  0.29997095]"
       ]
      },
      {
       "output_type": "stream",
       "stream": "stdout",
       "text": [
        "\n",
        "[ 0.         -0.0093633   0.134       0.58522484  0.22933884  0.56496254]"
       ]
      },
      {
       "output_type": "stream",
       "stream": "stdout",
       "text": [
        "\n",
        "[-0.0094697  -0.01871102  0.0328125   0.25316699  0.04380952  0.1493573 ]"
       ]
      },
      {
       "output_type": "stream",
       "stream": "stdout",
       "text": [
        "\n",
        "[ 0.         -0.0204918   0.08625498  0.36804124  0.10251046  0.28718675]"
       ]
      },
      {
       "output_type": "stream",
       "stream": "stdout",
       "text": [
        "\n",
        "[-0.00972763 -0.05544554 -0.00885947  0.22310838  0.06153846  0.17489971]"
       ]
      },
      {
       "output_type": "stream",
       "stream": "stdout",
       "text": [
        "\n",
        "[-0.00590551 -0.06336634 -0.08425197  0.09642857  0.01609658 -0.13838702]"
       ]
      },
      {
       "output_type": "stream",
       "stream": "stdout",
       "text": [
        "\n",
        "[-0.02514507 -0.19675456 -0.35905433 -0.02756539  0.00217865 -0.50675356]"
       ]
      },
      {
       "output_type": "stream",
       "stream": "stdout",
       "text": [
        "\n",
        "[-0.02096436 -0.07024793 -0.07857143  0.11588595  0.03821656  0.03378376]"
       ]
      },
      {
       "output_type": "stream",
       "stream": "stdout",
       "text": [
        "\n",
        "[-0.05859375 -0.156      -0.25926641 -0.0092827   0.00591716 -0.13395725]"
       ]
      },
      {
       "output_type": "stream",
       "stream": "stdout",
       "text": [
        "\n",
        "[-0.01550388 -0.07034221 -0.12946768  0.07588933  0.02424242 -0.09213348]"
       ]
      },
      {
       "output_type": "stream",
       "stream": "stdout",
       "text": [
        "\n",
        "[-0.04230769 -0.14864865 -0.26386139 -0.01194969  0.0078125  -0.24582699]"
       ]
      },
      {
       "output_type": "stream",
       "stream": "stdout",
       "text": [
        "\n",
        "[-0.01335878 -0.09357798 -0.13433269  0.03793103  0.01818182 -0.1186282 ]"
       ]
      },
      {
       "output_type": "stream",
       "stream": "stdout",
       "text": [
        "\n",
        "[-0.03361345 -0.1889117  -0.34112426  0.004       0.01219512 -0.22626846]"
       ]
      },
      {
       "output_type": "stream",
       "stream": "stdout",
       "text": [
        "\n",
        "[-0.00801603 -0.03636364 -0.01338583  0.20250482  0.03024194  0.05076427]"
       ]
      },
      {
       "output_type": "stream",
       "stream": "stdout",
       "text": [
        "\n",
        "[-0.02734375 -0.1029703  -0.1840564   0.03778706  0.01470588 -0.2512638 ]"
       ]
      },
      {
       "output_type": "stream",
       "stream": "stdout",
       "text": [
        "\n",
        "[-0.00604839 -0.04233871 -0.05910973  0.14543611  0.04440154  0.05145238]"
       ]
      },
      {
       "output_type": "stream",
       "stream": "stdout",
       "text": [
        "\n",
        "[-0.03592814 -0.12625251 -0.20203095  0.04618644  0.00766284 -0.17669091]"
       ]
      },
      {
       "output_type": "stream",
       "stream": "stdout",
       "text": [
        "\n",
        "[-0.01882845 -0.05761317 -0.04922631  0.15363825  0.0362173   0.01680588]"
       ]
      },
      {
       "output_type": "stream",
       "stream": "stdout",
       "text": [
        "\n",
        "[-0.00191205 -0.04854369 -0.05        0.18119181  0.04527559  0.0595273 ]"
       ]
      },
      {
       "output_type": "stream",
       "stream": "stdout",
       "text": [
        "\n",
        "[-0.01590457 -0.06465517 -0.11147705  0.11011673  0.01181102 -0.05521179]"
       ]
      },
      {
       "output_type": "stream",
       "stream": "stdout",
       "text": [
        "\n",
        "[-0.01214575 -0.07142857 -0.11226415  0.10647773  0.03193613  0.07111933]"
       ]
      },
      {
       "output_type": "stream",
       "stream": "stdout",
       "text": [
        "\n",
        "[-0.00792079 -0.06212425 -0.0475052   0.16033058  0.04590818  0.14002042]"
       ]
      },
      {
       "output_type": "stream",
       "stream": "stdout",
       "text": [
        "\n",
        "[-0.01976285 -0.07311828 -0.15078125  0.06962525  0.01792829 -0.05148018]"
       ]
      },
      {
       "output_type": "stream",
       "stream": "stdout",
       "text": [
        "\n",
        "[-0.01       -0.07246377 -0.07376238  0.16862745  0.04918033  0.09087149]"
       ]
      },
      {
       "output_type": "stream",
       "stream": "stdout",
       "text": [
        "\n",
        "[-0.00630252 -0.08498024 -0.08976608  0.08595825  0.0375     -0.00570445]"
       ]
      },
      {
       "output_type": "stream",
       "stream": "stdout",
       "text": [
        "\n",
        "[-0.01012146 -0.05202312 -0.04758065  0.10934959  0.03059273 -0.08179783]"
       ]
      },
      {
       "output_type": "stream",
       "stream": "stdout",
       "text": [
        "\n",
        "[-0.00858369 -0.04878049 -0.06503132  0.13735409  0.05273834  0.05174588]"
       ]
      },
      {
       "output_type": "stream",
       "stream": "stdout",
       "text": [
        "\n",
        "[-0.01568627 -0.05831533 -0.05272904  0.13203285  0.0372807   0.02056023]"
       ]
      },
      {
       "output_type": "stream",
       "stream": "stdout",
       "text": [
        "\n",
        "[-0.01359223 -0.07254902 -0.1335249   0.11062992  0.034      -0.07036897]"
       ]
      },
      {
       "output_type": "stream",
       "stream": "stdout",
       "text": [
        "\n",
        "[-0.01414141 -0.066      -0.08608445  0.14351297  0.00972763  0.02817226]"
       ]
      },
      {
       "output_type": "stream",
       "stream": "stdout",
       "text": [
        "\n",
        "[-0.00961538 -0.07569721 -0.07437137  0.08359375  0.03353057 -0.04208997]"
       ]
      },
      {
       "output_type": "stream",
       "stream": "stdout",
       "text": [
        "\n",
        "[-0.01926782 -0.08906883 -0.116       0.11186441  0.03974895  0.0024462 ]"
       ]
      },
      {
       "output_type": "stream",
       "stream": "stdout",
       "text": [
        "\n",
        "[-0.01452282 -0.0698152  -0.0994929   0.12176591  0.01526718 -0.00387063]"
       ]
      },
      {
       "output_type": "stream",
       "stream": "stdout",
       "text": [
        "\n",
        "[-0.02217742 -0.07436399 -0.05641283  0.13921569  0.02222222  0.02254074]"
       ]
      },
      {
       "output_type": "stream",
       "stream": "stdout",
       "text": [
        "\n",
        "[-0.01912046 -0.05625    -0.04284294  0.13516949  0.02636917  0.02759086]"
       ]
      },
      {
       "output_type": "stream",
       "stream": "stdout",
       "text": [
        "\n",
        "[-0.00562852 -0.06818182 -0.04246032  0.12754491  0.0221328  -0.015222  ]"
       ]
      },
      {
       "output_type": "stream",
       "stream": "stdout",
       "text": [
        "\n",
        "[-0.01165049 -0.041841   -0.07912621  0.13900574  0.03797468 -0.00330012]"
       ]
      },
      {
       "output_type": "stream",
       "stream": "stdout",
       "text": [
        "\n",
        "[-0.00399202 -0.0617284  -0.09948875  0.09526627  0.02235772 -0.04296951]"
       ]
      },
      {
       "output_type": "stream",
       "stream": "stdout",
       "text": [
        "\n",
        "[-0.01041667 -0.06822612 -0.10048924  0.09057377  0.02874743 -0.03376838]"
       ]
      },
      {
       "output_type": "stream",
       "stream": "stdout",
       "text": [
        "\n",
        "[-0.01754386 -0.076      -0.09524313  0.11637427  0.02471483  0.03091114]"
       ]
      },
      {
       "output_type": "stream",
       "stream": "stdout",
       "text": [
        "\n",
        "[-0.01565558 -0.07129094 -0.08170732  0.13125     0.02828283 -0.02106037]"
       ]
      },
      {
       "output_type": "stream",
       "stream": "stdout",
       "text": [
        "\n",
        "[-0.01012146 -0.07142857 -0.08251029  0.11784232  0.02119461 -0.01080823]"
       ]
      },
      {
       "output_type": "stream",
       "stream": "stdout",
       "text": [
        "\n",
        "[-0.01209677 -0.05077263 -0.07080679  0.09880716  0.022      -0.03337226]"
       ]
      },
      {
       "output_type": "stream",
       "stream": "stdout",
       "text": [
        "\n",
        "[-0.00573614 -0.06707317 -0.10992063  0.11019108  0.02524272 -0.04417708]"
       ]
      },
      {
       "output_type": "stream",
       "stream": "stdout",
       "text": [
        "\n",
        "[-0.0203666  -0.06237425 -0.07222222  0.10907298  0.04192872 -0.01176033]"
       ]
      },
      {
       "output_type": "stream",
       "stream": "stdout",
       "text": [
        "\n",
        "[-0.00608519 -0.07407407 -0.04678715  0.09767442  0.03373016 -0.06491075]"
       ]
      },
      {
       "output_type": "stream",
       "stream": "stdout",
       "text": [
        "\n",
        "Optimization terminated successfully.\n",
        "         Current function value: 0.019098\n",
        "         Iterations: 21\n",
        "         Function evaluations: 47\n",
        "[-0.01057082 -0.05906314 -0.06845574  0.13651452  0.02658487 -0.03004781]"
       ]
      },
      {
       "output_type": "stream",
       "stream": "stdout",
       "text": [
        "\n"
       ]
      },
      {
       "javascript": [
        "$('div#09e687dd-3a60-466f-9995-e1df5203ef35').width('44.68%')"
       ],
       "metadata": {},
       "output_type": "display_data",
       "text": [
        "<IPython.core.display.Javascript at 0x7f73340c3850>"
       ]
      },
      {
       "output_type": "stream",
       "stream": "stdout",
       "text": [
        "[-0.00201613 -0.01367188  0.01025641  0.025       0.08043478 -0.00538467]\n",
        "[-0.0019305  -0.00399202  0.05957447  0.07455796  0.06284047 -0.01627858]"
       ]
      },
      {
       "output_type": "stream",
       "stream": "stdout",
       "text": [
        "\n",
        "[ 0.         -0.004       0.08409543  0.196       0.23041237  0.2640375 ]"
       ]
      },
      {
       "output_type": "stream",
       "stream": "stdout",
       "text": [
        "\n",
        "[-0.00393701 -0.02390438  0.00283401 -0.10921788 -0.00247525 -0.16054531]"
       ]
      },
      {
       "output_type": "stream",
       "stream": "stdout",
       "text": [
        "\n",
        "[ 0.         -0.02479339  0.03032787  0.01755725  0.05633947 -0.0252914 ]"
       ]
      },
      {
       "output_type": "stream",
       "stream": "stdout",
       "text": [
        "\n",
        "[-0.00867679 -0.05427975 -0.0743487  -0.14387755  0.01765328 -0.1316613 ]"
       ]
      },
      {
       "output_type": "stream",
       "stream": "stdout",
       "text": [
        "\n",
        "[-0.01192843 -0.06772908 -0.13647295 -0.28203125 -0.02669903 -0.44721432]"
       ]
      },
      {
       "output_type": "stream",
       "stream": "stdout",
       "text": [
        "\n",
        "[-0.00208333 -0.01165049  0.06452328  0.09882812  0.1335206   0.12239773]"
       ]
      },
      {
       "output_type": "stream",
       "stream": "stdout",
       "text": [
        "\n",
        "[ 0.         -0.00959693  0.07415507  0.19182195  0.11432866  0.09605908]"
       ]
      },
      {
       "output_type": "stream",
       "stream": "stdout",
       "text": [
        "\n",
        "[-0.00198413 -0.01844262  0.02137097 -0.0888309   0.01909789 -0.07178494]"
       ]
      },
      {
       "output_type": "stream",
       "stream": "stdout",
       "text": [
        "\n",
        "[-0.00387597 -0.01878914 -0.03235294 -0.13282828  0.0125     -0.22357742]"
       ]
      },
      {
       "output_type": "stream",
       "stream": "stdout",
       "text": [
        "\n",
        "[ 0.         -0.01158301  0.04197292  0.0450495   0.07328767  0.0414262 ]"
       ]
      },
      {
       "output_type": "stream",
       "stream": "stdout",
       "text": [
        "\n",
        "[-0.00396825 -0.00191939  0.06754564  0.13452138  0.16616162  0.13133211]"
       ]
      },
      {
       "output_type": "stream",
       "stream": "stdout",
       "text": [
        "\n",
        "[-0.0060241  -0.01980198  0.02160612 -0.04259259  0.00870445 -0.09593962]"
       ]
      },
      {
       "output_type": "stream",
       "stream": "stdout",
       "text": [
        "\n",
        "[ 0.         -0.00588235  0.06280992  0.09174757  0.10051546  0.03638222]"
       ]
      },
      {
       "output_type": "stream",
       "stream": "stdout",
       "text": [
        "\n",
        "[ 0.         -0.02169625  0.00875233 -0.01686627  0.04145129 -0.04321007]"
       ]
      },
      {
       "output_type": "stream",
       "stream": "stdout",
       "text": [
        "\n",
        "[-0.00202429 -0.02929688 -0.0257732  -0.06676647  0.00967078 -0.04144208]"
       ]
      },
      {
       "output_type": "stream",
       "stream": "stdout",
       "text": [
        "\n",
        "[ 0.         -0.02119461  0.02653061  0.00748988  0.09450867  0.05523991]"
       ]
      },
      {
       "output_type": "stream",
       "stream": "stdout",
       "text": [
        "\n",
        "[-0.00391389 -0.01619433  0.02047714 -0.01420233  0.05040984 -0.04522849]"
       ]
      },
      {
       "output_type": "stream",
       "stream": "stdout",
       "text": [
        "\n",
        "[-0.01402806 -0.02918288 -0.01133201 -0.06153846  0.03008214 -0.08560928]"
       ]
      },
      {
       "output_type": "stream",
       "stream": "stdout",
       "text": [
        "\n",
        "[-0.0039604  -0.02834008  0.00869565 -0.00662188  0.06825726  0.00785788]"
       ]
      },
      {
       "output_type": "stream",
       "stream": "stdout",
       "text": [
        "\n",
        "[ 0.         -0.00371747  0.05051546  0.06744186  0.09117647 -0.00604524]"
       ]
      },
      {
       "output_type": "stream",
       "stream": "stdout",
       "text": [
        "\n",
        "[-0.00200401 -0.02140078  0.008      -0.0507533   0.0351927  -0.03723637]"
       ]
      },
      {
       "output_type": "stream",
       "stream": "stdout",
       "text": [
        "\n",
        "[ 0.         -0.0101626   0.00839695 -0.03641975  0.0315534  -0.04788951]"
       ]
      },
      {
       "output_type": "stream",
       "stream": "stdout",
       "text": [
        "\n",
        "[-0.0019305  -0.0125523   0.021875    0.03553719  0.05019646 -0.03743674]"
       ]
      },
      {
       "output_type": "stream",
       "stream": "stdout",
       "text": [
        "\n",
        "[-0.00401606 -0.00775194  0.03410853 -0.03541667  0.04626719 -0.03736883]"
       ]
      },
      {
       "output_type": "stream",
       "stream": "stdout",
       "text": [
        "\n",
        "[ 0.         -0.01473684  0.00927022 -0.02356077  0.03928571 -0.03648491]"
       ]
      },
      {
       "output_type": "stream",
       "stream": "stdout",
       "text": [
        "\n",
        "[-0.00194932 -0.01353965  0.01735537 -0.03252427  0.03932039 -0.03964858]"
       ]
      },
      {
       "output_type": "stream",
       "stream": "stdout",
       "text": [
        "\n",
        "[-0.00567108 -0.02845528  0.01991786 -0.02905138  0.05082305 -0.02911377]"
       ]
      },
      {
       "output_type": "stream",
       "stream": "stdout",
       "text": [
        "\n",
        "[-0.00414938 -0.01636364  0.02525253  0.03927875  0.04823183 -0.00554517]"
       ]
      },
      {
       "output_type": "stream",
       "stream": "stdout",
       "text": [
        "\n",
        "[-0.0040568  -0.02312139  0.01411043  0.00674044  0.03536585 -0.03154808]"
       ]
      },
      {
       "output_type": "stream",
       "stream": "stdout",
       "text": [
        "\n",
        "[-0.0039604  -0.01455301  0.00515464 -0.06814745  0.05912698 -0.04271379]"
       ]
      },
      {
       "output_type": "stream",
       "stream": "stdout",
       "text": [
        "\n",
        "[-0.00406504 -0.02217742  0.00661479  0.02121535  0.04072581 -0.03292702]"
       ]
      },
      {
       "output_type": "stream",
       "stream": "stdout",
       "text": [
        "\n",
        "[-0.00619835 -0.00441501  0.0082218   0.0009018   0.03464567 -0.06191382]"
       ]
      },
      {
       "output_type": "stream",
       "stream": "stdout",
       "text": [
        "\n",
        "[-0.00195695 -0.01353965  0.01295547  0.01078431  0.05384615 -0.03441059]"
       ]
      },
      {
       "output_type": "stream",
       "stream": "stdout",
       "text": [
        "\n",
        "[-0.00215517 -0.01879699  0.01919192 -0.03333333  0.06001965 -0.0260567 ]"
       ]
      },
      {
       "output_type": "stream",
       "stream": "stdout",
       "text": [
        "\n",
        "[ 0.         -0.01912046  0.0055794  -0.03070866  0.04127789 -0.04738457]"
       ]
      },
      {
       "output_type": "stream",
       "stream": "stdout",
       "text": [
        "\n",
        "[-0.00194175 -0.01603206  0.01224863 -0.04921415  0.03858268 -0.04374894]"
       ]
      },
      {
       "output_type": "stream",
       "stream": "stdout",
       "text": [
        "\n",
        "[-0.00205761 -0.01829268  0.01206544  0.01530612  0.03527132 -0.04102728]"
       ]
      },
      {
       "output_type": "stream",
       "stream": "stdout",
       "text": [
        "\n",
        "[ 0.         -0.02526316  0.04214876 -0.02114228  0.07355212 -0.03781305]"
       ]
      },
      {
       "output_type": "stream",
       "stream": "stdout",
       "text": [
        "\n",
        "[-0.00617284 -0.01181102  0.02110454 -0.02623762  0.075      -0.02078231]"
       ]
      },
      {
       "output_type": "stream",
       "stream": "stdout",
       "text": [
        "\n",
        "[-0.00401606 -0.01639344  0.02243187 -0.01896552  0.02692308 -0.0405814 ]"
       ]
      },
      {
       "output_type": "stream",
       "stream": "stdout",
       "text": [
        "\n",
        "Optimization terminated successfully.\n",
        "         Current function value: 0.003042\n",
        "         Iterations: 15\n",
        "         Function evaluations: 42\n",
        "[ 0.         -0.01346154  0.00853659 -0.01932773  0.04       -0.03716054]"
       ]
      },
      {
       "output_type": "stream",
       "stream": "stdout",
       "text": [
        "\n"
       ]
      },
      {
       "javascript": [
        "$('div#09e687dd-3a60-466f-9995-e1df5203ef35').width('46.81%')"
       ],
       "metadata": {},
       "output_type": "display_data",
       "text": [
        "<IPython.core.display.Javascript at 0x7f7333f64b90>"
       ]
      },
      {
       "output_type": "stream",
       "stream": "stdout",
       "text": [
        "[-0.00199203  0.03669202 -0.02083333 -0.18433476 -0.07784679  0.01032396]\n",
        "[ -2.06185567e-03   4.05123340e-02  -1.00200401e-04  -1.38636364e-01\n",
        "  -5.83333333e-02  -5.31531963e-03]"
       ]
      },
      {
       "output_type": "stream",
       "stream": "stdout",
       "text": [
        "\n",
        "[ 0.          0.04233716  0.02101449 -0.02281553  0.02515213  0.26314091]"
       ]
      },
      {
       "output_type": "stream",
       "stream": "stdout",
       "text": [
        "\n",
        "[-0.00733945  0.0281746  -0.04355509 -0.30182186 -0.14653465 -0.16414502]"
       ]
      },
      {
       "output_type": "stream",
       "stream": "stdout",
       "text": [
        "\n",
        "[-0.0040404   0.04589322 -0.03041237 -0.19615385 -0.10354331  0.00382802]"
       ]
      },
      {
       "output_type": "stream",
       "stream": "stdout",
       "text": [
        "\n",
        "[-0.00790514 -0.004      -0.10754923 -0.34263158 -0.14827586 -0.12847857]"
       ]
      },
      {
       "output_type": "stream",
       "stream": "stdout",
       "text": [
        "\n",
        "[ 0.          0.04377593  0.03039216  0.01257669  0.00808081  0.1642689 ]"
       ]
      },
      {
       "output_type": "stream",
       "stream": "stdout",
       "text": [
        "\n",
        "[-0.0019305   0.04804305  0.03594378  0.14113924  0.15294118  0.28422428]"
       ]
      },
      {
       "output_type": "stream",
       "stream": "stdout",
       "text": [
        "\n",
        "[ 0.          0.0459596   0.02995992  0.01933868  0.03265306  0.18283282]"
       ]
      },
      {
       "output_type": "stream",
       "stream": "stdout",
       "text": [
        "\n",
        "[ 0.          0.03235294 -0.04902913 -0.18861004 -0.09770355 -0.11837042]"
       ]
      },
      {
       "output_type": "stream",
       "stream": "stdout",
       "text": [
        "\n",
        "[ 0.          0.03938429 -0.00273437 -0.14119374 -0.05062241 -0.0161746 ]"
       ]
      },
      {
       "output_type": "stream",
       "stream": "stdout",
       "text": [
        "\n",
        "[ 0.          0.04588477  0.03973306  0.04083969  0.02664016  0.16200882]"
       ]
      },
      {
       "output_type": "stream",
       "stream": "stdout",
       "text": [
        "\n",
        "[ 0.          0.04801587  0.04367089  0.11056338  0.08541226  0.18884534]"
       ]
      },
      {
       "output_type": "stream",
       "stream": "stdout",
       "text": [
        "\n",
        "[ 0.          0.04        0.00841584 -0.0802554  -0.04405458  0.05214007]"
       ]
      },
      {
       "output_type": "stream",
       "stream": "stdout",
       "text": [
        "\n",
        "[ 0.          0.04011858  0.01106557 -0.14707602 -0.09558233 -0.05405968]"
       ]
      },
      {
       "output_type": "stream",
       "stream": "stdout",
       "text": [
        "\n",
        "[ 0.          0.04631676  0.00294118 -0.07970297 -0.04435798  0.01525456]"
       ]
      },
      {
       "output_type": "stream",
       "stream": "stdout",
       "text": [
        "\n",
        "[-0.00622407  0.03962656 -0.03125    -0.18238866 -0.10744467 -0.05404297]"
       ]
      },
      {
       "output_type": "stream",
       "stream": "stdout",
       "text": [
        "\n",
        "[ 0.          0.05        0.02281553 -0.00903084 -0.03603239  0.09364467]"
       ]
      },
      {
       "output_type": "stream",
       "stream": "stdout",
       "text": [
        "\n",
        "[-0.00399202  0.03473282 -0.04036145 -0.22113821 -0.12382813 -0.13095628]"
       ]
      },
      {
       "output_type": "stream",
       "stream": "stdout",
       "text": [
        "\n",
        "[-0.00203666  0.04377593  0.01699029 -0.02451737 -0.00894309  0.09997591]"
       ]
      },
      {
       "output_type": "stream",
       "stream": "stdout",
       "text": [
        "\n",
        "[ 0.          0.03804781  0.008      -0.03669439 -0.03903421  0.11802799]"
       ]
      },
      {
       "output_type": "stream",
       "stream": "stdout",
       "text": [
        "\n",
        "[ 0.          0.05        0.02341513 -0.04634146 -0.01504065  0.15077537]"
       ]
      },
      {
       "output_type": "stream",
       "stream": "stdout",
       "text": [
        "\n",
        "[ 0.          0.04607843  0.01666667 -0.10824847 -0.03044316  0.04543525]"
       ]
      },
      {
       "output_type": "stream",
       "stream": "stdout",
       "text": [
        "\n",
        "[ 0.          0.03846154 -0.00384615 -0.09268775 -0.05915493 -0.00509707]"
       ]
      },
      {
       "output_type": "stream",
       "stream": "stdout",
       "text": [
        "\n",
        "[ 0.          0.04415205  0.0192623  -0.06266795 -0.05146444  0.04383048]"
       ]
      },
      {
       "output_type": "stream",
       "stream": "stdout",
       "text": [
        "\n",
        "[ 0.          0.05        0.0296748  -0.0138171   0.034375    0.12978979]"
       ]
      },
      {
       "output_type": "stream",
       "stream": "stdout",
       "text": [
        "\n",
        "[-0.00198413  0.04791232  0.02795591 -0.14083503 -0.04631579  0.02786032]"
       ]
      },
      {
       "output_type": "stream",
       "stream": "stdout",
       "text": [
        "\n",
        "[ 0.          0.046       0.02373737 -0.12648262 -0.02965932  0.04255585]"
       ]
      },
      {
       "output_type": "stream",
       "stream": "stdout",
       "text": [
        "\n",
        "[-0.00187266  0.03929336 -0.01378601 -0.08346008 -0.06503067  0.03669261]"
       ]
      },
      {
       "output_type": "stream",
       "stream": "stdout",
       "text": [
        "\n",
        "[ 0.          0.04595142  0.02064579 -0.08452381 -0.04475806  0.0627003 ]"
       ]
      },
      {
       "output_type": "stream",
       "stream": "stdout",
       "text": [
        "\n",
        "[ 0.          0.04800797  0.01831683 -0.04959839 -0.05685885  0.0436295 ]"
       ]
      },
      {
       "output_type": "stream",
       "stream": "stdout",
       "text": [
        "\n",
        "[-0.00200401  0.04381443  0.01545106 -0.10229008 -0.05961538 -0.02519452]"
       ]
      },
      {
       "output_type": "stream",
       "stream": "stdout",
       "text": [
        "\n",
        "[ 0.          0.0461165   0.01641791 -0.10048544 -0.05163776  0.02370716]"
       ]
      },
      {
       "output_type": "stream",
       "stream": "stdout",
       "text": [
        "\n",
        "[ 0.          0.04585062  0.02435897 -0.02142857 -0.04431138  0.06347627]"
       ]
      },
      {
       "output_type": "stream",
       "stream": "stdout",
       "text": [
        "\n",
        "[ 0.          0.0461165   0.01296296 -0.04181287 -0.032       0.09168852]"
       ]
      },
      {
       "output_type": "stream",
       "stream": "stdout",
       "text": [
        "\n",
        "[ 0.          0.04438202  0.01518375 -0.04837398 -0.03870968  0.05174901]"
       ]
      },
      {
       "output_type": "stream",
       "stream": "stdout",
       "text": [
        "\n",
        "[ 0.          0.05        0.02148676 -0.04047619 -0.02056452  0.07799484]"
       ]
      },
      {
       "output_type": "stream",
       "stream": "stdout",
       "text": [
        "\n",
        "[-0.00204082  0.05        0.01363636 -0.13178138 -0.08752556  0.02856987]"
       ]
      },
      {
       "output_type": "stream",
       "stream": "stdout",
       "text": [
        "\n",
        "[ 0.          0.04047619 -0.00284553 -0.08385214 -0.03472803  0.04154453]"
       ]
      },
      {
       "output_type": "stream",
       "stream": "stdout",
       "text": [
        "\n",
        "[ 0.          0.04588477  0.04029126 -0.06851107 -0.0389662   0.0486878 ]"
       ]
      },
      {
       "output_type": "stream",
       "stream": "stdout",
       "text": [
        "\n",
        "[ 0.          0.048       0.02142857 -0.05163934 -0.05059761  0.04843752]"
       ]
      },
      {
       "output_type": "stream",
       "stream": "stdout",
       "text": [
        "\n",
        "Optimization terminated successfully.\n",
        "         Current function value: 0.008717\n",
        "         Iterations: 19\n",
        "         Function evaluations: 41\n",
        "[ 0.          0.04797571  0.01975425 -0.066      -0.03549784  0.05690595]"
       ]
      },
      {
       "output_type": "stream",
       "stream": "stdout",
       "text": [
        "\n"
       ]
      },
      {
       "javascript": [
        "$('div#09e687dd-3a60-466f-9995-e1df5203ef35').width('48.94%')"
       ],
       "metadata": {},
       "output_type": "display_data",
       "text": [
        "<IPython.core.display.Javascript at 0x7f7333f64cd0>"
       ]
      },
      {
       "output_type": "stream",
       "stream": "stdout",
       "text": [
        "[ 0.04604743  0.18406375  0.27883212  0.11289063 -0.02941788  0.17005757]\n",
        "[ 0.04800399  0.18550725  0.29871795  0.17400835 -0.02909836  0.16965607]"
       ]
      },
      {
       "output_type": "stream",
       "stream": "stdout",
       "text": [
        "\n",
        "[ 0.05        0.19597586  0.32323136  0.27650602  0.10254582  0.44905398]"
       ]
      },
      {
       "output_type": "stream",
       "stream": "stdout",
       "text": [
        "\n",
        "[ 0.04412916  0.17131148  0.20714286  0.02367304 -0.10031056  0.03357985]"
       ]
      },
      {
       "output_type": "stream",
       "stream": "stdout",
       "text": [
        "\n",
        "[ 0.04407115  0.18155738  0.26075051  0.09176707 -0.05485075  0.17379297]"
       ]
      },
      {
       "output_type": "stream",
       "stream": "stdout",
       "text": [
        "\n",
        "[ 0.04246704  0.14081633  0.16352459 -0.02594433 -0.09545455  0.05773709]"
       ]
      },
      {
       "output_type": "stream",
       "stream": "stdout",
       "text": [
        "\n",
        "[ 0.03661568  0.13386774  0.09395161 -0.1984252  -0.13011928 -0.23554512]"
       ]
      },
      {
       "output_type": "stream",
       "stream": "stdout",
       "text": [
        "\n",
        "[ 0.03648649  0.14106464  0.10239923 -0.14198473 -0.12664544 -0.09930279]"
       ]
      },
      {
       "output_type": "stream",
       "stream": "stdout",
       "text": [
        "\n",
        "[ 0.04027237  0.14095238  0.08500967 -0.17278481 -0.12830803 -0.19574334]"
       ]
      },
      {
       "output_type": "stream",
       "stream": "stdout",
       "text": [
        "\n",
        "[ 0.00546559  0.04836852 -0.087751   -0.26666667 -0.14410609 -0.3575245 ]"
       ]
      },
      {
       "output_type": "stream",
       "stream": "stdout",
       "text": [
        "\n",
        "[ 0.04145299  0.16887967  0.20915493 -0.03788501 -0.09059406  0.03209252]"
       ]
      },
      {
       "output_type": "stream",
       "stream": "stdout",
       "text": [
        "\n",
        "[ 0.03964803  0.16844181  0.20465116 -0.00294118 -0.07028986  0.17390969]"
       ]
      },
      {
       "output_type": "stream",
       "stream": "stdout",
       "text": [
        "\n",
        "[ 0.04605523  0.18279159  0.28713163  0.1469574  -0.01921529  0.27414682]"
       ]
      },
      {
       "output_type": "stream",
       "stream": "stdout",
       "text": [
        "\n",
        "[ 0.0289272   0.14211577  0.15357143 -0.11654412 -0.11296296 -0.08061183]"
       ]
      },
      {
       "output_type": "stream",
       "stream": "stdout",
       "text": [
        "\n",
        "[ 0.03249027  0.14666667  0.14268293 -0.10983437 -0.11923077 -0.19968058]"
       ]
      },
      {
       "output_type": "stream",
       "stream": "stdout",
       "text": [
        "\n",
        "[ 0.04386503  0.15991984  0.16304348 -0.03987342 -0.07941176  0.07697779]"
       ]
      },
      {
       "output_type": "stream",
       "stream": "stdout",
       "text": [
        "\n",
        "[ 0.02017893  0.1054326   0.06280992 -0.15306346 -0.12379032 -0.03699879]"
       ]
      },
      {
       "output_type": "stream",
       "stream": "stdout",
       "text": [
        "\n",
        "[-0.00465587  0.03615819 -0.03123752 -0.16963928 -0.11911197 -0.10275702]"
       ]
      },
      {
       "output_type": "stream",
       "stream": "stdout",
       "text": [
        "\n",
        "[ 0.01463654  0.09349112  0.00580448 -0.16117534 -0.12227723 -0.07750392]"
       ]
      },
      {
       "output_type": "stream",
       "stream": "stdout",
       "text": [
        "\n",
        "[ 0.03874296  0.13902439  0.16578947 -0.06726755 -0.09921875  0.07064611]"
       ]
      },
      {
       "output_type": "stream",
       "stream": "stdout",
       "text": [
        "\n",
        "[ 0.03298677  0.11583166  0.14411765 -0.06052632 -0.07985972  0.12407712]"
       ]
      },
      {
       "output_type": "stream",
       "stream": "stdout",
       "text": [
        "\n",
        "[ 0.01207585  0.08798371  0.04795918 -0.13656126 -0.10983936 -0.04161882]"
       ]
      },
      {
       "output_type": "stream",
       "stream": "stdout",
       "text": [
        "\n",
        "[-0.00691057  0.00677291 -0.10338983 -0.20571142 -0.11963563 -0.12826911]"
       ]
      },
      {
       "output_type": "stream",
       "stream": "stdout",
       "text": [
        "\n",
        "[ 0.02525773  0.08686869 -0.00211268 -0.14433962 -0.12       -0.07039736]"
       ]
      },
      {
       "output_type": "stream",
       "stream": "stdout",
       "text": [
        "\n",
        "[-0.01626506 -0.00366599 -0.10105566 -0.24046653 -0.12750511 -0.10713124]"
       ]
      },
      {
       "output_type": "stream",
       "stream": "stdout",
       "text": [
        "\n",
        "[ 0.03418972  0.15353535  0.12969349 -0.09596774 -0.08110236 -0.01168333]"
       ]
      },
      {
       "output_type": "stream",
       "stream": "stdout",
       "text": [
        "\n",
        "[ 0.01477495  0.05370741 -0.02119675 -0.19615385 -0.13428291 -0.19262407]"
       ]
      },
      {
       "output_type": "stream",
       "stream": "stdout",
       "text": [
        "\n",
        "[ 0.02826087  0.10187891  0.07654691 -0.13500986 -0.10546559  0.04946169]"
       ]
      },
      {
       "output_type": "stream",
       "stream": "stdout",
       "text": [
        "\n",
        "[ 0.00906433  0.04393064 -0.0512605  -0.19255319 -0.112      -0.07983371]"
       ]
      },
      {
       "output_type": "stream",
       "stream": "stdout",
       "text": [
        "\n",
        "[ 0.03605578  0.09880952  0.09901186 -0.13979592 -0.10687885  0.00363217]"
       ]
      },
      {
       "output_type": "stream",
       "stream": "stdout",
       "text": [
        "\n",
        "[ 0.02709924  0.12008197  0.09606299 -0.0781746  -0.07946058  0.03010547]"
       ]
      },
      {
       "output_type": "stream",
       "stream": "stdout",
       "text": [
        "\n",
        "[ 0.04232246  0.15705521  0.11374745 -0.01733068 -0.0473306   0.10078725]"
       ]
      },
      {
       "output_type": "stream",
       "stream": "stdout",
       "text": [
        "\n",
        "[ 0.0259519   0.1004065   0.00966387 -0.10498008 -0.10375723  0.03144945]"
       ]
      },
      {
       "output_type": "stream",
       "stream": "stdout",
       "text": [
        "\n",
        "[ 0.02222222  0.08955823  0.03699187 -0.13174603 -0.066       0.04749019]"
       ]
      },
      {
       "output_type": "stream",
       "stream": "stdout",
       "text": [
        "\n",
        "[ 0.014       0.07704918  0.03421053 -0.13004073 -0.10031056  0.02862516]"
       ]
      },
      {
       "output_type": "stream",
       "stream": "stdout",
       "text": [
        "\n",
        "[ 0.02368421  0.0388998   0.01210937 -0.19526112 -0.10435685 -0.06011898]"
       ]
      },
      {
       "output_type": "stream",
       "stream": "stdout",
       "text": [
        "\n",
        "[ 0.03624754  0.11451292  0.05216963 -0.14761905 -0.11049896  0.01424793]"
       ]
      },
      {
       "output_type": "stream",
       "stream": "stdout",
       "text": [
        "\n",
        "[ 0.01963563  0.08258317  0.01530612 -0.1249004  -0.09969819 -0.00222282]"
       ]
      },
      {
       "output_type": "stream",
       "stream": "stdout",
       "text": [
        "\n",
        "[ 0.03319328  0.09807692  0.08824131 -0.12272727 -0.07307692  0.02927568]"
       ]
      },
      {
       "output_type": "stream",
       "stream": "stdout",
       "text": [
        "\n",
        "[ 0.03577236  0.09053803  0.07007722 -0.1234375  -0.101417    0.00385255]"
       ]
      },
      {
       "output_type": "stream",
       "stream": "stdout",
       "text": [
        "\n",
        "[ 0.03148148  0.07959184  0.07537879 -0.14522863 -0.10731707 -0.02568128]"
       ]
      },
      {
       "output_type": "stream",
       "stream": "stdout",
       "text": [
        "\n",
        "[ 0.04186992  0.12418033  0.10301205 -0.09220374 -0.09512195  0.03660311]"
       ]
      },
      {
       "output_type": "stream",
       "stream": "stdout",
       "text": [
        "\n",
        "[ 0.0194501   0.06393089  0.02710372 -0.12754678 -0.10714286 -0.02458642]"
       ]
      },
      {
       "output_type": "stream",
       "stream": "stdout",
       "text": [
        "\n",
        "[ 0.03117155  0.08686869  0.09603175 -0.10050302 -0.08495935  0.04795801]"
       ]
      },
      {
       "output_type": "stream",
       "stream": "stdout",
       "text": [
        "\n",
        "[ 0.03461538  0.09705882  0.0964503  -0.07267206 -0.08866171  0.03870156]"
       ]
      },
      {
       "output_type": "stream",
       "stream": "stdout",
       "text": [
        "\n",
        "[ 0.01602972  0.10392157  0.00805169 -0.14922027 -0.09969819 -0.00273362]"
       ]
      },
      {
       "output_type": "stream",
       "stream": "stdout",
       "text": [
        "\n",
        "[ 0.03087954  0.11362764  0.03690702 -0.09199623 -0.09331984  0.03179692]"
       ]
      },
      {
       "output_type": "stream",
       "stream": "stdout",
       "text": [
        "\n",
        "[ 0.03651252  0.09570552  0.10102881 -0.16198347 -0.07900609  0.00653755]"
       ]
      },
      {
       "output_type": "stream",
       "stream": "stdout",
       "text": [
        "\n",
        "[ 0.02319588  0.09583333  0.02505241 -0.13685259 -0.08147752  0.01799098]"
       ]
      },
      {
       "output_type": "stream",
       "stream": "stdout",
       "text": [
        "\n",
        "[ 0.036       0.08974855  0.02       -0.1280083  -0.09455446 -0.01574871]"
       ]
      },
      {
       "output_type": "stream",
       "stream": "stdout",
       "text": [
        "\n",
        "[ 0.01341463  0.08933602  0.04488189 -0.11       -0.08852459  0.01593871]"
       ]
      },
      {
       "output_type": "stream",
       "stream": "stdout",
       "text": [
        "\n",
        "[ 0.02750511  0.08577154  0.02326733 -0.17608696 -0.08240557 -0.00784883]"
       ]
      },
      {
       "output_type": "stream",
       "stream": "stdout",
       "text": [
        "\n",
        "[ 0.01761134  0.06070686  0.06278826 -0.08449612 -0.09186047  0.02059382]"
       ]
      },
      {
       "output_type": "stream",
       "stream": "stdout",
       "text": [
        "\n",
        "[ 0.008159    0.09240506  0.02049808 -0.13884462 -0.09567404 -0.00517607]"
       ]
      },
      {
       "output_type": "stream",
       "stream": "stdout",
       "text": [
        "\n",
        "[ 0.02830375  0.11287879  0.05238095 -0.10836431 -0.08774319  0.02299517]"
       ]
      },
      {
       "output_type": "stream",
       "stream": "stdout",
       "text": [
        "\n",
        "[ 0.02664544  0.08445378  0.05588235 -0.13336557 -0.0947619   0.02164848]"
       ]
      },
      {
       "output_type": "stream",
       "stream": "stdout",
       "text": [
        "\n",
        "[ 0.02384306  0.10503876  0.03846154 -0.11504854 -0.10501022  0.01557119]"
       ]
      },
      {
       "output_type": "stream",
       "stream": "stdout",
       "text": [
        "\n",
        "[ 0.00752896  0.09779559  0.06289062 -0.11341948 -0.09791667  0.02739699]"
       ]
      },
      {
       "output_type": "stream",
       "stream": "stdout",
       "text": [
        "\n",
        "[ 0.01646943  0.09595376  0.01535433 -0.12300613 -0.07079208  0.02172414]"
       ]
      },
      {
       "output_type": "stream",
       "stream": "stdout",
       "text": [
        "\n",
        "[ 0.01565657  0.10248963  0.07354212 -0.09904943 -0.09512195  0.02816767]"
       ]
      },
      {
       "output_type": "stream",
       "stream": "stdout",
       "text": [
        "\n",
        "[ 0.01875     0.09121339  0.04138277 -0.11718404 -0.09366197  0.02660955]"
       ]
      },
      {
       "output_type": "stream",
       "stream": "stdout",
       "text": [
        "\n",
        "[ 0.03520085  0.12798354  0.07874494 -0.08577236 -0.09409938  0.01296648]"
       ]
      },
      {
       "output_type": "stream",
       "stream": "stdout",
       "text": [
        "\n",
        "[ 0.01421471  0.06654135  0.04230769 -0.13818737 -0.10145631  0.0039633 ]"
       ]
      },
      {
       "output_type": "stream",
       "stream": "stdout",
       "text": [
        "\n",
        "[ 0.01687371  0.08844622  0.05669291 -0.11666667 -0.0791498   0.03384275]"
       ]
      },
      {
       "output_type": "stream",
       "stream": "stdout",
       "text": [
        "\n",
        "[ 0.01692607  0.11089109  0.05532319 -0.13627451 -0.08482688  0.03188588]"
       ]
      },
      {
       "output_type": "stream",
       "stream": "stdout",
       "text": [
        "\n",
        "[ 0.02260274  0.09775051  0.05196078 -0.13682171 -0.10306122  0.03116153]"
       ]
      },
      {
       "output_type": "stream",
       "stream": "stdout",
       "text": [
        "\n",
        "[ 0.0188716   0.10039062  0.03859649 -0.11290631 -0.09589178  0.01433539]"
       ]
      },
      {
       "output_type": "stream",
       "stream": "stdout",
       "text": [
        "\n",
        "[ 0.02083333  0.09860835  0.05993915 -0.1444664  -0.12463002  0.01714916]"
       ]
      },
      {
       "output_type": "stream",
       "stream": "stdout",
       "text": [
        "\n",
        "[ 0.02546012  0.09473684  0.08206751 -0.12453027 -0.07916667  0.0153781 ]"
       ]
      },
      {
       "output_type": "stream",
       "stream": "stdout",
       "text": [
        "\n",
        "[ 0.0259519   0.07804878  0.02209776 -0.12470356 -0.08413174  0.01985161]"
       ]
      },
      {
       "output_type": "stream",
       "stream": "stdout",
       "text": [
        "\n",
        "[ 0.01837945  0.08588008  0.00510597 -0.12016129 -0.09038462  0.00978661]"
       ]
      },
      {
       "output_type": "stream",
       "stream": "stdout",
       "text": [
        "\n",
        "Optimization terminated successfully.\n",
        "         Current function value: 0.023940\n",
        "         Iterations: 33\n",
        "         Function evaluations: 71\n",
        "[ 0.02017893  0.11295547  0.03801653 -0.1335249  -0.09499018  0.03938231]"
       ]
      },
      {
       "output_type": "stream",
       "stream": "stdout",
       "text": [
        "\n"
       ]
      },
      {
       "javascript": [
        "$('div#09e687dd-3a60-466f-9995-e1df5203ef35').width('51.06%')"
       ],
       "metadata": {},
       "output_type": "display_data",
       "text": [
        "<IPython.core.display.Javascript at 0x7f73340925d0>"
       ]
      },
      {
       "output_type": "stream",
       "stream": "stdout",
       "text": [
        "[ 0.         -0.01002004 -0.028      -0.22868852 -0.13846881 -0.25622289]\n",
        "[ 0.         -0.00412371 -0.016      -0.18795181 -0.11185567 -0.22959385]"
       ]
      },
      {
       "output_type": "stream",
       "stream": "stdout",
       "text": [
        "\n",
        "[-0.0019802  -0.00772201  0.01940727 -0.00460922 -0.03119002  0.02709646]"
       ]
      },
      {
       "output_type": "stream",
       "stream": "stdout",
       "text": [
        "\n",
        "[-0.00598802 -0.02669405 -0.05647182 -0.35668663 -0.20378151 -0.39468162]"
       ]
      },
      {
       "output_type": "stream",
       "stream": "stdout",
       "text": [
        "\n",
        "[ 0.         -0.01287554 -0.03637236 -0.26039604 -0.13211382 -0.24626287]"
       ]
      },
      {
       "output_type": "stream",
       "stream": "stdout",
       "text": [
        "\n",
        "[-0.01041667 -0.03112033 -0.11342412 -0.36935484 -0.18939394 -0.37434529]"
       ]
      },
      {
       "output_type": "stream",
       "stream": "stdout",
       "text": [
        "\n",
        "[ 0.         -0.01188119  0.00866142 -0.09468691 -0.00102041 -0.05633198]"
       ]
      },
      {
       "output_type": "stream",
       "stream": "stdout",
       "text": [
        "\n",
        "[ 0.          0.          0.04595142  0.08776291  0.08744856  0.01432198]"
       ]
      },
      {
       "output_type": "stream",
       "stream": "stdout",
       "text": [
        "\n",
        "[ 0.          0.          0.02373737  0.04180328  0.09375     0.04356498]"
       ]
      },
      {
       "output_type": "stream",
       "stream": "stdout",
       "text": [
        "\n",
        "[ 0.         -0.0019084   0.03841699  0.12035928  0.168       0.13762125]"
       ]
      },
      {
       "output_type": "stream",
       "stream": "stdout",
       "text": [
        "\n",
        "[ 0.          0.          0.04586777  0.18114754  0.32833656  0.2453358 ]"
       ]
      },
      {
       "output_type": "stream",
       "stream": "stdout",
       "text": [
        "\n",
        "[ 0.         -0.00406504  0.02585513 -0.01034483 -0.03313253 -0.10217609]"
       ]
      },
      {
       "output_type": "stream",
       "stream": "stdout",
       "text": [
        "\n",
        "[-0.00206612 -0.02424242 -0.00070994 -0.1695122  -0.09554455 -0.18191724]"
       ]
      },
      {
       "output_type": "stream",
       "stream": "stdout",
       "text": [
        "\n",
        "[-0.00204499  0.          0.03830409  0.0421875   0.07604736  0.0699094 ]"
       ]
      },
      {
       "output_type": "stream",
       "stream": "stdout",
       "text": [
        "\n",
        "[-0.00399202 -0.00199203  0.00757576 -0.11821946 -0.02495108 -0.03916528]"
       ]
      },
      {
       "output_type": "stream",
       "stream": "stdout",
       "text": [
        "\n",
        "[ 0.          0.          0.00833333 -0.08019802 -0.02189409 -0.01388831]"
       ]
      },
      {
       "output_type": "stream",
       "stream": "stdout",
       "text": [
        "\n",
        "[ 0.         -0.01190476  0.00991561 -0.18780488 -0.0354251  -0.10781463]"
       ]
      },
      {
       "output_type": "stream",
       "stream": "stdout",
       "text": [
        "\n",
        "[ 0.          0.          0.04203187  0.01968191  0.0546875   0.022157  ]"
       ]
      },
      {
       "output_type": "stream",
       "stream": "stdout",
       "text": [
        "\n",
        "[ 0.         -0.01417004 -0.02112971 -0.09717742 -0.06120332 -0.11228256]"
       ]
      },
      {
       "output_type": "stream",
       "stream": "stdout",
       "text": [
        "\n",
        "[ 0.         -0.00194175  0.02888676 -0.00664062  0.0511583  -0.00484706]"
       ]
      },
      {
       "output_type": "stream",
       "stream": "stdout",
       "text": [
        "\n",
        "[ 0.         -0.0040404   0.03818898  0.02379032  0.02991886  0.03100668]"
       ]
      },
      {
       "output_type": "stream",
       "stream": "stdout",
       "text": [
        "\n",
        "[ 0.         -0.0020284   0.03333333  0.03481781  0.14056604  0.12303623]"
       ]
      },
      {
       "output_type": "stream",
       "stream": "stdout",
       "text": [
        "\n",
        "[ 0.          0.          0.02791165 -0.03199195 -0.04092702 -0.02705301]"
       ]
      },
      {
       "output_type": "stream",
       "stream": "stdout",
       "text": [
        "\n",
        "[ 0.          0.          0.04168399  0.008       0.04958678  0.01988322]"
       ]
      },
      {
       "output_type": "stream",
       "stream": "stdout",
       "text": [
        "\n",
        "[ 0.         -0.00588235  0.02757009 -0.0006135  -0.03063241 -0.01464643]"
       ]
      },
      {
       "output_type": "stream",
       "stream": "stdout",
       "text": [
        "\n",
        "[ 0.         -0.00980392  0.0347619  -0.10039448 -0.01331361 -0.02773768]"
       ]
      },
      {
       "output_type": "stream",
       "stream": "stdout",
       "text": [
        "\n",
        "[ 0.         -0.00616016  0.02971602 -0.07267081 -0.00862069 -0.02947632]"
       ]
      },
      {
       "output_type": "stream",
       "stream": "stdout",
       "text": [
        "\n",
        "[ 0.          0.          0.038       0.00528455  0.00732218  0.00815555]"
       ]
      },
      {
       "output_type": "stream",
       "stream": "stdout",
       "text": [
        "\n",
        "[ 0.          0.          0.03993964  0.02692308  0.0297619   0.06394021]"
       ]
      },
      {
       "output_type": "stream",
       "stream": "stdout",
       "text": [
        "\n",
        "[ 0.         -0.00394477  0.01593186 -0.03932136  0.03070175 -0.02206489]"
       ]
      },
      {
       "output_type": "stream",
       "stream": "stdout",
       "text": [
        "\n",
        "[ 0.          0.          0.03210736 -0.03901515 -0.02464789 -0.01980828]"
       ]
      },
      {
       "output_type": "stream",
       "stream": "stdout",
       "text": [
        "\n",
        "[-0.00196464 -0.00608519  0.02297297 -0.04387352  0.00450902 -0.0086956 ]"
       ]
      },
      {
       "output_type": "stream",
       "stream": "stdout",
       "text": [
        "\n",
        "[ 0.         -0.00393701  0.03159509 -0.06614173 -0.03625954 -0.02257975]"
       ]
      },
      {
       "output_type": "stream",
       "stream": "stdout",
       "text": [
        "\n",
        "[-0.00209644 -0.00208768  0.0421875   0.00196078  0.01719057  0.00377311]"
       ]
      },
      {
       "output_type": "stream",
       "stream": "stdout",
       "text": [
        "\n",
        "[ 0.         -0.00392927  0.03192771 -0.02056452  0.00754527  0.03072245]"
       ]
      },
      {
       "output_type": "stream",
       "stream": "stdout",
       "text": [
        "\n",
        "[ 0.         -0.00429185  0.03837209  0.00576923 -0.00052854  0.0308125 ]"
       ]
      },
      {
       "output_type": "stream",
       "stream": "stdout",
       "text": [
        "\n",
        "[ 0.         -0.0039604   0.022167    0.01825397 -0.00303644  0.03486549]"
       ]
      },
      {
       "output_type": "stream",
       "stream": "stdout",
       "text": [
        "\n",
        "[ 0.          0.          0.022      -0.0307393   0.03336756 -0.01595513]"
       ]
      },
      {
       "output_type": "stream",
       "stream": "stdout",
       "text": [
        "\n",
        "[ 0.         -0.00201613  0.03993964 -0.03661417  0.00619835  0.01044694]"
       ]
      },
      {
       "output_type": "stream",
       "stream": "stdout",
       "text": [
        "\n",
        "[ 0.          0.          0.03207171  0.03161034 -0.00498008 -0.0027358 ]"
       ]
      },
      {
       "output_type": "stream",
       "stream": "stdout",
       "text": [
        "\n",
        "[ 0.         -0.00399202  0.02708333 -0.00873786  0.04545455  0.02325956]"
       ]
      },
      {
       "output_type": "stream",
       "stream": "stdout",
       "text": [
        "\n",
        "[ 0.         -0.01030928  0.02575758 -0.02217573  0.006       0.01430251]"
       ]
      },
      {
       "output_type": "stream",
       "stream": "stdout",
       "text": [
        "\n",
        "[ 0.         -0.00798403  0.0266537   0.00849421  0.02620968  0.01270141]"
       ]
      },
      {
       "output_type": "stream",
       "stream": "stdout",
       "text": [
        "\n",
        "[ 0.         -0.00416667  0.02565923 -0.03855186 -0.00144509  0.01915266]"
       ]
      },
      {
       "output_type": "stream",
       "stream": "stdout",
       "text": [
        "\n",
        "[-0.00193798  0.          0.03863636  0.00941884  0.01245211 -0.01186542]"
       ]
      },
      {
       "output_type": "stream",
       "stream": "stdout",
       "text": [
        "\n",
        "[ 0.         -0.00976562  0.032      -0.05146444 -0.00050302  0.00854549]"
       ]
      },
      {
       "output_type": "stream",
       "stream": "stdout",
       "text": [
        "\n",
        "[ 0.         -0.00210526  0.02962963 -0.01619048 -0.016       0.01811216]"
       ]
      },
      {
       "output_type": "stream",
       "stream": "stdout",
       "text": [
        "\n",
        "[ 0.         -0.00194175  0.04011858  0.00693069  0.03015564  0.02789147]"
       ]
      },
      {
       "output_type": "stream",
       "stream": "stdout",
       "text": [
        "\n",
        "[ 0.         -0.00193798  0.02731959  0.01176471 -0.01217228  0.02081375]"
       ]
      },
      {
       "output_type": "stream",
       "stream": "stdout",
       "text": [
        "\n",
        "[-0.00392157  0.          0.037061    0.00722433  0.02360308  0.02446808]"
       ]
      },
      {
       "output_type": "stream",
       "stream": "stdout",
       "text": [
        "\n",
        "[ 0.         -0.00192308  0.02773279  0.0055336   0.0444664   0.04053028]"
       ]
      },
      {
       "output_type": "stream",
       "stream": "stdout",
       "text": [
        "\n",
        "[ 0.          0.          0.02109827 -0.0029703   0.04666012  0.01253754]"
       ]
      },
      {
       "output_type": "stream",
       "stream": "stdout",
       "text": [
        "\n",
        "[ 0.          0.          0.024      -0.01465517 -0.00294118  0.01470278]"
       ]
      },
      {
       "output_type": "stream",
       "stream": "stdout",
       "text": [
        "\n",
        "[ 0.         -0.00211864  0.03039216 -0.03541667  0.03688525  0.01955308]"
       ]
      },
      {
       "output_type": "stream",
       "stream": "stdout",
       "text": [
        "\n",
        "[ 0.         -0.00573614  0.03069498 -0.00462185  0.00254582 -0.00317942]"
       ]
      },
      {
       "output_type": "stream",
       "stream": "stdout",
       "text": [
        "\n",
        "[ 0.         -0.00205339  0.03015873 -0.02319392  0.01232742  0.01964713]"
       ]
      },
      {
       "output_type": "stream",
       "stream": "stdout",
       "text": [
        "\n",
        "Optimization terminated successfully.\n",
        "         Current function value: 0.001013\n",
        "         Iterations: 25\n",
        "         Function evaluations: 56\n",
        "[ 0.         -0.00201613  0.0255102  -0.03009709  0.01086957  0.01059597]"
       ]
      },
      {
       "output_type": "stream",
       "stream": "stdout",
       "text": [
        "\n"
       ]
      },
      {
       "javascript": [
        "$('div#09e687dd-3a60-466f-9995-e1df5203ef35').width('53.19%')"
       ],
       "metadata": {},
       "output_type": "display_data",
       "text": [
        "<IPython.core.display.Javascript at 0x7f73342db290>"
       ]
      },
      {
       "output_type": "stream",
       "stream": "stdout",
       "text": [
        "[-0.00204918 -0.01417004  0.02871287  0.34646465  0.1194332   0.33721732]\n",
        "[ 0.         -0.00819672  0.05692884  0.39699399  0.12260536  0.3412635 ]"
       ]
      },
      {
       "output_type": "stream",
       "stream": "stdout",
       "text": [
        "\n",
        "[ 0.         -0.00202429  0.08054475  0.53975155  0.26693227  0.59736017]"
       ]
      },
      {
       "output_type": "stream",
       "stream": "stdout",
       "text": [
        "\n",
        "[ 0.         -0.0349076  -0.00782241  0.25787321  0.05785124  0.19989503]"
       ]
      },
      {
       "output_type": "stream",
       "stream": "stdout",
       "text": [
        "\n",
        "[-0.0021097  -0.0125523   0.03920335  0.33629344  0.1124498   0.32623753]"
       ]
      },
      {
       "output_type": "stream",
       "stream": "stdout",
       "text": [
        "\n",
        "[-0.01221996 -0.05241935 -0.08181818  0.21766917  0.05730129  0.1965291 ]"
       ]
      },
      {
       "output_type": "stream",
       "stream": "stdout",
       "text": [
        "\n",
        "[-0.01792829 -0.06438632 -0.13829787  0.0979798   0.02114165 -0.09693734]"
       ]
      },
      {
       "output_type": "stream",
       "stream": "stdout",
       "text": [
        "\n",
        "[-0.03740157 -0.18058252 -0.40308008 -0.04736842  0.00383877 -0.47200956]"
       ]
      },
      {
       "output_type": "stream",
       "stream": "stdout",
       "text": [
        "\n",
        "[-0.02028398 -0.07070707 -0.10833333  0.10954357  0.02371542  0.06345003]"
       ]
      },
      {
       "output_type": "stream",
       "stream": "stdout",
       "text": [
        "\n",
        "[-0.05060729 -0.14949495 -0.34308943 -0.00427699  0.00383142 -0.06776407]"
       ]
      },
      {
       "output_type": "stream",
       "stream": "stdout",
       "text": [
        "\n",
        "[-0.01006036 -0.0797546  -0.15831703  0.04092664  0.0240481  -0.05860215]"
       ]
      },
      {
       "output_type": "stream",
       "stream": "stdout",
       "text": [
        "\n",
        "[-0.03754941 -0.15400411 -0.32828685  0.00931174  0.00591716 -0.20731556]"
       ]
      },
      {
       "output_type": "stream",
       "stream": "stdout",
       "text": [
        "\n",
        "[-0.01239669 -0.10344828 -0.1776699   0.0888668   0.00608519 -0.05936858]"
       ]
      },
      {
       "output_type": "stream",
       "stream": "stdout",
       "text": [
        "\n",
        "[-0.0513834  -0.2039604  -0.35417515 -0.00429688  0.00826446 -0.19216833]"
       ]
      },
      {
       "output_type": "stream",
       "stream": "stdout",
       "text": [
        "\n",
        "[-0.00965251 -0.05175983 -0.04367816  0.18278689  0.06349206  0.09767329]"
       ]
      },
      {
       "output_type": "stream",
       "stream": "stdout",
       "text": [
        "\n",
        "[-0.03125    -0.10821643 -0.2371869   0.03333333  0.01183432 -0.22099614]"
       ]
      },
      {
       "output_type": "stream",
       "stream": "stdout",
       "text": [
        "\n",
        "[-0.00393701 -0.05476673 -0.09415449  0.18143713  0.04633205  0.09633599]"
       ]
      },
      {
       "output_type": "stream",
       "stream": "stdout",
       "text": [
        "\n",
        "[-0.00843882 -0.07370518 -0.17128713  0.07400419  0.00858369 -0.11848098]"
       ]
      },
      {
       "output_type": "stream",
       "stream": "stdout",
       "text": [
        "\n",
        "[-0.01863354 -0.07518797 -0.17935223  0.07097416  0.01140684 -0.07527033]"
       ]
      },
      {
       "output_type": "stream",
       "stream": "stdout",
       "text": [
        "\n",
        "[-0.00756144 -0.04733728 -0.05611814  0.15        0.0390625   0.0475989 ]"
       ]
      },
      {
       "output_type": "stream",
       "stream": "stdout",
       "text": [
        "\n",
        "[-0.00583658 -0.02268041 -0.00597303  0.274       0.05613306  0.12734622]"
       ]
      },
      {
       "output_type": "stream",
       "stream": "stdout",
       "text": [
        "\n",
        "[-0.01590457 -0.11960784 -0.21914894  0.07261905  0.01197605 -0.16403723]"
       ]
      },
      {
       "output_type": "stream",
       "stream": "stdout",
       "text": [
        "\n",
        "[-0.01121495 -0.04288499 -0.06895874  0.14        0.03968254  0.04111706]"
       ]
      },
      {
       "output_type": "stream",
       "stream": "stdout",
       "text": [
        "\n",
        "[-0.00967118 -0.04457364 -0.11259843  0.14568138  0.03585657  0.08175774]"
       ]
      },
      {
       "output_type": "stream",
       "stream": "stdout",
       "text": [
        "\n",
        "[-0.01836735 -0.04242424 -0.10523139  0.10125786  0.04233871  0.03075453]"
       ]
      },
      {
       "output_type": "stream",
       "stream": "stdout",
       "text": [
        "\n",
        "[-0.01402806 -0.07721281 -0.14031008  0.1394636   0.04008016  0.12908315]"
       ]
      },
      {
       "output_type": "stream",
       "stream": "stdout",
       "text": [
        "\n",
        "[-0.00596421 -0.06048387 -0.12535211  0.13673469  0.02254098 -0.02936871]"
       ]
      },
      {
       "output_type": "stream",
       "stream": "stdout",
       "text": [
        "\n",
        "[-0.02231237 -0.0620155  -0.12972973  0.14539877  0.02208835  0.07938162]"
       ]
      },
      {
       "output_type": "stream",
       "stream": "stdout",
       "text": [
        "\n",
        "[-0.01214575 -0.04925054 -0.14212598  0.0916996   0.03155819  0.0095015 ]"
       ]
      },
      {
       "output_type": "stream",
       "stream": "stdout",
       "text": [
        "\n",
        "[-0.00792079 -0.02631579 -0.06765286  0.18118812  0.07063197  0.12821252]"
       ]
      },
      {
       "output_type": "stream",
       "stream": "stdout",
       "text": [
        "\n",
        "[-0.01171875 -0.08695652 -0.15976563  0.07254902  0.0292887  -0.0192431 ]"
       ]
      },
      {
       "output_type": "stream",
       "stream": "stdout",
       "text": [
        "\n",
        "[-0.0075188  -0.06889764 -0.09662921  0.1248996   0.02745098  0.04031374]"
       ]
      },
      {
       "output_type": "stream",
       "stream": "stdout",
       "text": [
        "\n",
        "[-0.01408451 -0.05821206 -0.09284294  0.13196881  0.0349076   0.04831211]"
       ]
      },
      {
       "output_type": "stream",
       "stream": "stdout",
       "text": [
        "\n",
        "[-0.01046025 -0.05686275 -0.13228346  0.1188755   0.03549061 -0.00298409]"
       ]
      },
      {
       "output_type": "stream",
       "stream": "stdout",
       "text": [
        "\n",
        "[-0.01581028 -0.04780876 -0.15833333  0.1535497   0.01976285  0.0522306 ]"
       ]
      },
      {
       "output_type": "stream",
       "stream": "stdout",
       "text": [
        "\n",
        "[-0.00406504 -0.06854839 -0.12289157  0.1         0.02851324 -0.01109303]"
       ]
      },
      {
       "output_type": "stream",
       "stream": "stdout",
       "text": [
        "\n",
        "[-0.00972763 -0.05555556 -0.1244898   0.1532833   0.03353057  0.01139835]"
       ]
      },
      {
       "output_type": "stream",
       "stream": "stdout",
       "text": [
        "\n",
        "[-0.00379507 -0.05179283 -0.10325203  0.13461538  0.0254902   0.01637296]"
       ]
      },
      {
       "output_type": "stream",
       "stream": "stdout",
       "text": [
        "\n",
        "[-0.00972763 -0.0621118  -0.11330724  0.11511628  0.03838384  0.03219713]"
       ]
      },
      {
       "output_type": "stream",
       "stream": "stdout",
       "text": [
        "\n",
        "[-0.01740812 -0.08299595 -0.12903885  0.10682731  0.01956522 -0.02814057]"
       ]
      },
      {
       "output_type": "stream",
       "stream": "stdout",
       "text": [
        "\n",
        "[-0.01635992 -0.04952381 -0.10654397  0.13430962  0.03448276  0.03501367]"
       ]
      },
      {
       "output_type": "stream",
       "stream": "stdout",
       "text": [
        "\n",
        "[-0.00742115 -0.04471545 -0.10731707  0.14952741  0.03219316  0.01639847]"
       ]
      },
      {
       "output_type": "stream",
       "stream": "stdout",
       "text": [
        "\n",
        "[-0.00984252 -0.05327869 -0.11836735  0.11115538  0.04918033  0.0076868 ]"
       ]
      },
      {
       "output_type": "stream",
       "stream": "stdout",
       "text": [
        "\n",
        "[-0.00938086 -0.06560636 -0.14137931  0.13260073  0.03497942  0.03017737]"
       ]
      },
      {
       "output_type": "stream",
       "stream": "stdout",
       "text": [
        "\n",
        "[-0.01369863 -0.05870445 -0.12328244  0.12633745  0.03984064  0.02460492]"
       ]
      },
      {
       "output_type": "stream",
       "stream": "stdout",
       "text": [
        "\n",
        "[-0.01716738 -0.06       -0.12370937  0.13780488  0.03488372  0.03661285]"
       ]
      },
      {
       "output_type": "stream",
       "stream": "stdout",
       "text": [
        "\n",
        "Optimization terminated successfully.\n",
        "         Current function value: 0.026202\n",
        "         Iterations: 17\n",
        "         Function evaluations: 46\n",
        "[-0.00994036 -0.05241935 -0.10392157  0.11966527  0.02366864  0.02863308]"
       ]
      },
      {
       "output_type": "stream",
       "stream": "stdout",
       "text": [
        "\n"
       ]
      },
      {
       "javascript": [
        "$('div#09e687dd-3a60-466f-9995-e1df5203ef35').width('55.32%')"
       ],
       "metadata": {},
       "output_type": "display_data",
       "text": [
        "<IPython.core.display.Javascript at 0x7f7333f6e0d0>"
       ]
      },
      {
       "output_type": "stream",
       "stream": "stdout",
       "text": [
        "[ 0.         -0.01388889 -0.0940499  -0.29805447  0.06132812 -0.2264882 ]\n",
        "[ 0.         -0.00784314 -0.04545455 -0.25628998  0.0984375  -0.2162497 ]"
       ]
      },
      {
       "output_type": "stream",
       "stream": "stdout",
       "text": [
        "\n",
        "[ 0.         -0.00393701 -0.03703704 -0.13904762  0.21755218  0.05365463]"
       ]
      },
      {
       "output_type": "stream",
       "stream": "stdout",
       "text": [
        "\n",
        "[ 0.         -0.01688555 -0.1026616  -0.4627907   0.0039499  -0.34842794]"
       ]
      },
      {
       "output_type": "stream",
       "stream": "stdout",
       "text": [
        "\n",
        "[ 0.         -0.02534113 -0.05293006 -0.3560166   0.06680328 -0.21288445]"
       ]
      },
      {
       "output_type": "stream",
       "stream": "stdout",
       "text": [
        "\n",
        "[-0.00423729 -0.05389222 -0.17588933 -0.49537815  0.0246888  -0.33998476]"
       ]
      },
      {
       "output_type": "stream",
       "stream": "stdout",
       "text": [
        "\n",
        "[ 0.         -0.00196464 -0.00188324 -0.11097561  0.19254473 -0.04993422]"
       ]
      },
      {
       "output_type": "stream",
       "stream": "stdout",
       "text": [
        "\n",
        "[ 0.         -0.0038835  -0.00411523  0.01372549  0.29455446  0.05992323]"
       ]
      },
      {
       "output_type": "stream",
       "stream": "stdout",
       "text": [
        "\n",
        "[ 0.          0.         -0.01452282 -0.043083    0.27874016  0.07056898]"
       ]
      },
      {
       "output_type": "stream",
       "stream": "stdout",
       "text": [
        "\n",
        "[ 0.         -0.00208333 -0.00963391 -0.0202381   0.31561265  0.08314799]"
       ]
      },
      {
       "output_type": "stream",
       "stream": "stdout",
       "text": [
        "\n",
        "[ 0.          0.         -0.00395257  0.00785124  0.40773196  0.16827016]"
       ]
      },
      {
       "output_type": "stream",
       "stream": "stdout",
       "text": [
        "\n",
        "[-0.00197239 -0.00596421 -0.05357143 -0.23942505  0.12479675 -0.10217012]"
       ]
      },
      {
       "output_type": "stream",
       "stream": "stdout",
       "text": [
        "\n",
        "[ 0.          0.         -0.01375246 -0.00315582  0.3875      0.19595546]"
       ]
      },
      {
       "output_type": "stream",
       "stream": "stdout",
       "text": [
        "\n",
        "[-0.00201207 -0.00390625 -0.03177966 -0.14773663  0.12322835 -0.09988163]"
       ]
      },
      {
       "output_type": "stream",
       "stream": "stdout",
       "text": [
        "\n",
        "[ 0.         -0.00968992 -0.03917526 -0.24359465  0.08916501 -0.13151261]"
       ]
      },
      {
       "output_type": "stream",
       "stream": "stdout",
       "text": [
        "\n",
        "[ 0.          0.         -0.02723735 -0.07201566  0.25246914  0.04102174]"
       ]
      },
      {
       "output_type": "stream",
       "stream": "stdout",
       "text": [
        "\n",
        "[ 0.          0.         -0.01221996  0.02696177  0.31458333  0.13267974]"
       ]
      },
      {
       "output_type": "stream",
       "stream": "stdout",
       "text": [
        "\n",
        "[-0.00190476 -0.00194932 -0.03373016 -0.20712946  0.18658052 -0.04480418]"
       ]
      },
      {
       "output_type": "stream",
       "stream": "stdout",
       "text": [
        "\n",
        "[ 0.         -0.01022495 -0.03497942 -0.24219067  0.08265306 -0.11739713]"
       ]
      },
      {
       "output_type": "stream",
       "stream": "stdout",
       "text": [
        "\n",
        "[ 0.         -0.00400802 -0.02312139 -0.14705882  0.17630561 -0.0009539 ]"
       ]
      },
      {
       "output_type": "stream",
       "stream": "stdout",
       "text": [
        "\n",
        "[ 0.          0.         -0.00801603 -0.03790323  0.32052632  0.09170959]"
       ]
      },
      {
       "output_type": "stream",
       "stream": "stdout",
       "text": [
        "\n",
        "[ 0.          0.         -0.02244898 -0.17190083  0.14047619 -0.07763817]"
       ]
      },
      {
       "output_type": "stream",
       "stream": "stdout",
       "text": [
        "\n",
        "[-0.00198807 -0.00417537 -0.03379722 -0.22519685  0.09619883 -0.118366  ]"
       ]
      },
      {
       "output_type": "stream",
       "stream": "stdout",
       "text": [
        "\n",
        "[ 0.         -0.00390625 -0.02118644 -0.14160305  0.18246493  0.00906631]"
       ]
      },
      {
       "output_type": "stream",
       "stream": "stdout",
       "text": [
        "\n",
        "[ 0.         -0.00396825 -0.00986193 -0.16203523  0.12475728 -0.13593666]"
       ]
      },
      {
       "output_type": "stream",
       "stream": "stdout",
       "text": [
        "\n",
        "[ 0.         -0.0040568  -0.01414141 -0.20392157  0.12979798 -0.09582033]"
       ]
      },
      {
       "output_type": "stream",
       "stream": "stdout",
       "text": [
        "\n",
        "[ 0.         -0.01178782 -0.02204409 -0.18427948  0.16311475 -0.07414673]"
       ]
      },
      {
       "output_type": "stream",
       "stream": "stdout",
       "text": [
        "\n",
        "[ 0.         -0.00218341 -0.01825558 -0.16986301  0.18371648 -0.06212847]"
       ]
      },
      {
       "output_type": "stream",
       "stream": "stdout",
       "text": [
        "\n",
        "[ 0.         -0.00429185 -0.0221328  -0.1531746   0.16181263 -0.03018001]"
       ]
      },
      {
       "output_type": "stream",
       "stream": "stdout",
       "text": [
        "\n",
        "[-0.00206612 -0.00391389 -0.01584158 -0.1902439   0.11666667 -0.08629804]"
       ]
      },
      {
       "output_type": "stream",
       "stream": "stdout",
       "text": [
        "\n",
        "[-0.00425532  0.         -0.03557312 -0.16039604  0.2234375  -0.02007102]"
       ]
      },
      {
       "output_type": "stream",
       "stream": "stdout",
       "text": [
        "\n",
        "[-0.002      -0.00787402 -0.01574803 -0.13669355  0.15152091 -0.11887954]"
       ]
      },
      {
       "output_type": "stream",
       "stream": "stdout",
       "text": [
        "\n",
        "[-0.00194175 -0.00583658 -0.01871102 -0.18877339  0.12560074 -0.11020127]"
       ]
      },
      {
       "output_type": "stream",
       "stream": "stdout",
       "text": [
        "\n",
        "[ 0.         -0.00192678 -0.02669405 -0.200818    0.11634051 -0.1111776 ]"
       ]
      },
      {
       "output_type": "stream",
       "stream": "stdout",
       "text": [
        "\n",
        "[ 0.         -0.00630252 -0.02788845 -0.20313112  0.18188406 -0.06818649]"
       ]
      },
      {
       "output_type": "stream",
       "stream": "stdout",
       "text": [
        "\n",
        "[-0.00204499 -0.0038835  -0.02702703 -0.15145631  0.15833333 -0.04543813]"
       ]
      },
      {
       "output_type": "stream",
       "stream": "stdout",
       "text": [
        "\n",
        "[ 0.         -0.00196464 -0.03861789 -0.23579767  0.12311609 -0.10168631]"
       ]
      },
      {
       "output_type": "stream",
       "stream": "stdout",
       "text": [
        "\n",
        "[ 0.         -0.00609756 -0.03099174 -0.21897233  0.12509728 -0.10733693]"
       ]
      },
      {
       "output_type": "stream",
       "stream": "stdout",
       "text": [
        "\n",
        "[-0.00189394 -0.00784314 -0.02620968 -0.22626263  0.13444444 -0.11678745]"
       ]
      },
      {
       "output_type": "stream",
       "stream": "stdout",
       "text": [
        "\n",
        "[ 0.          0.         -0.03667954 -0.2389234   0.12741935 -0.07156269]"
       ]
      },
      {
       "output_type": "stream",
       "stream": "stdout",
       "text": [
        "\n",
        "[ 0.         -0.016      -0.03174603 -0.1836478   0.13304432 -0.08144941]"
       ]
      },
      {
       "output_type": "stream",
       "stream": "stdout",
       "text": [
        "\n",
        "[ 0.         -0.00389864 -0.03282276 -0.20551181  0.14681909 -0.05663407]"
       ]
      },
      {
       "output_type": "stream",
       "stream": "stdout",
       "text": [
        "\n",
        "[ 0.         -0.00590551 -0.03177966 -0.2033264   0.14793814 -0.0852923 ]"
       ]
      },
      {
       "output_type": "stream",
       "stream": "stdout",
       "text": [
        "\n",
        "[ 0.         -0.00625    -0.03112033 -0.16032389  0.15866142 -0.04719359]"
       ]
      },
      {
       "output_type": "stream",
       "stream": "stdout",
       "text": [
        "\n",
        "[ 0.         -0.00601202 -0.02631579 -0.20792079  0.12016807 -0.05909016]"
       ]
      },
      {
       "output_type": "stream",
       "stream": "stdout",
       "text": [
        "\n",
        "[-0.00193424 -0.00412371 -0.02819957 -0.18867925  0.15348837 -0.08970728]"
       ]
      },
      {
       "output_type": "stream",
       "stream": "stdout",
       "text": [
        "\n",
        "[ 0.         -0.00191939 -0.03386454 -0.1401222   0.14417476 -0.07928847]"
       ]
      },
      {
       "output_type": "stream",
       "stream": "stdout",
       "text": [
        "\n",
        "Optimization terminated successfully.\n",
        "         Current function value: 0.047858\n",
        "         Iterations: 23\n",
        "         Function evaluations: 47\n",
        "[ 0.         -0.00594059 -0.03092784 -0.11589537  0.16294363 -0.09387315]"
       ]
      },
      {
       "output_type": "stream",
       "stream": "stdout",
       "text": [
        "\n"
       ]
      },
      {
       "javascript": [
        "$('div#09e687dd-3a60-466f-9995-e1df5203ef35').width('57.45%')"
       ],
       "metadata": {},
       "output_type": "display_data",
       "text": [
        "<IPython.core.display.Javascript at 0x7f73340460d0>"
       ]
      },
      {
       "output_type": "stream",
       "stream": "stdout",
       "text": [
        "[-0.00404858 -0.01606426 -0.02587549 -0.03784861  0.10556622 -0.08626995]\n",
        "[-0.00199203 -0.01419878 -0.01300813  0.05804481  0.13490364 -0.09329417]"
       ]
      },
      {
       "output_type": "stream",
       "stream": "stdout",
       "text": [
        "\n",
        "[ 0.         -0.00398406  0.02912317  0.13850688  0.24758221  0.18796583]"
       ]
      },
      {
       "output_type": "stream",
       "stream": "stdout",
       "text": [
        "\n",
        "[ 0.         -0.02268041 -0.03704062 -0.15483235  0.04696673 -0.23308515]"
       ]
      },
      {
       "output_type": "stream",
       "stream": "stdout",
       "text": [
        "\n",
        "[-0.00198413 -0.01593625 -0.0304829  -0.04509804  0.11836735 -0.09295809]"
       ]
      },
      {
       "output_type": "stream",
       "stream": "stdout",
       "text": [
        "\n",
        "[ 0.         -0.03285421 -0.1377551  -0.21709234  0.06078431 -0.2245886 ]"
       ]
      },
      {
       "output_type": "stream",
       "stream": "stdout",
       "text": [
        "\n",
        "[-0.00591716 -0.00397614  0.03214286  0.17117988  0.21062992  0.08947618]"
       ]
      },
      {
       "output_type": "stream",
       "stream": "stdout",
       "text": [
        "\n",
        "[ 0.         -0.01590457 -0.06683168 -0.14959016  0.0625     -0.38405783]"
       ]
      },
      {
       "output_type": "stream",
       "stream": "stdout",
       "text": [
        "\n",
        "[-0.00192308 -0.00798403  0.01498054  0.09663866  0.19105691  0.04712399]"
       ]
      },
      {
       "output_type": "stream",
       "stream": "stdout",
       "text": [
        "\n",
        "[-0.01730769 -0.04952381 -0.13631179 -0.19477912  0.04715128 -0.29061416]"
       ]
      },
      {
       "output_type": "stream",
       "stream": "stdout",
       "text": [
        "\n",
        "[-0.00191205 -0.01002004  0.02900763  0.08007812  0.16260163 -0.00323145]"
       ]
      },
      {
       "output_type": "stream",
       "stream": "stdout",
       "text": [
        "\n",
        "[ 0.         -0.00595238  0.03203593  0.16108007  0.27607362  0.13086465]"
       ]
      },
      {
       "output_type": "stream",
       "stream": "stdout",
       "text": [
        "\n",
        "[-0.00201613 -0.01048218 -0.02142857 -0.06550218  0.09631148 -0.13982745]"
       ]
      },
      {
       "output_type": "stream",
       "stream": "stdout",
       "text": [
        "\n",
        "[-0.00394477 -0.0203252  -0.04638554 -0.08490566  0.09437751 -0.23478491]"
       ]
      },
      {
       "output_type": "stream",
       "stream": "stdout",
       "text": [
        "\n",
        "[-0.00571429 -0.00392157 -0.02378641  0.07782101  0.14442413 -0.01657876]"
       ]
      },
      {
       "output_type": "stream",
       "stream": "stdout",
       "text": [
        "\n",
        "[ 0.         -0.03092784 -0.06180124 -0.14566929  0.06504065 -0.18168283]"
       ]
      },
      {
       "output_type": "stream",
       "stream": "stdout",
       "text": [
        "\n",
        "[-0.00394477 -0.00581395 -0.01543967  0.05555556  0.14143426 -0.0466175 ]"
       ]
      },
      {
       "output_type": "stream",
       "stream": "stdout",
       "text": [
        "\n",
        "[ 0.         -0.00833333  0.01346154  0.07692308  0.18897638  0.01578852]"
       ]
      },
      {
       "output_type": "stream",
       "stream": "stdout",
       "text": [
        "\n",
        "[ 0.         -0.00598802 -0.0161157  -0.01829268  0.13664596 -0.10324584]"
       ]
      },
      {
       "output_type": "stream",
       "stream": "stdout",
       "text": [
        "\n",
        "[-0.00404858 -0.02244898 -0.0254717  -0.02702703  0.13480885 -0.05132157]"
       ]
      },
      {
       "output_type": "stream",
       "stream": "stdout",
       "text": [
        "\n",
        "[-0.00425532 -0.01612903 -0.01666667 -0.0311284   0.13904762 -0.02388243]"
       ]
      },
      {
       "output_type": "stream",
       "stream": "stdout",
       "text": [
        "\n",
        "[-0.00407332 -0.01612903 -0.02453416 -0.07956778  0.07894737 -0.10134879]"
       ]
      },
      {
       "output_type": "stream",
       "stream": "stdout",
       "text": [
        "\n",
        "[-0.00210526 -0.01174168 -0.01772908  0.03710938  0.13849287 -0.01314719]"
       ]
      },
      {
       "output_type": "stream",
       "stream": "stdout",
       "text": [
        "\n",
        "[-0.00208333 -0.02901354 -0.03860759 -0.12669246  0.09727626 -0.07568715]"
       ]
      },
      {
       "output_type": "stream",
       "stream": "stdout",
       "text": [
        "\n",
        "[-0.00193798 -0.0038835  -0.01349206 -0.00816327  0.10931174 -0.03296037]"
       ]
      },
      {
       "output_type": "stream",
       "stream": "stdout",
       "text": [
        "\n",
        "[-0.00205761 -0.00583658  0.01363636  0.0841785   0.18375242  0.01818302]"
       ]
      },
      {
       "output_type": "stream",
       "stream": "stdout",
       "text": [
        "\n",
        "[-0.0037594  -0.01367188 -0.0155106  -0.05058366  0.10412574 -0.07209561]"
       ]
      },
      {
       "output_type": "stream",
       "stream": "stdout",
       "text": [
        "\n",
        "[ 0.         -0.01330377  0.00736434  0.01632653  0.13888889 -0.06689566]"
       ]
      },
      {
       "output_type": "stream",
       "stream": "stdout",
       "text": [
        "\n",
        "[-0.00199203 -0.02366864 -0.0285124   0.0105042   0.13814433 -0.0617872 ]"
       ]
      },
      {
       "output_type": "stream",
       "stream": "stdout",
       "text": [
        "\n",
        "[ 0.         -0.01190476 -0.012      -0.03996101  0.12068966 -0.0602989 ]"
       ]
      },
      {
       "output_type": "stream",
       "stream": "stdout",
       "text": [
        "\n",
        "[ 0.         -0.02185792 -0.00148515 -0.0204918   0.12224449 -0.07452538]"
       ]
      },
      {
       "output_type": "stream",
       "stream": "stdout",
       "text": [
        "\n",
        "[-0.00194175 -0.01160542  0.00626243  0.02287582  0.12262156 -0.02062582]"
       ]
      },
      {
       "output_type": "stream",
       "stream": "stdout",
       "text": [
        "\n",
        "[-0.00380228 -0.01364522 -0.01832298  0.02873563  0.12627291 -0.03520901]"
       ]
      },
      {
       "output_type": "stream",
       "stream": "stdout",
       "text": [
        "\n",
        "[ 0.         -0.01467505 -0.0198152  -0.04743083  0.11498973 -0.06204218]"
       ]
      },
      {
       "output_type": "stream",
       "stream": "stdout",
       "text": [
        "\n",
        "[ 0.         -0.00795229 -0.00765408  0.0146771   0.16122449 -0.02130431]"
       ]
      },
      {
       "output_type": "stream",
       "stream": "stdout",
       "text": [
        "\n",
        "[-0.00571429 -0.00754717 -0.02514451 -0.03543307  0.0877551  -0.06025619]"
       ]
      },
      {
       "output_type": "stream",
       "stream": "stdout",
       "text": [
        "\n",
        "[ 0.         -0.00609756 -0.00714286  0.02202643  0.12185687 -0.02691411]"
       ]
      },
      {
       "output_type": "stream",
       "stream": "stdout",
       "text": [
        "\n",
        "[ 0.         -0.00407332 -0.0208502   0.06415479  0.11320755 -0.01832985]"
       ]
      },
      {
       "output_type": "stream",
       "stream": "stdout",
       "text": [
        "\n",
        "[ 0.         -0.02008032 -0.02173913 -0.0010142   0.13559322 -0.0470418 ]"
       ]
      },
      {
       "output_type": "stream",
       "stream": "stdout",
       "text": [
        "\n",
        "[ 0.         -0.00197239 -0.00567452  0.00676983  0.15090543 -0.03027905]"
       ]
      },
      {
       "output_type": "stream",
       "stream": "stdout",
       "text": [
        "\n",
        "[-0.00623701 -0.0060241  -0.01114398 -0.04817987  0.11890838 -0.05706315]"
       ]
      },
      {
       "output_type": "stream",
       "stream": "stdout",
       "text": [
        "\n",
        "[-0.00197628 -0.00375235 -0.0024109  -0.00891089  0.13737374 -0.04129935]"
       ]
      },
      {
       "output_type": "stream",
       "stream": "stdout",
       "text": [
        "\n",
        "[ 0.         -0.01195219  0.00303327  0.01851852  0.14370079 -0.03211734]"
       ]
      },
      {
       "output_type": "stream",
       "stream": "stdout",
       "text": [
        "\n",
        "[ 0.         -0.00760456  0.0101518   0.01710262  0.12007874 -0.04595938]"
       ]
      },
      {
       "output_type": "stream",
       "stream": "stdout",
       "text": [
        "\n",
        "[-0.00200401 -0.00826446 -0.00447471  0.03265306  0.14913958 -0.04177584]"
       ]
      },
      {
       "output_type": "stream",
       "stream": "stdout",
       "text": [
        "\n",
        "Optimization terminated successfully.\n",
        "         Current function value: 0.013303\n",
        "         Iterations: 19\n",
        "         Function evaluations: 45\n",
        "[-0.00197628 -0.01851852 -0.01102362 -0.06122449  0.13894737 -0.04885566]"
       ]
      },
      {
       "output_type": "stream",
       "stream": "stdout",
       "text": [
        "\n"
       ]
      },
      {
       "javascript": [
        "$('div#09e687dd-3a60-466f-9995-e1df5203ef35').width('59.57%')"
       ],
       "metadata": {},
       "output_type": "display_data",
       "text": [
        "<IPython.core.display.Javascript at 0x7f7334092250>"
       ]
      },
      {
       "output_type": "stream",
       "stream": "stdout",
       "text": [
        "[-0.00609756 -0.01785714 -0.07692308 -0.13518519 -0.03954635 -0.15569643]\n",
        "[-0.0018797  -0.01646091 -0.04990403 -0.06918489 -0.00551331 -0.14335684]"
       ]
      },
      {
       "output_type": "stream",
       "stream": "stdout",
       "text": [
        "\n",
        "[ 0.         -0.00803213 -0.02680412  0.08311195  0.08921569  0.11698381]"
       ]
      },
      {
       "output_type": "stream",
       "stream": "stdout",
       "text": [
        "\n",
        "[-0.00604839 -0.01782178 -0.12650602 -0.27674858 -0.11146045 -0.28717697]"
       ]
      },
      {
       "output_type": "stream",
       "stream": "stdout",
       "text": [
        "\n",
        "[-0.00806452 -0.01652893 -0.08906883 -0.14175153 -0.04959839 -0.13414682]"
       ]
      },
      {
       "output_type": "stream",
       "stream": "stdout",
       "text": [
        "\n",
        "[-0.00998004 -0.04678363 -0.15969582 -0.28473896 -0.10705521 -0.27540109]"
       ]
      },
      {
       "output_type": "stream",
       "stream": "stdout",
       "text": [
        "\n",
        "[ 0.         -0.004158   -0.02376238  0.11341463  0.09606299  0.03937456]"
       ]
      },
      {
       "output_type": "stream",
       "stream": "stdout",
       "text": [
        "\n",
        "[ 0.          0.         -0.01188119  0.21075697  0.17938856  0.13346505]"
       ]
      },
      {
       "output_type": "stream",
       "stream": "stdout",
       "text": [
        "\n",
        "[-0.00197239 -0.00608519 -0.01646091  0.14124514  0.20523614  0.13521939]"
       ]
      },
      {
       "output_type": "stream",
       "stream": "stdout",
       "text": [
        "\n",
        "[ 0.         -0.00408163 -0.01020408  0.06163793  0.09236641  0.05479451]"
       ]
      },
      {
       "output_type": "stream",
       "stream": "stdout",
       "text": [
        "\n",
        "[-0.00200803 -0.00213675 -0.01750973  0.13921569  0.10298805  0.09270849]"
       ]
      },
      {
       "output_type": "stream",
       "stream": "stdout",
       "text": [
        "\n",
        "[ 0.         -0.00182815 -0.0141129   0.19837067  0.20551331  0.18297708]"
       ]
      },
      {
       "output_type": "stream",
       "stream": "stdout",
       "text": [
        "\n",
        "[ 0.         -0.01375246 -0.06130268 -0.01821946  0.0111002  -0.065009  ]"
       ]
      },
      {
       "output_type": "stream",
       "stream": "stdout",
       "text": [
        "\n",
        "[ 0.         -0.01792829 -0.03057554 -0.09263158 -0.04341085 -0.10454077]"
       ]
      },
      {
       "output_type": "stream",
       "stream": "stdout",
       "text": [
        "\n",
        "[ 0.         -0.00833333 -0.04040404 -0.09609375 -0.03304094 -0.24034431]"
       ]
      },
      {
       "output_type": "stream",
       "stream": "stdout",
       "text": [
        "\n",
        "[ 0.         -0.00796813 -0.04233871 -0.0248497   0.03461538  0.04050409]"
       ]
      },
      {
       "output_type": "stream",
       "stream": "stdout",
       "text": [
        "\n",
        "[ 0.         -0.00207469 -0.04069767  0.11607516  0.11530612  0.11108611]"
       ]
      },
      {
       "output_type": "stream",
       "stream": "stdout",
       "text": [
        "\n",
        "[ 0.         -0.00398406 -0.04101562  0.00323887  0.01155419 -0.09127633]"
       ]
      },
      {
       "output_type": "stream",
       "stream": "stdout",
       "text": [
        "\n",
        "[-0.00407332 -0.016      -0.09145129 -0.13024194 -0.02291667 -0.07911815]"
       ]
      },
      {
       "output_type": "stream",
       "stream": "stdout",
       "text": [
        "\n",
        "[-0.00407332 -0.0019685  -0.02754237  0.04636542  0.02623762  0.0032775 ]"
       ]
      },
      {
       "output_type": "stream",
       "stream": "stdout",
       "text": [
        "\n",
        "[ 0.          0.         -0.02674897  0.08267223  0.11326531  0.09245542]"
       ]
      },
      {
       "output_type": "stream",
       "stream": "stdout",
       "text": [
        "\n",
        "[ 0.         -0.0102459  -0.04863813 -0.05188285 -0.00828343 -0.06102219]"
       ]
      },
      {
       "output_type": "stream",
       "stream": "stdout",
       "text": [
        "\n",
        "[-0.00402414 -0.0094697  -0.062      -0.09444444 -0.00683761 -0.09907794]"
       ]
      },
      {
       "output_type": "stream",
       "stream": "stdout",
       "text": [
        "\n",
        "[-0.00196464  0.         -0.03036437  0.02985685  0.03448637  0.01008076]"
       ]
      },
      {
       "output_type": "stream",
       "stream": "stdout",
       "text": [
        "\n",
        "[-0.00420168 -0.00392157 -0.02186879  0.05714286  0.05661157  0.02726273]"
       ]
      },
      {
       "output_type": "stream",
       "stream": "stdout",
       "text": [
        "\n",
        "[ 0.         -0.00607287 -0.01754386  0.08635438  0.07440945  0.07368259]"
       ]
      },
      {
       "output_type": "stream",
       "stream": "stdout",
       "text": [
        "\n",
        "[-0.00201207 -0.0020202  -0.03382664  0.01386139  0.00909091 -0.0163423 ]"
       ]
      },
      {
       "output_type": "stream",
       "stream": "stdout",
       "text": [
        "\n",
        "[ 0.         -0.00988142 -0.01652893  0.08333333  0.08921569  0.06873872]"
       ]
      },
      {
       "output_type": "stream",
       "stream": "stdout",
       "text": [
        "\n",
        "[-0.00201207 -0.00397614 -0.03036053 -0.00772532  0.05158103 -0.01921043]"
       ]
      },
      {
       "output_type": "stream",
       "stream": "stdout",
       "text": [
        "\n",
        "[ 0.         -0.0059761  -0.02666667  0.02874251  0.04111969 -0.05082713]"
       ]
      },
      {
       "output_type": "stream",
       "stream": "stdout",
       "text": [
        "\n",
        "[ 0.         -0.014      -0.02620968  0.01377871  0.02515275 -0.02312323]"
       ]
      },
      {
       "output_type": "stream",
       "stream": "stdout",
       "text": [
        "\n",
        "[ 0.         -0.00209205 -0.03238095 -0.01273101  0.03832392 -0.06695666]"
       ]
      },
      {
       "output_type": "stream",
       "stream": "stdout",
       "text": [
        "\n",
        "[-0.00204499 -0.00199601 -0.02371542  0.0073501   0.06442886  0.02227579]"
       ]
      },
      {
       "output_type": "stream",
       "stream": "stdout",
       "text": [
        "\n",
        "[ 0.         -0.00589391 -0.03149606 -0.00319361  0.06032505 -0.02891001]"
       ]
      },
      {
       "output_type": "stream",
       "stream": "stdout",
       "text": [
        "\n",
        "[ 0.         -0.00773694 -0.03333333 -0.01717791  0.07200772  0.01154   ]"
       ]
      },
      {
       "output_type": "stream",
       "stream": "stdout",
       "text": [
        "\n",
        "[ 0.         -0.01004016 -0.03333333 -0.02213115  0.04920319 -0.03715995]"
       ]
      },
      {
       "output_type": "stream",
       "stream": "stdout",
       "text": [
        "\n",
        "[-0.00191571 -0.00601202 -0.02904564  0.01414141  0.02647059  0.00814333]"
       ]
      },
      {
       "output_type": "stream",
       "stream": "stdout",
       "text": [
        "\n",
        "[ 0.         -0.00608519 -0.02095238  0.00885609  0.02857143 -0.01369989]"
       ]
      },
      {
       "output_type": "stream",
       "stream": "stdout",
       "text": [
        "\n",
        "[ 0.         -0.00787402 -0.03211991 -0.00674603  0.05776699 -0.01450308]"
       ]
      },
      {
       "output_type": "stream",
       "stream": "stdout",
       "text": [
        "\n",
        "[-0.0020284  -0.00380952 -0.02414487  0.00990099  0.0346473   0.0114786 ]"
       ]
      },
      {
       "output_type": "stream",
       "stream": "stdout",
       "text": [
        "\n",
        "[ 0.         -0.00414938 -0.03346457  0.00314342  0.01071429 -0.00226324]"
       ]
      },
      {
       "output_type": "stream",
       "stream": "stdout",
       "text": [
        "\n",
        "[ 0.         -0.00374532 -0.027833    0.00365854  0.03619247  0.01467963]"
       ]
      },
      {
       "output_type": "stream",
       "stream": "stdout",
       "text": [
        "\n",
        "Optimization terminated successfully.\n",
        "         Current function value: 0.001267\n",
        "         Iterations: 18\n",
        "         Function evaluations: 42\n",
        "[-0.00200803 -0.00211416 -0.04474708  0.05690377  0.09550898 -0.00874477]"
       ]
      },
      {
       "output_type": "stream",
       "stream": "stdout",
       "text": [
        "\n"
       ]
      },
      {
       "javascript": [
        "$('div#09e687dd-3a60-466f-9995-e1df5203ef35').width('61.70%')"
       ],
       "metadata": {},
       "output_type": "display_data",
       "text": [
        "<IPython.core.display.Javascript at 0x7f7333fc4450>"
       ]
      },
      {
       "output_type": "stream",
       "stream": "stdout",
       "text": [
        "[-0.00408163 -0.018      -0.07116105 -0.33301887  0.06089866 -0.21698464]\n",
        "[ 0.         -0.00592885 -0.04826255 -0.17885375  0.08374486 -0.21042121]"
       ]
      },
      {
       "output_type": "stream",
       "stream": "stdout",
       "text": [
        "\n",
        "[ 0.         -0.00596421 -0.02204409 -0.08472803  0.18789474  0.06896308]"
       ]
      },
      {
       "output_type": "stream",
       "stream": "stdout",
       "text": [
        "\n",
        "[-0.00376648 -0.02631579 -0.11133603 -0.41666667 -0.00306122 -0.34415604]"
       ]
      },
      {
       "output_type": "stream",
       "stream": "stdout",
       "text": [
        "\n",
        "[-0.00199601 -0.01308411 -0.07677543 -0.35455487  0.05567515 -0.20834812]"
       ]
      },
      {
       "output_type": "stream",
       "stream": "stdout",
       "text": [
        "\n",
        "[-0.00390625 -0.03409091 -0.17475728 -0.44772257  0.01085193 -0.30625343]"
       ]
      },
      {
       "output_type": "stream",
       "stream": "stdout",
       "text": [
        "\n",
        "[ 0.          0.         -0.02559055 -0.08        0.17417154 -0.02741785]"
       ]
      },
      {
       "output_type": "stream",
       "stream": "stdout",
       "text": [
        "\n",
        "[ 0.          0.         -0.00819672  0.06747573  0.30856574  0.07925278]"
       ]
      },
      {
       "output_type": "stream",
       "stream": "stdout",
       "text": [
        "\n",
        "[ 0.         -0.00195312 -0.01606426  0.02777778  0.29047109  0.0982161 ]"
       ]
      },
      {
       "output_type": "stream",
       "stream": "stdout",
       "text": [
        "\n",
        "[ 0.          0.         -0.00619835  0.01150628  0.29034417  0.08302532]"
       ]
      },
      {
       "output_type": "stream",
       "stream": "stdout",
       "text": [
        "\n",
        "[ 0.          0.         -0.00403226  0.08877551  0.37741935  0.17217165]"
       ]
      },
      {
       "output_type": "stream",
       "stream": "stdout",
       "text": [
        "\n",
        "[-0.00204918 -0.00785855 -0.04509804 -0.17430704  0.13712274 -0.10489798]"
       ]
      },
      {
       "output_type": "stream",
       "stream": "stdout",
       "text": [
        "\n",
        "[-0.00198807 -0.00816327 -0.05487805 -0.25389105  0.07218045 -0.16082619]"
       ]
      },
      {
       "output_type": "stream",
       "stream": "stdout",
       "text": [
        "\n",
        "[ 0.         -0.00201207 -0.01871102 -0.0627572   0.24379562  0.00651013]"
       ]
      },
      {
       "output_type": "stream",
       "stream": "stdout",
       "text": [
        "\n",
        "[-0.00200401 -0.02020202 -0.06751055 -0.30172414  0.08152401 -0.19676353]"
       ]
      },
      {
       "output_type": "stream",
       "stream": "stdout",
       "text": [
        "\n",
        "[ 0.         -0.00203252 -0.01043841 -0.04651163  0.17862823  0.0191545 ]"
       ]
      },
      {
       "output_type": "stream",
       "stream": "stdout",
       "text": [
        "\n",
        "[ 0.          0.         -0.00619835 -0.00485961  0.32704918  0.16432452]"
       ]
      },
      {
       "output_type": "stream",
       "stream": "stdout",
       "text": [
        "\n",
        "[-0.00194553 -0.00817996 -0.02008032 -0.16130604  0.15980392 -0.10334622]"
       ]
      },
      {
       "output_type": "stream",
       "stream": "stdout",
       "text": [
        "\n",
        "[ 0.         -0.0039604  -0.03585657 -0.186       0.11829746 -0.07788155]"
       ]
      },
      {
       "output_type": "stream",
       "stream": "stdout",
       "text": [
        "\n",
        "[-0.0019802  -0.00428266 -0.01792829 -0.12109375  0.17222222  0.05179751]"
       ]
      },
      {
       "output_type": "stream",
       "stream": "stdout",
       "text": [
        "\n",
        "[ 0.          0.         -0.00990099 -0.01447876  0.23656126  0.09749479]"
       ]
      },
      {
       "output_type": "stream",
       "stream": "stdout",
       "text": [
        "\n",
        "[-0.00197628 -0.01002004 -0.02868852 -0.152       0.16223709 -0.05014112]"
       ]
      },
      {
       "output_type": "stream",
       "stream": "stdout",
       "text": [
        "\n",
        "[ 0.         -0.00195312 -0.01419878  0.00334608  0.2506012   0.10968562]"
       ]
      },
      {
       "output_type": "stream",
       "stream": "stdout",
       "text": [
        "\n",
        "[ 0.         -0.00753296 -0.03099174 -0.1347619   0.12741935 -0.0142142 ]"
       ]
      },
      {
       "output_type": "stream",
       "stream": "stdout",
       "text": [
        "\n",
        "[ 0.         -0.00211864 -0.00607287 -0.05492424  0.21141079  0.05841754]"
       ]
      },
      {
       "output_type": "stream",
       "stream": "stdout",
       "text": [
        "\n",
        "[ 0.          0.         -0.01340996 -0.06288344  0.18836127  0.02796332]"
       ]
      },
      {
       "output_type": "stream",
       "stream": "stdout",
       "text": [
        "\n",
        "[ 0.         -0.0019084  -0.01593625 -0.06300813  0.18425197 -0.04304038]"
       ]
      },
      {
       "output_type": "stream",
       "stream": "stdout",
       "text": [
        "\n",
        "[ 0.         -0.00564972 -0.01375246 -0.07022472  0.1507874  -0.07672798]"
       ]
      },
      {
       "output_type": "stream",
       "stream": "stdout",
       "text": [
        "\n",
        "[ 0.          0.         -0.02028398 -0.11161616  0.16703854 -0.11770636]"
       ]
      },
      {
       "output_type": "stream",
       "stream": "stdout",
       "text": [
        "\n",
        "[ 0.         -0.00189036 -0.02204409 -0.1062753   0.15362903 -0.10369924]"
       ]
      },
      {
       "output_type": "stream",
       "stream": "stdout",
       "text": [
        "\n",
        "[ 0.         -0.00798403 -0.0210084  -0.06692913  0.19900398  0.00647712]"
       ]
      },
      {
       "output_type": "stream",
       "stream": "stdout",
       "text": [
        "\n",
        "[ 0.         -0.00409836 -0.0141129  -0.08126294  0.23370221  0.00164995]"
       ]
      },
      {
       "output_type": "stream",
       "stream": "stdout",
       "text": [
        "\n",
        "[-0.00184502 -0.00207469 -0.03018109 -0.10306122  0.16984436 -0.06066003]"
       ]
      },
      {
       "output_type": "stream",
       "stream": "stdout",
       "text": [
        "\n",
        "[-0.00205339  0.         -0.02204409 -0.10564854  0.17309198 -0.04422592]"
       ]
      },
      {
       "output_type": "stream",
       "stream": "stdout",
       "text": [
        "\n",
        "[ 0.         -0.00630252 -0.01890359 -0.07271762  0.16782178 -0.06229421]"
       ]
      },
      {
       "output_type": "stream",
       "stream": "stdout",
       "text": [
        "\n",
        "[ 0.         -0.0019802  -0.01353965 -0.06827515  0.17178988 -0.00106781]"
       ]
      },
      {
       "output_type": "stream",
       "stream": "stdout",
       "text": [
        "\n",
        "[ 0.         -0.00196078 -0.0304878  -0.10166994  0.16359223 -0.06654204]"
       ]
      },
      {
       "output_type": "stream",
       "stream": "stdout",
       "text": [
        "\n",
        "[ 0.         -0.00203252 -0.01160542 -0.06325301  0.17727273 -0.06066852]"
       ]
      },
      {
       "output_type": "stream",
       "stream": "stdout",
       "text": [
        "\n",
        "[ 0.          0.         -0.00587084 -0.02066116  0.18293173 -0.05065379]"
       ]
      },
      {
       "output_type": "stream",
       "stream": "stdout",
       "text": [
        "\n",
        "[ 0.          0.         -0.004      -0.01305221  0.21367188 -0.0271927 ]"
       ]
      },
      {
       "output_type": "stream",
       "stream": "stdout",
       "text": [
        "\n",
        "[ 0.          0.         -0.00992063 -0.03875969  0.18917526 -0.04774049]"
       ]
      },
      {
       "output_type": "stream",
       "stream": "stdout",
       "text": [
        "\n",
        "[ 0.         -0.00193798 -0.01171875 -0.05783582  0.22308448 -0.03140001]"
       ]
      },
      {
       "output_type": "stream",
       "stream": "stdout",
       "text": [
        "\n",
        "[ 0.         -0.0021097  -0.00616016 -0.04614604  0.16085595 -0.04410352]"
       ]
      },
      {
       "output_type": "stream",
       "stream": "stdout",
       "text": [
        "\n",
        "[-0.00203252 -0.00421053 -0.01369863 -0.08398438  0.17093023 -0.04828047]"
       ]
      },
      {
       "output_type": "stream",
       "stream": "stdout",
       "text": [
        "\n",
        "[-0.00205761 -0.00595238 -0.03006012 -0.10051546  0.13871595 -0.05633691]"
       ]
      },
      {
       "output_type": "stream",
       "stream": "stdout",
       "text": [
        "\n",
        "[ 0.          0.         -0.01740812 -0.04124236  0.16314741 -0.03232147]"
       ]
      },
      {
       "output_type": "stream",
       "stream": "stdout",
       "text": [
        "\n",
        "[-0.002       0.         -0.01550388 -0.1003055   0.15472441 -0.03688549]"
       ]
      },
      {
       "output_type": "stream",
       "stream": "stdout",
       "text": [
        "\n",
        "[ 0.         -0.00389864 -0.03525046 -0.07833021  0.16146245 -0.03036313]"
       ]
      },
      {
       "output_type": "stream",
       "stream": "stdout",
       "text": [
        "\n",
        "[ 0.         -0.00591716 -0.0203666  -0.06097561  0.11142558 -0.01790125]"
       ]
      },
      {
       "output_type": "stream",
       "stream": "stdout",
       "text": [
        "\n",
        "[ 0.         -0.00208768 -0.00803213 -0.06451613  0.16756487 -0.08131157]"
       ]
      },
      {
       "output_type": "stream",
       "stream": "stdout",
       "text": [
        "\n",
        "[ 0.         -0.00192678 -0.01656315 -0.07755299  0.14919517 -0.0278604 ]"
       ]
      },
      {
       "output_type": "stream",
       "stream": "stdout",
       "text": [
        "\n",
        "[ 0.         -0.00199203 -0.01419878 -0.04979879  0.1744489  -0.01146283]"
       ]
      },
      {
       "output_type": "stream",
       "stream": "stdout",
       "text": [
        "\n",
        "[ 0.         -0.00205761 -0.03885481 -0.09412955  0.17370937 -0.01422612]"
       ]
      },
      {
       "output_type": "stream",
       "stream": "stdout",
       "text": [
        "\n",
        "[-0.00195312 -0.0019685  -0.02718447 -0.06762295  0.18966942 -0.04818049]"
       ]
      },
      {
       "output_type": "stream",
       "stream": "stdout",
       "text": [
        "\n",
        "[ 0.         -0.00404858 -0.02514507 -0.08904762  0.18699422 -0.03345693]"
       ]
      },
      {
       "output_type": "stream",
       "stream": "stdout",
       "text": [
        "\n",
        "[ 0.          0.         -0.016      -0.10040984  0.16292776 -0.02447923]"
       ]
      },
      {
       "output_type": "stream",
       "stream": "stdout",
       "text": [
        "\n",
        "[ 0.          0.         -0.02191235 -0.08070866  0.18305085 -0.03895432]"
       ]
      },
      {
       "output_type": "stream",
       "stream": "stdout",
       "text": [
        "\n",
        "[-0.0019685  -0.00209644 -0.02281369 -0.04672447  0.15599251 -0.00947498]"
       ]
      },
      {
       "output_type": "stream",
       "stream": "stdout",
       "text": [
        "\n",
        "[ 0.         -0.00197628 -0.026      -0.07394366  0.20048924 -0.03333922]"
       ]
      },
      {
       "output_type": "stream",
       "stream": "stdout",
       "text": [
        "\n",
        "Optimization terminated successfully.\n",
        "         Current function value: 0.016904\n",
        "         Iterations: 27\n",
        "         Function evaluations: 59\n",
        "[ 0.         -0.0019802  -0.01234568 -0.06967213  0.17540984 -0.03683668]"
       ]
      },
      {
       "output_type": "stream",
       "stream": "stdout",
       "text": [
        "\n"
       ]
      },
      {
       "javascript": [
        "$('div#09e687dd-3a60-466f-9995-e1df5203ef35').width('63.83%')"
       ],
       "metadata": {},
       "output_type": "display_data",
       "text": [
        "<IPython.core.display.Javascript at 0x7f73341b7110>"
       ]
      },
      {
       "output_type": "stream",
       "stream": "stdout",
       "text": [
        "[ 0.          0.03594378  0.12210526  0.03548387  0.00344828 -0.00303185]\n",
        "[ 0.          0.03989899  0.14704684  0.10619835  0.04837398 -0.00230852]"
       ]
      },
      {
       "output_type": "stream",
       "stream": "stdout",
       "text": [
        "\n",
        "[ 0.          0.04411765  0.15481336  0.28339768  0.17888446  0.25591012]"
       ]
      },
      {
       "output_type": "stream",
       "stream": "stdout",
       "text": [
        "\n",
        "[-0.003861    0.01734694  0.07619048 -0.04803313 -0.04548872 -0.14939818]"
       ]
      },
      {
       "output_type": "stream",
       "stream": "stdout",
       "text": [
        "\n",
        "[ 0.          0.02302505  0.11581109  0.05228216  0.01494253  0.00074363]"
       ]
      },
      {
       "output_type": "stream",
       "stream": "stdout",
       "text": [
        "\n",
        "[-0.00410678  0.01780684  0.01128405 -0.07490494 -0.03638171 -0.12244021]"
       ]
      },
      {
       "output_type": "stream",
       "stream": "stdout",
       "text": [
        "\n",
        "[-0.01431493 -0.01769826 -0.07480916 -0.20360721 -0.06917148 -0.42601212]"
       ]
      },
      {
       "output_type": "stream",
       "stream": "stdout",
       "text": [
        "\n",
        "[-0.00381679  0.03985801  0.14412331  0.12371542  0.05768463  0.13089393]"
       ]
      },
      {
       "output_type": "stream",
       "stream": "stdout",
       "text": [
        "\n",
        "[-0.0020284   0.00943205  0.04418146 -0.1122449  -0.05471698 -0.24347309]"
       ]
      },
      {
       "output_type": "stream",
       "stream": "stdout",
       "text": [
        "\n",
        "[-0.00408998  0.03780488  0.1470339   0.04083969  0.01181435  0.03837563]"
       ]
      },
      {
       "output_type": "stream",
       "stream": "stdout",
       "text": [
        "\n",
        "[-0.00604839  0.00098039  0.05110664 -0.06056911 -0.03621399 -0.08157655]"
       ]
      },
      {
       "output_type": "stream",
       "stream": "stdout",
       "text": [
        "\n",
        "[-0.01388889 -0.03860759 -0.06730769 -0.1814433  -0.07410359 -0.15052054]"
       ]
      },
      {
       "output_type": "stream",
       "stream": "stdout",
       "text": [
        "\n",
        "[-0.00199601  0.02425743  0.1039666   0.03061224  0.00714286  0.06832678]"
       ]
      },
      {
       "output_type": "stream",
       "stream": "stdout",
       "text": [
        "\n",
        "[-0.00609756 -0.002       0.04812623 -0.08190855 -0.04211577 -0.0787641 ]"
       ]
      },
      {
       "output_type": "stream",
       "stream": "stdout",
       "text": [
        "\n",
        "[-0.00194553  0.03795181  0.14178794  0.08571429  0.04112903  0.08767205]"
       ]
      },
      {
       "output_type": "stream",
       "stream": "stdout",
       "text": [
        "\n",
        "[-0.00614754  0.01480331  0.05744235 -0.05       -0.02337917 -0.06532154]"
       ]
      },
      {
       "output_type": "stream",
       "stream": "stdout",
       "text": [
        "\n",
        "[-0.01383399  0.01161228  0.01584158 -0.06182573 -0.03714286 -0.09215823]"
       ]
      },
      {
       "output_type": "stream",
       "stream": "stdout",
       "text": [
        "\n",
        "[-0.01212121 -0.01072874 -0.0055336  -0.1740668  -0.05643564 -0.22841904]"
       ]
      },
      {
       "output_type": "stream",
       "stream": "stdout",
       "text": [
        "\n",
        "[-0.00214133  0.0195122   0.08996139  0.0015444   0.00980392 -0.02434727]"
       ]
      },
      {
       "output_type": "stream",
       "stream": "stdout",
       "text": [
        "\n",
        "[-0.00199601  0.02718631  0.0762475   0.00540541 -0.02007797  0.00281904]"
       ]
      },
      {
       "output_type": "stream",
       "stream": "stdout",
       "text": [
        "\n",
        "[-0.00209644  0.03121086  0.11816367  0.03965517  0.01439842  0.04608498]"
       ]
      },
      {
       "output_type": "stream",
       "stream": "stdout",
       "text": [
        "\n",
        "[-0.01734104 -0.03097166 -0.02083333 -0.15       -0.05407098 -0.12069529]"
       ]
      },
      {
       "output_type": "stream",
       "stream": "stdout",
       "text": [
        "\n",
        "[-0.00845666  0.01856582  0.10944123  0.01873805 -0.00593047 -0.0094353 ]"
       ]
      },
      {
       "output_type": "stream",
       "stream": "stdout",
       "text": [
        "\n",
        "[-0.00607287  0.03809524  0.11386555  0.04721689  0.00989011  0.02772729]"
       ]
      },
      {
       "output_type": "stream",
       "stream": "stdout",
       "text": [
        "\n",
        "[-0.00572519  0.01572581  0.05685072 -0.02350598 -0.02490119 -0.06572603]"
       ]
      },
      {
       "output_type": "stream",
       "stream": "stdout",
       "text": [
        "\n",
        "[-0.002       0.03795181  0.13814433  0.07401247 -0.01568627  0.00791677]"
       ]
      },
      {
       "output_type": "stream",
       "stream": "stdout",
       "text": [
        "\n",
        "[-0.01301518  0.00744681  0.03234714 -0.08067227 -0.03968872 -0.06687104]"
       ]
      },
      {
       "output_type": "stream",
       "stream": "stdout",
       "text": [
        "\n",
        "[-0.00392157  0.02750511  0.1223301   0.03873518 -0.00160643 -0.02739683]"
       ]
      },
      {
       "output_type": "stream",
       "stream": "stdout",
       "text": [
        "\n",
        "[-0.00192678  0.01442688  0.05797665 -0.04015905 -0.04216418 -0.05108623]"
       ]
      },
      {
       "output_type": "stream",
       "stream": "stdout",
       "text": [
        "\n",
        "[-0.01212121  0.01565657  0.02459677 -0.02962963 -0.022      -0.04689308]"
       ]
      },
      {
       "output_type": "stream",
       "stream": "stdout",
       "text": [
        "\n",
        "[-0.00978474 -0.00447471  0.03098592 -0.09277108 -0.0516129  -0.07590103]"
       ]
      },
      {
       "output_type": "stream",
       "stream": "stdout",
       "text": [
        "\n",
        "[ 0.          0.03728814  0.08640974 -0.00756972  0.00626186  0.00519208]"
       ]
      },
      {
       "output_type": "stream",
       "stream": "stdout",
       "text": [
        "\n",
        "[-0.00386847  0.01579477  0.096      -0.02680412  0.00721649 -0.00292174]"
       ]
      },
      {
       "output_type": "stream",
       "stream": "stdout",
       "text": [
        "\n",
        "[-0.00419287  0.0296334   0.0463035  -0.0468254  -0.03699187 -0.01498477]"
       ]
      },
      {
       "output_type": "stream",
       "stream": "stdout",
       "text": [
        "\n",
        "[-0.01687764  0.01326531  0.02608696 -0.05612648 -0.05867769 -0.07122116]"
       ]
      },
      {
       "output_type": "stream",
       "stream": "stdout",
       "text": [
        "\n",
        "[-0.01066098  0.02876858  0.08293651 -0.0194332  -0.00740741 -0.0092366 ]"
       ]
      },
      {
       "output_type": "stream",
       "stream": "stdout",
       "text": [
        "\n",
        "[-0.01012146  0.01792453  0.10196078  0.05979381 -0.00781563  0.02233231]"
       ]
      },
      {
       "output_type": "stream",
       "stream": "stdout",
       "text": [
        "\n",
        "[-0.00385356  0.01267191  0.07649402 -0.0555773  -0.03554688 -0.04939332]"
       ]
      },
      {
       "output_type": "stream",
       "stream": "stdout",
       "text": [
        "\n",
        "[ 0.          0.02053407  0.06519115 -0.04038462 -0.00733591 -0.03820549]"
       ]
      },
      {
       "output_type": "stream",
       "stream": "stdout",
       "text": [
        "\n",
        "[-0.01028807  0.0289675   0.07573964  0.00851064 -0.02089249 -0.02147526]"
       ]
      },
      {
       "output_type": "stream",
       "stream": "stdout",
       "text": [
        "\n",
        "[-0.00604839  0.01957404  0.0600823  -0.0375     -0.01750503 -0.0617245 ]"
       ]
      },
      {
       "output_type": "stream",
       "stream": "stdout",
       "text": [
        "\n",
        "[-0.01207243  0.03015873  0.07301587  0.01153082  0.00061602 -0.00962032]"
       ]
      },
      {
       "output_type": "stream",
       "stream": "stdout",
       "text": [
        "\n",
        "[-0.01402806  0.01923077  0.06523437 -0.05116279 -0.03491124 -0.06302143]"
       ]
      },
      {
       "output_type": "stream",
       "stream": "stdout",
       "text": [
        "\n",
        "[-0.00821355  0.0191358   0.06842105 -0.04566929 -0.01164659 -0.00254457]"
       ]
      },
      {
       "output_type": "stream",
       "stream": "stdout",
       "text": [
        "\n",
        "[-0.0021097   0.00256917  0.08118812 -0.04327485  0.00204082 -0.02594833]"
       ]
      },
      {
       "output_type": "stream",
       "stream": "stdout",
       "text": [
        "\n",
        "[-0.00816327  0.02830375  0.04431138 -0.05882353 -0.01245136 -0.03313595]"
       ]
      },
      {
       "output_type": "stream",
       "stream": "stdout",
       "text": [
        "\n",
        "[-0.01004016  0.01565657  0.06083499 -0.0124498  -0.02607004 -0.01935904]"
       ]
      },
      {
       "output_type": "stream",
       "stream": "stdout",
       "text": [
        "\n",
        "[-0.00380952  0.00824635  0.05968379 -0.04457831 -0.01820041 -0.00662186]"
       ]
      },
      {
       "output_type": "stream",
       "stream": "stdout",
       "text": [
        "\n",
        "Optimization terminated successfully.\n",
        "         Current function value: 0.004558\n",
        "         Iterations: 23\n",
        "         Function evaluations: 48\n",
        "[-0.00784314  0.00931478  0.03403361 -0.05834933 -0.02672414 -0.0402021 ]"
       ]
      },
      {
       "output_type": "stream",
       "stream": "stdout",
       "text": [
        "\n"
       ]
      },
      {
       "javascript": [
        "$('div#09e687dd-3a60-466f-9995-e1df5203ef35').width('65.96%')"
       ],
       "metadata": {},
       "output_type": "display_data",
       "text": [
        "<IPython.core.display.Javascript at 0x7f733421add0>"
       ]
      },
      {
       "output_type": "stream",
       "stream": "stdout",
       "text": [
        "[-0.00407332 -0.01361868 -0.07157058 -0.35426357 -0.13306452 -0.15309711]\n",
        "[-0.00414079 -0.01171875 -0.05075188 -0.31033058 -0.13475836 -0.13709907]"
       ]
      },
      {
       "output_type": "stream",
       "stream": "stdout",
       "text": [
        "\n",
        "[ 0.         -0.00417537 -0.02330097 -0.15856574 -0.00308642  0.14241018]"
       ]
      },
      {
       "output_type": "stream",
       "stream": "stdout",
       "text": [
        "\n",
        "[-0.006      -0.01335878 -0.10650888 -0.46800805 -0.18885602 -0.28747306]"
       ]
      },
      {
       "output_type": "stream",
       "stream": "stdout",
       "text": [
        "\n",
        "[ 0.         -0.0239521  -0.08092486 -0.368      -0.14922481 -0.15739417]"
       ]
      },
      {
       "output_type": "stream",
       "stream": "stdout",
       "text": [
        "\n",
        "[ 0.         -0.04612159 -0.19105691 -0.48737864 -0.1837232  -0.27603114]"
       ]
      },
      {
       "output_type": "stream",
       "stream": "stdout",
       "text": [
        "\n",
        "[ 0.         -0.00400802 -0.01941748 -0.09708738 -0.00555556  0.03763021]"
       ]
      },
      {
       "output_type": "stream",
       "stream": "stdout",
       "text": [
        "\n",
        "[ 0.          0.         -0.0078125  -0.00816327  0.09251969  0.13068545]"
       ]
      },
      {
       "output_type": "stream",
       "stream": "stdout",
       "text": [
        "\n",
        "[ 0.         -0.00209205 -0.01632653 -0.07139875  0.07860041  0.14791598]"
       ]
      },
      {
       "output_type": "stream",
       "stream": "stdout",
       "text": [
        "\n",
        "[ 0.          0.         -0.01361868 -0.04217119  0.08655706  0.13924258]"
       ]
      },
      {
       "output_type": "stream",
       "stream": "stdout",
       "text": [
        "\n",
        "[ 0.         -0.00193424 -0.00205761  0.05080645  0.17911153  0.23766715]"
       ]
      },
      {
       "output_type": "stream",
       "stream": "stdout",
       "text": [
        "\n",
        "[ 0.          0.          0.          0.09941973  0.32968127  0.34409955]"
       ]
      },
      {
       "output_type": "stream",
       "stream": "stdout",
       "text": [
        "\n",
        "[ 0.         -0.01226994 -0.01734104 -0.16382114 -0.03787879 -0.01219277]"
       ]
      },
      {
       "output_type": "stream",
       "stream": "stdout",
       "text": [
        "\n",
        "[-0.00383877 -0.01183432 -0.07039337 -0.28987854 -0.10048544 -0.08745243]"
       ]
      },
      {
       "output_type": "stream",
       "stream": "stdout",
       "text": [
        "\n",
        "[-0.00210084  0.         -0.00986193 -0.03664122  0.08131313  0.17272352]"
       ]
      },
      {
       "output_type": "stream",
       "stream": "stdout",
       "text": [
        "\n",
        "[ 0.          0.         -0.002      -0.00123203  0.08723197  0.08316183]"
       ]
      },
      {
       "output_type": "stream",
       "stream": "stdout",
       "text": [
        "\n",
        "[-0.00189036 -0.00199601 -0.01417004 -0.16639676 -0.04880478 -0.00537815]"
       ]
      },
      {
       "output_type": "stream",
       "stream": "stdout",
       "text": [
        "\n",
        "[ 0.         -0.0038835  -0.02307692 -0.12193159 -0.054      -0.06749675]"
       ]
      },
      {
       "output_type": "stream",
       "stream": "stdout",
       "text": [
        "\n",
        "[-0.00389105  0.         -0.01571709 -0.084       0.03461538  0.08508221]"
       ]
      },
      {
       "output_type": "stream",
       "stream": "stdout",
       "text": [
        "\n",
        "[ 0.         -0.00199203 -0.00984252 -0.03287671  0.09205231  0.10069145]"
       ]
      },
      {
       "output_type": "stream",
       "stream": "stdout",
       "text": [
        "\n",
        "[ 0.          0.         -0.00636943 -0.10056711 -0.03118162 -0.0504239 ]"
       ]
      },
      {
       "output_type": "stream",
       "stream": "stdout",
       "text": [
        "\n",
        "[ 0.          0.         -0.00770713 -0.00123203  0.10328185  0.13476759]"
       ]
      },
      {
       "output_type": "stream",
       "stream": "stdout",
       "text": [
        "\n",
        "[ 0.          0.         -0.00793651 -0.06095618 -0.02582846  0.0125633 ]"
       ]
      },
      {
       "output_type": "stream",
       "stream": "stdout",
       "text": [
        "\n",
        "[ 0.          0.         -0.01764706 -0.18522954 -0.07987552 -0.05568744]"
       ]
      },
      {
       "output_type": "stream",
       "stream": "stdout",
       "text": [
        "\n",
        "[ 0.          0.         -0.01185771 -0.05269978  0.05346232  0.05217788]"
       ]
      },
      {
       "output_type": "stream",
       "stream": "stdout",
       "text": [
        "\n",
        "[ 0.          0.         -0.0101626  -0.08024194 -0.01891616 -0.05909209]"
       ]
      },
      {
       "output_type": "stream",
       "stream": "stdout",
       "text": [
        "\n",
        "[ 0.         -0.00198413 -0.022      -0.20588235 -0.10020243 -0.09498489]"
       ]
      },
      {
       "output_type": "stream",
       "stream": "stdout",
       "text": [
        "\n",
        "[ 0.          0.         -0.0060241  -0.04158416  0.05174081  0.03172623]"
       ]
      },
      {
       "output_type": "stream",
       "stream": "stdout",
       "text": [
        "\n",
        "[ 0.          0.         -0.01972387 -0.09724409  0.02087576  0.07503667]"
       ]
      },
      {
       "output_type": "stream",
       "stream": "stdout",
       "text": [
        "\n",
        "[ 0.          0.         -0.00770713 -0.10095238 -0.04065421 -0.0113083 ]"
       ]
      },
      {
       "output_type": "stream",
       "stream": "stdout",
       "text": [
        "\n",
        "[ 0.          0.         -0.01836735 -0.05651303  0.02845528  0.04592133]"
       ]
      },
      {
       "output_type": "stream",
       "stream": "stdout",
       "text": [
        "\n",
        "[ 0.          0.         -0.00596421 -0.01399177  0.05737705  0.02301153]"
       ]
      },
      {
       "output_type": "stream",
       "stream": "stdout",
       "text": [
        "\n",
        "[ 0.         -0.00209644 -0.00194932  0.03697813  0.06451613  0.02326124]"
       ]
      },
      {
       "output_type": "stream",
       "stream": "stdout",
       "text": [
        "\n",
        "[ 0.          0.         -0.00603622 -0.02519084  0.04979879  0.12068157]"
       ]
      },
      {
       "output_type": "stream",
       "stream": "stdout",
       "text": [
        "\n",
        "[ 0.          0.         -0.0203666  -0.07671756 -0.006       0.00716452]"
       ]
      },
      {
       "output_type": "stream",
       "stream": "stdout",
       "text": [
        "\n",
        "[ 0.         -0.00194175 -0.01629328 -0.05559701 -0.02115385 -0.02537928]"
       ]
      },
      {
       "output_type": "stream",
       "stream": "stdout",
       "text": [
        "\n",
        "[ 0.         -0.00574713 -0.00639659 -0.0804428   0.02184466 -0.03881542]"
       ]
      },
      {
       "output_type": "stream",
       "stream": "stdout",
       "text": [
        "\n",
        "[ 0.         -0.00195312 -0.01367188 -0.04489796  0.01587302  0.03629503]"
       ]
      },
      {
       "output_type": "stream",
       "stream": "stdout",
       "text": [
        "\n",
        "[ 0.         -0.00194175 -0.01178782 -0.08893443  0.02967807  0.02484993]"
       ]
      },
      {
       "output_type": "stream",
       "stream": "stdout",
       "text": [
        "\n",
        "[ 0.         -0.0019685  -0.00407332 -0.04091778  0.00311203 -0.00069638]"
       ]
      },
      {
       "output_type": "stream",
       "stream": "stdout",
       "text": [
        "\n",
        "[ 0.          0.         -0.00412371 -0.0815534   0.01993865 -0.03455957]"
       ]
      },
      {
       "output_type": "stream",
       "stream": "stdout",
       "text": [
        "\n",
        "[ 0.          0.         -0.00828157 -0.08239845 -0.01730769  0.01763369]"
       ]
      },
      {
       "output_type": "stream",
       "stream": "stdout",
       "text": [
        "\n",
        "[ 0.         -0.00196464 -0.01814516 -0.09090909  0.0004817   0.02343547]"
       ]
      },
      {
       "output_type": "stream",
       "stream": "stdout",
       "text": [
        "\n",
        "[ 0.          0.         -0.00625    -0.04024641  0.00910064  0.00972558]"
       ]
      },
      {
       "output_type": "stream",
       "stream": "stdout",
       "text": [
        "\n",
        "[ 0.         -0.00204499 -0.01821862 -0.0504817   0.02634195 -0.01924439]"
       ]
      },
      {
       "output_type": "stream",
       "stream": "stdout",
       "text": [
        "\n",
        "[  0.00000000e+00  -6.04838710e-03  -2.03252033e-03  -8.24427481e-02\n",
        "  -1.83168317e-02   3.78856046e-05]"
       ]
      },
      {
       "output_type": "stream",
       "stream": "stdout",
       "text": [
        "\n",
        "[ 0.         -0.00197239 -0.01443299 -0.09019608 -0.02207392  0.01733491]"
       ]
      },
      {
       "output_type": "stream",
       "stream": "stdout",
       "text": [
        "\n",
        "[ 0.          0.          0.         -0.04380165 -0.01494024 -0.00159471]"
       ]
      },
      {
       "output_type": "stream",
       "stream": "stdout",
       "text": [
        "\n",
        "[ 0.         -0.00194175 -0.00961538 -0.0704918  -0.00203252 -0.01029586]"
       ]
      },
      {
       "output_type": "stream",
       "stream": "stdout",
       "text": [
        "\n",
        "[ 0.          0.         -0.00194553 -0.04430642  0.01614481 -0.00228804]"
       ]
      },
      {
       "output_type": "stream",
       "stream": "stdout",
       "text": [
        "\n",
        "[ 0.          0.         -0.00381679 -0.01782178 -0.00751503  0.02471174]"
       ]
      },
      {
       "output_type": "stream",
       "stream": "stdout",
       "text": [
        "\n",
        "[ 0.          0.         -0.00816327 -0.00977597  0.04651163  0.0537808 ]"
       ]
      },
      {
       "output_type": "stream",
       "stream": "stdout",
       "text": [
        "\n",
        "[ 0.          0.         -0.00397614 -0.048       0.02565392  0.02570606]"
       ]
      },
      {
       "output_type": "stream",
       "stream": "stdout",
       "text": [
        "\n",
        "[ 0.         -0.002079   -0.00618557 -0.04184261  0.0297619   0.01698289]"
       ]
      },
      {
       "output_type": "stream",
       "stream": "stdout",
       "text": [
        "\n",
        "[ 0.          0.         -0.01587302 -0.08083491 -0.0024558  -0.01470141]"
       ]
      },
      {
       "output_type": "stream",
       "stream": "stdout",
       "text": [
        "\n",
        "[ 0.          0.         -0.00816327 -0.05150905 -0.0107362  -0.00976051]"
       ]
      },
      {
       "output_type": "stream",
       "stream": "stdout",
       "text": [
        "\n",
        "[ 0.          0.         -0.00860215 -0.08364389  0.00248509 -0.01009711]"
       ]
      },
      {
       "output_type": "stream",
       "stream": "stdout",
       "text": [
        "\n",
        "[ 0.          0.         -0.00998004 -0.07236581  0.02935223  0.00738942]"
       ]
      },
      {
       "output_type": "stream",
       "stream": "stdout",
       "text": [
        "\n",
        "[ 0.         -0.00196078 -0.00616016 -0.04277457 -0.01015474  0.00927038]"
       ]
      },
      {
       "output_type": "stream",
       "stream": "stdout",
       "text": [
        "\n",
        "[ 0.          0.         -0.00585938 -0.04369748  0.04787234  0.00957312]"
       ]
      },
      {
       "output_type": "stream",
       "stream": "stdout",
       "text": [
        "\n",
        "[ 0.         -0.00199601 -0.00584795 -0.06095618 -0.01348548  0.00599809]"
       ]
      },
      {
       "output_type": "stream",
       "stream": "stdout",
       "text": [
        "\n",
        "[ 0.          0.         -0.00776699 -0.06166329  0.01506024 -0.01634595]"
       ]
      },
      {
       "output_type": "stream",
       "stream": "stdout",
       "text": [
        "\n",
        "[ 0.          0.         -0.00386847 -0.06436782 -0.00609756  0.01062531]"
       ]
      },
      {
       "output_type": "stream",
       "stream": "stdout",
       "text": [
        "\n",
        "Optimization terminated successfully.\n",
        "         Current function value: 0.000999\n",
        "         Iterations: 32\n",
        "         Function evaluations: 63\n",
        "[ 0.          0.         -0.01174168 -0.07504912  0.03922495  0.00963195]"
       ]
      },
      {
       "output_type": "stream",
       "stream": "stdout",
       "text": [
        "\n"
       ]
      },
      {
       "javascript": [
        "$('div#09e687dd-3a60-466f-9995-e1df5203ef35').width('68.09%')"
       ],
       "metadata": {},
       "output_type": "display_data",
       "text": [
        "<IPython.core.display.Javascript at 0x7f733409a7d0>"
       ]
      },
      {
       "output_type": "stream",
       "stream": "stdout",
       "text": [
        "[-0.00574713 -0.01171875 -0.07429719 -0.5        -0.45742187 -0.42680725]\n",
        "[ 0.         -0.01214575 -0.05338809 -0.44126214 -0.46534653 -0.41202528]"
       ]
      },
      {
       "output_type": "stream",
       "stream": "stdout",
       "text": [
        "\n",
        "[ 0.         -0.0019305  -0.03470716 -0.27340426 -0.35049505 -0.14943243]"
       ]
      },
      {
       "output_type": "stream",
       "stream": "stdout",
       "text": [
        "\n",
        "[-0.01284797 -0.01761252 -0.11177645 -0.63047337 -0.52993631 -0.56179122]"
       ]
      },
      {
       "output_type": "stream",
       "stream": "stdout",
       "text": [
        "\n",
        "[-0.002079   -0.01394422 -0.07692308 -0.43995984 -0.49043825 -0.4304623 ]"
       ]
      },
      {
       "output_type": "stream",
       "stream": "stdout",
       "text": [
        "\n",
        "[-0.00381679 -0.03256705 -0.18023256 -0.6230038  -0.52815534 -0.54773627]"
       ]
      },
      {
       "output_type": "stream",
       "stream": "stdout",
       "text": [
        "\n",
        "[-0.00197628 -0.00414079 -0.03592814 -0.36035857 -0.36811594 -0.23460713]"
       ]
      },
      {
       "output_type": "stream",
       "stream": "stdout",
       "text": [
        "\n",
        "[ 0.         -0.00410678 -0.00596421 -0.16747967 -0.25173116 -0.14132949]"
       ]
      },
      {
       "output_type": "stream",
       "stream": "stdout",
       "text": [
        "\n",
        "[ 0.         -0.0018315   0.         -0.04836066 -0.07047244 -0.0061204 ]"
       ]
      },
      {
       "output_type": "stream",
       "stream": "stdout",
       "text": [
        "\n",
        "[ 0.          0.         -0.01271186 -0.15       -0.20776699 -0.06265466]"
       ]
      },
      {
       "output_type": "stream",
       "stream": "stdout",
       "text": [
        "\n",
        "[ 0.          0.         -0.00421053 -0.05344828 -0.00606061  0.02385011]"
       ]
      },
      {
       "output_type": "stream",
       "stream": "stdout",
       "text": [
        "\n",
        "[ 0.          0.          0.          0.0167319   0.22718447  0.15988673]"
       ]
      },
      {
       "output_type": "stream",
       "stream": "stdout",
       "text": [
        "\n",
        "[ 0.          0.          0.         -0.00319149  0.11456693  0.15050855]"
       ]
      },
      {
       "output_type": "stream",
       "stream": "stdout",
       "text": [
        "\n",
        "[ 0.          0.          0.          0.01572581  0.14463938  0.15092864]"
       ]
      },
      {
       "output_type": "stream",
       "stream": "stdout",
       "text": [
        "\n",
        "[ 0.          0.          0.          0.04196787  0.27937743  0.19322962]"
       ]
      },
      {
       "output_type": "stream",
       "stream": "stdout",
       "text": [
        "\n",
        "[ 0.          0.          0.          0.02674419  0.18481013  0.1445387 ]"
       ]
      },
      {
       "output_type": "stream",
       "stream": "stdout",
       "text": [
        "\n",
        "[ 0.          0.          0.          0.0398167   0.24830339  0.22368862]"
       ]
      },
      {
       "output_type": "stream",
       "stream": "stdout",
       "text": [
        "\n",
        "[ 0.          0.         -0.00200803 -0.05364683 -0.04806517  0.01762162]"
       ]
      },
      {
       "output_type": "stream",
       "stream": "stdout",
       "text": [
        "\n",
        "[ 0.         -0.00191939 -0.00998004 -0.08373253 -0.12083333  0.00940261]"
       ]
      },
      {
       "output_type": "stream",
       "stream": "stdout",
       "text": [
        "\n",
        "[ 0.          0.         -0.02208835 -0.20925926 -0.2516129  -0.10895919]"
       ]
      },
      {
       "output_type": "stream",
       "stream": "stdout",
       "text": [
        "\n",
        "[ 0.          0.          0.          0.00117188  0.075       0.103166  ]"
       ]
      },
      {
       "output_type": "stream",
       "stream": "stdout",
       "text": [
        "\n",
        "[ 0.          0.         -0.004      -0.08967611 -0.20040161 -0.11265564]"
       ]
      },
      {
       "output_type": "stream",
       "stream": "stdout",
       "text": [
        "\n",
        "[ 0.          0.         -0.00196464 -0.026       0.03209393  0.08821771]"
       ]
      },
      {
       "output_type": "stream",
       "stream": "stdout",
       "text": [
        "\n",
        "[ 0.          0.          0.         -0.01601942  0.10216963  0.09451898]"
       ]
      },
      {
       "output_type": "stream",
       "stream": "stdout",
       "text": [
        "\n",
        "[ 0.          0.          0.         -0.00613306  0.006       0.07451092]"
       ]
      },
      {
       "output_type": "stream",
       "stream": "stdout",
       "text": [
        "\n",
        "[ 0.          0.         -0.00764818 -0.05       -0.05962733 -0.01164066]"
       ]
      },
      {
       "output_type": "stream",
       "stream": "stdout",
       "text": [
        "\n",
        "[ 0.          0.         -0.00194553 -0.08921569 -0.06322068 -0.04930324]"
       ]
      },
      {
       "output_type": "stream",
       "stream": "stdout",
       "text": [
        "\n",
        "[ 0.          0.          0.         -0.0306142   0.00921844  0.05293496]"
       ]
      },
      {
       "output_type": "stream",
       "stream": "stdout",
       "text": [
        "\n",
        "[ 0.          0.          0.         -0.025       0.02677485  0.05853376]"
       ]
      },
      {
       "output_type": "stream",
       "stream": "stdout",
       "text": [
        "\n",
        "[ 0.          0.          0.         -0.02258065  0.07251462  0.12657091]"
       ]
      },
      {
       "output_type": "stream",
       "stream": "stdout",
       "text": [
        "\n",
        "[ 0.          0.         -0.00816327 -0.06928429 -0.06843177  0.01364777]"
       ]
      },
      {
       "output_type": "stream",
       "stream": "stdout",
       "text": [
        "\n",
        "[-0.00200401  0.          0.         -0.05103093  0.014       0.0638229 ]"
       ]
      },
      {
       "output_type": "stream",
       "stream": "stdout",
       "text": [
        "\n",
        "[ 0.          0.         -0.002      -0.03366534  0.01134454  0.04196442]"
       ]
      },
      {
       "output_type": "stream",
       "stream": "stdout",
       "text": [
        "\n",
        "[ 0.          0.          0.         -0.06111111 -0.01520468  0.02895442]"
       ]
      },
      {
       "output_type": "stream",
       "stream": "stdout",
       "text": [
        "\n",
        "[ 0.          0.         -0.00200803 -0.02889126 -0.00366972  0.06521064]"
       ]
      },
      {
       "output_type": "stream",
       "stream": "stdout",
       "text": [
        "\n",
        "[ 0.         -0.00197628 -0.00641026 -0.05059172 -0.04325482  0.01970085]"
       ]
      },
      {
       "output_type": "stream",
       "stream": "stdout",
       "text": [
        "\n",
        "[ 0.          0.          0.         -0.04586057 -0.05252525  0.0165688 ]"
       ]
      },
      {
       "output_type": "stream",
       "stream": "stdout",
       "text": [
        "\n",
        "[ 0.          0.         -0.00192308 -0.052      -0.0410058   0.04117676]"
       ]
      },
      {
       "output_type": "stream",
       "stream": "stdout",
       "text": [
        "\n",
        "[ 0.         -0.00188679  0.         -0.04146341 -0.04379845  0.04785171]"
       ]
      },
      {
       "output_type": "stream",
       "stream": "stdout",
       "text": [
        "\n",
        "[ 0.          0.         -0.00210526 -0.04683794 -0.01482966  0.04622725]"
       ]
      },
      {
       "output_type": "stream",
       "stream": "stdout",
       "text": [
        "\n",
        "[ 0.          0.         -0.00592885 -0.05916179 -0.05898437  0.02506325]"
       ]
      },
      {
       "output_type": "stream",
       "stream": "stdout",
       "text": [
        "\n",
        "[ 0.          0.         -0.0019685  -0.05121457  0.04566929  0.05368135]"
       ]
      },
      {
       "output_type": "stream",
       "stream": "stdout",
       "text": [
        "\n",
        "[ 0.          0.          0.         -0.06411992 -0.02768595  0.04361746]"
       ]
      },
      {
       "output_type": "stream",
       "stream": "stdout",
       "text": [
        "\n",
        "[ 0.         -0.0019685  -0.002      -0.03383234  0.02141491  0.06875665]"
       ]
      },
      {
       "output_type": "stream",
       "stream": "stdout",
       "text": [
        "\n",
        "[ 0.         -0.0021322  -0.00198807 -0.01926407 -0.0781746   0.05442694]"
       ]
      },
      {
       "output_type": "stream",
       "stream": "stdout",
       "text": [
        "\n",
        "[ 0.          0.          0.         -0.02784431 -0.0148728   0.04588816]"
       ]
      },
      {
       "output_type": "stream",
       "stream": "stdout",
       "text": [
        "\n",
        "[ 0.          0.          0.         -0.04369025 -0.04214876  0.04354502]"
       ]
      },
      {
       "output_type": "stream",
       "stream": "stdout",
       "text": [
        "\n",
        "[ 0.          0.         -0.00208333 -0.04615385  0.          0.05016053]"
       ]
      },
      {
       "output_type": "stream",
       "stream": "stdout",
       "text": [
        "\n",
        "[ 0.          0.          0.         -0.04128631 -0.01212121  0.04827563]"
       ]
      },
      {
       "output_type": "stream",
       "stream": "stdout",
       "text": [
        "\n",
        "[ 0.          0.         -0.004      -0.0440499  -0.01117764  0.05695884]"
       ]
      },
      {
       "output_type": "stream",
       "stream": "stdout",
       "text": [
        "\n",
        "[ 0.          0.         -0.0040404  -0.03921162 -0.03762781  0.03654358]"
       ]
      },
      {
       "output_type": "stream",
       "stream": "stdout",
       "text": [
        "\n",
        "[ 0.          0.         -0.0040404  -0.03818011  0.02020202  0.05403769]"
       ]
      },
      {
       "output_type": "stream",
       "stream": "stdout",
       "text": [
        "\n",
        "[ 0.          0.         -0.00400802 -0.05251451  0.0184739   0.05079219]"
       ]
      },
      {
       "output_type": "stream",
       "stream": "stdout",
       "text": [
        "\n",
        "[ 0.          0.          0.         -0.08347023 -0.00970874  0.05694276]"
       ]
      },
      {
       "output_type": "stream",
       "stream": "stdout",
       "text": [
        "\n",
        "[ 0.          0.         -0.00403226 -0.04902913 -0.01935484  0.05118532]"
       ]
      },
      {
       "output_type": "stream",
       "stream": "stdout",
       "text": [
        "\n",
        "[ 0.          0.          0.         -0.07783505  0.00271318  0.04397784]"
       ]
      },
      {
       "output_type": "stream",
       "stream": "stdout",
       "text": [
        "\n",
        "[ 0.          0.         -0.00199203 -0.03565737 -0.00508806  0.05268716]"
       ]
      },
      {
       "output_type": "stream",
       "stream": "stdout",
       "text": [
        "\n",
        "[ 0.          0.         -0.00196464 -0.06485149 -0.06525097  0.0580351 ]"
       ]
      },
      {
       "output_type": "stream",
       "stream": "stdout",
       "text": [
        "\n",
        "Optimization terminated successfully.\n",
        "         Current function value: 0.003027\n",
        "         Iterations: 25\n",
        "         Function evaluations: 58\n",
        "[ 0.          0.         -0.0020284  -0.044       0.03247863  0.0594971 ]"
       ]
      },
      {
       "output_type": "stream",
       "stream": "stdout",
       "text": [
        "\n"
       ]
      },
      {
       "javascript": [
        "$('div#09e687dd-3a60-466f-9995-e1df5203ef35').width('70.21%')"
       ],
       "metadata": {},
       "output_type": "display_data",
       "text": [
        "<IPython.core.display.Javascript at 0x7f73341d8d50>"
       ]
      },
      {
       "output_type": "stream",
       "stream": "stdout",
       "text": [
        "[-0.00389864 -0.02028398 -0.03416834 -0.15327869 -0.14714286 -0.01027732]\n",
        "[ 0.         -0.01096491 -0.00325444 -0.06215139 -0.09570312 -0.01448485]"
       ]
      },
      {
       "output_type": "stream",
       "stream": "stdout",
       "text": [
        "\n",
        "[ 0.         -0.0019685   0.02478992  0.01386139 -0.00203252  0.25496825]"
       ]
      },
      {
       "output_type": "stream",
       "stream": "stdout",
       "text": [
        "\n",
        "[ 0.         -0.03118908 -0.04980431 -0.21033797 -0.18688363 -0.15575901]"
       ]
      },
      {
       "output_type": "stream",
       "stream": "stdout",
       "text": [
        "\n",
        "[-0.01020408 -0.00202429 -0.03050847 -0.15230126 -0.14558233 -0.02619634]"
       ]
      },
      {
       "output_type": "stream",
       "stream": "stdout",
       "text": [
        "\n",
        "[-0.01162791 -0.0392562  -0.11730769 -0.31290944 -0.19081633 -0.14758095]"
       ]
      },
      {
       "output_type": "stream",
       "stream": "stdout",
       "text": [
        "\n",
        "[ 0.          0.          0.03418972  0.09033531 -0.02559055  0.16117202]"
       ]
      },
      {
       "output_type": "stream",
       "stream": "stdout",
       "text": [
        "\n",
        "[ 0.         -0.00198413  0.03520085  0.17066116  0.08401639  0.27669384]"
       ]
      },
      {
       "output_type": "stream",
       "stream": "stdout",
       "text": [
        "\n",
        "[ 0.         -0.01976285 -0.00533597 -0.13830645 -0.14049587 -0.03036469]"
       ]
      },
      {
       "output_type": "stream",
       "stream": "stdout",
       "text": [
        "\n",
        "[-0.00409836 -0.01553398 -0.05728745 -0.24040404 -0.17815534 -0.25680466]"
       ]
      },
      {
       "output_type": "stream",
       "stream": "stdout",
       "text": [
        "\n",
        "[ 0.         -0.01221996  0.0281746  -0.02276423 -0.05618557  0.15155218]"
       ]
      },
      {
       "output_type": "stream",
       "stream": "stdout",
       "text": [
        "\n",
        "[ 0.         -0.00203666  0.02222222 -0.01282565 -0.05075188  0.12020999]"
       ]
      },
      {
       "output_type": "stream",
       "stream": "stdout",
       "text": [
        "\n",
        "[ 0.         -0.0078125   0.03496241  0.03960396 -0.03762887  0.17418359]"
       ]
      },
      {
       "output_type": "stream",
       "stream": "stdout",
       "text": [
        "\n",
        "[ 0.          0.          0.04025341  0.15665399  0.07916667  0.24016523]"
       ]
      },
      {
       "output_type": "stream",
       "stream": "stdout",
       "text": [
        "\n",
        "[ 0.         -0.00573614 -0.00776892 -0.06215139 -0.11857143  0.05744205]"
       ]
      },
      {
       "output_type": "stream",
       "stream": "stdout",
       "text": [
        "\n",
        "[ 0.         -0.01239669 -0.01896552 -0.10695825 -0.12549407  0.02032984]"
       ]
      },
      {
       "output_type": "stream",
       "stream": "stdout",
       "text": [
        "\n",
        "[-0.00756144 -0.01724138 -0.04684211 -0.20416667 -0.14516129 -0.06290646]"
       ]
      },
      {
       "output_type": "stream",
       "stream": "stdout",
       "text": [
        "\n",
        "[ 0.         -0.00369004  0.01692607  0.06935484 -0.05318091  0.1271209 ]"
       ]
      },
      {
       "output_type": "stream",
       "stream": "stdout",
       "text": [
        "\n",
        "[ 0.         -0.00203666  0.02777778  0.02549801 -0.03177966  0.15017564]"
       ]
      },
      {
       "output_type": "stream",
       "stream": "stdout",
       "text": [
        "\n",
        "[ 0.         -0.00205339  0.01646943  0.012      -0.09557439  0.02813156]"
       ]
      },
      {
       "output_type": "stream",
       "stream": "stdout",
       "text": [
        "\n",
        "[ 0.          0.          0.01523517 -0.00188679 -0.11417323 -0.03016586]"
       ]
      },
      {
       "output_type": "stream",
       "stream": "stdout",
       "text": [
        "\n",
        "[-0.00199203 -0.01039501 -0.00684211 -0.08242187 -0.12846482 -0.02168955]"
       ]
      },
      {
       "output_type": "stream",
       "stream": "stdout",
       "text": [
        "\n",
        "[ 0.         -0.01492537 -0.01944444 -0.13861386 -0.13825758 -0.06600832]"
       ]
      },
      {
       "output_type": "stream",
       "stream": "stdout",
       "text": [
        "\n",
        "[-0.00393701 -0.0040404   0.02703549 -0.07046414 -0.07978723  0.06227753]"
       ]
      },
      {
       "output_type": "stream",
       "stream": "stdout",
       "text": [
        "\n",
        "[ 0.         -0.00197628  0.02938144  0.03048017 -0.0462578   0.14484368]"
       ]
      },
      {
       "output_type": "stream",
       "stream": "stdout",
       "text": [
        "\n",
        "[ 0.          0.         -0.00502846 -0.07945205 -0.09960938  0.01324988]"
       ]
      },
      {
       "output_type": "stream",
       "stream": "stdout",
       "text": [
        "\n",
        "[ 0.          0.          0.01544715 -0.02135922 -0.09773663  0.05454285]"
       ]
      },
      {
       "output_type": "stream",
       "stream": "stdout",
       "text": [
        "\n",
        "[-0.00408163 -0.00598802 -0.0009165  -0.10568182 -0.14098532 -0.06803656]"
       ]
      },
      {
       "output_type": "stream",
       "stream": "stdout",
       "text": [
        "\n",
        "[ 0.          0.          0.03196393 -0.03737166 -0.09942085  0.08940005]"
       ]
      },
      {
       "output_type": "stream",
       "stream": "stdout",
       "text": [
        "\n",
        "[ 0.         -0.00417537  0.01370968 -0.0129979  -0.094       0.02940879]"
       ]
      },
      {
       "output_type": "stream",
       "stream": "stdout",
       "text": [
        "\n",
        "[ 0.         -0.00803213  0.02137405 -0.05981308 -0.09872299  0.02025996]"
       ]
      },
      {
       "output_type": "stream",
       "stream": "stdout",
       "text": [
        "\n",
        "[ 0.         -0.00389105  0.00918367 -0.07093023 -0.08712121  0.04559557]"
       ]
      },
      {
       "output_type": "stream",
       "stream": "stdout",
       "text": [
        "\n",
        "[-0.00616016 -0.00194553  0.01168582 -0.05030426 -0.08298539  0.01045061]"
       ]
      },
      {
       "output_type": "stream",
       "stream": "stdout",
       "text": [
        "\n",
        "[-0.00214592  0.          0.02251586 -0.01041667 -0.11138614  0.06625672]"
       ]
      },
      {
       "output_type": "stream",
       "stream": "stdout",
       "text": [
        "\n",
        "[ 0.         -0.00205339  0.026      -0.04467213 -0.09479371 -0.03222064]"
       ]
      },
      {
       "output_type": "stream",
       "stream": "stdout",
       "text": [
        "\n",
        "[ 0.         -0.00195312 -0.00068226 -0.04948454 -0.13349515 -0.01362893]"
       ]
      },
      {
       "output_type": "stream",
       "stream": "stdout",
       "text": [
        "\n",
        "[ 0.         -0.00194932  0.03151951 -0.02436149 -0.10395538  0.0463986 ]"
       ]
      },
      {
       "output_type": "stream",
       "stream": "stdout",
       "text": [
        "\n",
        "[ 0.         -0.01043841  0.01442688 -0.0510978  -0.1245098  -0.00631515]"
       ]
      },
      {
       "output_type": "stream",
       "stream": "stdout",
       "text": [
        "\n",
        "[-0.00207039 -0.00568182  0.02286013 -0.04071146 -0.10964912  0.02047751]"
       ]
      },
      {
       "output_type": "stream",
       "stream": "stdout",
       "text": [
        "\n",
        "[ 0.         -0.01119403  0.01311475  0.0120332  -0.12715931  0.0145215 ]"
       ]
      },
      {
       "output_type": "stream",
       "stream": "stdout",
       "text": [
        "\n",
        "[ 0.         -0.00576923  0.02826087 -0.00042373 -0.1         0.01447636]"
       ]
      },
      {
       "output_type": "stream",
       "stream": "stdout",
       "text": [
        "\n",
        "[ 0.         -0.0019802   0.02302505  0.00469667 -0.09274194 -0.00216766]"
       ]
      },
      {
       "output_type": "stream",
       "stream": "stdout",
       "text": [
        "\n",
        "[ 0.         -0.00207039  0.01319018 -0.02061856 -0.11391753 -0.00489479]"
       ]
      },
      {
       "output_type": "stream",
       "stream": "stdout",
       "text": [
        "\n",
        "[ 0.         -0.00796813  0.01245059 -0.04158416 -0.11326531  0.02772381]"
       ]
      },
      {
       "output_type": "stream",
       "stream": "stdout",
       "text": [
        "\n",
        "Optimization terminated successfully.\n",
        "         Current function value: 0.009162\n",
        "         Iterations: 19\n",
        "         Function evaluations: 44\n",
        "[ 0.         -0.00626305  0.01603774 -0.05792564 -0.11965377  0.0234292 ]"
       ]
      },
      {
       "output_type": "stream",
       "stream": "stdout",
       "text": [
        "\n"
       ]
      },
      {
       "javascript": [
        "$('div#09e687dd-3a60-466f-9995-e1df5203ef35').width('72.34%')"
       ],
       "metadata": {},
       "output_type": "display_data",
       "text": [
        "<IPython.core.display.Javascript at 0x7f7334219ad0>"
       ]
      },
      {
       "output_type": "stream",
       "stream": "stdout",
       "text": [
        "[ 0.         -0.025      -0.09722222 -0.20378486 -0.08032454 -0.32088305]\n",
        "[-0.00206612 -0.00961538 -0.04492188 -0.14176955 -0.08521401 -0.32877408]"
       ]
      },
      {
       "output_type": "stream",
       "stream": "stdout",
       "text": [
        "\n",
        "[ 0.         -0.00763359 -0.0362173   0.00983607  0.07364185 -0.04501056]"
       ]
      },
      {
       "output_type": "stream",
       "stream": "stdout",
       "text": [
        "\n",
        "[-0.0039604  -0.02186879 -0.08768267 -0.33244576 -0.14324853 -0.46654537]"
       ]
      },
      {
       "output_type": "stream",
       "stream": "stdout",
       "text": [
        "\n",
        "[-0.00582524 -0.00793651 -0.08382066 -0.14019608 -0.07951807 -0.32649238]"
       ]
      },
      {
       "output_type": "stream",
       "stream": "stdout",
       "text": [
        "\n",
        "[-0.01351351 -0.05306122 -0.18003914 -0.37795497 -0.14831014 -0.46376975]"
       ]
      },
      {
       "output_type": "stream",
       "stream": "stdout",
       "text": [
        "\n",
        "[ 0.         -0.00617284 -0.01408451  0.02382812 -0.00172414 -0.15508506]"
       ]
      },
      {
       "output_type": "stream",
       "stream": "stdout",
       "text": [
        "\n",
        "[ 0.         -0.00201207 -0.01930502  0.11161616  0.11287129 -0.02582689]"
       ]
      },
      {
       "output_type": "stream",
       "stream": "stdout",
       "text": [
        "\n",
        "[-0.00201207 -0.00201207 -0.01498127  0.05238095  0.13263598 -0.02356347]"
       ]
      },
      {
       "output_type": "stream",
       "stream": "stdout",
       "text": [
        "\n",
        "[ 0.          0.         -0.00639659  0.18365201  0.23373494  0.04589894]"
       ]
      },
      {
       "output_type": "stream",
       "stream": "stdout",
       "text": [
        "\n",
        "[ 0.          0.         -0.00207039  0.2462818   0.35072464  0.14841135]"
       ]
      },
      {
       "output_type": "stream",
       "stream": "stdout",
       "text": [
        "\n",
        "[ 0.         -0.00205339 -0.01364522  0.01862745 -0.03975659 -0.17263296]"
       ]
      },
      {
       "output_type": "stream",
       "stream": "stdout",
       "text": [
        "\n",
        "[-0.00391389 -0.01754386 -0.078125   -0.11307385 -0.04156379 -0.25744281]"
       ]
      },
      {
       "output_type": "stream",
       "stream": "stdout",
       "text": [
        "\n",
        "[-0.00198807 -0.00612245 -0.04115226 -0.08133462 -0.00482897 -0.15664623]"
       ]
      },
      {
       "output_type": "stream",
       "stream": "stdout",
       "text": [
        "\n",
        "[ 0.         -0.00384615 -0.00761905  0.16060606  0.17473684  0.00747069]"
       ]
      },
      {
       "output_type": "stream",
       "stream": "stdout",
       "text": [
        "\n",
        "[-0.00417537 -0.0038835  -0.0259481  -0.02649402  0.05338491 -0.12854463]"
       ]
      },
      {
       "output_type": "stream",
       "stream": "stdout",
       "text": [
        "\n",
        "[-0.00195312 -0.00401606 -0.00608519  0.10334608  0.12056452 -0.00335761]"
       ]
      },
      {
       "output_type": "stream",
       "stream": "stdout",
       "text": [
        "\n",
        "[ 0.         -0.00804829 -0.01904762 -0.05159046  0.01267894 -0.13822319]"
       ]
      },
      {
       "output_type": "stream",
       "stream": "stdout",
       "text": [
        "\n",
        "[ 0.         -0.00192678 -0.02362205 -0.02923729 -0.04824903 -0.21345975]"
       ]
      },
      {
       "output_type": "stream",
       "stream": "stdout",
       "text": [
        "\n",
        "[ 0.          0.         -0.02217742  0.08558648  0.0776699  -0.05094616]"
       ]
      },
      {
       "output_type": "stream",
       "stream": "stdout",
       "text": [
        "\n",
        "[ 0.         -0.00948767 -0.0210325   0.01067864  0.11707317 -0.00238273]"
       ]
      },
      {
       "output_type": "stream",
       "stream": "stdout",
       "text": [
        "\n",
        "[ 0.         -0.00209644 -0.01492537  0.10213675  0.16526946  0.01247533]"
       ]
      },
      {
       "output_type": "stream",
       "stream": "stdout",
       "text": [
        "\n",
        "[-0.00188679 -0.0021978  -0.03389831 -0.04014374  0.05369979 -0.09195801]"
       ]
      },
      {
       "output_type": "stream",
       "stream": "stdout",
       "text": [
        "\n",
        "[ 0.         -0.00368324 -0.05316973 -0.02254902  0.02478992 -0.0807967 ]"
       ]
      },
      {
       "output_type": "stream",
       "stream": "stdout",
       "text": [
        "\n",
        "[ 0.         -0.00199601 -0.01747573  0.05941884  0.05258799  0.00927416]"
       ]
      },
      {
       "output_type": "stream",
       "stream": "stdout",
       "text": [
        "\n",
        "[-0.00398406 -0.00392157 -0.02554028  0.06428571  0.11673307  0.05711602]"
       ]
      },
      {
       "output_type": "stream",
       "stream": "stdout",
       "text": [
        "\n",
        "[ 0.         -0.00591716 -0.0483871  -0.03204593  0.03647295 -0.04891432]"
       ]
      },
      {
       "output_type": "stream",
       "stream": "stdout",
       "text": [
        "\n",
        "[ 0.         -0.01214575 -0.02439024 -0.05039841 -0.01070746 -0.09219738]"
       ]
      },
      {
       "output_type": "stream",
       "stream": "stdout",
       "text": [
        "\n",
        "[-0.00410678 -0.01405622 -0.06418219 -0.06650672  0.00806794 -0.0149281 ]"
       ]
      },
      {
       "output_type": "stream",
       "stream": "stdout",
       "text": [
        "\n",
        "[ 0.         -0.00201207 -0.02762431 -0.00508637  0.12310838  0.01133937]"
       ]
      },
      {
       "output_type": "stream",
       "stream": "stdout",
       "text": [
        "\n",
        "[ 0.         -0.00787402 -0.04133858 -0.02227723  0.03684211 -0.06747783]"
       ]
      },
      {
       "output_type": "stream",
       "stream": "stdout",
       "text": [
        "\n",
        "[ 0.         -0.00647948 -0.01388889 -0.03607595  0.09494949  0.011799  ]"
       ]
      },
      {
       "output_type": "stream",
       "stream": "stdout",
       "text": [
        "\n",
        "[ 0.         -0.00390625 -0.04246285  0.0159751   0.04105461 -0.06247141]"
       ]
      },
      {
       "output_type": "stream",
       "stream": "stdout",
       "text": [
        "\n",
        "[ 0.         -0.00583658 -0.02348337  0.01197183  0.03968566 -0.06014987]"
       ]
      },
      {
       "output_type": "stream",
       "stream": "stdout",
       "text": [
        "\n",
        "[ 0.          0.         -0.01840491  0.07154472  0.0687747  -0.08972559]"
       ]
      },
      {
       "output_type": "stream",
       "stream": "stdout",
       "text": [
        "\n",
        "[-0.00583658 -0.00560748 -0.03762376 -0.05329218  0.00359281 -0.02262333]"
       ]
      },
      {
       "output_type": "stream",
       "stream": "stdout",
       "text": [
        "\n",
        "[ 0.         -0.00845666 -0.03534304 -0.02903226  0.04804687 -0.00882694]"
       ]
      },
      {
       "output_type": "stream",
       "stream": "stdout",
       "text": [
        "\n",
        "[ 0.          0.         -0.02012072 -0.00961538  0.05406504 -0.00351133]"
       ]
      },
      {
       "output_type": "stream",
       "stream": "stdout",
       "text": [
        "\n",
        "[-0.00203252  0.         -0.03292181  0.03958743  0.08237792  0.03414817]"
       ]
      },
      {
       "output_type": "stream",
       "stream": "stdout",
       "text": [
        "\n",
        "[ 0.          0.         -0.01902748  0.03615984  0.08653846  0.0196404 ]"
       ]
      },
      {
       "output_type": "stream",
       "stream": "stdout",
       "text": [
        "\n",
        "[-0.00194932 -0.00842105 -0.02434077 -0.02022133  0.00654397 -0.04152992]"
       ]
      },
      {
       "output_type": "stream",
       "stream": "stdout",
       "text": [
        "\n",
        "[ 0.         -0.00195695 -0.01814516  0.02605634  0.0627451  -0.00508092]"
       ]
      },
      {
       "output_type": "stream",
       "stream": "stdout",
       "text": [
        "\n",
        "[ 0.         -0.00587084 -0.03495146 -0.0443662  -0.02172131 -0.06473039]"
       ]
      },
      {
       "output_type": "stream",
       "stream": "stdout",
       "text": [
        "\n",
        "[ 0.         -0.0101833  -0.01192843  0.06516393  0.04103586 -0.00884979]"
       ]
      },
      {
       "output_type": "stream",
       "stream": "stdout",
       "text": [
        "\n",
        "[ 0.         -0.00608519 -0.01964637 -0.00387674  0.02851562 -0.033526  ]"
       ]
      },
      {
       "output_type": "stream",
       "stream": "stdout",
       "text": [
        "\n",
        "[ 0.         -0.00575816 -0.02559055 -0.03163265  0.01484375 -0.08323373]"
       ]
      },
      {
       "output_type": "stream",
       "stream": "stdout",
       "text": [
        "\n",
        "[ 0.         -0.01207243 -0.03607214 -0.05718563  0.02037422  0.0142786 ]"
       ]
      },
      {
       "output_type": "stream",
       "stream": "stdout",
       "text": [
        "\n",
        "[ 0.         -0.00199203 -0.02994012 -0.05429688  0.07032136 -0.00619074]"
       ]
      },
      {
       "output_type": "stream",
       "stream": "stdout",
       "text": [
        "\n",
        "[-0.00188324 -0.00809717 -0.03333333  0.03390805 -0.00497132 -0.05213951]"
       ]
      },
      {
       "output_type": "stream",
       "stream": "stdout",
       "text": [
        "\n",
        "[ 0.         -0.00420168 -0.01455301 -0.00196687  0.04903475 -0.02242593]"
       ]
      },
      {
       "output_type": "stream",
       "stream": "stdout",
       "text": [
        "\n",
        "[-0.00197239 -0.00613497 -0.02286902 -0.066      -0.00124224 -0.04684799]"
       ]
      },
      {
       "output_type": "stream",
       "stream": "stdout",
       "text": [
        "\n",
        "[ 0.         -0.00610998 -0.02376238  0.0287234   0.07272727 -0.02964143]"
       ]
      },
      {
       "output_type": "stream",
       "stream": "stdout",
       "text": [
        "\n",
        "[ 0.         -0.00392157 -0.02217742  0.01334661  0.0407767  -0.06675138]"
       ]
      },
      {
       "output_type": "stream",
       "stream": "stdout",
       "text": [
        "\n",
        "[-0.00198807 -0.0094162  -0.04733728 -0.05350877 -0.0045738  -0.07151595]"
       ]
      },
      {
       "output_type": "stream",
       "stream": "stdout",
       "text": [
        "\n",
        "[-0.0019305  -0.0019305  -0.02531646  0.02716535  0.0519685  -0.03077476]"
       ]
      },
      {
       "output_type": "stream",
       "stream": "stdout",
       "text": [
        "\n",
        "[ 0.         -0.00643777 -0.0214425   0.00650407  0.04579832 -0.05808212]"
       ]
      },
      {
       "output_type": "stream",
       "stream": "stdout",
       "text": [
        "\n",
        "[ 0.         -0.00621118 -0.03082852  0.00280665  0.04801587 -0.03486063]"
       ]
      },
      {
       "output_type": "stream",
       "stream": "stdout",
       "text": [
        "\n",
        "[ 0.         -0.00195695 -0.03333333 -0.05248963  0.03529412 -0.03130368]"
       ]
      },
      {
       "output_type": "stream",
       "stream": "stdout",
       "text": [
        "\n",
        "[-0.00209205 -0.00587084 -0.01757812  0.01023166  0.03935091 -0.04201077]"
       ]
      },
      {
       "output_type": "stream",
       "stream": "stdout",
       "text": [
        "\n",
        "[ 0.         -0.00587084 -0.02822581  0.02287785  0.06476578 -0.02721551]"
       ]
      },
      {
       "output_type": "stream",
       "stream": "stdout",
       "text": [
        "\n",
        "[-0.00203252  0.         -0.0251938  -0.06108987  0.03140496 -0.03689061]"
       ]
      },
      {
       "output_type": "stream",
       "stream": "stdout",
       "text": [
        "\n",
        "[-0.002      -0.00205761 -0.03238095  0.01932271  0.02134387 -0.035362  ]"
       ]
      },
      {
       "output_type": "stream",
       "stream": "stdout",
       "text": [
        "\n",
        "[ 0.         -0.00196078 -0.01691332  0.01529774  0.05393701 -0.04756869]"
       ]
      },
      {
       "output_type": "stream",
       "stream": "stdout",
       "text": [
        "\n",
        "[-0.004158   -0.00206612 -0.01414141 -0.00523614  0.01544715 -0.04911027]"
       ]
      },
      {
       "output_type": "stream",
       "stream": "stdout",
       "text": [
        "\n",
        "[ 0.         -0.00392927 -0.022      -0.01929461  0.02284644 -0.05232299]"
       ]
      },
      {
       "output_type": "stream",
       "stream": "stdout",
       "text": [
        "\n",
        "[ 0.         -0.00204499 -0.02653061 -0.00458167  0.04637681 -0.03635423]"
       ]
      },
      {
       "output_type": "stream",
       "stream": "stdout",
       "text": [
        "\n",
        "Optimization terminated successfully.\n",
        "         Current function value: 0.002375\n",
        "         Iterations: 33\n",
        "         Function evaluations: 66\n",
        "[ 0.          0.         -0.0259481  -0.01873747  0.05246548 -0.05153122]"
       ]
      },
      {
       "output_type": "stream",
       "stream": "stdout",
       "text": [
        "\n"
       ]
      },
      {
       "javascript": [
        "$('div#09e687dd-3a60-466f-9995-e1df5203ef35').width('74.47%')"
       ],
       "metadata": {},
       "output_type": "display_data",
       "text": [
        "<IPython.core.display.Javascript at 0x7f733401ea90>"
       ]
      },
      {
       "output_type": "stream",
       "stream": "stdout",
       "text": [
        "[-0.00380228 -0.00773694 -0.06743738 -0.33667954 -0.03757396 -0.16693362]\n",
        "[ 0.         -0.00614754 -0.0688172  -0.28865979 -0.05062112 -0.16303967]"
       ]
      },
      {
       "output_type": "stream",
       "stream": "stdout",
       "text": [
        "\n",
        "[ 0.         -0.00196078 -0.03125    -0.14669339  0.11848249  0.0978764 ]"
       ]
      },
      {
       "output_type": "stream",
       "stream": "stdout",
       "text": [
        "\n",
        "[ 0.         -0.02268041 -0.10515873 -0.45191147 -0.10670103 -0.30988548]"
       ]
      },
      {
       "output_type": "stream",
       "stream": "stdout",
       "text": [
        "\n",
        "[ 0.         -0.01771654 -0.07768924 -0.37200811 -0.02747036 -0.17731983]"
       ]
      },
      {
       "output_type": "stream",
       "stream": "stdout",
       "text": [
        "\n",
        "[-0.00436681 -0.0545809  -0.19919517 -0.49731801 -0.09901961 -0.29152279]"
       ]
      },
      {
       "output_type": "stream",
       "stream": "stdout",
       "text": [
        "\n",
        "[ 0.         -0.00385356 -0.01677149 -0.09338843  0.07896282 -0.0117196 ]"
       ]
      },
      {
       "output_type": "stream",
       "stream": "stdout",
       "text": [
        "\n",
        "[ 0.          0.         -0.00809717 -0.00445344  0.23702929  0.10446069]"
       ]
      },
      {
       "output_type": "stream",
       "stream": "stdout",
       "text": [
        "\n",
        "[ 0.         -0.00196078 -0.01221996 -0.05813008  0.18730159  0.12477404]"
       ]
      },
      {
       "output_type": "stream",
       "stream": "stdout",
       "text": [
        "\n",
        "[ 0.          0.         -0.01010101 -0.02736419  0.16800766  0.11553626]"
       ]
      },
      {
       "output_type": "stream",
       "stream": "stdout",
       "text": [
        "\n",
        "[ 0.          0.         -0.00209205  0.03270677  0.28204868  0.21546411]"
       ]
      },
      {
       "output_type": "stream",
       "stream": "stdout",
       "text": [
        "\n",
        "[ 0.         -0.00213675 -0.01195219 -0.05788497  0.17730924  0.13402937]"
       ]
      },
      {
       "output_type": "stream",
       "stream": "stdout",
       "text": [
        "\n",
        "[ 0.          0.         -0.00187266  0.07647059  0.35664137  0.27815327]"
       ]
      },
      {
       "output_type": "stream",
       "stream": "stdout",
       "text": [
        "\n",
        "[ 0.         -0.00369686 -0.03913894 -0.14572491  0.07115385 -0.00746972]"
       ]
      },
      {
       "output_type": "stream",
       "stream": "stdout",
       "text": [
        "\n",
        "[ 0.          0.         -0.02074689 -0.1497053   0.04607843 -0.00712006]"
       ]
      },
      {
       "output_type": "stream",
       "stream": "stdout",
       "text": [
        "\n",
        "[ 0.         -0.00636943 -0.03838384 -0.20344168  0.02601547 -0.06393143]"
       ]
      },
      {
       "output_type": "stream",
       "stream": "stdout",
       "text": [
        "\n",
        "[ 0.         -0.004      -0.02708333 -0.14393638  0.02241379  0.00354701]"
       ]
      },
      {
       "output_type": "stream",
       "stream": "stdout",
       "text": [
        "\n",
        "[ 0.          0.         -0.01649485 -0.16016097  0.04075145 -0.07789604]"
       ]
      },
      {
       "output_type": "stream",
       "stream": "stdout",
       "text": [
        "\n",
        "[-0.00207469 -0.00201613 -0.034      -0.29315068 -0.03       -0.16804351]"
       ]
      },
      {
       "output_type": "stream",
       "stream": "stdout",
       "text": [
        "\n",
        "[ 0.          0.         -0.01348748 -0.11262525  0.1154321   0.05602317]"
       ]
      },
      {
       "output_type": "stream",
       "stream": "stdout",
       "text": [
        "\n",
        "[-0.0019685  -0.0038835  -0.03036437 -0.182       0.04381443  0.06686328]"
       ]
      },
      {
       "output_type": "stream",
       "stream": "stdout",
       "text": [
        "\n",
        "[ 0.         -0.00398406 -0.01814516 -0.09090909  0.07453222 -0.01989299]"
       ]
      },
      {
       "output_type": "stream",
       "stream": "stdout",
       "text": [
        "\n",
        "[ 0.         -0.00788955 -0.02886598 -0.17896825 -0.02376726 -0.07601495]"
       ]
      },
      {
       "output_type": "stream",
       "stream": "stdout",
       "text": [
        "\n",
        "[ 0.          0.         -0.01606426 -0.10425963  0.09564797  0.02482316]"
       ]
      },
      {
       "output_type": "stream",
       "stream": "stdout",
       "text": [
        "\n",
        "[ 0.         -0.0020284  -0.01612903 -0.1072407   0.06917808  0.02237979]"
       ]
      },
      {
       "output_type": "stream",
       "stream": "stdout",
       "text": [
        "\n",
        "[ 0.          0.         -0.02554028 -0.12790224  0.08877551  0.00359906]"
       ]
      },
      {
       "output_type": "stream",
       "stream": "stdout",
       "text": [
        "\n",
        "[ 0.         -0.00389864 -0.02366864 -0.11578947  0.07463768  0.00012142]"
       ]
      },
      {
       "output_type": "stream",
       "stream": "stdout",
       "text": [
        "\n",
        "[ 0.         -0.00202429 -0.01825558 -0.10291262  0.10193798 -0.00069405]"
       ]
      },
      {
       "output_type": "stream",
       "stream": "stdout",
       "text": [
        "\n",
        "[ 0.         -0.00205339 -0.01425662 -0.12924335  0.08622047  0.014954  ]"
       ]
      },
      {
       "output_type": "stream",
       "stream": "stdout",
       "text": [
        "\n",
        "[ 0.         -0.00594059 -0.01730769 -0.14095238  0.08742455 -0.0153983 ]"
       ]
      },
      {
       "output_type": "stream",
       "stream": "stdout",
       "text": [
        "\n",
        "[ 0.          0.         -0.01265823 -0.12258065  0.05080321  0.01452908]"
       ]
      },
      {
       "output_type": "stream",
       "stream": "stdout",
       "text": [
        "\n",
        "[ 0.         -0.00215983 -0.03036437 -0.13201581  0.0692623  -0.0358624 ]"
       ]
      },
      {
       "output_type": "stream",
       "stream": "stdout",
       "text": [
        "\n",
        "[ 0.          0.         -0.00982318 -0.10815109  0.06384929 -0.02066381]"
       ]
      },
      {
       "output_type": "stream",
       "stream": "stdout",
       "text": [
        "\n",
        "[ 0.         -0.00211416 -0.02490421 -0.12277228  0.05238095 -0.02743701]"
       ]
      },
      {
       "output_type": "stream",
       "stream": "stdout",
       "text": [
        "\n",
        "[ 0.          0.         -0.01106195 -0.11337325  0.08762376 -0.01261923]"
       ]
      },
      {
       "output_type": "stream",
       "stream": "stdout",
       "text": [
        "\n",
        "[ 0.          0.         -0.0170778  -0.15625     0.05537428 -0.0090116 ]"
       ]
      },
      {
       "output_type": "stream",
       "stream": "stdout",
       "text": [
        "\n",
        "[ 0.         -0.00399202 -0.03333333 -0.13604888  0.09351297 -0.0148147 ]"
       ]
      },
      {
       "output_type": "stream",
       "stream": "stdout",
       "text": [
        "\n",
        "[ 0.         -0.00206186 -0.01328273 -0.11174089  0.09557957 -0.01158089]"
       ]
      },
      {
       "output_type": "stream",
       "stream": "stdout",
       "text": [
        "\n",
        "[ 0.         -0.00391389 -0.02597403 -0.13396947  0.07718053 -0.00913172]"
       ]
      },
      {
       "output_type": "stream",
       "stream": "stdout",
       "text": [
        "\n",
        "[ 0.          0.         -0.01237113 -0.1326572   0.05766129 -0.02337985]"
       ]
      },
      {
       "output_type": "stream",
       "stream": "stdout",
       "text": [
        "\n",
        "[ 0.         -0.00397614 -0.024      -0.15245902  0.0302935   0.00112539]"
       ]
      },
      {
       "output_type": "stream",
       "stream": "stdout",
       "text": [
        "\n",
        "[-0.00194175 -0.00191939 -0.01425662 -0.10237581  0.07134387 -0.03404537]"
       ]
      },
      {
       "output_type": "stream",
       "stream": "stdout",
       "text": [
        "\n",
        "[ 0.         -0.00196464 -0.014862   -0.15412475  0.07803347 -0.02017983]"
       ]
      },
      {
       "output_type": "stream",
       "stream": "stdout",
       "text": [
        "\n",
        "[ 0.         -0.0019802  -0.02235772 -0.12727273  0.05502901 -0.01617705]"
       ]
      },
      {
       "output_type": "stream",
       "stream": "stdout",
       "text": [
        "\n",
        "[ 0.         -0.00194553 -0.01414141 -0.13747412  0.07309198 -0.0134438 ]"
       ]
      },
      {
       "output_type": "stream",
       "stream": "stdout",
       "text": [
        "\n",
        "[ 0.          0.         -0.02083333 -0.10625     0.04444444 -0.03397072]"
       ]
      },
      {
       "output_type": "stream",
       "stream": "stdout",
       "text": [
        "\n",
        "Optimization terminated successfully.\n",
        "         Current function value: 0.014560\n",
        "         Iterations: 19\n",
        "         Function evaluations: 46\n",
        "[-0.00194175  0.         -0.02574257 -0.13395872  0.04409283 -0.02883292]"
       ]
      },
      {
       "output_type": "stream",
       "stream": "stdout",
       "text": [
        "\n"
       ]
      },
      {
       "javascript": [
        "$('div#09e687dd-3a60-466f-9995-e1df5203ef35').width('76.60%')"
       ],
       "metadata": {},
       "output_type": "display_data",
       "text": [
        "<IPython.core.display.Javascript at 0x7f7334208f50>"
       ]
      },
      {
       "output_type": "stream",
       "stream": "stdout",
       "text": [
        "[ 0.05       -0.01219512 -0.01313646 -0.04132231 -0.0305668   0.00705428]\n",
        "[ 0.04798793 -0.00838574 -0.01170213  0.01911469 -0.03047809 -0.01212674]"
       ]
      },
      {
       "output_type": "stream",
       "stream": "stdout",
       "text": [
        "\n",
        "[ 0.04795918 -0.00614754  0.01907216  0.13983903  0.11358149  0.26572892]"
       ]
      },
      {
       "output_type": "stream",
       "stream": "stdout",
       "text": [
        "\n",
        "[ 0.047921   -0.01505376 -0.07810707 -0.13076923 -0.09918699 -0.13789239]"
       ]
      },
      {
       "output_type": "stream",
       "stream": "stdout",
       "text": [
        "\n",
        "[ 0.04591837 -0.01372549 -0.02831325 -0.03921569 -0.03212928 -0.01504511]"
       ]
      },
      {
       "output_type": "stream",
       "stream": "stdout",
       "text": [
        "\n",
        "[ 0.04161426 -0.05511811 -0.11463415 -0.19960474 -0.10876289 -0.13405504]"
       ]
      },
      {
       "output_type": "stream",
       "stream": "stdout",
       "text": [
        "\n",
        "[ 0.04209486 -0.02895753 -0.21284585 -0.30331263 -0.11946565 -0.4210534 ]"
       ]
      },
      {
       "output_type": "stream",
       "stream": "stdout",
       "text": [
        "\n",
        "[ 0.05       -0.01046025  0.01407186  0.06659619 -0.01336634  0.13172633]"
       ]
      },
      {
       "output_type": "stream",
       "stream": "stdout",
       "text": [
        "\n",
        "[ 0.05       -0.00205761  0.02745902  0.13488844  0.0393617   0.10579138]"
       ]
      },
      {
       "output_type": "stream",
       "stream": "stdout",
       "text": [
        "\n",
        "[ 0.05       -0.00409836  0.02307692  0.18712871  0.15277186  0.22722565]"
       ]
      },
      {
       "output_type": "stream",
       "stream": "stdout",
       "text": [
        "\n",
        "[ 0.05       -0.021611   -0.02331976 -0.03769841 -0.04779559 -0.03052899]"
       ]
      },
      {
       "output_type": "stream",
       "stream": "stdout",
       "text": [
        "\n",
        "[ 0.03393574 -0.0242915  -0.10959596 -0.14574899 -0.07693111 -0.09320587]"
       ]
      },
      {
       "output_type": "stream",
       "stream": "stdout",
       "text": [
        "\n",
        "[ 0.04602386 -0.00795229  0.00481336  0.04747475 -0.0147541   0.05962976]"
       ]
      },
      {
       "output_type": "stream",
       "stream": "stdout",
       "text": [
        "\n",
        "[ 0.05       -0.01369863 -0.01560636 -0.05642023 -0.0582774  -0.10466375]"
       ]
      },
      {
       "output_type": "stream",
       "stream": "stdout",
       "text": [
        "\n",
        "[ 0.04792961 -0.01659751 -0.03695652 -0.04918033 -0.04648437 -0.05058478]"
       ]
      },
      {
       "output_type": "stream",
       "stream": "stdout",
       "text": [
        "\n",
        "[ 0.04797571 -0.01       -0.00765408 -0.00505051 -0.01523437  0.07681565]"
       ]
      },
      {
       "output_type": "stream",
       "stream": "stdout",
       "text": [
        "\n",
        "[ 0.05       -0.00988142 -0.03576998  0.018      -0.018       0.0378569 ]"
       ]
      },
      {
       "output_type": "stream",
       "stream": "stdout",
       "text": [
        "\n",
        "[ 0.042      -0.01980198 -0.04979633 -0.13232323 -0.0425144  -0.06234059]"
       ]
      },
      {
       "output_type": "stream",
       "stream": "stdout",
       "text": [
        "\n",
        "[ 0.05       -0.01338432  0.01572581  0.03346856 -0.03062622  0.01756351]"
       ]
      },
      {
       "output_type": "stream",
       "stream": "stdout",
       "text": [
        "\n",
        "[ 0.04799599 -0.01629328  0.01806387  0.07983193  0.01054159  0.07076875]"
       ]
      },
      {
       "output_type": "stream",
       "stream": "stdout",
       "text": [
        "\n",
        "[ 0.04797571 -0.01221996 -0.00030181 -0.01367188 -0.06417166 -0.009662  ]"
       ]
      },
      {
       "output_type": "stream",
       "stream": "stdout",
       "text": [
        "\n",
        "[ 0.05       -0.01020408  0.00501022  0.04257426  0.01255144  0.02716133]"
       ]
      },
      {
       "output_type": "stream",
       "stream": "stdout",
       "text": [
        "\n",
        "[ 0.04797571 -0.01171875 -0.02531381 -0.02811245 -0.04655172 -0.00992761]"
       ]
      },
      {
       "output_type": "stream",
       "stream": "stdout",
       "text": [
        "\n",
        "[ 0.04800797 -0.01425662 -0.00991736  0.03014553 -0.01929461  0.01782736]"
       ]
      },
      {
       "output_type": "stream",
       "stream": "stdout",
       "text": [
        "\n",
        "[ 0.05       -0.00576923  0.01138211  0.02244898 -0.01046512  0.05021572]"
       ]
      },
      {
       "output_type": "stream",
       "stream": "stdout",
       "text": [
        "\n",
        "[ 0.05       -0.01178782  0.00573441  0.00387597 -0.02179487  0.028908  ]"
       ]
      },
      {
       "output_type": "stream",
       "stream": "stdout",
       "text": [
        "\n",
        "[ 0.05       -0.00856531  0.01626984  0.08884298  0.01904277  0.05615248]"
       ]
      },
      {
       "output_type": "stream",
       "stream": "stdout",
       "text": [
        "\n",
        "[ 0.04616123 -0.01402806 -0.00421687  0.01821862 -0.02524752  0.00515947]"
       ]
      },
      {
       "output_type": "stream",
       "stream": "stdout",
       "text": [
        "\n",
        "[ 0.05       -0.0125      0.01130346  0.00299401 -0.02763713 -0.01467119]"
       ]
      },
      {
       "output_type": "stream",
       "stream": "stdout",
       "text": [
        "\n",
        "[ 0.05       -0.00776699 -0.00697446  0.01313131 -0.024      -0.01195537]"
       ]
      },
      {
       "output_type": "stream",
       "stream": "stdout",
       "text": [
        "\n",
        "[ 0.05       -0.01214575  0.0035865   0.00920245 -0.01956522 -0.01953821]"
       ]
      },
      {
       "output_type": "stream",
       "stream": "stdout",
       "text": [
        "\n",
        "[ 0.05       -0.00990099 -0.00533597  0.03187251 -0.04230769 -0.04497541]"
       ]
      },
      {
       "output_type": "stream",
       "stream": "stdout",
       "text": [
        "\n",
        "[ 0.0480315  -0.00961538  0.00075758  0.03952569 -0.02384045 -0.00520806]"
       ]
      },
      {
       "output_type": "stream",
       "stream": "stdout",
       "text": [
        "\n",
        "[ 0.05       -0.00828157 -0.00144033  0.00880626 -0.02276342  0.00477025]"
       ]
      },
      {
       "output_type": "stream",
       "stream": "stdout",
       "text": [
        "\n",
        "[  4.39024390e-02  -1.79640719e-02   6.26242545e-03   9.88142292e-03\n",
        "  -9.48766603e-05   3.35740973e-02]"
       ]
      },
      {
       "output_type": "stream",
       "stream": "stdout",
       "text": [
        "\n",
        "[ 0.05       -0.01301518 -0.00737705 -0.01388889 -0.02427466  0.01388363]"
       ]
      },
      {
       "output_type": "stream",
       "stream": "stdout",
       "text": [
        "\n",
        "[ 0.05       -0.01425662  0.0092668   0.03438114 -0.02903226  0.00825299]"
       ]
      },
      {
       "output_type": "stream",
       "stream": "stdout",
       "text": [
        "\n",
        "[ 0.04791232 -0.00792079 -0.02524752  0.04669261 -0.02878788  0.03268084]"
       ]
      },
      {
       "output_type": "stream",
       "stream": "stdout",
       "text": [
        "\n",
        "[ 0.04810964 -0.01529637 -0.01378601  0.022      -0.07125984 -0.01759361]"
       ]
      },
      {
       "output_type": "stream",
       "stream": "stdout",
       "text": [
        "\n",
        "[ 0.04799197 -0.01713062  0.00284872  0.06673114 -0.01868687  0.01098332]"
       ]
      },
      {
       "output_type": "stream",
       "stream": "stdout",
       "text": [
        "\n",
        "[ 0.05       -0.00400802 -0.02628866  0.04414784 -0.03118812  0.02537237]"
       ]
      },
      {
       "output_type": "stream",
       "stream": "stdout",
       "text": [
        "\n",
        "[ 0.05       -0.02376238 -0.00882353  0.00493097  0.00631692  0.00857788]"
       ]
      },
      {
       "output_type": "stream",
       "stream": "stdout",
       "text": [
        "\n",
        "[ 0.05       -0.01239669 -0.00378486 -0.01307847 -0.05336134 -0.01059133]"
       ]
      },
      {
       "output_type": "stream",
       "stream": "stdout",
       "text": [
        "\n",
        "[ 0.04803536 -0.01197605 -0.00479452  0.03488372 -0.00628743 -0.00245084]"
       ]
      },
      {
       "output_type": "stream",
       "stream": "stdout",
       "text": [
        "\n",
        "[ 0.04799599 -0.01380671  0.00418327  0.01659751 -0.05781563  0.02797317]"
       ]
      },
      {
       "output_type": "stream",
       "stream": "stdout",
       "text": [
        "\n",
        "Optimization terminated successfully.\n",
        "         Current function value: 0.003189\n",
        "         Iterations: 18\n",
        "         Function evaluations: 45\n",
        "[ 0.05       -0.00996016 -0.00919662 -0.01503759 -0.03686869  0.00209193]"
       ]
      },
      {
       "output_type": "stream",
       "stream": "stdout",
       "text": [
        "\n"
       ]
      },
      {
       "javascript": [
        "$('div#09e687dd-3a60-466f-9995-e1df5203ef35').width('78.72%')"
       ],
       "metadata": {},
       "output_type": "display_data",
       "text": [
        "<IPython.core.display.Javascript at 0x7f733401e7d0>"
       ]
      },
      {
       "output_type": "stream",
       "stream": "stdout",
       "text": [
        "[ 0.         -0.01185771 -0.02936508  0.08310139  0.10728745 -0.00133369]\n",
        "[ 0.         -0.00842105 -0.00702648  0.08948375  0.11350294  0.00573149]"
       ]
      },
      {
       "output_type": "stream",
       "stream": "stdout",
       "text": [
        "\n",
        "[-0.0019802   0.          0.01987952  0.23137255  0.24472574  0.24223971]"
       ]
      },
      {
       "output_type": "stream",
       "stream": "stdout",
       "text": [
        "\n",
        "[-0.00617284 -0.0417495  -0.06422846 -0.06806723  0.05566219 -0.13923356]"
       ]
      },
      {
       "output_type": "stream",
       "stream": "stdout",
       "text": [
        "\n",
        "[-0.00390625 -0.01369863 -0.03543689  0.05691383  0.10887097 -0.00107082]"
       ]
      },
      {
       "output_type": "stream",
       "stream": "stdout",
       "text": [
        "\n",
        "[-0.00591716 -0.056      -0.09951456 -0.08470149  0.05577689 -0.12570495]"
       ]
      },
      {
       "output_type": "stream",
       "stream": "stdout",
       "text": [
        "\n",
        "[-0.01026694 -0.05906314 -0.20708502 -0.20990099  0.02095238 -0.42445968]"
       ]
      },
      {
       "output_type": "stream",
       "stream": "stdout",
       "text": [
        "\n",
        "[-0.00400802 -0.00199601  0.01480331  0.13737374  0.15895372  0.11613181]"
       ]
      },
      {
       "output_type": "stream",
       "stream": "stdout",
       "text": [
        "\n",
        "[-0.004158   -0.01711027 -0.08018868 -0.06923077  0.03795066 -0.23582581]"
       ]
      },
      {
       "output_type": "stream",
       "stream": "stdout",
       "text": [
        "\n",
        "[ 0.         -0.01886792 -0.01420233  0.09290061  0.11553785  0.03773694]"
       ]
      },
      {
       "output_type": "stream",
       "stream": "stdout",
       "text": [
        "\n",
        "[ 0.         -0.01204819  0.01326531  0.19363296  0.16734694  0.07493738]"
       ]
      },
      {
       "output_type": "stream",
       "stream": "stdout",
       "text": [
        "\n",
        "[-0.00576923 -0.03112033 -0.06336032 -0.05922921  0.07142857 -0.06265397]"
       ]
      },
      {
       "output_type": "stream",
       "stream": "stdout",
       "text": [
        "\n",
        "[-0.00197628 -0.00984252  0.002       0.18860759  0.20675944  0.11885232]"
       ]
      },
      {
       "output_type": "stream",
       "stream": "stdout",
       "text": [
        "\n",
        "[ 0.         -0.01443299 -0.04883721  0.03286573  0.1090535  -0.09057476]"
       ]
      },
      {
       "output_type": "stream",
       "stream": "stdout",
       "text": [
        "\n",
        "[-0.00411523 -0.03076923 -0.03086785 -0.02145749  0.06936416 -0.08070203]"
       ]
      },
      {
       "output_type": "stream",
       "stream": "stdout",
       "text": [
        "\n",
        "[-0.00631579 -0.02118644 -0.06155378 -0.02040816  0.08163265 -0.1649798 ]"
       ]
      },
      {
       "output_type": "stream",
       "stream": "stdout",
       "text": [
        "\n",
        "[ 0.         -0.01119403 -0.00284553  0.11807229  0.15175097 -0.00393136]"
       ]
      },
      {
       "output_type": "stream",
       "stream": "stdout",
       "text": [
        "\n",
        "[-0.00392157 -0.01171875 -0.02350097  0.02829828  0.09635974 -0.06149089]"
       ]
      },
      {
       "output_type": "stream",
       "stream": "stdout",
       "text": [
        "\n",
        "[-0.00788955 -0.03885481 -0.10942029 -0.05753425  0.0867052  -0.06765891]"
       ]
      },
      {
       "output_type": "stream",
       "stream": "stdout",
       "text": [
        "\n",
        "[-0.00192678 -0.01369863  0.00519348  0.09385246  0.10019268 -0.03224819]"
       ]
      },
      {
       "output_type": "stream",
       "stream": "stdout",
       "text": [
        "\n",
        "[-0.00208333 -0.02376238 -0.05970464 -0.02068966  0.08768657 -0.06238927]"
       ]
      },
      {
       "output_type": "stream",
       "stream": "stdout",
       "text": [
        "\n",
        "[-0.0019802  -0.02312139 -0.05436433 -0.01676647  0.05521472 -0.11511297]"
       ]
      },
      {
       "output_type": "stream",
       "stream": "stdout",
       "text": [
        "\n",
        "[ 0.         -0.02165354 -0.0125      0.04422701  0.10707071 -0.01724777]"
       ]
      },
      {
       "output_type": "stream",
       "stream": "stdout",
       "text": [
        "\n",
        "[ 0.         -0.00204918 -0.01198347  0.01428571  0.12228797 -0.03015887]"
       ]
      },
      {
       "output_type": "stream",
       "stream": "stdout",
       "text": [
        "\n",
        "[-0.00372439 -0.01730769 -0.03961303  0.03700787  0.08713693 -0.09128156]"
       ]
      },
      {
       "output_type": "stream",
       "stream": "stdout",
       "text": [
        "\n",
        "[-0.00198413 -0.02466793 -0.04611452  0.04176707  0.0862423  -0.01776438]"
       ]
      },
      {
       "output_type": "stream",
       "stream": "stdout",
       "text": [
        "\n",
        "[-0.01020408 -0.02970297 -0.07830957 -0.01458333  0.07489879 -0.07183908]"
       ]
      },
      {
       "output_type": "stream",
       "stream": "stdout",
       "text": [
        "\n",
        "[-0.00198807 -0.00790514 -0.01903766  0.03292683  0.12348178 -0.04859635]"
       ]
      },
      {
       "output_type": "stream",
       "stream": "stdout",
       "text": [
        "\n",
        "[-0.00404858 -0.00952381 -0.03203125  0.05233266  0.07991803 -0.03700016]"
       ]
      },
      {
       "output_type": "stream",
       "stream": "stdout",
       "text": [
        "\n",
        "[ 0.         -0.02729045 -0.02645875  0.052       0.11067194 -0.02842901]"
       ]
      },
      {
       "output_type": "stream",
       "stream": "stdout",
       "text": [
        "\n",
        "[-0.00204499 -0.01941748 -0.04611452  0.01513292  0.1124031  -0.04417025]"
       ]
      },
      {
       "output_type": "stream",
       "stream": "stdout",
       "text": [
        "\n",
        "[-0.00613497 -0.02169625 -0.02736944 -0.00965795  0.07922912 -0.04512118]"
       ]
      },
      {
       "output_type": "stream",
       "stream": "stdout",
       "text": [
        "\n",
        "[ 0.         -0.00767754 -0.03695652  0.05585216  0.10546139 -0.00721426]"
       ]
      },
      {
       "output_type": "stream",
       "stream": "stdout",
       "text": [
        "\n",
        "[-0.00607287 -0.01851852 -0.0548218   0.02971888  0.10060362 -0.03890665]"
       ]
      },
      {
       "output_type": "stream",
       "stream": "stdout",
       "text": [
        "\n",
        "[-0.00403226 -0.0101626  -0.0046875   0.02857143  0.10505051 -0.03880534]"
       ]
      },
      {
       "output_type": "stream",
       "stream": "stdout",
       "text": [
        "\n",
        "[-0.012      -0.01612903 -0.00988024  0.01682975  0.08134921 -0.02860562]"
       ]
      },
      {
       "output_type": "stream",
       "stream": "stdout",
       "text": [
        "\n",
        "[-0.00201207 -0.01764706 -0.03193277  0.04721689  0.11133603 -0.04679768]"
       ]
      },
      {
       "output_type": "stream",
       "stream": "stdout",
       "text": [
        "\n",
        "[-0.00796813 -0.02310924 -0.04072581 -0.00956175  0.0589391  -0.08123943]"
       ]
      },
      {
       "output_type": "stream",
       "stream": "stdout",
       "text": [
        "\n",
        "[ 0.         -0.01242236 -0.04375    -0.00337553  0.06870229 -0.03529207]"
       ]
      },
      {
       "output_type": "stream",
       "stream": "stdout",
       "text": [
        "\n",
        "[-0.00756144 -0.01422764 -0.04090909  0.02943548  0.09494949 -0.04107667]"
       ]
      },
      {
       "output_type": "stream",
       "stream": "stdout",
       "text": [
        "\n",
        "[ 0.         -0.02195609 -0.02214429  0.06730769  0.08447937 -0.02705505]"
       ]
      },
      {
       "output_type": "stream",
       "stream": "stdout",
       "text": [
        "\n",
        "[-0.00202429 -0.02941176 -0.04979633  0.04827586  0.09347826 -0.06574327]"
       ]
      },
      {
       "output_type": "stream",
       "stream": "stdout",
       "text": [
        "\n",
        "[-0.00603622 -0.0141129  -0.01986028  0.01129032  0.09215686 -0.03267331]"
       ]
      },
      {
       "output_type": "stream",
       "stream": "stdout",
       "text": [
        "\n",
        "[ 0.         -0.01727447 -0.0367052   0.00501044  0.11825726 -0.02214017]"
       ]
      },
      {
       "output_type": "stream",
       "stream": "stdout",
       "text": [
        "\n",
        "[-0.00193798 -0.01276596 -0.03123791  0.02126789  0.10386965 -0.0459787 ]"
       ]
      },
      {
       "output_type": "stream",
       "stream": "stdout",
       "text": [
        "\n",
        "[-0.00594059 -0.02471483 -0.02531381  0.04807692  0.1026616  -0.04210026]"
       ]
      },
      {
       "output_type": "stream",
       "stream": "stdout",
       "text": [
        "\n",
        "[ 0.         -0.01574803 -0.04611452  0.05050505  0.09631148 -0.05879976]"
       ]
      },
      {
       "output_type": "stream",
       "stream": "stdout",
       "text": [
        "\n",
        "Optimization terminated successfully.\n",
        "         Current function value: 0.008045\n",
        "         Iterations: 19\n",
        "         Function evaluations: 47\n",
        "[-0.00414938 -0.0221328  -0.04803922  0.04488189  0.08426966 -0.04209193]"
       ]
      },
      {
       "output_type": "stream",
       "stream": "stdout",
       "text": [
        "\n"
       ]
      },
      {
       "javascript": [
        "$('div#09e687dd-3a60-466f-9995-e1df5203ef35').width('80.85%')"
       ],
       "metadata": {},
       "output_type": "display_data",
       "text": [
        "<IPython.core.display.Javascript at 0x7f733420a250>"
       ]
      },
      {
       "output_type": "stream",
       "stream": "stdout",
       "text": [
        "[ 0.04799599 -0.02886598  0.0270217   0.27430279  0.11764706  0.10377084]\n",
        "[ 0.05       -0.00197239  0.04313725  0.374       0.13449024  0.10477069]"
       ]
      },
      {
       "output_type": "stream",
       "stream": "stdout",
       "text": [
        "\n",
        "[ 0.05       -0.00996016  0.07633136  0.53537074  0.24631579  0.37310651]"
       ]
      },
      {
       "output_type": "stream",
       "stream": "stdout",
       "text": [
        "\n",
        "[ 0.04795918 -0.02464066  0.00998043  0.17991803  0.05758157 -0.05339151]"
       ]
      },
      {
       "output_type": "stream",
       "stream": "stdout",
       "text": [
        "\n",
        "[ 0.04418605 -0.00775194  0.04219653  0.28636364  0.0995935   0.08580204]"
       ]
      },
      {
       "output_type": "stream",
       "stream": "stdout",
       "text": [
        "\n",
        "[ 0.02890295 -0.04684318 -0.08055556  0.16764706  0.06776181 -0.01839127]"
       ]
      },
      {
       "output_type": "stream",
       "stream": "stdout",
       "text": [
        "\n",
        "[ 0.03765432 -0.04942966 -0.16734694  0.04839679  0.01606426 -0.33057115]"
       ]
      },
      {
       "output_type": "stream",
       "stream": "stdout",
       "text": [
        "\n",
        "[ 0.0460396  -0.08502024 -0.16522593  0.06529175  0.02554028 -0.1711692 ]"
       ]
      },
      {
       "output_type": "stream",
       "stream": "stdout",
       "text": [
        "\n",
        "[ 0.04801587 -0.01217039  0.04789579  0.40186722  0.17706237  0.28881441]"
       ]
      },
      {
       "output_type": "stream",
       "stream": "stdout",
       "text": [
        "\n",
        "[ 0.04805068 -0.052      -0.09354839  0.13340081  0.02589641 -0.16944918]"
       ]
      },
      {
       "output_type": "stream",
       "stream": "stdout",
       "text": [
        "\n",
        "[ 0.03638132 -0.0761523  -0.15363825  0.0559448   0.02057613 -0.22334417]"
       ]
      },
      {
       "output_type": "stream",
       "stream": "stdout",
       "text": [
        "\n",
        "[ 0.02714286 -0.126      -0.28857143 -0.03023952  0.01590457 -0.35123266]"
       ]
      },
      {
       "output_type": "stream",
       "stream": "stdout",
       "text": [
        "\n",
        "[ 0.04383984 -0.03250478 -0.02793177  0.22142857  0.04417671 -0.0124835 ]"
       ]
      },
      {
       "output_type": "stream",
       "stream": "stdout",
       "text": [
        "\n",
        "[ 0.04419729 -0.00963391  0.00593047  0.2714876   0.09533469  0.07667752]"
       ]
      },
      {
       "output_type": "stream",
       "stream": "stdout",
       "text": [
        "\n",
        "[ 0.04023438 -0.04527559 -0.13595506  0.08404255  0.04191617 -0.15088891]"
       ]
      },
      {
       "output_type": "stream",
       "stream": "stdout",
       "text": [
        "\n",
        "[ 0.05       -0.02291667  0.00994371  0.27145594  0.09054326  0.02483841]"
       ]
      },
      {
       "output_type": "stream",
       "stream": "stdout",
       "text": [
        "\n",
        "[ 0.03646035 -0.04930966 -0.078       0.12309237  0.03353057 -0.1346097 ]"
       ]
      },
      {
       "output_type": "stream",
       "stream": "stdout",
       "text": [
        "\n",
        "[ 0.04591837 -0.03434343 -0.04658635  0.16120332  0.05961538 -0.00453876]"
       ]
      },
      {
       "output_type": "stream",
       "stream": "stdout",
       "text": [
        "\n",
        "[ 0.04203187 -0.03393214 -0.03121272  0.17490272  0.07910751  0.10457614]"
       ]
      },
      {
       "output_type": "stream",
       "stream": "stdout",
       "text": [
        "\n",
        "[ 0.04796334 -0.0625     -0.12332016  0.13803245  0.03485839 -0.12574246]"
       ]
      },
      {
       "output_type": "stream",
       "stream": "stdout",
       "text": [
        "\n",
        "[ 0.03848369 -0.03187251 -0.04503817  0.16092437  0.05197505 -0.03347511]"
       ]
      },
      {
       "output_type": "stream",
       "stream": "stdout",
       "text": [
        "\n",
        "[ 0.05       -0.02352941 -0.02720157  0.18808554  0.0755102   0.05253383]"
       ]
      },
      {
       "output_type": "stream",
       "stream": "stdout",
       "text": [
        "\n",
        "[ 0.04382716 -0.02294455 -0.03426854  0.21499069  0.05664062  0.01995216]"
       ]
      },
      {
       "output_type": "stream",
       "stream": "stdout",
       "text": [
        "\n",
        "[ 0.04599198 -0.025878   -0.04957265  0.17298137  0.06213592 -0.025307  ]"
       ]
      },
      {
       "output_type": "stream",
       "stream": "stdout",
       "text": [
        "\n",
        "[ 0.04808061 -0.03036437 -0.02096774  0.14243354  0.05500982 -0.0413591 ]"
       ]
      },
      {
       "output_type": "stream",
       "stream": "stdout",
       "text": [
        "\n",
        "[ 0.04600798 -0.03601695 -0.06860465  0.16762295  0.06090373 -0.02974692]"
       ]
      },
      {
       "output_type": "stream",
       "stream": "stdout",
       "text": [
        "\n",
        "[ 0.042      -0.02631579 -0.06600791  0.1444664   0.05019305 -0.07631633]"
       ]
      },
      {
       "output_type": "stream",
       "stream": "stdout",
       "text": [
        "\n",
        "[ 0.0393617  -0.04502814 -0.08913481  0.12148438  0.04526749 -0.09536047]"
       ]
      },
      {
       "output_type": "stream",
       "stream": "stdout",
       "text": [
        "\n",
        "[ 0.03953975 -0.02434077 -0.04910537  0.14761905  0.04375    -0.07415398]"
       ]
      },
      {
       "output_type": "stream",
       "stream": "stdout",
       "text": [
        "\n",
        "[ 0.04170124 -0.04604052 -0.07358491  0.14158513  0.046875   -0.13078044]"
       ]
      },
      {
       "output_type": "stream",
       "stream": "stdout",
       "text": [
        "\n",
        "[ 0.03987854 -0.0304878  -0.05324165  0.17335329  0.05476673 -0.02988067]"
       ]
      },
      {
       "output_type": "stream",
       "stream": "stdout",
       "text": [
        "\n",
        "[ 0.04415205 -0.0392562  -0.05230461  0.11506024  0.02834008 -0.10381087]"
       ]
      },
      {
       "output_type": "stream",
       "stream": "stdout",
       "text": [
        "\n",
        "[ 0.04001996 -0.044       0.0039666   0.20445545  0.06762295 -0.04223135]"
       ]
      },
      {
       "output_type": "stream",
       "stream": "stdout",
       "text": [
        "\n",
        "[ 0.04193548 -0.03427419 -0.07047817  0.12380952  0.05084746 -0.07938814]"
       ]
      },
      {
       "output_type": "stream",
       "stream": "stdout",
       "text": [
        "\n",
        "[ 0.04797571 -0.02636917 -0.00816327  0.1583004   0.05823293 -0.03871392]"
       ]
      },
      {
       "output_type": "stream",
       "stream": "stdout",
       "text": [
        "\n",
        "[ 0.04798793 -0.02208835 -0.02790698  0.1622449   0.04015296 -0.11099607]"
       ]
      },
      {
       "output_type": "stream",
       "stream": "stdout",
       "text": [
        "\n",
        "[ 0.04217221 -0.05708661 -0.00805501  0.15857143  0.05       -0.06098745]"
       ]
      },
      {
       "output_type": "stream",
       "stream": "stdout",
       "text": [
        "\n",
        "[ 0.04252336 -0.02929688 -0.01359026  0.22396694  0.07920792 -0.07057478]"
       ]
      },
      {
       "output_type": "stream",
       "stream": "stdout",
       "text": [
        "\n",
        "[ 0.04796748 -0.03658537 -0.06377649  0.14714286  0.05432596 -0.06474333]"
       ]
      },
      {
       "output_type": "stream",
       "stream": "stdout",
       "text": [
        "\n",
        "[ 0.05       -0.03769841 -0.04084507  0.21363636  0.04408818 -0.05848601]"
       ]
      },
      {
       "output_type": "stream",
       "stream": "stdout",
       "text": [
        "\n",
        "[ 0.04802761 -0.01325758 -0.0592233   0.20378323  0.04101562 -0.05031782]"
       ]
      },
      {
       "output_type": "stream",
       "stream": "stdout",
       "text": [
        "\n",
        "[ 0.04417476 -0.03168317 -0.04092664  0.16262136  0.07128713 -0.03512872]"
       ]
      },
      {
       "output_type": "stream",
       "stream": "stdout",
       "text": [
        "\n",
        "[ 0.04589322 -0.0155642  -0.04747475  0.19038055  0.046      -0.03312114]"
       ]
      },
      {
       "output_type": "stream",
       "stream": "stdout",
       "text": [
        "\n",
        "[ 0.04590164 -0.0214425  -0.01359026  0.20102041  0.04918033 -0.04049839]"
       ]
      },
      {
       "output_type": "stream",
       "stream": "stdout",
       "text": [
        "\n",
        "[ 0.04236641 -0.03193613 -0.04194915  0.16919192  0.03719008 -0.03297029]"
       ]
      },
      {
       "output_type": "stream",
       "stream": "stdout",
       "text": [
        "\n",
        "[ 0.03953975 -0.03187251 -0.01184211  0.23811881  0.05378486 -0.01388193]"
       ]
      },
      {
       "output_type": "stream",
       "stream": "stdout",
       "text": [
        "\n",
        "[ 0.04190283 -0.03125    -0.06895874  0.2125      0.06189555 -0.04309056]"
       ]
      },
      {
       "output_type": "stream",
       "stream": "stdout",
       "text": [
        "\n",
        "[ 0.04389002 -0.02339181 -0.01500975  0.20586481  0.04056795 -0.02929585]"
       ]
      },
      {
       "output_type": "stream",
       "stream": "stdout",
       "text": [
        "\n",
        "[ 0.04795082 -0.03292181 -0.0496063   0.20569106  0.05031447 -0.05518867]"
       ]
      },
      {
       "output_type": "stream",
       "stream": "stdout",
       "text": [
        "\n",
        "[ 0.05       -0.01568627 -0.05257732  0.19518828  0.05813953 -0.03556655]"
       ]
      },
      {
       "output_type": "stream",
       "stream": "stdout",
       "text": [
        "\n",
        "[ 0.04790356 -0.02708333 -0.02871287  0.20950413  0.0620985  -0.04593192]"
       ]
      },
      {
       "output_type": "stream",
       "stream": "stdout",
       "text": [
        "\n",
        "[ 0.04395161 -0.02339181 -0.01111111  0.17755299  0.06118143 -0.06315696]"
       ]
      },
      {
       "output_type": "stream",
       "stream": "stdout",
       "text": [
        "\n",
        "Optimization terminated successfully.\n",
        "         Current function value: 0.028697\n",
        "         Iterations: 21\n",
        "         Function evaluations: 52\n",
        "[ 0.04610895 -0.02947368  0.00180361  0.19105263  0.07480315 -0.02604019]"
       ]
      },
      {
       "output_type": "stream",
       "stream": "stdout",
       "text": [
        "\n"
       ]
      },
      {
       "javascript": [
        "$('div#09e687dd-3a60-466f-9995-e1df5203ef35').width('82.98%')"
       ],
       "metadata": {},
       "output_type": "display_data",
       "text": [
        "<IPython.core.display.Javascript at 0x7f73340415d0>"
       ]
      },
      {
       "output_type": "stream",
       "stream": "stdout",
       "text": [
        "[-0.00197239  0.0358871   0.39409938  0.40901639  0.11498973  0.2987371 ]\n",
        "[ 0.          0.04085923  0.40652174  0.47977413  0.1302521   0.27639417]"
       ]
      },
      {
       "output_type": "stream",
       "stream": "stdout",
       "text": [
        "\n",
        "[ 0.          0.04383984  0.42070312  0.62622951  0.29859719  0.5516567 ]"
       ]
      },
      {
       "output_type": "stream",
       "stream": "stdout",
       "text": [
        "\n",
        "[-0.00206186  0.02987928  0.30769231  0.28727811  0.0499002   0.15527018]"
       ]
      },
      {
       "output_type": "stream",
       "stream": "stdout",
       "text": [
        "\n",
        "[-0.00205339  0.03272138  0.36522158  0.39258873  0.13737374  0.29292978]"
       ]
      },
      {
       "output_type": "stream",
       "stream": "stdout",
       "text": [
        "\n",
        "[-0.00193424  0.00306122  0.31        0.20748503  0.03448276  0.18537068]"
       ]
      },
      {
       "output_type": "stream",
       "stream": "stdout",
       "text": [
        "\n",
        "[-0.01149425 -0.012       0.19642127  0.15204082  0.02886598 -0.1300802 ]"
       ]
      },
      {
       "output_type": "stream",
       "stream": "stdout",
       "text": [
        "\n",
        "[-0.03483607 -0.10944882 -0.05483559  0.01412826  0.00194553 -0.51473321]"
       ]
      },
      {
       "output_type": "stream",
       "stream": "stdout",
       "text": [
        "\n",
        "[-0.00793651 -0.03677686  0.19749499  0.17700587  0.01351351  0.03177903]"
       ]
      },
      {
       "output_type": "stream",
       "stream": "stdout",
       "text": [
        "\n",
        "[-0.05498982 -0.11730769  0.03171206  0.02740586  0.0125261  -0.12183514]"
       ]
      },
      {
       "output_type": "stream",
       "stream": "stdout",
       "text": [
        "\n",
        "[-0.01431493 -0.08238289  0.11144814  0.05597303  0.01632653 -0.15926142]"
       ]
      },
      {
       "output_type": "stream",
       "stream": "stdout",
       "text": [
        "\n",
        "[-0.06147541 -0.15980392 -0.09563107  0.00765408  0.         -0.3158805 ]"
       ]
      },
      {
       "output_type": "stream",
       "stream": "stdout",
       "text": [
        "\n",
        "[-0.12701613 -0.28134921 -0.18636364 -0.002       0.         -0.41507618]"
       ]
      },
      {
       "output_type": "stream",
       "stream": "stdout",
       "text": [
        "\n",
        "[-0.00847458  0.00368421  0.23571429  0.19023438  0.03944773  0.01937564]"
       ]
      },
      {
       "output_type": "stream",
       "stream": "stdout",
       "text": [
        "\n",
        "[-0.07198444 -0.20303644 -0.09757282 -0.00934959  0.00390625 -0.44131868]"
       ]
      },
      {
       "output_type": "stream",
       "stream": "stdout",
       "text": [
        "\n",
        "[-0.02148438 -0.02014028  0.22358491  0.10568862  0.02357564  0.01794808]"
       ]
      },
      {
       "output_type": "stream",
       "stream": "stdout",
       "text": [
        "\n",
        "[-0.00197239  0.01170213  0.33114754  0.33636364  0.07587549  0.18186731]"
       ]
      },
      {
       "output_type": "stream",
       "stream": "stdout",
       "text": [
        "\n",
        "[-0.03795066 -0.10090543  0.01972112  0.04619238  0.00649351 -0.20407904]"
       ]
      },
      {
       "output_type": "stream",
       "stream": "stdout",
       "text": [
        "\n",
        "[-0.05609284 -0.15703125 -0.02808765  0.03737864  0.01183432 -0.26305415]"
       ]
      },
      {
       "output_type": "stream",
       "stream": "stdout",
       "text": [
        "\n",
        "[-0.01181102 -0.0242268   0.19036511  0.13982387  0.02916667 -0.05038049]"
       ]
      },
      {
       "output_type": "stream",
       "stream": "stdout",
       "text": [
        "\n",
        "[-0.05343511 -0.150883    0.00935614  0.03888889  0.00793651 -0.09227824]"
       ]
      },
      {
       "output_type": "stream",
       "stream": "stdout",
       "text": [
        "\n",
        "[-0.07224335 -0.15328542 -0.08254438  0.01986028  0.00619835 -0.2568634 ]"
       ]
      },
      {
       "output_type": "stream",
       "stream": "stdout",
       "text": [
        "\n",
        "[-0.02226721 -0.05379242  0.1159919   0.09401623  0.03205128 -0.04975391]"
       ]
      },
      {
       "output_type": "stream",
       "stream": "stdout",
       "text": [
        "\n",
        "[-0.07047619 -0.16659919 -0.08413655  0.00405405  0.00858369 -0.19644993]"
       ]
      },
      {
       "output_type": "stream",
       "stream": "stdout",
       "text": [
        "\n",
        "[-0.02489627 -0.05227273  0.13218623  0.11666667  0.01789264 -0.07101653]"
       ]
      },
      {
       "output_type": "stream",
       "stream": "stdout",
       "text": [
        "\n",
        "[-0.0254902  -0.06919192  0.12219917  0.10809524  0.02008032  0.00875371]"
       ]
      },
      {
       "output_type": "stream",
       "stream": "stdout",
       "text": [
        "\n",
        "[-0.04528302 -0.10991903  0.06829026  0.10267176  0.02053388  0.03219471]"
       ]
      },
      {
       "output_type": "stream",
       "stream": "stdout",
       "text": [
        "\n",
        "[-0.062249   -0.13145957  0.00666004  0.05060362  0.01367188 -0.00455003]"
       ]
      },
      {
       "output_type": "stream",
       "stream": "stdout",
       "text": [
        "\n",
        "[-0.08118812 -0.20984252 -0.03207171  0.06218569  0.0125261   0.02878683]"
       ]
      },
      {
       "output_type": "stream",
       "stream": "stdout",
       "text": [
        "\n",
        "[-0.02680412 -0.04876543  0.15948617  0.10444015  0.01361868  0.01350304]"
       ]
      },
      {
       "output_type": "stream",
       "stream": "stdout",
       "text": [
        "\n",
        "[-0.04276986 -0.09258189  0.02677165  0.06201629  0.0155642  -0.06019566]"
       ]
      },
      {
       "output_type": "stream",
       "stream": "stdout",
       "text": [
        "\n",
        "[-0.0499002  -0.08069307  0.108       0.09196242  0.02357564  0.09522254]"
       ]
      },
      {
       "output_type": "stream",
       "stream": "stdout",
       "text": [
        "\n",
        "[-0.0511811  -0.10444015  0.0625      0.06546392  0.00398406 -0.0670614 ]"
       ]
      },
      {
       "output_type": "stream",
       "stream": "stdout",
       "text": [
        "\n",
        "[-0.04842105 -0.11733871  0.02083333  0.05240964  0.00585938 -0.08278563]"
       ]
      },
      {
       "output_type": "stream",
       "stream": "stdout",
       "text": [
        "\n",
        "[-0.0334728  -0.11427105  0.04236948  0.05769231  0.01026694 -0.1163623 ]"
       ]
      },
      {
       "output_type": "stream",
       "stream": "stdout",
       "text": [
        "\n",
        "[-0.0524109  -0.12161017  0.10322581  0.09457831  0.01232033 -0.00637885]"
       ]
      },
      {
       "output_type": "stream",
       "stream": "stdout",
       "text": [
        "\n",
        "[-0.03910615 -0.15689655  0.0194165   0.04288538  0.01568627 -0.03740168]"
       ]
      },
      {
       "output_type": "stream",
       "stream": "stdout",
       "text": [
        "\n",
        "[-0.04123711 -0.10918367  0.01984479  0.06252654  0.01612903 -0.07493786]"
       ]
      },
      {
       "output_type": "stream",
       "stream": "stdout",
       "text": [
        "\n",
        "[-0.04024145 -0.10674603  0.06087866  0.06445783  0.01214575 -0.05530253]"
       ]
      },
      {
       "output_type": "stream",
       "stream": "stdout",
       "text": [
        "\n",
        "[-0.03483607 -0.05386965  0.10680473  0.09541833  0.02480916 -0.06354795]"
       ]
      },
      {
       "output_type": "stream",
       "stream": "stdout",
       "text": [
        "\n",
        "[-0.04081633 -0.11570328  0.02738095  0.0890593   0.01980198 -0.03219899]"
       ]
      },
      {
       "output_type": "stream",
       "stream": "stdout",
       "text": [
        "\n",
        "[-0.02254098 -0.09370079  0.10116279  0.07809917  0.01318267 -0.05954763]"
       ]
      },
      {
       "output_type": "stream",
       "stream": "stdout",
       "text": [
        "\n",
        "[-0.04868154 -0.0742485   0.06598441  0.09426877  0.01048218 -0.06348311]"
       ]
      },
      {
       "output_type": "stream",
       "stream": "stdout",
       "text": [
        "\n",
        "[-0.06288032 -0.14322709  0.03116232  0.04859155  0.01512287 -0.04754905]"
       ]
      },
      {
       "output_type": "stream",
       "stream": "stdout",
       "text": [
        "\n",
        "[-0.05976096 -0.09371257  0.04453782  0.09285714  0.01810865 -0.06551168]"
       ]
      },
      {
       "output_type": "stream",
       "stream": "stdout",
       "text": [
        "\n",
        "[-0.04901961 -0.08861386  0.02991803  0.0759542   0.00647948 -0.05300135]"
       ]
      },
      {
       "output_type": "stream",
       "stream": "stdout",
       "text": [
        "\n",
        "[-0.07581967 -0.14591837  0.01916996  0.05694184  0.01226994 -0.03481018]"
       ]
      },
      {
       "output_type": "stream",
       "stream": "stdout",
       "text": [
        "\n",
        "[-0.038      -0.09341085  0.05351562  0.08916501  0.01810865 -0.04642699]"
       ]
      },
      {
       "output_type": "stream",
       "stream": "stdout",
       "text": [
        "\n",
        "[-0.04715128 -0.10737052  0.05437376  0.06264822  0.00582524 -0.10431243]"
       ]
      },
      {
       "output_type": "stream",
       "stream": "stdout",
       "text": [
        "\n",
        "[-0.0502008  -0.11735537  0.04722222  0.0821499   0.01590457 -0.03987134]"
       ]
      },
      {
       "output_type": "stream",
       "stream": "stdout",
       "text": [
        "\n",
        "[-0.066      -0.12635271 -0.00825243  0.06111111  0.01757812 -0.05240264]"
       ]
      },
      {
       "output_type": "stream",
       "stream": "stdout",
       "text": [
        "\n",
        "[-0.04715128 -0.112       0.08561077  0.076       0.02083333 -0.05434853]"
       ]
      },
      {
       "output_type": "stream",
       "stream": "stdout",
       "text": [
        "\n",
        "[-0.05633803 -0.08167939 -0.00674044  0.08654618  0.01156069 -0.04907212]"
       ]
      },
      {
       "output_type": "stream",
       "stream": "stdout",
       "text": [
        "\n",
        "[-0.05031447 -0.09880952  0.07156863  0.07024048  0.01577909 -0.04198114]"
       ]
      },
      {
       "output_type": "stream",
       "stream": "stdout",
       "text": [
        "\n",
        "[-0.04417671 -0.12043121  0.06089494  0.10667311  0.02357564 -0.02916119]"
       ]
      },
      {
       "output_type": "stream",
       "stream": "stdout",
       "text": [
        "\n",
        "Optimization terminated successfully.\n",
        "         Current function value: 0.018829\n",
        "         Iterations: 24\n",
        "         Function evaluations: 55\n",
        "[-0.03913043 -0.11869919  0.03350951  0.08152401  0.00189753 -0.06307612]"
       ]
      },
      {
       "output_type": "stream",
       "stream": "stdout",
       "text": [
        "\n"
       ]
      },
      {
       "javascript": [
        "$('div#09e687dd-3a60-466f-9995-e1df5203ef35').width('85.11%')"
       ],
       "metadata": {},
       "output_type": "display_data",
       "text": [
        "<IPython.core.display.Javascript at 0x7f733420ad10>"
       ]
      },
      {
       "output_type": "stream",
       "stream": "stdout",
       "text": [
        "[ 0.          0.045842   -0.04072978 -0.08297872  0.04433962 -0.0200725 ]\n",
        "[-0.00215983  0.04373695  0.01066253 -0.09899396  0.10132924 -0.03146416]"
       ]
      },
      {
       "output_type": "stream",
       "stream": "stdout",
       "text": [
        "\n",
        "[-0.00206186  0.0421875   0.01767677  0.062       0.21857143  0.23121116]"
       ]
      },
      {
       "output_type": "stream",
       "stream": "stdout",
       "text": [
        "\n",
        "[-0.00196464  0.02565923 -0.04338521 -0.22033195  0.02361963 -0.17804844]"
       ]
      },
      {
       "output_type": "stream",
       "stream": "stdout",
       "text": [
        "\n",
        "[-0.0019305   0.03997996 -0.01707317 -0.16581532  0.09928425 -0.02768318]"
       ]
      },
      {
       "output_type": "stream",
       "stream": "stdout",
       "text": [
        "\n",
        "[-0.0095057   0.00516569 -0.13091451 -0.29573643  0.00918367 -0.1660868 ]"
       ]
      },
      {
       "output_type": "stream",
       "stream": "stdout",
       "text": [
        "\n",
        "[ 0.          0.04381443  0.03661568  0.11543086  0.18314066  0.13978818]"
       ]
      },
      {
       "output_type": "stream",
       "stream": "stdout",
       "text": [
        "\n",
        "[-0.00193424  0.01564885 -0.05441767 -0.26666667  0.02628866 -0.33677271]"
       ]
      },
      {
       "output_type": "stream",
       "stream": "stdout",
       "text": [
        "\n",
        "[ 0.          0.04159664  0.00051546  0.02421712  0.1         0.1139717 ]"
       ]
      },
      {
       "output_type": "stream",
       "stream": "stdout",
       "text": [
        "\n",
        "[ 0.          0.05        0.0335729   0.11539961  0.25977131  0.19461421]"
       ]
      },
      {
       "output_type": "stream",
       "stream": "stdout",
       "text": [
        "\n",
        "[-0.00193798  0.03848369 -0.02524752 -0.15705996  0.0529703  -0.06513464]"
       ]
      },
      {
       "output_type": "stream",
       "stream": "stdout",
       "text": [
        "\n",
        "[-0.00806452 -0.00040323 -0.12567568 -0.25285996 -0.01162047 -0.18497841]"
       ]
      },
      {
       "output_type": "stream",
       "stream": "stdout",
       "text": [
        "\n",
        "[ 0.          0.04171843  0.01767677 -0.0067086   0.11945607  0.07698301]"
       ]
      },
      {
       "output_type": "stream",
       "stream": "stdout",
       "text": [
        "\n",
        "[ 0.          0.0416318   0.01267191 -0.01851107  0.11598361  0.04678313]"
       ]
      },
      {
       "output_type": "stream",
       "stream": "stdout",
       "text": [
        "\n",
        "[ 0.          0.0479716   0.01828753  0.06468254  0.16305182  0.12627724]"
       ]
      },
      {
       "output_type": "stream",
       "stream": "stdout",
       "text": [
        "\n",
        "[-0.00568182  0.03151951  0.00783133 -0.09484536  0.05782241 -0.01963719]"
       ]
      },
      {
       "output_type": "stream",
       "stream": "stdout",
       "text": [
        "\n",
        "[-0.00212766  0.04414063 -0.01299213 -0.07953216  0.0914914  -0.09612107]"
       ]
      },
      {
       "output_type": "stream",
       "stream": "stdout",
       "text": [
        "\n",
        "[ 0.          0.04423077  0.01259843 -0.03636364  0.11966068  0.0610113 ]"
       ]
      },
      {
       "output_type": "stream",
       "stream": "stdout",
       "text": [
        "\n",
        "[-0.0039604   0.04795501  0.01023857 -0.03432203  0.09979757  0.09444986]"
       ]
      },
      {
       "output_type": "stream",
       "stream": "stdout",
       "text": [
        "\n",
        "[-0.00410678  0.04597586  0.02095436 -0.05610687  0.11833667  0.04810892]"
       ]
      },
      {
       "output_type": "stream",
       "stream": "stdout",
       "text": [
        "\n",
        "[-0.00199601  0.04190283 -0.03488613 -0.13831041  0.0619403   0.00255154]"
       ]
      },
      {
       "output_type": "stream",
       "stream": "stdout",
       "text": [
        "\n",
        "[ 0.          0.04164927  0.02177419 -0.02345924  0.09959016  0.05138625]"
       ]
      },
      {
       "output_type": "stream",
       "stream": "stdout",
       "text": [
        "\n",
        "[-0.00379507  0.03348624 -0.01792453 -0.03984962  0.10286624 -0.01225391]"
       ]
      },
      {
       "output_type": "stream",
       "stream": "stdout",
       "text": [
        "\n",
        "[ 0.          0.03760331 -0.01016598 -0.09052632  0.06960784 -0.03718569]"
       ]
      },
      {
       "output_type": "stream",
       "stream": "stdout",
       "text": [
        "\n",
        "[-0.00407332  0.02962963 -0.0207457  -0.1534188   0.075      -0.06498702]"
       ]
      },
      {
       "output_type": "stream",
       "stream": "stdout",
       "text": [
        "\n",
        "[  0.00000000e+00   4.34924078e-02   9.59692898e-05  -4.35643564e-02\n",
        "   9.25661914e-02   4.05326271e-02]"
       ]
      },
      {
       "output_type": "stream",
       "stream": "stdout",
       "text": [
        "\n",
        "[-0.00200803  0.04613153  0.00597484 -0.06385542  0.08135593  0.03915534]"
       ]
      },
      {
       "output_type": "stream",
       "stream": "stdout",
       "text": [
        "\n",
        "[-0.004158    0.04591002 -0.00991736 -0.13638254  0.0624031  -0.03958689]"
       ]
      },
      {
       "output_type": "stream",
       "stream": "stdout",
       "text": [
        "\n",
        "[-0.00582524  0.038       0.00918367 -0.03237705  0.08243762  0.03769364]"
       ]
      },
      {
       "output_type": "stream",
       "stream": "stdout",
       "text": [
        "\n",
        "[-0.00627615  0.03285714 -0.02572816 -0.10932836  0.06798839 -0.06174963]"
       ]
      },
      {
       "output_type": "stream",
       "stream": "stdout",
       "text": [
        "\n",
        "[ 0.          0.04186992  0.00294118 -0.0781746   0.08152401  0.03842278]"
       ]
      },
      {
       "output_type": "stream",
       "stream": "stdout",
       "text": [
        "\n",
        "[ 0.          0.04182004 -0.01666667 -0.09315068  0.08921569  0.00888672]"
       ]
      },
      {
       "output_type": "stream",
       "stream": "stdout",
       "text": [
        "\n",
        "[-0.0020202   0.04414063  0.00898438 -0.01317365  0.07301587  0.01203864]"
       ]
      },
      {
       "output_type": "stream",
       "stream": "stdout",
       "text": [
        "\n",
        "[-0.0037037   0.03360656  0.00953757 -0.0526749   0.09257028  0.01636641]"
       ]
      },
      {
       "output_type": "stream",
       "stream": "stdout",
       "text": [
        "\n",
        "[ 0.          0.0462406   0.01317829 -0.06530612  0.09806867  0.03544039]"
       ]
      },
      {
       "output_type": "stream",
       "stream": "stdout",
       "text": [
        "\n",
        "[ 0.          0.04017682  0.00736434 -0.05454545  0.09791667  0.05299757]"
       ]
      },
      {
       "output_type": "stream",
       "stream": "stdout",
       "text": [
        "\n",
        "[ 0.          0.04212598  0.00559846  0.00446247  0.10873016  0.05333588]"
       ]
      },
      {
       "output_type": "stream",
       "stream": "stdout",
       "text": [
        "\n",
        "[-0.00200803  0.04621928 -0.0126186  -0.09518304  0.10310078  0.01075531]"
       ]
      },
      {
       "output_type": "stream",
       "stream": "stdout",
       "text": [
        "\n",
        "[ 0.          0.05       -0.00223881 -0.084       0.06680328  0.0130166 ]"
       ]
      },
      {
       "output_type": "stream",
       "stream": "stdout",
       "text": [
        "\n",
        "[-0.00210084  0.04588477  0.00238095 -0.08968105  0.06811024  0.01297761]"
       ]
      },
      {
       "output_type": "stream",
       "stream": "stdout",
       "text": [
        "\n",
        "[ 0.          0.04099099 -0.03032129 -0.11428571  0.05097087 -0.01527079]"
       ]
      },
      {
       "output_type": "stream",
       "stream": "stdout",
       "text": [
        "\n",
        "[ 0.          0.04401198  0.01219282 -0.05219124  0.10090543  0.03593463]"
       ]
      },
      {
       "output_type": "stream",
       "stream": "stdout",
       "text": [
        "\n",
        "[ 0.          0.02835498  0.00112016 -0.07953216  0.08269231  0.00241644]"
       ]
      },
      {
       "output_type": "stream",
       "stream": "stdout",
       "text": [
        "\n",
        "[-0.00192678  0.04587629 -0.01954887 -0.08648649  0.09512922  0.02339095]"
       ]
      },
      {
       "output_type": "stream",
       "stream": "stdout",
       "text": [
        "\n",
        "[ 0.          0.0439759  -0.00048544 -0.06963563  0.1224846   0.00413466]"
       ]
      },
      {
       "output_type": "stream",
       "stream": "stdout",
       "text": [
        "\n",
        "[-0.00206612  0.04419729 -0.00233645 -0.05283019  0.0671875   0.00381437]"
       ]
      },
      {
       "output_type": "stream",
       "stream": "stdout",
       "text": [
        "\n",
        "[ 0.          0.04587629 -0.01331878 -0.04767442  0.08085937  0.01955258]"
       ]
      },
      {
       "output_type": "stream",
       "stream": "stdout",
       "text": [
        "\n",
        "[ 0.          0.04180328 -0.01403013 -0.03687375  0.06877395  0.00760904]"
       ]
      },
      {
       "output_type": "stream",
       "stream": "stdout",
       "text": [
        "\n",
        "[-0.00198413  0.04405941  0.00121951 -0.05979381  0.07008282  0.02944258]"
       ]
      },
      {
       "output_type": "stream",
       "stream": "stdout",
       "text": [
        "\n",
        "[-0.0018797   0.03742138  0.00454545 -0.05121951  0.08465347  0.01141976]"
       ]
      },
      {
       "output_type": "stream",
       "stream": "stdout",
       "text": [
        "\n",
        "Optimization terminated successfully.\n",
        "         Current function value: 0.007683\n",
        "         Iterations: 22\n",
        "         Function evaluations: 50\n",
        "[-0.00193798  0.03807157  0.00669291 -0.04668008  0.09583333  0.01761609]"
       ]
      },
      {
       "output_type": "stream",
       "stream": "stdout",
       "text": [
        "\n"
       ]
      },
      {
       "javascript": [
        "$('div#09e687dd-3a60-466f-9995-e1df5203ef35').width('87.23%')"
       ],
       "metadata": {},
       "output_type": "display_data",
       "text": [
        "<IPython.core.display.Javascript at 0x7f7334018210>"
       ]
      },
      {
       "output_type": "stream",
       "stream": "stdout",
       "text": [
        "[-0.00584795 -0.0060241   0.18251534  0.19897751  0.10778443  0.18966757]\n",
        "[ 0.         -0.01778656  0.19106464  0.19700599  0.12753036  0.20341292]"
       ]
      },
      {
       "output_type": "stream",
       "stream": "stdout",
       "text": [
        "\n",
        "[-0.00188324 -0.00201613  0.20945946  0.37        0.23809524  0.47021484]"
       ]
      },
      {
       "output_type": "stream",
       "stream": "stdout",
       "text": [
        "\n",
        "[-0.00198413 -0.0256917   0.16748527  0.05533981  0.06736842  0.05844478]"
       ]
      },
      {
       "output_type": "stream",
       "stream": "stdout",
       "text": [
        "\n",
        "[ 0.         -0.01176471  0.17248062  0.16551724  0.10441767  0.18820327]"
       ]
      },
      {
       "output_type": "stream",
       "stream": "stdout",
       "text": [
        "\n",
        "[-0.00414079 -0.04216867  0.07165605  0.01818182  0.06165703  0.07832797]"
       ]
      },
      {
       "output_type": "stream",
       "stream": "stdout",
       "text": [
        "\n",
        "[-0.01022495 -0.04828974  0.02369439 -0.08927203  0.03219316 -0.22066493]"
       ]
      },
      {
       "output_type": "stream",
       "stream": "stdout",
       "text": [
        "\n",
        "[-0.01197605 -0.08128544  0.01017131 -0.06796715  0.02868852 -0.06874963]"
       ]
      },
      {
       "output_type": "stream",
       "stream": "stdout",
       "text": [
        "\n",
        "[-0.0433925  -0.17769376 -0.10059761 -0.18571429  0.01428571 -0.21218607]"
       ]
      },
      {
       "output_type": "stream",
       "stream": "stdout",
       "text": [
        "\n",
        "[-0.00588235 -0.076      -0.0549505  -0.13299799  0.01848049 -0.1844245 ]"
       ]
      },
      {
       "output_type": "stream",
       "stream": "stdout",
       "text": [
        "\n",
        "[-0.03571429 -0.14257028 -0.17971888 -0.20494297  0.0059761  -0.34598035]"
       ]
      },
      {
       "output_type": "stream",
       "stream": "stdout",
       "text": [
        "\n",
        "[-0.01075269 -0.03212851  0.09782609  0.05742972  0.05068226  0.05687362]"
       ]
      },
      {
       "output_type": "stream",
       "stream": "stdout",
       "text": [
        "\n",
        "[-0.00610998 -0.02152642  0.16666667  0.08541667  0.07312253  0.14611745]"
       ]
      },
      {
       "output_type": "stream",
       "stream": "stdout",
       "text": [
        "\n",
        "[-0.01778656 -0.06576402  0.02369439 -0.0515528   0.03373016 -0.09485024]"
       ]
      },
      {
       "output_type": "stream",
       "stream": "stdout",
       "text": [
        "\n",
        "[-0.00195695 -0.03420523  0.14655172  0.08039216  0.07184466  0.22130568]"
       ]
      },
      {
       "output_type": "stream",
       "stream": "stdout",
       "text": [
        "\n",
        "[-0.01116071 -0.05030181  0.02192982 -0.03092369  0.026      -0.10918778]"
       ]
      },
      {
       "output_type": "stream",
       "stream": "stdout",
       "text": [
        "\n",
        "[-0.01796407 -0.09090909 -0.05798479 -0.11262327  0.02012072 -0.13312266]"
       ]
      },
      {
       "output_type": "stream",
       "stream": "stdout",
       "text": [
        "\n",
        "[ 0.         -0.02966102  0.11157025  0.01075697  0.04828974  0.02473331]"
       ]
      },
      {
       "output_type": "stream",
       "stream": "stdout",
       "text": [
        "\n",
        "[-0.01596806 -0.09072581 -0.01763485 -0.11927711  0.02564103 -0.15417398]"
       ]
      },
      {
       "output_type": "stream",
       "stream": "stdout",
       "text": [
        "\n",
        "[-0.00403226 -0.03917526  0.0565764   0.0362069   0.0671785   0.00374502]"
       ]
      },
      {
       "output_type": "stream",
       "stream": "stdout",
       "text": [
        "\n",
        "[-0.00782779 -0.0407767   0.12941788  0.01927711  0.05982906  0.09209262]"
       ]
      },
      {
       "output_type": "stream",
       "stream": "stdout",
       "text": [
        "\n",
        "[-0.00782779 -0.04742268  0.0326087  -0.03563218  0.03359684 -0.05393171]"
       ]
      },
      {
       "output_type": "stream",
       "stream": "stdout",
       "text": [
        "\n",
        "[-0.01440329 -0.04185022  0.0479798  -0.09960707  0.01871102 -0.17368871]"
       ]
      },
      {
       "output_type": "stream",
       "stream": "stdout",
       "text": [
        "\n",
        "[-0.01629328 -0.03512397  0.08811475  0.01492843  0.06097561  0.00425145]"
       ]
      },
      {
       "output_type": "stream",
       "stream": "stdout",
       "text": [
        "\n",
        "[-0.00204499 -0.02312139  0.14748954  0.03531746  0.05316973  0.04096991]"
       ]
      },
      {
       "output_type": "stream",
       "stream": "stdout",
       "text": [
        "\n",
        "[-0.00411523 -0.05590062  0.05855397 -0.03643411  0.05533597 -0.06737222]"
       ]
      },
      {
       "output_type": "stream",
       "stream": "stdout",
       "text": [
        "\n",
        "[-0.00194932 -0.0332681   0.10742574  0.01557377  0.03611738  0.04672512]"
       ]
      },
      {
       "output_type": "stream",
       "stream": "stdout",
       "text": [
        "\n",
        "[-0.02186879 -0.0511811   0.03870293 -0.03398058  0.04338843 -0.02143464]"
       ]
      },
      {
       "output_type": "stream",
       "stream": "stdout",
       "text": [
        "\n",
        "[-0.0141129  -0.11832061 -0.00048924 -0.08825996  0.04315197 -0.02989634]"
       ]
      },
      {
       "output_type": "stream",
       "stream": "stdout",
       "text": [
        "\n",
        "[-0.00811359 -0.07755102  0.00714286 -0.07272727  0.0390625  -0.11237882]"
       ]
      },
      {
       "output_type": "stream",
       "stream": "stdout",
       "text": [
        "\n",
        "[-0.00609756 -0.03099174  0.08921569  0.00478088  0.05273834  0.03841295]"
       ]
      },
      {
       "output_type": "stream",
       "stream": "stdout",
       "text": [
        "\n",
        "[-0.00609756 -0.04508197  0.06660232  0.01411531  0.04056795  0.03598454]"
       ]
      },
      {
       "output_type": "stream",
       "stream": "stdout",
       "text": [
        "\n",
        "[-0.01197605 -0.06302521  0.04226069 -0.02941176  0.04051173 -0.0250991 ]"
       ]
      },
      {
       "output_type": "stream",
       "stream": "stdout",
       "text": [
        "\n",
        "[-0.0094518  -0.03092784  0.0165996  -0.0248996   0.04517454 -0.03527327]"
       ]
      },
      {
       "output_type": "stream",
       "stream": "stdout",
       "text": [
        "\n",
        "[-0.00634249 -0.06263048  0.064      -0.06494845  0.04150943 -0.05529766]"
       ]
      },
      {
       "output_type": "stream",
       "stream": "stdout",
       "text": [
        "\n",
        "[-0.00972763 -0.06666667  0.01848249 -0.1011583   0.03883495 -0.05876535]"
       ]
      },
      {
       "output_type": "stream",
       "stream": "stdout",
       "text": [
        "\n",
        "[-0.00397614 -0.03585657  0.05821918 -0.02121212  0.0417495   0.00031792]"
       ]
      },
      {
       "output_type": "stream",
       "stream": "stdout",
       "text": [
        "\n",
        "[-0.01532567 -0.06949807 -0.01771654 -0.08243513  0.04408818 -0.1205636 ]"
       ]
      },
      {
       "output_type": "stream",
       "stream": "stdout",
       "text": [
        "\n",
        "[-0.016      -0.06352459  0.0744898  -0.02552783  0.03958333  0.01901462]"
       ]
      },
      {
       "output_type": "stream",
       "stream": "stdout",
       "text": [
        "\n",
        "[-0.01185771 -0.05857741  0.0797456  -0.022334    0.04439746 -0.0223324 ]"
       ]
      },
      {
       "output_type": "stream",
       "stream": "stdout",
       "text": [
        "\n",
        "[-0.01145038 -0.06694561  0.03296146 -0.0388664   0.03754941 -0.02071467]"
       ]
      },
      {
       "output_type": "stream",
       "stream": "stdout",
       "text": [
        "\n",
        "[-0.01431493 -0.05823293  0.05408163 -0.04186992  0.05737705 -0.04636312]"
       ]
      },
      {
       "output_type": "stream",
       "stream": "stdout",
       "text": [
        "\n",
        "[-0.01565558 -0.052       0.08992095 -0.01458333  0.03076923 -0.04173196]"
       ]
      },
      {
       "output_type": "stream",
       "stream": "stdout",
       "text": [
        "\n",
        "[-0.00613497 -0.05070994  0.05230326 -0.03427992  0.05212355  0.01768879]"
       ]
      },
      {
       "output_type": "stream",
       "stream": "stdout",
       "text": [
        "\n",
        "Optimization terminated successfully.\n",
        "         Current function value: 0.005226\n",
        "         Iterations: 20\n",
        "         Function evaluations: 44\n",
        "[-0.00195312 -0.04809619  0.04764244 -0.0833002   0.05050505 -0.03079214]"
       ]
      },
      {
       "output_type": "stream",
       "stream": "stdout",
       "text": [
        "\n"
       ]
      },
      {
       "javascript": [
        "$('div#09e687dd-3a60-466f-9995-e1df5203ef35').width('89.36%')"
       ],
       "metadata": {},
       "output_type": "display_data",
       "text": [
        "<IPython.core.display.Javascript at 0x7f73340d7dd0>"
       ]
      },
      {
       "output_type": "stream",
       "stream": "stdout",
       "text": [
        "[-0.00203252  0.03577236  0.08004115 -0.14900596  0.01585366 -0.20804222]\n",
        "[ 0.          0.04191919  0.07244898 -0.13702595  0.01812627 -0.22142415]"
       ]
      },
      {
       "output_type": "stream",
       "stream": "stdout",
       "text": [
        "\n",
        "[ 0.          0.05        0.1257085  -0.01192469  0.16122449  0.05442463]"
       ]
      },
      {
       "output_type": "stream",
       "stream": "stdout",
       "text": [
        "\n",
        "[-0.00205339  0.02880539  0.03744589 -0.32617108 -0.02244898 -0.35624108]"
       ]
      },
      {
       "output_type": "stream",
       "stream": "stdout",
       "text": [
        "\n",
        "[-0.00204499  0.03821218  0.06468254 -0.19738878  0.02328767 -0.2276497 ]"
       ]
      },
      {
       "output_type": "stream",
       "stream": "stdout",
       "text": [
        "\n",
        "[-0.00963391  0.01184739 -0.022      -0.31533066 -0.03320236 -0.34953094]"
       ]
      },
      {
       "output_type": "stream",
       "stream": "stdout",
       "text": [
        "\n",
        "[-0.00188324  0.04587629  0.11348884 -0.04181287  0.13001949 -0.0222328 ]"
       ]
      },
      {
       "output_type": "stream",
       "stream": "stdout",
       "text": [
        "\n",
        "[ 0.          0.048       0.12929607  0.11171079  0.29112903  0.11014465]"
       ]
      },
      {
       "output_type": "stream",
       "stream": "stdout",
       "text": [
        "\n",
        "[ 0.          0.04613153  0.13422091  0.12419355  0.20919765  0.05513428]"
       ]
      },
      {
       "output_type": "stream",
       "stream": "stdout",
       "text": [
        "\n",
        "[ 0.          0.04595142  0.13412698  0.05038911  0.27058824  0.09441513]"
       ]
      },
      {
       "output_type": "stream",
       "stream": "stdout",
       "text": [
        "\n",
        "[-0.00404858  0.04038462  0.10951417 -0.11185567  0.06135458 -0.14108093]"
       ]
      },
      {
       "output_type": "stream",
       "stream": "stdout",
       "text": [
        "\n",
        "[-0.00816327  0.02254902 -0.016      -0.29435946 -0.02371134 -0.29431367]"
       ]
      },
      {
       "output_type": "stream",
       "stream": "stdout",
       "text": [
        "\n",
        "[ 0.          0.0460396   0.12379032  0.01098485  0.17676768 -0.01754235]"
       ]
      },
      {
       "output_type": "stream",
       "stream": "stdout",
       "text": [
        "\n",
        "[ 0.          0.0439759   0.11504854  0.01992187  0.214       0.07938521]"
       ]
      },
      {
       "output_type": "stream",
       "stream": "stdout",
       "text": [
        "\n",
        "[-0.00201613  0.04799599  0.13785425  0.13672032  0.2968254   0.15713418]"
       ]
      },
      {
       "output_type": "stream",
       "stream": "stdout",
       "text": [
        "\n",
        "[ 0.          0.03616601  0.08678161 -0.07857143  0.06089613 -0.10081019]"
       ]
      },
      {
       "output_type": "stream",
       "stream": "stdout",
       "text": [
        "\n",
        "[-0.00398406  0.04043977  0.11259843 -0.11428571  0.04102564 -0.15757676]"
       ]
      },
      {
       "output_type": "stream",
       "stream": "stdout",
       "text": [
        "\n",
        "[-0.00429185  0.03969072  0.10319149 -0.02550201  0.09498069 -0.09529219]"
       ]
      },
      {
       "output_type": "stream",
       "stream": "stdout",
       "text": [
        "\n",
        "[ 0.          0.05        0.12642436  0.08706004  0.16226415  0.06426159]"
       ]
      },
      {
       "output_type": "stream",
       "stream": "stdout",
       "text": [
        "\n",
        "[-0.00395257  0.04005964  0.08660532 -0.0520202   0.07261905 -0.082273  ]"
       ]
      },
      {
       "output_type": "stream",
       "stream": "stdout",
       "text": [
        "\n",
        "[ 0.          0.03360656  0.09661191 -0.10491803  0.05799615 -0.08888649]"
       ]
      },
      {
       "output_type": "stream",
       "stream": "stdout",
       "text": [
        "\n",
        "[-0.00393701  0.04152542  0.08478261 -0.12443763  0.03409962 -0.23049108]"
       ]
      },
      {
       "output_type": "stream",
       "stream": "stdout",
       "text": [
        "\n",
        "[ 0.          0.04007937  0.11687371  0.00725806  0.09038462 -0.02215776]"
       ]
      },
      {
       "output_type": "stream",
       "stream": "stdout",
       "text": [
        "\n",
        "[-0.0020284   0.04183673  0.07644135 -0.1710084   0.03627639 -0.15392111]"
       ]
      },
      {
       "output_type": "stream",
       "stream": "stdout",
       "text": [
        "\n",
        "[-0.0018622   0.03807157  0.10825427 -0.02675351  0.1208589  -0.05459924]"
       ]
      },
      {
       "output_type": "stream",
       "stream": "stdout",
       "text": [
        "\n",
        "[ 0.          0.04381443  0.12609562 -0.00892116  0.11656051 -0.0593731 ]"
       ]
      },
      {
       "output_type": "stream",
       "stream": "stdout",
       "text": [
        "\n",
        "[ 0.          0.03373984  0.08110647 -0.08659044  0.05432099 -0.08751401]"
       ]
      },
      {
       "output_type": "stream",
       "stream": "stdout",
       "text": [
        "\n",
        "[ 0.          0.04419729  0.10029821 -0.08852459  0.03636364 -0.0907518 ]"
       ]
      },
      {
       "output_type": "stream",
       "stream": "stdout",
       "text": [
        "\n",
        "[-0.00210084  0.0416318   0.09208494 -0.11351085  0.08687873 -0.05173266]"
       ]
      },
      {
       "output_type": "stream",
       "stream": "stdout",
       "text": [
        "\n",
        "[-0.00208768  0.04586777  0.12368421 -0.06776938  0.08618042 -0.09067047]"
       ]
      },
      {
       "output_type": "stream",
       "stream": "stdout",
       "text": [
        "\n",
        "[ 0.          0.04009901  0.10938104 -0.05040241  0.08825911 -0.05208772]"
       ]
      },
      {
       "output_type": "stream",
       "stream": "stdout",
       "text": [
        "\n",
        "[-0.0020202   0.03449612  0.0924307  -0.09276458  0.0686747  -0.06689452]"
       ]
      },
      {
       "output_type": "stream",
       "stream": "stdout",
       "text": [
        "\n",
        "[-0.00198807  0.04424184  0.10510204 -0.1010978   0.07479675 -0.09699421]"
       ]
      },
      {
       "output_type": "stream",
       "stream": "stdout",
       "text": [
        "\n",
        "[ 0.          0.036       0.1155914  -0.02601626  0.06973415 -0.10243365]"
       ]
      },
      {
       "output_type": "stream",
       "stream": "stdout",
       "text": [
        "\n",
        "[-0.00204082  0.04207921  0.1        -0.07682927  0.06494845 -0.10891663]"
       ]
      },
      {
       "output_type": "stream",
       "stream": "stdout",
       "text": [
        "\n",
        "[-0.0020284   0.04190283  0.10247934 -0.08366337  0.06032064 -0.06634561]"
       ]
      },
      {
       "output_type": "stream",
       "stream": "stdout",
       "text": [
        "\n",
        "[-0.00194553  0.04025341  0.11626984 -0.06897233  0.09308943 -0.06255858]"
       ]
      },
      {
       "output_type": "stream",
       "stream": "stdout",
       "text": [
        "\n",
        "[-0.00203666  0.04040307  0.10918367 -0.07462845  0.0975052  -0.06176857]"
       ]
      },
      {
       "output_type": "stream",
       "stream": "stdout",
       "text": [
        "\n",
        "[-0.00374532  0.03181818  0.094      -0.08426295  0.0960396  -0.08283606]"
       ]
      },
      {
       "output_type": "stream",
       "stream": "stdout",
       "text": [
        "\n",
        "[ 0.          0.04168399  0.10372233 -0.07685371  0.07871486 -0.08068965]"
       ]
      },
      {
       "output_type": "stream",
       "stream": "stdout",
       "text": [
        "\n",
        "[-0.00199601  0.04040307  0.10039683 -0.03993711  0.08039216 -0.06890481]"
       ]
      },
      {
       "output_type": "stream",
       "stream": "stdout",
       "text": [
        "\n",
        "[ 0.          0.04185336  0.11122449 -0.05433925  0.13030303 -0.05325341]"
       ]
      },
      {
       "output_type": "stream",
       "stream": "stdout",
       "text": [
        "\n",
        "[ 0.          0.04186992  0.09672131 -0.07471042  0.08650794 -0.08071727]"
       ]
      },
      {
       "output_type": "stream",
       "stream": "stdout",
       "text": [
        "\n",
        "Optimization terminated successfully.\n",
        "         Current function value: 0.023869\n",
        "         Iterations: 20\n",
        "         Function evaluations: 43\n",
        "[ 0.          0.04800797  0.10752896 -0.05082645  0.09161677 -0.07965402]"
       ]
      },
      {
       "output_type": "stream",
       "stream": "stdout",
       "text": [
        "\n"
       ]
      },
      {
       "javascript": [
        "$('div#09e687dd-3a60-466f-9995-e1df5203ef35').width('91.49%')"
       ],
       "metadata": {},
       "output_type": "display_data",
       "text": [
        "<IPython.core.display.Javascript at 0x7f73342db210>"
       ]
      },
      {
       "output_type": "stream",
       "stream": "stdout",
       "text": [
        "[ 0.         -0.00992063 -0.08414873 -0.37842105 -0.18461538 -0.28048725]\n",
        "[ 0.         -0.00603622 -0.04724409 -0.35887574 -0.14189723 -0.27706244]"
       ]
      },
      {
       "output_type": "stream",
       "stream": "stdout",
       "text": [
        "\n",
        "[ 0.         -0.0019305  -0.02857143 -0.15691057 -0.03879142 -0.01972278]"
       ]
      },
      {
       "output_type": "stream",
       "stream": "stdout",
       "text": [
        "\n",
        "[-0.00845666 -0.02053388 -0.10602911 -0.45751566 -0.25009597 -0.42095593]"
       ]
      },
      {
       "output_type": "stream",
       "stream": "stdout",
       "text": [
        "\n",
        "[-0.00206612 -0.01851852 -0.07770961 -0.36171875 -0.21231733 -0.29666502]"
       ]
      },
      {
       "output_type": "stream",
       "stream": "stdout",
       "text": [
        "\n",
        "[-0.00998004 -0.04414587 -0.16533865 -0.53263473 -0.24259259 -0.41430609]"
       ]
      },
      {
       "output_type": "stream",
       "stream": "stdout",
       "text": [
        "\n",
        "[ 0.          0.         -0.01810865 -0.18061224 -0.07665996 -0.11008176]"
       ]
      },
      {
       "output_type": "stream",
       "stream": "stdout",
       "text": [
        "\n",
        "[ 0.         -0.00198413 -0.01541426 -0.09649299  0.05728543  0.00270668]"
       ]
      },
      {
       "output_type": "stream",
       "stream": "stdout",
       "text": [
        "\n",
        "[ 0.          0.         -0.00821355  0.03246628  0.30985626  0.14790855]"
       ]
      },
      {
       "output_type": "stream",
       "stream": "stdout",
       "text": [
        "\n",
        "[ 0.         -0.00201207 -0.01181102 -0.08954373 -0.00731707  0.00884613]"
       ]
      },
      {
       "output_type": "stream",
       "stream": "stdout",
       "text": [
        "\n",
        "[ 0.          0.          0.          0.02090164  0.1244186   0.12035245]"
       ]
      },
      {
       "output_type": "stream",
       "stream": "stdout",
       "text": [
        "\n",
        "[ 0.          0.         -0.00594059  0.00833333  0.10039841  0.10280209]"
       ]
      },
      {
       "output_type": "stream",
       "stream": "stdout",
       "text": [
        "\n",
        "[ 0.          0.         -0.00190476  0.02837838  0.2489022   0.1977631 ]"
       ]
      },
      {
       "output_type": "stream",
       "stream": "stdout",
       "text": [
        "\n",
        "[ 0.         -0.00387597 -0.00788955 -0.02008197  0.14751381  0.10332388]"
       ]
      },
      {
       "output_type": "stream",
       "stream": "stdout",
       "text": [
        "\n",
        "[ 0.          0.          0.         -0.02241379  0.20607287  0.16160832]"
       ]
      },
      {
       "output_type": "stream",
       "stream": "stdout",
       "text": [
        "\n",
        "[ 0.         -0.00203252 -0.01377953 -0.12789047 -0.03852295 -0.0269385 ]"
       ]
      },
      {
       "output_type": "stream",
       "stream": "stdout",
       "text": [
        "\n",
        "[-0.00414079 -0.00389864 -0.02389706 -0.2127451  -0.08823529 -0.11979598]"
       ]
      },
      {
       "output_type": "stream",
       "stream": "stdout",
       "text": [
        "\n",
        "[ 0.         -0.00200401 -0.006      -0.10150905  0.06094675  0.06041753]"
       ]
      },
      {
       "output_type": "stream",
       "stream": "stdout",
       "text": [
        "\n",
        "[ 0.          0.         -0.004       0.00177453  0.16719682  0.07191444]"
       ]
      },
      {
       "output_type": "stream",
       "stream": "stdout",
       "text": [
        "\n",
        "[ 0.         -0.00428266 -0.01619433 -0.14545455 -0.04505929  0.00121665]"
       ]
      },
      {
       "output_type": "stream",
       "stream": "stdout",
       "text": [
        "\n",
        "[ 0.          0.         -0.00793651 -0.02286652  0.07346939  0.04803348]"
       ]
      },
      {
       "output_type": "stream",
       "stream": "stdout",
       "text": [
        "\n",
        "[ 0.          0.         -0.00787402 -0.00019763  0.14701349  0.06461499]"
       ]
      },
      {
       "output_type": "stream",
       "stream": "stdout",
       "text": [
        "\n",
        "[ 0.         -0.00833333 -0.01984127 -0.15434783 -0.05728155 -0.07345401]"
       ]
      },
      {
       "output_type": "stream",
       "stream": "stdout",
       "text": [
        "\n",
        "[ 0.         -0.00385356 -0.00811359 -0.02068273  0.11210938  0.05212153]"
       ]
      },
      {
       "output_type": "stream",
       "stream": "stdout",
       "text": [
        "\n",
        "[ 0.          0.         -0.00395257 -0.03055556  0.14705882  0.10127408]"
       ]
      },
      {
       "output_type": "stream",
       "stream": "stdout",
       "text": [
        "\n",
        "[ 0.         -0.00204082 -0.01603206 -0.10211864 -0.03084886  0.00902476]"
       ]
      },
      {
       "output_type": "stream",
       "stream": "stdout",
       "text": [
        "\n",
        "[-0.00194932  0.         -0.01581028 -0.04709544  0.06883629 -0.01589223]"
       ]
      },
      {
       "output_type": "stream",
       "stream": "stdout",
       "text": [
        "\n",
        "[ 0.          0.         -0.01796407 -0.08251029  0.03466135 -0.05852843]"
       ]
      },
      {
       "output_type": "stream",
       "stream": "stdout",
       "text": [
        "\n",
        "[ 0.         -0.00205761 -0.01810865 -0.11315789  0.00555556 -0.04081882]"
       ]
      },
      {
       "output_type": "stream",
       "stream": "stdout",
       "text": [
        "\n",
        "[ 0.         -0.00192308 -0.00408163 -0.10235405  0.0223301  -0.01314109]"
       ]
      },
      {
       "output_type": "stream",
       "stream": "stdout",
       "text": [
        "\n",
        "[ 0.          0.         -0.01068376 -0.05123203  0.0340081  -0.00584237]"
       ]
      },
      {
       "output_type": "stream",
       "stream": "stdout",
       "text": [
        "\n",
        "[ 0.         -0.00195695  0.         -0.03489066  0.03264033 -0.00702471]"
       ]
      },
      {
       "output_type": "stream",
       "stream": "stdout",
       "text": [
        "\n",
        "[ 0.          0.         -0.00198807 -0.03556701  0.07764933  0.0098243 ]"
       ]
      },
      {
       "output_type": "stream",
       "stream": "stdout",
       "text": [
        "\n",
        "[ 0.          0.         -0.002      -0.0072327   0.06610879  0.02681677]"
       ]
      },
      {
       "output_type": "stream",
       "stream": "stdout",
       "text": [
        "\n",
        "[ 0.          0.         -0.00196078 -0.00208333  0.08339921  0.02493155]"
       ]
      },
      {
       "output_type": "stream",
       "stream": "stdout",
       "text": [
        "\n",
        "[ 0.          0.         -0.004      -0.02586912  0.09121756 -0.00841619]"
       ]
      },
      {
       "output_type": "stream",
       "stream": "stdout",
       "text": [
        "\n",
        "[ 0.         -0.00199601  0.         -0.03395303  0.114       0.02378692]"
       ]
      },
      {
       "output_type": "stream",
       "stream": "stdout",
       "text": [
        "\n",
        "[ 0.          0.         -0.00406504 -0.01532258  0.06770428  0.01326941]"
       ]
      },
      {
       "output_type": "stream",
       "stream": "stdout",
       "text": [
        "\n",
        "[ 0.         -0.00191571 -0.00422833 -0.02836812  0.05984095  0.01607133]"
       ]
      },
      {
       "output_type": "stream",
       "stream": "stdout",
       "text": [
        "\n",
        "[ 0.          0.         -0.00833333 -0.01929134  0.04156379  0.00226486]"
       ]
      },
      {
       "output_type": "stream",
       "stream": "stdout",
       "text": [
        "\n",
        "[ 0.          0.         -0.00970874  0.01519115  0.09731286  0.01194496]"
       ]
      },
      {
       "output_type": "stream",
       "stream": "stdout",
       "text": [
        "\n",
        "[ 0.          0.         -0.00393701 -0.01734694  0.05059761  0.02221431]"
       ]
      },
      {
       "output_type": "stream",
       "stream": "stdout",
       "text": [
        "\n",
        "[ 0.         -0.0019685  -0.01160542 -0.04631902  0.054      -0.00141722]"
       ]
      },
      {
       "output_type": "stream",
       "stream": "stdout",
       "text": [
        "\n",
        "[ 0.          0.         -0.00984252 -0.03367347  0.0340249   0.01375589]"
       ]
      },
      {
       "output_type": "stream",
       "stream": "stdout",
       "text": [
        "\n",
        "[ 0.          0.         -0.015625   -0.05158103  0.06075949 -0.00805984]"
       ]
      },
      {
       "output_type": "stream",
       "stream": "stdout",
       "text": [
        "\n",
        "[ 0.          0.         -0.00424628 -0.02489712  0.05135135  0.01660532]"
       ]
      },
      {
       "output_type": "stream",
       "stream": "stdout",
       "text": [
        "\n",
        "[ 0.          0.          0.         -0.05366599  0.03611691  0.0107029 ]"
       ]
      },
      {
       "output_type": "stream",
       "stream": "stdout",
       "text": [
        "\n",
        "[ 0.          0.          0.         -0.06544715  0.03142857  0.00757165]"
       ]
      },
      {
       "output_type": "stream",
       "stream": "stdout",
       "text": [
        "\n",
        "[ 0.          0.         -0.00408163 -0.03091451  0.04807692 -0.00395194]"
       ]
      },
      {
       "output_type": "stream",
       "stream": "stdout",
       "text": [
        "\n",
        "[ 0.          0.         -0.00584795 -0.02391304  0.04623218 -0.00262716]"
       ]
      },
      {
       "output_type": "stream",
       "stream": "stdout",
       "text": [
        "\n",
        "[ 0.          0.         -0.01020408 -0.03312757  0.07209302 -0.00319748]"
       ]
      },
      {
       "output_type": "stream",
       "stream": "stdout",
       "text": [
        "\n",
        "[ 0.          0.         -0.0040568  -0.02206478  0.07379576  0.0139419 ]"
       ]
      },
      {
       "output_type": "stream",
       "stream": "stdout",
       "text": [
        "\n",
        "[ 0.          0.         -0.0019802  -0.042       0.06134454 -0.00614241]"
       ]
      },
      {
       "output_type": "stream",
       "stream": "stdout",
       "text": [
        "\n",
        "[ 0.          0.         -0.01489362 -0.05898437  0.0611691  -0.01571746]"
       ]
      },
      {
       "output_type": "stream",
       "stream": "stdout",
       "text": [
        "\n",
        "[ 0.         -0.00194175 -0.00583658 -0.0709073   0.01506849  0.00645405]"
       ]
      },
      {
       "output_type": "stream",
       "stream": "stdout",
       "text": [
        "\n",
        "[ 0.          0.         -0.00823045 -0.03813906  0.01386861 -0.00457687]"
       ]
      },
      {
       "output_type": "stream",
       "stream": "stdout",
       "text": [
        "\n",
        "[ 0.         -0.00210526 -0.00385356 -0.05967742  0.0385214  -0.01976181]"
       ]
      },
      {
       "output_type": "stream",
       "stream": "stdout",
       "text": [
        "\n",
        "[ 0.          0.         -0.00608519 -0.04959267  0.0372093  -0.00717987]"
       ]
      },
      {
       "output_type": "stream",
       "stream": "stdout",
       "text": [
        "\n",
        "[ 0.          0.         -0.00996016 -0.04577735  0.0313253  -0.0163293 ]"
       ]
      },
      {
       "output_type": "stream",
       "stream": "stdout",
       "text": [
        "\n",
        "[ 0.          0.         -0.00411523 -0.04765166  0.03742331  0.00249558]"
       ]
      },
      {
       "output_type": "stream",
       "stream": "stdout",
       "text": [
        "\n",
        "[ 0.          0.          0.         -0.04960474  0.05728543 -0.00441699]"
       ]
      },
      {
       "output_type": "stream",
       "stream": "stdout",
       "text": [
        "\n",
        "[ 0.          0.         -0.00404858 -0.05        0.03661417 -0.01408593]"
       ]
      },
      {
       "output_type": "stream",
       "stream": "stdout",
       "text": [
        "\n",
        "[ 0.          0.         -0.00198413 -0.0475052   0.03066132 -0.0200585 ]"
       ]
      },
      {
       "output_type": "stream",
       "stream": "stdout",
       "text": [
        "\n",
        "[ 0.         -0.00203666 -0.00784314 -0.03503937  0.01578947 -0.0033582 ]"
       ]
      },
      {
       "output_type": "stream",
       "stream": "stdout",
       "text": [
        "\n",
        "[ 0.         -0.00194932 -0.00433839 -0.06104536  0.0190184  -0.0150692 ]"
       ]
      },
      {
       "output_type": "stream",
       "stream": "stdout",
       "text": [
        "\n",
        "[ 0.          0.         -0.00617284 -0.06818182  0.02443532 -0.00035335]"
       ]
      },
      {
       "output_type": "stream",
       "stream": "stdout",
       "text": [
        "\n",
        "[ 0.          0.         -0.00801603 -0.05898437  0.03988212 -0.00293296]"
       ]
      },
      {
       "output_type": "stream",
       "stream": "stdout",
       "text": [
        "\n",
        "[ 0.          0.         -0.00580271 -0.05970874  0.0449692  -0.0127201 ]"
       ]
      },
      {
       "output_type": "stream",
       "stream": "stdout",
       "text": [
        "\n",
        "[ 0.          0.         -0.00982318 -0.02475728 -0.00576541  0.00138669]"
       ]
      },
      {
       "output_type": "stream",
       "stream": "stdout",
       "text": [
        "\n",
        "[  0.00000000e+00   0.00000000e+00  -7.72200772e-03  -6.47239264e-02\n",
        "   2.32931727e-02   1.96534827e-05]"
       ]
      },
      {
       "output_type": "stream",
       "stream": "stdout",
       "text": [
        "\n",
        "[ 0.          0.         -0.01190476 -0.04874477  0.01        0.00348518]"
       ]
      },
      {
       "output_type": "stream",
       "stream": "stdout",
       "text": [
        "\n",
        "[ 0.         -0.00206612 -0.00419287 -0.05724346  0.06627907 -0.01619819]"
       ]
      },
      {
       "output_type": "stream",
       "stream": "stdout",
       "text": [
        "\n",
        "[ 0.         -0.00587084 -0.00193424 -0.07040816  0.03070866  0.00039082]"
       ]
      },
      {
       "output_type": "stream",
       "stream": "stdout",
       "text": [
        "\n",
        "Optimization terminated successfully.\n",
        "         Current function value: 0.000745\n",
        "         Iterations: 28\n",
        "         Function evaluations: 73\n",
        "[ 0.          0.         -0.00614754 -0.01129032  0.05387674 -0.00176465]"
       ]
      },
      {
       "output_type": "stream",
       "stream": "stdout",
       "text": [
        "\n"
       ]
      },
      {
       "javascript": [
        "$('div#09e687dd-3a60-466f-9995-e1df5203ef35').width('93.62%')"
       ],
       "metadata": {},
       "output_type": "display_data",
       "text": [
        "<IPython.core.display.Javascript at 0x7f73340dd2d0>"
       ]
      },
      {
       "output_type": "stream",
       "stream": "stdout",
       "text": [
        "[ 0.         -0.01859504 -0.03067941 -0.398583    0.07164948 -0.25847928]\n",
        "[ 0.         -0.01178782  0.00136187 -0.29490644  0.07       -0.25221244]"
       ]
      },
      {
       "output_type": "stream",
       "stream": "stdout",
       "text": [
        "\n",
        "[-0.0020202  -0.00784314  0.02623762 -0.17730924  0.22539063 -0.00421445]"
       ]
      },
      {
       "output_type": "stream",
       "stream": "stdout",
       "text": [
        "\n",
        "[-0.00587084 -0.01635992 -0.05727969 -0.45531697 -0.00516569 -0.39786944]"
       ]
      },
      {
       "output_type": "stream",
       "stream": "stdout",
       "text": [
        "\n",
        "[-0.00401606 -0.00956023 -0.06605416 -0.39844961  0.04683794 -0.25800224]"
       ]
      },
      {
       "output_type": "stream",
       "stream": "stdout",
       "text": [
        "\n",
        "[-0.00614754 -0.0368932  -0.13945312 -0.55488323  0.00870841 -0.37859343]"
       ]
      },
      {
       "output_type": "stream",
       "stream": "stdout",
       "text": [
        "\n",
        "[ 0.         -0.00201207  0.02211155 -0.14690722  0.19897959 -0.07282436]"
       ]
      },
      {
       "output_type": "stream",
       "stream": "stdout",
       "text": [
        "\n",
        "[ 0.          0.          0.04598394 -0.06988528  0.29022556  0.03142793]"
       ]
      },
      {
       "output_type": "stream",
       "stream": "stdout",
       "text": [
        "\n",
        "[ 0.          0.          0.0377551  -0.09509804  0.25566802  0.03623213]"
       ]
      },
      {
       "output_type": "stream",
       "stream": "stdout",
       "text": [
        "\n",
        "[-0.00205761  0.          0.03170732 -0.09538745  0.25284553  0.03041351]"
       ]
      },
      {
       "output_type": "stream",
       "stream": "stdout",
       "text": [
        "\n",
        "[ 0.          0.          0.04596774  0.02784679  0.37150538  0.12940901]"
       ]
      },
      {
       "output_type": "stream",
       "stream": "stdout",
       "text": [
        "\n",
        "[ 0.          0.          0.03630137 -0.08017408  0.25332681  0.04098172]"
       ]
      },
      {
       "output_type": "stream",
       "stream": "stdout",
       "text": [
        "\n",
        "[ 0.          0.          0.04790795 -0.00384615  0.418       0.20143781]"
       ]
      },
      {
       "output_type": "stream",
       "stream": "stdout",
       "text": [
        "\n",
        "[-0.00201207 -0.00203252  0.01544715 -0.24959432  0.14845857 -0.10006201]"
       ]
      },
      {
       "output_type": "stream",
       "stream": "stdout",
       "text": [
        "\n",
        "[ 0.          0.          0.05       -0.0402834   0.32551867  0.10357624]"
       ]
      },
      {
       "output_type": "stream",
       "stream": "stdout",
       "text": [
        "\n",
        "[ 0.          0.          0.0360835  -0.18606557  0.18347107 -0.05661568]"
       ]
      },
      {
       "output_type": "stream",
       "stream": "stdout",
       "text": [
        "\n",
        "[ 0.          0.          0.0375     -0.06825397  0.29653465 -0.01647354]"
       ]
      },
      {
       "output_type": "stream",
       "stream": "stdout",
       "text": [
        "\n",
        "[ 0.         -0.00408998  0.022      -0.16808279  0.20754527  0.0101648 ]"
       ]
      },
      {
       "output_type": "stream",
       "stream": "stdout",
       "text": [
        "\n",
        "[-0.00194932  0.          0.02613883 -0.20145631  0.16621622 -0.05371556]"
       ]
      },
      {
       "output_type": "stream",
       "stream": "stdout",
       "text": [
        "\n",
        "[ 0.          0.          0.02525773 -0.21758893  0.17664016 -0.09242812]"
       ]
      },
      {
       "output_type": "stream",
       "stream": "stdout",
       "text": [
        "\n",
        "[ 0.         -0.0060241   0.03602794 -0.13952381  0.25478088 -0.008417  ]"
       ]
      },
      {
       "output_type": "stream",
       "stream": "stdout",
       "text": [
        "\n",
        "[ 0.         -0.00191571  0.03765432 -0.12906977  0.14281664 -0.08086199]"
       ]
      },
      {
       "output_type": "stream",
       "stream": "stdout",
       "text": [
        "\n",
        "[ 0.          0.          0.03360656 -0.18532934  0.18138833 -0.03318895]"
       ]
      },
      {
       "output_type": "stream",
       "stream": "stdout",
       "text": [
        "\n",
        "[ 0.         -0.00401606  0.03393574 -0.16041667  0.162      -0.07663247]"
       ]
      },
      {
       "output_type": "stream",
       "stream": "stdout",
       "text": [
        "\n",
        "[-0.00200401  0.          0.03979592 -0.14354207  0.24338843  0.00153353]"
       ]
      },
      {
       "output_type": "stream",
       "stream": "stdout",
       "text": [
        "\n",
        "[ 0.          0.          0.02633136 -0.13686869  0.21035503 -0.0466842 ]"
       ]
      },
      {
       "output_type": "stream",
       "stream": "stdout",
       "text": [
        "\n",
        "[ 0.          0.          0.02233202 -0.1755814   0.15041322 -0.10422167]"
       ]
      },
      {
       "output_type": "stream",
       "stream": "stdout",
       "text": [
        "\n",
        "[ 0.          0.          0.0240519  -0.18932136  0.14957983 -0.09983357]"
       ]
      },
      {
       "output_type": "stream",
       "stream": "stdout",
       "text": [
        "\n",
        "[ 0.         -0.00205761  0.03616601 -0.19042553  0.16868787 -0.08431305]"
       ]
      },
      {
       "output_type": "stream",
       "stream": "stdout",
       "text": [
        "\n",
        "[ 0.         -0.00198413  0.03159509 -0.17938856  0.16807466 -0.07679659]"
       ]
      },
      {
       "output_type": "stream",
       "stream": "stdout",
       "text": [
        "\n",
        "[ 0.         -0.0078125   0.02515528 -0.19081633  0.16920668 -0.09831396]"
       ]
      },
      {
       "output_type": "stream",
       "stream": "stdout",
       "text": [
        "\n",
        "[ 0.         -0.00191939  0.03953975 -0.15079681  0.16314741 -0.0491269 ]"
       ]
      },
      {
       "output_type": "stream",
       "stream": "stdout",
       "text": [
        "\n",
        "[-0.00196078 -0.00395257  0.03449612 -0.14208925  0.1666998  -0.08832807]"
       ]
      },
      {
       "output_type": "stream",
       "stream": "stdout",
       "text": [
        "\n",
        "[ 0.         -0.00390625  0.02764228 -0.18199195  0.19593496 -0.07002981]"
       ]
      },
      {
       "output_type": "stream",
       "stream": "stdout",
       "text": [
        "\n",
        "[ 0.         -0.00417537  0.03185484 -0.15785563  0.16157685 -0.09609332]"
       ]
      },
      {
       "output_type": "stream",
       "stream": "stdout",
       "text": [
        "\n",
        "[ 0.          0.          0.03210736 -0.12586207  0.17396857 -0.05106438]"
       ]
      },
      {
       "output_type": "stream",
       "stream": "stdout",
       "text": [
        "\n",
        "[ 0.         -0.00192678  0.03390342 -0.15196078  0.14526627 -0.0662487 ]"
       ]
      },
      {
       "output_type": "stream",
       "stream": "stdout",
       "text": [
        "\n",
        "[ 0.         -0.00383877  0.03635478 -0.13778468  0.18684211 -0.04494719]"
       ]
      },
      {
       "output_type": "stream",
       "stream": "stdout",
       "text": [
        "\n",
        "[ 0.         -0.00399202  0.02929607 -0.15769231  0.1845679  -0.0519506 ]"
       ]
      },
      {
       "output_type": "stream",
       "stream": "stdout",
       "text": [
        "\n",
        "[ 0.          0.          0.03818898 -0.16485149  0.15901639 -0.06485435]"
       ]
      },
      {
       "output_type": "stream",
       "stream": "stdout",
       "text": [
        "\n",
        "[-0.00198807 -0.00399202  0.034      -0.1703125   0.1519802  -0.06499182]"
       ]
      },
      {
       "output_type": "stream",
       "stream": "stdout",
       "text": [
        "\n",
        "[ 0.          0.          0.03964803 -0.14718876  0.17782258 -0.05968214]"
       ]
      },
      {
       "output_type": "stream",
       "stream": "stdout",
       "text": [
        "\n",
        "[ 0.         -0.00182482  0.01911197 -0.20928144  0.16825397 -0.08102354]"
       ]
      },
      {
       "output_type": "stream",
       "stream": "stdout",
       "text": [
        "\n",
        "[ 0.          0.          0.03121086 -0.17830189  0.16083172 -0.08460179]"
       ]
      },
      {
       "output_type": "stream",
       "stream": "stdout",
       "text": [
        "\n",
        "[ 0.          0.          0.03915401 -0.20820896  0.19409449 -0.07619877]"
       ]
      },
      {
       "output_type": "stream",
       "stream": "stdout",
       "text": [
        "\n",
        "[-0.00410678  0.          0.03818898 -0.17475248  0.17376238 -0.07754125]"
       ]
      },
      {
       "output_type": "stream",
       "stream": "stdout",
       "text": [
        "\n",
        "[-0.0020202   0.          0.0240519  -0.18138402  0.16030928 -0.07111592]"
       ]
      },
      {
       "output_type": "stream",
       "stream": "stdout",
       "text": [
        "\n",
        "[-0.00206186  0.          0.04235182 -0.17581967  0.18045267 -0.08018371]"
       ]
      },
      {
       "output_type": "stream",
       "stream": "stdout",
       "text": [
        "\n",
        "[ 0.         -0.00196078  0.02637795 -0.18534137  0.21470588 -0.07728699]"
       ]
      },
      {
       "output_type": "stream",
       "stream": "stdout",
       "text": [
        "\n",
        "[ 0.         -0.00189753  0.03127341 -0.16548757  0.13640777 -0.06308155]"
       ]
      },
      {
       "output_type": "stream",
       "stream": "stdout",
       "text": [
        "\n",
        "[ 0.         -0.00201613  0.0358871  -0.16717172  0.13571429 -0.06711191]"
       ]
      },
      {
       "output_type": "stream",
       "stream": "stdout",
       "text": [
        "\n",
        "[-0.00197628 -0.00194932  0.02239915 -0.17323232  0.18170732 -0.06408762]"
       ]
      },
      {
       "output_type": "stream",
       "stream": "stdout",
       "text": [
        "\n",
        "[ 0.         -0.00399202  0.0404943  -0.14411765  0.18694779 -0.07847684]"
       ]
      },
      {
       "output_type": "stream",
       "stream": "stdout",
       "text": [
        "\n",
        "[ 0.          0.          0.03841699 -0.13041237  0.16616162 -0.0698419 ]"
       ]
      },
      {
       "output_type": "stream",
       "stream": "stdout",
       "text": [
        "\n",
        "Optimization terminated successfully.\n",
        "         Current function value: 0.045016\n",
        "         Iterations: 19\n",
        "         Function evaluations: 54\n",
        "[ 0.          0.          0.03973306 -0.17608696  0.20595238 -0.08094213]"
       ]
      },
      {
       "output_type": "stream",
       "stream": "stdout",
       "text": [
        "\n"
       ]
      },
      {
       "javascript": [
        "$('div#09e687dd-3a60-466f-9995-e1df5203ef35').width('95.74%')"
       ],
       "metadata": {},
       "output_type": "display_data",
       "text": [
        "<IPython.core.display.Javascript at 0x7f73340182d0>"
       ]
      },
      {
       "output_type": "stream",
       "stream": "stdout",
       "text": [
        "[ 0.          0.08479087  0.42323232  0.35206612  0.09664694  0.41856337]\n",
        "[ 0.          0.08043053  0.42664093  0.38612167  0.14115308  0.38937942]"
       ]
      },
      {
       "output_type": "stream",
       "stream": "stdout",
       "text": [
        "\n",
        "[ 0.          0.08765432  0.47064579  0.49926931  0.24366472  0.65164778]"
       ]
      },
      {
       "output_type": "stream",
       "stream": "stdout",
       "text": [
        "\n",
        "[-0.0021322   0.07384306  0.41030534  0.21764706  0.04347826  0.25497967]"
       ]
      },
      {
       "output_type": "stream",
       "stream": "stdout",
       "text": [
        "\n",
        "[-0.00186916  0.09206349  0.43927126  0.28907157  0.12641509  0.37634079]"
       ]
      },
      {
       "output_type": "stream",
       "stream": "stdout",
       "text": [
        "\n",
        "[-0.00409836  0.03269231  0.32510288  0.14243354  0.03846154  0.28010036]"
       ]
      },
      {
       "output_type": "stream",
       "stream": "stdout",
       "text": [
        "\n",
        "[-0.01402806  0.02149533  0.26734694  0.02748092  0.03036437 -0.02749809]"
       ]
      },
      {
       "output_type": "stream",
       "stream": "stdout",
       "text": [
        "\n",
        "[-0.05465587 -0.06293279 -0.01593625 -0.08371212  0.00617284 -0.41038534]"
       ]
      },
      {
       "output_type": "stream",
       "stream": "stdout",
       "text": [
        "\n",
        "[-0.01221996  0.02813142  0.25463918  0.02810761  0.03643725  0.12229204]"
       ]
      },
      {
       "output_type": "stream",
       "stream": "stdout",
       "text": [
        "\n",
        "[-0.02539062  0.00784314  0.2195122   0.0371345   0.01796407 -0.0049825 ]"
       ]
      },
      {
       "output_type": "stream",
       "stream": "stdout",
       "text": [
        "\n",
        "[-0.0473251  -0.1         0.00313152 -0.07276423  0.00967118 -0.22050373]"
       ]
      },
      {
       "output_type": "stream",
       "stream": "stdout",
       "text": [
        "\n",
        "[-0.04263566 -0.07034068  0.05708661 -0.05756303  0.01544402 -0.14516938]"
       ]
      },
      {
       "output_type": "stream",
       "stream": "stdout",
       "text": [
        "\n",
        "[-0.06276151 -0.17196653 -0.16728972 -0.12731959  0.         -0.39445605]"
       ]
      },
      {
       "output_type": "stream",
       "stream": "stdout",
       "text": [
        "\n",
        "[-0.03541667 -0.08580376  0.05804481 -0.06616766  0.00982318 -0.17709329]"
       ]
      },
      {
       "output_type": "stream",
       "stream": "stdout",
       "text": [
        "\n",
        "[-0.05846774 -0.09917864 -0.06713427 -0.08474088  0.00406504 -0.36432559]"
       ]
      },
      {
       "output_type": "stream",
       "stream": "stdout",
       "text": [
        "\n",
        "[-0.04733728 -0.0659751   0.0491453  -0.04300412  0.01242236 -0.21857005]"
       ]
      },
      {
       "output_type": "stream",
       "stream": "stdout",
       "text": [
        "\n",
        "[-0.05037313 -0.04671815 -0.06177606 -0.09141414  0.00613497 -0.35939353]"
       ]
      },
      {
       "output_type": "stream",
       "stream": "stdout",
       "text": [
        "\n",
        "[-0.02301255 -0.00261569  0.25049116  0.01475096  0.02321083 -0.00993057]"
       ]
      },
      {
       "output_type": "stream",
       "stream": "stdout",
       "text": [
        "\n",
        "[-0.07017544 -0.13333333 -0.04949495 -0.07996109  0.00759013 -0.17869654]"
       ]
      },
      {
       "output_type": "stream",
       "stream": "stdout",
       "text": [
        "\n",
        "[-0.07773109 -0.15149701 -0.06175299 -0.10785441  0.00557621 -0.29512575]"
       ]
      },
      {
       "output_type": "stream",
       "stream": "stdout",
       "text": [
        "\n",
        "[-0.0212766  -0.04059406  0.12574257 -0.02018256  0.01612903 -0.06408087]"
       ]
      },
      {
       "output_type": "stream",
       "stream": "stdout",
       "text": [
        "\n",
        "[-0.01863354  0.0261477   0.27131783  0.01396761  0.02380952 -0.04745703]"
       ]
      },
      {
       "output_type": "stream",
       "stream": "stdout",
       "text": [
        "\n",
        "[-0.03974895 -0.10881226  0.04713494 -0.05890269  0.00631579 -0.14760584]"
       ]
      },
      {
       "output_type": "stream",
       "stream": "stdout",
       "text": [
        "\n",
        "[-0.05357143 -0.03178295  0.14047151 -0.03431373  0.00988142 -0.01263409]"
       ]
      },
      {
       "output_type": "stream",
       "stream": "stdout",
       "text": [
        "\n",
        "[-0.08384458 -0.15254582 -0.07228916 -0.0852381   0.00579151 -0.25378505]"
       ]
      },
      {
       "output_type": "stream",
       "stream": "stdout",
       "text": [
        "\n",
        "[-0.03168317  0.0122449   0.16998012 -0.00971944  0.008      -0.07840944]"
       ]
      },
      {
       "output_type": "stream",
       "stream": "stdout",
       "text": [
        "\n",
        "[-0.0251046   0.0132948   0.19879518  0.0047619   0.01364522  0.00171967]"
       ]
      },
      {
       "output_type": "stream",
       "stream": "stdout",
       "text": [
        "\n",
        "[-0.01818182  0.03542074  0.22580645  0.03480493  0.01593625  0.02316227]"
       ]
      },
      {
       "output_type": "stream",
       "stream": "stdout",
       "text": [
        "\n",
        "[-0.03386454 -0.06194332  0.09361702 -0.06038697  0.01219512 -0.09122785]"
       ]
      },
      {
       "output_type": "stream",
       "stream": "stdout",
       "text": [
        "\n",
        "[-0.0513834  -0.07453799  0.05813953 -0.03423154  0.01397206 -0.16550672]"
       ]
      },
      {
       "output_type": "stream",
       "stream": "stdout",
       "text": [
        "\n",
        "[-0.04715128 -0.0374502   0.08125    -0.07570281  0.00603622 -0.11489346]"
       ]
      },
      {
       "output_type": "stream",
       "stream": "stdout",
       "text": [
        "\n",
        "[-0.04960317 -0.08273092 -0.00098232 -0.0547619   0.01185771 -0.13112155]"
       ]
      },
      {
       "output_type": "stream",
       "stream": "stdout",
       "text": [
        "\n",
        "[-0.03740157 -0.04455446  0.05741127 -0.02739464  0.00970874 -0.0282454 ]"
       ]
      },
      {
       "output_type": "stream",
       "stream": "stdout",
       "text": [
        "\n",
        "[-0.044      -0.05250965  0.09713701 -0.03408644  0.01764706  0.01029799]"
       ]
      },
      {
       "output_type": "stream",
       "stream": "stdout",
       "text": [
        "\n",
        "[-0.02702703 -0.01001965  0.13269639  0.02137097  0.01320755 -0.01568002]"
       ]
      },
      {
       "output_type": "stream",
       "stream": "stdout",
       "text": [
        "\n",
        "[-0.03639847 -0.00961538  0.18235294  0.0163286   0.02109705  0.03582863]"
       ]
      },
      {
       "output_type": "stream",
       "stream": "stdout",
       "text": [
        "\n",
        "[-0.04174573 -0.07137476  0.05949896 -0.03866397  0.01646091 -0.09213236]"
       ]
      },
      {
       "output_type": "stream",
       "stream": "stdout",
       "text": [
        "\n",
        "[-0.0244898   0.00576923  0.1152381  -0.00193133  0.01919386  0.03891149]"
       ]
      },
      {
       "output_type": "stream",
       "stream": "stdout",
       "text": [
        "\n",
        "[-0.02663934 -0.01157025  0.09251969 -0.00774059  0.01467505 -0.05721371]"
       ]
      },
      {
       "output_type": "stream",
       "stream": "stdout",
       "text": [
        "\n",
        "[-0.03271984 -0.03958333  0.13117871 -0.01004057  0.01807229  0.01478022]"
       ]
      },
      {
       "output_type": "stream",
       "stream": "stdout",
       "text": [
        "\n",
        "[-0.03036437 -0.02159329  0.15877712 -0.00714286  0.02312139  0.07394113]"
       ]
      },
      {
       "output_type": "stream",
       "stream": "stdout",
       "text": [
        "\n",
        "[-0.03710938 -0.05587045  0.10381356 -0.02051793  0.01335878 -0.03289958]"
       ]
      },
      {
       "output_type": "stream",
       "stream": "stdout",
       "text": [
        "\n",
        "[-0.03300971 -0.02114537  0.16666667 -0.01983471  0.01022495 -0.05994298]"
       ]
      },
      {
       "output_type": "stream",
       "stream": "stdout",
       "text": [
        "\n",
        "[-0.04255319 -0.03899614  0.10245902 -0.00858586  0.02       -0.02271185]"
       ]
      },
      {
       "output_type": "stream",
       "stream": "stdout",
       "text": [
        "\n",
        "[-0.03138075 -0.03360324  0.10546875 -0.02010309  0.01789264 -0.03290261]"
       ]
      },
      {
       "output_type": "stream",
       "stream": "stdout",
       "text": [
        "\n",
        "[-0.0260521  -0.01605416  0.17125984  0.00768463  0.01744186  0.0196969 ]"
       ]
      },
      {
       "output_type": "stream",
       "stream": "stdout",
       "text": [
        "\n",
        "[-0.03643725 -0.0300813   0.10878661 -0.02829615  0.01202405 -0.02712961]"
       ]
      },
      {
       "output_type": "stream",
       "stream": "stdout",
       "text": [
        "\n",
        "[-0.04435484 -0.04435146  0.0537037  -0.03483685  0.01844262 -0.11222984]"
       ]
      },
      {
       "output_type": "stream",
       "stream": "stdout",
       "text": [
        "\n",
        "[-0.0552381  -0.04130435  0.13564356  0.01333938  0.01666667 -0.01751209]"
       ]
      },
      {
       "output_type": "stream",
       "stream": "stdout",
       "text": [
        "\n",
        "[-0.03125    -0.03806706  0.13340122 -0.02855787  0.01711027 -0.04513819]"
       ]
      },
      {
       "output_type": "stream",
       "stream": "stdout",
       "text": [
        "\n",
        "[-0.05660377 -0.06194332  0.08888889 -0.00742972  0.0122449  -0.01258647]"
       ]
      },
      {
       "output_type": "stream",
       "stream": "stdout",
       "text": [
        "\n",
        "[-0.04564315 -0.04857143  0.09187621 -0.00626283  0.01431493 -0.05499421]"
       ]
      },
      {
       "output_type": "stream",
       "stream": "stdout",
       "text": [
        "\n",
        "[-0.032      -0.05820313  0.10348162 -0.02132353  0.02339181 -0.0304655 ]"
       ]
      },
      {
       "output_type": "stream",
       "stream": "stdout",
       "text": [
        "\n",
        "[-0.03168317 -0.01155378  0.1277666  -0.02447699  0.01972387 -0.01262085]"
       ]
      },
      {
       "output_type": "stream",
       "stream": "stdout",
       "text": [
        "\n",
        "[-0.03244275 -0.06904277  0.04791667 -0.01694387  0.01239669 -0.01522964]"
       ]
      },
      {
       "output_type": "stream",
       "stream": "stdout",
       "text": [
        "\n",
        "[-0.04247104 -0.04595661  0.116      -0.03412017  0.01153846 -0.03493185]"
       ]
      },
      {
       "output_type": "stream",
       "stream": "stdout",
       "text": [
        "\n",
        "[-0.04480652 -0.05010571  0.08108108 -0.0407563   0.02140078 -0.00707754]"
       ]
      },
      {
       "output_type": "stream",
       "stream": "stdout",
       "text": [
        "\n",
        "[-0.02669405 -0.064       0.06213018 -0.02298387  0.02145923 -0.01657046]"
       ]
      },
      {
       "output_type": "stream",
       "stream": "stdout",
       "text": [
        "\n",
        "[-0.01945525 -0.05151515  0.07606491 -0.00239852  0.01162791 -0.02197519]"
       ]
      },
      {
       "output_type": "stream",
       "stream": "stdout",
       "text": [
        "\n",
        "[-0.05577689 -0.06232465  0.1314741  -0.02142857  0.01984127 -0.01399976]"
       ]
      },
      {
       "output_type": "stream",
       "stream": "stdout",
       "text": [
        "\n",
        "[-0.04276986 -0.05830116  0.08315335 -0.0053719   0.02061856 -0.02500342]"
       ]
      },
      {
       "output_type": "stream",
       "stream": "stdout",
       "text": [
        "\n",
        "[-0.03298969 -0.09153226  0.06972112 -0.01653386  0.01405622 -0.0013173 ]"
       ]
      },
      {
       "output_type": "stream",
       "stream": "stdout",
       "text": [
        "\n",
        "[-0.03578529 -0.07234469  0.12048193 -0.01612576  0.01789264 -0.02575283]"
       ]
      },
      {
       "output_type": "stream",
       "stream": "stdout",
       "text": [
        "\n",
        "[-0.04255319 -0.06326531  0.06415479 -0.02037037  0.01174168 -0.01820833]"
       ]
      },
      {
       "output_type": "stream",
       "stream": "stdout",
       "text": [
        "\n",
        "[-0.03211991 -0.07102616  0.08071279 -0.03476562  0.032      -0.01206211]"
       ]
      },
      {
       "output_type": "stream",
       "stream": "stdout",
       "text": [
        "\n",
        "[-0.05816135 -0.01919192  0.1199262  -0.03191882  0.00990099 -0.03726582]"
       ]
      },
      {
       "output_type": "stream",
       "stream": "stdout",
       "text": [
        "\n",
        "[-0.03359684 -0.05212982  0.08964143 -0.02549407  0.01394422 -0.02866546]"
       ]
      },
      {
       "output_type": "stream",
       "stream": "stdout",
       "text": [
        "\n",
        "[-0.03232323 -0.03168724  0.0711501  -0.00252525  0.03137255 -0.02846241]"
       ]
      },
      {
       "output_type": "stream",
       "stream": "stdout",
       "text": [
        "\n",
        "Optimization terminated successfully.\n",
        "         Current function value: 0.008323\n",
        "         Iterations: 34\n",
        "         Function evaluations: 68\n",
        "[-0.038      -0.06860465  0.08461538 -0.00797665  0.02165354 -0.03114704]"
       ]
      },
      {
       "output_type": "stream",
       "stream": "stdout",
       "text": [
        "\n"
       ]
      },
      {
       "javascript": [
        "$('div#09e687dd-3a60-466f-9995-e1df5203ef35').width('97.87%')"
       ],
       "metadata": {},
       "output_type": "display_data",
       "text": [
        "<IPython.core.display.Javascript at 0x7f73341d8a50>"
       ]
      },
      {
       "output_type": "stream",
       "stream": "stdout",
       "text": [
        "[-0.00200803 -0.01506591 -0.02326733 -0.03187251  0.13402062  0.19408451]\n",
        "[-0.00195695 -0.00193424  0.00472441  0.03228963  0.12704918  0.18988495]"
       ]
      },
      {
       "output_type": "stream",
       "stream": "stdout",
       "text": [
        "\n",
        "[ 0.          0.          0.01900826  0.155706    0.25766871  0.43047626]"
       ]
      },
      {
       "output_type": "stream",
       "stream": "stdout",
       "text": [
        "\n",
        "[-0.00607287 -0.01937984 -0.05743802 -0.1511194   0.06237006  0.03673376]"
       ]
      },
      {
       "output_type": "stream",
       "stream": "stdout",
       "text": [
        "\n",
        "[ 0.         -0.01335878 -0.03687259 -0.00690335  0.14143426  0.16702788]"
       ]
      },
      {
       "output_type": "stream",
       "stream": "stdout",
       "text": [
        "\n",
        "[-0.00625    -0.04518664 -0.10487572 -0.2049505   0.05040323  0.05195654]"
       ]
      },
      {
       "output_type": "stream",
       "stream": "stdout",
       "text": [
        "\n",
        "[-0.00784314 -0.07991803 -0.19165029 -0.29841897  0.02777778 -0.2442687 ]"
       ]
      },
      {
       "output_type": "stream",
       "stream": "stdout",
       "text": [
        "\n",
        "[-0.00588235 -0.03937008 -0.12808219 -0.21161826  0.05942623 -0.05360181]"
       ]
      },
      {
       "output_type": "stream",
       "stream": "stdout",
       "text": [
        "\n",
        "[ 0.         -0.01217039 -0.006       0.11133603  0.16666667  0.29902401]"
       ]
      },
      {
       "output_type": "stream",
       "stream": "stdout",
       "text": [
        "\n",
        "[-0.00201613 -0.03960396 -0.07427184 -0.13821138  0.07269155  0.03697567]"
       ]
      },
      {
       "output_type": "stream",
       "stream": "stdout",
       "text": [
        "\n",
        "[ 0.         -0.00408998  0.00472441  0.03891051  0.11428571  0.19793545]"
       ]
      },
      {
       "output_type": "stream",
       "stream": "stdout",
       "text": [
        "\n",
        "[ 0.         -0.00816327 -0.0062249  -0.06862745  0.07905138  0.06979887]"
       ]
      },
      {
       "output_type": "stream",
       "stream": "stdout",
       "text": [
        "\n",
        "[-0.0019305  -0.02244898 -0.02724426 -0.1027668   0.0755102  -0.0002594 ]"
       ]
      },
      {
       "output_type": "stream",
       "stream": "stdout",
       "text": [
        "\n",
        "[-0.01145038 -0.0362173  -0.10413534 -0.21124031  0.04536489  0.00958903]"
       ]
      },
      {
       "output_type": "stream",
       "stream": "stdout",
       "text": [
        "\n",
        "[-0.00200803 -0.00588235 -0.00285412  0.00301811  0.10425532  0.14590181]"
       ]
      },
      {
       "output_type": "stream",
       "stream": "stdout",
       "text": [
        "\n",
        "[-0.0019685  -0.02761341 -0.09541833 -0.17315175  0.06706114 -0.02213275]"
       ]
      },
      {
       "output_type": "stream",
       "stream": "stdout",
       "text": [
        "\n",
        "[-0.00210084 -0.02396514 -0.04765625 -0.13960396  0.03777336 -0.04353949]"
       ]
      },
      {
       "output_type": "stream",
       "stream": "stdout",
       "text": [
        "\n",
        "[ 0.         -0.00570342  0.00171026 -0.04989817  0.07952286  0.08076096]"
       ]
      },
      {
       "output_type": "stream",
       "stream": "stdout",
       "text": [
        "\n",
        "[ 0.         -0.00197628  0.0114561   0.06653992  0.12449799  0.14285124]"
       ]
      },
      {
       "output_type": "stream",
       "stream": "stdout",
       "text": [
        "\n",
        "[ 0.         -0.01282051  0.00325203 -0.01334702  0.11445783  0.07031063]"
       ]
      },
      {
       "output_type": "stream",
       "stream": "stdout",
       "text": [
        "\n",
        "[-0.00409836 -0.02217742 -0.05344828 -0.1653144   0.05040323 -0.05380878]"
       ]
      },
      {
       "output_type": "stream",
       "stream": "stdout",
       "text": [
        "\n",
        "[ 0.         -0.01022495 -0.03102345 -0.0589942   0.09387755  0.0938272 ]"
       ]
      },
      {
       "output_type": "stream",
       "stream": "stdout",
       "text": [
        "\n",
        "[ 0.         -0.00389105  0.01680498 -0.00299401  0.11462451  0.07144854]"
       ]
      },
      {
       "output_type": "stream",
       "stream": "stdout",
       "text": [
        "\n",
        "[ 0.          0.          0.02455969  0.08541667  0.13137255  0.22054402]"
       ]
      },
      {
       "output_type": "stream",
       "stream": "stdout",
       "text": [
        "\n",
        "[-0.00199601 -0.01010101 -0.03617234 -0.06225681  0.06439394  0.01825832]"
       ]
      },
      {
       "output_type": "stream",
       "stream": "stdout",
       "text": [
        "\n",
        "[-0.00196078 -0.00571429 -0.00189621 -0.03740157  0.08253359  0.02560553]"
       ]
      },
      {
       "output_type": "stream",
       "stream": "stdout",
       "text": [
        "\n",
        "[ 0.         -0.0042735   0.00315682 -0.0380117   0.07630522 -0.01227763]"
       ]
      },
      {
       "output_type": "stream",
       "stream": "stdout",
       "text": [
        "\n",
        "[ 0.         -0.01663202 -0.01313646 -0.06889764  0.0662768   0.03664939]"
       ]
      },
      {
       "output_type": "stream",
       "stream": "stdout",
       "text": [
        "\n",
        "[ 0.         -0.00978474 -0.02874016 -0.07894737  0.06720978 -0.00110323]"
       ]
      },
      {
       "output_type": "stream",
       "stream": "stdout",
       "text": [
        "\n",
        "[ 0.         -0.01361868 -0.00870445 -0.09148936  0.06477733 -0.03050091]"
       ]
      },
      {
       "output_type": "stream",
       "stream": "stdout",
       "text": [
        "\n",
        "[-0.002      -0.0209205  -0.0523622  -0.11538462  0.05335968 -0.07208048]"
       ]
      },
      {
       "output_type": "stream",
       "stream": "stdout",
       "text": [
        "\n",
        "[ 0.         -0.01012146 -0.02171315 -0.03965184  0.08431373  0.06437041]"
       ]
      },
      {
       "output_type": "stream",
       "stream": "stdout",
       "text": [
        "\n",
        "[-0.00422833 -0.01635992 -0.01175299 -0.09375     0.08979592  0.0566608 ]"
       ]
      },
      {
       "output_type": "stream",
       "stream": "stdout",
       "text": [
        "\n",
        "[ 0.         -0.01565558 -0.04109731 -0.11044177  0.07658643  0.01021237]"
       ]
      },
      {
       "output_type": "stream",
       "stream": "stdout",
       "text": [
        "\n",
        "[-0.00194553 -0.00998004 -0.0183112  -0.02427184  0.06832298  0.01409954]"
       ]
      },
      {
       "output_type": "stream",
       "stream": "stdout",
       "text": [
        "\n",
        "[-0.00209644 -0.01022495 -0.01653226 -0.10469667  0.078       0.00125043]"
       ]
      },
      {
       "output_type": "stream",
       "stream": "stdout",
       "text": [
        "\n",
        "[-0.00192308 -0.008      -0.03817635 -0.09368421  0.06967213 -0.00526493]"
       ]
      },
      {
       "output_type": "stream",
       "stream": "stdout",
       "text": [
        "\n",
        "[-0.0020202  -0.00976562 -0.02326733 -0.11182994  0.08914729  0.02726641]"
       ]
      },
      {
       "output_type": "stream",
       "stream": "stdout",
       "text": [
        "\n",
        "[ 0.         -0.00623701 -0.02066381 -0.07786885  0.07647059  0.00182164]"
       ]
      },
      {
       "output_type": "stream",
       "stream": "stdout",
       "text": [
        "\n",
        "[ 0.         -0.00974659 -0.00984556 -0.06389452  0.08130081 -0.0256601 ]"
       ]
      },
      {
       "output_type": "stream",
       "stream": "stdout",
       "text": [
        "\n",
        "[-0.00205761 -0.00389105 -0.00335968 -0.04990215  0.07444668  0.00010396]"
       ]
      },
      {
       "output_type": "stream",
       "stream": "stdout",
       "text": [
        "\n",
        "[ 0.         -0.00796813  0.00348837 -0.0483871   0.05846774 -0.02567879]"
       ]
      },
      {
       "output_type": "stream",
       "stream": "stdout",
       "text": [
        "\n",
        "[ 0.         -0.00990099 -0.00068226 -0.02941176  0.06813627 -0.0240207 ]"
       ]
      },
      {
       "output_type": "stream",
       "stream": "stdout",
       "text": [
        "\n",
        "[ 0.          0.          0.01210526 -0.01919192  0.08840864 -0.01634612]"
       ]
      },
      {
       "output_type": "stream",
       "stream": "stdout",
       "text": [
        "\n",
        "[-0.00199203 -0.00833333  0.00296524 -0.03465347  0.06916996 -0.02186145]"
       ]
      },
      {
       "output_type": "stream",
       "stream": "stdout",
       "text": [
        "\n",
        "[-0.0019084  -0.01169591  0.00626243 -0.06024096  0.06275304  0.01856548]"
       ]
      },
      {
       "output_type": "stream",
       "stream": "stdout",
       "text": [
        "\n",
        "[ 0.         -0.00576923  0.00418327 -0.03441296  0.06896552 -0.02185475]"
       ]
      },
      {
       "output_type": "stream",
       "stream": "stdout",
       "text": [
        "\n",
        "[ 0.         -0.00996016 -0.0161157  -0.13654618  0.052      -0.00935497]"
       ]
      },
      {
       "output_type": "stream",
       "stream": "stdout",
       "text": [
        "\n",
        "[ 0.         -0.00623701 -0.0093047  -0.04579439  0.08266129 -0.00725832]"
       ]
      },
      {
       "output_type": "stream",
       "stream": "stdout",
       "text": [
        "\n",
        "[ -2.09205021e-03  -2.14132762e-03  -2.52525253e-03  -7.62004175e-02\n",
        "   5.89390963e-02   2.70206189e-05]"
       ]
      },
      {
       "output_type": "stream",
       "stream": "stdout",
       "text": [
        "\n",
        "[ 0.         -0.01183432 -0.01090373 -0.06639004  0.06613226 -0.02656008]"
       ]
      },
      {
       "output_type": "stream",
       "stream": "stdout",
       "text": [
        "\n",
        "[-0.00198413 -0.01851852 -0.01237425 -0.052       0.07214429 -0.0129791 ]"
       ]
      },
      {
       "output_type": "stream",
       "stream": "stdout",
       "text": [
        "\n",
        "[-0.00200401 -0.00440529  0.00325203 -0.03846154  0.07302231 -0.00490444]"
       ]
      },
      {
       "output_type": "stream",
       "stream": "stdout",
       "text": [
        "\n",
        "[ 0.         -0.01197605 -0.01339468 -0.07996146  0.07522124 -0.00085075]"
       ]
      },
      {
       "output_type": "stream",
       "stream": "stdout",
       "text": [
        "\n",
        "[ 0.         -0.01178782 -0.00319149 -0.07172131  0.06300813 -0.00201521]"
       ]
      },
      {
       "output_type": "stream",
       "stream": "stdout",
       "text": [
        "\n",
        "[ 0.         -0.00742115 -0.00952381 -0.04038462  0.06769826  0.01226391]"
       ]
      },
      {
       "output_type": "stream",
       "stream": "stdout",
       "text": [
        "\n",
        "[ 0.         -0.02586207 -0.0254717  -0.05864811  0.08365759  0.02543003]"
       ]
      },
      {
       "output_type": "stream",
       "stream": "stdout",
       "text": [
        "\n",
        "[ 0.         -0.01912046  0.00393474 -0.03320312  0.06299213 -0.01136104]"
       ]
      },
      {
       "output_type": "stream",
       "stream": "stdout",
       "text": [
        "\n",
        "Optimization terminated successfully.\n",
        "         Current function value: 0.005581\n",
        "         Iterations: 29\n",
        "         Function evaluations: 58\n",
        "[ 0.         -0.00817996 -0.00479452 -0.05864811  0.06288032 -0.00713966]"
       ]
      },
      {
       "output_type": "stream",
       "stream": "stdout",
       "text": [
        "\n"
       ]
      },
      {
       "javascript": [
        "$('div#09e687dd-3a60-466f-9995-e1df5203ef35').width('100.00%')"
       ],
       "metadata": {},
       "output_type": "display_data",
       "text": [
        "<IPython.core.display.Javascript at 0x7f7334041290>"
       ]
      }
     ],
     "prompt_number": 27
    },
    {
     "cell_type": "heading",
     "level": 3,
     "metadata": {},
     "source": [
      "Read in Fit and Prediction Summaries for Each Subject and Concatenate"
     ]
    },
    {
     "cell_type": "code",
     "collapsed": false,
     "input": [
      "sxl=list()\n",
      "for sx in ydata.index.unique():\n",
      "    try:\n",
      "        sxl.append(pd.read_csv(pth+\"OptAccRT/ReBSL_SxFits/OptAccRT_Sx\"+str(sx)+\".csv\", index_col=0))\n",
      "    except:\n",
      "        pass\n",
      "df=pd.concat(sxl)"
     ],
     "language": "python",
     "metadata": {},
     "outputs": [],
     "prompt_number": 32
    },
    {
     "cell_type": "code",
     "collapsed": false,
     "input": [
      "df=pd.read_csv(pth+\"OptAccRT/ReBSL_SxFits/ReBSL_AllSxFits.csv\", index_col=0)"
     ],
     "language": "python",
     "metadata": {},
     "outputs": [],
     "prompt_number": 6
    },
    {
     "cell_type": "heading",
     "level": 3,
     "metadata": {},
     "source": [
      "Save Concatenated Sx-Fits-Predictions DataFrame to File"
     ]
    },
    {
     "cell_type": "code",
     "collapsed": false,
     "input": [
      "df.to_csv(pth+\"OptAccRT/Test/ReBSL_AllSx_.csv\")"
     ],
     "language": "python",
     "metadata": {},
     "outputs": [],
     "prompt_number": 32
    },
    {
     "cell_type": "heading",
     "level": 3,
     "metadata": {},
     "source": [
      "Calculate Summary Stop Acc & RT Values"
     ]
    },
    {
     "cell_type": "code",
     "collapsed": false,
     "input": [
      "avg=df.groupby('ssdlist').mean()\n",
      "sem=df.groupby('ssdlist').sem()\n",
      "\n",
      "avg=df.groupby('ssdlist').mean()\n",
      "yd=avg['ydata'][:-1]\n",
      "yh=avg['yhat'][:-1]\n",
      "rtd=avg['ydata'][-1]/10\n",
      "rth=avg['yhat'][-1]/10\n",
      "\n",
      "sns.palplot(sparams['colors'])"
     ],
     "language": "python",
     "metadata": {},
     "outputs": [
      {
       "metadata": {},
       "output_type": "display_data",
       "png": "[encoded data removed]",
       "text": [
        "<matplotlib.figure.Figure at 0x7fd02476b150>"
       ]
      }
     ],
     "prompt_number": 14
    },
    {
     "cell_type": "heading",
     "level": 3,
     "metadata": {},
     "source": [
      "Plot Observed/Predicted Stop Curves/RT "
     ]
    },
    {
     "cell_type": "code",
     "collapsed": false,
     "input": [
      "import seaborn as sns\n",
      "psy=reload(psy)\n",
      "utils=reload(utils)\n",
      "\n",
      "sparams=utils.style_params()\n",
      "colors=sparams['colors']\n",
      "sns.set_style('ticks', rc=sparams['style'])\n",
      "sns.set_context('paper', rc=sparams['context'])\n",
      "\n",
      "stopmeans=[yd[::-1], yh[::-1]]\n",
      "stoperr=[sem['ydata'][:-1][::-1], sem['yhat'][:-1][::-1]]\n",
      "\n",
      "ax=psy.scurves(ysim=stopmeans, yerr=stoperr, title='ReBSL_SxFits_Pstop', \n",
      "               colors=[colors[-7], 'Gray'], labels=['Data', 'RADD'])\n",
      "plt.tight_layout()\n",
      "plt.savefig(pth+\"OptAccRT/ReBSL_SxFits/ReBSL_SxFits_PStop.png\", dpi=600)"
     ],
     "language": "python",
     "metadata": {},
     "outputs": [
      {
       "metadata": {},
       "output_type": "display_data",
       "png": "[encoded data removed]",
       "text": [
        "<matplotlib.figure.Figure at 0x7fd0243dc110>"
       ]
      }
     ],
     "prompt_number": 28
    },
    {
     "cell_type": "code",
     "collapsed": false,
     "input": [
      "#plot rt\n",
      "ff, axx=plt.subplots(1, figsize=(4, 5.5))\n",
      "\n",
      "axx.bar(0, rtd, yerr=sem['ydata'][-1]/10, color=colors[-7], error_kw={\"elinewidth\":3,\n",
      "        \"ecolor\":'k'}, alpha=1,align='center', edgecolor=colors[-7], label='Data')\n",
      "\n",
      "axx.errorbar(0.05, rth, yerr=sem['yhat'][-1]/10, marker='o', markersize=10, \n",
      "             elinewidth=3, ecolor='k', color='Gray', linewidth=0, alpha=1, label='RADD')   \n",
      "\n",
      "plt.setp(axx, xlim=(-.7, .7), ylim=(.5, .6), ylabel='RT (s)', \n",
      "         xticks=[], xticklabels=[])\n",
      "axx.set_xlabel('Reactive Baseline', fontsize=19)\n",
      "plt.setp(axx.get_yticklabels(), fontsize=17)\n",
      "axx.set_ylabel('RT (s)', fontsize=19, labelpad=8) \n",
      "axx.legend(loc=0, fontsize=17)\n",
      "sns.despine()\n",
      "plt.tight_layout()\n",
      "ff.savefig(pth+\"OptAccRT/ReBSL_SxFits/ReBSL_SxFits_RT.png\", dpi=600)  "
     ],
     "language": "python",
     "metadata": {},
     "outputs": [
      {
       "metadata": {},
       "output_type": "display_data",
       "png": "[encoded data removed]",
       "text": [
        "<matplotlib.figure.Figure at 0x7fd02411e0d0>"
       ]
      }
     ],
     "prompt_number": 29
    },
    {
     "cell_type": "code",
     "collapsed": false,
     "input": [],
     "language": "python",
     "metadata": {},
     "outputs": []
    }
   ],
   "metadata": {}
  }
 ]
}