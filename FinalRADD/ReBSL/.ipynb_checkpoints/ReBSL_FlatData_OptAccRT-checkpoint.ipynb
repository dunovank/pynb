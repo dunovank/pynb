{
 "metadata": {
  "name": "",
  "signature": "sha256:676df7253b97c5b0b3012bb8cd0dc7035b292212d0abc2f44bc4e8a391dc1d6b"
 },
 "nbformat": 3,
 "nbformat_minor": 0,
 "worksheets": [
  {
   "cells": [
    {
     "cell_type": "heading",
     "level": 1,
     "metadata": {},
     "source": [
      "Flat RE-BSL Data Nested Fits "
     ]
    },
    {
     "cell_type": "code",
     "collapsed": false,
     "input": [
      "from __future__ import division\n",
      "import pandas as pd\n",
      "from radd import utils\n",
      "from radd import xopt\n",
      "from lmfit import Parameters, Minimizer"
     ],
     "language": "python",
     "metadata": {},
     "outputs": [],
     "prompt_number": 1
    },
    {
     "cell_type": "heading",
     "level": 3,
     "metadata": {},
     "source": [
      "Load in data"
     ]
    },
    {
     "cell_type": "code",
     "collapsed": false,
     "input": [
      "pth=utils.find_path()\n",
      "\n",
      "#ssRe BSL Data\n",
      "redata_bsl=pd.read_csv(pth+\"DataFiles/ReBSL_Data.csv\", index_col=0)\n",
      "bsl=redata_bsl.copy()\n",
      "bsl.head()"
     ],
     "language": "python",
     "metadata": {},
     "outputs": [
      {
       "html": [
        "<div style=\"max-height:1000px;max-width:1500px;overflow:auto;\">\n",
        "<table border=\"1\" class=\"dataframe\">\n",
        "  <thead>\n",
        "    <tr style=\"text-align: right;\">\n",
        "      <th></th>\n",
        "      <th>subj_idx</th>\n",
        "      <th>GoTrial</th>\n",
        "      <th>StopSignal</th>\n",
        "      <th>Cond</th>\n",
        "      <th>trial_type</th>\n",
        "      <th>choice</th>\n",
        "      <th>response</th>\n",
        "      <th>acc</th>\n",
        "      <th>rt</th>\n",
        "      <th>ssd</th>\n",
        "    </tr>\n",
        "  </thead>\n",
        "  <tbody>\n",
        "    <tr>\n",
        "      <th>0</th>\n",
        "      <td> 28</td>\n",
        "      <td> 1</td>\n",
        "      <td> 1000</td>\n",
        "      <td> bsl</td>\n",
        "      <td> go</td>\n",
        "      <td> go</td>\n",
        "      <td> 1</td>\n",
        "      <td> 1</td>\n",
        "      <td> 0.598535</td>\n",
        "      <td> 1000</td>\n",
        "    </tr>\n",
        "    <tr>\n",
        "      <th>1</th>\n",
        "      <td> 28</td>\n",
        "      <td> 1</td>\n",
        "      <td> 1000</td>\n",
        "      <td> bsl</td>\n",
        "      <td> go</td>\n",
        "      <td> go</td>\n",
        "      <td> 1</td>\n",
        "      <td> 1</td>\n",
        "      <td> 0.520169</td>\n",
        "      <td> 1000</td>\n",
        "    </tr>\n",
        "    <tr>\n",
        "      <th>2</th>\n",
        "      <td> 28</td>\n",
        "      <td> 1</td>\n",
        "      <td> 1000</td>\n",
        "      <td> bsl</td>\n",
        "      <td> go</td>\n",
        "      <td> go</td>\n",
        "      <td> 1</td>\n",
        "      <td> 1</td>\n",
        "      <td> 0.545129</td>\n",
        "      <td> 1000</td>\n",
        "    </tr>\n",
        "    <tr>\n",
        "      <th>3</th>\n",
        "      <td> 28</td>\n",
        "      <td> 1</td>\n",
        "      <td> 1000</td>\n",
        "      <td> bsl</td>\n",
        "      <td> go</td>\n",
        "      <td> go</td>\n",
        "      <td> 1</td>\n",
        "      <td> 1</td>\n",
        "      <td> 0.571587</td>\n",
        "      <td> 1000</td>\n",
        "    </tr>\n",
        "    <tr>\n",
        "      <th>4</th>\n",
        "      <td> 28</td>\n",
        "      <td> 1</td>\n",
        "      <td> 1000</td>\n",
        "      <td> bsl</td>\n",
        "      <td> go</td>\n",
        "      <td> go</td>\n",
        "      <td> 1</td>\n",
        "      <td> 1</td>\n",
        "      <td> 0.505221</td>\n",
        "      <td> 1000</td>\n",
        "    </tr>\n",
        "  </tbody>\n",
        "</table>\n",
        "</div>"
       ],
       "metadata": {},
       "output_type": "pyout",
       "prompt_number": 2,
       "text": [
        "   subj_idx  GoTrial  StopSignal Cond trial_type choice  response  acc  \\\n",
        "0        28        1        1000  bsl         go     go         1    1   \n",
        "1        28        1        1000  bsl         go     go         1    1   \n",
        "2        28        1        1000  bsl         go     go         1    1   \n",
        "3        28        1        1000  bsl         go     go         1    1   \n",
        "4        28        1        1000  bsl         go     go         1    1   \n",
        "\n",
        "         rt   ssd  \n",
        "0  0.598535  1000  \n",
        "1  0.520169  1000  \n",
        "2  0.545129  1000  \n",
        "3  0.571587  1000  \n",
        "4  0.505221  1000  "
       ]
      }
     ],
     "prompt_number": 2
    },
    {
     "cell_type": "heading",
     "level": 3,
     "metadata": {},
     "source": [
      "Get Mean Stop-Curve and RT (Across Sx)"
     ]
    },
    {
     "cell_type": "code",
     "collapsed": false,
     "input": [
      "\n",
      "gocor=bsl[(bsl['trial_type']=='go')&(bsl['acc']==1)&(bsl['rt']<.650)]\n",
      "rtvec=[sxdf.rt.mean() for sx, sxdf in gocor.groupby('subj_idx')]\n",
      "meanrt=np.mean(rtvec)\n",
      "\n",
      "stops=bsl[bsl['trial_type']=='stop']\n",
      "accpiv=utils.makePivot(stops, cols='ssd', index='subj_idx', values='acc')\n",
      "\n",
      "ydata=list(accpiv.mean())\n",
      "ydata.append(meanrt)\n",
      "ydata=np.array(ydata)\n",
      "ydata"
     ],
     "language": "python",
     "metadata": {},
     "outputs": [
      {
       "metadata": {},
       "output_type": "pyout",
       "prompt_number": 5,
       "text": [
        "array([ 0.9942623 ,  0.98278689,  0.89672131,  0.50491803,  0.10327869,\n",
        "        0.55905326])"
       ]
      }
     ],
     "prompt_number": 5
    },
    {
     "cell_type": "heading",
     "level": 3,
     "metadata": {},
     "source": [
      "Load in HDDM Params and Get Average Param-Set Across Sx"
     ]
    },
    {
     "cell_type": "code",
     "collapsed": false,
     "input": [
      "paramdf_bsl=pd.read_csv(pth+\"ParamFiles/ReBSL_HDDM_Params.csv\", index_col='subj_idx')\n",
      "paramdf_bsl.drop('Cond', axis=1, inplace=True)\n",
      "pdf=paramdf_bsl.copy()\n",
      "del pdf['sv']\n",
      "pinit=pdf.mean()\n",
      "#sdtheta=pdf.std()\n",
      "\n",
      "pinit"
     ],
     "language": "python",
     "metadata": {},
     "outputs": [
      {
       "metadata": {},
       "output_type": "pyout",
       "prompt_number": 75,
       "text": [
        "a      0.434914\n",
        "t      0.306783\n",
        "z      0.147018\n",
        "v      1.100021\n",
        "ssv    0.972759\n",
        "dtype: float64"
       ]
      }
     ],
     "prompt_number": 75
    },
    {
     "cell_type": "heading",
     "level": 3,
     "metadata": {},
     "source": [
      "Optimize Parameters: Fitting on Average Stop-Curve and Mean RT (Collapsed Across Sx)"
     ]
    },
    {
     "cell_type": "code",
     "collapsed": false,
     "input": [
      "xopt=reload(xopt)\n",
      "\n",
      "ntrials=5000\n",
      "\n",
      "p=Parameters()\n",
      "\n",
      "p.add('ssv', value=pinit['ssv'], vary=True)\n",
      "p.add('a', value=pinit['a'], min=0.0, vary=True)\n",
      "p.add('v', value=pinit['v'], min=0.0, vary=True)\n",
      "p.add('t', value=pinit['t'], min=0.0, max=.649, vary=True)\n",
      "p.add('z', value=pinit['z'], min=0.0, vary=True)\n",
      "\n",
      "popt = Minimizer(xopt.ssre_accrt_minfunc, p, fcn_args=(pinit, ntrials, ydata), method='Nelder-Mead') \n",
      "popt.fmin(maxfun=1000, ftol=5.e-2, xtol=1.e-2, full_output=True, disp=True)"
     ],
     "language": "python",
     "metadata": {},
     "outputs": [
      {
       "output_type": "stream",
       "stream": "stdout",
       "text": [
        "Optimization terminated successfully.\n",
        "         Current function value: 0.001055\n",
        "         Iterations: 33\n",
        "         Function evaluations: 76\n"
       ]
      }
     ],
     "prompt_number": 76
    },
    {
     "cell_type": "heading",
     "level": 3,
     "metadata": {},
     "source": [
      "Print Optimized Parameters"
     ]
    },
    {
     "cell_type": "code",
     "collapsed": false,
     "input": [
      "opt_theta={k:p[k].value for k in p.keys()}\n",
      "opt_theta"
     ],
     "language": "python",
     "metadata": {},
     "outputs": [
      {
       "metadata": {},
       "output_type": "pyout",
       "prompt_number": 78,
       "text": [
        "{'a': 0.43155063058963727,\n",
        " 'ssv': 0.96986662065537221,\n",
        " 't': 0.30656375144494813,\n",
        " 'v': 1.0366001760617101,\n",
        " 'z': 0.16611261860323445}"
       ]
      }
     ],
     "prompt_number": 78
    },
    {
     "cell_type": "heading",
     "level": 3,
     "metadata": {},
     "source": [
      "Compare RADD Predictions with Data"
     ]
    },
    {
     "cell_type": "code",
     "collapsed": false,
     "input": [
      "import seaborn as sns\n",
      "\n",
      "utils=reload(utils)\n",
      "\n",
      "pth=utils.find_path()\n",
      "sparams=utils.style_params()\n",
      "colors=sparams['colors']\n",
      "sns.set_style('ticks', rc=sparams['style'])\n",
      "sns.set_context('paper', rc=sparams['context'])\n",
      "ssdlist=[.20, .25, .3, .35, .4]\n",
      "\n",
      "opt_theta={k:p[k].value for k in p.keys()}\n",
      "params=pd.Series(opt_theta)\n",
      "yhat=ydata+popt.residual#popt.residual\n",
      "stophat=yhat[:-1]\n",
      "rthat=yhat[-1]\n",
      "\n",
      "\n",
      "f, [ax, axx]=plt.subplots(1,2, figsize=(12, 6))\n",
      "ax.errorbar(ssdlist, ydata[:-1], lw=5, yerr=accpiv.sem()*2, \n",
      "            elinewidth=2, color=colors[-4], label='stop data')\n",
      "ax.plot(ssdlist, stophat, '--', alpha=.8, lw=5, color=colors[3], label='stop hat')\n",
      "ax.legend(loc=0)\n",
      "\n",
      "rts=pd.Series(rtvec)\n",
      "\n",
      "axx.bar(0, rts.mean(), yerr=rts.sem(), error_kw=dict(elinewidth=3, ecolor='k'), \n",
      "        color=colors[-4], align='center', label='rt data')\n",
      "axx.plot(0, rthat, marker='o', markersize=12, color=colors[3], label='rt hat')   \n",
      "axx.legend(loc=0)\n",
      "plt.setp(axx, xlim=(-1, 1), ylim=(.54, .57), ylabel='RT (s)', xticks=[], xticklabels=[], xlabel='ssRe BSL')\n",
      "plt.setp(ax, xlim=(0.185, .415), ylim=(0, 1.05), ylabel='P(Inihibit)', \n",
      "         xticks=ssdlist, xticklabels=[int(ssd*1000) for ssd in ssdlist], xlabel='SSD (ms)')\n",
      "\n",
      "plt.tight_layout()\n",
      "sns.despine()\n",
      "f.savefig(pth+\"AvgData_OptAccRT_ReBSL.png\", dpi=600)    "
     ],
     "language": "python",
     "metadata": {},
     "outputs": [
      {
       "metadata": {},
       "output_type": "display_data",
       "png": "[encoded data removed]",
       "text": [
        "<matplotlib.figure.Figure at 0x7f2e0262e350>"
       ]
      }
     ],
     "prompt_number": 77
    }
   ],
   "metadata": {}
  }
 ]
}