{
 "metadata": {
  "name": "",
  "signature": "sha256:5f3c11ca6c9f160673c299b2d0c5f196852e9fcef37f239848c51215ae5ccaa8"
 },
 "nbformat": 3,
 "nbformat_minor": 0,
 "worksheets": [
  {
   "cells": [
    {
     "cell_type": "code",
     "collapsed": false,
     "input": [
      "from __future__ import division\n",
      "import pandas as pd\n",
      "from radd import utils, xopt, psy, ss, simfx, fitpro\n",
      "from lmfit import Parameters, Minimizer\n",
      "import seaborn as sns\n",
      "import os\n",
      "from collections import OrderedDict\n"
     ],
     "language": "python",
     "metadata": {},
     "outputs": [],
     "prompt_number": 4
    },
    {
     "cell_type": "heading",
     "level": 1,
     "metadata": {},
     "source": [
      "Set Visual Style & Set Path"
     ]
    },
    {
     "cell_type": "code",
     "collapsed": false,
     "input": [
      "sparams=utils.style_params()\n",
      "colors=sparams['colors']\n",
      "sns.set_style('ticks', rc=sparams['style'])\n",
      "sns.set_context('paper', rc=sparams['context'])\n",
      "sns.palplot(sparams['colors'])\n",
      "\n",
      "pth=utils.find_path()\n",
      "\n",
      "\n",
      "# cutoff at .550\n",
      "#pro550=pd.read_csv(pth+\"DataFiles/Pro_Data.csv\", index_col=0)\n",
      "# cutoff at .545\n",
      "#pro545=utils.trunc_df(prodf)"
     ],
     "language": "python",
     "metadata": {},
     "outputs": [
      {
       "metadata": {},
       "output_type": "display_data",
       "png": "[encoded data removed]",
       "text": [
        "<matplotlib.figure.Figure at 0x7fc86f1d6710>"
       ]
      }
     ],
     "prompt_number": 5
    },
    {
     "cell_type": "heading",
     "level": 1,
     "metadata": {},
     "source": [
      "Read in data and init params"
     ]
    },
    {
     "cell_type": "code",
     "collapsed": false,
     "input": [
      "# all original data - no rt cutoff (timebound=.560)\n",
      "prodf=pd.read_csv(pth+\"DataFiles/Pro_AllData.csv\", index_col=0)\n",
      "paramdf=pd.read_csv(pth+\"ParamFiles/ProBSL_HDDM_Params.csv\", index_col='subj_idx')\n",
      "allgorts=utils.sxrt_pivot(prodf)\n",
      "prodf_stops=utils.sxstop_pivot(prodf)\n",
      "\n",
      "allgorts_scaled=allgorts*10\n",
      "allgorts.mean()"
     ],
     "language": "python",
     "metadata": {},
     "outputs": [
      {
       "metadata": {},
       "output_type": "pyout",
       "prompt_number": 3,
       "text": [
        "pGo\n",
        "0.0    0.534378\n",
        "0.2    0.540155\n",
        "0.4    0.542990\n",
        "0.6    0.542564\n",
        "0.8    0.533544\n",
        "1.0    0.529063\n",
        "dtype: float64"
       ]
      }
     ],
     "prompt_number": 3
    },
    {
     "cell_type": "code",
     "collapsed": false,
     "input": [
      "fitpro=reload(fitpro)\n",
      "pb=utils.PBinJ(len(prodf.subj_idx.unique())*len(pgo_list), color=\"#009B76\"); sx_n=0\n",
      "os.chdir(utils.find_path()+\"OptAccRT/ProAllSx_AllData\")\n",
      "\n",
      "pgo_list=[0.0, 0.2, 0.4, 0.6, 0.8, 1.0]\n",
      "sxfits_list=[]; ntrials=2500; depHyper=True\n",
      "\n",
      "\n",
      "for sx in prodf.subj_idx.unique():\n",
      "    \n",
      "    sx_rt=np.array(allgorts_scaled.loc[sx,:].values)\n",
      "    sx_pstop=np.array(prodf_stops.loc[sx,:].values)\n",
      "    \n",
      "    try:\n",
      "        sxinits=paramdf.loc[sx,:].to_dict()\n",
      "    except Exception:\n",
      "        sxinits=paramdf.mean().to_dict()\n",
      "\n",
      "    sxinits['ssd']=.450\n",
      "    \n",
      "    sxpred=pd.DataFrame(columns=['subj_idx','pGo', 'v', 'pstop_data', \n",
      "                                 'pstop_radd', 'rt_data', 'rt_radd', \n",
      "                                 'chi'], index=pgo_list)\n",
      "\n",
      "    for i, pg in enumerate(pgo_list):\n",
      "        \n",
      "        pb.update_i(sx_n)\n",
      "        sx_n +=1\n",
      "    \n",
      "        sxinits['pGo']=pg\n",
      "        \n",
      "        if pg<.5:\n",
      "            vinit=sxinits['v(Lo)']\n",
      "        else:    \n",
      "            vinit=sxinits['v(Hi)']\n",
      "        \n",
      "        y=np.array([sx_pstop[i], sx_rt[i]])\n",
      "        \n",
      "        p=Parameters()\n",
      "        p.add('v', value=vinit, min=0.0, vary=True)\n",
      "        \n",
      "        popt = Minimizer(fitpro.sspro_minfunc, p, fcn_args=(sxinits, y, ntrials), method='Nelder-Mead') \n",
      "        popt.fmin(maxfun=1000, ftol=1.e-3, xtol=1.e-3, full_output=True, disp=True)      \n",
      "        \n",
      "        pstop_radd=y[0]+popt.residual[0]\n",
      "        rt_radd=y[1]+popt.residual[1]\n",
      "        \n",
      "        sxpred.loc[pg,:]=pd.Series(OrderedDict([('subj_idx',int(sx)), ('pGo',pg), ('v',p['v'].value), \n",
      "                                    ('pstop_data',y[0]), ('pstop_radd',pstop_radd), ('rt_data',y[1]), \n",
      "                                    ('rt_radd',rt_radd), ('chi',popt.chisqr)]))\n",
      "    pb.update_i(sx_n)\n",
      "    sxpred.to_csv(\"ProFits_Sx\"+str(sx)+\".csv\")\n",
      "    sxfits_list.append(sxpred)\n",
      "\n",
      "    print \"-\"*100\n",
      "    \n",
      "allsx_fits=pd.concat(sxfits_list)\n",
      "allsx_fits.to_csv(\"ProFits_AllSx.csv\")"
     ],
     "language": "python",
     "metadata": {},
     "outputs": [
      {
       "html": [
        "\n",
        "\t    <div style=\"border: 1px solid black; width:500px\">\n",
        "\t    <div id=\"6594c19e-2f60-4ed8-b616-929179320c69\" style=\"background-color:#009B76; width:0%\">&nbsp;</div>\n",
        "\t    </div> \n",
        "\t    "
       ],
       "metadata": {},
       "output_type": "display_data",
       "text": [
        "<IPython.core.display.HTML at 0x7f3219effd10>"
       ]
      },
      {
       "javascript": [
        "$('div#6594c19e-2f60-4ed8-b616-929179320c69').width('0.00%')"
       ],
       "metadata": {},
       "output_type": "display_data",
       "text": [
        "<IPython.core.display.Javascript at 0x7f3219efff90>"
       ]
      },
      {
       "output_type": "stream",
       "stream": "stdout",
       "text": [
        "Optimization terminated successfully.\n",
        "         Current function value: 0.000000\n",
        "         Iterations: 12\n",
        "         Function evaluations: 27\n"
       ]
      },
      {
       "javascript": [
        "$('div#6594c19e-2f60-4ed8-b616-929179320c69').width('0.27%')"
       ],
       "metadata": {},
       "output_type": "display_data",
       "text": [
        "<IPython.core.display.Javascript at 0x7f3219f5e890>"
       ]
      },
      {
       "output_type": "stream",
       "stream": "stdout",
       "text": [
        "Optimization terminated successfully.\n",
        "         Current function value: 0.004954\n",
        "         Iterations: 11\n",
        "         Function evaluations: 26\n"
       ]
      },
      {
       "javascript": [
        "$('div#6594c19e-2f60-4ed8-b616-929179320c69').width('0.55%')"
       ],
       "metadata": {},
       "output_type": "display_data",
       "text": [
        "<IPython.core.display.Javascript at 0x7f321a024dd0>"
       ]
      },
      {
       "output_type": "stream",
       "stream": "stdout",
       "text": [
        "Optimization terminated successfully.\n",
        "         Current function value: 0.007096\n",
        "         Iterations: 13\n",
        "         Function evaluations: 31\n"
       ]
      },
      {
       "javascript": [
        "$('div#6594c19e-2f60-4ed8-b616-929179320c69').width('0.82%')"
       ],
       "metadata": {},
       "output_type": "display_data",
       "text": [
        "<IPython.core.display.Javascript at 0x7f321a046290>"
       ]
      },
      {
       "output_type": "stream",
       "stream": "stdout",
       "text": [
        "Optimization terminated successfully.\n",
        "         Current function value: 0.019028\n",
        "         Iterations: 50\n",
        "         Function evaluations: 134\n"
       ]
      },
      {
       "javascript": [
        "$('div#6594c19e-2f60-4ed8-b616-929179320c69').width('1.09%')"
       ],
       "metadata": {},
       "output_type": "display_data",
       "text": [
        "<IPython.core.display.Javascript at 0x7f3219f14c50>"
       ]
      },
      {
       "output_type": "stream",
       "stream": "stdout",
       "text": [
        "Optimization terminated successfully.\n",
        "         Current function value: 0.007579\n",
        "         Iterations: 10\n",
        "         Function evaluations: 24\n"
       ]
      },
      {
       "javascript": [
        "$('div#6594c19e-2f60-4ed8-b616-929179320c69').width('1.37%')"
       ],
       "metadata": {},
       "output_type": "display_data",
       "text": [
        "<IPython.core.display.Javascript at 0x7f3219fdea90>"
       ]
      },
      {
       "output_type": "stream",
       "stream": "stdout",
       "text": [
        "Optimization terminated successfully.\n",
        "         Current function value: 0.002781\n",
        "         Iterations: 8\n",
        "         Function evaluations: 18\n"
       ]
      },
      {
       "javascript": [
        "$('div#6594c19e-2f60-4ed8-b616-929179320c69').width('1.64%')"
       ],
       "metadata": {},
       "output_type": "display_data",
       "text": [
        "<IPython.core.display.Javascript at 0x7f321a011890>"
       ]
      },
      {
       "output_type": "stream",
       "stream": "stdout",
       "text": [
        "----------------------------------------------------------------------------------------------------\n"
       ]
      },
      {
       "javascript": [
        "$('div#6594c19e-2f60-4ed8-b616-929179320c69').width('1.64%')"
       ],
       "metadata": {},
       "output_type": "display_data",
       "text": [
        "<IPython.core.display.Javascript at 0x7f3219f03290>"
       ]
      },
      {
       "output_type": "stream",
       "stream": "stdout",
       "text": [
        "Optimization terminated successfully.\n",
        "         Current function value: 0.000000\n",
        "         Iterations: 14\n",
        "         Function evaluations: 37\n"
       ]
      },
      {
       "javascript": [
        "$('div#6594c19e-2f60-4ed8-b616-929179320c69').width('1.91%')"
       ],
       "metadata": {},
       "output_type": "display_data",
       "text": [
        "<IPython.core.display.Javascript at 0x7f3219efe290>"
       ]
      },
      {
       "output_type": "stream",
       "stream": "stdout",
       "text": [
        "Optimization terminated successfully.\n",
        "         Current function value: 0.000240\n",
        "         Iterations: 12\n",
        "         Function evaluations: 25\n"
       ]
      },
      {
       "javascript": [
        "$('div#6594c19e-2f60-4ed8-b616-929179320c69').width('2.19%')"
       ],
       "metadata": {},
       "output_type": "display_data",
       "text": [
        "<IPython.core.display.Javascript at 0x7f321a000150>"
       ]
      },
      {
       "output_type": "stream",
       "stream": "stdout",
       "text": [
        "Optimization terminated successfully.\n",
        "         Current function value: 0.002907\n",
        "         Iterations: 10\n",
        "         Function evaluations: 24\n"
       ]
      },
      {
       "javascript": [
        "$('div#6594c19e-2f60-4ed8-b616-929179320c69').width('2.46%')"
       ],
       "metadata": {},
       "output_type": "display_data",
       "text": [
        "<IPython.core.display.Javascript at 0x7f321a04af90>"
       ]
      },
      {
       "output_type": "stream",
       "stream": "stdout",
       "text": [
        "Optimization terminated successfully.\n",
        "         Current function value: 0.004989\n",
        "         Iterations: 10\n",
        "         Function evaluations: 23\n"
       ]
      },
      {
       "javascript": [
        "$('div#6594c19e-2f60-4ed8-b616-929179320c69').width('2.73%')"
       ],
       "metadata": {},
       "output_type": "display_data",
       "text": [
        "<IPython.core.display.Javascript at 0x7f321a0203d0>"
       ]
      },
      {
       "output_type": "stream",
       "stream": "stdout",
       "text": [
        "Optimization terminated successfully.\n",
        "         Current function value: 0.003441\n",
        "         Iterations: 10\n",
        "         Function evaluations: 24\n"
       ]
      },
      {
       "javascript": [
        "$('div#6594c19e-2f60-4ed8-b616-929179320c69').width('3.01%')"
       ],
       "metadata": {},
       "output_type": "display_data",
       "text": [
        "<IPython.core.display.Javascript at 0x7f321a01ead0>"
       ]
      },
      {
       "output_type": "stream",
       "stream": "stdout",
       "text": [
        "Optimization terminated successfully.\n",
        "         Current function value: 0.000810\n",
        "         Iterations: 8\n",
        "         Function evaluations: 20\n"
       ]
      },
      {
       "javascript": [
        "$('div#6594c19e-2f60-4ed8-b616-929179320c69').width('3.28%')"
       ],
       "metadata": {},
       "output_type": "display_data",
       "text": [
        "<IPython.core.display.Javascript at 0x7f3219f03f90>"
       ]
      },
      {
       "output_type": "stream",
       "stream": "stdout",
       "text": [
        "----------------------------------------------------------------------------------------------------\n"
       ]
      },
      {
       "javascript": [
        "$('div#6594c19e-2f60-4ed8-b616-929179320c69').width('3.28%')"
       ],
       "metadata": {},
       "output_type": "display_data",
       "text": [
        "<IPython.core.display.Javascript at 0x7f3219ee0a90>"
       ]
      },
      {
       "output_type": "stream",
       "stream": "stdout",
       "text": [
        "Optimization terminated successfully.\n",
        "         Current function value: 0.000000\n",
        "         Iterations: 13\n",
        "         Function evaluations: 34\n"
       ]
      },
      {
       "javascript": [
        "$('div#6594c19e-2f60-4ed8-b616-929179320c69').width('3.55%')"
       ],
       "metadata": {},
       "output_type": "display_data",
       "text": [
        "<IPython.core.display.Javascript at 0x7f3219ee1d90>"
       ]
      },
      {
       "output_type": "stream",
       "stream": "stdout",
       "text": [
        "Optimization terminated successfully.\n",
        "         Current function value: 0.000839\n",
        "         Iterations: 14\n",
        "         Function evaluations: 31\n"
       ]
      },
      {
       "javascript": [
        "$('div#6594c19e-2f60-4ed8-b616-929179320c69').width('3.83%')"
       ],
       "metadata": {},
       "output_type": "display_data",
       "text": [
        "<IPython.core.display.Javascript at 0x7f3219f6d5d0>"
       ]
      },
      {
       "output_type": "stream",
       "stream": "stdout",
       "text": [
        "Optimization terminated successfully.\n",
        "         Current function value: 0.000017\n",
        "         Iterations: 10\n",
        "         Function evaluations: 21\n"
       ]
      },
      {
       "javascript": [
        "$('div#6594c19e-2f60-4ed8-b616-929179320c69').width('4.10%')"
       ],
       "metadata": {},
       "output_type": "display_data",
       "text": [
        "<IPython.core.display.Javascript at 0x7f3219ef1810>"
       ]
      },
      {
       "output_type": "stream",
       "stream": "stdout",
       "text": [
        "Optimization terminated successfully.\n",
        "         Current function value: 0.003461\n",
        "         Iterations: 11\n",
        "         Function evaluations: 27\n"
       ]
      },
      {
       "javascript": [
        "$('div#6594c19e-2f60-4ed8-b616-929179320c69').width('4.37%')"
       ],
       "metadata": {},
       "output_type": "display_data",
       "text": [
        "<IPython.core.display.Javascript at 0x7f321a010e10>"
       ]
      },
      {
       "output_type": "stream",
       "stream": "stdout",
       "text": [
        "Optimization terminated successfully.\n",
        "         Current function value: 0.021400\n",
        "         Iterations: 31\n",
        "         Function evaluations: 77\n"
       ]
      },
      {
       "javascript": [
        "$('div#6594c19e-2f60-4ed8-b616-929179320c69').width('4.64%')"
       ],
       "metadata": {},
       "output_type": "display_data",
       "text": [
        "<IPython.core.display.Javascript at 0x7f321a04bb10>"
       ]
      },
      {
       "output_type": "stream",
       "stream": "stdout",
       "text": [
        "Optimization terminated successfully.\n",
        "         Current function value: 0.001350\n",
        "         Iterations: 11\n",
        "         Function evaluations: 26\n"
       ]
      },
      {
       "javascript": [
        "$('div#6594c19e-2f60-4ed8-b616-929179320c69').width('4.92%')"
       ],
       "metadata": {},
       "output_type": "display_data",
       "text": [
        "<IPython.core.display.Javascript at 0x7f3219ee0150>"
       ]
      },
      {
       "output_type": "stream",
       "stream": "stdout",
       "text": [
        "----------------------------------------------------------------------------------------------------\n"
       ]
      },
      {
       "javascript": [
        "$('div#6594c19e-2f60-4ed8-b616-929179320c69').width('4.92%')"
       ],
       "metadata": {},
       "output_type": "display_data",
       "text": [
        "<IPython.core.display.Javascript at 0x7f321a01f1d0>"
       ]
      },
      {
       "output_type": "stream",
       "stream": "stdout",
       "text": [
        "Optimization terminated successfully.\n",
        "         Current function value: 0.000000\n",
        "         Iterations: 11\n",
        "         Function evaluations: 26\n"
       ]
      },
      {
       "javascript": [
        "$('div#6594c19e-2f60-4ed8-b616-929179320c69').width('5.19%')"
       ],
       "metadata": {},
       "output_type": "display_data",
       "text": [
        "<IPython.core.display.Javascript at 0x7f3219ef92d0>"
       ]
      },
      {
       "output_type": "stream",
       "stream": "stdout",
       "text": [
        "Optimization terminated successfully.\n",
        "         Current function value: 0.001049\n",
        "         Iterations: 10\n",
        "         Function evaluations: 22\n"
       ]
      },
      {
       "javascript": [
        "$('div#6594c19e-2f60-4ed8-b616-929179320c69').width('5.46%')"
       ],
       "metadata": {},
       "output_type": "display_data",
       "text": [
        "<IPython.core.display.Javascript at 0x7f321a036590>"
       ]
      },
      {
       "output_type": "stream",
       "stream": "stdout",
       "text": [
        "Optimization terminated successfully.\n",
        "         Current function value: 0.001313\n",
        "         Iterations: 9\n",
        "         Function evaluations: 19\n"
       ]
      },
      {
       "javascript": [
        "$('div#6594c19e-2f60-4ed8-b616-929179320c69').width('5.74%')"
       ],
       "metadata": {},
       "output_type": "display_data",
       "text": [
        "<IPython.core.display.Javascript at 0x7f321a08a950>"
       ]
      },
      {
       "output_type": "stream",
       "stream": "stdout",
       "text": [
        "Optimization terminated successfully.\n",
        "         Current function value: 0.009659\n",
        "         Iterations: 9\n",
        "         Function evaluations: 21\n"
       ]
      },
      {
       "javascript": [
        "$('div#6594c19e-2f60-4ed8-b616-929179320c69').width('6.01%')"
       ],
       "metadata": {},
       "output_type": "display_data",
       "text": [
        "<IPython.core.display.Javascript at 0x7f321a01f790>"
       ]
      },
      {
       "output_type": "stream",
       "stream": "stdout",
       "text": [
        "Optimization terminated successfully.\n",
        "         Current function value: 0.003994\n",
        "         Iterations: 9\n",
        "         Function evaluations: 22\n"
       ]
      },
      {
       "javascript": [
        "$('div#6594c19e-2f60-4ed8-b616-929179320c69').width('6.28%')"
       ],
       "metadata": {},
       "output_type": "display_data",
       "text": [
        "<IPython.core.display.Javascript at 0x7f321a017090>"
       ]
      },
      {
       "output_type": "stream",
       "stream": "stdout",
       "text": [
        "Optimization terminated successfully.\n",
        "         Current function value: 0.015986\n",
        "         Iterations: 10\n",
        "         Function evaluations: 25\n"
       ]
      },
      {
       "javascript": [
        "$('div#6594c19e-2f60-4ed8-b616-929179320c69').width('6.56%')"
       ],
       "metadata": {},
       "output_type": "display_data",
       "text": [
        "<IPython.core.display.Javascript at 0x7f3219ef8fd0>"
       ]
      },
      {
       "output_type": "stream",
       "stream": "stdout",
       "text": [
        "----------------------------------------------------------------------------------------------------\n"
       ]
      },
      {
       "javascript": [
        "$('div#6594c19e-2f60-4ed8-b616-929179320c69').width('6.56%')"
       ],
       "metadata": {},
       "output_type": "display_data",
       "text": [
        "<IPython.core.display.Javascript at 0x7f321a020e10>"
       ]
      },
      {
       "output_type": "stream",
       "stream": "stdout",
       "text": [
        "Optimization terminated successfully.\n",
        "         Current function value: 0.000000\n",
        "         Iterations: 13\n",
        "         Function evaluations: 28\n"
       ]
      },
      {
       "javascript": [
        "$('div#6594c19e-2f60-4ed8-b616-929179320c69').width('6.83%')"
       ],
       "metadata": {},
       "output_type": "display_data",
       "text": [
        "<IPython.core.display.Javascript at 0x7f3219fde9d0>"
       ]
      },
      {
       "output_type": "stream",
       "stream": "stdout",
       "text": [
        "Optimization terminated successfully.\n",
        "         Current function value: 0.000010\n",
        "         Iterations: 11\n",
        "         Function evaluations: 23\n"
       ]
      },
      {
       "javascript": [
        "$('div#6594c19e-2f60-4ed8-b616-929179320c69').width('7.10%')"
       ],
       "metadata": {},
       "output_type": "display_data",
       "text": [
        "<IPython.core.display.Javascript at 0x7f3219f03bd0>"
       ]
      },
      {
       "output_type": "stream",
       "stream": "stdout",
       "text": [
        "Optimization terminated successfully.\n",
        "         Current function value: 0.001804\n",
        "         Iterations: 10\n",
        "         Function evaluations: 23\n"
       ]
      },
      {
       "javascript": [
        "$('div#6594c19e-2f60-4ed8-b616-929179320c69').width('7.38%')"
       ],
       "metadata": {},
       "output_type": "display_data",
       "text": [
        "<IPython.core.display.Javascript at 0x7f321a082190>"
       ]
      },
      {
       "output_type": "stream",
       "stream": "stdout",
       "text": [
        "Optimization terminated successfully.\n",
        "         Current function value: 0.012190\n",
        "         Iterations: 11\n",
        "         Function evaluations: 27\n"
       ]
      },
      {
       "javascript": [
        "$('div#6594c19e-2f60-4ed8-b616-929179320c69').width('7.65%')"
       ],
       "metadata": {},
       "output_type": "display_data",
       "text": [
        "<IPython.core.display.Javascript at 0x7f3219f0dcd0>"
       ]
      },
      {
       "output_type": "stream",
       "stream": "stdout",
       "text": [
        "Optimization terminated successfully.\n",
        "         Current function value: 0.042600\n",
        "         Iterations: 11\n",
        "         Function evaluations: 25\n"
       ]
      },
      {
       "javascript": [
        "$('div#6594c19e-2f60-4ed8-b616-929179320c69').width('7.92%')"
       ],
       "metadata": {},
       "output_type": "display_data",
       "text": [
        "<IPython.core.display.Javascript at 0x7f321a027310>"
       ]
      },
      {
       "output_type": "stream",
       "stream": "stdout",
       "text": [
        "Optimization terminated successfully.\n",
        "         Current function value: 0.020147\n",
        "         Iterations: 17\n",
        "         Function evaluations: 41\n"
       ]
      },
      {
       "javascript": [
        "$('div#6594c19e-2f60-4ed8-b616-929179320c69').width('8.20%')"
       ],
       "metadata": {},
       "output_type": "display_data",
       "text": [
        "<IPython.core.display.Javascript at 0x7f321a0200d0>"
       ]
      },
      {
       "output_type": "stream",
       "stream": "stdout",
       "text": [
        "----------------------------------------------------------------------------------------------------\n"
       ]
      },
      {
       "javascript": [
        "$('div#6594c19e-2f60-4ed8-b616-929179320c69').width('8.20%')"
       ],
       "metadata": {},
       "output_type": "display_data",
       "text": [
        "<IPython.core.display.Javascript at 0x7f321a097d10>"
       ]
      },
      {
       "output_type": "stream",
       "stream": "stdout",
       "text": [
        "Optimization terminated successfully.\n",
        "         Current function value: 0.000001\n",
        "         Iterations: 13\n",
        "         Function evaluations: 28\n"
       ]
      },
      {
       "javascript": [
        "$('div#6594c19e-2f60-4ed8-b616-929179320c69').width('8.47%')"
       ],
       "metadata": {},
       "output_type": "display_data",
       "text": [
        "<IPython.core.display.Javascript at 0x7f3219f035d0>"
       ]
      },
      {
       "output_type": "stream",
       "stream": "stdout",
       "text": [
        "Optimization terminated successfully.\n",
        "         Current function value: 0.013012\n",
        "         Iterations: 21\n",
        "         Function evaluations: 55\n"
       ]
      },
      {
       "javascript": [
        "$('div#6594c19e-2f60-4ed8-b616-929179320c69').width('8.74%')"
       ],
       "metadata": {},
       "output_type": "display_data",
       "text": [
        "<IPython.core.display.Javascript at 0x7f321a00d550>"
       ]
      },
      {
       "output_type": "stream",
       "stream": "stdout",
       "text": [
        "Optimization terminated successfully.\n",
        "         Current function value: 0.023047\n",
        "         Iterations: 10\n",
        "         Function evaluations: 25\n"
       ]
      },
      {
       "javascript": [
        "$('div#6594c19e-2f60-4ed8-b616-929179320c69').width('9.02%')"
       ],
       "metadata": {},
       "output_type": "display_data",
       "text": [
        "<IPython.core.display.Javascript at 0x7f321a0a1790>"
       ]
      },
      {
       "output_type": "stream",
       "stream": "stdout",
       "text": [
        "Optimization terminated successfully.\n",
        "         Current function value: 0.079238\n",
        "         Iterations: 16\n",
        "         Function evaluations: 37\n"
       ]
      },
      {
       "javascript": [
        "$('div#6594c19e-2f60-4ed8-b616-929179320c69').width('9.29%')"
       ],
       "metadata": {},
       "output_type": "display_data",
       "text": [
        "<IPython.core.display.Javascript at 0x7f3219ff6710>"
       ]
      },
      {
       "output_type": "stream",
       "stream": "stdout",
       "text": [
        "Optimization terminated successfully.\n",
        "         Current function value: 0.071515\n",
        "         Iterations: 38\n",
        "         Function evaluations: 104\n"
       ]
      },
      {
       "javascript": [
        "$('div#6594c19e-2f60-4ed8-b616-929179320c69').width('9.56%')"
       ],
       "metadata": {},
       "output_type": "display_data",
       "text": [
        "<IPython.core.display.Javascript at 0x7f3219f02850>"
       ]
      },
      {
       "output_type": "stream",
       "stream": "stdout",
       "text": [
        "Warning: Maximum number of iterations has been exceeded.\n"
       ]
      },
      {
       "javascript": [
        "$('div#6594c19e-2f60-4ed8-b616-929179320c69').width('9.84%')"
       ],
       "metadata": {},
       "output_type": "display_data",
       "text": [
        "<IPython.core.display.Javascript at 0x7f321a0970d0>"
       ]
      },
      {
       "output_type": "stream",
       "stream": "stdout",
       "text": [
        "----------------------------------------------------------------------------------------------------\n"
       ]
      },
      {
       "javascript": [
        "$('div#6594c19e-2f60-4ed8-b616-929179320c69').width('9.84%')"
       ],
       "metadata": {},
       "output_type": "display_data",
       "text": [
        "<IPython.core.display.Javascript at 0x7f321a046890>"
       ]
      },
      {
       "output_type": "stream",
       "stream": "stdout",
       "text": [
        "Optimization terminated successfully.\n",
        "         Current function value: 0.000000\n",
        "         Iterations: 13\n",
        "         Function evaluations: 34\n"
       ]
      },
      {
       "javascript": [
        "$('div#6594c19e-2f60-4ed8-b616-929179320c69').width('10.11%')"
       ],
       "metadata": {},
       "output_type": "display_data",
       "text": [
        "<IPython.core.display.Javascript at 0x7f3219f7d6d0>"
       ]
      },
      {
       "output_type": "stream",
       "stream": "stdout",
       "text": [
        "Optimization terminated successfully.\n",
        "         Current function value: 0.003071\n",
        "         Iterations: 10\n",
        "         Function evaluations: 24\n"
       ]
      },
      {
       "javascript": [
        "$('div#6594c19e-2f60-4ed8-b616-929179320c69').width('10.38%')"
       ],
       "metadata": {},
       "output_type": "display_data",
       "text": [
        "<IPython.core.display.Javascript at 0x7f321a00b8d0>"
       ]
      },
      {
       "output_type": "stream",
       "stream": "stdout",
       "text": [
        "Optimization terminated successfully.\n",
        "         Current function value: 0.003640\n",
        "         Iterations: 16\n",
        "         Function evaluations: 38\n"
       ]
      },
      {
       "javascript": [
        "$('div#6594c19e-2f60-4ed8-b616-929179320c69').width('10.66%')"
       ],
       "metadata": {},
       "output_type": "display_data",
       "text": [
        "<IPython.core.display.Javascript at 0x7f321a097710>"
       ]
      },
      {
       "output_type": "stream",
       "stream": "stdout",
       "text": [
        "Optimization terminated successfully.\n",
        "         Current function value: 0.015586\n",
        "         Iterations: 10\n",
        "         Function evaluations: 23\n"
       ]
      },
      {
       "javascript": [
        "$('div#6594c19e-2f60-4ed8-b616-929179320c69').width('10.93%')"
       ],
       "metadata": {},
       "output_type": "display_data",
       "text": [
        "<IPython.core.display.Javascript at 0x7f321a06ce10>"
       ]
      },
      {
       "output_type": "stream",
       "stream": "stdout",
       "text": [
        "Optimization terminated successfully.\n",
        "         Current function value: 0.020435\n",
        "         Iterations: 15\n",
        "         Function evaluations: 37\n"
       ]
      },
      {
       "javascript": [
        "$('div#6594c19e-2f60-4ed8-b616-929179320c69').width('11.20%')"
       ],
       "metadata": {},
       "output_type": "display_data",
       "text": [
        "<IPython.core.display.Javascript at 0x7f321a01fd90>"
       ]
      },
      {
       "output_type": "stream",
       "stream": "stdout",
       "text": [
        "Optimization terminated successfully.\n",
        "         Current function value: 0.004568\n",
        "         Iterations: 9\n",
        "         Function evaluations: 22\n"
       ]
      },
      {
       "javascript": [
        "$('div#6594c19e-2f60-4ed8-b616-929179320c69').width('11.48%')"
       ],
       "metadata": {},
       "output_type": "display_data",
       "text": [
        "<IPython.core.display.Javascript at 0x7f321a046f10>"
       ]
      },
      {
       "output_type": "stream",
       "stream": "stdout",
       "text": [
        "----------------------------------------------------------------------------------------------------\n"
       ]
      },
      {
       "javascript": [
        "$('div#6594c19e-2f60-4ed8-b616-929179320c69').width('11.48%')"
       ],
       "metadata": {},
       "output_type": "display_data",
       "text": [
        "<IPython.core.display.Javascript at 0x7f3219ef1a10>"
       ]
      },
      {
       "output_type": "stream",
       "stream": "stdout",
       "text": [
        "Optimization terminated successfully.\n",
        "         Current function value: 0.000021\n",
        "         Iterations: 11\n",
        "         Function evaluations: 26\n"
       ]
      },
      {
       "javascript": [
        "$('div#6594c19e-2f60-4ed8-b616-929179320c69').width('11.75%')"
       ],
       "metadata": {},
       "output_type": "display_data",
       "text": [
        "<IPython.core.display.Javascript at 0x7f321a06c550>"
       ]
      },
      {
       "output_type": "stream",
       "stream": "stdout",
       "text": [
        "Optimization terminated successfully.\n",
        "         Current function value: 0.000744\n",
        "         Iterations: 11\n",
        "         Function evaluations: 23\n"
       ]
      },
      {
       "javascript": [
        "$('div#6594c19e-2f60-4ed8-b616-929179320c69').width('12.02%')"
       ],
       "metadata": {},
       "output_type": "display_data",
       "text": [
        "<IPython.core.display.Javascript at 0x7f321a099710>"
       ]
      },
      {
       "output_type": "stream",
       "stream": "stdout",
       "text": [
        "Optimization terminated successfully.\n",
        "         Current function value: 0.000506\n",
        "         Iterations: 9\n",
        "         Function evaluations: 21\n"
       ]
      },
      {
       "javascript": [
        "$('div#6594c19e-2f60-4ed8-b616-929179320c69').width('12.30%')"
       ],
       "metadata": {},
       "output_type": "display_data",
       "text": [
        "<IPython.core.display.Javascript at 0x7f321a097e50>"
       ]
      },
      {
       "output_type": "stream",
       "stream": "stdout",
       "text": [
        "Optimization terminated successfully.\n",
        "         Current function value: 0.012118\n",
        "         Iterations: 21\n",
        "         Function evaluations: 54\n"
       ]
      },
      {
       "javascript": [
        "$('div#6594c19e-2f60-4ed8-b616-929179320c69').width('12.57%')"
       ],
       "metadata": {},
       "output_type": "display_data",
       "text": [
        "<IPython.core.display.Javascript at 0x7f3219ff61d0>"
       ]
      },
      {
       "output_type": "stream",
       "stream": "stdout",
       "text": [
        "Optimization terminated successfully.\n",
        "         Current function value: 0.001888\n",
        "         Iterations: 9\n",
        "         Function evaluations: 23\n"
       ]
      },
      {
       "javascript": [
        "$('div#6594c19e-2f60-4ed8-b616-929179320c69').width('12.84%')"
       ],
       "metadata": {},
       "output_type": "display_data",
       "text": [
        "<IPython.core.display.Javascript at 0x7f3219f46910>"
       ]
      },
      {
       "output_type": "stream",
       "stream": "stdout",
       "text": [
        "Optimization terminated successfully.\n",
        "         Current function value: 0.001277\n",
        "         Iterations: 8\n",
        "         Function evaluations: 20\n"
       ]
      },
      {
       "javascript": [
        "$('div#6594c19e-2f60-4ed8-b616-929179320c69').width('13.11%')"
       ],
       "metadata": {},
       "output_type": "display_data",
       "text": [
        "<IPython.core.display.Javascript at 0x7f3219ef1cd0>"
       ]
      },
      {
       "output_type": "stream",
       "stream": "stdout",
       "text": [
        "----------------------------------------------------------------------------------------------------\n"
       ]
      },
      {
       "javascript": [
        "$('div#6594c19e-2f60-4ed8-b616-929179320c69').width('13.11%')"
       ],
       "metadata": {},
       "output_type": "display_data",
       "text": [
        "<IPython.core.display.Javascript at 0x7f3219f46cd0>"
       ]
      },
      {
       "output_type": "stream",
       "stream": "stdout",
       "text": [
        "Optimization terminated successfully.\n",
        "         Current function value: 0.000000\n",
        "         Iterations: 14\n",
        "         Function evaluations: 37\n"
       ]
      },
      {
       "javascript": [
        "$('div#6594c19e-2f60-4ed8-b616-929179320c69').width('13.39%')"
       ],
       "metadata": {},
       "output_type": "display_data",
       "text": [
        "<IPython.core.display.Javascript at 0x7f321a0059d0>"
       ]
      },
      {
       "output_type": "stream",
       "stream": "stdout",
       "text": [
        "Optimization terminated successfully.\n",
        "         Current function value: 0.000050\n",
        "         Iterations: 12\n",
        "         Function evaluations: 27\n"
       ]
      },
      {
       "javascript": [
        "$('div#6594c19e-2f60-4ed8-b616-929179320c69').width('13.66%')"
       ],
       "metadata": {},
       "output_type": "display_data",
       "text": [
        "<IPython.core.display.Javascript at 0x7f321a07ab90>"
       ]
      },
      {
       "output_type": "stream",
       "stream": "stdout",
       "text": [
        "Optimization terminated successfully.\n",
        "         Current function value: 0.000005\n",
        "         Iterations: 12\n",
        "         Function evaluations: 27\n"
       ]
      },
      {
       "javascript": [
        "$('div#6594c19e-2f60-4ed8-b616-929179320c69').width('13.93%')"
       ],
       "metadata": {},
       "output_type": "display_data",
       "text": [
        "<IPython.core.display.Javascript at 0x7f3219f8c650>"
       ]
      },
      {
       "output_type": "stream",
       "stream": "stdout",
       "text": [
        "Optimization terminated successfully.\n",
        "         Current function value: 0.001328\n",
        "         Iterations: 10\n",
        "         Function evaluations: 23\n"
       ]
      },
      {
       "javascript": [
        "$('div#6594c19e-2f60-4ed8-b616-929179320c69').width('14.21%')"
       ],
       "metadata": {},
       "output_type": "display_data",
       "text": [
        "<IPython.core.display.Javascript at 0x7f321a07a490>"
       ]
      },
      {
       "output_type": "stream",
       "stream": "stdout",
       "text": [
        "Optimization terminated successfully.\n",
        "         Current function value: 0.007382\n",
        "         Iterations: 9\n",
        "         Function evaluations: 22\n"
       ]
      },
      {
       "javascript": [
        "$('div#6594c19e-2f60-4ed8-b616-929179320c69').width('14.48%')"
       ],
       "metadata": {},
       "output_type": "display_data",
       "text": [
        "<IPython.core.display.Javascript at 0x7f3219ff6ed0>"
       ]
      },
      {
       "output_type": "stream",
       "stream": "stdout",
       "text": [
        "Optimization terminated successfully.\n",
        "         Current function value: 0.002592\n",
        "         Iterations: 12\n",
        "         Function evaluations: 28\n"
       ]
      },
      {
       "javascript": [
        "$('div#6594c19e-2f60-4ed8-b616-929179320c69').width('14.75%')"
       ],
       "metadata": {},
       "output_type": "display_data",
       "text": [
        "<IPython.core.display.Javascript at 0x7f3219f46710>"
       ]
      },
      {
       "output_type": "stream",
       "stream": "stdout",
       "text": [
        "----------------------------------------------------------------------------------------------------\n"
       ]
      },
      {
       "javascript": [
        "$('div#6594c19e-2f60-4ed8-b616-929179320c69').width('14.75%')"
       ],
       "metadata": {},
       "output_type": "display_data",
       "text": [
        "<IPython.core.display.Javascript at 0x7f3219f30310>"
       ]
      },
      {
       "output_type": "stream",
       "stream": "stdout",
       "text": [
        "Optimization terminated successfully.\n",
        "         Current function value: 0.000002\n",
        "         Iterations: 13\n",
        "         Function evaluations: 29\n"
       ]
      },
      {
       "javascript": [
        "$('div#6594c19e-2f60-4ed8-b616-929179320c69').width('15.03%')"
       ],
       "metadata": {},
       "output_type": "display_data",
       "text": [
        "<IPython.core.display.Javascript at 0x7f321a233a10>"
       ]
      },
      {
       "output_type": "stream",
       "stream": "stdout",
       "text": [
        "Optimization terminated successfully.\n",
        "         Current function value: 0.000293\n",
        "         Iterations: 11\n",
        "         Function evaluations: 25\n"
       ]
      },
      {
       "javascript": [
        "$('div#6594c19e-2f60-4ed8-b616-929179320c69').width('15.30%')"
       ],
       "metadata": {},
       "output_type": "display_data",
       "text": [
        "<IPython.core.display.Javascript at 0x7f3219ef1d10>"
       ]
      },
      {
       "output_type": "stream",
       "stream": "stdout",
       "text": [
        "Optimization terminated successfully.\n",
        "         Current function value: 0.000145\n",
        "         Iterations: 11\n",
        "         Function evaluations: 25\n"
       ]
      },
      {
       "javascript": [
        "$('div#6594c19e-2f60-4ed8-b616-929179320c69').width('15.57%')"
       ],
       "metadata": {},
       "output_type": "display_data",
       "text": [
        "<IPython.core.display.Javascript at 0x7f3219efe890>"
       ]
      },
      {
       "output_type": "stream",
       "stream": "stdout",
       "text": [
        "Optimization terminated successfully.\n",
        "         Current function value: 0.000074\n",
        "         Iterations: 10\n",
        "         Function evaluations: 24\n"
       ]
      },
      {
       "javascript": [
        "$('div#6594c19e-2f60-4ed8-b616-929179320c69').width('15.85%')"
       ],
       "metadata": {},
       "output_type": "display_data",
       "text": [
        "<IPython.core.display.Javascript at 0x7f3219f30410>"
       ]
      },
      {
       "output_type": "stream",
       "stream": "stdout",
       "text": [
        "Optimization terminated successfully.\n",
        "         Current function value: 0.003643\n",
        "         Iterations: 10\n",
        "         Function evaluations: 22\n"
       ]
      },
      {
       "javascript": [
        "$('div#6594c19e-2f60-4ed8-b616-929179320c69').width('16.12%')"
       ],
       "metadata": {},
       "output_type": "display_data",
       "text": [
        "<IPython.core.display.Javascript at 0x7f321a06c4d0>"
       ]
      },
      {
       "output_type": "stream",
       "stream": "stdout",
       "text": [
        "Optimization terminated successfully.\n",
        "         Current function value: 0.011251\n",
        "         Iterations: 11\n",
        "         Function evaluations: 28\n"
       ]
      },
      {
       "javascript": [
        "$('div#6594c19e-2f60-4ed8-b616-929179320c69').width('16.39%')"
       ],
       "metadata": {},
       "output_type": "display_data",
       "text": [
        "<IPython.core.display.Javascript at 0x7f321a08c890>"
       ]
      },
      {
       "output_type": "stream",
       "stream": "stdout",
       "text": [
        "----------------------------------------------------------------------------------------------------\n"
       ]
      },
      {
       "javascript": [
        "$('div#6594c19e-2f60-4ed8-b616-929179320c69').width('16.39%')"
       ],
       "metadata": {},
       "output_type": "display_data",
       "text": [
        "<IPython.core.display.Javascript at 0x7f321a08c0d0>"
       ]
      },
      {
       "output_type": "stream",
       "stream": "stdout",
       "text": [
        "Optimization terminated successfully.\n",
        "         Current function value: 0.000000\n",
        "         Iterations: 14\n",
        "         Function evaluations: 31\n"
       ]
      },
      {
       "javascript": [
        "$('div#6594c19e-2f60-4ed8-b616-929179320c69').width('16.67%')"
       ],
       "metadata": {},
       "output_type": "display_data",
       "text": [
        "<IPython.core.display.Javascript at 0x7f321a032c50>"
       ]
      },
      {
       "output_type": "stream",
       "stream": "stdout",
       "text": [
        "Optimization terminated successfully.\n",
        "         Current function value: 0.000311\n",
        "         Iterations: 11\n",
        "         Function evaluations: 25\n"
       ]
      },
      {
       "javascript": [
        "$('div#6594c19e-2f60-4ed8-b616-929179320c69').width('16.94%')"
       ],
       "metadata": {},
       "output_type": "display_data",
       "text": [
        "<IPython.core.display.Javascript at 0x7f3219f0a390>"
       ]
      },
      {
       "output_type": "stream",
       "stream": "stdout",
       "text": [
        "Optimization terminated successfully.\n",
        "         Current function value: 0.001567\n",
        "         Iterations: 14\n",
        "         Function evaluations: 33\n"
       ]
      },
      {
       "javascript": [
        "$('div#6594c19e-2f60-4ed8-b616-929179320c69').width('17.21%')"
       ],
       "metadata": {},
       "output_type": "display_data",
       "text": [
        "<IPython.core.display.Javascript at 0x7f3219edd910>"
       ]
      },
      {
       "output_type": "stream",
       "stream": "stdout",
       "text": [
        "Optimization terminated successfully.\n",
        "         Current function value: 0.002824\n",
        "         Iterations: 11\n",
        "         Function evaluations: 27\n"
       ]
      },
      {
       "javascript": [
        "$('div#6594c19e-2f60-4ed8-b616-929179320c69').width('17.49%')"
       ],
       "metadata": {},
       "output_type": "display_data",
       "text": [
        "<IPython.core.display.Javascript at 0x7f3219f716d0>"
       ]
      },
      {
       "output_type": "stream",
       "stream": "stdout",
       "text": [
        "Optimization terminated successfully.\n",
        "         Current function value: 0.010666\n",
        "         Iterations: 13\n",
        "         Function evaluations: 31\n"
       ]
      },
      {
       "javascript": [
        "$('div#6594c19e-2f60-4ed8-b616-929179320c69').width('17.76%')"
       ],
       "metadata": {},
       "output_type": "display_data",
       "text": [
        "<IPython.core.display.Javascript at 0x7f3219f0ac10>"
       ]
      },
      {
       "output_type": "stream",
       "stream": "stdout",
       "text": [
        "Optimization terminated successfully.\n",
        "         Current function value: 0.006235\n",
        "         Iterations: 15\n",
        "         Function evaluations: 37\n"
       ]
      },
      {
       "javascript": [
        "$('div#6594c19e-2f60-4ed8-b616-929179320c69').width('18.03%')"
       ],
       "metadata": {},
       "output_type": "display_data",
       "text": [
        "<IPython.core.display.Javascript at 0x7f321a08c410>"
       ]
      },
      {
       "output_type": "stream",
       "stream": "stdout",
       "text": [
        "----------------------------------------------------------------------------------------------------\n"
       ]
      },
      {
       "javascript": [
        "$('div#6594c19e-2f60-4ed8-b616-929179320c69').width('18.03%')"
       ],
       "metadata": {},
       "output_type": "display_data",
       "text": [
        "<IPython.core.display.Javascript at 0x7f321a0b7550>"
       ]
      },
      {
       "output_type": "stream",
       "stream": "stdout",
       "text": [
        "Optimization terminated successfully.\n",
        "         Current function value: 0.000000\n",
        "         Iterations: 14\n",
        "         Function evaluations: 32\n"
       ]
      },
      {
       "javascript": [
        "$('div#6594c19e-2f60-4ed8-b616-929179320c69').width('18.31%')"
       ],
       "metadata": {},
       "output_type": "display_data",
       "text": [
        "<IPython.core.display.Javascript at 0x7f321a046ad0>"
       ]
      },
      {
       "output_type": "stream",
       "stream": "stdout",
       "text": [
        "Optimization terminated successfully.\n",
        "         Current function value: 0.000139\n",
        "         Iterations: 12\n",
        "         Function evaluations: 27\n"
       ]
      },
      {
       "javascript": [
        "$('div#6594c19e-2f60-4ed8-b616-929179320c69').width('18.58%')"
       ],
       "metadata": {},
       "output_type": "display_data",
       "text": [
        "<IPython.core.display.Javascript at 0x7f3219f48f90>"
       ]
      },
      {
       "output_type": "stream",
       "stream": "stdout",
       "text": [
        "Optimization terminated successfully.\n",
        "         Current function value: 0.008231\n",
        "         Iterations: 11\n",
        "         Function evaluations: 25\n"
       ]
      },
      {
       "javascript": [
        "$('div#6594c19e-2f60-4ed8-b616-929179320c69').width('18.85%')"
       ],
       "metadata": {},
       "output_type": "display_data",
       "text": [
        "<IPython.core.display.Javascript at 0x7f321a046110>"
       ]
      },
      {
       "output_type": "stream",
       "stream": "stdout",
       "text": [
        "Optimization terminated successfully.\n",
        "         Current function value: 0.007373\n",
        "         Iterations: 16\n",
        "         Function evaluations: 38\n"
       ]
      },
      {
       "javascript": [
        "$('div#6594c19e-2f60-4ed8-b616-929179320c69').width('19.13%')"
       ],
       "metadata": {},
       "output_type": "display_data",
       "text": [
        "<IPython.core.display.Javascript at 0x7f3219f7d950>"
       ]
      },
      {
       "output_type": "stream",
       "stream": "stdout",
       "text": [
        "Optimization terminated successfully.\n",
        "         Current function value: 0.000641\n",
        "         Iterations: 9\n",
        "         Function evaluations: 20\n"
       ]
      },
      {
       "javascript": [
        "$('div#6594c19e-2f60-4ed8-b616-929179320c69').width('19.40%')"
       ],
       "metadata": {},
       "output_type": "display_data",
       "text": [
        "<IPython.core.display.Javascript at 0x7f3219f6d550>"
       ]
      },
      {
       "output_type": "stream",
       "stream": "stdout",
       "text": [
        "Optimization terminated successfully.\n",
        "         Current function value: 0.000339\n",
        "         Iterations: 11\n",
        "         Function evaluations: 25\n"
       ]
      },
      {
       "javascript": [
        "$('div#6594c19e-2f60-4ed8-b616-929179320c69').width('19.67%')"
       ],
       "metadata": {},
       "output_type": "display_data",
       "text": [
        "<IPython.core.display.Javascript at 0x7f321a0b7490>"
       ]
      },
      {
       "output_type": "stream",
       "stream": "stdout",
       "text": [
        "----------------------------------------------------------------------------------------------------\n"
       ]
      },
      {
       "javascript": [
        "$('div#6594c19e-2f60-4ed8-b616-929179320c69').width('19.67%')"
       ],
       "metadata": {},
       "output_type": "display_data",
       "text": [
        "<IPython.core.display.Javascript at 0x7f3219f83e50>"
       ]
      },
      {
       "output_type": "stream",
       "stream": "stdout",
       "text": [
        "Optimization terminated successfully.\n",
        "         Current function value: 0.000002\n",
        "         Iterations: 13\n",
        "         Function evaluations: 28\n"
       ]
      },
      {
       "javascript": [
        "$('div#6594c19e-2f60-4ed8-b616-929179320c69').width('19.95%')"
       ],
       "metadata": {},
       "output_type": "display_data",
       "text": [
        "<IPython.core.display.Javascript at 0x7f321a032d90>"
       ]
      },
      {
       "output_type": "stream",
       "stream": "stdout",
       "text": [
        "Optimization terminated successfully.\n",
        "         Current function value: 0.000009\n",
        "         Iterations: 13\n",
        "         Function evaluations: 30\n"
       ]
      },
      {
       "javascript": [
        "$('div#6594c19e-2f60-4ed8-b616-929179320c69').width('20.22%')"
       ],
       "metadata": {},
       "output_type": "display_data",
       "text": [
        "<IPython.core.display.Javascript at 0x7f321a017bd0>"
       ]
      },
      {
       "output_type": "stream",
       "stream": "stdout",
       "text": [
        "Optimization terminated successfully.\n",
        "         Current function value: 0.001220\n",
        "         Iterations: 16\n",
        "         Function evaluations: 36\n"
       ]
      },
      {
       "javascript": [
        "$('div#6594c19e-2f60-4ed8-b616-929179320c69').width('20.49%')"
       ],
       "metadata": {},
       "output_type": "display_data",
       "text": [
        "<IPython.core.display.Javascript at 0x7f321a08a310>"
       ]
      },
      {
       "output_type": "stream",
       "stream": "stdout",
       "text": [
        "Optimization terminated successfully.\n",
        "         Current function value: 0.010345\n",
        "         Iterations: 11\n",
        "         Function evaluations: 26\n"
       ]
      },
      {
       "javascript": [
        "$('div#6594c19e-2f60-4ed8-b616-929179320c69').width('20.77%')"
       ],
       "metadata": {},
       "output_type": "display_data",
       "text": [
        "<IPython.core.display.Javascript at 0x7f3219f46ed0>"
       ]
      },
      {
       "output_type": "stream",
       "stream": "stdout",
       "text": [
        "Optimization terminated successfully.\n",
        "         Current function value: 0.023568\n",
        "         Iterations: 11\n",
        "         Function evaluations: 28\n"
       ]
      },
      {
       "javascript": [
        "$('div#6594c19e-2f60-4ed8-b616-929179320c69').width('21.04%')"
       ],
       "metadata": {},
       "output_type": "display_data",
       "text": [
        "<IPython.core.display.Javascript at 0x7f321a0f8d50>"
       ]
      },
      {
       "output_type": "stream",
       "stream": "stdout",
       "text": [
        "Optimization terminated successfully.\n",
        "         Current function value: 0.020513\n",
        "         Iterations: 19\n",
        "         Function evaluations: 51\n"
       ]
      },
      {
       "javascript": [
        "$('div#6594c19e-2f60-4ed8-b616-929179320c69').width('21.31%')"
       ],
       "metadata": {},
       "output_type": "display_data",
       "text": [
        "<IPython.core.display.Javascript at 0x7f3219f83950>"
       ]
      },
      {
       "output_type": "stream",
       "stream": "stdout",
       "text": [
        "----------------------------------------------------------------------------------------------------\n"
       ]
      },
      {
       "javascript": [
        "$('div#6594c19e-2f60-4ed8-b616-929179320c69').width('21.31%')"
       ],
       "metadata": {},
       "output_type": "display_data",
       "text": [
        "<IPython.core.display.Javascript at 0x7f321a08c1d0>"
       ]
      },
      {
       "output_type": "stream",
       "stream": "stdout",
       "text": [
        "Optimization terminated successfully.\n",
        "         Current function value: 0.000000\n",
        "         Iterations: 10\n",
        "         Function evaluations: 22\n"
       ]
      },
      {
       "javascript": [
        "$('div#6594c19e-2f60-4ed8-b616-929179320c69').width('21.58%')"
       ],
       "metadata": {},
       "output_type": "display_data",
       "text": [
        "<IPython.core.display.Javascript at 0x7f321a032cd0>"
       ]
      },
      {
       "output_type": "stream",
       "stream": "stdout",
       "text": [
        "Optimization terminated successfully.\n",
        "         Current function value: 0.013032\n",
        "         Iterations: 11\n",
        "         Function evaluations: 25\n"
       ]
      },
      {
       "javascript": [
        "$('div#6594c19e-2f60-4ed8-b616-929179320c69').width('21.86%')"
       ],
       "metadata": {},
       "output_type": "display_data",
       "text": [
        "<IPython.core.display.Javascript at 0x7f3219f03650>"
       ]
      },
      {
       "output_type": "stream",
       "stream": "stdout",
       "text": [
        "Optimization terminated successfully.\n",
        "         Current function value: 0.024249\n",
        "         Iterations: 29\n",
        "         Function evaluations: 78\n"
       ]
      },
      {
       "javascript": [
        "$('div#6594c19e-2f60-4ed8-b616-929179320c69').width('22.13%')"
       ],
       "metadata": {},
       "output_type": "display_data",
       "text": [
        "<IPython.core.display.Javascript at 0x7f3219f03f10>"
       ]
      },
      {
       "output_type": "stream",
       "stream": "stdout",
       "text": [
        "Optimization terminated successfully.\n",
        "         Current function value: 0.065318\n",
        "         Iterations: 10\n",
        "         Function evaluations: 25\n"
       ]
      },
      {
       "javascript": [
        "$('div#6594c19e-2f60-4ed8-b616-929179320c69').width('22.40%')"
       ],
       "metadata": {},
       "output_type": "display_data",
       "text": [
        "<IPython.core.display.Javascript at 0x7f3219f7d3d0>"
       ]
      },
      {
       "output_type": "stream",
       "stream": "stdout",
       "text": [
        "Warning: Maximum number of iterations has been exceeded.\n"
       ]
      },
      {
       "javascript": [
        "$('div#6594c19e-2f60-4ed8-b616-929179320c69').width('22.68%')"
       ],
       "metadata": {},
       "output_type": "display_data",
       "text": [
        "<IPython.core.display.Javascript at 0x7f321a018d50>"
       ]
      },
      {
       "output_type": "stream",
       "stream": "stdout",
       "text": [
        "Optimization terminated successfully.\n",
        "         Current function value: 0.079545\n",
        "         Iterations: 9\n",
        "         Function evaluations: 21\n"
       ]
      },
      {
       "javascript": [
        "$('div#6594c19e-2f60-4ed8-b616-929179320c69').width('22.95%')"
       ],
       "metadata": {},
       "output_type": "display_data",
       "text": [
        "<IPython.core.display.Javascript at 0x7f321a08c050>"
       ]
      },
      {
       "output_type": "stream",
       "stream": "stdout",
       "text": [
        "----------------------------------------------------------------------------------------------------\n"
       ]
      },
      {
       "javascript": [
        "$('div#6594c19e-2f60-4ed8-b616-929179320c69').width('22.95%')"
       ],
       "metadata": {},
       "output_type": "display_data",
       "text": [
        "<IPython.core.display.Javascript at 0x7f321a046690>"
       ]
      },
      {
       "output_type": "stream",
       "stream": "stdout",
       "text": [
        "Optimization terminated successfully.\n",
        "         Current function value: 0.000000\n",
        "         Iterations: 12\n",
        "         Function evaluations: 27\n"
       ]
      },
      {
       "javascript": [
        "$('div#6594c19e-2f60-4ed8-b616-929179320c69').width('23.22%')"
       ],
       "metadata": {},
       "output_type": "display_data",
       "text": [
        "<IPython.core.display.Javascript at 0x7f3219ff0110>"
       ]
      },
      {
       "output_type": "stream",
       "stream": "stdout",
       "text": [
        "Optimization terminated successfully.\n",
        "         Current function value: 0.008971\n",
        "         Iterations: 10\n",
        "         Function evaluations: 22\n"
       ]
      },
      {
       "javascript": [
        "$('div#6594c19e-2f60-4ed8-b616-929179320c69').width('23.50%')"
       ],
       "metadata": {},
       "output_type": "display_data",
       "text": [
        "<IPython.core.display.Javascript at 0x7f321a08cdd0>"
       ]
      },
      {
       "output_type": "stream",
       "stream": "stdout",
       "text": [
        "Optimization terminated successfully.\n",
        "         Current function value: 0.010809\n",
        "         Iterations: 23\n",
        "         Function evaluations: 57\n"
       ]
      },
      {
       "javascript": [
        "$('div#6594c19e-2f60-4ed8-b616-929179320c69').width('23.77%')"
       ],
       "metadata": {},
       "output_type": "display_data",
       "text": [
        "<IPython.core.display.Javascript at 0x7f321a06c890>"
       ]
      },
      {
       "output_type": "stream",
       "stream": "stdout",
       "text": [
        "Optimization terminated successfully.\n",
        "         Current function value: 0.030251\n",
        "         Iterations: 10\n",
        "         Function evaluations: 25\n"
       ]
      },
      {
       "javascript": [
        "$('div#6594c19e-2f60-4ed8-b616-929179320c69').width('24.04%')"
       ],
       "metadata": {},
       "output_type": "display_data",
       "text": [
        "<IPython.core.display.Javascript at 0x7f321a099110>"
       ]
      },
      {
       "output_type": "stream",
       "stream": "stdout",
       "text": [
        "Optimization terminated successfully.\n",
        "         Current function value: 0.057095\n",
        "         Iterations: 15\n",
        "         Function evaluations: 36\n"
       ]
      },
      {
       "javascript": [
        "$('div#6594c19e-2f60-4ed8-b616-929179320c69').width('24.32%')"
       ],
       "metadata": {},
       "output_type": "display_data",
       "text": [
        "<IPython.core.display.Javascript at 0x7f321a005690>"
       ]
      },
      {
       "output_type": "stream",
       "stream": "stdout",
       "text": [
        "Optimization terminated successfully.\n",
        "         Current function value: 0.058891\n",
        "         Iterations: 39\n",
        "         Function evaluations: 99\n"
       ]
      },
      {
       "javascript": [
        "$('div#6594c19e-2f60-4ed8-b616-929179320c69').width('24.59%')"
       ],
       "metadata": {},
       "output_type": "display_data",
       "text": [
        "<IPython.core.display.Javascript at 0x7f321a046850>"
       ]
      },
      {
       "output_type": "stream",
       "stream": "stdout",
       "text": [
        "----------------------------------------------------------------------------------------------------\n"
       ]
      },
      {
       "javascript": [
        "$('div#6594c19e-2f60-4ed8-b616-929179320c69').width('24.59%')"
       ],
       "metadata": {},
       "output_type": "display_data",
       "text": [
        "<IPython.core.display.Javascript at 0x7f321a0468d0>"
       ]
      },
      {
       "output_type": "stream",
       "stream": "stdout",
       "text": [
        "Optimization terminated successfully.\n",
        "         Current function value: 0.000001\n",
        "         Iterations: 11\n",
        "         Function evaluations: 22\n"
       ]
      },
      {
       "javascript": [
        "$('div#6594c19e-2f60-4ed8-b616-929179320c69').width('24.86%')"
       ],
       "metadata": {},
       "output_type": "display_data",
       "text": [
        "<IPython.core.display.Javascript at 0x7f3219ef9d50>"
       ]
      },
      {
       "output_type": "stream",
       "stream": "stdout",
       "text": [
        "Optimization terminated successfully.\n",
        "         Current function value: 0.009412\n",
        "         Iterations: 11\n",
        "         Function evaluations: 23\n"
       ]
      },
      {
       "javascript": [
        "$('div#6594c19e-2f60-4ed8-b616-929179320c69').width('25.14%')"
       ],
       "metadata": {},
       "output_type": "display_data",
       "text": [
        "<IPython.core.display.Javascript at 0x7f3219ff0f90>"
       ]
      },
      {
       "output_type": "stream",
       "stream": "stdout",
       "text": [
        "Optimization terminated successfully.\n",
        "         Current function value: 0.020346\n",
        "         Iterations: 9\n",
        "         Function evaluations: 19\n"
       ]
      },
      {
       "javascript": [
        "$('div#6594c19e-2f60-4ed8-b616-929179320c69').width('25.41%')"
       ],
       "metadata": {},
       "output_type": "display_data",
       "text": [
        "<IPython.core.display.Javascript at 0x7f3219ef11d0>"
       ]
      },
      {
       "output_type": "stream",
       "stream": "stdout",
       "text": [
        "Optimization terminated successfully.\n",
        "         Current function value: 0.030872\n",
        "         Iterations: 15\n",
        "         Function evaluations: 37\n"
       ]
      },
      {
       "javascript": [
        "$('div#6594c19e-2f60-4ed8-b616-929179320c69').width('25.68%')"
       ],
       "metadata": {},
       "output_type": "display_data",
       "text": [
        "<IPython.core.display.Javascript at 0x7f321a080350>"
       ]
      },
      {
       "output_type": "stream",
       "stream": "stdout",
       "text": [
        "Optimization terminated successfully.\n",
        "         Current function value: 0.033564\n",
        "         Iterations: 12\n",
        "         Function evaluations: 30\n"
       ]
      },
      {
       "javascript": [
        "$('div#6594c19e-2f60-4ed8-b616-929179320c69').width('25.96%')"
       ],
       "metadata": {},
       "output_type": "display_data",
       "text": [
        "<IPython.core.display.Javascript at 0x7f321a0b7810>"
       ]
      },
      {
       "output_type": "stream",
       "stream": "stdout",
       "text": [
        "Optimization terminated successfully.\n",
        "         Current function value: 0.026851\n",
        "         Iterations: 9\n",
        "         Function evaluations: 21\n"
       ]
      },
      {
       "javascript": [
        "$('div#6594c19e-2f60-4ed8-b616-929179320c69').width('26.23%')"
       ],
       "metadata": {},
       "output_type": "display_data",
       "text": [
        "<IPython.core.display.Javascript at 0x7f321a0469d0>"
       ]
      },
      {
       "output_type": "stream",
       "stream": "stdout",
       "text": [
        "----------------------------------------------------------------------------------------------------\n"
       ]
      },
      {
       "javascript": [
        "$('div#6594c19e-2f60-4ed8-b616-929179320c69').width('26.23%')"
       ],
       "metadata": {},
       "output_type": "display_data",
       "text": [
        "<IPython.core.display.Javascript at 0x7f3219f73650>"
       ]
      },
      {
       "output_type": "stream",
       "stream": "stdout",
       "text": [
        "Optimization terminated successfully.\n",
        "         Current function value: 0.000000\n",
        "         Iterations: 12\n",
        "         Function evaluations: 27\n"
       ]
      },
      {
       "javascript": [
        "$('div#6594c19e-2f60-4ed8-b616-929179320c69').width('26.50%')"
       ],
       "metadata": {},
       "output_type": "display_data",
       "text": [
        "<IPython.core.display.Javascript at 0x7f3219efc1d0>"
       ]
      },
      {
       "output_type": "stream",
       "stream": "stdout",
       "text": [
        "Optimization terminated successfully.\n",
        "         Current function value: 0.000049\n",
        "         Iterations: 12\n",
        "         Function evaluations: 27\n"
       ]
      },
      {
       "javascript": [
        "$('div#6594c19e-2f60-4ed8-b616-929179320c69').width('26.78%')"
       ],
       "metadata": {},
       "output_type": "display_data",
       "text": [
        "<IPython.core.display.Javascript at 0x7f3219ee17d0>"
       ]
      },
      {
       "output_type": "stream",
       "stream": "stdout",
       "text": [
        "Optimization terminated successfully.\n",
        "         Current function value: 0.000013\n",
        "         Iterations: 11\n",
        "         Function evaluations: 25\n"
       ]
      },
      {
       "javascript": [
        "$('div#6594c19e-2f60-4ed8-b616-929179320c69').width('27.05%')"
       ],
       "metadata": {},
       "output_type": "display_data",
       "text": [
        "<IPython.core.display.Javascript at 0x7f321a0978d0>"
       ]
      },
      {
       "output_type": "stream",
       "stream": "stdout",
       "text": [
        "Optimization terminated successfully.\n",
        "         Current function value: 0.007721\n",
        "         Iterations: 11\n",
        "         Function evaluations: 28\n"
       ]
      },
      {
       "javascript": [
        "$('div#6594c19e-2f60-4ed8-b616-929179320c69').width('27.32%')"
       ],
       "metadata": {},
       "output_type": "display_data",
       "text": [
        "<IPython.core.display.Javascript at 0x7f3219f74250>"
       ]
      },
      {
       "output_type": "stream",
       "stream": "stdout",
       "text": [
        "Optimization terminated successfully.\n",
        "         Current function value: 0.023240\n",
        "         Iterations: 9\n",
        "         Function evaluations: 22\n"
       ]
      },
      {
       "javascript": [
        "$('div#6594c19e-2f60-4ed8-b616-929179320c69').width('27.60%')"
       ],
       "metadata": {},
       "output_type": "display_data",
       "text": [
        "<IPython.core.display.Javascript at 0x7f3219ee1210>"
       ]
      },
      {
       "output_type": "stream",
       "stream": "stdout",
       "text": [
        "Optimization terminated successfully.\n",
        "         Current function value: 0.019826\n",
        "         Iterations: 15\n",
        "         Function evaluations: 40\n"
       ]
      },
      {
       "javascript": [
        "$('div#6594c19e-2f60-4ed8-b616-929179320c69').width('27.87%')"
       ],
       "metadata": {},
       "output_type": "display_data",
       "text": [
        "<IPython.core.display.Javascript at 0x7f3219f73550>"
       ]
      },
      {
       "output_type": "stream",
       "stream": "stdout",
       "text": [
        "----------------------------------------------------------------------------------------------------\n"
       ]
      },
      {
       "javascript": [
        "$('div#6594c19e-2f60-4ed8-b616-929179320c69').width('27.87%')"
       ],
       "metadata": {},
       "output_type": "display_data",
       "text": [
        "<IPython.core.display.Javascript at 0x7f3219f7d310>"
       ]
      },
      {
       "output_type": "stream",
       "stream": "stdout",
       "text": [
        "Optimization terminated successfully.\n",
        "         Current function value: 0.000000\n",
        "         Iterations: 11\n",
        "         Function evaluations: 25\n"
       ]
      },
      {
       "javascript": [
        "$('div#6594c19e-2f60-4ed8-b616-929179320c69').width('28.14%')"
       ],
       "metadata": {},
       "output_type": "display_data",
       "text": [
        "<IPython.core.display.Javascript at 0x7f3219f74f50>"
       ]
      },
      {
       "output_type": "stream",
       "stream": "stdout",
       "text": [
        "Optimization terminated successfully.\n",
        "         Current function value: 0.004100\n",
        "         Iterations: 11\n",
        "         Function evaluations: 23\n"
       ]
      },
      {
       "javascript": [
        "$('div#6594c19e-2f60-4ed8-b616-929179320c69').width('28.42%')"
       ],
       "metadata": {},
       "output_type": "display_data",
       "text": [
        "<IPython.core.display.Javascript at 0x7f3219f73fd0>"
       ]
      },
      {
       "output_type": "stream",
       "stream": "stdout",
       "text": [
        "Optimization terminated successfully.\n",
        "         Current function value: 0.000210\n",
        "         Iterations: 9\n",
        "         Function evaluations: 21\n"
       ]
      },
      {
       "javascript": [
        "$('div#6594c19e-2f60-4ed8-b616-929179320c69').width('28.69%')"
       ],
       "metadata": {},
       "output_type": "display_data",
       "text": [
        "<IPython.core.display.Javascript at 0x7f3219ee1690>"
       ]
      },
      {
       "output_type": "stream",
       "stream": "stdout",
       "text": [
        "Optimization terminated successfully.\n",
        "         Current function value: 0.017144\n",
        "         Iterations: 9\n",
        "         Function evaluations: 19\n"
       ]
      },
      {
       "javascript": [
        "$('div#6594c19e-2f60-4ed8-b616-929179320c69').width('28.96%')"
       ],
       "metadata": {},
       "output_type": "display_data",
       "text": [
        "<IPython.core.display.Javascript at 0x7f321a0f8450>"
       ]
      },
      {
       "output_type": "stream",
       "stream": "stdout",
       "text": [
        "Optimization terminated successfully.\n",
        "         Current function value: 0.016402\n",
        "         Iterations: 16\n",
        "         Function evaluations: 38\n"
       ]
      },
      {
       "javascript": [
        "$('div#6594c19e-2f60-4ed8-b616-929179320c69').width('29.23%')"
       ],
       "metadata": {},
       "output_type": "display_data",
       "text": [
        "<IPython.core.display.Javascript at 0x7f3219f74250>"
       ]
      },
      {
       "output_type": "stream",
       "stream": "stdout",
       "text": [
        "Optimization terminated successfully.\n",
        "         Current function value: 0.015818\n",
        "         Iterations: 9\n",
        "         Function evaluations: 22\n"
       ]
      },
      {
       "javascript": [
        "$('div#6594c19e-2f60-4ed8-b616-929179320c69').width('29.51%')"
       ],
       "metadata": {},
       "output_type": "display_data",
       "text": [
        "<IPython.core.display.Javascript at 0x7f3219f7d690>"
       ]
      },
      {
       "output_type": "stream",
       "stream": "stdout",
       "text": [
        "----------------------------------------------------------------------------------------------------\n"
       ]
      },
      {
       "javascript": [
        "$('div#6594c19e-2f60-4ed8-b616-929179320c69').width('29.51%')"
       ],
       "metadata": {},
       "output_type": "display_data",
       "text": [
        "<IPython.core.display.Javascript at 0x7f321a011d90>"
       ]
      },
      {
       "output_type": "stream",
       "stream": "stdout",
       "text": [
        "Optimization terminated successfully.\n",
        "         Current function value: 0.000000\n",
        "         Iterations: 12\n",
        "         Function evaluations: 27\n"
       ]
      },
      {
       "javascript": [
        "$('div#6594c19e-2f60-4ed8-b616-929179320c69').width('29.78%')"
       ],
       "metadata": {},
       "output_type": "display_data",
       "text": [
        "<IPython.core.display.Javascript at 0x7f3219f745d0>"
       ]
      },
      {
       "output_type": "stream",
       "stream": "stdout",
       "text": [
        "Optimization terminated successfully.\n",
        "         Current function value: 0.006497\n",
        "         Iterations: 20\n",
        "         Function evaluations: 49\n"
       ]
      },
      {
       "javascript": [
        "$('div#6594c19e-2f60-4ed8-b616-929179320c69').width('30.05%')"
       ],
       "metadata": {},
       "output_type": "display_data",
       "text": [
        "<IPython.core.display.Javascript at 0x7f3219effd90>"
       ]
      },
      {
       "output_type": "stream",
       "stream": "stdout",
       "text": [
        "Optimization terminated successfully.\n",
        "         Current function value: 0.003931\n",
        "         Iterations: 10\n",
        "         Function evaluations: 21\n"
       ]
      },
      {
       "javascript": [
        "$('div#6594c19e-2f60-4ed8-b616-929179320c69').width('30.33%')"
       ],
       "metadata": {},
       "output_type": "display_data",
       "text": [
        "<IPython.core.display.Javascript at 0x7f3219f81950>"
       ]
      },
      {
       "output_type": "stream",
       "stream": "stdout",
       "text": [
        "Optimization terminated successfully.\n",
        "         Current function value: 0.021013\n",
        "         Iterations: 9\n",
        "         Function evaluations: 23\n"
       ]
      },
      {
       "javascript": [
        "$('div#6594c19e-2f60-4ed8-b616-929179320c69').width('30.60%')"
       ],
       "metadata": {},
       "output_type": "display_data",
       "text": [
        "<IPython.core.display.Javascript at 0x7f3219f73890>"
       ]
      },
      {
       "output_type": "stream",
       "stream": "stdout",
       "text": [
        "Optimization terminated successfully.\n",
        "         Current function value: 0.036660\n",
        "         Iterations: 10\n",
        "         Function evaluations: 24\n"
       ]
      },
      {
       "javascript": [
        "$('div#6594c19e-2f60-4ed8-b616-929179320c69').width('30.87%')"
       ],
       "metadata": {},
       "output_type": "display_data",
       "text": [
        "<IPython.core.display.Javascript at 0x7f3219f46090>"
       ]
      },
      {
       "output_type": "stream",
       "stream": "stdout",
       "text": [
        "Optimization terminated successfully.\n",
        "         Current function value: 0.029380\n",
        "         Iterations: 13\n",
        "         Function evaluations: 30\n"
       ]
      },
      {
       "javascript": [
        "$('div#6594c19e-2f60-4ed8-b616-929179320c69').width('31.15%')"
       ],
       "metadata": {},
       "output_type": "display_data",
       "text": [
        "<IPython.core.display.Javascript at 0x7f321a011cd0>"
       ]
      },
      {
       "output_type": "stream",
       "stream": "stdout",
       "text": [
        "----------------------------------------------------------------------------------------------------\n"
       ]
      },
      {
       "javascript": [
        "$('div#6594c19e-2f60-4ed8-b616-929179320c69').width('31.15%')"
       ],
       "metadata": {},
       "output_type": "display_data",
       "text": [
        "<IPython.core.display.Javascript at 0x7f3219ef1a10>"
       ]
      },
      {
       "output_type": "stream",
       "stream": "stdout",
       "text": [
        "Optimization terminated successfully.\n",
        "         Current function value: 0.000000\n",
        "         Iterations: 14\n",
        "         Function evaluations: 31\n"
       ]
      },
      {
       "javascript": [
        "$('div#6594c19e-2f60-4ed8-b616-929179320c69').width('31.42%')"
       ],
       "metadata": {},
       "output_type": "display_data",
       "text": [
        "<IPython.core.display.Javascript at 0x7f321a0b7810>"
       ]
      },
      {
       "output_type": "stream",
       "stream": "stdout",
       "text": [
        "Optimization terminated successfully.\n",
        "         Current function value: 0.002441\n",
        "         Iterations: 14\n",
        "         Function evaluations: 34\n"
       ]
      },
      {
       "javascript": [
        "$('div#6594c19e-2f60-4ed8-b616-929179320c69').width('31.69%')"
       ],
       "metadata": {},
       "output_type": "display_data",
       "text": [
        "<IPython.core.display.Javascript at 0x7f3219f03510>"
       ]
      },
      {
       "output_type": "stream",
       "stream": "stdout",
       "text": [
        "Optimization terminated successfully.\n",
        "         Current function value: 0.004746\n",
        "         Iterations: 9\n",
        "         Function evaluations: 21\n"
       ]
      },
      {
       "javascript": [
        "$('div#6594c19e-2f60-4ed8-b616-929179320c69').width('31.97%')"
       ],
       "metadata": {},
       "output_type": "display_data",
       "text": [
        "<IPython.core.display.Javascript at 0x7f3219ef1d90>"
       ]
      },
      {
       "output_type": "stream",
       "stream": "stdout",
       "text": [
        "Optimization terminated successfully.\n",
        "         Current function value: 0.029372\n",
        "         Iterations: 9\n",
        "         Function evaluations: 19\n"
       ]
      },
      {
       "javascript": [
        "$('div#6594c19e-2f60-4ed8-b616-929179320c69').width('32.24%')"
       ],
       "metadata": {},
       "output_type": "display_data",
       "text": [
        "<IPython.core.display.Javascript at 0x7f3219f46fd0>"
       ]
      },
      {
       "output_type": "stream",
       "stream": "stdout",
       "text": [
        "Optimization terminated successfully.\n",
        "         Current function value: 0.000247\n",
        "         Iterations: 8\n",
        "         Function evaluations: 18\n"
       ]
      },
      {
       "javascript": [
        "$('div#6594c19e-2f60-4ed8-b616-929179320c69').width('32.51%')"
       ],
       "metadata": {},
       "output_type": "display_data",
       "text": [
        "<IPython.core.display.Javascript at 0x7f321a0b70d0>"
       ]
      },
      {
       "output_type": "stream",
       "stream": "stdout",
       "text": [
        "Optimization terminated successfully.\n",
        "         Current function value: 0.000320\n",
        "         Iterations: 8\n",
        "         Function evaluations: 19\n"
       ]
      },
      {
       "javascript": [
        "$('div#6594c19e-2f60-4ed8-b616-929179320c69').width('32.79%')"
       ],
       "metadata": {},
       "output_type": "display_data",
       "text": [
        "<IPython.core.display.Javascript at 0x7f3219f03250>"
       ]
      },
      {
       "output_type": "stream",
       "stream": "stdout",
       "text": [
        "----------------------------------------------------------------------------------------------------\n"
       ]
      },
      {
       "javascript": [
        "$('div#6594c19e-2f60-4ed8-b616-929179320c69').width('32.79%')"
       ],
       "metadata": {},
       "output_type": "display_data",
       "text": [
        "<IPython.core.display.Javascript at 0x7f321a082c50>"
       ]
      },
      {
       "output_type": "stream",
       "stream": "stdout",
       "text": [
        "Optimization terminated successfully.\n",
        "         Current function value: 0.000000\n",
        "         Iterations: 12\n",
        "         Function evaluations: 26\n"
       ]
      },
      {
       "javascript": [
        "$('div#6594c19e-2f60-4ed8-b616-929179320c69').width('33.06%')"
       ],
       "metadata": {},
       "output_type": "display_data",
       "text": [
        "<IPython.core.display.Javascript at 0x7f321a041850>"
       ]
      },
      {
       "output_type": "stream",
       "stream": "stdout",
       "text": [
        "Optimization terminated successfully.\n",
        "         Current function value: 0.008577\n",
        "         Iterations: 12\n",
        "         Function evaluations: 29\n"
       ]
      },
      {
       "javascript": [
        "$('div#6594c19e-2f60-4ed8-b616-929179320c69').width('33.33%')"
       ],
       "metadata": {},
       "output_type": "display_data",
       "text": [
        "<IPython.core.display.Javascript at 0x7f321a046910>"
       ]
      },
      {
       "output_type": "stream",
       "stream": "stdout",
       "text": [
        "Optimization terminated successfully.\n",
        "         Current function value: 0.037903\n",
        "         Iterations: 11\n",
        "         Function evaluations: 27\n"
       ]
      },
      {
       "javascript": [
        "$('div#6594c19e-2f60-4ed8-b616-929179320c69').width('33.61%')"
       ],
       "metadata": {},
       "output_type": "display_data",
       "text": [
        "<IPython.core.display.Javascript at 0x7f321a099550>"
       ]
      },
      {
       "output_type": "stream",
       "stream": "stdout",
       "text": [
        "Optimization terminated successfully.\n",
        "         Current function value: 0.035500\n",
        "         Iterations: 15\n",
        "         Function evaluations: 37\n"
       ]
      },
      {
       "javascript": [
        "$('div#6594c19e-2f60-4ed8-b616-929179320c69').width('33.88%')"
       ],
       "metadata": {},
       "output_type": "display_data",
       "text": [
        "<IPython.core.display.Javascript at 0x7f321a099150>"
       ]
      },
      {
       "output_type": "stream",
       "stream": "stdout",
       "text": [
        "Optimization terminated successfully.\n",
        "         Current function value: 0.046478\n",
        "         Iterations: 12\n",
        "         Function evaluations: 30\n"
       ]
      },
      {
       "javascript": [
        "$('div#6594c19e-2f60-4ed8-b616-929179320c69').width('34.15%')"
       ],
       "metadata": {},
       "output_type": "display_data",
       "text": [
        "<IPython.core.display.Javascript at 0x7f321a046650>"
       ]
      },
      {
       "output_type": "stream",
       "stream": "stdout",
       "text": [
        "Optimization terminated successfully.\n",
        "         Current function value: 0.026015\n",
        "         Iterations: 10\n",
        "         Function evaluations: 24\n"
       ]
      },
      {
       "javascript": [
        "$('div#6594c19e-2f60-4ed8-b616-929179320c69').width('34.43%')"
       ],
       "metadata": {},
       "output_type": "display_data",
       "text": [
        "<IPython.core.display.Javascript at 0x7f321a082fd0>"
       ]
      },
      {
       "output_type": "stream",
       "stream": "stdout",
       "text": [
        "----------------------------------------------------------------------------------------------------\n"
       ]
      },
      {
       "javascript": [
        "$('div#6594c19e-2f60-4ed8-b616-929179320c69').width('34.43%')"
       ],
       "metadata": {},
       "output_type": "display_data",
       "text": [
        "<IPython.core.display.Javascript at 0x7f3219efffd0>"
       ]
      },
      {
       "output_type": "stream",
       "stream": "stdout",
       "text": [
        "Optimization terminated successfully.\n",
        "         Current function value: 0.000000\n",
        "         Iterations: 14\n",
        "         Function evaluations: 37\n"
       ]
      },
      {
       "javascript": [
        "$('div#6594c19e-2f60-4ed8-b616-929179320c69').width('34.70%')"
       ],
       "metadata": {},
       "output_type": "display_data",
       "text": [
        "<IPython.core.display.Javascript at 0x7f321a082690>"
       ]
      },
      {
       "output_type": "stream",
       "stream": "stdout",
       "text": [
        "Optimization terminated successfully.\n",
        "         Current function value: 0.000007\n",
        "         Iterations: 11\n",
        "         Function evaluations: 25\n"
       ]
      },
      {
       "javascript": [
        "$('div#6594c19e-2f60-4ed8-b616-929179320c69').width('34.97%')"
       ],
       "metadata": {},
       "output_type": "display_data",
       "text": [
        "<IPython.core.display.Javascript at 0x7f321a233550>"
       ]
      },
      {
       "output_type": "stream",
       "stream": "stdout",
       "text": [
        "Optimization terminated successfully.\n",
        "         Current function value: 0.002339\n",
        "         Iterations: 10\n",
        "         Function evaluations: 23\n"
       ]
      },
      {
       "javascript": [
        "$('div#6594c19e-2f60-4ed8-b616-929179320c69').width('35.25%')"
       ],
       "metadata": {},
       "output_type": "display_data",
       "text": [
        "<IPython.core.display.Javascript at 0x7f3219f03190>"
       ]
      },
      {
       "output_type": "stream",
       "stream": "stdout",
       "text": [
        "Optimization terminated successfully.\n",
        "         Current function value: 0.008101\n",
        "         Iterations: 15\n",
        "         Function evaluations: 37\n"
       ]
      },
      {
       "javascript": [
        "$('div#6594c19e-2f60-4ed8-b616-929179320c69').width('35.52%')"
       ],
       "metadata": {},
       "output_type": "display_data",
       "text": [
        "<IPython.core.display.Javascript at 0x7f3219ef9d50>"
       ]
      },
      {
       "output_type": "stream",
       "stream": "stdout",
       "text": [
        "Optimization terminated successfully.\n",
        "         Current function value: 0.015827\n",
        "         Iterations: 40\n",
        "         Function evaluations: 101\n"
       ]
      },
      {
       "javascript": [
        "$('div#6594c19e-2f60-4ed8-b616-929179320c69').width('35.79%')"
       ],
       "metadata": {},
       "output_type": "display_data",
       "text": [
        "<IPython.core.display.Javascript at 0x7f3219f71a10>"
       ]
      },
      {
       "output_type": "stream",
       "stream": "stdout",
       "text": [
        "Optimization terminated successfully.\n",
        "         Current function value: 0.016503\n",
        "         Iterations: 15\n",
        "         Function evaluations: 37\n"
       ]
      },
      {
       "javascript": [
        "$('div#6594c19e-2f60-4ed8-b616-929179320c69').width('36.07%')"
       ],
       "metadata": {},
       "output_type": "display_data",
       "text": [
        "<IPython.core.display.Javascript at 0x7f321a082dd0>"
       ]
      },
      {
       "output_type": "stream",
       "stream": "stdout",
       "text": [
        "----------------------------------------------------------------------------------------------------\n"
       ]
      },
      {
       "javascript": [
        "$('div#6594c19e-2f60-4ed8-b616-929179320c69').width('36.07%')"
       ],
       "metadata": {},
       "output_type": "display_data",
       "text": [
        "<IPython.core.display.Javascript at 0x7f3219f1cc10>"
       ]
      },
      {
       "output_type": "stream",
       "stream": "stdout",
       "text": [
        "Optimization terminated successfully.\n",
        "         Current function value: 0.000001\n",
        "         Iterations: 13\n",
        "         Function evaluations: 30\n"
       ]
      },
      {
       "javascript": [
        "$('div#6594c19e-2f60-4ed8-b616-929179320c69').width('36.34%')"
       ],
       "metadata": {},
       "output_type": "display_data",
       "text": [
        "<IPython.core.display.Javascript at 0x7f3219f0a210>"
       ]
      },
      {
       "output_type": "stream",
       "stream": "stdout",
       "text": [
        "Optimization terminated successfully.\n",
        "         Current function value: 0.000810\n",
        "         Iterations: 13\n",
        "         Function evaluations: 31\n"
       ]
      },
      {
       "javascript": [
        "$('div#6594c19e-2f60-4ed8-b616-929179320c69').width('36.61%')"
       ],
       "metadata": {},
       "output_type": "display_data",
       "text": [
        "<IPython.core.display.Javascript at 0x7f3219f71050>"
       ]
      },
      {
       "output_type": "stream",
       "stream": "stdout",
       "text": [
        "Optimization terminated successfully.\n",
        "         Current function value: 0.005687\n",
        "         Iterations: 9\n",
        "         Function evaluations: 20\n"
       ]
      },
      {
       "javascript": [
        "$('div#6594c19e-2f60-4ed8-b616-929179320c69').width('36.89%')"
       ],
       "metadata": {},
       "output_type": "display_data",
       "text": [
        "<IPython.core.display.Javascript at 0x7f321a0823d0>"
       ]
      },
      {
       "output_type": "stream",
       "stream": "stdout",
       "text": [
        "Optimization terminated successfully.\n",
        "         Current function value: 0.005112\n",
        "         Iterations: 9\n",
        "         Function evaluations: 20\n"
       ]
      },
      {
       "javascript": [
        "$('div#6594c19e-2f60-4ed8-b616-929179320c69').width('37.16%')"
       ],
       "metadata": {},
       "output_type": "display_data",
       "text": [
        "<IPython.core.display.Javascript at 0x7f321a0995d0>"
       ]
      },
      {
       "output_type": "stream",
       "stream": "stdout",
       "text": [
        "Optimization terminated successfully.\n",
        "         Current function value: 0.014519\n",
        "         Iterations: 8\n",
        "         Function evaluations: 17\n"
       ]
      },
      {
       "javascript": [
        "$('div#6594c19e-2f60-4ed8-b616-929179320c69').width('37.43%')"
       ],
       "metadata": {},
       "output_type": "display_data",
       "text": [
        "<IPython.core.display.Javascript at 0x7f3219f84750>"
       ]
      },
      {
       "output_type": "stream",
       "stream": "stdout",
       "text": [
        "Optimization terminated successfully.\n",
        "         Current function value: 0.008450\n",
        "         Iterations: 10\n",
        "         Function evaluations: 25\n"
       ]
      },
      {
       "javascript": [
        "$('div#6594c19e-2f60-4ed8-b616-929179320c69').width('37.70%')"
       ],
       "metadata": {},
       "output_type": "display_data",
       "text": [
        "<IPython.core.display.Javascript at 0x7f3219f1c3d0>"
       ]
      },
      {
       "output_type": "stream",
       "stream": "stdout",
       "text": [
        "----------------------------------------------------------------------------------------------------\n"
       ]
      },
      {
       "javascript": [
        "$('div#6594c19e-2f60-4ed8-b616-929179320c69').width('37.70%')"
       ],
       "metadata": {},
       "output_type": "display_data",
       "text": [
        "<IPython.core.display.Javascript at 0x7f3219f46650>"
       ]
      },
      {
       "output_type": "stream",
       "stream": "stdout",
       "text": [
        "Optimization terminated successfully.\n",
        "         Current function value: 0.000008\n",
        "         Iterations: 13\n",
        "         Function evaluations: 28\n"
       ]
      },
      {
       "javascript": [
        "$('div#6594c19e-2f60-4ed8-b616-929179320c69').width('37.98%')"
       ],
       "metadata": {},
       "output_type": "display_data",
       "text": [
        "<IPython.core.display.Javascript at 0x7f321a097490>"
       ]
      },
      {
       "output_type": "stream",
       "stream": "stdout",
       "text": [
        "Optimization terminated successfully.\n",
        "         Current function value: 0.039693\n",
        "         Iterations: 13\n",
        "         Function evaluations: 30\n"
       ]
      },
      {
       "javascript": [
        "$('div#6594c19e-2f60-4ed8-b616-929179320c69').width('38.25%')"
       ],
       "metadata": {},
       "output_type": "display_data",
       "text": [
        "<IPython.core.display.Javascript at 0x7f3219f0a550>"
       ]
      },
      {
       "output_type": "stream",
       "stream": "stdout",
       "text": [
        "Optimization terminated successfully.\n",
        "         Current function value: 0.003429\n",
        "         Iterations: 13\n",
        "         Function evaluations: 30\n"
       ]
      },
      {
       "javascript": [
        "$('div#6594c19e-2f60-4ed8-b616-929179320c69').width('38.52%')"
       ],
       "metadata": {},
       "output_type": "display_data",
       "text": [
        "<IPython.core.display.Javascript at 0x7f3219f0a210>"
       ]
      },
      {
       "output_type": "stream",
       "stream": "stdout",
       "text": [
        "Optimization terminated successfully.\n",
        "         Current function value: 0.000069\n",
        "         Iterations: 11\n",
        "         Function evaluations: 25\n"
       ]
      },
      {
       "javascript": [
        "$('div#6594c19e-2f60-4ed8-b616-929179320c69').width('38.80%')"
       ],
       "metadata": {},
       "output_type": "display_data",
       "text": [
        "<IPython.core.display.Javascript at 0x7f3219f1cfd0>"
       ]
      },
      {
       "output_type": "stream",
       "stream": "stdout",
       "text": [
        "Optimization terminated successfully.\n",
        "         Current function value: 0.000670\n",
        "         Iterations: 11\n",
        "         Function evaluations: 25\n"
       ]
      },
      {
       "javascript": [
        "$('div#6594c19e-2f60-4ed8-b616-929179320c69').width('39.07%')"
       ],
       "metadata": {},
       "output_type": "display_data",
       "text": [
        "<IPython.core.display.Javascript at 0x7f3219f1c110>"
       ]
      },
      {
       "output_type": "stream",
       "stream": "stdout",
       "text": [
        "Optimization terminated successfully.\n",
        "         Current function value: 0.000270\n",
        "         Iterations: 8\n",
        "         Function evaluations: 19\n"
       ]
      },
      {
       "javascript": [
        "$('div#6594c19e-2f60-4ed8-b616-929179320c69').width('39.34%')"
       ],
       "metadata": {},
       "output_type": "display_data",
       "text": [
        "<IPython.core.display.Javascript at 0x7f3219f46bd0>"
       ]
      },
      {
       "output_type": "stream",
       "stream": "stdout",
       "text": [
        "----------------------------------------------------------------------------------------------------\n"
       ]
      },
      {
       "javascript": [
        "$('div#6594c19e-2f60-4ed8-b616-929179320c69').width('39.34%')"
       ],
       "metadata": {},
       "output_type": "display_data",
       "text": [
        "<IPython.core.display.Javascript at 0x7f3219f4a650>"
       ]
      },
      {
       "output_type": "stream",
       "stream": "stdout",
       "text": [
        "Optimization terminated successfully.\n",
        "         Current function value: 0.000000\n",
        "         Iterations: 13\n",
        "         Function evaluations: 30\n"
       ]
      },
      {
       "javascript": [
        "$('div#6594c19e-2f60-4ed8-b616-929179320c69').width('39.62%')"
       ],
       "metadata": {},
       "output_type": "display_data",
       "text": [
        "<IPython.core.display.Javascript at 0x7f321a082850>"
       ]
      },
      {
       "output_type": "stream",
       "stream": "stdout",
       "text": [
        "Optimization terminated successfully.\n",
        "         Current function value: 0.000571\n",
        "         Iterations: 15\n",
        "         Function evaluations: 33\n"
       ]
      },
      {
       "javascript": [
        "$('div#6594c19e-2f60-4ed8-b616-929179320c69').width('39.89%')"
       ],
       "metadata": {},
       "output_type": "display_data",
       "text": [
        "<IPython.core.display.Javascript at 0x7f3219f46cd0>"
       ]
      },
      {
       "output_type": "stream",
       "stream": "stdout",
       "text": [
        "Optimization terminated successfully.\n",
        "         Current function value: 0.000243\n",
        "         Iterations: 10\n",
        "         Function evaluations: 22\n"
       ]
      },
      {
       "javascript": [
        "$('div#6594c19e-2f60-4ed8-b616-929179320c69').width('40.16%')"
       ],
       "metadata": {},
       "output_type": "display_data",
       "text": [
        "<IPython.core.display.Javascript at 0x7f3219effed0>"
       ]
      },
      {
       "output_type": "stream",
       "stream": "stdout",
       "text": [
        "Optimization terminated successfully.\n",
        "         Current function value: 0.000282\n",
        "         Iterations: 10\n",
        "         Function evaluations: 23\n"
       ]
      },
      {
       "javascript": [
        "$('div#6594c19e-2f60-4ed8-b616-929179320c69').width('40.44%')"
       ],
       "metadata": {},
       "output_type": "display_data",
       "text": [
        "<IPython.core.display.Javascript at 0x7f3219f46f10>"
       ]
      },
      {
       "output_type": "stream",
       "stream": "stdout",
       "text": [
        "Optimization terminated successfully.\n",
        "         Current function value: 0.000977\n",
        "         Iterations: 9\n",
        "         Function evaluations: 21\n"
       ]
      },
      {
       "javascript": [
        "$('div#6594c19e-2f60-4ed8-b616-929179320c69').width('40.71%')"
       ],
       "metadata": {},
       "output_type": "display_data",
       "text": [
        "<IPython.core.display.Javascript at 0x7f3219f84c10>"
       ]
      },
      {
       "output_type": "stream",
       "stream": "stdout",
       "text": [
        "Optimization terminated successfully.\n",
        "         Current function value: 0.001700\n",
        "         Iterations: 10\n",
        "         Function evaluations: 22\n"
       ]
      },
      {
       "javascript": [
        "$('div#6594c19e-2f60-4ed8-b616-929179320c69').width('40.98%')"
       ],
       "metadata": {},
       "output_type": "display_data",
       "text": [
        "<IPython.core.display.Javascript at 0x7f3219f4a2d0>"
       ]
      },
      {
       "output_type": "stream",
       "stream": "stdout",
       "text": [
        "----------------------------------------------------------------------------------------------------\n"
       ]
      },
      {
       "javascript": [
        "$('div#6594c19e-2f60-4ed8-b616-929179320c69').width('40.98%')"
       ],
       "metadata": {},
       "output_type": "display_data",
       "text": [
        "<IPython.core.display.Javascript at 0x7f3219f46490>"
       ]
      },
      {
       "output_type": "stream",
       "stream": "stdout",
       "text": [
        "Optimization terminated successfully.\n",
        "         Current function value: 0.000003\n",
        "         Iterations: 11\n",
        "         Function evaluations: 25\n"
       ]
      },
      {
       "javascript": [
        "$('div#6594c19e-2f60-4ed8-b616-929179320c69').width('41.26%')"
       ],
       "metadata": {},
       "output_type": "display_data",
       "text": [
        "<IPython.core.display.Javascript at 0x7f321a07a410>"
       ]
      },
      {
       "output_type": "stream",
       "stream": "stdout",
       "text": [
        "Optimization terminated successfully.\n",
        "         Current function value: 0.000074\n",
        "         Iterations: 11\n",
        "         Function evaluations: 23\n"
       ]
      },
      {
       "javascript": [
        "$('div#6594c19e-2f60-4ed8-b616-929179320c69').width('41.53%')"
       ],
       "metadata": {},
       "output_type": "display_data",
       "text": [
        "<IPython.core.display.Javascript at 0x7f321a041e10>"
       ]
      },
      {
       "output_type": "stream",
       "stream": "stdout",
       "text": [
        "Optimization terminated successfully.\n",
        "         Current function value: 0.000063\n",
        "         Iterations: 11\n",
        "         Function evaluations: 23\n"
       ]
      },
      {
       "javascript": [
        "$('div#6594c19e-2f60-4ed8-b616-929179320c69').width('41.80%')"
       ],
       "metadata": {},
       "output_type": "display_data",
       "text": [
        "<IPython.core.display.Javascript at 0x7f3219edd850>"
       ]
      },
      {
       "output_type": "stream",
       "stream": "stdout",
       "text": [
        "Optimization terminated successfully.\n",
        "         Current function value: 0.011141\n",
        "         Iterations: 9\n",
        "         Function evaluations: 20\n"
       ]
      },
      {
       "javascript": [
        "$('div#6594c19e-2f60-4ed8-b616-929179320c69').width('42.08%')"
       ],
       "metadata": {},
       "output_type": "display_data",
       "text": [
        "<IPython.core.display.Javascript at 0x7f3219f46190>"
       ]
      },
      {
       "output_type": "stream",
       "stream": "stdout",
       "text": [
        "Optimization terminated successfully.\n",
        "         Current function value: 0.002362\n",
        "         Iterations: 8\n",
        "         Function evaluations: 20\n"
       ]
      },
      {
       "javascript": [
        "$('div#6594c19e-2f60-4ed8-b616-929179320c69').width('42.35%')"
       ],
       "metadata": {},
       "output_type": "display_data",
       "text": [
        "<IPython.core.display.Javascript at 0x7f3219ee1b90>"
       ]
      },
      {
       "output_type": "stream",
       "stream": "stdout",
       "text": [
        "Optimization terminated successfully.\n",
        "         Current function value: 0.020872\n",
        "         Iterations: 38\n",
        "         Function evaluations: 100\n"
       ]
      },
      {
       "javascript": [
        "$('div#6594c19e-2f60-4ed8-b616-929179320c69').width('42.62%')"
       ],
       "metadata": {},
       "output_type": "display_data",
       "text": [
        "<IPython.core.display.Javascript at 0x7f3219f46b10>"
       ]
      },
      {
       "output_type": "stream",
       "stream": "stdout",
       "text": [
        "----------------------------------------------------------------------------------------------------\n"
       ]
      },
      {
       "javascript": [
        "$('div#6594c19e-2f60-4ed8-b616-929179320c69').width('42.62%')"
       ],
       "metadata": {},
       "output_type": "display_data",
       "text": [
        "<IPython.core.display.Javascript at 0x7f3219ef9b10>"
       ]
      },
      {
       "output_type": "stream",
       "stream": "stdout",
       "text": [
        "Optimization terminated successfully.\n",
        "         Current function value: 0.000008\n",
        "         Iterations: 10\n",
        "         Function evaluations: 21\n"
       ]
      },
      {
       "javascript": [
        "$('div#6594c19e-2f60-4ed8-b616-929179320c69').width('42.90%')"
       ],
       "metadata": {},
       "output_type": "display_data",
       "text": [
        "<IPython.core.display.Javascript at 0x7f3219edd6d0>"
       ]
      },
      {
       "output_type": "stream",
       "stream": "stdout",
       "text": [
        "Optimization terminated successfully.\n",
        "         Current function value: 0.000142\n",
        "         Iterations: 10\n",
        "         Function evaluations: 22\n"
       ]
      },
      {
       "javascript": [
        "$('div#6594c19e-2f60-4ed8-b616-929179320c69').width('43.17%')"
       ],
       "metadata": {},
       "output_type": "display_data",
       "text": [
        "<IPython.core.display.Javascript at 0x7f321a0b7050>"
       ]
      },
      {
       "output_type": "stream",
       "stream": "stdout",
       "text": [
        "Optimization terminated successfully.\n",
        "         Current function value: 0.003342\n",
        "         Iterations: 9\n",
        "         Function evaluations: 19\n"
       ]
      },
      {
       "javascript": [
        "$('div#6594c19e-2f60-4ed8-b616-929179320c69').width('43.44%')"
       ],
       "metadata": {},
       "output_type": "display_data",
       "text": [
        "<IPython.core.display.Javascript at 0x7f321a06c490>"
       ]
      },
      {
       "output_type": "stream",
       "stream": "stdout",
       "text": [
        "Optimization terminated successfully.\n",
        "         Current function value: 0.003362\n",
        "         Iterations: 11\n",
        "         Function evaluations: 24\n"
       ]
      },
      {
       "javascript": [
        "$('div#6594c19e-2f60-4ed8-b616-929179320c69').width('43.72%')"
       ],
       "metadata": {},
       "output_type": "display_data",
       "text": [
        "<IPython.core.display.Javascript at 0x7f3219ef9d10>"
       ]
      },
      {
       "output_type": "stream",
       "stream": "stdout",
       "text": [
        "Optimization terminated successfully.\n",
        "         Current function value: 0.012113\n",
        "         Iterations: 18\n",
        "         Function evaluations: 44\n"
       ]
      },
      {
       "javascript": [
        "$('div#6594c19e-2f60-4ed8-b616-929179320c69').width('43.99%')"
       ],
       "metadata": {},
       "output_type": "display_data",
       "text": [
        "<IPython.core.display.Javascript at 0x7f3219f83a90>"
       ]
      },
      {
       "output_type": "stream",
       "stream": "stdout",
       "text": [
        "Optimization terminated successfully.\n",
        "         Current function value: 0.006804\n",
        "         Iterations: 27\n",
        "         Function evaluations: 69\n"
       ]
      },
      {
       "javascript": [
        "$('div#6594c19e-2f60-4ed8-b616-929179320c69').width('44.26%')"
       ],
       "metadata": {},
       "output_type": "display_data",
       "text": [
        "<IPython.core.display.Javascript at 0x7f3219ef9290>"
       ]
      },
      {
       "output_type": "stream",
       "stream": "stdout",
       "text": [
        "----------------------------------------------------------------------------------------------------\n"
       ]
      },
      {
       "javascript": [
        "$('div#6594c19e-2f60-4ed8-b616-929179320c69').width('44.26%')"
       ],
       "metadata": {},
       "output_type": "display_data",
       "text": [
        "<IPython.core.display.Javascript at 0x7f3219f03590>"
       ]
      },
      {
       "output_type": "stream",
       "stream": "stdout",
       "text": [
        "Optimization terminated successfully.\n",
        "         Current function value: 0.000002\n",
        "         Iterations: 12\n",
        "         Function evaluations: 24\n"
       ]
      },
      {
       "javascript": [
        "$('div#6594c19e-2f60-4ed8-b616-929179320c69').width('44.54%')"
       ],
       "metadata": {},
       "output_type": "display_data",
       "text": [
        "<IPython.core.display.Javascript at 0x7f321a08c750>"
       ]
      },
      {
       "output_type": "stream",
       "stream": "stdout",
       "text": [
        "Optimization terminated successfully.\n",
        "         Current function value: 0.033516\n",
        "         Iterations: 68\n",
        "         Function evaluations: 178\n"
       ]
      },
      {
       "javascript": [
        "$('div#6594c19e-2f60-4ed8-b616-929179320c69').width('44.81%')"
       ],
       "metadata": {},
       "output_type": "display_data",
       "text": [
        "<IPython.core.display.Javascript at 0x7f3219ee1690>"
       ]
      },
      {
       "output_type": "stream",
       "stream": "stdout",
       "text": [
        "Optimization terminated successfully.\n",
        "         Current function value: 0.048685\n",
        "         Iterations: 13\n",
        "         Function evaluations: 29\n"
       ]
      },
      {
       "javascript": [
        "$('div#6594c19e-2f60-4ed8-b616-929179320c69').width('45.08%')"
       ],
       "metadata": {},
       "output_type": "display_data",
       "text": [
        "<IPython.core.display.Javascript at 0x7f321a0049d0>"
       ]
      },
      {
       "output_type": "stream",
       "stream": "stdout",
       "text": [
        "Optimization terminated successfully.\n",
        "         Current function value: 0.216504\n",
        "         Iterations: 25\n",
        "         Function evaluations: 63\n"
       ]
      },
      {
       "javascript": [
        "$('div#6594c19e-2f60-4ed8-b616-929179320c69').width('45.36%')"
       ],
       "metadata": {},
       "output_type": "display_data",
       "text": [
        "<IPython.core.display.Javascript at 0x7f3219ef10d0>"
       ]
      },
      {
       "output_type": "stream",
       "stream": "stdout",
       "text": [
        "Warning: Maximum number of iterations has been exceeded.\n"
       ]
      },
      {
       "javascript": [
        "$('div#6594c19e-2f60-4ed8-b616-929179320c69').width('45.63%')"
       ],
       "metadata": {},
       "output_type": "display_data",
       "text": [
        "<IPython.core.display.Javascript at 0x7f321a082f90>"
       ]
      },
      {
       "output_type": "stream",
       "stream": "stdout",
       "text": [
        "Optimization terminated successfully.\n",
        "         Current function value: 0.149634\n",
        "         Iterations: 11\n",
        "         Function evaluations: 28\n"
       ]
      },
      {
       "javascript": [
        "$('div#6594c19e-2f60-4ed8-b616-929179320c69').width('45.90%')"
       ],
       "metadata": {},
       "output_type": "display_data",
       "text": [
        "<IPython.core.display.Javascript at 0x7f3219f03050>"
       ]
      },
      {
       "output_type": "stream",
       "stream": "stdout",
       "text": [
        "----------------------------------------------------------------------------------------------------\n"
       ]
      },
      {
       "javascript": [
        "$('div#6594c19e-2f60-4ed8-b616-929179320c69').width('45.90%')"
       ],
       "metadata": {},
       "output_type": "display_data",
       "text": [
        "<IPython.core.display.Javascript at 0x7f321a0201d0>"
       ]
      },
      {
       "output_type": "stream",
       "stream": "stdout",
       "text": [
        "Optimization terminated successfully.\n",
        "         Current function value: 0.000000\n",
        "         Iterations: 14\n",
        "         Function evaluations: 30\n"
       ]
      },
      {
       "javascript": [
        "$('div#6594c19e-2f60-4ed8-b616-929179320c69').width('46.17%')"
       ],
       "metadata": {},
       "output_type": "display_data",
       "text": [
        "<IPython.core.display.Javascript at 0x7f321a08ca50>"
       ]
      },
      {
       "output_type": "stream",
       "stream": "stdout",
       "text": [
        "Optimization terminated successfully.\n",
        "         Current function value: 0.000551\n",
        "         Iterations: 12\n",
        "         Function evaluations: 27\n"
       ]
      },
      {
       "javascript": [
        "$('div#6594c19e-2f60-4ed8-b616-929179320c69').width('46.45%')"
       ],
       "metadata": {},
       "output_type": "display_data",
       "text": [
        "<IPython.core.display.Javascript at 0x7f3219f7ded0>"
       ]
      },
      {
       "output_type": "stream",
       "stream": "stdout",
       "text": [
        "Optimization terminated successfully.\n",
        "         Current function value: 0.001426\n",
        "         Iterations: 9\n",
        "         Function evaluations: 20\n"
       ]
      },
      {
       "javascript": [
        "$('div#6594c19e-2f60-4ed8-b616-929179320c69').width('46.72%')"
       ],
       "metadata": {},
       "output_type": "display_data",
       "text": [
        "<IPython.core.display.Javascript at 0x7f321a041e90>"
       ]
      },
      {
       "output_type": "stream",
       "stream": "stdout",
       "text": [
        "Optimization terminated successfully.\n",
        "         Current function value: 0.008518\n",
        "         Iterations: 14\n",
        "         Function evaluations: 35\n"
       ]
      },
      {
       "javascript": [
        "$('div#6594c19e-2f60-4ed8-b616-929179320c69').width('46.99%')"
       ],
       "metadata": {},
       "output_type": "display_data",
       "text": [
        "<IPython.core.display.Javascript at 0x7f321a011b10>"
       ]
      },
      {
       "output_type": "stream",
       "stream": "stdout",
       "text": [
        "Optimization terminated successfully.\n",
        "         Current function value: 0.014772\n",
        "         Iterations: 9\n",
        "         Function evaluations: 22\n"
       ]
      },
      {
       "javascript": [
        "$('div#6594c19e-2f60-4ed8-b616-929179320c69').width('47.27%')"
       ],
       "metadata": {},
       "output_type": "display_data",
       "text": [
        "<IPython.core.display.Javascript at 0x7f321a080cd0>"
       ]
      },
      {
       "output_type": "stream",
       "stream": "stdout",
       "text": [
        "Optimization terminated successfully.\n",
        "         Current function value: 0.020162\n",
        "         Iterations: 11\n",
        "         Function evaluations: 27\n"
       ]
      },
      {
       "javascript": [
        "$('div#6594c19e-2f60-4ed8-b616-929179320c69').width('47.54%')"
       ],
       "metadata": {},
       "output_type": "display_data",
       "text": [
        "<IPython.core.display.Javascript at 0x7f321a0b7510>"
       ]
      },
      {
       "output_type": "stream",
       "stream": "stdout",
       "text": [
        "----------------------------------------------------------------------------------------------------\n"
       ]
      },
      {
       "javascript": [
        "$('div#6594c19e-2f60-4ed8-b616-929179320c69').width('47.54%')"
       ],
       "metadata": {},
       "output_type": "display_data",
       "text": [
        "<IPython.core.display.Javascript at 0x7f3219efc250>"
       ]
      },
      {
       "output_type": "stream",
       "stream": "stdout",
       "text": [
        "Optimization terminated successfully.\n",
        "         Current function value: 0.000001\n",
        "         Iterations: 10\n",
        "         Function evaluations: 23\n"
       ]
      },
      {
       "javascript": [
        "$('div#6594c19e-2f60-4ed8-b616-929179320c69').width('47.81%')"
       ],
       "metadata": {},
       "output_type": "display_data",
       "text": [
        "<IPython.core.display.Javascript at 0x7f321a0a1850>"
       ]
      },
      {
       "output_type": "stream",
       "stream": "stdout",
       "text": [
        "Optimization terminated successfully.\n",
        "         Current function value: 0.007354\n",
        "         Iterations: 9\n",
        "         Function evaluations: 22\n"
       ]
      },
      {
       "javascript": [
        "$('div#6594c19e-2f60-4ed8-b616-929179320c69').width('48.09%')"
       ],
       "metadata": {},
       "output_type": "display_data",
       "text": [
        "<IPython.core.display.Javascript at 0x7f321a080ed0>"
       ]
      },
      {
       "output_type": "stream",
       "stream": "stdout",
       "text": [
        "Optimization terminated successfully.\n",
        "         Current function value: 0.022718\n",
        "         Iterations: 61\n",
        "         Function evaluations: 162\n"
       ]
      },
      {
       "javascript": [
        "$('div#6594c19e-2f60-4ed8-b616-929179320c69').width('48.36%')"
       ],
       "metadata": {},
       "output_type": "display_data",
       "text": [
        "<IPython.core.display.Javascript at 0x7f3219ff06d0>"
       ]
      },
      {
       "output_type": "stream",
       "stream": "stdout",
       "text": [
        "Optimization terminated successfully.\n",
        "         Current function value: 0.032621\n",
        "         Iterations: 15\n",
        "         Function evaluations: 35\n"
       ]
      },
      {
       "javascript": [
        "$('div#6594c19e-2f60-4ed8-b616-929179320c69').width('48.63%')"
       ],
       "metadata": {},
       "output_type": "display_data",
       "text": [
        "<IPython.core.display.Javascript at 0x7f321a00b450>"
       ]
      },
      {
       "output_type": "stream",
       "stream": "stdout",
       "text": [
        "Optimization terminated successfully.\n",
        "         Current function value: 0.027719\n",
        "         Iterations: 43\n",
        "         Function evaluations: 115\n"
       ]
      },
      {
       "javascript": [
        "$('div#6594c19e-2f60-4ed8-b616-929179320c69').width('48.91%')"
       ],
       "metadata": {},
       "output_type": "display_data",
       "text": [
        "<IPython.core.display.Javascript at 0x7f3219f7d490>"
       ]
      },
      {
       "output_type": "stream",
       "stream": "stdout",
       "text": [
        "Optimization terminated successfully.\n",
        "         Current function value: 0.028592\n",
        "         Iterations: 12\n",
        "         Function evaluations: 27\n"
       ]
      },
      {
       "javascript": [
        "$('div#6594c19e-2f60-4ed8-b616-929179320c69').width('49.18%')"
       ],
       "metadata": {},
       "output_type": "display_data",
       "text": [
        "<IPython.core.display.Javascript at 0x7f3219efc690>"
       ]
      },
      {
       "output_type": "stream",
       "stream": "stdout",
       "text": [
        "----------------------------------------------------------------------------------------------------\n"
       ]
      },
      {
       "javascript": [
        "$('div#6594c19e-2f60-4ed8-b616-929179320c69').width('49.18%')"
       ],
       "metadata": {},
       "output_type": "display_data",
       "text": [
        "<IPython.core.display.Javascript at 0x7f321a082f90>"
       ]
      },
      {
       "output_type": "stream",
       "stream": "stdout",
       "text": [
        "Optimization terminated successfully.\n",
        "         Current function value: 0.000000\n",
        "         Iterations: 11\n",
        "         Function evaluations: 25\n"
       ]
      },
      {
       "javascript": [
        "$('div#6594c19e-2f60-4ed8-b616-929179320c69').width('49.45%')"
       ],
       "metadata": {},
       "output_type": "display_data",
       "text": [
        "<IPython.core.display.Javascript at 0x7f3219ff0e10>"
       ]
      },
      {
       "output_type": "stream",
       "stream": "stdout",
       "text": [
        "Optimization terminated successfully.\n",
        "         Current function value: 0.001539\n",
        "         Iterations: 19\n",
        "         Function evaluations: 49\n"
       ]
      },
      {
       "javascript": [
        "$('div#6594c19e-2f60-4ed8-b616-929179320c69').width('49.73%')"
       ],
       "metadata": {},
       "output_type": "display_data",
       "text": [
        "<IPython.core.display.Javascript at 0x7f321a0a17d0>"
       ]
      },
      {
       "output_type": "stream",
       "stream": "stdout",
       "text": [
        "Optimization terminated successfully.\n",
        "         Current function value: 0.033167\n",
        "         Iterations: 15\n",
        "         Function evaluations: 38\n"
       ]
      },
      {
       "javascript": [
        "$('div#6594c19e-2f60-4ed8-b616-929179320c69').width('50.00%')"
       ],
       "metadata": {},
       "output_type": "display_data",
       "text": [
        "<IPython.core.display.Javascript at 0x7f3219f0a590>"
       ]
      },
      {
       "output_type": "stream",
       "stream": "stdout",
       "text": [
        "Optimization terminated successfully.\n",
        "         Current function value: 0.061681\n",
        "         Iterations: 9\n",
        "         Function evaluations: 21\n"
       ]
      },
      {
       "javascript": [
        "$('div#6594c19e-2f60-4ed8-b616-929179320c69').width('50.27%')"
       ],
       "metadata": {},
       "output_type": "display_data",
       "text": [
        "<IPython.core.display.Javascript at 0x7f321a080c50>"
       ]
      },
      {
       "output_type": "stream",
       "stream": "stdout",
       "text": [
        "Optimization terminated successfully.\n",
        "         Current function value: 0.044858\n",
        "         Iterations: 116\n",
        "         Function evaluations: 309\n"
       ]
      },
      {
       "javascript": [
        "$('div#6594c19e-2f60-4ed8-b616-929179320c69').width('50.55%')"
       ],
       "metadata": {},
       "output_type": "display_data",
       "text": [
        "<IPython.core.display.Javascript at 0x7f321a020690>"
       ]
      },
      {
       "output_type": "stream",
       "stream": "stdout",
       "text": [
        "Optimization terminated successfully.\n",
        "         Current function value: 0.050979\n",
        "         Iterations: 23\n",
        "         Function evaluations: 56\n"
       ]
      },
      {
       "javascript": [
        "$('div#6594c19e-2f60-4ed8-b616-929179320c69').width('50.82%')"
       ],
       "metadata": {},
       "output_type": "display_data",
       "text": [
        "<IPython.core.display.Javascript at 0x7f321a0826d0>"
       ]
      },
      {
       "output_type": "stream",
       "stream": "stdout",
       "text": [
        "----------------------------------------------------------------------------------------------------\n"
       ]
      },
      {
       "javascript": [
        "$('div#6594c19e-2f60-4ed8-b616-929179320c69').width('50.82%')"
       ],
       "metadata": {},
       "output_type": "display_data",
       "text": [
        "<IPython.core.display.Javascript at 0x7f321a0a1f90>"
       ]
      },
      {
       "output_type": "stream",
       "stream": "stdout",
       "text": [
        "Optimization terminated successfully.\n",
        "         Current function value: 0.000000\n",
        "         Iterations: 14\n",
        "         Function evaluations: 33\n"
       ]
      },
      {
       "javascript": [
        "$('div#6594c19e-2f60-4ed8-b616-929179320c69').width('51.09%')"
       ],
       "metadata": {},
       "output_type": "display_data",
       "text": [
        "<IPython.core.display.Javascript at 0x7f321a0b77d0>"
       ]
      },
      {
       "output_type": "stream",
       "stream": "stdout",
       "text": [
        "Optimization terminated successfully.\n",
        "         Current function value: 0.000004\n",
        "         Iterations: 11\n",
        "         Function evaluations: 25\n"
       ]
      },
      {
       "javascript": [
        "$('div#6594c19e-2f60-4ed8-b616-929179320c69').width('51.37%')"
       ],
       "metadata": {},
       "output_type": "display_data",
       "text": [
        "<IPython.core.display.Javascript at 0x7f321a0f8bd0>"
       ]
      },
      {
       "output_type": "stream",
       "stream": "stdout",
       "text": [
        "Optimization terminated successfully.\n",
        "         Current function value: 0.001762\n",
        "         Iterations: 10\n",
        "         Function evaluations: 23\n"
       ]
      },
      {
       "javascript": [
        "$('div#6594c19e-2f60-4ed8-b616-929179320c69').width('51.64%')"
       ],
       "metadata": {},
       "output_type": "display_data",
       "text": [
        "<IPython.core.display.Javascript at 0x7f3219f1c350>"
       ]
      },
      {
       "output_type": "stream",
       "stream": "stdout",
       "text": [
        "Optimization terminated successfully.\n",
        "         Current function value: 0.006962\n",
        "         Iterations: 9\n",
        "         Function evaluations: 24\n"
       ]
      },
      {
       "javascript": [
        "$('div#6594c19e-2f60-4ed8-b616-929179320c69').width('51.91%')"
       ],
       "metadata": {},
       "output_type": "display_data",
       "text": [
        "<IPython.core.display.Javascript at 0x7f321a082bd0>"
       ]
      },
      {
       "output_type": "stream",
       "stream": "stdout",
       "text": [
        "Optimization terminated successfully.\n",
        "         Current function value: 0.025687\n",
        "         Iterations: 10\n",
        "         Function evaluations: 23\n"
       ]
      },
      {
       "javascript": [
        "$('div#6594c19e-2f60-4ed8-b616-929179320c69').width('52.19%')"
       ],
       "metadata": {},
       "output_type": "display_data",
       "text": [
        "<IPython.core.display.Javascript at 0x7f321a0a1ed0>"
       ]
      },
      {
       "output_type": "stream",
       "stream": "stdout",
       "text": [
        "Optimization terminated successfully.\n",
        "         Current function value: 0.017278\n",
        "         Iterations: 9\n",
        "         Function evaluations: 21\n"
       ]
      },
      {
       "javascript": [
        "$('div#6594c19e-2f60-4ed8-b616-929179320c69').width('52.46%')"
       ],
       "metadata": {},
       "output_type": "display_data",
       "text": [
        "<IPython.core.display.Javascript at 0x7f321a0a12d0>"
       ]
      },
      {
       "output_type": "stream",
       "stream": "stdout",
       "text": [
        "----------------------------------------------------------------------------------------------------\n"
       ]
      },
      {
       "javascript": [
        "$('div#6594c19e-2f60-4ed8-b616-929179320c69').width('52.46%')"
       ],
       "metadata": {},
       "output_type": "display_data",
       "text": [
        "<IPython.core.display.Javascript at 0x7f3219f84450>"
       ]
      },
      {
       "output_type": "stream",
       "stream": "stdout",
       "text": [
        "Optimization terminated successfully.\n",
        "         Current function value: 0.000000\n",
        "         Iterations: 13\n",
        "         Function evaluations: 29\n"
       ]
      },
      {
       "javascript": [
        "$('div#6594c19e-2f60-4ed8-b616-929179320c69').width('52.73%')"
       ],
       "metadata": {},
       "output_type": "display_data",
       "text": [
        "<IPython.core.display.Javascript at 0x7f3219f1c610>"
       ]
      },
      {
       "output_type": "stream",
       "stream": "stdout",
       "text": [
        "Optimization terminated successfully.\n",
        "         Current function value: 0.000002\n",
        "         Iterations: 11\n",
        "         Function evaluations: 25\n"
       ]
      },
      {
       "javascript": [
        "$('div#6594c19e-2f60-4ed8-b616-929179320c69').width('53.01%')"
       ],
       "metadata": {},
       "output_type": "display_data",
       "text": [
        "<IPython.core.display.Javascript at 0x7f3219f1cb50>"
       ]
      },
      {
       "output_type": "stream",
       "stream": "stdout",
       "text": [
        "Optimization terminated successfully.\n",
        "         Current function value: 0.002643\n",
        "         Iterations: 11\n",
        "         Function evaluations: 24\n"
       ]
      },
      {
       "javascript": [
        "$('div#6594c19e-2f60-4ed8-b616-929179320c69').width('53.28%')"
       ],
       "metadata": {},
       "output_type": "display_data",
       "text": [
        "<IPython.core.display.Javascript at 0x7f321a0b7850>"
       ]
      },
      {
       "output_type": "stream",
       "stream": "stdout",
       "text": [
        "Optimization terminated successfully.\n",
        "         Current function value: 0.014543\n",
        "         Iterations: 9\n",
        "         Function evaluations: 22\n"
       ]
      },
      {
       "javascript": [
        "$('div#6594c19e-2f60-4ed8-b616-929179320c69').width('53.55%')"
       ],
       "metadata": {},
       "output_type": "display_data",
       "text": [
        "<IPython.core.display.Javascript at 0x7f321a005150>"
       ]
      },
      {
       "output_type": "stream",
       "stream": "stdout",
       "text": [
        "Optimization terminated successfully.\n",
        "         Current function value: 0.024408\n",
        "         Iterations: 16\n",
        "         Function evaluations: 40\n"
       ]
      },
      {
       "javascript": [
        "$('div#6594c19e-2f60-4ed8-b616-929179320c69').width('53.83%')"
       ],
       "metadata": {},
       "output_type": "display_data",
       "text": [
        "<IPython.core.display.Javascript at 0x7f321a082690>"
       ]
      },
      {
       "output_type": "stream",
       "stream": "stdout",
       "text": [
        "Optimization terminated successfully.\n",
        "         Current function value: 0.023802\n",
        "         Iterations: 11\n",
        "         Function evaluations: 24\n"
       ]
      },
      {
       "javascript": [
        "$('div#6594c19e-2f60-4ed8-b616-929179320c69').width('54.10%')"
       ],
       "metadata": {},
       "output_type": "display_data",
       "text": [
        "<IPython.core.display.Javascript at 0x7f3219f84590>"
       ]
      },
      {
       "output_type": "stream",
       "stream": "stdout",
       "text": [
        "----------------------------------------------------------------------------------------------------\n"
       ]
      },
      {
       "javascript": [
        "$('div#6594c19e-2f60-4ed8-b616-929179320c69').width('54.10%')"
       ],
       "metadata": {},
       "output_type": "display_data",
       "text": [
        "<IPython.core.display.Javascript at 0x7f321a0a1a90>"
       ]
      },
      {
       "output_type": "stream",
       "stream": "stdout",
       "text": [
        "Optimization terminated successfully.\n",
        "         Current function value: 0.000001\n",
        "         Iterations: 13\n",
        "         Function evaluations: 29\n"
       ]
      },
      {
       "javascript": [
        "$('div#6594c19e-2f60-4ed8-b616-929179320c69').width('54.37%')"
       ],
       "metadata": {},
       "output_type": "display_data",
       "text": [
        "<IPython.core.display.Javascript at 0x7f321a018650>"
       ]
      },
      {
       "output_type": "stream",
       "stream": "stdout",
       "text": [
        "Optimization terminated successfully.\n",
        "         Current function value: 0.000145\n",
        "         Iterations: 12\n",
        "         Function evaluations: 28\n"
       ]
      },
      {
       "javascript": [
        "$('div#6594c19e-2f60-4ed8-b616-929179320c69').width('54.64%')"
       ],
       "metadata": {},
       "output_type": "display_data",
       "text": [
        "<IPython.core.display.Javascript at 0x7f321a082790>"
       ]
      },
      {
       "output_type": "stream",
       "stream": "stdout",
       "text": [
        "Optimization terminated successfully.\n",
        "         Current function value: 0.001105\n",
        "         Iterations: 21\n",
        "         Function evaluations: 51\n"
       ]
      },
      {
       "javascript": [
        "$('div#6594c19e-2f60-4ed8-b616-929179320c69').width('54.92%')"
       ],
       "metadata": {},
       "output_type": "display_data",
       "text": [
        "<IPython.core.display.Javascript at 0x7f321a06cfd0>"
       ]
      },
      {
       "output_type": "stream",
       "stream": "stdout",
       "text": [
        "Optimization terminated successfully.\n",
        "         Current function value: 0.007758\n",
        "         Iterations: 13\n",
        "         Function evaluations: 32\n"
       ]
      },
      {
       "javascript": [
        "$('div#6594c19e-2f60-4ed8-b616-929179320c69').width('55.19%')"
       ],
       "metadata": {},
       "output_type": "display_data",
       "text": [
        "<IPython.core.display.Javascript at 0x7f3219f7d2d0>"
       ]
      },
      {
       "output_type": "stream",
       "stream": "stdout",
       "text": [
        "Optimization terminated successfully.\n",
        "         Current function value: 0.022330\n",
        "         Iterations: 10\n",
        "         Function evaluations: 25\n"
       ]
      },
      {
       "javascript": [
        "$('div#6594c19e-2f60-4ed8-b616-929179320c69').width('55.46%')"
       ],
       "metadata": {},
       "output_type": "display_data",
       "text": [
        "<IPython.core.display.Javascript at 0x7f3219ee1650>"
       ]
      },
      {
       "output_type": "stream",
       "stream": "stdout",
       "text": [
        "Optimization terminated successfully.\n",
        "         Current function value: 0.015603\n",
        "         Iterations: 11\n",
        "         Function evaluations: 26\n"
       ]
      },
      {
       "javascript": [
        "$('div#6594c19e-2f60-4ed8-b616-929179320c69').width('55.74%')"
       ],
       "metadata": {},
       "output_type": "display_data",
       "text": [
        "<IPython.core.display.Javascript at 0x7f321a0a1090>"
       ]
      },
      {
       "output_type": "stream",
       "stream": "stdout",
       "text": [
        "----------------------------------------------------------------------------------------------------\n"
       ]
      },
      {
       "javascript": [
        "$('div#6594c19e-2f60-4ed8-b616-929179320c69').width('55.74%')"
       ],
       "metadata": {},
       "output_type": "display_data",
       "text": [
        "<IPython.core.display.Javascript at 0x7f3219f46090>"
       ]
      },
      {
       "output_type": "stream",
       "stream": "stdout",
       "text": [
        "Optimization terminated successfully.\n",
        "         Current function value: 0.000000\n",
        "         Iterations: 13\n",
        "         Function evaluations: 29\n"
       ]
      },
      {
       "javascript": [
        "$('div#6594c19e-2f60-4ed8-b616-929179320c69').width('56.01%')"
       ],
       "metadata": {},
       "output_type": "display_data",
       "text": [
        "<IPython.core.display.Javascript at 0x7f321a06cdd0>"
       ]
      },
      {
       "output_type": "stream",
       "stream": "stdout",
       "text": [
        "Optimization terminated successfully.\n",
        "         Current function value: 0.978100\n",
        "         Iterations: 16\n",
        "         Function evaluations: 42\n"
       ]
      },
      {
       "javascript": [
        "$('div#6594c19e-2f60-4ed8-b616-929179320c69').width('56.28%')"
       ],
       "metadata": {},
       "output_type": "display_data",
       "text": [
        "<IPython.core.display.Javascript at 0x7f321a097850>"
       ]
      },
      {
       "output_type": "stream",
       "stream": "stdout",
       "text": [
        "Optimization terminated successfully.\n",
        "         Current function value: 0.021114\n",
        "         Iterations: 10\n",
        "         Function evaluations: 24\n"
       ]
      },
      {
       "javascript": [
        "$('div#6594c19e-2f60-4ed8-b616-929179320c69').width('56.56%')"
       ],
       "metadata": {},
       "output_type": "display_data",
       "text": [
        "<IPython.core.display.Javascript at 0x7f3219ff0b90>"
       ]
      },
      {
       "output_type": "stream",
       "stream": "stdout",
       "text": [
        "Optimization terminated successfully.\n",
        "         Current function value: 0.033648\n",
        "         Iterations: 17\n",
        "         Function evaluations: 43\n"
       ]
      },
      {
       "javascript": [
        "$('div#6594c19e-2f60-4ed8-b616-929179320c69').width('56.83%')"
       ],
       "metadata": {},
       "output_type": "display_data",
       "text": [
        "<IPython.core.display.Javascript at 0x7f3219fde290>"
       ]
      },
      {
       "output_type": "stream",
       "stream": "stdout",
       "text": [
        "Optimization terminated successfully.\n",
        "         Current function value: 0.017434\n",
        "         Iterations: 9\n",
        "         Function evaluations: 23\n"
       ]
      },
      {
       "javascript": [
        "$('div#6594c19e-2f60-4ed8-b616-929179320c69').width('57.10%')"
       ],
       "metadata": {},
       "output_type": "display_data",
       "text": [
        "<IPython.core.display.Javascript at 0x7f3219f74710>"
       ]
      },
      {
       "output_type": "stream",
       "stream": "stdout",
       "text": [
        "Optimization terminated successfully.\n",
        "         Current function value: 0.005071\n",
        "         Iterations: 10\n",
        "         Function evaluations: 25\n"
       ]
      },
      {
       "javascript": [
        "$('div#6594c19e-2f60-4ed8-b616-929179320c69').width('57.38%')"
       ],
       "metadata": {},
       "output_type": "display_data",
       "text": [
        "<IPython.core.display.Javascript at 0x7f321a0a1090>"
       ]
      },
      {
       "output_type": "stream",
       "stream": "stdout",
       "text": [
        "----------------------------------------------------------------------------------------------------\n"
       ]
      },
      {
       "javascript": [
        "$('div#6594c19e-2f60-4ed8-b616-929179320c69').width('57.38%')"
       ],
       "metadata": {},
       "output_type": "display_data",
       "text": [
        "<IPython.core.display.Javascript at 0x7f3219f14810>"
       ]
      },
      {
       "output_type": "stream",
       "stream": "stdout",
       "text": [
        "Optimization terminated successfully.\n",
        "         Current function value: 0.000000\n",
        "         Iterations: 17\n",
        "         Function evaluations: 38\n"
       ]
      },
      {
       "javascript": [
        "$('div#6594c19e-2f60-4ed8-b616-929179320c69').width('57.65%')"
       ],
       "metadata": {},
       "output_type": "display_data",
       "text": [
        "<IPython.core.display.Javascript at 0x7f3219f74790>"
       ]
      },
      {
       "output_type": "stream",
       "stream": "stdout",
       "text": [
        "Optimization terminated successfully.\n",
        "         Current function value: 0.000427\n",
        "         Iterations: 13\n",
        "         Function evaluations: 29\n"
       ]
      },
      {
       "javascript": [
        "$('div#6594c19e-2f60-4ed8-b616-929179320c69').width('57.92%')"
       ],
       "metadata": {},
       "output_type": "display_data",
       "text": [
        "<IPython.core.display.Javascript at 0x7f3219f80550>"
       ]
      },
      {
       "output_type": "stream",
       "stream": "stdout",
       "text": [
        "Optimization terminated successfully.\n",
        "         Current function value: 0.003435\n",
        "         Iterations: 10\n",
        "         Function evaluations: 25\n"
       ]
      },
      {
       "javascript": [
        "$('div#6594c19e-2f60-4ed8-b616-929179320c69').width('58.20%')"
       ],
       "metadata": {},
       "output_type": "display_data",
       "text": [
        "<IPython.core.display.Javascript at 0x7f321a0f8750>"
       ]
      },
      {
       "output_type": "stream",
       "stream": "stdout",
       "text": [
        "Optimization terminated successfully.\n",
        "         Current function value: 0.018990\n",
        "         Iterations: 11\n",
        "         Function evaluations: 27\n"
       ]
      },
      {
       "javascript": [
        "$('div#6594c19e-2f60-4ed8-b616-929179320c69').width('58.47%')"
       ],
       "metadata": {},
       "output_type": "display_data",
       "text": [
        "<IPython.core.display.Javascript at 0x7f321a011650>"
       ]
      },
      {
       "output_type": "stream",
       "stream": "stdout",
       "text": [
        "Optimization terminated successfully.\n",
        "         Current function value: 0.022011\n",
        "         Iterations: 12\n",
        "         Function evaluations: 29\n"
       ]
      },
      {
       "javascript": [
        "$('div#6594c19e-2f60-4ed8-b616-929179320c69').width('58.74%')"
       ],
       "metadata": {},
       "output_type": "display_data",
       "text": [
        "<IPython.core.display.Javascript at 0x7f321a08c090>"
       ]
      },
      {
       "output_type": "stream",
       "stream": "stdout",
       "text": [
        "Optimization terminated successfully.\n",
        "         Current function value: 0.017943\n",
        "         Iterations: 9\n",
        "         Function evaluations: 23\n"
       ]
      },
      {
       "javascript": [
        "$('div#6594c19e-2f60-4ed8-b616-929179320c69').width('59.02%')"
       ],
       "metadata": {},
       "output_type": "display_data",
       "text": [
        "<IPython.core.display.Javascript at 0x7f3219f14b10>"
       ]
      },
      {
       "output_type": "stream",
       "stream": "stdout",
       "text": [
        "----------------------------------------------------------------------------------------------------\n"
       ]
      },
      {
       "javascript": [
        "$('div#6594c19e-2f60-4ed8-b616-929179320c69').width('59.02%')"
       ],
       "metadata": {},
       "output_type": "display_data",
       "text": [
        "<IPython.core.display.Javascript at 0x7f3219f46350>"
       ]
      },
      {
       "output_type": "stream",
       "stream": "stdout",
       "text": [
        "Optimization terminated successfully.\n",
        "         Current function value: 0.000003\n",
        "         Iterations: 12\n",
        "         Function evaluations: 26\n"
       ]
      },
      {
       "javascript": [
        "$('div#6594c19e-2f60-4ed8-b616-929179320c69').width('59.29%')"
       ],
       "metadata": {},
       "output_type": "display_data",
       "text": [
        "<IPython.core.display.Javascript at 0x7f321a0992d0>"
       ]
      },
      {
       "output_type": "stream",
       "stream": "stdout",
       "text": [
        "Optimization terminated successfully.\n",
        "         Current function value: 0.002272\n",
        "         Iterations: 12\n",
        "         Function evaluations: 27\n"
       ]
      },
      {
       "javascript": [
        "$('div#6594c19e-2f60-4ed8-b616-929179320c69').width('59.56%')"
       ],
       "metadata": {},
       "output_type": "display_data",
       "text": [
        "<IPython.core.display.Javascript at 0x7f321a005590>"
       ]
      },
      {
       "output_type": "stream",
       "stream": "stdout",
       "text": [
        "Optimization terminated successfully.\n",
        "         Current function value: 0.006922\n",
        "         Iterations: 13\n",
        "         Function evaluations: 30\n"
       ]
      },
      {
       "javascript": [
        "$('div#6594c19e-2f60-4ed8-b616-929179320c69').width('59.84%')"
       ],
       "metadata": {},
       "output_type": "display_data",
       "text": [
        "<IPython.core.display.Javascript at 0x7f3219f03450>"
       ]
      },
      {
       "output_type": "stream",
       "stream": "stdout",
       "text": [
        "Optimization terminated successfully.\n",
        "         Current function value: 0.017121\n",
        "         Iterations: 12\n",
        "         Function evaluations: 27\n"
       ]
      },
      {
       "javascript": [
        "$('div#6594c19e-2f60-4ed8-b616-929179320c69').width('60.11%')"
       ],
       "metadata": {},
       "output_type": "display_data",
       "text": [
        "<IPython.core.display.Javascript at 0x7f3219ef1850>"
       ]
      },
      {
       "output_type": "stream",
       "stream": "stdout",
       "text": [
        "Optimization terminated successfully.\n",
        "         Current function value: 0.019881\n",
        "         Iterations: 20\n",
        "         Function evaluations: 52\n"
       ]
      },
      {
       "javascript": [
        "$('div#6594c19e-2f60-4ed8-b616-929179320c69').width('60.38%')"
       ],
       "metadata": {},
       "output_type": "display_data",
       "text": [
        "<IPython.core.display.Javascript at 0x7f321a082a10>"
       ]
      },
      {
       "output_type": "stream",
       "stream": "stdout",
       "text": [
        "Optimization terminated successfully.\n",
        "         Current function value: 0.010867\n",
        "         Iterations: 13\n",
        "         Function evaluations: 32\n"
       ]
      },
      {
       "javascript": [
        "$('div#6594c19e-2f60-4ed8-b616-929179320c69').width('60.66%')"
       ],
       "metadata": {},
       "output_type": "display_data",
       "text": [
        "<IPython.core.display.Javascript at 0x7f3219f468d0>"
       ]
      },
      {
       "output_type": "stream",
       "stream": "stdout",
       "text": [
        "----------------------------------------------------------------------------------------------------\n"
       ]
      },
      {
       "javascript": [
        "$('div#6594c19e-2f60-4ed8-b616-929179320c69').width('60.66%')"
       ],
       "metadata": {},
       "output_type": "display_data",
       "text": [
        "<IPython.core.display.Javascript at 0x7f321a046810>"
       ]
      },
      {
       "output_type": "stream",
       "stream": "stdout",
       "text": [
        "Optimization terminated successfully.\n",
        "         Current function value: 0.000004\n",
        "         Iterations: 13\n",
        "         Function evaluations: 30\n"
       ]
      },
      {
       "javascript": [
        "$('div#6594c19e-2f60-4ed8-b616-929179320c69').width('60.93%')"
       ],
       "metadata": {},
       "output_type": "display_data",
       "text": [
        "<IPython.core.display.Javascript at 0x7f321a005ad0>"
       ]
      },
      {
       "output_type": "stream",
       "stream": "stdout",
       "text": [
        "Optimization terminated successfully.\n",
        "         Current function value: 0.000193\n",
        "         Iterations: 13\n",
        "         Function evaluations: 28\n"
       ]
      },
      {
       "javascript": [
        "$('div#6594c19e-2f60-4ed8-b616-929179320c69').width('61.20%')"
       ],
       "metadata": {},
       "output_type": "display_data",
       "text": [
        "<IPython.core.display.Javascript at 0x7f3219f718d0>"
       ]
      },
      {
       "output_type": "stream",
       "stream": "stdout",
       "text": [
        "Optimization terminated successfully.\n",
        "         Current function value: 0.003666\n",
        "         Iterations: 10\n",
        "         Function evaluations: 21\n"
       ]
      },
      {
       "javascript": [
        "$('div#6594c19e-2f60-4ed8-b616-929179320c69').width('61.48%')"
       ],
       "metadata": {},
       "output_type": "display_data",
       "text": [
        "<IPython.core.display.Javascript at 0x7f321a0119d0>"
       ]
      },
      {
       "output_type": "stream",
       "stream": "stdout",
       "text": [
        "Optimization terminated successfully.\n",
        "         Current function value: 0.006367\n",
        "         Iterations: 11\n",
        "         Function evaluations: 23\n"
       ]
      },
      {
       "javascript": [
        "$('div#6594c19e-2f60-4ed8-b616-929179320c69').width('61.75%')"
       ],
       "metadata": {},
       "output_type": "display_data",
       "text": [
        "<IPython.core.display.Javascript at 0x7f3219ee16d0>"
       ]
      },
      {
       "output_type": "stream",
       "stream": "stdout",
       "text": [
        "Optimization terminated successfully.\n",
        "         Current function value: 0.013781\n",
        "         Iterations: 20\n",
        "         Function evaluations: 50\n"
       ]
      },
      {
       "javascript": [
        "$('div#6594c19e-2f60-4ed8-b616-929179320c69').width('62.02%')"
       ],
       "metadata": {},
       "output_type": "display_data",
       "text": [
        "<IPython.core.display.Javascript at 0x7f321a046650>"
       ]
      },
      {
       "output_type": "stream",
       "stream": "stdout",
       "text": [
        "Optimization terminated successfully.\n",
        "         Current function value: 0.011479\n",
        "         Iterations: 11\n",
        "         Function evaluations: 26\n"
       ]
      },
      {
       "javascript": [
        "$('div#6594c19e-2f60-4ed8-b616-929179320c69').width('62.30%')"
       ],
       "metadata": {},
       "output_type": "display_data",
       "text": [
        "<IPython.core.display.Javascript at 0x7f321a005ad0>"
       ]
      },
      {
       "output_type": "stream",
       "stream": "stdout",
       "text": [
        "----------------------------------------------------------------------------------------------------\n"
       ]
      },
      {
       "javascript": [
        "$('div#6594c19e-2f60-4ed8-b616-929179320c69').width('62.30%')"
       ],
       "metadata": {},
       "output_type": "display_data",
       "text": [
        "<IPython.core.display.Javascript at 0x7f3219ef1a90>"
       ]
      },
      {
       "output_type": "stream",
       "stream": "stdout",
       "text": [
        "Optimization terminated successfully.\n",
        "         Current function value: 0.000000\n",
        "         Iterations: 12\n",
        "         Function evaluations: 25\n"
       ]
      },
      {
       "javascript": [
        "$('div#6594c19e-2f60-4ed8-b616-929179320c69').width('62.57%')"
       ],
       "metadata": {},
       "output_type": "display_data",
       "text": [
        "<IPython.core.display.Javascript at 0x7f321a082290>"
       ]
      },
      {
       "output_type": "stream",
       "stream": "stdout",
       "text": [
        "Optimization terminated successfully.\n",
        "         Current function value: 0.003202\n",
        "         Iterations: 10\n",
        "         Function evaluations: 22\n"
       ]
      },
      {
       "javascript": [
        "$('div#6594c19e-2f60-4ed8-b616-929179320c69').width('62.84%')"
       ],
       "metadata": {},
       "output_type": "display_data",
       "text": [
        "<IPython.core.display.Javascript at 0x7f3219f80910>"
       ]
      },
      {
       "output_type": "stream",
       "stream": "stdout",
       "text": [
        "Optimization terminated successfully.\n",
        "         Current function value: 0.007520\n",
        "         Iterations: 9\n",
        "         Function evaluations: 21\n"
       ]
      },
      {
       "javascript": [
        "$('div#6594c19e-2f60-4ed8-b616-929179320c69').width('63.11%')"
       ],
       "metadata": {},
       "output_type": "display_data",
       "text": [
        "<IPython.core.display.Javascript at 0x7f321a005710>"
       ]
      },
      {
       "output_type": "stream",
       "stream": "stdout",
       "text": [
        "Optimization terminated successfully.\n",
        "         Current function value: 0.021487\n",
        "         Iterations: 14\n",
        "         Function evaluations: 33\n"
       ]
      },
      {
       "javascript": [
        "$('div#6594c19e-2f60-4ed8-b616-929179320c69').width('63.39%')"
       ],
       "metadata": {},
       "output_type": "display_data",
       "text": [
        "<IPython.core.display.Javascript at 0x7f321a011d50>"
       ]
      },
      {
       "output_type": "stream",
       "stream": "stdout",
       "text": [
        "Optimization terminated successfully.\n",
        "         Current function value: 0.027668\n",
        "         Iterations: 11\n",
        "         Function evaluations: 28\n"
       ]
      },
      {
       "javascript": [
        "$('div#6594c19e-2f60-4ed8-b616-929179320c69').width('63.66%')"
       ],
       "metadata": {},
       "output_type": "display_data",
       "text": [
        "<IPython.core.display.Javascript at 0x7f3219ef9790>"
       ]
      },
      {
       "output_type": "stream",
       "stream": "stdout",
       "text": [
        "Optimization terminated successfully.\n",
        "         Current function value: 0.022790\n",
        "         Iterations: 16\n",
        "         Function evaluations: 40\n"
       ]
      },
      {
       "javascript": [
        "$('div#6594c19e-2f60-4ed8-b616-929179320c69').width('63.93%')"
       ],
       "metadata": {},
       "output_type": "display_data",
       "text": [
        "<IPython.core.display.Javascript at 0x7f3219ef1c50>"
       ]
      },
      {
       "output_type": "stream",
       "stream": "stdout",
       "text": [
        "----------------------------------------------------------------------------------------------------\n"
       ]
      },
      {
       "javascript": [
        "$('div#6594c19e-2f60-4ed8-b616-929179320c69').width('63.93%')"
       ],
       "metadata": {},
       "output_type": "display_data",
       "text": [
        "<IPython.core.display.Javascript at 0x7f3219efe7d0>"
       ]
      },
      {
       "output_type": "stream",
       "stream": "stdout",
       "text": [
        "Optimization terminated successfully.\n",
        "         Current function value: 0.000000\n",
        "         Iterations: 13\n",
        "         Function evaluations: 31\n"
       ]
      },
      {
       "javascript": [
        "$('div#6594c19e-2f60-4ed8-b616-929179320c69').width('64.21%')"
       ],
       "metadata": {},
       "output_type": "display_data",
       "text": [
        "<IPython.core.display.Javascript at 0x7f3219ef8750>"
       ]
      },
      {
       "output_type": "stream",
       "stream": "stdout",
       "text": [
        "Optimization terminated successfully.\n",
        "         Current function value: 0.002777\n",
        "         Iterations: 11\n",
        "         Function evaluations: 25\n"
       ]
      },
      {
       "javascript": [
        "$('div#6594c19e-2f60-4ed8-b616-929179320c69').width('64.48%')"
       ],
       "metadata": {},
       "output_type": "display_data",
       "text": [
        "<IPython.core.display.Javascript at 0x7f321a097d90>"
       ]
      },
      {
       "output_type": "stream",
       "stream": "stdout",
       "text": [
        "Optimization terminated successfully.\n",
        "         Current function value: 0.000140\n",
        "         Iterations: 13\n",
        "         Function evaluations: 29\n"
       ]
      },
      {
       "javascript": [
        "$('div#6594c19e-2f60-4ed8-b616-929179320c69').width('64.75%')"
       ],
       "metadata": {},
       "output_type": "display_data",
       "text": [
        "<IPython.core.display.Javascript at 0x7f3219ef1cd0>"
       ]
      },
      {
       "output_type": "stream",
       "stream": "stdout",
       "text": [
        "Optimization terminated successfully.\n",
        "         Current function value: 0.000334\n",
        "         Iterations: 11\n",
        "         Function evaluations: 23\n"
       ]
      },
      {
       "javascript": [
        "$('div#6594c19e-2f60-4ed8-b616-929179320c69').width('65.03%')"
       ],
       "metadata": {},
       "output_type": "display_data",
       "text": [
        "<IPython.core.display.Javascript at 0x7f3219f84e50>"
       ]
      },
      {
       "output_type": "stream",
       "stream": "stdout",
       "text": [
        "Optimization terminated successfully.\n",
        "         Current function value: 0.003236\n",
        "         Iterations: 10\n",
        "         Function evaluations: 22\n"
       ]
      },
      {
       "javascript": [
        "$('div#6594c19e-2f60-4ed8-b616-929179320c69').width('65.30%')"
       ],
       "metadata": {},
       "output_type": "display_data",
       "text": [
        "<IPython.core.display.Javascript at 0x7f321a00b890>"
       ]
      },
      {
       "output_type": "stream",
       "stream": "stdout",
       "text": [
        "Optimization terminated successfully.\n",
        "         Current function value: 0.009897\n",
        "         Iterations: 10\n",
        "         Function evaluations: 23\n"
       ]
      },
      {
       "javascript": [
        "$('div#6594c19e-2f60-4ed8-b616-929179320c69').width('65.57%')"
       ],
       "metadata": {},
       "output_type": "display_data",
       "text": [
        "<IPython.core.display.Javascript at 0x7f321a0f8d10>"
       ]
      },
      {
       "output_type": "stream",
       "stream": "stdout",
       "text": [
        "----------------------------------------------------------------------------------------------------\n"
       ]
      },
      {
       "javascript": [
        "$('div#6594c19e-2f60-4ed8-b616-929179320c69').width('65.57%')"
       ],
       "metadata": {},
       "output_type": "display_data",
       "text": [
        "<IPython.core.display.Javascript at 0x7f321a0f8610>"
       ]
      },
      {
       "output_type": "stream",
       "stream": "stdout",
       "text": [
        "Optimization terminated successfully.\n",
        "         Current function value: 0.000000\n",
        "         Iterations: 10\n",
        "         Function evaluations: 24\n"
       ]
      },
      {
       "javascript": [
        "$('div#6594c19e-2f60-4ed8-b616-929179320c69').width('65.85%')"
       ],
       "metadata": {},
       "output_type": "display_data",
       "text": [
        "<IPython.core.display.Javascript at 0x7f3219efec10>"
       ]
      },
      {
       "output_type": "stream",
       "stream": "stdout",
       "text": [
        "Optimization terminated successfully.\n",
        "         Current function value: 0.005046\n",
        "         Iterations: 9\n",
        "         Function evaluations: 20\n"
       ]
      },
      {
       "javascript": [
        "$('div#6594c19e-2f60-4ed8-b616-929179320c69').width('66.12%')"
       ],
       "metadata": {},
       "output_type": "display_data",
       "text": [
        "<IPython.core.display.Javascript at 0x7f3219f80110>"
       ]
      },
      {
       "output_type": "stream",
       "stream": "stdout",
       "text": [
        "Optimization terminated successfully.\n",
        "         Current function value: 0.008069\n",
        "         Iterations: 9\n",
        "         Function evaluations: 20\n"
       ]
      },
      {
       "javascript": [
        "$('div#6594c19e-2f60-4ed8-b616-929179320c69').width('66.39%')"
       ],
       "metadata": {},
       "output_type": "display_data",
       "text": [
        "<IPython.core.display.Javascript at 0x7f3219edd250>"
       ]
      },
      {
       "output_type": "stream",
       "stream": "stdout",
       "text": [
        "Optimization terminated successfully.\n",
        "         Current function value: 0.021967\n",
        "         Iterations: 10\n",
        "         Function evaluations: 24\n"
       ]
      },
      {
       "javascript": [
        "$('div#6594c19e-2f60-4ed8-b616-929179320c69').width('66.67%')"
       ],
       "metadata": {},
       "output_type": "display_data",
       "text": [
        "<IPython.core.display.Javascript at 0x7f3219ef8510>"
       ]
      },
      {
       "output_type": "stream",
       "stream": "stdout",
       "text": [
        "Optimization terminated successfully.\n",
        "         Current function value: 0.025055\n",
        "         Iterations: 8\n",
        "         Function evaluations: 19\n"
       ]
      },
      {
       "javascript": [
        "$('div#6594c19e-2f60-4ed8-b616-929179320c69').width('66.94%')"
       ],
       "metadata": {},
       "output_type": "display_data",
       "text": [
        "<IPython.core.display.Javascript at 0x7f3219fdeed0>"
       ]
      },
      {
       "output_type": "stream",
       "stream": "stdout",
       "text": [
        "Optimization terminated successfully.\n",
        "         Current function value: 0.009624\n",
        "         Iterations: 8\n",
        "         Function evaluations: 18\n"
       ]
      },
      {
       "javascript": [
        "$('div#6594c19e-2f60-4ed8-b616-929179320c69').width('67.21%')"
       ],
       "metadata": {},
       "output_type": "display_data",
       "text": [
        "<IPython.core.display.Javascript at 0x7f3219f84a10>"
       ]
      },
      {
       "output_type": "stream",
       "stream": "stdout",
       "text": [
        "----------------------------------------------------------------------------------------------------\n"
       ]
      },
      {
       "javascript": [
        "$('div#6594c19e-2f60-4ed8-b616-929179320c69').width('67.21%')"
       ],
       "metadata": {},
       "output_type": "display_data",
       "text": [
        "<IPython.core.display.Javascript at 0x7f3219f849d0>"
       ]
      },
      {
       "output_type": "stream",
       "stream": "stdout",
       "text": [
        "Optimization terminated successfully.\n",
        "         Current function value: 0.000001\n",
        "         Iterations: 10\n",
        "         Function evaluations: 22\n"
       ]
      },
      {
       "javascript": [
        "$('div#6594c19e-2f60-4ed8-b616-929179320c69').width('67.49%')"
       ],
       "metadata": {},
       "output_type": "display_data",
       "text": [
        "<IPython.core.display.Javascript at 0x7f3219ee14d0>"
       ]
      },
      {
       "output_type": "stream",
       "stream": "stdout",
       "text": [
        "Optimization terminated successfully.\n",
        "         Current function value: 0.002839\n",
        "         Iterations: 12\n",
        "         Function evaluations: 28\n"
       ]
      },
      {
       "javascript": [
        "$('div#6594c19e-2f60-4ed8-b616-929179320c69').width('67.76%')"
       ],
       "metadata": {},
       "output_type": "display_data",
       "text": [
        "<IPython.core.display.Javascript at 0x7f3219f806d0>"
       ]
      },
      {
       "output_type": "stream",
       "stream": "stdout",
       "text": [
        "Optimization terminated successfully.\n",
        "         Current function value: 0.008502\n",
        "         Iterations: 9\n",
        "         Function evaluations: 19\n"
       ]
      },
      {
       "javascript": [
        "$('div#6594c19e-2f60-4ed8-b616-929179320c69').width('68.03%')"
       ],
       "metadata": {},
       "output_type": "display_data",
       "text": [
        "<IPython.core.display.Javascript at 0x7f3219fde090>"
       ]
      },
      {
       "output_type": "stream",
       "stream": "stdout",
       "text": [
        "Optimization terminated successfully.\n",
        "         Current function value: 0.029265\n",
        "         Iterations: 135\n",
        "         Function evaluations: 362\n"
       ]
      },
      {
       "javascript": [
        "$('div#6594c19e-2f60-4ed8-b616-929179320c69').width('68.31%')"
       ],
       "metadata": {},
       "output_type": "display_data",
       "text": [
        "<IPython.core.display.Javascript at 0x7f3219ef1d10>"
       ]
      },
      {
       "output_type": "stream",
       "stream": "stdout",
       "text": [
        "Optimization terminated successfully.\n",
        "         Current function value: 0.005790\n",
        "         Iterations: 10\n",
        "         Function evaluations: 23\n"
       ]
      },
      {
       "javascript": [
        "$('div#6594c19e-2f60-4ed8-b616-929179320c69').width('68.58%')"
       ],
       "metadata": {},
       "output_type": "display_data",
       "text": [
        "<IPython.core.display.Javascript at 0x7f3219f742d0>"
       ]
      },
      {
       "output_type": "stream",
       "stream": "stdout",
       "text": [
        "Optimization terminated successfully.\n",
        "         Current function value: 0.020384\n",
        "         Iterations: 10\n",
        "         Function evaluations: 23\n"
       ]
      },
      {
       "javascript": [
        "$('div#6594c19e-2f60-4ed8-b616-929179320c69').width('68.85%')"
       ],
       "metadata": {},
       "output_type": "display_data",
       "text": [
        "<IPython.core.display.Javascript at 0x7f3219f841d0>"
       ]
      },
      {
       "output_type": "stream",
       "stream": "stdout",
       "text": [
        "----------------------------------------------------------------------------------------------------\n"
       ]
      },
      {
       "javascript": [
        "$('div#6594c19e-2f60-4ed8-b616-929179320c69').width('68.85%')"
       ],
       "metadata": {},
       "output_type": "display_data",
       "text": [
        "<IPython.core.display.Javascript at 0x7f3219f711d0>"
       ]
      },
      {
       "output_type": "stream",
       "stream": "stdout",
       "text": [
        "Optimization terminated successfully.\n",
        "         Current function value: 0.000001\n",
        "         Iterations: 10\n",
        "         Function evaluations: 24\n"
       ]
      },
      {
       "javascript": [
        "$('div#6594c19e-2f60-4ed8-b616-929179320c69').width('69.13%')"
       ],
       "metadata": {},
       "output_type": "display_data",
       "text": [
        "<IPython.core.display.Javascript at 0x7f3219f4a8d0>"
       ]
      },
      {
       "output_type": "stream",
       "stream": "stdout",
       "text": [
        "Optimization terminated successfully.\n",
        "         Current function value: 0.014489\n",
        "         Iterations: 16\n",
        "         Function evaluations: 37\n"
       ]
      },
      {
       "javascript": [
        "$('div#6594c19e-2f60-4ed8-b616-929179320c69').width('69.40%')"
       ],
       "metadata": {},
       "output_type": "display_data",
       "text": [
        "<IPython.core.display.Javascript at 0x7f3219f80090>"
       ]
      },
      {
       "output_type": "stream",
       "stream": "stdout",
       "text": [
        "Optimization terminated successfully.\n",
        "         Current function value: 0.011938\n",
        "         Iterations: 9\n",
        "         Function evaluations: 22\n"
       ]
      },
      {
       "javascript": [
        "$('div#6594c19e-2f60-4ed8-b616-929179320c69').width('69.67%')"
       ],
       "metadata": {},
       "output_type": "display_data",
       "text": [
        "<IPython.core.display.Javascript at 0x7f321a011850>"
       ]
      },
      {
       "output_type": "stream",
       "stream": "stdout",
       "text": [
        "Optimization terminated successfully.\n",
        "         Current function value: 0.040192\n",
        "         Iterations: 9\n",
        "         Function evaluations: 21\n"
       ]
      },
      {
       "javascript": [
        "$('div#6594c19e-2f60-4ed8-b616-929179320c69').width('69.95%')"
       ],
       "metadata": {},
       "output_type": "display_data",
       "text": [
        "<IPython.core.display.Javascript at 0x7f32341383d0>"
       ]
      },
      {
       "output_type": "stream",
       "stream": "stdout",
       "text": [
        "Optimization terminated successfully.\n",
        "         Current function value: 0.018816\n",
        "         Iterations: 27\n",
        "         Function evaluations: 70\n"
       ]
      },
      {
       "javascript": [
        "$('div#6594c19e-2f60-4ed8-b616-929179320c69').width('70.22%')"
       ],
       "metadata": {},
       "output_type": "display_data",
       "text": [
        "<IPython.core.display.Javascript at 0x7f3219efe550>"
       ]
      },
      {
       "output_type": "stream",
       "stream": "stdout",
       "text": [
        "Optimization terminated successfully.\n",
        "         Current function value: 0.005281\n",
        "         Iterations: 8\n",
        "         Function evaluations: 18\n"
       ]
      },
      {
       "javascript": [
        "$('div#6594c19e-2f60-4ed8-b616-929179320c69').width('70.49%')"
       ],
       "metadata": {},
       "output_type": "display_data",
       "text": [
        "<IPython.core.display.Javascript at 0x7f3219f71bd0>"
       ]
      },
      {
       "output_type": "stream",
       "stream": "stdout",
       "text": [
        "----------------------------------------------------------------------------------------------------\n"
       ]
      },
      {
       "javascript": [
        "$('div#6594c19e-2f60-4ed8-b616-929179320c69').width('70.49%')"
       ],
       "metadata": {},
       "output_type": "display_data",
       "text": [
        "<IPython.core.display.Javascript at 0x7f321a06c850>"
       ]
      },
      {
       "output_type": "stream",
       "stream": "stdout",
       "text": [
        "Optimization terminated successfully.\n",
        "         Current function value: 0.000001\n",
        "         Iterations: 14\n",
        "         Function evaluations: 33\n"
       ]
      },
      {
       "javascript": [
        "$('div#6594c19e-2f60-4ed8-b616-929179320c69').width('70.77%')"
       ],
       "metadata": {},
       "output_type": "display_data",
       "text": [
        "<IPython.core.display.Javascript at 0x7f3219f71ad0>"
       ]
      },
      {
       "output_type": "stream",
       "stream": "stdout",
       "text": [
        "Optimization terminated successfully.\n",
        "         Current function value: 0.046416\n",
        "         Iterations: 181\n",
        "         Function evaluations: 478\n"
       ]
      },
      {
       "javascript": [
        "$('div#6594c19e-2f60-4ed8-b616-929179320c69').width('71.04%')"
       ],
       "metadata": {},
       "output_type": "display_data",
       "text": [
        "<IPython.core.display.Javascript at 0x7f3219f7f510>"
       ]
      },
      {
       "output_type": "stream",
       "stream": "stdout",
       "text": [
        "Optimization terminated successfully.\n",
        "         Current function value: 0.004786\n",
        "         Iterations: 14\n",
        "         Function evaluations: 33\n"
       ]
      },
      {
       "javascript": [
        "$('div#6594c19e-2f60-4ed8-b616-929179320c69').width('71.31%')"
       ],
       "metadata": {},
       "output_type": "display_data",
       "text": [
        "<IPython.core.display.Javascript at 0x7f321a041850>"
       ]
      },
      {
       "output_type": "stream",
       "stream": "stdout",
       "text": [
        "Optimization terminated successfully.\n",
        "         Current function value: 0.001996\n",
        "         Iterations: 11\n",
        "         Function evaluations: 28\n"
       ]
      },
      {
       "javascript": [
        "$('div#6594c19e-2f60-4ed8-b616-929179320c69').width('71.58%')"
       ],
       "metadata": {},
       "output_type": "display_data",
       "text": [
        "<IPython.core.display.Javascript at 0x7f321a07a9d0>"
       ]
      },
      {
       "output_type": "stream",
       "stream": "stdout",
       "text": [
        "Optimization terminated successfully.\n",
        "         Current function value: 0.000686\n",
        "         Iterations: 11\n",
        "         Function evaluations: 27\n"
       ]
      },
      {
       "javascript": [
        "$('div#6594c19e-2f60-4ed8-b616-929179320c69').width('71.86%')"
       ],
       "metadata": {},
       "output_type": "display_data",
       "text": [
        "<IPython.core.display.Javascript at 0x7f321a032c90>"
       ]
      },
      {
       "output_type": "stream",
       "stream": "stdout",
       "text": [
        "Optimization terminated successfully.\n",
        "         Current function value: 0.000295\n",
        "         Iterations: 10\n",
        "         Function evaluations: 24\n"
       ]
      },
      {
       "javascript": [
        "$('div#6594c19e-2f60-4ed8-b616-929179320c69').width('72.13%')"
       ],
       "metadata": {},
       "output_type": "display_data",
       "text": [
        "<IPython.core.display.Javascript at 0x7f321a06c390>"
       ]
      },
      {
       "output_type": "stream",
       "stream": "stdout",
       "text": [
        "----------------------------------------------------------------------------------------------------\n"
       ]
      },
      {
       "javascript": [
        "$('div#6594c19e-2f60-4ed8-b616-929179320c69').width('72.13%')"
       ],
       "metadata": {},
       "output_type": "display_data",
       "text": [
        "<IPython.core.display.Javascript at 0x7f321a032650>"
       ]
      },
      {
       "output_type": "stream",
       "stream": "stdout",
       "text": [
        "Optimization terminated successfully.\n",
        "         Current function value: 0.000002\n",
        "         Iterations: 11\n",
        "         Function evaluations: 24\n"
       ]
      },
      {
       "javascript": [
        "$('div#6594c19e-2f60-4ed8-b616-929179320c69').width('72.40%')"
       ],
       "metadata": {},
       "output_type": "display_data",
       "text": [
        "<IPython.core.display.Javascript at 0x7f3219edd510>"
       ]
      },
      {
       "output_type": "stream",
       "stream": "stdout",
       "text": [
        "Optimization terminated successfully.\n",
        "         Current function value: 0.065863\n",
        "         Iterations: 20\n",
        "         Function evaluations: 49\n"
       ]
      },
      {
       "javascript": [
        "$('div#6594c19e-2f60-4ed8-b616-929179320c69').width('72.68%')"
       ],
       "metadata": {},
       "output_type": "display_data",
       "text": [
        "<IPython.core.display.Javascript at 0x7f321a032850>"
       ]
      },
      {
       "output_type": "stream",
       "stream": "stdout",
       "text": [
        "Optimization terminated successfully.\n",
        "         Current function value: 0.000592\n",
        "         Iterations: 11\n",
        "         Function evaluations: 24\n"
       ]
      },
      {
       "javascript": [
        "$('div#6594c19e-2f60-4ed8-b616-929179320c69').width('72.95%')"
       ],
       "metadata": {},
       "output_type": "display_data",
       "text": [
        "<IPython.core.display.Javascript at 0x7f3219ee1390>"
       ]
      },
      {
       "output_type": "stream",
       "stream": "stdout",
       "text": [
        "Optimization terminated successfully.\n",
        "         Current function value: 0.000397\n",
        "         Iterations: 10\n",
        "         Function evaluations: 23\n"
       ]
      },
      {
       "javascript": [
        "$('div#6594c19e-2f60-4ed8-b616-929179320c69').width('73.22%')"
       ],
       "metadata": {},
       "output_type": "display_data",
       "text": [
        "<IPython.core.display.Javascript at 0x7f3219f7fb50>"
       ]
      },
      {
       "output_type": "stream",
       "stream": "stdout",
       "text": [
        "Optimization terminated successfully.\n",
        "         Current function value: 0.019210\n",
        "         Iterations: 10\n",
        "         Function evaluations: 24\n"
       ]
      },
      {
       "javascript": [
        "$('div#6594c19e-2f60-4ed8-b616-929179320c69').width('73.50%')"
       ],
       "metadata": {},
       "output_type": "display_data",
       "text": [
        "<IPython.core.display.Javascript at 0x7f321a041fd0>"
       ]
      },
      {
       "output_type": "stream",
       "stream": "stdout",
       "text": [
        "Optimization terminated successfully.\n",
        "         Current function value: 0.009109\n",
        "         Iterations: 8\n",
        "         Function evaluations: 19\n"
       ]
      },
      {
       "javascript": [
        "$('div#6594c19e-2f60-4ed8-b616-929179320c69').width('73.77%')"
       ],
       "metadata": {},
       "output_type": "display_data",
       "text": [
        "<IPython.core.display.Javascript at 0x7f321a032450>"
       ]
      },
      {
       "output_type": "stream",
       "stream": "stdout",
       "text": [
        "----------------------------------------------------------------------------------------------------\n"
       ]
      },
      {
       "javascript": [
        "$('div#6594c19e-2f60-4ed8-b616-929179320c69').width('73.77%')"
       ],
       "metadata": {},
       "output_type": "display_data",
       "text": [
        "<IPython.core.display.Javascript at 0x7f3219ef8610>"
       ]
      },
      {
       "output_type": "stream",
       "stream": "stdout",
       "text": [
        "Optimization terminated successfully.\n",
        "         Current function value: 0.000000\n",
        "         Iterations: 12\n",
        "         Function evaluations: 27\n"
       ]
      },
      {
       "javascript": [
        "$('div#6594c19e-2f60-4ed8-b616-929179320c69').width('74.04%')"
       ],
       "metadata": {},
       "output_type": "display_data",
       "text": [
        "<IPython.core.display.Javascript at 0x7f3219edd810>"
       ]
      },
      {
       "output_type": "stream",
       "stream": "stdout",
       "text": [
        "Optimization terminated successfully.\n",
        "         Current function value: 0.001864\n",
        "         Iterations: 18\n",
        "         Function evaluations: 43\n"
       ]
      },
      {
       "javascript": [
        "$('div#6594c19e-2f60-4ed8-b616-929179320c69').width('74.32%')"
       ],
       "metadata": {},
       "output_type": "display_data",
       "text": [
        "<IPython.core.display.Javascript at 0x7f3219efc490>"
       ]
      },
      {
       "output_type": "stream",
       "stream": "stdout",
       "text": [
        "Optimization terminated successfully.\n",
        "         Current function value: 0.005145\n",
        "         Iterations: 9\n",
        "         Function evaluations: 20\n"
       ]
      },
      {
       "javascript": [
        "$('div#6594c19e-2f60-4ed8-b616-929179320c69').width('74.59%')"
       ],
       "metadata": {},
       "output_type": "display_data",
       "text": [
        "<IPython.core.display.Javascript at 0x7f3219f83950>"
       ]
      },
      {
       "output_type": "stream",
       "stream": "stdout",
       "text": [
        "Optimization terminated successfully.\n",
        "         Current function value: 0.012972\n",
        "         Iterations: 11\n",
        "         Function evaluations: 23\n"
       ]
      },
      {
       "javascript": [
        "$('div#6594c19e-2f60-4ed8-b616-929179320c69').width('74.86%')"
       ],
       "metadata": {},
       "output_type": "display_data",
       "text": [
        "<IPython.core.display.Javascript at 0x7f3219f7fcd0>"
       ]
      },
      {
       "output_type": "stream",
       "stream": "stdout",
       "text": [
        "Optimization terminated successfully.\n",
        "         Current function value: 0.011055\n",
        "         Iterations: 9\n",
        "         Function evaluations: 20\n"
       ]
      },
      {
       "javascript": [
        "$('div#6594c19e-2f60-4ed8-b616-929179320c69').width('75.14%')"
       ],
       "metadata": {},
       "output_type": "display_data",
       "text": [
        "<IPython.core.display.Javascript at 0x7f3219f83690>"
       ]
      },
      {
       "output_type": "stream",
       "stream": "stdout",
       "text": [
        "Optimization terminated successfully.\n",
        "         Current function value: 0.009610\n",
        "         Iterations: 9\n",
        "         Function evaluations: 20\n"
       ]
      },
      {
       "javascript": [
        "$('div#6594c19e-2f60-4ed8-b616-929179320c69').width('75.41%')"
       ],
       "metadata": {},
       "output_type": "display_data",
       "text": [
        "<IPython.core.display.Javascript at 0x7f3219ef8290>"
       ]
      },
      {
       "output_type": "stream",
       "stream": "stdout",
       "text": [
        "----------------------------------------------------------------------------------------------------\n"
       ]
      },
      {
       "javascript": [
        "$('div#6594c19e-2f60-4ed8-b616-929179320c69').width('75.41%')"
       ],
       "metadata": {},
       "output_type": "display_data",
       "text": [
        "<IPython.core.display.Javascript at 0x7f321a011d10>"
       ]
      },
      {
       "output_type": "stream",
       "stream": "stdout",
       "text": [
        "Optimization terminated successfully.\n",
        "         Current function value: 0.000000\n",
        "         Iterations: 13\n",
        "         Function evaluations: 29\n"
       ]
      },
      {
       "javascript": [
        "$('div#6594c19e-2f60-4ed8-b616-929179320c69').width('75.68%')"
       ],
       "metadata": {},
       "output_type": "display_data",
       "text": [
        "<IPython.core.display.Javascript at 0x7f3219f805d0>"
       ]
      },
      {
       "output_type": "stream",
       "stream": "stdout",
       "text": [
        "Optimization terminated successfully.\n",
        "         Current function value: 0.004168\n",
        "         Iterations: 12\n",
        "         Function evaluations: 27\n"
       ]
      },
      {
       "javascript": [
        "$('div#6594c19e-2f60-4ed8-b616-929179320c69').width('75.96%')"
       ],
       "metadata": {},
       "output_type": "display_data",
       "text": [
        "<IPython.core.display.Javascript at 0x7f321a080a90>"
       ]
      },
      {
       "output_type": "stream",
       "stream": "stdout",
       "text": [
        "Optimization terminated successfully.\n",
        "         Current function value: 0.021839\n",
        "         Iterations: 10\n",
        "         Function evaluations: 22\n"
       ]
      },
      {
       "javascript": [
        "$('div#6594c19e-2f60-4ed8-b616-929179320c69').width('76.23%')"
       ],
       "metadata": {},
       "output_type": "display_data",
       "text": [
        "<IPython.core.display.Javascript at 0x7f3219ef8210>"
       ]
      },
      {
       "output_type": "stream",
       "stream": "stdout",
       "text": [
        "Optimization terminated successfully.\n",
        "         Current function value: 0.044970\n",
        "         Iterations: 13\n",
        "         Function evaluations: 33\n"
       ]
      },
      {
       "javascript": [
        "$('div#6594c19e-2f60-4ed8-b616-929179320c69').width('76.50%')"
       ],
       "metadata": {},
       "output_type": "display_data",
       "text": [
        "<IPython.core.display.Javascript at 0x7f321a018c90>"
       ]
      },
      {
       "output_type": "stream",
       "stream": "stdout",
       "text": [
        "Optimization terminated successfully.\n",
        "         Current function value: 0.033027\n",
        "         Iterations: 8\n",
        "         Function evaluations: 19\n"
       ]
      },
      {
       "javascript": [
        "$('div#6594c19e-2f60-4ed8-b616-929179320c69').width('76.78%')"
       ],
       "metadata": {},
       "output_type": "display_data",
       "text": [
        "<IPython.core.display.Javascript at 0x7f3219f742d0>"
       ]
      },
      {
       "output_type": "stream",
       "stream": "stdout",
       "text": [
        "Optimization terminated successfully.\n",
        "         Current function value: 0.029729\n",
        "         Iterations: 92\n",
        "         Function evaluations: 247\n"
       ]
      },
      {
       "javascript": [
        "$('div#6594c19e-2f60-4ed8-b616-929179320c69').width('77.05%')"
       ],
       "metadata": {},
       "output_type": "display_data",
       "text": [
        "<IPython.core.display.Javascript at 0x7f321a011290>"
       ]
      },
      {
       "output_type": "stream",
       "stream": "stdout",
       "text": [
        "----------------------------------------------------------------------------------------------------\n"
       ]
      },
      {
       "javascript": [
        "$('div#6594c19e-2f60-4ed8-b616-929179320c69').width('77.05%')"
       ],
       "metadata": {},
       "output_type": "display_data",
       "text": [
        "<IPython.core.display.Javascript at 0x7f321a06c610>"
       ]
      },
      {
       "output_type": "stream",
       "stream": "stdout",
       "text": [
        "Optimization terminated successfully.\n",
        "         Current function value: 0.000000\n",
        "         Iterations: 14\n",
        "         Function evaluations: 32\n"
       ]
      },
      {
       "javascript": [
        "$('div#6594c19e-2f60-4ed8-b616-929179320c69').width('77.32%')"
       ],
       "metadata": {},
       "output_type": "display_data",
       "text": [
        "<IPython.core.display.Javascript at 0x7f3219f0a110>"
       ]
      },
      {
       "output_type": "stream",
       "stream": "stdout",
       "text": [
        "Optimization terminated successfully.\n",
        "         Current function value: 0.000813\n",
        "         Iterations: 11\n",
        "         Function evaluations: 24\n"
       ]
      },
      {
       "javascript": [
        "$('div#6594c19e-2f60-4ed8-b616-929179320c69').width('77.60%')"
       ],
       "metadata": {},
       "output_type": "display_data",
       "text": [
        "<IPython.core.display.Javascript at 0x7f3219f7d110>"
       ]
      },
      {
       "output_type": "stream",
       "stream": "stdout",
       "text": [
        "Optimization terminated successfully.\n",
        "         Current function value: 0.000589\n",
        "         Iterations: 11\n",
        "         Function evaluations: 24\n"
       ]
      },
      {
       "javascript": [
        "$('div#6594c19e-2f60-4ed8-b616-929179320c69').width('77.87%')"
       ],
       "metadata": {},
       "output_type": "display_data",
       "text": [
        "<IPython.core.display.Javascript at 0x7f321a082dd0>"
       ]
      },
      {
       "output_type": "stream",
       "stream": "stdout",
       "text": [
        "Optimization terminated successfully.\n",
        "         Current function value: 0.000000\n",
        "         Iterations: 10\n",
        "         Function evaluations: 21\n"
       ]
      },
      {
       "javascript": [
        "$('div#6594c19e-2f60-4ed8-b616-929179320c69').width('78.14%')"
       ],
       "metadata": {},
       "output_type": "display_data",
       "text": [
        "<IPython.core.display.Javascript at 0x7f321a080cd0>"
       ]
      },
      {
       "output_type": "stream",
       "stream": "stdout",
       "text": [
        "Optimization terminated successfully.\n",
        "         Current function value: 0.002688\n",
        "         Iterations: 9\n",
        "         Function evaluations: 20\n"
       ]
      },
      {
       "javascript": [
        "$('div#6594c19e-2f60-4ed8-b616-929179320c69').width('78.42%')"
       ],
       "metadata": {},
       "output_type": "display_data",
       "text": [
        "<IPython.core.display.Javascript at 0x7f3219f74750>"
       ]
      },
      {
       "output_type": "stream",
       "stream": "stdout",
       "text": [
        "Optimization terminated successfully.\n",
        "         Current function value: 0.004412\n",
        "         Iterations: 10\n",
        "         Function evaluations: 24\n"
       ]
      },
      {
       "javascript": [
        "$('div#6594c19e-2f60-4ed8-b616-929179320c69').width('78.69%')"
       ],
       "metadata": {},
       "output_type": "display_data",
       "text": [
        "<IPython.core.display.Javascript at 0x7f321a06ca50>"
       ]
      },
      {
       "output_type": "stream",
       "stream": "stdout",
       "text": [
        "----------------------------------------------------------------------------------------------------\n"
       ]
      },
      {
       "javascript": [
        "$('div#6594c19e-2f60-4ed8-b616-929179320c69').width('78.69%')"
       ],
       "metadata": {},
       "output_type": "display_data",
       "text": [
        "<IPython.core.display.Javascript at 0x7f321a005290>"
       ]
      },
      {
       "output_type": "stream",
       "stream": "stdout",
       "text": [
        "Optimization terminated successfully.\n",
        "         Current function value: 0.000000\n",
        "         Iterations: 12\n",
        "         Function evaluations: 28\n"
       ]
      },
      {
       "javascript": [
        "$('div#6594c19e-2f60-4ed8-b616-929179320c69').width('78.96%')"
       ],
       "metadata": {},
       "output_type": "display_data",
       "text": [
        "<IPython.core.display.Javascript at 0x7f3219fde950>"
       ]
      },
      {
       "output_type": "stream",
       "stream": "stdout",
       "text": [
        "Optimization terminated successfully.\n",
        "         Current function value: 0.000306\n",
        "         Iterations: 11\n",
        "         Function evaluations: 24\n"
       ]
      },
      {
       "javascript": [
        "$('div#6594c19e-2f60-4ed8-b616-929179320c69').width('79.23%')"
       ],
       "metadata": {},
       "output_type": "display_data",
       "text": [
        "<IPython.core.display.Javascript at 0x7f3219f835d0>"
       ]
      },
      {
       "output_type": "stream",
       "stream": "stdout",
       "text": [
        "Optimization terminated successfully.\n",
        "         Current function value: 0.004381\n",
        "         Iterations: 10\n",
        "         Function evaluations: 22\n"
       ]
      },
      {
       "javascript": [
        "$('div#6594c19e-2f60-4ed8-b616-929179320c69').width('79.51%')"
       ],
       "metadata": {},
       "output_type": "display_data",
       "text": [
        "<IPython.core.display.Javascript at 0x7f3219edd790>"
       ]
      },
      {
       "output_type": "stream",
       "stream": "stdout",
       "text": [
        "Optimization terminated successfully.\n",
        "         Current function value: 0.011846\n",
        "         Iterations: 10\n",
        "         Function evaluations: 21\n"
       ]
      },
      {
       "javascript": [
        "$('div#6594c19e-2f60-4ed8-b616-929179320c69').width('79.78%')"
       ],
       "metadata": {},
       "output_type": "display_data",
       "text": [
        "<IPython.core.display.Javascript at 0x7f3219f74890>"
       ]
      },
      {
       "output_type": "stream",
       "stream": "stdout",
       "text": [
        "Optimization terminated successfully.\n",
        "         Current function value: 0.031754\n",
        "         Iterations: 11\n",
        "         Function evaluations: 29\n"
       ]
      },
      {
       "javascript": [
        "$('div#6594c19e-2f60-4ed8-b616-929179320c69').width('80.05%')"
       ],
       "metadata": {},
       "output_type": "display_data",
       "text": [
        "<IPython.core.display.Javascript at 0x7f3219efc0d0>"
       ]
      },
      {
       "output_type": "stream",
       "stream": "stdout",
       "text": [
        "Optimization terminated successfully.\n",
        "         Current function value: 0.017208\n",
        "         Iterations: 11\n",
        "         Function evaluations: 27\n"
       ]
      },
      {
       "javascript": [
        "$('div#6594c19e-2f60-4ed8-b616-929179320c69').width('80.33%')"
       ],
       "metadata": {},
       "output_type": "display_data",
       "text": [
        "<IPython.core.display.Javascript at 0x7f321a005550>"
       ]
      },
      {
       "output_type": "stream",
       "stream": "stdout",
       "text": [
        "----------------------------------------------------------------------------------------------------\n"
       ]
      },
      {
       "javascript": [
        "$('div#6594c19e-2f60-4ed8-b616-929179320c69').width('80.33%')"
       ],
       "metadata": {},
       "output_type": "display_data",
       "text": [
        "<IPython.core.display.Javascript at 0x7f321a020590>"
       ]
      },
      {
       "output_type": "stream",
       "stream": "stdout",
       "text": [
        "Optimization terminated successfully.\n",
        "         Current function value: 0.000000\n",
        "         Iterations: 16\n",
        "         Function evaluations: 37\n"
       ]
      },
      {
       "javascript": [
        "$('div#6594c19e-2f60-4ed8-b616-929179320c69').width('80.60%')"
       ],
       "metadata": {},
       "output_type": "display_data",
       "text": [
        "<IPython.core.display.Javascript at 0x7f321a0042d0>"
       ]
      },
      {
       "output_type": "stream",
       "stream": "stdout",
       "text": [
        "Optimization terminated successfully.\n",
        "         Current function value: 0.000934\n",
        "         Iterations: 14\n",
        "         Function evaluations: 32\n"
       ]
      },
      {
       "javascript": [
        "$('div#6594c19e-2f60-4ed8-b616-929179320c69').width('80.87%')"
       ],
       "metadata": {},
       "output_type": "display_data",
       "text": [
        "<IPython.core.display.Javascript at 0x7f321a0043d0>"
       ]
      },
      {
       "output_type": "stream",
       "stream": "stdout",
       "text": [
        "Optimization terminated successfully.\n",
        "         Current function value: 0.001163\n",
        "         Iterations: 12\n",
        "         Function evaluations: 27\n"
       ]
      },
      {
       "javascript": [
        "$('div#6594c19e-2f60-4ed8-b616-929179320c69').width('81.15%')"
       ],
       "metadata": {},
       "output_type": "display_data",
       "text": [
        "<IPython.core.display.Javascript at 0x7f3219effed0>"
       ]
      },
      {
       "output_type": "stream",
       "stream": "stdout",
       "text": [
        "Optimization terminated successfully.\n",
        "         Current function value: 0.000015\n",
        "         Iterations: 12\n",
        "         Function evaluations: 29\n"
       ]
      },
      {
       "javascript": [
        "$('div#6594c19e-2f60-4ed8-b616-929179320c69').width('81.42%')"
       ],
       "metadata": {},
       "output_type": "display_data",
       "text": [
        "<IPython.core.display.Javascript at 0x7f321a0f8650>"
       ]
      },
      {
       "output_type": "stream",
       "stream": "stdout",
       "text": [
        "Optimization terminated successfully.\n",
        "         Current function value: 0.000857\n",
        "         Iterations: 9\n",
        "         Function evaluations: 22\n"
       ]
      },
      {
       "javascript": [
        "$('div#6594c19e-2f60-4ed8-b616-929179320c69').width('81.69%')"
       ],
       "metadata": {},
       "output_type": "display_data",
       "text": [
        "<IPython.core.display.Javascript at 0x7f321a004c50>"
       ]
      },
      {
       "output_type": "stream",
       "stream": "stdout",
       "text": [
        "Optimization terminated successfully.\n",
        "         Current function value: 0.002558\n",
        "         Iterations: 10\n",
        "         Function evaluations: 24\n"
       ]
      },
      {
       "javascript": [
        "$('div#6594c19e-2f60-4ed8-b616-929179320c69').width('81.97%')"
       ],
       "metadata": {},
       "output_type": "display_data",
       "text": [
        "<IPython.core.display.Javascript at 0x7f321a020c50>"
       ]
      },
      {
       "output_type": "stream",
       "stream": "stdout",
       "text": [
        "----------------------------------------------------------------------------------------------------\n"
       ]
      },
      {
       "javascript": [
        "$('div#6594c19e-2f60-4ed8-b616-929179320c69').width('81.97%')"
       ],
       "metadata": {},
       "output_type": "display_data",
       "text": [
        "<IPython.core.display.Javascript at 0x7f3219f744d0>"
       ]
      },
      {
       "output_type": "stream",
       "stream": "stdout",
       "text": [
        "Optimization terminated successfully.\n",
        "         Current function value: 0.000007\n",
        "         Iterations: 11\n",
        "         Function evaluations: 24\n"
       ]
      },
      {
       "javascript": [
        "$('div#6594c19e-2f60-4ed8-b616-929179320c69').width('82.24%')"
       ],
       "metadata": {},
       "output_type": "display_data",
       "text": [
        "<IPython.core.display.Javascript at 0x7f321a0823d0>"
       ]
      },
      {
       "output_type": "stream",
       "stream": "stdout",
       "text": [
        "Optimization terminated successfully.\n",
        "         Current function value: 0.006508\n",
        "         Iterations: 15\n",
        "         Function evaluations: 38\n"
       ]
      },
      {
       "javascript": [
        "$('div#6594c19e-2f60-4ed8-b616-929179320c69').width('82.51%')"
       ],
       "metadata": {},
       "output_type": "display_data",
       "text": [
        "<IPython.core.display.Javascript at 0x7f321a2e7110>"
       ]
      },
      {
       "output_type": "stream",
       "stream": "stdout",
       "text": [
        "Optimization terminated successfully.\n",
        "         Current function value: 0.030489\n",
        "         Iterations: 159\n",
        "         Function evaluations: 423\n"
       ]
      },
      {
       "javascript": [
        "$('div#6594c19e-2f60-4ed8-b616-929179320c69').width('82.79%')"
       ],
       "metadata": {},
       "output_type": "display_data",
       "text": [
        "<IPython.core.display.Javascript at 0x7f321a004490>"
       ]
      },
      {
       "output_type": "stream",
       "stream": "stdout",
       "text": [
        "Optimization terminated successfully.\n",
        "         Current function value: 0.081795\n",
        "         Iterations: 20\n",
        "         Function evaluations: 49\n"
       ]
      },
      {
       "javascript": [
        "$('div#6594c19e-2f60-4ed8-b616-929179320c69').width('83.06%')"
       ],
       "metadata": {},
       "output_type": "display_data",
       "text": [
        "<IPython.core.display.Javascript at 0x7f324555fb10>"
       ]
      },
      {
       "output_type": "stream",
       "stream": "stdout",
       "text": [
        "Optimization terminated successfully.\n",
        "         Current function value: 0.049139\n",
        "         Iterations: 36\n",
        "         Function evaluations: 95\n"
       ]
      },
      {
       "javascript": [
        "$('div#6594c19e-2f60-4ed8-b616-929179320c69').width('83.33%')"
       ],
       "metadata": {},
       "output_type": "display_data",
       "text": [
        "<IPython.core.display.Javascript at 0x7f3219f4fc10>"
       ]
      },
      {
       "output_type": "stream",
       "stream": "stdout",
       "text": [
        "Optimization terminated successfully.\n",
        "         Current function value: 0.017880\n",
        "         Iterations: 9\n",
        "         Function evaluations: 21\n"
       ]
      },
      {
       "javascript": [
        "$('div#6594c19e-2f60-4ed8-b616-929179320c69').width('83.61%')"
       ],
       "metadata": {},
       "output_type": "display_data",
       "text": [
        "<IPython.core.display.Javascript at 0x7f3219f74950>"
       ]
      },
      {
       "output_type": "stream",
       "stream": "stdout",
       "text": [
        "----------------------------------------------------------------------------------------------------\n"
       ]
      },
      {
       "javascript": [
        "$('div#6594c19e-2f60-4ed8-b616-929179320c69').width('83.61%')"
       ],
       "metadata": {},
       "output_type": "display_data",
       "text": [
        "<IPython.core.display.Javascript at 0x7f3219f037d0>"
       ]
      },
      {
       "output_type": "stream",
       "stream": "stdout",
       "text": [
        "Optimization terminated successfully.\n",
        "         Current function value: 0.000000\n",
        "         Iterations: 13\n",
        "         Function evaluations: 29\n"
       ]
      },
      {
       "javascript": [
        "$('div#6594c19e-2f60-4ed8-b616-929179320c69').width('83.88%')"
       ],
       "metadata": {},
       "output_type": "display_data",
       "text": [
        "<IPython.core.display.Javascript at 0x7f3219f83f50>"
       ]
      },
      {
       "output_type": "stream",
       "stream": "stdout",
       "text": [
        "Optimization terminated successfully.\n",
        "         Current function value: 0.041768\n",
        "         Iterations: 40\n",
        "         Function evaluations: 105\n"
       ]
      },
      {
       "javascript": [
        "$('div#6594c19e-2f60-4ed8-b616-929179320c69').width('84.15%')"
       ],
       "metadata": {},
       "output_type": "display_data",
       "text": [
        "<IPython.core.display.Javascript at 0x7f3219edd5d0>"
       ]
      },
      {
       "output_type": "stream",
       "stream": "stdout",
       "text": [
        "Optimization terminated successfully.\n",
        "         Current function value: 0.018223\n",
        "         Iterations: 17\n",
        "         Function evaluations: 43\n"
       ]
      },
      {
       "javascript": [
        "$('div#6594c19e-2f60-4ed8-b616-929179320c69').width('84.43%')"
       ],
       "metadata": {},
       "output_type": "display_data",
       "text": [
        "<IPython.core.display.Javascript at 0x7f3219ef1e90>"
       ]
      },
      {
       "output_type": "stream",
       "stream": "stdout",
       "text": [
        "Optimization terminated successfully.\n",
        "         Current function value: 0.125005\n",
        "         Iterations: 98\n",
        "         Function evaluations: 261\n"
       ]
      },
      {
       "javascript": [
        "$('div#6594c19e-2f60-4ed8-b616-929179320c69').width('84.70%')"
       ],
       "metadata": {},
       "output_type": "display_data",
       "text": [
        "<IPython.core.display.Javascript at 0x7f3219f733d0>"
       ]
      },
      {
       "output_type": "stream",
       "stream": "stdout",
       "text": [
        "Optimization terminated successfully.\n",
        "         Current function value: 0.171565\n",
        "         Iterations: 160\n",
        "         Function evaluations: 435\n"
       ]
      },
      {
       "javascript": [
        "$('div#6594c19e-2f60-4ed8-b616-929179320c69').width('84.97%')"
       ],
       "metadata": {},
       "output_type": "display_data",
       "text": [
        "<IPython.core.display.Javascript at 0x7f3219f83910>"
       ]
      },
      {
       "output_type": "stream",
       "stream": "stdout",
       "text": [
        "Optimization terminated successfully.\n",
        "         Current function value: 0.192790\n",
        "         Iterations: 8\n",
        "         Function evaluations: 18\n"
       ]
      },
      {
       "javascript": [
        "$('div#6594c19e-2f60-4ed8-b616-929179320c69').width('85.25%')"
       ],
       "metadata": {},
       "output_type": "display_data",
       "text": [
        "<IPython.core.display.Javascript at 0x7f3219f03ed0>"
       ]
      },
      {
       "output_type": "stream",
       "stream": "stdout",
       "text": [
        "----------------------------------------------------------------------------------------------------\n"
       ]
      },
      {
       "javascript": [
        "$('div#6594c19e-2f60-4ed8-b616-929179320c69').width('85.25%')"
       ],
       "metadata": {},
       "output_type": "display_data",
       "text": [
        "<IPython.core.display.Javascript at 0x7f3219ee1dd0>"
       ]
      },
      {
       "output_type": "stream",
       "stream": "stdout",
       "text": [
        "Optimization terminated successfully.\n",
        "         Current function value: 0.000000\n",
        "         Iterations: 12\n",
        "         Function evaluations: 25\n"
       ]
      },
      {
       "javascript": [
        "$('div#6594c19e-2f60-4ed8-b616-929179320c69').width('85.52%')"
       ],
       "metadata": {},
       "output_type": "display_data",
       "text": [
        "<IPython.core.display.Javascript at 0x7f321a0f8390>"
       ]
      },
      {
       "output_type": "stream",
       "stream": "stdout",
       "text": [
        "Optimization terminated successfully.\n",
        "         Current function value: 0.014206\n",
        "         Iterations: 15\n",
        "         Function evaluations: 37\n"
       ]
      },
      {
       "javascript": [
        "$('div#6594c19e-2f60-4ed8-b616-929179320c69').width('85.79%')"
       ],
       "metadata": {},
       "output_type": "display_data",
       "text": [
        "<IPython.core.display.Javascript at 0x7f3219f7f210>"
       ]
      },
      {
       "output_type": "stream",
       "stream": "stdout",
       "text": [
        "Optimization terminated successfully.\n",
        "         Current function value: 0.028530\n",
        "         Iterations: 79\n",
        "         Function evaluations: 212\n"
       ]
      },
      {
       "javascript": [
        "$('div#6594c19e-2f60-4ed8-b616-929179320c69').width('86.07%')"
       ],
       "metadata": {},
       "output_type": "display_data",
       "text": [
        "<IPython.core.display.Javascript at 0x7f321a004450>"
       ]
      },
      {
       "output_type": "stream",
       "stream": "stdout",
       "text": [
        "Optimization terminated successfully.\n",
        "         Current function value: 0.028127\n",
        "         Iterations: 24\n",
        "         Function evaluations: 60\n"
       ]
      },
      {
       "javascript": [
        "$('div#6594c19e-2f60-4ed8-b616-929179320c69').width('86.34%')"
       ],
       "metadata": {},
       "output_type": "display_data",
       "text": [
        "<IPython.core.display.Javascript at 0x7f3219f7d9d0>"
       ]
      },
      {
       "output_type": "stream",
       "stream": "stdout",
       "text": [
        "Optimization terminated successfully.\n",
        "         Current function value: 0.020808\n",
        "         Iterations: 27\n",
        "         Function evaluations: 69\n"
       ]
      },
      {
       "javascript": [
        "$('div#6594c19e-2f60-4ed8-b616-929179320c69').width('86.61%')"
       ],
       "metadata": {},
       "output_type": "display_data",
       "text": [
        "<IPython.core.display.Javascript at 0x7f3219f0a9d0>"
       ]
      },
      {
       "output_type": "stream",
       "stream": "stdout",
       "text": [
        "Optimization terminated successfully.\n",
        "         Current function value: 0.007522\n",
        "         Iterations: 12\n",
        "         Function evaluations: 28\n"
       ]
      },
      {
       "javascript": [
        "$('div#6594c19e-2f60-4ed8-b616-929179320c69').width('86.89%')"
       ],
       "metadata": {},
       "output_type": "display_data",
       "text": [
        "<IPython.core.display.Javascript at 0x7f3219ee1710>"
       ]
      },
      {
       "output_type": "stream",
       "stream": "stdout",
       "text": [
        "----------------------------------------------------------------------------------------------------\n"
       ]
      },
      {
       "javascript": [
        "$('div#6594c19e-2f60-4ed8-b616-929179320c69').width('86.89%')"
       ],
       "metadata": {},
       "output_type": "display_data",
       "text": [
        "<IPython.core.display.Javascript at 0x7f3219f14650>"
       ]
      },
      {
       "output_type": "stream",
       "stream": "stdout",
       "text": [
        "Optimization terminated successfully.\n",
        "         Current function value: 0.000000\n",
        "         Iterations: 13\n",
        "         Function evaluations: 27\n"
       ]
      },
      {
       "javascript": [
        "$('div#6594c19e-2f60-4ed8-b616-929179320c69').width('87.16%')"
       ],
       "metadata": {},
       "output_type": "display_data",
       "text": [
        "<IPython.core.display.Javascript at 0x7f321a032450>"
       ]
      },
      {
       "output_type": "stream",
       "stream": "stdout",
       "text": [
        "Optimization terminated successfully.\n",
        "         Current function value: 0.003571\n",
        "         Iterations: 10\n",
        "         Function evaluations: 22\n"
       ]
      },
      {
       "javascript": [
        "$('div#6594c19e-2f60-4ed8-b616-929179320c69').width('87.43%')"
       ],
       "metadata": {},
       "output_type": "display_data",
       "text": [
        "<IPython.core.display.Javascript at 0x7f321a0b73d0>"
       ]
      },
      {
       "output_type": "stream",
       "stream": "stdout",
       "text": [
        "Optimization terminated successfully.\n",
        "         Current function value: 0.024009\n",
        "         Iterations: 9\n",
        "         Function evaluations: 21\n"
       ]
      },
      {
       "javascript": [
        "$('div#6594c19e-2f60-4ed8-b616-929179320c69').width('87.70%')"
       ],
       "metadata": {},
       "output_type": "display_data",
       "text": [
        "<IPython.core.display.Javascript at 0x7f321a0057d0>"
       ]
      },
      {
       "output_type": "stream",
       "stream": "stdout",
       "text": [
        "Optimization terminated successfully.\n",
        "         Current function value: 0.038104\n",
        "         Iterations: 9\n",
        "         Function evaluations: 19\n"
       ]
      },
      {
       "javascript": [
        "$('div#6594c19e-2f60-4ed8-b616-929179320c69').width('87.98%')"
       ],
       "metadata": {},
       "output_type": "display_data",
       "text": [
        "<IPython.core.display.Javascript at 0x7f321a00b910>"
       ]
      },
      {
       "output_type": "stream",
       "stream": "stdout",
       "text": [
        "Warning: Maximum number of iterations has been exceeded.\n"
       ]
      },
      {
       "javascript": [
        "$('div#6594c19e-2f60-4ed8-b616-929179320c69').width('88.25%')"
       ],
       "metadata": {},
       "output_type": "display_data",
       "text": [
        "<IPython.core.display.Javascript at 0x7f321a0992d0>"
       ]
      },
      {
       "output_type": "stream",
       "stream": "stdout",
       "text": [
        "Optimization terminated successfully.\n",
        "         Current function value: 0.008430\n",
        "         Iterations: 14\n",
        "         Function evaluations: 34\n"
       ]
      },
      {
       "javascript": [
        "$('div#6594c19e-2f60-4ed8-b616-929179320c69').width('88.52%')"
       ],
       "metadata": {},
       "output_type": "display_data",
       "text": [
        "<IPython.core.display.Javascript at 0x7f321a041bd0>"
       ]
      },
      {
       "output_type": "stream",
       "stream": "stdout",
       "text": [
        "----------------------------------------------------------------------------------------------------\n"
       ]
      },
      {
       "javascript": [
        "$('div#6594c19e-2f60-4ed8-b616-929179320c69').width('88.52%')"
       ],
       "metadata": {},
       "output_type": "display_data",
       "text": [
        "<IPython.core.display.Javascript at 0x7f3219efc090>"
       ]
      },
      {
       "output_type": "stream",
       "stream": "stdout",
       "text": [
        "Optimization terminated successfully.\n",
        "         Current function value: 0.000000\n",
        "         Iterations: 11\n",
        "         Function evaluations: 26\n"
       ]
      },
      {
       "javascript": [
        "$('div#6594c19e-2f60-4ed8-b616-929179320c69').width('88.80%')"
       ],
       "metadata": {},
       "output_type": "display_data",
       "text": [
        "<IPython.core.display.Javascript at 0x7f3219f74050>"
       ]
      },
      {
       "output_type": "stream",
       "stream": "stdout",
       "text": [
        "Optimization terminated successfully.\n",
        "         Current function value: 0.000138\n",
        "         Iterations: 12\n",
        "         Function evaluations: 28\n"
       ]
      },
      {
       "javascript": [
        "$('div#6594c19e-2f60-4ed8-b616-929179320c69').width('89.07%')"
       ],
       "metadata": {},
       "output_type": "display_data",
       "text": [
        "<IPython.core.display.Javascript at 0x7f321a097ed0>"
       ]
      },
      {
       "output_type": "stream",
       "stream": "stdout",
       "text": [
        "Optimization terminated successfully.\n",
        "         Current function value: 0.011169\n",
        "         Iterations: 12\n",
        "         Function evaluations: 29\n"
       ]
      },
      {
       "javascript": [
        "$('div#6594c19e-2f60-4ed8-b616-929179320c69').width('89.34%')"
       ],
       "metadata": {},
       "output_type": "display_data",
       "text": [
        "<IPython.core.display.Javascript at 0x7f321a0469d0>"
       ]
      },
      {
       "output_type": "stream",
       "stream": "stdout",
       "text": [
        "Optimization terminated successfully.\n",
        "         Current function value: 0.038651\n",
        "         Iterations: 24\n",
        "         Function evaluations: 62\n"
       ]
      },
      {
       "javascript": [
        "$('div#6594c19e-2f60-4ed8-b616-929179320c69').width('89.62%')"
       ],
       "metadata": {},
       "output_type": "display_data",
       "text": [
        "<IPython.core.display.Javascript at 0x7f3219edd0d0>"
       ]
      },
      {
       "output_type": "stream",
       "stream": "stdout",
       "text": [
        "Optimization terminated successfully.\n",
        "         Current function value: 0.050103\n",
        "         Iterations: 11\n",
        "         Function evaluations: 25\n"
       ]
      },
      {
       "javascript": [
        "$('div#6594c19e-2f60-4ed8-b616-929179320c69').width('89.89%')"
       ],
       "metadata": {},
       "output_type": "display_data",
       "text": [
        "<IPython.core.display.Javascript at 0x7f3219f83550>"
       ]
      },
      {
       "output_type": "stream",
       "stream": "stdout",
       "text": [
        "Optimization terminated successfully.\n",
        "         Current function value: 0.028752\n",
        "         Iterations: 12\n",
        "         Function evaluations: 31\n"
       ]
      },
      {
       "javascript": [
        "$('div#6594c19e-2f60-4ed8-b616-929179320c69').width('90.16%')"
       ],
       "metadata": {},
       "output_type": "display_data",
       "text": [
        "<IPython.core.display.Javascript at 0x7f321a099790>"
       ]
      },
      {
       "output_type": "stream",
       "stream": "stdout",
       "text": [
        "----------------------------------------------------------------------------------------------------\n"
       ]
      },
      {
       "javascript": [
        "$('div#6594c19e-2f60-4ed8-b616-929179320c69').width('90.16%')"
       ],
       "metadata": {},
       "output_type": "display_data",
       "text": [
        "<IPython.core.display.Javascript at 0x7f3219f65890>"
       ]
      },
      {
       "output_type": "stream",
       "stream": "stdout",
       "text": [
        "Optimization terminated successfully.\n",
        "         Current function value: 0.000000\n",
        "         Iterations: 11\n",
        "         Function evaluations: 25\n"
       ]
      },
      {
       "javascript": [
        "$('div#6594c19e-2f60-4ed8-b616-929179320c69').width('90.44%')"
       ],
       "metadata": {},
       "output_type": "display_data",
       "text": [
        "<IPython.core.display.Javascript at 0x7f321a097910>"
       ]
      },
      {
       "output_type": "stream",
       "stream": "stdout",
       "text": [
        "Optimization terminated successfully.\n",
        "         Current function value: 0.000008\n",
        "         Iterations: 10\n",
        "         Function evaluations: 23\n"
       ]
      },
      {
       "javascript": [
        "$('div#6594c19e-2f60-4ed8-b616-929179320c69').width('90.71%')"
       ],
       "metadata": {},
       "output_type": "display_data",
       "text": [
        "<IPython.core.display.Javascript at 0x7f321a0b7890>"
       ]
      },
      {
       "output_type": "stream",
       "stream": "stdout",
       "text": [
        "Optimization terminated successfully.\n",
        "         Current function value: 0.018768\n",
        "         Iterations: 10\n",
        "         Function evaluations: 24\n"
       ]
      },
      {
       "javascript": [
        "$('div#6594c19e-2f60-4ed8-b616-929179320c69').width('90.98%')"
       ],
       "metadata": {},
       "output_type": "display_data",
       "text": [
        "<IPython.core.display.Javascript at 0x7f321a046450>"
       ]
      },
      {
       "output_type": "stream",
       "stream": "stdout",
       "text": [
        "Optimization terminated successfully.\n",
        "         Current function value: 0.027077\n",
        "         Iterations: 32\n",
        "         Function evaluations: 82\n"
       ]
      },
      {
       "javascript": [
        "$('div#6594c19e-2f60-4ed8-b616-929179320c69').width('91.26%')"
       ],
       "metadata": {},
       "output_type": "display_data",
       "text": [
        "<IPython.core.display.Javascript at 0x7f3219f46810>"
       ]
      },
      {
       "output_type": "stream",
       "stream": "stdout",
       "text": [
        "Optimization terminated successfully.\n",
        "         Current function value: 0.005537\n",
        "         Iterations: 10\n",
        "         Function evaluations: 22\n"
       ]
      },
      {
       "javascript": [
        "$('div#6594c19e-2f60-4ed8-b616-929179320c69').width('91.53%')"
       ],
       "metadata": {},
       "output_type": "display_data",
       "text": [
        "<IPython.core.display.Javascript at 0x7f3219f732d0>"
       ]
      },
      {
       "output_type": "stream",
       "stream": "stdout",
       "text": [
        "Optimization terminated successfully.\n",
        "         Current function value: 0.005208\n",
        "         Iterations: 13\n",
        "         Function evaluations: 30\n"
       ]
      },
      {
       "javascript": [
        "$('div#6594c19e-2f60-4ed8-b616-929179320c69').width('91.80%')"
       ],
       "metadata": {},
       "output_type": "display_data",
       "text": [
        "<IPython.core.display.Javascript at 0x7f3219f65bd0>"
       ]
      },
      {
       "output_type": "stream",
       "stream": "stdout",
       "text": [
        "----------------------------------------------------------------------------------------------------\n"
       ]
      },
      {
       "javascript": [
        "$('div#6594c19e-2f60-4ed8-b616-929179320c69').width('91.80%')"
       ],
       "metadata": {},
       "output_type": "display_data",
       "text": [
        "<IPython.core.display.Javascript at 0x7f321a08cd10>"
       ]
      },
      {
       "output_type": "stream",
       "stream": "stdout",
       "text": [
        "Optimization terminated successfully.\n",
        "         Current function value: 0.000000\n",
        "         Iterations: 11\n",
        "         Function evaluations: 24\n"
       ]
      },
      {
       "javascript": [
        "$('div#6594c19e-2f60-4ed8-b616-929179320c69').width('92.08%')"
       ],
       "metadata": {},
       "output_type": "display_data",
       "text": [
        "<IPython.core.display.Javascript at 0x7f321a06c290>"
       ]
      },
      {
       "output_type": "stream",
       "stream": "stdout",
       "text": [
        "Optimization terminated successfully.\n",
        "         Current function value: 0.001412\n",
        "         Iterations: 12\n",
        "         Function evaluations: 26\n"
       ]
      },
      {
       "javascript": [
        "$('div#6594c19e-2f60-4ed8-b616-929179320c69').width('92.35%')"
       ],
       "metadata": {},
       "output_type": "display_data",
       "text": [
        "<IPython.core.display.Javascript at 0x7f3219f46a50>"
       ]
      },
      {
       "output_type": "stream",
       "stream": "stdout",
       "text": [
        "Optimization terminated successfully.\n",
        "         Current function value: 0.014187\n",
        "         Iterations: 17\n",
        "         Function evaluations: 41\n"
       ]
      },
      {
       "javascript": [
        "$('div#6594c19e-2f60-4ed8-b616-929179320c69').width('92.62%')"
       ],
       "metadata": {},
       "output_type": "display_data",
       "text": [
        "<IPython.core.display.Javascript at 0x7f3219ff6c50>"
       ]
      },
      {
       "output_type": "stream",
       "stream": "stdout",
       "text": [
        "Optimization terminated successfully.\n",
        "         Current function value: 0.020691\n",
        "         Iterations: 10\n",
        "         Function evaluations: 23\n"
       ]
      },
      {
       "javascript": [
        "$('div#6594c19e-2f60-4ed8-b616-929179320c69').width('92.90%')"
       ],
       "metadata": {},
       "output_type": "display_data",
       "text": [
        "<IPython.core.display.Javascript at 0x7f321a020ad0>"
       ]
      },
      {
       "output_type": "stream",
       "stream": "stdout",
       "text": [
        "Optimization terminated successfully.\n",
        "         Current function value: 0.073106\n",
        "         Iterations: 59\n",
        "         Function evaluations: 160\n"
       ]
      },
      {
       "javascript": [
        "$('div#6594c19e-2f60-4ed8-b616-929179320c69').width('93.17%')"
       ],
       "metadata": {},
       "output_type": "display_data",
       "text": [
        "<IPython.core.display.Javascript at 0x7f321a0460d0>"
       ]
      },
      {
       "output_type": "stream",
       "stream": "stdout",
       "text": [
        "Optimization terminated successfully.\n",
        "         Current function value: 0.050592\n",
        "         Iterations: 33\n",
        "         Function evaluations: 86\n"
       ]
      },
      {
       "javascript": [
        "$('div#6594c19e-2f60-4ed8-b616-929179320c69').width('93.44%')"
       ],
       "metadata": {},
       "output_type": "display_data",
       "text": [
        "<IPython.core.display.Javascript at 0x7f321a08cd90>"
       ]
      },
      {
       "output_type": "stream",
       "stream": "stdout",
       "text": [
        "----------------------------------------------------------------------------------------------------\n"
       ]
      },
      {
       "javascript": [
        "$('div#6594c19e-2f60-4ed8-b616-929179320c69').width('93.44%')"
       ],
       "metadata": {},
       "output_type": "display_data",
       "text": [
        "<IPython.core.display.Javascript at 0x7f3219f03250>"
       ]
      },
      {
       "output_type": "stream",
       "stream": "stdout",
       "text": [
        "Optimization terminated successfully.\n",
        "         Current function value: 0.000001\n",
        "         Iterations: 12\n",
        "         Function evaluations: 28\n"
       ]
      },
      {
       "javascript": [
        "$('div#6594c19e-2f60-4ed8-b616-929179320c69').width('93.72%')"
       ],
       "metadata": {},
       "output_type": "display_data",
       "text": [
        "<IPython.core.display.Javascript at 0x7f321a00b810>"
       ]
      },
      {
       "output_type": "stream",
       "stream": "stdout",
       "text": [
        "Optimization terminated successfully.\n",
        "         Current function value: 0.001269\n",
        "         Iterations: 11\n",
        "         Function evaluations: 23\n"
       ]
      },
      {
       "javascript": [
        "$('div#6594c19e-2f60-4ed8-b616-929179320c69').width('93.99%')"
       ],
       "metadata": {},
       "output_type": "display_data",
       "text": [
        "<IPython.core.display.Javascript at 0x7f321a041a90>"
       ]
      },
      {
       "output_type": "stream",
       "stream": "stdout",
       "text": [
        "Optimization terminated successfully.\n",
        "         Current function value: 0.000063\n",
        "         Iterations: 10\n",
        "         Function evaluations: 22\n"
       ]
      },
      {
       "javascript": [
        "$('div#6594c19e-2f60-4ed8-b616-929179320c69').width('94.26%')"
       ],
       "metadata": {},
       "output_type": "display_data",
       "text": [
        "<IPython.core.display.Javascript at 0x7f3219f03c10>"
       ]
      },
      {
       "output_type": "stream",
       "stream": "stdout",
       "text": [
        "Optimization terminated successfully.\n",
        "         Current function value: 0.000220\n",
        "         Iterations: 10\n",
        "         Function evaluations: 23\n"
       ]
      },
      {
       "javascript": [
        "$('div#6594c19e-2f60-4ed8-b616-929179320c69').width('94.54%')"
       ],
       "metadata": {},
       "output_type": "display_data",
       "text": [
        "<IPython.core.display.Javascript at 0x7f3219f83790>"
       ]
      },
      {
       "output_type": "stream",
       "stream": "stdout",
       "text": [
        "Optimization terminated successfully.\n",
        "         Current function value: 0.001556\n",
        "         Iterations: 10\n",
        "         Function evaluations: 23\n"
       ]
      },
      {
       "javascript": [
        "$('div#6594c19e-2f60-4ed8-b616-929179320c69').width('94.81%')"
       ],
       "metadata": {},
       "output_type": "display_data",
       "text": [
        "<IPython.core.display.Javascript at 0x7f3219f81c90>"
       ]
      },
      {
       "output_type": "stream",
       "stream": "stdout",
       "text": [
        "Optimization terminated successfully.\n",
        "         Current function value: 0.003407\n",
        "         Iterations: 9\n",
        "         Function evaluations: 22\n"
       ]
      },
      {
       "javascript": [
        "$('div#6594c19e-2f60-4ed8-b616-929179320c69').width('95.08%')"
       ],
       "metadata": {},
       "output_type": "display_data",
       "text": [
        "<IPython.core.display.Javascript at 0x7f3219f033d0>"
       ]
      },
      {
       "output_type": "stream",
       "stream": "stdout",
       "text": [
        "----------------------------------------------------------------------------------------------------\n"
       ]
      },
      {
       "javascript": [
        "$('div#6594c19e-2f60-4ed8-b616-929179320c69').width('95.08%')"
       ],
       "metadata": {},
       "output_type": "display_data",
       "text": [
        "<IPython.core.display.Javascript at 0x7f3219fde1d0>"
       ]
      },
      {
       "output_type": "stream",
       "stream": "stdout",
       "text": [
        "Optimization terminated successfully.\n",
        "         Current function value: 0.000000\n",
        "         Iterations: 13\n",
        "         Function evaluations: 29\n"
       ]
      },
      {
       "javascript": [
        "$('div#6594c19e-2f60-4ed8-b616-929179320c69').width('95.36%')"
       ],
       "metadata": {},
       "output_type": "display_data",
       "text": [
        "<IPython.core.display.Javascript at 0x7f3219f03a10>"
       ]
      },
      {
       "output_type": "stream",
       "stream": "stdout",
       "text": [
        "Optimization terminated successfully.\n",
        "         Current function value: 0.000095\n",
        "         Iterations: 12\n",
        "         Function evaluations: 27\n"
       ]
      },
      {
       "javascript": [
        "$('div#6594c19e-2f60-4ed8-b616-929179320c69').width('95.63%')"
       ],
       "metadata": {},
       "output_type": "display_data",
       "text": [
        "<IPython.core.display.Javascript at 0x7f3219f7d1d0>"
       ]
      },
      {
       "output_type": "stream",
       "stream": "stdout",
       "text": [
        "Optimization terminated successfully.\n",
        "         Current function value: 0.002612\n",
        "         Iterations: 10\n",
        "         Function evaluations: 23\n"
       ]
      },
      {
       "javascript": [
        "$('div#6594c19e-2f60-4ed8-b616-929179320c69').width('95.90%')"
       ],
       "metadata": {},
       "output_type": "display_data",
       "text": [
        "<IPython.core.display.Javascript at 0x7f3219f46c90>"
       ]
      },
      {
       "output_type": "stream",
       "stream": "stdout",
       "text": [
        "Optimization terminated successfully.\n",
        "         Current function value: 0.005841\n",
        "         Iterations: 9\n",
        "         Function evaluations: 20\n"
       ]
      },
      {
       "javascript": [
        "$('div#6594c19e-2f60-4ed8-b616-929179320c69').width('96.17%')"
       ],
       "metadata": {},
       "output_type": "display_data",
       "text": [
        "<IPython.core.display.Javascript at 0x7f3219f1c090>"
       ]
      },
      {
       "output_type": "stream",
       "stream": "stdout",
       "text": [
        "Optimization terminated successfully.\n",
        "         Current function value: 0.024530\n",
        "         Iterations: 10\n",
        "         Function evaluations: 23\n"
       ]
      },
      {
       "javascript": [
        "$('div#6594c19e-2f60-4ed8-b616-929179320c69').width('96.45%')"
       ],
       "metadata": {},
       "output_type": "display_data",
       "text": [
        "<IPython.core.display.Javascript at 0x7f321a0462d0>"
       ]
      },
      {
       "output_type": "stream",
       "stream": "stdout",
       "text": [
        "Optimization terminated successfully.\n",
        "         Current function value: 0.027853\n",
        "         Iterations: 17\n",
        "         Function evaluations: 42\n"
       ]
      },
      {
       "javascript": [
        "$('div#6594c19e-2f60-4ed8-b616-929179320c69').width('96.72%')"
       ],
       "metadata": {},
       "output_type": "display_data",
       "text": [
        "<IPython.core.display.Javascript at 0x7f321a08c750>"
       ]
      },
      {
       "output_type": "stream",
       "stream": "stdout",
       "text": [
        "----------------------------------------------------------------------------------------------------\n"
       ]
      },
      {
       "javascript": [
        "$('div#6594c19e-2f60-4ed8-b616-929179320c69').width('96.72%')"
       ],
       "metadata": {},
       "output_type": "display_data",
       "text": [
        "<IPython.core.display.Javascript at 0x7f321a0b7310>"
       ]
      },
      {
       "output_type": "stream",
       "stream": "stdout",
       "text": [
        "Optimization terminated successfully.\n",
        "         Current function value: 0.000001\n",
        "         Iterations: 12\n",
        "         Function evaluations: 27\n"
       ]
      },
      {
       "javascript": [
        "$('div#6594c19e-2f60-4ed8-b616-929179320c69').width('96.99%')"
       ],
       "metadata": {},
       "output_type": "display_data",
       "text": [
        "<IPython.core.display.Javascript at 0x7f321a0a12d0>"
       ]
      },
      {
       "output_type": "stream",
       "stream": "stdout",
       "text": [
        "Optimization terminated successfully.\n",
        "         Current function value: 0.000192\n",
        "         Iterations: 11\n",
        "         Function evaluations: 24\n"
       ]
      },
      {
       "javascript": [
        "$('div#6594c19e-2f60-4ed8-b616-929179320c69').width('97.27%')"
       ],
       "metadata": {},
       "output_type": "display_data",
       "text": [
        "<IPython.core.display.Javascript at 0x7f321a0410d0>"
       ]
      },
      {
       "output_type": "stream",
       "stream": "stdout",
       "text": [
        "Optimization terminated successfully.\n",
        "         Current function value: 0.032640\n",
        "         Iterations: 9\n",
        "         Function evaluations: 22\n"
       ]
      },
      {
       "javascript": [
        "$('div#6594c19e-2f60-4ed8-b616-929179320c69').width('97.54%')"
       ],
       "metadata": {},
       "output_type": "display_data",
       "text": [
        "<IPython.core.display.Javascript at 0x7f3219fe82d0>"
       ]
      },
      {
       "output_type": "stream",
       "stream": "stdout",
       "text": [
        "Optimization terminated successfully.\n",
        "         Current function value: 0.061026\n",
        "         Iterations: 8\n",
        "         Function evaluations: 19\n"
       ]
      },
      {
       "javascript": [
        "$('div#6594c19e-2f60-4ed8-b616-929179320c69').width('97.81%')"
       ],
       "metadata": {},
       "output_type": "display_data",
       "text": [
        "<IPython.core.display.Javascript at 0x7f321a046290>"
       ]
      },
      {
       "output_type": "stream",
       "stream": "stdout",
       "text": [
        "Optimization terminated successfully.\n",
        "         Current function value: 0.032016\n",
        "         Iterations: 10\n",
        "         Function evaluations: 23\n"
       ]
      },
      {
       "javascript": [
        "$('div#6594c19e-2f60-4ed8-b616-929179320c69').width('98.09%')"
       ],
       "metadata": {},
       "output_type": "display_data",
       "text": [
        "<IPython.core.display.Javascript at 0x7f321a08cf90>"
       ]
      },
      {
       "output_type": "stream",
       "stream": "stdout",
       "text": [
        "Optimization terminated successfully.\n",
        "         Current function value: 0.007583\n",
        "         Iterations: 8\n",
        "         Function evaluations: 18\n"
       ]
      },
      {
       "javascript": [
        "$('div#6594c19e-2f60-4ed8-b616-929179320c69').width('98.36%')"
       ],
       "metadata": {},
       "output_type": "display_data",
       "text": [
        "<IPython.core.display.Javascript at 0x7f321a0b7f50>"
       ]
      },
      {
       "output_type": "stream",
       "stream": "stdout",
       "text": [
        "----------------------------------------------------------------------------------------------------\n"
       ]
      },
      {
       "javascript": [
        "$('div#6594c19e-2f60-4ed8-b616-929179320c69').width('98.36%')"
       ],
       "metadata": {},
       "output_type": "display_data",
       "text": [
        "<IPython.core.display.Javascript at 0x7f3219f65dd0>"
       ]
      },
      {
       "output_type": "stream",
       "stream": "stdout",
       "text": [
        "Optimization terminated successfully.\n",
        "         Current function value: 0.000000\n",
        "         Iterations: 12\n",
        "         Function evaluations: 28\n"
       ]
      },
      {
       "javascript": [
        "$('div#6594c19e-2f60-4ed8-b616-929179320c69').width('98.63%')"
       ],
       "metadata": {},
       "output_type": "display_data",
       "text": [
        "<IPython.core.display.Javascript at 0x7f3219f14850>"
       ]
      },
      {
       "output_type": "stream",
       "stream": "stdout",
       "text": [
        "Optimization terminated successfully.\n",
        "         Current function value: 0.000222\n",
        "         Iterations: 12\n",
        "         Function evaluations: 28\n"
       ]
      },
      {
       "javascript": [
        "$('div#6594c19e-2f60-4ed8-b616-929179320c69').width('98.91%')"
       ],
       "metadata": {},
       "output_type": "display_data",
       "text": [
        "<IPython.core.display.Javascript at 0x7f321a00b450>"
       ]
      },
      {
       "output_type": "stream",
       "stream": "stdout",
       "text": [
        "Optimization terminated successfully.\n",
        "         Current function value: 0.010946\n",
        "         Iterations: 11\n",
        "         Function evaluations: 26\n"
       ]
      },
      {
       "javascript": [
        "$('div#6594c19e-2f60-4ed8-b616-929179320c69').width('99.18%')"
       ],
       "metadata": {},
       "output_type": "display_data",
       "text": [
        "<IPython.core.display.Javascript at 0x7f3219fde190>"
       ]
      },
      {
       "output_type": "stream",
       "stream": "stdout",
       "text": [
        "Optimization terminated successfully.\n",
        "         Current function value: 0.009090\n",
        "         Iterations: 13\n",
        "         Function evaluations: 31\n"
       ]
      },
      {
       "javascript": [
        "$('div#6594c19e-2f60-4ed8-b616-929179320c69').width('99.45%')"
       ],
       "metadata": {},
       "output_type": "display_data",
       "text": [
        "<IPython.core.display.Javascript at 0x7f321a08c150>"
       ]
      },
      {
       "output_type": "stream",
       "stream": "stdout",
       "text": [
        "Optimization terminated successfully.\n",
        "         Current function value: 0.004176\n",
        "         Iterations: 12\n",
        "         Function evaluations: 29\n"
       ]
      },
      {
       "javascript": [
        "$('div#6594c19e-2f60-4ed8-b616-929179320c69').width('99.73%')"
       ],
       "metadata": {},
       "output_type": "display_data",
       "text": [
        "<IPython.core.display.Javascript at 0x7f321a0208d0>"
       ]
      },
      {
       "output_type": "stream",
       "stream": "stdout",
       "text": [
        "Optimization terminated successfully.\n",
        "         Current function value: 0.002598\n",
        "         Iterations: 9\n",
        "         Function evaluations: 23\n"
       ]
      },
      {
       "javascript": [
        "$('div#6594c19e-2f60-4ed8-b616-929179320c69').width('100.00%')"
       ],
       "metadata": {},
       "output_type": "display_data",
       "text": [
        "<IPython.core.display.Javascript at 0x7f321a097ed0>"
       ]
      },
      {
       "output_type": "stream",
       "stream": "stdout",
       "text": [
        "----------------------------------------------------------------------------------------------------\n"
       ]
      }
     ],
     "prompt_number": 7
    },
    {
     "cell_type": "heading",
     "level": 1,
     "metadata": {},
     "source": [
      "Read-in and concatenate all sx fit summaries"
     ]
    },
    {
     "cell_type": "code",
     "collapsed": false,
     "input": [
      "\n",
      "os.chdir(utils.find_path()+\"OptAccRT/ProAllSx_AllData\")\n",
      "prodf=pd.read_csv(pth+\"DataFiles/Pro_AllData.csv\", index_col=0)\n",
      "\n",
      "sxl=list()\n",
      "for sx in prodf.subj_idx.unique():\n",
      "    try:\n",
      "        sxl.append(pd.read_csv(\"ProFits_Sx\"+str(sx)+\".csv\", index_col=0))\n",
      "    except:\n",
      "        pass\n",
      "df=pd.concat(sxl)\n",
      "df.to_csv(\"ProAllSx_AllData_BestFits.csv\")"
     ],
     "language": "python",
     "metadata": {},
     "outputs": [],
     "prompt_number": 4
    },
    {
     "cell_type": "heading",
     "level": 1,
     "metadata": {},
     "source": [
      "Get Empirical and Predicted Measures (PStop, RT)"
     ]
    },
    {
     "cell_type": "code",
     "collapsed": false,
     "input": [
      "\n",
      "os.chdir(utils.find_path()+\"OptAccRT/ProAllSx_AllData\")\n",
      "prodf=pd.read_csv(pth+\"DataFiles/Pro_AllData.csv\", index_col=0)\n",
      "df=pd.read_csv(\"ProAllSx_AllData_BestFits.csv\")\n",
      "\n",
      "\n",
      "pstop_data=utils.makePivot(df, cols='pGo', index='subj_idx', values='pstop_data')\n",
      "pstop_radd=utils.makePivot(df, cols='pGo', index='subj_idx', values='pstop_radd')\n",
      "\n",
      "yd=pstop_data.mean()\n",
      "yh=pstop_radd.mean()\n",
      "yderr=pstop_data.sem()\n",
      "yherr=pstop_radd.sem()\n",
      "\n",
      "\n",
      "rtdf=df[df['pGo']>0.0]\n",
      "rt_data=utils.makePivot(df, cols='pGo', index='subj_idx', values='rt_data')\n",
      "rt_radd=utils.makePivot(df, cols='pGo', index='subj_idx', values='rt_radd')\n",
      "\n",
      "rtd=rt_data.mean()/10\n",
      "rth=rt_radd.mean()/10\n",
      "rtderr=rt_data.sem()/10\n",
      "rtherr=rt_radd.sem()/10"
     ],
     "language": "python",
     "metadata": {},
     "outputs": [],
     "prompt_number": 199
    },
    {
     "cell_type": "heading",
     "level": 1,
     "metadata": {},
     "source": [
      "Get Chi2 Pivot Table"
     ]
    },
    {
     "cell_type": "code",
     "collapsed": false,
     "input": [
      "sxchi=utils.makePivot(df, cols='pGo', index='subj_idx', values='chi')\n",
      "sxchi.columns=[str(int(c*100)) for c in sxchi.columns]"
     ],
     "language": "python",
     "metadata": {},
     "outputs": [],
     "prompt_number": 201
    },
    {
     "cell_type": "heading",
     "level": 1,
     "metadata": {},
     "source": [
      "Plot Chi2 Distribution For Each PGo"
     ]
    },
    {
     "cell_type": "code",
     "collapsed": false,
     "input": [
      "f,ax=plt.subplots(2,3, figsize=(10, 5))\n",
      "f.subplots_adjust(wspace=.1, hspace=.1)\n",
      "semlist=[]\n",
      "\n",
      "for i, pg in enumerate(sxchi.columns):\n",
      "    \n",
      "    ax=f.axes[i]\n",
      "    \n",
      "    ax.hist(sxchi.loc[:,pg].values, bins=40)\n",
      "    \n",
      "    if ax.is_first_col:\n",
      "        \n",
      "        props=plt.setp(ax, ylabel='count')\n",
      "    \n",
      "    lo=sxchi[pg].min(); hi=sxchi[pg].max()\n",
      "    plt.setp(ax, xticks=np.array([lo, hi]), \n",
      "             xticklabels=np.array([str(lo)[:8],str(hi)[:4]]), \n",
      "             xlim=(lo, hi), xlabel='Chi2', title=\"pGo=\"+pg)\n",
      "    \n",
      "    semlist.append(sxchi.loc[:,pg].sem())\n",
      "    \n",
      "    ax.set_title(\"pGo=\"+pg)\n",
      "    \n",
      "    sns.despine()\n",
      "    plt.tight_layout()\n",
      "plt.savefig(\"PGo_Chi2_Dists.png\", dpi=600)"
     ],
     "language": "python",
     "metadata": {},
     "outputs": [
      {
       "metadata": {},
       "output_type": "display_data",
       "png": "[encoded data removed]",
       "text": [
        "<matplotlib.figure.Figure at 0x7f31f207c250>"
       ]
      }
     ],
     "prompt_number": 198
    },
    {
     "cell_type": "code",
     "collapsed": false,
     "input": [
      "sxchidist=df.groupby('subj_idx').chi.mean().hist(bins=40)\n",
      "sns.despine()\n",
      "props=plt.setp(plt.gca(), ylabel='count', xlabel='Chi2', title='Distribution of Subject X2')\n",
      "plt.savefig(\"AllSxChi2Distribution.png\", dpi=600)\n",
      "#ydata=utils.makePivot(df, cols='pGo', index='subj_idx', values='pstop_data')"
     ],
     "language": "python",
     "metadata": {},
     "outputs": [
      {
       "metadata": {},
       "output_type": "display_data",
       "png": "[encoded data removed]",
       "text": [
        "<matplotlib.figure.Figure at 0x7f31e5c71810>"
       ]
      }
     ],
     "prompt_number": 184
    },
    {
     "cell_type": "heading",
     "level": 1,
     "metadata": {},
     "source": [
      "Insert PGo Drift-Rates into ParamDF and save in ProAllSx_AllData"
     ]
    },
    {
     "cell_type": "code",
     "collapsed": false,
     "input": [
      "#vpivot=utils.makePivot(df, cols='pGo', index='subj_idx', values='v')\n",
      "\n",
      "#vpivot=vpivot.rename(columns={0.0:'v0',0.2:'v20',0.4:'v40',0.6:'v60',0.8:'v80',1.0:'v100'})\n",
      "\n",
      "#proparams=pd.concat([paramdf,vpivot], axis=1)\n",
      "\n",
      "#proparams.to_csv(\"ProAllSx_OptParams.csv\")"
     ],
     "language": "python",
     "metadata": {},
     "outputs": [],
     "prompt_number": 121
    },
    {
     "cell_type": "code",
     "collapsed": false,
     "input": [
      "sxchi=utils.makePivot(df, cols='pGo', index='subj_idx', values='chi')\n",
      "rtd"
     ],
     "language": "python",
     "metadata": {},
     "outputs": [
      {
       "ename": "NameError",
       "evalue": "name 'df' is not defined",
       "output_type": "pyerr",
       "traceback": [
        "\u001b[1;31m---------------------------------------------------------------------------\u001b[0m\n\u001b[1;31mNameError\u001b[0m                                 Traceback (most recent call last)",
        "\u001b[1;32m<ipython-input-3-a76b828a2c2d>\u001b[0m in \u001b[0;36m<module>\u001b[1;34m()\u001b[0m\n\u001b[1;32m----> 1\u001b[1;33m \u001b[0msxchi\u001b[0m\u001b[1;33m=\u001b[0m\u001b[0mutils\u001b[0m\u001b[1;33m.\u001b[0m\u001b[0mmakePivot\u001b[0m\u001b[1;33m(\u001b[0m\u001b[0mdf\u001b[0m\u001b[1;33m,\u001b[0m \u001b[0mcols\u001b[0m\u001b[1;33m=\u001b[0m\u001b[1;34m'pGo'\u001b[0m\u001b[1;33m,\u001b[0m \u001b[0mindex\u001b[0m\u001b[1;33m=\u001b[0m\u001b[1;34m'subj_idx'\u001b[0m\u001b[1;33m,\u001b[0m \u001b[0mvalues\u001b[0m\u001b[1;33m=\u001b[0m\u001b[1;34m'chi'\u001b[0m\u001b[1;33m)\u001b[0m\u001b[1;33m\u001b[0m\u001b[0m\n\u001b[0m\u001b[0;32m      2\u001b[0m \u001b[0mrtd\u001b[0m\u001b[1;33m\u001b[0m\u001b[0m\n",
        "\u001b[1;31mNameError\u001b[0m: name 'df' is not defined"
       ]
      }
     ],
     "prompt_number": 3
    },
    {
     "cell_type": "code",
     "collapsed": false,
     "input": [
      "psy=reload(psy)\n",
      "os.chdir(pth+\"OptAccRT/ProAllSx_AllData\")\n",
      "stopmeans=[yd.values, yh.values]\n",
      "stoperr=[yderr.values, yherr.values]\n",
      "\n",
      "ax=psy.scurves(ysim=stopmeans, yerr=stoperr, title='ProAllSx_StopFits.png', \n",
      "               colors=[colors[-8], colors[-1]], labels=['Data', 'RADD'], task='ssPro')"
     ],
     "language": "python",
     "metadata": {},
     "outputs": [
      {
       "ename": "NameError",
       "evalue": "name 'yd' is not defined",
       "output_type": "pyerr",
       "traceback": [
        "\u001b[1;31m---------------------------------------------------------------------------\u001b[0m\n\u001b[1;31mNameError\u001b[0m                                 Traceback (most recent call last)",
        "\u001b[1;32m<ipython-input-9-fdb6b7a9c643>\u001b[0m in \u001b[0;36m<module>\u001b[1;34m()\u001b[0m\n\u001b[0;32m      1\u001b[0m \u001b[0mpsy\u001b[0m\u001b[1;33m=\u001b[0m\u001b[0mreload\u001b[0m\u001b[1;33m(\u001b[0m\u001b[0mpsy\u001b[0m\u001b[1;33m)\u001b[0m\u001b[1;33m\u001b[0m\u001b[0m\n\u001b[0;32m      2\u001b[0m \u001b[0mos\u001b[0m\u001b[1;33m.\u001b[0m\u001b[0mchdir\u001b[0m\u001b[1;33m(\u001b[0m\u001b[0mpth\u001b[0m\u001b[1;33m+\u001b[0m\u001b[1;34m\"OptAccRT/ProAllSx_AllData\"\u001b[0m\u001b[1;33m)\u001b[0m\u001b[1;33m\u001b[0m\u001b[0m\n\u001b[1;32m----> 3\u001b[1;33m \u001b[0mstopmeans\u001b[0m\u001b[1;33m=\u001b[0m\u001b[1;33m[\u001b[0m\u001b[0myd\u001b[0m\u001b[1;33m.\u001b[0m\u001b[0mvalues\u001b[0m\u001b[1;33m,\u001b[0m \u001b[0myh\u001b[0m\u001b[1;33m.\u001b[0m\u001b[0mvalues\u001b[0m\u001b[1;33m]\u001b[0m\u001b[1;33m\u001b[0m\u001b[0m\n\u001b[0m\u001b[0;32m      4\u001b[0m \u001b[0mstoperr\u001b[0m\u001b[1;33m=\u001b[0m\u001b[1;33m[\u001b[0m\u001b[0myderr\u001b[0m\u001b[1;33m.\u001b[0m\u001b[0mvalues\u001b[0m\u001b[1;33m,\u001b[0m \u001b[0myherr\u001b[0m\u001b[1;33m.\u001b[0m\u001b[0mvalues\u001b[0m\u001b[1;33m]\u001b[0m\u001b[1;33m\u001b[0m\u001b[0m\n\u001b[0;32m      5\u001b[0m \u001b[1;33m\u001b[0m\u001b[0m\n",
        "\u001b[1;31mNameError\u001b[0m: name 'yd' is not defined"
       ]
      }
     ],
     "prompt_number": 9
    },
    {
     "cell_type": "code",
     "collapsed": false,
     "input": [
      "psy=reload(psy)\n",
      "\n",
      "os.chdir(pth+\"OptAccRT/ProAllSx_AllData\")\n",
      "simdf=pd.read_csv(\"ProAllSx_AllData_BestFits.csv\")\n",
      "sxchi=utils.makePivot(simdf, cols='pGo', index='subj_idx', values='chi')\n",
      "prodf=pd.read_csv(pth+\"DataFiles/Pro_AllData.csv\", index_col=0)\n",
      "\n",
      "rtdf=simdf[simdf['pGo']>0.0]\n",
      "rt_data=utils.makePivot(rtdf, cols='pGo', index='subj_idx', values='rt_data')\n",
      "rt_radd=utils.makePivot(rtdf, cols='pGo', index='subj_idx', values='rt_radd')\n",
      "sxchi=utils.makePivot(rtdf, cols='pGo', index='subj_idx', values='chi')\n",
      "\n",
      "\n",
      "cut=sxchi.mean()+sxchi.sem()*1.96\n",
      "\n",
      "sxlist=rt_data.where(sxchi<cut)\n",
      "print sxlist.count(numeric_only=True)\n",
      "dmean=rt_data.where(sxchi<cut).mean()\n",
      "rmean=rt_radd.where(sxchi<cut).mean()\n",
      "rsem=rt_radd.where(sxchi<cut).sem()*1.96\n",
      "dsem=rt_data.where(sxchi<cut).sem()*1.96\n",
      "\n",
      "sns.set_style(rc=sparams['style'])\n",
      "sns.set_context(rc=sparams['context'])\n",
      "\n",
      "x=np.arange(.2,1.2,.2)\n",
      "ax=plt.errorbar(x, dmean.values, yerr=dsem.values, color='#444444', marker='o', label='data')\n",
      "ax=plt.errorbar(x, rmean.values, yerr=rsem.values, color='blue', marker='o', label='radd')\n",
      "props=plt.setp(plt.gca(), xlim=(.15,1.05), ylim=(5., 5.6), ylabel='RT (s)')\n",
      "\n",
      "\n",
      "\n",
      "#optdf.to_csv(\"ProAll_BestFits.csv\")\n",
      "sns.despine()"
     ],
     "language": "python",
     "metadata": {},
     "outputs": [
      {
       "output_type": "stream",
       "stream": "stdout",
       "text": [
        "pGo\n",
        "0.2    58\n",
        "0.4    44\n",
        "0.6    47\n",
        "0.8    47\n",
        "1.0    51\n",
        "dtype: int64\n"
       ]
      },
      {
       "metadata": {},
       "output_type": "display_data",
       "png": "[encoded data removed]",
       "text": [
        "<matplotlib.figure.Figure at 0x7fc86f117490>"
       ]
      }
     ],
     "prompt_number": 8
    },
    {
     "cell_type": "code",
     "collapsed": false,
     "input": [
      "#plot rt\n",
      "plt.close('all')\n",
      "f, ax=plt.subplots(1, figsize=(5, 3))\n",
      "\n",
      "ax.errorbar(rtd.keys(), rtd, yerr=rtderr, color=colors[-8], ecolor='k', label='Data')\n",
      "ax.errorbar(rtd.keys(), rth, yerr=rtherr, color=colors[-1], ecolor='k', label='RADD')\n",
      "plt.setp(ax, xlim=(.1, 1.1), ylim=(.5, .57), xticks=rtd.keys(), \n",
      "         xticklabels=rtd.keys(), xlabel='P(Go)')\n",
      "plt.setp(ax.get_yticklabels(), fontsize=17)\n",
      "ax.set_ylabel('RT (s)', fontsize=19, labelpad=8) \n",
      "ax.legend(loc=0, fontsize=17)\n",
      "plt.tight_layout()\n",
      "sns.despine()\n",
      "f.savefig(\"ProPGoRT_AllSx.png\", dpi=600)    \n",
      "\n",
      "\n",
      "\n",
      "\n",
      "ff, axx=plt.subplots(1, figsize=(4, 4))\n",
      "\n",
      "axx.bar(0, rtd.mean(), yerr=rtderr.mean(), color=colors[-8], error_kw={\"elinewidth\":3,\"ecolor\":'k'},\n",
      "        alpha=.9,align='center', label='Data')\n",
      "\n",
      "axx.errorbar(0, rth.mean(), yerr=rtherr.mean(), marker='o', markersize=10, \n",
      "             elinewidth=3, ecolor='k', color=colors[-1], alpha=1, label='RADD')   \n",
      "\n",
      "plt.setp(axx, xlim=(-.7, .7), ylim=(.5, .56), xticks=[], xticklabels=[], xlabel='ssRe BSL')\n",
      "axx.set_xlabel('Proactive BSL', fontsize=19)\n",
      "plt.setp(axx.get_yticklabels(), fontsize=17)\n",
      "axx.set_ylabel('RT (s)', fontsize=19, labelpad=8) \n",
      "axx.legend(loc=0, fontsize=17)\n",
      "sns.despine()\n",
      "plt.tight_layout()\n",
      "\n",
      "ff.savefig(\"ProAvgRT_AllSx.png\", dpi=600)    "
     ],
     "language": "python",
     "metadata": {},
     "outputs": [
      {
       "metadata": {},
       "output_type": "display_data",
       "png": "[encoded data removed]",
       "text": [
        "<matplotlib.figure.Figure at 0x7f321877aa50>"
       ]
      },
      {
       "metadata": {},
       "output_type": "display_data",
       "png": "[encoded data removed]",
       "text": [
        "<matplotlib.figure.Figure at 0x7f32189be610>"
       ]
      }
     ],
     "prompt_number": 192
    },
    {
     "cell_type": "code",
     "collapsed": false,
     "input": [
      "for sx in ydata.index.unique():\n",
      "    psy=reload(psy)\n",
      "    os.chdir(pth+\"OptAccRT/ProAllSx_AllData\")\n",
      "    stopmeans=[ydata.loc[sx, :].values, yhat.loc[sx, :].values]\n",
      "    \n",
      "    savestr=\"ProSx\"+str(sx)+\"StopFits\"\n",
      "    ax=psy.scurves(ysim=stopmeans, title=savestr, colors=[colors[-8], colors[-1]], \n",
      "                   labels=['Data', 'RADD'], task='ssPro')\n",
      "    \n",
      "    plt.close('all')"
     ],
     "language": "python",
     "metadata": {},
     "outputs": [],
     "prompt_number": 202
    },
    {
     "cell_type": "heading",
     "level": 1,
     "metadata": {},
     "source": [
      "All Data: Sx/Cond with <10 Go RTs Collected"
     ]
    },
    {
     "cell_type": "code",
     "collapsed": false,
     "input": [
      "countdf=pd.DataFrame(columns=pgo_list, index=prodf.subj_idx.unique())\n",
      "#pro550=pd.read_csv(pth+\"DataFiles/Pro_Data.csv\", index_col=0)\n",
      "# cutoff at .545\n",
      "pro545=utils.trunc_df(prodf)\n",
      "progo=pro545.query('response==\"go\"')\n",
      "\n",
      "gocount = prodf.groupby(['subj_idx', 'pGo', 'choice']).size()\n",
      "\n",
      "gos=gocount.reset_index(name='n').query(\"choice=='go'\")\n",
      "\n",
      "# Sx/PGo where n go trials < 10\n",
      "gos[(gos['n']<10)&(gos['pGo']>0.)]"
     ],
     "language": "python",
     "metadata": {},
     "outputs": [
      {
       "html": [
        "<div style=\"max-height:1000px;max-width:1500px;overflow:auto;\">\n",
        "<table border=\"1\" class=\"dataframe\">\n",
        "  <thead>\n",
        "    <tr style=\"text-align: right;\">\n",
        "      <th></th>\n",
        "      <th>subj_idx</th>\n",
        "      <th>pGo</th>\n",
        "      <th>choice</th>\n",
        "      <th>n</th>\n",
        "    </tr>\n",
        "  </thead>\n",
        "  <tbody>\n",
        "    <tr>\n",
        "      <th>330</th>\n",
        "      <td> 61</td>\n",
        "      <td> 0.2</td>\n",
        "      <td> go</td>\n",
        "      <td> 4</td>\n",
        "    </tr>\n",
        "    <tr>\n",
        "      <th>375</th>\n",
        "      <td> 66</td>\n",
        "      <td> 0.2</td>\n",
        "      <td> go</td>\n",
        "      <td> 1</td>\n",
        "    </tr>\n",
        "    <tr>\n",
        "      <th>385</th>\n",
        "      <td> 67</td>\n",
        "      <td> 0.2</td>\n",
        "      <td> go</td>\n",
        "      <td> 9</td>\n",
        "    </tr>\n",
        "    <tr>\n",
        "      <th>407</th>\n",
        "      <td> 69</td>\n",
        "      <td> 0.2</td>\n",
        "      <td> go</td>\n",
        "      <td> 8</td>\n",
        "    </tr>\n",
        "    <tr>\n",
        "      <th>485</th>\n",
        "      <td> 76</td>\n",
        "      <td> 0.2</td>\n",
        "      <td> go</td>\n",
        "      <td> 3</td>\n",
        "    </tr>\n",
        "    <tr>\n",
        "      <th>495</th>\n",
        "      <td> 77</td>\n",
        "      <td> 0.2</td>\n",
        "      <td> go</td>\n",
        "      <td> 5</td>\n",
        "    </tr>\n",
        "  </tbody>\n",
        "</table>\n",
        "</div>"
       ],
       "metadata": {},
       "output_type": "pyout",
       "prompt_number": 134,
       "text": [
        "     subj_idx  pGo choice  n\n",
        "330        61  0.2     go  4\n",
        "375        66  0.2     go  1\n",
        "385        67  0.2     go  9\n",
        "407        69  0.2     go  8\n",
        "485        76  0.2     go  3\n",
        "495        77  0.2     go  5"
       ]
      }
     ],
     "prompt_number": 134
    },
    {
     "cell_type": "code",
     "collapsed": false,
     "input": [
      "prodf.groupby('pGo').size()/len(prodf.subj_idx.unique())"
     ],
     "language": "python",
     "metadata": {},
     "outputs": [
      {
       "metadata": {},
       "output_type": "pyout",
       "prompt_number": 205,
       "text": [
        "pGo\n",
        "0.0     80\n",
        "0.2     80\n",
        "0.4     80\n",
        "0.6     80\n",
        "0.8     80\n",
        "1.0    114\n",
        "dtype: float64"
       ]
      }
     ],
     "prompt_number": 205
    },
    {
     "cell_type": "code",
     "collapsed": false,
     "input": [
      "\n",
      "pro545.groupby(['subj_idx', 'pGo']).count().T.mean()"
     ],
     "language": "python",
     "metadata": {},
     "outputs": [
      {
       "metadata": {},
       "output_type": "pyout",
       "prompt_number": 93,
       "text": [
        "subj_idx  pGo\n",
        "28        0.0    80\n",
        "          0.2    59\n",
        "          0.4    47\n",
        "          0.6    35\n",
        "          0.8    55\n",
        "          1.0    97\n",
        "29        0.0    80\n",
        "          0.2    69\n",
        "          0.4    52\n",
        "          0.6    41\n",
        "          0.8    63\n",
        "          1.0    96\n",
        "30        0.0    80\n",
        "          0.2    70\n",
        "          0.4    51\n",
        "...\n",
        "90        0.6    32\n",
        "          0.8     9\n",
        "          1.0    24\n",
        "95        0.0    77\n",
        "          0.2    58\n",
        "          0.4    29\n",
        "          0.6    18\n",
        "          0.8    32\n",
        "          1.0    81\n",
        "97        0.0    79\n",
        "          0.2    58\n",
        "          0.4    31\n",
        "          0.6    31\n",
        "          0.8    48\n",
        "          1.0    80\n",
        "Length: 366, dtype: float64"
       ]
      }
     ],
     "prompt_number": 93
    },
    {
     "cell_type": "code",
     "collapsed": false,
     "input": [
      "ProV=df['v']\n",
      "\n",
      "fitpro=reload(fitpro)\n",
      "pb=utils.PBinJ(len(prodf.subj_idx.unique())*len(pgo_list), color=\"#009B76\"); sx_n=0\n",
      "os.chdir(utils.find_path()+\"OptAccRT/ProAllSx_AllData\")\n",
      "paramdf=pd.read_csv(pth+\"ParamFiles/ProBSL_HDDM_Params.csv\", index_col='subj_idx')\n",
      "pgo_list=[0.0, 0.2, 0.4, 0.6, 0.8, 1.0]\n",
      "\n",
      "\n",
      "for sx in prodf.subj_idx.unique():\n",
      "    \n",
      "    sx_rt=np.array(allgorts_scaled.loc[sx,:].values)\n",
      "    sx_pstop=np.array(prodf_stops.loc[sx,:].values)\n",
      "for sx in ProV.index.unique():\n",
      "    \n",
      "    try:\n",
      "        sxinits=paramdf.loc[sx,:].to_dict()\n",
      "    \n",
      "    except Exception:\n",
      "    \n",
      "        sxinits=paramdf.mean().to_dict()\n",
      "\n"
     ],
     "language": "python",
     "metadata": {},
     "outputs": [
      {
       "html": [
        "<div style=\"max-height:1000px;max-width:1500px;overflow:auto;\">\n",
        "<table border=\"1\" class=\"dataframe\">\n",
        "  <thead>\n",
        "    <tr style=\"text-align: right;\">\n",
        "      <th></th>\n",
        "      <th>subj_idx</th>\n",
        "      <th>pGo</th>\n",
        "      <th>v</th>\n",
        "      <th>pstop_data</th>\n",
        "      <th>pstop_radd</th>\n",
        "      <th>rt_data</th>\n",
        "      <th>rt_radd</th>\n",
        "      <th>chi</th>\n",
        "    </tr>\n",
        "  </thead>\n",
        "  <tbody>\n",
        "    <tr>\n",
        "      <th>0.0</th>\n",
        "      <td> 28</td>\n",
        "      <td> 0.0</td>\n",
        "      <td> 1.078441</td>\n",
        "      <td> 0.9875</td>\n",
        "      <td> 0.9880</td>\n",
        "      <td> 4.783501</td>\n",
        "      <td> 4.783511</td>\n",
        "      <td> 0.000000</td>\n",
        "    </tr>\n",
        "    <tr>\n",
        "      <th>0.2</th>\n",
        "      <td> 28</td>\n",
        "      <td> 0.2</td>\n",
        "      <td> 1.375344</td>\n",
        "      <td> 0.7250</td>\n",
        "      <td> 0.7052</td>\n",
        "      <td> 5.454071</td>\n",
        "      <td> 5.381282</td>\n",
        "      <td> 0.005690</td>\n",
        "    </tr>\n",
        "    <tr>\n",
        "      <th>0.4</th>\n",
        "      <td> 28</td>\n",
        "      <td> 0.4</td>\n",
        "      <td> 1.419175</td>\n",
        "      <td> 0.5625</td>\n",
        "      <td> 0.5868</td>\n",
        "      <td> 5.436067</td>\n",
        "      <td> 5.355613</td>\n",
        "      <td> 0.007063</td>\n",
        "    </tr>\n",
        "    <tr>\n",
        "      <th>0.6</th>\n",
        "      <td> 28</td>\n",
        "      <td> 0.6</td>\n",
        "      <td> 1.541635</td>\n",
        "      <td> 0.2875</td>\n",
        "      <td> 0.3288</td>\n",
        "      <td> 5.425931</td>\n",
        "      <td> 5.279923</td>\n",
        "      <td> 0.023024</td>\n",
        "    </tr>\n",
        "    <tr>\n",
        "      <th>0.8</th>\n",
        "      <td> 28</td>\n",
        "      <td> 0.8</td>\n",
        "      <td> 1.689735</td>\n",
        "      <td> 0.0125</td>\n",
        "      <td> 0.0924</td>\n",
        "      <td> 5.191758</td>\n",
        "      <td> 5.142603</td>\n",
        "      <td> 0.008800</td>\n",
        "    </tr>\n",
        "  </tbody>\n",
        "</table>\n",
        "</div>"
       ],
       "metadata": {},
       "output_type": "pyout",
       "prompt_number": 101,
       "text": [
        "     subj_idx  pGo         v  pstop_data  pstop_radd   rt_data   rt_radd  \\\n",
        "0.0        28  0.0  1.078441      0.9875      0.9880  4.783501  4.783511   \n",
        "0.2        28  0.2  1.375344      0.7250      0.7052  5.454071  5.381282   \n",
        "0.4        28  0.4  1.419175      0.5625      0.5868  5.436067  5.355613   \n",
        "0.6        28  0.6  1.541635      0.2875      0.3288  5.425931  5.279923   \n",
        "0.8        28  0.8  1.689735      0.0125      0.0924  5.191758  5.142603   \n",
        "\n",
        "          chi  \n",
        "0.0  0.000000  \n",
        "0.2  0.005690  \n",
        "0.4  0.007063  \n",
        "0.6  0.023024  \n",
        "0.8  0.008800  "
       ]
      }
     ],
     "prompt_number": 101
    },
    {
     "cell_type": "code",
     "collapsed": false,
     "input": [
      "sxinits"
     ],
     "language": "python",
     "metadata": {},
     "outputs": [
      {
       "metadata": {},
       "output_type": "pyout",
       "prompt_number": 133,
       "text": [
        "{'a': 0.44268164546469407,\n",
        " 'pGo': 1.0,\n",
        " 'ssd': 0.45,\n",
        " 'ssv': -0.65000000000000002,\n",
        " 'sv': 0.18319772887113439,\n",
        " 't': 0.34242258155745164,\n",
        " 'v': 1.6613661589545243,\n",
        " 'v(Hi)': 1.5889193477085095,\n",
        " 'v(Lo)': 1.4439533453976667,\n",
        " 'z': 0.14979091955306645}"
       ]
      }
     ],
     "prompt_number": 133
    },
    {
     "cell_type": "code",
     "collapsed": false,
     "input": [],
     "language": "python",
     "metadata": {},
     "outputs": []
    }
   ],
   "metadata": {}
  }
 ]
}