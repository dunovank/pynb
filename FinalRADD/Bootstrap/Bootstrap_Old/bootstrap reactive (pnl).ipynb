{
 "metadata": {
  "name": "",
  "signature": "sha256:42369cd5822dde95eb792058b7cc965b7973df3b715cf3a91aed312093e30298"
 },
 "nbformat": 3,
 "nbformat_minor": 0,
 "worksheets": [
  {
   "cells": [
    {
     "cell_type": "code",
     "collapsed": false,
     "input": [
      "from __future__ import division\n",
      "import os\n",
      "import numpy as np\n",
      "import scipy.stats as stats\n",
      "import pandas as pd\n",
      "import matplotlib.pyplot as plt\n",
      "\n",
      "from radd import utils, fitre\n",
      "from lmfit import Minimizer, Parameters\n",
      "from collections import OrderedDict\n",
      "\n",
      "%matplotlib inline\n",
      "pth=utils.find_path()"
     ],
     "language": "python",
     "metadata": {},
     "outputs": [],
     "prompt_number": 1
    },
    {
     "cell_type": "heading",
     "level": 1,
     "metadata": {},
     "source": [
      "Read DFs"
     ]
    },
    {
     "cell_type": "code",
     "collapsed": false,
     "input": [
      "utils=reload(utils); \n",
      "\n",
      "#df to resample for pstop\n",
      "origdf=pd.read_csv(pth+\"DataFiles/RePNL_Data.csv\", index_col=0)\n",
      "\n",
      "#init params df\n",
      "paramdf=pd.read_csv(pth+\"ParamFiles/RePNL_HDDM_Params.csv\", index_col='subj_idx')\n",
      "\n",
      "#go to proactive bootstrap directory\n",
      "os.chdir(utils.find_path()+\"OptAccRT/reboot/\")"
     ],
     "language": "python",
     "metadata": {},
     "outputs": [],
     "prompt_number": 2
    },
    {
     "cell_type": "heading",
     "level": 1,
     "metadata": {},
     "source": [
      "Run main bootstrapping function here"
     ]
    },
    {
     "cell_type": "code",
     "collapsed": false,
     "input": [
      "fitre=reload(fitre); utils=reload(utils); fitre=reload(fitre)\n",
      "\n",
      "ypred=main_reboot(origdf, paramdf, niter=150, ntrials=2000)"
     ],
     "language": "python",
     "metadata": {},
     "outputs": [
      {
       "output_type": "stream",
       "stream": "stdout",
       "text": [
        "Optimization terminated successfully.\n",
        "         Current function value: 0.002150\n",
        "         Iterations: 16\n",
        "         Function evaluations: 40\n",
        "Optimization terminated successfully."
       ]
      },
      {
       "output_type": "stream",
       "stream": "stdout",
       "text": [
        "\n",
        "         Current function value: 0.003055\n",
        "         Iterations: 14\n",
        "         Function evaluations: 36\n",
        "Optimization terminated successfully."
       ]
      },
      {
       "output_type": "stream",
       "stream": "stdout",
       "text": [
        "\n",
        "         Current function value: 0.002690\n",
        "         Iterations: 16\n",
        "         Function evaluations: 40\n",
        "Optimization terminated successfully."
       ]
      },
      {
       "output_type": "stream",
       "stream": "stdout",
       "text": [
        "\n",
        "         Current function value: 0.002406\n",
        "         Iterations: 14\n",
        "         Function evaluations: 44\n",
        "Optimization terminated successfully."
       ]
      },
      {
       "output_type": "stream",
       "stream": "stdout",
       "text": [
        "\n",
        "         Current function value: 0.002300\n",
        "         Iterations: 11\n",
        "         Function evaluations: 35\n",
        "Optimization terminated successfully."
       ]
      },
      {
       "output_type": "stream",
       "stream": "stdout",
       "text": [
        "\n",
        "         Current function value: 0.002548\n",
        "         Iterations: 19\n",
        "         Function evaluations: 47\n",
        "Optimization terminated successfully."
       ]
      },
      {
       "output_type": "stream",
       "stream": "stdout",
       "text": [
        "\n",
        "         Current function value: 0.002959\n",
        "         Iterations: 13\n",
        "         Function evaluations: 38\n",
        "Optimization terminated successfully."
       ]
      },
      {
       "output_type": "stream",
       "stream": "stdout",
       "text": [
        "\n",
        "         Current function value: 0.001765\n",
        "         Iterations: 20\n",
        "         Function evaluations: 54\n",
        "Optimization terminated successfully."
       ]
      },
      {
       "output_type": "stream",
       "stream": "stdout",
       "text": [
        "\n",
        "         Current function value: 0.001712\n",
        "         Iterations: 17\n",
        "         Function evaluations: 47\n",
        "Optimization terminated successfully."
       ]
      },
      {
       "output_type": "stream",
       "stream": "stdout",
       "text": [
        "\n",
        "         Current function value: 0.002733\n",
        "         Iterations: 10\n",
        "         Function evaluations: 33\n",
        "Optimization terminated successfully."
       ]
      },
      {
       "output_type": "stream",
       "stream": "stdout",
       "text": [
        "\n",
        "         Current function value: 0.002441\n",
        "         Iterations: 10\n",
        "         Function evaluations: 31\n",
        "Optimization terminated successfully."
       ]
      },
      {
       "output_type": "stream",
       "stream": "stdout",
       "text": [
        "\n",
        "         Current function value: 0.001897\n",
        "         Iterations: 14\n",
        "         Function evaluations: 39\n",
        "Optimization terminated successfully."
       ]
      },
      {
       "output_type": "stream",
       "stream": "stdout",
       "text": [
        "\n",
        "         Current function value: 0.002506\n",
        "         Iterations: 12\n",
        "         Function evaluations: 39\n",
        "Optimization terminated successfully."
       ]
      },
      {
       "output_type": "stream",
       "stream": "stdout",
       "text": [
        "\n",
        "         Current function value: 0.003303\n",
        "         Iterations: 14\n",
        "         Function evaluations: 39\n",
        "Optimization terminated successfully."
       ]
      },
      {
       "output_type": "stream",
       "stream": "stdout",
       "text": [
        "\n",
        "         Current function value: 0.002874\n",
        "         Iterations: 9\n",
        "         Function evaluations: 29\n",
        "Optimization terminated successfully."
       ]
      },
      {
       "output_type": "stream",
       "stream": "stdout",
       "text": [
        "\n",
        "         Current function value: 0.002494\n",
        "         Iterations: 11\n",
        "         Function evaluations: 32\n",
        "Optimization terminated successfully."
       ]
      },
      {
       "output_type": "stream",
       "stream": "stdout",
       "text": [
        "\n",
        "         Current function value: 0.002484\n",
        "         Iterations: 15\n",
        "         Function evaluations: 40\n",
        "Optimization terminated successfully."
       ]
      },
      {
       "output_type": "stream",
       "stream": "stdout",
       "text": [
        "\n",
        "         Current function value: 0.002828\n",
        "         Iterations: 13\n",
        "         Function evaluations: 37\n",
        "Optimization terminated successfully."
       ]
      },
      {
       "output_type": "stream",
       "stream": "stdout",
       "text": [
        "\n",
        "         Current function value: 0.003271\n",
        "         Iterations: 6\n",
        "         Function evaluations: 26\n",
        "Optimization terminated successfully."
       ]
      },
      {
       "output_type": "stream",
       "stream": "stdout",
       "text": [
        "\n",
        "         Current function value: 0.002687\n",
        "         Iterations: 13\n",
        "         Function evaluations: 35\n",
        "Optimization terminated successfully."
       ]
      },
      {
       "output_type": "stream",
       "stream": "stdout",
       "text": [
        "\n",
        "         Current function value: 0.002980\n",
        "         Iterations: 9\n",
        "         Function evaluations: 30\n",
        "Optimization terminated successfully."
       ]
      },
      {
       "output_type": "stream",
       "stream": "stdout",
       "text": [
        "\n",
        "         Current function value: 0.002828\n",
        "         Iterations: 10\n",
        "         Function evaluations: 32\n",
        "Optimization terminated successfully."
       ]
      },
      {
       "output_type": "stream",
       "stream": "stdout",
       "text": [
        "\n",
        "         Current function value: 0.002744\n",
        "         Iterations: 22\n",
        "         Function evaluations: 51\n",
        "Optimization terminated successfully."
       ]
      },
      {
       "output_type": "stream",
       "stream": "stdout",
       "text": [
        "\n",
        "         Current function value: 0.001792\n",
        "         Iterations: 15\n",
        "         Function evaluations: 40\n",
        "Optimization terminated successfully."
       ]
      },
      {
       "output_type": "stream",
       "stream": "stdout",
       "text": [
        "\n",
        "         Current function value: 0.002406\n",
        "         Iterations: 19\n",
        "         Function evaluations: 43\n",
        "Optimization terminated successfully."
       ]
      },
      {
       "output_type": "stream",
       "stream": "stdout",
       "text": [
        "\n",
        "         Current function value: 0.002181\n",
        "         Iterations: 11\n",
        "         Function evaluations: 33\n",
        "Optimization terminated successfully."
       ]
      },
      {
       "output_type": "stream",
       "stream": "stdout",
       "text": [
        "\n",
        "         Current function value: 0.002907\n",
        "         Iterations: 15\n",
        "         Function evaluations: 47\n",
        "Optimization terminated successfully."
       ]
      },
      {
       "output_type": "stream",
       "stream": "stdout",
       "text": [
        "\n",
        "         Current function value: 0.002530\n",
        "         Iterations: 18\n",
        "         Function evaluations: 42\n",
        "Optimization terminated successfully."
       ]
      },
      {
       "output_type": "stream",
       "stream": "stdout",
       "text": [
        "\n",
        "         Current function value: 0.002382\n",
        "         Iterations: 14\n",
        "         Function evaluations: 38\n",
        "Optimization terminated successfully."
       ]
      },
      {
       "output_type": "stream",
       "stream": "stdout",
       "text": [
        "\n",
        "         Current function value: 0.001757\n",
        "         Iterations: 13\n",
        "         Function evaluations: 38\n",
        "Optimization terminated successfully."
       ]
      },
      {
       "output_type": "stream",
       "stream": "stdout",
       "text": [
        "\n",
        "         Current function value: 0.003108\n",
        "         Iterations: 8\n",
        "         Function evaluations: 30\n",
        "Optimization terminated successfully."
       ]
      },
      {
       "output_type": "stream",
       "stream": "stdout",
       "text": [
        "\n",
        "         Current function value: 0.002673\n",
        "         Iterations: 14\n",
        "         Function evaluations: 40\n",
        "Optimization terminated successfully."
       ]
      },
      {
       "output_type": "stream",
       "stream": "stdout",
       "text": [
        "\n",
        "         Current function value: 0.002739\n",
        "         Iterations: 15\n",
        "         Function evaluations: 39\n",
        "Optimization terminated successfully."
       ]
      },
      {
       "output_type": "stream",
       "stream": "stdout",
       "text": [
        "\n",
        "         Current function value: 0.002712\n",
        "         Iterations: 13\n",
        "         Function evaluations: 42\n",
        "Optimization terminated successfully."
       ]
      },
      {
       "output_type": "stream",
       "stream": "stdout",
       "text": [
        "\n",
        "         Current function value: 0.002546\n",
        "         Iterations: 13\n",
        "         Function evaluations: 39\n",
        "Optimization terminated successfully."
       ]
      },
      {
       "output_type": "stream",
       "stream": "stdout",
       "text": [
        "\n",
        "         Current function value: 0.002658\n",
        "         Iterations: 15\n",
        "         Function evaluations: 39\n",
        "Optimization terminated successfully."
       ]
      },
      {
       "output_type": "stream",
       "stream": "stdout",
       "text": [
        "\n",
        "         Current function value: 0.002639\n",
        "         Iterations: 13\n",
        "         Function evaluations: 41\n",
        "Optimization terminated successfully."
       ]
      },
      {
       "output_type": "stream",
       "stream": "stdout",
       "text": [
        "\n",
        "         Current function value: 0.002157\n",
        "         Iterations: 14\n",
        "         Function evaluations: 36\n",
        "Optimization terminated successfully."
       ]
      },
      {
       "output_type": "stream",
       "stream": "stdout",
       "text": [
        "\n",
        "         Current function value: 0.002687\n",
        "         Iterations: 15\n",
        "         Function evaluations: 45\n",
        "Optimization terminated successfully."
       ]
      },
      {
       "output_type": "stream",
       "stream": "stdout",
       "text": [
        "\n",
        "         Current function value: 0.002353\n",
        "         Iterations: 13\n",
        "         Function evaluations: 36\n",
        "Optimization terminated successfully."
       ]
      },
      {
       "output_type": "stream",
       "stream": "stdout",
       "text": [
        "\n",
        "         Current function value: 0.002389\n",
        "         Iterations: 18\n",
        "         Function evaluations: 48\n",
        "Optimization terminated successfully."
       ]
      },
      {
       "output_type": "stream",
       "stream": "stdout",
       "text": [
        "\n",
        "         Current function value: 0.002379\n",
        "         Iterations: 16\n",
        "         Function evaluations: 45\n",
        "Optimization terminated successfully."
       ]
      },
      {
       "output_type": "stream",
       "stream": "stdout",
       "text": [
        "\n",
        "         Current function value: 0.003302\n",
        "         Iterations: 8\n",
        "         Function evaluations: 30\n",
        "Optimization terminated successfully."
       ]
      },
      {
       "output_type": "stream",
       "stream": "stdout",
       "text": [
        "\n",
        "         Current function value: 0.003096\n",
        "         Iterations: 11\n",
        "         Function evaluations: 32\n",
        "Optimization terminated successfully."
       ]
      },
      {
       "output_type": "stream",
       "stream": "stdout",
       "text": [
        "\n",
        "         Current function value: 0.002373\n",
        "         Iterations: 16\n",
        "         Function evaluations: 41\n",
        "Optimization terminated successfully."
       ]
      },
      {
       "output_type": "stream",
       "stream": "stdout",
       "text": [
        "\n",
        "         Current function value: 0.003363\n",
        "         Iterations: 12\n",
        "         Function evaluations: 34\n",
        "Optimization terminated successfully."
       ]
      },
      {
       "output_type": "stream",
       "stream": "stdout",
       "text": [
        "\n",
        "         Current function value: 0.002574\n",
        "         Iterations: 14\n",
        "         Function evaluations: 44\n",
        "Optimization terminated successfully."
       ]
      },
      {
       "output_type": "stream",
       "stream": "stdout",
       "text": [
        "\n",
        "         Current function value: 0.002223\n",
        "         Iterations: 14\n",
        "         Function evaluations: 44\n",
        "Optimization terminated successfully."
       ]
      },
      {
       "output_type": "stream",
       "stream": "stdout",
       "text": [
        "\n",
        "         Current function value: 0.002027\n",
        "         Iterations: 15\n",
        "         Function evaluations: 39\n",
        "Optimization terminated successfully."
       ]
      },
      {
       "output_type": "stream",
       "stream": "stdout",
       "text": [
        "\n",
        "         Current function value: 0.002604\n",
        "         Iterations: 13\n",
        "         Function evaluations: 40\n",
        "Optimization terminated successfully."
       ]
      },
      {
       "output_type": "stream",
       "stream": "stdout",
       "text": [
        "\n",
        "         Current function value: 0.002211\n",
        "         Iterations: 15\n",
        "         Function evaluations: 41\n",
        "Optimization terminated successfully."
       ]
      },
      {
       "output_type": "stream",
       "stream": "stdout",
       "text": [
        "\n",
        "         Current function value: 0.002458\n",
        "         Iterations: 12\n",
        "         Function evaluations: 40\n",
        "Optimization terminated successfully."
       ]
      },
      {
       "output_type": "stream",
       "stream": "stdout",
       "text": [
        "\n",
        "         Current function value: 0.002077\n",
        "         Iterations: 13\n",
        "         Function evaluations: 36\n",
        "Optimization terminated successfully."
       ]
      },
      {
       "output_type": "stream",
       "stream": "stdout",
       "text": [
        "\n",
        "         Current function value: 0.002802\n",
        "         Iterations: 5\n",
        "         Function evaluations: 24\n",
        "Optimization terminated successfully."
       ]
      },
      {
       "output_type": "stream",
       "stream": "stdout",
       "text": [
        "\n",
        "         Current function value: 0.001664\n",
        "         Iterations: 12\n",
        "         Function evaluations: 34\n",
        "Optimization terminated successfully."
       ]
      },
      {
       "output_type": "stream",
       "stream": "stdout",
       "text": [
        "\n",
        "         Current function value: 0.002636\n",
        "         Iterations: 16\n",
        "         Function evaluations: 44\n",
        "Optimization terminated successfully."
       ]
      },
      {
       "output_type": "stream",
       "stream": "stdout",
       "text": [
        "\n",
        "         Current function value: 0.002617\n",
        "         Iterations: 21\n",
        "         Function evaluations: 55\n",
        "Optimization terminated successfully."
       ]
      },
      {
       "output_type": "stream",
       "stream": "stdout",
       "text": [
        "\n",
        "         Current function value: 0.002812\n",
        "         Iterations: 16\n",
        "         Function evaluations: 44\n",
        "Optimization terminated successfully."
       ]
      },
      {
       "output_type": "stream",
       "stream": "stdout",
       "text": [
        "\n",
        "         Current function value: 0.002541\n",
        "         Iterations: 14\n",
        "         Function evaluations: 37\n",
        "Optimization terminated successfully."
       ]
      },
      {
       "output_type": "stream",
       "stream": "stdout",
       "text": [
        "\n",
        "         Current function value: 0.002585\n",
        "         Iterations: 16\n",
        "         Function evaluations: 45\n",
        "Optimization terminated successfully."
       ]
      },
      {
       "output_type": "stream",
       "stream": "stdout",
       "text": [
        "\n",
        "         Current function value: 0.002488\n",
        "         Iterations: 13\n",
        "         Function evaluations: 38\n",
        "Optimization terminated successfully."
       ]
      },
      {
       "output_type": "stream",
       "stream": "stdout",
       "text": [
        "\n",
        "         Current function value: 0.002391\n",
        "         Iterations: 11\n",
        "         Function evaluations: 32\n",
        "Optimization terminated successfully."
       ]
      },
      {
       "output_type": "stream",
       "stream": "stdout",
       "text": [
        "\n",
        "         Current function value: 0.002119\n",
        "         Iterations: 13\n",
        "         Function evaluations: 41\n",
        "Optimization terminated successfully."
       ]
      },
      {
       "output_type": "stream",
       "stream": "stdout",
       "text": [
        "\n",
        "         Current function value: 0.002956\n",
        "         Iterations: 11\n",
        "         Function evaluations: 32\n",
        "Optimization terminated successfully."
       ]
      },
      {
       "output_type": "stream",
       "stream": "stdout",
       "text": [
        "\n",
        "         Current function value: 0.002283\n",
        "         Iterations: 16\n",
        "         Function evaluations: 47\n",
        "Optimization terminated successfully."
       ]
      },
      {
       "output_type": "stream",
       "stream": "stdout",
       "text": [
        "\n",
        "         Current function value: 0.002316\n",
        "         Iterations: 8\n",
        "         Function evaluations: 34\n",
        "Optimization terminated successfully."
       ]
      },
      {
       "output_type": "stream",
       "stream": "stdout",
       "text": [
        "\n",
        "         Current function value: 0.002279\n",
        "         Iterations: 12\n",
        "         Function evaluations: 39\n",
        "Optimization terminated successfully."
       ]
      },
      {
       "output_type": "stream",
       "stream": "stdout",
       "text": [
        "\n",
        "         Current function value: 0.002571\n",
        "         Iterations: 15\n",
        "         Function evaluations: 45\n",
        "Optimization terminated successfully."
       ]
      },
      {
       "output_type": "stream",
       "stream": "stdout",
       "text": [
        "\n",
        "         Current function value: 0.002465\n",
        "         Iterations: 19\n",
        "         Function evaluations: 48\n",
        "Optimization terminated successfully."
       ]
      },
      {
       "output_type": "stream",
       "stream": "stdout",
       "text": [
        "\n",
        "         Current function value: 0.003124\n",
        "         Iterations: 13\n",
        "         Function evaluations: 40\n",
        "Optimization terminated successfully."
       ]
      },
      {
       "output_type": "stream",
       "stream": "stdout",
       "text": [
        "\n",
        "         Current function value: 0.003052\n",
        "         Iterations: 14\n",
        "         Function evaluations: 35\n",
        "Optimization terminated successfully."
       ]
      },
      {
       "output_type": "stream",
       "stream": "stdout",
       "text": [
        "\n",
        "         Current function value: 0.002165\n",
        "         Iterations: 10\n",
        "         Function evaluations: 32\n",
        "Optimization terminated successfully."
       ]
      },
      {
       "output_type": "stream",
       "stream": "stdout",
       "text": [
        "\n",
        "         Current function value: 0.002146\n",
        "         Iterations: 10\n",
        "         Function evaluations: 31\n",
        "Optimization terminated successfully."
       ]
      },
      {
       "output_type": "stream",
       "stream": "stdout",
       "text": [
        "\n",
        "         Current function value: 0.002395\n",
        "         Iterations: 17\n",
        "         Function evaluations: 48\n",
        "Optimization terminated successfully."
       ]
      },
      {
       "output_type": "stream",
       "stream": "stdout",
       "text": [
        "\n",
        "         Current function value: 0.002822\n",
        "         Iterations: 13\n",
        "         Function evaluations: 43\n",
        "Optimization terminated successfully."
       ]
      },
      {
       "output_type": "stream",
       "stream": "stdout",
       "text": [
        "\n",
        "         Current function value: 0.002700\n",
        "         Iterations: 15\n",
        "         Function evaluations: 39\n",
        "Optimization terminated successfully."
       ]
      },
      {
       "output_type": "stream",
       "stream": "stdout",
       "text": [
        "\n",
        "         Current function value: 0.002529\n",
        "         Iterations: 18\n",
        "         Function evaluations: 45\n",
        "Optimization terminated successfully."
       ]
      },
      {
       "output_type": "stream",
       "stream": "stdout",
       "text": [
        "\n",
        "         Current function value: 0.001801\n",
        "         Iterations: 17\n",
        "         Function evaluations: 41\n",
        "Optimization terminated successfully."
       ]
      },
      {
       "output_type": "stream",
       "stream": "stdout",
       "text": [
        "\n",
        "         Current function value: 0.003321\n",
        "         Iterations: 10\n",
        "         Function evaluations: 30\n",
        "Optimization terminated successfully."
       ]
      },
      {
       "output_type": "stream",
       "stream": "stdout",
       "text": [
        "\n",
        "         Current function value: 0.002629\n",
        "         Iterations: 15\n",
        "         Function evaluations: 39\n",
        "Optimization terminated successfully."
       ]
      },
      {
       "output_type": "stream",
       "stream": "stdout",
       "text": [
        "\n",
        "         Current function value: 0.002025\n",
        "         Iterations: 9\n",
        "         Function evaluations: 35\n",
        "Optimization terminated successfully."
       ]
      },
      {
       "output_type": "stream",
       "stream": "stdout",
       "text": [
        "\n",
        "         Current function value: 0.002876\n",
        "         Iterations: 19\n",
        "         Function evaluations: 48\n",
        "Optimization terminated successfully."
       ]
      },
      {
       "output_type": "stream",
       "stream": "stdout",
       "text": [
        "\n",
        "         Current function value: 0.002627\n",
        "         Iterations: 10\n",
        "         Function evaluations: 30\n",
        "Optimization terminated successfully."
       ]
      },
      {
       "output_type": "stream",
       "stream": "stdout",
       "text": [
        "\n",
        "         Current function value: 0.002424\n",
        "         Iterations: 23\n",
        "         Function evaluations: 50\n",
        "Optimization terminated successfully."
       ]
      },
      {
       "output_type": "stream",
       "stream": "stdout",
       "text": [
        "\n",
        "         Current function value: 0.002438\n",
        "         Iterations: 12\n",
        "         Function evaluations: 41\n",
        "Optimization terminated successfully."
       ]
      },
      {
       "output_type": "stream",
       "stream": "stdout",
       "text": [
        "\n",
        "         Current function value: 0.001572\n",
        "         Iterations: 20\n",
        "         Function evaluations: 45\n",
        "Optimization terminated successfully."
       ]
      },
      {
       "output_type": "stream",
       "stream": "stdout",
       "text": [
        "\n",
        "         Current function value: 0.002672\n",
        "         Iterations: 14\n",
        "         Function evaluations: 43\n",
        "Optimization terminated successfully."
       ]
      },
      {
       "output_type": "stream",
       "stream": "stdout",
       "text": [
        "\n",
        "         Current function value: 0.002518\n",
        "         Iterations: 10\n",
        "         Function evaluations: 37\n",
        "Optimization terminated successfully."
       ]
      },
      {
       "output_type": "stream",
       "stream": "stdout",
       "text": [
        "\n",
        "         Current function value: 0.002475\n",
        "         Iterations: 17\n",
        "         Function evaluations: 42\n",
        "Optimization terminated successfully."
       ]
      },
      {
       "output_type": "stream",
       "stream": "stdout",
       "text": [
        "\n",
        "         Current function value: 0.002628\n",
        "         Iterations: 14\n",
        "         Function evaluations: 41\n",
        "Optimization terminated successfully."
       ]
      },
      {
       "output_type": "stream",
       "stream": "stdout",
       "text": [
        "\n",
        "         Current function value: 0.002690\n",
        "         Iterations: 22\n",
        "         Function evaluations: 50\n",
        "Optimization terminated successfully."
       ]
      },
      {
       "output_type": "stream",
       "stream": "stdout",
       "text": [
        "\n",
        "         Current function value: 0.002466\n",
        "         Iterations: 15\n",
        "         Function evaluations: 45\n",
        "Optimization terminated successfully."
       ]
      },
      {
       "output_type": "stream",
       "stream": "stdout",
       "text": [
        "\n",
        "         Current function value: 0.002613\n",
        "         Iterations: 13\n",
        "         Function evaluations: 41\n",
        "Optimization terminated successfully."
       ]
      },
      {
       "output_type": "stream",
       "stream": "stdout",
       "text": [
        "\n",
        "         Current function value: 0.002580\n",
        "         Iterations: 13\n",
        "         Function evaluations: 32\n",
        "Optimization terminated successfully."
       ]
      },
      {
       "output_type": "stream",
       "stream": "stdout",
       "text": [
        "\n",
        "         Current function value: 0.002860\n",
        "         Iterations: 11\n",
        "         Function evaluations: 32\n",
        "Optimization terminated successfully."
       ]
      },
      {
       "output_type": "stream",
       "stream": "stdout",
       "text": [
        "\n",
        "         Current function value: 0.002476\n",
        "         Iterations: 15\n",
        "         Function evaluations: 44\n",
        "Optimization terminated successfully."
       ]
      },
      {
       "output_type": "stream",
       "stream": "stdout",
       "text": [
        "\n",
        "         Current function value: 0.002675\n",
        "         Iterations: 11\n",
        "         Function evaluations: 39\n",
        "Optimization terminated successfully."
       ]
      },
      {
       "output_type": "stream",
       "stream": "stdout",
       "text": [
        "\n",
        "         Current function value: 0.002118\n",
        "         Iterations: 13\n",
        "         Function evaluations: 40\n",
        "Optimization terminated successfully."
       ]
      },
      {
       "output_type": "stream",
       "stream": "stdout",
       "text": [
        "\n",
        "         Current function value: 0.002995\n",
        "         Iterations: 9\n",
        "         Function evaluations: 29\n",
        "Optimization terminated successfully."
       ]
      },
      {
       "output_type": "stream",
       "stream": "stdout",
       "text": [
        "\n",
        "         Current function value: 0.002928\n",
        "         Iterations: 14\n",
        "         Function evaluations: 43\n",
        "Optimization terminated successfully."
       ]
      },
      {
       "output_type": "stream",
       "stream": "stdout",
       "text": [
        "\n",
        "         Current function value: 0.002957\n",
        "         Iterations: 11\n",
        "         Function evaluations: 33\n",
        "Optimization terminated successfully."
       ]
      },
      {
       "output_type": "stream",
       "stream": "stdout",
       "text": [
        "\n",
        "         Current function value: 0.003079\n",
        "         Iterations: 20\n",
        "         Function evaluations: 49\n",
        "Optimization terminated successfully."
       ]
      },
      {
       "output_type": "stream",
       "stream": "stdout",
       "text": [
        "\n",
        "         Current function value: 0.003187\n",
        "         Iterations: 15\n",
        "         Function evaluations: 44\n",
        "Optimization terminated successfully."
       ]
      },
      {
       "output_type": "stream",
       "stream": "stdout",
       "text": [
        "\n",
        "         Current function value: 0.002474\n",
        "         Iterations: 19\n",
        "         Function evaluations: 48\n",
        "Optimization terminated successfully."
       ]
      },
      {
       "output_type": "stream",
       "stream": "stdout",
       "text": [
        "\n",
        "         Current function value: 0.002749\n",
        "         Iterations: 19\n",
        "         Function evaluations: 50\n",
        "Optimization terminated successfully."
       ]
      },
      {
       "output_type": "stream",
       "stream": "stdout",
       "text": [
        "\n",
        "         Current function value: 0.002569\n",
        "         Iterations: 18\n",
        "         Function evaluations: 50\n",
        "Optimization terminated successfully."
       ]
      },
      {
       "output_type": "stream",
       "stream": "stdout",
       "text": [
        "\n",
        "         Current function value: 0.002757\n",
        "         Iterations: 18\n",
        "         Function evaluations: 50\n",
        "Optimization terminated successfully."
       ]
      },
      {
       "output_type": "stream",
       "stream": "stdout",
       "text": [
        "\n",
        "         Current function value: 0.002625\n",
        "         Iterations: 13\n",
        "         Function evaluations: 42\n",
        "Optimization terminated successfully."
       ]
      },
      {
       "output_type": "stream",
       "stream": "stdout",
       "text": [
        "\n",
        "         Current function value: 0.002032\n",
        "         Iterations: 14\n",
        "         Function evaluations: 43\n",
        "Optimization terminated successfully."
       ]
      },
      {
       "output_type": "stream",
       "stream": "stdout",
       "text": [
        "\n",
        "         Current function value: 0.002397\n",
        "         Iterations: 8\n",
        "         Function evaluations: 28\n",
        "Optimization terminated successfully."
       ]
      },
      {
       "output_type": "stream",
       "stream": "stdout",
       "text": [
        "\n",
        "         Current function value: 0.003219\n",
        "         Iterations: 12\n",
        "         Function evaluations: 35\n",
        "Optimization terminated successfully."
       ]
      },
      {
       "output_type": "stream",
       "stream": "stdout",
       "text": [
        "\n",
        "         Current function value: 0.002173\n",
        "         Iterations: 13\n",
        "         Function evaluations: 38\n",
        "Optimization terminated successfully."
       ]
      },
      {
       "output_type": "stream",
       "stream": "stdout",
       "text": [
        "\n",
        "         Current function value: 0.002532\n",
        "         Iterations: 16\n",
        "         Function evaluations: 39\n",
        "Optimization terminated successfully."
       ]
      },
      {
       "output_type": "stream",
       "stream": "stdout",
       "text": [
        "\n",
        "         Current function value: 0.003028\n",
        "         Iterations: 18\n",
        "         Function evaluations: 47\n",
        "Optimization terminated successfully."
       ]
      },
      {
       "output_type": "stream",
       "stream": "stdout",
       "text": [
        "\n",
        "         Current function value: 0.002909\n",
        "         Iterations: 14\n",
        "         Function evaluations: 40\n",
        "Optimization terminated successfully."
       ]
      },
      {
       "output_type": "stream",
       "stream": "stdout",
       "text": [
        "\n",
        "         Current function value: 0.002276\n",
        "         Iterations: 13\n",
        "         Function evaluations: 43\n",
        "Optimization terminated successfully."
       ]
      },
      {
       "output_type": "stream",
       "stream": "stdout",
       "text": [
        "\n",
        "         Current function value: 0.002377\n",
        "         Iterations: 16\n",
        "         Function evaluations: 48\n",
        "Optimization terminated successfully."
       ]
      },
      {
       "output_type": "stream",
       "stream": "stdout",
       "text": [
        "\n",
        "         Current function value: 0.002930\n",
        "         Iterations: 9\n",
        "         Function evaluations: 36\n",
        "Optimization terminated successfully."
       ]
      },
      {
       "output_type": "stream",
       "stream": "stdout",
       "text": [
        "\n",
        "         Current function value: 0.002100\n",
        "         Iterations: 18\n",
        "         Function evaluations: 44\n",
        "Optimization terminated successfully."
       ]
      },
      {
       "output_type": "stream",
       "stream": "stdout",
       "text": [
        "\n",
        "         Current function value: 0.002763\n",
        "         Iterations: 9\n",
        "         Function evaluations: 32\n",
        "Optimization terminated successfully."
       ]
      },
      {
       "output_type": "stream",
       "stream": "stdout",
       "text": [
        "\n",
        "         Current function value: 0.002060\n",
        "         Iterations: 10\n",
        "         Function evaluations: 32\n",
        "Optimization terminated successfully."
       ]
      },
      {
       "output_type": "stream",
       "stream": "stdout",
       "text": [
        "\n",
        "         Current function value: 0.002659\n",
        "         Iterations: 15\n",
        "         Function evaluations: 45\n",
        "Optimization terminated successfully."
       ]
      },
      {
       "output_type": "stream",
       "stream": "stdout",
       "text": [
        "\n",
        "         Current function value: 0.002143\n",
        "         Iterations: 18\n",
        "         Function evaluations: 41\n",
        "Optimization terminated successfully."
       ]
      },
      {
       "output_type": "stream",
       "stream": "stdout",
       "text": [
        "\n",
        "         Current function value: 0.002437\n",
        "         Iterations: 12\n",
        "         Function evaluations: 33\n",
        "Optimization terminated successfully."
       ]
      },
      {
       "output_type": "stream",
       "stream": "stdout",
       "text": [
        "\n",
        "         Current function value: 0.002714\n",
        "         Iterations: 19\n",
        "         Function evaluations: 49\n",
        "Optimization terminated successfully."
       ]
      },
      {
       "output_type": "stream",
       "stream": "stdout",
       "text": [
        "\n",
        "         Current function value: 0.003025\n",
        "         Iterations: 10\n",
        "         Function evaluations: 33\n",
        "Optimization terminated successfully."
       ]
      },
      {
       "output_type": "stream",
       "stream": "stdout",
       "text": [
        "\n",
        "         Current function value: 0.002598\n",
        "         Iterations: 16\n",
        "         Function evaluations: 40\n",
        "Optimization terminated successfully."
       ]
      },
      {
       "output_type": "stream",
       "stream": "stdout",
       "text": [
        "\n",
        "         Current function value: 0.002351\n",
        "         Iterations: 16\n",
        "         Function evaluations: 47\n",
        "Optimization terminated successfully."
       ]
      },
      {
       "output_type": "stream",
       "stream": "stdout",
       "text": [
        "\n",
        "         Current function value: 0.002130\n",
        "         Iterations: 16\n",
        "         Function evaluations: 44\n",
        "Optimization terminated successfully."
       ]
      },
      {
       "output_type": "stream",
       "stream": "stdout",
       "text": [
        "\n",
        "         Current function value: 0.003109\n",
        "         Iterations: 10\n",
        "         Function evaluations: 38\n",
        "Optimization terminated successfully."
       ]
      },
      {
       "output_type": "stream",
       "stream": "stdout",
       "text": [
        "\n",
        "         Current function value: 0.001642\n",
        "         Iterations: 18\n",
        "         Function evaluations: 50\n",
        "Optimization terminated successfully."
       ]
      },
      {
       "output_type": "stream",
       "stream": "stdout",
       "text": [
        "\n",
        "         Current function value: 0.002629\n",
        "         Iterations: 12\n",
        "         Function evaluations: 39\n",
        "Optimization terminated successfully."
       ]
      },
      {
       "output_type": "stream",
       "stream": "stdout",
       "text": [
        "\n",
        "         Current function value: 0.002669\n",
        "         Iterations: 9\n",
        "         Function evaluations: 29\n",
        "Optimization terminated successfully."
       ]
      },
      {
       "output_type": "stream",
       "stream": "stdout",
       "text": [
        "\n",
        "         Current function value: 0.002752\n",
        "         Iterations: 8\n",
        "         Function evaluations: 29\n",
        "Optimization terminated successfully."
       ]
      },
      {
       "output_type": "stream",
       "stream": "stdout",
       "text": [
        "\n",
        "         Current function value: 0.002541\n",
        "         Iterations: 12\n",
        "         Function evaluations: 35\n",
        "Optimization terminated successfully."
       ]
      },
      {
       "output_type": "stream",
       "stream": "stdout",
       "text": [
        "\n",
        "         Current function value: 0.001560\n",
        "         Iterations: 14\n",
        "         Function evaluations: 36\n",
        "Optimization terminated successfully."
       ]
      },
      {
       "output_type": "stream",
       "stream": "stdout",
       "text": [
        "\n",
        "         Current function value: 0.002391\n",
        "         Iterations: 12\n",
        "         Function evaluations: 40\n",
        "Optimization terminated successfully."
       ]
      },
      {
       "output_type": "stream",
       "stream": "stdout",
       "text": [
        "\n",
        "         Current function value: 0.002887\n",
        "         Iterations: 9\n",
        "         Function evaluations: 36\n",
        "Optimization terminated successfully."
       ]
      },
      {
       "output_type": "stream",
       "stream": "stdout",
       "text": [
        "\n",
        "         Current function value: 0.002623\n",
        "         Iterations: 14\n",
        "         Function evaluations: 42\n",
        "Optimization terminated successfully."
       ]
      },
      {
       "output_type": "stream",
       "stream": "stdout",
       "text": [
        "\n",
        "         Current function value: 0.003290\n",
        "         Iterations: 12\n",
        "         Function evaluations: 32\n",
        "Optimization terminated successfully."
       ]
      },
      {
       "output_type": "stream",
       "stream": "stdout",
       "text": [
        "\n",
        "         Current function value: 0.002542\n",
        "         Iterations: 14\n",
        "         Function evaluations: 39\n",
        "Optimization terminated successfully."
       ]
      },
      {
       "output_type": "stream",
       "stream": "stdout",
       "text": [
        "\n",
        "         Current function value: 0.002097\n",
        "         Iterations: 15\n",
        "         Function evaluations: 38\n",
        "Optimization terminated successfully."
       ]
      },
      {
       "output_type": "stream",
       "stream": "stdout",
       "text": [
        "\n",
        "         Current function value: 0.002398\n",
        "         Iterations: 14\n",
        "         Function evaluations: 38\n",
        "Optimization terminated successfully."
       ]
      },
      {
       "output_type": "stream",
       "stream": "stdout",
       "text": [
        "\n",
        "         Current function value: 0.002459\n",
        "         Iterations: 11\n",
        "         Function evaluations: 32\n",
        "Optimization terminated successfully."
       ]
      },
      {
       "output_type": "stream",
       "stream": "stdout",
       "text": [
        "\n",
        "         Current function value: 0.002250\n",
        "         Iterations: 6\n",
        "         Function evaluations: 31\n",
        "Optimization terminated successfully."
       ]
      },
      {
       "output_type": "stream",
       "stream": "stdout",
       "text": [
        "\n",
        "         Current function value: 0.003040\n",
        "         Iterations: 21\n",
        "         Function evaluations: 55\n",
        "Optimization terminated successfully."
       ]
      },
      {
       "output_type": "stream",
       "stream": "stdout",
       "text": [
        "\n",
        "         Current function value: 0.002708\n",
        "         Iterations: 18\n",
        "         Function evaluations: 42\n",
        "Optimization terminated successfully."
       ]
      },
      {
       "output_type": "stream",
       "stream": "stdout",
       "text": [
        "\n",
        "         Current function value: 0.002447\n",
        "         Iterations: 15\n",
        "         Function evaluations: 38\n",
        "Optimization terminated successfully."
       ]
      },
      {
       "output_type": "stream",
       "stream": "stdout",
       "text": [
        "\n",
        "         Current function value: 0.002746\n",
        "         Iterations: 14\n",
        "         Function evaluations: 40\n",
        "Optimization terminated successfully."
       ]
      },
      {
       "output_type": "stream",
       "stream": "stdout",
       "text": [
        "\n",
        "         Current function value: 0.002515\n",
        "         Iterations: 13\n",
        "         Function evaluations: 38\n"
       ]
      }
     ],
     "prompt_number": 13
    },
    {
     "cell_type": "heading",
     "level": 1,
     "metadata": {},
     "source": [
      "Main bootstrapping function"
     ]
    },
    {
     "cell_type": "code",
     "collapsed": false,
     "input": [
      "def main_reboot(data, params, niter=200, ntrials=2000):\n",
      "    \n",
      "    pth=utils.find_path()+\"OptAccRT/reboot/\"\n",
      "    \n",
      "    inits=params.mean()\n",
      "    fit_results=list()\n",
      "    cols=[200, 250, 300, 350, 400, 'rt']\n",
      "    y_pred=pd.DataFrame(columns=cols, index=np.arange(niter))\n",
      "    \n",
      "    for i in range(niter):\n",
      "        \n",
      "        yxdf=pd.DataFrame(columns=cols, index=data.subj_idx.unique())\n",
      "        # sample proportionally given experimental trial counts \n",
      "        # like generating synthetic sx THEN averging\n",
      "        # more similar to how we calculated the \n",
      "        # empirical means we fit on, better index of \n",
      "        # observed variability\n",
      "        for nsample in yxdf.index.values:    \n",
      "            sample_y = resample_reactive(data)\n",
      "            yxdf.loc[nsample] = sample_y\n",
      "            \n",
      "        bxY=yxdf.mean().values\n",
      "        \n",
      "        fits_i, yhat_i = fit_reactive(bxY, inits=inits, nx=i, ntrials=ntrials, names=cols)\n",
      "\n",
      "        fit_results.append(fits_i)   \n",
      "        y_pred.loc[i,:]=np.array(yhat_i)\n",
      "        y_pred.to_csv(pth+\"subsample_reboot_yhat_pnl.csv\", index=False)\n",
      "        \n",
      "    fit_df=pd.concat(fit_results)\n",
      "    fit_df.to_csv(pth+\"subsample_reboot_fits_pnl.csv\")\n",
      "    \n",
      "    return y_pred"
     ],
     "language": "python",
     "metadata": {},
     "outputs": [],
     "prompt_number": 3
    },
    {
     "cell_type": "heading",
     "level": 1,
     "metadata": {},
     "source": [
      "Fit single reactive dataset"
     ]
    },
    {
     "cell_type": "code",
     "collapsed": false,
     "input": [
      "def fit_reactive(y, inits={}, names=[], nx=0, ntrials=2000, **kwargs):\n",
      "    \n",
      "    inits['pGo']=.50\n",
      "    \n",
      "    p=Parameters()\n",
      "    p.add('ssv', value=inits['ssv'], vary=True)\n",
      "    p.add('a', value=inits['a'], min=0.0, vary=True)\n",
      "    p.add('v', value=inits['v'], min=0.0, vary=True)\n",
      "    p.add('t', value=inits['t'], min=0.0, max=.649, vary=True)\n",
      "    p.add('z', value=inits['z'], min=0.0, vary=True)\n",
      "\n",
      "    popt = Minimizer(fitre.ssre_minfunc, p, fcn_args=(inits, y, ntrials), method='Nelder-Mead') \n",
      "    popt.fmin(maxfun=200, ftol=5.e-2, xtol=1.e-2, full_output=True, disp=True)\n",
      "    yhat_i=y+popt.residual\n",
      "    \n",
      "    fit_results=pd.DataFrame.from_dict(OrderedDict([('niter',nx), ('names',names), \n",
      "                                    ('y',y), ('yhat',yhat_i), ('resid',popt.residual), \n",
      "                                    ('chi',[popt.chisqr]*len(names))]), orient='columns')\n",
      "\n",
      "    return fit_results, yhat_i"
     ],
     "language": "python",
     "metadata": {},
     "outputs": [],
     "prompt_number": 10
    },
    {
     "cell_type": "heading",
     "level": 1,
     "metadata": {},
     "source": [
      "Resample index for reactive DF"
     ]
    },
    {
     "cell_type": "code",
     "collapsed": false,
     "input": [
      "def resample_reactive(df, n=None):\n",
      "    \n",
      "    bootlist=list()\n",
      "    df=df.copy()\n",
      "\n",
      "    for ssd, ssdf in df.groupby('ssd'):\n",
      "        \n",
      "        if n==None:\n",
      "            n=len(ssdf)\n",
      "        \n",
      "        boots = ssdf.reset_index(drop=True)\n",
      "        orig_ix=np.asarray(boots.index[:])\n",
      "        \n",
      "        resampled_ix=rwr(orig_ix, get_index=True, n=n)\n",
      "        bootdf=ssdf.irow(resampled_ix)\n",
      "\n",
      "        bootlist.append(bootdf)\n",
      "\n",
      "    #concatenate all resampled conditions\n",
      "    bootdf=pd.concat(bootlist)\n",
      "\n",
      "    sample_y=list(bootdf[bootdf['trial_type']=='stop'].groupby('ssd').mean()['acc'].values)\t\n",
      "    mrt=bootdf[(bootdf['acc']==1)&(bootdf['response']==1)].groupby('ssd').mean()['rt'].mean()*10\n",
      "    sample_y.append(mrt)\n",
      "    \n",
      "    return sample_y"
     ],
     "language": "python",
     "metadata": {},
     "outputs": [],
     "prompt_number": 11
    },
    {
     "cell_type": "heading",
     "level": 1,
     "metadata": {},
     "source": [
      "Generic resample with replacement algorithm"
     ]
    },
    {
     "cell_type": "code",
     "collapsed": false,
     "input": [
      "def rwr(X, get_index=False, n=None):\n",
      "    \n",
      "    \"\"\"\n",
      "    Modified from http://nbviewer.ipython.org/gist/aflaxman/6871948\n",
      "    \"\"\"\n",
      "\n",
      "    if isinstance(X, pd.Series):\n",
      "        X = X.copy()\n",
      "        X.index = range(len(X.index))\n",
      "    if n == None:\n",
      "        n = len(X)\n",
      "    \n",
      "    \n",
      "    resample_i = np.floor(np.random.rand(n)*len(X)).astype(int)\n",
      "    X_resample = np.array(X[resample_i])\n",
      "    \n",
      "    if get_index:\n",
      "        return resample_i\n",
      "    else:\n",
      "        return X_resample"
     ],
     "language": "python",
     "metadata": {},
     "outputs": [],
     "prompt_number": 12
    }
   ],
   "metadata": {}
  }
 ]
}