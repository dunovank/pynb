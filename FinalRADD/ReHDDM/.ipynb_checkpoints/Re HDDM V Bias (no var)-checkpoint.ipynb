{
 "metadata": {
  "name": "",
  "signature": "sha256:9276316c3daf17cdc8269dac27bea790d1d117e3f23d8a771110a37fe9c69a05"
 },
 "nbformat": 3,
 "nbformat_minor": 0,
 "worksheets": [
  {
   "cells": [
    {
     "cell_type": "code",
     "collapsed": false,
     "input": [
      "import hddm\n",
      "from IPython import parallel\n",
      "from radd import fitfx, hd, fitre, utils, vis"
     ],
     "language": "python",
     "metadata": {},
     "outputs": [],
     "prompt_number": 1
    },
    {
     "cell_type": "code",
     "collapsed": false,
     "input": [
      "pth=utils.find_path()\n",
      "\n",
      "os.chdir(\"/home/kyle/Dropbox/CoAx/SS/vbias/novar\")\n",
      "\n",
      "data=pd.read_csv(pth+\"DataFiles/Re_Data.csv\",index_col=0)\n",
      "cgo=data.query(\"choice=='go' & acc==1\")"
     ],
     "language": "python",
     "metadata": {},
     "outputs": [],
     "prompt_number": 2
    },
    {
     "cell_type": "code",
     "collapsed": false,
     "input": [
      "hd=reload(hd)\n",
      "chunk_list = lambda lst, siz: [lst[i:i+siz] for i in range(0, len(lst), siz)]\n",
      "chunk_df = lambda lol, df: [df[df['idx'].isin(l)] for l in lol]\n",
      "idxmean = lambda df: df.groupby('idx').rt.mean().values\n",
      "\n",
      "def fit_hddm_parallel(df):\n",
      "    df['subj_idx']=df['idx']\n",
      "    from radd import hd\n",
      "    hd=reload(hd)\n",
      "    stats = hd.fit_sxhddm(df, depends_on={'v':'Cond'}, bias=True, informative=True,\n",
      "                include= ['a', 't', 'v', 'z'], task='ssRe', save_str=\"vbias\")\n",
      "    \n",
      "    return stats"
     ],
     "language": "python",
     "metadata": {},
     "outputs": [],
     "prompt_number": 16
    },
    {
     "cell_type": "code",
     "collapsed": false,
     "input": [
      "sxlist=list(cgo.idx.unique())\n",
      "idchunks=chunk_list(sxlist, 12)\n",
      "idchunks[-2].append(idchunks.pop(-1)[0])\n",
      "dflist=chunk_df(idchunks, cgo)"
     ],
     "language": "python",
     "metadata": {},
     "outputs": [],
     "prompt_number": 17
    },
    {
     "cell_type": "code",
     "collapsed": false,
     "input": [
      "# initialize IPython clusters \n",
      "# (ipynb home --> clusters)\n",
      "clients = parallel.Client()\n",
      "clients.block = True  # use synchronous computations\n",
      "allproc = clients.load_balanced_view()"
     ],
     "language": "python",
     "metadata": {},
     "outputs": [],
     "prompt_number": 18
    },
    {
     "cell_type": "heading",
     "level": 2,
     "metadata": {},
     "source": [
      "Individual Sx Fits: V Bias model (BSL vs. PNL) no var parameters"
     ]
    },
    {
     "cell_type": "code",
     "collapsed": true,
     "input": [
      "all_proc_stats = allproc.map(fit_hddm_parallel, dflist[:])"
     ],
     "language": "python",
     "metadata": {},
     "outputs": [
      {
       "ename": "CompositeError",
       "evalue": "one or more exceptions from call to method: fit_hddm_parallel\n[2:apply]: UnboundLocalError: local variable 'ix2' referenced before assignment",
       "output_type": "pyerr",
       "traceback": [
        "[2:apply]: ",
        "\u001b[1;31m---------------------------------------------------------------------------\u001b[0m",
        "\u001b[1;31mUnboundLocalError\u001b[0m                         Traceback (most recent call last)\u001b[1;32m<string>\u001b[0m in \u001b[0;36m<module>\u001b[1;34m()\u001b[0m",
        "\u001b[1;32m<ipython-input-16-cec949db253c>\u001b[0m in \u001b[0;36mfit_hddm_parallel\u001b[1;34m(df)\u001b[0m",
        "\u001b[1;32m/home/kyle/Dropbox/Git/radd/hd.pyc\u001b[0m in \u001b[0;36mfit_sxhddm\u001b[1;34m(data, depends_on, include, bias, informative, task, save_str, **kwargs)\u001b[0m",
        "\u001b[0;32m     67\u001b[0m         \u001b[0mallsx_df\u001b[0m\u001b[1;33m=\u001b[0m\u001b[0mpd\u001b[0m\u001b[1;33m.\u001b[0m\u001b[0mconcat\u001b[0m\u001b[1;33m(\u001b[0m\u001b[0msxparams\u001b[0m\u001b[1;33m)\u001b[0m\u001b[1;33m\u001b[0m\u001b[0m",
        "\u001b[0;32m     68\u001b[0m         \u001b[0mallsx_df\u001b[0m\u001b[1;33m.\u001b[0m\u001b[0mto_csv\u001b[0m\u001b[1;33m(\u001b[0m\u001b[0mix1\u001b[0m\u001b[1;33m+\u001b[0m\u001b[1;34m'-'\u001b[0m\u001b[1;33m+\u001b[0m\u001b[0mix2\u001b[0m\u001b[1;33m+\u001b[0m\u001b[1;34m\"_sxfits.csv\"\u001b[0m\u001b[1;33m,\u001b[0m \u001b[0mindex\u001b[0m\u001b[1;33m=\u001b[0m\u001b[0mFalse\u001b[0m\u001b[1;33m)\u001b[0m\u001b[1;33m\u001b[0m\u001b[0m",
        "\u001b[1;32m---> 69\u001b[1;33m \u001b[1;33m\u001b[0m\u001b[0m",
        "\u001b[0m\u001b[0;32m     70\u001b[0m         \u001b[0mic_df\u001b[0m\u001b[1;33m=\u001b[0m\u001b[0mpd\u001b[0m\u001b[1;33m.\u001b[0m\u001b[0mDataFrame\u001b[0m\u001b[1;33m(\u001b[0m\u001b[1;33m{\u001b[0m\u001b[1;34m'aic'\u001b[0m\u001b[1;33m:\u001b[0m\u001b[0maic_list\u001b[0m\u001b[1;33m,\u001b[0m \u001b[1;34m'bic'\u001b[0m\u001b[1;33m:\u001b[0m\u001b[0mbic_list\u001b[0m\u001b[1;33m,\u001b[0m \u001b[1;34m'dic'\u001b[0m\u001b[1;33m:\u001b[0m\u001b[0mdic_list\u001b[0m\u001b[1;33m}\u001b[0m\u001b[1;33m)\u001b[0m\u001b[1;33m\u001b[0m\u001b[0m",
        "\u001b[0;32m     71\u001b[0m         \u001b[0mic_df\u001b[0m\u001b[1;33m.\u001b[0m\u001b[0mto_csv\u001b[0m\u001b[1;33m(\u001b[0m\u001b[0mix1\u001b[0m\u001b[1;33m+\u001b[0m\u001b[1;34m'-'\u001b[0m\u001b[1;33m+\u001b[0m\u001b[0mix2\u001b[0m\u001b[1;33m+\u001b[0m\u001b[1;34m\"_ic.csv\"\u001b[0m\u001b[1;33m)\u001b[0m\u001b[1;33m\u001b[0m\u001b[0m",
        "\u001b[1;31mUnboundLocalError\u001b[0m: local variable 'ix2' referenced before assignment",
        ""
       ]
      }
     ],
     "prompt_number": 20
    },
    {
     "cell_type": "code",
     "collapsed": false,
     "input": [
      "dfall=pd.concat(all_proc_stats).reset_index(drop=True)\n",
      "dfall.to_csv(\"ReHDDM_VBiasNoVar_FitStats.csv\")"
     ],
     "language": "python",
     "metadata": {},
     "outputs": [],
     "prompt_number": 15
    },
    {
     "cell_type": "code",
     "collapsed": false,
     "input": [
      "params=pd.concat([df.reset_index(drop=True).pivot('idx', 'param', 'mean') for df in all_proc_stats])\n",
      "params['a']=params['a']/10\n",
      "params['v(bsl)']=params['v(bsl)']/10\n",
      "params['v(pnl)']=params['v(pnl)']/10\n",
      "params['vdiff']=params['v(bsl)']-params['v(pnl)']\n",
      "params['z']=params['a']*params['z']    \n",
      "\n",
      "params.to_csv(\"ReHDDM_vbias_params.csv\")"
     ],
     "language": "python",
     "metadata": {},
     "outputs": [],
     "prompt_number": 24
    },
    {
     "cell_type": "code",
     "collapsed": false,
     "input": [
      "os.chdir(\"/home/kyle/Dropbox/CoAx/SS/vbias/novar\")\n",
      "params=pd.read_csv(\"ReHDDM_vbias_params.csv\")\n",
      "params=params.loc[:,'a':]\n",
      "sp=utils.style_params()\n",
      "x=np.arange(len(params.columns))\n",
      "xnames=params.columns\n",
      "mu=params.mean()\n",
      "err=params.sem()*1.96\n",
      "sns.set_style('ticks', rc=sp['style'])\n",
      "\n",
      "c=sns.color_palette('hls', n_colors=len(x))\n",
      "for xx in x:\n",
      "    plt.bar(xx, mu[xx], yerr=err[xx], color=c[xx], ecolor='k', align='center')\n",
      "sns.despine()\n",
      "\n",
      "f=plt.gcf()\n",
      "ax=plt.gca()\n",
      "\n",
      "ax.set_xlabel(\"Parameter %s\"%'$\\\\theta$', fontsize=22)\n",
      "ax.set_ylabel('$\\\\theta$'+\" Units\", fontsize=22)\n",
      "plt.setp(ax, xticks=x, xticklabels=xnames, xlim=(-.5,x[-1]+.5), ylim=(-.2, 1.2))\n",
      "\n",
      "plt.setp(ax.get_yticklabels(), fontsize=16)\n",
      "plt.setp(ax.get_xticklabels(), fontsize=20)\n",
      "plt.hlines(y=0, xmin=-2, xmax=x[-1]+3, alpha=.4, linestyle='--')\n",
      "plt.tight_layout()\n",
      "f.savefig(\"rehddm_vbias_novar_params.png\", dpi=600)"
     ],
     "language": "python",
     "metadata": {},
     "outputs": []
    },
    {
     "cell_type": "heading",
     "level": 2,
     "metadata": {},
     "source": [
      "Individual Sx Fits: V Bias model (BSL vs. PNL) no var params"
     ]
    },
    {
     "cell_type": "code",
     "collapsed": false,
     "input": [
      "pth=utils.find_path()\n",
      "os.chdir(\"/home/kyle/Dropbox/CoAx/SS/vbias/novar\")\n",
      "data=pd.read_csv(pth+\"DataFiles/Re_Data.csv\",index_col=0)\n",
      "datac=data.query(\"choice=='go' & acc==1\")\n",
      "datac[\"subj_idx\"]=datac[\"idx\"]"
     ],
     "language": "python",
     "metadata": {},
     "outputs": [],
     "prompt_number": 21
    },
    {
     "cell_type": "code",
     "collapsed": false,
     "input": [
      "mflat=hddm.HDDM(datac, depends_on={'v':'Cond'}, bias=True, include= ['a', 't', 'v', 'z'])\n",
      "mflat.sample(60000, burn=20000, thin=3)\n",
      "\n",
      "statsdf=mflat.gen_stats()\n",
      "statsdf['idx']=[idx]*len(statsdf)\n",
      "mflat.plot_posteriors(save=True)\n",
      "\n",
      "mflat.print_stats(\"reflat_tbias_params.txt\")"
     ],
     "language": "python",
     "metadata": {},
     "outputs": [
      {
       "output_type": "stream",
       "stream": "stdout",
       "text": [
        "After 7.000000 retries, still no good fit found.\n"
       ]
      },
      {
       "ename": "ZeroProbability",
       "evalue": "Stochastic wfpt(bsl).39's value is outside its support,\n or it forbids its parents' current values.",
       "output_type": "pyerr",
       "traceback": [
        "\u001b[1;31m---------------------------------------------------------------------------\u001b[0m\n\u001b[1;31mZeroProbability\u001b[0m                           Traceback (most recent call last)",
        "\u001b[1;32m<ipython-input-22-8de60738a814>\u001b[0m in \u001b[0;36m<module>\u001b[1;34m()\u001b[0m\n\u001b[1;32m----> 1\u001b[1;33m \u001b[0mmflat\u001b[0m\u001b[1;33m=\u001b[0m\u001b[0mhddm\u001b[0m\u001b[1;33m.\u001b[0m\u001b[0mHDDM\u001b[0m\u001b[1;33m(\u001b[0m\u001b[0mdatac\u001b[0m\u001b[1;33m,\u001b[0m \u001b[0mdepends_on\u001b[0m\u001b[1;33m=\u001b[0m\u001b[1;33m{\u001b[0m\u001b[1;34m'v'\u001b[0m\u001b[1;33m:\u001b[0m\u001b[1;34m'Cond'\u001b[0m\u001b[1;33m}\u001b[0m\u001b[1;33m,\u001b[0m \u001b[0mbias\u001b[0m\u001b[1;33m=\u001b[0m\u001b[0mTrue\u001b[0m\u001b[1;33m,\u001b[0m \u001b[0minclude\u001b[0m\u001b[1;33m=\u001b[0m \u001b[1;33m[\u001b[0m\u001b[1;34m'a'\u001b[0m\u001b[1;33m,\u001b[0m \u001b[1;34m't'\u001b[0m\u001b[1;33m,\u001b[0m \u001b[1;34m'v'\u001b[0m\u001b[1;33m,\u001b[0m \u001b[1;34m'z'\u001b[0m\u001b[1;33m]\u001b[0m\u001b[1;33m)\u001b[0m\u001b[1;33m\u001b[0m\u001b[0m\n\u001b[0m\u001b[0;32m      2\u001b[0m \u001b[0mmflat\u001b[0m\u001b[1;33m.\u001b[0m\u001b[0msample\u001b[0m\u001b[1;33m(\u001b[0m\u001b[1;36m60000\u001b[0m\u001b[1;33m,\u001b[0m \u001b[0mburn\u001b[0m\u001b[1;33m=\u001b[0m\u001b[1;36m20000\u001b[0m\u001b[1;33m,\u001b[0m \u001b[0mthin\u001b[0m\u001b[1;33m=\u001b[0m\u001b[1;36m3\u001b[0m\u001b[1;33m)\u001b[0m\u001b[1;33m\u001b[0m\u001b[0m\n\u001b[0;32m      3\u001b[0m \u001b[1;33m\u001b[0m\u001b[0m\n\u001b[0;32m      4\u001b[0m \u001b[0mstatsdf\u001b[0m\u001b[1;33m=\u001b[0m\u001b[0mmflat\u001b[0m\u001b[1;33m.\u001b[0m\u001b[0mgen_stats\u001b[0m\u001b[1;33m(\u001b[0m\u001b[1;33m)\u001b[0m\u001b[1;33m\u001b[0m\u001b[0m\n\u001b[0;32m      5\u001b[0m \u001b[0mstatsdf\u001b[0m\u001b[1;33m[\u001b[0m\u001b[1;34m'idx'\u001b[0m\u001b[1;33m]\u001b[0m\u001b[1;33m=\u001b[0m\u001b[1;33m[\u001b[0m\u001b[0midx\u001b[0m\u001b[1;33m]\u001b[0m\u001b[1;33m*\u001b[0m\u001b[0mlen\u001b[0m\u001b[1;33m(\u001b[0m\u001b[0mstatsdf\u001b[0m\u001b[1;33m)\u001b[0m\u001b[1;33m\u001b[0m\u001b[0m\n",
        "\u001b[1;32m/home/kyle/anaconda/lib/python2.7/site-packages/hddm/models/hddm_info.pyc\u001b[0m in \u001b[0;36m__init__\u001b[1;34m(self, *args, **kwargs)\u001b[0m\n\u001b[0;32m    111\u001b[0m         \u001b[0mself\u001b[0m\u001b[1;33m.\u001b[0m\u001b[0mis_informative\u001b[0m \u001b[1;33m=\u001b[0m \u001b[0mkwargs\u001b[0m\u001b[1;33m.\u001b[0m\u001b[0mpop\u001b[0m\u001b[1;33m(\u001b[0m\u001b[1;34m'informative'\u001b[0m\u001b[1;33m,\u001b[0m \u001b[0mTrue\u001b[0m\u001b[1;33m)\u001b[0m\u001b[1;33m\u001b[0m\u001b[0m\n\u001b[0;32m    112\u001b[0m \u001b[1;33m\u001b[0m\u001b[0m\n\u001b[1;32m--> 113\u001b[1;33m         \u001b[0msuper\u001b[0m\u001b[1;33m(\u001b[0m\u001b[0mHDDM\u001b[0m\u001b[1;33m,\u001b[0m \u001b[0mself\u001b[0m\u001b[1;33m)\u001b[0m\u001b[1;33m.\u001b[0m\u001b[0m__init__\u001b[0m\u001b[1;33m(\u001b[0m\u001b[1;33m*\u001b[0m\u001b[0margs\u001b[0m\u001b[1;33m,\u001b[0m \u001b[1;33m**\u001b[0m\u001b[0mkwargs\u001b[0m\u001b[1;33m)\u001b[0m\u001b[1;33m\u001b[0m\u001b[0m\n\u001b[0m\u001b[0;32m    114\u001b[0m \u001b[1;33m\u001b[0m\u001b[0m\n\u001b[0;32m    115\u001b[0m     \u001b[1;32mdef\u001b[0m \u001b[0m_create_stochastic_knodes\u001b[0m\u001b[1;33m(\u001b[0m\u001b[0mself\u001b[0m\u001b[1;33m,\u001b[0m \u001b[0minclude\u001b[0m\u001b[1;33m)\u001b[0m\u001b[1;33m:\u001b[0m\u001b[1;33m\u001b[0m\u001b[0m\n",
        "\u001b[1;32m/home/kyle/anaconda/lib/python2.7/site-packages/hddm/models/base.pyc\u001b[0m in \u001b[0;36m__init__\u001b[1;34m(self, data, bias, include, wiener_params, p_outlier, **kwargs)\u001b[0m\n\u001b[0;32m    687\u001b[0m         \u001b[0mself\u001b[0m\u001b[1;33m.\u001b[0m\u001b[0mwfpt_class\u001b[0m \u001b[1;33m=\u001b[0m \u001b[0mhddm\u001b[0m\u001b[1;33m.\u001b[0m\u001b[0mlikelihoods\u001b[0m\u001b[1;33m.\u001b[0m\u001b[0mgenerate_wfpt_stochastic_class\u001b[0m\u001b[1;33m(\u001b[0m\u001b[0mwp\u001b[0m\u001b[1;33m,\u001b[0m \u001b[0mcdf_range\u001b[0m\u001b[1;33m=\u001b[0m\u001b[0mself\u001b[0m\u001b[1;33m.\u001b[0m\u001b[0mcdf_range\u001b[0m\u001b[1;33m)\u001b[0m\u001b[1;33m\u001b[0m\u001b[0m\n\u001b[0;32m    688\u001b[0m \u001b[1;33m\u001b[0m\u001b[0m\n\u001b[1;32m--> 689\u001b[1;33m         \u001b[0msuper\u001b[0m\u001b[1;33m(\u001b[0m\u001b[0mHDDMBase\u001b[0m\u001b[1;33m,\u001b[0m \u001b[0mself\u001b[0m\u001b[1;33m)\u001b[0m\u001b[1;33m.\u001b[0m\u001b[0m__init__\u001b[0m\u001b[1;33m(\u001b[0m\u001b[0mdata\u001b[0m\u001b[1;33m,\u001b[0m \u001b[1;33m**\u001b[0m\u001b[0mkwargs\u001b[0m\u001b[1;33m)\u001b[0m\u001b[1;33m\u001b[0m\u001b[0m\n\u001b[0m\u001b[0;32m    690\u001b[0m \u001b[1;33m\u001b[0m\u001b[0m\n\u001b[0;32m    691\u001b[0m     \u001b[1;32mdef\u001b[0m \u001b[0m__getstate__\u001b[0m\u001b[1;33m(\u001b[0m\u001b[0mself\u001b[0m\u001b[1;33m)\u001b[0m\u001b[1;33m:\u001b[0m\u001b[1;33m\u001b[0m\u001b[0m\n",
        "\u001b[1;32m/home/kyle/anaconda/lib/python2.7/site-packages/hddm/models/base.pyc\u001b[0m in \u001b[0;36m__init__\u001b[1;34m(self, data, **kwargs)\u001b[0m\n\u001b[0;32m     38\u001b[0m         \u001b[0mself\u001b[0m\u001b[1;33m.\u001b[0m\u001b[0mstd_depends\u001b[0m \u001b[1;33m=\u001b[0m \u001b[0mkwargs\u001b[0m\u001b[1;33m.\u001b[0m\u001b[0mpop\u001b[0m\u001b[1;33m(\u001b[0m\u001b[1;34m'std_depends'\u001b[0m\u001b[1;33m,\u001b[0m \u001b[0mFalse\u001b[0m\u001b[1;33m)\u001b[0m\u001b[1;33m\u001b[0m\u001b[0m\n\u001b[0;32m     39\u001b[0m \u001b[1;33m\u001b[0m\u001b[0m\n\u001b[1;32m---> 40\u001b[1;33m         \u001b[0msuper\u001b[0m\u001b[1;33m(\u001b[0m\u001b[0mAccumulatorModel\u001b[0m\u001b[1;33m,\u001b[0m \u001b[0mself\u001b[0m\u001b[1;33m)\u001b[0m\u001b[1;33m.\u001b[0m\u001b[0m__init__\u001b[0m\u001b[1;33m(\u001b[0m\u001b[0mdata\u001b[0m\u001b[1;33m,\u001b[0m \u001b[1;33m**\u001b[0m\u001b[0mkwargs\u001b[0m\u001b[1;33m)\u001b[0m\u001b[1;33m\u001b[0m\u001b[0m\n\u001b[0m\u001b[0;32m     41\u001b[0m \u001b[1;33m\u001b[0m\u001b[0m\n\u001b[0;32m     42\u001b[0m \u001b[1;33m\u001b[0m\u001b[0m\n",
        "\u001b[1;32m/home/kyle/anaconda/lib/python2.7/site-packages/kabuki/hierarchical.pyc\u001b[0m in \u001b[0;36m__init__\u001b[1;34m(self, data, is_group_model, depends_on, trace_subjs, plot_subjs, plot_var, group_only_nodes)\u001b[0m\n\u001b[0;32m    346\u001b[0m         \u001b[0mself\u001b[0m\u001b[1;33m.\u001b[0m\u001b[0mdb\u001b[0m \u001b[1;33m=\u001b[0m \u001b[0mNone\u001b[0m\u001b[1;33m\u001b[0m\u001b[0m\n\u001b[0;32m    347\u001b[0m \u001b[1;33m\u001b[0m\u001b[0m\n\u001b[1;32m--> 348\u001b[1;33m         \u001b[0mself\u001b[0m\u001b[1;33m.\u001b[0m\u001b[0m_setup_model\u001b[0m\u001b[1;33m(\u001b[0m\u001b[1;33m)\u001b[0m\u001b[1;33m\u001b[0m\u001b[0m\n\u001b[0m\u001b[0;32m    349\u001b[0m \u001b[1;33m\u001b[0m\u001b[0m\n\u001b[0;32m    350\u001b[0m     \u001b[1;32mdef\u001b[0m \u001b[0m_setup_model\u001b[0m\u001b[1;33m(\u001b[0m\u001b[0mself\u001b[0m\u001b[1;33m)\u001b[0m\u001b[1;33m:\u001b[0m\u001b[1;33m\u001b[0m\u001b[0m\n",
        "\u001b[1;32m/home/kyle/anaconda/lib/python2.7/site-packages/kabuki/hierarchical.pyc\u001b[0m in \u001b[0;36m_setup_model\u001b[1;34m(self)\u001b[0m\n\u001b[0;32m    357\u001b[0m \u001b[1;33m\u001b[0m\u001b[0m\n\u001b[0;32m    358\u001b[0m         \u001b[1;31m# constructs pymc nodes etc and connects them appropriately\u001b[0m\u001b[1;33m\u001b[0m\u001b[1;33m\u001b[0m\u001b[0m\n\u001b[1;32m--> 359\u001b[1;33m         \u001b[0mself\u001b[0m\u001b[1;33m.\u001b[0m\u001b[0mcreate_model\u001b[0m\u001b[1;33m(\u001b[0m\u001b[1;33m)\u001b[0m\u001b[1;33m\u001b[0m\u001b[0m\n\u001b[0m\u001b[0;32m    360\u001b[0m \u001b[1;33m\u001b[0m\u001b[0m\n\u001b[0;32m    361\u001b[0m     \u001b[1;32mdef\u001b[0m \u001b[0m__getstate__\u001b[0m\u001b[1;33m(\u001b[0m\u001b[0mself\u001b[0m\u001b[1;33m)\u001b[0m\u001b[1;33m:\u001b[0m\u001b[1;33m\u001b[0m\u001b[0m\n",
        "\u001b[1;32m/home/kyle/anaconda/lib/python2.7/site-packages/kabuki/hierarchical.pyc\u001b[0m in \u001b[0;36mcreate_model\u001b[1;34m(self, max_retries)\u001b[0m\n\u001b[0;32m    437\u001b[0m         \u001b[1;32melse\u001b[0m\u001b[1;33m:\u001b[0m\u001b[1;33m\u001b[0m\u001b[0m\n\u001b[0;32m    438\u001b[0m             \u001b[1;32mprint\u001b[0m \u001b[1;34m\"After %f retries, still no good fit found.\"\u001b[0m \u001b[1;33m%\u001b[0m\u001b[1;33m(\u001b[0m\u001b[0mtries\u001b[0m\u001b[1;33m)\u001b[0m\u001b[1;33m\u001b[0m\u001b[0m\n\u001b[1;32m--> 439\u001b[1;33m             \u001b[0m_create\u001b[0m\u001b[1;33m(\u001b[0m\u001b[1;33m)\u001b[0m\u001b[1;33m\u001b[0m\u001b[0m\n\u001b[0m\u001b[0;32m    440\u001b[0m \u001b[1;33m\u001b[0m\u001b[0m\n\u001b[0;32m    441\u001b[0m         \u001b[1;31m# create node container\u001b[0m\u001b[1;33m\u001b[0m\u001b[1;33m\u001b[0m\u001b[0m\n",
        "\u001b[1;32m/home/kyle/anaconda/lib/python2.7/site-packages/kabuki/hierarchical.pyc\u001b[0m in \u001b[0;36m_create\u001b[1;34m()\u001b[0m\n\u001b[0;32m    427\u001b[0m         \u001b[1;32mdef\u001b[0m \u001b[0m_create\u001b[0m\u001b[1;33m(\u001b[0m\u001b[1;33m)\u001b[0m\u001b[1;33m:\u001b[0m\u001b[1;33m\u001b[0m\u001b[0m\n\u001b[0;32m    428\u001b[0m             \u001b[1;32mfor\u001b[0m \u001b[0mknode\u001b[0m \u001b[1;32min\u001b[0m \u001b[0mself\u001b[0m\u001b[1;33m.\u001b[0m\u001b[0mknodes\u001b[0m\u001b[1;33m:\u001b[0m\u001b[1;33m\u001b[0m\u001b[0m\n\u001b[1;32m--> 429\u001b[1;33m                 \u001b[0mknode\u001b[0m\u001b[1;33m.\u001b[0m\u001b[0mcreate\u001b[0m\u001b[1;33m(\u001b[0m\u001b[1;33m)\u001b[0m\u001b[1;33m\u001b[0m\u001b[0m\n\u001b[0m\u001b[0;32m    430\u001b[0m \u001b[1;33m\u001b[0m\u001b[0m\n\u001b[0;32m    431\u001b[0m         \u001b[1;32mfor\u001b[0m \u001b[0mtries\u001b[0m \u001b[1;32min\u001b[0m \u001b[0mrange\u001b[0m\u001b[1;33m(\u001b[0m\u001b[0mmax_retries\u001b[0m\u001b[1;33m)\u001b[0m\u001b[1;33m:\u001b[0m\u001b[1;33m\u001b[0m\u001b[0m\n",
        "\u001b[1;32m/home/kyle/anaconda/lib/python2.7/site-packages/kabuki/hierarchical.pyc\u001b[0m in \u001b[0;36mcreate\u001b[1;34m(self)\u001b[0m\n\u001b[0;32m    166\u001b[0m                 \u001b[0mkwargs\u001b[0m\u001b[1;33m[\u001b[0m\u001b[1;34m'doc'\u001b[0m\u001b[1;33m]\u001b[0m \u001b[1;33m=\u001b[0m \u001b[0mnode_name\u001b[0m\u001b[1;33m\u001b[0m\u001b[0m\n\u001b[0;32m    167\u001b[0m \u001b[1;33m\u001b[0m\u001b[0m\n\u001b[1;32m--> 168\u001b[1;33m             \u001b[0mnode\u001b[0m \u001b[1;33m=\u001b[0m \u001b[0mself\u001b[0m\u001b[1;33m.\u001b[0m\u001b[0mcreate_node\u001b[0m\u001b[1;33m(\u001b[0m\u001b[0mnode_name\u001b[0m\u001b[1;33m,\u001b[0m \u001b[0mkwargs\u001b[0m\u001b[1;33m,\u001b[0m \u001b[0mgrouped_data\u001b[0m\u001b[1;33m)\u001b[0m\u001b[1;33m\u001b[0m\u001b[0m\n\u001b[0m\u001b[0;32m    169\u001b[0m \u001b[1;33m\u001b[0m\u001b[0m\n\u001b[0;32m    170\u001b[0m             \u001b[1;32mif\u001b[0m \u001b[0mnode\u001b[0m \u001b[1;32mis\u001b[0m \u001b[1;32mnot\u001b[0m \u001b[0mNone\u001b[0m\u001b[1;33m:\u001b[0m\u001b[1;33m\u001b[0m\u001b[0m\n",
        "\u001b[1;32m/home/kyle/anaconda/lib/python2.7/site-packages/kabuki/hierarchical.pyc\u001b[0m in \u001b[0;36mcreate_node\u001b[1;34m(self, node_name, kwargs, data)\u001b[0m\n\u001b[0;32m    174\u001b[0m     \u001b[1;32mdef\u001b[0m \u001b[0mcreate_node\u001b[0m\u001b[1;33m(\u001b[0m\u001b[0mself\u001b[0m\u001b[1;33m,\u001b[0m \u001b[0mnode_name\u001b[0m\u001b[1;33m,\u001b[0m \u001b[0mkwargs\u001b[0m\u001b[1;33m,\u001b[0m \u001b[0mdata\u001b[0m\u001b[1;33m)\u001b[0m\u001b[1;33m:\u001b[0m\u001b[1;33m\u001b[0m\u001b[0m\n\u001b[0;32m    175\u001b[0m         \u001b[1;31m#actually create the node\u001b[0m\u001b[1;33m\u001b[0m\u001b[1;33m\u001b[0m\u001b[0m\n\u001b[1;32m--> 176\u001b[1;33m         \u001b[1;32mreturn\u001b[0m \u001b[0mself\u001b[0m\u001b[1;33m.\u001b[0m\u001b[0mpymc_node\u001b[0m\u001b[1;33m(\u001b[0m\u001b[0mname\u001b[0m\u001b[1;33m=\u001b[0m\u001b[0mnode_name\u001b[0m\u001b[1;33m,\u001b[0m \u001b[1;33m**\u001b[0m\u001b[0mkwargs\u001b[0m\u001b[1;33m)\u001b[0m\u001b[1;33m\u001b[0m\u001b[0m\n\u001b[0m\u001b[0;32m    177\u001b[0m \u001b[1;33m\u001b[0m\u001b[0m\n\u001b[0;32m    178\u001b[0m     \u001b[1;32mdef\u001b[0m \u001b[0mcreate_tag_and_subj_idx\u001b[0m\u001b[1;33m(\u001b[0m\u001b[0mself\u001b[0m\u001b[1;33m,\u001b[0m \u001b[0mcols\u001b[0m\u001b[1;33m,\u001b[0m \u001b[0muniq_elem\u001b[0m\u001b[1;33m)\u001b[0m\u001b[1;33m:\u001b[0m\u001b[1;33m\u001b[0m\u001b[0m\n",
        "\u001b[1;32m/home/kyle/anaconda/lib/python2.7/site-packages/pymc/distributions.pyc\u001b[0m in \u001b[0;36m__init__\u001b[1;34m(self, *args, **kwds)\u001b[0m\n\u001b[0;32m    316\u001b[0m                     \u001b[0mlogp_partial_gradients\u001b[0m\u001b[1;33m=\u001b[0m\u001b[0mlogp_partial_gradients\u001b[0m\u001b[1;33m,\u001b[0m\u001b[1;33m\u001b[0m\u001b[0m\n\u001b[0;32m    317\u001b[0m                     \u001b[0mdtype\u001b[0m\u001b[1;33m=\u001b[0m\u001b[0mdtype\u001b[0m\u001b[1;33m,\u001b[0m\u001b[1;33m\u001b[0m\u001b[0m\n\u001b[1;32m--> 318\u001b[1;33m                     **arg_dict_out)\n\u001b[0m\u001b[0;32m    319\u001b[0m \u001b[1;33m\u001b[0m\u001b[0m\n\u001b[0;32m    320\u001b[0m     \u001b[0mnew_class\u001b[0m\u001b[1;33m.\u001b[0m\u001b[0m__name__\u001b[0m \u001b[1;33m=\u001b[0m \u001b[0mname\u001b[0m\u001b[1;33m\u001b[0m\u001b[0m\n",
        "\u001b[1;32m/home/kyle/anaconda/lib/python2.7/site-packages/pymc/PyMCObjects.pyc\u001b[0m in \u001b[0;36m__init__\u001b[1;34m(self, logp, doc, name, parents, random, trace, value, dtype, rseed, observed, cache_depth, plot, verbose, isdata, check_logp, logp_partial_gradients)\u001b[0m\n\u001b[0;32m    770\u001b[0m         \u001b[1;32mif\u001b[0m \u001b[0mcheck_logp\u001b[0m\u001b[1;33m:\u001b[0m\u001b[1;33m\u001b[0m\u001b[0m\n\u001b[0;32m    771\u001b[0m             \u001b[1;31m# Check initial value\u001b[0m\u001b[1;33m\u001b[0m\u001b[1;33m\u001b[0m\u001b[0m\n\u001b[1;32m--> 772\u001b[1;33m             \u001b[1;32mif\u001b[0m \u001b[1;32mnot\u001b[0m \u001b[0misinstance\u001b[0m\u001b[1;33m(\u001b[0m\u001b[0mself\u001b[0m\u001b[1;33m.\u001b[0m\u001b[0mlogp\u001b[0m\u001b[1;33m,\u001b[0m \u001b[0mfloat\u001b[0m\u001b[1;33m)\u001b[0m\u001b[1;33m:\u001b[0m\u001b[1;33m\u001b[0m\u001b[0m\n\u001b[0m\u001b[0;32m    773\u001b[0m                 raise ValueError(\n\u001b[0;32m    774\u001b[0m                     \u001b[1;34m\"Stochastic \"\u001b[0m \u001b[1;33m+\u001b[0m\u001b[1;33m\u001b[0m\u001b[0m\n",
        "\u001b[1;32m/home/kyle/anaconda/lib/python2.7/site-packages/pymc/PyMCObjects.pyc\u001b[0m in \u001b[0;36mget_logp\u001b[1;34m(self)\u001b[0m\n\u001b[0;32m    927\u001b[0m                     (self._value, self._parents.value))\n\u001b[0;32m    928\u001b[0m             \u001b[1;32melse\u001b[0m\u001b[1;33m:\u001b[0m\u001b[1;33m\u001b[0m\u001b[0m\n\u001b[1;32m--> 929\u001b[1;33m                 \u001b[1;32mraise\u001b[0m \u001b[0mZeroProbability\u001b[0m\u001b[1;33m(\u001b[0m\u001b[0mself\u001b[0m\u001b[1;33m.\u001b[0m\u001b[0merrmsg\u001b[0m\u001b[1;33m)\u001b[0m\u001b[1;33m\u001b[0m\u001b[0m\n\u001b[0m\u001b[0;32m    930\u001b[0m \u001b[1;33m\u001b[0m\u001b[0m\n\u001b[0;32m    931\u001b[0m         \u001b[1;32mreturn\u001b[0m \u001b[0mlogp\u001b[0m\u001b[1;33m\u001b[0m\u001b[0m\n",
        "\u001b[1;31mZeroProbability\u001b[0m: Stochastic wfpt(bsl).39's value is outside its support,\n or it forbids its parents' current values."
       ]
      }
     ],
     "prompt_number": 22
    }
   ],
   "metadata": {}
  }
 ]
}