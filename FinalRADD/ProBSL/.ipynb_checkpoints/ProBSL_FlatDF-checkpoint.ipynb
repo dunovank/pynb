{
 "metadata": {
  "name": "",
  "signature": "sha256:ecb1d03049bbefefb1ad486dcdc8436d7fd9f5323b8976e1928f4099049b8529"
 },
 "nbformat": 3,
 "nbformat_minor": 0,
 "worksheets": [
  {
   "cells": [
    {
     "cell_type": "heading",
     "level": 1,
     "metadata": {},
     "source": [
      "Single SX Pro-BSL DATA NESTED FITS "
     ]
    },
    {
     "cell_type": "code",
     "collapsed": false,
     "input": [
      "from __future__ import division\n",
      "import pandas as pd\n",
      "from radd import utils, xopt, psy, ss, simfx\n",
      "from lmfit import Parameters, Minimizer\n",
      "import seaborn as sns\n",
      "import os"
     ],
     "language": "python",
     "metadata": {},
     "outputs": [],
     "prompt_number": 1
    },
    {
     "cell_type": "heading",
     "level": 3,
     "metadata": {},
     "source": [
      "Load in data"
     ]
    },
    {
     "cell_type": "code",
     "collapsed": false,
     "input": [
      "pth=utils.find_path()\n",
      "prodf=pd.read_csv(pth+\"DataFiles/ProBSL_AllData.csv\", index_col=0)"
     ],
     "language": "python",
     "metadata": {},
     "outputs": [],
     "prompt_number": 37
    },
    {
     "cell_type": "code",
     "collapsed": false,
     "input": [
      "print prodf.rt.max()\n",
      "bsl=prodf.copy()\n",
      "bsl.head()"
     ],
     "language": "python",
     "metadata": {},
     "outputs": [
      {
       "output_type": "stream",
       "stream": "stdout",
       "text": [
        "0.5599846\n"
       ]
      },
      {
       "html": [
        "<div style=\"max-height:1000px;max-width:1500px;overflow:auto;\">\n",
        "<table border=\"1\" class=\"dataframe\">\n",
        "  <thead>\n",
        "    <tr style=\"text-align: right;\">\n",
        "      <th></th>\n",
        "      <th>subj_idx</th>\n",
        "      <th>pGo</th>\n",
        "      <th>HiLo</th>\n",
        "      <th>HML</th>\n",
        "      <th>Cond</th>\n",
        "      <th>response</th>\n",
        "      <th>choice</th>\n",
        "      <th>rt</th>\n",
        "    </tr>\n",
        "  </thead>\n",
        "  <tbody>\n",
        "    <tr>\n",
        "      <th>0</th>\n",
        "      <td> 28</td>\n",
        "      <td> 1</td>\n",
        "      <td> aHi</td>\n",
        "      <td> bHi</td>\n",
        "      <td> bsl</td>\n",
        "      <td> 1</td>\n",
        "      <td> go</td>\n",
        "      <td> 0.479849</td>\n",
        "    </tr>\n",
        "    <tr>\n",
        "      <th>1</th>\n",
        "      <td> 28</td>\n",
        "      <td> 1</td>\n",
        "      <td> aHi</td>\n",
        "      <td> bHi</td>\n",
        "      <td> bsl</td>\n",
        "      <td> 1</td>\n",
        "      <td> go</td>\n",
        "      <td> 0.371613</td>\n",
        "    </tr>\n",
        "    <tr>\n",
        "      <th>2</th>\n",
        "      <td> 28</td>\n",
        "      <td> 1</td>\n",
        "      <td> aHi</td>\n",
        "      <td> bHi</td>\n",
        "      <td> bsl</td>\n",
        "      <td> 1</td>\n",
        "      <td> go</td>\n",
        "      <td> 0.504975</td>\n",
        "    </tr>\n",
        "    <tr>\n",
        "      <th>3</th>\n",
        "      <td> 28</td>\n",
        "      <td> 1</td>\n",
        "      <td> aHi</td>\n",
        "      <td> bHi</td>\n",
        "      <td> bsl</td>\n",
        "      <td> 1</td>\n",
        "      <td> go</td>\n",
        "      <td> 0.518304</td>\n",
        "    </tr>\n",
        "    <tr>\n",
        "      <th>4</th>\n",
        "      <td> 28</td>\n",
        "      <td> 1</td>\n",
        "      <td> aHi</td>\n",
        "      <td> bHi</td>\n",
        "      <td> bsl</td>\n",
        "      <td> 1</td>\n",
        "      <td> go</td>\n",
        "      <td> 0.491720</td>\n",
        "    </tr>\n",
        "  </tbody>\n",
        "</table>\n",
        "</div>"
       ],
       "metadata": {},
       "output_type": "pyout",
       "prompt_number": 38,
       "text": [
        "   subj_idx  pGo HiLo  HML Cond  response choice        rt\n",
        "0        28    1  aHi  bHi  bsl         1     go  0.479849\n",
        "1        28    1  aHi  bHi  bsl         1     go  0.371613\n",
        "2        28    1  aHi  bHi  bsl         1     go  0.504975\n",
        "3        28    1  aHi  bHi  bsl         1     go  0.518304\n",
        "4        28    1  aHi  bHi  bsl         1     go  0.491720"
       ]
      }
     ],
     "prompt_number": 38
    },
    {
     "cell_type": "heading",
     "level": 3,
     "metadata": {},
     "source": [
      "Generate list of Arrays: Array([PStop, RT]) For each P(Go) Cond"
     ]
    },
    {
     "cell_type": "code",
     "collapsed": false,
     "input": [
      "ydata=[[ss.anl(pgdf, task='ssPro').values] for pg, pgdf in bsl.groupby('pGo')]\n",
      "ydata"
     ],
     "language": "python",
     "metadata": {},
     "outputs": [
      {
       "metadata": {},
       "output_type": "pyout",
       "prompt_number": 39,
       "text": [
        "[[array([ 0.9307377 ,  0.53586991])],\n",
        " [array([ 0.74385246,  0.54274035])],\n",
        " [array([ 0.47131148,  0.54323684])],\n",
        " [array([ 0.24016393,  0.54257609])],\n",
        " [array([ 0.03442623,  0.53295816])],\n",
        " [array([ 0.00431406,  0.52926352])]]"
       ]
      }
     ],
     "prompt_number": 39
    },
    {
     "cell_type": "heading",
     "level": 3,
     "metadata": {},
     "source": [
      "Define Initial Parameter Values (Optimal Sx Params For ReBSL)"
     ]
    },
    {
     "cell_type": "code",
     "collapsed": false,
     "input": [
      "paramdf=pd.read_csv(pth+\"ParamFiles/ProBSL_HDDM_Params.csv\", index_col='subj_idx')\n",
      "paramdf.mean()"
     ],
     "language": "python",
     "metadata": {},
     "outputs": [
      {
       "metadata": {},
       "output_type": "pyout",
       "prompt_number": 40,
       "text": [
        "a        0.587949\n",
        "sv       0.152657\n",
        "t        0.283810\n",
        "v(Hi)    1.764527\n",
        "v(Lo)    1.694095\n",
        "z        0.171622\n",
        "ssv      0.977018\n",
        "dtype: float64"
       ]
      }
     ],
     "prompt_number": 40
    },
    {
     "cell_type": "heading",
     "level": 3,
     "metadata": {},
     "source": [
      "Fit Single Sx - RePNL Nested Model (RADD)"
     ]
    },
    {
     "cell_type": "code",
     "collapsed": false,
     "input": [
      "xopt=reload(xopt); simfx=reload(simfx); ss=reload(ss)\n",
      "xopt=reload(xopt); simfx=reload(simfx); ss=reload(ss)\n",
      "\n",
      "\n",
      "pgo_list=[0.0, 0.2, 0.4, 0.6, 0.8, 1.0]\n",
      "pb=utils.PBinJ(len(pgo_list), color=\"#009B76\")\n",
      "os.chdir(utils.find_path()+\"OptAccRT/ProBSL_Flat/\")\n",
      "popt_df=pd.DataFrame(columns=['v', 'z', 't', 'a', 'sv'])\n",
      "ntrials=1000; depHyper=True\n",
      "\n",
      "pstop_residuals=[]; pstop_radd=[]; rt_residuals=[]\n",
      "rt_radd=[]; chi_list=[]; vlist=[]\n",
      "    \n",
      "ydata={pg: ss.anl(bsl[bsl['pGo']==pg], task='ssPro').values for pg in pgo_list}\n",
      "rt_data=[ydata[pg][1] for pg in pgo_list]\n",
      "pstop_data=[ydata[pg][0] for pg in pgo_list]\n",
      "\n",
      "theta=paramdf.mean().to_dict()\n",
      "constants=paramdf.mean().to_dict()\n",
      "\n",
      "del constants['v(Hi)']\n",
      "del constants['v(Lo)']\n",
      "theta['ssd']=.450\n",
      "theta['eta']=theta['sv']\n",
      "theta['si']=.01\n",
      "for i, pg in enumerate(pgo_list):    \n",
      "    \n",
      "    #update data\n",
      "    \n",
      "    pstop=pstop_data[i]\n",
      "    rt=rt_data[i]\n",
      "    \n",
      "    if pg<=0.0 or pstop>=1.0:\n",
      "        y=pstop\n",
      "    else:\n",
      "        y=[pstop,rt]\n",
      "\n",
      "    if pg>=.5:\n",
      "        vinit=theta['v(Hi)']\n",
      "    else:\n",
      "        vinit=theta['v(Lo)']\n",
      "\n",
      "    theta['pGo']=pg\n",
      "    \n",
      "    vID=\"v\"+str(int(pg*100))\n",
      "    \n",
      "    p=Parameters()\n",
      "    p.add('v', value=vinit, min=0.0, vary=True)\n",
      "    #p.add('a', value=theta['a'], min=.001, vary=True)\n",
      "    #p.add('z', value=theta['z'], min=.001, vary=True)\n",
      "    #p.add('t', value=theta['t'], min=.001, vary=True)\n",
      "    #p.add('eta', value=theta['sv'], min=.001, vary=True)\n",
      "    #Simplex Minimization\n",
      "    popt = Minimizer(xopt.sspro_accrt_minfunc, p, fcn_args=(theta, y, ntrials), \n",
      "                     fcn_kws={'fitting_all':False, 'depHyper':False}, method='Nelder-Mead') \n",
      "    popt.fmin(maxfun=1000, ftol=1.e-2, xtol=1.e-3, full_output=True, disp=True)      \n",
      "\n",
      "    #store fit results\n",
      "    chi_list.append(popt.chisqr)\n",
      "    vlist.append(p['v'].value)\n",
      "\n",
      "    if not hasattr(y, 'insert'):\n",
      "\n",
      "        pstop_residuals.append(popt.residual)\n",
      "        pstop_radd.append(pstop+popt.residual)\n",
      "\n",
      "        rt_residuals.append(\"na\")\n",
      "        rt_radd.append(\"na\")\n",
      "\n",
      "    else:\n",
      "\n",
      "        pstop_residuals.append(popt.residual[0])\n",
      "        pstop_radd.append(pstop+popt.residual[0])\n",
      "\n",
      "        rtscaled=rt_data[i]*10\n",
      "        rt_pred=(rtscaled+popt.residual[1])/10\n",
      "        rt_residuals.append(popt.residual[1])\n",
      "        rt_radd.append(rt_pred)\n",
      "    pb.update_i(i)\n",
      "    \n",
      "print \"-\"*100\n",
      "pb.update_i(i)\n",
      "flat_pred=pd.DataFrame.from_dict({'pGo':pgo_list, 'v':vlist, 'pstop_data':pstop_data, \n",
      "                                  'pstop_residuals':pstop_residuals, 'rt_residuals': rt_residuals,\n",
      "                                  'pstop_radd':pstop_radd, 'rt_data':rt_data, 'rt_radd':rt_radd, \n",
      "                                  'chi':chi_list}, orient='columns')\n",
      "\n",
      "flat_pred.to_csv(\"ProBSL_FlatFits.csv\")"
     ],
     "language": "python",
     "metadata": {},
     "outputs": [
      {
       "html": [
        "\n",
        "\t    <div style=\"border: 1px solid black; width:500px\">\n",
        "\t    <div id=\"bbb0df5e-4c04-48ee-bc23-9338cd6f4ffc\" style=\"background-color:#009B76; width:0%\">&nbsp;</div>\n",
        "\t    </div> \n",
        "\t    "
       ],
       "metadata": {},
       "output_type": "display_data",
       "text": [
        "<IPython.core.display.HTML at 0x7fc8a1374810>"
       ]
      },
      {
       "output_type": "stream",
       "stream": "stdout",
       "text": [
        "0.542782445848\n",
        "0.708522363881"
       ]
      },
      {
       "output_type": "stream",
       "stream": "stdout",
       "text": [
        "\n",
        "0.301113068799"
       ]
      },
      {
       "output_type": "stream",
       "stream": "stdout",
       "text": [
        "\n",
        "0.1265493147"
       ]
      },
      {
       "output_type": "stream",
       "stream": "stdout",
       "text": [
        "\n",
        "0.00345011797904"
       ]
      },
      {
       "output_type": "stream",
       "stream": "stdout",
       "text": [
        "\n",
        "0.00204867535609"
       ]
      },
      {
       "output_type": "stream",
       "stream": "stdout",
       "text": [
        "\n",
        "0.00465974092986"
       ]
      },
      {
       "output_type": "stream",
       "stream": "stdout",
       "text": [
        "\n",
        "0.00479726552002"
       ]
      },
      {
       "output_type": "stream",
       "stream": "stdout",
       "text": [
        "\n",
        "0.00288774092986"
       ]
      },
      {
       "output_type": "stream",
       "stream": "stdout",
       "text": [
        "\n",
        "0.00465974092986"
       ]
      },
      {
       "output_type": "stream",
       "stream": "stdout",
       "text": [
        "\n",
        "0.000495609782317"
       ]
      },
      {
       "output_type": "stream",
       "stream": "stdout",
       "text": [
        "\n",
        "0.00267679011019"
       ]
      },
      {
       "output_type": "stream",
       "stream": "stdout",
       "text": [
        "\n",
        "0.000856281913464"
       ]
      },
      {
       "output_type": "stream",
       "stream": "stdout",
       "text": [
        "\n",
        "1.59338887396e-06"
       ]
      },
      {
       "output_type": "stream",
       "stream": "stdout",
       "text": [
        "\n",
        "0.00247383929051"
       ]
      },
      {
       "output_type": "stream",
       "stream": "stdout",
       "text": [
        "\n",
        "0.00345011797904"
       ]
      },
      {
       "output_type": "stream",
       "stream": "stdout",
       "text": [
        "\n",
        "0.000162249126579"
       ]
      },
      {
       "output_type": "stream",
       "stream": "stdout",
       "text": [
        "\n",
        "0.000714904864284"
       ]
      },
      {
       "output_type": "stream",
       "stream": "stdout",
       "text": [
        "\n",
        "9.48228970707e-05"
       ]
      },
      {
       "output_type": "stream",
       "stream": "stdout",
       "text": [
        "\n",
        "0.000389576995431"
       ]
      },
      {
       "output_type": "stream",
       "stream": "stdout",
       "text": [
        "\n",
        "5.11797903789e-06"
       ]
      },
      {
       "output_type": "stream",
       "stream": "stdout",
       "text": [
        "\n",
        "0.000314626175759"
       ]
      },
      {
       "output_type": "stream",
       "stream": "stdout",
       "text": [
        "\n",
        "9.48228970707e-05"
       ]
      },
      {
       "output_type": "stream",
       "stream": "stdout",
       "text": [
        "\n",
        "5.4420854609e-07"
       ]
      },
      {
       "output_type": "stream",
       "stream": "stdout",
       "text": [
        "\n",
        "0.000188724536415"
       ]
      },
      {
       "output_type": "stream",
       "stream": "stdout",
       "text": [
        "\n",
        "0.00076938027412"
       ]
      },
      {
       "output_type": "stream",
       "stream": "stdout",
       "text": [
        "\n",
        "0.000162249126579"
       ]
      },
      {
       "output_type": "stream",
       "stream": "stdout",
       "text": [
        "\n",
        "0.00051700322494"
       ]
      },
      {
       "output_type": "stream",
       "stream": "stdout",
       "text": [
        "\n",
        "0.00113823273314"
       ]
      },
      {
       "output_type": "stream",
       "stream": "stdout",
       "text": [
        "\n",
        "2.24458478904e-05"
       ]
      },
      {
       "output_type": "stream",
       "stream": "stdout",
       "text": [
        "\n",
        "Optimization terminated successfully.\n",
        "         Current function value: 0.000001\n",
        "         Iterations: 13\n",
        "         Function evaluations: 30\n",
        "0.000150363880677"
       ]
      },
      {
       "output_type": "stream",
       "stream": "stdout",
       "text": [
        "\n"
       ]
      },
      {
       "javascript": [
        "$('div#bbb0df5e-4c04-48ee-bc23-9338cd6f4ffc').width('0.00%')"
       ],
       "metadata": {},
       "output_type": "display_data",
       "text": [
        "<IPython.core.display.Javascript at 0x7fc8a1095590>"
       ]
      },
      {
       "output_type": "stream",
       "stream": "stdout",
       "text": [
        "[-0.55385245901639335, -0.23735643221557989]\n",
        "[-0.64885245901639343, -0.33335677325642799]"
       ]
      },
      {
       "output_type": "stream",
       "stream": "stdout",
       "text": [
        "\n",
        "[-0.38185245901639342, -0.15350767645878527]"
       ]
      },
      {
       "output_type": "stream",
       "stream": "stdout",
       "text": [
        "\n",
        "[-0.17385245901639346, -0.12426053787163216]"
       ]
      },
      {
       "output_type": "stream",
       "stream": "stdout",
       "text": [
        "\n",
        "[0.15014754098360661, -0.071099502329732722]"
       ]
      },
      {
       "output_type": "stream",
       "stream": "stdout",
       "text": [
        "\n",
        "[0.23514754098360657, -0.0014499066424091822]"
       ]
      },
      {
       "output_type": "stream",
       "stream": "stdout",
       "text": [
        "\n",
        "[0.24214754098360658, -0.00073562092812284874]"
       ]
      },
      {
       "output_type": "stream",
       "stream": "stdout",
       "text": [
        "\n",
        "[-0.0068524590163934196, -0.043584616039471946]"
       ]
      },
      {
       "output_type": "stream",
       "stream": "stdout",
       "text": [
        "\n",
        "[-0.16885245901639345, -0.11873057891130401]"
       ]
      },
      {
       "output_type": "stream",
       "stream": "stdout",
       "text": [
        "\n",
        "[0.093147540983606558, -0.056086190603839015]"
       ]
      },
      {
       "output_type": "stream",
       "stream": "stdout",
       "text": [
        "\n",
        "[-0.065852459016393361, -0.083623819685878509]"
       ]
      },
      {
       "output_type": "stream",
       "stream": "stdout",
       "text": [
        "\n",
        "[-0.038852459016393448, -0.061696880008021537]"
       ]
      },
      {
       "output_type": "stream",
       "stream": "stdout",
       "text": [
        "\n",
        "[0.045147540983606627, -0.047861551869215369]"
       ]
      },
      {
       "output_type": "stream",
       "stream": "stdout",
       "text": [
        "\n",
        "[0.006147540983606592, -0.068187049499545793]"
       ]
      },
      {
       "output_type": "stream",
       "stream": "stdout",
       "text": [
        "\n",
        "[-0.002852459016393416, -0.060484655677152332]"
       ]
      },
      {
       "output_type": "stream",
       "stream": "stdout",
       "text": [
        "\n",
        "[0.0011475409836065875, -0.059797245577977165]"
       ]
      },
      {
       "output_type": "stream",
       "stream": "stdout",
       "text": [
        "\n",
        "[0.0091475409836065946, -0.066493284317358459]"
       ]
      },
      {
       "output_type": "stream",
       "stream": "stdout",
       "text": [
        "\n",
        "[-0.014852459016393427, -0.06796018603091003]"
       ]
      },
      {
       "output_type": "stream",
       "stream": "stdout",
       "text": [
        "\n",
        "[-0.0088524590163934214, -0.087967426858032383]"
       ]
      },
      {
       "output_type": "stream",
       "stream": "stdout",
       "text": [
        "\n",
        "[0.017147540983606602, -0.054307049499547233]"
       ]
      },
      {
       "output_type": "stream",
       "stream": "stdout",
       "text": [
        "\n",
        "[-0.030852459016393441, -0.086815760300936518]"
       ]
      },
      {
       "output_type": "stream",
       "stream": "stdout",
       "text": [
        "\n",
        "[0.019147540983606604, -0.058906205617688556]"
       ]
      },
      {
       "output_type": "stream",
       "stream": "stdout",
       "text": [
        "\n",
        "[-0.015852459016393428, -0.032358520087784726]"
       ]
      },
      {
       "output_type": "stream",
       "stream": "stdout",
       "text": [
        "\n",
        "[0.012147540983606597, -0.063856229827415234]"
       ]
      },
      {
       "output_type": "stream",
       "stream": "stdout",
       "text": [
        "\n",
        "[0.0041475409836065902, -0.063949906642401189]"
       ]
      },
      {
       "output_type": "stream",
       "stream": "stdout",
       "text": [
        "\n",
        "[0.0041475409836065902, -0.086489589182082938]"
       ]
      },
      {
       "output_type": "stream",
       "stream": "stdout",
       "text": [
        "\n",
        "Optimization terminated successfully.\n",
        "         Current function value: 0.001298\n",
        "         Iterations: 11\n",
        "         Function evaluations: 26\n",
        "[-0.026852459016393437, -0.05685121911085389]"
       ]
      },
      {
       "output_type": "stream",
       "stream": "stdout",
       "text": [
        "\n"
       ]
      },
      {
       "javascript": [
        "$('div#bbb0df5e-4c04-48ee-bc23-9338cd6f4ffc').width('16.67%')"
       ],
       "metadata": {},
       "output_type": "display_data",
       "text": [
        "<IPython.core.display.Javascript at 0x7fc8a0cd6950>"
       ]
      },
      {
       "output_type": "stream",
       "stream": "stdout",
       "text": [
        "[-0.27031147540983608, -0.25397790883851723]\n",
        "[-0.3633114754098361, -0.33893570361561309]"
       ]
      },
      {
       "output_type": "stream",
       "stream": "stdout",
       "text": [
        "\n",
        "[-0.08631147540983608, -0.17273544111972772]"
       ]
      },
      {
       "output_type": "stream",
       "stream": "stdout",
       "text": [
        "\n",
        "[0.084688524590163961, -0.10400175621531815]"
       ]
      },
      {
       "output_type": "stream",
       "stream": "stdout",
       "text": [
        "\n",
        "[0.3906885245901639, -0.041953185905883927]"
       ]
      },
      {
       "output_type": "stream",
       "stream": "stdout",
       "text": [
        "\n",
        "[-0.099311475409836092, -0.164606421390042]"
       ]
      },
      {
       "output_type": "stream",
       "stream": "stdout",
       "text": [
        "\n",
        "[0.2706885245901639, -0.036520088501099224]"
       ]
      },
      {
       "output_type": "stream",
       "stream": "stdout",
       "text": [
        "\n",
        "[0.008688524590163893, -0.13604125725481531]"
       ]
      },
      {
       "output_type": "stream",
       "stream": "stdout",
       "text": [
        "\n",
        "[0.17968852459016393, -0.080905264307941316]"
       ]
      },
      {
       "output_type": "stream",
       "stream": "stdout",
       "text": [
        "\n",
        "[0.035688524590163917, -0.12659454169856765]"
       ]
      },
      {
       "output_type": "stream",
       "stream": "stdout",
       "text": [
        "\n",
        "[0.013688524590163897, -0.14280600706810809]"
       ]
      },
      {
       "output_type": "stream",
       "stream": "stdout",
       "text": [
        "\n",
        "[0.08368852459016396, -0.11001359951929679]"
       ]
      },
      {
       "output_type": "stream",
       "stream": "stdout",
       "text": [
        "\n",
        "[0.087688524590163963, -0.12979356843569967]"
       ]
      },
      {
       "output_type": "stream",
       "stream": "stdout",
       "text": [
        "\n",
        "[0.026688524590163909, -0.14048716592781485]"
       ]
      },
      {
       "output_type": "stream",
       "stream": "stdout",
       "text": [
        "\n",
        "[-0.0033114754098360621, -0.14649007159836636]"
       ]
      },
      {
       "output_type": "stream",
       "stream": "stdout",
       "text": [
        "\n",
        "[0.052688524590163932, -0.11107874917466365]"
       ]
      },
      {
       "output_type": "stream",
       "stream": "stdout",
       "text": [
        "\n",
        "[0.098688524590163862, -0.13264411950884103]"
       ]
      },
      {
       "output_type": "stream",
       "stream": "stdout",
       "text": [
        "\n",
        "[0.041688524590163922, -0.1166026219681342]"
       ]
      },
      {
       "output_type": "stream",
       "stream": "stdout",
       "text": [
        "\n",
        "[0.042688524590163923, -0.12056832278188345]"
       ]
      },
      {
       "output_type": "stream",
       "stream": "stdout",
       "text": [
        "\n",
        "[0.049688524590163929, -0.11685031458579598]"
       ]
      },
      {
       "output_type": "stream",
       "stream": "stdout",
       "text": [
        "\n",
        "[0.067688524590163945, -0.13083384861140068]"
       ]
      },
      {
       "output_type": "stream",
       "stream": "stdout",
       "text": [
        "\n",
        "[0.05068852459016393, -0.1047741185357971]"
       ]
      },
      {
       "output_type": "stream",
       "stream": "stdout",
       "text": [
        "\n",
        "[0.054688524590163934, -0.13330156235056378]"
       ]
      },
      {
       "output_type": "stream",
       "stream": "stdout",
       "text": [
        "\n",
        "[0.067688524590163945, -0.1150203995875394]"
       ]
      },
      {
       "output_type": "stream",
       "stream": "stdout",
       "text": [
        "\n",
        "[0.071688524590163949, -0.11970966324707533]"
       ]
      },
      {
       "output_type": "stream",
       "stream": "stdout",
       "text": [
        "\n",
        "[0.11568852459016388, -0.13656016207880572]"
       ]
      },
      {
       "output_type": "stream",
       "stream": "stdout",
       "text": [
        "\n",
        "[0.064688524590163943, -0.1160608195890358]"
       ]
      },
      {
       "output_type": "stream",
       "stream": "stdout",
       "text": [
        "\n",
        "[0.055688524590163935, -0.11352149794436173]"
       ]
      },
      {
       "output_type": "stream",
       "stream": "stdout",
       "text": [
        "\n",
        "Optimization terminated successfully.\n",
        "         Current function value: 0.013547\n",
        "         Iterations: 12\n",
        "         Function evaluations: 28\n",
        "[0.068688524590163946, -0.11190246126819758]"
       ]
      },
      {
       "output_type": "stream",
       "stream": "stdout",
       "text": [
        "\n"
       ]
      },
      {
       "javascript": [
        "$('div#bbb0df5e-4c04-48ee-bc23-9338cd6f4ffc').width('33.33%')"
       ],
       "metadata": {},
       "output_type": "display_data",
       "text": [
        "<IPython.core.display.Javascript at 0x7fc8a0d09a90>"
       ]
      },
      {
       "output_type": "stream",
       "stream": "stdout",
       "text": [
        "[-0.12516393442622953, -0.2890712341288264]\n",
        "[-0.18316393442622952, -0.39307802816875714]"
       ]
      },
      {
       "output_type": "stream",
       "stream": "stdout",
       "text": [
        "\n",
        "[0.02083606557377049, -0.20029638951517903]"
       ]
      },
      {
       "output_type": "stream",
       "stream": "stdout",
       "text": [
        "\n",
        "[0.19983606557377048, -0.13486088303925126]"
       ]
      },
      {
       "output_type": "stream",
       "stream": "stdout",
       "text": [
        "\n",
        "[0.21083606557377049, -0.14621636703612939]"
       ]
      },
      {
       "output_type": "stream",
       "stream": "stdout",
       "text": [
        "\n",
        "[0.11083606557377046, -0.1753609105541063]"
       ]
      },
      {
       "output_type": "stream",
       "stream": "stdout",
       "text": [
        "\n",
        "[-0.014163934426229513, -0.24757401519132749]"
       ]
      },
      {
       "output_type": "stream",
       "stream": "stdout",
       "text": [
        "\n",
        "[0.084836065573770492, -0.18476815817152303]"
       ]
      },
      {
       "output_type": "stream",
       "stream": "stdout",
       "text": [
        "\n",
        "[-0.0081639344262295077, -0.20584153780114978]"
       ]
      },
      {
       "output_type": "stream",
       "stream": "stdout",
       "text": [
        "\n",
        "[0.07183606557377048, -0.19215573353758586]"
       ]
      },
      {
       "output_type": "stream",
       "stream": "stdout",
       "text": [
        "\n",
        "[0.056836065573770467, -0.19040271904818784]"
       ]
      },
      {
       "output_type": "stream",
       "stream": "stdout",
       "text": [
        "\n",
        "[0.047836065573770459, -0.18839479154646899]"
       ]
      },
      {
       "output_type": "stream",
       "stream": "stdout",
       "text": [
        "\n",
        "[0.069836065573770478, -0.17517170084463185]"
       ]
      },
      {
       "output_type": "stream",
       "stream": "stdout",
       "text": [
        "\n",
        "[0.13283606557377048, -0.15164372081550948]"
       ]
      },
      {
       "output_type": "stream",
       "stream": "stdout",
       "text": [
        "\n",
        "[0.079836065573770487, -0.16953210152664333]"
       ]
      },
      {
       "output_type": "stream",
       "stream": "stdout",
       "text": [
        "\n",
        "[0.047836065573770459, -0.20245378031051331]"
       ]
      },
      {
       "output_type": "stream",
       "stream": "stdout",
       "text": [
        "\n",
        "[0.096836065573770502, -0.18293594768048749]"
       ]
      },
      {
       "output_type": "stream",
       "stream": "stdout",
       "text": [
        "\n",
        "[0.062836065573770472, -0.18711208717943961]"
       ]
      },
      {
       "output_type": "stream",
       "stream": "stdout",
       "text": [
        "\n",
        "[0.059836065573770469, -0.20699302589638791]"
       ]
      },
      {
       "output_type": "stream",
       "stream": "stdout",
       "text": [
        "\n",
        "[0.077836065573770485, -0.19128615534758353]"
       ]
      },
      {
       "output_type": "stream",
       "stream": "stdout",
       "text": [
        "\n",
        "[0.07183606557377048, -0.1968359660957244]"
       ]
      },
      {
       "output_type": "stream",
       "stream": "stdout",
       "text": [
        "\n",
        "[0.049836065573770461, -0.18384755305936817]"
       ]
      },
      {
       "output_type": "stream",
       "stream": "stdout",
       "text": [
        "\n",
        "[0.10283606557377051, -0.1981134651223071]"
       ]
      },
      {
       "output_type": "stream",
       "stream": "stdout",
       "text": [
        "\n",
        "[0.08283606557377049, -0.2031518990763832]"
       ]
      },
      {
       "output_type": "stream",
       "stream": "stdout",
       "text": [
        "\n",
        "[0.083836065573770491, -0.18759048997077787]"
       ]
      },
      {
       "output_type": "stream",
       "stream": "stdout",
       "text": [
        "\n",
        "[0.065836065573770475, -0.1857048002891446]"
       ]
      },
      {
       "output_type": "stream",
       "stream": "stdout",
       "text": [
        "\n",
        "[0.095836065573770501, -0.19287529784131241]"
       ]
      },
      {
       "output_type": "stream",
       "stream": "stdout",
       "text": [
        "\n",
        "[0.097836065573770503, -0.18523243029863412]"
       ]
      },
      {
       "output_type": "stream",
       "stream": "stdout",
       "text": [
        "\n",
        "[0.075836065573770484, -0.17412644277191358]"
       ]
      },
      {
       "output_type": "stream",
       "stream": "stdout",
       "text": [
        "\n",
        "Optimization terminated successfully.\n",
        "         Current function value: 0.035115\n",
        "         Iterations: 12\n",
        "         Function evaluations: 29\n",
        "[0.070836065573770479, -0.19100988262456742]"
       ]
      },
      {
       "output_type": "stream",
       "stream": "stdout",
       "text": [
        "\n"
       ]
      },
      {
       "javascript": [
        "$('div#bbb0df5e-4c04-48ee-bc23-9338cd6f4ffc').width('50.00%')"
       ],
       "metadata": {},
       "output_type": "display_data",
       "text": [
        "<IPython.core.display.Javascript at 0x7fc8a0bfa050>"
       ]
      },
      {
       "output_type": "stream",
       "stream": "stdout",
       "text": [
        "[0.07857377049180328, -0.19796206236816438]\n",
        "[0.010573770491803275, -0.30455847240965106]"
       ]
      },
      {
       "output_type": "stream",
       "stream": "stdout",
       "text": [
        "\n",
        "[0.21057377049180326, -0.10380967729160506]"
       ]
      },
      {
       "output_type": "stream",
       "stream": "stdout",
       "text": [
        "\n",
        "[0.16857377049180328, -0.15629696820869743]"
       ]
      },
      {
       "output_type": "stream",
       "stream": "stdout",
       "text": [
        "\n",
        "[0.03657377049180327, -0.24107074986838839]"
       ]
      },
      {
       "output_type": "stream",
       "stream": "stdout",
       "text": [
        "\n",
        "[0.16057377049180327, -0.17849759634058859]"
       ]
      },
      {
       "output_type": "stream",
       "stream": "stdout",
       "text": [
        "\n",
        "[0.14357377049180325, -0.16598639052535447]"
       ]
      },
      {
       "output_type": "stream",
       "stream": "stdout",
       "text": [
        "\n",
        "[0.073573770491803275, -0.2118775506619528]"
       ]
      },
      {
       "output_type": "stream",
       "stream": "stdout",
       "text": [
        "\n",
        "[0.09457377049180328, -0.1863129581364813]"
       ]
      },
      {
       "output_type": "stream",
       "stream": "stdout",
       "text": [
        "\n",
        "[0.12557377049180329, -0.17515184064700762]"
       ]
      },
      {
       "output_type": "stream",
       "stream": "stdout",
       "text": [
        "\n",
        "[0.10157377049180329, -0.19040878509145021]"
       ]
      },
      {
       "output_type": "stream",
       "stream": "stdout",
       "text": [
        "\n",
        "[0.10957377049180327, -0.19301554781211649]"
       ]
      },
      {
       "output_type": "stream",
       "stream": "stdout",
       "text": [
        "\n",
        "[0.1285737704918033, -0.17513511424318384]"
       ]
      },
      {
       "output_type": "stream",
       "stream": "stdout",
       "text": [
        "\n",
        "[0.12457377049180328, -0.18109872927166037]"
       ]
      },
      {
       "output_type": "stream",
       "stream": "stdout",
       "text": [
        "\n",
        "[0.10457377049180329, -0.17809957583864477]"
       ]
      },
      {
       "output_type": "stream",
       "stream": "stdout",
       "text": [
        "\n",
        "[0.093573770491803279, -0.1887099446225422]"
       ]
      },
      {
       "output_type": "stream",
       "stream": "stdout",
       "text": [
        "\n",
        "[0.11357377049180327, -0.19075747444982394]"
       ]
      },
      {
       "output_type": "stream",
       "stream": "stdout",
       "text": [
        "\n",
        "[0.11157377049180327, -0.18301913182577323]"
       ]
      },
      {
       "output_type": "stream",
       "stream": "stdout",
       "text": [
        "\n",
        "[0.12157377049180328, -0.19944725928839624]"
       ]
      },
      {
       "output_type": "stream",
       "stream": "stdout",
       "text": [
        "\n",
        "[0.093573770491803279, -0.18617554095281719]"
       ]
      },
      {
       "output_type": "stream",
       "stream": "stdout",
       "text": [
        "\n",
        "[0.11757377049180327, -0.17733423058411368]"
       ]
      },
      {
       "output_type": "stream",
       "stream": "stdout",
       "text": [
        "\n",
        "[0.10957377049180327, -0.19239638893361111]"
       ]
      },
      {
       "output_type": "stream",
       "stream": "stdout",
       "text": [
        "\n",
        "[0.09457377049180328, -0.17969986973234864]"
       ]
      },
      {
       "output_type": "stream",
       "stream": "stdout",
       "text": [
        "\n",
        "Optimization terminated successfully.\n",
        "         Current function value: 0.041236\n",
        "         Iterations: 9\n",
        "         Function evaluations: 23\n",
        "[0.11157377049180327, -0.18229313650961387]"
       ]
      },
      {
       "output_type": "stream",
       "stream": "stdout",
       "text": [
        "\n"
       ]
      },
      {
       "javascript": [
        "$('div#bbb0df5e-4c04-48ee-bc23-9338cd6f4ffc').width('66.67%')"
       ],
       "metadata": {},
       "output_type": "display_data",
       "text": [
        "<IPython.core.display.Javascript at 0x7fc8a0c1ecd0>"
       ]
      },
      {
       "output_type": "stream",
       "stream": "stdout",
       "text": [
        "[0.12468593615185505, -0.15749512730712301]\n",
        "[0.051685936151855051, -0.2673777383717395]"
       ]
      },
      {
       "output_type": "stream",
       "stream": "stdout",
       "text": [
        "\n",
        "[0.26868593615185504, -0.076773968525857939]"
       ]
      },
      {
       "output_type": "stream",
       "stream": "stdout",
       "text": [
        "\n",
        "[0.082685936151855044, -0.21538760526613032]"
       ]
      },
      {
       "output_type": "stream",
       "stream": "stdout",
       "text": [
        "\n",
        "[0.20368593615185504, -0.12195037148251942]"
       ]
      },
      {
       "output_type": "stream",
       "stream": "stdout",
       "text": [
        "\n",
        "[0.095685936151855056, -0.1893498664320088]"
       ]
      },
      {
       "output_type": "stream",
       "stream": "stdout",
       "text": [
        "\n",
        "[0.15268593615185505, -0.1387676995676399]"
       ]
      },
      {
       "output_type": "stream",
       "stream": "stdout",
       "text": [
        "\n",
        "[0.13468593615185506, -0.15973620015248979]"
       ]
      },
      {
       "output_type": "stream",
       "stream": "stdout",
       "text": [
        "\n",
        "[0.093685936151855054, -0.16686691496613104]"
       ]
      },
      {
       "output_type": "stream",
       "stream": "stdout",
       "text": [
        "\n",
        "[0.10168593615185505, -0.19249177545512719]"
       ]
      },
      {
       "output_type": "stream",
       "stream": "stdout",
       "text": [
        "\n",
        "[0.12768593615185506, -0.16228069080476981]"
       ]
      },
      {
       "output_type": "stream",
       "stream": "stdout",
       "text": [
        "\n",
        "[0.13268593615185506, -0.16430121186782909]"
       ]
      },
      {
       "output_type": "stream",
       "stream": "stdout",
       "text": [
        "\n",
        "[0.11568593615185505, -0.16691375532089925]"
       ]
      },
      {
       "output_type": "stream",
       "stream": "stdout",
       "text": [
        "\n",
        "[0.11168593615185506, -0.16232156075076265]"
       ]
      },
      {
       "output_type": "stream",
       "stream": "stdout",
       "text": [
        "\n",
        "[0.10868593615185505, -0.1736199278124424]"
       ]
      },
      {
       "output_type": "stream",
       "stream": "stdout",
       "text": [
        "\n",
        "[0.11368593615185504, -0.18249793899436817]"
       ]
      },
      {
       "output_type": "stream",
       "stream": "stdout",
       "text": [
        "\n",
        "[0.11468593615185504, -0.16859664408366903]"
       ]
      },
      {
       "output_type": "stream",
       "stream": "stdout",
       "text": [
        "\n",
        "[0.11668593615185505, -0.1810518383698172]"
       ]
      },
      {
       "output_type": "stream",
       "stream": "stdout",
       "text": [
        "\n",
        "[0.10868593615185505, -0.18606637651593783]"
       ]
      },
      {
       "output_type": "stream",
       "stream": "stdout",
       "text": [
        "\n",
        "[0.13968593615185504, -0.16238922261061894]"
       ]
      },
      {
       "output_type": "stream",
       "stream": "stdout",
       "text": [
        "\n",
        "[0.11068593615185505, -0.16248790786327216]"
       ]
      },
      {
       "output_type": "stream",
       "stream": "stdout",
       "text": [
        "\n",
        "[0.11968593615185505, -0.16410496536656094]"
       ]
      },
      {
       "output_type": "stream",
       "stream": "stdout",
       "text": [
        "\n",
        "[0.098685936151855044, -0.17539159813026384]"
       ]
      },
      {
       "output_type": "stream",
       "stream": "stdout",
       "text": [
        "\n",
        "Optimization terminated successfully.\n",
        "         Current function value: 0.036622\n",
        "         Iterations: 9\n",
        "         Function evaluations: 23\n",
        "[0.10868593615185505, -0.15780256591841901]"
       ]
      },
      {
       "output_type": "stream",
       "stream": "stdout",
       "text": [
        "\n"
       ]
      },
      {
       "javascript": [
        "$('div#bbb0df5e-4c04-48ee-bc23-9338cd6f4ffc').width('83.33%')"
       ],
       "metadata": {},
       "output_type": "display_data",
       "text": [
        "<IPython.core.display.Javascript at 0x7fc8a0c0c7d0>"
       ]
      },
      {
       "output_type": "stream",
       "stream": "stdout",
       "text": [
        "----------------------------------------------------------------------------------------------------\n"
       ]
      },
      {
       "javascript": [
        "$('div#bbb0df5e-4c04-48ee-bc23-9338cd6f4ffc').width('83.33%')"
       ],
       "metadata": {},
       "output_type": "display_data",
       "text": [
        "<IPython.core.display.Javascript at 0x7fc8a1444210>"
       ]
      }
     ],
     "prompt_number": 49
    },
    {
     "cell_type": "code",
     "collapsed": false,
     "input": [
      "popt.values"
     ],
     "language": "python",
     "metadata": {},
     "outputs": [
      {
       "metadata": {},
       "output_type": "pyout",
       "prompt_number": 45,
       "text": [
        "{'v': 1.779550737205271}"
       ]
      }
     ],
     "prompt_number": 45
    },
    {
     "cell_type": "heading",
     "level": 3,
     "metadata": {},
     "source": [
      "Calculate Summary Stop Acc & RT Values"
     ]
    },
    {
     "cell_type": "code",
     "collapsed": false,
     "input": [
      "df=flat_pred.copy()\n",
      "\n",
      "stops_avg=df.groupby('pGo').mean()\n",
      "stops_sem=df.groupby('pGo').sem()\n",
      "\n",
      "dfrt=df.query('pGo>0')\n",
      "dfrt['rt_radd']=dfrt.loc[:,'rt_radd'].astype('float')\n",
      "rts_avg=dfrt.groupby('pGo').mean()\n",
      "rts_sem=dfrt.groupby('pGo').sem()\n",
      "\n",
      "yd=stops_avg['pstop_data']\n",
      "yh=stops_avg['pstop_radd']\n",
      "#yderr=stops_sem['pstop_data']\n",
      "#yherr=stops_sem['pstop_radd']\n",
      "\n",
      "\n",
      "rtd=rts_avg['rt_data']\n",
      "rth=rts_avg['rt_radd']\n",
      "#rtderr=rts_sem['rt_data']\n",
      "#rtherr=rts_sem['rt_radd']"
     ],
     "language": "python",
     "metadata": {},
     "outputs": [],
     "prompt_number": 46
    },
    {
     "cell_type": "heading",
     "level": 3,
     "metadata": {},
     "source": [
      "Plot Observed/Predicted Stop Curves/RT "
     ]
    },
    {
     "cell_type": "code",
     "collapsed": false,
     "input": [
      "import seaborn as sns\n",
      "psy=reload(psy)\n",
      "utils=reload(utils)\n",
      "\n",
      "sparams=utils.style_params()\n",
      "colors=sparams['colors']\n",
      "sns.set_style('ticks', rc=sparams['style'])\n",
      "sns.set_context('paper', rc=sparams['context'])\n",
      "\n",
      "stopmeans=[yd.values, yh.values]\n",
      "\n",
      "ax=psy.scurves(ysim=stopmeans, title='ProBSL_FlatDF', \n",
      "               colors=[colors[-8], colors[-1]], labels=['Data', 'RADD'], task='ssPro')"
     ],
     "language": "python",
     "metadata": {},
     "outputs": [
      {
       "metadata": {},
       "output_type": "display_data",
       "png": "[encoded data removed]",
       "text": [
        "<matplotlib.figure.Figure at 0x7fc8a0e10110>"
       ]
      }
     ],
     "prompt_number": 47
    },
    {
     "cell_type": "code",
     "collapsed": false,
     "input": [
      "#plot rt\n",
      "plt.close('all')\n",
      "f, ax=plt.subplots(1, figsize=(5, 3))\n",
      "\n",
      "ax.plot(rtd.keys(), rtd, color=colors[-8], label='Data')\n",
      "ax.plot(rtd.keys(), rth, color=colors[-1], label='RADD')\n",
      "plt.setp(ax, xlim=(.1, 1.1), ylim=(.5, .55), xticks=rtd.keys(), \n",
      "         xticklabels=rtd.keys(), xlabel='P(Go)')\n",
      "plt.setp(ax.get_yticklabels(), fontsize=17)\n",
      "ax.set_ylabel('RT (s)', fontsize=19, labelpad=8) \n",
      "ax.legend(loc=0, fontsize=17)\n",
      "plt.tight_layout()\n",
      "sns.despine()\n",
      "#f.savefig(pth+\"ProBSL_RT.png\", dpi=600)    "
     ],
     "language": "python",
     "metadata": {},
     "outputs": [
      {
       "metadata": {},
       "output_type": "display_data",
       "png": "[encoded data removed]",
       "text": [
        "<matplotlib.figure.Figure at 0x7fc8a11f6510>"
       ]
      }
     ],
     "prompt_number": 44
    },
    {
     "cell_type": "code",
     "collapsed": false,
     "input": [
      "pth=utils.find_path()\n",
      "pro=pd.read_csv(pth+\"Proactive/SS_v2p3_fullsummary.dat\", sep=\"\\t\")\n",
      "pro['RT_sec']=pro['RT'].copy()*.001\n",
      "pro=pro.rename(columns={'RT':'rt_msec', 'RT_sec':'rt', 'Keypress':'response'}, axis=1)\n",
      "\n",
      "pro.ix[pro['Cond']==1, 'Cond']='bsl'\n",
      "pro.ix[pro['Cond']==2, 'Cond']='pnl'\n",
      "pro_df=pro.copy()\n",
      "\n",
      "#pro_df=pro_df.query(\"rt < .550\")\n",
      "\n",
      "pro_sx=pro_df['SubID']\n",
      "pro_df['subj_idx']=[int(subj[1:]) for subj in pro_sx]\n",
      "\n",
      "pro_df['pGo']=1-pro_df['StopProb']\n",
      "pro_df['HiLo']=['x']*len(pro_df)\n",
      "pro_df['HML']=['x']*len(pro_df)\n",
      "pro_df['choice']=['x']*len(pro_df)\n",
      "\n",
      "pro_df.ix[(pro_df['response']==1), 'choice']='go'\n",
      "pro_df.ix[(pro_df['response']==0), 'choice']='stop'\n",
      "\n",
      "pro_df.ix[(pro_df['StopProb']==0.0)|(pro_df['StopProb']==0.2)|(pro_df['StopProb']==0.4), 'HiLo']='aHi'\n",
      "pro_df.ix[(pro_df['StopProb']==0.6)|(pro_df['StopProb']==0.8)|(pro_df['StopProb']==1.0), 'HiLo']='bLo'\n",
      "\n",
      "pro_df.ix[(pro_df['StopProb']==0.0)|(pro_df['StopProb']==0.2), 'HML']='bHi'\n",
      "pro_df.ix[(pro_df['StopProb']==0.4)|(pro_df['StopProb']==0.6), 'HML']='bMed'\n",
      "pro_df.ix[(pro_df['StopProb']==0.8)|(pro_df['StopProb']==1.0), 'HML']='cLo'\n",
      "\n",
      "pro_df=pro_df[['subj_idx', 'pGo', 'HiLo', 'HML', 'Cond', 'response', 'choice', 'rt']]\n",
      "bsl_df=pro_df.query('Cond==\"bsl\"')\n",
      "pnl_df=pro_df.query('Cond==\"pnl\"')\n",
      "pro_df.to_csv(pth+\"Proactive/Pro_AllData.csv\", index=False)"
     ],
     "language": "python",
     "metadata": {},
     "outputs": [],
     "prompt_number": 24
    }
   ],
   "metadata": {}
  }
 ]
}